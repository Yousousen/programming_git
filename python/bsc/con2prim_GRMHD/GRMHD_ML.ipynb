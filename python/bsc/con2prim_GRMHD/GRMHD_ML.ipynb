{
  "cells": [
    {
      "attachments": {},
      "cell_type": "markdown",
      "metadata": {
        "id": "TPvB1xoSUZhR"
      },
      "source": [
        "# Neural network to learn conservative-to-primitive conversion in relativistic hydrodynamics"
      ]
    },
    {
      "attachments": {},
      "cell_type": "markdown",
      "metadata": {},
      "source": [
        "## How to use this notebook\n",
        "\n",
        "### Local installation\n",
        "\n",
        "1. Install required packages with `pip install -r requirements.txt` to your desired environment.\n",
        "2. If a script version of this notebook is desired, comment (not uncomment) the first line of `nbconvert` cell.\n",
        "\n",
        "### Colab installation\n",
        "\n",
        "1.  Comment (not uncomment) the first line of the drive mounting cell.\n",
        "2.  Comment (not uncomment) the first line of the `pip install` cell.\n",
        "\n",
        "<!-- - For colab we also want to set the runtime to GPU by clicking _Change runtime_ in the _Runtime_ menu, and -->\n",
        "<!-- - We want to wait for the google drive connection popup to appear and follow the instructions. -->\n",
        "\n",
        "### Loading / Generating data\n",
        "3. Set `LOAD_DATA_FROM_CSV` to `True` / `False` to load data from csv files / generate data in this notebook.\n",
        "\n",
        "### Training without optimization\n",
        "\n",
        "4. Set `OPTIMIZE = False` in section _Constants and flags to set_.\n",
        "5. Run the entire notebook.\n",
        "\n",
        "### Training with optimization\n",
        "\n",
        "4. Set `OPTIMIZE = True` in section _Constants and flags to set_.\n",
        "5. Run the entire notebook.\n",
        "\n",
        "### Loading an already trained model\n",
        "\n",
        "4. Run cells in section _Initialization_.\n",
        "5. Run cells with definitions in section _Input data and labels_.\n",
        "6. Run cell with the definition of _Net_ in section _Defining the neural network_.\n",
        "7. Make sure the `net.pth`, `optimizer.pth`, `scheduler.pth`, `var_dict.json` and `train_output.csv` files are in the directory containing this notebook.\n",
        "8. Run the cells in section _Loading_ and continue from there.\n",
        "\n",
        "### Generating the C++ model\n",
        "\n",
        "9. Run section _Porting the model to C++_, this requires a model to be loaded.\n",
        "10. Set the path to the `net.pt` file in the C++ source file.\n",
        "11. `mkdir build && cd build`,\n",
        "12. Configure a `CMakeLists.txt` file as is done [here](https://pytorch.org/cppdocs/installing.html).\n",
        "13. `cmake -DCMAKE_PREFIX_PATH=/path/to/libtorch/ ..`,\n",
        "14. Compile and run, e.g. `cmake --build . --config release && ./<executable name>`"
      ]
    },
    {
      "attachments": {},
      "cell_type": "markdown",
      "metadata": {},
      "source": [
        "## Initialization"
      ]
    },
    {
      "attachments": {},
      "cell_type": "markdown",
      "metadata": {},
      "source": [
        "\n",
        "Use this first cell to **convert this notebook** to a python script."
      ]
    },
    {
      "cell_type": "code",
      "execution_count": 43,
      "metadata": {
        "colab": {
          "base_uri": "https://localhost:8080/"
        },
        "id": "eqdgdNLHUZhV",
        "outputId": "30907b9d-56c3-44d7-cd43-6387a991a46a",
        "tags": [
          "remove_cell"
        ]
      },
      "outputs": [
        {
          "name": "stdout",
          "output_type": "stream",
          "text": [
            "[NbConvertApp] Converting notebook GRMHD_ML.ipynb to script\n",
            "[NbConvertApp] Writing 75461 bytes to GRMHD_ML.py\n"
          ]
        }
      ],
      "source": [
        "#%%script echo skipping # NOTE: Set this before properly.\n",
        "\n",
        "!jupyter nbconvert GRMHD_ML.ipynb --TagRemovePreprocessor.enabled=True --TagRemovePreprocessor.remove_cell_tags='{\"remove_cell\"}' --to script"
      ]
    },
    {
      "attachments": {},
      "cell_type": "markdown",
      "metadata": {
        "id": "nzcUr0LnUZhw"
      },
      "source": [
        "Next some cells for working on **google colab**,"
      ]
    },
    {
      "cell_type": "code",
      "execution_count": 44,
      "metadata": {},
      "outputs": [],
      "source": [
        "import os\n",
        "import shutil\n",
        "\n",
        "# check if the drive is mounted\n",
        "drive_mounted = os.path.exists(\"/content/drive\")\n",
        "# change this to your desired folder\n",
        "drive_folder = \"/content/drive/My Drive/bsc/con2prim_GRMHD/1e5_runs/\" # NOTE: Set this before properly.\n",
        "\n",
        "# define a function to save a file to the drive or the current directory\n",
        "def save_file(file_name):\n",
        "  if drive_mounted:\n",
        "    # save the file to the drive folder\n",
        "    file_path = os.path.join(drive_folder, file_name)\n",
        "    # copy the file from the current directory to the drive folder\n",
        "    shutil.copyfile(file_name, file_path)\n",
        "  else:\n",
        "    # do nothing as the file is already in the current directory\n",
        "    pass\n"
      ]
    },
    {
      "cell_type": "code",
      "execution_count": 45,
      "metadata": {
        "colab": {
          "base_uri": "https://localhost:8080/"
        },
        "id": "ecHw2_xlUZhx",
        "outputId": "462a57cd-ee19-4961-d3aa-ff2407b2bde0"
      },
      "outputs": [
        {
          "name": "stdout",
          "output_type": "stream",
          "text": [
            "skipping # NOTE: Set this before properly.\n"
          ]
        }
      ],
      "source": [
        "%%script echo skipping # NOTE: Set this before properly.\n",
        "\n",
        "from google.colab import drive\n",
        "drive.mount('/content/drive')"
      ]
    },
    {
      "cell_type": "code",
      "execution_count": 46,
      "metadata": {
        "colab": {
          "base_uri": "https://localhost:8080/"
        },
        "id": "T1rcStMLUZhy",
        "outputId": "7ea7311f-f054-4a29-d0ff-12849095ab6e"
      },
      "outputs": [
        {
          "name": "stdout",
          "output_type": "stream",
          "text": [
            "skipping # NOTE: Set this before properly.\n"
          ]
        }
      ],
      "source": [
        "%%script echo skipping # NOTE: Set this before properly.\n",
        "\n",
        "!pip install optuna optuna[visualization] tensorboard tensorboardX plotly"
      ]
    },
    {
      "attachments": {},
      "cell_type": "markdown",
      "metadata": {},
      "source": [
        "Importing the **libraries**,"
      ]
    },
    {
      "cell_type": "code",
      "execution_count": 47,
      "metadata": {
        "id": "tREdWQUVUZhz"
      },
      "outputs": [],
      "source": [
        "import numpy as np\n",
        "import matplotlib.pyplot as plt\n",
        "import torch\n",
        "import torch.nn as nn\n",
        "import torch.optim as optim\n",
        "import torch.nn.functional as F\n",
        "import optuna\n",
        "import optuna.visualization as ov\n",
        "import tensorboardX as tbx\n",
        "import pandas as pd\n",
        "import pickle\n",
        "import json\n",
        "import pandas as pd\n"
      ]
    },
    {
      "attachments": {},
      "cell_type": "markdown",
      "metadata": {
        "id": "38GvmerjUZhz"
      },
      "source": [
        "### Constants and flags to set\n",
        "Defining some constants and parameters for convenience.\n",
        "\n",
        "**NOTE**: Some **subparameters** still need to be adjusted in the `create_model` function itself as of (Tue May 16 07:42:45 AM CEST 2023) in the case the model is being trained without optimization."
      ]
    },
    {
      "cell_type": "code",
      "execution_count": 48,
      "metadata": {
        "id": "ei6VZDYKUZh0"
      },
      "outputs": [],
      "source": [
        "\n",
        "# Checking if GPU is available and setting the device accordingly\n",
        "device = torch.device(\"cuda\" if torch.cuda.is_available() else \"cpu\")\n",
        "\n",
        "N_TRIALS = 5 # Number of trials for hyperparameter optimization # NOTE: Set this properly.\n",
        "OPTIMIZE = True # Whether to optimize the hyperparameters or to use predetermined values. # NOTE: Set this properly.\n",
        "ZSCORE_NORMALIZATION = False # Whether to z-score normalize the input data.\n",
        "LOAD_DATA_FROM_CSV = False  # If not true we generate the data in this file and save to {x_train,y_train,x_test,y_test}.csv, otherwise we load the data from files of the same name. # NOTE: Set this before properly.\n",
        "#STUDY_NAME = None\n",
        "STUDY_NAME = \"TestStudy\" # NOTE: Set this before properly\n",
        "\n",
        "csv_filenames = { # File names to load input data and labels from if LOAD_DATA_FROM_CSV is True.\n",
        "    \"x_train\": \"x_train.csv\",\n",
        "    \"x_val\": \"x_val.csv\",\n",
        "    \"x_test\": \"x_test.csv\",\n",
        "    \"y_train\": \"y_train.csv\",\n",
        "    \"y_val\": \"y_val.csv\",\n",
        "    \"y_test\": \"y_test.csv\",\n",
        "}\n",
        "\n",
        "# Values to use for hyperparameters if OPTIMIZE is False; set these to the best parameters found by Optuna.\n",
        "# NOTE: TODO: Currently (Sat May 27 05:16:57 PM CEST 2023) there are still subparameters to be set in create_model function.\n",
        "N_LAYERS_NO_OPT = 3\n",
        "N_UNITS_NO_OPT = [555, 458, 115]\n",
        "HIDDEN_ACTIVATION_NAME_NO_OPT = \"LeakyReLU\"\n",
        "OUTPUT_ACTIVATION_NAME_NO_OPT = \"Linear\"\n",
        "LOSS_NAME_NO_OPT = \"Huber\"\n",
        "OPTIMIZER_NAME_NO_OPT = \"RMSprop\"\n",
        "LR_NO_OPT = 0.000122770896701404\n",
        "BATCH_SIZE_NO_OPT = 49\n",
        "N_EPOCHS_NO_OPT = 2 # NOTE: Set this properly.\n",
        "SCHEDULER_NAME_NO_OPT = \"ReduceLROnPlateau\"\n",
        "DROPOUT_RATE_NO_OPT = 0.2\n",
        "\n",
        "N_INPUTS = 14  # Number of input features.\n",
        "N_OUTPUTS = 1  # Number of outputs.\n",
        "Gamma = 5/3  # Adiabatic index\n",
        "\n",
        "n_samples = 1e1 # NOTE: Set this properly.\n",
        "train_frac = 0.7  # 70% of data for training\n",
        "val_frac = 0.15  # 15% of data for validation, rest for testing\n",
        "\n",
        "rho_interval = (0, 2) \n",
        "epsilon_interval = (1e-2, 2000)  # Will be sampled in log space\n",
        "vx_interval = (0, 0.999)  \n",
        "vy_interval = (0, 0.999)  \n",
        "vz_interval = (0, 0.999)  \n",
        "Bx_interval = (-10, 10)  \n",
        "By_interval = (-10, 10)  \n",
        "Bz_interval = (-10, 10)  \n",
        "gxx_interval = (0.9, 1.1)\n",
        "gxy_interval = (0, 0.1)\n",
        "gxz_interval = (0, 0.1)\n",
        "gyy_interval = (0.9, 1.1)\n",
        "gyz_interval = (0, 0.1)\n",
        "gzz_interval = (0.9, 1.1)\n",
        "\n",
        "np.random.seed(70) # Comment for true random data.\n"
      ]
    },
    {
      "attachments": {},
      "cell_type": "markdown",
      "metadata": {
        "id": "dlaP5UL2UZh1"
      },
      "source": [
        "## Input data and labels\n",
        "\n",
        "We either generate the data or load the data. First the definitions for generating the data come below."
      ]
    },
    {
      "cell_type": "code",
      "execution_count": 49,
      "metadata": {
        "id": "s_EvGFZcUZh1"
      },
      "outputs": [],
      "source": [
        "# Defining an analytic equation of state (EOS) for an ideal gas\n",
        "def eos_analytic(rho, epsilon):\n",
        "    # Adding some assertions to check that the input tensors are valid and have \n",
        "    # the expected shape and type \n",
        "    assert isinstance(rho, torch.Tensor), \"rho must be a torch.Tensor\"\n",
        "    assert isinstance(epsilon, torch.Tensor), \"epsilon must be a torch.Tensor\"\n",
        "    print('rho.shape: ', rho.shape)\n",
        "    print('epsilon.shape: ', epsilon.shape)\n",
        "    assert rho.shape == epsilon.shape, \"rho and epsilon must have the same shape\"\n",
        "    assert rho.ndim == 1, \"rho and epsilon must be one-dimensional tensors\"\n",
        "    assert rho.dtype == torch.float32, \"rho and epsilon must have dtype torch.float32\"\n",
        "\n",
        "    return (Gamma - 1) * rho * epsilon\n",
        "\n",
        "def sample_primitive_variables_and_metric():\n",
        "    rho = np.random.uniform(*rho_interval)  \n",
        "    epsilon = np.random.uniform(*np.log10(epsilon_interval))\n",
        "    vx = np.random.uniform(*vx_interval)  \n",
        "    vy = np.random.uniform(*vy_interval)  \n",
        "    vz = np.random.uniform(*vz_interval)  \n",
        "    Bx = np.random.uniform(*Bx_interval)  \n",
        "    By = np.random.uniform(*By_interval)  \n",
        "    Bz = np.random.uniform(*Bz_interval)  \n",
        "    gxx = np.random.uniform(*gxx_interval)\n",
        "    gxy = np.random.uniform(*gxy_interval)\n",
        "    gxz = np.random.uniform(*gxz_interval)\n",
        "    gyy = np.random.uniform(*gyy_interval)\n",
        "    gyz = np.random.uniform(*gyz_interval)\n",
        "    gzz = np.random.uniform(*gzz_interval)\n",
        "\n",
        "    return rho, epsilon, vx, vy, vz, Bx, By, Bz, gxx, gxy, gxz, gyy, gyz, gzz\n",
        "\n",
        "def check_sample(rho, epsilon, vx, vy, vz, Bx, By, Bz, gxx, gxy, gxz, gyy, gyz, gzz):\n",
        "    wtemp_expr = 1 - (gxx * vx**2 + gyy * vy**2 + gzz * vz**2 + 2 * gxy * vx * vy + 2 * gxz * vx * vz + 2 * gyz * vy * vz)\n",
        "    sdet_expr = gxx * gyy * gzz + 2 * gxy * gxz * gyz - gxx * gyz ** 2 - gyy * gxz ** 2 - gzz * gxy ** 2\n",
        "    if vx**2 + vy**2 + vz**2 >= 1 or wtemp_expr < 0 or sdet_expr < 0:\n",
        "        # print(f\"Sample failed checks. vx^2+vy^2+vz^2: {vx**2 + vy**2 + vz**2}, wtemp_expr: {wtemp_expr}, sdet_expr: {sdet_expr}\")\n",
        "        return False\n",
        "    else:\n",
        "        # print(f\"Sample passed checks. vx^2+vy^2+vz^2: {vx**2 + vy**2 + vz**2}, wtemp_expr: {wtemp_expr}, sdet_expr: {sdet_expr}\")\n",
        "        return True\n",
        "\n",
        "def generate_samples(n_samples):\n",
        "    samples = []\n",
        "    while len(samples) < n_samples:\n",
        "        sample = sample_primitive_variables_and_metric()\n",
        "        if check_sample(*sample):\n",
        "            samples.append(sample)\n",
        "        # print(f\"Number of valid samples: {len(samples)}\")\n",
        "    return zip(*samples)\n",
        "def sdet(gxx, gxy, gxz, gyy, gyz, gzz):\n",
        "    # Determinant of the three metric.\n",
        "    return (gxx * gyy * gzz + 2 * gxy * gxz * gyz - gxx * gyz ** 2 - gyy * gxz ** 2 - gzz * gxy ** 2) ** 0.5\n",
        "\n",
        "# Defining a function that computes conserved variables from primitive variables and the metric\n",
        "# We follow the source code of GRaM-X: A new GPU-accelerated dynamical spacetime GRMHD code for Exascale\n",
        "# computing with the Einstein Toolkit of Shankar et al.\n",
        "def compute_conserved_variables(rho, epsilon, vx, vy, vz, Bx, By, Bz, gxx, gxy, gxz, gyy, gyz, gzz):\n",
        "    pres = eos_analytic(rho, epsilon)\n",
        "    wtemp = 1 / (1 - (gxx * vx**2 + gyy * vy**2 + gzz * vz**2 +\n",
        "        2 * gxy * vx * vy + 2 * gxz * vx * vz +\n",
        "        2 * gyz * vy * vz))**0.5\n",
        "\n",
        "    vlowx = gxx * vx + gxy * vy + gxz * vz\n",
        "    vlowy = gxy * vx + gyy * vy + gyz * vz\n",
        "    vlowz = gxz * vx + gyz * vy + gzz * vz\n",
        "\n",
        "    Bxlow = gxx * Bx + gxy * By + gxz * Bz\n",
        "    Bylow = gxy * Bx + gyy * By + gyz * Bz\n",
        "    Bzlow = gxz * Bx + gyz * By + gzz * Bz\n",
        "\n",
        "    B2 = Bxlow * Bx + Bylow * By + Bzlow * Bz\n",
        "\n",
        "    Bdotv = Bxlow * vx + Bylow * vy + Bzlow * vz\n",
        "    Bdotv2 = Bdotv * Bdotv\n",
        "    wtemp2 = wtemp * wtemp\n",
        "    b2 = B2 / wtemp2 + Bdotv2\n",
        "    ab0 = wtemp * Bdotv\n",
        "\n",
        "    blowx = (gxx * Bx + gxy * By + gxz * Bz) / wtemp + wtemp * Bdotv * vlowx\n",
        "    blowy = (gxy * Bx + gyy * By + gyz * Bz) / wtemp + wtemp * Bdotv * vlowy\n",
        "    blowz = (gxz * Bx + gyz * By + gzz * Bz) / wtemp + wtemp * Bdotv * vlowz\n",
        "\n",
        "    hrhow2 = (rho * (1 + epsilon) + pres + b2) * (wtemp) * (wtemp)\n",
        "\n",
        "    D = sdet(gxx, gxy, gxz, gyy, gyz, gzz) * rho * (wtemp)\n",
        "    Sx = sdet(gxx, gxy, gxz, gyy, gyz, gzz) * (hrhow2 * vlowx - ab0 * blowx)\n",
        "    Sy = sdet(gxx, gxy, gxz, gyy, gyz, gzz) * (hrhow2 * vlowy - ab0 * blowy)\n",
        "    Sz = sdet(gxx, gxy, gxz, gyy, gyz, gzz) * (hrhow2 * vlowz - ab0 * blowz)\n",
        "    tau = sdet(gxx, gxy, gxz, gyy, gyz, gzz) * (hrhow2 - pres - b2 / 2 - ab0 * ab0) - D\n",
        "    Bconsx = sdet(gxx, gxy, gxz, gyy, gyz, gzz) * Bx\n",
        "    Bconsy = sdet(gxx, gxy, gxz, gyy, gyz, gzz) * By\n",
        "    Bconsz = sdet(gxx, gxy, gxz, gyy, gyz, gzz) * Bz\n",
        "\n",
        "    return D, Sx, Sy, Sz, tau, Bconsx, Bconsy, Bconsz\n",
        "\n",
        "def generate_input_data(rho, epsilon, vx, vy, vz, Bx, By, Bz, gxx, gxy, gxz, gyy, gyz, gzz):\n",
        "    rho = torch.tensor(np.array(rho), dtype=torch.float32).to(device)\n",
        "    epsilon = torch.tensor(np.array(epsilon), dtype=torch.float32).to(device)\n",
        "    vx = torch.tensor(np.array(vx), dtype=torch.float32).to(device)\n",
        "    vy = torch.tensor(np.array(vy), dtype=torch.float32).to(device)\n",
        "    vz = torch.tensor(np.array(vz), dtype=torch.float32).to(device)\n",
        "    Bx = torch.tensor(np.array(Bx), dtype=torch.float32).to(device)\n",
        "    By = torch.tensor(np.array(By), dtype=torch.float32).to(device)\n",
        "    Bz = torch.tensor(np.array(Bz), dtype=torch.float32).to(device)\n",
        "    gxx = torch.tensor(np.array(gxx), dtype=torch.float32).to(device)\n",
        "    gxy = torch.tensor(np.array(gxy), dtype=torch.float32).to(device)\n",
        "    gxz = torch.tensor(np.array(gxz), dtype=torch.float32).to(device)\n",
        "    gyy = torch.tensor(np.array(gyy), dtype=torch.float32).to(device)\n",
        "    gyz = torch.tensor(np.array(gyz), dtype=torch.float32).to(device)\n",
        "    gzz = torch.tensor(np.array(gzz), dtype=torch.float32).to(device)\n",
        "\n",
        "    D, Sx, Sy, Sz, tau, Bscriptx, Bscripty, Bscriptz = compute_conserved_variables(\n",
        "        rho, epsilon, vx, vy, vz, Bx, By, Bz, gxx, gxy, gxz, gyy, gyz, gzz\n",
        "    ) \n",
        "\n",
        "    # Add gxx, gxy, gxz, gyy, gyz, gzz to the tensor\n",
        "    x = torch.stack([D, Sx, Sy, Sz, tau, Bscriptx, Bscripty, Bscriptz, gxx, gxy, gxz, gyy, gyz, gzz], axis=1)\n",
        "    return x\n",
        "\n",
        "# Defining a function that generates output data (labels) from given samples of primitive variables\n",
        "# We use the definitions as given in Recovery schemes for primitive variables in\n",
        "# general-relativistic magnetohydrodynamics of Siegel et al.\n",
        "def generate_labels(rho, epsilon, vx, vy, vz):\n",
        "    # Converting the numpy arrays to torch tensors and moving them to the device\n",
        "    rho = torch.tensor(np.array(rho), dtype=torch.float32).to(device)\n",
        "    epsilon = torch.tensor(np.array(epsilon), dtype=torch.float32).to(device)\n",
        "    vx = torch.tensor(np.array(vx), dtype=torch.float32).to(device)\n",
        "    vy = torch.tensor(np.array(vy), dtype=torch.float32).to(device)\n",
        "    vz = torch.tensor(np.array(vz), dtype=torch.float32).to(device)\n",
        "\n",
        "    # Computing the required quantities\n",
        "    pres = eos_analytic(rho, epsilon)\n",
        "    h = 1 + epsilon + pres / rho\n",
        "    W = 1 / torch.sqrt(1 - (vx * vx + vy * vy + vz * vz))\n",
        "\n",
        "    # Returning the output data tensor\n",
        "    return h * W"
      ]
    },
    {
      "attachments": {},
      "cell_type": "markdown",
      "metadata": {},
      "source": [
        "### Generating or loading input data and labels"
      ]
    },
    {
      "cell_type": "code",
      "execution_count": 50,
      "metadata": {},
      "outputs": [],
      "source": [
        "%config InteractiveShell.ast_node_interactivity = \"all\""
      ]
    },
    {
      "cell_type": "code",
      "execution_count": 51,
      "metadata": {
        "id": "cKubR6C8UZh4"
      },
      "outputs": [],
      "source": [
        "if LOAD_DATA_FROM_CSV:\n",
        "    # Load the data from CSV files\n",
        "    x_train = pd.read_csv(csv_filenames[\"x_train\"]).values\n",
        "    y_train = pd.read_csv(csv_filenames[\"y_train\"]).values.squeeze()  # reshape to 1D\n",
        "    x_val = pd.read_csv(csv_filenames[\"x_val\"]).values\n",
        "    y_val = pd.read_csv(csv_filenames[\"y_val\"]).values.squeeze()  # reshape to 1D\n",
        "    x_test = pd.read_csv(csv_filenames[\"x_test\"]).values\n",
        "    y_test = pd.read_csv(csv_filenames[\"y_test\"]).values.squeeze()  # reshape to 1D\n",
        "\n",
        "    # Convert numpy arrays to tensors\n",
        "    x_train = torch.from_numpy(x_train).float().to(device)\n",
        "    y_train = torch.from_numpy(y_train).float().to(device)\n",
        "    x_val = torch.from_numpy(x_val).float().to(device)\n",
        "    y_val = torch.from_numpy(y_val).float().to(device)\n",
        "    x_test = torch.from_numpy(x_test).float().to(device)\n",
        "    y_test = torch.from_numpy(y_test).float().to(device)\n",
        "\n",
        "    # This is an alternative to having if clauses around the cells that visualize these variables.\n",
        "    rho = epsilon = vx = vy = vz = Bx = By = Bz = gxx = gxy = gxz = gyy = gyz  = gzz = None"
      ]
    },
    {
      "cell_type": "code",
      "execution_count": 52,
      "metadata": {},
      "outputs": [],
      "source": [
        "if not LOAD_DATA_FROM_CSV:\n",
        "    # Sample primitive variables and metric\n",
        "    rho, epsilon, vx, vy, vz, Bx, By, Bz, gxx, gxy, gxz, gyy, gyz, gzz = generate_samples(n_samples)"
      ]
    },
    {
      "cell_type": "code",
      "execution_count": 53,
      "metadata": {},
      "outputs": [
        {
          "name": "stdout",
          "output_type": "stream",
          "text": [
            "rho.shape:  torch.Size([10])\n",
            "epsilon.shape:  torch.Size([10])\n",
            "rho.shape:  torch.Size([10])\n",
            "epsilon.shape:  torch.Size([10])\n"
          ]
        }
      ],
      "source": [
        "if not LOAD_DATA_FROM_CSV:\n",
        "    # Generate data and labels.\n",
        "    x = generate_input_data(rho, epsilon, vx, vy, vz, Bx, By, Bz, gxx, gxy, gxz, gyy, gyz, gzz)\n",
        "    y = generate_labels(rho, epsilon, vx, vy, vz)\n",
        "\n",
        "    # Calculate the number of samples in each set\n",
        "    n_train_samples = int(n_samples * train_frac)\n",
        "    n_val_samples = int(n_samples * val_frac)\n",
        "\n",
        "    # Create the data sets\n",
        "    x_train = x[:n_train_samples]\n",
        "    y_train = y[:n_train_samples]\n",
        "    x_val = x[n_train_samples : n_train_samples + n_val_samples]\n",
        "    y_val = y[n_train_samples : n_train_samples + n_val_samples]\n",
        "    x_test = x[n_train_samples + n_val_samples :]\n",
        "    y_test = y[n_train_samples + n_val_samples :]\n",
        "\n",
        "    # Save the data to CSV files; tensors need to be converted numpy arrays for saving in CSV.\n",
        "    pd.DataFrame(x_train.cpu().numpy()).to_csv(csv_filenames[\"x_train\"], index=False)\n",
        "    save_file(csv_filenames[\"x_train\"])\n",
        "    pd.DataFrame(y_train.cpu().numpy()).to_csv(csv_filenames[\"y_train\"], index=False)\n",
        "    save_file(csv_filenames[\"y_train\"])\n",
        "\n",
        "    pd.DataFrame(x_val.cpu().numpy()).to_csv(csv_filenames[\"x_val\"], index=False)\n",
        "    save_file(csv_filenames[\"x_val\"])\n",
        "    pd.DataFrame(y_val.cpu().numpy()).to_csv(csv_filenames[\"y_val\"], index=False)\n",
        "    save_file(csv_filenames[\"y_val\"])\n",
        "\n",
        "    pd.DataFrame(x_test.cpu().numpy()).to_csv(csv_filenames[\"x_test\"], index=False)\n",
        "    save_file(csv_filenames[\"x_test\"])\n",
        "    pd.DataFrame(y_test.cpu().numpy()).to_csv(csv_filenames[\"y_test\"], index=False)\n",
        "    save_file(csv_filenames[\"y_test\"])"
      ]
    },
    {
      "cell_type": "code",
      "execution_count": 54,
      "metadata": {},
      "outputs": [
        {
          "data": {
            "text/plain": [
              "torch.Size([7, 14])"
            ]
          },
          "execution_count": 54,
          "metadata": {},
          "output_type": "execute_result"
        },
        {
          "data": {
            "text/plain": [
              "torch.Size([7])"
            ]
          },
          "execution_count": 54,
          "metadata": {},
          "output_type": "execute_result"
        },
        {
          "data": {
            "text/plain": [
              "torch.Size([1, 14])"
            ]
          },
          "execution_count": 54,
          "metadata": {},
          "output_type": "execute_result"
        },
        {
          "data": {
            "text/plain": [
              "torch.Size([1])"
            ]
          },
          "execution_count": 54,
          "metadata": {},
          "output_type": "execute_result"
        },
        {
          "data": {
            "text/plain": [
              "torch.Size([2, 14])"
            ]
          },
          "execution_count": 54,
          "metadata": {},
          "output_type": "execute_result"
        },
        {
          "data": {
            "text/plain": [
              "torch.Size([2])"
            ]
          },
          "execution_count": 54,
          "metadata": {},
          "output_type": "execute_result"
        },
        {
          "data": {
            "text/plain": [
              "tensor([[ 1.5052e-01,  6.9911e+01,  5.2254e+01,  8.3929e+01,  1.1867e+02,\n",
              "         -7.5049e+00, -3.8710e+00,  8.7107e+00,  1.0971e+00,  9.7797e-02,\n",
              "          1.3123e-02,  9.0098e-01,  7.8799e-02,  1.0349e+00],\n",
              "        [ 1.6257e+00, -1.2595e+00,  8.2978e+00,  1.1045e+01,  3.2319e+01,\n",
              "          7.4402e+00, -1.8218e+00,  1.8994e+00,  1.0164e+00,  3.4650e-02,\n",
              "          8.0929e-02,  1.0485e+00,  9.2982e-02,  9.0812e-01],\n",
              "        [ 1.3144e+00,  1.9456e+01,  2.0009e+01, -5.5686e+00,  3.6946e+01,\n",
              "         -3.8607e+00,  5.3049e+00,  3.6366e+00,  9.4411e-01,  3.2862e-02,\n",
              "          1.7079e-02,  1.0516e+00,  5.2514e-02,  9.3525e-01],\n",
              "        [ 2.0334e-01,  7.6294e+00,  8.5745e-01,  8.7387e+00,  1.4890e+01,\n",
              "         -2.7810e+00, -3.2085e+00,  2.7422e+00,  1.0214e+00,  7.1682e-02,\n",
              "          9.7878e-02,  9.0330e-01,  5.8078e-02,  9.3645e-01],\n",
              "        [ 3.0953e+00,  3.8513e+01,  9.7408e+01,  1.0209e+02,  1.5292e+02,\n",
              "          1.0322e+01,  6.0644e+00, -9.5167e+00,  1.0055e+00,  5.5355e-02,\n",
              "          7.9844e-02,  1.0285e+00,  1.9955e-02,  1.0659e+00],\n",
              "        [ 1.9227e-01,  6.2639e+01, -2.5494e+01,  5.2260e+01,  1.3559e+02,\n",
              "          4.4497e+00, -1.0685e+01, -1.0613e+01,  1.0389e+00,  3.6218e-02,\n",
              "          7.0192e-02,  1.0676e+00,  4.6332e-02,  1.0617e+00],\n",
              "        [ 9.3750e-01,  3.2440e+01, -4.3004e+01,  1.1521e+01,  8.8846e+01,\n",
              "         -1.0169e+01, -6.0695e+00,  1.6153e-01,  9.5464e-01,  9.5527e-02,\n",
              "          2.2485e-02,  1.0928e+00,  3.2527e-02,  1.0240e+00]])"
            ]
          },
          "execution_count": 54,
          "metadata": {},
          "output_type": "execute_result"
        },
        {
          "data": {
            "text/plain": [
              "tensor([ 6.2784, -0.7416,  2.3403,  0.0489,  0.8139,  3.1682,  8.1289])"
            ]
          },
          "execution_count": 54,
          "metadata": {},
          "output_type": "execute_result"
        },
        {
          "data": {
            "text/plain": [
              "tensor([[ 4.2129e-01,  1.7616e+00,  5.4189e+00, -8.2215e+00,  3.1906e+01,\n",
              "          5.9024e+00,  3.8003e+00,  2.9875e+00,  9.5804e-01,  1.6186e-02,\n",
              "          5.1234e-02,  1.0647e+00,  4.8277e-02,  1.0417e+00]])"
            ]
          },
          "execution_count": 54,
          "metadata": {},
          "output_type": "execute_result"
        },
        {
          "data": {
            "text/plain": [
              "tensor([4.9312])"
            ]
          },
          "execution_count": 54,
          "metadata": {},
          "output_type": "execute_result"
        },
        {
          "data": {
            "text/plain": [
              "tensor([[ 8.4266e-01,  6.6186e+01,  4.7759e+01, -9.3000e+00,  8.4497e+01,\n",
              "         -1.4256e+00, -2.2721e+00, -7.4398e+00,  9.9098e-01,  9.2840e-02,\n",
              "          4.2895e-02,  9.5877e-01,  7.5019e-02,  1.0704e+00],\n",
              "        [ 1.4785e+00,  3.4618e+01,  5.2087e+01,  6.8328e+00,  7.4943e+01,\n",
              "          7.5811e+00, -4.0674e+00, -6.9047e+00,  9.6709e-01,  2.9839e-02,\n",
              "          6.9551e-02,  9.1064e-01,  3.8687e-02,  1.0315e+00]])"
            ]
          },
          "execution_count": 54,
          "metadata": {},
          "output_type": "execute_result"
        },
        {
          "data": {
            "text/plain": [
              "tensor([14.4703, -1.1934])"
            ]
          },
          "execution_count": 54,
          "metadata": {},
          "output_type": "execute_result"
        }
      ],
      "source": [
        "\n",
        "x_train.shape\n",
        "y_train.shape\n",
        "x_val.shape\n",
        "y_val.shape\n",
        "x_test.shape\n",
        "y_test.shape\n",
        "x_train\n",
        "y_train\n",
        "x_val\n",
        "y_val\n",
        "x_test\n",
        "y_test"
      ]
    },
    {
      "cell_type": "code",
      "execution_count": 55,
      "metadata": {},
      "outputs": [
        {
          "data": {
            "text/plain": [
              "tensor(False)"
            ]
          },
          "execution_count": 55,
          "metadata": {},
          "output_type": "execute_result"
        },
        {
          "data": {
            "text/plain": [
              "tensor(False)"
            ]
          },
          "execution_count": 55,
          "metadata": {},
          "output_type": "execute_result"
        },
        {
          "data": {
            "text/plain": [
              "tensor(False)"
            ]
          },
          "execution_count": 55,
          "metadata": {},
          "output_type": "execute_result"
        },
        {
          "data": {
            "text/plain": [
              "tensor(False)"
            ]
          },
          "execution_count": 55,
          "metadata": {},
          "output_type": "execute_result"
        },
        {
          "data": {
            "text/plain": [
              "tensor(False)"
            ]
          },
          "execution_count": 55,
          "metadata": {},
          "output_type": "execute_result"
        },
        {
          "data": {
            "text/plain": [
              "tensor(False)"
            ]
          },
          "execution_count": 55,
          "metadata": {},
          "output_type": "execute_result"
        }
      ],
      "source": [
        "torch.isnan(x_train).any()\n",
        "torch.isnan(x_val).any()\n",
        "torch.isnan(x_test).any()\n",
        "torch.isnan(y_train).any()\n",
        "torch.isnan(y_val).any()\n",
        "torch.isnan(y_test).any()"
      ]
    },
    {
      "cell_type": "code",
      "execution_count": 56,
      "metadata": {},
      "outputs": [
        {
          "data": {
            "text/plain": [
              "(tensor([], dtype=torch.int64), tensor([], dtype=torch.int64))"
            ]
          },
          "execution_count": 56,
          "metadata": {},
          "output_type": "execute_result"
        },
        {
          "data": {
            "text/plain": [
              "(tensor([], dtype=torch.int64), tensor([], dtype=torch.int64))"
            ]
          },
          "execution_count": 56,
          "metadata": {},
          "output_type": "execute_result"
        },
        {
          "data": {
            "text/plain": [
              "(tensor([], dtype=torch.int64), tensor([], dtype=torch.int64))"
            ]
          },
          "execution_count": 56,
          "metadata": {},
          "output_type": "execute_result"
        }
      ],
      "source": [
        "nan_mask_train = torch.isnan(x_train)     # get a boolean mask indicating NaN values\n",
        "nan_indices_train = torch.where(nan_mask_train)  # get the indices of the NaN values\n",
        "nan_indices_train\n",
        "# len(nan_indices_train)\n",
        "\n",
        "nan_mask_val = torch.isnan(x_val)     # get a boolean mask indicating NaN values\n",
        "nan_indices_val = torch.where(nan_mask_val)  # get the indices of the NaN values\n",
        "nan_indices_val\n",
        "# len(nan_indices_test)\n",
        "\n",
        "nan_mask_test = torch.isnan(x_test)     # get a boolean mask indicating NaN values\n",
        "nan_indices_test = torch.where(nan_mask_test)  # get the indices of the NaN values\n",
        "nan_indices_test\n",
        "# len(nan_indices_test)"
      ]
    },
    {
      "attachments": {},
      "cell_type": "markdown",
      "metadata": {},
      "source": [
        "## Visualizing the data"
      ]
    },
    {
      "attachments": {},
      "cell_type": "markdown",
      "metadata": {},
      "source": [
        "### Visualizing sampled data"
      ]
    },
    {
      "cell_type": "code",
      "execution_count": 57,
      "metadata": {},
      "outputs": [
        {
          "name": "stdout",
          "output_type": "stream",
          "text": [
            "skipping\n"
          ]
        }
      ],
      "source": [
        "%%script echo skipping\n",
        "\n",
        "if not LOAD_DATA_FROM_CSV:\n",
        "    rho\n",
        "    epsilon\n",
        "    vx\n",
        "    vy\n",
        "    vz \n",
        "    Bx\n",
        "    By\n",
        "    Bz\n",
        "    gxx\n",
        "    gxy\n",
        "    gxz\n",
        "    gyy\n",
        "    gyz\n",
        "    gzz "
      ]
    },
    {
      "cell_type": "code",
      "execution_count": 58,
      "metadata": {},
      "outputs": [
        {
          "name": "stdout",
          "output_type": "stream",
          "text": [
            "10\n",
            "10\n",
            "10\n",
            "10\n",
            "10\n",
            "10\n",
            "10\n",
            "10\n",
            "\n",
            "10\n",
            "10\n",
            "10\n",
            "10\n",
            "10\n",
            "10\n"
          ]
        }
      ],
      "source": [
        "if not LOAD_DATA_FROM_CSV:\n",
        "    print(len(rho))\n",
        "    print(len(epsilon))\n",
        "    print(len(vx))\n",
        "    print(len(vy))\n",
        "    print(len(vz))\n",
        "    print(len(Bx))\n",
        "    print(len(By))\n",
        "    print(len(Bz))\n",
        "    print()\n",
        "    print(len(gxx))\n",
        "    print(len(gxy))\n",
        "    print(len(gxz))\n",
        "    print(len(gyy))\n",
        "    print(len(gyz))\n",
        "    print(len(gzz))"
      ]
    },
    {
      "cell_type": "code",
      "execution_count": 59,
      "metadata": {
        "id": "VMp6XJ6RUZh4"
      },
      "outputs": [],
      "source": [
        "%config InteractiveShell.ast_node_interactivity = \"last_expr_or_assign\""
      ]
    },
    {
      "cell_type": "code",
      "execution_count": 60,
      "metadata": {},
      "outputs": [
        {
          "name": "stdout",
          "output_type": "stream",
          "text": [
            "skipping\n"
          ]
        }
      ],
      "source": [
        "%%script echo skipping\n",
        "\n",
        "plt.hist([np.random.uniform(0, 0.999) for _ in range(n_train_samples)], bins=20)"
      ]
    },
    {
      "cell_type": "code",
      "execution_count": 61,
      "metadata": {},
      "outputs": [
        {
          "name": "stdout",
          "output_type": "stream",
          "text": [
            "skipping\n"
          ]
        }
      ],
      "source": [
        "%%script echo skipping\n",
        "\n",
        "epsilon"
      ]
    },
    {
      "attachments": {},
      "cell_type": "markdown",
      "metadata": {},
      "source": [
        "The reason the sampling is not uniformly distributed in the following plots is due to the resampling and the fact that we certain values of e.g. velocity are more likely to violate the speed of light constraint than others."
      ]
    },
    {
      "cell_type": "code",
      "execution_count": 62,
      "metadata": {
        "colab": {
          "base_uri": "https://localhost:8080/",
          "height": 409
        },
        "id": "E5YFdqKjUZh5",
        "outputId": "fe67d113-f369-495f-9aba-201c71058eb7"
      },
      "outputs": [
        {
          "name": "stderr",
          "output_type": "stream",
          "text": [
            "ERROR:asyncio:Future exception was never retrieved\n",
            "future: <Future finished exception=BrokenPipeError(32, 'Broken pipe')>\n",
            "Traceback (most recent call last):\n",
            "  File \"/usr/lib/python3.11/asyncio/unix_events.py\", line 687, in write\n",
            "    n = os.write(self._fileno, data)\n",
            "        ^^^^^^^^^^^^^^^^^^^^^^^^^^^^\n",
            "BrokenPipeError: [Errno 32] Broken pipe\n"
          ]
        },
        {
          "data": {
            "image/png": "[encoded data removed]",
            "text/plain": [
              "<Figure size 2000x1600 with 14 Axes>"
            ]
          },
          "metadata": {},
          "output_type": "display_data"
        }
      ],
      "source": [
        "#%%script echo skipping\n",
        "\n",
        "if not LOAD_DATA_FROM_CSV:\n",
        "    def plot_histogram(data, xlabel, ylabel, position, bins=20, xlog_scale=False, ylog_scale=False):\n",
        "        plt.subplot(4, 5, position)\n",
        "        plt.hist(data, bins=bins)\n",
        "        plt.xlabel(xlabel)\n",
        "        plt.ylabel(ylabel)\n",
        "        if xlog_scale: # Setting does not work expected for epsilon.\n",
        "            plt.xscale(\"log\")\n",
        "        if ylog_scale: # Setting does not work expected for epsilon.\n",
        "            plt.yscale(\"log\")\n",
        "\n",
        "    # Plotting the histograms of rho, vx, epsilon, b0, b1, b2, and b3\n",
        "    bins = 20\n",
        "    plt.figure(figsize=(20, 16))\n",
        "\n",
        "    plot_histogram(rho, \"rho\", \"Frequency\", 1, bins=bins)\n",
        "    plot_histogram(epsilon, \"epsilon\", \"Frequency\", 2, bins=bins)\n",
        "    plot_histogram(vx, \"vx\", \"Frequency\", 3, bins=bins)\n",
        "    plot_histogram(vy, \"vy\", \"Frequency\", 4, bins=bins)\n",
        "    plot_histogram(vz, \"vz\", \"Frequency\", 5, bins=bins)\n",
        "    plot_histogram(Bx, \"Bx\", \"Frequency\", 6, bins=bins)\n",
        "    plot_histogram(By, \"By\", \"Frequency\", 7, bins=bins)\n",
        "    plot_histogram(Bz, \"Bz\", \"Frequency\", 8, bins=bins)\n",
        "\n",
        "    # Plot these\n",
        "    plot_histogram(gxx, \"gxx\", \"Frequency\", 9, bins=bins)\n",
        "    plot_histogram(gxy, \"gxy\", \"Frequency\", 10, bins=bins)\n",
        "    plot_histogram(gxz, \"gxz\", \"Frequency\", 11, bins=bins)\n",
        "    plot_histogram(gyy, \"gyy\", \"Frequency\", 12, bins=bins)\n",
        "    plot_histogram(gyz, \"gyz\", \"Frequency\", 13, bins=bins)\n",
        "    plot_histogram(gzz, \"gzz\", \"Frequency\", 14, bins=bins)\n",
        "\n",
        "\n",
        "    plt.suptitle(\"Primitive variables and metric\")\n",
        "    plt.tight_layout()\n",
        "    plt.show()\n"
      ]
    },
    {
      "cell_type": "code",
      "execution_count": 63,
      "metadata": {},
      "outputs": [],
      "source": [
        "%config InteractiveShell.ast_node_interactivity = \"last_expr_or_assign\""
      ]
    },
    {
      "cell_type": "code",
      "execution_count": 64,
      "metadata": {},
      "outputs": [
        {
          "data": {
            "image/png": "[encoded data removed]",
            "text/plain": [
              "<Figure size 1600x1600 with 14 Axes>"
            ]
          },
          "metadata": {},
          "output_type": "display_data"
        }
      ],
      "source": [
        "#%%script echo skipping\n",
        "\n",
        "# Variable names\n",
        "variable_names = [\"D\", \"Sx\", \"Sy\", \"Sz\", \"tau\", \"Bconsx\", \"Bconsy\", \"Bconsz\", \"gxx\", \"gxy\", \"gxz\", \"gyy\", \"gyz\", \"gzz\"]\n",
        "\n",
        "# Plotting histograms of the input variables before z-score normalization\n",
        "plt.figure(figsize=(16, 16))\n",
        "plt.suptitle('Histograms of input variables before (or without at all) z-score normalization', y=1.03)\n",
        "\n",
        "for i in range(N_INPUTS):\n",
        "    plt.subplot(7, 2, i+1)\n",
        "    data = x_train[:, i].cpu().numpy() # Convert tensor to numpy array for percentile calculation\n",
        "    lower_bound, upper_bound = np.percentile(data, [1, 100]) # NOTE: Use this instead to visualize all the data.\n",
        "    # lower_bound, upper_bound = np.percentile(data, [1, 90]) # Calculate 1st and 99th percentile\n",
        "\n",
        "    plt.hist(data, bins=50, range=(lower_bound, upper_bound)) # Set range to the calculated percentile range\n",
        "    plt.xlabel(variable_names[i])\n",
        "    plt.xlim(lower_bound, upper_bound) # Set the x limit to match the range of the histogram\n",
        "\n",
        "plt.subplots_adjust(hspace=0.4, wspace=0.4)\n",
        "plt.show()\n",
        "\n",
        "# Same plotting but for the test data. Adjust the percentile range as needed to zoom in.\n",
        "# plt.figure(figsize=(16, 16))\n",
        "# plt.suptitle('Histograms of input variables before (or without at all) z-score normalization (test data)', y=1.03)\n",
        "\n",
        "# for i in range(14):\n",
        "#     plt.subplot(7, 2, i+1)\n",
        "#     data = x_test[:, i].cpu().numpy() # Convert tensor to numpy array for percentile calculation\n",
        "#     #lower_bound, upper_bound = np.percentile(data, [1, 100]) # NOTE: Use this instead to visualize all the data.\n",
        "#     lower_bound, upper_bound = np.percentile(data, [1, 99]) # Use this to zoom in.\n",
        "\n",
        "#     plt.hist(data, bins=50, range=(lower_bound, upper_bound)) # Set range to the calculated percentile range\n",
        "#     plt.xlabel(variable_names[i])\n",
        "#     plt.xlim(lower_bound, upper_bound) # Set the x limit to match the range of the histogram\n",
        "\n",
        "# plt.subplots_adjust(hspace=0.4, wspace=0.4)\n",
        "# plt.show()\n",
        "\n"
      ]
    },
    {
      "attachments": {},
      "cell_type": "markdown",
      "metadata": {},
      "source": [
        "### Data normalization"
      ]
    },
    {
      "cell_type": "code",
      "execution_count": 65,
      "metadata": {},
      "outputs": [
        {
          "name": "stdout",
          "output_type": "stream",
          "text": [
            "Summary statistics of input variables before z-score normalization\n",
            "tensor([[ 1.5052e-01,  3.0953e+00,  1.0742e+00,  9.3750e-01,  1.0689e+00],\n",
            "        [-1.2595e+00,  6.9911e+01,  3.2761e+01,  3.2440e+01,  2.6683e+01],\n",
            "        [-4.3004e+01,  9.7408e+01,  1.5761e+01,  8.2978e+00,  4.7345e+01],\n",
            "        [-5.5686e+00,  1.0209e+02,  3.7716e+01,  1.1521e+01,  4.2035e+01],\n",
            "        [ 1.4890e+01,  1.5292e+02,  8.2885e+01,  8.8846e+01,  5.5213e+01],\n",
            "        [-1.0169e+01,  1.0322e+01, -3.0056e-01, -2.7810e+00,  7.7828e+00],\n",
            "        [-1.0685e+01,  6.0644e+00, -2.0409e+00, -3.2085e+00,  5.9912e+00],\n",
            "        [-1.0613e+01,  8.7107e+00, -4.2556e-01,  1.8994e+00,  7.0967e+00],\n",
            "        [ 9.4411e-01,  1.0971e+00,  1.0112e+00,  1.0164e+00,  5.1665e-02],\n",
            "        [ 3.2862e-02,  9.7797e-02,  6.0584e-02,  5.5355e-02,  2.8258e-02],\n",
            "        [ 1.3123e-02,  9.7878e-02,  5.4504e-02,  7.0192e-02,  3.5605e-02],\n",
            "        [ 9.0098e-01,  1.0928e+00,  1.0133e+00,  1.0485e+00,  7.8446e-02],\n",
            "        [ 1.9955e-02,  9.2982e-02,  5.4455e-02,  5.2514e-02,  2.5268e-02],\n",
            "        [ 9.0812e-01,  1.0659e+00,  9.9520e-01,  1.0240e+00,  6.6413e-02]])\n"
          ]
        }
      ],
      "source": [
        "# Computing summary statistics of the input variables before and after z-score normalization\n",
        "print('Summary statistics of input variables before z-score normalization')\n",
        "print(torch.stack([torch.min(x_train, dim=0).values, torch.max(x_train, dim=0).values, torch.nanmean(x_train, dim=0), torch.median(x_train, dim=0).values, torch.std(x_train, dim=0)], dim=1))"
      ]
    },
    {
      "attachments": {},
      "cell_type": "markdown",
      "metadata": {
        "id": "xTEmkR1SUZh7"
      },
      "source": [
        "Perform z-score normalization"
      ]
    },
    {
      "cell_type": "code",
      "execution_count": 66,
      "metadata": {},
      "outputs": [],
      "source": [
        "%config InteractiveShell.ast_node_interactivity = \"all\""
      ]
    },
    {
      "cell_type": "code",
      "execution_count": 67,
      "metadata": {
        "id": "yPOv6DxhUZh7"
      },
      "outputs": [],
      "source": [
        "if ZSCORE_NORMALIZATION:\n",
        "    \n",
        "    # TODO: Add magnetic field variables to the normalization if I decide to use the old code that is commented out here.\n",
        "    # # Computing the median of each input variable from the training set using torch.nanmedian function\n",
        "    # D_median = torch.nanmedian(x_train[:, 0])\n",
        "    # Sx_median = torch.nanmedian(x_train[:, 1])\n",
        "    # Sy_median = torch.nanmedian(x_train[:, 2])\n",
        "    # Sz_median = torch.nanmedian(x_train[:, 3])\n",
        "    # tau_median = torch.nanmedian(x_train[:, 4])\n",
        "\n",
        "    # # Computing the standard deviation of each input variable from the training set using torch.std function with a boolean mask to ignore nan values\n",
        "    # D_std = torch.std(x_train[~torch.isnan(x_train[:, 0]), 0])\n",
        "    # Sx_std = torch.std(x_train[~torch.isnan(x_train[:, 1]), 1])\n",
        "    # Sy_std = torch.std(x_train[~torch.isnan(x_train[:, 2]), 2])\n",
        "    # Sz_std = torch.std(x_train[~torch.isnan(x_train[:, 3]), 3])\n",
        "    # tau_std = torch.std(x_train[~torch.isnan(x_train[:, 4]), 4])\n",
        "\n",
        "\n",
        "    # # Applying z-score normalization to both train and test sets using the statistics from the training set\n",
        "    # x_train[:, 0] = torch.sub(x_train[:, 0], D_median).div(D_std)\n",
        "    # x_train[:, 1] = torch.sub(x_train[:, 1], Sx_median).div(Sx_std)\n",
        "    # x_train[:, 2] = torch.sub(x_train[:, 2], Sy_median).div(Sy_std)\n",
        "    # x_train[:, 3] = torch.sub(x_train[:, 3], Sz_median).div(Sz_std)\n",
        "    # x_train[:, 4] = torch.sub(x_train[:, 4], tau_median).div(tau_std)\n",
        "\n",
        "    # x_test[:, 0] = torch.sub(x_test[:, 0], D_median).div(D_std)\n",
        "    # x_test[:, 1] = torch.sub(x_test[:, 1], Sx_median).div(Sx_std)\n",
        "    # x_test[:, 2] = torch.sub(x_test[:, 2], Sy_median).div(Sy_std)\n",
        "    # x_test[:, 3] = torch.sub(x_test[:, 3], Sz_median).div(Sz_std)\n",
        "    # x_test[:, 4] = torch.sub(x_test[:, 4], tau_median).div(tau_std)\n",
        "\n",
        "    # Computing the mean and standard deviation of each column\n",
        "    mean = x_train.mean(dim=0)\n",
        "    std = x_train.std(dim=0)\n",
        "\n",
        "    # Applying z-score normalization\n",
        "    x_train = (x_train - mean) / std\n",
        "    # Use the same mean and std from the training data as we don't want test data leakage.\n",
        "    x_test = (x_test - mean) / std\n",
        "\n"
      ]
    },
    {
      "attachments": {},
      "cell_type": "markdown",
      "metadata": {},
      "source": [
        "Plotting the histograms of the input data after normalization if z-score normalization was performed."
      ]
    },
    {
      "cell_type": "code",
      "execution_count": 68,
      "metadata": {},
      "outputs": [],
      "source": [
        "%config InteractiveShell.ast_node_interactivity = \"last_expr_or_assign\""
      ]
    },
    {
      "cell_type": "code",
      "execution_count": 69,
      "metadata": {},
      "outputs": [],
      "source": [
        "if not LOAD_DATA_FROM_CSV:\n",
        "    if ZSCORE_NORMALIZATION:\n",
        "        # Variable names\n",
        "        variable_names = [\"D\", \"Sx\", \"Sy\", \"Sz\", \"tau\", \"Bconsx\", \"Bconsy\", \"Bconsz\", \"gxx\", \"gxy\", \"gxz\", \"gyy\", \"gyz\", \"gzz\"]\n",
        "\n",
        "        # Plotting histograms of the input variables before z-score normalization\n",
        "        plt.figure(figsize=(16, 16))\n",
        "        plt.suptitle('Histograms of input variables before (or without at all) z-score normalization', y=1.03)\n",
        "\n",
        "        for i in range(N_INPUTS):\n",
        "            plt.subplot(7, 2, i+1)\n",
        "            data = x_train[:, i].cpu().numpy() # Convert tensor to numpy array for percentile calculation\n",
        "            lower_bound, upper_bound = np.percentile(data, [1, 100]) # NOTE: Use this instead to visualize all the data.\n",
        "            # lower_bound, upper_bound = np.percentile(data, [1, 90]) # Calculate 1st and 99th percentile\n",
        "\n",
        "            plt.hist(data, bins=50, range=(lower_bound, upper_bound)) # Set range to the calculated percentile range\n",
        "            plt.xlabel(variable_names[i])\n",
        "            plt.xlim(lower_bound, upper_bound) # Set the x limit to match the range of the histogram\n",
        "\n",
        "        plt.subplots_adjust(hspace=0.4, wspace=0.4)\n",
        "        plt.show()"
      ]
    },
    {
      "cell_type": "code",
      "execution_count": 70,
      "metadata": {},
      "outputs": [],
      "source": [
        "if ZSCORE_NORMALIZATION:\n",
        "    # Computing summary statistics of the input variables after z-score normalization\n",
        "    print('Summary statistics of input variables after z-score normalization')\n",
        "    print(torch.stack([torch.min(x_train, dim=0).values, torch.max(x_train, dim=0).values, torch.mean(x_train, dim=0), torch.median(x_train, dim=0).values, torch.std(x_train, dim=0)], dim=1))\n"
      ]
    },
    {
      "attachments": {},
      "cell_type": "markdown",
      "metadata": {},
      "source": [
        "### Visualizing input data and labels"
      ]
    },
    {
      "cell_type": "code",
      "execution_count": 71,
      "metadata": {},
      "outputs": [
        {
          "data": {
            "text/plain": [
              "tensor([14.4703, -1.1934])"
            ]
          },
          "execution_count": 71,
          "metadata": {},
          "output_type": "execute_result"
        }
      ],
      "source": [
        "x_train\n",
        "y_train\n",
        "x_val\n",
        "y_val\n",
        "x_test\n",
        "y_test"
      ]
    },
    {
      "attachments": {},
      "cell_type": "markdown",
      "metadata": {
        "colab": {
          "base_uri": "https://localhost:8080/",
          "height": 407
        },
        "id": "E96p_MsOUZh9",
        "outputId": "4b95bad0-8f3a-4364-eed1-008e0ce2a5e3"
      },
      "source": [
        "Checking if our output is always positive ~~by plotting a histogram of y_train and y_test tensors~~"
      ]
    },
    {
      "cell_type": "code",
      "execution_count": 72,
      "metadata": {},
      "outputs": [
        {
          "name": "stdout",
          "output_type": "stream",
          "text": [
            "tensor(True)\n"
          ]
        }
      ],
      "source": [
        "import torch\n",
        "\n",
        "# Create a sample tensor\n",
        "tensor = torch.randn(80000, 14)  # Assuming a tensor of shape [80000, 14]\n",
        "tensor\n",
        "\n",
        "\n",
        "# Check if any element is negative\n",
        "any_negative = torch.any(tensor < 0)\n",
        "\n",
        "# Print the result\n",
        "print(any_negative)\n"
      ]
    },
    {
      "cell_type": "code",
      "execution_count": 73,
      "metadata": {},
      "outputs": [
        {
          "data": {
            "text/plain": [
              "tensor(True)"
            ]
          },
          "execution_count": 73,
          "metadata": {},
          "output_type": "execute_result"
        }
      ],
      "source": [
        "y_train.shape\n",
        "any_negative = torch.any(y_train < 0)\n",
        "any_negative\n",
        "\n",
        "y_test.shape\n",
        "any_negative = torch.any(y_test < 0)\n",
        "any_negative\n",
        "\n",
        "x_train.shape\n",
        "any_negative = torch.any(x_train < 0)\n",
        "any_negative"
      ]
    },
    {
      "cell_type": "code",
      "execution_count": 74,
      "metadata": {},
      "outputs": [
        {
          "data": {
            "image/png": "[encoded data removed]",
            "text/plain": [
              "<Figure size 800x400 with 3 Axes>"
            ]
          },
          "metadata": {},
          "output_type": "display_data"
        }
      ],
      "source": [
        "#%%script echo skipping\n",
        "\n",
        "plt.figure(figsize=(8, 4))\n",
        "plt.subplot(1, 3, 1)\n",
        "plt.hist(y_train.cpu().numpy(), bins=100) # must be cpu here.\n",
        "plt.xlabel(\"y_train\")\n",
        "plt.ylabel(\"Frequency\")\n",
        "plt.xscale(\"log\")\n",
        "plt.subplot(1, 3, 2)\n",
        "plt.hist(y_val.cpu().numpy(), bins=100) # must be cpu here\n",
        "plt.xlabel(\"y_val\")\n",
        "plt.ylabel(\"Frequency\")\n",
        "plt.xscale(\"log\")\n",
        "plt.tight_layout()\n",
        "plt.subplot(1, 3, 3)\n",
        "plt.hist(y_test.cpu().numpy(), bins=100) # must be cpu here\n",
        "plt.xlabel(\"y_test\")\n",
        "plt.ylabel(\"Frequency\")\n",
        "plt.xscale(\"log\")\n",
        "plt.tight_layout()\n",
        "plt.show()\n"
      ]
    },
    {
      "cell_type": "code",
      "execution_count": 75,
      "metadata": {
        "id": "FEgjk--AUZh9"
      },
      "outputs": [],
      "source": [
        "%config InteractiveShell.ast_node_interactivity = \"all\""
      ]
    },
    {
      "attachments": {},
      "cell_type": "markdown",
      "metadata": {
        "id": "r2b9GecHUZh9"
      },
      "source": [
        "## Defining the neural network"
      ]
    },
    {
      "cell_type": "code",
      "execution_count": 76,
      "metadata": {
        "id": "Iv8HA-ZXUZh-"
      },
      "outputs": [],
      "source": [
        "# Defining a class for the network\n",
        "class Net(nn.Module):\n",
        "    \"\"\"A class for creating a network with a\n",
        "    variable number of hidden layers and units.\n",
        "\n",
        "    Attributes:\n",
        "        n_layers (int): The number of hidden layers in the network.\n",
        "        n_units (list): A list of integers representing the number of units in each hidden layer.\n",
        "        hidden_activation (torch.nn.Module): The activation function for the hidden layers.\n",
        "        output_activation (torch.nn.Module): The activation function for the output layer.\n",
        "        layers (torch.nn.ModuleList): A list of linear layers in the network.\n",
        "    \"\"\"\n",
        "\n",
        "    def __init__(self, n_layers, n_units, hidden_activation, output_activation, dropout_rate):\n",
        "        \"\"\"Initializes the network with the given hyperparameters.\n",
        "\n",
        "        Args:\n",
        "            n_layers (int): The number of hidden layers in the network.\n",
        "            n_units (list): A list of integers representing the number of units in each hidden layer.\n",
        "            hidden_activation (torch.nn.Module): The activation function for the hidden layers.\n",
        "            output_activation (torch.nn.Module): The activation function for the output layer.\n",
        "            TODO: [ver. Copilot description] dropout_rate (float): The dropout rate to use for all layers.\n",
        "        \"\"\"\n",
        "        super().__init__()\n",
        "        self.n_layers = n_layers\n",
        "        self.n_units = n_units\n",
        "        self.hidden_activation = hidden_activation\n",
        "        self.output_activation = output_activation\n",
        "        self.dropout_rate = dropout_rate\n",
        "\n",
        "        # Creating a list of linear layers with different numbers of units for each layer\n",
        "        self.layers = nn.ModuleList()\n",
        "        self.dropouts = nn.ModuleList()\n",
        "\n",
        "        self.layers.append(nn.Linear(N_INPUTS, n_units[0]))\n",
        "        self.dropouts.append(nn.Dropout(p=dropout_rate))\n",
        "\n",
        "        for i in range(1, n_layers):\n",
        "            self.layers.append(nn.Linear(n_units[i - 1], n_units[i]))\n",
        "            self.dropouts.append(nn.Dropout(p=dropout_rate))\n",
        "\n",
        "        self.layers.append(nn.Linear(n_units[-1], N_OUTPUTS))\n",
        "\n",
        "        # Adding some assertions to check that the input arguments are valid\n",
        "        assert isinstance(n_layers, int) and n_layers > 0, \"n_layers must be a positive integer\"\n",
        "        assert isinstance(n_units, list) and len(n_units) == n_layers, \"n_units must be a list of length n_layers\"\n",
        "        assert all(isinstance(n, int) and n > 0 for n in n_units), \"n_units must contain positive integers\"\n",
        "        assert isinstance(hidden_activation, nn.Module), \"hidden_activation must be a torch.nn.Module\"\n",
        "        assert isinstance(output_activation, nn.Module), \"output_activation must be a torch.nn.Module\"\n",
        "\n",
        "    def forward(self, x):\n",
        "        \"\"\"Performs a forward pass on the input tensor.\n",
        "\n",
        "        Args:\n",
        "            x (torch.Tensor): The input tensor of shape (batch_size, N_INPUTS).\n",
        "\n",
        "        Returns:\n",
        "            torch.Tensor: The output tensor of shape (batch_size, N_OUTPUTS).\n",
        "        \"\"\"\n",
        "        # Adding an assertion to check that the input tensor has the expected shape and type\n",
        "        assert isinstance(x, torch.Tensor), \"x must be a torch.Tensor\"\n",
        "        assert x.shape[1] == N_INPUTS, f\"x must have shape (batch_size, {N_INPUTS})\"\n",
        "\n",
        "        for layer, dropout in zip(self.layers[:-1], self.dropouts):\n",
        "            x = dropout(self.hidden_activation(layer(x)))\n",
        "        # Applying the linear transformation and the activation function on the output layer\n",
        "        x = self.output_activation(self.layers[-1](x)) # No dropout at output layer\n",
        "\n",
        "        return x # Returning the output tensor\n"
      ]
    },
    {
      "cell_type": "code",
      "execution_count": 77,
      "metadata": {},
      "outputs": [
        {
          "name": "stdout",
          "output_type": "stream",
          "text": [
            "skipping\n"
          ]
        }
      ],
      "source": [
        "%%script echo skipping\n",
        "\n",
        "[1,2,3]\n",
        "[1,2,3][:-1]"
      ]
    },
    {
      "cell_type": "code",
      "execution_count": 78,
      "metadata": {},
      "outputs": [
        {
          "name": "stdout",
          "output_type": "stream",
          "text": [
            "1\n",
            "2\n"
          ]
        }
      ],
      "source": [
        "for x in [1,2,3][:-1]:\n",
        "    print(x)\n",
        "\n"
      ]
    },
    {
      "attachments": {},
      "cell_type": "markdown",
      "metadata": {
        "id": "6GNvp55PUZh_"
      },
      "source": [
        "## Defining the model and search space"
      ]
    },
    {
      "cell_type": "code",
      "execution_count": 79,
      "metadata": {
        "id": "9a1opluOUZh_"
      },
      "outputs": [],
      "source": [
        "# Defining a function to create a trial network and optimizer\n",
        "def create_model(trial, optimize):\n",
        "    \"\"\"Creates a trial network and optimizer based on the sampled hyperparameters.\n",
        "\n",
        "    Args:\n",
        "        trial (optuna.trial.Trial): The trial object that contains the hyperparameters.\n",
        "        optimize (boolean): Whether to optimize the hyperparameters or to use predefined values.\n",
        "\n",
        "    Returns:\n",
        "        tuple: A tuple of (net, loss_fn, optimizer, batch_size, n_epochs,\n",
        "            scheduler, loss_name, optimizer_name, scheduler_name,\n",
        "            n_units, n_layers, hidden_activation, output_activation),\n",
        "            where net is the trial network,\n",
        "            loss_fn is the loss function,\n",
        "            optimizer is the optimizer,\n",
        "            batch_size is the batch size,\n",
        "            n_epochs is the number of epochs,\n",
        "            scheduler is the learning rate scheduler,\n",
        "            loss_name is the name of the loss function,\n",
        "            optimizer_name is the name of the optimizer,\n",
        "            scheduler_name is the name of the scheduler,\n",
        "            n_units is a list of integers representing\n",
        "            the number of units in each hidden layer,\n",
        "            n_layers is an integer representing the number of hidden layers in the network,\n",
        "            hidden_activation is a torch.nn.Module representing the activation function for the hidden layers,\n",
        "            output_activation is a torch.nn.Module representing the activation function for the output layer,\n",
        "            lr is the (initial) learning rate.\n",
        "            dropout_rate is the dropout rate.\n",
        "    \"\"\"\n",
        "    # If optimize is True, sample the hyperparameters from the search space\n",
        "    if OPTIMIZE:\n",
        "        n_layers = trial.suggest_int(\"n_layers\", 2, 10)\n",
        "        n_units = [trial.suggest_int(f\"n_units_{i}\", 16, 4096) for i in range(n_layers)]\n",
        "\n",
        "        hidden_activation_name = trial.suggest_categorical(\n",
        "            \"hidden_activation\", [\"ReLU\", \"LeakyReLU\", \"ELU\", \"PReLU\", \"Swish\", \"GELU\", \"SoftPlus\"]\n",
        "        )\n",
        "        output_activation_name = trial.suggest_categorical( \"output_activation\", [\"Linear\"])\n",
        "\n",
        "        loss_name = trial.suggest_categorical( \"loss\", [\"MSE\", \"MAE\", \"Huber\", \"Quantile\"]) \n",
        "\n",
        "        optimizer_name = trial.suggest_categorical( \"optimizer\", [\"Adam\", \"SGD\", \"RMSprop\", \"Adagrad\"] )\n",
        "\n",
        "        lr = trial.suggest_loguniform(\"lr\", 1e-5, 1e-1)\n",
        "\n",
        "        batch_size_list = [32, 64, 128, 256, 512, 1024, 2048]\n",
        "        batch_size = trial.suggest_categorical(\"batch_size\", batch_size_list)\n",
        "        \n",
        "        n_epochs = trial.suggest_int(\"n_epochs\", 50, 150)\n",
        "\n",
        "        # scheduler_name = trial.suggest_categorical(\"scheduler\", [\"CosineAnnealingLR\", \"ReduceLROnPlateau\", \"StepLR\", \"CyclicLR\"])\n",
        "        scheduler_name = trial.suggest_categorical(\"scheduler\", [\"CosineAnnealingLR\", \"ReduceLROnPlateau\", \"StepLR\"])\n",
        "\n",
        "        # Creating the activation functions from their names\n",
        "        if hidden_activation_name == \"ReLU\":\n",
        "            hidden_activation = nn.ReLU()\n",
        "        elif hidden_activation_name == \"LeakyReLU\":\n",
        "            negative_slope = trial.suggest_uniform(\"leakyrelu_slope\", 0.01, 0.3)\n",
        "            hidden_activation = nn.LeakyReLU(negative_slope=negative_slope)\n",
        "        elif hidden_activation_name == \"ELU\":\n",
        "            hidden_activation = nn.ELU() \n",
        "        elif hidden_activation_name == \"PReLU\":\n",
        "            init = trial.suggest_uniform(\"prelu_init\", 0.1, 0.3)\n",
        "            hidden_activation = nn.PReLU(init=init)\n",
        "        elif hidden_activation_name == \"Swish\":\n",
        "            class Swish(nn.Module):\n",
        "                def forward(self, x):\n",
        "                    return x * torch.sigmoid(x)\n",
        "            hidden_activation = Swish()\n",
        "        elif hidden_activation_name == \"GELU\":\n",
        "            hidden_activation = nn.GELU()\n",
        "        elif hidden_activation_name == \"SoftPlus\":\n",
        "            beta = trial.suggest_uniform(\"softplus_beta\", 0.5, 1.5)\n",
        "            hidden_activation = nn.Softplus(beta=beta) # We don't optimize thresshold subparameters, as it's mainly for numerical stability.\n",
        "\n",
        "        dropout_rate = trial.suggest_uniform(\"dropout_rate\", 0.0, 0.5)\n",
        "\n",
        "\n",
        "    # If optimize is False, use the predefined values\n",
        "    else:\n",
        "        # Setting the hyperparameters to the predefined values\n",
        "        n_layers = N_LAYERS_NO_OPT\n",
        "        n_units = N_UNITS_NO_OPT\n",
        "        hidden_activation_name = HIDDEN_ACTIVATION_NAME_NO_OPT\n",
        "        output_activation_name = OUTPUT_ACTIVATION_NAME_NO_OPT\n",
        "        loss_name = LOSS_NAME_NO_OPT\n",
        "        optimizer_name = OPTIMIZER_NAME_NO_OPT\n",
        "        lr = LR_NO_OPT\n",
        "        batch_size = BATCH_SIZE_NO_OPT\n",
        "        n_epochs = N_EPOCHS_NO_OPT\n",
        "        scheduler_name = SCHEDULER_NAME_NO_OPT\n",
        "\n",
        "        # Creating the activation functions from their names\n",
        "        if hidden_activation_name == \"ReLU\":\n",
        "            hidden_activation = nn.ReLU()\n",
        "        elif hidden_activation_name == \"LeakyReLU\":\n",
        "            negative_slope = 0.01\n",
        "            hidden_activation = nn.LeakyReLU(negative_slope=negative_slope)\n",
        "        elif hidden_activation_name == \"ELU\":\n",
        "            hidden_activation = nn.ELU() \n",
        "        elif hidden_activation_name == \"PReLU\":\n",
        "            init = 0.25\n",
        "            hidden_activation = nn.PReLU(init=init)\n",
        "        elif hidden_activation_name == \"Swish\":\n",
        "            class Swish(nn.Module):\n",
        "                def forward(self, x):\n",
        "                    return x * torch.sigmoid(x)\n",
        "            hidden_activation = Swish()\n",
        "        elif hidden_activation_name == \"GELU\":\n",
        "            hidden_activation = nn.GELU()\n",
        "        elif hidden_activation_name == \"SoftPlus\":\n",
        "            beta = 1\n",
        "            hidden_activation = nn.Softplus(beta=beta) # We don't optimize threshold subparameter, as it's mainly for numerical stability.\n",
        "\n",
        "        dropout_rate = DROPOUT_RATE_NO_OPT\n",
        "\n",
        "\n",
        "    # We used to have options here, but since we have a regression problem with continuous output, we only use Linear.\n",
        "    output_activation = nn.Identity()\n",
        "\n",
        "    # Creating the loss function from its name\n",
        "    if loss_name == \"MSE\":\n",
        "        loss_fn = nn.MSELoss()\n",
        "    elif loss_name == \"MAE\":\n",
        "        loss_fn = nn.L1Loss()\n",
        "    elif loss_name == \"Huber\":\n",
        "        loss_fn = nn.SmoothL1Loss() \n",
        "    elif loss_name == \"Quantile\":\n",
        "        def quantile_loss(y_pred, y_true, q=0.5):\n",
        "            e = y_pred - y_true\n",
        "            return torch.mean(torch.max(q*e, (q-1)*e))\n",
        "        loss_fn = quantile_loss\n",
        "    else:\n",
        "        def log_cosh_loss(y_pred, y_true):\n",
        "            return torch.mean(torch.log(torch.cosh(y_pred - y_true)))\n",
        "        loss_fn = log_cosh_loss\n",
        "\n",
        "    # Creating the network with the sampled hyperparameters\n",
        "    net = Net(n_layers, n_units, hidden_activation, output_activation, dropout_rate).to(device)\n",
        "\n",
        "\n",
        "    if OPTIMIZE:\n",
        "        # Creating the optimizer from its name\n",
        "        if optimizer_name == \"SGD\":\n",
        "            weight_decay = trial.suggest_loguniform(\"weight_decay\", 1e-5, 1e-2)\n",
        "            momentum = trial.suggest_uniform(\"momentum\", 0.0, 0.99)\n",
        "            optimizer = optim.SGD(net.parameters(), lr=lr, weight_decay=weight_decay, momentum=momentum)\n",
        "        elif optimizer_name == \"Adam\":\n",
        "            weight_decay = trial.suggest_loguniform(\"weight_decay\", 1e-5, 1e-2)\n",
        "            beta1 = trial.suggest_uniform(\"beta1\", 0.9, 0.999)\n",
        "            beta2 = trial.suggest_uniform(\"beta2\", 0.999, 0.9999)\n",
        "            optimizer = optim.Adam(net.parameters(), lr=lr, weight_decay=weight_decay, betas=(beta1, beta2))\n",
        "        elif optimizer_name == \"RMSprop\":\n",
        "            optimizer = optim.RMSprop(net.parameters(), lr=lr)\n",
        "        else:\n",
        "            optimizer = optim.Adagrad(net.parameters(), lr=lr)\n",
        "\n",
        "        # Creating the learning rate scheduler from its name\n",
        "        if scheduler_name == \"StepLR\":\n",
        "            step_size = trial.suggest_int(\"step_size\", 5, 15)\n",
        "            gamma = trial.suggest_uniform(\"gamma\", 0.1, 0.5)\n",
        "            scheduler = optim.lr_scheduler.StepLR(optimizer, step_size=step_size, gamma=gamma)\n",
        "        elif scheduler_name == \"ExponentialLR\":\n",
        "            gamma = trial.suggest_uniform(\"gamma\", 0.8, 0.99)\n",
        "            scheduler = optim.lr_scheduler.ExponentialLR(optimizer, gamma=gamma)\n",
        "        elif scheduler_name == \"CosineAnnealingLR\":\n",
        "            if n_epochs < 150:\n",
        "                t_max_fraction = trial.suggest_uniform('t_max_fraction', 0.1, 0.3)\n",
        "            elif n_epochs > 250:\n",
        "                t_max_fraction = trial.suggest_uniform('t_max_fraction', 0.05, 0.1)\n",
        "            else:\n",
        "                t_max_fraction = trial.suggest_uniform('t_max_fraction', 0.1, 0.2)\n",
        "\n",
        "            T_max = int(n_epochs * t_max_fraction)\n",
        "            eta_min = trial.suggest_loguniform(\"eta_min\", 1e-7, 1e-2)\n",
        "            scheduler = optim.lr_scheduler.CosineAnnealingLR(optimizer, T_max=T_max, eta_min=eta_min)\n",
        "        elif scheduler_name == \"ReduceLROnPlateau\":\n",
        "            factor = trial.suggest_uniform(\"factor\", 0.1, 0.5)\n",
        "            patience = trial.suggest_int(\"patience\", 5, 10)\n",
        "            threshold = trial.suggest_loguniform(\"threshold\", 1e-4, 1e-2)\n",
        "            scheduler = optim.lr_scheduler.ReduceLROnPlateau(\n",
        "                optimizer, mode=\"min\", factor=factor, patience=patience, threshold=threshold\n",
        "            )\n",
        "        elif scheduler_name == \"CyclicLR\":\n",
        "            base_lr = trial.suggest_loguniform(\"base_lr\", 1e-6, 1e-2)\n",
        "            max_lr = trial.suggest_loguniform(\"max_lr\", 1e-4, 1)\n",
        "            step_size_up = trial.suggest_int(\"step_size_up\", 200, 2000)\n",
        "            scheduler = optim.lr_scheduler.CyclicLR(optimizer, base_lr=base_lr, max_lr=max_lr, step_size_up=step_size_up)\n",
        "        else:\n",
        "            scheduler = None\n",
        "    else:\n",
        "        # Creating the optimizer from its name\n",
        "        if optimizer_name == \"SGD\":\n",
        "            optimizer = optim.SGD(net.parameters(), lr=lr)\n",
        "        elif optimizer_name == \"Adam\":\n",
        "            optimizer = optim.Adam(net.parameters(), lr=lr)\n",
        "        elif optimizer_name == \"RMSprop\":\n",
        "            optimizer = optim.RMSprop(net.parameters(), lr=lr)\n",
        "        else:\n",
        "            optimizer = optim.Adagrad(net.parameters(), lr=lr)\n",
        "\n",
        "        # Creating the learning rate scheduler from its name\n",
        "        if scheduler_name == \"StepLR\":\n",
        "            scheduler = optim.lr_scheduler.StepLR(optimizer, step_size=10, gamma=0.1)\n",
        "        elif scheduler_name == \"ExponentialLR\":\n",
        "            scheduler = optim.lr_scheduler.ExponentialLR(optimizer, gamma=0.9)\n",
        "        elif scheduler_name == \"CosineAnnealingLR\":\n",
        "            scheduler = optim.lr_scheduler.CosineAnnealingLR(optimizer)\n",
        "        elif scheduler_name == \"ReduceLROnPlateau\":\n",
        "            scheduler = optim.lr_scheduler.ReduceLROnPlateau(\n",
        "                        optimizer, mode=\"min\", factor=0.18979341786654758, patience=11, threshold=0.0017197466122611932 #, min_lr=1e-6\n",
        "                    )\n",
        "        elif scheduler_name == \"CyclicLR\":\n",
        "            # TODO: Change these appropriately.\n",
        "            base_lr = 1e-6\n",
        "            max_lr = 1e-4\n",
        "            step_size_up = 200\n",
        "            scheduler = optim.lr_scheduler.CyclicLR(optimizer, base_lr=base_lr, max_lr=max_lr, step_size_up=step_size_up)\n",
        "        else:\n",
        "            scheduler = None\n",
        "\n",
        "    # Returning all variables needed for saving and loading\n",
        "    return net, loss_fn, optimizer, batch_size, n_epochs, scheduler, loss_name, optimizer_name, scheduler_name, n_units, n_layers, hidden_activation, output_activation, lr, dropout_rate\n",
        "\n",
        "\n"
      ]
    },
    {
      "attachments": {},
      "cell_type": "markdown",
      "metadata": {
        "id": "l-czA7VvUZiD"
      },
      "source": [
        " ## The training and evaluation loop\n",
        "\n",
        " We first define a couple of functions used in the training and evaluation."
      ]
    },
    {
      "cell_type": "code",
      "execution_count": 80,
      "metadata": {
        "id": "aD6FQNmxUZiD"
      },
      "outputs": [],
      "source": [
        "# Defining a function that computes loss and metrics for a given batch\n",
        "def compute_loss_and_metrics(y_pred, y_true, loss_fn):\n",
        "    \"\"\"Computes loss and metrics for a given batch.\n",
        "\n",
        "    Args:\n",
        "        y_pred (torch.Tensor): The predicted pressure tensor of shape (batch_size, 1).\n",
        "        y_true (torch.Tensor): The true pressure tensor of shape (batch_size,).\n",
        "        loss_fn (torch.nn.Module or function): The loss function to use.\n",
        "\n",
        "    Returns:\n",
        "        tuple: A tuple of (loss, l1_norm), where loss is a scalar tensor,\n",
        "            l1_norm is L1 norm for relative error of pressure,\n",
        "            each being a scalar tensor.\n",
        "            linf_norm is Linf norm for relative error of pressure.\n",
        "    \"\"\"\n",
        "    # Reshaping the target tensor to match the input tensor\n",
        "    y_true = y_true.view(-1, 1)\n",
        "\n",
        "    # Computing the loss using the loss function\n",
        "    loss = loss_fn(y_pred, y_true)\n",
        "\n",
        "    # Computing the relative error of pressure\n",
        "    rel_error = torch.abs((y_pred - y_true) / y_true)\n",
        "\n",
        "    # Computing the L1 norm for the relative error of pressure\n",
        "    l1_norm = torch.mean(rel_error) \n",
        "    # Computing the Linf norm for the relative error of pressure\n",
        "    linf_norm = torch.max(rel_error) \n",
        "\n",
        "    # Returning the loss and metrics\n",
        "    return loss, l1_norm, linf_norm\n",
        "\n",
        "\n",
        "# Defining a function that updates the learning rate scheduler with validation loss if applicable\n",
        "def update_scheduler(scheduler, test_loss):\n",
        "    \"\"\"Updates the learning rate scheduler with validation loss if applicable.\n",
        "\n",
        "    Args:\n",
        "        scheduler (torch.optim.lr_scheduler._LRScheduler or None): The learning rate scheduler to use.\n",
        "        test_loss (float): The validation loss to use.\n",
        "\n",
        "    Returns:\n",
        "        None\n",
        "    \"\"\"\n",
        "    # Checking if scheduler is not None\n",
        "    if scheduler is not None:\n",
        "        # Checking if scheduler is ReduceLROnPlateau\n",
        "        if isinstance(scheduler, optim.lr_scheduler.ReduceLROnPlateau):\n",
        "            # Updating the scheduler with test_loss\n",
        "            scheduler.step(test_loss)\n",
        "        else:\n",
        "            # Updating the scheduler without test_loss\n",
        "            scheduler.step()\n"
      ]
    },
    {
      "attachments": {},
      "cell_type": "markdown",
      "metadata": {
        "id": "w1nE662UUZiE"
      },
      "source": [
        "Now for the actual training and evaluation loop,"
      ]
    },
    {
      "cell_type": "code",
      "execution_count": 81,
      "metadata": {
        "id": "YAOjgKW3UZiF"
      },
      "outputs": [],
      "source": [
        "# Defining a function to train and evaluate a network\n",
        "def train_and_eval(net, loss_fn, optimizer, batch_size, n_epochs, scheduler, train_loader, val_loader, test_loader, trial=None):\n",
        "    # Initializing lists to store the losses and metrics for each epoch\n",
        "    train_losses = []\n",
        "    val_losses = []\n",
        "    test_losses = []\n",
        "    train_metrics = []\n",
        "    val_metrics = []\n",
        "    test_metrics = []\n",
        "\n",
        "\n",
        "    # Creating a SummaryWriter object to log data for tensorboard\n",
        "    writer = tbx.SummaryWriter()\n",
        "\n",
        "    # Looping over the epochs\n",
        "    for epoch in range(n_epochs):\n",
        "\n",
        "        # Setting the network to training mode\n",
        "        net.train()\n",
        "\n",
        "        # Initializing variables to store the total loss and metrics for the train set\n",
        "        train_loss = 0.0\n",
        "        train_l1_norm = 0.0\n",
        "        train_linf_norm = 0.0\n",
        "\n",
        "        # Looping over the batches in the train set\n",
        "        for x_batch, y_batch in train_loader:\n",
        "\n",
        "            # Moving the batch tensors to the device\n",
        "            x_batch = x_batch.to(device)\n",
        "            y_batch = y_batch.to(device)\n",
        "\n",
        "            # Zeroing the gradients\n",
        "            optimizer.zero_grad()\n",
        "\n",
        "            # Performing a forward pass and computing the loss and metrics\n",
        "            y_pred = net(x_batch)\n",
        "            loss, l1_norm, linf_norm = compute_loss_and_metrics(y_pred, y_batch, loss_fn)\n",
        "\n",
        "\n",
        "            # Performing a backward pass and updating the weights\n",
        "            loss.backward()\n",
        "            optimizer.step()\n",
        "\n",
        "            # Updating the total loss and metrics for the train set\n",
        "            train_loss += loss.item() * x_batch.size(0)\n",
        "            train_l1_norm += l1_norm.item() * x_batch.size(0)\n",
        "            train_linf_norm += linf_norm.item() * x_batch.size(0)\n",
        "\n",
        "        # Computing the average loss and metrics for the train set\n",
        "        train_loss /= len(train_loader.dataset)\n",
        "        train_l1_norm /= len(train_loader.dataset)\n",
        "        train_linf_norm /= len(train_loader.dataset)\n",
        "\n",
        "        # Appending the average loss and metrics for the train set to the lists\n",
        "        train_losses.append(train_loss)\n",
        "        train_metrics.append(\n",
        "            {\n",
        "                \"l1_norm\": train_l1_norm,\n",
        "                \"linf_norm\": train_linf_norm,\n",
        "            }\n",
        "        )\n",
        "\n",
        "        # Logging the average loss and metrics for the train set to tensorboard\n",
        "        writer.add_scalar(\"Loss/train\", train_loss, epoch)\n",
        "        writer.add_scalar(\"L1 norm/train\", train_l1_norm, epoch)\n",
        "        writer.add_scalar(\"Linf norm/train\", train_linf_norm, epoch)\n",
        "\n",
        "        if val_loader is not None:\n",
        "            net.eval()\n",
        "            val_loss = 0.0\n",
        "            val_l1_norm = 0.0\n",
        "            val_linf_norm = 0.0\n",
        "\n",
        "            with torch.no_grad():\n",
        "                for x_batch, y_batch in val_loader:\n",
        "                    x_batch = x_batch.to(device)\n",
        "                    y_batch = y_batch.to(device)\n",
        "                    y_pred = net(x_batch)\n",
        "                    loss, l1_norm, linf_norm = compute_loss_and_metrics(y_pred, y_batch, loss_fn)\n",
        "\n",
        "                    val_loss += loss.item() * x_batch.size(0)\n",
        "                    val_l1_norm += l1_norm.item() * x_batch.size(0)\n",
        "                    val_linf_norm += linf_norm.item() * x_batch.size(0)\n",
        "\n",
        "            val_loss /= len(val_loader.dataset)\n",
        "            val_l1_norm /= len(val_loader.dataset)\n",
        "            val_linf_norm /= len(val_loader.dataset)\n",
        "\n",
        "            val_losses.append(val_loss)\n",
        "            val_metrics.append(\n",
        "                {\n",
        "                    \"l1_norm\": val_l1_norm,\n",
        "                    \"linf_norm\": val_linf_norm,\n",
        "                }\n",
        "            )\n",
        "\n",
        "            writer.add_scalar(\"Loss/val\", val_loss, epoch)\n",
        "            writer.add_scalar(\"L1 norm/val\", val_l1_norm, epoch)\n",
        "            writer.add_scalar(\"Linf norm/val\", val_linf_norm, epoch)\n",
        "            print(f\"Epoch {epoch+1}/{n_epochs}.. Train loss: {train_loss:.3f}.. Val loss: {val_loss:.3f}.. Train L1 norm: {train_l1_norm:.3f}.. Val L1 norm: {val_l1_norm:.3f}.. Train Linf norm: {train_linf_norm:.3f}.. Val Linf norm: {val_linf_norm:.3f}\")\n",
        "\n",
        "\n",
        "            update_scheduler(scheduler, val_loss)\n",
        "\n",
        "        if test_loader is not None:\n",
        "            net.eval()\n",
        "            test_loss = 0.0\n",
        "            test_l1_norm = 0.0\n",
        "            test_linf_norm = 0.0\n",
        "\n",
        "            with torch.no_grad():\n",
        "                for x_batch, y_batch in test_loader:\n",
        "                    x_batch = x_batch.to(device)\n",
        "                    y_batch = y_batch.to(device)\n",
        "                    y_pred = net(x_batch)\n",
        "                    loss, l1_norm, linf_norm = compute_loss_and_metrics(y_pred, y_batch, loss_fn)\n",
        "\n",
        "                    test_loss += loss.item() * x_batch.size(0)\n",
        "                    test_l1_norm += l1_norm.item() * x_batch.size(0)\n",
        "                    test_linf_norm += linf_norm.item() * x_batch.size(0)\n",
        "\n",
        "            test_loss /= len(test_loader.dataset)\n",
        "            test_l1_norm /= len(test_loader.dataset)\n",
        "            test_linf_norm /= len(test_loader.dataset)\n",
        "\n",
        "            test_losses.append(test_loss)\n",
        "            test_metrics.append(\n",
        "                {\n",
        "                    \"l1_norm\": test_l1_norm,\n",
        "                    \"linf_norm\": test_linf_norm,\n",
        "                }\n",
        "            )\n",
        "\n",
        "            writer.add_scalar(\"Loss/test\", test_loss, epoch)\n",
        "            writer.add_scalar(\"L1 norm/test\", test_l1_norm, epoch)\n",
        "            writer.add_scalar(\"Linf norm/test\", test_linf_norm, epoch)\n",
        "            print(f\"Epoch {epoch+1}/{n_epochs}.. Train loss: {train_loss:.3f}.. Test loss: {test_loss:.3f}.. Train L1 norm: {train_l1_norm:.3f}.. Test L1 norm: {test_l1_norm:.3f}.. Train Linf norm: {train_linf_norm:.3f}.. Test Linf norm: {test_linf_norm:.3f}\")\n",
        "\n",
        "\n",
        "        # Reporting the intermediate metric value to Optuna if trial is not None\n",
        "        if trial is not None:\n",
        "            trial.report(val_l1_norm, epoch)\n",
        "\n",
        "            if trial.should_prune():\n",
        "                raise optuna.TrialPruned()\n",
        "\n",
        "    # Closing the SummaryWriter object\n",
        "    writer.close()\n",
        "\n",
        "    # Returning the losses and metrics lists\n",
        "    return train_losses, val_losses, test_losses, train_metrics, val_metrics, test_metrics\n"
      ]
    },
    {
      "attachments": {},
      "cell_type": "markdown",
      "metadata": {
        "id": "xg9jz0SvUZiQ"
      },
      "source": [
        "## The objective function and hyperparameter tuning"
      ]
    },
    {
      "cell_type": "code",
      "execution_count": 82,
      "metadata": {
        "id": "fmRncQPuUZiR"
      },
      "outputs": [],
      "source": [
        "# Defining an objective function for Optuna to minimize\n",
        "def objective(trial):\n",
        "    \"\"\"Defines an objective function for Optuna to minimize.\n",
        "\n",
        "    Args:\n",
        "        trial (optuna.trial.Trial): The trial object that contains the hyperparameters.\n",
        "\n",
        "    Returns:\n",
        "        float: The validation L1 norm to minimize.\n",
        "    \"\"\"\n",
        "    # Creating a trial network and optimizer using the create_model function\n",
        "    net, \\\n",
        "    loss_fn, \\\n",
        "    optimizer, \\\n",
        "    batch_size, \\\n",
        "    n_epochs, \\\n",
        "    scheduler, \\\n",
        "    loss_name, \\\n",
        "    optimizer_name, \\\n",
        "    scheduler_name, \\\n",
        "    n_units, \\\n",
        "    n_layers, \\\n",
        "    hidden_activation, \\\n",
        "    output_activation, \\\n",
        "    lr, \\\n",
        "    dropout_rate = create_model(trial, optimize=True)\n",
        "\n",
        "    # Create separate data loaders for training and validation\n",
        "    train_loader = torch.utils.data.DataLoader(\n",
        "        torch.utils.data.TensorDataset(x_train, y_train), batch_size=batch_size, shuffle=True\n",
        "    )\n",
        "    val_loader = torch.utils.data.DataLoader(\n",
        "        torch.utils.data.TensorDataset(x_val, y_val), batch_size=batch_size\n",
        "    )\n",
        "    \n",
        "    _, _, _, _, val_metrics, _ = train_and_eval(\n",
        "        net, loss_fn, optimizer, batch_size, n_epochs, scheduler, train_loader, val_loader, None, trial\n",
        "    )\n",
        "\n",
        "    # Returning the last validation L1 norm as the objective value to minimize\n",
        "    return val_metrics[-1][\"l1_norm\"]"
      ]
    },
    {
      "cell_type": "code",
      "execution_count": 83,
      "metadata": {
        "id": "GyES4NAyUZiS"
      },
      "outputs": [
        {
          "name": "stderr",
          "output_type": "stream",
          "text": [
            "\u001b[32m[I 2023-06-01 07:23:34,866]\u001b[0m A new study created in RDB with name: no-name-a665eb10-157c-4647-ac2f-9817856b3860\u001b[0m\n",
            "/tmp/ipykernel_565880/3579061573.py:44: FutureWarning: suggest_loguniform has been deprecated in v3.0.0. This feature will be removed in v6.0.0. See https://github.com/optuna/optuna/releases/tag/v3.0.0. Use :func:`~optuna.trial.Trial.suggest_float` instead.\n",
            "  lr = trial.suggest_loguniform(\"lr\", 1e-5, 1e-1)\n",
            "/tmp/ipykernel_565880/3579061573.py:76: FutureWarning: suggest_uniform has been deprecated in v3.0.0. This feature will be removed in v6.0.0. See https://github.com/optuna/optuna/releases/tag/v3.0.0. Use :func:`~optuna.trial.Trial.suggest_float` instead.\n",
            "  dropout_rate = trial.suggest_uniform(\"dropout_rate\", 0.0, 0.5)\n",
            "/tmp/ipykernel_565880/3579061573.py:145: FutureWarning: suggest_loguniform has been deprecated in v3.0.0. This feature will be removed in v6.0.0. See https://github.com/optuna/optuna/releases/tag/v3.0.0. Use :func:`~optuna.trial.Trial.suggest_float` instead.\n",
            "  weight_decay = trial.suggest_loguniform(\"weight_decay\", 1e-5, 1e-2)\n",
            "/tmp/ipykernel_565880/3579061573.py:146: FutureWarning: suggest_uniform has been deprecated in v3.0.0. This feature will be removed in v6.0.0. See https://github.com/optuna/optuna/releases/tag/v3.0.0. Use :func:`~optuna.trial.Trial.suggest_float` instead.\n",
            "  momentum = trial.suggest_uniform(\"momentum\", 0.0, 0.99)\n",
            "/tmp/ipykernel_565880/3579061573.py:168: FutureWarning: suggest_uniform has been deprecated in v3.0.0. This feature will be removed in v6.0.0. See https://github.com/optuna/optuna/releases/tag/v3.0.0. Use :func:`~optuna.trial.Trial.suggest_float` instead.\n",
            "  t_max_fraction = trial.suggest_uniform('t_max_fraction', 0.1, 0.3)\n",
            "/tmp/ipykernel_565880/3579061573.py:175: FutureWarning: suggest_loguniform has been deprecated in v3.0.0. This feature will be removed in v6.0.0. See https://github.com/optuna/optuna/releases/tag/v3.0.0. Use :func:`~optuna.trial.Trial.suggest_float` instead.\n",
            "  eta_min = trial.suggest_loguniform(\"eta_min\", 1e-7, 1e-2)\n",
            "WARNING:root:NaN or Inf found in input tensor.\n",
            "WARNING:root:NaN or Inf found in input tensor.\n",
            "WARNING:root:NaN or Inf found in input tensor.\n",
            "WARNING:root:NaN or Inf found in input tensor.\n",
            "WARNING:root:NaN or Inf found in input tensor.\n",
            "WARNING:root:NaN or Inf found in input tensor.\n",
            "WARNING:root:NaN or Inf found in input tensor.\n",
            "WARNING:root:NaN or Inf found in input tensor.\n",
            "WARNING:root:NaN or Inf found in input tensor.\n",
            "WARNING:root:NaN or Inf found in input tensor.\n",
            "WARNING:root:NaN or Inf found in input tensor.\n",
            "WARNING:root:NaN or Inf found in input tensor.\n",
            "WARNING:root:NaN or Inf found in input tensor.\n",
            "WARNING:root:NaN or Inf found in input tensor.\n",
            "WARNING:root:NaN or Inf found in input tensor.\n",
            "WARNING:root:NaN or Inf found in input tensor.\n",
            "WARNING:root:NaN or Inf found in input tensor.\n",
            "WARNING:root:NaN or Inf found in input tensor.\n",
            "WARNING:root:NaN or Inf found in input tensor.\n",
            "WARNING:root:NaN or Inf found in input tensor.\n",
            "WARNING:root:NaN or Inf found in input tensor.\n"
          ]
        },
        {
          "name": "stdout",
          "output_type": "stream",
          "text": [
            "Epoch 1/73.. Train loss: 20.090.. Val loss: 703.116.. Train L1 norm: 5.310.. Val L1 norm: 5.377.. Train Linf norm: 19.821.. Val Linf norm: 5.377\n",
            "Epoch 2/73.. Train loss: 11842.250.. Val loss: 211874.109.. Train L1 norm: 97.825.. Val L1 norm: 93.345.. Train Linf norm: 331.274.. Val Linf norm: 93.345\n",
            "Epoch 3/73.. Train loss: 4950984.000.. Val loss: 16367.842.. Train L1 norm: 2062.044.. Val L1 norm: 25.945.. Train Linf norm: 7320.961.. Val Linf norm: 25.945\n",
            "Epoch 4/73.. Train loss: 368210.844.. Val loss: 99238109184.000.. Train L1 norm: 539.124.. Val L1 norm: 63883.578.. Train Linf norm: 1872.680.. Val Linf norm: 63883.578\n",
            "Epoch 5/73.. Train loss: 2603371724800.000.. Val loss: 39535924284059756944949248.000.. Train L1 norm: 1673389.875.. Val L1 norm: 1275104985088.000.. Train Linf norm: 6647813.500.. Val Linf norm: 1275104985088.000\n",
            "Epoch 6/73.. Train loss: 686776487721855412441448448.000.. Val loss: inf.. Train L1 norm: 26995486359552.000.. Val L1 norm: inf.. Train Linf norm: 118339007414272.000.. Val Linf norm: inf\n",
            "Epoch 7/73.. Train loss: inf.. Val loss: nan.. Train L1 norm: inf.. Val L1 norm: nan.. Train Linf norm: inf.. Val Linf norm: nan\n",
            "Epoch 8/73.. Train loss: nan.. Val loss: nan.. Train L1 norm: nan.. Val L1 norm: nan.. Train Linf norm: nan.. Val Linf norm: nan\n",
            "Epoch 9/73.. Train loss: nan.. Val loss: nan.. Train L1 norm: nan.. Val L1 norm: nan.. Train Linf norm: nan.. Val Linf norm: nan\n"
          ]
        },
        {
          "name": "stderr",
          "output_type": "stream",
          "text": [
            "WARNING:root:NaN or Inf found in input tensor.\n",
            "WARNING:root:NaN or Inf found in input tensor.\n",
            "WARNING:root:NaN or Inf found in input tensor.\n",
            "WARNING:root:NaN or Inf found in input tensor.\n",
            "WARNING:root:NaN or Inf found in input tensor.\n",
            "WARNING:root:NaN or Inf found in input tensor.\n",
            "WARNING:root:NaN or Inf found in input tensor.\n",
            "WARNING:root:NaN or Inf found in input tensor.\n",
            "WARNING:root:NaN or Inf found in input tensor.\n",
            "WARNING:root:NaN or Inf found in input tensor.\n",
            "WARNING:root:NaN or Inf found in input tensor.\n",
            "WARNING:root:NaN or Inf found in input tensor.\n",
            "WARNING:root:NaN or Inf found in input tensor.\n",
            "WARNING:root:NaN or Inf found in input tensor.\n",
            "WARNING:root:NaN or Inf found in input tensor.\n",
            "WARNING:root:NaN or Inf found in input tensor.\n",
            "WARNING:root:NaN or Inf found in input tensor.\n",
            "WARNING:root:NaN or Inf found in input tensor.\n",
            "WARNING:root:NaN or Inf found in input tensor.\n",
            "WARNING:root:NaN or Inf found in input tensor.\n",
            "WARNING:root:NaN or Inf found in input tensor.\n",
            "WARNING:root:NaN or Inf found in input tensor.\n",
            "WARNING:root:NaN or Inf found in input tensor.\n",
            "WARNING:root:NaN or Inf found in input tensor.\n",
            "WARNING:root:NaN or Inf found in input tensor.\n",
            "WARNING:root:NaN or Inf found in input tensor.\n",
            "WARNING:root:NaN or Inf found in input tensor.\n",
            "WARNING:root:NaN or Inf found in input tensor.\n",
            "WARNING:root:NaN or Inf found in input tensor.\n",
            "WARNING:root:NaN or Inf found in input tensor.\n",
            "WARNING:root:NaN or Inf found in input tensor.\n",
            "WARNING:root:NaN or Inf found in input tensor.\n",
            "WARNING:root:NaN or Inf found in input tensor.\n",
            "WARNING:root:NaN or Inf found in input tensor.\n",
            "WARNING:root:NaN or Inf found in input tensor.\n",
            "WARNING:root:NaN or Inf found in input tensor.\n",
            "WARNING:root:NaN or Inf found in input tensor.\n",
            "WARNING:root:NaN or Inf found in input tensor.\n",
            "WARNING:root:NaN or Inf found in input tensor.\n",
            "WARNING:root:NaN or Inf found in input tensor.\n",
            "WARNING:root:NaN or Inf found in input tensor.\n",
            "WARNING:root:NaN or Inf found in input tensor.\n",
            "WARNING:root:NaN or Inf found in input tensor.\n",
            "WARNING:root:NaN or Inf found in input tensor.\n",
            "WARNING:root:NaN or Inf found in input tensor.\n"
          ]
        },
        {
          "name": "stdout",
          "output_type": "stream",
          "text": [
            "Epoch 10/73.. Train loss: nan.. Val loss: nan.. Train L1 norm: nan.. Val L1 norm: nan.. Train Linf norm: nan.. Val Linf norm: nan\n",
            "Epoch 11/73.. Train loss: nan.. Val loss: nan.. Train L1 norm: nan.. Val L1 norm: nan.. Train Linf norm: nan.. Val Linf norm: nan\n",
            "Epoch 12/73.. Train loss: nan.. Val loss: nan.. Train L1 norm: nan.. Val L1 norm: nan.. Train Linf norm: nan.. Val Linf norm: nan\n",
            "Epoch 13/73.. Train loss: nan.. Val loss: nan.. Train L1 norm: nan.. Val L1 norm: nan.. Train Linf norm: nan.. Val Linf norm: nan\n",
            "Epoch 14/73.. Train loss: nan.. Val loss: nan.. Train L1 norm: nan.. Val L1 norm: nan.. Train Linf norm: nan.. Val Linf norm: nan\n",
            "Epoch 15/73.. Train loss: nan.. Val loss: nan.. Train L1 norm: nan.. Val L1 norm: nan.. Train Linf norm: nan.. Val Linf norm: nan\n",
            "Epoch 16/73.. Train loss: nan.. Val loss: nan.. Train L1 norm: nan.. Val L1 norm: nan.. Train Linf norm: nan.. Val Linf norm: nan\n"
          ]
        },
        {
          "name": "stderr",
          "output_type": "stream",
          "text": [
            "WARNING:root:NaN or Inf found in input tensor.\n",
            "WARNING:root:NaN or Inf found in input tensor.\n",
            "WARNING:root:NaN or Inf found in input tensor.\n",
            "WARNING:root:NaN or Inf found in input tensor.\n",
            "WARNING:root:NaN or Inf found in input tensor.\n",
            "WARNING:root:NaN or Inf found in input tensor.\n",
            "WARNING:root:NaN or Inf found in input tensor.\n",
            "WARNING:root:NaN or Inf found in input tensor.\n",
            "WARNING:root:NaN or Inf found in input tensor.\n",
            "WARNING:root:NaN or Inf found in input tensor.\n",
            "WARNING:root:NaN or Inf found in input tensor.\n",
            "WARNING:root:NaN or Inf found in input tensor.\n",
            "WARNING:root:NaN or Inf found in input tensor.\n",
            "WARNING:root:NaN or Inf found in input tensor.\n",
            "WARNING:root:NaN or Inf found in input tensor.\n",
            "WARNING:root:NaN or Inf found in input tensor.\n",
            "WARNING:root:NaN or Inf found in input tensor.\n",
            "WARNING:root:NaN or Inf found in input tensor.\n",
            "WARNING:root:NaN or Inf found in input tensor.\n",
            "WARNING:root:NaN or Inf found in input tensor.\n",
            "WARNING:root:NaN or Inf found in input tensor.\n",
            "WARNING:root:NaN or Inf found in input tensor.\n",
            "WARNING:root:NaN or Inf found in input tensor.\n",
            "WARNING:root:NaN or Inf found in input tensor.\n",
            "WARNING:root:NaN or Inf found in input tensor.\n",
            "WARNING:root:NaN or Inf found in input tensor.\n",
            "WARNING:root:NaN or Inf found in input tensor.\n"
          ]
        },
        {
          "name": "stdout",
          "output_type": "stream",
          "text": [
            "Epoch 17/73.. Train loss: nan.. Val loss: nan.. Train L1 norm: nan.. Val L1 norm: nan.. Train Linf norm: nan.. Val Linf norm: nan\n",
            "Epoch 18/73.. Train loss: nan.. Val loss: nan.. Train L1 norm: nan.. Val L1 norm: nan.. Train Linf norm: nan.. Val Linf norm: nan\n",
            "Epoch 19/73.. Train loss: nan.. Val loss: nan.. Train L1 norm: nan.. Val L1 norm: nan.. Train Linf norm: nan.. Val Linf norm: nan\n",
            "Epoch 20/73.. Train loss: nan.. Val loss: nan.. Train L1 norm: nan.. Val L1 norm: nan.. Train Linf norm: nan.. Val Linf norm: nan\n",
            "Epoch 21/73.. Train loss: nan.. Val loss: nan.. Train L1 norm: nan.. Val L1 norm: nan.. Train Linf norm: nan.. Val Linf norm: nan\n"
          ]
        },
        {
          "name": "stderr",
          "output_type": "stream",
          "text": [
            "WARNING:root:NaN or Inf found in input tensor.\n",
            "WARNING:root:NaN or Inf found in input tensor.\n",
            "WARNING:root:NaN or Inf found in input tensor.\n",
            "WARNING:root:NaN or Inf found in input tensor.\n",
            "WARNING:root:NaN or Inf found in input tensor.\n",
            "WARNING:root:NaN or Inf found in input tensor.\n",
            "WARNING:root:NaN or Inf found in input tensor.\n",
            "WARNING:root:NaN or Inf found in input tensor.\n",
            "WARNING:root:NaN or Inf found in input tensor.\n",
            "WARNING:root:NaN or Inf found in input tensor.\n",
            "WARNING:root:NaN or Inf found in input tensor.\n",
            "WARNING:root:NaN or Inf found in input tensor.\n",
            "WARNING:root:NaN or Inf found in input tensor.\n",
            "WARNING:root:NaN or Inf found in input tensor.\n",
            "WARNING:root:NaN or Inf found in input tensor.\n",
            "WARNING:root:NaN or Inf found in input tensor.\n",
            "WARNING:root:NaN or Inf found in input tensor.\n",
            "WARNING:root:NaN or Inf found in input tensor.\n",
            "WARNING:root:NaN or Inf found in input tensor.\n",
            "WARNING:root:NaN or Inf found in input tensor.\n",
            "WARNING:root:NaN or Inf found in input tensor.\n",
            "WARNING:root:NaN or Inf found in input tensor.\n",
            "WARNING:root:NaN or Inf found in input tensor.\n",
            "WARNING:root:NaN or Inf found in input tensor.\n",
            "WARNING:root:NaN or Inf found in input tensor.\n",
            "WARNING:root:NaN or Inf found in input tensor.\n",
            "WARNING:root:NaN or Inf found in input tensor.\n",
            "WARNING:root:NaN or Inf found in input tensor.\n",
            "WARNING:root:NaN or Inf found in input tensor.\n",
            "WARNING:root:NaN or Inf found in input tensor.\n",
            "WARNING:root:NaN or Inf found in input tensor.\n",
            "WARNING:root:NaN or Inf found in input tensor.\n",
            "WARNING:root:NaN or Inf found in input tensor.\n",
            "WARNING:root:NaN or Inf found in input tensor.\n",
            "WARNING:root:NaN or Inf found in input tensor.\n",
            "WARNING:root:NaN or Inf found in input tensor.\n"
          ]
        },
        {
          "name": "stdout",
          "output_type": "stream",
          "text": [
            "Epoch 22/73.. Train loss: nan.. Val loss: nan.. Train L1 norm: nan.. Val L1 norm: nan.. Train Linf norm: nan.. Val Linf norm: nan\n",
            "Epoch 23/73.. Train loss: nan.. Val loss: nan.. Train L1 norm: nan.. Val L1 norm: nan.. Train Linf norm: nan.. Val Linf norm: nan\n",
            "Epoch 24/73.. Train loss: nan.. Val loss: nan.. Train L1 norm: nan.. Val L1 norm: nan.. Train Linf norm: nan.. Val Linf norm: nan\n",
            "Epoch 25/73.. Train loss: nan.. Val loss: nan.. Train L1 norm: nan.. Val L1 norm: nan.. Train Linf norm: nan.. Val Linf norm: nan\n",
            "Epoch 26/73.. Train loss: nan.. Val loss: nan.. Train L1 norm: nan.. Val L1 norm: nan.. Train Linf norm: nan.. Val Linf norm: nan\n",
            "Epoch 27/73.. Train loss: nan.. Val loss: nan.. Train L1 norm: nan.. Val L1 norm: nan.. Train Linf norm: nan.. Val Linf norm: nan\n"
          ]
        },
        {
          "name": "stderr",
          "output_type": "stream",
          "text": [
            "WARNING:root:NaN or Inf found in input tensor.\n",
            "WARNING:root:NaN or Inf found in input tensor.\n",
            "WARNING:root:NaN or Inf found in input tensor.\n",
            "WARNING:root:NaN or Inf found in input tensor.\n",
            "WARNING:root:NaN or Inf found in input tensor.\n",
            "WARNING:root:NaN or Inf found in input tensor.\n",
            "WARNING:root:NaN or Inf found in input tensor.\n",
            "WARNING:root:NaN or Inf found in input tensor.\n",
            "WARNING:root:NaN or Inf found in input tensor.\n",
            "WARNING:root:NaN or Inf found in input tensor.\n",
            "WARNING:root:NaN or Inf found in input tensor.\n",
            "WARNING:root:NaN or Inf found in input tensor.\n",
            "WARNING:root:NaN or Inf found in input tensor.\n",
            "WARNING:root:NaN or Inf found in input tensor.\n",
            "WARNING:root:NaN or Inf found in input tensor.\n",
            "WARNING:root:NaN or Inf found in input tensor.\n",
            "WARNING:root:NaN or Inf found in input tensor.\n",
            "WARNING:root:NaN or Inf found in input tensor.\n",
            "WARNING:root:NaN or Inf found in input tensor.\n",
            "WARNING:root:NaN or Inf found in input tensor.\n",
            "WARNING:root:NaN or Inf found in input tensor.\n",
            "WARNING:root:NaN or Inf found in input tensor.\n",
            "WARNING:root:NaN or Inf found in input tensor.\n",
            "WARNING:root:NaN or Inf found in input tensor.\n",
            "WARNING:root:NaN or Inf found in input tensor.\n",
            "WARNING:root:NaN or Inf found in input tensor.\n"
          ]
        },
        {
          "name": "stdout",
          "output_type": "stream",
          "text": [
            "Epoch 28/73.. Train loss: nan.. Val loss: nan.. Train L1 norm: nan.. Val L1 norm: nan.. Train Linf norm: nan.. Val Linf norm: nan\n",
            "Epoch 29/73.. Train loss: nan.. Val loss: nan.. Train L1 norm: nan.. Val L1 norm: nan.. Train Linf norm: nan.. Val Linf norm: nan\n",
            "Epoch 30/73.. Train loss: nan.. Val loss: nan.. Train L1 norm: nan.. Val L1 norm: nan.. Train Linf norm: nan.. Val Linf norm: nan\n",
            "Epoch 31/73.. Train loss: nan.. Val loss: nan.. Train L1 norm: nan.. Val L1 norm: nan.. Train Linf norm: nan.. Val Linf norm: nan\n"
          ]
        },
        {
          "name": "stderr",
          "output_type": "stream",
          "text": [
            "WARNING:root:NaN or Inf found in input tensor.\n",
            "WARNING:root:NaN or Inf found in input tensor.\n",
            "WARNING:root:NaN or Inf found in input tensor.\n",
            "WARNING:root:NaN or Inf found in input tensor.\n",
            "WARNING:root:NaN or Inf found in input tensor.\n",
            "WARNING:root:NaN or Inf found in input tensor.\n",
            "WARNING:root:NaN or Inf found in input tensor.\n",
            "WARNING:root:NaN or Inf found in input tensor.\n",
            "WARNING:root:NaN or Inf found in input tensor.\n",
            "WARNING:root:NaN or Inf found in input tensor.\n",
            "WARNING:root:NaN or Inf found in input tensor.\n",
            "WARNING:root:NaN or Inf found in input tensor.\n",
            "WARNING:root:NaN or Inf found in input tensor.\n",
            "WARNING:root:NaN or Inf found in input tensor.\n",
            "WARNING:root:NaN or Inf found in input tensor.\n",
            "WARNING:root:NaN or Inf found in input tensor.\n",
            "WARNING:root:NaN or Inf found in input tensor.\n",
            "WARNING:root:NaN or Inf found in input tensor.\n",
            "WARNING:root:NaN or Inf found in input tensor.\n",
            "WARNING:root:NaN or Inf found in input tensor.\n",
            "WARNING:root:NaN or Inf found in input tensor.\n",
            "WARNING:root:NaN or Inf found in input tensor.\n",
            "WARNING:root:NaN or Inf found in input tensor.\n",
            "WARNING:root:NaN or Inf found in input tensor.\n",
            "WARNING:root:NaN or Inf found in input tensor.\n",
            "WARNING:root:NaN or Inf found in input tensor.\n",
            "WARNING:root:NaN or Inf found in input tensor.\n",
            "WARNING:root:NaN or Inf found in input tensor.\n",
            "WARNING:root:NaN or Inf found in input tensor.\n",
            "WARNING:root:NaN or Inf found in input tensor.\n",
            "WARNING:root:NaN or Inf found in input tensor.\n",
            "WARNING:root:NaN or Inf found in input tensor.\n",
            "WARNING:root:NaN or Inf found in input tensor.\n",
            "WARNING:root:NaN or Inf found in input tensor.\n",
            "WARNING:root:NaN or Inf found in input tensor.\n",
            "WARNING:root:NaN or Inf found in input tensor.\n",
            "WARNING:root:NaN or Inf found in input tensor.\n",
            "WARNING:root:NaN or Inf found in input tensor.\n",
            "WARNING:root:NaN or Inf found in input tensor.\n",
            "WARNING:root:NaN or Inf found in input tensor.\n"
          ]
        },
        {
          "name": "stdout",
          "output_type": "stream",
          "text": [
            "Epoch 32/73.. Train loss: nan.. Val loss: nan.. Train L1 norm: nan.. Val L1 norm: nan.. Train Linf norm: nan.. Val Linf norm: nan\n",
            "Epoch 33/73.. Train loss: nan.. Val loss: nan.. Train L1 norm: nan.. Val L1 norm: nan.. Train Linf norm: nan.. Val Linf norm: nan\n",
            "Epoch 34/73.. Train loss: nan.. Val loss: nan.. Train L1 norm: nan.. Val L1 norm: nan.. Train Linf norm: nan.. Val Linf norm: nan\n",
            "Epoch 35/73.. Train loss: nan.. Val loss: nan.. Train L1 norm: nan.. Val L1 norm: nan.. Train Linf norm: nan.. Val Linf norm: nan\n",
            "Epoch 36/73.. Train loss: nan.. Val loss: nan.. Train L1 norm: nan.. Val L1 norm: nan.. Train Linf norm: nan.. Val Linf norm: nan\n",
            "Epoch 37/73.. Train loss: nan.. Val loss: nan.. Train L1 norm: nan.. Val L1 norm: nan.. Train Linf norm: nan.. Val Linf norm: nan\n",
            "Epoch 38/73.. Train loss: nan.. Val loss: nan.. Train L1 norm: nan.. Val L1 norm: nan.. Train Linf norm: nan.. Val Linf norm: nan\n"
          ]
        },
        {
          "name": "stderr",
          "output_type": "stream",
          "text": [
            "WARNING:root:NaN or Inf found in input tensor.\n",
            "WARNING:root:NaN or Inf found in input tensor.\n",
            "WARNING:root:NaN or Inf found in input tensor.\n",
            "WARNING:root:NaN or Inf found in input tensor.\n",
            "WARNING:root:NaN or Inf found in input tensor.\n",
            "WARNING:root:NaN or Inf found in input tensor.\n",
            "WARNING:root:NaN or Inf found in input tensor.\n",
            "WARNING:root:NaN or Inf found in input tensor.\n",
            "WARNING:root:NaN or Inf found in input tensor.\n",
            "WARNING:root:NaN or Inf found in input tensor.\n",
            "WARNING:root:NaN or Inf found in input tensor.\n",
            "WARNING:root:NaN or Inf found in input tensor.\n",
            "WARNING:root:NaN or Inf found in input tensor.\n",
            "WARNING:root:NaN or Inf found in input tensor.\n",
            "WARNING:root:NaN or Inf found in input tensor.\n",
            "WARNING:root:NaN or Inf found in input tensor.\n",
            "WARNING:root:NaN or Inf found in input tensor.\n",
            "WARNING:root:NaN or Inf found in input tensor.\n",
            "WARNING:root:NaN or Inf found in input tensor.\n",
            "WARNING:root:NaN or Inf found in input tensor.\n",
            "WARNING:root:NaN or Inf found in input tensor.\n",
            "WARNING:root:NaN or Inf found in input tensor.\n",
            "WARNING:root:NaN or Inf found in input tensor.\n",
            "WARNING:root:NaN or Inf found in input tensor.\n",
            "WARNING:root:NaN or Inf found in input tensor.\n",
            "WARNING:root:NaN or Inf found in input tensor.\n",
            "WARNING:root:NaN or Inf found in input tensor.\n",
            "WARNING:root:NaN or Inf found in input tensor.\n",
            "WARNING:root:NaN or Inf found in input tensor.\n",
            "WARNING:root:NaN or Inf found in input tensor.\n",
            "WARNING:root:NaN or Inf found in input tensor.\n",
            "WARNING:root:NaN or Inf found in input tensor.\n",
            "WARNING:root:NaN or Inf found in input tensor.\n",
            "WARNING:root:NaN or Inf found in input tensor.\n",
            "WARNING:root:NaN or Inf found in input tensor.\n",
            "WARNING:root:NaN or Inf found in input tensor.\n",
            "WARNING:root:NaN or Inf found in input tensor.\n",
            "WARNING:root:NaN or Inf found in input tensor.\n",
            "WARNING:root:NaN or Inf found in input tensor.\n",
            "WARNING:root:NaN or Inf found in input tensor.\n",
            "WARNING:root:NaN or Inf found in input tensor.\n",
            "WARNING:root:NaN or Inf found in input tensor.\n",
            "WARNING:root:NaN or Inf found in input tensor.\n"
          ]
        },
        {
          "name": "stdout",
          "output_type": "stream",
          "text": [
            "Epoch 39/73.. Train loss: nan.. Val loss: nan.. Train L1 norm: nan.. Val L1 norm: nan.. Train Linf norm: nan.. Val Linf norm: nan\n",
            "Epoch 40/73.. Train loss: nan.. Val loss: nan.. Train L1 norm: nan.. Val L1 norm: nan.. Train Linf norm: nan.. Val Linf norm: nan\n",
            "Epoch 41/73.. Train loss: nan.. Val loss: nan.. Train L1 norm: nan.. Val L1 norm: nan.. Train Linf norm: nan.. Val Linf norm: nan\n",
            "Epoch 42/73.. Train loss: nan.. Val loss: nan.. Train L1 norm: nan.. Val L1 norm: nan.. Train Linf norm: nan.. Val Linf norm: nan\n",
            "Epoch 43/73.. Train loss: nan.. Val loss: nan.. Train L1 norm: nan.. Val L1 norm: nan.. Train Linf norm: nan.. Val Linf norm: nan\n",
            "Epoch 44/73.. Train loss: nan.. Val loss: nan.. Train L1 norm: nan.. Val L1 norm: nan.. Train Linf norm: nan.. Val Linf norm: nan\n",
            "Epoch 45/73.. Train loss: nan.. Val loss: nan.. Train L1 norm: nan.. Val L1 norm: nan.. Train Linf norm: nan.. Val Linf norm: nan\n"
          ]
        },
        {
          "name": "stderr",
          "output_type": "stream",
          "text": [
            "WARNING:root:NaN or Inf found in input tensor.\n",
            "WARNING:root:NaN or Inf found in input tensor.\n",
            "WARNING:root:NaN or Inf found in input tensor.\n",
            "WARNING:root:NaN or Inf found in input tensor.\n",
            "WARNING:root:NaN or Inf found in input tensor.\n",
            "WARNING:root:NaN or Inf found in input tensor.\n",
            "WARNING:root:NaN or Inf found in input tensor.\n",
            "WARNING:root:NaN or Inf found in input tensor.\n",
            "WARNING:root:NaN or Inf found in input tensor.\n",
            "WARNING:root:NaN or Inf found in input tensor.\n",
            "WARNING:root:NaN or Inf found in input tensor.\n",
            "WARNING:root:NaN or Inf found in input tensor.\n",
            "WARNING:root:NaN or Inf found in input tensor.\n",
            "WARNING:root:NaN or Inf found in input tensor.\n",
            "WARNING:root:NaN or Inf found in input tensor.\n",
            "WARNING:root:NaN or Inf found in input tensor.\n",
            "WARNING:root:NaN or Inf found in input tensor.\n",
            "WARNING:root:NaN or Inf found in input tensor.\n",
            "WARNING:root:NaN or Inf found in input tensor.\n",
            "WARNING:root:NaN or Inf found in input tensor.\n",
            "WARNING:root:NaN or Inf found in input tensor.\n",
            "WARNING:root:NaN or Inf found in input tensor.\n",
            "WARNING:root:NaN or Inf found in input tensor.\n",
            "WARNING:root:NaN or Inf found in input tensor.\n",
            "WARNING:root:NaN or Inf found in input tensor.\n",
            "WARNING:root:NaN or Inf found in input tensor.\n",
            "WARNING:root:NaN or Inf found in input tensor.\n",
            "WARNING:root:NaN or Inf found in input tensor.\n",
            "WARNING:root:NaN or Inf found in input tensor.\n",
            "WARNING:root:NaN or Inf found in input tensor.\n",
            "WARNING:root:NaN or Inf found in input tensor.\n",
            "WARNING:root:NaN or Inf found in input tensor.\n",
            "WARNING:root:NaN or Inf found in input tensor.\n",
            "WARNING:root:NaN or Inf found in input tensor.\n",
            "WARNING:root:NaN or Inf found in input tensor.\n",
            "WARNING:root:NaN or Inf found in input tensor.\n",
            "WARNING:root:NaN or Inf found in input tensor.\n",
            "WARNING:root:NaN or Inf found in input tensor.\n",
            "WARNING:root:NaN or Inf found in input tensor.\n",
            "WARNING:root:NaN or Inf found in input tensor.\n"
          ]
        },
        {
          "name": "stdout",
          "output_type": "stream",
          "text": [
            "Epoch 46/73.. Train loss: nan.. Val loss: nan.. Train L1 norm: nan.. Val L1 norm: nan.. Train Linf norm: nan.. Val Linf norm: nan\n",
            "Epoch 47/73.. Train loss: nan.. Val loss: nan.. Train L1 norm: nan.. Val L1 norm: nan.. Train Linf norm: nan.. Val Linf norm: nan\n",
            "Epoch 48/73.. Train loss: nan.. Val loss: nan.. Train L1 norm: nan.. Val L1 norm: nan.. Train Linf norm: nan.. Val Linf norm: nan\n",
            "Epoch 49/73.. Train loss: nan.. Val loss: nan.. Train L1 norm: nan.. Val L1 norm: nan.. Train Linf norm: nan.. Val Linf norm: nan\n",
            "Epoch 50/73.. Train loss: nan.. Val loss: nan.. Train L1 norm: nan.. Val L1 norm: nan.. Train Linf norm: nan.. Val Linf norm: nan\n",
            "Epoch 51/73.. Train loss: nan.. Val loss: nan.. Train L1 norm: nan.. Val L1 norm: nan.. Train Linf norm: nan.. Val Linf norm: nan\n"
          ]
        },
        {
          "name": "stderr",
          "output_type": "stream",
          "text": [
            "WARNING:root:NaN or Inf found in input tensor.\n",
            "WARNING:root:NaN or Inf found in input tensor.\n",
            "WARNING:root:NaN or Inf found in input tensor.\n",
            "WARNING:root:NaN or Inf found in input tensor.\n",
            "WARNING:root:NaN or Inf found in input tensor.\n",
            "WARNING:root:NaN or Inf found in input tensor.\n",
            "WARNING:root:NaN or Inf found in input tensor.\n",
            "WARNING:root:NaN or Inf found in input tensor.\n",
            "WARNING:root:NaN or Inf found in input tensor.\n",
            "WARNING:root:NaN or Inf found in input tensor.\n",
            "WARNING:root:NaN or Inf found in input tensor.\n",
            "WARNING:root:NaN or Inf found in input tensor.\n",
            "WARNING:root:NaN or Inf found in input tensor.\n",
            "WARNING:root:NaN or Inf found in input tensor.\n",
            "WARNING:root:NaN or Inf found in input tensor.\n",
            "WARNING:root:NaN or Inf found in input tensor.\n",
            "WARNING:root:NaN or Inf found in input tensor.\n",
            "WARNING:root:NaN or Inf found in input tensor.\n",
            "WARNING:root:NaN or Inf found in input tensor.\n",
            "WARNING:root:NaN or Inf found in input tensor.\n",
            "WARNING:root:NaN or Inf found in input tensor.\n",
            "WARNING:root:NaN or Inf found in input tensor.\n",
            "WARNING:root:NaN or Inf found in input tensor.\n",
            "WARNING:root:NaN or Inf found in input tensor.\n",
            "WARNING:root:NaN or Inf found in input tensor.\n",
            "WARNING:root:NaN or Inf found in input tensor.\n",
            "WARNING:root:NaN or Inf found in input tensor.\n",
            "WARNING:root:NaN or Inf found in input tensor.\n",
            "WARNING:root:NaN or Inf found in input tensor.\n",
            "WARNING:root:NaN or Inf found in input tensor.\n",
            "WARNING:root:NaN or Inf found in input tensor.\n",
            "WARNING:root:NaN or Inf found in input tensor.\n",
            "WARNING:root:NaN or Inf found in input tensor.\n",
            "WARNING:root:NaN or Inf found in input tensor.\n",
            "WARNING:root:NaN or Inf found in input tensor.\n",
            "WARNING:root:NaN or Inf found in input tensor.\n",
            "WARNING:root:NaN or Inf found in input tensor.\n"
          ]
        },
        {
          "name": "stdout",
          "output_type": "stream",
          "text": [
            "Epoch 52/73.. Train loss: nan.. Val loss: nan.. Train L1 norm: nan.. Val L1 norm: nan.. Train Linf norm: nan.. Val Linf norm: nan\n",
            "Epoch 53/73.. Train loss: nan.. Val loss: nan.. Train L1 norm: nan.. Val L1 norm: nan.. Train Linf norm: nan.. Val Linf norm: nan\n",
            "Epoch 54/73.. Train loss: nan.. Val loss: nan.. Train L1 norm: nan.. Val L1 norm: nan.. Train Linf norm: nan.. Val Linf norm: nan\n",
            "Epoch 55/73.. Train loss: nan.. Val loss: nan.. Train L1 norm: nan.. Val L1 norm: nan.. Train Linf norm: nan.. Val Linf norm: nan\n",
            "Epoch 56/73.. Train loss: nan.. Val loss: nan.. Train L1 norm: nan.. Val L1 norm: nan.. Train Linf norm: nan.. Val Linf norm: nan\n",
            "Epoch 57/73.. Train loss: nan.. Val loss: nan.. Train L1 norm: nan.. Val L1 norm: nan.. Train Linf norm: nan.. Val Linf norm: nan\n",
            "Epoch 58/73.. Train loss: nan.. Val loss: nan.. Train L1 norm: nan.. Val L1 norm: nan.. Train Linf norm: nan.. Val Linf norm: nan\n"
          ]
        },
        {
          "name": "stderr",
          "output_type": "stream",
          "text": [
            "WARNING:root:NaN or Inf found in input tensor.\n",
            "WARNING:root:NaN or Inf found in input tensor.\n",
            "WARNING:root:NaN or Inf found in input tensor.\n",
            "WARNING:root:NaN or Inf found in input tensor.\n",
            "WARNING:root:NaN or Inf found in input tensor.\n",
            "WARNING:root:NaN or Inf found in input tensor.\n",
            "WARNING:root:NaN or Inf found in input tensor.\n",
            "WARNING:root:NaN or Inf found in input tensor.\n",
            "WARNING:root:NaN or Inf found in input tensor.\n",
            "WARNING:root:NaN or Inf found in input tensor.\n",
            "WARNING:root:NaN or Inf found in input tensor.\n",
            "WARNING:root:NaN or Inf found in input tensor.\n",
            "WARNING:root:NaN or Inf found in input tensor.\n",
            "WARNING:root:NaN or Inf found in input tensor.\n",
            "WARNING:root:NaN or Inf found in input tensor.\n",
            "WARNING:root:NaN or Inf found in input tensor.\n",
            "WARNING:root:NaN or Inf found in input tensor.\n",
            "WARNING:root:NaN or Inf found in input tensor.\n",
            "WARNING:root:NaN or Inf found in input tensor.\n",
            "WARNING:root:NaN or Inf found in input tensor.\n",
            "WARNING:root:NaN or Inf found in input tensor.\n",
            "WARNING:root:NaN or Inf found in input tensor.\n",
            "WARNING:root:NaN or Inf found in input tensor.\n",
            "WARNING:root:NaN or Inf found in input tensor.\n",
            "WARNING:root:NaN or Inf found in input tensor.\n",
            "WARNING:root:NaN or Inf found in input tensor.\n",
            "WARNING:root:NaN or Inf found in input tensor.\n",
            "WARNING:root:NaN or Inf found in input tensor.\n",
            "WARNING:root:NaN or Inf found in input tensor.\n",
            "WARNING:root:NaN or Inf found in input tensor.\n",
            "WARNING:root:NaN or Inf found in input tensor.\n",
            "WARNING:root:NaN or Inf found in input tensor.\n",
            "WARNING:root:NaN or Inf found in input tensor.\n",
            "WARNING:root:NaN or Inf found in input tensor.\n",
            "WARNING:root:NaN or Inf found in input tensor.\n",
            "WARNING:root:NaN or Inf found in input tensor.\n",
            "WARNING:root:NaN or Inf found in input tensor.\n",
            "WARNING:root:NaN or Inf found in input tensor.\n",
            "WARNING:root:NaN or Inf found in input tensor.\n",
            "WARNING:root:NaN or Inf found in input tensor.\n",
            "WARNING:root:NaN or Inf found in input tensor.\n",
            "WARNING:root:NaN or Inf found in input tensor.\n",
            "WARNING:root:NaN or Inf found in input tensor.\n"
          ]
        },
        {
          "name": "stdout",
          "output_type": "stream",
          "text": [
            "Epoch 59/73.. Train loss: nan.. Val loss: nan.. Train L1 norm: nan.. Val L1 norm: nan.. Train Linf norm: nan.. Val Linf norm: nan\n",
            "Epoch 60/73.. Train loss: nan.. Val loss: nan.. Train L1 norm: nan.. Val L1 norm: nan.. Train Linf norm: nan.. Val Linf norm: nan\n",
            "Epoch 61/73.. Train loss: nan.. Val loss: nan.. Train L1 norm: nan.. Val L1 norm: nan.. Train Linf norm: nan.. Val Linf norm: nan\n",
            "Epoch 62/73.. Train loss: nan.. Val loss: nan.. Train L1 norm: nan.. Val L1 norm: nan.. Train Linf norm: nan.. Val Linf norm: nan\n",
            "Epoch 63/73.. Train loss: nan.. Val loss: nan.. Train L1 norm: nan.. Val L1 norm: nan.. Train Linf norm: nan.. Val Linf norm: nan\n",
            "Epoch 64/73.. Train loss: nan.. Val loss: nan.. Train L1 norm: nan.. Val L1 norm: nan.. Train Linf norm: nan.. Val Linf norm: nan\n",
            "Epoch 65/73.. Train loss: nan.. Val loss: nan.. Train L1 norm: nan.. Val L1 norm: nan.. Train Linf norm: nan.. Val Linf norm: nan\n"
          ]
        },
        {
          "name": "stderr",
          "output_type": "stream",
          "text": [
            "WARNING:root:NaN or Inf found in input tensor.\n",
            "WARNING:root:NaN or Inf found in input tensor.\n",
            "WARNING:root:NaN or Inf found in input tensor.\n",
            "WARNING:root:NaN or Inf found in input tensor.\n",
            "WARNING:root:NaN or Inf found in input tensor.\n",
            "WARNING:root:NaN or Inf found in input tensor.\n",
            "WARNING:root:NaN or Inf found in input tensor.\n",
            "WARNING:root:NaN or Inf found in input tensor.\n",
            "WARNING:root:NaN or Inf found in input tensor.\n",
            "WARNING:root:NaN or Inf found in input tensor.\n",
            "WARNING:root:NaN or Inf found in input tensor.\n",
            "WARNING:root:NaN or Inf found in input tensor.\n",
            "WARNING:root:NaN or Inf found in input tensor.\n",
            "WARNING:root:NaN or Inf found in input tensor.\n",
            "WARNING:root:NaN or Inf found in input tensor.\n",
            "WARNING:root:NaN or Inf found in input tensor.\n",
            "WARNING:root:NaN or Inf found in input tensor.\n",
            "WARNING:root:NaN or Inf found in input tensor.\n",
            "WARNING:root:NaN or Inf found in input tensor.\n",
            "WARNING:root:NaN or Inf found in input tensor.\n",
            "WARNING:root:NaN or Inf found in input tensor.\n",
            "WARNING:root:NaN or Inf found in input tensor.\n",
            "WARNING:root:NaN or Inf found in input tensor.\n",
            "WARNING:root:NaN or Inf found in input tensor.\n",
            "WARNING:root:NaN or Inf found in input tensor.\n"
          ]
        },
        {
          "name": "stdout",
          "output_type": "stream",
          "text": [
            "Epoch 66/73.. Train loss: nan.. Val loss: nan.. Train L1 norm: nan.. Val L1 norm: nan.. Train Linf norm: nan.. Val Linf norm: nan\n",
            "Epoch 67/73.. Train loss: nan.. Val loss: nan.. Train L1 norm: nan.. Val L1 norm: nan.. Train Linf norm: nan.. Val Linf norm: nan\n",
            "Epoch 68/73.. Train loss: nan.. Val loss: nan.. Train L1 norm: nan.. Val L1 norm: nan.. Train Linf norm: nan.. Val Linf norm: nan\n",
            "Epoch 69/73.. Train loss: nan.. Val loss: nan.. Train L1 norm: nan.. Val L1 norm: nan.. Train Linf norm: nan.. Val Linf norm: nan\n"
          ]
        },
        {
          "name": "stderr",
          "output_type": "stream",
          "text": [
            "WARNING:root:NaN or Inf found in input tensor.\n",
            "WARNING:root:NaN or Inf found in input tensor.\n",
            "WARNING:root:NaN or Inf found in input tensor.\n",
            "WARNING:root:NaN or Inf found in input tensor.\n",
            "WARNING:root:NaN or Inf found in input tensor.\n",
            "WARNING:root:NaN or Inf found in input tensor.\n",
            "WARNING:root:NaN or Inf found in input tensor.\n",
            "WARNING:root:NaN or Inf found in input tensor.\n",
            "WARNING:root:NaN or Inf found in input tensor.\n",
            "WARNING:root:NaN or Inf found in input tensor.\n",
            "WARNING:root:NaN or Inf found in input tensor.\n",
            "WARNING:root:NaN or Inf found in input tensor.\n",
            "WARNING:root:NaN or Inf found in input tensor.\n",
            "WARNING:root:NaN or Inf found in input tensor.\n",
            "WARNING:root:NaN or Inf found in input tensor.\n",
            "WARNING:root:NaN or Inf found in input tensor.\n",
            "WARNING:root:NaN or Inf found in input tensor.\n",
            "WARNING:root:NaN or Inf found in input tensor.\n",
            "WARNING:root:NaN or Inf found in input tensor.\n",
            "WARNING:root:NaN or Inf found in input tensor.\n",
            "WARNING:root:NaN or Inf found in input tensor.\n",
            "WARNING:root:NaN or Inf found in input tensor.\n",
            "\u001b[33m[W 2023-06-01 07:23:37,573]\u001b[0m Trial 0 failed with parameters: {'n_layers': 2, 'n_units_0': 3181, 'n_units_1': 477, 'hidden_activation': 'ReLU', 'output_activation': 'Linear', 'loss': 'MSE', 'optimizer': 'SGD', 'lr': 0.0002478064487755455, 'batch_size': 64, 'n_epochs': 73, 'scheduler': 'CosineAnnealingLR', 'dropout_rate': 0.12306669702614137, 'weight_decay': 0.0007756871325546474, 'momentum': 0.34065617660514014, 't_max_fraction': 0.283180867126656, 'eta_min': 1.4422657982611125e-05} because of the following error: The value nan is not acceptable..\u001b[0m\n",
            "\u001b[33m[W 2023-06-01 07:23:37,574]\u001b[0m Trial 0 failed with value nan.\u001b[0m\n"
          ]
        },
        {
          "name": "stdout",
          "output_type": "stream",
          "text": [
            "Epoch 70/73.. Train loss: nan.. Val loss: nan.. Train L1 norm: nan.. Val L1 norm: nan.. Train Linf norm: nan.. Val Linf norm: nan\n",
            "Epoch 71/73.. Train loss: nan.. Val loss: nan.. Train L1 norm: nan.. Val L1 norm: nan.. Train Linf norm: nan.. Val Linf norm: nan\n",
            "Epoch 72/73.. Train loss: nan.. Val loss: nan.. Train L1 norm: nan.. Val L1 norm: nan.. Train Linf norm: nan.. Val Linf norm: nan\n",
            "Epoch 73/73.. Train loss: nan.. Val loss: nan.. Train L1 norm: nan.. Val L1 norm: nan.. Train Linf norm: nan.. Val Linf norm: nan\n"
          ]
        },
        {
          "name": "stderr",
          "output_type": "stream",
          "text": [
            "/tmp/ipykernel_565880/3579061573.py:58: FutureWarning: suggest_uniform has been deprecated in v3.0.0. This feature will be removed in v6.0.0. See https://github.com/optuna/optuna/releases/tag/v3.0.0. Use :func:`~optuna.trial.Trial.suggest_float` instead.\n",
            "  negative_slope = trial.suggest_uniform(\"leakyrelu_slope\", 0.01, 0.3)\n",
            "/tmp/ipykernel_565880/3579061573.py:161: FutureWarning: suggest_uniform has been deprecated in v3.0.0. This feature will be removed in v6.0.0. See https://github.com/optuna/optuna/releases/tag/v3.0.0. Use :func:`~optuna.trial.Trial.suggest_float` instead.\n",
            "  gamma = trial.suggest_uniform(\"gamma\", 0.1, 0.5)\n"
          ]
        },
        {
          "name": "stdout",
          "output_type": "stream",
          "text": [
            "Epoch 1/82.. Train loss: 1.759.. Val loss: 2.299.. Train L1 norm: 3.041.. Val L1 norm: 0.932.. Train Linf norm: 9.484.. Val Linf norm: 0.932\n",
            "Epoch 2/82.. Train loss: 1.449.. Val loss: 2.238.. Train L1 norm: 1.624.. Val L1 norm: 0.908.. Train Linf norm: 4.067.. Val Linf norm: 0.908\n",
            "Epoch 3/82.. Train loss: 1.403.. Val loss: 2.189.. Train L1 norm: 3.394.. Val L1 norm: 0.888.. Train Linf norm: 17.458.. Val Linf norm: 0.888\n",
            "Epoch 4/82.. Train loss: 0.784.. Val loss: 2.129.. Train L1 norm: 2.230.. Val L1 norm: 0.864.. Train Linf norm: 9.459.. Val Linf norm: 0.864\n",
            "Epoch 5/82.. Train loss: 1.366.. Val loss: 2.096.. Train L1 norm: 4.510.. Val L1 norm: 0.850.. Train Linf norm: 19.067.. Val Linf norm: 0.850\n",
            "Epoch 6/82.. Train loss: 1.353.. Val loss: 2.082.. Train L1 norm: 2.886.. Val L1 norm: 0.844.. Train Linf norm: 9.471.. Val Linf norm: 0.844\n",
            "Epoch 7/82.. Train loss: 1.682.. Val loss: 2.128.. Train L1 norm: 4.422.. Val L1 norm: 0.863.. Train Linf norm: 18.356.. Val Linf norm: 0.863\n",
            "Epoch 8/82.. Train loss: 1.766.. Val loss: 2.135.. Train L1 norm: 4.726.. Val L1 norm: 0.866.. Train Linf norm: 15.654.. Val Linf norm: 0.866\n",
            "Epoch 9/82.. Train loss: 1.458.. Val loss: 2.153.. Train L1 norm: 3.596.. Val L1 norm: 0.873.. Train Linf norm: 11.574.. Val Linf norm: 0.873\n",
            "Epoch 10/82.. Train loss: 1.173.. Val loss: 2.164.. Train L1 norm: 1.554.. Val L1 norm: 0.878.. Train Linf norm: 3.306.. Val Linf norm: 0.878\n",
            "Epoch 11/82.. Train loss: 0.721.. Val loss: 2.162.. Train L1 norm: 2.173.. Val L1 norm: 0.877.. Train Linf norm: 12.042.. Val Linf norm: 0.877\n",
            "Epoch 12/82.. Train loss: 1.555.. Val loss: 2.168.. Train L1 norm: 3.752.. Val L1 norm: 0.879.. Train Linf norm: 14.201.. Val Linf norm: 0.879\n",
            "Epoch 13/82.. Train loss: 1.028.. Val loss: 2.182.. Train L1 norm: 2.980.. Val L1 norm: 0.885.. Train Linf norm: 15.078.. Val Linf norm: 0.885\n",
            "Epoch 14/82.. Train loss: 0.942.. Val loss: 2.187.. Train L1 norm: 1.833.. Val L1 norm: 0.887.. Train Linf norm: 6.179.. Val Linf norm: 0.887\n",
            "Epoch 15/82.. Train loss: 1.451.. Val loss: 2.184.. Train L1 norm: 1.731.. Val L1 norm: 0.886.. Train Linf norm: 4.960.. Val Linf norm: 0.886\n",
            "Epoch 16/82.. Train loss: 0.972.. Val loss: 2.180.. Train L1 norm: 1.056.. Val L1 norm: 0.884.. Train Linf norm: 3.139.. Val Linf norm: 0.884\n",
            "Epoch 17/82.. Train loss: 1.455.. Val loss: 2.178.. Train L1 norm: 2.789.. Val L1 norm: 0.883.. Train Linf norm: 9.628.. Val Linf norm: 0.883\n",
            "Epoch 18/82.. Train loss: 1.289.. Val loss: 2.175.. Train L1 norm: 3.000.. Val L1 norm: 0.882.. Train Linf norm: 11.288.. Val Linf norm: 0.882\n",
            "Epoch 19/82.. Train loss: 0.771.. Val loss: 2.174.. Train L1 norm: 2.634.. Val L1 norm: 0.882.. Train Linf norm: 13.242.. Val Linf norm: 0.882\n",
            "Epoch 20/82.. Train loss: 1.276.. Val loss: 2.176.. Train L1 norm: 2.231.. Val L1 norm: 0.883.. Train Linf norm: 6.015.. Val Linf norm: 0.883\n",
            "Epoch 21/82.. Train loss: 0.768.. Val loss: 2.176.. Train L1 norm: 0.542.. Val L1 norm: 0.882.. Train Linf norm: 1.474.. Val Linf norm: 0.882\n",
            "Epoch 22/82.. Train loss: 0.973.. Val loss: 2.176.. Train L1 norm: 1.416.. Val L1 norm: 0.882.. Train Linf norm: 4.802.. Val Linf norm: 0.882\n",
            "Epoch 23/82.. Train loss: 1.375.. Val loss: 2.175.. Train L1 norm: 2.174.. Val L1 norm: 0.882.. Train Linf norm: 6.297.. Val Linf norm: 0.882\n",
            "Epoch 24/82.. Train loss: 0.888.. Val loss: 2.175.. Train L1 norm: 3.774.. Val L1 norm: 0.882.. Train Linf norm: 20.012.. Val Linf norm: 0.882\n",
            "Epoch 25/82.. Train loss: 1.346.. Val loss: 2.175.. Train L1 norm: 2.987.. Val L1 norm: 0.882.. Train Linf norm: 11.754.. Val Linf norm: 0.882\n",
            "Epoch 26/82.. Train loss: 1.658.. Val loss: 2.175.. Train L1 norm: 3.135.. Val L1 norm: 0.882.. Train Linf norm: 8.707.. Val Linf norm: 0.882\n",
            "Epoch 27/82.. Train loss: 1.155.. Val loss: 2.175.. Train L1 norm: 0.877.. Val L1 norm: 0.882.. Train Linf norm: 1.758.. Val Linf norm: 0.882\n",
            "Epoch 28/82.. Train loss: 1.813.. Val loss: 2.175.. Train L1 norm: 2.694.. Val L1 norm: 0.882.. Train Linf norm: 7.621.. Val Linf norm: 0.882\n",
            "Epoch 29/82.. Train loss: 1.381.. Val loss: 2.176.. Train L1 norm: 4.181.. Val L1 norm: 0.882.. Train Linf norm: 18.981.. Val Linf norm: 0.882\n",
            "Epoch 30/82.. Train loss: 1.314.. Val loss: 2.176.. Train L1 norm: 1.823.. Val L1 norm: 0.882.. Train Linf norm: 3.812.. Val Linf norm: 0.882\n",
            "Epoch 31/82.. Train loss: 1.136.. Val loss: 2.176.. Train L1 norm: 0.851.. Val L1 norm: 0.882.. Train Linf norm: 1.366.. Val Linf norm: 0.882\n",
            "Epoch 32/82.. Train loss: 0.998.. Val loss: 2.176.. Train L1 norm: 2.070.. Val L1 norm: 0.882.. Train Linf norm: 7.695.. Val Linf norm: 0.882\n",
            "Epoch 33/82.. Train loss: 1.365.. Val loss: 2.176.. Train L1 norm: 2.454.. Val L1 norm: 0.883.. Train Linf norm: 10.672.. Val Linf norm: 0.883\n",
            "Epoch 34/82.. Train loss: 2.072.. Val loss: 2.176.. Train L1 norm: 4.521.. Val L1 norm: 0.883.. Train Linf norm: 21.005.. Val Linf norm: 0.883\n",
            "Epoch 35/82.. Train loss: 0.964.. Val loss: 2.177.. Train L1 norm: 3.623.. Val L1 norm: 0.883.. Train Linf norm: 21.263.. Val Linf norm: 0.883\n",
            "Epoch 36/82.. Train loss: 1.312.. Val loss: 2.177.. Train L1 norm: 0.928.. Val L1 norm: 0.883.. Train Linf norm: 1.906.. Val Linf norm: 0.883\n",
            "Epoch 37/82.. Train loss: 0.838.. Val loss: 2.177.. Train L1 norm: 1.822.. Val L1 norm: 0.883.. Train Linf norm: 8.203.. Val Linf norm: 0.883\n",
            "Epoch 38/82.. Train loss: 1.506.. Val loss: 2.177.. Train L1 norm: 4.181.. Val L1 norm: 0.883.. Train Linf norm: 19.634.. Val Linf norm: 0.883\n",
            "Epoch 39/82.. Train loss: 1.154.. Val loss: 2.177.. Train L1 norm: 3.172.. Val L1 norm: 0.883.. Train Linf norm: 14.068.. Val Linf norm: 0.883\n",
            "Epoch 40/82.. Train loss: 1.751.. Val loss: 2.177.. Train L1 norm: 3.238.. Val L1 norm: 0.883.. Train Linf norm: 11.686.. Val Linf norm: 0.883\n",
            "Epoch 41/82.. Train loss: 0.791.. Val loss: 2.177.. Train L1 norm: 0.818.. Val L1 norm: 0.883.. Train Linf norm: 2.038.. Val Linf norm: 0.883\n",
            "Epoch 42/82.. Train loss: 1.350.. Val loss: 2.177.. Train L1 norm: 5.536.. Val L1 norm: 0.883.. Train Linf norm: 26.879.. Val Linf norm: 0.883\n",
            "Epoch 43/82.. Train loss: 1.283.. Val loss: 2.177.. Train L1 norm: 3.789.. Val L1 norm: 0.883.. Train Linf norm: 15.334.. Val Linf norm: 0.883\n",
            "Epoch 44/82.. Train loss: 1.011.. Val loss: 2.177.. Train L1 norm: 1.379.. Val L1 norm: 0.883.. Train Linf norm: 3.478.. Val Linf norm: 0.883\n",
            "Epoch 45/82.. Train loss: 1.544.. Val loss: 2.177.. Train L1 norm: 3.157.. Val L1 norm: 0.883.. Train Linf norm: 11.962.. Val Linf norm: 0.883\n",
            "Epoch 46/82.. Train loss: 1.032.. Val loss: 2.177.. Train L1 norm: 1.276.. Val L1 norm: 0.883.. Train Linf norm: 6.280.. Val Linf norm: 0.883\n",
            "Epoch 47/82.. Train loss: 1.253.. Val loss: 2.177.. Train L1 norm: 1.500.. Val L1 norm: 0.883.. Train Linf norm: 5.949.. Val Linf norm: 0.883\n",
            "Epoch 48/82.. Train loss: 1.306.. Val loss: 2.177.. Train L1 norm: 3.001.. Val L1 norm: 0.883.. Train Linf norm: 9.615.. Val Linf norm: 0.883\n",
            "Epoch 49/82.. Train loss: 0.899.. Val loss: 2.177.. Train L1 norm: 4.007.. Val L1 norm: 0.883.. Train Linf norm: 20.721.. Val Linf norm: 0.883\n",
            "Epoch 50/82.. Train loss: 1.505.. Val loss: 2.177.. Train L1 norm: 3.100.. Val L1 norm: 0.883.. Train Linf norm: 9.660.. Val Linf norm: 0.883\n",
            "Epoch 51/82.. Train loss: 1.497.. Val loss: 2.177.. Train L1 norm: 4.926.. Val L1 norm: 0.883.. Train Linf norm: 18.286.. Val Linf norm: 0.883\n",
            "Epoch 52/82.. Train loss: 0.863.. Val loss: 2.177.. Train L1 norm: 1.870.. Val L1 norm: 0.883.. Train Linf norm: 9.173.. Val Linf norm: 0.883\n",
            "Epoch 53/82.. Train loss: 1.385.. Val loss: 2.177.. Train L1 norm: 2.420.. Val L1 norm: 0.883.. Train Linf norm: 9.035.. Val Linf norm: 0.883\n",
            "Epoch 54/82.. Train loss: 1.492.. Val loss: 2.177.. Train L1 norm: 3.069.. Val L1 norm: 0.883.. Train Linf norm: 7.322.. Val Linf norm: 0.883\n",
            "Epoch 55/82.. Train loss: 1.319.. Val loss: 2.177.. Train L1 norm: 2.961.. Val L1 norm: 0.883.. Train Linf norm: 13.536.. Val Linf norm: 0.883\n",
            "Epoch 56/82.. Train loss: 1.300.. Val loss: 2.177.. Train L1 norm: 2.605.. Val L1 norm: 0.883.. Train Linf norm: 7.618.. Val Linf norm: 0.883\n",
            "Epoch 57/82.. Train loss: 1.553.. Val loss: 2.177.. Train L1 norm: 3.633.. Val L1 norm: 0.883.. Train Linf norm: 10.441.. Val Linf norm: 0.883\n",
            "Epoch 58/82.. Train loss: 1.350.. Val loss: 2.177.. Train L1 norm: 3.211.. Val L1 norm: 0.883.. Train Linf norm: 10.418.. Val Linf norm: 0.883\n",
            "Epoch 59/82.. Train loss: 0.988.. Val loss: 2.177.. Train L1 norm: 1.724.. Val L1 norm: 0.883.. Train Linf norm: 4.612.. Val Linf norm: 0.883\n",
            "Epoch 60/82.. Train loss: 1.374.. Val loss: 2.177.. Train L1 norm: 2.653.. Val L1 norm: 0.883.. Train Linf norm: 8.287.. Val Linf norm: 0.883\n",
            "Epoch 61/82.. Train loss: 1.529.. Val loss: 2.177.. Train L1 norm: 3.059.. Val L1 norm: 0.883.. Train Linf norm: 10.035.. Val Linf norm: 0.883\n",
            "Epoch 62/82.. Train loss: 1.287.. Val loss: 2.177.. Train L1 norm: 1.680.. Val L1 norm: 0.883.. Train Linf norm: 3.627.. Val Linf norm: 0.883\n",
            "Epoch 63/82.. Train loss: 1.591.. Val loss: 2.177.. Train L1 norm: 2.382.. Val L1 norm: 0.883.. Train Linf norm: 11.198.. Val Linf norm: 0.883\n",
            "Epoch 64/82.. Train loss: 1.163.. Val loss: 2.177.. Train L1 norm: 2.565.. Val L1 norm: 0.883.. Train Linf norm: 12.386.. Val Linf norm: 0.883\n",
            "Epoch 65/82.. Train loss: 1.251.. Val loss: 2.177.. Train L1 norm: 3.107.. Val L1 norm: 0.883.. Train Linf norm: 12.552.. Val Linf norm: 0.883\n",
            "Epoch 66/82.. Train loss: 1.147.. Val loss: 2.177.. Train L1 norm: 3.165.. Val L1 norm: 0.883.. Train Linf norm: 11.497.. Val Linf norm: 0.883\n",
            "Epoch 67/82.. Train loss: 1.646.. Val loss: 2.177.. Train L1 norm: 4.311.. Val L1 norm: 0.883.. Train Linf norm: 18.583.. Val Linf norm: 0.883\n",
            "Epoch 68/82.. Train loss: 0.958.. Val loss: 2.177.. Train L1 norm: 1.557.. Val L1 norm: 0.883.. Train Linf norm: 4.279.. Val Linf norm: 0.883\n",
            "Epoch 69/82.. Train loss: 1.718.. Val loss: 2.177.. Train L1 norm: 1.634.. Val L1 norm: 0.883.. Train Linf norm: 3.121.. Val Linf norm: 0.883\n",
            "Epoch 70/82.. Train loss: 1.258.. Val loss: 2.177.. Train L1 norm: 1.958.. Val L1 norm: 0.883.. Train Linf norm: 5.794.. Val Linf norm: 0.883\n",
            "Epoch 71/82.. Train loss: 1.519.. Val loss: 2.177.. Train L1 norm: 3.649.. Val L1 norm: 0.883.. Train Linf norm: 15.974.. Val Linf norm: 0.883\n",
            "Epoch 72/82.. Train loss: 0.961.. Val loss: 2.177.. Train L1 norm: 1.356.. Val L1 norm: 0.883.. Train Linf norm: 3.975.. Val Linf norm: 0.883\n",
            "Epoch 73/82.. Train loss: 1.501.. Val loss: 2.177.. Train L1 norm: 3.118.. Val L1 norm: 0.883.. Train Linf norm: 11.503.. Val Linf norm: 0.883\n",
            "Epoch 74/82.. Train loss: 1.615.. Val loss: 2.177.. Train L1 norm: 2.507.. Val L1 norm: 0.883.. Train Linf norm: 10.259.. Val Linf norm: 0.883\n",
            "Epoch 75/82.. Train loss: 0.973.. Val loss: 2.177.. Train L1 norm: 2.697.. Val L1 norm: 0.883.. Train Linf norm: 11.881.. Val Linf norm: 0.883\n",
            "Epoch 76/82.. Train loss: 1.286.. Val loss: 2.177.. Train L1 norm: 3.365.. Val L1 norm: 0.883.. Train Linf norm: 10.580.. Val Linf norm: 0.883\n",
            "Epoch 77/82.. Train loss: 1.628.. Val loss: 2.177.. Train L1 norm: 3.158.. Val L1 norm: 0.883.. Train Linf norm: 7.879.. Val Linf norm: 0.883\n",
            "Epoch 78/82.. Train loss: 1.073.. Val loss: 2.177.. Train L1 norm: 3.868.. Val L1 norm: 0.883.. Train Linf norm: 21.844.. Val Linf norm: 0.883\n",
            "Epoch 79/82.. Train loss: 1.359.. Val loss: 2.177.. Train L1 norm: 3.047.. Val L1 norm: 0.883.. Train Linf norm: 16.077.. Val Linf norm: 0.883\n"
          ]
        },
        {
          "name": "stderr",
          "output_type": "stream",
          "text": [
            "\u001b[32m[I 2023-06-01 07:23:40,212]\u001b[0m Trial 1 finished with value: 0.8828915357589722 and parameters: {'n_layers': 4, 'n_units_0': 3486, 'n_units_1': 797, 'n_units_2': 89, 'n_units_3': 988, 'hidden_activation': 'LeakyReLU', 'output_activation': 'Linear', 'loss': 'Quantile', 'optimizer': 'SGD', 'lr': 0.00038208597291750166, 'batch_size': 2048, 'n_epochs': 82, 'scheduler': 'StepLR', 'leakyrelu_slope': 0.22945473426137153, 'dropout_rate': 0.4745217504711957, 'weight_decay': 0.0001296718769122029, 'momentum': 0.6128085966064194, 'step_size': 7, 'gamma': 0.24838959519092746}. Best is trial 1 with value: 0.8828915357589722.\u001b[0m\n"
          ]
        },
        {
          "name": "stdout",
          "output_type": "stream",
          "text": [
            "Epoch 80/82.. Train loss: 1.156.. Val loss: 2.177.. Train L1 norm: 0.957.. Val L1 norm: 0.883.. Train Linf norm: 2.601.. Val Linf norm: 0.883\n",
            "Epoch 81/82.. Train loss: 0.681.. Val loss: 2.177.. Train L1 norm: 0.983.. Val L1 norm: 0.883.. Train Linf norm: 3.619.. Val Linf norm: 0.883\n",
            "Epoch 82/82.. Train loss: 1.405.. Val loss: 2.177.. Train L1 norm: 2.837.. Val L1 norm: 0.883.. Train Linf norm: 11.047.. Val Linf norm: 0.883\n"
          ]
        },
        {
          "name": "stderr",
          "output_type": "stream",
          "text": [
            "/tmp/ipykernel_565880/3579061573.py:149: FutureWarning: suggest_loguniform has been deprecated in v3.0.0. This feature will be removed in v6.0.0. See https://github.com/optuna/optuna/releases/tag/v3.0.0. Use :func:`~optuna.trial.Trial.suggest_float` instead.\n",
            "  weight_decay = trial.suggest_loguniform(\"weight_decay\", 1e-5, 1e-2)\n",
            "/tmp/ipykernel_565880/3579061573.py:150: FutureWarning: suggest_uniform has been deprecated in v3.0.0. This feature will be removed in v6.0.0. See https://github.com/optuna/optuna/releases/tag/v3.0.0. Use :func:`~optuna.trial.Trial.suggest_float` instead.\n",
            "  beta1 = trial.suggest_uniform(\"beta1\", 0.9, 0.999)\n",
            "/tmp/ipykernel_565880/3579061573.py:151: FutureWarning: suggest_uniform has been deprecated in v3.0.0. This feature will be removed in v6.0.0. See https://github.com/optuna/optuna/releases/tag/v3.0.0. Use :func:`~optuna.trial.Trial.suggest_float` instead.\n",
            "  beta2 = trial.suggest_uniform(\"beta2\", 0.999, 0.9999)\n"
          ]
        },
        {
          "name": "stdout",
          "output_type": "stream",
          "text": [
            "Epoch 1/90.. Train loss: 17.463.. Val loss: 7.331.. Train L1 norm: 0.986.. Val L1 norm: 0.549.. Train Linf norm: 1.001.. Val Linf norm: 0.549\n",
            "Epoch 2/90.. Train loss: 50.330.. Val loss: 4135.786.. Train L1 norm: 8.528.. Val L1 norm: 13.042.. Train Linf norm: 35.815.. Val Linf norm: 13.042\n",
            "Epoch 3/90.. Train loss: 40734.008.. Val loss: 97727824.000.. Train L1 norm: 95.187.. Val L1 norm: 2004.745.. Train Linf norm: 405.377.. Val Linf norm: 2004.745\n",
            "Epoch 4/90.. Train loss: 1535653888.000.. Val loss: 9388.462.. Train L1 norm: 34760.246.. Val L1 norm: 19.649.. Train Linf norm: 121507.961.. Val Linf norm: 19.649\n",
            "Epoch 5/90.. Train loss: 10635176.000.. Val loss: 15507.234.. Train L1 norm: 1551.241.. Val L1 norm: 25.253.. Train Linf norm: 7488.118.. Val Linf norm: 25.253\n",
            "Epoch 6/90.. Train loss: 87387.391.. Val loss: 22750.881.. Train L1 norm: 523.991.. Val L1 norm: 30.588.. Train Linf norm: 2819.959.. Val Linf norm: 30.588\n",
            "Epoch 7/90.. Train loss: 446921.281.. Val loss: 19068.172.. Train L1 norm: 518.443.. Val L1 norm: 28.003.. Train Linf norm: 1490.742.. Val Linf norm: 28.003\n",
            "Epoch 8/90.. Train loss: 249166.516.. Val loss: 433.343.. Train L1 norm: 404.921.. Val L1 norm: 4.221.. Train Linf norm: 1206.369.. Val Linf norm: 4.221\n",
            "Epoch 9/90.. Train loss: 18543.990.. Val loss: 1572040.000.. Train L1 norm: 109.865.. Val L1 norm: 254.262.. Train Linf norm: 328.802.. Val Linf norm: 254.262\n",
            "Epoch 10/90.. Train loss: 13900838.000.. Val loss: 11.823.. Train L1 norm: 3967.608.. Val L1 norm: 0.697.. Train Linf norm: 16154.275.. Val Linf norm: 0.697\n",
            "Epoch 11/90.. Train loss: 1070.349.. Val loss: 5.134.. Train L1 norm: 29.974.. Val L1 norm: 0.459.. Train Linf norm: 89.381.. Val Linf norm: 0.459\n",
            "Epoch 12/90.. Train loss: 782.729.. Val loss: 10805.342.. Train L1 norm: 28.693.. Val L1 norm: 21.080.. Train Linf norm: 103.373.. Val Linf norm: 21.080\n",
            "Epoch 13/90.. Train loss: 116233.117.. Val loss: 2014.784.. Train L1 norm: 306.175.. Val L1 norm: 9.103.. Train Linf norm: 1078.898.. Val Linf norm: 9.103\n",
            "Epoch 14/90.. Train loss: 18794.270.. Val loss: 4347.899.. Train L1 norm: 106.955.. Val L1 norm: 13.372.. Train Linf norm: 303.613.. Val Linf norm: 13.372\n",
            "Epoch 15/90.. Train loss: 74347.703.. Val loss: 5141.786.. Train L1 norm: 299.739.. Val L1 norm: 14.541.. Train Linf norm: 1173.826.. Val Linf norm: 14.541\n",
            "Epoch 16/90.. Train loss: 59577.348.. Val loss: 2792.475.. Train L1 norm: 269.611.. Val L1 norm: 10.716.. Train Linf norm: 1085.326.. Val Linf norm: 10.716\n",
            "Epoch 17/90.. Train loss: 44890.582.. Val loss: 2375.922.. Train L1 norm: 200.103.. Val L1 norm: 9.885.. Train Linf norm: 682.803.. Val Linf norm: 9.885\n",
            "Epoch 18/90.. Train loss: 28061.709.. Val loss: 7413.202.. Train L1 norm: 196.014.. Val L1 norm: 17.460.. Train Linf norm: 907.806.. Val Linf norm: 17.460\n",
            "Epoch 19/90.. Train loss: 94689.734.. Val loss: 0.152.. Train L1 norm: 280.073.. Val L1 norm: 0.079.. Train Linf norm: 1030.105.. Val Linf norm: 0.079\n",
            "Epoch 20/90.. Train loss: 2017.662.. Val loss: 5711.670.. Train L1 norm: 16.858.. Val L1 norm: 15.326.. Train Linf norm: 46.246.. Val Linf norm: 15.326\n",
            "Epoch 21/90.. Train loss: 65453.000.. Val loss: 4120.294.. Train L1 norm: 229.148.. Val L1 norm: 13.017.. Train Linf norm: 773.504.. Val Linf norm: 13.017\n",
            "Epoch 22/90.. Train loss: 70677.797.. Val loss: 148.878.. Train L1 norm: 232.983.. Val L1 norm: 2.474.. Train Linf norm: 804.719.. Val Linf norm: 2.474\n",
            "Epoch 23/90.. Train loss: 1869.778.. Val loss: 175.508.. Train L1 norm: 34.724.. Val L1 norm: 2.687.. Train Linf norm: 86.385.. Val Linf norm: 2.687\n",
            "Epoch 24/90.. Train loss: 1301.826.. Val loss: 579.436.. Train L1 norm: 63.330.. Val L1 norm: 4.881.. Train Linf norm: 305.543.. Val Linf norm: 4.881\n",
            "Epoch 25/90.. Train loss: 9581.905.. Val loss: 781.573.. Train L1 norm: 79.594.. Val L1 norm: 5.669.. Train Linf norm: 240.883.. Val Linf norm: 5.669\n",
            "Epoch 26/90.. Train loss: 10251.542.. Val loss: 893.463.. Train L1 norm: 90.867.. Val L1 norm: 6.062.. Train Linf norm: 317.822.. Val Linf norm: 6.062\n",
            "Epoch 27/90.. Train loss: 11730.709.. Val loss: 893.694.. Train L1 norm: 77.667.. Val L1 norm: 6.062.. Train Linf norm: 236.370.. Val Linf norm: 6.062\n",
            "Epoch 28/90.. Train loss: 10903.817.. Val loss: 756.204.. Train L1 norm: 84.047.. Val L1 norm: 5.577.. Train Linf norm: 324.676.. Val Linf norm: 5.577\n",
            "Epoch 29/90.. Train loss: 5804.879.. Val loss: 523.251.. Train L1 norm: 48.826.. Val L1 norm: 4.639.. Train Linf norm: 141.941.. Val Linf norm: 4.639\n",
            "Epoch 30/90.. Train loss: 4376.899.. Val loss: 265.216.. Train L1 norm: 79.903.. Val L1 norm: 3.303.. Train Linf norm: 334.683.. Val Linf norm: 3.303\n",
            "Epoch 31/90.. Train loss: 1266.403.. Val loss: 83.219.. Train L1 norm: 19.705.. Val L1 norm: 1.850.. Train Linf norm: 77.756.. Val Linf norm: 1.850\n",
            "Epoch 32/90.. Train loss: 1905.241.. Val loss: 1.990.. Train L1 norm: 39.734.. Val L1 norm: 0.286.. Train Linf norm: 138.749.. Val Linf norm: 0.286\n",
            "Epoch 33/90.. Train loss: 2113.161.. Val loss: 42.203.. Train L1 norm: 10.328.. Val L1 norm: 1.317.. Train Linf norm: 24.102.. Val Linf norm: 1.317\n",
            "Epoch 34/90.. Train loss: 3062.946.. Val loss: 157.836.. Train L1 norm: 25.698.. Val L1 norm: 2.548.. Train Linf norm: 78.186.. Val Linf norm: 2.548\n",
            "Epoch 35/90.. Train loss: 6404.448.. Val loss: 163.045.. Train L1 norm: 75.373.. Val L1 norm: 2.589.. Train Linf norm: 381.658.. Val Linf norm: 2.589\n",
            "Epoch 36/90.. Train loss: 3701.933.. Val loss: 52.374.. Train L1 norm: 82.773.. Val L1 norm: 1.468.. Train Linf norm: 378.004.. Val Linf norm: 1.468\n",
            "Epoch 37/90.. Train loss: 4612.487.. Val loss: 13.380.. Train L1 norm: 38.819.. Val L1 norm: 0.742.. Train Linf norm: 163.473.. Val Linf norm: 0.742\n",
            "Epoch 38/90.. Train loss: 2963.268.. Val loss: 1.376.. Train L1 norm: 58.202.. Val L1 norm: 0.238.. Train Linf norm: 224.193.. Val Linf norm: 0.238\n",
            "Epoch 39/90.. Train loss: 2849.026.. Val loss: 47.822.. Train L1 norm: 15.245.. Val L1 norm: 1.402.. Train Linf norm: 42.204.. Val Linf norm: 1.402\n",
            "Epoch 40/90.. Train loss: 971.100.. Val loss: 146.903.. Train L1 norm: 21.742.. Val L1 norm: 2.458.. Train Linf norm: 71.389.. Val Linf norm: 2.458\n",
            "Epoch 41/90.. Train loss: 3576.290.. Val loss: 232.497.. Train L1 norm: 38.076.. Val L1 norm: 3.092.. Train Linf norm: 122.882.. Val Linf norm: 3.092\n",
            "Epoch 42/90.. Train loss: 2942.167.. Val loss: 305.777.. Train L1 norm: 27.927.. Val L1 norm: 3.546.. Train Linf norm: 78.998.. Val Linf norm: 3.546\n",
            "Epoch 43/90.. Train loss: 2539.233.. Val loss: 345.042.. Train L1 norm: 64.449.. Val L1 norm: 3.767.. Train Linf norm: 304.523.. Val Linf norm: 3.767\n",
            "Epoch 44/90.. Train loss: 4271.779.. Val loss: 334.889.. Train L1 norm: 66.204.. Val L1 norm: 3.711.. Train Linf norm: 284.821.. Val Linf norm: 3.711\n",
            "Epoch 45/90.. Train loss: 5535.786.. Val loss: 266.385.. Train L1 norm: 49.037.. Val L1 norm: 3.310.. Train Linf norm: 189.659.. Val Linf norm: 3.310\n",
            "Epoch 46/90.. Train loss: 4314.530.. Val loss: 183.574.. Train L1 norm: 30.648.. Val L1 norm: 2.748.. Train Linf norm: 144.064.. Val Linf norm: 2.748\n",
            "Epoch 47/90.. Train loss: 2853.009.. Val loss: 103.507.. Train L1 norm: 47.342.. Val L1 norm: 2.063.. Train Linf norm: 233.455.. Val Linf norm: 2.063\n",
            "Epoch 48/90.. Train loss: 1563.343.. Val loss: 45.595.. Train L1 norm: 35.070.. Val L1 norm: 1.369.. Train Linf norm: 160.057.. Val Linf norm: 1.369\n",
            "Epoch 49/90.. Train loss: 4776.960.. Val loss: 27.428.. Train L1 norm: 29.566.. Val L1 norm: 1.062.. Train Linf norm: 124.572.. Val Linf norm: 1.062\n",
            "Epoch 50/90.. Train loss: 830.932.. Val loss: 12.815.. Train L1 norm: 24.575.. Val L1 norm: 0.726.. Train Linf norm: 90.323.. Val Linf norm: 0.726\n",
            "Epoch 51/90.. Train loss: 2071.988.. Val loss: 4.536.. Train L1 norm: 24.595.. Val L1 norm: 0.432.. Train Linf norm: 73.953.. Val Linf norm: 0.432\n",
            "Epoch 52/90.. Train loss: 1125.716.. Val loss: 0.842.. Train L1 norm: 21.644.. Val L1 norm: 0.186.. Train Linf norm: 102.964.. Val Linf norm: 0.186\n",
            "Epoch 53/90.. Train loss: 1045.096.. Val loss: 0.150.. Train L1 norm: 44.144.. Val L1 norm: 0.079.. Train Linf norm: 216.740.. Val Linf norm: 0.079\n",
            "Epoch 54/90.. Train loss: 398.680.. Val loss: 2.490.. Train L1 norm: 18.177.. Val L1 norm: 0.320.. Train Linf norm: 84.015.. Val Linf norm: 0.320\n",
            "Epoch 55/90.. Train loss: 592.861.. Val loss: 6.628.. Train L1 norm: 12.363.. Val L1 norm: 0.522.. Train Linf norm: 32.029.. Val Linf norm: 0.522\n",
            "Epoch 56/90.. Train loss: 109.753.. Val loss: 12.131.. Train L1 norm: 6.875.. Val L1 norm: 0.706.. Train Linf norm: 22.524.. Val Linf norm: 0.706\n",
            "Epoch 57/90.. Train loss: 654.197.. Val loss: 17.870.. Train L1 norm: 40.275.. Val L1 norm: 0.857.. Train Linf norm: 218.319.. Val Linf norm: 0.857\n",
            "Epoch 58/90.. Train loss: 178.058.. Val loss: 23.896.. Train L1 norm: 24.565.. Val L1 norm: 0.991.. Train Linf norm: 114.868.. Val Linf norm: 0.991\n",
            "Epoch 59/90.. Train loss: 3219.663.. Val loss: 27.575.. Train L1 norm: 16.340.. Val L1 norm: 1.065.. Train Linf norm: 50.921.. Val Linf norm: 1.065\n",
            "Epoch 60/90.. Train loss: 3153.042.. Val loss: 28.755.. Train L1 norm: 36.158.. Val L1 norm: 1.087.. Train Linf norm: 163.240.. Val Linf norm: 1.087\n",
            "Epoch 61/90.. Train loss: 2692.725.. Val loss: 27.925.. Train L1 norm: 60.364.. Val L1 norm: 1.072.. Train Linf norm: 241.667.. Val Linf norm: 1.072\n",
            "Epoch 62/90.. Train loss: 1496.238.. Val loss: 26.338.. Train L1 norm: 19.580.. Val L1 norm: 1.041.. Train Linf norm: 56.032.. Val Linf norm: 1.041\n"
          ]
        },
        {
          "name": "stderr",
          "output_type": "stream",
          "text": [
            "\u001b[33m[W 2023-06-01 07:23:56,787]\u001b[0m Trial 2 failed with parameters: {'n_layers': 10, 'n_units_0': 462, 'n_units_1': 580, 'n_units_2': 1019, 'n_units_3': 820, 'n_units_4': 3403, 'n_units_5': 2079, 'n_units_6': 3231, 'n_units_7': 1881, 'n_units_8': 253, 'n_units_9': 1884, 'hidden_activation': 'GELU', 'output_activation': 'Linear', 'loss': 'MSE', 'optimizer': 'Adam', 'lr': 0.004321886907409492, 'batch_size': 256, 'n_epochs': 90, 'scheduler': 'StepLR', 'dropout_rate': 0.018931726663719006, 'weight_decay': 0.0001283187529869266, 'beta1': 0.9762287660508667, 'beta2': 0.9994810932844389, 'step_size': 12, 'gamma': 0.3775319293589279} because of the following error: KeyboardInterrupt().\u001b[0m\n",
            "Traceback (most recent call last):\n",
            "  File \"/home/yousousen/.local/lib/python3.11/site-packages/optuna/study/_optimize.py\", line 200, in _run_trial\n",
            "    value_or_values = func(trial)\n",
            "                      ^^^^^^^^^^^\n",
            "  File \"/tmp/ipykernel_565880/2297744481.py\", line 36, in objective\n",
            "    _, _, _, _, val_metrics, _ = train_and_eval(\n",
            "                                 ^^^^^^^^^^^^^^^\n",
            "  File \"/tmp/ipykernel_565880/3096729756.py\", line 143, in train_and_eval\n",
            "    trial.report(val_l1_norm, epoch)\n",
            "  File \"/home/yousousen/.local/lib/python3.11/site-packages/optuna/trial/_trial.py\", line 497, in report\n",
            "    self.storage.set_trial_intermediate_value(self._trial_id, step, value)\n",
            "  File \"/home/yousousen/.local/lib/python3.11/site-packages/optuna/storages/_cached_storage.py\", line 303, in set_trial_intermediate_value\n",
            "    self._backend.set_trial_intermediate_value(trial_id, step, intermediate_value)\n",
            "  File \"/home/yousousen/.local/lib/python3.11/site-packages/optuna/storages/_rdb/storage.py\", line 699, in set_trial_intermediate_value\n",
            "    with _create_scoped_session(self.scoped_session, True) as session:\n",
            "  File \"/usr/lib/python3.11/contextlib.py\", line 144, in __exit__\n",
            "    next(self.gen)\n",
            "  File \"/home/yousousen/.local/lib/python3.11/site-packages/optuna/storages/_rdb/storage.py\", line 70, in _create_scoped_session\n",
            "    session.commit()\n",
            "  File \"/home/yousousen/.local/lib/python3.11/site-packages/sqlalchemy/orm/session.py\", line 1905, in commit\n",
            "    trans.commit(_to_root=True)\n",
            "  File \"<string>\", line 2, in commit\n",
            "  File \"/home/yousousen/.local/lib/python3.11/site-packages/sqlalchemy/orm/state_changes.py\", line 137, in _go\n",
            "    ret_value = fn(self, *arg, **kw)\n",
            "                ^^^^^^^^^^^^^^^^^^^^\n",
            "  File \"/home/yousousen/.local/lib/python3.11/site-packages/sqlalchemy/orm/session.py\", line 1227, in commit\n",
            "    trans.commit()\n",
            "  File \"/home/yousousen/.local/lib/python3.11/site-packages/sqlalchemy/engine/base.py\", line 2615, in commit\n",
            "    self._do_commit()\n",
            "  File \"/home/yousousen/.local/lib/python3.11/site-packages/sqlalchemy/engine/base.py\", line 2720, in _do_commit\n",
            "    self._connection_commit_impl()\n",
            "  File \"/home/yousousen/.local/lib/python3.11/site-packages/sqlalchemy/engine/base.py\", line 2691, in _connection_commit_impl\n",
            "    self.connection._commit_impl()\n",
            "  File \"/home/yousousen/.local/lib/python3.11/site-packages/sqlalchemy/engine/base.py\", line 1135, in _commit_impl\n",
            "    self._handle_dbapi_exception(e, None, None, None, None)\n",
            "  File \"/home/yousousen/.local/lib/python3.11/site-packages/sqlalchemy/engine/base.py\", line 2342, in _handle_dbapi_exception\n",
            "    raise exc_info[1].with_traceback(exc_info[2])\n",
            "  File \"/home/yousousen/.local/lib/python3.11/site-packages/sqlalchemy/engine/base.py\", line 1133, in _commit_impl\n",
            "    self.engine.dialect.do_commit(self.connection)\n",
            "  File \"/home/yousousen/.local/lib/python3.11/site-packages/sqlalchemy/engine/default.py\", line 696, in do_commit\n",
            "    dbapi_connection.commit()\n",
            "KeyboardInterrupt\n",
            "\u001b[33m[W 2023-06-01 07:23:56,798]\u001b[0m Trial 2 failed with value None.\u001b[0m\n"
          ]
        },
        {
          "name": "stdout",
          "output_type": "stream",
          "text": [
            "Epoch 63/90.. Train loss: 320.190.. Val loss: 24.555.. Train L1 norm: 11.758.. Val L1 norm: 1.005.. Train Linf norm: 62.131.. Val Linf norm: 1.005\n"
          ]
        },
        {
          "ename": "KeyboardInterrupt",
          "evalue": "",
          "output_type": "error",
          "traceback": [
            "\u001b[0;31m---------------------------------------------------------------------------\u001b[0m",
            "\u001b[0;31mKeyboardInterrupt\u001b[0m                         Traceback (most recent call last)",
            "Cell \u001b[0;32mIn[83], line 28\u001b[0m\n\u001b[1;32m     21\u001b[0m \u001b[39mif\u001b[39;00m OPTIMIZE:\n\u001b[1;32m     22\u001b[0m     \u001b[39m# Include the path to the SQLite file in your create_study call.\u001b[39;00m\n\u001b[1;32m     23\u001b[0m     study \u001b[39m=\u001b[39m optuna\u001b[39m.\u001b[39mcreate_study(direction\u001b[39m=\u001b[39m\u001b[39m\"\u001b[39m\u001b[39mminimize\u001b[39m\u001b[39m\"\u001b[39m, \n\u001b[1;32m     24\u001b[0m                                 sampler\u001b[39m=\u001b[39moptuna\u001b[39m.\u001b[39msamplers\u001b[39m.\u001b[39mTPESampler(), \n\u001b[1;32m     25\u001b[0m                                 pruner\u001b[39m=\u001b[39moptuna\u001b[39m.\u001b[39mpruners\u001b[39m.\u001b[39mMedianPruner(), \n\u001b[1;32m     26\u001b[0m                                 storage\u001b[39m=\u001b[39m\u001b[39mf\u001b[39m\u001b[39m'\u001b[39m\u001b[39msqlite:///\u001b[39m\u001b[39m{\u001b[39;00mSTUDY_NAME\u001b[39m}\u001b[39;00m\u001b[39m.db\u001b[39m\u001b[39m'\u001b[39m)\n\u001b[0;32m---> 28\u001b[0m     study\u001b[39m.\u001b[39;49moptimize(objective, n_trials\u001b[39m=\u001b[39;49mN_TRIALS, callbacks\u001b[39m=\u001b[39;49m[callback])\n\u001b[1;32m     29\u001b[0m     \u001b[39m#study.optimize(objective, n_trials=N_TRIALS)\u001b[39;00m\n",
            "File \u001b[0;32m~/.local/lib/python3.11/site-packages/optuna/study/study.py:425\u001b[0m, in \u001b[0;36mStudy.optimize\u001b[0;34m(self, func, n_trials, timeout, n_jobs, catch, callbacks, gc_after_trial, show_progress_bar)\u001b[0m\n\u001b[1;32m    321\u001b[0m \u001b[39mdef\u001b[39;00m \u001b[39moptimize\u001b[39m(\n\u001b[1;32m    322\u001b[0m     \u001b[39mself\u001b[39m,\n\u001b[1;32m    323\u001b[0m     func: ObjectiveFuncType,\n\u001b[0;32m   (...)\u001b[0m\n\u001b[1;32m    330\u001b[0m     show_progress_bar: \u001b[39mbool\u001b[39m \u001b[39m=\u001b[39m \u001b[39mFalse\u001b[39;00m,\n\u001b[1;32m    331\u001b[0m ) \u001b[39m-\u001b[39m\u001b[39m>\u001b[39m \u001b[39mNone\u001b[39;00m:\n\u001b[1;32m    332\u001b[0m \u001b[39m    \u001b[39m\u001b[39m\"\"\"Optimize an objective function.\u001b[39;00m\n\u001b[1;32m    333\u001b[0m \n\u001b[1;32m    334\u001b[0m \u001b[39m    Optimization is done by choosing a suitable set of hyperparameter values from a given\u001b[39;00m\n\u001b[0;32m   (...)\u001b[0m\n\u001b[1;32m    422\u001b[0m \u001b[39m            If nested invocation of this method occurs.\u001b[39;00m\n\u001b[1;32m    423\u001b[0m \u001b[39m    \"\"\"\u001b[39;00m\n\u001b[0;32m--> 425\u001b[0m     _optimize(\n\u001b[1;32m    426\u001b[0m         study\u001b[39m=\u001b[39;49m\u001b[39mself\u001b[39;49m,\n\u001b[1;32m    427\u001b[0m         func\u001b[39m=\u001b[39;49mfunc,\n\u001b[1;32m    428\u001b[0m         n_trials\u001b[39m=\u001b[39;49mn_trials,\n\u001b[1;32m    429\u001b[0m         timeout\u001b[39m=\u001b[39;49mtimeout,\n\u001b[1;32m    430\u001b[0m         n_jobs\u001b[39m=\u001b[39;49mn_jobs,\n\u001b[1;32m    431\u001b[0m         catch\u001b[39m=\u001b[39;49m\u001b[39mtuple\u001b[39;49m(catch) \u001b[39mif\u001b[39;49;00m \u001b[39misinstance\u001b[39;49m(catch, Iterable) \u001b[39melse\u001b[39;49;00m (catch,),\n\u001b[1;32m    432\u001b[0m         callbacks\u001b[39m=\u001b[39;49mcallbacks,\n\u001b[1;32m    433\u001b[0m         gc_after_trial\u001b[39m=\u001b[39;49mgc_after_trial,\n\u001b[1;32m    434\u001b[0m         show_progress_bar\u001b[39m=\u001b[39;49mshow_progress_bar,\n\u001b[1;32m    435\u001b[0m     )\n",
            "File \u001b[0;32m~/.local/lib/python3.11/site-packages/optuna/study/_optimize.py:66\u001b[0m, in \u001b[0;36m_optimize\u001b[0;34m(study, func, n_trials, timeout, n_jobs, catch, callbacks, gc_after_trial, show_progress_bar)\u001b[0m\n\u001b[1;32m     64\u001b[0m \u001b[39mtry\u001b[39;00m:\n\u001b[1;32m     65\u001b[0m     \u001b[39mif\u001b[39;00m n_jobs \u001b[39m==\u001b[39m \u001b[39m1\u001b[39m:\n\u001b[0;32m---> 66\u001b[0m         _optimize_sequential(\n\u001b[1;32m     67\u001b[0m             study,\n\u001b[1;32m     68\u001b[0m             func,\n\u001b[1;32m     69\u001b[0m             n_trials,\n\u001b[1;32m     70\u001b[0m             timeout,\n\u001b[1;32m     71\u001b[0m             catch,\n\u001b[1;32m     72\u001b[0m             callbacks,\n\u001b[1;32m     73\u001b[0m             gc_after_trial,\n\u001b[1;32m     74\u001b[0m             reseed_sampler_rng\u001b[39m=\u001b[39;49m\u001b[39mFalse\u001b[39;49;00m,\n\u001b[1;32m     75\u001b[0m             time_start\u001b[39m=\u001b[39;49m\u001b[39mNone\u001b[39;49;00m,\n\u001b[1;32m     76\u001b[0m             progress_bar\u001b[39m=\u001b[39;49mprogress_bar,\n\u001b[1;32m     77\u001b[0m         )\n\u001b[1;32m     78\u001b[0m     \u001b[39melse\u001b[39;00m:\n\u001b[1;32m     79\u001b[0m         \u001b[39mif\u001b[39;00m n_jobs \u001b[39m==\u001b[39m \u001b[39m-\u001b[39m\u001b[39m1\u001b[39m:\n",
            "File \u001b[0;32m~/.local/lib/python3.11/site-packages/optuna/study/_optimize.py:163\u001b[0m, in \u001b[0;36m_optimize_sequential\u001b[0;34m(study, func, n_trials, timeout, catch, callbacks, gc_after_trial, reseed_sampler_rng, time_start, progress_bar)\u001b[0m\n\u001b[1;32m    160\u001b[0m         \u001b[39mbreak\u001b[39;00m\n\u001b[1;32m    162\u001b[0m \u001b[39mtry\u001b[39;00m:\n\u001b[0;32m--> 163\u001b[0m     frozen_trial \u001b[39m=\u001b[39m _run_trial(study, func, catch)\n\u001b[1;32m    164\u001b[0m \u001b[39mfinally\u001b[39;00m:\n\u001b[1;32m    165\u001b[0m     \u001b[39m# The following line mitigates memory problems that can be occurred in some\u001b[39;00m\n\u001b[1;32m    166\u001b[0m     \u001b[39m# environments (e.g., services that use computing containers such as GitHub Actions).\u001b[39;00m\n\u001b[1;32m    167\u001b[0m     \u001b[39m# Please refer to the following PR for further details:\u001b[39;00m\n\u001b[1;32m    168\u001b[0m     \u001b[39m# https://github.com/optuna/optuna/pull/325.\u001b[39;00m\n\u001b[1;32m    169\u001b[0m     \u001b[39mif\u001b[39;00m gc_after_trial:\n",
            "File \u001b[0;32m~/.local/lib/python3.11/site-packages/optuna/study/_optimize.py:251\u001b[0m, in \u001b[0;36m_run_trial\u001b[0;34m(study, func, catch)\u001b[0m\n\u001b[1;32m    244\u001b[0m         \u001b[39massert\u001b[39;00m \u001b[39mFalse\u001b[39;00m, \u001b[39m\"\u001b[39m\u001b[39mShould not reach.\u001b[39m\u001b[39m\"\u001b[39m\n\u001b[1;32m    246\u001b[0m \u001b[39mif\u001b[39;00m (\n\u001b[1;32m    247\u001b[0m     frozen_trial\u001b[39m.\u001b[39mstate \u001b[39m==\u001b[39m TrialState\u001b[39m.\u001b[39mFAIL\n\u001b[1;32m    248\u001b[0m     \u001b[39mand\u001b[39;00m func_err \u001b[39mis\u001b[39;00m \u001b[39mnot\u001b[39;00m \u001b[39mNone\u001b[39;00m\n\u001b[1;32m    249\u001b[0m     \u001b[39mand\u001b[39;00m \u001b[39mnot\u001b[39;00m \u001b[39misinstance\u001b[39m(func_err, catch)\n\u001b[1;32m    250\u001b[0m ):\n\u001b[0;32m--> 251\u001b[0m     \u001b[39mraise\u001b[39;00m func_err\n\u001b[1;32m    252\u001b[0m \u001b[39mreturn\u001b[39;00m frozen_trial\n",
            "File \u001b[0;32m~/.local/lib/python3.11/site-packages/optuna/study/_optimize.py:200\u001b[0m, in \u001b[0;36m_run_trial\u001b[0;34m(study, func, catch)\u001b[0m\n\u001b[1;32m    198\u001b[0m \u001b[39mwith\u001b[39;00m get_heartbeat_thread(trial\u001b[39m.\u001b[39m_trial_id, study\u001b[39m.\u001b[39m_storage):\n\u001b[1;32m    199\u001b[0m     \u001b[39mtry\u001b[39;00m:\n\u001b[0;32m--> 200\u001b[0m         value_or_values \u001b[39m=\u001b[39m func(trial)\n\u001b[1;32m    201\u001b[0m     \u001b[39mexcept\u001b[39;00m exceptions\u001b[39m.\u001b[39mTrialPruned \u001b[39mas\u001b[39;00m e:\n\u001b[1;32m    202\u001b[0m         \u001b[39m# TODO(mamu): Handle multi-objective cases.\u001b[39;00m\n\u001b[1;32m    203\u001b[0m         state \u001b[39m=\u001b[39m TrialState\u001b[39m.\u001b[39mPRUNED\n",
            "Cell \u001b[0;32mIn[82], line 36\u001b[0m, in \u001b[0;36mobjective\u001b[0;34m(trial)\u001b[0m\n\u001b[1;32m     29\u001b[0m train_loader \u001b[39m=\u001b[39m torch\u001b[39m.\u001b[39mutils\u001b[39m.\u001b[39mdata\u001b[39m.\u001b[39mDataLoader(\n\u001b[1;32m     30\u001b[0m     torch\u001b[39m.\u001b[39mutils\u001b[39m.\u001b[39mdata\u001b[39m.\u001b[39mTensorDataset(x_train, y_train), batch_size\u001b[39m=\u001b[39mbatch_size, shuffle\u001b[39m=\u001b[39m\u001b[39mTrue\u001b[39;00m\n\u001b[1;32m     31\u001b[0m )\n\u001b[1;32m     32\u001b[0m val_loader \u001b[39m=\u001b[39m torch\u001b[39m.\u001b[39mutils\u001b[39m.\u001b[39mdata\u001b[39m.\u001b[39mDataLoader(\n\u001b[1;32m     33\u001b[0m     torch\u001b[39m.\u001b[39mutils\u001b[39m.\u001b[39mdata\u001b[39m.\u001b[39mTensorDataset(x_val, y_val), batch_size\u001b[39m=\u001b[39mbatch_size\n\u001b[1;32m     34\u001b[0m )\n\u001b[0;32m---> 36\u001b[0m _, _, _, _, val_metrics, _ \u001b[39m=\u001b[39m train_and_eval(\n\u001b[1;32m     37\u001b[0m     net, loss_fn, optimizer, batch_size, n_epochs, scheduler, train_loader, val_loader, \u001b[39mNone\u001b[39;49;00m, trial\n\u001b[1;32m     38\u001b[0m )\n\u001b[1;32m     40\u001b[0m \u001b[39m# Returning the last validation L1 norm as the objective value to minimize\u001b[39;00m\n\u001b[1;32m     41\u001b[0m \u001b[39mreturn\u001b[39;00m val_metrics[\u001b[39m-\u001b[39m\u001b[39m1\u001b[39m][\u001b[39m\"\u001b[39m\u001b[39ml1_norm\u001b[39m\u001b[39m\"\u001b[39m]\n",
            "Cell \u001b[0;32mIn[81], line 143\u001b[0m, in \u001b[0;36mtrain_and_eval\u001b[0;34m(net, loss_fn, optimizer, batch_size, n_epochs, scheduler, train_loader, val_loader, test_loader, trial)\u001b[0m\n\u001b[1;32m    141\u001b[0m \u001b[39m# Reporting the intermediate metric value to Optuna if trial is not None\u001b[39;00m\n\u001b[1;32m    142\u001b[0m \u001b[39mif\u001b[39;00m trial \u001b[39mis\u001b[39;00m \u001b[39mnot\u001b[39;00m \u001b[39mNone\u001b[39;00m:\n\u001b[0;32m--> 143\u001b[0m     trial\u001b[39m.\u001b[39;49mreport(val_l1_norm, epoch)\n\u001b[1;32m    145\u001b[0m     \u001b[39mif\u001b[39;00m trial\u001b[39m.\u001b[39mshould_prune():\n\u001b[1;32m    146\u001b[0m         \u001b[39mraise\u001b[39;00m optuna\u001b[39m.\u001b[39mTrialPruned()\n",
            "File \u001b[0;32m~/.local/lib/python3.11/site-packages/optuna/trial/_trial.py:497\u001b[0m, in \u001b[0;36mTrial.report\u001b[0;34m(self, value, step)\u001b[0m\n\u001b[1;32m    490\u001b[0m     warnings\u001b[39m.\u001b[39mwarn(\n\u001b[1;32m    491\u001b[0m         \u001b[39m\"\u001b[39m\u001b[39mThe reported value is ignored because this `step` \u001b[39m\u001b[39m{}\u001b[39;00m\u001b[39m is already reported.\u001b[39m\u001b[39m\"\u001b[39m\u001b[39m.\u001b[39mformat(\n\u001b[1;32m    492\u001b[0m             step\n\u001b[1;32m    493\u001b[0m         )\n\u001b[1;32m    494\u001b[0m     )\n\u001b[1;32m    495\u001b[0m     \u001b[39mreturn\u001b[39;00m\n\u001b[0;32m--> 497\u001b[0m \u001b[39mself\u001b[39;49m\u001b[39m.\u001b[39;49mstorage\u001b[39m.\u001b[39;49mset_trial_intermediate_value(\u001b[39mself\u001b[39;49m\u001b[39m.\u001b[39;49m_trial_id, step, value)\n\u001b[1;32m    498\u001b[0m \u001b[39mself\u001b[39m\u001b[39m.\u001b[39m_cached_frozen_trial\u001b[39m.\u001b[39mintermediate_values[step] \u001b[39m=\u001b[39m value\n",
            "File \u001b[0;32m~/.local/lib/python3.11/site-packages/optuna/storages/_cached_storage.py:303\u001b[0m, in \u001b[0;36m_CachedStorage.set_trial_intermediate_value\u001b[0;34m(self, trial_id, step, intermediate_value)\u001b[0m\n\u001b[1;32m    301\u001b[0m         intermediate_values[step] \u001b[39m=\u001b[39m intermediate_value\n\u001b[1;32m    302\u001b[0m         cached_trial\u001b[39m.\u001b[39mintermediate_values \u001b[39m=\u001b[39m intermediate_values\n\u001b[0;32m--> 303\u001b[0m \u001b[39mself\u001b[39;49m\u001b[39m.\u001b[39;49m_backend\u001b[39m.\u001b[39;49mset_trial_intermediate_value(trial_id, step, intermediate_value)\n",
            "File \u001b[0;32m~/.local/lib/python3.11/site-packages/optuna/storages/_rdb/storage.py:699\u001b[0m, in \u001b[0;36mRDBStorage.set_trial_intermediate_value\u001b[0;34m(self, trial_id, step, intermediate_value)\u001b[0m\n\u001b[1;32m    695\u001b[0m \u001b[39mdef\u001b[39;00m \u001b[39mset_trial_intermediate_value\u001b[39m(\n\u001b[1;32m    696\u001b[0m     \u001b[39mself\u001b[39m, trial_id: \u001b[39mint\u001b[39m, step: \u001b[39mint\u001b[39m, intermediate_value: \u001b[39mfloat\u001b[39m\n\u001b[1;32m    697\u001b[0m ) \u001b[39m-\u001b[39m\u001b[39m>\u001b[39m \u001b[39mNone\u001b[39;00m:\n\u001b[0;32m--> 699\u001b[0m     \u001b[39mwith\u001b[39;49;00m _create_scoped_session(\u001b[39mself\u001b[39;49m\u001b[39m.\u001b[39;49mscoped_session, \u001b[39mTrue\u001b[39;49;00m) \u001b[39mas\u001b[39;49;00m session:\n\u001b[1;32m    700\u001b[0m         \u001b[39mself\u001b[39;49m\u001b[39m.\u001b[39;49m_set_trial_intermediate_value_without_commit(\n\u001b[1;32m    701\u001b[0m             session, trial_id, step, intermediate_value\n\u001b[1;32m    702\u001b[0m         )\n",
            "File \u001b[0;32m/usr/lib/python3.11/contextlib.py:144\u001b[0m, in \u001b[0;36m_GeneratorContextManager.__exit__\u001b[0;34m(self, typ, value, traceback)\u001b[0m\n\u001b[1;32m    142\u001b[0m \u001b[39mif\u001b[39;00m typ \u001b[39mis\u001b[39;00m \u001b[39mNone\u001b[39;00m:\n\u001b[1;32m    143\u001b[0m     \u001b[39mtry\u001b[39;00m:\n\u001b[0;32m--> 144\u001b[0m         \u001b[39mnext\u001b[39m(\u001b[39mself\u001b[39m\u001b[39m.\u001b[39mgen)\n\u001b[1;32m    145\u001b[0m     \u001b[39mexcept\u001b[39;00m \u001b[39mStopIteration\u001b[39;00m:\n\u001b[1;32m    146\u001b[0m         \u001b[39mreturn\u001b[39;00m \u001b[39mFalse\u001b[39;00m\n",
            "File \u001b[0;32m~/.local/lib/python3.11/site-packages/optuna/storages/_rdb/storage.py:70\u001b[0m, in \u001b[0;36m_create_scoped_session\u001b[0;34m(scoped_session, ignore_integrity_error)\u001b[0m\n\u001b[1;32m     68\u001b[0m \u001b[39mtry\u001b[39;00m:\n\u001b[1;32m     69\u001b[0m     \u001b[39myield\u001b[39;00m session\n\u001b[0;32m---> 70\u001b[0m     session\u001b[39m.\u001b[39;49mcommit()\n\u001b[1;32m     71\u001b[0m \u001b[39mexcept\u001b[39;00m sqlalchemy_exc\u001b[39m.\u001b[39mIntegrityError \u001b[39mas\u001b[39;00m e:\n\u001b[1;32m     72\u001b[0m     session\u001b[39m.\u001b[39mrollback()\n",
            "File \u001b[0;32m~/.local/lib/python3.11/site-packages/sqlalchemy/orm/session.py:1905\u001b[0m, in \u001b[0;36mSession.commit\u001b[0;34m(self)\u001b[0m\n\u001b[1;32m   1902\u001b[0m \u001b[39mif\u001b[39;00m trans \u001b[39mis\u001b[39;00m \u001b[39mNone\u001b[39;00m:\n\u001b[1;32m   1903\u001b[0m     trans \u001b[39m=\u001b[39m \u001b[39mself\u001b[39m\u001b[39m.\u001b[39m_autobegin_t()\n\u001b[0;32m-> 1905\u001b[0m trans\u001b[39m.\u001b[39;49mcommit(_to_root\u001b[39m=\u001b[39;49m\u001b[39mTrue\u001b[39;49;00m)\n",
            "File \u001b[0;32m<string>:2\u001b[0m, in \u001b[0;36mcommit\u001b[0;34m(self, _to_root)\u001b[0m\n",
            "File \u001b[0;32m~/.local/lib/python3.11/site-packages/sqlalchemy/orm/state_changes.py:137\u001b[0m, in \u001b[0;36m_StateChange.declare_states.<locals>._go\u001b[0;34m(fn, self, *arg, **kw)\u001b[0m\n\u001b[1;32m    135\u001b[0m \u001b[39mself\u001b[39m\u001b[39m.\u001b[39m_next_state \u001b[39m=\u001b[39m _StateChangeStates\u001b[39m.\u001b[39mCHANGE_IN_PROGRESS\n\u001b[1;32m    136\u001b[0m \u001b[39mtry\u001b[39;00m:\n\u001b[0;32m--> 137\u001b[0m     ret_value \u001b[39m=\u001b[39m fn(\u001b[39mself\u001b[39;49m, \u001b[39m*\u001b[39;49marg, \u001b[39m*\u001b[39;49m\u001b[39m*\u001b[39;49mkw)\n\u001b[1;32m    138\u001b[0m \u001b[39mexcept\u001b[39;00m:\n\u001b[1;32m    139\u001b[0m     \u001b[39mraise\u001b[39;00m\n",
            "File \u001b[0;32m~/.local/lib/python3.11/site-packages/sqlalchemy/orm/session.py:1227\u001b[0m, in \u001b[0;36mSessionTransaction.commit\u001b[0;34m(self, _to_root)\u001b[0m\n\u001b[1;32m   1223\u001b[0m \u001b[39mfor\u001b[39;00m conn, trans, should_commit, autoclose \u001b[39min\u001b[39;00m \u001b[39mset\u001b[39m(\n\u001b[1;32m   1224\u001b[0m     \u001b[39mself\u001b[39m\u001b[39m.\u001b[39m_connections\u001b[39m.\u001b[39mvalues()\n\u001b[1;32m   1225\u001b[0m ):\n\u001b[1;32m   1226\u001b[0m     \u001b[39mif\u001b[39;00m should_commit:\n\u001b[0;32m-> 1227\u001b[0m         trans\u001b[39m.\u001b[39;49mcommit()\n\u001b[1;32m   1229\u001b[0m \u001b[39mself\u001b[39m\u001b[39m.\u001b[39m_state \u001b[39m=\u001b[39m SessionTransactionState\u001b[39m.\u001b[39mCOMMITTED\n\u001b[1;32m   1230\u001b[0m \u001b[39mself\u001b[39m\u001b[39m.\u001b[39msession\u001b[39m.\u001b[39mdispatch\u001b[39m.\u001b[39mafter_commit(\u001b[39mself\u001b[39m\u001b[39m.\u001b[39msession)\n",
            "File \u001b[0;32m~/.local/lib/python3.11/site-packages/sqlalchemy/engine/base.py:2615\u001b[0m, in \u001b[0;36mTransaction.commit\u001b[0;34m(self)\u001b[0m\n\u001b[1;32m   2599\u001b[0m \u001b[39m\u001b[39m\u001b[39m\"\"\"Commit this :class:`.Transaction`.\u001b[39;00m\n\u001b[1;32m   2600\u001b[0m \n\u001b[1;32m   2601\u001b[0m \u001b[39mThe implementation of this may vary based on the type of transaction in\u001b[39;00m\n\u001b[0;32m   (...)\u001b[0m\n\u001b[1;32m   2612\u001b[0m \n\u001b[1;32m   2613\u001b[0m \u001b[39m\"\"\"\u001b[39;00m\n\u001b[1;32m   2614\u001b[0m \u001b[39mtry\u001b[39;00m:\n\u001b[0;32m-> 2615\u001b[0m     \u001b[39mself\u001b[39;49m\u001b[39m.\u001b[39;49m_do_commit()\n\u001b[1;32m   2616\u001b[0m \u001b[39mfinally\u001b[39;00m:\n\u001b[1;32m   2617\u001b[0m     \u001b[39massert\u001b[39;00m \u001b[39mnot\u001b[39;00m \u001b[39mself\u001b[39m\u001b[39m.\u001b[39mis_active\n",
            "File \u001b[0;32m~/.local/lib/python3.11/site-packages/sqlalchemy/engine/base.py:2720\u001b[0m, in \u001b[0;36mRootTransaction._do_commit\u001b[0;34m(self)\u001b[0m\n\u001b[1;32m   2717\u001b[0m \u001b[39massert\u001b[39;00m \u001b[39mself\u001b[39m\u001b[39m.\u001b[39mconnection\u001b[39m.\u001b[39m_transaction \u001b[39mis\u001b[39;00m \u001b[39mself\u001b[39m\n\u001b[1;32m   2719\u001b[0m \u001b[39mtry\u001b[39;00m:\n\u001b[0;32m-> 2720\u001b[0m     \u001b[39mself\u001b[39;49m\u001b[39m.\u001b[39;49m_connection_commit_impl()\n\u001b[1;32m   2721\u001b[0m \u001b[39mfinally\u001b[39;00m:\n\u001b[1;32m   2722\u001b[0m     \u001b[39m# whether or not commit succeeds, cancel any\u001b[39;00m\n\u001b[1;32m   2723\u001b[0m     \u001b[39m# nested transactions, make this transaction \"inactive\"\u001b[39;00m\n\u001b[1;32m   2724\u001b[0m     \u001b[39m# and remove it as a reset agent\u001b[39;00m\n\u001b[1;32m   2725\u001b[0m     \u001b[39mif\u001b[39;00m \u001b[39mself\u001b[39m\u001b[39m.\u001b[39mconnection\u001b[39m.\u001b[39m_nested_transaction:\n",
            "File \u001b[0;32m~/.local/lib/python3.11/site-packages/sqlalchemy/engine/base.py:2691\u001b[0m, in \u001b[0;36mRootTransaction._connection_commit_impl\u001b[0;34m(self)\u001b[0m\n\u001b[1;32m   2690\u001b[0m \u001b[39mdef\u001b[39;00m \u001b[39m_connection_commit_impl\u001b[39m(\u001b[39mself\u001b[39m) \u001b[39m-\u001b[39m\u001b[39m>\u001b[39m \u001b[39mNone\u001b[39;00m:\n\u001b[0;32m-> 2691\u001b[0m     \u001b[39mself\u001b[39;49m\u001b[39m.\u001b[39;49mconnection\u001b[39m.\u001b[39;49m_commit_impl()\n",
            "File \u001b[0;32m~/.local/lib/python3.11/site-packages/sqlalchemy/engine/base.py:1135\u001b[0m, in \u001b[0;36mConnection._commit_impl\u001b[0;34m(self)\u001b[0m\n\u001b[1;32m   1133\u001b[0m     \u001b[39mself\u001b[39m\u001b[39m.\u001b[39mengine\u001b[39m.\u001b[39mdialect\u001b[39m.\u001b[39mdo_commit(\u001b[39mself\u001b[39m\u001b[39m.\u001b[39mconnection)\n\u001b[1;32m   1134\u001b[0m \u001b[39mexcept\u001b[39;00m \u001b[39mBaseException\u001b[39;00m \u001b[39mas\u001b[39;00m e:\n\u001b[0;32m-> 1135\u001b[0m     \u001b[39mself\u001b[39;49m\u001b[39m.\u001b[39;49m_handle_dbapi_exception(e, \u001b[39mNone\u001b[39;49;00m, \u001b[39mNone\u001b[39;49;00m, \u001b[39mNone\u001b[39;49;00m, \u001b[39mNone\u001b[39;49;00m)\n",
            "File \u001b[0;32m~/.local/lib/python3.11/site-packages/sqlalchemy/engine/base.py:2342\u001b[0m, in \u001b[0;36mConnection._handle_dbapi_exception\u001b[0;34m(self, e, statement, parameters, cursor, context, is_sub_exec)\u001b[0m\n\u001b[1;32m   2340\u001b[0m     \u001b[39melse\u001b[39;00m:\n\u001b[1;32m   2341\u001b[0m         \u001b[39massert\u001b[39;00m exc_info[\u001b[39m1\u001b[39m] \u001b[39mis\u001b[39;00m \u001b[39mnot\u001b[39;00m \u001b[39mNone\u001b[39;00m\n\u001b[0;32m-> 2342\u001b[0m         \u001b[39mraise\u001b[39;00m exc_info[\u001b[39m1\u001b[39m]\u001b[39m.\u001b[39mwith_traceback(exc_info[\u001b[39m2\u001b[39m])\n\u001b[1;32m   2343\u001b[0m \u001b[39mfinally\u001b[39;00m:\n\u001b[1;32m   2344\u001b[0m     \u001b[39mdel\u001b[39;00m \u001b[39mself\u001b[39m\u001b[39m.\u001b[39m_reentrant_error\n",
            "File \u001b[0;32m~/.local/lib/python3.11/site-packages/sqlalchemy/engine/base.py:1133\u001b[0m, in \u001b[0;36mConnection._commit_impl\u001b[0;34m(self)\u001b[0m\n\u001b[1;32m   1131\u001b[0m         \u001b[39mself\u001b[39m\u001b[39m.\u001b[39m_log_info(\u001b[39m\"\u001b[39m\u001b[39mCOMMIT\u001b[39m\u001b[39m\"\u001b[39m)\n\u001b[1;32m   1132\u001b[0m \u001b[39mtry\u001b[39;00m:\n\u001b[0;32m-> 1133\u001b[0m     \u001b[39mself\u001b[39;49m\u001b[39m.\u001b[39;49mengine\u001b[39m.\u001b[39;49mdialect\u001b[39m.\u001b[39;49mdo_commit(\u001b[39mself\u001b[39;49m\u001b[39m.\u001b[39;49mconnection)\n\u001b[1;32m   1134\u001b[0m \u001b[39mexcept\u001b[39;00m \u001b[39mBaseException\u001b[39;00m \u001b[39mas\u001b[39;00m e:\n\u001b[1;32m   1135\u001b[0m     \u001b[39mself\u001b[39m\u001b[39m.\u001b[39m_handle_dbapi_exception(e, \u001b[39mNone\u001b[39;00m, \u001b[39mNone\u001b[39;00m, \u001b[39mNone\u001b[39;00m, \u001b[39mNone\u001b[39;00m)\n",
            "File \u001b[0;32m~/.local/lib/python3.11/site-packages/sqlalchemy/engine/default.py:696\u001b[0m, in \u001b[0;36mDefaultDialect.do_commit\u001b[0;34m(self, dbapi_connection)\u001b[0m\n\u001b[1;32m    695\u001b[0m \u001b[39mdef\u001b[39;00m \u001b[39mdo_commit\u001b[39m(\u001b[39mself\u001b[39m, dbapi_connection):\n\u001b[0;32m--> 696\u001b[0m     dbapi_connection\u001b[39m.\u001b[39;49mcommit()\n",
            "\u001b[0;31mKeyboardInterrupt\u001b[0m: "
          ]
        }
      ],
      "source": [
        "# Visualize Optuna study while its running, alternative to tensorboard\n",
        "# from IPython import display\n",
        "# def callback(study, trial):\n",
        "#     display.clear_output(wait=True)\n",
        "#     optuna.visualization.plot_optimization_history(study).show()\n",
        "\n",
        "def callback(study, trial):\n",
        "    # This function is called after each trial.\n",
        "    # `trial` is the completed trial.\n",
        "    with open('all_trials.json', 'a') as f:\n",
        "        # Save the trial number, value, and parameters to a JSON file.\n",
        "        json.dump({\n",
        "            'number': trial.number,\n",
        "            'value': trial.value,\n",
        "            'params': trial.params\n",
        "        }, f)\n",
        "        # Write a newline character after each trial, so that each trial is on a separate line\n",
        "        f.write('\\n')\n",
        "\n",
        "\n",
        "if OPTIMIZE:\n",
        "    # Include the path to the SQLite file in your create_study call.\n",
        "    study = optuna.create_study(direction=\"minimize\", \n",
        "                                sampler=optuna.samplers.TPESampler(), \n",
        "                                pruner=optuna.pruners.MedianPruner(), \n",
        "                                storage=f'sqlite:///{STUDY_NAME}.db')\n",
        "\n",
        "    study.optimize(objective, n_trials=N_TRIALS, callbacks=[callback])\n",
        "    #study.optimize(objective, n_trials=N_TRIALS)"
      ]
    },
    {
      "cell_type": "code",
      "execution_count": null,
      "metadata": {},
      "outputs": [
        {
          "name": "stdout",
          "output_type": "stream",
          "text": [
            "Best trial:\n",
            "  Value:  0.606060266494751\n",
            "  Params: \n",
            "    batch_size: 512\n",
            "    dropout_rate: 0.3660754173253749\n",
            "    gamma: 0.38983483936388896\n",
            "    hidden_activation: GELU\n",
            "    loss: Huber\n",
            "    lr: 0.00011250554346747867\n",
            "    n_epochs: 93\n",
            "    n_layers: 2\n",
            "    n_units_0: 2202\n",
            "    n_units_1: 1665\n",
            "    optimizer: Adagrad\n",
            "    output_activation: Linear\n",
            "    scheduler: StepLR\n",
            "    step_size: 5\n"
          ]
        }
      ],
      "source": [
        "if OPTIMIZE:\n",
        "#    # Optimization History\n",
        "#    ov.plot_optimization_history(study).show()\n",
        "#\n",
        "#    # Slice Plot\n",
        "#    ov.plot_slice(study).show()\n",
        "#\n",
        "#    # Contour Plot\n",
        "#    ov.plot_contour(study).show()\n",
        "#\n",
        "#    # Parallel Coordinate Plot\n",
        "#    ov.plot_parallel_coordinate(study).show()\n",
        "#\n",
        "#    # Hyperparameter Importance Plot\n",
        "#    ov.plot_param_importances(study).show()\n",
        "#\n",
        "    # Best trial information\n",
        "    print(\"Best trial:\")\n",
        "    trial = study.best_trial\n",
        "    print(\"  Value: \", trial.value)\n",
        "    print(\"  Params: \")\n",
        "    for key, value in trial.params.items():\n",
        "        print(f\"    {key}: {value}\")\n",
        "\n",
        "    # Saving the study to a pickle file\n",
        "    with open(f'{STUDY_NAME}.pkl', 'wb') as f:\n",
        "        pickle.dump(study, f)\n",
        "        save_file(f'{STUDY_NAME}.pkl')\n",
        "\n",
        "    # Save the best trial separately as well.\n",
        "    best_trial_params = study.best_trial.params\n",
        "    with open('best_trial_params.json', 'w') as f:\n",
        "        json.dump(best_trial_params, f)\n",
        "        save_file('best_trial_params.json')\n",
        "\n"
      ]
    },
    {
      "attachments": {},
      "cell_type": "markdown",
      "metadata": {
        "id": "jmMfE9_dUZiS"
      },
      "source": [
        "## Training the model"
      ]
    },
    {
      "cell_type": "code",
      "execution_count": null,
      "metadata": {
        "id": "phyiHlWEUZiT"
      },
      "outputs": [
        {
          "name": "stderr",
          "output_type": "stream",
          "text": [
            "/tmp/ipykernel_32194/3579061573.py:44: FutureWarning: suggest_loguniform has been deprecated in v3.0.0. This feature will be removed in v6.0.0. See https://github.com/optuna/optuna/releases/tag/v3.0.0. Use :func:`~optuna.trial.FrozenTrial.suggest_float` instead.\n",
            "  lr = trial.suggest_loguniform(\"lr\", 1e-5, 1e-1)\n",
            "/tmp/ipykernel_32194/3579061573.py:76: FutureWarning: suggest_uniform has been deprecated in v3.0.0. This feature will be removed in v6.0.0. See https://github.com/optuna/optuna/releases/tag/v3.0.0. Use :func:`~optuna.trial.FrozenTrial.suggest_float` instead.\n",
            "  dropout_rate = trial.suggest_uniform(\"dropout_rate\", 0.0, 0.5)\n",
            "/tmp/ipykernel_32194/3579061573.py:161: FutureWarning: suggest_uniform has been deprecated in v3.0.0. This feature will be removed in v6.0.0. See https://github.com/optuna/optuna/releases/tag/v3.0.0. Use :func:`~optuna.trial.FrozenTrial.suggest_float` instead.\n",
            "  gamma = trial.suggest_uniform(\"gamma\", 0.1, 0.5)\n"
          ]
        }
      ],
      "source": [
        "# Creating the best network and optimizer using the best hyperparameters\n",
        "if OPTIMIZE:\n",
        "    net, \\\n",
        "    loss_fn, \\\n",
        "    optimizer, \\\n",
        "    batch_size, \\\n",
        "    n_epochs, \\\n",
        "    scheduler, \\\n",
        "    loss_name, \\\n",
        "    optimizer_name, \\\n",
        "    scheduler_name, \\\n",
        "    n_units, \\\n",
        "    n_layers, \\\n",
        "    hidden_activation, \\\n",
        "    output_activation, \\\n",
        "    lr, \\\n",
        "    dropout_rate = create_model(trial, optimize=True)\n",
        "\n",
        "# Creating the network with predefined hyperparameters\n",
        "else:\n",
        "    net, \\\n",
        "    loss_fn, \\\n",
        "    optimizer, \\\n",
        "    batch_size, \\\n",
        "    n_epochs, \\\n",
        "    scheduler, \\\n",
        "    loss_name, \\\n",
        "    optimizer_name, \\\n",
        "    scheduler_name, \\\n",
        "    n_units, \\\n",
        "    n_layers, \\\n",
        "    hidden_activation, \\\n",
        "    output_activation, \\\n",
        "    lr, \\\n",
        "    dropout_rate = create_model(trial=None, optimize=True)"
      ]
    },
    {
      "cell_type": "code",
      "execution_count": null,
      "metadata": {
        "colab": {
          "base_uri": "https://localhost:8080/"
        },
        "id": "_yq-oY81UZiU",
        "outputId": "dbf2f465-bd50-4a20-8926-616c3d2157d0"
      },
      "outputs": [
        {
          "name": "stdout",
          "output_type": "stream",
          "text": [
            "loss_fn: Net(\n",
            "  (hidden_activation): GELU(approximate='none')\n",
            "  (output_activation): Identity()\n",
            "  (layers): ModuleList(\n",
            "    (0): Linear(in_features=14, out_features=2202, bias=True)\n",
            "    (1): Linear(in_features=2202, out_features=1665, bias=True)\n",
            "    (2): Linear(in_features=1665, out_features=1, bias=True)\n",
            "  )\n",
            "  (dropouts): ModuleList(\n",
            "    (0-1): 2 x Dropout(p=0.3660754173253749, inplace=False)\n",
            "  )\n",
            ")\n",
            "loss_fn: SmoothL1Loss()\n",
            "batch_size: 512\n",
            "n_epochs: 93\n",
            "scheduler: <torch.optim.lr_scheduler.StepLR object at 0x7f7987ce1690>\n",
            "loss_name: Huber\n",
            "optimizer_name: Adagrad\n",
            "scheduler_name: StepLR\n",
            "n_units: [2202, 1665]\n",
            "n_layers: 2\n",
            "hidden_activation: GELU(approximate='none')\n",
            "output_activation: Identity()\n",
            "lr 0.00011250554346747867\n",
            "dropout_rate 0.3660754173253749\n"
          ]
        }
      ],
      "source": [
        "print(\"loss_fn:\", net)\n",
        "print(\"loss_fn:\", loss_fn)\n",
        "print(\"batch_size:\", batch_size)\n",
        "print(\"n_epochs:\", n_epochs)\n",
        "print(\"scheduler:\", scheduler)\n",
        "print(\"loss_name:\", loss_name)\n",
        "print(\"optimizer_name:\", optimizer_name)\n",
        "print(\"scheduler_name:\", scheduler_name)\n",
        "print(\"n_units:\", n_units)\n",
        "print(\"n_layers:\", n_layers)\n",
        "print(\"hidden_activation:\", hidden_activation)\n",
        "print(\"output_activation:\", output_activation)\n",
        "print(\"lr\", lr)\n",
        "print(\"dropout_rate\", dropout_rate)"
      ]
    },
    {
      "attachments": {},
      "cell_type": "markdown",
      "metadata": {
        "colab": {
          "base_uri": "https://localhost:8080/"
        },
        "id": "E7aLWdZyUZiW",
        "outputId": "8fb1e8c6-5aa3-43a1-a255-712cf9396d0c"
      },
      "source": [
        "After optimizing with Optuna and deciding on the best hyperparameters, we combine the training and validatin set, using that as the new training set for training the model, and then evaluate the model on the test set"
      ]
    },
    {
      "cell_type": "code",
      "execution_count": null,
      "metadata": {},
      "outputs": [
        {
          "name": "stdout",
          "output_type": "stream",
          "text": [
            "Epoch 1/93.. Train loss: 3.424.. Test loss: 6.799.. Train L1 norm: 3.256.. Test L1 norm: 4.090.. Train Linf norm: 18.009.. Test Linf norm: 7.815\n",
            "Epoch 2/93.. Train loss: 5.408.. Test loss: 6.902.. Train L1 norm: 6.398.. Test L1 norm: 1.322.. Train Linf norm: 34.048.. Test Linf norm: 1.766\n",
            "Epoch 3/93.. Train loss: 2.466.. Test loss: 6.458.. Train L1 norm: 5.080.. Test L1 norm: 3.963.. Train Linf norm: 33.795.. Test Linf norm: 7.590\n",
            "Epoch 4/93.. Train loss: 6.466.. Test loss: 6.652.. Train L1 norm: 7.758.. Test L1 norm: 2.055.. Train Linf norm: 26.389.. Test Linf norm: 3.402\n",
            "Epoch 5/93.. Train loss: 2.884.. Test loss: 6.442.. Train L1 norm: 1.258.. Test L1 norm: 1.878.. Train Linf norm: 1.913.. Test Linf norm: 3.049\n",
            "Epoch 6/93.. Train loss: 3.267.. Test loss: 6.479.. Train L1 norm: 4.542.. Test L1 norm: 1.205.. Train Linf norm: 19.353.. Test Linf norm: 1.576\n",
            "Epoch 7/93.. Train loss: 4.199.. Test loss: 6.088.. Train L1 norm: 1.859.. Test L1 norm: 1.946.. Train Linf norm: 5.331.. Test Linf norm: 3.250\n",
            "Epoch 8/93.. Train loss: 2.765.. Test loss: 6.208.. Train L1 norm: 2.473.. Test L1 norm: 2.808.. Train Linf norm: 12.265.. Test Linf norm: 5.109\n",
            "Epoch 9/93.. Train loss: 1.411.. Test loss: 6.191.. Train L1 norm: 2.870.. Test L1 norm: 2.111.. Train Linf norm: 16.834.. Test Linf norm: 3.593\n",
            "Epoch 10/93.. Train loss: 1.184.. Test loss: 6.239.. Train L1 norm: 4.307.. Test L1 norm: 3.097.. Train Linf norm: 27.796.. Test Linf norm: 5.736\n",
            "Epoch 11/93.. Train loss: 3.409.. Test loss: 6.211.. Train L1 norm: 2.846.. Test L1 norm: 2.523.. Train Linf norm: 8.408.. Test Linf norm: 4.489\n",
            "Epoch 12/93.. Train loss: 1.269.. Test loss: 6.389.. Train L1 norm: 2.374.. Test L1 norm: 1.149.. Train Linf norm: 11.328.. Test Linf norm: 1.467\n",
            "Epoch 13/93.. Train loss: 1.762.. Test loss: 6.141.. Train L1 norm: 2.078.. Test L1 norm: 2.296.. Train Linf norm: 10.827.. Test Linf norm: 4.004\n",
            "Epoch 14/93.. Train loss: 2.206.. Test loss: 6.391.. Train L1 norm: 1.881.. Test L1 norm: 2.346.. Train Linf norm: 6.574.. Test Linf norm: 4.076\n",
            "Epoch 15/93.. Train loss: 3.043.. Test loss: 6.273.. Train L1 norm: 3.331.. Test L1 norm: 2.199.. Train Linf norm: 12.365.. Test Linf norm: 3.772\n",
            "Epoch 16/93.. Train loss: 1.549.. Test loss: 6.228.. Train L1 norm: 2.798.. Test L1 norm: 2.038.. Train Linf norm: 9.418.. Test Linf norm: 3.430\n",
            "Epoch 17/93.. Train loss: 2.832.. Test loss: 6.315.. Train L1 norm: 6.454.. Test L1 norm: 2.032.. Train Linf norm: 38.296.. Test Linf norm: 3.404\n",
            "Epoch 18/93.. Train loss: 1.471.. Test loss: 6.305.. Train L1 norm: 1.637.. Test L1 norm: 1.152.. Train Linf norm: 4.626.. Test Linf norm: 1.486\n",
            "Epoch 19/93.. Train loss: 2.409.. Test loss: 6.125.. Train L1 norm: 2.875.. Test L1 norm: 2.317.. Train Linf norm: 12.343.. Test Linf norm: 4.053\n",
            "Epoch 20/93.. Train loss: 1.600.. Test loss: 6.259.. Train L1 norm: 1.254.. Test L1 norm: 1.313.. Train Linf norm: 2.864.. Test Linf norm: 1.844\n",
            "Epoch 21/93.. Train loss: 2.132.. Test loss: 6.141.. Train L1 norm: 2.075.. Test L1 norm: 2.060.. Train Linf norm: 7.338.. Test Linf norm: 3.490\n",
            "Epoch 22/93.. Train loss: 2.808.. Test loss: 6.127.. Train L1 norm: 2.292.. Test L1 norm: 2.655.. Train Linf norm: 7.063.. Test Linf norm: 4.788\n",
            "Epoch 23/93.. Train loss: 2.124.. Test loss: 6.143.. Train L1 norm: 3.131.. Test L1 norm: 3.022.. Train Linf norm: 16.637.. Test Linf norm: 5.587\n",
            "Epoch 24/93.. Train loss: 1.598.. Test loss: 6.220.. Train L1 norm: 3.771.. Test L1 norm: 2.638.. Train Linf norm: 19.771.. Test Linf norm: 4.738\n",
            "Epoch 25/93.. Train loss: 1.313.. Test loss: 6.322.. Train L1 norm: 1.099.. Test L1 norm: 3.019.. Train Linf norm: 3.380.. Test Linf norm: 5.554\n",
            "Epoch 26/93.. Train loss: 2.060.. Test loss: 6.491.. Train L1 norm: 3.549.. Test L1 norm: 2.042.. Train Linf norm: 20.253.. Test Linf norm: 3.398\n",
            "Epoch 27/93.. Train loss: 3.314.. Test loss: 6.551.. Train L1 norm: 3.512.. Test L1 norm: 2.450.. Train Linf norm: 14.378.. Test Linf norm: 4.278\n",
            "Epoch 28/93.. Train loss: 1.063.. Test loss: 6.335.. Train L1 norm: 2.571.. Test L1 norm: 2.470.. Train Linf norm: 15.585.. Test Linf norm: 4.354\n",
            "Epoch 29/93.. Train loss: 2.679.. Test loss: 6.400.. Train L1 norm: 2.632.. Test L1 norm: 2.719.. Train Linf norm: 9.034.. Test Linf norm: 4.887\n",
            "Epoch 30/93.. Train loss: 0.935.. Test loss: 6.306.. Train L1 norm: 1.796.. Test L1 norm: 2.662.. Train Linf norm: 7.530.. Test Linf norm: 4.777\n",
            "Epoch 31/93.. Train loss: 2.431.. Test loss: 6.394.. Train L1 norm: 3.859.. Test L1 norm: 3.003.. Train Linf norm: 14.468.. Test Linf norm: 5.507\n",
            "Epoch 32/93.. Train loss: 1.747.. Test loss: 6.499.. Train L1 norm: 1.682.. Test L1 norm: 2.360.. Train Linf norm: 5.824.. Test Linf norm: 4.090\n",
            "Epoch 33/93.. Train loss: 4.695.. Test loss: 6.399.. Train L1 norm: 4.518.. Test L1 norm: 3.080.. Train Linf norm: 18.593.. Test Linf norm: 5.675\n",
            "Epoch 34/93.. Train loss: 1.416.. Test loss: 6.446.. Train L1 norm: 5.236.. Test L1 norm: 3.357.. Train Linf norm: 32.364.. Test Linf norm: 6.271\n",
            "Epoch 35/93.. Train loss: 3.050.. Test loss: 6.506.. Train L1 norm: 4.441.. Test L1 norm: 2.676.. Train Linf norm: 19.062.. Test Linf norm: 4.778\n",
            "Epoch 36/93.. Train loss: 1.167.. Test loss: 6.476.. Train L1 norm: 2.676.. Test L1 norm: 3.129.. Train Linf norm: 17.243.. Test Linf norm: 5.770\n",
            "Epoch 37/93.. Train loss: 2.427.. Test loss: 6.446.. Train L1 norm: 1.865.. Test L1 norm: 2.933.. Train Linf norm: 5.652.. Test Linf norm: 5.347\n",
            "Epoch 38/93.. Train loss: 1.457.. Test loss: 6.563.. Train L1 norm: 2.810.. Test L1 norm: 2.488.. Train Linf norm: 12.237.. Test Linf norm: 4.360\n",
            "Epoch 39/93.. Train loss: 1.274.. Test loss: 6.607.. Train L1 norm: 1.578.. Test L1 norm: 2.491.. Train Linf norm: 9.165.. Test Linf norm: 4.360\n",
            "Epoch 40/93.. Train loss: 0.868.. Test loss: 6.632.. Train L1 norm: 1.986.. Test L1 norm: 2.119.. Train Linf norm: 12.840.. Test Linf norm: 3.544\n",
            "Epoch 41/93.. Train loss: 1.843.. Test loss: 6.536.. Train L1 norm: 2.118.. Test L1 norm: 2.859.. Train Linf norm: 9.380.. Test Linf norm: 5.171\n",
            "Epoch 42/93.. Train loss: 2.280.. Test loss: 6.542.. Train L1 norm: 3.943.. Test L1 norm: 3.379.. Train Linf norm: 25.340.. Test Linf norm: 6.305\n",
            "Epoch 43/93.. Train loss: 2.361.. Test loss: 6.562.. Train L1 norm: 4.257.. Test L1 norm: 2.726.. Train Linf norm: 23.073.. Test Linf norm: 4.879\n",
            "Epoch 44/93.. Train loss: 2.137.. Test loss: 6.550.. Train L1 norm: 4.117.. Test L1 norm: 2.473.. Train Linf norm: 24.946.. Test Linf norm: 4.328\n",
            "Epoch 45/93.. Train loss: 2.426.. Test loss: 6.547.. Train L1 norm: 3.536.. Test L1 norm: 2.814.. Train Linf norm: 13.035.. Test Linf norm: 5.072\n",
            "Epoch 46/93.. Train loss: 1.893.. Test loss: 6.453.. Train L1 norm: 3.165.. Test L1 norm: 2.857.. Train Linf norm: 13.036.. Test Linf norm: 5.180\n",
            "Epoch 47/93.. Train loss: 1.320.. Test loss: 6.397.. Train L1 norm: 1.214.. Test L1 norm: 2.974.. Train Linf norm: 5.518.. Test Linf norm: 5.445\n",
            "Epoch 48/93.. Train loss: 4.258.. Test loss: 6.405.. Train L1 norm: 5.336.. Test L1 norm: 2.688.. Train Linf norm: 21.151.. Test Linf norm: 4.820\n",
            "Epoch 49/93.. Train loss: 2.088.. Test loss: 6.265.. Train L1 norm: 3.826.. Test L1 norm: 2.485.. Train Linf norm: 19.149.. Test Linf norm: 4.398\n",
            "Epoch 50/93.. Train loss: 0.841.. Test loss: 6.253.. Train L1 norm: 1.700.. Test L1 norm: 2.658.. Train Linf norm: 9.815.. Test Linf norm: 4.776\n",
            "Epoch 51/93.. Train loss: 2.290.. Test loss: 6.332.. Train L1 norm: 2.008.. Test L1 norm: 2.288.. Train Linf norm: 7.420.. Test Linf norm: 3.958\n",
            "Epoch 52/93.. Train loss: 1.974.. Test loss: 6.195.. Train L1 norm: 1.490.. Test L1 norm: 2.393.. Train Linf norm: 3.812.. Test Linf norm: 4.208\n",
            "Epoch 53/93.. Train loss: 1.866.. Test loss: 6.068.. Train L1 norm: 4.970.. Test L1 norm: 3.044.. Train Linf norm: 31.227.. Test Linf norm: 5.646\n",
            "Epoch 54/93.. Train loss: 2.906.. Test loss: 6.171.. Train L1 norm: 3.323.. Test L1 norm: 2.363.. Train Linf norm: 11.884.. Test Linf norm: 4.147\n",
            "Epoch 55/93.. Train loss: 0.961.. Test loss: 6.260.. Train L1 norm: 2.776.. Test L1 norm: 2.552.. Train Linf norm: 14.074.. Test Linf norm: 4.544\n",
            "Epoch 56/93.. Train loss: 1.802.. Test loss: 6.148.. Train L1 norm: 1.639.. Test L1 norm: 2.629.. Train Linf norm: 5.785.. Test Linf norm: 4.730\n",
            "Epoch 57/93.. Train loss: 2.482.. Test loss: 6.212.. Train L1 norm: 3.642.. Test L1 norm: 2.135.. Train Linf norm: 12.797.. Test Linf norm: 3.642\n",
            "Epoch 58/93.. Train loss: 1.676.. Test loss: 6.237.. Train L1 norm: 0.876.. Test L1 norm: 1.767.. Train Linf norm: 2.623.. Test Linf norm: 2.838\n",
            "Epoch 59/93.. Train loss: 2.905.. Test loss: 6.182.. Train L1 norm: 4.003.. Test L1 norm: 2.290.. Train Linf norm: 15.123.. Test Linf norm: 3.985\n",
            "Epoch 60/93.. Train loss: 1.789.. Test loss: 6.187.. Train L1 norm: 3.037.. Test L1 norm: 1.841.. Train Linf norm: 13.220.. Test Linf norm: 3.005\n",
            "Epoch 61/93.. Train loss: 1.042.. Test loss: 6.206.. Train L1 norm: 1.785.. Test L1 norm: 1.814.. Train Linf norm: 9.141.. Test Linf norm: 2.943\n",
            "Epoch 62/93.. Train loss: 2.394.. Test loss: 6.210.. Train L1 norm: 2.066.. Test L1 norm: 1.656.. Train Linf norm: 9.558.. Test Linf norm: 2.600\n",
            "Epoch 63/93.. Train loss: 1.832.. Test loss: 6.145.. Train L1 norm: 1.600.. Test L1 norm: 2.110.. Train Linf norm: 6.994.. Test Linf norm: 3.599\n",
            "Epoch 64/93.. Train loss: 1.229.. Test loss: 6.058.. Train L1 norm: 2.004.. Test L1 norm: 2.670.. Train Linf norm: 6.214.. Test Linf norm: 4.831\n",
            "Epoch 65/93.. Train loss: 1.384.. Test loss: 6.089.. Train L1 norm: 2.930.. Test L1 norm: 2.143.. Train Linf norm: 16.131.. Test Linf norm: 3.678\n",
            "Epoch 66/93.. Train loss: 1.248.. Test loss: 6.214.. Train L1 norm: 1.470.. Test L1 norm: 1.957.. Train Linf norm: 5.554.. Test Linf norm: 3.254\n",
            "Epoch 67/93.. Train loss: 3.097.. Test loss: 6.123.. Train L1 norm: 2.306.. Test L1 norm: 2.554.. Train Linf norm: 11.115.. Test Linf norm: 4.569\n",
            "Epoch 68/93.. Train loss: 1.670.. Test loss: 6.154.. Train L1 norm: 3.323.. Test L1 norm: 2.168.. Train Linf norm: 21.406.. Test Linf norm: 3.723\n",
            "Epoch 69/93.. Train loss: 0.947.. Test loss: 6.310.. Train L1 norm: 1.749.. Test L1 norm: 2.022.. Train Linf norm: 9.344.. Test Linf norm: 3.382\n",
            "Epoch 70/93.. Train loss: 1.951.. Test loss: 6.349.. Train L1 norm: 3.356.. Test L1 norm: 2.054.. Train Linf norm: 13.123.. Test Linf norm: 3.445\n",
            "Epoch 71/93.. Train loss: 2.062.. Test loss: 6.351.. Train L1 norm: 2.671.. Test L1 norm: 2.382.. Train Linf norm: 8.940.. Test Linf norm: 4.160\n",
            "Epoch 72/93.. Train loss: 1.120.. Test loss: 6.438.. Train L1 norm: 2.115.. Test L1 norm: 1.888.. Train Linf norm: 9.088.. Test Linf norm: 3.070\n",
            "Epoch 73/93.. Train loss: 1.779.. Test loss: 6.332.. Train L1 norm: 3.093.. Test L1 norm: 2.464.. Train Linf norm: 14.803.. Test Linf norm: 4.342\n",
            "Epoch 74/93.. Train loss: 2.955.. Test loss: 6.348.. Train L1 norm: 2.588.. Test L1 norm: 2.793.. Train Linf norm: 11.929.. Test Linf norm: 5.057\n",
            "Epoch 75/93.. Train loss: 1.972.. Test loss: 6.342.. Train L1 norm: 3.727.. Test L1 norm: 3.125.. Train Linf norm: 15.120.. Test Linf norm: 5.782\n",
            "Epoch 76/93.. Train loss: 2.369.. Test loss: 6.476.. Train L1 norm: 1.891.. Test L1 norm: 2.535.. Train Linf norm: 6.714.. Test Linf norm: 4.474\n",
            "Epoch 77/93.. Train loss: 1.591.. Test loss: 6.564.. Train L1 norm: 1.962.. Test L1 norm: 1.997.. Train Linf norm: 7.662.. Test Linf norm: 3.288\n",
            "Epoch 78/93.. Train loss: 1.590.. Test loss: 6.493.. Train L1 norm: 2.483.. Test L1 norm: 2.294.. Train Linf norm: 10.639.. Test Linf norm: 3.947\n",
            "Epoch 79/93.. Train loss: 1.479.. Test loss: 6.438.. Train L1 norm: 3.427.. Test L1 norm: 2.296.. Train Linf norm: 22.080.. Test Linf norm: 3.960\n",
            "Epoch 80/93.. Train loss: 1.156.. Test loss: 6.555.. Train L1 norm: 1.601.. Test L1 norm: 2.122.. Train Linf norm: 7.261.. Test Linf norm: 3.562\n",
            "Epoch 81/93.. Train loss: 1.248.. Test loss: 6.452.. Train L1 norm: 1.334.. Test L1 norm: 2.163.. Train Linf norm: 5.815.. Test Linf norm: 3.668\n",
            "Epoch 82/93.. Train loss: 1.196.. Test loss: 6.442.. Train L1 norm: 1.084.. Test L1 norm: 2.283.. Train Linf norm: 4.108.. Test Linf norm: 3.932\n",
            "Epoch 83/93.. Train loss: 1.436.. Test loss: 6.339.. Train L1 norm: 1.799.. Test L1 norm: 2.379.. Train Linf norm: 6.714.. Test Linf norm: 4.155\n",
            "Epoch 84/93.. Train loss: 1.341.. Test loss: 6.321.. Train L1 norm: 3.024.. Test L1 norm: 2.275.. Train Linf norm: 17.786.. Test Linf norm: 3.932\n",
            "Epoch 85/93.. Train loss: 2.718.. Test loss: 6.384.. Train L1 norm: 3.467.. Test L1 norm: 1.793.. Train Linf norm: 12.389.. Test Linf norm: 2.872\n",
            "Epoch 86/93.. Train loss: 2.202.. Test loss: 6.405.. Train L1 norm: 1.301.. Test L1 norm: 1.635.. Train Linf norm: 2.173.. Test Linf norm: 2.524\n",
            "Epoch 87/93.. Train loss: 2.791.. Test loss: 6.370.. Train L1 norm: 3.408.. Test L1 norm: 1.385.. Train Linf norm: 14.312.. Test Linf norm: 1.984\n",
            "Epoch 88/93.. Train loss: 2.994.. Test loss: 6.340.. Train L1 norm: 4.828.. Test L1 norm: 1.846.. Train Linf norm: 26.305.. Test Linf norm: 2.993\n",
            "Epoch 89/93.. Train loss: 0.993.. Test loss: 6.358.. Train L1 norm: 1.042.. Test L1 norm: 1.927.. Train Linf norm: 5.027.. Test Linf norm: 3.167\n",
            "Epoch 90/93.. Train loss: 3.094.. Test loss: 6.314.. Train L1 norm: 4.642.. Test L1 norm: 1.878.. Train Linf norm: 21.695.. Test Linf norm: 3.066\n",
            "Epoch 91/93.. Train loss: 1.984.. Test loss: 6.319.. Train L1 norm: 4.866.. Test L1 norm: 2.107.. Train Linf norm: 22.626.. Test Linf norm: 3.566\n",
            "Epoch 92/93.. Train loss: 2.977.. Test loss: 6.290.. Train L1 norm: 3.570.. Test L1 norm: 2.415.. Train Linf norm: 14.828.. Test Linf norm: 4.241\n",
            "Epoch 93/93.. Train loss: 0.576.. Test loss: 6.261.. Train L1 norm: 1.471.. Test L1 norm: 2.266.. Train Linf norm: 7.773.. Test Linf norm: 3.922\n"
          ]
        }
      ],
      "source": [
        "x_train_val = torch.cat((x_train, x_val), 0)\n",
        "y_train_val = torch.cat((y_train, y_val), 0)\n",
        "\n",
        "train_val_loader = torch.utils.data.DataLoader(\n",
        "    torch.utils.data.TensorDataset(x_train_val, y_train_val), batch_size=batch_size, shuffle=True\n",
        ")\n",
        "test_loader = torch.utils.data.DataLoader(\n",
        "    torch.utils.data.TensorDataset(x_test, y_test), batch_size=batch_size\n",
        ")\n",
        "\n",
        "train_losses, _, test_losses, train_metrics, _, test_metrics, = train_and_eval(\n",
        "    net, loss_fn, optimizer, batch_size, n_epochs, scheduler, train_val_loader, None, test_loader, None\n",
        ")"
      ]
    },
    {
      "attachments": {},
      "cell_type": "markdown",
      "metadata": {
        "id": "akNucrgMUZiW"
      },
      "source": [
        "## Saving"
      ]
    },
    {
      "cell_type": "code",
      "execution_count": null,
      "metadata": {
        "id": "LHsrs2Y-UZic"
      },
      "outputs": [],
      "source": [
        "import json\n",
        "\n",
        "# save the network to a .pth file\n",
        "torch.save(net.state_dict(), \"net.pth\")\n",
        "save_file(\"net.pth\")\n",
        "\n",
        "# save the optimizer to a .pth file\n",
        "torch.save(optimizer.state_dict(), \"optimizer.pth\")\n",
        "save_file(\"optimizer.pth\")\n",
        "\n",
        "# save the scheduler to a .pth file if it is not None\n",
        "if scheduler is not None:\n",
        "  torch.save(scheduler.state_dict(), \"scheduler.pth\")\n",
        "  save_file(\"scheduler.pth\")\n",
        "\n",
        "# create a dictionary to store the rest of the variables\n",
        "if isinstance(hidden_activation.__class__.__name__, list):\n",
        "    hidden_activation_name = hidden_activation.__class__.__name__[0]\n",
        "else:\n",
        "    hidden_activation_name = hidden_activation.__class__.__name__\n",
        "\n",
        "if isinstance(output_activation.__class__.__name__, list):\n",
        "    output_activation_name = output_activation.__class__.__name__[0]\n",
        "else:\n",
        "    output_activation_name = output_activation.__class__.__name__\n",
        "\n",
        "var_dict = {\n",
        "  \"batch_size\": batch_size,\n",
        "  \"n_epochs\": n_epochs,\n",
        "  \"loss_name\": loss_name,\n",
        "  \"optimizer_name\": optimizer_name,\n",
        "  \"scheduler_name\": scheduler_name,\n",
        "  \"n_units\": n_units,\n",
        "  \"n_layers\": n_layers,\n",
        "  \"hidden_activation_name\": hidden_activation_name,\n",
        "  \"output_activation_name\": output_activation_name,\n",
        "  \"lr\": lr,\n",
        "  \"dropout_rate\": dropout_rate\n",
        "}\n",
        "\n",
        "# Adding the subparameters to the var_dict for saving\n",
        "if hidden_activation_name == \"LeakyReLU\":\n",
        "  var_dict[\"leakyrelu_slope\"] = hidden_activation.negative_slope\n",
        "elif hidden_activation_name == \"PReLU\":\n",
        "  var_dict[\"prelu_init\"] = hidden_activation.weight.item()  # .item() is needed because weight is a tensor\n",
        "elif hidden_activation_name == \"SoftPlus\":\n",
        "  var_dict[\"softplus_beta\"] = hidden_activation.beta\n",
        "\n",
        "# save the dictionary to a .json file\n",
        "with open(\"var_dict.json\", \"w\") as f:\n",
        "  json.dump(var_dict, f)\n",
        "save_file(\"var_dict.json\")\n",
        "\n",
        "# Saving the output of the training using pandas\n",
        "train_df = pd.DataFrame(\n",
        "    {\n",
        "        \"train_loss\": train_losses,\n",
        "        \"test_loss\": test_losses,\n",
        "        \"train_l1_norm\": [m[\"l1_norm\"] for m in train_metrics],\n",
        "        \"test_l1_norm\": [m[\"l1_norm\"] for m in test_metrics],\n",
        "        \"train_linf_norm\": [m[\"linf_norm\"] for m in train_metrics],\n",
        "        \"test_linf_norm\": [m[\"linf_norm\"] for m in test_metrics],\n",
        "    }\n",
        ")\n",
        "train_df.to_csv(\"train_output.csv\", index=False)\n",
        "save_file(\"train_output.csv\")"
      ]
    },
    {
      "cell_type": "code",
      "execution_count": null,
      "metadata": {},
      "outputs": [
        {
          "data": {
            "text/plain": [
              "['batch_size',\n",
              " 'n_epochs',\n",
              " 'loss_name',\n",
              " 'optimizer_name',\n",
              " 'scheduler_name',\n",
              " 'n_units',\n",
              " 'n_layers',\n",
              " 'hidden_activation_name',\n",
              " 'output_activation_name',\n",
              " 'lr',\n",
              " 'dropout_rate']"
            ]
          },
          "execution_count": 90,
          "metadata": {},
          "output_type": "execute_result"
        }
      ],
      "source": [
        "[key for key in var_dict.keys()]"
      ]
    },
    {
      "cell_type": "code",
      "execution_count": null,
      "metadata": {},
      "outputs": [
        {
          "data": {
            "text/plain": [
              "'GELU'"
            ]
          },
          "execution_count": 91,
          "metadata": {},
          "output_type": "execute_result"
        },
        {
          "data": {
            "text/plain": [
              "'Identity'"
            ]
          },
          "execution_count": 91,
          "metadata": {},
          "output_type": "execute_result"
        }
      ],
      "source": [
        "#%%script echo skipping\n",
        "\n",
        "hidden_activation_name\n",
        "output_activation_name"
      ]
    },
    {
      "attachments": {},
      "cell_type": "markdown",
      "metadata": {
        "id": "qU23l7dIUZie"
      },
      "source": [
        "## Visualizing the results"
      ]
    },
    {
      "cell_type": "code",
      "execution_count": null,
      "metadata": {
        "colab": {
          "base_uri": "https://localhost:8080/",
          "height": 1000
        },
        "id": "cippWZS6UZie",
        "outputId": "f0d6e5c3-945f-481b-a153-e54fed7fe9fa"
      },
      "outputs": [
        {
          "data": {
            "text/plain": [
              "<Figure size 600x400 with 0 Axes>"
            ]
          },
          "execution_count": 93,
          "metadata": {},
          "output_type": "execute_result"
        },
        {
          "data": {
            "text/plain": [
              "[<matplotlib.lines.Line2D at 0x7f7987be1110>]"
            ]
          },
          "execution_count": 93,
          "metadata": {},
          "output_type": "execute_result"
        },
        {
          "data": {
            "text/plain": [
              "[<matplotlib.lines.Line2D at 0x7f7987afb850>]"
            ]
          },
          "execution_count": 93,
          "metadata": {},
          "output_type": "execute_result"
        },
        {
          "data": {
            "text/plain": [
              "Text(0.5, 0, 'Epoch')"
            ]
          },
          "execution_count": 93,
          "metadata": {},
          "output_type": "execute_result"
        },
        {
          "data": {
            "text/plain": [
              "Text(0, 0.5, 'L1 Norm')"
            ]
          },
          "execution_count": 93,
          "metadata": {},
          "output_type": "execute_result"
        },
        {
          "data": {
            "text/plain": [
              "Text(0.5, 1.0, 'NNGRX Train and Test L1 Norm per Epoch')"
            ]
          },
          "execution_count": 93,
          "metadata": {},
          "output_type": "execute_result"
        },
        {
          "data": {
            "text/plain": [
              "(-4.6000000000000005, 200.0)"
            ]
          },
          "execution_count": 93,
          "metadata": {},
          "output_type": "execute_result"
        },
        {
          "data": {
            "text/plain": [
              "(0.001, 100.0)"
            ]
          },
          "execution_count": 93,
          "metadata": {},
          "output_type": "execute_result"
        },
        {
          "data": {
            "text/plain": [
              "<matplotlib.legend.Legend at 0x7f798c471b10>"
            ]
          },
          "execution_count": 93,
          "metadata": {},
          "output_type": "execute_result"
        },
        {
          "data": {
            "text/plain": [
              "<Figure size 600x400 with 0 Axes>"
            ]
          },
          "execution_count": 93,
          "metadata": {},
          "output_type": "execute_result"
        },
        {
          "data": {
            "text/plain": [
              "[<matplotlib.lines.Line2D at 0x7f7987716090>]"
            ]
          },
          "execution_count": 93,
          "metadata": {},
          "output_type": "execute_result"
        },
        {
          "data": {
            "text/plain": [
              "[<matplotlib.lines.Line2D at 0x7f79876dbe50>]"
            ]
          },
          "execution_count": 93,
          "metadata": {},
          "output_type": "execute_result"
        },
        {
          "data": {
            "text/plain": [
              "Text(0.5, 0, 'Epoch')"
            ]
          },
          "execution_count": 93,
          "metadata": {},
          "output_type": "execute_result"
        },
        {
          "data": {
            "text/plain": [
              "Text(0, 0.5, 'Linf Norm')"
            ]
          },
          "execution_count": 93,
          "metadata": {},
          "output_type": "execute_result"
        },
        {
          "data": {
            "text/plain": [
              "Text(0.5, 1.0, 'NNGRX Train and Test Linf Norm per Epoch')"
            ]
          },
          "execution_count": 93,
          "metadata": {},
          "output_type": "execute_result"
        },
        {
          "data": {
            "text/plain": [
              "(-4.6000000000000005, 200.0)"
            ]
          },
          "execution_count": 93,
          "metadata": {},
          "output_type": "execute_result"
        },
        {
          "data": {
            "text/plain": [
              "(0.001, 100.0)"
            ]
          },
          "execution_count": 93,
          "metadata": {},
          "output_type": "execute_result"
        },
        {
          "data": {
            "text/plain": [
              "<matplotlib.legend.Legend at 0x7f79876b8550>"
            ]
          },
          "execution_count": 93,
          "metadata": {},
          "output_type": "execute_result"
        },
        {
          "data": {
            "text/plain": [
              "<Figure size 600x400 with 0 Axes>"
            ]
          },
          "execution_count": 93,
          "metadata": {},
          "output_type": "execute_result"
        },
        {
          "data": {
            "text/plain": [
              "[<matplotlib.lines.Line2D at 0x7f798749c910>]"
            ]
          },
          "execution_count": 93,
          "metadata": {},
          "output_type": "execute_result"
        },
        {
          "data": {
            "text/plain": [
              "[<matplotlib.lines.Line2D at 0x7f798749fb10>]"
            ]
          },
          "execution_count": 93,
          "metadata": {},
          "output_type": "execute_result"
        },
        {
          "data": {
            "text/plain": [
              "Text(0.5, 0, 'Epoch')"
            ]
          },
          "execution_count": 93,
          "metadata": {},
          "output_type": "execute_result"
        },
        {
          "data": {
            "text/plain": [
              "Text(0, 0.5, 'MSE')"
            ]
          },
          "execution_count": 93,
          "metadata": {},
          "output_type": "execute_result"
        },
        {
          "data": {
            "text/plain": [
              "Text(0.5, 1.0, 'NNGRX MSE of Training and Test Data per Epoch')"
            ]
          },
          "execution_count": 93,
          "metadata": {},
          "output_type": "execute_result"
        },
        {
          "data": {
            "text/plain": [
              "(-4.6000000000000005, 200.0)"
            ]
          },
          "execution_count": 93,
          "metadata": {},
          "output_type": "execute_result"
        },
        {
          "data": {
            "text/plain": [
              "(1e-07, 1.0)"
            ]
          },
          "execution_count": 93,
          "metadata": {},
          "output_type": "execute_result"
        },
        {
          "data": {
            "text/plain": [
              "<matplotlib.legend.Legend at 0x7f7987506b10>"
            ]
          },
          "execution_count": 93,
          "metadata": {},
          "output_type": "execute_result"
        },
        {
          "data": {
            "image/png": "[encoded data removed]",
            "text/plain": [
              "<Figure size 600x400 with 1 Axes>"
            ]
          },
          "metadata": {},
          "output_type": "display_data"
        },
        {
          "data": {
            "image/png": "[encoded data removed]",
            "text/plain": [
              "<Figure size 600x400 with 1 Axes>"
            ]
          },
          "metadata": {},
          "output_type": "display_data"
        },
        {
          "data": {
            "image/png": "[encoded data removed]",
            "text/plain": [
              "<Figure size 600x400 with 1 Axes>"
            ]
          },
          "metadata": {},
          "output_type": "display_data"
        }
      ],
      "source": [
        "# First figure: Train and Test L1 Norm\n",
        "plt.figure(figsize=(6, 4))\n",
        "plt.plot([m[\"l1_norm\"] for m in train_metrics], label=\"Train L1 Norm\", color='blue')\n",
        "plt.plot([m[\"l1_norm\"] for m in test_metrics], label=\"Test L1 Norm\", color='red')\n",
        "plt.xlabel(\"Epoch\")\n",
        "plt.ylabel(\"L1 Norm\")\n",
        "plt.title(\"NNGRX Train and Test L1 Norm per Epoch\")\n",
        "plt.yscale(\"log\")\n",
        "plt.grid(True)\n",
        "plt.xlim(right=200)\n",
        "plt.ylim(1e-3, 1e2)\n",
        "plt.legend()\n",
        "plt.tight_layout()\n",
        "# plt.savefig(\"NNGRX_L1_norm_plot.png\", dpi=300)\n",
        "plt.savefig(\"NNGRX_L1_norm_plot.png\")\n",
        "\n",
        "# Second figure: Train and Test Linf Norm\n",
        "plt.figure(figsize=(6, 4))\n",
        "plt.plot([m[\"linf_norm\"] for m in train_metrics], label=\"Train Linf Norm\", color='blue')\n",
        "plt.plot([m[\"linf_norm\"] for m in test_metrics], label=\"Test Linf Norm\", color='red')\n",
        "plt.xlabel(\"Epoch\")\n",
        "plt.ylabel(\"Linf Norm\")\n",
        "plt.title(\"NNGRX Train and Test Linf Norm per Epoch\")\n",
        "plt.yscale(\"log\")\n",
        "plt.grid(True)\n",
        "plt.xlim(right=200)\n",
        "plt.ylim(1e-3, 1e2)\n",
        "plt.legend()\n",
        "plt.tight_layout()\n",
        "# plt.savefig(\"NNGRX_Linf_norm_plot.png\", dpi=300)\n",
        "plt.savefig(\"NNGRX_Linf_norm_plot.png\")\n",
        "\n",
        "# Third figure: MSE of training data and test data\n",
        "plt.figure(figsize=(6, 4))\n",
        "plt.plot(train_losses, label=\"Training Data\", color='blue')\n",
        "plt.plot(test_losses, label=\"Test Data\", color='red')\n",
        "plt.xlabel(\"Epoch\")\n",
        "plt.ylabel(\"MSE\")\n",
        "plt.title(\"NNGRX MSE of Training and Test Data per Epoch\")\n",
        "plt.yscale(\"log\")\n",
        "plt.grid(True)\n",
        "plt.xlim(right=200)\n",
        "plt.ylim(1e-7, 1e0)\n",
        "plt.legend()\n",
        "plt.tight_layout()\n",
        "# plt.savefig(\"NNGRX_MSE_plot.png\", dpi=300)\n",
        "plt.savefig(\"NNGRX_MSE_plot.png\")"
      ]
    },
    {
      "attachments": {},
      "cell_type": "markdown",
      "metadata": {
        "id": "tiEDutxIUZig"
      },
      "source": [
        "## Loading"
      ]
    },
    {
      "cell_type": "code",
      "execution_count": null,
      "metadata": {
        "colab": {
          "base_uri": "https://localhost:8080/"
        },
        "id": "p7Mj990wUZih",
        "outputId": "a1132948-c3b1-4d75-becf-4efa93c9a7d0"
      },
      "outputs": [
        {
          "data": {
            "text/plain": [
              "<All keys matched successfully>"
            ]
          },
          "execution_count": 95,
          "metadata": {},
          "output_type": "execute_result"
        }
      ],
      "source": [
        "# load the dictionary from the .json file\n",
        "with open(\"var_dict.json\", \"r\") as f:\n",
        "  var_dict_loaded = json.load(f)\n",
        "\n",
        "# extract the variables from the dictionary\n",
        "batch_size_loaded = var_dict_loaded[\"batch_size\"]\n",
        "n_epochs_loaded = var_dict_loaded[\"n_epochs\"]\n",
        "loss_name_loaded = var_dict_loaded[\"loss_name\"]\n",
        "optimizer_name_loaded = var_dict_loaded[\"optimizer_name\"]\n",
        "scheduler_name_loaded = var_dict_loaded[\"scheduler_name\"]\n",
        "n_units_loaded = var_dict_loaded[\"n_units\"]\n",
        "n_layers_loaded = var_dict_loaded[\"n_layers\"]\n",
        "hidden_activation_name_loaded = var_dict_loaded[\"hidden_activation_name\"]\n",
        "output_activation_name_loaded = var_dict_loaded[\"output_activation_name\"]\n",
        "lr_loaded = var_dict_loaded[\"lr\"]\n",
        "dropout_rate_loaded = var_dict_loaded[\"dropout_rate\"]\n",
        "\n",
        "# Loading the activation functions with subparameters\n",
        "if hidden_activation_name_loaded == \"ReLU\":\n",
        "  hidden_activation_loaded = nn.ReLU()\n",
        "elif hidden_activation_name_loaded == \"LeakyReLU\":\n",
        "  negative_slope_loaded = var_dict_loaded.get(\"leakyrelu_slope\", 0.01)  # For backwards compatibiltiy with earlier models; default to 0.01 if not present\n",
        "  hidden_activation_loaded = nn.LeakyReLU(negative_slope=negative_slope_loaded)\n",
        "elif hidden_activation_name_loaded == \"ELU\":\n",
        "  hidden_activation_loaded = nn.ELU()\n",
        "elif hidden_activation_name_loaded == \"PReLU\":\n",
        "  init_loaded = var_dict_loaded.get(\"prelu_init\", 0.25)  # Default to 0.25 if not present\n",
        "  hidden_activation_loaded = nn.PReLU(init=init_loaded)\n",
        "elif hidden_activation_name_loaded == \"Swish\":\n",
        "    class Swish(nn.Module):\n",
        "        def forward(self, x):\n",
        "            return x * torch.sigmoid(x)\n",
        "    hidden_activation_loaded = Swish()\n",
        "elif hidden_activation_name_loaded == \"GELU\":\n",
        "    hidden_activation_loaded = nn.GELU()\n",
        "elif hidden_activation_name_loaded == \"SoftPlus\":\n",
        "  beta_loaded = var_dict_loaded.get(\"softplus_beta\", 1)  # Default to 1 if not present\n",
        "  hidden_activation_loaded = nn.Softplus(beta=beta_loaded)\n",
        "\n",
        "\n",
        "\n",
        "# We used to have options here, but since we have a regression problem with continuous output, we only use Linear.\n",
        "output_activation_loaded = nn.Identity()\n",
        "\n",
        "# load the network from the .pth file\n",
        "net_loaded = Net(\n",
        "    n_layers_loaded, \n",
        "    n_units_loaded, \n",
        "    hidden_activation_loaded, \n",
        "    output_activation_loaded, \n",
        "    dropout_rate_loaded\n",
        ").to(device)\n",
        "\n",
        "if torch.cuda.is_available():\n",
        " net_loaded.load_state_dict(torch.load(\"net.pth\"))\n",
        "else: \n",
        "  net_loaded.load_state_dict(torch.load(\"net.pth\", map_location=torch.device('cpu')))\n",
        "\n",
        "\n",
        "# Creating the loss function from its name\n",
        "if loss_name_loaded == \"MSE\":\n",
        "    loss_fn_loaded = nn.MSELoss()\n",
        "elif loss_name_loaded == \"MAE\":\n",
        "    loss_fn_loaded = nn.L1Loss()\n",
        "elif loss_name_loaded == \"Huber\":\n",
        "    loss_fn_loaded = nn.SmoothL1Loss() \n",
        "elif loss_name_loaded == \"Quantile\":\n",
        "    def quantile_loss(y_pred, y_true, q=0.5):\n",
        "        e = y_pred - y_true\n",
        "        return torch.mean(torch.max(q*e, (q-1)*e))\n",
        "    loss_fn_loaded = quantile_loss\n",
        "\n",
        "# load the optimizer from the .pth file\n",
        "if torch.cuda.is_available():\n",
        "  optimizer_loaded_state_dict = torch.load(\"optimizer.pth\")\n",
        "else:\n",
        "  optimizer_loaded_state_dict = torch.load(\"optimizer.pth\", map_location=torch.device('cpu'))\n",
        "\n",
        "if optimizer_name_loaded == \"SGD\":\n",
        "  # Added getting the weight decay and momentum parameters from the state dict\n",
        "  weight_decay_loaded = optimizer_loaded_state_dict[\"param_groups\"][0][\"weight_decay\"]\n",
        "  momentum_loaded = optimizer_loaded_state_dict[\"param_groups\"][0][\"momentum\"]\n",
        "  optimizer_loaded = optim.SGD(net_loaded.parameters(), lr=lr_loaded, weight_decay=weight_decay_loaded, momentum=momentum_loaded)\n",
        "elif optimizer_name_loaded == \"Adam\":\n",
        "  # Added getting the weight decay and beta parameters from the state dict\n",
        "  weight_decay_loaded = optimizer_loaded_state_dict[\"param_groups\"][0][\"weight_decay\"]\n",
        "  beta1_loaded = optimizer_loaded_state_dict[\"param_groups\"][0][\"betas\"][0]\n",
        "  beta2_loaded = optimizer_loaded_state_dict[\"param_groups\"][0][\"betas\"][1]\n",
        "  optimizer_loaded = optim.Adam(net_loaded.parameters(), lr=lr_loaded, weight_decay=weight_decay_loaded, betas=(beta1_loaded, beta2_loaded))\n",
        "elif optimizer_name_loaded == \"RMSprop\":\n",
        "  optimizer_loaded = optim.RMSprop(net_loaded.parameters(), lr=lr_loaded)\n",
        "elif optimizer_name_loaded == \"Adagrad\":\n",
        "  # Added loading the Adagrad optimizer\n",
        "  optimizer_loaded = optim.Adagrad(net_loaded.parameters(), lr=lr_loaded)\n",
        "optimizer_loaded.load_state_dict(optimizer_loaded_state_dict)\n",
        "\n",
        "# load the scheduler from the .pth file\n",
        "if torch.cuda.is_available():\n",
        "  scheduler_loaded_state_dict = torch.load(\"scheduler.pth\")\n",
        "else: \n",
        "  scheduler_loaded_state_dict = torch.load(\"scheduler.pth\", map_location=torch.device('cpu'))\n",
        "\n",
        "if scheduler_name_loaded == \"StepLR\":\n",
        "  # Added getting the step_size and gamma parameters from the state dict\n",
        "  step_size_loaded = scheduler_loaded_state_dict[\"step_size\"]\n",
        "  gamma_loaded = scheduler_loaded_state_dict[\"gamma\"]\n",
        "  scheduler_loaded = optim.lr_scheduler.StepLR(optimizer_loaded, step_size=step_size_loaded, gamma=gamma_loaded)\n",
        "elif scheduler_name_loaded == \"ExponentialLR\":\n",
        "  # Added getting the gamma parameter from the state dict\n",
        "  gamma_loaded = scheduler_loaded_state_dict[\"gamma\"]\n",
        "  scheduler_loaded = optim.lr_scheduler.ExponentialLR(optimizer_loaded, gamma=gamma_loaded)\n",
        "elif scheduler_name_loaded == \"CosineAnnealingLR\":\n",
        "  # Added getting the T_max parameter from the state dict\n",
        "  T_max_loaded = scheduler_loaded_state_dict[\"T_max\"]\n",
        "  scheduler_loaded = optim.lr_scheduler.CosineAnnealingLR(optimizer_loaded, T_max=T_max_loaded)\n",
        "elif scheduler_name_loaded == \"ReduceLROnPlateau\":\n",
        "  # Added getting the mode, factor, patience, threshold and min_lr parameters from the state dict\n",
        "  mode_loaded = scheduler_loaded_state_dict[\"mode\"]\n",
        "  factor_loaded = scheduler_loaded_state_dict[\"factor\"]\n",
        "  patience_loaded = scheduler_loaded_state_dict[\"patience\"]\n",
        "  threshold_loaded = scheduler_loaded_state_dict[\"threshold\"]\n",
        "  min_lr_loaded = scheduler_loaded_state_dict[\"min_lrs\"][0]\n",
        "  scheduler_loaded = optim.lr_scheduler.ReduceLROnPlateau(\n",
        "                    optimizer_loaded, mode=mode_loaded, factor=factor_loaded, patience=patience_loaded, threshold=threshold_loaded, min_lr=min_lr_loaded\n",
        "                )\n",
        "elif scheduler_name_loaded == \"CyclicLR\":  # Added CyclicLR\n",
        "    base_lr_loaded = scheduler_loaded_state_dict[\"base_lr\"]\n",
        "    max_lr_loaded = scheduler_loaded_state_dict[\"max_lr\"]\n",
        "    step_size_up_loaded = scheduler_loaded_state_dict[\"step_size_up\"]\n",
        "    scheduler_loaded = optim.lr_scheduler.CyclicLR(\n",
        "                    optimizer, base_lr=base_lr_loaded, max_lr=max_lr_loaded, step_size_up=step_size_up_loaded\n",
        "                )\n",
        "else:\n",
        "  scheduler_loaded = None\n",
        "\n",
        "if scheduler_loaded is not None:\n",
        "  # Added loading the state dict to the scheduler_loaded\n",
        "  scheduler_loaded.load_state_dict(scheduler_loaded_state_dict)\n",
        "\n",
        "# Loading the output of the training using pandas\n",
        "train_df_loaded = pd.read_csv(\"train_output.csv\")\n",
        "train_losses_loaded = train_df_loaded[\"train_loss\"].tolist()\n",
        "test_losses_loaded = train_df_loaded[\"test_loss\"].tolist()\n",
        "train_metrics_loaded = [\n",
        "    {\n",
        "        \"l1_norm\": train_df_loaded[\"train_l1_norm\"][i],\n",
        "        \"linf_norm\": train_df_loaded[\"train_linf_norm\"][i],\n",
        "    }\n",
        "    for i in range(len(train_df_loaded))\n",
        "]\n",
        "test_metrics_loaded = [\n",
        "    {\n",
        "        \"l1_norm\": train_df_loaded[\"test_l1_norm\"][i],\n",
        "        \"linf_norm\": train_df_loaded[\"test_linf_norm\"][i],\n",
        "    }\n",
        "    for i in range(len(train_df_loaded))\n",
        "]\n",
        "\n",
        "if STUDY_NAME is not None:\n",
        "  # Loading the study from the SQLite file\n",
        "  # TODO: Fix this one, or we just use pickle\n",
        "  # study_loaded_db = optuna.load_study(study_name=f'{STUDY_NAME}', \n",
        "  #                           storage=f'sqlite:///{STUDY_NAME}.db')\n",
        "\n",
        "  # Loading the study from the pickle file\n",
        "  with open(f'{STUDY_NAME}.pkl', 'rb') as f:\n",
        "      study_loaded_pkl = pickle.load(f)\n",
        "\n",
        "  # To load the best trial's parameters.\n",
        "  with open('best_trial_params.json', 'r') as f:\n",
        "      best_trial_params_loaded = json.load(f)"
      ]
    },
    {
      "cell_type": "code",
      "execution_count": null,
      "metadata": {},
      "outputs": [
        {
          "data": {
            "text/plain": [
              "49"
            ]
          },
          "execution_count": 130,
          "metadata": {},
          "output_type": "execute_result"
        },
        {
          "data": {
            "text/plain": [
              "5"
            ]
          },
          "execution_count": 130,
          "metadata": {},
          "output_type": "execute_result"
        },
        {
          "data": {
            "text/plain": [
              "'Huber'"
            ]
          },
          "execution_count": 130,
          "metadata": {},
          "output_type": "execute_result"
        },
        {
          "data": {
            "text/plain": [
              "'RMSprop'"
            ]
          },
          "execution_count": 130,
          "metadata": {},
          "output_type": "execute_result"
        },
        {
          "data": {
            "text/plain": [
              "'CycleLR'"
            ]
          },
          "execution_count": 130,
          "metadata": {},
          "output_type": "execute_result"
        },
        {
          "data": {
            "text/plain": [
              "[555, 458, 115]"
            ]
          },
          "execution_count": 130,
          "metadata": {},
          "output_type": "execute_result"
        },
        {
          "data": {
            "text/plain": [
              "3"
            ]
          },
          "execution_count": 130,
          "metadata": {},
          "output_type": "execute_result"
        },
        {
          "data": {
            "text/plain": [
              "'LeakyReLU'"
            ]
          },
          "execution_count": 130,
          "metadata": {},
          "output_type": "execute_result"
        },
        {
          "data": {
            "text/plain": [
              "'Identity'"
            ]
          },
          "execution_count": 130,
          "metadata": {},
          "output_type": "execute_result"
        },
        {
          "data": {
            "text/plain": [
              "0.000122770896701404"
            ]
          },
          "execution_count": 130,
          "metadata": {},
          "output_type": "execute_result"
        },
        {
          "data": {
            "text/plain": [
              "0.2"
            ]
          },
          "execution_count": 130,
          "metadata": {},
          "output_type": "execute_result"
        }
      ],
      "source": [
        "# %%script echo skipping\n",
        "\n",
        "var_dict_loaded[\"batch_size\"]\n",
        "var_dict_loaded[\"n_epochs\"]\n",
        "var_dict_loaded[\"loss_name\"]\n",
        "var_dict_loaded[\"optimizer_name\"]\n",
        "var_dict_loaded[\"scheduler_name\"]\n",
        "var_dict_loaded[\"n_units\"]\n",
        "var_dict_loaded[\"n_layers\"]\n",
        "var_dict_loaded[\"hidden_activation_name\"]\n",
        "var_dict_loaded[\"output_activation_name\"]\n",
        "var_dict_loaded[\"lr\"]\n",
        "var_dict_loaded[\"dropout_rate\"]\n"
      ]
    },
    {
      "cell_type": "code",
      "execution_count": null,
      "metadata": {},
      "outputs": [],
      "source": [
        "if STUDY_NAME is not None:\n",
        "    pass\n",
        "    # study_loaded_db"
      ]
    },
    {
      "cell_type": "code",
      "execution_count": null,
      "metadata": {},
      "outputs": [
        {
          "data": {
            "text/plain": [
              "<optuna.study.study.Study at 0x7f7987375c10>"
            ]
          },
          "execution_count": 99,
          "metadata": {},
          "output_type": "execute_result"
        },
        {
          "data": {
            "text/plain": [
              "{'batch_size': 512,\n",
              " 'dropout_rate': 0.3660754173253749,\n",
              " 'gamma': 0.38983483936388896,\n",
              " 'hidden_activation': 'GELU',\n",
              " 'loss': 'Huber',\n",
              " 'lr': 0.00011250554346747867,\n",
              " 'n_epochs': 93,\n",
              " 'n_layers': 2,\n",
              " 'n_units_0': 2202,\n",
              " 'n_units_1': 1665,\n",
              " 'optimizer': 'Adagrad',\n",
              " 'output_activation': 'Linear',\n",
              " 'scheduler': 'StepLR',\n",
              " 'step_size': 5}"
            ]
          },
          "execution_count": 99,
          "metadata": {},
          "output_type": "execute_result"
        }
      ],
      "source": [
        "if STUDY_NAME is not None:\n",
        "    study_loaded_pkl\n",
        "    study_loaded_pkl.best_params"
      ]
    },
    {
      "cell_type": "code",
      "execution_count": null,
      "metadata": {},
      "outputs": [
        {
          "data": {
            "text/plain": [
              "{'batch_size': 512,\n",
              " 'dropout_rate': 0.3660754173253749,\n",
              " 'gamma': 0.38983483936388896,\n",
              " 'hidden_activation': 'GELU',\n",
              " 'loss': 'Huber',\n",
              " 'lr': 0.00011250554346747867,\n",
              " 'n_epochs': 93,\n",
              " 'n_layers': 2,\n",
              " 'n_units_0': 2202,\n",
              " 'n_units_1': 1665,\n",
              " 'optimizer': 'Adagrad',\n",
              " 'output_activation': 'Linear',\n",
              " 'scheduler': 'StepLR',\n",
              " 'step_size': 5}"
            ]
          },
          "execution_count": 100,
          "metadata": {},
          "output_type": "execute_result"
        }
      ],
      "source": [
        "if STUDY_NAME is not None:\n",
        "    best_trial_params_loaded"
      ]
    },
    {
      "cell_type": "code",
      "execution_count": null,
      "metadata": {},
      "outputs": [
        {
          "name": "stdout",
          "output_type": "stream",
          "text": [
            "skipping\n"
          ]
        }
      ],
      "source": [
        "%%script echo skipping\n",
        "\n",
        "scheduler_loaded_state_dict[\"mode\"]\n",
        "scheduler_loaded_state_dict[\"factor\"]\n",
        "scheduler_loaded_state_dict[\"patience\"]\n",
        "scheduler_loaded_state_dict[\"threshold\"]\n",
        "scheduler_loaded_state_dict[\"min_lrs\"]\n",
        "\n",
        "\n",
        "scheduler_loaded_state_dict[\"base_lr\"]\n",
        "scheduler_loaded_state_dict[\"max_lr\"]\n",
        "scheduler_loaded_state_dict[\"step_size_up\"]"
      ]
    },
    {
      "cell_type": "code",
      "execution_count": null,
      "metadata": {},
      "outputs": [
        {
          "data": {
            "text/plain": [
              "{'batch_size': 512,\n",
              " 'n_epochs': 93,\n",
              " 'loss_name': 'Huber',\n",
              " 'optimizer_name': 'Adagrad',\n",
              " 'scheduler_name': 'StepLR',\n",
              " 'n_units': [2202, 1665],\n",
              " 'n_layers': 2,\n",
              " 'hidden_activation_name': 'GELU',\n",
              " 'output_activation_name': 'Identity',\n",
              " 'lr': 0.00011250554346747867,\n",
              " 'dropout_rate': 0.3660754173253749}"
            ]
          },
          "execution_count": 102,
          "metadata": {},
          "output_type": "execute_result"
        },
        {
          "data": {
            "text/plain": [
              "'GELU'"
            ]
          },
          "execution_count": 102,
          "metadata": {},
          "output_type": "execute_result"
        }
      ],
      "source": [
        "# %%script echo skipping\n",
        "\n",
        "var_dict\n",
        "hidden_activation_name_loaded"
      ]
    },
    {
      "cell_type": "code",
      "execution_count": null,
      "metadata": {
        "colab": {
          "base_uri": "https://localhost:8080/",
          "height": 1000
        },
        "id": "GQ_fcj7zUZii",
        "outputId": "c4979ef0-a99c-4754-e222-3af23a83c1cb"
      },
      "outputs": [
        {
          "data": {
            "text/plain": [
              "512"
            ]
          },
          "execution_count": 103,
          "metadata": {},
          "output_type": "execute_result"
        },
        {
          "data": {
            "text/plain": [
              "93"
            ]
          },
          "execution_count": 103,
          "metadata": {},
          "output_type": "execute_result"
        },
        {
          "data": {
            "text/plain": [
              "'Huber'"
            ]
          },
          "execution_count": 103,
          "metadata": {},
          "output_type": "execute_result"
        },
        {
          "data": {
            "text/plain": [
              "'Adagrad'"
            ]
          },
          "execution_count": 103,
          "metadata": {},
          "output_type": "execute_result"
        },
        {
          "data": {
            "text/plain": [
              "'StepLR'"
            ]
          },
          "execution_count": 103,
          "metadata": {},
          "output_type": "execute_result"
        },
        {
          "data": {
            "text/plain": [
              "[2202, 1665]"
            ]
          },
          "execution_count": 103,
          "metadata": {},
          "output_type": "execute_result"
        },
        {
          "data": {
            "text/plain": [
              "2"
            ]
          },
          "execution_count": 103,
          "metadata": {},
          "output_type": "execute_result"
        },
        {
          "data": {
            "text/plain": [
              "'GELU'"
            ]
          },
          "execution_count": 103,
          "metadata": {},
          "output_type": "execute_result"
        },
        {
          "data": {
            "text/plain": [
              "'Identity'"
            ]
          },
          "execution_count": 103,
          "metadata": {},
          "output_type": "execute_result"
        },
        {
          "data": {
            "text/plain": [
              "0.00011250554346747867"
            ]
          },
          "execution_count": 103,
          "metadata": {},
          "output_type": "execute_result"
        },
        {
          "data": {
            "text/plain": [
              "0.3660754173253749"
            ]
          },
          "execution_count": 103,
          "metadata": {},
          "output_type": "execute_result"
        },
        {
          "data": {
            "text/plain": [
              "GELU(approximate='none')"
            ]
          },
          "execution_count": 103,
          "metadata": {},
          "output_type": "execute_result"
        },
        {
          "data": {
            "text/plain": [
              "Identity()"
            ]
          },
          "execution_count": 103,
          "metadata": {},
          "output_type": "execute_result"
        },
        {
          "data": {
            "text/plain": [
              "Net(\n",
              "  (hidden_activation): GELU(approximate='none')\n",
              "  (output_activation): Identity()\n",
              "  (layers): ModuleList(\n",
              "    (0): Linear(in_features=14, out_features=2202, bias=True)\n",
              "    (1): Linear(in_features=2202, out_features=1665, bias=True)\n",
              "    (2): Linear(in_features=1665, out_features=1, bias=True)\n",
              "  )\n",
              "  (dropouts): ModuleList(\n",
              "    (0-1): 2 x Dropout(p=0.3660754173253749, inplace=False)\n",
              "  )\n",
              ")"
            ]
          },
          "execution_count": 103,
          "metadata": {},
          "output_type": "execute_result"
        },
        {
          "data": {
            "text/plain": [
              "{'training': True,\n",
              " '_parameters': OrderedDict(),\n",
              " '_buffers': OrderedDict(),\n",
              " '_non_persistent_buffers_set': set(),\n",
              " '_backward_pre_hooks': OrderedDict(),\n",
              " '_backward_hooks': OrderedDict(),\n",
              " '_is_full_backward_hook': None,\n",
              " '_forward_hooks': OrderedDict(),\n",
              " '_forward_hooks_with_kwargs': OrderedDict(),\n",
              " '_forward_pre_hooks': OrderedDict(),\n",
              " '_forward_pre_hooks_with_kwargs': OrderedDict(),\n",
              " '_state_dict_hooks': OrderedDict(),\n",
              " '_state_dict_pre_hooks': OrderedDict(),\n",
              " '_load_state_dict_pre_hooks': OrderedDict(),\n",
              " '_load_state_dict_post_hooks': OrderedDict(),\n",
              " '_modules': OrderedDict([('hidden_activation', GELU(approximate='none')),\n",
              "              ('output_activation', Identity()),\n",
              "              ('layers',\n",
              "               ModuleList(\n",
              "                 (0): Linear(in_features=14, out_features=2202, bias=True)\n",
              "                 (1): Linear(in_features=2202, out_features=1665, bias=True)\n",
              "                 (2): Linear(in_features=1665, out_features=1, bias=True)\n",
              "               )),\n",
              "              ('dropouts',\n",
              "               ModuleList(\n",
              "                 (0-1): 2 x Dropout(p=0.3660754173253749, inplace=False)\n",
              "               ))]),\n",
              " 'n_layers': 2,\n",
              " 'n_units': [2202, 1665],\n",
              " 'dropout_rate': 0.3660754173253749}"
            ]
          },
          "execution_count": 103,
          "metadata": {},
          "output_type": "execute_result"
        },
        {
          "data": {
            "text/plain": [
              "SmoothL1Loss()"
            ]
          },
          "execution_count": 103,
          "metadata": {},
          "output_type": "execute_result"
        },
        {
          "data": {
            "text/plain": [
              "Adagrad (\n",
              "Parameter Group 0\n",
              "    differentiable: False\n",
              "    eps: 1e-10\n",
              "    foreach: None\n",
              "    initial_accumulator_value: 0\n",
              "    initial_lr: 0.00011250554346747867\n",
              "    lr: 0.00011250554346747867\n",
              "    lr_decay: 0\n",
              "    maximize: False\n",
              "    weight_decay: 0\n",
              ")"
            ]
          },
          "execution_count": 103,
          "metadata": {},
          "output_type": "execute_result"
        },
        {
          "data": {
            "text/plain": [
              "{'defaults': {'lr': 0.00011250554346747867,\n",
              "  'lr_decay': 0,\n",
              "  'eps': 1e-10,\n",
              "  'weight_decay': 0,\n",
              "  'initial_accumulator_value': 0,\n",
              "  'foreach': None,\n",
              "  'maximize': False,\n",
              "  'differentiable': False},\n",
              " '_optimizer_step_pre_hooks': OrderedDict(),\n",
              " '_optimizer_step_post_hooks': OrderedDict(),\n",
              " '_zero_grad_profile_name': 'Optimizer.zero_grad#Adagrad.zero_grad',\n",
              " 'state': defaultdict(dict,\n",
              "             {Parameter containing:\n",
              "              tensor([[-0.0391, -0.2100,  0.0291,  ..., -0.0096, -0.2305,  0.0791],\n",
              "                      [-0.1470, -0.2359,  0.0312,  ..., -0.0123,  0.2358,  0.1013],\n",
              "                      [-0.1162, -0.1552, -0.0883,  ...,  0.1754,  0.1405, -0.1764],\n",
              "                      ...,\n",
              "                      [-0.1326, -0.1298,  0.0081,  ..., -0.0963,  0.2489,  0.1060],\n",
              "                      [ 0.1571, -0.1694, -0.1797,  ...,  0.2382,  0.0201, -0.1888],\n",
              "                      [-0.0426, -0.1809, -0.0901,  ...,  0.1599,  0.2275,  0.2579]],\n",
              "                     requires_grad=True): {'step': tensor(93.),\n",
              "               'sum': tensor([[5.8052e-04, 7.4450e-02, 9.0165e-02,  ..., 3.3952e-04, 1.2049e-06,\n",
              "                        2.7179e-04],\n",
              "                       [6.5592e-09, 9.2224e-06, 1.1666e-07,  ..., 1.2931e-07, 5.3457e-10,\n",
              "                        1.3897e-07],\n",
              "                       [7.6805e-04, 9.5659e-01, 7.3438e-01,  ..., 4.6174e-04, 1.4949e-06,\n",
              "                        4.5402e-04],\n",
              "                       ...,\n",
              "                       [9.9543e-16, 1.7405e-14, 1.6469e-13,  ..., 6.3575e-15, 1.3072e-17,\n",
              "                        6.0861e-15],\n",
              "                       [3.0417e-10, 4.2820e-07, 5.4087e-09,  ..., 6.0026e-09, 2.4814e-11,\n",
              "                        6.4513e-09],\n",
              "                       [1.6204e-12, 2.2811e-09, 2.8813e-11,  ..., 3.1977e-11, 1.3219e-13,\n",
              "                        3.4367e-11]])},\n",
              "              Parameter containing:\n",
              "              tensor([ 0.0575,  0.0732, -0.1938,  ...,  0.0515, -0.0172,  0.2615],\n",
              "                     requires_grad=True): {'step': tensor(93.),\n",
              "               'sum': tensor([3.0652e-04, 1.5847e-07, 4.4619e-04,  ..., 5.6086e-15, 7.3565e-09,\n",
              "                       3.9190e-11])},\n",
              "              Parameter containing:\n",
              "              tensor([[ 0.0187, -0.0209,  0.0015,  ...,  0.0209,  0.0174,  0.0143],\n",
              "                      [-0.0084,  0.0109, -0.0069,  ..., -0.0012, -0.0168, -0.0165],\n",
              "                      [-0.0106, -0.0090, -0.0091,  ...,  0.0095, -0.0055, -0.0038],\n",
              "                      ...,\n",
              "                      [ 0.0125,  0.0088,  0.0025,  ..., -0.0073,  0.0029,  0.0063],\n",
              "                      [ 0.0013, -0.0191,  0.0197,  ...,  0.0213,  0.0062,  0.0075],\n",
              "                      [-0.0136,  0.0129, -0.0120,  ..., -0.0076, -0.0169,  0.0041]],\n",
              "                     requires_grad=True): {'step': tensor(93.),\n",
              "               'sum': tensor([[4.0844e-05, 5.5943e-10, 7.7587e-03,  ..., 4.2690e-18, 5.4979e-11,\n",
              "                        1.8396e-13],\n",
              "                       [3.6206e-03, 1.0564e-07, 2.0290e+00,  ..., 4.1810e-16, 6.7295e-09,\n",
              "                        2.3666e-11],\n",
              "                       [5.3516e-03, 4.3194e-08, 3.4621e-01,  ..., 2.4473e-16, 2.4270e-09,\n",
              "                        9.1291e-12],\n",
              "                       ...,\n",
              "                       [6.9922e-04, 9.2022e-09, 1.4805e-01,  ..., 1.7534e-16, 8.2532e-10,\n",
              "                        3.1113e-12],\n",
              "                       [1.5136e-03, 7.9365e-09, 4.5671e-01,  ..., 3.8469e-16, 7.0998e-10,\n",
              "                        3.9685e-12],\n",
              "                       [7.8825e-05, 1.2711e-09, 2.4886e-02,  ..., 1.2356e-17, 1.0360e-10,\n",
              "                        4.2429e-13]])},\n",
              "              Parameter containing:\n",
              "              tensor([ 0.0011, -0.0072, -0.0169,  ..., -0.0171,  0.0167, -0.0057],\n",
              "                     requires_grad=True): {'step': tensor(93.),\n",
              "               'sum': tensor([1.3996e-05, 3.0191e-03, 1.4388e-03,  ..., 3.1161e-04, 5.8573e-04,\n",
              "                       3.7720e-05])},\n",
              "              Parameter containing:\n",
              "              tensor([[-0.0012, -0.0193, -0.0225,  ..., -0.0042, -0.0163, -0.0016]],\n",
              "                     requires_grad=True): {'step': tensor(93.),\n",
              "               'sum': tensor([[ 229.1474,  454.1692,   37.2572,  ..., 2049.4485,  114.4507,\n",
              "                        1443.6260]])},\n",
              "              Parameter containing:\n",
              "              tensor([-0.0025], requires_grad=True): {'step': tensor(93.),\n",
              "               'sum': tensor([12.6466])}}),\n",
              " 'param_groups': [{'lr': 0.00011250554346747867,\n",
              "   'lr_decay': 0,\n",
              "   'eps': 1e-10,\n",
              "   'weight_decay': 0,\n",
              "   'initial_accumulator_value': 0,\n",
              "   'foreach': None,\n",
              "   'maximize': False,\n",
              "   'differentiable': False,\n",
              "   'initial_lr': 0.00011250554346747867,\n",
              "   'params': [Parameter containing:\n",
              "    tensor([[-0.0391, -0.2100,  0.0291,  ..., -0.0096, -0.2305,  0.0791],\n",
              "            [-0.1470, -0.2359,  0.0312,  ..., -0.0123,  0.2358,  0.1013],\n",
              "            [-0.1162, -0.1552, -0.0883,  ...,  0.1754,  0.1405, -0.1764],\n",
              "            ...,\n",
              "            [-0.1326, -0.1298,  0.0081,  ..., -0.0963,  0.2489,  0.1060],\n",
              "            [ 0.1571, -0.1694, -0.1797,  ...,  0.2382,  0.0201, -0.1888],\n",
              "            [-0.0426, -0.1809, -0.0901,  ...,  0.1599,  0.2275,  0.2579]],\n",
              "           requires_grad=True),\n",
              "    Parameter containing:\n",
              "    tensor([ 0.0575,  0.0732, -0.1938,  ...,  0.0515, -0.0172,  0.2615],\n",
              "           requires_grad=True),\n",
              "    Parameter containing:\n",
              "    tensor([[ 0.0187, -0.0209,  0.0015,  ...,  0.0209,  0.0174,  0.0143],\n",
              "            [-0.0084,  0.0109, -0.0069,  ..., -0.0012, -0.0168, -0.0165],\n",
              "            [-0.0106, -0.0090, -0.0091,  ...,  0.0095, -0.0055, -0.0038],\n",
              "            ...,\n",
              "            [ 0.0125,  0.0088,  0.0025,  ..., -0.0073,  0.0029,  0.0063],\n",
              "            [ 0.0013, -0.0191,  0.0197,  ...,  0.0213,  0.0062,  0.0075],\n",
              "            [-0.0136,  0.0129, -0.0120,  ..., -0.0076, -0.0169,  0.0041]],\n",
              "           requires_grad=True),\n",
              "    Parameter containing:\n",
              "    tensor([ 0.0011, -0.0072, -0.0169,  ..., -0.0171,  0.0167, -0.0057],\n",
              "           requires_grad=True),\n",
              "    Parameter containing:\n",
              "    tensor([[-0.0012, -0.0193, -0.0225,  ..., -0.0042, -0.0163, -0.0016]],\n",
              "           requires_grad=True),\n",
              "    Parameter containing:\n",
              "    tensor([-0.0025], requires_grad=True)]}],\n",
              " '_warned_capturable_if_run_uncaptured': True,\n",
              " 'step': <function torch.optim.optimizer._use_grad_for_differentiable.<locals>._use_grad(self, *args, **kwargs)>,\n",
              " '_step_count': 0}"
            ]
          },
          "execution_count": 103,
          "metadata": {},
          "output_type": "execute_result"
        },
        {
          "data": {
            "text/plain": [
              "<torch.optim.lr_scheduler.StepLR at 0x7f7987462650>"
            ]
          },
          "execution_count": 103,
          "metadata": {},
          "output_type": "execute_result"
        },
        {
          "data": {
            "text/plain": [
              "{'step_size': 5,\n",
              " 'gamma': 0.38983483936388896,\n",
              " 'optimizer': Adagrad (\n",
              " Parameter Group 0\n",
              "     differentiable: False\n",
              "     eps: 1e-10\n",
              "     foreach: None\n",
              "     initial_accumulator_value: 0\n",
              "     initial_lr: 0.00011250554346747867\n",
              "     lr: 0.00011250554346747867\n",
              "     lr_decay: 0\n",
              "     maximize: False\n",
              "     weight_decay: 0\n",
              " ),\n",
              " 'base_lrs': [0.00011250554346747867],\n",
              " 'last_epoch': 0,\n",
              " 'verbose': False,\n",
              " '_step_count': 1,\n",
              " '_get_lr_called_within_step': False,\n",
              " '_last_lr': [0.00011250554346747867]}"
            ]
          },
          "execution_count": 103,
          "metadata": {},
          "output_type": "execute_result"
        },
        {
          "data": {
            "text/plain": [
              "[3.424466133117676,\n",
              " 5.407819271087647,\n",
              " 2.465982437133789,\n",
              " 6.466439247131348,\n",
              " 2.8838911056518555,\n",
              " 3.267297506332397,\n",
              " 4.19905424118042,\n",
              " 2.764692068099976,\n",
              " 1.410723090171814,\n",
              " 1.1843702793121338,\n",
              " 3.4088830947875977,\n",
              " 1.2693110704421997,\n",
              " 1.761754035949707,\n",
              " 2.205990791320801,\n",
              " 3.0432138442993164,\n",
              " 1.5491118431091309,\n",
              " 2.832325935363769,\n",
              " 1.4712823629379272,\n",
              " 2.409425735473633,\n",
              " 1.6003258228302002,\n",
              " 2.131633996963501,\n",
              " 2.807870864868164,\n",
              " 2.123748540878296,\n",
              " 1.5979512929916382,\n",
              " 1.3125876188278198,\n",
              " 2.060319185256958,\n",
              " 3.314241647720337,\n",
              " 1.0634456872940063,\n",
              " 2.679231882095337,\n",
              " 0.9347570538520812,\n",
              " 2.4305567741394043,\n",
              " 1.7466964721679688,\n",
              " 4.694526195526123,\n",
              " 1.41567063331604,\n",
              " 3.0501251220703125,\n",
              " 1.1671342849731443,\n",
              " 2.427476406097412,\n",
              " 1.4567711353302002,\n",
              " 1.274378538131714,\n",
              " 0.867524266242981,\n",
              " 1.843037724494934,\n",
              " 2.280481576919556,\n",
              " 2.361374855041504,\n",
              " 2.1371283531188965,\n",
              " 2.425726413726806,\n",
              " 1.893127918243408,\n",
              " 1.3199013471603394,\n",
              " 4.258327484130859,\n",
              " 2.087747812271118,\n",
              " 0.8414793014526367,\n",
              " 2.290008068084717,\n",
              " 1.9742510318756104,\n",
              " 1.8663699626922607,\n",
              " 2.906233549118042,\n",
              " 0.9610320329666138,\n",
              " 1.8016605377197263,\n",
              " 2.4822239875793457,\n",
              " 1.6757911443710327,\n",
              " 2.9046502113342285,\n",
              " 1.7887734174728394,\n",
              " 1.0422067642211914,\n",
              " 2.394098281860352,\n",
              " 1.831942796707153,\n",
              " 1.229299545288086,\n",
              " 1.3843413591384888,\n",
              " 1.2479106187820437,\n",
              " 3.0970351696014404,\n",
              " 1.670436978340149,\n",
              " 0.9472111463546752,\n",
              " 1.9505339860916135,\n",
              " 2.062202215194702,\n",
              " 1.120350360870361,\n",
              " 1.778599977493286,\n",
              " 2.9552197456359863,\n",
              " 1.971959352493286,\n",
              " 2.36911678314209,\n",
              " 1.5914931297302246,\n",
              " 1.5897682905197144,\n",
              " 1.478863000869751,\n",
              " 1.1559343338012695,\n",
              " 1.2476166486740112,\n",
              " 1.196470022201538,\n",
              " 1.4361072778701782,\n",
              " 1.340964674949646,\n",
              " 2.7181122303009038,\n",
              " 2.202345848083496,\n",
              " 2.7907967567443848,\n",
              " 2.993710517883301,\n",
              " 0.9926525354385376,\n",
              " 3.09376072883606,\n",
              " 1.984321117401123,\n",
              " 2.9771831035614014,\n",
              " 0.5764967799186707]"
            ]
          },
          "execution_count": 103,
          "metadata": {},
          "output_type": "execute_result"
        },
        {
          "data": {
            "text/plain": [
              "[6.799266815185547,\n",
              " 6.901547431945801,\n",
              " 6.458339691162109,\n",
              " 6.651815414428711,\n",
              " 6.442264556884766,\n",
              " 6.479059219360352,\n",
              " 6.08805513381958,\n",
              " 6.208443641662598,\n",
              " 6.191131591796875,\n",
              " 6.238640785217285,\n",
              " 6.2107439041137695,\n",
              " 6.388566017150879,\n",
              " 6.141143798828125,\n",
              " 6.391316890716553,\n",
              " 6.273284912109375,\n",
              " 6.228094100952148,\n",
              " 6.3145623207092285,\n",
              " 6.3046064376831055,\n",
              " 6.125420570373535,\n",
              " 6.258757591247559,\n",
              " 6.141471862792969,\n",
              " 6.127192497253418,\n",
              " 6.142586708068848,\n",
              " 6.219877243041992,\n",
              " 6.322113513946533,\n",
              " 6.49095344543457,\n",
              " 6.550958633422852,\n",
              " 6.334527492523193,\n",
              " 6.399761199951172,\n",
              " 6.306365013122559,\n",
              " 6.394437789916992,\n",
              " 6.498600959777832,\n",
              " 6.398507118225098,\n",
              " 6.446280002593994,\n",
              " 6.506387710571289,\n",
              " 6.475827217102051,\n",
              " 6.445788383483887,\n",
              " 6.56285285949707,\n",
              " 6.606917381286621,\n",
              " 6.632148265838623,\n",
              " 6.535614013671875,\n",
              " 6.542444705963135,\n",
              " 6.5621538162231445,\n",
              " 6.550074577331543,\n",
              " 6.547264099121094,\n",
              " 6.452531814575195,\n",
              " 6.397326469421387,\n",
              " 6.404624938964844,\n",
              " 6.264707565307617,\n",
              " 6.252870559692383,\n",
              " 6.331982612609863,\n",
              " 6.195233345031738,\n",
              " 6.068236351013184,\n",
              " 6.171141147613525,\n",
              " 6.259892463684082,\n",
              " 6.148362159729004,\n",
              " 6.212158679962158,\n",
              " 6.237336158752441,\n",
              " 6.18248987197876,\n",
              " 6.186943531036377,\n",
              " 6.205558776855469,\n",
              " 6.210222244262695,\n",
              " 6.145144462585449,\n",
              " 6.057653427124023,\n",
              " 6.088803768157959,\n",
              " 6.214297294616699,\n",
              " 6.122627258300781,\n",
              " 6.153715133666992,\n",
              " 6.310413360595703,\n",
              " 6.349431991577148,\n",
              " 6.351480960845947,\n",
              " 6.438189506530762,\n",
              " 6.331533432006836,\n",
              " 6.348302841186523,\n",
              " 6.341822624206543,\n",
              " 6.476221084594727,\n",
              " 6.564300537109375,\n",
              " 6.493254661560059,\n",
              " 6.437922477722168,\n",
              " 6.555170059204102,\n",
              " 6.451615333557129,\n",
              " 6.442152500152588,\n",
              " 6.338728427886963,\n",
              " 6.320919036865234,\n",
              " 6.383800506591797,\n",
              " 6.405177116394043,\n",
              " 6.369817733764648,\n",
              " 6.340247631072998,\n",
              " 6.3580827713012695,\n",
              " 6.314058303833008,\n",
              " 6.318546772003174,\n",
              " 6.289602279663086,\n",
              " 6.261254787445068]"
            ]
          },
          "execution_count": 103,
          "metadata": {},
          "output_type": "execute_result"
        },
        {
          "data": {
            "text/plain": [
              "[{'l1_norm': 3.2557153701782227, 'linf_norm': 18.008676528930664},\n",
              " {'l1_norm': 6.3984198570251465, 'linf_norm': 34.0482063293457},\n",
              " {'l1_norm': 5.080427169799805, 'linf_norm': 33.79503631591797},\n",
              " {'l1_norm': 7.758418083190918, 'linf_norm': 26.388845443725582},\n",
              " {'l1_norm': 1.2577420473098757, 'linf_norm': 1.9129477739334104},\n",
              " {'l1_norm': 4.542031288146973, 'linf_norm': 19.352954864501957},\n",
              " {'l1_norm': 1.8589859008789065, 'linf_norm': 5.330782413482666},\n",
              " {'l1_norm': 2.473356246948242, 'linf_norm': 12.264695167541504},\n",
              " {'l1_norm': 2.8703207969665527, 'linf_norm': 16.833951950073242},\n",
              " {'l1_norm': 4.306657791137695, 'linf_norm': 27.79598426818848},\n",
              " {'l1_norm': 2.846158266067505, 'linf_norm': 8.4075345993042},\n",
              " {'l1_norm': 2.3736066818237305, 'linf_norm': 11.327506065368652},\n",
              " {'l1_norm': 2.078386783599853, 'linf_norm': 10.827469825744627},\n",
              " {'l1_norm': 1.8809641599655151, 'linf_norm': 6.573753356933594},\n",
              " {'l1_norm': 3.331217765808105, 'linf_norm': 12.364916801452637},\n",
              " {'l1_norm': 2.798153877258301, 'linf_norm': 9.418055534362791},\n",
              " {'l1_norm': 6.454243183135986, 'linf_norm': 38.29557800292969},\n",
              " {'l1_norm': 1.637466311454773, 'linf_norm': 4.625823497772217},\n",
              " {'l1_norm': 2.874765634536743, 'linf_norm': 12.343254089355469},\n",
              " {'l1_norm': 1.2541708946228027, 'linf_norm': 2.8641066551208496},\n",
              " {'l1_norm': 2.075061559677124, 'linf_norm': 7.33776044845581},\n",
              " {'l1_norm': 2.292264938354492, 'linf_norm': 7.063059329986572},\n",
              " {'l1_norm': 3.1307334899902344, 'linf_norm': 16.637123107910156},\n",
              " {'l1_norm': 3.771430492401123, 'linf_norm': 19.77144241333008},\n",
              " {'l1_norm': 1.098724126815796, 'linf_norm': 3.3797433376312256},\n",
              " {'l1_norm': 3.5490715503692627, 'linf_norm': 20.253320693969727},\n",
              " {'l1_norm': 3.5122244358062744, 'linf_norm': 14.378183364868164},\n",
              " {'l1_norm': 2.570686817169189, 'linf_norm': 15.585103034973145},\n",
              " {'l1_norm': 2.6319451332092285, 'linf_norm': 9.033503532409668},\n",
              " {'l1_norm': 1.796211004257202, 'linf_norm': 7.530205249786377},\n",
              " {'l1_norm': 3.858628749847412, 'linf_norm': 14.468318939208984},\n",
              " {'l1_norm': 1.6820433139801023, 'linf_norm': 5.824093818664551},\n",
              " {'l1_norm': 4.518087387084961, 'linf_norm': 18.5933780670166},\n",
              " {'l1_norm': 5.236159801483154, 'linf_norm': 32.3644905090332},\n",
              " {'l1_norm': 4.441342830657959, 'linf_norm': 19.061777114868164},\n",
              " {'l1_norm': 2.676499843597412, 'linf_norm': 17.24256706237793},\n",
              " {'l1_norm': 1.8649158477783203, 'linf_norm': 5.652068614959717},\n",
              " {'l1_norm': 2.8100521564483643, 'linf_norm': 12.237201690673828},\n",
              " {'l1_norm': 1.5777466297149658, 'linf_norm': 9.16501808166504},\n",
              " {'l1_norm': 1.9858683347702024, 'linf_norm': 12.839533805847168},\n",
              " {'l1_norm': 2.1184017658233643, 'linf_norm': 9.379512786865234},\n",
              " {'l1_norm': 3.9434814453125, 'linf_norm': 25.34017562866211},\n",
              " {'l1_norm': 4.256828308105469, 'linf_norm': 23.072620391845703},\n",
              " {'l1_norm': 4.117189884185791, 'linf_norm': 24.94621086120605},\n",
              " {'l1_norm': 3.535807609558105, 'linf_norm': 13.034623146057127},\n",
              " {'l1_norm': 3.1652936935424805, 'linf_norm': 13.0360107421875},\n",
              " {'l1_norm': 1.2136409282684326, 'linf_norm': 5.518466472625732},\n",
              " {'l1_norm': 5.335771560668945, 'linf_norm': 21.151182174682617},\n",
              " {'l1_norm': 3.826258659362793, 'linf_norm': 19.14923095703125},\n",
              " {'l1_norm': 1.7004024982452393, 'linf_norm': 9.81513786315918},\n",
              " {'l1_norm': 2.0081567764282227, 'linf_norm': 7.419560432434082},\n",
              " {'l1_norm': 1.4899852275848389, 'linf_norm': 3.8122425079345694},\n",
              " {'l1_norm': 4.969675540924072, 'linf_norm': 31.22665405273437},\n",
              " {'l1_norm': 3.322751522064209, 'linf_norm': 11.883825302124023},\n",
              " {'l1_norm': 2.7755913734436035, 'linf_norm': 14.073551177978516},\n",
              " {'l1_norm': 1.6385829448699951, 'linf_norm': 5.784666538238525},\n",
              " {'l1_norm': 3.642364978790283, 'linf_norm': 12.796502113342283},\n",
              " {'l1_norm': 0.8756859302520752, 'linf_norm': 2.6229965686798096},\n",
              " {'l1_norm': 4.002839088439941, 'linf_norm': 15.122889518737791},\n",
              " {'l1_norm': 3.0368688106536865, 'linf_norm': 13.220053672790527},\n",
              " {'l1_norm': 1.7851566076278689, 'linf_norm': 9.140965461730955},\n",
              " {'l1_norm': 2.0657098293304443, 'linf_norm': 9.558066368103027},\n",
              " {'l1_norm': 1.6004828214645386, 'linf_norm': 6.993926525115967},\n",
              " {'l1_norm': 2.003628253936768, 'linf_norm': 6.213554859161377},\n",
              " {'l1_norm': 2.9303793907165527, 'linf_norm': 16.13138198852539},\n",
              " {'l1_norm': 1.4704890251159668, 'linf_norm': 5.553523540496826},\n",
              " {'l1_norm': 2.3061070442199707, 'linf_norm': 11.115416526794434},\n",
              " {'l1_norm': 3.323496103286743, 'linf_norm': 21.405521392822266},\n",
              " {'l1_norm': 1.7493339776992798, 'linf_norm': 9.34399700164795},\n",
              " {'l1_norm': 3.356001615524292, 'linf_norm': 13.122928619384766},\n",
              " {'l1_norm': 2.6705992221832275, 'linf_norm': 8.94010066986084},\n",
              " {'l1_norm': 2.1145682334899902, 'linf_norm': 9.087501525878906},\n",
              " {'l1_norm': 3.092714309692383, 'linf_norm': 14.803333282470703},\n",
              " {'l1_norm': 2.588464736938477, 'linf_norm': 11.929121971130373},\n",
              " {'l1_norm': 3.727309465408325, 'linf_norm': 15.12032413482666},\n",
              " {'l1_norm': 1.8911938667297363, 'linf_norm': 6.714391708374023},\n",
              " {'l1_norm': 1.962378978729248, 'linf_norm': 7.661981582641602},\n",
              " {'l1_norm': 2.4833929538726807, 'linf_norm': 10.639263153076172},\n",
              " {'l1_norm': 3.427409410476685, 'linf_norm': 22.0797119140625},\n",
              " {'l1_norm': 1.6009907722473145, 'linf_norm': 7.261089324951172},\n",
              " {'l1_norm': 1.3337758779525757, 'linf_norm': 5.814941883087158},\n",
              " {'l1_norm': 1.0839943885803225, 'linf_norm': 4.107593059539795},\n",
              " {'l1_norm': 1.7987771034240725, 'linf_norm': 6.714188575744629},\n",
              " {'l1_norm': 3.0244507789611816, 'linf_norm': 17.785600662231445},\n",
              " {'l1_norm': 3.4669172763824463, 'linf_norm': 12.389115333557127},\n",
              " {'l1_norm': 1.3006417751312256, 'linf_norm': 2.17335844039917},\n",
              " {'l1_norm': 3.408031225204468, 'linf_norm': 14.31215476989746},\n",
              " {'l1_norm': 4.828362464904785, 'linf_norm': 26.30475425720215},\n",
              " {'l1_norm': 1.0419503450393677, 'linf_norm': 5.026794910430908},\n",
              " {'l1_norm': 4.641892910003662, 'linf_norm': 21.69483757019043},\n",
              " {'l1_norm': 4.86583137512207, 'linf_norm': 22.625682830810547},\n",
              " {'l1_norm': 3.570265769958496, 'linf_norm': 14.828100204467772},\n",
              " {'l1_norm': 1.471082091331482, 'linf_norm': 7.773433208465576}]"
            ]
          },
          "execution_count": 103,
          "metadata": {},
          "output_type": "execute_result"
        },
        {
          "data": {
            "text/plain": [
              "[{'l1_norm': 4.089604377746582, 'linf_norm': 7.814847946166992},\n",
              " {'l1_norm': 1.3217475414276123, 'linf_norm': 1.766151785850525},\n",
              " {'l1_norm': 3.962724685668945, 'linf_norm': 7.589635848999023},\n",
              " {'l1_norm': 2.055142402648926, 'linf_norm': 3.40240216255188},\n",
              " {'l1_norm': 1.878460168838501, 'linf_norm': 3.048841953277588},\n",
              " {'l1_norm': 1.2054071426391602, 'linf_norm': 1.5761991739273071},\n",
              " {'l1_norm': 1.9464044570922847, 'linf_norm': 3.2503020763397217},\n",
              " {'l1_norm': 2.807529926300049, 'linf_norm': 5.109221935272217},\n",
              " {'l1_norm': 2.110551357269287, 'linf_norm': 3.5925774574279785},\n",
              " {'l1_norm': 3.0970563888549805, 'linf_norm': 5.735774040222168},\n",
              " {'l1_norm': 2.523172378540039, 'linf_norm': 4.489041805267334},\n",
              " {'l1_norm': 1.14887797832489, 'linf_norm': 1.4666104316711426},\n",
              " {'l1_norm': 2.295926570892334, 'linf_norm': 4.004182815551758},\n",
              " {'l1_norm': 2.3462672233581543, 'linf_norm': 4.076228141784668},\n",
              " {'l1_norm': 2.1985092163085938, 'linf_norm': 3.771929979324341},\n",
              " {'l1_norm': 2.038391590118408, 'linf_norm': 3.429717779159546},\n",
              " {'l1_norm': 2.0323946475982666, 'linf_norm': 3.403620481491089},\n",
              " {'l1_norm': 1.1520884037017822, 'linf_norm': 1.486255764961243},\n",
              " {'l1_norm': 2.3173930644989014, 'linf_norm': 4.053343296051025},\n",
              " {'l1_norm': 1.3130290508270264, 'linf_norm': 1.8439759016036987},\n",
              " {'l1_norm': 2.060127019882202, 'linf_norm': 3.4901444911956787},\n",
              " {'l1_norm': 2.654630661010742, 'linf_norm': 4.7881760597229},\n",
              " {'l1_norm': 3.022279024124145, 'linf_norm': 5.587245941162109},\n",
              " {'l1_norm': 2.637791633605957, 'linf_norm': 4.737509250640869},\n",
              " {'l1_norm': 3.0192413330078125, 'linf_norm': 5.5535807609558105},\n",
              " {'l1_norm': 2.041933298110962, 'linf_norm': 3.397841215133667},\n",
              " {'l1_norm': 2.449843168258667, 'linf_norm': 4.277951717376709},\n",
              " {'l1_norm': 2.4696316719055176, 'linf_norm': 4.353688716888428},\n",
              " {'l1_norm': 2.718778610229492, 'linf_norm': 4.886944770812988},\n",
              " {'l1_norm': 2.661978483200073, 'linf_norm': 4.777202606201172},\n",
              " {'l1_norm': 3.002871036529541, 'linf_norm': 5.507002830505371},\n",
              " {'l1_norm': 2.36007022857666, 'linf_norm': 4.090154647827148},\n",
              " {'l1_norm': 3.080373525619507, 'linf_norm': 5.675327301025391},\n",
              " {'l1_norm': 3.356813430786133, 'linf_norm': 6.2707061767578125},\n",
              " {'l1_norm': 2.676176071166992, 'linf_norm': 4.778018951416016},\n",
              " {'l1_norm': 3.1290619373321533, 'linf_norm': 5.769809246063232},\n",
              " {'l1_norm': 2.9329264163970947, 'linf_norm': 5.346804141998291},\n",
              " {'l1_norm': 2.488379001617432, 'linf_norm': 4.360158920288086},\n",
              " {'l1_norm': 2.4914469718933105, 'linf_norm': 4.360208988189697},\n",
              " {'l1_norm': 2.118793487548828, 'linf_norm': 3.544109582901001},\n",
              " {'l1_norm': 2.8585987091064453, 'linf_norm': 5.171256065368652},\n",
              " {'l1_norm': 3.3793375492095947, 'linf_norm': 6.305317401885986},\n",
              " {'l1_norm': 2.7264740467071533, 'linf_norm': 4.879256725311279},\n",
              " {'l1_norm': 2.472900152206421, 'linf_norm': 4.328343868255615},\n",
              " {'l1_norm': 2.813688039779663, 'linf_norm': 5.071606159210205},\n",
              " {'l1_norm': 2.856846809387207, 'linf_norm': 5.179952621459961},\n",
              " {'l1_norm': 2.9744222164154053, 'linf_norm': 5.444555759429932},\n",
              " {'l1_norm': 2.68821120262146, 'linf_norm': 4.819582462310791},\n",
              " {'l1_norm': 2.485234022140503, 'linf_norm': 4.398215770721436},\n",
              " {'l1_norm': 2.65786361694336, 'linf_norm': 4.776291847229004},\n",
              " {'l1_norm': 2.2879631519317627, 'linf_norm': 3.95807671546936},\n",
              " {'l1_norm': 2.3930249214172363, 'linf_norm': 4.207686424255371},\n",
              " {'l1_norm': 3.0442419052124023, 'linf_norm': 5.64631986618042},\n",
              " {'l1_norm': 2.363471508026123, 'linf_norm': 4.146896362304688},\n",
              " {'l1_norm': 2.551654577255249, 'linf_norm': 4.543722629547119},\n",
              " {'l1_norm': 2.6294405460357666, 'linf_norm': 4.73007869720459},\n",
              " {'l1_norm': 2.134906530380249, 'linf_norm': 3.642498731613159},\n",
              " {'l1_norm': 1.7673834562301636, 'linf_norm': 2.837590456008911},\n",
              " {'l1_norm': 2.290203094482422, 'linf_norm': 3.985478639602661},\n",
              " {'l1_norm': 1.8405735492706297, 'linf_norm': 3.004719018936157},\n",
              " {'l1_norm': 1.8135160207748413, 'linf_norm': 2.9429357051849365},\n",
              " {'l1_norm': 1.656402587890625, 'linf_norm': 2.599761962890625},\n",
              " {'l1_norm': 2.110093593597412, 'linf_norm': 3.5985069274902344},\n",
              " {'l1_norm': 2.669584989547729, 'linf_norm': 4.831248283386231},\n",
              " {'l1_norm': 2.142653703689575, 'linf_norm': 3.677967548370361},\n",
              " {'l1_norm': 1.9567430019378664, 'linf_norm': 3.2538211345672607},\n",
              " {'l1_norm': 2.5538220405578613, 'linf_norm': 4.569124698638916},\n",
              " {'l1_norm': 2.1676571369171143, 'linf_norm': 3.722691297531128},\n",
              " {'l1_norm': 2.0222792625427246, 'linf_norm': 3.3821964263916016},\n",
              " {'l1_norm': 2.05387020111084, 'linf_norm': 3.4451794624328613},\n",
              " {'l1_norm': 2.3817663192749023, 'linf_norm': 4.159608840942383},\n",
              " {'l1_norm': 1.887950539588928, 'linf_norm': 3.07014274597168},\n",
              " {'l1_norm': 2.464094638824463, 'linf_norm': 4.34207010269165},\n",
              " {'l1_norm': 2.793209791183472, 'linf_norm': 5.056939125061035},\n",
              " {'l1_norm': 3.125192165374756, 'linf_norm': 5.78156042098999},\n",
              " {'l1_norm': 2.5346529483795166, 'linf_norm': 4.474075794219971},\n",
              " {'l1_norm': 1.9968225955963133, 'linf_norm': 3.288461446762085},\n",
              " {'l1_norm': 2.2938876152038574, 'linf_norm': 3.946696758270264},\n",
              " {'l1_norm': 2.295980453491211, 'linf_norm': 3.959594249725342},\n",
              " {'l1_norm': 2.12186861038208, 'linf_norm': 3.562408208847046},\n",
              " {'l1_norm': 2.1632230281829834, 'linf_norm': 3.6681509017944336},\n",
              " {'l1_norm': 2.28347110748291, 'linf_norm': 3.9316890239715576},\n",
              " {'l1_norm': 2.378771543502808, 'linf_norm': 4.155001640319824},\n",
              " {'l1_norm': 2.2754526138305664, 'linf_norm': 3.932472944259644},\n",
              " {'l1_norm': 1.7933231592178345, 'linf_norm': 2.872069835662842},\n",
              " {'l1_norm': 1.6351045370101929, 'linf_norm': 2.5239696502685547},\n",
              " {'l1_norm': 1.385113000869751, 'linf_norm': 1.9843723773956297},\n",
              " {'l1_norm': 1.8459734916687007, 'linf_norm': 2.993396043777466},\n",
              " {'l1_norm': 1.9268970489501955, 'linf_norm': 3.167104005813598},\n",
              " {'l1_norm': 1.87764835357666, 'linf_norm': 3.066385269165039},\n",
              " {'l1_norm': 2.10735821723938, 'linf_norm': 3.5664236545562744},\n",
              " {'l1_norm': 2.4147419929504395, 'linf_norm': 4.240809440612793},\n",
              " {'l1_norm': 2.266483783721924, 'linf_norm': 3.921910762786865}]"
            ]
          },
          "execution_count": 103,
          "metadata": {},
          "output_type": "execute_result"
        }
      ],
      "source": [
        "# %%script echo skipping\n",
        "\n",
        "if hidden_activation_name_loaded == \"LeakyReLU\":\n",
        "  var_dict_loaded[\"leakyrelu_slope\"]\n",
        "if hidden_activation_name_loaded == \"PReLU\":\n",
        "  var_dict_loaded[\"prelu_init\"]\n",
        "elif hidden_activation_name_loaded == \"SoftPlus\":\n",
        "  var_dict_loaded[\"softplus_beta\"]\n",
        "\n",
        "batch_size_loaded\n",
        "n_epochs_loaded\n",
        "loss_name_loaded\n",
        "optimizer_name_loaded\n",
        "scheduler_name_loaded\n",
        "n_units_loaded\n",
        "n_layers_loaded\n",
        "hidden_activation_name_loaded\n",
        "output_activation_name_loaded\n",
        "lr_loaded\n",
        "dropout_rate_loaded\n",
        "hidden_activation_loaded\n",
        "output_activation_loaded\n",
        "net_loaded\n",
        "net_loaded.__dict__ # print the subparameters of the network\n",
        "loss_fn_loaded\n",
        "optimizer_loaded\n",
        "optimizer_loaded.__dict__ # print the subparameters of the optimizer\n",
        "if scheduler_loaded is not None:\n",
        "  scheduler_loaded\n",
        "  scheduler_loaded.__dict__ # print the subparameters of the scheduler\n",
        "train_losses_loaded\n",
        "test_losses_loaded\n",
        "train_metrics_loaded\n",
        "test_metrics_loaded\n"
      ]
    },
    {
      "cell_type": "code",
      "execution_count": null,
      "metadata": {},
      "outputs": [
        {
          "data": {
            "text/plain": [
              "0.5764967799186707"
            ]
          },
          "execution_count": 104,
          "metadata": {},
          "output_type": "execute_result"
        },
        {
          "data": {
            "text/plain": [
              "6.261254787445068"
            ]
          },
          "execution_count": 104,
          "metadata": {},
          "output_type": "execute_result"
        },
        {
          "data": {
            "text/plain": [
              "2.266483783721924"
            ]
          },
          "execution_count": 104,
          "metadata": {},
          "output_type": "execute_result"
        },
        {
          "data": {
            "text/plain": [
              "3.921910762786865"
            ]
          },
          "execution_count": 104,
          "metadata": {},
          "output_type": "execute_result"
        }
      ],
      "source": [
        "train_losses_loaded[-1]\n",
        "test_losses_loaded[-1]\n",
        "test_metrics_loaded[-1]['l1_norm']\n",
        "test_metrics_loaded[-1]['linf_norm']\n",
        "# print(f'Error is {test_metrics_loaded[-1][\"l1_norm\"] / (3.84e-4)} times bigger than in Dieselhorst et al.')\n",
        "# print(f'Error is {test_metrics_loaded[-1][\"linf_norm\"] / (8.14e-3)} times bigger than in Dieselhorst et al.')"
      ]
    },
    {
      "attachments": {},
      "cell_type": "markdown",
      "metadata": {},
      "source": [
        "### Visualize loaded results"
      ]
    },
    {
      "attachments": {},
      "cell_type": "markdown",
      "metadata": {
        "id": "vwLGR1aSUZik"
      },
      "source": [
        "Let us verify correct loading of the train and test metrics by visualizing them again but now through the loaded values. Likewise for the train and test losses."
      ]
    },
    {
      "cell_type": "code",
      "execution_count": null,
      "metadata": {
        "id": "sXiNgLsmUZil"
      },
      "outputs": [],
      "source": [
        "%config InteractiveShell.ast_node_interactivity = \"last_expr_or_assign\""
      ]
    },
    {
      "cell_type": "code",
      "execution_count": null,
      "metadata": {
        "colab": {
          "base_uri": "https://localhost:8080/",
          "height": 1000
        },
        "id": "sgq4WfSiUZil",
        "outputId": "9934bd08-6c78-4a92-c8c6-d8e835c351b3"
      },
      "outputs": [
        {
          "data": {
            "image/png": "[encoded data removed]",
            "text/plain": [
              "<Figure size 640x480 with 2 Axes>"
            ]
          },
          "metadata": {},
          "output_type": "display_data"
        },
        {
          "data": {
            "image/png": "[encoded data removed]",
            "text/plain": [
              "<Figure size 800x600 with 1 Axes>"
            ]
          },
          "metadata": {},
          "output_type": "display_data"
        }
      ],
      "source": [
        "# Plotting the losses and metrics for the best network plt.figure(figsize=(12, \n",
        "#plt.subplot(2, 2, 1)\n",
        "#plt.plot(train_losses_loaded, label=\"Train Loss\")\n",
        "#plt.plot(test_losses_loaded, label=\"Test Loss\")\n",
        "#plt.xlabel(\"Epoch\")\n",
        "#plt.ylabel(\"Loss\")\n",
        "#plt.legend()\n",
        "plt.subplot(2, 2, 2)\n",
        "plt.plot([m[\"l1_norm\"] for m in train_metrics_loaded], label=\"Train L1 Norm\")\n",
        "plt.plot([m[\"l1_norm\"] for m in test_metrics_loaded], label=\"Test L1 Norm\")\n",
        "plt.xlabel(\"Epoch\")\n",
        "plt.ylabel(\"L1 Norm\")\n",
        "# Added setting the vertical axis to be in powers of 10\n",
        "plt.yscale(\"log\")\n",
        "# Added setting the vertical axis limits to be from 10^-7 to 10^0\n",
        "plt.ylim(1e-3, 1e2)\n",
        "plt.legend()\n",
        "plt.subplot(2, 2, 3)\n",
        "plt.plot([m[\"linf_norm\"] for m in train_metrics_loaded], label=\"Train Linf Norm\")\n",
        "plt.plot([m[\"linf_norm\"] for m in test_metrics_loaded], label=\"Test Linf Norm\")\n",
        "plt.xlabel(\"Epoch\")\n",
        "plt.ylabel(\"Linf Norm\")\n",
        "# Added setting the vertical axis to be in powers of 10\n",
        "plt.yscale(\"log\")\n",
        "# Added setting the vertical axis limits to be from 10^-7 to 10^0\n",
        "plt.ylim(1e-3, 1e2)\n",
        "plt.legend()\n",
        "plt.tight_layout()\n",
        "plt.show()\n",
        "\n",
        "# Added plotting MSE of training data and MSE of test data in one plot \n",
        "plt.figure(figsize=(8, 6))\n",
        "plt.plot(train_losses_loaded,label=\"training data\")\n",
        "plt.plot(test_losses_loaded,label=\"test data\")\n",
        "#if scheduler is not None:\n",
        "#    plt.plot([scheduler.get_last_lr()[0] for _ in range(n_epochs)], label=\"Learning rate\") \n",
        "plt.xlabel(\"Epoch\")\n",
        "plt.ylabel(f\"{loss_name_loaded} Loss\")\n",
        "# Added setting the vertical axis to be in powers of 10\n",
        "plt.yscale(\"log\")\n",
        "# Added setting the vertical axis limits to be from 10^-7 to 10^0\n",
        "plt.ylim(1e-7, 1e0)\n",
        "plt.legend()\n",
        "plt.show()\n"
      ]
    },
    {
      "cell_type": "code",
      "execution_count": null,
      "metadata": {
        "id": "lkgLqJ_UUZim"
      },
      "outputs": [],
      "source": [
        "%config InteractiveShell.ast_node_interactivity = \"all\""
      ]
    },
    {
      "attachments": {},
      "cell_type": "markdown",
      "metadata": {},
      "source": [
        "## Counting the number of parameters in the network."
      ]
    },
    {
      "cell_type": "code",
      "execution_count": null,
      "metadata": {},
      "outputs": [
        {
          "data": {
            "text/plain": [
              "Net(\n",
              "  (hidden_activation): GELU(approximate='none')\n",
              "  (output_activation): Identity()\n",
              "  (layers): ModuleList(\n",
              "    (0): Linear(in_features=14, out_features=2202, bias=True)\n",
              "    (1): Linear(in_features=2202, out_features=1665, bias=True)\n",
              "    (2): Linear(in_features=1665, out_features=1, bias=True)\n",
              "  )\n",
              "  (dropouts): ModuleList(\n",
              "    (0-1): 2 x Dropout(p=0.3660754173253749, inplace=False)\n",
              "  )\n",
              ")"
            ]
          },
          "execution_count": 108,
          "metadata": {},
          "output_type": "execute_result"
        },
        {
          "name": "stdout",
          "output_type": "stream",
          "text": [
            "The model has 3702691 parameters.\n"
          ]
        }
      ],
      "source": [
        "net_loaded.eval()\n",
        "def count_parameters(model):\n",
        "    return sum(p.numel() for p in model.parameters() if p.requires_grad)\n",
        "print(f'The model has {count_parameters(net_loaded)} parameters.')"
      ]
    },
    {
      "attachments": {},
      "cell_type": "markdown",
      "metadata": {
        "id": "SxuzVSnlUZin"
      },
      "source": [
        "## Evaluating the network on arbirary input\n",
        "### Comparing `net` and `net_loaded`\n",
        "\n",
        "We compare `net` and `net_loaded` to confirm correct loading of the network. Note that `net` is only available if we have trained the model in this session."
      ]
    },
    {
      "cell_type": "code",
      "execution_count": null,
      "metadata": {},
      "outputs": [
        {
          "data": {
            "text/plain": [
              "Net(\n",
              "  (hidden_activation): GELU(approximate='none')\n",
              "  (output_activation): Identity()\n",
              "  (layers): ModuleList(\n",
              "    (0): Linear(in_features=14, out_features=2202, bias=True)\n",
              "    (1): Linear(in_features=2202, out_features=1665, bias=True)\n",
              "    (2): Linear(in_features=1665, out_features=1, bias=True)\n",
              "  )\n",
              "  (dropouts): ModuleList(\n",
              "    (0-1): 2 x Dropout(p=0.3660754173253749, inplace=False)\n",
              "  )\n",
              ")"
            ]
          },
          "execution_count": 109,
          "metadata": {},
          "output_type": "execute_result"
        }
      ],
      "source": [
        "#%%script echo skipping\n",
        "\n",
        "# Set the network to evaluation mode\n",
        "net.eval()"
      ]
    },
    {
      "cell_type": "code",
      "execution_count": null,
      "metadata": {},
      "outputs": [
        {
          "data": {
            "text/plain": [
              "<bound method Module.eval of Net(\n",
              "  (hidden_activation): GELU(approximate='none')\n",
              "  (output_activation): Identity()\n",
              "  (layers): ModuleList(\n",
              "    (0): Linear(in_features=14, out_features=2202, bias=True)\n",
              "    (1): Linear(in_features=2202, out_features=1665, bias=True)\n",
              "    (2): Linear(in_features=1665, out_features=1, bias=True)\n",
              "  )\n",
              "  (dropouts): ModuleList(\n",
              "    (0-1): 2 x Dropout(p=0.3660754173253749, inplace=False)\n",
              "  )\n",
              ")>"
            ]
          },
          "execution_count": 110,
          "metadata": {},
          "output_type": "execute_result"
        }
      ],
      "source": [
        "# Set the network to evaluation mode\n",
        "net_loaded.eval"
      ]
    },
    {
      "cell_type": "code",
      "execution_count": null,
      "metadata": {},
      "outputs": [
        {
          "name": "stdout",
          "output_type": "stream",
          "text": [
            "Parameters are the same.\n",
            "Net device: cpu\n",
            "Net_loaded device: cpu\n"
          ]
        }
      ],
      "source": [
        "for p1, p2 in zip(net.parameters(), net_loaded.parameters()):\n",
        "    if p1.data.ne(p2.data).sum() > 0:\n",
        "        print(\"Parameters are NOT the same.\")\n",
        "        break\n",
        "else:\n",
        "    print(\"Parameters are the same.\")\n",
        "\n",
        "print(\"Net device:\", next(net.parameters()).device)\n",
        "print(\"Net_loaded device:\", next(net_loaded.parameters()).device)"
      ]
    },
    {
      "cell_type": "code",
      "execution_count": null,
      "metadata": {
        "colab": {
          "base_uri": "https://localhost:8080/"
        },
        "id": "C0PLAA0DUZin",
        "outputId": "c51e07dd-8b35-4ea4-cdf9-3118d7796e30"
      },
      "outputs": [
        {
          "name": "stdout",
          "output_type": "stream",
          "text": [
            "[Parameter containing:\n",
            "tensor([[-0.0391, -0.2100,  0.0291,  ..., -0.0096, -0.2305,  0.0791],\n",
            "        [-0.1470, -0.2359,  0.0312,  ..., -0.0123,  0.2358,  0.1013],\n",
            "        [-0.1162, -0.1552, -0.0883,  ...,  0.1754,  0.1405, -0.1764],\n",
            "        ...,\n",
            "        [-0.1326, -0.1298,  0.0081,  ..., -0.0963,  0.2489,  0.1060],\n",
            "        [ 0.1571, -0.1694, -0.1797,  ...,  0.2382,  0.0201, -0.1888],\n",
            "        [-0.0426, -0.1809, -0.0901,  ...,  0.1599,  0.2275,  0.2579]],\n",
            "       requires_grad=True), Parameter containing:\n",
            "tensor([ 0.0575,  0.0732, -0.1938,  ...,  0.0515, -0.0172,  0.2615],\n",
            "       requires_grad=True), Parameter containing:\n",
            "tensor([[ 0.0187, -0.0209,  0.0015,  ...,  0.0209,  0.0174,  0.0143],\n",
            "        [-0.0084,  0.0109, -0.0069,  ..., -0.0012, -0.0168, -0.0165],\n",
            "        [-0.0106, -0.0090, -0.0091,  ...,  0.0095, -0.0055, -0.0038],\n",
            "        ...,\n",
            "        [ 0.0125,  0.0088,  0.0025,  ..., -0.0073,  0.0029,  0.0063],\n",
            "        [ 0.0013, -0.0191,  0.0197,  ...,  0.0213,  0.0062,  0.0075],\n",
            "        [-0.0136,  0.0129, -0.0120,  ..., -0.0076, -0.0169,  0.0041]],\n",
            "       requires_grad=True), Parameter containing:\n",
            "tensor([ 0.0011, -0.0072, -0.0169,  ..., -0.0171,  0.0167, -0.0057],\n",
            "       requires_grad=True), Parameter containing:\n",
            "tensor([[-0.0012, -0.0193, -0.0225,  ..., -0.0042, -0.0163, -0.0016]],\n",
            "       requires_grad=True), Parameter containing:\n",
            "tensor([-0.0025], requires_grad=True)]\n"
          ]
        }
      ],
      "source": [
        "#%%script echo skipping\n",
        "\n",
        "print(list(net.parameters()))"
      ]
    },
    {
      "cell_type": "code",
      "execution_count": null,
      "metadata": {
        "colab": {
          "base_uri": "https://localhost:8080/"
        },
        "id": "1NZ8iVA7UZio",
        "outputId": "6341def7-b7e7-44eb-c91f-edbe1d22ca1d"
      },
      "outputs": [
        {
          "name": "stdout",
          "output_type": "stream",
          "text": [
            "[Parameter containing:\n",
            "tensor([[-0.0391, -0.2100,  0.0291,  ..., -0.0096, -0.2305,  0.0791],\n",
            "        [-0.1470, -0.2359,  0.0312,  ..., -0.0123,  0.2358,  0.1013],\n",
            "        [-0.1162, -0.1552, -0.0883,  ...,  0.1754,  0.1405, -0.1764],\n",
            "        ...,\n",
            "        [-0.1326, -0.1298,  0.0081,  ..., -0.0963,  0.2489,  0.1060],\n",
            "        [ 0.1571, -0.1694, -0.1797,  ...,  0.2382,  0.0201, -0.1888],\n",
            "        [-0.0426, -0.1809, -0.0901,  ...,  0.1599,  0.2275,  0.2579]],\n",
            "       requires_grad=True), Parameter containing:\n",
            "tensor([ 0.0575,  0.0732, -0.1938,  ...,  0.0515, -0.0172,  0.2615],\n",
            "       requires_grad=True), Parameter containing:\n",
            "tensor([[ 0.0187, -0.0209,  0.0015,  ...,  0.0209,  0.0174,  0.0143],\n",
            "        [-0.0084,  0.0109, -0.0069,  ..., -0.0012, -0.0168, -0.0165],\n",
            "        [-0.0106, -0.0090, -0.0091,  ...,  0.0095, -0.0055, -0.0038],\n",
            "        ...,\n",
            "        [ 0.0125,  0.0088,  0.0025,  ..., -0.0073,  0.0029,  0.0063],\n",
            "        [ 0.0013, -0.0191,  0.0197,  ...,  0.0213,  0.0062,  0.0075],\n",
            "        [-0.0136,  0.0129, -0.0120,  ..., -0.0076, -0.0169,  0.0041]],\n",
            "       requires_grad=True), Parameter containing:\n",
            "tensor([ 0.0011, -0.0072, -0.0169,  ..., -0.0171,  0.0167, -0.0057],\n",
            "       requires_grad=True), Parameter containing:\n",
            "tensor([[-0.0012, -0.0193, -0.0225,  ..., -0.0042, -0.0163, -0.0016]],\n",
            "       requires_grad=True), Parameter containing:\n",
            "tensor([-0.0025], requires_grad=True)]\n"
          ]
        }
      ],
      "source": [
        "print(list(net_loaded.parameters()))"
      ]
    },
    {
      "cell_type": "code",
      "execution_count": null,
      "metadata": {
        "colab": {
          "base_uri": "https://localhost:8080/"
        },
        "id": "InGW0Xq6UZip",
        "outputId": "6c4a0e2c-b485-4362-b99d-7364dcf9443a"
      },
      "outputs": [
        {
          "name": "stdout",
          "output_type": "stream",
          "text": [
            "rho.shape:  torch.Size([20])\n",
            "epsilon.shape:  torch.Size([20])\n"
          ]
        },
        {
          "data": {
            "text/plain": [
              "tensor([[ 1.4355e+00,  2.9831e+01,  7.5903e+01,  1.9645e+01,  8.1326e+01,\n",
              "          6.6056e+00, -4.4031e-01, -8.3933e+00,  1.0509e+00,  5.6851e-02,\n",
              "          5.2011e-02,  1.0752e+00,  2.9158e-02,  9.6115e-01],\n",
              "        [ 2.4914e+00,  3.5488e+00,  6.6610e+00,  1.3844e+01,  1.3553e+01,\n",
              "          2.4443e+00, -1.7896e+00,  9.4073e-01,  1.0206e+00,  8.9006e-02,\n",
              "          6.1925e-02,  9.6344e-01,  8.2738e-02,  9.6886e-01],\n",
              "        [ 6.0941e+01, -2.4650e+03, -1.9795e+03, -1.1271e+03, -3.2915e+03,\n",
              "         -6.1538e+00,  9.8450e+00, -7.2839e+00,  9.7300e-01,  6.3989e-03,\n",
              "          5.3496e-02,  1.0900e+00,  9.5738e-02,  1.0257e+00],\n",
              "        [ 2.7987e+00, -5.7390e+00,  2.4736e+01,  2.0267e+01,  3.5812e+01,\n",
              "          3.3628e+00, -3.8593e-01,  4.5615e+00,  1.0055e+00,  7.6406e-02,\n",
              "          3.9570e-02,  1.0414e+00,  5.8348e-02,  1.0859e+00],\n",
              "        [ 1.7500e+00,  7.6679e+01,  9.8002e+00,  1.9331e+01,  8.0960e+01,\n",
              "         -1.4580e+00,  8.5295e+00,  1.6042e+00,  9.1642e-01,  8.1655e-02,\n",
              "          4.4239e-02,  1.0192e+00,  6.0131e-02,  9.3038e-01],\n",
              "        [ 4.5622e-01,  6.1284e+01,  2.9239e+01,  1.7195e+01,  7.3744e+01,\n",
              "         -8.1846e-01, -3.5557e+00,  8.8621e+00,  9.3770e-01,  3.6591e-03,\n",
              "          4.2741e-02,  9.6662e-01,  4.9938e-02,  9.7143e-01],\n",
              "        [ 9.8030e-01,  2.7879e+01, -1.0005e+01,  3.4920e+01,  5.0320e+01,\n",
              "          2.5095e+00, -6.4641e+00, -4.2592e+00,  9.0060e-01,  3.2679e-02,\n",
              "          7.0474e-02,  9.6216e-01,  2.4518e-02,  1.0773e+00],\n",
              "        [ 8.5224e-01,  9.8415e+01,  1.0373e+02,  2.4327e+00,  1.6287e+02,\n",
              "         -9.4037e+00,  9.0019e+00, -8.2633e+00,  9.1987e-01,  4.2060e-02,\n",
              "          8.5013e-02,  1.0330e+00,  8.2016e-02,  9.5782e-01],\n",
              "        [ 6.1921e+00,  1.0649e+01,  1.3453e+01,  1.5187e+01,  1.7148e+01,\n",
              "          1.0891e+00,  3.8097e-01, -2.6230e+00,  9.0078e-01,  3.4641e-02,\n",
              "          9.2042e-02,  9.7919e-01,  8.1688e-02,  9.4894e-01],\n",
              "        [ 3.1745e+00,  1.4643e+01,  4.7054e+01,  2.0430e+01,  4.8369e+01,\n",
              "         -2.6064e+00,  2.7250e+00, -5.2005e+00,  1.0572e+00,  9.1825e-02,\n",
              "          7.7334e-02,  1.0346e+00,  8.1040e-02,  9.7685e-01],\n",
              "        [ 2.2841e+00,  2.2294e+01, -9.8142e+00,  3.5355e+01,  6.3457e+01,\n",
              "          1.9900e+00, -8.7988e+00, -4.3989e+00,  9.6900e-01,  7.3210e-02,\n",
              "          1.8159e-02,  1.0684e+00,  6.0497e-02,  1.0399e+00],\n",
              "        [ 1.4662e+00,  1.0785e+02,  6.1053e+01,  1.8115e+01,  1.1961e+02,\n",
              "         -4.0940e+00,  8.4636e+00, -6.4364e+00,  1.0739e+00,  5.4177e-02,\n",
              "          7.2394e-03,  9.5628e-01,  6.7088e-02,  1.0319e+00],\n",
              "        [ 3.4999e+00, -8.3166e+00,  9.8880e+01,  4.7235e+01,  1.0764e+02,\n",
              "          7.4560e+00, -3.4420e+00,  8.3879e+00,  1.0779e+00,  3.6962e-02,\n",
              "          4.2018e-02,  1.0190e+00,  4.8523e-02,  9.8044e-01],\n",
              "        [ 1.5184e+00,  4.5774e+01,  5.2509e+01,  3.9254e+00,  7.2493e+01,\n",
              "          2.5131e+00, -2.7035e+00,  9.1208e+00,  1.0153e+00,  7.5880e-02,\n",
              "          3.2540e-02,  1.0236e+00,  3.6493e-02,  1.0887e+00],\n",
              "        [ 1.3984e+00,  4.6295e+01,  6.2888e+01,  3.2343e+01,  8.4145e+01,\n",
              "         -6.8004e-01, -3.6595e+00,  8.6252e+00,  9.3226e-01,  3.1793e-02,\n",
              "          6.8463e-02,  9.6532e-01,  1.5098e-02,  9.9905e-01],\n",
              "        [ 9.2322e+00, -2.0532e+01, -3.1177e+01, -3.9744e+01, -5.7226e+01,\n",
              "          9.3809e+00,  2.7488e+00, -1.5710e+00,  9.0761e-01,  6.1964e-02,\n",
              "          5.2038e-02,  1.0932e+00,  7.2078e-02,  9.7994e-01],\n",
              "        [ 1.6913e-02,  3.4056e+01,  7.6270e+01,  5.6882e+01,  1.0103e+02,\n",
              "         -5.4708e+00,  7.1204e+00, -6.2784e+00,  9.3693e-01,  8.3571e-03,\n",
              "          2.6285e-02,  9.4073e-01,  7.5955e-02,  9.7633e-01],\n",
              "        [ 4.8102e-01,  5.6656e+01, -5.0745e+01,  6.0967e+00,  8.6478e+01,\n",
              "          7.0761e+00,  7.5520e+00,  3.3967e+00,  1.0534e+00,  6.7893e-03,\n",
              "          2.8160e-02,  1.0759e+00,  9.4815e-02,  1.0504e+00],\n",
              "        [ 4.5920e+00, -3.9440e+01,  8.7065e+00, -3.6459e+01,  3.7179e+01,\n",
              "          7.7835e+00,  4.0588e+00,  8.6044e+00,  1.0027e+00,  7.9175e-02,\n",
              "          4.2291e-02,  9.3139e-01,  2.4527e-02,  9.3943e-01],\n",
              "        [ 3.3993e+00,  1.6800e+01,  2.3237e+00,  2.5022e+01,  3.8798e+01,\n",
              "          3.3852e+00,  5.7307e+00, -3.5265e-01,  9.7709e-01,  5.1318e-02,\n",
              "          1.0556e-02,  1.0524e+00,  2.1671e-02,  9.3127e-01]])"
            ]
          },
          "execution_count": 114,
          "metadata": {},
          "output_type": "execute_result"
        }
      ],
      "source": [
        "rho_example, epsilon_example, vx_example, vy_example, vz_example, Bx_example, By_example, Bz_example, gxx_example, gxy_example, gxz_example, gyy_example, gyz_example, gzz_example = generate_samples(20)\n",
        "\n",
        "inputs =  generate_input_data(rho_example, epsilon_example, vx_example, vy_example, vz_example, Bx_example, By_example, Bz_example, gxx_example, gxy_example, gxz_example, gyy_example, gyz_example, gzz_example)\n",
        "inputs\n"
      ]
    },
    {
      "cell_type": "code",
      "execution_count": null,
      "metadata": {
        "colab": {
          "base_uri": "https://localhost:8080/"
        },
        "id": "QVa1upmFUZip",
        "outputId": "95a297df-88d8-4614-ffd7-ecc0cda58cf9"
      },
      "outputs": [
        {
          "data": {
            "text/plain": [
              "[tensor([[2.7276]], grad_fn=<AddmmBackward0>),\n",
              " tensor([[-0.3146]], grad_fn=<AddmmBackward0>),\n",
              " tensor([[360.8979]], grad_fn=<AddmmBackward0>),\n",
              " tensor([[-0.7544]], grad_fn=<AddmmBackward0>),\n",
              " tensor([[6.2292]], grad_fn=<AddmmBackward0>),\n",
              " tensor([[4.8717]], grad_fn=<AddmmBackward0>),\n",
              " tensor([[0.2558]], grad_fn=<AddmmBackward0>),\n",
              " tensor([[9.7156]], grad_fn=<AddmmBackward0>),\n",
              " tensor([[0.6208]], grad_fn=<AddmmBackward0>),\n",
              " tensor([[1.2777]], grad_fn=<AddmmBackward0>),\n",
              " tensor([[0.0820]], grad_fn=<AddmmBackward0>),\n",
              " tensor([[7.6274]], grad_fn=<AddmmBackward0>),\n",
              " tensor([[0.9813]], grad_fn=<AddmmBackward0>),\n",
              " tensor([[4.5979]], grad_fn=<AddmmBackward0>),\n",
              " tensor([[4.3721]], grad_fn=<AddmmBackward0>),\n",
              " tensor([[3.1803]], grad_fn=<AddmmBackward0>),\n",
              " tensor([[1.8521]], grad_fn=<AddmmBackward0>),\n",
              " tensor([[9.3009]], grad_fn=<AddmmBackward0>),\n",
              " tensor([[5.4206]], grad_fn=<AddmmBackward0>),\n",
              " tensor([[0.3590]], grad_fn=<AddmmBackward0>)]"
            ]
          },
          "execution_count": 115,
          "metadata": {},
          "output_type": "execute_result"
        }
      ],
      "source": [
        "#%%script echo skipping\n",
        "\n",
        "# Pass the inputs to the network and get the outputs\n",
        "outputs = [net(input.unsqueeze(0)) for input in inputs]\n",
        "# Print the outputs\n",
        "outputs"
      ]
    },
    {
      "cell_type": "code",
      "execution_count": null,
      "metadata": {
        "colab": {
          "base_uri": "https://localhost:8080/"
        },
        "id": "E-Xjfo7VUZir",
        "outputId": "fb0478cb-bee3-429f-fdec-d99f11baf40f"
      },
      "outputs": [
        {
          "data": {
            "text/plain": [
              "[tensor([[2.7276]], grad_fn=<AddmmBackward0>),\n",
              " tensor([[-0.3146]], grad_fn=<AddmmBackward0>),\n",
              " tensor([[360.8979]], grad_fn=<AddmmBackward0>),\n",
              " tensor([[-0.7544]], grad_fn=<AddmmBackward0>),\n",
              " tensor([[6.2292]], grad_fn=<AddmmBackward0>),\n",
              " tensor([[4.8717]], grad_fn=<AddmmBackward0>),\n",
              " tensor([[0.2558]], grad_fn=<AddmmBackward0>),\n",
              " tensor([[9.7156]], grad_fn=<AddmmBackward0>),\n",
              " tensor([[0.6208]], grad_fn=<AddmmBackward0>),\n",
              " tensor([[1.2777]], grad_fn=<AddmmBackward0>),\n",
              " tensor([[0.0820]], grad_fn=<AddmmBackward0>),\n",
              " tensor([[7.6274]], grad_fn=<AddmmBackward0>),\n",
              " tensor([[0.9813]], grad_fn=<AddmmBackward0>),\n",
              " tensor([[4.5979]], grad_fn=<AddmmBackward0>),\n",
              " tensor([[4.3721]], grad_fn=<AddmmBackward0>),\n",
              " tensor([[3.1803]], grad_fn=<AddmmBackward0>),\n",
              " tensor([[1.8521]], grad_fn=<AddmmBackward0>),\n",
              " tensor([[9.3009]], grad_fn=<AddmmBackward0>),\n",
              " tensor([[5.4206]], grad_fn=<AddmmBackward0>),\n",
              " tensor([[0.3590]], grad_fn=<AddmmBackward0>)]"
            ]
          },
          "execution_count": 116,
          "metadata": {},
          "output_type": "execute_result"
        }
      ],
      "source": [
        "\n",
        "# Pass the inputs to the network and get the outputs\n",
        "outputs = [net_loaded(input.unsqueeze(0)) for input in inputs]\n",
        "# Print the outputs\n",
        "outputs"
      ]
    },
    {
      "attachments": {},
      "cell_type": "markdown",
      "metadata": {
        "id": "xjpIvdybUZis"
      },
      "source": [
        "## Porting the model to C++"
      ]
    },
    {
      "cell_type": "code",
      "execution_count": null,
      "metadata": {
        "colab": {
          "base_uri": "https://localhost:8080/"
        },
        "id": "VMlEd4RoUZis",
        "outputId": "d5bfc697-8c96-47bb-a08c-6fb26f463797"
      },
      "outputs": [
        {
          "data": {
            "text/plain": [
              "Net(\n",
              "  (hidden_activation): GELU(approximate='none')\n",
              "  (output_activation): Identity()\n",
              "  (layers): ModuleList(\n",
              "    (0): Linear(in_features=14, out_features=2202, bias=True)\n",
              "    (1): Linear(in_features=2202, out_features=1665, bias=True)\n",
              "    (2): Linear(in_features=1665, out_features=1, bias=True)\n",
              "  )\n",
              "  (dropouts): ModuleList(\n",
              "    (0-1): 2 x Dropout(p=0.3660754173253749, inplace=False)\n",
              "  )\n",
              ")"
            ]
          },
          "execution_count": 117,
          "metadata": {},
          "output_type": "execute_result"
        },
        {
          "name": "stderr",
          "output_type": "stream",
          "text": [
            "/tmp/ipykernel_32194/755242825.py:62: TracerWarning: Converting a tensor to a Python boolean might cause the trace to be incorrect. We can't record the data flow of Python values, so this value will be treated as a constant in the future. This means that the trace might not generalize to other inputs!\n",
            "  assert x.shape[1] == N_INPUTS, f\"x must have shape (batch_size, {N_INPUTS})\"\n"
          ]
        },
        {
          "name": "stdout",
          "output_type": "stream",
          "text": [
            "rho.shape:  torch.Size([1])\n",
            "epsilon.shape:  torch.Size([1])\n",
            "input shape:  torch.Size([1, 14])\n",
            "input:  tensor([[ 9.2592e-01,  2.1920e-01,  9.1739e+01, -1.7138e+00,  9.5896e+01,\n",
            "          9.9851e-01,  7.0002e-01,  1.1022e+01,  1.0794e+00,  7.8553e-03,\n",
            "          5.1595e-02,  1.0638e+00,  5.5097e-02,  1.0694e+00]])\n",
            "Output: tensor([[5.4458]], grad_fn=<AddmmBackward0>)\n"
          ]
        }
      ],
      "source": [
        "import torch.jit\n",
        "\n",
        "# Creating a dummy input tensor of shape (1, 5) to trace the model\n",
        "dummy_input = torch.randn(1, N_INPUTS).to(device)\n",
        "\n",
        "# Ensure that net_loaded is in evaluation mode.\n",
        "net_loaded.eval()\n",
        "\n",
        "# Tracing the model using the torch.jit.trace function\n",
        "traced_model = torch.jit.trace(net_loaded, dummy_input)\n",
        "\n",
        "# Saving the traced model to a file named \"net.pt\"\n",
        "traced_model.save(\"net.pt\")\n",
        "save_file(\"net.pt\")\n",
        "\n",
        "example_input_to_validate_correct_export_and_import = generate_input_data(*generate_samples(1))\n",
        "print(\"input shape: \", example_input_to_validate_correct_export_and_import.shape)\n",
        "print(\"input: \", example_input_to_validate_correct_export_and_import)\n",
        "print(\"Output:\", net_loaded(example_input_to_validate_correct_export_and_import))"
      ]
    }
  ],
  "metadata": {
    "accelerator": "GPU",
    "colab": {
      "gpuType": "T4",
      "provenance": [],
      "toc_visible": true
    },
    "gpuClass": "standard",
    "kernelspec": {
      "display_name": "bsc",
      "language": "python",
      "name": "python3"
    },
    "language_info": {
      "codemirror_mode": {
        "name": "ipython",
        "version": 3
      },
      "file_extension": ".py",
      "mimetype": "text/x-python",
      "name": "python",
      "nbconvert_exporter": "python",
      "pygments_lexer": "ipython3",
      "version": "3.11.3"
    },
    "orig_nbformat": 4
  },
  "nbformat": 4,
  "nbformat_minor": 0
}
