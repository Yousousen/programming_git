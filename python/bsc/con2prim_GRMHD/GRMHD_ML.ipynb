{
  "cells": [
    {
      "attachments": {},
      "cell_type": "markdown",
      "metadata": {
        "id": "TPvB1xoSUZhR"
      },
      "source": [
        "# Neural network to learn conservative-to-primitive conversion in relativistic hydrodynamics"
      ]
    },
    {
      "attachments": {},
      "cell_type": "markdown",
      "metadata": {},
      "source": [
        "## How to use this notebook\n",
        "\n",
        "### Local installation\n",
        "\n",
        "1. Install required packages with `pip install -r requirements.txt` to your desired environment.\n",
        "2. If a script version of this notebook is desired, comment (not uncomment) the first line of `nbconvert` cell.\n",
        "\n",
        "### Colab installation\n",
        "\n",
        "1.  Comment (not uncomment) the first line of the drive mounting cell.\n",
        "2.  Comment (not uncomment) the first line of the `pip install` cell.\n",
        "\n",
        "<!-- - For colab we also want to set the runtime to GPU by clicking _Change runtime_ in the _Runtime_ menu, and -->\n",
        "<!-- - We want to wait for the google drive connection popup to appear and follow the instructions. -->\n",
        "\n",
        "### Loading / Generating data\n",
        "3. Set `LOAD_DATA_FROM_CSV` to `True` / `False` to load data from csv files / generate data in this notebook.\n",
        "\n",
        "### Training without optimization\n",
        "\n",
        "4. Set `OPTIMIZE = False` in section _Constants and flags to set_.\n",
        "5. Run the entire notebook.\n",
        "\n",
        "### Training with optimization\n",
        "\n",
        "4. Set `OPTIMIZE = True` in section _Constants and flags to set_.\n",
        "5. Run the entire notebook.\n",
        "\n",
        "### Loading an already trained model\n",
        "\n",
        "4. Run cells in section _Initialization_.\n",
        "5. Run cells with definitions in section _Input data and labels_.\n",
        "6. Run cell with the definition of _Net_ in section _Defining the neural network_.\n",
        "7. Make sure the `net.pth`, `optimizer.pth`, `scheduler.pth`, `var_dict.json` and `train_output.csv` files are in the directory containing this notebook.\n",
        "8. Run the cells in section _Loading_ and continue from there.\n",
        "\n",
        "### Generating the C++ model\n",
        "\n",
        "9. Run section _Porting the model to C++_, this requires a model to be loaded.\n",
        "10. Set the path to the `net.pt` file in the C++ source file.\n",
        "11. `mkdir build && cd build`,\n",
        "12. Configure a `CMakeLists.txt` file as is done [here](https://pytorch.org/cppdocs/installing.html).\n",
        "13. `cmake -DCMAKE_PREFIX_PATH=/path/to/libtorch/ ..`,\n",
        "14. Compile and run, e.g. `cmake --build . --config release && ./<executable name>`"
      ]
    },
    {
      "attachments": {},
      "cell_type": "markdown",
      "metadata": {},
      "source": [
        "## Initialization"
      ]
    },
    {
      "attachments": {},
      "cell_type": "markdown",
      "metadata": {},
      "source": [
        "\n",
        "Use this first cell to **convert this notebook** to a python script."
      ]
    },
    {
      "cell_type": "code",
      "execution_count": 52,
      "metadata": {
        "colab": {
          "base_uri": "https://localhost:8080/"
        },
        "id": "eqdgdNLHUZhV",
        "outputId": "30907b9d-56c3-44d7-cd43-6387a991a46a",
        "tags": [
          "remove_cell"
        ]
      },
      "outputs": [
        {
          "name": "stdout",
          "output_type": "stream",
          "text": [
            "[NbConvertApp] Converting notebook GRMHD_ML.ipynb to script\n",
            "[NbConvertApp] Writing 77098 bytes to GRMHD_ML.py\n"
          ]
        }
      ],
      "source": [
        "#%%script echo skipping # NOTE: Set this before properly.\n",
        "\n",
        "!jupyter nbconvert GRMHD_ML.ipynb --TagRemovePreprocessor.enabled=True --TagRemovePreprocessor.remove_cell_tags='{\"remove_cell\"}' --to script"
      ]
    },
    {
      "attachments": {},
      "cell_type": "markdown",
      "metadata": {
        "id": "nzcUr0LnUZhw"
      },
      "source": [
        "Next some cells for working on **google colab**,"
      ]
    },
    {
      "cell_type": "code",
      "execution_count": 53,
      "metadata": {},
      "outputs": [],
      "source": [
        "import os\n",
        "import shutil\n",
        "\n",
        "# check if the drive is mounted\n",
        "drive_mounted = os.path.exists(\"/content/drive\")\n",
        "# change this to your desired folder\n",
        "drive_folder = \"/content/drive/My Drive/bsc/con2prim_GRMHD/1e5_runs/\" # NOTE: Set this before properly.\n",
        "\n",
        "# define a function to save a file to the drive or the current directory\n",
        "def save_file(file_name):\n",
        "  if drive_mounted:\n",
        "    # save the file to the drive folder\n",
        "    file_path = os.path.join(drive_folder, file_name)\n",
        "    # copy the file from the current directory to the drive folder\n",
        "    shutil.copyfile(file_name, file_path)\n",
        "  else:\n",
        "    # do nothing as the file is already in the current directory\n",
        "    pass\n"
      ]
    },
    {
      "cell_type": "code",
      "execution_count": 54,
      "metadata": {
        "colab": {
          "base_uri": "https://localhost:8080/"
        },
        "id": "ecHw2_xlUZhx",
        "outputId": "462a57cd-ee19-4961-d3aa-ff2407b2bde0"
      },
      "outputs": [
        {
          "name": "stdout",
          "output_type": "stream",
          "text": [
            "skipping # NOTE: Set this before properly.\n"
          ]
        }
      ],
      "source": [
        "%%script echo skipping # NOTE: Set this before properly.\n",
        "\n",
        "from google.colab import drive\n",
        "drive.mount('/content/drive')"
      ]
    },
    {
      "cell_type": "code",
      "execution_count": 55,
      "metadata": {
        "colab": {
          "base_uri": "https://localhost:8080/"
        },
        "id": "T1rcStMLUZhy",
        "outputId": "7ea7311f-f054-4a29-d0ff-12849095ab6e"
      },
      "outputs": [
        {
          "name": "stdout",
          "output_type": "stream",
          "text": [
            "skipping # NOTE: Set this before properly.\n"
          ]
        }
      ],
      "source": [
        "%%script echo skipping # NOTE: Set this before properly.\n",
        "\n",
        "!pip install optuna optuna[visualization] tensorboard tensorboardX plotly"
      ]
    },
    {
      "attachments": {},
      "cell_type": "markdown",
      "metadata": {},
      "source": [
        "Importing the **libraries**,"
      ]
    },
    {
      "cell_type": "code",
      "execution_count": 56,
      "metadata": {
        "id": "tREdWQUVUZhz"
      },
      "outputs": [],
      "source": [
        "import numpy as np\n",
        "import matplotlib.pyplot as plt\n",
        "import torch\n",
        "import torch.nn as nn\n",
        "import torch.optim as optim\n",
        "import torch.nn.functional as F\n",
        "import optuna\n",
        "import optuna.visualization as ov\n",
        "import tensorboardX as tbx\n",
        "import pandas as pd\n",
        "import pickle\n",
        "import json\n",
        "import pandas as pd\n"
      ]
    },
    {
      "attachments": {},
      "cell_type": "markdown",
      "metadata": {
        "id": "38GvmerjUZhz"
      },
      "source": [
        "### Constants and flags to set\n",
        "Defining some constants and parameters for convenience.\n",
        "\n",
        "**NOTE**: Some **subparameters** still need to be adjusted in the `create_model` function itself as of (Tue May 16 07:42:45 AM CEST 2023) in the case the model is being trained without optimization."
      ]
    },
    {
      "cell_type": "code",
      "execution_count": 57,
      "metadata": {
        "id": "ei6VZDYKUZh0"
      },
      "outputs": [],
      "source": [
        "\n",
        "# Checking if GPU is available and setting the device accordingly\n",
        "device = torch.device(\"cuda\" if torch.cuda.is_available() else \"cpu\")\n",
        "\n",
        "N_TRIALS = 250 # Number of trials for hyperparameter optimization # NOTE: Set this properly.\n",
        "OPTIMIZE = False # Whether to optimize the hyperparameters or to use predetermined values. # NOTE: Set this properly.\n",
        "ZSCORE_NORMALIZATION = False # Whether to z-score normalize the input data.\n",
        "LOAD_DATA_FROM_CSV = False  # If not true we generate the data in this file and save to {x_train,y_train,x_test,y_test}.csv, otherwise we load the data from files of the same name. # NOTE: Set this before properly.\n",
        "#STUDY_NAME = None\n",
        "STUDY_NAME = \"Test05-06-23\" # NOTE: Set this before properly\n",
        "LOAD_PREVIOUS_STUDY = False # NOTE: Set this before properly.\n",
        "\n",
        "csv_filenames = { # File names to load input data and labels from if LOAD_DATA_FROM_CSV is True.\n",
        "    \"x_train\": \"x_train.csv\",\n",
        "    \"x_val\": \"x_val.csv\",\n",
        "    \"x_test\": \"x_test.csv\",\n",
        "    \"y_train\": \"y_train.csv\",\n",
        "    \"y_val\": \"y_val.csv\",\n",
        "    \"y_test\": \"y_test.csv\",\n",
        "}\n",
        "\n",
        "# Values to use for hyperparameters if OPTIMIZE is False; set these to the best parameters found by Optuna.\n",
        "# NOTE: TODO: Currently (Sat May 27 05:16:57 PM CEST 2023) there are still subparameters to be set in create_model function.\n",
        "N_LAYERS_NO_OPT = 3\n",
        "N_UNITS_NO_OPT = [555, 458, 115]\n",
        "HIDDEN_ACTIVATION_NAME_NO_OPT = \"LeakyReLU\"\n",
        "OUTPUT_ACTIVATION_NAME_NO_OPT = \"Linear\"\n",
        "LOSS_NAME_NO_OPT = \"Huber\"\n",
        "OPTIMIZER_NAME_NO_OPT = \"RMSprop\"\n",
        "LR_NO_OPT = 0.000122770896701404\n",
        "BATCH_SIZE_NO_OPT = 49\n",
        "N_EPOCHS_NO_OPT = 2 # NOTE: Set this properly.\n",
        "SCHEDULER_NAME_NO_OPT = \"ReduceLROnPlateau\"\n",
        "DROPOUT_RATE_NO_OPT = 0.2\n",
        "\n",
        "# Subparameters\n",
        "WEIGHT_DECAY_NO_OPT = 0.0008705866531443986\n",
        "BETA1_NO_OPT = 0.9948486404725556\n",
        "BETA2_NO_OPT = 0.9990123775599838\n",
        "STEP_SIZE_NO_OPT = 5\n",
        "GAMMA_NO_OPT = 0.10899783210727848\n",
        "\n",
        "\n",
        "N_INPUTS = 14  # Number of input features.\n",
        "N_OUTPUTS = 1  # Number of outputs.\n",
        "Gamma = 5/3  # Adiabatic index\n",
        "\n",
        "n_samples = 1e1 # NOTE: Set this properly.\n",
        "train_frac = 0.7  # 70% of data for training\n",
        "val_frac = 0.15  # 15% of data for validation, rest for testing\n",
        "\n",
        "rho_interval = (0, 2) \n",
        "epsilon_interval = (1e-2, 2000)  # Will be sampled in log space\n",
        "vx_interval = (0, 0.999)  \n",
        "vy_interval = (0, 0.999)  \n",
        "vz_interval = (0, 0.999)  \n",
        "Bx_interval = (-10, 10)  \n",
        "By_interval = (-10, 10)  \n",
        "Bz_interval = (-10, 10)  \n",
        "gxx_interval = (0.9, 1.1)\n",
        "gxy_interval = (0, 0.1)\n",
        "gxz_interval = (0, 0.1)\n",
        "gyy_interval = (0.9, 1.1)\n",
        "gyz_interval = (0, 0.1)\n",
        "gzz_interval = (0.9, 1.1)\n",
        "\n",
        "np.random.seed(200) # Comment for true random data.\n"
      ]
    },
    {
      "attachments": {},
      "cell_type": "markdown",
      "metadata": {
        "id": "dlaP5UL2UZh1"
      },
      "source": [
        "## Input data and labels\n",
        "\n",
        "We either generate the data or load the data. First the definitions for generating the data come below."
      ]
    },
    {
      "cell_type": "code",
      "execution_count": 58,
      "metadata": {
        "id": "s_EvGFZcUZh1"
      },
      "outputs": [
        {
          "name": "stderr",
          "output_type": "stream",
          "text": [
            "Future exception was never retrieved\n",
            "future: <Future finished exception=BrokenPipeError(32, 'Broken pipe')>\n",
            "Traceback (most recent call last):\n",
            "  File \"/usr/lib/python3.11/asyncio/unix_events.py\", line 687, in write\n",
            "    n = os.write(self._fileno, data)\n",
            "        ^^^^^^^^^^^^^^^^^^^^^^^^^^^^\n",
            "BrokenPipeError: [Errno 32] Broken pipe\n",
            "Future exception was never retrieved\n",
            "future: <Future finished exception=BrokenPipeError(32, 'Broken pipe')>\n",
            "Traceback (most recent call last):\n",
            "  File \"/usr/lib/python3.11/asyncio/unix_events.py\", line 687, in write\n",
            "    n = os.write(self._fileno, data)\n",
            "        ^^^^^^^^^^^^^^^^^^^^^^^^^^^^\n",
            "BrokenPipeError: [Errno 32] Broken pipe\n"
          ]
        }
      ],
      "source": [
        "# Defining an analytic equation of state (EOS) for an ideal gas\n",
        "def eos_analytic(rho, epsilon):\n",
        "    # Adding some assertions to check that the input tensors are valid and have \n",
        "    # the expected shape and type \n",
        "    assert isinstance(rho, torch.Tensor), \"rho must be a torch.Tensor\"\n",
        "    assert isinstance(epsilon, torch.Tensor), \"epsilon must be a torch.Tensor\"\n",
        "    print('rho.shape: ', rho.shape)\n",
        "    print('epsilon.shape: ', epsilon.shape)\n",
        "    assert rho.shape == epsilon.shape, \"rho and epsilon must have the same shape\"\n",
        "    assert rho.ndim == 1, \"rho and epsilon must be one-dimensional tensors\"\n",
        "    assert rho.dtype == torch.float32, \"rho and epsilon must have dtype torch.float32\"\n",
        "\n",
        "    return (Gamma - 1) * rho * epsilon\n",
        "\n",
        "def sample_primitive_variables_and_metric():\n",
        "    rho = np.random.uniform(*rho_interval)  \n",
        "    epsilon = np.random.uniform(*np.log10(epsilon_interval))\n",
        "    vx = np.random.uniform(*vx_interval)  \n",
        "    vy = np.random.uniform(*vy_interval)  \n",
        "    vz = np.random.uniform(*vz_interval)  \n",
        "    Bx = np.random.uniform(*Bx_interval)  \n",
        "    By = np.random.uniform(*By_interval)  \n",
        "    Bz = np.random.uniform(*Bz_interval)  \n",
        "    gxx = np.random.uniform(*gxx_interval)\n",
        "    gxy = np.random.uniform(*gxy_interval)\n",
        "    gxz = np.random.uniform(*gxz_interval)\n",
        "    gyy = np.random.uniform(*gyy_interval)\n",
        "    gyz = np.random.uniform(*gyz_interval)\n",
        "    gzz = np.random.uniform(*gzz_interval)\n",
        "\n",
        "    return rho, epsilon, vx, vy, vz, Bx, By, Bz, gxx, gxy, gxz, gyy, gyz, gzz\n",
        "\n",
        "def check_sample(rho, epsilon, vx, vy, vz, Bx, By, Bz, gxx, gxy, gxz, gyy, gyz, gzz):\n",
        "    wtemp_expr = 1 - (gxx * vx**2 + gyy * vy**2 + gzz * vz**2 + 2 * gxy * vx * vy + 2 * gxz * vx * vz + 2 * gyz * vy * vz)\n",
        "    sdet_expr = gxx * gyy * gzz + 2 * gxy * gxz * gyz - gxx * gyz ** 2 - gyy * gxz ** 2 - gzz * gxy ** 2\n",
        "    if vx**2 + vy**2 + vz**2 >= 1 or wtemp_expr < 0 or sdet_expr < 0:\n",
        "        # print(f\"Sample failed checks. vx^2+vy^2+vz^2: {vx**2 + vy**2 + vz**2}, wtemp_expr: {wtemp_expr}, sdet_expr: {sdet_expr}\")\n",
        "        return False\n",
        "    else:\n",
        "        # print(f\"Sample passed checks. vx^2+vy^2+vz^2: {vx**2 + vy**2 + vz**2}, wtemp_expr: {wtemp_expr}, sdet_expr: {sdet_expr}\")\n",
        "        return True\n",
        "\n",
        "def generate_samples(n_samples):\n",
        "    samples = []\n",
        "    while len(samples) < n_samples:\n",
        "        sample = sample_primitive_variables_and_metric()\n",
        "        if check_sample(*sample):\n",
        "            samples.append(sample)\n",
        "        # print(f\"Number of valid samples: {len(samples)}\")\n",
        "    return zip(*samples)\n",
        "def sdet(gxx, gxy, gxz, gyy, gyz, gzz):\n",
        "    # Determinant of the three metric.\n",
        "    return (gxx * gyy * gzz + 2 * gxy * gxz * gyz - gxx * gyz ** 2 - gyy * gxz ** 2 - gzz * gxy ** 2) ** 0.5\n",
        "\n",
        "# Defining a function that computes conserved variables from primitive variables and the metric\n",
        "# We follow the source code of GRaM-X: A new GPU-accelerated dynamical spacetime GRMHD code for Exascale\n",
        "# computing with the Einstein Toolkit of Shankar et al.\n",
        "def compute_conserved_variables(rho, epsilon, vx, vy, vz, Bx, By, Bz, gxx, gxy, gxz, gyy, gyz, gzz):\n",
        "    pres = eos_analytic(rho, epsilon)\n",
        "    wtemp = 1 / (1 - (gxx * vx**2 + gyy * vy**2 + gzz * vz**2 +\n",
        "        2 * gxy * vx * vy + 2 * gxz * vx * vz +\n",
        "        2 * gyz * vy * vz))**0.5\n",
        "\n",
        "    vlowx = gxx * vx + gxy * vy + gxz * vz\n",
        "    vlowy = gxy * vx + gyy * vy + gyz * vz\n",
        "    vlowz = gxz * vx + gyz * vy + gzz * vz\n",
        "\n",
        "    Bxlow = gxx * Bx + gxy * By + gxz * Bz\n",
        "    Bylow = gxy * Bx + gyy * By + gyz * Bz\n",
        "    Bzlow = gxz * Bx + gyz * By + gzz * Bz\n",
        "\n",
        "    B2 = Bxlow * Bx + Bylow * By + Bzlow * Bz\n",
        "\n",
        "    Bdotv = Bxlow * vx + Bylow * vy + Bzlow * vz\n",
        "    Bdotv2 = Bdotv * Bdotv\n",
        "    wtemp2 = wtemp * wtemp\n",
        "    b2 = B2 / wtemp2 + Bdotv2\n",
        "    ab0 = wtemp * Bdotv\n",
        "\n",
        "    blowx = (gxx * Bx + gxy * By + gxz * Bz) / wtemp + wtemp * Bdotv * vlowx\n",
        "    blowy = (gxy * Bx + gyy * By + gyz * Bz) / wtemp + wtemp * Bdotv * vlowy\n",
        "    blowz = (gxz * Bx + gyz * By + gzz * Bz) / wtemp + wtemp * Bdotv * vlowz\n",
        "\n",
        "    hrhow2 = (rho * (1 + epsilon) + pres + b2) * (wtemp) * (wtemp)\n",
        "\n",
        "    D = sdet(gxx, gxy, gxz, gyy, gyz, gzz) * rho * (wtemp)\n",
        "    Sx = sdet(gxx, gxy, gxz, gyy, gyz, gzz) * (hrhow2 * vlowx - ab0 * blowx)\n",
        "    Sy = sdet(gxx, gxy, gxz, gyy, gyz, gzz) * (hrhow2 * vlowy - ab0 * blowy)\n",
        "    Sz = sdet(gxx, gxy, gxz, gyy, gyz, gzz) * (hrhow2 * vlowz - ab0 * blowz)\n",
        "    tau = sdet(gxx, gxy, gxz, gyy, gyz, gzz) * (hrhow2 - pres - b2 / 2 - ab0 * ab0) - D\n",
        "    Bconsx = sdet(gxx, gxy, gxz, gyy, gyz, gzz) * Bx\n",
        "    Bconsy = sdet(gxx, gxy, gxz, gyy, gyz, gzz) * By\n",
        "    Bconsz = sdet(gxx, gxy, gxz, gyy, gyz, gzz) * Bz\n",
        "\n",
        "    return D, Sx, Sy, Sz, tau, Bconsx, Bconsy, Bconsz\n",
        "\n",
        "def generate_input_data(rho, epsilon, vx, vy, vz, Bx, By, Bz, gxx, gxy, gxz, gyy, gyz, gzz):\n",
        "    rho = torch.tensor(np.array(rho), dtype=torch.float32).to(device)\n",
        "    epsilon = torch.tensor(np.array(epsilon), dtype=torch.float32).to(device)\n",
        "    vx = torch.tensor(np.array(vx), dtype=torch.float32).to(device)\n",
        "    vy = torch.tensor(np.array(vy), dtype=torch.float32).to(device)\n",
        "    vz = torch.tensor(np.array(vz), dtype=torch.float32).to(device)\n",
        "    Bx = torch.tensor(np.array(Bx), dtype=torch.float32).to(device)\n",
        "    By = torch.tensor(np.array(By), dtype=torch.float32).to(device)\n",
        "    Bz = torch.tensor(np.array(Bz), dtype=torch.float32).to(device)\n",
        "    gxx = torch.tensor(np.array(gxx), dtype=torch.float32).to(device)\n",
        "    gxy = torch.tensor(np.array(gxy), dtype=torch.float32).to(device)\n",
        "    gxz = torch.tensor(np.array(gxz), dtype=torch.float32).to(device)\n",
        "    gyy = torch.tensor(np.array(gyy), dtype=torch.float32).to(device)\n",
        "    gyz = torch.tensor(np.array(gyz), dtype=torch.float32).to(device)\n",
        "    gzz = torch.tensor(np.array(gzz), dtype=torch.float32).to(device)\n",
        "\n",
        "    D, Sx, Sy, Sz, tau, Bscriptx, Bscripty, Bscriptz = compute_conserved_variables(\n",
        "        rho, epsilon, vx, vy, vz, Bx, By, Bz, gxx, gxy, gxz, gyy, gyz, gzz\n",
        "    ) \n",
        "\n",
        "    # Add gxx, gxy, gxz, gyy, gyz, gzz to the tensor\n",
        "    x = torch.stack([D, Sx, Sy, Sz, tau, Bscriptx, Bscripty, Bscriptz, gxx, gxy, gxz, gyy, gyz, gzz], axis=1)\n",
        "    return x\n",
        "\n",
        "# Defining a function that generates output data (labels) from given samples of primitive variables\n",
        "# We use the definitions as given in Recovery schemes for primitive variables in\n",
        "# general-relativistic magnetohydrodynamics of Siegel et al.\n",
        "def generate_labels(rho, epsilon, vx, vy, vz):\n",
        "    # Converting the numpy arrays to torch tensors and moving them to the device\n",
        "    rho = torch.tensor(np.array(rho), dtype=torch.float32).to(device)\n",
        "    epsilon = torch.tensor(np.array(epsilon), dtype=torch.float32).to(device)\n",
        "    vx = torch.tensor(np.array(vx), dtype=torch.float32).to(device)\n",
        "    vy = torch.tensor(np.array(vy), dtype=torch.float32).to(device)\n",
        "    vz = torch.tensor(np.array(vz), dtype=torch.float32).to(device)\n",
        "\n",
        "    # Computing the required quantities\n",
        "    pres = eos_analytic(rho, epsilon)\n",
        "    h = 1 + epsilon + pres / rho\n",
        "    W = 1 / torch.sqrt(1 - (vx * vx + vy * vy + vz * vz))\n",
        "\n",
        "    # Returning the output data tensor\n",
        "    return h * W"
      ]
    },
    {
      "attachments": {},
      "cell_type": "markdown",
      "metadata": {},
      "source": [
        "### Generating or loading input data and labels"
      ]
    },
    {
      "cell_type": "code",
      "execution_count": 59,
      "metadata": {},
      "outputs": [],
      "source": [
        "%config InteractiveShell.ast_node_interactivity = \"all\""
      ]
    },
    {
      "cell_type": "code",
      "execution_count": 60,
      "metadata": {
        "id": "cKubR6C8UZh4"
      },
      "outputs": [],
      "source": [
        "if LOAD_DATA_FROM_CSV:\n",
        "    # Load the data from CSV files\n",
        "    x_train = pd.read_csv(csv_filenames[\"x_train\"]).values\n",
        "    y_train = pd.read_csv(csv_filenames[\"y_train\"]).values.squeeze()  # reshape to 1D\n",
        "    x_val = pd.read_csv(csv_filenames[\"x_val\"]).values\n",
        "    y_val = pd.read_csv(csv_filenames[\"y_val\"]).values.squeeze()  # reshape to 1D\n",
        "    x_test = pd.read_csv(csv_filenames[\"x_test\"]).values\n",
        "    y_test = pd.read_csv(csv_filenames[\"y_test\"]).values.squeeze()  # reshape to 1D\n",
        "\n",
        "    # Convert numpy arrays to tensors\n",
        "    x_train = torch.from_numpy(x_train).float().to(device)\n",
        "    y_train = torch.from_numpy(y_train).float().to(device)\n",
        "    x_val = torch.from_numpy(x_val).float().to(device)\n",
        "    y_val = torch.from_numpy(y_val).float().to(device)\n",
        "    x_test = torch.from_numpy(x_test).float().to(device)\n",
        "    y_test = torch.from_numpy(y_test).float().to(device)\n",
        "\n",
        "    # This is an alternative to having if clauses around the cells that visualize these variables.\n",
        "    rho = epsilon = vx = vy = vz = Bx = By = Bz = gxx = gxy = gxz = gyy = gyz  = gzz = None"
      ]
    },
    {
      "cell_type": "code",
      "execution_count": 61,
      "metadata": {},
      "outputs": [],
      "source": [
        "if not LOAD_DATA_FROM_CSV:\n",
        "    # Sample primitive variables and metric\n",
        "    rho, epsilon, vx, vy, vz, Bx, By, Bz, gxx, gxy, gxz, gyy, gyz, gzz = generate_samples(n_samples)"
      ]
    },
    {
      "cell_type": "code",
      "execution_count": 62,
      "metadata": {},
      "outputs": [
        {
          "name": "stdout",
          "output_type": "stream",
          "text": [
            "rho.shape:  torch.Size([10])\n",
            "epsilon.shape:  torch.Size([10])\n",
            "rho.shape:  torch.Size([10])\n",
            "epsilon.shape:  torch.Size([10])\n"
          ]
        }
      ],
      "source": [
        "if not LOAD_DATA_FROM_CSV:\n",
        "    # Generate data and labels.\n",
        "    x = generate_input_data(rho, epsilon, vx, vy, vz, Bx, By, Bz, gxx, gxy, gxz, gyy, gyz, gzz)\n",
        "    y = generate_labels(rho, epsilon, vx, vy, vz)\n",
        "\n",
        "    # Calculate the number of samples in each set\n",
        "    n_train_samples = int(n_samples * train_frac)\n",
        "    n_val_samples = int(n_samples * val_frac)\n",
        "\n",
        "    # Create the data sets\n",
        "    x_train = x[:n_train_samples]\n",
        "    y_train = y[:n_train_samples]\n",
        "    x_val = x[n_train_samples : n_train_samples + n_val_samples]\n",
        "    y_val = y[n_train_samples : n_train_samples + n_val_samples]\n",
        "    x_test = x[n_train_samples + n_val_samples :]\n",
        "    y_test = y[n_train_samples + n_val_samples :]\n",
        "\n",
        "    # Save the data to CSV files; tensors need to be converted numpy arrays for saving in CSV.\n",
        "    pd.DataFrame(x_train.cpu().numpy()).to_csv(csv_filenames[\"x_train\"], index=False)\n",
        "    save_file(csv_filenames[\"x_train\"])\n",
        "    pd.DataFrame(y_train.cpu().numpy()).to_csv(csv_filenames[\"y_train\"], index=False)\n",
        "    save_file(csv_filenames[\"y_train\"])\n",
        "\n",
        "    pd.DataFrame(x_val.cpu().numpy()).to_csv(csv_filenames[\"x_val\"], index=False)\n",
        "    save_file(csv_filenames[\"x_val\"])\n",
        "    pd.DataFrame(y_val.cpu().numpy()).to_csv(csv_filenames[\"y_val\"], index=False)\n",
        "    save_file(csv_filenames[\"y_val\"])\n",
        "\n",
        "    pd.DataFrame(x_test.cpu().numpy()).to_csv(csv_filenames[\"x_test\"], index=False)\n",
        "    save_file(csv_filenames[\"x_test\"])\n",
        "    pd.DataFrame(y_test.cpu().numpy()).to_csv(csv_filenames[\"y_test\"], index=False)\n",
        "    save_file(csv_filenames[\"y_test\"])"
      ]
    },
    {
      "cell_type": "code",
      "execution_count": 63,
      "metadata": {},
      "outputs": [
        {
          "data": {
            "text/plain": [
              "torch.Size([7, 14])"
            ]
          },
          "execution_count": 63,
          "metadata": {},
          "output_type": "execute_result"
        },
        {
          "data": {
            "text/plain": [
              "torch.Size([7])"
            ]
          },
          "execution_count": 63,
          "metadata": {},
          "output_type": "execute_result"
        },
        {
          "data": {
            "text/plain": [
              "torch.Size([1, 14])"
            ]
          },
          "execution_count": 63,
          "metadata": {},
          "output_type": "execute_result"
        },
        {
          "data": {
            "text/plain": [
              "torch.Size([1])"
            ]
          },
          "execution_count": 63,
          "metadata": {},
          "output_type": "execute_result"
        },
        {
          "data": {
            "text/plain": [
              "torch.Size([2, 14])"
            ]
          },
          "execution_count": 63,
          "metadata": {},
          "output_type": "execute_result"
        },
        {
          "data": {
            "text/plain": [
              "torch.Size([2])"
            ]
          },
          "execution_count": 63,
          "metadata": {},
          "output_type": "execute_result"
        },
        {
          "data": {
            "text/plain": [
              "tensor([[ 3.7450e+00,  1.3706e+01, -3.3741e+01,  8.6508e+00,  6.5901e+01,\n",
              "          9.4599e+00,  6.9548e+00,  3.9088e-01,  1.0747e+00,  5.7838e-02,\n",
              "          4.5008e-02,  1.0360e+00,  4.1943e-02,  1.0281e+00],\n",
              "        [ 9.7921e-01,  4.7586e+00,  7.4672e+01,  3.7311e+01,  7.8926e+01,\n",
              "          2.4250e+00, -4.3737e+00,  8.4880e+00,  1.0439e+00,  9.5291e-02,\n",
              "          3.9711e-02,  1.0977e+00,  4.5249e-02,  1.0456e+00],\n",
              "        [ 8.6477e-01,  1.8976e+01,  4.4707e+01,  5.4674e+01,  9.7930e+01,\n",
              "         -6.4505e-01, -1.0159e+01,  8.9600e+00,  1.0861e+00,  5.1430e-02,\n",
              "          5.4333e-02,  1.0107e+00,  8.4464e-02,  1.0835e+00],\n",
              "        [ 6.7121e+00,  1.4228e+01,  7.8286e+01,  1.1174e+02,  1.2794e+02,\n",
              "          2.1634e-01, -8.6323e+00,  6.1789e+00,  9.3036e-01,  9.5735e-02,\n",
              "          2.8994e-03,  9.4382e-01,  9.2118e-02,  9.6459e-01],\n",
              "        [ 4.1942e+00,  5.3422e+01, -1.7381e+00,  5.8757e+01,  9.0281e+01,\n",
              "          4.6712e+00,  6.3870e+00,  1.6893e-01,  9.2106e-01,  6.5579e-02,\n",
              "          7.9952e-03,  9.5621e-01,  6.9346e-02,  9.6559e-01],\n",
              "        [ 3.2268e-01,  4.7780e+01,  1.5621e+01,  4.2585e+01,  7.6768e+01,\n",
              "         -7.2302e+00, -4.3521e-01,  8.2683e+00,  9.8332e-01,  6.6872e-03,\n",
              "          2.0512e-03,  1.0687e+00,  9.1888e-02,  9.1135e-01],\n",
              "        [ 5.1664e-01,  3.9383e+01,  5.6194e+01, -4.4510e+01,  8.8779e+01,\n",
              "         -5.3498e+00, -3.3979e+00, -9.0176e+00,  1.0684e+00,  8.0932e-02,\n",
              "          6.4093e-02,  1.0391e+00,  2.2755e-03,  9.0982e-01]])"
            ]
          },
          "execution_count": 63,
          "metadata": {},
          "output_type": "execute_result"
        },
        {
          "data": {
            "text/plain": [
              "tensor([-2.2589,  0.7164,  6.5718,  3.5487, 11.7419, -0.4564,  0.0770])"
            ]
          },
          "execution_count": 63,
          "metadata": {},
          "output_type": "execute_result"
        },
        {
          "data": {
            "text/plain": [
              "tensor([[ 5.6577e-01, -3.0810e-01,  6.5400e+01,  5.5828e+01,  8.5464e+01,\n",
              "         -1.0421e+01, -1.3270e+00,  1.4456e+00,  1.0353e+00,  5.5481e-02,\n",
              "          7.9763e-03,  1.0242e+00,  4.5275e-02,  1.1000e+00]])"
            ]
          },
          "execution_count": 63,
          "metadata": {},
          "output_type": "execute_result"
        },
        {
          "data": {
            "text/plain": [
              "tensor([2.3706])"
            ]
          },
          "execution_count": 63,
          "metadata": {},
          "output_type": "execute_result"
        },
        {
          "data": {
            "text/plain": [
              "tensor([[ 1.9674e+00, -1.4929e+01, -2.6796e+00,  3.7141e+01,  6.8020e+01,\n",
              "         -4.2097e+00, -7.4549e+00, -4.0306e+00,  9.9419e-01,  4.5098e-02,\n",
              "          8.3877e-02,  9.5463e-01,  7.4170e-02,  9.2853e-01],\n",
              "        [ 2.7797e+00,  6.1454e+00,  2.0219e+01,  7.2783e+00,  2.7145e+01,\n",
              "         -4.7771e+00,  1.4725e+00, -3.7640e+00,  1.0590e+00,  6.2832e-02,\n",
              "          1.6599e-02,  9.7471e-01,  2.1118e-02,  1.0921e+00]])"
            ]
          },
          "execution_count": 63,
          "metadata": {},
          "output_type": "execute_result"
        },
        {
          "data": {
            "text/plain": [
              "tensor([7.8333, 1.9724])"
            ]
          },
          "execution_count": 63,
          "metadata": {},
          "output_type": "execute_result"
        }
      ],
      "source": [
        "\n",
        "x_train.shape\n",
        "y_train.shape\n",
        "x_val.shape\n",
        "y_val.shape\n",
        "x_test.shape\n",
        "y_test.shape\n",
        "x_train\n",
        "y_train\n",
        "x_val\n",
        "y_val\n",
        "x_test\n",
        "y_test"
      ]
    },
    {
      "cell_type": "code",
      "execution_count": 64,
      "metadata": {},
      "outputs": [
        {
          "data": {
            "text/plain": [
              "tensor(False)"
            ]
          },
          "execution_count": 64,
          "metadata": {},
          "output_type": "execute_result"
        },
        {
          "data": {
            "text/plain": [
              "tensor(False)"
            ]
          },
          "execution_count": 64,
          "metadata": {},
          "output_type": "execute_result"
        },
        {
          "data": {
            "text/plain": [
              "tensor(False)"
            ]
          },
          "execution_count": 64,
          "metadata": {},
          "output_type": "execute_result"
        },
        {
          "data": {
            "text/plain": [
              "tensor(False)"
            ]
          },
          "execution_count": 64,
          "metadata": {},
          "output_type": "execute_result"
        },
        {
          "data": {
            "text/plain": [
              "tensor(False)"
            ]
          },
          "execution_count": 64,
          "metadata": {},
          "output_type": "execute_result"
        },
        {
          "data": {
            "text/plain": [
              "tensor(False)"
            ]
          },
          "execution_count": 64,
          "metadata": {},
          "output_type": "execute_result"
        }
      ],
      "source": [
        "torch.isnan(x_train).any()\n",
        "torch.isnan(x_val).any()\n",
        "torch.isnan(x_test).any()\n",
        "torch.isnan(y_train).any()\n",
        "torch.isnan(y_val).any()\n",
        "torch.isnan(y_test).any()"
      ]
    },
    {
      "cell_type": "code",
      "execution_count": 65,
      "metadata": {},
      "outputs": [
        {
          "data": {
            "text/plain": [
              "(tensor([], dtype=torch.int64), tensor([], dtype=torch.int64))"
            ]
          },
          "execution_count": 65,
          "metadata": {},
          "output_type": "execute_result"
        },
        {
          "data": {
            "text/plain": [
              "(tensor([], dtype=torch.int64), tensor([], dtype=torch.int64))"
            ]
          },
          "execution_count": 65,
          "metadata": {},
          "output_type": "execute_result"
        },
        {
          "data": {
            "text/plain": [
              "(tensor([], dtype=torch.int64), tensor([], dtype=torch.int64))"
            ]
          },
          "execution_count": 65,
          "metadata": {},
          "output_type": "execute_result"
        }
      ],
      "source": [
        "nan_mask_train = torch.isnan(x_train)     # get a boolean mask indicating NaN values\n",
        "nan_indices_train = torch.where(nan_mask_train)  # get the indices of the NaN values\n",
        "nan_indices_train\n",
        "# len(nan_indices_train)\n",
        "\n",
        "nan_mask_val = torch.isnan(x_val)     # get a boolean mask indicating NaN values\n",
        "nan_indices_val = torch.where(nan_mask_val)  # get the indices of the NaN values\n",
        "nan_indices_val\n",
        "# len(nan_indices_test)\n",
        "\n",
        "nan_mask_test = torch.isnan(x_test)     # get a boolean mask indicating NaN values\n",
        "nan_indices_test = torch.where(nan_mask_test)  # get the indices of the NaN values\n",
        "nan_indices_test\n",
        "# len(nan_indices_test)"
      ]
    },
    {
      "attachments": {},
      "cell_type": "markdown",
      "metadata": {},
      "source": [
        "## Visualizing the data"
      ]
    },
    {
      "attachments": {},
      "cell_type": "markdown",
      "metadata": {},
      "source": [
        "### Visualizing sampled data"
      ]
    },
    {
      "cell_type": "code",
      "execution_count": 66,
      "metadata": {},
      "outputs": [
        {
          "name": "stdout",
          "output_type": "stream",
          "text": [
            "skipping\n"
          ]
        }
      ],
      "source": [
        "%%script echo skipping\n",
        "\n",
        "if not LOAD_DATA_FROM_CSV:\n",
        "    rho\n",
        "    epsilon\n",
        "    vx\n",
        "    vy\n",
        "    vz \n",
        "    Bx\n",
        "    By\n",
        "    Bz\n",
        "    gxx\n",
        "    gxy\n",
        "    gxz\n",
        "    gyy\n",
        "    gyz\n",
        "    gzz "
      ]
    },
    {
      "cell_type": "code",
      "execution_count": 67,
      "metadata": {},
      "outputs": [
        {
          "name": "stdout",
          "output_type": "stream",
          "text": [
            "10\n",
            "10\n",
            "10\n",
            "10\n",
            "10\n",
            "10\n",
            "10\n",
            "10\n",
            "\n",
            "10\n",
            "10\n",
            "10\n",
            "10\n",
            "10\n",
            "10\n"
          ]
        }
      ],
      "source": [
        "if not LOAD_DATA_FROM_CSV:\n",
        "    print(len(rho))\n",
        "    print(len(epsilon))\n",
        "    print(len(vx))\n",
        "    print(len(vy))\n",
        "    print(len(vz))\n",
        "    print(len(Bx))\n",
        "    print(len(By))\n",
        "    print(len(Bz))\n",
        "    print()\n",
        "    print(len(gxx))\n",
        "    print(len(gxy))\n",
        "    print(len(gxz))\n",
        "    print(len(gyy))\n",
        "    print(len(gyz))\n",
        "    print(len(gzz))"
      ]
    },
    {
      "cell_type": "code",
      "execution_count": 68,
      "metadata": {
        "id": "VMp6XJ6RUZh4"
      },
      "outputs": [],
      "source": [
        "%config InteractiveShell.ast_node_interactivity = \"last_expr_or_assign\""
      ]
    },
    {
      "cell_type": "code",
      "execution_count": 69,
      "metadata": {},
      "outputs": [
        {
          "name": "stdout",
          "output_type": "stream",
          "text": [
            "skipping\n"
          ]
        }
      ],
      "source": [
        "%%script echo skipping\n",
        "\n",
        "plt.hist([np.random.uniform(0, 0.999) for _ in range(n_train_samples)], bins=20)"
      ]
    },
    {
      "cell_type": "code",
      "execution_count": 70,
      "metadata": {},
      "outputs": [
        {
          "name": "stdout",
          "output_type": "stream",
          "text": [
            "skipping\n"
          ]
        }
      ],
      "source": [
        "%%script echo skipping\n",
        "\n",
        "epsilon"
      ]
    },
    {
      "attachments": {},
      "cell_type": "markdown",
      "metadata": {},
      "source": [
        "The reason the sampling is not uniformly distributed in the following plots is due to the resampling and the fact that we certain values of e.g. velocity are more likely to violate the speed of light constraint than others."
      ]
    },
    {
      "cell_type": "code",
      "execution_count": 71,
      "metadata": {
        "colab": {
          "base_uri": "https://localhost:8080/",
          "height": 409
        },
        "id": "E5YFdqKjUZh5",
        "outputId": "fe67d113-f369-495f-9aba-201c71058eb7"
      },
      "outputs": [
        {
          "name": "stderr",
          "output_type": "stream",
          "text": [
            "Future exception was never retrieved\n",
            "future: <Future finished exception=BrokenPipeError(32, 'Broken pipe')>\n",
            "Traceback (most recent call last):\n",
            "  File \"/usr/lib/python3.11/asyncio/unix_events.py\", line 687, in write\n",
            "    n = os.write(self._fileno, data)\n",
            "        ^^^^^^^^^^^^^^^^^^^^^^^^^^^^\n",
            "BrokenPipeError: [Errno 32] Broken pipe\n",
            "Future exception was never retrieved\n",
            "future: <Future finished exception=BrokenPipeError(32, 'Broken pipe')>\n",
            "Traceback (most recent call last):\n",
            "  File \"/usr/lib/python3.11/asyncio/unix_events.py\", line 687, in write\n",
            "    n = os.write(self._fileno, data)\n",
            "        ^^^^^^^^^^^^^^^^^^^^^^^^^^^^\n",
            "BrokenPipeError: [Errno 32] Broken pipe\n"
          ]
        },
        {
          "data": {
            "image/png": "[encoded data removed]",
            "text/plain": [
              "<Figure size 2000x1600 with 14 Axes>"
            ]
          },
          "metadata": {},
          "output_type": "display_data"
        }
      ],
      "source": [
        "#%%script echo skipping\n",
        "\n",
        "if not LOAD_DATA_FROM_CSV:\n",
        "    def plot_histogram(data, xlabel, ylabel, position, bins=20, xlog_scale=False, ylog_scale=False):\n",
        "        plt.subplot(4, 5, position)\n",
        "        plt.hist(data, bins=bins)\n",
        "        plt.xlabel(xlabel)\n",
        "        plt.ylabel(ylabel)\n",
        "        if xlog_scale: # Setting does not work expected for epsilon.\n",
        "            plt.xscale(\"log\")\n",
        "        if ylog_scale: # Setting does not work expected for epsilon.\n",
        "            plt.yscale(\"log\")\n",
        "\n",
        "    # Plotting the histograms of rho, vx, epsilon, b0, b1, b2, and b3\n",
        "    bins = 20\n",
        "    plt.figure(figsize=(20, 16))\n",
        "\n",
        "    plot_histogram(rho, \"rho\", \"Frequency\", 1, bins=bins)\n",
        "    plot_histogram(epsilon, \"epsilon\", \"Frequency\", 2, bins=bins)\n",
        "    plot_histogram(vx, \"vx\", \"Frequency\", 3, bins=bins)\n",
        "    plot_histogram(vy, \"vy\", \"Frequency\", 4, bins=bins)\n",
        "    plot_histogram(vz, \"vz\", \"Frequency\", 5, bins=bins)\n",
        "    plot_histogram(Bx, \"Bx\", \"Frequency\", 6, bins=bins)\n",
        "    plot_histogram(By, \"By\", \"Frequency\", 7, bins=bins)\n",
        "    plot_histogram(Bz, \"Bz\", \"Frequency\", 8, bins=bins)\n",
        "\n",
        "    # Plot these\n",
        "    plot_histogram(gxx, \"gxx\", \"Frequency\", 9, bins=bins)\n",
        "    plot_histogram(gxy, \"gxy\", \"Frequency\", 10, bins=bins)\n",
        "    plot_histogram(gxz, \"gxz\", \"Frequency\", 11, bins=bins)\n",
        "    plot_histogram(gyy, \"gyy\", \"Frequency\", 12, bins=bins)\n",
        "    plot_histogram(gyz, \"gyz\", \"Frequency\", 13, bins=bins)\n",
        "    plot_histogram(gzz, \"gzz\", \"Frequency\", 14, bins=bins)\n",
        "\n",
        "\n",
        "    plt.suptitle(\"Primitive variables and metric\")\n",
        "    plt.tight_layout()\n",
        "    plt.show()\n"
      ]
    },
    {
      "cell_type": "code",
      "execution_count": 72,
      "metadata": {},
      "outputs": [],
      "source": [
        "%config InteractiveShell.ast_node_interactivity = \"last_expr_or_assign\""
      ]
    },
    {
      "cell_type": "code",
      "execution_count": 73,
      "metadata": {},
      "outputs": [
        {
          "data": {
            "image/png": "[encoded data removed]",
            "text/plain": [
              "<Figure size 1600x1600 with 14 Axes>"
            ]
          },
          "metadata": {},
          "output_type": "display_data"
        }
      ],
      "source": [
        "#%%script echo skipping\n",
        "\n",
        "# Variable names\n",
        "variable_names = [\"D\", \"Sx\", \"Sy\", \"Sz\", \"tau\", \"Bconsx\", \"Bconsy\", \"Bconsz\", \"gxx\", \"gxy\", \"gxz\", \"gyy\", \"gyz\", \"gzz\"]\n",
        "\n",
        "# Plotting histograms of the input variables before z-score normalization\n",
        "plt.figure(figsize=(16, 16))\n",
        "plt.suptitle('Histograms of input variables before (or without at all) z-score normalization', y=1.03)\n",
        "\n",
        "for i in range(N_INPUTS):\n",
        "    plt.subplot(7, 2, i+1)\n",
        "    data = x_train[:, i].cpu().numpy() # Convert tensor to numpy array for percentile calculation\n",
        "    lower_bound, upper_bound = np.percentile(data, [1, 100]) # NOTE: Use this instead to visualize all the data.\n",
        "    # lower_bound, upper_bound = np.percentile(data, [1, 90]) # Calculate 1st and 99th percentile\n",
        "\n",
        "    plt.hist(data, bins=50, range=(lower_bound, upper_bound)) # Set range to the calculated percentile range\n",
        "    plt.xlabel(variable_names[i])\n",
        "    plt.xlim(lower_bound, upper_bound) # Set the x limit to match the range of the histogram\n",
        "\n",
        "plt.subplots_adjust(hspace=0.4, wspace=0.4)\n",
        "plt.show()\n",
        "\n",
        "# Same plotting but for the test data. Adjust the percentile range as needed to zoom in.\n",
        "# plt.figure(figsize=(16, 16))\n",
        "# plt.suptitle('Histograms of input variables before (or without at all) z-score normalization (test data)', y=1.03)\n",
        "\n",
        "# for i in range(14):\n",
        "#     plt.subplot(7, 2, i+1)\n",
        "#     data = x_test[:, i].cpu().numpy() # Convert tensor to numpy array for percentile calculation\n",
        "#     #lower_bound, upper_bound = np.percentile(data, [1, 100]) # NOTE: Use this instead to visualize all the data.\n",
        "#     lower_bound, upper_bound = np.percentile(data, [1, 99]) # Use this to zoom in.\n",
        "\n",
        "#     plt.hist(data, bins=50, range=(lower_bound, upper_bound)) # Set range to the calculated percentile range\n",
        "#     plt.xlabel(variable_names[i])\n",
        "#     plt.xlim(lower_bound, upper_bound) # Set the x limit to match the range of the histogram\n",
        "\n",
        "# plt.subplots_adjust(hspace=0.4, wspace=0.4)\n",
        "# plt.show()\n",
        "\n"
      ]
    },
    {
      "attachments": {},
      "cell_type": "markdown",
      "metadata": {},
      "source": [
        "### Data normalization"
      ]
    },
    {
      "cell_type": "code",
      "execution_count": 74,
      "metadata": {},
      "outputs": [
        {
          "name": "stdout",
          "output_type": "stream",
          "text": [
            "Summary statistics of input variables before z-score normalization\n",
            "tensor([[ 3.2268e-01,  6.7121e+00,  2.4764e+00,  9.7921e-01,  2.4433e+00],\n",
            "        [ 4.7586e+00,  5.3422e+01,  2.7465e+01,  1.8976e+01,  1.9064e+01],\n",
            "        [-3.3741e+01,  7.8286e+01,  3.3429e+01,  4.4707e+01,  4.1682e+01],\n",
            "        [-4.4510e+01,  1.1174e+02,  3.8459e+01,  4.2585e+01,  4.8021e+01],\n",
            "        [ 6.5901e+01,  1.2794e+02,  8.9504e+01,  8.8779e+01,  1.9919e+01],\n",
            "        [-7.2302e+00,  9.4599e+00,  5.0676e-01,  2.1634e-01,  5.7264e+00],\n",
            "        [-1.0159e+01,  6.9548e+00, -1.9508e+00, -3.3979e+00,  6.7219e+00],\n",
            "        [-9.0176e+00,  8.9600e+00,  3.3482e+00,  6.1789e+00,  6.6068e+00],\n",
            "        [ 9.2106e-01,  1.0861e+00,  1.0154e+00,  1.0439e+00,  6.9867e-02],\n",
            "        [ 6.6872e-03,  9.5735e-02,  6.4785e-02,  6.5579e-02,  3.0962e-02],\n",
            "        [ 2.0512e-03,  6.4093e-02,  3.0870e-02,  3.9711e-02,  2.6040e-02],\n",
            "        [ 9.4382e-01,  1.0977e+00,  1.0217e+00,  1.0360e+00,  5.6228e-02],\n",
            "        [ 2.2755e-03,  9.2118e-02,  6.1040e-02,  6.9346e-02,  3.3172e-02],\n",
            "        [ 9.0982e-01,  1.0835e+00,  9.8693e-01,  9.6559e-01,  6.7167e-02]])\n"
          ]
        }
      ],
      "source": [
        "# Computing summary statistics of the input variables before and after z-score normalization\n",
        "print('Summary statistics of input variables before z-score normalization')\n",
        "print(torch.stack([torch.min(x_train, dim=0).values, torch.max(x_train, dim=0).values, torch.nanmean(x_train, dim=0), torch.median(x_train, dim=0).values, torch.std(x_train, dim=0)], dim=1))"
      ]
    },
    {
      "attachments": {},
      "cell_type": "markdown",
      "metadata": {
        "id": "xTEmkR1SUZh7"
      },
      "source": [
        "Perform z-score normalization"
      ]
    },
    {
      "cell_type": "code",
      "execution_count": 75,
      "metadata": {},
      "outputs": [],
      "source": [
        "%config InteractiveShell.ast_node_interactivity = \"all\""
      ]
    },
    {
      "cell_type": "code",
      "execution_count": 76,
      "metadata": {
        "id": "yPOv6DxhUZh7"
      },
      "outputs": [],
      "source": [
        "if ZSCORE_NORMALIZATION:\n",
        "    \n",
        "    # TODO: Add magnetic field variables to the normalization if I decide to use the old code that is commented out here.\n",
        "    # # Computing the median of each input variable from the training set using torch.nanmedian function\n",
        "    # D_median = torch.nanmedian(x_train[:, 0])\n",
        "    # Sx_median = torch.nanmedian(x_train[:, 1])\n",
        "    # Sy_median = torch.nanmedian(x_train[:, 2])\n",
        "    # Sz_median = torch.nanmedian(x_train[:, 3])\n",
        "    # tau_median = torch.nanmedian(x_train[:, 4])\n",
        "\n",
        "    # # Computing the standard deviation of each input variable from the training set using torch.std function with a boolean mask to ignore nan values\n",
        "    # D_std = torch.std(x_train[~torch.isnan(x_train[:, 0]), 0])\n",
        "    # Sx_std = torch.std(x_train[~torch.isnan(x_train[:, 1]), 1])\n",
        "    # Sy_std = torch.std(x_train[~torch.isnan(x_train[:, 2]), 2])\n",
        "    # Sz_std = torch.std(x_train[~torch.isnan(x_train[:, 3]), 3])\n",
        "    # tau_std = torch.std(x_train[~torch.isnan(x_train[:, 4]), 4])\n",
        "\n",
        "\n",
        "    # # Applying z-score normalization to both train and test sets using the statistics from the training set\n",
        "    # x_train[:, 0] = torch.sub(x_train[:, 0], D_median).div(D_std)\n",
        "    # x_train[:, 1] = torch.sub(x_train[:, 1], Sx_median).div(Sx_std)\n",
        "    # x_train[:, 2] = torch.sub(x_train[:, 2], Sy_median).div(Sy_std)\n",
        "    # x_train[:, 3] = torch.sub(x_train[:, 3], Sz_median).div(Sz_std)\n",
        "    # x_train[:, 4] = torch.sub(x_train[:, 4], tau_median).div(tau_std)\n",
        "\n",
        "    # x_test[:, 0] = torch.sub(x_test[:, 0], D_median).div(D_std)\n",
        "    # x_test[:, 1] = torch.sub(x_test[:, 1], Sx_median).div(Sx_std)\n",
        "    # x_test[:, 2] = torch.sub(x_test[:, 2], Sy_median).div(Sy_std)\n",
        "    # x_test[:, 3] = torch.sub(x_test[:, 3], Sz_median).div(Sz_std)\n",
        "    # x_test[:, 4] = torch.sub(x_test[:, 4], tau_median).div(tau_std)\n",
        "\n",
        "    # Computing the mean and standard deviation of each column\n",
        "    mean = x_train.mean(dim=0)\n",
        "    std = x_train.std(dim=0)\n",
        "\n",
        "    # Applying z-score normalization\n",
        "    x_train = (x_train - mean) / std\n",
        "    # Use the same mean and std from the training data as we don't want test data leakage.\n",
        "    x_test = (x_test - mean) / std\n",
        "\n"
      ]
    },
    {
      "attachments": {},
      "cell_type": "markdown",
      "metadata": {},
      "source": [
        "Plotting the histograms of the input data after normalization if z-score normalization was performed."
      ]
    },
    {
      "cell_type": "code",
      "execution_count": 77,
      "metadata": {},
      "outputs": [],
      "source": [
        "%config InteractiveShell.ast_node_interactivity = \"last_expr_or_assign\""
      ]
    },
    {
      "cell_type": "code",
      "execution_count": 78,
      "metadata": {},
      "outputs": [],
      "source": [
        "if not LOAD_DATA_FROM_CSV:\n",
        "    if ZSCORE_NORMALIZATION:\n",
        "        # Variable names\n",
        "        variable_names = [\"D\", \"Sx\", \"Sy\", \"Sz\", \"tau\", \"Bconsx\", \"Bconsy\", \"Bconsz\", \"gxx\", \"gxy\", \"gxz\", \"gyy\", \"gyz\", \"gzz\"]\n",
        "\n",
        "        # Plotting histograms of the input variables before z-score normalization\n",
        "        plt.figure(figsize=(16, 16))\n",
        "        plt.suptitle('Histograms of input variables before (or without at all) z-score normalization', y=1.03)\n",
        "\n",
        "        for i in range(N_INPUTS):\n",
        "            plt.subplot(7, 2, i+1)\n",
        "            data = x_train[:, i].cpu().numpy() # Convert tensor to numpy array for percentile calculation\n",
        "            lower_bound, upper_bound = np.percentile(data, [1, 100]) # NOTE: Use this instead to visualize all the data.\n",
        "            # lower_bound, upper_bound = np.percentile(data, [1, 90]) # Calculate 1st and 99th percentile\n",
        "\n",
        "            plt.hist(data, bins=50, range=(lower_bound, upper_bound)) # Set range to the calculated percentile range\n",
        "            plt.xlabel(variable_names[i])\n",
        "            plt.xlim(lower_bound, upper_bound) # Set the x limit to match the range of the histogram\n",
        "\n",
        "        plt.subplots_adjust(hspace=0.4, wspace=0.4)\n",
        "        plt.show()"
      ]
    },
    {
      "cell_type": "code",
      "execution_count": 79,
      "metadata": {},
      "outputs": [],
      "source": [
        "if ZSCORE_NORMALIZATION:\n",
        "    # Computing summary statistics of the input variables after z-score normalization\n",
        "    print('Summary statistics of input variables after z-score normalization')\n",
        "    print(torch.stack([torch.min(x_train, dim=0).values, torch.max(x_train, dim=0).values, torch.mean(x_train, dim=0), torch.median(x_train, dim=0).values, torch.std(x_train, dim=0)], dim=1))\n"
      ]
    },
    {
      "attachments": {},
      "cell_type": "markdown",
      "metadata": {},
      "source": [
        "### Visualizing input data and labels"
      ]
    },
    {
      "cell_type": "code",
      "execution_count": 80,
      "metadata": {},
      "outputs": [
        {
          "data": {
            "text/plain": [
              "tensor([7.8333, 1.9724])"
            ]
          },
          "execution_count": 80,
          "metadata": {},
          "output_type": "execute_result"
        }
      ],
      "source": [
        "x_train\n",
        "y_train\n",
        "x_val\n",
        "y_val\n",
        "x_test\n",
        "y_test"
      ]
    },
    {
      "attachments": {},
      "cell_type": "markdown",
      "metadata": {
        "colab": {
          "base_uri": "https://localhost:8080/",
          "height": 407
        },
        "id": "E96p_MsOUZh9",
        "outputId": "4b95bad0-8f3a-4364-eed1-008e0ce2a5e3"
      },
      "source": [
        "Checking if our output is always positive ~~by plotting a histogram of y_train and y_test tensors~~"
      ]
    },
    {
      "cell_type": "code",
      "execution_count": 81,
      "metadata": {},
      "outputs": [
        {
          "name": "stdout",
          "output_type": "stream",
          "text": [
            "tensor(True)\n"
          ]
        }
      ],
      "source": [
        "import torch\n",
        "\n",
        "# Create a sample tensor\n",
        "tensor = torch.randn(80000, 14)  # Assuming a tensor of shape [80000, 14]\n",
        "tensor\n",
        "\n",
        "\n",
        "# Check if any element is negative\n",
        "any_negative = torch.any(tensor < 0)\n",
        "\n",
        "# Print the result\n",
        "print(any_negative)\n"
      ]
    },
    {
      "cell_type": "code",
      "execution_count": 82,
      "metadata": {},
      "outputs": [
        {
          "data": {
            "text/plain": [
              "tensor(True)"
            ]
          },
          "execution_count": 82,
          "metadata": {},
          "output_type": "execute_result"
        }
      ],
      "source": [
        "y_train.shape\n",
        "any_negative = torch.any(y_train < 0)\n",
        "any_negative\n",
        "\n",
        "y_test.shape\n",
        "any_negative = torch.any(y_test < 0)\n",
        "any_negative\n",
        "\n",
        "x_train.shape\n",
        "any_negative = torch.any(x_train < 0)\n",
        "any_negative"
      ]
    },
    {
      "cell_type": "code",
      "execution_count": 83,
      "metadata": {},
      "outputs": [
        {
          "data": {
            "image/png": "[encoded data removed]",
            "text/plain": [
              "<Figure size 800x400 with 3 Axes>"
            ]
          },
          "metadata": {},
          "output_type": "display_data"
        }
      ],
      "source": [
        "#%%script echo skipping\n",
        "\n",
        "plt.figure(figsize=(8, 4))\n",
        "plt.subplot(1, 3, 1)\n",
        "plt.hist(y_train.cpu().numpy(), bins=100) # must be cpu here.\n",
        "plt.xlabel(\"y_train\")\n",
        "plt.ylabel(\"Frequency\")\n",
        "plt.xscale(\"log\")\n",
        "plt.subplot(1, 3, 2)\n",
        "plt.hist(y_val.cpu().numpy(), bins=100) # must be cpu here\n",
        "plt.xlabel(\"y_val\")\n",
        "plt.ylabel(\"Frequency\")\n",
        "plt.xscale(\"log\")\n",
        "plt.tight_layout()\n",
        "plt.subplot(1, 3, 3)\n",
        "plt.hist(y_test.cpu().numpy(), bins=100) # must be cpu here\n",
        "plt.xlabel(\"y_test\")\n",
        "plt.ylabel(\"Frequency\")\n",
        "plt.xscale(\"log\")\n",
        "plt.tight_layout()\n",
        "plt.show()\n"
      ]
    },
    {
      "cell_type": "code",
      "execution_count": 84,
      "metadata": {
        "id": "FEgjk--AUZh9"
      },
      "outputs": [],
      "source": [
        "%config InteractiveShell.ast_node_interactivity = \"all\""
      ]
    },
    {
      "attachments": {},
      "cell_type": "markdown",
      "metadata": {
        "id": "r2b9GecHUZh9"
      },
      "source": [
        "## Defining the neural network"
      ]
    },
    {
      "cell_type": "code",
      "execution_count": 85,
      "metadata": {
        "id": "Iv8HA-ZXUZh-"
      },
      "outputs": [],
      "source": [
        "# Defining a class for the network\n",
        "class Net(nn.Module):\n",
        "    \"\"\"A class for creating a network with a\n",
        "    variable number of hidden layers and units.\n",
        "\n",
        "    Attributes:\n",
        "        n_layers (int): The number of hidden layers in the network.\n",
        "        n_units (list): A list of integers representing the number of units in each hidden layer.\n",
        "        hidden_activation (torch.nn.Module): The activation function for the hidden layers.\n",
        "        output_activation (torch.nn.Module): The activation function for the output layer.\n",
        "        layers (torch.nn.ModuleList): A list of linear layers in the network.\n",
        "    \"\"\"\n",
        "\n",
        "    def __init__(self, n_layers, n_units, hidden_activation, output_activation, dropout_rate):\n",
        "        \"\"\"Initializes the network with the given hyperparameters.\n",
        "\n",
        "        Args:\n",
        "            n_layers (int): The number of hidden layers in the network.\n",
        "            n_units (list): A list of integers representing the number of units in each hidden layer.\n",
        "            hidden_activation (torch.nn.Module): The activation function for the hidden layers.\n",
        "            output_activation (torch.nn.Module): The activation function for the output layer.\n",
        "            TODO: [ver. Copilot description] dropout_rate (float): The dropout rate to use for all layers.\n",
        "        \"\"\"\n",
        "        super().__init__()\n",
        "        self.n_layers = n_layers\n",
        "        self.n_units = n_units\n",
        "        self.hidden_activation = hidden_activation\n",
        "        self.output_activation = output_activation\n",
        "        self.dropout_rate = dropout_rate\n",
        "\n",
        "        # Creating a list of linear layers with different numbers of units for each layer\n",
        "        self.layers = nn.ModuleList()\n",
        "        self.dropouts = nn.ModuleList()\n",
        "\n",
        "        self.layers.append(nn.Linear(N_INPUTS, n_units[0]))\n",
        "        self.dropouts.append(nn.Dropout(p=dropout_rate))\n",
        "\n",
        "        for i in range(1, n_layers):\n",
        "            self.layers.append(nn.Linear(n_units[i - 1], n_units[i]))\n",
        "            self.dropouts.append(nn.Dropout(p=dropout_rate))\n",
        "\n",
        "        self.layers.append(nn.Linear(n_units[-1], N_OUTPUTS))\n",
        "\n",
        "        # Adding some assertions to check that the input arguments are valid\n",
        "        assert isinstance(n_layers, int) and n_layers > 0, \"n_layers must be a positive integer\"\n",
        "        assert isinstance(n_units, list) and len(n_units) == n_layers, \"n_units must be a list of length n_layers\"\n",
        "        assert all(isinstance(n, int) and n > 0 for n in n_units), \"n_units must contain positive integers\"\n",
        "        assert isinstance(hidden_activation, nn.Module), \"hidden_activation must be a torch.nn.Module\"\n",
        "        assert isinstance(output_activation, nn.Module), \"output_activation must be a torch.nn.Module\"\n",
        "\n",
        "    def forward(self, x):\n",
        "        \"\"\"Performs a forward pass on the input tensor.\n",
        "\n",
        "        Args:\n",
        "            x (torch.Tensor): The input tensor of shape (batch_size, N_INPUTS).\n",
        "\n",
        "        Returns:\n",
        "            torch.Tensor: The output tensor of shape (batch_size, N_OUTPUTS).\n",
        "        \"\"\"\n",
        "        # Adding an assertion to check that the input tensor has the expected shape and type\n",
        "        assert isinstance(x, torch.Tensor), \"x must be a torch.Tensor\"\n",
        "        assert x.shape[1] == N_INPUTS, f\"x must have shape (batch_size, {N_INPUTS})\"\n",
        "\n",
        "        for layer, dropout in zip(self.layers[:-1], self.dropouts):\n",
        "            x = dropout(self.hidden_activation(layer(x)))\n",
        "        # Applying the linear transformation and the activation function on the output layer\n",
        "        x = self.output_activation(self.layers[-1](x)) # No dropout at output layer\n",
        "\n",
        "        return x # Returning the output tensor\n"
      ]
    },
    {
      "cell_type": "code",
      "execution_count": 86,
      "metadata": {},
      "outputs": [
        {
          "name": "stdout",
          "output_type": "stream",
          "text": [
            "skipping\n"
          ]
        }
      ],
      "source": [
        "%%script echo skipping\n",
        "\n",
        "[1,2,3]\n",
        "[1,2,3][:-1]"
      ]
    },
    {
      "cell_type": "code",
      "execution_count": 87,
      "metadata": {},
      "outputs": [
        {
          "name": "stdout",
          "output_type": "stream",
          "text": [
            "1\n",
            "2\n"
          ]
        }
      ],
      "source": [
        "for x in [1,2,3][:-1]:\n",
        "    print(x)\n",
        "\n"
      ]
    },
    {
      "attachments": {},
      "cell_type": "markdown",
      "metadata": {
        "id": "6GNvp55PUZh_"
      },
      "source": [
        "## Defining the model and search space"
      ]
    },
    {
      "cell_type": "code",
      "execution_count": 88,
      "metadata": {
        "id": "9a1opluOUZh_"
      },
      "outputs": [
        {
          "name": "stderr",
          "output_type": "stream",
          "text": [
            "Future exception was never retrieved\n",
            "future: <Future finished exception=BrokenPipeError(32, 'Broken pipe')>\n",
            "Traceback (most recent call last):\n",
            "  File \"/usr/lib/python3.11/asyncio/unix_events.py\", line 687, in write\n",
            "    n = os.write(self._fileno, data)\n",
            "        ^^^^^^^^^^^^^^^^^^^^^^^^^^^^\n",
            "BrokenPipeError: [Errno 32] Broken pipe\n"
          ]
        }
      ],
      "source": [
        "# Defining a function to create a trial network and optimizer\n",
        "def create_model(trial, optimize):\n",
        "    \"\"\"Creates a trial network and optimizer based on the sampled hyperparameters.\n",
        "\n",
        "    Args:\n",
        "        trial (optuna.trial.Trial): The trial object that contains the hyperparameters.\n",
        "        optimize (boolean): Whether to optimize the hyperparameters or to use predefined values.\n",
        "\n",
        "    Returns:\n",
        "        tuple: A tuple of (net, loss_fn, optimizer, batch_size, n_epochs,\n",
        "            scheduler, loss_name, optimizer_name, scheduler_name,\n",
        "            n_units, n_layers, hidden_activation, output_activation),\n",
        "            where net is the trial network,\n",
        "            loss_fn is the loss function,\n",
        "            optimizer is the optimizer,\n",
        "            batch_size is the batch size,\n",
        "            n_epochs is the number of epochs,\n",
        "            scheduler is the learning rate scheduler,\n",
        "            loss_name is the name of the loss function,\n",
        "            optimizer_name is the name of the optimizer,\n",
        "            scheduler_name is the name of the scheduler,\n",
        "            n_units is a list of integers representing\n",
        "            the number of units in each hidden layer,\n",
        "            n_layers is an integer representing the number of hidden layers in the network,\n",
        "            hidden_activation is a torch.nn.Module representing the activation function for the hidden layers,\n",
        "            output_activation is a torch.nn.Module representing the activation function for the output layer,\n",
        "            lr is the (initial) learning rate.\n",
        "            dropout_rate is the dropout rate.\n",
        "    \"\"\"\n",
        "    # If optimize is True, sample the hyperparameters from the search space\n",
        "    if OPTIMIZE:\n",
        "        n_layers = trial.suggest_int(\"n_layers\", 1, 5)\n",
        "        n_units = [trial.suggest_int(f\"n_units_{i}\", 16, 4096) for i in range(n_layers)]\n",
        "\n",
        "        hidden_activation_name = trial.suggest_categorical(\n",
        "            \"hidden_activation\", [\"ReLU\", \"LeakyReLU\", \"ELU\", \"PReLU\", \"Swish\", \"GELU\", \"SoftPlus\"]\n",
        "        )\n",
        "        output_activation_name = trial.suggest_categorical( \"output_activation\", [\"Linear\"])\n",
        "\n",
        "        loss_name = trial.suggest_categorical( \"loss\", [\"MSE\", \"MAE\", \"Huber\"]) \n",
        "\n",
        "        optimizer_name = trial.suggest_categorical( \"optimizer\", [\"Adam\", \"SGD\", \"RMSprop\", \"Adagrad\"] )\n",
        "\n",
        "        lr = trial.suggest_loguniform(\"lr\", 1e-4, 1e-2)\n",
        "\n",
        "        batch_size_list = [32, 64, 128, 256, 512]\n",
        "        batch_size = trial.suggest_categorical(\"batch_size\", batch_size_list)\n",
        "        \n",
        "        n_epochs = trial.suggest_int(\"n_epochs\", 50, 150)\n",
        "\n",
        "        # scheduler_name = trial.suggest_categorical(\"scheduler\", [\"CosineAnnealingLR\", \"ReduceLROnPlateau\", \"StepLR\", \"CyclicLR\"])\n",
        "        scheduler_name = trial.suggest_categorical(\"scheduler\", [\"CosineAnnealingLR\", \"ReduceLROnPlateau\", \"StepLR\"])\n",
        "\n",
        "        # Creating the activation functions from their names\n",
        "        if hidden_activation_name == \"ReLU\":\n",
        "            hidden_activation = nn.ReLU()\n",
        "        elif hidden_activation_name == \"LeakyReLU\":\n",
        "            negative_slope = trial.suggest_uniform(\"leakyrelu_slope\", 0.01, 0.3)\n",
        "            hidden_activation = nn.LeakyReLU(negative_slope=negative_slope)\n",
        "        elif hidden_activation_name == \"ELU\":\n",
        "            hidden_activation = nn.ELU() \n",
        "        elif hidden_activation_name == \"PReLU\":\n",
        "            init = trial.suggest_uniform(\"prelu_init\", 0.1, 0.3)\n",
        "            hidden_activation = nn.PReLU(init=init)\n",
        "        elif hidden_activation_name == \"Swish\":\n",
        "            class Swish(nn.Module):\n",
        "                def forward(self, x):\n",
        "                    return x * torch.sigmoid(x)\n",
        "            hidden_activation = Swish()\n",
        "        elif hidden_activation_name == \"GELU\":\n",
        "            hidden_activation = nn.GELU()\n",
        "        elif hidden_activation_name == \"SoftPlus\":\n",
        "            beta = trial.suggest_uniform(\"softplus_beta\", 0.5, 1.5)\n",
        "            hidden_activation = nn.Softplus(beta=beta) # We don't optimize thresshold subparameters, as it's mainly for numerical stability.\n",
        "\n",
        "        dropout_rate = trial.suggest_uniform(\"dropout_rate\", 0.0, 0.5)\n",
        "\n",
        "\n",
        "    # If optimize is False, use the predefined values\n",
        "    else:\n",
        "        # Setting the hyperparameters to the predefined values\n",
        "        n_layers = N_LAYERS_NO_OPT\n",
        "        n_units = N_UNITS_NO_OPT\n",
        "        hidden_activation_name = HIDDEN_ACTIVATION_NAME_NO_OPT\n",
        "        output_activation_name = OUTPUT_ACTIVATION_NAME_NO_OPT\n",
        "        loss_name = LOSS_NAME_NO_OPT\n",
        "        optimizer_name = OPTIMIZER_NAME_NO_OPT\n",
        "        lr = LR_NO_OPT\n",
        "        batch_size = BATCH_SIZE_NO_OPT\n",
        "        n_epochs = N_EPOCHS_NO_OPT\n",
        "        scheduler_name = SCHEDULER_NAME_NO_OPT\n",
        "\n",
        "        # Creating the activation functions from their names\n",
        "        if hidden_activation_name == \"ReLU\":\n",
        "            hidden_activation = nn.ReLU()\n",
        "        elif hidden_activation_name == \"LeakyReLU\":\n",
        "            negative_slope = 0.01\n",
        "            hidden_activation = nn.LeakyReLU(negative_slope=negative_slope)\n",
        "        elif hidden_activation_name == \"ELU\":\n",
        "            hidden_activation = nn.ELU() \n",
        "        elif hidden_activation_name == \"PReLU\":\n",
        "            init = 0.25\n",
        "            hidden_activation = nn.PReLU(init=init)\n",
        "        elif hidden_activation_name == \"Swish\":\n",
        "            class Swish(nn.Module):\n",
        "                def forward(self, x):\n",
        "                    return x * torch.sigmoid(x)\n",
        "            hidden_activation = Swish()\n",
        "        elif hidden_activation_name == \"GELU\":\n",
        "            hidden_activation = nn.GELU()\n",
        "        elif hidden_activation_name == \"SoftPlus\":\n",
        "            beta = 1\n",
        "            hidden_activation = nn.Softplus(beta=beta) # We don't optimize threshold subparameter, as it's mainly for numerical stability.\n",
        "\n",
        "        dropout_rate = DROPOUT_RATE_NO_OPT\n",
        "\n",
        "\n",
        "    # We used to have options here, but since we have a regression problem with continuous output, we only use Linear.\n",
        "    output_activation = nn.Identity()\n",
        "\n",
        "    # Creating the loss function from its name\n",
        "    if loss_name == \"MSE\":\n",
        "        loss_fn = nn.MSELoss()\n",
        "    elif loss_name == \"MAE\":\n",
        "        loss_fn = nn.L1Loss()\n",
        "    elif loss_name == \"Huber\":\n",
        "        loss_fn = nn.SmoothL1Loss() \n",
        "    elif loss_name == \"Quantile\":\n",
        "        def quantile_loss(y_pred, y_true, q=0.5):\n",
        "            e = y_pred - y_true\n",
        "            return torch.mean(torch.max(q*e, (q-1)*e))\n",
        "        loss_fn = quantile_loss\n",
        "    else:\n",
        "        def log_cosh_loss(y_pred, y_true):\n",
        "            return torch.mean(torch.log(torch.cosh(y_pred - y_true)))\n",
        "        loss_fn = log_cosh_loss\n",
        "\n",
        "    # Creating the network with the sampled hyperparameters\n",
        "    net = Net(n_layers, n_units, hidden_activation, output_activation, dropout_rate).to(device)\n",
        "\n",
        "\n",
        "    if OPTIMIZE:\n",
        "        # Creating the optimizer from its name\n",
        "        if optimizer_name == \"SGD\":\n",
        "            weight_decay = trial.suggest_loguniform(\"weight_decay\", 1e-5, 1e-2)\n",
        "            momentum = trial.suggest_uniform(\"momentum\", 0.0, 0.99)\n",
        "            optimizer = optim.SGD(net.parameters(), lr=lr, weight_decay=weight_decay, momentum=momentum)\n",
        "        elif optimizer_name == \"Adam\":\n",
        "            weight_decay = trial.suggest_loguniform(\"weight_decay\", 1e-5, 1e-2)\n",
        "            beta1 = trial.suggest_uniform(\"beta1\", 0.9, 0.999)\n",
        "            beta2 = trial.suggest_uniform(\"beta2\", 0.999, 0.9999)\n",
        "            optimizer = optim.Adam(net.parameters(), lr=lr, weight_decay=weight_decay, betas=(beta1, beta2))\n",
        "        elif optimizer_name == \"RMSprop\":\n",
        "            optimizer = optim.RMSprop(net.parameters(), lr=lr)\n",
        "        else:\n",
        "            optimizer = optim.Adagrad(net.parameters(), lr=lr)\n",
        "\n",
        "        # Creating the learning rate scheduler from its name\n",
        "        if scheduler_name == \"StepLR\":\n",
        "            step_size = trial.suggest_int(\"step_size\", 5, 15)\n",
        "            gamma = trial.suggest_uniform(\"gamma\", 0.1, 0.5)\n",
        "            scheduler = optim.lr_scheduler.StepLR(optimizer, step_size=step_size, gamma=gamma)\n",
        "        elif scheduler_name == \"ExponentialLR\":\n",
        "            gamma = trial.suggest_uniform(\"gamma\", 0.8, 0.99)\n",
        "            scheduler = optim.lr_scheduler.ExponentialLR(optimizer, gamma=gamma)\n",
        "        elif scheduler_name == \"CosineAnnealingLR\":\n",
        "            if n_epochs < 150:\n",
        "                t_max_fraction = trial.suggest_uniform('t_max_fraction', 0.1, 0.3)\n",
        "            elif n_epochs > 250:\n",
        "                t_max_fraction = trial.suggest_uniform('t_max_fraction', 0.05, 0.1)\n",
        "            else:\n",
        "                t_max_fraction = trial.suggest_uniform('t_max_fraction', 0.1, 0.2)\n",
        "\n",
        "            T_max = int(n_epochs * t_max_fraction)\n",
        "            eta_min = trial.suggest_loguniform(\"eta_min\", 1e-7, 1e-2)\n",
        "            scheduler = optim.lr_scheduler.CosineAnnealingLR(optimizer, T_max=T_max, eta_min=eta_min)\n",
        "        elif scheduler_name == \"ReduceLROnPlateau\":\n",
        "            factor = trial.suggest_uniform(\"factor\", 0.1, 0.5)\n",
        "            patience = trial.suggest_int(\"patience\", 5, 10)\n",
        "            threshold = trial.suggest_loguniform(\"threshold\", 1e-4, 1e-2)\n",
        "            scheduler = optim.lr_scheduler.ReduceLROnPlateau(\n",
        "                optimizer, mode=\"min\", factor=factor, patience=patience, threshold=threshold\n",
        "            )\n",
        "        elif scheduler_name == \"CyclicLR\":\n",
        "            base_lr = trial.suggest_loguniform(\"base_lr\", 1e-6, 1e-2)\n",
        "            max_lr = trial.suggest_loguniform(\"max_lr\", 1e-4, 1)\n",
        "            step_size_up = trial.suggest_int(\"step_size_up\", 200, 2000)\n",
        "            scheduler = optim.lr_scheduler.CyclicLR(optimizer, base_lr=base_lr, max_lr=max_lr, step_size_up=step_size_up)\n",
        "        else:\n",
        "            scheduler = None\n",
        "    else:\n",
        "        # Creating the optimizer from its name\n",
        "        if optimizer_name == \"SGD\":\n",
        "            optimizer = optim.SGD(net.parameters(), lr=lr)\n",
        "        elif optimizer_name == \"Adam\":\n",
        "            optimizer = optim.Adam(net.parameters(), lr=lr, weight_decay=WEIGHT_DECAY_NO_OPT, betas=(BETA1_NO_OPT, BETA2_NO_OPT))\n",
        "        elif optimizer_name == \"RMSprop\":\n",
        "            optimizer = optim.RMSprop(net.parameters(), lr=lr)\n",
        "        else:\n",
        "            optimizer = optim.Adagrad(net.parameters(), lr=lr)\n",
        "\n",
        "        # Creating the learning rate scheduler from its name\n",
        "        if scheduler_name == \"StepLR\":\n",
        "            scheduler = optim.lr_scheduler.StepLR(optimizer, step_size=STEP_SIZE_NO_OPT, gamma=GAMMA_NO_OPT)\n",
        "        elif scheduler_name == \"ExponentialLR\":\n",
        "            scheduler = optim.lr_scheduler.ExponentialLR(optimizer, gamma=0.9)\n",
        "        elif scheduler_name == \"CosineAnnealingLR\":\n",
        "            scheduler = optim.lr_scheduler.CosineAnnealingLR(optimizer)\n",
        "        elif scheduler_name == \"ReduceLROnPlateau\":\n",
        "            scheduler = optim.lr_scheduler.ReduceLROnPlateau(\n",
        "                        optimizer, mode=\"min\", factor=0.18979341786654758, patience=11, threshold=0.0017197466122611932 #, min_lr=1e-6\n",
        "                    )\n",
        "        elif scheduler_name == \"CyclicLR\":\n",
        "            # TODO: Change these appropriately.\n",
        "            base_lr = 1e-6\n",
        "            max_lr = 1e-4\n",
        "            step_size_up = 200\n",
        "            scheduler = optim.lr_scheduler.CyclicLR(optimizer, base_lr=base_lr, max_lr=max_lr, step_size_up=step_size_up)\n",
        "        else:\n",
        "            scheduler = None\n",
        "\n",
        "\n",
        "    # Returning all variables needed for saving and loading\n",
        "    return net, loss_fn, optimizer, batch_size, n_epochs, scheduler, loss_name, optimizer_name, scheduler_name, n_units, n_layers, hidden_activation, output_activation, lr, dropout_rate"
      ]
    },
    {
      "attachments": {},
      "cell_type": "markdown",
      "metadata": {
        "id": "l-czA7VvUZiD"
      },
      "source": [
        " ## The training and evaluation loop\n",
        "\n",
        " We first define a couple of functions used in the training and evaluation."
      ]
    },
    {
      "cell_type": "code",
      "execution_count": 89,
      "metadata": {
        "id": "aD6FQNmxUZiD"
      },
      "outputs": [],
      "source": [
        "# Defining a function that computes loss and metrics for a given batch\n",
        "def compute_loss_and_metrics(y_pred, y_true, loss_fn):\n",
        "    \"\"\"Computes loss and metrics for a given batch.\n",
        "\n",
        "    Args:\n",
        "        y_pred (torch.Tensor): The predicted pressure tensor of shape (batch_size, 1).\n",
        "        y_true (torch.Tensor): The true pressure tensor of shape (batch_size,).\n",
        "        loss_fn (torch.nn.Module or function): The loss function to use.\n",
        "\n",
        "    Returns:\n",
        "        tuple: A tuple of (loss, l1_norm), where loss is a scalar tensor,\n",
        "            l1_norm is L1 norm for relative error of pressure,\n",
        "            each being a scalar tensor.\n",
        "            linf_norm is Linf norm for relative error of pressure.\n",
        "    \"\"\"\n",
        "    # Reshaping the target tensor to match the input tensor\n",
        "    y_true = y_true.view(-1, 1)\n",
        "\n",
        "    # Computing the loss using the loss function\n",
        "    loss = loss_fn(y_pred, y_true)\n",
        "\n",
        "    # Computing the relative error of pressure\n",
        "    rel_error = torch.abs((y_pred - y_true) / y_true)\n",
        "\n",
        "    # Computing the L1 norm for the relative error of pressure\n",
        "    l1_norm = torch.mean(rel_error) \n",
        "    # Computing the Linf norm for the relative error of pressure\n",
        "    linf_norm = torch.max(rel_error) \n",
        "\n",
        "    # Returning the loss and metrics\n",
        "    return loss, l1_norm, linf_norm\n",
        "\n",
        "\n",
        "# Defining a function that updates the learning rate scheduler with validation loss if applicable\n",
        "def update_scheduler(scheduler, test_loss):\n",
        "    \"\"\"Updates the learning rate scheduler with validation loss if applicable.\n",
        "\n",
        "    Args:\n",
        "        scheduler (torch.optim.lr_scheduler._LRScheduler or None): The learning rate scheduler to use.\n",
        "        test_loss (float): The validation loss to use.\n",
        "\n",
        "    Returns:\n",
        "        None\n",
        "    \"\"\"\n",
        "    # Checking if scheduler is not None\n",
        "    if scheduler is not None:\n",
        "        # Checking if scheduler is ReduceLROnPlateau\n",
        "        if isinstance(scheduler, optim.lr_scheduler.ReduceLROnPlateau):\n",
        "            # Updating the scheduler with test_loss\n",
        "            scheduler.step(test_loss)\n",
        "        else:\n",
        "            # Updating the scheduler without test_loss\n",
        "            scheduler.step()\n"
      ]
    },
    {
      "attachments": {},
      "cell_type": "markdown",
      "metadata": {
        "id": "w1nE662UUZiE"
      },
      "source": [
        "Now for the actual training and evaluation loop,"
      ]
    },
    {
      "cell_type": "code",
      "execution_count": 90,
      "metadata": {
        "id": "YAOjgKW3UZiF"
      },
      "outputs": [],
      "source": [
        "# Defining a function to train and evaluate a network\n",
        "def train_and_eval(net, loss_fn, optimizer, batch_size, n_epochs, scheduler, train_loader, val_loader, test_loader, trial=None):\n",
        "    # Initializing lists to store the losses and metrics for each epoch\n",
        "    train_losses = []\n",
        "    val_losses = []\n",
        "    test_losses = []\n",
        "    train_metrics = []\n",
        "    val_metrics = []\n",
        "    test_metrics = []\n",
        "\n",
        "\n",
        "    # Creating a SummaryWriter object to log data for tensorboard\n",
        "    writer = tbx.SummaryWriter()\n",
        "\n",
        "    # Looping over the epochs\n",
        "    for epoch in range(n_epochs):\n",
        "\n",
        "        # Setting the network to training mode\n",
        "        net.train()\n",
        "\n",
        "        # Initializing variables to store the total loss and metrics for the train set\n",
        "        train_loss = 0.0\n",
        "        train_l1_norm = 0.0\n",
        "        train_linf_norm = 0.0\n",
        "\n",
        "        # Looping over the batches in the train set\n",
        "        for x_batch, y_batch in train_loader:\n",
        "\n",
        "            # Moving the batch tensors to the device\n",
        "            x_batch = x_batch.to(device)\n",
        "            y_batch = y_batch.to(device)\n",
        "\n",
        "            # Zeroing the gradients\n",
        "            optimizer.zero_grad()\n",
        "\n",
        "            # Performing a forward pass and computing the loss and metrics\n",
        "            y_pred = net(x_batch)\n",
        "            loss, l1_norm, linf_norm = compute_loss_and_metrics(y_pred, y_batch, loss_fn)\n",
        "\n",
        "\n",
        "            # Performing a backward pass and updating the weights\n",
        "            loss.backward()\n",
        "            optimizer.step()\n",
        "\n",
        "            # Updating the total loss and metrics for the train set\n",
        "            train_loss += loss.item() * x_batch.size(0)\n",
        "            train_l1_norm += l1_norm.item() * x_batch.size(0)\n",
        "            train_linf_norm += linf_norm.item() * x_batch.size(0)\n",
        "\n",
        "        # Computing the average loss and metrics for the train set\n",
        "        train_loss /= len(train_loader.dataset)\n",
        "        train_l1_norm /= len(train_loader.dataset)\n",
        "        train_linf_norm /= len(train_loader.dataset)\n",
        "\n",
        "        # Appending the average loss and metrics for the train set to the lists\n",
        "        train_losses.append(train_loss)\n",
        "        train_metrics.append(\n",
        "            {\n",
        "                \"l1_norm\": train_l1_norm,\n",
        "                \"linf_norm\": train_linf_norm,\n",
        "            }\n",
        "        )\n",
        "\n",
        "        # Logging the average loss and metrics for the train set to tensorboard\n",
        "        writer.add_scalar(\"Loss/train\", train_loss, epoch)\n",
        "        writer.add_scalar(\"L1 norm/train\", train_l1_norm, epoch)\n",
        "        writer.add_scalar(\"Linf norm/train\", train_linf_norm, epoch)\n",
        "\n",
        "        if val_loader is not None:\n",
        "            net.eval()\n",
        "            val_loss = 0.0\n",
        "            val_l1_norm = 0.0\n",
        "            val_linf_norm = 0.0\n",
        "\n",
        "            with torch.no_grad():\n",
        "                for x_batch, y_batch in val_loader:\n",
        "                    x_batch = x_batch.to(device)\n",
        "                    y_batch = y_batch.to(device)\n",
        "                    y_pred = net(x_batch)\n",
        "                    loss, l1_norm, linf_norm = compute_loss_and_metrics(y_pred, y_batch, loss_fn)\n",
        "\n",
        "                    val_loss += loss.item() * x_batch.size(0)\n",
        "                    val_l1_norm += l1_norm.item() * x_batch.size(0)\n",
        "                    val_linf_norm += linf_norm.item() * x_batch.size(0)\n",
        "\n",
        "            val_loss /= len(val_loader.dataset)\n",
        "            val_l1_norm /= len(val_loader.dataset)\n",
        "            val_linf_norm /= len(val_loader.dataset)\n",
        "\n",
        "            val_losses.append(val_loss)\n",
        "            val_metrics.append(\n",
        "                {\n",
        "                    \"l1_norm\": val_l1_norm,\n",
        "                    \"linf_norm\": val_linf_norm,\n",
        "                }\n",
        "            )\n",
        "\n",
        "            writer.add_scalar(\"Loss/val\", val_loss, epoch)\n",
        "            writer.add_scalar(\"L1 norm/val\", val_l1_norm, epoch)\n",
        "            writer.add_scalar(\"Linf norm/val\", val_linf_norm, epoch)\n",
        "            print(f\"Epoch {epoch+1}/{n_epochs}.. Train loss: {train_loss:.3f}.. Val loss: {val_loss:.3f}.. Train L1 norm: {train_l1_norm:.3f}.. Val L1 norm: {val_l1_norm:.3f}.. Train Linf norm: {train_linf_norm:.3f}.. Val Linf norm: {val_linf_norm:.3f}\")\n",
        "\n",
        "\n",
        "            update_scheduler(scheduler, val_loss)\n",
        "\n",
        "        if test_loader is not None:\n",
        "            net.eval()\n",
        "            test_loss = 0.0\n",
        "            test_l1_norm = 0.0\n",
        "            test_linf_norm = 0.0\n",
        "\n",
        "            with torch.no_grad():\n",
        "                for x_batch, y_batch in test_loader:\n",
        "                    x_batch = x_batch.to(device)\n",
        "                    y_batch = y_batch.to(device)\n",
        "                    y_pred = net(x_batch)\n",
        "                    loss, l1_norm, linf_norm = compute_loss_and_metrics(y_pred, y_batch, loss_fn)\n",
        "\n",
        "                    test_loss += loss.item() * x_batch.size(0)\n",
        "                    test_l1_norm += l1_norm.item() * x_batch.size(0)\n",
        "                    test_linf_norm += linf_norm.item() * x_batch.size(0)\n",
        "\n",
        "            test_loss /= len(test_loader.dataset)\n",
        "            test_l1_norm /= len(test_loader.dataset)\n",
        "            test_linf_norm /= len(test_loader.dataset)\n",
        "\n",
        "            test_losses.append(test_loss)\n",
        "            test_metrics.append(\n",
        "                {\n",
        "                    \"l1_norm\": test_l1_norm,\n",
        "                    \"linf_norm\": test_linf_norm,\n",
        "                }\n",
        "            )\n",
        "\n",
        "            writer.add_scalar(\"Loss/test\", test_loss, epoch)\n",
        "            writer.add_scalar(\"L1 norm/test\", test_l1_norm, epoch)\n",
        "            writer.add_scalar(\"Linf norm/test\", test_linf_norm, epoch)\n",
        "            print(f\"Epoch {epoch+1}/{n_epochs}.. Train loss: {train_loss:.3f}.. Test loss: {test_loss:.3f}.. Train L1 norm: {train_l1_norm:.3f}.. Test L1 norm: {test_l1_norm:.3f}.. Train Linf norm: {train_linf_norm:.3f}.. Test Linf norm: {test_linf_norm:.3f}\")\n",
        "\n",
        "\n",
        "        # Reporting the intermediate metric value to Optuna if trial is not None\n",
        "        if trial is not None:\n",
        "            trial.report(val_l1_norm, epoch)\n",
        "\n",
        "            if trial.should_prune():\n",
        "                raise optuna.TrialPruned()\n",
        "\n",
        "    # Closing the SummaryWriter object\n",
        "    writer.close()\n",
        "\n",
        "    # Returning the losses and metrics lists\n",
        "    return train_losses, val_losses, test_losses, train_metrics, val_metrics, test_metrics\n"
      ]
    },
    {
      "attachments": {},
      "cell_type": "markdown",
      "metadata": {
        "id": "xg9jz0SvUZiQ"
      },
      "source": [
        "## The objective function and hyperparameter tuning"
      ]
    },
    {
      "cell_type": "code",
      "execution_count": 91,
      "metadata": {
        "id": "fmRncQPuUZiR"
      },
      "outputs": [],
      "source": [
        "# Defining an objective function for Optuna to minimize\n",
        "def objective(trial):\n",
        "    \"\"\"Defines an objective function for Optuna to minimize.\n",
        "\n",
        "    Args:\n",
        "        trial (optuna.trial.Trial): The trial object that contains the hyperparameters.\n",
        "\n",
        "    Returns:\n",
        "        float: The validation L1 norm to minimize.\n",
        "    \"\"\"\n",
        "    # Creating a trial network and optimizer using the create_model function\n",
        "    net, \\\n",
        "    loss_fn, \\\n",
        "    optimizer, \\\n",
        "    batch_size, \\\n",
        "    n_epochs, \\\n",
        "    scheduler, \\\n",
        "    loss_name, \\\n",
        "    optimizer_name, \\\n",
        "    scheduler_name, \\\n",
        "    n_units, \\\n",
        "    n_layers, \\\n",
        "    hidden_activation, \\\n",
        "    output_activation, \\\n",
        "    lr, \\\n",
        "    dropout_rate = create_model(trial, optimize=True)\n",
        "\n",
        "    # Create separate data loaders for training and validation\n",
        "    train_loader = torch.utils.data.DataLoader(\n",
        "        torch.utils.data.TensorDataset(x_train, y_train), batch_size=batch_size, shuffle=True\n",
        "    )\n",
        "    val_loader = torch.utils.data.DataLoader(\n",
        "        torch.utils.data.TensorDataset(x_val, y_val), batch_size=batch_size\n",
        "    )\n",
        "    \n",
        "    _, _, _, _, val_metrics, _ = train_and_eval(\n",
        "        net, loss_fn, optimizer, batch_size, n_epochs, scheduler, train_loader, val_loader, None, trial\n",
        "    )\n",
        "\n",
        "    # Returning the last validation L1 norm as the objective value to minimize\n",
        "    return val_metrics[-1][\"l1_norm\"]"
      ]
    },
    {
      "cell_type": "code",
      "execution_count": 92,
      "metadata": {
        "id": "GyES4NAyUZiS"
      },
      "outputs": [],
      "source": [
        "# Visualize Optuna study while its running, alternative to tensorboard\n",
        "#from IPython import display\n",
        "import optuna.visualization as ov\n",
        "\n",
        "def callback(study, trial):\n",
        "    with open('all_trials.json', 'a') as f:\n",
        "        # Save the trial number, value, and parameters to a JSON file.\n",
        "        json.dump({\n",
        "            'number': trial.number,\n",
        "            'value': trial.value,\n",
        "            'params': trial.params\n",
        "        }, f)\n",
        "        # Write a newline character after each trial, so that each trial is on a separate line\n",
        "        f.write('\\n')\n",
        "        save_file('all_trials.json')\n",
        "\n",
        "    # Saving the study to a pickle file\n",
        "    with open(f'{STUDY_NAME}.pkl', 'wb') as f:\n",
        "        pickle.dump(study, f)\n",
        "        save_file(f'{STUDY_NAME}.pkl')\n",
        "\n",
        "    # Save the best trial separately as well.\n",
        "    best_trial_params = study.best_trial.params\n",
        "    with open('best_trial_params.json', 'w') as f:\n",
        "        json.dump(best_trial_params, f)\n",
        "        save_file('best_trial_params.json')\n",
        "\n",
        "    # Visualize the optimization history, and save it as an HTML file.\n",
        "    fig1 = ov.plot_optimization_history(study)\n",
        "    fig1.write_html(f\"optimization_history_{STUDY_NAME}.html\")\n",
        "    save_file(f\"optimization_history_{STUDY_NAME}.html\")\n",
        "    fig1.show()\n",
        "\n",
        "    # Do the same for the other visualizations.\n",
        "    fig2 = ov.plot_slice(study)\n",
        "    fig2.write_html(f\"slice_plot_{STUDY_NAME}.html\")\n",
        "    save_file(f\"slice_plot_{STUDY_NAME}.html\")\n",
        "\n",
        "    # if trial.number % 10 == 0:\n",
        "    #     fig3 = ov.plot_contour(study)\n",
        "    #     fig3.write_html(f\"contour_plot_{STUDY_NAME}.html\")\n",
        "    #     save_file(f\"contour_plot_{STUDY_NAME}.html\")\n",
        "\n",
        "    fig4 = ov.plot_parallel_coordinate(study)\n",
        "    fig4.write_html(f\"parallel_coordinate_plot_{STUDY_NAME}.html\")\n",
        "    save_file(f\"parallel_coordinate_plot_{STUDY_NAME}.html\")\n",
        "\n",
        "    if trial.number > 1: # Required\n",
        "      fig5 = ov.plot_param_importances(study)\n",
        "      fig5.write_html(f\"param_importances_plot_{STUDY_NAME}.html\")\n",
        "      save_file(f\"param_importances_plot_{STUDY_NAME}.html\")\n",
        "\n",
        "        \n",
        "if OPTIMIZE:\n",
        "    # Gave an error in my run on arch bsc_physics_env. It doesn't matter anyway, since we use pickle for saving.\n",
        "    # Include the path to the SQLite file in your create_study call.\n",
        "    # study = optuna.create_study(direction=\"minimize\", \n",
        "                                # sampler=optuna.samplers.TPESampler(), \n",
        "                                # pruner=optuna.pruners.MedianPruner(), \n",
        "                                # storage=f'sqlite:///{STUDY_NAME}.db')\n",
        "    study = optuna.create_study(direction=\"minimize\", sampler=optuna.samplers.TPESampler(), pruner=optuna.pruners.MedianPruner())\n",
        "\n",
        "    study.optimize(objective, n_trials=N_TRIALS, callbacks=[callback])\n",
        "    #study.optimize(objective, n_trials=N_TRIALS)"
      ]
    },
    {
      "cell_type": "code",
      "execution_count": 93,
      "metadata": {},
      "outputs": [],
      "source": [
        "if OPTIMIZE:\n",
        "    # Optimization History\n",
        "    ov.plot_optimization_history(study).show()\n",
        " \n",
        "    # Slice Plot\n",
        "    ov.plot_slice(study).show()\n",
        " \n",
        "    # Contour Plot\n",
        "    # ov.plot_contour(study).show()\n",
        " \n",
        "    # Parallel Coordinate Plot\n",
        "    ov.plot_parallel_coordinate(study).show()\n",
        " \n",
        "    # Hyperparameter Importance Plot\n",
        "    ov.plot_param_importances(study).show()\n",
        "\n",
        "    # Best trial information\n",
        "    print(\"Best trial:\")\n",
        "    trial = study.best_trial\n",
        "    print(\"  Value: \", trial.value)\n",
        "    print(\"  Params: \")\n",
        "    for key, value in trial.params.items():\n",
        "        print(f\"    {key}: {value}\")\n",
        "\n",
        "    # Saving the study to a pickle file\n",
        "    with open(f'{STUDY_NAME}.pkl', 'wb') as f:\n",
        "        pickle.dump(study, f)\n",
        "        save_file(f'{STUDY_NAME}.pkl')\n",
        "\n",
        "    # Save the best trial separately as well.\n",
        "    best_trial_params = study.best_trial.params\n",
        "    with open('best_trial_params.json', 'w') as f:\n",
        "        json.dump(best_trial_params, f)\n",
        "        save_file('best_trial_params.json')\n",
        "\n"
      ]
    },
    {
      "attachments": {},
      "cell_type": "markdown",
      "metadata": {
        "id": "jmMfE9_dUZiS"
      },
      "source": [
        "## Training the model"
      ]
    },
    {
      "cell_type": "code",
      "execution_count": 94,
      "metadata": {
        "id": "phyiHlWEUZiT"
      },
      "outputs": [],
      "source": [
        "# Creating the best network and optimizer using the best hyperparameters\n",
        "if OPTIMIZE:\n",
        "    net, \\\n",
        "    loss_fn, \\\n",
        "    optimizer, \\\n",
        "    batch_size, \\\n",
        "    n_epochs, \\\n",
        "    scheduler, \\\n",
        "    loss_name, \\\n",
        "    optimizer_name, \\\n",
        "    scheduler_name, \\\n",
        "    n_units, \\\n",
        "    n_layers, \\\n",
        "    hidden_activation, \\\n",
        "    output_activation, \\\n",
        "    lr, \\\n",
        "    dropout_rate = create_model(trial, optimize=True)\n",
        "\n",
        "# Creating the network with predefined hyperparameters\n",
        "else:\n",
        "    net, \\\n",
        "    loss_fn, \\\n",
        "    optimizer, \\\n",
        "    batch_size, \\\n",
        "    n_epochs, \\\n",
        "    scheduler, \\\n",
        "    loss_name, \\\n",
        "    optimizer_name, \\\n",
        "    scheduler_name, \\\n",
        "    n_units, \\\n",
        "    n_layers, \\\n",
        "    hidden_activation, \\\n",
        "    output_activation, \\\n",
        "    lr, \\\n",
        "    dropout_rate = create_model(trial=None, optimize=True)"
      ]
    },
    {
      "cell_type": "code",
      "execution_count": 95,
      "metadata": {
        "colab": {
          "base_uri": "https://localhost:8080/"
        },
        "id": "_yq-oY81UZiU",
        "outputId": "dbf2f465-bd50-4a20-8926-616c3d2157d0"
      },
      "outputs": [
        {
          "name": "stdout",
          "output_type": "stream",
          "text": [
            "loss_fn: Net(\n",
            "  (hidden_activation): LeakyReLU(negative_slope=0.01)\n",
            "  (output_activation): Identity()\n",
            "  (layers): ModuleList(\n",
            "    (0): Linear(in_features=14, out_features=555, bias=True)\n",
            "    (1): Linear(in_features=555, out_features=458, bias=True)\n",
            "    (2): Linear(in_features=458, out_features=115, bias=True)\n",
            "    (3): Linear(in_features=115, out_features=1, bias=True)\n",
            "  )\n",
            "  (dropouts): ModuleList(\n",
            "    (0-2): 3 x Dropout(p=0.2, inplace=False)\n",
            "  )\n",
            ")\n",
            "loss_fn: SmoothL1Loss()\n",
            "batch_size: 49\n",
            "n_epochs: 2\n",
            "scheduler: <torch.optim.lr_scheduler.ReduceLROnPlateau object at 0x7f4922a63bd0>\n",
            "loss_name: Huber\n",
            "optimizer_name: RMSprop\n",
            "scheduler_name: ReduceLROnPlateau\n",
            "n_units: [555, 458, 115]\n",
            "n_layers: 3\n",
            "hidden_activation: LeakyReLU(negative_slope=0.01)\n",
            "output_activation: Identity()\n",
            "lr 0.000122770896701404\n",
            "dropout_rate 0.2\n"
          ]
        }
      ],
      "source": [
        "print(\"loss_fn:\", net)\n",
        "print(\"loss_fn:\", loss_fn)\n",
        "print(\"batch_size:\", batch_size)\n",
        "print(\"n_epochs:\", n_epochs)\n",
        "print(\"scheduler:\", scheduler)\n",
        "print(\"loss_name:\", loss_name)\n",
        "print(\"optimizer_name:\", optimizer_name)\n",
        "print(\"scheduler_name:\", scheduler_name)\n",
        "print(\"n_units:\", n_units)\n",
        "print(\"n_layers:\", n_layers)\n",
        "print(\"hidden_activation:\", hidden_activation)\n",
        "print(\"output_activation:\", output_activation)\n",
        "print(\"lr\", lr)\n",
        "print(\"dropout_rate\", dropout_rate)"
      ]
    },
    {
      "attachments": {},
      "cell_type": "markdown",
      "metadata": {
        "colab": {
          "base_uri": "https://localhost:8080/"
        },
        "id": "E7aLWdZyUZiW",
        "outputId": "8fb1e8c6-5aa3-43a1-a255-712cf9396d0c"
      },
      "source": [
        "After optimizing with Optuna and deciding on the best hyperparameters, we combine the training and validatin set, using that as the new training set for training the model, and then evaluate the model on the test set"
      ]
    },
    {
      "cell_type": "code",
      "execution_count": 96,
      "metadata": {},
      "outputs": [
        {
          "name": "stdout",
          "output_type": "stream",
          "text": [
            "Epoch 1/2.. Train loss: 2.397.. Test loss: 2.169.. Train L1 norm: 2.190.. Test L1 norm: 0.326.. Train Linf norm: 9.748.. Test Linf norm: 0.617\n",
            "Epoch 2/2.. Train loss: 4.338.. Test loss: 3.976.. Train L1 norm: 13.417.. Test L1 norm: 0.856.. Train Linf norm: 83.883.. Test Linf norm: 0.951\n"
          ]
        }
      ],
      "source": [
        "x_train_val = torch.cat((x_train, x_val), 0)\n",
        "y_train_val = torch.cat((y_train, y_val), 0)\n",
        "\n",
        "train_val_loader = torch.utils.data.DataLoader(\n",
        "    torch.utils.data.TensorDataset(x_train_val, y_train_val), batch_size=batch_size, shuffle=True\n",
        ")\n",
        "test_loader = torch.utils.data.DataLoader(\n",
        "    torch.utils.data.TensorDataset(x_test, y_test), batch_size=batch_size\n",
        ")\n",
        "\n",
        "train_losses, _, test_losses, train_metrics, _, test_metrics, = train_and_eval(\n",
        "    net, loss_fn, optimizer, batch_size, n_epochs, scheduler, train_val_loader, None, test_loader, None\n",
        ")"
      ]
    },
    {
      "attachments": {},
      "cell_type": "markdown",
      "metadata": {
        "id": "akNucrgMUZiW"
      },
      "source": [
        "## Saving"
      ]
    },
    {
      "cell_type": "code",
      "execution_count": 97,
      "metadata": {
        "id": "LHsrs2Y-UZic"
      },
      "outputs": [],
      "source": [
        "import json\n",
        "\n",
        "# save the network to a .pth file\n",
        "torch.save(net.state_dict(), \"net.pth\")\n",
        "save_file(\"net.pth\")\n",
        "\n",
        "# save the optimizer to a .pth file\n",
        "torch.save(optimizer.state_dict(), \"optimizer.pth\")\n",
        "save_file(\"optimizer.pth\")\n",
        "\n",
        "# save the scheduler to a .pth file if it is not None\n",
        "if scheduler is not None:\n",
        "  torch.save(scheduler.state_dict(), \"scheduler.pth\")\n",
        "  save_file(\"scheduler.pth\")\n",
        "\n",
        "# create a dictionary to store the rest of the variables\n",
        "if isinstance(hidden_activation.__class__.__name__, list):\n",
        "    hidden_activation_name = hidden_activation.__class__.__name__[0]\n",
        "else:\n",
        "    hidden_activation_name = hidden_activation.__class__.__name__\n",
        "\n",
        "if isinstance(output_activation.__class__.__name__, list):\n",
        "    output_activation_name = output_activation.__class__.__name__[0]\n",
        "else:\n",
        "    output_activation_name = output_activation.__class__.__name__\n",
        "\n",
        "var_dict = {\n",
        "  \"batch_size\": batch_size,\n",
        "  \"n_epochs\": n_epochs,\n",
        "  \"loss_name\": loss_name,\n",
        "  \"optimizer_name\": optimizer_name,\n",
        "  \"scheduler_name\": scheduler_name,\n",
        "  \"n_units\": n_units,\n",
        "  \"n_layers\": n_layers,\n",
        "  \"hidden_activation_name\": hidden_activation_name,\n",
        "  \"output_activation_name\": output_activation_name,\n",
        "  \"lr\": lr,\n",
        "  \"dropout_rate\": dropout_rate\n",
        "}\n",
        "\n",
        "# Adding the subparameters to the var_dict for saving\n",
        "if hidden_activation_name == \"LeakyReLU\":\n",
        "  var_dict[\"leakyrelu_slope\"] = hidden_activation.negative_slope\n",
        "elif hidden_activation_name == \"PReLU\":\n",
        "  var_dict[\"prelu_init\"] = hidden_activation.weight.item()  # .item() is needed because weight is a tensor\n",
        "elif hidden_activation_name == \"SoftPlus\":\n",
        "  var_dict[\"softplus_beta\"] = hidden_activation.beta\n",
        "\n",
        "# save the dictionary to a .json file\n",
        "with open(\"var_dict.json\", \"w\") as f:\n",
        "  json.dump(var_dict, f)\n",
        "save_file(\"var_dict.json\")\n",
        "\n",
        "# Saving the output of the training using pandas\n",
        "train_df = pd.DataFrame(\n",
        "    {\n",
        "        \"train_loss\": train_losses,\n",
        "        \"test_loss\": test_losses,\n",
        "        \"train_l1_norm\": [m[\"l1_norm\"] for m in train_metrics],\n",
        "        \"test_l1_norm\": [m[\"l1_norm\"] for m in test_metrics],\n",
        "        \"train_linf_norm\": [m[\"linf_norm\"] for m in train_metrics],\n",
        "        \"test_linf_norm\": [m[\"linf_norm\"] for m in test_metrics],\n",
        "    }\n",
        ")\n",
        "train_df.to_csv(\"train_output.csv\", index=False)\n",
        "save_file(\"train_output.csv\")"
      ]
    },
    {
      "cell_type": "code",
      "execution_count": 98,
      "metadata": {},
      "outputs": [
        {
          "data": {
            "text/plain": [
              "['batch_size',\n",
              " 'n_epochs',\n",
              " 'loss_name',\n",
              " 'optimizer_name',\n",
              " 'scheduler_name',\n",
              " 'n_units',\n",
              " 'n_layers',\n",
              " 'hidden_activation_name',\n",
              " 'output_activation_name',\n",
              " 'lr',\n",
              " 'dropout_rate',\n",
              " 'leakyrelu_slope']"
            ]
          },
          "execution_count": 98,
          "metadata": {},
          "output_type": "execute_result"
        }
      ],
      "source": [
        "[key for key in var_dict.keys()]"
      ]
    },
    {
      "cell_type": "code",
      "execution_count": 99,
      "metadata": {},
      "outputs": [
        {
          "data": {
            "text/plain": [
              "'LeakyReLU'"
            ]
          },
          "execution_count": 99,
          "metadata": {},
          "output_type": "execute_result"
        },
        {
          "data": {
            "text/plain": [
              "'Identity'"
            ]
          },
          "execution_count": 99,
          "metadata": {},
          "output_type": "execute_result"
        }
      ],
      "source": [
        "#%%script echo skipping\n",
        "\n",
        "hidden_activation_name\n",
        "output_activation_name"
      ]
    },
    {
      "attachments": {},
      "cell_type": "markdown",
      "metadata": {
        "id": "qU23l7dIUZie"
      },
      "source": [
        "## Visualizing the results"
      ]
    },
    {
      "cell_type": "code",
      "execution_count": 100,
      "metadata": {
        "colab": {
          "base_uri": "https://localhost:8080/",
          "height": 1000
        },
        "id": "cippWZS6UZie",
        "outputId": "f0d6e5c3-945f-481b-a153-e54fed7fe9fa"
      },
      "outputs": [
        {
          "data": {
            "text/plain": [
              "<Figure size 600x400 with 0 Axes>"
            ]
          },
          "execution_count": 100,
          "metadata": {},
          "output_type": "execute_result"
        },
        {
          "data": {
            "text/plain": [
              "[<matplotlib.lines.Line2D at 0x7f4922959810>]"
            ]
          },
          "execution_count": 100,
          "metadata": {},
          "output_type": "execute_result"
        },
        {
          "data": {
            "text/plain": [
              "[<matplotlib.lines.Line2D at 0x7f49235be510>]"
            ]
          },
          "execution_count": 100,
          "metadata": {},
          "output_type": "execute_result"
        },
        {
          "data": {
            "text/plain": [
              "Text(0.5, 0, 'Epoch')"
            ]
          },
          "execution_count": 100,
          "metadata": {},
          "output_type": "execute_result"
        },
        {
          "data": {
            "text/plain": [
              "Text(0, 0.5, 'L1 Norm')"
            ]
          },
          "execution_count": 100,
          "metadata": {},
          "output_type": "execute_result"
        },
        {
          "data": {
            "text/plain": [
              "Text(0.5, 1.0, 'NNGRX Train and Test L1 Norm per Epoch')"
            ]
          },
          "execution_count": 100,
          "metadata": {},
          "output_type": "execute_result"
        },
        {
          "data": {
            "text/plain": [
              "(-0.05, 200.0)"
            ]
          },
          "execution_count": 100,
          "metadata": {},
          "output_type": "execute_result"
        },
        {
          "data": {
            "text/plain": [
              "(0.001, 100.0)"
            ]
          },
          "execution_count": 100,
          "metadata": {},
          "output_type": "execute_result"
        },
        {
          "data": {
            "text/plain": [
              "<matplotlib.legend.Legend at 0x7f4922e2b5d0>"
            ]
          },
          "execution_count": 100,
          "metadata": {},
          "output_type": "execute_result"
        },
        {
          "data": {
            "text/plain": [
              "<Figure size 600x400 with 0 Axes>"
            ]
          },
          "execution_count": 100,
          "metadata": {},
          "output_type": "execute_result"
        },
        {
          "data": {
            "text/plain": [
              "[<matplotlib.lines.Line2D at 0x7f49234ca150>]"
            ]
          },
          "execution_count": 100,
          "metadata": {},
          "output_type": "execute_result"
        },
        {
          "data": {
            "text/plain": [
              "[<matplotlib.lines.Line2D at 0x7f492337b9d0>]"
            ]
          },
          "execution_count": 100,
          "metadata": {},
          "output_type": "execute_result"
        },
        {
          "data": {
            "text/plain": [
              "Text(0.5, 0, 'Epoch')"
            ]
          },
          "execution_count": 100,
          "metadata": {},
          "output_type": "execute_result"
        },
        {
          "data": {
            "text/plain": [
              "Text(0, 0.5, 'Linf Norm')"
            ]
          },
          "execution_count": 100,
          "metadata": {},
          "output_type": "execute_result"
        },
        {
          "data": {
            "text/plain": [
              "Text(0.5, 1.0, 'NNGRX Train and Test Linf Norm per Epoch')"
            ]
          },
          "execution_count": 100,
          "metadata": {},
          "output_type": "execute_result"
        },
        {
          "data": {
            "text/plain": [
              "(-0.05, 200.0)"
            ]
          },
          "execution_count": 100,
          "metadata": {},
          "output_type": "execute_result"
        },
        {
          "data": {
            "text/plain": [
              "(0.001, 100.0)"
            ]
          },
          "execution_count": 100,
          "metadata": {},
          "output_type": "execute_result"
        },
        {
          "data": {
            "text/plain": [
              "<matplotlib.legend.Legend at 0x7f4922bbf350>"
            ]
          },
          "execution_count": 100,
          "metadata": {},
          "output_type": "execute_result"
        },
        {
          "data": {
            "text/plain": [
              "<Figure size 600x400 with 0 Axes>"
            ]
          },
          "execution_count": 100,
          "metadata": {},
          "output_type": "execute_result"
        },
        {
          "data": {
            "text/plain": [
              "[<matplotlib.lines.Line2D at 0x7f49232d2150>]"
            ]
          },
          "execution_count": 100,
          "metadata": {},
          "output_type": "execute_result"
        },
        {
          "data": {
            "text/plain": [
              "[<matplotlib.lines.Line2D at 0x7f4923117150>]"
            ]
          },
          "execution_count": 100,
          "metadata": {},
          "output_type": "execute_result"
        },
        {
          "data": {
            "text/plain": [
              "Text(0.5, 0, 'Epoch')"
            ]
          },
          "execution_count": 100,
          "metadata": {},
          "output_type": "execute_result"
        },
        {
          "data": {
            "text/plain": [
              "Text(0, 0.5, 'MSE')"
            ]
          },
          "execution_count": 100,
          "metadata": {},
          "output_type": "execute_result"
        },
        {
          "data": {
            "text/plain": [
              "Text(0.5, 1.0, 'NNGRX MSE of Training and Test Data per Epoch')"
            ]
          },
          "execution_count": 100,
          "metadata": {},
          "output_type": "execute_result"
        },
        {
          "data": {
            "text/plain": [
              "(-0.05, 200.0)"
            ]
          },
          "execution_count": 100,
          "metadata": {},
          "output_type": "execute_result"
        },
        {
          "data": {
            "text/plain": [
              "(1e-07, 1.0)"
            ]
          },
          "execution_count": 100,
          "metadata": {},
          "output_type": "execute_result"
        },
        {
          "data": {
            "text/plain": [
              "<matplotlib.legend.Legend at 0x7f492312f350>"
            ]
          },
          "execution_count": 100,
          "metadata": {},
          "output_type": "execute_result"
        },
        {
          "data": {
            "image/png": "[encoded data removed]",
            "text/plain": [
              "<Figure size 600x400 with 1 Axes>"
            ]
          },
          "metadata": {},
          "output_type": "display_data"
        },
        {
          "data": {
            "image/png": "[encoded data removed]",
            "text/plain": [
              "<Figure size 600x400 with 1 Axes>"
            ]
          },
          "metadata": {},
          "output_type": "display_data"
        },
        {
          "data": {
            "image/png": "[encoded data removed]",
            "text/plain": [
              "<Figure size 600x400 with 1 Axes>"
            ]
          },
          "metadata": {},
          "output_type": "display_data"
        }
      ],
      "source": [
        "# First figure: Train and Test L1 Norm\n",
        "plt.figure(figsize=(6, 4))\n",
        "plt.plot([m[\"l1_norm\"] for m in train_metrics], label=\"Train L1 Norm\", color='blue')\n",
        "plt.plot([m[\"l1_norm\"] for m in test_metrics], label=\"Test L1 Norm\", color='red')\n",
        "plt.xlabel(\"Epoch\")\n",
        "plt.ylabel(\"L1 Norm\")\n",
        "plt.title(\"NNGRX Train and Test L1 Norm per Epoch\")\n",
        "plt.yscale(\"log\")\n",
        "plt.grid(True)\n",
        "plt.xlim(right=200)\n",
        "plt.ylim(1e-3, 1e2)\n",
        "plt.legend()\n",
        "plt.tight_layout()\n",
        "# plt.savefig(\"NNGRX_L1_norm_plot.png\", dpi=300)\n",
        "plt.savefig(\"NNGRX_L1_norm_plot.png\")\n",
        "\n",
        "# Second figure: Train and Test Linf Norm\n",
        "plt.figure(figsize=(6, 4))\n",
        "plt.plot([m[\"linf_norm\"] for m in train_metrics], label=\"Train Linf Norm\", color='blue')\n",
        "plt.plot([m[\"linf_norm\"] for m in test_metrics], label=\"Test Linf Norm\", color='red')\n",
        "plt.xlabel(\"Epoch\")\n",
        "plt.ylabel(\"Linf Norm\")\n",
        "plt.title(\"NNGRX Train and Test Linf Norm per Epoch\")\n",
        "plt.yscale(\"log\")\n",
        "plt.grid(True)\n",
        "plt.xlim(right=200)\n",
        "plt.ylim(1e-3, 1e2)\n",
        "plt.legend()\n",
        "plt.tight_layout()\n",
        "# plt.savefig(\"NNGRX_Linf_norm_plot.png\", dpi=300)\n",
        "plt.savefig(\"NNGRX_Linf_norm_plot.png\")\n",
        "\n",
        "# Third figure: MSE of training data and test data\n",
        "plt.figure(figsize=(6, 4))\n",
        "plt.plot(train_losses, label=\"Training Data\", color='blue')\n",
        "plt.plot(test_losses, label=\"Test Data\", color='red')\n",
        "plt.xlabel(\"Epoch\")\n",
        "plt.ylabel(\"MSE\")\n",
        "plt.title(\"NNGRX MSE of Training and Test Data per Epoch\")\n",
        "plt.yscale(\"log\")\n",
        "plt.grid(True)\n",
        "plt.xlim(right=200)\n",
        "plt.ylim(1e-7, 1e0)\n",
        "plt.legend()\n",
        "plt.tight_layout()\n",
        "# plt.savefig(\"NNGRX_MSE_plot.png\", dpi=300)\n",
        "plt.savefig(\"NNGRX_MSE_plot.png\")"
      ]
    },
    {
      "attachments": {},
      "cell_type": "markdown",
      "metadata": {
        "id": "tiEDutxIUZig"
      },
      "source": [
        "## Loading"
      ]
    },
    {
      "cell_type": "code",
      "execution_count": 101,
      "metadata": {
        "colab": {
          "base_uri": "https://localhost:8080/"
        },
        "id": "p7Mj990wUZih",
        "outputId": "a1132948-c3b1-4d75-becf-4efa93c9a7d0"
      },
      "outputs": [
        {
          "data": {
            "text/plain": [
              "<All keys matched successfully>"
            ]
          },
          "execution_count": 101,
          "metadata": {},
          "output_type": "execute_result"
        }
      ],
      "source": [
        "# load the dictionary from the .json file\n",
        "with open(\"var_dict.json\", \"r\") as f:\n",
        "  var_dict_loaded = json.load(f)\n",
        "\n",
        "# extract the variables from the dictionary\n",
        "batch_size_loaded = var_dict_loaded[\"batch_size\"]\n",
        "n_epochs_loaded = var_dict_loaded[\"n_epochs\"]\n",
        "loss_name_loaded = var_dict_loaded[\"loss_name\"]\n",
        "optimizer_name_loaded = var_dict_loaded[\"optimizer_name\"]\n",
        "scheduler_name_loaded = var_dict_loaded[\"scheduler_name\"]\n",
        "n_units_loaded = var_dict_loaded[\"n_units\"]\n",
        "n_layers_loaded = var_dict_loaded[\"n_layers\"]\n",
        "hidden_activation_name_loaded = var_dict_loaded[\"hidden_activation_name\"]\n",
        "output_activation_name_loaded = var_dict_loaded[\"output_activation_name\"]\n",
        "lr_loaded = var_dict_loaded[\"lr\"]\n",
        "dropout_rate_loaded = var_dict_loaded[\"dropout_rate\"]\n",
        "\n",
        "# Loading the activation functions with subparameters\n",
        "if hidden_activation_name_loaded == \"ReLU\":\n",
        "  hidden_activation_loaded = nn.ReLU()\n",
        "elif hidden_activation_name_loaded == \"LeakyReLU\":\n",
        "  negative_slope_loaded = var_dict_loaded.get(\"leakyrelu_slope\", 0.01)  # For backwards compatibiltiy with earlier models; default to 0.01 if not present\n",
        "  hidden_activation_loaded = nn.LeakyReLU(negative_slope=negative_slope_loaded)\n",
        "elif hidden_activation_name_loaded == \"ELU\":\n",
        "  hidden_activation_loaded = nn.ELU()\n",
        "elif hidden_activation_name_loaded == \"PReLU\":\n",
        "  init_loaded = var_dict_loaded.get(\"prelu_init\", 0.25)  # Default to 0.25 if not present\n",
        "  hidden_activation_loaded = nn.PReLU(init=init_loaded)\n",
        "elif hidden_activation_name_loaded == \"Swish\":\n",
        "    class Swish(nn.Module):\n",
        "        def forward(self, x):\n",
        "            return x * torch.sigmoid(x)\n",
        "    hidden_activation_loaded = Swish()\n",
        "elif hidden_activation_name_loaded == \"GELU\":\n",
        "    hidden_activation_loaded = nn.GELU()\n",
        "elif hidden_activation_name_loaded == \"SoftPlus\":\n",
        "  beta_loaded = var_dict_loaded.get(\"softplus_beta\", 1)  # Default to 1 if not present\n",
        "  hidden_activation_loaded = nn.Softplus(beta=beta_loaded)\n",
        "\n",
        "\n",
        "\n",
        "# We used to have options here, but since we have a regression problem with continuous output, we only use Linear.\n",
        "output_activation_loaded = nn.Identity()\n",
        "\n",
        "# load the network from the .pth file\n",
        "net_loaded = Net(\n",
        "    n_layers_loaded, \n",
        "    n_units_loaded, \n",
        "    hidden_activation_loaded, \n",
        "    output_activation_loaded, \n",
        "    dropout_rate_loaded\n",
        ").to(device)\n",
        "\n",
        "if torch.cuda.is_available():\n",
        " net_loaded.load_state_dict(torch.load(\"net.pth\"))\n",
        "else: \n",
        "  net_loaded.load_state_dict(torch.load(\"net.pth\", map_location=torch.device('cpu')))\n",
        "\n",
        "\n",
        "# Creating the loss function from its name\n",
        "if loss_name_loaded == \"MSE\":\n",
        "    loss_fn_loaded = nn.MSELoss()\n",
        "elif loss_name_loaded == \"MAE\":\n",
        "    loss_fn_loaded = nn.L1Loss()\n",
        "elif loss_name_loaded == \"Huber\":\n",
        "    loss_fn_loaded = nn.SmoothL1Loss() \n",
        "elif loss_name_loaded == \"Quantile\":\n",
        "    def quantile_loss(y_pred, y_true, q=0.5):\n",
        "        e = y_pred - y_true\n",
        "        return torch.mean(torch.max(q*e, (q-1)*e))\n",
        "    loss_fn_loaded = quantile_loss\n",
        "\n",
        "# load the optimizer from the .pth file\n",
        "if torch.cuda.is_available():\n",
        "  optimizer_loaded_state_dict = torch.load(\"optimizer.pth\")\n",
        "else:\n",
        "  optimizer_loaded_state_dict = torch.load(\"optimizer.pth\", map_location=torch.device('cpu'))\n",
        "\n",
        "if optimizer_name_loaded == \"SGD\":\n",
        "  # Added getting the weight decay and momentum parameters from the state dict\n",
        "  weight_decay_loaded = optimizer_loaded_state_dict[\"param_groups\"][0][\"weight_decay\"]\n",
        "  momentum_loaded = optimizer_loaded_state_dict[\"param_groups\"][0][\"momentum\"]\n",
        "  optimizer_loaded = optim.SGD(net_loaded.parameters(), lr=lr_loaded, weight_decay=weight_decay_loaded, momentum=momentum_loaded)\n",
        "elif optimizer_name_loaded == \"Adam\":\n",
        "  # Added getting the weight decay and beta parameters from the state dict\n",
        "  weight_decay_loaded = optimizer_loaded_state_dict[\"param_groups\"][0][\"weight_decay\"]\n",
        "  beta1_loaded = optimizer_loaded_state_dict[\"param_groups\"][0][\"betas\"][0]\n",
        "  beta2_loaded = optimizer_loaded_state_dict[\"param_groups\"][0][\"betas\"][1]\n",
        "  optimizer_loaded = optim.Adam(net_loaded.parameters(), lr=lr_loaded, weight_decay=weight_decay_loaded, betas=(beta1_loaded, beta2_loaded))\n",
        "elif optimizer_name_loaded == \"RMSprop\":\n",
        "  optimizer_loaded = optim.RMSprop(net_loaded.parameters(), lr=lr_loaded)\n",
        "elif optimizer_name_loaded == \"Adagrad\":\n",
        "  # Added loading the Adagrad optimizer\n",
        "  optimizer_loaded = optim.Adagrad(net_loaded.parameters(), lr=lr_loaded)\n",
        "optimizer_loaded.load_state_dict(optimizer_loaded_state_dict)\n",
        "\n",
        "# load the scheduler from the .pth file\n",
        "if torch.cuda.is_available():\n",
        "  scheduler_loaded_state_dict = torch.load(\"scheduler.pth\")\n",
        "else: \n",
        "  scheduler_loaded_state_dict = torch.load(\"scheduler.pth\", map_location=torch.device('cpu'))\n",
        "\n",
        "if scheduler_name_loaded == \"StepLR\":\n",
        "  # Added getting the step_size and gamma parameters from the state dict\n",
        "  step_size_loaded = scheduler_loaded_state_dict[\"step_size\"]\n",
        "  gamma_loaded = scheduler_loaded_state_dict[\"gamma\"]\n",
        "  scheduler_loaded = optim.lr_scheduler.StepLR(optimizer_loaded, step_size=step_size_loaded, gamma=gamma_loaded)\n",
        "elif scheduler_name_loaded == \"ExponentialLR\":\n",
        "  # Added getting the gamma parameter from the state dict\n",
        "  gamma_loaded = scheduler_loaded_state_dict[\"gamma\"]\n",
        "  scheduler_loaded = optim.lr_scheduler.ExponentialLR(optimizer_loaded, gamma=gamma_loaded)\n",
        "elif scheduler_name_loaded == \"CosineAnnealingLR\":\n",
        "  # Added getting the T_max parameter from the state dict\n",
        "  T_max_loaded = scheduler_loaded_state_dict[\"T_max\"]\n",
        "  scheduler_loaded = optim.lr_scheduler.CosineAnnealingLR(optimizer_loaded, T_max=T_max_loaded)\n",
        "elif scheduler_name_loaded == \"ReduceLROnPlateau\":\n",
        "  # Added getting the mode, factor, patience, threshold and min_lr parameters from the state dict\n",
        "  mode_loaded = scheduler_loaded_state_dict[\"mode\"]\n",
        "  factor_loaded = scheduler_loaded_state_dict[\"factor\"]\n",
        "  patience_loaded = scheduler_loaded_state_dict[\"patience\"]\n",
        "  threshold_loaded = scheduler_loaded_state_dict[\"threshold\"]\n",
        "  min_lr_loaded = scheduler_loaded_state_dict[\"min_lrs\"][0]\n",
        "  scheduler_loaded = optim.lr_scheduler.ReduceLROnPlateau(\n",
        "                    optimizer_loaded, mode=mode_loaded, factor=factor_loaded, patience=patience_loaded, threshold=threshold_loaded, min_lr=min_lr_loaded\n",
        "                )\n",
        "elif scheduler_name_loaded == \"CyclicLR\":  # Added CyclicLR\n",
        "    base_lr_loaded = scheduler_loaded_state_dict[\"base_lr\"]\n",
        "    max_lr_loaded = scheduler_loaded_state_dict[\"max_lr\"]\n",
        "    step_size_up_loaded = scheduler_loaded_state_dict[\"step_size_up\"]\n",
        "    scheduler_loaded = optim.lr_scheduler.CyclicLR(\n",
        "                    optimizer, base_lr=base_lr_loaded, max_lr=max_lr_loaded, step_size_up=step_size_up_loaded\n",
        "                )\n",
        "else:\n",
        "  scheduler_loaded = None\n",
        "\n",
        "if scheduler_loaded is not None:\n",
        "  # Added loading the state dict to the scheduler_loaded\n",
        "  scheduler_loaded.load_state_dict(scheduler_loaded_state_dict)\n",
        "\n",
        "# Loading the output of the training using pandas\n",
        "train_df_loaded = pd.read_csv(\"train_output.csv\")\n",
        "train_losses_loaded = train_df_loaded[\"train_loss\"].tolist()\n",
        "test_losses_loaded = train_df_loaded[\"test_loss\"].tolist()\n",
        "train_metrics_loaded = [\n",
        "    {\n",
        "        \"l1_norm\": train_df_loaded[\"train_l1_norm\"][i],\n",
        "        \"linf_norm\": train_df_loaded[\"train_linf_norm\"][i],\n",
        "    }\n",
        "    for i in range(len(train_df_loaded))\n",
        "]\n",
        "test_metrics_loaded = [\n",
        "    {\n",
        "        \"l1_norm\": train_df_loaded[\"test_l1_norm\"][i],\n",
        "        \"linf_norm\": train_df_loaded[\"test_linf_norm\"][i],\n",
        "    }\n",
        "    for i in range(len(train_df_loaded))\n",
        "]\n",
        "\n",
        "if OPTIMIZE or LOAD_PREVIOUS_STUDY:\n",
        "  # Loading the study from the SQLite file\n",
        "  # TODO: Fix this one, or we just use pickle\n",
        "  # study_loaded_db = optuna.load_study(study_name=f'{STUDY_NAME}', \n",
        "  #                           storage=f'sqlite:///{STUDY_NAME}.db')\n",
        "\n",
        "  # Loading the study from the pickle file\n",
        "  with open(f'{STUDY_NAME}.pkl', 'rb') as f:\n",
        "      study_loaded_pkl = pickle.load(f)\n",
        "\n",
        "  # To load the best trial's parameters.\n",
        "  with open('best_trial_params.json', 'r') as f:\n",
        "      best_trial_params_loaded = json.load(f)"
      ]
    },
    {
      "cell_type": "code",
      "execution_count": 102,
      "metadata": {},
      "outputs": [
        {
          "data": {
            "text/plain": [
              "49"
            ]
          },
          "execution_count": 102,
          "metadata": {},
          "output_type": "execute_result"
        },
        {
          "data": {
            "text/plain": [
              "2"
            ]
          },
          "execution_count": 102,
          "metadata": {},
          "output_type": "execute_result"
        },
        {
          "data": {
            "text/plain": [
              "'Huber'"
            ]
          },
          "execution_count": 102,
          "metadata": {},
          "output_type": "execute_result"
        },
        {
          "data": {
            "text/plain": [
              "'RMSprop'"
            ]
          },
          "execution_count": 102,
          "metadata": {},
          "output_type": "execute_result"
        },
        {
          "data": {
            "text/plain": [
              "'ReduceLROnPlateau'"
            ]
          },
          "execution_count": 102,
          "metadata": {},
          "output_type": "execute_result"
        },
        {
          "data": {
            "text/plain": [
              "[555, 458, 115]"
            ]
          },
          "execution_count": 102,
          "metadata": {},
          "output_type": "execute_result"
        },
        {
          "data": {
            "text/plain": [
              "3"
            ]
          },
          "execution_count": 102,
          "metadata": {},
          "output_type": "execute_result"
        },
        {
          "data": {
            "text/plain": [
              "'LeakyReLU'"
            ]
          },
          "execution_count": 102,
          "metadata": {},
          "output_type": "execute_result"
        },
        {
          "data": {
            "text/plain": [
              "'Identity'"
            ]
          },
          "execution_count": 102,
          "metadata": {},
          "output_type": "execute_result"
        },
        {
          "data": {
            "text/plain": [
              "0.000122770896701404"
            ]
          },
          "execution_count": 102,
          "metadata": {},
          "output_type": "execute_result"
        },
        {
          "data": {
            "text/plain": [
              "0.2"
            ]
          },
          "execution_count": 102,
          "metadata": {},
          "output_type": "execute_result"
        }
      ],
      "source": [
        "# %%script echo skipping\n",
        "\n",
        "var_dict_loaded[\"batch_size\"]\n",
        "var_dict_loaded[\"n_epochs\"]\n",
        "var_dict_loaded[\"loss_name\"]\n",
        "var_dict_loaded[\"optimizer_name\"]\n",
        "var_dict_loaded[\"scheduler_name\"]\n",
        "var_dict_loaded[\"n_units\"]\n",
        "var_dict_loaded[\"n_layers\"]\n",
        "var_dict_loaded[\"hidden_activation_name\"]\n",
        "var_dict_loaded[\"output_activation_name\"]\n",
        "var_dict_loaded[\"lr\"]\n",
        "var_dict_loaded[\"dropout_rate\"]\n"
      ]
    },
    {
      "cell_type": "code",
      "execution_count": 103,
      "metadata": {},
      "outputs": [],
      "source": [
        "if OPTIMIZE or LOAD_PREVIOUS_STUDY:\n",
        "    pass\n",
        "    # study_loaded_db"
      ]
    },
    {
      "cell_type": "code",
      "execution_count": 104,
      "metadata": {},
      "outputs": [],
      "source": [
        "if OPTIMIZE or LOAD_PREVIOUS_STUDY:\n",
        "    study_loaded_pkl\n",
        "    study_loaded_pkl.best_params"
      ]
    },
    {
      "cell_type": "code",
      "execution_count": 105,
      "metadata": {},
      "outputs": [],
      "source": [
        "if OPTIMIZE or LOAD_PREVIOUS_STUDY:\n",
        "    best_trial_params_loaded"
      ]
    },
    {
      "cell_type": "code",
      "execution_count": 106,
      "metadata": {},
      "outputs": [
        {
          "name": "stdout",
          "output_type": "stream",
          "text": [
            "skipping\n"
          ]
        }
      ],
      "source": [
        "%%script echo skipping\n",
        "\n",
        "scheduler_loaded_state_dict[\"mode\"]\n",
        "scheduler_loaded_state_dict[\"factor\"]\n",
        "scheduler_loaded_state_dict[\"patience\"]\n",
        "scheduler_loaded_state_dict[\"threshold\"]\n",
        "scheduler_loaded_state_dict[\"min_lrs\"]\n",
        "\n",
        "\n",
        "scheduler_loaded_state_dict[\"base_lr\"]\n",
        "scheduler_loaded_state_dict[\"max_lr\"]\n",
        "scheduler_loaded_state_dict[\"step_size_up\"]"
      ]
    },
    {
      "cell_type": "code",
      "execution_count": 107,
      "metadata": {},
      "outputs": [
        {
          "data": {
            "text/plain": [
              "{'batch_size': 49,\n",
              " 'n_epochs': 2,\n",
              " 'loss_name': 'Huber',\n",
              " 'optimizer_name': 'RMSprop',\n",
              " 'scheduler_name': 'ReduceLROnPlateau',\n",
              " 'n_units': [555, 458, 115],\n",
              " 'n_layers': 3,\n",
              " 'hidden_activation_name': 'LeakyReLU',\n",
              " 'output_activation_name': 'Identity',\n",
              " 'lr': 0.000122770896701404,\n",
              " 'dropout_rate': 0.2,\n",
              " 'leakyrelu_slope': 0.01}"
            ]
          },
          "execution_count": 107,
          "metadata": {},
          "output_type": "execute_result"
        },
        {
          "data": {
            "text/plain": [
              "'LeakyReLU'"
            ]
          },
          "execution_count": 107,
          "metadata": {},
          "output_type": "execute_result"
        }
      ],
      "source": [
        "# %%script echo skipping\n",
        "\n",
        "var_dict_loaded\n",
        "hidden_activation_name_loaded"
      ]
    },
    {
      "cell_type": "code",
      "execution_count": 108,
      "metadata": {
        "colab": {
          "base_uri": "https://localhost:8080/",
          "height": 1000
        },
        "id": "GQ_fcj7zUZii",
        "outputId": "c4979ef0-a99c-4754-e222-3af23a83c1cb"
      },
      "outputs": [
        {
          "data": {
            "text/plain": [
              "0.01"
            ]
          },
          "execution_count": 108,
          "metadata": {},
          "output_type": "execute_result"
        },
        {
          "data": {
            "text/plain": [
              "49"
            ]
          },
          "execution_count": 108,
          "metadata": {},
          "output_type": "execute_result"
        },
        {
          "data": {
            "text/plain": [
              "2"
            ]
          },
          "execution_count": 108,
          "metadata": {},
          "output_type": "execute_result"
        },
        {
          "data": {
            "text/plain": [
              "'Huber'"
            ]
          },
          "execution_count": 108,
          "metadata": {},
          "output_type": "execute_result"
        },
        {
          "data": {
            "text/plain": [
              "'RMSprop'"
            ]
          },
          "execution_count": 108,
          "metadata": {},
          "output_type": "execute_result"
        },
        {
          "data": {
            "text/plain": [
              "'ReduceLROnPlateau'"
            ]
          },
          "execution_count": 108,
          "metadata": {},
          "output_type": "execute_result"
        },
        {
          "data": {
            "text/plain": [
              "[555, 458, 115]"
            ]
          },
          "execution_count": 108,
          "metadata": {},
          "output_type": "execute_result"
        },
        {
          "data": {
            "text/plain": [
              "3"
            ]
          },
          "execution_count": 108,
          "metadata": {},
          "output_type": "execute_result"
        },
        {
          "data": {
            "text/plain": [
              "'LeakyReLU'"
            ]
          },
          "execution_count": 108,
          "metadata": {},
          "output_type": "execute_result"
        },
        {
          "data": {
            "text/plain": [
              "'Identity'"
            ]
          },
          "execution_count": 108,
          "metadata": {},
          "output_type": "execute_result"
        },
        {
          "data": {
            "text/plain": [
              "0.000122770896701404"
            ]
          },
          "execution_count": 108,
          "metadata": {},
          "output_type": "execute_result"
        },
        {
          "data": {
            "text/plain": [
              "0.2"
            ]
          },
          "execution_count": 108,
          "metadata": {},
          "output_type": "execute_result"
        },
        {
          "data": {
            "text/plain": [
              "LeakyReLU(negative_slope=0.01)"
            ]
          },
          "execution_count": 108,
          "metadata": {},
          "output_type": "execute_result"
        },
        {
          "data": {
            "text/plain": [
              "Identity()"
            ]
          },
          "execution_count": 108,
          "metadata": {},
          "output_type": "execute_result"
        },
        {
          "data": {
            "text/plain": [
              "Net(\n",
              "  (hidden_activation): LeakyReLU(negative_slope=0.01)\n",
              "  (output_activation): Identity()\n",
              "  (layers): ModuleList(\n",
              "    (0): Linear(in_features=14, out_features=555, bias=True)\n",
              "    (1): Linear(in_features=555, out_features=458, bias=True)\n",
              "    (2): Linear(in_features=458, out_features=115, bias=True)\n",
              "    (3): Linear(in_features=115, out_features=1, bias=True)\n",
              "  )\n",
              "  (dropouts): ModuleList(\n",
              "    (0-2): 3 x Dropout(p=0.2, inplace=False)\n",
              "  )\n",
              ")"
            ]
          },
          "execution_count": 108,
          "metadata": {},
          "output_type": "execute_result"
        },
        {
          "data": {
            "text/plain": [
              "{'training': True,\n",
              " '_parameters': OrderedDict(),\n",
              " '_buffers': OrderedDict(),\n",
              " '_non_persistent_buffers_set': set(),\n",
              " '_backward_pre_hooks': OrderedDict(),\n",
              " '_backward_hooks': OrderedDict(),\n",
              " '_is_full_backward_hook': None,\n",
              " '_forward_hooks': OrderedDict(),\n",
              " '_forward_hooks_with_kwargs': OrderedDict(),\n",
              " '_forward_pre_hooks': OrderedDict(),\n",
              " '_forward_pre_hooks_with_kwargs': OrderedDict(),\n",
              " '_state_dict_hooks': OrderedDict(),\n",
              " '_state_dict_pre_hooks': OrderedDict(),\n",
              " '_load_state_dict_pre_hooks': OrderedDict(),\n",
              " '_load_state_dict_post_hooks': OrderedDict(),\n",
              " '_modules': OrderedDict([('hidden_activation',\n",
              "               LeakyReLU(negative_slope=0.01)),\n",
              "              ('output_activation', Identity()),\n",
              "              ('layers',\n",
              "               ModuleList(\n",
              "                 (0): Linear(in_features=14, out_features=555, bias=True)\n",
              "                 (1): Linear(in_features=555, out_features=458, bias=True)\n",
              "                 (2): Linear(in_features=458, out_features=115, bias=True)\n",
              "                 (3): Linear(in_features=115, out_features=1, bias=True)\n",
              "               )),\n",
              "              ('dropouts',\n",
              "               ModuleList(\n",
              "                 (0-2): 3 x Dropout(p=0.2, inplace=False)\n",
              "               ))]),\n",
              " 'n_layers': 3,\n",
              " 'n_units': [555, 458, 115],\n",
              " 'dropout_rate': 0.2}"
            ]
          },
          "execution_count": 108,
          "metadata": {},
          "output_type": "execute_result"
        },
        {
          "data": {
            "text/plain": [
              "SmoothL1Loss()"
            ]
          },
          "execution_count": 108,
          "metadata": {},
          "output_type": "execute_result"
        },
        {
          "data": {
            "text/plain": [
              "RMSprop (\n",
              "Parameter Group 0\n",
              "    alpha: 0.99\n",
              "    centered: False\n",
              "    differentiable: False\n",
              "    eps: 1e-08\n",
              "    foreach: None\n",
              "    lr: 0.000122770896701404\n",
              "    maximize: False\n",
              "    momentum: 0\n",
              "    weight_decay: 0\n",
              ")"
            ]
          },
          "execution_count": 108,
          "metadata": {},
          "output_type": "execute_result"
        },
        {
          "data": {
            "text/plain": [
              "{'defaults': {'lr': 0.000122770896701404,\n",
              "  'momentum': 0,\n",
              "  'alpha': 0.99,\n",
              "  'eps': 1e-08,\n",
              "  'centered': False,\n",
              "  'weight_decay': 0,\n",
              "  'foreach': None,\n",
              "  'maximize': False,\n",
              "  'differentiable': False},\n",
              " '_optimizer_step_pre_hooks': OrderedDict(),\n",
              " '_optimizer_step_post_hooks': OrderedDict(),\n",
              " '_zero_grad_profile_name': 'Optimizer.zero_grad#RMSprop.zero_grad',\n",
              " 'state': defaultdict(dict,\n",
              "             {Parameter containing:\n",
              "              tensor([[ 0.0738,  0.2414, -0.1703,  ...,  0.2402, -0.1743,  0.2385],\n",
              "                      [-0.2128,  0.0363,  0.1756,  ...,  0.1272, -0.1406,  0.0287],\n",
              "                      [-0.0234, -0.0696, -0.0674,  ...,  0.1202,  0.1208,  0.0862],\n",
              "                      ...,\n",
              "                      [-0.0726,  0.1377, -0.0560,  ..., -0.1889,  0.2568,  0.0568],\n",
              "                      [-0.0389,  0.2154, -0.1232,  ..., -0.0022, -0.2059,  0.2627],\n",
              "                      [-0.1321, -0.2538,  0.1026,  ..., -0.0364,  0.0552, -0.0762]],\n",
              "                     requires_grad=True): {'step': 2,\n",
              "               'square_avg': tensor([[6.2623e-08, 2.2389e-06, 1.2105e-05,  ..., 4.7777e-09, 8.0879e-12,\n",
              "                        4.5694e-09],\n",
              "                       [6.0829e-07, 2.1435e-04, 7.8190e-04,  ..., 3.7371e-07, 9.6062e-10,\n",
              "                        3.8276e-07],\n",
              "                       [9.6293e-11, 1.4447e-09, 6.8945e-09,  ..., 5.2457e-12, 1.2126e-14,\n",
              "                        5.3595e-12],\n",
              "                       ...,\n",
              "                       [6.6068e-12, 7.0019e-09, 4.3689e-10,  ..., 1.3035e-12, 1.3841e-14,\n",
              "                        1.3796e-12],\n",
              "                       [2.4502e-08, 4.6267e-06, 2.0000e-06,  ..., 3.0586e-09, 2.6706e-11,\n",
              "                        1.8414e-09],\n",
              "                       [2.1575e-06, 7.9909e-05, 1.6580e-04,  ..., 1.1403e-07, 6.0578e-10,\n",
              "                        1.1323e-07]])},\n",
              "              Parameter containing:\n",
              "              tensor([-6.7164e-02, -2.4017e-01, -2.3307e-01,  8.5688e-02,  1.9355e-01,\n",
              "                       1.5645e-01,  2.5005e-01, -6.3379e-02, -9.1266e-03,  1.5001e-01,\n",
              "                      -1.9132e-01,  1.5667e-02, -4.9181e-02,  9.2695e-02, -1.4535e-01,\n",
              "                       2.1469e-01,  1.8116e-01, -7.4066e-02,  8.8678e-02,  1.0811e-01,\n",
              "                      -1.0128e-01,  1.4352e-01, -1.4284e-01, -1.0463e-01, -1.9108e-02,\n",
              "                       1.3190e-01,  2.5050e-01,  1.6039e-01, -1.7190e-01, -1.8972e-01,\n",
              "                      -2.6232e-01, -3.5252e-02, -2.6597e-01,  7.0804e-02, -7.0483e-02,\n",
              "                      -2.5479e-01, -1.4105e-01, -1.8028e-01, -2.2845e-01,  4.7005e-02,\n",
              "                       1.2659e-01, -9.5340e-02, -6.2825e-02, -2.4838e-01, -9.4000e-02,\n",
              "                      -2.1168e-01,  6.9227e-02, -1.9068e-01, -6.9859e-02, -7.8727e-02,\n",
              "                      -6.2075e-02,  2.1166e-01,  1.7879e-02, -2.6521e-02,  2.5422e-02,\n",
              "                      -2.2859e-02, -1.1841e-01, -1.1637e-02, -3.9229e-02, -1.6859e-01,\n",
              "                      -1.3642e-02, -2.5609e-01, -1.4942e-01,  3.4907e-02,  1.5707e-01,\n",
              "                      -2.3504e-01,  1.9294e-01, -3.7398e-02, -8.2026e-02,  1.4443e-01,\n",
              "                      -8.6312e-02, -3.7015e-02, -1.6947e-01, -1.1787e-01,  1.1855e-01,\n",
              "                      -1.3370e-01,  1.8575e-01, -7.3874e-02,  5.1435e-02,  1.2503e-02,\n",
              "                      -1.7904e-01, -4.4257e-02, -3.2944e-03,  2.1256e-01, -9.8669e-02,\n",
              "                       1.7973e-01,  1.8645e-02, -2.2566e-01,  1.8522e-02,  2.4403e-01,\n",
              "                      -6.5627e-02, -1.6250e-02, -9.4921e-02,  1.9324e-02,  4.1376e-02,\n",
              "                      -6.4070e-02,  2.3696e-01, -2.6102e-01, -2.3687e-01,  2.4185e-01,\n",
              "                      -2.5835e-01,  4.9087e-02, -1.7545e-01,  4.1541e-02,  3.2759e-02,\n",
              "                      -1.8097e-01, -1.5249e-01, -1.0206e-01, -1.1062e-01, -1.7482e-01,\n",
              "                      -1.0102e-01, -1.7433e-01, -1.4115e-01,  1.6674e-01, -2.7021e-02,\n",
              "                       2.2846e-02, -2.8983e-02,  1.3426e-01,  1.6725e-01,  1.5149e-01,\n",
              "                      -1.6354e-02,  1.6719e-01, -1.1310e-01, -5.4615e-02, -1.2062e-01,\n",
              "                       3.9274e-02,  4.0121e-02,  1.5906e-01,  1.6939e-01,  5.6023e-02,\n",
              "                      -8.7608e-02,  1.7009e-01, -2.1556e-02, -1.7530e-01, -1.5804e-01,\n",
              "                       1.1512e-01,  1.2893e-01,  1.8511e-01,  1.2514e-01,  4.6159e-02,\n",
              "                      -8.3850e-02,  2.4381e-01, -2.4449e-02,  2.3959e-01,  1.1993e-01,\n",
              "                       5.5213e-02, -2.3306e-01,  8.7876e-02,  2.3364e-01, -7.9167e-02,\n",
              "                      -2.2377e-01, -9.7145e-02, -2.3766e-01,  1.7466e-01, -1.8976e-01,\n",
              "                      -8.3010e-02,  6.8315e-02, -7.6243e-02,  1.8039e-01,  1.4767e-01,\n",
              "                       1.8023e-01, -1.4209e-01, -2.1479e-01,  1.7721e-01, -1.3151e-01,\n",
              "                      -2.4702e-01,  4.2855e-02,  8.3869e-03,  2.4407e-02, -7.6526e-02,\n",
              "                      -2.0146e-01,  1.1219e-01, -3.4778e-02, -1.1093e-01, -1.9978e-01,\n",
              "                       1.5633e-01, -9.1808e-02, -1.8235e-01,  1.6976e-01, -1.0306e-01,\n",
              "                      -2.0097e-01, -9.5396e-02,  2.5268e-01,  3.6729e-02,  1.5920e-01,\n",
              "                      -2.4912e-01, -1.5879e-01,  2.0281e-01,  5.5018e-02, -1.7345e-01,\n",
              "                      -5.8940e-04,  2.0360e-01, -9.7534e-02, -2.1379e-01,  1.4269e-01,\n",
              "                      -1.6348e-01,  8.3787e-02,  1.8369e-01, -2.1559e-01,  4.1671e-02,\n",
              "                      -2.2225e-01,  9.1065e-02, -1.5204e-01,  2.0343e-01,  2.5806e-01,\n",
              "                       7.3076e-02,  1.9280e-01, -1.2590e-01, -2.5203e-01,  7.1020e-02,\n",
              "                      -5.1847e-03,  9.3220e-02, -1.9665e-01, -1.1051e-01,  3.6186e-02,\n",
              "                       5.0966e-02, -6.1745e-03,  1.7988e-01, -2.1031e-01,  7.9214e-02,\n",
              "                       1.5735e-01, -1.4456e-01,  7.4057e-02,  8.5071e-03, -3.2106e-02,\n",
              "                       2.1524e-01, -1.7163e-01, -2.4177e-01, -2.7637e-02, -1.1941e-01,\n",
              "                       1.6697e-01, -1.4339e-01,  2.4274e-03,  5.5594e-02, -8.1904e-02,\n",
              "                       3.1857e-02, -2.3775e-03, -6.5284e-02, -6.8043e-02,  2.0947e-01,\n",
              "                      -1.9544e-01,  1.2060e-01,  2.3880e-01, -7.7242e-02,  2.8998e-02,\n",
              "                      -3.6316e-02,  1.5336e-01,  1.9084e-01,  2.5470e-01, -2.4231e-01,\n",
              "                      -2.2815e-01, -2.3587e-02, -1.6928e-01, -2.2751e-01, -1.5152e-01,\n",
              "                       1.2396e-01,  1.9919e-01,  1.2984e-01,  2.6763e-01, -2.2731e-01,\n",
              "                       2.3141e-01,  6.6482e-02, -1.0272e-03,  2.0670e-01, -1.2818e-01,\n",
              "                      -1.6728e-01,  2.0755e-01, -1.9066e-01,  1.9539e-01, -2.5795e-01,\n",
              "                       2.0324e-01,  4.1425e-03,  1.2810e-01,  1.3129e-01, -1.4479e-01,\n",
              "                      -2.4865e-01, -6.8855e-02,  3.8055e-02, -1.2085e-01, -3.1895e-02,\n",
              "                      -1.2977e-01,  2.0658e-01, -2.5815e-01,  8.6105e-03, -9.4340e-02,\n",
              "                      -1.1804e-02,  1.0166e-01,  2.0192e-01,  1.5703e-01,  9.3855e-02,\n",
              "                      -1.2738e-01, -6.7602e-03,  1.3177e-01, -1.1760e-02, -3.6383e-02,\n",
              "                       4.7047e-02, -2.4801e-01,  3.1864e-02, -8.8163e-02, -1.7617e-01,\n",
              "                      -1.1392e-01, -2.3904e-01,  4.9729e-02, -1.6542e-01,  1.1199e-01,\n",
              "                       6.4573e-02, -7.9194e-03,  6.3504e-02,  2.4560e-01,  2.0871e-01,\n",
              "                       1.7595e-01, -1.4209e-01,  7.8535e-02, -1.7807e-01,  1.4041e-01,\n",
              "                      -3.2197e-02, -2.5525e-01, -2.3181e-01, -4.7437e-02,  1.9883e-01,\n",
              "                      -1.1930e-01, -2.1986e-01,  1.8386e-01,  1.3034e-01,  1.4437e-02,\n",
              "                       8.1359e-02, -2.0224e-01,  1.7143e-01,  1.3510e-01, -9.8439e-02,\n",
              "                      -2.6306e-01, -1.2007e-01, -9.4747e-02, -3.9467e-02, -2.1491e-01,\n",
              "                       2.4235e-02,  6.9119e-02,  4.5453e-02, -1.5854e-01,  1.0499e-01,\n",
              "                       2.0061e-02,  2.2581e-01,  1.2520e-01, -1.7190e-01, -8.4293e-02,\n",
              "                       1.8044e-01,  9.2103e-02,  2.2761e-01, -1.1637e-01,  1.5921e-01,\n",
              "                       8.6731e-02, -9.3437e-02,  4.8666e-02,  1.8826e-01, -1.9892e-01,\n",
              "                      -4.9753e-02, -3.0723e-02,  1.7247e-02,  3.4324e-02,  3.8574e-03,\n",
              "                       2.5285e-01,  1.6340e-02,  2.4709e-02,  1.7144e-01,  9.1283e-02,\n",
              "                       2.4668e-01, -1.9058e-01, -1.4516e-02,  1.6806e-01,  1.3432e-01,\n",
              "                      -2.6613e-01,  3.8671e-02,  1.0463e-01,  8.9291e-02, -6.8605e-02,\n",
              "                       6.5986e-03,  1.2284e-01, -2.3942e-01,  1.4821e-01, -2.0340e-01,\n",
              "                      -1.4293e-01,  1.1214e-02, -1.8329e-02, -2.2041e-01,  1.0750e-01,\n",
              "                       4.2915e-02, -2.0521e-01,  1.7648e-01, -1.6992e-01,  2.3573e-01,\n",
              "                      -1.9519e-01, -2.0995e-02,  2.4601e-01, -1.4879e-01,  7.3480e-02,\n",
              "                       2.9841e-04, -4.1057e-03, -2.3392e-01, -7.1871e-02,  2.5781e-01,\n",
              "                       2.1765e-01, -9.5219e-04, -2.2315e-01,  2.1060e-02, -7.1671e-02,\n",
              "                      -1.2641e-01, -1.8139e-01, -2.0910e-01,  1.9919e-01,  2.2980e-01,\n",
              "                      -1.4027e-01, -1.4636e-01, -1.3389e-01, -7.7220e-02, -2.3434e-01,\n",
              "                       3.9265e-02,  2.3406e-01,  1.7417e-01, -2.7214e-02, -1.4930e-01,\n",
              "                      -9.8467e-03, -9.9812e-02,  1.2711e-01,  1.0015e-01, -2.0547e-02,\n",
              "                       2.4946e-01, -2.0351e-01, -2.0985e-02, -1.9278e-01,  4.4121e-03,\n",
              "                       2.4433e-02,  8.9254e-02, -1.2252e-01,  2.3966e-01,  1.1383e-01,\n",
              "                       1.6050e-01, -3.7961e-02, -1.0440e-01,  1.8942e-01,  2.3793e-02,\n",
              "                      -1.9809e-01, -2.1366e-01, -1.8314e-01,  6.4082e-02,  2.0992e-01,\n",
              "                      -1.1812e-01, -2.1920e-01, -3.6456e-02,  2.3833e-01,  1.1318e-01,\n",
              "                       7.3241e-02,  1.8792e-01, -2.6583e-01, -1.4127e-01, -3.8141e-02,\n",
              "                       1.7094e-01, -2.2446e-01, -4.5348e-03, -2.6592e-01,  1.5987e-01,\n",
              "                      -6.6640e-02, -9.1340e-02, -1.2521e-01,  1.1589e-01, -6.2680e-02,\n",
              "                      -2.1869e-01,  3.4879e-02, -4.3981e-03,  1.2610e-01, -5.6041e-02,\n",
              "                       3.7451e-02, -6.4166e-03,  1.6632e-01,  6.8918e-03, -5.4196e-02,\n",
              "                       3.7989e-02, -8.8338e-02, -2.6020e-01,  1.5981e-01, -9.2498e-02,\n",
              "                      -1.3935e-01,  9.2593e-02,  6.2634e-02,  1.5827e-01,  1.7414e-01,\n",
              "                       2.3552e-01, -1.2698e-01, -3.2237e-02,  1.2308e-01,  2.6615e-01,\n",
              "                      -4.3500e-02,  2.0807e-01, -7.0721e-02, -1.0343e-01, -6.9918e-02,\n",
              "                      -2.4472e-01, -4.2909e-02, -2.5489e-01,  1.5406e-01, -8.7809e-02,\n",
              "                       4.1396e-02,  2.8064e-02,  1.9301e-02,  1.5140e-01, -2.0004e-01,\n",
              "                      -1.0081e-01,  2.0760e-01,  1.2075e-01,  1.6695e-01, -1.0909e-02,\n",
              "                       1.6603e-01,  1.4437e-01,  9.6849e-02,  1.1935e-01, -1.5552e-01,\n",
              "                       3.9196e-02,  1.3866e-01, -6.5172e-05, -3.3967e-02,  8.1555e-02,\n",
              "                      -1.7180e-01, -2.4651e-01, -4.7458e-02, -2.1701e-01,  1.4305e-01,\n",
              "                       1.0412e-01,  4.0392e-02, -2.6292e-01, -3.5709e-02, -6.5917e-02,\n",
              "                      -9.5914e-02,  8.9896e-02, -1.5293e-01, -1.9351e-01,  1.8777e-01,\n",
              "                      -1.0903e-01,  1.7376e-01,  1.0785e-01,  1.7369e-02,  8.0882e-02,\n",
              "                       1.7973e-01,  2.2094e-01,  9.2196e-02, -7.9143e-02, -2.6320e-01,\n",
              "                       2.1985e-01,  2.4162e-01,  8.8951e-02, -3.8539e-02, -3.7052e-02,\n",
              "                      -2.0986e-01, -1.3848e-01,  1.6790e-01, -2.0514e-01,  1.1280e-01],\n",
              "                     requires_grad=True): {'step': 2,\n",
              "               'square_avg': tensor([4.4499e-09, 3.6111e-07, 5.1370e-12, 3.5721e-12, 5.4381e-09, 3.4001e-09,\n",
              "                       1.1572e-08, 2.2349e-09, 9.4306e-08, 1.3312e-14, 1.0185e-07, 2.2286e-08,\n",
              "                       1.0838e-12, 3.7187e-08, 1.0250e-08, 1.6537e-08, 1.9176e-08, 5.2331e-08,\n",
              "                       1.1307e-08, 1.0795e-07, 1.3837e-11, 1.7225e-07, 2.5437e-09, 1.1210e-08,\n",
              "                       1.0356e-08, 1.9583e-08, 1.1500e-09, 2.1941e-08, 1.0648e-11, 1.2819e-12,\n",
              "                       5.7791e-09, 1.0168e-11, 3.8994e-08, 1.6470e-09, 7.9561e-08, 5.3720e-08,\n",
              "                       1.8560e-08, 2.2571e-07, 6.2159e-09, 3.1287e-08, 4.1666e-12, 3.5136e-10,\n",
              "                       2.6614e-10, 3.5390e-08, 1.8838e-09, 3.1803e-12, 3.2628e-08, 1.4328e-09,\n",
              "                       1.1353e-12, 3.4558e-12, 2.8889e-09, 1.5620e-11, 2.5364e-08, 2.7189e-10,\n",
              "                       1.2811e-09, 1.9967e-08, 9.1812e-09, 2.4825e-08, 2.4607e-09, 3.7332e-09,\n",
              "                       2.6825e-11, 1.2843e-08, 1.2845e-08, 6.0110e-09, 4.9005e-10, 7.3869e-08,\n",
              "                       9.0849e-12, 2.3252e-11, 1.0330e-08, 7.5395e-09, 2.9822e-12, 1.9468e-11,\n",
              "                       1.1513e-11, 2.9580e-08, 1.2580e-11, 1.8228e-08, 8.3236e-10, 2.1101e-12,\n",
              "                       7.0004e-09, 2.0419e-08, 7.4251e-12, 7.5710e-08, 1.7558e-08, 1.0308e-08,\n",
              "                       3.9350e-09, 3.4814e-12, 5.9685e-09, 4.2336e-09, 3.8546e-08, 2.3012e-11,\n",
              "                       1.2166e-08, 7.1543e-08, 5.7641e-08, 1.7687e-08, 1.1664e-12, 2.1203e-08,\n",
              "                       1.8661e-08, 1.0537e-11, 2.3754e-08, 1.0511e-07, 1.1111e-09, 9.9134e-08,\n",
              "                       1.2777e-11, 1.8685e-08, 7.1730e-09, 1.8751e-11, 4.3519e-08, 2.2651e-08,\n",
              "                       3.6111e-09, 4.5866e-09, 2.9888e-12, 3.4106e-09, 1.3060e-07, 3.2486e-09,\n",
              "                       3.5532e-07, 2.6262e-12, 8.8579e-12, 8.1790e-09, 3.5533e-08, 2.3121e-08,\n",
              "                       6.4774e-13, 3.8936e-08, 3.6820e-12, 4.3135e-09, 8.4408e-08, 2.0630e-08,\n",
              "                       1.9668e-08, 9.6045e-09, 5.9803e-08, 1.8350e-08, 1.2304e-08, 1.6224e-08,\n",
              "                       1.3576e-11, 6.1944e-08, 3.8029e-08, 7.3264e-08, 7.6847e-12, 6.1982e-08,\n",
              "                       2.2676e-08, 4.6730e-13, 6.4958e-08, 1.3318e-08, 4.4299e-09, 2.5561e-12,\n",
              "                       1.1126e-07, 5.0216e-13, 4.6360e-08, 3.6505e-08, 5.5838e-12, 2.9505e-08,\n",
              "                       2.7364e-07, 1.2263e-09, 1.0136e-07, 6.2409e-09, 2.9577e-13, 2.7867e-11,\n",
              "                       1.3393e-08, 4.2403e-13, 1.0145e-07, 7.5671e-12, 6.3671e-10, 1.0915e-09,\n",
              "                       2.2703e-08, 3.8646e-12, 9.5702e-09, 6.8756e-09, 1.0073e-07, 1.7095e-08,\n",
              "                       4.6583e-08, 1.2100e-13, 4.0617e-07, 4.3507e-08, 8.5866e-08, 3.4220e-08,\n",
              "                       5.4040e-08, 8.8421e-09, 1.0440e-07, 1.9730e-08, 1.4170e-08, 9.9076e-08,\n",
              "                       7.2093e-08, 4.7491e-09, 5.6852e-08, 5.9071e-12, 8.5944e-08, 2.4917e-08,\n",
              "                       5.9588e-08, 1.4299e-09, 1.0931e-08, 1.1818e-07, 4.9584e-08, 1.0527e-08,\n",
              "                       1.1025e-07, 8.3516e-13, 1.0269e-11, 2.1048e-07, 6.7300e-08, 7.3961e-09,\n",
              "                       4.1246e-14, 1.0985e-07, 7.8003e-09, 2.2299e-11, 1.4809e-09, 5.2692e-12,\n",
              "                       3.0280e-12, 9.0742e-09, 1.1036e-07, 6.6457e-12, 2.9311e-08, 6.3933e-08,\n",
              "                       2.6188e-12, 3.4381e-12, 5.9009e-09, 2.0273e-09, 7.2680e-12, 1.8743e-08,\n",
              "                       4.6044e-10, 2.4890e-12, 2.9431e-08, 6.0097e-09, 2.0174e-08, 2.7117e-08,\n",
              "                       5.5515e-08, 7.8714e-08, 9.2670e-12, 5.8975e-12, 9.5942e-12, 8.1600e-09,\n",
              "                       5.4976e-09, 2.1780e-08, 1.1969e-08, 3.4664e-08, 2.8248e-09, 1.2555e-11,\n",
              "                       9.8401e-10, 1.5321e-07, 8.0477e-08, 3.0851e-08, 9.0503e-12, 1.6527e-09,\n",
              "                       6.0038e-09, 2.8306e-08, 2.1415e-07, 3.6459e-08, 1.2471e-12, 7.3751e-08,\n",
              "                       3.6340e-12, 1.3730e-08, 5.4883e-08, 9.7138e-09, 5.0807e-08, 4.9673e-09,\n",
              "                       3.2923e-09, 5.3654e-13, 5.6580e-08, 5.9480e-07, 2.9380e-12, 3.4867e-12,\n",
              "                       2.4566e-12, 2.7594e-09, 1.2744e-11, 3.9400e-07, 4.8591e-08, 9.7398e-12,\n",
              "                       7.6714e-12, 3.9125e-15, 5.8841e-09, 7.9758e-09, 1.4840e-08, 4.5647e-08,\n",
              "                       2.1859e-09, 1.5291e-08, 2.4465e-12, 1.8219e-08, 1.7880e-08, 2.6778e-07,\n",
              "                       2.8714e-09, 9.1196e-12, 3.3581e-13, 1.0875e-08, 1.0311e-08, 1.4222e-07,\n",
              "                       8.2103e-09, 8.6086e-09, 5.4341e-08, 1.3245e-08, 5.9908e-09, 1.6094e-07,\n",
              "                       4.3024e-09, 1.6668e-08, 4.4031e-12, 6.7273e-08, 2.1845e-07, 2.1339e-08,\n",
              "                       2.4020e-12, 1.2938e-08, 2.2604e-08, 7.7930e-08, 6.4221e-08, 8.6348e-08,\n",
              "                       5.3323e-12, 3.9554e-09, 2.1930e-09, 2.8887e-07, 1.2112e-07, 4.2902e-09,\n",
              "                       2.0487e-08, 3.5840e-09, 1.1704e-11, 2.5690e-08, 4.5024e-09, 1.8824e-07,\n",
              "                       3.6838e-12, 2.9169e-12, 3.4233e-10, 3.9303e-10, 2.0528e-08, 3.9254e-08,\n",
              "                       3.6273e-09, 1.8008e-08, 2.8899e-08, 5.5221e-08, 1.0782e-08, 3.2434e-13,\n",
              "                       2.3632e-07, 3.3334e-11, 2.0403e-10, 9.7111e-11, 1.3897e-08, 2.0628e-11,\n",
              "                       7.3637e-09, 1.5610e-09, 6.8880e-09, 2.5127e-08, 4.5603e-09, 1.3918e-07,\n",
              "                       3.6134e-12, 4.9100e-09, 3.8304e-09, 1.2406e-07, 1.9129e-08, 7.7050e-13,\n",
              "                       1.9780e-07, 3.1048e-08, 1.2133e-11, 6.8826e-09, 5.3292e-13, 2.6106e-08,\n",
              "                       3.0311e-08, 4.6439e-07, 4.7700e-12, 7.1989e-08, 7.5121e-09, 1.8851e-12,\n",
              "                       2.9360e-08, 3.3828e-09, 6.0831e-08, 2.3598e-08, 9.6448e-08, 7.5798e-08,\n",
              "                       3.6336e-11, 6.9905e-08, 3.3015e-08, 7.8247e-13, 5.3038e-09, 4.1123e-08,\n",
              "                       6.1334e-12, 1.0713e-11, 2.4935e-12, 1.2740e-07, 7.2241e-08, 6.1260e-09,\n",
              "                       2.0229e-08, 3.4817e-08, 5.3403e-11, 4.4162e-08, 3.4306e-12, 1.8563e-08,\n",
              "                       1.2627e-08, 2.1723e-12, 3.1541e-09, 2.1590e-08, 1.8649e-07, 1.7446e-11,\n",
              "                       1.2053e-08, 7.6335e-08, 1.4878e-08, 3.3961e-08, 2.0052e-08, 1.3789e-08,\n",
              "                       2.1133e-08, 1.4542e-08, 3.2417e-08, 3.2200e-08, 3.8363e-09, 1.3427e-07,\n",
              "                       3.8596e-09, 3.8018e-10, 1.3013e-11, 2.5573e-08, 1.0450e-07, 1.5677e-08,\n",
              "                       1.0473e-08, 1.9758e-08, 5.4277e-09, 9.7349e-08, 3.3383e-08, 1.6907e-11,\n",
              "                       1.8092e-08, 8.0628e-13, 2.9473e-08, 3.9104e-10, 1.0219e-08, 1.5335e-08,\n",
              "                       4.1825e-08, 5.5859e-09, 4.0893e-12, 2.4734e-11, 1.1348e-08, 1.7167e-07,\n",
              "                       1.6161e-08, 3.9313e-08, 6.5100e-08, 5.9665e-08, 2.7123e-07, 3.3280e-08,\n",
              "                       2.8496e-07, 1.5039e-07, 2.0121e-09, 7.0167e-09, 4.6767e-08, 5.2020e-08,\n",
              "                       2.7969e-08, 1.5871e-08, 3.2033e-08, 1.3818e-11, 2.0398e-11, 5.3345e-13,\n",
              "                       1.5231e-09, 7.2627e-09, 6.0379e-08, 4.4392e-12, 8.3993e-12, 3.4356e-08,\n",
              "                       2.9969e-07, 1.8512e-11, 1.7178e-11, 9.0504e-08, 5.0219e-08, 2.5421e-08,\n",
              "                       1.1328e-10, 2.3297e-08, 1.7763e-10, 1.6461e-11, 1.9195e-10, 1.1274e-08,\n",
              "                       1.5455e-08, 2.3523e-08, 1.4879e-11, 1.6982e-07, 2.8605e-08, 1.8011e-08,\n",
              "                       1.8549e-08, 2.7690e-07, 1.4257e-11, 8.7473e-10, 2.5670e-07, 9.9860e-08,\n",
              "                       3.2787e-08, 1.9237e-09, 4.8200e-10, 2.6815e-09, 4.2427e-08, 2.0489e-08,\n",
              "                       1.6550e-12, 9.9525e-12, 1.2620e-08, 3.1398e-09, 1.1875e-07, 1.0983e-11,\n",
              "                       4.8911e-08, 3.1409e-09, 1.6562e-07, 7.2903e-13, 1.6016e-09, 4.9404e-12,\n",
              "                       2.6969e-08, 2.5164e-09, 2.6528e-08, 2.7074e-07, 1.2174e-07, 2.5281e-09,\n",
              "                       2.7273e-08, 3.0843e-08, 1.4896e-08, 2.5459e-12, 4.3639e-09, 9.6340e-08,\n",
              "                       5.7842e-12, 6.2368e-08, 1.0236e-08, 9.2347e-08, 6.8114e-09, 4.1573e-09,\n",
              "                       1.9957e-12, 4.1232e-07, 9.3848e-13, 6.4655e-09, 2.7048e-08, 5.2449e-09,\n",
              "                       1.6214e-07, 2.7012e-09, 2.7206e-08, 2.5479e-08, 6.0369e-08, 3.0267e-07,\n",
              "                       1.5525e-08, 8.1169e-08, 1.7516e-12, 1.5854e-09, 1.0736e-08, 2.2626e-07,\n",
              "                       5.2948e-08, 1.4438e-09, 2.0301e-08, 6.4230e-08, 5.8091e-09, 6.9688e-09,\n",
              "                       2.9155e-08, 7.0855e-08, 2.4694e-08, 4.6159e-13, 2.2690e-10, 2.8724e-12,\n",
              "                       1.6602e-08, 1.1526e-08, 1.2364e-08, 3.0186e-08, 8.1956e-09, 3.5689e-08,\n",
              "                       9.8511e-08, 7.8791e-10, 5.9651e-08, 1.0792e-08, 4.6951e-13, 7.6306e-13,\n",
              "                       2.7963e-08, 2.1312e-09, 1.7715e-11, 9.1803e-08, 6.6130e-08, 3.6563e-08,\n",
              "                       1.3739e-12, 2.3642e-09, 1.1504e-07])},\n",
              "              Parameter containing:\n",
              "              tensor([[ 0.0317,  0.0146,  0.0098,  ...,  0.0168,  0.0285, -0.0387],\n",
              "                      [-0.0070, -0.0021,  0.0188,  ...,  0.0192, -0.0048,  0.0415],\n",
              "                      [ 0.0397,  0.0170, -0.0418,  ..., -0.0363, -0.0021,  0.0189],\n",
              "                      ...,\n",
              "                      [ 0.0226,  0.0234,  0.0135,  ...,  0.0138, -0.0356,  0.0026],\n",
              "                      [ 0.0317, -0.0005,  0.0106,  ...,  0.0306, -0.0374, -0.0374],\n",
              "                      [-0.0263,  0.0349, -0.0403,  ..., -0.0087,  0.0295, -0.0143]],\n",
              "                     requires_grad=True): {'step': 2,\n",
              "               'square_avg': tensor([[2.1586e-08, 1.9297e-04, 7.7060e-09,  ..., 1.4176e-09, 1.0166e-06,\n",
              "                        2.1631e-04],\n",
              "                       [4.1733e-07, 3.5866e-04, 2.4993e-08,  ..., 1.1181e-08, 6.1931e-07,\n",
              "                        4.2720e-04],\n",
              "                       [5.5277e-07, 1.0291e-04, 2.7876e-08,  ..., 1.2242e-08, 1.5634e-06,\n",
              "                        2.4587e-04],\n",
              "                       ...,\n",
              "                       [8.2013e-11, 1.2554e-08, 1.3224e-12,  ..., 1.1720e-12, 1.0536e-11,\n",
              "                        3.7142e-09],\n",
              "                       [9.7010e-07, 2.6421e-05, 5.4447e-10,  ..., 3.4409e-09, 7.9062e-08,\n",
              "                        2.7129e-05],\n",
              "                       [2.3981e-07, 4.9948e-05, 2.9245e-09,  ..., 1.3521e-09, 6.0826e-07,\n",
              "                        1.7731e-05]])},\n",
              "              Parameter containing:\n",
              "              tensor([-3.0313e-02, -3.6580e-02,  1.5827e-02, -9.1958e-03, -1.9852e-02,\n",
              "                       2.6131e-02,  6.5992e-03, -3.8266e-03,  8.1022e-03,  3.7214e-02,\n",
              "                       2.4515e-03,  3.4252e-02, -8.9454e-03, -1.3629e-02,  1.6562e-02,\n",
              "                      -2.7976e-02, -1.7557e-02,  9.2760e-03,  2.8885e-02, -3.3751e-03,\n",
              "                       1.5028e-02,  2.0800e-02, -3.1976e-02,  8.5845e-03, -1.8836e-02,\n",
              "                       3.5935e-02, -3.7060e-02, -2.1576e-02, -3.5354e-02,  7.4319e-03,\n",
              "                       3.8360e-02, -1.0182e-02,  2.8988e-02,  3.8233e-02, -2.6955e-02,\n",
              "                      -2.4273e-02, -2.8885e-02, -2.4730e-02,  1.5307e-02, -8.3195e-03,\n",
              "                      -2.7655e-02,  3.0266e-02, -2.0657e-02,  9.2770e-04, -2.9413e-03,\n",
              "                      -4.3049e-02,  1.3593e-02, -4.1834e-02, -6.0234e-03,  3.7793e-02,\n",
              "                       2.5003e-02, -8.8895e-03, -8.5347e-03, -2.0530e-04,  5.8609e-04,\n",
              "                       1.9679e-02,  2.2121e-02, -7.8719e-03, -1.3102e-02,  2.8214e-02,\n",
              "                      -4.0792e-02, -4.3117e-02,  1.9303e-02, -2.8818e-02,  1.1479e-02,\n",
              "                      -1.5344e-02, -3.4487e-03,  3.7837e-02,  3.1878e-02, -2.8770e-02,\n",
              "                       3.3489e-02,  1.6927e-02, -1.3858e-02,  1.9332e-02, -1.1886e-02,\n",
              "                       3.1597e-02, -1.2110e-02,  1.3882e-02, -2.3167e-02, -1.7486e-02,\n",
              "                      -2.1701e-02,  3.4268e-02,  8.0911e-03,  2.0390e-02, -2.0953e-02,\n",
              "                       1.4900e-03, -2.4582e-02,  2.0500e-02,  3.2339e-02, -2.3421e-02,\n",
              "                       1.0806e-02,  1.0056e-02, -3.4985e-02,  1.5293e-02,  3.8083e-02,\n",
              "                       3.2661e-03,  1.3232e-02,  2.2663e-02,  1.7484e-02,  4.6080e-03,\n",
              "                       3.1581e-02, -9.2252e-03,  3.2692e-03, -3.0938e-02,  2.6702e-02,\n",
              "                      -6.4992e-03, -6.9547e-03,  4.4688e-02,  3.7739e-02, -1.5360e-02,\n",
              "                      -3.3697e-02, -3.2657e-02, -3.7756e-02,  1.3797e-02, -4.0342e-02,\n",
              "                      -7.5209e-03, -4.1731e-02,  2.1971e-02,  3.6151e-02,  2.5972e-02,\n",
              "                      -3.1603e-02,  2.9165e-02, -1.5083e-02,  1.8848e-02, -3.4274e-02,\n",
              "                      -3.1594e-02,  1.1945e-02,  1.0551e-02, -3.2669e-02, -4.1119e-02,\n",
              "                      -3.8841e-02, -3.3439e-02,  3.5726e-02,  3.7552e-02,  1.4457e-02,\n",
              "                       3.3973e-04, -3.1028e-02, -6.4608e-03,  3.6702e-02,  4.0257e-02,\n",
              "                       5.9968e-03,  4.0168e-02, -3.3430e-02, -1.8338e-03, -3.1277e-02,\n",
              "                      -3.0283e-02, -6.2793e-05, -1.4739e-02, -8.5247e-03, -4.2028e-02,\n",
              "                       2.6984e-02, -3.6274e-02, -3.4080e-02, -1.0001e-02,  2.7941e-02,\n",
              "                      -1.8167e-02,  8.9024e-04,  3.7148e-02, -8.6840e-03, -1.2020e-02,\n",
              "                       1.2175e-02,  4.3111e-02, -4.1979e-02, -2.8063e-02, -1.7783e-02,\n",
              "                       3.2531e-03,  4.0709e-03, -7.8527e-03,  1.7985e-02,  7.5887e-03,\n",
              "                       3.5357e-02,  4.1612e-02, -2.0440e-02,  6.5061e-03, -4.6598e-03,\n",
              "                       2.3435e-02,  4.1872e-04,  3.6065e-02, -6.7089e-04, -1.7366e-02,\n",
              "                       1.4211e-02,  2.7422e-02,  3.8053e-02,  4.3351e-02, -4.2199e-02,\n",
              "                      -2.7856e-02,  2.9981e-02,  1.9716e-02,  9.0006e-03,  2.1087e-02,\n",
              "                       3.1813e-02,  3.9536e-02,  1.3810e-02,  3.3184e-02,  3.9239e-02,\n",
              "                      -3.2060e-02,  5.0203e-03, -3.0760e-02,  1.0586e-02,  2.9626e-02,\n",
              "                      -1.6878e-02, -1.2786e-02, -7.7792e-03,  9.6046e-03, -1.6243e-03,\n",
              "                       5.4529e-03,  2.2533e-02, -3.4173e-02, -3.8458e-02, -2.8138e-02,\n",
              "                       2.0364e-02, -4.0272e-02,  3.0097e-02, -1.5705e-02,  9.4501e-04,\n",
              "                      -9.1059e-03,  3.8042e-02, -3.0715e-02, -2.3334e-02, -2.6964e-02,\n",
              "                       4.2946e-02, -3.7050e-02, -2.8744e-02, -1.9851e-02,  3.8793e-02,\n",
              "                       4.1686e-02, -2.1801e-02, -3.3614e-02,  3.8598e-02,  2.3918e-02,\n",
              "                      -1.4174e-02,  3.5941e-02, -3.0778e-02,  1.4115e-03, -1.0021e-02,\n",
              "                       3.5686e-02, -6.8511e-03, -1.0069e-03,  1.6255e-03,  1.3433e-02,\n",
              "                       1.6215e-02,  3.6760e-02, -3.8399e-02, -1.1733e-02, -3.7878e-02,\n",
              "                      -2.4980e-03, -8.5051e-03, -3.8558e-02, -1.2337e-02, -3.2490e-02,\n",
              "                       1.3575e-02,  2.2493e-02, -2.8367e-02, -1.9758e-02, -1.5010e-02,\n",
              "                       3.5727e-02,  3.8877e-02, -1.0086e-02, -4.2197e-03, -1.2346e-02,\n",
              "                       3.0882e-02,  3.6444e-02, -3.1627e-02,  2.9222e-02, -3.6608e-03,\n",
              "                      -2.5029e-02, -1.1753e-02,  2.2868e-02,  2.0872e-02, -1.1652e-02,\n",
              "                      -2.4634e-02,  9.3467e-03,  2.4094e-02,  8.3178e-03,  8.0231e-03,\n",
              "                      -1.5070e-02,  1.9660e-02, -7.0669e-04,  2.6611e-03, -3.1760e-02,\n",
              "                      -4.2097e-02, -1.2259e-02,  3.3784e-02, -3.4225e-02, -1.6412e-02,\n",
              "                      -4.9548e-03,  1.3686e-02, -1.0555e-02, -1.4790e-02,  3.5106e-02,\n",
              "                      -5.5053e-04,  2.1080e-02,  2.5111e-02,  1.1738e-02,  2.4333e-02,\n",
              "                      -1.5388e-02,  3.3518e-02, -2.1189e-02, -9.7408e-03, -3.1884e-02,\n",
              "                      -6.8894e-03,  1.8921e-02, -4.1115e-02, -3.3000e-02, -6.1630e-03,\n",
              "                       4.1455e-02,  3.0689e-02,  1.2025e-02, -4.0709e-03, -9.6006e-03,\n",
              "                       2.8604e-02, -3.9495e-02,  1.9694e-02, -2.9443e-02,  9.2211e-03,\n",
              "                       2.8830e-03, -1.0158e-02,  3.1876e-02,  1.9876e-03, -8.2388e-03,\n",
              "                       1.5162e-02,  2.5248e-02, -3.7965e-02,  1.1417e-02, -1.7890e-02,\n",
              "                       2.3580e-02,  2.8890e-02,  2.1737e-02, -2.5521e-02,  1.6637e-02,\n",
              "                      -1.8049e-02,  7.6288e-03,  7.0021e-04, -2.4259e-02, -1.7059e-02,\n",
              "                       3.7817e-02,  3.1140e-02, -2.2095e-02,  1.7134e-02, -2.7973e-02,\n",
              "                       1.0772e-02,  5.3870e-03, -3.2454e-02, -2.9616e-02,  2.7958e-03,\n",
              "                      -3.0469e-02, -1.3178e-02, -4.1275e-02,  3.2816e-02, -2.3799e-02,\n",
              "                      -3.2765e-02, -1.3279e-02,  3.7107e-02, -1.1710e-02, -7.7167e-03,\n",
              "                       3.4505e-02,  3.1629e-02,  2.5610e-02,  3.9428e-02,  3.3911e-02,\n",
              "                       1.6045e-02, -5.6242e-04, -1.4444e-02, -4.1187e-02, -3.8471e-02,\n",
              "                       1.4290e-02, -1.9368e-02,  1.1751e-02,  7.8605e-03,  1.6728e-02,\n",
              "                       3.9867e-02, -1.3544e-02,  4.0346e-02, -1.4602e-02,  1.7190e-02,\n",
              "                      -2.2103e-02, -3.1822e-02, -6.6024e-03, -3.3028e-02,  2.7251e-02,\n",
              "                      -1.0239e-02,  4.2140e-02,  1.7701e-02, -4.2161e-02, -2.6595e-03,\n",
              "                      -2.6168e-02, -9.0887e-03,  2.3674e-02, -7.7835e-03,  2.4030e-04,\n",
              "                      -2.8472e-02, -8.5198e-03, -1.8837e-02, -2.1696e-02, -5.7680e-03,\n",
              "                       2.2150e-02, -1.9939e-02,  3.0343e-02,  8.2148e-03,  1.5166e-02,\n",
              "                       3.4961e-03,  3.1066e-02, -2.9512e-02, -1.2564e-03, -6.1165e-03,\n",
              "                      -4.0353e-02, -1.1168e-02, -2.5335e-02, -3.3675e-02, -2.6562e-02,\n",
              "                      -2.0295e-02,  3.6203e-02, -4.2556e-02, -8.0726e-03,  1.1769e-02,\n",
              "                       6.5557e-03, -3.9047e-02,  1.8416e-02,  2.0264e-03,  2.3437e-02,\n",
              "                       1.7911e-02, -1.4303e-02, -2.8390e-02, -3.7893e-02, -1.5689e-03,\n",
              "                      -2.1196e-02, -3.2438e-03,  2.7248e-02, -3.4478e-02, -8.8004e-03,\n",
              "                       1.2946e-02, -5.7995e-04,  5.1785e-03, -2.5650e-03,  3.7487e-02,\n",
              "                       3.4454e-02,  1.0898e-02,  2.3739e-02, -1.2974e-02, -1.9220e-02,\n",
              "                       3.2546e-02, -2.3751e-02,  3.6582e-02,  1.5402e-02,  3.2114e-02,\n",
              "                      -3.4778e-02,  2.4070e-02, -3.0706e-03,  3.6077e-02, -7.8766e-03,\n",
              "                      -1.0778e-02,  1.0224e-02, -3.7196e-02, -3.7923e-02,  2.9847e-02,\n",
              "                       3.4432e-02, -4.1650e-02,  2.9424e-02], requires_grad=True): {'step': 2,\n",
              "               'square_avg': tensor([1.3040e-08, 5.8197e-07, 2.2038e-07, 1.7452e-07, 7.1935e-08, 2.9150e-11,\n",
              "                       4.0064e-07, 9.9157e-12, 1.9430e-07, 7.8448e-09, 7.8567e-07, 6.2974e-08,\n",
              "                       4.1861e-07, 5.1335e-12, 2.2109e-07, 2.8680e-08, 1.7599e-07, 1.2060e-07,\n",
              "                       8.4080e-08, 1.1092e-06, 1.2002e-11, 1.7582e-11, 7.4984e-08, 4.7818e-10,\n",
              "                       3.4220e-08, 2.8225e-07, 2.8494e-08, 1.2952e-07, 2.6578e-07, 1.1354e-09,\n",
              "                       6.3034e-07, 1.5742e-08, 7.3478e-07, 1.4597e-07, 1.4329e-07, 5.1544e-08,\n",
              "                       4.6366e-08, 3.6506e-08, 1.8451e-07, 2.3743e-07, 9.0458e-10, 4.4468e-08,\n",
              "                       9.4180e-08, 4.0757e-07, 1.1307e-07, 5.4567e-07, 3.2674e-11, 3.0465e-08,\n",
              "                       7.1686e-09, 1.1852e-06, 1.2767e-07, 1.2833e-07, 1.3554e-06, 8.7837e-08,\n",
              "                       7.5205e-07, 1.0592e-08, 1.8635e-07, 2.6081e-07, 1.8044e-07, 6.1541e-09,\n",
              "                       6.1535e-07, 5.5355e-07, 1.1746e-07, 1.5422e-07, 4.2694e-07, 2.1511e-08,\n",
              "                       3.1565e-07, 5.5257e-10, 1.5250e-08, 1.5024e-07, 1.5737e-07, 1.0250e-07,\n",
              "                       1.3352e-07, 1.5204e-09, 6.1427e-08, 1.6102e-11, 3.6845e-11, 2.5594e-07,\n",
              "                       1.1920e-07, 5.0003e-09, 9.7745e-08, 8.9663e-10, 6.7813e-07, 3.6836e-11,\n",
              "                       5.2362e-08, 6.9405e-08, 3.1299e-08, 1.8364e-07, 9.0132e-08, 4.6082e-08,\n",
              "                       5.4075e-07, 5.5339e-08, 1.5232e-08, 7.5745e-09, 2.3001e-09, 1.0970e-06,\n",
              "                       1.1958e-07, 1.5247e-07, 5.6644e-08, 2.1303e-07, 3.6901e-07, 4.4179e-10,\n",
              "                       5.6193e-08, 8.0324e-07, 4.9642e-09, 6.8501e-11, 6.8462e-08, 7.4202e-08,\n",
              "                       5.8814e-12, 3.1790e-09, 3.8839e-09, 4.2567e-07, 2.4887e-09, 6.6549e-12,\n",
              "                       1.1100e-07, 1.0892e-07, 3.1685e-07, 9.9784e-08, 1.1156e-08, 1.0984e-07,\n",
              "                       8.5814e-07, 3.4377e-08, 4.0169e-07, 5.6154e-07, 4.3923e-11, 5.0014e-08,\n",
              "                       9.9456e-08, 4.7139e-08, 1.8519e-11, 7.3181e-07, 5.3479e-08, 5.1092e-09,\n",
              "                       4.6748e-08, 6.1375e-08, 1.9922e-11, 1.3892e-06, 1.7816e-07, 9.5303e-13,\n",
              "                       7.0738e-07, 6.1807e-09, 2.0675e-11, 9.3650e-07, 8.6485e-08, 4.9203e-07,\n",
              "                       1.8330e-08, 1.3806e-09, 1.5767e-08, 3.5316e-08, 1.0272e-07, 1.0209e-08,\n",
              "                       3.4151e-08, 2.1205e-08, 3.9201e-07, 3.7453e-08, 1.1332e-07, 1.1635e-07,\n",
              "                       1.9859e-08, 1.6332e-10, 5.4189e-07, 9.2245e-10, 9.0709e-08, 4.1735e-08,\n",
              "                       3.4952e-07, 4.1278e-08, 2.8934e-08, 7.6280e-08, 3.1173e-09, 4.7472e-08,\n",
              "                       4.2669e-07, 1.6358e-08, 8.9185e-10, 1.4674e-07, 1.1728e-11, 5.0111e-08,\n",
              "                       1.6115e-08, 1.8682e-07, 2.1891e-08, 1.7226e-07, 5.0039e-08, 1.6024e-06,\n",
              "                       6.4168e-12, 4.8377e-11, 1.8541e-06, 2.7536e-07, 8.2908e-09, 1.4374e-07,\n",
              "                       6.6583e-07, 3.2111e-11, 2.0962e-07, 7.3831e-08, 4.1605e-07, 3.2336e-07,\n",
              "                       7.6367e-07, 3.1844e-07, 1.6431e-12, 1.9039e-07, 8.5006e-10, 1.4416e-07,\n",
              "                       5.9724e-08, 8.3229e-08, 2.3780e-07, 1.4842e-10, 8.4155e-08, 8.4724e-10,\n",
              "                       6.3109e-07, 9.5484e-08, 8.7015e-08, 4.4191e-08, 3.7186e-07, 2.0450e-07,\n",
              "                       2.1584e-08, 1.0703e-08, 2.9230e-08, 8.4070e-11, 6.9184e-08, 4.0612e-07,\n",
              "                       1.1255e-06, 1.7131e-06, 7.7860e-07, 9.6376e-08, 2.9976e-07, 4.2144e-08,\n",
              "                       1.5793e-07, 3.4284e-08, 3.9097e-12, 5.0558e-07, 7.9200e-08, 8.3092e-08,\n",
              "                       1.1127e-07, 9.2032e-11, 2.9927e-08, 2.4515e-08, 5.7317e-08, 1.1071e-07,\n",
              "                       7.4289e-08, 2.8895e-06, 2.2703e-11, 7.8826e-08, 6.8891e-08, 2.0765e-08,\n",
              "                       3.0600e-08, 4.4978e-07, 1.5584e-07, 9.0546e-08, 7.4680e-08, 1.0727e-11,\n",
              "                       3.8233e-07, 7.8139e-07, 8.0852e-09, 1.4065e-08, 6.4205e-10, 5.2964e-08,\n",
              "                       6.7334e-07, 4.2494e-08, 5.7235e-07, 1.4545e-08, 1.5476e-07, 6.9635e-08,\n",
              "                       6.8400e-07, 2.1517e-08, 1.7455e-08, 2.0505e-07, 7.4073e-11, 2.5307e-07,\n",
              "                       3.7682e-08, 1.0740e-06, 3.0012e-08, 1.4277e-06, 6.7815e-08, 3.0794e-07,\n",
              "                       3.6423e-08, 4.2564e-09, 1.0484e-07, 2.6966e-07, 9.8975e-08, 1.2913e-11,\n",
              "                       1.2897e-08, 1.7086e-10, 5.3869e-08, 2.3492e-07, 1.5026e-07, 2.7864e-07,\n",
              "                       3.7693e-07, 2.3322e-08, 2.1745e-06, 8.9571e-11, 2.6290e-07, 2.1788e-08,\n",
              "                       2.3968e-07, 2.1878e-07, 1.0075e-08, 2.3139e-06, 8.9112e-08, 1.4443e-07,\n",
              "                       1.0738e-07, 6.5742e-08, 8.9293e-08, 4.2182e-12, 2.5470e-07, 2.5786e-07,\n",
              "                       1.0308e-09, 9.4157e-09, 9.0420e-08, 5.2666e-08, 1.0433e-07, 2.9802e-07,\n",
              "                       7.3763e-08, 1.3170e-07, 2.5787e-07, 4.1693e-08, 6.1164e-07, 1.8559e-06,\n",
              "                       1.1322e-07, 3.0100e-10, 1.9366e-10, 8.0482e-07, 3.6630e-08, 8.0179e-08,\n",
              "                       2.0419e-08, 6.0802e-11, 2.8920e-11, 1.6647e-07, 5.5176e-07, 1.0385e-06,\n",
              "                       4.2708e-07, 5.1233e-07, 2.1096e-10, 1.8884e-07, 6.7527e-07, 9.6838e-10,\n",
              "                       6.7368e-11, 1.9443e-07, 1.5346e-07, 5.0074e-07, 4.8883e-08, 2.4533e-07,\n",
              "                       9.5882e-12, 5.3853e-08, 2.6168e-09, 2.6236e-09, 7.2670e-08, 1.8606e-07,\n",
              "                       5.8094e-07, 1.9663e-07, 6.6592e-08, 3.3781e-09, 7.6705e-07, 4.7695e-07,\n",
              "                       2.7412e-06, 4.8723e-08, 3.5621e-08, 5.9029e-08, 6.6959e-07, 7.5299e-07,\n",
              "                       2.9115e-07, 1.8555e-07, 1.7217e-08, 6.9921e-09, 2.1437e-10, 2.5246e-10,\n",
              "                       1.5093e-07, 1.2128e-08, 1.1459e-07, 1.3342e-07, 3.0766e-07, 3.1833e-09,\n",
              "                       3.0923e-11, 3.2612e-07, 1.1168e-06, 6.5020e-12, 3.2790e-07, 4.3548e-07,\n",
              "                       1.1568e-08, 6.6787e-08, 7.7284e-09, 9.9396e-08, 1.0906e-07, 6.6811e-07,\n",
              "                       1.8587e-08, 2.5915e-08, 6.8930e-09, 1.8752e-07, 3.6482e-12, 9.3443e-11,\n",
              "                       2.2105e-07, 3.0818e-07, 5.0277e-07, 9.5504e-11, 1.9270e-11, 2.2793e-08,\n",
              "                       2.6452e-06, 5.3323e-08, 1.8544e-07, 3.2546e-08, 1.7162e-07, 9.7285e-08,\n",
              "                       3.1816e-08, 1.5707e-08, 1.7412e-07, 9.4636e-07, 3.5444e-09, 1.9710e-07,\n",
              "                       7.1336e-10, 3.1962e-09, 3.7777e-08, 3.6087e-12, 1.0468e-07, 4.6768e-08,\n",
              "                       6.9831e-08, 2.0568e-11, 4.5052e-12, 3.0372e-07, 2.1036e-07, 5.7964e-07,\n",
              "                       5.5293e-07, 7.1217e-08, 5.3183e-07, 9.5906e-08, 2.3883e-07, 8.5833e-08,\n",
              "                       1.3044e-08, 1.2845e-08, 4.9861e-08, 2.4852e-08, 3.0205e-08, 7.9159e-08,\n",
              "                       5.7701e-07, 1.7272e-07, 2.9094e-07, 2.5413e-07, 9.7777e-10, 3.4989e-09,\n",
              "                       2.4460e-09, 5.3901e-07, 2.2636e-08, 9.0350e-10, 6.2075e-08, 2.2728e-07,\n",
              "                       2.3048e-07, 1.0620e-06, 1.5282e-06, 1.1037e-08, 4.4819e-08, 2.7781e-09,\n",
              "                       5.4213e-07, 5.3841e-08, 2.4671e-08, 1.0580e-06, 1.0803e-07, 4.6548e-08,\n",
              "                       1.9461e-08, 1.0669e-06, 1.6126e-07, 8.9253e-09, 1.7383e-08, 3.2508e-11,\n",
              "                       9.8255e-08, 8.3152e-08])},\n",
              "              Parameter containing:\n",
              "              tensor([[ 0.0008,  0.0246, -0.0332,  ...,  0.0084, -0.0277,  0.0053],\n",
              "                      [-0.0374,  0.0051,  0.0252,  ..., -0.0134,  0.0366, -0.0060],\n",
              "                      [ 0.0160,  0.0041, -0.0161,  ..., -0.0194,  0.0356,  0.0093],\n",
              "                      ...,\n",
              "                      [ 0.0025,  0.0104,  0.0355,  ..., -0.0188, -0.0388, -0.0303],\n",
              "                      [-0.0386,  0.0001,  0.0429,  ...,  0.0131,  0.0059, -0.0326],\n",
              "                      [-0.0314, -0.0298,  0.0202,  ..., -0.0337,  0.0060,  0.0240]],\n",
              "                     requires_grad=True): {'step': 2,\n",
              "               'square_avg': tensor([[2.9243e-05, 6.1829e-05, 4.8303e-06,  ..., 1.0793e-08, 2.0479e-06,\n",
              "                        3.3424e-05],\n",
              "                       [2.8191e-07, 1.6900e-05, 3.3799e-06,  ..., 1.8253e-10, 2.0420e-07,\n",
              "                        9.4076e-09],\n",
              "                       [1.6547e-03, 3.8164e-03, 6.1587e-04,  ..., 4.3900e-07, 2.8807e-05,\n",
              "                        1.7109e-03],\n",
              "                       ...,\n",
              "                       [7.9701e-04, 6.9831e-04, 6.2908e-05,  ..., 1.3697e-07, 1.0177e-05,\n",
              "                        4.3600e-04],\n",
              "                       [2.3382e-03, 2.5544e-03, 3.2939e-04,  ..., 3.4451e-07, 1.4537e-05,\n",
              "                        1.4333e-03],\n",
              "                       [2.4381e-07, 3.6805e-07, 4.3869e-08,  ..., 4.4097e-11, 4.7264e-09,\n",
              "                        1.8976e-07]])},\n",
              "              Parameter containing:\n",
              "              tensor([ 0.0430, -0.0060, -0.0049, -0.0184, -0.0321,  0.0112,  0.0286,  0.0400,\n",
              "                      -0.0428,  0.0029, -0.0041, -0.0186, -0.0385,  0.0441,  0.0052, -0.0050,\n",
              "                      -0.0343, -0.0311, -0.0293, -0.0476,  0.0180, -0.0221,  0.0375, -0.0037,\n",
              "                      -0.0449,  0.0442,  0.0088,  0.0243,  0.0310,  0.0062, -0.0093, -0.0021,\n",
              "                       0.0137, -0.0069,  0.0069, -0.0461, -0.0070,  0.0296,  0.0212, -0.0061,\n",
              "                      -0.0025, -0.0327,  0.0194,  0.0394, -0.0396, -0.0239,  0.0046, -0.0170,\n",
              "                       0.0204,  0.0140, -0.0435,  0.0182, -0.0214,  0.0262,  0.0303,  0.0463,\n",
              "                      -0.0044,  0.0306, -0.0050,  0.0296,  0.0203, -0.0470, -0.0299, -0.0437,\n",
              "                       0.0019,  0.0422, -0.0443,  0.0319,  0.0290,  0.0384,  0.0034, -0.0200,\n",
              "                      -0.0077, -0.0381, -0.0318,  0.0182, -0.0280, -0.0039, -0.0224, -0.0472,\n",
              "                      -0.0203,  0.0356, -0.0285, -0.0445,  0.0074, -0.0349,  0.0102,  0.0314,\n",
              "                       0.0102,  0.0013, -0.0061,  0.0168,  0.0183,  0.0431,  0.0246, -0.0097,\n",
              "                       0.0213, -0.0286, -0.0398, -0.0461, -0.0323, -0.0285,  0.0098,  0.0201,\n",
              "                       0.0294,  0.0433,  0.0340,  0.0401, -0.0150, -0.0257,  0.0164, -0.0076,\n",
              "                      -0.0408,  0.0223,  0.0322], requires_grad=True): {'step': 2,\n",
              "               'square_avg': tensor([2.4149e-07, 6.1249e-08, 3.3805e-05, 1.9999e-05, 2.1096e-07, 1.8583e-05,\n",
              "                       2.8039e-07, 9.1195e-06, 3.4042e-06, 8.9236e-08, 7.4182e-08, 1.9580e-07,\n",
              "                       3.4423e-06, 4.2916e-06, 7.4551e-13, 4.4689e-07, 2.9211e-06, 2.7738e-06,\n",
              "                       2.0248e-06, 4.3700e-06, 1.5193e-06, 4.9222e-06, 7.2875e-06, 1.4528e-05,\n",
              "                       5.3579e-06, 1.3054e-09, 3.0254e-05, 1.0397e-07, 4.5397e-05, 2.6016e-09,\n",
              "                       7.0734e-10, 2.2477e-05, 2.8727e-07, 2.6416e-06, 9.9321e-07, 2.3896e-07,\n",
              "                       7.7529e-08, 8.7894e-06, 1.4242e-06, 6.5426e-11, 8.2616e-06, 1.3454e-05,\n",
              "                       3.2435e-06, 1.8883e-07, 3.3751e-07, 2.7687e-06, 4.6814e-06, 4.4737e-07,\n",
              "                       9.3539e-06, 6.2300e-05, 1.0752e-09, 1.1585e-06, 3.0441e-09, 1.0298e-09,\n",
              "                       7.6432e-07, 2.1861e-08, 6.5535e-06, 1.5383e-07, 6.0377e-08, 3.0138e-08,\n",
              "                       5.6122e-06, 6.0913e-07, 5.0930e-07, 1.2811e-08, 7.9828e-06, 3.7597e-06,\n",
              "                       3.1008e-07, 5.5236e-07, 3.9764e-06, 4.2702e-06, 1.4265e-06, 6.4078e-08,\n",
              "                       1.5166e-06, 6.3013e-07, 1.3960e-06, 2.6614e-05, 6.0688e-10, 4.1794e-06,\n",
              "                       2.0608e-06, 6.9192e-07, 3.5247e-07, 9.9207e-09, 1.1821e-06, 3.0317e-07,\n",
              "                       1.2840e-06, 1.3173e-12, 2.1673e-07, 9.8187e-10, 9.5018e-08, 1.4913e-06,\n",
              "                       7.8623e-06, 4.4054e-07, 1.0305e-05, 5.3940e-08, 9.5562e-06, 3.5950e-06,\n",
              "                       1.2938e-06, 1.8437e-05, 2.0970e-09, 2.7837e-09, 1.9159e-05, 8.4041e-07,\n",
              "                       5.2845e-08, 2.7111e-07, 4.9363e-08, 8.1484e-08, 1.2565e-05, 1.5935e-06,\n",
              "                       4.7664e-06, 1.7869e-08, 5.7732e-08, 2.8705e-10, 5.9306e-06, 1.7156e-05,\n",
              "                       3.3450e-09])},\n",
              "              Parameter containing:\n",
              "              tensor([[ 0.0144, -0.0078,  0.0703,  0.0684, -0.0405, -0.0813,  0.0138,  0.0852,\n",
              "                        0.0288, -0.0074, -0.0236,  0.0301, -0.0541,  0.0352, -0.0002,  0.0160,\n",
              "                       -0.0299, -0.0760, -0.0889,  0.0587, -0.0556,  0.0691, -0.0850,  0.0832,\n",
              "                       -0.0679, -0.0712,  0.0799,  0.0039, -0.0900, -0.0624, -0.0412,  0.0660,\n",
              "                       -0.0450, -0.0455,  0.0607,  0.0295, -0.0116, -0.0378,  0.0312,  0.0224,\n",
              "                       -0.0550,  0.0631, -0.0522, -0.0081, -0.0480, -0.0226,  0.0467, -0.0319,\n",
              "                       -0.0525,  0.0873, -0.0904, -0.0313, -0.0019,  0.0034,  0.0192, -0.0103,\n",
              "                        0.0727,  0.0422,  0.0143,  0.0632, -0.0391,  0.0306, -0.0455,  0.0084,\n",
              "                        0.0833, -0.0860, -0.0204, -0.0139, -0.0438, -0.0274, -0.0807,  0.0276,\n",
              "                        0.0795,  0.0491, -0.0189,  0.0612, -0.0676, -0.0442,  0.0223, -0.0186,\n",
              "                        0.0180, -0.0136,  0.0450, -0.0115,  0.0168, -0.0012,  0.0272, -0.0489,\n",
              "                        0.0034, -0.0380,  0.0821,  0.0091,  0.0766, -0.0057,  0.0697, -0.0847,\n",
              "                        0.0146,  0.0844, -0.0722, -0.0911, -0.0654,  0.0214, -0.0134, -0.0147,\n",
              "                       -0.0078, -0.0161, -0.0749,  0.0559,  0.0879, -0.0475,  0.0267, -0.0371,\n",
              "                        0.0484,  0.0865, -0.0757]], requires_grad=True): {'step': 2,\n",
              "               'square_avg': tensor([[4.5385e-03, 2.0259e-02, 2.7658e-01, 4.2975e-02, 2.4717e-03, 3.7558e-03,\n",
              "                        3.0316e-02, 5.3386e-02, 6.5093e-02, 2.7282e-02, 5.1142e-05, 3.2384e-03,\n",
              "                        2.4639e-03, 2.6077e-01, 1.1926e-05, 1.5623e-02, 5.4273e-02, 2.7866e-03,\n",
              "                        3.3244e-03, 8.3371e-03, 8.9839e-04, 2.3382e-03, 3.6583e-03, 4.6595e-03,\n",
              "                        1.6193e-02, 1.0981e-05, 5.4218e-02, 3.0596e-02, 3.1243e-02, 1.4087e-06,\n",
              "                        1.1623e-05, 2.0603e-01, 1.2159e-04, 1.5970e-02, 3.2569e-04, 1.4652e-05,\n",
              "                        4.9068e-03, 3.2204e-02, 1.8555e-02, 1.7540e-06, 8.0949e-02, 2.1042e-01,\n",
              "                        1.3689e-02, 1.4736e-01, 6.2184e-04, 1.2734e-01, 1.3970e-01, 1.3937e-03,\n",
              "                        4.5010e-02, 3.0043e-01, 5.7954e-06, 4.3354e-03, 4.1925e-05, 1.2246e-03,\n",
              "                        3.1456e-03, 3.5125e-07, 1.4900e-03, 2.2793e-05, 1.8383e-05, 1.4426e-03,\n",
              "                        4.6298e-03, 1.2712e-03, 1.3666e-05, 5.2932e-03, 6.0192e-03, 8.1340e-05,\n",
              "                        8.8821e-03, 3.9381e-03, 3.9737e-02, 1.3567e-01, 1.1776e-03, 1.7029e-04,\n",
              "                        1.3732e-02, 2.7816e-04, 2.7932e-02, 1.3963e-01, 3.4143e-06, 1.5257e-02,\n",
              "                        1.1266e-01, 2.9441e-02, 4.8689e-03, 2.3748e-03, 2.7129e-02, 3.0228e-02,\n",
              "                        7.1604e-02, 8.0221e-05, 6.1449e-03, 5.6856e-06, 3.3891e-02, 4.5067e-03,\n",
              "                        1.9400e-03, 3.6958e-02, 5.4659e-02, 5.0309e-02, 5.2107e-02, 2.3793e-04,\n",
              "                        2.0310e-02, 1.5597e-02, 7.4618e-06, 6.1173e-06, 5.0014e-02, 2.4014e-01,\n",
              "                        2.3678e-03, 1.1891e-02, 2.4613e-02, 7.4513e-03, 3.1840e-04, 2.6991e-03,\n",
              "                        1.0881e-03, 6.3242e-03, 6.1743e-05, 1.4454e-05, 1.2622e-02, 3.0910e-02,\n",
              "                        8.7256e-06]])},\n",
              "              Parameter containing:\n",
              "              tensor([0.0032], requires_grad=True): {'step': 2,\n",
              "               'square_avg': tensor([0.0032])}}),\n",
              " 'param_groups': [{'lr': 0.000122770896701404,\n",
              "   'momentum': 0,\n",
              "   'alpha': 0.99,\n",
              "   'eps': 1e-08,\n",
              "   'centered': False,\n",
              "   'weight_decay': 0,\n",
              "   'foreach': None,\n",
              "   'maximize': False,\n",
              "   'differentiable': False,\n",
              "   'params': [Parameter containing:\n",
              "    tensor([[ 0.0738,  0.2414, -0.1703,  ...,  0.2402, -0.1743,  0.2385],\n",
              "            [-0.2128,  0.0363,  0.1756,  ...,  0.1272, -0.1406,  0.0287],\n",
              "            [-0.0234, -0.0696, -0.0674,  ...,  0.1202,  0.1208,  0.0862],\n",
              "            ...,\n",
              "            [-0.0726,  0.1377, -0.0560,  ..., -0.1889,  0.2568,  0.0568],\n",
              "            [-0.0389,  0.2154, -0.1232,  ..., -0.0022, -0.2059,  0.2627],\n",
              "            [-0.1321, -0.2538,  0.1026,  ..., -0.0364,  0.0552, -0.0762]],\n",
              "           requires_grad=True),\n",
              "    Parameter containing:\n",
              "    tensor([-6.7164e-02, -2.4017e-01, -2.3307e-01,  8.5688e-02,  1.9355e-01,\n",
              "             1.5645e-01,  2.5005e-01, -6.3379e-02, -9.1266e-03,  1.5001e-01,\n",
              "            -1.9132e-01,  1.5667e-02, -4.9181e-02,  9.2695e-02, -1.4535e-01,\n",
              "             2.1469e-01,  1.8116e-01, -7.4066e-02,  8.8678e-02,  1.0811e-01,\n",
              "            -1.0128e-01,  1.4352e-01, -1.4284e-01, -1.0463e-01, -1.9108e-02,\n",
              "             1.3190e-01,  2.5050e-01,  1.6039e-01, -1.7190e-01, -1.8972e-01,\n",
              "            -2.6232e-01, -3.5252e-02, -2.6597e-01,  7.0804e-02, -7.0483e-02,\n",
              "            -2.5479e-01, -1.4105e-01, -1.8028e-01, -2.2845e-01,  4.7005e-02,\n",
              "             1.2659e-01, -9.5340e-02, -6.2825e-02, -2.4838e-01, -9.4000e-02,\n",
              "            -2.1168e-01,  6.9227e-02, -1.9068e-01, -6.9859e-02, -7.8727e-02,\n",
              "            -6.2075e-02,  2.1166e-01,  1.7879e-02, -2.6521e-02,  2.5422e-02,\n",
              "            -2.2859e-02, -1.1841e-01, -1.1637e-02, -3.9229e-02, -1.6859e-01,\n",
              "            -1.3642e-02, -2.5609e-01, -1.4942e-01,  3.4907e-02,  1.5707e-01,\n",
              "            -2.3504e-01,  1.9294e-01, -3.7398e-02, -8.2026e-02,  1.4443e-01,\n",
              "            -8.6312e-02, -3.7015e-02, -1.6947e-01, -1.1787e-01,  1.1855e-01,\n",
              "            -1.3370e-01,  1.8575e-01, -7.3874e-02,  5.1435e-02,  1.2503e-02,\n",
              "            -1.7904e-01, -4.4257e-02, -3.2944e-03,  2.1256e-01, -9.8669e-02,\n",
              "             1.7973e-01,  1.8645e-02, -2.2566e-01,  1.8522e-02,  2.4403e-01,\n",
              "            -6.5627e-02, -1.6250e-02, -9.4921e-02,  1.9324e-02,  4.1376e-02,\n",
              "            -6.4070e-02,  2.3696e-01, -2.6102e-01, -2.3687e-01,  2.4185e-01,\n",
              "            -2.5835e-01,  4.9087e-02, -1.7545e-01,  4.1541e-02,  3.2759e-02,\n",
              "            -1.8097e-01, -1.5249e-01, -1.0206e-01, -1.1062e-01, -1.7482e-01,\n",
              "            -1.0102e-01, -1.7433e-01, -1.4115e-01,  1.6674e-01, -2.7021e-02,\n",
              "             2.2846e-02, -2.8983e-02,  1.3426e-01,  1.6725e-01,  1.5149e-01,\n",
              "            -1.6354e-02,  1.6719e-01, -1.1310e-01, -5.4615e-02, -1.2062e-01,\n",
              "             3.9274e-02,  4.0121e-02,  1.5906e-01,  1.6939e-01,  5.6023e-02,\n",
              "            -8.7608e-02,  1.7009e-01, -2.1556e-02, -1.7530e-01, -1.5804e-01,\n",
              "             1.1512e-01,  1.2893e-01,  1.8511e-01,  1.2514e-01,  4.6159e-02,\n",
              "            -8.3850e-02,  2.4381e-01, -2.4449e-02,  2.3959e-01,  1.1993e-01,\n",
              "             5.5213e-02, -2.3306e-01,  8.7876e-02,  2.3364e-01, -7.9167e-02,\n",
              "            -2.2377e-01, -9.7145e-02, -2.3766e-01,  1.7466e-01, -1.8976e-01,\n",
              "            -8.3010e-02,  6.8315e-02, -7.6243e-02,  1.8039e-01,  1.4767e-01,\n",
              "             1.8023e-01, -1.4209e-01, -2.1479e-01,  1.7721e-01, -1.3151e-01,\n",
              "            -2.4702e-01,  4.2855e-02,  8.3869e-03,  2.4407e-02, -7.6526e-02,\n",
              "            -2.0146e-01,  1.1219e-01, -3.4778e-02, -1.1093e-01, -1.9978e-01,\n",
              "             1.5633e-01, -9.1808e-02, -1.8235e-01,  1.6976e-01, -1.0306e-01,\n",
              "            -2.0097e-01, -9.5396e-02,  2.5268e-01,  3.6729e-02,  1.5920e-01,\n",
              "            -2.4912e-01, -1.5879e-01,  2.0281e-01,  5.5018e-02, -1.7345e-01,\n",
              "            -5.8940e-04,  2.0360e-01, -9.7534e-02, -2.1379e-01,  1.4269e-01,\n",
              "            -1.6348e-01,  8.3787e-02,  1.8369e-01, -2.1559e-01,  4.1671e-02,\n",
              "            -2.2225e-01,  9.1065e-02, -1.5204e-01,  2.0343e-01,  2.5806e-01,\n",
              "             7.3076e-02,  1.9280e-01, -1.2590e-01, -2.5203e-01,  7.1020e-02,\n",
              "            -5.1847e-03,  9.3220e-02, -1.9665e-01, -1.1051e-01,  3.6186e-02,\n",
              "             5.0966e-02, -6.1745e-03,  1.7988e-01, -2.1031e-01,  7.9214e-02,\n",
              "             1.5735e-01, -1.4456e-01,  7.4057e-02,  8.5071e-03, -3.2106e-02,\n",
              "             2.1524e-01, -1.7163e-01, -2.4177e-01, -2.7637e-02, -1.1941e-01,\n",
              "             1.6697e-01, -1.4339e-01,  2.4274e-03,  5.5594e-02, -8.1904e-02,\n",
              "             3.1857e-02, -2.3775e-03, -6.5284e-02, -6.8043e-02,  2.0947e-01,\n",
              "            -1.9544e-01,  1.2060e-01,  2.3880e-01, -7.7242e-02,  2.8998e-02,\n",
              "            -3.6316e-02,  1.5336e-01,  1.9084e-01,  2.5470e-01, -2.4231e-01,\n",
              "            -2.2815e-01, -2.3587e-02, -1.6928e-01, -2.2751e-01, -1.5152e-01,\n",
              "             1.2396e-01,  1.9919e-01,  1.2984e-01,  2.6763e-01, -2.2731e-01,\n",
              "             2.3141e-01,  6.6482e-02, -1.0272e-03,  2.0670e-01, -1.2818e-01,\n",
              "            -1.6728e-01,  2.0755e-01, -1.9066e-01,  1.9539e-01, -2.5795e-01,\n",
              "             2.0324e-01,  4.1425e-03,  1.2810e-01,  1.3129e-01, -1.4479e-01,\n",
              "            -2.4865e-01, -6.8855e-02,  3.8055e-02, -1.2085e-01, -3.1895e-02,\n",
              "            -1.2977e-01,  2.0658e-01, -2.5815e-01,  8.6105e-03, -9.4340e-02,\n",
              "            -1.1804e-02,  1.0166e-01,  2.0192e-01,  1.5703e-01,  9.3855e-02,\n",
              "            -1.2738e-01, -6.7602e-03,  1.3177e-01, -1.1760e-02, -3.6383e-02,\n",
              "             4.7047e-02, -2.4801e-01,  3.1864e-02, -8.8163e-02, -1.7617e-01,\n",
              "            -1.1392e-01, -2.3904e-01,  4.9729e-02, -1.6542e-01,  1.1199e-01,\n",
              "             6.4573e-02, -7.9194e-03,  6.3504e-02,  2.4560e-01,  2.0871e-01,\n",
              "             1.7595e-01, -1.4209e-01,  7.8535e-02, -1.7807e-01,  1.4041e-01,\n",
              "            -3.2197e-02, -2.5525e-01, -2.3181e-01, -4.7437e-02,  1.9883e-01,\n",
              "            -1.1930e-01, -2.1986e-01,  1.8386e-01,  1.3034e-01,  1.4437e-02,\n",
              "             8.1359e-02, -2.0224e-01,  1.7143e-01,  1.3510e-01, -9.8439e-02,\n",
              "            -2.6306e-01, -1.2007e-01, -9.4747e-02, -3.9467e-02, -2.1491e-01,\n",
              "             2.4235e-02,  6.9119e-02,  4.5453e-02, -1.5854e-01,  1.0499e-01,\n",
              "             2.0061e-02,  2.2581e-01,  1.2520e-01, -1.7190e-01, -8.4293e-02,\n",
              "             1.8044e-01,  9.2103e-02,  2.2761e-01, -1.1637e-01,  1.5921e-01,\n",
              "             8.6731e-02, -9.3437e-02,  4.8666e-02,  1.8826e-01, -1.9892e-01,\n",
              "            -4.9753e-02, -3.0723e-02,  1.7247e-02,  3.4324e-02,  3.8574e-03,\n",
              "             2.5285e-01,  1.6340e-02,  2.4709e-02,  1.7144e-01,  9.1283e-02,\n",
              "             2.4668e-01, -1.9058e-01, -1.4516e-02,  1.6806e-01,  1.3432e-01,\n",
              "            -2.6613e-01,  3.8671e-02,  1.0463e-01,  8.9291e-02, -6.8605e-02,\n",
              "             6.5986e-03,  1.2284e-01, -2.3942e-01,  1.4821e-01, -2.0340e-01,\n",
              "            -1.4293e-01,  1.1214e-02, -1.8329e-02, -2.2041e-01,  1.0750e-01,\n",
              "             4.2915e-02, -2.0521e-01,  1.7648e-01, -1.6992e-01,  2.3573e-01,\n",
              "            -1.9519e-01, -2.0995e-02,  2.4601e-01, -1.4879e-01,  7.3480e-02,\n",
              "             2.9841e-04, -4.1057e-03, -2.3392e-01, -7.1871e-02,  2.5781e-01,\n",
              "             2.1765e-01, -9.5219e-04, -2.2315e-01,  2.1060e-02, -7.1671e-02,\n",
              "            -1.2641e-01, -1.8139e-01, -2.0910e-01,  1.9919e-01,  2.2980e-01,\n",
              "            -1.4027e-01, -1.4636e-01, -1.3389e-01, -7.7220e-02, -2.3434e-01,\n",
              "             3.9265e-02,  2.3406e-01,  1.7417e-01, -2.7214e-02, -1.4930e-01,\n",
              "            -9.8467e-03, -9.9812e-02,  1.2711e-01,  1.0015e-01, -2.0547e-02,\n",
              "             2.4946e-01, -2.0351e-01, -2.0985e-02, -1.9278e-01,  4.4121e-03,\n",
              "             2.4433e-02,  8.9254e-02, -1.2252e-01,  2.3966e-01,  1.1383e-01,\n",
              "             1.6050e-01, -3.7961e-02, -1.0440e-01,  1.8942e-01,  2.3793e-02,\n",
              "            -1.9809e-01, -2.1366e-01, -1.8314e-01,  6.4082e-02,  2.0992e-01,\n",
              "            -1.1812e-01, -2.1920e-01, -3.6456e-02,  2.3833e-01,  1.1318e-01,\n",
              "             7.3241e-02,  1.8792e-01, -2.6583e-01, -1.4127e-01, -3.8141e-02,\n",
              "             1.7094e-01, -2.2446e-01, -4.5348e-03, -2.6592e-01,  1.5987e-01,\n",
              "            -6.6640e-02, -9.1340e-02, -1.2521e-01,  1.1589e-01, -6.2680e-02,\n",
              "            -2.1869e-01,  3.4879e-02, -4.3981e-03,  1.2610e-01, -5.6041e-02,\n",
              "             3.7451e-02, -6.4166e-03,  1.6632e-01,  6.8918e-03, -5.4196e-02,\n",
              "             3.7989e-02, -8.8338e-02, -2.6020e-01,  1.5981e-01, -9.2498e-02,\n",
              "            -1.3935e-01,  9.2593e-02,  6.2634e-02,  1.5827e-01,  1.7414e-01,\n",
              "             2.3552e-01, -1.2698e-01, -3.2237e-02,  1.2308e-01,  2.6615e-01,\n",
              "            -4.3500e-02,  2.0807e-01, -7.0721e-02, -1.0343e-01, -6.9918e-02,\n",
              "            -2.4472e-01, -4.2909e-02, -2.5489e-01,  1.5406e-01, -8.7809e-02,\n",
              "             4.1396e-02,  2.8064e-02,  1.9301e-02,  1.5140e-01, -2.0004e-01,\n",
              "            -1.0081e-01,  2.0760e-01,  1.2075e-01,  1.6695e-01, -1.0909e-02,\n",
              "             1.6603e-01,  1.4437e-01,  9.6849e-02,  1.1935e-01, -1.5552e-01,\n",
              "             3.9196e-02,  1.3866e-01, -6.5172e-05, -3.3967e-02,  8.1555e-02,\n",
              "            -1.7180e-01, -2.4651e-01, -4.7458e-02, -2.1701e-01,  1.4305e-01,\n",
              "             1.0412e-01,  4.0392e-02, -2.6292e-01, -3.5709e-02, -6.5917e-02,\n",
              "            -9.5914e-02,  8.9896e-02, -1.5293e-01, -1.9351e-01,  1.8777e-01,\n",
              "            -1.0903e-01,  1.7376e-01,  1.0785e-01,  1.7369e-02,  8.0882e-02,\n",
              "             1.7973e-01,  2.2094e-01,  9.2196e-02, -7.9143e-02, -2.6320e-01,\n",
              "             2.1985e-01,  2.4162e-01,  8.8951e-02, -3.8539e-02, -3.7052e-02,\n",
              "            -2.0986e-01, -1.3848e-01,  1.6790e-01, -2.0514e-01,  1.1280e-01],\n",
              "           requires_grad=True),\n",
              "    Parameter containing:\n",
              "    tensor([[ 0.0317,  0.0146,  0.0098,  ...,  0.0168,  0.0285, -0.0387],\n",
              "            [-0.0070, -0.0021,  0.0188,  ...,  0.0192, -0.0048,  0.0415],\n",
              "            [ 0.0397,  0.0170, -0.0418,  ..., -0.0363, -0.0021,  0.0189],\n",
              "            ...,\n",
              "            [ 0.0226,  0.0234,  0.0135,  ...,  0.0138, -0.0356,  0.0026],\n",
              "            [ 0.0317, -0.0005,  0.0106,  ...,  0.0306, -0.0374, -0.0374],\n",
              "            [-0.0263,  0.0349, -0.0403,  ..., -0.0087,  0.0295, -0.0143]],\n",
              "           requires_grad=True),\n",
              "    Parameter containing:\n",
              "    tensor([-3.0313e-02, -3.6580e-02,  1.5827e-02, -9.1958e-03, -1.9852e-02,\n",
              "             2.6131e-02,  6.5992e-03, -3.8266e-03,  8.1022e-03,  3.7214e-02,\n",
              "             2.4515e-03,  3.4252e-02, -8.9454e-03, -1.3629e-02,  1.6562e-02,\n",
              "            -2.7976e-02, -1.7557e-02,  9.2760e-03,  2.8885e-02, -3.3751e-03,\n",
              "             1.5028e-02,  2.0800e-02, -3.1976e-02,  8.5845e-03, -1.8836e-02,\n",
              "             3.5935e-02, -3.7060e-02, -2.1576e-02, -3.5354e-02,  7.4319e-03,\n",
              "             3.8360e-02, -1.0182e-02,  2.8988e-02,  3.8233e-02, -2.6955e-02,\n",
              "            -2.4273e-02, -2.8885e-02, -2.4730e-02,  1.5307e-02, -8.3195e-03,\n",
              "            -2.7655e-02,  3.0266e-02, -2.0657e-02,  9.2770e-04, -2.9413e-03,\n",
              "            -4.3049e-02,  1.3593e-02, -4.1834e-02, -6.0234e-03,  3.7793e-02,\n",
              "             2.5003e-02, -8.8895e-03, -8.5347e-03, -2.0530e-04,  5.8609e-04,\n",
              "             1.9679e-02,  2.2121e-02, -7.8719e-03, -1.3102e-02,  2.8214e-02,\n",
              "            -4.0792e-02, -4.3117e-02,  1.9303e-02, -2.8818e-02,  1.1479e-02,\n",
              "            -1.5344e-02, -3.4487e-03,  3.7837e-02,  3.1878e-02, -2.8770e-02,\n",
              "             3.3489e-02,  1.6927e-02, -1.3858e-02,  1.9332e-02, -1.1886e-02,\n",
              "             3.1597e-02, -1.2110e-02,  1.3882e-02, -2.3167e-02, -1.7486e-02,\n",
              "            -2.1701e-02,  3.4268e-02,  8.0911e-03,  2.0390e-02, -2.0953e-02,\n",
              "             1.4900e-03, -2.4582e-02,  2.0500e-02,  3.2339e-02, -2.3421e-02,\n",
              "             1.0806e-02,  1.0056e-02, -3.4985e-02,  1.5293e-02,  3.8083e-02,\n",
              "             3.2661e-03,  1.3232e-02,  2.2663e-02,  1.7484e-02,  4.6080e-03,\n",
              "             3.1581e-02, -9.2252e-03,  3.2692e-03, -3.0938e-02,  2.6702e-02,\n",
              "            -6.4992e-03, -6.9547e-03,  4.4688e-02,  3.7739e-02, -1.5360e-02,\n",
              "            -3.3697e-02, -3.2657e-02, -3.7756e-02,  1.3797e-02, -4.0342e-02,\n",
              "            -7.5209e-03, -4.1731e-02,  2.1971e-02,  3.6151e-02,  2.5972e-02,\n",
              "            -3.1603e-02,  2.9165e-02, -1.5083e-02,  1.8848e-02, -3.4274e-02,\n",
              "            -3.1594e-02,  1.1945e-02,  1.0551e-02, -3.2669e-02, -4.1119e-02,\n",
              "            -3.8841e-02, -3.3439e-02,  3.5726e-02,  3.7552e-02,  1.4457e-02,\n",
              "             3.3973e-04, -3.1028e-02, -6.4608e-03,  3.6702e-02,  4.0257e-02,\n",
              "             5.9968e-03,  4.0168e-02, -3.3430e-02, -1.8338e-03, -3.1277e-02,\n",
              "            -3.0283e-02, -6.2793e-05, -1.4739e-02, -8.5247e-03, -4.2028e-02,\n",
              "             2.6984e-02, -3.6274e-02, -3.4080e-02, -1.0001e-02,  2.7941e-02,\n",
              "            -1.8167e-02,  8.9024e-04,  3.7148e-02, -8.6840e-03, -1.2020e-02,\n",
              "             1.2175e-02,  4.3111e-02, -4.1979e-02, -2.8063e-02, -1.7783e-02,\n",
              "             3.2531e-03,  4.0709e-03, -7.8527e-03,  1.7985e-02,  7.5887e-03,\n",
              "             3.5357e-02,  4.1612e-02, -2.0440e-02,  6.5061e-03, -4.6598e-03,\n",
              "             2.3435e-02,  4.1872e-04,  3.6065e-02, -6.7089e-04, -1.7366e-02,\n",
              "             1.4211e-02,  2.7422e-02,  3.8053e-02,  4.3351e-02, -4.2199e-02,\n",
              "            -2.7856e-02,  2.9981e-02,  1.9716e-02,  9.0006e-03,  2.1087e-02,\n",
              "             3.1813e-02,  3.9536e-02,  1.3810e-02,  3.3184e-02,  3.9239e-02,\n",
              "            -3.2060e-02,  5.0203e-03, -3.0760e-02,  1.0586e-02,  2.9626e-02,\n",
              "            -1.6878e-02, -1.2786e-02, -7.7792e-03,  9.6046e-03, -1.6243e-03,\n",
              "             5.4529e-03,  2.2533e-02, -3.4173e-02, -3.8458e-02, -2.8138e-02,\n",
              "             2.0364e-02, -4.0272e-02,  3.0097e-02, -1.5705e-02,  9.4501e-04,\n",
              "            -9.1059e-03,  3.8042e-02, -3.0715e-02, -2.3334e-02, -2.6964e-02,\n",
              "             4.2946e-02, -3.7050e-02, -2.8744e-02, -1.9851e-02,  3.8793e-02,\n",
              "             4.1686e-02, -2.1801e-02, -3.3614e-02,  3.8598e-02,  2.3918e-02,\n",
              "            -1.4174e-02,  3.5941e-02, -3.0778e-02,  1.4115e-03, -1.0021e-02,\n",
              "             3.5686e-02, -6.8511e-03, -1.0069e-03,  1.6255e-03,  1.3433e-02,\n",
              "             1.6215e-02,  3.6760e-02, -3.8399e-02, -1.1733e-02, -3.7878e-02,\n",
              "            -2.4980e-03, -8.5051e-03, -3.8558e-02, -1.2337e-02, -3.2490e-02,\n",
              "             1.3575e-02,  2.2493e-02, -2.8367e-02, -1.9758e-02, -1.5010e-02,\n",
              "             3.5727e-02,  3.8877e-02, -1.0086e-02, -4.2197e-03, -1.2346e-02,\n",
              "             3.0882e-02,  3.6444e-02, -3.1627e-02,  2.9222e-02, -3.6608e-03,\n",
              "            -2.5029e-02, -1.1753e-02,  2.2868e-02,  2.0872e-02, -1.1652e-02,\n",
              "            -2.4634e-02,  9.3467e-03,  2.4094e-02,  8.3178e-03,  8.0231e-03,\n",
              "            -1.5070e-02,  1.9660e-02, -7.0669e-04,  2.6611e-03, -3.1760e-02,\n",
              "            -4.2097e-02, -1.2259e-02,  3.3784e-02, -3.4225e-02, -1.6412e-02,\n",
              "            -4.9548e-03,  1.3686e-02, -1.0555e-02, -1.4790e-02,  3.5106e-02,\n",
              "            -5.5053e-04,  2.1080e-02,  2.5111e-02,  1.1738e-02,  2.4333e-02,\n",
              "            -1.5388e-02,  3.3518e-02, -2.1189e-02, -9.7408e-03, -3.1884e-02,\n",
              "            -6.8894e-03,  1.8921e-02, -4.1115e-02, -3.3000e-02, -6.1630e-03,\n",
              "             4.1455e-02,  3.0689e-02,  1.2025e-02, -4.0709e-03, -9.6006e-03,\n",
              "             2.8604e-02, -3.9495e-02,  1.9694e-02, -2.9443e-02,  9.2211e-03,\n",
              "             2.8830e-03, -1.0158e-02,  3.1876e-02,  1.9876e-03, -8.2388e-03,\n",
              "             1.5162e-02,  2.5248e-02, -3.7965e-02,  1.1417e-02, -1.7890e-02,\n",
              "             2.3580e-02,  2.8890e-02,  2.1737e-02, -2.5521e-02,  1.6637e-02,\n",
              "            -1.8049e-02,  7.6288e-03,  7.0021e-04, -2.4259e-02, -1.7059e-02,\n",
              "             3.7817e-02,  3.1140e-02, -2.2095e-02,  1.7134e-02, -2.7973e-02,\n",
              "             1.0772e-02,  5.3870e-03, -3.2454e-02, -2.9616e-02,  2.7958e-03,\n",
              "            -3.0469e-02, -1.3178e-02, -4.1275e-02,  3.2816e-02, -2.3799e-02,\n",
              "            -3.2765e-02, -1.3279e-02,  3.7107e-02, -1.1710e-02, -7.7167e-03,\n",
              "             3.4505e-02,  3.1629e-02,  2.5610e-02,  3.9428e-02,  3.3911e-02,\n",
              "             1.6045e-02, -5.6242e-04, -1.4444e-02, -4.1187e-02, -3.8471e-02,\n",
              "             1.4290e-02, -1.9368e-02,  1.1751e-02,  7.8605e-03,  1.6728e-02,\n",
              "             3.9867e-02, -1.3544e-02,  4.0346e-02, -1.4602e-02,  1.7190e-02,\n",
              "            -2.2103e-02, -3.1822e-02, -6.6024e-03, -3.3028e-02,  2.7251e-02,\n",
              "            -1.0239e-02,  4.2140e-02,  1.7701e-02, -4.2161e-02, -2.6595e-03,\n",
              "            -2.6168e-02, -9.0887e-03,  2.3674e-02, -7.7835e-03,  2.4030e-04,\n",
              "            -2.8472e-02, -8.5198e-03, -1.8837e-02, -2.1696e-02, -5.7680e-03,\n",
              "             2.2150e-02, -1.9939e-02,  3.0343e-02,  8.2148e-03,  1.5166e-02,\n",
              "             3.4961e-03,  3.1066e-02, -2.9512e-02, -1.2564e-03, -6.1165e-03,\n",
              "            -4.0353e-02, -1.1168e-02, -2.5335e-02, -3.3675e-02, -2.6562e-02,\n",
              "            -2.0295e-02,  3.6203e-02, -4.2556e-02, -8.0726e-03,  1.1769e-02,\n",
              "             6.5557e-03, -3.9047e-02,  1.8416e-02,  2.0264e-03,  2.3437e-02,\n",
              "             1.7911e-02, -1.4303e-02, -2.8390e-02, -3.7893e-02, -1.5689e-03,\n",
              "            -2.1196e-02, -3.2438e-03,  2.7248e-02, -3.4478e-02, -8.8004e-03,\n",
              "             1.2946e-02, -5.7995e-04,  5.1785e-03, -2.5650e-03,  3.7487e-02,\n",
              "             3.4454e-02,  1.0898e-02,  2.3739e-02, -1.2974e-02, -1.9220e-02,\n",
              "             3.2546e-02, -2.3751e-02,  3.6582e-02,  1.5402e-02,  3.2114e-02,\n",
              "            -3.4778e-02,  2.4070e-02, -3.0706e-03,  3.6077e-02, -7.8766e-03,\n",
              "            -1.0778e-02,  1.0224e-02, -3.7196e-02, -3.7923e-02,  2.9847e-02,\n",
              "             3.4432e-02, -4.1650e-02,  2.9424e-02], requires_grad=True),\n",
              "    Parameter containing:\n",
              "    tensor([[ 0.0008,  0.0246, -0.0332,  ...,  0.0084, -0.0277,  0.0053],\n",
              "            [-0.0374,  0.0051,  0.0252,  ..., -0.0134,  0.0366, -0.0060],\n",
              "            [ 0.0160,  0.0041, -0.0161,  ..., -0.0194,  0.0356,  0.0093],\n",
              "            ...,\n",
              "            [ 0.0025,  0.0104,  0.0355,  ..., -0.0188, -0.0388, -0.0303],\n",
              "            [-0.0386,  0.0001,  0.0429,  ...,  0.0131,  0.0059, -0.0326],\n",
              "            [-0.0314, -0.0298,  0.0202,  ..., -0.0337,  0.0060,  0.0240]],\n",
              "           requires_grad=True),\n",
              "    Parameter containing:\n",
              "    tensor([ 0.0430, -0.0060, -0.0049, -0.0184, -0.0321,  0.0112,  0.0286,  0.0400,\n",
              "            -0.0428,  0.0029, -0.0041, -0.0186, -0.0385,  0.0441,  0.0052, -0.0050,\n",
              "            -0.0343, -0.0311, -0.0293, -0.0476,  0.0180, -0.0221,  0.0375, -0.0037,\n",
              "            -0.0449,  0.0442,  0.0088,  0.0243,  0.0310,  0.0062, -0.0093, -0.0021,\n",
              "             0.0137, -0.0069,  0.0069, -0.0461, -0.0070,  0.0296,  0.0212, -0.0061,\n",
              "            -0.0025, -0.0327,  0.0194,  0.0394, -0.0396, -0.0239,  0.0046, -0.0170,\n",
              "             0.0204,  0.0140, -0.0435,  0.0182, -0.0214,  0.0262,  0.0303,  0.0463,\n",
              "            -0.0044,  0.0306, -0.0050,  0.0296,  0.0203, -0.0470, -0.0299, -0.0437,\n",
              "             0.0019,  0.0422, -0.0443,  0.0319,  0.0290,  0.0384,  0.0034, -0.0200,\n",
              "            -0.0077, -0.0381, -0.0318,  0.0182, -0.0280, -0.0039, -0.0224, -0.0472,\n",
              "            -0.0203,  0.0356, -0.0285, -0.0445,  0.0074, -0.0349,  0.0102,  0.0314,\n",
              "             0.0102,  0.0013, -0.0061,  0.0168,  0.0183,  0.0431,  0.0246, -0.0097,\n",
              "             0.0213, -0.0286, -0.0398, -0.0461, -0.0323, -0.0285,  0.0098,  0.0201,\n",
              "             0.0294,  0.0433,  0.0340,  0.0401, -0.0150, -0.0257,  0.0164, -0.0076,\n",
              "            -0.0408,  0.0223,  0.0322], requires_grad=True),\n",
              "    Parameter containing:\n",
              "    tensor([[ 0.0144, -0.0078,  0.0703,  0.0684, -0.0405, -0.0813,  0.0138,  0.0852,\n",
              "              0.0288, -0.0074, -0.0236,  0.0301, -0.0541,  0.0352, -0.0002,  0.0160,\n",
              "             -0.0299, -0.0760, -0.0889,  0.0587, -0.0556,  0.0691, -0.0850,  0.0832,\n",
              "             -0.0679, -0.0712,  0.0799,  0.0039, -0.0900, -0.0624, -0.0412,  0.0660,\n",
              "             -0.0450, -0.0455,  0.0607,  0.0295, -0.0116, -0.0378,  0.0312,  0.0224,\n",
              "             -0.0550,  0.0631, -0.0522, -0.0081, -0.0480, -0.0226,  0.0467, -0.0319,\n",
              "             -0.0525,  0.0873, -0.0904, -0.0313, -0.0019,  0.0034,  0.0192, -0.0103,\n",
              "              0.0727,  0.0422,  0.0143,  0.0632, -0.0391,  0.0306, -0.0455,  0.0084,\n",
              "              0.0833, -0.0860, -0.0204, -0.0139, -0.0438, -0.0274, -0.0807,  0.0276,\n",
              "              0.0795,  0.0491, -0.0189,  0.0612, -0.0676, -0.0442,  0.0223, -0.0186,\n",
              "              0.0180, -0.0136,  0.0450, -0.0115,  0.0168, -0.0012,  0.0272, -0.0489,\n",
              "              0.0034, -0.0380,  0.0821,  0.0091,  0.0766, -0.0057,  0.0697, -0.0847,\n",
              "              0.0146,  0.0844, -0.0722, -0.0911, -0.0654,  0.0214, -0.0134, -0.0147,\n",
              "             -0.0078, -0.0161, -0.0749,  0.0559,  0.0879, -0.0475,  0.0267, -0.0371,\n",
              "              0.0484,  0.0865, -0.0757]], requires_grad=True),\n",
              "    Parameter containing:\n",
              "    tensor([0.0032], requires_grad=True)]}],\n",
              " '_warned_capturable_if_run_uncaptured': True}"
            ]
          },
          "execution_count": 108,
          "metadata": {},
          "output_type": "execute_result"
        },
        {
          "data": {
            "text/plain": [
              "<torch.optim.lr_scheduler.ReduceLROnPlateau at 0x7f4923562790>"
            ]
          },
          "execution_count": 108,
          "metadata": {},
          "output_type": "execute_result"
        },
        {
          "data": {
            "text/plain": [
              "{'factor': 0.18979341786654758,\n",
              " 'optimizer': RMSprop (\n",
              " Parameter Group 0\n",
              "     alpha: 0.99\n",
              "     centered: False\n",
              "     differentiable: False\n",
              "     eps: 1e-08\n",
              "     foreach: None\n",
              "     lr: 0.000122770896701404\n",
              "     maximize: False\n",
              "     momentum: 0\n",
              "     weight_decay: 0\n",
              " ),\n",
              " 'min_lrs': [0],\n",
              " 'patience': 11,\n",
              " 'verbose': False,\n",
              " 'cooldown': 0,\n",
              " 'cooldown_counter': 0,\n",
              " 'mode': 'min',\n",
              " 'threshold': 0.0017197466122611932,\n",
              " 'threshold_mode': 'rel',\n",
              " 'best': inf,\n",
              " 'num_bad_epochs': 0,\n",
              " 'mode_worse': inf,\n",
              " 'eps': 1e-08,\n",
              " 'last_epoch': 0}"
            ]
          },
          "execution_count": 108,
          "metadata": {},
          "output_type": "execute_result"
        },
        {
          "data": {
            "text/plain": [
              "[2.3968515396118164, 4.337587833404541]"
            ]
          },
          "execution_count": 108,
          "metadata": {},
          "output_type": "execute_result"
        },
        {
          "data": {
            "text/plain": [
              "[2.1694371700286865, 3.975574254989624]"
            ]
          },
          "execution_count": 108,
          "metadata": {},
          "output_type": "execute_result"
        },
        {
          "data": {
            "text/plain": [
              "[{'l1_norm': 2.190078020095825, 'linf_norm': 9.747714042663574},\n",
              " {'l1_norm': 13.41724681854248, 'linf_norm': 83.88256072998047}]"
            ]
          },
          "execution_count": 108,
          "metadata": {},
          "output_type": "execute_result"
        },
        {
          "data": {
            "text/plain": [
              "[{'l1_norm': 0.3260451555252075, 'linf_norm': 0.6174368262290955},\n",
              " {'l1_norm': 0.8560304641723633, 'linf_norm': 0.9510993957519532}]"
            ]
          },
          "execution_count": 108,
          "metadata": {},
          "output_type": "execute_result"
        }
      ],
      "source": [
        "# %%script echo skipping\n",
        "\n",
        "if hidden_activation_name_loaded == \"LeakyReLU\":\n",
        "  var_dict_loaded[\"leakyrelu_slope\"]\n",
        "if hidden_activation_name_loaded == \"PReLU\":\n",
        "  var_dict_loaded[\"prelu_init\"]\n",
        "elif hidden_activation_name_loaded == \"SoftPlus\":\n",
        "  var_dict_loaded[\"softplus_beta\"]\n",
        "\n",
        "batch_size_loaded\n",
        "n_epochs_loaded\n",
        "loss_name_loaded\n",
        "optimizer_name_loaded\n",
        "scheduler_name_loaded\n",
        "n_units_loaded\n",
        "n_layers_loaded\n",
        "hidden_activation_name_loaded\n",
        "output_activation_name_loaded\n",
        "lr_loaded\n",
        "dropout_rate_loaded\n",
        "hidden_activation_loaded\n",
        "output_activation_loaded\n",
        "net_loaded\n",
        "net_loaded.__dict__ # print the subparameters of the network\n",
        "loss_fn_loaded\n",
        "optimizer_loaded\n",
        "optimizer_loaded.__dict__ # print the subparameters of the optimizer\n",
        "if scheduler_loaded is not None:\n",
        "  scheduler_loaded\n",
        "  scheduler_loaded.__dict__ # print the subparameters of the scheduler\n",
        "train_losses_loaded\n",
        "test_losses_loaded\n",
        "train_metrics_loaded\n",
        "test_metrics_loaded\n"
      ]
    },
    {
      "cell_type": "code",
      "execution_count": 109,
      "metadata": {},
      "outputs": [
        {
          "data": {
            "text/plain": [
              "4.337587833404541"
            ]
          },
          "execution_count": 109,
          "metadata": {},
          "output_type": "execute_result"
        },
        {
          "data": {
            "text/plain": [
              "3.975574254989624"
            ]
          },
          "execution_count": 109,
          "metadata": {},
          "output_type": "execute_result"
        },
        {
          "data": {
            "text/plain": [
              "0.8560304641723633"
            ]
          },
          "execution_count": 109,
          "metadata": {},
          "output_type": "execute_result"
        },
        {
          "data": {
            "text/plain": [
              "0.9510993957519532"
            ]
          },
          "execution_count": 109,
          "metadata": {},
          "output_type": "execute_result"
        }
      ],
      "source": [
        "train_losses_loaded[-1]\n",
        "test_losses_loaded[-1]\n",
        "test_metrics_loaded[-1]['l1_norm']\n",
        "test_metrics_loaded[-1]['linf_norm']\n",
        "# print(f'Error is {test_metrics_loaded[-1][\"l1_norm\"] / (3.84e-4)} times bigger than in Dieselhorst et al.')\n",
        "# print(f'Error is {test_metrics_loaded[-1][\"linf_norm\"] / (8.14e-3)} times bigger than in Dieselhorst et al.')"
      ]
    },
    {
      "attachments": {},
      "cell_type": "markdown",
      "metadata": {},
      "source": [
        "### Visualize loaded results"
      ]
    },
    {
      "attachments": {},
      "cell_type": "markdown",
      "metadata": {
        "id": "vwLGR1aSUZik"
      },
      "source": [
        "Let us verify correct loading of the train and test metrics by visualizing them again but now through the loaded values. Likewise for the train and test losses."
      ]
    },
    {
      "cell_type": "code",
      "execution_count": 110,
      "metadata": {
        "id": "sXiNgLsmUZil"
      },
      "outputs": [],
      "source": [
        "%config InteractiveShell.ast_node_interactivity = \"last_expr_or_assign\""
      ]
    },
    {
      "cell_type": "code",
      "execution_count": 111,
      "metadata": {
        "colab": {
          "base_uri": "https://localhost:8080/",
          "height": 1000
        },
        "id": "sgq4WfSiUZil",
        "outputId": "9934bd08-6c78-4a92-c8c6-d8e835c351b3"
      },
      "outputs": [
        {
          "data": {
            "image/png": "[encoded data removed]",
            "text/plain": [
              "<Figure size 600x400 with 1 Axes>"
            ]
          },
          "metadata": {},
          "output_type": "display_data"
        },
        {
          "data": {
            "image/png": "[encoded data removed]",
            "text/plain": [
              "<Figure size 600x400 with 1 Axes>"
            ]
          },
          "metadata": {},
          "output_type": "display_data"
        },
        {
          "data": {
            "image/png": "[encoded data removed]",
            "text/plain": [
              "<Figure size 600x400 with 1 Axes>"
            ]
          },
          "metadata": {},
          "output_type": "display_data"
        }
      ],
      "source": [
        "# First figure: Train and Test L1 Norm\n",
        "plt.figure(figsize=(6, 4))\n",
        "plt.plot([m[\"l1_norm\"] for m in train_metrics_loaded], label=\"Train L1 Norm\", color='blue')\n",
        "plt.plot([m[\"l1_norm\"] for m in test_metrics_loaded], label=\"Test L1 Norm\", color='red')\n",
        "plt.xlabel(\"Epoch\")\n",
        "plt.ylabel(\"L1 Norm\")\n",
        "plt.title(\"NNGRX Train and Test L1 Norm per Epoch\")\n",
        "plt.yscale(\"log\")\n",
        "plt.grid(True)\n",
        "plt.xlim(right=200)\n",
        "plt.ylim(1e-3, 1e2)\n",
        "plt.legend()\n",
        "plt.tight_layout()\n",
        "# plt.savefig(\"NNGRX_L1_norm_plot.png\", dpi=300)\n",
        "plt.savefig(\"NNGRX_L1_norm_plot.png\")\n",
        "\n",
        "# Second figure: Train and Test Linf Norm\n",
        "plt.figure(figsize=(6, 4))\n",
        "plt.plot([m[\"linf_norm\"] for m in train_metrics_loaded], label=\"Train Linf Norm\", color='blue')\n",
        "plt.plot([m[\"linf_norm\"] for m in test_metrics_loaded], label=\"Test Linf Norm\", color='red')\n",
        "plt.xlabel(\"Epoch\")\n",
        "plt.ylabel(\"Linf Norm\")\n",
        "plt.title(\"NNGRX Train and Test Linf Norm per Epoch\")\n",
        "plt.yscale(\"log\")\n",
        "plt.grid(True)\n",
        "plt.xlim(right=200)\n",
        "plt.ylim(1e-3, 1e2)\n",
        "plt.legend()\n",
        "plt.tight_layout()\n",
        "# plt.savefig(\"NNGRX_Linf_norm_plot.png\", dpi=300)\n",
        "plt.savefig(\"NNGRX_Linf_norm_plot.png\")\n",
        "\n",
        "# Third figure: MSE of training data and test data\n",
        "plt.figure(figsize=(6, 4))\n",
        "plt.plot(train_losses_loaded, label=\"Training Data\", color='blue')\n",
        "plt.plot(test_losses_loaded, label=\"Test Data\", color='red')\n",
        "plt.xlabel(\"Epoch\")\n",
        "plt.ylabel(\"MSE\")\n",
        "plt.title(\"NNGRX MSE of Training and Test Data per Epoch\")\n",
        "plt.yscale(\"log\")\n",
        "plt.grid(True)\n",
        "plt.xlim(right=200)\n",
        "plt.ylim(1e-7, 1e0)\n",
        "plt.legend()\n",
        "plt.tight_layout()\n",
        "# plt.savefig(\"NNGRX_MSE_plot.png\", dpi=300)\n",
        "plt.savefig(\"NNGRX_MSE_plot.png\")"
      ]
    },
    {
      "cell_type": "code",
      "execution_count": 112,
      "metadata": {
        "id": "lkgLqJ_UUZim"
      },
      "outputs": [],
      "source": [
        "%config InteractiveShell.ast_node_interactivity = \"all\""
      ]
    },
    {
      "attachments": {},
      "cell_type": "markdown",
      "metadata": {},
      "source": [
        "## Counting the number of parameters in the network."
      ]
    },
    {
      "cell_type": "code",
      "execution_count": 113,
      "metadata": {},
      "outputs": [
        {
          "data": {
            "text/plain": [
              "Net(\n",
              "  (hidden_activation): LeakyReLU(negative_slope=0.01)\n",
              "  (output_activation): Identity()\n",
              "  (layers): ModuleList(\n",
              "    (0): Linear(in_features=14, out_features=555, bias=True)\n",
              "    (1): Linear(in_features=555, out_features=458, bias=True)\n",
              "    (2): Linear(in_features=458, out_features=115, bias=True)\n",
              "    (3): Linear(in_features=115, out_features=1, bias=True)\n",
              "  )\n",
              "  (dropouts): ModuleList(\n",
              "    (0-2): 3 x Dropout(p=0.2, inplace=False)\n",
              "  )\n",
              ")"
            ]
          },
          "execution_count": 113,
          "metadata": {},
          "output_type": "execute_result"
        },
        {
          "name": "stdout",
          "output_type": "stream",
          "text": [
            "The model has 315874 parameters.\n"
          ]
        }
      ],
      "source": [
        "net_loaded.eval()\n",
        "def count_parameters(model):\n",
        "    return sum(p.numel() for p in model.parameters() if p.requires_grad)\n",
        "print(f'The model has {count_parameters(net_loaded)} parameters.')"
      ]
    },
    {
      "attachments": {},
      "cell_type": "markdown",
      "metadata": {
        "id": "SxuzVSnlUZin"
      },
      "source": [
        "## Evaluating the network on arbirary input\n",
        "### Comparing `net` and `net_loaded`\n",
        "\n",
        "We compare `net` and `net_loaded` to confirm correct loading of the network. Note that `net` is only available if we have trained the model in this session."
      ]
    },
    {
      "cell_type": "code",
      "execution_count": 114,
      "metadata": {},
      "outputs": [
        {
          "data": {
            "text/plain": [
              "Net(\n",
              "  (hidden_activation): LeakyReLU(negative_slope=0.01)\n",
              "  (output_activation): Identity()\n",
              "  (layers): ModuleList(\n",
              "    (0): Linear(in_features=14, out_features=555, bias=True)\n",
              "    (1): Linear(in_features=555, out_features=458, bias=True)\n",
              "    (2): Linear(in_features=458, out_features=115, bias=True)\n",
              "    (3): Linear(in_features=115, out_features=1, bias=True)\n",
              "  )\n",
              "  (dropouts): ModuleList(\n",
              "    (0-2): 3 x Dropout(p=0.2, inplace=False)\n",
              "  )\n",
              ")"
            ]
          },
          "execution_count": 114,
          "metadata": {},
          "output_type": "execute_result"
        }
      ],
      "source": [
        "#%%script echo skipping\n",
        "\n",
        "# Set the network to evaluation mode\n",
        "net.eval()"
      ]
    },
    {
      "cell_type": "code",
      "execution_count": 115,
      "metadata": {},
      "outputs": [
        {
          "data": {
            "text/plain": [
              "<bound method Module.eval of Net(\n",
              "  (hidden_activation): LeakyReLU(negative_slope=0.01)\n",
              "  (output_activation): Identity()\n",
              "  (layers): ModuleList(\n",
              "    (0): Linear(in_features=14, out_features=555, bias=True)\n",
              "    (1): Linear(in_features=555, out_features=458, bias=True)\n",
              "    (2): Linear(in_features=458, out_features=115, bias=True)\n",
              "    (3): Linear(in_features=115, out_features=1, bias=True)\n",
              "  )\n",
              "  (dropouts): ModuleList(\n",
              "    (0-2): 3 x Dropout(p=0.2, inplace=False)\n",
              "  )\n",
              ")>"
            ]
          },
          "execution_count": 115,
          "metadata": {},
          "output_type": "execute_result"
        }
      ],
      "source": [
        "# Set the network to evaluation mode\n",
        "net_loaded.eval"
      ]
    },
    {
      "cell_type": "code",
      "execution_count": 116,
      "metadata": {},
      "outputs": [
        {
          "name": "stdout",
          "output_type": "stream",
          "text": [
            "Parameters are the same.\n",
            "Net device: cpu\n",
            "Net_loaded device: cpu\n"
          ]
        }
      ],
      "source": [
        "for p1, p2 in zip(net.parameters(), net_loaded.parameters()):\n",
        "    if p1.data.ne(p2.data).sum() > 0:\n",
        "        print(\"Parameters are NOT the same.\")\n",
        "        break\n",
        "else:\n",
        "    print(\"Parameters are the same.\")\n",
        "\n",
        "print(\"Net device:\", next(net.parameters()).device)\n",
        "print(\"Net_loaded device:\", next(net_loaded.parameters()).device)"
      ]
    },
    {
      "cell_type": "code",
      "execution_count": 117,
      "metadata": {
        "colab": {
          "base_uri": "https://localhost:8080/"
        },
        "id": "C0PLAA0DUZin",
        "outputId": "c51e07dd-8b35-4ea4-cdf9-3118d7796e30"
      },
      "outputs": [
        {
          "name": "stdout",
          "output_type": "stream",
          "text": [
            "[Parameter containing:\n",
            "tensor([[ 0.0738,  0.2414, -0.1703,  ...,  0.2402, -0.1743,  0.2385],\n",
            "        [-0.2128,  0.0363,  0.1756,  ...,  0.1272, -0.1406,  0.0287],\n",
            "        [-0.0234, -0.0696, -0.0674,  ...,  0.1202,  0.1208,  0.0862],\n",
            "        ...,\n",
            "        [-0.0726,  0.1377, -0.0560,  ..., -0.1889,  0.2568,  0.0568],\n",
            "        [-0.0389,  0.2154, -0.1232,  ..., -0.0022, -0.2059,  0.2627],\n",
            "        [-0.1321, -0.2538,  0.1026,  ..., -0.0364,  0.0552, -0.0762]],\n",
            "       requires_grad=True), Parameter containing:\n",
            "tensor([-6.7164e-02, -2.4017e-01, -2.3307e-01,  8.5688e-02,  1.9355e-01,\n",
            "         1.5645e-01,  2.5005e-01, -6.3379e-02, -9.1266e-03,  1.5001e-01,\n",
            "        -1.9132e-01,  1.5667e-02, -4.9181e-02,  9.2695e-02, -1.4535e-01,\n",
            "         2.1469e-01,  1.8116e-01, -7.4066e-02,  8.8678e-02,  1.0811e-01,\n",
            "        -1.0128e-01,  1.4352e-01, -1.4284e-01, -1.0463e-01, -1.9108e-02,\n",
            "         1.3190e-01,  2.5050e-01,  1.6039e-01, -1.7190e-01, -1.8972e-01,\n",
            "        -2.6232e-01, -3.5252e-02, -2.6597e-01,  7.0804e-02, -7.0483e-02,\n",
            "        -2.5479e-01, -1.4105e-01, -1.8028e-01, -2.2845e-01,  4.7005e-02,\n",
            "         1.2659e-01, -9.5340e-02, -6.2825e-02, -2.4838e-01, -9.4000e-02,\n",
            "        -2.1168e-01,  6.9227e-02, -1.9068e-01, -6.9859e-02, -7.8727e-02,\n",
            "        -6.2075e-02,  2.1166e-01,  1.7879e-02, -2.6521e-02,  2.5422e-02,\n",
            "        -2.2859e-02, -1.1841e-01, -1.1637e-02, -3.9229e-02, -1.6859e-01,\n",
            "        -1.3642e-02, -2.5609e-01, -1.4942e-01,  3.4907e-02,  1.5707e-01,\n",
            "        -2.3504e-01,  1.9294e-01, -3.7398e-02, -8.2026e-02,  1.4443e-01,\n",
            "        -8.6312e-02, -3.7015e-02, -1.6947e-01, -1.1787e-01,  1.1855e-01,\n",
            "        -1.3370e-01,  1.8575e-01, -7.3874e-02,  5.1435e-02,  1.2503e-02,\n",
            "        -1.7904e-01, -4.4257e-02, -3.2944e-03,  2.1256e-01, -9.8669e-02,\n",
            "         1.7973e-01,  1.8645e-02, -2.2566e-01,  1.8522e-02,  2.4403e-01,\n",
            "        -6.5627e-02, -1.6250e-02, -9.4921e-02,  1.9324e-02,  4.1376e-02,\n",
            "        -6.4070e-02,  2.3696e-01, -2.6102e-01, -2.3687e-01,  2.4185e-01,\n",
            "        -2.5835e-01,  4.9087e-02, -1.7545e-01,  4.1541e-02,  3.2759e-02,\n",
            "        -1.8097e-01, -1.5249e-01, -1.0206e-01, -1.1062e-01, -1.7482e-01,\n",
            "        -1.0102e-01, -1.7433e-01, -1.4115e-01,  1.6674e-01, -2.7021e-02,\n",
            "         2.2846e-02, -2.8983e-02,  1.3426e-01,  1.6725e-01,  1.5149e-01,\n",
            "        -1.6354e-02,  1.6719e-01, -1.1310e-01, -5.4615e-02, -1.2062e-01,\n",
            "         3.9274e-02,  4.0121e-02,  1.5906e-01,  1.6939e-01,  5.6023e-02,\n",
            "        -8.7608e-02,  1.7009e-01, -2.1556e-02, -1.7530e-01, -1.5804e-01,\n",
            "         1.1512e-01,  1.2893e-01,  1.8511e-01,  1.2514e-01,  4.6159e-02,\n",
            "        -8.3850e-02,  2.4381e-01, -2.4449e-02,  2.3959e-01,  1.1993e-01,\n",
            "         5.5213e-02, -2.3306e-01,  8.7876e-02,  2.3364e-01, -7.9167e-02,\n",
            "        -2.2377e-01, -9.7145e-02, -2.3766e-01,  1.7466e-01, -1.8976e-01,\n",
            "        -8.3010e-02,  6.8315e-02, -7.6243e-02,  1.8039e-01,  1.4767e-01,\n",
            "         1.8023e-01, -1.4209e-01, -2.1479e-01,  1.7721e-01, -1.3151e-01,\n",
            "        -2.4702e-01,  4.2855e-02,  8.3869e-03,  2.4407e-02, -7.6526e-02,\n",
            "        -2.0146e-01,  1.1219e-01, -3.4778e-02, -1.1093e-01, -1.9978e-01,\n",
            "         1.5633e-01, -9.1808e-02, -1.8235e-01,  1.6976e-01, -1.0306e-01,\n",
            "        -2.0097e-01, -9.5396e-02,  2.5268e-01,  3.6729e-02,  1.5920e-01,\n",
            "        -2.4912e-01, -1.5879e-01,  2.0281e-01,  5.5018e-02, -1.7345e-01,\n",
            "        -5.8940e-04,  2.0360e-01, -9.7534e-02, -2.1379e-01,  1.4269e-01,\n",
            "        -1.6348e-01,  8.3787e-02,  1.8369e-01, -2.1559e-01,  4.1671e-02,\n",
            "        -2.2225e-01,  9.1065e-02, -1.5204e-01,  2.0343e-01,  2.5806e-01,\n",
            "         7.3076e-02,  1.9280e-01, -1.2590e-01, -2.5203e-01,  7.1020e-02,\n",
            "        -5.1847e-03,  9.3220e-02, -1.9665e-01, -1.1051e-01,  3.6186e-02,\n",
            "         5.0966e-02, -6.1745e-03,  1.7988e-01, -2.1031e-01,  7.9214e-02,\n",
            "         1.5735e-01, -1.4456e-01,  7.4057e-02,  8.5071e-03, -3.2106e-02,\n",
            "         2.1524e-01, -1.7163e-01, -2.4177e-01, -2.7637e-02, -1.1941e-01,\n",
            "         1.6697e-01, -1.4339e-01,  2.4274e-03,  5.5594e-02, -8.1904e-02,\n",
            "         3.1857e-02, -2.3775e-03, -6.5284e-02, -6.8043e-02,  2.0947e-01,\n",
            "        -1.9544e-01,  1.2060e-01,  2.3880e-01, -7.7242e-02,  2.8998e-02,\n",
            "        -3.6316e-02,  1.5336e-01,  1.9084e-01,  2.5470e-01, -2.4231e-01,\n",
            "        -2.2815e-01, -2.3587e-02, -1.6928e-01, -2.2751e-01, -1.5152e-01,\n",
            "         1.2396e-01,  1.9919e-01,  1.2984e-01,  2.6763e-01, -2.2731e-01,\n",
            "         2.3141e-01,  6.6482e-02, -1.0272e-03,  2.0670e-01, -1.2818e-01,\n",
            "        -1.6728e-01,  2.0755e-01, -1.9066e-01,  1.9539e-01, -2.5795e-01,\n",
            "         2.0324e-01,  4.1425e-03,  1.2810e-01,  1.3129e-01, -1.4479e-01,\n",
            "        -2.4865e-01, -6.8855e-02,  3.8055e-02, -1.2085e-01, -3.1895e-02,\n",
            "        -1.2977e-01,  2.0658e-01, -2.5815e-01,  8.6105e-03, -9.4340e-02,\n",
            "        -1.1804e-02,  1.0166e-01,  2.0192e-01,  1.5703e-01,  9.3855e-02,\n",
            "        -1.2738e-01, -6.7602e-03,  1.3177e-01, -1.1760e-02, -3.6383e-02,\n",
            "         4.7047e-02, -2.4801e-01,  3.1864e-02, -8.8163e-02, -1.7617e-01,\n",
            "        -1.1392e-01, -2.3904e-01,  4.9729e-02, -1.6542e-01,  1.1199e-01,\n",
            "         6.4573e-02, -7.9194e-03,  6.3504e-02,  2.4560e-01,  2.0871e-01,\n",
            "         1.7595e-01, -1.4209e-01,  7.8535e-02, -1.7807e-01,  1.4041e-01,\n",
            "        -3.2197e-02, -2.5525e-01, -2.3181e-01, -4.7437e-02,  1.9883e-01,\n",
            "        -1.1930e-01, -2.1986e-01,  1.8386e-01,  1.3034e-01,  1.4437e-02,\n",
            "         8.1359e-02, -2.0224e-01,  1.7143e-01,  1.3510e-01, -9.8439e-02,\n",
            "        -2.6306e-01, -1.2007e-01, -9.4747e-02, -3.9467e-02, -2.1491e-01,\n",
            "         2.4235e-02,  6.9119e-02,  4.5453e-02, -1.5854e-01,  1.0499e-01,\n",
            "         2.0061e-02,  2.2581e-01,  1.2520e-01, -1.7190e-01, -8.4293e-02,\n",
            "         1.8044e-01,  9.2103e-02,  2.2761e-01, -1.1637e-01,  1.5921e-01,\n",
            "         8.6731e-02, -9.3437e-02,  4.8666e-02,  1.8826e-01, -1.9892e-01,\n",
            "        -4.9753e-02, -3.0723e-02,  1.7247e-02,  3.4324e-02,  3.8574e-03,\n",
            "         2.5285e-01,  1.6340e-02,  2.4709e-02,  1.7144e-01,  9.1283e-02,\n",
            "         2.4668e-01, -1.9058e-01, -1.4516e-02,  1.6806e-01,  1.3432e-01,\n",
            "        -2.6613e-01,  3.8671e-02,  1.0463e-01,  8.9291e-02, -6.8605e-02,\n",
            "         6.5986e-03,  1.2284e-01, -2.3942e-01,  1.4821e-01, -2.0340e-01,\n",
            "        -1.4293e-01,  1.1214e-02, -1.8329e-02, -2.2041e-01,  1.0750e-01,\n",
            "         4.2915e-02, -2.0521e-01,  1.7648e-01, -1.6992e-01,  2.3573e-01,\n",
            "        -1.9519e-01, -2.0995e-02,  2.4601e-01, -1.4879e-01,  7.3480e-02,\n",
            "         2.9841e-04, -4.1057e-03, -2.3392e-01, -7.1871e-02,  2.5781e-01,\n",
            "         2.1765e-01, -9.5219e-04, -2.2315e-01,  2.1060e-02, -7.1671e-02,\n",
            "        -1.2641e-01, -1.8139e-01, -2.0910e-01,  1.9919e-01,  2.2980e-01,\n",
            "        -1.4027e-01, -1.4636e-01, -1.3389e-01, -7.7220e-02, -2.3434e-01,\n",
            "         3.9265e-02,  2.3406e-01,  1.7417e-01, -2.7214e-02, -1.4930e-01,\n",
            "        -9.8467e-03, -9.9812e-02,  1.2711e-01,  1.0015e-01, -2.0547e-02,\n",
            "         2.4946e-01, -2.0351e-01, -2.0985e-02, -1.9278e-01,  4.4121e-03,\n",
            "         2.4433e-02,  8.9254e-02, -1.2252e-01,  2.3966e-01,  1.1383e-01,\n",
            "         1.6050e-01, -3.7961e-02, -1.0440e-01,  1.8942e-01,  2.3793e-02,\n",
            "        -1.9809e-01, -2.1366e-01, -1.8314e-01,  6.4082e-02,  2.0992e-01,\n",
            "        -1.1812e-01, -2.1920e-01, -3.6456e-02,  2.3833e-01,  1.1318e-01,\n",
            "         7.3241e-02,  1.8792e-01, -2.6583e-01, -1.4127e-01, -3.8141e-02,\n",
            "         1.7094e-01, -2.2446e-01, -4.5348e-03, -2.6592e-01,  1.5987e-01,\n",
            "        -6.6640e-02, -9.1340e-02, -1.2521e-01,  1.1589e-01, -6.2680e-02,\n",
            "        -2.1869e-01,  3.4879e-02, -4.3981e-03,  1.2610e-01, -5.6041e-02,\n",
            "         3.7451e-02, -6.4166e-03,  1.6632e-01,  6.8918e-03, -5.4196e-02,\n",
            "         3.7989e-02, -8.8338e-02, -2.6020e-01,  1.5981e-01, -9.2498e-02,\n",
            "        -1.3935e-01,  9.2593e-02,  6.2634e-02,  1.5827e-01,  1.7414e-01,\n",
            "         2.3552e-01, -1.2698e-01, -3.2237e-02,  1.2308e-01,  2.6615e-01,\n",
            "        -4.3500e-02,  2.0807e-01, -7.0721e-02, -1.0343e-01, -6.9918e-02,\n",
            "        -2.4472e-01, -4.2909e-02, -2.5489e-01,  1.5406e-01, -8.7809e-02,\n",
            "         4.1396e-02,  2.8064e-02,  1.9301e-02,  1.5140e-01, -2.0004e-01,\n",
            "        -1.0081e-01,  2.0760e-01,  1.2075e-01,  1.6695e-01, -1.0909e-02,\n",
            "         1.6603e-01,  1.4437e-01,  9.6849e-02,  1.1935e-01, -1.5552e-01,\n",
            "         3.9196e-02,  1.3866e-01, -6.5172e-05, -3.3967e-02,  8.1555e-02,\n",
            "        -1.7180e-01, -2.4651e-01, -4.7458e-02, -2.1701e-01,  1.4305e-01,\n",
            "         1.0412e-01,  4.0392e-02, -2.6292e-01, -3.5709e-02, -6.5917e-02,\n",
            "        -9.5914e-02,  8.9896e-02, -1.5293e-01, -1.9351e-01,  1.8777e-01,\n",
            "        -1.0903e-01,  1.7376e-01,  1.0785e-01,  1.7369e-02,  8.0882e-02,\n",
            "         1.7973e-01,  2.2094e-01,  9.2196e-02, -7.9143e-02, -2.6320e-01,\n",
            "         2.1985e-01,  2.4162e-01,  8.8951e-02, -3.8539e-02, -3.7052e-02,\n",
            "        -2.0986e-01, -1.3848e-01,  1.6790e-01, -2.0514e-01,  1.1280e-01],\n",
            "       requires_grad=True), Parameter containing:\n",
            "tensor([[ 0.0317,  0.0146,  0.0098,  ...,  0.0168,  0.0285, -0.0387],\n",
            "        [-0.0070, -0.0021,  0.0188,  ...,  0.0192, -0.0048,  0.0415],\n",
            "        [ 0.0397,  0.0170, -0.0418,  ..., -0.0363, -0.0021,  0.0189],\n",
            "        ...,\n",
            "        [ 0.0226,  0.0234,  0.0135,  ...,  0.0138, -0.0356,  0.0026],\n",
            "        [ 0.0317, -0.0005,  0.0106,  ...,  0.0306, -0.0374, -0.0374],\n",
            "        [-0.0263,  0.0349, -0.0403,  ..., -0.0087,  0.0295, -0.0143]],\n",
            "       requires_grad=True), Parameter containing:\n",
            "tensor([-3.0313e-02, -3.6580e-02,  1.5827e-02, -9.1958e-03, -1.9852e-02,\n",
            "         2.6131e-02,  6.5992e-03, -3.8266e-03,  8.1022e-03,  3.7214e-02,\n",
            "         2.4515e-03,  3.4252e-02, -8.9454e-03, -1.3629e-02,  1.6562e-02,\n",
            "        -2.7976e-02, -1.7557e-02,  9.2760e-03,  2.8885e-02, -3.3751e-03,\n",
            "         1.5028e-02,  2.0800e-02, -3.1976e-02,  8.5845e-03, -1.8836e-02,\n",
            "         3.5935e-02, -3.7060e-02, -2.1576e-02, -3.5354e-02,  7.4319e-03,\n",
            "         3.8360e-02, -1.0182e-02,  2.8988e-02,  3.8233e-02, -2.6955e-02,\n",
            "        -2.4273e-02, -2.8885e-02, -2.4730e-02,  1.5307e-02, -8.3195e-03,\n",
            "        -2.7655e-02,  3.0266e-02, -2.0657e-02,  9.2770e-04, -2.9413e-03,\n",
            "        -4.3049e-02,  1.3593e-02, -4.1834e-02, -6.0234e-03,  3.7793e-02,\n",
            "         2.5003e-02, -8.8895e-03, -8.5347e-03, -2.0530e-04,  5.8609e-04,\n",
            "         1.9679e-02,  2.2121e-02, -7.8719e-03, -1.3102e-02,  2.8214e-02,\n",
            "        -4.0792e-02, -4.3117e-02,  1.9303e-02, -2.8818e-02,  1.1479e-02,\n",
            "        -1.5344e-02, -3.4487e-03,  3.7837e-02,  3.1878e-02, -2.8770e-02,\n",
            "         3.3489e-02,  1.6927e-02, -1.3858e-02,  1.9332e-02, -1.1886e-02,\n",
            "         3.1597e-02, -1.2110e-02,  1.3882e-02, -2.3167e-02, -1.7486e-02,\n",
            "        -2.1701e-02,  3.4268e-02,  8.0911e-03,  2.0390e-02, -2.0953e-02,\n",
            "         1.4900e-03, -2.4582e-02,  2.0500e-02,  3.2339e-02, -2.3421e-02,\n",
            "         1.0806e-02,  1.0056e-02, -3.4985e-02,  1.5293e-02,  3.8083e-02,\n",
            "         3.2661e-03,  1.3232e-02,  2.2663e-02,  1.7484e-02,  4.6080e-03,\n",
            "         3.1581e-02, -9.2252e-03,  3.2692e-03, -3.0938e-02,  2.6702e-02,\n",
            "        -6.4992e-03, -6.9547e-03,  4.4688e-02,  3.7739e-02, -1.5360e-02,\n",
            "        -3.3697e-02, -3.2657e-02, -3.7756e-02,  1.3797e-02, -4.0342e-02,\n",
            "        -7.5209e-03, -4.1731e-02,  2.1971e-02,  3.6151e-02,  2.5972e-02,\n",
            "        -3.1603e-02,  2.9165e-02, -1.5083e-02,  1.8848e-02, -3.4274e-02,\n",
            "        -3.1594e-02,  1.1945e-02,  1.0551e-02, -3.2669e-02, -4.1119e-02,\n",
            "        -3.8841e-02, -3.3439e-02,  3.5726e-02,  3.7552e-02,  1.4457e-02,\n",
            "         3.3973e-04, -3.1028e-02, -6.4608e-03,  3.6702e-02,  4.0257e-02,\n",
            "         5.9968e-03,  4.0168e-02, -3.3430e-02, -1.8338e-03, -3.1277e-02,\n",
            "        -3.0283e-02, -6.2793e-05, -1.4739e-02, -8.5247e-03, -4.2028e-02,\n",
            "         2.6984e-02, -3.6274e-02, -3.4080e-02, -1.0001e-02,  2.7941e-02,\n",
            "        -1.8167e-02,  8.9024e-04,  3.7148e-02, -8.6840e-03, -1.2020e-02,\n",
            "         1.2175e-02,  4.3111e-02, -4.1979e-02, -2.8063e-02, -1.7783e-02,\n",
            "         3.2531e-03,  4.0709e-03, -7.8527e-03,  1.7985e-02,  7.5887e-03,\n",
            "         3.5357e-02,  4.1612e-02, -2.0440e-02,  6.5061e-03, -4.6598e-03,\n",
            "         2.3435e-02,  4.1872e-04,  3.6065e-02, -6.7089e-04, -1.7366e-02,\n",
            "         1.4211e-02,  2.7422e-02,  3.8053e-02,  4.3351e-02, -4.2199e-02,\n",
            "        -2.7856e-02,  2.9981e-02,  1.9716e-02,  9.0006e-03,  2.1087e-02,\n",
            "         3.1813e-02,  3.9536e-02,  1.3810e-02,  3.3184e-02,  3.9239e-02,\n",
            "        -3.2060e-02,  5.0203e-03, -3.0760e-02,  1.0586e-02,  2.9626e-02,\n",
            "        -1.6878e-02, -1.2786e-02, -7.7792e-03,  9.6046e-03, -1.6243e-03,\n",
            "         5.4529e-03,  2.2533e-02, -3.4173e-02, -3.8458e-02, -2.8138e-02,\n",
            "         2.0364e-02, -4.0272e-02,  3.0097e-02, -1.5705e-02,  9.4501e-04,\n",
            "        -9.1059e-03,  3.8042e-02, -3.0715e-02, -2.3334e-02, -2.6964e-02,\n",
            "         4.2946e-02, -3.7050e-02, -2.8744e-02, -1.9851e-02,  3.8793e-02,\n",
            "         4.1686e-02, -2.1801e-02, -3.3614e-02,  3.8598e-02,  2.3918e-02,\n",
            "        -1.4174e-02,  3.5941e-02, -3.0778e-02,  1.4115e-03, -1.0021e-02,\n",
            "         3.5686e-02, -6.8511e-03, -1.0069e-03,  1.6255e-03,  1.3433e-02,\n",
            "         1.6215e-02,  3.6760e-02, -3.8399e-02, -1.1733e-02, -3.7878e-02,\n",
            "        -2.4980e-03, -8.5051e-03, -3.8558e-02, -1.2337e-02, -3.2490e-02,\n",
            "         1.3575e-02,  2.2493e-02, -2.8367e-02, -1.9758e-02, -1.5010e-02,\n",
            "         3.5727e-02,  3.8877e-02, -1.0086e-02, -4.2197e-03, -1.2346e-02,\n",
            "         3.0882e-02,  3.6444e-02, -3.1627e-02,  2.9222e-02, -3.6608e-03,\n",
            "        -2.5029e-02, -1.1753e-02,  2.2868e-02,  2.0872e-02, -1.1652e-02,\n",
            "        -2.4634e-02,  9.3467e-03,  2.4094e-02,  8.3178e-03,  8.0231e-03,\n",
            "        -1.5070e-02,  1.9660e-02, -7.0669e-04,  2.6611e-03, -3.1760e-02,\n",
            "        -4.2097e-02, -1.2259e-02,  3.3784e-02, -3.4225e-02, -1.6412e-02,\n",
            "        -4.9548e-03,  1.3686e-02, -1.0555e-02, -1.4790e-02,  3.5106e-02,\n",
            "        -5.5053e-04,  2.1080e-02,  2.5111e-02,  1.1738e-02,  2.4333e-02,\n",
            "        -1.5388e-02,  3.3518e-02, -2.1189e-02, -9.7408e-03, -3.1884e-02,\n",
            "        -6.8894e-03,  1.8921e-02, -4.1115e-02, -3.3000e-02, -6.1630e-03,\n",
            "         4.1455e-02,  3.0689e-02,  1.2025e-02, -4.0709e-03, -9.6006e-03,\n",
            "         2.8604e-02, -3.9495e-02,  1.9694e-02, -2.9443e-02,  9.2211e-03,\n",
            "         2.8830e-03, -1.0158e-02,  3.1876e-02,  1.9876e-03, -8.2388e-03,\n",
            "         1.5162e-02,  2.5248e-02, -3.7965e-02,  1.1417e-02, -1.7890e-02,\n",
            "         2.3580e-02,  2.8890e-02,  2.1737e-02, -2.5521e-02,  1.6637e-02,\n",
            "        -1.8049e-02,  7.6288e-03,  7.0021e-04, -2.4259e-02, -1.7059e-02,\n",
            "         3.7817e-02,  3.1140e-02, -2.2095e-02,  1.7134e-02, -2.7973e-02,\n",
            "         1.0772e-02,  5.3870e-03, -3.2454e-02, -2.9616e-02,  2.7958e-03,\n",
            "        -3.0469e-02, -1.3178e-02, -4.1275e-02,  3.2816e-02, -2.3799e-02,\n",
            "        -3.2765e-02, -1.3279e-02,  3.7107e-02, -1.1710e-02, -7.7167e-03,\n",
            "         3.4505e-02,  3.1629e-02,  2.5610e-02,  3.9428e-02,  3.3911e-02,\n",
            "         1.6045e-02, -5.6242e-04, -1.4444e-02, -4.1187e-02, -3.8471e-02,\n",
            "         1.4290e-02, -1.9368e-02,  1.1751e-02,  7.8605e-03,  1.6728e-02,\n",
            "         3.9867e-02, -1.3544e-02,  4.0346e-02, -1.4602e-02,  1.7190e-02,\n",
            "        -2.2103e-02, -3.1822e-02, -6.6024e-03, -3.3028e-02,  2.7251e-02,\n",
            "        -1.0239e-02,  4.2140e-02,  1.7701e-02, -4.2161e-02, -2.6595e-03,\n",
            "        -2.6168e-02, -9.0887e-03,  2.3674e-02, -7.7835e-03,  2.4030e-04,\n",
            "        -2.8472e-02, -8.5198e-03, -1.8837e-02, -2.1696e-02, -5.7680e-03,\n",
            "         2.2150e-02, -1.9939e-02,  3.0343e-02,  8.2148e-03,  1.5166e-02,\n",
            "         3.4961e-03,  3.1066e-02, -2.9512e-02, -1.2564e-03, -6.1165e-03,\n",
            "        -4.0353e-02, -1.1168e-02, -2.5335e-02, -3.3675e-02, -2.6562e-02,\n",
            "        -2.0295e-02,  3.6203e-02, -4.2556e-02, -8.0726e-03,  1.1769e-02,\n",
            "         6.5557e-03, -3.9047e-02,  1.8416e-02,  2.0264e-03,  2.3437e-02,\n",
            "         1.7911e-02, -1.4303e-02, -2.8390e-02, -3.7893e-02, -1.5689e-03,\n",
            "        -2.1196e-02, -3.2438e-03,  2.7248e-02, -3.4478e-02, -8.8004e-03,\n",
            "         1.2946e-02, -5.7995e-04,  5.1785e-03, -2.5650e-03,  3.7487e-02,\n",
            "         3.4454e-02,  1.0898e-02,  2.3739e-02, -1.2974e-02, -1.9220e-02,\n",
            "         3.2546e-02, -2.3751e-02,  3.6582e-02,  1.5402e-02,  3.2114e-02,\n",
            "        -3.4778e-02,  2.4070e-02, -3.0706e-03,  3.6077e-02, -7.8766e-03,\n",
            "        -1.0778e-02,  1.0224e-02, -3.7196e-02, -3.7923e-02,  2.9847e-02,\n",
            "         3.4432e-02, -4.1650e-02,  2.9424e-02], requires_grad=True), Parameter containing:\n",
            "tensor([[ 0.0008,  0.0246, -0.0332,  ...,  0.0084, -0.0277,  0.0053],\n",
            "        [-0.0374,  0.0051,  0.0252,  ..., -0.0134,  0.0366, -0.0060],\n",
            "        [ 0.0160,  0.0041, -0.0161,  ..., -0.0194,  0.0356,  0.0093],\n",
            "        ...,\n",
            "        [ 0.0025,  0.0104,  0.0355,  ..., -0.0188, -0.0388, -0.0303],\n",
            "        [-0.0386,  0.0001,  0.0429,  ...,  0.0131,  0.0059, -0.0326],\n",
            "        [-0.0314, -0.0298,  0.0202,  ..., -0.0337,  0.0060,  0.0240]],\n",
            "       requires_grad=True), Parameter containing:\n",
            "tensor([ 0.0430, -0.0060, -0.0049, -0.0184, -0.0321,  0.0112,  0.0286,  0.0400,\n",
            "        -0.0428,  0.0029, -0.0041, -0.0186, -0.0385,  0.0441,  0.0052, -0.0050,\n",
            "        -0.0343, -0.0311, -0.0293, -0.0476,  0.0180, -0.0221,  0.0375, -0.0037,\n",
            "        -0.0449,  0.0442,  0.0088,  0.0243,  0.0310,  0.0062, -0.0093, -0.0021,\n",
            "         0.0137, -0.0069,  0.0069, -0.0461, -0.0070,  0.0296,  0.0212, -0.0061,\n",
            "        -0.0025, -0.0327,  0.0194,  0.0394, -0.0396, -0.0239,  0.0046, -0.0170,\n",
            "         0.0204,  0.0140, -0.0435,  0.0182, -0.0214,  0.0262,  0.0303,  0.0463,\n",
            "        -0.0044,  0.0306, -0.0050,  0.0296,  0.0203, -0.0470, -0.0299, -0.0437,\n",
            "         0.0019,  0.0422, -0.0443,  0.0319,  0.0290,  0.0384,  0.0034, -0.0200,\n",
            "        -0.0077, -0.0381, -0.0318,  0.0182, -0.0280, -0.0039, -0.0224, -0.0472,\n",
            "        -0.0203,  0.0356, -0.0285, -0.0445,  0.0074, -0.0349,  0.0102,  0.0314,\n",
            "         0.0102,  0.0013, -0.0061,  0.0168,  0.0183,  0.0431,  0.0246, -0.0097,\n",
            "         0.0213, -0.0286, -0.0398, -0.0461, -0.0323, -0.0285,  0.0098,  0.0201,\n",
            "         0.0294,  0.0433,  0.0340,  0.0401, -0.0150, -0.0257,  0.0164, -0.0076,\n",
            "        -0.0408,  0.0223,  0.0322], requires_grad=True), Parameter containing:\n",
            "tensor([[ 0.0144, -0.0078,  0.0703,  0.0684, -0.0405, -0.0813,  0.0138,  0.0852,\n",
            "          0.0288, -0.0074, -0.0236,  0.0301, -0.0541,  0.0352, -0.0002,  0.0160,\n",
            "         -0.0299, -0.0760, -0.0889,  0.0587, -0.0556,  0.0691, -0.0850,  0.0832,\n",
            "         -0.0679, -0.0712,  0.0799,  0.0039, -0.0900, -0.0624, -0.0412,  0.0660,\n",
            "         -0.0450, -0.0455,  0.0607,  0.0295, -0.0116, -0.0378,  0.0312,  0.0224,\n",
            "         -0.0550,  0.0631, -0.0522, -0.0081, -0.0480, -0.0226,  0.0467, -0.0319,\n",
            "         -0.0525,  0.0873, -0.0904, -0.0313, -0.0019,  0.0034,  0.0192, -0.0103,\n",
            "          0.0727,  0.0422,  0.0143,  0.0632, -0.0391,  0.0306, -0.0455,  0.0084,\n",
            "          0.0833, -0.0860, -0.0204, -0.0139, -0.0438, -0.0274, -0.0807,  0.0276,\n",
            "          0.0795,  0.0491, -0.0189,  0.0612, -0.0676, -0.0442,  0.0223, -0.0186,\n",
            "          0.0180, -0.0136,  0.0450, -0.0115,  0.0168, -0.0012,  0.0272, -0.0489,\n",
            "          0.0034, -0.0380,  0.0821,  0.0091,  0.0766, -0.0057,  0.0697, -0.0847,\n",
            "          0.0146,  0.0844, -0.0722, -0.0911, -0.0654,  0.0214, -0.0134, -0.0147,\n",
            "         -0.0078, -0.0161, -0.0749,  0.0559,  0.0879, -0.0475,  0.0267, -0.0371,\n",
            "          0.0484,  0.0865, -0.0757]], requires_grad=True), Parameter containing:\n",
            "tensor([0.0032], requires_grad=True)]\n"
          ]
        }
      ],
      "source": [
        "#%%script echo skipping\n",
        "\n",
        "print(list(net.parameters()))"
      ]
    },
    {
      "cell_type": "code",
      "execution_count": 118,
      "metadata": {
        "colab": {
          "base_uri": "https://localhost:8080/"
        },
        "id": "1NZ8iVA7UZio",
        "outputId": "6341def7-b7e7-44eb-c91f-edbe1d22ca1d"
      },
      "outputs": [
        {
          "name": "stdout",
          "output_type": "stream",
          "text": [
            "[Parameter containing:\n",
            "tensor([[ 0.0738,  0.2414, -0.1703,  ...,  0.2402, -0.1743,  0.2385],\n",
            "        [-0.2128,  0.0363,  0.1756,  ...,  0.1272, -0.1406,  0.0287],\n",
            "        [-0.0234, -0.0696, -0.0674,  ...,  0.1202,  0.1208,  0.0862],\n",
            "        ...,\n",
            "        [-0.0726,  0.1377, -0.0560,  ..., -0.1889,  0.2568,  0.0568],\n",
            "        [-0.0389,  0.2154, -0.1232,  ..., -0.0022, -0.2059,  0.2627],\n",
            "        [-0.1321, -0.2538,  0.1026,  ..., -0.0364,  0.0552, -0.0762]],\n",
            "       requires_grad=True), Parameter containing:\n",
            "tensor([-6.7164e-02, -2.4017e-01, -2.3307e-01,  8.5688e-02,  1.9355e-01,\n",
            "         1.5645e-01,  2.5005e-01, -6.3379e-02, -9.1266e-03,  1.5001e-01,\n",
            "        -1.9132e-01,  1.5667e-02, -4.9181e-02,  9.2695e-02, -1.4535e-01,\n",
            "         2.1469e-01,  1.8116e-01, -7.4066e-02,  8.8678e-02,  1.0811e-01,\n",
            "        -1.0128e-01,  1.4352e-01, -1.4284e-01, -1.0463e-01, -1.9108e-02,\n",
            "         1.3190e-01,  2.5050e-01,  1.6039e-01, -1.7190e-01, -1.8972e-01,\n",
            "        -2.6232e-01, -3.5252e-02, -2.6597e-01,  7.0804e-02, -7.0483e-02,\n",
            "        -2.5479e-01, -1.4105e-01, -1.8028e-01, -2.2845e-01,  4.7005e-02,\n",
            "         1.2659e-01, -9.5340e-02, -6.2825e-02, -2.4838e-01, -9.4000e-02,\n",
            "        -2.1168e-01,  6.9227e-02, -1.9068e-01, -6.9859e-02, -7.8727e-02,\n",
            "        -6.2075e-02,  2.1166e-01,  1.7879e-02, -2.6521e-02,  2.5422e-02,\n",
            "        -2.2859e-02, -1.1841e-01, -1.1637e-02, -3.9229e-02, -1.6859e-01,\n",
            "        -1.3642e-02, -2.5609e-01, -1.4942e-01,  3.4907e-02,  1.5707e-01,\n",
            "        -2.3504e-01,  1.9294e-01, -3.7398e-02, -8.2026e-02,  1.4443e-01,\n",
            "        -8.6312e-02, -3.7015e-02, -1.6947e-01, -1.1787e-01,  1.1855e-01,\n",
            "        -1.3370e-01,  1.8575e-01, -7.3874e-02,  5.1435e-02,  1.2503e-02,\n",
            "        -1.7904e-01, -4.4257e-02, -3.2944e-03,  2.1256e-01, -9.8669e-02,\n",
            "         1.7973e-01,  1.8645e-02, -2.2566e-01,  1.8522e-02,  2.4403e-01,\n",
            "        -6.5627e-02, -1.6250e-02, -9.4921e-02,  1.9324e-02,  4.1376e-02,\n",
            "        -6.4070e-02,  2.3696e-01, -2.6102e-01, -2.3687e-01,  2.4185e-01,\n",
            "        -2.5835e-01,  4.9087e-02, -1.7545e-01,  4.1541e-02,  3.2759e-02,\n",
            "        -1.8097e-01, -1.5249e-01, -1.0206e-01, -1.1062e-01, -1.7482e-01,\n",
            "        -1.0102e-01, -1.7433e-01, -1.4115e-01,  1.6674e-01, -2.7021e-02,\n",
            "         2.2846e-02, -2.8983e-02,  1.3426e-01,  1.6725e-01,  1.5149e-01,\n",
            "        -1.6354e-02,  1.6719e-01, -1.1310e-01, -5.4615e-02, -1.2062e-01,\n",
            "         3.9274e-02,  4.0121e-02,  1.5906e-01,  1.6939e-01,  5.6023e-02,\n",
            "        -8.7608e-02,  1.7009e-01, -2.1556e-02, -1.7530e-01, -1.5804e-01,\n",
            "         1.1512e-01,  1.2893e-01,  1.8511e-01,  1.2514e-01,  4.6159e-02,\n",
            "        -8.3850e-02,  2.4381e-01, -2.4449e-02,  2.3959e-01,  1.1993e-01,\n",
            "         5.5213e-02, -2.3306e-01,  8.7876e-02,  2.3364e-01, -7.9167e-02,\n",
            "        -2.2377e-01, -9.7145e-02, -2.3766e-01,  1.7466e-01, -1.8976e-01,\n",
            "        -8.3010e-02,  6.8315e-02, -7.6243e-02,  1.8039e-01,  1.4767e-01,\n",
            "         1.8023e-01, -1.4209e-01, -2.1479e-01,  1.7721e-01, -1.3151e-01,\n",
            "        -2.4702e-01,  4.2855e-02,  8.3869e-03,  2.4407e-02, -7.6526e-02,\n",
            "        -2.0146e-01,  1.1219e-01, -3.4778e-02, -1.1093e-01, -1.9978e-01,\n",
            "         1.5633e-01, -9.1808e-02, -1.8235e-01,  1.6976e-01, -1.0306e-01,\n",
            "        -2.0097e-01, -9.5396e-02,  2.5268e-01,  3.6729e-02,  1.5920e-01,\n",
            "        -2.4912e-01, -1.5879e-01,  2.0281e-01,  5.5018e-02, -1.7345e-01,\n",
            "        -5.8940e-04,  2.0360e-01, -9.7534e-02, -2.1379e-01,  1.4269e-01,\n",
            "        -1.6348e-01,  8.3787e-02,  1.8369e-01, -2.1559e-01,  4.1671e-02,\n",
            "        -2.2225e-01,  9.1065e-02, -1.5204e-01,  2.0343e-01,  2.5806e-01,\n",
            "         7.3076e-02,  1.9280e-01, -1.2590e-01, -2.5203e-01,  7.1020e-02,\n",
            "        -5.1847e-03,  9.3220e-02, -1.9665e-01, -1.1051e-01,  3.6186e-02,\n",
            "         5.0966e-02, -6.1745e-03,  1.7988e-01, -2.1031e-01,  7.9214e-02,\n",
            "         1.5735e-01, -1.4456e-01,  7.4057e-02,  8.5071e-03, -3.2106e-02,\n",
            "         2.1524e-01, -1.7163e-01, -2.4177e-01, -2.7637e-02, -1.1941e-01,\n",
            "         1.6697e-01, -1.4339e-01,  2.4274e-03,  5.5594e-02, -8.1904e-02,\n",
            "         3.1857e-02, -2.3775e-03, -6.5284e-02, -6.8043e-02,  2.0947e-01,\n",
            "        -1.9544e-01,  1.2060e-01,  2.3880e-01, -7.7242e-02,  2.8998e-02,\n",
            "        -3.6316e-02,  1.5336e-01,  1.9084e-01,  2.5470e-01, -2.4231e-01,\n",
            "        -2.2815e-01, -2.3587e-02, -1.6928e-01, -2.2751e-01, -1.5152e-01,\n",
            "         1.2396e-01,  1.9919e-01,  1.2984e-01,  2.6763e-01, -2.2731e-01,\n",
            "         2.3141e-01,  6.6482e-02, -1.0272e-03,  2.0670e-01, -1.2818e-01,\n",
            "        -1.6728e-01,  2.0755e-01, -1.9066e-01,  1.9539e-01, -2.5795e-01,\n",
            "         2.0324e-01,  4.1425e-03,  1.2810e-01,  1.3129e-01, -1.4479e-01,\n",
            "        -2.4865e-01, -6.8855e-02,  3.8055e-02, -1.2085e-01, -3.1895e-02,\n",
            "        -1.2977e-01,  2.0658e-01, -2.5815e-01,  8.6105e-03, -9.4340e-02,\n",
            "        -1.1804e-02,  1.0166e-01,  2.0192e-01,  1.5703e-01,  9.3855e-02,\n",
            "        -1.2738e-01, -6.7602e-03,  1.3177e-01, -1.1760e-02, -3.6383e-02,\n",
            "         4.7047e-02, -2.4801e-01,  3.1864e-02, -8.8163e-02, -1.7617e-01,\n",
            "        -1.1392e-01, -2.3904e-01,  4.9729e-02, -1.6542e-01,  1.1199e-01,\n",
            "         6.4573e-02, -7.9194e-03,  6.3504e-02,  2.4560e-01,  2.0871e-01,\n",
            "         1.7595e-01, -1.4209e-01,  7.8535e-02, -1.7807e-01,  1.4041e-01,\n",
            "        -3.2197e-02, -2.5525e-01, -2.3181e-01, -4.7437e-02,  1.9883e-01,\n",
            "        -1.1930e-01, -2.1986e-01,  1.8386e-01,  1.3034e-01,  1.4437e-02,\n",
            "         8.1359e-02, -2.0224e-01,  1.7143e-01,  1.3510e-01, -9.8439e-02,\n",
            "        -2.6306e-01, -1.2007e-01, -9.4747e-02, -3.9467e-02, -2.1491e-01,\n",
            "         2.4235e-02,  6.9119e-02,  4.5453e-02, -1.5854e-01,  1.0499e-01,\n",
            "         2.0061e-02,  2.2581e-01,  1.2520e-01, -1.7190e-01, -8.4293e-02,\n",
            "         1.8044e-01,  9.2103e-02,  2.2761e-01, -1.1637e-01,  1.5921e-01,\n",
            "         8.6731e-02, -9.3437e-02,  4.8666e-02,  1.8826e-01, -1.9892e-01,\n",
            "        -4.9753e-02, -3.0723e-02,  1.7247e-02,  3.4324e-02,  3.8574e-03,\n",
            "         2.5285e-01,  1.6340e-02,  2.4709e-02,  1.7144e-01,  9.1283e-02,\n",
            "         2.4668e-01, -1.9058e-01, -1.4516e-02,  1.6806e-01,  1.3432e-01,\n",
            "        -2.6613e-01,  3.8671e-02,  1.0463e-01,  8.9291e-02, -6.8605e-02,\n",
            "         6.5986e-03,  1.2284e-01, -2.3942e-01,  1.4821e-01, -2.0340e-01,\n",
            "        -1.4293e-01,  1.1214e-02, -1.8329e-02, -2.2041e-01,  1.0750e-01,\n",
            "         4.2915e-02, -2.0521e-01,  1.7648e-01, -1.6992e-01,  2.3573e-01,\n",
            "        -1.9519e-01, -2.0995e-02,  2.4601e-01, -1.4879e-01,  7.3480e-02,\n",
            "         2.9841e-04, -4.1057e-03, -2.3392e-01, -7.1871e-02,  2.5781e-01,\n",
            "         2.1765e-01, -9.5219e-04, -2.2315e-01,  2.1060e-02, -7.1671e-02,\n",
            "        -1.2641e-01, -1.8139e-01, -2.0910e-01,  1.9919e-01,  2.2980e-01,\n",
            "        -1.4027e-01, -1.4636e-01, -1.3389e-01, -7.7220e-02, -2.3434e-01,\n",
            "         3.9265e-02,  2.3406e-01,  1.7417e-01, -2.7214e-02, -1.4930e-01,\n",
            "        -9.8467e-03, -9.9812e-02,  1.2711e-01,  1.0015e-01, -2.0547e-02,\n",
            "         2.4946e-01, -2.0351e-01, -2.0985e-02, -1.9278e-01,  4.4121e-03,\n",
            "         2.4433e-02,  8.9254e-02, -1.2252e-01,  2.3966e-01,  1.1383e-01,\n",
            "         1.6050e-01, -3.7961e-02, -1.0440e-01,  1.8942e-01,  2.3793e-02,\n",
            "        -1.9809e-01, -2.1366e-01, -1.8314e-01,  6.4082e-02,  2.0992e-01,\n",
            "        -1.1812e-01, -2.1920e-01, -3.6456e-02,  2.3833e-01,  1.1318e-01,\n",
            "         7.3241e-02,  1.8792e-01, -2.6583e-01, -1.4127e-01, -3.8141e-02,\n",
            "         1.7094e-01, -2.2446e-01, -4.5348e-03, -2.6592e-01,  1.5987e-01,\n",
            "        -6.6640e-02, -9.1340e-02, -1.2521e-01,  1.1589e-01, -6.2680e-02,\n",
            "        -2.1869e-01,  3.4879e-02, -4.3981e-03,  1.2610e-01, -5.6041e-02,\n",
            "         3.7451e-02, -6.4166e-03,  1.6632e-01,  6.8918e-03, -5.4196e-02,\n",
            "         3.7989e-02, -8.8338e-02, -2.6020e-01,  1.5981e-01, -9.2498e-02,\n",
            "        -1.3935e-01,  9.2593e-02,  6.2634e-02,  1.5827e-01,  1.7414e-01,\n",
            "         2.3552e-01, -1.2698e-01, -3.2237e-02,  1.2308e-01,  2.6615e-01,\n",
            "        -4.3500e-02,  2.0807e-01, -7.0721e-02, -1.0343e-01, -6.9918e-02,\n",
            "        -2.4472e-01, -4.2909e-02, -2.5489e-01,  1.5406e-01, -8.7809e-02,\n",
            "         4.1396e-02,  2.8064e-02,  1.9301e-02,  1.5140e-01, -2.0004e-01,\n",
            "        -1.0081e-01,  2.0760e-01,  1.2075e-01,  1.6695e-01, -1.0909e-02,\n",
            "         1.6603e-01,  1.4437e-01,  9.6849e-02,  1.1935e-01, -1.5552e-01,\n",
            "         3.9196e-02,  1.3866e-01, -6.5172e-05, -3.3967e-02,  8.1555e-02,\n",
            "        -1.7180e-01, -2.4651e-01, -4.7458e-02, -2.1701e-01,  1.4305e-01,\n",
            "         1.0412e-01,  4.0392e-02, -2.6292e-01, -3.5709e-02, -6.5917e-02,\n",
            "        -9.5914e-02,  8.9896e-02, -1.5293e-01, -1.9351e-01,  1.8777e-01,\n",
            "        -1.0903e-01,  1.7376e-01,  1.0785e-01,  1.7369e-02,  8.0882e-02,\n",
            "         1.7973e-01,  2.2094e-01,  9.2196e-02, -7.9143e-02, -2.6320e-01,\n",
            "         2.1985e-01,  2.4162e-01,  8.8951e-02, -3.8539e-02, -3.7052e-02,\n",
            "        -2.0986e-01, -1.3848e-01,  1.6790e-01, -2.0514e-01,  1.1280e-01],\n",
            "       requires_grad=True), Parameter containing:\n",
            "tensor([[ 0.0317,  0.0146,  0.0098,  ...,  0.0168,  0.0285, -0.0387],\n",
            "        [-0.0070, -0.0021,  0.0188,  ...,  0.0192, -0.0048,  0.0415],\n",
            "        [ 0.0397,  0.0170, -0.0418,  ..., -0.0363, -0.0021,  0.0189],\n",
            "        ...,\n",
            "        [ 0.0226,  0.0234,  0.0135,  ...,  0.0138, -0.0356,  0.0026],\n",
            "        [ 0.0317, -0.0005,  0.0106,  ...,  0.0306, -0.0374, -0.0374],\n",
            "        [-0.0263,  0.0349, -0.0403,  ..., -0.0087,  0.0295, -0.0143]],\n",
            "       requires_grad=True), Parameter containing:\n",
            "tensor([-3.0313e-02, -3.6580e-02,  1.5827e-02, -9.1958e-03, -1.9852e-02,\n",
            "         2.6131e-02,  6.5992e-03, -3.8266e-03,  8.1022e-03,  3.7214e-02,\n",
            "         2.4515e-03,  3.4252e-02, -8.9454e-03, -1.3629e-02,  1.6562e-02,\n",
            "        -2.7976e-02, -1.7557e-02,  9.2760e-03,  2.8885e-02, -3.3751e-03,\n",
            "         1.5028e-02,  2.0800e-02, -3.1976e-02,  8.5845e-03, -1.8836e-02,\n",
            "         3.5935e-02, -3.7060e-02, -2.1576e-02, -3.5354e-02,  7.4319e-03,\n",
            "         3.8360e-02, -1.0182e-02,  2.8988e-02,  3.8233e-02, -2.6955e-02,\n",
            "        -2.4273e-02, -2.8885e-02, -2.4730e-02,  1.5307e-02, -8.3195e-03,\n",
            "        -2.7655e-02,  3.0266e-02, -2.0657e-02,  9.2770e-04, -2.9413e-03,\n",
            "        -4.3049e-02,  1.3593e-02, -4.1834e-02, -6.0234e-03,  3.7793e-02,\n",
            "         2.5003e-02, -8.8895e-03, -8.5347e-03, -2.0530e-04,  5.8609e-04,\n",
            "         1.9679e-02,  2.2121e-02, -7.8719e-03, -1.3102e-02,  2.8214e-02,\n",
            "        -4.0792e-02, -4.3117e-02,  1.9303e-02, -2.8818e-02,  1.1479e-02,\n",
            "        -1.5344e-02, -3.4487e-03,  3.7837e-02,  3.1878e-02, -2.8770e-02,\n",
            "         3.3489e-02,  1.6927e-02, -1.3858e-02,  1.9332e-02, -1.1886e-02,\n",
            "         3.1597e-02, -1.2110e-02,  1.3882e-02, -2.3167e-02, -1.7486e-02,\n",
            "        -2.1701e-02,  3.4268e-02,  8.0911e-03,  2.0390e-02, -2.0953e-02,\n",
            "         1.4900e-03, -2.4582e-02,  2.0500e-02,  3.2339e-02, -2.3421e-02,\n",
            "         1.0806e-02,  1.0056e-02, -3.4985e-02,  1.5293e-02,  3.8083e-02,\n",
            "         3.2661e-03,  1.3232e-02,  2.2663e-02,  1.7484e-02,  4.6080e-03,\n",
            "         3.1581e-02, -9.2252e-03,  3.2692e-03, -3.0938e-02,  2.6702e-02,\n",
            "        -6.4992e-03, -6.9547e-03,  4.4688e-02,  3.7739e-02, -1.5360e-02,\n",
            "        -3.3697e-02, -3.2657e-02, -3.7756e-02,  1.3797e-02, -4.0342e-02,\n",
            "        -7.5209e-03, -4.1731e-02,  2.1971e-02,  3.6151e-02,  2.5972e-02,\n",
            "        -3.1603e-02,  2.9165e-02, -1.5083e-02,  1.8848e-02, -3.4274e-02,\n",
            "        -3.1594e-02,  1.1945e-02,  1.0551e-02, -3.2669e-02, -4.1119e-02,\n",
            "        -3.8841e-02, -3.3439e-02,  3.5726e-02,  3.7552e-02,  1.4457e-02,\n",
            "         3.3973e-04, -3.1028e-02, -6.4608e-03,  3.6702e-02,  4.0257e-02,\n",
            "         5.9968e-03,  4.0168e-02, -3.3430e-02, -1.8338e-03, -3.1277e-02,\n",
            "        -3.0283e-02, -6.2793e-05, -1.4739e-02, -8.5247e-03, -4.2028e-02,\n",
            "         2.6984e-02, -3.6274e-02, -3.4080e-02, -1.0001e-02,  2.7941e-02,\n",
            "        -1.8167e-02,  8.9024e-04,  3.7148e-02, -8.6840e-03, -1.2020e-02,\n",
            "         1.2175e-02,  4.3111e-02, -4.1979e-02, -2.8063e-02, -1.7783e-02,\n",
            "         3.2531e-03,  4.0709e-03, -7.8527e-03,  1.7985e-02,  7.5887e-03,\n",
            "         3.5357e-02,  4.1612e-02, -2.0440e-02,  6.5061e-03, -4.6598e-03,\n",
            "         2.3435e-02,  4.1872e-04,  3.6065e-02, -6.7089e-04, -1.7366e-02,\n",
            "         1.4211e-02,  2.7422e-02,  3.8053e-02,  4.3351e-02, -4.2199e-02,\n",
            "        -2.7856e-02,  2.9981e-02,  1.9716e-02,  9.0006e-03,  2.1087e-02,\n",
            "         3.1813e-02,  3.9536e-02,  1.3810e-02,  3.3184e-02,  3.9239e-02,\n",
            "        -3.2060e-02,  5.0203e-03, -3.0760e-02,  1.0586e-02,  2.9626e-02,\n",
            "        -1.6878e-02, -1.2786e-02, -7.7792e-03,  9.6046e-03, -1.6243e-03,\n",
            "         5.4529e-03,  2.2533e-02, -3.4173e-02, -3.8458e-02, -2.8138e-02,\n",
            "         2.0364e-02, -4.0272e-02,  3.0097e-02, -1.5705e-02,  9.4501e-04,\n",
            "        -9.1059e-03,  3.8042e-02, -3.0715e-02, -2.3334e-02, -2.6964e-02,\n",
            "         4.2946e-02, -3.7050e-02, -2.8744e-02, -1.9851e-02,  3.8793e-02,\n",
            "         4.1686e-02, -2.1801e-02, -3.3614e-02,  3.8598e-02,  2.3918e-02,\n",
            "        -1.4174e-02,  3.5941e-02, -3.0778e-02,  1.4115e-03, -1.0021e-02,\n",
            "         3.5686e-02, -6.8511e-03, -1.0069e-03,  1.6255e-03,  1.3433e-02,\n",
            "         1.6215e-02,  3.6760e-02, -3.8399e-02, -1.1733e-02, -3.7878e-02,\n",
            "        -2.4980e-03, -8.5051e-03, -3.8558e-02, -1.2337e-02, -3.2490e-02,\n",
            "         1.3575e-02,  2.2493e-02, -2.8367e-02, -1.9758e-02, -1.5010e-02,\n",
            "         3.5727e-02,  3.8877e-02, -1.0086e-02, -4.2197e-03, -1.2346e-02,\n",
            "         3.0882e-02,  3.6444e-02, -3.1627e-02,  2.9222e-02, -3.6608e-03,\n",
            "        -2.5029e-02, -1.1753e-02,  2.2868e-02,  2.0872e-02, -1.1652e-02,\n",
            "        -2.4634e-02,  9.3467e-03,  2.4094e-02,  8.3178e-03,  8.0231e-03,\n",
            "        -1.5070e-02,  1.9660e-02, -7.0669e-04,  2.6611e-03, -3.1760e-02,\n",
            "        -4.2097e-02, -1.2259e-02,  3.3784e-02, -3.4225e-02, -1.6412e-02,\n",
            "        -4.9548e-03,  1.3686e-02, -1.0555e-02, -1.4790e-02,  3.5106e-02,\n",
            "        -5.5053e-04,  2.1080e-02,  2.5111e-02,  1.1738e-02,  2.4333e-02,\n",
            "        -1.5388e-02,  3.3518e-02, -2.1189e-02, -9.7408e-03, -3.1884e-02,\n",
            "        -6.8894e-03,  1.8921e-02, -4.1115e-02, -3.3000e-02, -6.1630e-03,\n",
            "         4.1455e-02,  3.0689e-02,  1.2025e-02, -4.0709e-03, -9.6006e-03,\n",
            "         2.8604e-02, -3.9495e-02,  1.9694e-02, -2.9443e-02,  9.2211e-03,\n",
            "         2.8830e-03, -1.0158e-02,  3.1876e-02,  1.9876e-03, -8.2388e-03,\n",
            "         1.5162e-02,  2.5248e-02, -3.7965e-02,  1.1417e-02, -1.7890e-02,\n",
            "         2.3580e-02,  2.8890e-02,  2.1737e-02, -2.5521e-02,  1.6637e-02,\n",
            "        -1.8049e-02,  7.6288e-03,  7.0021e-04, -2.4259e-02, -1.7059e-02,\n",
            "         3.7817e-02,  3.1140e-02, -2.2095e-02,  1.7134e-02, -2.7973e-02,\n",
            "         1.0772e-02,  5.3870e-03, -3.2454e-02, -2.9616e-02,  2.7958e-03,\n",
            "        -3.0469e-02, -1.3178e-02, -4.1275e-02,  3.2816e-02, -2.3799e-02,\n",
            "        -3.2765e-02, -1.3279e-02,  3.7107e-02, -1.1710e-02, -7.7167e-03,\n",
            "         3.4505e-02,  3.1629e-02,  2.5610e-02,  3.9428e-02,  3.3911e-02,\n",
            "         1.6045e-02, -5.6242e-04, -1.4444e-02, -4.1187e-02, -3.8471e-02,\n",
            "         1.4290e-02, -1.9368e-02,  1.1751e-02,  7.8605e-03,  1.6728e-02,\n",
            "         3.9867e-02, -1.3544e-02,  4.0346e-02, -1.4602e-02,  1.7190e-02,\n",
            "        -2.2103e-02, -3.1822e-02, -6.6024e-03, -3.3028e-02,  2.7251e-02,\n",
            "        -1.0239e-02,  4.2140e-02,  1.7701e-02, -4.2161e-02, -2.6595e-03,\n",
            "        -2.6168e-02, -9.0887e-03,  2.3674e-02, -7.7835e-03,  2.4030e-04,\n",
            "        -2.8472e-02, -8.5198e-03, -1.8837e-02, -2.1696e-02, -5.7680e-03,\n",
            "         2.2150e-02, -1.9939e-02,  3.0343e-02,  8.2148e-03,  1.5166e-02,\n",
            "         3.4961e-03,  3.1066e-02, -2.9512e-02, -1.2564e-03, -6.1165e-03,\n",
            "        -4.0353e-02, -1.1168e-02, -2.5335e-02, -3.3675e-02, -2.6562e-02,\n",
            "        -2.0295e-02,  3.6203e-02, -4.2556e-02, -8.0726e-03,  1.1769e-02,\n",
            "         6.5557e-03, -3.9047e-02,  1.8416e-02,  2.0264e-03,  2.3437e-02,\n",
            "         1.7911e-02, -1.4303e-02, -2.8390e-02, -3.7893e-02, -1.5689e-03,\n",
            "        -2.1196e-02, -3.2438e-03,  2.7248e-02, -3.4478e-02, -8.8004e-03,\n",
            "         1.2946e-02, -5.7995e-04,  5.1785e-03, -2.5650e-03,  3.7487e-02,\n",
            "         3.4454e-02,  1.0898e-02,  2.3739e-02, -1.2974e-02, -1.9220e-02,\n",
            "         3.2546e-02, -2.3751e-02,  3.6582e-02,  1.5402e-02,  3.2114e-02,\n",
            "        -3.4778e-02,  2.4070e-02, -3.0706e-03,  3.6077e-02, -7.8766e-03,\n",
            "        -1.0778e-02,  1.0224e-02, -3.7196e-02, -3.7923e-02,  2.9847e-02,\n",
            "         3.4432e-02, -4.1650e-02,  2.9424e-02], requires_grad=True), Parameter containing:\n",
            "tensor([[ 0.0008,  0.0246, -0.0332,  ...,  0.0084, -0.0277,  0.0053],\n",
            "        [-0.0374,  0.0051,  0.0252,  ..., -0.0134,  0.0366, -0.0060],\n",
            "        [ 0.0160,  0.0041, -0.0161,  ..., -0.0194,  0.0356,  0.0093],\n",
            "        ...,\n",
            "        [ 0.0025,  0.0104,  0.0355,  ..., -0.0188, -0.0388, -0.0303],\n",
            "        [-0.0386,  0.0001,  0.0429,  ...,  0.0131,  0.0059, -0.0326],\n",
            "        [-0.0314, -0.0298,  0.0202,  ..., -0.0337,  0.0060,  0.0240]],\n",
            "       requires_grad=True), Parameter containing:\n",
            "tensor([ 0.0430, -0.0060, -0.0049, -0.0184, -0.0321,  0.0112,  0.0286,  0.0400,\n",
            "        -0.0428,  0.0029, -0.0041, -0.0186, -0.0385,  0.0441,  0.0052, -0.0050,\n",
            "        -0.0343, -0.0311, -0.0293, -0.0476,  0.0180, -0.0221,  0.0375, -0.0037,\n",
            "        -0.0449,  0.0442,  0.0088,  0.0243,  0.0310,  0.0062, -0.0093, -0.0021,\n",
            "         0.0137, -0.0069,  0.0069, -0.0461, -0.0070,  0.0296,  0.0212, -0.0061,\n",
            "        -0.0025, -0.0327,  0.0194,  0.0394, -0.0396, -0.0239,  0.0046, -0.0170,\n",
            "         0.0204,  0.0140, -0.0435,  0.0182, -0.0214,  0.0262,  0.0303,  0.0463,\n",
            "        -0.0044,  0.0306, -0.0050,  0.0296,  0.0203, -0.0470, -0.0299, -0.0437,\n",
            "         0.0019,  0.0422, -0.0443,  0.0319,  0.0290,  0.0384,  0.0034, -0.0200,\n",
            "        -0.0077, -0.0381, -0.0318,  0.0182, -0.0280, -0.0039, -0.0224, -0.0472,\n",
            "        -0.0203,  0.0356, -0.0285, -0.0445,  0.0074, -0.0349,  0.0102,  0.0314,\n",
            "         0.0102,  0.0013, -0.0061,  0.0168,  0.0183,  0.0431,  0.0246, -0.0097,\n",
            "         0.0213, -0.0286, -0.0398, -0.0461, -0.0323, -0.0285,  0.0098,  0.0201,\n",
            "         0.0294,  0.0433,  0.0340,  0.0401, -0.0150, -0.0257,  0.0164, -0.0076,\n",
            "        -0.0408,  0.0223,  0.0322], requires_grad=True), Parameter containing:\n",
            "tensor([[ 0.0144, -0.0078,  0.0703,  0.0684, -0.0405, -0.0813,  0.0138,  0.0852,\n",
            "          0.0288, -0.0074, -0.0236,  0.0301, -0.0541,  0.0352, -0.0002,  0.0160,\n",
            "         -0.0299, -0.0760, -0.0889,  0.0587, -0.0556,  0.0691, -0.0850,  0.0832,\n",
            "         -0.0679, -0.0712,  0.0799,  0.0039, -0.0900, -0.0624, -0.0412,  0.0660,\n",
            "         -0.0450, -0.0455,  0.0607,  0.0295, -0.0116, -0.0378,  0.0312,  0.0224,\n",
            "         -0.0550,  0.0631, -0.0522, -0.0081, -0.0480, -0.0226,  0.0467, -0.0319,\n",
            "         -0.0525,  0.0873, -0.0904, -0.0313, -0.0019,  0.0034,  0.0192, -0.0103,\n",
            "          0.0727,  0.0422,  0.0143,  0.0632, -0.0391,  0.0306, -0.0455,  0.0084,\n",
            "          0.0833, -0.0860, -0.0204, -0.0139, -0.0438, -0.0274, -0.0807,  0.0276,\n",
            "          0.0795,  0.0491, -0.0189,  0.0612, -0.0676, -0.0442,  0.0223, -0.0186,\n",
            "          0.0180, -0.0136,  0.0450, -0.0115,  0.0168, -0.0012,  0.0272, -0.0489,\n",
            "          0.0034, -0.0380,  0.0821,  0.0091,  0.0766, -0.0057,  0.0697, -0.0847,\n",
            "          0.0146,  0.0844, -0.0722, -0.0911, -0.0654,  0.0214, -0.0134, -0.0147,\n",
            "         -0.0078, -0.0161, -0.0749,  0.0559,  0.0879, -0.0475,  0.0267, -0.0371,\n",
            "          0.0484,  0.0865, -0.0757]], requires_grad=True), Parameter containing:\n",
            "tensor([0.0032], requires_grad=True)]\n"
          ]
        }
      ],
      "source": [
        "print(list(net_loaded.parameters()))"
      ]
    },
    {
      "cell_type": "code",
      "execution_count": 119,
      "metadata": {
        "colab": {
          "base_uri": "https://localhost:8080/"
        },
        "id": "InGW0Xq6UZip",
        "outputId": "6c4a0e2c-b485-4362-b99d-7364dcf9443a"
      },
      "outputs": [
        {
          "name": "stdout",
          "output_type": "stream",
          "text": [
            "rho.shape:  torch.Size([20])\n",
            "epsilon.shape:  torch.Size([20])\n"
          ]
        },
        {
          "data": {
            "text/plain": [
              "tensor([[ 7.4035e-01,  3.1574e+00,  6.1217e+01, -5.6873e+00,  7.9000e+01,\n",
              "         -5.9241e+00, -8.4543e-01, -8.5468e+00,  1.0784e+00,  2.5352e-02,\n",
              "          6.9825e-02,  9.2846e-01,  8.9788e-02,  9.5285e-01],\n",
              "        [ 7.4687e-01, -4.9957e+01, -8.0119e+00,  1.0734e+02,  1.4786e+02,\n",
              "          1.0156e+01,  8.4713e+00,  5.5122e+00,  1.0691e+00,  7.9791e-02,\n",
              "          8.8124e-02,  9.4167e-01,  2.8466e-02,  1.0403e+00],\n",
              "        [ 9.2193e-01,  1.7424e+01,  1.4638e+01,  9.0270e+00,  2.8146e+01,\n",
              "         -3.1217e+00,  5.0964e+00, -1.8110e+00,  9.2340e-01,  3.5602e-02,\n",
              "          7.7491e-02,  1.0742e+00,  8.4571e-02,  9.3820e-01],\n",
              "        [ 1.2811e+01,  5.3631e+01,  8.8065e+01,  6.4174e+01,  1.2969e+02,\n",
              "         -6.1220e+00,  5.7302e-01, -6.4330e+00,  9.1284e-01,  9.2413e-02,\n",
              "          8.2309e-02,  1.0013e+00,  4.3797e-02,  9.9395e-01],\n",
              "        [ 2.7069e+00,  1.8019e+00,  6.2629e+01,  1.4726e+02,  1.5634e+02,\n",
              "          9.9121e+00,  7.9828e+00, -3.2601e+00,  1.0685e+00,  9.4226e-02,\n",
              "          5.1930e-02,  9.1269e-01,  5.7182e-02,  1.0603e+00],\n",
              "        [ 1.1694e+00,  3.0399e+01,  2.2138e+01,  2.9036e+00,  3.8070e+01,\n",
              "         -3.8799e+00,  5.6055e+00, -2.3557e+00,  9.6969e-01,  3.0166e-02,\n",
              "          1.9578e-03,  9.1362e-01,  5.4570e-02,  1.0185e+00],\n",
              "        [ 5.5662e-01,  5.9366e+01, -1.2492e-01,  3.4381e+01,  7.0680e+01,\n",
              "         -3.7940e+00, -5.6136e+00,  6.5202e+00,  9.5660e-01,  6.4375e-02,\n",
              "          4.4420e-02,  9.6805e-01,  4.4032e-02,  9.4297e-01],\n",
              "        [ 3.4202e+00,  1.0245e+02,  5.2232e+01,  6.4226e+01,  1.2938e+02,\n",
              "          2.4619e+00, -8.9830e+00,  2.2464e+00,  9.4048e-01,  4.6529e-03,\n",
              "          2.3267e-02,  1.0627e+00,  9.3241e-02,  9.2687e-01],\n",
              "        [ 1.8141e+00, -2.6843e+00,  2.2361e+01,  4.2451e+01,  1.0235e+02,\n",
              "          9.1167e+00,  8.7897e+00, -1.9329e+00,  9.3988e-01,  9.3702e-02,\n",
              "          7.8332e-02,  1.0272e+00,  9.4227e-04,  1.0048e+00],\n",
              "        [ 1.0473e+00,  1.0393e+02,  9.1253e+01,  1.1699e+01,  1.5289e+02,\n",
              "         -8.4524e+00,  1.0111e+01, -7.1229e+00,  1.0167e+00,  2.9782e-02,\n",
              "          7.4964e-02,  1.0422e+00,  4.4905e-02,  1.0809e+00],\n",
              "        [ 3.1183e+00,  5.0135e+00,  3.5116e+01,  1.8178e+01,  2.8049e+01,\n",
              "          7.0565e+00, -4.9618e+00,  2.1130e-01,  9.7532e-01,  1.4059e-02,\n",
              "          1.2721e-02,  1.0518e+00,  6.2015e-02,  1.0358e+00],\n",
              "        [ 5.7713e+00,  2.3488e+01,  2.6219e+01,  5.8374e+01,  1.0163e+02,\n",
              "         -4.8087e+00, -5.2687e+00, -5.4097e+00,  9.9355e-01,  3.4617e-03,\n",
              "          4.8910e-02,  9.0504e-01,  5.8103e-02,  1.0516e+00],\n",
              "        [ 9.1907e-01,  2.9772e+01,  4.9685e+01,  1.1993e+01,  6.7575e+01,\n",
              "         -4.8008e+00,  1.3814e+00,  8.3967e+00,  1.0268e+00,  9.2654e-03,\n",
              "          4.2143e-02,  9.7992e-01,  8.9375e-02,  9.8342e-01],\n",
              "        [ 3.0285e+00,  5.0233e+01,  2.6950e+01,  3.4195e+01,  6.5186e+01,\n",
              "         -3.4241e+00,  5.4239e+00, -1.8781e+00,  1.0227e+00,  2.2589e-02,\n",
              "          9.2954e-02,  9.2359e-01,  2.8410e-02,  9.9855e-01],\n",
              "        [ 3.8821e+00,  1.5037e+01,  5.1748e+00, -3.7955e+01,  4.8520e+01,\n",
              "          7.4790e+00,  2.7592e+00,  6.0588e+00,  9.0957e-01,  5.9645e-02,\n",
              "          5.4037e-02,  1.0946e+00,  9.3552e-03,  9.1812e-01],\n",
              "        [ 1.8850e+00,  8.1425e+00,  6.3889e+00,  2.0554e+01,  5.3330e+01,\n",
              "         -7.8605e+00, -4.6961e+00,  3.5524e+00,  9.1263e-01,  8.4657e-03,\n",
              "          7.8394e-02,  9.8073e-01,  8.3284e-02,  9.8417e-01],\n",
              "        [ 2.8673e+00,  2.0203e+01,  8.3093e+00,  4.6161e+01,  5.1580e+01,\n",
              "          2.9333e+00,  4.6124e+00, -1.9121e+00,  9.9369e-01,  4.9557e-02,\n",
              "          3.3993e-02,  9.3578e-01,  4.3339e-02,  9.2348e-01],\n",
              "        [ 4.2598e+00, -4.7106e+00, -1.3208e+01, -1.7901e+01, -8.0069e+00,\n",
              "         -1.6327e+00, -3.3299e+00, -4.0580e+00,  9.2761e-01,  7.5516e-02,\n",
              "          7.0557e-02,  9.6611e-01,  6.7519e-02,  1.0635e+00],\n",
              "        [ 6.2428e-01,  4.8095e+01,  2.4250e+01,  2.7398e+01,  6.9034e+01,\n",
              "          3.2414e-01,  7.6716e+00, -7.1966e+00,  1.0049e+00,  3.4460e-02,\n",
              "          7.9663e-02,  1.0639e+00,  5.9131e-02,  9.2232e-01],\n",
              "        [ 5.4211e-01,  4.0164e+01,  7.5438e+00,  2.5247e+01,  5.0251e+01,\n",
              "         -3.2510e+00,  7.3160e+00,  3.0085e+00,  1.0049e+00,  9.9322e-02,\n",
              "          1.9299e-02,  1.0920e+00,  2.4885e-02,  1.0551e+00]])"
            ]
          },
          "execution_count": 119,
          "metadata": {},
          "output_type": "execute_result"
        }
      ],
      "source": [
        "rho_example, epsilon_example, vx_example, vy_example, vz_example, Bx_example, By_example, Bz_example, gxx_example, gxy_example, gxz_example, gyy_example, gyz_example, gzz_example = generate_samples(20)\n",
        "\n",
        "inputs =  generate_input_data(rho_example, epsilon_example, vx_example, vy_example, vz_example, Bx_example, By_example, Bz_example, gxx_example, gxy_example, gxz_example, gyy_example, gyz_example, gzz_example)\n",
        "inputs\n"
      ]
    },
    {
      "cell_type": "code",
      "execution_count": 120,
      "metadata": {
        "colab": {
          "base_uri": "https://localhost:8080/"
        },
        "id": "QVa1upmFUZip",
        "outputId": "95a297df-88d8-4614-ffd7-ecc0cda58cf9"
      },
      "outputs": [
        {
          "data": {
            "text/plain": [
              "[tensor([[1.2179]], grad_fn=<AddmmBackward0>),\n",
              " tensor([[0.7595]], grad_fn=<AddmmBackward0>),\n",
              " tensor([[0.5195]], grad_fn=<AddmmBackward0>),\n",
              " tensor([[2.7596]], grad_fn=<AddmmBackward0>),\n",
              " tensor([[3.2753]], grad_fn=<AddmmBackward0>),\n",
              " tensor([[0.6957]], grad_fn=<AddmmBackward0>),\n",
              " tensor([[1.5225]], grad_fn=<AddmmBackward0>),\n",
              " tensor([[3.3448]], grad_fn=<AddmmBackward0>),\n",
              " tensor([[1.2933]], grad_fn=<AddmmBackward0>),\n",
              " tensor([[2.7918]], grad_fn=<AddmmBackward0>),\n",
              " tensor([[0.7717]], grad_fn=<AddmmBackward0>),\n",
              " tensor([[1.8192]], grad_fn=<AddmmBackward0>),\n",
              " tensor([[1.1683]], grad_fn=<AddmmBackward0>),\n",
              " tensor([[1.6094]], grad_fn=<AddmmBackward0>),\n",
              " tensor([[-0.4542]], grad_fn=<AddmmBackward0>),\n",
              " tensor([[0.5930]], grad_fn=<AddmmBackward0>),\n",
              " tensor([[1.2131]], grad_fn=<AddmmBackward0>),\n",
              " tensor([[-0.5504]], grad_fn=<AddmmBackward0>),\n",
              " tensor([[1.5562]], grad_fn=<AddmmBackward0>),\n",
              " tensor([[1.0816]], grad_fn=<AddmmBackward0>)]"
            ]
          },
          "execution_count": 120,
          "metadata": {},
          "output_type": "execute_result"
        }
      ],
      "source": [
        "#%%script echo skipping\n",
        "\n",
        "# Pass the inputs to the network and get the outputs\n",
        "outputs = [net(input.unsqueeze(0)) for input in inputs]\n",
        "# Print the outputs\n",
        "outputs"
      ]
    },
    {
      "cell_type": "code",
      "execution_count": 121,
      "metadata": {
        "colab": {
          "base_uri": "https://localhost:8080/"
        },
        "id": "E-Xjfo7VUZir",
        "outputId": "fb0478cb-bee3-429f-fdec-d99f11baf40f"
      },
      "outputs": [
        {
          "data": {
            "text/plain": [
              "[tensor([[1.2179]], grad_fn=<AddmmBackward0>),\n",
              " tensor([[0.7595]], grad_fn=<AddmmBackward0>),\n",
              " tensor([[0.5195]], grad_fn=<AddmmBackward0>),\n",
              " tensor([[2.7596]], grad_fn=<AddmmBackward0>),\n",
              " tensor([[3.2753]], grad_fn=<AddmmBackward0>),\n",
              " tensor([[0.6957]], grad_fn=<AddmmBackward0>),\n",
              " tensor([[1.5225]], grad_fn=<AddmmBackward0>),\n",
              " tensor([[3.3448]], grad_fn=<AddmmBackward0>),\n",
              " tensor([[1.2933]], grad_fn=<AddmmBackward0>),\n",
              " tensor([[2.7918]], grad_fn=<AddmmBackward0>),\n",
              " tensor([[0.7717]], grad_fn=<AddmmBackward0>),\n",
              " tensor([[1.8192]], grad_fn=<AddmmBackward0>),\n",
              " tensor([[1.1683]], grad_fn=<AddmmBackward0>),\n",
              " tensor([[1.6094]], grad_fn=<AddmmBackward0>),\n",
              " tensor([[-0.4542]], grad_fn=<AddmmBackward0>),\n",
              " tensor([[0.5930]], grad_fn=<AddmmBackward0>),\n",
              " tensor([[1.2131]], grad_fn=<AddmmBackward0>),\n",
              " tensor([[-0.5504]], grad_fn=<AddmmBackward0>),\n",
              " tensor([[1.5562]], grad_fn=<AddmmBackward0>),\n",
              " tensor([[1.0816]], grad_fn=<AddmmBackward0>)]"
            ]
          },
          "execution_count": 121,
          "metadata": {},
          "output_type": "execute_result"
        }
      ],
      "source": [
        "\n",
        "# Pass the inputs to the network and get the outputs\n",
        "outputs = [net_loaded(input.unsqueeze(0)) for input in inputs]\n",
        "# Print the outputs\n",
        "outputs"
      ]
    },
    {
      "attachments": {},
      "cell_type": "markdown",
      "metadata": {
        "id": "xjpIvdybUZis"
      },
      "source": [
        "## Porting the model to C++"
      ]
    },
    {
      "cell_type": "code",
      "execution_count": 122,
      "metadata": {
        "colab": {
          "base_uri": "https://localhost:8080/"
        },
        "id": "VMlEd4RoUZis",
        "outputId": "d5bfc697-8c96-47bb-a08c-6fb26f463797"
      },
      "outputs": [
        {
          "data": {
            "text/plain": [
              "Net(\n",
              "  (hidden_activation): LeakyReLU(negative_slope=0.01)\n",
              "  (output_activation): Identity()\n",
              "  (layers): ModuleList(\n",
              "    (0): Linear(in_features=14, out_features=555, bias=True)\n",
              "    (1): Linear(in_features=555, out_features=458, bias=True)\n",
              "    (2): Linear(in_features=458, out_features=115, bias=True)\n",
              "    (3): Linear(in_features=115, out_features=1, bias=True)\n",
              "  )\n",
              "  (dropouts): ModuleList(\n",
              "    (0-2): 3 x Dropout(p=0.2, inplace=False)\n",
              "  )\n",
              ")"
            ]
          },
          "execution_count": 122,
          "metadata": {},
          "output_type": "execute_result"
        },
        {
          "name": "stdout",
          "output_type": "stream",
          "text": [
            "rho.shape:  torch.Size([1])\n",
            "epsilon.shape:  torch.Size([1])\n",
            "input shape:  torch.Size([1, 14])\n",
            "input:  tensor([[ 6.4786e-01,  1.4826e+01, -9.5928e+00,  2.8957e+01,  5.0596e+01,\n",
            "          8.3069e+00,  2.3298e+00, -2.8667e+00,  1.0306e+00,  9.6053e-02,\n",
            "          5.2963e-02,  9.1006e-01,  2.2119e-02,  1.0918e+00]])\n",
            "Output: tensor([[0.6690]], grad_fn=<AddmmBackward0>)\n"
          ]
        },
        {
          "name": "stderr",
          "output_type": "stream",
          "text": [
            "/tmp/ipykernel_1547447/755242825.py:62: TracerWarning: Converting a tensor to a Python boolean might cause the trace to be incorrect. We can't record the data flow of Python values, so this value will be treated as a constant in the future. This means that the trace might not generalize to other inputs!\n",
            "  assert x.shape[1] == N_INPUTS, f\"x must have shape (batch_size, {N_INPUTS})\"\n"
          ]
        }
      ],
      "source": [
        "import torch.jit\n",
        "\n",
        "# Creating a dummy input tensor of shape (1, 5) to trace the model\n",
        "dummy_input = torch.randn(1, N_INPUTS).to(device)\n",
        "\n",
        "# Ensure that net_loaded is in evaluation mode.\n",
        "net_loaded.eval()\n",
        "\n",
        "# Tracing the model using the torch.jit.trace function\n",
        "traced_model = torch.jit.trace(net_loaded, dummy_input)\n",
        "\n",
        "# Saving the traced model to a file named \"net.pt\"\n",
        "traced_model.save(\"net.pt\")\n",
        "save_file(\"net.pt\")\n",
        "\n",
        "example_input_to_validate_correct_export_and_import = generate_input_data(*generate_samples(1))\n",
        "print(\"input shape: \", example_input_to_validate_correct_export_and_import.shape)\n",
        "print(\"input: \", example_input_to_validate_correct_export_and_import)\n",
        "print(\"Output:\", net_loaded(example_input_to_validate_correct_export_and_import))"
      ]
    }
  ],
  "metadata": {
    "accelerator": "GPU",
    "colab": {
      "gpuType": "T4",
      "provenance": [],
      "toc_visible": true
    },
    "gpuClass": "standard",
    "kernelspec": {
      "display_name": "bsc",
      "language": "python",
      "name": "python3"
    },
    "language_info": {
      "codemirror_mode": {
        "name": "ipython",
        "version": 3
      },
      "file_extension": ".py",
      "mimetype": "text/x-python",
      "name": "python",
      "nbconvert_exporter": "python",
      "pygments_lexer": "ipython3",
      "version": "3.11.3"
    },
    "orig_nbformat": 4
  },
  "nbformat": 4,
  "nbformat_minor": 0
}
