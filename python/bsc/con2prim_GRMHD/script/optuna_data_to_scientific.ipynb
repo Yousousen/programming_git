{
 "cells": [
  {
   "cell_type": "code",
   "execution_count": 7,
   "metadata": {},
   "outputs": [],
   "source": [
    "import re\n",
    "\n",
    "def convert_to_scientific(input_file_path, output_file_path):\n",
    "    with open(input_file_path, 'r') as file:\n",
    "        content = file.read()\n",
    "\n",
    "    # Regular expression to find floating point numbers\n",
    "    float_regex = r'[+-]?(\\d+(\\.\\d*)?|\\.\\d+)([eE][+-]?\\d+)?'\n",
    "\n",
    "    def replace_with_sci(match):\n",
    "        float_num = float(match.group())\n",
    "        if float_num.is_integer():\n",
    "            # If it's an integer, return it as it is\n",
    "            return \"{:.0f}\".format(float_num)\n",
    "        else:\n",
    "            # If it's a non-integer, return it in scientific notation\n",
    "            return \"{:.3e}\".format(float_num)\n",
    "\n",
    "    # Replace all floating point numbers with their scientific notation\n",
    "    new_content = re.sub(float_regex, replace_with_sci, content)\n",
    "\n",
    "    with open(output_file_path, 'w') as file:\n",
    "        file.write(new_content)\n",
    "\n",
    "# Call the function with the path to your input and output files\n",
    "#'C:/Users/bvptr/temp/c.md'\n",
    "convert_to_scientific('1e5_run1_optuna_data.txt', 'converted_1e5_run1_optuna_data.md')\n"
   ]
  }
 ],
 "metadata": {
  "kernelspec": {
   "display_name": "Python 3",
   "language": "python",
   "name": "python3"
  },
  "language_info": {
   "codemirror_mode": {
    "name": "ipython",
    "version": 3
   },
   "file_extension": ".py",
   "mimetype": "text/x-python",
   "name": "python",
   "nbconvert_exporter": "python",
   "pygments_lexer": "ipython3",
   "version": "3.11.3"
  },
  "orig_nbformat": 4
 },
 "nbformat": 4,
 "nbformat_minor": 2
}
