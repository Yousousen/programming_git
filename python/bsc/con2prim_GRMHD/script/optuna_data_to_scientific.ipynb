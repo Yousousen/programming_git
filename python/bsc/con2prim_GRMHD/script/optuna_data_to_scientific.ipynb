{
 "cells": [
  {
   "cell_type": "code",
   "execution_count": null,
   "metadata": {},
   "outputs": [],
   "source": [
    "# Throws RAM full.\n",
    "\n",
    "import re\n",
    "\n",
    "def convert_to_scientific(file_name):\n",
    "    with open(file_name, 'r') as file:\n",
    "        content = file.read()\n",
    "\n",
    "    # Find all real numbers in the text\n",
    "    numbers = re.findall(r\"[-+]?\\d*\\.\\d+|\\d+\", content)\n",
    "\n",
    "    # Replace each number with its scientific notation\n",
    "    for number in numbers:\n",
    "        scientific_notation = \"{:.2e}\".format(float(number))\n",
    "        content = content.replace(number, scientific_notation)\n",
    "\n",
    "    # Write the new content to a new file\n",
    "    new_file_name = \"converted_\" + file_name\n",
    "    with open(new_file_name, 'w') as file:\n",
    "        file.write(content)\n",
    "\n",
    "    print(f\"Converted file written to {new_file_name}\")\n",
    "\n",
    "\n",
    "# Test the function\n",
    "convert_to_scientific(\"1e5_run1_optuna_data.txt\")\n"
   ]
  },
  {
   "cell_type": "code",
   "execution_count": 1,
   "metadata": {},
   "outputs": [
    {
     "name": "stdout",
     "output_type": "stream",
     "text": [
      "Converted file written to converted_1e5_run1_optuna_data.txt\n"
     ]
    }
   ],
   "source": [
    "# Currently broken\n",
    "\n",
    "import re\n",
    "\n",
    "def convert_to_scientific(file_name):\n",
    "    # Compile the regular expression\n",
    "    number_regex = re.compile(r\"[-+]?\\d*\\.\\d+|\\d+\")\n",
    "\n",
    "    new_file_name = \"converted_\" + file_name\n",
    "\n",
    "    with open(file_name, 'r') as in_file, open(new_file_name, 'w') as out_file:\n",
    "        for line in in_file:\n",
    "            numbers = number_regex.findall(line)\n",
    "            for number in numbers:\n",
    "                scientific_notation = \"{:.2e}\".format(float(number))\n",
    "                line = line.replace(number, scientific_notation)\n",
    "            out_file.write(line)\n",
    "\n",
    "    print(f\"Converted file written to {new_file_name}\")\n",
    "\n",
    "\n",
    "# Test the function\n",
    "convert_to_scientific(\"1e5_run1_optuna_data.txt\")"
   ]
  }
 ],
 "metadata": {
  "kernelspec": {
   "display_name": "Python 3",
   "language": "python",
   "name": "python3"
  },
  "language_info": {
   "codemirror_mode": {
    "name": "ipython",
    "version": 3
   },
   "file_extension": ".py",
   "mimetype": "text/x-python",
   "name": "python",
   "nbconvert_exporter": "python",
   "pygments_lexer": "ipython3",
   "version": "3.11.3"
  },
  "orig_nbformat": 4
 },
 "nbformat": 4,
 "nbformat_minor": 2
}
