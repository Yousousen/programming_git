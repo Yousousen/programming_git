{
 "cells": [
  {
   "cell_type": "markdown",
   "metadata": {},
   "source": [
    "Here I convert a custom file format created for plotting the optimization histories in Tikz pfgplots to a csv file.\n",
    "Actually I realize the file format is just `json`."
   ]
  },
  {
   "cell_type": "code",
   "execution_count": 1,
   "metadata": {},
   "outputs": [],
   "source": [
    "import json\n",
    "import csv\n",
    "import pandas as pd\n",
    "import os\n",
    "\n",
    "def convert_to_csv(input_file_path):\n",
    "    # Prepare output file path\n",
    "    filename_without_extension = os.path.splitext(input_file_path)[0]\n",
    "    output_file_path = f\"{filename_without_extension}.csv\"\n",
    "\n",
    "    # The JSON objects are one per line, so we'll read lines instead of the whole file\n",
    "    with open(input_file_path, 'r') as infile:\n",
    "        lines = infile.readlines()\n",
    "\n",
    "    # Prepare data for CSV\n",
    "    data_for_csv = []\n",
    "    for line in lines:\n",
    "        json_obj = json.loads(line)\n",
    "        data_for_csv.append(json_obj)\n",
    "\n",
    "    # Define the CSV columns\n",
    "    fieldnames = [\"number\", \"value\", \"best value\"]\n",
    "\n",
    "    # Write the data to CSV\n",
    "    with open(output_file_path, 'w', newline='') as outfile:\n",
    "        writer = csv.DictWriter(outfile, fieldnames=fieldnames)\n",
    "        writer.writeheader()\n",
    "        for row in data_for_csv:\n",
    "            writer.writerow(row)\n",
    "\n",
    "    # Now, we'll read and validate the CSV\n",
    "    df = pd.read_csv(output_file_path)\n",
    "\n",
    "    # Check if all the required columns exist\n",
    "    assert set(fieldnames).issubset(df.columns), \"Some columns are missing in the CSV\"\n",
    "\n",
    "    # Check if there are any NaN values in \"number\" and \"value\" columns\n",
    "    assert df['number'].isnull().sum() == 0, \"There are null values in the 'number' column\"\n",
    "    assert df['value'].isnull().sum() == 0, \"There are null values in the 'value' column\"\n",
    "\n",
    "    print(f\"The CSV file '{output_file_path}' has been created and validated successfully.\")"
   ]
  },
  {
   "cell_type": "code",
   "execution_count": 2,
   "metadata": {},
   "outputs": [
    {
     "name": "stdout",
     "output_type": "stream",
     "text": [
      "The CSV file 'NNGR1_optimization_history.csv' has been created and validated successfully.\n",
      "The CSV file 'NNGR2_optimization_history.csv' has been created and validated successfully.\n"
     ]
    }
   ],
   "source": [
    "convert_to_csv(\"NNGR1_optimization_history.json\")\n",
    "convert_to_csv(\"NNGR2_optimization_history.json\")"
   ]
  }
 ],
 "metadata": {
  "kernelspec": {
   "display_name": "bsc_physics",
   "language": "python",
   "name": "python3"
  },
  "language_info": {
   "codemirror_mode": {
    "name": "ipython",
    "version": 3
   },
   "file_extension": ".py",
   "mimetype": "text/x-python",
   "name": "python",
   "nbconvert_exporter": "python",
   "pygments_lexer": "ipython3",
   "version": "3.11.3"
  },
  "orig_nbformat": 4
 },
 "nbformat": 4,
 "nbformat_minor": 2
}
