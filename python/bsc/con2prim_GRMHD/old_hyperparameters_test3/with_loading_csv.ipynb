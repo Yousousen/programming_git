{
  "cells": [
    {
      "cell_type": "markdown",
      "metadata": {
        "id": "TPvB1xoSUZhR"
      },
      "source": [
        "# Neural network to learn conservative-to-primitive conversion in relativistic hydrodynamics"
      ]
    },
    {
      "cell_type": "markdown",
      "metadata": {
        "id": "VBnRXy9Azims"
      },
      "source": [
        "## How to use this notebook\n",
        "\n",
        "### Local installation\n",
        "\n",
        "1. Install required packages with `pip install -r requirements.txt` to your desired environment.\n",
        "2. If a script version of this notebook is desired, comment (not uncomment) the first line of `nbconvert` cell.\n",
        "\n",
        "### Colab installation\n",
        "\n",
        "1.  Comment (not uncomment) the first line of the drive mounting cell.\n",
        "2.  Comment (not uncomment) the first line of the `pip install` cell.\n",
        "\n",
        "<!-- - For colab we also want to set the runtime to GPU by clicking _Change runtime_ in the _Runtime_ menu, and -->\n",
        "<!-- - We want to wait for the google drive connection popup to appear and follow the instructions. -->\n",
        "\n",
        "### Loading / Generating data\n",
        "3. Set `LOAD_DATA_FROM_CSV` to `True` / `False` to load data from csv files / generate data in this notebook.\n",
        "\n",
        "### Training without optimization\n",
        "\n",
        "4. Set `OPTIMIZE = False` in section _Constants and flags to set_.\n",
        "5. Run the entire notebook.\n",
        "\n",
        "### Training with optimization\n",
        "\n",
        "4. Set `OPTIMIZE = True` in section _Constants and flags to set_.\n",
        "5. Run the entire notebook.\n",
        "\n",
        "### Loading an already trained model\n",
        "\n",
        "4. Run cells in section _Initialization_.\n",
        "5. Run cells with definitions in section _Input data and labels_.\n",
        "6. Run cell with the definition of _Net_ in section _Defining the neural network_.\n",
        "7. Make sure the `net.pth`, `optimizer.pth`, `scheduler.pth`, `var_dict.json` and `train_output.csv` files are in the directory containing this notebook.\n",
        "8. Run the cells in section _Loading_ and continue from there.\n",
        "\n",
        "### Generating the C++ model\n",
        "\n",
        "9. Run section _Porting the model to C++_, this requires a model to be loaded.\n",
        "10. Set the path to the `net.pt` file in the C++ source file.\n",
        "11. `mkdir build && cd build`,\n",
        "12. Configure a `CMakeLists.txt` file as is done [here](https://pytorch.org/cppdocs/installing.html).\n",
        "13. `cmake -DCMAKE_PREFIX_PATH=/path/to/libtorch/ ..`,\n",
        "14. Compile and run, e.g. `cmake --build . --config release && ./<executable name>`"
      ]
    },
    {
      "cell_type": "markdown",
      "metadata": {
        "id": "xYjeAmxXzimt"
      },
      "source": [
        "## Initialization"
      ]
    },
    {
      "cell_type": "markdown",
      "metadata": {
        "id": "7-OybnC-zimu"
      },
      "source": [
        "\n",
        "Use this first cell to **convert this notebook** to a python script."
      ]
    },
    {
      "cell_type": "code",
      "execution_count": 91,
      "metadata": {
        "colab": {
          "base_uri": "https://localhost:8080/"
        },
        "id": "eqdgdNLHUZhV",
        "outputId": "99f65f55-1cfb-4c43-e6e8-a3fe1ae65204",
        "tags": [
          "remove_cell"
        ]
      },
      "outputs": [
        {
          "output_type": "stream",
          "name": "stdout",
          "text": [
            "skipping\n"
          ]
        }
      ],
      "source": [
        "%%script echo skipping\n",
        "\n",
        "!jupyter nbconvert pt1_before_restructuring.ipynb --TagRemovePreprocessor.enabled=True --TagRemovePreprocessor.remove_cell_tags='{\"remove_cell\"}' --to script"
      ]
    },
    {
      "cell_type": "markdown",
      "metadata": {
        "id": "nzcUr0LnUZhw"
      },
      "source": [
        "Next some cells for working on **google colab**,"
      ]
    },
    {
      "cell_type": "code",
      "execution_count": 92,
      "metadata": {
        "id": "HcDuOm_nzimy"
      },
      "outputs": [],
      "source": [
        "import os\n",
        "import shutil\n",
        "\n",
        "# check if the drive is mounted\n",
        "drive_mounted = os.path.exists(\"/content/drive\")\n",
        "# change this to your desired folder\n",
        "drive_folder = \"/content/drive/My Drive/bsc/con2prim_GRMHD/old_hyperparameters_test3\"\n",
        "\n",
        "# define a function to save a file to the drive or the current directory\n",
        "def save_file(file_name):\n",
        "  if drive_mounted:\n",
        "    # save the file to the drive folder\n",
        "    file_path = os.path.join(drive_folder, file_name)\n",
        "    # copy the file from the current directory to the drive folder\n",
        "    shutil.copyfile(file_name, file_path)\n",
        "  else:\n",
        "    # do nothing as the file is already in the current directory\n",
        "    pass\n"
      ]
    },
    {
      "cell_type": "code",
      "execution_count": 93,
      "metadata": {
        "colab": {
          "base_uri": "https://localhost:8080/"
        },
        "id": "ecHw2_xlUZhx",
        "outputId": "f6a4bed8-78bf-4a5b-907d-7f81ce3d6cf9"
      },
      "outputs": [
        {
          "output_type": "stream",
          "name": "stdout",
          "text": [
            "Drive already mounted at /content/drive; to attempt to forcibly remount, call drive.mount(\"/content/drive\", force_remount=True).\n"
          ]
        }
      ],
      "source": [
        "#%%script echo skipping\n",
        "\n",
        "from google.colab import drive\n",
        "drive.mount('/content/drive')"
      ]
    },
    {
      "cell_type": "code",
      "execution_count": 94,
      "metadata": {
        "colab": {
          "base_uri": "https://localhost:8080/"
        },
        "id": "T1rcStMLUZhy",
        "outputId": "08bfaa8a-75c9-4b43-ef01-31113ab75956"
      },
      "outputs": [
        {
          "output_type": "stream",
          "name": "stdout",
          "text": [
            "Looking in indexes: https://pypi.org/simple, https://us-python.pkg.dev/colab-wheels/public/simple/\n",
            "Requirement already satisfied: optuna in /usr/local/lib/python3.10/dist-packages (3.1.1)\n",
            "Requirement already satisfied: tensorboard in /usr/local/lib/python3.10/dist-packages (2.12.2)\n",
            "Requirement already satisfied: tensorboardX in /usr/local/lib/python3.10/dist-packages (2.6)\n",
            "Requirement already satisfied: alembic>=1.5.0 in /usr/local/lib/python3.10/dist-packages (from optuna) (1.11.1)\n",
            "Requirement already satisfied: cmaes>=0.9.1 in /usr/local/lib/python3.10/dist-packages (from optuna) (0.9.1)\n",
            "Requirement already satisfied: colorlog in /usr/local/lib/python3.10/dist-packages (from optuna) (6.7.0)\n",
            "Requirement already satisfied: numpy in /usr/local/lib/python3.10/dist-packages (from optuna) (1.22.4)\n",
            "Requirement already satisfied: packaging>=20.0 in /usr/local/lib/python3.10/dist-packages (from optuna) (23.1)\n",
            "Requirement already satisfied: sqlalchemy>=1.3.0 in /usr/local/lib/python3.10/dist-packages (from optuna) (2.0.10)\n",
            "Requirement already satisfied: tqdm in /usr/local/lib/python3.10/dist-packages (from optuna) (4.65.0)\n",
            "Requirement already satisfied: PyYAML in /usr/local/lib/python3.10/dist-packages (from optuna) (6.0)\n",
            "Requirement already satisfied: absl-py>=0.4 in /usr/local/lib/python3.10/dist-packages (from tensorboard) (1.4.0)\n",
            "Requirement already satisfied: grpcio>=1.48.2 in /usr/local/lib/python3.10/dist-packages (from tensorboard) (1.54.0)\n",
            "Requirement already satisfied: google-auth<3,>=1.6.3 in /usr/local/lib/python3.10/dist-packages (from tensorboard) (2.17.3)\n",
            "Requirement already satisfied: google-auth-oauthlib<1.1,>=0.5 in /usr/local/lib/python3.10/dist-packages (from tensorboard) (1.0.0)\n",
            "Requirement already satisfied: markdown>=2.6.8 in /usr/local/lib/python3.10/dist-packages (from tensorboard) (3.4.3)\n",
            "Requirement already satisfied: protobuf>=3.19.6 in /usr/local/lib/python3.10/dist-packages (from tensorboard) (3.20.3)\n",
            "Requirement already satisfied: requests<3,>=2.21.0 in /usr/local/lib/python3.10/dist-packages (from tensorboard) (2.27.1)\n",
            "Requirement already satisfied: setuptools>=41.0.0 in /usr/local/lib/python3.10/dist-packages (from tensorboard) (67.7.2)\n",
            "Requirement already satisfied: tensorboard-data-server<0.8.0,>=0.7.0 in /usr/local/lib/python3.10/dist-packages (from tensorboard) (0.7.0)\n",
            "Requirement already satisfied: tensorboard-plugin-wit>=1.6.0 in /usr/local/lib/python3.10/dist-packages (from tensorboard) (1.8.1)\n",
            "Requirement already satisfied: werkzeug>=1.0.1 in /usr/local/lib/python3.10/dist-packages (from tensorboard) (2.3.0)\n",
            "Requirement already satisfied: wheel>=0.26 in /usr/local/lib/python3.10/dist-packages (from tensorboard) (0.40.0)\n",
            "Requirement already satisfied: Mako in /usr/local/lib/python3.10/dist-packages (from alembic>=1.5.0->optuna) (1.2.4)\n",
            "Requirement already satisfied: typing-extensions>=4 in /usr/local/lib/python3.10/dist-packages (from alembic>=1.5.0->optuna) (4.5.0)\n",
            "Requirement already satisfied: cachetools<6.0,>=2.0.0 in /usr/local/lib/python3.10/dist-packages (from google-auth<3,>=1.6.3->tensorboard) (5.3.0)\n",
            "Requirement already satisfied: pyasn1-modules>=0.2.1 in /usr/local/lib/python3.10/dist-packages (from google-auth<3,>=1.6.3->tensorboard) (0.3.0)\n",
            "Requirement already satisfied: six>=1.9.0 in /usr/local/lib/python3.10/dist-packages (from google-auth<3,>=1.6.3->tensorboard) (1.16.0)\n",
            "Requirement already satisfied: rsa<5,>=3.1.4 in /usr/local/lib/python3.10/dist-packages (from google-auth<3,>=1.6.3->tensorboard) (4.9)\n",
            "Requirement already satisfied: requests-oauthlib>=0.7.0 in /usr/local/lib/python3.10/dist-packages (from google-auth-oauthlib<1.1,>=0.5->tensorboard) (1.3.1)\n",
            "Requirement already satisfied: urllib3<1.27,>=1.21.1 in /usr/local/lib/python3.10/dist-packages (from requests<3,>=2.21.0->tensorboard) (1.26.15)\n",
            "Requirement already satisfied: certifi>=2017.4.17 in /usr/local/lib/python3.10/dist-packages (from requests<3,>=2.21.0->tensorboard) (2022.12.7)\n",
            "Requirement already satisfied: charset-normalizer~=2.0.0 in /usr/local/lib/python3.10/dist-packages (from requests<3,>=2.21.0->tensorboard) (2.0.12)\n",
            "Requirement already satisfied: idna<4,>=2.5 in /usr/local/lib/python3.10/dist-packages (from requests<3,>=2.21.0->tensorboard) (3.4)\n",
            "Requirement already satisfied: greenlet!=0.4.17 in /usr/local/lib/python3.10/dist-packages (from sqlalchemy>=1.3.0->optuna) (2.0.2)\n",
            "Requirement already satisfied: MarkupSafe>=2.1.1 in /usr/local/lib/python3.10/dist-packages (from werkzeug>=1.0.1->tensorboard) (2.1.2)\n",
            "Requirement already satisfied: pyasn1<0.6.0,>=0.4.6 in /usr/local/lib/python3.10/dist-packages (from pyasn1-modules>=0.2.1->google-auth<3,>=1.6.3->tensorboard) (0.5.0)\n",
            "Requirement already satisfied: oauthlib>=3.0.0 in /usr/local/lib/python3.10/dist-packages (from requests-oauthlib>=0.7.0->google-auth-oauthlib<1.1,>=0.5->tensorboard) (3.2.2)\n"
          ]
        }
      ],
      "source": [
        "#%%script echo skipping\n",
        "\n",
        "!pip install optuna tensorboard tensorboardX"
      ]
    },
    {
      "cell_type": "markdown",
      "metadata": {
        "id": "RRc4YIjGzimz"
      },
      "source": [
        "Importing the **libraries**,"
      ]
    },
    {
      "cell_type": "code",
      "execution_count": 95,
      "metadata": {
        "id": "tREdWQUVUZhz"
      },
      "outputs": [],
      "source": [
        "import numpy as np\n",
        "import matplotlib.pyplot as plt\n",
        "import torch\n",
        "import torch.nn as nn\n",
        "import torch.optim as optim\n",
        "import torch.nn.functional as F\n",
        "import optuna\n",
        "import tensorboardX as tbx\n",
        "import pandas as pd"
      ]
    },
    {
      "cell_type": "markdown",
      "metadata": {
        "id": "38GvmerjUZhz"
      },
      "source": [
        "### Constants and flags to set\n",
        "Defining some constants and parameters for convenience.\n",
        "\n",
        "**NOTE**: Some **subparameters** still need to be adjusted in the `create_model` function itself as of (Tue May 16 07:42:45 AM CEST 2023) in the case the model is being trained without optimization."
      ]
    },
    {
      "cell_type": "code",
      "execution_count": 96,
      "metadata": {
        "id": "ei6VZDYKUZh0"
      },
      "outputs": [],
      "source": [
        "\n",
        "# Checking if GPU is available and setting the device accordingly\n",
        "device = torch.device(\"cuda\" if torch.cuda.is_available() else \"cpu\")\n",
        "\n",
        "N_TRIALS = 250 # Number of trials for hyperparameter optimization\n",
        "OPTIMIZE = False # Whether to optimize the hyperparameters or to use predetermined values from Dieseldorst et al..\n",
        "ZSCORE_NORMALIZATION = False # Whether to z-score normalize the input data.\n",
        "LOAD_DATA_FROM_CSV = True  # If not true we generate the data in this file and save to {x_train,y_train,x_test,y_test}.csv, otherwise we load the data from files of the same name.\n",
        "\n",
        "csv_filenames = { # File names to load input data and labels from if LOAD_DATA_FROM_CSV is True.\n",
        "    \"x_train\": \"x_train.csv\",\n",
        "    \"y_train\": \"y_train.csv\",\n",
        "    \"x_test\": \"x_test.csv\",\n",
        "    \"y_test\": \"y_test.csv\",\n",
        "}\n",
        "\n",
        "# Values to use for hyperparameters if OPTIMIZE is False.\n",
        "N_LAYERS_NO_OPT = 3\n",
        "N_UNITS_NO_OPT = [555, 458, 115]\n",
        "HIDDEN_ACTIVATION_NAME_NO_OPT = \"ReLU\"\n",
        "OUTPUT_ACTIVATION_NAME_NO_OPT = \"ReLU\"\n",
        "LOSS_NAME_NO_OPT = \"Huber\"\n",
        "OPTIMIZER_NAME_NO_OPT = \"RMSprop\"\n",
        "LR_NO_OPT = 0.000122770896701404\n",
        "BATCH_SIZE_NO_OPT = 49\n",
        "N_EPOCHS_NO_OPT = 100\n",
        "SCHEDULER_NAME_NO_OPT = \"ReduceLROnPlateau\"\n",
        "\n",
        "Gamma = 5 / 3  # Adiabatic index\n",
        "n_train_samples = 80000 # Number of training samples\n",
        "n_test_samples = 20000 # Number of test samples\n",
        "rho_interval = (0, 2) # sample in linear space\n",
        "epsilon_interval = (1e-2, 2000)  # Will be sampled in log space\n",
        "vx_interval = (0, 0.999)  # sample in linear space\n",
        "vy_interval = (0, 0.999)  # sample in linear space\n",
        "vz_interval = (0, 0.999)  # sample in linear space\n",
        "Bx_interval = (-10, 10)  # sample in linear space\n",
        "By_interval = (-10, 10)  # sample in linear space\n",
        "Bz_interval = (-10, 10)  # sample in linear space\n",
        "gxx_interval = (0.9, 1.1)\n",
        "gxy_interval = (0, 0.1)\n",
        "gxz_interval = (0, 0.1)\n",
        "gyy_interval = (0.9, 1.1)\n",
        "gyz_interval = (0, 0.1)\n",
        "gzz_interval = (0.9, 1.1)\n",
        "\n",
        "\n",
        "N_INPUTS = 14  # Number of input features.\n",
        "\n",
        "np.random.seed(49) # Comment for true random data.\n"
      ]
    },
    {
      "cell_type": "markdown",
      "metadata": {
        "id": "dlaP5UL2UZh1"
      },
      "source": [
        "## Input data and labels\n",
        "\n",
        "We either generate the data or load the data. First the definitions for generating the data come below."
      ]
    },
    {
      "cell_type": "code",
      "execution_count": 97,
      "metadata": {
        "id": "s_EvGFZcUZh1"
      },
      "outputs": [],
      "source": [
        "# Defining an analytic equation of state (EOS) for an ideal gas\n",
        "def eos_analytic(rho, epsilon):\n",
        "    # Adding some assertions to check that the input tensors are valid and have \n",
        "    # the expected shape and type \n",
        "    assert isinstance(rho, torch.Tensor), \"rho must be a torch.Tensor\"\n",
        "    assert isinstance(epsilon, torch.Tensor), \"epsilon must be a torch.Tensor\"\n",
        "    print('rho.shape: ', rho.shape)\n",
        "    print('epsilon.shape: ', epsilon.shape)\n",
        "    assert rho.shape == epsilon.shape, \"rho and epsilon must have the same shape\"\n",
        "    assert rho.ndim == 1, \"rho and epsilon must be one-dimensional tensors\"\n",
        "    assert rho.dtype == torch.float32, \"rho and epsilon must have dtype torch.float32\"\n",
        "\n",
        "    return (Gamma - 1) * rho * epsilon\n",
        "\n",
        "\n",
        "\n",
        "def sample_primitive_variables():\n",
        "    rho = np.random.uniform(*rho_interval)  \n",
        "    epsilon = 10 ** np.random.uniform(*np.log10(epsilon_interval))\n",
        "    vx = np.random.uniform(*vx_interval)  \n",
        "    vy = np.random.uniform(*vy_interval)  \n",
        "    vz = np.random.uniform(*vz_interval)  \n",
        "    Bx = np.random.uniform(*Bx_interval)  \n",
        "    By = np.random.uniform(*By_interval)  \n",
        "    Bz = np.random.uniform(*Bz_interval)  \n",
        "    gxx = np.random.uniform(*gxx_interval)\n",
        "    gxy = np.random.uniform(*gxy_interval)\n",
        "    gxz = np.random.uniform(*gxz_interval)\n",
        "    gyy = np.random.uniform(*gyy_interval)\n",
        "    gyz = np.random.uniform(*gyz_interval)\n",
        "    gzz = np.random.uniform(*gzz_interval)\n",
        "\n",
        "    return rho, epsilon, vx, vy, vz, Bx, By, Bz, gxx, gxy, gxz, gyy, gyz, gzz\n",
        "\n",
        "def check_sample(rho, epsilon, vx, vy, vz, Bx, By, Bz, gxx, gxy, gxz, gyy, gyz, gzz):\n",
        "    wtemp_expr = 1 - (gxx * vx**2 + gyy * vy**2 + gzz * vz**2 + 2 * gxy * vx * vy + 2 * gxz * vx * vz + 2 * gyz * vy * vz)\n",
        "    sdet_expr = gxx * gyy * gzz + 2 * gxy * gxz * gyz - gxx * gyz ** 2 - gyy * gxz ** 2 - gzz * gxy ** 2\n",
        "    if vx**2 + vy**2 + vz**2 >= 1 or wtemp_expr < 0 or sdet_expr < 0:\n",
        "        print(f\"Sample failed checks. vx^2+vy^2+vz^2: {vx**2 + vy**2 + vz**2}, wtemp_expr: {wtemp_expr}, sdet_expr: {sdet_expr}\")\n",
        "        return False\n",
        "    else:\n",
        "        print(f\"Sample passed checks. vx^2+vy^2+vz^2: {vx**2 + vy**2 + vz**2}, wtemp_expr: {wtemp_expr}, sdet_expr: {sdet_expr}\")\n",
        "        return True\n",
        "\n",
        "def generate_samples(n_samples):\n",
        "    samples = []\n",
        "    while len(samples) < n_samples:\n",
        "        sample = sample_primitive_variables()\n",
        "        if check_sample(*sample):\n",
        "            samples.append(sample)\n",
        "        print(f\"Number of valid samples: {len(samples)}\")\n",
        "    return zip(*samples)\n",
        "\n",
        "\n",
        "def sdet(gxx, gxy, gxz, gyy, gyz, gzz):\n",
        "    # Determinant of the three metric.\n",
        "    return (gxx * gyy * gzz + 2 * gxy * gxz * gyz - gxx * gyz ** 2 - gyy * gxz ** 2 - gzz * gxy ** 2) ** 0.5\n",
        "\n",
        "# Defining a function that computes conserved variables from primitive variables\n",
        "# We follow the source code of GRaM-X: A new GPU-accelerated dynamical spacetime GRMHD code for Exascale\n",
        "# computing with the Einstein Toolkit of Shankar et al.\n",
        "def compute_conserved_variables(rho, epsilon, vx, vy, vz, Bx, By, Bz, gxx, gxy, gxz, gyy, gyz, gzz):\n",
        "    pres = eos_analytic(rho, epsilon)\n",
        "    wtemp = 1 / (1 - (gxx * vx**2 + gyy * vy**2 + gzz * vz**2 +\n",
        "        2 * gxy * vx * vy + 2 * gxz * vx * vz +\n",
        "        2 * gyz * vy * vz))**0.5\n",
        "\n",
        "    vlowx = gxx * vx + gxy * vy + gxz * vz\n",
        "    vlowy = gxy * vx + gyy * vy + gyz * vz\n",
        "    vlowz = gxz * vx + gyz * vy + gzz * vz\n",
        "\n",
        "    Bxlow = gxx * Bx + gxy * By + gxz * Bz\n",
        "    Bylow = gxy * Bx + gyy * By + gyz * Bz\n",
        "    Bzlow = gxz * Bx + gyz * By + gzz * Bz\n",
        "\n",
        "    B2 = Bxlow * Bx + Bylow * By + Bzlow * Bz\n",
        "\n",
        "    Bdotv = Bxlow * vx + Bylow * vy + Bzlow * vz\n",
        "    Bdotv2 = Bdotv * Bdotv\n",
        "    wtemp2 = wtemp * wtemp\n",
        "    b2 = B2 / wtemp2 + Bdotv2\n",
        "    ab0 = wtemp * Bdotv\n",
        "\n",
        "    blowx = (gxx * Bx + gxy * By + gxz * Bz) / wtemp + wtemp * Bdotv * vlowx\n",
        "    blowy = (gxy * Bx + gyy * By + gyz * Bz) / wtemp + wtemp * Bdotv * vlowy\n",
        "    blowz = (gxz * Bx + gyz * By + gzz * Bz) / wtemp + wtemp * Bdotv * vlowz\n",
        "\n",
        "    hrhow2 = (rho * (1 + epsilon) + pres + b2) * (wtemp) * (wtemp)\n",
        "\n",
        "    D = sdet(gxx, gxy, gxz, gyy, gyz, gzz) * rho * (wtemp)\n",
        "    Sx = sdet(gxx, gxy, gxz, gyy, gyz, gzz) * (hrhow2 * vlowx - ab0 * blowx)\n",
        "    Sy = sdet(gxx, gxy, gxz, gyy, gyz, gzz) * (hrhow2 * vlowy - ab0 * blowy)\n",
        "    Sz = sdet(gxx, gxy, gxz, gyy, gyz, gzz) * (hrhow2 * vlowz - ab0 * blowz)\n",
        "    tau = sdet(gxx, gxy, gxz, gyy, gyz, gzz) * (hrhow2 - pres - b2 / 2 - ab0 * ab0) - D\n",
        "    Bconsx = sdet(gxx, gxy, gxz, gyy, gyz, gzz) * Bx\n",
        "    Bconsy = sdet(gxx, gxy, gxz, gyy, gyz, gzz) * By\n",
        "    Bconsz = sdet(gxx, gxy, gxz, gyy, gyz, gzz) * Bz\n",
        "\n",
        "    return D, Sx, Sy, Sz, tau, Bconsx, Bconsy, Bconsz\n",
        "\n",
        "\n",
        "def generate_input_data(rho, epsilon, vx, vy, vz, Bx, By, Bz, gxx, gxy, gxz, gyy, gyz, gzz):\n",
        "    rho = torch.tensor(np.array(rho), dtype=torch.float32).to(device)\n",
        "    epsilon = torch.tensor(np.array(epsilon), dtype=torch.float32).to(device)\n",
        "    vx = torch.tensor(np.array(vx), dtype=torch.float32).to(device)\n",
        "    vy = torch.tensor(np.array(vy), dtype=torch.float32).to(device)\n",
        "    vz = torch.tensor(np.array(vz), dtype=torch.float32).to(device)\n",
        "    Bx = torch.tensor(np.array(Bx), dtype=torch.float32).to(device)\n",
        "    By = torch.tensor(np.array(By), dtype=torch.float32).to(device)\n",
        "    Bz = torch.tensor(np.array(Bz), dtype=torch.float32).to(device)\n",
        "    gxx = torch.tensor(np.array(gxx), dtype=torch.float32).to(device)\n",
        "    gxy = torch.tensor(np.array(gxy), dtype=torch.float32).to(device)\n",
        "    gxz = torch.tensor(np.array(gxz), dtype=torch.float32).to(device)\n",
        "    gyy = torch.tensor(np.array(gyy), dtype=torch.float32).to(device)\n",
        "    gyz = torch.tensor(np.array(gyz), dtype=torch.float32).to(device)\n",
        "    gzz = torch.tensor(np.array(gzz), dtype=torch.float32).to(device)\n",
        "\n",
        "\n",
        "    \n",
        "    D, Sx, Sy, Sz, tau, Bscriptx, Bscripty, Bscriptz = compute_conserved_variables(\n",
        "        rho, epsilon, vx, vy, vz, Bx, By, Bz, gxx, gxy, gxz, gyy, gyz, gzz\n",
        "    ) \n",
        "\n",
        "    # Add gxx, gxy, gxz, gyy, gyz, gzz to the tensor\n",
        "    x = torch.stack([D, Sx, Sy, Sz, tau, Bscriptx, Bscripty, Bscriptz, gxx, gxy, gxz, gyy, gyz, gzz], axis=1)\n",
        "    return x\n",
        "\n",
        "\n",
        "# Defining a function that generates output data (labels) from given samples of primitive variables\n",
        "# We use the definitions as given in Recovery schemes for primitive variables in\n",
        "# general-relativistic magnetohydrodynamics of Siegel et al.\n",
        "def generate_labels(rho, epsilon, vx, vy, vz):\n",
        "    # Converting the numpy arrays to torch tensors and moving them to the device\n",
        "    rho = torch.tensor(np.array(rho), dtype=torch.float32).to(device)\n",
        "    epsilon = torch.tensor(np.array(epsilon), dtype=torch.float32).to(device)\n",
        "    vx = torch.tensor(np.array(vx), dtype=torch.float32).to(device)\n",
        "    vy = torch.tensor(np.array(vy), dtype=torch.float32).to(device)\n",
        "    vz = torch.tensor(np.array(vz), dtype=torch.float32).to(device)\n",
        "\n",
        "    # Computing the required quantities\n",
        "    pres = eos_analytic(rho, epsilon)\n",
        "    h = 1 + epsilon + pres / rho\n",
        "    W = 1 / torch.sqrt(1 - (vx * vx + vy * vy + vz * vz))\n",
        "\n",
        "    # Returning the output data tensor\n",
        "    return h * W\n"
      ]
    },
    {
      "cell_type": "markdown",
      "metadata": {
        "id": "rn7cYjQuzim1"
      },
      "source": [
        "### Generating or loading input data and labels"
      ]
    },
    {
      "cell_type": "code",
      "execution_count": 98,
      "metadata": {
        "id": "cKubR6C8UZh4"
      },
      "outputs": [],
      "source": [
        "if LOAD_DATA_FROM_CSV:\n",
        "    # Load the data from CSV files\n",
        "    x_train = pd.read_csv(csv_filenames[\"x_train\"]).values\n",
        "    y_train = pd.read_csv(csv_filenames[\"y_train\"]).values.squeeze()  # reshape to 1D\n",
        "    x_test = pd.read_csv(csv_filenames[\"x_test\"]).values\n",
        "    y_test = pd.read_csv(csv_filenames[\"y_test\"]).values.squeeze()  # reshape to 1D\n",
        "\n",
        "    # Convert numpy arrays to tensors\n",
        "    x_train = torch.from_numpy(x_train).float().to(device)\n",
        "    y_train = torch.from_numpy(y_train).float().to(device)\n",
        "    x_test = torch.from_numpy(x_test).float().to(device)\n",
        "    y_test = torch.from_numpy(y_test).float().to(device)\n",
        "\n",
        "    # This is an alternative to having if clauses  around the cells that visualize these variables.\n",
        "    rho_train = epsilon_train = vx_train = vy_train = vz_train = Bx_train = By_train = Bz_train = gxx_train = gxy_train = gxz_train = gyy_train = gyz_train = gzz_train = None\n",
        "    rho_test = epsilon_test = vx_test = vy_test = vz_test = Bx_test = By_test = Bz_test = gxx_test = gxy_test = gxz_test = gyy_test = gyz_test = gzz_test = None"
      ]
    },
    {
      "cell_type": "code",
      "execution_count": 99,
      "metadata": {
        "id": "SWceQN5Mzim2"
      },
      "outputs": [],
      "source": [
        "if not LOAD_DATA_FROM_CSV:\n",
        "    # Sample primitive variables\n",
        "    rho_train, epsilon_train, vx_train, vy_train, vz_train, Bx_train, By_train, Bz_train, gxx_train, gxy_train, gxz_train, gyy_train, gyz_train, gzz_train = generate_samples(n_train_samples)\n",
        "    rho_test, epsilon_test, vx_test, vy_test, vz_test, Bx_test, By_test, Bz_test, gxx_test, gxy_test, gxz_test, gyy_test, gyz_test, gzz_test = generate_samples(n_test_samples)"
      ]
    },
    {
      "cell_type": "code",
      "execution_count": 100,
      "metadata": {
        "id": "EOC9TCRXzim2"
      },
      "outputs": [],
      "source": [
        "if not LOAD_DATA_FROM_CSV:\n",
        "    # Generate data and labels.\n",
        "    x_train = generate_input_data(rho_train, epsilon_train, vx_train, vy_train,\n",
        "                                vz_train, Bx_train, By_train, Bz_train,\n",
        "                                gxx_train,gxy_train,gxz_train,\n",
        "                                gyy_train,gyz_train,gzz_train)\n",
        "    y_train = generate_labels(rho_train, epsilon_train, vx_train, vy_train, vz_train)\n",
        "    x_test = generate_input_data(rho_test, epsilon_test,vx_test,\n",
        "                                vy_test,vz_test,Bx_test,\n",
        "                                By_test,Bz_test,gxx_test,\n",
        "                                gxy_test,gxz_test,\n",
        "                                gyy_test,\n",
        "                                gyz_test,gzz_test)\n",
        "    y_test = generate_labels(rho_test, epsilon_test, vx_test, vy_test, vz_test)\n",
        "\n",
        "\n",
        "    # Save the data to CSV files, tensors need to be converted numpy arrays for saving in CSV.\n",
        "    pd.DataFrame(x_train.cpu().numpy()).to_csv(csv_filenames[\"x_train\"], index=False)\n",
        "    save_file(csv_filenames[\"x_train\"])\n",
        "    pd.DataFrame(y_train.cpu().numpy()).to_csv(csv_filenames[\"y_train\"], index=False)\n",
        "    save_file(csv_filenames[\"y_train\"])\n",
        "    pd.DataFrame(x_test.cpu().numpy()).to_csv(csv_filenames[\"x_test\"], index=False)\n",
        "    save_file(csv_filenames[\"x_test\"])\n",
        "    pd.DataFrame(y_test.cpu().numpy()).to_csv(csv_filenames[\"y_test\"], index=False)\n",
        "    save_file(csv_filenames[\"y_test\"])"
      ]
    },
    {
      "cell_type": "code",
      "execution_count": 101,
      "metadata": {
        "id": "85OdH1Wjzim3",
        "outputId": "d37d9070-3631-4ff8-c5b1-125beaccf216",
        "colab": {
          "base_uri": "https://localhost:8080/"
        }
      },
      "outputs": [
        {
          "output_type": "execute_result",
          "data": {
            "text/plain": [
              "torch.Size([80000, 14])"
            ]
          },
          "metadata": {},
          "execution_count": 101
        },
        {
          "output_type": "execute_result",
          "data": {
            "text/plain": [
              "torch.Size([80000])"
            ]
          },
          "metadata": {},
          "execution_count": 101
        },
        {
          "output_type": "execute_result",
          "data": {
            "text/plain": [
              "torch.Size([20000, 14])"
            ]
          },
          "metadata": {},
          "execution_count": 101
        },
        {
          "output_type": "execute_result",
          "data": {
            "text/plain": [
              "torch.Size([20000])"
            ]
          },
          "metadata": {},
          "execution_count": 101
        },
        {
          "output_type": "execute_result",
          "data": {
            "text/plain": [
              "tensor([[ 1.7943e+00,  3.8490e+01,  9.2467e+02,  ...,  1.0469e+00,\n",
              "          6.2772e-02,  1.0201e+00],\n",
              "        [ 6.9982e-01,  3.2768e+01,  1.4579e+02,  ...,  9.9803e-01,\n",
              "          6.0667e-02,  9.0222e-01],\n",
              "        [ 5.5855e+00,  5.9216e+01, -1.0313e+00,  ...,  1.0862e+00,\n",
              "          7.3758e-02,  1.0275e+00],\n",
              "        ...,\n",
              "        [ 9.1168e-01,  2.7694e+01,  2.1570e+01,  ...,  9.2819e-01,\n",
              "          4.1724e-02,  9.6653e-01],\n",
              "        [ 1.2285e+00,  2.7899e+01,  1.4342e+01,  ...,  9.0257e-01,\n",
              "          7.9620e-03,  9.7940e-01],\n",
              "        [ 1.7869e+00, -3.8876e+01,  5.7286e+01,  ...,  1.0032e+00,\n",
              "          4.1267e-02,  9.4013e-01]], device='cuda:0')"
            ]
          },
          "metadata": {},
          "execution_count": 101
        },
        {
          "output_type": "execute_result",
          "data": {
            "text/plain": [
              "tensor([594.6891, 205.6976,   7.8334,  ...,   1.9671,  11.9238,   6.9429],\n",
              "       device='cuda:0')"
            ]
          },
          "metadata": {},
          "execution_count": 101
        },
        {
          "output_type": "execute_result",
          "data": {
            "text/plain": [
              "tensor([[6.1386e-01, 4.9195e+00, 3.6124e+01,  ..., 1.0913e+00, 1.9610e-02,\n",
              "         1.0318e+00],\n",
              "        [7.2177e-01, 4.0584e+00, 5.2912e+00,  ..., 1.0854e+00, 6.9451e-02,\n",
              "         9.9477e-01],\n",
              "        [7.9556e-01, 3.3571e+00, 5.1198e+01,  ..., 9.2832e-01, 3.4574e-02,\n",
              "         9.5316e-01],\n",
              "        ...,\n",
              "        [2.3083e+00, 5.8812e+00, 9.9332e+00,  ..., 1.0131e+00, 2.7688e-02,\n",
              "         9.0126e-01],\n",
              "        [2.5189e-01, 4.5565e+01, 5.1411e+00,  ..., 9.9289e-01, 8.0887e-02,\n",
              "         1.0594e+00],\n",
              "        [7.8014e-01, 4.9578e+01, 2.7075e+02,  ..., 1.0971e+00, 5.7794e-02,\n",
              "         1.0054e+00]], device='cuda:0')"
            ]
          },
          "metadata": {},
          "execution_count": 101
        },
        {
          "output_type": "execute_result",
          "data": {
            "text/plain": [
              "tensor([  1.1569,   1.7467,   1.3334,  ...,   2.9477,  27.6700, 169.2676],\n",
              "       device='cuda:0')"
            ]
          },
          "metadata": {},
          "execution_count": 101
        }
      ],
      "source": [
        "\n",
        "x_train.shape\n",
        "y_train.shape\n",
        "x_test.shape\n",
        "y_test.shape\n",
        "x_train\n",
        "y_train\n",
        "x_test\n",
        "y_test"
      ]
    },
    {
      "cell_type": "code",
      "execution_count": 102,
      "metadata": {
        "id": "t82W0NcOzim3",
        "outputId": "0b832867-7d41-453c-e10a-0a93a1027ded",
        "colab": {
          "base_uri": "https://localhost:8080/"
        }
      },
      "outputs": [
        {
          "output_type": "execute_result",
          "data": {
            "text/plain": [
              "tensor(False, device='cuda:0')"
            ]
          },
          "metadata": {},
          "execution_count": 102
        },
        {
          "output_type": "execute_result",
          "data": {
            "text/plain": [
              "tensor(False, device='cuda:0')"
            ]
          },
          "metadata": {},
          "execution_count": 102
        },
        {
          "output_type": "execute_result",
          "data": {
            "text/plain": [
              "tensor(False, device='cuda:0')"
            ]
          },
          "metadata": {},
          "execution_count": 102
        },
        {
          "output_type": "execute_result",
          "data": {
            "text/plain": [
              "tensor(False, device='cuda:0')"
            ]
          },
          "metadata": {},
          "execution_count": 102
        }
      ],
      "source": [
        "torch.isnan(x_train).any()\n",
        "torch.isnan(x_test).any()\n",
        "torch.isnan(y_train).any()\n",
        "torch.isnan(y_test).any()"
      ]
    },
    {
      "cell_type": "code",
      "execution_count": 103,
      "metadata": {
        "id": "NhhTjK4Pzim3",
        "outputId": "b956072c-fabb-476b-fe13-2e7a27546008",
        "colab": {
          "base_uri": "https://localhost:8080/"
        }
      },
      "outputs": [
        {
          "output_type": "execute_result",
          "data": {
            "text/plain": [
              "(tensor([], device='cuda:0', dtype=torch.int64),\n",
              " tensor([], device='cuda:0', dtype=torch.int64))"
            ]
          },
          "metadata": {},
          "execution_count": 103
        },
        {
          "output_type": "execute_result",
          "data": {
            "text/plain": [
              "(tensor([], device='cuda:0', dtype=torch.int64),\n",
              " tensor([], device='cuda:0', dtype=torch.int64))"
            ]
          },
          "metadata": {},
          "execution_count": 103
        }
      ],
      "source": [
        "nan_mask_train = torch.isnan(x_train)     # get a boolean mask indicating NaN values\n",
        "nan_indices_train = torch.where(nan_mask_train)  # get the indices of the NaN values\n",
        "nan_indices_train\n",
        "# len(nan_indices_train)\n",
        "\n",
        "nan_mask_test = torch.isnan(x_test)     # get a boolean mask indicating NaN values\n",
        "nan_indices_test = torch.where(nan_mask_train)  # get the indices of the NaN values\n",
        "nan_indices_test\n",
        "# len(nan_indices_test)"
      ]
    },
    {
      "cell_type": "markdown",
      "metadata": {
        "id": "98xJfNDQzim4"
      },
      "source": [
        "## Visualizing the data"
      ]
    },
    {
      "cell_type": "markdown",
      "metadata": {
        "id": "C4GE4YpTzim4"
      },
      "source": [
        "### Visualizing sampled data"
      ]
    },
    {
      "cell_type": "code",
      "execution_count": 104,
      "metadata": {
        "id": "UzHRENJyzim4"
      },
      "outputs": [],
      "source": [
        "if not LOAD_DATA_FROM_CSV:\n",
        "    rho_train\n",
        "    epsilon_train\n",
        "    vx_train\n",
        "    vy_train\n",
        "    vz_train \n",
        "    Bx_train\n",
        "    By_train\n",
        "    Bz_train\n",
        "    rho_test\n",
        "    epsilon_test\n",
        "    vx_test \n",
        "    vy_test \n",
        "    vz_test \n",
        "    Bx_test\n",
        "    By_test\n",
        "    Bz_test"
      ]
    },
    {
      "cell_type": "code",
      "execution_count": 105,
      "metadata": {
        "id": "VMp6XJ6RUZh4"
      },
      "outputs": [],
      "source": [
        "%config InteractiveShell.ast_node_interactivity = \"last_expr_or_assign\""
      ]
    },
    {
      "cell_type": "code",
      "execution_count": 106,
      "metadata": {
        "id": "E5YFdqKjUZh5"
      },
      "outputs": [],
      "source": [
        "if not LOAD_DATA_FROM_CSV:\n",
        "    def plot_histogram(data, xlabel, ylabel, position, bins=20, log_scale=False):\n",
        "        plt.subplot(4, 5, position)\n",
        "        plt.hist(data, bins=bins)\n",
        "        plt.xlabel(xlabel)\n",
        "        plt.ylabel(ylabel)\n",
        "        if log_scale:\n",
        "            plt.yscale(\"log\")\n",
        "\n",
        "    # Plotting the histograms of rho, vx, epsilon, b0, b1, b2, and b3\n",
        "    plt.figure(figsize=(20, 16))\n",
        "\n",
        "    plot_histogram(rho_train, \"rho\", \"Frequency\", 1)\n",
        "    plot_histogram(epsilon_train, \"epsilon\", \"Frequency\", 2)\n",
        "    plot_histogram(vx_train, \"vx\", \"Frequency\", 3)\n",
        "    plot_histogram(vy_train, \"vy\", \"Frequency\", 4)\n",
        "    plot_histogram(vz_train, \"vz\", \"Frequency\", 5)\n",
        "    plot_histogram(Bx_train, \"Bx\", \"Frequency\", 6)\n",
        "    plot_histogram(By_train, \"By\", \"Frequency\", 7)\n",
        "    plot_histogram(Bz_train, \"Bz\", \"Frequency\", 8)\n",
        "    \n",
        "    # Plot these\n",
        "    plot_histogram(gxx_train, \"gxx\", \"Frequency\", 9)\n",
        "    plot_histogram(gxy_train, \"gxy\", \"Frequency\", 10)\n",
        "    plot_histogram(gxz_train, \"gxz\", \"Frequency\", 11)\n",
        "    plot_histogram(gyy_train, \"gyy\", \"Frequency\", 12)\n",
        "    plot_histogram(gyz_train, \"gyz\", \"Frequency\", 13)\n",
        "    plot_histogram(gzz_train, \"gzz\", \"Frequency\", 14)\n",
        "    # Adjust the layout as needed for the additional plots\n",
        "\n",
        "    plt.suptitle(\"Primitive variables\")\n",
        "    plt.tight_layout()\n",
        "    plt.show()\n"
      ]
    },
    {
      "cell_type": "code",
      "execution_count": 107,
      "metadata": {
        "id": "_ZShJm7dzim5"
      },
      "outputs": [],
      "source": [
        "%config InteractiveShell.ast_node_interactivity = \"last_expr_or_assign\""
      ]
    },
    {
      "cell_type": "code",
      "execution_count": 108,
      "metadata": {
        "id": "NUTjRHPKzim5"
      },
      "outputs": [],
      "source": [
        "if not LOAD_DATA_FROM_CSV:\n",
        "    # List of variable names\n",
        "    variable_names = [\"D\", \"Sx\", \"Sy\", \"Sz\", \"tau\", \"Bconsx\", \"Bconsy\", \"Bconsz\"]\n",
        "\n",
        "    # Note how we are only plotting train and not test here. \n",
        "    # Plotting histograms of the input variables before z-score normalization\n",
        "    plt.figure(figsize=(16, 16))\n",
        "    plt.suptitle('Histograms of input variables before (or without at all) z-score normalization', y=1.03)\n",
        "    for i in range(8):\n",
        "        plt.subplot(4, 2, i+1)\n",
        "        plt.hist(x_train[:, i].cpu(), bins=50) # Must be converted to cpu() for plotting.\n",
        "        plt.xlabel(variable_names[i])\n",
        "    plt.subplots_adjust(hspace=0.4, wspace=0.4)\n",
        "    plt.show()\n"
      ]
    },
    {
      "cell_type": "markdown",
      "metadata": {
        "id": "9xPTDKVXzim5"
      },
      "source": [
        "### Data normalization"
      ]
    },
    {
      "cell_type": "code",
      "execution_count": 109,
      "metadata": {
        "id": "JcfBXFMXzim5",
        "outputId": "a7e2ea8e-5c00-4ab2-cdb4-10fafdc82b3f",
        "colab": {
          "base_uri": "https://localhost:8080/"
        }
      },
      "outputs": [
        {
          "output_type": "stream",
          "name": "stdout",
          "text": [
            "Summary statistics of input variables before z-score normalization\n",
            "tensor([[ 1.5388e-07,  2.6438e+02,  2.2765e+00,  1.6756e+00,  3.5594e+00],\n",
            "        [-1.0548e+02,  1.0716e+07,  1.7637e+03,  4.8614e+01,  5.5278e+04],\n",
            "        [-1.0664e+02,  1.7318e+07,  1.9530e+03,  4.8294e+01,  7.9576e+04],\n",
            "        [-1.2383e+02,  6.2779e+06,  1.7316e+03,  4.8341e+01,  4.6098e+04],\n",
            "        [ 4.8285e-01,  1.7988e+07,  3.4638e+03,  1.1307e+02,  1.0296e+05],\n",
            "        [-1.1390e+01,  1.1213e+01, -7.3321e-03, -1.0816e-02,  5.7216e+00],\n",
            "        [-1.1276e+01,  1.1289e+01,  4.2612e-02,  8.8453e-02,  5.7317e+00],\n",
            "        [-1.1086e+01,  1.1305e+01,  9.2822e-03, -7.7466e-03,  5.7277e+00],\n",
            "        [ 9.0000e-01,  1.1000e+00,  9.9848e-01,  9.9761e-01,  5.7864e-02],\n",
            "        [ 6.6254e-07,  9.9999e-02,  4.9610e-02,  4.9404e-02,  2.8806e-02],\n",
            "        [ 9.1343e-07,  1.0000e-01,  4.9525e-02,  4.9293e-02,  2.8820e-02],\n",
            "        [ 9.0001e-01,  1.1000e+00,  9.9841e-01,  9.9768e-01,  5.7675e-02],\n",
            "        [ 2.5777e-06,  9.9998e-02,  4.9711e-02,  4.9631e-02,  2.8859e-02],\n",
            "        [ 9.0000e-01,  1.1000e+00,  9.9865e-01,  9.9761e-01,  5.7618e-02]],\n",
            "       device='cuda:0')\n"
          ]
        }
      ],
      "source": [
        "# Computing summary statistics of the input variables before and after z-score normalization\n",
        "print('Summary statistics of input variables before z-score normalization')\n",
        "print(torch.stack([torch.min(x_train, dim=0).values, torch.max(x_train, dim=0).values, torch.nanmean(x_train, dim=0), torch.median(x_train, dim=0).values, torch.std(x_train, dim=0)], dim=1))"
      ]
    },
    {
      "cell_type": "markdown",
      "metadata": {
        "id": "xTEmkR1SUZh7"
      },
      "source": [
        "Perform z-score normalization"
      ]
    },
    {
      "cell_type": "code",
      "execution_count": 110,
      "metadata": {
        "id": "1TzzQCUlzim6"
      },
      "outputs": [],
      "source": [
        "%config InteractiveShell.ast_node_interactivity = \"all\""
      ]
    },
    {
      "cell_type": "code",
      "execution_count": 111,
      "metadata": {
        "id": "yPOv6DxhUZh7"
      },
      "outputs": [],
      "source": [
        "if ZSCORE_NORMALIZATION:\n",
        "    \n",
        "    # TODO: Add magnetic field variables to the normalization if I decide to use the old code that is commented out here.\n",
        "    # # Computing the median of each input variable from the training set using torch.nanmedian function\n",
        "    # D_median = torch.nanmedian(x_train[:, 0])\n",
        "    # Sx_median = torch.nanmedian(x_train[:, 1])\n",
        "    # Sy_median = torch.nanmedian(x_train[:, 2])\n",
        "    # Sz_median = torch.nanmedian(x_train[:, 3])\n",
        "    # tau_median = torch.nanmedian(x_train[:, 4])\n",
        "\n",
        "    # # Computing the standard deviation of each input variable from the training set using torch.std function with a boolean mask to ignore nan values\n",
        "    # D_std = torch.std(x_train[~torch.isnan(x_train[:, 0]), 0])\n",
        "    # Sx_std = torch.std(x_train[~torch.isnan(x_train[:, 1]), 1])\n",
        "    # Sy_std = torch.std(x_train[~torch.isnan(x_train[:, 2]), 2])\n",
        "    # Sz_std = torch.std(x_train[~torch.isnan(x_train[:, 3]), 3])\n",
        "    # tau_std = torch.std(x_train[~torch.isnan(x_train[:, 4]), 4])\n",
        "\n",
        "\n",
        "    # # Applying z-score normalization to both train and test sets using the statistics from the training set\n",
        "    # x_train[:, 0] = torch.sub(x_train[:, 0], D_median).div(D_std)\n",
        "    # x_train[:, 1] = torch.sub(x_train[:, 1], Sx_median).div(Sx_std)\n",
        "    # x_train[:, 2] = torch.sub(x_train[:, 2], Sy_median).div(Sy_std)\n",
        "    # x_train[:, 3] = torch.sub(x_train[:, 3], Sz_median).div(Sz_std)\n",
        "    # x_train[:, 4] = torch.sub(x_train[:, 4], tau_median).div(tau_std)\n",
        "\n",
        "    # x_test[:, 0] = torch.sub(x_test[:, 0], D_median).div(D_std)\n",
        "    # x_test[:, 1] = torch.sub(x_test[:, 1], Sx_median).div(Sx_std)\n",
        "    # x_test[:, 2] = torch.sub(x_test[:, 2], Sy_median).div(Sy_std)\n",
        "    # x_test[:, 3] = torch.sub(x_test[:, 3], Sz_median).div(Sz_std)\n",
        "    # x_test[:, 4] = torch.sub(x_test[:, 4], tau_median).div(tau_std)\n",
        "\n",
        "    # Computing the mean and standard deviation of each column\n",
        "    mean = x_train.mean(dim=0)\n",
        "    std = x_train.std(dim=0)\n",
        "\n",
        "    # Applying z-score normalization\n",
        "    x_train = (x_train - mean) / std\n",
        "    # Use the same mean and std from the training data as we don't want test data leakage.\n",
        "    x_test = (x_test - mean) / std\n",
        "\n"
      ]
    },
    {
      "cell_type": "markdown",
      "metadata": {
        "id": "vl0jRxHKzim6"
      },
      "source": [
        "Plotting the histograms of the input data after normalization if z-score normalization was performed."
      ]
    },
    {
      "cell_type": "code",
      "execution_count": 112,
      "metadata": {
        "id": "r8W5QZoBzim6"
      },
      "outputs": [],
      "source": [
        "%config InteractiveShell.ast_node_interactivity = \"last_expr_or_assign\""
      ]
    },
    {
      "cell_type": "code",
      "execution_count": 113,
      "metadata": {
        "id": "m3tpIAsjzim6"
      },
      "outputs": [],
      "source": [
        "if not LOAD_DATA_FROM_CSV:\n",
        "    if ZSCORE_NORMALIZATION:\n",
        "        # List of variable names\n",
        "        variable_names = [\"D\", \"Sx\", \"Sy\", \"Sz\", \"tau\", \"Bconsx\", \"Bconsy\", \"Bconsz\"]\n",
        "\n",
        "        # Note how we are only plotting train and not test here. \n",
        "        # Plotting histograms of the input variables before z-score normalization\n",
        "        plt.figure(figsize=(16, 16))\n",
        "        plt.suptitle('Histograms of input variables after z-score normalization', y=1.03)\n",
        "        for i in range(8):\n",
        "            plt.subplot(4, 2, i+1)\n",
        "            plt.hist(x_train[:, i].cpu(), bins=50) # Must be converted to cpu() for plotting.\n",
        "            plt.xlabel(variable_names[i])\n",
        "        plt.subplots_adjust(hspace=0.4, wspace=0.4)\n",
        "        plt.show()\n"
      ]
    },
    {
      "cell_type": "code",
      "execution_count": 114,
      "metadata": {
        "id": "kT4l35a0zim7"
      },
      "outputs": [],
      "source": [
        "if ZSCORE_NORMALIZATION:\n",
        "    # Computing summary statistics of the input variables after z-score normalization\n",
        "    print('Summary statistics of input variables after z-score normalization')\n",
        "    print(torch.stack([torch.min(x_train, dim=0).values, torch.max(x_train, dim=0).values, torch.mean(x_train, dim=0), torch.median(x_train, dim=0).values, torch.std(x_train, dim=0)], dim=1))\n"
      ]
    },
    {
      "cell_type": "markdown",
      "metadata": {
        "id": "W5JKOCg6zim7"
      },
      "source": [
        "### Visualizing input data and labels"
      ]
    },
    {
      "cell_type": "code",
      "execution_count": 115,
      "metadata": {
        "id": "FlQLeOo0zinC",
        "outputId": "dc1b32c6-b00b-4f2f-e507-76b8e0b79bf8",
        "colab": {
          "base_uri": "https://localhost:8080/"
        }
      },
      "outputs": [
        {
          "output_type": "execute_result",
          "data": {
            "text/plain": [
              "tensor([  1.1569,   1.7467,   1.3334,  ...,   2.9477,  27.6700, 169.2676],\n",
              "       device='cuda:0')"
            ]
          },
          "metadata": {},
          "execution_count": 115
        }
      ],
      "source": [
        "x_train\n",
        "y_train\n",
        "x_test\n",
        "y_test"
      ]
    },
    {
      "cell_type": "markdown",
      "metadata": {
        "id": "E96p_MsOUZh9",
        "outputId": "4b95bad0-8f3a-4364-eed1-008e0ce2a5e3"
      },
      "source": [
        "Checking if our output is always positive by plotting a histogram of y_train and y_test tensors "
      ]
    },
    {
      "cell_type": "code",
      "execution_count": 116,
      "metadata": {
        "id": "zgcZi6wRzinD",
        "outputId": "4fc4534b-1715-4992-9ae8-d49740d2e614",
        "colab": {
          "base_uri": "https://localhost:8080/",
          "height": 406
        }
      },
      "outputs": [
        {
          "output_type": "display_data",
          "data": {
            "text/plain": [
              "<Figure size 800x400 with 2 Axes>"
            ],
            "image/png": "[encoded data removed]"
          },
          "metadata": {}
        }
      ],
      "source": [
        "# Note how we are only plotting train.\n",
        "plt.figure(figsize=(8, 4))\n",
        "plt.subplot(1, 2, 1)\n",
        "plt.hist(y_train.cpu().numpy(), bins=20) # must be cpu here.\n",
        "plt.xlabel(\"y_train\")\n",
        "plt.ylabel(\"Frequency\")\n",
        "plt.yscale(\"log\")\n",
        "plt.subplot(1, 2, 2)\n",
        "plt.hist(y_test.cpu().numpy(), bins=20) # must be cpu here\n",
        "plt.xlabel(\"y_test\")\n",
        "plt.ylabel(\"Frequency\")\n",
        "plt.yscale(\"log\")\n",
        "plt.tight_layout()\n",
        "plt.show()\n"
      ]
    },
    {
      "cell_type": "code",
      "execution_count": 117,
      "metadata": {
        "id": "FEgjk--AUZh9"
      },
      "outputs": [],
      "source": [
        "%config InteractiveShell.ast_node_interactivity = \"all\""
      ]
    },
    {
      "cell_type": "markdown",
      "metadata": {
        "id": "r2b9GecHUZh9"
      },
      "source": [
        "## Defining the neural network"
      ]
    },
    {
      "cell_type": "code",
      "execution_count": 118,
      "metadata": {
        "id": "Iv8HA-ZXUZh-"
      },
      "outputs": [],
      "source": [
        "# Defining a class for the network\n",
        "class Net(nn.Module):\n",
        "    \"\"\"A class for creating a network with a\n",
        "    variable number of hidden layers and units.\n",
        "\n",
        "    Attributes:\n",
        "        n_layers (int): The number of hidden layers in the network.\n",
        "        n_units (list): A list of integers representing the number of units in each hidden layer.\n",
        "        hidden_activation (torch.nn.Module): The activation function for the hidden layers.\n",
        "        output_activation (torch.nn.Module): The activation function for the output layer.\n",
        "        layers (torch.nn.ModuleList): A list of linear layers in the network.\n",
        "    \"\"\"\n",
        "\n",
        "    def __init__(self, n_layers, n_units, hidden_activation, output_activation):\n",
        "        \"\"\"Initializes the network with the given hyperparameters.\n",
        "\n",
        "        Args:\n",
        "            n_layers (int): The number of hidden layers in the network.\n",
        "            n_units (list): A list of integers representing the number of units in each hidden layer.\n",
        "            hidden_activation (torch.nn.Module): The activation function for the hidden layers.\n",
        "            output_activation (torch.nn.Module): The activation function for the output layer.\n",
        "        \"\"\"\n",
        "        super().__init__()\n",
        "        self.n_layers = n_layers\n",
        "        self.n_units = n_units\n",
        "        self.hidden_activation = hidden_activation\n",
        "        self.output_activation = output_activation\n",
        "\n",
        "        # Creating a list of linear layers with different numbers of units for each layer\n",
        "        self.layers = nn.ModuleList([nn.Linear(N_INPUTS, n_units[0])])\n",
        "        for i in range(1, n_layers):\n",
        "            self.layers.append(nn.Linear(n_units[i - 1], n_units[i]))\n",
        "        self.layers.append(nn.Linear(n_units[-1], 1))\n",
        "\n",
        "        # Adding some assertions to check that the input arguments are valid\n",
        "        assert isinstance(n_layers, int) and n_layers > 0, \"n_layers must be a positive integer\"\n",
        "        assert isinstance(n_units, list) and len(n_units) == n_layers, \"n_units must be a list of length n_layers\"\n",
        "        assert all(isinstance(n, int) and n > 0 for n in n_units), \"n_units must contain positive integers\"\n",
        "        assert isinstance(hidden_activation, nn.Module), \"hidden_activation must be a torch.nn.Module\"\n",
        "        assert isinstance(output_activation, nn.Module), \"output_activation must be a torch.nn.Module\"\n",
        "\n",
        "    def forward(self, x):\n",
        "        \"\"\"Performs a forward pass on the input tensor.\n",
        "\n",
        "        Args:\n",
        "            x (torch.Tensor): The input tensor of shape (batch_size, N_INPUTS).\n",
        "\n",
        "        Returns:\n",
        "            torch.Tensor: The output tensor of shape (batch_size, 1).\n",
        "        \"\"\"\n",
        "        # Adding an assertion to check that the input tensor has the expected shape and type\n",
        "        assert isinstance(x, torch.Tensor), \"x must be a torch.Tensor\"\n",
        "        assert x.shape[1] == N_INPUTS, f\"x must have shape (batch_size, {N_INPUTS})\"\n",
        "\n",
        "        # Looping over the hidden layers and applying the linear transformation and the activation function\n",
        "        for layer in self.layers[:-1]:\n",
        "            x = self.hidden_activation(layer(x))\n",
        "        # Applying the linear transformation and the activation function on the output layer\n",
        "        x = self.output_activation(self.layers[-1](x))\n",
        "\n",
        "        # Returning the output tensor\n",
        "        return x\n"
      ]
    },
    {
      "cell_type": "markdown",
      "metadata": {
        "id": "6GNvp55PUZh_"
      },
      "source": [
        "## Defining the model and search space"
      ]
    },
    {
      "cell_type": "code",
      "execution_count": 119,
      "metadata": {
        "id": "9a1opluOUZh_"
      },
      "outputs": [],
      "source": [
        "# Defining a function to create a trial network and optimizer\n",
        "def create_model(trial, optimize):\n",
        "    \"\"\"Creates a trial network and optimizer based on the sampled hyperparameters.\n",
        "\n",
        "    Args:\n",
        "        trial (optuna.trial.Trial): The trial object that contains the hyperparameters.\n",
        "        optimize (boolean): Whether to optimize the hyperparameters or to use predefined values.\n",
        "\n",
        "    Returns:\n",
        "        tuple: A tuple of (net, loss_fn, optimizer, batch_size, n_epochs,\n",
        "            scheduler, loss_name, optimizer_name, scheduler_name,\n",
        "            n_units, n_layers, hidden_activation, output_activation),\n",
        "            where net is the trial network,\n",
        "            loss_fn is the loss function,\n",
        "            optimizer is the optimizer,\n",
        "            batch_size is the batch size,\n",
        "            n_epochs is the number of epochs,\n",
        "            scheduler is the learning rate scheduler,\n",
        "            loss_name is the name of the loss function,\n",
        "            optimizer_name is the name of the optimizer,\n",
        "            scheduler_name is the name of the scheduler,\n",
        "            n_units is a list of integers representing\n",
        "            the number of units in each hidden layer,\n",
        "            n_layers is an integer representing the number of hidden layers in the network,\n",
        "            hidden_activation is a torch.nn.Module representing the activation function for the hidden layers,\n",
        "            output_activation is a torch.nn.Module representing the activation function for the output layer,\n",
        "            lr is the (initial) learning rate.\n",
        "    \"\"\"\n",
        "    # If optimize is True, sample the hyperparameters from the search space\n",
        "    if OPTIMIZE:\n",
        "        # Sampling the hyperparameters from the search space\n",
        "        n_layers = trial.suggest_int(\"n_layers\", 2, 6)\n",
        "        n_units = [trial.suggest_int(f\"n_units_{i}\", 16, 2048) for i in range(n_layers)] \n",
        "        hidden_activation_name = trial.suggest_categorical(\n",
        "            #\"hidden_activation\", [\"ReLU\", \"LeakyReLU\", \"ELU\", \"Tanh\", \"Sigmoid\"]\n",
        "            #\"hidden_activation\", [\"ReLU\", \"LeakyReLU\"]\n",
        "            \"hidden_activation\", [\"ReLU\", \"LeakyReLU\", \"ELU\"]\n",
        "        )\n",
        "        output_activation_name = trial.suggest_categorical(\n",
        "            #\"output_activation\", [\"Linear\", \"ReLU\", \"Softplus\"]\n",
        "            # Assuming pressure cannot be negative, linear output activation is not an option.\n",
        "            #\"output_activation\", [\"ReLU\", \"Softplus\", \"Linear\"]\n",
        "            \"output_activation\", [\"ReLU\", \"Linear\"]\n",
        "        ) \n",
        "        loss_name = trial.suggest_categorical(\n",
        "            #\"loss\", [\"MSE\", \"MAE\", \"Huber\", \"LogCosh\"] \n",
        "            \"loss\", [\"MSE\", \"MAE\", \"Huber\"] \n",
        "        )\n",
        "        optimizer_name = trial.suggest_categorical(\n",
        "            \"optimizer\", [\"Adam\", \"SGD\", \"RMSprop\", \"Adagrad\"] \n",
        "        )\n",
        "        lr = trial.suggest_loguniform(\"lr\", 1e-4, 1e-2) \n",
        "\n",
        "        batch_size_list = [32, 48, 64, 96, 128, 256, 512, 1048]\n",
        "        batch_size = trial.suggest_categorical(\"batch_size\", batch_size_list)\n",
        "        #batch_size = trial.suggest_int(\"batch_size\", 64, 1048)\n",
        "        n_epochs = trial.suggest_int(\"n_epochs\", 100, 300) \n",
        "        scheduler_name = trial.suggest_categorical(\n",
        "            \"scheduler\",\n",
        "            # [\"None\", \"CosineAnnealingLR\", \"ReduceLROnPlateau\", \"StepLR\", \"ExponentialLR\"],\n",
        "            [\"CosineAnnealingLR\", \"ReduceLROnPlateau\", \"StepLR\"],\n",
        "        )\n",
        "\n",
        "    # If optimize is False, use the predefined values\n",
        "    else:\n",
        "        # Setting the hyperparameters to the predefined values\n",
        "        n_layers = N_LAYERS_NO_OPT\n",
        "        n_units = N_UNITS_NO_OPT\n",
        "        hidden_activation_name = HIDDEN_ACTIVATION_NAME_NO_OPT\n",
        "        output_activation_name = OUTPUT_ACTIVATION_NAME_NO_OPT\n",
        "        loss_name = LOSS_NAME_NO_OPT\n",
        "        optimizer_name = OPTIMIZER_NAME_NO_OPT\n",
        "        lr = LR_NO_OPT\n",
        "        batch_size = BATCH_SIZE_NO_OPT\n",
        "        n_epochs = N_EPOCHS_NO_OPT\n",
        "        scheduler_name = SCHEDULER_NAME_NO_OPT\n",
        "\n",
        "\n",
        "    # Creating the activation functions from their names\n",
        "    if hidden_activation_name == \"ReLU\":\n",
        "        hidden_activation = nn.ReLU()\n",
        "    elif hidden_activation_name == \"LeakyReLU\":\n",
        "        hidden_activation = nn.LeakyReLU() \n",
        "    elif hidden_activation_name == \"ELU\":\n",
        "        hidden_activation = nn.ELU() \n",
        "    elif hidden_activation_name == \"Tanh\":\n",
        "        hidden_activation = nn.Tanh()\n",
        "    else:\n",
        "        hidden_activation = nn.Sigmoid()\n",
        "\n",
        "    if output_activation_name == \"ReLU\":\n",
        "        output_activation = nn.ReLU()\n",
        "    elif output_activation_name == \"Softplus\":\n",
        "        output_activation = nn.Softplus()\n",
        "    else:\n",
        "        output_activation = nn.Identity()\n",
        "\n",
        "    # Creating the loss function from its name\n",
        "    if loss_name == \"MSE\":\n",
        "        loss_fn = nn.MSELoss()\n",
        "    elif loss_name == \"MAE\":\n",
        "        loss_fn = nn.L1Loss()\n",
        "    elif loss_name == \"Huber\":\n",
        "        loss_fn = nn.SmoothL1Loss() \n",
        "    else:\n",
        "        # Creating the log-cosh loss function\n",
        "        def log_cosh_loss(y_pred, y_true):\n",
        "            return torch.mean(torch.log(torch.cosh(y_pred - y_true)))\n",
        "            \n",
        "        loss_fn = log_cosh_loss\n",
        "\n",
        "    # Creating the network with the sampled hyperparameters\n",
        "    net = Net(\n",
        "        n_layers, n_units, hidden_activation, output_activation\n",
        "    ).to(device)\n",
        "\n",
        "    if OPTIMIZE:\n",
        "        # Creating the optimizer from its name\n",
        "        if optimizer_name == \"SGD\":\n",
        "            # Added sampling the weight decay and momentum for SGD\n",
        "            weight_decay = trial.suggest_loguniform(\"weight_decay\", 1e-5, 1e-2)\n",
        "            momentum = trial.suggest_uniform(\"momentum\", 0.0, 0.99)\n",
        "            optimizer = optim.SGD(net.parameters(), lr=lr, weight_decay=weight_decay, momentum=momentum)\n",
        "        elif optimizer_name == \"Adam\":\n",
        "            # Added sampling the weight decay and beta parameters for Adam\n",
        "            weight_decay = trial.suggest_loguniform(\"weight_decay\", 1e-5, 1e-2)\n",
        "            beta1 = trial.suggest_uniform(\"beta1\", 0.9, 0.999)\n",
        "            beta2 = trial.suggest_uniform(\"beta2\", 0.999, 0.9999)\n",
        "            optimizer = optim.Adam(net.parameters(), lr=lr, weight_decay=weight_decay, betas=(beta1, beta2))\n",
        "        elif optimizer_name == \"RMSprop\":\n",
        "            optimizer = optim.RMSprop(net.parameters(), lr=lr)\n",
        "        else:\n",
        "            # Added creating the Adagrad optimizer\n",
        "            optimizer = optim.Adagrad(net.parameters(), lr=lr)\n",
        "\n",
        "        # Creating the learning rate scheduler from its name\n",
        "        if scheduler_name == \"StepLR\":\n",
        "            step_size = trial.suggest_int(\"step_size\", 5, 15)\n",
        "            gamma = trial.suggest_uniform(\"gamma\", 0.1, 0.5)\n",
        "            scheduler = optim.lr_scheduler.StepLR(optimizer, step_size=step_size, gamma=gamma)\n",
        "        elif scheduler_name == \"ExponentialLR\":\n",
        "            gamma = trial.suggest_uniform(\"gamma\", 0.8, 0.99)\n",
        "            scheduler = optim.lr_scheduler.ExponentialLR(optimizer, gamma=gamma)\n",
        "        elif scheduler_name == \"CosineAnnealingLR\":\n",
        "            if n_epochs < 150:\n",
        "                t_max_fraction = trial.suggest_uniform('t_max_fraction', 0.1, 0.3)\n",
        "            elif n_epochs > 250:\n",
        "                t_max_fraction = trial.suggest_uniform('t_max_fraction', 0.05, 0.1)\n",
        "            else:\n",
        "                t_max_fraction = trial.suggest_uniform('t_max_fraction', 0.1, 0.2)\n",
        "\n",
        "            T_max = int(n_epochs * t_max_fraction)\n",
        "            eta_min = trial.suggest_loguniform(\"eta_min\", 1e-7, 1e-2)\n",
        "            scheduler = optim.lr_scheduler.CosineAnnealingLR(optimizer, T_max=T_max, eta_min=eta_min)\n",
        "        elif scheduler_name == \"ReduceLROnPlateau\":\n",
        "            # Added sampling the factor, patience and threshold for ReduceLROnPlateau\n",
        "            factor = trial.suggest_uniform(\"factor\", 0.1, 0.5)\n",
        "            patience = trial.suggest_int(\"patience\", 5, 10)\n",
        "            threshold = trial.suggest_loguniform(\"threshold\", 1e-4, 1e-2)\n",
        "            scheduler = optim.lr_scheduler.ReduceLROnPlateau(\n",
        "                optimizer, mode=\"min\", factor=factor, patience=patience, threshold=threshold\n",
        "            )\n",
        "        # # Added using OneCycleLR scheduler as an option\n",
        "        # elif scheduler_name == \"OneCycleLR\":\n",
        "        #         # Added sampling the max_lr and pct_start for OneCycleLR\n",
        "        #         max_lr = trial.suggest_loguniform(\"max_lr\", lr, 10 * lr) \n",
        "        #         pct_start = trial.suggest_uniform(\"pct_start\", 0.1, 0.9)\n",
        "        #         scheduler = optim.lr_scheduler.OneCycleLR(\n",
        "        #             optimizer,\n",
        "        #             max_lr=max_lr,\n",
        "        #             epochs=n_epochs,\n",
        "        #             steps_per_epoch=len(train_loader),\n",
        "        #             pct_start=pct_start,\n",
        "        #         )\n",
        "        else:\n",
        "            scheduler = None\n",
        "    else:\n",
        "        # Creating the optimizer from its name\n",
        "        if optimizer_name == \"SGD\":\n",
        "            optimizer = optim.SGD(net.parameters(), lr=lr)\n",
        "        elif optimizer_name == \"Adam\":\n",
        "            optimizer = optim.Adam(net.parameters(), lr=lr)\n",
        "        elif optimizer_name == \"RMSprop\":\n",
        "            optimizer = optim.RMSprop(net.parameters(), lr=lr)\n",
        "        else:\n",
        "            optimizer = optim.Adagrad(net.parameters(), lr=lr)\n",
        "\n",
        "        # Creating the learning rate scheduler from its name\n",
        "        if scheduler_name == \"StepLR\":\n",
        "            scheduler = optim.lr_scheduler.StepLR(optimizer, step_size=10, gamma=0.1)\n",
        "        elif scheduler_name == \"ExponentialLR\":\n",
        "            scheduler = optim.lr_scheduler.ExponentialLR(optimizer, gamma=0.9)\n",
        "        elif scheduler_name == \"CosineAnnealingLR\":\n",
        "            scheduler = optim.lr_scheduler.CosineAnnealingLR(optimizer)\n",
        "        elif scheduler_name == \"ReduceLROnPlateau\":\n",
        "            # Creating the ReduceLROnPlateau scheduler with a threshold value of 0.01\n",
        "            #scheduler = optim.lr_scheduler.ReduceLROnPlateau(\n",
        "            #    optimizer, mode=\"min\", factor=0.1, patience=10, threshold=0.01\n",
        "            #)\n",
        "            # Use Dieseldorst et al. settings and add to that a minimum lr.\n",
        "            scheduler = optim.lr_scheduler.ReduceLROnPlateau(\n",
        "                        optimizer, mode=\"min\", factor=0.18979341786654758, patience=11, threshold=0.0017197466122611932 #, min_lr=1e-6\n",
        "                    )\n",
        "        else:\n",
        "            scheduler = None\n",
        "\n",
        "    # Returning all variables needed for saving and loading\n",
        "    return net, loss_fn, optimizer, batch_size, n_epochs, scheduler, loss_name, optimizer_name, scheduler_name, n_units, n_layers, hidden_activation, output_activation, lr\n",
        "\n"
      ]
    },
    {
      "cell_type": "markdown",
      "metadata": {
        "id": "l-czA7VvUZiD"
      },
      "source": [
        " ## The training and evaluation loop\n",
        "\n",
        " We first define a couple of functions used in the training and evaluation."
      ]
    },
    {
      "cell_type": "code",
      "execution_count": 120,
      "metadata": {
        "id": "aD6FQNmxUZiD"
      },
      "outputs": [],
      "source": [
        "# Defining a function that computes loss and metrics for a given batch\n",
        "def compute_loss_and_metrics(y_pred, y_true, loss_fn):\n",
        "    \"\"\"Computes loss and metrics for a given batch.\n",
        "\n",
        "    Args:\n",
        "        y_pred (torch.Tensor): The predicted pressure tensor of shape (batch_size, 1).\n",
        "        y_true (torch.Tensor): The true pressure tensor of shape (batch_size,).\n",
        "        loss_fn (torch.nn.Module or function): The loss function to use.\n",
        "\n",
        "    Returns:\n",
        "        tuple: A tuple of (loss, l1_norm), where loss is a scalar tensor,\n",
        "            l1_norm is L1 norm for relative error of pressure,\n",
        "            each being a scalar tensor.\n",
        "            linf_norm is Linf norm for relative error of pressure.\n",
        "    \"\"\"\n",
        "    # Reshaping the target tensor to match the input tensor\n",
        "    y_true = y_true.view(-1, 1)\n",
        "\n",
        "    # Computing the loss using the loss function\n",
        "    loss = loss_fn(y_pred, y_true)\n",
        "\n",
        "    # Computing the relative error of pressure\n",
        "    rel_error = torch.abs((y_pred - y_true) / y_true)\n",
        "\n",
        "    # Computing the L1 norm for the relative error of pressure\n",
        "    l1_norm = torch.mean(rel_error) \n",
        "    # Computing the Linf norm for the relative error of pressure\n",
        "    linf_norm = torch.max(rel_error) \n",
        "\n",
        "    # Returning the loss and metrics\n",
        "    return loss, l1_norm, linf_norm\n",
        "\n",
        "\n",
        "# Defining a function that updates the learning rate scheduler with validation loss if applicable\n",
        "def update_scheduler(scheduler, test_loss):\n",
        "    \"\"\"Updates the learning rate scheduler with validation loss if applicable.\n",
        "\n",
        "    Args:\n",
        "        scheduler (torch.optim.lr_scheduler._LRScheduler or None): The learning rate scheduler to use.\n",
        "        test_loss (float): The validation loss to use.\n",
        "\n",
        "    Returns:\n",
        "        None\n",
        "    \"\"\"\n",
        "    # Checking if scheduler is not None\n",
        "    if scheduler is not None:\n",
        "        # Checking if scheduler is ReduceLROnPlateau\n",
        "        if isinstance(scheduler, optim.lr_scheduler.ReduceLROnPlateau):\n",
        "            # Updating the scheduler with test_loss\n",
        "            scheduler.step(test_loss)\n",
        "        else:\n",
        "            # Updating the scheduler without test_loss\n",
        "            scheduler.step()\n"
      ]
    },
    {
      "cell_type": "markdown",
      "metadata": {
        "id": "w1nE662UUZiE"
      },
      "source": [
        "Now for the actual training and evaluation loop,"
      ]
    },
    {
      "cell_type": "code",
      "execution_count": 121,
      "metadata": {
        "id": "YAOjgKW3UZiF"
      },
      "outputs": [],
      "source": [
        "# Defining a function to train and evaluate a network\n",
        "def train_and_eval(net, loss_fn, optimizer, batch_size, n_epochs, scheduler, trial=None):\n",
        "    \"\"\"Trains and evaluates a network.\n",
        "\n",
        "    Args:\n",
        "        net (torch.nn.Module): The network to train and evaluate.\n",
        "        loss_fn (torch.nn.Module or function): The loss function.\n",
        "        optimizer (torch.optim.Optimizer): The optimizer.\n",
        "        batch_size (int): The batch size.\n",
        "        n_epochs (int): The number of epochs.\n",
        "        scheduler (torch.optim.lr_scheduler._LRScheduler or None): The learning rate scheduler.\n",
        "    Returns:\n",
        "        tuple: A tuple of (train_losses, test_losses, train_metrics, test_metrics), where\n",
        "            train_losses is a list of training losses for each epoch,\n",
        "            test_losses is a list of validation losses for each epoch,\n",
        "            train_metrics is a list of dictionaries containing training metrics for each epoch,\n",
        "            test_metrics is a list of dictionaries containing validation metrics for each epoch.\n",
        "    \"\"\"\n",
        "    # Creating data loaders for train and test sets\n",
        "    train_loader = torch.utils.data.DataLoader(\n",
        "        torch.utils.data.TensorDataset(x_train, y_train), batch_size=batch_size, shuffle=True\n",
        "    )\n",
        "    test_loader = torch.utils.data.DataLoader(\n",
        "        torch.utils.data.TensorDataset(x_test, y_test), batch_size=batch_size\n",
        "    )\n",
        "\n",
        "    # Initializing lists to store the losses and metrics for each epoch\n",
        "    train_losses = []\n",
        "    test_losses = []\n",
        "    train_metrics = []\n",
        "    test_metrics = []\n",
        "\n",
        "    # Creating a SummaryWriter object to log data for tensorboard\n",
        "    writer = tbx.SummaryWriter()\n",
        "\n",
        "    # Looping over the epochs\n",
        "    for epoch in range(n_epochs):\n",
        "\n",
        "        # Setting the network to training mode\n",
        "        net.train()\n",
        "\n",
        "        # Initializing variables to store the total loss and metrics for the train set\n",
        "        train_loss = 0.0\n",
        "        train_l1_norm = 0.0\n",
        "        train_linf_norm = 0.0\n",
        "\n",
        "        # Looping over the batches in the train set\n",
        "        for x_batch, y_batch in train_loader:\n",
        "\n",
        "            # Moving the batch tensors to the device\n",
        "            x_batch = x_batch.to(device)\n",
        "            y_batch = y_batch.to(device)\n",
        "\n",
        "            # Zeroing the gradients\n",
        "            optimizer.zero_grad()\n",
        "\n",
        "            # Performing a forward pass and computing the loss and metrics\n",
        "            y_pred = net(x_batch)\n",
        "            loss, l1_norm, linf_norm = compute_loss_and_metrics(\n",
        "                y_pred, y_batch, loss_fn\n",
        "            )\n",
        "\n",
        "\n",
        "            # Performing a backward pass and updating the weights\n",
        "            loss.backward()\n",
        "            optimizer.step()\n",
        "\n",
        "            # Updating the total loss and metrics for the train set\n",
        "            train_loss += loss.item() * x_batch.size(0)\n",
        "            train_l1_norm += l1_norm.item() * x_batch.size(0)\n",
        "            train_linf_norm += linf_norm.item() * x_batch.size(0)\n",
        "\n",
        "        # Computing the average loss and metrics for the train set\n",
        "        train_loss /= len(train_loader.dataset)\n",
        "        train_l1_norm /= len(train_loader.dataset)\n",
        "        train_linf_norm /= len(train_loader.dataset)\n",
        "\n",
        "        # Appending the average loss and metrics for the train set to the lists\n",
        "        train_losses.append(train_loss)\n",
        "        train_metrics.append(\n",
        "            {\n",
        "                \"l1_norm\": train_l1_norm,\n",
        "                \"linf_norm\": train_linf_norm,\n",
        "            }\n",
        "        )\n",
        "\n",
        "        # Logging the average loss and metrics for the train set to tensorboard\n",
        "        writer.add_scalar(\"Loss/train\", train_loss, epoch)\n",
        "        writer.add_scalar(\"L1 norm/train\", train_l1_norm, epoch)\n",
        "        writer.add_scalar(\"Linf norm/train\", train_linf_norm, epoch)\n",
        "\n",
        "        # Setting the network to evaluation mode\n",
        "        net.eval()\n",
        "\n",
        "        # Initializing variables to store the total loss and metrics for the test set\n",
        "        test_loss = 0.0\n",
        "        test_l1_norm = 0.0\n",
        "        test_linf_norm = 0.0\n",
        "\n",
        "        # Looping over the batches in the test set\n",
        "        with torch.no_grad():\n",
        "            for x_batch, y_batch in test_loader:\n",
        "\n",
        "                # Moving the batch tensors to the device\n",
        "                x_batch = x_batch.to(device)\n",
        "                y_batch = y_batch.to(device)\n",
        "\n",
        "                # Performing a forward pass and computing the loss and metrics\n",
        "                y_pred = net(x_batch)\n",
        "                loss, l1_norm, linf_norm = compute_loss_and_metrics(\n",
        "                    y_pred, y_batch, loss_fn\n",
        "                )\n",
        "\n",
        "\n",
        "                # Updating the total loss and metrics for the test set\n",
        "                test_loss += loss.item() * x_batch.size(0)\n",
        "                test_l1_norm += l1_norm.item() * x_batch.size(0)\n",
        "                test_linf_norm += linf_norm.item() * x_batch.size(0)\n",
        "\n",
        "        # Computing the average loss and metrics for the test set\n",
        "        test_loss /= len(test_loader.dataset)\n",
        "        test_l1_norm /= len(test_loader.dataset)\n",
        "        test_linf_norm /= len(test_loader.dataset)\n",
        "\n",
        "        # Appending the average loss and metrics for the test set to the lists\n",
        "        test_losses.append(test_loss)\n",
        "        test_metrics.append(\n",
        "            {\n",
        "                \"l1_norm\": test_l1_norm,\n",
        "                \"linf_norm\": test_linf_norm,\n",
        "            }\n",
        "        )\n",
        "\n",
        "        # Logging the average loss and metrics for the test set to tensorboard\n",
        "        writer.add_scalar(\"Loss/test\", test_loss, epoch)\n",
        "        writer.add_scalar(\"L1 norm/test\", test_l1_norm, epoch)\n",
        "        writer.add_scalar(\"Linf norm/test\", test_linf_norm, epoch)\n",
        "\n",
        "        # Printing the average loss and metrics for both sets for this epoch\n",
        "        print(\n",
        "            f\"Epoch {epoch + 1}: Train Loss: {train_loss:.4f}, Test Loss: {test_loss:.4f}, \"\n",
        "            f\"Train L1 Norm: {train_l1_norm:.4f}, Test L1 Norm: {test_l1_norm:.4f}, \"\n",
        "            f\"Train Linf Norm: {train_linf_norm:.4f}, Test Linf Norm: {test_linf_norm:.4f}\"\n",
        "        )\n",
        "\n",
        "        # Updating the learning rate scheduler with validation loss if applicable\n",
        "        update_scheduler(scheduler, test_loss)\n",
        "\n",
        "        # Reporting the intermediate metric value to Optuna if trial is not None\n",
        "        if trial is not None:\n",
        "            trial.report(test_metrics[-1][\"l1_norm\"], epoch)\n",
        "\n",
        "            # Checking if the trial should be pruned based on the intermediate value if trial is not None\n",
        "            if trial.should_prune():\n",
        "                raise optuna.TrialPruned()\n",
        "\n",
        "    # Closing the SummaryWriter object\n",
        "    writer.close()\n",
        "\n",
        "    # Returning the losses and metrics lists\n",
        "    return train_losses, test_losses, train_metrics, test_metrics"
      ]
    },
    {
      "cell_type": "markdown",
      "metadata": {
        "id": "xg9jz0SvUZiQ"
      },
      "source": [
        "## The objective function and hyperparameter tuning"
      ]
    },
    {
      "cell_type": "code",
      "execution_count": 122,
      "metadata": {
        "id": "fmRncQPuUZiR"
      },
      "outputs": [],
      "source": [
        "# Defining an objective function for Optuna to minimize\n",
        "def objective(trial):\n",
        "    \"\"\"Defines an objective function for Optuna to minimize.\n",
        "\n",
        "    Args:\n",
        "        trial (optuna.trial.Trial): The trial object that contains the hyperparameters.\n",
        "\n",
        "    Returns:\n",
        "        float: The validation L1 norm to minimize.\n",
        "    \"\"\"\n",
        "    # Creating a trial network and optimizer using the create_model function\n",
        "    net, \\\n",
        "    loss_fn, \\\n",
        "    optimizer, \\\n",
        "    batch_size, \\\n",
        "    n_epochs, \\\n",
        "    scheduler, \\\n",
        "    loss_name, \\\n",
        "    optimizer_name, \\\n",
        "    scheduler_name, \\\n",
        "    n_units, \\\n",
        "    n_layers, \\\n",
        "    hidden_activation, \\\n",
        "    output_activation, \\\n",
        "    lr = create_model(trial, optimize=True)\n",
        "\n",
        "    # Training and evaluating the network using the train_and_eval function\n",
        "    _, _, _, test_metrics = train_and_eval(\n",
        "        net, loss_fn, optimizer, batch_size, n_epochs, scheduler, trial\n",
        "    )\n",
        "\n",
        "    # Returning the last validation L1 norm as the objective value to minimize\n",
        "    return test_metrics[-1][\"l1_norm\"]"
      ]
    },
    {
      "cell_type": "code",
      "execution_count": 123,
      "metadata": {
        "id": "GyES4NAyUZiS"
      },
      "outputs": [],
      "source": [
        "if OPTIMIZE:\n",
        "    # Creating a study object with Optuna with TPE sampler and median pruner \n",
        "    study = optuna.create_study(direction=\"minimize\", sampler=optuna.samplers.TPESampler(), pruner=optuna.pruners.MedianPruner())\n",
        "\n",
        "    # Running Optuna with 100 trials when we are optimizing.\n",
        "    study.optimize(objective, n_trials=N_TRIALS)\n",
        "\n",
        "    # Printing the best trial information\n",
        "    print(\"Best trial:\")\n",
        "    trial = study.best_trial\n",
        "    print(\"  Value: \", trial.value)\n",
        "    print(\"  Params: \")\n",
        "    for key, value in trial.params.items():\n",
        "        print(f\"    {key}: {value}\")\n"
      ]
    },
    {
      "cell_type": "markdown",
      "metadata": {
        "id": "jmMfE9_dUZiS"
      },
      "source": [
        "## Training the model"
      ]
    },
    {
      "cell_type": "code",
      "execution_count": 124,
      "metadata": {
        "id": "phyiHlWEUZiT"
      },
      "outputs": [],
      "source": [
        "# Creating the best network and optimizer using the best hyperparameters\n",
        "if OPTIMIZE:\n",
        "    net, \\\n",
        "    loss_fn, \\\n",
        "    optimizer, \\\n",
        "    batch_size, \\\n",
        "    n_epochs, \\\n",
        "    scheduler, \\\n",
        "    loss_name, \\\n",
        "    optimizer_name, \\\n",
        "    scheduler_name, \\\n",
        "    n_units, \\\n",
        "    n_layers, \\\n",
        "    hidden_activation, \\\n",
        "    output_activation, \\\n",
        "    lr = create_model(trial, optimize=True)\n",
        "# Creating the network with predefined hyperparameters\n",
        "else:\n",
        "    net, \\\n",
        "    loss_fn, \\\n",
        "    optimizer, \\\n",
        "    batch_size, \\\n",
        "    n_epochs, \\\n",
        "    scheduler, \\\n",
        "    loss_name, \\\n",
        "    optimizer_name, \\\n",
        "    scheduler_name, \\\n",
        "    n_units, \\\n",
        "    n_layers, \\\n",
        "    hidden_activation, \\\n",
        "    output_activation, \\\n",
        "    lr = create_model(trial=None, optimize=False)"
      ]
    },
    {
      "cell_type": "code",
      "execution_count": 125,
      "metadata": {
        "colab": {
          "base_uri": "https://localhost:8080/"
        },
        "id": "_yq-oY81UZiU",
        "outputId": "a33166d9-c245-4b75-f8bb-0c5daa954782"
      },
      "outputs": [
        {
          "output_type": "stream",
          "name": "stdout",
          "text": [
            "loss_fn: SmoothL1Loss()\n",
            "batch_size: 49\n",
            "n_epochs: 100\n",
            "scheduler: <torch.optim.lr_scheduler.ReduceLROnPlateau object at 0x7fcf620ddc90>\n",
            "loss_name: Huber\n",
            "optimizer_name: RMSprop\n",
            "scheduler_name: ReduceLROnPlateau\n",
            "n_units: [555, 458, 115]\n",
            "n_layers: 3\n",
            "hidden_activation: ReLU()\n",
            "output_activation: ReLU()\n"
          ]
        }
      ],
      "source": [
        "print(\"loss_fn:\", loss_fn)\n",
        "print(\"batch_size:\", batch_size)\n",
        "print(\"n_epochs:\", n_epochs)\n",
        "print(\"scheduler:\", scheduler)\n",
        "print(\"loss_name:\", loss_name)\n",
        "print(\"optimizer_name:\", optimizer_name)\n",
        "print(\"scheduler_name:\", scheduler_name)\n",
        "print(\"n_units:\", n_units)\n",
        "print(\"n_layers:\", n_layers)\n",
        "print(\"hidden_activation:\", hidden_activation)\n",
        "print(\"output_activation:\", output_activation)"
      ]
    },
    {
      "cell_type": "code",
      "execution_count": 126,
      "metadata": {
        "colab": {
          "base_uri": "https://localhost:8080/"
        },
        "id": "E7aLWdZyUZiW",
        "outputId": "f1f9d61a-142b-4f96-c9af-ace3605ad56c"
      },
      "outputs": [
        {
          "output_type": "stream",
          "name": "stdout",
          "text": [
            "Epoch 1: Train Loss: 523.3986, Test Loss: 535.1487, Train L1 Norm: 1.3656, Test L1 Norm: 1.9240, Train Linf Norm: 9.9305, Test Linf Norm: 16.2117\n",
            "Epoch 2: Train Loss: 532.4044, Test Loss: 493.8957, Train L1 Norm: 1.7016, Test L1 Norm: 1.0021, Train Linf Norm: 14.1449, Test Linf Norm: 1.8618\n",
            "Epoch 3: Train Loss: 497.9902, Test Loss: 504.6839, Train L1 Norm: 1.8704, Test L1 Norm: 1.9603, Train Linf Norm: 17.2970, Test Linf Norm: 27.8451\n",
            "Epoch 4: Train Loss: 477.0039, Test Loss: 649.7973, Train L1 Norm: 2.1030, Test L1 Norm: 4.2114, Train Linf Norm: 24.4781, Test Linf Norm: 53.2055\n",
            "Epoch 5: Train Loss: 455.1877, Test Loss: 416.0682, Train L1 Norm: 1.7857, Test L1 Norm: 1.6299, Train Linf Norm: 20.5119, Test Linf Norm: 22.3499\n",
            "Epoch 6: Train Loss: 492.5630, Test Loss: 409.1205, Train L1 Norm: 1.7842, Test L1 Norm: 1.6152, Train Linf Norm: 21.5295, Test Linf Norm: 21.9142\n",
            "Epoch 7: Train Loss: 471.2869, Test Loss: 358.0284, Train L1 Norm: 1.6138, Test L1 Norm: 1.5107, Train Linf Norm: 17.7947, Test Linf Norm: 21.6011\n",
            "Epoch 8: Train Loss: 437.2345, Test Loss: 379.4098, Train L1 Norm: 1.5682, Test L1 Norm: 1.7115, Train Linf Norm: 18.5840, Test Linf Norm: 24.5706\n",
            "Epoch 9: Train Loss: 437.1190, Test Loss: 446.7202, Train L1 Norm: 1.4553, Test L1 Norm: 1.1250, Train Linf Norm: 16.4238, Test Linf Norm: 9.5249\n",
            "Epoch 10: Train Loss: 428.3266, Test Loss: 429.1039, Train L1 Norm: 1.4493, Test L1 Norm: 1.7035, Train Linf Norm: 16.5528, Test Linf Norm: 23.7306\n",
            "Epoch 11: Train Loss: 414.4603, Test Loss: 364.7908, Train L1 Norm: 1.3262, Test L1 Norm: 1.2811, Train Linf Norm: 14.8430, Test Linf Norm: 16.4100\n",
            "Epoch 12: Train Loss: 382.5111, Test Loss: 398.6552, Train L1 Norm: 1.2781, Test L1 Norm: 1.5486, Train Linf Norm: 13.2689, Test Linf Norm: 20.6259\n",
            "Epoch 13: Train Loss: 434.3342, Test Loss: 446.1102, Train L1 Norm: 1.1639, Test L1 Norm: 0.9811, Train Linf Norm: 10.8630, Test Linf Norm: 4.8644\n",
            "Epoch 14: Train Loss: 424.5068, Test Loss: 402.3405, Train L1 Norm: 1.2902, Test L1 Norm: 1.1806, Train Linf Norm: 12.9242, Test Linf Norm: 14.8478\n",
            "Epoch 15: Train Loss: 402.4733, Test Loss: 336.3636, Train L1 Norm: 1.1831, Test L1 Norm: 1.0902, Train Linf Norm: 11.2887, Test Linf Norm: 11.1800\n",
            "Epoch 16: Train Loss: 396.9793, Test Loss: 418.9925, Train L1 Norm: 1.1232, Test L1 Norm: 1.4617, Train Linf Norm: 9.5925, Test Linf Norm: 17.0279\n",
            "Epoch 17: Train Loss: 457.0580, Test Loss: 340.4262, Train L1 Norm: 1.2683, Test L1 Norm: 0.9839, Train Linf Norm: 12.7860, Test Linf Norm: 7.9673\n",
            "Epoch 18: Train Loss: 376.0856, Test Loss: 386.5716, Train L1 Norm: 1.1497, Test L1 Norm: 1.1814, Train Linf Norm: 10.7956, Test Linf Norm: 13.3996\n",
            "Epoch 19: Train Loss: 397.3080, Test Loss: 312.7286, Train L1 Norm: 1.2382, Test L1 Norm: 0.9688, Train Linf Norm: 12.4937, Test Linf Norm: 8.6748\n",
            "Epoch 20: Train Loss: 396.7833, Test Loss: 368.8913, Train L1 Norm: 1.1694, Test L1 Norm: 1.4254, Train Linf Norm: 11.8047, Test Linf Norm: 17.2150\n",
            "Epoch 21: Train Loss: 386.1779, Test Loss: 390.8916, Train L1 Norm: 1.1590, Test L1 Norm: 0.8717, Train Linf Norm: 10.8323, Test Linf Norm: 2.6289\n",
            "Epoch 22: Train Loss: 369.8040, Test Loss: 390.3726, Train L1 Norm: 1.2219, Test L1 Norm: 1.1880, Train Linf Norm: 12.7677, Test Linf Norm: 15.1975\n",
            "Epoch 23: Train Loss: 366.1290, Test Loss: 339.9782, Train L1 Norm: 1.1139, Test L1 Norm: 0.9892, Train Linf Norm: 10.9692, Test Linf Norm: 9.9304\n",
            "Epoch 24: Train Loss: 432.6394, Test Loss: 443.7050, Train L1 Norm: 1.1521, Test L1 Norm: 0.9120, Train Linf Norm: 10.6589, Test Linf Norm: 1.4163\n",
            "Epoch 25: Train Loss: 398.4308, Test Loss: 391.8749, Train L1 Norm: 1.1661, Test L1 Norm: 1.7217, Train Linf Norm: 11.4747, Test Linf Norm: 24.8090\n",
            "Epoch 26: Train Loss: 393.3835, Test Loss: 344.8894, Train L1 Norm: 1.0930, Test L1 Norm: 0.9586, Train Linf Norm: 10.0400, Test Linf Norm: 7.2245\n",
            "Epoch 27: Train Loss: 376.3525, Test Loss: 382.1133, Train L1 Norm: 1.0894, Test L1 Norm: 0.8785, Train Linf Norm: 9.3974, Test Linf Norm: 2.4339\n",
            "Epoch 28: Train Loss: 383.7654, Test Loss: 379.2734, Train L1 Norm: 1.1978, Test L1 Norm: 0.8602, Train Linf Norm: 11.9084, Test Linf Norm: 2.6348\n",
            "Epoch 29: Train Loss: 382.9248, Test Loss: 346.5491, Train L1 Norm: 1.1070, Test L1 Norm: 1.4963, Train Linf Norm: 10.3981, Test Linf Norm: 18.3475\n",
            "Epoch 30: Train Loss: 357.6418, Test Loss: 419.1074, Train L1 Norm: 1.1456, Test L1 Norm: 1.1410, Train Linf Norm: 11.4991, Test Linf Norm: 14.0590\n",
            "Epoch 31: Train Loss: 372.4025, Test Loss: 339.1127, Train L1 Norm: 1.1655, Test L1 Norm: 0.9780, Train Linf Norm: 11.2735, Test Linf Norm: 8.8754\n",
            "Epoch 32: Train Loss: 312.1905, Test Loss: 340.2635, Train L1 Norm: 1.0326, Test L1 Norm: 1.2754, Train Linf Norm: 10.1014, Test Linf Norm: 16.4047\n",
            "Epoch 33: Train Loss: 293.8524, Test Loss: 330.3368, Train L1 Norm: 1.0722, Test L1 Norm: 1.1280, Train Linf Norm: 10.9377, Test Linf Norm: 13.3024\n",
            "Epoch 34: Train Loss: 296.2273, Test Loss: 354.0556, Train L1 Norm: 1.0785, Test L1 Norm: 1.3252, Train Linf Norm: 11.2499, Test Linf Norm: 17.6557\n",
            "Epoch 35: Train Loss: 291.4437, Test Loss: 288.7351, Train L1 Norm: 1.0567, Test L1 Norm: 1.1438, Train Linf Norm: 10.7085, Test Linf Norm: 13.4195\n",
            "Epoch 36: Train Loss: 291.8687, Test Loss: 402.3913, Train L1 Norm: 1.1590, Test L1 Norm: 1.3229, Train Linf Norm: 13.4478, Test Linf Norm: 18.6725\n",
            "Epoch 37: Train Loss: 297.5848, Test Loss: 279.6877, Train L1 Norm: 1.1031, Test L1 Norm: 1.0446, Train Linf Norm: 11.9437, Test Linf Norm: 10.8561\n",
            "Epoch 38: Train Loss: 294.5403, Test Loss: 281.9540, Train L1 Norm: 1.0654, Test L1 Norm: 1.0442, Train Linf Norm: 11.2834, Test Linf Norm: 11.0928\n",
            "Epoch 39: Train Loss: 287.8819, Test Loss: 274.4441, Train L1 Norm: 1.0659, Test L1 Norm: 0.9636, Train Linf Norm: 11.1283, Test Linf Norm: 8.4563\n",
            "Epoch 40: Train Loss: 284.8589, Test Loss: 306.6682, Train L1 Norm: 1.0647, Test L1 Norm: 1.0152, Train Linf Norm: 11.1113, Test Linf Norm: 9.4758\n",
            "Epoch 41: Train Loss: 296.7359, Test Loss: 287.1310, Train L1 Norm: 1.0638, Test L1 Norm: 1.0711, Train Linf Norm: 11.0848, Test Linf Norm: 11.2592\n",
            "Epoch 42: Train Loss: 289.5643, Test Loss: 326.6968, Train L1 Norm: 1.0860, Test L1 Norm: 1.1749, Train Linf Norm: 11.8085, Test Linf Norm: 15.0080\n",
            "Epoch 43: Train Loss: 285.9358, Test Loss: 290.0683, Train L1 Norm: 1.0534, Test L1 Norm: 1.1718, Train Linf Norm: 11.1090, Test Linf Norm: 14.4170\n",
            "Epoch 44: Train Loss: 290.4404, Test Loss: 300.8687, Train L1 Norm: 1.0848, Test L1 Norm: 1.2726, Train Linf Norm: 11.8185, Test Linf Norm: 16.8925\n",
            "Epoch 45: Train Loss: 284.2948, Test Loss: 278.5683, Train L1 Norm: 1.0727, Test L1 Norm: 1.0515, Train Linf Norm: 11.6081, Test Linf Norm: 11.4447\n",
            "Epoch 46: Train Loss: 289.2524, Test Loss: 291.2450, Train L1 Norm: 1.0764, Test L1 Norm: 0.9924, Train Linf Norm: 11.8864, Test Linf Norm: 9.2891\n",
            "Epoch 47: Train Loss: 289.6262, Test Loss: 282.6666, Train L1 Norm: 1.0679, Test L1 Norm: 1.1471, Train Linf Norm: 11.5866, Test Linf Norm: 14.0178\n",
            "Epoch 48: Train Loss: 288.6853, Test Loss: 295.1154, Train L1 Norm: 1.0635, Test L1 Norm: 1.1622, Train Linf Norm: 11.1839, Test Linf Norm: 14.6067\n",
            "Epoch 49: Train Loss: 288.7425, Test Loss: 279.7253, Train L1 Norm: 1.0690, Test L1 Norm: 1.0070, Train Linf Norm: 11.6120, Test Linf Norm: 9.7860\n",
            "Epoch 50: Train Loss: 285.6392, Test Loss: 281.0337, Train L1 Norm: 1.0434, Test L1 Norm: 1.1360, Train Linf Norm: 11.0159, Test Linf Norm: 13.2740\n",
            "Epoch 51: Train Loss: 288.3160, Test Loss: 282.6711, Train L1 Norm: 1.0650, Test L1 Norm: 1.0592, Train Linf Norm: 11.5937, Test Linf Norm: 12.0682\n",
            "Epoch 52: Train Loss: 271.8603, Test Loss: 280.2876, Train L1 Norm: 1.0441, Test L1 Norm: 1.0780, Train Linf Norm: 11.3372, Test Linf Norm: 12.3451\n",
            "Epoch 53: Train Loss: 270.4799, Test Loss: 308.1149, Train L1 Norm: 1.0433, Test L1 Norm: 1.1406, Train Linf Norm: 11.3771, Test Linf Norm: 14.3056\n",
            "Epoch 54: Train Loss: 270.1281, Test Loss: 270.9444, Train L1 Norm: 1.0349, Test L1 Norm: 1.0920, Train Linf Norm: 11.1249, Test Linf Norm: 12.6995\n",
            "Epoch 55: Train Loss: 268.3973, Test Loss: 264.9948, Train L1 Norm: 1.0444, Test L1 Norm: 1.0565, Train Linf Norm: 11.3620, Test Linf Norm: 11.5891\n",
            "Epoch 56: Train Loss: 264.6230, Test Loss: 269.2178, Train L1 Norm: 1.0488, Test L1 Norm: 1.0194, Train Linf Norm: 11.5635, Test Linf Norm: 10.5525\n",
            "Epoch 57: Train Loss: 269.3246, Test Loss: 266.5465, Train L1 Norm: 1.0450, Test L1 Norm: 1.0817, Train Linf Norm: 11.5868, Test Linf Norm: 12.3581\n",
            "Epoch 58: Train Loss: 270.9004, Test Loss: 287.2549, Train L1 Norm: 1.0529, Test L1 Norm: 1.1169, Train Linf Norm: 11.7294, Test Linf Norm: 13.4903\n",
            "Epoch 59: Train Loss: 271.1231, Test Loss: 265.9698, Train L1 Norm: 1.0465, Test L1 Norm: 1.0463, Train Linf Norm: 11.7148, Test Linf Norm: 11.3544\n",
            "Epoch 60: Train Loss: 267.7386, Test Loss: 285.0443, Train L1 Norm: 1.0455, Test L1 Norm: 1.1557, Train Linf Norm: 11.6473, Test Linf Norm: 14.5462\n",
            "Epoch 61: Train Loss: 265.9604, Test Loss: 289.5249, Train L1 Norm: 1.0585, Test L1 Norm: 1.0498, Train Linf Norm: 11.8493, Test Linf Norm: 11.7446\n",
            "Epoch 62: Train Loss: 265.1034, Test Loss: 272.3876, Train L1 Norm: 1.0493, Test L1 Norm: 1.0926, Train Linf Norm: 11.6768, Test Linf Norm: 12.7401\n",
            "Epoch 63: Train Loss: 268.3691, Test Loss: 276.5412, Train L1 Norm: 1.0604, Test L1 Norm: 1.1112, Train Linf Norm: 11.8447, Test Linf Norm: 13.2830\n",
            "Epoch 64: Train Loss: 267.9339, Test Loss: 267.2237, Train L1 Norm: 1.0510, Test L1 Norm: 1.0569, Train Linf Norm: 11.6135, Test Linf Norm: 11.7847\n",
            "Epoch 65: Train Loss: 269.8577, Test Loss: 263.7503, Train L1 Norm: 1.0433, Test L1 Norm: 1.0760, Train Linf Norm: 11.4533, Test Linf Norm: 12.2257\n",
            "Epoch 66: Train Loss: 267.6412, Test Loss: 265.5347, Train L1 Norm: 1.0438, Test L1 Norm: 1.0835, Train Linf Norm: 11.4089, Test Linf Norm: 12.4850\n",
            "Epoch 67: Train Loss: 267.8438, Test Loss: 267.2254, Train L1 Norm: 1.0431, Test L1 Norm: 1.0864, Train Linf Norm: 11.3795, Test Linf Norm: 12.5913\n",
            "Epoch 68: Train Loss: 266.7146, Test Loss: 285.1472, Train L1 Norm: 1.0442, Test L1 Norm: 1.1455, Train Linf Norm: 11.5075, Test Linf Norm: 14.3203\n",
            "Epoch 69: Train Loss: 270.9254, Test Loss: 265.6155, Train L1 Norm: 1.0482, Test L1 Norm: 1.0371, Train Linf Norm: 11.6623, Test Linf Norm: 11.1328\n",
            "Epoch 70: Train Loss: 266.2600, Test Loss: 285.8056, Train L1 Norm: 1.0488, Test L1 Norm: 1.1197, Train Linf Norm: 11.4982, Test Linf Norm: 13.6994\n",
            "Epoch 71: Train Loss: 264.3266, Test Loss: 268.8777, Train L1 Norm: 1.0436, Test L1 Norm: 1.0824, Train Linf Norm: 11.6005, Test Linf Norm: 12.5779\n",
            "Epoch 72: Train Loss: 263.9545, Test Loss: 274.5423, Train L1 Norm: 1.0473, Test L1 Norm: 1.0749, Train Linf Norm: 11.7362, Test Linf Norm: 12.4095\n",
            "Epoch 73: Train Loss: 268.1059, Test Loss: 265.4162, Train L1 Norm: 1.0493, Test L1 Norm: 1.0340, Train Linf Norm: 11.7384, Test Linf Norm: 11.1305\n",
            "Epoch 74: Train Loss: 262.6370, Test Loss: 276.4895, Train L1 Norm: 1.0478, Test L1 Norm: 1.0955, Train Linf Norm: 11.6931, Test Linf Norm: 13.0384\n",
            "Epoch 75: Train Loss: 270.9023, Test Loss: 266.9197, Train L1 Norm: 1.0516, Test L1 Norm: 1.0883, Train Linf Norm: 11.6615, Test Linf Norm: 12.6922\n",
            "Epoch 76: Train Loss: 266.7062, Test Loss: 267.1627, Train L1 Norm: 1.0512, Test L1 Norm: 1.0632, Train Linf Norm: 11.7945, Test Linf Norm: 12.0756\n",
            "Epoch 77: Train Loss: 264.1541, Test Loss: 272.7676, Train L1 Norm: 1.0488, Test L1 Norm: 1.0897, Train Linf Norm: 11.7729, Test Linf Norm: 12.9142\n",
            "Epoch 78: Train Loss: 265.2796, Test Loss: 267.1657, Train L1 Norm: 1.0420, Test L1 Norm: 1.0674, Train Linf Norm: 11.5837, Test Linf Norm: 12.2368\n",
            "Epoch 79: Train Loss: 260.3850, Test Loss: 267.5117, Train L1 Norm: 1.0381, Test L1 Norm: 1.0930, Train Linf Norm: 11.5901, Test Linf Norm: 12.9587\n",
            "Epoch 80: Train Loss: 262.8864, Test Loss: 264.4621, Train L1 Norm: 1.0454, Test L1 Norm: 1.0659, Train Linf Norm: 11.6673, Test Linf Norm: 12.1489\n",
            "Epoch 81: Train Loss: 260.9834, Test Loss: 263.5996, Train L1 Norm: 1.0412, Test L1 Norm: 1.0652, Train Linf Norm: 11.4934, Test Linf Norm: 12.1091\n",
            "Epoch 82: Train Loss: 260.0721, Test Loss: 264.9640, Train L1 Norm: 1.0406, Test L1 Norm: 1.0788, Train Linf Norm: 11.5317, Test Linf Norm: 12.5298\n",
            "Epoch 83: Train Loss: 261.9145, Test Loss: 264.1327, Train L1 Norm: 1.0444, Test L1 Norm: 1.0607, Train Linf Norm: 11.6345, Test Linf Norm: 11.9996\n",
            "Epoch 84: Train Loss: 259.4967, Test Loss: 265.9790, Train L1 Norm: 1.0367, Test L1 Norm: 1.0845, Train Linf Norm: 11.4201, Test Linf Norm: 12.7104\n",
            "Epoch 85: Train Loss: 262.0699, Test Loss: 264.4184, Train L1 Norm: 1.0436, Test L1 Norm: 1.0718, Train Linf Norm: 11.6738, Test Linf Norm: 12.3236\n",
            "Epoch 86: Train Loss: 260.6836, Test Loss: 263.4451, Train L1 Norm: 1.0407, Test L1 Norm: 1.0673, Train Linf Norm: 11.4425, Test Linf Norm: 12.1752\n",
            "Epoch 87: Train Loss: 261.2702, Test Loss: 263.8109, Train L1 Norm: 1.0477, Test L1 Norm: 1.0611, Train Linf Norm: 11.6984, Test Linf Norm: 12.0064\n",
            "Epoch 88: Train Loss: 260.2000, Test Loss: 262.0670, Train L1 Norm: 1.0352, Test L1 Norm: 1.0593, Train Linf Norm: 11.3664, Test Linf Norm: 11.9144\n",
            "Epoch 89: Train Loss: 262.3652, Test Loss: 264.1730, Train L1 Norm: 1.0471, Test L1 Norm: 1.0758, Train Linf Norm: 11.6730, Test Linf Norm: 12.4406\n",
            "Epoch 90: Train Loss: 260.1298, Test Loss: 263.2364, Train L1 Norm: 1.0368, Test L1 Norm: 1.0756, Train Linf Norm: 11.4407, Test Linf Norm: 12.4114\n",
            "Epoch 91: Train Loss: 260.8982, Test Loss: 264.6166, Train L1 Norm: 1.0505, Test L1 Norm: 1.0673, Train Linf Norm: 11.8290, Test Linf Norm: 12.1875\n",
            "Epoch 92: Train Loss: 261.1260, Test Loss: 264.9733, Train L1 Norm: 1.0406, Test L1 Norm: 1.0660, Train Linf Norm: 11.7261, Test Linf Norm: 12.1683\n",
            "Epoch 93: Train Loss: 261.4539, Test Loss: 263.4772, Train L1 Norm: 1.0360, Test L1 Norm: 1.0634, Train Linf Norm: 11.2957, Test Linf Norm: 12.0720\n",
            "Epoch 94: Train Loss: 260.8139, Test Loss: 263.3296, Train L1 Norm: 1.0400, Test L1 Norm: 1.0671, Train Linf Norm: 11.4492, Test Linf Norm: 12.1727\n",
            "Epoch 95: Train Loss: 261.1006, Test Loss: 262.9481, Train L1 Norm: 1.0428, Test L1 Norm: 1.0590, Train Linf Norm: 11.6423, Test Linf Norm: 11.9340\n",
            "Epoch 96: Train Loss: 262.7442, Test Loss: 263.6806, Train L1 Norm: 1.0401, Test L1 Norm: 1.0574, Train Linf Norm: 11.6239, Test Linf Norm: 11.9066\n",
            "Epoch 97: Train Loss: 260.2890, Test Loss: 261.6315, Train L1 Norm: 1.0314, Test L1 Norm: 1.0595, Train Linf Norm: 11.1588, Test Linf Norm: 11.9211\n",
            "Epoch 98: Train Loss: 260.1834, Test Loss: 262.4860, Train L1 Norm: 1.0408, Test L1 Norm: 1.0694, Train Linf Norm: 11.5569, Test Linf Norm: 12.2268\n",
            "Epoch 99: Train Loss: 263.3812, Test Loss: 264.5169, Train L1 Norm: 1.0448, Test L1 Norm: 1.0743, Train Linf Norm: 11.7048, Test Linf Norm: 12.3934\n",
            "Epoch 100: Train Loss: 261.1725, Test Loss: 264.1542, Train L1 Norm: 1.0349, Test L1 Norm: 1.0842, Train Linf Norm: 11.3294, Test Linf Norm: 12.6900\n"
          ]
        }
      ],
      "source": [
        "# Training and evaluating the network using the train_and_eval function\n",
        "train_losses, test_losses, train_metrics, test_metrics = train_and_eval(\n",
        "    net, loss_fn, optimizer, batch_size, n_epochs, scheduler\n",
        ")"
      ]
    },
    {
      "cell_type": "markdown",
      "metadata": {
        "id": "akNucrgMUZiW"
      },
      "source": [
        "## Saving"
      ]
    },
    {
      "cell_type": "code",
      "execution_count": 127,
      "metadata": {
        "id": "LHsrs2Y-UZic"
      },
      "outputs": [],
      "source": [
        "import json\n",
        "\n",
        "# save the network to a .pth file\n",
        "torch.save(net.state_dict(), \"net.pth\")\n",
        "save_file(\"net.pth\")\n",
        "\n",
        "# save the optimizer to a .pth file\n",
        "torch.save(optimizer.state_dict(), \"optimizer.pth\")\n",
        "save_file(\"optimizer.pth\")\n",
        "\n",
        "# save the scheduler to a .pth file if it is not None\n",
        "if scheduler is not None:\n",
        "  torch.save(scheduler.state_dict(), \"scheduler.pth\")\n",
        "  save_file(\"scheduler.pth\")\n",
        "\n",
        "# create a dictionary to store the rest of the variables\n",
        "var_dict = {\n",
        "  \"batch_size\": batch_size,\n",
        "  \"n_epochs\": n_epochs,\n",
        "  \"loss_name\": loss_name,\n",
        "  \"optimizer_name\": optimizer_name,\n",
        "  \"scheduler_name\": scheduler_name,\n",
        "  \"n_units\": n_units,\n",
        "  \"n_layers\": n_layers,\n",
        "  \"hidden_activation_name\": hidden_activation.__class__.__name__,\n",
        "  \"output_activation_name\": output_activation.__class__.__name__,\n",
        "  \"lr\": lr,\n",
        "}\n",
        "\n",
        "# save the dictionary to a .json file\n",
        "with open(\"var_dict.json\", \"w\") as f:\n",
        "  json.dump(var_dict, f)\n",
        "save_file(\"var_dict.json\")\n",
        "\n",
        "# Saving the output of the training using pandas\n",
        "train_df = pd.DataFrame(\n",
        "    {\n",
        "        \"train_loss\": train_losses,\n",
        "        \"test_loss\": test_losses,\n",
        "        \"train_l1_norm\": [m[\"l1_norm\"] for m in train_metrics],\n",
        "        \"test_l1_norm\": [m[\"l1_norm\"] for m in test_metrics],\n",
        "        \"train_linf_norm\": [m[\"linf_norm\"] for m in train_metrics],\n",
        "        \"test_linf_norm\": [m[\"linf_norm\"] for m in test_metrics],\n",
        "    }\n",
        ")\n",
        "train_df.to_csv(\"train_output.csv\", index=False)\n",
        "save_file(\"train_output.csv\")\n"
      ]
    },
    {
      "cell_type": "markdown",
      "metadata": {
        "id": "qU23l7dIUZie"
      },
      "source": [
        "## Visualizing the results"
      ]
    },
    {
      "cell_type": "code",
      "execution_count": 128,
      "metadata": {
        "colab": {
          "base_uri": "https://localhost:8080/",
          "height": 1000
        },
        "id": "cippWZS6UZie",
        "outputId": "93cd6a70-6fd0-41e4-a160-9b72e1e64b91"
      },
      "outputs": [
        {
          "output_type": "execute_result",
          "data": {
            "text/plain": [
              "<Figure size 1200x800 with 0 Axes>"
            ]
          },
          "metadata": {},
          "execution_count": 128
        },
        {
          "output_type": "execute_result",
          "data": {
            "text/plain": [
              "<Axes: >"
            ]
          },
          "metadata": {},
          "execution_count": 128
        },
        {
          "output_type": "execute_result",
          "data": {
            "text/plain": [
              "[<matplotlib.lines.Line2D at 0x7fcf8663a080>]"
            ]
          },
          "metadata": {},
          "execution_count": 128
        },
        {
          "output_type": "execute_result",
          "data": {
            "text/plain": [
              "[<matplotlib.lines.Line2D at 0x7fcf63f693c0>]"
            ]
          },
          "metadata": {},
          "execution_count": 128
        },
        {
          "output_type": "execute_result",
          "data": {
            "text/plain": [
              "Text(0.5, 0, 'Epoch')"
            ]
          },
          "metadata": {},
          "execution_count": 128
        },
        {
          "output_type": "execute_result",
          "data": {
            "text/plain": [
              "Text(0, 0.5, 'L1 Norm')"
            ]
          },
          "metadata": {},
          "execution_count": 128
        },
        {
          "output_type": "execute_result",
          "data": {
            "text/plain": [
              "(0.001, 100.0)"
            ]
          },
          "metadata": {},
          "execution_count": 128
        },
        {
          "output_type": "execute_result",
          "data": {
            "text/plain": [
              "<matplotlib.legend.Legend at 0x7fcf634700a0>"
            ]
          },
          "metadata": {},
          "execution_count": 128
        },
        {
          "output_type": "execute_result",
          "data": {
            "text/plain": [
              "<Axes: >"
            ]
          },
          "metadata": {},
          "execution_count": 128
        },
        {
          "output_type": "execute_result",
          "data": {
            "text/plain": [
              "[<matplotlib.lines.Line2D at 0x7fcf866c49a0>]"
            ]
          },
          "metadata": {},
          "execution_count": 128
        },
        {
          "output_type": "execute_result",
          "data": {
            "text/plain": [
              "[<matplotlib.lines.Line2D at 0x7fcf866c5ba0>]"
            ]
          },
          "metadata": {},
          "execution_count": 128
        },
        {
          "output_type": "execute_result",
          "data": {
            "text/plain": [
              "Text(0.5, 0, 'Epoch')"
            ]
          },
          "metadata": {},
          "execution_count": 128
        },
        {
          "output_type": "execute_result",
          "data": {
            "text/plain": [
              "Text(0, 0.5, 'Linf Norm')"
            ]
          },
          "metadata": {},
          "execution_count": 128
        },
        {
          "output_type": "execute_result",
          "data": {
            "text/plain": [
              "(0.001, 100.0)"
            ]
          },
          "metadata": {},
          "execution_count": 128
        },
        {
          "output_type": "execute_result",
          "data": {
            "text/plain": [
              "<matplotlib.legend.Legend at 0x7fcf8472feb0>"
            ]
          },
          "metadata": {},
          "execution_count": 128
        },
        {
          "output_type": "display_data",
          "data": {
            "text/plain": [
              "<Figure size 1200x800 with 2 Axes>"
            ],
            "image/png": "[encoded data removed]"
          },
          "metadata": {}
        },
        {
          "output_type": "execute_result",
          "data": {
            "text/plain": [
              "<Figure size 800x600 with 0 Axes>"
            ]
          },
          "metadata": {},
          "execution_count": 128
        },
        {
          "output_type": "execute_result",
          "data": {
            "text/plain": [
              "[<matplotlib.lines.Line2D at 0x7fcf8d22dcf0>]"
            ]
          },
          "metadata": {},
          "execution_count": 128
        },
        {
          "output_type": "execute_result",
          "data": {
            "text/plain": [
              "[<matplotlib.lines.Line2D at 0x7fcf8d22fac0>]"
            ]
          },
          "metadata": {},
          "execution_count": 128
        },
        {
          "output_type": "execute_result",
          "data": {
            "text/plain": [
              "Text(0.5, 0, 'Epoch')"
            ]
          },
          "metadata": {},
          "execution_count": 128
        },
        {
          "output_type": "execute_result",
          "data": {
            "text/plain": [
              "Text(0, 0.5, 'Huber Loss')"
            ]
          },
          "metadata": {},
          "execution_count": 128
        },
        {
          "output_type": "execute_result",
          "data": {
            "text/plain": [
              "(1e-07, 1.0)"
            ]
          },
          "metadata": {},
          "execution_count": 128
        },
        {
          "output_type": "execute_result",
          "data": {
            "text/plain": [
              "<matplotlib.legend.Legend at 0x7fcf632fb4c0>"
            ]
          },
          "metadata": {},
          "execution_count": 128
        },
        {
          "output_type": "display_data",
          "data": {
            "text/plain": [
              "<Figure size 800x600 with 1 Axes>"
            ],
            "image/png": "[encoded data removed]"
          },
          "metadata": {}
        }
      ],
      "source": [
        "# Plotting the losses and metrics for the best network \n",
        "plt.figure(figsize=(12, 8))\n",
        "#plt.subplot(2, 2, 1)\n",
        "#plt.plot(train_losses, label=\"Train Loss\")\n",
        "#plt.plot(test_losses, label=\"Test Loss\")\n",
        "#plt.xlabel(\"Epoch\")\n",
        "#plt.ylabel(\"Loss\")\n",
        "#plt.legend()\n",
        "plt.subplot(2, 2, 2)\n",
        "plt.plot([m[\"l1_norm\"] for m in train_metrics], label=\"Train L1 Norm\")\n",
        "plt.plot([m[\"l1_norm\"] for m in test_metrics], label=\"Test L1 Norm\")\n",
        "plt.xlabel(\"Epoch\")\n",
        "plt.ylabel(\"L1 Norm\")\n",
        "# Added setting the vertical axis to be in powers of 10\n",
        "plt.yscale(\"log\")\n",
        "# Added setting the vertical axis limits to be from 10^-7 to 10^0\n",
        "plt.ylim(1e-3, 1e2)\n",
        "plt.legend()\n",
        "plt.subplot(2, 2, 3)\n",
        "plt.plot([m[\"linf_norm\"] for m in train_metrics], label=\"Train Linf Norm\")\n",
        "plt.plot([m[\"linf_norm\"] for m in test_metrics], label=\"Test Linf Norm\")\n",
        "plt.xlabel(\"Epoch\")\n",
        "plt.ylabel(\"Linf Norm\")\n",
        "# Added setting the vertical axis to be in powers of 10\n",
        "plt.yscale(\"log\")\n",
        "# Added setting the vertical axis limits to be from 10^-7 to 10^0\n",
        "plt.ylim(1e-3, 1e2)\n",
        "plt.legend()\n",
        "plt.tight_layout()\n",
        "plt.show()\n",
        "\n",
        "# Added plotting MSE of training data and MSE of test data in one plot \n",
        "plt.figure(figsize=(8, 6))\n",
        "plt.plot(train_losses,label=\"training data\")\n",
        "plt.plot(test_losses,label=\"test data\")\n",
        "#if scheduler is not None:\n",
        "#    plt.plot([scheduler.get_last_lr()[0] for _ in range(n_epochs)], label=\"Learning rate\") \n",
        "plt.xlabel(\"Epoch\")\n",
        "plt.ylabel(f\"{loss_name} Loss\")\n",
        "# Added setting the vertical axis to be in powers of 10\n",
        "plt.yscale(\"log\")\n",
        "# Added setting the vertical axis limits to be from 10^-7 to 10^0\n",
        "plt.ylim(1e-7, 1e0)\n",
        "plt.legend()\n",
        "plt.show()"
      ]
    },
    {
      "cell_type": "markdown",
      "metadata": {
        "id": "tiEDutxIUZig"
      },
      "source": [
        "## Loading"
      ]
    },
    {
      "cell_type": "code",
      "execution_count": 129,
      "metadata": {
        "colab": {
          "base_uri": "https://localhost:8080/"
        },
        "id": "p7Mj990wUZih",
        "outputId": "cc23bf37-586d-4332-94c2-c6a0a41a8054"
      },
      "outputs": [
        {
          "output_type": "execute_result",
          "data": {
            "text/plain": [
              "<All keys matched successfully>"
            ]
          },
          "metadata": {},
          "execution_count": 129
        }
      ],
      "source": [
        "import json\n",
        "import pandas as pd\n",
        "\n",
        "# load the dictionary from the .json file\n",
        "with open(\"var_dict.json\", \"r\") as f:\n",
        "  var_dict_loaded = json.load(f)\n",
        "\n",
        "# extract the variables from the dictionary\n",
        "batch_size_loaded = var_dict_loaded[\"batch_size\"]\n",
        "n_epochs_loaded = var_dict_loaded[\"n_epochs\"]\n",
        "loss_name_loaded = var_dict_loaded[\"loss_name\"]\n",
        "optimizer_name_loaded = var_dict_loaded[\"optimizer_name\"]\n",
        "scheduler_name_loaded = var_dict_loaded[\"scheduler_name\"]\n",
        "n_units_loaded = var_dict_loaded[\"n_units\"]\n",
        "n_layers_loaded = var_dict_loaded[\"n_layers\"]\n",
        "hidden_activation_name_loaded = var_dict_loaded[\"hidden_activation_name\"]\n",
        "output_activation_name_loaded = var_dict_loaded[\"output_activation_name\"]\n",
        "lr_loaded = var_dict_loaded[\"lr\"]\n",
        "\n",
        "# create the activation functions from their names\n",
        "if hidden_activation_name_loaded == \"ReLU\":\n",
        "  hidden_activation_loaded = nn.ReLU()\n",
        "elif hidden_activation_name_loaded == \"LeakyReLU\":\n",
        "  hidden_activation_loaded = nn.LeakyReLU() \n",
        "elif hidden_activation_name_loaded == \"ELU\":\n",
        "  hidden_activation_loaded = nn.ELU() \n",
        "elif hidden_activation_name_loaded == \"Tanh\":\n",
        "  hidden_activation_loaded = nn.Tanh()\n",
        "else:\n",
        "  hidden_activation_loaded = nn.Sigmoid()\n",
        "\n",
        "if output_activation_name_loaded == \"ReLU\":\n",
        "    output_activation_loaded = nn.ReLU()\n",
        "elif output_activation_name_loaded == \"Softplus\":\n",
        "    output_activation_loaded = nn.Softplus()\n",
        "else:\n",
        "    output_activation_loaded = nn.Identity()\n",
        "\n",
        "\n",
        "\n",
        "# load the network from the .pth file\n",
        "net_loaded = Net(n_layers_loaded, n_units_loaded, hidden_activation_loaded, output_activation_loaded).to(device)\n",
        "if torch.cuda.is_available():\n",
        " net_loaded.load_state_dict(torch.load(\"net.pth\"))\n",
        "else: \n",
        "  net_loaded.load_state_dict(torch.load(\"net.pth\", map_location=torch.device('cpu')))\n",
        "\n",
        "# create the loss function from its name\n",
        "if loss_name_loaded == \"MSE\":\n",
        "  loss_fn_loaded = nn.MSELoss()\n",
        "elif loss_name_loaded == \"MAE\":\n",
        "  loss_fn_loaded = nn.L1Loss()\n",
        "elif loss_name_loaded == \"Huber\":\n",
        "  loss_fn_loaded = nn.SmoothL1Loss() \n",
        "else:\n",
        "  # create the log-cosh loss function\n",
        "  def log_cosh_loss_loaded(y_pred, y_true):\n",
        "    return torch.mean(torch.log(torch.cosh(y_pred - y_true)))\n",
        "  loss_fn_loaded = log_cosh_loss_loaded\n",
        "\n",
        "# load the optimizer from the .pth file\n",
        "if torch.cuda.is_available():\n",
        "  optimizer_loaded_state_dict = torch.load(\"optimizer.pth\")\n",
        "else:\n",
        "  optimizer_loaded_state_dict = torch.load(\"optimizer.pth\", map_location=torch.device('cpu'))\n",
        "\n",
        "if optimizer_name_loaded == \"SGD\":\n",
        "  # Added getting the weight decay and momentum parameters from the state dict\n",
        "  weight_decay_loaded = optimizer_loaded_state_dict[\"param_groups\"][0][\"weight_decay\"]\n",
        "  momentum_loaded = optimizer_loaded_state_dict[\"param_groups\"][0][\"momentum\"]\n",
        "  optimizer_loaded = optim.SGD(net_loaded.parameters(), lr=lr_loaded, weight_decay=weight_decay_loaded, momentum=momentum_loaded)\n",
        "elif optimizer_name_loaded == \"Adam\":\n",
        "  # Added getting the weight decay and beta parameters from the state dict\n",
        "  weight_decay_loaded = optimizer_loaded_state_dict[\"param_groups\"][0][\"weight_decay\"]\n",
        "  beta1_loaded = optimizer_loaded_state_dict[\"param_groups\"][0][\"betas\"][0]\n",
        "  beta2_loaded = optimizer_loaded_state_dict[\"param_groups\"][0][\"betas\"][1]\n",
        "  optimizer_loaded = optim.Adam(net_loaded.parameters(), lr=lr_loaded, weight_decay=weight_decay_loaded, betas=(beta1_loaded, beta2_loaded))\n",
        "elif optimizer_name_loaded == \"RMSprop\":\n",
        "  optimizer_loaded = optim.RMSprop(net_loaded.parameters(), lr=lr_loaded)\n",
        "else:\n",
        "  # Added loading the Adagrad optimizer\n",
        "  optimizer_loaded = optim.Adagrad(net_loaded.parameters(), lr=lr_loaded)\n",
        "optimizer_loaded.load_state_dict(optimizer_loaded_state_dict)\n",
        "\n",
        "# load the scheduler from the .pth file\n",
        "if torch.cuda.is_available():\n",
        "  scheduler_loaded_state_dict = torch.load(\"scheduler.pth\")\n",
        "else: \n",
        "  scheduler_loaded_state_dict = torch.load(\"scheduler.pth\", map_location=torch.device('cpu'))\n",
        "\n",
        "if scheduler_name_loaded == \"StepLR\":\n",
        "  # Added getting the step_size and gamma parameters from the state dict\n",
        "  step_size_loaded = scheduler_loaded_state_dict[\"step_size\"]\n",
        "  gamma_loaded = scheduler_loaded_state_dict[\"gamma\"]\n",
        "  scheduler_loaded = optim.lr_scheduler.StepLR(optimizer_loaded, step_size=step_size_loaded, gamma=gamma_loaded)\n",
        "elif scheduler_name_loaded == \"ExponentialLR\":\n",
        "  # Added getting the gamma parameter from the state dict\n",
        "  gamma_loaded = scheduler_loaded_state_dict[\"gamma\"]\n",
        "  scheduler_loaded = optim.lr_scheduler.ExponentialLR(optimizer_loaded, gamma=gamma_loaded)\n",
        "elif scheduler_name_loaded == \"CosineAnnealingLR\":\n",
        "  # Added getting the T_max parameter from the state dict\n",
        "  T_max_loaded = scheduler_loaded_state_dict[\"T_max\"]\n",
        "  scheduler_loaded = optim.lr_scheduler.CosineAnnealingLR(optimizer_loaded, T_max=T_max_loaded)\n",
        "elif scheduler_name_loaded == \"ReduceLROnPlateau\":\n",
        "  # Added getting the mode, factor, patience, threshold and min_lr parameters from the state dict\n",
        "  mode_loaded = scheduler_loaded_state_dict[\"mode\"]\n",
        "  factor_loaded = scheduler_loaded_state_dict[\"factor\"]\n",
        "  patience_loaded = scheduler_loaded_state_dict[\"patience\"]\n",
        "  threshold_loaded = scheduler_loaded_state_dict[\"threshold\"]\n",
        "  min_lr_loaded = scheduler_loaded_state_dict[\"min_lrs\"][0]\n",
        "  scheduler_loaded = optim.lr_scheduler.ReduceLROnPlateau(\n",
        "                    optimizer_loaded, mode=mode_loaded, factor=factor_loaded, patience=patience_loaded, threshold=threshold_loaded, min_lr=min_lr_loaded\n",
        "                )\n",
        "# elif scheduler_name_loaded == \"OneCycleLR\":\n",
        "#   max_lr_loaded = scheduler_loaded_state_dict[\"max_lr\"]\n",
        "#   epochs_loaded = scheduler_loaded_state_dict[\"epochs\"]\n",
        "#   steps_per_epoch_loaded = scheduler_loaded_state_dict[\"steps_per_epoch\"]\n",
        "#   pct_start_loaded = scheduler_loaded_state_dict[\"pct_start\"]\n",
        "#   max_lr_loaded = scheduler_loaded_state_dict[\"max_lr\"]\n",
        "#   scheduler_loaded = optim.lr_scheduler.OneCycleLR(\n",
        "#                     optimizer_loaded, max_lr=max_lr_loaded, epochs=epochs_loaded, steps_per_epoch=steps_per_epoch_loaded, pct_start=pct_start_loaded\n",
        "#                 )\n",
        "else:\n",
        "  scheduler_loaded = None\n",
        "\n",
        "if scheduler_loaded is not None:\n",
        "  # Added loading the state dict to the scheduler_loaded\n",
        "  scheduler_loaded.load_state_dict(scheduler_loaded_state_dict)\n",
        "\n",
        "# Loading the output of the training using pandas\n",
        "train_df_loaded = pd.read_csv(\"train_output.csv\")\n",
        "train_losses_loaded = train_df_loaded[\"train_loss\"].tolist()\n",
        "test_losses_loaded = train_df_loaded[\"test_loss\"].tolist()\n",
        "train_metrics_loaded = [\n",
        "    {\n",
        "        \"l1_norm\": train_df_loaded[\"train_l1_norm\"][i],\n",
        "        \"linf_norm\": train_df_loaded[\"train_linf_norm\"][i],\n",
        "    }\n",
        "    for i in range(len(train_df_loaded))\n",
        "]\n",
        "test_metrics_loaded = [\n",
        "    {\n",
        "        \"l1_norm\": train_df_loaded[\"test_l1_norm\"][i],\n",
        "        \"linf_norm\": train_df_loaded[\"test_linf_norm\"][i],\n",
        "    }\n",
        "    for i in range(len(train_df_loaded))\n",
        "]"
      ]
    },
    {
      "cell_type": "code",
      "execution_count": 130,
      "metadata": {
        "colab": {
          "base_uri": "https://localhost:8080/"
        },
        "id": "GQ_fcj7zUZii",
        "outputId": "8f106e99-62db-4964-9c44-1c17fc990050"
      },
      "outputs": [
        {
          "output_type": "stream",
          "name": "stdout",
          "text": [
            "skipping\n"
          ]
        }
      ],
      "source": [
        "%%script echo skipping\n",
        "\n",
        "batch_size_loaded\n",
        "n_epochs_loaded\n",
        "loss_name_loaded\n",
        "optimizer_name_loaded\n",
        "scheduler_name_loaded\n",
        "n_units_loaded\n",
        "n_layers_loaded\n",
        "hidden_activation_name_loaded\n",
        "output_activation_name_loaded\n",
        "lr_loaded\n",
        "hidden_activation_loaded\n",
        "output_activation_loaded\n",
        "net_loaded\n",
        "net_loaded.__dict__ # print the subparameters of the network\n",
        "loss_fn_loaded\n",
        "optimizer_loaded\n",
        "optimizer_loaded.__dict__ # print the subparameters of the optimizer\n",
        "scheduler_loaded\n",
        "scheduler_loaded.__dict__ # print the subparameters of the scheduler\n",
        "train_losses_loaded\n",
        "test_losses_loaded\n",
        "train_metrics_loaded\n",
        "test_metrics_loaded"
      ]
    },
    {
      "cell_type": "code",
      "execution_count": 131,
      "metadata": {
        "id": "VnhecWDRzinL",
        "outputId": "c7c1381c-2f07-4346-a76b-23a92c1059a9",
        "colab": {
          "base_uri": "https://localhost:8080/"
        }
      },
      "outputs": [
        {
          "output_type": "execute_result",
          "data": {
            "text/plain": [
              "261.1725322572708"
            ]
          },
          "metadata": {},
          "execution_count": 131
        },
        {
          "output_type": "execute_result",
          "data": {
            "text/plain": [
              "264.1542072890282"
            ]
          },
          "metadata": {},
          "execution_count": 131
        },
        {
          "output_type": "execute_result",
          "data": {
            "text/plain": [
              "1.0841875276058912"
            ]
          },
          "metadata": {},
          "execution_count": 131
        },
        {
          "output_type": "execute_result",
          "data": {
            "text/plain": [
              "12.689989289849995"
            ]
          },
          "metadata": {},
          "execution_count": 131
        }
      ],
      "source": [
        "train_losses_loaded[-1]\n",
        "test_losses_loaded[-1]\n",
        "test_metrics_loaded[-1]['l1_norm']\n",
        "test_metrics_loaded[-1]['linf_norm']\n",
        "# print(f'Error is {test_metrics_loaded[-1][\"l1_norm\"] / (3.84e-4)} times bigger than in Dieselhorst et al.')\n",
        "# print(f'Error is {test_metrics_loaded[-1][\"linf_norm\"] / (8.14e-3)} times bigger than in Dieselhorst et al.')"
      ]
    },
    {
      "cell_type": "markdown",
      "metadata": {
        "id": "arSEDVDmzinL"
      },
      "source": [
        "### Visualize loaded results"
      ]
    },
    {
      "cell_type": "markdown",
      "metadata": {
        "id": "vwLGR1aSUZik"
      },
      "source": [
        "Let us verify correct loading of the train and test metrics by visualizing them again but now through the loaded values. Likewise for the train and test losses."
      ]
    },
    {
      "cell_type": "code",
      "execution_count": 132,
      "metadata": {
        "id": "sXiNgLsmUZil"
      },
      "outputs": [],
      "source": [
        "%config InteractiveShell.ast_node_interactivity = \"last_expr_or_assign\""
      ]
    },
    {
      "cell_type": "code",
      "execution_count": 133,
      "metadata": {
        "colab": {
          "base_uri": "https://localhost:8080/",
          "height": 1000
        },
        "id": "sgq4WfSiUZil",
        "outputId": "da1c436c-e503-4c18-9041-0b44325cd93c"
      },
      "outputs": [
        {
          "output_type": "display_data",
          "data": {
            "text/plain": [
              "<Figure size 640x480 with 2 Axes>"
            ],
            "image/png": "[encoded data removed]"
          },
          "metadata": {}
        },
        {
          "output_type": "display_data",
          "data": {
            "text/plain": [
              "<Figure size 800x600 with 1 Axes>"
            ],
            "image/png": "[encoded data removed]"
          },
          "metadata": {}
        }
      ],
      "source": [
        "# Plotting the losses and metrics for the best network plt.figure(figsize=(12, \n",
        "#plt.subplot(2, 2, 1)\n",
        "#plt.plot(train_losses_loaded, label=\"Train Loss\")\n",
        "#plt.plot(test_losses_loaded, label=\"Test Loss\")\n",
        "#plt.xlabel(\"Epoch\")\n",
        "#plt.ylabel(\"Loss\")\n",
        "#plt.legend()\n",
        "plt.subplot(2, 2, 2)\n",
        "plt.plot([m[\"l1_norm\"] for m in train_metrics_loaded], label=\"Train L1 Norm\")\n",
        "plt.plot([m[\"l1_norm\"] for m in test_metrics_loaded], label=\"Test L1 Norm\")\n",
        "plt.xlabel(\"Epoch\")\n",
        "plt.ylabel(\"L1 Norm\")\n",
        "# Added setting the vertical axis to be in powers of 10\n",
        "plt.yscale(\"log\")\n",
        "# Added setting the vertical axis limits to be from 10^-7 to 10^0\n",
        "plt.ylim(1e-3, 1e2)\n",
        "plt.legend()\n",
        "plt.subplot(2, 2, 3)\n",
        "plt.plot([m[\"linf_norm\"] for m in train_metrics_loaded], label=\"Train Linf Norm\")\n",
        "plt.plot([m[\"linf_norm\"] for m in test_metrics_loaded], label=\"Test Linf Norm\")\n",
        "plt.xlabel(\"Epoch\")\n",
        "plt.ylabel(\"Linf Norm\")\n",
        "# Added setting the vertical axis to be in powers of 10\n",
        "plt.yscale(\"log\")\n",
        "# Added setting the vertical axis limits to be from 10^-7 to 10^0\n",
        "plt.ylim(1e-3, 1e2)\n",
        "plt.legend()\n",
        "plt.tight_layout()\n",
        "plt.show()\n",
        "\n",
        "# Added plotting MSE of training data and MSE of test data in one plot \n",
        "plt.figure(figsize=(8, 6))\n",
        "plt.plot(train_losses_loaded,label=\"training data\")\n",
        "plt.plot(test_losses_loaded,label=\"test data\")\n",
        "#if scheduler is not None:\n",
        "#    plt.plot([scheduler.get_last_lr()[0] for _ in range(n_epochs)], label=\"Learning rate\") \n",
        "plt.xlabel(\"Epoch\")\n",
        "plt.ylabel(f\"{loss_name_loaded} Loss\")\n",
        "# Added setting the vertical axis to be in powers of 10\n",
        "plt.yscale(\"log\")\n",
        "# Added setting the vertical axis limits to be from 10^-7 to 10^0\n",
        "plt.ylim(1e-7, 1e0)\n",
        "plt.legend()\n",
        "plt.show()\n"
      ]
    },
    {
      "cell_type": "code",
      "execution_count": 134,
      "metadata": {
        "id": "lkgLqJ_UUZim"
      },
      "outputs": [],
      "source": [
        "%config InteractiveShell.ast_node_interactivity = \"all\""
      ]
    },
    {
      "cell_type": "markdown",
      "metadata": {
        "id": "m03GmF0fzinN"
      },
      "source": [
        "## Counting the number of parameters in the network."
      ]
    },
    {
      "cell_type": "code",
      "execution_count": 135,
      "metadata": {
        "id": "lKVqF0QBzinN",
        "outputId": "bc10029b-febe-497f-b23b-9a3daed8ec6a",
        "colab": {
          "base_uri": "https://localhost:8080/"
        }
      },
      "outputs": [
        {
          "output_type": "execute_result",
          "data": {
            "text/plain": [
              "Net(\n",
              "  (hidden_activation): ReLU()\n",
              "  (output_activation): ReLU()\n",
              "  (layers): ModuleList(\n",
              "    (0): Linear(in_features=14, out_features=555, bias=True)\n",
              "    (1): Linear(in_features=555, out_features=458, bias=True)\n",
              "    (2): Linear(in_features=458, out_features=115, bias=True)\n",
              "    (3): Linear(in_features=115, out_features=1, bias=True)\n",
              "  )\n",
              ")"
            ]
          },
          "metadata": {},
          "execution_count": 135
        },
        {
          "output_type": "stream",
          "name": "stdout",
          "text": [
            "The model has 315874 parameters.\n"
          ]
        }
      ],
      "source": [
        "net_loaded.eval()\n",
        "def count_parameters(model):\n",
        "    return sum(p.numel() for p in model.parameters() if p.requires_grad)\n",
        "print(f'The model has {count_parameters(net_loaded)} parameters.')"
      ]
    },
    {
      "cell_type": "markdown",
      "metadata": {
        "id": "SxuzVSnlUZin"
      },
      "source": [
        "## Evaluating the network on arbirary input\n",
        "### Comparing `net` and `net_loaded`\n",
        "\n",
        "We compare `net` and `net_loaded` to confirm correct loading of the network. Note that `net` is only available if we have trained the model in this session."
      ]
    },
    {
      "cell_type": "code",
      "execution_count": 136,
      "metadata": {
        "id": "V0_MxKEwzinO",
        "outputId": "9e4f1c2a-88e1-4a49-dda4-0b9f745bc6eb",
        "colab": {
          "base_uri": "https://localhost:8080/"
        }
      },
      "outputs": [
        {
          "output_type": "execute_result",
          "data": {
            "text/plain": [
              "Net(\n",
              "  (hidden_activation): ReLU()\n",
              "  (output_activation): ReLU()\n",
              "  (layers): ModuleList(\n",
              "    (0): Linear(in_features=14, out_features=555, bias=True)\n",
              "    (1): Linear(in_features=555, out_features=458, bias=True)\n",
              "    (2): Linear(in_features=458, out_features=115, bias=True)\n",
              "    (3): Linear(in_features=115, out_features=1, bias=True)\n",
              "  )\n",
              ")"
            ]
          },
          "metadata": {},
          "execution_count": 136
        }
      ],
      "source": [
        "#%%script echo skipping\n",
        "\n",
        "# Set the network to evaluation mode\n",
        "net.eval()"
      ]
    },
    {
      "cell_type": "code",
      "execution_count": 137,
      "metadata": {
        "id": "CmQBdb8mzinO",
        "outputId": "2d45ac85-1066-4bdd-f7cd-38738e7ac504",
        "colab": {
          "base_uri": "https://localhost:8080/"
        }
      },
      "outputs": [
        {
          "output_type": "execute_result",
          "data": {
            "text/plain": [
              "Net(\n",
              "  (hidden_activation): ReLU()\n",
              "  (output_activation): ReLU()\n",
              "  (layers): ModuleList(\n",
              "    (0): Linear(in_features=14, out_features=555, bias=True)\n",
              "    (1): Linear(in_features=555, out_features=458, bias=True)\n",
              "    (2): Linear(in_features=458, out_features=115, bias=True)\n",
              "    (3): Linear(in_features=115, out_features=1, bias=True)\n",
              "  )\n",
              ")"
            ]
          },
          "metadata": {},
          "execution_count": 137
        }
      ],
      "source": [
        "# Set the network to evaluation mode\n",
        "net_loaded.eval()\n"
      ]
    },
    {
      "cell_type": "code",
      "execution_count": 138,
      "metadata": {
        "id": "V1ZmT3ehzinP",
        "outputId": "c058a4b5-ee90-4ac8-fd58-5efe52f66b4f",
        "colab": {
          "base_uri": "https://localhost:8080/"
        }
      },
      "outputs": [
        {
          "output_type": "stream",
          "name": "stdout",
          "text": [
            "Parameters are the same.\n",
            "Net device: cuda:0\n",
            "Net_loaded device: cuda:0\n"
          ]
        }
      ],
      "source": [
        "for p1, p2 in zip(net.parameters(), net_loaded.parameters()):\n",
        "    if p1.data.ne(p2.data).sum() > 0:\n",
        "        print(\"Parameters are NOT the same.\")\n",
        "        break\n",
        "else:\n",
        "    print(\"Parameters are the same.\")\n",
        "\n",
        "print(\"Net device:\", next(net.parameters()).device)\n",
        "print(\"Net_loaded device:\", next(net_loaded.parameters()).device)"
      ]
    },
    {
      "cell_type": "code",
      "execution_count": 139,
      "metadata": {
        "colab": {
          "base_uri": "https://localhost:8080/"
        },
        "id": "C0PLAA0DUZin",
        "outputId": "40163748-22a4-4ece-9688-c3bb845e8a2d"
      },
      "outputs": [
        {
          "output_type": "stream",
          "name": "stdout",
          "text": [
            "[Parameter containing:\n",
            "tensor([[-0.0558,  0.1402, -0.1420,  ...,  3.2185,  3.2595,  2.9486],\n",
            "        [-0.1900,  0.2172, -0.1237,  ..., -0.0663,  0.1521, -0.1148],\n",
            "        [-2.4160, -0.2207, -0.0210,  ..., -0.4491, -0.5361, -0.0713],\n",
            "        ...,\n",
            "        [-0.5754, -0.1067,  0.1934,  ..., -4.0551, -3.9723, -4.4382],\n",
            "        [-1.3056,  0.1967,  0.1461,  ...,  0.9154,  1.0790,  1.0737],\n",
            "        [-0.7723,  0.1553, -0.1731,  ...,  2.7272,  2.3940,  2.7190]],\n",
            "       device='cuda:0', requires_grad=True), Parameter containing:\n",
            "tensor([ 3.2699e+00,  2.4478e-01, -3.4663e-01,  4.2353e+00,  2.7404e+00,\n",
            "         2.6552e-01,  1.4369e+00,  2.7785e-01, -2.6340e-02,  3.7246e-02,\n",
            "        -2.1497e+00, -1.1086e+00, -3.8913e+00,  2.1256e+00, -4.3056e+00,\n",
            "         7.5421e-01,  3.0015e-01, -4.5088e+00, -2.6014e+00,  3.4980e+00,\n",
            "        -1.6017e+00, -2.2479e+00, -2.7985e+00,  4.5943e-01,  1.3354e+00,\n",
            "        -7.8873e-01,  9.8609e-01,  2.4258e+00, -1.7091e-01,  2.1446e+00,\n",
            "         1.4181e+00,  1.3473e-02,  2.7704e+00,  1.2092e-01,  1.3776e+00,\n",
            "        -3.5916e-01, -1.7076e+00,  3.2377e-01, -4.4808e+00,  1.9180e+00,\n",
            "         2.7640e-01,  2.8782e+00,  3.3060e+00,  1.4016e+00,  1.4437e+00,\n",
            "        -1.6484e+00, -4.6147e+00, -4.7856e+00,  4.9547e-02, -1.2935e+00,\n",
            "         2.0591e+00, -1.2772e+00,  1.3049e-01, -9.9853e-01, -1.4636e+00,\n",
            "         4.0166e-01, -7.3010e-01, -1.2403e+00, -8.1115e-02,  9.5302e-02,\n",
            "         2.8871e+00,  3.1426e+00, -3.9495e+00,  4.4533e+00,  4.4487e-01,\n",
            "        -4.6035e-01, -4.6843e+00,  1.7106e-01,  6.2830e-01,  5.9531e-01,\n",
            "         1.4675e+00,  7.3907e-02,  1.0383e+00, -1.0097e+00,  3.8470e+00,\n",
            "        -6.0392e-01, -2.3015e-02, -5.2167e-01, -3.0670e+00,  2.2610e-01,\n",
            "         5.6618e-01,  1.4966e+00, -5.5507e-01,  2.3179e-01,  2.8416e-01,\n",
            "        -2.2393e-01,  4.4401e-01, -2.4133e+00,  2.4755e+00, -4.8299e+00,\n",
            "         2.2159e-01,  2.6062e-01,  2.1522e+00,  1.0684e+00, -1.7584e-01,\n",
            "         3.9412e+00,  3.5046e-01,  1.3633e-01,  1.2379e+00, -4.2475e+00,\n",
            "         1.7819e+00, -5.2648e+00,  2.7005e+00, -1.5663e+00,  1.6553e+00,\n",
            "         8.0401e-01, -5.5128e-01, -2.5299e+00, -9.6591e-01, -7.4177e-01,\n",
            "         8.7138e-02,  2.3227e+00,  5.4974e-01, -1.8708e+00, -4.7251e+00,\n",
            "        -1.5610e+00, -3.5709e+00,  3.9747e+00, -5.0709e-01, -2.2432e+00,\n",
            "         2.0922e+00,  1.3441e-01, -1.3119e+00, -1.2887e+00, -2.3243e+00,\n",
            "         2.1474e+00,  3.2022e-01,  1.8302e-01,  6.5418e-02,  3.6240e+00,\n",
            "         1.7958e+00, -2.9523e+00, -7.1195e-01, -4.0970e+00,  8.9909e-01,\n",
            "         5.2259e-01,  4.7322e+00, -7.3961e-01, -7.3748e-01,  4.9904e-02,\n",
            "        -8.2124e-01,  6.5600e-01,  4.4023e-01,  3.7485e-01, -1.2048e-01,\n",
            "         2.6950e+00, -1.4073e+00, -3.7362e-01,  4.2898e-01,  1.2304e+00,\n",
            "         3.5159e+00, -5.2049e+00, -3.1754e+00, -1.6395e+00, -1.3905e+00,\n",
            "         7.3481e-01,  4.5140e+00,  5.4515e-01,  3.8438e-01, -3.1930e+00,\n",
            "         3.7909e-01,  3.0328e+00,  4.0185e+00,  2.0367e+00,  2.6876e+00,\n",
            "        -9.4574e-01,  4.0208e-01, -3.8191e-01, -4.2323e+00, -7.6598e-01,\n",
            "        -2.3478e+00, -7.1655e-01,  1.6776e-01, -4.2974e+00,  4.9463e-01,\n",
            "        -4.1991e+00,  7.4718e-02,  6.2331e-01,  3.4647e+00,  1.3552e-01,\n",
            "         4.7814e+00, -4.3826e+00,  3.1465e+00,  3.0106e-01, -1.1272e-01,\n",
            "        -2.0841e+00,  3.9846e+00,  4.7496e-01,  2.3221e-01,  2.2907e+00,\n",
            "        -3.4062e-02,  1.1186e-02, -4.9406e+00, -5.6047e-02, -1.4995e-01,\n",
            "         8.3831e-01,  4.0339e-01,  4.3170e-01, -2.2292e-01,  3.3670e+00,\n",
            "         3.2796e+00,  2.4528e+00,  1.2609e+00, -3.7920e+00,  2.1808e+00,\n",
            "         1.1944e+00,  3.7177e+00,  4.7810e-01,  4.4384e+00,  4.0002e-01,\n",
            "        -2.3544e-01,  3.3424e+00,  2.3681e+00,  3.9518e-01,  1.6695e+00,\n",
            "         3.4113e+00, -5.1429e+00,  2.7471e-01, -1.4295e+00, -4.4384e+00,\n",
            "        -6.4743e-01,  2.8787e+00,  1.7571e-01, -4.1713e+00,  9.2147e-01,\n",
            "         7.2291e-01, -2.6606e+00, -9.8717e-03,  4.4285e-02,  1.9953e+00,\n",
            "         4.4385e-01, -3.4971e+00, -8.1310e-01,  1.0167e+00,  4.3004e-01,\n",
            "        -1.6091e+00, -1.2632e-01, -1.1273e+00,  3.6231e-02,  4.8152e-01,\n",
            "         1.0753e+00, -3.5533e+00,  3.3091e-01, -8.9368e-01,  4.8240e-01,\n",
            "        -3.1123e+00,  4.9147e-01, -5.4953e-01,  1.0112e-01, -1.2753e+00,\n",
            "         1.6037e-01,  2.8810e+00, -1.9079e+00,  8.0087e-01,  2.8779e+00,\n",
            "        -3.3210e-02,  1.3481e+00, -2.4568e-01,  7.1917e-02,  2.9844e+00,\n",
            "        -7.4207e-01, -5.8972e-02,  1.0781e+00,  1.3942e+00,  7.0201e-02,\n",
            "        -4.4825e+00,  2.3334e+00, -8.3604e-01,  3.5373e+00,  4.4478e-01,\n",
            "         3.2573e-01, -5.2294e-02, -1.2557e+00,  1.2541e+00, -1.5303e+00,\n",
            "        -1.8409e+00,  1.5183e+00,  1.3305e+00,  1.5096e+00, -3.8980e+00,\n",
            "        -1.2597e+00, -3.9595e-01,  2.7316e+00,  1.5310e-01,  4.7984e-01,\n",
            "        -1.5689e+00,  7.7531e-01, -3.2361e+00, -2.4793e+00, -4.6636e+00,\n",
            "        -1.8847e+00, -3.9428e+00, -8.9981e-01, -5.5249e-02,  4.1649e+00,\n",
            "         4.4001e+00, -1.0712e+00, -1.0326e+00,  6.3729e-01,  2.4792e+00,\n",
            "         1.6318e+00,  3.7154e+00, -4.5602e+00,  2.9672e+00, -6.0345e-01,\n",
            "         1.2346e+00,  2.7277e-01,  6.8294e-01,  2.4355e-02, -4.5015e+00,\n",
            "         2.4049e-01,  4.0433e+00, -5.4101e-03,  4.1725e+00,  2.3497e+00,\n",
            "        -2.0074e+00,  2.2721e+00, -6.4912e-01, -3.1822e+00,  2.3537e+00,\n",
            "         2.0217e-01,  1.1716e+00,  1.9140e-01,  1.1905e+00,  1.2871e+00,\n",
            "         2.0037e-01, -1.4929e+00, -4.2916e+00,  4.4786e+00, -1.0876e+00,\n",
            "        -3.3796e+00,  3.9042e+00, -8.5565e-01, -3.4604e+00,  3.8980e+00,\n",
            "         1.6501e+00, -1.2265e+00,  4.3172e+00, -3.2923e+00, -2.8329e-01,\n",
            "         8.1253e-01, -2.0204e+00, -6.6216e-02, -1.5281e-01,  2.4643e-01,\n",
            "         3.6625e+00,  1.4417e+00,  1.0644e+00,  5.4256e-01,  4.2873e+00,\n",
            "         3.2048e+00, -2.8426e+00,  8.1880e-01,  4.4975e+00, -2.6448e+00,\n",
            "        -4.6958e+00,  4.4590e+00,  3.8209e-01, -3.0819e-01, -8.8716e-01,\n",
            "        -4.1522e+00,  1.6853e-02, -2.5812e+00,  1.1926e+00,  4.1346e+00,\n",
            "        -2.4953e+00,  7.8650e-02,  2.3769e+00,  9.9097e-01,  1.8385e-01,\n",
            "         1.1199e+00,  9.4100e-01, -2.1158e+00, -1.8759e+00, -4.1708e+00,\n",
            "        -3.0527e+00,  1.1443e+00, -4.9255e+00,  7.7174e-02, -2.0312e-01,\n",
            "        -1.2890e+00,  3.0292e-01, -2.5469e+00, -3.6974e+00,  1.9591e-01,\n",
            "        -1.4850e-01,  6.0822e-01,  1.9383e+00, -6.8498e-02, -1.2881e+00,\n",
            "         4.4216e-01,  2.2405e-01,  3.9292e+00, -2.0149e+00,  5.7839e-01,\n",
            "        -5.4257e-01, -1.6154e-01,  2.1524e-01,  3.4824e+00,  1.4303e-01,\n",
            "         1.6927e+00, -1.2697e+00, -1.8756e+00,  1.8024e-01, -1.6891e+00,\n",
            "         5.8472e-01,  2.8329e-01, -2.1625e+00, -9.1395e-03, -8.1625e-02,\n",
            "        -1.8642e-01, -1.8138e-01,  2.9814e-02,  1.8586e-01, -1.8853e+00,\n",
            "        -3.2892e+00,  1.1703e-01, -2.1857e+00,  2.0561e+00, -4.2366e+00,\n",
            "         3.5891e+00, -3.2300e+00,  1.2371e+00, -4.2569e+00,  2.0974e-02,\n",
            "         2.2155e-01, -9.9981e-02, -2.4817e-01,  4.1066e+00,  2.2294e+00,\n",
            "        -3.0013e+00,  4.0307e-01,  3.0439e+00, -8.7497e-01,  6.1603e-02,\n",
            "        -4.4044e+00,  2.6111e+00,  4.7786e-01, -3.0563e-03,  2.9452e+00,\n",
            "        -8.5277e-02, -1.0484e+00, -2.2368e+00,  4.2738e-01,  2.8953e+00,\n",
            "         3.0896e-01,  4.1066e-01, -4.3693e+00,  1.0418e+00, -2.8730e+00,\n",
            "         3.0431e+00, -3.8613e-01,  6.5853e-01, -1.4424e+00,  4.7903e-01,\n",
            "         1.7023e+00,  1.7445e+00,  7.5332e-01,  3.0575e+00,  8.7713e-02,\n",
            "         2.9712e+00,  1.1910e+00,  3.3619e-01,  8.5741e-01,  2.5638e+00,\n",
            "         3.3455e+00,  6.4766e-02,  8.4663e-01,  4.3991e+00,  3.5635e-01,\n",
            "        -4.3818e-01,  6.8515e-01, -1.8975e-01, -3.3300e+00,  1.1602e-01,\n",
            "         6.3591e-01,  1.8361e-01,  2.3789e+00, -8.2910e-01,  7.5039e-01,\n",
            "         5.3679e-01,  2.9592e-01,  1.7231e-01,  3.9676e+00,  1.8150e+00,\n",
            "         2.6228e-01,  4.3953e+00, -4.1436e+00,  2.2619e+00, -1.7479e-01,\n",
            "         1.4890e+00,  1.2834e+00,  2.9197e+00,  3.8739e-01, -5.0375e-02,\n",
            "        -3.9573e+00, -4.4508e+00,  8.7686e-01,  2.2213e-02, -4.0821e+00,\n",
            "        -1.1374e+00,  3.5421e+00, -1.6264e+00, -4.0558e+00, -4.4886e+00,\n",
            "        -2.5727e-01, -2.5961e-01,  3.3276e-01,  3.8687e+00,  2.3173e+00,\n",
            "         4.2873e+00,  2.6075e-01, -1.2465e-01,  5.0944e-01, -5.9380e-01,\n",
            "         2.2807e+00,  5.2013e-01,  3.4580e-01,  6.9799e-01,  7.8220e-01,\n",
            "        -2.2972e+00,  1.5240e-01,  2.4351e+00,  3.2513e+00, -4.4438e+00,\n",
            "         1.6012e+00,  1.1795e+00, -2.7001e+00, -5.2162e+00,  4.3341e+00,\n",
            "         1.9825e-01,  1.7268e-01, -1.1779e+00, -9.6749e-01, -3.5920e-02,\n",
            "         2.4671e-01,  1.4026e+00, -2.5452e+00,  3.4959e+00, -2.5056e+00,\n",
            "         2.0401e+00, -1.9729e+00, -4.1361e-01,  1.0186e-01,  3.3618e+00,\n",
            "        -1.6035e+00,  6.3858e-01, -6.1952e-01,  9.0642e-01, -1.3917e+00,\n",
            "         4.8492e-02, -2.7442e+00, -4.2045e+00,  1.1331e+00,  2.7824e+00],\n",
            "       device='cuda:0', requires_grad=True), Parameter containing:\n",
            "tensor([[ 0.0472, -0.0366,  0.0370,  ...,  0.0096, -0.0312,  0.1011],\n",
            "        [ 0.0192,  0.0038, -0.0307,  ...,  0.0314, -0.0396,  0.0331],\n",
            "        [ 0.0290,  0.0524,  0.0112,  ..., -0.0280,  0.0038,  0.0300],\n",
            "        ...,\n",
            "        [-0.1118,  0.0509,  0.0352,  ...,  0.0402,  0.0463, -0.0792],\n",
            "        [-0.0260, -0.0114,  0.0305,  ...,  0.0235, -0.0446, -0.0142],\n",
            "        [-0.0386,  0.0381, -0.0205,  ..., -0.0101,  0.0031, -0.0330]],\n",
            "       device='cuda:0', requires_grad=True), Parameter containing:\n",
            "tensor([ 1.1551e+00, -6.2306e-01,  2.4329e-01, -1.9266e-01,  3.1787e+00,\n",
            "         1.5518e-02, -4.6257e-01,  1.5363e+00,  3.1029e-02,  1.9199e-02,\n",
            "         2.6898e+00,  3.7468e+00,  1.4245e+00, -1.2786e-01, -3.7830e-02,\n",
            "        -8.6289e-01, -2.2930e+00, -4.9044e-02,  8.4168e-01, -4.0707e-02,\n",
            "         6.8177e-01,  3.2754e+00,  2.9780e+00, -3.0738e-02, -2.1452e+00,\n",
            "        -3.9029e+00,  1.6595e+00, -2.1714e-01, -2.3068e-02, -7.1852e-01,\n",
            "         3.2595e+00, -2.4145e-03, -1.0763e-01,  3.8004e+00,  2.1358e-02,\n",
            "         1.3652e+00, -2.0416e+00, -3.8210e-03, -8.5506e-02, -2.6880e+00,\n",
            "        -7.2844e-03,  2.6081e+00,  3.4729e+00, -1.7463e+00, -1.7259e-02,\n",
            "        -3.0243e-02, -2.2329e-03,  2.0002e+00, -4.1387e-01, -6.3295e-01,\n",
            "        -3.0414e-01, -6.0759e-04,  9.0588e-01, -1.6986e-02,  2.0429e-03,\n",
            "        -1.3945e-01, -1.3343e-02,  3.6637e+00,  2.8076e+00,  1.6958e-01,\n",
            "         1.9108e-02,  2.3159e+00, -1.1684e-01, -2.9919e+00, -2.1282e-02,\n",
            "         3.0990e+00,  2.5915e+00,  1.1918e-02,  1.9744e+00, -4.7596e-01,\n",
            "        -3.2777e+00,  3.2640e+00, -6.0255e-01,  2.9806e+00, -4.0482e-01,\n",
            "        -2.1958e-01, -4.8336e-01, -1.2651e-01,  2.3345e-02,  6.0482e-01,\n",
            "        -4.5147e-02,  3.7420e+00,  3.6155e-02, -1.4434e-01,  5.3640e-02,\n",
            "        -5.0434e-01, -5.3709e-01,  3.2299e+00, -5.7548e-01,  2.1013e+00,\n",
            "         3.0585e+00, -3.4933e-02, -5.9358e-01,  3.2254e-02,  2.8249e+00,\n",
            "         3.8865e+00,  1.9181e-01, -5.0074e-01, -5.2045e-02, -1.3485e+00,\n",
            "        -1.5611e+00, -3.0224e-02,  2.7742e+00, -3.1378e-01,  3.1041e-01,\n",
            "        -9.3443e-03,  2.2479e-02,  2.8449e+00, -8.1322e-01, -2.5900e-01,\n",
            "         2.8779e+00,  3.8575e-02,  4.2600e-03, -1.5971e+00, -2.2588e-02,\n",
            "         1.6524e+00, -8.7900e-03, -2.7052e-01,  3.9434e+00, -7.3671e-01,\n",
            "         3.3678e+00,  1.5108e-03, -3.6321e+00,  1.9895e-02,  3.6019e+00,\n",
            "        -3.7525e-02,  2.7036e+00, -3.5861e-02,  2.8226e-02,  3.4658e+00,\n",
            "        -4.4690e-02,  3.1371e+00, -6.1051e-01,  3.6405e+00,  4.4173e-03,\n",
            "         3.4686e+00,  7.6855e-03,  1.2372e-01, -2.3011e-02,  1.3509e+00,\n",
            "         3.7859e-02, -5.5950e-01,  2.1861e+00,  1.4664e-02, -2.8629e+00,\n",
            "        -2.1754e-02, -2.4560e-02,  3.2959e+00, -6.9759e-01,  3.3116e+00,\n",
            "        -2.6421e-02, -8.1875e-03, -2.4918e-02, -7.6390e-01, -1.9477e-02,\n",
            "         3.7990e+00, -2.4616e-02,  1.0214e-02, -1.0916e+00,  3.0510e+00,\n",
            "        -3.2464e-03,  2.1977e+00,  2.2614e+00,  2.3199e-02,  3.1607e+00,\n",
            "         3.2679e-02, -5.7528e-01,  1.4827e+00,  2.5421e+00, -7.1583e-01,\n",
            "         1.1451e-02,  3.3122e+00, -5.7321e-01, -8.4700e-01,  3.3104e-02,\n",
            "         2.6441e+00, -9.8681e-01, -1.0382e-01,  4.1275e-02, -6.6492e-01,\n",
            "        -8.9957e-03, -1.0275e-01,  3.3332e-02,  3.3495e+00, -2.3238e+00,\n",
            "        -3.7333e+00, -1.3247e-01,  2.9046e+00, -1.9392e-02,  3.3948e+00,\n",
            "        -1.1466e+00,  2.5817e-03,  2.7181e+00,  2.3669e+00, -2.6460e-02,\n",
            "        -1.5301e+00, -2.4502e-01,  3.3513e+00,  2.7609e+00, -4.3556e-01,\n",
            "         2.8100e+00, -3.8258e-02, -7.5036e-01,  3.1498e+00, -1.1062e-02,\n",
            "        -6.5427e-01, -8.6079e-02, -1.8205e-01,  3.9449e-03,  1.8778e+00,\n",
            "        -1.5076e+00,  2.9117e+00, -2.2108e-02, -1.3820e-02, -2.8106e+00,\n",
            "         4.0421e-02, -1.0903e-01, -2.5386e-02, -4.0835e-02,  3.2346e+00,\n",
            "        -6.9901e-03, -2.5508e+00,  2.8339e+00, -6.2399e-01,  2.1606e+00,\n",
            "         3.1722e+00, -1.7135e+00,  2.6312e+00, -3.5717e-01,  2.7947e+00,\n",
            "         1.9135e+00,  3.5399e+00, -2.3228e-02,  3.0006e+00, -4.9422e-01,\n",
            "         2.2432e-02,  3.3315e+00,  2.1924e-02,  2.4803e-02, -1.1564e-02,\n",
            "         3.3019e+00, -1.7489e-02,  1.5902e+00, -2.2339e+00,  2.5645e+00,\n",
            "        -3.9935e-01, -2.9129e-01, -7.5804e-01,  1.1057e+00,  2.6005e+00,\n",
            "         8.2771e-03, -2.8632e-01,  1.3170e+00,  3.7975e+00, -2.7802e-02,\n",
            "         1.7953e+00, -2.7168e-02, -3.8272e-02, -1.3514e+00, -6.9157e-03,\n",
            "        -9.9642e-01, -2.0783e-01,  1.0917e+00, -3.4095e-02,  2.4848e+00,\n",
            "        -1.6165e+00, -5.1095e-01,  3.2309e+00, -5.3858e-03,  2.6527e+00,\n",
            "         3.7749e+00, -2.6347e-02, -9.1087e-03,  1.6206e+00,  3.0672e+00,\n",
            "         3.1277e+00, -1.8548e-01,  2.0775e+00, -3.9236e-02,  3.2201e+00,\n",
            "         1.4092e+00, -1.3310e+00,  3.1453e+00,  1.4205e+00,  2.7223e+00,\n",
            "        -6.8053e-03,  1.1486e-02,  2.9280e+00, -3.9397e-01, -1.2421e-01,\n",
            "         3.2866e+00, -4.0693e-02,  5.1646e-04, -3.2005e-01, -2.5534e+00,\n",
            "         3.4104e+00,  2.0335e-02, -3.1081e-02,  3.8252e+00, -6.7566e-01,\n",
            "         3.3647e+00, -4.0303e-02,  2.6297e-02, -1.0097e+00, -3.1686e-02,\n",
            "         1.8220e-02,  2.3967e-02,  1.3706e-01,  1.8250e+00,  1.9338e-02,\n",
            "         1.4767e+00, -9.8564e-02,  6.8586e-02,  2.6658e-02, -4.9604e-02,\n",
            "         2.9242e+00, -2.3694e-01, -1.3970e+00,  6.0182e-01, -1.5606e+00,\n",
            "        -7.7606e-01,  3.9505e-02, -8.2515e-01, -5.7552e-01,  1.4169e+00,\n",
            "         1.8211e+00,  2.3380e+00, -3.7218e-02,  3.4779e+00,  2.7413e-02,\n",
            "        -1.3406e+00, -9.0818e-02,  5.7632e-01,  3.0428e+00,  2.8480e-02,\n",
            "        -1.8957e-02, -6.0082e-01, -1.2399e-02, -3.8475e-01,  3.4860e+00,\n",
            "         2.8933e+00, -3.7803e-02, -7.9963e-01, -4.0091e-01, -6.7131e-01,\n",
            "         3.2770e+00, -4.1834e-01, -4.1701e-02,  2.2103e+00,  2.9445e+00,\n",
            "         3.4677e+00, -3.1144e+00,  3.7942e+00,  2.6586e-02,  9.0151e-01,\n",
            "        -5.3170e-01,  2.9609e+00, -8.8032e-03, -1.8904e+00, -3.1293e+00,\n",
            "        -8.4262e-01, -2.6810e-01, -6.4187e-01,  1.4088e-03,  1.7487e-01,\n",
            "         1.0893e+00,  2.6275e+00, -3.3419e+00, -2.4736e-01,  3.9798e-02,\n",
            "         3.1367e-02, -1.2022e+00,  2.6751e+00, -1.2098e+00,  1.7243e+00,\n",
            "         2.1986e-02, -8.0056e-03,  1.8011e-01, -3.2313e-03, -8.0065e-02,\n",
            "         1.5629e-03,  3.2314e+00,  2.8163e-02, -8.7495e-01,  4.0065e+00,\n",
            "         3.2033e+00,  2.5981e+00, -1.6687e-01,  4.0834e+00, -4.4590e-01,\n",
            "         2.4028e+00, -3.8100e-02,  4.0524e+00, -7.2159e-02,  2.2279e+00,\n",
            "        -1.2401e-01,  1.8407e-04, -8.8511e-02, -2.0130e-01, -7.2782e-04,\n",
            "         6.1090e-02,  2.3135e+00, -2.3333e-01, -2.6822e+00, -1.9158e-02,\n",
            "        -4.5375e-01, -1.0486e+00,  1.6347e+00,  3.2254e+00, -2.8190e-02,\n",
            "         2.2369e+00,  2.7245e+00,  1.2031e+00,  2.0591e+00, -7.8680e-01,\n",
            "        -1.2480e+00,  2.7432e+00,  1.5691e+00,  1.5578e+00,  1.5266e-02,\n",
            "         1.7019e+00, -1.1804e-01, -1.4651e-01,  3.2337e+00, -5.8903e-01,\n",
            "        -2.7063e-02,  3.7478e+00, -5.2296e-02, -4.4392e-02, -4.1776e+00,\n",
            "         1.6674e+00, -2.8644e-02, -1.3172e-02,  2.8857e+00,  1.2911e+00,\n",
            "         3.3101e+00, -7.7397e-01,  3.4280e+00,  2.3024e+00, -3.1146e-02,\n",
            "         3.0334e+00, -4.0469e-01, -3.0955e+00,  2.5739e+00, -3.5928e-02,\n",
            "         3.9183e-03,  3.0509e-02,  3.0249e+00, -4.4515e-01,  2.5519e+00,\n",
            "        -8.0253e-01, -2.3663e+00,  2.7342e+00,  2.1055e+00,  4.2732e-03,\n",
            "        -2.8317e+00, -3.3784e-01, -1.4129e-01], device='cuda:0',\n",
            "       requires_grad=True), Parameter containing:\n",
            "tensor([[-0.0427, -0.0452,  0.0001,  ..., -0.0252, -0.0492, -0.0251],\n",
            "        [-0.0481, -0.0220, -0.0349,  ...,  0.0018,  0.0182,  0.0407],\n",
            "        [ 0.0323,  0.0248, -0.0087,  ..., -0.0472,  0.0318,  0.0265],\n",
            "        ...,\n",
            "        [ 0.0250,  0.0132, -0.0232,  ..., -0.0180, -0.0356, -0.0178],\n",
            "        [ 0.0174, -0.0286,  0.0065,  ..., -0.0428,  0.0006,  0.0157],\n",
            "        [ 0.0430, -0.0410,  0.0179,  ...,  0.0015, -0.0448, -0.0156]],\n",
            "       device='cuda:0', requires_grad=True), Parameter containing:\n",
            "tensor([-3.3948e-02,  1.8252e-02, -9.2451e-03,  3.3469e+00, -2.0591e-02,\n",
            "        -8.1608e-02,  2.4008e+00,  2.7485e+00, -2.8510e+00, -2.0940e-01,\n",
            "         3.1991e+00,  3.1526e+00,  3.0532e+00, -1.2410e-02, -5.3507e-02,\n",
            "         2.6825e+00,  3.7867e-03,  2.2721e+00, -2.3398e-02, -2.9968e+00,\n",
            "         3.1215e+00,  3.2400e+00, -1.5434e-02,  3.0720e+00,  1.4180e+00,\n",
            "         1.4750e+00, -2.5518e-02,  8.3557e-02, -2.6857e+00,  3.2175e+00,\n",
            "        -1.6650e+00,  3.1821e+00,  3.1434e+00, -2.7704e+00,  3.1946e+00,\n",
            "         2.7438e-02,  3.1739e+00, -7.2732e-01,  2.4869e+00,  3.1779e+00,\n",
            "        -1.4490e-01, -1.2091e-01, -3.5126e-02,  2.1805e-02,  3.1997e+00,\n",
            "         3.0178e+00,  3.2870e+00,  3.2705e+00, -4.7942e-03,  1.4394e+00,\n",
            "         1.4665e+00,  3.5428e-01, -9.7830e-01, -2.8105e+00, -2.7111e+00,\n",
            "         3.3222e+00,  1.1190e-02,  3.6681e-01, -7.2070e-02,  1.0480e+00,\n",
            "         2.9995e+00, -1.1811e+00, -2.8589e+00,  2.9884e+00, -7.3337e-03,\n",
            "         8.3193e-01, -5.6393e-02, -7.6910e-01,  1.5816e-01, -1.3955e-02,\n",
            "         3.9873e-02,  1.2007e-01,  2.8329e+00, -1.8367e-02, -1.6561e+00,\n",
            "         3.1609e+00,  3.0214e+00,  3.0666e+00,  2.4174e-01,  1.6608e-02,\n",
            "         3.1135e+00,  2.8570e+00,  8.5306e-02,  3.2828e+00, -2.2071e+00,\n",
            "         3.2482e+00,  3.0990e+00,  1.5591e+00,  2.7267e+00, -1.8980e+00,\n",
            "         3.2249e+00, -7.0141e-01,  4.0650e-05,  3.2757e+00, -4.4838e-02,\n",
            "        -1.5548e-01,  1.7553e-03,  4.4640e-02, -7.6587e-02, -4.7064e-03,\n",
            "         1.1419e-01,  2.8231e-04, -4.0851e+00,  3.2002e+00, -9.7274e-01,\n",
            "         3.2333e+00,  3.1706e+00,  3.1903e+00, -2.8875e+00,  3.5184e-01,\n",
            "        -8.0064e-01, -3.9454e-02,  3.2288e+00,  2.9769e+00,  3.1266e-02],\n",
            "       device='cuda:0', requires_grad=True), Parameter containing:\n",
            "tensor([[-8.2161e-02, -4.2469e-02, -3.6942e-02,  4.4602e-02, -6.0184e-02,\n",
            "         -7.0218e-02, -6.3181e-04,  4.6738e-02, -1.0823e-01, -5.1044e-04,\n",
            "          5.2596e-02,  4.9036e-02,  6.3864e-02, -8.2112e-03, -1.4777e-03,\n",
            "          1.6372e-02, -3.6146e-02,  2.6702e-02, -5.1662e-02, -1.5806e-01,\n",
            "          4.6517e-02,  6.8763e-02, -8.9910e-02,  1.6332e-02,  7.1667e-02,\n",
            "          4.0690e-02, -5.0966e-02, -1.0682e-03, -1.5277e-01,  3.6900e-02,\n",
            "         -3.6802e-02,  4.7100e-02,  1.5470e-02, -1.4986e-01,  3.9009e-02,\n",
            "         -8.6902e-02,  4.0017e-02, -4.8336e-02,  4.3553e-02,  3.2685e-02,\n",
            "         -6.5086e-02, -3.8202e-02, -8.3964e-02, -6.1777e-02,  4.1730e-02,\n",
            "          6.9313e-02,  2.5012e-02,  2.7152e-02, -7.5630e-02, -1.8346e-04,\n",
            "         -5.4730e-04, -7.8862e-04, -6.4656e-02, -1.0904e-01, -1.4589e-01,\n",
            "          3.7248e-02, -7.2348e-02,  1.6184e-02, -5.0424e-02,  5.2028e-04,\n",
            "          3.7898e-02, -9.5743e-02, -8.9400e-02,  2.0434e-02, -3.2276e-02,\n",
            "          6.7036e-04, -3.1123e-02, -1.6397e-01, -1.3603e-01, -1.7473e-02,\n",
            "         -7.9617e-02,  1.3233e-02,  2.0606e-02, -2.2579e-01,  1.6105e-04,\n",
            "          4.6662e-02,  8.4805e-03,  2.6232e-02,  3.3081e-02, -3.0772e-02,\n",
            "          6.0106e-02,  5.3080e-02,  2.4126e-02,  4.3444e-02, -1.3181e-01,\n",
            "          4.4721e-02,  4.5670e-02,  4.6406e-02,  2.6056e-02, -3.4226e-02,\n",
            "          3.4903e-02, -1.4532e-01, -3.4986e-02,  2.2012e-02, -8.7231e-02,\n",
            "         -3.7990e-02, -7.5627e-02,  6.1494e-04, -1.7116e-02, -1.0873e-02,\n",
            "         -2.1163e-04, -6.9949e-02, -8.2731e-02,  2.1886e-02, -1.2943e-01,\n",
            "          2.6886e-02,  3.4662e-02,  1.5057e-02, -1.1870e-01,  2.1407e-03,\n",
            "         -6.3281e-02, -7.9801e-02,  5.1516e-02,  2.2813e-02, -4.0785e-04]],\n",
            "       device='cuda:0', requires_grad=True), Parameter containing:\n",
            "tensor([3.4209], device='cuda:0', requires_grad=True)]\n"
          ]
        }
      ],
      "source": [
        "#%%script echo skipping\n",
        "\n",
        "print(list(net.parameters()))"
      ]
    },
    {
      "cell_type": "code",
      "execution_count": 140,
      "metadata": {
        "colab": {
          "base_uri": "https://localhost:8080/"
        },
        "id": "1NZ8iVA7UZio",
        "outputId": "4baf8261-4e3e-474a-fb25-8d55f616fadc"
      },
      "outputs": [
        {
          "output_type": "stream",
          "name": "stdout",
          "text": [
            "[Parameter containing:\n",
            "tensor([[-0.0558,  0.1402, -0.1420,  ...,  3.2185,  3.2595,  2.9486],\n",
            "        [-0.1900,  0.2172, -0.1237,  ..., -0.0663,  0.1521, -0.1148],\n",
            "        [-2.4160, -0.2207, -0.0210,  ..., -0.4491, -0.5361, -0.0713],\n",
            "        ...,\n",
            "        [-0.5754, -0.1067,  0.1934,  ..., -4.0551, -3.9723, -4.4382],\n",
            "        [-1.3056,  0.1967,  0.1461,  ...,  0.9154,  1.0790,  1.0737],\n",
            "        [-0.7723,  0.1553, -0.1731,  ...,  2.7272,  2.3940,  2.7190]],\n",
            "       device='cuda:0', requires_grad=True), Parameter containing:\n",
            "tensor([ 3.2699e+00,  2.4478e-01, -3.4663e-01,  4.2353e+00,  2.7404e+00,\n",
            "         2.6552e-01,  1.4369e+00,  2.7785e-01, -2.6340e-02,  3.7246e-02,\n",
            "        -2.1497e+00, -1.1086e+00, -3.8913e+00,  2.1256e+00, -4.3056e+00,\n",
            "         7.5421e-01,  3.0015e-01, -4.5088e+00, -2.6014e+00,  3.4980e+00,\n",
            "        -1.6017e+00, -2.2479e+00, -2.7985e+00,  4.5943e-01,  1.3354e+00,\n",
            "        -7.8873e-01,  9.8609e-01,  2.4258e+00, -1.7091e-01,  2.1446e+00,\n",
            "         1.4181e+00,  1.3473e-02,  2.7704e+00,  1.2092e-01,  1.3776e+00,\n",
            "        -3.5916e-01, -1.7076e+00,  3.2377e-01, -4.4808e+00,  1.9180e+00,\n",
            "         2.7640e-01,  2.8782e+00,  3.3060e+00,  1.4016e+00,  1.4437e+00,\n",
            "        -1.6484e+00, -4.6147e+00, -4.7856e+00,  4.9547e-02, -1.2935e+00,\n",
            "         2.0591e+00, -1.2772e+00,  1.3049e-01, -9.9853e-01, -1.4636e+00,\n",
            "         4.0166e-01, -7.3010e-01, -1.2403e+00, -8.1115e-02,  9.5302e-02,\n",
            "         2.8871e+00,  3.1426e+00, -3.9495e+00,  4.4533e+00,  4.4487e-01,\n",
            "        -4.6035e-01, -4.6843e+00,  1.7106e-01,  6.2830e-01,  5.9531e-01,\n",
            "         1.4675e+00,  7.3907e-02,  1.0383e+00, -1.0097e+00,  3.8470e+00,\n",
            "        -6.0392e-01, -2.3015e-02, -5.2167e-01, -3.0670e+00,  2.2610e-01,\n",
            "         5.6618e-01,  1.4966e+00, -5.5507e-01,  2.3179e-01,  2.8416e-01,\n",
            "        -2.2393e-01,  4.4401e-01, -2.4133e+00,  2.4755e+00, -4.8299e+00,\n",
            "         2.2159e-01,  2.6062e-01,  2.1522e+00,  1.0684e+00, -1.7584e-01,\n",
            "         3.9412e+00,  3.5046e-01,  1.3633e-01,  1.2379e+00, -4.2475e+00,\n",
            "         1.7819e+00, -5.2648e+00,  2.7005e+00, -1.5663e+00,  1.6553e+00,\n",
            "         8.0401e-01, -5.5128e-01, -2.5299e+00, -9.6591e-01, -7.4177e-01,\n",
            "         8.7138e-02,  2.3227e+00,  5.4974e-01, -1.8708e+00, -4.7251e+00,\n",
            "        -1.5610e+00, -3.5709e+00,  3.9747e+00, -5.0709e-01, -2.2432e+00,\n",
            "         2.0922e+00,  1.3441e-01, -1.3119e+00, -1.2887e+00, -2.3243e+00,\n",
            "         2.1474e+00,  3.2022e-01,  1.8302e-01,  6.5418e-02,  3.6240e+00,\n",
            "         1.7958e+00, -2.9523e+00, -7.1195e-01, -4.0970e+00,  8.9909e-01,\n",
            "         5.2259e-01,  4.7322e+00, -7.3961e-01, -7.3748e-01,  4.9904e-02,\n",
            "        -8.2124e-01,  6.5600e-01,  4.4023e-01,  3.7485e-01, -1.2048e-01,\n",
            "         2.6950e+00, -1.4073e+00, -3.7362e-01,  4.2898e-01,  1.2304e+00,\n",
            "         3.5159e+00, -5.2049e+00, -3.1754e+00, -1.6395e+00, -1.3905e+00,\n",
            "         7.3481e-01,  4.5140e+00,  5.4515e-01,  3.8438e-01, -3.1930e+00,\n",
            "         3.7909e-01,  3.0328e+00,  4.0185e+00,  2.0367e+00,  2.6876e+00,\n",
            "        -9.4574e-01,  4.0208e-01, -3.8191e-01, -4.2323e+00, -7.6598e-01,\n",
            "        -2.3478e+00, -7.1655e-01,  1.6776e-01, -4.2974e+00,  4.9463e-01,\n",
            "        -4.1991e+00,  7.4718e-02,  6.2331e-01,  3.4647e+00,  1.3552e-01,\n",
            "         4.7814e+00, -4.3826e+00,  3.1465e+00,  3.0106e-01, -1.1272e-01,\n",
            "        -2.0841e+00,  3.9846e+00,  4.7496e-01,  2.3221e-01,  2.2907e+00,\n",
            "        -3.4062e-02,  1.1186e-02, -4.9406e+00, -5.6047e-02, -1.4995e-01,\n",
            "         8.3831e-01,  4.0339e-01,  4.3170e-01, -2.2292e-01,  3.3670e+00,\n",
            "         3.2796e+00,  2.4528e+00,  1.2609e+00, -3.7920e+00,  2.1808e+00,\n",
            "         1.1944e+00,  3.7177e+00,  4.7810e-01,  4.4384e+00,  4.0002e-01,\n",
            "        -2.3544e-01,  3.3424e+00,  2.3681e+00,  3.9518e-01,  1.6695e+00,\n",
            "         3.4113e+00, -5.1429e+00,  2.7471e-01, -1.4295e+00, -4.4384e+00,\n",
            "        -6.4743e-01,  2.8787e+00,  1.7571e-01, -4.1713e+00,  9.2147e-01,\n",
            "         7.2291e-01, -2.6606e+00, -9.8717e-03,  4.4285e-02,  1.9953e+00,\n",
            "         4.4385e-01, -3.4971e+00, -8.1310e-01,  1.0167e+00,  4.3004e-01,\n",
            "        -1.6091e+00, -1.2632e-01, -1.1273e+00,  3.6231e-02,  4.8152e-01,\n",
            "         1.0753e+00, -3.5533e+00,  3.3091e-01, -8.9368e-01,  4.8240e-01,\n",
            "        -3.1123e+00,  4.9147e-01, -5.4953e-01,  1.0112e-01, -1.2753e+00,\n",
            "         1.6037e-01,  2.8810e+00, -1.9079e+00,  8.0087e-01,  2.8779e+00,\n",
            "        -3.3210e-02,  1.3481e+00, -2.4568e-01,  7.1917e-02,  2.9844e+00,\n",
            "        -7.4207e-01, -5.8972e-02,  1.0781e+00,  1.3942e+00,  7.0201e-02,\n",
            "        -4.4825e+00,  2.3334e+00, -8.3604e-01,  3.5373e+00,  4.4478e-01,\n",
            "         3.2573e-01, -5.2294e-02, -1.2557e+00,  1.2541e+00, -1.5303e+00,\n",
            "        -1.8409e+00,  1.5183e+00,  1.3305e+00,  1.5096e+00, -3.8980e+00,\n",
            "        -1.2597e+00, -3.9595e-01,  2.7316e+00,  1.5310e-01,  4.7984e-01,\n",
            "        -1.5689e+00,  7.7531e-01, -3.2361e+00, -2.4793e+00, -4.6636e+00,\n",
            "        -1.8847e+00, -3.9428e+00, -8.9981e-01, -5.5249e-02,  4.1649e+00,\n",
            "         4.4001e+00, -1.0712e+00, -1.0326e+00,  6.3729e-01,  2.4792e+00,\n",
            "         1.6318e+00,  3.7154e+00, -4.5602e+00,  2.9672e+00, -6.0345e-01,\n",
            "         1.2346e+00,  2.7277e-01,  6.8294e-01,  2.4355e-02, -4.5015e+00,\n",
            "         2.4049e-01,  4.0433e+00, -5.4101e-03,  4.1725e+00,  2.3497e+00,\n",
            "        -2.0074e+00,  2.2721e+00, -6.4912e-01, -3.1822e+00,  2.3537e+00,\n",
            "         2.0217e-01,  1.1716e+00,  1.9140e-01,  1.1905e+00,  1.2871e+00,\n",
            "         2.0037e-01, -1.4929e+00, -4.2916e+00,  4.4786e+00, -1.0876e+00,\n",
            "        -3.3796e+00,  3.9042e+00, -8.5565e-01, -3.4604e+00,  3.8980e+00,\n",
            "         1.6501e+00, -1.2265e+00,  4.3172e+00, -3.2923e+00, -2.8329e-01,\n",
            "         8.1253e-01, -2.0204e+00, -6.6216e-02, -1.5281e-01,  2.4643e-01,\n",
            "         3.6625e+00,  1.4417e+00,  1.0644e+00,  5.4256e-01,  4.2873e+00,\n",
            "         3.2048e+00, -2.8426e+00,  8.1880e-01,  4.4975e+00, -2.6448e+00,\n",
            "        -4.6958e+00,  4.4590e+00,  3.8209e-01, -3.0819e-01, -8.8716e-01,\n",
            "        -4.1522e+00,  1.6853e-02, -2.5812e+00,  1.1926e+00,  4.1346e+00,\n",
            "        -2.4953e+00,  7.8650e-02,  2.3769e+00,  9.9097e-01,  1.8385e-01,\n",
            "         1.1199e+00,  9.4100e-01, -2.1158e+00, -1.8759e+00, -4.1708e+00,\n",
            "        -3.0527e+00,  1.1443e+00, -4.9255e+00,  7.7174e-02, -2.0312e-01,\n",
            "        -1.2890e+00,  3.0292e-01, -2.5469e+00, -3.6974e+00,  1.9591e-01,\n",
            "        -1.4850e-01,  6.0822e-01,  1.9383e+00, -6.8498e-02, -1.2881e+00,\n",
            "         4.4216e-01,  2.2405e-01,  3.9292e+00, -2.0149e+00,  5.7839e-01,\n",
            "        -5.4257e-01, -1.6154e-01,  2.1524e-01,  3.4824e+00,  1.4303e-01,\n",
            "         1.6927e+00, -1.2697e+00, -1.8756e+00,  1.8024e-01, -1.6891e+00,\n",
            "         5.8472e-01,  2.8329e-01, -2.1625e+00, -9.1395e-03, -8.1625e-02,\n",
            "        -1.8642e-01, -1.8138e-01,  2.9814e-02,  1.8586e-01, -1.8853e+00,\n",
            "        -3.2892e+00,  1.1703e-01, -2.1857e+00,  2.0561e+00, -4.2366e+00,\n",
            "         3.5891e+00, -3.2300e+00,  1.2371e+00, -4.2569e+00,  2.0974e-02,\n",
            "         2.2155e-01, -9.9981e-02, -2.4817e-01,  4.1066e+00,  2.2294e+00,\n",
            "        -3.0013e+00,  4.0307e-01,  3.0439e+00, -8.7497e-01,  6.1603e-02,\n",
            "        -4.4044e+00,  2.6111e+00,  4.7786e-01, -3.0563e-03,  2.9452e+00,\n",
            "        -8.5277e-02, -1.0484e+00, -2.2368e+00,  4.2738e-01,  2.8953e+00,\n",
            "         3.0896e-01,  4.1066e-01, -4.3693e+00,  1.0418e+00, -2.8730e+00,\n",
            "         3.0431e+00, -3.8613e-01,  6.5853e-01, -1.4424e+00,  4.7903e-01,\n",
            "         1.7023e+00,  1.7445e+00,  7.5332e-01,  3.0575e+00,  8.7713e-02,\n",
            "         2.9712e+00,  1.1910e+00,  3.3619e-01,  8.5741e-01,  2.5638e+00,\n",
            "         3.3455e+00,  6.4766e-02,  8.4663e-01,  4.3991e+00,  3.5635e-01,\n",
            "        -4.3818e-01,  6.8515e-01, -1.8975e-01, -3.3300e+00,  1.1602e-01,\n",
            "         6.3591e-01,  1.8361e-01,  2.3789e+00, -8.2910e-01,  7.5039e-01,\n",
            "         5.3679e-01,  2.9592e-01,  1.7231e-01,  3.9676e+00,  1.8150e+00,\n",
            "         2.6228e-01,  4.3953e+00, -4.1436e+00,  2.2619e+00, -1.7479e-01,\n",
            "         1.4890e+00,  1.2834e+00,  2.9197e+00,  3.8739e-01, -5.0375e-02,\n",
            "        -3.9573e+00, -4.4508e+00,  8.7686e-01,  2.2213e-02, -4.0821e+00,\n",
            "        -1.1374e+00,  3.5421e+00, -1.6264e+00, -4.0558e+00, -4.4886e+00,\n",
            "        -2.5727e-01, -2.5961e-01,  3.3276e-01,  3.8687e+00,  2.3173e+00,\n",
            "         4.2873e+00,  2.6075e-01, -1.2465e-01,  5.0944e-01, -5.9380e-01,\n",
            "         2.2807e+00,  5.2013e-01,  3.4580e-01,  6.9799e-01,  7.8220e-01,\n",
            "        -2.2972e+00,  1.5240e-01,  2.4351e+00,  3.2513e+00, -4.4438e+00,\n",
            "         1.6012e+00,  1.1795e+00, -2.7001e+00, -5.2162e+00,  4.3341e+00,\n",
            "         1.9825e-01,  1.7268e-01, -1.1779e+00, -9.6749e-01, -3.5920e-02,\n",
            "         2.4671e-01,  1.4026e+00, -2.5452e+00,  3.4959e+00, -2.5056e+00,\n",
            "         2.0401e+00, -1.9729e+00, -4.1361e-01,  1.0186e-01,  3.3618e+00,\n",
            "        -1.6035e+00,  6.3858e-01, -6.1952e-01,  9.0642e-01, -1.3917e+00,\n",
            "         4.8492e-02, -2.7442e+00, -4.2045e+00,  1.1331e+00,  2.7824e+00],\n",
            "       device='cuda:0', requires_grad=True), Parameter containing:\n",
            "tensor([[ 0.0472, -0.0366,  0.0370,  ...,  0.0096, -0.0312,  0.1011],\n",
            "        [ 0.0192,  0.0038, -0.0307,  ...,  0.0314, -0.0396,  0.0331],\n",
            "        [ 0.0290,  0.0524,  0.0112,  ..., -0.0280,  0.0038,  0.0300],\n",
            "        ...,\n",
            "        [-0.1118,  0.0509,  0.0352,  ...,  0.0402,  0.0463, -0.0792],\n",
            "        [-0.0260, -0.0114,  0.0305,  ...,  0.0235, -0.0446, -0.0142],\n",
            "        [-0.0386,  0.0381, -0.0205,  ..., -0.0101,  0.0031, -0.0330]],\n",
            "       device='cuda:0', requires_grad=True), Parameter containing:\n",
            "tensor([ 1.1551e+00, -6.2306e-01,  2.4329e-01, -1.9266e-01,  3.1787e+00,\n",
            "         1.5518e-02, -4.6257e-01,  1.5363e+00,  3.1029e-02,  1.9199e-02,\n",
            "         2.6898e+00,  3.7468e+00,  1.4245e+00, -1.2786e-01, -3.7830e-02,\n",
            "        -8.6289e-01, -2.2930e+00, -4.9044e-02,  8.4168e-01, -4.0707e-02,\n",
            "         6.8177e-01,  3.2754e+00,  2.9780e+00, -3.0738e-02, -2.1452e+00,\n",
            "        -3.9029e+00,  1.6595e+00, -2.1714e-01, -2.3068e-02, -7.1852e-01,\n",
            "         3.2595e+00, -2.4145e-03, -1.0763e-01,  3.8004e+00,  2.1358e-02,\n",
            "         1.3652e+00, -2.0416e+00, -3.8210e-03, -8.5506e-02, -2.6880e+00,\n",
            "        -7.2844e-03,  2.6081e+00,  3.4729e+00, -1.7463e+00, -1.7259e-02,\n",
            "        -3.0243e-02, -2.2329e-03,  2.0002e+00, -4.1387e-01, -6.3295e-01,\n",
            "        -3.0414e-01, -6.0759e-04,  9.0588e-01, -1.6986e-02,  2.0429e-03,\n",
            "        -1.3945e-01, -1.3343e-02,  3.6637e+00,  2.8076e+00,  1.6958e-01,\n",
            "         1.9108e-02,  2.3159e+00, -1.1684e-01, -2.9919e+00, -2.1282e-02,\n",
            "         3.0990e+00,  2.5915e+00,  1.1918e-02,  1.9744e+00, -4.7596e-01,\n",
            "        -3.2777e+00,  3.2640e+00, -6.0255e-01,  2.9806e+00, -4.0482e-01,\n",
            "        -2.1958e-01, -4.8336e-01, -1.2651e-01,  2.3345e-02,  6.0482e-01,\n",
            "        -4.5147e-02,  3.7420e+00,  3.6155e-02, -1.4434e-01,  5.3640e-02,\n",
            "        -5.0434e-01, -5.3709e-01,  3.2299e+00, -5.7548e-01,  2.1013e+00,\n",
            "         3.0585e+00, -3.4933e-02, -5.9358e-01,  3.2254e-02,  2.8249e+00,\n",
            "         3.8865e+00,  1.9181e-01, -5.0074e-01, -5.2045e-02, -1.3485e+00,\n",
            "        -1.5611e+00, -3.0224e-02,  2.7742e+00, -3.1378e-01,  3.1041e-01,\n",
            "        -9.3443e-03,  2.2479e-02,  2.8449e+00, -8.1322e-01, -2.5900e-01,\n",
            "         2.8779e+00,  3.8575e-02,  4.2600e-03, -1.5971e+00, -2.2588e-02,\n",
            "         1.6524e+00, -8.7900e-03, -2.7052e-01,  3.9434e+00, -7.3671e-01,\n",
            "         3.3678e+00,  1.5108e-03, -3.6321e+00,  1.9895e-02,  3.6019e+00,\n",
            "        -3.7525e-02,  2.7036e+00, -3.5861e-02,  2.8226e-02,  3.4658e+00,\n",
            "        -4.4690e-02,  3.1371e+00, -6.1051e-01,  3.6405e+00,  4.4173e-03,\n",
            "         3.4686e+00,  7.6855e-03,  1.2372e-01, -2.3011e-02,  1.3509e+00,\n",
            "         3.7859e-02, -5.5950e-01,  2.1861e+00,  1.4664e-02, -2.8629e+00,\n",
            "        -2.1754e-02, -2.4560e-02,  3.2959e+00, -6.9759e-01,  3.3116e+00,\n",
            "        -2.6421e-02, -8.1875e-03, -2.4918e-02, -7.6390e-01, -1.9477e-02,\n",
            "         3.7990e+00, -2.4616e-02,  1.0214e-02, -1.0916e+00,  3.0510e+00,\n",
            "        -3.2464e-03,  2.1977e+00,  2.2614e+00,  2.3199e-02,  3.1607e+00,\n",
            "         3.2679e-02, -5.7528e-01,  1.4827e+00,  2.5421e+00, -7.1583e-01,\n",
            "         1.1451e-02,  3.3122e+00, -5.7321e-01, -8.4700e-01,  3.3104e-02,\n",
            "         2.6441e+00, -9.8681e-01, -1.0382e-01,  4.1275e-02, -6.6492e-01,\n",
            "        -8.9957e-03, -1.0275e-01,  3.3332e-02,  3.3495e+00, -2.3238e+00,\n",
            "        -3.7333e+00, -1.3247e-01,  2.9046e+00, -1.9392e-02,  3.3948e+00,\n",
            "        -1.1466e+00,  2.5817e-03,  2.7181e+00,  2.3669e+00, -2.6460e-02,\n",
            "        -1.5301e+00, -2.4502e-01,  3.3513e+00,  2.7609e+00, -4.3556e-01,\n",
            "         2.8100e+00, -3.8258e-02, -7.5036e-01,  3.1498e+00, -1.1062e-02,\n",
            "        -6.5427e-01, -8.6079e-02, -1.8205e-01,  3.9449e-03,  1.8778e+00,\n",
            "        -1.5076e+00,  2.9117e+00, -2.2108e-02, -1.3820e-02, -2.8106e+00,\n",
            "         4.0421e-02, -1.0903e-01, -2.5386e-02, -4.0835e-02,  3.2346e+00,\n",
            "        -6.9901e-03, -2.5508e+00,  2.8339e+00, -6.2399e-01,  2.1606e+00,\n",
            "         3.1722e+00, -1.7135e+00,  2.6312e+00, -3.5717e-01,  2.7947e+00,\n",
            "         1.9135e+00,  3.5399e+00, -2.3228e-02,  3.0006e+00, -4.9422e-01,\n",
            "         2.2432e-02,  3.3315e+00,  2.1924e-02,  2.4803e-02, -1.1564e-02,\n",
            "         3.3019e+00, -1.7489e-02,  1.5902e+00, -2.2339e+00,  2.5645e+00,\n",
            "        -3.9935e-01, -2.9129e-01, -7.5804e-01,  1.1057e+00,  2.6005e+00,\n",
            "         8.2771e-03, -2.8632e-01,  1.3170e+00,  3.7975e+00, -2.7802e-02,\n",
            "         1.7953e+00, -2.7168e-02, -3.8272e-02, -1.3514e+00, -6.9157e-03,\n",
            "        -9.9642e-01, -2.0783e-01,  1.0917e+00, -3.4095e-02,  2.4848e+00,\n",
            "        -1.6165e+00, -5.1095e-01,  3.2309e+00, -5.3858e-03,  2.6527e+00,\n",
            "         3.7749e+00, -2.6347e-02, -9.1087e-03,  1.6206e+00,  3.0672e+00,\n",
            "         3.1277e+00, -1.8548e-01,  2.0775e+00, -3.9236e-02,  3.2201e+00,\n",
            "         1.4092e+00, -1.3310e+00,  3.1453e+00,  1.4205e+00,  2.7223e+00,\n",
            "        -6.8053e-03,  1.1486e-02,  2.9280e+00, -3.9397e-01, -1.2421e-01,\n",
            "         3.2866e+00, -4.0693e-02,  5.1646e-04, -3.2005e-01, -2.5534e+00,\n",
            "         3.4104e+00,  2.0335e-02, -3.1081e-02,  3.8252e+00, -6.7566e-01,\n",
            "         3.3647e+00, -4.0303e-02,  2.6297e-02, -1.0097e+00, -3.1686e-02,\n",
            "         1.8220e-02,  2.3967e-02,  1.3706e-01,  1.8250e+00,  1.9338e-02,\n",
            "         1.4767e+00, -9.8564e-02,  6.8586e-02,  2.6658e-02, -4.9604e-02,\n",
            "         2.9242e+00, -2.3694e-01, -1.3970e+00,  6.0182e-01, -1.5606e+00,\n",
            "        -7.7606e-01,  3.9505e-02, -8.2515e-01, -5.7552e-01,  1.4169e+00,\n",
            "         1.8211e+00,  2.3380e+00, -3.7218e-02,  3.4779e+00,  2.7413e-02,\n",
            "        -1.3406e+00, -9.0818e-02,  5.7632e-01,  3.0428e+00,  2.8480e-02,\n",
            "        -1.8957e-02, -6.0082e-01, -1.2399e-02, -3.8475e-01,  3.4860e+00,\n",
            "         2.8933e+00, -3.7803e-02, -7.9963e-01, -4.0091e-01, -6.7131e-01,\n",
            "         3.2770e+00, -4.1834e-01, -4.1701e-02,  2.2103e+00,  2.9445e+00,\n",
            "         3.4677e+00, -3.1144e+00,  3.7942e+00,  2.6586e-02,  9.0151e-01,\n",
            "        -5.3170e-01,  2.9609e+00, -8.8032e-03, -1.8904e+00, -3.1293e+00,\n",
            "        -8.4262e-01, -2.6810e-01, -6.4187e-01,  1.4088e-03,  1.7487e-01,\n",
            "         1.0893e+00,  2.6275e+00, -3.3419e+00, -2.4736e-01,  3.9798e-02,\n",
            "         3.1367e-02, -1.2022e+00,  2.6751e+00, -1.2098e+00,  1.7243e+00,\n",
            "         2.1986e-02, -8.0056e-03,  1.8011e-01, -3.2313e-03, -8.0065e-02,\n",
            "         1.5629e-03,  3.2314e+00,  2.8163e-02, -8.7495e-01,  4.0065e+00,\n",
            "         3.2033e+00,  2.5981e+00, -1.6687e-01,  4.0834e+00, -4.4590e-01,\n",
            "         2.4028e+00, -3.8100e-02,  4.0524e+00, -7.2159e-02,  2.2279e+00,\n",
            "        -1.2401e-01,  1.8407e-04, -8.8511e-02, -2.0130e-01, -7.2782e-04,\n",
            "         6.1090e-02,  2.3135e+00, -2.3333e-01, -2.6822e+00, -1.9158e-02,\n",
            "        -4.5375e-01, -1.0486e+00,  1.6347e+00,  3.2254e+00, -2.8190e-02,\n",
            "         2.2369e+00,  2.7245e+00,  1.2031e+00,  2.0591e+00, -7.8680e-01,\n",
            "        -1.2480e+00,  2.7432e+00,  1.5691e+00,  1.5578e+00,  1.5266e-02,\n",
            "         1.7019e+00, -1.1804e-01, -1.4651e-01,  3.2337e+00, -5.8903e-01,\n",
            "        -2.7063e-02,  3.7478e+00, -5.2296e-02, -4.4392e-02, -4.1776e+00,\n",
            "         1.6674e+00, -2.8644e-02, -1.3172e-02,  2.8857e+00,  1.2911e+00,\n",
            "         3.3101e+00, -7.7397e-01,  3.4280e+00,  2.3024e+00, -3.1146e-02,\n",
            "         3.0334e+00, -4.0469e-01, -3.0955e+00,  2.5739e+00, -3.5928e-02,\n",
            "         3.9183e-03,  3.0509e-02,  3.0249e+00, -4.4515e-01,  2.5519e+00,\n",
            "        -8.0253e-01, -2.3663e+00,  2.7342e+00,  2.1055e+00,  4.2732e-03,\n",
            "        -2.8317e+00, -3.3784e-01, -1.4129e-01], device='cuda:0',\n",
            "       requires_grad=True), Parameter containing:\n",
            "tensor([[-0.0427, -0.0452,  0.0001,  ..., -0.0252, -0.0492, -0.0251],\n",
            "        [-0.0481, -0.0220, -0.0349,  ...,  0.0018,  0.0182,  0.0407],\n",
            "        [ 0.0323,  0.0248, -0.0087,  ..., -0.0472,  0.0318,  0.0265],\n",
            "        ...,\n",
            "        [ 0.0250,  0.0132, -0.0232,  ..., -0.0180, -0.0356, -0.0178],\n",
            "        [ 0.0174, -0.0286,  0.0065,  ..., -0.0428,  0.0006,  0.0157],\n",
            "        [ 0.0430, -0.0410,  0.0179,  ...,  0.0015, -0.0448, -0.0156]],\n",
            "       device='cuda:0', requires_grad=True), Parameter containing:\n",
            "tensor([-3.3948e-02,  1.8252e-02, -9.2451e-03,  3.3469e+00, -2.0591e-02,\n",
            "        -8.1608e-02,  2.4008e+00,  2.7485e+00, -2.8510e+00, -2.0940e-01,\n",
            "         3.1991e+00,  3.1526e+00,  3.0532e+00, -1.2410e-02, -5.3507e-02,\n",
            "         2.6825e+00,  3.7867e-03,  2.2721e+00, -2.3398e-02, -2.9968e+00,\n",
            "         3.1215e+00,  3.2400e+00, -1.5434e-02,  3.0720e+00,  1.4180e+00,\n",
            "         1.4750e+00, -2.5518e-02,  8.3557e-02, -2.6857e+00,  3.2175e+00,\n",
            "        -1.6650e+00,  3.1821e+00,  3.1434e+00, -2.7704e+00,  3.1946e+00,\n",
            "         2.7438e-02,  3.1739e+00, -7.2732e-01,  2.4869e+00,  3.1779e+00,\n",
            "        -1.4490e-01, -1.2091e-01, -3.5126e-02,  2.1805e-02,  3.1997e+00,\n",
            "         3.0178e+00,  3.2870e+00,  3.2705e+00, -4.7942e-03,  1.4394e+00,\n",
            "         1.4665e+00,  3.5428e-01, -9.7830e-01, -2.8105e+00, -2.7111e+00,\n",
            "         3.3222e+00,  1.1190e-02,  3.6681e-01, -7.2070e-02,  1.0480e+00,\n",
            "         2.9995e+00, -1.1811e+00, -2.8589e+00,  2.9884e+00, -7.3337e-03,\n",
            "         8.3193e-01, -5.6393e-02, -7.6910e-01,  1.5816e-01, -1.3955e-02,\n",
            "         3.9873e-02,  1.2007e-01,  2.8329e+00, -1.8367e-02, -1.6561e+00,\n",
            "         3.1609e+00,  3.0214e+00,  3.0666e+00,  2.4174e-01,  1.6608e-02,\n",
            "         3.1135e+00,  2.8570e+00,  8.5306e-02,  3.2828e+00, -2.2071e+00,\n",
            "         3.2482e+00,  3.0990e+00,  1.5591e+00,  2.7267e+00, -1.8980e+00,\n",
            "         3.2249e+00, -7.0141e-01,  4.0650e-05,  3.2757e+00, -4.4838e-02,\n",
            "        -1.5548e-01,  1.7553e-03,  4.4640e-02, -7.6587e-02, -4.7064e-03,\n",
            "         1.1419e-01,  2.8231e-04, -4.0851e+00,  3.2002e+00, -9.7274e-01,\n",
            "         3.2333e+00,  3.1706e+00,  3.1903e+00, -2.8875e+00,  3.5184e-01,\n",
            "        -8.0064e-01, -3.9454e-02,  3.2288e+00,  2.9769e+00,  3.1266e-02],\n",
            "       device='cuda:0', requires_grad=True), Parameter containing:\n",
            "tensor([[-8.2161e-02, -4.2469e-02, -3.6942e-02,  4.4602e-02, -6.0184e-02,\n",
            "         -7.0218e-02, -6.3181e-04,  4.6738e-02, -1.0823e-01, -5.1044e-04,\n",
            "          5.2596e-02,  4.9036e-02,  6.3864e-02, -8.2112e-03, -1.4777e-03,\n",
            "          1.6372e-02, -3.6146e-02,  2.6702e-02, -5.1662e-02, -1.5806e-01,\n",
            "          4.6517e-02,  6.8763e-02, -8.9910e-02,  1.6332e-02,  7.1667e-02,\n",
            "          4.0690e-02, -5.0966e-02, -1.0682e-03, -1.5277e-01,  3.6900e-02,\n",
            "         -3.6802e-02,  4.7100e-02,  1.5470e-02, -1.4986e-01,  3.9009e-02,\n",
            "         -8.6902e-02,  4.0017e-02, -4.8336e-02,  4.3553e-02,  3.2685e-02,\n",
            "         -6.5086e-02, -3.8202e-02, -8.3964e-02, -6.1777e-02,  4.1730e-02,\n",
            "          6.9313e-02,  2.5012e-02,  2.7152e-02, -7.5630e-02, -1.8346e-04,\n",
            "         -5.4730e-04, -7.8862e-04, -6.4656e-02, -1.0904e-01, -1.4589e-01,\n",
            "          3.7248e-02, -7.2348e-02,  1.6184e-02, -5.0424e-02,  5.2028e-04,\n",
            "          3.7898e-02, -9.5743e-02, -8.9400e-02,  2.0434e-02, -3.2276e-02,\n",
            "          6.7036e-04, -3.1123e-02, -1.6397e-01, -1.3603e-01, -1.7473e-02,\n",
            "         -7.9617e-02,  1.3233e-02,  2.0606e-02, -2.2579e-01,  1.6105e-04,\n",
            "          4.6662e-02,  8.4805e-03,  2.6232e-02,  3.3081e-02, -3.0772e-02,\n",
            "          6.0106e-02,  5.3080e-02,  2.4126e-02,  4.3444e-02, -1.3181e-01,\n",
            "          4.4721e-02,  4.5670e-02,  4.6406e-02,  2.6056e-02, -3.4226e-02,\n",
            "          3.4903e-02, -1.4532e-01, -3.4986e-02,  2.2012e-02, -8.7231e-02,\n",
            "         -3.7990e-02, -7.5627e-02,  6.1494e-04, -1.7116e-02, -1.0873e-02,\n",
            "         -2.1163e-04, -6.9949e-02, -8.2731e-02,  2.1886e-02, -1.2943e-01,\n",
            "          2.6886e-02,  3.4662e-02,  1.5057e-02, -1.1870e-01,  2.1407e-03,\n",
            "         -6.3281e-02, -7.9801e-02,  5.1516e-02,  2.2813e-02, -4.0785e-04]],\n",
            "       device='cuda:0', requires_grad=True), Parameter containing:\n",
            "tensor([3.4209], device='cuda:0', requires_grad=True)]\n"
          ]
        }
      ],
      "source": [
        "print(list(net_loaded.parameters()))"
      ]
    },
    {
      "cell_type": "code",
      "execution_count": 141,
      "metadata": {
        "colab": {
          "base_uri": "https://localhost:8080/"
        },
        "id": "InGW0Xq6UZip",
        "outputId": "0280f625-4f7e-4fc6-8bed-0d198a8a95b2"
      },
      "outputs": [
        {
          "output_type": "stream",
          "name": "stdout",
          "text": [
            "Sample failed checks. vx^2+vy^2+vz^2: 2.1156828830277203, wtemp_expr: -1.4825647016126497, sdet_expr: 1.1022139808010427\n",
            "Number of valid samples: 0\n",
            "Sample failed checks. vx^2+vy^2+vz^2: 1.0112182741934717, wtemp_expr: -0.11859229032408414, sdet_expr: 1.0049158521352588\n",
            "Number of valid samples: 0\n",
            "Sample failed checks. vx^2+vy^2+vz^2: 1.6010331214935332, wtemp_expr: -0.7300636915785665, sdet_expr: 1.0068467252894635\n",
            "Number of valid samples: 0\n",
            "Sample failed checks. vx^2+vy^2+vz^2: 1.1213523232255609, wtemp_expr: -0.0696024625715963, sdet_expr: 0.8767022368644527\n",
            "Number of valid samples: 0\n",
            "Sample passed checks. vx^2+vy^2+vz^2: 0.4872855874881987, wtemp_expr: 0.47765096605345225, sdet_expr: 1.00927235288398\n",
            "Number of valid samples: 1\n",
            "Sample failed checks. vx^2+vy^2+vz^2: 1.025258374874747, wtemp_expr: -0.05211370883919697, sdet_expr: 0.9285115283535456\n",
            "Number of valid samples: 1\n",
            "Sample passed checks. vx^2+vy^2+vz^2: 0.5123274614146847, wtemp_expr: 0.46329304048507103, sdet_expr: 0.8957240054635071\n",
            "Number of valid samples: 2\n",
            "Sample failed checks. vx^2+vy^2+vz^2: 1.2863383694341577, wtemp_expr: -0.46034772859104334, sdet_expr: 1.0332669396836578\n",
            "Number of valid samples: 2\n",
            "Sample passed checks. vx^2+vy^2+vz^2: 0.9551258334302215, wtemp_expr: 0.023857243193667665, sdet_expr: 1.090133645873509\n",
            "Number of valid samples: 3\n",
            "Sample passed checks. vx^2+vy^2+vz^2: 0.4191238025898747, wtemp_expr: 0.5418101749428346, sdet_expr: 1.0004639799054993\n",
            "Number of valid samples: 4\n",
            "Sample passed checks. vx^2+vy^2+vz^2: 0.44319548695039823, wtemp_expr: 0.5053575543477345, sdet_expr: 1.0856142686833599\n",
            "Number of valid samples: 5\n",
            "Sample passed checks. vx^2+vy^2+vz^2: 0.8796180123906147, wtemp_expr: 0.1704075931744785, sdet_expr: 0.8291537521753422\n",
            "Number of valid samples: 6\n",
            "Sample passed checks. vx^2+vy^2+vz^2: 0.6028337237961592, wtemp_expr: 0.33056571108781097, sdet_expr: 1.024534144205996\n",
            "Number of valid samples: 7\n",
            "Sample failed checks. vx^2+vy^2+vz^2: 1.8322000198932376, wtemp_expr: -0.9958896663538319, sdet_expr: 0.9540293996233185\n",
            "Number of valid samples: 7\n",
            "Sample passed checks. vx^2+vy^2+vz^2: 0.5663144957853585, wtemp_expr: 0.41415354287397466, sdet_expr: 0.8946603557912745\n",
            "Number of valid samples: 8\n",
            "Sample passed checks. vx^2+vy^2+vz^2: 0.46947024113944685, wtemp_expr: 0.5461239418141753, sdet_expr: 0.8694225100094217\n",
            "Number of valid samples: 9\n",
            "Sample passed checks. vx^2+vy^2+vz^2: 0.3506206546894467, wtemp_expr: 0.6096706526664728, sdet_expr: 1.059632535078004\n",
            "Number of valid samples: 10\n",
            "Sample failed checks. vx^2+vy^2+vz^2: 1.296364594715108, wtemp_expr: -0.48182928106191003, sdet_expr: 1.1045477291496995\n",
            "Number of valid samples: 10\n",
            "Sample passed checks. vx^2+vy^2+vz^2: 0.6895548351248498, wtemp_expr: 0.34595477909339734, sdet_expr: 1.0010155597401746\n",
            "Number of valid samples: 11\n",
            "Sample failed checks. vx^2+vy^2+vz^2: 2.119947933232217, wtemp_expr: -1.0709374863803127, sdet_expr: 0.8054496081456313\n",
            "Number of valid samples: 11\n",
            "Sample failed checks. vx^2+vy^2+vz^2: 1.1753649721191533, wtemp_expr: -0.3474093069683788, sdet_expr: 0.8768479774729547\n",
            "Number of valid samples: 11\n",
            "Sample failed checks. vx^2+vy^2+vz^2: 1.1043683804369286, wtemp_expr: -0.1100900502286648, sdet_expr: 0.9439615451112942\n",
            "Number of valid samples: 11\n",
            "Sample failed checks. vx^2+vy^2+vz^2: 1.492574647335545, wtemp_expr: -0.5978664956761421, sdet_expr: 0.8551600663101622\n",
            "Number of valid samples: 11\n",
            "Sample failed checks. vx^2+vy^2+vz^2: 1.6631932820506914, wtemp_expr: -0.8246376405266709, sdet_expr: 0.8605366439640374\n",
            "Number of valid samples: 11\n",
            "Sample failed checks. vx^2+vy^2+vz^2: 1.2014161305753681, wtemp_expr: -0.2292847329344878, sdet_expr: 0.9959375618519343\n",
            "Number of valid samples: 11\n",
            "Sample failed checks. vx^2+vy^2+vz^2: 0.9530566738158336, wtemp_expr: -0.04235611856261312, sdet_expr: 0.9788957769326285\n",
            "Number of valid samples: 11\n",
            "Sample failed checks. vx^2+vy^2+vz^2: 1.1173759930515073, wtemp_expr: -0.13062873140278342, sdet_expr: 0.8767027731352209\n",
            "Number of valid samples: 11\n",
            "Sample failed checks. vx^2+vy^2+vz^2: 1.5776516723512144, wtemp_expr: -0.8638690798900905, sdet_expr: 1.2025177408470833\n",
            "Number of valid samples: 11\n",
            "Sample passed checks. vx^2+vy^2+vz^2: 0.29884504032444625, wtemp_expr: 0.6828345545546679, sdet_expr: 0.9240580352347314\n",
            "Number of valid samples: 12\n",
            "Sample passed checks. vx^2+vy^2+vz^2: 0.7139711469863677, wtemp_expr: 0.3030708730519903, sdet_expr: 1.0333954683125903\n",
            "Number of valid samples: 13\n",
            "Sample failed checks. vx^2+vy^2+vz^2: 2.21851474842261, wtemp_expr: -1.2425740546716506, sdet_expr: 0.8586512459858606\n",
            "Number of valid samples: 13\n",
            "Sample passed checks. vx^2+vy^2+vz^2: 0.6560500314818958, wtemp_expr: 0.3404123954688768, sdet_expr: 0.8885378849754935\n",
            "Number of valid samples: 14\n",
            "Sample failed checks. vx^2+vy^2+vz^2: 1.1102285967830332, wtemp_expr: -0.20405532128749648, sdet_expr: 0.9757215434145473\n",
            "Number of valid samples: 14\n",
            "Sample failed checks. vx^2+vy^2+vz^2: 1.142565930320416, wtemp_expr: -0.17636666206655205, sdet_expr: 0.8971938548026662\n",
            "Number of valid samples: 14\n",
            "Sample failed checks. vx^2+vy^2+vz^2: 1.6022825861774521, wtemp_expr: -0.5244048712651419, sdet_expr: 0.9636097866008774\n",
            "Number of valid samples: 14\n",
            "Sample failed checks. vx^2+vy^2+vz^2: 1.3944060763146808, wtemp_expr: -0.5277568501746883, sdet_expr: 1.0096755339208368\n",
            "Number of valid samples: 14\n",
            "Sample passed checks. vx^2+vy^2+vz^2: 0.2888865037688541, wtemp_expr: 0.7009852851354055, sdet_expr: 1.0649143952535287\n",
            "Number of valid samples: 15\n",
            "Sample passed checks. vx^2+vy^2+vz^2: 0.5203554290430255, wtemp_expr: 0.4629302380679905, sdet_expr: 0.9954284506794767\n",
            "Number of valid samples: 16\n",
            "Sample failed checks. vx^2+vy^2+vz^2: 1.424160266863034, wtemp_expr: -0.5648728550305697, sdet_expr: 0.8968573973882111\n",
            "Number of valid samples: 16\n",
            "Sample passed checks. vx^2+vy^2+vz^2: 0.43178915071008706, wtemp_expr: 0.5302416942235202, sdet_expr: 0.9407200797357635\n",
            "Number of valid samples: 17\n",
            "Sample passed checks. vx^2+vy^2+vz^2: 0.919707710857059, wtemp_expr: 0.07156340400012895, sdet_expr: 0.9408461372302098\n",
            "Number of valid samples: 18\n",
            "Sample passed checks. vx^2+vy^2+vz^2: 0.3707730621482856, wtemp_expr: 0.5954100554452163, sdet_expr: 1.040156100055165\n",
            "Number of valid samples: 19\n",
            "Sample passed checks. vx^2+vy^2+vz^2: 0.8273186341830685, wtemp_expr: 0.1134111509188871, sdet_expr: 0.9492696627050582\n",
            "Number of valid samples: 20\n",
            "rho.shape:  torch.Size([20])\n",
            "epsilon.shape:  torch.Size([20])\n"
          ]
        },
        {
          "output_type": "execute_result",
          "data": {
            "text/plain": [
              "tensor([[ 1.7943e+00,  3.8490e+01,  9.2467e+02,  1.9405e+02,  1.0288e+03,\n",
              "          8.6126e+00,  2.4465e+00,  9.8379e+00,  9.5427e-01,  5.9431e-02,\n",
              "          5.2276e-02,  1.0469e+00,  6.2772e-02,  1.0201e+00],\n",
              "        [ 6.9982e-01,  3.2768e+01,  1.4579e+02,  4.0697e+01,  1.6852e+02,\n",
              "         -8.6819e-01,  1.7281e-01,  8.3852e+00,  1.0110e+00,  8.9682e-02,\n",
              "          6.6414e-02,  9.9803e-01,  6.0667e-02,  9.0222e-01],\n",
              "        [ 5.5855e+00,  5.9216e+01, -1.0313e+00,  5.1646e+01,  7.5898e+01,\n",
              "         -3.3018e+00, -3.8202e+00,  4.5028e-01,  9.8206e-01,  1.8147e-02,\n",
              "          1.8809e-02,  1.0862e+00,  7.3758e-02,  1.0275e+00],\n",
              "        [ 2.2442e+00,  7.4597e+02,  1.7951e+02,  7.7019e+01,  8.4854e+02,\n",
              "          1.4746e+00, -3.3866e+00, -6.4853e+00,  1.0752e+00,  4.4522e-02,\n",
              "          1.3940e-02,  1.0310e+00,  3.1595e-02,  9.0526e-01],\n",
              "        [ 2.7794e+00,  5.1224e+01,  3.1383e+01,  7.5905e+01,  9.8426e+01,\n",
              "          1.4300e+00, -8.2788e+00,  2.1571e+00,  1.0255e+00,  2.1876e-02,\n",
              "          4.4447e-02,  9.7036e-01,  2.4868e-02,  1.0939e+00],\n",
              "        [ 3.0788e-01,  4.4881e+01,  4.9987e+01,  8.5039e+01,  1.1389e+02,\n",
              "         -4.2066e+00, -6.9438e+00,  7.5409e+00,  9.7876e-01,  2.7454e-02,\n",
              "          2.4621e-02,  9.2016e-01,  6.1695e-02,  9.2609e-01],\n",
              "        [ 1.1105e+00,  2.8326e+00,  1.0830e+02,  4.0650e+01,  1.1236e+02,\n",
              "          3.8442e+00, -3.8199e+00,  1.0032e+01,  9.0564e-01,  6.7235e-02,\n",
              "          7.6180e-02,  1.0767e+00,  4.2620e-02,  1.0633e+00],\n",
              "        [ 6.3834e-01,  3.9013e+00,  7.3695e+01,  1.4839e+02,  2.1977e+02,\n",
              "          6.8268e+00, -7.8933e-02,  8.6242e+00,  9.7562e-01,  1.6623e-03,\n",
              "          6.2622e-02,  9.6986e-01,  9.8596e-02,  9.5954e-01],\n",
              "        [ 2.2615e-01,  3.5394e+01,  5.9906e+01,  4.5325e+01,  9.4519e+01,\n",
              "          6.8645e+00,  2.7563e+00, -9.0487e+00,  9.9213e-01,  5.4116e-02,\n",
              "          2.9718e-02,  9.1636e-01,  1.5896e-02,  9.6050e-01],\n",
              "        [ 2.0773e+00,  1.7551e+01,  2.5460e+01,  4.9416e+01,  6.8991e+01,\n",
              "          2.3487e+00, -8.5934e+00,  2.2897e+00,  1.0413e+00,  1.4246e-02,\n",
              "          7.3739e-02,  1.0968e+00,  7.9707e-02,  9.3887e-01],\n",
              "        [ 6.5668e-01,  9.0794e+01,  3.7318e+02,  1.1072e+02,  4.2889e+02,\n",
              "          8.6856e+00, -4.6112e+00,  3.3581e+00,  1.0968e+00,  4.9855e-02,\n",
              "          5.8206e-02,  9.0460e-01,  7.3725e-02,  1.0201e+00],\n",
              "        [ 3.7035e-01,  6.5096e+01,  1.1202e+00,  3.0232e+01,  1.1710e+02,\n",
              "         -3.9017e+00, -8.1650e+00, -4.2513e+00,  1.0518e+00,  4.0879e-02,\n",
              "          3.1982e-02,  9.3280e-01,  1.0025e-02,  9.4452e-01],\n",
              "        [ 3.5422e+00, -9.0147e+00,  1.0087e-01,  1.6047e+02,  1.8082e+02,\n",
              "          7.2281e+00,  1.0037e+01,  2.6980e+00,  1.0916e+00,  7.2074e-03,\n",
              "          1.8573e-02,  1.0304e+00,  8.2318e-02,  9.2574e-01],\n",
              "        [ 2.8370e-01,  4.0517e+01,  8.4652e+00,  5.4447e+01,  7.0192e+01,\n",
              "          6.0876e+00, -6.0929e+00, -3.6187e+00,  9.7370e-01,  8.7167e-02,\n",
              "          4.5384e-02,  1.0031e+00,  8.8736e-02,  9.2620e-01],\n",
              "        [ 1.2075e+00,  1.5949e+02,  3.7689e+02,  4.7267e+01,  5.8067e+02,\n",
              "         -4.8733e+00, -8.0688e+00, -4.5534e+00,  9.4864e-01,  4.3691e-03,\n",
              "          4.4716e-02,  1.0347e+00,  4.2771e-02,  1.0888e+00],\n",
              "        [ 1.1645e-01,  2.0397e+01,  4.0464e+01,  2.6231e+01,  5.4355e+01,\n",
              "         -1.0391e+00, -4.0823e+00,  6.9314e+00,  1.0122e+00,  2.8423e-02,\n",
              "          1.0837e-02,  9.9316e-01,  2.2501e-02,  9.9164e-01],\n",
              "        [ 1.7978e+00,  3.6131e+02,  4.0866e+01,  2.9325e+02,  5.4762e+02,\n",
              "         -8.2134e+00, -5.2989e+00, -1.7579e+00,  9.8766e-01,  2.2499e-02,\n",
              "          8.0223e-02,  9.0120e-01,  1.2272e-02,  1.0641e+00],\n",
              "        [ 4.5751e+00,  1.2662e+02,  1.5894e+02,  3.7900e+01,  2.0331e+02,\n",
              "          9.2408e+00, -9.6008e+00,  2.5002e+00,  1.0381e+00,  2.2008e-02,\n",
              "          9.3060e-02,  9.9085e-01,  3.9194e-02,  9.2487e-01],\n",
              "        [ 1.5617e+00,  1.4599e+01,  3.6994e+01, -1.5246e+01,  6.9898e+01,\n",
              "         -4.3712e+00, -2.6390e+00, -9.5003e+00,  9.5164e-01,  3.0599e-03,\n",
              "          7.1031e-03,  1.0480e+00,  9.4357e-02,  1.0515e+00],\n",
              "        [ 5.7488e+00,  3.5868e+02,  9.4911e+02,  4.9376e+02,  1.1037e+03,\n",
              "         -5.8081e+00,  8.3850e+00, -2.5968e+00,  9.0982e-01,  2.5243e-02,\n",
              "          3.4163e-02,  9.9598e-01,  9.1420e-02,  1.0578e+00]], device='cuda:0')"
            ]
          },
          "metadata": {},
          "execution_count": 141
        }
      ],
      "source": [
        "rho_example, epsilon_example, vx_example, vy_example, vz_example, Bx_example, By_example, Bz_example, gxx_example, gxy_example, gxz_example, gyy_example, gyz_example, gzz_example = generate_samples(20)\n",
        "\n",
        "inputs =  generate_input_data(rho_example, epsilon_example, vx_example, vy_example, vz_example, Bx_example, By_example, Bz_example, gxx_example, gxy_example, gxz_example, gyy_example, gyz_example, gzz_example)\n",
        "inputs\n"
      ]
    },
    {
      "cell_type": "code",
      "execution_count": 142,
      "metadata": {
        "colab": {
          "base_uri": "https://localhost:8080/"
        },
        "id": "QVa1upmFUZip",
        "outputId": "f441501a-d7ae-4c49-bb4a-721ed4808b67"
      },
      "outputs": [
        {
          "output_type": "execute_result",
          "data": {
            "text/plain": [
              "[tensor([[604.9720]], device='cuda:0', grad_fn=<ReluBackward0>),\n",
              " tensor([[229.1090]], device='cuda:0', grad_fn=<ReluBackward0>),\n",
              " tensor([[0.]], device='cuda:0', grad_fn=<ReluBackward0>),\n",
              " tensor([[492.0301]], device='cuda:0', grad_fn=<ReluBackward0>),\n",
              " tensor([[0.]], device='cuda:0', grad_fn=<ReluBackward0>),\n",
              " tensor([[50.5989]], device='cuda:0', grad_fn=<ReluBackward0>),\n",
              " tensor([[0.]], device='cuda:0', grad_fn=<ReluBackward0>),\n",
              " tensor([[288.3940]], device='cuda:0', grad_fn=<ReluBackward0>),\n",
              " tensor([[55.9587]], device='cuda:0', grad_fn=<ReluBackward0>),\n",
              " tensor([[0.]], device='cuda:0', grad_fn=<ReluBackward0>),\n",
              " tensor([[421.9948]], device='cuda:0', grad_fn=<ReluBackward0>),\n",
              " tensor([[169.6775]], device='cuda:0', grad_fn=<ReluBackward0>),\n",
              " tensor([[0.]], device='cuda:0', grad_fn=<ReluBackward0>),\n",
              " tensor([[20.1090]], device='cuda:0', grad_fn=<ReluBackward0>),\n",
              " tensor([[661.6541]], device='cuda:0', grad_fn=<ReluBackward0>),\n",
              " tensor([[48.2598]], device='cuda:0', grad_fn=<ReluBackward0>),\n",
              " tensor([[403.2072]], device='cuda:0', grad_fn=<ReluBackward0>),\n",
              " tensor([[0.]], device='cuda:0', grad_fn=<ReluBackward0>),\n",
              " tensor([[0.]], device='cuda:0', grad_fn=<ReluBackward0>),\n",
              " tensor([[0.]], device='cuda:0', grad_fn=<ReluBackward0>)]"
            ]
          },
          "metadata": {},
          "execution_count": 142
        }
      ],
      "source": [
        "#%%script echo skipping\n",
        "\n",
        "# Pass the inputs to the network and get the outputs\n",
        "outputs = [net(input.unsqueeze(0)) for input in inputs]\n",
        "# Print the outputs\n",
        "outputs"
      ]
    },
    {
      "cell_type": "code",
      "execution_count": 143,
      "metadata": {
        "colab": {
          "base_uri": "https://localhost:8080/"
        },
        "id": "E-Xjfo7VUZir",
        "outputId": "fb3df69c-70a2-4bcc-ac80-60dd95162f7c"
      },
      "outputs": [
        {
          "output_type": "execute_result",
          "data": {
            "text/plain": [
              "[tensor([[604.9720]], device='cuda:0', grad_fn=<ReluBackward0>),\n",
              " tensor([[229.1090]], device='cuda:0', grad_fn=<ReluBackward0>),\n",
              " tensor([[0.]], device='cuda:0', grad_fn=<ReluBackward0>),\n",
              " tensor([[492.0301]], device='cuda:0', grad_fn=<ReluBackward0>),\n",
              " tensor([[0.]], device='cuda:0', grad_fn=<ReluBackward0>),\n",
              " tensor([[50.5989]], device='cuda:0', grad_fn=<ReluBackward0>),\n",
              " tensor([[0.]], device='cuda:0', grad_fn=<ReluBackward0>),\n",
              " tensor([[288.3940]], device='cuda:0', grad_fn=<ReluBackward0>),\n",
              " tensor([[55.9587]], device='cuda:0', grad_fn=<ReluBackward0>),\n",
              " tensor([[0.]], device='cuda:0', grad_fn=<ReluBackward0>),\n",
              " tensor([[421.9948]], device='cuda:0', grad_fn=<ReluBackward0>),\n",
              " tensor([[169.6775]], device='cuda:0', grad_fn=<ReluBackward0>),\n",
              " tensor([[0.]], device='cuda:0', grad_fn=<ReluBackward0>),\n",
              " tensor([[20.1090]], device='cuda:0', grad_fn=<ReluBackward0>),\n",
              " tensor([[661.6541]], device='cuda:0', grad_fn=<ReluBackward0>),\n",
              " tensor([[48.2598]], device='cuda:0', grad_fn=<ReluBackward0>),\n",
              " tensor([[403.2072]], device='cuda:0', grad_fn=<ReluBackward0>),\n",
              " tensor([[0.]], device='cuda:0', grad_fn=<ReluBackward0>),\n",
              " tensor([[0.]], device='cuda:0', grad_fn=<ReluBackward0>),\n",
              " tensor([[0.]], device='cuda:0', grad_fn=<ReluBackward0>)]"
            ]
          },
          "metadata": {},
          "execution_count": 143
        }
      ],
      "source": [
        "\n",
        "# Pass the inputs to the network and get the outputs\n",
        "outputs = [net_loaded(input.unsqueeze(0)) for input in inputs]\n",
        "# Print the outputs\n",
        "outputs"
      ]
    },
    {
      "cell_type": "markdown",
      "metadata": {
        "id": "xjpIvdybUZis"
      },
      "source": [
        "## Porting the model to C++"
      ]
    },
    {
      "cell_type": "code",
      "execution_count": 144,
      "metadata": {
        "colab": {
          "base_uri": "https://localhost:8080/"
        },
        "id": "VMlEd4RoUZis",
        "outputId": "8993f281-c4c1-4df8-e985-4483c9e76bf2"
      },
      "outputs": [
        {
          "output_type": "execute_result",
          "data": {
            "text/plain": [
              "Net(\n",
              "  (hidden_activation): ReLU()\n",
              "  (output_activation): ReLU()\n",
              "  (layers): ModuleList(\n",
              "    (0): Linear(in_features=14, out_features=555, bias=True)\n",
              "    (1): Linear(in_features=555, out_features=458, bias=True)\n",
              "    (2): Linear(in_features=458, out_features=115, bias=True)\n",
              "    (3): Linear(in_features=115, out_features=1, bias=True)\n",
              "  )\n",
              ")"
            ]
          },
          "metadata": {},
          "execution_count": 144
        },
        {
          "output_type": "stream",
          "name": "stdout",
          "text": [
            "Sample failed checks. vx^2+vy^2+vz^2: 1.1058094012949393, wtemp_expr: -0.1503301377362003, sdet_expr: 1.0430095059327322\n",
            "Number of valid samples: 0\n",
            "Sample passed checks. vx^2+vy^2+vz^2: 0.8967003833124785, wtemp_expr: 0.023130095056193567, sdet_expr: 1.0203257525341625\n",
            "Number of valid samples: 1\n",
            "rho.shape:  torch.Size([1])\n",
            "epsilon.shape:  torch.Size([1])\n",
            "input shape:  torch.Size([1, 14])\n",
            "input:  tensor([[ 1.3249e+01,  3.8079e+03,  1.9717e+03,  5.6085e+03,  6.7694e+03,\n",
            "         -4.3367e+00,  2.5866e+00, -5.4978e+00,  9.9959e-01,  9.6084e-02,\n",
            "          3.5314e-03,  9.6276e-01,  5.4303e-02,  1.0736e+00]], device='cuda:0')\n",
            "Output: tensor([[0.]], device='cuda:0', grad_fn=<ReluBackward0>)\n"
          ]
        },
        {
          "output_type": "stream",
          "name": "stderr",
          "text": [
            "<ipython-input-118-96b416f81db5>:53: TracerWarning: Converting a tensor to a Python boolean might cause the trace to be incorrect. We can't record the data flow of Python values, so this value will be treated as a constant in the future. This means that the trace might not generalize to other inputs!\n",
            "  assert x.shape[1] == N_INPUTS, f\"x must have shape (batch_size, {N_INPUTS})\"\n"
          ]
        }
      ],
      "source": [
        "import torch.jit\n",
        "\n",
        "# Creating a dummy input tensor of shape (1, 5) to trace the model\n",
        "dummy_input = torch.randn(1, N_INPUTS).to(device)\n",
        "\n",
        "# Ensure that net_loaded is in evaluation mode.\n",
        "net_loaded.eval()\n",
        "\n",
        "# Tracing the model using the torch.jit.trace function\n",
        "traced_model = torch.jit.trace(net_loaded, dummy_input)\n",
        "\n",
        "# Saving the traced model to a file named \"net.pt\"\n",
        "traced_model.save(\"net.pt\")\n",
        "save_file(\"net.pt\")\n",
        "\n",
        "example_input_to_validate_correct_export_and_import = generate_input_data(*generate_samples(1))\n",
        "print(\"input shape: \", example_input_to_validate_correct_export_and_import.shape)\n",
        "print(\"input: \", example_input_to_validate_correct_export_and_import)\n",
        "print(\"Output:\", net_loaded(example_input_to_validate_correct_export_and_import))"
      ]
    },
    {
      "cell_type": "code",
      "execution_count": 144,
      "metadata": {
        "id": "eERH5SbZzinV"
      },
      "outputs": [],
      "source": []
    }
  ],
  "metadata": {
    "accelerator": "GPU",
    "colab": {
      "gpuType": "T4",
      "provenance": [],
      "toc_visible": true
    },
    "gpuClass": "standard",
    "kernelspec": {
      "display_name": "bsc",
      "language": "python",
      "name": "python3"
    },
    "language_info": {
      "codemirror_mode": {
        "name": "ipython",
        "version": 3
      },
      "file_extension": ".py",
      "mimetype": "text/x-python",
      "name": "python",
      "nbconvert_exporter": "python",
      "pygments_lexer": "ipython3",
      "version": "3.11.3"
    },
    "orig_nbformat": 4
  },
  "nbformat": 4,
  "nbformat_minor": 0
}