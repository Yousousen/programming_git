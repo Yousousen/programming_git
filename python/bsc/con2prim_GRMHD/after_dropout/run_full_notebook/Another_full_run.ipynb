{
  "cells": [
    {
      "cell_type": "markdown",
      "metadata": {
        "id": "TPvB1xoSUZhR"
      },
      "source": [
        "# Neural network to learn conservative-to-primitive conversion in relativistic hydrodynamics"
      ]
    },
    {
      "cell_type": "markdown",
      "metadata": {
        "id": "qAwWM28mc71r"
      },
      "source": [
        "## How to use this notebook\n",
        "\n",
        "### Local installation\n",
        "\n",
        "1. Install required packages with `pip install -r requirements.txt` to your desired environment.\n",
        "2. If a script version of this notebook is desired, comment (not uncomment) the first line of `nbconvert` cell.\n",
        "\n",
        "### Colab installation\n",
        "\n",
        "1.  Comment (not uncomment) the first line of the drive mounting cell.\n",
        "2.  Comment (not uncomment) the first line of the `pip install` cell.\n",
        "\n",
        "<!-- - For colab we also want to set the runtime to GPU by clicking _Change runtime_ in the _Runtime_ menu, and -->\n",
        "<!-- - We want to wait for the google drive connection popup to appear and follow the instructions. -->\n",
        "\n",
        "### Loading / Generating data\n",
        "3. Set `LOAD_DATA_FROM_CSV` to `True` / `False` to load data from csv files / generate data in this notebook.\n",
        "\n",
        "### Training without optimization\n",
        "\n",
        "4. Set `OPTIMIZE = False` in section _Constants and flags to set_.\n",
        "5. Run the entire notebook.\n",
        "\n",
        "### Training with optimization\n",
        "\n",
        "4. Set `OPTIMIZE = True` in section _Constants and flags to set_.\n",
        "5. Run the entire notebook.\n",
        "\n",
        "### Loading an already trained model\n",
        "\n",
        "4. Run cells in section _Initialization_.\n",
        "5. Run cells with definitions in section _Input data and labels_.\n",
        "6. Run cell with the definition of _Net_ in section _Defining the neural network_.\n",
        "7. Make sure the `net.pth`, `optimizer.pth`, `scheduler.pth`, `var_dict.json` and `train_output.csv` files are in the directory containing this notebook.\n",
        "8. Run the cells in section _Loading_ and continue from there.\n",
        "\n",
        "### Generating the C++ model\n",
        "\n",
        "9. Run section _Porting the model to C++_, this requires a model to be loaded.\n",
        "10. Set the path to the `net.pt` file in the C++ source file.\n",
        "11. `mkdir build && cd build`,\n",
        "12. Configure a `CMakeLists.txt` file as is done [here](https://pytorch.org/cppdocs/installing.html).\n",
        "13. `cmake -DCMAKE_PREFIX_PATH=/path/to/libtorch/ ..`,\n",
        "14. Compile and run, e.g. `cmake --build . --config release && ./<executable name>`"
      ]
    },
    {
      "cell_type": "markdown",
      "metadata": {
        "id": "NC7Rj_cUc71t"
      },
      "source": [
        "## Initialization"
      ]
    },
    {
      "cell_type": "markdown",
      "metadata": {
        "id": "Aj72y1dWc71u"
      },
      "source": [
        "\n",
        "Use this first cell to **convert this notebook** to a python script."
      ]
    },
    {
      "cell_type": "code",
      "execution_count": null,
      "metadata": {
        "colab": {
          "base_uri": "https://localhost:8080/"
        },
        "id": "eqdgdNLHUZhV",
        "outputId": "0cf8498e-4c9c-4dd1-f638-16e8577d380c",
        "tags": [
          "remove_cell"
        ]
      },
      "outputs": [
        {
          "output_type": "stream",
          "name": "stdout",
          "text": [
            "skipping\n"
          ]
        }
      ],
      "source": [
        "%%script echo skipping\n",
        "\n",
        "!jupyter nbconvert pt1_before_restructuring.ipynb --TagRemovePreprocessor.enabled=True --TagRemovePreprocessor.remove_cell_tags='{\"remove_cell\"}' --to script"
      ]
    },
    {
      "cell_type": "markdown",
      "metadata": {
        "id": "nzcUr0LnUZhw"
      },
      "source": [
        "Next some cells for working on **google colab**,"
      ]
    },
    {
      "cell_type": "code",
      "execution_count": null,
      "metadata": {
        "id": "pi1m6c06c71x"
      },
      "outputs": [],
      "source": [
        "import os\n",
        "import shutil\n",
        "\n",
        "# check if the drive is mounted\n",
        "drive_mounted = os.path.exists(\"/content/drive\")\n",
        "# change this to your desired folder\n",
        "drive_folder = \"/content/drive/My Drive/bsc/con2prim_GRMHD/dataset_increase\"\n",
        "\n",
        "# define a function to save a file to the drive or the current directory\n",
        "def save_file(file_name):\n",
        "  if drive_mounted:\n",
        "    # save the file to the drive folder\n",
        "    file_path = os.path.join(drive_folder, file_name)\n",
        "    # copy the file from the current directory to the drive folder\n",
        "    shutil.copyfile(file_name, file_path)\n",
        "  else:\n",
        "    # do nothing as the file is already in the current directory\n",
        "    pass\n"
      ]
    },
    {
      "cell_type": "code",
      "execution_count": null,
      "metadata": {
        "colab": {
          "base_uri": "https://localhost:8080/"
        },
        "id": "ecHw2_xlUZhx",
        "outputId": "bd0a5300-4fc8-4515-983e-842fbc2c8fd8"
      },
      "outputs": [
        {
          "output_type": "stream",
          "name": "stdout",
          "text": [
            "Drive already mounted at /content/drive; to attempt to forcibly remount, call drive.mount(\"/content/drive\", force_remount=True).\n"
          ]
        }
      ],
      "source": [
        "#%%script echo skipping\n",
        "\n",
        "from google.colab import drive\n",
        "drive.mount('/content/drive')"
      ]
    },
    {
      "cell_type": "code",
      "execution_count": null,
      "metadata": {
        "colab": {
          "base_uri": "https://localhost:8080/"
        },
        "id": "T1rcStMLUZhy",
        "outputId": "c6084932-7f8d-404e-c54e-a4b0890726a8"
      },
      "outputs": [
        {
          "output_type": "stream",
          "name": "stdout",
          "text": [
            "Looking in indexes: https://pypi.org/simple, https://us-python.pkg.dev/colab-wheels/public/simple/\n",
            "Requirement already satisfied: optuna in /usr/local/lib/python3.10/dist-packages (3.1.1)\n",
            "Requirement already satisfied: tensorboard in /usr/local/lib/python3.10/dist-packages (2.12.2)\n",
            "Requirement already satisfied: tensorboardX in /usr/local/lib/python3.10/dist-packages (2.6)\n",
            "Requirement already satisfied: alembic>=1.5.0 in /usr/local/lib/python3.10/dist-packages (from optuna) (1.11.1)\n",
            "Requirement already satisfied: cmaes>=0.9.1 in /usr/local/lib/python3.10/dist-packages (from optuna) (0.9.1)\n",
            "Requirement already satisfied: colorlog in /usr/local/lib/python3.10/dist-packages (from optuna) (6.7.0)\n",
            "Requirement already satisfied: numpy in /usr/local/lib/python3.10/dist-packages (from optuna) (1.22.4)\n",
            "Requirement already satisfied: packaging>=20.0 in /usr/local/lib/python3.10/dist-packages (from optuna) (23.1)\n",
            "Requirement already satisfied: sqlalchemy>=1.3.0 in /usr/local/lib/python3.10/dist-packages (from optuna) (2.0.10)\n",
            "Requirement already satisfied: tqdm in /usr/local/lib/python3.10/dist-packages (from optuna) (4.65.0)\n",
            "Requirement already satisfied: PyYAML in /usr/local/lib/python3.10/dist-packages (from optuna) (6.0)\n",
            "Requirement already satisfied: absl-py>=0.4 in /usr/local/lib/python3.10/dist-packages (from tensorboard) (1.4.0)\n",
            "Requirement already satisfied: grpcio>=1.48.2 in /usr/local/lib/python3.10/dist-packages (from tensorboard) (1.54.0)\n",
            "Requirement already satisfied: google-auth<3,>=1.6.3 in /usr/local/lib/python3.10/dist-packages (from tensorboard) (2.17.3)\n",
            "Requirement already satisfied: google-auth-oauthlib<1.1,>=0.5 in /usr/local/lib/python3.10/dist-packages (from tensorboard) (1.0.0)\n",
            "Requirement already satisfied: markdown>=2.6.8 in /usr/local/lib/python3.10/dist-packages (from tensorboard) (3.4.3)\n",
            "Requirement already satisfied: protobuf>=3.19.6 in /usr/local/lib/python3.10/dist-packages (from tensorboard) (3.20.3)\n",
            "Requirement already satisfied: requests<3,>=2.21.0 in /usr/local/lib/python3.10/dist-packages (from tensorboard) (2.27.1)\n",
            "Requirement already satisfied: setuptools>=41.0.0 in /usr/local/lib/python3.10/dist-packages (from tensorboard) (67.7.2)\n",
            "Requirement already satisfied: tensorboard-data-server<0.8.0,>=0.7.0 in /usr/local/lib/python3.10/dist-packages (from tensorboard) (0.7.0)\n",
            "Requirement already satisfied: tensorboard-plugin-wit>=1.6.0 in /usr/local/lib/python3.10/dist-packages (from tensorboard) (1.8.1)\n",
            "Requirement already satisfied: werkzeug>=1.0.1 in /usr/local/lib/python3.10/dist-packages (from tensorboard) (2.3.0)\n",
            "Requirement already satisfied: wheel>=0.26 in /usr/local/lib/python3.10/dist-packages (from tensorboard) (0.40.0)\n",
            "Requirement already satisfied: Mako in /usr/local/lib/python3.10/dist-packages (from alembic>=1.5.0->optuna) (1.2.4)\n",
            "Requirement already satisfied: typing-extensions>=4 in /usr/local/lib/python3.10/dist-packages (from alembic>=1.5.0->optuna) (4.5.0)\n",
            "Requirement already satisfied: cachetools<6.0,>=2.0.0 in /usr/local/lib/python3.10/dist-packages (from google-auth<3,>=1.6.3->tensorboard) (5.3.0)\n",
            "Requirement already satisfied: pyasn1-modules>=0.2.1 in /usr/local/lib/python3.10/dist-packages (from google-auth<3,>=1.6.3->tensorboard) (0.3.0)\n",
            "Requirement already satisfied: six>=1.9.0 in /usr/local/lib/python3.10/dist-packages (from google-auth<3,>=1.6.3->tensorboard) (1.16.0)\n",
            "Requirement already satisfied: rsa<5,>=3.1.4 in /usr/local/lib/python3.10/dist-packages (from google-auth<3,>=1.6.3->tensorboard) (4.9)\n",
            "Requirement already satisfied: requests-oauthlib>=0.7.0 in /usr/local/lib/python3.10/dist-packages (from google-auth-oauthlib<1.1,>=0.5->tensorboard) (1.3.1)\n",
            "Requirement already satisfied: urllib3<1.27,>=1.21.1 in /usr/local/lib/python3.10/dist-packages (from requests<3,>=2.21.0->tensorboard) (1.26.15)\n",
            "Requirement already satisfied: certifi>=2017.4.17 in /usr/local/lib/python3.10/dist-packages (from requests<3,>=2.21.0->tensorboard) (2022.12.7)\n",
            "Requirement already satisfied: charset-normalizer~=2.0.0 in /usr/local/lib/python3.10/dist-packages (from requests<3,>=2.21.0->tensorboard) (2.0.12)\n",
            "Requirement already satisfied: idna<4,>=2.5 in /usr/local/lib/python3.10/dist-packages (from requests<3,>=2.21.0->tensorboard) (3.4)\n",
            "Requirement already satisfied: greenlet!=0.4.17 in /usr/local/lib/python3.10/dist-packages (from sqlalchemy>=1.3.0->optuna) (2.0.2)\n",
            "Requirement already satisfied: MarkupSafe>=2.1.1 in /usr/local/lib/python3.10/dist-packages (from werkzeug>=1.0.1->tensorboard) (2.1.2)\n",
            "Requirement already satisfied: pyasn1<0.6.0,>=0.4.6 in /usr/local/lib/python3.10/dist-packages (from pyasn1-modules>=0.2.1->google-auth<3,>=1.6.3->tensorboard) (0.5.0)\n",
            "Requirement already satisfied: oauthlib>=3.0.0 in /usr/local/lib/python3.10/dist-packages (from requests-oauthlib>=0.7.0->google-auth-oauthlib<1.1,>=0.5->tensorboard) (3.2.2)\n"
          ]
        }
      ],
      "source": [
        "# %%script echo skipping\n",
        "\n",
        "!pip install optuna tensorboard tensorboardX"
      ]
    },
    {
      "cell_type": "markdown",
      "metadata": {
        "id": "DvKqYl-ac710"
      },
      "source": [
        "Importing the **libraries**,"
      ]
    },
    {
      "cell_type": "code",
      "execution_count": null,
      "metadata": {
        "id": "tREdWQUVUZhz"
      },
      "outputs": [],
      "source": [
        "import numpy as np\n",
        "import matplotlib.pyplot as plt\n",
        "import torch\n",
        "import torch.nn as nn\n",
        "import torch.optim as optim\n",
        "import torch.nn.functional as F\n",
        "import optuna\n",
        "import tensorboardX as tbx\n",
        "import pandas as pd"
      ]
    },
    {
      "cell_type": "markdown",
      "metadata": {
        "id": "38GvmerjUZhz"
      },
      "source": [
        "### Constants and flags to set\n",
        "Defining some constants and parameters for convenience.\n",
        "\n",
        "**NOTE**: Some **subparameters** still need to be adjusted in the `create_model` function itself as of (Tue May 16 07:42:45 AM CEST 2023) in the case the model is being trained without optimization."
      ]
    },
    {
      "cell_type": "code",
      "execution_count": null,
      "metadata": {
        "id": "ei6VZDYKUZh0"
      },
      "outputs": [],
      "source": [
        "\n",
        "# Checking if GPU is available and setting the device accordingly\n",
        "device = torch.device(\"cuda\" if torch.cuda.is_available() else \"cpu\")\n",
        "\n",
        "N_TRIALS = 1 # Number of trials for hyperparameter optimization # NOTE: Set this properly.\n",
        "OPTIMIZE = True # Whether to optimize the hyperparameters or to use predetermined values. # NOTE: Set this properly.\n",
        "ZSCORE_NORMALIZATION = False # Whether to z-score normalize the input data.\n",
        "LOAD_DATA_FROM_CSV = False  # If not true we generate the data in this file and save to {x_train,y_train,x_test,y_test}.csv, otherwise we load the data from files of the same name. # NOTE: Set this before properly.\n",
        "\n",
        "csv_filenames = { # File names to load input data and labels from if LOAD_DATA_FROM_CSV is True.\n",
        "    \"x_train\": \"x_train.csv\",\n",
        "    \"x_val\": \"x_val.csv\",\n",
        "    \"x_test\": \"x_test.csv\",\n",
        "    \"y_train\": \"y_train.csv\",\n",
        "    \"y_val\": \"y_val.csv\",\n",
        "    \"y_test\": \"y_test.csv\",\n",
        "}\n",
        "\n",
        "# Values to use for hyperparameters if OPTIMIZE is False; set these to the best parameters found by Optuna.\n",
        "# NOTE: TODO: Currently (Sat May 27 05:16:57 PM CEST 2023) there are still subparameters to be set in create_model function.\n",
        "N_LAYERS_NO_OPT = 3\n",
        "N_UNITS_NO_OPT = [555, 458, 115]\n",
        "HIDDEN_ACTIVATION_NAME_NO_OPT = \"LeakyReLU\"\n",
        "OUTPUT_ACTIVATION_NAME_NO_OPT = \"Linear\"\n",
        "LOSS_NAME_NO_OPT = \"Huber\"\n",
        "OPTIMIZER_NAME_NO_OPT = \"RMSprop\"\n",
        "LR_NO_OPT = 0.000122770896701404\n",
        "BATCH_SIZE_NO_OPT = 49\n",
        "N_EPOCHS_NO_OPT = 5 # NOTE: Set this properly.\n",
        "SCHEDULER_NAME_NO_OPT = \"ReduceLROnPlateau\"\n",
        "DROPOUT_RATE_NO_OPT = 0.2\n",
        "\n",
        "N_INPUTS = 14  # Number of input features.\n",
        "N_OUTPUTS = 1  # Number of outputs.\n",
        "Gamma = 5/3  # Adiabatic index\n",
        "\n",
        "n_samples = 1e5 # NOTE: Set this properly.\n",
        "train_frac = 0.7  # 70% of data for training\n",
        "val_frac = 0.15  # 15% of data for validation, rest for testing\n",
        "\n",
        "rho_interval = (0, 2) \n",
        "epsilon_interval = (1e-2, 2000)  # Will be sampled in log space\n",
        "vx_interval = (0, 0.999)  \n",
        "vy_interval = (0, 0.999)  \n",
        "vz_interval = (0, 0.999)  \n",
        "Bx_interval = (-10, 10)  \n",
        "By_interval = (-10, 10)  \n",
        "Bz_interval = (-10, 10)  \n",
        "gxx_interval = (0.9, 1.1)\n",
        "gxy_interval = (0, 0.1)\n",
        "gxz_interval = (0, 0.1)\n",
        "gyy_interval = (0.9, 1.1)\n",
        "gyz_interval = (0, 0.1)\n",
        "gzz_interval = (0.9, 1.1)\n",
        "\n",
        "np.random.seed(57) # Comment for true random data.\n"
      ]
    },
    {
      "cell_type": "markdown",
      "metadata": {
        "id": "dlaP5UL2UZh1"
      },
      "source": [
        "## Input data and labels\n",
        "\n",
        "We either generate the data or load the data. First the definitions for generating the data come below."
      ]
    },
    {
      "cell_type": "code",
      "execution_count": null,
      "metadata": {
        "id": "s_EvGFZcUZh1"
      },
      "outputs": [],
      "source": [
        "# Defining an analytic equation of state (EOS) for an ideal gas\n",
        "def eos_analytic(rho, epsilon):\n",
        "    # Adding some assertions to check that the input tensors are valid and have \n",
        "    # the expected shape and type \n",
        "    assert isinstance(rho, torch.Tensor), \"rho must be a torch.Tensor\"\n",
        "    assert isinstance(epsilon, torch.Tensor), \"epsilon must be a torch.Tensor\"\n",
        "    print('rho.shape: ', rho.shape)\n",
        "    print('epsilon.shape: ', epsilon.shape)\n",
        "    assert rho.shape == epsilon.shape, \"rho and epsilon must have the same shape\"\n",
        "    assert rho.ndim == 1, \"rho and epsilon must be one-dimensional tensors\"\n",
        "    assert rho.dtype == torch.float32, \"rho and epsilon must have dtype torch.float32\"\n",
        "\n",
        "    return (Gamma - 1) * rho * epsilon\n",
        "\n",
        "def sample_primitive_variables_and_metric():\n",
        "    rho = np.random.uniform(*rho_interval)  \n",
        "    epsilon = np.random.uniform(*np.log10(epsilon_interval))\n",
        "    vx = np.random.uniform(*vx_interval)  \n",
        "    vy = np.random.uniform(*vy_interval)  \n",
        "    vz = np.random.uniform(*vz_interval)  \n",
        "    Bx = np.random.uniform(*Bx_interval)  \n",
        "    By = np.random.uniform(*By_interval)  \n",
        "    Bz = np.random.uniform(*Bz_interval)  \n",
        "    gxx = np.random.uniform(*gxx_interval)\n",
        "    gxy = np.random.uniform(*gxy_interval)\n",
        "    gxz = np.random.uniform(*gxz_interval)\n",
        "    gyy = np.random.uniform(*gyy_interval)\n",
        "    gyz = np.random.uniform(*gyz_interval)\n",
        "    gzz = np.random.uniform(*gzz_interval)\n",
        "\n",
        "    return rho, epsilon, vx, vy, vz, Bx, By, Bz, gxx, gxy, gxz, gyy, gyz, gzz\n",
        "\n",
        "def check_sample(rho, epsilon, vx, vy, vz, Bx, By, Bz, gxx, gxy, gxz, gyy, gyz, gzz):\n",
        "    wtemp_expr = 1 - (gxx * vx**2 + gyy * vy**2 + gzz * vz**2 + 2 * gxy * vx * vy + 2 * gxz * vx * vz + 2 * gyz * vy * vz)\n",
        "    sdet_expr = gxx * gyy * gzz + 2 * gxy * gxz * gyz - gxx * gyz ** 2 - gyy * gxz ** 2 - gzz * gxy ** 2\n",
        "    if vx**2 + vy**2 + vz**2 >= 1 or wtemp_expr < 0 or sdet_expr < 0:\n",
        "        # print(f\"Sample failed checks. vx^2+vy^2+vz^2: {vx**2 + vy**2 + vz**2}, wtemp_expr: {wtemp_expr}, sdet_expr: {sdet_expr}\")\n",
        "        return False\n",
        "    else:\n",
        "        # print(f\"Sample passed checks. vx^2+vy^2+vz^2: {vx**2 + vy**2 + vz**2}, wtemp_expr: {wtemp_expr}, sdet_expr: {sdet_expr}\")\n",
        "        return True\n",
        "\n",
        "def generate_samples(n_samples):\n",
        "    samples = []\n",
        "    while len(samples) < n_samples:\n",
        "        sample = sample_primitive_variables_and_metric()\n",
        "        if check_sample(*sample):\n",
        "            samples.append(sample)\n",
        "        # print(f\"Number of valid samples: {len(samples)}\")\n",
        "    return zip(*samples)\n",
        "def sdet(gxx, gxy, gxz, gyy, gyz, gzz):\n",
        "    # Determinant of the three metric.\n",
        "    return (gxx * gyy * gzz + 2 * gxy * gxz * gyz - gxx * gyz ** 2 - gyy * gxz ** 2 - gzz * gxy ** 2) ** 0.5\n",
        "\n",
        "# Defining a function that computes conserved variables from primitive variables and the metric\n",
        "# We follow the source code of GRaM-X: A new GPU-accelerated dynamical spacetime GRMHD code for Exascale\n",
        "# computing with the Einstein Toolkit of Shankar et al.\n",
        "def compute_conserved_variables(rho, epsilon, vx, vy, vz, Bx, By, Bz, gxx, gxy, gxz, gyy, gyz, gzz):\n",
        "    pres = eos_analytic(rho, epsilon)\n",
        "    wtemp = 1 / (1 - (gxx * vx**2 + gyy * vy**2 + gzz * vz**2 +\n",
        "        2 * gxy * vx * vy + 2 * gxz * vx * vz +\n",
        "        2 * gyz * vy * vz))**0.5\n",
        "\n",
        "    vlowx = gxx * vx + gxy * vy + gxz * vz\n",
        "    vlowy = gxy * vx + gyy * vy + gyz * vz\n",
        "    vlowz = gxz * vx + gyz * vy + gzz * vz\n",
        "\n",
        "    Bxlow = gxx * Bx + gxy * By + gxz * Bz\n",
        "    Bylow = gxy * Bx + gyy * By + gyz * Bz\n",
        "    Bzlow = gxz * Bx + gyz * By + gzz * Bz\n",
        "\n",
        "    B2 = Bxlow * Bx + Bylow * By + Bzlow * Bz\n",
        "\n",
        "    Bdotv = Bxlow * vx + Bylow * vy + Bzlow * vz\n",
        "    Bdotv2 = Bdotv * Bdotv\n",
        "    wtemp2 = wtemp * wtemp\n",
        "    b2 = B2 / wtemp2 + Bdotv2\n",
        "    ab0 = wtemp * Bdotv\n",
        "\n",
        "    blowx = (gxx * Bx + gxy * By + gxz * Bz) / wtemp + wtemp * Bdotv * vlowx\n",
        "    blowy = (gxy * Bx + gyy * By + gyz * Bz) / wtemp + wtemp * Bdotv * vlowy\n",
        "    blowz = (gxz * Bx + gyz * By + gzz * Bz) / wtemp + wtemp * Bdotv * vlowz\n",
        "\n",
        "    hrhow2 = (rho * (1 + epsilon) + pres + b2) * (wtemp) * (wtemp)\n",
        "\n",
        "    D = sdet(gxx, gxy, gxz, gyy, gyz, gzz) * rho * (wtemp)\n",
        "    Sx = sdet(gxx, gxy, gxz, gyy, gyz, gzz) * (hrhow2 * vlowx - ab0 * blowx)\n",
        "    Sy = sdet(gxx, gxy, gxz, gyy, gyz, gzz) * (hrhow2 * vlowy - ab0 * blowy)\n",
        "    Sz = sdet(gxx, gxy, gxz, gyy, gyz, gzz) * (hrhow2 * vlowz - ab0 * blowz)\n",
        "    tau = sdet(gxx, gxy, gxz, gyy, gyz, gzz) * (hrhow2 - pres - b2 / 2 - ab0 * ab0) - D\n",
        "    Bconsx = sdet(gxx, gxy, gxz, gyy, gyz, gzz) * Bx\n",
        "    Bconsy = sdet(gxx, gxy, gxz, gyy, gyz, gzz) * By\n",
        "    Bconsz = sdet(gxx, gxy, gxz, gyy, gyz, gzz) * Bz\n",
        "\n",
        "    return D, Sx, Sy, Sz, tau, Bconsx, Bconsy, Bconsz\n",
        "\n",
        "def generate_input_data(rho, epsilon, vx, vy, vz, Bx, By, Bz, gxx, gxy, gxz, gyy, gyz, gzz):\n",
        "    rho = torch.tensor(np.array(rho), dtype=torch.float32).to(device)\n",
        "    epsilon = torch.tensor(np.array(epsilon), dtype=torch.float32).to(device)\n",
        "    vx = torch.tensor(np.array(vx), dtype=torch.float32).to(device)\n",
        "    vy = torch.tensor(np.array(vy), dtype=torch.float32).to(device)\n",
        "    vz = torch.tensor(np.array(vz), dtype=torch.float32).to(device)\n",
        "    Bx = torch.tensor(np.array(Bx), dtype=torch.float32).to(device)\n",
        "    By = torch.tensor(np.array(By), dtype=torch.float32).to(device)\n",
        "    Bz = torch.tensor(np.array(Bz), dtype=torch.float32).to(device)\n",
        "    gxx = torch.tensor(np.array(gxx), dtype=torch.float32).to(device)\n",
        "    gxy = torch.tensor(np.array(gxy), dtype=torch.float32).to(device)\n",
        "    gxz = torch.tensor(np.array(gxz), dtype=torch.float32).to(device)\n",
        "    gyy = torch.tensor(np.array(gyy), dtype=torch.float32).to(device)\n",
        "    gyz = torch.tensor(np.array(gyz), dtype=torch.float32).to(device)\n",
        "    gzz = torch.tensor(np.array(gzz), dtype=torch.float32).to(device)\n",
        "\n",
        "    D, Sx, Sy, Sz, tau, Bscriptx, Bscripty, Bscriptz = compute_conserved_variables(\n",
        "        rho, epsilon, vx, vy, vz, Bx, By, Bz, gxx, gxy, gxz, gyy, gyz, gzz\n",
        "    ) \n",
        "\n",
        "    # Add gxx, gxy, gxz, gyy, gyz, gzz to the tensor\n",
        "    x = torch.stack([D, Sx, Sy, Sz, tau, Bscriptx, Bscripty, Bscriptz, gxx, gxy, gxz, gyy, gyz, gzz], axis=1)\n",
        "    return x\n",
        "\n",
        "# Defining a function that generates output data (labels) from given samples of primitive variables\n",
        "# We use the definitions as given in Recovery schemes for primitive variables in\n",
        "# general-relativistic magnetohydrodynamics of Siegel et al.\n",
        "def generate_labels(rho, epsilon, vx, vy, vz):\n",
        "    # Converting the numpy arrays to torch tensors and moving them to the device\n",
        "    rho = torch.tensor(np.array(rho), dtype=torch.float32).to(device)\n",
        "    epsilon = torch.tensor(np.array(epsilon), dtype=torch.float32).to(device)\n",
        "    vx = torch.tensor(np.array(vx), dtype=torch.float32).to(device)\n",
        "    vy = torch.tensor(np.array(vy), dtype=torch.float32).to(device)\n",
        "    vz = torch.tensor(np.array(vz), dtype=torch.float32).to(device)\n",
        "\n",
        "    # Computing the required quantities\n",
        "    pres = eos_analytic(rho, epsilon)\n",
        "    h = 1 + epsilon + pres / rho\n",
        "    W = 1 / torch.sqrt(1 - (vx * vx + vy * vy + vz * vz))\n",
        "\n",
        "    # Returning the output data tensor\n",
        "    return h * W"
      ]
    },
    {
      "cell_type": "markdown",
      "metadata": {
        "id": "6aYT-2Z7c713"
      },
      "source": [
        "### Generating or loading input data and labels"
      ]
    },
    {
      "cell_type": "code",
      "execution_count": null,
      "metadata": {
        "id": "e6fj24hic714"
      },
      "outputs": [],
      "source": [
        "%config InteractiveShell.ast_node_interactivity = \"all\""
      ]
    },
    {
      "cell_type": "code",
      "execution_count": null,
      "metadata": {
        "id": "cKubR6C8UZh4"
      },
      "outputs": [],
      "source": [
        "if LOAD_DATA_FROM_CSV:\n",
        "    # Load the data from CSV files\n",
        "    x_train = pd.read_csv(csv_filenames[\"x_train\"]).values\n",
        "    y_train = pd.read_csv(csv_filenames[\"y_train\"]).values.squeeze()  # reshape to 1D\n",
        "    x_val = pd.read_csv(csv_filenames[\"x_val\"]).values\n",
        "    y_val = pd.read_csv(csv_filenames[\"y_val\"]).values.squeeze()  # reshape to 1D\n",
        "    x_test = pd.read_csv(csv_filenames[\"x_test\"]).values\n",
        "    y_test = pd.read_csv(csv_filenames[\"y_test\"]).values.squeeze()  # reshape to 1D\n",
        "\n",
        "    # Convert numpy arrays to tensors\n",
        "    x_train = torch.from_numpy(x_train).float().to(device)\n",
        "    y_train = torch.from_numpy(y_train).float().to(device)\n",
        "    x_val = torch.from_numpy(x_val).float().to(device)\n",
        "    y_val = torch.from_numpy(y_val).float().to(device)\n",
        "    x_test = torch.from_numpy(x_test).float().to(device)\n",
        "    y_test = torch.from_numpy(y_test).float().to(device)\n",
        "\n",
        "    # This is an alternative to having if clauses around the cells that visualize these variables.\n",
        "    rho = epsilon = vx = vy = vz = Bx = By = Bz = gxx = gxy = gxz = gyy = gyz  = gzz = None"
      ]
    },
    {
      "cell_type": "code",
      "execution_count": null,
      "metadata": {
        "id": "jxbTWTxhc714"
      },
      "outputs": [],
      "source": [
        "if not LOAD_DATA_FROM_CSV:\n",
        "    # Sample primitive variables and metric\n",
        "    rho, epsilon, vx, vy, vz, Bx, By, Bz, gxx, gxy, gxz, gyy, gyz, gzz = generate_samples(n_samples)"
      ]
    },
    {
      "cell_type": "code",
      "execution_count": null,
      "metadata": {
        "id": "YKuW6ISqc715",
        "outputId": "34a23da0-00de-4e9e-9810-16b32ead867e",
        "colab": {
          "base_uri": "https://localhost:8080/"
        }
      },
      "outputs": [
        {
          "output_type": "stream",
          "name": "stdout",
          "text": [
            "rho.shape:  torch.Size([100000])\n",
            "epsilon.shape:  torch.Size([100000])\n",
            "rho.shape:  torch.Size([100000])\n",
            "epsilon.shape:  torch.Size([100000])\n"
          ]
        }
      ],
      "source": [
        "if not LOAD_DATA_FROM_CSV:\n",
        "    # Generate data and labels.\n",
        "    x = generate_input_data(rho, epsilon, vx, vy, vz, Bx, By, Bz, gxx, gxy, gxz, gyy, gyz, gzz)\n",
        "    y = generate_labels(rho, epsilon, vx, vy, vz)\n",
        "\n",
        "    # Calculate the number of samples in each set\n",
        "    n_train_samples = int(n_samples * train_frac)\n",
        "    n_val_samples = int(n_samples * val_frac)\n",
        "\n",
        "    # Create the data sets\n",
        "    x_train = x[:n_train_samples]\n",
        "    y_train = y[:n_train_samples]\n",
        "    x_val = x[n_train_samples : n_train_samples + n_val_samples]\n",
        "    y_val = y[n_train_samples : n_train_samples + n_val_samples]\n",
        "    x_test = x[n_train_samples + n_val_samples :]\n",
        "    y_test = y[n_train_samples + n_val_samples :]\n",
        "\n",
        "    # Save the data to CSV files; tensors need to be converted numpy arrays for saving in CSV.\n",
        "    pd.DataFrame(x_train.cpu().numpy()).to_csv(csv_filenames[\"x_train\"], index=False)\n",
        "    save_file(csv_filenames[\"x_train\"])\n",
        "    pd.DataFrame(y_train.cpu().numpy()).to_csv(csv_filenames[\"y_train\"], index=False)\n",
        "    save_file(csv_filenames[\"y_train\"])\n",
        "\n",
        "    pd.DataFrame(x_val.cpu().numpy()).to_csv(csv_filenames[\"x_val\"], index=False)\n",
        "    save_file(csv_filenames[\"x_val\"])\n",
        "    pd.DataFrame(y_val.cpu().numpy()).to_csv(csv_filenames[\"y_val\"], index=False)\n",
        "    save_file(csv_filenames[\"y_val\"])\n",
        "\n",
        "    pd.DataFrame(x_test.cpu().numpy()).to_csv(csv_filenames[\"x_test\"], index=False)\n",
        "    save_file(csv_filenames[\"x_test\"])\n",
        "    pd.DataFrame(y_test.cpu().numpy()).to_csv(csv_filenames[\"y_test\"], index=False)\n",
        "    save_file(csv_filenames[\"y_test\"])"
      ]
    },
    {
      "cell_type": "code",
      "execution_count": null,
      "metadata": {
        "id": "HY1m6Tx_c715",
        "outputId": "8a691547-25e5-4a4b-c597-bcb84f1b4082",
        "colab": {
          "base_uri": "https://localhost:8080/"
        }
      },
      "outputs": [
        {
          "output_type": "execute_result",
          "data": {
            "text/plain": [
              "torch.Size([70000, 14])"
            ]
          },
          "metadata": {},
          "execution_count": 53
        },
        {
          "output_type": "execute_result",
          "data": {
            "text/plain": [
              "torch.Size([70000])"
            ]
          },
          "metadata": {},
          "execution_count": 53
        },
        {
          "output_type": "execute_result",
          "data": {
            "text/plain": [
              "torch.Size([15000, 14])"
            ]
          },
          "metadata": {},
          "execution_count": 53
        },
        {
          "output_type": "execute_result",
          "data": {
            "text/plain": [
              "torch.Size([15000])"
            ]
          },
          "metadata": {},
          "execution_count": 53
        },
        {
          "output_type": "execute_result",
          "data": {
            "text/plain": [
              "torch.Size([15000, 14])"
            ]
          },
          "metadata": {},
          "execution_count": 53
        },
        {
          "output_type": "execute_result",
          "data": {
            "text/plain": [
              "torch.Size([15000])"
            ]
          },
          "metadata": {},
          "execution_count": 53
        },
        {
          "output_type": "execute_result",
          "data": {
            "text/plain": [
              "tensor([[ 2.9995e-01,  4.3058e+01, -9.9023e+00,  ...,  1.0797e+00,\n",
              "          4.2051e-02,  1.0164e+00],\n",
              "        [ 1.0622e-01,  1.5459e+01,  3.9885e+01,  ...,  1.0790e+00,\n",
              "          7.8671e-02,  1.0328e+00],\n",
              "        [ 2.8303e+00,  3.0106e+01,  2.6171e+01,  ...,  1.0318e+00,\n",
              "          3.0861e-02,  9.7387e-01],\n",
              "        ...,\n",
              "        [ 2.8815e+00,  3.0250e+01,  5.3790e+01,  ...,  9.4884e-01,\n",
              "          8.3130e-02,  1.0684e+00],\n",
              "        [ 7.9959e-01,  7.2018e+01,  1.2028e+01,  ...,  1.0249e+00,\n",
              "          5.8300e-02,  9.1553e-01],\n",
              "        [ 6.4162e+00,  1.4699e+02,  7.8559e+01,  ...,  9.4858e-01,\n",
              "          4.8489e-02,  1.0555e+00]], device='cuda:0')"
            ]
          },
          "metadata": {},
          "execution_count": 53
        },
        {
          "output_type": "execute_result",
          "data": {
            "text/plain": [
              "tensor([-0.4610, -2.5371,  3.8458,  ...,  9.4994,  4.3755, 17.5878],\n",
              "       device='cuda:0')"
            ]
          },
          "metadata": {},
          "execution_count": 53
        },
        {
          "output_type": "execute_result",
          "data": {
            "text/plain": [
              "tensor([[ 2.6149e+00,  4.4951e+00,  1.9384e+00,  ...,  1.0022e+00,\n",
              "          5.5141e-02,  9.3627e-01],\n",
              "        [ 5.4385e-01,  7.9235e+01,  5.5117e+01,  ...,  9.5658e-01,\n",
              "          8.6858e-02,  9.0124e-01],\n",
              "        [ 2.7357e+00,  1.3421e+01,  2.3565e+01,  ...,  1.0072e+00,\n",
              "          7.3613e-02,  1.0756e+00],\n",
              "        ...,\n",
              "        [ 3.5363e+00,  1.1357e+01,  1.3048e+02,  ...,  9.1316e-01,\n",
              "          8.6642e-02,  1.0895e+00],\n",
              "        [ 2.1580e+00, -1.0792e+01,  7.6983e+01,  ...,  9.5923e-01,\n",
              "          6.8162e-02,  1.0300e+00],\n",
              "        [ 1.9190e+00,  1.1325e+01,  1.4459e+00,  ...,  9.7883e-01,\n",
              "          3.0002e-02,  9.1766e-01]], device='cuda:0')"
            ]
          },
          "metadata": {},
          "execution_count": 53
        },
        {
          "output_type": "execute_result",
          "data": {
            "text/plain": [
              "tensor([-0.9419,  7.8751,  0.8872,  ..., 10.7776, -0.1197,  0.7291],\n",
              "       device='cuda:0')"
            ]
          },
          "metadata": {},
          "execution_count": 53
        },
        {
          "output_type": "execute_result",
          "data": {
            "text/plain": [
              "tensor([[ 5.8123e-01,  6.1341e+00,  2.5080e+01,  ...,  9.6200e-01,\n",
              "          7.0824e-02,  9.3050e-01],\n",
              "        [ 2.3308e+00,  2.5475e+01, -4.6323e+01,  ...,  9.9325e-01,\n",
              "          7.3873e-02,  9.2203e-01],\n",
              "        [ 3.0655e+00,  6.9470e+01,  3.6226e+01,  ...,  1.0783e+00,\n",
              "          3.0537e-02,  9.9391e-01],\n",
              "        ...,\n",
              "        [ 3.9342e+00,  5.0317e+01,  7.8321e+01,  ...,  9.1228e-01,\n",
              "          9.4793e-02,  1.0603e+00],\n",
              "        [ 1.2155e+00,  1.6236e+01,  6.3565e+00,  ...,  1.0611e+00,\n",
              "          5.3558e-02,  9.3159e-01],\n",
              "        [ 1.1386e+00,  7.2911e+01,  2.0720e+01,  ...,  9.3349e-01,\n",
              "          4.0572e-02,  9.6209e-01]], device='cuda:0')"
            ]
          },
          "metadata": {},
          "execution_count": 53
        },
        {
          "output_type": "execute_result",
          "data": {
            "text/plain": [
              "tensor([-0.4335, -2.3478, 16.2540,  ...,  3.6844, -1.3517,  2.7303],\n",
              "       device='cuda:0')"
            ]
          },
          "metadata": {},
          "execution_count": 53
        }
      ],
      "source": [
        "\n",
        "x_train.shape\n",
        "y_train.shape\n",
        "x_val.shape\n",
        "y_val.shape\n",
        "x_test.shape\n",
        "y_test.shape\n",
        "x_train\n",
        "y_train\n",
        "x_val\n",
        "y_val\n",
        "x_test\n",
        "y_test"
      ]
    },
    {
      "cell_type": "code",
      "execution_count": null,
      "metadata": {
        "id": "-Hw2Xw6Cc716",
        "outputId": "7a515871-a2de-4c5a-c43c-61486285348b",
        "colab": {
          "base_uri": "https://localhost:8080/"
        }
      },
      "outputs": [
        {
          "output_type": "execute_result",
          "data": {
            "text/plain": [
              "tensor(False, device='cuda:0')"
            ]
          },
          "metadata": {},
          "execution_count": 54
        },
        {
          "output_type": "execute_result",
          "data": {
            "text/plain": [
              "tensor(False, device='cuda:0')"
            ]
          },
          "metadata": {},
          "execution_count": 54
        },
        {
          "output_type": "execute_result",
          "data": {
            "text/plain": [
              "tensor(False, device='cuda:0')"
            ]
          },
          "metadata": {},
          "execution_count": 54
        },
        {
          "output_type": "execute_result",
          "data": {
            "text/plain": [
              "tensor(False, device='cuda:0')"
            ]
          },
          "metadata": {},
          "execution_count": 54
        },
        {
          "output_type": "execute_result",
          "data": {
            "text/plain": [
              "tensor(False, device='cuda:0')"
            ]
          },
          "metadata": {},
          "execution_count": 54
        },
        {
          "output_type": "execute_result",
          "data": {
            "text/plain": [
              "tensor(False, device='cuda:0')"
            ]
          },
          "metadata": {},
          "execution_count": 54
        }
      ],
      "source": [
        "torch.isnan(x_train).any()\n",
        "torch.isnan(x_val).any()\n",
        "torch.isnan(x_test).any()\n",
        "torch.isnan(y_train).any()\n",
        "torch.isnan(y_val).any()\n",
        "torch.isnan(y_test).any()"
      ]
    },
    {
      "cell_type": "code",
      "execution_count": null,
      "metadata": {
        "id": "b6m82cqwc716",
        "outputId": "e41eface-dd68-46a0-ea4c-54ba8e80633b",
        "colab": {
          "base_uri": "https://localhost:8080/"
        }
      },
      "outputs": [
        {
          "output_type": "execute_result",
          "data": {
            "text/plain": [
              "(tensor([], device='cuda:0', dtype=torch.int64),\n",
              " tensor([], device='cuda:0', dtype=torch.int64))"
            ]
          },
          "metadata": {},
          "execution_count": 55
        },
        {
          "output_type": "execute_result",
          "data": {
            "text/plain": [
              "(tensor([], device='cuda:0', dtype=torch.int64),\n",
              " tensor([], device='cuda:0', dtype=torch.int64))"
            ]
          },
          "metadata": {},
          "execution_count": 55
        },
        {
          "output_type": "execute_result",
          "data": {
            "text/plain": [
              "(tensor([], device='cuda:0', dtype=torch.int64),\n",
              " tensor([], device='cuda:0', dtype=torch.int64))"
            ]
          },
          "metadata": {},
          "execution_count": 55
        }
      ],
      "source": [
        "nan_mask_train = torch.isnan(x_train)     # get a boolean mask indicating NaN values\n",
        "nan_indices_train = torch.where(nan_mask_train)  # get the indices of the NaN values\n",
        "nan_indices_train\n",
        "# len(nan_indices_train)\n",
        "\n",
        "nan_mask_val = torch.isnan(x_val)     # get a boolean mask indicating NaN values\n",
        "nan_indices_val = torch.where(nan_mask_val)  # get the indices of the NaN values\n",
        "nan_indices_val\n",
        "# len(nan_indices_test)\n",
        "\n",
        "nan_mask_test = torch.isnan(x_test)     # get a boolean mask indicating NaN values\n",
        "nan_indices_test = torch.where(nan_mask_test)  # get the indices of the NaN values\n",
        "nan_indices_test\n",
        "# len(nan_indices_test)"
      ]
    },
    {
      "cell_type": "markdown",
      "metadata": {
        "id": "YUmtSXYgc716"
      },
      "source": [
        "## Visualizing the data"
      ]
    },
    {
      "cell_type": "markdown",
      "metadata": {
        "id": "THmoC-Zac717"
      },
      "source": [
        "### Visualizing sampled data"
      ]
    },
    {
      "cell_type": "code",
      "execution_count": null,
      "metadata": {
        "id": "nT8d0owKc717",
        "outputId": "0c27f34a-6f7a-443c-db2d-efc1f1d4020c",
        "colab": {
          "base_uri": "https://localhost:8080/"
        }
      },
      "outputs": [
        {
          "output_type": "stream",
          "name": "stdout",
          "text": [
            "skipping\n"
          ]
        }
      ],
      "source": [
        "%%script echo skipping\n",
        "\n",
        "if not LOAD_DATA_FROM_CSV:\n",
        "    rho\n",
        "    epsilon\n",
        "    vx\n",
        "    vy\n",
        "    vz \n",
        "    Bx\n",
        "    By\n",
        "    Bz\n",
        "    gxx\n",
        "    gxy\n",
        "    gxz\n",
        "    gyy\n",
        "    gyz\n",
        "    gzz "
      ]
    },
    {
      "cell_type": "code",
      "execution_count": null,
      "metadata": {
        "id": "1ZNGMt6ac717",
        "outputId": "552ad3da-b8d8-4a3a-d628-f99b836c1f66",
        "colab": {
          "base_uri": "https://localhost:8080/"
        }
      },
      "outputs": [
        {
          "output_type": "stream",
          "name": "stdout",
          "text": [
            "100000\n",
            "100000\n",
            "100000\n",
            "100000\n",
            "100000\n",
            "100000\n",
            "100000\n",
            "100000\n",
            "\n",
            "100000\n",
            "100000\n",
            "100000\n",
            "100000\n",
            "100000\n",
            "100000\n"
          ]
        }
      ],
      "source": [
        "if not LOAD_DATA_FROM_CSV:\n",
        "    print(len(rho))\n",
        "    print(len(epsilon))\n",
        "    print(len(vx))\n",
        "    print(len(vy))\n",
        "    print(len(vz))\n",
        "    print(len(Bx))\n",
        "    print(len(By))\n",
        "    print(len(Bz))\n",
        "    print()\n",
        "    print(len(gxx))\n",
        "    print(len(gxy))\n",
        "    print(len(gxz))\n",
        "    print(len(gyy))\n",
        "    print(len(gyz))\n",
        "    print(len(gzz))"
      ]
    },
    {
      "cell_type": "code",
      "execution_count": null,
      "metadata": {
        "id": "VMp6XJ6RUZh4"
      },
      "outputs": [],
      "source": [
        "%config InteractiveShell.ast_node_interactivity = \"last_expr_or_assign\""
      ]
    },
    {
      "cell_type": "code",
      "execution_count": null,
      "metadata": {
        "id": "5Cch7ZrJc718",
        "outputId": "ef2d7126-8ad1-40aa-a8cf-1a499a5c1748",
        "colab": {
          "base_uri": "https://localhost:8080/"
        }
      },
      "outputs": [
        {
          "output_type": "stream",
          "name": "stdout",
          "text": [
            "skipping\n"
          ]
        }
      ],
      "source": [
        "%%script echo skipping\n",
        "\n",
        "plt.hist([np.random.uniform(0, 0.999) for _ in range(n_train_samples)], bins=20)"
      ]
    },
    {
      "cell_type": "code",
      "execution_count": null,
      "metadata": {
        "id": "zrPSWC08c718",
        "outputId": "94dd2d65-ab7c-4c2c-d65a-67a2eb7f490a",
        "colab": {
          "base_uri": "https://localhost:8080/"
        }
      },
      "outputs": [
        {
          "output_type": "execute_result",
          "data": {
            "text/plain": [
              "(-0.7782339819626563,\n",
              " -1.9011329477459913,\n",
              " 0.8858167865318509,\n",
              " 0.004500101099324638,\n",
              " -1.5911845428564035,\n",
              " 0.40013217497197084,\n",
              " 0.40736685481456947,\n",
              " -1.783425968904111,\n",
              " 0.27925104634774467,\n",
              " 3.0815732207637225,\n",
              " -1.3978222603493085,\n",
              " -0.8465153381153081,\n",
              " 2.217976820821514,\n",
              " 0.6537859848792063,\n",
              " 0.36091949317226657,\n",
              " 2.634647716887258,\n",
              " -1.562497137786444,\n",
              " -1.445509757247262,\n",
              " -1.0732888983888769,\n",
              " -1.06449178183343,\n",
              " -0.6904966494686902,\n",
              " 0.003441043660486365,\n",
              " -1.9279953630259565,\n",
              " 0.3766168451457381,\n",
              " -1.4448106695537604,\n",
              " 2.7420196966023065,\n",
              " -1.755133256883391,\n",
              " 2.9713693805287136,\n",
              " 0.9698471132816344,\n",
              " -0.3228955444771011,\n",
              " 1.2112440485979552,\n",
              " -0.3400133140624977,\n",
              " 0.1918905382253011,\n",
              " 2.3047887312893867,\n",
              " -1.600091142379036,\n",
              " 1.139571523607501,\n",
              " -1.372060233870511,\n",
              " 1.4374129283532122,\n",
              " -1.6881172450579065,\n",
              " 2.6253038388243173,\n",
              " 1.3600991550516937,\n",
              " -0.574778812314791,\n",
              " -1.2694311800851232,\n",
              " 0.9021560478208084,\n",
              " 0.35939281267961,\n",
              " 2.3899650004345894,\n",
              " -0.29048259094751594,\n",
              " 2.5261638371040034,\n",
              " -1.0725471192785314,\n",
              " -0.15438742423739638,\n",
              " -1.7778516843446708,\n",
              " 2.2727935954674203,\n",
              " -0.5836132726311325,\n",
              " 1.3016861492062963,\n",
              " -0.18378281171704125,\n",
              " 0.730818697099485,\n",
              " -0.5180757134021563,\n",
              " 1.8742775045946765,\n",
              " -0.5198978694139893,\n",
              " 0.39833651915868185,\n",
              " 0.9622828502454372,\n",
              " 1.519142332415834,\n",
              " -0.226489057273763,\n",
              " 1.121293758673517,\n",
              " -1.9549276244693699,\n",
              " -0.08582529798200467,\n",
              " -0.7448034960138898,\n",
              " 0.9209173087378302,\n",
              " 3.103386361747569,\n",
              " 0.046307338710311896,\n",
              " 3.1370889768951447,\n",
              " -1.4157073718000723,\n",
              " -1.7188206124666934,\n",
              " 1.4952151905608657,\n",
              " -1.3572287081105703,\n",
              " 3.299887960000148,\n",
              " 0.04732072748411431,\n",
              " -1.3009707492038056,\n",
              " 2.0841401177259984,\n",
              " 0.1915564769297995,\n",
              " 2.7501616130998228,\n",
              " 2.627213239556969,\n",
              " -0.2957735313216483,\n",
              " -1.7204443728245395,\n",
              " 0.574085476823829,\n",
              " 0.5198182672242502,\n",
              " -0.8300482762862853,\n",
              " -1.6848558057347074,\n",
              " -0.30417470206711883,\n",
              " 1.8083022645135762,\n",
              " 0.06054999575910003,\n",
              " 1.7592145995892912,\n",
              " -0.9098948475009554,\n",
              " -0.9409400272502038,\n",
              " -0.10226599497605005,\n",
              " 0.9027641937469375,\n",
              " -0.6741448889708728,\n",
              " 1.4274457241118457,\n",
              " 3.108688988467657,\n",
              " 1.951940471420654,\n",
              " 3.029908910979003,\n",
              " -1.6250438518231483,\n",
              " -0.4175587220758492,\n",
              " -0.06033786253998996,\n",
              " -1.9458015525763208,\n",
              " 0.6187730010301977,\n",
              " -0.6101645243424327,\n",
              " -1.561875469274885,\n",
              " 0.6752801984301637,\n",
              " -1.0035978596202675,\n",
              " -0.8257820052226092,\n",
              " 2.3944023136952284,\n",
              " -0.07357334820652306,\n",
              " 1.3322833022379394,\n",
              " -0.4414200916693134,\n",
              " 2.147529147390941,\n",
              " 0.9296143094913174,\n",
              " 1.7236269797716965,\n",
              " 0.04098984959717633,\n",
              " 0.2821039361934625,\n",
              " 0.3096048456030336,\n",
              " 2.097209435296943,\n",
              " 1.141363332905669,\n",
              " 0.6212873439781683,\n",
              " 0.35037610352791804,\n",
              " 3.2931518723841364,\n",
              " -1.9622477266028573,\n",
              " -1.0602525329003374,\n",
              " -1.7363470458875172,\n",
              " 1.3892335959319406,\n",
              " -1.4676133515933245,\n",
              " 1.584138043551501,\n",
              " -1.4297379908101067,\n",
              " 0.7916105947018668,\n",
              " -1.1951954932333266,\n",
              " -1.4011103709804313,\n",
              " 0.225088418665361,\n",
              " -0.08245471447695718,\n",
              " 2.164213297278116,\n",
              " 1.6720936136704387,\n",
              " -1.195303324141812,\n",
              " -1.9850419905286634,\n",
              " 2.1611397795031744,\n",
              " 2.8988918621855326,\n",
              " 3.2909714152690697,\n",
              " 3.181777202929677,\n",
              " 2.4630082181952444,\n",
              " 1.6816782804781032,\n",
              " -1.6012456768093641,\n",
              " 0.33632821487910514,\n",
              " 0.8086682916340813,\n",
              " -0.3185175620928169,\n",
              " -0.19702114814469107,\n",
              " 0.5974276686517594,\n",
              " -0.5403191070530942,\n",
              " 3.042522872223466,\n",
              " 2.7289045404285694,\n",
              " 2.829658994503826,\n",
              " -1.5106664871508282,\n",
              " 3.276593012011375,\n",
              " -0.9667311347614054,\n",
              " 2.6522406414263155,\n",
              " -1.383170120999086,\n",
              " 2.984714538508263,\n",
              " -1.2111580858531257,\n",
              " -0.8123183200528024,\n",
              " 0.930744572515998,\n",
              " 2.406305998072514,\n",
              " -1.1975844405430318,\n",
              " -0.8358439731099254,\n",
              " 0.751079826903069,\n",
              " -0.5866728646126391,\n",
              " -1.1603262276810251,\n",
              " -0.4972919907803002,\n",
              " 2.935869760524514,\n",
              " 0.5864899165287034,\n",
              " -0.8226686755974679,\n",
              " -1.5835170309001536,\n",
              " 2.3154869737749237,\n",
              " 1.8811964315079646,\n",
              " 3.06048972249393,\n",
              " 1.4012095336740953,\n",
              " -0.8330982350838887,\n",
              " 1.4958094565893565,\n",
              " 2.3128223492484574,\n",
              " 0.7525185894703328,\n",
              " 1.7587641854543614,\n",
              " 2.2528759389689075,\n",
              " -1.1893674070124725,\n",
              " -1.1110698639455499,\n",
              " 2.224349907470172,\n",
              " 1.411970009955799,\n",
              " 1.8602046990042331,\n",
              " 0.22233398604077514,\n",
              " 0.7168725495438548,\n",
              " -1.674120847513533,\n",
              " -0.6397795586470403,\n",
              " 3.2777827531265142,\n",
              " 0.19219290306900616,\n",
              " 1.9585932446539132,\n",
              " -1.7281201383553193,\n",
              " 1.3524952424853733,\n",
              " 2.3311240523589234,\n",
              " 0.9917164420896283,\n",
              " 1.4947278418188463,\n",
              " 2.949386243245616,\n",
              " 1.331218168740234,\n",
              " -1.6600301336881507,\n",
              " 1.208781083129232,\n",
              " 2.6080790492921295,\n",
              " 0.07054960232095064,\n",
              " -0.35628286236345597,\n",
              " 3.026820778713902,\n",
              " 1.2390558532394076,\n",
              " 0.032848247481905624,\n",
              " 1.113267733002051,\n",
              " 3.1491417312310643,\n",
              " 1.072298235160944,\n",
              " -1.6804662239357602,\n",
              " 1.666168317511501,\n",
              " -1.9873253368092283,\n",
              " -1.41037411598827,\n",
              " 0.695164421785841,\n",
              " 0.06727954185073415,\n",
              " 1.0246110297452615,\n",
              " 3.072381006774407,\n",
              " 3.1627586408060013,\n",
              " -0.06460146549784529,\n",
              " 0.8816888314166,\n",
              " 1.6056252151333608,\n",
              " 0.8495128412517743,\n",
              " 2.168470446592261,\n",
              " 2.3305191713395406,\n",
              " -0.5229788224205068,\n",
              " -1.6477016622040335,\n",
              " 2.4818932698538907,\n",
              " 1.7824196844160696,\n",
              " 1.6573594271547258,\n",
              " 3.035076082375493,\n",
              " 3.195382018775428,\n",
              " 1.9726642700157146,\n",
              " 2.716476691773641,\n",
              " 3.10454617055626,\n",
              " 1.8934495659240413,\n",
              " -1.7708561370971294,\n",
              " -1.1541709701363971,\n",
              " -0.848526343114397,\n",
              " -1.0564745308717005,\n",
              " -0.8027827595793564,\n",
              " 2.893175035688614,\n",
              " 1.6851373332316424,\n",
              " -0.8199022897637984,\n",
              " 2.163880535952158,\n",
              " 2.224293125621058,\n",
              " 0.0235228065639439,\n",
              " 0.5611354413028158,\n",
              " 1.8965692143503738,\n",
              " 2.9221121356882156,\n",
              " 1.6748889949417611,\n",
              " -0.8496188052685945,\n",
              " 2.7277591611270013,\n",
              " 3.0999243410650905,\n",
              " 2.0192971863199594,\n",
              " 2.958246139016925,\n",
              " 2.881452911412258,\n",
              " 0.9760708951512949,\n",
              " -0.6649249380019293,\n",
              " 2.0887941400384857,\n",
              " 0.25578483136306396,\n",
              " -0.930609949395103,\n",
              " 1.0436156889362618,\n",
              " 1.982182751718716,\n",
              " 2.0565819142934973,\n",
              " 0.44986942399661345,\n",
              " 2.6695248005663377,\n",
              " 1.8745618135252111,\n",
              " 1.5654222717180617,\n",
              " -0.8741654469508997,\n",
              " 2.7878433047536264,\n",
              " -1.0373396733886582,\n",
              " 2.9424793750190776,\n",
              " 0.513836992233144,\n",
              " -1.5906052062282205,\n",
              " -0.31195094642285626,\n",
              " 0.6962842478415445,\n",
              " -0.8107388488759044,\n",
              " 0.5768809131890413,\n",
              " -0.5858893089879533,\n",
              " 3.229788457287335,\n",
              " 1.986829952565624,\n",
              " -0.5469220962781784,\n",
              " 0.6559390342197573,\n",
              " -0.5096674478380856,\n",
              " 1.8556910771006612,\n",
              " 1.5250532765881055,\n",
              " -0.09489055010165792,\n",
              " 0.3133264039422978,\n",
              " 0.8730575865523011,\n",
              " 1.9451348372476587,\n",
              " 1.9475354936441969,\n",
              " 1.1706005258636702,\n",
              " -0.14948915754331926,\n",
              " 2.8619521359007685,\n",
              " 3.241469874850255,\n",
              " -0.8543741092819803,\n",
              " 2.9074050052508174,\n",
              " 1.8095101956546809,\n",
              " 2.1455225328905847,\n",
              " -0.9887092951677663,\n",
              " 2.1083306990343003,\n",
              " -1.8972406598122977,\n",
              " 1.4062330405706307,\n",
              " 3.0474170157259204,\n",
              " -0.07725135175148123,\n",
              " 0.9853212350105314,\n",
              " 0.7810405434863217,\n",
              " 1.7309078747864048,\n",
              " 2.975080971212398,\n",
              " -1.8606319973330976,\n",
              " -1.0533060466613098,\n",
              " 2.1416722655415352,\n",
              " -0.8727613249264039,\n",
              " 1.8165210669388006,\n",
              " 3.214542670421202,\n",
              " -1.8284654685868096,\n",
              " -1.0896193901141042,\n",
              " 1.6785608245753592,\n",
              " -0.7079838744338842,\n",
              " -1.9867444902233238,\n",
              " -1.4012221086412002,\n",
              " -1.9292756200184984,\n",
              " 2.2044613280528234,\n",
              " -0.43184732637308954,\n",
              " -0.31831157892834105,\n",
              " 2.579907229456971,\n",
              " 2.3684503156352346,\n",
              " 1.8161968057676279,\n",
              " 2.943278793593686,\n",
              " -0.44543998965892984,\n",
              " 2.5655121613584093,\n",
              " 1.2811482327063977,\n",
              " -1.3312863371548245,\n",
              " 2.0816733955550646,\n",
              " -0.31329981236756255,\n",
              " 1.599815627766556,\n",
              " 1.110097601305283,\n",
              " 3.126369666856072,\n",
              " 3.0050309320810316,\n",
              " 1.4328279685891778,\n",
              " 2.6243590210571055,\n",
              " 3.0382404557770073,\n",
              " -1.4636457047484734,\n",
              " 1.5732170603468054,\n",
              " 0.46862102689203367,\n",
              " 1.168078823285951,\n",
              " -1.4218437103784907,\n",
              " -1.0231458502772177,\n",
              " 2.944874381433076,\n",
              " -0.1530062236532037,\n",
              " 1.083711545388113,\n",
              " 2.0548939253909273,\n",
              " 2.8251481385199417,\n",
              " 2.7819316622052828,\n",
              " 0.5090559278342108,\n",
              " 1.3524501201396397,\n",
              " 1.6096647332144154,\n",
              " 0.8203128229852812,\n",
              " 1.989673325171729,\n",
              " 0.7214866709971575,\n",
              " -0.34561254958666954,\n",
              " 1.155205764054553,\n",
              " 3.2508324637421344,\n",
              " 2.7247844965296704,\n",
              " 2.347460837605902,\n",
              " 3.1529857576056024,\n",
              " 2.5472422089817695,\n",
              " -0.44989952567287217,\n",
              " -0.9499359277034867,\n",
              " 2.603171533947025,\n",
              " -0.5292150256922519,\n",
              " 0.4761741986043604,\n",
              " -1.510645279199149,\n",
              " 2.8595725042713944,\n",
              " 0.7057245842830566,\n",
              " -1.6465586568878077,\n",
              " -0.7105864563446531,\n",
              " -0.28171894105062556,\n",
              " 2.6728008820005114,\n",
              " 0.02021800216579095,\n",
              " -1.554073878558882,\n",
              " 2.8917920479167494,\n",
              " 0.2936295732237557,\n",
              " 2.6374261541669535,\n",
              " 1.6199568127388377,\n",
              " 1.9747829140265365,\n",
              " 1.1101969047440798,\n",
              " 1.5096530373563883,\n",
              " 0.9035033725572075,\n",
              " 0.08489405582173992,\n",
              " -0.6336748726938064,\n",
              " 0.154759815874693,\n",
              " 0.7522053128935786,\n",
              " -0.2191305699255297,\n",
              " 0.8732255970456011,\n",
              " 2.8844801545989895,\n",
              " 2.6110366768510165,\n",
              " 0.4833391571396435,\n",
              " 1.4465033944106325,\n",
              " -1.6755433464377245,\n",
              " 2.1697795915703937,\n",
              " 1.6143254443406585,\n",
              " -0.21908999893896763,\n",
              " -1.1752303714075059,\n",
              " 0.5731452121760774,\n",
              " 0.38152763880079377,\n",
              " 1.422737793003185,\n",
              " -1.3007896846222446,\n",
              " 2.360722785138667,\n",
              " 1.823992141304446,\n",
              " 2.158166933059321,\n",
              " -1.0614533990394248,\n",
              " 1.9121822058112663,\n",
              " 0.9320303893608037,\n",
              " 2.8501433885380765,\n",
              " 2.251279652770428,\n",
              " 0.034271414985100446,\n",
              " -0.6940810412429703,\n",
              " 0.4916957994072515,\n",
              " 0.6036891503039103,\n",
              " 2.17832896582025,\n",
              " 0.9845191686737129,\n",
              " 0.5776453301452675,\n",
              " -1.0650280064374877,\n",
              " 2.924168973638537,\n",
              " 0.027752149258518433,\n",
              " -0.41495753761028054,\n",
              " 1.659120863521026,\n",
              " 2.547264591530568,\n",
              " 1.7996133369916496,\n",
              " 0.8551496739412192,\n",
              " -1.7063434481543465,\n",
              " -1.180849018417322,\n",
              " 0.17147894104437,\n",
              " 1.5916761929944556,\n",
              " -1.6332792448456055,\n",
              " 2.6920730906221477,\n",
              " 2.5993176241537608,\n",
              " 2.3811187260127964,\n",
              " 0.9686997017565679,\n",
              " -0.3050670231915631,\n",
              " 1.8991529678701409,\n",
              " 2.109269553184223,\n",
              " 2.168250955483604,\n",
              " 0.9748160204974292,\n",
              " 2.291685776797231,\n",
              " 0.804189291003746,\n",
              " 1.5978146336437389,\n",
              " 1.2439873504311656,\n",
              " 0.10980226979763597,\n",
              " 0.4354093157105483,\n",
              " -1.026486297159724,\n",
              " 2.3062575632054774,\n",
              " -1.9455147844741876,\n",
              " -0.6218690049304698,\n",
              " -1.9762684570664955,\n",
              " 2.0056562835158367,\n",
              " -1.8339238155885471,\n",
              " 0.9533685332843165,\n",
              " 0.5057750326272039,\n",
              " 2.9205766738750363,\n",
              " 1.387074595222694,\n",
              " 2.6334127206281277,\n",
              " 3.0997183940191215,\n",
              " -1.5803907352837694,\n",
              " 2.431819306917946,\n",
              " 2.860604222592869,\n",
              " 1.453343780557363,\n",
              " -1.9326034178216538,\n",
              " 0.2575575332066191,\n",
              " -0.40775230064959356,\n",
              " 0.19619082721581593,\n",
              " -0.3768368934737929,\n",
              " -1.2371666243998718,\n",
              " -1.3243964927886545,\n",
              " -1.720988829977278,\n",
              " 0.02079855754387916,\n",
              " 0.49046545331458713,\n",
              " 0.6327464689059057,\n",
              " -1.5794404096551313,\n",
              " 1.3270297342829194,\n",
              " 0.7687025260634193,\n",
              " 0.324601844865231,\n",
              " 1.3975643140433833,\n",
              " 0.8293976619457779,\n",
              " 2.7102807059239202,\n",
              " 3.0990670485512384,\n",
              " -0.6196711610733341,\n",
              " 3.209618837383209,\n",
              " 1.3962635098141805,\n",
              " -1.5695528079147134,\n",
              " 0.39400664552665177,\n",
              " 0.20948349416099088,\n",
              " 2.800705871681008,\n",
              " 0.3658688302093025,\n",
              " 0.6654404845445856,\n",
              " 0.31014607190099674,\n",
              " 2.5242401426944925,\n",
              " 1.3308026628076268,\n",
              " 2.984158929621308,\n",
              " 1.6395856299353389,\n",
              " 0.43817502060099045,\n",
              " 0.8792029606475533,\n",
              " 1.6220473548343994,\n",
              " 1.543228416701973,\n",
              " 2.51347513357683,\n",
              " 1.288356738241856,\n",
              " 0.10252901293208927,\n",
              " 1.036770825045406,\n",
              " 0.5231791194687285,\n",
              " 1.1959515839493053,\n",
              " 3.2285676981186118,\n",
              " -0.2837712853200167,\n",
              " 0.7943326755307689,\n",
              " 3.2136407895234838,\n",
              " 2.4262802534231485,\n",
              " 1.4162732452982052,\n",
              " -1.1818144659297296,\n",
              " 1.826347054684958,\n",
              " -0.8480930149207719,\n",
              " 2.9975199191079556,\n",
              " 2.8374315386695024,\n",
              " -1.5014776727123529,\n",
              " 2.9430423217865425,\n",
              " -1.8924554827885558,\n",
              " -1.1384769628037845,\n",
              " 3.0532140548002396,\n",
              " 1.484308212896544,\n",
              " -1.389068352548711,\n",
              " -0.7383802502321715,\n",
              " 1.0329808785103247,\n",
              " 1.087241110779917,\n",
              " 0.3494317879674447,\n",
              " -1.3174058368986148,\n",
              " 1.6929193022741282,\n",
              " -0.8427317426055296,\n",
              " 3.0353784600128906,\n",
              " -0.5198891232037472,\n",
              " -0.7732601137628878,\n",
              " 1.8784284635301365,\n",
              " -0.16846725914764438,\n",
              " 2.0942285785289068,\n",
              " -1.0910410149437328,\n",
              " 3.1225728939090773,\n",
              " -0.06058614965967979,\n",
              " 1.0383481165505222,\n",
              " -0.3236053163067094,\n",
              " 1.1565439344971709,\n",
              " -1.8029958495425054,\n",
              " -0.0034862433111693125,\n",
              " 0.8506438699582888,\n",
              " 3.144037730803346,\n",
              " -1.705889681114989,\n",
              " 1.1039914719415616,\n",
              " 3.2658700398606513,\n",
              " 2.5143363520853788,\n",
              " -1.19095921588096,\n",
              " 3.264876158138277,\n",
              " -0.30012720943717763,\n",
              " 0.452920704989503,\n",
              " 2.6185650392539737,\n",
              " 3.167091235984582,\n",
              " -1.0834528204004068,\n",
              " 1.7572589525769584,\n",
              " 2.136749287955051,\n",
              " 3.293565054186864,\n",
              " 3.097681103500637,\n",
              " 2.4514672656568806,\n",
              " 0.7077666562373195,\n",
              " -0.8665057162479484,\n",
              " 1.6874786879977384,\n",
              " -1.7753035882062325,\n",
              " 1.9433365320533942,\n",
              " 0.9510613976240712,\n",
              " 0.2626925835759115,\n",
              " -1.401500424863506,\n",
              " 1.7055990831983978,\n",
              " 1.1537811726204104,\n",
              " -1.3686633624321534,\n",
              " -1.8693044140701427,\n",
              " -0.6642236006648141,\n",
              " 1.2043190028521833,\n",
              " 1.8835637454255147,\n",
              " -1.9830341189299374,\n",
              " -0.523118854108418,\n",
              " 2.286302942913685,\n",
              " 1.671330938904966,\n",
              " -0.48102117277482015,\n",
              " -1.0216402685851642,\n",
              " 0.5419652059705071,\n",
              " 2.174015641559744,\n",
              " -1.2298253903357679,\n",
              " 0.8275008162671749,\n",
              " 1.0489443761925306,\n",
              " 0.4309660619640523,\n",
              " 1.1027094747180155,\n",
              " 0.7738568408714426,\n",
              " 0.9023505604216697,\n",
              " 2.8089517196987837,\n",
              " 1.6982360305340358,\n",
              " -0.9133939802138482,\n",
              " 0.3039895325918174,\n",
              " 0.5512851204961788,\n",
              " -1.1989230974735046,\n",
              " -0.7676101498947445,\n",
              " 0.38446604578997823,\n",
              " 2.6237695325257917,\n",
              " 1.6536009626211872,\n",
              " -0.09428098858710277,\n",
              " 2.8533279213853966,\n",
              " 0.26132321329937547,\n",
              " -1.8580521307173727,\n",
              " 1.7271326697070228,\n",
              " 1.4188365686090276,\n",
              " -0.8028843225640407,\n",
              " 1.7354119981974505,\n",
              " 3.1927451097529644,\n",
              " 0.8487395775444782,\n",
              " -0.3318444188773704,\n",
              " 0.3463745316253428,\n",
              " 0.050440424064181144,\n",
              " 2.1263774883805153,\n",
              " 0.833124546172284,\n",
              " 1.736306811294245,\n",
              " 0.036816840070950985,\n",
              " 2.2142284037519575,\n",
              " -0.7678101302253304,\n",
              " 2.3690343074805833,\n",
              " -0.7048425073219406,\n",
              " -1.8132449317894532,\n",
              " 1.0210985081982988,\n",
              " -1.0692778192626498,\n",
              " 0.1066672665922721,\n",
              " 0.32774126680910687,\n",
              " 0.4435546480924004,\n",
              " 0.9793885770293849,\n",
              " 2.8824297390328564,\n",
              " 1.6395011596361009,\n",
              " -1.7329314853628015,\n",
              " 2.0645488534358023,\n",
              " -0.4707168107886013,\n",
              " 0.8968308327937065,\n",
              " 1.8126060341212402,\n",
              " -1.1752670414902084,\n",
              " 0.36265422279438697,\n",
              " -1.178033313346404,\n",
              " -1.4848947892869664,\n",
              " -1.554689065773984,\n",
              " -1.455175295648975,\n",
              " -0.18990610060507018,\n",
              " 2.1282694602340575,\n",
              " 0.482979978874019,\n",
              " 0.7263296516252828,\n",
              " 2.4717243474425254,\n",
              " -0.3447896250637992,\n",
              " -1.3345706775545418,\n",
              " -1.2351542413222567,\n",
              " 2.4879381213985354,\n",
              " 1.0292120721548632,\n",
              " 2.7351678620896704,\n",
              " 2.349592654032902,\n",
              " 1.591029319832049,\n",
              " -1.1606525104358,\n",
              " 1.6058455876022957,\n",
              " -0.25196825937963685,\n",
              " 2.945022483100267,\n",
              " 1.783512126848405,\n",
              " -1.0480366100990381,\n",
              " -0.13926954551337656,\n",
              " -0.03196412859385478,\n",
              " 2.5841767305122803,\n",
              " -0.47118715229693753,\n",
              " 2.1640498540441726,\n",
              " 2.823168644967496,\n",
              " -0.9348362503723993,\n",
              " 0.5772974659792864,\n",
              " 0.579368323429625,\n",
              " -0.8024646387656713,\n",
              " 0.7616456112904086,\n",
              " -1.8192315237350585,\n",
              " 1.4636552113202086,\n",
              " -1.645233087955432,\n",
              " 0.5848711382628844,\n",
              " 2.5584498643594813,\n",
              " -0.3809647936394305,\n",
              " 1.8860638391077642,\n",
              " -0.8632879362915,\n",
              " 2.218732707732652,\n",
              " 0.6425754677724358,\n",
              " -0.8588777082079604,\n",
              " -1.051126671099548,\n",
              " 0.7206005555800234,\n",
              " 0.41833823340213616,\n",
              " 1.8395245245016612,\n",
              " 0.8968542401545521,\n",
              " 1.7564767164099608,\n",
              " 1.3569700094381676,\n",
              " 0.4139735638136437,\n",
              " -0.4314801632674252,\n",
              " 2.3450774390900317,\n",
              " -0.4517032813763473,\n",
              " -1.2809167654807982,\n",
              " 0.7949516446476856,\n",
              " 0.46500268727418925,\n",
              " -0.23928186262035367,\n",
              " -0.5871292798914518,\n",
              " 2.3970052176653454,\n",
              " -0.09604087220677981,\n",
              " 3.0754052379125847,\n",
              " -0.346770377975135,\n",
              " 0.01620178875296796,\n",
              " 0.5466060938339763,\n",
              " 0.6945683926170805,\n",
              " 0.28264135071536733,\n",
              " -0.301493878028803,\n",
              " 0.1533195323169818,\n",
              " -1.0637879378955368,\n",
              " -1.1509545093379765,\n",
              " 1.1560124198747412,\n",
              " 1.0687767587875125,\n",
              " 0.06542527562188782,\n",
              " 2.482993398326639,\n",
              " 1.8453439641318012,\n",
              " 2.4846610578226986,\n",
              " 2.145043786698217,\n",
              " 0.8190709456240772,\n",
              " 1.794089768955279,\n",
              " -1.011221599847663,\n",
              " -0.13323906358762372,\n",
              " 2.022653919232164,\n",
              " -1.4916089296744415,\n",
              " 1.1174538006706478,\n",
              " 2.7523451649526036,\n",
              " -1.9093282176754118,\n",
              " 1.0387976587841425,\n",
              " 0.9531535249944945,\n",
              " 1.7901161689905662,\n",
              " -1.9201461838549103,\n",
              " 0.4418776991230309,\n",
              " 2.0219957556266523,\n",
              " -0.3646794537518545,\n",
              " -1.492941240390342,\n",
              " 2.2579616309982544,\n",
              " -0.4821020714146771,\n",
              " 1.0685854968758974,\n",
              " 1.337141162660759,\n",
              " 0.3376274794915002,\n",
              " 2.7027846960016504,\n",
              " 3.0592837503197208,\n",
              " 0.16598554330590654,\n",
              " 2.646634469959083,\n",
              " 0.4669430764350335,\n",
              " 1.7156939184040776,\n",
              " -1.7267168827517498,\n",
              " 2.4223481344568247,\n",
              " 1.0956652694293325,\n",
              " -0.8801209341077465,\n",
              " -0.25566108315394254,\n",
              " -1.4022285213989,\n",
              " 1.836949395087046,\n",
              " 0.2931432163942711,\n",
              " 1.40788336632514,\n",
              " 2.659286016935927,\n",
              " 0.7462770460937547,\n",
              " 1.9006890446213487,\n",
              " -1.7342558631854064,\n",
              " 0.44163565452009657,\n",
              " 2.9382684284985503,\n",
              " 0.8179463486366196,\n",
              " 0.5605969621968452,\n",
              " 2.803140755604046,\n",
              " -1.8309888414892086,\n",
              " 2.747259083832147,\n",
              " 0.8748046676219325,\n",
              " -1.5584655981389486,\n",
              " -0.2993752142357078,\n",
              " 3.0857696609193033,\n",
              " 2.212345541282711,\n",
              " 0.5684666500411759,\n",
              " 0.5299098901179735,\n",
              " 1.0874726349280803,\n",
              " -1.8385982493274091,\n",
              " 1.3746587435556106,\n",
              " -1.3306265834334736,\n",
              " 3.1018789644498668,\n",
              " 1.9104636997196254,\n",
              " 3.004701173696133,\n",
              " 2.353628169013845,\n",
              " -1.1409588134163466,\n",
              " -1.1185559513543981,\n",
              " 2.148939538847724,\n",
              " 1.047648399893443,\n",
              " -0.11233796616243419,\n",
              " 2.9817133239058045,\n",
              " -1.759184710138463,\n",
              " 0.80066386038669,\n",
              " 2.5591144869789293,\n",
              " -1.4628959336118845,\n",
              " 0.2842905759853944,\n",
              " 2.8156303790763344,\n",
              " 2.1904024935268325,\n",
              " 0.9196268641376957,\n",
              " -0.8313225762900036,\n",
              " -0.35859351413366936,\n",
              " 1.7666676498130922,\n",
              " -1.2701058685551199,\n",
              " -1.7532304591562187,\n",
              " -1.8182521084838053,\n",
              " 3.197328416099821,\n",
              " 1.3099333235367645,\n",
              " 1.8393965741283376,\n",
              " 2.6112909636735893,\n",
              " -1.5214909928052043,\n",
              " 0.4006280971579117,\n",
              " 2.6024097644843707,\n",
              " -1.3221570900961175,\n",
              " 2.466788646854239,\n",
              " 1.8025464602817003,\n",
              " 0.3035294340122179,\n",
              " 0.18161216575895534,\n",
              " 2.646392607032224,\n",
              " -1.693516119489048,\n",
              " 0.8457894411785358,\n",
              " 2.5857331121119884,\n",
              " -1.7644373861320515,\n",
              " -1.3870869028695378,\n",
              " -1.781762747521825,\n",
              " -0.16783569973677626,\n",
              " -0.7420305983701425,\n",
              " 0.08900097648402516,\n",
              " 3.0570543331220996,\n",
              " -0.7725749274986466,\n",
              " -0.644360970247116,\n",
              " -0.7941895102526457,\n",
              " 1.1669897180776196,\n",
              " -1.9339943416871566,\n",
              " -1.36114498664339,\n",
              " 2.1914747924250086,\n",
              " 0.06178178215315899,\n",
              " -1.647162875569331,\n",
              " 2.7916354070471776,\n",
              " -1.1938911446159763,\n",
              " 2.1077444198625317,\n",
              " 1.8971815628327255,\n",
              " 0.9936693602944566,\n",
              " 1.2366343137903004,\n",
              " -1.3625883531567677,\n",
              " 0.7124011716276453,\n",
              " 2.984432973645159,\n",
              " 3.2704135867746666,\n",
              " 2.7035616667148057,\n",
              " 3.1625067181489444,\n",
              " -0.8331553231279911,\n",
              " 2.9263098506354304,\n",
              " 0.9119683187417897,\n",
              " 1.0114701153558565,\n",
              " -1.9169386039730822,\n",
              " 0.8863211998186586,\n",
              " 2.062093579051285,\n",
              " -1.5790012248258645,\n",
              " 0.973001802568227,\n",
              " -1.764998978873857,\n",
              " 2.0445275644399308,\n",
              " -0.8056062774347101,\n",
              " 0.13512303168429218,\n",
              " 2.7577534052205124,\n",
              " 1.1241183266832158,\n",
              " -0.41676674270970393,\n",
              " 1.9609741995116252,\n",
              " -0.23627519985116563,\n",
              " -1.6652033931174068,\n",
              " -0.9913473078597033,\n",
              " -0.38774201793053975,\n",
              " -0.42248108516085736,\n",
              " 0.6695141032303709,\n",
              " -1.7035332549146818,\n",
              " 0.33864543223078813,\n",
              " 1.5637814905678975,\n",
              " 0.17392399315419427,\n",
              " -1.4482145351597562,\n",
              " 2.1048211094801648,\n",
              " 2.815119269451367,\n",
              " -0.9930568272927383,\n",
              " 2.365341408551866,\n",
              " -0.19289528907403475,\n",
              " 1.5397755421379626,\n",
              " 2.0626108969957286,\n",
              " 0.5416090723126024,\n",
              " 1.018370794233653,\n",
              " 0.6153441945690141,\n",
              " 1.7964731985798594,\n",
              " 2.4721593741436383,\n",
              " -0.6762201598633406,\n",
              " -1.1083642863548773,\n",
              " -0.40245099606142,\n",
              " 2.1370955125792808,\n",
              " -0.5914673759172946,\n",
              " -0.15589874233206902,\n",
              " 2.8099652656888487,\n",
              " 3.2380726022895656,\n",
              " 0.6771141993820962,\n",
              " 2.001425664560352,\n",
              " 0.36117525199823675,\n",
              " 2.105015649144674,\n",
              " 2.655611430577811,\n",
              " -1.1848285360098996,\n",
              " 0.8683244979165283,\n",
              " 0.9424958558289718,\n",
              " 3.2666357364396266,\n",
              " 0.5425216074926316,\n",
              " 0.5672036869593473,\n",
              " 2.2300654252527803,\n",
              " 0.11740709134902927,\n",
              " -0.002963867297688161,\n",
              " 2.7249207272365297,\n",
              " 0.06228870414275223,\n",
              " 0.7742529532802744,\n",
              " -1.1563625034263707,\n",
              " -1.4198807908762938,\n",
              " -1.4690475869660506,\n",
              " -0.7967151330169662,\n",
              " 1.8167130248365182,\n",
              " -0.40657447121865786,\n",
              " 1.524875015676761,\n",
              " 3.096819935853137,\n",
              " -1.4819007043489054,\n",
              " 0.7827188610342182,\n",
              " -0.5220370730707833,\n",
              " 1.9779429116465508,\n",
              " -0.923323452352734,\n",
              " 3.0459916450436895,\n",
              " -1.829242584541478,\n",
              " 2.4121222146919576,\n",
              " -0.7590395713459366,\n",
              " 1.308422658437641,\n",
              " -1.3769730524612114,\n",
              " 0.5607178688095731,\n",
              " 2.7338551155825366,\n",
              " -0.6908096480290771,\n",
              " 1.3484283150488348,\n",
              " -0.15760563463274657,\n",
              " 2.7122939497707215,\n",
              " 3.108758045755356,\n",
              " 0.7703224815367293,\n",
              " 2.7639554146290912,\n",
              " 2.728451498058117,\n",
              " 3.084870128980967,\n",
              " 0.684303204431902,\n",
              " 1.9482250371735663,\n",
              " 0.9093359898033913,\n",
              " 2.0517550884156375,\n",
              " 2.3819499547066716,\n",
              " 0.6287380452273408,\n",
              " -0.23186219816205544,\n",
              " -0.2277177311895675,\n",
              " 2.0383558729452123,\n",
              " -1.1353814311498716,\n",
              " 0.6683611965382612,\n",
              " 3.295036914210467,\n",
              " -1.8591060957404117,\n",
              " 1.4794691619357954,\n",
              " 2.916238297745722,\n",
              " -0.5370452094390108,\n",
              " 1.5613013084615663,\n",
              " 1.4830275070021113,\n",
              " -0.12608081531390858,\n",
              " 1.0452811085461926,\n",
              " -0.2534776029705612,\n",
              " 1.7587195116546837,\n",
              " 1.9957035971939336,\n",
              " -1.5571947048846568,\n",
              " -1.4894609826002698,\n",
              " 2.927648209538402,\n",
              " -0.4215626072347045,\n",
              " 1.9099060769721548,\n",
              " -1.8858584625425237,\n",
              " 2.0775904750922294,\n",
              " 1.6798904868561664,\n",
              " 2.8064246181140637,\n",
              " 0.6782879598532321,\n",
              " 2.197367104091729,\n",
              " -1.5839793751767888,\n",
              " 3.2750689363272167,\n",
              " 1.5884175689216962,\n",
              " 1.27885171049143,\n",
              " -1.3846686821439347,\n",
              " -1.7431783388909483,\n",
              " 1.8054857710397259,\n",
              " -1.1390211121644993,\n",
              " 0.6575882114649243,\n",
              " 0.8797337946389998,\n",
              " ...)"
            ]
          },
          "metadata": {},
          "execution_count": 60
        }
      ],
      "source": [
        "epsilon"
      ]
    },
    {
      "cell_type": "markdown",
      "metadata": {
        "id": "cx22P2Zuc718"
      },
      "source": [
        "The reason the sampling is not uniformly distributed in the following plots is due to the resampling and the fact that we certain values of e.g. velocity are more likely to violate the speed of light constraint than others."
      ]
    },
    {
      "cell_type": "code",
      "execution_count": null,
      "metadata": {
        "colab": {
          "base_uri": "https://localhost:8080/",
          "height": 827
        },
        "id": "E5YFdqKjUZh5",
        "outputId": "46e9dd01-efb3-45c1-daef-0889fb0cfec9"
      },
      "outputs": [
        {
          "output_type": "display_data",
          "data": {
            "text/plain": [
              "<Figure size 2000x1600 with 14 Axes>"
            ],
            "image/png": "[encoded data removed]"
          },
          "metadata": {}
        }
      ],
      "source": [
        "if not LOAD_DATA_FROM_CSV:\n",
        "    def plot_histogram(data, xlabel, ylabel, position, bins=20, xlog_scale=False, ylog_scale=False):\n",
        "        plt.subplot(4, 5, position)\n",
        "        plt.hist(data, bins=bins)\n",
        "        plt.xlabel(xlabel)\n",
        "        plt.ylabel(ylabel)\n",
        "        if xlog_scale: # Setting does not work expected for epsilon.\n",
        "            plt.xscale(\"log\")\n",
        "        if ylog_scale: # Setting does not work expected for epsilon.\n",
        "            plt.yscale(\"log\")\n",
        "\n",
        "    # Plotting the histograms of rho, vx, epsilon, b0, b1, b2, and b3\n",
        "    bins = 20\n",
        "    plt.figure(figsize=(20, 16))\n",
        "\n",
        "    plot_histogram(rho, \"rho\", \"Frequency\", 1, bins=bins)\n",
        "    plot_histogram(epsilon, \"epsilon\", \"Frequency\", 2, bins=bins)\n",
        "    plot_histogram(vx, \"vx\", \"Frequency\", 3, bins=bins)\n",
        "    plot_histogram(vy, \"vy\", \"Frequency\", 4, bins=bins)\n",
        "    plot_histogram(vz, \"vz\", \"Frequency\", 5, bins=bins)\n",
        "    plot_histogram(Bx, \"Bx\", \"Frequency\", 6, bins=bins)\n",
        "    plot_histogram(By, \"By\", \"Frequency\", 7, bins=bins)\n",
        "    plot_histogram(Bz, \"Bz\", \"Frequency\", 8, bins=bins)\n",
        "\n",
        "    # Plot these\n",
        "    plot_histogram(gxx, \"gxx\", \"Frequency\", 9, bins=bins)\n",
        "    plot_histogram(gxy, \"gxy\", \"Frequency\", 10, bins=bins)\n",
        "    plot_histogram(gxz, \"gxz\", \"Frequency\", 11, bins=bins)\n",
        "    plot_histogram(gyy, \"gyy\", \"Frequency\", 12, bins=bins)\n",
        "    plot_histogram(gyz, \"gyz\", \"Frequency\", 13, bins=bins)\n",
        "    plot_histogram(gzz, \"gzz\", \"Frequency\", 14, bins=bins)\n",
        "\n",
        "\n",
        "    plt.suptitle(\"Primitive variables and metric\")\n",
        "    plt.tight_layout()\n",
        "    plt.show()\n"
      ]
    },
    {
      "cell_type": "code",
      "execution_count": null,
      "metadata": {
        "id": "0BUGFDYKc719"
      },
      "outputs": [],
      "source": [
        "%config InteractiveShell.ast_node_interactivity = \"last_expr_or_assign\""
      ]
    },
    {
      "cell_type": "code",
      "execution_count": null,
      "metadata": {
        "id": "jYgvc8gHc719",
        "outputId": "9c5aaa38-c878-4d69-de41-1465712c602c",
        "colab": {
          "base_uri": "https://localhost:8080/",
          "height": 1000
        }
      },
      "outputs": [
        {
          "output_type": "display_data",
          "data": {
            "text/plain": [
              "<Figure size 1600x1600 with 14 Axes>"
            ],
            "image/png": "[encoded data removed]"
          },
          "metadata": {}
        }
      ],
      "source": [
        "# Variable names\n",
        "variable_names = [\"D\", \"Sx\", \"Sy\", \"Sz\", \"tau\", \"Bconsx\", \"Bconsy\", \"Bconsz\", \"gxx\", \"gxy\", \"gxz\", \"gyy\", \"gyz\", \"gzz\"]\n",
        "\n",
        "# Plotting histograms of the input variables before z-score normalization\n",
        "plt.figure(figsize=(16, 16))\n",
        "plt.suptitle('Histograms of input variables before (or without at all) z-score normalization', y=1.03)\n",
        "\n",
        "for i in range(N_INPUTS):\n",
        "    plt.subplot(7, 2, i+1)\n",
        "    data = x_train[:, i].cpu().numpy() # Convert tensor to numpy array for percentile calculation\n",
        "    lower_bound, upper_bound = np.percentile(data, [1, 100]) # NOTE: Use this instead to visualize all the data.\n",
        "    # lower_bound, upper_bound = np.percentile(data, [1, 90]) # Calculate 1st and 99th percentile\n",
        "\n",
        "    plt.hist(data, bins=50, range=(lower_bound, upper_bound)) # Set range to the calculated percentile range\n",
        "    plt.xlabel(variable_names[i])\n",
        "    plt.xlim(lower_bound, upper_bound) # Set the x limit to match the range of the histogram\n",
        "\n",
        "plt.subplots_adjust(hspace=0.4, wspace=0.4)\n",
        "plt.show()\n",
        "\n",
        "# Same plotting but for the test data. Adjust the percentile range as needed to zoom in.\n",
        "# plt.figure(figsize=(16, 16))\n",
        "# plt.suptitle('Histograms of input variables before (or without at all) z-score normalization (test data)', y=1.03)\n",
        "\n",
        "# for i in range(14):\n",
        "#     plt.subplot(7, 2, i+1)\n",
        "#     data = x_test[:, i].cpu().numpy() # Convert tensor to numpy array for percentile calculation\n",
        "#     #lower_bound, upper_bound = np.percentile(data, [1, 100]) # NOTE: Use this instead to visualize all the data.\n",
        "#     lower_bound, upper_bound = np.percentile(data, [1, 99]) # Use this to zoom in.\n",
        "\n",
        "#     plt.hist(data, bins=50, range=(lower_bound, upper_bound)) # Set range to the calculated percentile range\n",
        "#     plt.xlabel(variable_names[i])\n",
        "#     plt.xlim(lower_bound, upper_bound) # Set the x limit to match the range of the histogram\n",
        "\n",
        "# plt.subplots_adjust(hspace=0.4, wspace=0.4)\n",
        "# plt.show()\n",
        "\n"
      ]
    },
    {
      "cell_type": "markdown",
      "metadata": {
        "id": "MwxCpVjnc71-"
      },
      "source": [
        "### Data normalization"
      ]
    },
    {
      "cell_type": "code",
      "execution_count": null,
      "metadata": {
        "id": "9Xn-PfgZc71-",
        "outputId": "27e7d739-b27c-4e8b-bc7e-8bf368f73249",
        "colab": {
          "base_uri": "https://localhost:8080/"
        }
      },
      "outputs": [
        {
          "output_type": "stream",
          "name": "stdout",
          "text": [
            "Summary statistics of input variables before z-score normalization\n",
            "tensor([[ 4.9654e-05,  6.7764e+02,  2.2807e+00,  1.6687e+00,  4.7153e+00],\n",
            "        [-8.0061e+04,  3.9526e+05,  4.4093e+01,  2.1962e+01,  1.5702e+03],\n",
            "        [-1.3171e+05,  2.2825e+05,  4.0692e+01,  2.1955e+01,  1.0484e+03],\n",
            "        [-2.6314e+05,  4.1517e+05,  4.2251e+01,  2.2002e+01,  1.9065e+03],\n",
            "        [-2.9189e+05,  5.7574e+05,  9.8158e+01,  6.9659e+01,  2.5195e+03],\n",
            "        [-1.1217e+01,  1.1185e+01,  1.6393e-02,  3.3662e-02,  5.7242e+00],\n",
            "        [-1.1051e+01,  1.1148e+01, -4.0219e-02, -4.4869e-02,  5.7152e+00],\n",
            "        [-1.1327e+01,  1.1211e+01,  3.2726e-02,  5.9849e-02,  5.7359e+00],\n",
            "        [ 9.0000e-01,  1.1000e+00,  9.9864e-01,  9.9788e-01,  5.7815e-02],\n",
            "        [ 7.6186e-07,  9.9999e-02,  4.9369e-02,  4.9080e-02,  2.8933e-02],\n",
            "        [ 9.2159e-07,  9.9995e-02,  4.9655e-02,  4.9500e-02,  2.8810e-02],\n",
            "        [ 9.0000e-01,  1.1000e+00,  9.9843e-01,  9.9755e-01,  5.7862e-02],\n",
            "        [ 8.1315e-07,  1.0000e-01,  4.9747e-02,  4.9586e-02,  2.8823e-02],\n",
            "        [ 9.0000e-01,  1.1000e+00,  9.9847e-01,  9.9776e-01,  5.7743e-02]],\n",
            "       device='cuda:0')\n"
          ]
        }
      ],
      "source": [
        "# Computing summary statistics of the input variables before and after z-score normalization\n",
        "print('Summary statistics of input variables before z-score normalization')\n",
        "print(torch.stack([torch.min(x_train, dim=0).values, torch.max(x_train, dim=0).values, torch.nanmean(x_train, dim=0), torch.median(x_train, dim=0).values, torch.std(x_train, dim=0)], dim=1))"
      ]
    },
    {
      "cell_type": "markdown",
      "metadata": {
        "id": "xTEmkR1SUZh7"
      },
      "source": [
        "Perform z-score normalization"
      ]
    },
    {
      "cell_type": "code",
      "execution_count": null,
      "metadata": {
        "id": "keNDcpTKc71-"
      },
      "outputs": [],
      "source": [
        "%config InteractiveShell.ast_node_interactivity = \"all\""
      ]
    },
    {
      "cell_type": "code",
      "execution_count": null,
      "metadata": {
        "id": "yPOv6DxhUZh7"
      },
      "outputs": [],
      "source": [
        "if ZSCORE_NORMALIZATION:\n",
        "    \n",
        "    # TODO: Add magnetic field variables to the normalization if I decide to use the old code that is commented out here.\n",
        "    # # Computing the median of each input variable from the training set using torch.nanmedian function\n",
        "    # D_median = torch.nanmedian(x_train[:, 0])\n",
        "    # Sx_median = torch.nanmedian(x_train[:, 1])\n",
        "    # Sy_median = torch.nanmedian(x_train[:, 2])\n",
        "    # Sz_median = torch.nanmedian(x_train[:, 3])\n",
        "    # tau_median = torch.nanmedian(x_train[:, 4])\n",
        "\n",
        "    # # Computing the standard deviation of each input variable from the training set using torch.std function with a boolean mask to ignore nan values\n",
        "    # D_std = torch.std(x_train[~torch.isnan(x_train[:, 0]), 0])\n",
        "    # Sx_std = torch.std(x_train[~torch.isnan(x_train[:, 1]), 1])\n",
        "    # Sy_std = torch.std(x_train[~torch.isnan(x_train[:, 2]), 2])\n",
        "    # Sz_std = torch.std(x_train[~torch.isnan(x_train[:, 3]), 3])\n",
        "    # tau_std = torch.std(x_train[~torch.isnan(x_train[:, 4]), 4])\n",
        "\n",
        "\n",
        "    # # Applying z-score normalization to both train and test sets using the statistics from the training set\n",
        "    # x_train[:, 0] = torch.sub(x_train[:, 0], D_median).div(D_std)\n",
        "    # x_train[:, 1] = torch.sub(x_train[:, 1], Sx_median).div(Sx_std)\n",
        "    # x_train[:, 2] = torch.sub(x_train[:, 2], Sy_median).div(Sy_std)\n",
        "    # x_train[:, 3] = torch.sub(x_train[:, 3], Sz_median).div(Sz_std)\n",
        "    # x_train[:, 4] = torch.sub(x_train[:, 4], tau_median).div(tau_std)\n",
        "\n",
        "    # x_test[:, 0] = torch.sub(x_test[:, 0], D_median).div(D_std)\n",
        "    # x_test[:, 1] = torch.sub(x_test[:, 1], Sx_median).div(Sx_std)\n",
        "    # x_test[:, 2] = torch.sub(x_test[:, 2], Sy_median).div(Sy_std)\n",
        "    # x_test[:, 3] = torch.sub(x_test[:, 3], Sz_median).div(Sz_std)\n",
        "    # x_test[:, 4] = torch.sub(x_test[:, 4], tau_median).div(tau_std)\n",
        "\n",
        "    # Computing the mean and standard deviation of each column\n",
        "    mean = x_train.mean(dim=0)\n",
        "    std = x_train.std(dim=0)\n",
        "\n",
        "    # Applying z-score normalization\n",
        "    x_train = (x_train - mean) / std\n",
        "    # Use the same mean and std from the training data as we don't want test data leakage.\n",
        "    x_test = (x_test - mean) / std\n",
        "\n"
      ]
    },
    {
      "cell_type": "markdown",
      "metadata": {
        "id": "1zJn2k17c72E"
      },
      "source": [
        "Plotting the histograms of the input data after normalization if z-score normalization was performed."
      ]
    },
    {
      "cell_type": "code",
      "execution_count": null,
      "metadata": {
        "id": "HVnFTRixc72F"
      },
      "outputs": [],
      "source": [
        "%config InteractiveShell.ast_node_interactivity = \"last_expr_or_assign\""
      ]
    },
    {
      "cell_type": "code",
      "execution_count": null,
      "metadata": {
        "id": "__pgXJo1c72F"
      },
      "outputs": [],
      "source": [
        "if not LOAD_DATA_FROM_CSV:\n",
        "    if ZSCORE_NORMALIZATION:\n",
        "        # Variable names\n",
        "        variable_names = [\"D\", \"Sx\", \"Sy\", \"Sz\", \"tau\", \"Bconsx\", \"Bconsy\", \"Bconsz\", \"gxx\", \"gxy\", \"gxz\", \"gyy\", \"gyz\", \"gzz\"]\n",
        "\n",
        "        # Plotting histograms of the input variables before z-score normalization\n",
        "        plt.figure(figsize=(16, 16))\n",
        "        plt.suptitle('Histograms of input variables before (or without at all) z-score normalization', y=1.03)\n",
        "\n",
        "        for i in range(N_INPUTS):\n",
        "            plt.subplot(7, 2, i+1)\n",
        "            data = x_train[:, i].cpu().numpy() # Convert tensor to numpy array for percentile calculation\n",
        "            lower_bound, upper_bound = np.percentile(data, [1, 100]) # NOTE: Use this instead to visualize all the data.\n",
        "            # lower_bound, upper_bound = np.percentile(data, [1, 90]) # Calculate 1st and 99th percentile\n",
        "\n",
        "            plt.hist(data, bins=50, range=(lower_bound, upper_bound)) # Set range to the calculated percentile range\n",
        "            plt.xlabel(variable_names[i])\n",
        "            plt.xlim(lower_bound, upper_bound) # Set the x limit to match the range of the histogram\n",
        "\n",
        "        plt.subplots_adjust(hspace=0.4, wspace=0.4)\n",
        "        plt.show()"
      ]
    },
    {
      "cell_type": "code",
      "execution_count": null,
      "metadata": {
        "id": "StHONfYqc72F"
      },
      "outputs": [],
      "source": [
        "if ZSCORE_NORMALIZATION:\n",
        "    # Computing summary statistics of the input variables after z-score normalization\n",
        "    print('Summary statistics of input variables after z-score normalization')\n",
        "    print(torch.stack([torch.min(x_train, dim=0).values, torch.max(x_train, dim=0).values, torch.mean(x_train, dim=0), torch.median(x_train, dim=0).values, torch.std(x_train, dim=0)], dim=1))\n"
      ]
    },
    {
      "cell_type": "markdown",
      "metadata": {
        "id": "opOhR2oHc72F"
      },
      "source": [
        "### Visualizing input data and labels"
      ]
    },
    {
      "cell_type": "code",
      "execution_count": null,
      "metadata": {
        "id": "p413hMbjc72G",
        "outputId": "59326435-8b92-4a45-a382-86717cced4df",
        "colab": {
          "base_uri": "https://localhost:8080/"
        }
      },
      "outputs": [
        {
          "output_type": "execute_result",
          "data": {
            "text/plain": [
              "tensor([-0.4335, -2.3478, 16.2540,  ...,  3.6844, -1.3517,  2.7303],\n",
              "       device='cuda:0')"
            ]
          },
          "metadata": {},
          "execution_count": 70
        }
      ],
      "source": [
        "x_train\n",
        "y_train\n",
        "x_val\n",
        "y_val\n",
        "x_test\n",
        "y_test"
      ]
    },
    {
      "cell_type": "markdown",
      "metadata": {
        "id": "E96p_MsOUZh9",
        "outputId": "4b95bad0-8f3a-4364-eed1-008e0ce2a5e3"
      },
      "source": [
        "Checking if our output is always positive ~~by plotting a histogram of y_train and y_test tensors~~"
      ]
    },
    {
      "cell_type": "code",
      "execution_count": null,
      "metadata": {
        "id": "j-bMXvFUc72G",
        "outputId": "1c12ba88-5cbb-4ba0-a565-8eb85eb215dd",
        "colab": {
          "base_uri": "https://localhost:8080/"
        }
      },
      "outputs": [
        {
          "output_type": "stream",
          "name": "stdout",
          "text": [
            "tensor(True)\n"
          ]
        }
      ],
      "source": [
        "import torch\n",
        "\n",
        "# Create a sample tensor\n",
        "tensor = torch.randn(80000, 14)  # Assuming a tensor of shape [80000, 14]\n",
        "tensor\n",
        "\n",
        "\n",
        "# Check if any element is negative\n",
        "any_negative = torch.any(tensor < 0)\n",
        "\n",
        "# Print the result\n",
        "print(any_negative)\n"
      ]
    },
    {
      "cell_type": "code",
      "execution_count": null,
      "metadata": {
        "id": "fb2b282fc72G",
        "outputId": "8599b546-2c1c-4326-b668-b00837d60d71",
        "colab": {
          "base_uri": "https://localhost:8080/"
        }
      },
      "outputs": [
        {
          "output_type": "execute_result",
          "data": {
            "text/plain": [
              "tensor(True, device='cuda:0')"
            ]
          },
          "metadata": {},
          "execution_count": 72
        }
      ],
      "source": [
        "y_train.shape\n",
        "any_negative = torch.any(y_train < 0)\n",
        "any_negative\n",
        "\n",
        "y_test.shape\n",
        "any_negative = torch.any(y_test < 0)\n",
        "any_negative\n",
        "\n",
        "x_train.shape\n",
        "any_negative = torch.any(x_train < 0)\n",
        "any_negative"
      ]
    },
    {
      "cell_type": "code",
      "execution_count": null,
      "metadata": {
        "id": "iNzqIr-Mc72H",
        "outputId": "919ef1ed-5112-4e1d-fa65-602f4022bae6",
        "colab": {
          "base_uri": "https://localhost:8080/",
          "height": 407
        }
      },
      "outputs": [
        {
          "output_type": "display_data",
          "data": {
            "text/plain": [
              "<Figure size 800x400 with 3 Axes>"
            ],
            "image/png": "[encoded data removed]"
          },
          "metadata": {}
        }
      ],
      "source": [
        "plt.figure(figsize=(8, 4))\n",
        "plt.subplot(1, 3, 1)\n",
        "plt.hist(y_train.cpu().numpy(), bins=100) # must be cpu here.\n",
        "plt.xlabel(\"y_train\")\n",
        "plt.ylabel(\"Frequency\")\n",
        "plt.xscale(\"log\")\n",
        "plt.subplot(1, 3, 2)\n",
        "plt.hist(y_val.cpu().numpy(), bins=100) # must be cpu here\n",
        "plt.xlabel(\"y_val\")\n",
        "plt.ylabel(\"Frequency\")\n",
        "plt.xscale(\"log\")\n",
        "plt.tight_layout()\n",
        "plt.subplot(1, 3, 3)\n",
        "plt.hist(y_test.cpu().numpy(), bins=100) # must be cpu here\n",
        "plt.xlabel(\"y_test\")\n",
        "plt.ylabel(\"Frequency\")\n",
        "plt.xscale(\"log\")\n",
        "plt.tight_layout()\n",
        "plt.show()\n"
      ]
    },
    {
      "cell_type": "code",
      "execution_count": null,
      "metadata": {
        "id": "FEgjk--AUZh9"
      },
      "outputs": [],
      "source": [
        "%config InteractiveShell.ast_node_interactivity = \"all\""
      ]
    },
    {
      "cell_type": "markdown",
      "metadata": {
        "id": "r2b9GecHUZh9"
      },
      "source": [
        "## Defining the neural network"
      ]
    },
    {
      "cell_type": "code",
      "execution_count": null,
      "metadata": {
        "id": "Iv8HA-ZXUZh-"
      },
      "outputs": [],
      "source": [
        "# Defining a class for the network\n",
        "class Net(nn.Module):\n",
        "    \"\"\"A class for creating a network with a\n",
        "    variable number of hidden layers and units.\n",
        "\n",
        "    Attributes:\n",
        "        n_layers (int): The number of hidden layers in the network.\n",
        "        n_units (list): A list of integers representing the number of units in each hidden layer.\n",
        "        hidden_activation (torch.nn.Module): The activation function for the hidden layers.\n",
        "        output_activation (torch.nn.Module): The activation function for the output layer.\n",
        "        layers (torch.nn.ModuleList): A list of linear layers in the network.\n",
        "    \"\"\"\n",
        "\n",
        "    def __init__(self, n_layers, n_units, hidden_activation, output_activation, dropout_rate):\n",
        "        \"\"\"Initializes the network with the given hyperparameters.\n",
        "\n",
        "        Args:\n",
        "            n_layers (int): The number of hidden layers in the network.\n",
        "            n_units (list): A list of integers representing the number of units in each hidden layer.\n",
        "            hidden_activation (torch.nn.Module): The activation function for the hidden layers.\n",
        "            output_activation (torch.nn.Module): The activation function for the output layer.\n",
        "            TODO: [ver. Copilot description] dropout_rate (float): The dropout rate to use for all layers.\n",
        "        \"\"\"\n",
        "        super().__init__()\n",
        "        self.n_layers = n_layers\n",
        "        self.n_units = n_units\n",
        "        self.hidden_activation = hidden_activation\n",
        "        self.output_activation = output_activation\n",
        "        self.dropout_rate = dropout_rate\n",
        "\n",
        "        # Creating a list of linear layers with different numbers of units for each layer\n",
        "        self.layers = nn.ModuleList()\n",
        "        self.dropouts = nn.ModuleList()\n",
        "\n",
        "        self.layers.append(nn.Linear(N_INPUTS, n_units[0]))\n",
        "        self.dropouts.append(nn.Dropout(p=dropout_rate))\n",
        "\n",
        "        for i in range(1, n_layers):\n",
        "            self.layers.append(nn.Linear(n_units[i - 1], n_units[i]))\n",
        "            self.dropouts.append(nn.Dropout(p=dropout_rate))\n",
        "\n",
        "        self.layers.append(nn.Linear(n_units[-1], N_OUTPUTS))\n",
        "\n",
        "        # Adding some assertions to check that the input arguments are valid\n",
        "        assert isinstance(n_layers, int) and n_layers > 0, \"n_layers must be a positive integer\"\n",
        "        assert isinstance(n_units, list) and len(n_units) == n_layers, \"n_units must be a list of length n_layers\"\n",
        "        assert all(isinstance(n, int) and n > 0 for n in n_units), \"n_units must contain positive integers\"\n",
        "        assert isinstance(hidden_activation, nn.Module), \"hidden_activation must be a torch.nn.Module\"\n",
        "        assert isinstance(output_activation, nn.Module), \"output_activation must be a torch.nn.Module\"\n",
        "\n",
        "    def forward(self, x):\n",
        "        \"\"\"Performs a forward pass on the input tensor.\n",
        "\n",
        "        Args:\n",
        "            x (torch.Tensor): The input tensor of shape (batch_size, N_INPUTS).\n",
        "\n",
        "        Returns:\n",
        "            torch.Tensor: The output tensor of shape (batch_size, N_OUTPUTS).\n",
        "        \"\"\"\n",
        "        # Adding an assertion to check that the input tensor has the expected shape and type\n",
        "        assert isinstance(x, torch.Tensor), \"x must be a torch.Tensor\"\n",
        "        assert x.shape[1] == N_INPUTS, f\"x must have shape (batch_size, {N_INPUTS})\"\n",
        "\n",
        "        for layer, dropout in zip(self.layers[:-1], self.dropouts):\n",
        "            x = dropout(self.hidden_activation(layer(x)))\n",
        "        # Applying the linear transformation and the activation function on the output layer\n",
        "        x = self.output_activation(self.layers[-1](x)) # No dropout at output layer\n",
        "\n",
        "        return x # Returning the output tensor\n"
      ]
    },
    {
      "cell_type": "code",
      "execution_count": null,
      "metadata": {
        "id": "4TJ4S6ntc72I",
        "outputId": "47a7da4c-1d97-4afe-97ec-e633badebe55",
        "colab": {
          "base_uri": "https://localhost:8080/"
        }
      },
      "outputs": [
        {
          "output_type": "stream",
          "name": "stdout",
          "text": [
            "skipping\n"
          ]
        }
      ],
      "source": [
        "%%script echo skipping\n",
        "\n",
        "[1,2,3]\n",
        "[1,2,3][:-1]"
      ]
    },
    {
      "cell_type": "code",
      "execution_count": null,
      "metadata": {
        "id": "QxQD-aRPc72I",
        "outputId": "b5a56c06-0910-432e-c77b-c6895343ab21",
        "colab": {
          "base_uri": "https://localhost:8080/"
        }
      },
      "outputs": [
        {
          "output_type": "stream",
          "name": "stdout",
          "text": [
            "1\n",
            "2\n"
          ]
        }
      ],
      "source": [
        "for x in [1,2,3][:-1]:\n",
        "    print(x)\n",
        "\n"
      ]
    },
    {
      "cell_type": "markdown",
      "metadata": {
        "id": "6GNvp55PUZh_"
      },
      "source": [
        "## Defining the model and search space"
      ]
    },
    {
      "cell_type": "code",
      "execution_count": null,
      "metadata": {
        "id": "9a1opluOUZh_"
      },
      "outputs": [],
      "source": [
        "# Defining a function to create a trial network and optimizer\n",
        "def create_model(trial, optimize):\n",
        "    \"\"\"Creates a trial network and optimizer based on the sampled hyperparameters.\n",
        "\n",
        "    Args:\n",
        "        trial (optuna.trial.Trial): The trial object that contains the hyperparameters.\n",
        "        optimize (boolean): Whether to optimize the hyperparameters or to use predefined values.\n",
        "\n",
        "    Returns:\n",
        "        tuple: A tuple of (net, loss_fn, optimizer, batch_size, n_epochs,\n",
        "            scheduler, loss_name, optimizer_name, scheduler_name,\n",
        "            n_units, n_layers, hidden_activation, output_activation),\n",
        "            where net is the trial network,\n",
        "            loss_fn is the loss function,\n",
        "            optimizer is the optimizer,\n",
        "            batch_size is the batch size,\n",
        "            n_epochs is the number of epochs,\n",
        "            scheduler is the learning rate scheduler,\n",
        "            loss_name is the name of the loss function,\n",
        "            optimizer_name is the name of the optimizer,\n",
        "            scheduler_name is the name of the scheduler,\n",
        "            n_units is a list of integers representing\n",
        "            the number of units in each hidden layer,\n",
        "            n_layers is an integer representing the number of hidden layers in the network,\n",
        "            hidden_activation is a torch.nn.Module representing the activation function for the hidden layers,\n",
        "            output_activation is a torch.nn.Module representing the activation function for the output layer,\n",
        "            lr is the (initial) learning rate.\n",
        "            dropout_rate is the dropout rate.\n",
        "    \"\"\"\n",
        "    # If optimize is True, sample the hyperparameters from the search space\n",
        "    if OPTIMIZE:\n",
        "        n_layers = trial.suggest_int(\"n_layers\", 2, 10)\n",
        "        n_units = [trial.suggest_int(f\"n_units_{i}\", 16, 4096) for i in range(n_layers)]\n",
        "\n",
        "        hidden_activation_name = trial.suggest_categorical(\n",
        "            \"hidden_activation\", [\"ReLU\", \"LeakyReLU\", \"ELU\", \"PReLU\", \"Swish\", \"GELU\", \"SoftPlus\"]\n",
        "        )\n",
        "        output_activation_name = trial.suggest_categorical( \"output_activation\", [\"Linear\"])\n",
        "\n",
        "        loss_name = trial.suggest_categorical( \"loss\", [\"MSE\", \"MAE\", \"Huber\", \"Quantile\"])  # Added Quantile loss\n",
        "\n",
        "        optimizer_name = trial.suggest_categorical( \"optimizer\", [\"Adam\", \"SGD\", \"RMSprop\", \"Adagrad\"] )\n",
        "\n",
        "        lr = trial.suggest_loguniform(\"lr\", 1e-6, 1)\n",
        "\n",
        "        batch_size_list = [32, 64, 128, 256, 512, 1024, 2048]\n",
        "        batch_size = trial.suggest_categorical(\"batch_size\", batch_size_list)\n",
        "        \n",
        "        n_epochs = trial.suggest_int(\"n_epochs\", 50, 150)\n",
        "\n",
        "        scheduler_name = trial.suggest_categorical(\"scheduler\", [\"CosineAnnealingLR\", \"ReduceLROnPlateau\", \"StepLR\", \"CyclicLR\"])  # Added CyclicLR\n",
        "\n",
        "        # Creating the activation functions from their names\n",
        "        if hidden_activation_name == \"ReLU\":\n",
        "            hidden_activation = nn.ReLU()\n",
        "        elif hidden_activation_name == \"LeakyReLU\":\n",
        "            negative_slope = trial.suggest_uniform(\"leakyrelu_slope\", 0.01, 0.3)\n",
        "            hidden_activation = nn.LeakyReLU(negative_slope=negative_slope)\n",
        "        elif hidden_activation_name == \"ELU\":\n",
        "            hidden_activation = nn.ELU() \n",
        "        elif hidden_activation_name == \"PReLU\":\n",
        "            init = trial.suggest_uniform(\"prelu_init\", 0.1, 0.3)\n",
        "            hidden_activation = nn.PReLU(init=init)\n",
        "        elif hidden_activation_name == \"Swish\":\n",
        "            class Swish(nn.Module):\n",
        "                def forward(self, x):\n",
        "                    return x * torch.sigmoid(x)\n",
        "            hidden_activation = Swish()\n",
        "        elif hidden_activation_name == \"GELU\":\n",
        "            hidden_activation = nn.GELU()\n",
        "        elif hidden_activation_name == \"SoftPlus\":\n",
        "            beta = trial.suggest_uniform(\"softplus_beta\", 0.5, 1.5)\n",
        "            hidden_activation = nn.Softplus(beta=beta) # We don't optimize thresshold subparameters, as it's mainly for numerical stability.\n",
        "\n",
        "        dropout_rate = trial.suggest_uniform(\"dropout_rate\", 0.0, 0.5)\n",
        "\n",
        "\n",
        "    # If optimize is False, use the predefined values\n",
        "    else:\n",
        "        # Setting the hyperparameters to the predefined values\n",
        "        n_layers = N_LAYERS_NO_OPT\n",
        "        n_units = N_UNITS_NO_OPT\n",
        "        hidden_activation_name = HIDDEN_ACTIVATION_NAME_NO_OPT\n",
        "        output_activation_name = OUTPUT_ACTIVATION_NAME_NO_OPT\n",
        "        loss_name = LOSS_NAME_NO_OPT\n",
        "        optimizer_name = OPTIMIZER_NAME_NO_OPT\n",
        "        lr = LR_NO_OPT\n",
        "        batch_size = BATCH_SIZE_NO_OPT\n",
        "        n_epochs = N_EPOCHS_NO_OPT\n",
        "        scheduler_name = SCHEDULER_NAME_NO_OPT\n",
        "\n",
        "        # Creating the activation functions from their names\n",
        "        if hidden_activation_name == \"ReLU\":\n",
        "            hidden_activation = nn.ReLU()\n",
        "        elif hidden_activation_name == \"LeakyReLU\":\n",
        "            negative_slope = 0.01\n",
        "            hidden_activation = nn.LeakyReLU(negative_slope=negative_slope)\n",
        "        elif hidden_activation_name == \"ELU\":\n",
        "            hidden_activation = nn.ELU() \n",
        "        elif hidden_activation_name == \"PReLU\":\n",
        "            init = 0.25\n",
        "            hidden_activation = nn.PReLU(init=init)\n",
        "        elif hidden_activation_name == \"Swish\":\n",
        "            class Swish(nn.Module):\n",
        "                def forward(self, x):\n",
        "                    return x * torch.sigmoid(x)\n",
        "            hidden_activation = Swish()\n",
        "        elif hidden_activation_name == \"GELU\":\n",
        "            hidden_activation = nn.GELU()\n",
        "        elif hidden_activation_name == \"SoftPlus\":\n",
        "            beta = 1\n",
        "            hidden_activation = nn.Softplus(beta=beta) # We don't optimize threshold subparameter, as it's mainly for numerical stability.\n",
        "\n",
        "        dropout_rate = DROPOUT_RATE_NO_OPT\n",
        "\n",
        "\n",
        "    # We used to have options here, but since we have a regression problem with continuous output, we only use Linear.\n",
        "    output_activation = nn.Identity()\n",
        "\n",
        "    # Creating the loss function from its name\n",
        "    if loss_name == \"MSE\":\n",
        "        loss_fn = nn.MSELoss()\n",
        "    elif loss_name == \"MAE\":\n",
        "        loss_fn = nn.L1Loss()\n",
        "    elif loss_name == \"Huber\":\n",
        "        loss_fn = nn.SmoothL1Loss() \n",
        "    elif loss_name == \"Quantile\":  # Added Quantile loss\n",
        "        def quantile_loss(y_pred, y_true, q=0.5):\n",
        "            e = y_pred - y_true\n",
        "            return torch.mean(torch.max(q*e, (q-1)*e))\n",
        "        loss_fn = quantile_loss\n",
        "    else:\n",
        "        def log_cosh_loss(y_pred, y_true):\n",
        "            return torch.mean(torch.log(torch.cosh(y_pred - y_true)))\n",
        "        loss_fn = log_cosh_loss\n",
        "\n",
        "    # Creating the network with the sampled hyperparameters\n",
        "    net = Net(n_layers, n_units, hidden_activation, output_activation, dropout_rate).to(device)\n",
        "\n",
        "\n",
        "    if OPTIMIZE:\n",
        "        # Creating the optimizer from its name\n",
        "        if optimizer_name == \"SGD\":\n",
        "            weight_decay = trial.suggest_loguniform(\"weight_decay\", 1e-5, 1e-2)\n",
        "            momentum = trial.suggest_uniform(\"momentum\", 0.0, 0.99)\n",
        "            optimizer = optim.SGD(net.parameters(), lr=lr, weight_decay=weight_decay, momentum=momentum)\n",
        "        elif optimizer_name == \"Adam\":\n",
        "            weight_decay = trial.suggest_loguniform(\"weight_decay\", 1e-5, 1e-2)\n",
        "            beta1 = trial.suggest_uniform(\"beta1\", 0.9, 0.999)\n",
        "            beta2 = trial.suggest_uniform(\"beta2\", 0.999, 0.9999)\n",
        "            optimizer = optim.Adam(net.parameters(), lr=lr, weight_decay=weight_decay, betas=(beta1, beta2))\n",
        "        elif optimizer_name == \"RMSprop\":\n",
        "            optimizer = optim.RMSprop(net.parameters(), lr=lr)\n",
        "        else:\n",
        "            optimizer = optim.Adagrad(net.parameters(), lr=lr)\n",
        "\n",
        "        # Creating the learning rate scheduler from its name\n",
        "        if scheduler_name == \"StepLR\":\n",
        "            step_size = trial.suggest_int(\"step_size\", 5, 15)\n",
        "            gamma = trial.suggest_uniform(\"gamma\", 0.1, 0.5)\n",
        "            scheduler = optim.lr_scheduler.StepLR(optimizer, step_size=step_size, gamma=gamma)\n",
        "        elif scheduler_name == \"ExponentialLR\":\n",
        "            gamma = trial.suggest_uniform(\"gamma\", 0.8, 0.99)\n",
        "            scheduler = optim.lr_scheduler.ExponentialLR(optimizer, gamma=gamma)\n",
        "        elif scheduler_name == \"CosineAnnealingLR\":\n",
        "            if n_epochs < 150:\n",
        "                t_max_fraction = trial.suggest_uniform('t_max_fraction', 0.1, 0.3)\n",
        "            elif n_epochs > 250:\n",
        "                t_max_fraction = trial.suggest_uniform('t_max_fraction', 0.05, 0.1)\n",
        "            else:\n",
        "                t_max_fraction = trial.suggest_uniform('t_max_fraction', 0.1, 0.2)\n",
        "\n",
        "            T_max = int(n_epochs * t_max_fraction)\n",
        "            eta_min = trial.suggest_loguniform(\"eta_min\", 1e-7, 1e-2)\n",
        "            scheduler = optim.lr_scheduler.CosineAnnealingLR(optimizer, T_max=T_max, eta_min=eta_min)\n",
        "        elif scheduler_name == \"ReduceLROnPlateau\":\n",
        "            factor = trial.suggest_uniform(\"factor\", 0.1, 0.5)\n",
        "            patience = trial.suggest_int(\"patience\", 5, 10)\n",
        "            threshold = trial.suggest_loguniform(\"threshold\", 1e-4, 1e-2)\n",
        "            scheduler = optim.lr_scheduler.ReduceLROnPlateau(\n",
        "                optimizer, mode=\"min\", factor=factor, patience=patience, threshold=threshold\n",
        "            )\n",
        "        elif scheduler_name == \"CyclicLR\":  # Added CyclicLR\n",
        "            base_lr = trial.suggest_loguniform(\"base_lr\", 1e-6, 1e-2)\n",
        "            max_lr = trial.suggest_loguniform(\"max_lr\", 1e-4, 1)\n",
        "            step_size_up = trial.suggest_int(\"step_size_up\", 200, 2000)\n",
        "            scheduler = optim.lr_scheduler.CyclicLR(optimizer, base_lr=base_lr, max_lr=max_lr, step_size_up=step_size_up)\n",
        "        else:\n",
        "            scheduler = None\n",
        "    else:\n",
        "        # Creating the optimizer from its name\n",
        "        if optimizer_name == \"SGD\":\n",
        "            optimizer = optim.SGD(net.parameters(), lr=lr)\n",
        "        elif optimizer_name == \"Adam\":\n",
        "            optimizer = optim.Adam(net.parameters(), lr=lr)\n",
        "        elif optimizer_name == \"RMSprop\":\n",
        "            optimizer = optim.RMSprop(net.parameters(), lr=lr)\n",
        "        else:\n",
        "            optimizer = optim.Adagrad(net.parameters(), lr=lr)\n",
        "\n",
        "        # Creating the learning rate scheduler from its name\n",
        "        if scheduler_name == \"StepLR\":\n",
        "            scheduler = optim.lr_scheduler.StepLR(optimizer, step_size=10, gamma=0.1)\n",
        "        elif scheduler_name == \"ExponentialLR\":\n",
        "            scheduler = optim.lr_scheduler.ExponentialLR(optimizer, gamma=0.9)\n",
        "        elif scheduler_name == \"CosineAnnealingLR\":\n",
        "            scheduler = optim.lr_scheduler.CosineAnnealingLR(optimizer)\n",
        "        elif scheduler_name == \"ReduceLROnPlateau\":\n",
        "            scheduler = optim.lr_scheduler.ReduceLROnPlateau(\n",
        "                        optimizer, mode=\"min\", factor=0.18979341786654758, patience=11, threshold=0.0017197466122611932 #, min_lr=1e-6\n",
        "                    )\n",
        "        elif scheduler_name == \"CyclicLR\":  # Added CyclicLR\n",
        "            # TODO: Change these appropriately.\n",
        "            base_lr = 1e-6\n",
        "            max_lr = 1e-4\n",
        "            step_size_up = 200\n",
        "            scheduler = optim.lr_scheduler.CyclicLR(optimizer, base_lr=base_lr, max_lr=max_lr, step_size_up=step_size_up)\n",
        "        else:\n",
        "            scheduler = None\n",
        "\n",
        "    # Returning all variables needed for saving and loading\n",
        "    return net, loss_fn, optimizer, batch_size, n_epochs, scheduler, loss_name, optimizer_name, scheduler_name, n_units, n_layers, hidden_activation, output_activation, lr, dropout_rate\n",
        "\n",
        "\n"
      ]
    },
    {
      "cell_type": "markdown",
      "metadata": {
        "id": "l-czA7VvUZiD"
      },
      "source": [
        " ## The training and evaluation loop\n",
        "\n",
        " We first define a couple of functions used in the training and evaluation."
      ]
    },
    {
      "cell_type": "code",
      "execution_count": null,
      "metadata": {
        "id": "aD6FQNmxUZiD"
      },
      "outputs": [],
      "source": [
        "# Defining a function that computes loss and metrics for a given batch\n",
        "def compute_loss_and_metrics(y_pred, y_true, loss_fn):\n",
        "    \"\"\"Computes loss and metrics for a given batch.\n",
        "\n",
        "    Args:\n",
        "        y_pred (torch.Tensor): The predicted pressure tensor of shape (batch_size, 1).\n",
        "        y_true (torch.Tensor): The true pressure tensor of shape (batch_size,).\n",
        "        loss_fn (torch.nn.Module or function): The loss function to use.\n",
        "\n",
        "    Returns:\n",
        "        tuple: A tuple of (loss, l1_norm), where loss is a scalar tensor,\n",
        "            l1_norm is L1 norm for relative error of pressure,\n",
        "            each being a scalar tensor.\n",
        "            linf_norm is Linf norm for relative error of pressure.\n",
        "    \"\"\"\n",
        "    # Reshaping the target tensor to match the input tensor\n",
        "    y_true = y_true.view(-1, 1)\n",
        "\n",
        "    # Computing the loss using the loss function\n",
        "    loss = loss_fn(y_pred, y_true)\n",
        "\n",
        "    # Computing the relative error of pressure\n",
        "    rel_error = torch.abs((y_pred - y_true) / y_true)\n",
        "\n",
        "    # Computing the L1 norm for the relative error of pressure\n",
        "    l1_norm = torch.mean(rel_error) \n",
        "    # Computing the Linf norm for the relative error of pressure\n",
        "    linf_norm = torch.max(rel_error) \n",
        "\n",
        "    # Returning the loss and metrics\n",
        "    return loss, l1_norm, linf_norm\n",
        "\n",
        "\n",
        "# Defining a function that updates the learning rate scheduler with validation loss if applicable\n",
        "def update_scheduler(scheduler, test_loss):\n",
        "    \"\"\"Updates the learning rate scheduler with validation loss if applicable.\n",
        "\n",
        "    Args:\n",
        "        scheduler (torch.optim.lr_scheduler._LRScheduler or None): The learning rate scheduler to use.\n",
        "        test_loss (float): The validation loss to use.\n",
        "\n",
        "    Returns:\n",
        "        None\n",
        "    \"\"\"\n",
        "    # Checking if scheduler is not None\n",
        "    if scheduler is not None:\n",
        "        # Checking if scheduler is ReduceLROnPlateau\n",
        "        if isinstance(scheduler, optim.lr_scheduler.ReduceLROnPlateau):\n",
        "            # Updating the scheduler with test_loss\n",
        "            scheduler.step(test_loss)\n",
        "        else:\n",
        "            # Updating the scheduler without test_loss\n",
        "            scheduler.step()\n"
      ]
    },
    {
      "cell_type": "markdown",
      "metadata": {
        "id": "w1nE662UUZiE"
      },
      "source": [
        "Now for the actual training and evaluation loop,"
      ]
    },
    {
      "cell_type": "code",
      "execution_count": null,
      "metadata": {
        "id": "YAOjgKW3UZiF"
      },
      "outputs": [],
      "source": [
        "# Defining a function to train and evaluate a network\n",
        "def train_and_eval(net, loss_fn, optimizer, batch_size, n_epochs, scheduler, train_loader, val_loader, test_loader, trial=None):\n",
        "    # Initializing lists to store the losses and metrics for each epoch\n",
        "    train_losses = []\n",
        "    val_losses = []\n",
        "    test_losses = []\n",
        "    train_metrics = []\n",
        "    val_metrics = []\n",
        "    test_metrics = []\n",
        "\n",
        "\n",
        "    # Creating a SummaryWriter object to log data for tensorboard\n",
        "    writer = tbx.SummaryWriter()\n",
        "\n",
        "    # Looping over the epochs\n",
        "    for epoch in range(n_epochs):\n",
        "\n",
        "        # Setting the network to training mode\n",
        "        net.train()\n",
        "\n",
        "        # Initializing variables to store the total loss and metrics for the train set\n",
        "        train_loss = 0.0\n",
        "        train_l1_norm = 0.0\n",
        "        train_linf_norm = 0.0\n",
        "\n",
        "        # Looping over the batches in the train set\n",
        "        for x_batch, y_batch in train_loader:\n",
        "\n",
        "            # Moving the batch tensors to the device\n",
        "            x_batch = x_batch.to(device)\n",
        "            y_batch = y_batch.to(device)\n",
        "\n",
        "            # Zeroing the gradients\n",
        "            optimizer.zero_grad()\n",
        "\n",
        "            # Performing a forward pass and computing the loss and metrics\n",
        "            y_pred = net(x_batch)\n",
        "            loss, l1_norm, linf_norm = compute_loss_and_metrics(y_pred, y_batch, loss_fn)\n",
        "\n",
        "\n",
        "            # Performing a backward pass and updating the weights\n",
        "            loss.backward()\n",
        "            optimizer.step()\n",
        "\n",
        "            # Updating the total loss and metrics for the train set\n",
        "            train_loss += loss.item() * x_batch.size(0)\n",
        "            train_l1_norm += l1_norm.item() * x_batch.size(0)\n",
        "            train_linf_norm += linf_norm.item() * x_batch.size(0)\n",
        "\n",
        "        # Computing the average loss and metrics for the train set\n",
        "        train_loss /= len(train_loader.dataset)\n",
        "        train_l1_norm /= len(train_loader.dataset)\n",
        "        train_linf_norm /= len(train_loader.dataset)\n",
        "\n",
        "        # Appending the average loss and metrics for the train set to the lists\n",
        "        train_losses.append(train_loss)\n",
        "        train_metrics.append(\n",
        "            {\n",
        "                \"l1_norm\": train_l1_norm,\n",
        "                \"linf_norm\": train_linf_norm,\n",
        "            }\n",
        "        )\n",
        "\n",
        "        # Logging the average loss and metrics for the train set to tensorboard\n",
        "        writer.add_scalar(\"Loss/train\", train_loss, epoch)\n",
        "        writer.add_scalar(\"L1 norm/train\", train_l1_norm, epoch)\n",
        "        writer.add_scalar(\"Linf norm/train\", train_linf_norm, epoch)\n",
        "\n",
        "        if val_loader is not None:\n",
        "            net.eval()\n",
        "            val_loss = 0.0\n",
        "            val_l1_norm = 0.0\n",
        "            val_linf_norm = 0.0\n",
        "\n",
        "            with torch.no_grad():\n",
        "                for x_batch, y_batch in val_loader:\n",
        "                    x_batch = x_batch.to(device)\n",
        "                    y_batch = y_batch.to(device)\n",
        "                    y_pred = net(x_batch)\n",
        "                    loss, l1_norm, linf_norm = compute_loss_and_metrics(y_pred, y_batch, loss_fn)\n",
        "\n",
        "                    val_loss += loss.item() * x_batch.size(0)\n",
        "                    val_l1_norm += l1_norm.item() * x_batch.size(0)\n",
        "                    val_linf_norm += linf_norm.item() * x_batch.size(0)\n",
        "\n",
        "            val_loss /= len(val_loader.dataset)\n",
        "            val_l1_norm /= len(val_loader.dataset)\n",
        "            val_linf_norm /= len(val_loader.dataset)\n",
        "\n",
        "            val_losses.append(val_loss)\n",
        "            val_metrics.append(\n",
        "                {\n",
        "                    \"l1_norm\": val_l1_norm,\n",
        "                    \"linf_norm\": val_linf_norm,\n",
        "                }\n",
        "            )\n",
        "\n",
        "            writer.add_scalar(\"Loss/val\", val_loss, epoch)\n",
        "            writer.add_scalar(\"L1 norm/val\", val_l1_norm, epoch)\n",
        "            writer.add_scalar(\"Linf norm/val\", val_linf_norm, epoch)\n",
        "            print(f\"Epoch {epoch+1}/{n_epochs}.. Train loss: {train_loss:.3f}.. Val loss: {val_loss:.3f}.. Train L1 norm: {train_l1_norm:.3f}.. Val L1 norm: {val_l1_norm:.3f}.. Train Linf norm: {train_linf_norm:.3f}.. Val Linf norm: {val_linf_norm:.3f}\")\n",
        "\n",
        "\n",
        "            update_scheduler(scheduler, val_loss)\n",
        "\n",
        "        if test_loader is not None:\n",
        "            net.eval()\n",
        "            test_loss = 0.0\n",
        "            test_l1_norm = 0.0\n",
        "            test_linf_norm = 0.0\n",
        "\n",
        "            with torch.no_grad():\n",
        "                for x_batch, y_batch in test_loader:\n",
        "                    x_batch = x_batch.to(device)\n",
        "                    y_batch = y_batch.to(device)\n",
        "                    y_pred = net(x_batch)\n",
        "                    loss, l1_norm, linf_norm = compute_loss_and_metrics(y_pred, y_batch, loss_fn)\n",
        "\n",
        "                    test_loss += loss.item() * x_batch.size(0)\n",
        "                    test_l1_norm += l1_norm.item() * x_batch.size(0)\n",
        "                    test_linf_norm += linf_norm.item() * x_batch.size(0)\n",
        "\n",
        "            test_loss /= len(test_loader.dataset)\n",
        "            test_l1_norm /= len(test_loader.dataset)\n",
        "            test_linf_norm /= len(test_loader.dataset)\n",
        "\n",
        "            test_losses.append(test_loss)\n",
        "            test_metrics.append(\n",
        "                {\n",
        "                    \"l1_norm\": test_l1_norm,\n",
        "                    \"linf_norm\": test_linf_norm,\n",
        "                }\n",
        "            )\n",
        "\n",
        "            writer.add_scalar(\"Loss/test\", test_loss, epoch)\n",
        "            writer.add_scalar(\"L1 norm/test\", test_l1_norm, epoch)\n",
        "            writer.add_scalar(\"Linf norm/test\", test_linf_norm, epoch)\n",
        "            print(f\"Epoch {epoch+1}/{n_epochs}.. Train loss: {train_loss:.3f}.. Test loss: {test_loss:.3f}.. Train L1 norm: {train_l1_norm:.3f}.. Test L1 norm: {test_l1_norm:.3f}.. Train Linf norm: {train_linf_norm:.3f}.. Test Linf norm: {test_linf_norm:.3f}\")\n",
        "\n",
        "\n",
        "        # Reporting the intermediate metric value to Optuna if trial is not None\n",
        "        if trial is not None:\n",
        "            trial.report(val_l1_norm, epoch)\n",
        "\n",
        "            if trial.should_prune():\n",
        "                raise optuna.TrialPruned()\n",
        "\n",
        "    # Closing the SummaryWriter object\n",
        "    writer.close()\n",
        "\n",
        "    # Returning the losses and metrics lists\n",
        "    return train_losses, val_losses, test_losses, train_metrics, val_metrics, test_metrics\n"
      ]
    },
    {
      "cell_type": "markdown",
      "metadata": {
        "id": "xg9jz0SvUZiQ"
      },
      "source": [
        "## The objective function and hyperparameter tuning"
      ]
    },
    {
      "cell_type": "code",
      "execution_count": null,
      "metadata": {
        "id": "fmRncQPuUZiR"
      },
      "outputs": [],
      "source": [
        "# Defining an objective function for Optuna to minimize\n",
        "def objective(trial):\n",
        "    \"\"\"Defines an objective function for Optuna to minimize.\n",
        "\n",
        "    Args:\n",
        "        trial (optuna.trial.Trial): The trial object that contains the hyperparameters.\n",
        "\n",
        "    Returns:\n",
        "        float: The validation L1 norm to minimize.\n",
        "    \"\"\"\n",
        "    # Creating a trial network and optimizer using the create_model function\n",
        "    net, \\\n",
        "    loss_fn, \\\n",
        "    optimizer, \\\n",
        "    batch_size, \\\n",
        "    n_epochs, \\\n",
        "    scheduler, \\\n",
        "    loss_name, \\\n",
        "    optimizer_name, \\\n",
        "    scheduler_name, \\\n",
        "    n_units, \\\n",
        "    n_layers, \\\n",
        "    hidden_activation, \\\n",
        "    output_activation, \\\n",
        "    lr, \\\n",
        "    dropout_rate = create_model(trial, optimize=True)\n",
        "\n",
        "    # Create separate data loaders for training and validation\n",
        "    train_loader = torch.utils.data.DataLoader(\n",
        "        torch.utils.data.TensorDataset(x_train, y_train), batch_size=batch_size, shuffle=True\n",
        "    )\n",
        "    val_loader = torch.utils.data.DataLoader(\n",
        "        torch.utils.data.TensorDataset(x_val, y_val), batch_size=batch_size\n",
        "    )\n",
        "    \n",
        "    _, _, _, _, val_metrics, _ = train_and_eval(\n",
        "        net, loss_fn, optimizer, batch_size, n_epochs, scheduler, train_loader, val_loader, None, trial\n",
        "    )\n",
        "\n",
        "    # Returning the last validation L1 norm as the objective value to minimize\n",
        "    return val_metrics[-1][\"l1_norm\"]"
      ]
    },
    {
      "cell_type": "code",
      "execution_count": null,
      "metadata": {
        "id": "GyES4NAyUZiS",
        "outputId": "b4af08d5-bbff-4fe7-9e4d-7ef4a228350a",
        "colab": {
          "base_uri": "https://localhost:8080/"
        }
      },
      "outputs": [
        {
          "output_type": "stream",
          "name": "stderr",
          "text": [
            "\u001b[32m[I 2023-05-27 18:45:15,707]\u001b[0m A new study created in memory with name: no-name-784fca9c-65e2-4652-a94a-c1052ad0c815\u001b[0m\n",
            "<ipython-input-78-5c0802116769>:44: FutureWarning: suggest_loguniform has been deprecated in v3.0.0. This feature will be removed in v6.0.0. See https://github.com/optuna/optuna/releases/tag/v3.0.0. Use :func:`~optuna.trial.Trial.suggest_float` instead.\n",
            "  lr = trial.suggest_loguniform(\"lr\", 1e-6, 1)\n",
            "<ipython-input-78-5c0802116769>:75: FutureWarning: suggest_uniform has been deprecated in v3.0.0. This feature will be removed in v6.0.0. See https://github.com/optuna/optuna/releases/tag/v3.0.0. Use :func:`~optuna.trial.Trial.suggest_float` instead.\n",
            "  dropout_rate = trial.suggest_uniform(\"dropout_rate\", 0.0, 0.5)\n",
            "<ipython-input-78-5c0802116769>:177: FutureWarning: suggest_uniform has been deprecated in v3.0.0. This feature will be removed in v6.0.0. See https://github.com/optuna/optuna/releases/tag/v3.0.0. Use :func:`~optuna.trial.Trial.suggest_float` instead.\n",
            "  factor = trial.suggest_uniform(\"factor\", 0.1, 0.5)\n",
            "<ipython-input-78-5c0802116769>:179: FutureWarning: suggest_loguniform has been deprecated in v3.0.0. This feature will be removed in v6.0.0. See https://github.com/optuna/optuna/releases/tag/v3.0.0. Use :func:`~optuna.trial.Trial.suggest_float` instead.\n",
            "  threshold = trial.suggest_loguniform(\"threshold\", 1e-4, 1e-2)\n"
          ]
        },
        {
          "output_type": "stream",
          "name": "stdout",
          "text": [
            "Epoch 1/108.. Train loss: 4.820.. Val loss: 4.535.. Train L1 norm: 3.394.. Val L1 norm: 4.464.. Train Linf norm: 123.468.. Val Linf norm: 187.848\n",
            "Epoch 2/108.. Train loss: 4.685.. Val loss: 4.513.. Train L1 norm: 3.580.. Val L1 norm: 4.205.. Train Linf norm: 132.256.. Val Linf norm: 173.415\n",
            "Epoch 3/108.. Train loss: 4.718.. Val loss: 4.501.. Train L1 norm: 3.440.. Val L1 norm: 4.190.. Train Linf norm: 124.847.. Val Linf norm: 171.757\n",
            "Epoch 4/108.. Train loss: 4.708.. Val loss: 4.492.. Train L1 norm: 3.418.. Val L1 norm: 4.165.. Train Linf norm: 123.457.. Val Linf norm: 169.774\n",
            "Epoch 5/108.. Train loss: 4.679.. Val loss: 4.487.. Train L1 norm: 3.417.. Val L1 norm: 4.101.. Train Linf norm: 122.801.. Val Linf norm: 166.064\n",
            "Epoch 6/108.. Train loss: 4.742.. Val loss: 4.481.. Train L1 norm: 3.377.. Val L1 norm: 4.062.. Train Linf norm: 121.085.. Val Linf norm: 163.608\n",
            "Epoch 7/108.. Train loss: 4.607.. Val loss: 4.476.. Train L1 norm: 3.397.. Val L1 norm: 4.060.. Train Linf norm: 122.960.. Val Linf norm: 163.158\n",
            "Epoch 8/108.. Train loss: 4.644.. Val loss: 4.474.. Train L1 norm: 3.412.. Val L1 norm: 4.024.. Train Linf norm: 122.670.. Val Linf norm: 161.087\n",
            "Epoch 9/108.. Train loss: 4.677.. Val loss: 4.471.. Train L1 norm: 3.504.. Val L1 norm: 3.996.. Train Linf norm: 129.059.. Val Linf norm: 159.380\n",
            "Epoch 10/108.. Train loss: 4.613.. Val loss: 4.469.. Train L1 norm: 3.336.. Val L1 norm: 3.991.. Train Linf norm: 119.806.. Val Linf norm: 158.814\n",
            "Epoch 11/108.. Train loss: 4.633.. Val loss: 4.467.. Train L1 norm: 3.437.. Val L1 norm: 3.999.. Train Linf norm: 126.784.. Val Linf norm: 159.036\n",
            "Epoch 12/108.. Train loss: 4.578.. Val loss: 4.464.. Train L1 norm: 3.489.. Val L1 norm: 3.998.. Train Linf norm: 128.251.. Val Linf norm: 158.709\n",
            "Epoch 13/108.. Train loss: 4.586.. Val loss: 4.462.. Train L1 norm: 3.451.. Val L1 norm: 4.020.. Train Linf norm: 125.135.. Val Linf norm: 159.658\n",
            "Epoch 14/108.. Train loss: 4.581.. Val loss: 4.462.. Train L1 norm: 3.433.. Val L1 norm: 4.016.. Train Linf norm: 123.578.. Val Linf norm: 159.421\n",
            "Epoch 15/108.. Train loss: 4.573.. Val loss: 4.462.. Train L1 norm: 3.442.. Val L1 norm: 4.008.. Train Linf norm: 125.452.. Val Linf norm: 158.981\n",
            "Epoch 16/108.. Train loss: 4.670.. Val loss: 4.462.. Train L1 norm: 3.486.. Val L1 norm: 3.994.. Train Linf norm: 127.443.. Val Linf norm: 158.286\n",
            "Epoch 17/108.. Train loss: 4.572.. Val loss: 4.463.. Train L1 norm: 3.421.. Val L1 norm: 3.985.. Train Linf norm: 123.509.. Val Linf norm: 157.768\n",
            "Epoch 18/108.. Train loss: 4.635.. Val loss: 4.463.. Train L1 norm: 3.468.. Val L1 norm: 3.982.. Train Linf norm: 126.982.. Val Linf norm: 157.575\n",
            "Epoch 19/108.. Train loss: 4.581.. Val loss: 4.463.. Train L1 norm: 3.463.. Val L1 norm: 3.983.. Train Linf norm: 126.238.. Val Linf norm: 157.591\n",
            "Epoch 20/108.. Train loss: 4.648.. Val loss: 4.463.. Train L1 norm: 3.418.. Val L1 norm: 3.977.. Train Linf norm: 123.378.. Val Linf norm: 157.324\n",
            "Epoch 21/108.. Train loss: 4.577.. Val loss: 4.463.. Train L1 norm: 3.420.. Val L1 norm: 3.972.. Train Linf norm: 122.863.. Val Linf norm: 157.056\n",
            "Epoch 22/108.. Train loss: 4.535.. Val loss: 4.463.. Train L1 norm: 3.396.. Val L1 norm: 3.967.. Train Linf norm: 122.774.. Val Linf norm: 156.771\n",
            "Epoch 23/108.. Train loss: 4.536.. Val loss: 4.463.. Train L1 norm: 3.448.. Val L1 norm: 3.963.. Train Linf norm: 125.715.. Val Linf norm: 156.555\n",
            "Epoch 24/108.. Train loss: 4.599.. Val loss: 4.463.. Train L1 norm: 3.397.. Val L1 norm: 3.958.. Train Linf norm: 122.206.. Val Linf norm: 156.303\n",
            "Epoch 25/108.. Train loss: 4.593.. Val loss: 4.464.. Train L1 norm: 3.446.. Val L1 norm: 3.953.. Train Linf norm: 125.031.. Val Linf norm: 156.055\n",
            "Epoch 26/108.. Train loss: 4.588.. Val loss: 4.464.. Train L1 norm: 3.398.. Val L1 norm: 3.952.. Train Linf norm: 122.962.. Val Linf norm: 155.990\n",
            "Epoch 27/108.. Train loss: 4.598.. Val loss: 4.464.. Train L1 norm: 3.420.. Val L1 norm: 3.951.. Train Linf norm: 123.601.. Val Linf norm: 155.929\n",
            "Epoch 28/108.. Train loss: 4.614.. Val loss: 4.464.. Train L1 norm: 3.404.. Val L1 norm: 3.949.. Train Linf norm: 124.025.. Val Linf norm: 155.869\n",
            "Epoch 29/108.. Train loss: 4.634.. Val loss: 4.464.. Train L1 norm: 3.397.. Val L1 norm: 3.948.. Train Linf norm: 121.167.. Val Linf norm: 155.807\n",
            "Epoch 30/108.. Train loss: 4.552.. Val loss: 4.464.. Train L1 norm: 3.455.. Val L1 norm: 3.947.. Train Linf norm: 127.407.. Val Linf norm: 155.749\n",
            "Epoch 31/108.. Train loss: 4.628.. Val loss: 4.464.. Train L1 norm: 3.392.. Val L1 norm: 3.946.. Train Linf norm: 122.612.. Val Linf norm: 155.681\n",
            "Epoch 32/108.. Train loss: 4.539.. Val loss: 4.464.. Train L1 norm: 3.384.. Val L1 norm: 3.946.. Train Linf norm: 120.996.. Val Linf norm: 155.672\n",
            "Epoch 33/108.. Train loss: 4.552.. Val loss: 4.464.. Train L1 norm: 3.359.. Val L1 norm: 3.945.. Train Linf norm: 118.814.. Val Linf norm: 155.664\n",
            "Epoch 34/108.. Train loss: 4.573.. Val loss: 4.464.. Train L1 norm: 3.409.. Val L1 norm: 3.945.. Train Linf norm: 122.555.. Val Linf norm: 155.656\n",
            "Epoch 35/108.. Train loss: 4.575.. Val loss: 4.464.. Train L1 norm: 3.358.. Val L1 norm: 3.945.. Train Linf norm: 120.564.. Val Linf norm: 155.649\n",
            "Epoch 36/108.. Train loss: 4.603.. Val loss: 4.464.. Train L1 norm: 3.441.. Val L1 norm: 3.945.. Train Linf norm: 124.628.. Val Linf norm: 155.641\n",
            "Epoch 37/108.. Train loss: 4.530.. Val loss: 4.464.. Train L1 norm: 3.381.. Val L1 norm: 3.945.. Train Linf norm: 122.547.. Val Linf norm: 155.633\n",
            "Epoch 38/108.. Train loss: 4.574.. Val loss: 4.464.. Train L1 norm: 3.438.. Val L1 norm: 3.945.. Train Linf norm: 124.488.. Val Linf norm: 155.632\n",
            "Epoch 39/108.. Train loss: 4.591.. Val loss: 4.464.. Train L1 norm: 3.315.. Val L1 norm: 3.945.. Train Linf norm: 117.243.. Val Linf norm: 155.632\n",
            "Epoch 40/108.. Train loss: 4.619.. Val loss: 4.464.. Train L1 norm: 3.398.. Val L1 norm: 3.945.. Train Linf norm: 123.842.. Val Linf norm: 155.631\n",
            "Epoch 41/108.. Train loss: 4.553.. Val loss: 4.464.. Train L1 norm: 3.411.. Val L1 norm: 3.945.. Train Linf norm: 122.673.. Val Linf norm: 155.630\n",
            "Epoch 42/108.. Train loss: 4.565.. Val loss: 4.464.. Train L1 norm: 3.389.. Val L1 norm: 3.945.. Train Linf norm: 121.852.. Val Linf norm: 155.629\n",
            "Epoch 43/108.. Train loss: 4.531.. Val loss: 4.464.. Train L1 norm: 3.444.. Val L1 norm: 3.945.. Train Linf norm: 126.065.. Val Linf norm: 155.629\n",
            "Epoch 44/108.. Train loss: 4.554.. Val loss: 4.464.. Train L1 norm: 3.423.. Val L1 norm: 3.945.. Train Linf norm: 124.119.. Val Linf norm: 155.628\n",
            "Epoch 45/108.. Train loss: 4.605.. Val loss: 4.464.. Train L1 norm: 3.414.. Val L1 norm: 3.945.. Train Linf norm: 123.986.. Val Linf norm: 155.627\n",
            "Epoch 46/108.. Train loss: 4.571.. Val loss: 4.464.. Train L1 norm: 3.453.. Val L1 norm: 3.945.. Train Linf norm: 127.412.. Val Linf norm: 155.626\n",
            "Epoch 47/108.. Train loss: 4.568.. Val loss: 4.464.. Train L1 norm: 3.361.. Val L1 norm: 3.945.. Train Linf norm: 120.471.. Val Linf norm: 155.626\n",
            "Epoch 48/108.. Train loss: 4.575.. Val loss: 4.464.. Train L1 norm: 3.433.. Val L1 norm: 3.945.. Train Linf norm: 125.543.. Val Linf norm: 155.625\n",
            "Epoch 49/108.. Train loss: 4.602.. Val loss: 4.464.. Train L1 norm: 3.430.. Val L1 norm: 3.945.. Train Linf norm: 123.734.. Val Linf norm: 155.624\n",
            "Epoch 50/108.. Train loss: 4.603.. Val loss: 4.464.. Train L1 norm: 3.355.. Val L1 norm: 3.945.. Train Linf norm: 121.022.. Val Linf norm: 155.624\n",
            "Epoch 51/108.. Train loss: 4.546.. Val loss: 4.464.. Train L1 norm: 3.437.. Val L1 norm: 3.945.. Train Linf norm: 124.043.. Val Linf norm: 155.623\n",
            "Epoch 52/108.. Train loss: 4.554.. Val loss: 4.464.. Train L1 norm: 3.384.. Val L1 norm: 3.945.. Train Linf norm: 122.927.. Val Linf norm: 155.622\n",
            "Epoch 53/108.. Train loss: 4.570.. Val loss: 4.464.. Train L1 norm: 3.391.. Val L1 norm: 3.945.. Train Linf norm: 122.273.. Val Linf norm: 155.622\n",
            "Epoch 54/108.. Train loss: 4.540.. Val loss: 4.464.. Train L1 norm: 3.361.. Val L1 norm: 3.945.. Train Linf norm: 120.117.. Val Linf norm: 155.621\n",
            "Epoch 55/108.. Train loss: 4.620.. Val loss: 4.464.. Train L1 norm: 3.438.. Val L1 norm: 3.945.. Train Linf norm: 126.238.. Val Linf norm: 155.620\n",
            "Epoch 56/108.. Train loss: 4.522.. Val loss: 4.464.. Train L1 norm: 3.413.. Val L1 norm: 3.945.. Train Linf norm: 122.941.. Val Linf norm: 155.620\n",
            "Epoch 57/108.. Train loss: 4.513.. Val loss: 4.464.. Train L1 norm: 3.313.. Val L1 norm: 3.945.. Train Linf norm: 116.741.. Val Linf norm: 155.619\n",
            "Epoch 58/108.. Train loss: 4.570.. Val loss: 4.464.. Train L1 norm: 3.436.. Val L1 norm: 3.944.. Train Linf norm: 126.487.. Val Linf norm: 155.618\n",
            "Epoch 59/108.. Train loss: 4.611.. Val loss: 4.464.. Train L1 norm: 3.428.. Val L1 norm: 3.944.. Train Linf norm: 123.613.. Val Linf norm: 155.618\n",
            "Epoch 60/108.. Train loss: 4.591.. Val loss: 4.464.. Train L1 norm: 3.419.. Val L1 norm: 3.944.. Train Linf norm: 123.862.. Val Linf norm: 155.617\n",
            "Epoch 61/108.. Train loss: 4.627.. Val loss: 4.464.. Train L1 norm: 3.419.. Val L1 norm: 3.944.. Train Linf norm: 124.152.. Val Linf norm: 155.617\n",
            "Epoch 62/108.. Train loss: 4.607.. Val loss: 4.464.. Train L1 norm: 3.458.. Val L1 norm: 3.944.. Train Linf norm: 121.520.. Val Linf norm: 155.616\n",
            "Epoch 63/108.. Train loss: 4.586.. Val loss: 4.464.. Train L1 norm: 3.451.. Val L1 norm: 3.944.. Train Linf norm: 126.534.. Val Linf norm: 155.615\n",
            "Epoch 64/108.. Train loss: 4.593.. Val loss: 4.464.. Train L1 norm: 3.419.. Val L1 norm: 3.944.. Train Linf norm: 125.071.. Val Linf norm: 155.615\n",
            "Epoch 65/108.. Train loss: 4.608.. Val loss: 4.464.. Train L1 norm: 3.343.. Val L1 norm: 3.944.. Train Linf norm: 120.004.. Val Linf norm: 155.614\n",
            "Epoch 66/108.. Train loss: 4.581.. Val loss: 4.464.. Train L1 norm: 3.415.. Val L1 norm: 3.944.. Train Linf norm: 122.136.. Val Linf norm: 155.614\n",
            "Epoch 67/108.. Train loss: 4.638.. Val loss: 4.464.. Train L1 norm: 3.448.. Val L1 norm: 3.944.. Train Linf norm: 127.268.. Val Linf norm: 155.613\n",
            "Epoch 68/108.. Train loss: 4.570.. Val loss: 4.464.. Train L1 norm: 3.431.. Val L1 norm: 3.944.. Train Linf norm: 125.304.. Val Linf norm: 155.612\n",
            "Epoch 69/108.. Train loss: 4.654.. Val loss: 4.464.. Train L1 norm: 3.409.. Val L1 norm: 3.944.. Train Linf norm: 122.748.. Val Linf norm: 155.612\n",
            "Epoch 70/108.. Train loss: 4.632.. Val loss: 4.464.. Train L1 norm: 3.450.. Val L1 norm: 3.944.. Train Linf norm: 126.787.. Val Linf norm: 155.611\n",
            "Epoch 71/108.. Train loss: 4.476.. Val loss: 4.464.. Train L1 norm: 3.426.. Val L1 norm: 3.944.. Train Linf norm: 123.988.. Val Linf norm: 155.611\n",
            "Epoch 72/108.. Train loss: 4.600.. Val loss: 4.464.. Train L1 norm: 3.467.. Val L1 norm: 3.944.. Train Linf norm: 127.650.. Val Linf norm: 155.610\n",
            "Epoch 73/108.. Train loss: 4.618.. Val loss: 4.464.. Train L1 norm: 3.504.. Val L1 norm: 3.944.. Train Linf norm: 128.460.. Val Linf norm: 155.610\n",
            "Epoch 74/108.. Train loss: 4.624.. Val loss: 4.464.. Train L1 norm: 3.405.. Val L1 norm: 3.944.. Train Linf norm: 122.667.. Val Linf norm: 155.609\n",
            "Epoch 75/108.. Train loss: 4.568.. Val loss: 4.464.. Train L1 norm: 3.421.. Val L1 norm: 3.944.. Train Linf norm: 124.157.. Val Linf norm: 155.609\n",
            "Epoch 76/108.. Train loss: 4.521.. Val loss: 4.464.. Train L1 norm: 3.412.. Val L1 norm: 3.944.. Train Linf norm: 121.700.. Val Linf norm: 155.608\n",
            "Epoch 77/108.. Train loss: 4.602.. Val loss: 4.464.. Train L1 norm: 3.465.. Val L1 norm: 3.944.. Train Linf norm: 126.934.. Val Linf norm: 155.608\n",
            "Epoch 78/108.. Train loss: 4.589.. Val loss: 4.464.. Train L1 norm: 3.431.. Val L1 norm: 3.944.. Train Linf norm: 124.780.. Val Linf norm: 155.607\n",
            "Epoch 79/108.. Train loss: 4.579.. Val loss: 4.464.. Train L1 norm: 3.414.. Val L1 norm: 3.944.. Train Linf norm: 124.830.. Val Linf norm: 155.607\n",
            "Epoch 80/108.. Train loss: 4.617.. Val loss: 4.464.. Train L1 norm: 3.455.. Val L1 norm: 3.944.. Train Linf norm: 126.840.. Val Linf norm: 155.606\n",
            "Epoch 81/108.. Train loss: 4.624.. Val loss: 4.464.. Train L1 norm: 3.390.. Val L1 norm: 3.944.. Train Linf norm: 122.632.. Val Linf norm: 155.606\n",
            "Epoch 82/108.. Train loss: 4.485.. Val loss: 4.464.. Train L1 norm: 3.322.. Val L1 norm: 3.944.. Train Linf norm: 115.816.. Val Linf norm: 155.605\n",
            "Epoch 83/108.. Train loss: 4.577.. Val loss: 4.464.. Train L1 norm: 3.378.. Val L1 norm: 3.944.. Train Linf norm: 121.519.. Val Linf norm: 155.605\n",
            "Epoch 84/108.. Train loss: 4.587.. Val loss: 4.464.. Train L1 norm: 3.400.. Val L1 norm: 3.944.. Train Linf norm: 123.004.. Val Linf norm: 155.604\n",
            "Epoch 85/108.. Train loss: 4.559.. Val loss: 4.464.. Train L1 norm: 3.394.. Val L1 norm: 3.944.. Train Linf norm: 118.429.. Val Linf norm: 155.604\n",
            "Epoch 86/108.. Train loss: 4.611.. Val loss: 4.464.. Train L1 norm: 3.426.. Val L1 norm: 3.944.. Train Linf norm: 122.873.. Val Linf norm: 155.603\n",
            "Epoch 87/108.. Train loss: 4.538.. Val loss: 4.464.. Train L1 norm: 3.392.. Val L1 norm: 3.944.. Train Linf norm: 122.400.. Val Linf norm: 155.603\n",
            "Epoch 88/108.. Train loss: 4.645.. Val loss: 4.464.. Train L1 norm: 3.299.. Val L1 norm: 3.944.. Train Linf norm: 116.278.. Val Linf norm: 155.603\n",
            "Epoch 89/108.. Train loss: 4.561.. Val loss: 4.464.. Train L1 norm: 3.422.. Val L1 norm: 3.944.. Train Linf norm: 123.413.. Val Linf norm: 155.602\n",
            "Epoch 90/108.. Train loss: 4.534.. Val loss: 4.464.. Train L1 norm: 3.386.. Val L1 norm: 3.944.. Train Linf norm: 120.895.. Val Linf norm: 155.602\n",
            "Epoch 91/108.. Train loss: 4.574.. Val loss: 4.464.. Train L1 norm: 3.490.. Val L1 norm: 3.944.. Train Linf norm: 128.409.. Val Linf norm: 155.601\n",
            "Epoch 92/108.. Train loss: 4.550.. Val loss: 4.464.. Train L1 norm: 3.341.. Val L1 norm: 3.944.. Train Linf norm: 119.045.. Val Linf norm: 155.601\n",
            "Epoch 93/108.. Train loss: 4.525.. Val loss: 4.464.. Train L1 norm: 3.394.. Val L1 norm: 3.944.. Train Linf norm: 122.805.. Val Linf norm: 155.601\n",
            "Epoch 94/108.. Train loss: 4.550.. Val loss: 4.464.. Train L1 norm: 3.362.. Val L1 norm: 3.944.. Train Linf norm: 119.030.. Val Linf norm: 155.600\n",
            "Epoch 95/108.. Train loss: 4.581.. Val loss: 4.464.. Train L1 norm: 3.412.. Val L1 norm: 3.944.. Train Linf norm: 124.795.. Val Linf norm: 155.600\n",
            "Epoch 96/108.. Train loss: 4.593.. Val loss: 4.464.. Train L1 norm: 3.414.. Val L1 norm: 3.944.. Train Linf norm: 123.505.. Val Linf norm: 155.599\n",
            "Epoch 97/108.. Train loss: 4.567.. Val loss: 4.464.. Train L1 norm: 3.418.. Val L1 norm: 3.944.. Train Linf norm: 124.023.. Val Linf norm: 155.599\n",
            "Epoch 98/108.. Train loss: 4.612.. Val loss: 4.464.. Train L1 norm: 3.431.. Val L1 norm: 3.944.. Train Linf norm: 125.239.. Val Linf norm: 155.599\n",
            "Epoch 99/108.. Train loss: 4.606.. Val loss: 4.464.. Train L1 norm: 3.454.. Val L1 norm: 3.944.. Train Linf norm: 120.906.. Val Linf norm: 155.598\n",
            "Epoch 100/108.. Train loss: 4.557.. Val loss: 4.464.. Train L1 norm: 3.406.. Val L1 norm: 3.944.. Train Linf norm: 123.449.. Val Linf norm: 155.598\n",
            "Epoch 101/108.. Train loss: 4.558.. Val loss: 4.464.. Train L1 norm: 3.437.. Val L1 norm: 3.944.. Train Linf norm: 123.651.. Val Linf norm: 155.597\n",
            "Epoch 102/108.. Train loss: 4.612.. Val loss: 4.464.. Train L1 norm: 3.491.. Val L1 norm: 3.944.. Train Linf norm: 128.706.. Val Linf norm: 155.597\n",
            "Epoch 103/108.. Train loss: 4.617.. Val loss: 4.464.. Train L1 norm: 3.416.. Val L1 norm: 3.944.. Train Linf norm: 124.114.. Val Linf norm: 155.597\n",
            "Epoch 104/108.. Train loss: 4.593.. Val loss: 4.464.. Train L1 norm: 3.375.. Val L1 norm: 3.944.. Train Linf norm: 121.257.. Val Linf norm: 155.596\n",
            "Epoch 105/108.. Train loss: 4.582.. Val loss: 4.464.. Train L1 norm: 3.410.. Val L1 norm: 3.944.. Train Linf norm: 122.170.. Val Linf norm: 155.596\n",
            "Epoch 106/108.. Train loss: 4.581.. Val loss: 4.464.. Train L1 norm: 3.430.. Val L1 norm: 3.944.. Train Linf norm: 124.863.. Val Linf norm: 155.595\n",
            "Epoch 107/108.. Train loss: 4.566.. Val loss: 4.464.. Train L1 norm: 3.409.. Val L1 norm: 3.944.. Train Linf norm: 123.981.. Val Linf norm: 155.595\n"
          ]
        },
        {
          "output_type": "stream",
          "name": "stderr",
          "text": [
            "\u001b[32m[I 2023-05-27 19:03:34,039]\u001b[0m Trial 0 finished with value: 3.9440228816986083 and parameters: {'n_layers': 5, 'n_units_0': 3887, 'n_units_1': 2215, 'n_units_2': 1213, 'n_units_3': 1885, 'n_units_4': 2831, 'hidden_activation': 'GELU', 'output_activation': 'Linear', 'loss': 'MAE', 'optimizer': 'Adagrad', 'lr': 1.651198820661262e-05, 'batch_size': 64, 'n_epochs': 108, 'scheduler': 'ReduceLROnPlateau', 'dropout_rate': 0.17041994834967367, 'factor': 0.17981117626992815, 'patience': 5, 'threshold': 0.005151471633626968}. Best is trial 0 with value: 3.9440228816986083.\u001b[0m\n"
          ]
        },
        {
          "output_type": "stream",
          "name": "stdout",
          "text": [
            "Epoch 108/108.. Train loss: 4.594.. Val loss: 4.464.. Train L1 norm: 3.361.. Val L1 norm: 3.944.. Train Linf norm: 119.492.. Val Linf norm: 155.595\n",
            "Best trial:\n",
            "  Value:  3.9440228816986083\n",
            "  Params: \n",
            "    n_layers: 5\n",
            "    n_units_0: 3887\n",
            "    n_units_1: 2215\n",
            "    n_units_2: 1213\n",
            "    n_units_3: 1885\n",
            "    n_units_4: 2831\n",
            "    hidden_activation: GELU\n",
            "    output_activation: Linear\n",
            "    loss: MAE\n",
            "    optimizer: Adagrad\n",
            "    lr: 1.651198820661262e-05\n",
            "    batch_size: 64\n",
            "    n_epochs: 108\n",
            "    scheduler: ReduceLROnPlateau\n",
            "    dropout_rate: 0.17041994834967367\n",
            "    factor: 0.17981117626992815\n",
            "    patience: 5\n",
            "    threshold: 0.005151471633626968\n"
          ]
        }
      ],
      "source": [
        "if OPTIMIZE:\n",
        "    # Creating a study object with Optuna with TPE sampler and median pruner \n",
        "    study = optuna.create_study(direction=\"minimize\", sampler=optuna.samplers.TPESampler(), pruner=optuna.pruners.MedianPruner())\n",
        "\n",
        "    # Running Optuna with 100 trials when we are optimizing.\n",
        "    study.optimize(objective, n_trials=N_TRIALS)\n",
        "\n",
        "    # Printing the best trial information\n",
        "    print(\"Best trial:\")\n",
        "    trial = study.best_trial\n",
        "    print(\"  Value: \", trial.value)\n",
        "    print(\"  Params: \")\n",
        "    for key, value in trial.params.items():\n",
        "        print(f\"    {key}: {value}\")\n"
      ]
    },
    {
      "cell_type": "markdown",
      "metadata": {
        "id": "jmMfE9_dUZiS"
      },
      "source": [
        "## Training the model"
      ]
    },
    {
      "cell_type": "code",
      "execution_count": null,
      "metadata": {
        "id": "phyiHlWEUZiT",
        "colab": {
          "base_uri": "https://localhost:8080/"
        },
        "outputId": "67450a45-c38a-40d7-c606-3b80bd0c394f"
      },
      "outputs": [
        {
          "output_type": "stream",
          "name": "stderr",
          "text": [
            "<ipython-input-78-5c0802116769>:44: FutureWarning: suggest_loguniform has been deprecated in v3.0.0. This feature will be removed in v6.0.0. See https://github.com/optuna/optuna/releases/tag/v3.0.0. Use :func:`~optuna.trial.FrozenTrial.suggest_float` instead.\n",
            "  lr = trial.suggest_loguniform(\"lr\", 1e-6, 1)\n",
            "<ipython-input-78-5c0802116769>:75: FutureWarning: suggest_uniform has been deprecated in v3.0.0. This feature will be removed in v6.0.0. See https://github.com/optuna/optuna/releases/tag/v3.0.0. Use :func:`~optuna.trial.FrozenTrial.suggest_float` instead.\n",
            "  dropout_rate = trial.suggest_uniform(\"dropout_rate\", 0.0, 0.5)\n",
            "<ipython-input-78-5c0802116769>:177: FutureWarning: suggest_uniform has been deprecated in v3.0.0. This feature will be removed in v6.0.0. See https://github.com/optuna/optuna/releases/tag/v3.0.0. Use :func:`~optuna.trial.FrozenTrial.suggest_float` instead.\n",
            "  factor = trial.suggest_uniform(\"factor\", 0.1, 0.5)\n",
            "<ipython-input-78-5c0802116769>:179: FutureWarning: suggest_loguniform has been deprecated in v3.0.0. This feature will be removed in v6.0.0. See https://github.com/optuna/optuna/releases/tag/v3.0.0. Use :func:`~optuna.trial.FrozenTrial.suggest_float` instead.\n",
            "  threshold = trial.suggest_loguniform(\"threshold\", 1e-4, 1e-2)\n"
          ]
        }
      ],
      "source": [
        "# Creating the best network and optimizer using the best hyperparameters\n",
        "if OPTIMIZE:\n",
        "    net, \\\n",
        "    loss_fn, \\\n",
        "    optimizer, \\\n",
        "    batch_size, \\\n",
        "    n_epochs, \\\n",
        "    scheduler, \\\n",
        "    loss_name, \\\n",
        "    optimizer_name, \\\n",
        "    scheduler_name, \\\n",
        "    n_units, \\\n",
        "    n_layers, \\\n",
        "    hidden_activation, \\\n",
        "    output_activation, \\\n",
        "    lr, \\\n",
        "    dropout_rate = create_model(trial, optimize=True)\n",
        "\n",
        "# Creating the network with predefined hyperparameters\n",
        "else:\n",
        "    net, \\\n",
        "    loss_fn, \\\n",
        "    optimizer, \\\n",
        "    batch_size, \\\n",
        "    n_epochs, \\\n",
        "    scheduler, \\\n",
        "    loss_name, \\\n",
        "    optimizer_name, \\\n",
        "    scheduler_name, \\\n",
        "    n_units, \\\n",
        "    n_layers, \\\n",
        "    hidden_activation, \\\n",
        "    output_activation, \\\n",
        "    lr, \\\n",
        "    dropout_rate = create_model(trial=None, optimize=True)"
      ]
    },
    {
      "cell_type": "code",
      "execution_count": null,
      "metadata": {
        "id": "_yq-oY81UZiU",
        "colab": {
          "base_uri": "https://localhost:8080/"
        },
        "outputId": "01ec7ac0-15e2-4b7e-c047-6acfd322f1a5"
      },
      "outputs": [
        {
          "output_type": "stream",
          "name": "stdout",
          "text": [
            "loss_fn: Net(\n",
            "  (hidden_activation): GELU(approximate='none')\n",
            "  (output_activation): Identity()\n",
            "  (layers): ModuleList(\n",
            "    (0): Linear(in_features=14, out_features=3887, bias=True)\n",
            "    (1): Linear(in_features=3887, out_features=2215, bias=True)\n",
            "    (2): Linear(in_features=2215, out_features=1213, bias=True)\n",
            "    (3): Linear(in_features=1213, out_features=1885, bias=True)\n",
            "    (4): Linear(in_features=1885, out_features=2831, bias=True)\n",
            "    (5): Linear(in_features=2831, out_features=1, bias=True)\n",
            "  )\n",
            "  (dropouts): ModuleList(\n",
            "    (0-4): 5 x Dropout(p=0.17041994834967367, inplace=False)\n",
            "  )\n",
            ")\n",
            "loss_fn: L1Loss()\n",
            "batch_size: 64\n",
            "n_epochs: 108\n",
            "scheduler: <torch.optim.lr_scheduler.ReduceLROnPlateau object at 0x7f9bfc860700>\n",
            "loss_name: MAE\n",
            "optimizer_name: Adagrad\n",
            "scheduler_name: ReduceLROnPlateau\n",
            "n_units: [3887, 2215, 1213, 1885, 2831]\n",
            "n_layers: 5\n",
            "hidden_activation: GELU(approximate='none')\n",
            "output_activation: Identity()\n",
            "lr 1.651198820661262e-05\n",
            "dropout_rate 0.17041994834967367\n"
          ]
        }
      ],
      "source": [
        "print(\"loss_fn:\", net)\n",
        "print(\"loss_fn:\", loss_fn)\n",
        "print(\"batch_size:\", batch_size)\n",
        "print(\"n_epochs:\", n_epochs)\n",
        "print(\"scheduler:\", scheduler)\n",
        "print(\"loss_name:\", loss_name)\n",
        "print(\"optimizer_name:\", optimizer_name)\n",
        "print(\"scheduler_name:\", scheduler_name)\n",
        "print(\"n_units:\", n_units)\n",
        "print(\"n_layers:\", n_layers)\n",
        "print(\"hidden_activation:\", hidden_activation)\n",
        "print(\"output_activation:\", output_activation)\n",
        "print(\"lr\", lr)\n",
        "print(\"dropout_rate\", dropout_rate)"
      ]
    },
    {
      "cell_type": "markdown",
      "metadata": {
        "id": "E7aLWdZyUZiW",
        "outputId": "8fb1e8c6-5aa3-43a1-a255-712cf9396d0c"
      },
      "source": [
        "After optimizing with Optuna and deciding on the best hyperparameters, we combine the training and validatin set, using that as the new training set for training the model, and then evaluate the model on the test set"
      ]
    },
    {
      "cell_type": "code",
      "execution_count": null,
      "metadata": {
        "id": "zdyQs74uc72N",
        "colab": {
          "base_uri": "https://localhost:8080/"
        },
        "outputId": "18941e45-dbfc-474b-ef77-ba98a4ab6a34"
      },
      "outputs": [
        {
          "output_type": "stream",
          "name": "stdout",
          "text": [
            "Epoch 1/108.. Train loss: 4.707.. Test loss: 4.586.. Train L1 norm: 3.652.. Test L1 norm: 3.965.. Train Linf norm: 135.429.. Test Linf norm: 159.134\n",
            "Epoch 2/108.. Train loss: 4.697.. Test loss: 4.558.. Train L1 norm: 3.681.. Test L1 norm: 4.033.. Train Linf norm: 139.372.. Test Linf norm: 163.069\n",
            "Epoch 3/108.. Train loss: 4.637.. Test loss: 4.540.. Train L1 norm: 3.656.. Test L1 norm: 4.109.. Train Linf norm: 138.196.. Test Linf norm: 167.117\n",
            "Epoch 4/108.. Train loss: 4.653.. Test loss: 4.528.. Train L1 norm: 3.574.. Test L1 norm: 4.157.. Train Linf norm: 133.875.. Test Linf norm: 169.710\n",
            "Epoch 5/108.. Train loss: 4.586.. Test loss: 4.518.. Train L1 norm: 3.680.. Test L1 norm: 4.190.. Train Linf norm: 138.720.. Test Linf norm: 171.503\n",
            "Epoch 6/108.. Train loss: 4.629.. Test loss: 4.509.. Train L1 norm: 3.546.. Test L1 norm: 4.224.. Train Linf norm: 131.122.. Test Linf norm: 173.339\n",
            "Epoch 7/108.. Train loss: 4.587.. Test loss: 4.502.. Train L1 norm: 3.724.. Test L1 norm: 4.208.. Train Linf norm: 139.098.. Test Linf norm: 172.742\n",
            "Epoch 8/108.. Train loss: 4.563.. Test loss: 4.496.. Train L1 norm: 3.598.. Test L1 norm: 4.231.. Train Linf norm: 133.120.. Test Linf norm: 174.042\n",
            "Epoch 9/108.. Train loss: 4.568.. Test loss: 4.489.. Train L1 norm: 3.624.. Test L1 norm: 4.252.. Train Linf norm: 135.375.. Test Linf norm: 175.178\n",
            "Epoch 10/108.. Train loss: 4.546.. Test loss: 4.484.. Train L1 norm: 3.626.. Test L1 norm: 4.289.. Train Linf norm: 135.375.. Test Linf norm: 177.098\n",
            "Epoch 11/108.. Train loss: 4.540.. Test loss: 4.480.. Train L1 norm: 3.679.. Test L1 norm: 4.303.. Train Linf norm: 136.173.. Test Linf norm: 177.819\n",
            "Epoch 12/108.. Train loss: 4.570.. Test loss: 4.476.. Train L1 norm: 3.569.. Test L1 norm: 4.338.. Train Linf norm: 133.013.. Test Linf norm: 179.608\n",
            "Epoch 13/108.. Train loss: 4.595.. Test loss: 4.469.. Train L1 norm: 3.525.. Test L1 norm: 4.329.. Train Linf norm: 129.641.. Test Linf norm: 179.328\n",
            "Epoch 14/108.. Train loss: 4.528.. Test loss: 4.465.. Train L1 norm: 3.593.. Test L1 norm: 4.345.. Train Linf norm: 132.937.. Test Linf norm: 180.156\n",
            "Epoch 15/108.. Train loss: 4.534.. Test loss: 4.463.. Train L1 norm: 3.504.. Test L1 norm: 4.382.. Train Linf norm: 128.009.. Test Linf norm: 182.001\n",
            "Epoch 16/108.. Train loss: 4.563.. Test loss: 4.459.. Train L1 norm: 3.644.. Test L1 norm: 4.404.. Train Linf norm: 136.648.. Test Linf norm: 183.117\n",
            "Epoch 17/108.. Train loss: 4.542.. Test loss: 4.457.. Train L1 norm: 3.576.. Test L1 norm: 4.417.. Train Linf norm: 133.438.. Test Linf norm: 183.771\n",
            "Epoch 18/108.. Train loss: 4.512.. Test loss: 4.455.. Train L1 norm: 3.605.. Test L1 norm: 4.452.. Train Linf norm: 133.348.. Test Linf norm: 185.567\n",
            "Epoch 19/108.. Train loss: 4.539.. Test loss: 4.449.. Train L1 norm: 3.594.. Test L1 norm: 4.458.. Train Linf norm: 133.638.. Test Linf norm: 185.904\n",
            "Epoch 20/108.. Train loss: 4.519.. Test loss: 4.444.. Train L1 norm: 3.618.. Test L1 norm: 4.463.. Train Linf norm: 133.907.. Test Linf norm: 186.216\n",
            "Epoch 21/108.. Train loss: 4.492.. Test loss: 4.442.. Train L1 norm: 3.544.. Test L1 norm: 4.483.. Train Linf norm: 128.787.. Test Linf norm: 187.228\n",
            "Epoch 22/108.. Train loss: 4.506.. Test loss: 4.437.. Train L1 norm: 3.614.. Test L1 norm: 4.490.. Train Linf norm: 133.681.. Test Linf norm: 187.642\n",
            "Epoch 23/108.. Train loss: 4.528.. Test loss: 4.436.. Train L1 norm: 3.603.. Test L1 norm: 4.516.. Train Linf norm: 130.898.. Test Linf norm: 188.885\n",
            "Epoch 24/108.. Train loss: 4.522.. Test loss: 4.434.. Train L1 norm: 3.670.. Test L1 norm: 4.542.. Train Linf norm: 136.995.. Test Linf norm: 190.189\n",
            "Epoch 25/108.. Train loss: 4.491.. Test loss: 4.432.. Train L1 norm: 3.644.. Test L1 norm: 4.558.. Train Linf norm: 134.566.. Test Linf norm: 191.008\n",
            "Epoch 26/108.. Train loss: 4.507.. Test loss: 4.427.. Train L1 norm: 3.598.. Test L1 norm: 4.554.. Train Linf norm: 133.018.. Test Linf norm: 190.905\n",
            "Epoch 27/108.. Train loss: 4.504.. Test loss: 4.425.. Train L1 norm: 3.627.. Test L1 norm: 4.576.. Train Linf norm: 133.881.. Test Linf norm: 191.962\n",
            "Epoch 28/108.. Train loss: 4.483.. Test loss: 4.423.. Train L1 norm: 3.556.. Test L1 norm: 4.598.. Train Linf norm: 130.646.. Test Linf norm: 193.087\n",
            "Epoch 29/108.. Train loss: 4.500.. Test loss: 4.421.. Train L1 norm: 3.589.. Test L1 norm: 4.620.. Train Linf norm: 130.509.. Test Linf norm: 194.153\n",
            "Epoch 30/108.. Train loss: 4.456.. Test loss: 4.420.. Train L1 norm: 3.655.. Test L1 norm: 4.635.. Train Linf norm: 136.501.. Test Linf norm: 194.902\n",
            "Epoch 31/108.. Train loss: 4.455.. Test loss: 4.418.. Train L1 norm: 3.700.. Test L1 norm: 4.663.. Train Linf norm: 137.588.. Test Linf norm: 196.286\n",
            "Epoch 32/108.. Train loss: 4.497.. Test loss: 4.417.. Train L1 norm: 3.676.. Test L1 norm: 4.679.. Train Linf norm: 137.003.. Test Linf norm: 197.062\n",
            "Epoch 33/108.. Train loss: 4.459.. Test loss: 4.413.. Train L1 norm: 3.687.. Test L1 norm: 4.684.. Train Linf norm: 137.058.. Test Linf norm: 197.389\n",
            "Epoch 34/108.. Train loss: 4.499.. Test loss: 4.412.. Train L1 norm: 3.584.. Test L1 norm: 4.704.. Train Linf norm: 131.958.. Test Linf norm: 198.349\n",
            "Epoch 35/108.. Train loss: 4.463.. Test loss: 4.410.. Train L1 norm: 3.681.. Test L1 norm: 4.726.. Train Linf norm: 136.224.. Test Linf norm: 199.408\n",
            "Epoch 36/108.. Train loss: 4.471.. Test loss: 4.406.. Train L1 norm: 3.646.. Test L1 norm: 4.716.. Train Linf norm: 134.912.. Test Linf norm: 199.038\n",
            "Epoch 37/108.. Train loss: 4.464.. Test loss: 4.404.. Train L1 norm: 3.641.. Test L1 norm: 4.736.. Train Linf norm: 133.993.. Test Linf norm: 199.998\n",
            "Epoch 38/108.. Train loss: 4.462.. Test loss: 4.403.. Train L1 norm: 3.685.. Test L1 norm: 4.752.. Train Linf norm: 137.156.. Test Linf norm: 200.791\n",
            "Epoch 39/108.. Train loss: 4.476.. Test loss: 4.399.. Train L1 norm: 3.653.. Test L1 norm: 4.753.. Train Linf norm: 134.361.. Test Linf norm: 200.907\n",
            "Epoch 40/108.. Train loss: 4.514.. Test loss: 4.396.. Train L1 norm: 3.667.. Test L1 norm: 4.745.. Train Linf norm: 135.274.. Test Linf norm: 200.565\n",
            "Epoch 41/108.. Train loss: 4.460.. Test loss: 4.394.. Train L1 norm: 3.636.. Test L1 norm: 4.765.. Train Linf norm: 134.322.. Test Linf norm: 201.544\n",
            "Epoch 42/108.. Train loss: 4.435.. Test loss: 4.394.. Train L1 norm: 3.566.. Test L1 norm: 4.796.. Train Linf norm: 129.575.. Test Linf norm: 203.030\n",
            "Epoch 43/108.. Train loss: 4.472.. Test loss: 4.392.. Train L1 norm: 3.545.. Test L1 norm: 4.803.. Train Linf norm: 128.874.. Test Linf norm: 203.413\n",
            "Epoch 44/108.. Train loss: 4.484.. Test loss: 4.391.. Train L1 norm: 3.727.. Test L1 norm: 4.812.. Train Linf norm: 138.940.. Test Linf norm: 203.895\n",
            "Epoch 45/108.. Train loss: 4.456.. Test loss: 4.389.. Train L1 norm: 3.595.. Test L1 norm: 4.818.. Train Linf norm: 130.650.. Test Linf norm: 204.188\n",
            "Epoch 46/108.. Train loss: 4.475.. Test loss: 4.388.. Train L1 norm: 3.727.. Test L1 norm: 4.831.. Train Linf norm: 139.628.. Test Linf norm: 204.818\n",
            "Epoch 47/108.. Train loss: 4.410.. Test loss: 4.386.. Train L1 norm: 3.609.. Test L1 norm: 4.837.. Train Linf norm: 132.439.. Test Linf norm: 205.170\n",
            "Epoch 48/108.. Train loss: 4.435.. Test loss: 4.385.. Train L1 norm: 3.685.. Test L1 norm: 4.857.. Train Linf norm: 135.768.. Test Linf norm: 206.173\n",
            "Epoch 49/108.. Train loss: 4.421.. Test loss: 4.384.. Train L1 norm: 3.635.. Test L1 norm: 4.877.. Train Linf norm: 132.784.. Test Linf norm: 207.121\n",
            "Epoch 50/108.. Train loss: 4.467.. Test loss: 4.382.. Train L1 norm: 3.757.. Test L1 norm: 4.873.. Train Linf norm: 141.268.. Test Linf norm: 206.981\n",
            "Epoch 51/108.. Train loss: 4.469.. Test loss: 4.381.. Train L1 norm: 3.666.. Test L1 norm: 4.890.. Train Linf norm: 136.051.. Test Linf norm: 207.833\n",
            "Epoch 52/108.. Train loss: 4.455.. Test loss: 4.380.. Train L1 norm: 3.668.. Test L1 norm: 4.906.. Train Linf norm: 133.976.. Test Linf norm: 208.606\n",
            "Epoch 53/108.. Train loss: 4.460.. Test loss: 4.378.. Train L1 norm: 3.609.. Test L1 norm: 4.910.. Train Linf norm: 132.268.. Test Linf norm: 208.791\n",
            "Epoch 54/108.. Train loss: 4.455.. Test loss: 4.375.. Train L1 norm: 3.651.. Test L1 norm: 4.912.. Train Linf norm: 135.393.. Test Linf norm: 208.925\n",
            "Epoch 55/108.. Train loss: 4.469.. Test loss: 4.374.. Train L1 norm: 3.692.. Test L1 norm: 4.927.. Train Linf norm: 135.781.. Test Linf norm: 209.642\n",
            "Epoch 56/108.. Train loss: 4.430.. Test loss: 4.372.. Train L1 norm: 3.630.. Test L1 norm: 4.921.. Train Linf norm: 134.266.. Test Linf norm: 209.389\n",
            "Epoch 57/108.. Train loss: 4.452.. Test loss: 4.370.. Train L1 norm: 3.678.. Test L1 norm: 4.935.. Train Linf norm: 135.493.. Test Linf norm: 210.117\n",
            "Epoch 58/108.. Train loss: 4.422.. Test loss: 4.368.. Train L1 norm: 3.642.. Test L1 norm: 4.942.. Train Linf norm: 132.024.. Test Linf norm: 210.469\n",
            "Epoch 59/108.. Train loss: 4.480.. Test loss: 4.367.. Train L1 norm: 3.654.. Test L1 norm: 4.959.. Train Linf norm: 134.101.. Test Linf norm: 211.326\n",
            "Epoch 60/108.. Train loss: 4.396.. Test loss: 4.366.. Train L1 norm: 3.683.. Test L1 norm: 4.973.. Train Linf norm: 137.149.. Test Linf norm: 212.022\n",
            "Epoch 61/108.. Train loss: 4.408.. Test loss: 4.365.. Train L1 norm: 3.713.. Test L1 norm: 4.990.. Train Linf norm: 138.143.. Test Linf norm: 212.861\n",
            "Epoch 62/108.. Train loss: 4.411.. Test loss: 4.364.. Train L1 norm: 3.710.. Test L1 norm: 5.005.. Train Linf norm: 137.355.. Test Linf norm: 213.613\n",
            "Epoch 63/108.. Train loss: 4.460.. Test loss: 4.363.. Train L1 norm: 3.633.. Test L1 norm: 5.006.. Train Linf norm: 133.623.. Test Linf norm: 213.649\n",
            "Epoch 64/108.. Train loss: 4.423.. Test loss: 4.361.. Train L1 norm: 3.631.. Test L1 norm: 5.003.. Train Linf norm: 129.420.. Test Linf norm: 213.523\n",
            "Epoch 65/108.. Train loss: 4.432.. Test loss: 4.361.. Train L1 norm: 3.723.. Test L1 norm: 5.020.. Train Linf norm: 137.133.. Test Linf norm: 214.352\n",
            "Epoch 66/108.. Train loss: 4.429.. Test loss: 4.360.. Train L1 norm: 3.667.. Test L1 norm: 5.033.. Train Linf norm: 134.208.. Test Linf norm: 215.010\n",
            "Epoch 67/108.. Train loss: 4.411.. Test loss: 4.359.. Train L1 norm: 3.649.. Test L1 norm: 5.047.. Train Linf norm: 132.366.. Test Linf norm: 215.703\n",
            "Epoch 68/108.. Train loss: 4.406.. Test loss: 4.358.. Train L1 norm: 3.741.. Test L1 norm: 5.044.. Train Linf norm: 138.847.. Test Linf norm: 215.585\n",
            "Epoch 69/108.. Train loss: 4.407.. Test loss: 4.355.. Train L1 norm: 3.697.. Test L1 norm: 5.046.. Train Linf norm: 136.187.. Test Linf norm: 215.728\n",
            "Epoch 70/108.. Train loss: 4.475.. Test loss: 4.354.. Train L1 norm: 3.705.. Test L1 norm: 5.050.. Train Linf norm: 136.561.. Test Linf norm: 215.935\n",
            "Epoch 71/108.. Train loss: 4.392.. Test loss: 4.353.. Train L1 norm: 3.667.. Test L1 norm: 5.069.. Train Linf norm: 133.682.. Test Linf norm: 216.839\n",
            "Epoch 72/108.. Train loss: 4.422.. Test loss: 4.352.. Train L1 norm: 3.662.. Test L1 norm: 5.074.. Train Linf norm: 134.023.. Test Linf norm: 217.094\n",
            "Epoch 73/108.. Train loss: 4.398.. Test loss: 4.352.. Train L1 norm: 3.614.. Test L1 norm: 5.097.. Train Linf norm: 131.627.. Test Linf norm: 218.209\n",
            "Epoch 74/108.. Train loss: 4.432.. Test loss: 4.349.. Train L1 norm: 3.729.. Test L1 norm: 5.089.. Train Linf norm: 138.344.. Test Linf norm: 217.883\n",
            "Epoch 75/108.. Train loss: 4.386.. Test loss: 4.348.. Train L1 norm: 3.702.. Test L1 norm: 5.092.. Train Linf norm: 137.563.. Test Linf norm: 218.087\n",
            "Epoch 76/108.. Train loss: 4.381.. Test loss: 4.348.. Train L1 norm: 3.653.. Test L1 norm: 5.113.. Train Linf norm: 134.602.. Test Linf norm: 219.096\n",
            "Epoch 77/108.. Train loss: 4.422.. Test loss: 4.347.. Train L1 norm: 3.633.. Test L1 norm: 5.126.. Train Linf norm: 131.894.. Test Linf norm: 219.705\n",
            "Epoch 78/108.. Train loss: 4.400.. Test loss: 4.344.. Train L1 norm: 3.772.. Test L1 norm: 5.121.. Train Linf norm: 141.148.. Test Linf norm: 219.522\n",
            "Epoch 79/108.. Train loss: 4.440.. Test loss: 4.343.. Train L1 norm: 3.752.. Test L1 norm: 5.128.. Train Linf norm: 138.809.. Test Linf norm: 219.878\n",
            "Epoch 80/108.. Train loss: 4.359.. Test loss: 4.343.. Train L1 norm: 3.716.. Test L1 norm: 5.150.. Train Linf norm: 133.676.. Test Linf norm: 220.967\n",
            "Epoch 81/108.. Train loss: 4.404.. Test loss: 4.341.. Train L1 norm: 3.569.. Test L1 norm: 5.158.. Train Linf norm: 128.182.. Test Linf norm: 221.378\n",
            "Epoch 82/108.. Train loss: 4.470.. Test loss: 4.341.. Train L1 norm: 3.697.. Test L1 norm: 5.168.. Train Linf norm: 135.414.. Test Linf norm: 221.841\n",
            "Epoch 83/108.. Train loss: 4.467.. Test loss: 4.339.. Train L1 norm: 3.738.. Test L1 norm: 5.166.. Train Linf norm: 139.844.. Test Linf norm: 221.774\n",
            "Epoch 84/108.. Train loss: 4.391.. Test loss: 4.336.. Train L1 norm: 3.667.. Test L1 norm: 5.169.. Train Linf norm: 135.565.. Test Linf norm: 221.958\n",
            "Epoch 85/108.. Train loss: 4.415.. Test loss: 4.336.. Train L1 norm: 3.614.. Test L1 norm: 5.180.. Train Linf norm: 130.660.. Test Linf norm: 222.476\n",
            "Epoch 86/108.. Train loss: 4.401.. Test loss: 4.335.. Train L1 norm: 3.750.. Test L1 norm: 5.189.. Train Linf norm: 138.076.. Test Linf norm: 222.935\n",
            "Epoch 87/108.. Train loss: 4.430.. Test loss: 4.335.. Train L1 norm: 3.650.. Test L1 norm: 5.206.. Train Linf norm: 133.384.. Test Linf norm: 223.772\n",
            "Epoch 88/108.. Train loss: 4.405.. Test loss: 4.333.. Train L1 norm: 3.626.. Test L1 norm: 5.206.. Train Linf norm: 131.702.. Test Linf norm: 223.807\n",
            "Epoch 89/108.. Train loss: 4.367.. Test loss: 4.332.. Train L1 norm: 3.675.. Test L1 norm: 5.221.. Train Linf norm: 134.463.. Test Linf norm: 224.512\n",
            "Epoch 90/108.. Train loss: 4.386.. Test loss: 4.332.. Train L1 norm: 3.673.. Test L1 norm: 5.233.. Train Linf norm: 133.659.. Test Linf norm: 225.122\n",
            "Epoch 91/108.. Train loss: 4.388.. Test loss: 4.332.. Train L1 norm: 3.664.. Test L1 norm: 5.241.. Train Linf norm: 133.290.. Test Linf norm: 225.506\n",
            "Epoch 92/108.. Train loss: 4.354.. Test loss: 4.330.. Train L1 norm: 3.655.. Test L1 norm: 5.249.. Train Linf norm: 130.697.. Test Linf norm: 225.949\n",
            "Epoch 93/108.. Train loss: 4.359.. Test loss: 4.329.. Train L1 norm: 3.827.. Test L1 norm: 5.256.. Train Linf norm: 143.940.. Test Linf norm: 226.274\n",
            "Epoch 94/108.. Train loss: 4.385.. Test loss: 4.329.. Train L1 norm: 3.691.. Test L1 norm: 5.264.. Train Linf norm: 135.615.. Test Linf norm: 226.685\n",
            "Epoch 95/108.. Train loss: 4.394.. Test loss: 4.327.. Train L1 norm: 3.672.. Test L1 norm: 5.268.. Train Linf norm: 133.195.. Test Linf norm: 226.847\n",
            "Epoch 96/108.. Train loss: 4.424.. Test loss: 4.326.. Train L1 norm: 3.701.. Test L1 norm: 5.278.. Train Linf norm: 136.314.. Test Linf norm: 227.357\n",
            "Epoch 97/108.. Train loss: 4.384.. Test loss: 4.326.. Train L1 norm: 3.695.. Test L1 norm: 5.294.. Train Linf norm: 134.905.. Test Linf norm: 228.159\n",
            "Epoch 98/108.. Train loss: 4.350.. Test loss: 4.323.. Train L1 norm: 3.716.. Test L1 norm: 5.291.. Train Linf norm: 137.866.. Test Linf norm: 228.045\n",
            "Epoch 99/108.. Train loss: 4.348.. Test loss: 4.324.. Train L1 norm: 3.620.. Test L1 norm: 5.313.. Train Linf norm: 131.262.. Test Linf norm: 229.106\n",
            "Epoch 100/108.. Train loss: 4.357.. Test loss: 4.324.. Train L1 norm: 3.771.. Test L1 norm: 5.319.. Train Linf norm: 140.811.. Test Linf norm: 229.415\n",
            "Epoch 101/108.. Train loss: 4.374.. Test loss: 4.321.. Train L1 norm: 3.766.. Test L1 norm: 5.313.. Train Linf norm: 137.956.. Test Linf norm: 229.156\n",
            "Epoch 102/108.. Train loss: 4.373.. Test loss: 4.319.. Train L1 norm: 3.724.. Test L1 norm: 5.315.. Train Linf norm: 137.710.. Test Linf norm: 229.280\n",
            "Epoch 103/108.. Train loss: 4.336.. Test loss: 4.318.. Train L1 norm: 3.716.. Test L1 norm: 5.317.. Train Linf norm: 136.458.. Test Linf norm: 229.397\n",
            "Epoch 104/108.. Train loss: 4.356.. Test loss: 4.318.. Train L1 norm: 3.662.. Test L1 norm: 5.337.. Train Linf norm: 133.341.. Test Linf norm: 230.397\n",
            "Epoch 105/108.. Train loss: 4.421.. Test loss: 4.318.. Train L1 norm: 3.738.. Test L1 norm: 5.345.. Train Linf norm: 138.963.. Test Linf norm: 230.785\n",
            "Epoch 106/108.. Train loss: 4.404.. Test loss: 4.316.. Train L1 norm: 3.657.. Test L1 norm: 5.343.. Train Linf norm: 131.175.. Test Linf norm: 230.716\n",
            "Epoch 107/108.. Train loss: 4.347.. Test loss: 4.314.. Train L1 norm: 3.788.. Test L1 norm: 5.350.. Train Linf norm: 142.759.. Test Linf norm: 231.055\n",
            "Epoch 108/108.. Train loss: 4.399.. Test loss: 4.314.. Train L1 norm: 3.687.. Test L1 norm: 5.368.. Train Linf norm: 135.045.. Test Linf norm: 231.911\n"
          ]
        }
      ],
      "source": [
        "x_train_val = torch.cat((x_train, x_val), 0)\n",
        "y_train_val = torch.cat((y_train, y_val), 0)\n",
        "\n",
        "train_val_loader = torch.utils.data.DataLoader(\n",
        "    torch.utils.data.TensorDataset(x_train_val, y_train_val), batch_size=batch_size, shuffle=True\n",
        ")\n",
        "test_loader = torch.utils.data.DataLoader(\n",
        "    torch.utils.data.TensorDataset(x_test, y_test), batch_size=batch_size\n",
        ")\n",
        "\n",
        "train_losses, _, test_losses, train_metrics, _, test_metrics, = train_and_eval(\n",
        "    net, loss_fn, optimizer, batch_size, n_epochs, scheduler, train_val_loader, None, test_loader, None\n",
        ")"
      ]
    },
    {
      "cell_type": "markdown",
      "metadata": {
        "id": "akNucrgMUZiW"
      },
      "source": [
        "## Saving"
      ]
    },
    {
      "cell_type": "code",
      "execution_count": null,
      "metadata": {
        "id": "LHsrs2Y-UZic"
      },
      "outputs": [],
      "source": [
        "# create a dictionary to store the rest of the variables\n",
        "import json\n",
        "\n",
        "# save the network to a .pth file\n",
        "torch.save(net.state_dict(), \"net.pth\")\n",
        "save_file(\"net.pth\")\n",
        "\n",
        "# save the optimizer to a .pth file\n",
        "torch.save(optimizer.state_dict(), \"optimizer.pth\")\n",
        "save_file(\"optimizer.pth\")\n",
        "\n",
        "# save the scheduler to a .pth file if it is not None\n",
        "if scheduler is not None:\n",
        "  torch.save(scheduler.state_dict(), \"scheduler.pth\")\n",
        "  save_file(\"scheduler.pth\")\n",
        "\n",
        "# create a dictionary to store the rest of the variables\n",
        "if isinstance(hidden_activation.__class__.__name__, list):\n",
        "    hidden_activation_name = hidden_activation.__class__.__name__[0]\n",
        "else:\n",
        "    hidden_activation_name = hidden_activation.__class__.__name__\n",
        "\n",
        "if isinstance(output_activation.__class__.__name__, list):\n",
        "    output_activation_name = output_activation.__class__.__name__[0]\n",
        "else:\n",
        "    output_activation_name = output_activation.__class__.__name__\n",
        "\n",
        "var_dict = {\n",
        "  \"batch_size\": batch_size,\n",
        "  \"n_epochs\": n_epochs,\n",
        "  \"loss_name\": loss_name,\n",
        "  \"optimizer_name\": optimizer_name,\n",
        "  \"scheduler_name\": scheduler_name,\n",
        "  \"n_units\": n_units,\n",
        "  \"n_layers\": n_layers,\n",
        "  \"hidden_activation_name\": hidden_activation_name,\n",
        "  \"output_activation_name\": output_activation_name,\n",
        "  \"lr\": lr,\n",
        "  \"dropout_rate\": dropout_rate\n",
        "}\n",
        "\n",
        "# Adding the subparameters to the var_dict for saving\n",
        "if hidden_activation_name == \"LeakyReLU\":\n",
        "  var_dict[\"leakyrelu_slope\"] = hidden_activation.negative_slope\n",
        "elif hidden_activation_name == \"PReLU\":\n",
        "  var_dict[\"prelu_init\"] = hidden_activation.weight.item()  # .item() is needed because weight is a tensor\n",
        "elif hidden_activation_name == \"SoftPlus\":\n",
        "  var_dict[\"softplus_beta\"] = hidden_activation.beta\n",
        "\n",
        "# save the dictionary to a .json file\n",
        "with open(\"var_dict.json\", \"w\") as f:\n",
        "  json.dump(var_dict, f)\n",
        "save_file(\"var_dict.json\")\n",
        "\n",
        "# Saving the output of the training using pandas\n",
        "train_df = pd.DataFrame(\n",
        "    {\n",
        "        \"train_loss\": train_losses,\n",
        "        \"test_loss\": test_losses,\n",
        "        \"train_l1_norm\": [m[\"l1_norm\"] for m in train_metrics],\n",
        "        \"test_l1_norm\": [m[\"l1_norm\"] for m in test_metrics],\n",
        "        \"train_linf_norm\": [m[\"linf_norm\"] for m in train_metrics],\n",
        "        \"test_linf_norm\": [m[\"linf_norm\"] for m in test_metrics],\n",
        "    }\n",
        ")\n",
        "train_df.to_csv(\"train_output.csv\", index=False)\n",
        "save_file(\"train_output.csv\")"
      ]
    },
    {
      "cell_type": "code",
      "execution_count": null,
      "metadata": {
        "id": "4TDrdQVic72O",
        "colab": {
          "base_uri": "https://localhost:8080/"
        },
        "outputId": "0dc6e886-21d0-4e9b-99b6-8aeba5bf0006"
      },
      "outputs": [
        {
          "output_type": "execute_result",
          "data": {
            "text/plain": [
              "['batch_size',\n",
              " 'n_epochs',\n",
              " 'loss_name',\n",
              " 'optimizer_name',\n",
              " 'scheduler_name',\n",
              " 'n_units',\n",
              " 'n_layers',\n",
              " 'hidden_activation_name',\n",
              " 'output_activation_name',\n",
              " 'lr',\n",
              " 'dropout_rate']"
            ]
          },
          "metadata": {},
          "execution_count": 87
        }
      ],
      "source": [
        "[key for key in var_dict.keys()]"
      ]
    },
    {
      "cell_type": "code",
      "execution_count": null,
      "metadata": {
        "id": "ddGf2y1bc72O",
        "colab": {
          "base_uri": "https://localhost:8080/",
          "height": 36
        },
        "outputId": "1b6ab2b0-1cdf-4235-a1cd-091edeca8871"
      },
      "outputs": [
        {
          "output_type": "execute_result",
          "data": {
            "text/plain": [
              "'GELU'"
            ],
            "application/vnd.google.colaboratory.intrinsic+json": {
              "type": "string"
            }
          },
          "metadata": {},
          "execution_count": 88
        },
        {
          "output_type": "execute_result",
          "data": {
            "text/plain": [
              "'Identity'"
            ],
            "application/vnd.google.colaboratory.intrinsic+json": {
              "type": "string"
            }
          },
          "metadata": {},
          "execution_count": 88
        }
      ],
      "source": [
        "#%%script echo skipping\n",
        "\n",
        "hidden_activation_name\n",
        "output_activation_name"
      ]
    },
    {
      "cell_type": "markdown",
      "metadata": {
        "id": "qU23l7dIUZie"
      },
      "source": [
        "## Visualizing the results"
      ]
    },
    {
      "cell_type": "code",
      "execution_count": null,
      "metadata": {
        "id": "cippWZS6UZie",
        "colab": {
          "base_uri": "https://localhost:8080/",
          "height": 1000
        },
        "outputId": "11dffcfd-f802-491e-ebdd-7632e2ec14f3"
      },
      "outputs": [
        {
          "output_type": "execute_result",
          "data": {
            "text/plain": [
              "<Figure size 1200x800 with 0 Axes>"
            ]
          },
          "metadata": {},
          "execution_count": 89
        },
        {
          "output_type": "execute_result",
          "data": {
            "text/plain": [
              "<Axes: >"
            ]
          },
          "metadata": {},
          "execution_count": 89
        },
        {
          "output_type": "execute_result",
          "data": {
            "text/plain": [
              "[<matplotlib.lines.Line2D at 0x7f9bf7d8beb0>]"
            ]
          },
          "metadata": {},
          "execution_count": 89
        },
        {
          "output_type": "execute_result",
          "data": {
            "text/plain": [
              "[<matplotlib.lines.Line2D at 0x7f9bf79941c0>]"
            ]
          },
          "metadata": {},
          "execution_count": 89
        },
        {
          "output_type": "execute_result",
          "data": {
            "text/plain": [
              "Text(0.5, 0, 'Epoch')"
            ]
          },
          "metadata": {},
          "execution_count": 89
        },
        {
          "output_type": "execute_result",
          "data": {
            "text/plain": [
              "Text(0, 0.5, 'L1 Norm')"
            ]
          },
          "metadata": {},
          "execution_count": 89
        },
        {
          "output_type": "execute_result",
          "data": {
            "text/plain": [
              "(0.001, 100.0)"
            ]
          },
          "metadata": {},
          "execution_count": 89
        },
        {
          "output_type": "execute_result",
          "data": {
            "text/plain": [
              "<matplotlib.legend.Legend at 0x7f9bfc39abf0>"
            ]
          },
          "metadata": {},
          "execution_count": 89
        },
        {
          "output_type": "execute_result",
          "data": {
            "text/plain": [
              "<Axes: >"
            ]
          },
          "metadata": {},
          "execution_count": 89
        },
        {
          "output_type": "execute_result",
          "data": {
            "text/plain": [
              "[<matplotlib.lines.Line2D at 0x7f9bff06de10>]"
            ]
          },
          "metadata": {},
          "execution_count": 89
        },
        {
          "output_type": "execute_result",
          "data": {
            "text/plain": [
              "[<matplotlib.lines.Line2D at 0x7f9bff06ded0>]"
            ]
          },
          "metadata": {},
          "execution_count": 89
        },
        {
          "output_type": "execute_result",
          "data": {
            "text/plain": [
              "Text(0.5, 0, 'Epoch')"
            ]
          },
          "metadata": {},
          "execution_count": 89
        },
        {
          "output_type": "execute_result",
          "data": {
            "text/plain": [
              "Text(0, 0.5, 'Linf Norm')"
            ]
          },
          "metadata": {},
          "execution_count": 89
        },
        {
          "output_type": "execute_result",
          "data": {
            "text/plain": [
              "(0.001, 100.0)"
            ]
          },
          "metadata": {},
          "execution_count": 89
        },
        {
          "output_type": "execute_result",
          "data": {
            "text/plain": [
              "<matplotlib.legend.Legend at 0x7f9bfc398100>"
            ]
          },
          "metadata": {},
          "execution_count": 89
        },
        {
          "output_type": "display_data",
          "data": {
            "text/plain": [
              "<Figure size 1200x800 with 2 Axes>"
            ],
            "image/png": "[encoded data removed]"
          },
          "metadata": {}
        },
        {
          "output_type": "execute_result",
          "data": {
            "text/plain": [
              "<Figure size 800x600 with 0 Axes>"
            ]
          },
          "metadata": {},
          "execution_count": 89
        },
        {
          "output_type": "execute_result",
          "data": {
            "text/plain": [
              "[<matplotlib.lines.Line2D at 0x7f9be769c700>]"
            ]
          },
          "metadata": {},
          "execution_count": 89
        },
        {
          "output_type": "execute_result",
          "data": {
            "text/plain": [
              "[<matplotlib.lines.Line2D at 0x7f9be4c75810>]"
            ]
          },
          "metadata": {},
          "execution_count": 89
        },
        {
          "output_type": "execute_result",
          "data": {
            "text/plain": [
              "Text(0.5, 0, 'Epoch')"
            ]
          },
          "metadata": {},
          "execution_count": 89
        },
        {
          "output_type": "execute_result",
          "data": {
            "text/plain": [
              "Text(0, 0.5, 'MAE Loss')"
            ]
          },
          "metadata": {},
          "execution_count": 89
        },
        {
          "output_type": "execute_result",
          "data": {
            "text/plain": [
              "(1e-07, 1.0)"
            ]
          },
          "metadata": {},
          "execution_count": 89
        },
        {
          "output_type": "execute_result",
          "data": {
            "text/plain": [
              "<matplotlib.legend.Legend at 0x7f9bfc399d80>"
            ]
          },
          "metadata": {},
          "execution_count": 89
        },
        {
          "output_type": "display_data",
          "data": {
            "text/plain": [
              "<Figure size 800x600 with 1 Axes>"
            ],
            "image/png": "[encoded data removed]"
          },
          "metadata": {}
        }
      ],
      "source": [
        "# Plotting the losses and metrics for the best network \n",
        "plt.figure(figsize=(12, 8))\n",
        "#plt.subplot(2, 2, 1)\n",
        "#plt.plot(train_losses, label=\"Train Loss\")\n",
        "#plt.plot(test_losses, label=\"Test Loss\")\n",
        "#plt.xlabel(\"Epoch\")\n",
        "#plt.ylabel(\"Loss\")\n",
        "#plt.legend()\n",
        "plt.subplot(2, 2, 2)\n",
        "plt.plot([m[\"l1_norm\"] for m in train_metrics], label=\"Train L1 Norm\")\n",
        "plt.plot([m[\"l1_norm\"] for m in test_metrics], label=\"Test L1 Norm\")\n",
        "plt.xlabel(\"Epoch\")\n",
        "plt.ylabel(\"L1 Norm\")\n",
        "# Added setting the vertical axis to be in powers of 10\n",
        "plt.yscale(\"log\")\n",
        "# Added setting the vertical axis limits to be from 10^-7 to 10^0\n",
        "plt.ylim(1e-3, 1e2)\n",
        "plt.legend()\n",
        "plt.subplot(2, 2, 3)\n",
        "plt.plot([m[\"linf_norm\"] for m in train_metrics], label=\"Train Linf Norm\")\n",
        "plt.plot([m[\"linf_norm\"] for m in test_metrics], label=\"Test Linf Norm\")\n",
        "plt.xlabel(\"Epoch\")\n",
        "plt.ylabel(\"Linf Norm\")\n",
        "# Added setting the vertical axis to be in powers of 10\n",
        "plt.yscale(\"log\")\n",
        "# Added setting the vertical axis limits to be from 10^-7 to 10^0\n",
        "plt.ylim(1e-3, 1e2)\n",
        "plt.legend()\n",
        "plt.tight_layout()\n",
        "plt.show()\n",
        "\n",
        "# Added plotting MSE of training data and MSE of test data in one plot \n",
        "plt.figure(figsize=(8, 6))\n",
        "plt.plot(train_losses,label=\"training data\")\n",
        "plt.plot(test_losses,label=\"test data\")\n",
        "#if scheduler is not None:\n",
        "#    plt.plot([scheduler.get_last_lr()[0] for _ in range(n_epochs)], label=\"Learning rate\") \n",
        "plt.xlabel(\"Epoch\")\n",
        "plt.ylabel(f\"{loss_name} Loss\")\n",
        "# Added setting the vertical axis to be in powers of 10\n",
        "plt.yscale(\"log\")\n",
        "# Added setting the vertical axis limits to be from 10^-7 to 10^0\n",
        "plt.ylim(1e-7, 1e0)\n",
        "plt.legend()\n",
        "plt.show()"
      ]
    },
    {
      "cell_type": "markdown",
      "metadata": {
        "id": "tiEDutxIUZig"
      },
      "source": [
        "## Loading"
      ]
    },
    {
      "cell_type": "code",
      "source": [
        "hidden_activation_name_loaded"
      ],
      "metadata": {
        "colab": {
          "base_uri": "https://localhost:8080/",
          "height": 35
        },
        "id": "yZ1DWTM4tTWi",
        "outputId": "0e36d2e6-d4ce-41e7-a5be-d2597d6d21e7"
      },
      "execution_count": 97,
      "outputs": [
        {
          "output_type": "execute_result",
          "data": {
            "text/plain": [
              "'GELU'"
            ],
            "application/vnd.google.colaboratory.intrinsic+json": {
              "type": "string"
            }
          },
          "metadata": {},
          "execution_count": 97
        }
      ]
    },
    {
      "cell_type": "code",
      "source": [
        "!pip install ipdb"
      ],
      "metadata": {
        "id": "_pO-l0IJtXcJ",
        "colab": {
          "base_uri": "https://localhost:8080/"
        },
        "outputId": "f55b48ad-4ade-430d-fba5-e01a085dd46f"
      },
      "execution_count": 98,
      "outputs": [
        {
          "output_type": "stream",
          "name": "stdout",
          "text": [
            "Looking in indexes: https://pypi.org/simple, https://us-python.pkg.dev/colab-wheels/public/simple/\n",
            "Collecting ipdb\n",
            "  Downloading ipdb-0.13.13-py3-none-any.whl (12 kB)\n",
            "Requirement already satisfied: ipython>=7.31.1 in /usr/local/lib/python3.10/dist-packages (from ipdb) (7.34.0)\n",
            "Requirement already satisfied: tomli in /usr/local/lib/python3.10/dist-packages (from ipdb) (2.0.1)\n",
            "Requirement already satisfied: decorator in /usr/local/lib/python3.10/dist-packages (from ipdb) (4.4.2)\n",
            "Requirement already satisfied: setuptools>=18.5 in /usr/local/lib/python3.10/dist-packages (from ipython>=7.31.1->ipdb) (67.7.2)\n",
            "Collecting jedi>=0.16 (from ipython>=7.31.1->ipdb)\n",
            "  Downloading jedi-0.18.2-py2.py3-none-any.whl (1.6 MB)\n",
            "\u001b[2K     \u001b[90m━━━━━━━━━━━━━━━━━━━━━━━━━━━━━━━━━━━━━━━━\u001b[0m \u001b[32m1.6/1.6 MB\u001b[0m \u001b[31m44.3 MB/s\u001b[0m eta \u001b[36m0:00:00\u001b[0m\n",
            "\u001b[?25hRequirement already satisfied: pickleshare in /usr/local/lib/python3.10/dist-packages (from ipython>=7.31.1->ipdb) (0.7.5)\n",
            "Requirement already satisfied: traitlets>=4.2 in /usr/local/lib/python3.10/dist-packages (from ipython>=7.31.1->ipdb) (5.7.1)\n",
            "Requirement already satisfied: prompt-toolkit!=3.0.0,!=3.0.1,<3.1.0,>=2.0.0 in /usr/local/lib/python3.10/dist-packages (from ipython>=7.31.1->ipdb) (3.0.38)\n",
            "Requirement already satisfied: pygments in /usr/local/lib/python3.10/dist-packages (from ipython>=7.31.1->ipdb) (2.14.0)\n",
            "Requirement already satisfied: backcall in /usr/local/lib/python3.10/dist-packages (from ipython>=7.31.1->ipdb) (0.2.0)\n",
            "Requirement already satisfied: matplotlib-inline in /usr/local/lib/python3.10/dist-packages (from ipython>=7.31.1->ipdb) (0.1.6)\n",
            "Requirement already satisfied: pexpect>4.3 in /usr/local/lib/python3.10/dist-packages (from ipython>=7.31.1->ipdb) (4.8.0)\n",
            "Requirement already satisfied: parso<0.9.0,>=0.8.0 in /usr/local/lib/python3.10/dist-packages (from jedi>=0.16->ipython>=7.31.1->ipdb) (0.8.3)\n",
            "Requirement already satisfied: ptyprocess>=0.5 in /usr/local/lib/python3.10/dist-packages (from pexpect>4.3->ipython>=7.31.1->ipdb) (0.7.0)\n",
            "Requirement already satisfied: wcwidth in /usr/local/lib/python3.10/dist-packages (from prompt-toolkit!=3.0.0,!=3.0.1,<3.1.0,>=2.0.0->ipython>=7.31.1->ipdb) (0.2.6)\n",
            "Installing collected packages: jedi, ipdb\n",
            "Successfully installed ipdb-0.13.13 jedi-0.18.2\n"
          ]
        }
      ]
    },
    {
      "cell_type": "code",
      "execution_count": 102,
      "metadata": {
        "id": "p7Mj990wUZih",
        "colab": {
          "base_uri": "https://localhost:8080/"
        },
        "outputId": "778951e5-5b6f-4732-9811-43399a3a087d"
      },
      "outputs": [
        {
          "output_type": "execute_result",
          "data": {
            "text/plain": [
              "<All keys matched successfully>"
            ]
          },
          "metadata": {},
          "execution_count": 102
        }
      ],
      "source": [
        "import ipdb\n",
        "\n",
        "import json\n",
        "import pandas as pd\n",
        "\n",
        "# load the dictionary from the .json file\n",
        "with open(\"var_dict.json\", \"r\") as f:\n",
        "  var_dict_loaded = json.load(f)\n",
        "\n",
        "# extract the variables from the dictionary\n",
        "batch_size_loaded = var_dict_loaded[\"batch_size\"]\n",
        "n_epochs_loaded = var_dict_loaded[\"n_epochs\"]\n",
        "loss_name_loaded = var_dict_loaded[\"loss_name\"]\n",
        "optimizer_name_loaded = var_dict_loaded[\"optimizer_name\"]\n",
        "scheduler_name_loaded = var_dict_loaded[\"scheduler_name\"]\n",
        "n_units_loaded = var_dict_loaded[\"n_units\"]\n",
        "n_layers_loaded = var_dict_loaded[\"n_layers\"]\n",
        "hidden_activation_name_loaded = var_dict_loaded[\"hidden_activation_name\"]\n",
        "output_activation_name_loaded = var_dict_loaded[\"output_activation_name\"]\n",
        "lr_loaded = var_dict_loaded[\"lr\"]\n",
        "dropout_rate_loaded = var_dict_loaded[\"dropout_rate\"]\n",
        "\n",
        "# Loading the activation functions with subparameters\n",
        "if hidden_activation_name_loaded == \"ReLU\":\n",
        "  hidden_activation_loaded = nn.ReLU()\n",
        "elif hidden_activation_name_loaded == \"LeakyReLU\":\n",
        "  negative_slope_loaded = var_dict_loaded.get(\"leakyrelu_slope\", 0.01)  # For backwards compatibiltiy with earlier models; default to 0.01 if not present\n",
        "  hidden_activation_loaded = nn.LeakyReLU(negative_slope=negative_slope_loaded)\n",
        "elif hidden_activation_name_loaded == \"ELU\":\n",
        "  hidden_activation_loaded = nn.ELU()\n",
        "elif hidden_activation_name_loaded == \"PReLU\":\n",
        "  init_loaded = var_dict_loaded.get(\"prelu_init\", 0.25)  # Default to 0.25 if not present\n",
        "  hidden_activation_loaded = nn.PReLU(init=init_loaded)\n",
        "elif hidden_activation_name_loaded == \"Swish\":\n",
        "    class Swish(nn.Module):\n",
        "        def forward(self, x):\n",
        "            return x * torch.sigmoid(x)\n",
        "    hidden_activation_loaded = Swish()\n",
        "elif hidden_activation_name_loaded == \"GELU\":\n",
        "    hidden_activation_loaded = nn.GELU()\n",
        "elif hidden_activation_name_loaded == \"SoftPlus\":\n",
        "  beta_loaded = var_dict_loaded.get(\"softplus_beta\", 1)  # Default to 1 if not present\n",
        "  hidden_activation_loaded = nn.Softplus(beta=beta_loaded)\n",
        "\n",
        "\n",
        "\n",
        "# We used to have options here, but since we have a regression problem with continuous output, we only use Linear.\n",
        "output_activation_loaded = nn.Identity()\n",
        "\n",
        "# load the network from the .pth file\n",
        "net_loaded = Net(\n",
        "    n_layers_loaded, \n",
        "    n_units_loaded, \n",
        "    hidden_activation_loaded, \n",
        "    output_activation_loaded, \n",
        "    dropout_rate_loaded\n",
        ").to(device)\n",
        "\n",
        "if torch.cuda.is_available():\n",
        " net_loaded.load_state_dict(torch.load(\"net.pth\"))\n",
        "else: \n",
        "  net_loaded.load_state_dict(torch.load(\"net.pth\", map_location=torch.device('cpu')))\n",
        "\n",
        "\n",
        "# Creating the loss function from its name\n",
        "if loss_name_loaded == \"MSE\":\n",
        "    loss_fn_loaded = nn.MSELoss()\n",
        "elif loss_name_loaded == \"MAE\":\n",
        "    loss_fn_loaded = nn.L1Loss()\n",
        "elif loss_name_loaded == \"Huber\":\n",
        "    loss_fn_loaded = nn.SmoothL1Loss() \n",
        "elif loss_name_loaded == \"Quantile\":\n",
        "    def quantile_loss(y_pred, y_true, q=0.5):\n",
        "        e = y_pred - y_true\n",
        "        return torch.mean(torch.max(q*e, (q-1)*e))\n",
        "    loss_fn_loaded = quantile_loss\n",
        "\n",
        "# load the optimizer from the .pth file\n",
        "if torch.cuda.is_available():\n",
        "  optimizer_loaded_state_dict = torch.load(\"optimizer.pth\")\n",
        "else:\n",
        "  optimizer_loaded_state_dict = torch.load(\"optimizer.pth\", map_location=torch.device('cpu'))\n",
        "\n",
        "if optimizer_name_loaded == \"SGD\":\n",
        "  # Added getting the weight decay and momentum parameters from the state dict\n",
        "  weight_decay_loaded = optimizer_loaded_state_dict[\"param_groups\"][0][\"weight_decay\"]\n",
        "  momentum_loaded = optimizer_loaded_state_dict[\"param_groups\"][0][\"momentum\"]\n",
        "  optimizer_loaded = optim.SGD(net_loaded.parameters(), lr=lr_loaded, weight_decay=weight_decay_loaded, momentum=momentum_loaded)\n",
        "elif optimizer_name_loaded == \"Adam\":\n",
        "  # Added getting the weight decay and beta parameters from the state dict\n",
        "  weight_decay_loaded = optimizer_loaded_state_dict[\"param_groups\"][0][\"weight_decay\"]\n",
        "  beta1_loaded = optimizer_loaded_state_dict[\"param_groups\"][0][\"betas\"][0]\n",
        "  beta2_loaded = optimizer_loaded_state_dict[\"param_groups\"][0][\"betas\"][1]\n",
        "  optimizer_loaded = optim.Adam(net_loaded.parameters(), lr=lr_loaded, weight_decay=weight_decay_loaded, betas=(beta1_loaded, beta2_loaded))\n",
        "elif optimizer_name_loaded == \"RMSprop\":\n",
        "  optimizer_loaded = optim.RMSprop(net_loaded.parameters(), lr=lr_loaded)\n",
        "elif optimizer_name_loaded == \"Adagrad\":\n",
        "  # Added loading the Adagrad optimizer\n",
        "  optimizer_loaded = optim.Adagrad(net_loaded.parameters(), lr=lr_loaded)\n",
        "optimizer_loaded.load_state_dict(optimizer_loaded_state_dict)\n",
        "\n",
        "# load the scheduler from the .pth file\n",
        "if torch.cuda.is_available():\n",
        "  scheduler_loaded_state_dict = torch.load(\"scheduler.pth\")\n",
        "else: \n",
        "  scheduler_loaded_state_dict = torch.load(\"scheduler.pth\", map_location=torch.device('cpu'))\n",
        "\n",
        "if scheduler_name_loaded == \"StepLR\":\n",
        "  # Added getting the step_size and gamma parameters from the state dict\n",
        "  step_size_loaded = scheduler_loaded_state_dict[\"step_size\"]\n",
        "  gamma_loaded = scheduler_loaded_state_dict[\"gamma\"]\n",
        "  scheduler_loaded = optim.lr_scheduler.StepLR(optimizer_loaded, step_size=step_size_loaded, gamma=gamma_loaded)\n",
        "elif scheduler_name_loaded == \"ExponentialLR\":\n",
        "  # Added getting the gamma parameter from the state dict\n",
        "  gamma_loaded = scheduler_loaded_state_dict[\"gamma\"]\n",
        "  scheduler_loaded = optim.lr_scheduler.ExponentialLR(optimizer_loaded, gamma=gamma_loaded)\n",
        "elif scheduler_name_loaded == \"CosineAnnealingLR\":\n",
        "  # Added getting the T_max parameter from the state dict\n",
        "  T_max_loaded = scheduler_loaded_state_dict[\"T_max\"]\n",
        "  scheduler_loaded = optim.lr_scheduler.CosineAnnealingLR(optimizer_loaded, T_max=T_max_loaded)\n",
        "elif scheduler_name_loaded == \"ReduceLROnPlateau\":\n",
        "  # Added getting the mode, factor, patience, threshold and min_lr parameters from the state dict\n",
        "  mode_loaded = scheduler_loaded_state_dict[\"mode\"]\n",
        "  factor_loaded = scheduler_loaded_state_dict[\"factor\"]\n",
        "  patience_loaded = scheduler_loaded_state_dict[\"patience\"]\n",
        "  threshold_loaded = scheduler_loaded_state_dict[\"threshold\"]\n",
        "  min_lr_loaded = scheduler_loaded_state_dict[\"min_lrs\"][0]\n",
        "  scheduler_loaded = optim.lr_scheduler.ReduceLROnPlateau(\n",
        "                    optimizer_loaded, mode=mode_loaded, factor=factor_loaded, patience=patience_loaded, threshold=threshold_loaded, min_lr=min_lr_loaded\n",
        "                )\n",
        "elif scheduler_name_loaded == \"CyclicLR\":  # Added CyclicLR\n",
        "    base_lr_loaded = scheduler_loaded_state_dict[\"base_lr\"]\n",
        "    max_lr_loaded = scheduler_loaded_state_dict[\"max_lr\"]\n",
        "    step_size_up_loaded = scheduler_loaded_state_dict[\"step_size_up\"]\n",
        "    scheduler_loaded = optim.lr_scheduler.CyclicLR(\n",
        "                    optimizer, base_lr=base_lr_loaded, max_lr=max_lr_loaded, step_size_up=step_size_up_loaded\n",
        "                )\n",
        "else:\n",
        "  scheduler_loaded = None\n",
        "\n",
        "if scheduler_loaded is not None:\n",
        "  # Added loading the state dict to the scheduler_loaded\n",
        "  scheduler_loaded.load_state_dict(scheduler_loaded_state_dict)\n",
        "\n",
        "# Loading the output of the training using pandas\n",
        "train_df_loaded = pd.read_csv(\"train_output.csv\")\n",
        "train_losses_loaded = train_df_loaded[\"train_loss\"].tolist()\n",
        "test_losses_loaded = train_df_loaded[\"test_loss\"].tolist()\n",
        "train_metrics_loaded = [\n",
        "    {\n",
        "        \"l1_norm\": train_df_loaded[\"train_l1_norm\"][i],\n",
        "        \"linf_norm\": train_df_loaded[\"train_linf_norm\"][i],\n",
        "    }\n",
        "    for i in range(len(train_df_loaded))\n",
        "]\n",
        "test_metrics_loaded = [\n",
        "    {\n",
        "        \"l1_norm\": train_df_loaded[\"test_l1_norm\"][i],\n",
        "        \"linf_norm\": train_df_loaded[\"test_linf_norm\"][i],\n",
        "    }\n",
        "    for i in range(len(train_df_loaded))\n",
        "]"
      ]
    },
    {
      "cell_type": "code",
      "execution_count": 103,
      "metadata": {
        "id": "9t-2vAMbc72Q",
        "colab": {
          "base_uri": "https://localhost:8080/",
          "height": 35
        },
        "outputId": "96f3e68e-403e-43b9-f1f3-ae8779121ab0"
      },
      "outputs": [
        {
          "output_type": "execute_result",
          "data": {
            "text/plain": [
              "64"
            ]
          },
          "metadata": {},
          "execution_count": 103
        },
        {
          "output_type": "execute_result",
          "data": {
            "text/plain": [
              "108"
            ]
          },
          "metadata": {},
          "execution_count": 103
        },
        {
          "output_type": "execute_result",
          "data": {
            "text/plain": [
              "'MAE'"
            ],
            "application/vnd.google.colaboratory.intrinsic+json": {
              "type": "string"
            }
          },
          "metadata": {},
          "execution_count": 103
        },
        {
          "output_type": "execute_result",
          "data": {
            "text/plain": [
              "'Adagrad'"
            ],
            "application/vnd.google.colaboratory.intrinsic+json": {
              "type": "string"
            }
          },
          "metadata": {},
          "execution_count": 103
        },
        {
          "output_type": "execute_result",
          "data": {
            "text/plain": [
              "'ReduceLROnPlateau'"
            ],
            "application/vnd.google.colaboratory.intrinsic+json": {
              "type": "string"
            }
          },
          "metadata": {},
          "execution_count": 103
        },
        {
          "output_type": "execute_result",
          "data": {
            "text/plain": [
              "[3887, 2215, 1213, 1885, 2831]"
            ]
          },
          "metadata": {},
          "execution_count": 103
        },
        {
          "output_type": "execute_result",
          "data": {
            "text/plain": [
              "5"
            ]
          },
          "metadata": {},
          "execution_count": 103
        },
        {
          "output_type": "execute_result",
          "data": {
            "text/plain": [
              "'GELU'"
            ],
            "application/vnd.google.colaboratory.intrinsic+json": {
              "type": "string"
            }
          },
          "metadata": {},
          "execution_count": 103
        },
        {
          "output_type": "execute_result",
          "data": {
            "text/plain": [
              "'Identity'"
            ],
            "application/vnd.google.colaboratory.intrinsic+json": {
              "type": "string"
            }
          },
          "metadata": {},
          "execution_count": 103
        },
        {
          "output_type": "execute_result",
          "data": {
            "text/plain": [
              "1.651198820661262e-05"
            ]
          },
          "metadata": {},
          "execution_count": 103
        },
        {
          "output_type": "execute_result",
          "data": {
            "text/plain": [
              "0.17041994834967367"
            ]
          },
          "metadata": {},
          "execution_count": 103
        }
      ],
      "source": [
        "# %%script echo skipping\n",
        "\n",
        "var_dict_loaded[\"batch_size\"]\n",
        "var_dict_loaded[\"n_epochs\"]\n",
        "var_dict_loaded[\"loss_name\"]\n",
        "var_dict_loaded[\"optimizer_name\"]\n",
        "var_dict_loaded[\"scheduler_name\"]\n",
        "var_dict_loaded[\"n_units\"]\n",
        "var_dict_loaded[\"n_layers\"]\n",
        "var_dict_loaded[\"hidden_activation_name\"]\n",
        "var_dict_loaded[\"output_activation_name\"]\n",
        "var_dict_loaded[\"lr\"]\n",
        "var_dict_loaded[\"dropout_rate\"]"
      ]
    },
    {
      "cell_type": "code",
      "execution_count": 104,
      "metadata": {
        "id": "E_L5KC3nc72Q",
        "colab": {
          "base_uri": "https://localhost:8080/"
        },
        "outputId": "573c86f6-b398-4b9c-b9e4-ee03346f2657"
      },
      "outputs": [
        {
          "output_type": "stream",
          "name": "stdout",
          "text": [
            "skipping\n"
          ]
        }
      ],
      "source": [
        "%%script echo skipping\n",
        "\n",
        "scheduler_loaded_state_dict[\"mode\"]\n",
        "scheduler_loaded_state_dict[\"factor\"]\n",
        "scheduler_loaded_state_dict[\"patience\"]\n",
        "scheduler_loaded_state_dict[\"threshold\"]\n",
        "scheduler_loaded_state_dict[\"min_lrs\"]\n",
        "\n",
        "\n",
        "scheduler_loaded_state_dict[\"base_lr\"]\n",
        "scheduler_loaded_state_dict[\"max_lr\"]\n",
        "scheduler_loaded_state_dict[\"step_size_up\"]"
      ]
    },
    {
      "cell_type": "code",
      "execution_count": 105,
      "metadata": {
        "id": "QZjJkN8jc72Q",
        "colab": {
          "base_uri": "https://localhost:8080/",
          "height": 209
        },
        "outputId": "35dd614d-a546-4694-f4c5-9afc797941cb"
      },
      "outputs": [
        {
          "output_type": "execute_result",
          "data": {
            "text/plain": [
              "{'batch_size': 64,\n",
              " 'n_epochs': 108,\n",
              " 'loss_name': 'MAE',\n",
              " 'optimizer_name': 'Adagrad',\n",
              " 'scheduler_name': 'ReduceLROnPlateau',\n",
              " 'n_units': [3887, 2215, 1213, 1885, 2831],\n",
              " 'n_layers': 5,\n",
              " 'hidden_activation_name': 'GELU',\n",
              " 'output_activation_name': 'Identity',\n",
              " 'lr': 1.651198820661262e-05,\n",
              " 'dropout_rate': 0.17041994834967367}"
            ]
          },
          "metadata": {},
          "execution_count": 105
        },
        {
          "output_type": "execute_result",
          "data": {
            "text/plain": [
              "'GELU'"
            ],
            "application/vnd.google.colaboratory.intrinsic+json": {
              "type": "string"
            }
          },
          "metadata": {},
          "execution_count": 105
        }
      ],
      "source": [
        "# %%script echo skipping\n",
        "\n",
        "var_dict\n",
        "hidden_activation_name_loaded"
      ]
    },
    {
      "cell_type": "code",
      "execution_count": 106,
      "metadata": {
        "id": "GQ_fcj7zUZii",
        "colab": {
          "base_uri": "https://localhost:8080/",
          "height": 1000
        },
        "outputId": "b3bfb406-7a34-4a89-8581-3c1b8f0cf0e8"
      },
      "outputs": [
        {
          "output_type": "execute_result",
          "data": {
            "text/plain": [
              "64"
            ]
          },
          "metadata": {},
          "execution_count": 106
        },
        {
          "output_type": "execute_result",
          "data": {
            "text/plain": [
              "108"
            ]
          },
          "metadata": {},
          "execution_count": 106
        },
        {
          "output_type": "execute_result",
          "data": {
            "text/plain": [
              "'MAE'"
            ],
            "application/vnd.google.colaboratory.intrinsic+json": {
              "type": "string"
            }
          },
          "metadata": {},
          "execution_count": 106
        },
        {
          "output_type": "execute_result",
          "data": {
            "text/plain": [
              "'Adagrad'"
            ],
            "application/vnd.google.colaboratory.intrinsic+json": {
              "type": "string"
            }
          },
          "metadata": {},
          "execution_count": 106
        },
        {
          "output_type": "execute_result",
          "data": {
            "text/plain": [
              "'ReduceLROnPlateau'"
            ],
            "application/vnd.google.colaboratory.intrinsic+json": {
              "type": "string"
            }
          },
          "metadata": {},
          "execution_count": 106
        },
        {
          "output_type": "execute_result",
          "data": {
            "text/plain": [
              "[3887, 2215, 1213, 1885, 2831]"
            ]
          },
          "metadata": {},
          "execution_count": 106
        },
        {
          "output_type": "execute_result",
          "data": {
            "text/plain": [
              "5"
            ]
          },
          "metadata": {},
          "execution_count": 106
        },
        {
          "output_type": "execute_result",
          "data": {
            "text/plain": [
              "'GELU'"
            ],
            "application/vnd.google.colaboratory.intrinsic+json": {
              "type": "string"
            }
          },
          "metadata": {},
          "execution_count": 106
        },
        {
          "output_type": "execute_result",
          "data": {
            "text/plain": [
              "'Identity'"
            ],
            "application/vnd.google.colaboratory.intrinsic+json": {
              "type": "string"
            }
          },
          "metadata": {},
          "execution_count": 106
        },
        {
          "output_type": "execute_result",
          "data": {
            "text/plain": [
              "1.651198820661262e-05"
            ]
          },
          "metadata": {},
          "execution_count": 106
        },
        {
          "output_type": "execute_result",
          "data": {
            "text/plain": [
              "0.17041994834967367"
            ]
          },
          "metadata": {},
          "execution_count": 106
        },
        {
          "output_type": "execute_result",
          "data": {
            "text/plain": [
              "GELU(approximate='none')"
            ]
          },
          "metadata": {},
          "execution_count": 106
        },
        {
          "output_type": "execute_result",
          "data": {
            "text/plain": [
              "Identity()"
            ]
          },
          "metadata": {},
          "execution_count": 106
        },
        {
          "output_type": "execute_result",
          "data": {
            "text/plain": [
              "Net(\n",
              "  (hidden_activation): GELU(approximate='none')\n",
              "  (output_activation): Identity()\n",
              "  (layers): ModuleList(\n",
              "    (0): Linear(in_features=14, out_features=3887, bias=True)\n",
              "    (1): Linear(in_features=3887, out_features=2215, bias=True)\n",
              "    (2): Linear(in_features=2215, out_features=1213, bias=True)\n",
              "    (3): Linear(in_features=1213, out_features=1885, bias=True)\n",
              "    (4): Linear(in_features=1885, out_features=2831, bias=True)\n",
              "    (5): Linear(in_features=2831, out_features=1, bias=True)\n",
              "  )\n",
              "  (dropouts): ModuleList(\n",
              "    (0-4): 5 x Dropout(p=0.17041994834967367, inplace=False)\n",
              "  )\n",
              ")"
            ]
          },
          "metadata": {},
          "execution_count": 106
        },
        {
          "output_type": "execute_result",
          "data": {
            "text/plain": [
              "{'training': True,\n",
              " '_parameters': OrderedDict(),\n",
              " '_buffers': OrderedDict(),\n",
              " '_non_persistent_buffers_set': set(),\n",
              " '_backward_pre_hooks': OrderedDict(),\n",
              " '_backward_hooks': OrderedDict(),\n",
              " '_is_full_backward_hook': None,\n",
              " '_forward_hooks': OrderedDict(),\n",
              " '_forward_hooks_with_kwargs': OrderedDict(),\n",
              " '_forward_pre_hooks': OrderedDict(),\n",
              " '_forward_pre_hooks_with_kwargs': OrderedDict(),\n",
              " '_state_dict_hooks': OrderedDict(),\n",
              " '_state_dict_pre_hooks': OrderedDict(),\n",
              " '_load_state_dict_pre_hooks': OrderedDict(),\n",
              " '_load_state_dict_post_hooks': OrderedDict(),\n",
              " '_modules': OrderedDict([('hidden_activation', GELU(approximate='none')),\n",
              "              ('output_activation', Identity()),\n",
              "              ('layers',\n",
              "               ModuleList(\n",
              "                 (0): Linear(in_features=14, out_features=3887, bias=True)\n",
              "                 (1): Linear(in_features=3887, out_features=2215, bias=True)\n",
              "                 (2): Linear(in_features=2215, out_features=1213, bias=True)\n",
              "                 (3): Linear(in_features=1213, out_features=1885, bias=True)\n",
              "                 (4): Linear(in_features=1885, out_features=2831, bias=True)\n",
              "                 (5): Linear(in_features=2831, out_features=1, bias=True)\n",
              "               )),\n",
              "              ('dropouts',\n",
              "               ModuleList(\n",
              "                 (0-4): 5 x Dropout(p=0.17041994834967367, inplace=False)\n",
              "               ))]),\n",
              " 'n_layers': 5,\n",
              " 'n_units': [3887, 2215, 1213, 1885, 2831],\n",
              " 'dropout_rate': 0.17041994834967367}"
            ]
          },
          "metadata": {},
          "execution_count": 106
        },
        {
          "output_type": "execute_result",
          "data": {
            "text/plain": [
              "L1Loss()"
            ]
          },
          "metadata": {},
          "execution_count": 106
        },
        {
          "output_type": "execute_result",
          "data": {
            "text/plain": [
              "Adagrad (\n",
              "Parameter Group 0\n",
              "    differentiable: False\n",
              "    eps: 1e-10\n",
              "    foreach: None\n",
              "    initial_accumulator_value: 0\n",
              "    lr: 1.651198820661262e-05\n",
              "    lr_decay: 0\n",
              "    maximize: False\n",
              "    weight_decay: 0\n",
              ")"
            ]
          },
          "metadata": {},
          "execution_count": 106
        },
        {
          "output_type": "execute_result",
          "data": {
            "text/plain": [
              "{'defaults': {'lr': 1.651198820661262e-05,\n",
              "  'lr_decay': 0,\n",
              "  'eps': 1e-10,\n",
              "  'weight_decay': 0,\n",
              "  'initial_accumulator_value': 0,\n",
              "  'foreach': None,\n",
              "  'maximize': False,\n",
              "  'differentiable': False},\n",
              " '_optimizer_step_pre_hooks': OrderedDict(),\n",
              " '_optimizer_step_post_hooks': OrderedDict(),\n",
              " '_zero_grad_profile_name': 'Optimizer.zero_grad#Adagrad.zero_grad',\n",
              " 'state': defaultdict(dict,\n",
              "             {Parameter containing:\n",
              "              tensor([[ 0.1151,  0.1182,  0.2543,  ...,  0.1246, -0.0398, -0.1624],\n",
              "                      [-0.1404, -0.1099, -0.1314,  ...,  0.0230,  0.1173, -0.0701],\n",
              "                      [ 0.0182,  0.0883, -0.1452,  ...,  0.1079,  0.0421,  0.0744],\n",
              "                      ...,\n",
              "                      [-0.2490, -0.1353, -0.1351,  ...,  0.1454, -0.2442, -0.1272],\n",
              "                      [-0.0135, -0.1815,  0.1677,  ..., -0.1438, -0.2395,  0.0528],\n",
              "                      [ 0.1665, -0.2239,  0.0351,  ...,  0.2542,  0.1139, -0.2529]],\n",
              "                     device='cuda:0', requires_grad=True): {'step': tensor(143532.),\n",
              "               'sum': tensor([[6.3163e-03, 8.3132e+01, 1.3582e+02,  ..., 3.0454e-04, 9.7672e-07,\n",
              "                        3.0457e-04],\n",
              "                       [3.1216e-03, 3.7321e+01, 9.3942e+01,  ..., 5.0391e-06, 1.6390e-08,\n",
              "                        5.0150e-06],\n",
              "                       [3.7928e-03, 4.1752e+01, 1.0729e+02,  ..., 6.7229e-05, 2.2171e-07,\n",
              "                        6.7262e-05],\n",
              "                       ...,\n",
              "                       [3.6047e-02, 4.1348e+02, 4.7940e+02,  ..., 4.2767e-03, 1.2109e-05,\n",
              "                        4.2716e-03],\n",
              "                       [1.5081e-02, 1.3124e+02, 1.6811e+02,  ..., 1.5549e-03, 4.5900e-06,\n",
              "                        1.5558e-03],\n",
              "                       [3.7275e-03, 4.3740e+01, 1.1242e+02,  ..., 5.4337e-05, 1.8084e-07,\n",
              "                        5.4433e-05]], device='cuda:0')},\n",
              "              Parameter containing:\n",
              "              tensor([ 0.0191, -0.1246, -0.0821,  ...,  0.0050,  0.1321, -0.1962],\n",
              "                     device='cuda:0', requires_grad=True): {'step': tensor(143532.),\n",
              "               'sum': tensor([3.0482e-04, 4.9920e-06, 6.7101e-05,  ..., 4.3143e-03, 1.5643e-03,\n",
              "                       5.4281e-05], device='cuda:0')},\n",
              "              Parameter containing:\n",
              "              tensor([[ 0.0067, -0.0090, -0.0013,  ...,  0.0141,  0.0150,  0.0130],\n",
              "                      [-0.0131, -0.0092, -0.0146,  ...,  0.0101,  0.0132, -0.0144],\n",
              "                      [-0.0110,  0.0020,  0.0028,  ..., -0.0127,  0.0026, -0.0110],\n",
              "                      ...,\n",
              "                      [-0.0040,  0.0013,  0.0038,  ..., -0.0012,  0.0011, -0.0101],\n",
              "                      [ 0.0139,  0.0008,  0.0014,  ..., -0.0138, -0.0083,  0.0016],\n",
              "                      [ 0.0033, -0.0080,  0.0135,  ...,  0.0062,  0.0037,  0.0109]],\n",
              "                     device='cuda:0', requires_grad=True): {'step': tensor(143532.),\n",
              "               'sum': tensor([[9.2015e+00, 3.6754e+01, 1.3349e+01,  ..., 5.7557e-01, 3.9341e+00,\n",
              "                        1.1285e+01],\n",
              "                       [3.2760e+01, 1.2445e+02, 3.9600e+01,  ..., 1.5931e+00, 1.8586e+01,\n",
              "                        4.3726e+01],\n",
              "                       [2.0012e+01, 2.0106e+01, 1.6168e+01,  ..., 1.5859e+00, 1.6120e+01,\n",
              "                        5.3022e+00],\n",
              "                       ...,\n",
              "                       [5.8345e+01, 7.9239e+02, 2.8087e+02,  ..., 2.4061e+00, 5.4427e-02,\n",
              "                        2.8098e+02],\n",
              "                       [3.8407e+01, 3.6197e+02, 1.3378e+02,  ..., 1.8679e+00, 6.1943e+00,\n",
              "                        1.3652e+02],\n",
              "                       [1.8609e+01, 7.9462e+00, 3.0011e+00,  ..., 1.2241e+00, 1.4842e+01,\n",
              "                        5.3879e-02]], device='cuda:0')},\n",
              "              Parameter containing:\n",
              "              tensor([-0.0089,  0.0090,  0.0121,  ...,  0.0043, -0.0021,  0.0033],\n",
              "                     device='cuda:0', requires_grad=True): {'step': tensor(143532.),\n",
              "               'sum': tensor([1.2101e-03, 3.8889e-03, 5.7300e-03,  ..., 7.3300e-05, 4.9138e-04,\n",
              "                       2.5724e-03], device='cuda:0')},\n",
              "              Parameter containing:\n",
              "              tensor([[ 1.4967e-02,  1.0141e-02,  2.0608e-02,  ..., -4.7952e-03,\n",
              "                        1.1519e-02,  4.4945e-04],\n",
              "                      [ 5.2577e-03, -6.2918e-03,  4.2847e-03,  ...,  1.2395e-02,\n",
              "                        2.4566e-03, -1.3813e-02],\n",
              "                      [-5.1895e-03, -1.7285e-02,  1.2316e-02,  ..., -5.8506e-04,\n",
              "                       -3.8300e-03, -1.3667e-02],\n",
              "                      ...,\n",
              "                      [-8.8042e-03, -2.8600e-03, -1.0547e-02,  ...,  1.6795e-02,\n",
              "                        4.2376e-03, -1.0038e-02],\n",
              "                      [ 1.4145e-02,  2.0130e-03, -5.6086e-04,  ...,  1.7288e-02,\n",
              "                        1.9855e-02,  9.6848e-05],\n",
              "                      [ 2.1346e-02, -1.5202e-02, -8.9700e-03,  ..., -3.7831e-03,\n",
              "                       -4.5891e-03,  1.5690e-02]], device='cuda:0', requires_grad=True): {'step': tensor(143532.),\n",
              "               'sum': tensor([[3.8533e+00, 2.9329e+01, 4.0824e+01,  ..., 5.7037e+02, 6.3467e+01,\n",
              "                        1.0809e+02],\n",
              "                       [2.8251e+01, 6.5500e+02, 1.1646e+03,  ..., 2.4812e+02, 2.5146e+01,\n",
              "                        2.9154e+03],\n",
              "                       [2.6517e+01, 4.6241e+02, 9.6438e+02,  ..., 3.4266e+02, 3.4298e+01,\n",
              "                        2.8917e+03],\n",
              "                       ...,\n",
              "                       [1.4519e+01, 6.6622e+02, 1.0747e+03,  ..., 2.2364e+02, 1.4583e+01,\n",
              "                        2.4247e+03],\n",
              "                       [5.1758e+01, 5.7594e+02, 1.6404e+03,  ..., 6.1963e+01, 9.2131e+00,\n",
              "                        3.4759e+03],\n",
              "                       [4.1831e+01, 8.7261e+02, 1.7481e+03,  ..., 2.0971e+02, 1.7052e+01,\n",
              "                        5.4888e+03]], device='cuda:0')},\n",
              "              Parameter containing:\n",
              "              tensor([-0.0164, -0.0176,  0.0026,  ...,  0.0167,  0.0132,  0.0274],\n",
              "                     device='cuda:0', requires_grad=True): {'step': tensor(143532.),\n",
              "               'sum': tensor([0.0009, 0.0159, 0.0207,  ..., 0.0386, 0.0365, 0.0322], device='cuda:0')},\n",
              "              Parameter containing:\n",
              "              tensor([[ 0.0168, -0.0235, -0.0227,  ..., -0.0045,  0.0106,  0.0111],\n",
              "                      [ 0.0004, -0.0275, -0.0120,  ..., -0.0141,  0.0109,  0.0219],\n",
              "                      [-0.0240,  0.0207,  0.0258,  ..., -0.0089,  0.0075,  0.0185],\n",
              "                      ...,\n",
              "                      [ 0.0283,  0.0039, -0.0046,  ..., -0.0245,  0.0166,  0.0002],\n",
              "                      [-0.0240,  0.0120,  0.0176,  ..., -0.0255, -0.0020, -0.0045],\n",
              "                      [ 0.0014, -0.0232,  0.0005,  ...,  0.0087,  0.0148, -0.0005]],\n",
              "                     device='cuda:0', requires_grad=True): {'step': tensor(143532.),\n",
              "               'sum': tensor([[259.3251, 909.6063, 691.4957,  ..., 878.9815, 464.6680, 477.1361],\n",
              "                       [366.2007, 754.0424, 606.0001,  ..., 968.2264, 220.0439, 346.8850],\n",
              "                       [  1.9242,   7.7999,  13.7010,  ...,   9.8172,   1.1519,   6.4741],\n",
              "                       ...,\n",
              "                       [ 62.9642, 299.5734, 237.0692,  ..., 539.1653, 176.5875, 193.9987],\n",
              "                       [  1.1364,   3.6963,   2.2436,  ...,   5.4450,   1.1886,   2.2392],\n",
              "                       [ 68.6290,  59.5156, 102.7999,  ...,  71.4369,  15.0254,  39.2041]],\n",
              "                      device='cuda:0')},\n",
              "              Parameter containing:\n",
              "              tensor([ 0.0351, -0.0037, -0.0133,  ..., -0.0120, -0.0070, -0.0127],\n",
              "                     device='cuda:0', requires_grad=True): {'step': tensor(143532.),\n",
              "               'sum': tensor([0.2319, 0.1943, 0.0091,  ..., 0.0332, 0.0030, 0.0085], device='cuda:0')},\n",
              "              Parameter containing:\n",
              "              tensor([[-0.0049,  0.0010, -0.0135,  ...,  0.0047, -0.0056, -0.0187],\n",
              "                      [-0.0157, -0.0160,  0.0088,  ...,  0.0128,  0.0004, -0.0133],\n",
              "                      [ 0.0043, -0.0118, -0.0086,  ...,  0.0145, -0.0118,  0.0033],\n",
              "                      ...,\n",
              "                      [-0.0017,  0.0150, -0.0161,  ...,  0.0182, -0.0044, -0.0059],\n",
              "                      [ 0.0074,  0.0032, -0.0198,  ..., -0.0181, -0.0111, -0.0077],\n",
              "                      [ 0.0048, -0.0047,  0.0141,  ..., -0.0003,  0.0087,  0.0187]],\n",
              "                     device='cuda:0', requires_grad=True): {'step': tensor(143532.),\n",
              "               'sum': tensor([[9.9766e-01, 3.9118e+00, 7.6245e-02,  ..., 1.3195e+01, 2.7774e-02,\n",
              "                        3.2445e-01],\n",
              "                       [2.4435e-01, 8.5584e-01, 1.7812e-03,  ..., 1.7377e+00, 1.7847e-03,\n",
              "                        1.7967e-01],\n",
              "                       [3.8887e+01, 1.1538e+02, 5.3193e-01,  ..., 1.9582e+02, 3.7530e-01,\n",
              "                        1.4832e+01],\n",
              "                       ...,\n",
              "                       [2.5370e+02, 7.2589e+02, 2.3484e+00,  ..., 1.2357e+03, 2.1921e+00,\n",
              "                        8.9934e+01],\n",
              "                       [2.9650e+01, 1.0591e+02, 5.6307e-01,  ..., 1.3386e+02, 2.3628e-01,\n",
              "                        1.2910e+01],\n",
              "                       [1.0607e+02, 3.1614e+02, 7.5410e-01,  ..., 6.5551e+02, 2.2477e+00,\n",
              "                        5.6759e+01]], device='cuda:0')},\n",
              "              Parameter containing:\n",
              "              tensor([ 0.0044,  0.0082, -0.0259,  ..., -0.0242,  0.0126, -0.0155],\n",
              "                     device='cuda:0', requires_grad=True): {'step': tensor(143532.),\n",
              "               'sum': tensor([0.0058, 0.0007, 0.1213,  ..., 0.4343, 0.0773, 0.1831], device='cuda:0')},\n",
              "              Parameter containing:\n",
              "              tensor([[ 0.0025,  0.0006, -0.0051,  ..., -0.0134,  0.0053, -0.0160]],\n",
              "                     device='cuda:0', requires_grad=True): {'step': tensor(143532.),\n",
              "               'sum': tensor([[  74792.5547,  234020.7344, 1698560.6250,  ...,  869809.6250,\n",
              "                         573394.3750,   66858.0938]], device='cuda:0')},\n",
              "              Parameter containing:\n",
              "              tensor([0.0129], device='cuda:0', requires_grad=True): {'step': tensor(143532.),\n",
              "               'sum': tensor([5656.8262], device='cuda:0')}}),\n",
              " 'param_groups': [{'lr': 1.651198820661262e-05,\n",
              "   'lr_decay': 0,\n",
              "   'eps': 1e-10,\n",
              "   'weight_decay': 0,\n",
              "   'initial_accumulator_value': 0,\n",
              "   'foreach': None,\n",
              "   'maximize': False,\n",
              "   'differentiable': False,\n",
              "   'params': [Parameter containing:\n",
              "    tensor([[ 0.1151,  0.1182,  0.2543,  ...,  0.1246, -0.0398, -0.1624],\n",
              "            [-0.1404, -0.1099, -0.1314,  ...,  0.0230,  0.1173, -0.0701],\n",
              "            [ 0.0182,  0.0883, -0.1452,  ...,  0.1079,  0.0421,  0.0744],\n",
              "            ...,\n",
              "            [-0.2490, -0.1353, -0.1351,  ...,  0.1454, -0.2442, -0.1272],\n",
              "            [-0.0135, -0.1815,  0.1677,  ..., -0.1438, -0.2395,  0.0528],\n",
              "            [ 0.1665, -0.2239,  0.0351,  ...,  0.2542,  0.1139, -0.2529]],\n",
              "           device='cuda:0', requires_grad=True),\n",
              "    Parameter containing:\n",
              "    tensor([ 0.0191, -0.1246, -0.0821,  ...,  0.0050,  0.1321, -0.1962],\n",
              "           device='cuda:0', requires_grad=True),\n",
              "    Parameter containing:\n",
              "    tensor([[ 0.0067, -0.0090, -0.0013,  ...,  0.0141,  0.0150,  0.0130],\n",
              "            [-0.0131, -0.0092, -0.0146,  ...,  0.0101,  0.0132, -0.0144],\n",
              "            [-0.0110,  0.0020,  0.0028,  ..., -0.0127,  0.0026, -0.0110],\n",
              "            ...,\n",
              "            [-0.0040,  0.0013,  0.0038,  ..., -0.0012,  0.0011, -0.0101],\n",
              "            [ 0.0139,  0.0008,  0.0014,  ..., -0.0138, -0.0083,  0.0016],\n",
              "            [ 0.0033, -0.0080,  0.0135,  ...,  0.0062,  0.0037,  0.0109]],\n",
              "           device='cuda:0', requires_grad=True),\n",
              "    Parameter containing:\n",
              "    tensor([-0.0089,  0.0090,  0.0121,  ...,  0.0043, -0.0021,  0.0033],\n",
              "           device='cuda:0', requires_grad=True),\n",
              "    Parameter containing:\n",
              "    tensor([[ 1.4967e-02,  1.0141e-02,  2.0608e-02,  ..., -4.7952e-03,\n",
              "              1.1519e-02,  4.4945e-04],\n",
              "            [ 5.2577e-03, -6.2918e-03,  4.2847e-03,  ...,  1.2395e-02,\n",
              "              2.4566e-03, -1.3813e-02],\n",
              "            [-5.1895e-03, -1.7285e-02,  1.2316e-02,  ..., -5.8506e-04,\n",
              "             -3.8300e-03, -1.3667e-02],\n",
              "            ...,\n",
              "            [-8.8042e-03, -2.8600e-03, -1.0547e-02,  ...,  1.6795e-02,\n",
              "              4.2376e-03, -1.0038e-02],\n",
              "            [ 1.4145e-02,  2.0130e-03, -5.6086e-04,  ...,  1.7288e-02,\n",
              "              1.9855e-02,  9.6848e-05],\n",
              "            [ 2.1346e-02, -1.5202e-02, -8.9700e-03,  ..., -3.7831e-03,\n",
              "             -4.5891e-03,  1.5690e-02]], device='cuda:0', requires_grad=True),\n",
              "    Parameter containing:\n",
              "    tensor([-0.0164, -0.0176,  0.0026,  ...,  0.0167,  0.0132,  0.0274],\n",
              "           device='cuda:0', requires_grad=True),\n",
              "    Parameter containing:\n",
              "    tensor([[ 0.0168, -0.0235, -0.0227,  ..., -0.0045,  0.0106,  0.0111],\n",
              "            [ 0.0004, -0.0275, -0.0120,  ..., -0.0141,  0.0109,  0.0219],\n",
              "            [-0.0240,  0.0207,  0.0258,  ..., -0.0089,  0.0075,  0.0185],\n",
              "            ...,\n",
              "            [ 0.0283,  0.0039, -0.0046,  ..., -0.0245,  0.0166,  0.0002],\n",
              "            [-0.0240,  0.0120,  0.0176,  ..., -0.0255, -0.0020, -0.0045],\n",
              "            [ 0.0014, -0.0232,  0.0005,  ...,  0.0087,  0.0148, -0.0005]],\n",
              "           device='cuda:0', requires_grad=True),\n",
              "    Parameter containing:\n",
              "    tensor([ 0.0351, -0.0037, -0.0133,  ..., -0.0120, -0.0070, -0.0127],\n",
              "           device='cuda:0', requires_grad=True),\n",
              "    Parameter containing:\n",
              "    tensor([[-0.0049,  0.0010, -0.0135,  ...,  0.0047, -0.0056, -0.0187],\n",
              "            [-0.0157, -0.0160,  0.0088,  ...,  0.0128,  0.0004, -0.0133],\n",
              "            [ 0.0043, -0.0118, -0.0086,  ...,  0.0145, -0.0118,  0.0033],\n",
              "            ...,\n",
              "            [-0.0017,  0.0150, -0.0161,  ...,  0.0182, -0.0044, -0.0059],\n",
              "            [ 0.0074,  0.0032, -0.0198,  ..., -0.0181, -0.0111, -0.0077],\n",
              "            [ 0.0048, -0.0047,  0.0141,  ..., -0.0003,  0.0087,  0.0187]],\n",
              "           device='cuda:0', requires_grad=True),\n",
              "    Parameter containing:\n",
              "    tensor([ 0.0044,  0.0082, -0.0259,  ..., -0.0242,  0.0126, -0.0155],\n",
              "           device='cuda:0', requires_grad=True),\n",
              "    Parameter containing:\n",
              "    tensor([[ 0.0025,  0.0006, -0.0051,  ..., -0.0134,  0.0053, -0.0160]],\n",
              "           device='cuda:0', requires_grad=True),\n",
              "    Parameter containing:\n",
              "    tensor([0.0129], device='cuda:0', requires_grad=True)]}],\n",
              " '_warned_capturable_if_run_uncaptured': True}"
            ]
          },
          "metadata": {},
          "execution_count": 106
        },
        {
          "output_type": "execute_result",
          "data": {
            "text/plain": [
              "<torch.optim.lr_scheduler.ReduceLROnPlateau at 0x7f9bf19a6ec0>"
            ]
          },
          "metadata": {},
          "execution_count": 106
        },
        {
          "output_type": "execute_result",
          "data": {
            "text/plain": [
              "{'factor': 0.17981117626992815,\n",
              " 'optimizer': Adagrad (\n",
              " Parameter Group 0\n",
              "     differentiable: False\n",
              "     eps: 1e-10\n",
              "     foreach: None\n",
              "     initial_accumulator_value: 0\n",
              "     lr: 1.651198820661262e-05\n",
              "     lr_decay: 0\n",
              "     maximize: False\n",
              "     weight_decay: 0\n",
              " ),\n",
              " 'min_lrs': [0],\n",
              " 'patience': 5,\n",
              " 'verbose': False,\n",
              " 'cooldown': 0,\n",
              " 'cooldown_counter': 0,\n",
              " 'mode': 'min',\n",
              " 'threshold': 0.005151471633626968,\n",
              " 'threshold_mode': 'rel',\n",
              " 'best': inf,\n",
              " 'num_bad_epochs': 0,\n",
              " 'mode_worse': inf,\n",
              " 'eps': 1e-08,\n",
              " 'last_epoch': 0}"
            ]
          },
          "metadata": {},
          "execution_count": 106
        },
        {
          "output_type": "execute_result",
          "data": {
            "text/plain": [
              "[4.7066659383886,\n",
              " 4.696680156909718,\n",
              " 4.636584094013887,\n",
              " 4.653435225228702,\n",
              " 4.586121235679178,\n",
              " 4.629024150534237,\n",
              " 4.587162755360323,\n",
              " 4.563276772846895,\n",
              " 4.567812099142635,\n",
              " 4.546351242334702,\n",
              " 4.540061096864588,\n",
              " 4.569714733393052,\n",
              " 4.595293706288057,\n",
              " 4.527586725122789,\n",
              " 4.53399656903884,\n",
              " 4.5634609658633964,\n",
              " 4.54216842287849,\n",
              " 4.512167827336929,\n",
              " 4.539217478000417,\n",
              " 4.519001569007425,\n",
              " 4.492217814165003,\n",
              " 4.506483882724537,\n",
              " 4.5275508890488565,\n",
              " 4.522241553990981,\n",
              " 4.490865481746898,\n",
              " 4.50724285664278,\n",
              " 4.504173922101189,\n",
              " 4.483453751687443,\n",
              " 4.500232518633674,\n",
              " 4.455554056324679,\n",
              " 4.455306627520393,\n",
              " 4.497106719207764,\n",
              " 4.45932195632037,\n",
              " 4.499175517811494,\n",
              " 4.463129206174963,\n",
              " 4.47086998165355,\n",
              " 4.464186214940688,\n",
              " 4.461548004756255,\n",
              " 4.476421505153881,\n",
              " 4.513838252841725,\n",
              " 4.459566120798447,\n",
              " 4.435258258281035,\n",
              " 4.47237570551704,\n",
              " 4.484185569808062,\n",
              " 4.455669694384406,\n",
              " 4.4747720828785615,\n",
              " 4.409518749102424,\n",
              " 4.434973642551197,\n",
              " 4.420962340814927,\n",
              " 4.466662643297981,\n",
              " 4.469394057778751,\n",
              " 4.454670850865981,\n",
              " 4.46015150828642,\n",
              " 4.455141673996869,\n",
              " 4.469358026684032,\n",
              " 4.430389298068776,\n",
              " 4.451512340814927,\n",
              " 4.421940324356977,\n",
              " 4.479628464620253,\n",
              " 4.395977741847319,\n",
              " 4.408257376928891,\n",
              " 4.410858024709365,\n",
              " 4.460469886061724,\n",
              " 4.423148636043773,\n",
              " 4.431614621128755,\n",
              " 4.428783533881693,\n",
              " 4.410590334836175,\n",
              " 4.40642547715131,\n",
              " 4.406543752984439,\n",
              " 4.475306894481883,\n",
              " 4.392254284129423,\n",
              " 4.4221067497702204,\n",
              " 4.397871931367762,\n",
              " 4.43199278196447,\n",
              " 4.38581528226067,\n",
              " 4.381016144281275,\n",
              " 4.421950305287978,\n",
              " 4.399571581963932,\n",
              " 4.440091692935719,\n",
              " 4.359295706311395,\n",
              " 4.40403115418378,\n",
              " 4.46970966204475,\n",
              " 4.4669169862635,\n",
              " 4.391359323703542,\n",
              " 4.414857265584609,\n",
              " 4.400937437438965,\n",
              " 4.429729818276798,\n",
              " 4.404645592723173,\n",
              " 4.367400404425228,\n",
              " 4.38621481255924,\n",
              " 4.388387713039623,\n",
              " 4.354324128229478,\n",
              " 4.359189456154319,\n",
              " 4.385213823924345,\n",
              " 4.393688751849006,\n",
              " 4.424227217820111,\n",
              " 4.384142567847757,\n",
              " 4.350137478076711,\n",
              " 4.348198507645551,\n",
              " 4.356768235913445,\n",
              " 4.37425544945212,\n",
              " 4.372636421248492,\n",
              " 4.3359649499780994,\n",
              " 4.355605017897662,\n",
              " 4.421015497813506,\n",
              " 4.404069515766817,\n",
              " 4.346925211356668,\n",
              " 4.399482252053653]"
            ]
          },
          "metadata": {},
          "execution_count": 106
        },
        {
          "output_type": "execute_result",
          "data": {
            "text/plain": [
              "[4.585707637023925,\n",
              " 4.55751758740743,\n",
              " 4.539757503509522,\n",
              " 4.527575317891439,\n",
              " 4.517748588307699,\n",
              " 4.509414644622803,\n",
              " 4.502092906824748,\n",
              " 4.496177434285482,\n",
              " 4.48922615737915,\n",
              " 4.484451009368897,\n",
              " 4.479571181869507,\n",
              " 4.476228167978922,\n",
              " 4.46883878288269,\n",
              " 4.465454604085286,\n",
              " 4.46258226737976,\n",
              " 4.459463039271037,\n",
              " 4.456500627772013,\n",
              " 4.454615423202514,\n",
              " 4.449423262278239,\n",
              " 4.444263289642334,\n",
              " 4.4416349193573,\n",
              " 4.437271467208863,\n",
              " 4.4357264017740885,\n",
              " 4.43386627108256,\n",
              " 4.432070332845052,\n",
              " 4.427308526229859,\n",
              " 4.425269572194417,\n",
              " 4.422944482421875,\n",
              " 4.421157112630208,\n",
              " 4.419530414072672,\n",
              " 4.418285121790568,\n",
              " 4.4165455322265625,\n",
              " 4.412901318486532,\n",
              " 4.411643107223511,\n",
              " 4.409795756022136,\n",
              " 4.405670908610026,\n",
              " 4.404449228922526,\n",
              " 4.402958386993408,\n",
              " 4.399496475219727,\n",
              " 4.396108589808146,\n",
              " 4.394221807988485,\n",
              " 4.39366457417806,\n",
              " 4.392021084721884,\n",
              " 4.390989986292521,\n",
              " 4.389291405995687,\n",
              " 4.388260786183675,\n",
              " 4.385773165003458,\n",
              " 4.385205954996745,\n",
              " 4.383911261113485,\n",
              " 4.382194323221842,\n",
              " 4.381151694488525,\n",
              " 4.380248132451375,\n",
              " 4.377615477752686,\n",
              " 4.374981455993653,\n",
              " 4.374193318812052,\n",
              " 4.371500889205933,\n",
              " 4.370404727300008,\n",
              " 4.367846980412801,\n",
              " 4.36659977238973,\n",
              " 4.365872557703654,\n",
              " 4.365065265909831,\n",
              " 4.3644688543955485,\n",
              " 4.363495189666748,\n",
              " 4.360956556955974,\n",
              " 4.360699560674032,\n",
              " 4.359906879425049,\n",
              " 4.3591265299479165,\n",
              " 4.357749097951253,\n",
              " 4.355423091761272,\n",
              " 4.35419159342448,\n",
              " 4.353262242635092,\n",
              " 4.35232068901062,\n",
              " 4.352120427703857,\n",
              " 4.349060676066081,\n",
              " 4.34796765238444,\n",
              " 4.347721587371826,\n",
              " 4.347062054443359,\n",
              " 4.344176259485881,\n",
              " 4.343089005533854,\n",
              " 4.3430868115743,\n",
              " 4.341187845993042,\n",
              " 4.34059524230957,\n",
              " 4.338576440684001,\n",
              " 4.336447277069092,\n",
              " 4.335964882532756,\n",
              " 4.335344115193685,\n",
              " 4.33523822479248,\n",
              " 4.333140440368652,\n",
              " 4.332475246302287,\n",
              " 4.331924650573731,\n",
              " 4.331700313059489,\n",
              " 4.330186120732625,\n",
              " 4.329309837977092,\n",
              " 4.328915800094604,\n",
              " 4.327406083806356,\n",
              " 4.325847020467123,\n",
              " 4.325546730677287,\n",
              " 4.323441278076172,\n",
              " 4.323727447636922,\n",
              " 4.3235107006073,\n",
              " 4.321092948659261,\n",
              " 4.319440406545003,\n",
              " 4.317634756088257,\n",
              " 4.318221105448405,\n",
              " 4.3176479797363285,\n",
              " 4.315962408447265,\n",
              " 4.314308098602295,\n",
              " 4.314454844665527]"
            ]
          },
          "metadata": {},
          "execution_count": 106
        },
        {
          "output_type": "execute_result",
          "data": {
            "text/plain": [
              "[{'l1_norm': 3.6518638066460105, 'linf_norm': 135.4292126686545},\n",
              " {'l1_norm': 3.680556674609465, 'linf_norm': 139.37152398313634},\n",
              " {'l1_norm': 3.6564808817078087, 'linf_norm': 138.19645249990575},\n",
              " {'l1_norm': 3.573812537832821, 'linf_norm': 133.87529110251035},\n",
              " {'l1_norm': 3.680361819861917, 'linf_norm': 138.72044130356733},\n",
              " {'l1_norm': 3.546179938372444, 'linf_norm': 131.12178485022153},\n",
              " {'l1_norm': 3.723937456164641, 'linf_norm': 139.0980264580446},\n",
              " {'l1_norm': 3.5978515520095824, 'linf_norm': 133.12037281409994},\n",
              " {'l1_norm': 3.624143905628429, 'linf_norm': 135.37469072497873},\n",
              " {'l1_norm': 3.6258970421734977, 'linf_norm': 135.37537416938332},\n",
              " {'l1_norm': 3.679056634914174, 'linf_norm': 136.17290041685666},\n",
              " {'l1_norm': 3.569047990389431, 'linf_norm': 133.01346019308426},\n",
              " {'l1_norm': 3.524746036350026, 'linf_norm': 129.64059449032055},\n",
              " {'l1_norm': 3.592594333738439, 'linf_norm': 132.93710403334674},\n",
              " {'l1_norm': 3.5037812008240645, 'linf_norm': 128.0093308525983},\n",
              " {'l1_norm': 3.644411228471644, 'linf_norm': 136.6481976952048},\n",
              " {'l1_norm': 3.576470634460449, 'linf_norm': 133.4379001981623},\n",
              " {'l1_norm': 3.605423027251749, 'linf_norm': 133.34797458242528},\n",
              " {'l1_norm': 3.5940967272029205, 'linf_norm': 133.63832638087553},\n",
              " {'l1_norm': 3.617802132640165, 'linf_norm': 133.90657093151316},\n",
              " {'l1_norm': 3.54405190335442, 'linf_norm': 128.78679298508587},\n",
              " {'l1_norm': 3.6136159784204818, 'linf_norm': 133.6812952315611},\n",
              " {'l1_norm': 3.6030002574471856, 'linf_norm': 130.89840450013105},\n",
              " {'l1_norm': 3.6703414669710046, 'linf_norm': 136.99535898617015},\n",
              " {'l1_norm': 3.64376721756879, 'linf_norm': 134.5656847573673},\n",
              " {'l1_norm': 3.598281537358901, 'linf_norm': 133.01816119270325},\n",
              " {'l1_norm': 3.627193232536316, 'linf_norm': 133.8811601803387},\n",
              " {'l1_norm': 3.5557792262357824, 'linf_norm': 130.64557080455106},\n",
              " {'l1_norm': 3.5888346437117637, 'linf_norm': 130.50931378137926},\n",
              " {'l1_norm': 3.655493257028916, 'linf_norm': 136.5007449240404},\n",
              " {'l1_norm': 3.700398651829888, 'linf_norm': 137.5883096318862},\n",
              " {'l1_norm': 3.676127209007039, 'linf_norm': 137.00275601240045},\n",
              " {'l1_norm': 3.68729221869076, 'linf_norm': 137.05845593136058},\n",
              " {'l1_norm': 3.5842627335155712, 'linf_norm': 131.95786924223057},\n",
              " {'l1_norm': 3.680660295621087, 'linf_norm': 136.2240193239773},\n",
              " {'l1_norm': 3.646458996178122, 'linf_norm': 134.91179780888277},\n",
              " {'l1_norm': 3.641244903811287, 'linf_norm': 133.99289735816507},\n",
              " {'l1_norm': 3.684773255421133, 'linf_norm': 137.1555669762443},\n",
              " {'l1_norm': 3.6525349253598383, 'linf_norm': 134.36138167008792},\n",
              " {'l1_norm': 3.667136943727381, 'linf_norm': 135.27395776986515},\n",
              " {'l1_norm': 3.636018900635664, 'linf_norm': 134.32150000006732},\n",
              " {'l1_norm': 3.565537778192408, 'linf_norm': 129.575130377489},\n",
              " {'l1_norm': 3.544869288287443, 'linf_norm': 128.87408423901726},\n",
              " {'l1_norm': 3.727340417749741, 'linf_norm': 138.9402269764844},\n",
              " {'l1_norm': 3.5947706161386828, 'linf_norm': 130.64978160773447},\n",
              " {'l1_norm': 3.726865212878059, 'linf_norm': 139.6279776833927},\n",
              " {'l1_norm': 3.609143831578423, 'linf_norm': 132.43935591493494},\n",
              " {'l1_norm': 3.6846737815632538, 'linf_norm': 135.76817940530216},\n",
              " {'l1_norm': 3.634676476983463, 'linf_norm': 132.78418880543427},\n",
              " {'l1_norm': 3.7567245509091545, 'linf_norm': 141.26792140971912},\n",
              " {'l1_norm': 3.665668174889509, 'linf_norm': 136.0509276779848},\n",
              " {'l1_norm': 3.668202220310884, 'linf_norm': 133.97596503322825},\n",
              " {'l1_norm': 3.60859247936922, 'linf_norm': 132.26805013216804},\n",
              " {'l1_norm': 3.651422529714248, 'linf_norm': 135.39332061861825},\n",
              " {'l1_norm': 3.69239340353573, 'linf_norm': 135.78085052126715},\n",
              " {'l1_norm': 3.6296200844484217, 'linf_norm': 134.26559632772558},\n",
              " {'l1_norm': 3.678434843444824, 'linf_norm': 135.49348134873335},\n",
              " {'l1_norm': 3.642466799612606, 'linf_norm': 132.02353304723852},\n",
              " {'l1_norm': 3.654206167714736, 'linf_norm': 134.1005922648486},\n",
              " {'l1_norm': 3.683129751643013, 'linf_norm': 137.14911293138616},\n",
              " {'l1_norm': 3.712822187008577, 'linf_norm': 138.1428831043468},\n",
              " {'l1_norm': 3.71008132090849, 'linf_norm': 137.35458301265942},\n",
              " {'l1_norm': 3.63273133393456, 'linf_norm': 133.6229323564866},\n",
              " {'l1_norm': 3.630548012273452, 'linf_norm': 129.4201319316191},\n",
              " {'l1_norm': 3.723402640578326, 'linf_norm': 137.13268020558075},\n",
              " {'l1_norm': 3.667423155548993, 'linf_norm': 134.20828362002652},\n",
              " {'l1_norm': 3.648766620736964, 'linf_norm': 132.36566068918566},\n",
              " {'l1_norm': 3.740835726165772, 'linf_norm': 138.8466757646897},\n",
              " {'l1_norm': 3.6974023681977215, 'linf_norm': 136.1872658602995},\n",
              " {'l1_norm': 3.7047411415100098, 'linf_norm': 136.56125683486042},\n",
              " {'l1_norm': 3.667264213808845, 'linf_norm': 133.68155139368844},\n",
              " {'l1_norm': 3.6616999366984646, 'linf_norm': 134.0230492405162},\n",
              " {'l1_norm': 3.6140779631670794, 'linf_norm': 131.6265268774818},\n",
              " {'l1_norm': 3.7289220635694615, 'linf_norm': 138.34391715316772},\n",
              " {'l1_norm': 3.7024389043247, 'linf_norm': 137.56304175047032},\n",
              " {'l1_norm': 3.652689173047683, 'linf_norm': 134.6016211093229},\n",
              " {'l1_norm': 3.633234167727302, 'linf_norm': 131.89350484800335},\n",
              " {'l1_norm': 3.771695512401356, 'linf_norm': 141.14785569287469},\n",
              " {'l1_norm': 3.75216611440322, 'linf_norm': 138.809161347378},\n",
              " {'l1_norm': 3.7156207241955928, 'linf_norm': 133.6761235107422},\n",
              " {'l1_norm': 3.569200145743875, 'linf_norm': 128.18155848761165},\n",
              " {'l1_norm': 3.696821989676532, 'linf_norm': 135.41431610277962},\n",
              " {'l1_norm': 3.737797194447237, 'linf_norm': 139.84381569496605},\n",
              " {'l1_norm': 3.6665026598762074, 'linf_norm': 135.5649017768411},\n",
              " {'l1_norm': 3.614071716488109, 'linf_norm': 130.6602417560353},\n",
              " {'l1_norm': 3.7498202583312983, 'linf_norm': 138.07590750402002},\n",
              " {'l1_norm': 3.649999240359138, 'linf_norm': 133.38372007621317},\n",
              " {'l1_norm': 3.62567836265564, 'linf_norm': 131.70161726897746},\n",
              " {'l1_norm': 3.674966452250761, 'linf_norm': 134.46330763926787},\n",
              " {'l1_norm': 3.673304651030372, 'linf_norm': 133.65938249354642},\n",
              " {'l1_norm': 3.6636627839256737, 'linf_norm': 133.2897242857989},\n",
              " {'l1_norm': 3.655457810424356, 'linf_norm': 130.69689647176406},\n",
              " {'l1_norm': 3.827058614955229, 'linf_norm': 143.94048327017393},\n",
              " {'l1_norm': 3.6912557969037225, 'linf_norm': 135.61501684857538},\n",
              " {'l1_norm': 3.671749682774263, 'linf_norm': 133.19458642488368},\n",
              " {'l1_norm': 3.701029377196817, 'linf_norm': 136.31358447683},\n",
              " {'l1_norm': 3.6954811086542474, 'linf_norm': 134.90467376753864},\n",
              " {'l1_norm': 3.716090571796193, 'linf_norm': 137.86581582650578},\n",
              " {'l1_norm': 3.620470896619909, 'linf_norm': 131.26219515607497},\n",
              " {'l1_norm': 3.771044315427893, 'linf_norm': 140.81101242664562},\n",
              " {'l1_norm': 3.766360750276902, 'linf_norm': 137.95636089319342},\n",
              " {'l1_norm': 3.724378557833503, 'linf_norm': 137.71007635343216},\n",
              " {'l1_norm': 3.716254828060375, 'linf_norm': 136.45838616422765},\n",
              " {'l1_norm': 3.661784137894125, 'linf_norm': 133.34149423601488},\n",
              " {'l1_norm': 3.7381457188101375, 'linf_norm': 138.96294759723438},\n",
              " {'l1_norm': 3.6569815335890823, 'linf_norm': 131.17493264923095},\n",
              " {'l1_norm': 3.7879137263578526, 'linf_norm': 142.7591308613721},\n",
              " {'l1_norm': 3.687075051532072, 'linf_norm': 135.04503774360208}]"
            ]
          },
          "metadata": {},
          "execution_count": 106
        },
        {
          "output_type": "execute_result",
          "data": {
            "text/plain": [
              "[{'l1_norm': 3.9645347159067783, 'linf_norm': 159.13411673278807},\n",
              " {'l1_norm': 4.033465839767456, 'linf_norm': 163.06888588562012},\n",
              " {'l1_norm': 4.108979323577881, 'linf_norm': 167.1168229115804},\n",
              " {'l1_norm': 4.157112947654724, 'linf_norm': 169.70955183003744},\n",
              " {'l1_norm': 4.189994752629598, 'linf_norm': 171.50266306152344},\n",
              " {'l1_norm': 4.223915719413758, 'linf_norm': 173.33901894836427},\n",
              " {'l1_norm': 4.207923431205749, 'linf_norm': 172.74238767700194},\n",
              " {'l1_norm': 4.231493773714702, 'linf_norm': 174.04237396850587},\n",
              " {'l1_norm': 4.251738919576009, 'linf_norm': 175.17820519307455},\n",
              " {'l1_norm': 4.289468942896525, 'linf_norm': 177.0977050120036},\n",
              " {'l1_norm': 4.302867215855916, 'linf_norm': 177.81915409851075},\n",
              " {'l1_norm': 4.337614253044128, 'linf_norm': 179.6075673868815},\n",
              " {'l1_norm': 4.329330644607544, 'linf_norm': 179.328498050944},\n",
              " {'l1_norm': 4.344976756604512, 'linf_norm': 180.15647589823405},\n",
              " {'l1_norm': 4.382004839642843, 'linf_norm': 182.0007210398356},\n",
              " {'l1_norm': 4.404323022588094, 'linf_norm': 183.11726914876303},\n",
              " {'l1_norm': 4.416614888827006, 'linf_norm': 183.7711514383952},\n",
              " {'l1_norm': 4.452289509709676, 'linf_norm': 185.56692317606607},\n",
              " {'l1_norm': 4.457590593846639, 'linf_norm': 185.90355364379883},\n",
              " {'l1_norm': 4.462509512837728, 'linf_norm': 186.21596169840493},\n",
              " {'l1_norm': 4.48274187634786, 'linf_norm': 187.228386815389},\n",
              " {'l1_norm': 4.490449582799275, 'linf_norm': 187.6424368804932},\n",
              " {'l1_norm': 4.515788816897074, 'linf_norm': 188.8853365081787},\n",
              " {'l1_norm': 4.542293582979838, 'linf_norm': 190.1894659942627},\n",
              " {'l1_norm': 4.558215489069621, 'linf_norm': 191.00786991475425},\n",
              " {'l1_norm': 4.55446080716451, 'linf_norm': 190.9053033650716},\n",
              " {'l1_norm': 4.575686318588257, 'linf_norm': 191.96182601216637},\n",
              " {'l1_norm': 4.598170509338379, 'linf_norm': 193.08711503601077},\n",
              " {'l1_norm': 4.619877847035726, 'linf_norm': 194.15320290527345},\n",
              " {'l1_norm': 4.635003395207723, 'linf_norm': 194.9019472768148},\n",
              " {'l1_norm': 4.663399178187053, 'linf_norm': 196.28618210754397},\n",
              " {'l1_norm': 4.678766056950887, 'linf_norm': 197.06178107706705},\n",
              " {'l1_norm': 4.68435080464681, 'linf_norm': 197.38873343200683},\n",
              " {'l1_norm': 4.703720304234823, 'linf_norm': 198.349468371582},\n",
              " {'l1_norm': 4.72550963083903, 'linf_norm': 199.40757558492024},\n",
              " {'l1_norm': 4.716489640299479, 'linf_norm': 199.03812260131835},\n",
              " {'l1_norm': 4.735661038208008, 'linf_norm': 199.99767594095863},\n",
              " {'l1_norm': 4.751684344736735, 'linf_norm': 200.79050894063317},\n",
              " {'l1_norm': 4.7528165892283125, 'linf_norm': 200.9074157277425},\n",
              " {'l1_norm': 4.744797879664104, 'linf_norm': 200.5648109202067},\n",
              " {'l1_norm': 4.764890730539958, 'linf_norm': 201.5443720703125},\n",
              " {'l1_norm': 4.79561618347168, 'linf_norm': 203.0301945465088},\n",
              " {'l1_norm': 4.802785979588826, 'linf_norm': 203.4128816162109},\n",
              " {'l1_norm': 4.812376878611246, 'linf_norm': 203.895070606486},\n",
              " {'l1_norm': 4.8180895444234215, 'linf_norm': 204.1880612599691},\n",
              " {'l1_norm': 4.830839654286702, 'linf_norm': 204.81787289428712},\n",
              " {'l1_norm': 4.836828912734985, 'linf_norm': 205.1697953684489},\n",
              " {'l1_norm': 4.85742812054952, 'linf_norm': 206.1732697316488},\n",
              " {'l1_norm': 4.876517735417684, 'linf_norm': 207.12132891845704},\n",
              " {'l1_norm': 4.872927791976928, 'linf_norm': 206.9813889251709},\n",
              " {'l1_norm': 4.890297477595011, 'linf_norm': 207.8333069366455},\n",
              " {'l1_norm': 4.906090241750081, 'linf_norm': 208.60559134928383},\n",
              " {'l1_norm': 4.909575368499756, 'linf_norm': 208.7914585296631},\n",
              " {'l1_norm': 4.911677092234294, 'linf_norm': 208.92547637430823},\n",
              " {'l1_norm': 4.926538577779134, 'linf_norm': 209.6417850708008},\n",
              " {'l1_norm': 4.920535866165161, 'linf_norm': 209.38856796264648},\n",
              " {'l1_norm': 4.935205494944254, 'linf_norm': 210.1170547434489},\n",
              " {'l1_norm': 4.941650282414754, 'linf_norm': 210.46903168843588},\n",
              " {'l1_norm': 4.959012544759115, 'linf_norm': 211.32587634480797},\n",
              " {'l1_norm': 4.972734140650432, 'linf_norm': 212.0222698699951},\n",
              " {'l1_norm': 4.989986737569173, 'linf_norm': 212.86066944071453},\n",
              " {'l1_norm': 5.005492876434326, 'linf_norm': 213.61296454874676},\n",
              " {'l1_norm': 5.006028359476725, 'linf_norm': 213.648519631958},\n",
              " {'l1_norm': 5.002796862920126, 'linf_norm': 213.5233531860352},\n",
              " {'l1_norm': 5.019713512166341, 'linf_norm': 214.35200536905924},\n",
              " {'l1_norm': 5.033043284352621, 'linf_norm': 215.01036604512527},\n",
              " {'l1_norm': 5.047364792378744, 'linf_norm': 215.70338047790528},\n",
              " {'l1_norm': 5.043976033782959, 'linf_norm': 215.5852179148356},\n",
              " {'l1_norm': 5.0460866297403975, 'linf_norm': 215.72757374979656},\n",
              " {'l1_norm': 5.050116399383545, 'linf_norm': 215.9347680267334},\n",
              " {'l1_norm': 5.068554442342123, 'linf_norm': 216.83854093017575},\n",
              " {'l1_norm': 5.073649349975586, 'linf_norm': 217.0940287587484},\n",
              " {'l1_norm': 5.097115823109944, 'linf_norm': 218.2090409495036},\n",
              " {'l1_norm': 5.088964136632283, 'linf_norm': 217.88320028177895},\n",
              " {'l1_norm': 5.092493573888143, 'linf_norm': 218.08740625508625},\n",
              " {'l1_norm': 5.113412245941162, 'linf_norm': 219.0963028544108},\n",
              " {'l1_norm': 5.12573486442566, 'linf_norm': 219.70529566345212},\n",
              " {'l1_norm': 5.121030763753256, 'linf_norm': 219.52237447102863},\n",
              " {'l1_norm': 5.127838308080038, 'linf_norm': 219.87774528808595},\n",
              " {'l1_norm': 5.150262317530314, 'linf_norm': 220.9674955922445},\n",
              " {'l1_norm': 5.158221639506023, 'linf_norm': 221.37755712280276},\n",
              " {'l1_norm': 5.1677678825378415, 'linf_norm': 221.8411110555013},\n",
              " {'l1_norm': 5.1659085637410485, 'linf_norm': 221.77365157572427},\n",
              " {'l1_norm': 5.1693605642954505, 'linf_norm': 221.9575757059733},\n",
              " {'l1_norm': 5.179804887008667, 'linf_norm': 222.4758201293945},\n",
              " {'l1_norm': 5.188958750152588, 'linf_norm': 222.93468301086423},\n",
              " {'l1_norm': 5.206490541330973, 'linf_norm': 223.772447756958},\n",
              " {'l1_norm': 5.206449525197347, 'linf_norm': 223.80742116394043},\n",
              " {'l1_norm': 5.220716842651367, 'linf_norm': 224.5115158874512},\n",
              " {'l1_norm': 5.233127028528849, 'linf_norm': 225.1220397277832},\n",
              " {'l1_norm': 5.240523875427246, 'linf_norm': 225.5059793100993},\n",
              " {'l1_norm': 5.2493115997314455, 'linf_norm': 225.9490974731445},\n",
              " {'l1_norm': 5.256035987345378, 'linf_norm': 226.2735304433187},\n",
              " {'l1_norm': 5.264462561162313, 'linf_norm': 226.6851555928548},\n",
              " {'l1_norm': 5.267602514394125, 'linf_norm': 226.84743543904625},\n",
              " {'l1_norm': 5.277880346425374, 'linf_norm': 227.35705252787272},\n",
              " {'l1_norm': 5.29422603302002, 'linf_norm': 228.15909065653483},\n",
              " {'l1_norm': 5.291192911402384, 'linf_norm': 228.04536538594564},\n",
              " {'l1_norm': 5.313400636164348, 'linf_norm': 229.106430460612},\n",
              " {'l1_norm': 5.319427873229981, 'linf_norm': 229.41475173746744},\n",
              " {'l1_norm': 5.3134399491628015, 'linf_norm': 229.1563518341065},\n",
              " {'l1_norm': 5.3152713785807295, 'linf_norm': 229.28042634480795},\n",
              " {'l1_norm': 5.316865771611532, 'linf_norm': 229.396742751058},\n",
              " {'l1_norm': 5.337497680918376, 'linf_norm': 230.3967577667236},\n",
              " {'l1_norm': 5.345209096781413, 'linf_norm': 230.7846422261556},\n",
              " {'l1_norm': 5.343320709228515, 'linf_norm': 230.71636337483724},\n",
              " {'l1_norm': 5.349705650838216, 'linf_norm': 231.0551357808431},\n",
              " {'l1_norm': 5.367535372670492, 'linf_norm': 231.9111509674072}]"
            ]
          },
          "metadata": {},
          "execution_count": 106
        }
      ],
      "source": [
        "# %%script echo skipping\n",
        "\n",
        "if hidden_activation_name_loaded == \"LeakyReLU\":\n",
        "  var_dict_loaded[\"leakyrelu_slope\"]\n",
        "if hidden_activation_name_loaded == \"PReLU\":\n",
        "  var_dict_loaded[\"prelu_init\"]\n",
        "elif hidden_activation_name_loaded == \"SoftPlus\":\n",
        "  var_dict_loaded[\"softplus_beta\"]\n",
        "\n",
        "batch_size_loaded\n",
        "n_epochs_loaded\n",
        "loss_name_loaded\n",
        "optimizer_name_loaded\n",
        "scheduler_name_loaded\n",
        "n_units_loaded\n",
        "n_layers_loaded\n",
        "hidden_activation_name_loaded\n",
        "output_activation_name_loaded\n",
        "lr_loaded\n",
        "dropout_rate_loaded\n",
        "hidden_activation_loaded\n",
        "output_activation_loaded\n",
        "net_loaded\n",
        "net_loaded.__dict__ # print the subparameters of the network\n",
        "loss_fn_loaded\n",
        "optimizer_loaded\n",
        "optimizer_loaded.__dict__ # print the subparameters of the optimizer\n",
        "scheduler_loaded\n",
        "scheduler_loaded.__dict__ # print the subparameters of the scheduler\n",
        "train_losses_loaded\n",
        "test_losses_loaded\n",
        "train_metrics_loaded\n",
        "test_metrics_loaded\n"
      ]
    },
    {
      "cell_type": "code",
      "execution_count": 107,
      "metadata": {
        "id": "FuReR_9Hc72R",
        "colab": {
          "base_uri": "https://localhost:8080/"
        },
        "outputId": "e022b638-9251-4d64-df3d-641c6e6e61df"
      },
      "outputs": [
        {
          "output_type": "execute_result",
          "data": {
            "text/plain": [
              "4.399482252053653"
            ]
          },
          "metadata": {},
          "execution_count": 107
        },
        {
          "output_type": "execute_result",
          "data": {
            "text/plain": [
              "4.314454844665527"
            ]
          },
          "metadata": {},
          "execution_count": 107
        },
        {
          "output_type": "execute_result",
          "data": {
            "text/plain": [
              "5.367535372670492"
            ]
          },
          "metadata": {},
          "execution_count": 107
        },
        {
          "output_type": "execute_result",
          "data": {
            "text/plain": [
              "231.9111509674072"
            ]
          },
          "metadata": {},
          "execution_count": 107
        }
      ],
      "source": [
        "train_losses_loaded[-1]\n",
        "test_losses_loaded[-1]\n",
        "test_metrics_loaded[-1]['l1_norm']\n",
        "test_metrics_loaded[-1]['linf_norm']\n",
        "# print(f'Error is {test_metrics_loaded[-1][\"l1_norm\"] / (3.84e-4)} times bigger than in Dieselhorst et al.')\n",
        "# print(f'Error is {test_metrics_loaded[-1][\"linf_norm\"] / (8.14e-3)} times bigger than in Dieselhorst et al.')"
      ]
    },
    {
      "cell_type": "markdown",
      "metadata": {
        "id": "0_EDVAB5c72R"
      },
      "source": [
        "### Visualize loaded results"
      ]
    },
    {
      "cell_type": "markdown",
      "metadata": {
        "id": "vwLGR1aSUZik"
      },
      "source": [
        "Let us verify correct loading of the train and test metrics by visualizing them again but now through the loaded values. Likewise for the train and test losses."
      ]
    },
    {
      "cell_type": "code",
      "execution_count": 108,
      "metadata": {
        "id": "sXiNgLsmUZil"
      },
      "outputs": [],
      "source": [
        "%config InteractiveShell.ast_node_interactivity = \"last_expr_or_assign\""
      ]
    },
    {
      "cell_type": "code",
      "execution_count": 109,
      "metadata": {
        "id": "sgq4WfSiUZil",
        "colab": {
          "base_uri": "https://localhost:8080/",
          "height": 1000
        },
        "outputId": "f19df536-a1d2-4e7a-c69d-2d21d207bd55"
      },
      "outputs": [
        {
          "output_type": "display_data",
          "data": {
            "text/plain": [
              "<Figure size 640x480 with 2 Axes>"
            ],
            "image/png": "[encoded data removed]"
          },
          "metadata": {}
        },
        {
          "output_type": "display_data",
          "data": {
            "text/plain": [
              "<Figure size 800x600 with 1 Axes>"
            ],
            "image/png": "[encoded data removed]"
          },
          "metadata": {}
        }
      ],
      "source": [
        "# Plotting the losses and metrics for the best network plt.figure(figsize=(12, \n",
        "#plt.subplot(2, 2, 1)\n",
        "#plt.plot(train_losses_loaded, label=\"Train Loss\")\n",
        "#plt.plot(test_losses_loaded, label=\"Test Loss\")\n",
        "#plt.xlabel(\"Epoch\")\n",
        "#plt.ylabel(\"Loss\")\n",
        "#plt.legend()\n",
        "plt.subplot(2, 2, 2)\n",
        "plt.plot([m[\"l1_norm\"] for m in train_metrics_loaded], label=\"Train L1 Norm\")\n",
        "plt.plot([m[\"l1_norm\"] for m in test_metrics_loaded], label=\"Test L1 Norm\")\n",
        "plt.xlabel(\"Epoch\")\n",
        "plt.ylabel(\"L1 Norm\")\n",
        "# Added setting the vertical axis to be in powers of 10\n",
        "plt.yscale(\"log\")\n",
        "# Added setting the vertical axis limits to be from 10^-7 to 10^0\n",
        "plt.ylim(1e-3, 1e2)\n",
        "plt.legend()\n",
        "plt.subplot(2, 2, 3)\n",
        "plt.plot([m[\"linf_norm\"] for m in train_metrics_loaded], label=\"Train Linf Norm\")\n",
        "plt.plot([m[\"linf_norm\"] for m in test_metrics_loaded], label=\"Test Linf Norm\")\n",
        "plt.xlabel(\"Epoch\")\n",
        "plt.ylabel(\"Linf Norm\")\n",
        "# Added setting the vertical axis to be in powers of 10\n",
        "plt.yscale(\"log\")\n",
        "# Added setting the vertical axis limits to be from 10^-7 to 10^0\n",
        "plt.ylim(1e-3, 1e2)\n",
        "plt.legend()\n",
        "plt.tight_layout()\n",
        "plt.show()\n",
        "\n",
        "# Added plotting MSE of training data and MSE of test data in one plot \n",
        "plt.figure(figsize=(8, 6))\n",
        "plt.plot(train_losses_loaded,label=\"training data\")\n",
        "plt.plot(test_losses_loaded,label=\"test data\")\n",
        "#if scheduler is not None:\n",
        "#    plt.plot([scheduler.get_last_lr()[0] for _ in range(n_epochs)], label=\"Learning rate\") \n",
        "plt.xlabel(\"Epoch\")\n",
        "plt.ylabel(f\"{loss_name_loaded} Loss\")\n",
        "# Added setting the vertical axis to be in powers of 10\n",
        "plt.yscale(\"log\")\n",
        "# Added setting the vertical axis limits to be from 10^-7 to 10^0\n",
        "plt.ylim(1e-7, 1e0)\n",
        "plt.legend()\n",
        "plt.show()\n"
      ]
    },
    {
      "cell_type": "code",
      "execution_count": 110,
      "metadata": {
        "id": "lkgLqJ_UUZim"
      },
      "outputs": [],
      "source": [
        "%config InteractiveShell.ast_node_interactivity = \"all\""
      ]
    },
    {
      "cell_type": "markdown",
      "metadata": {
        "id": "FX9ZDVu1c72T"
      },
      "source": [
        "## Counting the number of parameters in the network."
      ]
    },
    {
      "cell_type": "code",
      "execution_count": 111,
      "metadata": {
        "id": "hMPXhr9vc72T",
        "colab": {
          "base_uri": "https://localhost:8080/"
        },
        "outputId": "77ec0af7-a300-4cd2-fa93-0cda7a1f548e"
      },
      "outputs": [
        {
          "output_type": "execute_result",
          "data": {
            "text/plain": [
              "Net(\n",
              "  (hidden_activation): GELU(approximate='none')\n",
              "  (output_activation): Identity()\n",
              "  (layers): ModuleList(\n",
              "    (0): Linear(in_features=14, out_features=3887, bias=True)\n",
              "    (1): Linear(in_features=3887, out_features=2215, bias=True)\n",
              "    (2): Linear(in_features=2215, out_features=1213, bias=True)\n",
              "    (3): Linear(in_features=1213, out_features=1885, bias=True)\n",
              "    (4): Linear(in_features=1885, out_features=2831, bias=True)\n",
              "    (5): Linear(in_features=2831, out_features=1, bias=True)\n",
              "  )\n",
              "  (dropouts): ModuleList(\n",
              "    (0-4): 5 x Dropout(p=0.17041994834967367, inplace=False)\n",
              "  )\n",
              ")"
            ]
          },
          "metadata": {},
          "execution_count": 111
        },
        {
          "output_type": "stream",
          "name": "stdout",
          "text": [
            "The model has 18988721 parameters.\n"
          ]
        }
      ],
      "source": [
        "net_loaded.eval()\n",
        "def count_parameters(model):\n",
        "    return sum(p.numel() for p in model.parameters() if p.requires_grad)\n",
        "print(f'The model has {count_parameters(net_loaded)} parameters.')"
      ]
    },
    {
      "cell_type": "markdown",
      "metadata": {
        "id": "SxuzVSnlUZin"
      },
      "source": [
        "## Evaluating the network on arbirary input\n",
        "### Comparing `net` and `net_loaded`\n",
        "\n",
        "We compare `net` and `net_loaded` to confirm correct loading of the network. Note that `net` is only available if we have trained the model in this session."
      ]
    },
    {
      "cell_type": "code",
      "execution_count": 112,
      "metadata": {
        "id": "rSfeBzp3c72T",
        "colab": {
          "base_uri": "https://localhost:8080/"
        },
        "outputId": "1161e4d2-ca14-4758-835e-9a24a5f437ac"
      },
      "outputs": [
        {
          "output_type": "execute_result",
          "data": {
            "text/plain": [
              "Net(\n",
              "  (hidden_activation): GELU(approximate='none')\n",
              "  (output_activation): Identity()\n",
              "  (layers): ModuleList(\n",
              "    (0): Linear(in_features=14, out_features=3887, bias=True)\n",
              "    (1): Linear(in_features=3887, out_features=2215, bias=True)\n",
              "    (2): Linear(in_features=2215, out_features=1213, bias=True)\n",
              "    (3): Linear(in_features=1213, out_features=1885, bias=True)\n",
              "    (4): Linear(in_features=1885, out_features=2831, bias=True)\n",
              "    (5): Linear(in_features=2831, out_features=1, bias=True)\n",
              "  )\n",
              "  (dropouts): ModuleList(\n",
              "    (0-4): 5 x Dropout(p=0.17041994834967367, inplace=False)\n",
              "  )\n",
              ")"
            ]
          },
          "metadata": {},
          "execution_count": 112
        }
      ],
      "source": [
        "#%%script echo skipping\n",
        "\n",
        "# Set the network to evaluation mode\n",
        "net.eval()"
      ]
    },
    {
      "cell_type": "code",
      "execution_count": 113,
      "metadata": {
        "id": "RaErZLhZc72U",
        "colab": {
          "base_uri": "https://localhost:8080/"
        },
        "outputId": "d538abaf-ca9a-4210-b419-182f6cc918f8"
      },
      "outputs": [
        {
          "output_type": "execute_result",
          "data": {
            "text/plain": [
              "<bound method Module.eval of Net(\n",
              "  (hidden_activation): GELU(approximate='none')\n",
              "  (output_activation): Identity()\n",
              "  (layers): ModuleList(\n",
              "    (0): Linear(in_features=14, out_features=3887, bias=True)\n",
              "    (1): Linear(in_features=3887, out_features=2215, bias=True)\n",
              "    (2): Linear(in_features=2215, out_features=1213, bias=True)\n",
              "    (3): Linear(in_features=1213, out_features=1885, bias=True)\n",
              "    (4): Linear(in_features=1885, out_features=2831, bias=True)\n",
              "    (5): Linear(in_features=2831, out_features=1, bias=True)\n",
              "  )\n",
              "  (dropouts): ModuleList(\n",
              "    (0-4): 5 x Dropout(p=0.17041994834967367, inplace=False)\n",
              "  )\n",
              ")>"
            ]
          },
          "metadata": {},
          "execution_count": 113
        }
      ],
      "source": [
        "# Set the network to evaluation mode\n",
        "net_loaded.eval"
      ]
    },
    {
      "cell_type": "code",
      "execution_count": 114,
      "metadata": {
        "id": "_FMRXpv4c72U",
        "colab": {
          "base_uri": "https://localhost:8080/"
        },
        "outputId": "19dcdb4f-c8a5-4719-af28-fdd4b4339d79"
      },
      "outputs": [
        {
          "output_type": "stream",
          "name": "stdout",
          "text": [
            "Parameters are the same.\n",
            "Net device: cuda:0\n",
            "Net_loaded device: cuda:0\n"
          ]
        }
      ],
      "source": [
        "for p1, p2 in zip(net.parameters(), net_loaded.parameters()):\n",
        "    if p1.data.ne(p2.data).sum() > 0:\n",
        "        print(\"Parameters are NOT the same.\")\n",
        "        break\n",
        "else:\n",
        "    print(\"Parameters are the same.\")\n",
        "\n",
        "print(\"Net device:\", next(net.parameters()).device)\n",
        "print(\"Net_loaded device:\", next(net_loaded.parameters()).device)"
      ]
    },
    {
      "cell_type": "code",
      "execution_count": 115,
      "metadata": {
        "id": "C0PLAA0DUZin",
        "colab": {
          "base_uri": "https://localhost:8080/"
        },
        "outputId": "91e8b5b2-99d4-408e-828b-cb6aab8cc57f"
      },
      "outputs": [
        {
          "output_type": "stream",
          "name": "stdout",
          "text": [
            "[Parameter containing:\n",
            "tensor([[ 0.1151,  0.1182,  0.2543,  ...,  0.1246, -0.0398, -0.1624],\n",
            "        [-0.1404, -0.1099, -0.1314,  ...,  0.0230,  0.1173, -0.0701],\n",
            "        [ 0.0182,  0.0883, -0.1452,  ...,  0.1079,  0.0421,  0.0744],\n",
            "        ...,\n",
            "        [-0.2490, -0.1353, -0.1351,  ...,  0.1454, -0.2442, -0.1272],\n",
            "        [-0.0135, -0.1815,  0.1677,  ..., -0.1438, -0.2395,  0.0528],\n",
            "        [ 0.1665, -0.2239,  0.0351,  ...,  0.2542,  0.1139, -0.2529]],\n",
            "       device='cuda:0', requires_grad=True), Parameter containing:\n",
            "tensor([ 0.0191, -0.1246, -0.0821,  ...,  0.0050,  0.1321, -0.1962],\n",
            "       device='cuda:0', requires_grad=True), Parameter containing:\n",
            "tensor([[ 0.0067, -0.0090, -0.0013,  ...,  0.0141,  0.0150,  0.0130],\n",
            "        [-0.0131, -0.0092, -0.0146,  ...,  0.0101,  0.0132, -0.0144],\n",
            "        [-0.0110,  0.0020,  0.0028,  ..., -0.0127,  0.0026, -0.0110],\n",
            "        ...,\n",
            "        [-0.0040,  0.0013,  0.0038,  ..., -0.0012,  0.0011, -0.0101],\n",
            "        [ 0.0139,  0.0008,  0.0014,  ..., -0.0138, -0.0083,  0.0016],\n",
            "        [ 0.0033, -0.0080,  0.0135,  ...,  0.0062,  0.0037,  0.0109]],\n",
            "       device='cuda:0', requires_grad=True), Parameter containing:\n",
            "tensor([-0.0089,  0.0090,  0.0121,  ...,  0.0043, -0.0021,  0.0033],\n",
            "       device='cuda:0', requires_grad=True), Parameter containing:\n",
            "tensor([[ 1.4967e-02,  1.0141e-02,  2.0608e-02,  ..., -4.7952e-03,\n",
            "          1.1519e-02,  4.4945e-04],\n",
            "        [ 5.2577e-03, -6.2918e-03,  4.2847e-03,  ...,  1.2395e-02,\n",
            "          2.4566e-03, -1.3813e-02],\n",
            "        [-5.1895e-03, -1.7285e-02,  1.2316e-02,  ..., -5.8506e-04,\n",
            "         -3.8300e-03, -1.3667e-02],\n",
            "        ...,\n",
            "        [-8.8042e-03, -2.8600e-03, -1.0547e-02,  ...,  1.6795e-02,\n",
            "          4.2376e-03, -1.0038e-02],\n",
            "        [ 1.4145e-02,  2.0130e-03, -5.6086e-04,  ...,  1.7288e-02,\n",
            "          1.9855e-02,  9.6848e-05],\n",
            "        [ 2.1346e-02, -1.5202e-02, -8.9700e-03,  ..., -3.7831e-03,\n",
            "         -4.5891e-03,  1.5690e-02]], device='cuda:0', requires_grad=True), Parameter containing:\n",
            "tensor([-0.0164, -0.0176,  0.0026,  ...,  0.0167,  0.0132,  0.0274],\n",
            "       device='cuda:0', requires_grad=True), Parameter containing:\n",
            "tensor([[ 0.0168, -0.0235, -0.0227,  ..., -0.0045,  0.0106,  0.0111],\n",
            "        [ 0.0004, -0.0275, -0.0120,  ..., -0.0141,  0.0109,  0.0219],\n",
            "        [-0.0240,  0.0207,  0.0258,  ..., -0.0089,  0.0075,  0.0185],\n",
            "        ...,\n",
            "        [ 0.0283,  0.0039, -0.0046,  ..., -0.0245,  0.0166,  0.0002],\n",
            "        [-0.0240,  0.0120,  0.0176,  ..., -0.0255, -0.0020, -0.0045],\n",
            "        [ 0.0014, -0.0232,  0.0005,  ...,  0.0087,  0.0148, -0.0005]],\n",
            "       device='cuda:0', requires_grad=True), Parameter containing:\n",
            "tensor([ 0.0351, -0.0037, -0.0133,  ..., -0.0120, -0.0070, -0.0127],\n",
            "       device='cuda:0', requires_grad=True), Parameter containing:\n",
            "tensor([[-0.0049,  0.0010, -0.0135,  ...,  0.0047, -0.0056, -0.0187],\n",
            "        [-0.0157, -0.0160,  0.0088,  ...,  0.0128,  0.0004, -0.0133],\n",
            "        [ 0.0043, -0.0118, -0.0086,  ...,  0.0145, -0.0118,  0.0033],\n",
            "        ...,\n",
            "        [-0.0017,  0.0150, -0.0161,  ...,  0.0182, -0.0044, -0.0059],\n",
            "        [ 0.0074,  0.0032, -0.0198,  ..., -0.0181, -0.0111, -0.0077],\n",
            "        [ 0.0048, -0.0047,  0.0141,  ..., -0.0003,  0.0087,  0.0187]],\n",
            "       device='cuda:0', requires_grad=True), Parameter containing:\n",
            "tensor([ 0.0044,  0.0082, -0.0259,  ..., -0.0242,  0.0126, -0.0155],\n",
            "       device='cuda:0', requires_grad=True), Parameter containing:\n",
            "tensor([[ 0.0025,  0.0006, -0.0051,  ..., -0.0134,  0.0053, -0.0160]],\n",
            "       device='cuda:0', requires_grad=True), Parameter containing:\n",
            "tensor([0.0129], device='cuda:0', requires_grad=True)]\n"
          ]
        }
      ],
      "source": [
        "#%%script echo skipping\n",
        "\n",
        "print(list(net.parameters()))"
      ]
    },
    {
      "cell_type": "code",
      "execution_count": 116,
      "metadata": {
        "id": "1NZ8iVA7UZio",
        "colab": {
          "base_uri": "https://localhost:8080/"
        },
        "outputId": "25d812f9-4e19-4b48-9ae0-a21c72baa76c"
      },
      "outputs": [
        {
          "output_type": "stream",
          "name": "stdout",
          "text": [
            "[Parameter containing:\n",
            "tensor([[ 0.1151,  0.1182,  0.2543,  ...,  0.1246, -0.0398, -0.1624],\n",
            "        [-0.1404, -0.1099, -0.1314,  ...,  0.0230,  0.1173, -0.0701],\n",
            "        [ 0.0182,  0.0883, -0.1452,  ...,  0.1079,  0.0421,  0.0744],\n",
            "        ...,\n",
            "        [-0.2490, -0.1353, -0.1351,  ...,  0.1454, -0.2442, -0.1272],\n",
            "        [-0.0135, -0.1815,  0.1677,  ..., -0.1438, -0.2395,  0.0528],\n",
            "        [ 0.1665, -0.2239,  0.0351,  ...,  0.2542,  0.1139, -0.2529]],\n",
            "       device='cuda:0', requires_grad=True), Parameter containing:\n",
            "tensor([ 0.0191, -0.1246, -0.0821,  ...,  0.0050,  0.1321, -0.1962],\n",
            "       device='cuda:0', requires_grad=True), Parameter containing:\n",
            "tensor([[ 0.0067, -0.0090, -0.0013,  ...,  0.0141,  0.0150,  0.0130],\n",
            "        [-0.0131, -0.0092, -0.0146,  ...,  0.0101,  0.0132, -0.0144],\n",
            "        [-0.0110,  0.0020,  0.0028,  ..., -0.0127,  0.0026, -0.0110],\n",
            "        ...,\n",
            "        [-0.0040,  0.0013,  0.0038,  ..., -0.0012,  0.0011, -0.0101],\n",
            "        [ 0.0139,  0.0008,  0.0014,  ..., -0.0138, -0.0083,  0.0016],\n",
            "        [ 0.0033, -0.0080,  0.0135,  ...,  0.0062,  0.0037,  0.0109]],\n",
            "       device='cuda:0', requires_grad=True), Parameter containing:\n",
            "tensor([-0.0089,  0.0090,  0.0121,  ...,  0.0043, -0.0021,  0.0033],\n",
            "       device='cuda:0', requires_grad=True), Parameter containing:\n",
            "tensor([[ 1.4967e-02,  1.0141e-02,  2.0608e-02,  ..., -4.7952e-03,\n",
            "          1.1519e-02,  4.4945e-04],\n",
            "        [ 5.2577e-03, -6.2918e-03,  4.2847e-03,  ...,  1.2395e-02,\n",
            "          2.4566e-03, -1.3813e-02],\n",
            "        [-5.1895e-03, -1.7285e-02,  1.2316e-02,  ..., -5.8506e-04,\n",
            "         -3.8300e-03, -1.3667e-02],\n",
            "        ...,\n",
            "        [-8.8042e-03, -2.8600e-03, -1.0547e-02,  ...,  1.6795e-02,\n",
            "          4.2376e-03, -1.0038e-02],\n",
            "        [ 1.4145e-02,  2.0130e-03, -5.6086e-04,  ...,  1.7288e-02,\n",
            "          1.9855e-02,  9.6848e-05],\n",
            "        [ 2.1346e-02, -1.5202e-02, -8.9700e-03,  ..., -3.7831e-03,\n",
            "         -4.5891e-03,  1.5690e-02]], device='cuda:0', requires_grad=True), Parameter containing:\n",
            "tensor([-0.0164, -0.0176,  0.0026,  ...,  0.0167,  0.0132,  0.0274],\n",
            "       device='cuda:0', requires_grad=True), Parameter containing:\n",
            "tensor([[ 0.0168, -0.0235, -0.0227,  ..., -0.0045,  0.0106,  0.0111],\n",
            "        [ 0.0004, -0.0275, -0.0120,  ..., -0.0141,  0.0109,  0.0219],\n",
            "        [-0.0240,  0.0207,  0.0258,  ..., -0.0089,  0.0075,  0.0185],\n",
            "        ...,\n",
            "        [ 0.0283,  0.0039, -0.0046,  ..., -0.0245,  0.0166,  0.0002],\n",
            "        [-0.0240,  0.0120,  0.0176,  ..., -0.0255, -0.0020, -0.0045],\n",
            "        [ 0.0014, -0.0232,  0.0005,  ...,  0.0087,  0.0148, -0.0005]],\n",
            "       device='cuda:0', requires_grad=True), Parameter containing:\n",
            "tensor([ 0.0351, -0.0037, -0.0133,  ..., -0.0120, -0.0070, -0.0127],\n",
            "       device='cuda:0', requires_grad=True), Parameter containing:\n",
            "tensor([[-0.0049,  0.0010, -0.0135,  ...,  0.0047, -0.0056, -0.0187],\n",
            "        [-0.0157, -0.0160,  0.0088,  ...,  0.0128,  0.0004, -0.0133],\n",
            "        [ 0.0043, -0.0118, -0.0086,  ...,  0.0145, -0.0118,  0.0033],\n",
            "        ...,\n",
            "        [-0.0017,  0.0150, -0.0161,  ...,  0.0182, -0.0044, -0.0059],\n",
            "        [ 0.0074,  0.0032, -0.0198,  ..., -0.0181, -0.0111, -0.0077],\n",
            "        [ 0.0048, -0.0047,  0.0141,  ..., -0.0003,  0.0087,  0.0187]],\n",
            "       device='cuda:0', requires_grad=True), Parameter containing:\n",
            "tensor([ 0.0044,  0.0082, -0.0259,  ..., -0.0242,  0.0126, -0.0155],\n",
            "       device='cuda:0', requires_grad=True), Parameter containing:\n",
            "tensor([[ 0.0025,  0.0006, -0.0051,  ..., -0.0134,  0.0053, -0.0160]],\n",
            "       device='cuda:0', requires_grad=True), Parameter containing:\n",
            "tensor([0.0129], device='cuda:0', requires_grad=True)]\n"
          ]
        }
      ],
      "source": [
        "print(list(net_loaded.parameters()))"
      ]
    },
    {
      "cell_type": "code",
      "execution_count": 117,
      "metadata": {
        "id": "InGW0Xq6UZip",
        "colab": {
          "base_uri": "https://localhost:8080/"
        },
        "outputId": "8414350b-559b-4d8f-b10e-7122dc048e28"
      },
      "outputs": [
        {
          "output_type": "stream",
          "name": "stdout",
          "text": [
            "rho.shape:  torch.Size([20])\n",
            "epsilon.shape:  torch.Size([20])\n"
          ]
        },
        {
          "output_type": "execute_result",
          "data": {
            "text/plain": [
              "tensor([[ 1.3122e-01,  3.6608e+00,  2.0823e+00,  2.3480e+00,  4.8193e+00,\n",
              "         -7.9139e-02,  2.1223e+00, -1.5595e+00,  1.0334e+00,  9.0998e-02,\n",
              "          4.2294e-02,  1.0314e+00,  9.5765e-02,  9.5186e-01],\n",
              "        [ 1.9301e+00,  2.4132e+01,  8.1505e+01,  3.5948e+01,  1.0450e+02,\n",
              "          7.1605e+00, -5.1002e+00,  8.2629e+00,  1.0310e+00,  4.6104e-02,\n",
              "          4.8921e-02,  9.9102e-01,  6.8934e-03,  9.8219e-01],\n",
              "        [ 3.4110e-01,  2.1725e+01,  2.1449e+00,  2.3983e+01,  3.5262e+01,\n",
              "          2.9275e+00, -5.2478e+00, -2.3285e+00,  9.0790e-01,  4.7001e-02,\n",
              "          6.9943e-03,  9.8586e-01,  8.0550e-02,  9.2822e-01],\n",
              "        [ 1.5163e-01,  1.9498e+01, -2.9240e+01,  5.2228e+01,  7.6333e+01,\n",
              "         -3.5657e+00, -9.1727e+00, -3.8812e+00,  1.0871e+00,  4.3754e-02,\n",
              "          9.0192e-02,  9.6421e-01,  4.1117e-02,  9.6938e-01],\n",
              "        [ 8.2218e-01, -2.7605e+01,  1.0337e+02,  2.9789e+00,  1.1793e+02,\n",
              "         -7.7605e+00, -2.0033e+00, -9.4338e+00,  9.6285e-01,  2.6084e-02,\n",
              "          2.0872e-02,  9.7631e-01,  2.3114e-03,  1.0372e+00],\n",
              "        [ 2.9236e+00,  5.7325e+01,  4.6536e+01,  9.7975e+00,  7.1694e+01,\n",
              "          2.8028e+00, -3.2017e+00,  5.7951e+00,  9.4057e-01,  6.6664e-02,\n",
              "          7.1314e-02,  1.0352e+00,  7.4034e-02,  1.0974e+00],\n",
              "        [ 2.0046e+00,  4.4893e+01,  2.2339e+01,  8.1402e+01,  9.2556e+01,\n",
              "          2.1859e+00, -9.8876e+00,  1.2710e+00,  1.0754e+00,  9.3530e-02,\n",
              "          8.7790e-03,  1.0175e+00,  8.9061e-03,  1.0203e+00],\n",
              "        [ 9.8274e-01,  1.6719e+01,  1.4696e+01,  5.3765e+01,  6.0612e+01,\n",
              "          5.2146e+00,  5.6605e+00, -2.6218e+00,  9.6000e-01,  7.9197e-02,\n",
              "          6.0010e-02,  9.0262e-01,  9.3369e-02,  9.1902e-01],\n",
              "        [ 3.5995e+00,  5.1913e+01,  3.6501e+01,  2.7671e+01,  6.3783e+01,\n",
              "          4.4257e+00, -8.5795e+00,  2.7493e+00,  1.0579e+00,  2.9205e-02,\n",
              "          7.7955e-02,  9.0676e-01,  6.8037e-02,  1.0840e+00],\n",
              "        [ 2.3177e+00,  1.5809e+01, -2.2193e+00,  1.7999e+01,  5.7650e+01,\n",
              "         -5.2033e+00, -8.2569e+00,  1.5478e+00,  9.4856e-01,  5.9892e-02,\n",
              "          3.3848e-02,  9.3813e-01,  8.5404e-02,  9.2567e-01],\n",
              "        [ 9.0136e-01,  6.1685e+00,  1.1634e+01,  1.6407e+01,  2.9653e+01,\n",
              "          3.1453e+00,  4.3085e+00, -4.4484e+00,  9.0119e-01,  5.2434e-02,\n",
              "          8.9428e-02,  9.5030e-01,  1.9664e-02,  1.0960e+00],\n",
              "        [ 2.5427e+00,  4.1984e+01,  2.0883e+01,  1.2173e+00,  4.9086e+01,\n",
              "         -4.0030e+00,  7.1767e+00,  3.7756e+00,  9.1991e-01,  9.6915e-02,\n",
              "          9.0389e-02,  9.8364e-01,  1.4625e-03,  9.6617e-01],\n",
              "        [ 1.1182e+00, -1.4437e+01,  7.5692e+00,  4.4372e+01,  5.1734e+01,\n",
              "          5.5772e+00,  6.8232e+00,  2.2970e-01,  1.0050e+00,  6.9482e-02,\n",
              "          5.2229e-03,  9.1368e-01,  2.3171e-02,  1.0208e+00],\n",
              "        [ 1.7467e-01,  1.0961e+01,  2.0125e+01,  1.3827e+01,  6.6408e+01,\n",
              "         -3.3393e-01,  6.5262e+00, -9.2853e+00,  9.3512e-01,  2.0010e-02,\n",
              "          3.8907e-02,  9.2717e-01,  7.7058e-02,  1.0482e+00],\n",
              "        [ 4.2428e-01,  1.3065e+02,  1.4473e+02,  2.2563e+01,  1.9525e+02,\n",
              "          8.8482e+00, -9.2980e+00,  8.4415e+00,  9.9177e-01,  3.5387e-03,\n",
              "          4.4458e-02,  1.0456e+00,  7.4558e-02,  1.0551e+00],\n",
              "        [ 3.4405e+00,  3.3944e+01,  6.2055e+01,  1.7237e+01,  6.7931e+01,\n",
              "         -5.0002e+00,  4.5691e+00, -1.9097e+00,  1.0095e+00,  6.6612e-02,\n",
              "          3.3395e-02,  1.0966e+00,  7.4891e-02,  1.0662e+00],\n",
              "        [ 2.0309e+00,  1.3019e+01,  1.0635e+01,  4.6673e+00,  1.7723e+01,\n",
              "         -7.9414e-01,  3.0339e+00, -4.9702e+00,  9.5433e-01,  9.9044e-02,\n",
              "          7.7207e-02,  1.0968e+00,  6.0086e-02,  1.0819e+00],\n",
              "        [ 2.5954e-01,  1.3166e+00, -5.2142e+00,  3.4852e+00,  4.6004e+01,\n",
              "          8.5926e+00,  2.9730e+00,  2.1564e+00,  1.0031e+00,  4.3205e-02,\n",
              "          4.7604e-02,  1.0864e+00,  7.3086e-02,  9.7593e-01],\n",
              "        [ 1.9052e+00,  5.7541e+00, -1.2803e+01,  9.1406e+01,  9.3214e+01,\n",
              "          6.2567e+00,  9.5056e+00,  1.0418e+00,  1.0885e+00,  1.6563e-02,\n",
              "          2.3970e-02,  1.0520e+00,  5.4574e-03,  1.0991e+00],\n",
              "        [ 2.2326e+00,  5.1755e+01,  8.3272e+01,  5.1136e+01,  1.3173e+02,\n",
              "          8.9953e+00, -9.4931e+00,  6.5633e+00,  9.4630e-01,  3.6709e-04,\n",
              "          2.4694e-02,  1.0333e+00,  3.1959e-02,  1.0706e+00]], device='cuda:0')"
            ]
          },
          "metadata": {},
          "execution_count": 117
        }
      ],
      "source": [
        "rho_example, epsilon_example, vx_example, vy_example, vz_example, Bx_example, By_example, Bz_example, gxx_example, gxy_example, gxz_example, gyy_example, gyz_example, gzz_example = generate_samples(20)\n",
        "\n",
        "inputs =  generate_input_data(rho_example, epsilon_example, vx_example, vy_example, vz_example, Bx_example, By_example, Bz_example, gxx_example, gxy_example, gxz_example, gyy_example, gyz_example, gzz_example)\n",
        "inputs\n"
      ]
    },
    {
      "cell_type": "code",
      "execution_count": 118,
      "metadata": {
        "id": "QVa1upmFUZip",
        "colab": {
          "base_uri": "https://localhost:8080/"
        },
        "outputId": "4b90452d-cff2-42d7-f0f1-fcf1b13623c0"
      },
      "outputs": [
        {
          "output_type": "execute_result",
          "data": {
            "text/plain": [
              "[tensor([[0.3433]], device='cuda:0', grad_fn=<AddmmBackward0>),\n",
              " tensor([[4.7854]], device='cuda:0', grad_fn=<AddmmBackward0>),\n",
              " tensor([[1.4970]], device='cuda:0', grad_fn=<AddmmBackward0>),\n",
              " tensor([[3.6694]], device='cuda:0', grad_fn=<AddmmBackward0>),\n",
              " tensor([[5.9776]], device='cuda:0', grad_fn=<AddmmBackward0>),\n",
              " tensor([[2.5731]], device='cuda:0', grad_fn=<AddmmBackward0>),\n",
              " tensor([[1.8474]], device='cuda:0', grad_fn=<AddmmBackward0>),\n",
              " tensor([[2.2327]], device='cuda:0', grad_fn=<AddmmBackward0>),\n",
              " tensor([[1.7071]], device='cuda:0', grad_fn=<AddmmBackward0>),\n",
              " tensor([[3.2954]], device='cuda:0', grad_fn=<AddmmBackward0>),\n",
              " tensor([[1.6379]], device='cuda:0', grad_fn=<AddmmBackward0>),\n",
              " tensor([[2.4672]], device='cuda:0', grad_fn=<AddmmBackward0>),\n",
              " tensor([[2.9797]], device='cuda:0', grad_fn=<AddmmBackward0>),\n",
              " tensor([[3.8156]], device='cuda:0', grad_fn=<AddmmBackward0>),\n",
              " tensor([[5.2553]], device='cuda:0', grad_fn=<AddmmBackward0>),\n",
              " tensor([[2.9602]], device='cuda:0', grad_fn=<AddmmBackward0>),\n",
              " tensor([[0.9732]], device='cuda:0', grad_fn=<AddmmBackward0>),\n",
              " tensor([[2.0356]], device='cuda:0', grad_fn=<AddmmBackward0>),\n",
              " tensor([[3.9977]], device='cuda:0', grad_fn=<AddmmBackward0>),\n",
              " tensor([[4.3026]], device='cuda:0', grad_fn=<AddmmBackward0>)]"
            ]
          },
          "metadata": {},
          "execution_count": 118
        }
      ],
      "source": [
        "#%%script echo skipping\n",
        "\n",
        "# Pass the inputs to the network and get the outputs\n",
        "outputs = [net(input.unsqueeze(0)) for input in inputs]\n",
        "# Print the outputs\n",
        "outputs"
      ]
    },
    {
      "cell_type": "code",
      "execution_count": 119,
      "metadata": {
        "id": "E-Xjfo7VUZir",
        "colab": {
          "base_uri": "https://localhost:8080/"
        },
        "outputId": "ee4d89c4-4619-4d18-b402-8ce6198a1a9d"
      },
      "outputs": [
        {
          "output_type": "execute_result",
          "data": {
            "text/plain": [
              "[tensor([[0.3433]], device='cuda:0', grad_fn=<AddmmBackward0>),\n",
              " tensor([[4.7854]], device='cuda:0', grad_fn=<AddmmBackward0>),\n",
              " tensor([[1.4970]], device='cuda:0', grad_fn=<AddmmBackward0>),\n",
              " tensor([[3.6694]], device='cuda:0', grad_fn=<AddmmBackward0>),\n",
              " tensor([[5.9776]], device='cuda:0', grad_fn=<AddmmBackward0>),\n",
              " tensor([[2.5731]], device='cuda:0', grad_fn=<AddmmBackward0>),\n",
              " tensor([[1.8474]], device='cuda:0', grad_fn=<AddmmBackward0>),\n",
              " tensor([[2.2327]], device='cuda:0', grad_fn=<AddmmBackward0>),\n",
              " tensor([[1.7071]], device='cuda:0', grad_fn=<AddmmBackward0>),\n",
              " tensor([[3.2954]], device='cuda:0', grad_fn=<AddmmBackward0>),\n",
              " tensor([[1.6379]], device='cuda:0', grad_fn=<AddmmBackward0>),\n",
              " tensor([[2.4672]], device='cuda:0', grad_fn=<AddmmBackward0>),\n",
              " tensor([[2.9797]], device='cuda:0', grad_fn=<AddmmBackward0>),\n",
              " tensor([[3.8156]], device='cuda:0', grad_fn=<AddmmBackward0>),\n",
              " tensor([[5.2553]], device='cuda:0', grad_fn=<AddmmBackward0>),\n",
              " tensor([[2.9602]], device='cuda:0', grad_fn=<AddmmBackward0>),\n",
              " tensor([[0.9732]], device='cuda:0', grad_fn=<AddmmBackward0>),\n",
              " tensor([[2.0356]], device='cuda:0', grad_fn=<AddmmBackward0>),\n",
              " tensor([[3.9977]], device='cuda:0', grad_fn=<AddmmBackward0>),\n",
              " tensor([[4.3026]], device='cuda:0', grad_fn=<AddmmBackward0>)]"
            ]
          },
          "metadata": {},
          "execution_count": 119
        }
      ],
      "source": [
        "\n",
        "# Pass the inputs to the network and get the outputs\n",
        "outputs = [net_loaded(input.unsqueeze(0)) for input in inputs]\n",
        "# Print the outputs\n",
        "outputs"
      ]
    },
    {
      "cell_type": "markdown",
      "metadata": {
        "id": "xjpIvdybUZis"
      },
      "source": [
        "## Porting the model to C++"
      ]
    },
    {
      "cell_type": "code",
      "execution_count": 120,
      "metadata": {
        "id": "VMlEd4RoUZis",
        "colab": {
          "base_uri": "https://localhost:8080/"
        },
        "outputId": "162a624c-a70b-4a1c-9c80-e767e037da12"
      },
      "outputs": [
        {
          "output_type": "execute_result",
          "data": {
            "text/plain": [
              "Net(\n",
              "  (hidden_activation): GELU(approximate='none')\n",
              "  (output_activation): Identity()\n",
              "  (layers): ModuleList(\n",
              "    (0): Linear(in_features=14, out_features=3887, bias=True)\n",
              "    (1): Linear(in_features=3887, out_features=2215, bias=True)\n",
              "    (2): Linear(in_features=2215, out_features=1213, bias=True)\n",
              "    (3): Linear(in_features=1213, out_features=1885, bias=True)\n",
              "    (4): Linear(in_features=1885, out_features=2831, bias=True)\n",
              "    (5): Linear(in_features=2831, out_features=1, bias=True)\n",
              "  )\n",
              "  (dropouts): ModuleList(\n",
              "    (0-4): 5 x Dropout(p=0.17041994834967367, inplace=False)\n",
              "  )\n",
              ")"
            ]
          },
          "metadata": {},
          "execution_count": 120
        },
        {
          "output_type": "stream",
          "name": "stderr",
          "text": [
            "<ipython-input-75-61389beeeffb>:62: TracerWarning: Converting a tensor to a Python boolean might cause the trace to be incorrect. We can't record the data flow of Python values, so this value will be treated as a constant in the future. This means that the trace might not generalize to other inputs!\n",
            "  assert x.shape[1] == N_INPUTS, f\"x must have shape (batch_size, {N_INPUTS})\"\n"
          ]
        },
        {
          "output_type": "stream",
          "name": "stdout",
          "text": [
            "rho.shape:  torch.Size([1])\n",
            "epsilon.shape:  torch.Size([1])\n",
            "input shape:  torch.Size([1, 14])\n",
            "input:  tensor([[ 1.0828, 26.1980, 20.2592,  9.1676, 33.1591, -1.1870,  2.8973, -4.5829,\n",
            "          0.9630,  0.0832,  0.0524,  1.0963,  0.0559,  0.9157]],\n",
            "       device='cuda:0')\n",
            "Output: tensor([[1.4969]], device='cuda:0', grad_fn=<AddmmBackward0>)\n"
          ]
        }
      ],
      "source": [
        "import torch.jit\n",
        "\n",
        "# Creating a dummy input tensor of shape (1, 5) to trace the model\n",
        "dummy_input = torch.randn(1, N_INPUTS).to(device)\n",
        "\n",
        "# Ensure that net_loaded is in evaluation mode.\n",
        "net_loaded.eval()\n",
        "\n",
        "# Tracing the model using the torch.jit.trace function\n",
        "traced_model = torch.jit.trace(net_loaded, dummy_input)\n",
        "\n",
        "# Saving the traced model to a file named \"net.pt\"\n",
        "traced_model.save(\"net.pt\")\n",
        "save_file(\"net.pt\")\n",
        "\n",
        "example_input_to_validate_correct_export_and_import = generate_input_data(*generate_samples(1))\n",
        "print(\"input shape: \", example_input_to_validate_correct_export_and_import.shape)\n",
        "print(\"input: \", example_input_to_validate_correct_export_and_import)\n",
        "print(\"Output:\", net_loaded(example_input_to_validate_correct_export_and_import))"
      ]
    }
  ],
  "metadata": {
    "accelerator": "GPU",
    "colab": {
      "gpuType": "T4",
      "provenance": []
    },
    "gpuClass": "standard",
    "kernelspec": {
      "display_name": "bsc",
      "language": "python",
      "name": "python3"
    },
    "language_info": {
      "codemirror_mode": {
        "name": "ipython",
        "version": 3
      },
      "file_extension": ".py",
      "mimetype": "text/x-python",
      "name": "python",
      "nbconvert_exporter": "python",
      "pygments_lexer": "ipython3",
      "version": "3.11.3"
    },
    "orig_nbformat": 4
  },
  "nbformat": 4,
  "nbformat_minor": 0
}