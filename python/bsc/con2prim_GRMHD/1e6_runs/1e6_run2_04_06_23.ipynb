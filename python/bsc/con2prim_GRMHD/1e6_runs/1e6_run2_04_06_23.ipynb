{
  "cells": [
    {
      "cell_type": "markdown",
      "metadata": {
        "id": "TPvB1xoSUZhR"
      },
      "source": [
        "# Neural network to learn conservative-to-primitive conversion in relativistic hydrodynamics"
      ]
    },
    {
      "cell_type": "markdown",
      "metadata": {
        "id": "kSSootVvvNT6"
      },
      "source": [
        "## How to use this notebook\n",
        "\n",
        "### Local installation\n",
        "\n",
        "1. Install required packages with `pip install -r requirements.txt` to your desired environment.\n",
        "2. If a script version of this notebook is desired, comment (not uncomment) the first line of `nbconvert` cell.\n",
        "\n",
        "### Colab installation\n",
        "\n",
        "1.  Comment (not uncomment) the first line of the drive mounting cell.\n",
        "2.  Comment (not uncomment) the first line of the `pip install` cell.\n",
        "\n",
        "<!-- - For colab we also want to set the runtime to GPU by clicking _Change runtime_ in the _Runtime_ menu, and -->\n",
        "<!-- - We want to wait for the google drive connection popup to appear and follow the instructions. -->\n",
        "\n",
        "### Loading / Generating data\n",
        "3. Set `LOAD_DATA_FROM_CSV` to `True` / `False` to load data from csv files / generate data in this notebook.\n",
        "\n",
        "### Training without optimization\n",
        "\n",
        "4. Set `OPTIMIZE = False` in section _Constants and flags to set_.\n",
        "5. Run the entire notebook.\n",
        "\n",
        "### Training with optimization\n",
        "\n",
        "4. Set `OPTIMIZE = True` in section _Constants and flags to set_.\n",
        "5. Run the entire notebook.\n",
        "\n",
        "### Loading an already trained model\n",
        "\n",
        "4. Run cells in section _Initialization_.\n",
        "5. Run cells with definitions in section _Input data and labels_.\n",
        "6. Run cell with the definition of _Net_ in section _Defining the neural network_.\n",
        "7. Make sure the `net.pth`, `optimizer.pth`, `scheduler.pth`, `var_dict.json` and `train_output.csv` files are in the directory containing this notebook.\n",
        "8. Run the cells in section _Loading_ and continue from there.\n",
        "\n",
        "### Generating the C++ model\n",
        "\n",
        "9. Run section _Porting the model to C++_, this requires a model to be loaded.\n",
        "10. Set the path to the `net.pt` file in the C++ source file.\n",
        "11. `mkdir build && cd build`,\n",
        "12. Configure a `CMakeLists.txt` file as is done [here](https://pytorch.org/cppdocs/installing.html).\n",
        "13. `cmake -DCMAKE_PREFIX_PATH=/path/to/libtorch/ ..`,\n",
        "14. Compile and run, e.g. `cmake --build . --config release && ./<executable name>`"
      ]
    },
    {
      "cell_type": "markdown",
      "metadata": {
        "id": "sRyeR8cxvNT6"
      },
      "source": [
        "## Initialization"
      ]
    },
    {
      "cell_type": "code",
      "source": [],
      "metadata": {
        "id": "ZA_nakH4z19z"
      },
      "execution_count": null,
      "outputs": []
    },
    {
      "cell_type": "code",
      "source": [],
      "metadata": {
        "id": "r9JGLlZu8Sj8"
      },
      "execution_count": null,
      "outputs": []
    },
    {
      "cell_type": "markdown",
      "metadata": {
        "id": "T0-BOmqKvNT7"
      },
      "source": [
        "\n",
        "Use this first cell to **convert this notebook** to a python script."
      ]
    },
    {
      "cell_type": "code",
      "execution_count": null,
      "metadata": {
        "colab": {
          "base_uri": "https://localhost:8080/"
        },
        "id": "eqdgdNLHUZhV",
        "outputId": "d33d8d7d-736b-4d8d-cc57-f90227ddbe46",
        "tags": [
          "remove_cell"
        ]
      },
      "outputs": [
        {
          "output_type": "stream",
          "name": "stdout",
          "text": [
            "skipping # NOTE: Set this before properly.\n"
          ]
        }
      ],
      "source": [
        "%%script echo skipping # NOTE: Set this before properly.\n",
        "\n",
        "!jupyter nbconvert GRMHD_ML.ipynb --TagRemovePreprocessor.enabled=True --TagRemovePreprocessor.remove_cell_tags='{\"remove_cell\"}' --to script"
      ]
    },
    {
      "cell_type": "markdown",
      "source": [],
      "metadata": {
        "id": "281MlJFx0u58"
      }
    },
    {
      "cell_type": "markdown",
      "metadata": {
        "id": "nzcUr0LnUZhw"
      },
      "source": [
        "Next some cells for working on **google colab**,"
      ]
    },
    {
      "cell_type": "code",
      "execution_count": null,
      "metadata": {
        "id": "FDEJ3kfkvNT8"
      },
      "outputs": [],
      "source": [
        "import os\n",
        "import shutil\n",
        "\n",
        "# check if the drive is mounted\n",
        "drive_mounted = os.path.exists(\"/content/drive\")\n",
        "# change this to your desired folder\n",
        "drive_folder = \"/content/drive/My Drive/bsc/con2prim_GRMHD/1e6_runs/1e6_run2_04_06_23\" # NOTE: Set this before properly.\n",
        "\n",
        "# define a function to save a file to the drive or the current directory\n",
        "def save_file(file_name):\n",
        "  if drive_mounted:\n",
        "    # save the file to the drive folder\n",
        "    file_path = os.path.join(drive_folder, file_name)\n",
        "    # copy the file from the current directory to the drive folder\n",
        "    shutil.copyfile(file_name, file_path)\n",
        "  else:\n",
        "    # do nothing as the file is already in the current directory\n",
        "    pass\n"
      ]
    },
    {
      "cell_type": "code",
      "execution_count": null,
      "metadata": {
        "id": "ecHw2_xlUZhx",
        "colab": {
          "base_uri": "https://localhost:8080/"
        },
        "outputId": "926b1519-79f5-40f3-b4d7-01a392a451cf"
      },
      "outputs": [
        {
          "output_type": "stream",
          "name": "stdout",
          "text": [
            "Drive already mounted at /content/drive; to attempt to forcibly remount, call drive.mount(\"/content/drive\", force_remount=True).\n"
          ]
        }
      ],
      "source": [
        "#%%script echo skipping # NOTE: Set this before properly.\n",
        "\n",
        "from google.colab import drive\n",
        "drive.mount('/content/drive')"
      ]
    },
    {
      "cell_type": "code",
      "execution_count": null,
      "metadata": {
        "id": "T1rcStMLUZhy",
        "colab": {
          "base_uri": "https://localhost:8080/"
        },
        "outputId": "c254ad50-161b-47a6-8584-cc2ba0f5183b"
      },
      "outputs": [
        {
          "output_type": "stream",
          "name": "stdout",
          "text": [
            "Looking in indexes: https://pypi.org/simple, https://us-python.pkg.dev/colab-wheels/public/simple/\n",
            "Requirement already satisfied: optuna in /usr/local/lib/python3.10/dist-packages (3.2.0)\n",
            "Requirement already satisfied: tensorboard in /usr/local/lib/python3.10/dist-packages (2.12.2)\n",
            "Requirement already satisfied: tensorboardX in /usr/local/lib/python3.10/dist-packages (2.6)\n",
            "Requirement already satisfied: plotly in /usr/local/lib/python3.10/dist-packages (5.13.1)\n",
            "Requirement already satisfied: alembic>=1.5.0 in /usr/local/lib/python3.10/dist-packages (from optuna) (1.11.1)\n",
            "Requirement already satisfied: cmaes>=0.9.1 in /usr/local/lib/python3.10/dist-packages (from optuna) (0.9.1)\n",
            "Requirement already satisfied: colorlog in /usr/local/lib/python3.10/dist-packages (from optuna) (6.7.0)\n",
            "Requirement already satisfied: numpy in /usr/local/lib/python3.10/dist-packages (from optuna) (1.22.4)\n",
            "Requirement already satisfied: packaging>=20.0 in /usr/local/lib/python3.10/dist-packages (from optuna) (23.1)\n",
            "Requirement already satisfied: sqlalchemy>=1.3.0 in /usr/local/lib/python3.10/dist-packages (from optuna) (2.0.10)\n",
            "Requirement already satisfied: tqdm in /usr/local/lib/python3.10/dist-packages (from optuna) (4.65.0)\n",
            "Requirement already satisfied: PyYAML in /usr/local/lib/python3.10/dist-packages (from optuna) (6.0)\n",
            "\u001b[33mWARNING: optuna 3.2.0 does not provide the extra 'visualization'\u001b[0m\u001b[33m\n",
            "\u001b[0mRequirement already satisfied: absl-py>=0.4 in /usr/local/lib/python3.10/dist-packages (from tensorboard) (1.4.0)\n",
            "Requirement already satisfied: grpcio>=1.48.2 in /usr/local/lib/python3.10/dist-packages (from tensorboard) (1.54.0)\n",
            "Requirement already satisfied: google-auth<3,>=1.6.3 in /usr/local/lib/python3.10/dist-packages (from tensorboard) (2.17.3)\n",
            "Requirement already satisfied: google-auth-oauthlib<1.1,>=0.5 in /usr/local/lib/python3.10/dist-packages (from tensorboard) (1.0.0)\n",
            "Requirement already satisfied: markdown>=2.6.8 in /usr/local/lib/python3.10/dist-packages (from tensorboard) (3.4.3)\n",
            "Requirement already satisfied: protobuf>=3.19.6 in /usr/local/lib/python3.10/dist-packages (from tensorboard) (3.20.3)\n",
            "Requirement already satisfied: requests<3,>=2.21.0 in /usr/local/lib/python3.10/dist-packages (from tensorboard) (2.27.1)\n",
            "Requirement already satisfied: setuptools>=41.0.0 in /usr/local/lib/python3.10/dist-packages (from tensorboard) (67.7.2)\n",
            "Requirement already satisfied: tensorboard-data-server<0.8.0,>=0.7.0 in /usr/local/lib/python3.10/dist-packages (from tensorboard) (0.7.0)\n",
            "Requirement already satisfied: tensorboard-plugin-wit>=1.6.0 in /usr/local/lib/python3.10/dist-packages (from tensorboard) (1.8.1)\n",
            "Requirement already satisfied: werkzeug>=1.0.1 in /usr/local/lib/python3.10/dist-packages (from tensorboard) (2.3.0)\n",
            "Requirement already satisfied: wheel>=0.26 in /usr/local/lib/python3.10/dist-packages (from tensorboard) (0.40.0)\n",
            "Requirement already satisfied: tenacity>=6.2.0 in /usr/local/lib/python3.10/dist-packages (from plotly) (8.2.2)\n",
            "Requirement already satisfied: Mako in /usr/local/lib/python3.10/dist-packages (from alembic>=1.5.0->optuna) (1.2.4)\n",
            "Requirement already satisfied: typing-extensions>=4 in /usr/local/lib/python3.10/dist-packages (from alembic>=1.5.0->optuna) (4.5.0)\n",
            "Requirement already satisfied: cachetools<6.0,>=2.0.0 in /usr/local/lib/python3.10/dist-packages (from google-auth<3,>=1.6.3->tensorboard) (5.3.0)\n",
            "Requirement already satisfied: pyasn1-modules>=0.2.1 in /usr/local/lib/python3.10/dist-packages (from google-auth<3,>=1.6.3->tensorboard) (0.3.0)\n",
            "Requirement already satisfied: six>=1.9.0 in /usr/local/lib/python3.10/dist-packages (from google-auth<3,>=1.6.3->tensorboard) (1.16.0)\n",
            "Requirement already satisfied: rsa<5,>=3.1.4 in /usr/local/lib/python3.10/dist-packages (from google-auth<3,>=1.6.3->tensorboard) (4.9)\n",
            "Requirement already satisfied: requests-oauthlib>=0.7.0 in /usr/local/lib/python3.10/dist-packages (from google-auth-oauthlib<1.1,>=0.5->tensorboard) (1.3.1)\n",
            "Requirement already satisfied: urllib3<1.27,>=1.21.1 in /usr/local/lib/python3.10/dist-packages (from requests<3,>=2.21.0->tensorboard) (1.26.15)\n",
            "Requirement already satisfied: certifi>=2017.4.17 in /usr/local/lib/python3.10/dist-packages (from requests<3,>=2.21.0->tensorboard) (2022.12.7)\n",
            "Requirement already satisfied: charset-normalizer~=2.0.0 in /usr/local/lib/python3.10/dist-packages (from requests<3,>=2.21.0->tensorboard) (2.0.12)\n",
            "Requirement already satisfied: idna<4,>=2.5 in /usr/local/lib/python3.10/dist-packages (from requests<3,>=2.21.0->tensorboard) (3.4)\n",
            "Requirement already satisfied: greenlet!=0.4.17 in /usr/local/lib/python3.10/dist-packages (from sqlalchemy>=1.3.0->optuna) (2.0.2)\n",
            "Requirement already satisfied: MarkupSafe>=2.1.1 in /usr/local/lib/python3.10/dist-packages (from werkzeug>=1.0.1->tensorboard) (2.1.2)\n",
            "Requirement already satisfied: pyasn1<0.6.0,>=0.4.6 in /usr/local/lib/python3.10/dist-packages (from pyasn1-modules>=0.2.1->google-auth<3,>=1.6.3->tensorboard) (0.5.0)\n",
            "Requirement already satisfied: oauthlib>=3.0.0 in /usr/local/lib/python3.10/dist-packages (from requests-oauthlib>=0.7.0->google-auth-oauthlib<1.1,>=0.5->tensorboard) (3.2.2)\n"
          ]
        }
      ],
      "source": [
        "#%%script echo skipping # NOTE: Set this before properly.\n",
        "\n",
        "!pip install optuna optuna[visualization] tensorboard tensorboardX plotly"
      ]
    },
    {
      "cell_type": "markdown",
      "metadata": {
        "id": "zhY12TG0vNT9"
      },
      "source": [
        "Importing the **libraries**,"
      ]
    },
    {
      "cell_type": "code",
      "execution_count": null,
      "metadata": {
        "id": "tREdWQUVUZhz"
      },
      "outputs": [],
      "source": [
        "import numpy as np\n",
        "import matplotlib.pyplot as plt\n",
        "import torch\n",
        "import torch.nn as nn\n",
        "import torch.optim as optim\n",
        "import torch.nn.functional as F\n",
        "import optuna\n",
        "import optuna.visualization as ov\n",
        "import tensorboardX as tbx\n",
        "import pandas as pd\n",
        "import pickle\n",
        "import json\n",
        "import pandas as pd\n"
      ]
    },
    {
      "cell_type": "markdown",
      "metadata": {
        "id": "38GvmerjUZhz"
      },
      "source": [
        "### Constants and flags to set\n",
        "Defining some constants and parameters for convenience.\n",
        "\n",
        "**NOTE**: Some **subparameters** still need to be adjusted in the `create_model` function itself as of (Tue May 16 07:42:45 AM CEST 2023) in the case the model is being trained without optimization."
      ]
    },
    {
      "cell_type": "code",
      "execution_count": null,
      "metadata": {
        "id": "ei6VZDYKUZh0"
      },
      "outputs": [],
      "source": [
        "\n",
        "# Checking if GPU is available and setting the device accordingly\n",
        "device = torch.device(\"cuda\" if torch.cuda.is_available() else \"cpu\")\n",
        "\n",
        "N_TRIALS = 250 # Number of trials for hyperparameter optimization # NOTE: Set this properly.\n",
        "OPTIMIZE = True # Whether to optimize the hyperparameters or to use predetermined values. # NOTE: Set this properly.\n",
        "ZSCORE_NORMALIZATION = False # Whether to z-score normalize the input data.\n",
        "LOAD_DATA_FROM_CSV = False  # If not true we generate the data in this file and save to {x_train,y_train,x_test,y_test}.csv, otherwise we load the data from files of the same name. # NOTE: Set this before properly.\n",
        "#STUDY_NAME = None\n",
        "STUDY_NAME = \"1e6_run2_04_06_23\" # NOTE: Set this before properly\n",
        "\n",
        "csv_filenames = { # File names to load input data and labels from if LOAD_DATA_FROM_CSV is True.\n",
        "    \"x_train\": \"x_train.csv\",\n",
        "    \"x_val\": \"x_val.csv\",\n",
        "    \"x_test\": \"x_test.csv\",\n",
        "    \"y_train\": \"y_train.csv\",\n",
        "    \"y_val\": \"y_val.csv\",\n",
        "    \"y_test\": \"y_test.csv\",\n",
        "}\n",
        "\n",
        "# Values to use for hyperparameters if OPTIMIZE is False; set these to the best parameters found by Optuna.\n",
        "# NOTE: TODO: Currently (Sat May 27 05:16:57 PM CEST 2023) there are still subparameters to be set in create_model function.\n",
        "N_LAYERS_NO_OPT = 3\n",
        "N_UNITS_NO_OPT = [555, 458, 115]\n",
        "HIDDEN_ACTIVATION_NAME_NO_OPT = \"LeakyReLU\"\n",
        "OUTPUT_ACTIVATION_NAME_NO_OPT = \"Linear\"\n",
        "LOSS_NAME_NO_OPT = \"Huber\"\n",
        "OPTIMIZER_NAME_NO_OPT = \"RMSprop\"\n",
        "LR_NO_OPT = 0.000122770896701404\n",
        "BATCH_SIZE_NO_OPT = 49\n",
        "N_EPOCHS_NO_OPT = 2 # NOTE: Set this properly.\n",
        "SCHEDULER_NAME_NO_OPT = \"ReduceLROnPlateau\"\n",
        "DROPOUT_RATE_NO_OPT = 0.2\n",
        "\n",
        "N_INPUTS = 14  # Number of input features.\n",
        "N_OUTPUTS = 1  # Number of outputs.\n",
        "Gamma = 5/3  # Adiabatic index\n",
        "\n",
        "n_samples = 1e6 # NOTE: Set this properly.\n",
        "train_frac = 0.7  # 70% of data for training\n",
        "val_frac = 0.15  # 15% of data for validation, rest for testing\n",
        "\n",
        "rho_interval = (0, 2) \n",
        "epsilon_interval = (1e-2, 2000)  # Will be sampled in log space\n",
        "vx_interval = (0, 0.999)  \n",
        "vy_interval = (0, 0.999)  \n",
        "vz_interval = (0, 0.999)  \n",
        "Bx_interval = (-10, 10)  \n",
        "By_interval = (-10, 10)  \n",
        "Bz_interval = (-10, 10)  \n",
        "gxx_interval = (0.9, 1.1)\n",
        "gxy_interval = (0, 0.1)\n",
        "gxz_interval = (0, 0.1)\n",
        "gyy_interval = (0.9, 1.1)\n",
        "gyz_interval = (0, 0.1)\n",
        "gzz_interval = (0.9, 1.1)\n",
        "\n",
        "np.random.seed(201) # Comment for true random data.\n"
      ]
    },
    {
      "cell_type": "markdown",
      "metadata": {
        "id": "dlaP5UL2UZh1"
      },
      "source": [
        "## Input data and labels\n",
        "\n",
        "We either generate the data or load the data. First the definitions for generating the data come below."
      ]
    },
    {
      "cell_type": "code",
      "execution_count": null,
      "metadata": {
        "id": "s_EvGFZcUZh1"
      },
      "outputs": [],
      "source": [
        "# Defining an analytic equation of state (EOS) for an ideal gas\n",
        "def eos_analytic(rho, epsilon):\n",
        "    # Adding some assertions to check that the input tensors are valid and have \n",
        "    # the expected shape and type \n",
        "    assert isinstance(rho, torch.Tensor), \"rho must be a torch.Tensor\"\n",
        "    assert isinstance(epsilon, torch.Tensor), \"epsilon must be a torch.Tensor\"\n",
        "    print('rho.shape: ', rho.shape)\n",
        "    print('epsilon.shape: ', epsilon.shape)\n",
        "    assert rho.shape == epsilon.shape, \"rho and epsilon must have the same shape\"\n",
        "    assert rho.ndim == 1, \"rho and epsilon must be one-dimensional tensors\"\n",
        "    assert rho.dtype == torch.float32, \"rho and epsilon must have dtype torch.float32\"\n",
        "\n",
        "    return (Gamma - 1) * rho * epsilon\n",
        "\n",
        "def sample_primitive_variables_and_metric():\n",
        "    rho = np.random.uniform(*rho_interval)  \n",
        "    epsilon = np.random.uniform(*np.log10(epsilon_interval))\n",
        "    vx = np.random.uniform(*vx_interval)  \n",
        "    vy = np.random.uniform(*vy_interval)  \n",
        "    vz = np.random.uniform(*vz_interval)  \n",
        "    Bx = np.random.uniform(*Bx_interval)  \n",
        "    By = np.random.uniform(*By_interval)  \n",
        "    Bz = np.random.uniform(*Bz_interval)  \n",
        "    gxx = np.random.uniform(*gxx_interval)\n",
        "    gxy = np.random.uniform(*gxy_interval)\n",
        "    gxz = np.random.uniform(*gxz_interval)\n",
        "    gyy = np.random.uniform(*gyy_interval)\n",
        "    gyz = np.random.uniform(*gyz_interval)\n",
        "    gzz = np.random.uniform(*gzz_interval)\n",
        "\n",
        "    return rho, epsilon, vx, vy, vz, Bx, By, Bz, gxx, gxy, gxz, gyy, gyz, gzz\n",
        "\n",
        "def check_sample(rho, epsilon, vx, vy, vz, Bx, By, Bz, gxx, gxy, gxz, gyy, gyz, gzz):\n",
        "    wtemp_expr = 1 - (gxx * vx**2 + gyy * vy**2 + gzz * vz**2 + 2 * gxy * vx * vy + 2 * gxz * vx * vz + 2 * gyz * vy * vz)\n",
        "    sdet_expr = gxx * gyy * gzz + 2 * gxy * gxz * gyz - gxx * gyz ** 2 - gyy * gxz ** 2 - gzz * gxy ** 2\n",
        "    if vx**2 + vy**2 + vz**2 >= 1 or wtemp_expr < 0 or sdet_expr < 0:\n",
        "        # print(f\"Sample failed checks. vx^2+vy^2+vz^2: {vx**2 + vy**2 + vz**2}, wtemp_expr: {wtemp_expr}, sdet_expr: {sdet_expr}\")\n",
        "        return False\n",
        "    else:\n",
        "        # print(f\"Sample passed checks. vx^2+vy^2+vz^2: {vx**2 + vy**2 + vz**2}, wtemp_expr: {wtemp_expr}, sdet_expr: {sdet_expr}\")\n",
        "        return True\n",
        "\n",
        "def generate_samples(n_samples):\n",
        "    samples = []\n",
        "    while len(samples) < n_samples:\n",
        "        sample = sample_primitive_variables_and_metric()\n",
        "        if check_sample(*sample):\n",
        "            samples.append(sample)\n",
        "        # print(f\"Number of valid samples: {len(samples)}\")\n",
        "    return zip(*samples)\n",
        "def sdet(gxx, gxy, gxz, gyy, gyz, gzz):\n",
        "    # Determinant of the three metric.\n",
        "    return (gxx * gyy * gzz + 2 * gxy * gxz * gyz - gxx * gyz ** 2 - gyy * gxz ** 2 - gzz * gxy ** 2) ** 0.5\n",
        "\n",
        "# Defining a function that computes conserved variables from primitive variables and the metric\n",
        "# We follow the source code of GRaM-X: A new GPU-accelerated dynamical spacetime GRMHD code for Exascale\n",
        "# computing with the Einstein Toolkit of Shankar et al.\n",
        "def compute_conserved_variables(rho, epsilon, vx, vy, vz, Bx, By, Bz, gxx, gxy, gxz, gyy, gyz, gzz):\n",
        "    pres = eos_analytic(rho, epsilon)\n",
        "    wtemp = 1 / (1 - (gxx * vx**2 + gyy * vy**2 + gzz * vz**2 +\n",
        "        2 * gxy * vx * vy + 2 * gxz * vx * vz +\n",
        "        2 * gyz * vy * vz))**0.5\n",
        "\n",
        "    vlowx = gxx * vx + gxy * vy + gxz * vz\n",
        "    vlowy = gxy * vx + gyy * vy + gyz * vz\n",
        "    vlowz = gxz * vx + gyz * vy + gzz * vz\n",
        "\n",
        "    Bxlow = gxx * Bx + gxy * By + gxz * Bz\n",
        "    Bylow = gxy * Bx + gyy * By + gyz * Bz\n",
        "    Bzlow = gxz * Bx + gyz * By + gzz * Bz\n",
        "\n",
        "    B2 = Bxlow * Bx + Bylow * By + Bzlow * Bz\n",
        "\n",
        "    Bdotv = Bxlow * vx + Bylow * vy + Bzlow * vz\n",
        "    Bdotv2 = Bdotv * Bdotv\n",
        "    wtemp2 = wtemp * wtemp\n",
        "    b2 = B2 / wtemp2 + Bdotv2\n",
        "    ab0 = wtemp * Bdotv\n",
        "\n",
        "    blowx = (gxx * Bx + gxy * By + gxz * Bz) / wtemp + wtemp * Bdotv * vlowx\n",
        "    blowy = (gxy * Bx + gyy * By + gyz * Bz) / wtemp + wtemp * Bdotv * vlowy\n",
        "    blowz = (gxz * Bx + gyz * By + gzz * Bz) / wtemp + wtemp * Bdotv * vlowz\n",
        "\n",
        "    hrhow2 = (rho * (1 + epsilon) + pres + b2) * (wtemp) * (wtemp)\n",
        "\n",
        "    D = sdet(gxx, gxy, gxz, gyy, gyz, gzz) * rho * (wtemp)\n",
        "    Sx = sdet(gxx, gxy, gxz, gyy, gyz, gzz) * (hrhow2 * vlowx - ab0 * blowx)\n",
        "    Sy = sdet(gxx, gxy, gxz, gyy, gyz, gzz) * (hrhow2 * vlowy - ab0 * blowy)\n",
        "    Sz = sdet(gxx, gxy, gxz, gyy, gyz, gzz) * (hrhow2 * vlowz - ab0 * blowz)\n",
        "    tau = sdet(gxx, gxy, gxz, gyy, gyz, gzz) * (hrhow2 - pres - b2 / 2 - ab0 * ab0) - D\n",
        "    Bconsx = sdet(gxx, gxy, gxz, gyy, gyz, gzz) * Bx\n",
        "    Bconsy = sdet(gxx, gxy, gxz, gyy, gyz, gzz) * By\n",
        "    Bconsz = sdet(gxx, gxy, gxz, gyy, gyz, gzz) * Bz\n",
        "\n",
        "    return D, Sx, Sy, Sz, tau, Bconsx, Bconsy, Bconsz\n",
        "\n",
        "def generate_input_data(rho, epsilon, vx, vy, vz, Bx, By, Bz, gxx, gxy, gxz, gyy, gyz, gzz):\n",
        "    rho = torch.tensor(np.array(rho), dtype=torch.float32).to(device)\n",
        "    epsilon = torch.tensor(np.array(epsilon), dtype=torch.float32).to(device)\n",
        "    vx = torch.tensor(np.array(vx), dtype=torch.float32).to(device)\n",
        "    vy = torch.tensor(np.array(vy), dtype=torch.float32).to(device)\n",
        "    vz = torch.tensor(np.array(vz), dtype=torch.float32).to(device)\n",
        "    Bx = torch.tensor(np.array(Bx), dtype=torch.float32).to(device)\n",
        "    By = torch.tensor(np.array(By), dtype=torch.float32).to(device)\n",
        "    Bz = torch.tensor(np.array(Bz), dtype=torch.float32).to(device)\n",
        "    gxx = torch.tensor(np.array(gxx), dtype=torch.float32).to(device)\n",
        "    gxy = torch.tensor(np.array(gxy), dtype=torch.float32).to(device)\n",
        "    gxz = torch.tensor(np.array(gxz), dtype=torch.float32).to(device)\n",
        "    gyy = torch.tensor(np.array(gyy), dtype=torch.float32).to(device)\n",
        "    gyz = torch.tensor(np.array(gyz), dtype=torch.float32).to(device)\n",
        "    gzz = torch.tensor(np.array(gzz), dtype=torch.float32).to(device)\n",
        "\n",
        "    D, Sx, Sy, Sz, tau, Bscriptx, Bscripty, Bscriptz = compute_conserved_variables(\n",
        "        rho, epsilon, vx, vy, vz, Bx, By, Bz, gxx, gxy, gxz, gyy, gyz, gzz\n",
        "    ) \n",
        "\n",
        "    # Add gxx, gxy, gxz, gyy, gyz, gzz to the tensor\n",
        "    x = torch.stack([D, Sx, Sy, Sz, tau, Bscriptx, Bscripty, Bscriptz, gxx, gxy, gxz, gyy, gyz, gzz], axis=1)\n",
        "    return x\n",
        "\n",
        "# Defining a function that generates output data (labels) from given samples of primitive variables\n",
        "# We use the definitions as given in Recovery schemes for primitive variables in\n",
        "# general-relativistic magnetohydrodynamics of Siegel et al.\n",
        "def generate_labels(rho, epsilon, vx, vy, vz):\n",
        "    # Converting the numpy arrays to torch tensors and moving them to the device\n",
        "    rho = torch.tensor(np.array(rho), dtype=torch.float32).to(device)\n",
        "    epsilon = torch.tensor(np.array(epsilon), dtype=torch.float32).to(device)\n",
        "    vx = torch.tensor(np.array(vx), dtype=torch.float32).to(device)\n",
        "    vy = torch.tensor(np.array(vy), dtype=torch.float32).to(device)\n",
        "    vz = torch.tensor(np.array(vz), dtype=torch.float32).to(device)\n",
        "\n",
        "    # Computing the required quantities\n",
        "    pres = eos_analytic(rho, epsilon)\n",
        "    h = 1 + epsilon + pres / rho\n",
        "    W = 1 / torch.sqrt(1 - (vx * vx + vy * vy + vz * vz))\n",
        "\n",
        "    # Returning the output data tensor\n",
        "    return h * W"
      ]
    },
    {
      "cell_type": "markdown",
      "metadata": {
        "id": "coA6xKXnvNT_"
      },
      "source": [
        "### Generating or loading input data and labels"
      ]
    },
    {
      "cell_type": "code",
      "execution_count": null,
      "metadata": {
        "id": "kGrAL2GPvNT_"
      },
      "outputs": [],
      "source": [
        "%config InteractiveShell.ast_node_interactivity = \"all\""
      ]
    },
    {
      "cell_type": "code",
      "execution_count": null,
      "metadata": {
        "id": "cKubR6C8UZh4"
      },
      "outputs": [],
      "source": [
        "if LOAD_DATA_FROM_CSV:\n",
        "    # Load the data from CSV files\n",
        "    x_train = pd.read_csv(csv_filenames[\"x_train\"]).values\n",
        "    y_train = pd.read_csv(csv_filenames[\"y_train\"]).values.squeeze()  # reshape to 1D\n",
        "    x_val = pd.read_csv(csv_filenames[\"x_val\"]).values\n",
        "    y_val = pd.read_csv(csv_filenames[\"y_val\"]).values.squeeze()  # reshape to 1D\n",
        "    x_test = pd.read_csv(csv_filenames[\"x_test\"]).values\n",
        "    y_test = pd.read_csv(csv_filenames[\"y_test\"]).values.squeeze()  # reshape to 1D\n",
        "\n",
        "    # Convert numpy arrays to tensors\n",
        "    x_train = torch.from_numpy(x_train).float().to(device)\n",
        "    y_train = torch.from_numpy(y_train).float().to(device)\n",
        "    x_val = torch.from_numpy(x_val).float().to(device)\n",
        "    y_val = torch.from_numpy(y_val).float().to(device)\n",
        "    x_test = torch.from_numpy(x_test).float().to(device)\n",
        "    y_test = torch.from_numpy(y_test).float().to(device)\n",
        "\n",
        "    # This is an alternative to having if clauses around the cells that visualize these variables.\n",
        "    rho = epsilon = vx = vy = vz = Bx = By = Bz = gxx = gxy = gxz = gyy = gyz  = gzz = None"
      ]
    },
    {
      "cell_type": "code",
      "execution_count": null,
      "metadata": {
        "id": "H-tpHYP7vNUA"
      },
      "outputs": [],
      "source": [
        "if not LOAD_DATA_FROM_CSV:\n",
        "    # Sample primitive variables and metric\n",
        "    rho, epsilon, vx, vy, vz, Bx, By, Bz, gxx, gxy, gxz, gyy, gyz, gzz = generate_samples(n_samples)"
      ]
    },
    {
      "cell_type": "code",
      "execution_count": null,
      "metadata": {
        "id": "tc0wCfkBvNUA",
        "colab": {
          "base_uri": "https://localhost:8080/"
        },
        "outputId": "55ad0fc7-6baa-49c0-cf13-1176198acf8c"
      },
      "outputs": [
        {
          "output_type": "stream",
          "name": "stdout",
          "text": [
            "rho.shape:  torch.Size([1000000])\n",
            "epsilon.shape:  torch.Size([1000000])\n",
            "rho.shape:  torch.Size([1000000])\n",
            "epsilon.shape:  torch.Size([1000000])\n"
          ]
        }
      ],
      "source": [
        "if not LOAD_DATA_FROM_CSV:\n",
        "    # Generate data and labels.\n",
        "    x = generate_input_data(rho, epsilon, vx, vy, vz, Bx, By, Bz, gxx, gxy, gxz, gyy, gyz, gzz)\n",
        "    y = generate_labels(rho, epsilon, vx, vy, vz)\n",
        "\n",
        "    # Calculate the number of samples in each set\n",
        "    n_train_samples = int(n_samples * train_frac)\n",
        "    n_val_samples = int(n_samples * val_frac)\n",
        "\n",
        "    # Create the data sets\n",
        "    x_train = x[:n_train_samples]\n",
        "    y_train = y[:n_train_samples]\n",
        "    x_val = x[n_train_samples : n_train_samples + n_val_samples]\n",
        "    y_val = y[n_train_samples : n_train_samples + n_val_samples]\n",
        "    x_test = x[n_train_samples + n_val_samples :]\n",
        "    y_test = y[n_train_samples + n_val_samples :]\n",
        "\n",
        "    # Save the data to CSV files; tensors need to be converted numpy arrays for saving in CSV.\n",
        "    pd.DataFrame(x_train.cpu().numpy()).to_csv(csv_filenames[\"x_train\"], index=False)\n",
        "    save_file(csv_filenames[\"x_train\"])\n",
        "    pd.DataFrame(y_train.cpu().numpy()).to_csv(csv_filenames[\"y_train\"], index=False)\n",
        "    save_file(csv_filenames[\"y_train\"])\n",
        "\n",
        "    pd.DataFrame(x_val.cpu().numpy()).to_csv(csv_filenames[\"x_val\"], index=False)\n",
        "    save_file(csv_filenames[\"x_val\"])\n",
        "    pd.DataFrame(y_val.cpu().numpy()).to_csv(csv_filenames[\"y_val\"], index=False)\n",
        "    save_file(csv_filenames[\"y_val\"])\n",
        "\n",
        "    pd.DataFrame(x_test.cpu().numpy()).to_csv(csv_filenames[\"x_test\"], index=False)\n",
        "    save_file(csv_filenames[\"x_test\"])\n",
        "    pd.DataFrame(y_test.cpu().numpy()).to_csv(csv_filenames[\"y_test\"], index=False)\n",
        "    save_file(csv_filenames[\"y_test\"])"
      ]
    },
    {
      "cell_type": "code",
      "execution_count": null,
      "metadata": {
        "id": "tHe1BJufvNUA",
        "colab": {
          "base_uri": "https://localhost:8080/"
        },
        "outputId": "45d789d8-6118-45d2-a4f0-2433e9a3209a"
      },
      "outputs": [
        {
          "output_type": "execute_result",
          "data": {
            "text/plain": [
              "torch.Size([700000, 14])"
            ]
          },
          "metadata": {},
          "execution_count": 53
        },
        {
          "output_type": "execute_result",
          "data": {
            "text/plain": [
              "torch.Size([700000])"
            ]
          },
          "metadata": {},
          "execution_count": 53
        },
        {
          "output_type": "execute_result",
          "data": {
            "text/plain": [
              "torch.Size([150000, 14])"
            ]
          },
          "metadata": {},
          "execution_count": 53
        },
        {
          "output_type": "execute_result",
          "data": {
            "text/plain": [
              "torch.Size([150000])"
            ]
          },
          "metadata": {},
          "execution_count": 53
        },
        {
          "output_type": "execute_result",
          "data": {
            "text/plain": [
              "torch.Size([150000, 14])"
            ]
          },
          "metadata": {},
          "execution_count": 53
        },
        {
          "output_type": "execute_result",
          "data": {
            "text/plain": [
              "torch.Size([150000])"
            ]
          },
          "metadata": {},
          "execution_count": 53
        },
        {
          "output_type": "execute_result",
          "data": {
            "text/plain": [
              "tensor([[ 2.2416e+00, -4.1276e+01,  5.4845e+01,  ...,  9.5829e-01,\n",
              "          3.0373e-02,  1.0968e+00],\n",
              "        [ 5.7920e-01,  1.0544e+01,  4.7224e+01,  ...,  1.0076e+00,\n",
              "          4.3843e-02,  9.7284e-01],\n",
              "        [ 1.0667e+01,  1.0495e+02,  2.2001e+02,  ...,  9.4778e-01,\n",
              "          1.6280e-02,  9.9896e-01],\n",
              "        ...,\n",
              "        [ 2.6718e-01,  2.6022e+00,  6.7899e-01,  ...,  9.2122e-01,\n",
              "          2.0860e-03,  9.2352e-01],\n",
              "        [ 2.9025e-01,  3.3665e+01,  2.2585e+01,  ...,  1.0000e+00,\n",
              "          4.4813e-02,  9.0850e-01],\n",
              "        [ 1.7131e+00, -2.8636e+01,  2.0314e+01,  ...,  9.7606e-01,\n",
              "          2.6053e-02,  9.8860e-01]], device='cuda:0')"
            ]
          },
          "metadata": {},
          "execution_count": 53
        },
        {
          "output_type": "execute_result",
          "data": {
            "text/plain": [
              "tensor([ 4.9466, -0.6842,  8.8784,  ...,  8.0753, 11.2662, -3.7095],\n",
              "       device='cuda:0')"
            ]
          },
          "metadata": {},
          "execution_count": 53
        },
        {
          "output_type": "execute_result",
          "data": {
            "text/plain": [
              "tensor([[2.2576e+00, 6.4574e+00, 1.6271e+01,  ..., 1.0417e+00, 5.8247e-02,\n",
              "         9.3002e-01],\n",
              "        [2.5917e+00, 4.6769e+00, 2.5879e+01,  ..., 9.0345e-01, 2.9888e-02,\n",
              "         9.4627e-01],\n",
              "        [1.5584e+00, 5.8581e+01, 4.2509e+01,  ..., 9.5014e-01, 1.4175e-02,\n",
              "         1.0787e+00],\n",
              "        ...,\n",
              "        [1.5373e+00, 3.6757e+01, 2.8103e+01,  ..., 9.8180e-01, 3.1622e-03,\n",
              "         9.6351e-01],\n",
              "        [2.5592e-01, 3.0652e+01, 2.0422e+01,  ..., 9.7630e-01, 4.7801e-02,\n",
              "         9.2695e-01],\n",
              "        [1.3163e+00, 5.9068e+00, 6.2812e-02,  ..., 1.0764e+00, 5.7826e-02,\n",
              "         9.4769e-01]], device='cuda:0')"
            ]
          },
          "metadata": {},
          "execution_count": 53
        },
        {
          "output_type": "execute_result",
          "data": {
            "text/plain": [
              "tensor([ 3.1958,  5.3674,  6.6726,  ...,  7.4279, -1.0047,  5.4823],\n",
              "       device='cuda:0')"
            ]
          },
          "metadata": {},
          "execution_count": 53
        },
        {
          "output_type": "execute_result",
          "data": {
            "text/plain": [
              "tensor([[ 2.6566e+00,  2.7765e+01, -2.3509e+01,  ...,  1.0890e+00,\n",
              "          8.2183e-02,  9.8187e-01],\n",
              "        [ 2.9564e+00,  8.6175e-01,  4.1731e+01,  ...,  1.0856e+00,\n",
              "          3.1820e-02,  1.0554e+00],\n",
              "        [ 7.2430e-01,  1.4875e+01,  2.3189e+01,  ...,  9.6242e-01,\n",
              "          2.6428e-02,  1.0875e+00],\n",
              "        ...,\n",
              "        [ 2.0303e+00,  9.4962e+00,  2.4472e+01,  ...,  9.9647e-01,\n",
              "          9.1365e-02,  9.6979e-01],\n",
              "        [ 2.5791e+00,  6.8013e+00,  5.1174e+01,  ...,  1.0249e+00,\n",
              "          5.8964e-02,  9.3946e-01],\n",
              "        [ 5.1911e-01, -5.1917e+01,  5.2865e+01,  ...,  1.0287e+00,\n",
              "          6.9805e-02,  1.0750e+00]], device='cuda:0')"
            ]
          },
          "metadata": {},
          "execution_count": 53
        },
        {
          "output_type": "execute_result",
          "data": {
            "text/plain": [
              "tensor([-1.0409, -2.9612,  1.1713,  ..., -5.4480,  0.3419, -1.3090],\n",
              "       device='cuda:0')"
            ]
          },
          "metadata": {},
          "execution_count": 53
        }
      ],
      "source": [
        "\n",
        "x_train.shape\n",
        "y_train.shape\n",
        "x_val.shape\n",
        "y_val.shape\n",
        "x_test.shape\n",
        "y_test.shape\n",
        "x_train\n",
        "y_train\n",
        "x_val\n",
        "y_val\n",
        "x_test\n",
        "y_test"
      ]
    },
    {
      "cell_type": "code",
      "execution_count": null,
      "metadata": {
        "id": "FJH7xxePvNUA",
        "colab": {
          "base_uri": "https://localhost:8080/"
        },
        "outputId": "94c2ac08-fb19-4279-8118-4d11d055d138"
      },
      "outputs": [
        {
          "output_type": "execute_result",
          "data": {
            "text/plain": [
              "tensor(False, device='cuda:0')"
            ]
          },
          "metadata": {},
          "execution_count": 54
        },
        {
          "output_type": "execute_result",
          "data": {
            "text/plain": [
              "tensor(False, device='cuda:0')"
            ]
          },
          "metadata": {},
          "execution_count": 54
        },
        {
          "output_type": "execute_result",
          "data": {
            "text/plain": [
              "tensor(False, device='cuda:0')"
            ]
          },
          "metadata": {},
          "execution_count": 54
        },
        {
          "output_type": "execute_result",
          "data": {
            "text/plain": [
              "tensor(False, device='cuda:0')"
            ]
          },
          "metadata": {},
          "execution_count": 54
        },
        {
          "output_type": "execute_result",
          "data": {
            "text/plain": [
              "tensor(False, device='cuda:0')"
            ]
          },
          "metadata": {},
          "execution_count": 54
        },
        {
          "output_type": "execute_result",
          "data": {
            "text/plain": [
              "tensor(False, device='cuda:0')"
            ]
          },
          "metadata": {},
          "execution_count": 54
        }
      ],
      "source": [
        "torch.isnan(x_train).any()\n",
        "torch.isnan(x_val).any()\n",
        "torch.isnan(x_test).any()\n",
        "torch.isnan(y_train).any()\n",
        "torch.isnan(y_val).any()\n",
        "torch.isnan(y_test).any()"
      ]
    },
    {
      "cell_type": "code",
      "execution_count": null,
      "metadata": {
        "id": "TR8mT_7GvNUB",
        "colab": {
          "base_uri": "https://localhost:8080/"
        },
        "outputId": "eb80ce20-d370-4f44-cdb6-a965be2d61dc"
      },
      "outputs": [
        {
          "output_type": "execute_result",
          "data": {
            "text/plain": [
              "(tensor([], device='cuda:0', dtype=torch.int64),\n",
              " tensor([], device='cuda:0', dtype=torch.int64))"
            ]
          },
          "metadata": {},
          "execution_count": 55
        },
        {
          "output_type": "execute_result",
          "data": {
            "text/plain": [
              "(tensor([], device='cuda:0', dtype=torch.int64),\n",
              " tensor([], device='cuda:0', dtype=torch.int64))"
            ]
          },
          "metadata": {},
          "execution_count": 55
        },
        {
          "output_type": "execute_result",
          "data": {
            "text/plain": [
              "(tensor([], device='cuda:0', dtype=torch.int64),\n",
              " tensor([], device='cuda:0', dtype=torch.int64))"
            ]
          },
          "metadata": {},
          "execution_count": 55
        }
      ],
      "source": [
        "nan_mask_train = torch.isnan(x_train)     # get a boolean mask indicating NaN values\n",
        "nan_indices_train = torch.where(nan_mask_train)  # get the indices of the NaN values\n",
        "nan_indices_train\n",
        "# len(nan_indices_train)\n",
        "\n",
        "nan_mask_val = torch.isnan(x_val)     # get a boolean mask indicating NaN values\n",
        "nan_indices_val = torch.where(nan_mask_val)  # get the indices of the NaN values\n",
        "nan_indices_val\n",
        "# len(nan_indices_test)\n",
        "\n",
        "nan_mask_test = torch.isnan(x_test)     # get a boolean mask indicating NaN values\n",
        "nan_indices_test = torch.where(nan_mask_test)  # get the indices of the NaN values\n",
        "nan_indices_test\n",
        "# len(nan_indices_test)"
      ]
    },
    {
      "cell_type": "markdown",
      "metadata": {
        "id": "yZoWhvhGvNUB"
      },
      "source": [
        "## Visualizing the data"
      ]
    },
    {
      "cell_type": "markdown",
      "metadata": {
        "id": "0VfFIC8svNUB"
      },
      "source": [
        "### Visualizing sampled data"
      ]
    },
    {
      "cell_type": "code",
      "execution_count": null,
      "metadata": {
        "id": "sHYWG-5EvNUB",
        "colab": {
          "base_uri": "https://localhost:8080/"
        },
        "outputId": "0a86a93d-e90c-41af-ea3d-27edfb2733a7"
      },
      "outputs": [
        {
          "output_type": "stream",
          "name": "stdout",
          "text": [
            "skipping\n"
          ]
        }
      ],
      "source": [
        "%%script echo skipping\n",
        "\n",
        "if not LOAD_DATA_FROM_CSV:\n",
        "    rho\n",
        "    epsilon\n",
        "    vx\n",
        "    vy\n",
        "    vz \n",
        "    Bx\n",
        "    By\n",
        "    Bz\n",
        "    gxx\n",
        "    gxy\n",
        "    gxz\n",
        "    gyy\n",
        "    gyz\n",
        "    gzz "
      ]
    },
    {
      "cell_type": "code",
      "execution_count": null,
      "metadata": {
        "id": "tzHqA-navNUB",
        "colab": {
          "base_uri": "https://localhost:8080/"
        },
        "outputId": "12334532-6bec-4574-ebaf-c304cbf7942e"
      },
      "outputs": [
        {
          "output_type": "stream",
          "name": "stdout",
          "text": [
            "1000000\n",
            "1000000\n",
            "1000000\n",
            "1000000\n",
            "1000000\n",
            "1000000\n",
            "1000000\n",
            "1000000\n",
            "\n",
            "1000000\n",
            "1000000\n",
            "1000000\n",
            "1000000\n",
            "1000000\n",
            "1000000\n"
          ]
        }
      ],
      "source": [
        "if not LOAD_DATA_FROM_CSV:\n",
        "    print(len(rho))\n",
        "    print(len(epsilon))\n",
        "    print(len(vx))\n",
        "    print(len(vy))\n",
        "    print(len(vz))\n",
        "    print(len(Bx))\n",
        "    print(len(By))\n",
        "    print(len(Bz))\n",
        "    print()\n",
        "    print(len(gxx))\n",
        "    print(len(gxy))\n",
        "    print(len(gxz))\n",
        "    print(len(gyy))\n",
        "    print(len(gyz))\n",
        "    print(len(gzz))"
      ]
    },
    {
      "cell_type": "code",
      "execution_count": null,
      "metadata": {
        "id": "VMp6XJ6RUZh4"
      },
      "outputs": [],
      "source": [
        "%config InteractiveShell.ast_node_interactivity = \"last_expr_or_assign\""
      ]
    },
    {
      "cell_type": "code",
      "execution_count": null,
      "metadata": {
        "id": "tQlaerBDvNUC",
        "colab": {
          "base_uri": "https://localhost:8080/"
        },
        "outputId": "679bbc53-5491-4e57-bc33-3592433d6009"
      },
      "outputs": [
        {
          "output_type": "stream",
          "name": "stdout",
          "text": [
            "skipping\n"
          ]
        }
      ],
      "source": [
        "%%script echo skipping\n",
        "\n",
        "plt.hist([np.random.uniform(0, 0.999) for _ in range(n_train_samples)], bins=20)"
      ]
    },
    {
      "cell_type": "code",
      "execution_count": null,
      "metadata": {
        "id": "Pmg89uN3vNUC",
        "colab": {
          "base_uri": "https://localhost:8080/"
        },
        "outputId": "7ae6328d-df61-4e5b-aa1a-04817baf0492"
      },
      "outputs": [
        {
          "output_type": "stream",
          "name": "stdout",
          "text": [
            "skipping\n"
          ]
        }
      ],
      "source": [
        "%%script echo skipping\n",
        "\n",
        "epsilon"
      ]
    },
    {
      "cell_type": "markdown",
      "metadata": {
        "id": "sd__u8CbvNUC"
      },
      "source": [
        "The reason the sampling is not uniformly distributed in the following plots is due to the resampling and the fact that we certain values of e.g. velocity are more likely to violate the speed of light constraint than others."
      ]
    },
    {
      "cell_type": "code",
      "execution_count": null,
      "metadata": {
        "id": "E5YFdqKjUZh5",
        "colab": {
          "base_uri": "https://localhost:8080/",
          "height": 575
        },
        "outputId": "9b3f3bb8-c7a7-4a12-ca36-3e1ed99438c1"
      },
      "outputs": [
        {
          "output_type": "display_data",
          "data": {
            "text/plain": [
              "<Figure size 2000x1600 with 14 Axes>"
            ],
            "image/png": "[encoded data removed]"
          },
          "metadata": {}
        }
      ],
      "source": [
        "#%%script echo skipping\n",
        "\n",
        "if not LOAD_DATA_FROM_CSV:\n",
        "    def plot_histogram(data, xlabel, ylabel, position, bins=20, xlog_scale=False, ylog_scale=False):\n",
        "        plt.subplot(4, 5, position)\n",
        "        plt.hist(data, bins=bins)\n",
        "        plt.xlabel(xlabel)\n",
        "        plt.ylabel(ylabel)\n",
        "        if xlog_scale: # Setting does not work expected for epsilon.\n",
        "            plt.xscale(\"log\")\n",
        "        if ylog_scale: # Setting does not work expected for epsilon.\n",
        "            plt.yscale(\"log\")\n",
        "\n",
        "    # Plotting the histograms of rho, vx, epsilon, b0, b1, b2, and b3\n",
        "    bins = 20\n",
        "    plt.figure(figsize=(20, 16))\n",
        "\n",
        "    plot_histogram(rho, \"rho\", \"Frequency\", 1, bins=bins)\n",
        "    plot_histogram(epsilon, \"epsilon\", \"Frequency\", 2, bins=bins)\n",
        "    plot_histogram(vx, \"vx\", \"Frequency\", 3, bins=bins)\n",
        "    plot_histogram(vy, \"vy\", \"Frequency\", 4, bins=bins)\n",
        "    plot_histogram(vz, \"vz\", \"Frequency\", 5, bins=bins)\n",
        "    plot_histogram(Bx, \"Bx\", \"Frequency\", 6, bins=bins)\n",
        "    plot_histogram(By, \"By\", \"Frequency\", 7, bins=bins)\n",
        "    plot_histogram(Bz, \"Bz\", \"Frequency\", 8, bins=bins)\n",
        "\n",
        "    # Plot these\n",
        "    plot_histogram(gxx, \"gxx\", \"Frequency\", 9, bins=bins)\n",
        "    plot_histogram(gxy, \"gxy\", \"Frequency\", 10, bins=bins)\n",
        "    plot_histogram(gxz, \"gxz\", \"Frequency\", 11, bins=bins)\n",
        "    plot_histogram(gyy, \"gyy\", \"Frequency\", 12, bins=bins)\n",
        "    plot_histogram(gyz, \"gyz\", \"Frequency\", 13, bins=bins)\n",
        "    plot_histogram(gzz, \"gzz\", \"Frequency\", 14, bins=bins)\n",
        "\n",
        "\n",
        "    plt.suptitle(\"Primitive variables and metric\")\n",
        "    plt.tight_layout()\n",
        "    plt.show()\n"
      ]
    },
    {
      "cell_type": "code",
      "execution_count": null,
      "metadata": {
        "id": "Ebw2XmYTvNUC"
      },
      "outputs": [],
      "source": [
        "%config InteractiveShell.ast_node_interactivity = \"last_expr_or_assign\""
      ]
    },
    {
      "cell_type": "code",
      "execution_count": null,
      "metadata": {
        "id": "tWJ6uL_UvNUD",
        "colab": {
          "base_uri": "https://localhost:8080/",
          "height": 1000
        },
        "outputId": "a3a01f64-2eed-4d42-dd2f-6ec5a0655551"
      },
      "outputs": [
        {
          "output_type": "display_data",
          "data": {
            "text/plain": [
              "<Figure size 1600x1600 with 14 Axes>"
            ],
            "image/png": "[encoded data removed]"
          },
          "metadata": {}
        }
      ],
      "source": [
        "#%%script echo skipping\n",
        "\n",
        "# Variable names\n",
        "variable_names = [\"D\", \"Sx\", \"Sy\", \"Sz\", \"tau\", \"Bconsx\", \"Bconsy\", \"Bconsz\", \"gxx\", \"gxy\", \"gxz\", \"gyy\", \"gyz\", \"gzz\"]\n",
        "\n",
        "# Plotting histograms of the input variables before z-score normalization\n",
        "plt.figure(figsize=(16, 16))\n",
        "plt.suptitle('Histograms of input variables before (or without at all) z-score normalization', y=1.03)\n",
        "\n",
        "for i in range(N_INPUTS):\n",
        "    plt.subplot(7, 2, i+1)\n",
        "    data = x_train[:, i].cpu().numpy() # Convert tensor to numpy array for percentile calculation\n",
        "    lower_bound, upper_bound = np.percentile(data, [1, 100]) # NOTE: Use this instead to visualize all the data.\n",
        "    # lower_bound, upper_bound = np.percentile(data, [1, 90]) # Calculate 1st and 99th percentile\n",
        "\n",
        "    plt.hist(data, bins=50, range=(lower_bound, upper_bound)) # Set range to the calculated percentile range\n",
        "    plt.xlabel(variable_names[i])\n",
        "    plt.xlim(lower_bound, upper_bound) # Set the x limit to match the range of the histogram\n",
        "\n",
        "plt.subplots_adjust(hspace=0.4, wspace=0.4)\n",
        "plt.show()\n",
        "\n",
        "# Same plotting but for the test data. Adjust the percentile range as needed to zoom in.\n",
        "# plt.figure(figsize=(16, 16))\n",
        "# plt.suptitle('Histograms of input variables before (or without at all) z-score normalization (test data)', y=1.03)\n",
        "\n",
        "# for i in range(14):\n",
        "#     plt.subplot(7, 2, i+1)\n",
        "#     data = x_test[:, i].cpu().numpy() # Convert tensor to numpy array for percentile calculation\n",
        "#     #lower_bound, upper_bound = np.percentile(data, [1, 100]) # NOTE: Use this instead to visualize all the data.\n",
        "#     lower_bound, upper_bound = np.percentile(data, [1, 99]) # Use this to zoom in.\n",
        "\n",
        "#     plt.hist(data, bins=50, range=(lower_bound, upper_bound)) # Set range to the calculated percentile range\n",
        "#     plt.xlabel(variable_names[i])\n",
        "#     plt.xlim(lower_bound, upper_bound) # Set the x limit to match the range of the histogram\n",
        "\n",
        "# plt.subplots_adjust(hspace=0.4, wspace=0.4)\n",
        "# plt.show()\n",
        "\n"
      ]
    },
    {
      "cell_type": "markdown",
      "metadata": {
        "id": "rie2vxMRvNUD"
      },
      "source": [
        "### Data normalization"
      ]
    },
    {
      "cell_type": "code",
      "execution_count": null,
      "metadata": {
        "id": "DlqRPSCXvNUD",
        "colab": {
          "base_uri": "https://localhost:8080/"
        },
        "outputId": "f7093641-a35e-4db3-e981-4b94b4d5da67"
      },
      "outputs": [
        {
          "output_type": "stream",
          "name": "stdout",
          "text": [
            "Summary statistics of input variables before z-score normalization\n",
            "tensor([[ 1.3233e-05,  3.5116e+03,  2.2848e+00,  1.6747e+00,  5.8512e+00],\n",
            "        [-6.8280e+04,  2.0351e+07,  7.3412e+01,  2.2025e+01,  2.4376e+04],\n",
            "        [-1.0046e+05,  2.0086e+07,  7.1220e+01,  2.1997e+01,  2.4036e+04],\n",
            "        [-6.2708e+04,  2.0887e+07,  7.5807e+01,  2.2070e+01,  2.5120e+04],\n",
            "        [-1.0756e+05,  3.3779e+07,  1.5133e+02,  6.9881e+01,  4.0509e+04],\n",
            "        [-1.1339e+01,  1.1316e+01,  9.2432e-03,  7.2039e-03,  5.7418e+00],\n",
            "        [-1.1395e+01,  1.1288e+01, -1.4145e-02, -1.6399e-02,  5.7337e+00],\n",
            "        [-1.1324e+01,  1.1360e+01, -2.5780e-03,  5.5442e-03,  5.7298e+00],\n",
            "        [ 9.0000e-01,  1.1000e+00,  9.9866e-01,  9.9805e-01,  5.7680e-02],\n",
            "        [ 9.2254e-08,  1.0000e-01,  4.9583e-02,  4.9358e-02,  2.8857e-02],\n",
            "        [ 5.3019e-08,  1.0000e-01,  4.9532e-02,  4.9284e-02,  2.8855e-02],\n",
            "        [ 9.0000e-01,  1.1000e+00,  9.9861e-01,  9.9786e-01,  5.7762e-02],\n",
            "        [ 2.5267e-08,  1.0000e-01,  4.9557e-02,  4.9333e-02,  2.8845e-02],\n",
            "        [ 9.0000e-01,  1.1000e+00,  9.9853e-01,  9.9772e-01,  5.7702e-02]],\n",
            "       device='cuda:0')\n"
          ]
        }
      ],
      "source": [
        "# Computing summary statistics of the input variables before and after z-score normalization\n",
        "print('Summary statistics of input variables before z-score normalization')\n",
        "print(torch.stack([torch.min(x_train, dim=0).values, torch.max(x_train, dim=0).values, torch.nanmean(x_train, dim=0), torch.median(x_train, dim=0).values, torch.std(x_train, dim=0)], dim=1))"
      ]
    },
    {
      "cell_type": "markdown",
      "metadata": {
        "id": "xTEmkR1SUZh7"
      },
      "source": [
        "Perform z-score normalization"
      ]
    },
    {
      "cell_type": "code",
      "execution_count": null,
      "metadata": {
        "id": "0oJ4QkrMvNUD"
      },
      "outputs": [],
      "source": [
        "%config InteractiveShell.ast_node_interactivity = \"all\""
      ]
    },
    {
      "cell_type": "code",
      "execution_count": null,
      "metadata": {
        "id": "yPOv6DxhUZh7"
      },
      "outputs": [],
      "source": [
        "if ZSCORE_NORMALIZATION:\n",
        "    \n",
        "    # TODO: Add magnetic field variables to the normalization if I decide to use the old code that is commented out here.\n",
        "    # # Computing the median of each input variable from the training set using torch.nanmedian function\n",
        "    # D_median = torch.nanmedian(x_train[:, 0])\n",
        "    # Sx_median = torch.nanmedian(x_train[:, 1])\n",
        "    # Sy_median = torch.nanmedian(x_train[:, 2])\n",
        "    # Sz_median = torch.nanmedian(x_train[:, 3])\n",
        "    # tau_median = torch.nanmedian(x_train[:, 4])\n",
        "\n",
        "    # # Computing the standard deviation of each input variable from the training set using torch.std function with a boolean mask to ignore nan values\n",
        "    # D_std = torch.std(x_train[~torch.isnan(x_train[:, 0]), 0])\n",
        "    # Sx_std = torch.std(x_train[~torch.isnan(x_train[:, 1]), 1])\n",
        "    # Sy_std = torch.std(x_train[~torch.isnan(x_train[:, 2]), 2])\n",
        "    # Sz_std = torch.std(x_train[~torch.isnan(x_train[:, 3]), 3])\n",
        "    # tau_std = torch.std(x_train[~torch.isnan(x_train[:, 4]), 4])\n",
        "\n",
        "\n",
        "    # # Applying z-score normalization to both train and test sets using the statistics from the training set\n",
        "    # x_train[:, 0] = torch.sub(x_train[:, 0], D_median).div(D_std)\n",
        "    # x_train[:, 1] = torch.sub(x_train[:, 1], Sx_median).div(Sx_std)\n",
        "    # x_train[:, 2] = torch.sub(x_train[:, 2], Sy_median).div(Sy_std)\n",
        "    # x_train[:, 3] = torch.sub(x_train[:, 3], Sz_median).div(Sz_std)\n",
        "    # x_train[:, 4] = torch.sub(x_train[:, 4], tau_median).div(tau_std)\n",
        "\n",
        "    # x_test[:, 0] = torch.sub(x_test[:, 0], D_median).div(D_std)\n",
        "    # x_test[:, 1] = torch.sub(x_test[:, 1], Sx_median).div(Sx_std)\n",
        "    # x_test[:, 2] = torch.sub(x_test[:, 2], Sy_median).div(Sy_std)\n",
        "    # x_test[:, 3] = torch.sub(x_test[:, 3], Sz_median).div(Sz_std)\n",
        "    # x_test[:, 4] = torch.sub(x_test[:, 4], tau_median).div(tau_std)\n",
        "\n",
        "    # Computing the mean and standard deviation of each column\n",
        "    mean = x_train.mean(dim=0)\n",
        "    std = x_train.std(dim=0)\n",
        "\n",
        "    # Applying z-score normalization\n",
        "    x_train = (x_train - mean) / std\n",
        "    # Use the same mean and std from the training data as we don't want test data leakage.\n",
        "    x_test = (x_test - mean) / std\n",
        "\n"
      ]
    },
    {
      "cell_type": "markdown",
      "metadata": {
        "id": "2f2umpgyvNUN"
      },
      "source": [
        "Plotting the histograms of the input data after normalization if z-score normalization was performed."
      ]
    },
    {
      "cell_type": "code",
      "execution_count": null,
      "metadata": {
        "id": "IycUelekvNUN"
      },
      "outputs": [],
      "source": [
        "%config InteractiveShell.ast_node_interactivity = \"last_expr_or_assign\""
      ]
    },
    {
      "cell_type": "code",
      "execution_count": null,
      "metadata": {
        "id": "zMJciw_fvNUN"
      },
      "outputs": [],
      "source": [
        "if not LOAD_DATA_FROM_CSV:\n",
        "    if ZSCORE_NORMALIZATION:\n",
        "        # Variable names\n",
        "        variable_names = [\"D\", \"Sx\", \"Sy\", \"Sz\", \"tau\", \"Bconsx\", \"Bconsy\", \"Bconsz\", \"gxx\", \"gxy\", \"gxz\", \"gyy\", \"gyz\", \"gzz\"]\n",
        "\n",
        "        # Plotting histograms of the input variables before z-score normalization\n",
        "        plt.figure(figsize=(16, 16))\n",
        "        plt.suptitle('Histograms of input variables before (or without at all) z-score normalization', y=1.03)\n",
        "\n",
        "        for i in range(N_INPUTS):\n",
        "            plt.subplot(7, 2, i+1)\n",
        "            data = x_train[:, i].cpu().numpy() # Convert tensor to numpy array for percentile calculation\n",
        "            lower_bound, upper_bound = np.percentile(data, [1, 100]) # NOTE: Use this instead to visualize all the data.\n",
        "            # lower_bound, upper_bound = np.percentile(data, [1, 90]) # Calculate 1st and 99th percentile\n",
        "\n",
        "            plt.hist(data, bins=50, range=(lower_bound, upper_bound)) # Set range to the calculated percentile range\n",
        "            plt.xlabel(variable_names[i])\n",
        "            plt.xlim(lower_bound, upper_bound) # Set the x limit to match the range of the histogram\n",
        "\n",
        "        plt.subplots_adjust(hspace=0.4, wspace=0.4)\n",
        "        plt.show()"
      ]
    },
    {
      "cell_type": "code",
      "execution_count": null,
      "metadata": {
        "id": "jKxb1qXjvNUO"
      },
      "outputs": [],
      "source": [
        "if ZSCORE_NORMALIZATION:\n",
        "    # Computing summary statistics of the input variables after z-score normalization\n",
        "    print('Summary statistics of input variables after z-score normalization')\n",
        "    print(torch.stack([torch.min(x_train, dim=0).values, torch.max(x_train, dim=0).values, torch.mean(x_train, dim=0), torch.median(x_train, dim=0).values, torch.std(x_train, dim=0)], dim=1))\n"
      ]
    },
    {
      "cell_type": "markdown",
      "metadata": {
        "id": "HXL-5jcgvNUO"
      },
      "source": [
        "### Visualizing input data and labels"
      ]
    },
    {
      "cell_type": "code",
      "execution_count": null,
      "metadata": {
        "id": "7q8am_OXvNUO",
        "colab": {
          "base_uri": "https://localhost:8080/"
        },
        "outputId": "364174f0-95ef-4010-f55d-b057753fdf64"
      },
      "outputs": [
        {
          "output_type": "execute_result",
          "data": {
            "text/plain": [
              "tensor([-1.0409, -2.9612,  1.1713,  ..., -5.4480,  0.3419, -1.3090],\n",
              "       device='cuda:0')"
            ]
          },
          "metadata": {},
          "execution_count": 70
        }
      ],
      "source": [
        "x_train\n",
        "y_train\n",
        "x_val\n",
        "y_val\n",
        "x_test\n",
        "y_test"
      ]
    },
    {
      "cell_type": "markdown",
      "metadata": {
        "id": "E96p_MsOUZh9",
        "outputId": "4b95bad0-8f3a-4364-eed1-008e0ce2a5e3"
      },
      "source": [
        "Checking if our output is always positive ~~by plotting a histogram of y_train and y_test tensors~~"
      ]
    },
    {
      "cell_type": "code",
      "execution_count": null,
      "metadata": {
        "id": "IP5yG3akvNUO",
        "colab": {
          "base_uri": "https://localhost:8080/"
        },
        "outputId": "d1c9ea78-dd34-45a7-9c19-87802f9a8d1d"
      },
      "outputs": [
        {
          "output_type": "stream",
          "name": "stdout",
          "text": [
            "tensor(True)\n"
          ]
        }
      ],
      "source": [
        "import torch\n",
        "\n",
        "# Create a sample tensor\n",
        "tensor = torch.randn(80000, 14)  # Assuming a tensor of shape [80000, 14]\n",
        "tensor\n",
        "\n",
        "\n",
        "# Check if any element is negative\n",
        "any_negative = torch.any(tensor < 0)\n",
        "\n",
        "# Print the result\n",
        "print(any_negative)\n"
      ]
    },
    {
      "cell_type": "code",
      "execution_count": null,
      "metadata": {
        "id": "0AiXPEyOvNUP",
        "colab": {
          "base_uri": "https://localhost:8080/"
        },
        "outputId": "bfef3448-3ae5-4267-b823-a5a894474d5e"
      },
      "outputs": [
        {
          "output_type": "execute_result",
          "data": {
            "text/plain": [
              "tensor(True, device='cuda:0')"
            ]
          },
          "metadata": {},
          "execution_count": 72
        }
      ],
      "source": [
        "y_train.shape\n",
        "any_negative = torch.any(y_train < 0)\n",
        "any_negative\n",
        "\n",
        "y_test.shape\n",
        "any_negative = torch.any(y_test < 0)\n",
        "any_negative\n",
        "\n",
        "x_train.shape\n",
        "any_negative = torch.any(x_train < 0)\n",
        "any_negative"
      ]
    },
    {
      "cell_type": "code",
      "execution_count": null,
      "metadata": {
        "id": "lqQeMSdavNUP",
        "colab": {
          "base_uri": "https://localhost:8080/",
          "height": 407
        },
        "outputId": "88e496ba-0e3a-4ab0-f181-3cc1bf10b106"
      },
      "outputs": [
        {
          "output_type": "display_data",
          "data": {
            "text/plain": [
              "<Figure size 800x400 with 3 Axes>"
            ],
            "image/png": "[encoded data removed]"
          },
          "metadata": {}
        }
      ],
      "source": [
        "#%%script echo skipping\n",
        "\n",
        "plt.figure(figsize=(8, 4))\n",
        "plt.subplot(1, 3, 1)\n",
        "plt.hist(y_train.cpu().numpy(), bins=100) # must be cpu here.\n",
        "plt.xlabel(\"y_train\")\n",
        "plt.ylabel(\"Frequency\")\n",
        "plt.xscale(\"log\")\n",
        "plt.subplot(1, 3, 2)\n",
        "plt.hist(y_val.cpu().numpy(), bins=100) # must be cpu here\n",
        "plt.xlabel(\"y_val\")\n",
        "plt.ylabel(\"Frequency\")\n",
        "plt.xscale(\"log\")\n",
        "plt.tight_layout()\n",
        "plt.subplot(1, 3, 3)\n",
        "plt.hist(y_test.cpu().numpy(), bins=100) # must be cpu here\n",
        "plt.xlabel(\"y_test\")\n",
        "plt.ylabel(\"Frequency\")\n",
        "plt.xscale(\"log\")\n",
        "plt.tight_layout()\n",
        "plt.show()\n"
      ]
    },
    {
      "cell_type": "code",
      "execution_count": null,
      "metadata": {
        "id": "FEgjk--AUZh9"
      },
      "outputs": [],
      "source": [
        "%config InteractiveShell.ast_node_interactivity = \"all\""
      ]
    },
    {
      "cell_type": "markdown",
      "metadata": {
        "id": "r2b9GecHUZh9"
      },
      "source": [
        "## Defining the neural network"
      ]
    },
    {
      "cell_type": "code",
      "execution_count": null,
      "metadata": {
        "id": "Iv8HA-ZXUZh-"
      },
      "outputs": [],
      "source": [
        "# Defining a class for the network\n",
        "class Net(nn.Module):\n",
        "    \"\"\"A class for creating a network with a\n",
        "    variable number of hidden layers and units.\n",
        "\n",
        "    Attributes:\n",
        "        n_layers (int): The number of hidden layers in the network.\n",
        "        n_units (list): A list of integers representing the number of units in each hidden layer.\n",
        "        hidden_activation (torch.nn.Module): The activation function for the hidden layers.\n",
        "        output_activation (torch.nn.Module): The activation function for the output layer.\n",
        "        layers (torch.nn.ModuleList): A list of linear layers in the network.\n",
        "    \"\"\"\n",
        "\n",
        "    def __init__(self, n_layers, n_units, hidden_activation, output_activation, dropout_rate):\n",
        "        \"\"\"Initializes the network with the given hyperparameters.\n",
        "\n",
        "        Args:\n",
        "            n_layers (int): The number of hidden layers in the network.\n",
        "            n_units (list): A list of integers representing the number of units in each hidden layer.\n",
        "            hidden_activation (torch.nn.Module): The activation function for the hidden layers.\n",
        "            output_activation (torch.nn.Module): The activation function for the output layer.\n",
        "            TODO: [ver. Copilot description] dropout_rate (float): The dropout rate to use for all layers.\n",
        "        \"\"\"\n",
        "        super().__init__()\n",
        "        self.n_layers = n_layers\n",
        "        self.n_units = n_units\n",
        "        self.hidden_activation = hidden_activation\n",
        "        self.output_activation = output_activation\n",
        "        self.dropout_rate = dropout_rate\n",
        "\n",
        "        # Creating a list of linear layers with different numbers of units for each layer\n",
        "        self.layers = nn.ModuleList()\n",
        "        self.dropouts = nn.ModuleList()\n",
        "\n",
        "        self.layers.append(nn.Linear(N_INPUTS, n_units[0]))\n",
        "        self.dropouts.append(nn.Dropout(p=dropout_rate))\n",
        "\n",
        "        for i in range(1, n_layers):\n",
        "            self.layers.append(nn.Linear(n_units[i - 1], n_units[i]))\n",
        "            self.dropouts.append(nn.Dropout(p=dropout_rate))\n",
        "\n",
        "        self.layers.append(nn.Linear(n_units[-1], N_OUTPUTS))\n",
        "\n",
        "        # Adding some assertions to check that the input arguments are valid\n",
        "        assert isinstance(n_layers, int) and n_layers > 0, \"n_layers must be a positive integer\"\n",
        "        assert isinstance(n_units, list) and len(n_units) == n_layers, \"n_units must be a list of length n_layers\"\n",
        "        assert all(isinstance(n, int) and n > 0 for n in n_units), \"n_units must contain positive integers\"\n",
        "        assert isinstance(hidden_activation, nn.Module), \"hidden_activation must be a torch.nn.Module\"\n",
        "        assert isinstance(output_activation, nn.Module), \"output_activation must be a torch.nn.Module\"\n",
        "\n",
        "    def forward(self, x):\n",
        "        \"\"\"Performs a forward pass on the input tensor.\n",
        "\n",
        "        Args:\n",
        "            x (torch.Tensor): The input tensor of shape (batch_size, N_INPUTS).\n",
        "\n",
        "        Returns:\n",
        "            torch.Tensor: The output tensor of shape (batch_size, N_OUTPUTS).\n",
        "        \"\"\"\n",
        "        # Adding an assertion to check that the input tensor has the expected shape and type\n",
        "        assert isinstance(x, torch.Tensor), \"x must be a torch.Tensor\"\n",
        "        assert x.shape[1] == N_INPUTS, f\"x must have shape (batch_size, {N_INPUTS})\"\n",
        "\n",
        "        for layer, dropout in zip(self.layers[:-1], self.dropouts):\n",
        "            x = dropout(self.hidden_activation(layer(x)))\n",
        "        # Applying the linear transformation and the activation function on the output layer\n",
        "        x = self.output_activation(self.layers[-1](x)) # No dropout at output layer\n",
        "\n",
        "        return x # Returning the output tensor\n"
      ]
    },
    {
      "cell_type": "code",
      "execution_count": null,
      "metadata": {
        "id": "6ErZMVx0vNUQ",
        "colab": {
          "base_uri": "https://localhost:8080/"
        },
        "outputId": "6bcd3241-98d6-4b67-a9d2-473d72959a6b"
      },
      "outputs": [
        {
          "output_type": "stream",
          "name": "stdout",
          "text": [
            "skipping\n"
          ]
        }
      ],
      "source": [
        "%%script echo skipping\n",
        "\n",
        "[1,2,3]\n",
        "[1,2,3][:-1]"
      ]
    },
    {
      "cell_type": "code",
      "execution_count": null,
      "metadata": {
        "id": "_yUCTIPGvNUQ",
        "colab": {
          "base_uri": "https://localhost:8080/"
        },
        "outputId": "610aef19-74d5-44f0-dae4-57038d49cc98"
      },
      "outputs": [
        {
          "output_type": "stream",
          "name": "stdout",
          "text": [
            "1\n",
            "2\n"
          ]
        }
      ],
      "source": [
        "for x in [1,2,3][:-1]:\n",
        "    print(x)\n",
        "\n"
      ]
    },
    {
      "cell_type": "markdown",
      "metadata": {
        "id": "6GNvp55PUZh_"
      },
      "source": [
        "## Defining the model and search space"
      ]
    },
    {
      "cell_type": "code",
      "execution_count": null,
      "metadata": {
        "id": "9a1opluOUZh_"
      },
      "outputs": [],
      "source": [
        "# Defining a function to create a trial network and optimizer\n",
        "def create_model(trial, optimize):\n",
        "    \"\"\"Creates a trial network and optimizer based on the sampled hyperparameters.\n",
        "\n",
        "    Args:\n",
        "        trial (optuna.trial.Trial): The trial object that contains the hyperparameters.\n",
        "        optimize (boolean): Whether to optimize the hyperparameters or to use predefined values.\n",
        "\n",
        "    Returns:\n",
        "        tuple: A tuple of (net, loss_fn, optimizer, batch_size, n_epochs,\n",
        "            scheduler, loss_name, optimizer_name, scheduler_name,\n",
        "            n_units, n_layers, hidden_activation, output_activation),\n",
        "            where net is the trial network,\n",
        "            loss_fn is the loss function,\n",
        "            optimizer is the optimizer,\n",
        "            batch_size is the batch size,\n",
        "            n_epochs is the number of epochs,\n",
        "            scheduler is the learning rate scheduler,\n",
        "            loss_name is the name of the loss function,\n",
        "            optimizer_name is the name of the optimizer,\n",
        "            scheduler_name is the name of the scheduler,\n",
        "            n_units is a list of integers representing\n",
        "            the number of units in each hidden layer,\n",
        "            n_layers is an integer representing the number of hidden layers in the network,\n",
        "            hidden_activation is a torch.nn.Module representing the activation function for the hidden layers,\n",
        "            output_activation is a torch.nn.Module representing the activation function for the output layer,\n",
        "            lr is the (initial) learning rate.\n",
        "            dropout_rate is the dropout rate.\n",
        "    \"\"\"\n",
        "    # If optimize is True, sample the hyperparameters from the search space\n",
        "    if OPTIMIZE:\n",
        "        n_layers = trial.suggest_int(\"n_layers\", 1, 5)\n",
        "        n_units = [trial.suggest_int(f\"n_units_{i}\", 16, 4096) for i in range(n_layers)]\n",
        "\n",
        "        hidden_activation_name = trial.suggest_categorical(\n",
        "            \"hidden_activation\", [\"ReLU\", \"LeakyReLU\", \"ELU\", \"PReLU\", \"Swish\", \"GELU\", \"SoftPlus\"]\n",
        "        )\n",
        "        output_activation_name = trial.suggest_categorical( \"output_activation\", [\"Linear\"])\n",
        "\n",
        "        loss_name = trial.suggest_categorical( \"loss\", [\"MSE\", \"MAE\", \"Huber\"]) \n",
        "\n",
        "        optimizer_name = trial.suggest_categorical( \"optimizer\", [\"Adam\", \"SGD\", \"RMSprop\", \"Adagrad\"] )\n",
        "\n",
        "        lr = trial.suggest_loguniform(\"lr\", 1e-4, 1e-2)\n",
        "\n",
        "        batch_size_list = [32, 64, 128, 256, 512]\n",
        "        batch_size = trial.suggest_categorical(\"batch_size\", batch_size_list)\n",
        "        \n",
        "        n_epochs = trial.suggest_int(\"n_epochs\", 50, 150)\n",
        "\n",
        "        # scheduler_name = trial.suggest_categorical(\"scheduler\", [\"CosineAnnealingLR\", \"ReduceLROnPlateau\", \"StepLR\", \"CyclicLR\"])\n",
        "        scheduler_name = trial.suggest_categorical(\"scheduler\", [\"CosineAnnealingLR\", \"ReduceLROnPlateau\", \"StepLR\"])\n",
        "\n",
        "        # Creating the activation functions from their names\n",
        "        if hidden_activation_name == \"ReLU\":\n",
        "            hidden_activation = nn.ReLU()\n",
        "        elif hidden_activation_name == \"LeakyReLU\":\n",
        "            negative_slope = trial.suggest_uniform(\"leakyrelu_slope\", 0.01, 0.3)\n",
        "            hidden_activation = nn.LeakyReLU(negative_slope=negative_slope)\n",
        "        elif hidden_activation_name == \"ELU\":\n",
        "            hidden_activation = nn.ELU() \n",
        "        elif hidden_activation_name == \"PReLU\":\n",
        "            init = trial.suggest_uniform(\"prelu_init\", 0.1, 0.3)\n",
        "            hidden_activation = nn.PReLU(init=init)\n",
        "        elif hidden_activation_name == \"Swish\":\n",
        "            class Swish(nn.Module):\n",
        "                def forward(self, x):\n",
        "                    return x * torch.sigmoid(x)\n",
        "            hidden_activation = Swish()\n",
        "        elif hidden_activation_name == \"GELU\":\n",
        "            hidden_activation = nn.GELU()\n",
        "        elif hidden_activation_name == \"SoftPlus\":\n",
        "            beta = trial.suggest_uniform(\"softplus_beta\", 0.5, 1.5)\n",
        "            hidden_activation = nn.Softplus(beta=beta) # We don't optimize thresshold subparameters, as it's mainly for numerical stability.\n",
        "\n",
        "        dropout_rate = trial.suggest_uniform(\"dropout_rate\", 0.0, 0.5)\n",
        "\n",
        "\n",
        "    # If optimize is False, use the predefined values\n",
        "    else:\n",
        "        # Setting the hyperparameters to the predefined values\n",
        "        n_layers = N_LAYERS_NO_OPT\n",
        "        n_units = N_UNITS_NO_OPT\n",
        "        hidden_activation_name = HIDDEN_ACTIVATION_NAME_NO_OPT\n",
        "        output_activation_name = OUTPUT_ACTIVATION_NAME_NO_OPT\n",
        "        loss_name = LOSS_NAME_NO_OPT\n",
        "        optimizer_name = OPTIMIZER_NAME_NO_OPT\n",
        "        lr = LR_NO_OPT\n",
        "        batch_size = BATCH_SIZE_NO_OPT\n",
        "        n_epochs = N_EPOCHS_NO_OPT\n",
        "        scheduler_name = SCHEDULER_NAME_NO_OPT\n",
        "\n",
        "        # Creating the activation functions from their names\n",
        "        if hidden_activation_name == \"ReLU\":\n",
        "            hidden_activation = nn.ReLU()\n",
        "        elif hidden_activation_name == \"LeakyReLU\":\n",
        "            negative_slope = 0.01\n",
        "            hidden_activation = nn.LeakyReLU(negative_slope=negative_slope)\n",
        "        elif hidden_activation_name == \"ELU\":\n",
        "            hidden_activation = nn.ELU() \n",
        "        elif hidden_activation_name == \"PReLU\":\n",
        "            init = 0.25\n",
        "            hidden_activation = nn.PReLU(init=init)\n",
        "        elif hidden_activation_name == \"Swish\":\n",
        "            class Swish(nn.Module):\n",
        "                def forward(self, x):\n",
        "                    return x * torch.sigmoid(x)\n",
        "            hidden_activation = Swish()\n",
        "        elif hidden_activation_name == \"GELU\":\n",
        "            hidden_activation = nn.GELU()\n",
        "        elif hidden_activation_name == \"SoftPlus\":\n",
        "            beta = 1\n",
        "            hidden_activation = nn.Softplus(beta=beta) # We don't optimize threshold subparameter, as it's mainly for numerical stability.\n",
        "\n",
        "        dropout_rate = DROPOUT_RATE_NO_OPT\n",
        "\n",
        "\n",
        "    # We used to have options here, but since we have a regression problem with continuous output, we only use Linear.\n",
        "    output_activation = nn.Identity()\n",
        "\n",
        "    # Creating the loss function from its name\n",
        "    if loss_name == \"MSE\":\n",
        "        loss_fn = nn.MSELoss()\n",
        "    elif loss_name == \"MAE\":\n",
        "        loss_fn = nn.L1Loss()\n",
        "    elif loss_name == \"Huber\":\n",
        "        loss_fn = nn.SmoothL1Loss() \n",
        "    elif loss_name == \"Quantile\":\n",
        "        def quantile_loss(y_pred, y_true, q=0.5):\n",
        "            e = y_pred - y_true\n",
        "            return torch.mean(torch.max(q*e, (q-1)*e))\n",
        "        loss_fn = quantile_loss\n",
        "    else:\n",
        "        def log_cosh_loss(y_pred, y_true):\n",
        "            return torch.mean(torch.log(torch.cosh(y_pred - y_true)))\n",
        "        loss_fn = log_cosh_loss\n",
        "\n",
        "    # Creating the network with the sampled hyperparameters\n",
        "    net = Net(n_layers, n_units, hidden_activation, output_activation, dropout_rate).to(device)\n",
        "\n",
        "\n",
        "    if OPTIMIZE:\n",
        "        # Creating the optimizer from its name\n",
        "        if optimizer_name == \"SGD\":\n",
        "            weight_decay = trial.suggest_loguniform(\"weight_decay\", 1e-5, 1e-2)\n",
        "            momentum = trial.suggest_uniform(\"momentum\", 0.0, 0.99)\n",
        "            optimizer = optim.SGD(net.parameters(), lr=lr, weight_decay=weight_decay, momentum=momentum)\n",
        "        elif optimizer_name == \"Adam\":\n",
        "            weight_decay = trial.suggest_loguniform(\"weight_decay\", 1e-5, 1e-2)\n",
        "            beta1 = trial.suggest_uniform(\"beta1\", 0.9, 0.999)\n",
        "            beta2 = trial.suggest_uniform(\"beta2\", 0.999, 0.9999)\n",
        "            optimizer = optim.Adam(net.parameters(), lr=lr, weight_decay=weight_decay, betas=(beta1, beta2))\n",
        "        elif optimizer_name == \"RMSprop\":\n",
        "            optimizer = optim.RMSprop(net.parameters(), lr=lr)\n",
        "        else:\n",
        "            optimizer = optim.Adagrad(net.parameters(), lr=lr)\n",
        "\n",
        "        # Creating the learning rate scheduler from its name\n",
        "        if scheduler_name == \"StepLR\":\n",
        "            step_size = trial.suggest_int(\"step_size\", 5, 15)\n",
        "            gamma = trial.suggest_uniform(\"gamma\", 0.1, 0.5)\n",
        "            scheduler = optim.lr_scheduler.StepLR(optimizer, step_size=step_size, gamma=gamma)\n",
        "        elif scheduler_name == \"ExponentialLR\":\n",
        "            gamma = trial.suggest_uniform(\"gamma\", 0.8, 0.99)\n",
        "            scheduler = optim.lr_scheduler.ExponentialLR(optimizer, gamma=gamma)\n",
        "        elif scheduler_name == \"CosineAnnealingLR\":\n",
        "            if n_epochs < 150:\n",
        "                t_max_fraction = trial.suggest_uniform('t_max_fraction', 0.1, 0.3)\n",
        "            elif n_epochs > 250:\n",
        "                t_max_fraction = trial.suggest_uniform('t_max_fraction', 0.05, 0.1)\n",
        "            else:\n",
        "                t_max_fraction = trial.suggest_uniform('t_max_fraction', 0.1, 0.2)\n",
        "\n",
        "            T_max = int(n_epochs * t_max_fraction)\n",
        "            eta_min = trial.suggest_loguniform(\"eta_min\", 1e-7, 1e-2)\n",
        "            scheduler = optim.lr_scheduler.CosineAnnealingLR(optimizer, T_max=T_max, eta_min=eta_min)\n",
        "        elif scheduler_name == \"ReduceLROnPlateau\":\n",
        "            factor = trial.suggest_uniform(\"factor\", 0.1, 0.5)\n",
        "            patience = trial.suggest_int(\"patience\", 5, 10)\n",
        "            threshold = trial.suggest_loguniform(\"threshold\", 1e-4, 1e-2)\n",
        "            scheduler = optim.lr_scheduler.ReduceLROnPlateau(\n",
        "                optimizer, mode=\"min\", factor=factor, patience=patience, threshold=threshold\n",
        "            )\n",
        "        elif scheduler_name == \"CyclicLR\":\n",
        "            base_lr = trial.suggest_loguniform(\"base_lr\", 1e-6, 1e-2)\n",
        "            max_lr = trial.suggest_loguniform(\"max_lr\", 1e-4, 1)\n",
        "            step_size_up = trial.suggest_int(\"step_size_up\", 200, 2000)\n",
        "            scheduler = optim.lr_scheduler.CyclicLR(optimizer, base_lr=base_lr, max_lr=max_lr, step_size_up=step_size_up)\n",
        "        else:\n",
        "            scheduler = None\n",
        "    else:\n",
        "        # Creating the optimizer from its name\n",
        "        if optimizer_name == \"SGD\":\n",
        "            optimizer = optim.SGD(net.parameters(), lr=lr)\n",
        "        elif optimizer_name == \"Adam\":\n",
        "            optimizer = optim.Adam(net.parameters(), lr=lr)\n",
        "        elif optimizer_name == \"RMSprop\":\n",
        "            optimizer = optim.RMSprop(net.parameters(), lr=lr)\n",
        "        else:\n",
        "            optimizer = optim.Adagrad(net.parameters(), lr=lr)\n",
        "\n",
        "        # Creating the learning rate scheduler from its name\n",
        "        if scheduler_name == \"StepLR\":\n",
        "            scheduler = optim.lr_scheduler.StepLR(optimizer, step_size=10, gamma=0.1)\n",
        "        elif scheduler_name == \"ExponentialLR\":\n",
        "            scheduler = optim.lr_scheduler.ExponentialLR(optimizer, gamma=0.9)\n",
        "        elif scheduler_name == \"CosineAnnealingLR\":\n",
        "            scheduler = optim.lr_scheduler.CosineAnnealingLR(optimizer)\n",
        "        elif scheduler_name == \"ReduceLROnPlateau\":\n",
        "            scheduler = optim.lr_scheduler.ReduceLROnPlateau(\n",
        "                        optimizer, mode=\"min\", factor=0.18979341786654758, patience=11, threshold=0.0017197466122611932 #, min_lr=1e-6\n",
        "                    )\n",
        "        elif scheduler_name == \"CyclicLR\":\n",
        "            # TODO: Change these appropriately.\n",
        "            base_lr = 1e-6\n",
        "            max_lr = 1e-4\n",
        "            step_size_up = 200\n",
        "            scheduler = optim.lr_scheduler.CyclicLR(optimizer, base_lr=base_lr, max_lr=max_lr, step_size_up=step_size_up)\n",
        "        else:\n",
        "            scheduler = None\n",
        "\n",
        "    # Returning all variables needed for saving and loading\n",
        "    return net, loss_fn, optimizer, batch_size, n_epochs, scheduler, loss_name, optimizer_name, scheduler_name, n_units, n_layers, hidden_activation, output_activation, lr, dropout_rate"
      ]
    },
    {
      "cell_type": "markdown",
      "metadata": {
        "id": "l-czA7VvUZiD"
      },
      "source": [
        " ## The training and evaluation loop\n",
        "\n",
        " We first define a couple of functions used in the training and evaluation."
      ]
    },
    {
      "cell_type": "code",
      "execution_count": null,
      "metadata": {
        "id": "aD6FQNmxUZiD"
      },
      "outputs": [],
      "source": [
        "# Defining a function that computes loss and metrics for a given batch\n",
        "def compute_loss_and_metrics(y_pred, y_true, loss_fn):\n",
        "    \"\"\"Computes loss and metrics for a given batch.\n",
        "\n",
        "    Args:\n",
        "        y_pred (torch.Tensor): The predicted pressure tensor of shape (batch_size, 1).\n",
        "        y_true (torch.Tensor): The true pressure tensor of shape (batch_size,).\n",
        "        loss_fn (torch.nn.Module or function): The loss function to use.\n",
        "\n",
        "    Returns:\n",
        "        tuple: A tuple of (loss, l1_norm), where loss is a scalar tensor,\n",
        "            l1_norm is L1 norm for relative error of pressure,\n",
        "            each being a scalar tensor.\n",
        "            linf_norm is Linf norm for relative error of pressure.\n",
        "    \"\"\"\n",
        "    # Reshaping the target tensor to match the input tensor\n",
        "    y_true = y_true.view(-1, 1)\n",
        "\n",
        "    # Computing the loss using the loss function\n",
        "    loss = loss_fn(y_pred, y_true)\n",
        "\n",
        "    # Computing the relative error of pressure\n",
        "    rel_error = torch.abs((y_pred - y_true) / y_true)\n",
        "\n",
        "    # Computing the L1 norm for the relative error of pressure\n",
        "    l1_norm = torch.mean(rel_error) \n",
        "    # Computing the Linf norm for the relative error of pressure\n",
        "    linf_norm = torch.max(rel_error) \n",
        "\n",
        "    # Returning the loss and metrics\n",
        "    return loss, l1_norm, linf_norm\n",
        "\n",
        "\n",
        "# Defining a function that updates the learning rate scheduler with validation loss if applicable\n",
        "def update_scheduler(scheduler, test_loss):\n",
        "    \"\"\"Updates the learning rate scheduler with validation loss if applicable.\n",
        "\n",
        "    Args:\n",
        "        scheduler (torch.optim.lr_scheduler._LRScheduler or None): The learning rate scheduler to use.\n",
        "        test_loss (float): The validation loss to use.\n",
        "\n",
        "    Returns:\n",
        "        None\n",
        "    \"\"\"\n",
        "    # Checking if scheduler is not None\n",
        "    if scheduler is not None:\n",
        "        # Checking if scheduler is ReduceLROnPlateau\n",
        "        if isinstance(scheduler, optim.lr_scheduler.ReduceLROnPlateau):\n",
        "            # Updating the scheduler with test_loss\n",
        "            scheduler.step(test_loss)\n",
        "        else:\n",
        "            # Updating the scheduler without test_loss\n",
        "            scheduler.step()\n"
      ]
    },
    {
      "cell_type": "markdown",
      "metadata": {
        "id": "w1nE662UUZiE"
      },
      "source": [
        "Now for the actual training and evaluation loop,"
      ]
    },
    {
      "cell_type": "code",
      "execution_count": null,
      "metadata": {
        "id": "YAOjgKW3UZiF"
      },
      "outputs": [],
      "source": [
        "# Defining a function to train and evaluate a network\n",
        "def train_and_eval(net, loss_fn, optimizer, batch_size, n_epochs, scheduler, train_loader, val_loader, test_loader, trial=None):\n",
        "    # Initializing lists to store the losses and metrics for each epoch\n",
        "    train_losses = []\n",
        "    val_losses = []\n",
        "    test_losses = []\n",
        "    train_metrics = []\n",
        "    val_metrics = []\n",
        "    test_metrics = []\n",
        "\n",
        "\n",
        "    # Creating a SummaryWriter object to log data for tensorboard\n",
        "    writer = tbx.SummaryWriter()\n",
        "\n",
        "    # Looping over the epochs\n",
        "    for epoch in range(n_epochs):\n",
        "\n",
        "        # Setting the network to training mode\n",
        "        net.train()\n",
        "\n",
        "        # Initializing variables to store the total loss and metrics for the train set\n",
        "        train_loss = 0.0\n",
        "        train_l1_norm = 0.0\n",
        "        train_linf_norm = 0.0\n",
        "\n",
        "        # Looping over the batches in the train set\n",
        "        for x_batch, y_batch in train_loader:\n",
        "\n",
        "            # Moving the batch tensors to the device\n",
        "            x_batch = x_batch.to(device)\n",
        "            y_batch = y_batch.to(device)\n",
        "\n",
        "            # Zeroing the gradients\n",
        "            optimizer.zero_grad()\n",
        "\n",
        "            # Performing a forward pass and computing the loss and metrics\n",
        "            y_pred = net(x_batch)\n",
        "            loss, l1_norm, linf_norm = compute_loss_and_metrics(y_pred, y_batch, loss_fn)\n",
        "\n",
        "\n",
        "            # Performing a backward pass and updating the weights\n",
        "            loss.backward()\n",
        "            optimizer.step()\n",
        "\n",
        "            # Updating the total loss and metrics for the train set\n",
        "            train_loss += loss.item() * x_batch.size(0)\n",
        "            train_l1_norm += l1_norm.item() * x_batch.size(0)\n",
        "            train_linf_norm += linf_norm.item() * x_batch.size(0)\n",
        "\n",
        "        # Computing the average loss and metrics for the train set\n",
        "        train_loss /= len(train_loader.dataset)\n",
        "        train_l1_norm /= len(train_loader.dataset)\n",
        "        train_linf_norm /= len(train_loader.dataset)\n",
        "\n",
        "        # Appending the average loss and metrics for the train set to the lists\n",
        "        train_losses.append(train_loss)\n",
        "        train_metrics.append(\n",
        "            {\n",
        "                \"l1_norm\": train_l1_norm,\n",
        "                \"linf_norm\": train_linf_norm,\n",
        "            }\n",
        "        )\n",
        "\n",
        "        # Logging the average loss and metrics for the train set to tensorboard\n",
        "        writer.add_scalar(\"Loss/train\", train_loss, epoch)\n",
        "        writer.add_scalar(\"L1 norm/train\", train_l1_norm, epoch)\n",
        "        writer.add_scalar(\"Linf norm/train\", train_linf_norm, epoch)\n",
        "\n",
        "        if val_loader is not None:\n",
        "            net.eval()\n",
        "            val_loss = 0.0\n",
        "            val_l1_norm = 0.0\n",
        "            val_linf_norm = 0.0\n",
        "\n",
        "            with torch.no_grad():\n",
        "                for x_batch, y_batch in val_loader:\n",
        "                    x_batch = x_batch.to(device)\n",
        "                    y_batch = y_batch.to(device)\n",
        "                    y_pred = net(x_batch)\n",
        "                    loss, l1_norm, linf_norm = compute_loss_and_metrics(y_pred, y_batch, loss_fn)\n",
        "\n",
        "                    val_loss += loss.item() * x_batch.size(0)\n",
        "                    val_l1_norm += l1_norm.item() * x_batch.size(0)\n",
        "                    val_linf_norm += linf_norm.item() * x_batch.size(0)\n",
        "\n",
        "            val_loss /= len(val_loader.dataset)\n",
        "            val_l1_norm /= len(val_loader.dataset)\n",
        "            val_linf_norm /= len(val_loader.dataset)\n",
        "\n",
        "            val_losses.append(val_loss)\n",
        "            val_metrics.append(\n",
        "                {\n",
        "                    \"l1_norm\": val_l1_norm,\n",
        "                    \"linf_norm\": val_linf_norm,\n",
        "                }\n",
        "            )\n",
        "\n",
        "            writer.add_scalar(\"Loss/val\", val_loss, epoch)\n",
        "            writer.add_scalar(\"L1 norm/val\", val_l1_norm, epoch)\n",
        "            writer.add_scalar(\"Linf norm/val\", val_linf_norm, epoch)\n",
        "            print(f\"Epoch {epoch+1}/{n_epochs}.. Train loss: {train_loss:.3f}.. Val loss: {val_loss:.3f}.. Train L1 norm: {train_l1_norm:.3f}.. Val L1 norm: {val_l1_norm:.3f}.. Train Linf norm: {train_linf_norm:.3f}.. Val Linf norm: {val_linf_norm:.3f}\")\n",
        "\n",
        "\n",
        "            update_scheduler(scheduler, val_loss)\n",
        "\n",
        "        if test_loader is not None:\n",
        "            net.eval()\n",
        "            test_loss = 0.0\n",
        "            test_l1_norm = 0.0\n",
        "            test_linf_norm = 0.0\n",
        "\n",
        "            with torch.no_grad():\n",
        "                for x_batch, y_batch in test_loader:\n",
        "                    x_batch = x_batch.to(device)\n",
        "                    y_batch = y_batch.to(device)\n",
        "                    y_pred = net(x_batch)\n",
        "                    loss, l1_norm, linf_norm = compute_loss_and_metrics(y_pred, y_batch, loss_fn)\n",
        "\n",
        "                    test_loss += loss.item() * x_batch.size(0)\n",
        "                    test_l1_norm += l1_norm.item() * x_batch.size(0)\n",
        "                    test_linf_norm += linf_norm.item() * x_batch.size(0)\n",
        "\n",
        "            test_loss /= len(test_loader.dataset)\n",
        "            test_l1_norm /= len(test_loader.dataset)\n",
        "            test_linf_norm /= len(test_loader.dataset)\n",
        "\n",
        "            test_losses.append(test_loss)\n",
        "            test_metrics.append(\n",
        "                {\n",
        "                    \"l1_norm\": test_l1_norm,\n",
        "                    \"linf_norm\": test_linf_norm,\n",
        "                }\n",
        "            )\n",
        "\n",
        "            writer.add_scalar(\"Loss/test\", test_loss, epoch)\n",
        "            writer.add_scalar(\"L1 norm/test\", test_l1_norm, epoch)\n",
        "            writer.add_scalar(\"Linf norm/test\", test_linf_norm, epoch)\n",
        "            print(f\"Epoch {epoch+1}/{n_epochs}.. Train loss: {train_loss:.3f}.. Test loss: {test_loss:.3f}.. Train L1 norm: {train_l1_norm:.3f}.. Test L1 norm: {test_l1_norm:.3f}.. Train Linf norm: {train_linf_norm:.3f}.. Test Linf norm: {test_linf_norm:.3f}\")\n",
        "\n",
        "\n",
        "        # Reporting the intermediate metric value to Optuna if trial is not None\n",
        "        if trial is not None:\n",
        "            trial.report(val_l1_norm, epoch)\n",
        "\n",
        "            if trial.should_prune():\n",
        "                raise optuna.TrialPruned()\n",
        "\n",
        "    # Closing the SummaryWriter object\n",
        "    writer.close()\n",
        "\n",
        "    # Returning the losses and metrics lists\n",
        "    return train_losses, val_losses, test_losses, train_metrics, val_metrics, test_metrics\n"
      ]
    },
    {
      "cell_type": "markdown",
      "metadata": {
        "id": "xg9jz0SvUZiQ"
      },
      "source": [
        "## The objective function and hyperparameter tuning"
      ]
    },
    {
      "cell_type": "code",
      "execution_count": null,
      "metadata": {
        "id": "fmRncQPuUZiR"
      },
      "outputs": [],
      "source": [
        "# Defining an objective function for Optuna to minimize\n",
        "def objective(trial):\n",
        "    \"\"\"Defines an objective function for Optuna to minimize.\n",
        "\n",
        "    Args:\n",
        "        trial (optuna.trial.Trial): The trial object that contains the hyperparameters.\n",
        "\n",
        "    Returns:\n",
        "        float: The validation L1 norm to minimize.\n",
        "    \"\"\"\n",
        "    # Creating a trial network and optimizer using the create_model function\n",
        "    net, \\\n",
        "    loss_fn, \\\n",
        "    optimizer, \\\n",
        "    batch_size, \\\n",
        "    n_epochs, \\\n",
        "    scheduler, \\\n",
        "    loss_name, \\\n",
        "    optimizer_name, \\\n",
        "    scheduler_name, \\\n",
        "    n_units, \\\n",
        "    n_layers, \\\n",
        "    hidden_activation, \\\n",
        "    output_activation, \\\n",
        "    lr, \\\n",
        "    dropout_rate = create_model(trial, optimize=True)\n",
        "\n",
        "    # Create separate data loaders for training and validation\n",
        "    train_loader = torch.utils.data.DataLoader(\n",
        "        torch.utils.data.TensorDataset(x_train, y_train), batch_size=batch_size, shuffle=True\n",
        "    )\n",
        "    val_loader = torch.utils.data.DataLoader(\n",
        "        torch.utils.data.TensorDataset(x_val, y_val), batch_size=batch_size\n",
        "    )\n",
        "    \n",
        "    _, _, _, _, val_metrics, _ = train_and_eval(\n",
        "        net, loss_fn, optimizer, batch_size, n_epochs, scheduler, train_loader, val_loader, None, trial\n",
        "    )\n",
        "\n",
        "    # Returning the last validation L1 norm as the objective value to minimize\n",
        "    return val_metrics[-1][\"l1_norm\"]"
      ]
    },
    {
      "cell_type": "code",
      "execution_count": null,
      "metadata": {
        "id": "GyES4NAyUZiS",
        "colab": {
          "base_uri": "https://localhost:8080/",
          "height": 1000
        },
        "outputId": "44909773-e9dc-46fe-b0fe-84d78f14f2c0"
      },
      "outputs": [
        {
          "metadata": {
            "tags": null
          },
          "name": "stderr",
          "output_type": "stream",
          "text": [
            "[I 2023-06-04 09:41:28,458] A new study created in memory with name: no-name-7ea652b5-5723-4052-b057-35ba2c346aef\n",
            "<ipython-input-78-65280db254a0>:44: FutureWarning: suggest_loguniform has been deprecated in v3.0.0. This feature will be removed in v6.0.0. See https://github.com/optuna/optuna/releases/tag/v3.0.0. Use suggest_float(..., log=True) instead.\n",
            "  lr = trial.suggest_loguniform(\"lr\", 1e-4, 1e-2)\n",
            "<ipython-input-78-65280db254a0>:76: FutureWarning: suggest_uniform has been deprecated in v3.0.0. This feature will be removed in v6.0.0. See https://github.com/optuna/optuna/releases/tag/v3.0.0. Use suggest_float instead.\n",
            "  dropout_rate = trial.suggest_uniform(\"dropout_rate\", 0.0, 0.5)\n",
            "<ipython-input-78-65280db254a0>:168: FutureWarning: suggest_uniform has been deprecated in v3.0.0. This feature will be removed in v6.0.0. See https://github.com/optuna/optuna/releases/tag/v3.0.0. Use suggest_float instead.\n",
            "  t_max_fraction = trial.suggest_uniform('t_max_fraction', 0.1, 0.3)\n",
            "<ipython-input-78-65280db254a0>:175: FutureWarning: suggest_loguniform has been deprecated in v3.0.0. This feature will be removed in v6.0.0. See https://github.com/optuna/optuna/releases/tag/v3.0.0. Use suggest_float(..., log=True) instead.\n",
            "  eta_min = trial.suggest_loguniform(\"eta_min\", 1e-7, 1e-2)\n"
          ]
        },
        {
          "metadata": {
            "tags": null
          },
          "name": "stdout",
          "output_type": "stream",
          "text": [
            "Epoch 1/123.. Train loss: 6.550.. Val loss: 3.842.. Train L1 norm: 61.509.. Val L1 norm: 4.035.. Train Linf norm: 15105.627.. Val Linf norm: 540.855\n",
            "Epoch 2/123.. Train loss: 4.166.. Val loss: 3.537.. Train L1 norm: 32.365.. Val L1 norm: 4.459.. Train Linf norm: 7734.537.. Val Linf norm: 619.134\n",
            "Epoch 3/123.. Train loss: 4.947.. Val loss: 3.390.. Train L1 norm: 55.438.. Val L1 norm: 4.591.. Train Linf norm: 13635.781.. Val Linf norm: 638.233\n",
            "Epoch 4/123.. Train loss: 6.137.. Val loss: 3.152.. Train L1 norm: 44.965.. Val L1 norm: 4.284.. Train Linf norm: 10945.602.. Val Linf norm: 604.854\n",
            "Epoch 5/123.. Train loss: 5.047.. Val loss: 3.131.. Train L1 norm: 23.862.. Val L1 norm: 3.511.. Train Linf norm: 5560.444.. Val Linf norm: 495.185\n",
            "Epoch 6/123.. Train loss: 4.497.. Val loss: 2.986.. Train L1 norm: 23.228.. Val L1 norm: 4.094.. Train Linf norm: 5429.707.. Val Linf norm: 592.386\n",
            "Epoch 7/123.. Train loss: 5.044.. Val loss: 2.874.. Train L1 norm: 33.430.. Val L1 norm: 3.879.. Train Linf norm: 8052.103.. Val Linf norm: 546.975\n",
            "Epoch 8/123.. Train loss: 4.247.. Val loss: 2.856.. Train L1 norm: 17.890.. Val L1 norm: 4.180.. Train Linf norm: 4083.687.. Val Linf norm: 597.540\n",
            "Epoch 9/123.. Train loss: 4.203.. Val loss: 3.084.. Train L1 norm: 29.860.. Val L1 norm: 3.906.. Train Linf norm: 7153.849.. Val Linf norm: 536.017\n",
            "Epoch 10/123.. Train loss: 3.699.. Val loss: 2.898.. Train L1 norm: 40.358.. Val L1 norm: 4.072.. Train Linf norm: 9810.328.. Val Linf norm: 581.846\n",
            "Epoch 11/123.. Train loss: 5.772.. Val loss: 2.743.. Train L1 norm: 9.443.. Val L1 norm: 3.843.. Train Linf norm: 1916.676.. Val Linf norm: 556.015\n",
            "Epoch 12/123.. Train loss: 3.693.. Val loss: 2.748.. Train L1 norm: 36.975.. Val L1 norm: 4.007.. Train Linf norm: 8978.995.. Val Linf norm: 574.491\n",
            "Epoch 13/123.. Train loss: 3.658.. Val loss: 2.682.. Train L1 norm: 30.990.. Val L1 norm: 3.886.. Train Linf norm: 7434.583.. Val Linf norm: 566.310\n",
            "Epoch 14/123.. Train loss: 3.988.. Val loss: 2.707.. Train L1 norm: 39.188.. Val L1 norm: 3.996.. Train Linf norm: 9538.615.. Val Linf norm: 586.120\n",
            "Epoch 15/123.. Train loss: 4.134.. Val loss: 2.665.. Train L1 norm: 38.093.. Val L1 norm: 3.843.. Train Linf norm: 9269.364.. Val Linf norm: 560.095\n",
            "Epoch 16/123.. Train loss: 4.294.. Val loss: 2.659.. Train L1 norm: 7.364.. Val L1 norm: 3.834.. Train Linf norm: 1403.024.. Val Linf norm: 558.269\n",
            "Epoch 17/123.. Train loss: 3.602.. Val loss: 2.659.. Train L1 norm: 61.397.. Val L1 norm: 3.835.. Train Linf norm: 15242.310.. Val Linf norm: 558.383\n",
            "Epoch 18/123.. Train loss: 3.639.. Val loss: 2.656.. Train L1 norm: 33.701.. Val L1 norm: 3.829.. Train Linf norm: 8145.869.. Val Linf norm: 557.268\n",
            "Epoch 19/123.. Train loss: 3.149.. Val loss: 2.648.. Train L1 norm: 64.640.. Val L1 norm: 3.845.. Train Linf norm: 16069.490.. Val Linf norm: 558.734\n",
            "Epoch 20/123.. Train loss: 3.127.. Val loss: 2.651.. Train L1 norm: 27.574.. Val L1 norm: 3.859.. Train Linf norm: 6580.320.. Val Linf norm: 558.428\n",
            "Epoch 21/123.. Train loss: 3.992.. Val loss: 2.653.. Train L1 norm: 26.130.. Val L1 norm: 3.955.. Train Linf norm: 6194.304.. Val Linf norm: 577.648\n",
            "Epoch 22/123.. Train loss: 3.501.. Val loss: 2.655.. Train L1 norm: 42.921.. Val L1 norm: 3.761.. Train Linf norm: 10505.129.. Val Linf norm: 540.274\n",
            "Epoch 23/123.. Train loss: 3.479.. Val loss: 2.698.. Train L1 norm: 32.605.. Val L1 norm: 3.903.. Train Linf norm: 7868.925.. Val Linf norm: 559.785\n",
            "Epoch 24/123.. Train loss: 4.043.. Val loss: 2.702.. Train L1 norm: 48.474.. Val L1 norm: 3.933.. Train Linf norm: 11921.973.. Val Linf norm: 574.715\n",
            "Epoch 25/123.. Train loss: 3.730.. Val loss: 2.666.. Train L1 norm: 33.165.. Val L1 norm: 4.005.. Train Linf norm: 8016.313.. Val Linf norm: 574.520\n",
            "Epoch 26/123.. Train loss: 3.365.. Val loss: 2.587.. Train L1 norm: 17.349.. Val L1 norm: 3.850.. Train Linf norm: 3956.576.. Val Linf norm: 564.032\n",
            "Epoch 27/123.. Train loss: 3.592.. Val loss: 2.695.. Train L1 norm: 18.920.. Val L1 norm: 3.938.. Train Linf norm: 4367.713.. Val Linf norm: 586.990\n",
            "Epoch 28/123.. Train loss: 3.709.. Val loss: 2.673.. Train L1 norm: 37.492.. Val L1 norm: 3.211.. Train Linf norm: 9117.157.. Val Linf norm: 461.965\n",
            "Epoch 29/123.. Train loss: 4.350.. Val loss: 2.509.. Train L1 norm: 54.904.. Val L1 norm: 3.881.. Train Linf norm: 13577.904.. Val Linf norm: 565.812\n",
            "Epoch 30/123.. Train loss: 3.339.. Val loss: 2.470.. Train L1 norm: 46.344.. Val L1 norm: 3.744.. Train Linf norm: 11393.951.. Val Linf norm: 549.359\n",
            "Epoch 31/123.. Train loss: 3.091.. Val loss: 2.440.. Train L1 norm: 14.461.. Val L1 norm: 3.795.. Train Linf norm: 3225.362.. Val Linf norm: 557.331\n",
            "Epoch 32/123.. Train loss: 3.258.. Val loss: 2.455.. Train L1 norm: 16.774.. Val L1 norm: 3.998.. Train Linf norm: 3821.573.. Val Linf norm: 588.527\n",
            "Epoch 33/123.. Train loss: 4.288.. Val loss: 2.447.. Train L1 norm: 89.044.. Val L1 norm: 3.775.. Train Linf norm: 22306.841.. Val Linf norm: 548.493\n",
            "Epoch 34/123.. Train loss: 3.381.. Val loss: 2.471.. Train L1 norm: 24.873.. Val L1 norm: 3.568.. Train Linf norm: 5890.367.. Val Linf norm: 517.448\n",
            "Epoch 35/123.. Train loss: 5.490.. Val loss: 3.111.. Train L1 norm: 38.297.. Val L1 norm: 3.820.. Train Linf norm: 9335.781.. Val Linf norm: 549.795\n",
            "Epoch 36/123.. Train loss: 3.921.. Val loss: 2.410.. Train L1 norm: 12.038.. Val L1 norm: 3.625.. Train Linf norm: 2610.499.. Val Linf norm: 529.588\n",
            "Epoch 37/123.. Train loss: 3.652.. Val loss: 2.391.. Train L1 norm: 35.693.. Val L1 norm: 3.915.. Train Linf norm: 8673.984.. Val Linf norm: 573.707\n",
            "Epoch 38/123.. Train loss: 2.763.. Val loss: 2.744.. Train L1 norm: 20.823.. Val L1 norm: 3.664.. Train Linf norm: 4866.438.. Val Linf norm: 528.833\n",
            "Epoch 39/123.. Train loss: 3.791.. Val loss: 2.361.. Train L1 norm: 22.688.. Val L1 norm: 3.717.. Train Linf norm: 5337.314.. Val Linf norm: 545.075\n",
            "Epoch 40/123.. Train loss: 2.990.. Val loss: 2.315.. Train L1 norm: 17.964.. Val L1 norm: 3.591.. Train Linf norm: 4138.276.. Val Linf norm: 527.069\n",
            "Epoch 41/123.. Train loss: 3.198.. Val loss: 2.307.. Train L1 norm: 24.588.. Val L1 norm: 3.762.. Train Linf norm: 5835.803.. Val Linf norm: 558.868\n",
            "Epoch 42/123.. Train loss: 3.038.. Val loss: 2.327.. Train L1 norm: 38.872.. Val L1 norm: 3.776.. Train Linf norm: 9487.484.. Val Linf norm: 559.435\n",
            "Epoch 43/123.. Train loss: 2.627.. Val loss: 2.283.. Train L1 norm: 6.486.. Val L1 norm: 3.744.. Train Linf norm: 1203.123.. Val Linf norm: 554.973\n",
            "Epoch 44/123.. Train loss: 2.657.. Val loss: 2.286.. Train L1 norm: 28.807.. Val L1 norm: 3.705.. Train Linf norm: 6918.752.. Val Linf norm: 548.620\n",
            "Epoch 45/123.. Train loss: 2.638.. Val loss: 2.289.. Train L1 norm: 46.511.. Val L1 norm: 3.697.. Train Linf norm: 11456.361.. Val Linf norm: 545.996\n",
            "Epoch 46/123.. Train loss: 2.684.. Val loss: 2.273.. Train L1 norm: 22.365.. Val L1 norm: 3.721.. Train Linf norm: 5260.855.. Val Linf norm: 550.389\n",
            "Epoch 47/123.. Train loss: 2.799.. Val loss: 2.273.. Train L1 norm: 14.729.. Val L1 norm: 3.701.. Train Linf norm: 3314.208.. Val Linf norm: 547.336\n",
            "Epoch 48/123.. Train loss: 2.671.. Val loss: 2.275.. Train L1 norm: 12.114.. Val L1 norm: 3.683.. Train Linf norm: 2637.216.. Val Linf norm: 544.065\n",
            "Epoch 49/123.. Train loss: 2.854.. Val loss: 2.275.. Train L1 norm: 66.209.. Val L1 norm: 3.683.. Train Linf norm: 16491.665.. Val Linf norm: 544.056\n",
            "Epoch 50/123.. Train loss: 2.701.. Val loss: 2.276.. Train L1 norm: 10.662.. Val L1 norm: 3.677.. Train Linf norm: 2263.424.. Val Linf norm: 542.984\n",
            "Epoch 51/123.. Train loss: 2.892.. Val loss: 2.277.. Train L1 norm: 46.534.. Val L1 norm: 3.692.. Train Linf norm: 11458.009.. Val Linf norm: 545.372\n",
            "Epoch 52/123.. Train loss: 2.639.. Val loss: 2.283.. Train L1 norm: 61.681.. Val L1 norm: 3.693.. Train Linf norm: 15336.939.. Val Linf norm: 544.972\n",
            "Epoch 53/123.. Train loss: 2.776.. Val loss: 2.300.. Train L1 norm: 25.050.. Val L1 norm: 3.648.. Train Linf norm: 5941.201.. Val Linf norm: 537.714\n",
            "Epoch 54/123.. Train loss: 2.875.. Val loss: 2.267.. Train L1 norm: 11.748.. Val L1 norm: 3.719.. Train Linf norm: 2548.084.. Val Linf norm: 550.201\n",
            "Epoch 55/123.. Train loss: 2.935.. Val loss: 2.319.. Train L1 norm: 51.783.. Val L1 norm: 3.750.. Train Linf norm: 12803.192.. Val Linf norm: 552.190\n",
            "Epoch 56/123.. Train loss: 2.841.. Val loss: 2.267.. Train L1 norm: 31.393.. Val L1 norm: 3.689.. Train Linf norm: 7577.585.. Val Linf norm: 543.315\n",
            "Epoch 57/123.. Train loss: 2.708.. Val loss: 2.270.. Train L1 norm: 9.573.. Val L1 norm: 3.729.. Train Linf norm: 1994.636.. Val Linf norm: 550.651\n",
            "Epoch 58/123.. Train loss: 2.810.. Val loss: 2.262.. Train L1 norm: 12.601.. Val L1 norm: 3.640.. Train Linf norm: 2765.557.. Val Linf norm: 535.472\n",
            "Epoch 59/123.. Train loss: 2.684.. Val loss: 2.243.. Train L1 norm: 74.041.. Val L1 norm: 3.685.. Train Linf norm: 18503.354.. Val Linf norm: 544.462\n",
            "Epoch 60/123.. Train loss: 2.775.. Val loss: 2.243.. Train L1 norm: 11.193.. Val L1 norm: 3.635.. Train Linf norm: 2411.270.. Val Linf norm: 537.218\n",
            "Epoch 61/123.. Train loss: 2.577.. Val loss: 2.279.. Train L1 norm: 48.771.. Val L1 norm: 3.713.. Train Linf norm: 12032.709.. Val Linf norm: 548.726\n",
            "Epoch 62/123.. Train loss: 2.769.. Val loss: 2.248.. Train L1 norm: 4.734.. Val L1 norm: 3.565.. Train Linf norm: 757.687.. Val Linf norm: 525.919\n",
            "Epoch 63/123.. Train loss: 2.995.. Val loss: 2.247.. Train L1 norm: 45.208.. Val L1 norm: 3.639.. Train Linf norm: 11122.785.. Val Linf norm: 537.666\n",
            "Epoch 64/123.. Train loss: 2.750.. Val loss: 2.243.. Train L1 norm: 14.563.. Val L1 norm: 3.573.. Train Linf norm: 3276.910.. Val Linf norm: 527.183\n",
            "Epoch 65/123.. Train loss: 2.562.. Val loss: 2.221.. Train L1 norm: 51.592.. Val L1 norm: 3.560.. Train Linf norm: 12761.208.. Val Linf norm: 527.212\n",
            "Epoch 66/123.. Train loss: 2.883.. Val loss: 2.206.. Train L1 norm: 17.541.. Val L1 norm: 3.622.. Train Linf norm: 4046.921.. Val Linf norm: 538.029\n",
            "Epoch 67/123.. Train loss: 2.808.. Val loss: 2.587.. Train L1 norm: 12.031.. Val L1 norm: 2.659.. Train Linf norm: 2636.106.. Val Linf norm: 367.862\n",
            "Epoch 68/123.. Train loss: 2.675.. Val loss: 2.201.. Train L1 norm: 41.347.. Val L1 norm: 3.642.. Train Linf norm: 10133.899.. Val Linf norm: 539.919\n",
            "Epoch 69/123.. Train loss: 2.646.. Val loss: 2.242.. Train L1 norm: 11.600.. Val L1 norm: 3.584.. Train Linf norm: 2524.957.. Val Linf norm: 527.496\n",
            "Epoch 70/123.. Train loss: 2.534.. Val loss: 2.177.. Train L1 norm: 33.226.. Val L1 norm: 3.626.. Train Linf norm: 8060.286.. Val Linf norm: 540.601\n",
            "Epoch 71/123.. Train loss: 2.495.. Val loss: 2.179.. Train L1 norm: 23.219.. Val L1 norm: 3.587.. Train Linf norm: 5504.935.. Val Linf norm: 533.019\n",
            "Epoch 72/123.. Train loss: 2.665.. Val loss: 2.164.. Train L1 norm: 6.135.. Val L1 norm: 3.556.. Train Linf norm: 1125.887.. Val Linf norm: 528.559\n",
            "Epoch 73/123.. Train loss: 2.554.. Val loss: 2.211.. Train L1 norm: 7.671.. Val L1 norm: 3.779.. Train Linf norm: 1521.836.. Val Linf norm: 566.184\n",
            "Epoch 74/123.. Train loss: 2.515.. Val loss: 2.203.. Train L1 norm: 12.807.. Val L1 norm: 3.688.. Train Linf norm: 2830.846.. Val Linf norm: 553.213\n",
            "Epoch 75/123.. Train loss: 2.484.. Val loss: 2.186.. Train L1 norm: 8.305.. Val L1 norm: 3.722.. Train Linf norm: 1681.617.. Val Linf norm: 556.561\n",
            "Epoch 76/123.. Train loss: 2.590.. Val loss: 2.182.. Train L1 norm: 11.827.. Val L1 norm: 3.644.. Train Linf norm: 2579.321.. Val Linf norm: 544.595\n",
            "Epoch 77/123.. Train loss: 2.553.. Val loss: 2.176.. Train L1 norm: 20.379.. Val L1 norm: 3.662.. Train Linf norm: 4772.133.. Val Linf norm: 547.392\n",
            "Epoch 78/123.. Train loss: 2.495.. Val loss: 2.175.. Train L1 norm: 45.332.. Val L1 norm: 3.674.. Train Linf norm: 11164.811.. Val Linf norm: 549.546\n",
            "Epoch 79/123.. Train loss: 2.482.. Val loss: 2.175.. Train L1 norm: 11.136.. Val L1 norm: 3.656.. Train Linf norm: 2406.736.. Val Linf norm: 546.597\n",
            "Epoch 80/123.. Train loss: 2.584.. Val loss: 2.177.. Train L1 norm: 5.446.. Val L1 norm: 3.642.. Train Linf norm: 947.082.. Val Linf norm: 544.198\n",
            "Epoch 81/123.. Train loss: 2.523.. Val loss: 2.177.. Train L1 norm: 35.510.. Val L1 norm: 3.642.. Train Linf norm: 8645.061.. Val Linf norm: 544.187\n",
            "Epoch 82/123.. Train loss: 2.510.. Val loss: 2.177.. Train L1 norm: 6.871.. Val L1 norm: 3.643.. Train Linf norm: 1314.886.. Val Linf norm: 544.410\n",
            "Epoch 83/123.. Train loss: 2.476.. Val loss: 2.176.. Train L1 norm: 18.357.. Val L1 norm: 3.650.. Train Linf norm: 4255.038.. Val Linf norm: 545.748\n",
            "Epoch 84/123.. Train loss: 2.454.. Val loss: 2.174.. Train L1 norm: 36.205.. Val L1 norm: 3.642.. Train Linf norm: 8816.450.. Val Linf norm: 544.381\n",
            "Epoch 85/123.. Train loss: 2.457.. Val loss: 2.178.. Train L1 norm: 49.723.. Val L1 norm: 3.633.. Train Linf norm: 12287.834.. Val Linf norm: 542.796\n",
            "Epoch 86/123.. Train loss: 2.517.. Val loss: 2.173.. Train L1 norm: 14.880.. Val L1 norm: 3.670.. Train Linf norm: 3369.526.. Val Linf norm: 548.884\n",
            "Epoch 87/123.. Train loss: 2.511.. Val loss: 2.160.. Train L1 norm: 54.415.. Val L1 norm: 3.620.. Train Linf norm: 13491.241.. Val Linf norm: 541.778\n",
            "Epoch 88/123.. Train loss: 2.540.. Val loss: 2.146.. Train L1 norm: 29.539.. Val L1 norm: 3.637.. Train Linf norm: 7120.488.. Val Linf norm: 544.279\n",
            "Epoch 89/123.. Train loss: 2.429.. Val loss: 2.147.. Train L1 norm: 51.054.. Val L1 norm: 3.600.. Train Linf norm: 12627.627.. Val Linf norm: 537.894\n",
            "Epoch 90/123.. Train loss: 2.454.. Val loss: 2.136.. Train L1 norm: 16.562.. Val L1 norm: 3.559.. Train Linf norm: 3798.503.. Val Linf norm: 532.891\n",
            "Epoch 91/123.. Train loss: 2.514.. Val loss: 2.138.. Train L1 norm: 16.449.. Val L1 norm: 3.608.. Train Linf norm: 3775.250.. Val Linf norm: 539.742\n",
            "Epoch 92/123.. Train loss: 2.458.. Val loss: 2.122.. Train L1 norm: 81.407.. Val L1 norm: 3.493.. Train Linf norm: 20402.267.. Val Linf norm: 520.253\n",
            "Epoch 93/123.. Train loss: 2.469.. Val loss: 2.110.. Train L1 norm: 12.593.. Val L1 norm: 3.513.. Train Linf norm: 2785.697.. Val Linf norm: 523.738\n",
            "Epoch 94/123.. Train loss: 2.429.. Val loss: 2.115.. Train L1 norm: 15.151.. Val L1 norm: 3.422.. Train Linf norm: 3448.172.. Val Linf norm: 511.781\n",
            "Epoch 95/123.. Train loss: 2.405.. Val loss: 2.093.. Train L1 norm: 13.371.. Val L1 norm: 3.548.. Train Linf norm: 2992.865.. Val Linf norm: 530.341\n",
            "Epoch 96/123.. Train loss: 2.492.. Val loss: 2.096.. Train L1 norm: 17.275.. Val L1 norm: 3.515.. Train Linf norm: 3995.089.. Val Linf norm: 525.117\n",
            "Epoch 97/123.. Train loss: 2.420.. Val loss: 2.105.. Train L1 norm: 41.161.. Val L1 norm: 3.405.. Train Linf norm: 10111.186.. Val Linf norm: 508.006\n",
            "Epoch 98/123.. Train loss: 2.383.. Val loss: 2.073.. Train L1 norm: 27.500.. Val L1 norm: 3.398.. Train Linf norm: 6613.856.. Val Linf norm: 502.604\n",
            "Epoch 99/123.. Train loss: 2.395.. Val loss: 2.057.. Train L1 norm: 4.298.. Val L1 norm: 3.390.. Train Linf norm: 673.355.. Val Linf norm: 502.241\n",
            "Epoch 100/123.. Train loss: 2.390.. Val loss: 2.058.. Train L1 norm: 25.248.. Val L1 norm: 3.396.. Train Linf norm: 6039.172.. Val Linf norm: 504.231\n",
            "Epoch 101/123.. Train loss: 2.362.. Val loss: 2.037.. Train L1 norm: 32.335.. Val L1 norm: 3.367.. Train Linf norm: 7854.168.. Val Linf norm: 499.516\n",
            "Epoch 102/123.. Train loss: 2.360.. Val loss: 2.034.. Train L1 norm: 58.139.. Val L1 norm: 3.357.. Train Linf norm: 14459.885.. Val Linf norm: 496.477\n",
            "Epoch 103/123.. Train loss: 2.346.. Val loss: 2.020.. Train L1 norm: 12.095.. Val L1 norm: 3.374.. Train Linf norm: 2669.850.. Val Linf norm: 500.864\n",
            "Epoch 104/123.. Train loss: 2.328.. Val loss: 2.018.. Train L1 norm: 18.446.. Val L1 norm: 3.402.. Train Linf norm: 4295.234.. Val Linf norm: 508.060\n",
            "Epoch 105/123.. Train loss: 2.366.. Val loss: 2.029.. Train L1 norm: 13.386.. Val L1 norm: 3.249.. Train Linf norm: 3004.564.. Val Linf norm: 479.476\n",
            "Epoch 106/123.. Train loss: 2.330.. Val loss: 2.012.. Train L1 norm: 40.312.. Val L1 norm: 3.328.. Train Linf norm: 9897.259.. Val Linf norm: 494.331\n",
            "Epoch 107/123.. Train loss: 2.334.. Val loss: 2.014.. Train L1 norm: 38.453.. Val L1 norm: 3.373.. Train Linf norm: 9425.873.. Val Linf norm: 503.676\n",
            "Epoch 108/123.. Train loss: 2.318.. Val loss: 2.009.. Train L1 norm: 7.376.. Val L1 norm: 3.361.. Train Linf norm: 1466.233.. Val Linf norm: 500.908\n",
            "Epoch 109/123.. Train loss: 2.321.. Val loss: 2.006.. Train L1 norm: 6.053.. Val L1 norm: 3.376.. Train Linf norm: 1130.709.. Val Linf norm: 502.977\n",
            "Epoch 110/123.. Train loss: 2.316.. Val loss: 2.006.. Train L1 norm: 17.822.. Val L1 norm: 3.336.. Train Linf norm: 4144.662.. Val Linf norm: 496.309\n",
            "Epoch 111/123.. Train loss: 2.313.. Val loss: 2.005.. Train L1 norm: 17.689.. Val L1 norm: 3.359.. Train Linf norm: 4110.743.. Val Linf norm: 500.473\n",
            "Epoch 112/123.. Train loss: 2.335.. Val loss: 2.005.. Train L1 norm: 5.208.. Val L1 norm: 3.355.. Train Linf norm: 909.507.. Val Linf norm: 499.675\n",
            "Epoch 113/123.. Train loss: 2.331.. Val loss: 2.005.. Train L1 norm: 13.526.. Val L1 norm: 3.355.. Train Linf norm: 3043.678.. Val Linf norm: 499.663\n",
            "Epoch 114/123.. Train loss: 2.320.. Val loss: 2.005.. Train L1 norm: 5.789.. Val L1 norm: 3.351.. Train Linf norm: 1064.283.. Val Linf norm: 499.022\n",
            "Epoch 115/123.. Train loss: 2.348.. Val loss: 2.008.. Train L1 norm: 12.307.. Val L1 norm: 3.345.. Train Linf norm: 2734.318.. Val Linf norm: 497.858\n",
            "Epoch 116/123.. Train loss: 2.311.. Val loss: 2.007.. Train L1 norm: 26.109.. Val L1 norm: 3.345.. Train Linf norm: 6264.857.. Val Linf norm: 497.347\n",
            "Epoch 117/123.. Train loss: 2.319.. Val loss: 2.010.. Train L1 norm: 24.888.. Val L1 norm: 3.332.. Train Linf norm: 5948.064.. Val Linf norm: 494.661\n",
            "Epoch 118/123.. Train loss: 2.324.. Val loss: 2.006.. Train L1 norm: 18.770.. Val L1 norm: 3.343.. Train Linf norm: 4384.341.. Val Linf norm: 497.178\n",
            "Epoch 119/123.. Train loss: 2.314.. Val loss: 2.002.. Train L1 norm: 72.567.. Val L1 norm: 3.351.. Train Linf norm: 18158.477.. Val Linf norm: 497.958\n",
            "Epoch 120/123.. Train loss: 2.311.. Val loss: 1.998.. Train L1 norm: 16.231.. Val L1 norm: 3.368.. Train Linf norm: 3735.020.. Val Linf norm: 502.859\n",
            "Epoch 121/123.. Train loss: 2.315.. Val loss: 1.996.. Train L1 norm: 8.813.. Val L1 norm: 3.321.. Train Linf norm: 1836.375.. Val Linf norm: 494.321\n",
            "Epoch 122/123.. Train loss: 2.306.. Val loss: 1.994.. Train L1 norm: 11.254.. Val L1 norm: 3.277.. Train Linf norm: 2459.329.. Val Linf norm: 486.333\n"
          ]
        },
        {
          "metadata": {
            "tags": null
          },
          "name": "stderr",
          "output_type": "stream",
          "text": [
            "[I 2023-06-04 10:18:51,559] Trial 0 finished with value: 3.3472999926249187 and parameters: {'n_layers': 2, 'n_units_0': 2662, 'n_units_1': 2278, 'hidden_activation': 'ReLU', 'output_activation': 'Linear', 'loss': 'Huber', 'optimizer': 'Adagrad', 'lr': 0.005721096002601801, 'batch_size': 256, 'n_epochs': 123, 'scheduler': 'CosineAnnealingLR', 'dropout_rate': 0.2638161450847333, 't_max_fraction': 0.13802683299994506, 'eta_min': 6.477578825593739e-07}. Best is trial 0 with value: 3.3472999926249187.\n"
          ]
        },
        {
          "metadata": {
            "tags": null
          },
          "name": "stdout",
          "output_type": "stream",
          "text": [
            "Epoch 123/123.. Train loss: 2.303.. Val loss: 1.989.. Train L1 norm: 6.021.. Val L1 norm: 3.347.. Train Linf norm: 1124.131.. Val Linf norm: 499.969\n"
          ]
        },
        {
          "data": {
            "text/html": [
              "<html>\n",
              "<head><meta charset=\"utf-8\" /></head>\n",
              "<body>\n",
              "    <div>            <script src=\"https://cdnjs.cloudflare.com/ajax/libs/mathjax/2.7.5/MathJax.js?config=TeX-AMS-MML_SVG\"></script><script type=\"text/javascript\">if (window.MathJax && window.MathJax.Hub && window.MathJax.Hub.Config) {window.MathJax.Hub.Config({SVG: {font: \"STIX-Web\"}});}</script>                <script type=\"text/javascript\">window.PlotlyConfig = {MathJaxConfig: 'local'};</script>\n",
              "        <script src=\"https://cdn.plot.ly/plotly-2.18.2.min.js\"></script>                <div id=\"78eee451-44bf-4d59-af4f-ac3f3f0c7970\" class=\"plotly-graph-div\" style=\"height:525px; width:100%;\"></div>            <script type=\"text/javascript\">                                    window.PLOTLYENV=window.PLOTLYENV || {};                                    if (document.getElementById(\"78eee451-44bf-4d59-af4f-ac3f3f0c7970\")) {                    Plotly.newPlot(                        \"78eee451-44bf-4d59-af4f-ac3f3f0c7970\",                        [{\"mode\":\"markers\",\"name\":\"Objective Value\",\"x\":[0],\"y\":[3.3472999926249187],\"type\":\"scatter\"},{\"name\":\"Best Value\",\"x\":[0],\"y\":[3.3472999926249187],\"type\":\"scatter\"}],                        {\"title\":{\"text\":\"Optimization History Plot\"},\"xaxis\":{\"title\":{\"text\":\"Trial\"}},\"yaxis\":{\"title\":{\"text\":\"Objective Value\"}},\"template\":{\"data\":{\"histogram2dcontour\":[{\"type\":\"histogram2dcontour\",\"colorbar\":{\"outlinewidth\":0,\"ticks\":\"\"},\"colorscale\":[[0.0,\"#0d0887\"],[0.1111111111111111,\"#46039f\"],[0.2222222222222222,\"#7201a8\"],[0.3333333333333333,\"#9c179e\"],[0.4444444444444444,\"#bd3786\"],[0.5555555555555556,\"#d8576b\"],[0.6666666666666666,\"#ed7953\"],[0.7777777777777778,\"#fb9f3a\"],[0.8888888888888888,\"#fdca26\"],[1.0,\"#f0f921\"]]}],\"choropleth\":[{\"type\":\"choropleth\",\"colorbar\":{\"outlinewidth\":0,\"ticks\":\"\"}}],\"histogram2d\":[{\"type\":\"histogram2d\",\"colorbar\":{\"outlinewidth\":0,\"ticks\":\"\"},\"colorscale\":[[0.0,\"#0d0887\"],[0.1111111111111111,\"#46039f\"],[0.2222222222222222,\"#7201a8\"],[0.3333333333333333,\"#9c179e\"],[0.4444444444444444,\"#bd3786\"],[0.5555555555555556,\"#d8576b\"],[0.6666666666666666,\"#ed7953\"],[0.7777777777777778,\"#fb9f3a\"],[0.8888888888888888,\"#fdca26\"],[1.0,\"#f0f921\"]]}],\"heatmap\":[{\"type\":\"heatmap\",\"colorbar\":{\"outlinewidth\":0,\"ticks\":\"\"},\"colorscale\":[[0.0,\"#0d0887\"],[0.1111111111111111,\"#46039f\"],[0.2222222222222222,\"#7201a8\"],[0.3333333333333333,\"#9c179e\"],[0.4444444444444444,\"#bd3786\"],[0.5555555555555556,\"#d8576b\"],[0.6666666666666666,\"#ed7953\"],[0.7777777777777778,\"#fb9f3a\"],[0.8888888888888888,\"#fdca26\"],[1.0,\"#f0f921\"]]}],\"heatmapgl\":[{\"type\":\"heatmapgl\",\"colorbar\":{\"outlinewidth\":0,\"ticks\":\"\"},\"colorscale\":[[0.0,\"#0d0887\"],[0.1111111111111111,\"#46039f\"],[0.2222222222222222,\"#7201a8\"],[0.3333333333333333,\"#9c179e\"],[0.4444444444444444,\"#bd3786\"],[0.5555555555555556,\"#d8576b\"],[0.6666666666666666,\"#ed7953\"],[0.7777777777777778,\"#fb9f3a\"],[0.8888888888888888,\"#fdca26\"],[1.0,\"#f0f921\"]]}],\"contourcarpet\":[{\"type\":\"contourcarpet\",\"colorbar\":{\"outlinewidth\":0,\"ticks\":\"\"}}],\"contour\":[{\"type\":\"contour\",\"colorbar\":{\"outlinewidth\":0,\"ticks\":\"\"},\"colorscale\":[[0.0,\"#0d0887\"],[0.1111111111111111,\"#46039f\"],[0.2222222222222222,\"#7201a8\"],[0.3333333333333333,\"#9c179e\"],[0.4444444444444444,\"#bd3786\"],[0.5555555555555556,\"#d8576b\"],[0.6666666666666666,\"#ed7953\"],[0.7777777777777778,\"#fb9f3a\"],[0.8888888888888888,\"#fdca26\"],[1.0,\"#f0f921\"]]}],\"surface\":[{\"type\":\"surface\",\"colorbar\":{\"outlinewidth\":0,\"ticks\":\"\"},\"colorscale\":[[0.0,\"#0d0887\"],[0.1111111111111111,\"#46039f\"],[0.2222222222222222,\"#7201a8\"],[0.3333333333333333,\"#9c179e\"],[0.4444444444444444,\"#bd3786\"],[0.5555555555555556,\"#d8576b\"],[0.6666666666666666,\"#ed7953\"],[0.7777777777777778,\"#fb9f3a\"],[0.8888888888888888,\"#fdca26\"],[1.0,\"#f0f921\"]]}],\"mesh3d\":[{\"type\":\"mesh3d\",\"colorbar\":{\"outlinewidth\":0,\"ticks\":\"\"}}],\"scatter\":[{\"fillpattern\":{\"fillmode\":\"overlay\",\"size\":10,\"solidity\":0.2},\"type\":\"scatter\"}],\"parcoords\":[{\"type\":\"parcoords\",\"line\":{\"colorbar\":{\"outlinewidth\":0,\"ticks\":\"\"}}}],\"scatterpolargl\":[{\"type\":\"scatterpolargl\",\"marker\":{\"colorbar\":{\"outlinewidth\":0,\"ticks\":\"\"}}}],\"bar\":[{\"error_x\":{\"color\":\"#2a3f5f\"},\"error_y\":{\"color\":\"#2a3f5f\"},\"marker\":{\"line\":{\"color\":\"#E5ECF6\",\"width\":0.5},\"pattern\":{\"fillmode\":\"overlay\",\"size\":10,\"solidity\":0.2}},\"type\":\"bar\"}],\"scattergeo\":[{\"type\":\"scattergeo\",\"marker\":{\"colorbar\":{\"outlinewidth\":0,\"ticks\":\"\"}}}],\"scatterpolar\":[{\"type\":\"scatterpolar\",\"marker\":{\"colorbar\":{\"outlinewidth\":0,\"ticks\":\"\"}}}],\"histogram\":[{\"marker\":{\"pattern\":{\"fillmode\":\"overlay\",\"size\":10,\"solidity\":0.2}},\"type\":\"histogram\"}],\"scattergl\":[{\"type\":\"scattergl\",\"marker\":{\"colorbar\":{\"outlinewidth\":0,\"ticks\":\"\"}}}],\"scatter3d\":[{\"type\":\"scatter3d\",\"line\":{\"colorbar\":{\"outlinewidth\":0,\"ticks\":\"\"}},\"marker\":{\"colorbar\":{\"outlinewidth\":0,\"ticks\":\"\"}}}],\"scattermapbox\":[{\"type\":\"scattermapbox\",\"marker\":{\"colorbar\":{\"outlinewidth\":0,\"ticks\":\"\"}}}],\"scatterternary\":[{\"type\":\"scatterternary\",\"marker\":{\"colorbar\":{\"outlinewidth\":0,\"ticks\":\"\"}}}],\"scattercarpet\":[{\"type\":\"scattercarpet\",\"marker\":{\"colorbar\":{\"outlinewidth\":0,\"ticks\":\"\"}}}],\"carpet\":[{\"aaxis\":{\"endlinecolor\":\"#2a3f5f\",\"gridcolor\":\"white\",\"linecolor\":\"white\",\"minorgridcolor\":\"white\",\"startlinecolor\":\"#2a3f5f\"},\"baxis\":{\"endlinecolor\":\"#2a3f5f\",\"gridcolor\":\"white\",\"linecolor\":\"white\",\"minorgridcolor\":\"white\",\"startlinecolor\":\"#2a3f5f\"},\"type\":\"carpet\"}],\"table\":[{\"cells\":{\"fill\":{\"color\":\"#EBF0F8\"},\"line\":{\"color\":\"white\"}},\"header\":{\"fill\":{\"color\":\"#C8D4E3\"},\"line\":{\"color\":\"white\"}},\"type\":\"table\"}],\"barpolar\":[{\"marker\":{\"line\":{\"color\":\"#E5ECF6\",\"width\":0.5},\"pattern\":{\"fillmode\":\"overlay\",\"size\":10,\"solidity\":0.2}},\"type\":\"barpolar\"}],\"pie\":[{\"automargin\":true,\"type\":\"pie\"}]},\"layout\":{\"autotypenumbers\":\"strict\",\"colorway\":[\"#636efa\",\"#EF553B\",\"#00cc96\",\"#ab63fa\",\"#FFA15A\",\"#19d3f3\",\"#FF6692\",\"#B6E880\",\"#FF97FF\",\"#FECB52\"],\"font\":{\"color\":\"#2a3f5f\"},\"hovermode\":\"closest\",\"hoverlabel\":{\"align\":\"left\"},\"paper_bgcolor\":\"white\",\"plot_bgcolor\":\"#E5ECF6\",\"polar\":{\"bgcolor\":\"#E5ECF6\",\"angularaxis\":{\"gridcolor\":\"white\",\"linecolor\":\"white\",\"ticks\":\"\"},\"radialaxis\":{\"gridcolor\":\"white\",\"linecolor\":\"white\",\"ticks\":\"\"}},\"ternary\":{\"bgcolor\":\"#E5ECF6\",\"aaxis\":{\"gridcolor\":\"white\",\"linecolor\":\"white\",\"ticks\":\"\"},\"baxis\":{\"gridcolor\":\"white\",\"linecolor\":\"white\",\"ticks\":\"\"},\"caxis\":{\"gridcolor\":\"white\",\"linecolor\":\"white\",\"ticks\":\"\"}},\"coloraxis\":{\"colorbar\":{\"outlinewidth\":0,\"ticks\":\"\"}},\"colorscale\":{\"sequential\":[[0.0,\"#0d0887\"],[0.1111111111111111,\"#46039f\"],[0.2222222222222222,\"#7201a8\"],[0.3333333333333333,\"#9c179e\"],[0.4444444444444444,\"#bd3786\"],[0.5555555555555556,\"#d8576b\"],[0.6666666666666666,\"#ed7953\"],[0.7777777777777778,\"#fb9f3a\"],[0.8888888888888888,\"#fdca26\"],[1.0,\"#f0f921\"]],\"sequentialminus\":[[0.0,\"#0d0887\"],[0.1111111111111111,\"#46039f\"],[0.2222222222222222,\"#7201a8\"],[0.3333333333333333,\"#9c179e\"],[0.4444444444444444,\"#bd3786\"],[0.5555555555555556,\"#d8576b\"],[0.6666666666666666,\"#ed7953\"],[0.7777777777777778,\"#fb9f3a\"],[0.8888888888888888,\"#fdca26\"],[1.0,\"#f0f921\"]],\"diverging\":[[0,\"#8e0152\"],[0.1,\"#c51b7d\"],[0.2,\"#de77ae\"],[0.3,\"#f1b6da\"],[0.4,\"#fde0ef\"],[0.5,\"#f7f7f7\"],[0.6,\"#e6f5d0\"],[0.7,\"#b8e186\"],[0.8,\"#7fbc41\"],[0.9,\"#4d9221\"],[1,\"#276419\"]]},\"xaxis\":{\"gridcolor\":\"white\",\"linecolor\":\"white\",\"ticks\":\"\",\"title\":{\"standoff\":15},\"zerolinecolor\":\"white\",\"automargin\":true,\"zerolinewidth\":2},\"yaxis\":{\"gridcolor\":\"white\",\"linecolor\":\"white\",\"ticks\":\"\",\"title\":{\"standoff\":15},\"zerolinecolor\":\"white\",\"automargin\":true,\"zerolinewidth\":2},\"scene\":{\"xaxis\":{\"backgroundcolor\":\"#E5ECF6\",\"gridcolor\":\"white\",\"linecolor\":\"white\",\"showbackground\":true,\"ticks\":\"\",\"zerolinecolor\":\"white\",\"gridwidth\":2},\"yaxis\":{\"backgroundcolor\":\"#E5ECF6\",\"gridcolor\":\"white\",\"linecolor\":\"white\",\"showbackground\":true,\"ticks\":\"\",\"zerolinecolor\":\"white\",\"gridwidth\":2},\"zaxis\":{\"backgroundcolor\":\"#E5ECF6\",\"gridcolor\":\"white\",\"linecolor\":\"white\",\"showbackground\":true,\"ticks\":\"\",\"zerolinecolor\":\"white\",\"gridwidth\":2}},\"shapedefaults\":{\"line\":{\"color\":\"#2a3f5f\"}},\"annotationdefaults\":{\"arrowcolor\":\"#2a3f5f\",\"arrowhead\":0,\"arrowwidth\":1},\"geo\":{\"bgcolor\":\"white\",\"landcolor\":\"#E5ECF6\",\"subunitcolor\":\"white\",\"showland\":true,\"showlakes\":true,\"lakecolor\":\"white\"},\"title\":{\"x\":0.05},\"mapbox\":{\"style\":\"light\"}}}},                        {\"responsive\": true}                    ).then(function(){\n",
              "                            \n",
              "var gd = document.getElementById('78eee451-44bf-4d59-af4f-ac3f3f0c7970');\n",
              "var x = new MutationObserver(function (mutations, observer) {{\n",
              "        var display = window.getComputedStyle(gd).display;\n",
              "        if (!display || display === 'none') {{\n",
              "            console.log([gd, 'removed!']);\n",
              "            Plotly.purge(gd);\n",
              "            observer.disconnect();\n",
              "        }}\n",
              "}});\n",
              "\n",
              "// Listen for the removal of the full notebook cells\n",
              "var notebookContainer = gd.closest('#notebook-container');\n",
              "if (notebookContainer) {{\n",
              "    x.observe(notebookContainer, {childList: true});\n",
              "}}\n",
              "\n",
              "// Listen for the clearing of the current output cell\n",
              "var outputEl = gd.closest('.output');\n",
              "if (outputEl) {{\n",
              "    x.observe(outputEl, {childList: true});\n",
              "}}\n",
              "\n",
              "                        })                };                            </script>        </div>\n",
              "</body>\n",
              "</html>"
            ]
          },
          "metadata": {},
          "output_type": "display_data"
        },
        {
          "metadata": {
            "tags": null
          },
          "name": "stderr",
          "output_type": "stream",
          "text": [
            "<ipython-input-78-65280db254a0>:44: FutureWarning:\n",
            "\n",
            "suggest_loguniform has been deprecated in v3.0.0. This feature will be removed in v6.0.0. See https://github.com/optuna/optuna/releases/tag/v3.0.0. Use suggest_float(..., log=True) instead.\n",
            "\n",
            "<ipython-input-78-65280db254a0>:76: FutureWarning:\n",
            "\n",
            "suggest_uniform has been deprecated in v3.0.0. This feature will be removed in v6.0.0. See https://github.com/optuna/optuna/releases/tag/v3.0.0. Use suggest_float instead.\n",
            "\n",
            "<ipython-input-78-65280db254a0>:149: FutureWarning:\n",
            "\n",
            "suggest_loguniform has been deprecated in v3.0.0. This feature will be removed in v6.0.0. See https://github.com/optuna/optuna/releases/tag/v3.0.0. Use suggest_float(..., log=True) instead.\n",
            "\n",
            "<ipython-input-78-65280db254a0>:150: FutureWarning:\n",
            "\n",
            "suggest_uniform has been deprecated in v3.0.0. This feature will be removed in v6.0.0. See https://github.com/optuna/optuna/releases/tag/v3.0.0. Use suggest_float instead.\n",
            "\n",
            "<ipython-input-78-65280db254a0>:151: FutureWarning:\n",
            "\n",
            "suggest_uniform has been deprecated in v3.0.0. This feature will be removed in v6.0.0. See https://github.com/optuna/optuna/releases/tag/v3.0.0. Use suggest_float instead.\n",
            "\n",
            "<ipython-input-78-65280db254a0>:168: FutureWarning:\n",
            "\n",
            "suggest_uniform has been deprecated in v3.0.0. This feature will be removed in v6.0.0. See https://github.com/optuna/optuna/releases/tag/v3.0.0. Use suggest_float instead.\n",
            "\n",
            "<ipython-input-78-65280db254a0>:175: FutureWarning:\n",
            "\n",
            "suggest_loguniform has been deprecated in v3.0.0. This feature will be removed in v6.0.0. See https://github.com/optuna/optuna/releases/tag/v3.0.0. Use suggest_float(..., log=True) instead.\n",
            "\n"
          ]
        },
        {
          "metadata": {
            "tags": null
          },
          "name": "stdout",
          "output_type": "stream",
          "text": [
            "Epoch 1/70.. Train loss: 814948.694.. Val loss: 319.060.. Train L1 norm: 127.328.. Val L1 norm: 3.221.. Train Linf norm: 7886.782.. Val Linf norm: 117.267\n",
            "Epoch 2/70.. Train loss: 13719.955.. Val loss: 116.628.. Train L1 norm: 17.709.. Val L1 norm: 3.935.. Train Linf norm: 1037.964.. Val Linf norm: 152.422\n",
            "Epoch 3/70.. Train loss: 225.604.. Val loss: 86.476.. Train L1 norm: 69.370.. Val L1 norm: 6.744.. Train Linf norm: 4306.239.. Val Linf norm: 282.323\n",
            "Epoch 4/70.. Train loss: 118.818.. Val loss: 86.609.. Train L1 norm: 82.623.. Val L1 norm: 8.252.. Train Linf norm: 5146.210.. Val Linf norm: 350.453\n",
            "Epoch 5/70.. Train loss: 123.481.. Val loss: 85.301.. Train L1 norm: 39.994.. Val L1 norm: 8.373.. Train Linf norm: 2421.597.. Val Linf norm: 356.054\n",
            "Epoch 6/70.. Train loss: 418967.902.. Val loss: 151.737.. Train L1 norm: 81.560.. Val L1 norm: 7.868.. Train Linf norm: 5085.526.. Val Linf norm: 333.996\n",
            "Epoch 7/70.. Train loss: 10020.279.. Val loss: 103.190.. Train L1 norm: 61.977.. Val L1 norm: 7.254.. Train Linf norm: 3836.515.. Val Linf norm: 312.145\n",
            "Epoch 8/70.. Train loss: 818.872.. Val loss: 188.221.. Train L1 norm: 35.111.. Val L1 norm: 7.261.. Train Linf norm: 2120.309.. Val Linf norm: 308.571\n",
            "Epoch 9/70.. Train loss: 176379.575.. Val loss: 762.445.. Train L1 norm: 11.256.. Val L1 norm: 7.107.. Train Linf norm: 587.462.. Val Linf norm: 302.795\n",
            "Epoch 10/70.. Train loss: 319911.061.. Val loss: 155.867.. Train L1 norm: 13.206.. Val L1 norm: 6.417.. Train Linf norm: 708.883.. Val Linf norm: 271.058\n",
            "Epoch 11/70.. Train loss: 1583703.204.. Val loss: 46966.866.. Train L1 norm: 38.114.. Val L1 norm: 11.456.. Train Linf norm: 2115.474.. Val Linf norm: 493.863\n",
            "Epoch 12/70.. Train loss: 610698384.150.. Val loss: 64887.975.. Train L1 norm: 813.229.. Val L1 norm: 14.927.. Train Linf norm: 51244.045.. Val Linf norm: 661.579\n",
            "Epoch 13/70.. Train loss: 93152288.792.. Val loss: 24710.978.. Train L1 norm: 95.761.. Val L1 norm: 12.789.. Train Linf norm: 5306.867.. Val Linf norm: 525.569\n",
            "Epoch 14/70.. Train loss: 713004852.317.. Val loss: 78845.545.. Train L1 norm: 452.231.. Val L1 norm: 10.786.. Train Linf norm: 28205.000.. Val Linf norm: 454.774\n",
            "Epoch 15/70.. Train loss: 168647401.140.. Val loss: 211645.687.. Train L1 norm: 42.908.. Val L1 norm: 10.076.. Train Linf norm: 2087.228.. Val Linf norm: 397.471\n",
            "Epoch 16/70.. Train loss: 2036801782.312.. Val loss: 22808.320.. Train L1 norm: 391.117.. Val L1 norm: 9.703.. Train Linf norm: 24450.523.. Val Linf norm: 409.027\n",
            "Epoch 17/70.. Train loss: 120231875.313.. Val loss: 11399.228.. Train L1 norm: 117.838.. Val L1 norm: 12.369.. Train Linf norm: 6999.620.. Val Linf norm: 529.622\n",
            "Epoch 18/70.. Train loss: 37299325.447.. Val loss: 6091.122.. Train L1 norm: 106.430.. Val L1 norm: 9.735.. Train Linf norm: 6301.293.. Val Linf norm: 420.455\n",
            "Epoch 19/70.. Train loss: 1117078.100.. Val loss: 5650.291.. Train L1 norm: 33.023.. Val L1 norm: 9.463.. Train Linf norm: 1616.378.. Val Linf norm: 408.794\n",
            "Epoch 20/70.. Train loss: 185745470.496.. Val loss: 13216.183.. Train L1 norm: 282.301.. Val L1 norm: 7.207.. Train Linf norm: 17575.163.. Val Linf norm: 304.825\n",
            "Epoch 21/70.. Train loss: 9832441.882.. Val loss: 3810.711.. Train L1 norm: 41.767.. Val L1 norm: 10.555.. Train Linf norm: 2192.026.. Val Linf norm: 449.544\n",
            "Epoch 22/70.. Train loss: 5239684.325.. Val loss: 55365.790.. Train L1 norm: 139.777.. Val L1 norm: 8.754.. Train Linf norm: 8475.707.. Val Linf norm: 362.060\n",
            "Epoch 23/70.. Train loss: 297698443.902.. Val loss: 31441.928.. Train L1 norm: 53.552.. Val L1 norm: 7.988.. Train Linf norm: 2927.883.. Val Linf norm: 336.822\n",
            "Epoch 24/70.. Train loss: 86261366.307.. Val loss: 92033.280.. Train L1 norm: 251.285.. Val L1 norm: 12.775.. Train Linf norm: 15623.831.. Val Linf norm: 542.620\n",
            "Epoch 25/70.. Train loss: 40042448.481.. Val loss: 55660.857.. Train L1 norm: 347.206.. Val L1 norm: 11.127.. Train Linf norm: 21696.821.. Val Linf norm: 482.055\n",
            "Epoch 26/70.. Train loss: 571628806.323.. Val loss: 50166.643.. Train L1 norm: 333.854.. Val L1 norm: 14.115.. Train Linf norm: 20804.066.. Val Linf norm: 592.911\n",
            "Epoch 27/70.. Train loss: 751732688.100.. Val loss: 21730.898.. Train L1 norm: 65.439.. Val L1 norm: 7.127.. Train Linf norm: 3566.700.. Val Linf norm: 287.717\n",
            "Epoch 28/70.. Train loss: 560242457.581.. Val loss: 36982.240.. Train L1 norm: 137.883.. Val L1 norm: 12.590.. Train Linf norm: 8164.728.. Val Linf norm: 549.311\n",
            "Epoch 29/70.. Train loss: 2735966211.245.. Val loss: 113689.425.. Train L1 norm: 122.751.. Val L1 norm: 14.535.. Train Linf norm: 7097.430.. Val Linf norm: 608.066\n",
            "Epoch 30/70.. Train loss: 3824429850.108.. Val loss: 581326.514.. Train L1 norm: 148.933.. Val L1 norm: 18.773.. Train Linf norm: 8559.008.. Val Linf norm: 837.324\n",
            "Epoch 31/70.. Train loss: 36142476.198.. Val loss: 95705.753.. Train L1 norm: 733.024.. Val L1 norm: 32.712.. Train Linf norm: 45224.878.. Val Linf norm: 1349.744\n",
            "Epoch 32/70.. Train loss: 1069635855.396.. Val loss: 5518734.523.. Train L1 norm: 1525.476.. Val L1 norm: 128.574.. Train Linf norm: 95234.393.. Val Linf norm: 5315.790\n",
            "Epoch 33/70.. Train loss: 2284584480.820.. Val loss: 2064627.555.. Train L1 norm: 759.109.. Val L1 norm: 51.981.. Train Linf norm: 45581.835.. Val Linf norm: 2238.434\n",
            "Epoch 34/70.. Train loss: 1854966625.534.. Val loss: 12937068.183.. Train L1 norm: 4839.319.. Val L1 norm: 78.364.. Train Linf norm: 306342.191.. Val Linf norm: 3469.777\n",
            "Epoch 35/70.. Train loss: 25869733573.899.. Val loss: 1368910.521.. Train L1 norm: 524.538.. Val L1 norm: 50.582.. Train Linf norm: 29283.737.. Val Linf norm: 2191.382\n",
            "Epoch 36/70.. Train loss: 300236637.547.. Val loss: 10757689.833.. Train L1 norm: 655.457.. Val L1 norm: 43.053.. Train Linf norm: 37783.888.. Val Linf norm: 1811.125\n",
            "Epoch 37/70.. Train loss: 14624879324.028.. Val loss: 101394.778.. Train L1 norm: 783.624.. Val L1 norm: 53.730.. Train Linf norm: 45102.568.. Val Linf norm: 2205.128\n",
            "Epoch 38/70.. Train loss: 447839590.288.. Val loss: 232730525.236.. Train L1 norm: 4738.186.. Val L1 norm: 718.538.. Train Linf norm: 287902.889.. Val Linf norm: 29958.478\n",
            "Epoch 39/70.. Train loss: 55046218948.058.. Val loss: 34497735.984.. Train L1 norm: 8122.125.. Val L1 norm: 165.842.. Train Linf norm: 496263.500.. Val Linf norm: 6919.348\n",
            "Epoch 40/70.. Train loss: 28338385796.591.. Val loss: 5756507.492.. Train L1 norm: 8186.877.. Val L1 norm: 155.345.. Train Linf norm: 501102.541.. Val Linf norm: 7131.588\n",
            "Epoch 41/70.. Train loss: 132410550331.987.. Val loss: 11221233.567.. Train L1 norm: 9903.400.. Val L1 norm: 150.992.. Train Linf norm: 612374.020.. Val Linf norm: 6354.662\n",
            "Epoch 42/70.. Train loss: 4383964907.165.. Val loss: 6265135.011.. Train L1 norm: 10618.426.. Val L1 norm: 210.079.. Train Linf norm: 656713.532.. Val Linf norm: 8902.495\n",
            "Epoch 43/70.. Train loss: 962825178433.525.. Val loss: 18312791.055.. Train L1 norm: 29688.745.. Val L1 norm: 1138.390.. Train Linf norm: 1867059.828.. Val Linf norm: 49187.765\n",
            "Epoch 44/70.. Train loss: 111919847779.924.. Val loss: 22019149.599.. Train L1 norm: 23208.644.. Val L1 norm: 415.321.. Train Linf norm: 1445881.299.. Val Linf norm: 17780.503\n",
            "Epoch 45/70.. Train loss: 1924194224126.073.. Val loss: 57977907.501.. Train L1 norm: 18984.205.. Val L1 norm: 1037.156.. Train Linf norm: 1177796.393.. Val Linf norm: 43223.603\n",
            "Epoch 46/70.. Train loss: 908574371706.491.. Val loss: 14845905.118.. Train L1 norm: 6831.350.. Val L1 norm: 776.256.. Train Linf norm: 400783.712.. Val Linf norm: 32971.676\n",
            "Epoch 47/70.. Train loss: 1380548025541.019.. Val loss: 505578934.679.. Train L1 norm: 16851.247.. Val L1 norm: 436.849.. Train Linf norm: 1037773.143.. Val Linf norm: 19040.195\n",
            "Epoch 48/70.. Train loss: 82953000509.653.. Val loss: 453648488.957.. Train L1 norm: 15779.296.. Val L1 norm: 510.396.. Train Linf norm: 969909.196.. Val Linf norm: 20441.222\n",
            "Epoch 49/70.. Train loss: 1151726408163.831.. Val loss: 23794284.756.. Train L1 norm: 4036.066.. Val L1 norm: 676.400.. Train Linf norm: 220585.869.. Val Linf norm: 28703.621\n",
            "Epoch 50/70.. Train loss: 22615523919.324.. Val loss: 71355395.640.. Train L1 norm: 3993.464.. Val L1 norm: 227.304.. Train Linf norm: 220128.159.. Val Linf norm: 9286.118\n",
            "Epoch 51/70.. Train loss: 528375872870.819.. Val loss: 14033071.682.. Train L1 norm: 17154.730.. Val L1 norm: 778.716.. Train Linf norm: 1064069.002.. Val Linf norm: 32629.596\n",
            "Epoch 52/70.. Train loss: 52084710531.530.. Val loss: 37602327.572.. Train L1 norm: 12211.574.. Val L1 norm: 580.066.. Train Linf norm: 748102.897.. Val Linf norm: 24015.633\n",
            "Epoch 53/70.. Train loss: 316129266103.196.. Val loss: 55021591.567.. Train L1 norm: 18526.114.. Val L1 norm: 509.515.. Train Linf norm: 1152374.981.. Val Linf norm: 21215.860\n",
            "Epoch 54/70.. Train loss: 1024879236277.347.. Val loss: 51058312.182.. Train L1 norm: 5352.831.. Val L1 norm: 525.236.. Train Linf norm: 310588.654.. Val Linf norm: 21855.977\n",
            "Epoch 55/70.. Train loss: 9869637164.165.. Val loss: 53410895.419.. Train L1 norm: 27343.141.. Val L1 norm: 514.443.. Train Linf norm: 1717880.240.. Val Linf norm: 21412.265\n",
            "Epoch 56/70.. Train loss: 42498487344.180.. Val loss: 31456889.127.. Train L1 norm: 13406.981.. Val L1 norm: 604.500.. Train Linf norm: 825858.049.. Val Linf norm: 25106.654\n",
            "Epoch 57/70.. Train loss: 592159597477.313.. Val loss: 16015929.136.. Train L1 norm: 9796.478.. Val L1 norm: 658.335.. Train Linf norm: 594585.440.. Val Linf norm: 27580.381\n",
            "Epoch 58/70.. Train loss: 15924727073.718.. Val loss: 6465733.582.. Train L1 norm: 14894.797.. Val L1 norm: 718.086.. Train Linf norm: 921618.501.. Val Linf norm: 30044.454\n",
            "Epoch 59/70.. Train loss: 40836734778.327.. Val loss: 85973124.714.. Train L1 norm: 17885.120.. Val L1 norm: 1062.401.. Train Linf norm: 1113411.452.. Val Linf norm: 44089.097\n",
            "Epoch 60/70.. Train loss: 8264287984.927.. Val loss: 52844170.661.. Train L1 norm: 22009.732.. Val L1 norm: 649.436.. Train Linf norm: 1378067.623.. Val Linf norm: 27593.929\n",
            "Epoch 61/70.. Train loss: 637659976044.165.. Val loss: 14794295.499.. Train L1 norm: 25902.798.. Val L1 norm: 315.722.. Train Linf norm: 1629145.751.. Val Linf norm: 12647.336\n",
            "Epoch 62/70.. Train loss: 181298416934.196.. Val loss: 9657857.623.. Train L1 norm: 12190.516.. Val L1 norm: 593.156.. Train Linf norm: 752293.669.. Val Linf norm: 25430.224\n",
            "Epoch 63/70.. Train loss: 8583925449.538.. Val loss: 32543890.655.. Train L1 norm: 7641.253.. Val L1 norm: 209.866.. Train Linf norm: 461847.893.. Val Linf norm: 8987.669\n",
            "Epoch 64/70.. Train loss: 173592392640.109.. Val loss: 3021240.086.. Train L1 norm: 3579.242.. Val L1 norm: 190.447.. Train Linf norm: 201230.181.. Val Linf norm: 8272.329\n",
            "Epoch 65/70.. Train loss: 1110798107000.919.. Val loss: 3216906.741.. Train L1 norm: 11068.039.. Val L1 norm: 299.957.. Train Linf norm: 678662.433.. Val Linf norm: 12118.670\n",
            "Epoch 66/70.. Train loss: 59939923933.640.. Val loss: 42008978.023.. Train L1 norm: 38081.217.. Val L1 norm: 320.431.. Train Linf norm: 2406538.982.. Val Linf norm: 13344.334\n",
            "Epoch 67/70.. Train loss: 844369436895.358.. Val loss: 8341987.121.. Train L1 norm: 7262.630.. Val L1 norm: 292.972.. Train Linf norm: 427194.194.. Val Linf norm: 12515.354\n",
            "Epoch 68/70.. Train loss: 1092022394317.494.. Val loss: 293653610.941.. Train L1 norm: 4695.201.. Val L1 norm: 791.143.. Train Linf norm: 262905.635.. Val Linf norm: 33139.234\n",
            "Epoch 69/70.. Train loss: 2426819958864.064.. Val loss: 22136274.311.. Train L1 norm: 23829.496.. Val L1 norm: 566.089.. Train Linf norm: 1485974.541.. Val Linf norm: 24278.604\n"
          ]
        },
        {
          "metadata": {
            "tags": null
          },
          "name": "stderr",
          "output_type": "stream",
          "text": [
            "[I 2023-06-04 10:58:02,548] Trial 1 finished with value: 415.179546328125 and parameters: {'n_layers': 3, 'n_units_0': 219, 'n_units_1': 945, 'n_units_2': 1258, 'hidden_activation': 'ReLU', 'output_activation': 'Linear', 'loss': 'MSE', 'optimizer': 'Adam', 'lr': 0.0007876297384784892, 'batch_size': 64, 'n_epochs': 70, 'scheduler': 'CosineAnnealingLR', 'dropout_rate': 0.39059633013587064, 'weight_decay': 0.0004041830326327144, 'beta1': 0.9596828322399428, 'beta2': 0.9993957333068382, 't_max_fraction': 0.2642210644714733, 'eta_min': 8.729766863844738e-07}. Best is trial 0 with value: 3.3472999926249187.\n"
          ]
        },
        {
          "metadata": {
            "tags": null
          },
          "name": "stdout",
          "output_type": "stream",
          "text": [
            "Epoch 70/70.. Train loss: 201308521827.953.. Val loss: 53433580.077.. Train L1 norm: 26475.020.. Val L1 norm: 415.180.. Train Linf norm: 1654558.087.. Val Linf norm: 17655.872\n"
          ]
        },
        {
          "data": {
            "text/html": [
              "<html>\n",
              "<head><meta charset=\"utf-8\" /></head>\n",
              "<body>\n",
              "    <div>            <script src=\"https://cdnjs.cloudflare.com/ajax/libs/mathjax/2.7.5/MathJax.js?config=TeX-AMS-MML_SVG\"></script><script type=\"text/javascript\">if (window.MathJax && window.MathJax.Hub && window.MathJax.Hub.Config) {window.MathJax.Hub.Config({SVG: {font: \"STIX-Web\"}});}</script>                <script type=\"text/javascript\">window.PlotlyConfig = {MathJaxConfig: 'local'};</script>\n",
              "        <script src=\"https://cdn.plot.ly/plotly-2.18.2.min.js\"></script>                <div id=\"86a6add7-7fe6-4f2e-9cfb-c8b4f7db1c4f\" class=\"plotly-graph-div\" style=\"height:525px; width:100%;\"></div>            <script type=\"text/javascript\">                                    window.PLOTLYENV=window.PLOTLYENV || {};                                    if (document.getElementById(\"86a6add7-7fe6-4f2e-9cfb-c8b4f7db1c4f\")) {                    Plotly.newPlot(                        \"86a6add7-7fe6-4f2e-9cfb-c8b4f7db1c4f\",                        [{\"mode\":\"markers\",\"name\":\"Objective Value\",\"x\":[0,1],\"y\":[3.3472999926249187,415.179546328125],\"type\":\"scatter\"},{\"name\":\"Best Value\",\"x\":[0,1],\"y\":[3.3472999926249187,3.3472999926249187],\"type\":\"scatter\"}],                        {\"title\":{\"text\":\"Optimization History Plot\"},\"xaxis\":{\"title\":{\"text\":\"Trial\"}},\"yaxis\":{\"title\":{\"text\":\"Objective Value\"}},\"template\":{\"data\":{\"histogram2dcontour\":[{\"type\":\"histogram2dcontour\",\"colorbar\":{\"outlinewidth\":0,\"ticks\":\"\"},\"colorscale\":[[0.0,\"#0d0887\"],[0.1111111111111111,\"#46039f\"],[0.2222222222222222,\"#7201a8\"],[0.3333333333333333,\"#9c179e\"],[0.4444444444444444,\"#bd3786\"],[0.5555555555555556,\"#d8576b\"],[0.6666666666666666,\"#ed7953\"],[0.7777777777777778,\"#fb9f3a\"],[0.8888888888888888,\"#fdca26\"],[1.0,\"#f0f921\"]]}],\"choropleth\":[{\"type\":\"choropleth\",\"colorbar\":{\"outlinewidth\":0,\"ticks\":\"\"}}],\"histogram2d\":[{\"type\":\"histogram2d\",\"colorbar\":{\"outlinewidth\":0,\"ticks\":\"\"},\"colorscale\":[[0.0,\"#0d0887\"],[0.1111111111111111,\"#46039f\"],[0.2222222222222222,\"#7201a8\"],[0.3333333333333333,\"#9c179e\"],[0.4444444444444444,\"#bd3786\"],[0.5555555555555556,\"#d8576b\"],[0.6666666666666666,\"#ed7953\"],[0.7777777777777778,\"#fb9f3a\"],[0.8888888888888888,\"#fdca26\"],[1.0,\"#f0f921\"]]}],\"heatmap\":[{\"type\":\"heatmap\",\"colorbar\":{\"outlinewidth\":0,\"ticks\":\"\"},\"colorscale\":[[0.0,\"#0d0887\"],[0.1111111111111111,\"#46039f\"],[0.2222222222222222,\"#7201a8\"],[0.3333333333333333,\"#9c179e\"],[0.4444444444444444,\"#bd3786\"],[0.5555555555555556,\"#d8576b\"],[0.6666666666666666,\"#ed7953\"],[0.7777777777777778,\"#fb9f3a\"],[0.8888888888888888,\"#fdca26\"],[1.0,\"#f0f921\"]]}],\"heatmapgl\":[{\"type\":\"heatmapgl\",\"colorbar\":{\"outlinewidth\":0,\"ticks\":\"\"},\"colorscale\":[[0.0,\"#0d0887\"],[0.1111111111111111,\"#46039f\"],[0.2222222222222222,\"#7201a8\"],[0.3333333333333333,\"#9c179e\"],[0.4444444444444444,\"#bd3786\"],[0.5555555555555556,\"#d8576b\"],[0.6666666666666666,\"#ed7953\"],[0.7777777777777778,\"#fb9f3a\"],[0.8888888888888888,\"#fdca26\"],[1.0,\"#f0f921\"]]}],\"contourcarpet\":[{\"type\":\"contourcarpet\",\"colorbar\":{\"outlinewidth\":0,\"ticks\":\"\"}}],\"contour\":[{\"type\":\"contour\",\"colorbar\":{\"outlinewidth\":0,\"ticks\":\"\"},\"colorscale\":[[0.0,\"#0d0887\"],[0.1111111111111111,\"#46039f\"],[0.2222222222222222,\"#7201a8\"],[0.3333333333333333,\"#9c179e\"],[0.4444444444444444,\"#bd3786\"],[0.5555555555555556,\"#d8576b\"],[0.6666666666666666,\"#ed7953\"],[0.7777777777777778,\"#fb9f3a\"],[0.8888888888888888,\"#fdca26\"],[1.0,\"#f0f921\"]]}],\"surface\":[{\"type\":\"surface\",\"colorbar\":{\"outlinewidth\":0,\"ticks\":\"\"},\"colorscale\":[[0.0,\"#0d0887\"],[0.1111111111111111,\"#46039f\"],[0.2222222222222222,\"#7201a8\"],[0.3333333333333333,\"#9c179e\"],[0.4444444444444444,\"#bd3786\"],[0.5555555555555556,\"#d8576b\"],[0.6666666666666666,\"#ed7953\"],[0.7777777777777778,\"#fb9f3a\"],[0.8888888888888888,\"#fdca26\"],[1.0,\"#f0f921\"]]}],\"mesh3d\":[{\"type\":\"mesh3d\",\"colorbar\":{\"outlinewidth\":0,\"ticks\":\"\"}}],\"scatter\":[{\"fillpattern\":{\"fillmode\":\"overlay\",\"size\":10,\"solidity\":0.2},\"type\":\"scatter\"}],\"parcoords\":[{\"type\":\"parcoords\",\"line\":{\"colorbar\":{\"outlinewidth\":0,\"ticks\":\"\"}}}],\"scatterpolargl\":[{\"type\":\"scatterpolargl\",\"marker\":{\"colorbar\":{\"outlinewidth\":0,\"ticks\":\"\"}}}],\"bar\":[{\"error_x\":{\"color\":\"#2a3f5f\"},\"error_y\":{\"color\":\"#2a3f5f\"},\"marker\":{\"line\":{\"color\":\"#E5ECF6\",\"width\":0.5},\"pattern\":{\"fillmode\":\"overlay\",\"size\":10,\"solidity\":0.2}},\"type\":\"bar\"}],\"scattergeo\":[{\"type\":\"scattergeo\",\"marker\":{\"colorbar\":{\"outlinewidth\":0,\"ticks\":\"\"}}}],\"scatterpolar\":[{\"type\":\"scatterpolar\",\"marker\":{\"colorbar\":{\"outlinewidth\":0,\"ticks\":\"\"}}}],\"histogram\":[{\"marker\":{\"pattern\":{\"fillmode\":\"overlay\",\"size\":10,\"solidity\":0.2}},\"type\":\"histogram\"}],\"scattergl\":[{\"type\":\"scattergl\",\"marker\":{\"colorbar\":{\"outlinewidth\":0,\"ticks\":\"\"}}}],\"scatter3d\":[{\"type\":\"scatter3d\",\"line\":{\"colorbar\":{\"outlinewidth\":0,\"ticks\":\"\"}},\"marker\":{\"colorbar\":{\"outlinewidth\":0,\"ticks\":\"\"}}}],\"scattermapbox\":[{\"type\":\"scattermapbox\",\"marker\":{\"colorbar\":{\"outlinewidth\":0,\"ticks\":\"\"}}}],\"scatterternary\":[{\"type\":\"scatterternary\",\"marker\":{\"colorbar\":{\"outlinewidth\":0,\"ticks\":\"\"}}}],\"scattercarpet\":[{\"type\":\"scattercarpet\",\"marker\":{\"colorbar\":{\"outlinewidth\":0,\"ticks\":\"\"}}}],\"carpet\":[{\"aaxis\":{\"endlinecolor\":\"#2a3f5f\",\"gridcolor\":\"white\",\"linecolor\":\"white\",\"minorgridcolor\":\"white\",\"startlinecolor\":\"#2a3f5f\"},\"baxis\":{\"endlinecolor\":\"#2a3f5f\",\"gridcolor\":\"white\",\"linecolor\":\"white\",\"minorgridcolor\":\"white\",\"startlinecolor\":\"#2a3f5f\"},\"type\":\"carpet\"}],\"table\":[{\"cells\":{\"fill\":{\"color\":\"#EBF0F8\"},\"line\":{\"color\":\"white\"}},\"header\":{\"fill\":{\"color\":\"#C8D4E3\"},\"line\":{\"color\":\"white\"}},\"type\":\"table\"}],\"barpolar\":[{\"marker\":{\"line\":{\"color\":\"#E5ECF6\",\"width\":0.5},\"pattern\":{\"fillmode\":\"overlay\",\"size\":10,\"solidity\":0.2}},\"type\":\"barpolar\"}],\"pie\":[{\"automargin\":true,\"type\":\"pie\"}]},\"layout\":{\"autotypenumbers\":\"strict\",\"colorway\":[\"#636efa\",\"#EF553B\",\"#00cc96\",\"#ab63fa\",\"#FFA15A\",\"#19d3f3\",\"#FF6692\",\"#B6E880\",\"#FF97FF\",\"#FECB52\"],\"font\":{\"color\":\"#2a3f5f\"},\"hovermode\":\"closest\",\"hoverlabel\":{\"align\":\"left\"},\"paper_bgcolor\":\"white\",\"plot_bgcolor\":\"#E5ECF6\",\"polar\":{\"bgcolor\":\"#E5ECF6\",\"angularaxis\":{\"gridcolor\":\"white\",\"linecolor\":\"white\",\"ticks\":\"\"},\"radialaxis\":{\"gridcolor\":\"white\",\"linecolor\":\"white\",\"ticks\":\"\"}},\"ternary\":{\"bgcolor\":\"#E5ECF6\",\"aaxis\":{\"gridcolor\":\"white\",\"linecolor\":\"white\",\"ticks\":\"\"},\"baxis\":{\"gridcolor\":\"white\",\"linecolor\":\"white\",\"ticks\":\"\"},\"caxis\":{\"gridcolor\":\"white\",\"linecolor\":\"white\",\"ticks\":\"\"}},\"coloraxis\":{\"colorbar\":{\"outlinewidth\":0,\"ticks\":\"\"}},\"colorscale\":{\"sequential\":[[0.0,\"#0d0887\"],[0.1111111111111111,\"#46039f\"],[0.2222222222222222,\"#7201a8\"],[0.3333333333333333,\"#9c179e\"],[0.4444444444444444,\"#bd3786\"],[0.5555555555555556,\"#d8576b\"],[0.6666666666666666,\"#ed7953\"],[0.7777777777777778,\"#fb9f3a\"],[0.8888888888888888,\"#fdca26\"],[1.0,\"#f0f921\"]],\"sequentialminus\":[[0.0,\"#0d0887\"],[0.1111111111111111,\"#46039f\"],[0.2222222222222222,\"#7201a8\"],[0.3333333333333333,\"#9c179e\"],[0.4444444444444444,\"#bd3786\"],[0.5555555555555556,\"#d8576b\"],[0.6666666666666666,\"#ed7953\"],[0.7777777777777778,\"#fb9f3a\"],[0.8888888888888888,\"#fdca26\"],[1.0,\"#f0f921\"]],\"diverging\":[[0,\"#8e0152\"],[0.1,\"#c51b7d\"],[0.2,\"#de77ae\"],[0.3,\"#f1b6da\"],[0.4,\"#fde0ef\"],[0.5,\"#f7f7f7\"],[0.6,\"#e6f5d0\"],[0.7,\"#b8e186\"],[0.8,\"#7fbc41\"],[0.9,\"#4d9221\"],[1,\"#276419\"]]},\"xaxis\":{\"gridcolor\":\"white\",\"linecolor\":\"white\",\"ticks\":\"\",\"title\":{\"standoff\":15},\"zerolinecolor\":\"white\",\"automargin\":true,\"zerolinewidth\":2},\"yaxis\":{\"gridcolor\":\"white\",\"linecolor\":\"white\",\"ticks\":\"\",\"title\":{\"standoff\":15},\"zerolinecolor\":\"white\",\"automargin\":true,\"zerolinewidth\":2},\"scene\":{\"xaxis\":{\"backgroundcolor\":\"#E5ECF6\",\"gridcolor\":\"white\",\"linecolor\":\"white\",\"showbackground\":true,\"ticks\":\"\",\"zerolinecolor\":\"white\",\"gridwidth\":2},\"yaxis\":{\"backgroundcolor\":\"#E5ECF6\",\"gridcolor\":\"white\",\"linecolor\":\"white\",\"showbackground\":true,\"ticks\":\"\",\"zerolinecolor\":\"white\",\"gridwidth\":2},\"zaxis\":{\"backgroundcolor\":\"#E5ECF6\",\"gridcolor\":\"white\",\"linecolor\":\"white\",\"showbackground\":true,\"ticks\":\"\",\"zerolinecolor\":\"white\",\"gridwidth\":2}},\"shapedefaults\":{\"line\":{\"color\":\"#2a3f5f\"}},\"annotationdefaults\":{\"arrowcolor\":\"#2a3f5f\",\"arrowhead\":0,\"arrowwidth\":1},\"geo\":{\"bgcolor\":\"white\",\"landcolor\":\"#E5ECF6\",\"subunitcolor\":\"white\",\"showland\":true,\"showlakes\":true,\"lakecolor\":\"white\"},\"title\":{\"x\":0.05},\"mapbox\":{\"style\":\"light\"}}}},                        {\"responsive\": true}                    ).then(function(){\n",
              "                            \n",
              "var gd = document.getElementById('86a6add7-7fe6-4f2e-9cfb-c8b4f7db1c4f');\n",
              "var x = new MutationObserver(function (mutations, observer) {{\n",
              "        var display = window.getComputedStyle(gd).display;\n",
              "        if (!display || display === 'none') {{\n",
              "            console.log([gd, 'removed!']);\n",
              "            Plotly.purge(gd);\n",
              "            observer.disconnect();\n",
              "        }}\n",
              "}});\n",
              "\n",
              "// Listen for the removal of the full notebook cells\n",
              "var notebookContainer = gd.closest('#notebook-container');\n",
              "if (notebookContainer) {{\n",
              "    x.observe(notebookContainer, {childList: true});\n",
              "}}\n",
              "\n",
              "// Listen for the clearing of the current output cell\n",
              "var outputEl = gd.closest('.output');\n",
              "if (outputEl) {{\n",
              "    x.observe(outputEl, {childList: true});\n",
              "}}\n",
              "\n",
              "                        })                };                            </script>        </div>\n",
              "</body>\n",
              "</html>"
            ]
          },
          "metadata": {},
          "output_type": "display_data"
        },
        {
          "output_type": "stream",
          "name": "stdout",
          "text": [
            "Epoch 1/111.. Train loss: 171.944.. Val loss: 63.052.. Train L1 norm: 73.502.. Val L1 norm: 15.527.. Train Linf norm: 4350.991.. Val Linf norm: 768.952\n",
            "Epoch 2/111.. Train loss: 272.828.. Val loss: 34.869.. Train L1 norm: 108.539.. Val L1 norm: 9.607.. Train Linf norm: 6648.631.. Val Linf norm: 467.360\n",
            "Epoch 3/111.. Train loss: 405.037.. Val loss: 350.889.. Train L1 norm: 134.057.. Val L1 norm: 127.543.. Train Linf norm: 7905.437.. Val Linf norm: 6250.784\n",
            "Epoch 4/111.. Train loss: 1370.198.. Val loss: 221.169.. Train L1 norm: 206.362.. Val L1 norm: 37.494.. Train Linf norm: 12731.115.. Val Linf norm: 2218.670\n",
            "Epoch 5/111.. Train loss: 265.063.. Val loss: 49.191.. Train L1 norm: 111.272.. Val L1 norm: 9.829.. Train Linf norm: 6745.879.. Val Linf norm: 522.881\n",
            "Epoch 6/111.. Train loss: 270.463.. Val loss: 430.387.. Train L1 norm: 55.048.. Val L1 norm: 61.511.. Train Linf norm: 3169.468.. Val Linf norm: 3624.778\n",
            "Epoch 7/111.. Train loss: 460.404.. Val loss: 73.724.. Train L1 norm: 82.289.. Val L1 norm: 13.272.. Train Linf norm: 4906.750.. Val Linf norm: 746.110\n",
            "Epoch 8/111.. Train loss: 811.951.. Val loss: 219.662.. Train L1 norm: 146.103.. Val L1 norm: 36.545.. Train Linf norm: 8706.928.. Val Linf norm: 2172.092\n",
            "Epoch 9/111.. Train loss: 1085.209.. Val loss: 199.097.. Train L1 norm: 196.829.. Val L1 norm: 38.150.. Train Linf norm: 12048.905.. Val Linf norm: 2082.758\n",
            "Epoch 10/111.. Train loss: 930.046.. Val loss: 84.457.. Train L1 norm: 131.030.. Val L1 norm: 17.964.. Train Linf norm: 8055.361.. Val Linf norm: 980.010\n",
            "Epoch 11/111.. Train loss: 431.374.. Val loss: 183.653.. Train L1 norm: 84.348.. Val L1 norm: 35.639.. Train Linf norm: 5042.298.. Val Linf norm: 2000.923\n",
            "Epoch 12/111.. Train loss: 216.344.. Val loss: 347.707.. Train L1 norm: 79.996.. Val L1 norm: 58.347.. Train Linf norm: 4822.093.. Val Linf norm: 3520.979\n",
            "Epoch 13/111.. Train loss: 418.319.. Val loss: 237.790.. Train L1 norm: 140.187.. Val L1 norm: 37.793.. Train Linf norm: 8557.414.. Val Linf norm: 2301.323\n",
            "Epoch 14/111.. Train loss: 328.417.. Val loss: 123.842.. Train L1 norm: 107.850.. Val L1 norm: 24.576.. Train Linf norm: 6577.014.. Val Linf norm: 1384.873\n",
            "Epoch 15/111.. Train loss: 346.935.. Val loss: 56.301.. Train L1 norm: 86.703.. Val L1 norm: 12.521.. Train Linf norm: 5288.279.. Val Linf norm: 659.278\n",
            "Epoch 16/111.. Train loss: 376.443.. Val loss: 77.572.. Train L1 norm: 130.786.. Val L1 norm: 15.699.. Train Linf norm: 8157.587.. Val Linf norm: 849.821\n",
            "Epoch 17/111.. Train loss: 275.008.. Val loss: 21.263.. Train L1 norm: 86.683.. Val L1 norm: 9.577.. Train Linf norm: 5310.814.. Val Linf norm: 448.897\n",
            "Epoch 18/111.. Train loss: 449.318.. Val loss: 50.155.. Train L1 norm: 110.527.. Val L1 norm: 16.021.. Train Linf norm: 6853.778.. Val Linf norm: 776.436\n",
            "Epoch 19/111.. Train loss: 80.908.. Val loss: 20.920.. Train L1 norm: 62.371.. Val L1 norm: 8.145.. Train Linf norm: 3803.857.. Val Linf norm: 376.408\n",
            "Epoch 20/111.. Train loss: 92.185.. Val loss: 84.654.. Train L1 norm: 86.813.. Val L1 norm: 26.203.. Train Linf norm: 5399.153.. Val Linf norm: 1294.571\n",
            "Epoch 21/111.. Train loss: 73.850.. Val loss: 46.694.. Train L1 norm: 72.113.. Val L1 norm: 11.890.. Train Linf norm: 4380.949.. Val Linf norm: 602.271\n",
            "Epoch 22/111.. Train loss: 46.266.. Val loss: 100.111.. Train L1 norm: 62.960.. Val L1 norm: 19.126.. Train Linf norm: 3867.099.. Val Linf norm: 1068.150\n",
            "Epoch 23/111.. Train loss: 39.005.. Val loss: 48.831.. Train L1 norm: 55.920.. Val L1 norm: 12.690.. Train Linf norm: 3412.283.. Val Linf norm: 651.464\n",
            "Epoch 24/111.. Train loss: 35.311.. Val loss: 34.686.. Train L1 norm: 52.056.. Val L1 norm: 9.324.. Train Linf norm: 3167.313.. Val Linf norm: 457.918\n",
            "Epoch 25/111.. Train loss: 47.861.. Val loss: 36.174.. Train L1 norm: 79.076.. Val L1 norm: 9.574.. Train Linf norm: 4890.040.. Val Linf norm: 473.740\n",
            "Epoch 26/111.. Train loss: 283.105.. Val loss: 6.220.. Train L1 norm: 104.184.. Val L1 norm: 5.656.. Train Linf norm: 6512.659.. Val Linf norm: 234.017\n",
            "Epoch 27/111.. Train loss: 54.517.. Val loss: 7.307.. Train L1 norm: 73.913.. Val L1 norm: 6.612.. Train Linf norm: 4580.031.. Val Linf norm: 277.732\n",
            "Epoch 28/111.. Train loss: 16.013.. Val loss: 15.009.. Train L1 norm: 79.772.. Val L1 norm: 6.741.. Train Linf norm: 4955.379.. Val Linf norm: 298.975\n",
            "Epoch 29/111.. Train loss: 251.671.. Val loss: 7.232.. Train L1 norm: 79.770.. Val L1 norm: 6.365.. Train Linf norm: 4957.033.. Val Linf norm: 268.965\n",
            "Epoch 30/111.. Train loss: 19.692.. Val loss: 7.826.. Train L1 norm: 76.593.. Val L1 norm: 5.963.. Train Linf norm: 4755.692.. Val Linf norm: 251.860\n",
            "Epoch 31/111.. Train loss: 37.290.. Val loss: 7.494.. Train L1 norm: 80.319.. Val L1 norm: 6.973.. Train Linf norm: 4990.278.. Val Linf norm: 296.219\n",
            "Epoch 32/111.. Train loss: 37.948.. Val loss: 5.796.. Train L1 norm: 86.524.. Val L1 norm: 6.319.. Train Linf norm: 5392.589.. Val Linf norm: 263.499\n",
            "Epoch 33/111.. Train loss: 22.741.. Val loss: 7.128.. Train L1 norm: 80.118.. Val L1 norm: 6.390.. Train Linf norm: 4983.947.. Val Linf norm: 268.190\n",
            "Epoch 34/111.. Train loss: 16.977.. Val loss: 18.744.. Train L1 norm: 59.986.. Val L1 norm: 8.597.. Train Linf norm: 3689.071.. Val Linf norm: 380.884\n",
            "Epoch 35/111.. Train loss: 13.463.. Val loss: 13.962.. Train L1 norm: 64.490.. Val L1 norm: 7.164.. Train Linf norm: 3977.415.. Val Linf norm: 319.692\n",
            "Epoch 36/111.. Train loss: 28.813.. Val loss: 5.615.. Train L1 norm: 82.791.. Val L1 norm: 5.798.. Train Linf norm: 5147.582.. Val Linf norm: 237.909\n",
            "Epoch 37/111.. Train loss: 19.823.. Val loss: 15.754.. Train L1 norm: 91.945.. Val L1 norm: 7.201.. Train Linf norm: 5733.250.. Val Linf norm: 324.311\n",
            "Epoch 38/111.. Train loss: 16.975.. Val loss: 62.745.. Train L1 norm: 78.331.. Val L1 norm: 19.637.. Train Linf norm: 4862.562.. Val Linf norm: 953.883\n",
            "Epoch 39/111.. Train loss: 19.123.. Val loss: 23.917.. Train L1 norm: 76.547.. Val L1 norm: 8.362.. Train Linf norm: 4749.914.. Val Linf norm: 381.197\n",
            "Epoch 40/111.. Train loss: 15.507.. Val loss: 13.802.. Train L1 norm: 89.030.. Val L1 norm: 7.149.. Train Linf norm: 5546.884.. Val Linf norm: 312.133\n",
            "Epoch 41/111.. Train loss: 23.606.. Val loss: 9.128.. Train L1 norm: 103.160.. Val L1 norm: 6.429.. Train Linf norm: 6443.197.. Val Linf norm: 274.853\n",
            "Epoch 42/111.. Train loss: 53.197.. Val loss: 27.494.. Train L1 norm: 82.131.. Val L1 norm: 9.909.. Train Linf norm: 5105.831.. Val Linf norm: 472.717\n",
            "Epoch 43/111.. Train loss: 19.960.. Val loss: 14.387.. Train L1 norm: 103.817.. Val L1 norm: 7.461.. Train Linf norm: 6485.376.. Val Linf norm: 334.182\n",
            "Epoch 44/111.. Train loss: 38.207.. Val loss: 8.001.. Train L1 norm: 59.745.. Val L1 norm: 6.443.. Train Linf norm: 3655.473.. Val Linf norm: 270.009\n",
            "Epoch 45/111.. Train loss: 17.296.. Val loss: 54.950.. Train L1 norm: 72.345.. Val L1 norm: 13.662.. Train Linf norm: 4474.253.. Val Linf norm: 682.403\n",
            "Epoch 46/111.. Train loss: 18.602.. Val loss: 11.207.. Train L1 norm: 62.046.. Val L1 norm: 6.768.. Train Linf norm: 3807.308.. Val Linf norm: 296.236\n",
            "Epoch 47/111.. Train loss: 169.513.. Val loss: 87.983.. Train L1 norm: 105.914.. Val L1 norm: 17.220.. Train Linf norm: 6516.831.. Val Linf norm: 918.924\n",
            "Epoch 48/111.. Train loss: 96.818.. Val loss: 58.953.. Train L1 norm: 102.254.. Val L1 norm: 14.014.. Train Linf norm: 6281.810.. Val Linf norm: 702.127\n",
            "Epoch 49/111.. Train loss: 102.683.. Val loss: 19.335.. Train L1 norm: 74.953.. Val L1 norm: 8.143.. Train Linf norm: 4574.811.. Val Linf norm: 351.803\n",
            "Epoch 50/111.. Train loss: 281.428.. Val loss: 72.993.. Train L1 norm: 125.743.. Val L1 norm: 16.014.. Train Linf norm: 7742.790.. Val Linf norm: 844.088\n",
            "Epoch 51/111.. Train loss: 809.744.. Val loss: 347.502.. Train L1 norm: 133.305.. Val L1 norm: 51.429.. Train Linf norm: 8221.177.. Val Linf norm: 2927.818\n",
            "Epoch 52/111.. Train loss: 588.835.. Val loss: 151.538.. Train L1 norm: 129.641.. Val L1 norm: 33.352.. Train Linf norm: 7978.202.. Val Linf norm: 1711.122\n",
            "Epoch 53/111.. Train loss: 173.930.. Val loss: 69.546.. Train L1 norm: 107.551.. Val L1 norm: 15.179.. Train Linf norm: 6525.987.. Val Linf norm: 822.783\n",
            "Epoch 54/111.. Train loss: 526.062.. Val loss: 76.507.. Train L1 norm: 128.863.. Val L1 norm: 15.904.. Train Linf norm: 7900.901.. Val Linf norm: 802.205\n",
            "Epoch 55/111.. Train loss: 198.927.. Val loss: 93.762.. Train L1 norm: 110.372.. Val L1 norm: 20.184.. Train Linf norm: 6814.119.. Val Linf norm: 1129.576\n",
            "Epoch 56/111.. Train loss: 277.671.. Val loss: 66.139.. Train L1 norm: 101.954.. Val L1 norm: 13.548.. Train Linf norm: 6088.988.. Val Linf norm: 727.213\n",
            "Epoch 57/111.. Train loss: 273.280.. Val loss: 45.316.. Train L1 norm: 97.871.. Val L1 norm: 11.656.. Train Linf norm: 6031.554.. Val Linf norm: 605.552\n",
            "Epoch 58/111.. Train loss: 187.337.. Val loss: 56.762.. Train L1 norm: 105.941.. Val L1 norm: 14.359.. Train Linf norm: 6459.715.. Val Linf norm: 758.945\n",
            "Epoch 59/111.. Train loss: 315.786.. Val loss: 179.936.. Train L1 norm: 96.666.. Val L1 norm: 32.216.. Train Linf norm: 5819.382.. Val Linf norm: 1824.578\n",
            "Epoch 60/111.. Train loss: 155.551.. Val loss: 55.169.. Train L1 norm: 114.712.. Val L1 norm: 12.624.. Train Linf norm: 7081.743.. Val Linf norm: 674.508\n",
            "Epoch 61/111.. Train loss: 919.405.. Val loss: 27.497.. Train L1 norm: 123.001.. Val L1 norm: 11.047.. Train Linf norm: 7570.398.. Val Linf norm: 531.313\n",
            "Epoch 62/111.. Train loss: 151.444.. Val loss: 128.759.. Train L1 norm: 103.610.. Val L1 norm: 24.079.. Train Linf norm: 6389.720.. Val Linf norm: 1381.631\n",
            "Epoch 63/111.. Train loss: 357.657.. Val loss: 80.063.. Train L1 norm: 88.308.. Val L1 norm: 17.492.. Train Linf norm: 5247.438.. Val Linf norm: 979.381\n",
            "Epoch 64/111.. Train loss: 285.247.. Val loss: 142.638.. Train L1 norm: 126.179.. Val L1 norm: 25.666.. Train Linf norm: 7739.642.. Val Linf norm: 1429.065\n",
            "Epoch 65/111.. Train loss: 165.622.. Val loss: 466.283.. Train L1 norm: 134.461.. Val L1 norm: 75.177.. Train Linf norm: 8328.839.. Val Linf norm: 4567.488\n",
            "Epoch 66/111.. Train loss: 1199.603.. Val loss: 146.349.. Train L1 norm: 199.074.. Val L1 norm: 24.722.. Train Linf norm: 11958.531.. Val Linf norm: 1417.184\n",
            "Epoch 67/111.. Train loss: 200.558.. Val loss: 122.692.. Train L1 norm: 116.926.. Val L1 norm: 23.142.. Train Linf norm: 7102.781.. Val Linf norm: 1347.803\n",
            "Epoch 68/111.. Train loss: 385.784.. Val loss: 48.141.. Train L1 norm: 148.275.. Val L1 norm: 10.075.. Train Linf norm: 9025.915.. Val Linf norm: 517.331\n",
            "Epoch 69/111.. Train loss: 3001.600.. Val loss: 243.356.. Train L1 norm: 301.489.. Val L1 norm: 42.032.. Train Linf norm: 18966.825.. Val Linf norm: 2353.787\n",
            "Epoch 70/111.. Train loss: 275.897.. Val loss: 61.214.. Train L1 norm: 120.341.. Val L1 norm: 10.996.. Train Linf norm: 7417.880.. Val Linf norm: 572.635\n",
            "Epoch 71/111.. Train loss: 235.091.. Val loss: 799.481.. Train L1 norm: 48.271.. Val L1 norm: 175.386.. Train Linf norm: 2798.340.. Val Linf norm: 9637.074\n",
            "Epoch 72/111.. Train loss: 221.340.. Val loss: 291.009.. Train L1 norm: 67.077.. Val L1 norm: 47.484.. Train Linf norm: 4050.718.. Val Linf norm: 2852.082\n",
            "Epoch 73/111.. Train loss: 205.312.. Val loss: 43.472.. Train L1 norm: 90.700.. Val L1 norm: 10.926.. Train Linf norm: 5571.153.. Val Linf norm: 570.881\n",
            "Epoch 74/111.. Train loss: 168.980.. Val loss: 29.315.. Train L1 norm: 76.299.. Val L1 norm: 10.605.. Train Linf norm: 4595.461.. Val Linf norm: 511.426\n",
            "Epoch 75/111.. Train loss: 1197.455.. Val loss: 146.791.. Train L1 norm: 138.287.. Val L1 norm: 28.676.. Train Linf norm: 8567.898.. Val Linf norm: 1515.302\n",
            "Epoch 76/111.. Train loss: 637.218.. Val loss: 52.483.. Train L1 norm: 159.810.. Val L1 norm: 18.993.. Train Linf norm: 9979.516.. Val Linf norm: 871.253\n",
            "Epoch 77/111.. Train loss: 170.622.. Val loss: 32.233.. Train L1 norm: 106.682.. Val L1 norm: 10.628.. Train Linf norm: 6625.067.. Val Linf norm: 497.273\n",
            "Epoch 78/111.. Train loss: 240.624.. Val loss: 57.286.. Train L1 norm: 109.645.. Val L1 norm: 13.181.. Train Linf norm: 6838.954.. Val Linf norm: 698.627\n",
            "Epoch 79/111.. Train loss: 55.732.. Val loss: 15.662.. Train L1 norm: 73.622.. Val L1 norm: 8.608.. Train Linf norm: 4547.850.. Val Linf norm: 390.539\n",
            "Epoch 80/111.. Train loss: 187.139.. Val loss: 15.154.. Train L1 norm: 61.912.. Val L1 norm: 6.711.. Train Linf norm: 3758.259.. Val Linf norm: 304.363\n",
            "Epoch 81/111.. Train loss: 68.145.. Val loss: 37.285.. Train L1 norm: 97.842.. Val L1 norm: 10.009.. Train Linf norm: 6075.778.. Val Linf norm: 504.083\n",
            "Epoch 82/111.. Train loss: 69.952.. Val loss: 85.613.. Train L1 norm: 113.256.. Val L1 norm: 18.070.. Train Linf norm: 7043.142.. Val Linf norm: 991.043\n",
            "Epoch 83/111.. Train loss: 56.736.. Val loss: 34.479.. Train L1 norm: 89.249.. Val L1 norm: 10.270.. Train Linf norm: 5546.733.. Val Linf norm: 514.711\n",
            "Epoch 84/111.. Train loss: 28.881.. Val loss: 39.395.. Train L1 norm: 87.481.. Val L1 norm: 10.443.. Train Linf norm: 5442.453.. Val Linf norm: 532.607\n",
            "Epoch 85/111.. Train loss: 213.387.. Val loss: 26.640.. Train L1 norm: 89.509.. Val L1 norm: 9.411.. Train Linf norm: 5573.280.. Val Linf norm: 435.206\n",
            "Epoch 86/111.. Train loss: 167.249.. Val loss: 10.311.. Train L1 norm: 93.645.. Val L1 norm: 6.821.. Train Linf norm: 5827.478.. Val Linf norm: 297.513\n",
            "Epoch 87/111.. Train loss: 32.388.. Val loss: 5.732.. Train L1 norm: 84.640.. Val L1 norm: 6.447.. Train Linf norm: 5263.390.. Val Linf norm: 268.899\n",
            "Epoch 88/111.. Train loss: 30.580.. Val loss: 11.334.. Train L1 norm: 76.410.. Val L1 norm: 6.261.. Train Linf norm: 4731.945.. Val Linf norm: 265.681\n",
            "Epoch 89/111.. Train loss: 375.021.. Val loss: 15.499.. Train L1 norm: 94.333.. Val L1 norm: 7.116.. Train Linf norm: 5882.266.. Val Linf norm: 320.130\n",
            "Epoch 90/111.. Train loss: 35.842.. Val loss: 6.162.. Train L1 norm: 55.659.. Val L1 norm: 5.837.. Train Linf norm: 3414.441.. Val Linf norm: 241.278\n",
            "Epoch 91/111.. Train loss: 59.250.. Val loss: 17.728.. Train L1 norm: 79.477.. Val L1 norm: 8.148.. Train Linf norm: 4943.092.. Val Linf norm: 363.835\n",
            "Epoch 92/111.. Train loss: 68.052.. Val loss: 8.968.. Train L1 norm: 79.843.. Val L1 norm: 6.517.. Train Linf norm: 4956.304.. Val Linf norm: 276.154\n",
            "Epoch 93/111.. Train loss: 79.220.. Val loss: 6.307.. Train L1 norm: 77.183.. Val L1 norm: 5.970.. Train Linf norm: 4793.826.. Val Linf norm: 247.534\n",
            "Epoch 94/111.. Train loss: 30.048.. Val loss: 7.558.. Train L1 norm: 69.283.. Val L1 norm: 6.562.. Train Linf norm: 4291.141.. Val Linf norm: 277.501\n",
            "Epoch 95/111.. Train loss: 8.564.. Val loss: 17.914.. Train L1 norm: 67.217.. Val L1 norm: 8.049.. Train Linf norm: 4157.853.. Val Linf norm: 358.818\n",
            "Epoch 96/111.. Train loss: 23.950.. Val loss: 7.716.. Train L1 norm: 78.123.. Val L1 norm: 6.225.. Train Linf norm: 4851.757.. Val Linf norm: 261.893\n",
            "Epoch 97/111.. Train loss: 12.739.. Val loss: 9.013.. Train L1 norm: 76.185.. Val L1 norm: 5.960.. Train Linf norm: 4727.751.. Val Linf norm: 249.859\n",
            "Epoch 98/111.. Train loss: 28.539.. Val loss: 7.087.. Train L1 norm: 65.110.. Val L1 norm: 6.249.. Train Linf norm: 4012.722.. Val Linf norm: 261.322\n",
            "Epoch 99/111.. Train loss: 27.239.. Val loss: 10.113.. Train L1 norm: 76.952.. Val L1 norm: 6.301.. Train Linf norm: 4777.681.. Val Linf norm: 268.645\n",
            "Epoch 100/111.. Train loss: 25.815.. Val loss: 12.563.. Train L1 norm: 60.410.. Val L1 norm: 6.577.. Train Linf norm: 3713.153.. Val Linf norm: 287.593\n",
            "Epoch 101/111.. Train loss: 14.927.. Val loss: 13.258.. Train L1 norm: 97.835.. Val L1 norm: 6.883.. Train Linf norm: 6110.614.. Val Linf norm: 291.623\n",
            "Epoch 102/111.. Train loss: 125.301.. Val loss: 6.525.. Train L1 norm: 71.844.. Val L1 norm: 6.824.. Train Linf norm: 4445.096.. Val Linf norm: 284.457\n",
            "Epoch 103/111.. Train loss: 27.909.. Val loss: 21.383.. Train L1 norm: 73.365.. Val L1 norm: 7.958.. Train Linf norm: 4533.713.. Val Linf norm: 364.612\n",
            "Epoch 104/111.. Train loss: 18.917.. Val loss: 27.653.. Train L1 norm: 82.107.. Val L1 norm: 10.530.. Train Linf norm: 5102.776.. Val Linf norm: 506.703\n",
            "Epoch 105/111.. Train loss: 16.235.. Val loss: 9.966.. Train L1 norm: 57.144.. Val L1 norm: 6.221.. Train Linf norm: 3496.832.. Val Linf norm: 265.588\n",
            "Epoch 106/111.. Train loss: 31.673.. Val loss: 30.420.. Train L1 norm: 93.005.. Val L1 norm: 9.312.. Train Linf norm: 5766.203.. Val Linf norm: 445.213\n",
            "Epoch 107/111.. Train loss: 33.811.. Val loss: 42.092.. Train L1 norm: 83.063.. Val L1 norm: 14.594.. Train Linf norm: 5118.214.. Val Linf norm: 662.023\n",
            "Epoch 108/111.. Train loss: 51.252.. Val loss: 24.342.. Train L1 norm: 86.170.. Val L1 norm: 7.977.. Train Linf norm: 5336.546.. Val Linf norm: 383.379\n",
            "Epoch 109/111.. Train loss: 44.980.. Val loss: 44.009.. Train L1 norm: 83.620.. Val L1 norm: 15.118.. Train Linf norm: 5116.777.. Val Linf norm: 678.460\n",
            "Epoch 110/111.. Train loss: 120.916.. Val loss: 35.641.. Train L1 norm: 96.392.. Val L1 norm: 8.950.. Train Linf norm: 5852.931.. Val Linf norm: 447.064\n"
          ]
        },
        {
          "output_type": "stream",
          "name": "stderr",
          "text": [
            "[I 2023-06-04 11:50:28,315] Trial 2 finished with value: 15.96342066017151 and parameters: {'n_layers': 2, 'n_units_0': 49, 'n_units_1': 1175, 'hidden_activation': 'GELU', 'output_activation': 'Linear', 'loss': 'MAE', 'optimizer': 'Adam', 'lr': 0.006513705214961276, 'batch_size': 64, 'n_epochs': 111, 'scheduler': 'CosineAnnealingLR', 'dropout_rate': 0.3372333154432621, 'weight_decay': 0.0012674909482822704, 'beta1': 0.9064706381425655, 'beta2': 0.9990366710457558, 't_max_fraction': 0.2857505124697296, 'eta_min': 0.0009830902028520139}. Best is trial 0 with value: 3.3472999926249187.\n"
          ]
        },
        {
          "output_type": "stream",
          "name": "stdout",
          "text": [
            "Epoch 111/111.. Train loss: 151.239.. Val loss: 79.685.. Train L1 norm: 87.922.. Val L1 norm: 15.963.. Train Linf norm: 5416.748.. Val Linf norm: 822.351\n"
          ]
        },
        {
          "output_type": "display_data",
          "data": {
            "text/html": [
              "<html>\n",
              "<head><meta charset=\"utf-8\" /></head>\n",
              "<body>\n",
              "    <div>            <script src=\"https://cdnjs.cloudflare.com/ajax/libs/mathjax/2.7.5/MathJax.js?config=TeX-AMS-MML_SVG\"></script><script type=\"text/javascript\">if (window.MathJax && window.MathJax.Hub && window.MathJax.Hub.Config) {window.MathJax.Hub.Config({SVG: {font: \"STIX-Web\"}});}</script>                <script type=\"text/javascript\">window.PlotlyConfig = {MathJaxConfig: 'local'};</script>\n",
              "        <script src=\"https://cdn.plot.ly/plotly-2.18.2.min.js\"></script>                <div id=\"a527150d-4729-44ae-a234-f74d0f2b2b43\" class=\"plotly-graph-div\" style=\"height:525px; width:100%;\"></div>            <script type=\"text/javascript\">                                    window.PLOTLYENV=window.PLOTLYENV || {};                                    if (document.getElementById(\"a527150d-4729-44ae-a234-f74d0f2b2b43\")) {                    Plotly.newPlot(                        \"a527150d-4729-44ae-a234-f74d0f2b2b43\",                        [{\"mode\":\"markers\",\"name\":\"Objective Value\",\"x\":[0,1,2],\"y\":[3.3472999926249187,415.179546328125,15.96342066017151],\"type\":\"scatter\"},{\"name\":\"Best Value\",\"x\":[0,1,2],\"y\":[3.3472999926249187,3.3472999926249187,3.3472999926249187],\"type\":\"scatter\"}],                        {\"title\":{\"text\":\"Optimization History Plot\"},\"xaxis\":{\"title\":{\"text\":\"Trial\"}},\"yaxis\":{\"title\":{\"text\":\"Objective Value\"}},\"template\":{\"data\":{\"histogram2dcontour\":[{\"type\":\"histogram2dcontour\",\"colorbar\":{\"outlinewidth\":0,\"ticks\":\"\"},\"colorscale\":[[0.0,\"#0d0887\"],[0.1111111111111111,\"#46039f\"],[0.2222222222222222,\"#7201a8\"],[0.3333333333333333,\"#9c179e\"],[0.4444444444444444,\"#bd3786\"],[0.5555555555555556,\"#d8576b\"],[0.6666666666666666,\"#ed7953\"],[0.7777777777777778,\"#fb9f3a\"],[0.8888888888888888,\"#fdca26\"],[1.0,\"#f0f921\"]]}],\"choropleth\":[{\"type\":\"choropleth\",\"colorbar\":{\"outlinewidth\":0,\"ticks\":\"\"}}],\"histogram2d\":[{\"type\":\"histogram2d\",\"colorbar\":{\"outlinewidth\":0,\"ticks\":\"\"},\"colorscale\":[[0.0,\"#0d0887\"],[0.1111111111111111,\"#46039f\"],[0.2222222222222222,\"#7201a8\"],[0.3333333333333333,\"#9c179e\"],[0.4444444444444444,\"#bd3786\"],[0.5555555555555556,\"#d8576b\"],[0.6666666666666666,\"#ed7953\"],[0.7777777777777778,\"#fb9f3a\"],[0.8888888888888888,\"#fdca26\"],[1.0,\"#f0f921\"]]}],\"heatmap\":[{\"type\":\"heatmap\",\"colorbar\":{\"outlinewidth\":0,\"ticks\":\"\"},\"colorscale\":[[0.0,\"#0d0887\"],[0.1111111111111111,\"#46039f\"],[0.2222222222222222,\"#7201a8\"],[0.3333333333333333,\"#9c179e\"],[0.4444444444444444,\"#bd3786\"],[0.5555555555555556,\"#d8576b\"],[0.6666666666666666,\"#ed7953\"],[0.7777777777777778,\"#fb9f3a\"],[0.8888888888888888,\"#fdca26\"],[1.0,\"#f0f921\"]]}],\"heatmapgl\":[{\"type\":\"heatmapgl\",\"colorbar\":{\"outlinewidth\":0,\"ticks\":\"\"},\"colorscale\":[[0.0,\"#0d0887\"],[0.1111111111111111,\"#46039f\"],[0.2222222222222222,\"#7201a8\"],[0.3333333333333333,\"#9c179e\"],[0.4444444444444444,\"#bd3786\"],[0.5555555555555556,\"#d8576b\"],[0.6666666666666666,\"#ed7953\"],[0.7777777777777778,\"#fb9f3a\"],[0.8888888888888888,\"#fdca26\"],[1.0,\"#f0f921\"]]}],\"contourcarpet\":[{\"type\":\"contourcarpet\",\"colorbar\":{\"outlinewidth\":0,\"ticks\":\"\"}}],\"contour\":[{\"type\":\"contour\",\"colorbar\":{\"outlinewidth\":0,\"ticks\":\"\"},\"colorscale\":[[0.0,\"#0d0887\"],[0.1111111111111111,\"#46039f\"],[0.2222222222222222,\"#7201a8\"],[0.3333333333333333,\"#9c179e\"],[0.4444444444444444,\"#bd3786\"],[0.5555555555555556,\"#d8576b\"],[0.6666666666666666,\"#ed7953\"],[0.7777777777777778,\"#fb9f3a\"],[0.8888888888888888,\"#fdca26\"],[1.0,\"#f0f921\"]]}],\"surface\":[{\"type\":\"surface\",\"colorbar\":{\"outlinewidth\":0,\"ticks\":\"\"},\"colorscale\":[[0.0,\"#0d0887\"],[0.1111111111111111,\"#46039f\"],[0.2222222222222222,\"#7201a8\"],[0.3333333333333333,\"#9c179e\"],[0.4444444444444444,\"#bd3786\"],[0.5555555555555556,\"#d8576b\"],[0.6666666666666666,\"#ed7953\"],[0.7777777777777778,\"#fb9f3a\"],[0.8888888888888888,\"#fdca26\"],[1.0,\"#f0f921\"]]}],\"mesh3d\":[{\"type\":\"mesh3d\",\"colorbar\":{\"outlinewidth\":0,\"ticks\":\"\"}}],\"scatter\":[{\"fillpattern\":{\"fillmode\":\"overlay\",\"size\":10,\"solidity\":0.2},\"type\":\"scatter\"}],\"parcoords\":[{\"type\":\"parcoords\",\"line\":{\"colorbar\":{\"outlinewidth\":0,\"ticks\":\"\"}}}],\"scatterpolargl\":[{\"type\":\"scatterpolargl\",\"marker\":{\"colorbar\":{\"outlinewidth\":0,\"ticks\":\"\"}}}],\"bar\":[{\"error_x\":{\"color\":\"#2a3f5f\"},\"error_y\":{\"color\":\"#2a3f5f\"},\"marker\":{\"line\":{\"color\":\"#E5ECF6\",\"width\":0.5},\"pattern\":{\"fillmode\":\"overlay\",\"size\":10,\"solidity\":0.2}},\"type\":\"bar\"}],\"scattergeo\":[{\"type\":\"scattergeo\",\"marker\":{\"colorbar\":{\"outlinewidth\":0,\"ticks\":\"\"}}}],\"scatterpolar\":[{\"type\":\"scatterpolar\",\"marker\":{\"colorbar\":{\"outlinewidth\":0,\"ticks\":\"\"}}}],\"histogram\":[{\"marker\":{\"pattern\":{\"fillmode\":\"overlay\",\"size\":10,\"solidity\":0.2}},\"type\":\"histogram\"}],\"scattergl\":[{\"type\":\"scattergl\",\"marker\":{\"colorbar\":{\"outlinewidth\":0,\"ticks\":\"\"}}}],\"scatter3d\":[{\"type\":\"scatter3d\",\"line\":{\"colorbar\":{\"outlinewidth\":0,\"ticks\":\"\"}},\"marker\":{\"colorbar\":{\"outlinewidth\":0,\"ticks\":\"\"}}}],\"scattermapbox\":[{\"type\":\"scattermapbox\",\"marker\":{\"colorbar\":{\"outlinewidth\":0,\"ticks\":\"\"}}}],\"scatterternary\":[{\"type\":\"scatterternary\",\"marker\":{\"colorbar\":{\"outlinewidth\":0,\"ticks\":\"\"}}}],\"scattercarpet\":[{\"type\":\"scattercarpet\",\"marker\":{\"colorbar\":{\"outlinewidth\":0,\"ticks\":\"\"}}}],\"carpet\":[{\"aaxis\":{\"endlinecolor\":\"#2a3f5f\",\"gridcolor\":\"white\",\"linecolor\":\"white\",\"minorgridcolor\":\"white\",\"startlinecolor\":\"#2a3f5f\"},\"baxis\":{\"endlinecolor\":\"#2a3f5f\",\"gridcolor\":\"white\",\"linecolor\":\"white\",\"minorgridcolor\":\"white\",\"startlinecolor\":\"#2a3f5f\"},\"type\":\"carpet\"}],\"table\":[{\"cells\":{\"fill\":{\"color\":\"#EBF0F8\"},\"line\":{\"color\":\"white\"}},\"header\":{\"fill\":{\"color\":\"#C8D4E3\"},\"line\":{\"color\":\"white\"}},\"type\":\"table\"}],\"barpolar\":[{\"marker\":{\"line\":{\"color\":\"#E5ECF6\",\"width\":0.5},\"pattern\":{\"fillmode\":\"overlay\",\"size\":10,\"solidity\":0.2}},\"type\":\"barpolar\"}],\"pie\":[{\"automargin\":true,\"type\":\"pie\"}]},\"layout\":{\"autotypenumbers\":\"strict\",\"colorway\":[\"#636efa\",\"#EF553B\",\"#00cc96\",\"#ab63fa\",\"#FFA15A\",\"#19d3f3\",\"#FF6692\",\"#B6E880\",\"#FF97FF\",\"#FECB52\"],\"font\":{\"color\":\"#2a3f5f\"},\"hovermode\":\"closest\",\"hoverlabel\":{\"align\":\"left\"},\"paper_bgcolor\":\"white\",\"plot_bgcolor\":\"#E5ECF6\",\"polar\":{\"bgcolor\":\"#E5ECF6\",\"angularaxis\":{\"gridcolor\":\"white\",\"linecolor\":\"white\",\"ticks\":\"\"},\"radialaxis\":{\"gridcolor\":\"white\",\"linecolor\":\"white\",\"ticks\":\"\"}},\"ternary\":{\"bgcolor\":\"#E5ECF6\",\"aaxis\":{\"gridcolor\":\"white\",\"linecolor\":\"white\",\"ticks\":\"\"},\"baxis\":{\"gridcolor\":\"white\",\"linecolor\":\"white\",\"ticks\":\"\"},\"caxis\":{\"gridcolor\":\"white\",\"linecolor\":\"white\",\"ticks\":\"\"}},\"coloraxis\":{\"colorbar\":{\"outlinewidth\":0,\"ticks\":\"\"}},\"colorscale\":{\"sequential\":[[0.0,\"#0d0887\"],[0.1111111111111111,\"#46039f\"],[0.2222222222222222,\"#7201a8\"],[0.3333333333333333,\"#9c179e\"],[0.4444444444444444,\"#bd3786\"],[0.5555555555555556,\"#d8576b\"],[0.6666666666666666,\"#ed7953\"],[0.7777777777777778,\"#fb9f3a\"],[0.8888888888888888,\"#fdca26\"],[1.0,\"#f0f921\"]],\"sequentialminus\":[[0.0,\"#0d0887\"],[0.1111111111111111,\"#46039f\"],[0.2222222222222222,\"#7201a8\"],[0.3333333333333333,\"#9c179e\"],[0.4444444444444444,\"#bd3786\"],[0.5555555555555556,\"#d8576b\"],[0.6666666666666666,\"#ed7953\"],[0.7777777777777778,\"#fb9f3a\"],[0.8888888888888888,\"#fdca26\"],[1.0,\"#f0f921\"]],\"diverging\":[[0,\"#8e0152\"],[0.1,\"#c51b7d\"],[0.2,\"#de77ae\"],[0.3,\"#f1b6da\"],[0.4,\"#fde0ef\"],[0.5,\"#f7f7f7\"],[0.6,\"#e6f5d0\"],[0.7,\"#b8e186\"],[0.8,\"#7fbc41\"],[0.9,\"#4d9221\"],[1,\"#276419\"]]},\"xaxis\":{\"gridcolor\":\"white\",\"linecolor\":\"white\",\"ticks\":\"\",\"title\":{\"standoff\":15},\"zerolinecolor\":\"white\",\"automargin\":true,\"zerolinewidth\":2},\"yaxis\":{\"gridcolor\":\"white\",\"linecolor\":\"white\",\"ticks\":\"\",\"title\":{\"standoff\":15},\"zerolinecolor\":\"white\",\"automargin\":true,\"zerolinewidth\":2},\"scene\":{\"xaxis\":{\"backgroundcolor\":\"#E5ECF6\",\"gridcolor\":\"white\",\"linecolor\":\"white\",\"showbackground\":true,\"ticks\":\"\",\"zerolinecolor\":\"white\",\"gridwidth\":2},\"yaxis\":{\"backgroundcolor\":\"#E5ECF6\",\"gridcolor\":\"white\",\"linecolor\":\"white\",\"showbackground\":true,\"ticks\":\"\",\"zerolinecolor\":\"white\",\"gridwidth\":2},\"zaxis\":{\"backgroundcolor\":\"#E5ECF6\",\"gridcolor\":\"white\",\"linecolor\":\"white\",\"showbackground\":true,\"ticks\":\"\",\"zerolinecolor\":\"white\",\"gridwidth\":2}},\"shapedefaults\":{\"line\":{\"color\":\"#2a3f5f\"}},\"annotationdefaults\":{\"arrowcolor\":\"#2a3f5f\",\"arrowhead\":0,\"arrowwidth\":1},\"geo\":{\"bgcolor\":\"white\",\"landcolor\":\"#E5ECF6\",\"subunitcolor\":\"white\",\"showland\":true,\"showlakes\":true,\"lakecolor\":\"white\"},\"title\":{\"x\":0.05},\"mapbox\":{\"style\":\"light\"}}}},                        {\"responsive\": true}                    ).then(function(){\n",
              "                            \n",
              "var gd = document.getElementById('a527150d-4729-44ae-a234-f74d0f2b2b43');\n",
              "var x = new MutationObserver(function (mutations, observer) {{\n",
              "        var display = window.getComputedStyle(gd).display;\n",
              "        if (!display || display === 'none') {{\n",
              "            console.log([gd, 'removed!']);\n",
              "            Plotly.purge(gd);\n",
              "            observer.disconnect();\n",
              "        }}\n",
              "}});\n",
              "\n",
              "// Listen for the removal of the full notebook cells\n",
              "var notebookContainer = gd.closest('#notebook-container');\n",
              "if (notebookContainer) {{\n",
              "    x.observe(notebookContainer, {childList: true});\n",
              "}}\n",
              "\n",
              "// Listen for the clearing of the current output cell\n",
              "var outputEl = gd.closest('.output');\n",
              "if (outputEl) {{\n",
              "    x.observe(outputEl, {childList: true});\n",
              "}}\n",
              "\n",
              "                        })                };                            </script>        </div>\n",
              "</body>\n",
              "</html>"
            ]
          },
          "metadata": {}
        },
        {
          "output_type": "stream",
          "name": "stderr",
          "text": [
            "<ipython-input-78-65280db254a0>:44: FutureWarning:\n",
            "\n",
            "suggest_loguniform has been deprecated in v3.0.0. This feature will be removed in v6.0.0. See https://github.com/optuna/optuna/releases/tag/v3.0.0. Use suggest_float(..., log=True) instead.\n",
            "\n",
            "<ipython-input-78-65280db254a0>:76: FutureWarning:\n",
            "\n",
            "suggest_uniform has been deprecated in v3.0.0. This feature will be removed in v6.0.0. See https://github.com/optuna/optuna/releases/tag/v3.0.0. Use suggest_float instead.\n",
            "\n",
            "<ipython-input-78-65280db254a0>:149: FutureWarning:\n",
            "\n",
            "suggest_loguniform has been deprecated in v3.0.0. This feature will be removed in v6.0.0. See https://github.com/optuna/optuna/releases/tag/v3.0.0. Use suggest_float(..., log=True) instead.\n",
            "\n",
            "<ipython-input-78-65280db254a0>:150: FutureWarning:\n",
            "\n",
            "suggest_uniform has been deprecated in v3.0.0. This feature will be removed in v6.0.0. See https://github.com/optuna/optuna/releases/tag/v3.0.0. Use suggest_float instead.\n",
            "\n",
            "<ipython-input-78-65280db254a0>:151: FutureWarning:\n",
            "\n",
            "suggest_uniform has been deprecated in v3.0.0. This feature will be removed in v6.0.0. See https://github.com/optuna/optuna/releases/tag/v3.0.0. Use suggest_float instead.\n",
            "\n",
            "<ipython-input-78-65280db254a0>:178: FutureWarning:\n",
            "\n",
            "suggest_uniform has been deprecated in v3.0.0. This feature will be removed in v6.0.0. See https://github.com/optuna/optuna/releases/tag/v3.0.0. Use suggest_float instead.\n",
            "\n",
            "<ipython-input-78-65280db254a0>:180: FutureWarning:\n",
            "\n",
            "suggest_loguniform has been deprecated in v3.0.0. This feature will be removed in v6.0.0. See https://github.com/optuna/optuna/releases/tag/v3.0.0. Use suggest_float(..., log=True) instead.\n",
            "\n"
          ]
        },
        {
          "output_type": "stream",
          "name": "stdout",
          "text": [
            "Epoch 1/138.. Train loss: 6.384.. Val loss: 3.876.. Train L1 norm: 63.644.. Val L1 norm: 4.385.. Train Linf norm: 15219.427.. Val Linf norm: 580.950\n",
            "Epoch 2/138.. Train loss: 3.828.. Val loss: 3.818.. Train L1 norm: 46.107.. Val L1 norm: 5.577.. Train Linf norm: 11073.636.. Val Linf norm: 764.348\n",
            "Epoch 3/138.. Train loss: 3.816.. Val loss: 3.822.. Train L1 norm: 79.479.. Val L1 norm: 5.374.. Train Linf norm: 19625.457.. Val Linf norm: 733.411\n",
            "Epoch 4/138.. Train loss: 3.815.. Val loss: 3.819.. Train L1 norm: 73.463.. Val L1 norm: 6.162.. Train Linf norm: 18077.348.. Val Linf norm: 852.856\n",
            "Epoch 5/138.. Train loss: 3.815.. Val loss: 3.818.. Train L1 norm: 72.504.. Val L1 norm: 6.087.. Train Linf norm: 17839.064.. Val Linf norm: 841.468\n",
            "Epoch 6/138.. Train loss: 3.933.. Val loss: 3.899.. Train L1 norm: 70.509.. Val L1 norm: 4.126.. Train Linf norm: 17308.844.. Val Linf norm: 540.404\n",
            "Epoch 7/138.. Train loss: 3.832.. Val loss: 3.816.. Train L1 norm: 69.339.. Val L1 norm: 5.934.. Train Linf norm: 17021.523.. Val Linf norm: 818.450\n",
            "Epoch 8/138.. Train loss: 3.814.. Val loss: 3.816.. Train L1 norm: 70.575.. Val L1 norm: 5.851.. Train Linf norm: 17350.363.. Val Linf norm: 805.897\n",
            "Epoch 9/138.. Train loss: 3.813.. Val loss: 3.816.. Train L1 norm: 71.094.. Val L1 norm: 5.873.. Train Linf norm: 17487.402.. Val Linf norm: 809.180\n",
            "Epoch 10/138.. Train loss: 3.813.. Val loss: 3.816.. Train L1 norm: 67.820.. Val L1 norm: 5.902.. Train Linf norm: 16638.849.. Val Linf norm: 813.554\n",
            "Epoch 11/138.. Train loss: 3.813.. Val loss: 3.817.. Train L1 norm: 71.546.. Val L1 norm: 6.016.. Train Linf norm: 17592.390.. Val Linf norm: 830.742\n",
            "Epoch 12/138.. Train loss: 3.814.. Val loss: 3.816.. Train L1 norm: 69.555.. Val L1 norm: 5.863.. Train Linf norm: 17073.184.. Val Linf norm: 807.594\n",
            "Epoch 13/138.. Train loss: 4.925.. Val loss: 3.816.. Train L1 norm: 73.131.. Val L1 norm: 5.931.. Train Linf norm: 17848.150.. Val Linf norm: 818.007\n",
            "Epoch 14/138.. Train loss: 3.816.. Val loss: 3.817.. Train L1 norm: 76.030.. Val L1 norm: 5.653.. Train Linf norm: 18747.742.. Val Linf norm: 775.902\n",
            "Epoch 15/138.. Train loss: 3.814.. Val loss: 3.816.. Train L1 norm: 72.045.. Val L1 norm: 5.767.. Train Linf norm: 17726.903.. Val Linf norm: 793.088\n",
            "Epoch 16/138.. Train loss: 3.814.. Val loss: 3.816.. Train L1 norm: 70.244.. Val L1 norm: 5.921.. Train Linf norm: 17263.160.. Val Linf norm: 816.424\n",
            "Epoch 17/138.. Train loss: 3.814.. Val loss: 3.819.. Train L1 norm: 69.334.. Val L1 norm: 6.157.. Train Linf norm: 17022.496.. Val Linf norm: 851.980\n",
            "Epoch 18/138.. Train loss: 3.814.. Val loss: 3.816.. Train L1 norm: 77.167.. Val L1 norm: 5.768.. Train Linf norm: 19038.220.. Val Linf norm: 793.325\n",
            "Epoch 19/138.. Train loss: 3.814.. Val loss: 3.816.. Train L1 norm: 65.417.. Val L1 norm: 5.807.. Train Linf norm: 16025.181.. Val Linf norm: 799.226\n",
            "Epoch 20/138.. Train loss: 3.814.. Val loss: 3.817.. Train L1 norm: 72.804.. Val L1 norm: 5.996.. Train Linf norm: 17914.207.. Val Linf norm: 827.709\n",
            "Epoch 21/138.. Train loss: 3.813.. Val loss: 3.816.. Train L1 norm: 72.255.. Val L1 norm: 5.770.. Train Linf norm: 17774.629.. Val Linf norm: 793.525\n",
            "Epoch 22/138.. Train loss: 3.813.. Val loss: 3.816.. Train L1 norm: 70.741.. Val L1 norm: 5.946.. Train Linf norm: 17392.535.. Val Linf norm: 820.247\n",
            "Epoch 23/138.. Train loss: 3.813.. Val loss: 3.816.. Train L1 norm: 69.845.. Val L1 norm: 5.858.. Train Linf norm: 17154.674.. Val Linf norm: 806.918\n",
            "Epoch 24/138.. Train loss: 3.813.. Val loss: 3.816.. Train L1 norm: 70.076.. Val L1 norm: 5.855.. Train Linf norm: 17220.240.. Val Linf norm: 806.410\n",
            "Epoch 25/138.. Train loss: 3.813.. Val loss: 3.818.. Train L1 norm: 71.079.. Val L1 norm: 6.088.. Train Linf norm: 17477.859.. Val Linf norm: 841.583\n",
            "Epoch 26/138.. Train loss: 3.818.. Val loss: 3.816.. Train L1 norm: 74.625.. Val L1 norm: 5.935.. Train Linf norm: 18390.932.. Val Linf norm: 818.504\n",
            "Epoch 27/138.. Train loss: 3.813.. Val loss: 3.816.. Train L1 norm: 69.409.. Val L1 norm: 5.771.. Train Linf norm: 17041.205.. Val Linf norm: 793.720\n",
            "Epoch 28/138.. Train loss: 3.813.. Val loss: 3.816.. Train L1 norm: 71.587.. Val L1 norm: 5.888.. Train Linf norm: 17608.576.. Val Linf norm: 811.455\n",
            "Epoch 29/138.. Train loss: 3.813.. Val loss: 3.816.. Train L1 norm: 71.060.. Val L1 norm: 5.871.. Train Linf norm: 17470.627.. Val Linf norm: 808.855\n",
            "Epoch 30/138.. Train loss: 3.813.. Val loss: 3.816.. Train L1 norm: 71.813.. Val L1 norm: 5.800.. Train Linf norm: 17664.572.. Val Linf norm: 798.101\n",
            "Epoch 31/138.. Train loss: 3.813.. Val loss: 3.816.. Train L1 norm: 67.397.. Val L1 norm: 5.804.. Train Linf norm: 16533.192.. Val Linf norm: 798.774\n",
            "Epoch 32/138.. Train loss: 3.813.. Val loss: 3.816.. Train L1 norm: 72.463.. Val L1 norm: 5.943.. Train Linf norm: 17827.243.. Val Linf norm: 819.741\n",
            "Epoch 33/138.. Train loss: 3.813.. Val loss: 3.816.. Train L1 norm: 71.317.. Val L1 norm: 5.811.. Train Linf norm: 17536.037.. Val Linf norm: 799.805\n",
            "Epoch 34/138.. Train loss: 3.813.. Val loss: 3.816.. Train L1 norm: 69.731.. Val L1 norm: 5.764.. Train Linf norm: 17125.650.. Val Linf norm: 792.629\n",
            "Epoch 35/138.. Train loss: 4.025.. Val loss: 3.816.. Train L1 norm: 72.632.. Val L1 norm: 5.900.. Train Linf norm: 17870.304.. Val Linf norm: 813.289\n",
            "Epoch 36/138.. Train loss: 3.813.. Val loss: 3.817.. Train L1 norm: 73.041.. Val L1 norm: 6.033.. Train Linf norm: 17978.214.. Val Linf norm: 833.287\n",
            "Epoch 37/138.. Train loss: 3.813.. Val loss: 3.816.. Train L1 norm: 71.299.. Val L1 norm: 5.859.. Train Linf norm: 17518.503.. Val Linf norm: 807.056\n",
            "Epoch 38/138.. Train loss: 3.911.. Val loss: 3.816.. Train L1 norm: 73.434.. Val L1 norm: 5.936.. Train Linf norm: 18072.080.. Val Linf norm: 818.660\n",
            "Epoch 39/138.. Train loss: 3.812.. Val loss: 3.816.. Train L1 norm: 72.594.. Val L1 norm: 5.921.. Train Linf norm: 17865.308.. Val Linf norm: 816.466\n",
            "Epoch 40/138.. Train loss: 3.813.. Val loss: 3.816.. Train L1 norm: 72.576.. Val L1 norm: 5.855.. Train Linf norm: 17862.435.. Val Linf norm: 806.459\n",
            "Epoch 41/138.. Train loss: 3.812.. Val loss: 3.816.. Train L1 norm: 70.992.. Val L1 norm: 5.877.. Train Linf norm: 17448.753.. Val Linf norm: 809.797\n",
            "Epoch 42/138.. Train loss: 3.812.. Val loss: 3.816.. Train L1 norm: 72.431.. Val L1 norm: 5.900.. Train Linf norm: 17824.766.. Val Linf norm: 813.342\n",
            "Epoch 43/138.. Train loss: 3.812.. Val loss: 3.816.. Train L1 norm: 71.130.. Val L1 norm: 5.851.. Train Linf norm: 17476.817.. Val Linf norm: 805.914\n",
            "Epoch 44/138.. Train loss: 3.814.. Val loss: 3.816.. Train L1 norm: 72.741.. Val L1 norm: 5.901.. Train Linf norm: 17903.343.. Val Linf norm: 813.411\n",
            "Epoch 45/138.. Train loss: 3.812.. Val loss: 3.816.. Train L1 norm: 70.349.. Val L1 norm: 5.849.. Train Linf norm: 17283.702.. Val Linf norm: 805.652\n",
            "Epoch 46/138.. Train loss: 3.812.. Val loss: 3.816.. Train L1 norm: 72.245.. Val L1 norm: 5.888.. Train Linf norm: 17769.955.. Val Linf norm: 811.496\n",
            "Epoch 47/138.. Train loss: 3.812.. Val loss: 3.816.. Train L1 norm: 70.555.. Val L1 norm: 5.872.. Train Linf norm: 17342.413.. Val Linf norm: 808.999\n",
            "Epoch 48/138.. Train loss: 3.812.. Val loss: 3.815.. Train L1 norm: 71.106.. Val L1 norm: 5.857.. Train Linf norm: 17472.268.. Val Linf norm: 806.749\n",
            "Epoch 49/138.. Train loss: 3.812.. Val loss: 3.816.. Train L1 norm: 72.041.. Val L1 norm: 5.876.. Train Linf norm: 17722.492.. Val Linf norm: 809.655\n",
            "Epoch 50/138.. Train loss: 3.812.. Val loss: 3.816.. Train L1 norm: 70.645.. Val L1 norm: 5.879.. Train Linf norm: 17364.406.. Val Linf norm: 810.065\n",
            "Epoch 51/138.. Train loss: 3.812.. Val loss: 3.816.. Train L1 norm: 69.205.. Val L1 norm: 5.873.. Train Linf norm: 16994.172.. Val Linf norm: 809.265\n",
            "Epoch 52/138.. Train loss: 3.812.. Val loss: 3.816.. Train L1 norm: 70.790.. Val L1 norm: 5.881.. Train Linf norm: 17399.816.. Val Linf norm: 810.480\n",
            "Epoch 53/138.. Train loss: 3.815.. Val loss: 3.815.. Train L1 norm: 71.066.. Val L1 norm: 5.878.. Train Linf norm: 17469.635.. Val Linf norm: 809.943\n",
            "Epoch 54/138.. Train loss: 3.951.. Val loss: 3.815.. Train L1 norm: 71.461.. Val L1 norm: 5.870.. Train Linf norm: 17577.235.. Val Linf norm: 808.765\n",
            "Epoch 55/138.. Train loss: 3.812.. Val loss: 3.815.. Train L1 norm: 72.057.. Val L1 norm: 5.881.. Train Linf norm: 17724.994.. Val Linf norm: 810.438\n",
            "Epoch 56/138.. Train loss: 3.817.. Val loss: 3.815.. Train L1 norm: 72.412.. Val L1 norm: 5.876.. Train Linf norm: 17814.483.. Val Linf norm: 809.725\n",
            "Epoch 57/138.. Train loss: 3.812.. Val loss: 3.815.. Train L1 norm: 70.246.. Val L1 norm: 5.877.. Train Linf norm: 17263.209.. Val Linf norm: 809.839\n",
            "Epoch 58/138.. Train loss: 3.812.. Val loss: 3.815.. Train L1 norm: 70.685.. Val L1 norm: 5.878.. Train Linf norm: 17376.313.. Val Linf norm: 809.969\n",
            "Epoch 59/138.. Train loss: 3.812.. Val loss: 3.815.. Train L1 norm: 70.432.. Val L1 norm: 5.877.. Train Linf norm: 17310.521.. Val Linf norm: 809.877\n",
            "Epoch 60/138.. Train loss: 3.812.. Val loss: 3.815.. Train L1 norm: 70.793.. Val L1 norm: 5.878.. Train Linf norm: 17399.952.. Val Linf norm: 809.925\n",
            "Epoch 61/138.. Train loss: 3.812.. Val loss: 3.815.. Train L1 norm: 71.139.. Val L1 norm: 5.877.. Train Linf norm: 17492.767.. Val Linf norm: 809.884\n",
            "Epoch 62/138.. Train loss: 3.812.. Val loss: 3.815.. Train L1 norm: 71.357.. Val L1 norm: 5.876.. Train Linf norm: 17553.163.. Val Linf norm: 809.743\n",
            "Epoch 63/138.. Train loss: 3.812.. Val loss: 3.815.. Train L1 norm: 71.554.. Val L1 norm: 5.876.. Train Linf norm: 17593.582.. Val Linf norm: 809.693\n",
            "Epoch 64/138.. Train loss: 3.812.. Val loss: 3.815.. Train L1 norm: 72.068.. Val L1 norm: 5.876.. Train Linf norm: 17727.535.. Val Linf norm: 809.744\n",
            "Epoch 65/138.. Train loss: 3.812.. Val loss: 3.815.. Train L1 norm: 70.770.. Val L1 norm: 5.876.. Train Linf norm: 17394.404.. Val Linf norm: 809.702\n",
            "Epoch 66/138.. Train loss: 3.812.. Val loss: 3.815.. Train L1 norm: 71.848.. Val L1 norm: 5.876.. Train Linf norm: 17673.206.. Val Linf norm: 809.614\n",
            "Epoch 67/138.. Train loss: 3.812.. Val loss: 3.815.. Train L1 norm: 71.749.. Val L1 norm: 5.876.. Train Linf norm: 17645.611.. Val Linf norm: 809.643\n",
            "Epoch 68/138.. Train loss: 3.812.. Val loss: 3.815.. Train L1 norm: 69.866.. Val L1 norm: 5.876.. Train Linf norm: 17161.536.. Val Linf norm: 809.735\n",
            "Epoch 69/138.. Train loss: 3.812.. Val loss: 3.815.. Train L1 norm: 71.808.. Val L1 norm: 5.876.. Train Linf norm: 17657.769.. Val Linf norm: 809.738\n",
            "Epoch 70/138.. Train loss: 3.812.. Val loss: 3.815.. Train L1 norm: 69.843.. Val L1 norm: 5.876.. Train Linf norm: 17143.330.. Val Linf norm: 809.742\n",
            "Epoch 71/138.. Train loss: 3.812.. Val loss: 3.815.. Train L1 norm: 71.281.. Val L1 norm: 5.876.. Train Linf norm: 17520.529.. Val Linf norm: 809.763\n",
            "Epoch 72/138.. Train loss: 3.812.. Val loss: 3.815.. Train L1 norm: 71.708.. Val L1 norm: 5.877.. Train Linf norm: 17636.303.. Val Linf norm: 809.772\n",
            "Epoch 73/138.. Train loss: 3.812.. Val loss: 3.815.. Train L1 norm: 71.345.. Val L1 norm: 5.876.. Train Linf norm: 17540.304.. Val Linf norm: 809.767\n",
            "Epoch 74/138.. Train loss: 3.812.. Val loss: 3.815.. Train L1 norm: 71.117.. Val L1 norm: 5.876.. Train Linf norm: 17486.487.. Val Linf norm: 809.764\n",
            "Epoch 75/138.. Train loss: 3.812.. Val loss: 3.815.. Train L1 norm: 70.201.. Val L1 norm: 5.877.. Train Linf norm: 17253.998.. Val Linf norm: 809.781\n",
            "Epoch 76/138.. Train loss: 3.812.. Val loss: 3.815.. Train L1 norm: 73.016.. Val L1 norm: 5.877.. Train Linf norm: 17971.938.. Val Linf norm: 809.780\n",
            "Epoch 77/138.. Train loss: 3.812.. Val loss: 3.815.. Train L1 norm: 71.596.. Val L1 norm: 5.877.. Train Linf norm: 17599.039.. Val Linf norm: 809.805\n",
            "Epoch 78/138.. Train loss: 3.812.. Val loss: 3.815.. Train L1 norm: 72.555.. Val L1 norm: 5.877.. Train Linf norm: 17849.330.. Val Linf norm: 809.805\n",
            "Epoch 79/138.. Train loss: 3.812.. Val loss: 3.815.. Train L1 norm: 71.235.. Val L1 norm: 5.877.. Train Linf norm: 17513.099.. Val Linf norm: 809.825\n",
            "Epoch 80/138.. Train loss: 3.812.. Val loss: 3.815.. Train L1 norm: 72.299.. Val L1 norm: 5.877.. Train Linf norm: 17786.540.. Val Linf norm: 809.822\n",
            "Epoch 81/138.. Train loss: 3.812.. Val loss: 3.815.. Train L1 norm: 71.588.. Val L1 norm: 5.877.. Train Linf norm: 17604.249.. Val Linf norm: 809.842\n",
            "Epoch 82/138.. Train loss: 3.812.. Val loss: 3.815.. Train L1 norm: 71.383.. Val L1 norm: 5.877.. Train Linf norm: 17552.728.. Val Linf norm: 809.834\n",
            "Epoch 83/138.. Train loss: 3.812.. Val loss: 3.815.. Train L1 norm: 72.056.. Val L1 norm: 5.877.. Train Linf norm: 17731.007.. Val Linf norm: 809.839\n",
            "Epoch 84/138.. Train loss: 3.812.. Val loss: 3.815.. Train L1 norm: 72.076.. Val L1 norm: 5.877.. Train Linf norm: 17730.811.. Val Linf norm: 809.855\n",
            "Epoch 85/138.. Train loss: 3.812.. Val loss: 3.815.. Train L1 norm: 71.674.. Val L1 norm: 5.877.. Train Linf norm: 17630.424.. Val Linf norm: 809.871\n",
            "Epoch 86/138.. Train loss: 3.812.. Val loss: 3.815.. Train L1 norm: 71.662.. Val L1 norm: 5.877.. Train Linf norm: 17621.247.. Val Linf norm: 809.874\n",
            "Epoch 87/138.. Train loss: 3.812.. Val loss: 3.815.. Train L1 norm: 70.497.. Val L1 norm: 5.877.. Train Linf norm: 17324.722.. Val Linf norm: 809.871\n",
            "Epoch 88/138.. Train loss: 3.812.. Val loss: 3.815.. Train L1 norm: 70.245.. Val L1 norm: 5.877.. Train Linf norm: 17259.931.. Val Linf norm: 809.871\n",
            "Epoch 89/138.. Train loss: 3.812.. Val loss: 3.815.. Train L1 norm: 71.522.. Val L1 norm: 5.877.. Train Linf norm: 17589.364.. Val Linf norm: 809.869\n",
            "Epoch 90/138.. Train loss: 3.812.. Val loss: 3.815.. Train L1 norm: 70.927.. Val L1 norm: 5.877.. Train Linf norm: 17439.331.. Val Linf norm: 809.846\n",
            "Epoch 91/138.. Train loss: 3.812.. Val loss: 3.815.. Train L1 norm: 72.197.. Val L1 norm: 5.877.. Train Linf norm: 17767.754.. Val Linf norm: 809.849\n",
            "Epoch 92/138.. Train loss: 3.812.. Val loss: 3.815.. Train L1 norm: 71.422.. Val L1 norm: 5.877.. Train Linf norm: 17564.828.. Val Linf norm: 809.868\n",
            "Epoch 93/138.. Train loss: 3.812.. Val loss: 3.815.. Train L1 norm: 71.326.. Val L1 norm: 5.877.. Train Linf norm: 17538.750.. Val Linf norm: 809.859\n",
            "Epoch 94/138.. Train loss: 3.862.. Val loss: 3.815.. Train L1 norm: 70.464.. Val L1 norm: 5.877.. Train Linf norm: 17317.833.. Val Linf norm: 809.866\n",
            "Epoch 95/138.. Train loss: 3.812.. Val loss: 3.815.. Train L1 norm: 71.129.. Val L1 norm: 5.877.. Train Linf norm: 17481.899.. Val Linf norm: 809.871\n",
            "Epoch 96/138.. Train loss: 3.812.. Val loss: 3.815.. Train L1 norm: 71.655.. Val L1 norm: 5.877.. Train Linf norm: 17621.318.. Val Linf norm: 809.851\n",
            "Epoch 97/138.. Train loss: 3.812.. Val loss: 3.815.. Train L1 norm: 71.983.. Val L1 norm: 5.877.. Train Linf norm: 17705.369.. Val Linf norm: 809.832\n",
            "Epoch 98/138.. Train loss: 3.812.. Val loss: 3.815.. Train L1 norm: 70.883.. Val L1 norm: 5.877.. Train Linf norm: 17417.161.. Val Linf norm: 809.812\n",
            "Epoch 99/138.. Train loss: 3.812.. Val loss: 3.815.. Train L1 norm: 70.887.. Val L1 norm: 5.877.. Train Linf norm: 17419.415.. Val Linf norm: 809.816\n",
            "Epoch 100/138.. Train loss: 3.812.. Val loss: 3.815.. Train L1 norm: 71.171.. Val L1 norm: 5.877.. Train Linf norm: 17498.891.. Val Linf norm: 809.835\n",
            "Epoch 101/138.. Train loss: 3.812.. Val loss: 3.815.. Train L1 norm: 69.447.. Val L1 norm: 5.877.. Train Linf norm: 17048.435.. Val Linf norm: 809.815\n",
            "Epoch 102/138.. Train loss: 3.812.. Val loss: 3.815.. Train L1 norm: 71.168.. Val L1 norm: 5.877.. Train Linf norm: 17495.326.. Val Linf norm: 809.808\n",
            "Epoch 103/138.. Train loss: 3.812.. Val loss: 3.815.. Train L1 norm: 70.879.. Val L1 norm: 5.877.. Train Linf norm: 17417.389.. Val Linf norm: 809.819\n",
            "Epoch 104/138.. Train loss: 3.812.. Val loss: 3.815.. Train L1 norm: 70.018.. Val L1 norm: 5.877.. Train Linf norm: 17201.212.. Val Linf norm: 809.817\n",
            "Epoch 105/138.. Train loss: 3.812.. Val loss: 3.815.. Train L1 norm: 73.280.. Val L1 norm: 5.877.. Train Linf norm: 18036.666.. Val Linf norm: 809.807\n",
            "Epoch 106/138.. Train loss: 3.812.. Val loss: 3.815.. Train L1 norm: 71.143.. Val L1 norm: 5.877.. Train Linf norm: 17490.694.. Val Linf norm: 809.807\n",
            "Epoch 107/138.. Train loss: 3.812.. Val loss: 3.815.. Train L1 norm: 71.526.. Val L1 norm: 5.877.. Train Linf norm: 17572.332.. Val Linf norm: 809.811\n",
            "Epoch 108/138.. Train loss: 3.812.. Val loss: 3.815.. Train L1 norm: 73.643.. Val L1 norm: 5.877.. Train Linf norm: 18128.902.. Val Linf norm: 809.814\n",
            "Epoch 109/138.. Train loss: 3.812.. Val loss: 3.815.. Train L1 norm: 70.691.. Val L1 norm: 5.877.. Train Linf norm: 17370.291.. Val Linf norm: 809.816\n",
            "Epoch 110/138.. Train loss: 3.812.. Val loss: 3.815.. Train L1 norm: 71.944.. Val L1 norm: 5.877.. Train Linf norm: 17694.743.. Val Linf norm: 809.818\n",
            "Epoch 111/138.. Train loss: 3.815.. Val loss: 3.815.. Train L1 norm: 70.839.. Val L1 norm: 5.877.. Train Linf norm: 17409.275.. Val Linf norm: 809.832\n",
            "Epoch 112/138.. Train loss: 3.812.. Val loss: 3.815.. Train L1 norm: 71.835.. Val L1 norm: 5.877.. Train Linf norm: 17666.747.. Val Linf norm: 809.847\n",
            "Epoch 113/138.. Train loss: 3.812.. Val loss: 3.815.. Train L1 norm: 74.515.. Val L1 norm: 5.877.. Train Linf norm: 18351.364.. Val Linf norm: 809.830\n",
            "Epoch 114/138.. Train loss: 3.812.. Val loss: 3.815.. Train L1 norm: 70.928.. Val L1 norm: 5.877.. Train Linf norm: 17432.127.. Val Linf norm: 809.825\n",
            "Epoch 115/138.. Train loss: 3.812.. Val loss: 3.815.. Train L1 norm: 70.785.. Val L1 norm: 5.877.. Train Linf norm: 17390.147.. Val Linf norm: 809.798\n",
            "Epoch 116/138.. Train loss: 3.812.. Val loss: 3.815.. Train L1 norm: 70.835.. Val L1 norm: 5.877.. Train Linf norm: 17407.484.. Val Linf norm: 809.800\n",
            "Epoch 117/138.. Train loss: 3.812.. Val loss: 3.815.. Train L1 norm: 71.389.. Val L1 norm: 5.876.. Train Linf norm: 17548.945.. Val Linf norm: 809.767\n",
            "Epoch 118/138.. Train loss: 3.812.. Val loss: 3.815.. Train L1 norm: 70.810.. Val L1 norm: 5.876.. Train Linf norm: 17403.735.. Val Linf norm: 809.744\n",
            "Epoch 119/138.. Train loss: 3.812.. Val loss: 3.815.. Train L1 norm: 72.131.. Val L1 norm: 5.876.. Train Linf norm: 17742.939.. Val Linf norm: 809.767\n",
            "Epoch 120/138.. Train loss: 3.812.. Val loss: 3.815.. Train L1 norm: 72.534.. Val L1 norm: 5.876.. Train Linf norm: 17847.931.. Val Linf norm: 809.785\n",
            "Epoch 121/138.. Train loss: 3.812.. Val loss: 3.815.. Train L1 norm: 69.363.. Val L1 norm: 5.877.. Train Linf norm: 17031.909.. Val Linf norm: 809.801\n",
            "Epoch 122/138.. Train loss: 3.812.. Val loss: 3.815.. Train L1 norm: 71.698.. Val L1 norm: 5.877.. Train Linf norm: 17633.365.. Val Linf norm: 809.798\n",
            "Epoch 123/138.. Train loss: 3.812.. Val loss: 3.815.. Train L1 norm: 71.933.. Val L1 norm: 5.876.. Train Linf norm: 17693.166.. Val Linf norm: 809.786\n",
            "Epoch 124/138.. Train loss: 3.812.. Val loss: 3.815.. Train L1 norm: 71.267.. Val L1 norm: 5.877.. Train Linf norm: 17526.709.. Val Linf norm: 809.795\n",
            "Epoch 125/138.. Train loss: 3.834.. Val loss: 3.815.. Train L1 norm: 69.204.. Val L1 norm: 5.877.. Train Linf norm: 16993.370.. Val Linf norm: 809.790\n",
            "Epoch 126/138.. Train loss: 3.812.. Val loss: 3.815.. Train L1 norm: 69.906.. Val L1 norm: 5.876.. Train Linf norm: 17178.445.. Val Linf norm: 809.786\n",
            "Epoch 127/138.. Train loss: 3.812.. Val loss: 3.815.. Train L1 norm: 70.854.. Val L1 norm: 5.876.. Train Linf norm: 17393.199.. Val Linf norm: 809.776\n",
            "Epoch 128/138.. Train loss: 3.812.. Val loss: 3.815.. Train L1 norm: 73.076.. Val L1 norm: 5.876.. Train Linf norm: 17990.064.. Val Linf norm: 809.761\n",
            "Epoch 129/138.. Train loss: 3.829.. Val loss: 3.815.. Train L1 norm: 73.822.. Val L1 norm: 5.876.. Train Linf norm: 18177.305.. Val Linf norm: 809.779\n",
            "Epoch 130/138.. Train loss: 3.812.. Val loss: 3.815.. Train L1 norm: 70.788.. Val L1 norm: 5.876.. Train Linf norm: 17400.951.. Val Linf norm: 809.776\n",
            "Epoch 131/138.. Train loss: 3.812.. Val loss: 3.815.. Train L1 norm: 72.921.. Val L1 norm: 5.876.. Train Linf norm: 17944.572.. Val Linf norm: 809.768\n",
            "Epoch 132/138.. Train loss: 3.812.. Val loss: 3.815.. Train L1 norm: 71.238.. Val L1 norm: 5.876.. Train Linf norm: 17522.207.. Val Linf norm: 809.760\n",
            "Epoch 133/138.. Train loss: 3.812.. Val loss: 3.815.. Train L1 norm: 70.380.. Val L1 norm: 5.876.. Train Linf norm: 17290.437.. Val Linf norm: 809.733\n",
            "Epoch 134/138.. Train loss: 3.812.. Val loss: 3.815.. Train L1 norm: 71.475.. Val L1 norm: 5.876.. Train Linf norm: 17572.015.. Val Linf norm: 809.735\n",
            "Epoch 135/138.. Train loss: 3.812.. Val loss: 3.815.. Train L1 norm: 70.233.. Val L1 norm: 5.876.. Train Linf norm: 17253.209.. Val Linf norm: 809.717\n",
            "Epoch 136/138.. Train loss: 3.812.. Val loss: 3.815.. Train L1 norm: 71.864.. Val L1 norm: 5.876.. Train Linf norm: 17679.784.. Val Linf norm: 809.739\n",
            "Epoch 137/138.. Train loss: 3.812.. Val loss: 3.815.. Train L1 norm: 72.570.. Val L1 norm: 5.876.. Train Linf norm: 17858.191.. Val Linf norm: 809.717\n"
          ]
        },
        {
          "output_type": "stream",
          "name": "stderr",
          "text": [
            "[I 2023-06-04 12:53:38,024] Trial 3 finished with value: 5.876067759094238 and parameters: {'n_layers': 5, 'n_units_0': 991, 'n_units_1': 2099, 'n_units_2': 20, 'n_units_3': 1439, 'n_units_4': 3883, 'hidden_activation': 'Swish', 'output_activation': 'Linear', 'loss': 'Huber', 'optimizer': 'Adam', 'lr': 0.007061958346848417, 'batch_size': 256, 'n_epochs': 138, 'scheduler': 'ReduceLROnPlateau', 'dropout_rate': 0.04877074647516488, 'weight_decay': 1.4975479210637892e-05, 'beta1': 0.9288321092262657, 'beta2': 0.9997584092562767, 'factor': 0.29808205562883316, 'patience': 5, 'threshold': 0.0020772483373999364}. Best is trial 0 with value: 3.3472999926249187.\n"
          ]
        },
        {
          "output_type": "stream",
          "name": "stdout",
          "text": [
            "Epoch 138/138.. Train loss: 3.812.. Val loss: 3.815.. Train L1 norm: 72.282.. Val L1 norm: 5.876.. Train Linf norm: 17785.723.. Val Linf norm: 809.726\n"
          ]
        },
        {
          "output_type": "display_data",
          "data": {
            "text/html": [
              "<html>\n",
              "<head><meta charset=\"utf-8\" /></head>\n",
              "<body>\n",
              "    <div>            <script src=\"https://cdnjs.cloudflare.com/ajax/libs/mathjax/2.7.5/MathJax.js?config=TeX-AMS-MML_SVG\"></script><script type=\"text/javascript\">if (window.MathJax && window.MathJax.Hub && window.MathJax.Hub.Config) {window.MathJax.Hub.Config({SVG: {font: \"STIX-Web\"}});}</script>                <script type=\"text/javascript\">window.PlotlyConfig = {MathJaxConfig: 'local'};</script>\n",
              "        <script src=\"https://cdn.plot.ly/plotly-2.18.2.min.js\"></script>                <div id=\"ced1b8e0-4fab-4b47-bf3c-2d9c1a830e6a\" class=\"plotly-graph-div\" style=\"height:525px; width:100%;\"></div>            <script type=\"text/javascript\">                                    window.PLOTLYENV=window.PLOTLYENV || {};                                    if (document.getElementById(\"ced1b8e0-4fab-4b47-bf3c-2d9c1a830e6a\")) {                    Plotly.newPlot(                        \"ced1b8e0-4fab-4b47-bf3c-2d9c1a830e6a\",                        [{\"mode\":\"markers\",\"name\":\"Objective Value\",\"x\":[0,1,2,3],\"y\":[3.3472999926249187,415.179546328125,15.96342066017151,5.876067759094238],\"type\":\"scatter\"},{\"name\":\"Best Value\",\"x\":[0,1,2,3],\"y\":[3.3472999926249187,3.3472999926249187,3.3472999926249187,3.3472999926249187],\"type\":\"scatter\"}],                        {\"title\":{\"text\":\"Optimization History Plot\"},\"xaxis\":{\"title\":{\"text\":\"Trial\"}},\"yaxis\":{\"title\":{\"text\":\"Objective Value\"}},\"template\":{\"data\":{\"histogram2dcontour\":[{\"type\":\"histogram2dcontour\",\"colorbar\":{\"outlinewidth\":0,\"ticks\":\"\"},\"colorscale\":[[0.0,\"#0d0887\"],[0.1111111111111111,\"#46039f\"],[0.2222222222222222,\"#7201a8\"],[0.3333333333333333,\"#9c179e\"],[0.4444444444444444,\"#bd3786\"],[0.5555555555555556,\"#d8576b\"],[0.6666666666666666,\"#ed7953\"],[0.7777777777777778,\"#fb9f3a\"],[0.8888888888888888,\"#fdca26\"],[1.0,\"#f0f921\"]]}],\"choropleth\":[{\"type\":\"choropleth\",\"colorbar\":{\"outlinewidth\":0,\"ticks\":\"\"}}],\"histogram2d\":[{\"type\":\"histogram2d\",\"colorbar\":{\"outlinewidth\":0,\"ticks\":\"\"},\"colorscale\":[[0.0,\"#0d0887\"],[0.1111111111111111,\"#46039f\"],[0.2222222222222222,\"#7201a8\"],[0.3333333333333333,\"#9c179e\"],[0.4444444444444444,\"#bd3786\"],[0.5555555555555556,\"#d8576b\"],[0.6666666666666666,\"#ed7953\"],[0.7777777777777778,\"#fb9f3a\"],[0.8888888888888888,\"#fdca26\"],[1.0,\"#f0f921\"]]}],\"heatmap\":[{\"type\":\"heatmap\",\"colorbar\":{\"outlinewidth\":0,\"ticks\":\"\"},\"colorscale\":[[0.0,\"#0d0887\"],[0.1111111111111111,\"#46039f\"],[0.2222222222222222,\"#7201a8\"],[0.3333333333333333,\"#9c179e\"],[0.4444444444444444,\"#bd3786\"],[0.5555555555555556,\"#d8576b\"],[0.6666666666666666,\"#ed7953\"],[0.7777777777777778,\"#fb9f3a\"],[0.8888888888888888,\"#fdca26\"],[1.0,\"#f0f921\"]]}],\"heatmapgl\":[{\"type\":\"heatmapgl\",\"colorbar\":{\"outlinewidth\":0,\"ticks\":\"\"},\"colorscale\":[[0.0,\"#0d0887\"],[0.1111111111111111,\"#46039f\"],[0.2222222222222222,\"#7201a8\"],[0.3333333333333333,\"#9c179e\"],[0.4444444444444444,\"#bd3786\"],[0.5555555555555556,\"#d8576b\"],[0.6666666666666666,\"#ed7953\"],[0.7777777777777778,\"#fb9f3a\"],[0.8888888888888888,\"#fdca26\"],[1.0,\"#f0f921\"]]}],\"contourcarpet\":[{\"type\":\"contourcarpet\",\"colorbar\":{\"outlinewidth\":0,\"ticks\":\"\"}}],\"contour\":[{\"type\":\"contour\",\"colorbar\":{\"outlinewidth\":0,\"ticks\":\"\"},\"colorscale\":[[0.0,\"#0d0887\"],[0.1111111111111111,\"#46039f\"],[0.2222222222222222,\"#7201a8\"],[0.3333333333333333,\"#9c179e\"],[0.4444444444444444,\"#bd3786\"],[0.5555555555555556,\"#d8576b\"],[0.6666666666666666,\"#ed7953\"],[0.7777777777777778,\"#fb9f3a\"],[0.8888888888888888,\"#fdca26\"],[1.0,\"#f0f921\"]]}],\"surface\":[{\"type\":\"surface\",\"colorbar\":{\"outlinewidth\":0,\"ticks\":\"\"},\"colorscale\":[[0.0,\"#0d0887\"],[0.1111111111111111,\"#46039f\"],[0.2222222222222222,\"#7201a8\"],[0.3333333333333333,\"#9c179e\"],[0.4444444444444444,\"#bd3786\"],[0.5555555555555556,\"#d8576b\"],[0.6666666666666666,\"#ed7953\"],[0.7777777777777778,\"#fb9f3a\"],[0.8888888888888888,\"#fdca26\"],[1.0,\"#f0f921\"]]}],\"mesh3d\":[{\"type\":\"mesh3d\",\"colorbar\":{\"outlinewidth\":0,\"ticks\":\"\"}}],\"scatter\":[{\"fillpattern\":{\"fillmode\":\"overlay\",\"size\":10,\"solidity\":0.2},\"type\":\"scatter\"}],\"parcoords\":[{\"type\":\"parcoords\",\"line\":{\"colorbar\":{\"outlinewidth\":0,\"ticks\":\"\"}}}],\"scatterpolargl\":[{\"type\":\"scatterpolargl\",\"marker\":{\"colorbar\":{\"outlinewidth\":0,\"ticks\":\"\"}}}],\"bar\":[{\"error_x\":{\"color\":\"#2a3f5f\"},\"error_y\":{\"color\":\"#2a3f5f\"},\"marker\":{\"line\":{\"color\":\"#E5ECF6\",\"width\":0.5},\"pattern\":{\"fillmode\":\"overlay\",\"size\":10,\"solidity\":0.2}},\"type\":\"bar\"}],\"scattergeo\":[{\"type\":\"scattergeo\",\"marker\":{\"colorbar\":{\"outlinewidth\":0,\"ticks\":\"\"}}}],\"scatterpolar\":[{\"type\":\"scatterpolar\",\"marker\":{\"colorbar\":{\"outlinewidth\":0,\"ticks\":\"\"}}}],\"histogram\":[{\"marker\":{\"pattern\":{\"fillmode\":\"overlay\",\"size\":10,\"solidity\":0.2}},\"type\":\"histogram\"}],\"scattergl\":[{\"type\":\"scattergl\",\"marker\":{\"colorbar\":{\"outlinewidth\":0,\"ticks\":\"\"}}}],\"scatter3d\":[{\"type\":\"scatter3d\",\"line\":{\"colorbar\":{\"outlinewidth\":0,\"ticks\":\"\"}},\"marker\":{\"colorbar\":{\"outlinewidth\":0,\"ticks\":\"\"}}}],\"scattermapbox\":[{\"type\":\"scattermapbox\",\"marker\":{\"colorbar\":{\"outlinewidth\":0,\"ticks\":\"\"}}}],\"scatterternary\":[{\"type\":\"scatterternary\",\"marker\":{\"colorbar\":{\"outlinewidth\":0,\"ticks\":\"\"}}}],\"scattercarpet\":[{\"type\":\"scattercarpet\",\"marker\":{\"colorbar\":{\"outlinewidth\":0,\"ticks\":\"\"}}}],\"carpet\":[{\"aaxis\":{\"endlinecolor\":\"#2a3f5f\",\"gridcolor\":\"white\",\"linecolor\":\"white\",\"minorgridcolor\":\"white\",\"startlinecolor\":\"#2a3f5f\"},\"baxis\":{\"endlinecolor\":\"#2a3f5f\",\"gridcolor\":\"white\",\"linecolor\":\"white\",\"minorgridcolor\":\"white\",\"startlinecolor\":\"#2a3f5f\"},\"type\":\"carpet\"}],\"table\":[{\"cells\":{\"fill\":{\"color\":\"#EBF0F8\"},\"line\":{\"color\":\"white\"}},\"header\":{\"fill\":{\"color\":\"#C8D4E3\"},\"line\":{\"color\":\"white\"}},\"type\":\"table\"}],\"barpolar\":[{\"marker\":{\"line\":{\"color\":\"#E5ECF6\",\"width\":0.5},\"pattern\":{\"fillmode\":\"overlay\",\"size\":10,\"solidity\":0.2}},\"type\":\"barpolar\"}],\"pie\":[{\"automargin\":true,\"type\":\"pie\"}]},\"layout\":{\"autotypenumbers\":\"strict\",\"colorway\":[\"#636efa\",\"#EF553B\",\"#00cc96\",\"#ab63fa\",\"#FFA15A\",\"#19d3f3\",\"#FF6692\",\"#B6E880\",\"#FF97FF\",\"#FECB52\"],\"font\":{\"color\":\"#2a3f5f\"},\"hovermode\":\"closest\",\"hoverlabel\":{\"align\":\"left\"},\"paper_bgcolor\":\"white\",\"plot_bgcolor\":\"#E5ECF6\",\"polar\":{\"bgcolor\":\"#E5ECF6\",\"angularaxis\":{\"gridcolor\":\"white\",\"linecolor\":\"white\",\"ticks\":\"\"},\"radialaxis\":{\"gridcolor\":\"white\",\"linecolor\":\"white\",\"ticks\":\"\"}},\"ternary\":{\"bgcolor\":\"#E5ECF6\",\"aaxis\":{\"gridcolor\":\"white\",\"linecolor\":\"white\",\"ticks\":\"\"},\"baxis\":{\"gridcolor\":\"white\",\"linecolor\":\"white\",\"ticks\":\"\"},\"caxis\":{\"gridcolor\":\"white\",\"linecolor\":\"white\",\"ticks\":\"\"}},\"coloraxis\":{\"colorbar\":{\"outlinewidth\":0,\"ticks\":\"\"}},\"colorscale\":{\"sequential\":[[0.0,\"#0d0887\"],[0.1111111111111111,\"#46039f\"],[0.2222222222222222,\"#7201a8\"],[0.3333333333333333,\"#9c179e\"],[0.4444444444444444,\"#bd3786\"],[0.5555555555555556,\"#d8576b\"],[0.6666666666666666,\"#ed7953\"],[0.7777777777777778,\"#fb9f3a\"],[0.8888888888888888,\"#fdca26\"],[1.0,\"#f0f921\"]],\"sequentialminus\":[[0.0,\"#0d0887\"],[0.1111111111111111,\"#46039f\"],[0.2222222222222222,\"#7201a8\"],[0.3333333333333333,\"#9c179e\"],[0.4444444444444444,\"#bd3786\"],[0.5555555555555556,\"#d8576b\"],[0.6666666666666666,\"#ed7953\"],[0.7777777777777778,\"#fb9f3a\"],[0.8888888888888888,\"#fdca26\"],[1.0,\"#f0f921\"]],\"diverging\":[[0,\"#8e0152\"],[0.1,\"#c51b7d\"],[0.2,\"#de77ae\"],[0.3,\"#f1b6da\"],[0.4,\"#fde0ef\"],[0.5,\"#f7f7f7\"],[0.6,\"#e6f5d0\"],[0.7,\"#b8e186\"],[0.8,\"#7fbc41\"],[0.9,\"#4d9221\"],[1,\"#276419\"]]},\"xaxis\":{\"gridcolor\":\"white\",\"linecolor\":\"white\",\"ticks\":\"\",\"title\":{\"standoff\":15},\"zerolinecolor\":\"white\",\"automargin\":true,\"zerolinewidth\":2},\"yaxis\":{\"gridcolor\":\"white\",\"linecolor\":\"white\",\"ticks\":\"\",\"title\":{\"standoff\":15},\"zerolinecolor\":\"white\",\"automargin\":true,\"zerolinewidth\":2},\"scene\":{\"xaxis\":{\"backgroundcolor\":\"#E5ECF6\",\"gridcolor\":\"white\",\"linecolor\":\"white\",\"showbackground\":true,\"ticks\":\"\",\"zerolinecolor\":\"white\",\"gridwidth\":2},\"yaxis\":{\"backgroundcolor\":\"#E5ECF6\",\"gridcolor\":\"white\",\"linecolor\":\"white\",\"showbackground\":true,\"ticks\":\"\",\"zerolinecolor\":\"white\",\"gridwidth\":2},\"zaxis\":{\"backgroundcolor\":\"#E5ECF6\",\"gridcolor\":\"white\",\"linecolor\":\"white\",\"showbackground\":true,\"ticks\":\"\",\"zerolinecolor\":\"white\",\"gridwidth\":2}},\"shapedefaults\":{\"line\":{\"color\":\"#2a3f5f\"}},\"annotationdefaults\":{\"arrowcolor\":\"#2a3f5f\",\"arrowhead\":0,\"arrowwidth\":1},\"geo\":{\"bgcolor\":\"white\",\"landcolor\":\"#E5ECF6\",\"subunitcolor\":\"white\",\"showland\":true,\"showlakes\":true,\"lakecolor\":\"white\"},\"title\":{\"x\":0.05},\"mapbox\":{\"style\":\"light\"}}}},                        {\"responsive\": true}                    ).then(function(){\n",
              "                            \n",
              "var gd = document.getElementById('ced1b8e0-4fab-4b47-bf3c-2d9c1a830e6a');\n",
              "var x = new MutationObserver(function (mutations, observer) {{\n",
              "        var display = window.getComputedStyle(gd).display;\n",
              "        if (!display || display === 'none') {{\n",
              "            console.log([gd, 'removed!']);\n",
              "            Plotly.purge(gd);\n",
              "            observer.disconnect();\n",
              "        }}\n",
              "}});\n",
              "\n",
              "// Listen for the removal of the full notebook cells\n",
              "var notebookContainer = gd.closest('#notebook-container');\n",
              "if (notebookContainer) {{\n",
              "    x.observe(notebookContainer, {childList: true});\n",
              "}}\n",
              "\n",
              "// Listen for the clearing of the current output cell\n",
              "var outputEl = gd.closest('.output');\n",
              "if (outputEl) {{\n",
              "    x.observe(outputEl, {childList: true});\n",
              "}}\n",
              "\n",
              "                        })                };                            </script>        </div>\n",
              "</body>\n",
              "</html>"
            ]
          },
          "metadata": {}
        },
        {
          "output_type": "stream",
          "name": "stderr",
          "text": [
            "[W 2023-06-04 12:53:38,447] Your study has only completed trials with missing parameters.\n",
            "<ipython-input-78-65280db254a0>:44: FutureWarning:\n",
            "\n",
            "suggest_loguniform has been deprecated in v3.0.0. This feature will be removed in v6.0.0. See https://github.com/optuna/optuna/releases/tag/v3.0.0. Use suggest_float(..., log=True) instead.\n",
            "\n",
            "<ipython-input-78-65280db254a0>:76: FutureWarning:\n",
            "\n",
            "suggest_uniform has been deprecated in v3.0.0. This feature will be removed in v6.0.0. See https://github.com/optuna/optuna/releases/tag/v3.0.0. Use suggest_float instead.\n",
            "\n",
            "<ipython-input-78-65280db254a0>:168: FutureWarning:\n",
            "\n",
            "suggest_uniform has been deprecated in v3.0.0. This feature will be removed in v6.0.0. See https://github.com/optuna/optuna/releases/tag/v3.0.0. Use suggest_float instead.\n",
            "\n",
            "<ipython-input-78-65280db254a0>:175: FutureWarning:\n",
            "\n",
            "suggest_loguniform has been deprecated in v3.0.0. This feature will be removed in v6.0.0. See https://github.com/optuna/optuna/releases/tag/v3.0.0. Use suggest_float(..., log=True) instead.\n",
            "\n"
          ]
        },
        {
          "output_type": "stream",
          "name": "stdout",
          "text": [
            "Epoch 1/132.. Train loss: 6.367.. Val loss: 3.999.. Train L1 norm: 31.267.. Val L1 norm: 4.826.. Train Linf norm: 3726.093.. Val Linf norm: 365.368\n",
            "Epoch 2/132.. Train loss: 4.260.. Val loss: 3.145.. Train L1 norm: 75.130.. Val L1 norm: 3.648.. Train Linf norm: 9383.126.. Val Linf norm: 282.095\n",
            "Epoch 3/132.. Train loss: 3.839.. Val loss: 2.836.. Train L1 norm: 49.695.. Val L1 norm: 3.250.. Train Linf norm: 6145.285.. Val Linf norm: 254.956\n",
            "Epoch 4/132.. Train loss: 3.477.. Val loss: 2.730.. Train L1 norm: 30.148.. Val L1 norm: 3.376.. Train Linf norm: 3654.825.. Val Linf norm: 270.816\n",
            "Epoch 5/132.. Train loss: 3.578.. Val loss: 2.585.. Train L1 norm: 4.355.. Val L1 norm: 2.795.. Train Linf norm: 361.264.. Val Linf norm: 219.124\n",
            "Epoch 6/132.. Train loss: 3.172.. Val loss: 2.433.. Train L1 norm: 25.896.. Val L1 norm: 3.013.. Train Linf norm: 3126.525.. Val Linf norm: 236.650\n",
            "Epoch 7/132.. Train loss: 2.974.. Val loss: 2.351.. Train L1 norm: 37.943.. Val L1 norm: 3.119.. Train Linf norm: 4671.020.. Val Linf norm: 246.516\n",
            "Epoch 8/132.. Train loss: 2.819.. Val loss: 2.308.. Train L1 norm: 38.131.. Val L1 norm: 2.889.. Train Linf norm: 4701.857.. Val Linf norm: 230.524\n",
            "Epoch 9/132.. Train loss: 2.687.. Val loss: 2.234.. Train L1 norm: 8.962.. Val L1 norm: 3.007.. Train Linf norm: 973.233.. Val Linf norm: 238.843\n",
            "Epoch 10/132.. Train loss: 2.768.. Val loss: 2.205.. Train L1 norm: 3.713.. Val L1 norm: 2.802.. Train Linf norm: 302.239.. Val Linf norm: 222.858\n",
            "Epoch 11/132.. Train loss: 2.576.. Val loss: 2.162.. Train L1 norm: 25.544.. Val L1 norm: 3.032.. Train Linf norm: 3102.069.. Val Linf norm: 248.557\n",
            "Epoch 12/132.. Train loss: 2.662.. Val loss: 2.168.. Train L1 norm: 34.753.. Val L1 norm: 3.062.. Train Linf norm: 4283.442.. Val Linf norm: 248.534\n",
            "Epoch 13/132.. Train loss: 2.488.. Val loss: 2.190.. Train L1 norm: 19.084.. Val L1 norm: 2.347.. Train Linf norm: 2281.146.. Val Linf norm: 184.334\n",
            "Epoch 14/132.. Train loss: 2.524.. Val loss: 2.106.. Train L1 norm: 9.050.. Val L1 norm: 2.575.. Train Linf norm: 999.698.. Val Linf norm: 207.609\n",
            "Epoch 15/132.. Train loss: 2.535.. Val loss: 2.081.. Train L1 norm: 12.717.. Val L1 norm: 3.180.. Train Linf norm: 1471.762.. Val Linf norm: 263.770\n",
            "Epoch 16/132.. Train loss: 2.362.. Val loss: 2.038.. Train L1 norm: 33.922.. Val L1 norm: 2.551.. Train Linf norm: 4188.890.. Val Linf norm: 204.705\n",
            "Epoch 17/132.. Train loss: 2.439.. Val loss: 1.997.. Train L1 norm: 38.418.. Val L1 norm: 2.724.. Train Linf norm: 4766.005.. Val Linf norm: 223.280\n",
            "Epoch 18/132.. Train loss: 2.556.. Val loss: 2.007.. Train L1 norm: 13.657.. Val L1 norm: 2.516.. Train Linf norm: 1599.027.. Val Linf norm: 203.525\n",
            "Epoch 19/132.. Train loss: 2.289.. Val loss: 2.065.. Train L1 norm: 27.046.. Val L1 norm: 2.295.. Train Linf norm: 3313.786.. Val Linf norm: 182.626\n",
            "Epoch 20/132.. Train loss: 2.481.. Val loss: 1.966.. Train L1 norm: 39.228.. Val L1 norm: 2.511.. Train Linf norm: 4875.583.. Val Linf norm: 205.028\n",
            "Epoch 21/132.. Train loss: 2.319.. Val loss: 1.947.. Train L1 norm: 41.584.. Val L1 norm: 2.836.. Train Linf norm: 5176.572.. Val Linf norm: 235.160\n",
            "Epoch 22/132.. Train loss: 2.320.. Val loss: 1.944.. Train L1 norm: 19.666.. Val L1 norm: 2.467.. Train Linf norm: 2370.566.. Val Linf norm: 200.972\n",
            "Epoch 23/132.. Train loss: 2.215.. Val loss: 1.925.. Train L1 norm: 26.713.. Val L1 norm: 2.545.. Train Linf norm: 3276.329.. Val Linf norm: 207.556\n",
            "Epoch 24/132.. Train loss: 2.212.. Val loss: 1.907.. Train L1 norm: 28.870.. Val L1 norm: 2.597.. Train Linf norm: 3554.543.. Val Linf norm: 214.385\n",
            "Epoch 25/132.. Train loss: 2.205.. Val loss: 1.903.. Train L1 norm: 30.428.. Val L1 norm: 2.277.. Train Linf norm: 3754.376.. Val Linf norm: 182.063\n",
            "Epoch 26/132.. Train loss: 2.146.. Val loss: 1.886.. Train L1 norm: 11.776.. Val L1 norm: 2.476.. Train Linf norm: 1368.358.. Val Linf norm: 205.995\n",
            "Epoch 27/132.. Train loss: 2.222.. Val loss: 1.876.. Train L1 norm: 3.936.. Val L1 norm: 2.418.. Train Linf norm: 365.139.. Val Linf norm: 197.759\n",
            "Epoch 28/132.. Train loss: 2.177.. Val loss: 1.878.. Train L1 norm: 26.991.. Val L1 norm: 2.288.. Train Linf norm: 3317.187.. Val Linf norm: 181.325\n",
            "Epoch 29/132.. Train loss: 2.125.. Val loss: 1.867.. Train L1 norm: 21.789.. Val L1 norm: 2.311.. Train Linf norm: 2652.910.. Val Linf norm: 186.012\n",
            "Epoch 30/132.. Train loss: 2.100.. Val loss: 1.862.. Train L1 norm: 5.109.. Val L1 norm: 2.164.. Train Linf norm: 518.239.. Val Linf norm: 171.031\n",
            "Epoch 31/132.. Train loss: 2.109.. Val loss: 1.837.. Train L1 norm: 29.772.. Val L1 norm: 2.394.. Train Linf norm: 3675.532.. Val Linf norm: 192.536\n",
            "Epoch 32/132.. Train loss: 2.132.. Val loss: 1.829.. Train L1 norm: 19.968.. Val L1 norm: 2.446.. Train Linf norm: 2421.201.. Val Linf norm: 198.931\n",
            "Epoch 33/132.. Train loss: 2.123.. Val loss: 1.834.. Train L1 norm: 42.356.. Val L1 norm: 2.220.. Train Linf norm: 5287.983.. Val Linf norm: 179.905\n",
            "Epoch 34/132.. Train loss: 2.075.. Val loss: 1.814.. Train L1 norm: 3.606.. Val L1 norm: 2.462.. Train Linf norm: 329.072.. Val Linf norm: 200.355\n",
            "Epoch 35/132.. Train loss: 2.066.. Val loss: 1.825.. Train L1 norm: 20.387.. Val L1 norm: 2.190.. Train Linf norm: 2477.529.. Val Linf norm: 177.405\n",
            "Epoch 36/132.. Train loss: 2.052.. Val loss: 1.805.. Train L1 norm: 20.872.. Val L1 norm: 2.270.. Train Linf norm: 2539.412.. Val Linf norm: 182.674\n",
            "Epoch 37/132.. Train loss: 2.209.. Val loss: 1.830.. Train L1 norm: 20.470.. Val L1 norm: 2.060.. Train Linf norm: 2488.180.. Val Linf norm: 160.827\n",
            "Epoch 38/132.. Train loss: 2.045.. Val loss: 1.793.. Train L1 norm: 29.098.. Val L1 norm: 2.262.. Train Linf norm: 3593.054.. Val Linf norm: 182.976\n",
            "Epoch 39/132.. Train loss: 2.042.. Val loss: 1.790.. Train L1 norm: 9.322.. Val L1 norm: 2.336.. Train Linf norm: 1061.552.. Val Linf norm: 192.134\n",
            "Epoch 40/132.. Train loss: 2.159.. Val loss: 1.818.. Train L1 norm: 10.098.. Val L1 norm: 2.168.. Train Linf norm: 1162.946.. Val Linf norm: 173.473\n",
            "Epoch 41/132.. Train loss: 2.054.. Val loss: 1.810.. Train L1 norm: 4.429.. Val L1 norm: 2.105.. Train Linf norm: 436.556.. Val Linf norm: 165.797\n",
            "Epoch 42/132.. Train loss: 2.098.. Val loss: 1.806.. Train L1 norm: 16.343.. Val L1 norm: 1.921.. Train Linf norm: 1962.722.. Val Linf norm: 146.332\n",
            "Epoch 43/132.. Train loss: 1.998.. Val loss: 1.780.. Train L1 norm: 13.739.. Val L1 norm: 2.086.. Train Linf norm: 1628.268.. Val Linf norm: 164.499\n",
            "Epoch 44/132.. Train loss: 2.054.. Val loss: 1.788.. Train L1 norm: 13.858.. Val L1 norm: 2.074.. Train Linf norm: 1645.289.. Val Linf norm: 164.973\n",
            "Epoch 45/132.. Train loss: 2.065.. Val loss: 1.769.. Train L1 norm: 10.989.. Val L1 norm: 2.050.. Train Linf norm: 1278.461.. Val Linf norm: 162.479\n",
            "Epoch 46/132.. Train loss: 2.079.. Val loss: 1.762.. Train L1 norm: 5.778.. Val L1 norm: 2.053.. Train Linf norm: 611.158.. Val Linf norm: 159.176\n",
            "Epoch 47/132.. Train loss: 2.178.. Val loss: 1.781.. Train L1 norm: 8.124.. Val L1 norm: 1.900.. Train Linf norm: 911.576.. Val Linf norm: 143.558\n",
            "Epoch 48/132.. Train loss: 2.005.. Val loss: 1.755.. Train L1 norm: 8.412.. Val L1 norm: 2.158.. Train Linf norm: 948.292.. Val Linf norm: 168.971\n",
            "Epoch 49/132.. Train loss: 2.005.. Val loss: 1.767.. Train L1 norm: 6.430.. Val L1 norm: 2.017.. Train Linf norm: 695.320.. Val Linf norm: 157.401\n",
            "Epoch 50/132.. Train loss: 2.065.. Val loss: 1.764.. Train L1 norm: 19.752.. Val L1 norm: 2.071.. Train Linf norm: 2398.867.. Val Linf norm: 164.207\n",
            "Epoch 51/132.. Train loss: 2.056.. Val loss: 1.795.. Train L1 norm: 19.284.. Val L1 norm: 1.881.. Train Linf norm: 2340.083.. Val Linf norm: 142.535\n",
            "Epoch 52/132.. Train loss: 2.007.. Val loss: 1.746.. Train L1 norm: 4.070.. Val L1 norm: 2.066.. Train Linf norm: 393.502.. Val Linf norm: 161.126\n",
            "Epoch 53/132.. Train loss: 1.976.. Val loss: 1.730.. Train L1 norm: 9.003.. Val L1 norm: 2.086.. Train Linf norm: 1024.898.. Val Linf norm: 161.736\n",
            "Epoch 54/132.. Train loss: 1.986.. Val loss: 1.755.. Train L1 norm: 22.001.. Val L1 norm: 2.159.. Train Linf norm: 2689.647.. Val Linf norm: 173.582\n",
            "Epoch 55/132.. Train loss: 1.984.. Val loss: 1.758.. Train L1 norm: 3.351.. Val L1 norm: 2.036.. Train Linf norm: 303.237.. Val Linf norm: 156.230\n",
            "Epoch 56/132.. Train loss: 2.089.. Val loss: 1.738.. Train L1 norm: 10.843.. Val L1 norm: 2.328.. Train Linf norm: 1262.534.. Val Linf norm: 187.388\n",
            "Epoch 57/132.. Train loss: 2.014.. Val loss: 1.759.. Train L1 norm: 7.528.. Val L1 norm: 2.263.. Train Linf norm: 837.873.. Val Linf norm: 185.601\n",
            "Epoch 58/132.. Train loss: 1.985.. Val loss: 1.747.. Train L1 norm: 9.254.. Val L1 norm: 1.947.. Train Linf norm: 1058.031.. Val Linf norm: 149.317\n",
            "Epoch 59/132.. Train loss: 2.017.. Val loss: 1.822.. Train L1 norm: 16.844.. Val L1 norm: 1.805.. Train Linf norm: 2029.188.. Val Linf norm: 133.070\n",
            "Epoch 60/132.. Train loss: 2.000.. Val loss: 1.830.. Train L1 norm: 27.265.. Val L1 norm: 1.895.. Train Linf norm: 3365.322.. Val Linf norm: 146.207\n",
            "Epoch 61/132.. Train loss: 1.991.. Val loss: 1.741.. Train L1 norm: 12.510.. Val L1 norm: 1.902.. Train Linf norm: 1476.076.. Val Linf norm: 146.168\n",
            "Epoch 62/132.. Train loss: 2.041.. Val loss: 1.719.. Train L1 norm: 14.794.. Val L1 norm: 1.972.. Train Linf norm: 1768.037.. Val Linf norm: 151.966\n",
            "Epoch 63/132.. Train loss: 2.136.. Val loss: 1.727.. Train L1 norm: 4.715.. Val L1 norm: 2.048.. Train Linf norm: 478.403.. Val Linf norm: 162.998\n",
            "Epoch 64/132.. Train loss: 2.053.. Val loss: 1.771.. Train L1 norm: 20.383.. Val L1 norm: 1.978.. Train Linf norm: 2484.334.. Val Linf norm: 149.561\n",
            "Epoch 65/132.. Train loss: 2.021.. Val loss: 1.701.. Train L1 norm: 7.445.. Val L1 norm: 1.835.. Train Linf norm: 828.300.. Val Linf norm: 137.725\n",
            "Epoch 66/132.. Train loss: 2.069.. Val loss: 1.761.. Train L1 norm: 3.194.. Val L1 norm: 1.798.. Train Linf norm: 283.767.. Val Linf norm: 133.081\n",
            "Epoch 67/132.. Train loss: 2.055.. Val loss: 1.744.. Train L1 norm: 17.621.. Val L1 norm: 2.066.. Train Linf norm: 2130.130.. Val Linf norm: 167.002\n",
            "Epoch 68/132.. Train loss: 1.974.. Val loss: 1.709.. Train L1 norm: 16.241.. Val L1 norm: 2.223.. Train Linf norm: 1955.443.. Val Linf norm: 176.589\n",
            "Epoch 69/132.. Train loss: 2.041.. Val loss: 1.776.. Train L1 norm: 8.395.. Val L1 norm: 1.666.. Train Linf norm: 949.342.. Val Linf norm: 119.465\n",
            "Epoch 70/132.. Train loss: 2.014.. Val loss: 1.675.. Train L1 norm: 18.286.. Val L1 norm: 2.083.. Train Linf norm: 2215.812.. Val Linf norm: 167.771\n",
            "Epoch 71/132.. Train loss: 2.024.. Val loss: 1.692.. Train L1 norm: 10.208.. Val L1 norm: 2.032.. Train Linf norm: 1182.155.. Val Linf norm: 155.157\n",
            "Epoch 72/132.. Train loss: 2.177.. Val loss: 1.728.. Train L1 norm: 3.373.. Val L1 norm: 1.875.. Train Linf norm: 308.718.. Val Linf norm: 140.742\n",
            "Epoch 73/132.. Train loss: 2.027.. Val loss: 1.686.. Train L1 norm: 10.308.. Val L1 norm: 2.029.. Train Linf norm: 1195.539.. Val Linf norm: 161.656\n",
            "Epoch 74/132.. Train loss: 1.965.. Val loss: 1.668.. Train L1 norm: 3.949.. Val L1 norm: 1.998.. Train Linf norm: 382.724.. Val Linf norm: 156.079\n",
            "Epoch 75/132.. Train loss: 2.051.. Val loss: 1.699.. Train L1 norm: 24.515.. Val L1 norm: 1.682.. Train Linf norm: 3014.589.. Val Linf norm: 123.794\n",
            "Epoch 76/132.. Train loss: 2.106.. Val loss: 1.659.. Train L1 norm: 17.672.. Val L1 norm: 2.054.. Train Linf norm: 2140.667.. Val Linf norm: 160.594\n",
            "Epoch 77/132.. Train loss: 1.989.. Val loss: 1.658.. Train L1 norm: 13.657.. Val L1 norm: 1.694.. Train Linf norm: 1621.383.. Val Linf norm: 123.038\n",
            "Epoch 78/132.. Train loss: 1.944.. Val loss: 1.695.. Train L1 norm: 31.628.. Val L1 norm: 1.703.. Train Linf norm: 3926.897.. Val Linf norm: 125.168\n",
            "Epoch 79/132.. Train loss: 2.073.. Val loss: 1.662.. Train L1 norm: 6.176.. Val L1 norm: 1.730.. Train Linf norm: 667.320.. Val Linf norm: 125.614\n",
            "Epoch 80/132.. Train loss: 1.975.. Val loss: 1.655.. Train L1 norm: 18.565.. Val L1 norm: 1.869.. Train Linf norm: 2254.517.. Val Linf norm: 140.054\n",
            "Epoch 81/132.. Train loss: 2.228.. Val loss: 1.625.. Train L1 norm: 30.774.. Val L1 norm: 1.712.. Train Linf norm: 3816.311.. Val Linf norm: 124.857\n",
            "Epoch 82/132.. Train loss: 1.909.. Val loss: 1.655.. Train L1 norm: 22.561.. Val L1 norm: 1.735.. Train Linf norm: 2767.475.. Val Linf norm: 130.757\n",
            "Epoch 83/132.. Train loss: 2.003.. Val loss: 1.679.. Train L1 norm: 60.564.. Val L1 norm: 1.724.. Train Linf norm: 7632.387.. Val Linf norm: 126.758\n",
            "Epoch 84/132.. Train loss: 1.889.. Val loss: 1.625.. Train L1 norm: 20.230.. Val L1 norm: 1.932.. Train Linf norm: 2470.789.. Val Linf norm: 151.315\n",
            "Epoch 85/132.. Train loss: 2.153.. Val loss: 1.640.. Train L1 norm: 15.251.. Val L1 norm: 1.772.. Train Linf norm: 1832.188.. Val Linf norm: 133.169\n",
            "Epoch 86/132.. Train loss: 1.907.. Val loss: 1.635.. Train L1 norm: 10.320.. Val L1 norm: 1.652.. Train Linf norm: 1202.153.. Val Linf norm: 120.164\n",
            "Epoch 87/132.. Train loss: 1.923.. Val loss: 1.632.. Train L1 norm: 9.521.. Val L1 norm: 2.028.. Train Linf norm: 1100.047.. Val Linf norm: 160.956\n",
            "Epoch 88/132.. Train loss: 1.981.. Val loss: 1.615.. Train L1 norm: 35.467.. Val L1 norm: 2.044.. Train Linf norm: 4422.440.. Val Linf norm: 158.560\n",
            "Epoch 89/132.. Train loss: 1.968.. Val loss: 1.627.. Train L1 norm: 15.474.. Val L1 norm: 1.505.. Train Linf norm: 1862.723.. Val Linf norm: 105.377\n",
            "Epoch 90/132.. Train loss: 1.890.. Val loss: 1.620.. Train L1 norm: 13.616.. Val L1 norm: 1.478.. Train Linf norm: 1626.094.. Val Linf norm: 101.383\n",
            "Epoch 91/132.. Train loss: 1.993.. Val loss: 1.612.. Train L1 norm: 19.771.. Val L1 norm: 1.613.. Train Linf norm: 2415.064.. Val Linf norm: 114.306\n",
            "Epoch 92/132.. Train loss: 1.837.. Val loss: 1.560.. Train L1 norm: 3.429.. Val L1 norm: 1.614.. Train Linf norm: 323.885.. Val Linf norm: 115.272\n",
            "Epoch 93/132.. Train loss: 1.899.. Val loss: 1.628.. Train L1 norm: 6.599.. Val L1 norm: 1.487.. Train Linf norm: 730.427.. Val Linf norm: 105.352\n",
            "Epoch 94/132.. Train loss: 1.863.. Val loss: 1.646.. Train L1 norm: 10.339.. Val L1 norm: 1.427.. Train Linf norm: 1209.404.. Val Linf norm: 97.948\n",
            "Epoch 95/132.. Train loss: 1.839.. Val loss: 1.553.. Train L1 norm: 29.465.. Val L1 norm: 1.426.. Train Linf norm: 3656.754.. Val Linf norm: 97.452\n",
            "Epoch 96/132.. Train loss: 1.886.. Val loss: 1.544.. Train L1 norm: 7.490.. Val L1 norm: 1.638.. Train Linf norm: 845.808.. Val Linf norm: 125.432\n",
            "Epoch 97/132.. Train loss: 1.823.. Val loss: 1.587.. Train L1 norm: 16.954.. Val L1 norm: 1.529.. Train Linf norm: 2057.656.. Val Linf norm: 112.342\n"
          ]
        }
      ],
      "source": [
        "# Visualize Optuna study while its running, alternative to tensorboard\n",
        "#from IPython import display\n",
        "import optuna.visualization as ov\n",
        "\n",
        "def callback(study, trial):\n",
        "    with open('all_trials.json', 'a') as f:\n",
        "        # Save the trial number, value, and parameters to a JSON file.\n",
        "        json.dump({\n",
        "            'number': trial.number,\n",
        "            'value': trial.value,\n",
        "            'params': trial.params\n",
        "        }, f)\n",
        "        # Write a newline character after each trial, so that each trial is on a separate line\n",
        "        f.write('\\n')\n",
        "        save_file('all_trials.json')\n",
        "\n",
        "    # Saving the study to a pickle file\n",
        "    with open(f'{STUDY_NAME}.pkl', 'wb') as f:\n",
        "        pickle.dump(study, f)\n",
        "        save_file(f'{STUDY_NAME}.pkl')\n",
        "\n",
        "    # Save the best trial separately as well.\n",
        "    best_trial_params = study.best_trial.params\n",
        "    with open('best_trial_params.json', 'w') as f:\n",
        "        json.dump(best_trial_params, f)\n",
        "        save_file('best_trial_params.json')\n",
        "\n",
        "    # Visualize the optimization history, and save it as an HTML file.\n",
        "    fig1 = ov.plot_optimization_history(study)\n",
        "    fig1.write_html(f\"optimization_history_{STUDY_NAME}.html\")\n",
        "    save_file(f\"optimization_history_{STUDY_NAME}.html\")\n",
        "    fig1.show()\n",
        "\n",
        "    # Do the same for the other visualizations.\n",
        "    fig2 = ov.plot_slice(study)\n",
        "    fig2.write_html(f\"slice_plot_{STUDY_NAME}.html\")\n",
        "    save_file(f\"slice_plot_{STUDY_NAME}.html\")\n",
        "\n",
        "    # if trial.number % 10 == 0:\n",
        "    #     fig3 = ov.plot_contour(study)\n",
        "    #     fig3.write_html(f\"contour_plot_{STUDY_NAME}.html\")\n",
        "    #     save_file(f\"contour_plot_{STUDY_NAME}.html\")\n",
        "\n",
        "    fig4 = ov.plot_parallel_coordinate(study)\n",
        "    fig4.write_html(f\"parallel_coordinate_plot_{STUDY_NAME}.html\")\n",
        "    save_file(f\"parallel_coordinate_plot_{STUDY_NAME}.html\")\n",
        "\n",
        "    if trial.number > 1: # Required\n",
        "      fig5 = ov.plot_param_importances(study)\n",
        "      fig5.write_html(f\"param_importances_plot_{STUDY_NAME}.html\")\n",
        "      save_file(f\"param_importances_plot_{STUDY_NAME}.html\")\n",
        "\n",
        "        \n",
        "if OPTIMIZE:\n",
        "    # Gave an error in my run on arch bsc_physics_env. It doesn't matter anyway, since we use pickle for saving.\n",
        "    # Include the path to the SQLite file in your create_study call.\n",
        "    # study = optuna.create_study(direction=\"minimize\", \n",
        "                                # sampler=optuna.samplers.TPESampler(), \n",
        "                                # pruner=optuna.pruners.MedianPruner(), \n",
        "                                # storage=f'sqlite:///{STUDY_NAME}.db')\n",
        "    study = optuna.create_study(direction=\"minimize\", sampler=optuna.samplers.TPESampler(), pruner=optuna.pruners.MedianPruner())\n",
        "\n",
        "    study.optimize(objective, n_trials=N_TRIALS, callbacks=[callback])\n",
        "    #study.optimize(objective, n_trials=N_TRIALS)"
      ]
    },
    {
      "cell_type": "code",
      "execution_count": null,
      "metadata": {
        "id": "1jmtO1rVvNUT"
      },
      "outputs": [],
      "source": [
        "if OPTIMIZE:\n",
        "    # Optimization History\n",
        "    ov.plot_optimization_history(study).show()\n",
        " \n",
        "    # Slice Plot\n",
        "    ov.plot_slice(study).show()\n",
        " \n",
        "    # Contour Plot\n",
        "    # ov.plot_contour(study).show()\n",
        " \n",
        "    # Parallel Coordinate Plot\n",
        "    ov.plot_parallel_coordinate(study).show()\n",
        " \n",
        "    # Hyperparameter Importance Plot\n",
        "    ov.plot_param_importances(study).show()\n",
        "\n",
        "    # Best trial information\n",
        "    print(\"Best trial:\")\n",
        "    trial = study.best_trial\n",
        "    print(\"  Value: \", trial.value)\n",
        "    print(\"  Params: \")\n",
        "    for key, value in trial.params.items():\n",
        "        print(f\"    {key}: {value}\")\n",
        "\n",
        "    # Saving the study to a pickle file\n",
        "    with open(f'{STUDY_NAME}.pkl', 'wb') as f:\n",
        "        pickle.dump(study, f)\n",
        "        save_file(f'{STUDY_NAME}.pkl')\n",
        "\n",
        "    # Save the best trial separately as well.\n",
        "    best_trial_params = study.best_trial.params\n",
        "    with open('best_trial_params.json', 'w') as f:\n",
        "        json.dump(best_trial_params, f)\n",
        "        save_file('best_trial_params.json')\n",
        "\n"
      ]
    },
    {
      "cell_type": "markdown",
      "metadata": {
        "id": "jmMfE9_dUZiS"
      },
      "source": [
        "## Training the model"
      ]
    },
    {
      "cell_type": "code",
      "execution_count": null,
      "metadata": {
        "id": "phyiHlWEUZiT"
      },
      "outputs": [],
      "source": [
        "# Creating the best network and optimizer using the best hyperparameters\n",
        "if OPTIMIZE:\n",
        "    net, \\\n",
        "    loss_fn, \\\n",
        "    optimizer, \\\n",
        "    batch_size, \\\n",
        "    n_epochs, \\\n",
        "    scheduler, \\\n",
        "    loss_name, \\\n",
        "    optimizer_name, \\\n",
        "    scheduler_name, \\\n",
        "    n_units, \\\n",
        "    n_layers, \\\n",
        "    hidden_activation, \\\n",
        "    output_activation, \\\n",
        "    lr, \\\n",
        "    dropout_rate = create_model(trial, optimize=True)\n",
        "\n",
        "# Creating the network with predefined hyperparameters\n",
        "else:\n",
        "    net, \\\n",
        "    loss_fn, \\\n",
        "    optimizer, \\\n",
        "    batch_size, \\\n",
        "    n_epochs, \\\n",
        "    scheduler, \\\n",
        "    loss_name, \\\n",
        "    optimizer_name, \\\n",
        "    scheduler_name, \\\n",
        "    n_units, \\\n",
        "    n_layers, \\\n",
        "    hidden_activation, \\\n",
        "    output_activation, \\\n",
        "    lr, \\\n",
        "    dropout_rate = create_model(trial=None, optimize=True)"
      ]
    },
    {
      "cell_type": "code",
      "execution_count": null,
      "metadata": {
        "id": "_yq-oY81UZiU"
      },
      "outputs": [],
      "source": [
        "print(\"loss_fn:\", net)\n",
        "print(\"loss_fn:\", loss_fn)\n",
        "print(\"batch_size:\", batch_size)\n",
        "print(\"n_epochs:\", n_epochs)\n",
        "print(\"scheduler:\", scheduler)\n",
        "print(\"loss_name:\", loss_name)\n",
        "print(\"optimizer_name:\", optimizer_name)\n",
        "print(\"scheduler_name:\", scheduler_name)\n",
        "print(\"n_units:\", n_units)\n",
        "print(\"n_layers:\", n_layers)\n",
        "print(\"hidden_activation:\", hidden_activation)\n",
        "print(\"output_activation:\", output_activation)\n",
        "print(\"lr\", lr)\n",
        "print(\"dropout_rate\", dropout_rate)"
      ]
    },
    {
      "cell_type": "markdown",
      "metadata": {
        "id": "E7aLWdZyUZiW",
        "outputId": "8fb1e8c6-5aa3-43a1-a255-712cf9396d0c"
      },
      "source": [
        "After optimizing with Optuna and deciding on the best hyperparameters, we combine the training and validatin set, using that as the new training set for training the model, and then evaluate the model on the test set"
      ]
    },
    {
      "cell_type": "code",
      "execution_count": null,
      "metadata": {
        "id": "3sFBs-kNvNUU"
      },
      "outputs": [],
      "source": [
        "x_train_val = torch.cat((x_train, x_val), 0)\n",
        "y_train_val = torch.cat((y_train, y_val), 0)\n",
        "\n",
        "train_val_loader = torch.utils.data.DataLoader(\n",
        "    torch.utils.data.TensorDataset(x_train_val, y_train_val), batch_size=batch_size, shuffle=True\n",
        ")\n",
        "test_loader = torch.utils.data.DataLoader(\n",
        "    torch.utils.data.TensorDataset(x_test, y_test), batch_size=batch_size\n",
        ")\n",
        "\n",
        "train_losses, _, test_losses, train_metrics, _, test_metrics, = train_and_eval(\n",
        "    net, loss_fn, optimizer, batch_size, n_epochs, scheduler, train_val_loader, None, test_loader, None\n",
        ")"
      ]
    },
    {
      "cell_type": "markdown",
      "metadata": {
        "id": "akNucrgMUZiW"
      },
      "source": [
        "## Saving"
      ]
    },
    {
      "cell_type": "code",
      "execution_count": null,
      "metadata": {
        "id": "LHsrs2Y-UZic"
      },
      "outputs": [],
      "source": [
        "import json\n",
        "\n",
        "# save the network to a .pth file\n",
        "torch.save(net.state_dict(), \"net.pth\")\n",
        "save_file(\"net.pth\")\n",
        "\n",
        "# save the optimizer to a .pth file\n",
        "torch.save(optimizer.state_dict(), \"optimizer.pth\")\n",
        "save_file(\"optimizer.pth\")\n",
        "\n",
        "# save the scheduler to a .pth file if it is not None\n",
        "if scheduler is not None:\n",
        "  torch.save(scheduler.state_dict(), \"scheduler.pth\")\n",
        "  save_file(\"scheduler.pth\")\n",
        "\n",
        "# create a dictionary to store the rest of the variables\n",
        "if isinstance(hidden_activation.__class__.__name__, list):\n",
        "    hidden_activation_name = hidden_activation.__class__.__name__[0]\n",
        "else:\n",
        "    hidden_activation_name = hidden_activation.__class__.__name__\n",
        "\n",
        "if isinstance(output_activation.__class__.__name__, list):\n",
        "    output_activation_name = output_activation.__class__.__name__[0]\n",
        "else:\n",
        "    output_activation_name = output_activation.__class__.__name__\n",
        "\n",
        "var_dict = {\n",
        "  \"batch_size\": batch_size,\n",
        "  \"n_epochs\": n_epochs,\n",
        "  \"loss_name\": loss_name,\n",
        "  \"optimizer_name\": optimizer_name,\n",
        "  \"scheduler_name\": scheduler_name,\n",
        "  \"n_units\": n_units,\n",
        "  \"n_layers\": n_layers,\n",
        "  \"hidden_activation_name\": hidden_activation_name,\n",
        "  \"output_activation_name\": output_activation_name,\n",
        "  \"lr\": lr,\n",
        "  \"dropout_rate\": dropout_rate\n",
        "}\n",
        "\n",
        "# Adding the subparameters to the var_dict for saving\n",
        "if hidden_activation_name == \"LeakyReLU\":\n",
        "  var_dict[\"leakyrelu_slope\"] = hidden_activation.negative_slope\n",
        "elif hidden_activation_name == \"PReLU\":\n",
        "  var_dict[\"prelu_init\"] = hidden_activation.weight.item()  # .item() is needed because weight is a tensor\n",
        "elif hidden_activation_name == \"SoftPlus\":\n",
        "  var_dict[\"softplus_beta\"] = hidden_activation.beta\n",
        "\n",
        "# save the dictionary to a .json file\n",
        "with open(\"var_dict.json\", \"w\") as f:\n",
        "  json.dump(var_dict, f)\n",
        "save_file(\"var_dict.json\")\n",
        "\n",
        "# Saving the output of the training using pandas\n",
        "train_df = pd.DataFrame(\n",
        "    {\n",
        "        \"train_loss\": train_losses,\n",
        "        \"test_loss\": test_losses,\n",
        "        \"train_l1_norm\": [m[\"l1_norm\"] for m in train_metrics],\n",
        "        \"test_l1_norm\": [m[\"l1_norm\"] for m in test_metrics],\n",
        "        \"train_linf_norm\": [m[\"linf_norm\"] for m in train_metrics],\n",
        "        \"test_linf_norm\": [m[\"linf_norm\"] for m in test_metrics],\n",
        "    }\n",
        ")\n",
        "train_df.to_csv(\"train_output.csv\", index=False)\n",
        "save_file(\"train_output.csv\")"
      ]
    },
    {
      "cell_type": "code",
      "execution_count": null,
      "metadata": {
        "id": "Xad9upX8vNUU"
      },
      "outputs": [],
      "source": [
        "[key for key in var_dict.keys()]"
      ]
    },
    {
      "cell_type": "code",
      "execution_count": null,
      "metadata": {
        "id": "ICwEGql5vNUV"
      },
      "outputs": [],
      "source": [
        "#%%script echo skipping\n",
        "\n",
        "hidden_activation_name\n",
        "output_activation_name"
      ]
    },
    {
      "cell_type": "markdown",
      "metadata": {
        "id": "qU23l7dIUZie"
      },
      "source": [
        "## Visualizing the results"
      ]
    },
    {
      "cell_type": "code",
      "execution_count": null,
      "metadata": {
        "id": "cippWZS6UZie"
      },
      "outputs": [],
      "source": [
        "# First figure: Train and Test L1 Norm\n",
        "plt.figure(figsize=(6, 4))\n",
        "plt.plot([m[\"l1_norm\"] for m in train_metrics], label=\"Train L1 Norm\", color='blue')\n",
        "plt.plot([m[\"l1_norm\"] for m in test_metrics], label=\"Test L1 Norm\", color='red')\n",
        "plt.xlabel(\"Epoch\")\n",
        "plt.ylabel(\"L1 Norm\")\n",
        "plt.title(\"NNGRX Train and Test L1 Norm per Epoch\")\n",
        "plt.yscale(\"log\")\n",
        "plt.grid(True)\n",
        "plt.xlim(right=200)\n",
        "plt.ylim(1e-3, 1e2)\n",
        "plt.legend()\n",
        "plt.tight_layout()\n",
        "# plt.savefig(\"NNGRX_L1_norm_plot.png\", dpi=300)\n",
        "plt.savefig(\"NNGRX_L1_norm_plot.png\")\n",
        "\n",
        "# Second figure: Train and Test Linf Norm\n",
        "plt.figure(figsize=(6, 4))\n",
        "plt.plot([m[\"linf_norm\"] for m in train_metrics], label=\"Train Linf Norm\", color='blue')\n",
        "plt.plot([m[\"linf_norm\"] for m in test_metrics], label=\"Test Linf Norm\", color='red')\n",
        "plt.xlabel(\"Epoch\")\n",
        "plt.ylabel(\"Linf Norm\")\n",
        "plt.title(\"NNGRX Train and Test Linf Norm per Epoch\")\n",
        "plt.yscale(\"log\")\n",
        "plt.grid(True)\n",
        "plt.xlim(right=200)\n",
        "plt.ylim(1e-3, 1e2)\n",
        "plt.legend()\n",
        "plt.tight_layout()\n",
        "# plt.savefig(\"NNGRX_Linf_norm_plot.png\", dpi=300)\n",
        "plt.savefig(\"NNGRX_Linf_norm_plot.png\")\n",
        "\n",
        "# Third figure: MSE of training data and test data\n",
        "plt.figure(figsize=(6, 4))\n",
        "plt.plot(train_losses, label=\"Training Data\", color='blue')\n",
        "plt.plot(test_losses, label=\"Test Data\", color='red')\n",
        "plt.xlabel(\"Epoch\")\n",
        "plt.ylabel(\"MSE\")\n",
        "plt.title(\"NNGRX MSE of Training and Test Data per Epoch\")\n",
        "plt.yscale(\"log\")\n",
        "plt.grid(True)\n",
        "plt.xlim(right=200)\n",
        "plt.ylim(1e-7, 1e0)\n",
        "plt.legend()\n",
        "plt.tight_layout()\n",
        "# plt.savefig(\"NNGRX_MSE_plot.png\", dpi=300)\n",
        "plt.savefig(\"NNGRX_MSE_plot.png\")"
      ]
    },
    {
      "cell_type": "markdown",
      "metadata": {
        "id": "tiEDutxIUZig"
      },
      "source": [
        "## Loading"
      ]
    },
    {
      "cell_type": "code",
      "execution_count": null,
      "metadata": {
        "id": "p7Mj990wUZih"
      },
      "outputs": [],
      "source": [
        "# load the dictionary from the .json file\n",
        "with open(\"var_dict.json\", \"r\") as f:\n",
        "  var_dict_loaded = json.load(f)\n",
        "\n",
        "# extract the variables from the dictionary\n",
        "batch_size_loaded = var_dict_loaded[\"batch_size\"]\n",
        "n_epochs_loaded = var_dict_loaded[\"n_epochs\"]\n",
        "loss_name_loaded = var_dict_loaded[\"loss_name\"]\n",
        "optimizer_name_loaded = var_dict_loaded[\"optimizer_name\"]\n",
        "scheduler_name_loaded = var_dict_loaded[\"scheduler_name\"]\n",
        "n_units_loaded = var_dict_loaded[\"n_units\"]\n",
        "n_layers_loaded = var_dict_loaded[\"n_layers\"]\n",
        "hidden_activation_name_loaded = var_dict_loaded[\"hidden_activation_name\"]\n",
        "output_activation_name_loaded = var_dict_loaded[\"output_activation_name\"]\n",
        "lr_loaded = var_dict_loaded[\"lr\"]\n",
        "dropout_rate_loaded = var_dict_loaded[\"dropout_rate\"]\n",
        "\n",
        "# Loading the activation functions with subparameters\n",
        "if hidden_activation_name_loaded == \"ReLU\":\n",
        "  hidden_activation_loaded = nn.ReLU()\n",
        "elif hidden_activation_name_loaded == \"LeakyReLU\":\n",
        "  negative_slope_loaded = var_dict_loaded.get(\"leakyrelu_slope\", 0.01)  # For backwards compatibiltiy with earlier models; default to 0.01 if not present\n",
        "  hidden_activation_loaded = nn.LeakyReLU(negative_slope=negative_slope_loaded)\n",
        "elif hidden_activation_name_loaded == \"ELU\":\n",
        "  hidden_activation_loaded = nn.ELU()\n",
        "elif hidden_activation_name_loaded == \"PReLU\":\n",
        "  init_loaded = var_dict_loaded.get(\"prelu_init\", 0.25)  # Default to 0.25 if not present\n",
        "  hidden_activation_loaded = nn.PReLU(init=init_loaded)\n",
        "elif hidden_activation_name_loaded == \"Swish\":\n",
        "    class Swish(nn.Module):\n",
        "        def forward(self, x):\n",
        "            return x * torch.sigmoid(x)\n",
        "    hidden_activation_loaded = Swish()\n",
        "elif hidden_activation_name_loaded == \"GELU\":\n",
        "    hidden_activation_loaded = nn.GELU()\n",
        "elif hidden_activation_name_loaded == \"SoftPlus\":\n",
        "  beta_loaded = var_dict_loaded.get(\"softplus_beta\", 1)  # Default to 1 if not present\n",
        "  hidden_activation_loaded = nn.Softplus(beta=beta_loaded)\n",
        "\n",
        "\n",
        "\n",
        "# We used to have options here, but since we have a regression problem with continuous output, we only use Linear.\n",
        "output_activation_loaded = nn.Identity()\n",
        "\n",
        "# load the network from the .pth file\n",
        "net_loaded = Net(\n",
        "    n_layers_loaded, \n",
        "    n_units_loaded, \n",
        "    hidden_activation_loaded, \n",
        "    output_activation_loaded, \n",
        "    dropout_rate_loaded\n",
        ").to(device)\n",
        "\n",
        "if torch.cuda.is_available():\n",
        " net_loaded.load_state_dict(torch.load(\"net.pth\"))\n",
        "else: \n",
        "  net_loaded.load_state_dict(torch.load(\"net.pth\", map_location=torch.device('cpu')))\n",
        "\n",
        "\n",
        "# Creating the loss function from its name\n",
        "if loss_name_loaded == \"MSE\":\n",
        "    loss_fn_loaded = nn.MSELoss()\n",
        "elif loss_name_loaded == \"MAE\":\n",
        "    loss_fn_loaded = nn.L1Loss()\n",
        "elif loss_name_loaded == \"Huber\":\n",
        "    loss_fn_loaded = nn.SmoothL1Loss() \n",
        "elif loss_name_loaded == \"Quantile\":\n",
        "    def quantile_loss(y_pred, y_true, q=0.5):\n",
        "        e = y_pred - y_true\n",
        "        return torch.mean(torch.max(q*e, (q-1)*e))\n",
        "    loss_fn_loaded = quantile_loss\n",
        "\n",
        "# load the optimizer from the .pth file\n",
        "if torch.cuda.is_available():\n",
        "  optimizer_loaded_state_dict = torch.load(\"optimizer.pth\")\n",
        "else:\n",
        "  optimizer_loaded_state_dict = torch.load(\"optimizer.pth\", map_location=torch.device('cpu'))\n",
        "\n",
        "if optimizer_name_loaded == \"SGD\":\n",
        "  # Added getting the weight decay and momentum parameters from the state dict\n",
        "  weight_decay_loaded = optimizer_loaded_state_dict[\"param_groups\"][0][\"weight_decay\"]\n",
        "  momentum_loaded = optimizer_loaded_state_dict[\"param_groups\"][0][\"momentum\"]\n",
        "  optimizer_loaded = optim.SGD(net_loaded.parameters(), lr=lr_loaded, weight_decay=weight_decay_loaded, momentum=momentum_loaded)\n",
        "elif optimizer_name_loaded == \"Adam\":\n",
        "  # Added getting the weight decay and beta parameters from the state dict\n",
        "  weight_decay_loaded = optimizer_loaded_state_dict[\"param_groups\"][0][\"weight_decay\"]\n",
        "  beta1_loaded = optimizer_loaded_state_dict[\"param_groups\"][0][\"betas\"][0]\n",
        "  beta2_loaded = optimizer_loaded_state_dict[\"param_groups\"][0][\"betas\"][1]\n",
        "  optimizer_loaded = optim.Adam(net_loaded.parameters(), lr=lr_loaded, weight_decay=weight_decay_loaded, betas=(beta1_loaded, beta2_loaded))\n",
        "elif optimizer_name_loaded == \"RMSprop\":\n",
        "  optimizer_loaded = optim.RMSprop(net_loaded.parameters(), lr=lr_loaded)\n",
        "elif optimizer_name_loaded == \"Adagrad\":\n",
        "  # Added loading the Adagrad optimizer\n",
        "  optimizer_loaded = optim.Adagrad(net_loaded.parameters(), lr=lr_loaded)\n",
        "optimizer_loaded.load_state_dict(optimizer_loaded_state_dict)\n",
        "\n",
        "# load the scheduler from the .pth file\n",
        "if torch.cuda.is_available():\n",
        "  scheduler_loaded_state_dict = torch.load(\"scheduler.pth\")\n",
        "else: \n",
        "  scheduler_loaded_state_dict = torch.load(\"scheduler.pth\", map_location=torch.device('cpu'))\n",
        "\n",
        "if scheduler_name_loaded == \"StepLR\":\n",
        "  # Added getting the step_size and gamma parameters from the state dict\n",
        "  step_size_loaded = scheduler_loaded_state_dict[\"step_size\"]\n",
        "  gamma_loaded = scheduler_loaded_state_dict[\"gamma\"]\n",
        "  scheduler_loaded = optim.lr_scheduler.StepLR(optimizer_loaded, step_size=step_size_loaded, gamma=gamma_loaded)\n",
        "elif scheduler_name_loaded == \"ExponentialLR\":\n",
        "  # Added getting the gamma parameter from the state dict\n",
        "  gamma_loaded = scheduler_loaded_state_dict[\"gamma\"]\n",
        "  scheduler_loaded = optim.lr_scheduler.ExponentialLR(optimizer_loaded, gamma=gamma_loaded)\n",
        "elif scheduler_name_loaded == \"CosineAnnealingLR\":\n",
        "  # Added getting the T_max parameter from the state dict\n",
        "  T_max_loaded = scheduler_loaded_state_dict[\"T_max\"]\n",
        "  scheduler_loaded = optim.lr_scheduler.CosineAnnealingLR(optimizer_loaded, T_max=T_max_loaded)\n",
        "elif scheduler_name_loaded == \"ReduceLROnPlateau\":\n",
        "  # Added getting the mode, factor, patience, threshold and min_lr parameters from the state dict\n",
        "  mode_loaded = scheduler_loaded_state_dict[\"mode\"]\n",
        "  factor_loaded = scheduler_loaded_state_dict[\"factor\"]\n",
        "  patience_loaded = scheduler_loaded_state_dict[\"patience\"]\n",
        "  threshold_loaded = scheduler_loaded_state_dict[\"threshold\"]\n",
        "  min_lr_loaded = scheduler_loaded_state_dict[\"min_lrs\"][0]\n",
        "  scheduler_loaded = optim.lr_scheduler.ReduceLROnPlateau(\n",
        "                    optimizer_loaded, mode=mode_loaded, factor=factor_loaded, patience=patience_loaded, threshold=threshold_loaded, min_lr=min_lr_loaded\n",
        "                )\n",
        "elif scheduler_name_loaded == \"CyclicLR\":  # Added CyclicLR\n",
        "    base_lr_loaded = scheduler_loaded_state_dict[\"base_lr\"]\n",
        "    max_lr_loaded = scheduler_loaded_state_dict[\"max_lr\"]\n",
        "    step_size_up_loaded = scheduler_loaded_state_dict[\"step_size_up\"]\n",
        "    scheduler_loaded = optim.lr_scheduler.CyclicLR(\n",
        "                    optimizer, base_lr=base_lr_loaded, max_lr=max_lr_loaded, step_size_up=step_size_up_loaded\n",
        "                )\n",
        "else:\n",
        "  scheduler_loaded = None\n",
        "\n",
        "if scheduler_loaded is not None:\n",
        "  # Added loading the state dict to the scheduler_loaded\n",
        "  scheduler_loaded.load_state_dict(scheduler_loaded_state_dict)\n",
        "\n",
        "# Loading the output of the training using pandas\n",
        "train_df_loaded = pd.read_csv(\"train_output.csv\")\n",
        "train_losses_loaded = train_df_loaded[\"train_loss\"].tolist()\n",
        "test_losses_loaded = train_df_loaded[\"test_loss\"].tolist()\n",
        "train_metrics_loaded = [\n",
        "    {\n",
        "        \"l1_norm\": train_df_loaded[\"train_l1_norm\"][i],\n",
        "        \"linf_norm\": train_df_loaded[\"train_linf_norm\"][i],\n",
        "    }\n",
        "    for i in range(len(train_df_loaded))\n",
        "]\n",
        "test_metrics_loaded = [\n",
        "    {\n",
        "        \"l1_norm\": train_df_loaded[\"test_l1_norm\"][i],\n",
        "        \"linf_norm\": train_df_loaded[\"test_linf_norm\"][i],\n",
        "    }\n",
        "    for i in range(len(train_df_loaded))\n",
        "]\n",
        "\n",
        "if STUDY_NAME is not None:\n",
        "  # Loading the study from the SQLite file\n",
        "  # TODO: Fix this one, or we just use pickle\n",
        "  # study_loaded_db = optuna.load_study(study_name=f'{STUDY_NAME}', \n",
        "  #                           storage=f'sqlite:///{STUDY_NAME}.db')\n",
        "\n",
        "  # Loading the study from the pickle file\n",
        "  with open(f'{STUDY_NAME}.pkl', 'rb') as f:\n",
        "      study_loaded_pkl = pickle.load(f)\n",
        "\n",
        "  # To load the best trial's parameters.\n",
        "  with open('best_trial_params.json', 'r') as f:\n",
        "      best_trial_params_loaded = json.load(f)"
      ]
    },
    {
      "cell_type": "code",
      "execution_count": null,
      "metadata": {
        "id": "RsUdqcsxvNUW"
      },
      "outputs": [],
      "source": [
        "# %%script echo skipping\n",
        "\n",
        "var_dict_loaded[\"batch_size\"]\n",
        "var_dict_loaded[\"n_epochs\"]\n",
        "var_dict_loaded[\"loss_name\"]\n",
        "var_dict_loaded[\"optimizer_name\"]\n",
        "var_dict_loaded[\"scheduler_name\"]\n",
        "var_dict_loaded[\"n_units\"]\n",
        "var_dict_loaded[\"n_layers\"]\n",
        "var_dict_loaded[\"hidden_activation_name\"]\n",
        "var_dict_loaded[\"output_activation_name\"]\n",
        "var_dict_loaded[\"lr\"]\n",
        "var_dict_loaded[\"dropout_rate\"]\n"
      ]
    },
    {
      "cell_type": "code",
      "execution_count": null,
      "metadata": {
        "id": "BthMvjW7vNUX"
      },
      "outputs": [],
      "source": [
        "if STUDY_NAME is not None:\n",
        "    pass\n",
        "    # study_loaded_db"
      ]
    },
    {
      "cell_type": "code",
      "execution_count": null,
      "metadata": {
        "id": "vDh2aRf9vNUX"
      },
      "outputs": [],
      "source": [
        "if STUDY_NAME is not None:\n",
        "    study_loaded_pkl\n",
        "    study_loaded_pkl.best_params"
      ]
    },
    {
      "cell_type": "code",
      "execution_count": null,
      "metadata": {
        "id": "P6suliuGvNUX"
      },
      "outputs": [],
      "source": [
        "if STUDY_NAME is not None:\n",
        "    best_trial_params_loaded"
      ]
    },
    {
      "cell_type": "code",
      "execution_count": null,
      "metadata": {
        "id": "MEdeJmNRvNUX"
      },
      "outputs": [],
      "source": [
        "%%script echo skipping\n",
        "\n",
        "scheduler_loaded_state_dict[\"mode\"]\n",
        "scheduler_loaded_state_dict[\"factor\"]\n",
        "scheduler_loaded_state_dict[\"patience\"]\n",
        "scheduler_loaded_state_dict[\"threshold\"]\n",
        "scheduler_loaded_state_dict[\"min_lrs\"]\n",
        "\n",
        "\n",
        "scheduler_loaded_state_dict[\"base_lr\"]\n",
        "scheduler_loaded_state_dict[\"max_lr\"]\n",
        "scheduler_loaded_state_dict[\"step_size_up\"]"
      ]
    },
    {
      "cell_type": "code",
      "execution_count": null,
      "metadata": {
        "id": "YQIQY4QBvNUY"
      },
      "outputs": [],
      "source": [
        "# %%script echo skipping\n",
        "\n",
        "var_dict\n",
        "hidden_activation_name_loaded"
      ]
    },
    {
      "cell_type": "code",
      "execution_count": null,
      "metadata": {
        "id": "GQ_fcj7zUZii"
      },
      "outputs": [],
      "source": [
        "# %%script echo skipping\n",
        "\n",
        "if hidden_activation_name_loaded == \"LeakyReLU\":\n",
        "  var_dict_loaded[\"leakyrelu_slope\"]\n",
        "if hidden_activation_name_loaded == \"PReLU\":\n",
        "  var_dict_loaded[\"prelu_init\"]\n",
        "elif hidden_activation_name_loaded == \"SoftPlus\":\n",
        "  var_dict_loaded[\"softplus_beta\"]\n",
        "\n",
        "batch_size_loaded\n",
        "n_epochs_loaded\n",
        "loss_name_loaded\n",
        "optimizer_name_loaded\n",
        "scheduler_name_loaded\n",
        "n_units_loaded\n",
        "n_layers_loaded\n",
        "hidden_activation_name_loaded\n",
        "output_activation_name_loaded\n",
        "lr_loaded\n",
        "dropout_rate_loaded\n",
        "hidden_activation_loaded\n",
        "output_activation_loaded\n",
        "net_loaded\n",
        "net_loaded.__dict__ # print the subparameters of the network\n",
        "loss_fn_loaded\n",
        "optimizer_loaded\n",
        "optimizer_loaded.__dict__ # print the subparameters of the optimizer\n",
        "if scheduler_loaded is not None:\n",
        "  scheduler_loaded\n",
        "  scheduler_loaded.__dict__ # print the subparameters of the scheduler\n",
        "train_losses_loaded\n",
        "test_losses_loaded\n",
        "train_metrics_loaded\n",
        "test_metrics_loaded\n"
      ]
    },
    {
      "cell_type": "code",
      "execution_count": null,
      "metadata": {
        "id": "sYSTj1WmvNUY"
      },
      "outputs": [],
      "source": [
        "train_losses_loaded[-1]\n",
        "test_losses_loaded[-1]\n",
        "test_metrics_loaded[-1]['l1_norm']\n",
        "test_metrics_loaded[-1]['linf_norm']\n",
        "# print(f'Error is {test_metrics_loaded[-1][\"l1_norm\"] / (3.84e-4)} times bigger than in Dieselhorst et al.')\n",
        "# print(f'Error is {test_metrics_loaded[-1][\"linf_norm\"] / (8.14e-3)} times bigger than in Dieselhorst et al.')"
      ]
    },
    {
      "cell_type": "markdown",
      "metadata": {
        "id": "Q9O_2qENvNUY"
      },
      "source": [
        "### Visualize loaded results"
      ]
    },
    {
      "cell_type": "markdown",
      "metadata": {
        "id": "vwLGR1aSUZik"
      },
      "source": [
        "Let us verify correct loading of the train and test metrics by visualizing them again but now through the loaded values. Likewise for the train and test losses."
      ]
    },
    {
      "cell_type": "code",
      "execution_count": null,
      "metadata": {
        "id": "sXiNgLsmUZil"
      },
      "outputs": [],
      "source": [
        "%config InteractiveShell.ast_node_interactivity = \"last_expr_or_assign\""
      ]
    },
    {
      "cell_type": "code",
      "execution_count": null,
      "metadata": {
        "id": "sgq4WfSiUZil"
      },
      "outputs": [],
      "source": [
        "# First figure: Train and Test L1 Norm\n",
        "plt.figure(figsize=(6, 4))\n",
        "plt.plot([m[\"l1_norm\"] for m in train_metrics_loaded], label=\"Train L1 Norm\", color='blue')\n",
        "plt.plot([m[\"l1_norm\"] for m in test_metrics_loaded], label=\"Test L1 Norm\", color='red')\n",
        "plt.xlabel(\"Epoch\")\n",
        "plt.ylabel(\"L1 Norm\")\n",
        "plt.title(\"NNGRX Train and Test L1 Norm per Epoch\")\n",
        "plt.yscale(\"log\")\n",
        "plt.grid(True)\n",
        "plt.xlim(right=200)\n",
        "plt.ylim(1e-3, 1e2)\n",
        "plt.legend()\n",
        "plt.tight_layout()\n",
        "# plt.savefig(\"NNGRX_L1_norm_plot.png\", dpi=300)\n",
        "plt.savefig(\"NNGRX_L1_norm_plot.png\")\n",
        "\n",
        "# Second figure: Train and Test Linf Norm\n",
        "plt.figure(figsize=(6, 4))\n",
        "plt.plot([m[\"linf_norm\"] for m in train_metrics_loaded], label=\"Train Linf Norm\", color='blue')\n",
        "plt.plot([m[\"linf_norm\"] for m in test_metrics_loaded], label=\"Test Linf Norm\", color='red')\n",
        "plt.xlabel(\"Epoch\")\n",
        "plt.ylabel(\"Linf Norm\")\n",
        "plt.title(\"NNGRX Train and Test Linf Norm per Epoch\")\n",
        "plt.yscale(\"log\")\n",
        "plt.grid(True)\n",
        "plt.xlim(right=200)\n",
        "plt.ylim(1e-3, 1e2)\n",
        "plt.legend()\n",
        "plt.tight_layout()\n",
        "# plt.savefig(\"NNGRX_Linf_norm_plot.png\", dpi=300)\n",
        "plt.savefig(\"NNGRX_Linf_norm_plot.png\")\n",
        "\n",
        "# Third figure: MSE of training data and test data\n",
        "plt.figure(figsize=(6, 4))\n",
        "plt.plot(train_losses_loaded, label=\"Training Data\", color='blue')\n",
        "plt.plot(test_losses_loaded, label=\"Test Data\", color='red')\n",
        "plt.xlabel(\"Epoch\")\n",
        "plt.ylabel(\"MSE\")\n",
        "plt.title(\"NNGRX MSE of Training and Test Data per Epoch\")\n",
        "plt.yscale(\"log\")\n",
        "plt.grid(True)\n",
        "plt.xlim(right=200)\n",
        "plt.ylim(1e-7, 1e0)\n",
        "plt.legend()\n",
        "plt.tight_layout()\n",
        "# plt.savefig(\"NNGRX_MSE_plot.png\", dpi=300)\n",
        "plt.savefig(\"NNGRX_MSE_plot.png\")"
      ]
    },
    {
      "cell_type": "code",
      "execution_count": null,
      "metadata": {
        "id": "lkgLqJ_UUZim"
      },
      "outputs": [],
      "source": [
        "%config InteractiveShell.ast_node_interactivity = \"all\""
      ]
    },
    {
      "cell_type": "markdown",
      "metadata": {
        "id": "Phwdc3g1vNUa"
      },
      "source": [
        "## Counting the number of parameters in the network."
      ]
    },
    {
      "cell_type": "code",
      "execution_count": null,
      "metadata": {
        "id": "rPhkz2revNUa"
      },
      "outputs": [],
      "source": [
        "net_loaded.eval()\n",
        "def count_parameters(model):\n",
        "    return sum(p.numel() for p in model.parameters() if p.requires_grad)\n",
        "print(f'The model has {count_parameters(net_loaded)} parameters.')"
      ]
    },
    {
      "cell_type": "markdown",
      "metadata": {
        "id": "SxuzVSnlUZin"
      },
      "source": [
        "## Evaluating the network on arbirary input\n",
        "### Comparing `net` and `net_loaded`\n",
        "\n",
        "We compare `net` and `net_loaded` to confirm correct loading of the network. Note that `net` is only available if we have trained the model in this session."
      ]
    },
    {
      "cell_type": "code",
      "source": [],
      "metadata": {
        "id": "yKilfGL4-zwS"
      },
      "execution_count": null,
      "outputs": []
    },
    {
      "cell_type": "code",
      "execution_count": null,
      "metadata": {
        "id": "WNue9Us-vNUa"
      },
      "outputs": [],
      "source": [
        "#%%script echo skipping\n",
        "\n",
        "# Set the network to evaluation mode\n",
        "net.eval()"
      ]
    },
    {
      "cell_type": "code",
      "execution_count": null,
      "metadata": {
        "id": "DGoN4SQ9vNUa"
      },
      "outputs": [],
      "source": [
        "# Set the network to evaluation mode\n",
        "net_loaded.eval"
      ]
    },
    {
      "cell_type": "code",
      "execution_count": null,
      "metadata": {
        "id": "eYOfVG6BvNUa"
      },
      "outputs": [],
      "source": [
        "for p1, p2 in zip(net.parameters(), net_loaded.parameters()):\n",
        "    if p1.data.ne(p2.data).sum() > 0:\n",
        "        print(\"Parameters are NOT the same.\")\n",
        "        break\n",
        "else:\n",
        "    print(\"Parameters are the same.\")\n",
        "\n",
        "print(\"Net device:\", next(net.parameters()).device)\n",
        "print(\"Net_loaded device:\", next(net_loaded.parameters()).device)"
      ]
    },
    {
      "cell_type": "code",
      "execution_count": null,
      "metadata": {
        "id": "C0PLAA0DUZin"
      },
      "outputs": [],
      "source": [
        "#%%script echo skipping\n",
        "\n",
        "print(list(net.parameters()))"
      ]
    },
    {
      "cell_type": "code",
      "execution_count": null,
      "metadata": {
        "id": "1NZ8iVA7UZio"
      },
      "outputs": [],
      "source": [
        "print(list(net_loaded.parameters()))"
      ]
    },
    {
      "cell_type": "code",
      "execution_count": null,
      "metadata": {
        "id": "InGW0Xq6UZip"
      },
      "outputs": [],
      "source": [
        "rho_example, epsilon_example, vx_example, vy_example, vz_example, Bx_example, By_example, Bz_example, gxx_example, gxy_example, gxz_example, gyy_example, gyz_example, gzz_example = generate_samples(20)\n",
        "\n",
        "inputs =  generate_input_data(rho_example, epsilon_example, vx_example, vy_example, vz_example, Bx_example, By_example, Bz_example, gxx_example, gxy_example, gxz_example, gyy_example, gyz_example, gzz_example)\n",
        "inputs\n"
      ]
    },
    {
      "cell_type": "code",
      "execution_count": null,
      "metadata": {
        "id": "QVa1upmFUZip"
      },
      "outputs": [],
      "source": [
        "#%%script echo skipping\n",
        "\n",
        "# Pass the inputs to the network and get the outputs\n",
        "outputs = [net(input.unsqueeze(0)) for input in inputs]\n",
        "# Print the outputs\n",
        "outputs"
      ]
    },
    {
      "cell_type": "code",
      "execution_count": null,
      "metadata": {
        "id": "E-Xjfo7VUZir"
      },
      "outputs": [],
      "source": [
        "\n",
        "# Pass the inputs to the network and get the outputs\n",
        "outputs = [net_loaded(input.unsqueeze(0)) for input in inputs]\n",
        "# Print the outputs\n",
        "outputs"
      ]
    },
    {
      "cell_type": "markdown",
      "metadata": {
        "id": "xjpIvdybUZis"
      },
      "source": [
        "## Porting the model to C++"
      ]
    },
    {
      "cell_type": "code",
      "execution_count": null,
      "metadata": {
        "id": "VMlEd4RoUZis"
      },
      "outputs": [],
      "source": [
        "import torch.jit\n",
        "\n",
        "# Creating a dummy input tensor of shape (1, 5) to trace the model\n",
        "dummy_input = torch.randn(1, N_INPUTS).to(device)\n",
        "\n",
        "# Ensure that net_loaded is in evaluation mode.\n",
        "net_loaded.eval()\n",
        "\n",
        "# Tracing the model using the torch.jit.trace function\n",
        "traced_model = torch.jit.trace(net_loaded, dummy_input)\n",
        "\n",
        "# Saving the traced model to a file named \"net.pt\"\n",
        "traced_model.save(\"net.pt\")\n",
        "save_file(\"net.pt\")\n",
        "\n",
        "example_input_to_validate_correct_export_and_import = generate_input_data(*generate_samples(1))\n",
        "print(\"input shape: \", example_input_to_validate_correct_export_and_import.shape)\n",
        "print(\"input: \", example_input_to_validate_correct_export_and_import)\n",
        "print(\"Output:\", net_loaded(example_input_to_validate_correct_export_and_import))"
      ]
    }
  ],
  "metadata": {
    "accelerator": "GPU",
    "colab": {
      "gpuType": "T4",
      "provenance": [],
      "toc_visible": true
    },
    "kernelspec": {
      "display_name": "Python 3",
      "name": "python3"
    },
    "language_info": {
      "codemirror_mode": {
        "name": "ipython",
        "version": 3
      },
      "file_extension": ".py",
      "mimetype": "text/x-python",
      "name": "python",
      "nbconvert_exporter": "python",
      "pygments_lexer": "ipython3",
      "version": "3.11.3"
    },
    "orig_nbformat": 4
  },
  "nbformat": 4,
  "nbformat_minor": 0
}