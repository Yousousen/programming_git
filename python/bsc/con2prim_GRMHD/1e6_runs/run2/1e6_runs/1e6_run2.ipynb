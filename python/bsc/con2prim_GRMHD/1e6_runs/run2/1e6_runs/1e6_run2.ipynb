{
  "cells": [
    {
      "cell_type": "markdown",
      "metadata": {
        "id": "TPvB1xoSUZhR"
      },
      "source": [
        "# Neural network to learn conservative-to-primitive conversion in relativistic hydrodynamics"
      ]
    },
    {
      "cell_type": "markdown",
      "metadata": {
        "id": "GQOAdSRnyUe_"
      },
      "source": [
        "## How to use this notebook\n",
        "\n",
        "### Local installation\n",
        "\n",
        "1. Install required packages with `pip install -r requirements.txt` to your desired environment.\n",
        "2. If a script version of this notebook is desired, comment (not uncomment) the first line of `nbconvert` cell.\n",
        "\n",
        "### Colab installation\n",
        "\n",
        "1.  Comment (not uncomment) the first line of the drive mounting cell.\n",
        "2.  Comment (not uncomment) the first line of the `pip install` cell.\n",
        "\n",
        "<!-- - For colab we also want to set the runtime to GPU by clicking _Change runtime_ in the _Runtime_ menu, and -->\n",
        "<!-- - We want to wait for the google drive connection popup to appear and follow the instructions. -->\n",
        "\n",
        "### Loading / Generating data\n",
        "3. Set `LOAD_DATA_FROM_CSV` to `True` / `False` to load data from csv files / generate data in this notebook.\n",
        "\n",
        "### Training without optimization\n",
        "\n",
        "4. Set `OPTIMIZE = False` in section _Constants and flags to set_.\n",
        "5. Run the entire notebook.\n",
        "\n",
        "### Training with optimization\n",
        "\n",
        "4. Set `OPTIMIZE = True` in section _Constants and flags to set_.\n",
        "5. Run the entire notebook.\n",
        "\n",
        "### Loading an already trained model\n",
        "\n",
        "4. Run cells in section _Initialization_.\n",
        "5. Run cells with definitions in section _Input data and labels_.\n",
        "6. Run cell with the definition of _Net_ in section _Defining the neural network_.\n",
        "7. Make sure the `net.pth`, `optimizer.pth`, `scheduler.pth`, `var_dict.json` and `train_output.csv` files are in the directory containing this notebook.\n",
        "8. Run the cells in section _Loading_ and continue from there.\n",
        "\n",
        "### Generating the C++ model\n",
        "\n",
        "9. Run section _Porting the model to C++_, this requires a model to be loaded.\n",
        "10. Set the path to the `net.pt` file in the C++ source file.\n",
        "11. `mkdir build && cd build`,\n",
        "12. Configure a `CMakeLists.txt` file as is done [here](https://pytorch.org/cppdocs/installing.html).\n",
        "13. `cmake -DCMAKE_PREFIX_PATH=/path/to/libtorch/ ..`,\n",
        "14. Compile and run, e.g. `cmake --build . --config release && ./<executable name>`"
      ]
    },
    {
      "cell_type": "markdown",
      "metadata": {
        "id": "fNr7wqgCz9VP"
      },
      "source": []
    },
    {
      "cell_type": "markdown",
      "metadata": {
        "id": "GQG-VpFLyUe_"
      },
      "source": [
        "## Initialization"
      ]
    },
    {
      "cell_type": "markdown",
      "metadata": {
        "id": "rasKmIzdyUe_"
      },
      "source": [
        "\n",
        "Use this first cell to **convert this notebook** to a python script."
      ]
    },
    {
      "cell_type": "code",
      "execution_count": null,
      "metadata": {
        "colab": {
          "base_uri": "https://localhost:8080/"
        },
        "id": "eqdgdNLHUZhV",
        "outputId": "20ec1355-7b40-438c-df05-46ac09cc5a3e"
      },
      "outputs": [
        {
          "name": "stdout",
          "output_type": "stream",
          "text": [
            "skipping\n"
          ]
        }
      ],
      "source": [
        "%%script echo skipping\n",
        "\n",
        "!jupyter nbconvert pt1_before_restructuring.ipynb --TagRemovePreprocessor.enabled=True --TagRemovePreprocessor.remove_cell_tags='{\"remove_cell\"}' --to script"
      ]
    },
    {
      "cell_type": "markdown",
      "metadata": {
        "id": "nzcUr0LnUZhw"
      },
      "source": [
        "Next some cells for working on **google colab**,"
      ]
    },
    {
      "cell_type": "code",
      "execution_count": null,
      "metadata": {
        "id": "uLdZpOu4yUfB"
      },
      "outputs": [],
      "source": [
        "import os\n",
        "import shutil\n",
        "\n",
        "# check if the drive is mounted\n",
        "drive_mounted = os.path.exists(\"/content/drive\")\n",
        "# change this to your desired folder\n",
        "drive_folder = \"/content/drive/My Drive/bsc/con2prim_GRMHD/1e6_runs\"\n",
        "\n",
        "# define a function to save a file to the drive or the current directory\n",
        "def save_file(file_name):\n",
        "  if drive_mounted:\n",
        "    # save the file to the drive folder\n",
        "    file_path = os.path.join(drive_folder, file_name)\n",
        "    # copy the file from the current directory to the drive folder\n",
        "    shutil.copyfile(file_name, file_path)\n",
        "  else:\n",
        "    # do nothing as the file is already in the current directory\n",
        "    pass\n"
      ]
    },
    {
      "cell_type": "code",
      "execution_count": null,
      "metadata": {
        "colab": {
          "base_uri": "https://localhost:8080/"
        },
        "id": "ecHw2_xlUZhx",
        "outputId": "6c854f66-ca25-4bbb-db36-d696753edf8c"
      },
      "outputs": [
        {
          "name": "stdout",
          "output_type": "stream",
          "text": [
            "Drive already mounted at /content/drive; to attempt to forcibly remount, call drive.mount(\"/content/drive\", force_remount=True).\n"
          ]
        }
      ],
      "source": [
        "# %%script echo skipping\n",
        "\n",
        "from google.colab import drive\n",
        "drive.mount('/content/drive')"
      ]
    },
    {
      "cell_type": "code",
      "execution_count": null,
      "metadata": {
        "id": "fxqdIxKBmzyt"
      },
      "outputs": [],
      "source": []
    },
    {
      "cell_type": "code",
      "execution_count": null,
      "metadata": {
        "colab": {
          "base_uri": "https://localhost:8080/"
        },
        "id": "T1rcStMLUZhy",
        "outputId": "441f48d9-0fc6-4527-9734-c8f543e8a9fc"
      },
      "outputs": [
        {
          "name": "stdout",
          "output_type": "stream",
          "text": [
            "Looking in indexes: https://pypi.org/simple, https://us-python.pkg.dev/colab-wheels/public/simple/\n",
            "Requirement already satisfied: optuna in /usr/local/lib/python3.10/dist-packages (3.1.1)\n",
            "Requirement already satisfied: tensorboard in /usr/local/lib/python3.10/dist-packages (2.12.2)\n",
            "Requirement already satisfied: tensorboardX in /usr/local/lib/python3.10/dist-packages (2.6)\n",
            "Requirement already satisfied: alembic>=1.5.0 in /usr/local/lib/python3.10/dist-packages (from optuna) (1.11.1)\n",
            "Requirement already satisfied: cmaes>=0.9.1 in /usr/local/lib/python3.10/dist-packages (from optuna) (0.9.1)\n",
            "Requirement already satisfied: colorlog in /usr/local/lib/python3.10/dist-packages (from optuna) (6.7.0)\n",
            "Requirement already satisfied: numpy in /usr/local/lib/python3.10/dist-packages (from optuna) (1.22.4)\n",
            "Requirement already satisfied: packaging>=20.0 in /usr/local/lib/python3.10/dist-packages (from optuna) (23.1)\n",
            "Requirement already satisfied: sqlalchemy>=1.3.0 in /usr/local/lib/python3.10/dist-packages (from optuna) (2.0.10)\n",
            "Requirement already satisfied: tqdm in /usr/local/lib/python3.10/dist-packages (from optuna) (4.65.0)\n",
            "Requirement already satisfied: PyYAML in /usr/local/lib/python3.10/dist-packages (from optuna) (6.0)\n",
            "Requirement already satisfied: absl-py>=0.4 in /usr/local/lib/python3.10/dist-packages (from tensorboard) (1.4.0)\n",
            "Requirement already satisfied: grpcio>=1.48.2 in /usr/local/lib/python3.10/dist-packages (from tensorboard) (1.54.0)\n",
            "Requirement already satisfied: google-auth<3,>=1.6.3 in /usr/local/lib/python3.10/dist-packages (from tensorboard) (2.17.3)\n",
            "Requirement already satisfied: google-auth-oauthlib<1.1,>=0.5 in /usr/local/lib/python3.10/dist-packages (from tensorboard) (1.0.0)\n",
            "Requirement already satisfied: markdown>=2.6.8 in /usr/local/lib/python3.10/dist-packages (from tensorboard) (3.4.3)\n",
            "Requirement already satisfied: protobuf>=3.19.6 in /usr/local/lib/python3.10/dist-packages (from tensorboard) (3.20.3)\n",
            "Requirement already satisfied: requests<3,>=2.21.0 in /usr/local/lib/python3.10/dist-packages (from tensorboard) (2.27.1)\n",
            "Requirement already satisfied: setuptools>=41.0.0 in /usr/local/lib/python3.10/dist-packages (from tensorboard) (67.7.2)\n",
            "Requirement already satisfied: tensorboard-data-server<0.8.0,>=0.7.0 in /usr/local/lib/python3.10/dist-packages (from tensorboard) (0.7.0)\n",
            "Requirement already satisfied: tensorboard-plugin-wit>=1.6.0 in /usr/local/lib/python3.10/dist-packages (from tensorboard) (1.8.1)\n",
            "Requirement already satisfied: werkzeug>=1.0.1 in /usr/local/lib/python3.10/dist-packages (from tensorboard) (2.3.0)\n",
            "Requirement already satisfied: wheel>=0.26 in /usr/local/lib/python3.10/dist-packages (from tensorboard) (0.40.0)\n",
            "Requirement already satisfied: Mako in /usr/local/lib/python3.10/dist-packages (from alembic>=1.5.0->optuna) (1.2.4)\n",
            "Requirement already satisfied: typing-extensions>=4 in /usr/local/lib/python3.10/dist-packages (from alembic>=1.5.0->optuna) (4.5.0)\n",
            "Requirement already satisfied: cachetools<6.0,>=2.0.0 in /usr/local/lib/python3.10/dist-packages (from google-auth<3,>=1.6.3->tensorboard) (5.3.0)\n",
            "Requirement already satisfied: pyasn1-modules>=0.2.1 in /usr/local/lib/python3.10/dist-packages (from google-auth<3,>=1.6.3->tensorboard) (0.3.0)\n",
            "Requirement already satisfied: six>=1.9.0 in /usr/local/lib/python3.10/dist-packages (from google-auth<3,>=1.6.3->tensorboard) (1.16.0)\n",
            "Requirement already satisfied: rsa<5,>=3.1.4 in /usr/local/lib/python3.10/dist-packages (from google-auth<3,>=1.6.3->tensorboard) (4.9)\n",
            "Requirement already satisfied: requests-oauthlib>=0.7.0 in /usr/local/lib/python3.10/dist-packages (from google-auth-oauthlib<1.1,>=0.5->tensorboard) (1.3.1)\n",
            "Requirement already satisfied: urllib3<1.27,>=1.21.1 in /usr/local/lib/python3.10/dist-packages (from requests<3,>=2.21.0->tensorboard) (1.26.15)\n",
            "Requirement already satisfied: certifi>=2017.4.17 in /usr/local/lib/python3.10/dist-packages (from requests<3,>=2.21.0->tensorboard) (2022.12.7)\n",
            "Requirement already satisfied: charset-normalizer~=2.0.0 in /usr/local/lib/python3.10/dist-packages (from requests<3,>=2.21.0->tensorboard) (2.0.12)\n",
            "Requirement already satisfied: idna<4,>=2.5 in /usr/local/lib/python3.10/dist-packages (from requests<3,>=2.21.0->tensorboard) (3.4)\n",
            "Requirement already satisfied: greenlet!=0.4.17 in /usr/local/lib/python3.10/dist-packages (from sqlalchemy>=1.3.0->optuna) (2.0.2)\n",
            "Requirement already satisfied: MarkupSafe>=2.1.1 in /usr/local/lib/python3.10/dist-packages (from werkzeug>=1.0.1->tensorboard) (2.1.2)\n",
            "Requirement already satisfied: pyasn1<0.6.0,>=0.4.6 in /usr/local/lib/python3.10/dist-packages (from pyasn1-modules>=0.2.1->google-auth<3,>=1.6.3->tensorboard) (0.5.0)\n",
            "Requirement already satisfied: oauthlib>=3.0.0 in /usr/local/lib/python3.10/dist-packages (from requests-oauthlib>=0.7.0->google-auth-oauthlib<1.1,>=0.5->tensorboard) (3.2.2)\n"
          ]
        }
      ],
      "source": [
        "# %%script echo skipping\n",
        "\n",
        "!pip install optuna tensorboard tensorboardX"
      ]
    },
    {
      "cell_type": "markdown",
      "metadata": {
        "id": "nqDQetVPFyCw"
      },
      "source": []
    },
    {
      "cell_type": "markdown",
      "metadata": {
        "id": "cxXGIEp5FXQC"
      },
      "source": []
    },
    {
      "cell_type": "markdown",
      "metadata": {
        "id": "MA6uyFy0yUfC"
      },
      "source": [
        "Importing the **libraries**,"
      ]
    },
    {
      "cell_type": "code",
      "execution_count": null,
      "metadata": {
        "id": "tREdWQUVUZhz"
      },
      "outputs": [],
      "source": [
        "import numpy as np\n",
        "import matplotlib.pyplot as plt\n",
        "import torch\n",
        "import torch.nn as nn\n",
        "import torch.optim as optim\n",
        "import torch.nn.functional as F\n",
        "import optuna\n",
        "import tensorboardX as tbx\n",
        "import pandas as pd"
      ]
    },
    {
      "cell_type": "markdown",
      "metadata": {
        "id": "38GvmerjUZhz"
      },
      "source": [
        "### Constants and flags to set\n",
        "Defining some constants and parameters for convenience.\n",
        "\n",
        "**NOTE**: Some **subparameters** still need to be adjusted in the `create_model` function itself as of (Tue May 16 07:42:45 AM CEST 2023) in the case the model is being trained without optimization."
      ]
    },
    {
      "cell_type": "code",
      "execution_count": null,
      "metadata": {
        "id": "ei6VZDYKUZh0"
      },
      "outputs": [],
      "source": [
        "\n",
        "# Checking if GPU is available and setting the device accordingly\n",
        "device = torch.device(\"cuda\" if torch.cuda.is_available() else \"cpu\")\n",
        "\n",
        "N_TRIALS = 200 # Number of trials for hyperparameter optimization # NOTE: Set this properly.\n",
        "OPTIMIZE = True # Whether to optimize the hyperparameters or to use predetermined values. # NOTE: Set this properly.\n",
        "ZSCORE_NORMALIZATION = False # Whether to z-score normalize the input data.\n",
        "LOAD_DATA_FROM_CSV = False  # If not true we generate the data in this file and save to {x_train,y_train,x_test,y_test}.csv, otherwise we load the data from files of the same name. # NOTE: Set this before properly.\n",
        "\n",
        "csv_filenames = { # File names to load input data and labels from if LOAD_DATA_FROM_CSV is True.\n",
        "    \"x_train\": \"x_train.csv\",\n",
        "    \"x_val\": \"x_val.csv\",\n",
        "    \"x_test\": \"x_test.csv\",\n",
        "    \"y_train\": \"y_train.csv\",\n",
        "    \"y_val\": \"y_val.csv\",\n",
        "    \"y_test\": \"y_test.csv\",\n",
        "}\n",
        "\n",
        "# Values to use for hyperparameters if OPTIMIZE is False; set these to the best parameters found by Optuna.\n",
        "# NOTE: TODO: Currently (Sat May 27 05:16:57 PM CEST 2023) there are still subparameters to be set in create_model function.\n",
        "N_LAYERS_NO_OPT = 3\n",
        "N_UNITS_NO_OPT = [555, 458, 115]\n",
        "HIDDEN_ACTIVATION_NAME_NO_OPT = \"LeakyReLU\"\n",
        "OUTPUT_ACTIVATION_NAME_NO_OPT = \"Linear\"\n",
        "LOSS_NAME_NO_OPT = \"Huber\"\n",
        "OPTIMIZER_NAME_NO_OPT = \"RMSprop\"\n",
        "LR_NO_OPT = 0.000122770896701404\n",
        "BATCH_SIZE_NO_OPT = 49\n",
        "N_EPOCHS_NO_OPT = 400 # NOTE: Set this properly.\n",
        "SCHEDULER_NAME_NO_OPT = \"CycleLR\"\n",
        "DROPOUT_RATE_NO_OPT = 0.2\n",
        "\n",
        "N_INPUTS = 14  # Number of input features.\n",
        "N_OUTPUTS = 1  # Number of outputs.\n",
        "Gamma = 5/3  # Adiabatic index\n",
        "\n",
        "n_samples = 1e6 # NOTE: Set this properly.\n",
        "train_frac = 0.7  # 70% of data for training\n",
        "val_frac = 0.15  # 15% of data for validation, rest for testing\n",
        "\n",
        "rho_interval = (0, 2) \n",
        "epsilon_interval = (1e-2, 2000)  # Will be sampled in log space\n",
        "vx_interval = (0, 0.999)  \n",
        "vy_interval = (0, 0.999)  \n",
        "vz_interval = (0, 0.999)  \n",
        "Bx_interval = (-10, 10)  \n",
        "By_interval = (-10, 10)  \n",
        "Bz_interval = (-10, 10)  \n",
        "gxx_interval = (0.9, 1.1)\n",
        "gxy_interval = (0, 0.1)\n",
        "gxz_interval = (0, 0.1)\n",
        "gyy_interval = (0.9, 1.1)\n",
        "gyz_interval = (0, 0.1)\n",
        "gzz_interval = (0.9, 1.1)\n",
        "\n",
        "np.random.seed(60) # Comment for true random data.\n"
      ]
    },
    {
      "cell_type": "markdown",
      "metadata": {
        "id": "dlaP5UL2UZh1"
      },
      "source": [
        "## Input data and labels\n",
        "\n",
        "We either generate the data or load the data. First the definitions for generating the data come below."
      ]
    },
    {
      "cell_type": "code",
      "execution_count": null,
      "metadata": {
        "id": "s_EvGFZcUZh1"
      },
      "outputs": [],
      "source": [
        "# Defining an analytic equation of state (EOS) for an ideal gas\n",
        "def eos_analytic(rho, epsilon):\n",
        "    # Adding some assertions to check that the input tensors are valid and have \n",
        "    # the expected shape and type \n",
        "    assert isinstance(rho, torch.Tensor), \"rho must be a torch.Tensor\"\n",
        "    assert isinstance(epsilon, torch.Tensor), \"epsilon must be a torch.Tensor\"\n",
        "    print('rho.shape: ', rho.shape)\n",
        "    print('epsilon.shape: ', epsilon.shape)\n",
        "    assert rho.shape == epsilon.shape, \"rho and epsilon must have the same shape\"\n",
        "    assert rho.ndim == 1, \"rho and epsilon must be one-dimensional tensors\"\n",
        "    assert rho.dtype == torch.float32, \"rho and epsilon must have dtype torch.float32\"\n",
        "\n",
        "    return (Gamma - 1) * rho * epsilon\n",
        "\n",
        "def sample_primitive_variables_and_metric():\n",
        "    rho = np.random.uniform(*rho_interval)  \n",
        "    epsilon = np.random.uniform(*np.log10(epsilon_interval))\n",
        "    vx = np.random.uniform(*vx_interval)  \n",
        "    vy = np.random.uniform(*vy_interval)  \n",
        "    vz = np.random.uniform(*vz_interval)  \n",
        "    Bx = np.random.uniform(*Bx_interval)  \n",
        "    By = np.random.uniform(*By_interval)  \n",
        "    Bz = np.random.uniform(*Bz_interval)  \n",
        "    gxx = np.random.uniform(*gxx_interval)\n",
        "    gxy = np.random.uniform(*gxy_interval)\n",
        "    gxz = np.random.uniform(*gxz_interval)\n",
        "    gyy = np.random.uniform(*gyy_interval)\n",
        "    gyz = np.random.uniform(*gyz_interval)\n",
        "    gzz = np.random.uniform(*gzz_interval)\n",
        "\n",
        "    return rho, epsilon, vx, vy, vz, Bx, By, Bz, gxx, gxy, gxz, gyy, gyz, gzz\n",
        "\n",
        "def check_sample(rho, epsilon, vx, vy, vz, Bx, By, Bz, gxx, gxy, gxz, gyy, gyz, gzz):\n",
        "    wtemp_expr = 1 - (gxx * vx**2 + gyy * vy**2 + gzz * vz**2 + 2 * gxy * vx * vy + 2 * gxz * vx * vz + 2 * gyz * vy * vz)\n",
        "    sdet_expr = gxx * gyy * gzz + 2 * gxy * gxz * gyz - gxx * gyz ** 2 - gyy * gxz ** 2 - gzz * gxy ** 2\n",
        "    if vx**2 + vy**2 + vz**2 >= 1 or wtemp_expr < 0 or sdet_expr < 0:\n",
        "        # print(f\"Sample failed checks. vx^2+vy^2+vz^2: {vx**2 + vy**2 + vz**2}, wtemp_expr: {wtemp_expr}, sdet_expr: {sdet_expr}\")\n",
        "        return False\n",
        "    else:\n",
        "        # print(f\"Sample passed checks. vx^2+vy^2+vz^2: {vx**2 + vy**2 + vz**2}, wtemp_expr: {wtemp_expr}, sdet_expr: {sdet_expr}\")\n",
        "        return True\n",
        "\n",
        "def generate_samples(n_samples):\n",
        "    samples = []\n",
        "    while len(samples) < n_samples:\n",
        "        sample = sample_primitive_variables_and_metric()\n",
        "        if check_sample(*sample):\n",
        "            samples.append(sample)\n",
        "        # print(f\"Number of valid samples: {len(samples)}\")\n",
        "    return zip(*samples)\n",
        "def sdet(gxx, gxy, gxz, gyy, gyz, gzz):\n",
        "    # Determinant of the three metric.\n",
        "    return (gxx * gyy * gzz + 2 * gxy * gxz * gyz - gxx * gyz ** 2 - gyy * gxz ** 2 - gzz * gxy ** 2) ** 0.5\n",
        "\n",
        "# Defining a function that computes conserved variables from primitive variables and the metric\n",
        "# We follow the source code of GRaM-X: A new GPU-accelerated dynamical spacetime GRMHD code for Exascale\n",
        "# computing with the Einstein Toolkit of Shankar et al.\n",
        "def compute_conserved_variables(rho, epsilon, vx, vy, vz, Bx, By, Bz, gxx, gxy, gxz, gyy, gyz, gzz):\n",
        "    pres = eos_analytic(rho, epsilon)\n",
        "    wtemp = 1 / (1 - (gxx * vx**2 + gyy * vy**2 + gzz * vz**2 +\n",
        "        2 * gxy * vx * vy + 2 * gxz * vx * vz +\n",
        "        2 * gyz * vy * vz))**0.5\n",
        "\n",
        "    vlowx = gxx * vx + gxy * vy + gxz * vz\n",
        "    vlowy = gxy * vx + gyy * vy + gyz * vz\n",
        "    vlowz = gxz * vx + gyz * vy + gzz * vz\n",
        "\n",
        "    Bxlow = gxx * Bx + gxy * By + gxz * Bz\n",
        "    Bylow = gxy * Bx + gyy * By + gyz * Bz\n",
        "    Bzlow = gxz * Bx + gyz * By + gzz * Bz\n",
        "\n",
        "    B2 = Bxlow * Bx + Bylow * By + Bzlow * Bz\n",
        "\n",
        "    Bdotv = Bxlow * vx + Bylow * vy + Bzlow * vz\n",
        "    Bdotv2 = Bdotv * Bdotv\n",
        "    wtemp2 = wtemp * wtemp\n",
        "    b2 = B2 / wtemp2 + Bdotv2\n",
        "    ab0 = wtemp * Bdotv\n",
        "\n",
        "    blowx = (gxx * Bx + gxy * By + gxz * Bz) / wtemp + wtemp * Bdotv * vlowx\n",
        "    blowy = (gxy * Bx + gyy * By + gyz * Bz) / wtemp + wtemp * Bdotv * vlowy\n",
        "    blowz = (gxz * Bx + gyz * By + gzz * Bz) / wtemp + wtemp * Bdotv * vlowz\n",
        "\n",
        "    hrhow2 = (rho * (1 + epsilon) + pres + b2) * (wtemp) * (wtemp)\n",
        "\n",
        "    D = sdet(gxx, gxy, gxz, gyy, gyz, gzz) * rho * (wtemp)\n",
        "    Sx = sdet(gxx, gxy, gxz, gyy, gyz, gzz) * (hrhow2 * vlowx - ab0 * blowx)\n",
        "    Sy = sdet(gxx, gxy, gxz, gyy, gyz, gzz) * (hrhow2 * vlowy - ab0 * blowy)\n",
        "    Sz = sdet(gxx, gxy, gxz, gyy, gyz, gzz) * (hrhow2 * vlowz - ab0 * blowz)\n",
        "    tau = sdet(gxx, gxy, gxz, gyy, gyz, gzz) * (hrhow2 - pres - b2 / 2 - ab0 * ab0) - D\n",
        "    Bconsx = sdet(gxx, gxy, gxz, gyy, gyz, gzz) * Bx\n",
        "    Bconsy = sdet(gxx, gxy, gxz, gyy, gyz, gzz) * By\n",
        "    Bconsz = sdet(gxx, gxy, gxz, gyy, gyz, gzz) * Bz\n",
        "\n",
        "    return D, Sx, Sy, Sz, tau, Bconsx, Bconsy, Bconsz\n",
        "\n",
        "def generate_input_data(rho, epsilon, vx, vy, vz, Bx, By, Bz, gxx, gxy, gxz, gyy, gyz, gzz):\n",
        "    rho = torch.tensor(np.array(rho), dtype=torch.float32).to(device)\n",
        "    epsilon = torch.tensor(np.array(epsilon), dtype=torch.float32).to(device)\n",
        "    vx = torch.tensor(np.array(vx), dtype=torch.float32).to(device)\n",
        "    vy = torch.tensor(np.array(vy), dtype=torch.float32).to(device)\n",
        "    vz = torch.tensor(np.array(vz), dtype=torch.float32).to(device)\n",
        "    Bx = torch.tensor(np.array(Bx), dtype=torch.float32).to(device)\n",
        "    By = torch.tensor(np.array(By), dtype=torch.float32).to(device)\n",
        "    Bz = torch.tensor(np.array(Bz), dtype=torch.float32).to(device)\n",
        "    gxx = torch.tensor(np.array(gxx), dtype=torch.float32).to(device)\n",
        "    gxy = torch.tensor(np.array(gxy), dtype=torch.float32).to(device)\n",
        "    gxz = torch.tensor(np.array(gxz), dtype=torch.float32).to(device)\n",
        "    gyy = torch.tensor(np.array(gyy), dtype=torch.float32).to(device)\n",
        "    gyz = torch.tensor(np.array(gyz), dtype=torch.float32).to(device)\n",
        "    gzz = torch.tensor(np.array(gzz), dtype=torch.float32).to(device)\n",
        "\n",
        "    D, Sx, Sy, Sz, tau, Bscriptx, Bscripty, Bscriptz = compute_conserved_variables(\n",
        "        rho, epsilon, vx, vy, vz, Bx, By, Bz, gxx, gxy, gxz, gyy, gyz, gzz\n",
        "    ) \n",
        "\n",
        "    # Add gxx, gxy, gxz, gyy, gyz, gzz to the tensor\n",
        "    x = torch.stack([D, Sx, Sy, Sz, tau, Bscriptx, Bscripty, Bscriptz, gxx, gxy, gxz, gyy, gyz, gzz], axis=1)\n",
        "    return x\n",
        "\n",
        "# Defining a function that generates output data (labels) from given samples of primitive variables\n",
        "# We use the definitions as given in Recovery schemes for primitive variables in\n",
        "# general-relativistic magnetohydrodynamics of Siegel et al.\n",
        "def generate_labels(rho, epsilon, vx, vy, vz):\n",
        "    # Converting the numpy arrays to torch tensors and moving them to the device\n",
        "    rho = torch.tensor(np.array(rho), dtype=torch.float32).to(device)\n",
        "    epsilon = torch.tensor(np.array(epsilon), dtype=torch.float32).to(device)\n",
        "    vx = torch.tensor(np.array(vx), dtype=torch.float32).to(device)\n",
        "    vy = torch.tensor(np.array(vy), dtype=torch.float32).to(device)\n",
        "    vz = torch.tensor(np.array(vz), dtype=torch.float32).to(device)\n",
        "\n",
        "    # Computing the required quantities\n",
        "    pres = eos_analytic(rho, epsilon)\n",
        "    h = 1 + epsilon + pres / rho\n",
        "    W = 1 / torch.sqrt(1 - (vx * vx + vy * vy + vz * vz))\n",
        "\n",
        "    # Returning the output data tensor\n",
        "    return h * W"
      ]
    },
    {
      "cell_type": "markdown",
      "metadata": {
        "id": "rp_rRsvlyUfD"
      },
      "source": [
        "### Generating or loading input data and labels"
      ]
    },
    {
      "cell_type": "code",
      "execution_count": null,
      "metadata": {
        "id": "aSRavbz7yUfD"
      },
      "outputs": [],
      "source": [
        "%config InteractiveShell.ast_node_interactivity = \"all\""
      ]
    },
    {
      "cell_type": "code",
      "execution_count": null,
      "metadata": {
        "id": "cKubR6C8UZh4"
      },
      "outputs": [],
      "source": [
        "if LOAD_DATA_FROM_CSV:\n",
        "    # Load the data from CSV files\n",
        "    x_train = pd.read_csv(csv_filenames[\"x_train\"]).values\n",
        "    y_train = pd.read_csv(csv_filenames[\"y_train\"]).values.squeeze()  # reshape to 1D\n",
        "    x_val = pd.read_csv(csv_filenames[\"x_val\"]).values\n",
        "    y_val = pd.read_csv(csv_filenames[\"y_val\"]).values.squeeze()  # reshape to 1D\n",
        "    x_test = pd.read_csv(csv_filenames[\"x_test\"]).values\n",
        "    y_test = pd.read_csv(csv_filenames[\"y_test\"]).values.squeeze()  # reshape to 1D\n",
        "\n",
        "    # Convert numpy arrays to tensors\n",
        "    x_train = torch.from_numpy(x_train).float().to(device)\n",
        "    y_train = torch.from_numpy(y_train).float().to(device)\n",
        "    x_val = torch.from_numpy(x_val).float().to(device)\n",
        "    y_val = torch.from_numpy(y_val).float().to(device)\n",
        "    x_test = torch.from_numpy(x_test).float().to(device)\n",
        "    y_test = torch.from_numpy(y_test).float().to(device)\n",
        "\n",
        "    # This is an alternative to having if clauses around the cells that visualize these variables.\n",
        "    rho = epsilon = vx = vy = vz = Bx = By = Bz = gxx = gxy = gxz = gyy = gyz  = gzz = None"
      ]
    },
    {
      "cell_type": "code",
      "execution_count": null,
      "metadata": {
        "id": "BbbRZdtmyUfE"
      },
      "outputs": [],
      "source": [
        "if not LOAD_DATA_FROM_CSV:\n",
        "    # Sample primitive variables and metric\n",
        "    rho, epsilon, vx, vy, vz, Bx, By, Bz, gxx, gxy, gxz, gyy, gyz, gzz = generate_samples(n_samples)"
      ]
    },
    {
      "cell_type": "code",
      "execution_count": null,
      "metadata": {
        "colab": {
          "base_uri": "https://localhost:8080/"
        },
        "id": "QQpEH1iNyUfE",
        "outputId": "4ddd40c6-323b-45fc-bfc2-a7553f9e5cba"
      },
      "outputs": [
        {
          "name": "stdout",
          "output_type": "stream",
          "text": [
            "rho.shape:  torch.Size([1000000])\n",
            "epsilon.shape:  torch.Size([1000000])\n",
            "rho.shape:  torch.Size([1000000])\n",
            "epsilon.shape:  torch.Size([1000000])\n"
          ]
        }
      ],
      "source": [
        "if not LOAD_DATA_FROM_CSV:\n",
        "    # Generate data and labels.\n",
        "    x = generate_input_data(rho, epsilon, vx, vy, vz, Bx, By, Bz, gxx, gxy, gxz, gyy, gyz, gzz)\n",
        "    y = generate_labels(rho, epsilon, vx, vy, vz)\n",
        "\n",
        "    # Calculate the number of samples in each set\n",
        "    n_train_samples = int(n_samples * train_frac)\n",
        "    n_val_samples = int(n_samples * val_frac)\n",
        "\n",
        "    # Create the data sets\n",
        "    x_train = x[:n_train_samples]\n",
        "    y_train = y[:n_train_samples]\n",
        "    x_val = x[n_train_samples : n_train_samples + n_val_samples]\n",
        "    y_val = y[n_train_samples : n_train_samples + n_val_samples]\n",
        "    x_test = x[n_train_samples + n_val_samples :]\n",
        "    y_test = y[n_train_samples + n_val_samples :]\n",
        "\n",
        "    # Save the data to CSV files; tensors need to be converted numpy arrays for saving in CSV.\n",
        "    pd.DataFrame(x_train.cpu().numpy()).to_csv(csv_filenames[\"x_train\"], index=False)\n",
        "    save_file(csv_filenames[\"x_train\"])\n",
        "    pd.DataFrame(y_train.cpu().numpy()).to_csv(csv_filenames[\"y_train\"], index=False)\n",
        "    save_file(csv_filenames[\"y_train\"])\n",
        "\n",
        "    pd.DataFrame(x_val.cpu().numpy()).to_csv(csv_filenames[\"x_val\"], index=False)\n",
        "    save_file(csv_filenames[\"x_val\"])\n",
        "    pd.DataFrame(y_val.cpu().numpy()).to_csv(csv_filenames[\"y_val\"], index=False)\n",
        "    save_file(csv_filenames[\"y_val\"])\n",
        "\n",
        "    pd.DataFrame(x_test.cpu().numpy()).to_csv(csv_filenames[\"x_test\"], index=False)\n",
        "    save_file(csv_filenames[\"x_test\"])\n",
        "    pd.DataFrame(y_test.cpu().numpy()).to_csv(csv_filenames[\"y_test\"], index=False)\n",
        "    save_file(csv_filenames[\"y_test\"])"
      ]
    },
    {
      "cell_type": "code",
      "execution_count": null,
      "metadata": {
        "colab": {
          "base_uri": "https://localhost:8080/"
        },
        "id": "FxEHi40RyUfE",
        "outputId": "c4db72f5-b8e5-484e-a5a4-9c85dbd9f321"
      },
      "outputs": [
        {
          "data": {
            "text/plain": [
              "torch.Size([700000, 14])"
            ]
          },
          "execution_count": 52,
          "metadata": {},
          "output_type": "execute_result"
        },
        {
          "data": {
            "text/plain": [
              "torch.Size([700000])"
            ]
          },
          "execution_count": 52,
          "metadata": {},
          "output_type": "execute_result"
        },
        {
          "data": {
            "text/plain": [
              "torch.Size([150000, 14])"
            ]
          },
          "execution_count": 52,
          "metadata": {},
          "output_type": "execute_result"
        },
        {
          "data": {
            "text/plain": [
              "torch.Size([150000])"
            ]
          },
          "execution_count": 52,
          "metadata": {},
          "output_type": "execute_result"
        },
        {
          "data": {
            "text/plain": [
              "torch.Size([150000, 14])"
            ]
          },
          "execution_count": 52,
          "metadata": {},
          "output_type": "execute_result"
        },
        {
          "data": {
            "text/plain": [
              "torch.Size([150000])"
            ]
          },
          "execution_count": 52,
          "metadata": {},
          "output_type": "execute_result"
        },
        {
          "data": {
            "text/plain": [
              "tensor([[ 4.6058e+00,  1.1156e+01,  4.7839e+01,  ...,  1.0749e+00,\n",
              "          3.3740e-02,  1.0985e+00],\n",
              "        [ 3.8700e-01,  4.1686e+01,  3.8608e+01,  ...,  1.0976e+00,\n",
              "          5.4719e-02,  1.0919e+00],\n",
              "        [ 2.3102e+00,  1.0196e+02,  4.9860e+01,  ...,  1.0684e+00,\n",
              "          4.9081e-04,  9.3367e-01],\n",
              "        ...,\n",
              "        [ 4.8742e+00,  2.4933e+02,  7.8821e+01,  ...,  9.0457e-01,\n",
              "          7.3676e-02,  9.7855e-01],\n",
              "        [ 8.0868e-01,  2.8338e+00, -1.5791e+01,  ...,  1.0934e+00,\n",
              "          1.4472e-02,  1.0496e+00],\n",
              "        [ 1.5859e+00,  2.0925e+01,  3.9488e+01,  ...,  9.6347e-01,\n",
              "          9.0689e-02,  9.1557e-01]], device='cuda:0')"
            ]
          },
          "execution_count": 52,
          "metadata": {},
          "output_type": "execute_result"
        },
        {
          "data": {
            "text/plain": [
              "tensor([-1.8719,  2.6552,  7.8782,  ..., 17.6048, -1.7476,  5.2000],\n",
              "       device='cuda:0')"
            ]
          },
          "execution_count": 52,
          "metadata": {},
          "output_type": "execute_result"
        },
        {
          "data": {
            "text/plain": [
              "tensor([[ 3.3064e-01, -4.5514e+00,  3.3514e+01,  ...,  1.0617e+00,\n",
              "          1.9923e-04,  1.0500e+00],\n",
              "        [ 2.0734e+00,  8.4373e+00,  4.8892e+01,  ...,  9.7135e-01,\n",
              "          4.1327e-02,  9.9009e-01],\n",
              "        [ 1.2196e+00, -5.4198e+00,  3.3256e+01,  ...,  9.2580e-01,\n",
              "          4.0480e-02,  1.0205e+00],\n",
              "        ...,\n",
              "        [ 1.0034e+01,  1.0664e+02,  8.3738e+01,  ...,  9.7649e-01,\n",
              "          7.7972e-02,  1.0998e+00],\n",
              "        [ 3.3176e+00, -4.8156e+01,  5.6267e+01,  ...,  9.4362e-01,\n",
              "          3.5796e-02,  1.0253e+00],\n",
              "        [ 1.3750e+00,  4.8081e+00, -1.8318e+01,  ...,  1.0971e+00,\n",
              "          4.1030e-03,  9.5399e-01]], device='cuda:0')"
            ]
          },
          "execution_count": 52,
          "metadata": {},
          "output_type": "execute_result"
        },
        {
          "data": {
            "text/plain": [
              "tensor([-2.4833, -2.7283,  1.7304,  ..., -1.6070,  1.3575,  4.5469],\n",
              "       device='cuda:0')"
            ]
          },
          "execution_count": 52,
          "metadata": {},
          "output_type": "execute_result"
        },
        {
          "data": {
            "text/plain": [
              "tensor([[ 2.1124e+00,  1.3073e+01,  4.2052e+00,  ...,  1.0404e+00,\n",
              "          9.9930e-02,  1.0732e+00],\n",
              "        [ 3.5982e-01,  6.0553e+01,  1.2969e+01,  ...,  1.0340e+00,\n",
              "          5.9641e-02,  9.7794e-01],\n",
              "        [ 3.1188e+00,  1.8055e+02,  1.2135e+02,  ...,  1.0513e+00,\n",
              "          3.2577e-02,  9.5538e-01],\n",
              "        ...,\n",
              "        [ 1.4539e+00,  4.5650e+01,  2.2660e+01,  ...,  9.4001e-01,\n",
              "          1.6526e-02,  1.0333e+00],\n",
              "        [ 4.3354e+00, -2.2592e+00,  1.1045e+02,  ...,  1.0260e+00,\n",
              "          1.5386e-02,  9.2397e-01],\n",
              "        [ 2.4083e-01,  7.0432e+01,  4.6610e+01,  ...,  9.2963e-01,\n",
              "          7.8472e-02,  9.6541e-01]], device='cuda:0')"
            ]
          },
          "execution_count": 52,
          "metadata": {},
          "output_type": "execute_result"
        },
        {
          "data": {
            "text/plain": [
              "tensor([-0.8803,  3.6254,  0.9604,  ...,  8.0030,  5.4505,  4.0123],\n",
              "       device='cuda:0')"
            ]
          },
          "execution_count": 52,
          "metadata": {},
          "output_type": "execute_result"
        }
      ],
      "source": [
        "\n",
        "x_train.shape\n",
        "y_train.shape\n",
        "x_val.shape\n",
        "y_val.shape\n",
        "x_test.shape\n",
        "y_test.shape\n",
        "x_train\n",
        "y_train\n",
        "x_val\n",
        "y_val\n",
        "x_test\n",
        "y_test"
      ]
    },
    {
      "cell_type": "code",
      "execution_count": null,
      "metadata": {
        "colab": {
          "base_uri": "https://localhost:8080/"
        },
        "id": "kkEyiAXhyUfE",
        "outputId": "c9f815c9-00ec-4698-b9fe-7487cda5b5d6"
      },
      "outputs": [
        {
          "data": {
            "text/plain": [
              "tensor(False, device='cuda:0')"
            ]
          },
          "execution_count": 53,
          "metadata": {},
          "output_type": "execute_result"
        },
        {
          "data": {
            "text/plain": [
              "tensor(False, device='cuda:0')"
            ]
          },
          "execution_count": 53,
          "metadata": {},
          "output_type": "execute_result"
        },
        {
          "data": {
            "text/plain": [
              "tensor(False, device='cuda:0')"
            ]
          },
          "execution_count": 53,
          "metadata": {},
          "output_type": "execute_result"
        },
        {
          "data": {
            "text/plain": [
              "tensor(False, device='cuda:0')"
            ]
          },
          "execution_count": 53,
          "metadata": {},
          "output_type": "execute_result"
        },
        {
          "data": {
            "text/plain": [
              "tensor(False, device='cuda:0')"
            ]
          },
          "execution_count": 53,
          "metadata": {},
          "output_type": "execute_result"
        },
        {
          "data": {
            "text/plain": [
              "tensor(False, device='cuda:0')"
            ]
          },
          "execution_count": 53,
          "metadata": {},
          "output_type": "execute_result"
        }
      ],
      "source": [
        "torch.isnan(x_train).any()\n",
        "torch.isnan(x_val).any()\n",
        "torch.isnan(x_test).any()\n",
        "torch.isnan(y_train).any()\n",
        "torch.isnan(y_val).any()\n",
        "torch.isnan(y_test).any()"
      ]
    },
    {
      "cell_type": "code",
      "execution_count": null,
      "metadata": {
        "colab": {
          "base_uri": "https://localhost:8080/"
        },
        "id": "3XWXkFHxyUfF",
        "outputId": "be66ed39-9868-4ffc-a8c5-69f4669d2b7c"
      },
      "outputs": [
        {
          "data": {
            "text/plain": [
              "(tensor([], device='cuda:0', dtype=torch.int64),\n",
              " tensor([], device='cuda:0', dtype=torch.int64))"
            ]
          },
          "execution_count": 54,
          "metadata": {},
          "output_type": "execute_result"
        },
        {
          "data": {
            "text/plain": [
              "(tensor([], device='cuda:0', dtype=torch.int64),\n",
              " tensor([], device='cuda:0', dtype=torch.int64))"
            ]
          },
          "execution_count": 54,
          "metadata": {},
          "output_type": "execute_result"
        },
        {
          "data": {
            "text/plain": [
              "(tensor([], device='cuda:0', dtype=torch.int64),\n",
              " tensor([], device='cuda:0', dtype=torch.int64))"
            ]
          },
          "execution_count": 54,
          "metadata": {},
          "output_type": "execute_result"
        }
      ],
      "source": [
        "nan_mask_train = torch.isnan(x_train)     # get a boolean mask indicating NaN values\n",
        "nan_indices_train = torch.where(nan_mask_train)  # get the indices of the NaN values\n",
        "nan_indices_train\n",
        "# len(nan_indices_train)\n",
        "\n",
        "nan_mask_val = torch.isnan(x_val)     # get a boolean mask indicating NaN values\n",
        "nan_indices_val = torch.where(nan_mask_val)  # get the indices of the NaN values\n",
        "nan_indices_val\n",
        "# len(nan_indices_test)\n",
        "\n",
        "nan_mask_test = torch.isnan(x_test)     # get a boolean mask indicating NaN values\n",
        "nan_indices_test = torch.where(nan_mask_test)  # get the indices of the NaN values\n",
        "nan_indices_test\n",
        "# len(nan_indices_test)"
      ]
    },
    {
      "cell_type": "markdown",
      "metadata": {
        "id": "DgbP6n8NyUfF"
      },
      "source": [
        "## Visualizing the data"
      ]
    },
    {
      "cell_type": "markdown",
      "metadata": {
        "id": "l2nFF6bKyUfF"
      },
      "source": [
        "### Visualizing sampled data"
      ]
    },
    {
      "cell_type": "code",
      "execution_count": null,
      "metadata": {
        "colab": {
          "base_uri": "https://localhost:8080/"
        },
        "id": "-YpNRz6pyUfG",
        "outputId": "2e6f449c-8902-4a7a-9c4e-6d43057f5b2b"
      },
      "outputs": [
        {
          "name": "stdout",
          "output_type": "stream",
          "text": [
            "skipping\n"
          ]
        }
      ],
      "source": [
        "%%script echo skipping\n",
        "\n",
        "if not LOAD_DATA_FROM_CSV:\n",
        "    rho\n",
        "    epsilon\n",
        "    vx\n",
        "    vy\n",
        "    vz \n",
        "    Bx\n",
        "    By\n",
        "    Bz\n",
        "    gxx\n",
        "    gxy\n",
        "    gxz\n",
        "    gyy\n",
        "    gyz\n",
        "    gzz "
      ]
    },
    {
      "cell_type": "code",
      "execution_count": null,
      "metadata": {
        "colab": {
          "base_uri": "https://localhost:8080/"
        },
        "id": "naHhJF9OyUfG",
        "outputId": "1f97862b-00f0-477d-f169-f3ef8c6e7e9f"
      },
      "outputs": [
        {
          "name": "stdout",
          "output_type": "stream",
          "text": [
            "1000000\n",
            "1000000\n",
            "1000000\n",
            "1000000\n",
            "1000000\n",
            "1000000\n",
            "1000000\n",
            "1000000\n",
            "\n",
            "1000000\n",
            "1000000\n",
            "1000000\n",
            "1000000\n",
            "1000000\n",
            "1000000\n"
          ]
        }
      ],
      "source": [
        "if not LOAD_DATA_FROM_CSV:\n",
        "    print(len(rho))\n",
        "    print(len(epsilon))\n",
        "    print(len(vx))\n",
        "    print(len(vy))\n",
        "    print(len(vz))\n",
        "    print(len(Bx))\n",
        "    print(len(By))\n",
        "    print(len(Bz))\n",
        "    print()\n",
        "    print(len(gxx))\n",
        "    print(len(gxy))\n",
        "    print(len(gxz))\n",
        "    print(len(gyy))\n",
        "    print(len(gyz))\n",
        "    print(len(gzz))"
      ]
    },
    {
      "cell_type": "code",
      "execution_count": null,
      "metadata": {
        "id": "VMp6XJ6RUZh4"
      },
      "outputs": [],
      "source": [
        "%config InteractiveShell.ast_node_interactivity = \"last_expr_or_assign\""
      ]
    },
    {
      "cell_type": "code",
      "execution_count": null,
      "metadata": {
        "colab": {
          "base_uri": "https://localhost:8080/"
        },
        "id": "FaQilworyUfH",
        "outputId": "eb56b3b3-8e71-4fa4-a281-10b587fc8a73"
      },
      "outputs": [
        {
          "name": "stdout",
          "output_type": "stream",
          "text": [
            "skipping\n"
          ]
        }
      ],
      "source": [
        "%%script echo skipping\n",
        "\n",
        "plt.hist([np.random.uniform(0, 0.999) for _ in range(n_train_samples)], bins=20)"
      ]
    },
    {
      "cell_type": "code",
      "execution_count": null,
      "metadata": {
        "colab": {
          "base_uri": "https://localhost:8080/"
        },
        "id": "GrQZUO22yUfH",
        "outputId": "2d647bca-479f-4ee8-c99f-9ebd4a59c6b9"
      },
      "outputs": [
        {
          "name": "stdout",
          "output_type": "stream",
          "text": [
            "skipping\n"
          ]
        }
      ],
      "source": [
        "%%script echo skipping\n",
        "\n",
        "epsilon"
      ]
    },
    {
      "cell_type": "markdown",
      "metadata": {
        "id": "lAJHK1SZyUfH"
      },
      "source": [
        "The reason the sampling is not uniformly distributed in the following plots is due to the resampling and the fact that we certain values of e.g. velocity are more likely to violate the speed of light constraint than others."
      ]
    },
    {
      "cell_type": "code",
      "execution_count": null,
      "metadata": {
        "colab": {
          "base_uri": "https://localhost:8080/",
          "height": 530
        },
        "id": "E5YFdqKjUZh5",
        "outputId": "1ca9a4bd-ed14-49bc-b133-4dc2be612263"
      },
      "outputs": [
        {
          "data": {
            "image/png": "[encoded data removed]",
            "text/plain": [
              "<Figure size 2000x1600 with 14 Axes>"
            ]
          },
          "metadata": {},
          "output_type": "display_data"
        }
      ],
      "source": [
        "#%%script echo skipping\n",
        "\n",
        "if not LOAD_DATA_FROM_CSV:\n",
        "    def plot_histogram(data, xlabel, ylabel, position, bins=20, xlog_scale=False, ylog_scale=False):\n",
        "        plt.subplot(4, 5, position)\n",
        "        plt.hist(data, bins=bins)\n",
        "        plt.xlabel(xlabel)\n",
        "        plt.ylabel(ylabel)\n",
        "        if xlog_scale: # Setting does not work expected for epsilon.\n",
        "            plt.xscale(\"log\")\n",
        "        if ylog_scale: # Setting does not work expected for epsilon.\n",
        "            plt.yscale(\"log\")\n",
        "\n",
        "    # Plotting the histograms of rho, vx, epsilon, b0, b1, b2, and b3\n",
        "    bins = 20\n",
        "    plt.figure(figsize=(20, 16))\n",
        "\n",
        "    plot_histogram(rho, \"rho\", \"Frequency\", 1, bins=bins)\n",
        "    plot_histogram(epsilon, \"epsilon\", \"Frequency\", 2, bins=bins)\n",
        "    plot_histogram(vx, \"vx\", \"Frequency\", 3, bins=bins)\n",
        "    plot_histogram(vy, \"vy\", \"Frequency\", 4, bins=bins)\n",
        "    plot_histogram(vz, \"vz\", \"Frequency\", 5, bins=bins)\n",
        "    plot_histogram(Bx, \"Bx\", \"Frequency\", 6, bins=bins)\n",
        "    plot_histogram(By, \"By\", \"Frequency\", 7, bins=bins)\n",
        "    plot_histogram(Bz, \"Bz\", \"Frequency\", 8, bins=bins)\n",
        "\n",
        "    # Plot these\n",
        "    plot_histogram(gxx, \"gxx\", \"Frequency\", 9, bins=bins)\n",
        "    plot_histogram(gxy, \"gxy\", \"Frequency\", 10, bins=bins)\n",
        "    plot_histogram(gxz, \"gxz\", \"Frequency\", 11, bins=bins)\n",
        "    plot_histogram(gyy, \"gyy\", \"Frequency\", 12, bins=bins)\n",
        "    plot_histogram(gyz, \"gyz\", \"Frequency\", 13, bins=bins)\n",
        "    plot_histogram(gzz, \"gzz\", \"Frequency\", 14, bins=bins)\n",
        "\n",
        "\n",
        "    plt.suptitle(\"Primitive variables and metric\")\n",
        "    plt.tight_layout()\n",
        "    plt.show()\n"
      ]
    },
    {
      "cell_type": "code",
      "execution_count": null,
      "metadata": {
        "id": "gcEYWxrayUfI"
      },
      "outputs": [],
      "source": [
        "%config InteractiveShell.ast_node_interactivity = \"last_expr_or_assign\""
      ]
    },
    {
      "cell_type": "code",
      "execution_count": null,
      "metadata": {
        "colab": {
          "base_uri": "https://localhost:8080/",
          "height": 990
        },
        "id": "cQqnwx5ayUfI",
        "outputId": "0857df67-8e83-4209-c634-4df471252011"
      },
      "outputs": [
        {
          "data": {
            "image/png": "[encoded data removed]",
            "text/plain": [
              "<Figure size 1600x1600 with 14 Axes>"
            ]
          },
          "metadata": {},
          "output_type": "display_data"
        }
      ],
      "source": [
        "#%%script echo skipping\n",
        "\n",
        "# Variable names\n",
        "variable_names = [\"D\", \"Sx\", \"Sy\", \"Sz\", \"tau\", \"Bconsx\", \"Bconsy\", \"Bconsz\", \"gxx\", \"gxy\", \"gxz\", \"gyy\", \"gyz\", \"gzz\"]\n",
        "\n",
        "# Plotting histograms of the input variables before z-score normalization\n",
        "plt.figure(figsize=(16, 16))\n",
        "plt.suptitle('Histograms of input variables before (or without at all) z-score normalization', y=1.03)\n",
        "\n",
        "for i in range(N_INPUTS):\n",
        "    plt.subplot(7, 2, i+1)\n",
        "    data = x_train[:, i].cpu().numpy() # Convert tensor to numpy array for percentile calculation\n",
        "    lower_bound, upper_bound = np.percentile(data, [1, 100]) # NOTE: Use this instead to visualize all the data.\n",
        "    # lower_bound, upper_bound = np.percentile(data, [1, 90]) # Calculate 1st and 99th percentile\n",
        "\n",
        "    plt.hist(data, bins=50, range=(lower_bound, upper_bound)) # Set range to the calculated percentile range\n",
        "    plt.xlabel(variable_names[i])\n",
        "    plt.xlim(lower_bound, upper_bound) # Set the x limit to match the range of the histogram\n",
        "\n",
        "plt.subplots_adjust(hspace=0.4, wspace=0.4)\n",
        "plt.show()\n",
        "\n",
        "# Same plotting but for the test data. Adjust the percentile range as needed to zoom in.\n",
        "# plt.figure(figsize=(16, 16))\n",
        "# plt.suptitle('Histograms of input variables before (or without at all) z-score normalization (test data)', y=1.03)\n",
        "\n",
        "# for i in range(14):\n",
        "#     plt.subplot(7, 2, i+1)\n",
        "#     data = x_test[:, i].cpu().numpy() # Convert tensor to numpy array for percentile calculation\n",
        "#     #lower_bound, upper_bound = np.percentile(data, [1, 100]) # NOTE: Use this instead to visualize all the data.\n",
        "#     lower_bound, upper_bound = np.percentile(data, [1, 99]) # Use this to zoom in.\n",
        "\n",
        "#     plt.hist(data, bins=50, range=(lower_bound, upper_bound)) # Set range to the calculated percentile range\n",
        "#     plt.xlabel(variable_names[i])\n",
        "#     plt.xlim(lower_bound, upper_bound) # Set the x limit to match the range of the histogram\n",
        "\n",
        "# plt.subplots_adjust(hspace=0.4, wspace=0.4)\n",
        "# plt.show()\n",
        "\n"
      ]
    },
    {
      "cell_type": "markdown",
      "metadata": {
        "id": "3C3jSavqlXa9"
      },
      "source": []
    },
    {
      "cell_type": "markdown",
      "metadata": {
        "id": "plEmGleqyUfJ"
      },
      "source": [
        "### Data normalization"
      ]
    },
    {
      "cell_type": "code",
      "execution_count": null,
      "metadata": {
        "colab": {
          "base_uri": "https://localhost:8080/"
        },
        "id": "S5ouzqffyUfJ",
        "outputId": "f097f377-9466-4dd3-b257-0d6f7a7af502"
      },
      "outputs": [
        {
          "name": "stdout",
          "output_type": "stream",
          "text": [
            "Summary statistics of input variables before z-score normalization\n",
            "tensor([[ 4.3775e-06,  1.8108e+03,  2.2810e+00,  1.6668e+00,  4.7989e+00],\n",
            "        [-2.2112e+06,  1.0419e+06,  4.0701e+01,  2.2035e+01,  3.1277e+03],\n",
            "        [-5.5593e+05,  4.7101e+06,  4.8351e+01,  2.1971e+01,  5.9039e+03],\n",
            "        [-6.2128e+05,  1.7829e+06,  4.4380e+01,  2.1917e+01,  2.6646e+03],\n",
            "        [-2.2805e+06,  4.9066e+06,  1.0369e+02,  6.9854e+01,  6.8886e+03],\n",
            "        [-1.1372e+01,  1.1315e+01, -1.1586e-02, -2.0545e-02,  5.7322e+00],\n",
            "        [-1.1349e+01,  1.1251e+01,  9.7075e-03,  7.2483e-03,  5.7326e+00],\n",
            "        [-1.1348e+01,  1.1284e+01,  3.4099e-03,  8.3934e-03,  5.7359e+00],\n",
            "        [ 9.0000e-01,  1.1000e+00,  9.9861e-01,  9.9787e-01,  5.7689e-02],\n",
            "        [ 4.9498e-08,  1.0000e-01,  4.9589e-02,  4.9446e-02,  2.8868e-02],\n",
            "        [ 4.1959e-08,  1.0000e-01,  4.9642e-02,  4.9501e-02,  2.8847e-02],\n",
            "        [ 9.0000e-01,  1.1000e+00,  9.9870e-01,  9.9800e-01,  5.7654e-02],\n",
            "        [ 6.4282e-08,  1.0000e-01,  4.9647e-02,  4.9435e-02,  2.8866e-02],\n",
            "        [ 9.0000e-01,  1.1000e+00,  9.9872e-01,  9.9809e-01,  5.7709e-02]],\n",
            "       device='cuda:0')\n"
          ]
        }
      ],
      "source": [
        "# Computing summary statistics of the input variables before and after z-score normalization\n",
        "print('Summary statistics of input variables before z-score normalization')\n",
        "print(torch.stack([torch.min(x_train, dim=0).values, torch.max(x_train, dim=0).values, torch.nanmean(x_train, dim=0), torch.median(x_train, dim=0).values, torch.std(x_train, dim=0)], dim=1))"
      ]
    },
    {
      "cell_type": "markdown",
      "metadata": {
        "id": "xTEmkR1SUZh7"
      },
      "source": [
        "Perform z-score normalization"
      ]
    },
    {
      "cell_type": "code",
      "execution_count": null,
      "metadata": {
        "id": "n_ifIyZPyUfJ"
      },
      "outputs": [],
      "source": [
        "%config InteractiveShell.ast_node_interactivity = \"all\""
      ]
    },
    {
      "cell_type": "code",
      "execution_count": null,
      "metadata": {
        "id": "yPOv6DxhUZh7"
      },
      "outputs": [],
      "source": [
        "if ZSCORE_NORMALIZATION:\n",
        "    \n",
        "    # TODO: Add magnetic field variables to the normalization if I decide to use the old code that is commented out here.\n",
        "    # # Computing the median of each input variable from the training set using torch.nanmedian function\n",
        "    # D_median = torch.nanmedian(x_train[:, 0])\n",
        "    # Sx_median = torch.nanmedian(x_train[:, 1])\n",
        "    # Sy_median = torch.nanmedian(x_train[:, 2])\n",
        "    # Sz_median = torch.nanmedian(x_train[:, 3])\n",
        "    # tau_median = torch.nanmedian(x_train[:, 4])\n",
        "\n",
        "    # # Computing the standard deviation of each input variable from the training set using torch.std function with a boolean mask to ignore nan values\n",
        "    # D_std = torch.std(x_train[~torch.isnan(x_train[:, 0]), 0])\n",
        "    # Sx_std = torch.std(x_train[~torch.isnan(x_train[:, 1]), 1])\n",
        "    # Sy_std = torch.std(x_train[~torch.isnan(x_train[:, 2]), 2])\n",
        "    # Sz_std = torch.std(x_train[~torch.isnan(x_train[:, 3]), 3])\n",
        "    # tau_std = torch.std(x_train[~torch.isnan(x_train[:, 4]), 4])\n",
        "\n",
        "\n",
        "    # # Applying z-score normalization to both train and test sets using the statistics from the training set\n",
        "    # x_train[:, 0] = torch.sub(x_train[:, 0], D_median).div(D_std)\n",
        "    # x_train[:, 1] = torch.sub(x_train[:, 1], Sx_median).div(Sx_std)\n",
        "    # x_train[:, 2] = torch.sub(x_train[:, 2], Sy_median).div(Sy_std)\n",
        "    # x_train[:, 3] = torch.sub(x_train[:, 3], Sz_median).div(Sz_std)\n",
        "    # x_train[:, 4] = torch.sub(x_train[:, 4], tau_median).div(tau_std)\n",
        "\n",
        "    # x_test[:, 0] = torch.sub(x_test[:, 0], D_median).div(D_std)\n",
        "    # x_test[:, 1] = torch.sub(x_test[:, 1], Sx_median).div(Sx_std)\n",
        "    # x_test[:, 2] = torch.sub(x_test[:, 2], Sy_median).div(Sy_std)\n",
        "    # x_test[:, 3] = torch.sub(x_test[:, 3], Sz_median).div(Sz_std)\n",
        "    # x_test[:, 4] = torch.sub(x_test[:, 4], tau_median).div(tau_std)\n",
        "\n",
        "    # Computing the mean and standard deviation of each column\n",
        "    mean = x_train.mean(dim=0)\n",
        "    std = x_train.std(dim=0)\n",
        "\n",
        "    # Applying z-score normalization\n",
        "    x_train = (x_train - mean) / std\n",
        "    # Use the same mean and std from the training data as we don't want test data leakage.\n",
        "    x_test = (x_test - mean) / std\n",
        "\n"
      ]
    },
    {
      "cell_type": "markdown",
      "metadata": {
        "id": "fT2ZWWs_yUfV"
      },
      "source": [
        "Plotting the histograms of the input data after normalization if z-score normalization was performed."
      ]
    },
    {
      "cell_type": "code",
      "execution_count": null,
      "metadata": {
        "id": "tECmchuwyUfV"
      },
      "outputs": [],
      "source": [
        "%config InteractiveShell.ast_node_interactivity = \"last_expr_or_assign\""
      ]
    },
    {
      "cell_type": "code",
      "execution_count": null,
      "metadata": {
        "id": "YlPs0YzAyUfV"
      },
      "outputs": [],
      "source": [
        "if not LOAD_DATA_FROM_CSV:\n",
        "    if ZSCORE_NORMALIZATION:\n",
        "        # Variable names\n",
        "        variable_names = [\"D\", \"Sx\", \"Sy\", \"Sz\", \"tau\", \"Bconsx\", \"Bconsy\", \"Bconsz\", \"gxx\", \"gxy\", \"gxz\", \"gyy\", \"gyz\", \"gzz\"]\n",
        "\n",
        "        # Plotting histograms of the input variables before z-score normalization\n",
        "        plt.figure(figsize=(16, 16))\n",
        "        plt.suptitle('Histograms of input variables before (or without at all) z-score normalization', y=1.03)\n",
        "\n",
        "        for i in range(N_INPUTS):\n",
        "            plt.subplot(7, 2, i+1)\n",
        "            data = x_train[:, i].cpu().numpy() # Convert tensor to numpy array for percentile calculation\n",
        "            lower_bound, upper_bound = np.percentile(data, [1, 100]) # NOTE: Use this instead to visualize all the data.\n",
        "            # lower_bound, upper_bound = np.percentile(data, [1, 90]) # Calculate 1st and 99th percentile\n",
        "\n",
        "            plt.hist(data, bins=50, range=(lower_bound, upper_bound)) # Set range to the calculated percentile range\n",
        "            plt.xlabel(variable_names[i])\n",
        "            plt.xlim(lower_bound, upper_bound) # Set the x limit to match the range of the histogram\n",
        "\n",
        "        plt.subplots_adjust(hspace=0.4, wspace=0.4)\n",
        "        plt.show()"
      ]
    },
    {
      "cell_type": "code",
      "execution_count": null,
      "metadata": {
        "id": "3UR-wo0SyUfW"
      },
      "outputs": [],
      "source": [
        "if ZSCORE_NORMALIZATION:\n",
        "    # Computing summary statistics of the input variables after z-score normalization\n",
        "    print('Summary statistics of input variables after z-score normalization')\n",
        "    print(torch.stack([torch.min(x_train, dim=0).values, torch.max(x_train, dim=0).values, torch.mean(x_train, dim=0), torch.median(x_train, dim=0).values, torch.std(x_train, dim=0)], dim=1))\n"
      ]
    },
    {
      "cell_type": "markdown",
      "metadata": {
        "id": "JSKTD00gyUfW"
      },
      "source": [
        "### Visualizing input data and labels"
      ]
    },
    {
      "cell_type": "code",
      "execution_count": null,
      "metadata": {
        "colab": {
          "base_uri": "https://localhost:8080/"
        },
        "id": "D5zmSieOyUfW",
        "outputId": "f7475e41-66a3-45cf-949d-675ec918a041"
      },
      "outputs": [
        {
          "data": {
            "text/plain": [
              "tensor([-0.8803,  3.6254,  0.9604,  ...,  8.0030,  5.4505,  4.0123],\n",
              "       device='cuda:0')"
            ]
          },
          "execution_count": 69,
          "metadata": {},
          "output_type": "execute_result"
        }
      ],
      "source": [
        "x_train\n",
        "y_train\n",
        "x_val\n",
        "y_val\n",
        "x_test\n",
        "y_test"
      ]
    },
    {
      "cell_type": "markdown",
      "metadata": {
        "id": "E96p_MsOUZh9",
        "outputId": "4b95bad0-8f3a-4364-eed1-008e0ce2a5e3"
      },
      "source": [
        "Checking if our output is always positive ~~by plotting a histogram of y_train and y_test tensors~~"
      ]
    },
    {
      "cell_type": "code",
      "execution_count": null,
      "metadata": {
        "colab": {
          "base_uri": "https://localhost:8080/"
        },
        "id": "uXdQF0fdyUfW",
        "outputId": "44641ea8-f05a-4138-ce3a-19b718c286f2"
      },
      "outputs": [
        {
          "name": "stdout",
          "output_type": "stream",
          "text": [
            "tensor(True)\n"
          ]
        }
      ],
      "source": [
        "import torch\n",
        "\n",
        "# Create a sample tensor\n",
        "tensor = torch.randn(80000, 14)  # Assuming a tensor of shape [80000, 14]\n",
        "tensor\n",
        "\n",
        "\n",
        "# Check if any element is negative\n",
        "any_negative = torch.any(tensor < 0)\n",
        "\n",
        "# Print the result\n",
        "print(any_negative)\n"
      ]
    },
    {
      "cell_type": "code",
      "execution_count": null,
      "metadata": {
        "colab": {
          "base_uri": "https://localhost:8080/"
        },
        "id": "zZ8DI737yUfX",
        "outputId": "1ad70447-9099-4479-8d57-4fff58197b35"
      },
      "outputs": [
        {
          "data": {
            "text/plain": [
              "tensor(True, device='cuda:0')"
            ]
          },
          "execution_count": 71,
          "metadata": {},
          "output_type": "execute_result"
        }
      ],
      "source": [
        "y_train.shape\n",
        "any_negative = torch.any(y_train < 0)\n",
        "any_negative\n",
        "\n",
        "y_test.shape\n",
        "any_negative = torch.any(y_test < 0)\n",
        "any_negative\n",
        "\n",
        "x_train.shape\n",
        "any_negative = torch.any(x_train < 0)\n",
        "any_negative"
      ]
    },
    {
      "cell_type": "code",
      "execution_count": null,
      "metadata": {
        "colab": {
          "base_uri": "https://localhost:8080/",
          "height": 406
        },
        "id": "ljSZWb-cyUfX",
        "outputId": "53ebdd41-fc30-49cc-cbe2-75cb874c121d"
      },
      "outputs": [
        {
          "data": {
            "image/png": "[encoded data removed]",
            "text/plain": [
              "<Figure size 800x400 with 3 Axes>"
            ]
          },
          "metadata": {},
          "output_type": "display_data"
        }
      ],
      "source": [
        "#%%script echo skipping\n",
        "\n",
        "plt.figure(figsize=(8, 4))\n",
        "plt.subplot(1, 3, 1)\n",
        "plt.hist(y_train.cpu().numpy(), bins=100) # must be cpu here.\n",
        "plt.xlabel(\"y_train\")\n",
        "plt.ylabel(\"Frequency\")\n",
        "plt.xscale(\"log\")\n",
        "plt.subplot(1, 3, 2)\n",
        "plt.hist(y_val.cpu().numpy(), bins=100) # must be cpu here\n",
        "plt.xlabel(\"y_val\")\n",
        "plt.ylabel(\"Frequency\")\n",
        "plt.xscale(\"log\")\n",
        "plt.tight_layout()\n",
        "plt.subplot(1, 3, 3)\n",
        "plt.hist(y_test.cpu().numpy(), bins=100) # must be cpu here\n",
        "plt.xlabel(\"y_test\")\n",
        "plt.ylabel(\"Frequency\")\n",
        "plt.xscale(\"log\")\n",
        "plt.tight_layout()\n",
        "plt.show()\n"
      ]
    },
    {
      "cell_type": "code",
      "execution_count": null,
      "metadata": {
        "id": "FEgjk--AUZh9"
      },
      "outputs": [],
      "source": [
        "%config InteractiveShell.ast_node_interactivity = \"all\""
      ]
    },
    {
      "cell_type": "markdown",
      "metadata": {
        "id": "r2b9GecHUZh9"
      },
      "source": [
        "## Defining the neural network"
      ]
    },
    {
      "cell_type": "markdown",
      "metadata": {
        "id": "4l7rti5iHi_T"
      },
      "source": []
    },
    {
      "cell_type": "code",
      "execution_count": null,
      "metadata": {
        "id": "Iv8HA-ZXUZh-"
      },
      "outputs": [],
      "source": [
        "# Defining a class for the network\n",
        "class Net(nn.Module):\n",
        "    \"\"\"A class for creating a network with a\n",
        "    variable number of hidden layers and units.\n",
        "\n",
        "    Attributes:\n",
        "        n_layers (int): The number of hidden layers in the network.\n",
        "        n_units (list): A list of integers representing the number of units in each hidden layer.\n",
        "        hidden_activation (torch.nn.Module): The activation function for the hidden layers.\n",
        "        output_activation (torch.nn.Module): The activation function for the output layer.\n",
        "        layers (torch.nn.ModuleList): A list of linear layers in the network.\n",
        "    \"\"\"\n",
        "\n",
        "    def __init__(self, n_layers, n_units, hidden_activation, output_activation, dropout_rate):\n",
        "        \"\"\"Initializes the network with the given hyperparameters.\n",
        "\n",
        "        Args:\n",
        "            n_layers (int): The number of hidden layers in the network.\n",
        "            n_units (list): A list of integers representing the number of units in each hidden layer.\n",
        "            hidden_activation (torch.nn.Module): The activation function for the hidden layers.\n",
        "            output_activation (torch.nn.Module): The activation function for the output layer.\n",
        "            TODO: [ver. Copilot description] dropout_rate (float): The dropout rate to use for all layers.\n",
        "        \"\"\"\n",
        "        super().__init__()\n",
        "        self.n_layers = n_layers\n",
        "        self.n_units = n_units\n",
        "        self.hidden_activation = hidden_activation\n",
        "        self.output_activation = output_activation\n",
        "        self.dropout_rate = dropout_rate\n",
        "\n",
        "        # Creating a list of linear layers with different numbers of units for each layer\n",
        "        self.layers = nn.ModuleList()\n",
        "        self.dropouts = nn.ModuleList()\n",
        "\n",
        "        self.layers.append(nn.Linear(N_INPUTS, n_units[0]))\n",
        "        self.dropouts.append(nn.Dropout(p=dropout_rate))\n",
        "\n",
        "        for i in range(1, n_layers):\n",
        "            self.layers.append(nn.Linear(n_units[i - 1], n_units[i]))\n",
        "            self.dropouts.append(nn.Dropout(p=dropout_rate))\n",
        "\n",
        "        self.layers.append(nn.Linear(n_units[-1], N_OUTPUTS))\n",
        "\n",
        "        # Adding some assertions to check that the input arguments are valid\n",
        "        assert isinstance(n_layers, int) and n_layers > 0, \"n_layers must be a positive integer\"\n",
        "        assert isinstance(n_units, list) and len(n_units) == n_layers, \"n_units must be a list of length n_layers\"\n",
        "        assert all(isinstance(n, int) and n > 0 for n in n_units), \"n_units must contain positive integers\"\n",
        "        assert isinstance(hidden_activation, nn.Module), \"hidden_activation must be a torch.nn.Module\"\n",
        "        assert isinstance(output_activation, nn.Module), \"output_activation must be a torch.nn.Module\"\n",
        "\n",
        "    def forward(self, x):\n",
        "        \"\"\"Performs a forward pass on the input tensor.\n",
        "\n",
        "        Args:\n",
        "            x (torch.Tensor): The input tensor of shape (batch_size, N_INPUTS).\n",
        "\n",
        "        Returns:\n",
        "            torch.Tensor: The output tensor of shape (batch_size, N_OUTPUTS).\n",
        "        \"\"\"\n",
        "        # Adding an assertion to check that the input tensor has the expected shape and type\n",
        "        assert isinstance(x, torch.Tensor), \"x must be a torch.Tensor\"\n",
        "        assert x.shape[1] == N_INPUTS, f\"x must have shape (batch_size, {N_INPUTS})\"\n",
        "\n",
        "        for layer, dropout in zip(self.layers[:-1], self.dropouts):\n",
        "            x = dropout(self.hidden_activation(layer(x)))\n",
        "        # Applying the linear transformation and the activation function on the output layer\n",
        "        x = self.output_activation(self.layers[-1](x)) # No dropout at output layer\n",
        "\n",
        "        return x # Returning the output tensor\n"
      ]
    },
    {
      "cell_type": "code",
      "execution_count": null,
      "metadata": {
        "colab": {
          "base_uri": "https://localhost:8080/"
        },
        "id": "aVUQAVhzyUfY",
        "outputId": "50772026-ca5f-4efe-d1db-7842f96e8c83"
      },
      "outputs": [
        {
          "name": "stdout",
          "output_type": "stream",
          "text": [
            "skipping\n"
          ]
        }
      ],
      "source": [
        "%%script echo skipping\n",
        "\n",
        "[1,2,3]\n",
        "[1,2,3][:-1]"
      ]
    },
    {
      "cell_type": "code",
      "execution_count": null,
      "metadata": {
        "colab": {
          "base_uri": "https://localhost:8080/"
        },
        "id": "BEBudkK1yUfY",
        "outputId": "46068bb9-fcbd-44e4-a084-2129b9f0216d"
      },
      "outputs": [
        {
          "name": "stdout",
          "output_type": "stream",
          "text": [
            "1\n",
            "2\n"
          ]
        }
      ],
      "source": [
        "for x in [1,2,3][:-1]:\n",
        "    print(x)\n",
        "\n"
      ]
    },
    {
      "cell_type": "markdown",
      "metadata": {
        "id": "6GNvp55PUZh_"
      },
      "source": [
        "## Defining the model and search space"
      ]
    },
    {
      "cell_type": "code",
      "execution_count": null,
      "metadata": {
        "id": "9a1opluOUZh_"
      },
      "outputs": [],
      "source": [
        "# Defining a function to create a trial network and optimizer\n",
        "def create_model(trial, optimize):\n",
        "    \"\"\"Creates a trial network and optimizer based on the sampled hyperparameters.\n",
        "\n",
        "    Args:\n",
        "        trial (optuna.trial.Trial): The trial object that contains the hyperparameters.\n",
        "        optimize (boolean): Whether to optimize the hyperparameters or to use predefined values.\n",
        "\n",
        "    Returns:\n",
        "        tuple: A tuple of (net, loss_fn, optimizer, batch_size, n_epochs,\n",
        "            scheduler, loss_name, optimizer_name, scheduler_name,\n",
        "            n_units, n_layers, hidden_activation, output_activation),\n",
        "            where net is the trial network,\n",
        "            loss_fn is the loss function,\n",
        "            optimizer is the optimizer,\n",
        "            batch_size is the batch size,\n",
        "            n_epochs is the number of epochs,\n",
        "            scheduler is the learning rate scheduler,\n",
        "            loss_name is the name of the loss function,\n",
        "            optimizer_name is the name of the optimizer,\n",
        "            scheduler_name is the name of the scheduler,\n",
        "            n_units is a list of integers representing\n",
        "            the number of units in each hidden layer,\n",
        "            n_layers is an integer representing the number of hidden layers in the network,\n",
        "            hidden_activation is a torch.nn.Module representing the activation function for the hidden layers,\n",
        "            output_activation is a torch.nn.Module representing the activation function for the output layer,\n",
        "            lr is the (initial) learning rate.\n",
        "            dropout_rate is the dropout rate.\n",
        "    \"\"\"\n",
        "    # If optimize is True, sample the hyperparameters from the search space\n",
        "    if OPTIMIZE:\n",
        "        n_layers = trial.suggest_int(\"n_layers\", 2, 10)\n",
        "        n_units = [trial.suggest_int(f\"n_units_{i}\", 16, 4096) for i in range(n_layers)]\n",
        "\n",
        "        hidden_activation_name = trial.suggest_categorical(\n",
        "            \"hidden_activation\", [\"ReLU\", \"LeakyReLU\", \"ELU\", \"PReLU\", \"Swish\", \"GELU\", \"SoftPlus\"]\n",
        "        )\n",
        "        output_activation_name = trial.suggest_categorical( \"output_activation\", [\"Linear\"])\n",
        "\n",
        "        loss_name = trial.suggest_categorical( \"loss\", [\"MSE\", \"MAE\", \"Huber\", \"Quantile\"])  # Added Quantile loss\n",
        "\n",
        "        optimizer_name = trial.suggest_categorical( \"optimizer\", [\"Adam\", \"SGD\", \"RMSprop\", \"Adagrad\"] )\n",
        "\n",
        "        lr = trial.suggest_loguniform(\"lr\", 1e-6, 1)\n",
        "\n",
        "        batch_size_list = [32, 64, 128, 256, 512, 1024, 2048]\n",
        "        batch_size = trial.suggest_categorical(\"batch_size\", batch_size_list)\n",
        "        \n",
        "        n_epochs = trial.suggest_int(\"n_epochs\", 50, 150)\n",
        "\n",
        "        # scheduler_name = trial.suggest_categorical(\"scheduler\", [\"CosineAnnealingLR\", \"ReduceLROnPlateau\", \"StepLR\", \"CyclicLR\"])\n",
        "        scheduler_name = trial.suggest_categorical(\"scheduler\", [\"CosineAnnealingLR\", \"ReduceLROnPlateau\", \"StepLR\"])\n",
        "\n",
        "        # Creating the activation functions from their names\n",
        "        if hidden_activation_name == \"ReLU\":\n",
        "            hidden_activation = nn.ReLU()\n",
        "        elif hidden_activation_name == \"LeakyReLU\":\n",
        "            negative_slope = trial.suggest_uniform(\"leakyrelu_slope\", 0.01, 0.3)\n",
        "            hidden_activation = nn.LeakyReLU(negative_slope=negative_slope)\n",
        "        elif hidden_activation_name == \"ELU\":\n",
        "            hidden_activation = nn.ELU() \n",
        "        elif hidden_activation_name == \"PReLU\":\n",
        "            init = trial.suggest_uniform(\"prelu_init\", 0.1, 0.3)\n",
        "            hidden_activation = nn.PReLU(init=init)\n",
        "        elif hidden_activation_name == \"Swish\":\n",
        "            class Swish(nn.Module):\n",
        "                def forward(self, x):\n",
        "                    return x * torch.sigmoid(x)\n",
        "            hidden_activation = Swish()\n",
        "        elif hidden_activation_name == \"GELU\":\n",
        "            hidden_activation = nn.GELU()\n",
        "        elif hidden_activation_name == \"SoftPlus\":\n",
        "            beta = trial.suggest_uniform(\"softplus_beta\", 0.5, 1.5)\n",
        "            hidden_activation = nn.Softplus(beta=beta) # We don't optimize thresshold subparameters, as it's mainly for numerical stability.\n",
        "\n",
        "        dropout_rate = trial.suggest_uniform(\"dropout_rate\", 0.0, 0.5)\n",
        "\n",
        "\n",
        "    # If optimize is False, use the predefined values\n",
        "    else:\n",
        "        # Setting the hyperparameters to the predefined values\n",
        "        n_layers = N_LAYERS_NO_OPT\n",
        "        n_units = N_UNITS_NO_OPT\n",
        "        hidden_activation_name = HIDDEN_ACTIVATION_NAME_NO_OPT\n",
        "        output_activation_name = OUTPUT_ACTIVATION_NAME_NO_OPT\n",
        "        loss_name = LOSS_NAME_NO_OPT\n",
        "        optimizer_name = OPTIMIZER_NAME_NO_OPT\n",
        "        lr = LR_NO_OPT\n",
        "        batch_size = BATCH_SIZE_NO_OPT\n",
        "        n_epochs = N_EPOCHS_NO_OPT\n",
        "        scheduler_name = SCHEDULER_NAME_NO_OPT\n",
        "\n",
        "        # Creating the activation functions from their names\n",
        "        if hidden_activation_name == \"ReLU\":\n",
        "            hidden_activation = nn.ReLU()\n",
        "        elif hidden_activation_name == \"LeakyReLU\":\n",
        "            negative_slope = 0.01\n",
        "            hidden_activation = nn.LeakyReLU(negative_slope=negative_slope)\n",
        "        elif hidden_activation_name == \"ELU\":\n",
        "            hidden_activation = nn.ELU() \n",
        "        elif hidden_activation_name == \"PReLU\":\n",
        "            init = 0.25\n",
        "            hidden_activation = nn.PReLU(init=init)\n",
        "        elif hidden_activation_name == \"Swish\":\n",
        "            class Swish(nn.Module):\n",
        "                def forward(self, x):\n",
        "                    return x * torch.sigmoid(x)\n",
        "            hidden_activation = Swish()\n",
        "        elif hidden_activation_name == \"GELU\":\n",
        "            hidden_activation = nn.GELU()\n",
        "        elif hidden_activation_name == \"SoftPlus\":\n",
        "            beta = 1\n",
        "            hidden_activation = nn.Softplus(beta=beta) # We don't optimize threshold subparameter, as it's mainly for numerical stability.\n",
        "\n",
        "        dropout_rate = DROPOUT_RATE_NO_OPT\n",
        "\n",
        "\n",
        "    # We used to have options here, but since we have a regression problem with continuous output, we only use Linear.\n",
        "    output_activation = nn.Identity()\n",
        "\n",
        "    # Creating the loss function from its name\n",
        "    if loss_name == \"MSE\":\n",
        "        loss_fn = nn.MSELoss()\n",
        "    elif loss_name == \"MAE\":\n",
        "        loss_fn = nn.L1Loss()\n",
        "    elif loss_name == \"Huber\":\n",
        "        loss_fn = nn.SmoothL1Loss() \n",
        "    elif loss_name == \"Quantile\":\n",
        "        def quantile_loss(y_pred, y_true, q=0.5):\n",
        "            e = y_pred - y_true\n",
        "            return torch.mean(torch.max(q*e, (q-1)*e))\n",
        "        loss_fn = quantile_loss\n",
        "    else:\n",
        "        def log_cosh_loss(y_pred, y_true):\n",
        "            return torch.mean(torch.log(torch.cosh(y_pred - y_true)))\n",
        "        loss_fn = log_cosh_loss\n",
        "\n",
        "    # Creating the network with the sampled hyperparameters\n",
        "    net = Net(n_layers, n_units, hidden_activation, output_activation, dropout_rate).to(device)\n",
        "\n",
        "\n",
        "    if OPTIMIZE:\n",
        "        # Creating the optimizer from its name\n",
        "        if optimizer_name == \"SGD\":\n",
        "            weight_decay = trial.suggest_loguniform(\"weight_decay\", 1e-5, 1e-2)\n",
        "            momentum = trial.suggest_uniform(\"momentum\", 0.0, 0.99)\n",
        "            optimizer = optim.SGD(net.parameters(), lr=lr, weight_decay=weight_decay, momentum=momentum)\n",
        "        elif optimizer_name == \"Adam\":\n",
        "            weight_decay = trial.suggest_loguniform(\"weight_decay\", 1e-5, 1e-2)\n",
        "            beta1 = trial.suggest_uniform(\"beta1\", 0.9, 0.999)\n",
        "            beta2 = trial.suggest_uniform(\"beta2\", 0.999, 0.9999)\n",
        "            optimizer = optim.Adam(net.parameters(), lr=lr, weight_decay=weight_decay, betas=(beta1, beta2))\n",
        "        elif optimizer_name == \"RMSprop\":\n",
        "            optimizer = optim.RMSprop(net.parameters(), lr=lr)\n",
        "        else:\n",
        "            optimizer = optim.Adagrad(net.parameters(), lr=lr)\n",
        "\n",
        "        # Creating the learning rate scheduler from its name\n",
        "        if scheduler_name == \"StepLR\":\n",
        "            step_size = trial.suggest_int(\"step_size\", 5, 15)\n",
        "            gamma = trial.suggest_uniform(\"gamma\", 0.1, 0.5)\n",
        "            scheduler = optim.lr_scheduler.StepLR(optimizer, step_size=step_size, gamma=gamma)\n",
        "        elif scheduler_name == \"ExponentialLR\":\n",
        "            gamma = trial.suggest_uniform(\"gamma\", 0.8, 0.99)\n",
        "            scheduler = optim.lr_scheduler.ExponentialLR(optimizer, gamma=gamma)\n",
        "        elif scheduler_name == \"CosineAnnealingLR\":\n",
        "            if n_epochs < 150:\n",
        "                t_max_fraction = trial.suggest_uniform('t_max_fraction', 0.1, 0.3)\n",
        "            elif n_epochs > 250:\n",
        "                t_max_fraction = trial.suggest_uniform('t_max_fraction', 0.05, 0.1)\n",
        "            else:\n",
        "                t_max_fraction = trial.suggest_uniform('t_max_fraction', 0.1, 0.2)\n",
        "\n",
        "            T_max = int(n_epochs * t_max_fraction)\n",
        "            eta_min = trial.suggest_loguniform(\"eta_min\", 1e-7, 1e-2)\n",
        "            scheduler = optim.lr_scheduler.CosineAnnealingLR(optimizer, T_max=T_max, eta_min=eta_min)\n",
        "        elif scheduler_name == \"ReduceLROnPlateau\":\n",
        "            factor = trial.suggest_uniform(\"factor\", 0.1, 0.5)\n",
        "            patience = trial.suggest_int(\"patience\", 5, 10)\n",
        "            threshold = trial.suggest_loguniform(\"threshold\", 1e-4, 1e-2)\n",
        "            scheduler = optim.lr_scheduler.ReduceLROnPlateau(\n",
        "                optimizer, mode=\"min\", factor=factor, patience=patience, threshold=threshold\n",
        "            )\n",
        "        elif scheduler_name == \"CyclicLR\":\n",
        "            base_lr = trial.suggest_loguniform(\"base_lr\", 1e-6, 1e-2)\n",
        "            max_lr = trial.suggest_loguniform(\"max_lr\", 1e-4, 1)\n",
        "            step_size_up = trial.suggest_int(\"step_size_up\", 200, 2000)\n",
        "            scheduler = optim.lr_scheduler.CyclicLR(optimizer, base_lr=base_lr, max_lr=max_lr, step_size_up=step_size_up)\n",
        "        else:\n",
        "            scheduler = None\n",
        "    else:\n",
        "        # Creating the optimizer from its name\n",
        "        if optimizer_name == \"SGD\":\n",
        "            optimizer = optim.SGD(net.parameters(), lr=lr)\n",
        "        elif optimizer_name == \"Adam\":\n",
        "            optimizer = optim.Adam(net.parameters(), lr=lr)\n",
        "        elif optimizer_name == \"RMSprop\":\n",
        "            optimizer = optim.RMSprop(net.parameters(), lr=lr)\n",
        "        else:\n",
        "            optimizer = optim.Adagrad(net.parameters(), lr=lr)\n",
        "\n",
        "        # Creating the learning rate scheduler from its name\n",
        "        if scheduler_name == \"StepLR\":\n",
        "            scheduler = optim.lr_scheduler.StepLR(optimizer, step_size=10, gamma=0.1)\n",
        "        elif scheduler_name == \"ExponentialLR\":\n",
        "            scheduler = optim.lr_scheduler.ExponentialLR(optimizer, gamma=0.9)\n",
        "        elif scheduler_name == \"CosineAnnealingLR\":\n",
        "            scheduler = optim.lr_scheduler.CosineAnnealingLR(optimizer)\n",
        "        elif scheduler_name == \"ReduceLROnPlateau\":\n",
        "            scheduler = optim.lr_scheduler.ReduceLROnPlateau(\n",
        "                        optimizer, mode=\"min\", factor=0.18979341786654758, patience=11, threshold=0.0017197466122611932 #, min_lr=1e-6\n",
        "                    )\n",
        "        elif scheduler_name == \"CyclicLR\":\n",
        "            # TODO: Change these appropriately.\n",
        "            base_lr = 1e-6\n",
        "            max_lr = 1e-4\n",
        "            step_size_up = 200\n",
        "            scheduler = optim.lr_scheduler.CyclicLR(optimizer, base_lr=base_lr, max_lr=max_lr, step_size_up=step_size_up)\n",
        "        else:\n",
        "            scheduler = None\n",
        "\n",
        "    # Returning all variables needed for saving and loading\n",
        "    return net, loss_fn, optimizer, batch_size, n_epochs, scheduler, loss_name, optimizer_name, scheduler_name, n_units, n_layers, hidden_activation, output_activation, lr, dropout_rate\n",
        "\n",
        "\n"
      ]
    },
    {
      "cell_type": "markdown",
      "metadata": {
        "id": "l-czA7VvUZiD"
      },
      "source": [
        " ## The training and evaluation loop\n",
        "\n",
        " We first define a couple of functions used in the training and evaluation."
      ]
    },
    {
      "cell_type": "code",
      "execution_count": null,
      "metadata": {
        "id": "aD6FQNmxUZiD"
      },
      "outputs": [],
      "source": [
        "# Defining a function that computes loss and metrics for a given batch\n",
        "def compute_loss_and_metrics(y_pred, y_true, loss_fn):\n",
        "    \"\"\"Computes loss and metrics for a given batch.\n",
        "\n",
        "    Args:\n",
        "        y_pred (torch.Tensor): The predicted pressure tensor of shape (batch_size, 1).\n",
        "        y_true (torch.Tensor): The true pressure tensor of shape (batch_size,).\n",
        "        loss_fn (torch.nn.Module or function): The loss function to use.\n",
        "\n",
        "    Returns:\n",
        "        tuple: A tuple of (loss, l1_norm), where loss is a scalar tensor,\n",
        "            l1_norm is L1 norm for relative error of pressure,\n",
        "            each being a scalar tensor.\n",
        "            linf_norm is Linf norm for relative error of pressure.\n",
        "    \"\"\"\n",
        "    # Reshaping the target tensor to match the input tensor\n",
        "    y_true = y_true.view(-1, 1)\n",
        "\n",
        "    # Computing the loss using the loss function\n",
        "    loss = loss_fn(y_pred, y_true)\n",
        "\n",
        "    # Computing the relative error of pressure\n",
        "    rel_error = torch.abs((y_pred - y_true) / y_true)\n",
        "\n",
        "    # Computing the L1 norm for the relative error of pressure\n",
        "    l1_norm = torch.mean(rel_error) \n",
        "    # Computing the Linf norm for the relative error of pressure\n",
        "    linf_norm = torch.max(rel_error) \n",
        "\n",
        "    # Returning the loss and metrics\n",
        "    return loss, l1_norm, linf_norm\n",
        "\n",
        "\n",
        "# Defining a function that updates the learning rate scheduler with validation loss if applicable\n",
        "def update_scheduler(scheduler, test_loss):\n",
        "    \"\"\"Updates the learning rate scheduler with validation loss if applicable.\n",
        "\n",
        "    Args:\n",
        "        scheduler (torch.optim.lr_scheduler._LRScheduler or None): The learning rate scheduler to use.\n",
        "        test_loss (float): The validation loss to use.\n",
        "\n",
        "    Returns:\n",
        "        None\n",
        "    \"\"\"\n",
        "    # Checking if scheduler is not None\n",
        "    if scheduler is not None:\n",
        "        # Checking if scheduler is ReduceLROnPlateau\n",
        "        if isinstance(scheduler, optim.lr_scheduler.ReduceLROnPlateau):\n",
        "            # Updating the scheduler with test_loss\n",
        "            scheduler.step(test_loss)\n",
        "        else:\n",
        "            # Updating the scheduler without test_loss\n",
        "            scheduler.step()\n"
      ]
    },
    {
      "cell_type": "code",
      "execution_count": null,
      "metadata": {
        "id": "2wZbwbIv6jO6"
      },
      "outputs": [],
      "source": []
    },
    {
      "cell_type": "markdown",
      "metadata": {
        "id": "w1nE662UUZiE"
      },
      "source": [
        "Now for the actual training and evaluation loop,"
      ]
    },
    {
      "cell_type": "code",
      "execution_count": null,
      "metadata": {
        "id": "fmRncQPuUZiR"
      },
      "outputs": [],
      "source": [
        "# Defining an objective function for Optuna to minimize\n",
        "def objective(trial):\n",
        "    \"\"\"Defines an objective function for Optuna to minimize.\n",
        "\n",
        "    Args:\n",
        "        trial (optuna.trial.Trial): The trial object that contains the hyperparameters.\n",
        "\n",
        "    Returns:\n",
        "        float: The validation L1 norm to minimize.\n",
        "    \"\"\"\n",
        "    # Creating a trial network and optimizer using the create_model function\n",
        "    net, \\\n",
        "    loss_fn, \\\n",
        "    optimizer, \\\n",
        "    batch_size, \\\n",
        "    n_epochs, \\\n",
        "    scheduler, \\\n",
        "    loss_name, \\\n",
        "    optimizer_name, \\\n",
        "    scheduler_name, \\\n",
        "    n_units, \\\n",
        "    n_layers, \\\n",
        "    hidden_activation, \\\n",
        "    output_activation, \\\n",
        "    lr, \\\n",
        "    dropout_rate = create_model(trial, optimize=True)\n",
        "\n",
        "    # Create separate data loaders for training and validation\n",
        "    train_loader = torch.utils.data.DataLoader(\n",
        "        torch.utils.data.TensorDataset(x_train, y_train), batch_size=batch_size, shuffle=True\n",
        "    )\n",
        "    val_loader = torch.utils.data.DataLoader(\n",
        "        torch.utils.data.TensorDataset(x_val, y_val), batch_size=batch_size\n",
        "    )\n",
        "    \n",
        "    _, _, _, _, val_metrics, _ = train_and_eval(\n",
        "        net, loss_fn, optimizer, batch_size, n_epochs, scheduler, train_loader, val_loader, None, trial\n",
        "    )\n",
        "\n",
        "    # Returning the last validation L1 norm as the objective value to minimize\n",
        "    return val_metrics[-1][\"l1_norm\"]"
      ]
    },
    {
      "cell_type": "code",
      "execution_count": null,
      "metadata": {
        "id": "hmsjYi6sZyrF"
      },
      "outputs": [],
      "source": [
        "# Defining a function to train and evaluate a network\n",
        "def train_and_eval(net, loss_fn, optimizer, batch_size, n_epochs, scheduler, train_loader, val_loader, test_loader, trial=None):\n",
        "    # Initializing lists to store the losses and metrics for each epoch\n",
        "    train_losses = []\n",
        "    val_losses = []\n",
        "    test_losses = []\n",
        "    train_metrics = []\n",
        "    val_metrics = []\n",
        "    test_metrics = []\n",
        "\n",
        "\n",
        "    # Creating a SummaryWriter object to log data for tensorboard\n",
        "    writer = tbx.SummaryWriter()\n",
        "\n",
        "    # Looping over the epochs\n",
        "    for epoch in range(n_epochs):\n",
        "\n",
        "        # Setting the network to training mode\n",
        "        net.train()\n",
        "\n",
        "        # Initializing variables to store the total loss and metrics for the train set\n",
        "        train_loss = 0.0\n",
        "        train_l1_norm = 0.0\n",
        "        train_linf_norm = 0.0\n",
        "\n",
        "        # Looping over the batches in the train set\n",
        "        for x_batch, y_batch in train_loader:\n",
        "\n",
        "            # Moving the batch tensors to the device\n",
        "            x_batch = x_batch.to(device)\n",
        "            y_batch = y_batch.to(device)\n",
        "\n",
        "            # Zeroing the gradients\n",
        "            optimizer.zero_grad()\n",
        "\n",
        "            # Performing a forward pass and computing the loss and metrics\n",
        "            y_pred = net(x_batch)\n",
        "            loss, l1_norm, linf_norm = compute_loss_and_metrics(y_pred, y_batch, loss_fn)\n",
        "\n",
        "\n",
        "            # Performing a backward pass and updating the weights\n",
        "            loss.backward()\n",
        "            optimizer.step()\n",
        "\n",
        "            # Updating the total loss and metrics for the train set\n",
        "            train_loss += loss.item() * x_batch.size(0)\n",
        "            train_l1_norm += l1_norm.item() * x_batch.size(0)\n",
        "            train_linf_norm += linf_norm.item() * x_batch.size(0)\n",
        "\n",
        "        # Computing the average loss and metrics for the train set\n",
        "        train_loss /= len(train_loader.dataset)\n",
        "        train_l1_norm /= len(train_loader.dataset)\n",
        "        train_linf_norm /= len(train_loader.dataset)\n",
        "\n",
        "        # Appending the average loss and metrics for the train set to the lists\n",
        "        train_losses.append(train_loss)\n",
        "        train_metrics.append(\n",
        "            {\n",
        "                \"l1_norm\": train_l1_norm,\n",
        "                \"linf_norm\": train_linf_norm,\n",
        "            }\n",
        "        )\n",
        "\n",
        "        # Logging the average loss and metrics for the train set to tensorboard\n",
        "        writer.add_scalar(\"Loss/train\", train_loss, epoch)\n",
        "        writer.add_scalar(\"L1 norm/train\", train_l1_norm, epoch)\n",
        "        writer.add_scalar(\"Linf norm/train\", train_linf_norm, epoch)\n",
        "\n",
        "        if val_loader is not None:\n",
        "            net.eval()\n",
        "            val_loss = 0.0\n",
        "            val_l1_norm = 0.0\n",
        "            val_linf_norm = 0.0\n",
        "\n",
        "            with torch.no_grad():\n",
        "                for x_batch, y_batch in val_loader:\n",
        "                    x_batch = x_batch.to(device)\n",
        "                    y_batch = y_batch.to(device)\n",
        "                    y_pred = net(x_batch)\n",
        "                    loss, l1_norm, linf_norm = compute_loss_and_metrics(y_pred, y_batch, loss_fn)\n",
        "\n",
        "                    val_loss += loss.item() * x_batch.size(0)\n",
        "                    val_l1_norm += l1_norm.item() * x_batch.size(0)\n",
        "                    val_linf_norm += linf_norm.item() * x_batch.size(0)\n",
        "\n",
        "            val_loss /= len(val_loader.dataset)\n",
        "            val_l1_norm /= len(val_loader.dataset)\n",
        "            val_linf_norm /= len(val_loader.dataset)\n",
        "\n",
        "            val_losses.append(val_loss)\n",
        "            val_metrics.append(\n",
        "                {\n",
        "                    \"l1_norm\": val_l1_norm,\n",
        "                    \"linf_norm\": val_linf_norm,\n",
        "                }\n",
        "            )\n",
        "\n",
        "            writer.add_scalar(\"Loss/val\", val_loss, epoch)\n",
        "            writer.add_scalar(\"L1 norm/val\", val_l1_norm, epoch)\n",
        "            writer.add_scalar(\"Linf norm/val\", val_linf_norm, epoch)\n",
        "            print(f\"Epoch {epoch+1}/{n_epochs}.. Train loss: {train_loss:.3f}.. Val loss: {val_loss:.3f}.. Train L1 norm: {train_l1_norm:.3f}.. Val L1 norm: {val_l1_norm:.3f}.. Train Linf norm: {train_linf_norm:.3f}.. Val Linf norm: {val_linf_norm:.3f}\")\n",
        "\n",
        "\n",
        "            update_scheduler(scheduler, val_loss)\n",
        "\n",
        "        if test_loader is not None:\n",
        "            net.eval()\n",
        "            test_loss = 0.0\n",
        "            test_l1_norm = 0.0\n",
        "            test_linf_norm = 0.0\n",
        "\n",
        "            with torch.no_grad():\n",
        "                for x_batch, y_batch in test_loader:\n",
        "                    x_batch = x_batch.to(device)\n",
        "                    y_batch = y_batch.to(device)\n",
        "                    y_pred = net(x_batch)\n",
        "                    loss, l1_norm, linf_norm = compute_loss_and_metrics(y_pred, y_batch, loss_fn)\n",
        "\n",
        "                    test_loss += loss.item() * x_batch.size(0)\n",
        "                    test_l1_norm += l1_norm.item() * x_batch.size(0)\n",
        "                    test_linf_norm += linf_norm.item() * x_batch.size(0)\n",
        "\n",
        "            test_loss /= len(test_loader.dataset)\n",
        "            test_l1_norm /= len(test_loader.dataset)\n",
        "            test_linf_norm /= len(test_loader.dataset)\n",
        "\n",
        "            test_losses.append(test_loss)\n",
        "            test_metrics.append(\n",
        "                {\n",
        "                    \"l1_norm\": test_l1_norm,\n",
        "                    \"linf_norm\": test_linf_norm,\n",
        "                }\n",
        "            )\n",
        "\n",
        "            writer.add_scalar(\"Loss/test\", test_loss, epoch)\n",
        "            writer.add_scalar(\"L1 norm/test\", test_l1_norm, epoch)\n",
        "            writer.add_scalar(\"Linf norm/test\", test_linf_norm, epoch)\n",
        "            print(f\"Epoch {epoch+1}/{n_epochs}.. Train loss: {train_loss:.3f}.. Test loss: {test_loss:.3f}.. Train L1 norm: {train_l1_norm:.3f}.. Test L1 norm: {test_l1_norm:.3f}.. Train Linf norm: {train_linf_norm:.3f}.. Test Linf norm: {test_linf_norm:.3f}\")\n",
        "\n",
        "\n",
        "        # Reporting the intermediate metric value to Optuna if trial is not None\n",
        "        if trial is not None:\n",
        "            trial.report(val_l1_norm, epoch)\n",
        "\n",
        "            if trial.should_prune():\n",
        "                raise optuna.TrialPruned()\n",
        "\n",
        "    # Closing the SummaryWriter object\n",
        "    writer.close()\n",
        "\n",
        "    # Returning the losses and metrics lists\n",
        "    return train_losses, val_losses, test_losses, train_metrics, val_metrics, test_metrics\n"
      ]
    },
    {
      "cell_type": "code",
      "execution_count": null,
      "metadata": {
        "colab": {
          "background_save": true,
          "base_uri": "https://localhost:8080/"
        },
        "id": "GyES4NAyUZiS",
        "outputId": "6790bbd6-3cb1-4b10-8cdb-6194c65a331a"
      },
      "outputs": [
        {
          "name": "stderr",
          "output_type": "stream",
          "text": [
            "\u001b[32m[I 2023-05-29 05:13:54,727]\u001b[0m A new study created in memory with name: no-name-29f7363e-460c-4c1a-a7d1-5915df3fcb1c\u001b[0m\n",
            "<ipython-input-77-ddc3c9d46736>:44: FutureWarning: suggest_loguniform has been deprecated in v3.0.0. This feature will be removed in v6.0.0. See https://github.com/optuna/optuna/releases/tag/v3.0.0. Use :func:`~optuna.trial.Trial.suggest_float` instead.\n",
            "  lr = trial.suggest_loguniform(\"lr\", 1e-6, 1)\n",
            "<ipython-input-77-ddc3c9d46736>:76: FutureWarning: suggest_uniform has been deprecated in v3.0.0. This feature will be removed in v6.0.0. See https://github.com/optuna/optuna/releases/tag/v3.0.0. Use :func:`~optuna.trial.Trial.suggest_float` instead.\n",
            "  dropout_rate = trial.suggest_uniform(\"dropout_rate\", 0.0, 0.5)\n",
            "<ipython-input-77-ddc3c9d46736>:178: FutureWarning: suggest_uniform has been deprecated in v3.0.0. This feature will be removed in v6.0.0. See https://github.com/optuna/optuna/releases/tag/v3.0.0. Use :func:`~optuna.trial.Trial.suggest_float` instead.\n",
            "  factor = trial.suggest_uniform(\"factor\", 0.1, 0.5)\n",
            "<ipython-input-77-ddc3c9d46736>:180: FutureWarning: suggest_loguniform has been deprecated in v3.0.0. This feature will be removed in v6.0.0. See https://github.com/optuna/optuna/releases/tag/v3.0.0. Use :func:`~optuna.trial.Trial.suggest_float` instead.\n",
            "  threshold = trial.suggest_loguniform(\"threshold\", 1e-4, 1e-2)\n"
          ]
        },
        {
          "name": "stdout",
          "output_type": "stream",
          "text": [
            "Epoch 1/94.. Train loss: 49864037215632544.000.. Val loss: 62.937.. Train L1 norm: 27129966718372804.000.. Val L1 norm: 413.653.. Train Linf norm: 2640421598063662080.000.. Val Linf norm: 396603.183\n",
            "Epoch 2/94.. Train loss: 1808930.407.. Val loss: 4.483.. Train L1 norm: 1085268.194.. Val L1 norm: 13.179.. Train Linf norm: 940317788.824.. Val Linf norm: 11375.492\n",
            "Epoch 3/94.. Train loss: 1851937.637.. Val loss: 4.814.. Train L1 norm: 1231526.256.. Val L1 norm: 5.293.. Train Linf norm: 1176222191.789.. Val Linf norm: 4091.568\n",
            "Epoch 4/94.. Train loss: 967242.847.. Val loss: 4.623.. Train L1 norm: 251914.286.. Val L1 norm: 9.327.. Train Linf norm: 247016653.023.. Val Linf norm: 7835.029\n",
            "Epoch 5/94.. Train loss: 985860.318.. Val loss: 4.467.. Train L1 norm: 800993.191.. Val L1 norm: 16.322.. Train Linf norm: 786113793.955.. Val Linf norm: 14252.080\n",
            "Epoch 6/94.. Train loss: 362926.093.. Val loss: 4.427.. Train L1 norm: 305344.569.. Val L1 norm: 15.153.. Train Linf norm: 307218198.465.. Val Linf norm: 13181.975\n",
            "Epoch 7/94.. Train loss: 205452.162.. Val loss: 4.366.. Train L1 norm: 90954.969.. Val L1 norm: 17.871.. Train Linf norm: 91772718.487.. Val Linf norm: 15660.764\n",
            "Epoch 8/94.. Train loss: 465844.471.. Val loss: 4.339.. Train L1 norm: 305007.943.. Val L1 norm: 19.419.. Train Linf norm: 308988443.521.. Val Linf norm: 17069.313\n",
            "Epoch 9/94.. Train loss: 232468.201.. Val loss: 4.330.. Train L1 norm: 111807.438.. Val L1 norm: 20.119.. Train Linf norm: 111670348.238.. Val Linf norm: 17704.880\n",
            "Epoch 10/94.. Train loss: 93866.268.. Val loss: 4.397.. Train L1 norm: 66916.972.. Val L1 norm: 20.705.. Train Linf norm: 67409637.492.. Val Linf norm: 18148.337\n",
            "Epoch 11/94.. Train loss: 115094.912.. Val loss: 8.852.. Train L1 norm: 54372.610.. Val L1 norm: 21.803.. Train Linf norm: 54276040.346.. Val Linf norm: 19321.976\n",
            "Epoch 12/94.. Train loss: 120566.662.. Val loss: 5.736.. Train L1 norm: 68878.072.. Val L1 norm: 21.672.. Train Linf norm: 69471205.406.. Val Linf norm: 19141.269\n",
            "Epoch 13/94.. Train loss: 1012531.093.. Val loss: 4.313.. Train L1 norm: 217948.180.. Val L1 norm: 21.616.. Train Linf norm: 222752245.402.. Val Linf norm: 19064.209\n",
            "Epoch 14/94.. Train loss: 309801.927.. Val loss: 4.312.. Train L1 norm: 73476.229.. Val L1 norm: 21.726.. Train Linf norm: 74167176.971.. Val Linf norm: 19164.103\n",
            "Epoch 15/94.. Train loss: 66705.719.. Val loss: 4.310.. Train L1 norm: 49343.106.. Val L1 norm: 21.950.. Train Linf norm: 49349553.777.. Val Linf norm: 19366.999\n",
            "Epoch 16/94.. Train loss: 68765.133.. Val loss: 4.308.. Train L1 norm: 29348.499.. Val L1 norm: 22.154.. Train Linf norm: 29399535.286.. Val Linf norm: 19552.259\n",
            "Epoch 17/94.. Train loss: 83297.890.. Val loss: 4.307.. Train L1 norm: 40608.557.. Val L1 norm: 22.340.. Train Linf norm: 41273053.823.. Val Linf norm: 19721.390\n",
            "Epoch 18/94.. Train loss: 474057.060.. Val loss: 4.296.. Train L1 norm: 100641.016.. Val L1 norm: 24.500.. Train Linf norm: 102944752.711.. Val Linf norm: 21677.631\n",
            "Epoch 19/94.. Train loss: 61792.376.. Val loss: 4.296.. Train L1 norm: 12468.050.. Val L1 norm: 24.504.. Train Linf norm: 12678799.906.. Val Linf norm: 21681.532\n",
            "Epoch 20/94.. Train loss: 56120.821.. Val loss: 4.297.. Train L1 norm: 38476.875.. Val L1 norm: 24.390.. Train Linf norm: 39006386.033.. Val Linf norm: 21577.849\n",
            "Epoch 21/94.. Train loss: 82480.508.. Val loss: 4.297.. Train L1 norm: 47091.244.. Val L1 norm: 24.284.. Train Linf norm: 39079528.831.. Val Linf norm: 21481.828\n",
            "Epoch 22/94.. Train loss: 16508.871.. Val loss: 4.297.. Train L1 norm: 12320.740.. Val L1 norm: 24.143.. Train Linf norm: 12529332.675.. Val Linf norm: 21354.600\n",
            "Epoch 23/94.. Train loss: 94253.153.. Val loss: 4.298.. Train L1 norm: 23078.716.. Val L1 norm: 24.050.. Train Linf norm: 23513713.337.. Val Linf norm: 21269.912\n",
            "Epoch 24/94.. Train loss: 21451.258.. Val loss: 4.299.. Train L1 norm: 7695.746.. Val L1 norm: 23.785.. Train Linf norm: 7813715.149.. Val Linf norm: 21029.990\n",
            "Epoch 25/94.. Train loss: 9795.236.. Val loss: 4.298.. Train L1 norm: 15499.783.. Val L1 norm: 23.799.. Train Linf norm: 15818659.585.. Val Linf norm: 21042.589\n",
            "Epoch 26/94.. Train loss: 9675.743.. Val loss: 4.298.. Train L1 norm: 81893.533.. Val L1 norm: 23.813.. Train Linf norm: 83797929.676.. Val Linf norm: 21055.886\n",
            "Epoch 27/94.. Train loss: 23274.785.. Val loss: 4.298.. Train L1 norm: 14344.135.. Val L1 norm: 23.812.. Train Linf norm: 14613858.863.. Val Linf norm: 21054.618\n",
            "Epoch 28/94.. Train loss: 25378.481.. Val loss: 4.298.. Train L1 norm: 20681.018.. Val L1 norm: 23.818.. Train Linf norm: 21079584.032.. Val Linf norm: 21059.945\n",
            "Epoch 29/94.. Train loss: 45860.772.. Val loss: 4.298.. Train L1 norm: 18272.782.. Val L1 norm: 23.824.. Train Linf norm: 18658912.929.. Val Linf norm: 21065.590\n",
            "Epoch 30/94.. Train loss: 17355.306.. Val loss: 4.298.. Train L1 norm: 17586.509.. Val L1 norm: 23.818.. Train Linf norm: 17933495.309.. Val Linf norm: 21060.393\n",
            "Epoch 31/94.. Train loss: 6188.227.. Val loss: 4.298.. Train L1 norm: 1572.063.. Val L1 norm: 23.818.. Train Linf norm: 1562506.821.. Val Linf norm: 21060.365\n",
            "Epoch 32/94.. Train loss: 16522.270.. Val loss: 4.298.. Train L1 norm: 14694.300.. Val L1 norm: 23.817.. Train Linf norm: 14987357.652.. Val Linf norm: 21059.661\n",
            "Epoch 33/94.. Train loss: 7236.187.. Val loss: 4.298.. Train L1 norm: 2321.773.. Val L1 norm: 23.818.. Train Linf norm: 2308216.168.. Val Linf norm: 21060.496\n",
            "Epoch 34/94.. Train loss: 5518.770.. Val loss: 4.298.. Train L1 norm: 2285.152.. Val L1 norm: 23.818.. Train Linf norm: 2285054.101.. Val Linf norm: 21060.463\n",
            "Epoch 35/94.. Train loss: 32359.959.. Val loss: 4.298.. Train L1 norm: 5579.918.. Val L1 norm: 23.820.. Train Linf norm: 5665227.033.. Val Linf norm: 21061.898\n",
            "Epoch 36/94.. Train loss: 9382.340.. Val loss: 4.298.. Train L1 norm: 3970.422.. Val L1 norm: 23.820.. Train Linf norm: 4007480.758.. Val Linf norm: 21062.333\n",
            "Epoch 37/94.. Train loss: 7940.248.. Val loss: 4.298.. Train L1 norm: 6936.229.. Val L1 norm: 23.821.. Train Linf norm: 7032025.501.. Val Linf norm: 21062.540\n",
            "Epoch 38/94.. Train loss: 28361.699.. Val loss: 4.298.. Train L1 norm: 16632.925.. Val L1 norm: 23.821.. Train Linf norm: 16961396.043.. Val Linf norm: 21062.573\n",
            "Epoch 39/94.. Train loss: 17590.828.. Val loss: 4.298.. Train L1 norm: 22423.725.. Val L1 norm: 23.821.. Train Linf norm: 21361565.688.. Val Linf norm: 21062.661\n",
            "Epoch 40/94.. Train loss: 42286.763.. Val loss: 4.298.. Train L1 norm: 97889.312.. Val L1 norm: 23.821.. Train Linf norm: 100191710.194.. Val Linf norm: 21062.558\n",
            "Epoch 41/94.. Train loss: 71040.496.. Val loss: 4.298.. Train L1 norm: 139275.442.. Val L1 norm: 23.820.. Train Linf norm: 142561293.167.. Val Linf norm: 21062.435\n",
            "Epoch 42/94.. Train loss: 33548.485.. Val loss: 4.298.. Train L1 norm: 15333.758.. Val L1 norm: 23.821.. Train Linf norm: 15336313.303.. Val Linf norm: 21062.501\n",
            "Epoch 43/94.. Train loss: 21743.830.. Val loss: 4.298.. Train L1 norm: 10513.348.. Val L1 norm: 23.821.. Train Linf norm: 10708887.172.. Val Linf norm: 21062.501\n",
            "Epoch 44/94.. Train loss: 14938.317.. Val loss: 4.298.. Train L1 norm: 8177.704.. Val L1 norm: 23.820.. Train Linf norm: 8326522.567.. Val Linf norm: 21062.494\n",
            "Epoch 45/94.. Train loss: 19109.691.. Val loss: 4.298.. Train L1 norm: 5564.343.. Val L1 norm: 23.820.. Train Linf norm: 5648344.186.. Val Linf norm: 21062.486\n",
            "Epoch 46/94.. Train loss: 13334.564.. Val loss: 4.298.. Train L1 norm: 4128.785.. Val L1 norm: 23.820.. Train Linf norm: 4174469.668.. Val Linf norm: 21062.483\n",
            "Epoch 47/94.. Train loss: 16014.671.. Val loss: 4.298.. Train L1 norm: 9629.746.. Val L1 norm: 23.820.. Train Linf norm: 9729180.998.. Val Linf norm: 21062.457\n",
            "Epoch 48/94.. Train loss: 20335.046.. Val loss: 4.298.. Train L1 norm: 276934.895.. Val L1 norm: 23.820.. Train Linf norm: 283517673.047.. Val Linf norm: 21062.457\n",
            "Epoch 49/94.. Train loss: 11729.841.. Val loss: 4.298.. Train L1 norm: 9008.632.. Val L1 norm: 23.820.. Train Linf norm: 9173701.553.. Val Linf norm: 21062.455\n",
            "Epoch 50/94.. Train loss: 67354.503.. Val loss: 4.298.. Train L1 norm: 13163.022.. Val L1 norm: 23.820.. Train Linf norm: 13426953.465.. Val Linf norm: 21062.455\n",
            "Epoch 51/94.. Train loss: 22948.061.. Val loss: 4.298.. Train L1 norm: 6772.940.. Val L1 norm: 23.820.. Train Linf norm: 6887029.030.. Val Linf norm: 21062.455\n",
            "Epoch 52/94.. Train loss: 6416.394.. Val loss: 4.298.. Train L1 norm: 3182.670.. Val L1 norm: 23.820.. Train Linf norm: 3217164.585.. Val Linf norm: 21062.457\n",
            "Epoch 53/94.. Train loss: 8435.219.. Val loss: 4.298.. Train L1 norm: 2499.326.. Val L1 norm: 23.820.. Train Linf norm: 2509618.563.. Val Linf norm: 21062.457\n",
            "Epoch 54/94.. Train loss: 138581.506.. Val loss: 4.298.. Train L1 norm: 55830.822.. Val L1 norm: 23.820.. Train Linf norm: 56900325.203.. Val Linf norm: 21062.457\n",
            "Epoch 55/94.. Train loss: 17654.759.. Val loss: 4.298.. Train L1 norm: 5799.624.. Val L1 norm: 23.820.. Train Linf norm: 5891345.344.. Val Linf norm: 21062.457\n",
            "Epoch 56/94.. Train loss: 23140.506.. Val loss: 4.298.. Train L1 norm: 7769.120.. Val L1 norm: 23.820.. Train Linf norm: 7860393.020.. Val Linf norm: 21062.457\n",
            "Epoch 57/94.. Train loss: 16271.172.. Val loss: 4.298.. Train L1 norm: 10369.643.. Val L1 norm: 23.820.. Train Linf norm: 10540601.874.. Val Linf norm: 21062.457\n",
            "Epoch 58/94.. Train loss: 19403.249.. Val loss: 4.298.. Train L1 norm: 3976.362.. Val L1 norm: 23.820.. Train Linf norm: 4025361.391.. Val Linf norm: 21062.457\n",
            "Epoch 59/94.. Train loss: 8031766.796.. Val loss: 4.298.. Train L1 norm: 993360.113.. Val L1 norm: 23.820.. Train Linf norm: 1017139871.329.. Val Linf norm: 21062.457\n",
            "Epoch 60/94.. Train loss: 24987.491.. Val loss: 4.298.. Train L1 norm: 13669.743.. Val L1 norm: 23.820.. Train Linf norm: 13937811.906.. Val Linf norm: 21062.457\n",
            "Epoch 61/94.. Train loss: 9394.723.. Val loss: 4.298.. Train L1 norm: 6449.532.. Val L1 norm: 23.820.. Train Linf norm: 6541989.491.. Val Linf norm: 21062.457\n",
            "Epoch 62/94.. Train loss: 15523.520.. Val loss: 4.298.. Train L1 norm: 11982.587.. Val L1 norm: 23.820.. Train Linf norm: 12172109.254.. Val Linf norm: 21062.457\n",
            "Epoch 63/94.. Train loss: 19992.028.. Val loss: 4.298.. Train L1 norm: 7957.444.. Val L1 norm: 23.820.. Train Linf norm: 8090449.972.. Val Linf norm: 21062.457\n",
            "Epoch 64/94.. Train loss: 11323.969.. Val loss: 4.298.. Train L1 norm: 17489.044.. Val L1 norm: 23.820.. Train Linf norm: 17861968.257.. Val Linf norm: 21062.457\n",
            "Epoch 65/94.. Train loss: 49123.033.. Val loss: 4.298.. Train L1 norm: 17549.380.. Val L1 norm: 23.820.. Train Linf norm: 17643955.161.. Val Linf norm: 21062.457\n",
            "Epoch 66/94.. Train loss: 6918.686.. Val loss: 4.298.. Train L1 norm: 332522.506.. Val L1 norm: 23.820.. Train Linf norm: 340445499.527.. Val Linf norm: 21062.457\n",
            "Epoch 67/94.. Train loss: 65330.342.. Val loss: 4.298.. Train L1 norm: 10284.232.. Val L1 norm: 23.820.. Train Linf norm: 10333563.312.. Val Linf norm: 21062.457\n",
            "Epoch 68/94.. Train loss: 23364.959.. Val loss: 4.298.. Train L1 norm: 184020.830.. Val L1 norm: 23.820.. Train Linf norm: 188310507.479.. Val Linf norm: 21062.457\n",
            "Epoch 69/94.. Train loss: 15201.279.. Val loss: 4.298.. Train L1 norm: 9203.924.. Val L1 norm: 23.820.. Train Linf norm: 9364082.643.. Val Linf norm: 21062.457\n",
            "Epoch 70/94.. Train loss: 26099.429.. Val loss: 4.298.. Train L1 norm: 14321.324.. Val L1 norm: 23.820.. Train Linf norm: 14344070.004.. Val Linf norm: 21062.457\n",
            "Epoch 71/94.. Train loss: 43294.949.. Val loss: 4.298.. Train L1 norm: 98559.445.. Val L1 norm: 23.820.. Train Linf norm: 100813130.892.. Val Linf norm: 21062.457\n",
            "Epoch 72/94.. Train loss: 16243.103.. Val loss: 4.298.. Train L1 norm: 17114.312.. Val L1 norm: 23.820.. Train Linf norm: 17471503.005.. Val Linf norm: 21062.457\n",
            "Epoch 73/94.. Train loss: 15617.847.. Val loss: 4.298.. Train L1 norm: 5051.650.. Val L1 norm: 23.820.. Train Linf norm: 5095484.673.. Val Linf norm: 21062.457\n",
            "Epoch 74/94.. Train loss: 10801.532.. Val loss: 4.298.. Train L1 norm: 6911.445.. Val L1 norm: 23.820.. Train Linf norm: 7004540.807.. Val Linf norm: 21062.457\n",
            "Epoch 75/94.. Train loss: 18238.471.. Val loss: 4.298.. Train L1 norm: 5471.278.. Val L1 norm: 23.820.. Train Linf norm: 5551584.147.. Val Linf norm: 21062.457\n",
            "Epoch 76/94.. Train loss: 9272.379.. Val loss: 4.298.. Train L1 norm: 10125.836.. Val L1 norm: 23.820.. Train Linf norm: 10302163.546.. Val Linf norm: 21062.457\n",
            "Epoch 77/94.. Train loss: 54158.728.. Val loss: 4.298.. Train L1 norm: 15472.783.. Val L1 norm: 23.820.. Train Linf norm: 15799941.380.. Val Linf norm: 21062.457\n",
            "Epoch 78/94.. Train loss: 36461.993.. Val loss: 4.298.. Train L1 norm: 65545.575.. Val L1 norm: 23.820.. Train Linf norm: 67038863.518.. Val Linf norm: 21062.457\n",
            "Epoch 79/94.. Train loss: 85098.699.. Val loss: 4.298.. Train L1 norm: 15087.880.. Val L1 norm: 23.820.. Train Linf norm: 15389836.185.. Val Linf norm: 21062.457\n",
            "Epoch 80/94.. Train loss: 11172.779.. Val loss: 4.298.. Train L1 norm: 8334.250.. Val L1 norm: 23.820.. Train Linf norm: 8467873.098.. Val Linf norm: 21062.457\n",
            "Epoch 81/94.. Train loss: 11374.851.. Val loss: 4.298.. Train L1 norm: 14955.701.. Val L1 norm: 23.820.. Train Linf norm: 10745201.342.. Val Linf norm: 21062.457\n",
            "Epoch 82/94.. Train loss: 9948.397.. Val loss: 4.298.. Train L1 norm: 6371.354.. Val L1 norm: 23.820.. Train Linf norm: 6474774.729.. Val Linf norm: 21062.457\n",
            "Epoch 83/94.. Train loss: 11228.836.. Val loss: 4.298.. Train L1 norm: 4240.522.. Val L1 norm: 23.820.. Train Linf norm: 4242854.263.. Val Linf norm: 21062.457\n",
            "Epoch 84/94.. Train loss: 9617.310.. Val loss: 4.298.. Train L1 norm: 4993.307.. Val L1 norm: 23.820.. Train Linf norm: 5060913.893.. Val Linf norm: 21062.457\n",
            "Epoch 85/94.. Train loss: 23108.556.. Val loss: 4.298.. Train L1 norm: 8418.502.. Val L1 norm: 23.820.. Train Linf norm: 8560326.617.. Val Linf norm: 21062.457\n",
            "Epoch 86/94.. Train loss: 15076.622.. Val loss: 4.298.. Train L1 norm: 32182.885.. Val L1 norm: 23.820.. Train Linf norm: 32901254.229.. Val Linf norm: 21062.457\n",
            "Epoch 87/94.. Train loss: 87250.180.. Val loss: 4.298.. Train L1 norm: 175071.067.. Val L1 norm: 23.820.. Train Linf norm: 179213659.383.. Val Linf norm: 21062.457\n",
            "Epoch 88/94.. Train loss: 58457.834.. Val loss: 4.298.. Train L1 norm: 18385.367.. Val L1 norm: 23.820.. Train Linf norm: 18437615.179.. Val Linf norm: 21062.457\n",
            "Epoch 89/94.. Train loss: 42171.554.. Val loss: 4.298.. Train L1 norm: 24933.953.. Val L1 norm: 23.820.. Train Linf norm: 25474907.241.. Val Linf norm: 21062.457\n",
            "Epoch 90/94.. Train loss: 12357.605.. Val loss: 4.298.. Train L1 norm: 4140.217.. Val L1 norm: 23.820.. Train Linf norm: 4187809.186.. Val Linf norm: 21062.457\n",
            "Epoch 91/94.. Train loss: 35452.731.. Val loss: 4.298.. Train L1 norm: 9648.338.. Val L1 norm: 23.820.. Train Linf norm: 9809571.482.. Val Linf norm: 21062.457\n",
            "Epoch 92/94.. Train loss: 918307.009.. Val loss: 4.298.. Train L1 norm: 580700.483.. Val L1 norm: 23.820.. Train Linf norm: 594586719.486.. Val Linf norm: 21062.457\n",
            "Epoch 93/94.. Train loss: 7418.384.. Val loss: 4.298.. Train L1 norm: 4754.229.. Val L1 norm: 23.820.. Train Linf norm: 4820321.710.. Val Linf norm: 21062.457\n"
          ]
        },
        {
          "name": "stderr",
          "output_type": "stream",
          "text": [
            "\u001b[32m[I 2023-05-29 05:44:24,386]\u001b[0m Trial 0 finished with value: 23.820455631256102 and parameters: {'n_layers': 8, 'n_units_0': 3766, 'n_units_1': 2101, 'n_units_2': 1135, 'n_units_3': 2410, 'n_units_4': 2067, 'n_units_5': 1091, 'n_units_6': 3428, 'n_units_7': 3481, 'hidden_activation': 'GELU', 'output_activation': 'Linear', 'loss': 'MAE', 'optimizer': 'Adagrad', 'lr': 0.3234202424926141, 'batch_size': 1024, 'n_epochs': 94, 'scheduler': 'ReduceLROnPlateau', 'dropout_rate': 0.3313146794122486, 'factor': 0.12335278711121798, 'patience': 5, 'threshold': 0.0005916083805252893}. Best is trial 0 with value: 23.820455631256102.\u001b[0m\n"
          ]
        },
        {
          "name": "stdout",
          "output_type": "stream",
          "text": [
            "Epoch 94/94.. Train loss: 20398.132.. Val loss: 4.298.. Train L1 norm: 4085.580.. Val L1 norm: 23.820.. Train Linf norm: 4075140.170.. Val Linf norm: 21062.457\n"
          ]
        },
        {
          "name": "stderr",
          "output_type": "stream",
          "text": [
            "<ipython-input-77-ddc3c9d46736>:58: FutureWarning: suggest_uniform has been deprecated in v3.0.0. This feature will be removed in v6.0.0. See https://github.com/optuna/optuna/releases/tag/v3.0.0. Use :func:`~optuna.trial.Trial.suggest_float` instead.\n",
            "  negative_slope = trial.suggest_uniform(\"leakyrelu_slope\", 0.01, 0.3)\n",
            "<ipython-input-77-ddc3c9d46736>:145: FutureWarning: suggest_loguniform has been deprecated in v3.0.0. This feature will be removed in v6.0.0. See https://github.com/optuna/optuna/releases/tag/v3.0.0. Use :func:`~optuna.trial.Trial.suggest_float` instead.\n",
            "  weight_decay = trial.suggest_loguniform(\"weight_decay\", 1e-5, 1e-2)\n",
            "<ipython-input-77-ddc3c9d46736>:146: FutureWarning: suggest_uniform has been deprecated in v3.0.0. This feature will be removed in v6.0.0. See https://github.com/optuna/optuna/releases/tag/v3.0.0. Use :func:`~optuna.trial.Trial.suggest_float` instead.\n",
            "  momentum = trial.suggest_uniform(\"momentum\", 0.0, 0.99)\n",
            "WARNING:tensorboardX.x2num:NaN or Inf found in input tensor.\n",
            "WARNING:tensorboardX.x2num:NaN or Inf found in input tensor.\n",
            "WARNING:tensorboardX.x2num:NaN or Inf found in input tensor.\n",
            "WARNING:tensorboardX.x2num:NaN or Inf found in input tensor.\n",
            "WARNING:tensorboardX.x2num:NaN or Inf found in input tensor.\n",
            "WARNING:tensorboardX.x2num:NaN or Inf found in input tensor.\n"
          ]
        },
        {
          "name": "stdout",
          "output_type": "stream",
          "text": [
            "Epoch 1/85.. Train loss: nan.. Val loss: nan.. Train L1 norm: nan.. Val L1 norm: nan.. Train Linf norm: nan.. Val Linf norm: nan\n"
          ]
        },
        {
          "name": "stderr",
          "output_type": "stream",
          "text": [
            "WARNING:tensorboardX.x2num:NaN or Inf found in input tensor.\n",
            "WARNING:tensorboardX.x2num:NaN or Inf found in input tensor.\n",
            "WARNING:tensorboardX.x2num:NaN or Inf found in input tensor.\n",
            "WARNING:tensorboardX.x2num:NaN or Inf found in input tensor.\n",
            "WARNING:tensorboardX.x2num:NaN or Inf found in input tensor.\n",
            "WARNING:tensorboardX.x2num:NaN or Inf found in input tensor.\n"
          ]
        },
        {
          "name": "stdout",
          "output_type": "stream",
          "text": [
            "Epoch 2/85.. Train loss: nan.. Val loss: nan.. Train L1 norm: nan.. Val L1 norm: nan.. Train Linf norm: nan.. Val Linf norm: nan\n"
          ]
        },
        {
          "name": "stderr",
          "output_type": "stream",
          "text": [
            "WARNING:tensorboardX.x2num:NaN or Inf found in input tensor.\n",
            "WARNING:tensorboardX.x2num:NaN or Inf found in input tensor.\n",
            "WARNING:tensorboardX.x2num:NaN or Inf found in input tensor.\n",
            "WARNING:tensorboardX.x2num:NaN or Inf found in input tensor.\n",
            "WARNING:tensorboardX.x2num:NaN or Inf found in input tensor.\n",
            "WARNING:tensorboardX.x2num:NaN or Inf found in input tensor.\n"
          ]
        },
        {
          "name": "stdout",
          "output_type": "stream",
          "text": [
            "Epoch 3/85.. Train loss: nan.. Val loss: nan.. Train L1 norm: nan.. Val L1 norm: nan.. Train Linf norm: nan.. Val Linf norm: nan\n"
          ]
        },
        {
          "name": "stderr",
          "output_type": "stream",
          "text": [
            "WARNING:tensorboardX.x2num:NaN or Inf found in input tensor.\n",
            "WARNING:tensorboardX.x2num:NaN or Inf found in input tensor.\n",
            "WARNING:tensorboardX.x2num:NaN or Inf found in input tensor.\n",
            "WARNING:tensorboardX.x2num:NaN or Inf found in input tensor.\n",
            "WARNING:tensorboardX.x2num:NaN or Inf found in input tensor.\n",
            "WARNING:tensorboardX.x2num:NaN or Inf found in input tensor.\n"
          ]
        },
        {
          "name": "stdout",
          "output_type": "stream",
          "text": [
            "Epoch 4/85.. Train loss: nan.. Val loss: nan.. Train L1 norm: nan.. Val L1 norm: nan.. Train Linf norm: nan.. Val Linf norm: nan\n"
          ]
        },
        {
          "name": "stderr",
          "output_type": "stream",
          "text": [
            "WARNING:tensorboardX.x2num:NaN or Inf found in input tensor.\n",
            "WARNING:tensorboardX.x2num:NaN or Inf found in input tensor.\n",
            "WARNING:tensorboardX.x2num:NaN or Inf found in input tensor.\n",
            "WARNING:tensorboardX.x2num:NaN or Inf found in input tensor.\n",
            "WARNING:tensorboardX.x2num:NaN or Inf found in input tensor.\n",
            "WARNING:tensorboardX.x2num:NaN or Inf found in input tensor.\n"
          ]
        },
        {
          "name": "stdout",
          "output_type": "stream",
          "text": [
            "Epoch 5/85.. Train loss: nan.. Val loss: nan.. Train L1 norm: nan.. Val L1 norm: nan.. Train Linf norm: nan.. Val Linf norm: nan\n"
          ]
        },
        {
          "name": "stderr",
          "output_type": "stream",
          "text": [
            "WARNING:tensorboardX.x2num:NaN or Inf found in input tensor.\n",
            "WARNING:tensorboardX.x2num:NaN or Inf found in input tensor.\n",
            "WARNING:tensorboardX.x2num:NaN or Inf found in input tensor.\n",
            "WARNING:tensorboardX.x2num:NaN or Inf found in input tensor.\n",
            "WARNING:tensorboardX.x2num:NaN or Inf found in input tensor.\n",
            "WARNING:tensorboardX.x2num:NaN or Inf found in input tensor.\n"
          ]
        },
        {
          "name": "stdout",
          "output_type": "stream",
          "text": [
            "Epoch 6/85.. Train loss: nan.. Val loss: nan.. Train L1 norm: nan.. Val L1 norm: nan.. Train Linf norm: nan.. Val Linf norm: nan\n"
          ]
        },
        {
          "name": "stderr",
          "output_type": "stream",
          "text": [
            "WARNING:tensorboardX.x2num:NaN or Inf found in input tensor.\n",
            "WARNING:tensorboardX.x2num:NaN or Inf found in input tensor.\n",
            "WARNING:tensorboardX.x2num:NaN or Inf found in input tensor.\n",
            "WARNING:tensorboardX.x2num:NaN or Inf found in input tensor.\n",
            "WARNING:tensorboardX.x2num:NaN or Inf found in input tensor.\n",
            "WARNING:tensorboardX.x2num:NaN or Inf found in input tensor.\n"
          ]
        },
        {
          "name": "stdout",
          "output_type": "stream",
          "text": [
            "Epoch 7/85.. Train loss: nan.. Val loss: nan.. Train L1 norm: nan.. Val L1 norm: nan.. Train Linf norm: nan.. Val Linf norm: nan\n"
          ]
        },
        {
          "name": "stderr",
          "output_type": "stream",
          "text": [
            "WARNING:tensorboardX.x2num:NaN or Inf found in input tensor.\n",
            "WARNING:tensorboardX.x2num:NaN or Inf found in input tensor.\n",
            "WARNING:tensorboardX.x2num:NaN or Inf found in input tensor.\n",
            "WARNING:tensorboardX.x2num:NaN or Inf found in input tensor.\n",
            "WARNING:tensorboardX.x2num:NaN or Inf found in input tensor.\n",
            "WARNING:tensorboardX.x2num:NaN or Inf found in input tensor.\n"
          ]
        },
        {
          "name": "stdout",
          "output_type": "stream",
          "text": [
            "Epoch 8/85.. Train loss: nan.. Val loss: nan.. Train L1 norm: nan.. Val L1 norm: nan.. Train Linf norm: nan.. Val Linf norm: nan\n"
          ]
        },
        {
          "name": "stderr",
          "output_type": "stream",
          "text": [
            "WARNING:tensorboardX.x2num:NaN or Inf found in input tensor.\n",
            "WARNING:tensorboardX.x2num:NaN or Inf found in input tensor.\n",
            "WARNING:tensorboardX.x2num:NaN or Inf found in input tensor.\n",
            "WARNING:tensorboardX.x2num:NaN or Inf found in input tensor.\n",
            "WARNING:tensorboardX.x2num:NaN or Inf found in input tensor.\n",
            "WARNING:tensorboardX.x2num:NaN or Inf found in input tensor.\n"
          ]
        },
        {
          "name": "stdout",
          "output_type": "stream",
          "text": [
            "Epoch 9/85.. Train loss: nan.. Val loss: nan.. Train L1 norm: nan.. Val L1 norm: nan.. Train Linf norm: nan.. Val Linf norm: nan\n"
          ]
        },
        {
          "name": "stderr",
          "output_type": "stream",
          "text": [
            "WARNING:tensorboardX.x2num:NaN or Inf found in input tensor.\n",
            "WARNING:tensorboardX.x2num:NaN or Inf found in input tensor.\n",
            "WARNING:tensorboardX.x2num:NaN or Inf found in input tensor.\n",
            "WARNING:tensorboardX.x2num:NaN or Inf found in input tensor.\n",
            "WARNING:tensorboardX.x2num:NaN or Inf found in input tensor.\n",
            "WARNING:tensorboardX.x2num:NaN or Inf found in input tensor.\n"
          ]
        },
        {
          "name": "stdout",
          "output_type": "stream",
          "text": [
            "Epoch 10/85.. Train loss: nan.. Val loss: nan.. Train L1 norm: nan.. Val L1 norm: nan.. Train Linf norm: nan.. Val Linf norm: nan\n"
          ]
        },
        {
          "name": "stderr",
          "output_type": "stream",
          "text": [
            "WARNING:tensorboardX.x2num:NaN or Inf found in input tensor.\n",
            "WARNING:tensorboardX.x2num:NaN or Inf found in input tensor.\n",
            "WARNING:tensorboardX.x2num:NaN or Inf found in input tensor.\n",
            "WARNING:tensorboardX.x2num:NaN or Inf found in input tensor.\n",
            "WARNING:tensorboardX.x2num:NaN or Inf found in input tensor.\n",
            "WARNING:tensorboardX.x2num:NaN or Inf found in input tensor.\n"
          ]
        },
        {
          "name": "stdout",
          "output_type": "stream",
          "text": [
            "Epoch 11/85.. Train loss: nan.. Val loss: nan.. Train L1 norm: nan.. Val L1 norm: nan.. Train Linf norm: nan.. Val Linf norm: nan\n"
          ]
        },
        {
          "name": "stderr",
          "output_type": "stream",
          "text": [
            "WARNING:tensorboardX.x2num:NaN or Inf found in input tensor.\n",
            "WARNING:tensorboardX.x2num:NaN or Inf found in input tensor.\n",
            "WARNING:tensorboardX.x2num:NaN or Inf found in input tensor.\n",
            "WARNING:tensorboardX.x2num:NaN or Inf found in input tensor.\n",
            "WARNING:tensorboardX.x2num:NaN or Inf found in input tensor.\n",
            "WARNING:tensorboardX.x2num:NaN or Inf found in input tensor.\n"
          ]
        },
        {
          "name": "stdout",
          "output_type": "stream",
          "text": [
            "Epoch 12/85.. Train loss: nan.. Val loss: nan.. Train L1 norm: nan.. Val L1 norm: nan.. Train Linf norm: nan.. Val Linf norm: nan\n"
          ]
        },
        {
          "name": "stderr",
          "output_type": "stream",
          "text": [
            "WARNING:tensorboardX.x2num:NaN or Inf found in input tensor.\n",
            "WARNING:tensorboardX.x2num:NaN or Inf found in input tensor.\n",
            "WARNING:tensorboardX.x2num:NaN or Inf found in input tensor.\n",
            "WARNING:tensorboardX.x2num:NaN or Inf found in input tensor.\n",
            "WARNING:tensorboardX.x2num:NaN or Inf found in input tensor.\n",
            "WARNING:tensorboardX.x2num:NaN or Inf found in input tensor.\n"
          ]
        },
        {
          "name": "stdout",
          "output_type": "stream",
          "text": [
            "Epoch 13/85.. Train loss: nan.. Val loss: nan.. Train L1 norm: nan.. Val L1 norm: nan.. Train Linf norm: nan.. Val Linf norm: nan\n"
          ]
        },
        {
          "name": "stderr",
          "output_type": "stream",
          "text": [
            "WARNING:tensorboardX.x2num:NaN or Inf found in input tensor.\n",
            "WARNING:tensorboardX.x2num:NaN or Inf found in input tensor.\n",
            "WARNING:tensorboardX.x2num:NaN or Inf found in input tensor.\n",
            "WARNING:tensorboardX.x2num:NaN or Inf found in input tensor.\n",
            "WARNING:tensorboardX.x2num:NaN or Inf found in input tensor.\n",
            "WARNING:tensorboardX.x2num:NaN or Inf found in input tensor.\n"
          ]
        },
        {
          "name": "stdout",
          "output_type": "stream",
          "text": [
            "Epoch 14/85.. Train loss: nan.. Val loss: nan.. Train L1 norm: nan.. Val L1 norm: nan.. Train Linf norm: nan.. Val Linf norm: nan\n"
          ]
        },
        {
          "name": "stderr",
          "output_type": "stream",
          "text": [
            "WARNING:tensorboardX.x2num:NaN or Inf found in input tensor.\n",
            "WARNING:tensorboardX.x2num:NaN or Inf found in input tensor.\n",
            "WARNING:tensorboardX.x2num:NaN or Inf found in input tensor.\n",
            "WARNING:tensorboardX.x2num:NaN or Inf found in input tensor.\n",
            "WARNING:tensorboardX.x2num:NaN or Inf found in input tensor.\n",
            "WARNING:tensorboardX.x2num:NaN or Inf found in input tensor.\n"
          ]
        },
        {
          "name": "stdout",
          "output_type": "stream",
          "text": [
            "Epoch 15/85.. Train loss: nan.. Val loss: nan.. Train L1 norm: nan.. Val L1 norm: nan.. Train Linf norm: nan.. Val Linf norm: nan\n"
          ]
        },
        {
          "name": "stderr",
          "output_type": "stream",
          "text": [
            "WARNING:tensorboardX.x2num:NaN or Inf found in input tensor.\n",
            "WARNING:tensorboardX.x2num:NaN or Inf found in input tensor.\n",
            "WARNING:tensorboardX.x2num:NaN or Inf found in input tensor.\n",
            "WARNING:tensorboardX.x2num:NaN or Inf found in input tensor.\n",
            "WARNING:tensorboardX.x2num:NaN or Inf found in input tensor.\n",
            "WARNING:tensorboardX.x2num:NaN or Inf found in input tensor.\n"
          ]
        },
        {
          "name": "stdout",
          "output_type": "stream",
          "text": [
            "Epoch 16/85.. Train loss: nan.. Val loss: nan.. Train L1 norm: nan.. Val L1 norm: nan.. Train Linf norm: nan.. Val Linf norm: nan\n"
          ]
        },
        {
          "name": "stderr",
          "output_type": "stream",
          "text": [
            "WARNING:tensorboardX.x2num:NaN or Inf found in input tensor.\n",
            "WARNING:tensorboardX.x2num:NaN or Inf found in input tensor.\n",
            "WARNING:tensorboardX.x2num:NaN or Inf found in input tensor.\n",
            "WARNING:tensorboardX.x2num:NaN or Inf found in input tensor.\n",
            "WARNING:tensorboardX.x2num:NaN or Inf found in input tensor.\n",
            "WARNING:tensorboardX.x2num:NaN or Inf found in input tensor.\n"
          ]
        },
        {
          "name": "stdout",
          "output_type": "stream",
          "text": [
            "Epoch 17/85.. Train loss: nan.. Val loss: nan.. Train L1 norm: nan.. Val L1 norm: nan.. Train Linf norm: nan.. Val Linf norm: nan\n"
          ]
        },
        {
          "name": "stderr",
          "output_type": "stream",
          "text": [
            "WARNING:tensorboardX.x2num:NaN or Inf found in input tensor.\n",
            "WARNING:tensorboardX.x2num:NaN or Inf found in input tensor.\n",
            "WARNING:tensorboardX.x2num:NaN or Inf found in input tensor.\n",
            "WARNING:tensorboardX.x2num:NaN or Inf found in input tensor.\n",
            "WARNING:tensorboardX.x2num:NaN or Inf found in input tensor.\n",
            "WARNING:tensorboardX.x2num:NaN or Inf found in input tensor.\n"
          ]
        },
        {
          "name": "stdout",
          "output_type": "stream",
          "text": [
            "Epoch 18/85.. Train loss: nan.. Val loss: nan.. Train L1 norm: nan.. Val L1 norm: nan.. Train Linf norm: nan.. Val Linf norm: nan\n"
          ]
        },
        {
          "name": "stderr",
          "output_type": "stream",
          "text": [
            "WARNING:tensorboardX.x2num:NaN or Inf found in input tensor.\n",
            "WARNING:tensorboardX.x2num:NaN or Inf found in input tensor.\n",
            "WARNING:tensorboardX.x2num:NaN or Inf found in input tensor.\n",
            "WARNING:tensorboardX.x2num:NaN or Inf found in input tensor.\n",
            "WARNING:tensorboardX.x2num:NaN or Inf found in input tensor.\n",
            "WARNING:tensorboardX.x2num:NaN or Inf found in input tensor.\n"
          ]
        },
        {
          "name": "stdout",
          "output_type": "stream",
          "text": [
            "Epoch 19/85.. Train loss: nan.. Val loss: nan.. Train L1 norm: nan.. Val L1 norm: nan.. Train Linf norm: nan.. Val Linf norm: nan\n"
          ]
        },
        {
          "name": "stderr",
          "output_type": "stream",
          "text": [
            "WARNING:tensorboardX.x2num:NaN or Inf found in input tensor.\n",
            "WARNING:tensorboardX.x2num:NaN or Inf found in input tensor.\n",
            "WARNING:tensorboardX.x2num:NaN or Inf found in input tensor.\n",
            "WARNING:tensorboardX.x2num:NaN or Inf found in input tensor.\n",
            "WARNING:tensorboardX.x2num:NaN or Inf found in input tensor.\n",
            "WARNING:tensorboardX.x2num:NaN or Inf found in input tensor.\n"
          ]
        },
        {
          "name": "stdout",
          "output_type": "stream",
          "text": [
            "Epoch 20/85.. Train loss: nan.. Val loss: nan.. Train L1 norm: nan.. Val L1 norm: nan.. Train Linf norm: nan.. Val Linf norm: nan\n"
          ]
        },
        {
          "name": "stderr",
          "output_type": "stream",
          "text": [
            "WARNING:tensorboardX.x2num:NaN or Inf found in input tensor.\n",
            "WARNING:tensorboardX.x2num:NaN or Inf found in input tensor.\n",
            "WARNING:tensorboardX.x2num:NaN or Inf found in input tensor.\n",
            "WARNING:tensorboardX.x2num:NaN or Inf found in input tensor.\n",
            "WARNING:tensorboardX.x2num:NaN or Inf found in input tensor.\n",
            "WARNING:tensorboardX.x2num:NaN or Inf found in input tensor.\n"
          ]
        },
        {
          "name": "stdout",
          "output_type": "stream",
          "text": [
            "Epoch 21/85.. Train loss: nan.. Val loss: nan.. Train L1 norm: nan.. Val L1 norm: nan.. Train Linf norm: nan.. Val Linf norm: nan\n"
          ]
        },
        {
          "name": "stderr",
          "output_type": "stream",
          "text": [
            "WARNING:tensorboardX.x2num:NaN or Inf found in input tensor.\n",
            "WARNING:tensorboardX.x2num:NaN or Inf found in input tensor.\n",
            "WARNING:tensorboardX.x2num:NaN or Inf found in input tensor.\n",
            "WARNING:tensorboardX.x2num:NaN or Inf found in input tensor.\n",
            "WARNING:tensorboardX.x2num:NaN or Inf found in input tensor.\n",
            "WARNING:tensorboardX.x2num:NaN or Inf found in input tensor.\n"
          ]
        },
        {
          "name": "stdout",
          "output_type": "stream",
          "text": [
            "Epoch 22/85.. Train loss: nan.. Val loss: nan.. Train L1 norm: nan.. Val L1 norm: nan.. Train Linf norm: nan.. Val Linf norm: nan\n"
          ]
        },
        {
          "name": "stderr",
          "output_type": "stream",
          "text": [
            "WARNING:tensorboardX.x2num:NaN or Inf found in input tensor.\n",
            "WARNING:tensorboardX.x2num:NaN or Inf found in input tensor.\n",
            "WARNING:tensorboardX.x2num:NaN or Inf found in input tensor.\n",
            "WARNING:tensorboardX.x2num:NaN or Inf found in input tensor.\n",
            "WARNING:tensorboardX.x2num:NaN or Inf found in input tensor.\n",
            "WARNING:tensorboardX.x2num:NaN or Inf found in input tensor.\n"
          ]
        },
        {
          "name": "stdout",
          "output_type": "stream",
          "text": [
            "Epoch 23/85.. Train loss: nan.. Val loss: nan.. Train L1 norm: nan.. Val L1 norm: nan.. Train Linf norm: nan.. Val Linf norm: nan\n"
          ]
        },
        {
          "name": "stderr",
          "output_type": "stream",
          "text": [
            "WARNING:tensorboardX.x2num:NaN or Inf found in input tensor.\n",
            "WARNING:tensorboardX.x2num:NaN or Inf found in input tensor.\n",
            "WARNING:tensorboardX.x2num:NaN or Inf found in input tensor.\n",
            "WARNING:tensorboardX.x2num:NaN or Inf found in input tensor.\n",
            "WARNING:tensorboardX.x2num:NaN or Inf found in input tensor.\n",
            "WARNING:tensorboardX.x2num:NaN or Inf found in input tensor.\n"
          ]
        },
        {
          "name": "stdout",
          "output_type": "stream",
          "text": [
            "Epoch 24/85.. Train loss: nan.. Val loss: nan.. Train L1 norm: nan.. Val L1 norm: nan.. Train Linf norm: nan.. Val Linf norm: nan\n"
          ]
        },
        {
          "name": "stderr",
          "output_type": "stream",
          "text": [
            "WARNING:tensorboardX.x2num:NaN or Inf found in input tensor.\n",
            "WARNING:tensorboardX.x2num:NaN or Inf found in input tensor.\n",
            "WARNING:tensorboardX.x2num:NaN or Inf found in input tensor.\n",
            "WARNING:tensorboardX.x2num:NaN or Inf found in input tensor.\n",
            "WARNING:tensorboardX.x2num:NaN or Inf found in input tensor.\n",
            "WARNING:tensorboardX.x2num:NaN or Inf found in input tensor.\n"
          ]
        },
        {
          "name": "stdout",
          "output_type": "stream",
          "text": [
            "Epoch 25/85.. Train loss: nan.. Val loss: nan.. Train L1 norm: nan.. Val L1 norm: nan.. Train Linf norm: nan.. Val Linf norm: nan\n"
          ]
        },
        {
          "name": "stderr",
          "output_type": "stream",
          "text": [
            "WARNING:tensorboardX.x2num:NaN or Inf found in input tensor.\n",
            "WARNING:tensorboardX.x2num:NaN or Inf found in input tensor.\n",
            "WARNING:tensorboardX.x2num:NaN or Inf found in input tensor.\n",
            "WARNING:tensorboardX.x2num:NaN or Inf found in input tensor.\n",
            "WARNING:tensorboardX.x2num:NaN or Inf found in input tensor.\n",
            "WARNING:tensorboardX.x2num:NaN or Inf found in input tensor.\n"
          ]
        },
        {
          "name": "stdout",
          "output_type": "stream",
          "text": [
            "Epoch 26/85.. Train loss: nan.. Val loss: nan.. Train L1 norm: nan.. Val L1 norm: nan.. Train Linf norm: nan.. Val Linf norm: nan\n"
          ]
        },
        {
          "name": "stderr",
          "output_type": "stream",
          "text": [
            "WARNING:tensorboardX.x2num:NaN or Inf found in input tensor.\n",
            "WARNING:tensorboardX.x2num:NaN or Inf found in input tensor.\n",
            "WARNING:tensorboardX.x2num:NaN or Inf found in input tensor.\n",
            "WARNING:tensorboardX.x2num:NaN or Inf found in input tensor.\n",
            "WARNING:tensorboardX.x2num:NaN or Inf found in input tensor.\n",
            "WARNING:tensorboardX.x2num:NaN or Inf found in input tensor.\n"
          ]
        },
        {
          "name": "stdout",
          "output_type": "stream",
          "text": [
            "Epoch 27/85.. Train loss: nan.. Val loss: nan.. Train L1 norm: nan.. Val L1 norm: nan.. Train Linf norm: nan.. Val Linf norm: nan\n"
          ]
        },
        {
          "name": "stderr",
          "output_type": "stream",
          "text": [
            "WARNING:tensorboardX.x2num:NaN or Inf found in input tensor.\n",
            "WARNING:tensorboardX.x2num:NaN or Inf found in input tensor.\n",
            "WARNING:tensorboardX.x2num:NaN or Inf found in input tensor.\n",
            "WARNING:tensorboardX.x2num:NaN or Inf found in input tensor.\n",
            "WARNING:tensorboardX.x2num:NaN or Inf found in input tensor.\n",
            "WARNING:tensorboardX.x2num:NaN or Inf found in input tensor.\n"
          ]
        },
        {
          "name": "stdout",
          "output_type": "stream",
          "text": [
            "Epoch 28/85.. Train loss: nan.. Val loss: nan.. Train L1 norm: nan.. Val L1 norm: nan.. Train Linf norm: nan.. Val Linf norm: nan\n"
          ]
        },
        {
          "name": "stderr",
          "output_type": "stream",
          "text": [
            "WARNING:tensorboardX.x2num:NaN or Inf found in input tensor.\n",
            "WARNING:tensorboardX.x2num:NaN or Inf found in input tensor.\n",
            "WARNING:tensorboardX.x2num:NaN or Inf found in input tensor.\n",
            "WARNING:tensorboardX.x2num:NaN or Inf found in input tensor.\n",
            "WARNING:tensorboardX.x2num:NaN or Inf found in input tensor.\n",
            "WARNING:tensorboardX.x2num:NaN or Inf found in input tensor.\n"
          ]
        },
        {
          "name": "stdout",
          "output_type": "stream",
          "text": [
            "Epoch 29/85.. Train loss: nan.. Val loss: nan.. Train L1 norm: nan.. Val L1 norm: nan.. Train Linf norm: nan.. Val Linf norm: nan\n"
          ]
        },
        {
          "name": "stderr",
          "output_type": "stream",
          "text": [
            "WARNING:tensorboardX.x2num:NaN or Inf found in input tensor.\n",
            "WARNING:tensorboardX.x2num:NaN or Inf found in input tensor.\n",
            "WARNING:tensorboardX.x2num:NaN or Inf found in input tensor.\n",
            "WARNING:tensorboardX.x2num:NaN or Inf found in input tensor.\n",
            "WARNING:tensorboardX.x2num:NaN or Inf found in input tensor.\n",
            "WARNING:tensorboardX.x2num:NaN or Inf found in input tensor.\n"
          ]
        },
        {
          "name": "stdout",
          "output_type": "stream",
          "text": [
            "Epoch 30/85.. Train loss: nan.. Val loss: nan.. Train L1 norm: nan.. Val L1 norm: nan.. Train Linf norm: nan.. Val Linf norm: nan\n"
          ]
        },
        {
          "name": "stderr",
          "output_type": "stream",
          "text": [
            "WARNING:tensorboardX.x2num:NaN or Inf found in input tensor.\n",
            "WARNING:tensorboardX.x2num:NaN or Inf found in input tensor.\n",
            "WARNING:tensorboardX.x2num:NaN or Inf found in input tensor.\n",
            "WARNING:tensorboardX.x2num:NaN or Inf found in input tensor.\n",
            "WARNING:tensorboardX.x2num:NaN or Inf found in input tensor.\n",
            "WARNING:tensorboardX.x2num:NaN or Inf found in input tensor.\n"
          ]
        },
        {
          "name": "stdout",
          "output_type": "stream",
          "text": [
            "Epoch 31/85.. Train loss: nan.. Val loss: nan.. Train L1 norm: nan.. Val L1 norm: nan.. Train Linf norm: nan.. Val Linf norm: nan\n"
          ]
        },
        {
          "name": "stderr",
          "output_type": "stream",
          "text": [
            "WARNING:tensorboardX.x2num:NaN or Inf found in input tensor.\n",
            "WARNING:tensorboardX.x2num:NaN or Inf found in input tensor.\n",
            "WARNING:tensorboardX.x2num:NaN or Inf found in input tensor.\n",
            "WARNING:tensorboardX.x2num:NaN or Inf found in input tensor.\n",
            "WARNING:tensorboardX.x2num:NaN or Inf found in input tensor.\n",
            "WARNING:tensorboardX.x2num:NaN or Inf found in input tensor.\n"
          ]
        },
        {
          "name": "stdout",
          "output_type": "stream",
          "text": [
            "Epoch 32/85.. Train loss: nan.. Val loss: nan.. Train L1 norm: nan.. Val L1 norm: nan.. Train Linf norm: nan.. Val Linf norm: nan\n"
          ]
        },
        {
          "name": "stderr",
          "output_type": "stream",
          "text": [
            "WARNING:tensorboardX.x2num:NaN or Inf found in input tensor.\n",
            "WARNING:tensorboardX.x2num:NaN or Inf found in input tensor.\n",
            "WARNING:tensorboardX.x2num:NaN or Inf found in input tensor.\n",
            "WARNING:tensorboardX.x2num:NaN or Inf found in input tensor.\n",
            "WARNING:tensorboardX.x2num:NaN or Inf found in input tensor.\n",
            "WARNING:tensorboardX.x2num:NaN or Inf found in input tensor.\n"
          ]
        },
        {
          "name": "stdout",
          "output_type": "stream",
          "text": [
            "Epoch 33/85.. Train loss: nan.. Val loss: nan.. Train L1 norm: nan.. Val L1 norm: nan.. Train Linf norm: nan.. Val Linf norm: nan\n"
          ]
        },
        {
          "name": "stderr",
          "output_type": "stream",
          "text": [
            "WARNING:tensorboardX.x2num:NaN or Inf found in input tensor.\n",
            "WARNING:tensorboardX.x2num:NaN or Inf found in input tensor.\n",
            "WARNING:tensorboardX.x2num:NaN or Inf found in input tensor.\n",
            "WARNING:tensorboardX.x2num:NaN or Inf found in input tensor.\n",
            "WARNING:tensorboardX.x2num:NaN or Inf found in input tensor.\n",
            "WARNING:tensorboardX.x2num:NaN or Inf found in input tensor.\n"
          ]
        },
        {
          "name": "stdout",
          "output_type": "stream",
          "text": [
            "Epoch 34/85.. Train loss: nan.. Val loss: nan.. Train L1 norm: nan.. Val L1 norm: nan.. Train Linf norm: nan.. Val Linf norm: nan\n"
          ]
        },
        {
          "name": "stderr",
          "output_type": "stream",
          "text": [
            "WARNING:tensorboardX.x2num:NaN or Inf found in input tensor.\n",
            "WARNING:tensorboardX.x2num:NaN or Inf found in input tensor.\n",
            "WARNING:tensorboardX.x2num:NaN or Inf found in input tensor.\n",
            "WARNING:tensorboardX.x2num:NaN or Inf found in input tensor.\n",
            "WARNING:tensorboardX.x2num:NaN or Inf found in input tensor.\n",
            "WARNING:tensorboardX.x2num:NaN or Inf found in input tensor.\n"
          ]
        },
        {
          "name": "stdout",
          "output_type": "stream",
          "text": [
            "Epoch 35/85.. Train loss: nan.. Val loss: nan.. Train L1 norm: nan.. Val L1 norm: nan.. Train Linf norm: nan.. Val Linf norm: nan\n"
          ]
        },
        {
          "name": "stderr",
          "output_type": "stream",
          "text": [
            "WARNING:tensorboardX.x2num:NaN or Inf found in input tensor.\n",
            "WARNING:tensorboardX.x2num:NaN or Inf found in input tensor.\n",
            "WARNING:tensorboardX.x2num:NaN or Inf found in input tensor.\n",
            "WARNING:tensorboardX.x2num:NaN or Inf found in input tensor.\n",
            "WARNING:tensorboardX.x2num:NaN or Inf found in input tensor.\n",
            "WARNING:tensorboardX.x2num:NaN or Inf found in input tensor.\n"
          ]
        },
        {
          "name": "stdout",
          "output_type": "stream",
          "text": [
            "Epoch 36/85.. Train loss: nan.. Val loss: nan.. Train L1 norm: nan.. Val L1 norm: nan.. Train Linf norm: nan.. Val Linf norm: nan\n"
          ]
        },
        {
          "name": "stderr",
          "output_type": "stream",
          "text": [
            "WARNING:tensorboardX.x2num:NaN or Inf found in input tensor.\n",
            "WARNING:tensorboardX.x2num:NaN or Inf found in input tensor.\n",
            "WARNING:tensorboardX.x2num:NaN or Inf found in input tensor.\n",
            "WARNING:tensorboardX.x2num:NaN or Inf found in input tensor.\n",
            "WARNING:tensorboardX.x2num:NaN or Inf found in input tensor.\n",
            "WARNING:tensorboardX.x2num:NaN or Inf found in input tensor.\n"
          ]
        },
        {
          "name": "stdout",
          "output_type": "stream",
          "text": [
            "Epoch 37/85.. Train loss: nan.. Val loss: nan.. Train L1 norm: nan.. Val L1 norm: nan.. Train Linf norm: nan.. Val Linf norm: nan\n"
          ]
        },
        {
          "name": "stderr",
          "output_type": "stream",
          "text": [
            "WARNING:tensorboardX.x2num:NaN or Inf found in input tensor.\n",
            "WARNING:tensorboardX.x2num:NaN or Inf found in input tensor.\n",
            "WARNING:tensorboardX.x2num:NaN or Inf found in input tensor.\n",
            "WARNING:tensorboardX.x2num:NaN or Inf found in input tensor.\n",
            "WARNING:tensorboardX.x2num:NaN or Inf found in input tensor.\n",
            "WARNING:tensorboardX.x2num:NaN or Inf found in input tensor.\n"
          ]
        },
        {
          "name": "stdout",
          "output_type": "stream",
          "text": [
            "Epoch 38/85.. Train loss: nan.. Val loss: nan.. Train L1 norm: nan.. Val L1 norm: nan.. Train Linf norm: nan.. Val Linf norm: nan\n"
          ]
        },
        {
          "name": "stderr",
          "output_type": "stream",
          "text": [
            "WARNING:tensorboardX.x2num:NaN or Inf found in input tensor.\n",
            "WARNING:tensorboardX.x2num:NaN or Inf found in input tensor.\n",
            "WARNING:tensorboardX.x2num:NaN or Inf found in input tensor.\n",
            "WARNING:tensorboardX.x2num:NaN or Inf found in input tensor.\n",
            "WARNING:tensorboardX.x2num:NaN or Inf found in input tensor.\n",
            "WARNING:tensorboardX.x2num:NaN or Inf found in input tensor.\n"
          ]
        },
        {
          "name": "stdout",
          "output_type": "stream",
          "text": [
            "Epoch 39/85.. Train loss: nan.. Val loss: nan.. Train L1 norm: nan.. Val L1 norm: nan.. Train Linf norm: nan.. Val Linf norm: nan\n"
          ]
        },
        {
          "name": "stderr",
          "output_type": "stream",
          "text": [
            "WARNING:tensorboardX.x2num:NaN or Inf found in input tensor.\n",
            "WARNING:tensorboardX.x2num:NaN or Inf found in input tensor.\n",
            "WARNING:tensorboardX.x2num:NaN or Inf found in input tensor.\n",
            "WARNING:tensorboardX.x2num:NaN or Inf found in input tensor.\n",
            "WARNING:tensorboardX.x2num:NaN or Inf found in input tensor.\n",
            "WARNING:tensorboardX.x2num:NaN or Inf found in input tensor.\n"
          ]
        },
        {
          "name": "stdout",
          "output_type": "stream",
          "text": [
            "Epoch 40/85.. Train loss: nan.. Val loss: nan.. Train L1 norm: nan.. Val L1 norm: nan.. Train Linf norm: nan.. Val Linf norm: nan\n"
          ]
        },
        {
          "name": "stderr",
          "output_type": "stream",
          "text": [
            "WARNING:tensorboardX.x2num:NaN or Inf found in input tensor.\n",
            "WARNING:tensorboardX.x2num:NaN or Inf found in input tensor.\n",
            "WARNING:tensorboardX.x2num:NaN or Inf found in input tensor.\n",
            "WARNING:tensorboardX.x2num:NaN or Inf found in input tensor.\n",
            "WARNING:tensorboardX.x2num:NaN or Inf found in input tensor.\n",
            "WARNING:tensorboardX.x2num:NaN or Inf found in input tensor.\n"
          ]
        },
        {
          "name": "stdout",
          "output_type": "stream",
          "text": [
            "Epoch 41/85.. Train loss: nan.. Val loss: nan.. Train L1 norm: nan.. Val L1 norm: nan.. Train Linf norm: nan.. Val Linf norm: nan\n"
          ]
        },
        {
          "name": "stderr",
          "output_type": "stream",
          "text": [
            "WARNING:tensorboardX.x2num:NaN or Inf found in input tensor.\n",
            "WARNING:tensorboardX.x2num:NaN or Inf found in input tensor.\n",
            "WARNING:tensorboardX.x2num:NaN or Inf found in input tensor.\n",
            "WARNING:tensorboardX.x2num:NaN or Inf found in input tensor.\n",
            "WARNING:tensorboardX.x2num:NaN or Inf found in input tensor.\n",
            "WARNING:tensorboardX.x2num:NaN or Inf found in input tensor.\n"
          ]
        },
        {
          "name": "stdout",
          "output_type": "stream",
          "text": [
            "Epoch 42/85.. Train loss: nan.. Val loss: nan.. Train L1 norm: nan.. Val L1 norm: nan.. Train Linf norm: nan.. Val Linf norm: nan\n"
          ]
        },
        {
          "name": "stderr",
          "output_type": "stream",
          "text": [
            "WARNING:tensorboardX.x2num:NaN or Inf found in input tensor.\n",
            "WARNING:tensorboardX.x2num:NaN or Inf found in input tensor.\n",
            "WARNING:tensorboardX.x2num:NaN or Inf found in input tensor.\n",
            "WARNING:tensorboardX.x2num:NaN or Inf found in input tensor.\n",
            "WARNING:tensorboardX.x2num:NaN or Inf found in input tensor.\n",
            "WARNING:tensorboardX.x2num:NaN or Inf found in input tensor.\n"
          ]
        },
        {
          "name": "stdout",
          "output_type": "stream",
          "text": [
            "Epoch 43/85.. Train loss: nan.. Val loss: nan.. Train L1 norm: nan.. Val L1 norm: nan.. Train Linf norm: nan.. Val Linf norm: nan\n"
          ]
        },
        {
          "name": "stderr",
          "output_type": "stream",
          "text": [
            "WARNING:tensorboardX.x2num:NaN or Inf found in input tensor.\n",
            "WARNING:tensorboardX.x2num:NaN or Inf found in input tensor.\n",
            "WARNING:tensorboardX.x2num:NaN or Inf found in input tensor.\n",
            "WARNING:tensorboardX.x2num:NaN or Inf found in input tensor.\n",
            "WARNING:tensorboardX.x2num:NaN or Inf found in input tensor.\n",
            "WARNING:tensorboardX.x2num:NaN or Inf found in input tensor.\n"
          ]
        },
        {
          "name": "stdout",
          "output_type": "stream",
          "text": [
            "Epoch 44/85.. Train loss: nan.. Val loss: nan.. Train L1 norm: nan.. Val L1 norm: nan.. Train Linf norm: nan.. Val Linf norm: nan\n"
          ]
        },
        {
          "name": "stderr",
          "output_type": "stream",
          "text": [
            "WARNING:tensorboardX.x2num:NaN or Inf found in input tensor.\n",
            "WARNING:tensorboardX.x2num:NaN or Inf found in input tensor.\n",
            "WARNING:tensorboardX.x2num:NaN or Inf found in input tensor.\n",
            "WARNING:tensorboardX.x2num:NaN or Inf found in input tensor.\n",
            "WARNING:tensorboardX.x2num:NaN or Inf found in input tensor.\n",
            "WARNING:tensorboardX.x2num:NaN or Inf found in input tensor.\n"
          ]
        },
        {
          "name": "stdout",
          "output_type": "stream",
          "text": [
            "Epoch 45/85.. Train loss: nan.. Val loss: nan.. Train L1 norm: nan.. Val L1 norm: nan.. Train Linf norm: nan.. Val Linf norm: nan\n"
          ]
        },
        {
          "name": "stderr",
          "output_type": "stream",
          "text": [
            "WARNING:tensorboardX.x2num:NaN or Inf found in input tensor.\n",
            "WARNING:tensorboardX.x2num:NaN or Inf found in input tensor.\n",
            "WARNING:tensorboardX.x2num:NaN or Inf found in input tensor.\n",
            "WARNING:tensorboardX.x2num:NaN or Inf found in input tensor.\n",
            "WARNING:tensorboardX.x2num:NaN or Inf found in input tensor.\n",
            "WARNING:tensorboardX.x2num:NaN or Inf found in input tensor.\n"
          ]
        },
        {
          "name": "stdout",
          "output_type": "stream",
          "text": [
            "Epoch 46/85.. Train loss: nan.. Val loss: nan.. Train L1 norm: nan.. Val L1 norm: nan.. Train Linf norm: nan.. Val Linf norm: nan\n"
          ]
        },
        {
          "name": "stderr",
          "output_type": "stream",
          "text": [
            "WARNING:tensorboardX.x2num:NaN or Inf found in input tensor.\n",
            "WARNING:tensorboardX.x2num:NaN or Inf found in input tensor.\n",
            "WARNING:tensorboardX.x2num:NaN or Inf found in input tensor.\n",
            "WARNING:tensorboardX.x2num:NaN or Inf found in input tensor.\n",
            "WARNING:tensorboardX.x2num:NaN or Inf found in input tensor.\n",
            "WARNING:tensorboardX.x2num:NaN or Inf found in input tensor.\n"
          ]
        },
        {
          "name": "stdout",
          "output_type": "stream",
          "text": [
            "Epoch 47/85.. Train loss: nan.. Val loss: nan.. Train L1 norm: nan.. Val L1 norm: nan.. Train Linf norm: nan.. Val Linf norm: nan\n"
          ]
        },
        {
          "name": "stderr",
          "output_type": "stream",
          "text": [
            "WARNING:tensorboardX.x2num:NaN or Inf found in input tensor.\n",
            "WARNING:tensorboardX.x2num:NaN or Inf found in input tensor.\n",
            "WARNING:tensorboardX.x2num:NaN or Inf found in input tensor.\n",
            "WARNING:tensorboardX.x2num:NaN or Inf found in input tensor.\n",
            "WARNING:tensorboardX.x2num:NaN or Inf found in input tensor.\n",
            "WARNING:tensorboardX.x2num:NaN or Inf found in input tensor.\n"
          ]
        },
        {
          "name": "stdout",
          "output_type": "stream",
          "text": [
            "Epoch 48/85.. Train loss: nan.. Val loss: nan.. Train L1 norm: nan.. Val L1 norm: nan.. Train Linf norm: nan.. Val Linf norm: nan\n"
          ]
        },
        {
          "name": "stderr",
          "output_type": "stream",
          "text": [
            "WARNING:tensorboardX.x2num:NaN or Inf found in input tensor.\n",
            "WARNING:tensorboardX.x2num:NaN or Inf found in input tensor.\n",
            "WARNING:tensorboardX.x2num:NaN or Inf found in input tensor.\n",
            "WARNING:tensorboardX.x2num:NaN or Inf found in input tensor.\n",
            "WARNING:tensorboardX.x2num:NaN or Inf found in input tensor.\n",
            "WARNING:tensorboardX.x2num:NaN or Inf found in input tensor.\n"
          ]
        },
        {
          "name": "stdout",
          "output_type": "stream",
          "text": [
            "Epoch 49/85.. Train loss: nan.. Val loss: nan.. Train L1 norm: nan.. Val L1 norm: nan.. Train Linf norm: nan.. Val Linf norm: nan\n"
          ]
        },
        {
          "name": "stderr",
          "output_type": "stream",
          "text": [
            "WARNING:tensorboardX.x2num:NaN or Inf found in input tensor.\n",
            "WARNING:tensorboardX.x2num:NaN or Inf found in input tensor.\n",
            "WARNING:tensorboardX.x2num:NaN or Inf found in input tensor.\n",
            "WARNING:tensorboardX.x2num:NaN or Inf found in input tensor.\n",
            "WARNING:tensorboardX.x2num:NaN or Inf found in input tensor.\n",
            "WARNING:tensorboardX.x2num:NaN or Inf found in input tensor.\n"
          ]
        },
        {
          "name": "stdout",
          "output_type": "stream",
          "text": [
            "Epoch 50/85.. Train loss: nan.. Val loss: nan.. Train L1 norm: nan.. Val L1 norm: nan.. Train Linf norm: nan.. Val Linf norm: nan\n"
          ]
        },
        {
          "name": "stderr",
          "output_type": "stream",
          "text": [
            "WARNING:tensorboardX.x2num:NaN or Inf found in input tensor.\n",
            "WARNING:tensorboardX.x2num:NaN or Inf found in input tensor.\n",
            "WARNING:tensorboardX.x2num:NaN or Inf found in input tensor.\n",
            "WARNING:tensorboardX.x2num:NaN or Inf found in input tensor.\n",
            "WARNING:tensorboardX.x2num:NaN or Inf found in input tensor.\n",
            "WARNING:tensorboardX.x2num:NaN or Inf found in input tensor.\n"
          ]
        },
        {
          "name": "stdout",
          "output_type": "stream",
          "text": [
            "Epoch 51/85.. Train loss: nan.. Val loss: nan.. Train L1 norm: nan.. Val L1 norm: nan.. Train Linf norm: nan.. Val Linf norm: nan\n"
          ]
        },
        {
          "name": "stderr",
          "output_type": "stream",
          "text": [
            "WARNING:tensorboardX.x2num:NaN or Inf found in input tensor.\n",
            "WARNING:tensorboardX.x2num:NaN or Inf found in input tensor.\n",
            "WARNING:tensorboardX.x2num:NaN or Inf found in input tensor.\n",
            "WARNING:tensorboardX.x2num:NaN or Inf found in input tensor.\n",
            "WARNING:tensorboardX.x2num:NaN or Inf found in input tensor.\n",
            "WARNING:tensorboardX.x2num:NaN or Inf found in input tensor.\n"
          ]
        },
        {
          "name": "stdout",
          "output_type": "stream",
          "text": [
            "Epoch 52/85.. Train loss: nan.. Val loss: nan.. Train L1 norm: nan.. Val L1 norm: nan.. Train Linf norm: nan.. Val Linf norm: nan\n"
          ]
        },
        {
          "name": "stderr",
          "output_type": "stream",
          "text": [
            "WARNING:tensorboardX.x2num:NaN or Inf found in input tensor.\n",
            "WARNING:tensorboardX.x2num:NaN or Inf found in input tensor.\n",
            "WARNING:tensorboardX.x2num:NaN or Inf found in input tensor.\n",
            "WARNING:tensorboardX.x2num:NaN or Inf found in input tensor.\n",
            "WARNING:tensorboardX.x2num:NaN or Inf found in input tensor.\n",
            "WARNING:tensorboardX.x2num:NaN or Inf found in input tensor.\n"
          ]
        },
        {
          "name": "stdout",
          "output_type": "stream",
          "text": [
            "Epoch 53/85.. Train loss: nan.. Val loss: nan.. Train L1 norm: nan.. Val L1 norm: nan.. Train Linf norm: nan.. Val Linf norm: nan\n"
          ]
        },
        {
          "name": "stderr",
          "output_type": "stream",
          "text": [
            "WARNING:tensorboardX.x2num:NaN or Inf found in input tensor.\n",
            "WARNING:tensorboardX.x2num:NaN or Inf found in input tensor.\n",
            "WARNING:tensorboardX.x2num:NaN or Inf found in input tensor.\n",
            "WARNING:tensorboardX.x2num:NaN or Inf found in input tensor.\n",
            "WARNING:tensorboardX.x2num:NaN or Inf found in input tensor.\n",
            "WARNING:tensorboardX.x2num:NaN or Inf found in input tensor.\n"
          ]
        },
        {
          "name": "stdout",
          "output_type": "stream",
          "text": [
            "Epoch 54/85.. Train loss: nan.. Val loss: nan.. Train L1 norm: nan.. Val L1 norm: nan.. Train Linf norm: nan.. Val Linf norm: nan\n"
          ]
        },
        {
          "name": "stderr",
          "output_type": "stream",
          "text": [
            "WARNING:tensorboardX.x2num:NaN or Inf found in input tensor.\n",
            "WARNING:tensorboardX.x2num:NaN or Inf found in input tensor.\n",
            "WARNING:tensorboardX.x2num:NaN or Inf found in input tensor.\n",
            "WARNING:tensorboardX.x2num:NaN or Inf found in input tensor.\n",
            "WARNING:tensorboardX.x2num:NaN or Inf found in input tensor.\n",
            "WARNING:tensorboardX.x2num:NaN or Inf found in input tensor.\n"
          ]
        },
        {
          "name": "stdout",
          "output_type": "stream",
          "text": [
            "Epoch 55/85.. Train loss: nan.. Val loss: nan.. Train L1 norm: nan.. Val L1 norm: nan.. Train Linf norm: nan.. Val Linf norm: nan\n"
          ]
        },
        {
          "name": "stderr",
          "output_type": "stream",
          "text": [
            "WARNING:tensorboardX.x2num:NaN or Inf found in input tensor.\n",
            "WARNING:tensorboardX.x2num:NaN or Inf found in input tensor.\n",
            "WARNING:tensorboardX.x2num:NaN or Inf found in input tensor.\n",
            "WARNING:tensorboardX.x2num:NaN or Inf found in input tensor.\n",
            "WARNING:tensorboardX.x2num:NaN or Inf found in input tensor.\n",
            "WARNING:tensorboardX.x2num:NaN or Inf found in input tensor.\n"
          ]
        },
        {
          "name": "stdout",
          "output_type": "stream",
          "text": [
            "Epoch 56/85.. Train loss: nan.. Val loss: nan.. Train L1 norm: nan.. Val L1 norm: nan.. Train Linf norm: nan.. Val Linf norm: nan\n"
          ]
        },
        {
          "name": "stderr",
          "output_type": "stream",
          "text": [
            "WARNING:tensorboardX.x2num:NaN or Inf found in input tensor.\n",
            "WARNING:tensorboardX.x2num:NaN or Inf found in input tensor.\n",
            "WARNING:tensorboardX.x2num:NaN or Inf found in input tensor.\n",
            "WARNING:tensorboardX.x2num:NaN or Inf found in input tensor.\n",
            "WARNING:tensorboardX.x2num:NaN or Inf found in input tensor.\n",
            "WARNING:tensorboardX.x2num:NaN or Inf found in input tensor.\n"
          ]
        },
        {
          "name": "stdout",
          "output_type": "stream",
          "text": [
            "Epoch 57/85.. Train loss: nan.. Val loss: nan.. Train L1 norm: nan.. Val L1 norm: nan.. Train Linf norm: nan.. Val Linf norm: nan\n"
          ]
        },
        {
          "name": "stderr",
          "output_type": "stream",
          "text": [
            "WARNING:tensorboardX.x2num:NaN or Inf found in input tensor.\n",
            "WARNING:tensorboardX.x2num:NaN or Inf found in input tensor.\n",
            "WARNING:tensorboardX.x2num:NaN or Inf found in input tensor.\n",
            "WARNING:tensorboardX.x2num:NaN or Inf found in input tensor.\n",
            "WARNING:tensorboardX.x2num:NaN or Inf found in input tensor.\n",
            "WARNING:tensorboardX.x2num:NaN or Inf found in input tensor.\n"
          ]
        },
        {
          "name": "stdout",
          "output_type": "stream",
          "text": [
            "Epoch 58/85.. Train loss: nan.. Val loss: nan.. Train L1 norm: nan.. Val L1 norm: nan.. Train Linf norm: nan.. Val Linf norm: nan\n"
          ]
        },
        {
          "name": "stderr",
          "output_type": "stream",
          "text": [
            "WARNING:tensorboardX.x2num:NaN or Inf found in input tensor.\n",
            "WARNING:tensorboardX.x2num:NaN or Inf found in input tensor.\n",
            "WARNING:tensorboardX.x2num:NaN or Inf found in input tensor.\n",
            "WARNING:tensorboardX.x2num:NaN or Inf found in input tensor.\n",
            "WARNING:tensorboardX.x2num:NaN or Inf found in input tensor.\n",
            "WARNING:tensorboardX.x2num:NaN or Inf found in input tensor.\n"
          ]
        },
        {
          "name": "stdout",
          "output_type": "stream",
          "text": [
            "Epoch 59/85.. Train loss: nan.. Val loss: nan.. Train L1 norm: nan.. Val L1 norm: nan.. Train Linf norm: nan.. Val Linf norm: nan\n"
          ]
        },
        {
          "name": "stderr",
          "output_type": "stream",
          "text": [
            "WARNING:tensorboardX.x2num:NaN or Inf found in input tensor.\n",
            "WARNING:tensorboardX.x2num:NaN or Inf found in input tensor.\n",
            "WARNING:tensorboardX.x2num:NaN or Inf found in input tensor.\n",
            "WARNING:tensorboardX.x2num:NaN or Inf found in input tensor.\n",
            "WARNING:tensorboardX.x2num:NaN or Inf found in input tensor.\n",
            "WARNING:tensorboardX.x2num:NaN or Inf found in input tensor.\n"
          ]
        },
        {
          "name": "stdout",
          "output_type": "stream",
          "text": [
            "Epoch 60/85.. Train loss: nan.. Val loss: nan.. Train L1 norm: nan.. Val L1 norm: nan.. Train Linf norm: nan.. Val Linf norm: nan\n"
          ]
        },
        {
          "name": "stderr",
          "output_type": "stream",
          "text": [
            "WARNING:tensorboardX.x2num:NaN or Inf found in input tensor.\n",
            "WARNING:tensorboardX.x2num:NaN or Inf found in input tensor.\n",
            "WARNING:tensorboardX.x2num:NaN or Inf found in input tensor.\n",
            "WARNING:tensorboardX.x2num:NaN or Inf found in input tensor.\n",
            "WARNING:tensorboardX.x2num:NaN or Inf found in input tensor.\n",
            "WARNING:tensorboardX.x2num:NaN or Inf found in input tensor.\n"
          ]
        },
        {
          "name": "stdout",
          "output_type": "stream",
          "text": [
            "Epoch 61/85.. Train loss: nan.. Val loss: nan.. Train L1 norm: nan.. Val L1 norm: nan.. Train Linf norm: nan.. Val Linf norm: nan\n"
          ]
        },
        {
          "name": "stderr",
          "output_type": "stream",
          "text": [
            "WARNING:tensorboardX.x2num:NaN or Inf found in input tensor.\n",
            "WARNING:tensorboardX.x2num:NaN or Inf found in input tensor.\n",
            "WARNING:tensorboardX.x2num:NaN or Inf found in input tensor.\n",
            "WARNING:tensorboardX.x2num:NaN or Inf found in input tensor.\n",
            "WARNING:tensorboardX.x2num:NaN or Inf found in input tensor.\n",
            "WARNING:tensorboardX.x2num:NaN or Inf found in input tensor.\n"
          ]
        },
        {
          "name": "stdout",
          "output_type": "stream",
          "text": [
            "Epoch 62/85.. Train loss: nan.. Val loss: nan.. Train L1 norm: nan.. Val L1 norm: nan.. Train Linf norm: nan.. Val Linf norm: nan\n"
          ]
        },
        {
          "name": "stderr",
          "output_type": "stream",
          "text": [
            "WARNING:tensorboardX.x2num:NaN or Inf found in input tensor.\n",
            "WARNING:tensorboardX.x2num:NaN or Inf found in input tensor.\n",
            "WARNING:tensorboardX.x2num:NaN or Inf found in input tensor.\n",
            "WARNING:tensorboardX.x2num:NaN or Inf found in input tensor.\n",
            "WARNING:tensorboardX.x2num:NaN or Inf found in input tensor.\n",
            "WARNING:tensorboardX.x2num:NaN or Inf found in input tensor.\n"
          ]
        },
        {
          "name": "stdout",
          "output_type": "stream",
          "text": [
            "Epoch 63/85.. Train loss: nan.. Val loss: nan.. Train L1 norm: nan.. Val L1 norm: nan.. Train Linf norm: nan.. Val Linf norm: nan\n"
          ]
        },
        {
          "name": "stderr",
          "output_type": "stream",
          "text": [
            "WARNING:tensorboardX.x2num:NaN or Inf found in input tensor.\n",
            "WARNING:tensorboardX.x2num:NaN or Inf found in input tensor.\n",
            "WARNING:tensorboardX.x2num:NaN or Inf found in input tensor.\n",
            "WARNING:tensorboardX.x2num:NaN or Inf found in input tensor.\n",
            "WARNING:tensorboardX.x2num:NaN or Inf found in input tensor.\n",
            "WARNING:tensorboardX.x2num:NaN or Inf found in input tensor.\n"
          ]
        },
        {
          "name": "stdout",
          "output_type": "stream",
          "text": [
            "Epoch 64/85.. Train loss: nan.. Val loss: nan.. Train L1 norm: nan.. Val L1 norm: nan.. Train Linf norm: nan.. Val Linf norm: nan\n"
          ]
        },
        {
          "name": "stderr",
          "output_type": "stream",
          "text": [
            "WARNING:tensorboardX.x2num:NaN or Inf found in input tensor.\n",
            "WARNING:tensorboardX.x2num:NaN or Inf found in input tensor.\n",
            "WARNING:tensorboardX.x2num:NaN or Inf found in input tensor.\n",
            "WARNING:tensorboardX.x2num:NaN or Inf found in input tensor.\n",
            "WARNING:tensorboardX.x2num:NaN or Inf found in input tensor.\n",
            "WARNING:tensorboardX.x2num:NaN or Inf found in input tensor.\n"
          ]
        },
        {
          "name": "stdout",
          "output_type": "stream",
          "text": [
            "Epoch 65/85.. Train loss: nan.. Val loss: nan.. Train L1 norm: nan.. Val L1 norm: nan.. Train Linf norm: nan.. Val Linf norm: nan\n"
          ]
        },
        {
          "name": "stderr",
          "output_type": "stream",
          "text": [
            "WARNING:tensorboardX.x2num:NaN or Inf found in input tensor.\n",
            "WARNING:tensorboardX.x2num:NaN or Inf found in input tensor.\n",
            "WARNING:tensorboardX.x2num:NaN or Inf found in input tensor.\n",
            "WARNING:tensorboardX.x2num:NaN or Inf found in input tensor.\n",
            "WARNING:tensorboardX.x2num:NaN or Inf found in input tensor.\n",
            "WARNING:tensorboardX.x2num:NaN or Inf found in input tensor.\n"
          ]
        },
        {
          "name": "stdout",
          "output_type": "stream",
          "text": [
            "Epoch 66/85.. Train loss: nan.. Val loss: nan.. Train L1 norm: nan.. Val L1 norm: nan.. Train Linf norm: nan.. Val Linf norm: nan\n"
          ]
        },
        {
          "name": "stderr",
          "output_type": "stream",
          "text": [
            "WARNING:tensorboardX.x2num:NaN or Inf found in input tensor.\n",
            "WARNING:tensorboardX.x2num:NaN or Inf found in input tensor.\n",
            "WARNING:tensorboardX.x2num:NaN or Inf found in input tensor.\n",
            "WARNING:tensorboardX.x2num:NaN or Inf found in input tensor.\n",
            "WARNING:tensorboardX.x2num:NaN or Inf found in input tensor.\n",
            "WARNING:tensorboardX.x2num:NaN or Inf found in input tensor.\n"
          ]
        },
        {
          "name": "stdout",
          "output_type": "stream",
          "text": [
            "Epoch 67/85.. Train loss: nan.. Val loss: nan.. Train L1 norm: nan.. Val L1 norm: nan.. Train Linf norm: nan.. Val Linf norm: nan\n"
          ]
        },
        {
          "name": "stderr",
          "output_type": "stream",
          "text": [
            "WARNING:tensorboardX.x2num:NaN or Inf found in input tensor.\n",
            "WARNING:tensorboardX.x2num:NaN or Inf found in input tensor.\n",
            "WARNING:tensorboardX.x2num:NaN or Inf found in input tensor.\n",
            "WARNING:tensorboardX.x2num:NaN or Inf found in input tensor.\n",
            "WARNING:tensorboardX.x2num:NaN or Inf found in input tensor.\n",
            "WARNING:tensorboardX.x2num:NaN or Inf found in input tensor.\n"
          ]
        },
        {
          "name": "stdout",
          "output_type": "stream",
          "text": [
            "Epoch 68/85.. Train loss: nan.. Val loss: nan.. Train L1 norm: nan.. Val L1 norm: nan.. Train Linf norm: nan.. Val Linf norm: nan\n"
          ]
        },
        {
          "name": "stderr",
          "output_type": "stream",
          "text": [
            "WARNING:tensorboardX.x2num:NaN or Inf found in input tensor.\n",
            "WARNING:tensorboardX.x2num:NaN or Inf found in input tensor.\n",
            "WARNING:tensorboardX.x2num:NaN or Inf found in input tensor.\n",
            "WARNING:tensorboardX.x2num:NaN or Inf found in input tensor.\n",
            "WARNING:tensorboardX.x2num:NaN or Inf found in input tensor.\n",
            "WARNING:tensorboardX.x2num:NaN or Inf found in input tensor.\n"
          ]
        },
        {
          "name": "stdout",
          "output_type": "stream",
          "text": [
            "Epoch 69/85.. Train loss: nan.. Val loss: nan.. Train L1 norm: nan.. Val L1 norm: nan.. Train Linf norm: nan.. Val Linf norm: nan\n"
          ]
        },
        {
          "name": "stderr",
          "output_type": "stream",
          "text": [
            "WARNING:tensorboardX.x2num:NaN or Inf found in input tensor.\n",
            "WARNING:tensorboardX.x2num:NaN or Inf found in input tensor.\n",
            "WARNING:tensorboardX.x2num:NaN or Inf found in input tensor.\n",
            "WARNING:tensorboardX.x2num:NaN or Inf found in input tensor.\n",
            "WARNING:tensorboardX.x2num:NaN or Inf found in input tensor.\n",
            "WARNING:tensorboardX.x2num:NaN or Inf found in input tensor.\n"
          ]
        },
        {
          "name": "stdout",
          "output_type": "stream",
          "text": [
            "Epoch 70/85.. Train loss: nan.. Val loss: nan.. Train L1 norm: nan.. Val L1 norm: nan.. Train Linf norm: nan.. Val Linf norm: nan\n"
          ]
        },
        {
          "name": "stderr",
          "output_type": "stream",
          "text": [
            "WARNING:tensorboardX.x2num:NaN or Inf found in input tensor.\n",
            "WARNING:tensorboardX.x2num:NaN or Inf found in input tensor.\n",
            "WARNING:tensorboardX.x2num:NaN or Inf found in input tensor.\n",
            "WARNING:tensorboardX.x2num:NaN or Inf found in input tensor.\n",
            "WARNING:tensorboardX.x2num:NaN or Inf found in input tensor.\n",
            "WARNING:tensorboardX.x2num:NaN or Inf found in input tensor.\n"
          ]
        },
        {
          "name": "stdout",
          "output_type": "stream",
          "text": [
            "Epoch 71/85.. Train loss: nan.. Val loss: nan.. Train L1 norm: nan.. Val L1 norm: nan.. Train Linf norm: nan.. Val Linf norm: nan\n"
          ]
        },
        {
          "name": "stderr",
          "output_type": "stream",
          "text": [
            "WARNING:tensorboardX.x2num:NaN or Inf found in input tensor.\n",
            "WARNING:tensorboardX.x2num:NaN or Inf found in input tensor.\n",
            "WARNING:tensorboardX.x2num:NaN or Inf found in input tensor.\n",
            "WARNING:tensorboardX.x2num:NaN or Inf found in input tensor.\n",
            "WARNING:tensorboardX.x2num:NaN or Inf found in input tensor.\n",
            "WARNING:tensorboardX.x2num:NaN or Inf found in input tensor.\n"
          ]
        },
        {
          "name": "stdout",
          "output_type": "stream",
          "text": [
            "Epoch 72/85.. Train loss: nan.. Val loss: nan.. Train L1 norm: nan.. Val L1 norm: nan.. Train Linf norm: nan.. Val Linf norm: nan\n"
          ]
        },
        {
          "name": "stderr",
          "output_type": "stream",
          "text": [
            "WARNING:tensorboardX.x2num:NaN or Inf found in input tensor.\n",
            "WARNING:tensorboardX.x2num:NaN or Inf found in input tensor.\n",
            "WARNING:tensorboardX.x2num:NaN or Inf found in input tensor.\n",
            "WARNING:tensorboardX.x2num:NaN or Inf found in input tensor.\n",
            "WARNING:tensorboardX.x2num:NaN or Inf found in input tensor.\n",
            "WARNING:tensorboardX.x2num:NaN or Inf found in input tensor.\n"
          ]
        },
        {
          "name": "stdout",
          "output_type": "stream",
          "text": [
            "Epoch 73/85.. Train loss: nan.. Val loss: nan.. Train L1 norm: nan.. Val L1 norm: nan.. Train Linf norm: nan.. Val Linf norm: nan\n"
          ]
        },
        {
          "name": "stderr",
          "output_type": "stream",
          "text": [
            "WARNING:tensorboardX.x2num:NaN or Inf found in input tensor.\n",
            "WARNING:tensorboardX.x2num:NaN or Inf found in input tensor.\n",
            "WARNING:tensorboardX.x2num:NaN or Inf found in input tensor.\n",
            "WARNING:tensorboardX.x2num:NaN or Inf found in input tensor.\n",
            "WARNING:tensorboardX.x2num:NaN or Inf found in input tensor.\n",
            "WARNING:tensorboardX.x2num:NaN or Inf found in input tensor.\n"
          ]
        },
        {
          "name": "stdout",
          "output_type": "stream",
          "text": [
            "Epoch 74/85.. Train loss: nan.. Val loss: nan.. Train L1 norm: nan.. Val L1 norm: nan.. Train Linf norm: nan.. Val Linf norm: nan\n"
          ]
        },
        {
          "name": "stderr",
          "output_type": "stream",
          "text": [
            "WARNING:tensorboardX.x2num:NaN or Inf found in input tensor.\n",
            "WARNING:tensorboardX.x2num:NaN or Inf found in input tensor.\n",
            "WARNING:tensorboardX.x2num:NaN or Inf found in input tensor.\n",
            "WARNING:tensorboardX.x2num:NaN or Inf found in input tensor.\n",
            "WARNING:tensorboardX.x2num:NaN or Inf found in input tensor.\n",
            "WARNING:tensorboardX.x2num:NaN or Inf found in input tensor.\n"
          ]
        },
        {
          "name": "stdout",
          "output_type": "stream",
          "text": [
            "Epoch 75/85.. Train loss: nan.. Val loss: nan.. Train L1 norm: nan.. Val L1 norm: nan.. Train Linf norm: nan.. Val Linf norm: nan\n"
          ]
        },
        {
          "name": "stderr",
          "output_type": "stream",
          "text": [
            "WARNING:tensorboardX.x2num:NaN or Inf found in input tensor.\n",
            "WARNING:tensorboardX.x2num:NaN or Inf found in input tensor.\n",
            "WARNING:tensorboardX.x2num:NaN or Inf found in input tensor.\n",
            "WARNING:tensorboardX.x2num:NaN or Inf found in input tensor.\n",
            "WARNING:tensorboardX.x2num:NaN or Inf found in input tensor.\n",
            "WARNING:tensorboardX.x2num:NaN or Inf found in input tensor.\n"
          ]
        },
        {
          "name": "stdout",
          "output_type": "stream",
          "text": [
            "Epoch 76/85.. Train loss: nan.. Val loss: nan.. Train L1 norm: nan.. Val L1 norm: nan.. Train Linf norm: nan.. Val Linf norm: nan\n"
          ]
        },
        {
          "name": "stderr",
          "output_type": "stream",
          "text": [
            "WARNING:tensorboardX.x2num:NaN or Inf found in input tensor.\n",
            "WARNING:tensorboardX.x2num:NaN or Inf found in input tensor.\n",
            "WARNING:tensorboardX.x2num:NaN or Inf found in input tensor.\n",
            "WARNING:tensorboardX.x2num:NaN or Inf found in input tensor.\n",
            "WARNING:tensorboardX.x2num:NaN or Inf found in input tensor.\n",
            "WARNING:tensorboardX.x2num:NaN or Inf found in input tensor.\n"
          ]
        },
        {
          "name": "stdout",
          "output_type": "stream",
          "text": [
            "Epoch 77/85.. Train loss: nan.. Val loss: nan.. Train L1 norm: nan.. Val L1 norm: nan.. Train Linf norm: nan.. Val Linf norm: nan\n"
          ]
        },
        {
          "name": "stderr",
          "output_type": "stream",
          "text": [
            "WARNING:tensorboardX.x2num:NaN or Inf found in input tensor.\n",
            "WARNING:tensorboardX.x2num:NaN or Inf found in input tensor.\n",
            "WARNING:tensorboardX.x2num:NaN or Inf found in input tensor.\n",
            "WARNING:tensorboardX.x2num:NaN or Inf found in input tensor.\n",
            "WARNING:tensorboardX.x2num:NaN or Inf found in input tensor.\n",
            "WARNING:tensorboardX.x2num:NaN or Inf found in input tensor.\n"
          ]
        },
        {
          "name": "stdout",
          "output_type": "stream",
          "text": [
            "Epoch 78/85.. Train loss: nan.. Val loss: nan.. Train L1 norm: nan.. Val L1 norm: nan.. Train Linf norm: nan.. Val Linf norm: nan\n"
          ]
        },
        {
          "name": "stderr",
          "output_type": "stream",
          "text": [
            "WARNING:tensorboardX.x2num:NaN or Inf found in input tensor.\n",
            "WARNING:tensorboardX.x2num:NaN or Inf found in input tensor.\n",
            "WARNING:tensorboardX.x2num:NaN or Inf found in input tensor.\n",
            "WARNING:tensorboardX.x2num:NaN or Inf found in input tensor.\n",
            "WARNING:tensorboardX.x2num:NaN or Inf found in input tensor.\n",
            "WARNING:tensorboardX.x2num:NaN or Inf found in input tensor.\n"
          ]
        },
        {
          "name": "stdout",
          "output_type": "stream",
          "text": [
            "Epoch 79/85.. Train loss: nan.. Val loss: nan.. Train L1 norm: nan.. Val L1 norm: nan.. Train Linf norm: nan.. Val Linf norm: nan\n"
          ]
        },
        {
          "name": "stderr",
          "output_type": "stream",
          "text": [
            "WARNING:tensorboardX.x2num:NaN or Inf found in input tensor.\n",
            "WARNING:tensorboardX.x2num:NaN or Inf found in input tensor.\n",
            "WARNING:tensorboardX.x2num:NaN or Inf found in input tensor.\n",
            "WARNING:tensorboardX.x2num:NaN or Inf found in input tensor.\n",
            "WARNING:tensorboardX.x2num:NaN or Inf found in input tensor.\n",
            "WARNING:tensorboardX.x2num:NaN or Inf found in input tensor.\n"
          ]
        },
        {
          "name": "stdout",
          "output_type": "stream",
          "text": [
            "Epoch 80/85.. Train loss: nan.. Val loss: nan.. Train L1 norm: nan.. Val L1 norm: nan.. Train Linf norm: nan.. Val Linf norm: nan\n"
          ]
        },
        {
          "name": "stderr",
          "output_type": "stream",
          "text": [
            "WARNING:tensorboardX.x2num:NaN or Inf found in input tensor.\n",
            "WARNING:tensorboardX.x2num:NaN or Inf found in input tensor.\n",
            "WARNING:tensorboardX.x2num:NaN or Inf found in input tensor.\n",
            "WARNING:tensorboardX.x2num:NaN or Inf found in input tensor.\n",
            "WARNING:tensorboardX.x2num:NaN or Inf found in input tensor.\n",
            "WARNING:tensorboardX.x2num:NaN or Inf found in input tensor.\n"
          ]
        },
        {
          "name": "stdout",
          "output_type": "stream",
          "text": [
            "Epoch 81/85.. Train loss: nan.. Val loss: nan.. Train L1 norm: nan.. Val L1 norm: nan.. Train Linf norm: nan.. Val Linf norm: nan\n"
          ]
        },
        {
          "name": "stderr",
          "output_type": "stream",
          "text": [
            "WARNING:tensorboardX.x2num:NaN or Inf found in input tensor.\n",
            "WARNING:tensorboardX.x2num:NaN or Inf found in input tensor.\n",
            "WARNING:tensorboardX.x2num:NaN or Inf found in input tensor.\n",
            "WARNING:tensorboardX.x2num:NaN or Inf found in input tensor.\n",
            "WARNING:tensorboardX.x2num:NaN or Inf found in input tensor.\n",
            "WARNING:tensorboardX.x2num:NaN or Inf found in input tensor.\n"
          ]
        },
        {
          "name": "stdout",
          "output_type": "stream",
          "text": [
            "Epoch 82/85.. Train loss: nan.. Val loss: nan.. Train L1 norm: nan.. Val L1 norm: nan.. Train Linf norm: nan.. Val Linf norm: nan\n"
          ]
        },
        {
          "name": "stderr",
          "output_type": "stream",
          "text": [
            "WARNING:tensorboardX.x2num:NaN or Inf found in input tensor.\n",
            "WARNING:tensorboardX.x2num:NaN or Inf found in input tensor.\n",
            "WARNING:tensorboardX.x2num:NaN or Inf found in input tensor.\n",
            "WARNING:tensorboardX.x2num:NaN or Inf found in input tensor.\n",
            "WARNING:tensorboardX.x2num:NaN or Inf found in input tensor.\n",
            "WARNING:tensorboardX.x2num:NaN or Inf found in input tensor.\n"
          ]
        },
        {
          "name": "stdout",
          "output_type": "stream",
          "text": [
            "Epoch 83/85.. Train loss: nan.. Val loss: nan.. Train L1 norm: nan.. Val L1 norm: nan.. Train Linf norm: nan.. Val Linf norm: nan\n"
          ]
        },
        {
          "name": "stderr",
          "output_type": "stream",
          "text": [
            "WARNING:tensorboardX.x2num:NaN or Inf found in input tensor.\n",
            "WARNING:tensorboardX.x2num:NaN or Inf found in input tensor.\n",
            "WARNING:tensorboardX.x2num:NaN or Inf found in input tensor.\n",
            "WARNING:tensorboardX.x2num:NaN or Inf found in input tensor.\n",
            "WARNING:tensorboardX.x2num:NaN or Inf found in input tensor.\n",
            "WARNING:tensorboardX.x2num:NaN or Inf found in input tensor.\n"
          ]
        },
        {
          "name": "stdout",
          "output_type": "stream",
          "text": [
            "Epoch 84/85.. Train loss: nan.. Val loss: nan.. Train L1 norm: nan.. Val L1 norm: nan.. Train Linf norm: nan.. Val Linf norm: nan\n"
          ]
        },
        {
          "name": "stderr",
          "output_type": "stream",
          "text": [
            "WARNING:tensorboardX.x2num:NaN or Inf found in input tensor.\n",
            "WARNING:tensorboardX.x2num:NaN or Inf found in input tensor.\n",
            "WARNING:tensorboardX.x2num:NaN or Inf found in input tensor.\n",
            "WARNING:tensorboardX.x2num:NaN or Inf found in input tensor.\n",
            "WARNING:tensorboardX.x2num:NaN or Inf found in input tensor.\n",
            "WARNING:tensorboardX.x2num:NaN or Inf found in input tensor.\n",
            "\u001b[33m[W 2023-05-29 06:14:18,226]\u001b[0m Trial 1 failed with parameters: {'n_layers': 10, 'n_units_0': 36, 'n_units_1': 1893, 'n_units_2': 454, 'n_units_3': 4057, 'n_units_4': 4002, 'n_units_5': 796, 'n_units_6': 1643, 'n_units_7': 2116, 'n_units_8': 3393, 'n_units_9': 1024, 'hidden_activation': 'LeakyReLU', 'output_activation': 'Linear', 'loss': 'MSE', 'optimizer': 'SGD', 'lr': 4.494399838560173e-06, 'batch_size': 512, 'n_epochs': 85, 'scheduler': 'ReduceLROnPlateau', 'leakyrelu_slope': 0.2203538291962449, 'dropout_rate': 0.3234915606010066, 'weight_decay': 0.005104903510226867, 'momentum': 0.13578450085993668, 'factor': 0.1837324071014772, 'patience': 7, 'threshold': 0.0003879351817040267} because of the following error: The value nan is not acceptable..\u001b[0m\n",
            "\u001b[33m[W 2023-05-29 06:14:18,227]\u001b[0m Trial 1 failed with value nan.\u001b[0m\n"
          ]
        },
        {
          "name": "stdout",
          "output_type": "stream",
          "text": [
            "Epoch 85/85.. Train loss: nan.. Val loss: nan.. Train L1 norm: nan.. Val L1 norm: nan.. Train Linf norm: nan.. Val Linf norm: nan\n"
          ]
        },
        {
          "name": "stderr",
          "output_type": "stream",
          "text": [
            "WARNING:tensorboardX.x2num:NaN or Inf found in input tensor.\n",
            "WARNING:tensorboardX.x2num:NaN or Inf found in input tensor.\n",
            "WARNING:tensorboardX.x2num:NaN or Inf found in input tensor.\n",
            "WARNING:tensorboardX.x2num:NaN or Inf found in input tensor.\n",
            "WARNING:tensorboardX.x2num:NaN or Inf found in input tensor.\n",
            "WARNING:tensorboardX.x2num:NaN or Inf found in input tensor.\n"
          ]
        },
        {
          "name": "stdout",
          "output_type": "stream",
          "text": [
            "Epoch 1/98.. Train loss: nan.. Val loss: nan.. Train L1 norm: nan.. Val L1 norm: nan.. Train Linf norm: nan.. Val Linf norm: nan\n"
          ]
        },
        {
          "name": "stderr",
          "output_type": "stream",
          "text": [
            "WARNING:tensorboardX.x2num:NaN or Inf found in input tensor.\n",
            "WARNING:tensorboardX.x2num:NaN or Inf found in input tensor.\n",
            "WARNING:tensorboardX.x2num:NaN or Inf found in input tensor.\n",
            "WARNING:tensorboardX.x2num:NaN or Inf found in input tensor.\n",
            "WARNING:tensorboardX.x2num:NaN or Inf found in input tensor.\n",
            "WARNING:tensorboardX.x2num:NaN or Inf found in input tensor.\n"
          ]
        },
        {
          "name": "stdout",
          "output_type": "stream",
          "text": [
            "Epoch 2/98.. Train loss: nan.. Val loss: nan.. Train L1 norm: nan.. Val L1 norm: nan.. Train Linf norm: nan.. Val Linf norm: nan\n"
          ]
        },
        {
          "name": "stderr",
          "output_type": "stream",
          "text": [
            "WARNING:tensorboardX.x2num:NaN or Inf found in input tensor.\n",
            "WARNING:tensorboardX.x2num:NaN or Inf found in input tensor.\n",
            "WARNING:tensorboardX.x2num:NaN or Inf found in input tensor.\n",
            "WARNING:tensorboardX.x2num:NaN or Inf found in input tensor.\n",
            "WARNING:tensorboardX.x2num:NaN or Inf found in input tensor.\n",
            "WARNING:tensorboardX.x2num:NaN or Inf found in input tensor.\n"
          ]
        },
        {
          "name": "stdout",
          "output_type": "stream",
          "text": [
            "Epoch 3/98.. Train loss: nan.. Val loss: nan.. Train L1 norm: nan.. Val L1 norm: nan.. Train Linf norm: nan.. Val Linf norm: nan\n"
          ]
        },
        {
          "name": "stderr",
          "output_type": "stream",
          "text": [
            "WARNING:tensorboardX.x2num:NaN or Inf found in input tensor.\n",
            "WARNING:tensorboardX.x2num:NaN or Inf found in input tensor.\n",
            "WARNING:tensorboardX.x2num:NaN or Inf found in input tensor.\n",
            "WARNING:tensorboardX.x2num:NaN or Inf found in input tensor.\n",
            "WARNING:tensorboardX.x2num:NaN or Inf found in input tensor.\n",
            "WARNING:tensorboardX.x2num:NaN or Inf found in input tensor.\n"
          ]
        },
        {
          "name": "stdout",
          "output_type": "stream",
          "text": [
            "Epoch 4/98.. Train loss: nan.. Val loss: nan.. Train L1 norm: nan.. Val L1 norm: nan.. Train Linf norm: nan.. Val Linf norm: nan\n"
          ]
        },
        {
          "name": "stderr",
          "output_type": "stream",
          "text": [
            "WARNING:tensorboardX.x2num:NaN or Inf found in input tensor.\n",
            "WARNING:tensorboardX.x2num:NaN or Inf found in input tensor.\n",
            "WARNING:tensorboardX.x2num:NaN or Inf found in input tensor.\n",
            "WARNING:tensorboardX.x2num:NaN or Inf found in input tensor.\n",
            "WARNING:tensorboardX.x2num:NaN or Inf found in input tensor.\n",
            "WARNING:tensorboardX.x2num:NaN or Inf found in input tensor.\n"
          ]
        },
        {
          "name": "stdout",
          "output_type": "stream",
          "text": [
            "Epoch 5/98.. Train loss: nan.. Val loss: nan.. Train L1 norm: nan.. Val L1 norm: nan.. Train Linf norm: nan.. Val Linf norm: nan\n"
          ]
        },
        {
          "name": "stderr",
          "output_type": "stream",
          "text": [
            "WARNING:tensorboardX.x2num:NaN or Inf found in input tensor.\n",
            "WARNING:tensorboardX.x2num:NaN or Inf found in input tensor.\n",
            "WARNING:tensorboardX.x2num:NaN or Inf found in input tensor.\n",
            "WARNING:tensorboardX.x2num:NaN or Inf found in input tensor.\n",
            "WARNING:tensorboardX.x2num:NaN or Inf found in input tensor.\n",
            "WARNING:tensorboardX.x2num:NaN or Inf found in input tensor.\n"
          ]
        },
        {
          "name": "stdout",
          "output_type": "stream",
          "text": [
            "Epoch 6/98.. Train loss: nan.. Val loss: nan.. Train L1 norm: nan.. Val L1 norm: nan.. Train Linf norm: nan.. Val Linf norm: nan\n"
          ]
        },
        {
          "name": "stderr",
          "output_type": "stream",
          "text": [
            "WARNING:tensorboardX.x2num:NaN or Inf found in input tensor.\n",
            "WARNING:tensorboardX.x2num:NaN or Inf found in input tensor.\n",
            "WARNING:tensorboardX.x2num:NaN or Inf found in input tensor.\n",
            "WARNING:tensorboardX.x2num:NaN or Inf found in input tensor.\n",
            "WARNING:tensorboardX.x2num:NaN or Inf found in input tensor.\n",
            "WARNING:tensorboardX.x2num:NaN or Inf found in input tensor.\n"
          ]
        },
        {
          "name": "stdout",
          "output_type": "stream",
          "text": [
            "Epoch 7/98.. Train loss: nan.. Val loss: nan.. Train L1 norm: nan.. Val L1 norm: nan.. Train Linf norm: nan.. Val Linf norm: nan\n"
          ]
        },
        {
          "name": "stderr",
          "output_type": "stream",
          "text": [
            "WARNING:tensorboardX.x2num:NaN or Inf found in input tensor.\n",
            "WARNING:tensorboardX.x2num:NaN or Inf found in input tensor.\n",
            "WARNING:tensorboardX.x2num:NaN or Inf found in input tensor.\n",
            "WARNING:tensorboardX.x2num:NaN or Inf found in input tensor.\n",
            "WARNING:tensorboardX.x2num:NaN or Inf found in input tensor.\n",
            "WARNING:tensorboardX.x2num:NaN or Inf found in input tensor.\n"
          ]
        },
        {
          "name": "stdout",
          "output_type": "stream",
          "text": [
            "Epoch 8/98.. Train loss: nan.. Val loss: nan.. Train L1 norm: nan.. Val L1 norm: nan.. Train Linf norm: nan.. Val Linf norm: nan\n"
          ]
        },
        {
          "name": "stderr",
          "output_type": "stream",
          "text": [
            "WARNING:tensorboardX.x2num:NaN or Inf found in input tensor.\n",
            "WARNING:tensorboardX.x2num:NaN or Inf found in input tensor.\n",
            "WARNING:tensorboardX.x2num:NaN or Inf found in input tensor.\n",
            "WARNING:tensorboardX.x2num:NaN or Inf found in input tensor.\n",
            "WARNING:tensorboardX.x2num:NaN or Inf found in input tensor.\n",
            "WARNING:tensorboardX.x2num:NaN or Inf found in input tensor.\n"
          ]
        },
        {
          "name": "stdout",
          "output_type": "stream",
          "text": [
            "Epoch 9/98.. Train loss: nan.. Val loss: nan.. Train L1 norm: nan.. Val L1 norm: nan.. Train Linf norm: nan.. Val Linf norm: nan\n"
          ]
        },
        {
          "name": "stderr",
          "output_type": "stream",
          "text": [
            "WARNING:tensorboardX.x2num:NaN or Inf found in input tensor.\n",
            "WARNING:tensorboardX.x2num:NaN or Inf found in input tensor.\n",
            "WARNING:tensorboardX.x2num:NaN or Inf found in input tensor.\n",
            "WARNING:tensorboardX.x2num:NaN or Inf found in input tensor.\n",
            "WARNING:tensorboardX.x2num:NaN or Inf found in input tensor.\n",
            "WARNING:tensorboardX.x2num:NaN or Inf found in input tensor.\n"
          ]
        },
        {
          "name": "stdout",
          "output_type": "stream",
          "text": [
            "Epoch 10/98.. Train loss: nan.. Val loss: nan.. Train L1 norm: nan.. Val L1 norm: nan.. Train Linf norm: nan.. Val Linf norm: nan\n"
          ]
        },
        {
          "name": "stderr",
          "output_type": "stream",
          "text": [
            "WARNING:tensorboardX.x2num:NaN or Inf found in input tensor.\n",
            "WARNING:tensorboardX.x2num:NaN or Inf found in input tensor.\n",
            "WARNING:tensorboardX.x2num:NaN or Inf found in input tensor.\n",
            "WARNING:tensorboardX.x2num:NaN or Inf found in input tensor.\n",
            "WARNING:tensorboardX.x2num:NaN or Inf found in input tensor.\n",
            "WARNING:tensorboardX.x2num:NaN or Inf found in input tensor.\n"
          ]
        },
        {
          "name": "stdout",
          "output_type": "stream",
          "text": [
            "Epoch 11/98.. Train loss: nan.. Val loss: nan.. Train L1 norm: nan.. Val L1 norm: nan.. Train Linf norm: nan.. Val Linf norm: nan\n"
          ]
        },
        {
          "name": "stderr",
          "output_type": "stream",
          "text": [
            "WARNING:tensorboardX.x2num:NaN or Inf found in input tensor.\n",
            "WARNING:tensorboardX.x2num:NaN or Inf found in input tensor.\n",
            "WARNING:tensorboardX.x2num:NaN or Inf found in input tensor.\n",
            "WARNING:tensorboardX.x2num:NaN or Inf found in input tensor.\n",
            "WARNING:tensorboardX.x2num:NaN or Inf found in input tensor.\n",
            "WARNING:tensorboardX.x2num:NaN or Inf found in input tensor.\n"
          ]
        },
        {
          "name": "stdout",
          "output_type": "stream",
          "text": [
            "Epoch 12/98.. Train loss: nan.. Val loss: nan.. Train L1 norm: nan.. Val L1 norm: nan.. Train Linf norm: nan.. Val Linf norm: nan\n"
          ]
        },
        {
          "name": "stderr",
          "output_type": "stream",
          "text": [
            "WARNING:tensorboardX.x2num:NaN or Inf found in input tensor.\n",
            "WARNING:tensorboardX.x2num:NaN or Inf found in input tensor.\n",
            "WARNING:tensorboardX.x2num:NaN or Inf found in input tensor.\n",
            "WARNING:tensorboardX.x2num:NaN or Inf found in input tensor.\n",
            "WARNING:tensorboardX.x2num:NaN or Inf found in input tensor.\n",
            "WARNING:tensorboardX.x2num:NaN or Inf found in input tensor.\n"
          ]
        },
        {
          "name": "stdout",
          "output_type": "stream",
          "text": [
            "Epoch 13/98.. Train loss: nan.. Val loss: nan.. Train L1 norm: nan.. Val L1 norm: nan.. Train Linf norm: nan.. Val Linf norm: nan\n"
          ]
        },
        {
          "name": "stderr",
          "output_type": "stream",
          "text": [
            "WARNING:tensorboardX.x2num:NaN or Inf found in input tensor.\n",
            "WARNING:tensorboardX.x2num:NaN or Inf found in input tensor.\n",
            "WARNING:tensorboardX.x2num:NaN or Inf found in input tensor.\n",
            "WARNING:tensorboardX.x2num:NaN or Inf found in input tensor.\n",
            "WARNING:tensorboardX.x2num:NaN or Inf found in input tensor.\n",
            "WARNING:tensorboardX.x2num:NaN or Inf found in input tensor.\n"
          ]
        },
        {
          "name": "stdout",
          "output_type": "stream",
          "text": [
            "Epoch 14/98.. Train loss: nan.. Val loss: nan.. Train L1 norm: nan.. Val L1 norm: nan.. Train Linf norm: nan.. Val Linf norm: nan\n"
          ]
        },
        {
          "name": "stderr",
          "output_type": "stream",
          "text": [
            "WARNING:tensorboardX.x2num:NaN or Inf found in input tensor.\n",
            "WARNING:tensorboardX.x2num:NaN or Inf found in input tensor.\n",
            "WARNING:tensorboardX.x2num:NaN or Inf found in input tensor.\n",
            "WARNING:tensorboardX.x2num:NaN or Inf found in input tensor.\n",
            "WARNING:tensorboardX.x2num:NaN or Inf found in input tensor.\n",
            "WARNING:tensorboardX.x2num:NaN or Inf found in input tensor.\n"
          ]
        },
        {
          "name": "stdout",
          "output_type": "stream",
          "text": [
            "Epoch 15/98.. Train loss: nan.. Val loss: nan.. Train L1 norm: nan.. Val L1 norm: nan.. Train Linf norm: nan.. Val Linf norm: nan\n"
          ]
        },
        {
          "name": "stderr",
          "output_type": "stream",
          "text": [
            "WARNING:tensorboardX.x2num:NaN or Inf found in input tensor.\n",
            "WARNING:tensorboardX.x2num:NaN or Inf found in input tensor.\n",
            "WARNING:tensorboardX.x2num:NaN or Inf found in input tensor.\n",
            "WARNING:tensorboardX.x2num:NaN or Inf found in input tensor.\n",
            "WARNING:tensorboardX.x2num:NaN or Inf found in input tensor.\n",
            "WARNING:tensorboardX.x2num:NaN or Inf found in input tensor.\n"
          ]
        },
        {
          "name": "stdout",
          "output_type": "stream",
          "text": [
            "Epoch 16/98.. Train loss: nan.. Val loss: nan.. Train L1 norm: nan.. Val L1 norm: nan.. Train Linf norm: nan.. Val Linf norm: nan\n"
          ]
        },
        {
          "name": "stderr",
          "output_type": "stream",
          "text": [
            "WARNING:tensorboardX.x2num:NaN or Inf found in input tensor.\n",
            "WARNING:tensorboardX.x2num:NaN or Inf found in input tensor.\n",
            "WARNING:tensorboardX.x2num:NaN or Inf found in input tensor.\n",
            "WARNING:tensorboardX.x2num:NaN or Inf found in input tensor.\n",
            "WARNING:tensorboardX.x2num:NaN or Inf found in input tensor.\n",
            "WARNING:tensorboardX.x2num:NaN or Inf found in input tensor.\n"
          ]
        },
        {
          "name": "stdout",
          "output_type": "stream",
          "text": [
            "Epoch 17/98.. Train loss: nan.. Val loss: nan.. Train L1 norm: nan.. Val L1 norm: nan.. Train Linf norm: nan.. Val Linf norm: nan\n"
          ]
        },
        {
          "name": "stderr",
          "output_type": "stream",
          "text": [
            "WARNING:tensorboardX.x2num:NaN or Inf found in input tensor.\n",
            "WARNING:tensorboardX.x2num:NaN or Inf found in input tensor.\n",
            "WARNING:tensorboardX.x2num:NaN or Inf found in input tensor.\n",
            "WARNING:tensorboardX.x2num:NaN or Inf found in input tensor.\n",
            "WARNING:tensorboardX.x2num:NaN or Inf found in input tensor.\n",
            "WARNING:tensorboardX.x2num:NaN or Inf found in input tensor.\n"
          ]
        },
        {
          "name": "stdout",
          "output_type": "stream",
          "text": [
            "Epoch 18/98.. Train loss: nan.. Val loss: nan.. Train L1 norm: nan.. Val L1 norm: nan.. Train Linf norm: nan.. Val Linf norm: nan\n"
          ]
        },
        {
          "name": "stderr",
          "output_type": "stream",
          "text": [
            "WARNING:tensorboardX.x2num:NaN or Inf found in input tensor.\n",
            "WARNING:tensorboardX.x2num:NaN or Inf found in input tensor.\n",
            "WARNING:tensorboardX.x2num:NaN or Inf found in input tensor.\n",
            "WARNING:tensorboardX.x2num:NaN or Inf found in input tensor.\n",
            "WARNING:tensorboardX.x2num:NaN or Inf found in input tensor.\n",
            "WARNING:tensorboardX.x2num:NaN or Inf found in input tensor.\n"
          ]
        },
        {
          "name": "stdout",
          "output_type": "stream",
          "text": [
            "Epoch 19/98.. Train loss: nan.. Val loss: nan.. Train L1 norm: nan.. Val L1 norm: nan.. Train Linf norm: nan.. Val Linf norm: nan\n"
          ]
        },
        {
          "name": "stderr",
          "output_type": "stream",
          "text": [
            "WARNING:tensorboardX.x2num:NaN or Inf found in input tensor.\n",
            "WARNING:tensorboardX.x2num:NaN or Inf found in input tensor.\n",
            "WARNING:tensorboardX.x2num:NaN or Inf found in input tensor.\n",
            "WARNING:tensorboardX.x2num:NaN or Inf found in input tensor.\n",
            "WARNING:tensorboardX.x2num:NaN or Inf found in input tensor.\n",
            "WARNING:tensorboardX.x2num:NaN or Inf found in input tensor.\n"
          ]
        },
        {
          "name": "stdout",
          "output_type": "stream",
          "text": [
            "Epoch 20/98.. Train loss: nan.. Val loss: nan.. Train L1 norm: nan.. Val L1 norm: nan.. Train Linf norm: nan.. Val Linf norm: nan\n"
          ]
        },
        {
          "name": "stderr",
          "output_type": "stream",
          "text": [
            "WARNING:tensorboardX.x2num:NaN or Inf found in input tensor.\n",
            "WARNING:tensorboardX.x2num:NaN or Inf found in input tensor.\n",
            "WARNING:tensorboardX.x2num:NaN or Inf found in input tensor.\n",
            "WARNING:tensorboardX.x2num:NaN or Inf found in input tensor.\n",
            "WARNING:tensorboardX.x2num:NaN or Inf found in input tensor.\n",
            "WARNING:tensorboardX.x2num:NaN or Inf found in input tensor.\n"
          ]
        },
        {
          "name": "stdout",
          "output_type": "stream",
          "text": [
            "Epoch 21/98.. Train loss: nan.. Val loss: nan.. Train L1 norm: nan.. Val L1 norm: nan.. Train Linf norm: nan.. Val Linf norm: nan\n"
          ]
        },
        {
          "name": "stderr",
          "output_type": "stream",
          "text": [
            "WARNING:tensorboardX.x2num:NaN or Inf found in input tensor.\n",
            "WARNING:tensorboardX.x2num:NaN or Inf found in input tensor.\n",
            "WARNING:tensorboardX.x2num:NaN or Inf found in input tensor.\n",
            "WARNING:tensorboardX.x2num:NaN or Inf found in input tensor.\n",
            "WARNING:tensorboardX.x2num:NaN or Inf found in input tensor.\n",
            "WARNING:tensorboardX.x2num:NaN or Inf found in input tensor.\n"
          ]
        },
        {
          "name": "stdout",
          "output_type": "stream",
          "text": [
            "Epoch 22/98.. Train loss: nan.. Val loss: nan.. Train L1 norm: nan.. Val L1 norm: nan.. Train Linf norm: nan.. Val Linf norm: nan\n"
          ]
        },
        {
          "name": "stderr",
          "output_type": "stream",
          "text": [
            "WARNING:tensorboardX.x2num:NaN or Inf found in input tensor.\n",
            "WARNING:tensorboardX.x2num:NaN or Inf found in input tensor.\n",
            "WARNING:tensorboardX.x2num:NaN or Inf found in input tensor.\n",
            "WARNING:tensorboardX.x2num:NaN or Inf found in input tensor.\n",
            "WARNING:tensorboardX.x2num:NaN or Inf found in input tensor.\n",
            "WARNING:tensorboardX.x2num:NaN or Inf found in input tensor.\n"
          ]
        },
        {
          "name": "stdout",
          "output_type": "stream",
          "text": [
            "Epoch 23/98.. Train loss: nan.. Val loss: nan.. Train L1 norm: nan.. Val L1 norm: nan.. Train Linf norm: nan.. Val Linf norm: nan\n"
          ]
        },
        {
          "name": "stderr",
          "output_type": "stream",
          "text": [
            "WARNING:tensorboardX.x2num:NaN or Inf found in input tensor.\n",
            "WARNING:tensorboardX.x2num:NaN or Inf found in input tensor.\n",
            "WARNING:tensorboardX.x2num:NaN or Inf found in input tensor.\n",
            "WARNING:tensorboardX.x2num:NaN or Inf found in input tensor.\n",
            "WARNING:tensorboardX.x2num:NaN or Inf found in input tensor.\n",
            "WARNING:tensorboardX.x2num:NaN or Inf found in input tensor.\n"
          ]
        },
        {
          "name": "stdout",
          "output_type": "stream",
          "text": [
            "Epoch 24/98.. Train loss: nan.. Val loss: nan.. Train L1 norm: nan.. Val L1 norm: nan.. Train Linf norm: nan.. Val Linf norm: nan\n"
          ]
        },
        {
          "name": "stderr",
          "output_type": "stream",
          "text": [
            "WARNING:tensorboardX.x2num:NaN or Inf found in input tensor.\n",
            "WARNING:tensorboardX.x2num:NaN or Inf found in input tensor.\n",
            "WARNING:tensorboardX.x2num:NaN or Inf found in input tensor.\n",
            "WARNING:tensorboardX.x2num:NaN or Inf found in input tensor.\n",
            "WARNING:tensorboardX.x2num:NaN or Inf found in input tensor.\n",
            "WARNING:tensorboardX.x2num:NaN or Inf found in input tensor.\n"
          ]
        },
        {
          "name": "stdout",
          "output_type": "stream",
          "text": [
            "Epoch 25/98.. Train loss: nan.. Val loss: nan.. Train L1 norm: nan.. Val L1 norm: nan.. Train Linf norm: nan.. Val Linf norm: nan\n"
          ]
        },
        {
          "name": "stderr",
          "output_type": "stream",
          "text": [
            "WARNING:tensorboardX.x2num:NaN or Inf found in input tensor.\n",
            "WARNING:tensorboardX.x2num:NaN or Inf found in input tensor.\n",
            "WARNING:tensorboardX.x2num:NaN or Inf found in input tensor.\n",
            "WARNING:tensorboardX.x2num:NaN or Inf found in input tensor.\n",
            "WARNING:tensorboardX.x2num:NaN or Inf found in input tensor.\n",
            "WARNING:tensorboardX.x2num:NaN or Inf found in input tensor.\n"
          ]
        },
        {
          "name": "stdout",
          "output_type": "stream",
          "text": [
            "Epoch 26/98.. Train loss: nan.. Val loss: nan.. Train L1 norm: nan.. Val L1 norm: nan.. Train Linf norm: nan.. Val Linf norm: nan\n"
          ]
        },
        {
          "name": "stderr",
          "output_type": "stream",
          "text": [
            "WARNING:tensorboardX.x2num:NaN or Inf found in input tensor.\n",
            "WARNING:tensorboardX.x2num:NaN or Inf found in input tensor.\n",
            "WARNING:tensorboardX.x2num:NaN or Inf found in input tensor.\n",
            "WARNING:tensorboardX.x2num:NaN or Inf found in input tensor.\n",
            "WARNING:tensorboardX.x2num:NaN or Inf found in input tensor.\n",
            "WARNING:tensorboardX.x2num:NaN or Inf found in input tensor.\n"
          ]
        },
        {
          "name": "stdout",
          "output_type": "stream",
          "text": [
            "Epoch 27/98.. Train loss: nan.. Val loss: nan.. Train L1 norm: nan.. Val L1 norm: nan.. Train Linf norm: nan.. Val Linf norm: nan\n"
          ]
        },
        {
          "name": "stderr",
          "output_type": "stream",
          "text": [
            "WARNING:tensorboardX.x2num:NaN or Inf found in input tensor.\n",
            "WARNING:tensorboardX.x2num:NaN or Inf found in input tensor.\n",
            "WARNING:tensorboardX.x2num:NaN or Inf found in input tensor.\n",
            "WARNING:tensorboardX.x2num:NaN or Inf found in input tensor.\n",
            "WARNING:tensorboardX.x2num:NaN or Inf found in input tensor.\n",
            "WARNING:tensorboardX.x2num:NaN or Inf found in input tensor.\n"
          ]
        },
        {
          "name": "stdout",
          "output_type": "stream",
          "text": [
            "Epoch 28/98.. Train loss: nan.. Val loss: nan.. Train L1 norm: nan.. Val L1 norm: nan.. Train Linf norm: nan.. Val Linf norm: nan\n"
          ]
        },
        {
          "name": "stderr",
          "output_type": "stream",
          "text": [
            "WARNING:tensorboardX.x2num:NaN or Inf found in input tensor.\n",
            "WARNING:tensorboardX.x2num:NaN or Inf found in input tensor.\n",
            "WARNING:tensorboardX.x2num:NaN or Inf found in input tensor.\n",
            "WARNING:tensorboardX.x2num:NaN or Inf found in input tensor.\n",
            "WARNING:tensorboardX.x2num:NaN or Inf found in input tensor.\n",
            "WARNING:tensorboardX.x2num:NaN or Inf found in input tensor.\n"
          ]
        },
        {
          "name": "stdout",
          "output_type": "stream",
          "text": [
            "Epoch 29/98.. Train loss: nan.. Val loss: nan.. Train L1 norm: nan.. Val L1 norm: nan.. Train Linf norm: nan.. Val Linf norm: nan\n"
          ]
        },
        {
          "name": "stderr",
          "output_type": "stream",
          "text": [
            "WARNING:tensorboardX.x2num:NaN or Inf found in input tensor.\n",
            "WARNING:tensorboardX.x2num:NaN or Inf found in input tensor.\n",
            "WARNING:tensorboardX.x2num:NaN or Inf found in input tensor.\n",
            "WARNING:tensorboardX.x2num:NaN or Inf found in input tensor.\n",
            "WARNING:tensorboardX.x2num:NaN or Inf found in input tensor.\n",
            "WARNING:tensorboardX.x2num:NaN or Inf found in input tensor.\n"
          ]
        },
        {
          "name": "stdout",
          "output_type": "stream",
          "text": [
            "Epoch 30/98.. Train loss: nan.. Val loss: nan.. Train L1 norm: nan.. Val L1 norm: nan.. Train Linf norm: nan.. Val Linf norm: nan\n"
          ]
        },
        {
          "name": "stderr",
          "output_type": "stream",
          "text": [
            "WARNING:tensorboardX.x2num:NaN or Inf found in input tensor.\n",
            "WARNING:tensorboardX.x2num:NaN or Inf found in input tensor.\n",
            "WARNING:tensorboardX.x2num:NaN or Inf found in input tensor.\n",
            "WARNING:tensorboardX.x2num:NaN or Inf found in input tensor.\n",
            "WARNING:tensorboardX.x2num:NaN or Inf found in input tensor.\n",
            "WARNING:tensorboardX.x2num:NaN or Inf found in input tensor.\n"
          ]
        },
        {
          "name": "stdout",
          "output_type": "stream",
          "text": [
            "Epoch 31/98.. Train loss: nan.. Val loss: nan.. Train L1 norm: nan.. Val L1 norm: nan.. Train Linf norm: nan.. Val Linf norm: nan\n"
          ]
        },
        {
          "name": "stderr",
          "output_type": "stream",
          "text": [
            "WARNING:tensorboardX.x2num:NaN or Inf found in input tensor.\n",
            "WARNING:tensorboardX.x2num:NaN or Inf found in input tensor.\n",
            "WARNING:tensorboardX.x2num:NaN or Inf found in input tensor.\n",
            "WARNING:tensorboardX.x2num:NaN or Inf found in input tensor.\n",
            "WARNING:tensorboardX.x2num:NaN or Inf found in input tensor.\n",
            "WARNING:tensorboardX.x2num:NaN or Inf found in input tensor.\n"
          ]
        },
        {
          "name": "stdout",
          "output_type": "stream",
          "text": [
            "Epoch 32/98.. Train loss: nan.. Val loss: nan.. Train L1 norm: nan.. Val L1 norm: nan.. Train Linf norm: nan.. Val Linf norm: nan\n"
          ]
        },
        {
          "name": "stderr",
          "output_type": "stream",
          "text": [
            "WARNING:tensorboardX.x2num:NaN or Inf found in input tensor.\n",
            "WARNING:tensorboardX.x2num:NaN or Inf found in input tensor.\n",
            "WARNING:tensorboardX.x2num:NaN or Inf found in input tensor.\n",
            "WARNING:tensorboardX.x2num:NaN or Inf found in input tensor.\n",
            "WARNING:tensorboardX.x2num:NaN or Inf found in input tensor.\n",
            "WARNING:tensorboardX.x2num:NaN or Inf found in input tensor.\n"
          ]
        },
        {
          "name": "stdout",
          "output_type": "stream",
          "text": [
            "Epoch 33/98.. Train loss: nan.. Val loss: nan.. Train L1 norm: nan.. Val L1 norm: nan.. Train Linf norm: nan.. Val Linf norm: nan\n"
          ]
        },
        {
          "name": "stderr",
          "output_type": "stream",
          "text": [
            "WARNING:tensorboardX.x2num:NaN or Inf found in input tensor.\n",
            "WARNING:tensorboardX.x2num:NaN or Inf found in input tensor.\n",
            "WARNING:tensorboardX.x2num:NaN or Inf found in input tensor.\n",
            "WARNING:tensorboardX.x2num:NaN or Inf found in input tensor.\n",
            "WARNING:tensorboardX.x2num:NaN or Inf found in input tensor.\n",
            "WARNING:tensorboardX.x2num:NaN or Inf found in input tensor.\n"
          ]
        },
        {
          "name": "stdout",
          "output_type": "stream",
          "text": [
            "Epoch 34/98.. Train loss: nan.. Val loss: nan.. Train L1 norm: nan.. Val L1 norm: nan.. Train Linf norm: nan.. Val Linf norm: nan\n"
          ]
        },
        {
          "name": "stderr",
          "output_type": "stream",
          "text": [
            "WARNING:tensorboardX.x2num:NaN or Inf found in input tensor.\n",
            "WARNING:tensorboardX.x2num:NaN or Inf found in input tensor.\n",
            "WARNING:tensorboardX.x2num:NaN or Inf found in input tensor.\n",
            "WARNING:tensorboardX.x2num:NaN or Inf found in input tensor.\n",
            "WARNING:tensorboardX.x2num:NaN or Inf found in input tensor.\n",
            "WARNING:tensorboardX.x2num:NaN or Inf found in input tensor.\n"
          ]
        },
        {
          "name": "stdout",
          "output_type": "stream",
          "text": [
            "Epoch 35/98.. Train loss: nan.. Val loss: nan.. Train L1 norm: nan.. Val L1 norm: nan.. Train Linf norm: nan.. Val Linf norm: nan\n"
          ]
        },
        {
          "name": "stderr",
          "output_type": "stream",
          "text": [
            "WARNING:tensorboardX.x2num:NaN or Inf found in input tensor.\n",
            "WARNING:tensorboardX.x2num:NaN or Inf found in input tensor.\n",
            "WARNING:tensorboardX.x2num:NaN or Inf found in input tensor.\n",
            "WARNING:tensorboardX.x2num:NaN or Inf found in input tensor.\n",
            "WARNING:tensorboardX.x2num:NaN or Inf found in input tensor.\n",
            "WARNING:tensorboardX.x2num:NaN or Inf found in input tensor.\n"
          ]
        },
        {
          "name": "stdout",
          "output_type": "stream",
          "text": [
            "Epoch 36/98.. Train loss: nan.. Val loss: nan.. Train L1 norm: nan.. Val L1 norm: nan.. Train Linf norm: nan.. Val Linf norm: nan\n"
          ]
        },
        {
          "name": "stderr",
          "output_type": "stream",
          "text": [
            "WARNING:tensorboardX.x2num:NaN or Inf found in input tensor.\n",
            "WARNING:tensorboardX.x2num:NaN or Inf found in input tensor.\n",
            "WARNING:tensorboardX.x2num:NaN or Inf found in input tensor.\n",
            "WARNING:tensorboardX.x2num:NaN or Inf found in input tensor.\n",
            "WARNING:tensorboardX.x2num:NaN or Inf found in input tensor.\n",
            "WARNING:tensorboardX.x2num:NaN or Inf found in input tensor.\n"
          ]
        },
        {
          "name": "stdout",
          "output_type": "stream",
          "text": [
            "Epoch 37/98.. Train loss: nan.. Val loss: nan.. Train L1 norm: nan.. Val L1 norm: nan.. Train Linf norm: nan.. Val Linf norm: nan\n"
          ]
        },
        {
          "name": "stderr",
          "output_type": "stream",
          "text": [
            "WARNING:tensorboardX.x2num:NaN or Inf found in input tensor.\n",
            "WARNING:tensorboardX.x2num:NaN or Inf found in input tensor.\n",
            "WARNING:tensorboardX.x2num:NaN or Inf found in input tensor.\n",
            "WARNING:tensorboardX.x2num:NaN or Inf found in input tensor.\n",
            "WARNING:tensorboardX.x2num:NaN or Inf found in input tensor.\n",
            "WARNING:tensorboardX.x2num:NaN or Inf found in input tensor.\n"
          ]
        },
        {
          "name": "stdout",
          "output_type": "stream",
          "text": [
            "Epoch 38/98.. Train loss: nan.. Val loss: nan.. Train L1 norm: nan.. Val L1 norm: nan.. Train Linf norm: nan.. Val Linf norm: nan\n"
          ]
        },
        {
          "name": "stderr",
          "output_type": "stream",
          "text": [
            "WARNING:tensorboardX.x2num:NaN or Inf found in input tensor.\n",
            "WARNING:tensorboardX.x2num:NaN or Inf found in input tensor.\n",
            "WARNING:tensorboardX.x2num:NaN or Inf found in input tensor.\n",
            "WARNING:tensorboardX.x2num:NaN or Inf found in input tensor.\n",
            "WARNING:tensorboardX.x2num:NaN or Inf found in input tensor.\n",
            "WARNING:tensorboardX.x2num:NaN or Inf found in input tensor.\n"
          ]
        },
        {
          "name": "stdout",
          "output_type": "stream",
          "text": [
            "Epoch 39/98.. Train loss: nan.. Val loss: nan.. Train L1 norm: nan.. Val L1 norm: nan.. Train Linf norm: nan.. Val Linf norm: nan\n"
          ]
        },
        {
          "name": "stderr",
          "output_type": "stream",
          "text": [
            "WARNING:tensorboardX.x2num:NaN or Inf found in input tensor.\n",
            "WARNING:tensorboardX.x2num:NaN or Inf found in input tensor.\n",
            "WARNING:tensorboardX.x2num:NaN or Inf found in input tensor.\n",
            "WARNING:tensorboardX.x2num:NaN or Inf found in input tensor.\n",
            "WARNING:tensorboardX.x2num:NaN or Inf found in input tensor.\n",
            "WARNING:tensorboardX.x2num:NaN or Inf found in input tensor.\n"
          ]
        },
        {
          "name": "stdout",
          "output_type": "stream",
          "text": [
            "Epoch 40/98.. Train loss: nan.. Val loss: nan.. Train L1 norm: nan.. Val L1 norm: nan.. Train Linf norm: nan.. Val Linf norm: nan\n"
          ]
        },
        {
          "name": "stderr",
          "output_type": "stream",
          "text": [
            "WARNING:tensorboardX.x2num:NaN or Inf found in input tensor.\n",
            "WARNING:tensorboardX.x2num:NaN or Inf found in input tensor.\n",
            "WARNING:tensorboardX.x2num:NaN or Inf found in input tensor.\n",
            "WARNING:tensorboardX.x2num:NaN or Inf found in input tensor.\n",
            "WARNING:tensorboardX.x2num:NaN or Inf found in input tensor.\n",
            "WARNING:tensorboardX.x2num:NaN or Inf found in input tensor.\n"
          ]
        },
        {
          "name": "stdout",
          "output_type": "stream",
          "text": [
            "Epoch 41/98.. Train loss: nan.. Val loss: nan.. Train L1 norm: nan.. Val L1 norm: nan.. Train Linf norm: nan.. Val Linf norm: nan\n"
          ]
        },
        {
          "name": "stderr",
          "output_type": "stream",
          "text": [
            "WARNING:tensorboardX.x2num:NaN or Inf found in input tensor.\n",
            "WARNING:tensorboardX.x2num:NaN or Inf found in input tensor.\n",
            "WARNING:tensorboardX.x2num:NaN or Inf found in input tensor.\n",
            "WARNING:tensorboardX.x2num:NaN or Inf found in input tensor.\n",
            "WARNING:tensorboardX.x2num:NaN or Inf found in input tensor.\n",
            "WARNING:tensorboardX.x2num:NaN or Inf found in input tensor.\n"
          ]
        },
        {
          "name": "stdout",
          "output_type": "stream",
          "text": [
            "Epoch 42/98.. Train loss: nan.. Val loss: nan.. Train L1 norm: nan.. Val L1 norm: nan.. Train Linf norm: nan.. Val Linf norm: nan\n"
          ]
        },
        {
          "name": "stderr",
          "output_type": "stream",
          "text": [
            "WARNING:tensorboardX.x2num:NaN or Inf found in input tensor.\n",
            "WARNING:tensorboardX.x2num:NaN or Inf found in input tensor.\n",
            "WARNING:tensorboardX.x2num:NaN or Inf found in input tensor.\n",
            "WARNING:tensorboardX.x2num:NaN or Inf found in input tensor.\n",
            "WARNING:tensorboardX.x2num:NaN or Inf found in input tensor.\n",
            "WARNING:tensorboardX.x2num:NaN or Inf found in input tensor.\n"
          ]
        },
        {
          "name": "stdout",
          "output_type": "stream",
          "text": [
            "Epoch 43/98.. Train loss: nan.. Val loss: nan.. Train L1 norm: nan.. Val L1 norm: nan.. Train Linf norm: nan.. Val Linf norm: nan\n"
          ]
        },
        {
          "name": "stderr",
          "output_type": "stream",
          "text": [
            "WARNING:tensorboardX.x2num:NaN or Inf found in input tensor.\n",
            "WARNING:tensorboardX.x2num:NaN or Inf found in input tensor.\n",
            "WARNING:tensorboardX.x2num:NaN or Inf found in input tensor.\n",
            "WARNING:tensorboardX.x2num:NaN or Inf found in input tensor.\n",
            "WARNING:tensorboardX.x2num:NaN or Inf found in input tensor.\n",
            "WARNING:tensorboardX.x2num:NaN or Inf found in input tensor.\n"
          ]
        },
        {
          "name": "stdout",
          "output_type": "stream",
          "text": [
            "Epoch 44/98.. Train loss: nan.. Val loss: nan.. Train L1 norm: nan.. Val L1 norm: nan.. Train Linf norm: nan.. Val Linf norm: nan\n"
          ]
        },
        {
          "name": "stderr",
          "output_type": "stream",
          "text": [
            "WARNING:tensorboardX.x2num:NaN or Inf found in input tensor.\n",
            "WARNING:tensorboardX.x2num:NaN or Inf found in input tensor.\n",
            "WARNING:tensorboardX.x2num:NaN or Inf found in input tensor.\n",
            "WARNING:tensorboardX.x2num:NaN or Inf found in input tensor.\n",
            "WARNING:tensorboardX.x2num:NaN or Inf found in input tensor.\n",
            "WARNING:tensorboardX.x2num:NaN or Inf found in input tensor.\n"
          ]
        },
        {
          "name": "stdout",
          "output_type": "stream",
          "text": [
            "Epoch 45/98.. Train loss: nan.. Val loss: nan.. Train L1 norm: nan.. Val L1 norm: nan.. Train Linf norm: nan.. Val Linf norm: nan\n"
          ]
        },
        {
          "name": "stderr",
          "output_type": "stream",
          "text": [
            "WARNING:tensorboardX.x2num:NaN or Inf found in input tensor.\n",
            "WARNING:tensorboardX.x2num:NaN or Inf found in input tensor.\n",
            "WARNING:tensorboardX.x2num:NaN or Inf found in input tensor.\n",
            "WARNING:tensorboardX.x2num:NaN or Inf found in input tensor.\n",
            "WARNING:tensorboardX.x2num:NaN or Inf found in input tensor.\n",
            "WARNING:tensorboardX.x2num:NaN or Inf found in input tensor.\n"
          ]
        },
        {
          "name": "stdout",
          "output_type": "stream",
          "text": [
            "Epoch 46/98.. Train loss: nan.. Val loss: nan.. Train L1 norm: nan.. Val L1 norm: nan.. Train Linf norm: nan.. Val Linf norm: nan\n"
          ]
        },
        {
          "name": "stderr",
          "output_type": "stream",
          "text": [
            "WARNING:tensorboardX.x2num:NaN or Inf found in input tensor.\n",
            "WARNING:tensorboardX.x2num:NaN or Inf found in input tensor.\n",
            "WARNING:tensorboardX.x2num:NaN or Inf found in input tensor.\n",
            "WARNING:tensorboardX.x2num:NaN or Inf found in input tensor.\n",
            "WARNING:tensorboardX.x2num:NaN or Inf found in input tensor.\n",
            "WARNING:tensorboardX.x2num:NaN or Inf found in input tensor.\n"
          ]
        },
        {
          "name": "stdout",
          "output_type": "stream",
          "text": [
            "Epoch 47/98.. Train loss: nan.. Val loss: nan.. Train L1 norm: nan.. Val L1 norm: nan.. Train Linf norm: nan.. Val Linf norm: nan\n"
          ]
        },
        {
          "name": "stderr",
          "output_type": "stream",
          "text": [
            "WARNING:tensorboardX.x2num:NaN or Inf found in input tensor.\n",
            "WARNING:tensorboardX.x2num:NaN or Inf found in input tensor.\n",
            "WARNING:tensorboardX.x2num:NaN or Inf found in input tensor.\n",
            "WARNING:tensorboardX.x2num:NaN or Inf found in input tensor.\n",
            "WARNING:tensorboardX.x2num:NaN or Inf found in input tensor.\n",
            "WARNING:tensorboardX.x2num:NaN or Inf found in input tensor.\n"
          ]
        },
        {
          "name": "stdout",
          "output_type": "stream",
          "text": [
            "Epoch 48/98.. Train loss: nan.. Val loss: nan.. Train L1 norm: nan.. Val L1 norm: nan.. Train Linf norm: nan.. Val Linf norm: nan\n"
          ]
        },
        {
          "name": "stderr",
          "output_type": "stream",
          "text": [
            "WARNING:tensorboardX.x2num:NaN or Inf found in input tensor.\n",
            "WARNING:tensorboardX.x2num:NaN or Inf found in input tensor.\n",
            "WARNING:tensorboardX.x2num:NaN or Inf found in input tensor.\n",
            "WARNING:tensorboardX.x2num:NaN or Inf found in input tensor.\n",
            "WARNING:tensorboardX.x2num:NaN or Inf found in input tensor.\n",
            "WARNING:tensorboardX.x2num:NaN or Inf found in input tensor.\n"
          ]
        },
        {
          "name": "stdout",
          "output_type": "stream",
          "text": [
            "Epoch 49/98.. Train loss: nan.. Val loss: nan.. Train L1 norm: nan.. Val L1 norm: nan.. Train Linf norm: nan.. Val Linf norm: nan\n"
          ]
        },
        {
          "name": "stderr",
          "output_type": "stream",
          "text": [
            "WARNING:tensorboardX.x2num:NaN or Inf found in input tensor.\n",
            "WARNING:tensorboardX.x2num:NaN or Inf found in input tensor.\n",
            "WARNING:tensorboardX.x2num:NaN or Inf found in input tensor.\n",
            "WARNING:tensorboardX.x2num:NaN or Inf found in input tensor.\n",
            "WARNING:tensorboardX.x2num:NaN or Inf found in input tensor.\n",
            "WARNING:tensorboardX.x2num:NaN or Inf found in input tensor.\n"
          ]
        },
        {
          "name": "stdout",
          "output_type": "stream",
          "text": [
            "Epoch 50/98.. Train loss: nan.. Val loss: nan.. Train L1 norm: nan.. Val L1 norm: nan.. Train Linf norm: nan.. Val Linf norm: nan\n"
          ]
        },
        {
          "name": "stderr",
          "output_type": "stream",
          "text": [
            "WARNING:tensorboardX.x2num:NaN or Inf found in input tensor.\n",
            "WARNING:tensorboardX.x2num:NaN or Inf found in input tensor.\n",
            "WARNING:tensorboardX.x2num:NaN or Inf found in input tensor.\n",
            "WARNING:tensorboardX.x2num:NaN or Inf found in input tensor.\n",
            "WARNING:tensorboardX.x2num:NaN or Inf found in input tensor.\n",
            "WARNING:tensorboardX.x2num:NaN or Inf found in input tensor.\n"
          ]
        },
        {
          "name": "stdout",
          "output_type": "stream",
          "text": [
            "Epoch 51/98.. Train loss: nan.. Val loss: nan.. Train L1 norm: nan.. Val L1 norm: nan.. Train Linf norm: nan.. Val Linf norm: nan\n"
          ]
        },
        {
          "name": "stderr",
          "output_type": "stream",
          "text": [
            "WARNING:tensorboardX.x2num:NaN or Inf found in input tensor.\n",
            "WARNING:tensorboardX.x2num:NaN or Inf found in input tensor.\n",
            "WARNING:tensorboardX.x2num:NaN or Inf found in input tensor.\n",
            "WARNING:tensorboardX.x2num:NaN or Inf found in input tensor.\n",
            "WARNING:tensorboardX.x2num:NaN or Inf found in input tensor.\n",
            "WARNING:tensorboardX.x2num:NaN or Inf found in input tensor.\n"
          ]
        },
        {
          "name": "stdout",
          "output_type": "stream",
          "text": [
            "Epoch 52/98.. Train loss: nan.. Val loss: nan.. Train L1 norm: nan.. Val L1 norm: nan.. Train Linf norm: nan.. Val Linf norm: nan\n"
          ]
        },
        {
          "name": "stderr",
          "output_type": "stream",
          "text": [
            "WARNING:tensorboardX.x2num:NaN or Inf found in input tensor.\n",
            "WARNING:tensorboardX.x2num:NaN or Inf found in input tensor.\n",
            "WARNING:tensorboardX.x2num:NaN or Inf found in input tensor.\n",
            "WARNING:tensorboardX.x2num:NaN or Inf found in input tensor.\n",
            "WARNING:tensorboardX.x2num:NaN or Inf found in input tensor.\n",
            "WARNING:tensorboardX.x2num:NaN or Inf found in input tensor.\n"
          ]
        },
        {
          "name": "stdout",
          "output_type": "stream",
          "text": [
            "Epoch 53/98.. Train loss: nan.. Val loss: nan.. Train L1 norm: nan.. Val L1 norm: nan.. Train Linf norm: nan.. Val Linf norm: nan\n"
          ]
        },
        {
          "name": "stderr",
          "output_type": "stream",
          "text": [
            "WARNING:tensorboardX.x2num:NaN or Inf found in input tensor.\n",
            "WARNING:tensorboardX.x2num:NaN or Inf found in input tensor.\n",
            "WARNING:tensorboardX.x2num:NaN or Inf found in input tensor.\n",
            "WARNING:tensorboardX.x2num:NaN or Inf found in input tensor.\n",
            "WARNING:tensorboardX.x2num:NaN or Inf found in input tensor.\n",
            "WARNING:tensorboardX.x2num:NaN or Inf found in input tensor.\n"
          ]
        },
        {
          "name": "stdout",
          "output_type": "stream",
          "text": [
            "Epoch 54/98.. Train loss: nan.. Val loss: nan.. Train L1 norm: nan.. Val L1 norm: nan.. Train Linf norm: nan.. Val Linf norm: nan\n"
          ]
        },
        {
          "name": "stderr",
          "output_type": "stream",
          "text": [
            "WARNING:tensorboardX.x2num:NaN or Inf found in input tensor.\n",
            "WARNING:tensorboardX.x2num:NaN or Inf found in input tensor.\n",
            "WARNING:tensorboardX.x2num:NaN or Inf found in input tensor.\n",
            "WARNING:tensorboardX.x2num:NaN or Inf found in input tensor.\n",
            "WARNING:tensorboardX.x2num:NaN or Inf found in input tensor.\n",
            "WARNING:tensorboardX.x2num:NaN or Inf found in input tensor.\n"
          ]
        },
        {
          "name": "stdout",
          "output_type": "stream",
          "text": [
            "Epoch 55/98.. Train loss: nan.. Val loss: nan.. Train L1 norm: nan.. Val L1 norm: nan.. Train Linf norm: nan.. Val Linf norm: nan\n"
          ]
        },
        {
          "name": "stderr",
          "output_type": "stream",
          "text": [
            "WARNING:tensorboardX.x2num:NaN or Inf found in input tensor.\n",
            "WARNING:tensorboardX.x2num:NaN or Inf found in input tensor.\n",
            "WARNING:tensorboardX.x2num:NaN or Inf found in input tensor.\n",
            "WARNING:tensorboardX.x2num:NaN or Inf found in input tensor.\n",
            "WARNING:tensorboardX.x2num:NaN or Inf found in input tensor.\n",
            "WARNING:tensorboardX.x2num:NaN or Inf found in input tensor.\n"
          ]
        },
        {
          "name": "stdout",
          "output_type": "stream",
          "text": [
            "Epoch 56/98.. Train loss: nan.. Val loss: nan.. Train L1 norm: nan.. Val L1 norm: nan.. Train Linf norm: nan.. Val Linf norm: nan\n"
          ]
        },
        {
          "name": "stderr",
          "output_type": "stream",
          "text": [
            "WARNING:tensorboardX.x2num:NaN or Inf found in input tensor.\n",
            "WARNING:tensorboardX.x2num:NaN or Inf found in input tensor.\n",
            "WARNING:tensorboardX.x2num:NaN or Inf found in input tensor.\n",
            "WARNING:tensorboardX.x2num:NaN or Inf found in input tensor.\n",
            "WARNING:tensorboardX.x2num:NaN or Inf found in input tensor.\n",
            "WARNING:tensorboardX.x2num:NaN or Inf found in input tensor.\n"
          ]
        },
        {
          "name": "stdout",
          "output_type": "stream",
          "text": [
            "Epoch 57/98.. Train loss: nan.. Val loss: nan.. Train L1 norm: nan.. Val L1 norm: nan.. Train Linf norm: nan.. Val Linf norm: nan\n"
          ]
        },
        {
          "name": "stderr",
          "output_type": "stream",
          "text": [
            "WARNING:tensorboardX.x2num:NaN or Inf found in input tensor.\n",
            "WARNING:tensorboardX.x2num:NaN or Inf found in input tensor.\n",
            "WARNING:tensorboardX.x2num:NaN or Inf found in input tensor.\n",
            "WARNING:tensorboardX.x2num:NaN or Inf found in input tensor.\n",
            "WARNING:tensorboardX.x2num:NaN or Inf found in input tensor.\n",
            "WARNING:tensorboardX.x2num:NaN or Inf found in input tensor.\n"
          ]
        },
        {
          "name": "stdout",
          "output_type": "stream",
          "text": [
            "Epoch 58/98.. Train loss: nan.. Val loss: nan.. Train L1 norm: nan.. Val L1 norm: nan.. Train Linf norm: nan.. Val Linf norm: nan\n"
          ]
        },
        {
          "name": "stderr",
          "output_type": "stream",
          "text": [
            "WARNING:tensorboardX.x2num:NaN or Inf found in input tensor.\n",
            "WARNING:tensorboardX.x2num:NaN or Inf found in input tensor.\n",
            "WARNING:tensorboardX.x2num:NaN or Inf found in input tensor.\n",
            "WARNING:tensorboardX.x2num:NaN or Inf found in input tensor.\n",
            "WARNING:tensorboardX.x2num:NaN or Inf found in input tensor.\n",
            "WARNING:tensorboardX.x2num:NaN or Inf found in input tensor.\n"
          ]
        },
        {
          "name": "stdout",
          "output_type": "stream",
          "text": [
            "Epoch 59/98.. Train loss: nan.. Val loss: nan.. Train L1 norm: nan.. Val L1 norm: nan.. Train Linf norm: nan.. Val Linf norm: nan\n"
          ]
        },
        {
          "name": "stderr",
          "output_type": "stream",
          "text": [
            "WARNING:tensorboardX.x2num:NaN or Inf found in input tensor.\n",
            "WARNING:tensorboardX.x2num:NaN or Inf found in input tensor.\n",
            "WARNING:tensorboardX.x2num:NaN or Inf found in input tensor.\n",
            "WARNING:tensorboardX.x2num:NaN or Inf found in input tensor.\n",
            "WARNING:tensorboardX.x2num:NaN or Inf found in input tensor.\n",
            "WARNING:tensorboardX.x2num:NaN or Inf found in input tensor.\n"
          ]
        },
        {
          "name": "stdout",
          "output_type": "stream",
          "text": [
            "Epoch 60/98.. Train loss: nan.. Val loss: nan.. Train L1 norm: nan.. Val L1 norm: nan.. Train Linf norm: nan.. Val Linf norm: nan\n"
          ]
        },
        {
          "name": "stderr",
          "output_type": "stream",
          "text": [
            "WARNING:tensorboardX.x2num:NaN or Inf found in input tensor.\n",
            "WARNING:tensorboardX.x2num:NaN or Inf found in input tensor.\n",
            "WARNING:tensorboardX.x2num:NaN or Inf found in input tensor.\n",
            "WARNING:tensorboardX.x2num:NaN or Inf found in input tensor.\n",
            "WARNING:tensorboardX.x2num:NaN or Inf found in input tensor.\n",
            "WARNING:tensorboardX.x2num:NaN or Inf found in input tensor.\n"
          ]
        },
        {
          "name": "stdout",
          "output_type": "stream",
          "text": [
            "Epoch 61/98.. Train loss: nan.. Val loss: nan.. Train L1 norm: nan.. Val L1 norm: nan.. Train Linf norm: nan.. Val Linf norm: nan\n"
          ]
        },
        {
          "name": "stderr",
          "output_type": "stream",
          "text": [
            "WARNING:tensorboardX.x2num:NaN or Inf found in input tensor.\n",
            "WARNING:tensorboardX.x2num:NaN or Inf found in input tensor.\n",
            "WARNING:tensorboardX.x2num:NaN or Inf found in input tensor.\n",
            "WARNING:tensorboardX.x2num:NaN or Inf found in input tensor.\n",
            "WARNING:tensorboardX.x2num:NaN or Inf found in input tensor.\n",
            "WARNING:tensorboardX.x2num:NaN or Inf found in input tensor.\n"
          ]
        },
        {
          "name": "stdout",
          "output_type": "stream",
          "text": [
            "Epoch 62/98.. Train loss: nan.. Val loss: nan.. Train L1 norm: nan.. Val L1 norm: nan.. Train Linf norm: nan.. Val Linf norm: nan\n"
          ]
        },
        {
          "name": "stderr",
          "output_type": "stream",
          "text": [
            "WARNING:tensorboardX.x2num:NaN or Inf found in input tensor.\n",
            "WARNING:tensorboardX.x2num:NaN or Inf found in input tensor.\n",
            "WARNING:tensorboardX.x2num:NaN or Inf found in input tensor.\n",
            "WARNING:tensorboardX.x2num:NaN or Inf found in input tensor.\n",
            "WARNING:tensorboardX.x2num:NaN or Inf found in input tensor.\n",
            "WARNING:tensorboardX.x2num:NaN or Inf found in input tensor.\n"
          ]
        },
        {
          "name": "stdout",
          "output_type": "stream",
          "text": [
            "Epoch 63/98.. Train loss: nan.. Val loss: nan.. Train L1 norm: nan.. Val L1 norm: nan.. Train Linf norm: nan.. Val Linf norm: nan\n"
          ]
        },
        {
          "name": "stderr",
          "output_type": "stream",
          "text": [
            "WARNING:tensorboardX.x2num:NaN or Inf found in input tensor.\n",
            "WARNING:tensorboardX.x2num:NaN or Inf found in input tensor.\n",
            "WARNING:tensorboardX.x2num:NaN or Inf found in input tensor.\n",
            "WARNING:tensorboardX.x2num:NaN or Inf found in input tensor.\n",
            "WARNING:tensorboardX.x2num:NaN or Inf found in input tensor.\n",
            "WARNING:tensorboardX.x2num:NaN or Inf found in input tensor.\n"
          ]
        },
        {
          "name": "stdout",
          "output_type": "stream",
          "text": [
            "Epoch 64/98.. Train loss: nan.. Val loss: nan.. Train L1 norm: nan.. Val L1 norm: nan.. Train Linf norm: nan.. Val Linf norm: nan\n"
          ]
        },
        {
          "name": "stderr",
          "output_type": "stream",
          "text": [
            "WARNING:tensorboardX.x2num:NaN or Inf found in input tensor.\n",
            "WARNING:tensorboardX.x2num:NaN or Inf found in input tensor.\n",
            "WARNING:tensorboardX.x2num:NaN or Inf found in input tensor.\n",
            "WARNING:tensorboardX.x2num:NaN or Inf found in input tensor.\n",
            "WARNING:tensorboardX.x2num:NaN or Inf found in input tensor.\n",
            "WARNING:tensorboardX.x2num:NaN or Inf found in input tensor.\n"
          ]
        },
        {
          "name": "stdout",
          "output_type": "stream",
          "text": [
            "Epoch 65/98.. Train loss: nan.. Val loss: nan.. Train L1 norm: nan.. Val L1 norm: nan.. Train Linf norm: nan.. Val Linf norm: nan\n"
          ]
        },
        {
          "name": "stderr",
          "output_type": "stream",
          "text": [
            "WARNING:tensorboardX.x2num:NaN or Inf found in input tensor.\n",
            "WARNING:tensorboardX.x2num:NaN or Inf found in input tensor.\n",
            "WARNING:tensorboardX.x2num:NaN or Inf found in input tensor.\n",
            "WARNING:tensorboardX.x2num:NaN or Inf found in input tensor.\n",
            "WARNING:tensorboardX.x2num:NaN or Inf found in input tensor.\n",
            "WARNING:tensorboardX.x2num:NaN or Inf found in input tensor.\n"
          ]
        },
        {
          "name": "stdout",
          "output_type": "stream",
          "text": [
            "Epoch 66/98.. Train loss: nan.. Val loss: nan.. Train L1 norm: nan.. Val L1 norm: nan.. Train Linf norm: nan.. Val Linf norm: nan\n"
          ]
        },
        {
          "name": "stderr",
          "output_type": "stream",
          "text": [
            "WARNING:tensorboardX.x2num:NaN or Inf found in input tensor.\n",
            "WARNING:tensorboardX.x2num:NaN or Inf found in input tensor.\n",
            "WARNING:tensorboardX.x2num:NaN or Inf found in input tensor.\n",
            "WARNING:tensorboardX.x2num:NaN or Inf found in input tensor.\n",
            "WARNING:tensorboardX.x2num:NaN or Inf found in input tensor.\n",
            "WARNING:tensorboardX.x2num:NaN or Inf found in input tensor.\n"
          ]
        },
        {
          "name": "stdout",
          "output_type": "stream",
          "text": [
            "Epoch 67/98.. Train loss: nan.. Val loss: nan.. Train L1 norm: nan.. Val L1 norm: nan.. Train Linf norm: nan.. Val Linf norm: nan\n"
          ]
        },
        {
          "name": "stderr",
          "output_type": "stream",
          "text": [
            "WARNING:tensorboardX.x2num:NaN or Inf found in input tensor.\n",
            "WARNING:tensorboardX.x2num:NaN or Inf found in input tensor.\n",
            "WARNING:tensorboardX.x2num:NaN or Inf found in input tensor.\n",
            "WARNING:tensorboardX.x2num:NaN or Inf found in input tensor.\n",
            "WARNING:tensorboardX.x2num:NaN or Inf found in input tensor.\n",
            "WARNING:tensorboardX.x2num:NaN or Inf found in input tensor.\n"
          ]
        },
        {
          "name": "stdout",
          "output_type": "stream",
          "text": [
            "Epoch 68/98.. Train loss: nan.. Val loss: nan.. Train L1 norm: nan.. Val L1 norm: nan.. Train Linf norm: nan.. Val Linf norm: nan\n"
          ]
        },
        {
          "name": "stderr",
          "output_type": "stream",
          "text": [
            "WARNING:tensorboardX.x2num:NaN or Inf found in input tensor.\n",
            "WARNING:tensorboardX.x2num:NaN or Inf found in input tensor.\n",
            "WARNING:tensorboardX.x2num:NaN or Inf found in input tensor.\n",
            "WARNING:tensorboardX.x2num:NaN or Inf found in input tensor.\n",
            "WARNING:tensorboardX.x2num:NaN or Inf found in input tensor.\n",
            "WARNING:tensorboardX.x2num:NaN or Inf found in input tensor.\n"
          ]
        },
        {
          "name": "stdout",
          "output_type": "stream",
          "text": [
            "Epoch 69/98.. Train loss: nan.. Val loss: nan.. Train L1 norm: nan.. Val L1 norm: nan.. Train Linf norm: nan.. Val Linf norm: nan\n"
          ]
        },
        {
          "name": "stderr",
          "output_type": "stream",
          "text": [
            "WARNING:tensorboardX.x2num:NaN or Inf found in input tensor.\n",
            "WARNING:tensorboardX.x2num:NaN or Inf found in input tensor.\n",
            "WARNING:tensorboardX.x2num:NaN or Inf found in input tensor.\n",
            "WARNING:tensorboardX.x2num:NaN or Inf found in input tensor.\n",
            "WARNING:tensorboardX.x2num:NaN or Inf found in input tensor.\n",
            "WARNING:tensorboardX.x2num:NaN or Inf found in input tensor.\n"
          ]
        },
        {
          "name": "stdout",
          "output_type": "stream",
          "text": [
            "Epoch 70/98.. Train loss: nan.. Val loss: nan.. Train L1 norm: nan.. Val L1 norm: nan.. Train Linf norm: nan.. Val Linf norm: nan\n"
          ]
        },
        {
          "name": "stderr",
          "output_type": "stream",
          "text": [
            "WARNING:tensorboardX.x2num:NaN or Inf found in input tensor.\n",
            "WARNING:tensorboardX.x2num:NaN or Inf found in input tensor.\n",
            "WARNING:tensorboardX.x2num:NaN or Inf found in input tensor.\n",
            "WARNING:tensorboardX.x2num:NaN or Inf found in input tensor.\n",
            "WARNING:tensorboardX.x2num:NaN or Inf found in input tensor.\n",
            "WARNING:tensorboardX.x2num:NaN or Inf found in input tensor.\n"
          ]
        },
        {
          "name": "stdout",
          "output_type": "stream",
          "text": [
            "Epoch 71/98.. Train loss: nan.. Val loss: nan.. Train L1 norm: nan.. Val L1 norm: nan.. Train Linf norm: nan.. Val Linf norm: nan\n"
          ]
        },
        {
          "name": "stderr",
          "output_type": "stream",
          "text": [
            "WARNING:tensorboardX.x2num:NaN or Inf found in input tensor.\n",
            "WARNING:tensorboardX.x2num:NaN or Inf found in input tensor.\n",
            "WARNING:tensorboardX.x2num:NaN or Inf found in input tensor.\n",
            "WARNING:tensorboardX.x2num:NaN or Inf found in input tensor.\n",
            "WARNING:tensorboardX.x2num:NaN or Inf found in input tensor.\n",
            "WARNING:tensorboardX.x2num:NaN or Inf found in input tensor.\n"
          ]
        },
        {
          "name": "stdout",
          "output_type": "stream",
          "text": [
            "Epoch 72/98.. Train loss: nan.. Val loss: nan.. Train L1 norm: nan.. Val L1 norm: nan.. Train Linf norm: nan.. Val Linf norm: nan\n"
          ]
        },
        {
          "name": "stderr",
          "output_type": "stream",
          "text": [
            "WARNING:tensorboardX.x2num:NaN or Inf found in input tensor.\n",
            "WARNING:tensorboardX.x2num:NaN or Inf found in input tensor.\n",
            "WARNING:tensorboardX.x2num:NaN or Inf found in input tensor.\n",
            "WARNING:tensorboardX.x2num:NaN or Inf found in input tensor.\n",
            "WARNING:tensorboardX.x2num:NaN or Inf found in input tensor.\n",
            "WARNING:tensorboardX.x2num:NaN or Inf found in input tensor.\n"
          ]
        },
        {
          "name": "stdout",
          "output_type": "stream",
          "text": [
            "Epoch 73/98.. Train loss: nan.. Val loss: nan.. Train L1 norm: nan.. Val L1 norm: nan.. Train Linf norm: nan.. Val Linf norm: nan\n"
          ]
        },
        {
          "name": "stderr",
          "output_type": "stream",
          "text": [
            "WARNING:tensorboardX.x2num:NaN or Inf found in input tensor.\n",
            "WARNING:tensorboardX.x2num:NaN or Inf found in input tensor.\n",
            "WARNING:tensorboardX.x2num:NaN or Inf found in input tensor.\n",
            "WARNING:tensorboardX.x2num:NaN or Inf found in input tensor.\n",
            "WARNING:tensorboardX.x2num:NaN or Inf found in input tensor.\n",
            "WARNING:tensorboardX.x2num:NaN or Inf found in input tensor.\n"
          ]
        },
        {
          "name": "stdout",
          "output_type": "stream",
          "text": [
            "Epoch 74/98.. Train loss: nan.. Val loss: nan.. Train L1 norm: nan.. Val L1 norm: nan.. Train Linf norm: nan.. Val Linf norm: nan\n"
          ]
        },
        {
          "name": "stderr",
          "output_type": "stream",
          "text": [
            "WARNING:tensorboardX.x2num:NaN or Inf found in input tensor.\n",
            "WARNING:tensorboardX.x2num:NaN or Inf found in input tensor.\n",
            "WARNING:tensorboardX.x2num:NaN or Inf found in input tensor.\n",
            "WARNING:tensorboardX.x2num:NaN or Inf found in input tensor.\n",
            "WARNING:tensorboardX.x2num:NaN or Inf found in input tensor.\n",
            "WARNING:tensorboardX.x2num:NaN or Inf found in input tensor.\n"
          ]
        },
        {
          "name": "stdout",
          "output_type": "stream",
          "text": [
            "Epoch 75/98.. Train loss: nan.. Val loss: nan.. Train L1 norm: nan.. Val L1 norm: nan.. Train Linf norm: nan.. Val Linf norm: nan\n"
          ]
        },
        {
          "name": "stderr",
          "output_type": "stream",
          "text": [
            "WARNING:tensorboardX.x2num:NaN or Inf found in input tensor.\n",
            "WARNING:tensorboardX.x2num:NaN or Inf found in input tensor.\n",
            "WARNING:tensorboardX.x2num:NaN or Inf found in input tensor.\n",
            "WARNING:tensorboardX.x2num:NaN or Inf found in input tensor.\n",
            "WARNING:tensorboardX.x2num:NaN or Inf found in input tensor.\n",
            "WARNING:tensorboardX.x2num:NaN or Inf found in input tensor.\n"
          ]
        },
        {
          "name": "stdout",
          "output_type": "stream",
          "text": [
            "Epoch 76/98.. Train loss: nan.. Val loss: nan.. Train L1 norm: nan.. Val L1 norm: nan.. Train Linf norm: nan.. Val Linf norm: nan\n"
          ]
        },
        {
          "name": "stderr",
          "output_type": "stream",
          "text": [
            "WARNING:tensorboardX.x2num:NaN or Inf found in input tensor.\n",
            "WARNING:tensorboardX.x2num:NaN or Inf found in input tensor.\n",
            "WARNING:tensorboardX.x2num:NaN or Inf found in input tensor.\n",
            "WARNING:tensorboardX.x2num:NaN or Inf found in input tensor.\n",
            "WARNING:tensorboardX.x2num:NaN or Inf found in input tensor.\n",
            "WARNING:tensorboardX.x2num:NaN or Inf found in input tensor.\n"
          ]
        },
        {
          "name": "stdout",
          "output_type": "stream",
          "text": [
            "Epoch 77/98.. Train loss: nan.. Val loss: nan.. Train L1 norm: nan.. Val L1 norm: nan.. Train Linf norm: nan.. Val Linf norm: nan\n"
          ]
        },
        {
          "name": "stderr",
          "output_type": "stream",
          "text": [
            "WARNING:tensorboardX.x2num:NaN or Inf found in input tensor.\n",
            "WARNING:tensorboardX.x2num:NaN or Inf found in input tensor.\n",
            "WARNING:tensorboardX.x2num:NaN or Inf found in input tensor.\n",
            "WARNING:tensorboardX.x2num:NaN or Inf found in input tensor.\n",
            "WARNING:tensorboardX.x2num:NaN or Inf found in input tensor.\n",
            "WARNING:tensorboardX.x2num:NaN or Inf found in input tensor.\n"
          ]
        },
        {
          "name": "stdout",
          "output_type": "stream",
          "text": [
            "Epoch 78/98.. Train loss: nan.. Val loss: nan.. Train L1 norm: nan.. Val L1 norm: nan.. Train Linf norm: nan.. Val Linf norm: nan\n"
          ]
        },
        {
          "name": "stderr",
          "output_type": "stream",
          "text": [
            "WARNING:tensorboardX.x2num:NaN or Inf found in input tensor.\n",
            "WARNING:tensorboardX.x2num:NaN or Inf found in input tensor.\n",
            "WARNING:tensorboardX.x2num:NaN or Inf found in input tensor.\n",
            "WARNING:tensorboardX.x2num:NaN or Inf found in input tensor.\n",
            "WARNING:tensorboardX.x2num:NaN or Inf found in input tensor.\n",
            "WARNING:tensorboardX.x2num:NaN or Inf found in input tensor.\n"
          ]
        },
        {
          "name": "stdout",
          "output_type": "stream",
          "text": [
            "Epoch 79/98.. Train loss: nan.. Val loss: nan.. Train L1 norm: nan.. Val L1 norm: nan.. Train Linf norm: nan.. Val Linf norm: nan\n"
          ]
        },
        {
          "name": "stderr",
          "output_type": "stream",
          "text": [
            "WARNING:tensorboardX.x2num:NaN or Inf found in input tensor.\n",
            "WARNING:tensorboardX.x2num:NaN or Inf found in input tensor.\n",
            "WARNING:tensorboardX.x2num:NaN or Inf found in input tensor.\n",
            "WARNING:tensorboardX.x2num:NaN or Inf found in input tensor.\n",
            "WARNING:tensorboardX.x2num:NaN or Inf found in input tensor.\n",
            "WARNING:tensorboardX.x2num:NaN or Inf found in input tensor.\n"
          ]
        },
        {
          "name": "stdout",
          "output_type": "stream",
          "text": [
            "Epoch 80/98.. Train loss: nan.. Val loss: nan.. Train L1 norm: nan.. Val L1 norm: nan.. Train Linf norm: nan.. Val Linf norm: nan\n"
          ]
        },
        {
          "name": "stderr",
          "output_type": "stream",
          "text": [
            "WARNING:tensorboardX.x2num:NaN or Inf found in input tensor.\n",
            "WARNING:tensorboardX.x2num:NaN or Inf found in input tensor.\n",
            "WARNING:tensorboardX.x2num:NaN or Inf found in input tensor.\n",
            "WARNING:tensorboardX.x2num:NaN or Inf found in input tensor.\n",
            "WARNING:tensorboardX.x2num:NaN or Inf found in input tensor.\n",
            "WARNING:tensorboardX.x2num:NaN or Inf found in input tensor.\n"
          ]
        },
        {
          "name": "stdout",
          "output_type": "stream",
          "text": [
            "Epoch 81/98.. Train loss: nan.. Val loss: nan.. Train L1 norm: nan.. Val L1 norm: nan.. Train Linf norm: nan.. Val Linf norm: nan\n"
          ]
        },
        {
          "name": "stderr",
          "output_type": "stream",
          "text": [
            "WARNING:tensorboardX.x2num:NaN or Inf found in input tensor.\n",
            "WARNING:tensorboardX.x2num:NaN or Inf found in input tensor.\n",
            "WARNING:tensorboardX.x2num:NaN or Inf found in input tensor.\n",
            "WARNING:tensorboardX.x2num:NaN or Inf found in input tensor.\n",
            "WARNING:tensorboardX.x2num:NaN or Inf found in input tensor.\n",
            "WARNING:tensorboardX.x2num:NaN or Inf found in input tensor.\n"
          ]
        },
        {
          "name": "stdout",
          "output_type": "stream",
          "text": [
            "Epoch 82/98.. Train loss: nan.. Val loss: nan.. Train L1 norm: nan.. Val L1 norm: nan.. Train Linf norm: nan.. Val Linf norm: nan\n"
          ]
        },
        {
          "name": "stderr",
          "output_type": "stream",
          "text": [
            "WARNING:tensorboardX.x2num:NaN or Inf found in input tensor.\n",
            "WARNING:tensorboardX.x2num:NaN or Inf found in input tensor.\n",
            "WARNING:tensorboardX.x2num:NaN or Inf found in input tensor.\n",
            "WARNING:tensorboardX.x2num:NaN or Inf found in input tensor.\n",
            "WARNING:tensorboardX.x2num:NaN or Inf found in input tensor.\n",
            "WARNING:tensorboardX.x2num:NaN or Inf found in input tensor.\n"
          ]
        },
        {
          "name": "stdout",
          "output_type": "stream",
          "text": [
            "Epoch 83/98.. Train loss: nan.. Val loss: nan.. Train L1 norm: nan.. Val L1 norm: nan.. Train Linf norm: nan.. Val Linf norm: nan\n"
          ]
        },
        {
          "name": "stderr",
          "output_type": "stream",
          "text": [
            "WARNING:tensorboardX.x2num:NaN or Inf found in input tensor.\n",
            "WARNING:tensorboardX.x2num:NaN or Inf found in input tensor.\n",
            "WARNING:tensorboardX.x2num:NaN or Inf found in input tensor.\n",
            "WARNING:tensorboardX.x2num:NaN or Inf found in input tensor.\n",
            "WARNING:tensorboardX.x2num:NaN or Inf found in input tensor.\n",
            "WARNING:tensorboardX.x2num:NaN or Inf found in input tensor.\n"
          ]
        },
        {
          "name": "stdout",
          "output_type": "stream",
          "text": [
            "Epoch 84/98.. Train loss: nan.. Val loss: nan.. Train L1 norm: nan.. Val L1 norm: nan.. Train Linf norm: nan.. Val Linf norm: nan\n"
          ]
        },
        {
          "name": "stderr",
          "output_type": "stream",
          "text": [
            "WARNING:tensorboardX.x2num:NaN or Inf found in input tensor.\n",
            "WARNING:tensorboardX.x2num:NaN or Inf found in input tensor.\n",
            "WARNING:tensorboardX.x2num:NaN or Inf found in input tensor.\n",
            "WARNING:tensorboardX.x2num:NaN or Inf found in input tensor.\n",
            "WARNING:tensorboardX.x2num:NaN or Inf found in input tensor.\n",
            "WARNING:tensorboardX.x2num:NaN or Inf found in input tensor.\n"
          ]
        },
        {
          "name": "stdout",
          "output_type": "stream",
          "text": [
            "Epoch 85/98.. Train loss: nan.. Val loss: nan.. Train L1 norm: nan.. Val L1 norm: nan.. Train Linf norm: nan.. Val Linf norm: nan\n"
          ]
        },
        {
          "name": "stderr",
          "output_type": "stream",
          "text": [
            "WARNING:tensorboardX.x2num:NaN or Inf found in input tensor.\n",
            "WARNING:tensorboardX.x2num:NaN or Inf found in input tensor.\n",
            "WARNING:tensorboardX.x2num:NaN or Inf found in input tensor.\n",
            "WARNING:tensorboardX.x2num:NaN or Inf found in input tensor.\n",
            "WARNING:tensorboardX.x2num:NaN or Inf found in input tensor.\n",
            "WARNING:tensorboardX.x2num:NaN or Inf found in input tensor.\n"
          ]
        },
        {
          "name": "stdout",
          "output_type": "stream",
          "text": [
            "Epoch 86/98.. Train loss: nan.. Val loss: nan.. Train L1 norm: nan.. Val L1 norm: nan.. Train Linf norm: nan.. Val Linf norm: nan\n"
          ]
        },
        {
          "name": "stderr",
          "output_type": "stream",
          "text": [
            "WARNING:tensorboardX.x2num:NaN or Inf found in input tensor.\n",
            "WARNING:tensorboardX.x2num:NaN or Inf found in input tensor.\n",
            "WARNING:tensorboardX.x2num:NaN or Inf found in input tensor.\n",
            "WARNING:tensorboardX.x2num:NaN or Inf found in input tensor.\n",
            "WARNING:tensorboardX.x2num:NaN or Inf found in input tensor.\n",
            "WARNING:tensorboardX.x2num:NaN or Inf found in input tensor.\n"
          ]
        },
        {
          "name": "stdout",
          "output_type": "stream",
          "text": [
            "Epoch 87/98.. Train loss: nan.. Val loss: nan.. Train L1 norm: nan.. Val L1 norm: nan.. Train Linf norm: nan.. Val Linf norm: nan\n"
          ]
        },
        {
          "name": "stderr",
          "output_type": "stream",
          "text": [
            "WARNING:tensorboardX.x2num:NaN or Inf found in input tensor.\n",
            "WARNING:tensorboardX.x2num:NaN or Inf found in input tensor.\n",
            "WARNING:tensorboardX.x2num:NaN or Inf found in input tensor.\n",
            "WARNING:tensorboardX.x2num:NaN or Inf found in input tensor.\n",
            "WARNING:tensorboardX.x2num:NaN or Inf found in input tensor.\n",
            "WARNING:tensorboardX.x2num:NaN or Inf found in input tensor.\n"
          ]
        },
        {
          "name": "stdout",
          "output_type": "stream",
          "text": [
            "Epoch 88/98.. Train loss: nan.. Val loss: nan.. Train L1 norm: nan.. Val L1 norm: nan.. Train Linf norm: nan.. Val Linf norm: nan\n"
          ]
        },
        {
          "name": "stderr",
          "output_type": "stream",
          "text": [
            "WARNING:tensorboardX.x2num:NaN or Inf found in input tensor.\n",
            "WARNING:tensorboardX.x2num:NaN or Inf found in input tensor.\n",
            "WARNING:tensorboardX.x2num:NaN or Inf found in input tensor.\n",
            "WARNING:tensorboardX.x2num:NaN or Inf found in input tensor.\n",
            "WARNING:tensorboardX.x2num:NaN or Inf found in input tensor.\n",
            "WARNING:tensorboardX.x2num:NaN or Inf found in input tensor.\n"
          ]
        },
        {
          "name": "stdout",
          "output_type": "stream",
          "text": [
            "Epoch 89/98.. Train loss: nan.. Val loss: nan.. Train L1 norm: nan.. Val L1 norm: nan.. Train Linf norm: nan.. Val Linf norm: nan\n"
          ]
        },
        {
          "name": "stderr",
          "output_type": "stream",
          "text": [
            "WARNING:tensorboardX.x2num:NaN or Inf found in input tensor.\n",
            "WARNING:tensorboardX.x2num:NaN or Inf found in input tensor.\n",
            "WARNING:tensorboardX.x2num:NaN or Inf found in input tensor.\n",
            "WARNING:tensorboardX.x2num:NaN or Inf found in input tensor.\n",
            "WARNING:tensorboardX.x2num:NaN or Inf found in input tensor.\n",
            "WARNING:tensorboardX.x2num:NaN or Inf found in input tensor.\n"
          ]
        },
        {
          "name": "stdout",
          "output_type": "stream",
          "text": [
            "Epoch 90/98.. Train loss: nan.. Val loss: nan.. Train L1 norm: nan.. Val L1 norm: nan.. Train Linf norm: nan.. Val Linf norm: nan\n"
          ]
        },
        {
          "name": "stderr",
          "output_type": "stream",
          "text": [
            "WARNING:tensorboardX.x2num:NaN or Inf found in input tensor.\n",
            "WARNING:tensorboardX.x2num:NaN or Inf found in input tensor.\n",
            "WARNING:tensorboardX.x2num:NaN or Inf found in input tensor.\n",
            "WARNING:tensorboardX.x2num:NaN or Inf found in input tensor.\n",
            "WARNING:tensorboardX.x2num:NaN or Inf found in input tensor.\n",
            "WARNING:tensorboardX.x2num:NaN or Inf found in input tensor.\n"
          ]
        },
        {
          "name": "stdout",
          "output_type": "stream",
          "text": [
            "Epoch 91/98.. Train loss: nan.. Val loss: nan.. Train L1 norm: nan.. Val L1 norm: nan.. Train Linf norm: nan.. Val Linf norm: nan\n"
          ]
        },
        {
          "name": "stderr",
          "output_type": "stream",
          "text": [
            "WARNING:tensorboardX.x2num:NaN or Inf found in input tensor.\n",
            "WARNING:tensorboardX.x2num:NaN or Inf found in input tensor.\n",
            "WARNING:tensorboardX.x2num:NaN or Inf found in input tensor.\n",
            "WARNING:tensorboardX.x2num:NaN or Inf found in input tensor.\n",
            "WARNING:tensorboardX.x2num:NaN or Inf found in input tensor.\n",
            "WARNING:tensorboardX.x2num:NaN or Inf found in input tensor.\n"
          ]
        },
        {
          "name": "stdout",
          "output_type": "stream",
          "text": [
            "Epoch 92/98.. Train loss: nan.. Val loss: nan.. Train L1 norm: nan.. Val L1 norm: nan.. Train Linf norm: nan.. Val Linf norm: nan\n"
          ]
        },
        {
          "name": "stderr",
          "output_type": "stream",
          "text": [
            "WARNING:tensorboardX.x2num:NaN or Inf found in input tensor.\n",
            "WARNING:tensorboardX.x2num:NaN or Inf found in input tensor.\n",
            "WARNING:tensorboardX.x2num:NaN or Inf found in input tensor.\n",
            "WARNING:tensorboardX.x2num:NaN or Inf found in input tensor.\n",
            "WARNING:tensorboardX.x2num:NaN or Inf found in input tensor.\n",
            "WARNING:tensorboardX.x2num:NaN or Inf found in input tensor.\n"
          ]
        },
        {
          "name": "stdout",
          "output_type": "stream",
          "text": [
            "Epoch 93/98.. Train loss: nan.. Val loss: nan.. Train L1 norm: nan.. Val L1 norm: nan.. Train Linf norm: nan.. Val Linf norm: nan\n"
          ]
        },
        {
          "name": "stderr",
          "output_type": "stream",
          "text": [
            "WARNING:tensorboardX.x2num:NaN or Inf found in input tensor.\n",
            "WARNING:tensorboardX.x2num:NaN or Inf found in input tensor.\n",
            "WARNING:tensorboardX.x2num:NaN or Inf found in input tensor.\n",
            "WARNING:tensorboardX.x2num:NaN or Inf found in input tensor.\n",
            "WARNING:tensorboardX.x2num:NaN or Inf found in input tensor.\n",
            "WARNING:tensorboardX.x2num:NaN or Inf found in input tensor.\n"
          ]
        },
        {
          "name": "stdout",
          "output_type": "stream",
          "text": [
            "Epoch 94/98.. Train loss: nan.. Val loss: nan.. Train L1 norm: nan.. Val L1 norm: nan.. Train Linf norm: nan.. Val Linf norm: nan\n"
          ]
        },
        {
          "name": "stderr",
          "output_type": "stream",
          "text": [
            "WARNING:tensorboardX.x2num:NaN or Inf found in input tensor.\n",
            "WARNING:tensorboardX.x2num:NaN or Inf found in input tensor.\n",
            "WARNING:tensorboardX.x2num:NaN or Inf found in input tensor.\n",
            "WARNING:tensorboardX.x2num:NaN or Inf found in input tensor.\n",
            "WARNING:tensorboardX.x2num:NaN or Inf found in input tensor.\n",
            "WARNING:tensorboardX.x2num:NaN or Inf found in input tensor.\n"
          ]
        },
        {
          "name": "stdout",
          "output_type": "stream",
          "text": [
            "Epoch 95/98.. Train loss: nan.. Val loss: nan.. Train L1 norm: nan.. Val L1 norm: nan.. Train Linf norm: nan.. Val Linf norm: nan\n"
          ]
        },
        {
          "name": "stderr",
          "output_type": "stream",
          "text": [
            "WARNING:tensorboardX.x2num:NaN or Inf found in input tensor.\n",
            "WARNING:tensorboardX.x2num:NaN or Inf found in input tensor.\n",
            "WARNING:tensorboardX.x2num:NaN or Inf found in input tensor.\n",
            "WARNING:tensorboardX.x2num:NaN or Inf found in input tensor.\n",
            "WARNING:tensorboardX.x2num:NaN or Inf found in input tensor.\n",
            "WARNING:tensorboardX.x2num:NaN or Inf found in input tensor.\n"
          ]
        },
        {
          "name": "stdout",
          "output_type": "stream",
          "text": [
            "Epoch 96/98.. Train loss: nan.. Val loss: nan.. Train L1 norm: nan.. Val L1 norm: nan.. Train Linf norm: nan.. Val Linf norm: nan\n"
          ]
        },
        {
          "name": "stderr",
          "output_type": "stream",
          "text": [
            "WARNING:tensorboardX.x2num:NaN or Inf found in input tensor.\n",
            "WARNING:tensorboardX.x2num:NaN or Inf found in input tensor.\n",
            "WARNING:tensorboardX.x2num:NaN or Inf found in input tensor.\n",
            "WARNING:tensorboardX.x2num:NaN or Inf found in input tensor.\n",
            "WARNING:tensorboardX.x2num:NaN or Inf found in input tensor.\n",
            "WARNING:tensorboardX.x2num:NaN or Inf found in input tensor.\n"
          ]
        },
        {
          "name": "stdout",
          "output_type": "stream",
          "text": [
            "Epoch 97/98.. Train loss: nan.. Val loss: nan.. Train L1 norm: nan.. Val L1 norm: nan.. Train Linf norm: nan.. Val Linf norm: nan\n"
          ]
        },
        {
          "name": "stderr",
          "output_type": "stream",
          "text": [
            "WARNING:tensorboardX.x2num:NaN or Inf found in input tensor.\n",
            "WARNING:tensorboardX.x2num:NaN or Inf found in input tensor.\n",
            "WARNING:tensorboardX.x2num:NaN or Inf found in input tensor.\n",
            "WARNING:tensorboardX.x2num:NaN or Inf found in input tensor.\n",
            "WARNING:tensorboardX.x2num:NaN or Inf found in input tensor.\n",
            "WARNING:tensorboardX.x2num:NaN or Inf found in input tensor.\n",
            "\u001b[33m[W 2023-05-29 09:05:46,231]\u001b[0m Trial 2 failed with parameters: {'n_layers': 10, 'n_units_0': 892, 'n_units_1': 1205, 'n_units_2': 2321, 'n_units_3': 302, 'n_units_4': 478, 'n_units_5': 2439, 'n_units_6': 2207, 'n_units_7': 1696, 'n_units_8': 3879, 'n_units_9': 845, 'hidden_activation': 'ELU', 'output_activation': 'Linear', 'loss': 'MSE', 'optimizer': 'SGD', 'lr': 0.4242634930674817, 'batch_size': 32, 'n_epochs': 98, 'scheduler': 'ReduceLROnPlateau', 'dropout_rate': 0.312585136535103, 'weight_decay': 0.0010256880279015128, 'momentum': 0.7059024511066277, 'factor': 0.4155952080226233, 'patience': 10, 'threshold': 0.0033789209065867533} because of the following error: The value nan is not acceptable..\u001b[0m\n",
            "\u001b[33m[W 2023-05-29 09:05:46,232]\u001b[0m Trial 2 failed with value nan.\u001b[0m\n"
          ]
        },
        {
          "name": "stdout",
          "output_type": "stream",
          "text": [
            "Epoch 98/98.. Train loss: nan.. Val loss: nan.. Train L1 norm: nan.. Val L1 norm: nan.. Train Linf norm: nan.. Val Linf norm: nan\n",
            "Epoch 1/62.. Train loss: 2.203.. Val loss: 2.010.. Train L1 norm: 5.001.. Val L1 norm: 21.391.. Train Linf norm: 2667.077.. Val Linf norm: 18998.908\n",
            "Epoch 2/62.. Train loss: 2.057.. Val loss: 1.987.. Train L1 norm: 6.261.. Val L1 norm: 21.580.. Train Linf norm: 3441.872.. Val Linf norm: 19095.398\n",
            "Epoch 3/62.. Train loss: 1.996.. Val loss: 1.984.. Train L1 norm: 6.575.. Val L1 norm: 19.140.. Train Linf norm: 3681.938.. Val Linf norm: 16723.595\n",
            "Epoch 4/62.. Train loss: 1.971.. Val loss: 1.926.. Train L1 norm: 6.624.. Val L1 norm: 20.697.. Train Linf norm: 3650.664.. Val Linf norm: 18033.256\n",
            "Epoch 5/62.. Train loss: 1.946.. Val loss: 1.912.. Train L1 norm: 6.524.. Val L1 norm: 19.457.. Train Linf norm: 3581.565.. Val Linf norm: 16930.634\n",
            "Epoch 6/62.. Train loss: 1.923.. Val loss: 1.906.. Train L1 norm: 6.460.. Val L1 norm: 21.178.. Train Linf norm: 3525.447.. Val Linf norm: 18550.011\n",
            "Epoch 7/62.. Train loss: 1.919.. Val loss: 1.953.. Train L1 norm: 6.360.. Val L1 norm: 21.529.. Train Linf norm: 3449.634.. Val Linf norm: 18891.380\n",
            "Epoch 8/62.. Train loss: 1.906.. Val loss: 1.867.. Train L1 norm: 6.573.. Val L1 norm: 20.071.. Train Linf norm: 3621.953.. Val Linf norm: 17459.026\n",
            "Epoch 9/62.. Train loss: 1.874.. Val loss: 1.844.. Train L1 norm: 6.469.. Val L1 norm: 19.895.. Train Linf norm: 3579.465.. Val Linf norm: 17431.584\n",
            "Epoch 10/62.. Train loss: 1.837.. Val loss: 1.780.. Train L1 norm: 6.372.. Val L1 norm: 17.177.. Train Linf norm: 3460.363.. Val Linf norm: 14434.383\n",
            "Epoch 11/62.. Train loss: 1.749.. Val loss: 1.634.. Train L1 norm: 5.257.. Val L1 norm: 15.578.. Train Linf norm: 2562.673.. Val Linf norm: 12978.328\n",
            "Epoch 12/62.. Train loss: 1.643.. Val loss: 1.489.. Train L1 norm: 5.605.. Val L1 norm: 6.625.. Train Linf norm: 3145.626.. Val Linf norm: 4178.156\n",
            "Epoch 13/62.. Train loss: 1.566.. Val loss: 1.554.. Train L1 norm: 5.129.. Val L1 norm: 15.784.. Train Linf norm: 2776.530.. Val Linf norm: 13011.484\n",
            "Epoch 14/62.. Train loss: 1.518.. Val loss: 1.593.. Train L1 norm: 4.909.. Val L1 norm: 13.263.. Train Linf norm: 2641.540.. Val Linf norm: 10163.104\n",
            "Epoch 15/62.. Train loss: 1.492.. Val loss: 1.526.. Train L1 norm: 4.496.. Val L1 norm: 8.599.. Train Linf norm: 2291.477.. Val Linf norm: 5651.060\n",
            "Epoch 16/62.. Train loss: 1.460.. Val loss: 1.312.. Train L1 norm: 5.024.. Val L1 norm: 6.050.. Train Linf norm: 2859.965.. Val Linf norm: 4092.925\n",
            "Epoch 17/62.. Train loss: 1.437.. Val loss: 1.325.. Train L1 norm: 4.150.. Val L1 norm: 6.339.. Train Linf norm: 2036.860.. Val Linf norm: 4204.775\n",
            "Epoch 18/62.. Train loss: 1.417.. Val loss: 1.337.. Train L1 norm: 4.052.. Val L1 norm: 9.418.. Train Linf norm: 1931.612.. Val Linf norm: 7132.082\n",
            "Epoch 19/62.. Train loss: 1.399.. Val loss: 1.263.. Train L1 norm: 3.936.. Val L1 norm: 9.827.. Train Linf norm: 1772.362.. Val Linf norm: 8021.248\n",
            "Epoch 20/62.. Train loss: 1.379.. Val loss: 1.317.. Train L1 norm: 4.514.. Val L1 norm: 6.100.. Train Linf norm: 2481.937.. Val Linf norm: 3849.720\n",
            "Epoch 21/62.. Train loss: 1.367.. Val loss: 1.327.. Train L1 norm: 4.186.. Val L1 norm: 4.616.. Train Linf norm: 2171.520.. Val Linf norm: 2172.994\n",
            "Epoch 22/62.. Train loss: 1.349.. Val loss: 1.358.. Train L1 norm: 3.699.. Val L1 norm: 6.818.. Train Linf norm: 1687.143.. Val Linf norm: 4325.735\n",
            "Epoch 23/62.. Train loss: 1.336.. Val loss: 1.258.. Train L1 norm: 3.791.. Val L1 norm: 6.085.. Train Linf norm: 1760.932.. Val Linf norm: 3959.012\n",
            "Epoch 24/62.. Train loss: 1.322.. Val loss: 1.204.. Train L1 norm: 3.996.. Val L1 norm: 9.212.. Train Linf norm: 2015.053.. Val Linf norm: 7527.802\n",
            "Epoch 25/62.. Train loss: 1.308.. Val loss: 1.297.. Train L1 norm: 4.003.. Val L1 norm: 5.863.. Train Linf norm: 2051.998.. Val Linf norm: 3492.827\n",
            "Epoch 26/62.. Train loss: 1.296.. Val loss: 1.155.. Train L1 norm: 3.906.. Val L1 norm: 7.424.. Train Linf norm: 1967.575.. Val Linf norm: 5669.618\n",
            "Epoch 27/62.. Train loss: 1.283.. Val loss: 1.251.. Train L1 norm: 3.731.. Val L1 norm: 5.562.. Train Linf norm: 1833.421.. Val Linf norm: 3364.503\n",
            "Epoch 28/62.. Train loss: 1.268.. Val loss: 1.151.. Train L1 norm: 4.030.. Val L1 norm: 7.048.. Train Linf norm: 2151.845.. Val Linf norm: 5319.718\n",
            "Epoch 29/62.. Train loss: 1.257.. Val loss: 1.137.. Train L1 norm: 3.727.. Val L1 norm: 4.167.. Train Linf norm: 1860.773.. Val Linf norm: 2576.502\n",
            "Epoch 30/62.. Train loss: 1.247.. Val loss: 1.132.. Train L1 norm: 3.774.. Val L1 norm: 6.003.. Train Linf norm: 1862.220.. Val Linf norm: 4288.039\n",
            "Epoch 31/62.. Train loss: 1.234.. Val loss: 1.126.. Train L1 norm: 4.333.. Val L1 norm: 4.056.. Train Linf norm: 2505.235.. Val Linf norm: 2219.599\n",
            "Epoch 32/62.. Train loss: 1.223.. Val loss: 1.149.. Train L1 norm: 4.013.. Val L1 norm: 4.229.. Train Linf norm: 2234.374.. Val Linf norm: 2211.998\n",
            "Epoch 33/62.. Train loss: 1.217.. Val loss: 1.112.. Train L1 norm: 3.308.. Val L1 norm: 3.941.. Train Linf norm: 1444.441.. Val Linf norm: 2145.484\n",
            "Epoch 34/62.. Train loss: 1.206.. Val loss: 1.129.. Train L1 norm: 4.325.. Val L1 norm: 5.369.. Train Linf norm: 2561.853.. Val Linf norm: 3553.841\n",
            "Epoch 35/62.. Train loss: 1.199.. Val loss: 1.151.. Train L1 norm: 3.717.. Val L1 norm: 4.869.. Train Linf norm: 1956.460.. Val Linf norm: 2923.099\n",
            "Epoch 36/62.. Train loss: 1.192.. Val loss: 1.133.. Train L1 norm: 3.793.. Val L1 norm: 4.209.. Train Linf norm: 2012.462.. Val Linf norm: 2395.014\n",
            "Epoch 37/62.. Train loss: 1.186.. Val loss: 1.070.. Train L1 norm: 3.379.. Val L1 norm: 3.700.. Train Linf norm: 1604.826.. Val Linf norm: 2112.015\n",
            "Epoch 38/62.. Train loss: 1.179.. Val loss: 1.075.. Train L1 norm: 4.185.. Val L1 norm: 5.373.. Train Linf norm: 2452.884.. Val Linf norm: 3764.955\n",
            "Epoch 39/62.. Train loss: 1.173.. Val loss: 1.130.. Train L1 norm: 3.869.. Val L1 norm: 7.297.. Train Linf norm: 2162.512.. Val Linf norm: 5385.311\n",
            "Epoch 40/62.. Train loss: 1.166.. Val loss: 1.062.. Train L1 norm: 3.655.. Val L1 norm: 3.843.. Train Linf norm: 1923.412.. Val Linf norm: 2245.663\n",
            "Epoch 41/62.. Train loss: 1.161.. Val loss: 1.048.. Train L1 norm: 3.905.. Val L1 norm: 4.940.. Train Linf norm: 2184.761.. Val Linf norm: 3496.026\n",
            "Epoch 42/62.. Train loss: 1.156.. Val loss: 1.097.. Train L1 norm: 4.417.. Val L1 norm: 4.332.. Train Linf norm: 2740.018.. Val Linf norm: 2517.154\n",
            "Epoch 43/62.. Train loss: 1.149.. Val loss: 1.138.. Train L1 norm: 4.384.. Val L1 norm: 6.099.. Train Linf norm: 2679.312.. Val Linf norm: 4154.494\n",
            "Epoch 44/62.. Train loss: 1.145.. Val loss: 1.060.. Train L1 norm: 4.284.. Val L1 norm: 5.465.. Train Linf norm: 2551.724.. Val Linf norm: 3875.461\n",
            "Epoch 45/62.. Train loss: 1.140.. Val loss: 1.074.. Train L1 norm: 3.590.. Val L1 norm: 7.283.. Train Linf norm: 1905.183.. Val Linf norm: 5549.483\n",
            "Epoch 46/62.. Train loss: 1.135.. Val loss: 1.084.. Train L1 norm: 3.733.. Val L1 norm: 5.672.. Train Linf norm: 2070.587.. Val Linf norm: 3909.163\n",
            "Epoch 47/62.. Train loss: 1.131.. Val loss: 1.033.. Train L1 norm: 3.739.. Val L1 norm: 4.877.. Train Linf norm: 2070.848.. Val Linf norm: 3368.380\n",
            "Epoch 48/62.. Train loss: 1.127.. Val loss: 1.057.. Train L1 norm: 3.686.. Val L1 norm: 4.454.. Train Linf norm: 2047.614.. Val Linf norm: 2732.148\n",
            "Epoch 49/62.. Train loss: 1.124.. Val loss: 1.030.. Train L1 norm: 4.330.. Val L1 norm: 3.427.. Train Linf norm: 2708.434.. Val Linf norm: 1894.232\n",
            "Epoch 50/62.. Train loss: 1.120.. Val loss: 1.066.. Train L1 norm: 3.276.. Val L1 norm: 5.305.. Train Linf norm: 1637.930.. Val Linf norm: 3620.975\n",
            "Epoch 51/62.. Train loss: 1.114.. Val loss: 1.051.. Train L1 norm: 4.041.. Val L1 norm: 5.348.. Train Linf norm: 2395.437.. Val Linf norm: 3726.275\n",
            "Epoch 52/62.. Train loss: 1.113.. Val loss: 1.029.. Train L1 norm: 4.012.. Val L1 norm: 4.230.. Train Linf norm: 2375.827.. Val Linf norm: 2621.332\n",
            "Epoch 53/62.. Train loss: 1.110.. Val loss: 1.075.. Train L1 norm: 3.962.. Val L1 norm: 3.747.. Train Linf norm: 2337.602.. Val Linf norm: 1951.589\n",
            "Epoch 54/62.. Train loss: 1.096.. Val loss: 1.048.. Train L1 norm: 3.586.. Val L1 norm: 5.015.. Train Linf norm: 1973.364.. Val Linf norm: 3309.869\n",
            "Epoch 55/62.. Train loss: 1.092.. Val loss: 1.044.. Train L1 norm: 3.431.. Val L1 norm: 4.726.. Train Linf norm: 1840.773.. Val Linf norm: 3030.503\n",
            "Epoch 56/62.. Train loss: 1.090.. Val loss: 1.034.. Train L1 norm: 3.934.. Val L1 norm: 4.754.. Train Linf norm: 2336.300.. Val Linf norm: 3151.252\n",
            "Epoch 57/62.. Train loss: 1.088.. Val loss: 1.058.. Train L1 norm: 3.306.. Val L1 norm: 4.841.. Train Linf norm: 1715.777.. Val Linf norm: 3150.816\n",
            "Epoch 58/62.. Train loss: 1.088.. Val loss: 1.041.. Train L1 norm: 3.549.. Val L1 norm: 5.175.. Train Linf norm: 1972.056.. Val Linf norm: 3493.102\n",
            "Epoch 59/62.. Train loss: 1.087.. Val loss: 1.025.. Train L1 norm: 3.438.. Val L1 norm: 4.614.. Train Linf norm: 1852.922.. Val Linf norm: 3019.896\n",
            "Epoch 60/62.. Train loss: 1.087.. Val loss: 1.039.. Train L1 norm: 3.848.. Val L1 norm: 5.109.. Train Linf norm: 2270.578.. Val Linf norm: 3481.788\n",
            "Epoch 61/62.. Train loss: 1.085.. Val loss: 1.040.. Train L1 norm: 3.956.. Val L1 norm: 5.650.. Train Linf norm: 2380.793.. Val Linf norm: 3998.543\n"
          ]
        },
        {
          "name": "stderr",
          "output_type": "stream",
          "text": [
            "\u001b[32m[I 2023-05-29 09:27:19,645]\u001b[0m Trial 3 finished with value: 4.638279157714844 and parameters: {'n_layers': 7, 'n_units_0': 2245, 'n_units_1': 2274, 'n_units_2': 2965, 'n_units_3': 3620, 'n_units_4': 1838, 'n_units_5': 1894, 'n_units_6': 3503, 'hidden_activation': 'Swish', 'output_activation': 'Linear', 'loss': 'Quantile', 'optimizer': 'SGD', 'lr': 0.0011007182974056484, 'batch_size': 1024, 'n_epochs': 62, 'scheduler': 'ReduceLROnPlateau', 'dropout_rate': 0.07084447654804243, 'weight_decay': 0.0003886022989058831, 'momentum': 0.7730236814928254, 'factor': 0.24430667856662983, 'patience': 5, 'threshold': 0.006404856663640559}. Best is trial 3 with value: 4.638279157714844.\u001b[0m\n"
          ]
        },
        {
          "name": "stdout",
          "output_type": "stream",
          "text": [
            "Epoch 62/62.. Train loss: 1.084.. Val loss: 1.041.. Train L1 norm: 3.988.. Val L1 norm: 4.638.. Train Linf norm: 2437.092.. Val Linf norm: 2984.749\n",
            "Epoch 1/86.. Train loss: 60.377.. Val loss: 29.632.. Train L1 norm: 33.677.. Val L1 norm: 20.714.. Train Linf norm: 16971.193.. Val Linf norm: 15650.180\n",
            "Epoch 2/86.. Train loss: 125.359.. Val loss: 30.709.. Train L1 norm: 51.909.. Val L1 norm: 50.459.. Train Linf norm: 29032.182.. Val Linf norm: 44044.666\n",
            "Epoch 3/86.. Train loss: 41.985.. Val loss: 17.184.. Train L1 norm: 46.081.. Val L1 norm: 22.394.. Train Linf norm: 38411.285.. Val Linf norm: 19255.645\n",
            "Epoch 4/86.. Train loss: 72.658.. Val loss: 13.517.. Train L1 norm: 324.183.. Val L1 norm: 6.027.. Train Linf norm: 320459.159.. Val Linf norm: 4137.579\n",
            "Epoch 5/86.. Train loss: 68.488.. Val loss: 5.322.. Train L1 norm: 21.271.. Val L1 norm: 9.508.. Train Linf norm: 9566.351.. Val Linf norm: 7806.023\n",
            "Epoch 6/86.. Train loss: 31.478.. Val loss: 13.108.. Train L1 norm: 13.800.. Val L1 norm: 12.149.. Train Linf norm: 10514.332.. Val Linf norm: 9602.609\n",
            "Epoch 7/86.. Train loss: 20.544.. Val loss: 6.469.. Train L1 norm: 6.487.. Val L1 norm: 6.086.. Train Linf norm: 3643.057.. Val Linf norm: 4482.033\n",
            "Epoch 8/86.. Train loss: 949.564.. Val loss: 1485.786.. Train L1 norm: 259.779.. Val L1 norm: 251.009.. Train Linf norm: 146576.768.. Val Linf norm: 174932.255\n",
            "Epoch 9/86.. Train loss: 5057.891.. Val loss: 4.677.. Train L1 norm: 488.007.. Val L1 norm: 11.132.. Train Linf norm: 433801.406.. Val Linf norm: 9441.838\n",
            "Epoch 10/86.. Train loss: 1105.313.. Val loss: 14.004.. Train L1 norm: 296.096.. Val L1 norm: 12.770.. Train Linf norm: 203869.334.. Val Linf norm: 10710.965\n",
            "Epoch 11/86.. Train loss: 2501.310.. Val loss: 112.967.. Train L1 norm: 657.469.. Val L1 norm: 31.230.. Train Linf norm: 467902.491.. Val Linf norm: 23275.789\n",
            "Epoch 12/86.. Train loss: 331.977.. Val loss: 4.460.. Train L1 norm: 71.544.. Val L1 norm: 5.836.. Train Linf norm: 53959.193.. Val Linf norm: 4551.272\n",
            "Epoch 13/86.. Train loss: 9.082.. Val loss: 4.327.. Train L1 norm: 5.237.. Val L1 norm: 6.380.. Train Linf norm: 3512.978.. Val Linf norm: 5075.868\n",
            "Epoch 14/86.. Train loss: 636.355.. Val loss: 4.299.. Train L1 norm: 143.822.. Val L1 norm: 6.957.. Train Linf norm: 106938.504.. Val Linf norm: 5615.213\n",
            "Epoch 15/86.. Train loss: 5.869.. Val loss: 4.277.. Train L1 norm: 3.629.. Val L1 norm: 7.505.. Train Linf norm: 1946.397.. Val Linf norm: 6122.163\n",
            "Epoch 16/86.. Train loss: 5.215.. Val loss: 4.242.. Train L1 norm: 3.916.. Val L1 norm: 8.037.. Train Linf norm: 2209.155.. Val Linf norm: 6616.802\n",
            "Epoch 17/86.. Train loss: 9.758.. Val loss: 4.221.. Train L1 norm: 10.306.. Val L1 norm: 8.567.. Train Linf norm: 5463.704.. Val Linf norm: 7105.945\n",
            "Epoch 18/86.. Train loss: 5.662.. Val loss: 4.194.. Train L1 norm: 3.495.. Val L1 norm: 9.068.. Train Linf norm: 1742.284.. Val Linf norm: 7569.391\n",
            "Epoch 19/86.. Train loss: 4.463.. Val loss: 4.171.. Train L1 norm: 3.365.. Val L1 norm: 9.564.. Train Linf norm: 1616.715.. Val Linf norm: 8027.777\n",
            "Epoch 20/86.. Train loss: 6.341.. Val loss: 4.151.. Train L1 norm: 3.999.. Val L1 norm: 10.037.. Train Linf norm: 2169.688.. Val Linf norm: 8463.234\n",
            "Epoch 21/86.. Train loss: 4.422.. Val loss: 4.130.. Train L1 norm: 3.695.. Val L1 norm: 10.499.. Train Linf norm: 1839.802.. Val Linf norm: 8888.832\n",
            "Epoch 22/86.. Train loss: 4.804.. Val loss: 4.112.. Train L1 norm: 3.825.. Val L1 norm: 10.950.. Train Linf norm: 1965.881.. Val Linf norm: 9304.737\n",
            "Epoch 23/86.. Train loss: 11.224.. Val loss: 4.117.. Train L1 norm: 5.351.. Val L1 norm: 11.401.. Train Linf norm: 3426.582.. Val Linf norm: 9715.903\n",
            "Epoch 24/86.. Train loss: 6.019.. Val loss: 4.090.. Train L1 norm: 4.410.. Val L1 norm: 11.821.. Train Linf norm: 2384.955.. Val Linf norm: 10104.538\n",
            "Epoch 25/86.. Train loss: 5.062.. Val loss: 4.070.. Train L1 norm: 4.240.. Val L1 norm: 12.241.. Train Linf norm: 2243.210.. Val Linf norm: 10491.953\n",
            "Epoch 26/86.. Train loss: 4.503.. Val loss: 4.054.. Train L1 norm: 4.244.. Val L1 norm: 12.647.. Train Linf norm: 2197.771.. Val Linf norm: 10865.829\n",
            "Epoch 27/86.. Train loss: 4.351.. Val loss: 4.039.. Train L1 norm: 4.334.. Val L1 norm: 13.039.. Train Linf norm: 2269.645.. Val Linf norm: 11225.538\n",
            "Epoch 28/86.. Train loss: 4.445.. Val loss: 4.025.. Train L1 norm: 4.377.. Val L1 norm: 13.421.. Train Linf norm: 2263.816.. Val Linf norm: 11577.059\n",
            "Epoch 29/86.. Train loss: 4.320.. Val loss: 4.012.. Train L1 norm: 4.586.. Val L1 norm: 13.781.. Train Linf norm: 2412.602.. Val Linf norm: 11908.141\n",
            "Epoch 30/86.. Train loss: 4.348.. Val loss: 4.000.. Train L1 norm: 4.621.. Val L1 norm: 14.142.. Train Linf norm: 2414.429.. Val Linf norm: 12239.127\n",
            "Epoch 31/86.. Train loss: 4.900.. Val loss: 3.989.. Train L1 norm: 4.725.. Val L1 norm: 14.491.. Train Linf norm: 2513.928.. Val Linf norm: 12559.153\n",
            "Epoch 32/86.. Train loss: 4.181.. Val loss: 3.978.. Train L1 norm: 4.819.. Val L1 norm: 14.817.. Train Linf norm: 2506.669.. Val Linf norm: 12858.277\n",
            "Epoch 33/86.. Train loss: 4.194.. Val loss: 3.969.. Train L1 norm: 4.840.. Val L1 norm: 15.144.. Train Linf norm: 2559.948.. Val Linf norm: 13158.946\n",
            "Epoch 34/86.. Train loss: 5.129.. Val loss: 3.959.. Train L1 norm: 5.111.. Val L1 norm: 15.460.. Train Linf norm: 2760.346.. Val Linf norm: 13450.316\n",
            "Epoch 35/86.. Train loss: 4.581.. Val loss: 3.952.. Train L1 norm: 5.456.. Val L1 norm: 15.768.. Train Linf norm: 3044.724.. Val Linf norm: 13728.749\n",
            "Epoch 36/86.. Train loss: 4.245.. Val loss: 3.942.. Train L1 norm: 5.121.. Val L1 norm: 16.061.. Train Linf norm: 2759.720.. Val Linf norm: 14000.639\n",
            "Epoch 37/86.. Train loss: 4.026.. Val loss: 3.933.. Train L1 norm: 5.135.. Val L1 norm: 16.349.. Train Linf norm: 2646.441.. Val Linf norm: 14265.041\n",
            "Epoch 38/86.. Train loss: 4.185.. Val loss: 3.927.. Train L1 norm: 5.260.. Val L1 norm: 16.634.. Train Linf norm: 2836.767.. Val Linf norm: 14521.336\n",
            "Epoch 39/86.. Train loss: 4.005.. Val loss: 3.919.. Train L1 norm: 5.285.. Val L1 norm: 16.902.. Train Linf norm: 2770.722.. Val Linf norm: 14768.962\n",
            "Epoch 40/86.. Train loss: 4.314.. Val loss: 3.914.. Train L1 norm: 5.472.. Val L1 norm: 17.166.. Train Linf norm: 2993.576.. Val Linf norm: 15007.754\n",
            "Epoch 41/86.. Train loss: 3.994.. Val loss: 3.908.. Train L1 norm: 5.457.. Val L1 norm: 17.419.. Train Linf norm: 2971.974.. Val Linf norm: 15239.672\n",
            "Epoch 42/86.. Train loss: 4.057.. Val loss: 3.900.. Train L1 norm: 5.552.. Val L1 norm: 17.661.. Train Linf norm: 3037.195.. Val Linf norm: 15464.381\n",
            "Epoch 43/86.. Train loss: 5.307.. Val loss: 3.898.. Train L1 norm: 5.770.. Val L1 norm: 17.905.. Train Linf norm: 3177.940.. Val Linf norm: 15681.370\n",
            "Epoch 44/86.. Train loss: 4.044.. Val loss: 3.891.. Train L1 norm: 5.636.. Val L1 norm: 18.131.. Train Linf norm: 3032.810.. Val Linf norm: 15889.228\n",
            "Epoch 45/86.. Train loss: 5.564.. Val loss: 3.886.. Train L1 norm: 6.627.. Val L1 norm: 18.352.. Train Linf norm: 3232.877.. Val Linf norm: 16093.300\n",
            "Epoch 46/86.. Train loss: 4.019.. Val loss: 3.883.. Train L1 norm: 5.814.. Val L1 norm: 18.567.. Train Linf norm: 3191.687.. Val Linf norm: 16287.180\n",
            "Epoch 47/86.. Train loss: 3.967.. Val loss: 3.876.. Train L1 norm: 5.860.. Val L1 norm: 18.774.. Train Linf norm: 3200.652.. Val Linf norm: 16479.147\n",
            "Epoch 48/86.. Train loss: 4.074.. Val loss: 3.871.. Train L1 norm: 6.008.. Val L1 norm: 18.963.. Train Linf norm: 3293.031.. Val Linf norm: 16653.348\n",
            "Epoch 49/86.. Train loss: 3.941.. Val loss: 3.860.. Train L1 norm: 5.979.. Val L1 norm: 19.137.. Train Linf norm: 3305.993.. Val Linf norm: 16832.239\n",
            "Epoch 50/86.. Train loss: 5.502.. Val loss: 3.864.. Train L1 norm: 6.254.. Val L1 norm: 19.357.. Train Linf norm: 3533.931.. Val Linf norm: 17013.561\n",
            "Epoch 51/86.. Train loss: 3.905.. Val loss: 3.856.. Train L1 norm: 6.032.. Val L1 norm: 19.531.. Train Linf norm: 3298.847.. Val Linf norm: 17182.301\n",
            "Epoch 52/86.. Train loss: 3.896.. Val loss: 3.850.. Train L1 norm: 6.136.. Val L1 norm: 19.696.. Train Linf norm: 3307.451.. Val Linf norm: 17342.057\n",
            "Epoch 53/86.. Train loss: 3.934.. Val loss: 3.848.. Train L1 norm: 6.119.. Val L1 norm: 19.888.. Train Linf norm: 3381.484.. Val Linf norm: 17509.663\n",
            "Epoch 54/86.. Train loss: 3.919.. Val loss: 3.840.. Train L1 norm: 6.177.. Val L1 norm: 20.042.. Train Linf norm: 3394.228.. Val Linf norm: 17663.959\n",
            "Epoch 55/86.. Train loss: 3.881.. Val loss: 3.840.. Train L1 norm: 6.189.. Val L1 norm: 20.224.. Train Linf norm: 3385.898.. Val Linf norm: 17822.990\n",
            "Epoch 56/86.. Train loss: 4.476.. Val loss: 3.830.. Train L1 norm: 6.391.. Val L1 norm: 20.324.. Train Linf norm: 3584.251.. Val Linf norm: 17952.747\n",
            "Epoch 57/86.. Train loss: 3.877.. Val loss: 3.839.. Train L1 norm: 6.302.. Val L1 norm: 20.556.. Train Linf norm: 3460.069.. Val Linf norm: 18116.788\n",
            "Epoch 58/86.. Train loss: 3.870.. Val loss: 3.837.. Train L1 norm: 6.297.. Val L1 norm: 20.711.. Train Linf norm: 3438.047.. Val Linf norm: 18257.892\n",
            "Epoch 59/86.. Train loss: 3.869.. Val loss: 3.827.. Train L1 norm: 6.460.. Val L1 norm: 20.824.. Train Linf norm: 3553.264.. Val Linf norm: 18380.495\n",
            "Epoch 60/86.. Train loss: 3.891.. Val loss: 3.829.. Train L1 norm: 6.414.. Val L1 norm: 20.993.. Train Linf norm: 3529.286.. Val Linf norm: 18520.163\n",
            "Epoch 61/86.. Train loss: 3.875.. Val loss: 3.826.. Train L1 norm: 6.449.. Val L1 norm: 21.135.. Train Linf norm: 3589.083.. Val Linf norm: 18647.893\n",
            "Epoch 62/86.. Train loss: 3.860.. Val loss: 3.820.. Train L1 norm: 6.519.. Val L1 norm: 21.255.. Train Linf norm: 3588.222.. Val Linf norm: 18769.013\n",
            "Epoch 63/86.. Train loss: 4.357.. Val loss: 3.816.. Train L1 norm: 6.641.. Val L1 norm: 21.370.. Train Linf norm: 3742.022.. Val Linf norm: 18883.286\n",
            "Epoch 64/86.. Train loss: 3.857.. Val loss: 3.811.. Train L1 norm: 6.562.. Val L1 norm: 21.483.. Train Linf norm: 3640.209.. Val Linf norm: 18996.778\n",
            "Epoch 65/86.. Train loss: 3.860.. Val loss: 3.809.. Train L1 norm: 6.582.. Val L1 norm: 21.605.. Train Linf norm: 3643.129.. Val Linf norm: 19111.441\n",
            "Epoch 66/86.. Train loss: 3.939.. Val loss: 3.809.. Train L1 norm: 6.620.. Val L1 norm: 21.734.. Train Linf norm: 3661.953.. Val Linf norm: 19226.063\n",
            "Epoch 67/86.. Train loss: 13.490.. Val loss: 3.808.. Train L1 norm: 8.427.. Val L1 norm: 21.863.. Train Linf norm: 5221.008.. Val Linf norm: 19338.051\n",
            "Epoch 68/86.. Train loss: 4.201.. Val loss: 3.813.. Train L1 norm: 6.736.. Val L1 norm: 22.003.. Train Linf norm: 3724.710.. Val Linf norm: 19449.864\n",
            "Epoch 69/86.. Train loss: 3.921.. Val loss: 3.809.. Train L1 norm: 6.732.. Val L1 norm: 22.114.. Train Linf norm: 3735.880.. Val Linf norm: 19551.970\n",
            "Epoch 70/86.. Train loss: 3.845.. Val loss: 3.802.. Train L1 norm: 6.786.. Val L1 norm: 22.192.. Train Linf norm: 3805.242.. Val Linf norm: 19641.898\n",
            "Epoch 71/86.. Train loss: 3.876.. Val loss: 3.803.. Train L1 norm: 6.822.. Val L1 norm: 22.302.. Train Linf norm: 3777.708.. Val Linf norm: 19733.815\n",
            "Epoch 72/86.. Train loss: 3.853.. Val loss: 3.802.. Train L1 norm: 6.825.. Val L1 norm: 22.408.. Train Linf norm: 3797.725.. Val Linf norm: 19828.712\n",
            "Epoch 73/86.. Train loss: 3.865.. Val loss: 3.800.. Train L1 norm: 6.801.. Val L1 norm: 22.505.. Train Linf norm: 3789.234.. Val Linf norm: 19915.804\n",
            "Epoch 74/86.. Train loss: 3.839.. Val loss: 3.795.. Train L1 norm: 6.808.. Val L1 norm: 22.542.. Train Linf norm: 3794.099.. Val Linf norm: 19983.664\n",
            "Epoch 75/86.. Train loss: 3.855.. Val loss: 3.795.. Train L1 norm: 6.851.. Val L1 norm: 22.667.. Train Linf norm: 3795.401.. Val Linf norm: 20079.580\n",
            "Epoch 76/86.. Train loss: 3.832.. Val loss: 3.798.. Train L1 norm: 6.865.. Val L1 norm: 22.780.. Train Linf norm: 3800.149.. Val Linf norm: 20169.077\n",
            "Epoch 77/86.. Train loss: 3.890.. Val loss: 3.792.. Train L1 norm: 6.927.. Val L1 norm: 22.847.. Train Linf norm: 3863.686.. Val Linf norm: 20244.421\n",
            "Epoch 78/86.. Train loss: 3.855.. Val loss: 3.799.. Train L1 norm: 6.933.. Val L1 norm: 22.955.. Train Linf norm: 3877.227.. Val Linf norm: 20324.043\n",
            "Epoch 79/86.. Train loss: 3.855.. Val loss: 3.794.. Train L1 norm: 7.059.. Val L1 norm: 23.010.. Train Linf norm: 3900.109.. Val Linf norm: 20382.761\n",
            "Epoch 80/86.. Train loss: 3.854.. Val loss: 3.796.. Train L1 norm: 6.955.. Val L1 norm: 23.108.. Train Linf norm: 3850.198.. Val Linf norm: 20460.741\n",
            "Epoch 81/86.. Train loss: 3.858.. Val loss: 3.790.. Train L1 norm: 7.024.. Val L1 norm: 23.134.. Train Linf norm: 3940.558.. Val Linf norm: 20513.796\n",
            "Epoch 82/86.. Train loss: 4.615.. Val loss: 3.794.. Train L1 norm: 7.666.. Val L1 norm: 23.232.. Train Linf norm: 4462.955.. Val Linf norm: 20583.387\n",
            "Epoch 83/86.. Train loss: 3.855.. Val loss: 3.792.. Train L1 norm: 7.087.. Val L1 norm: 23.307.. Train Linf norm: 4013.183.. Val Linf norm: 20651.524\n",
            "Epoch 84/86.. Train loss: 3.838.. Val loss: 3.786.. Train L1 norm: 7.066.. Val L1 norm: 23.340.. Train Linf norm: 3961.393.. Val Linf norm: 20703.811\n",
            "Epoch 85/86.. Train loss: 3.926.. Val loss: 3.792.. Train L1 norm: 7.129.. Val L1 norm: 23.466.. Train Linf norm: 4039.029.. Val Linf norm: 20786.063\n"
          ]
        },
        {
          "name": "stderr",
          "output_type": "stream",
          "text": [
            "\u001b[32m[I 2023-05-29 09:41:25,903]\u001b[0m Trial 4 finished with value: 23.463152449620566 and parameters: {'n_layers': 2, 'n_units_0': 4067, 'n_units_1': 1112, 'hidden_activation': 'Swish', 'output_activation': 'Linear', 'loss': 'Huber', 'optimizer': 'SGD', 'lr': 0.00016154014597074268, 'batch_size': 1024, 'n_epochs': 86, 'scheduler': 'ReduceLROnPlateau', 'dropout_rate': 0.40461093537296544, 'weight_decay': 0.0016402872942422675, 'momentum': 0.5121322860041144, 'factor': 0.33754464675227636, 'patience': 7, 'threshold': 0.0018490372783620873}. Best is trial 3 with value: 4.638279157714844.\u001b[0m\n"
          ]
        },
        {
          "name": "stdout",
          "output_type": "stream",
          "text": [
            "Epoch 86/86.. Train loss: 3.828.. Val loss: 3.787.. Train L1 norm: 7.094.. Val L1 norm: 23.463.. Train Linf norm: 3633.486.. Val Linf norm: 20798.180\n"
          ]
        },
        {
          "name": "stderr",
          "output_type": "stream",
          "text": [
            "<ipython-input-77-ddc3c9d46736>:161: FutureWarning: suggest_uniform has been deprecated in v3.0.0. This feature will be removed in v6.0.0. See https://github.com/optuna/optuna/releases/tag/v3.0.0. Use :func:`~optuna.trial.Trial.suggest_float` instead.\n",
            "  gamma = trial.suggest_uniform(\"gamma\", 0.1, 0.5)\n"
          ]
        },
        {
          "name": "stdout",
          "output_type": "stream",
          "text": [
            "Epoch 1/53.. Train loss: 2.675.. Val loss: 2.440.. Train L1 norm: 3.057.. Val L1 norm: 5.095.. Train Linf norm: 410.715.. Val Linf norm: 1010.528\n",
            "Epoch 2/53.. Train loss: 2.608.. Val loss: 2.390.. Train L1 norm: 3.804.. Val L1 norm: 9.639.. Train Linf norm: 600.955.. Val Linf norm: 2108.573\n",
            "Epoch 3/53.. Train loss: 2.636.. Val loss: 2.375.. Train L1 norm: 2.997.. Val L1 norm: 7.936.. Train Linf norm: 359.213.. Val Linf norm: 1698.981\n",
            "Epoch 4/53.. Train loss: 2.625.. Val loss: 2.359.. Train L1 norm: 3.519.. Val L1 norm: 11.379.. Train Linf norm: 520.703.. Val Linf norm: 2524.280\n",
            "Epoch 5/53.. Train loss: 2.677.. Val loss: 2.328.. Train L1 norm: 3.151.. Val L1 norm: 9.702.. Train Linf norm: 399.963.. Val Linf norm: 2120.782\n",
            "Epoch 6/53.. Train loss: 2.512.. Val loss: 2.374.. Train L1 norm: 3.809.. Val L1 norm: 13.792.. Train Linf norm: 540.304.. Val Linf norm: 3087.786\n",
            "Epoch 7/53.. Train loss: 2.717.. Val loss: 2.318.. Train L1 norm: 3.832.. Val L1 norm: 10.592.. Train Linf norm: 570.276.. Val Linf norm: 2327.497\n",
            "Epoch 8/53.. Train loss: 2.465.. Val loss: 2.334.. Train L1 norm: 4.037.. Val L1 norm: 11.666.. Train Linf norm: 606.958.. Val Linf norm: 2580.890\n",
            "Epoch 9/53.. Train loss: 2.553.. Val loss: 2.341.. Train L1 norm: 4.485.. Val L1 norm: 11.126.. Train Linf norm: 716.101.. Val Linf norm: 2448.721\n",
            "Epoch 10/53.. Train loss: 2.450.. Val loss: 2.316.. Train L1 norm: 3.912.. Val L1 norm: 11.863.. Train Linf norm: 580.113.. Val Linf norm: 2630.008\n",
            "Epoch 11/53.. Train loss: 2.412.. Val loss: 2.342.. Train L1 norm: 4.231.. Val L1 norm: 15.197.. Train Linf norm: 628.047.. Val Linf norm: 3423.434\n",
            "Epoch 12/53.. Train loss: 2.602.. Val loss: 2.314.. Train L1 norm: 3.900.. Val L1 norm: 13.383.. Train Linf norm: 562.229.. Val Linf norm: 2996.007\n",
            "Epoch 13/53.. Train loss: 2.342.. Val loss: 2.315.. Train L1 norm: 4.349.. Val L1 norm: 13.517.. Train Linf norm: 668.877.. Val Linf norm: 3027.151\n",
            "Epoch 14/53.. Train loss: 2.491.. Val loss: 2.310.. Train L1 norm: 4.055.. Val L1 norm: 12.640.. Train Linf norm: 612.543.. Val Linf norm: 2817.291\n",
            "Epoch 15/53.. Train loss: 2.441.. Val loss: 2.298.. Train L1 norm: 4.115.. Val L1 norm: 11.974.. Train Linf norm: 642.657.. Val Linf norm: 2657.612\n",
            "Epoch 16/53.. Train loss: 2.454.. Val loss: 2.287.. Train L1 norm: 3.953.. Val L1 norm: 10.929.. Train Linf norm: 606.063.. Val Linf norm: 2408.701\n",
            "Epoch 17/53.. Train loss: 2.393.. Val loss: 2.295.. Train L1 norm: 3.634.. Val L1 norm: 13.032.. Train Linf norm: 536.085.. Val Linf norm: 2907.937\n",
            "Epoch 18/53.. Train loss: 2.429.. Val loss: 2.314.. Train L1 norm: 4.423.. Val L1 norm: 14.118.. Train Linf norm: 728.559.. Val Linf norm: 3163.785\n",
            "Epoch 19/53.. Train loss: 2.392.. Val loss: 2.295.. Train L1 norm: 3.711.. Val L1 norm: 13.152.. Train Linf norm: 525.997.. Val Linf norm: 2934.474\n",
            "Epoch 20/53.. Train loss: 2.344.. Val loss: 2.312.. Train L1 norm: 4.055.. Val L1 norm: 14.350.. Train Linf norm: 603.919.. Val Linf norm: 3215.986\n",
            "Epoch 21/53.. Train loss: 2.444.. Val loss: 2.299.. Train L1 norm: 4.022.. Val L1 norm: 12.890.. Train Linf norm: 569.062.. Val Linf norm: 2868.923\n",
            "Epoch 22/53.. Train loss: 2.369.. Val loss: 2.288.. Train L1 norm: 3.585.. Val L1 norm: 12.526.. Train Linf norm: 495.354.. Val Linf norm: 2783.326\n",
            "Epoch 23/53.. Train loss: 2.411.. Val loss: 2.290.. Train L1 norm: 3.633.. Val L1 norm: 13.593.. Train Linf norm: 522.432.. Val Linf norm: 3035.949\n",
            "Epoch 24/53.. Train loss: 2.372.. Val loss: 2.292.. Train L1 norm: 4.215.. Val L1 norm: 14.312.. Train Linf norm: 623.820.. Val Linf norm: 3208.363\n",
            "Epoch 25/53.. Train loss: 2.335.. Val loss: 2.282.. Train L1 norm: 4.212.. Val L1 norm: 13.773.. Train Linf norm: 641.581.. Val Linf norm: 3080.578\n",
            "Epoch 26/53.. Train loss: 2.369.. Val loss: 2.285.. Train L1 norm: 3.822.. Val L1 norm: 13.690.. Train Linf norm: 545.746.. Val Linf norm: 3059.208\n",
            "Epoch 27/53.. Train loss: 2.419.. Val loss: 2.285.. Train L1 norm: 3.704.. Val L1 norm: 13.615.. Train Linf norm: 517.476.. Val Linf norm: 3040.889\n",
            "Epoch 28/53.. Train loss: 2.424.. Val loss: 2.284.. Train L1 norm: 3.989.. Val L1 norm: 13.391.. Train Linf norm: 589.326.. Val Linf norm: 2986.793\n",
            "Epoch 29/53.. Train loss: 2.318.. Val loss: 2.288.. Train L1 norm: 4.063.. Val L1 norm: 13.837.. Train Linf norm: 602.791.. Val Linf norm: 3092.891\n",
            "Epoch 30/53.. Train loss: 2.367.. Val loss: 2.296.. Train L1 norm: 4.513.. Val L1 norm: 14.702.. Train Linf norm: 717.245.. Val Linf norm: 3298.302\n",
            "Epoch 31/53.. Train loss: 2.409.. Val loss: 2.289.. Train L1 norm: 4.726.. Val L1 norm: 14.081.. Train Linf norm: 754.014.. Val Linf norm: 3150.576\n",
            "Epoch 32/53.. Train loss: 2.369.. Val loss: 2.281.. Train L1 norm: 4.357.. Val L1 norm: 13.563.. Train Linf norm: 674.365.. Val Linf norm: 3028.174\n",
            "Epoch 33/53.. Train loss: 2.361.. Val loss: 2.284.. Train L1 norm: 3.991.. Val L1 norm: 13.750.. Train Linf norm: 599.481.. Val Linf norm: 3071.788\n",
            "Epoch 34/53.. Train loss: 2.326.. Val loss: 2.293.. Train L1 norm: 4.866.. Val L1 norm: 14.355.. Train Linf norm: 777.565.. Val Linf norm: 3214.784\n",
            "Epoch 35/53.. Train loss: 2.438.. Val loss: 2.284.. Train L1 norm: 4.496.. Val L1 norm: 13.601.. Train Linf norm: 696.636.. Val Linf norm: 3036.325\n",
            "Epoch 36/53.. Train loss: 2.446.. Val loss: 2.282.. Train L1 norm: 4.219.. Val L1 norm: 13.220.. Train Linf norm: 650.558.. Val Linf norm: 2945.664\n",
            "Epoch 37/53.. Train loss: 2.421.. Val loss: 2.281.. Train L1 norm: 3.928.. Val L1 norm: 13.160.. Train Linf norm: 569.594.. Val Linf norm: 2931.480\n",
            "Epoch 38/53.. Train loss: 2.327.. Val loss: 2.284.. Train L1 norm: 3.821.. Val L1 norm: 13.356.. Train Linf norm: 545.704.. Val Linf norm: 2977.532\n",
            "Epoch 39/53.. Train loss: 2.339.. Val loss: 2.284.. Train L1 norm: 4.181.. Val L1 norm: 13.545.. Train Linf norm: 623.233.. Val Linf norm: 3022.611\n",
            "Epoch 40/53.. Train loss: 2.394.. Val loss: 2.283.. Train L1 norm: 4.167.. Val L1 norm: 13.443.. Train Linf norm: 620.125.. Val Linf norm: 2998.502\n",
            "Epoch 41/53.. Train loss: 2.383.. Val loss: 2.281.. Train L1 norm: 4.265.. Val L1 norm: 13.261.. Train Linf norm: 651.280.. Val Linf norm: 2955.437\n",
            "Epoch 42/53.. Train loss: 2.353.. Val loss: 2.279.. Train L1 norm: 3.825.. Val L1 norm: 13.141.. Train Linf norm: 554.377.. Val Linf norm: 2927.279\n",
            "Epoch 43/53.. Train loss: 2.346.. Val loss: 2.284.. Train L1 norm: 3.818.. Val L1 norm: 13.464.. Train Linf norm: 540.926.. Val Linf norm: 3003.346\n",
            "Epoch 44/53.. Train loss: 2.373.. Val loss: 2.280.. Train L1 norm: 3.903.. Val L1 norm: 13.205.. Train Linf norm: 561.599.. Val Linf norm: 2942.219\n",
            "Epoch 45/53.. Train loss: 2.360.. Val loss: 2.278.. Train L1 norm: 3.985.. Val L1 norm: 13.023.. Train Linf norm: 590.380.. Val Linf norm: 2898.842\n",
            "Epoch 46/53.. Train loss: 2.394.. Val loss: 2.279.. Train L1 norm: 3.884.. Val L1 norm: 13.066.. Train Linf norm: 567.904.. Val Linf norm: 2908.365\n",
            "Epoch 47/53.. Train loss: 2.366.. Val loss: 2.276.. Train L1 norm: 3.978.. Val L1 norm: 12.915.. Train Linf norm: 590.914.. Val Linf norm: 2872.933\n",
            "Epoch 48/53.. Train loss: 2.388.. Val loss: 2.277.. Train L1 norm: 3.813.. Val L1 norm: 12.894.. Train Linf norm: 549.822.. Val Linf norm: 2867.439\n",
            "Epoch 49/53.. Train loss: 2.377.. Val loss: 2.276.. Train L1 norm: 4.006.. Val L1 norm: 12.854.. Train Linf norm: 605.761.. Val Linf norm: 2857.876\n",
            "Epoch 50/53.. Train loss: 2.344.. Val loss: 2.277.. Train L1 norm: 3.984.. Val L1 norm: 13.014.. Train Linf norm: 597.833.. Val Linf norm: 2895.864\n",
            "Epoch 51/53.. Train loss: 2.331.. Val loss: 2.278.. Train L1 norm: 4.111.. Val L1 norm: 13.075.. Train Linf norm: 622.407.. Val Linf norm: 2910.176\n",
            "Epoch 52/53.. Train loss: 2.362.. Val loss: 2.278.. Train L1 norm: 3.934.. Val L1 norm: 13.081.. Train Linf norm: 578.467.. Val Linf norm: 2911.545\n"
          ]
        },
        {
          "name": "stderr",
          "output_type": "stream",
          "text": [
            "\u001b[32m[I 2023-05-29 09:54:43,976]\u001b[0m Trial 5 finished with value: 13.09861523534139 and parameters: {'n_layers': 5, 'n_units_0': 578, 'n_units_1': 1353, 'n_units_2': 3010, 'n_units_3': 1213, 'n_units_4': 1229, 'hidden_activation': 'GELU', 'output_activation': 'Linear', 'loss': 'Quantile', 'optimizer': 'SGD', 'lr': 1.0947776680630736e-05, 'batch_size': 256, 'n_epochs': 53, 'scheduler': 'StepLR', 'dropout_rate': 0.4915284030841347, 'weight_decay': 0.004733561758885841, 'momentum': 0.5277591800496486, 'step_size': 12, 'gamma': 0.39436775229652854}. Best is trial 3 with value: 4.638279157714844.\u001b[0m\n"
          ]
        },
        {
          "name": "stdout",
          "output_type": "stream",
          "text": [
            "Epoch 53/53.. Train loss: 2.333.. Val loss: 2.278.. Train L1 norm: 3.666.. Val L1 norm: 13.099.. Train Linf norm: 510.336.. Val Linf norm: 2915.617\n"
          ]
        },
        {
          "name": "stderr",
          "output_type": "stream",
          "text": [
            "<ipython-input-77-ddc3c9d46736>:63: FutureWarning: suggest_uniform has been deprecated in v3.0.0. This feature will be removed in v6.0.0. See https://github.com/optuna/optuna/releases/tag/v3.0.0. Use :func:`~optuna.trial.Trial.suggest_float` instead.\n",
            "  init = trial.suggest_uniform(\"prelu_init\", 0.1, 0.3)\n"
          ]
        },
        {
          "name": "stdout",
          "output_type": "stream",
          "text": [
            "Epoch 1/91.. Train loss: 1745349.820.. Val loss: 4.326.. Train L1 norm: 1003471.948.. Val L1 norm: 21.000.. Train Linf norm: 14557066.293.. Val Linf norm: 1223.976\n",
            "Epoch 2/91.. Train loss: 82243.588.. Val loss: 18.517.. Train L1 norm: 21298.728.. Val L1 norm: 80.088.. Train Linf norm: 252358.717.. Val Linf norm: 4649.141\n",
            "Epoch 3/91.. Train loss: 20070.890.. Val loss: 5.051.. Train L1 norm: 8470.935.. Val L1 norm: 31.378.. Train Linf norm: 214760.938.. Val Linf norm: 1848.616\n",
            "Epoch 4/91.. Train loss: 839.637.. Val loss: 5.318.. Train L1 norm: 528.824.. Val L1 norm: 11.541.. Train Linf norm: 20803.016.. Val Linf norm: 648.259\n",
            "Epoch 5/91.. Train loss: 24687.412.. Val loss: 37.316.. Train L1 norm: 22673.469.. Val L1 norm: 169.518.. Train Linf norm: 669085.510.. Val Linf norm: 10012.312\n",
            "Epoch 6/91.. Train loss: 17203.324.. Val loss: 519.533.. Train L1 norm: 3171.962.. Val L1 norm: 1962.273.. Train Linf norm: 144101.266.. Val Linf norm: 115175.194\n",
            "Epoch 7/91.. Train loss: 365419.141.. Val loss: 5.155.. Train L1 norm: 55496.110.. Val L1 norm: 23.864.. Train Linf norm: 3518501.505.. Val Linf norm: 1395.459\n",
            "Epoch 8/91.. Train loss: 166910.096.. Val loss: 15.986.. Train L1 norm: 39231.204.. Val L1 norm: 47.522.. Train Linf norm: 2212856.669.. Val Linf norm: 2821.947\n",
            "Epoch 9/91.. Train loss: 2677124.445.. Val loss: 4.845.. Train L1 norm: 811660.881.. Val L1 norm: 19.522.. Train Linf norm: 12987823.776.. Val Linf norm: 1132.890\n",
            "Epoch 10/91.. Train loss: 356748.662.. Val loss: 244.538.. Train L1 norm: 70923.734.. Val L1 norm: 907.393.. Train Linf norm: 4414802.440.. Val Linf norm: 53368.970\n",
            "Epoch 11/91.. Train loss: 41718649.349.. Val loss: 4.455.. Train L1 norm: 5672964.081.. Val L1 norm: 19.939.. Train Linf norm: 183317023.381.. Val Linf norm: 1165.872\n",
            "Epoch 12/91.. Train loss: 9938.139.. Val loss: 4.470.. Train L1 norm: 1067.221.. Val L1 norm: 24.631.. Train Linf norm: 66748.297.. Val Linf norm: 1444.207\n",
            "Epoch 13/91.. Train loss: 624303.696.. Val loss: 10.573.. Train L1 norm: 40224.420.. Val L1 norm: 132.669.. Train Linf norm: 2368848.927.. Val Linf norm: 8056.787\n",
            "Epoch 14/91.. Train loss: 22815229.794.. Val loss: 783.317.. Train L1 norm: 5566477.085.. Val L1 norm: 3535.491.. Train Linf norm: 356252232.201.. Val Linf norm: 208892.517\n",
            "Epoch 15/91.. Train loss: 2168324.537.. Val loss: 38.111.. Train L1 norm: 285077.828.. Val L1 norm: 46.377.. Train Linf norm: 17716877.294.. Val Linf norm: 2688.632\n",
            "Epoch 16/91.. Train loss: 2657304.227.. Val loss: 11325176.143.. Train L1 norm: 194973.542.. Val L1 norm: 2049546.744.. Train Linf norm: 12465949.836.. Val Linf norm: 131151026.196\n",
            "Epoch 17/91.. Train loss: 171823258.220.. Val loss: 53.424.. Train L1 norm: 27121008.559.. Val L1 norm: 145.481.. Train Linf norm: 1735520524.510.. Val Linf norm: 8389.193\n",
            "Epoch 18/91.. Train loss: 1383012.224.. Val loss: 37.357.. Train L1 norm: 144620.551.. Val L1 norm: 145.004.. Train Linf norm: 9248881.639.. Val Linf norm: 8501.656\n",
            "Epoch 19/91.. Train loss: 193085636.302.. Val loss: 108.778.. Train L1 norm: 10232803.437.. Val L1 norm: 76.148.. Train Linf norm: 652857152.838.. Val Linf norm: 4457.230\n",
            "Epoch 20/91.. Train loss: 2735493.222.. Val loss: 23974.393.. Train L1 norm: 824261.943.. Val L1 norm: 4434.757.. Train Linf norm: 52704453.753.. Val Linf norm: 283272.080\n",
            "Epoch 21/91.. Train loss: 38733092.685.. Val loss: 18.469.. Train L1 norm: 4155489.592.. Val L1 norm: 118.627.. Train Linf norm: 265942673.979.. Val Linf norm: 7058.792\n",
            "Epoch 22/91.. Train loss: 5353653.898.. Val loss: 4.585.. Train L1 norm: 519916.763.. Val L1 norm: 20.742.. Train Linf norm: 33274253.468.. Val Linf norm: 1216.990\n",
            "Epoch 23/91.. Train loss: 33391.488.. Val loss: 5.979.. Train L1 norm: 2471.985.. Val L1 norm: 8.413.. Train Linf norm: 157990.445.. Val Linf norm: 452.987\n",
            "Epoch 24/91.. Train loss: 6861747.097.. Val loss: 7.125.. Train L1 norm: 662455.098.. Val L1 norm: 30.325.. Train Linf norm: 42396827.809.. Val Linf norm: 1767.235\n",
            "Epoch 25/91.. Train loss: 8333020.409.. Val loss: 13.923.. Train L1 norm: 1114853.345.. Val L1 norm: 80.533.. Train Linf norm: 71350161.584.. Val Linf norm: 4754.885\n",
            "Epoch 26/91.. Train loss: 37098278.483.. Val loss: 35793.887.. Train L1 norm: 4887945.310.. Val L1 norm: 6470.238.. Train Linf norm: 312828048.462.. Val Linf norm: 414014.277\n",
            "Epoch 27/91.. Train loss: 37722713.814.. Val loss: 31437.397.. Train L1 norm: 3689323.472.. Val L1 norm: 5709.735.. Train Linf norm: 236115251.711.. Val Linf norm: 365238.694\n",
            "Epoch 28/91.. Train loss: 36833406.517.. Val loss: 35.709.. Train L1 norm: 4882319.180.. Val L1 norm: 38.788.. Train Linf norm: 312467765.104.. Val Linf norm: 2325.318\n",
            "Epoch 29/91.. Train loss: 76253023.361.. Val loss: 12.489.. Train L1 norm: 9896022.584.. Val L1 norm: 26.147.. Train Linf norm: 633344803.654.. Val Linf norm: 1539.730\n",
            "Epoch 30/91.. Train loss: 453894.482.. Val loss: 240.415.. Train L1 norm: 49848.269.. Val L1 norm: 96.340.. Train Linf norm: 3190027.545.. Val Linf norm: 5862.529\n",
            "Epoch 31/91.. Train loss: 9676561.852.. Val loss: 4171720.067.. Train L1 norm: 1276348.253.. Val L1 norm: 752904.429.. Train Linf norm: 81685206.090.. Val Linf norm: 48185714.948\n",
            "Epoch 32/91.. Train loss: 3068064.631.. Val loss: 4.636.. Train L1 norm: 515606.204.. Val L1 norm: 29.279.. Train Linf norm: 32998641.520.. Val Linf norm: 1735.107\n",
            "Epoch 33/91.. Train loss: 158118.067.. Val loss: 5.762.. Train L1 norm: 31187.778.. Val L1 norm: 17.436.. Train Linf norm: 1995869.510.. Val Linf norm: 1024.266\n",
            "Epoch 34/91.. Train loss: 1712847.564.. Val loss: 149.900.. Train L1 norm: 201658.739.. Val L1 norm: 62.753.. Train Linf norm: 12906010.897.. Val Linf norm: 3855.322\n",
            "Epoch 35/91.. Train loss: 22699938.785.. Val loss: 4.590.. Train L1 norm: 2849298.528.. Val L1 norm: 14.925.. Train Linf norm: 182354965.241.. Val Linf norm: 871.235\n",
            "Epoch 36/91.. Train loss: 7423591.777.. Val loss: 39.551.. Train L1 norm: 1694104.528.. Val L1 norm: 25.985.. Train Linf norm: 108422562.829.. Val Linf norm: 1563.127\n",
            "Epoch 37/91.. Train loss: 1749263.576.. Val loss: 4.237.. Train L1 norm: 414516.322.. Val L1 norm: 33.078.. Train Linf norm: 26528920.836.. Val Linf norm: 1972.942\n",
            "Epoch 38/91.. Train loss: 489405.703.. Val loss: 37.053.. Train L1 norm: 97459.214.. Val L1 norm: 23.555.. Train Linf norm: 6237266.713.. Val Linf norm: 1412.631\n",
            "Epoch 39/91.. Train loss: 2990913.650.. Val loss: 5.367.. Train L1 norm: 262346.693.. Val L1 norm: 32.807.. Train Linf norm: 16790065.135.. Val Linf norm: 1929.696\n",
            "Epoch 40/91.. Train loss: 352565.204.. Val loss: 9.098.. Train L1 norm: 82987.686.. Val L1 norm: 25.579.. Train Linf norm: 5311083.307.. Val Linf norm: 1496.085\n",
            "Epoch 41/91.. Train loss: 259974.124.. Val loss: 4.145.. Train L1 norm: 63037.460.. Val L1 norm: 7.188.. Train Linf norm: 4034284.685.. Val Linf norm: 367.859\n",
            "Epoch 42/91.. Train loss: 20318515.570.. Val loss: 158.912.. Train L1 norm: 2680209.782.. Val L1 norm: 43.978.. Train Linf norm: 171533314.290.. Val Linf norm: 2680.437\n",
            "Epoch 43/91.. Train loss: 1009141.005.. Val loss: 1967.005.. Train L1 norm: 130919.781.. Val L1 norm: 366.945.. Train Linf norm: 8378746.019.. Val Linf norm: 23368.623\n",
            "Epoch 44/91.. Train loss: 1331771.732.. Val loss: 3.836.. Train L1 norm: 91586.870.. Val L1 norm: 8.775.. Train Linf norm: 5861432.158.. Val Linf norm: 459.374\n",
            "Epoch 45/91.. Train loss: 488955.409.. Val loss: 162.518.. Train L1 norm: 90029.329.. Val L1 norm: 55.833.. Train Linf norm: 5761760.343.. Val Linf norm: 3395.625\n",
            "Epoch 46/91.. Train loss: 1043739.322.. Val loss: 6.690.. Train L1 norm: 147096.636.. Val L1 norm: 8.496.. Train Linf norm: 9414072.788.. Val Linf norm: 441.353\n",
            "Epoch 47/91.. Train loss: 138402.024.. Val loss: 14.314.. Train L1 norm: 18907.235.. Val L1 norm: 8.428.. Train Linf norm: 1209951.436.. Val Linf norm: 453.282\n",
            "Epoch 48/91.. Train loss: 529602.833.. Val loss: 7.315.. Train L1 norm: 75826.898.. Val L1 norm: 6.872.. Train Linf norm: 4852815.059.. Val Linf norm: 350.228\n",
            "Epoch 49/91.. Train loss: 28125698.155.. Val loss: 3.139.. Train L1 norm: 1266564.416.. Val L1 norm: 6.587.. Train Linf norm: 81060011.408.. Val Linf norm: 332.216\n",
            "Epoch 50/91.. Train loss: 34523.958.. Val loss: 5173.362.. Train L1 norm: 4220.299.. Val L1 norm: 939.432.. Train Linf norm: 269997.303.. Val Linf norm: 60013.772\n",
            "Epoch 51/91.. Train loss: 1930763.819.. Val loss: 2.883.. Train L1 norm: 233434.596.. Val L1 norm: 6.827.. Train Linf norm: 14939707.128.. Val Linf norm: 357.106\n",
            "Epoch 52/91.. Train loss: 5964576.092.. Val loss: 4.649.. Train L1 norm: 787311.040.. Val L1 norm: 8.735.. Train Linf norm: 50387801.923.. Val Linf norm: 482.514\n",
            "Epoch 53/91.. Train loss: 8196723.902.. Val loss: 10305.590.. Train L1 norm: 1076032.801.. Val L1 norm: 1878.608.. Train Linf norm: 68865999.309.. Val Linf norm: 120092.875\n",
            "Epoch 54/91.. Train loss: 20309465.262.. Val loss: 32.164.. Train L1 norm: 2626089.768.. Val L1 norm: 11.713.. Train Linf norm: 168069641.670.. Val Linf norm: 646.964\n",
            "Epoch 55/91.. Train loss: 142739198.933.. Val loss: 10088.581.. Train L1 norm: 18872201.896.. Val L1 norm: 1831.890.. Train Linf norm: 1207820823.223.. Val Linf norm: 117167.125\n",
            "Epoch 56/91.. Train loss: 543532.358.. Val loss: 242.095.. Train L1 norm: 65434.166.. Val L1 norm: 50.153.. Train Linf norm: 4187683.319.. Val Linf norm: 3117.769\n",
            "Epoch 57/91.. Train loss: 900898.552.. Val loss: 21.223.. Train L1 norm: 118239.539.. Val L1 norm: 9.660.. Train Linf norm: 7567233.203.. Val Linf norm: 540.119\n",
            "Epoch 58/91.. Train loss: 1486483.312.. Val loss: 6.728.. Train L1 norm: 281893.235.. Val L1 norm: 4.782.. Train Linf norm: 18041074.926.. Val Linf norm: 226.617\n",
            "Epoch 59/91.. Train loss: 371718.786.. Val loss: 47.509.. Train L1 norm: 58401.569.. Val L1 norm: 20.923.. Train Linf norm: 3737608.252.. Val Linf norm: 1230.799\n",
            "Epoch 60/91.. Train loss: 79780.847.. Val loss: 6.874.. Train L1 norm: 10522.158.. Val L1 norm: 15.393.. Train Linf norm: 673318.949.. Val Linf norm: 869.864\n",
            "Epoch 61/91.. Train loss: 24372.492.. Val loss: 3.705.. Train L1 norm: 2705.331.. Val L1 norm: 3.739.. Train Linf norm: 173047.682.. Val Linf norm: 163.664\n",
            "Epoch 62/91.. Train loss: 1258361.289.. Val loss: 2.436.. Train L1 norm: 159702.526.. Val L1 norm: 4.912.. Train Linf norm: 10220877.800.. Val Linf norm: 239.875\n",
            "Epoch 63/91.. Train loss: 4602.671.. Val loss: 2.784.. Train L1 norm: 608.057.. Val L1 norm: 5.429.. Train Linf norm: 38832.721.. Val Linf norm: 271.652\n",
            "Epoch 64/91.. Train loss: 927746.185.. Val loss: 51.519.. Train L1 norm: 122361.970.. Val L1 norm: 13.699.. Train Linf norm: 7831086.264.. Val Linf norm: 809.718\n",
            "Epoch 65/91.. Train loss: 2396299.622.. Val loss: 26.294.. Train L1 norm: 315475.983.. Val L1 norm: 10.399.. Train Linf norm: 20190382.997.. Val Linf norm: 592.526\n",
            "Epoch 66/91.. Train loss: 400625.518.. Val loss: 9.091.. Train L1 norm: 89619.568.. Val L1 norm: 7.120.. Train Linf norm: 5735573.398.. Val Linf norm: 382.234\n",
            "Epoch 67/91.. Train loss: 7992.187.. Val loss: 49.519.. Train L1 norm: 1030.424.. Val L1 norm: 13.318.. Train Linf norm: 65867.993.. Val Linf norm: 782.138\n",
            "Epoch 68/91.. Train loss: 251994.757.. Val loss: 63.249.. Train L1 norm: 33237.011.. Val L1 norm: 14.872.. Train Linf norm: 2127089.775.. Val Linf norm: 885.228\n",
            "Epoch 69/91.. Train loss: 1259737.423.. Val loss: 130.634.. Train L1 norm: 130113.880.. Val L1 norm: 26.204.. Train Linf norm: 8327209.286.. Val Linf norm: 1609.642\n",
            "Epoch 70/91.. Train loss: 3419101.320.. Val loss: 30.989.. Train L1 norm: 452147.359.. Val L1 norm: 11.000.. Train Linf norm: 28937353.117.. Val Linf norm: 631.747\n",
            "Epoch 71/91.. Train loss: 27986.295.. Val loss: 3.252.. Train L1 norm: 5120.034.. Val L1 norm: 7.077.. Train Linf norm: 327604.011.. Val Linf norm: 379.047\n",
            "Epoch 72/91.. Train loss: 41322.450.. Val loss: 104.978.. Train L1 norm: 5493.690.. Val L1 norm: 23.406.. Train Linf norm: 351519.598.. Val Linf norm: 1428.964\n",
            "Epoch 73/91.. Train loss: 47416.914.. Val loss: 7.996.. Train L1 norm: 6252.108.. Val L1 norm: 6.447.. Train Linf norm: 400056.440.. Val Linf norm: 343.856\n",
            "Epoch 74/91.. Train loss: 76074.657.. Val loss: 29.633.. Train L1 norm: 13109.200.. Val L1 norm: 9.580.. Train Linf norm: 838912.862.. Val Linf norm: 547.692\n",
            "Epoch 75/91.. Train loss: 3919.242.. Val loss: 5.417.. Train L1 norm: 458.460.. Val L1 norm: 6.237.. Train Linf norm: 29265.693.. Val Linf norm: 329.874\n",
            "Epoch 76/91.. Train loss: 3474.587.. Val loss: 9.965.. Train L1 norm: 466.810.. Val L1 norm: 6.743.. Train Linf norm: 29799.510.. Val Linf norm: 362.884\n",
            "Epoch 77/91.. Train loss: 11820.457.. Val loss: 17.212.. Train L1 norm: 796.633.. Val L1 norm: 7.553.. Train Linf norm: 50908.392.. Val Linf norm: 418.426\n",
            "Epoch 78/91.. Train loss: 32614.376.. Val loss: 5.329.. Train L1 norm: 4297.911.. Val L1 norm: 5.269.. Train Linf norm: 274991.638.. Val Linf norm: 273.448\n",
            "Epoch 79/91.. Train loss: 37730.456.. Val loss: 13.304.. Train L1 norm: 5071.153.. Val L1 norm: 8.514.. Train Linf norm: 324478.337.. Val Linf norm: 477.551\n",
            "Epoch 80/91.. Train loss: 50255.347.. Val loss: 3.079.. Train L1 norm: 6621.990.. Val L1 norm: 5.837.. Train Linf norm: 423732.236.. Val Linf norm: 307.248\n",
            "Epoch 81/91.. Train loss: 17974.531.. Val loss: 3.242.. Train L1 norm: 2341.754.. Val L1 norm: 7.293.. Train Linf norm: 149793.558.. Val Linf norm: 395.439\n",
            "Epoch 82/91.. Train loss: 20049.882.. Val loss: 13.115.. Train L1 norm: 2640.059.. Val L1 norm: 8.963.. Train Linf norm: 168889.241.. Val Linf norm: 506.469\n",
            "Epoch 83/91.. Train loss: 5767.299.. Val loss: 11.686.. Train L1 norm: 763.782.. Val L1 norm: 7.894.. Train Linf norm: 48807.770.. Val Linf norm: 440.167\n",
            "Epoch 84/91.. Train loss: 41732.267.. Val loss: 10.978.. Train L1 norm: 4192.990.. Val L1 norm: 7.928.. Train Linf norm: 268277.375.. Val Linf norm: 441.516\n",
            "Epoch 85/91.. Train loss: 5318.321.. Val loss: 5.846.. Train L1 norm: 692.179.. Val L1 norm: 6.558.. Train Linf norm: 44225.183.. Val Linf norm: 355.287\n",
            "Epoch 86/91.. Train loss: 3708.433.. Val loss: 6.612.. Train L1 norm: 493.121.. Val L1 norm: 6.988.. Train Linf norm: 31485.268.. Val Linf norm: 380.607\n",
            "Epoch 87/91.. Train loss: 11602.433.. Val loss: 6.679.. Train L1 norm: 1468.799.. Val L1 norm: 6.241.. Train Linf norm: 93928.974.. Val Linf norm: 336.195\n",
            "Epoch 88/91.. Train loss: 6269.938.. Val loss: 5.151.. Train L1 norm: 830.667.. Val L1 norm: 6.474.. Train Linf norm: 53088.326.. Val Linf norm: 349.145\n",
            "Epoch 89/91.. Train loss: 34095.174.. Val loss: 29.233.. Train L1 norm: 5683.293.. Val L1 norm: 10.420.. Train Linf norm: 363657.094.. Val Linf norm: 602.665\n",
            "Epoch 90/91.. Train loss: 22273.902.. Val loss: 19.283.. Train L1 norm: 2924.778.. Val L1 norm: 8.940.. Train Linf norm: 187111.778.. Val Linf norm: 508.050\n"
          ]
        },
        {
          "name": "stderr",
          "output_type": "stream",
          "text": [
            "\u001b[32m[I 2023-05-29 11:30:30,578]\u001b[0m Trial 6 finished with value: 7.866284028879801 and parameters: {'n_layers': 8, 'n_units_0': 2833, 'n_units_1': 1537, 'n_units_2': 2166, 'n_units_3': 2541, 'n_units_4': 3114, 'n_units_5': 2348, 'n_units_6': 2421, 'n_units_7': 1412, 'hidden_activation': 'PReLU', 'output_activation': 'Linear', 'loss': 'MAE', 'optimizer': 'RMSprop', 'lr': 0.0010595697156998416, 'batch_size': 64, 'n_epochs': 91, 'scheduler': 'ReduceLROnPlateau', 'prelu_init': 0.22393281291975403, 'dropout_rate': 0.11859084337843656, 'factor': 0.37460489831882593, 'patience': 9, 'threshold': 0.0024997032369436342}. Best is trial 3 with value: 4.638279157714844.\u001b[0m\n"
          ]
        },
        {
          "name": "stdout",
          "output_type": "stream",
          "text": [
            "Epoch 91/91.. Train loss: 21987.902.. Val loss: 11.264.. Train L1 norm: 2886.120.. Val L1 norm: 7.866.. Train Linf norm: 184633.165.. Val Linf norm: 438.201\n"
          ]
        },
        {
          "name": "stderr",
          "output_type": "stream",
          "text": [
            "\u001b[32m[I 2023-05-29 11:31:25,666]\u001b[0m Trial 7 pruned. \u001b[0m\n"
          ]
        },
        {
          "name": "stdout",
          "output_type": "stream",
          "text": [
            "Epoch 1/133.. Train loss: 4.354.. Val loss: 2.759.. Train L1 norm: 8.027.. Val L1 norm: 24.966.. Train Linf norm: 184.555.. Val Linf norm: 739.135\n"
          ]
        },
        {
          "name": "stderr",
          "output_type": "stream",
          "text": [
            "<ipython-input-77-ddc3c9d46736>:168: FutureWarning: suggest_uniform has been deprecated in v3.0.0. This feature will be removed in v6.0.0. See https://github.com/optuna/optuna/releases/tag/v3.0.0. Use :func:`~optuna.trial.Trial.suggest_float` instead.\n",
            "  t_max_fraction = trial.suggest_uniform('t_max_fraction', 0.1, 0.3)\n",
            "<ipython-input-77-ddc3c9d46736>:175: FutureWarning: suggest_loguniform has been deprecated in v3.0.0. This feature will be removed in v6.0.0. See https://github.com/optuna/optuna/releases/tag/v3.0.0. Use :func:`~optuna.trial.Trial.suggest_float` instead.\n",
            "  eta_min = trial.suggest_loguniform(\"eta_min\", 1e-7, 1e-2)\n"
          ]
        },
        {
          "name": "stdout",
          "output_type": "stream",
          "text": [
            "Epoch 1/87.. Train loss: 3.356.. Val loss: 2.179.. Train L1 norm: 6.629.. Val L1 norm: 12.722.. Train Linf norm: 6000.613.. Val Linf norm: 20595.627\n",
            "Epoch 2/87.. Train loss: 2.833.. Val loss: 2.219.. Train L1 norm: 5.163.. Val L1 norm: 16.777.. Train Linf norm: 4591.795.. Val Linf norm: 27831.766\n",
            "Epoch 3/87.. Train loss: 2.987.. Val loss: 2.135.. Train L1 norm: 6.630.. Val L1 norm: 10.406.. Train Linf norm: 7106.430.. Val Linf norm: 14892.197\n",
            "Epoch 4/87.. Train loss: 2.818.. Val loss: 2.160.. Train L1 norm: 6.152.. Val L1 norm: 14.484.. Train Linf norm: 6128.105.. Val Linf norm: 22606.516\n",
            "Epoch 5/87.. Train loss: 2.806.. Val loss: 2.125.. Train L1 norm: 5.447.. Val L1 norm: 15.274.. Train Linf norm: 4837.989.. Val Linf norm: 25327.140\n",
            "Epoch 6/87.. Train loss: 2.714.. Val loss: 2.122.. Train L1 norm: 5.712.. Val L1 norm: 15.145.. Train Linf norm: 5519.343.. Val Linf norm: 24551.838\n",
            "Epoch 7/87.. Train loss: 2.682.. Val loss: 3.029.. Train L1 norm: 6.235.. Val L1 norm: 10.333.. Train Linf norm: 6541.599.. Val Linf norm: 16987.330\n",
            "Epoch 8/87.. Train loss: 2.670.. Val loss: 2.124.. Train L1 norm: 5.707.. Val L1 norm: 16.422.. Train Linf norm: 5235.438.. Val Linf norm: 27267.551\n",
            "Epoch 9/87.. Train loss: 2.614.. Val loss: 1.988.. Train L1 norm: 5.825.. Val L1 norm: 13.959.. Train Linf norm: 6032.139.. Val Linf norm: 22746.590\n",
            "Epoch 10/87.. Train loss: 2.537.. Val loss: 1.988.. Train L1 norm: 5.553.. Val L1 norm: 13.430.. Train Linf norm: 5635.840.. Val Linf norm: 21696.155\n",
            "Epoch 11/87.. Train loss: 2.494.. Val loss: 1.988.. Train L1 norm: 4.960.. Val L1 norm: 13.394.. Train Linf norm: 4423.172.. Val Linf norm: 21635.248\n",
            "Epoch 12/87.. Train loss: 2.478.. Val loss: 1.978.. Train L1 norm: 5.569.. Val L1 norm: 15.402.. Train Linf norm: 5448.206.. Val Linf norm: 25388.311\n",
            "Epoch 13/87.. Train loss: 2.607.. Val loss: 1.991.. Train L1 norm: 5.419.. Val L1 norm: 15.260.. Train Linf norm: 5038.105.. Val Linf norm: 25067.376\n",
            "Epoch 14/87.. Train loss: 2.380.. Val loss: 1.992.. Train L1 norm: 5.695.. Val L1 norm: 17.194.. Train Linf norm: 5393.377.. Val Linf norm: 28743.552\n",
            "Epoch 15/87.. Train loss: 2.333.. Val loss: 2.040.. Train L1 norm: 6.532.. Val L1 norm: 20.723.. Train Linf norm: 7274.840.. Val Linf norm: 36085.346\n",
            "Epoch 16/87.. Train loss: 2.312.. Val loss: 2.014.. Train L1 norm: 5.976.. Val L1 norm: 15.055.. Train Linf norm: 6073.168.. Val Linf norm: 24782.968\n",
            "Epoch 17/87.. Train loss: 2.519.. Val loss: 2.021.. Train L1 norm: 5.507.. Val L1 norm: 17.244.. Train Linf norm: 5022.619.. Val Linf norm: 29253.213\n",
            "Epoch 18/87.. Train loss: 2.824.. Val loss: 3.059.. Train L1 norm: 5.420.. Val L1 norm: 13.338.. Train Linf norm: 5258.606.. Val Linf norm: 22127.927\n",
            "Epoch 19/87.. Train loss: 2.637.. Val loss: 1.952.. Train L1 norm: 5.389.. Val L1 norm: 15.150.. Train Linf norm: 4787.747.. Val Linf norm: 25150.372\n",
            "Epoch 20/87.. Train loss: 3.340.. Val loss: 1.972.. Train L1 norm: 6.130.. Val L1 norm: 16.584.. Train Linf norm: 6361.141.. Val Linf norm: 27298.991\n",
            "Epoch 21/87.. Train loss: 2.690.. Val loss: 1.916.. Train L1 norm: 5.705.. Val L1 norm: 16.613.. Train Linf norm: 5300.554.. Val Linf norm: 28445.639\n",
            "Epoch 22/87.. Train loss: 2.766.. Val loss: 2.308.. Train L1 norm: 5.938.. Val L1 norm: 11.850.. Train Linf norm: 6101.993.. Val Linf norm: 19292.655\n",
            "Epoch 23/87.. Train loss: 2.789.. Val loss: 1.929.. Train L1 norm: 6.015.. Val L1 norm: 16.137.. Train Linf norm: 6178.812.. Val Linf norm: 27957.988\n",
            "Epoch 24/87.. Train loss: 2.548.. Val loss: 2.015.. Train L1 norm: 5.846.. Val L1 norm: 10.976.. Train Linf norm: 5800.199.. Val Linf norm: 17564.592\n",
            "Epoch 25/87.. Train loss: 2.486.. Val loss: 2.012.. Train L1 norm: 5.773.. Val L1 norm: 12.423.. Train Linf norm: 5869.495.. Val Linf norm: 20573.489\n",
            "Epoch 26/87.. Train loss: 2.588.. Val loss: 1.811.. Train L1 norm: 5.079.. Val L1 norm: 12.348.. Train Linf norm: 4603.072.. Val Linf norm: 19868.405\n",
            "Epoch 27/87.. Train loss: 2.579.. Val loss: 1.882.. Train L1 norm: 5.655.. Val L1 norm: 14.594.. Train Linf norm: 5813.277.. Val Linf norm: 24523.040\n",
            "Epoch 28/87.. Train loss: 2.284.. Val loss: 1.788.. Train L1 norm: 5.510.. Val L1 norm: 14.808.. Train Linf norm: 5656.298.. Val Linf norm: 25114.093\n",
            "Epoch 29/87.. Train loss: 2.443.. Val loss: 1.752.. Train L1 norm: 5.553.. Val L1 norm: 16.353.. Train Linf norm: 5395.607.. Val Linf norm: 28199.881\n",
            "Epoch 30/87.. Train loss: 2.288.. Val loss: 1.777.. Train L1 norm: 6.468.. Val L1 norm: 14.391.. Train Linf norm: 7517.685.. Val Linf norm: 24456.310\n",
            "Epoch 31/87.. Train loss: 2.374.. Val loss: 1.772.. Train L1 norm: 4.980.. Val L1 norm: 14.553.. Train Linf norm: 4544.629.. Val Linf norm: 24740.068\n",
            "Epoch 32/87.. Train loss: 2.662.. Val loss: 1.765.. Train L1 norm: 5.483.. Val L1 norm: 14.513.. Train Linf norm: 5606.696.. Val Linf norm: 24545.346\n",
            "Epoch 33/87.. Train loss: 2.671.. Val loss: 1.803.. Train L1 norm: 6.405.. Val L1 norm: 13.193.. Train Linf norm: 7495.440.. Val Linf norm: 21811.129\n",
            "Epoch 34/87.. Train loss: 2.482.. Val loss: 1.867.. Train L1 norm: 6.218.. Val L1 norm: 14.307.. Train Linf norm: 7022.844.. Val Linf norm: 24085.700\n",
            "Epoch 35/87.. Train loss: 2.579.. Val loss: 1.795.. Train L1 norm: 6.334.. Val L1 norm: 15.594.. Train Linf norm: 7211.617.. Val Linf norm: 26576.374\n",
            "Epoch 36/87.. Train loss: 2.422.. Val loss: 2.475.. Train L1 norm: 6.829.. Val L1 norm: 5.487.. Train Linf norm: 8302.495.. Val Linf norm: 7522.791\n",
            "Epoch 37/87.. Train loss: 2.387.. Val loss: 1.858.. Train L1 norm: 5.757.. Val L1 norm: 12.990.. Train Linf norm: 5778.094.. Val Linf norm: 21415.254\n",
            "Epoch 38/87.. Train loss: 2.334.. Val loss: 1.805.. Train L1 norm: 5.452.. Val L1 norm: 13.547.. Train Linf norm: 5511.399.. Val Linf norm: 22551.093\n",
            "Epoch 39/87.. Train loss: 2.442.. Val loss: 1.878.. Train L1 norm: 5.134.. Val L1 norm: 5.368.. Train Linf norm: 4697.347.. Val Linf norm: 6116.452\n",
            "Epoch 40/87.. Train loss: 2.734.. Val loss: 1.982.. Train L1 norm: 6.693.. Val L1 norm: 13.852.. Train Linf norm: 7778.974.. Val Linf norm: 23563.169\n",
            "Epoch 41/87.. Train loss: 2.725.. Val loss: 1.777.. Train L1 norm: 5.018.. Val L1 norm: 9.739.. Train Linf norm: 4271.849.. Val Linf norm: 14301.327\n",
            "Epoch 42/87.. Train loss: 2.562.. Val loss: 1.883.. Train L1 norm: 5.178.. Val L1 norm: 7.169.. Train Linf norm: 4473.263.. Val Linf norm: 9820.077\n",
            "Epoch 43/87.. Train loss: 2.986.. Val loss: 1.851.. Train L1 norm: 5.509.. Val L1 norm: 11.943.. Train Linf norm: 5561.503.. Val Linf norm: 19334.960\n",
            "Epoch 44/87.. Train loss: 2.405.. Val loss: 1.764.. Train L1 norm: 5.637.. Val L1 norm: 14.230.. Train Linf norm: 5688.540.. Val Linf norm: 24113.245\n",
            "Epoch 45/87.. Train loss: 2.546.. Val loss: 1.864.. Train L1 norm: 5.390.. Val L1 norm: 11.246.. Train Linf norm: 5109.750.. Val Linf norm: 17889.603\n",
            "Epoch 46/87.. Train loss: 2.482.. Val loss: 2.130.. Train L1 norm: 5.498.. Val L1 norm: 9.949.. Train Linf norm: 5589.569.. Val Linf norm: 15734.151\n",
            "Epoch 47/87.. Train loss: 2.922.. Val loss: 1.699.. Train L1 norm: 5.565.. Val L1 norm: 11.772.. Train Linf norm: 5482.186.. Val Linf norm: 18967.022\n",
            "Epoch 48/87.. Train loss: 2.237.. Val loss: 1.820.. Train L1 norm: 5.035.. Val L1 norm: 7.089.. Train Linf norm: 4738.455.. Val Linf norm: 10552.370\n",
            "Epoch 49/87.. Train loss: 2.263.. Val loss: 1.791.. Train L1 norm: 4.691.. Val L1 norm: 8.644.. Train Linf norm: 4296.899.. Val Linf norm: 13482.692\n",
            "Epoch 50/87.. Train loss: 2.301.. Val loss: 1.715.. Train L1 norm: 4.758.. Val L1 norm: 10.704.. Train Linf norm: 4462.826.. Val Linf norm: 17288.680\n",
            "Epoch 51/87.. Train loss: 2.045.. Val loss: 1.715.. Train L1 norm: 5.468.. Val L1 norm: 10.657.. Train Linf norm: 5615.101.. Val Linf norm: 17199.582\n",
            "Epoch 52/87.. Train loss: 2.583.. Val loss: 1.683.. Train L1 norm: 5.928.. Val L1 norm: 12.006.. Train Linf norm: 6551.210.. Val Linf norm: 19746.385\n",
            "Epoch 53/87.. Train loss: 2.275.. Val loss: 1.670.. Train L1 norm: 5.624.. Val L1 norm: 11.663.. Train Linf norm: 5995.030.. Val Linf norm: 19124.144\n",
            "Epoch 54/87.. Train loss: 2.296.. Val loss: 1.759.. Train L1 norm: 5.976.. Val L1 norm: 11.785.. Train Linf norm: 6517.313.. Val Linf norm: 19437.147\n",
            "Epoch 55/87.. Train loss: 2.275.. Val loss: 1.747.. Train L1 norm: 5.542.. Val L1 norm: 11.019.. Train Linf norm: 5754.400.. Val Linf norm: 17540.592\n",
            "Epoch 56/87.. Train loss: 2.228.. Val loss: 1.773.. Train L1 norm: 5.048.. Val L1 norm: 10.957.. Train Linf norm: 4692.270.. Val Linf norm: 17691.309\n",
            "Epoch 57/87.. Train loss: 2.207.. Val loss: 1.756.. Train L1 norm: 5.535.. Val L1 norm: 11.079.. Train Linf norm: 5667.975.. Val Linf norm: 18484.939\n",
            "Epoch 58/87.. Train loss: 2.259.. Val loss: 2.595.. Train L1 norm: 5.611.. Val L1 norm: 7.081.. Train Linf norm: 6127.242.. Val Linf norm: 10830.780\n",
            "Epoch 59/87.. Train loss: 2.612.. Val loss: 1.849.. Train L1 norm: 5.025.. Val L1 norm: 9.389.. Train Linf norm: 4662.831.. Val Linf norm: 14662.044\n",
            "Epoch 60/87.. Train loss: 2.392.. Val loss: 1.684.. Train L1 norm: 5.631.. Val L1 norm: 11.537.. Train Linf norm: 5986.960.. Val Linf norm: 18776.379\n",
            "Epoch 61/87.. Train loss: 2.320.. Val loss: 1.961.. Train L1 norm: 5.447.. Val L1 norm: 11.851.. Train Linf norm: 5404.131.. Val Linf norm: 18156.630\n",
            "Epoch 62/87.. Train loss: 2.940.. Val loss: 1.701.. Train L1 norm: 4.944.. Val L1 norm: 10.729.. Train Linf norm: 4488.257.. Val Linf norm: 17491.596\n",
            "Epoch 63/87.. Train loss: 2.390.. Val loss: 3.537.. Train L1 norm: 5.588.. Val L1 norm: 40.515.. Train Linf norm: 5980.740.. Val Linf norm: 69364.517\n",
            "Epoch 64/87.. Train loss: 2.335.. Val loss: 1.836.. Train L1 norm: 5.578.. Val L1 norm: 7.354.. Train Linf norm: 5589.989.. Val Linf norm: 10160.717\n",
            "Epoch 65/87.. Train loss: 2.155.. Val loss: 1.786.. Train L1 norm: 5.267.. Val L1 norm: 9.122.. Train Linf norm: 5200.042.. Val Linf norm: 14217.722\n",
            "Epoch 66/87.. Train loss: 2.464.. Val loss: 1.632.. Train L1 norm: 5.291.. Val L1 norm: 10.438.. Train Linf norm: 5298.739.. Val Linf norm: 16784.705\n",
            "Epoch 67/87.. Train loss: 2.469.. Val loss: 1.696.. Train L1 norm: 5.482.. Val L1 norm: 8.031.. Train Linf norm: 5735.265.. Val Linf norm: 12071.492\n",
            "Epoch 68/87.. Train loss: 2.090.. Val loss: 1.622.. Train L1 norm: 5.140.. Val L1 norm: 9.260.. Train Linf norm: 5097.150.. Val Linf norm: 14323.634\n",
            "Epoch 69/87.. Train loss: 2.121.. Val loss: 1.593.. Train L1 norm: 6.077.. Val L1 norm: 10.117.. Train Linf norm: 6895.506.. Val Linf norm: 16055.266\n",
            "Epoch 70/87.. Train loss: 2.072.. Val loss: 1.617.. Train L1 norm: 5.690.. Val L1 norm: 8.724.. Train Linf norm: 6278.173.. Val Linf norm: 13476.229\n",
            "Epoch 71/87.. Train loss: 2.500.. Val loss: 1.614.. Train L1 norm: 5.667.. Val L1 norm: 8.839.. Train Linf norm: 6327.307.. Val Linf norm: 13682.580\n",
            "Epoch 72/87.. Train loss: 2.167.. Val loss: 1.617.. Train L1 norm: 4.946.. Val L1 norm: 8.503.. Train Linf norm: 4854.009.. Val Linf norm: 13006.368\n",
            "Epoch 73/87.. Train loss: 2.162.. Val loss: 1.615.. Train L1 norm: 5.330.. Val L1 norm: 8.218.. Train Linf norm: 5546.717.. Val Linf norm: 12357.324\n",
            "Epoch 74/87.. Train loss: 2.350.. Val loss: 1.653.. Train L1 norm: 5.028.. Val L1 norm: 8.140.. Train Linf norm: 4862.691.. Val Linf norm: 12318.070\n",
            "Epoch 75/87.. Train loss: 2.285.. Val loss: 1.719.. Train L1 norm: 4.535.. Val L1 norm: 6.895.. Train Linf norm: 3876.063.. Val Linf norm: 9722.764\n",
            "Epoch 76/87.. Train loss: 2.373.. Val loss: 1.684.. Train L1 norm: 5.751.. Val L1 norm: 9.481.. Train Linf norm: 6339.622.. Val Linf norm: 14994.485\n",
            "Epoch 77/87.. Train loss: 2.404.. Val loss: 1.737.. Train L1 norm: 5.075.. Val L1 norm: 8.769.. Train Linf norm: 5008.533.. Val Linf norm: 13279.727\n",
            "Epoch 78/87.. Train loss: 2.305.. Val loss: 1.730.. Train L1 norm: 4.867.. Val L1 norm: 8.781.. Train Linf norm: 4420.181.. Val Linf norm: 13074.614\n",
            "Epoch 79/87.. Train loss: 3.035.. Val loss: 1.716.. Train L1 norm: 5.946.. Val L1 norm: 4.158.. Train Linf norm: 6454.807.. Val Linf norm: 4101.839\n",
            "Epoch 80/87.. Train loss: 2.271.. Val loss: 1.742.. Train L1 norm: 4.638.. Val L1 norm: 7.405.. Train Linf norm: 3842.140.. Val Linf norm: 10432.087\n",
            "Epoch 81/87.. Train loss: 2.549.. Val loss: 1.865.. Train L1 norm: 5.208.. Val L1 norm: 9.253.. Train Linf norm: 5277.090.. Val Linf norm: 13978.838\n",
            "Epoch 82/87.. Train loss: 2.446.. Val loss: 2.443.. Train L1 norm: 5.051.. Val L1 norm: 10.307.. Train Linf norm: 4767.391.. Val Linf norm: 16923.216\n",
            "Epoch 83/87.. Train loss: 2.449.. Val loss: 1.588.. Train L1 norm: 6.394.. Val L1 norm: 8.063.. Train Linf norm: 7550.151.. Val Linf norm: 11821.022\n",
            "Epoch 84/87.. Train loss: 2.040.. Val loss: 1.860.. Train L1 norm: 5.130.. Val L1 norm: 8.677.. Train Linf norm: 4916.719.. Val Linf norm: 13086.755\n",
            "Epoch 85/87.. Train loss: 2.413.. Val loss: 1.601.. Train L1 norm: 5.823.. Val L1 norm: 12.191.. Train Linf norm: 6492.409.. Val Linf norm: 20230.728\n",
            "Epoch 86/87.. Train loss: 1.950.. Val loss: 1.720.. Train L1 norm: 6.653.. Val L1 norm: 8.874.. Train Linf norm: 8005.450.. Val Linf norm: 13663.244\n"
          ]
        },
        {
          "name": "stderr",
          "output_type": "stream",
          "text": [
            "\u001b[32m[I 2023-05-29 11:45:10,857]\u001b[0m Trial 8 finished with value: 10.159199617347717 and parameters: {'n_layers': 2, 'n_units_0': 325, 'n_units_1': 1514, 'hidden_activation': 'ReLU', 'output_activation': 'Linear', 'loss': 'Quantile', 'optimizer': 'Adagrad', 'lr': 0.007195068784066636, 'batch_size': 2048, 'n_epochs': 87, 'scheduler': 'CosineAnnealingLR', 'dropout_rate': 0.13555199101147736, 't_max_fraction': 0.12417975882141866, 'eta_min': 2.5094439532246042e-05}. Best is trial 3 with value: 4.638279157714844.\u001b[0m\n"
          ]
        },
        {
          "name": "stdout",
          "output_type": "stream",
          "text": [
            "Epoch 87/87.. Train loss: 2.186.. Val loss: 1.552.. Train L1 norm: 5.225.. Val L1 norm: 10.159.. Train Linf norm: 5249.435.. Val Linf norm: 16093.699\n",
            "Epoch 1/109.. Train loss: 219.837.. Val loss: 57.045.. Train L1 norm: 1.520.. Val L1 norm: 3.769.. Train Linf norm: 215.187.. Val Linf norm: 1346.277\n",
            "Epoch 2/109.. Train loss: 518.101.. Val loss: 104.964.. Train L1 norm: 1.731.. Val L1 norm: 3.151.. Train Linf norm: 296.752.. Val Linf norm: 1041.836\n",
            "Epoch 3/109.. Train loss: 990.987.. Val loss: 54.207.. Train L1 norm: 2.221.. Val L1 norm: 5.816.. Train Linf norm: 485.139.. Val Linf norm: 2319.266\n",
            "Epoch 4/109.. Train loss: 253.777.. Val loss: 70.710.. Train L1 norm: 2.271.. Val L1 norm: 5.032.. Train Linf norm: 491.749.. Val Linf norm: 1930.328\n",
            "Epoch 5/109.. Train loss: 182.409.. Val loss: 74.975.. Train L1 norm: 2.560.. Val L1 norm: 8.328.. Train Linf norm: 626.101.. Val Linf norm: 3504.134\n",
            "Epoch 6/109.. Train loss: 574.156.. Val loss: 52.678.. Train L1 norm: 2.547.. Val L1 norm: 7.785.. Train Linf norm: 586.257.. Val Linf norm: 3242.559\n",
            "Epoch 7/109.. Train loss: 213.633.. Val loss: 57.681.. Train L1 norm: 2.890.. Val L1 norm: 9.078.. Train Linf norm: 716.005.. Val Linf norm: 3856.665\n",
            "Epoch 8/109.. Train loss: 171.716.. Val loss: 52.880.. Train L1 norm: 3.035.. Val L1 norm: 8.537.. Train Linf norm: 773.088.. Val Linf norm: 3595.848\n",
            "Epoch 9/109.. Train loss: 73.001.. Val loss: 53.013.. Train L1 norm: 2.902.. Val L1 norm: 8.833.. Train Linf norm: 715.237.. Val Linf norm: 3733.366\n",
            "Epoch 10/109.. Train loss: 109.678.. Val loss: 51.356.. Train L1 norm: 3.149.. Val L1 norm: 9.640.. Train Linf norm: 809.673.. Val Linf norm: 4115.339\n",
            "Epoch 11/109.. Train loss: 156.516.. Val loss: 52.225.. Train L1 norm: 3.205.. Val L1 norm: 9.417.. Train Linf norm: 829.985.. Val Linf norm: 4008.139\n",
            "Epoch 12/109.. Train loss: 75.794.. Val loss: 51.698.. Train L1 norm: 3.094.. Val L1 norm: 9.651.. Train Linf norm: 783.539.. Val Linf norm: 4118.011\n",
            "Epoch 13/109.. Train loss: 74.857.. Val loss: 51.806.. Train L1 norm: 3.141.. Val L1 norm: 9.710.. Train Linf norm: 801.097.. Val Linf norm: 4145.310\n",
            "Epoch 14/109.. Train loss: 73.820.. Val loss: 51.541.. Train L1 norm: 3.155.. Val L1 norm: 9.814.. Train Linf norm: 798.573.. Val Linf norm: 4194.522\n",
            "Epoch 15/109.. Train loss: 78.499.. Val loss: 51.603.. Train L1 norm: 3.157.. Val L1 norm: 9.823.. Train Linf norm: 795.603.. Val Linf norm: 4198.411\n",
            "Epoch 16/109.. Train loss: 79.040.. Val loss: 51.562.. Train L1 norm: 3.123.. Val L1 norm: 9.838.. Train Linf norm: 781.954.. Val Linf norm: 4205.911\n",
            "Epoch 17/109.. Train loss: 76.674.. Val loss: 51.553.. Train L1 norm: 3.205.. Val L1 norm: 9.843.. Train Linf norm: 824.359.. Val Linf norm: 4207.843\n",
            "Epoch 18/109.. Train loss: 74.874.. Val loss: 51.521.. Train L1 norm: 3.213.. Val L1 norm: 9.856.. Train Linf norm: 819.972.. Val Linf norm: 4214.275\n",
            "Epoch 19/109.. Train loss: 73.629.. Val loss: 51.454.. Train L1 norm: 3.222.. Val L1 norm: 9.890.. Train Linf norm: 828.984.. Val Linf norm: 4230.223\n",
            "Epoch 20/109.. Train loss: 66.929.. Val loss: 51.439.. Train L1 norm: 3.226.. Val L1 norm: 9.930.. Train Linf norm: 826.923.. Val Linf norm: 4248.962\n",
            "Epoch 21/109.. Train loss: 67.719.. Val loss: 51.237.. Train L1 norm: 3.240.. Val L1 norm: 10.047.. Train Linf norm: 837.198.. Val Linf norm: 4303.964\n",
            "Epoch 22/109.. Train loss: 73.121.. Val loss: 50.905.. Train L1 norm: 3.252.. Val L1 norm: 10.240.. Train Linf norm: 823.834.. Val Linf norm: 4394.216\n",
            "Epoch 23/109.. Train loss: 67.572.. Val loss: 50.781.. Train L1 norm: 3.300.. Val L1 norm: 10.405.. Train Linf norm: 848.691.. Val Linf norm: 4471.661\n",
            "Epoch 24/109.. Train loss: 86.914.. Val loss: 50.509.. Train L1 norm: 3.375.. Val L1 norm: 10.665.. Train Linf norm: 883.162.. Val Linf norm: 4593.932\n",
            "Epoch 25/109.. Train loss: 101.758.. Val loss: 51.688.. Train L1 norm: 3.422.. Val L1 norm: 10.576.. Train Linf norm: 897.833.. Val Linf norm: 4550.347\n",
            "Epoch 26/109.. Train loss: 101.281.. Val loss: 50.115.. Train L1 norm: 3.522.. Val L1 norm: 11.237.. Train Linf norm: 927.158.. Val Linf norm: 4861.280\n",
            "Epoch 27/109.. Train loss: 67.315.. Val loss: 49.954.. Train L1 norm: 3.618.. Val L1 norm: 11.482.. Train Linf norm: 963.851.. Val Linf norm: 4975.234\n",
            "Epoch 28/109.. Train loss: 69.485.. Val loss: 49.862.. Train L1 norm: 3.641.. Val L1 norm: 11.752.. Train Linf norm: 963.639.. Val Linf norm: 5100.534\n",
            "Epoch 29/109.. Train loss: 65.785.. Val loss: 49.615.. Train L1 norm: 3.742.. Val L1 norm: 12.126.. Train Linf norm: 1006.776.. Val Linf norm: 5274.896\n",
            "Epoch 30/109.. Train loss: 69.795.. Val loss: 49.559.. Train L1 norm: 3.795.. Val L1 norm: 12.423.. Train Linf norm: 1017.725.. Val Linf norm: 5412.423\n",
            "Epoch 31/109.. Train loss: 76.497.. Val loss: 50.962.. Train L1 norm: 3.839.. Val L1 norm: 12.568.. Train Linf norm: 1021.272.. Val Linf norm: 5478.591\n",
            "Epoch 32/109.. Train loss: 73.283.. Val loss: 49.376.. Train L1 norm: 4.000.. Val L1 norm: 13.155.. Train Linf norm: 1099.662.. Val Linf norm: 5752.369\n",
            "Epoch 33/109.. Train loss: 67.909.. Val loss: 49.610.. Train L1 norm: 4.140.. Val L1 norm: 13.468.. Train Linf norm: 1137.587.. Val Linf norm: 5897.778\n",
            "Epoch 34/109.. Train loss: 74.772.. Val loss: 49.756.. Train L1 norm: 4.260.. Val L1 norm: 13.778.. Train Linf norm: 1190.542.. Val Linf norm: 6041.145\n",
            "Epoch 35/109.. Train loss: 77.671.. Val loss: 48.199.. Train L1 norm: 4.378.. Val L1 norm: 14.459.. Train Linf norm: 1228.225.. Val Linf norm: 6359.037\n",
            "Epoch 36/109.. Train loss: 67.856.. Val loss: 48.318.. Train L1 norm: 4.515.. Val L1 norm: 14.668.. Train Linf norm: 1278.864.. Val Linf norm: 6454.766\n",
            "Epoch 37/109.. Train loss: 64.944.. Val loss: 48.053.. Train L1 norm: 4.614.. Val L1 norm: 14.994.. Train Linf norm: 1317.769.. Val Linf norm: 6606.271\n",
            "Epoch 38/109.. Train loss: 63.743.. Val loss: 48.057.. Train L1 norm: 4.655.. Val L1 norm: 15.216.. Train Linf norm: 1319.994.. Val Linf norm: 6708.894\n",
            "Epoch 39/109.. Train loss: 65.065.. Val loss: 47.778.. Train L1 norm: 4.626.. Val L1 norm: 15.500.. Train Linf norm: 1298.515.. Val Linf norm: 6840.809\n",
            "Epoch 40/109.. Train loss: 67.838.. Val loss: 47.532.. Train L1 norm: 4.807.. Val L1 norm: 15.754.. Train Linf norm: 1372.597.. Val Linf norm: 6959.118\n",
            "Epoch 41/109.. Train loss: 66.094.. Val loss: 47.396.. Train L1 norm: 4.715.. Val L1 norm: 15.970.. Train Linf norm: 1321.101.. Val Linf norm: 7059.602\n",
            "Epoch 42/109.. Train loss: 67.438.. Val loss: 47.330.. Train L1 norm: 4.908.. Val L1 norm: 16.149.. Train Linf norm: 1391.968.. Val Linf norm: 7142.525\n",
            "Epoch 43/109.. Train loss: 87.798.. Val loss: 47.344.. Train L1 norm: 4.920.. Val L1 norm: 16.147.. Train Linf norm: 1395.733.. Val Linf norm: 7141.367\n",
            "Epoch 44/109.. Train loss: 64.932.. Val loss: 47.331.. Train L1 norm: 4.939.. Val L1 norm: 16.200.. Train Linf norm: 1418.868.. Val Linf norm: 7165.878\n",
            "Epoch 45/109.. Train loss: 70.023.. Val loss: 47.376.. Train L1 norm: 4.924.. Val L1 norm: 16.222.. Train Linf norm: 1404.504.. Val Linf norm: 7176.099\n",
            "Epoch 46/109.. Train loss: 62.745.. Val loss: 47.361.. Train L1 norm: 4.942.. Val L1 norm: 16.250.. Train Linf norm: 1405.483.. Val Linf norm: 7188.687\n",
            "Epoch 47/109.. Train loss: 65.034.. Val loss: 47.345.. Train L1 norm: 4.944.. Val L1 norm: 16.265.. Train Linf norm: 1411.259.. Val Linf norm: 7195.961\n",
            "Epoch 48/109.. Train loss: 65.473.. Val loss: 47.348.. Train L1 norm: 4.918.. Val L1 norm: 16.267.. Train Linf norm: 1392.488.. Val Linf norm: 7196.819\n",
            "Epoch 49/109.. Train loss: 63.974.. Val loss: 47.347.. Train L1 norm: 4.887.. Val L1 norm: 16.269.. Train Linf norm: 1383.735.. Val Linf norm: 7197.458\n",
            "Epoch 50/109.. Train loss: 67.502.. Val loss: 47.345.. Train L1 norm: 4.930.. Val L1 norm: 16.273.. Train Linf norm: 1401.744.. Val Linf norm: 7199.381\n",
            "Epoch 51/109.. Train loss: 78.714.. Val loss: 47.371.. Train L1 norm: 4.913.. Val L1 norm: 16.272.. Train Linf norm: 1362.878.. Val Linf norm: 7198.852\n",
            "Epoch 52/109.. Train loss: 67.224.. Val loss: 47.360.. Train L1 norm: 4.928.. Val L1 norm: 16.296.. Train Linf norm: 1412.631.. Val Linf norm: 7209.905\n",
            "Epoch 53/109.. Train loss: 64.150.. Val loss: 47.400.. Train L1 norm: 4.973.. Val L1 norm: 16.314.. Train Linf norm: 1425.027.. Val Linf norm: 7218.119\n",
            "Epoch 54/109.. Train loss: 76.095.. Val loss: 47.519.. Train L1 norm: 4.977.. Val L1 norm: 16.335.. Train Linf norm: 1411.751.. Val Linf norm: 7227.939\n",
            "Epoch 55/109.. Train loss: 66.270.. Val loss: 47.452.. Train L1 norm: 5.042.. Val L1 norm: 16.430.. Train Linf norm: 1460.188.. Val Linf norm: 7271.406\n",
            "Epoch 56/109.. Train loss: 67.206.. Val loss: 47.270.. Train L1 norm: 4.988.. Val L1 norm: 16.573.. Train Linf norm: 1431.481.. Val Linf norm: 7338.066\n",
            "Epoch 57/109.. Train loss: 85.374.. Val loss: 47.970.. Train L1 norm: 4.988.. Val L1 norm: 16.544.. Train Linf norm: 1415.683.. Val Linf norm: 7323.900\n",
            "Epoch 58/109.. Train loss: 105.228.. Val loss: 46.951.. Train L1 norm: 5.065.. Val L1 norm: 16.942.. Train Linf norm: 1453.571.. Val Linf norm: 7509.323\n",
            "Epoch 59/109.. Train loss: 65.048.. Val loss: 46.872.. Train L1 norm: 5.176.. Val L1 norm: 17.106.. Train Linf norm: 1483.429.. Val Linf norm: 7585.136\n",
            "Epoch 60/109.. Train loss: 75.605.. Val loss: 47.121.. Train L1 norm: 5.175.. Val L1 norm: 17.200.. Train Linf norm: 1485.960.. Val Linf norm: 7627.623\n",
            "Epoch 61/109.. Train loss: 62.495.. Val loss: 46.787.. Train L1 norm: 5.325.. Val L1 norm: 17.501.. Train Linf norm: 1554.962.. Val Linf norm: 7767.405\n",
            "Epoch 62/109.. Train loss: 61.840.. Val loss: 46.793.. Train L1 norm: 5.350.. Val L1 norm: 17.682.. Train Linf norm: 1556.027.. Val Linf norm: 7850.899\n",
            "Epoch 63/109.. Train loss: 61.123.. Val loss: 46.600.. Train L1 norm: 5.392.. Val L1 norm: 17.952.. Train Linf norm: 1565.157.. Val Linf norm: 7975.437\n",
            "Epoch 64/109.. Train loss: 66.332.. Val loss: 46.453.. Train L1 norm: 5.455.. Val L1 norm: 18.209.. Train Linf norm: 1568.308.. Val Linf norm: 8094.151\n",
            "Epoch 65/109.. Train loss: 66.216.. Val loss: 46.771.. Train L1 norm: 5.466.. Val L1 norm: 18.321.. Train Linf norm: 1579.492.. Val Linf norm: 8144.649\n",
            "Epoch 66/109.. Train loss: 61.742.. Val loss: 46.762.. Train L1 norm: 5.522.. Val L1 norm: 18.533.. Train Linf norm: 1607.370.. Val Linf norm: 8242.702\n",
            "Epoch 67/109.. Train loss: 71.856.. Val loss: 46.151.. Train L1 norm: 5.658.. Val L1 norm: 18.896.. Train Linf norm: 1654.858.. Val Linf norm: 8410.316\n",
            "Epoch 68/109.. Train loss: 62.434.. Val loss: 46.161.. Train L1 norm: 5.773.. Val L1 norm: 19.056.. Train Linf norm: 1695.741.. Val Linf norm: 8484.078\n",
            "Epoch 69/109.. Train loss: 65.428.. Val loss: 46.315.. Train L1 norm: 5.751.. Val L1 norm: 19.168.. Train Linf norm: 1669.375.. Val Linf norm: 8535.031\n",
            "Epoch 70/109.. Train loss: 61.848.. Val loss: 46.121.. Train L1 norm: 5.771.. Val L1 norm: 19.383.. Train Linf norm: 1673.678.. Val Linf norm: 8634.124\n",
            "Epoch 71/109.. Train loss: 65.813.. Val loss: 46.088.. Train L1 norm: 5.845.. Val L1 norm: 19.516.. Train Linf norm: 1718.539.. Val Linf norm: 8695.619\n",
            "Epoch 72/109.. Train loss: 66.404.. Val loss: 45.879.. Train L1 norm: 5.934.. Val L1 norm: 19.699.. Train Linf norm: 1725.967.. Val Linf norm: 8780.084\n",
            "Epoch 73/109.. Train loss: 71.812.. Val loss: 46.052.. Train L1 norm: 5.900.. Val L1 norm: 19.715.. Train Linf norm: 1726.398.. Val Linf norm: 8786.916\n",
            "Epoch 74/109.. Train loss: 68.739.. Val loss: 45.843.. Train L1 norm: 5.941.. Val L1 norm: 19.863.. Train Linf norm: 1754.705.. Val Linf norm: 8855.563\n",
            "Epoch 75/109.. Train loss: 60.391.. Val loss: 45.837.. Train L1 norm: 5.913.. Val L1 norm: 19.918.. Train Linf norm: 1718.443.. Val Linf norm: 8880.896\n",
            "Epoch 76/109.. Train loss: 60.849.. Val loss: 45.805.. Train L1 norm: 6.083.. Val L1 norm: 19.970.. Train Linf norm: 1811.279.. Val Linf norm: 8904.796\n",
            "Epoch 77/109.. Train loss: 64.504.. Val loss: 45.820.. Train L1 norm: 5.995.. Val L1 norm: 19.987.. Train Linf norm: 1761.741.. Val Linf norm: 8912.935\n",
            "Epoch 78/109.. Train loss: 73.914.. Val loss: 45.784.. Train L1 norm: 6.009.. Val L1 norm: 20.014.. Train Linf norm: 1774.529.. Val Linf norm: 8925.018\n",
            "Epoch 79/109.. Train loss: 60.835.. Val loss: 45.779.. Train L1 norm: 6.039.. Val L1 norm: 20.023.. Train Linf norm: 1785.289.. Val Linf norm: 8929.423\n",
            "Epoch 80/109.. Train loss: 61.684.. Val loss: 45.779.. Train L1 norm: 6.052.. Val L1 norm: 20.025.. Train Linf norm: 1796.684.. Val Linf norm: 8930.280\n",
            "Epoch 81/109.. Train loss: 63.674.. Val loss: 45.778.. Train L1 norm: 5.987.. Val L1 norm: 20.026.. Train Linf norm: 1760.792.. Val Linf norm: 8930.713\n",
            "Epoch 82/109.. Train loss: 91.576.. Val loss: 45.782.. Train L1 norm: 5.989.. Val L1 norm: 20.026.. Train Linf norm: 1745.190.. Val Linf norm: 8930.549\n",
            "Epoch 83/109.. Train loss: 61.409.. Val loss: 45.779.. Train L1 norm: 6.032.. Val L1 norm: 20.033.. Train Linf norm: 1756.890.. Val Linf norm: 8934.115\n",
            "Epoch 84/109.. Train loss: 68.741.. Val loss: 45.780.. Train L1 norm: 5.977.. Val L1 norm: 20.046.. Train Linf norm: 1734.634.. Val Linf norm: 8939.986\n",
            "Epoch 85/109.. Train loss: 72.921.. Val loss: 45.780.. Train L1 norm: 6.055.. Val L1 norm: 20.069.. Train Linf norm: 1776.139.. Val Linf norm: 8950.403\n",
            "Epoch 86/109.. Train loss: 63.351.. Val loss: 45.728.. Train L1 norm: 6.054.. Val L1 norm: 20.130.. Train Linf norm: 1784.703.. Val Linf norm: 8978.819\n",
            "Epoch 87/109.. Train loss: 60.444.. Val loss: 45.711.. Train L1 norm: 5.986.. Val L1 norm: 20.185.. Train Linf norm: 1733.859.. Val Linf norm: 9004.169\n",
            "Epoch 88/109.. Train loss: 60.629.. Val loss: 45.703.. Train L1 norm: 6.180.. Val L1 norm: 20.251.. Train Linf norm: 1837.258.. Val Linf norm: 9034.560\n",
            "Epoch 89/109.. Train loss: 76.428.. Val loss: 45.551.. Train L1 norm: 6.099.. Val L1 norm: 20.398.. Train Linf norm: 1805.048.. Val Linf norm: 9102.984\n",
            "Epoch 90/109.. Train loss: 60.536.. Val loss: 45.548.. Train L1 norm: 6.137.. Val L1 norm: 20.489.. Train Linf norm: 1804.748.. Val Linf norm: 9144.690\n",
            "Epoch 91/109.. Train loss: 67.578.. Val loss: 45.660.. Train L1 norm: 6.246.. Val L1 norm: 20.535.. Train Linf norm: 1856.586.. Val Linf norm: 9165.000\n",
            "Epoch 92/109.. Train loss: 67.956.. Val loss: 45.935.. Train L1 norm: 6.152.. Val L1 norm: 20.522.. Train Linf norm: 1815.521.. Val Linf norm: 9158.061\n",
            "Epoch 93/109.. Train loss: 76.430.. Val loss: 45.457.. Train L1 norm: 6.189.. Val L1 norm: 20.784.. Train Linf norm: 1821.644.. Val Linf norm: 9278.931\n",
            "Epoch 94/109.. Train loss: 60.162.. Val loss: 45.470.. Train L1 norm: 6.225.. Val L1 norm: 20.906.. Train Linf norm: 1810.194.. Val Linf norm: 9334.793\n",
            "Epoch 95/109.. Train loss: 60.785.. Val loss: 45.393.. Train L1 norm: 6.361.. Val L1 norm: 21.081.. Train Linf norm: 1894.704.. Val Linf norm: 9415.301\n",
            "Epoch 96/109.. Train loss: 64.765.. Val loss: 45.508.. Train L1 norm: 6.300.. Val L1 norm: 21.177.. Train Linf norm: 1859.110.. Val Linf norm: 9459.447\n",
            "Epoch 97/109.. Train loss: 69.780.. Val loss: 45.235.. Train L1 norm: 6.403.. Val L1 norm: 21.432.. Train Linf norm: 1895.158.. Val Linf norm: 9577.497\n",
            "Epoch 98/109.. Train loss: 59.218.. Val loss: 45.178.. Train L1 norm: 6.479.. Val L1 norm: 21.597.. Train Linf norm: 1925.398.. Val Linf norm: 9653.371\n",
            "Epoch 99/109.. Train loss: 62.114.. Val loss: 45.217.. Train L1 norm: 6.427.. Val L1 norm: 21.701.. Train Linf norm: 1886.771.. Val Linf norm: 9700.750\n",
            "Epoch 100/109.. Train loss: 61.856.. Val loss: 45.063.. Train L1 norm: 6.581.. Val L1 norm: 21.908.. Train Linf norm: 1962.289.. Val Linf norm: 9797.413\n",
            "Epoch 101/109.. Train loss: 60.839.. Val loss: 45.060.. Train L1 norm: 6.609.. Val L1 norm: 22.005.. Train Linf norm: 1969.043.. Val Linf norm: 9841.740\n",
            "Epoch 102/109.. Train loss: 60.637.. Val loss: 45.035.. Train L1 norm: 6.556.. Val L1 norm: 22.113.. Train Linf norm: 1932.343.. Val Linf norm: 9891.453\n",
            "Epoch 103/109.. Train loss: 65.550.. Val loss: 45.187.. Train L1 norm: 6.697.. Val L1 norm: 22.126.. Train Linf norm: 2022.379.. Val Linf norm: 9897.282\n",
            "Epoch 104/109.. Train loss: 64.940.. Val loss: 45.059.. Train L1 norm: 6.641.. Val L1 norm: 22.243.. Train Linf norm: 1961.578.. Val Linf norm: 9951.639\n",
            "Epoch 105/109.. Train loss: 69.111.. Val loss: 45.191.. Train L1 norm: 6.667.. Val L1 norm: 22.223.. Train Linf norm: 1994.840.. Val Linf norm: 9942.039\n",
            "Epoch 106/109.. Train loss: 63.212.. Val loss: 45.236.. Train L1 norm: 6.589.. Val L1 norm: 22.260.. Train Linf norm: 1951.453.. Val Linf norm: 9958.875\n",
            "Epoch 107/109.. Train loss: 64.233.. Val loss: 45.293.. Train L1 norm: 6.599.. Val L1 norm: 22.272.. Train Linf norm: 1945.235.. Val Linf norm: 9964.128\n",
            "Epoch 108/109.. Train loss: 62.919.. Val loss: 45.203.. Train L1 norm: 6.701.. Val L1 norm: 22.324.. Train Linf norm: 1985.484.. Val Linf norm: 9988.588\n"
          ]
        },
        {
          "name": "stderr",
          "output_type": "stream",
          "text": [
            "\u001b[32m[I 2023-05-29 12:10:34,802]\u001b[0m Trial 9 finished with value: 22.355259196624758 and parameters: {'n_layers': 8, 'n_units_0': 3721, 'n_units_1': 240, 'n_units_2': 2145, 'n_units_3': 2039, 'n_units_4': 2707, 'n_units_5': 530, 'n_units_6': 1977, 'n_units_7': 491, 'hidden_activation': 'LeakyReLU', 'output_activation': 'Linear', 'loss': 'MSE', 'optimizer': 'Adagrad', 'lr': 0.0005949036168716603, 'batch_size': 512, 'n_epochs': 109, 'scheduler': 'CosineAnnealingLR', 'leakyrelu_slope': 0.17898876982457265, 'dropout_rate': 0.2363774929677162, 't_max_fraction': 0.15237307576460551, 'eta_min': 2.5268732630535727e-06}. Best is trial 3 with value: 4.638279157714844.\u001b[0m\n"
          ]
        },
        {
          "name": "stdout",
          "output_type": "stream",
          "text": [
            "Epoch 109/109.. Train loss: 63.561.. Val loss: 45.165.. Train L1 norm: 6.700.. Val L1 norm: 22.355.. Train Linf norm: 2009.592.. Val Linf norm: 10002.857\n",
            "Epoch 1/77.. Train loss: 4.749.. Val loss: 4.414.. Train L1 norm: 4.441.. Val L1 norm: 11.962.. Train Linf norm: 4168.095.. Val Linf norm: 18560.340\n",
            "Epoch 2/77.. Train loss: 4.626.. Val loss: 4.542.. Train L1 norm: 4.644.. Val L1 norm: 5.498.. Train Linf norm: 4384.590.. Val Linf norm: 7151.126\n",
            "Epoch 3/77.. Train loss: 4.508.. Val loss: 4.530.. Train L1 norm: 4.656.. Val L1 norm: 5.482.. Train Linf norm: 4351.409.. Val Linf norm: 7165.504\n",
            "Epoch 4/77.. Train loss: 4.584.. Val loss: 4.250.. Train L1 norm: 4.558.. Val L1 norm: 13.275.. Train Linf norm: 4032.035.. Val Linf norm: 20718.411\n",
            "Epoch 5/77.. Train loss: 4.427.. Val loss: 4.338.. Train L1 norm: 4.882.. Val L1 norm: 10.290.. Train Linf norm: 4487.841.. Val Linf norm: 15177.641\n",
            "Epoch 6/77.. Train loss: 4.397.. Val loss: 4.224.. Train L1 norm: 5.357.. Val L1 norm: 11.605.. Train Linf norm: 5335.611.. Val Linf norm: 17423.771\n",
            "Epoch 7/77.. Train loss: 4.284.. Val loss: 4.342.. Train L1 norm: 5.740.. Val L1 norm: 9.970.. Train Linf norm: 5753.016.. Val Linf norm: 14326.846\n",
            "Epoch 8/77.. Train loss: 4.275.. Val loss: 4.191.. Train L1 norm: 5.186.. Val L1 norm: 15.721.. Train Linf norm: 4766.735.. Val Linf norm: 25647.123\n",
            "Epoch 9/77.. Train loss: 4.343.. Val loss: 4.456.. Train L1 norm: 5.463.. Val L1 norm: 6.779.. Train Linf norm: 5207.340.. Val Linf norm: 8602.137\n",
            "Epoch 10/77.. Train loss: 4.135.. Val loss: 4.306.. Train L1 norm: 5.455.. Val L1 norm: 11.078.. Train Linf norm: 4987.302.. Val Linf norm: 16800.887\n",
            "Epoch 11/77.. Train loss: 4.097.. Val loss: 4.241.. Train L1 norm: 5.694.. Val L1 norm: 17.167.. Train Linf norm: 5260.604.. Val Linf norm: 28665.082\n",
            "Epoch 12/77.. Train loss: 4.040.. Val loss: 4.223.. Train L1 norm: 6.137.. Val L1 norm: 16.513.. Train Linf norm: 5958.674.. Val Linf norm: 27497.043\n",
            "Epoch 13/77.. Train loss: 4.109.. Val loss: 4.170.. Train L1 norm: 5.559.. Val L1 norm: 20.640.. Train Linf norm: 4963.128.. Val Linf norm: 35769.824\n",
            "Epoch 14/77.. Train loss: 3.986.. Val loss: 4.296.. Train L1 norm: 6.254.. Val L1 norm: 9.939.. Train Linf norm: 6137.140.. Val Linf norm: 14640.637\n",
            "Epoch 15/77.. Train loss: 3.974.. Val loss: 4.120.. Train L1 norm: 5.962.. Val L1 norm: 16.961.. Train Linf norm: 5548.054.. Val Linf norm: 28372.107\n",
            "Epoch 16/77.. Train loss: 3.908.. Val loss: 3.970.. Train L1 norm: 6.668.. Val L1 norm: 17.586.. Train Linf norm: 7189.599.. Val Linf norm: 29929.161\n",
            "Epoch 17/77.. Train loss: 3.872.. Val loss: 3.987.. Train L1 norm: 6.897.. Val L1 norm: 17.343.. Train Linf norm: 7583.747.. Val Linf norm: 29758.975\n",
            "Epoch 18/77.. Train loss: 3.826.. Val loss: 3.899.. Train L1 norm: 5.863.. Val L1 norm: 14.638.. Train Linf norm: 5516.407.. Val Linf norm: 24265.105\n",
            "Epoch 19/77.. Train loss: 3.773.. Val loss: 3.920.. Train L1 norm: 5.842.. Val L1 norm: 11.919.. Train Linf norm: 5500.649.. Val Linf norm: 19025.815\n",
            "Epoch 20/77.. Train loss: 3.795.. Val loss: 3.924.. Train L1 norm: 5.706.. Val L1 norm: 15.233.. Train Linf norm: 5377.465.. Val Linf norm: 25792.648\n",
            "Epoch 21/77.. Train loss: 3.749.. Val loss: 3.874.. Train L1 norm: 6.666.. Val L1 norm: 10.077.. Train Linf norm: 7320.209.. Val Linf norm: 15452.505\n",
            "Epoch 22/77.. Train loss: 3.682.. Val loss: 3.787.. Train L1 norm: 5.729.. Val L1 norm: 11.848.. Train Linf norm: 5539.167.. Val Linf norm: 18852.318\n",
            "Epoch 23/77.. Train loss: 3.661.. Val loss: 3.632.. Train L1 norm: 5.679.. Val L1 norm: 12.188.. Train Linf norm: 5393.289.. Val Linf norm: 19231.597\n",
            "Epoch 24/77.. Train loss: 3.671.. Val loss: 3.722.. Train L1 norm: 5.815.. Val L1 norm: 6.512.. Train Linf norm: 5802.578.. Val Linf norm: 8166.717\n",
            "Epoch 25/77.. Train loss: 3.584.. Val loss: 3.909.. Train L1 norm: 5.842.. Val L1 norm: 5.037.. Train Linf norm: 5725.763.. Val Linf norm: 5611.526\n",
            "Epoch 26/77.. Train loss: 3.591.. Val loss: 3.634.. Train L1 norm: 5.701.. Val L1 norm: 9.093.. Train Linf norm: 5617.340.. Val Linf norm: 13694.464\n",
            "Epoch 27/77.. Train loss: 3.575.. Val loss: 3.628.. Train L1 norm: 5.631.. Val L1 norm: 7.102.. Train Linf norm: 5568.559.. Val Linf norm: 9620.954\n",
            "Epoch 28/77.. Train loss: 3.521.. Val loss: 3.528.. Train L1 norm: 5.849.. Val L1 norm: 7.957.. Train Linf norm: 5911.643.. Val Linf norm: 11081.827\n",
            "Epoch 29/77.. Train loss: 3.550.. Val loss: 3.540.. Train L1 norm: 5.349.. Val L1 norm: 11.193.. Train Linf norm: 5027.528.. Val Linf norm: 18024.841\n",
            "Epoch 30/77.. Train loss: 3.511.. Val loss: 3.500.. Train L1 norm: 5.588.. Val L1 norm: 9.087.. Train Linf norm: 5531.069.. Val Linf norm: 13539.964\n",
            "Epoch 31/77.. Train loss: 3.463.. Val loss: 3.460.. Train L1 norm: 5.711.. Val L1 norm: 10.821.. Train Linf norm: 5748.161.. Val Linf norm: 17370.046\n",
            "Epoch 32/77.. Train loss: 3.434.. Val loss: 3.552.. Train L1 norm: 5.708.. Val L1 norm: 12.617.. Train Linf norm: 5821.964.. Val Linf norm: 21408.821\n",
            "Epoch 33/77.. Train loss: 3.454.. Val loss: 3.547.. Train L1 norm: 5.600.. Val L1 norm: 12.764.. Train Linf norm: 5679.467.. Val Linf norm: 21706.571\n",
            "Epoch 34/77.. Train loss: 3.413.. Val loss: 3.459.. Train L1 norm: 5.504.. Val L1 norm: 11.770.. Train Linf norm: 5374.151.. Val Linf norm: 19610.576\n",
            "Epoch 35/77.. Train loss: 3.452.. Val loss: 3.487.. Train L1 norm: 5.672.. Val L1 norm: 12.343.. Train Linf norm: 5803.347.. Val Linf norm: 20904.825\n",
            "Epoch 36/77.. Train loss: 3.379.. Val loss: 3.389.. Train L1 norm: 5.095.. Val L1 norm: 12.065.. Train Linf norm: 4519.762.. Val Linf norm: 20267.898\n",
            "Epoch 37/77.. Train loss: 3.396.. Val loss: 3.390.. Train L1 norm: 5.024.. Val L1 norm: 13.009.. Train Linf norm: 4490.854.. Val Linf norm: 22300.937\n",
            "Epoch 38/77.. Train loss: 3.352.. Val loss: 3.386.. Train L1 norm: 5.401.. Val L1 norm: 12.796.. Train Linf norm: 5286.801.. Val Linf norm: 21843.660\n",
            "Epoch 39/77.. Train loss: 3.471.. Val loss: 3.409.. Train L1 norm: 5.831.. Val L1 norm: 13.097.. Train Linf norm: 6222.269.. Val Linf norm: 22689.426\n",
            "Epoch 40/77.. Train loss: 3.325.. Val loss: 3.342.. Train L1 norm: 5.936.. Val L1 norm: 11.973.. Train Linf norm: 6375.939.. Val Linf norm: 20316.281\n",
            "Epoch 41/77.. Train loss: 3.407.. Val loss: 3.394.. Train L1 norm: 5.309.. Val L1 norm: 14.506.. Train Linf norm: 5107.400.. Val Linf norm: 25675.757\n",
            "Epoch 42/77.. Train loss: 3.336.. Val loss: 3.364.. Train L1 norm: 5.226.. Val L1 norm: 13.888.. Train Linf norm: 4968.658.. Val Linf norm: 24277.316\n",
            "Epoch 43/77.. Train loss: 3.317.. Val loss: 3.455.. Train L1 norm: 5.597.. Val L1 norm: 14.060.. Train Linf norm: 5807.678.. Val Linf norm: 24776.508\n",
            "Epoch 44/77.. Train loss: 3.301.. Val loss: 3.303.. Train L1 norm: 5.238.. Val L1 norm: 12.070.. Train Linf norm: 5065.215.. Val Linf norm: 20698.698\n",
            "Epoch 45/77.. Train loss: 3.308.. Val loss: 3.337.. Train L1 norm: 5.238.. Val L1 norm: 12.021.. Train Linf norm: 5032.171.. Val Linf norm: 20700.205\n",
            "Epoch 46/77.. Train loss: 3.263.. Val loss: 3.299.. Train L1 norm: 5.331.. Val L1 norm: 12.667.. Train Linf norm: 5276.116.. Val Linf norm: 21913.088\n",
            "Epoch 47/77.. Train loss: 3.279.. Val loss: 3.257.. Train L1 norm: 5.390.. Val L1 norm: 11.402.. Train Linf norm: 5345.369.. Val Linf norm: 19379.111\n",
            "Epoch 48/77.. Train loss: 3.289.. Val loss: 3.282.. Train L1 norm: 4.778.. Val L1 norm: 12.380.. Train Linf norm: 4135.225.. Val Linf norm: 21375.558\n",
            "Epoch 49/77.. Train loss: 3.246.. Val loss: 3.326.. Train L1 norm: 5.005.. Val L1 norm: 12.784.. Train Linf norm: 4720.501.. Val Linf norm: 22255.466\n",
            "Epoch 50/77.. Train loss: 3.251.. Val loss: 3.301.. Train L1 norm: 5.834.. Val L1 norm: 12.227.. Train Linf norm: 6192.768.. Val Linf norm: 21146.891\n",
            "Epoch 51/77.. Train loss: 3.268.. Val loss: 3.230.. Train L1 norm: 6.169.. Val L1 norm: 11.888.. Train Linf norm: 6949.471.. Val Linf norm: 20405.061\n",
            "Epoch 52/77.. Train loss: 3.231.. Val loss: 3.253.. Train L1 norm: 5.359.. Val L1 norm: 12.587.. Train Linf norm: 5331.816.. Val Linf norm: 21781.020\n",
            "Epoch 53/77.. Train loss: 3.254.. Val loss: 3.250.. Train L1 norm: 4.923.. Val L1 norm: 13.293.. Train Linf norm: 4325.838.. Val Linf norm: 23307.823\n",
            "Epoch 54/77.. Train loss: 3.221.. Val loss: 3.226.. Train L1 norm: 5.583.. Val L1 norm: 13.042.. Train Linf norm: 5912.110.. Val Linf norm: 22794.689\n",
            "Epoch 55/77.. Train loss: 3.228.. Val loss: 3.260.. Train L1 norm: 4.623.. Val L1 norm: 12.022.. Train Linf norm: 3966.765.. Val Linf norm: 20845.667\n",
            "Epoch 56/77.. Train loss: 3.234.. Val loss: 3.268.. Train L1 norm: 5.985.. Val L1 norm: 12.350.. Train Linf norm: 6609.656.. Val Linf norm: 21476.919\n",
            "Epoch 57/77.. Train loss: 3.223.. Val loss: 3.249.. Train L1 norm: 4.899.. Val L1 norm: 12.361.. Train Linf norm: 4511.131.. Val Linf norm: 21473.967\n",
            "Epoch 58/77.. Train loss: 3.208.. Val loss: 3.212.. Train L1 norm: 4.808.. Val L1 norm: 11.781.. Train Linf norm: 4393.273.. Val Linf norm: 20397.407\n",
            "Epoch 59/77.. Train loss: 3.213.. Val loss: 3.237.. Train L1 norm: 5.057.. Val L1 norm: 12.045.. Train Linf norm: 4851.405.. Val Linf norm: 20949.271\n",
            "Epoch 60/77.. Train loss: 3.200.. Val loss: 3.255.. Train L1 norm: 4.865.. Val L1 norm: 12.831.. Train Linf norm: 4413.424.. Val Linf norm: 22585.620\n",
            "Epoch 61/77.. Train loss: 3.191.. Val loss: 3.202.. Train L1 norm: 4.872.. Val L1 norm: 11.566.. Train Linf norm: 4379.496.. Val Linf norm: 19950.792\n",
            "Epoch 62/77.. Train loss: 3.197.. Val loss: 3.211.. Train L1 norm: 4.663.. Val L1 norm: 11.580.. Train Linf norm: 4011.427.. Val Linf norm: 19952.180\n",
            "Epoch 63/77.. Train loss: 3.196.. Val loss: 3.201.. Train L1 norm: 4.959.. Val L1 norm: 11.717.. Train Linf norm: 4725.448.. Val Linf norm: 20249.781\n",
            "Epoch 64/77.. Train loss: 3.176.. Val loss: 3.174.. Train L1 norm: 6.082.. Val L1 norm: 11.547.. Train Linf norm: 7059.442.. Val Linf norm: 19934.604\n",
            "Epoch 65/77.. Train loss: 3.173.. Val loss: 3.147.. Train L1 norm: 4.847.. Val L1 norm: 11.054.. Train Linf norm: 4114.815.. Val Linf norm: 18909.919\n",
            "Epoch 66/77.. Train loss: 3.180.. Val loss: 3.177.. Train L1 norm: 5.447.. Val L1 norm: 11.754.. Train Linf norm: 5706.994.. Val Linf norm: 20361.816\n",
            "Epoch 67/77.. Train loss: 3.183.. Val loss: 3.188.. Train L1 norm: 5.189.. Val L1 norm: 11.522.. Train Linf norm: 5176.204.. Val Linf norm: 19925.177\n",
            "Epoch 68/77.. Train loss: 3.179.. Val loss: 3.160.. Train L1 norm: 5.859.. Val L1 norm: 11.447.. Train Linf norm: 6463.996.. Val Linf norm: 19744.552\n",
            "Epoch 69/77.. Train loss: 3.173.. Val loss: 3.174.. Train L1 norm: 4.751.. Val L1 norm: 11.007.. Train Linf norm: 4153.629.. Val Linf norm: 18851.080\n",
            "Epoch 70/77.. Train loss: 3.181.. Val loss: 3.190.. Train L1 norm: 4.922.. Val L1 norm: 12.152.. Train Linf norm: 4516.529.. Val Linf norm: 21240.424\n",
            "Epoch 71/77.. Train loss: 3.203.. Val loss: 3.152.. Train L1 norm: 5.327.. Val L1 norm: 11.886.. Train Linf norm: 5493.987.. Val Linf norm: 20660.218\n",
            "Epoch 72/77.. Train loss: 3.150.. Val loss: 3.146.. Train L1 norm: 5.424.. Val L1 norm: 11.656.. Train Linf norm: 5736.815.. Val Linf norm: 20177.625\n",
            "Epoch 73/77.. Train loss: 3.168.. Val loss: 3.172.. Train L1 norm: 4.812.. Val L1 norm: 11.682.. Train Linf norm: 4324.814.. Val Linf norm: 20270.737\n",
            "Epoch 74/77.. Train loss: 3.172.. Val loss: 3.155.. Train L1 norm: 6.346.. Val L1 norm: 11.498.. Train Linf norm: 7572.286.. Val Linf norm: 19877.238\n",
            "Epoch 75/77.. Train loss: 3.160.. Val loss: 3.161.. Train L1 norm: 6.216.. Val L1 norm: 11.195.. Train Linf norm: 7357.208.. Val Linf norm: 19316.768\n",
            "Epoch 76/77.. Train loss: 3.147.. Val loss: 3.145.. Train L1 norm: 4.785.. Val L1 norm: 11.146.. Train Linf norm: 4251.732.. Val Linf norm: 19184.562\n"
          ]
        },
        {
          "name": "stderr",
          "output_type": "stream",
          "text": [
            "\u001b[32m[I 2023-05-29 12:33:07,916]\u001b[0m Trial 10 finished with value: 11.636877489293417 and parameters: {'n_layers': 8, 'n_units_0': 751, 'n_units_1': 790, 'n_units_2': 3628, 'n_units_3': 2466, 'n_units_4': 1744, 'n_units_5': 3469, 'n_units_6': 1376, 'n_units_7': 1460, 'hidden_activation': 'ReLU', 'output_activation': 'Linear', 'loss': 'MAE', 'optimizer': 'RMSprop', 'lr': 9.63994760687192e-06, 'batch_size': 2048, 'n_epochs': 77, 'scheduler': 'StepLR', 'dropout_rate': 0.07861074937660711, 'step_size': 15, 'gamma': 0.48528659869420776}. Best is trial 3 with value: 4.638279157714844.\u001b[0m\n"
          ]
        },
        {
          "name": "stdout",
          "output_type": "stream",
          "text": [
            "Epoch 77/77.. Train loss: 3.168.. Val loss: 3.166.. Train L1 norm: 6.373.. Val L1 norm: 11.637.. Train Linf norm: 7590.316.. Val Linf norm: 20212.534\n"
          ]
        },
        {
          "name": "stderr",
          "output_type": "stream",
          "text": [
            "<ipython-input-77-ddc3c9d46736>:149: FutureWarning: suggest_loguniform has been deprecated in v3.0.0. This feature will be removed in v6.0.0. See https://github.com/optuna/optuna/releases/tag/v3.0.0. Use :func:`~optuna.trial.Trial.suggest_float` instead.\n",
            "  weight_decay = trial.suggest_loguniform(\"weight_decay\", 1e-5, 1e-2)\n",
            "<ipython-input-77-ddc3c9d46736>:150: FutureWarning: suggest_uniform has been deprecated in v3.0.0. This feature will be removed in v6.0.0. See https://github.com/optuna/optuna/releases/tag/v3.0.0. Use :func:`~optuna.trial.Trial.suggest_float` instead.\n",
            "  beta1 = trial.suggest_uniform(\"beta1\", 0.9, 0.999)\n",
            "<ipython-input-77-ddc3c9d46736>:151: FutureWarning: suggest_uniform has been deprecated in v3.0.0. This feature will be removed in v6.0.0. See https://github.com/optuna/optuna/releases/tag/v3.0.0. Use :func:`~optuna.trial.Trial.suggest_float` instead.\n",
            "  beta2 = trial.suggest_uniform(\"beta2\", 0.999, 0.9999)\n",
            "\u001b[32m[I 2023-05-29 12:34:01,278]\u001b[0m Trial 11 pruned. \u001b[0m\n"
          ]
        },
        {
          "name": "stdout",
          "output_type": "stream",
          "text": [
            "Epoch 1/57.. Train loss: 930367617998459371520.000.. Val loss: 525231558.642.. Train L1 norm: 179271851.749.. Val L1 norm: 174029.058.. Train Linf norm: 7788833173.850.. Val Linf norm: 10198360.545\n"
          ]
        },
        {
          "name": "stderr",
          "output_type": "stream",
          "text": [
            "\u001b[32m[I 2023-05-29 12:35:28,298]\u001b[0m Trial 12 pruned. \u001b[0m\n"
          ]
        },
        {
          "name": "stdout",
          "output_type": "stream",
          "text": [
            "Epoch 1/147.. Train loss: 172147194439.625.. Val loss: 3.820.. Train L1 norm: 129169061436.821.. Val L1 norm: 24.518.. Train Linf norm: 3980181137802.758.. Val Linf norm: 2830.475\n"
          ]
        },
        {
          "name": "stderr",
          "output_type": "stream",
          "text": [
            "\u001b[32m[I 2023-05-29 12:36:19,733]\u001b[0m Trial 13 pruned. \u001b[0m\n"
          ]
        },
        {
          "name": "stdout",
          "output_type": "stream",
          "text": [
            "Epoch 1/112.. Train loss: 17932.523.. Val loss: 21.963.. Train L1 norm: 35107.024.. Val L1 norm: 108.205.. Train Linf norm: 1710530.134.. Val Linf norm: 6409.245\n",
            "Epoch 1/71.. Train loss: 4.024.. Val loss: 3.097.. Train L1 norm: 5.750.. Val L1 norm: 13.854.. Train Linf norm: 255.930.. Val Linf norm: 757.534\n",
            "Epoch 2/71.. Train loss: 2.714.. Val loss: 2.224.. Train L1 norm: 4.210.. Val L1 norm: 6.280.. Train Linf norm: 187.721.. Val Linf norm: 330.672\n",
            "Epoch 3/71.. Train loss: 3.234.. Val loss: 2.320.. Train L1 norm: 3.585.. Val L1 norm: 7.147.. Train Linf norm: 155.747.. Val Linf norm: 379.531\n",
            "Epoch 4/71.. Train loss: 48.830.. Val loss: 2.339.. Train L1 norm: 6.159.. Val L1 norm: 3.926.. Train Linf norm: 325.411.. Val Linf norm: 169.513\n",
            "Epoch 5/71.. Train loss: 300.325.. Val loss: 2.321.. Train L1 norm: 37.231.. Val L1 norm: 8.524.. Train Linf norm: 2316.538.. Val Linf norm: 478.828\n",
            "Epoch 6/71.. Train loss: 1347.967.. Val loss: 1.904.. Train L1 norm: 194.191.. Val L1 norm: 6.727.. Train Linf norm: 12363.302.. Val Linf norm: 376.632\n",
            "Epoch 7/71.. Train loss: 35.956.. Val loss: 2.109.. Train L1 norm: 7.903.. Val L1 norm: 4.585.. Train Linf norm: 441.799.. Val Linf norm: 232.246\n",
            "Epoch 8/71.. Train loss: 199.811.. Val loss: 89.777.. Train L1 norm: 37.183.. Val L1 norm: 18.286.. Train Linf norm: 2148.016.. Val Linf norm: 1110.950\n",
            "Epoch 9/71.. Train loss: 23503.859.. Val loss: 2.040.. Train L1 norm: 3504.669.. Val L1 norm: 4.947.. Train Linf norm: 224234.857.. Val Linf norm: 255.728\n",
            "Epoch 10/71.. Train loss: 3246.305.. Val loss: 1.907.. Train L1 norm: 624.506.. Val L1 norm: 6.036.. Train Linf norm: 39869.853.. Val Linf norm: 335.868\n",
            "Epoch 11/71.. Train loss: 13272.233.. Val loss: 2.110.. Train L1 norm: 3112.990.. Val L1 norm: 3.498.. Train Linf norm: 199168.612.. Val Linf norm: 158.226\n",
            "Epoch 12/71.. Train loss: 189.868.. Val loss: 5.785.. Train L1 norm: 46.675.. Val L1 norm: 5.335.. Train Linf norm: 2925.303.. Val Linf norm: 281.933\n",
            "Epoch 13/71.. Train loss: 28.418.. Val loss: 2.186.. Train L1 norm: 7.713.. Val L1 norm: 3.637.. Train Linf norm: 430.786.. Val Linf norm: 174.267\n",
            "Epoch 14/71.. Train loss: 48703.893.. Val loss: 2.375.. Train L1 norm: 6427.733.. Val L1 norm: 4.485.. Train Linf norm: 411314.730.. Val Linf norm: 231.541\n",
            "Epoch 15/71.. Train loss: 4884.796.. Val loss: 59.279.. Train L1 norm: 447.049.. Val L1 norm: 11.745.. Train Linf norm: 28527.594.. Val Linf norm: 676.828\n",
            "Epoch 16/71.. Train loss: 29.225.. Val loss: 69.157.. Train L1 norm: 6.733.. Val L1 norm: 12.577.. Train Linf norm: 371.856.. Val Linf norm: 752.079\n",
            "Epoch 17/71.. Train loss: 9189.003.. Val loss: 31.144.. Train L1 norm: 1979.705.. Val L1 norm: 7.325.. Train Linf norm: 126643.648.. Val Linf norm: 409.282\n",
            "Epoch 18/71.. Train loss: 237.652.. Val loss: 30.777.. Train L1 norm: 17.383.. Val L1 norm: 7.758.. Train Linf norm: 1055.375.. Val Linf norm: 438.180\n",
            "Epoch 19/71.. Train loss: 34934.671.. Val loss: 134.896.. Train L1 norm: 3404.310.. Val L1 norm: 19.213.. Train Linf norm: 217818.961.. Val Linf norm: 1176.820\n",
            "Epoch 20/71.. Train loss: 32.289.. Val loss: 1387.989.. Train L1 norm: 6.384.. Val L1 norm: 247.642.. Train Linf norm: 352.306.. Val Linf norm: 15788.731\n",
            "Epoch 21/71.. Train loss: 1789.555.. Val loss: 749.215.. Train L1 norm: 323.197.. Val L1 norm: 87.572.. Train Linf norm: 20628.061.. Val Linf norm: 5549.258\n",
            "Epoch 22/71.. Train loss: 49250.508.. Val loss: 306.275.. Train L1 norm: 6548.340.. Val L1 norm: 38.489.. Train Linf norm: 419037.636.. Val Linf norm: 2404.985\n",
            "Epoch 23/71.. Train loss: 40.590.. Val loss: 109.105.. Train L1 norm: 7.914.. Val L1 norm: 18.433.. Train Linf norm: 451.498.. Val Linf norm: 1124.670\n",
            "Epoch 24/71.. Train loss: 245026.274.. Val loss: 1.882.. Train L1 norm: 32200.425.. Val L1 norm: 4.495.. Train Linf norm: 2060772.276.. Val Linf norm: 235.541\n",
            "Epoch 25/71.. Train loss: 10005.588.. Val loss: 57.648.. Train L1 norm: 1322.371.. Val L1 norm: 9.195.. Train Linf norm: 84576.866.. Val Linf norm: 533.664\n",
            "Epoch 26/71.. Train loss: 357.659.. Val loss: 407.013.. Train L1 norm: 21.510.. Val L1 norm: 49.562.. Train Linf norm: 1321.791.. Val Linf norm: 3120.660\n",
            "Epoch 27/71.. Train loss: 33.650.. Val loss: 150.507.. Train L1 norm: 8.987.. Val L1 norm: 19.753.. Train Linf norm: 520.467.. Val Linf norm: 1205.054\n",
            "Epoch 28/71.. Train loss: 8.571.. Val loss: 3.867.. Train L1 norm: 3.988.. Val L1 norm: 4.374.. Train Linf norm: 199.836.. Val Linf norm: 229.491\n",
            "Epoch 29/71.. Train loss: 17219.875.. Val loss: 1.868.. Train L1 norm: 1056.506.. Val L1 norm: 3.336.. Train Linf norm: 67561.915.. Val Linf norm: 155.779\n",
            "Epoch 30/71.. Train loss: 3535.611.. Val loss: 392.791.. Train L1 norm: 975.830.. Val L1 norm: 48.263.. Train Linf norm: 62399.006.. Val Linf norm: 3037.456\n",
            "Epoch 31/71.. Train loss: 114.334.. Val loss: 105945.764.. Train L1 norm: 10.820.. Val L1 norm: 19267.605.. Train Linf norm: 638.513.. Val Linf norm: 1233072.986\n",
            "Epoch 32/71.. Train loss: 33182.277.. Val loss: 1.954.. Train L1 norm: 6549.589.. Val L1 norm: 2.233.. Train Linf norm: 419119.813.. Val Linf norm: 88.541\n",
            "Epoch 33/71.. Train loss: 27.788.. Val loss: 1.909.. Train L1 norm: 7.686.. Val L1 norm: 3.321.. Train Linf norm: 438.206.. Val Linf norm: 156.351\n",
            "Epoch 34/71.. Train loss: 95.923.. Val loss: 1313.225.. Train L1 norm: 27.112.. Val L1 norm: 152.219.. Train Linf norm: 1681.788.. Val Linf norm: 9690.934\n",
            "Epoch 35/71.. Train loss: 5875.123.. Val loss: 547.751.. Train L1 norm: 1281.416.. Val L1 norm: 65.226.. Train Linf norm: 81957.335.. Val Linf norm: 4118.630\n",
            "Epoch 36/71.. Train loss: 24497.485.. Val loss: 1.666.. Train L1 norm: 2818.348.. Val L1 norm: 3.790.. Train Linf norm: 180321.493.. Val Linf norm: 192.693\n",
            "Epoch 37/71.. Train loss: 87.268.. Val loss: 1.830.. Train L1 norm: 21.104.. Val L1 norm: 2.708.. Train Linf norm: 1297.524.. Val Linf norm: 120.918\n",
            "Epoch 38/71.. Train loss: 2462.119.. Val loss: 91.614.. Train L1 norm: 344.685.. Val L1 norm: 14.764.. Train Linf norm: 22007.244.. Val Linf norm: 896.140\n",
            "Epoch 39/71.. Train loss: 38180.306.. Val loss: 2.846.. Train L1 norm: 2895.936.. Val L1 norm: 3.100.. Train Linf norm: 185286.692.. Val Linf norm: 140.067\n",
            "Epoch 40/71.. Train loss: 19507.580.. Val loss: 1.771.. Train L1 norm: 1146.867.. Val L1 norm: 3.605.. Train Linf norm: 73346.865.. Val Linf norm: 182.124\n",
            "Epoch 41/71.. Train loss: 151079.928.. Val loss: 718.680.. Train L1 norm: 18250.887.. Val L1 norm: 84.708.. Train Linf norm: 1168003.628.. Val Linf norm: 5366.765\n",
            "Epoch 42/71.. Train loss: 93.887.. Val loss: 301.234.. Train L1 norm: 55.961.. Val L1 norm: 40.225.. Train Linf norm: 3527.895.. Val Linf norm: 2510.626\n",
            "Epoch 43/71.. Train loss: 12345.256.. Val loss: 451.256.. Train L1 norm: 1991.991.. Val L1 norm: 54.278.. Train Linf norm: 127434.596.. Val Linf norm: 3419.239\n",
            "Epoch 44/71.. Train loss: 192952.333.. Val loss: 11.859.. Train L1 norm: 18682.193.. Val L1 norm: 4.301.. Train Linf norm: 1195605.266.. Val Linf norm: 219.532\n",
            "Epoch 45/71.. Train loss: 3872884.480.. Val loss: 8.288.. Train L1 norm: 510791.928.. Val L1 norm: 3.041.. Train Linf norm: 32690630.752.. Val Linf norm: 142.328\n",
            "Epoch 46/71.. Train loss: 71.677.. Val loss: 289.970.. Train L1 norm: 10.201.. Val L1 norm: 35.707.. Train Linf norm: 601.182.. Val Linf norm: 2231.326\n",
            "Epoch 47/71.. Train loss: 24.478.. Val loss: 1794.563.. Train L1 norm: 4.037.. Val L1 norm: 207.144.. Train Linf norm: 207.081.. Val Linf norm: 13209.888\n",
            "Epoch 48/71.. Train loss: 7590.687.. Val loss: 836.050.. Train L1 norm: 893.265.. Val L1 norm: 97.604.. Train Linf norm: 57117.681.. Val Linf norm: 6193.041\n",
            "Epoch 49/71.. Train loss: 14002.844.. Val loss: 471.061.. Train L1 norm: 986.456.. Val L1 norm: 56.094.. Train Linf norm: 63081.879.. Val Linf norm: 3537.045\n",
            "Epoch 50/71.. Train loss: 309959.436.. Val loss: 382.295.. Train L1 norm: 40540.759.. Val L1 norm: 47.023.. Train Linf norm: 2594557.565.. Val Linf norm: 2957.230\n",
            "Epoch 51/71.. Train loss: 5558.904.. Val loss: 1126.037.. Train L1 norm: 466.097.. Val L1 norm: 131.287.. Train Linf norm: 29779.094.. Val Linf norm: 8348.363\n",
            "Epoch 52/71.. Train loss: 44.077.. Val loss: 508.655.. Train L1 norm: 4.689.. Val L1 norm: 60.429.. Train Linf norm: 248.902.. Val Linf norm: 3814.516\n",
            "Epoch 53/71.. Train loss: 88499.568.. Val loss: 867.078.. Train L1 norm: 8556.551.. Val L1 norm: 101.123.. Train Linf norm: 547568.602.. Val Linf norm: 6418.256\n",
            "Epoch 54/71.. Train loss: 2536.869.. Val loss: 175.748.. Train L1 norm: 251.451.. Val L1 norm: 22.824.. Train Linf norm: 16042.229.. Val Linf norm: 1409.521\n",
            "Epoch 55/71.. Train loss: 10482.763.. Val loss: 156.338.. Train L1 norm: 3182.096.. Val L1 norm: 20.026.. Train Linf norm: 203603.582.. Val Linf norm: 1227.221\n",
            "Epoch 56/71.. Train loss: 699.956.. Val loss: 87.883.. Train L1 norm: 94.062.. Val L1 norm: 12.324.. Train Linf norm: 5970.041.. Val Linf norm: 737.640\n",
            "Epoch 57/71.. Train loss: 356.627.. Val loss: 4.862.. Train L1 norm: 45.431.. Val L1 norm: 3.266.. Train Linf norm: 2857.213.. Val Linf norm: 158.063\n",
            "Epoch 58/71.. Train loss: 5389.142.. Val loss: 125.798.. Train L1 norm: 446.844.. Val L1 norm: 17.038.. Train Linf norm: 28547.614.. Val Linf norm: 1040.004\n",
            "Epoch 59/71.. Train loss: 121.648.. Val loss: 497.540.. Train L1 norm: 13.478.. Val L1 norm: 58.986.. Train Linf norm: 812.694.. Val Linf norm: 3722.994\n",
            "Epoch 60/71.. Train loss: 20221.726.. Val loss: 338.037.. Train L1 norm: 1081.884.. Val L1 norm: 41.036.. Train Linf norm: 69190.729.. Val Linf norm: 2572.867\n",
            "Epoch 61/71.. Train loss: 6912.422.. Val loss: 74.537.. Train L1 norm: 783.548.. Val L1 norm: 11.041.. Train Linf norm: 50097.190.. Val Linf norm: 650.885\n",
            "Epoch 62/71.. Train loss: 23.571.. Val loss: 367.633.. Train L1 norm: 9.097.. Val L1 norm: 43.952.. Train Linf norm: 532.493.. Val Linf norm: 2762.101\n",
            "Epoch 63/71.. Train loss: 19843.803.. Val loss: 555.553.. Train L1 norm: 1920.672.. Val L1 norm: 67.251.. Train Linf norm: 122873.064.. Val Linf norm: 4252.093\n",
            "Epoch 64/71.. Train loss: 2240.253.. Val loss: 285.913.. Train L1 norm: 349.292.. Val L1 norm: 36.046.. Train Linf norm: 22304.921.. Val Linf norm: 2254.026\n",
            "Epoch 65/71.. Train loss: 279.130.. Val loss: 406.460.. Train L1 norm: 15.396.. Val L1 norm: 49.143.. Train Linf norm: 935.957.. Val Linf norm: 3092.721\n",
            "Epoch 66/71.. Train loss: 224.531.. Val loss: 461.256.. Train L1 norm: 28.430.. Val L1 norm: 55.204.. Train Linf norm: 1769.705.. Val Linf norm: 3478.274\n",
            "Epoch 67/71.. Train loss: 77108.042.. Val loss: 299.669.. Train L1 norm: 10139.390.. Val L1 norm: 36.569.. Train Linf norm: 648871.123.. Val Linf norm: 2287.774\n",
            "Epoch 68/71.. Train loss: 5.896.. Val loss: 294.939.. Train L1 norm: 10.960.. Val L1 norm: 36.263.. Train Linf norm: 652.290.. Val Linf norm: 2268.753\n",
            "Epoch 69/71.. Train loss: 1.997.. Val loss: 480.308.. Train L1 norm: 2.618.. Val L1 norm: 57.136.. Train Linf norm: 117.806.. Val Linf norm: 3605.843\n",
            "Epoch 70/71.. Train loss: 52114.726.. Val loss: 159.098.. Train L1 norm: 8788.892.. Val L1 norm: 20.735.. Train Linf norm: 562439.495.. Val Linf norm: 1275.284\n"
          ]
        },
        {
          "name": "stderr",
          "output_type": "stream",
          "text": [
            "\u001b[32m[I 2023-05-29 13:54:05,911]\u001b[0m Trial 14 finished with value: 68.87972528148651 and parameters: {'n_layers': 10, 'n_units_0': 2778, 'n_units_1': 3199, 'n_units_2': 149, 'n_units_3': 3188, 'n_units_4': 2773, 'n_units_5': 2457, 'n_units_6': 410, 'n_units_7': 2154, 'n_units_8': 217, 'n_units_9': 3902, 'hidden_activation': 'PReLU', 'output_activation': 'Linear', 'loss': 'MAE', 'optimizer': 'RMSprop', 'lr': 0.0001446398872230531, 'batch_size': 64, 'n_epochs': 71, 'scheduler': 'ReduceLROnPlateau', 'prelu_init': 0.13758429169260628, 'dropout_rate': 0.15943260070209342, 'factor': 0.37115578163684637, 'patience': 8, 'threshold': 0.002811755720557475}. Best is trial 3 with value: 4.638279157714844.\u001b[0m\n"
          ]
        },
        {
          "name": "stdout",
          "output_type": "stream",
          "text": [
            "Epoch 71/71.. Train loss: 7402.731.. Val loss: 581.461.. Train L1 norm: 785.299.. Val L1 norm: 68.880.. Train Linf norm: 50210.025.. Val Linf norm: 4354.779\n"
          ]
        },
        {
          "name": "stderr",
          "output_type": "stream",
          "text": [
            "<ipython-input-77-ddc3c9d46736>:73: FutureWarning: suggest_uniform has been deprecated in v3.0.0. This feature will be removed in v6.0.0. See https://github.com/optuna/optuna/releases/tag/v3.0.0. Use :func:`~optuna.trial.Trial.suggest_float` instead.\n",
            "  beta = trial.suggest_uniform(\"softplus_beta\", 0.5, 1.5)\n",
            "\u001b[32m[I 2023-05-29 13:54:22,184]\u001b[0m Trial 15 pruned. \u001b[0m\n"
          ]
        },
        {
          "name": "stdout",
          "output_type": "stream",
          "text": [
            "Epoch 1/66.. Train loss: 2.263.. Val loss: 2.149.. Train L1 norm: 7.455.. Val L1 norm: 23.205.. Train Linf norm: 4196.729.. Val Linf norm: 20507.170\n",
            "Epoch 1/106.. Train loss: 1.614.. Val loss: 1.273.. Train L1 norm: 5.489.. Val L1 norm: 6.069.. Train Linf norm: 473.514.. Val Linf norm: 600.887\n",
            "Epoch 2/106.. Train loss: 1.267.. Val loss: 1.125.. Train L1 norm: 4.056.. Val L1 norm: 5.840.. Train Linf norm: 342.791.. Val Linf norm: 585.027\n",
            "Epoch 3/106.. Train loss: 1.199.. Val loss: 1.092.. Train L1 norm: 3.711.. Val L1 norm: 3.680.. Train Linf norm: 309.327.. Val Linf norm: 309.085\n",
            "Epoch 4/106.. Train loss: 1.146.. Val loss: 1.030.. Train L1 norm: 4.069.. Val L1 norm: 5.971.. Train Linf norm: 362.515.. Val Linf norm: 629.212\n",
            "Epoch 5/106.. Train loss: 1.112.. Val loss: 1.034.. Train L1 norm: 3.832.. Val L1 norm: 6.299.. Train Linf norm: 339.004.. Val Linf norm: 670.749\n",
            "Epoch 6/106.. Train loss: 1.082.. Val loss: 0.973.. Train L1 norm: 3.771.. Val L1 norm: 3.337.. Train Linf norm: 334.714.. Val Linf norm: 298.658\n",
            "Epoch 7/106.. Train loss: 1.054.. Val loss: 0.961.. Train L1 norm: 3.541.. Val L1 norm: 5.158.. Train Linf norm: 308.809.. Val Linf norm: 520.018\n",
            "Epoch 8/106.. Train loss: 1.050.. Val loss: 0.985.. Train L1 norm: 2.933.. Val L1 norm: 5.964.. Train Linf norm: 235.310.. Val Linf norm: 653.087\n",
            "Epoch 9/106.. Train loss: 1.017.. Val loss: 0.968.. Train L1 norm: 3.700.. Val L1 norm: 3.750.. Train Linf norm: 335.794.. Val Linf norm: 360.688\n",
            "Epoch 10/106.. Train loss: 0.990.. Val loss: 0.929.. Train L1 norm: 3.150.. Val L1 norm: 4.153.. Train Linf norm: 268.192.. Val Linf norm: 393.417\n",
            "Epoch 11/106.. Train loss: 0.975.. Val loss: 0.926.. Train L1 norm: 3.262.. Val L1 norm: 3.703.. Train Linf norm: 285.483.. Val Linf norm: 343.731\n",
            "Epoch 12/106.. Train loss: 0.961.. Val loss: 0.901.. Train L1 norm: 3.908.. Val L1 norm: 3.760.. Train Linf norm: 371.758.. Val Linf norm: 372.721\n",
            "Epoch 13/106.. Train loss: 1.514.. Val loss: 1.815.. Train L1 norm: 3.260.. Val L1 norm: 4.057.. Train Linf norm: 290.172.. Val Linf norm: 398.797\n",
            "Epoch 14/106.. Train loss: 1.111.. Val loss: 0.871.. Train L1 norm: 2.697.. Val L1 norm: 5.090.. Train Linf norm: 221.453.. Val Linf norm: 539.762\n",
            "Epoch 15/106.. Train loss: 0.971.. Val loss: 0.853.. Train L1 norm: 3.121.. Val L1 norm: 4.078.. Train Linf norm: 276.928.. Val Linf norm: 426.289\n",
            "Epoch 16/106.. Train loss: 0.975.. Val loss: 0.881.. Train L1 norm: 2.802.. Val L1 norm: 3.662.. Train Linf norm: 238.503.. Val Linf norm: 333.951\n",
            "Epoch 17/106.. Train loss: 3.423.. Val loss: 0.834.. Train L1 norm: 4.374.. Val L1 norm: 3.642.. Train Linf norm: 441.208.. Val Linf norm: 355.393\n",
            "Epoch 18/106.. Train loss: 0.889.. Val loss: 0.816.. Train L1 norm: 3.726.. Val L1 norm: 3.674.. Train Linf norm: 359.660.. Val Linf norm: 375.196\n",
            "Epoch 19/106.. Train loss: 0.942.. Val loss: 0.804.. Train L1 norm: 2.934.. Val L1 norm: 2.494.. Train Linf norm: 260.860.. Val Linf norm: 226.603\n",
            "Epoch 20/106.. Train loss: 0.871.. Val loss: 0.800.. Train L1 norm: 2.875.. Val L1 norm: 2.860.. Train Linf norm: 254.302.. Val Linf norm: 259.205\n",
            "Epoch 21/106.. Train loss: 0.859.. Val loss: 0.801.. Train L1 norm: 2.830.. Val L1 norm: 5.569.. Train Linf norm: 249.606.. Val Linf norm: 617.413\n",
            "Epoch 22/106.. Train loss: 0.851.. Val loss: 0.782.. Train L1 norm: 2.497.. Val L1 norm: 3.730.. Train Linf norm: 208.337.. Val Linf norm: 387.988\n",
            "Epoch 23/106.. Train loss: 0.850.. Val loss: 0.799.. Train L1 norm: 2.433.. Val L1 norm: 2.880.. Train Linf norm: 201.929.. Val Linf norm: 261.183\n",
            "Epoch 24/106.. Train loss: 0.889.. Val loss: 0.786.. Train L1 norm: 2.569.. Val L1 norm: 3.059.. Train Linf norm: 219.825.. Val Linf norm: 302.663\n",
            "Epoch 25/106.. Train loss: 0.833.. Val loss: 0.771.. Train L1 norm: 2.456.. Val L1 norm: 4.621.. Train Linf norm: 206.432.. Val Linf norm: 495.340\n",
            "Epoch 26/106.. Train loss: 0.824.. Val loss: 0.764.. Train L1 norm: 2.910.. Val L1 norm: 2.156.. Train Linf norm: 266.209.. Val Linf norm: 194.092\n",
            "Epoch 27/106.. Train loss: 0.819.. Val loss: 0.776.. Train L1 norm: 2.363.. Val L1 norm: 2.373.. Train Linf norm: 198.176.. Val Linf norm: 203.112\n"
          ]
        }
      ],
      "source": [
        "if OPTIMIZE:\n",
        "    # Creating a study object with Optuna with TPE sampler and median pruner \n",
        "    study = optuna.create_study(direction=\"minimize\", sampler=optuna.samplers.TPESampler(), pruner=optuna.pruners.MedianPruner())\n",
        "\n",
        "    # Running Optuna with 100 trials when we are optimizing.\n",
        "    study.optimize(objective, n_trials=N_TRIALS)\n",
        "\n",
        "    # Printing the best trial information\n",
        "    print(\"Best trial:\")\n",
        "    trial = study.best_trial\n",
        "    print(\"  Value: \", trial.value)\n",
        "    print(\"  Params: \")\n",
        "    for key, value in trial.params.items():\n",
        "        print(f\"    {key}: {value}\")\n"
      ]
    },
    {
      "cell_type": "markdown",
      "metadata": {
        "id": "jmMfE9_dUZiS"
      },
      "source": [
        "## Training the model"
      ]
    },
    {
      "cell_type": "code",
      "execution_count": null,
      "metadata": {
        "id": "phyiHlWEUZiT"
      },
      "outputs": [],
      "source": [
        "# Creating the best network and optimizer using the best hyperparameters\n",
        "if OPTIMIZE:\n",
        "    net, \\\n",
        "    loss_fn, \\\n",
        "    optimizer, \\\n",
        "    batch_size, \\\n",
        "    n_epochs, \\\n",
        "    scheduler, \\\n",
        "    loss_name, \\\n",
        "    optimizer_name, \\\n",
        "    scheduler_name, \\\n",
        "    n_units, \\\n",
        "    n_layers, \\\n",
        "    hidden_activation, \\\n",
        "    output_activation, \\\n",
        "    lr, \\\n",
        "    dropout_rate = create_model(trial, optimize=True)\n",
        "\n",
        "# Creating the network with predefined hyperparameters\n",
        "else:\n",
        "    net, \\\n",
        "    loss_fn, \\\n",
        "    optimizer, \\\n",
        "    batch_size, \\\n",
        "    n_epochs, \\\n",
        "    scheduler, \\\n",
        "    loss_name, \\\n",
        "    optimizer_name, \\\n",
        "    scheduler_name, \\\n",
        "    n_units, \\\n",
        "    n_layers, \\\n",
        "    hidden_activation, \\\n",
        "    output_activation, \\\n",
        "    lr, \\\n",
        "    dropout_rate = create_model(trial=None, optimize=True)"
      ]
    },
    {
      "cell_type": "code",
      "execution_count": null,
      "metadata": {
        "id": "_yq-oY81UZiU"
      },
      "outputs": [],
      "source": [
        "print(\"loss_fn:\", net)\n",
        "print(\"loss_fn:\", loss_fn)\n",
        "print(\"batch_size:\", batch_size)\n",
        "print(\"n_epochs:\", n_epochs)\n",
        "print(\"scheduler:\", scheduler)\n",
        "print(\"loss_name:\", loss_name)\n",
        "print(\"optimizer_name:\", optimizer_name)\n",
        "print(\"scheduler_name:\", scheduler_name)\n",
        "print(\"n_units:\", n_units)\n",
        "print(\"n_layers:\", n_layers)\n",
        "print(\"hidden_activation:\", hidden_activation)\n",
        "print(\"output_activation:\", output_activation)\n",
        "print(\"lr\", lr)\n",
        "print(\"dropout_rate\", dropout_rate)"
      ]
    },
    {
      "cell_type": "markdown",
      "metadata": {
        "id": "E7aLWdZyUZiW",
        "outputId": "8fb1e8c6-5aa3-43a1-a255-712cf9396d0c"
      },
      "source": [
        "After optimizing with Optuna and deciding on the best hyperparameters, we combine the training and validatin set, using that as the new training set for training the model, and then evaluate the model on the test set"
      ]
    },
    {
      "cell_type": "code",
      "execution_count": null,
      "metadata": {
        "id": "wTPX6lHCyUfc"
      },
      "outputs": [],
      "source": [
        "x_train_val = torch.cat((x_train, x_val), 0)\n",
        "y_train_val = torch.cat((y_train, y_val), 0)\n",
        "\n",
        "train_val_loader = torch.utils.data.DataLoader(\n",
        "    torch.utils.data.TensorDataset(x_train_val, y_train_val), batch_size=batch_size, shuffle=True\n",
        ")\n",
        "test_loader = torch.utils.data.DataLoader(\n",
        "    torch.utils.data.TensorDataset(x_test, y_test), batch_size=batch_size\n",
        ")\n",
        "\n",
        "train_losses, _, test_losses, train_metrics, _, test_metrics, = train_and_eval(\n",
        "    net, loss_fn, optimizer, batch_size, n_epochs, scheduler, train_val_loader, None, test_loader, None\n",
        ")"
      ]
    },
    {
      "cell_type": "markdown",
      "metadata": {
        "id": "akNucrgMUZiW"
      },
      "source": [
        "## Saving"
      ]
    },
    {
      "cell_type": "code",
      "execution_count": null,
      "metadata": {
        "id": "LHsrs2Y-UZic"
      },
      "outputs": [],
      "source": [
        "# create a dictionary to store the rest of the variables\n",
        "import json\n",
        "\n",
        "# save the network to a .pth file\n",
        "torch.save(net.state_dict(), \"net.pth\")\n",
        "save_file(\"net.pth\")\n",
        "\n",
        "# save the optimizer to a .pth file\n",
        "torch.save(optimizer.state_dict(), \"optimizer.pth\")\n",
        "save_file(\"optimizer.pth\")\n",
        "\n",
        "# save the scheduler to a .pth file if it is not None\n",
        "if scheduler is not None:\n",
        "  torch.save(scheduler.state_dict(), \"scheduler.pth\")\n",
        "  save_file(\"scheduler.pth\")\n",
        "\n",
        "# create a dictionary to store the rest of the variables\n",
        "if isinstance(hidden_activation.__class__.__name__, list):\n",
        "    hidden_activation_name = hidden_activation.__class__.__name__[0]\n",
        "else:\n",
        "    hidden_activation_name = hidden_activation.__class__.__name__\n",
        "\n",
        "if isinstance(output_activation.__class__.__name__, list):\n",
        "    output_activation_name = output_activation.__class__.__name__[0]\n",
        "else:\n",
        "    output_activation_name = output_activation.__class__.__name__\n",
        "\n",
        "var_dict = {\n",
        "  \"batch_size\": batch_size,\n",
        "  \"n_epochs\": n_epochs,\n",
        "  \"loss_name\": loss_name,\n",
        "  \"optimizer_name\": optimizer_name,\n",
        "  \"scheduler_name\": scheduler_name,\n",
        "  \"n_units\": n_units,\n",
        "  \"n_layers\": n_layers,\n",
        "  \"hidden_activation_name\": hidden_activation_name,\n",
        "  \"output_activation_name\": output_activation_name,\n",
        "  \"lr\": lr,\n",
        "  \"dropout_rate\": dropout_rate\n",
        "}\n",
        "\n",
        "# Adding the subparameters to the var_dict for saving\n",
        "if hidden_activation_name == \"LeakyReLU\":\n",
        "  var_dict[\"leakyrelu_slope\"] = hidden_activation.negative_slope\n",
        "elif hidden_activation_name == \"PReLU\":\n",
        "  var_dict[\"prelu_init\"] = hidden_activation.weight.item()  # .item() is needed because weight is a tensor\n",
        "elif hidden_activation_name == \"SoftPlus\":\n",
        "  var_dict[\"softplus_beta\"] = hidden_activation.beta\n",
        "\n",
        "# save the dictionary to a .json file\n",
        "with open(\"var_dict.json\", \"w\") as f:\n",
        "  json.dump(var_dict, f)\n",
        "save_file(\"var_dict.json\")\n",
        "\n",
        "# Saving the output of the training using pandas\n",
        "train_df = pd.DataFrame(\n",
        "    {\n",
        "        \"train_loss\": train_losses,\n",
        "        \"test_loss\": test_losses,\n",
        "        \"train_l1_norm\": [m[\"l1_norm\"] for m in train_metrics],\n",
        "        \"test_l1_norm\": [m[\"l1_norm\"] for m in test_metrics],\n",
        "        \"train_linf_norm\": [m[\"linf_norm\"] for m in train_metrics],\n",
        "        \"test_linf_norm\": [m[\"linf_norm\"] for m in test_metrics],\n",
        "    }\n",
        ")\n",
        "train_df.to_csv(\"train_output.csv\", index=False)\n",
        "save_file(\"train_output.csv\")"
      ]
    },
    {
      "cell_type": "code",
      "execution_count": null,
      "metadata": {
        "id": "DYdsif-7yUfe"
      },
      "outputs": [],
      "source": [
        "[key for key in var_dict.keys()]"
      ]
    },
    {
      "cell_type": "code",
      "execution_count": null,
      "metadata": {
        "id": "-a2djZAjyUfe"
      },
      "outputs": [],
      "source": [
        "#%%script echo skipping\n",
        "\n",
        "hidden_activation_name\n",
        "output_activation_name"
      ]
    },
    {
      "cell_type": "markdown",
      "metadata": {
        "id": "qU23l7dIUZie"
      },
      "source": [
        "## Visualizing the results"
      ]
    },
    {
      "cell_type": "code",
      "execution_count": null,
      "metadata": {
        "id": "cippWZS6UZie"
      },
      "outputs": [],
      "source": [
        "# Plotting the losses and metrics for the best network \n",
        "plt.figure(figsize=(12, 8))\n",
        "#plt.subplot(2, 2, 1)\n",
        "#plt.plot(train_losses, label=\"Train Loss\")\n",
        "#plt.plot(test_losses, label=\"Test Loss\")\n",
        "#plt.xlabel(\"Epoch\")\n",
        "#plt.ylabel(\"Loss\")\n",
        "#plt.legend()\n",
        "plt.subplot(2, 2, 2)\n",
        "plt.plot([m[\"l1_norm\"] for m in train_metrics], label=\"Train L1 Norm\")\n",
        "plt.plot([m[\"l1_norm\"] for m in test_metrics], label=\"Test L1 Norm\")\n",
        "plt.xlabel(\"Epoch\")\n",
        "plt.ylabel(\"L1 Norm\")\n",
        "# Added setting the vertical axis to be in powers of 10\n",
        "plt.yscale(\"log\")\n",
        "# Added setting the vertical axis limits to be from 10^-7 to 10^0\n",
        "plt.ylim(1e-3, 1e2)\n",
        "plt.legend()\n",
        "plt.subplot(2, 2, 3)\n",
        "plt.plot([m[\"linf_norm\"] for m in train_metrics], label=\"Train Linf Norm\")\n",
        "plt.plot([m[\"linf_norm\"] for m in test_metrics], label=\"Test Linf Norm\")\n",
        "plt.xlabel(\"Epoch\")\n",
        "plt.ylabel(\"Linf Norm\")\n",
        "# Added setting the vertical axis to be in powers of 10\n",
        "plt.yscale(\"log\")\n",
        "# Added setting the vertical axis limits to be from 10^-7 to 10^0\n",
        "plt.ylim(1e-3, 1e2)\n",
        "plt.legend()\n",
        "plt.tight_layout()\n",
        "plt.show()\n",
        "\n",
        "# Added plotting MSE of training data and MSE of test data in one plot \n",
        "plt.figure(figsize=(8, 6))\n",
        "plt.plot(train_losses,label=\"training data\")\n",
        "plt.plot(test_losses,label=\"test data\")\n",
        "#if scheduler is not None:\n",
        "#    plt.plot([scheduler.get_last_lr()[0] for _ in range(n_epochs)], label=\"Learning rate\") \n",
        "plt.xlabel(\"Epoch\")\n",
        "plt.ylabel(f\"{loss_name} Loss\")\n",
        "# Added setting the vertical axis to be in powers of 10\n",
        "plt.yscale(\"log\")\n",
        "# Added setting the vertical axis limits to be from 10^-7 to 10^0\n",
        "plt.ylim(1e-7, 1e0)\n",
        "plt.legend()\n",
        "plt.show()"
      ]
    },
    {
      "cell_type": "markdown",
      "metadata": {
        "id": "tiEDutxIUZig"
      },
      "source": [
        "## Loading"
      ]
    },
    {
      "cell_type": "code",
      "execution_count": null,
      "metadata": {
        "id": "p7Mj990wUZih"
      },
      "outputs": [],
      "source": [
        "import json\n",
        "import pandas as pd\n",
        "\n",
        "# load the dictionary from the .json file\n",
        "with open(\"var_dict.json\", \"r\") as f:\n",
        "  var_dict_loaded = json.load(f)\n",
        "\n",
        "# extract the variables from the dictionary\n",
        "batch_size_loaded = var_dict_loaded[\"batch_size\"]\n",
        "n_epochs_loaded = var_dict_loaded[\"n_epochs\"]\n",
        "loss_name_loaded = var_dict_loaded[\"loss_name\"]\n",
        "optimizer_name_loaded = var_dict_loaded[\"optimizer_name\"]\n",
        "scheduler_name_loaded = var_dict_loaded[\"scheduler_name\"]\n",
        "n_units_loaded = var_dict_loaded[\"n_units\"]\n",
        "n_layers_loaded = var_dict_loaded[\"n_layers\"]\n",
        "hidden_activation_name_loaded = var_dict_loaded[\"hidden_activation_name\"]\n",
        "output_activation_name_loaded = var_dict_loaded[\"output_activation_name\"]\n",
        "lr_loaded = var_dict_loaded[\"lr\"]\n",
        "dropout_rate_loaded = var_dict_loaded[\"dropout_rate\"]\n",
        "\n",
        "# Loading the activation functions with subparameters\n",
        "if hidden_activation_name_loaded == \"ReLU\":\n",
        "  hidden_activation_loaded = nn.ReLU()\n",
        "elif hidden_activation_name_loaded == \"LeakyReLU\":\n",
        "  negative_slope_loaded = var_dict_loaded.get(\"leakyrelu_slope\", 0.01)  # For backwards compatibiltiy with earlier models; default to 0.01 if not present\n",
        "  hidden_activation_loaded = nn.LeakyReLU(negative_slope=negative_slope_loaded)\n",
        "elif hidden_activation_name_loaded == \"ELU\":\n",
        "  hidden_activation_loaded = nn.ELU()\n",
        "elif hidden_activation_name_loaded == \"PReLU\":\n",
        "  init_loaded = var_dict_loaded.get(\"prelu_init\", 0.25)  # Default to 0.25 if not present\n",
        "  hidden_activation_loaded = nn.PReLU(init=init_loaded)\n",
        "elif hidden_activation_name_loaded == \"Swish\":\n",
        "    class Swish(nn.Module):\n",
        "        def forward(self, x):\n",
        "            return x * torch.sigmoid(x)\n",
        "    hidden_activation_loaded = Swish()\n",
        "elif hidden_activation_name_loaded == \"GELU\":\n",
        "    hidden_activation_loaded = nn.GELU()\n",
        "elif hidden_activation_name_loaded == \"SoftPlus\":\n",
        "  beta_loaded = var_dict_loaded.get(\"softplus_beta\", 1)  # Default to 1 if not present\n",
        "  hidden_activation_loaded = nn.Softplus(beta=beta_loaded)\n",
        "\n",
        "\n",
        "\n",
        "# We used to have options here, but since we have a regression problem with continuous output, we only use Linear.\n",
        "output_activation_loaded = nn.Identity()\n",
        "\n",
        "# load the network from the .pth file\n",
        "net_loaded = Net(\n",
        "    n_layers_loaded, \n",
        "    n_units_loaded, \n",
        "    hidden_activation_loaded, \n",
        "    output_activation_loaded, \n",
        "    dropout_rate_loaded\n",
        ").to(device)\n",
        "\n",
        "if torch.cuda.is_available():\n",
        " net_loaded.load_state_dict(torch.load(\"net.pth\"))\n",
        "else: \n",
        "  net_loaded.load_state_dict(torch.load(\"net.pth\", map_location=torch.device('cpu')))\n",
        "\n",
        "\n",
        "# Creating the loss function from its name\n",
        "if loss_name_loaded == \"MSE\":\n",
        "    loss_fn_loaded = nn.MSELoss()\n",
        "elif loss_name_loaded == \"MAE\":\n",
        "    loss_fn_loaded = nn.L1Loss()\n",
        "elif loss_name_loaded == \"Huber\":\n",
        "    loss_fn_loaded = nn.SmoothL1Loss() \n",
        "elif loss_name_loaded == \"Quantile\":\n",
        "    def quantile_loss(y_pred, y_true, q=0.5):\n",
        "        e = y_pred - y_true\n",
        "        return torch.mean(torch.max(q*e, (q-1)*e))\n",
        "    loss_fn_loaded = quantile_loss\n",
        "\n",
        "# load the optimizer from the .pth file\n",
        "if torch.cuda.is_available():\n",
        "  optimizer_loaded_state_dict = torch.load(\"optimizer.pth\")\n",
        "else:\n",
        "  optimizer_loaded_state_dict = torch.load(\"optimizer.pth\", map_location=torch.device('cpu'))\n",
        "\n",
        "if optimizer_name_loaded == \"SGD\":\n",
        "  # Added getting the weight decay and momentum parameters from the state dict\n",
        "  weight_decay_loaded = optimizer_loaded_state_dict[\"param_groups\"][0][\"weight_decay\"]\n",
        "  momentum_loaded = optimizer_loaded_state_dict[\"param_groups\"][0][\"momentum\"]\n",
        "  optimizer_loaded = optim.SGD(net_loaded.parameters(), lr=lr_loaded, weight_decay=weight_decay_loaded, momentum=momentum_loaded)\n",
        "elif optimizer_name_loaded == \"Adam\":\n",
        "  # Added getting the weight decay and beta parameters from the state dict\n",
        "  weight_decay_loaded = optimizer_loaded_state_dict[\"param_groups\"][0][\"weight_decay\"]\n",
        "  beta1_loaded = optimizer_loaded_state_dict[\"param_groups\"][0][\"betas\"][0]\n",
        "  beta2_loaded = optimizer_loaded_state_dict[\"param_groups\"][0][\"betas\"][1]\n",
        "  optimizer_loaded = optim.Adam(net_loaded.parameters(), lr=lr_loaded, weight_decay=weight_decay_loaded, betas=(beta1_loaded, beta2_loaded))\n",
        "elif optimizer_name_loaded == \"RMSprop\":\n",
        "  optimizer_loaded = optim.RMSprop(net_loaded.parameters(), lr=lr_loaded)\n",
        "elif optimizer_name_loaded == \"Adagrad\":\n",
        "  # Added loading the Adagrad optimizer\n",
        "  optimizer_loaded = optim.Adagrad(net_loaded.parameters(), lr=lr_loaded)\n",
        "optimizer_loaded.load_state_dict(optimizer_loaded_state_dict)\n",
        "\n",
        "# load the scheduler from the .pth file\n",
        "if torch.cuda.is_available():\n",
        "  scheduler_loaded_state_dict = torch.load(\"scheduler.pth\")\n",
        "else: \n",
        "  scheduler_loaded_state_dict = torch.load(\"scheduler.pth\", map_location=torch.device('cpu'))\n",
        "\n",
        "if scheduler_name_loaded == \"StepLR\":\n",
        "  # Added getting the step_size and gamma parameters from the state dict\n",
        "  step_size_loaded = scheduler_loaded_state_dict[\"step_size\"]\n",
        "  gamma_loaded = scheduler_loaded_state_dict[\"gamma\"]\n",
        "  scheduler_loaded = optim.lr_scheduler.StepLR(optimizer_loaded, step_size=step_size_loaded, gamma=gamma_loaded)\n",
        "elif scheduler_name_loaded == \"ExponentialLR\":\n",
        "  # Added getting the gamma parameter from the state dict\n",
        "  gamma_loaded = scheduler_loaded_state_dict[\"gamma\"]\n",
        "  scheduler_loaded = optim.lr_scheduler.ExponentialLR(optimizer_loaded, gamma=gamma_loaded)\n",
        "elif scheduler_name_loaded == \"CosineAnnealingLR\":\n",
        "  # Added getting the T_max parameter from the state dict\n",
        "  T_max_loaded = scheduler_loaded_state_dict[\"T_max\"]\n",
        "  scheduler_loaded = optim.lr_scheduler.CosineAnnealingLR(optimizer_loaded, T_max=T_max_loaded)\n",
        "elif scheduler_name_loaded == \"ReduceLROnPlateau\":\n",
        "  # Added getting the mode, factor, patience, threshold and min_lr parameters from the state dict\n",
        "  mode_loaded = scheduler_loaded_state_dict[\"mode\"]\n",
        "  factor_loaded = scheduler_loaded_state_dict[\"factor\"]\n",
        "  patience_loaded = scheduler_loaded_state_dict[\"patience\"]\n",
        "  threshold_loaded = scheduler_loaded_state_dict[\"threshold\"]\n",
        "  min_lr_loaded = scheduler_loaded_state_dict[\"min_lrs\"][0]\n",
        "  scheduler_loaded = optim.lr_scheduler.ReduceLROnPlateau(\n",
        "                    optimizer_loaded, mode=mode_loaded, factor=factor_loaded, patience=patience_loaded, threshold=threshold_loaded, min_lr=min_lr_loaded\n",
        "                )\n",
        "elif scheduler_name_loaded == \"CyclicLR\":  # Added CyclicLR\n",
        "    base_lr_loaded = scheduler_loaded_state_dict[\"base_lr\"]\n",
        "    max_lr_loaded = scheduler_loaded_state_dict[\"max_lr\"]\n",
        "    step_size_up_loaded = scheduler_loaded_state_dict[\"step_size_up\"]\n",
        "    scheduler_loaded = optim.lr_scheduler.CyclicLR(\n",
        "                    optimizer, base_lr=base_lr_loaded, max_lr=max_lr_loaded, step_size_up=step_size_up_loaded\n",
        "                )\n",
        "else:\n",
        "  scheduler_loaded = None\n",
        "\n",
        "if scheduler_loaded is not None:\n",
        "  # Added loading the state dict to the scheduler_loaded\n",
        "  scheduler_loaded.load_state_dict(scheduler_loaded_state_dict)\n",
        "\n",
        "# Loading the output of the training using pandas\n",
        "train_df_loaded = pd.read_csv(\"train_output.csv\")\n",
        "train_losses_loaded = train_df_loaded[\"train_loss\"].tolist()\n",
        "test_losses_loaded = train_df_loaded[\"test_loss\"].tolist()\n",
        "train_metrics_loaded = [\n",
        "    {\n",
        "        \"l1_norm\": train_df_loaded[\"train_l1_norm\"][i],\n",
        "        \"linf_norm\": train_df_loaded[\"train_linf_norm\"][i],\n",
        "    }\n",
        "    for i in range(len(train_df_loaded))\n",
        "]\n",
        "test_metrics_loaded = [\n",
        "    {\n",
        "        \"l1_norm\": train_df_loaded[\"test_l1_norm\"][i],\n",
        "        \"linf_norm\": train_df_loaded[\"test_linf_norm\"][i],\n",
        "    }\n",
        "    for i in range(len(train_df_loaded))\n",
        "]"
      ]
    },
    {
      "cell_type": "code",
      "execution_count": null,
      "metadata": {
        "id": "MlZ11zTlyUfg"
      },
      "outputs": [],
      "source": [
        "# %%script echo skipping\n",
        "\n",
        "var_dict_loaded[\"batch_size\"]\n",
        "var_dict_loaded[\"n_epochs\"]\n",
        "var_dict_loaded[\"loss_name\"]\n",
        "var_dict_loaded[\"optimizer_name\"]\n",
        "var_dict_loaded[\"scheduler_name\"]\n",
        "var_dict_loaded[\"n_units\"]\n",
        "var_dict_loaded[\"n_layers\"]\n",
        "var_dict_loaded[\"hidden_activation_name\"]\n",
        "var_dict_loaded[\"output_activation_name\"]\n",
        "var_dict_loaded[\"lr\"]\n",
        "var_dict_loaded[\"dropout_rate\"]"
      ]
    },
    {
      "cell_type": "code",
      "execution_count": null,
      "metadata": {
        "id": "jissHfjkyUfg"
      },
      "outputs": [],
      "source": [
        "%%script echo skipping\n",
        "\n",
        "scheduler_loaded_state_dict[\"mode\"]\n",
        "scheduler_loaded_state_dict[\"factor\"]\n",
        "scheduler_loaded_state_dict[\"patience\"]\n",
        "scheduler_loaded_state_dict[\"threshold\"]\n",
        "scheduler_loaded_state_dict[\"min_lrs\"]\n",
        "\n",
        "\n",
        "scheduler_loaded_state_dict[\"base_lr\"]\n",
        "scheduler_loaded_state_dict[\"max_lr\"]\n",
        "scheduler_loaded_state_dict[\"step_size_up\"]"
      ]
    },
    {
      "cell_type": "code",
      "execution_count": null,
      "metadata": {
        "id": "9QTzUSU6yUfh"
      },
      "outputs": [],
      "source": [
        "# %%script echo skipping\n",
        "\n",
        "var_dict\n",
        "hidden_activation_name_loaded"
      ]
    },
    {
      "cell_type": "code",
      "execution_count": null,
      "metadata": {
        "id": "GQ_fcj7zUZii"
      },
      "outputs": [],
      "source": [
        "# %%script echo skipping\n",
        "\n",
        "if hidden_activation_name_loaded == \"LeakyReLU\":\n",
        "  var_dict_loaded[\"leakyrelu_slope\"]\n",
        "if hidden_activation_name_loaded == \"PReLU\":\n",
        "  var_dict_loaded[\"prelu_init\"]\n",
        "elif hidden_activation_name_loaded == \"SoftPlus\":\n",
        "  var_dict_loaded[\"softplus_beta\"]\n",
        "\n",
        "batch_size_loaded\n",
        "n_epochs_loaded\n",
        "loss_name_loaded\n",
        "optimizer_name_loaded\n",
        "scheduler_name_loaded\n",
        "n_units_loaded\n",
        "n_layers_loaded\n",
        "hidden_activation_name_loaded\n",
        "output_activation_name_loaded\n",
        "lr_loaded\n",
        "dropout_rate_loaded\n",
        "hidden_activation_loaded\n",
        "output_activation_loaded\n",
        "net_loaded\n",
        "net_loaded.__dict__ # print the subparameters of the network\n",
        "loss_fn_loaded\n",
        "optimizer_loaded\n",
        "optimizer_loaded.__dict__ # print the subparameters of the optimizer\n",
        "if scheduler_loaded is not None:\n",
        "  scheduler_loaded\n",
        "  scheduler_loaded.__dict__ # print the subparameters of the scheduler\n",
        "train_losses_loaded\n",
        "test_losses_loaded\n",
        "train_metrics_loaded\n",
        "test_metrics_loaded\n"
      ]
    },
    {
      "cell_type": "code",
      "execution_count": null,
      "metadata": {
        "id": "xTLhVihYyUfh"
      },
      "outputs": [],
      "source": [
        "train_losses_loaded[-1]\n",
        "test_losses_loaded[-1]\n",
        "test_metrics_loaded[-1]['l1_norm']\n",
        "test_metrics_loaded[-1]['linf_norm']\n",
        "# print(f'Error is {test_metrics_loaded[-1][\"l1_norm\"] / (3.84e-4)} times bigger than in Dieselhorst et al.')\n",
        "# print(f'Error is {test_metrics_loaded[-1][\"linf_norm\"] / (8.14e-3)} times bigger than in Dieselhorst et al.')"
      ]
    },
    {
      "cell_type": "markdown",
      "metadata": {
        "id": "QTRl12RVra2L"
      },
      "source": []
    },
    {
      "cell_type": "markdown",
      "metadata": {
        "id": "8ICitDHLyUfh"
      },
      "source": [
        "### Visualize loaded results"
      ]
    },
    {
      "cell_type": "markdown",
      "metadata": {
        "id": "vwLGR1aSUZik"
      },
      "source": [
        "Let us verify correct loading of the train and test metrics by visualizing them again but now through the loaded values. Likewise for the train and test losses."
      ]
    },
    {
      "cell_type": "code",
      "execution_count": null,
      "metadata": {
        "id": "sXiNgLsmUZil"
      },
      "outputs": [],
      "source": [
        "%config InteractiveShell.ast_node_interactivity = \"last_expr_or_assign\""
      ]
    },
    {
      "cell_type": "code",
      "execution_count": null,
      "metadata": {
        "id": "sgq4WfSiUZil"
      },
      "outputs": [],
      "source": [
        "# Plotting the losses and metrics for the best network plt.figure(figsize=(12, \n",
        "#plt.subplot(2, 2, 1)\n",
        "#plt.plot(train_losses_loaded, label=\"Train Loss\")\n",
        "#plt.plot(test_losses_loaded, label=\"Test Loss\")\n",
        "#plt.xlabel(\"Epoch\")\n",
        "#plt.ylabel(\"Loss\")\n",
        "#plt.legend()\n",
        "plt.subplot(2, 2, 2)\n",
        "plt.plot([m[\"l1_norm\"] for m in train_metrics_loaded], label=\"Train L1 Norm\")\n",
        "plt.plot([m[\"l1_norm\"] for m in test_metrics_loaded], label=\"Test L1 Norm\")\n",
        "plt.xlabel(\"Epoch\")\n",
        "plt.ylabel(\"L1 Norm\")\n",
        "# Added setting the vertical axis to be in powers of 10\n",
        "plt.yscale(\"log\")\n",
        "# Added setting the vertical axis limits to be from 10^-7 to 10^0\n",
        "plt.ylim(1e-3, 1e2)\n",
        "plt.legend()\n",
        "plt.subplot(2, 2, 3)\n",
        "plt.plot([m[\"linf_norm\"] for m in train_metrics_loaded], label=\"Train Linf Norm\")\n",
        "plt.plot([m[\"linf_norm\"] for m in test_metrics_loaded], label=\"Test Linf Norm\")\n",
        "plt.xlabel(\"Epoch\")\n",
        "plt.ylabel(\"Linf Norm\")\n",
        "# Added setting the vertical axis to be in powers of 10\n",
        "plt.yscale(\"log\")\n",
        "# Added setting the vertical axis limits to be from 10^-7 to 10^0\n",
        "plt.ylim(1e-3, 1e2)\n",
        "plt.legend()\n",
        "plt.tight_layout()\n",
        "plt.show()\n",
        "\n",
        "# Added plotting MSE of training data and MSE of test data in one plot \n",
        "plt.figure(figsize=(8, 6))\n",
        "plt.plot(train_losses_loaded,label=\"training data\")\n",
        "plt.plot(test_losses_loaded,label=\"test data\")\n",
        "#if scheduler is not None:\n",
        "#    plt.plot([scheduler.get_last_lr()[0] for _ in range(n_epochs)], label=\"Learning rate\") \n",
        "plt.xlabel(\"Epoch\")\n",
        "plt.ylabel(f\"{loss_name_loaded} Loss\")\n",
        "# Added setting the vertical axis to be in powers of 10\n",
        "plt.yscale(\"log\")\n",
        "# Added setting the vertical axis limits to be from 10^-7 to 10^0\n",
        "plt.ylim(1e-7, 1e0)\n",
        "plt.legend()\n",
        "plt.show()\n"
      ]
    },
    {
      "cell_type": "code",
      "execution_count": null,
      "metadata": {
        "id": "lkgLqJ_UUZim"
      },
      "outputs": [],
      "source": [
        "%config InteractiveShell.ast_node_interactivity = \"all\""
      ]
    },
    {
      "cell_type": "markdown",
      "metadata": {
        "id": "CwOy5TMuyUfi"
      },
      "source": [
        "## Counting the number of parameters in the network."
      ]
    },
    {
      "cell_type": "code",
      "execution_count": null,
      "metadata": {
        "id": "YaawajExyUfi"
      },
      "outputs": [],
      "source": [
        "net_loaded.eval()\n",
        "def count_parameters(model):\n",
        "    return sum(p.numel() for p in model.parameters() if p.requires_grad)\n",
        "print(f'The model has {count_parameters(net_loaded)} parameters.')"
      ]
    },
    {
      "cell_type": "markdown",
      "metadata": {
        "id": "SxuzVSnlUZin"
      },
      "source": [
        "## Evaluating the network on arbirary input\n",
        "### Comparing `net` and `net_loaded`\n",
        "\n",
        "We compare `net` and `net_loaded` to confirm correct loading of the network. Note that `net` is only available if we have trained the model in this session."
      ]
    },
    {
      "cell_type": "code",
      "execution_count": null,
      "metadata": {
        "id": "hQxEmL6SyUfj"
      },
      "outputs": [],
      "source": [
        "#%%script echo skipping\n",
        "\n",
        "# Set the network to evaluation mode\n",
        "net.eval()"
      ]
    },
    {
      "cell_type": "code",
      "execution_count": null,
      "metadata": {
        "id": "o_YG8acPyUfj"
      },
      "outputs": [],
      "source": [
        "# Set the network to evaluation mode\n",
        "net_loaded.eval"
      ]
    },
    {
      "cell_type": "code",
      "execution_count": null,
      "metadata": {
        "id": "sKhTNVrpyUfj"
      },
      "outputs": [],
      "source": [
        "for p1, p2 in zip(net.parameters(), net_loaded.parameters()):\n",
        "    if p1.data.ne(p2.data).sum() > 0:\n",
        "        print(\"Parameters are NOT the same.\")\n",
        "        break\n",
        "else:\n",
        "    print(\"Parameters are the same.\")\n",
        "\n",
        "print(\"Net device:\", next(net.parameters()).device)\n",
        "print(\"Net_loaded device:\", next(net_loaded.parameters()).device)"
      ]
    },
    {
      "cell_type": "code",
      "execution_count": null,
      "metadata": {
        "id": "C0PLAA0DUZin"
      },
      "outputs": [],
      "source": [
        "#%%script echo skipping\n",
        "\n",
        "print(list(net.parameters()))"
      ]
    },
    {
      "cell_type": "code",
      "execution_count": null,
      "metadata": {
        "id": "1NZ8iVA7UZio"
      },
      "outputs": [],
      "source": [
        "print(list(net_loaded.parameters()))"
      ]
    },
    {
      "cell_type": "code",
      "execution_count": null,
      "metadata": {
        "id": "InGW0Xq6UZip"
      },
      "outputs": [],
      "source": [
        "rho_example, epsilon_example, vx_example, vy_example, vz_example, Bx_example, By_example, Bz_example, gxx_example, gxy_example, gxz_example, gyy_example, gyz_example, gzz_example = generate_samples(20)\n",
        "\n",
        "inputs =  generate_input_data(rho_example, epsilon_example, vx_example, vy_example, vz_example, Bx_example, By_example, Bz_example, gxx_example, gxy_example, gxz_example, gyy_example, gyz_example, gzz_example)\n",
        "inputs\n"
      ]
    },
    {
      "cell_type": "code",
      "execution_count": null,
      "metadata": {
        "id": "QVa1upmFUZip"
      },
      "outputs": [],
      "source": [
        "#%%script echo skipping\n",
        "\n",
        "# Pass the inputs to the network and get the outputs\n",
        "outputs = [net(input.unsqueeze(0)) for input in inputs]\n",
        "# Print the outputs\n",
        "outputs"
      ]
    },
    {
      "cell_type": "code",
      "execution_count": null,
      "metadata": {
        "id": "E-Xjfo7VUZir"
      },
      "outputs": [],
      "source": [
        "\n",
        "# Pass the inputs to the network and get the outputs\n",
        "outputs = [net_loaded(input.unsqueeze(0)) for input in inputs]\n",
        "# Print the outputs\n",
        "outputs"
      ]
    },
    {
      "cell_type": "markdown",
      "metadata": {
        "id": "xjpIvdybUZis"
      },
      "source": [
        "## Porting the model to C++"
      ]
    },
    {
      "cell_type": "code",
      "execution_count": null,
      "metadata": {
        "id": "VMlEd4RoUZis"
      },
      "outputs": [],
      "source": [
        "import torch.jit\n",
        "\n",
        "# Creating a dummy input tensor of shape (1, 5) to trace the model\n",
        "dummy_input = torch.randn(1, N_INPUTS).to(device)\n",
        "\n",
        "# Ensure that net_loaded is in evaluation mode.\n",
        "net_loaded.eval()\n",
        "\n",
        "# Tracing the model using the torch.jit.trace function\n",
        "traced_model = torch.jit.trace(net_loaded, dummy_input)\n",
        "\n",
        "# Saving the traced model to a file named \"net.pt\"\n",
        "traced_model.save(\"net.pt\")\n",
        "save_file(\"net.pt\")\n",
        "\n",
        "example_input_to_validate_correct_export_and_import = generate_input_data(*generate_samples(1))\n",
        "print(\"input shape: \", example_input_to_validate_correct_export_and_import.shape)\n",
        "print(\"input: \", example_input_to_validate_correct_export_and_import)\n",
        "print(\"Output:\", net_loaded(example_input_to_validate_correct_export_and_import))"
      ]
    }
  ],
  "metadata": {
    "accelerator": "GPU",
    "colab": {
      "machine_shape": "hm",
      "provenance": [],
      "toc_visible": true
    },
    "kernelspec": {
      "display_name": "Python 3",
      "name": "python3"
    },
    "language_info": {
      "codemirror_mode": {
        "name": "ipython",
        "version": 3
      },
      "file_extension": ".py",
      "mimetype": "text/x-python",
      "name": "python",
      "nbconvert_exporter": "python",
      "pygments_lexer": "ipython3",
      "version": "3.11.3"
    }
  },
  "nbformat": 4,
  "nbformat_minor": 0
}