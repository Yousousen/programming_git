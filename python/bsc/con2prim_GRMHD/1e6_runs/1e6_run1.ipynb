{
  "cells": [
    {
      "attachments": {},
      "cell_type": "markdown",
      "metadata": {
        "id": "TPvB1xoSUZhR"
      },
      "source": [
        "This run was abhorted at trial 11. It contains valuable information still.\n",
        "\n",
        "\n",
        "# Neural network to learn conservative-to-primitive conversion in relativistic hydrodynamics"
      ]
    },
    {
      "cell_type": "markdown",
      "metadata": {
        "id": "GQOAdSRnyUe_"
      },
      "source": [
        "## How to use this notebook\n",
        "\n",
        "### Local installation\n",
        "\n",
        "1. Install required packages with `pip install -r requirements.txt` to your desired environment.\n",
        "2. If a script version of this notebook is desired, comment (not uncomment) the first line of `nbconvert` cell.\n",
        "\n",
        "### Colab installation\n",
        "\n",
        "1.  Comment (not uncomment) the first line of the drive mounting cell.\n",
        "2.  Comment (not uncomment) the first line of the `pip install` cell.\n",
        "\n",
        "<!-- - For colab we also want to set the runtime to GPU by clicking _Change runtime_ in the _Runtime_ menu, and -->\n",
        "<!-- - We want to wait for the google drive connection popup to appear and follow the instructions. -->\n",
        "\n",
        "### Loading / Generating data\n",
        "3. Set `LOAD_DATA_FROM_CSV` to `True` / `False` to load data from csv files / generate data in this notebook.\n",
        "\n",
        "### Training without optimization\n",
        "\n",
        "4. Set `OPTIMIZE = False` in section _Constants and flags to set_.\n",
        "5. Run the entire notebook.\n",
        "\n",
        "### Training with optimization\n",
        "\n",
        "4. Set `OPTIMIZE = True` in section _Constants and flags to set_.\n",
        "5. Run the entire notebook.\n",
        "\n",
        "### Loading an already trained model\n",
        "\n",
        "4. Run cells in section _Initialization_.\n",
        "5. Run cells with definitions in section _Input data and labels_.\n",
        "6. Run cell with the definition of _Net_ in section _Defining the neural network_.\n",
        "7. Make sure the `net.pth`, `optimizer.pth`, `scheduler.pth`, `var_dict.json` and `train_output.csv` files are in the directory containing this notebook.\n",
        "8. Run the cells in section _Loading_ and continue from there.\n",
        "\n",
        "### Generating the C++ model\n",
        "\n",
        "9. Run section _Porting the model to C++_, this requires a model to be loaded.\n",
        "10. Set the path to the `net.pt` file in the C++ source file.\n",
        "11. `mkdir build && cd build`,\n",
        "12. Configure a `CMakeLists.txt` file as is done [here](https://pytorch.org/cppdocs/installing.html).\n",
        "13. `cmake -DCMAKE_PREFIX_PATH=/path/to/libtorch/ ..`,\n",
        "14. Compile and run, e.g. `cmake --build . --config release && ./<executable name>`"
      ]
    },
    {
      "cell_type": "markdown",
      "metadata": {
        "id": "fNr7wqgCz9VP"
      },
      "source": []
    },
    {
      "cell_type": "markdown",
      "metadata": {
        "id": "GQG-VpFLyUe_"
      },
      "source": [
        "## Initialization"
      ]
    },
    {
      "cell_type": "markdown",
      "metadata": {
        "id": "rasKmIzdyUe_"
      },
      "source": [
        "\n",
        "Use this first cell to **convert this notebook** to a python script."
      ]
    },
    {
      "cell_type": "code",
      "execution_count": null,
      "metadata": {
        "colab": {
          "base_uri": "https://localhost:8080/"
        },
        "id": "eqdgdNLHUZhV",
        "outputId": "f5d0a0a3-4c35-4512-ad42-f10b4fb0975f"
      },
      "outputs": [
        {
          "name": "stdout",
          "output_type": "stream",
          "text": [
            "skipping\n"
          ]
        }
      ],
      "source": [
        "%%script echo skipping\n",
        "\n",
        "!jupyter nbconvert pt1_before_restructuring.ipynb --TagRemovePreprocessor.enabled=True --TagRemovePreprocessor.remove_cell_tags='{\"remove_cell\"}' --to script"
      ]
    },
    {
      "cell_type": "markdown",
      "metadata": {
        "id": "nzcUr0LnUZhw"
      },
      "source": [
        "Next some cells for working on **google colab**,"
      ]
    },
    {
      "cell_type": "code",
      "execution_count": null,
      "metadata": {
        "id": "uLdZpOu4yUfB"
      },
      "outputs": [],
      "source": [
        "import os\n",
        "import shutil\n",
        "\n",
        "# check if the drive is mounted\n",
        "drive_mounted = os.path.exists(\"/content/drive\")\n",
        "# change this to your desired folder\n",
        "drive_folder = \"/content/drive/My Drive/bsc/con2prim_GRMHD/1e6_runs\"\n",
        "\n",
        "# define a function to save a file to the drive or the current directory\n",
        "def save_file(file_name):\n",
        "  if drive_mounted:\n",
        "    # save the file to the drive folder\n",
        "    file_path = os.path.join(drive_folder, file_name)\n",
        "    # copy the file from the current directory to the drive folder\n",
        "    shutil.copyfile(file_name, file_path)\n",
        "  else:\n",
        "    # do nothing as the file is already in the current directory\n",
        "    pass\n"
      ]
    },
    {
      "cell_type": "code",
      "execution_count": null,
      "metadata": {
        "colab": {
          "base_uri": "https://localhost:8080/"
        },
        "id": "ecHw2_xlUZhx",
        "outputId": "4c232d37-8ee3-4e66-b307-57ee34ec1a38"
      },
      "outputs": [
        {
          "name": "stdout",
          "output_type": "stream",
          "text": [
            "Mounted at /content/drive\n"
          ]
        }
      ],
      "source": [
        "# %%script echo skipping\n",
        "\n",
        "from google.colab import drive\n",
        "drive.mount('/content/drive')"
      ]
    },
    {
      "cell_type": "code",
      "execution_count": null,
      "metadata": {
        "id": "fxqdIxKBmzyt"
      },
      "outputs": [],
      "source": []
    },
    {
      "cell_type": "code",
      "execution_count": null,
      "metadata": {
        "colab": {
          "base_uri": "https://localhost:8080/"
        },
        "id": "T1rcStMLUZhy",
        "outputId": "0a7067b8-dd97-4b2b-c15e-aa34ad9b6605"
      },
      "outputs": [
        {
          "name": "stdout",
          "output_type": "stream",
          "text": [
            "Looking in indexes: https://pypi.org/simple, https://us-python.pkg.dev/colab-wheels/public/simple/\n",
            "Collecting optuna\n",
            "  Downloading optuna-3.1.1-py3-none-any.whl (365 kB)\n",
            "\u001b[2K     \u001b[90m━━━━━━━━━━━━━━━━━━━━━━━━━━━━━━━━━━━━━━━\u001b[0m \u001b[32m365.7/365.7 kB\u001b[0m \u001b[31m8.2 MB/s\u001b[0m eta \u001b[36m0:00:00\u001b[0m\n",
            "\u001b[?25hRequirement already satisfied: tensorboard in /usr/local/lib/python3.10/dist-packages (2.12.2)\n",
            "Collecting tensorboardX\n",
            "  Downloading tensorboardX-2.6-py2.py3-none-any.whl (114 kB)\n",
            "\u001b[2K     \u001b[90m━━━━━━━━━━━━━━━━━━━━━━━━━━━━━━━━━━━━━━\u001b[0m \u001b[32m114.5/114.5 kB\u001b[0m \u001b[31m15.4 MB/s\u001b[0m eta \u001b[36m0:00:00\u001b[0m\n",
            "\u001b[?25hCollecting alembic>=1.5.0 (from optuna)\n",
            "  Downloading alembic-1.11.1-py3-none-any.whl (224 kB)\n",
            "\u001b[2K     \u001b[90m━━━━━━━━━━━━━━━━━━━━━━━━━━━━━━━━━━━━━━\u001b[0m \u001b[32m224.5/224.5 kB\u001b[0m \u001b[31m29.0 MB/s\u001b[0m eta \u001b[36m0:00:00\u001b[0m\n",
            "\u001b[?25hCollecting cmaes>=0.9.1 (from optuna)\n",
            "  Downloading cmaes-0.9.1-py3-none-any.whl (21 kB)\n",
            "Collecting colorlog (from optuna)\n",
            "  Downloading colorlog-6.7.0-py2.py3-none-any.whl (11 kB)\n",
            "Requirement already satisfied: numpy in /usr/local/lib/python3.10/dist-packages (from optuna) (1.22.4)\n",
            "Requirement already satisfied: packaging>=20.0 in /usr/local/lib/python3.10/dist-packages (from optuna) (23.1)\n",
            "Requirement already satisfied: sqlalchemy>=1.3.0 in /usr/local/lib/python3.10/dist-packages (from optuna) (2.0.10)\n",
            "Requirement already satisfied: tqdm in /usr/local/lib/python3.10/dist-packages (from optuna) (4.65.0)\n",
            "Requirement already satisfied: PyYAML in /usr/local/lib/python3.10/dist-packages (from optuna) (6.0)\n",
            "Requirement already satisfied: absl-py>=0.4 in /usr/local/lib/python3.10/dist-packages (from tensorboard) (1.4.0)\n",
            "Requirement already satisfied: grpcio>=1.48.2 in /usr/local/lib/python3.10/dist-packages (from tensorboard) (1.54.0)\n",
            "Requirement already satisfied: google-auth<3,>=1.6.3 in /usr/local/lib/python3.10/dist-packages (from tensorboard) (2.17.3)\n",
            "Requirement already satisfied: google-auth-oauthlib<1.1,>=0.5 in /usr/local/lib/python3.10/dist-packages (from tensorboard) (1.0.0)\n",
            "Requirement already satisfied: markdown>=2.6.8 in /usr/local/lib/python3.10/dist-packages (from tensorboard) (3.4.3)\n",
            "Requirement already satisfied: protobuf>=3.19.6 in /usr/local/lib/python3.10/dist-packages (from tensorboard) (3.20.3)\n",
            "Requirement already satisfied: requests<3,>=2.21.0 in /usr/local/lib/python3.10/dist-packages (from tensorboard) (2.27.1)\n",
            "Requirement already satisfied: setuptools>=41.0.0 in /usr/local/lib/python3.10/dist-packages (from tensorboard) (67.7.2)\n",
            "Requirement already satisfied: tensorboard-data-server<0.8.0,>=0.7.0 in /usr/local/lib/python3.10/dist-packages (from tensorboard) (0.7.0)\n",
            "Requirement already satisfied: tensorboard-plugin-wit>=1.6.0 in /usr/local/lib/python3.10/dist-packages (from tensorboard) (1.8.1)\n",
            "Requirement already satisfied: werkzeug>=1.0.1 in /usr/local/lib/python3.10/dist-packages (from tensorboard) (2.3.0)\n",
            "Requirement already satisfied: wheel>=0.26 in /usr/local/lib/python3.10/dist-packages (from tensorboard) (0.40.0)\n",
            "Collecting Mako (from alembic>=1.5.0->optuna)\n",
            "  Downloading Mako-1.2.4-py3-none-any.whl (78 kB)\n",
            "\u001b[2K     \u001b[90m━━━━━━━━━━━━━━━━━━━━━━━━━━━━━━━━━━━━━━━━\u001b[0m \u001b[32m78.7/78.7 kB\u001b[0m \u001b[31m10.3 MB/s\u001b[0m eta \u001b[36m0:00:00\u001b[0m\n",
            "\u001b[?25hRequirement already satisfied: typing-extensions>=4 in /usr/local/lib/python3.10/dist-packages (from alembic>=1.5.0->optuna) (4.5.0)\n",
            "Requirement already satisfied: cachetools<6.0,>=2.0.0 in /usr/local/lib/python3.10/dist-packages (from google-auth<3,>=1.6.3->tensorboard) (5.3.0)\n",
            "Requirement already satisfied: pyasn1-modules>=0.2.1 in /usr/local/lib/python3.10/dist-packages (from google-auth<3,>=1.6.3->tensorboard) (0.3.0)\n",
            "Requirement already satisfied: six>=1.9.0 in /usr/local/lib/python3.10/dist-packages (from google-auth<3,>=1.6.3->tensorboard) (1.16.0)\n",
            "Requirement already satisfied: rsa<5,>=3.1.4 in /usr/local/lib/python3.10/dist-packages (from google-auth<3,>=1.6.3->tensorboard) (4.9)\n",
            "Requirement already satisfied: requests-oauthlib>=0.7.0 in /usr/local/lib/python3.10/dist-packages (from google-auth-oauthlib<1.1,>=0.5->tensorboard) (1.3.1)\n",
            "Requirement already satisfied: urllib3<1.27,>=1.21.1 in /usr/local/lib/python3.10/dist-packages (from requests<3,>=2.21.0->tensorboard) (1.26.15)\n",
            "Requirement already satisfied: certifi>=2017.4.17 in /usr/local/lib/python3.10/dist-packages (from requests<3,>=2.21.0->tensorboard) (2022.12.7)\n",
            "Requirement already satisfied: charset-normalizer~=2.0.0 in /usr/local/lib/python3.10/dist-packages (from requests<3,>=2.21.0->tensorboard) (2.0.12)\n",
            "Requirement already satisfied: idna<4,>=2.5 in /usr/local/lib/python3.10/dist-packages (from requests<3,>=2.21.0->tensorboard) (3.4)\n",
            "Requirement already satisfied: greenlet!=0.4.17 in /usr/local/lib/python3.10/dist-packages (from sqlalchemy>=1.3.0->optuna) (2.0.2)\n",
            "Requirement already satisfied: MarkupSafe>=2.1.1 in /usr/local/lib/python3.10/dist-packages (from werkzeug>=1.0.1->tensorboard) (2.1.2)\n",
            "Requirement already satisfied: pyasn1<0.6.0,>=0.4.6 in /usr/local/lib/python3.10/dist-packages (from pyasn1-modules>=0.2.1->google-auth<3,>=1.6.3->tensorboard) (0.5.0)\n",
            "Requirement already satisfied: oauthlib>=3.0.0 in /usr/local/lib/python3.10/dist-packages (from requests-oauthlib>=0.7.0->google-auth-oauthlib<1.1,>=0.5->tensorboard) (3.2.2)\n",
            "Installing collected packages: tensorboardX, Mako, colorlog, cmaes, alembic, optuna\n",
            "Successfully installed Mako-1.2.4 alembic-1.11.1 cmaes-0.9.1 colorlog-6.7.0 optuna-3.1.1 tensorboardX-2.6\n"
          ]
        }
      ],
      "source": [
        "# %%script echo skipping\n",
        "\n",
        "!pip install optuna tensorboard tensorboardX"
      ]
    },
    {
      "cell_type": "markdown",
      "metadata": {
        "id": "nqDQetVPFyCw"
      },
      "source": []
    },
    {
      "cell_type": "markdown",
      "metadata": {
        "id": "cxXGIEp5FXQC"
      },
      "source": []
    },
    {
      "cell_type": "markdown",
      "metadata": {
        "id": "MA6uyFy0yUfC"
      },
      "source": [
        "Importing the **libraries**,"
      ]
    },
    {
      "cell_type": "code",
      "execution_count": null,
      "metadata": {
        "id": "tREdWQUVUZhz"
      },
      "outputs": [],
      "source": [
        "import numpy as np\n",
        "import matplotlib.pyplot as plt\n",
        "import torch\n",
        "import torch.nn as nn\n",
        "import torch.optim as optim\n",
        "import torch.nn.functional as F\n",
        "import optuna\n",
        "import tensorboardX as tbx\n",
        "import pandas as pd"
      ]
    },
    {
      "cell_type": "markdown",
      "metadata": {
        "id": "38GvmerjUZhz"
      },
      "source": [
        "### Constants and flags to set\n",
        "Defining some constants and parameters for convenience.\n",
        "\n",
        "**NOTE**: Some **subparameters** still need to be adjusted in the `create_model` function itself as of (Tue May 16 07:42:45 AM CEST 2023) in the case the model is being trained without optimization."
      ]
    },
    {
      "cell_type": "code",
      "execution_count": null,
      "metadata": {
        "id": "ei6VZDYKUZh0"
      },
      "outputs": [],
      "source": [
        "\n",
        "# Checking if GPU is available and setting the device accordingly\n",
        "device = torch.device(\"cuda\" if torch.cuda.is_available() else \"cpu\")\n",
        "\n",
        "N_TRIALS = 200 # Number of trials for hyperparameter optimization # NOTE: Set this properly.\n",
        "OPTIMIZE = True # Whether to optimize the hyperparameters or to use predetermined values. # NOTE: Set this properly.\n",
        "ZSCORE_NORMALIZATION = False # Whether to z-score normalize the input data.\n",
        "LOAD_DATA_FROM_CSV = False  # If not true we generate the data in this file and save to {x_train,y_train,x_test,y_test}.csv, otherwise we load the data from files of the same name. # NOTE: Set this before properly.\n",
        "\n",
        "csv_filenames = { # File names to load input data and labels from if LOAD_DATA_FROM_CSV is True.\n",
        "    \"x_train\": \"x_train.csv\",\n",
        "    \"x_val\": \"x_val.csv\",\n",
        "    \"x_test\": \"x_test.csv\",\n",
        "    \"y_train\": \"y_train.csv\",\n",
        "    \"y_val\": \"y_val.csv\",\n",
        "    \"y_test\": \"y_test.csv\",\n",
        "}\n",
        "\n",
        "# Values to use for hyperparameters if OPTIMIZE is False; set these to the best parameters found by Optuna.\n",
        "# NOTE: TODO: Currently (Sat May 27 05:16:57 PM CEST 2023) there are still subparameters to be set in create_model function.\n",
        "N_LAYERS_NO_OPT = 3\n",
        "N_UNITS_NO_OPT = [555, 458, 115]\n",
        "HIDDEN_ACTIVATION_NAME_NO_OPT = \"LeakyReLU\"\n",
        "OUTPUT_ACTIVATION_NAME_NO_OPT = \"Linear\"\n",
        "LOSS_NAME_NO_OPT = \"Huber\"\n",
        "OPTIMIZER_NAME_NO_OPT = \"RMSprop\"\n",
        "LR_NO_OPT = 0.000122770896701404\n",
        "BATCH_SIZE_NO_OPT = 49\n",
        "N_EPOCHS_NO_OPT = 400 # NOTE: Set this properly.\n",
        "SCHEDULER_NAME_NO_OPT = \"CycleLR\"\n",
        "DROPOUT_RATE_NO_OPT = 0.2\n",
        "\n",
        "N_INPUTS = 14  # Number of input features.\n",
        "N_OUTPUTS = 1  # Number of outputs.\n",
        "Gamma = 5/3  # Adiabatic index\n",
        "\n",
        "n_samples = 1e6 # NOTE: Set this properly.\n",
        "train_frac = 0.7  # 70% of data for training\n",
        "val_frac = 0.15  # 15% of data for validation, rest for testing\n",
        "\n",
        "rho_interval = (0, 2) \n",
        "epsilon_interval = (1e-2, 2000)  # Will be sampled in log space\n",
        "vx_interval = (0, 0.999)  \n",
        "vy_interval = (0, 0.999)  \n",
        "vz_interval = (0, 0.999)  \n",
        "Bx_interval = (-10, 10)  \n",
        "By_interval = (-10, 10)  \n",
        "Bz_interval = (-10, 10)  \n",
        "gxx_interval = (0.9, 1.1)\n",
        "gxy_interval = (0, 0.1)\n",
        "gxz_interval = (0, 0.1)\n",
        "gyy_interval = (0.9, 1.1)\n",
        "gyz_interval = (0, 0.1)\n",
        "gzz_interval = (0.9, 1.1)\n",
        "\n",
        "np.random.seed(60) # Comment for true random data.\n"
      ]
    },
    {
      "cell_type": "markdown",
      "metadata": {
        "id": "dlaP5UL2UZh1"
      },
      "source": [
        "## Input data and labels\n",
        "\n",
        "We either generate the data or load the data. First the definitions for generating the data come below."
      ]
    },
    {
      "cell_type": "code",
      "execution_count": null,
      "metadata": {
        "id": "s_EvGFZcUZh1"
      },
      "outputs": [],
      "source": [
        "# Defining an analytic equation of state (EOS) for an ideal gas\n",
        "def eos_analytic(rho, epsilon):\n",
        "    # Adding some assertions to check that the input tensors are valid and have \n",
        "    # the expected shape and type \n",
        "    assert isinstance(rho, torch.Tensor), \"rho must be a torch.Tensor\"\n",
        "    assert isinstance(epsilon, torch.Tensor), \"epsilon must be a torch.Tensor\"\n",
        "    print('rho.shape: ', rho.shape)\n",
        "    print('epsilon.shape: ', epsilon.shape)\n",
        "    assert rho.shape == epsilon.shape, \"rho and epsilon must have the same shape\"\n",
        "    assert rho.ndim == 1, \"rho and epsilon must be one-dimensional tensors\"\n",
        "    assert rho.dtype == torch.float32, \"rho and epsilon must have dtype torch.float32\"\n",
        "\n",
        "    return (Gamma - 1) * rho * epsilon\n",
        "\n",
        "def sample_primitive_variables_and_metric():\n",
        "    rho = np.random.uniform(*rho_interval)  \n",
        "    epsilon = np.random.uniform(*np.log10(epsilon_interval))\n",
        "    vx = np.random.uniform(*vx_interval)  \n",
        "    vy = np.random.uniform(*vy_interval)  \n",
        "    vz = np.random.uniform(*vz_interval)  \n",
        "    Bx = np.random.uniform(*Bx_interval)  \n",
        "    By = np.random.uniform(*By_interval)  \n",
        "    Bz = np.random.uniform(*Bz_interval)  \n",
        "    gxx = np.random.uniform(*gxx_interval)\n",
        "    gxy = np.random.uniform(*gxy_interval)\n",
        "    gxz = np.random.uniform(*gxz_interval)\n",
        "    gyy = np.random.uniform(*gyy_interval)\n",
        "    gyz = np.random.uniform(*gyz_interval)\n",
        "    gzz = np.random.uniform(*gzz_interval)\n",
        "\n",
        "    return rho, epsilon, vx, vy, vz, Bx, By, Bz, gxx, gxy, gxz, gyy, gyz, gzz\n",
        "\n",
        "def check_sample(rho, epsilon, vx, vy, vz, Bx, By, Bz, gxx, gxy, gxz, gyy, gyz, gzz):\n",
        "    wtemp_expr = 1 - (gxx * vx**2 + gyy * vy**2 + gzz * vz**2 + 2 * gxy * vx * vy + 2 * gxz * vx * vz + 2 * gyz * vy * vz)\n",
        "    sdet_expr = gxx * gyy * gzz + 2 * gxy * gxz * gyz - gxx * gyz ** 2 - gyy * gxz ** 2 - gzz * gxy ** 2\n",
        "    if vx**2 + vy**2 + vz**2 >= 1 or wtemp_expr < 0 or sdet_expr < 0:\n",
        "        # print(f\"Sample failed checks. vx^2+vy^2+vz^2: {vx**2 + vy**2 + vz**2}, wtemp_expr: {wtemp_expr}, sdet_expr: {sdet_expr}\")\n",
        "        return False\n",
        "    else:\n",
        "        # print(f\"Sample passed checks. vx^2+vy^2+vz^2: {vx**2 + vy**2 + vz**2}, wtemp_expr: {wtemp_expr}, sdet_expr: {sdet_expr}\")\n",
        "        return True\n",
        "\n",
        "def generate_samples(n_samples):\n",
        "    samples = []\n",
        "    while len(samples) < n_samples:\n",
        "        sample = sample_primitive_variables_and_metric()\n",
        "        if check_sample(*sample):\n",
        "            samples.append(sample)\n",
        "        # print(f\"Number of valid samples: {len(samples)}\")\n",
        "    return zip(*samples)\n",
        "def sdet(gxx, gxy, gxz, gyy, gyz, gzz):\n",
        "    # Determinant of the three metric.\n",
        "    return (gxx * gyy * gzz + 2 * gxy * gxz * gyz - gxx * gyz ** 2 - gyy * gxz ** 2 - gzz * gxy ** 2) ** 0.5\n",
        "\n",
        "# Defining a function that computes conserved variables from primitive variables and the metric\n",
        "# We follow the source code of GRaM-X: A new GPU-accelerated dynamical spacetime GRMHD code for Exascale\n",
        "# computing with the Einstein Toolkit of Shankar et al.\n",
        "def compute_conserved_variables(rho, epsilon, vx, vy, vz, Bx, By, Bz, gxx, gxy, gxz, gyy, gyz, gzz):\n",
        "    pres = eos_analytic(rho, epsilon)\n",
        "    wtemp = 1 / (1 - (gxx * vx**2 + gyy * vy**2 + gzz * vz**2 +\n",
        "        2 * gxy * vx * vy + 2 * gxz * vx * vz +\n",
        "        2 * gyz * vy * vz))**0.5\n",
        "\n",
        "    vlowx = gxx * vx + gxy * vy + gxz * vz\n",
        "    vlowy = gxy * vx + gyy * vy + gyz * vz\n",
        "    vlowz = gxz * vx + gyz * vy + gzz * vz\n",
        "\n",
        "    Bxlow = gxx * Bx + gxy * By + gxz * Bz\n",
        "    Bylow = gxy * Bx + gyy * By + gyz * Bz\n",
        "    Bzlow = gxz * Bx + gyz * By + gzz * Bz\n",
        "\n",
        "    B2 = Bxlow * Bx + Bylow * By + Bzlow * Bz\n",
        "\n",
        "    Bdotv = Bxlow * vx + Bylow * vy + Bzlow * vz\n",
        "    Bdotv2 = Bdotv * Bdotv\n",
        "    wtemp2 = wtemp * wtemp\n",
        "    b2 = B2 / wtemp2 + Bdotv2\n",
        "    ab0 = wtemp * Bdotv\n",
        "\n",
        "    blowx = (gxx * Bx + gxy * By + gxz * Bz) / wtemp + wtemp * Bdotv * vlowx\n",
        "    blowy = (gxy * Bx + gyy * By + gyz * Bz) / wtemp + wtemp * Bdotv * vlowy\n",
        "    blowz = (gxz * Bx + gyz * By + gzz * Bz) / wtemp + wtemp * Bdotv * vlowz\n",
        "\n",
        "    hrhow2 = (rho * (1 + epsilon) + pres + b2) * (wtemp) * (wtemp)\n",
        "\n",
        "    D = sdet(gxx, gxy, gxz, gyy, gyz, gzz) * rho * (wtemp)\n",
        "    Sx = sdet(gxx, gxy, gxz, gyy, gyz, gzz) * (hrhow2 * vlowx - ab0 * blowx)\n",
        "    Sy = sdet(gxx, gxy, gxz, gyy, gyz, gzz) * (hrhow2 * vlowy - ab0 * blowy)\n",
        "    Sz = sdet(gxx, gxy, gxz, gyy, gyz, gzz) * (hrhow2 * vlowz - ab0 * blowz)\n",
        "    tau = sdet(gxx, gxy, gxz, gyy, gyz, gzz) * (hrhow2 - pres - b2 / 2 - ab0 * ab0) - D\n",
        "    Bconsx = sdet(gxx, gxy, gxz, gyy, gyz, gzz) * Bx\n",
        "    Bconsy = sdet(gxx, gxy, gxz, gyy, gyz, gzz) * By\n",
        "    Bconsz = sdet(gxx, gxy, gxz, gyy, gyz, gzz) * Bz\n",
        "\n",
        "    return D, Sx, Sy, Sz, tau, Bconsx, Bconsy, Bconsz\n",
        "\n",
        "def generate_input_data(rho, epsilon, vx, vy, vz, Bx, By, Bz, gxx, gxy, gxz, gyy, gyz, gzz):\n",
        "    rho = torch.tensor(np.array(rho), dtype=torch.float32).to(device)\n",
        "    epsilon = torch.tensor(np.array(epsilon), dtype=torch.float32).to(device)\n",
        "    vx = torch.tensor(np.array(vx), dtype=torch.float32).to(device)\n",
        "    vy = torch.tensor(np.array(vy), dtype=torch.float32).to(device)\n",
        "    vz = torch.tensor(np.array(vz), dtype=torch.float32).to(device)\n",
        "    Bx = torch.tensor(np.array(Bx), dtype=torch.float32).to(device)\n",
        "    By = torch.tensor(np.array(By), dtype=torch.float32).to(device)\n",
        "    Bz = torch.tensor(np.array(Bz), dtype=torch.float32).to(device)\n",
        "    gxx = torch.tensor(np.array(gxx), dtype=torch.float32).to(device)\n",
        "    gxy = torch.tensor(np.array(gxy), dtype=torch.float32).to(device)\n",
        "    gxz = torch.tensor(np.array(gxz), dtype=torch.float32).to(device)\n",
        "    gyy = torch.tensor(np.array(gyy), dtype=torch.float32).to(device)\n",
        "    gyz = torch.tensor(np.array(gyz), dtype=torch.float32).to(device)\n",
        "    gzz = torch.tensor(np.array(gzz), dtype=torch.float32).to(device)\n",
        "\n",
        "    D, Sx, Sy, Sz, tau, Bscriptx, Bscripty, Bscriptz = compute_conserved_variables(\n",
        "        rho, epsilon, vx, vy, vz, Bx, By, Bz, gxx, gxy, gxz, gyy, gyz, gzz\n",
        "    ) \n",
        "\n",
        "    # Add gxx, gxy, gxz, gyy, gyz, gzz to the tensor\n",
        "    x = torch.stack([D, Sx, Sy, Sz, tau, Bscriptx, Bscripty, Bscriptz, gxx, gxy, gxz, gyy, gyz, gzz], axis=1)\n",
        "    return x\n",
        "\n",
        "# Defining a function that generates output data (labels) from given samples of primitive variables\n",
        "# We use the definitions as given in Recovery schemes for primitive variables in\n",
        "# general-relativistic magnetohydrodynamics of Siegel et al.\n",
        "def generate_labels(rho, epsilon, vx, vy, vz):\n",
        "    # Converting the numpy arrays to torch tensors and moving them to the device\n",
        "    rho = torch.tensor(np.array(rho), dtype=torch.float32).to(device)\n",
        "    epsilon = torch.tensor(np.array(epsilon), dtype=torch.float32).to(device)\n",
        "    vx = torch.tensor(np.array(vx), dtype=torch.float32).to(device)\n",
        "    vy = torch.tensor(np.array(vy), dtype=torch.float32).to(device)\n",
        "    vz = torch.tensor(np.array(vz), dtype=torch.float32).to(device)\n",
        "\n",
        "    # Computing the required quantities\n",
        "    pres = eos_analytic(rho, epsilon)\n",
        "    h = 1 + epsilon + pres / rho\n",
        "    W = 1 / torch.sqrt(1 - (vx * vx + vy * vy + vz * vz))\n",
        "\n",
        "    # Returning the output data tensor\n",
        "    return h * W"
      ]
    },
    {
      "cell_type": "markdown",
      "metadata": {
        "id": "rp_rRsvlyUfD"
      },
      "source": [
        "### Generating or loading input data and labels"
      ]
    },
    {
      "cell_type": "code",
      "execution_count": null,
      "metadata": {
        "id": "aSRavbz7yUfD"
      },
      "outputs": [],
      "source": [
        "%config InteractiveShell.ast_node_interactivity = \"all\""
      ]
    },
    {
      "cell_type": "code",
      "execution_count": null,
      "metadata": {
        "id": "cKubR6C8UZh4"
      },
      "outputs": [],
      "source": [
        "if LOAD_DATA_FROM_CSV:\n",
        "    # Load the data from CSV files\n",
        "    x_train = pd.read_csv(csv_filenames[\"x_train\"]).values\n",
        "    y_train = pd.read_csv(csv_filenames[\"y_train\"]).values.squeeze()  # reshape to 1D\n",
        "    x_val = pd.read_csv(csv_filenames[\"x_val\"]).values\n",
        "    y_val = pd.read_csv(csv_filenames[\"y_val\"]).values.squeeze()  # reshape to 1D\n",
        "    x_test = pd.read_csv(csv_filenames[\"x_test\"]).values\n",
        "    y_test = pd.read_csv(csv_filenames[\"y_test\"]).values.squeeze()  # reshape to 1D\n",
        "\n",
        "    # Convert numpy arrays to tensors\n",
        "    x_train = torch.from_numpy(x_train).float().to(device)\n",
        "    y_train = torch.from_numpy(y_train).float().to(device)\n",
        "    x_val = torch.from_numpy(x_val).float().to(device)\n",
        "    y_val = torch.from_numpy(y_val).float().to(device)\n",
        "    x_test = torch.from_numpy(x_test).float().to(device)\n",
        "    y_test = torch.from_numpy(y_test).float().to(device)\n",
        "\n",
        "    # This is an alternative to having if clauses around the cells that visualize these variables.\n",
        "    rho = epsilon = vx = vy = vz = Bx = By = Bz = gxx = gxy = gxz = gyy = gyz  = gzz = None"
      ]
    },
    {
      "cell_type": "code",
      "execution_count": null,
      "metadata": {
        "id": "BbbRZdtmyUfE"
      },
      "outputs": [],
      "source": [
        "if not LOAD_DATA_FROM_CSV:\n",
        "    # Sample primitive variables and metric\n",
        "    rho, epsilon, vx, vy, vz, Bx, By, Bz, gxx, gxy, gxz, gyy, gyz, gzz = generate_samples(n_samples)"
      ]
    },
    {
      "cell_type": "code",
      "execution_count": null,
      "metadata": {
        "colab": {
          "base_uri": "https://localhost:8080/"
        },
        "id": "QQpEH1iNyUfE",
        "outputId": "d0d60a91-2464-4cd1-8a26-cebe238eaf69"
      },
      "outputs": [
        {
          "name": "stdout",
          "output_type": "stream",
          "text": [
            "rho.shape:  torch.Size([1000000])\n",
            "epsilon.shape:  torch.Size([1000000])\n",
            "rho.shape:  torch.Size([1000000])\n",
            "epsilon.shape:  torch.Size([1000000])\n"
          ]
        }
      ],
      "source": [
        "if not LOAD_DATA_FROM_CSV:\n",
        "    # Generate data and labels.\n",
        "    x = generate_input_data(rho, epsilon, vx, vy, vz, Bx, By, Bz, gxx, gxy, gxz, gyy, gyz, gzz)\n",
        "    y = generate_labels(rho, epsilon, vx, vy, vz)\n",
        "\n",
        "    # Calculate the number of samples in each set\n",
        "    n_train_samples = int(n_samples * train_frac)\n",
        "    n_val_samples = int(n_samples * val_frac)\n",
        "\n",
        "    # Create the data sets\n",
        "    x_train = x[:n_train_samples]\n",
        "    y_train = y[:n_train_samples]\n",
        "    x_val = x[n_train_samples : n_train_samples + n_val_samples]\n",
        "    y_val = y[n_train_samples : n_train_samples + n_val_samples]\n",
        "    x_test = x[n_train_samples + n_val_samples :]\n",
        "    y_test = y[n_train_samples + n_val_samples :]\n",
        "\n",
        "    # Save the data to CSV files; tensors need to be converted numpy arrays for saving in CSV.\n",
        "    pd.DataFrame(x_train.cpu().numpy()).to_csv(csv_filenames[\"x_train\"], index=False)\n",
        "    save_file(csv_filenames[\"x_train\"])\n",
        "    pd.DataFrame(y_train.cpu().numpy()).to_csv(csv_filenames[\"y_train\"], index=False)\n",
        "    save_file(csv_filenames[\"y_train\"])\n",
        "\n",
        "    pd.DataFrame(x_val.cpu().numpy()).to_csv(csv_filenames[\"x_val\"], index=False)\n",
        "    save_file(csv_filenames[\"x_val\"])\n",
        "    pd.DataFrame(y_val.cpu().numpy()).to_csv(csv_filenames[\"y_val\"], index=False)\n",
        "    save_file(csv_filenames[\"y_val\"])\n",
        "\n",
        "    pd.DataFrame(x_test.cpu().numpy()).to_csv(csv_filenames[\"x_test\"], index=False)\n",
        "    save_file(csv_filenames[\"x_test\"])\n",
        "    pd.DataFrame(y_test.cpu().numpy()).to_csv(csv_filenames[\"y_test\"], index=False)\n",
        "    save_file(csv_filenames[\"y_test\"])"
      ]
    },
    {
      "cell_type": "code",
      "execution_count": null,
      "metadata": {
        "colab": {
          "base_uri": "https://localhost:8080/"
        },
        "id": "FxEHi40RyUfE",
        "outputId": "2eba2c8e-b74f-4e41-e6bd-e6aacdbe5d48"
      },
      "outputs": [
        {
          "data": {
            "text/plain": [
              "torch.Size([700000, 14])"
            ]
          },
          "execution_count": 12,
          "metadata": {},
          "output_type": "execute_result"
        },
        {
          "data": {
            "text/plain": [
              "torch.Size([700000])"
            ]
          },
          "execution_count": 12,
          "metadata": {},
          "output_type": "execute_result"
        },
        {
          "data": {
            "text/plain": [
              "torch.Size([150000, 14])"
            ]
          },
          "execution_count": 12,
          "metadata": {},
          "output_type": "execute_result"
        },
        {
          "data": {
            "text/plain": [
              "torch.Size([150000])"
            ]
          },
          "execution_count": 12,
          "metadata": {},
          "output_type": "execute_result"
        },
        {
          "data": {
            "text/plain": [
              "torch.Size([150000, 14])"
            ]
          },
          "execution_count": 12,
          "metadata": {},
          "output_type": "execute_result"
        },
        {
          "data": {
            "text/plain": [
              "torch.Size([150000])"
            ]
          },
          "execution_count": 12,
          "metadata": {},
          "output_type": "execute_result"
        },
        {
          "data": {
            "text/plain": [
              "tensor([[ 4.6058e+00,  1.1156e+01,  4.7839e+01,  ...,  1.0749e+00,\n",
              "          3.3740e-02,  1.0985e+00],\n",
              "        [ 3.8700e-01,  4.1686e+01,  3.8608e+01,  ...,  1.0976e+00,\n",
              "          5.4719e-02,  1.0919e+00],\n",
              "        [ 2.3102e+00,  1.0196e+02,  4.9860e+01,  ...,  1.0684e+00,\n",
              "          4.9081e-04,  9.3367e-01],\n",
              "        ...,\n",
              "        [ 4.8742e+00,  2.4933e+02,  7.8821e+01,  ...,  9.0457e-01,\n",
              "          7.3676e-02,  9.7855e-01],\n",
              "        [ 8.0868e-01,  2.8338e+00, -1.5791e+01,  ...,  1.0934e+00,\n",
              "          1.4472e-02,  1.0496e+00],\n",
              "        [ 1.5859e+00,  2.0925e+01,  3.9488e+01,  ...,  9.6347e-01,\n",
              "          9.0689e-02,  9.1557e-01]], device='cuda:0')"
            ]
          },
          "execution_count": 12,
          "metadata": {},
          "output_type": "execute_result"
        },
        {
          "data": {
            "text/plain": [
              "tensor([-1.8719,  2.6552,  7.8782,  ..., 17.6048, -1.7476,  5.2000],\n",
              "       device='cuda:0')"
            ]
          },
          "execution_count": 12,
          "metadata": {},
          "output_type": "execute_result"
        },
        {
          "data": {
            "text/plain": [
              "tensor([[ 3.3064e-01, -4.5514e+00,  3.3514e+01,  ...,  1.0617e+00,\n",
              "          1.9923e-04,  1.0500e+00],\n",
              "        [ 2.0734e+00,  8.4373e+00,  4.8892e+01,  ...,  9.7135e-01,\n",
              "          4.1327e-02,  9.9009e-01],\n",
              "        [ 1.2196e+00, -5.4198e+00,  3.3256e+01,  ...,  9.2580e-01,\n",
              "          4.0480e-02,  1.0205e+00],\n",
              "        ...,\n",
              "        [ 1.0034e+01,  1.0664e+02,  8.3738e+01,  ...,  9.7649e-01,\n",
              "          7.7972e-02,  1.0998e+00],\n",
              "        [ 3.3176e+00, -4.8156e+01,  5.6267e+01,  ...,  9.4362e-01,\n",
              "          3.5796e-02,  1.0253e+00],\n",
              "        [ 1.3750e+00,  4.8081e+00, -1.8318e+01,  ...,  1.0971e+00,\n",
              "          4.1030e-03,  9.5399e-01]], device='cuda:0')"
            ]
          },
          "execution_count": 12,
          "metadata": {},
          "output_type": "execute_result"
        },
        {
          "data": {
            "text/plain": [
              "tensor([-2.4833, -2.7283,  1.7304,  ..., -1.6070,  1.3575,  4.5469],\n",
              "       device='cuda:0')"
            ]
          },
          "execution_count": 12,
          "metadata": {},
          "output_type": "execute_result"
        },
        {
          "data": {
            "text/plain": [
              "tensor([[ 2.1124e+00,  1.3073e+01,  4.2052e+00,  ...,  1.0404e+00,\n",
              "          9.9930e-02,  1.0732e+00],\n",
              "        [ 3.5982e-01,  6.0553e+01,  1.2969e+01,  ...,  1.0340e+00,\n",
              "          5.9641e-02,  9.7794e-01],\n",
              "        [ 3.1188e+00,  1.8055e+02,  1.2135e+02,  ...,  1.0513e+00,\n",
              "          3.2577e-02,  9.5538e-01],\n",
              "        ...,\n",
              "        [ 1.4539e+00,  4.5650e+01,  2.2660e+01,  ...,  9.4001e-01,\n",
              "          1.6526e-02,  1.0333e+00],\n",
              "        [ 4.3354e+00, -2.2592e+00,  1.1045e+02,  ...,  1.0260e+00,\n",
              "          1.5386e-02,  9.2397e-01],\n",
              "        [ 2.4083e-01,  7.0432e+01,  4.6610e+01,  ...,  9.2963e-01,\n",
              "          7.8472e-02,  9.6541e-01]], device='cuda:0')"
            ]
          },
          "execution_count": 12,
          "metadata": {},
          "output_type": "execute_result"
        },
        {
          "data": {
            "text/plain": [
              "tensor([-0.8803,  3.6254,  0.9604,  ...,  8.0030,  5.4505,  4.0123],\n",
              "       device='cuda:0')"
            ]
          },
          "execution_count": 12,
          "metadata": {},
          "output_type": "execute_result"
        }
      ],
      "source": [
        "\n",
        "x_train.shape\n",
        "y_train.shape\n",
        "x_val.shape\n",
        "y_val.shape\n",
        "x_test.shape\n",
        "y_test.shape\n",
        "x_train\n",
        "y_train\n",
        "x_val\n",
        "y_val\n",
        "x_test\n",
        "y_test"
      ]
    },
    {
      "cell_type": "code",
      "execution_count": null,
      "metadata": {
        "colab": {
          "base_uri": "https://localhost:8080/"
        },
        "id": "kkEyiAXhyUfE",
        "outputId": "55a350aa-8608-4c20-91e4-bd083a0f93b7"
      },
      "outputs": [
        {
          "data": {
            "text/plain": [
              "tensor(False, device='cuda:0')"
            ]
          },
          "execution_count": 13,
          "metadata": {},
          "output_type": "execute_result"
        },
        {
          "data": {
            "text/plain": [
              "tensor(False, device='cuda:0')"
            ]
          },
          "execution_count": 13,
          "metadata": {},
          "output_type": "execute_result"
        },
        {
          "data": {
            "text/plain": [
              "tensor(False, device='cuda:0')"
            ]
          },
          "execution_count": 13,
          "metadata": {},
          "output_type": "execute_result"
        },
        {
          "data": {
            "text/plain": [
              "tensor(False, device='cuda:0')"
            ]
          },
          "execution_count": 13,
          "metadata": {},
          "output_type": "execute_result"
        },
        {
          "data": {
            "text/plain": [
              "tensor(False, device='cuda:0')"
            ]
          },
          "execution_count": 13,
          "metadata": {},
          "output_type": "execute_result"
        },
        {
          "data": {
            "text/plain": [
              "tensor(False, device='cuda:0')"
            ]
          },
          "execution_count": 13,
          "metadata": {},
          "output_type": "execute_result"
        }
      ],
      "source": [
        "torch.isnan(x_train).any()\n",
        "torch.isnan(x_val).any()\n",
        "torch.isnan(x_test).any()\n",
        "torch.isnan(y_train).any()\n",
        "torch.isnan(y_val).any()\n",
        "torch.isnan(y_test).any()"
      ]
    },
    {
      "cell_type": "code",
      "execution_count": null,
      "metadata": {
        "colab": {
          "base_uri": "https://localhost:8080/"
        },
        "id": "3XWXkFHxyUfF",
        "outputId": "e9954861-f318-4cce-d2aa-61960a616bd9"
      },
      "outputs": [
        {
          "data": {
            "text/plain": [
              "(tensor([], device='cuda:0', dtype=torch.int64),\n",
              " tensor([], device='cuda:0', dtype=torch.int64))"
            ]
          },
          "execution_count": 14,
          "metadata": {},
          "output_type": "execute_result"
        },
        {
          "data": {
            "text/plain": [
              "(tensor([], device='cuda:0', dtype=torch.int64),\n",
              " tensor([], device='cuda:0', dtype=torch.int64))"
            ]
          },
          "execution_count": 14,
          "metadata": {},
          "output_type": "execute_result"
        },
        {
          "data": {
            "text/plain": [
              "(tensor([], device='cuda:0', dtype=torch.int64),\n",
              " tensor([], device='cuda:0', dtype=torch.int64))"
            ]
          },
          "execution_count": 14,
          "metadata": {},
          "output_type": "execute_result"
        }
      ],
      "source": [
        "nan_mask_train = torch.isnan(x_train)     # get a boolean mask indicating NaN values\n",
        "nan_indices_train = torch.where(nan_mask_train)  # get the indices of the NaN values\n",
        "nan_indices_train\n",
        "# len(nan_indices_train)\n",
        "\n",
        "nan_mask_val = torch.isnan(x_val)     # get a boolean mask indicating NaN values\n",
        "nan_indices_val = torch.where(nan_mask_val)  # get the indices of the NaN values\n",
        "nan_indices_val\n",
        "# len(nan_indices_test)\n",
        "\n",
        "nan_mask_test = torch.isnan(x_test)     # get a boolean mask indicating NaN values\n",
        "nan_indices_test = torch.where(nan_mask_test)  # get the indices of the NaN values\n",
        "nan_indices_test\n",
        "# len(nan_indices_test)"
      ]
    },
    {
      "cell_type": "markdown",
      "metadata": {
        "id": "DgbP6n8NyUfF"
      },
      "source": [
        "## Visualizing the data"
      ]
    },
    {
      "cell_type": "markdown",
      "metadata": {
        "id": "l2nFF6bKyUfF"
      },
      "source": [
        "### Visualizing sampled data"
      ]
    },
    {
      "cell_type": "code",
      "execution_count": null,
      "metadata": {
        "colab": {
          "base_uri": "https://localhost:8080/"
        },
        "id": "-YpNRz6pyUfG",
        "outputId": "4ba92629-173b-4058-ec80-fc944ffea648"
      },
      "outputs": [
        {
          "name": "stdout",
          "output_type": "stream",
          "text": [
            "skipping\n"
          ]
        }
      ],
      "source": [
        "%%script echo skipping\n",
        "\n",
        "if not LOAD_DATA_FROM_CSV:\n",
        "    rho\n",
        "    epsilon\n",
        "    vx\n",
        "    vy\n",
        "    vz \n",
        "    Bx\n",
        "    By\n",
        "    Bz\n",
        "    gxx\n",
        "    gxy\n",
        "    gxz\n",
        "    gyy\n",
        "    gyz\n",
        "    gzz "
      ]
    },
    {
      "cell_type": "code",
      "execution_count": null,
      "metadata": {
        "colab": {
          "base_uri": "https://localhost:8080/"
        },
        "id": "naHhJF9OyUfG",
        "outputId": "9edf3eee-1e30-4297-f98b-a3009f9d6201"
      },
      "outputs": [
        {
          "name": "stdout",
          "output_type": "stream",
          "text": [
            "1000000\n",
            "1000000\n",
            "1000000\n",
            "1000000\n",
            "1000000\n",
            "1000000\n",
            "1000000\n",
            "1000000\n",
            "\n",
            "1000000\n",
            "1000000\n",
            "1000000\n",
            "1000000\n",
            "1000000\n",
            "1000000\n"
          ]
        }
      ],
      "source": [
        "if not LOAD_DATA_FROM_CSV:\n",
        "    print(len(rho))\n",
        "    print(len(epsilon))\n",
        "    print(len(vx))\n",
        "    print(len(vy))\n",
        "    print(len(vz))\n",
        "    print(len(Bx))\n",
        "    print(len(By))\n",
        "    print(len(Bz))\n",
        "    print()\n",
        "    print(len(gxx))\n",
        "    print(len(gxy))\n",
        "    print(len(gxz))\n",
        "    print(len(gyy))\n",
        "    print(len(gyz))\n",
        "    print(len(gzz))"
      ]
    },
    {
      "cell_type": "code",
      "execution_count": null,
      "metadata": {
        "id": "VMp6XJ6RUZh4"
      },
      "outputs": [],
      "source": [
        "%config InteractiveShell.ast_node_interactivity = \"last_expr_or_assign\""
      ]
    },
    {
      "cell_type": "code",
      "execution_count": null,
      "metadata": {
        "colab": {
          "base_uri": "https://localhost:8080/"
        },
        "id": "FaQilworyUfH",
        "outputId": "7b3f8cf0-d9c4-4b08-92a7-f436a86c97b1"
      },
      "outputs": [
        {
          "name": "stdout",
          "output_type": "stream",
          "text": [
            "skipping\n"
          ]
        }
      ],
      "source": [
        "%%script echo skipping\n",
        "\n",
        "plt.hist([np.random.uniform(0, 0.999) for _ in range(n_train_samples)], bins=20)"
      ]
    },
    {
      "cell_type": "code",
      "execution_count": null,
      "metadata": {
        "colab": {
          "base_uri": "https://localhost:8080/"
        },
        "id": "GrQZUO22yUfH",
        "outputId": "3a35bceb-fdf8-4037-c488-680fe24c818d"
      },
      "outputs": [
        {
          "name": "stdout",
          "output_type": "stream",
          "text": [
            "skipping\n"
          ]
        }
      ],
      "source": [
        "%%script echo skipping\n",
        "\n",
        "epsilon"
      ]
    },
    {
      "cell_type": "markdown",
      "metadata": {
        "id": "lAJHK1SZyUfH"
      },
      "source": [
        "The reason the sampling is not uniformly distributed in the following plots is due to the resampling and the fact that we certain values of e.g. velocity are more likely to violate the speed of light constraint than others."
      ]
    },
    {
      "cell_type": "code",
      "execution_count": null,
      "metadata": {
        "colab": {
          "base_uri": "https://localhost:8080/",
          "height": 575
        },
        "id": "E5YFdqKjUZh5",
        "outputId": "eb2a9d27-34ca-4377-e297-83e0d6337a84"
      },
      "outputs": [
        {
          "data": {
            "image/png": "[encoded data removed]",
            "text/plain": [
              "<Figure size 2000x1600 with 14 Axes>"
            ]
          },
          "metadata": {},
          "output_type": "display_data"
        }
      ],
      "source": [
        "#%%script echo skipping\n",
        "\n",
        "if not LOAD_DATA_FROM_CSV:\n",
        "    def plot_histogram(data, xlabel, ylabel, position, bins=20, xlog_scale=False, ylog_scale=False):\n",
        "        plt.subplot(4, 5, position)\n",
        "        plt.hist(data, bins=bins)\n",
        "        plt.xlabel(xlabel)\n",
        "        plt.ylabel(ylabel)\n",
        "        if xlog_scale: # Setting does not work expected for epsilon.\n",
        "            plt.xscale(\"log\")\n",
        "        if ylog_scale: # Setting does not work expected for epsilon.\n",
        "            plt.yscale(\"log\")\n",
        "\n",
        "    # Plotting the histograms of rho, vx, epsilon, b0, b1, b2, and b3\n",
        "    bins = 20\n",
        "    plt.figure(figsize=(20, 16))\n",
        "\n",
        "    plot_histogram(rho, \"rho\", \"Frequency\", 1, bins=bins)\n",
        "    plot_histogram(epsilon, \"epsilon\", \"Frequency\", 2, bins=bins)\n",
        "    plot_histogram(vx, \"vx\", \"Frequency\", 3, bins=bins)\n",
        "    plot_histogram(vy, \"vy\", \"Frequency\", 4, bins=bins)\n",
        "    plot_histogram(vz, \"vz\", \"Frequency\", 5, bins=bins)\n",
        "    plot_histogram(Bx, \"Bx\", \"Frequency\", 6, bins=bins)\n",
        "    plot_histogram(By, \"By\", \"Frequency\", 7, bins=bins)\n",
        "    plot_histogram(Bz, \"Bz\", \"Frequency\", 8, bins=bins)\n",
        "\n",
        "    # Plot these\n",
        "    plot_histogram(gxx, \"gxx\", \"Frequency\", 9, bins=bins)\n",
        "    plot_histogram(gxy, \"gxy\", \"Frequency\", 10, bins=bins)\n",
        "    plot_histogram(gxz, \"gxz\", \"Frequency\", 11, bins=bins)\n",
        "    plot_histogram(gyy, \"gyy\", \"Frequency\", 12, bins=bins)\n",
        "    plot_histogram(gyz, \"gyz\", \"Frequency\", 13, bins=bins)\n",
        "    plot_histogram(gzz, \"gzz\", \"Frequency\", 14, bins=bins)\n",
        "\n",
        "\n",
        "    plt.suptitle(\"Primitive variables and metric\")\n",
        "    plt.tight_layout()\n",
        "    plt.show()\n"
      ]
    },
    {
      "cell_type": "code",
      "execution_count": null,
      "metadata": {
        "id": "gcEYWxrayUfI"
      },
      "outputs": [],
      "source": [
        "%config InteractiveShell.ast_node_interactivity = \"last_expr_or_assign\""
      ]
    },
    {
      "cell_type": "code",
      "execution_count": null,
      "metadata": {
        "colab": {
          "base_uri": "https://localhost:8080/",
          "height": 1000
        },
        "id": "cQqnwx5ayUfI",
        "outputId": "7bb05d41-a3b3-43c3-8eb9-3fda5c43c336"
      },
      "outputs": [
        {
          "data": {
            "image/png": "[encoded data removed]",
            "text/plain": [
              "<Figure size 1600x1600 with 14 Axes>"
            ]
          },
          "metadata": {},
          "output_type": "display_data"
        }
      ],
      "source": [
        "#%%script echo skipping\n",
        "\n",
        "# Variable names\n",
        "variable_names = [\"D\", \"Sx\", \"Sy\", \"Sz\", \"tau\", \"Bconsx\", \"Bconsy\", \"Bconsz\", \"gxx\", \"gxy\", \"gxz\", \"gyy\", \"gyz\", \"gzz\"]\n",
        "\n",
        "# Plotting histograms of the input variables before z-score normalization\n",
        "plt.figure(figsize=(16, 16))\n",
        "plt.suptitle('Histograms of input variables before (or without at all) z-score normalization', y=1.03)\n",
        "\n",
        "for i in range(N_INPUTS):\n",
        "    plt.subplot(7, 2, i+1)\n",
        "    data = x_train[:, i].cpu().numpy() # Convert tensor to numpy array for percentile calculation\n",
        "    lower_bound, upper_bound = np.percentile(data, [1, 100]) # NOTE: Use this instead to visualize all the data.\n",
        "    # lower_bound, upper_bound = np.percentile(data, [1, 90]) # Calculate 1st and 99th percentile\n",
        "\n",
        "    plt.hist(data, bins=50, range=(lower_bound, upper_bound)) # Set range to the calculated percentile range\n",
        "    plt.xlabel(variable_names[i])\n",
        "    plt.xlim(lower_bound, upper_bound) # Set the x limit to match the range of the histogram\n",
        "\n",
        "plt.subplots_adjust(hspace=0.4, wspace=0.4)\n",
        "plt.show()\n",
        "\n",
        "# Same plotting but for the test data. Adjust the percentile range as needed to zoom in.\n",
        "# plt.figure(figsize=(16, 16))\n",
        "# plt.suptitle('Histograms of input variables before (or without at all) z-score normalization (test data)', y=1.03)\n",
        "\n",
        "# for i in range(14):\n",
        "#     plt.subplot(7, 2, i+1)\n",
        "#     data = x_test[:, i].cpu().numpy() # Convert tensor to numpy array for percentile calculation\n",
        "#     #lower_bound, upper_bound = np.percentile(data, [1, 100]) # NOTE: Use this instead to visualize all the data.\n",
        "#     lower_bound, upper_bound = np.percentile(data, [1, 99]) # Use this to zoom in.\n",
        "\n",
        "#     plt.hist(data, bins=50, range=(lower_bound, upper_bound)) # Set range to the calculated percentile range\n",
        "#     plt.xlabel(variable_names[i])\n",
        "#     plt.xlim(lower_bound, upper_bound) # Set the x limit to match the range of the histogram\n",
        "\n",
        "# plt.subplots_adjust(hspace=0.4, wspace=0.4)\n",
        "# plt.show()\n",
        "\n"
      ]
    },
    {
      "cell_type": "markdown",
      "metadata": {
        "id": "3C3jSavqlXa9"
      },
      "source": []
    },
    {
      "cell_type": "markdown",
      "metadata": {
        "id": "plEmGleqyUfJ"
      },
      "source": [
        "### Data normalization"
      ]
    },
    {
      "cell_type": "code",
      "execution_count": null,
      "metadata": {
        "colab": {
          "base_uri": "https://localhost:8080/"
        },
        "id": "S5ouzqffyUfJ",
        "outputId": "00e48102-1189-48a5-811c-83b2ad5e376d"
      },
      "outputs": [
        {
          "name": "stdout",
          "output_type": "stream",
          "text": [
            "Summary statistics of input variables before z-score normalization\n",
            "tensor([[ 4.3775e-06,  1.8108e+03,  2.2810e+00,  1.6668e+00,  4.7989e+00],\n",
            "        [-2.2112e+06,  1.0419e+06,  4.0701e+01,  2.2035e+01,  3.1277e+03],\n",
            "        [-5.5593e+05,  4.7101e+06,  4.8351e+01,  2.1971e+01,  5.9039e+03],\n",
            "        [-6.2128e+05,  1.7829e+06,  4.4380e+01,  2.1917e+01,  2.6646e+03],\n",
            "        [-2.2805e+06,  4.9066e+06,  1.0369e+02,  6.9854e+01,  6.8886e+03],\n",
            "        [-1.1372e+01,  1.1315e+01, -1.1586e-02, -2.0545e-02,  5.7322e+00],\n",
            "        [-1.1349e+01,  1.1251e+01,  9.7075e-03,  7.2483e-03,  5.7326e+00],\n",
            "        [-1.1348e+01,  1.1284e+01,  3.4099e-03,  8.3934e-03,  5.7359e+00],\n",
            "        [ 9.0000e-01,  1.1000e+00,  9.9861e-01,  9.9787e-01,  5.7689e-02],\n",
            "        [ 4.9498e-08,  1.0000e-01,  4.9589e-02,  4.9446e-02,  2.8868e-02],\n",
            "        [ 4.1959e-08,  1.0000e-01,  4.9642e-02,  4.9501e-02,  2.8847e-02],\n",
            "        [ 9.0000e-01,  1.1000e+00,  9.9870e-01,  9.9800e-01,  5.7654e-02],\n",
            "        [ 6.4282e-08,  1.0000e-01,  4.9647e-02,  4.9435e-02,  2.8866e-02],\n",
            "        [ 9.0000e-01,  1.1000e+00,  9.9872e-01,  9.9809e-01,  5.7709e-02]],\n",
            "       device='cuda:0')\n"
          ]
        }
      ],
      "source": [
        "# Computing summary statistics of the input variables before and after z-score normalization\n",
        "print('Summary statistics of input variables before z-score normalization')\n",
        "print(torch.stack([torch.min(x_train, dim=0).values, torch.max(x_train, dim=0).values, torch.nanmean(x_train, dim=0), torch.median(x_train, dim=0).values, torch.std(x_train, dim=0)], dim=1))"
      ]
    },
    {
      "cell_type": "markdown",
      "metadata": {
        "id": "xTEmkR1SUZh7"
      },
      "source": [
        "Perform z-score normalization"
      ]
    },
    {
      "cell_type": "code",
      "execution_count": null,
      "metadata": {
        "id": "n_ifIyZPyUfJ"
      },
      "outputs": [],
      "source": [
        "%config InteractiveShell.ast_node_interactivity = \"all\""
      ]
    },
    {
      "cell_type": "code",
      "execution_count": null,
      "metadata": {
        "id": "yPOv6DxhUZh7"
      },
      "outputs": [],
      "source": [
        "if ZSCORE_NORMALIZATION:\n",
        "    \n",
        "    # TODO: Add magnetic field variables to the normalization if I decide to use the old code that is commented out here.\n",
        "    # # Computing the median of each input variable from the training set using torch.nanmedian function\n",
        "    # D_median = torch.nanmedian(x_train[:, 0])\n",
        "    # Sx_median = torch.nanmedian(x_train[:, 1])\n",
        "    # Sy_median = torch.nanmedian(x_train[:, 2])\n",
        "    # Sz_median = torch.nanmedian(x_train[:, 3])\n",
        "    # tau_median = torch.nanmedian(x_train[:, 4])\n",
        "\n",
        "    # # Computing the standard deviation of each input variable from the training set using torch.std function with a boolean mask to ignore nan values\n",
        "    # D_std = torch.std(x_train[~torch.isnan(x_train[:, 0]), 0])\n",
        "    # Sx_std = torch.std(x_train[~torch.isnan(x_train[:, 1]), 1])\n",
        "    # Sy_std = torch.std(x_train[~torch.isnan(x_train[:, 2]), 2])\n",
        "    # Sz_std = torch.std(x_train[~torch.isnan(x_train[:, 3]), 3])\n",
        "    # tau_std = torch.std(x_train[~torch.isnan(x_train[:, 4]), 4])\n",
        "\n",
        "\n",
        "    # # Applying z-score normalization to both train and test sets using the statistics from the training set\n",
        "    # x_train[:, 0] = torch.sub(x_train[:, 0], D_median).div(D_std)\n",
        "    # x_train[:, 1] = torch.sub(x_train[:, 1], Sx_median).div(Sx_std)\n",
        "    # x_train[:, 2] = torch.sub(x_train[:, 2], Sy_median).div(Sy_std)\n",
        "    # x_train[:, 3] = torch.sub(x_train[:, 3], Sz_median).div(Sz_std)\n",
        "    # x_train[:, 4] = torch.sub(x_train[:, 4], tau_median).div(tau_std)\n",
        "\n",
        "    # x_test[:, 0] = torch.sub(x_test[:, 0], D_median).div(D_std)\n",
        "    # x_test[:, 1] = torch.sub(x_test[:, 1], Sx_median).div(Sx_std)\n",
        "    # x_test[:, 2] = torch.sub(x_test[:, 2], Sy_median).div(Sy_std)\n",
        "    # x_test[:, 3] = torch.sub(x_test[:, 3], Sz_median).div(Sz_std)\n",
        "    # x_test[:, 4] = torch.sub(x_test[:, 4], tau_median).div(tau_std)\n",
        "\n",
        "    # Computing the mean and standard deviation of each column\n",
        "    mean = x_train.mean(dim=0)\n",
        "    std = x_train.std(dim=0)\n",
        "\n",
        "    # Applying z-score normalization\n",
        "    x_train = (x_train - mean) / std\n",
        "    # Use the same mean and std from the training data as we don't want test data leakage.\n",
        "    x_test = (x_test - mean) / std\n",
        "\n"
      ]
    },
    {
      "cell_type": "markdown",
      "metadata": {
        "id": "fT2ZWWs_yUfV"
      },
      "source": [
        "Plotting the histograms of the input data after normalization if z-score normalization was performed."
      ]
    },
    {
      "cell_type": "code",
      "execution_count": null,
      "metadata": {
        "id": "tECmchuwyUfV"
      },
      "outputs": [],
      "source": [
        "%config InteractiveShell.ast_node_interactivity = \"last_expr_or_assign\""
      ]
    },
    {
      "cell_type": "code",
      "execution_count": null,
      "metadata": {
        "id": "YlPs0YzAyUfV"
      },
      "outputs": [],
      "source": [
        "if not LOAD_DATA_FROM_CSV:\n",
        "    if ZSCORE_NORMALIZATION:\n",
        "        # Variable names\n",
        "        variable_names = [\"D\", \"Sx\", \"Sy\", \"Sz\", \"tau\", \"Bconsx\", \"Bconsy\", \"Bconsz\", \"gxx\", \"gxy\", \"gxz\", \"gyy\", \"gyz\", \"gzz\"]\n",
        "\n",
        "        # Plotting histograms of the input variables before z-score normalization\n",
        "        plt.figure(figsize=(16, 16))\n",
        "        plt.suptitle('Histograms of input variables before (or without at all) z-score normalization', y=1.03)\n",
        "\n",
        "        for i in range(N_INPUTS):\n",
        "            plt.subplot(7, 2, i+1)\n",
        "            data = x_train[:, i].cpu().numpy() # Convert tensor to numpy array for percentile calculation\n",
        "            lower_bound, upper_bound = np.percentile(data, [1, 100]) # NOTE: Use this instead to visualize all the data.\n",
        "            # lower_bound, upper_bound = np.percentile(data, [1, 90]) # Calculate 1st and 99th percentile\n",
        "\n",
        "            plt.hist(data, bins=50, range=(lower_bound, upper_bound)) # Set range to the calculated percentile range\n",
        "            plt.xlabel(variable_names[i])\n",
        "            plt.xlim(lower_bound, upper_bound) # Set the x limit to match the range of the histogram\n",
        "\n",
        "        plt.subplots_adjust(hspace=0.4, wspace=0.4)\n",
        "        plt.show()"
      ]
    },
    {
      "cell_type": "code",
      "execution_count": null,
      "metadata": {
        "id": "3UR-wo0SyUfW"
      },
      "outputs": [],
      "source": [
        "if ZSCORE_NORMALIZATION:\n",
        "    # Computing summary statistics of the input variables after z-score normalization\n",
        "    print('Summary statistics of input variables after z-score normalization')\n",
        "    print(torch.stack([torch.min(x_train, dim=0).values, torch.max(x_train, dim=0).values, torch.mean(x_train, dim=0), torch.median(x_train, dim=0).values, torch.std(x_train, dim=0)], dim=1))\n"
      ]
    },
    {
      "cell_type": "markdown",
      "metadata": {
        "id": "JSKTD00gyUfW"
      },
      "source": [
        "### Visualizing input data and labels"
      ]
    },
    {
      "cell_type": "code",
      "execution_count": null,
      "metadata": {
        "colab": {
          "base_uri": "https://localhost:8080/"
        },
        "id": "D5zmSieOyUfW",
        "outputId": "3b21d464-22b9-4cac-f31f-563bccf2db69"
      },
      "outputs": [
        {
          "data": {
            "text/plain": [
              "tensor([-0.8803,  3.6254,  0.9604,  ...,  8.0030,  5.4505,  4.0123],\n",
              "       device='cuda:0')"
            ]
          },
          "execution_count": 29,
          "metadata": {},
          "output_type": "execute_result"
        }
      ],
      "source": [
        "x_train\n",
        "y_train\n",
        "x_val\n",
        "y_val\n",
        "x_test\n",
        "y_test"
      ]
    },
    {
      "cell_type": "markdown",
      "metadata": {
        "id": "E96p_MsOUZh9",
        "outputId": "4b95bad0-8f3a-4364-eed1-008e0ce2a5e3"
      },
      "source": [
        "Checking if our output is always positive ~~by plotting a histogram of y_train and y_test tensors~~"
      ]
    },
    {
      "cell_type": "code",
      "execution_count": null,
      "metadata": {
        "colab": {
          "base_uri": "https://localhost:8080/"
        },
        "id": "uXdQF0fdyUfW",
        "outputId": "9a66df7f-11a4-4014-b82b-4ea388a6a146"
      },
      "outputs": [
        {
          "name": "stdout",
          "output_type": "stream",
          "text": [
            "tensor(True)\n"
          ]
        }
      ],
      "source": [
        "import torch\n",
        "\n",
        "# Create a sample tensor\n",
        "tensor = torch.randn(80000, 14)  # Assuming a tensor of shape [80000, 14]\n",
        "tensor\n",
        "\n",
        "\n",
        "# Check if any element is negative\n",
        "any_negative = torch.any(tensor < 0)\n",
        "\n",
        "# Print the result\n",
        "print(any_negative)\n"
      ]
    },
    {
      "cell_type": "code",
      "execution_count": null,
      "metadata": {
        "colab": {
          "base_uri": "https://localhost:8080/"
        },
        "id": "zZ8DI737yUfX",
        "outputId": "1494bdb4-c989-4330-8a81-48cb376f3ced"
      },
      "outputs": [
        {
          "data": {
            "text/plain": [
              "tensor(True, device='cuda:0')"
            ]
          },
          "execution_count": 31,
          "metadata": {},
          "output_type": "execute_result"
        }
      ],
      "source": [
        "y_train.shape\n",
        "any_negative = torch.any(y_train < 0)\n",
        "any_negative\n",
        "\n",
        "y_test.shape\n",
        "any_negative = torch.any(y_test < 0)\n",
        "any_negative\n",
        "\n",
        "x_train.shape\n",
        "any_negative = torch.any(x_train < 0)\n",
        "any_negative"
      ]
    },
    {
      "cell_type": "code",
      "execution_count": null,
      "metadata": {
        "colab": {
          "base_uri": "https://localhost:8080/",
          "height": 406
        },
        "id": "ljSZWb-cyUfX",
        "outputId": "85ed670f-0788-4c48-a434-f86bdd1bffe0"
      },
      "outputs": [
        {
          "data": {
            "image/png": "[encoded data removed]",
            "text/plain": [
              "<Figure size 800x400 with 3 Axes>"
            ]
          },
          "metadata": {},
          "output_type": "display_data"
        }
      ],
      "source": [
        "#%%script echo skipping\n",
        "\n",
        "plt.figure(figsize=(8, 4))\n",
        "plt.subplot(1, 3, 1)\n",
        "plt.hist(y_train.cpu().numpy(), bins=100) # must be cpu here.\n",
        "plt.xlabel(\"y_train\")\n",
        "plt.ylabel(\"Frequency\")\n",
        "plt.xscale(\"log\")\n",
        "plt.subplot(1, 3, 2)\n",
        "plt.hist(y_val.cpu().numpy(), bins=100) # must be cpu here\n",
        "plt.xlabel(\"y_val\")\n",
        "plt.ylabel(\"Frequency\")\n",
        "plt.xscale(\"log\")\n",
        "plt.tight_layout()\n",
        "plt.subplot(1, 3, 3)\n",
        "plt.hist(y_test.cpu().numpy(), bins=100) # must be cpu here\n",
        "plt.xlabel(\"y_test\")\n",
        "plt.ylabel(\"Frequency\")\n",
        "plt.xscale(\"log\")\n",
        "plt.tight_layout()\n",
        "plt.show()\n"
      ]
    },
    {
      "cell_type": "code",
      "execution_count": null,
      "metadata": {
        "id": "FEgjk--AUZh9"
      },
      "outputs": [],
      "source": [
        "%config InteractiveShell.ast_node_interactivity = \"all\""
      ]
    },
    {
      "cell_type": "markdown",
      "metadata": {
        "id": "r2b9GecHUZh9"
      },
      "source": [
        "## Defining the neural network"
      ]
    },
    {
      "cell_type": "markdown",
      "metadata": {
        "id": "4l7rti5iHi_T"
      },
      "source": []
    },
    {
      "cell_type": "code",
      "execution_count": null,
      "metadata": {
        "id": "Iv8HA-ZXUZh-"
      },
      "outputs": [],
      "source": [
        "# Defining a class for the network\n",
        "class Net(nn.Module):\n",
        "    \"\"\"A class for creating a network with a\n",
        "    variable number of hidden layers and units.\n",
        "\n",
        "    Attributes:\n",
        "        n_layers (int): The number of hidden layers in the network.\n",
        "        n_units (list): A list of integers representing the number of units in each hidden layer.\n",
        "        hidden_activation (torch.nn.Module): The activation function for the hidden layers.\n",
        "        output_activation (torch.nn.Module): The activation function for the output layer.\n",
        "        layers (torch.nn.ModuleList): A list of linear layers in the network.\n",
        "    \"\"\"\n",
        "\n",
        "    def __init__(self, n_layers, n_units, hidden_activation, output_activation, dropout_rate):\n",
        "        \"\"\"Initializes the network with the given hyperparameters.\n",
        "\n",
        "        Args:\n",
        "            n_layers (int): The number of hidden layers in the network.\n",
        "            n_units (list): A list of integers representing the number of units in each hidden layer.\n",
        "            hidden_activation (torch.nn.Module): The activation function for the hidden layers.\n",
        "            output_activation (torch.nn.Module): The activation function for the output layer.\n",
        "            TODO: [ver. Copilot description] dropout_rate (float): The dropout rate to use for all layers.\n",
        "        \"\"\"\n",
        "        super().__init__()\n",
        "        self.n_layers = n_layers\n",
        "        self.n_units = n_units\n",
        "        self.hidden_activation = hidden_activation\n",
        "        self.output_activation = output_activation\n",
        "        self.dropout_rate = dropout_rate\n",
        "\n",
        "        # Creating a list of linear layers with different numbers of units for each layer\n",
        "        self.layers = nn.ModuleList()\n",
        "        self.dropouts = nn.ModuleList()\n",
        "\n",
        "        self.layers.append(nn.Linear(N_INPUTS, n_units[0]))\n",
        "        self.dropouts.append(nn.Dropout(p=dropout_rate))\n",
        "\n",
        "        for i in range(1, n_layers):\n",
        "            self.layers.append(nn.Linear(n_units[i - 1], n_units[i]))\n",
        "            self.dropouts.append(nn.Dropout(p=dropout_rate))\n",
        "\n",
        "        self.layers.append(nn.Linear(n_units[-1], N_OUTPUTS))\n",
        "\n",
        "        # Adding some assertions to check that the input arguments are valid\n",
        "        assert isinstance(n_layers, int) and n_layers > 0, \"n_layers must be a positive integer\"\n",
        "        assert isinstance(n_units, list) and len(n_units) == n_layers, \"n_units must be a list of length n_layers\"\n",
        "        assert all(isinstance(n, int) and n > 0 for n in n_units), \"n_units must contain positive integers\"\n",
        "        assert isinstance(hidden_activation, nn.Module), \"hidden_activation must be a torch.nn.Module\"\n",
        "        assert isinstance(output_activation, nn.Module), \"output_activation must be a torch.nn.Module\"\n",
        "\n",
        "    def forward(self, x):\n",
        "        \"\"\"Performs a forward pass on the input tensor.\n",
        "\n",
        "        Args:\n",
        "            x (torch.Tensor): The input tensor of shape (batch_size, N_INPUTS).\n",
        "\n",
        "        Returns:\n",
        "            torch.Tensor: The output tensor of shape (batch_size, N_OUTPUTS).\n",
        "        \"\"\"\n",
        "        # Adding an assertion to check that the input tensor has the expected shape and type\n",
        "        assert isinstance(x, torch.Tensor), \"x must be a torch.Tensor\"\n",
        "        assert x.shape[1] == N_INPUTS, f\"x must have shape (batch_size, {N_INPUTS})\"\n",
        "\n",
        "        for layer, dropout in zip(self.layers[:-1], self.dropouts):\n",
        "            x = dropout(self.hidden_activation(layer(x)))\n",
        "        # Applying the linear transformation and the activation function on the output layer\n",
        "        x = self.output_activation(self.layers[-1](x)) # No dropout at output layer\n",
        "\n",
        "        return x # Returning the output tensor\n"
      ]
    },
    {
      "cell_type": "code",
      "execution_count": null,
      "metadata": {
        "colab": {
          "base_uri": "https://localhost:8080/"
        },
        "id": "aVUQAVhzyUfY",
        "outputId": "630edb3c-672f-4fde-b775-58415871c618"
      },
      "outputs": [
        {
          "name": "stdout",
          "output_type": "stream",
          "text": [
            "skipping\n"
          ]
        }
      ],
      "source": [
        "%%script echo skipping\n",
        "\n",
        "[1,2,3]\n",
        "[1,2,3][:-1]"
      ]
    },
    {
      "cell_type": "code",
      "execution_count": null,
      "metadata": {
        "colab": {
          "base_uri": "https://localhost:8080/"
        },
        "id": "BEBudkK1yUfY",
        "outputId": "1e0f7177-d70b-4e27-dae4-c983767a4844"
      },
      "outputs": [
        {
          "name": "stdout",
          "output_type": "stream",
          "text": [
            "1\n",
            "2\n"
          ]
        }
      ],
      "source": [
        "for x in [1,2,3][:-1]:\n",
        "    print(x)\n",
        "\n"
      ]
    },
    {
      "cell_type": "markdown",
      "metadata": {
        "id": "6GNvp55PUZh_"
      },
      "source": [
        "## Defining the model and search space"
      ]
    },
    {
      "cell_type": "code",
      "execution_count": null,
      "metadata": {
        "id": "9a1opluOUZh_"
      },
      "outputs": [],
      "source": [
        "# Defining a function to create a trial network and optimizer\n",
        "def create_model(trial, optimize):\n",
        "    \"\"\"Creates a trial network and optimizer based on the sampled hyperparameters.\n",
        "\n",
        "    Args:\n",
        "        trial (optuna.trial.Trial): The trial object that contains the hyperparameters.\n",
        "        optimize (boolean): Whether to optimize the hyperparameters or to use predefined values.\n",
        "\n",
        "    Returns:\n",
        "        tuple: A tuple of (net, loss_fn, optimizer, batch_size, n_epochs,\n",
        "            scheduler, loss_name, optimizer_name, scheduler_name,\n",
        "            n_units, n_layers, hidden_activation, output_activation),\n",
        "            where net is the trial network,\n",
        "            loss_fn is the loss function,\n",
        "            optimizer is the optimizer,\n",
        "            batch_size is the batch size,\n",
        "            n_epochs is the number of epochs,\n",
        "            scheduler is the learning rate scheduler,\n",
        "            loss_name is the name of the loss function,\n",
        "            optimizer_name is the name of the optimizer,\n",
        "            scheduler_name is the name of the scheduler,\n",
        "            n_units is a list of integers representing\n",
        "            the number of units in each hidden layer,\n",
        "            n_layers is an integer representing the number of hidden layers in the network,\n",
        "            hidden_activation is a torch.nn.Module representing the activation function for the hidden layers,\n",
        "            output_activation is a torch.nn.Module representing the activation function for the output layer,\n",
        "            lr is the (initial) learning rate.\n",
        "            dropout_rate is the dropout rate.\n",
        "    \"\"\"\n",
        "    # If optimize is True, sample the hyperparameters from the search space\n",
        "    if OPTIMIZE:\n",
        "        n_layers = trial.suggest_int(\"n_layers\", 2, 10)\n",
        "        n_units = [trial.suggest_int(f\"n_units_{i}\", 16, 4096) for i in range(n_layers)]\n",
        "\n",
        "        hidden_activation_name = trial.suggest_categorical(\n",
        "            \"hidden_activation\", [\"ReLU\", \"LeakyReLU\", \"ELU\", \"PReLU\", \"Swish\", \"GELU\", \"SoftPlus\"]\n",
        "        )\n",
        "        output_activation_name = trial.suggest_categorical( \"output_activation\", [\"Linear\"])\n",
        "\n",
        "        loss_name = trial.suggest_categorical( \"loss\", [\"MSE\", \"MAE\", \"Huber\", \"Quantile\"])  # Added Quantile loss\n",
        "\n",
        "        optimizer_name = trial.suggest_categorical( \"optimizer\", [\"Adam\", \"SGD\", \"RMSprop\", \"Adagrad\"] )\n",
        "\n",
        "        lr = trial.suggest_loguniform(\"lr\", 1e-6, 1)\n",
        "\n",
        "        batch_size_list = [32, 64, 128, 256, 512, 1024, 2048]\n",
        "        batch_size = trial.suggest_categorical(\"batch_size\", batch_size_list)\n",
        "        \n",
        "        n_epochs = trial.suggest_int(\"n_epochs\", 50, 150)\n",
        "\n",
        "        # scheduler_name = trial.suggest_categorical(\"scheduler\", [\"CosineAnnealingLR\", \"ReduceLROnPlateau\", \"StepLR\", \"CyclicLR\"])\n",
        "        scheduler_name = trial.suggest_categorical(\"scheduler\", [\"CosineAnnealingLR\", \"ReduceLROnPlateau\", \"StepLR\"])\n",
        "\n",
        "        # Creating the activation functions from their names\n",
        "        if hidden_activation_name == \"ReLU\":\n",
        "            hidden_activation = nn.ReLU()\n",
        "        elif hidden_activation_name == \"LeakyReLU\":\n",
        "            negative_slope = trial.suggest_uniform(\"leakyrelu_slope\", 0.01, 0.3)\n",
        "            hidden_activation = nn.LeakyReLU(negative_slope=negative_slope)\n",
        "        elif hidden_activation_name == \"ELU\":\n",
        "            hidden_activation = nn.ELU() \n",
        "        elif hidden_activation_name == \"PReLU\":\n",
        "            init = trial.suggest_uniform(\"prelu_init\", 0.1, 0.3)\n",
        "            hidden_activation = nn.PReLU(init=init)\n",
        "        elif hidden_activation_name == \"Swish\":\n",
        "            class Swish(nn.Module):\n",
        "                def forward(self, x):\n",
        "                    return x * torch.sigmoid(x)\n",
        "            hidden_activation = Swish()\n",
        "        elif hidden_activation_name == \"GELU\":\n",
        "            hidden_activation = nn.GELU()\n",
        "        elif hidden_activation_name == \"SoftPlus\":\n",
        "            beta = trial.suggest_uniform(\"softplus_beta\", 0.5, 1.5)\n",
        "            hidden_activation = nn.Softplus(beta=beta) # We don't optimize thresshold subparameters, as it's mainly for numerical stability.\n",
        "\n",
        "        dropout_rate = trial.suggest_uniform(\"dropout_rate\", 0.0, 0.5)\n",
        "\n",
        "\n",
        "    # If optimize is False, use the predefined values\n",
        "    else:\n",
        "        # Setting the hyperparameters to the predefined values\n",
        "        n_layers = N_LAYERS_NO_OPT\n",
        "        n_units = N_UNITS_NO_OPT\n",
        "        hidden_activation_name = HIDDEN_ACTIVATION_NAME_NO_OPT\n",
        "        output_activation_name = OUTPUT_ACTIVATION_NAME_NO_OPT\n",
        "        loss_name = LOSS_NAME_NO_OPT\n",
        "        optimizer_name = OPTIMIZER_NAME_NO_OPT\n",
        "        lr = LR_NO_OPT\n",
        "        batch_size = BATCH_SIZE_NO_OPT\n",
        "        n_epochs = N_EPOCHS_NO_OPT\n",
        "        scheduler_name = SCHEDULER_NAME_NO_OPT\n",
        "\n",
        "        # Creating the activation functions from their names\n",
        "        if hidden_activation_name == \"ReLU\":\n",
        "            hidden_activation = nn.ReLU()\n",
        "        elif hidden_activation_name == \"LeakyReLU\":\n",
        "            negative_slope = 0.01\n",
        "            hidden_activation = nn.LeakyReLU(negative_slope=negative_slope)\n",
        "        elif hidden_activation_name == \"ELU\":\n",
        "            hidden_activation = nn.ELU() \n",
        "        elif hidden_activation_name == \"PReLU\":\n",
        "            init = 0.25\n",
        "            hidden_activation = nn.PReLU(init=init)\n",
        "        elif hidden_activation_name == \"Swish\":\n",
        "            class Swish(nn.Module):\n",
        "                def forward(self, x):\n",
        "                    return x * torch.sigmoid(x)\n",
        "            hidden_activation = Swish()\n",
        "        elif hidden_activation_name == \"GELU\":\n",
        "            hidden_activation = nn.GELU()\n",
        "        elif hidden_activation_name == \"SoftPlus\":\n",
        "            beta = 1\n",
        "            hidden_activation = nn.Softplus(beta=beta) # We don't optimize threshold subparameter, as it's mainly for numerical stability.\n",
        "\n",
        "        dropout_rate = DROPOUT_RATE_NO_OPT\n",
        "\n",
        "\n",
        "    # We used to have options here, but since we have a regression problem with continuous output, we only use Linear.\n",
        "    output_activation = nn.Identity()\n",
        "\n",
        "    # Creating the loss function from its name\n",
        "    if loss_name == \"MSE\":\n",
        "        loss_fn = nn.MSELoss()\n",
        "    elif loss_name == \"MAE\":\n",
        "        loss_fn = nn.L1Loss()\n",
        "    elif loss_name == \"Huber\":\n",
        "        loss_fn = nn.SmoothL1Loss() \n",
        "    elif loss_name == \"Quantile\":\n",
        "        def quantile_loss(y_pred, y_true, q=0.5):\n",
        "            e = y_pred - y_true\n",
        "            return torch.mean(torch.max(q*e, (q-1)*e))\n",
        "        loss_fn = quantile_loss\n",
        "    else:\n",
        "        def log_cosh_loss(y_pred, y_true):\n",
        "            return torch.mean(torch.log(torch.cosh(y_pred - y_true)))\n",
        "        loss_fn = log_cosh_loss\n",
        "\n",
        "    # Creating the network with the sampled hyperparameters\n",
        "    net = Net(n_layers, n_units, hidden_activation, output_activation, dropout_rate).to(device)\n",
        "\n",
        "\n",
        "    if OPTIMIZE:\n",
        "        # Creating the optimizer from its name\n",
        "        if optimizer_name == \"SGD\":\n",
        "            weight_decay = trial.suggest_loguniform(\"weight_decay\", 1e-5, 1e-2)\n",
        "            momentum = trial.suggest_uniform(\"momentum\", 0.0, 0.99)\n",
        "            optimizer = optim.SGD(net.parameters(), lr=lr, weight_decay=weight_decay, momentum=momentum)\n",
        "        elif optimizer_name == \"Adam\":\n",
        "            weight_decay = trial.suggest_loguniform(\"weight_decay\", 1e-5, 1e-2)\n",
        "            beta1 = trial.suggest_uniform(\"beta1\", 0.9, 0.999)\n",
        "            beta2 = trial.suggest_uniform(\"beta2\", 0.999, 0.9999)\n",
        "            optimizer = optim.Adam(net.parameters(), lr=lr, weight_decay=weight_decay, betas=(beta1, beta2))\n",
        "        elif optimizer_name == \"RMSprop\":\n",
        "            optimizer = optim.RMSprop(net.parameters(), lr=lr)\n",
        "        else:\n",
        "            optimizer = optim.Adagrad(net.parameters(), lr=lr)\n",
        "\n",
        "        # Creating the learning rate scheduler from its name\n",
        "        if scheduler_name == \"StepLR\":\n",
        "            step_size = trial.suggest_int(\"step_size\", 5, 15)\n",
        "            gamma = trial.suggest_uniform(\"gamma\", 0.1, 0.5)\n",
        "            scheduler = optim.lr_scheduler.StepLR(optimizer, step_size=step_size, gamma=gamma)\n",
        "        elif scheduler_name == \"ExponentialLR\":\n",
        "            gamma = trial.suggest_uniform(\"gamma\", 0.8, 0.99)\n",
        "            scheduler = optim.lr_scheduler.ExponentialLR(optimizer, gamma=gamma)\n",
        "        elif scheduler_name == \"CosineAnnealingLR\":\n",
        "            if n_epochs < 150:\n",
        "                t_max_fraction = trial.suggest_uniform('t_max_fraction', 0.1, 0.3)\n",
        "            elif n_epochs > 250:\n",
        "                t_max_fraction = trial.suggest_uniform('t_max_fraction', 0.05, 0.1)\n",
        "            else:\n",
        "                t_max_fraction = trial.suggest_uniform('t_max_fraction', 0.1, 0.2)\n",
        "\n",
        "            T_max = int(n_epochs * t_max_fraction)\n",
        "            eta_min = trial.suggest_loguniform(\"eta_min\", 1e-7, 1e-2)\n",
        "            scheduler = optim.lr_scheduler.CosineAnnealingLR(optimizer, T_max=T_max, eta_min=eta_min)\n",
        "        elif scheduler_name == \"ReduceLROnPlateau\":\n",
        "            factor = trial.suggest_uniform(\"factor\", 0.1, 0.5)\n",
        "            patience = trial.suggest_int(\"patience\", 5, 10)\n",
        "            threshold = trial.suggest_loguniform(\"threshold\", 1e-4, 1e-2)\n",
        "            scheduler = optim.lr_scheduler.ReduceLROnPlateau(\n",
        "                optimizer, mode=\"min\", factor=factor, patience=patience, threshold=threshold\n",
        "            )\n",
        "        elif scheduler_name == \"CyclicLR\":\n",
        "            base_lr = trial.suggest_loguniform(\"base_lr\", 1e-6, 1e-2)\n",
        "            max_lr = trial.suggest_loguniform(\"max_lr\", 1e-4, 1)\n",
        "            step_size_up = trial.suggest_int(\"step_size_up\", 200, 2000)\n",
        "            scheduler = optim.lr_scheduler.CyclicLR(optimizer, base_lr=base_lr, max_lr=max_lr, step_size_up=step_size_up)\n",
        "        else:\n",
        "            scheduler = None\n",
        "    else:\n",
        "        # Creating the optimizer from its name\n",
        "        if optimizer_name == \"SGD\":\n",
        "            optimizer = optim.SGD(net.parameters(), lr=lr)\n",
        "        elif optimizer_name == \"Adam\":\n",
        "            optimizer = optim.Adam(net.parameters(), lr=lr)\n",
        "        elif optimizer_name == \"RMSprop\":\n",
        "            optimizer = optim.RMSprop(net.parameters(), lr=lr)\n",
        "        else:\n",
        "            optimizer = optim.Adagrad(net.parameters(), lr=lr)\n",
        "\n",
        "        # Creating the learning rate scheduler from its name\n",
        "        if scheduler_name == \"StepLR\":\n",
        "            scheduler = optim.lr_scheduler.StepLR(optimizer, step_size=10, gamma=0.1)\n",
        "        elif scheduler_name == \"ExponentialLR\":\n",
        "            scheduler = optim.lr_scheduler.ExponentialLR(optimizer, gamma=0.9)\n",
        "        elif scheduler_name == \"CosineAnnealingLR\":\n",
        "            scheduler = optim.lr_scheduler.CosineAnnealingLR(optimizer)\n",
        "        elif scheduler_name == \"ReduceLROnPlateau\":\n",
        "            scheduler = optim.lr_scheduler.ReduceLROnPlateau(\n",
        "                        optimizer, mode=\"min\", factor=0.18979341786654758, patience=11, threshold=0.0017197466122611932 #, min_lr=1e-6\n",
        "                    )\n",
        "        elif scheduler_name == \"CyclicLR\":\n",
        "            # TODO: Change these appropriately.\n",
        "            base_lr = 1e-6\n",
        "            max_lr = 1e-4\n",
        "            step_size_up = 200\n",
        "            scheduler = optim.lr_scheduler.CyclicLR(optimizer, base_lr=base_lr, max_lr=max_lr, step_size_up=step_size_up)\n",
        "        else:\n",
        "            scheduler = None\n",
        "\n",
        "    # Returning all variables needed for saving and loading\n",
        "    return net, loss_fn, optimizer, batch_size, n_epochs, scheduler, loss_name, optimizer_name, scheduler_name, n_units, n_layers, hidden_activation, output_activation, lr, dropout_rate\n",
        "\n",
        "\n"
      ]
    },
    {
      "cell_type": "markdown",
      "metadata": {
        "id": "l-czA7VvUZiD"
      },
      "source": [
        " ## The training and evaluation loop\n",
        "\n",
        " We first define a couple of functions used in the training and evaluation."
      ]
    },
    {
      "cell_type": "code",
      "execution_count": null,
      "metadata": {
        "id": "aD6FQNmxUZiD"
      },
      "outputs": [],
      "source": [
        "# Defining a function that computes loss and metrics for a given batch\n",
        "def compute_loss_and_metrics(y_pred, y_true, loss_fn):\n",
        "    \"\"\"Computes loss and metrics for a given batch.\n",
        "\n",
        "    Args:\n",
        "        y_pred (torch.Tensor): The predicted pressure tensor of shape (batch_size, 1).\n",
        "        y_true (torch.Tensor): The true pressure tensor of shape (batch_size,).\n",
        "        loss_fn (torch.nn.Module or function): The loss function to use.\n",
        "\n",
        "    Returns:\n",
        "        tuple: A tuple of (loss, l1_norm), where loss is a scalar tensor,\n",
        "            l1_norm is L1 norm for relative error of pressure,\n",
        "            each being a scalar tensor.\n",
        "            linf_norm is Linf norm for relative error of pressure.\n",
        "    \"\"\"\n",
        "    # Reshaping the target tensor to match the input tensor\n",
        "    y_true = y_true.view(-1, 1)\n",
        "\n",
        "    # Computing the loss using the loss function\n",
        "    loss = loss_fn(y_pred, y_true)\n",
        "\n",
        "    # Computing the relative error of pressure\n",
        "    rel_error = torch.abs((y_pred - y_true) / y_true)\n",
        "\n",
        "    # Computing the L1 norm for the relative error of pressure\n",
        "    l1_norm = torch.mean(rel_error) \n",
        "    # Computing the Linf norm for the relative error of pressure\n",
        "    linf_norm = torch.max(rel_error) \n",
        "\n",
        "    # Returning the loss and metrics\n",
        "    return loss, l1_norm, linf_norm\n",
        "\n",
        "\n",
        "# Defining a function that updates the learning rate scheduler with validation loss if applicable\n",
        "def update_scheduler(scheduler, test_loss):\n",
        "    \"\"\"Updates the learning rate scheduler with validation loss if applicable.\n",
        "\n",
        "    Args:\n",
        "        scheduler (torch.optim.lr_scheduler._LRScheduler or None): The learning rate scheduler to use.\n",
        "        test_loss (float): The validation loss to use.\n",
        "\n",
        "    Returns:\n",
        "        None\n",
        "    \"\"\"\n",
        "    # Checking if scheduler is not None\n",
        "    if scheduler is not None:\n",
        "        # Checking if scheduler is ReduceLROnPlateau\n",
        "        if isinstance(scheduler, optim.lr_scheduler.ReduceLROnPlateau):\n",
        "            # Updating the scheduler with test_loss\n",
        "            scheduler.step(test_loss)\n",
        "        else:\n",
        "            # Updating the scheduler without test_loss\n",
        "            scheduler.step()\n"
      ]
    },
    {
      "cell_type": "markdown",
      "metadata": {
        "id": "w1nE662UUZiE"
      },
      "source": [
        "Now for the actual training and evaluation loop,"
      ]
    },
    {
      "cell_type": "code",
      "execution_count": null,
      "metadata": {
        "id": "fmRncQPuUZiR"
      },
      "outputs": [],
      "source": [
        "# Defining an objective function for Optuna to minimize\n",
        "def objective(trial):\n",
        "    \"\"\"Defines an objective function for Optuna to minimize.\n",
        "\n",
        "    Args:\n",
        "        trial (optuna.trial.Trial): The trial object that contains the hyperparameters.\n",
        "\n",
        "    Returns:\n",
        "        float: The validation L1 norm to minimize.\n",
        "    \"\"\"\n",
        "    # Creating a trial network and optimizer using the create_model function\n",
        "    net, \\\n",
        "    loss_fn, \\\n",
        "    optimizer, \\\n",
        "    batch_size, \\\n",
        "    n_epochs, \\\n",
        "    scheduler, \\\n",
        "    loss_name, \\\n",
        "    optimizer_name, \\\n",
        "    scheduler_name, \\\n",
        "    n_units, \\\n",
        "    n_layers, \\\n",
        "    hidden_activation, \\\n",
        "    output_activation, \\\n",
        "    lr, \\\n",
        "    dropout_rate = create_model(trial, optimize=True)\n",
        "\n",
        "    # Create separate data loaders for training and validation\n",
        "    train_loader = torch.utils.data.DataLoader(\n",
        "        torch.utils.data.TensorDataset(x_train, y_train), batch_size=batch_size, shuffle=True\n",
        "    )\n",
        "    val_loader = torch.utils.data.DataLoader(\n",
        "        torch.utils.data.TensorDataset(x_val, y_val), batch_size=batch_size\n",
        "    )\n",
        "    \n",
        "    _, _, _, _, val_metrics, _ = train_and_eval(\n",
        "        net, loss_fn, optimizer, batch_size, n_epochs, scheduler, train_loader, val_loader, None, trial\n",
        "    )\n",
        "\n",
        "    # Returning the last validation L1 norm as the objective value to minimize\n",
        "    return val_metrics[-1][\"l1_norm\"]"
      ]
    },
    {
      "cell_type": "code",
      "execution_count": null,
      "metadata": {
        "id": "hmsjYi6sZyrF"
      },
      "outputs": [],
      "source": []
    },
    {
      "cell_type": "code",
      "execution_count": null,
      "metadata": {
        "colab": {
          "background_save": true,
          "base_uri": "https://localhost:8080/"
        },
        "id": "GyES4NAyUZiS",
        "outputId": "6ded4f90-b244-44df-9214-acbfd62fd767"
      },
      "outputs": [
        {
          "name": "stderr",
          "output_type": "stream",
          "text": [
            "\u001b[32m[I 2023-05-28 05:21:50,888]\u001b[0m A new study created in memory with name: no-name-9c67b7ae-9041-4b33-a09c-8a4e5493a958\u001b[0m\n",
            "<ipython-input-37-ddc3c9d46736>:44: FutureWarning: suggest_loguniform has been deprecated in v3.0.0. This feature will be removed in v6.0.0. See https://github.com/optuna/optuna/releases/tag/v3.0.0. Use :func:`~optuna.trial.Trial.suggest_float` instead.\n",
            "  lr = trial.suggest_loguniform(\"lr\", 1e-6, 1)\n",
            "<ipython-input-37-ddc3c9d46736>:58: FutureWarning: suggest_uniform has been deprecated in v3.0.0. This feature will be removed in v6.0.0. See https://github.com/optuna/optuna/releases/tag/v3.0.0. Use :func:`~optuna.trial.Trial.suggest_float` instead.\n",
            "  negative_slope = trial.suggest_uniform(\"leakyrelu_slope\", 0.01, 0.3)\n",
            "<ipython-input-37-ddc3c9d46736>:76: FutureWarning: suggest_uniform has been deprecated in v3.0.0. This feature will be removed in v6.0.0. See https://github.com/optuna/optuna/releases/tag/v3.0.0. Use :func:`~optuna.trial.Trial.suggest_float` instead.\n",
            "  dropout_rate = trial.suggest_uniform(\"dropout_rate\", 0.0, 0.5)\n",
            "<ipython-input-37-ddc3c9d46736>:168: FutureWarning: suggest_uniform has been deprecated in v3.0.0. This feature will be removed in v6.0.0. See https://github.com/optuna/optuna/releases/tag/v3.0.0. Use :func:`~optuna.trial.Trial.suggest_float` instead.\n",
            "  t_max_fraction = trial.suggest_uniform('t_max_fraction', 0.1, 0.3)\n",
            "<ipython-input-37-ddc3c9d46736>:175: FutureWarning: suggest_loguniform has been deprecated in v3.0.0. This feature will be removed in v6.0.0. See https://github.com/optuna/optuna/releases/tag/v3.0.0. Use :func:`~optuna.trial.Trial.suggest_float` instead.\n",
            "  eta_min = trial.suggest_loguniform(\"eta_min\", 1e-7, 1e-2)\n"
          ]
        },
        {
          "name": "stdout",
          "output_type": "stream",
          "text": [
            "Epoch 1/53.. Train loss: 4.974.. Val loss: 4.701.. Train L1 norm: 4.672.. Val L1 norm: 12.836.. Train Linf norm: 107.480.. Val Linf norm: 372.056\n",
            "Epoch 2/53.. Train loss: 4.961.. Val loss: 4.633.. Train L1 norm: 3.677.. Val L1 norm: 10.296.. Train Linf norm: 78.295.. Val Linf norm: 290.066\n",
            "Epoch 3/53.. Train loss: 5.001.. Val loss: 4.540.. Train L1 norm: 4.909.. Val L1 norm: 10.405.. Train Linf norm: 113.141.. Val Linf norm: 292.459\n",
            "Epoch 4/53.. Train loss: 5.214.. Val loss: 4.829.. Train L1 norm: 5.501.. Val L1 norm: 9.622.. Train Linf norm: 128.360.. Val Linf norm: 264.851\n",
            "Epoch 5/53.. Train loss: 5.362.. Val loss: 4.646.. Train L1 norm: 6.076.. Val L1 norm: 18.866.. Train Linf norm: 142.703.. Val Linf norm: 553.117\n",
            "Epoch 6/53.. Train loss: 5.613.. Val loss: 7.353.. Train L1 norm: 8.022.. Val L1 norm: 44.288.. Train Linf norm: 201.607.. Val Linf norm: 1317.446\n",
            "Epoch 7/53.. Train loss: 5.825.. Val loss: 5.226.. Train L1 norm: 7.217.. Val L1 norm: 36.498.. Train Linf norm: 175.209.. Val Linf norm: 1095.582\n",
            "Epoch 8/53.. Train loss: 5.526.. Val loss: 5.797.. Train L1 norm: 8.567.. Val L1 norm: 11.209.. Train Linf norm: 218.263.. Val Linf norm: 320.684\n",
            "Epoch 9/53.. Train loss: 5.551.. Val loss: 5.669.. Train L1 norm: 9.378.. Val L1 norm: 13.362.. Train Linf norm: 245.010.. Val Linf norm: 390.464\n",
            "Epoch 10/53.. Train loss: 5.437.. Val loss: 4.488.. Train L1 norm: 6.241.. Val L1 norm: 22.870.. Train Linf norm: 144.270.. Val Linf norm: 678.992\n",
            "Epoch 11/53.. Train loss: 5.489.. Val loss: 4.615.. Train L1 norm: 6.775.. Val L1 norm: 17.251.. Train Linf norm: 162.188.. Val Linf norm: 503.854\n",
            "Epoch 12/53.. Train loss: 5.370.. Val loss: 4.634.. Train L1 norm: 6.729.. Val L1 norm: 20.783.. Train Linf norm: 159.815.. Val Linf norm: 607.774\n",
            "Epoch 13/53.. Train loss: 5.064.. Val loss: 4.623.. Train L1 norm: 6.877.. Val L1 norm: 28.810.. Train Linf norm: 163.625.. Val Linf norm: 865.683\n",
            "Epoch 14/53.. Train loss: 4.985.. Val loss: 4.227.. Train L1 norm: 6.815.. Val L1 norm: 26.992.. Train Linf norm: 163.500.. Val Linf norm: 810.283\n",
            "Epoch 15/53.. Train loss: 4.837.. Val loss: 4.134.. Train L1 norm: 7.144.. Val L1 norm: 28.441.. Train Linf norm: 173.903.. Val Linf norm: 855.861\n",
            "Epoch 16/53.. Train loss: 4.602.. Val loss: 4.624.. Train L1 norm: 7.537.. Val L1 norm: 22.584.. Train Linf norm: 187.298.. Val Linf norm: 677.846\n",
            "Epoch 17/53.. Train loss: 4.751.. Val loss: 4.338.. Train L1 norm: 7.274.. Val L1 norm: 26.847.. Train Linf norm: 177.744.. Val Linf norm: 810.174\n",
            "Epoch 18/53.. Train loss: 4.545.. Val loss: 4.121.. Train L1 norm: 6.599.. Val L1 norm: 27.748.. Train Linf norm: 159.150.. Val Linf norm: 835.007\n",
            "Epoch 19/53.. Train loss: 4.498.. Val loss: 4.105.. Train L1 norm: 7.163.. Val L1 norm: 27.579.. Train Linf norm: 176.179.. Val Linf norm: 832.433\n",
            "Epoch 20/53.. Train loss: 4.423.. Val loss: 4.092.. Train L1 norm: 6.929.. Val L1 norm: 26.044.. Train Linf norm: 168.736.. Val Linf norm: 783.280\n",
            "Epoch 21/53.. Train loss: 4.370.. Val loss: 4.077.. Train L1 norm: 6.975.. Val L1 norm: 28.700.. Train Linf norm: 169.770.. Val Linf norm: 864.523\n",
            "Epoch 22/53.. Train loss: 4.239.. Val loss: 4.018.. Train L1 norm: 7.122.. Val L1 norm: 28.292.. Train Linf norm: 174.313.. Val Linf norm: 852.346\n",
            "Epoch 23/53.. Train loss: 4.168.. Val loss: 4.073.. Train L1 norm: 6.899.. Val L1 norm: 28.369.. Train Linf norm: 167.870.. Val Linf norm: 854.080\n",
            "Epoch 24/53.. Train loss: 4.235.. Val loss: 3.989.. Train L1 norm: 7.392.. Val L1 norm: 28.269.. Train Linf norm: 182.141.. Val Linf norm: 853.054\n",
            "Epoch 25/53.. Train loss: 4.126.. Val loss: 3.958.. Train L1 norm: 7.131.. Val L1 norm: 29.306.. Train Linf norm: 175.559.. Val Linf norm: 885.283\n",
            "Epoch 26/53.. Train loss: 4.082.. Val loss: 3.948.. Train L1 norm: 7.002.. Val L1 norm: 27.981.. Train Linf norm: 171.383.. Val Linf norm: 843.784\n",
            "Epoch 27/53.. Train loss: 4.063.. Val loss: 3.939.. Train L1 norm: 7.242.. Val L1 norm: 28.607.. Train Linf norm: 179.007.. Val Linf norm: 862.891\n",
            "Epoch 28/53.. Train loss: 4.048.. Val loss: 3.955.. Train L1 norm: 7.248.. Val L1 norm: 29.055.. Train Linf norm: 178.019.. Val Linf norm: 876.418\n",
            "Epoch 29/53.. Train loss: 4.129.. Val loss: 3.954.. Train L1 norm: 7.377.. Val L1 norm: 29.022.. Train Linf norm: 182.308.. Val Linf norm: 875.422\n",
            "Epoch 30/53.. Train loss: 4.092.. Val loss: 3.943.. Train L1 norm: 7.156.. Val L1 norm: 28.636.. Train Linf norm: 175.535.. Val Linf norm: 863.709\n",
            "Epoch 31/53.. Train loss: 4.055.. Val loss: 3.946.. Train L1 norm: 7.081.. Val L1 norm: 27.524.. Train Linf norm: 173.241.. Val Linf norm: 829.547\n",
            "Epoch 32/53.. Train loss: 4.078.. Val loss: 3.984.. Train L1 norm: 7.380.. Val L1 norm: 30.083.. Train Linf norm: 182.990.. Val Linf norm: 908.281\n",
            "Epoch 33/53.. Train loss: 4.084.. Val loss: 4.024.. Train L1 norm: 7.135.. Val L1 norm: 27.025.. Train Linf norm: 175.890.. Val Linf norm: 814.640\n",
            "Epoch 34/53.. Train loss: 4.149.. Val loss: 3.961.. Train L1 norm: 7.621.. Val L1 norm: 28.208.. Train Linf norm: 189.698.. Val Linf norm: 851.196\n",
            "Epoch 35/53.. Train loss: 4.233.. Val loss: 3.981.. Train L1 norm: 7.051.. Val L1 norm: 28.798.. Train Linf norm: 172.928.. Val Linf norm: 867.846\n",
            "Epoch 36/53.. Train loss: 4.156.. Val loss: 3.935.. Train L1 norm: 6.904.. Val L1 norm: 27.529.. Train Linf norm: 167.647.. Val Linf norm: 829.895\n",
            "Epoch 37/53.. Train loss: 4.272.. Val loss: 3.986.. Train L1 norm: 7.213.. Val L1 norm: 27.077.. Train Linf norm: 177.626.. Val Linf norm: 815.039\n",
            "Epoch 38/53.. Train loss: 4.162.. Val loss: 4.001.. Train L1 norm: 7.140.. Val L1 norm: 28.307.. Train Linf norm: 175.778.. Val Linf norm: 851.685\n",
            "Epoch 39/53.. Train loss: 4.197.. Val loss: 3.906.. Train L1 norm: 7.581.. Val L1 norm: 27.109.. Train Linf norm: 189.464.. Val Linf norm: 816.115\n",
            "Epoch 40/53.. Train loss: 4.204.. Val loss: 4.099.. Train L1 norm: 6.752.. Val L1 norm: 25.362.. Train Linf norm: 162.995.. Val Linf norm: 758.140\n",
            "Epoch 41/53.. Train loss: 4.153.. Val loss: 3.921.. Train L1 norm: 7.025.. Val L1 norm: 28.729.. Train Linf norm: 171.216.. Val Linf norm: 866.239\n",
            "Epoch 42/53.. Train loss: 4.126.. Val loss: 3.918.. Train L1 norm: 7.243.. Val L1 norm: 28.422.. Train Linf norm: 179.275.. Val Linf norm: 857.991\n",
            "Epoch 43/53.. Train loss: 4.133.. Val loss: 4.056.. Train L1 norm: 6.936.. Val L1 norm: 25.630.. Train Linf norm: 169.184.. Val Linf norm: 765.594\n",
            "Epoch 44/53.. Train loss: 4.194.. Val loss: 3.872.. Train L1 norm: 6.999.. Val L1 norm: 28.086.. Train Linf norm: 171.460.. Val Linf norm: 847.086\n",
            "Epoch 45/53.. Train loss: 4.120.. Val loss: 3.818.. Train L1 norm: 7.420.. Val L1 norm: 29.500.. Train Linf norm: 185.700.. Val Linf norm: 891.476\n",
            "Epoch 46/53.. Train loss: 4.036.. Val loss: 4.073.. Train L1 norm: 6.828.. Val L1 norm: 25.111.. Train Linf norm: 166.580.. Val Linf norm: 751.305\n",
            "Epoch 47/53.. Train loss: 4.040.. Val loss: 3.840.. Train L1 norm: 7.564.. Val L1 norm: 25.669.. Train Linf norm: 189.704.. Val Linf norm: 772.074\n",
            "Epoch 48/53.. Train loss: 3.995.. Val loss: 3.774.. Train L1 norm: 6.554.. Val L1 norm: 27.600.. Train Linf norm: 159.126.. Val Linf norm: 831.650\n",
            "Epoch 49/53.. Train loss: 3.970.. Val loss: 3.781.. Train L1 norm: 6.729.. Val L1 norm: 25.080.. Train Linf norm: 164.779.. Val Linf norm: 754.276\n",
            "Epoch 50/53.. Train loss: 3.971.. Val loss: 3.669.. Train L1 norm: 7.071.. Val L1 norm: 28.777.. Train Linf norm: 175.498.. Val Linf norm: 870.298\n",
            "Epoch 51/53.. Train loss: 3.894.. Val loss: 3.714.. Train L1 norm: 7.097.. Val L1 norm: 28.048.. Train Linf norm: 176.481.. Val Linf norm: 848.848\n",
            "Epoch 52/53.. Train loss: 3.875.. Val loss: 3.645.. Train L1 norm: 6.254.. Val L1 norm: 25.452.. Train Linf norm: 150.529.. Val Linf norm: 766.908\n"
          ]
        },
        {
          "name": "stderr",
          "output_type": "stream",
          "text": [
            "\u001b[32m[I 2023-05-28 06:18:08,436]\u001b[0m Trial 0 finished with value: 27.40513477906545 and parameters: {'n_layers': 3, 'n_units_0': 408, 'n_units_1': 1420, 'n_units_2': 445, 'hidden_activation': 'LeakyReLU', 'output_activation': 'Linear', 'loss': 'MAE', 'optimizer': 'Adagrad', 'lr': 2.827497351267368e-06, 'batch_size': 32, 'n_epochs': 53, 'scheduler': 'CosineAnnealingLR', 'leakyrelu_slope': 0.28139577235088026, 'dropout_rate': 0.1250465046681789, 't_max_fraction': 0.2718343570995153, 'eta_min': 0.007023985876559643}. Best is trial 0 with value: 27.40513477906545.\u001b[0m\n"
          ]
        },
        {
          "name": "stdout",
          "output_type": "stream",
          "text": [
            "Epoch 53/53.. Train loss: 3.811.. Val loss: 3.616.. Train L1 norm: 6.392.. Val L1 norm: 27.405.. Train Linf norm: 154.764.. Val Linf norm: 827.070\n"
          ]
        },
        {
          "name": "stderr",
          "output_type": "stream",
          "text": [
            "<ipython-input-37-ddc3c9d46736>:63: FutureWarning: suggest_uniform has been deprecated in v3.0.0. This feature will be removed in v6.0.0. See https://github.com/optuna/optuna/releases/tag/v3.0.0. Use :func:`~optuna.trial.Trial.suggest_float` instead.\n",
            "  init = trial.suggest_uniform(\"prelu_init\", 0.1, 0.3)\n",
            "<ipython-input-37-ddc3c9d46736>:178: FutureWarning: suggest_uniform has been deprecated in v3.0.0. This feature will be removed in v6.0.0. See https://github.com/optuna/optuna/releases/tag/v3.0.0. Use :func:`~optuna.trial.Trial.suggest_float` instead.\n",
            "  factor = trial.suggest_uniform(\"factor\", 0.1, 0.5)\n",
            "<ipython-input-37-ddc3c9d46736>:180: FutureWarning: suggest_loguniform has been deprecated in v3.0.0. This feature will be removed in v6.0.0. See https://github.com/optuna/optuna/releases/tag/v3.0.0. Use :func:`~optuna.trial.Trial.suggest_float` instead.\n",
            "  threshold = trial.suggest_loguniform(\"threshold\", 1e-4, 1e-2)\n"
          ]
        },
        {
          "name": "stdout",
          "output_type": "stream",
          "text": [
            "Epoch 1/54.. Train loss: 5.288.. Val loss: 3.869.. Train L1 norm: 7.013.. Val L1 norm: 18.262.. Train Linf norm: 1148.256.. Val Linf norm: 4153.974\n",
            "Epoch 2/54.. Train loss: 5.154.. Val loss: 4.179.. Train L1 norm: 6.978.. Val L1 norm: 13.281.. Train Linf norm: 1115.541.. Val Linf norm: 2928.778\n",
            "Epoch 3/54.. Train loss: 4.651.. Val loss: 4.119.. Train L1 norm: 7.299.. Val L1 norm: 16.594.. Train Linf norm: 1216.099.. Val Linf norm: 3734.714\n",
            "Epoch 4/54.. Train loss: 4.290.. Val loss: 3.656.. Train L1 norm: 6.607.. Val L1 norm: 24.261.. Train Linf norm: 1038.472.. Val Linf norm: 5597.450\n",
            "Epoch 5/54.. Train loss: 4.265.. Val loss: 3.609.. Train L1 norm: 6.933.. Val L1 norm: 23.810.. Train Linf norm: 1114.651.. Val Linf norm: 5486.766\n",
            "Epoch 6/54.. Train loss: 4.232.. Val loss: 3.545.. Train L1 norm: 7.208.. Val L1 norm: 23.615.. Train Linf norm: 1193.537.. Val Linf norm: 5452.635\n",
            "Epoch 7/54.. Train loss: 4.115.. Val loss: 3.604.. Train L1 norm: 6.828.. Val L1 norm: 22.901.. Train Linf norm: 1100.622.. Val Linf norm: 5272.313\n",
            "Epoch 8/54.. Train loss: 4.131.. Val loss: 3.533.. Train L1 norm: 7.274.. Val L1 norm: 21.400.. Train Linf norm: 1212.411.. Val Linf norm: 4906.341\n",
            "Epoch 9/54.. Train loss: 4.053.. Val loss: 3.485.. Train L1 norm: 7.117.. Val L1 norm: 24.910.. Train Linf norm: 1175.639.. Val Linf norm: 5724.961\n",
            "Epoch 10/54.. Train loss: 3.865.. Val loss: 3.426.. Train L1 norm: 6.594.. Val L1 norm: 21.734.. Train Linf norm: 1041.141.. Val Linf norm: 4958.828\n",
            "Epoch 11/54.. Train loss: 3.828.. Val loss: 3.392.. Train L1 norm: 7.551.. Val L1 norm: 22.110.. Train Linf norm: 1289.766.. Val Linf norm: 5042.735\n",
            "Epoch 12/54.. Train loss: 3.881.. Val loss: 3.367.. Train L1 norm: 6.698.. Val L1 norm: 20.535.. Train Linf norm: 1072.779.. Val Linf norm: 4660.435\n",
            "Epoch 13/54.. Train loss: 3.717.. Val loss: 3.252.. Train L1 norm: 6.809.. Val L1 norm: 18.968.. Train Linf norm: 1114.685.. Val Linf norm: 4253.381\n",
            "Epoch 14/54.. Train loss: 3.707.. Val loss: 3.320.. Train L1 norm: 6.393.. Val L1 norm: 18.539.. Train Linf norm: 1009.124.. Val Linf norm: 4121.225\n",
            "Epoch 15/54.. Train loss: 3.697.. Val loss: 3.225.. Train L1 norm: 6.615.. Val L1 norm: 17.613.. Train Linf norm: 1071.984.. Val Linf norm: 3884.990\n",
            "Epoch 16/54.. Train loss: 3.650.. Val loss: 3.231.. Train L1 norm: 7.079.. Val L1 norm: 16.883.. Train Linf norm: 1189.875.. Val Linf norm: 3695.744\n",
            "Epoch 17/54.. Train loss: 3.592.. Val loss: 3.326.. Train L1 norm: 6.894.. Val L1 norm: 15.309.. Train Linf norm: 1155.219.. Val Linf norm: 3268.368\n",
            "Epoch 18/54.. Train loss: 3.530.. Val loss: 3.182.. Train L1 norm: 7.106.. Val L1 norm: 12.612.. Train Linf norm: 1209.827.. Val Linf norm: 2612.430\n",
            "Epoch 19/54.. Train loss: 3.548.. Val loss: 3.171.. Train L1 norm: 6.287.. Val L1 norm: 9.871.. Train Linf norm: 1004.914.. Val Linf norm: 1916.469\n",
            "Epoch 20/54.. Train loss: 3.688.. Val loss: 3.032.. Train L1 norm: 6.380.. Val L1 norm: 10.952.. Train Linf norm: 1036.482.. Val Linf norm: 2175.495\n",
            "Epoch 21/54.. Train loss: 3.349.. Val loss: 3.096.. Train L1 norm: 6.405.. Val L1 norm: 9.360.. Train Linf norm: 1047.073.. Val Linf norm: 1774.801\n",
            "Epoch 22/54.. Train loss: 3.324.. Val loss: 3.001.. Train L1 norm: 5.956.. Val L1 norm: 9.013.. Train Linf norm: 937.769.. Val Linf norm: 1685.027\n",
            "Epoch 23/54.. Train loss: 3.635.. Val loss: 2.980.. Train L1 norm: 7.302.. Val L1 norm: 8.921.. Train Linf norm: 1284.946.. Val Linf norm: 1668.998\n",
            "Epoch 24/54.. Train loss: 3.181.. Val loss: 2.901.. Train L1 norm: 6.887.. Val L1 norm: 7.952.. Train Linf norm: 1185.921.. Val Linf norm: 1435.706\n",
            "Epoch 25/54.. Train loss: 3.296.. Val loss: 2.923.. Train L1 norm: 6.102.. Val L1 norm: 9.332.. Train Linf norm: 981.157.. Val Linf norm: 1779.326\n",
            "Epoch 26/54.. Train loss: 3.225.. Val loss: 2.952.. Train L1 norm: 6.045.. Val L1 norm: 7.861.. Train Linf norm: 986.749.. Val Linf norm: 1406.671\n",
            "Epoch 27/54.. Train loss: 3.245.. Val loss: 2.910.. Train L1 norm: 5.634.. Val L1 norm: 9.732.. Train Linf norm: 890.434.. Val Linf norm: 1867.867\n",
            "Epoch 28/54.. Train loss: 3.248.. Val loss: 2.844.. Train L1 norm: 5.585.. Val L1 norm: 7.909.. Train Linf norm: 876.769.. Val Linf norm: 1428.953\n",
            "Epoch 29/54.. Train loss: 3.063.. Val loss: 2.754.. Train L1 norm: 6.238.. Val L1 norm: 8.993.. Train Linf norm: 1052.767.. Val Linf norm: 1706.609\n",
            "Epoch 30/54.. Train loss: 3.145.. Val loss: 2.794.. Train L1 norm: 6.062.. Val L1 norm: 10.566.. Train Linf norm: 1007.343.. Val Linf norm: 2078.205\n",
            "Epoch 31/54.. Train loss: 3.029.. Val loss: 2.826.. Train L1 norm: 6.131.. Val L1 norm: 11.966.. Train Linf norm: 1032.155.. Val Linf norm: 2422.045\n",
            "Epoch 32/54.. Train loss: 2.981.. Val loss: 2.845.. Train L1 norm: 5.573.. Val L1 norm: 11.227.. Train Linf norm: 894.317.. Val Linf norm: 2230.853\n",
            "Epoch 33/54.. Train loss: 3.052.. Val loss: 2.752.. Train L1 norm: 5.903.. Val L1 norm: 12.458.. Train Linf norm: 990.495.. Val Linf norm: 2546.404\n",
            "Epoch 34/54.. Train loss: 2.960.. Val loss: 2.817.. Train L1 norm: 7.241.. Val L1 norm: 13.653.. Train Linf norm: 1328.386.. Val Linf norm: 2856.345\n",
            "Epoch 35/54.. Train loss: 2.844.. Val loss: 2.756.. Train L1 norm: 4.732.. Val L1 norm: 13.683.. Train Linf norm: 691.550.. Val Linf norm: 2833.056\n",
            "Epoch 36/54.. Train loss: 2.743.. Val loss: 2.757.. Train L1 norm: 4.621.. Val L1 norm: 13.586.. Train Linf norm: 671.540.. Val Linf norm: 2814.767\n",
            "Epoch 37/54.. Train loss: 2.787.. Val loss: 2.801.. Train L1 norm: 5.376.. Val L1 norm: 16.158.. Train Linf norm: 868.581.. Val Linf norm: 3436.025\n",
            "Epoch 38/54.. Train loss: 2.799.. Val loss: 2.724.. Train L1 norm: 5.824.. Val L1 norm: 14.746.. Train Linf norm: 983.530.. Val Linf norm: 3096.708\n",
            "Epoch 39/54.. Train loss: 2.725.. Val loss: 2.854.. Train L1 norm: 5.370.. Val L1 norm: 17.269.. Train Linf norm: 873.469.. Val Linf norm: 3697.307\n",
            "Epoch 40/54.. Train loss: 2.748.. Val loss: 2.758.. Train L1 norm: 6.493.. Val L1 norm: 16.603.. Train Linf norm: 1162.964.. Val Linf norm: 3529.229\n",
            "Epoch 41/54.. Train loss: 2.633.. Val loss: 2.734.. Train L1 norm: 5.749.. Val L1 norm: 16.454.. Train Linf norm: 975.934.. Val Linf norm: 3477.739\n",
            "Epoch 42/54.. Train loss: 2.764.. Val loss: 2.793.. Train L1 norm: 6.634.. Val L1 norm: 17.247.. Train Linf norm: 1196.615.. Val Linf norm: 3670.526\n",
            "Epoch 43/54.. Train loss: 2.729.. Val loss: 2.828.. Train L1 norm: 4.832.. Val L1 norm: 17.026.. Train Linf norm: 743.796.. Val Linf norm: 3595.616\n",
            "Epoch 44/54.. Train loss: 2.584.. Val loss: 2.820.. Train L1 norm: 6.365.. Val L1 norm: 18.597.. Train Linf norm: 1136.772.. Val Linf norm: 3992.222\n",
            "Epoch 45/54.. Train loss: 2.627.. Val loss: 2.759.. Train L1 norm: 4.474.. Val L1 norm: 16.259.. Train Linf norm: 653.181.. Val Linf norm: 3397.059\n",
            "Epoch 46/54.. Train loss: 2.635.. Val loss: 2.834.. Train L1 norm: 4.640.. Val L1 norm: 17.755.. Train Linf norm: 701.392.. Val Linf norm: 3750.314\n",
            "Epoch 47/54.. Train loss: 2.660.. Val loss: 2.802.. Train L1 norm: 5.554.. Val L1 norm: 16.159.. Train Linf norm: 935.253.. Val Linf norm: 3349.697\n",
            "Epoch 48/54.. Train loss: 2.510.. Val loss: 2.860.. Train L1 norm: 5.377.. Val L1 norm: 15.693.. Train Linf norm: 888.667.. Val Linf norm: 3212.488\n",
            "Epoch 49/54.. Train loss: 2.577.. Val loss: 2.868.. Train L1 norm: 5.254.. Val L1 norm: 15.637.. Train Linf norm: 863.086.. Val Linf norm: 3192.551\n",
            "Epoch 50/54.. Train loss: 2.506.. Val loss: 2.871.. Train L1 norm: 4.637.. Val L1 norm: 15.771.. Train Linf norm: 704.965.. Val Linf norm: 3218.582\n",
            "Epoch 51/54.. Train loss: 2.529.. Val loss: 2.880.. Train L1 norm: 6.043.. Val L1 norm: 15.325.. Train Linf norm: 1069.361.. Val Linf norm: 3099.104\n",
            "Epoch 52/54.. Train loss: 2.524.. Val loss: 2.884.. Train L1 norm: 4.319.. Val L1 norm: 15.170.. Train Linf norm: 624.416.. Val Linf norm: 3060.999\n",
            "Epoch 53/54.. Train loss: 2.542.. Val loss: 2.863.. Train L1 norm: 4.587.. Val L1 norm: 14.866.. Train Linf norm: 698.434.. Val Linf norm: 2986.392\n"
          ]
        },
        {
          "name": "stderr",
          "output_type": "stream",
          "text": [
            "\u001b[32m[I 2023-05-28 06:29:11,135]\u001b[0m Trial 1 finished with value: 15.73720683245341 and parameters: {'n_layers': 2, 'n_units_0': 77, 'n_units_1': 3473, 'hidden_activation': 'PReLU', 'output_activation': 'Linear', 'loss': 'Huber', 'optimizer': 'RMSprop', 'lr': 6.532882500330221e-05, 'batch_size': 256, 'n_epochs': 54, 'scheduler': 'ReduceLROnPlateau', 'prelu_init': 0.2724092985710165, 'dropout_rate': 0.42895757790261096, 'factor': 0.30066370419338784, 'patience': 9, 'threshold': 0.0012790768843648698}. Best is trial 1 with value: 15.73720683245341.\u001b[0m\n"
          ]
        },
        {
          "name": "stdout",
          "output_type": "stream",
          "text": [
            "Epoch 54/54.. Train loss: 2.503.. Val loss: 2.887.. Train L1 norm: 6.596.. Val L1 norm: 15.737.. Train Linf norm: 1207.280.. Val Linf norm: 3203.043\n"
          ]
        },
        {
          "name": "stderr",
          "output_type": "stream",
          "text": [
            "<ipython-input-37-ddc3c9d46736>:161: FutureWarning: suggest_uniform has been deprecated in v3.0.0. This feature will be removed in v6.0.0. See https://github.com/optuna/optuna/releases/tag/v3.0.0. Use :func:`~optuna.trial.Trial.suggest_float` instead.\n",
            "  gamma = trial.suggest_uniform(\"gamma\", 0.1, 0.5)\n"
          ]
        },
        {
          "name": "stdout",
          "output_type": "stream",
          "text": [
            "Epoch 1/52.. Train loss: 1415.778.. Val loss: 3.815.. Train L1 norm: 1551.983.. Val L1 norm: 18.094.. Train Linf norm: 442724.387.. Val Linf norm: 30552.322\n",
            "Epoch 2/52.. Train loss: 3.774.. Val loss: 3.574.. Train L1 norm: 6.900.. Val L1 norm: 24.694.. Train Linf norm: 7123.482.. Val Linf norm: 42933.934\n",
            "Epoch 3/52.. Train loss: 3.910.. Val loss: 3.793.. Train L1 norm: 8.348.. Val L1 norm: 27.707.. Train Linf norm: 9107.395.. Val Linf norm: 47212.065\n",
            "Epoch 4/52.. Train loss: 3.860.. Val loss: 3.806.. Train L1 norm: 7.857.. Val L1 norm: 25.965.. Train Linf norm: 8081.091.. Val Linf norm: 44105.726\n",
            "Epoch 5/52.. Train loss: 3.812.. Val loss: 3.733.. Train L1 norm: 7.816.. Val L1 norm: 26.130.. Train Linf norm: 8108.838.. Val Linf norm: 44557.688\n",
            "Epoch 6/52.. Train loss: 3.819.. Val loss: 3.819.. Train L1 norm: 7.744.. Val L1 norm: 25.379.. Train Linf norm: 8070.000.. Val Linf norm: 43102.220\n",
            "Epoch 7/52.. Train loss: 3.816.. Val loss: 3.820.. Train L1 norm: 7.633.. Val L1 norm: 24.851.. Train Linf norm: 7890.967.. Val Linf norm: 42186.771\n",
            "Epoch 8/52.. Train loss: 3.816.. Val loss: 3.819.. Train L1 norm: 7.604.. Val L1 norm: 25.462.. Train Linf norm: 7840.305.. Val Linf norm: 43246.980\n",
            "Epoch 9/52.. Train loss: 3.843.. Val loss: 3.819.. Train L1 norm: 7.644.. Val L1 norm: 25.367.. Train Linf norm: 7793.719.. Val Linf norm: 43081.024\n",
            "Epoch 10/52.. Train loss: 3.829.. Val loss: 3.819.. Train L1 norm: 7.634.. Val L1 norm: 25.179.. Train Linf norm: 7851.845.. Val Linf norm: 42755.564\n",
            "Epoch 11/52.. Train loss: 3.816.. Val loss: 3.819.. Train L1 norm: 7.637.. Val L1 norm: 24.951.. Train Linf norm: 7871.519.. Val Linf norm: 42359.584\n",
            "Epoch 12/52.. Train loss: 3.816.. Val loss: 3.819.. Train L1 norm: 7.590.. Val L1 norm: 25.316.. Train Linf norm: 7772.888.. Val Linf norm: 42993.368\n",
            "Epoch 13/52.. Train loss: 3.816.. Val loss: 3.819.. Train L1 norm: 7.615.. Val L1 norm: 25.329.. Train Linf norm: 7877.559.. Val Linf norm: 43015.293\n",
            "Epoch 14/52.. Train loss: 3.816.. Val loss: 3.819.. Train L1 norm: 7.622.. Val L1 norm: 25.106.. Train Linf norm: 7901.362.. Val Linf norm: 42628.113\n",
            "Epoch 15/52.. Train loss: 3.816.. Val loss: 3.819.. Train L1 norm: 7.611.. Val L1 norm: 25.163.. Train Linf norm: 7921.412.. Val Linf norm: 42727.792\n",
            "Epoch 16/52.. Train loss: 3.816.. Val loss: 3.819.. Train L1 norm: 7.615.. Val L1 norm: 25.336.. Train Linf norm: 7926.659.. Val Linf norm: 43027.297\n",
            "Epoch 17/52.. Train loss: 3.816.. Val loss: 3.819.. Train L1 norm: 7.627.. Val L1 norm: 25.285.. Train Linf norm: 8026.417.. Val Linf norm: 42939.607\n",
            "Epoch 18/52.. Train loss: 3.816.. Val loss: 3.819.. Train L1 norm: 7.626.. Val L1 norm: 24.941.. Train Linf norm: 7788.106.. Val Linf norm: 42341.945\n",
            "Epoch 19/52.. Train loss: 3.816.. Val loss: 3.819.. Train L1 norm: 7.610.. Val L1 norm: 25.235.. Train Linf norm: 7937.408.. Val Linf norm: 42852.220\n",
            "Epoch 20/52.. Train loss: 3.816.. Val loss: 3.819.. Train L1 norm: 7.632.. Val L1 norm: 25.043.. Train Linf norm: 7848.666.. Val Linf norm: 42519.760\n",
            "Epoch 21/52.. Train loss: 3.816.. Val loss: 3.819.. Train L1 norm: 7.604.. Val L1 norm: 25.288.. Train Linf norm: 7562.003.. Val Linf norm: 42944.476\n",
            "Epoch 22/52.. Train loss: 3.816.. Val loss: 3.819.. Train L1 norm: 7.621.. Val L1 norm: 25.223.. Train Linf norm: 7806.580.. Val Linf norm: 42831.737\n",
            "Epoch 23/52.. Train loss: 3.816.. Val loss: 3.819.. Train L1 norm: 7.608.. Val L1 norm: 25.328.. Train Linf norm: 7764.229.. Val Linf norm: 43014.350\n",
            "Epoch 24/52.. Train loss: 3.816.. Val loss: 3.819.. Train L1 norm: 7.631.. Val L1 norm: 25.212.. Train Linf norm: 7868.983.. Val Linf norm: 42812.537\n",
            "Epoch 25/52.. Train loss: 3.816.. Val loss: 3.819.. Train L1 norm: 7.624.. Val L1 norm: 25.184.. Train Linf norm: 7954.719.. Val Linf norm: 42763.335\n",
            "Epoch 26/52.. Train loss: 3.816.. Val loss: 3.819.. Train L1 norm: 7.616.. Val L1 norm: 25.210.. Train Linf norm: 7828.230.. Val Linf norm: 42809.044\n",
            "Epoch 27/52.. Train loss: 3.816.. Val loss: 3.819.. Train L1 norm: 7.615.. Val L1 norm: 25.274.. Train Linf norm: 7926.595.. Val Linf norm: 42919.942\n",
            "Epoch 28/52.. Train loss: 3.816.. Val loss: 3.819.. Train L1 norm: 7.632.. Val L1 norm: 25.197.. Train Linf norm: 7977.283.. Val Linf norm: 42785.794\n",
            "Epoch 29/52.. Train loss: 3.816.. Val loss: 3.819.. Train L1 norm: 7.618.. Val L1 norm: 25.208.. Train Linf norm: 7877.306.. Val Linf norm: 42806.037\n",
            "Epoch 30/52.. Train loss: 3.816.. Val loss: 3.819.. Train L1 norm: 7.612.. Val L1 norm: 25.247.. Train Linf norm: 7883.849.. Val Linf norm: 42872.648\n",
            "Epoch 31/52.. Train loss: 3.816.. Val loss: 3.819.. Train L1 norm: 7.624.. Val L1 norm: 25.236.. Train Linf norm: 7953.583.. Val Linf norm: 42854.577\n",
            "Epoch 32/52.. Train loss: 3.816.. Val loss: 3.819.. Train L1 norm: 7.619.. Val L1 norm: 25.205.. Train Linf norm: 7672.811.. Val Linf norm: 42800.476\n",
            "Epoch 33/52.. Train loss: 3.816.. Val loss: 3.819.. Train L1 norm: 7.619.. Val L1 norm: 25.229.. Train Linf norm: 7702.703.. Val Linf norm: 42841.919\n",
            "Epoch 34/52.. Train loss: 3.816.. Val loss: 3.819.. Train L1 norm: 7.617.. Val L1 norm: 25.253.. Train Linf norm: 7834.084.. Val Linf norm: 42883.921\n",
            "Epoch 35/52.. Train loss: 3.816.. Val loss: 3.819.. Train L1 norm: 7.621.. Val L1 norm: 25.250.. Train Linf norm: 7867.844.. Val Linf norm: 42877.718\n",
            "Epoch 36/52.. Train loss: 3.816.. Val loss: 3.819.. Train L1 norm: 7.623.. Val L1 norm: 25.234.. Train Linf norm: 7913.677.. Val Linf norm: 42849.842\n",
            "Epoch 37/52.. Train loss: 3.816.. Val loss: 3.819.. Train L1 norm: 7.619.. Val L1 norm: 25.252.. Train Linf norm: 7835.276.. Val Linf norm: 42882.512\n",
            "Epoch 38/52.. Train loss: 3.816.. Val loss: 3.819.. Train L1 norm: 7.627.. Val L1 norm: 25.197.. Train Linf norm: 7972.161.. Val Linf norm: 42786.304\n",
            "Epoch 39/52.. Train loss: 3.816.. Val loss: 3.819.. Train L1 norm: 7.613.. Val L1 norm: 25.234.. Train Linf norm: 7830.405.. Val Linf norm: 42850.152\n",
            "Epoch 40/52.. Train loss: 3.816.. Val loss: 3.819.. Train L1 norm: 7.624.. Val L1 norm: 25.212.. Train Linf norm: 7818.323.. Val Linf norm: 42812.814\n",
            "Epoch 41/52.. Train loss: 3.816.. Val loss: 3.819.. Train L1 norm: 7.618.. Val L1 norm: 25.238.. Train Linf norm: 7706.556.. Val Linf norm: 42857.123\n",
            "Epoch 42/52.. Train loss: 3.816.. Val loss: 3.819.. Train L1 norm: 7.620.. Val L1 norm: 25.215.. Train Linf norm: 7822.119.. Val Linf norm: 42818.254\n",
            "Epoch 43/52.. Train loss: 3.816.. Val loss: 3.819.. Train L1 norm: 7.617.. Val L1 norm: 25.240.. Train Linf norm: 7898.756.. Val Linf norm: 42860.775\n",
            "Epoch 44/52.. Train loss: 3.816.. Val loss: 3.819.. Train L1 norm: 7.620.. Val L1 norm: 25.229.. Train Linf norm: 7840.441.. Val Linf norm: 42842.679\n",
            "Epoch 45/52.. Train loss: 3.816.. Val loss: 3.819.. Train L1 norm: 7.619.. Val L1 norm: 25.233.. Train Linf norm: 7758.669.. Val Linf norm: 42848.194\n",
            "Epoch 46/52.. Train loss: 3.816.. Val loss: 3.819.. Train L1 norm: 7.617.. Val L1 norm: 25.242.. Train Linf norm: 7952.404.. Val Linf norm: 42864.285\n",
            "Epoch 47/52.. Train loss: 3.816.. Val loss: 3.819.. Train L1 norm: 7.621.. Val L1 norm: 25.240.. Train Linf norm: 7824.440.. Val Linf norm: 42860.838\n",
            "Epoch 48/52.. Train loss: 3.816.. Val loss: 3.819.. Train L1 norm: 7.622.. Val L1 norm: 25.234.. Train Linf norm: 7836.121.. Val Linf norm: 42851.469\n",
            "Epoch 49/52.. Train loss: 3.816.. Val loss: 3.819.. Train L1 norm: 7.615.. Val L1 norm: 25.245.. Train Linf norm: 7816.329.. Val Linf norm: 42869.011\n",
            "Epoch 50/52.. Train loss: 3.816.. Val loss: 3.819.. Train L1 norm: 7.623.. Val L1 norm: 25.237.. Train Linf norm: 7963.186.. Val Linf norm: 42856.603\n",
            "Epoch 51/52.. Train loss: 3.816.. Val loss: 3.819.. Train L1 norm: 7.624.. Val L1 norm: 25.227.. Train Linf norm: 7908.105.. Val Linf norm: 42838.598\n"
          ]
        },
        {
          "name": "stderr",
          "output_type": "stream",
          "text": [
            "\u001b[32m[I 2023-05-28 06:50:42,607]\u001b[0m Trial 2 finished with value: 25.218627460835776 and parameters: {'n_layers': 2, 'n_units_0': 3961, 'n_units_1': 3949, 'hidden_activation': 'ReLU', 'output_activation': 'Linear', 'loss': 'Huber', 'optimizer': 'RMSprop', 'lr': 0.007012049262172075, 'batch_size': 2048, 'n_epochs': 52, 'scheduler': 'StepLR', 'dropout_rate': 0.42145640056963724, 'step_size': 11, 'gamma': 0.4908688769804569}. Best is trial 1 with value: 15.73720683245341.\u001b[0m\n"
          ]
        },
        {
          "name": "stdout",
          "output_type": "stream",
          "text": [
            "Epoch 52/52.. Train loss: 3.816.. Val loss: 3.819.. Train L1 norm: 7.623.. Val L1 norm: 25.219.. Train Linf norm: 7824.207.. Val Linf norm: 42823.982\n"
          ]
        },
        {
          "name": "stderr",
          "output_type": "stream",
          "text": [
            "<ipython-input-37-ddc3c9d46736>:149: FutureWarning: suggest_loguniform has been deprecated in v3.0.0. This feature will be removed in v6.0.0. See https://github.com/optuna/optuna/releases/tag/v3.0.0. Use :func:`~optuna.trial.Trial.suggest_float` instead.\n",
            "  weight_decay = trial.suggest_loguniform(\"weight_decay\", 1e-5, 1e-2)\n",
            "<ipython-input-37-ddc3c9d46736>:150: FutureWarning: suggest_uniform has been deprecated in v3.0.0. This feature will be removed in v6.0.0. See https://github.com/optuna/optuna/releases/tag/v3.0.0. Use :func:`~optuna.trial.Trial.suggest_float` instead.\n",
            "  beta1 = trial.suggest_uniform(\"beta1\", 0.9, 0.999)\n",
            "<ipython-input-37-ddc3c9d46736>:151: FutureWarning: suggest_uniform has been deprecated in v3.0.0. This feature will be removed in v6.0.0. See https://github.com/optuna/optuna/releases/tag/v3.0.0. Use :func:`~optuna.trial.Trial.suggest_float` instead.\n",
            "  beta2 = trial.suggest_uniform(\"beta2\", 0.999, 0.9999)\n"
          ]
        },
        {
          "name": "stdout",
          "output_type": "stream",
          "text": [
            "Epoch 1/107.. Train loss: 158.772.. Val loss: 1222.003.. Train L1 norm: 213.917.. Val L1 norm: 1180.468.. Train Linf norm: 138455.934.. Val Linf norm: 992594.558\n",
            "Epoch 2/107.. Train loss: 2668.395.. Val loss: 139.762.. Train L1 norm: 2736.118.. Val L1 norm: 123.570.. Train Linf norm: 1729955.602.. Val Linf norm: 111472.363\n",
            "Epoch 3/107.. Train loss: 5817.184.. Val loss: 582.004.. Train L1 norm: 3714.222.. Val L1 norm: 1891.238.. Train Linf norm: 1596844.955.. Val Linf norm: 1751917.252\n",
            "Epoch 4/107.. Train loss: 8435.369.. Val loss: 781.244.. Train L1 norm: 7445.024.. Val L1 norm: 162.921.. Train Linf norm: 6022595.608.. Val Linf norm: 119023.926\n",
            "Epoch 5/107.. Train loss: 8776.866.. Val loss: 591.163.. Train L1 norm: 3093.725.. Val L1 norm: 106.936.. Train Linf norm: 1787763.064.. Val Linf norm: 77039.995\n",
            "Epoch 6/107.. Train loss: 5929.842.. Val loss: 476.703.. Train L1 norm: 1805.898.. Val L1 norm: 231.329.. Train Linf norm: 1278729.621.. Val Linf norm: 198642.219\n",
            "Epoch 7/107.. Train loss: 5944.844.. Val loss: 2741.787.. Train L1 norm: 1685.404.. Val L1 norm: 460.402.. Train Linf norm: 1268271.805.. Val Linf norm: 331542.531\n",
            "Epoch 8/107.. Train loss: 7802.903.. Val loss: 206.283.. Train L1 norm: 2792.268.. Val L1 norm: 83.445.. Train Linf norm: 1381473.742.. Val Linf norm: 62247.829\n",
            "Epoch 9/107.. Train loss: 4159.056.. Val loss: 833.287.. Train L1 norm: 1125.156.. Val L1 norm: 292.351.. Train Linf norm: 767471.295.. Val Linf norm: 194581.031\n",
            "Epoch 10/107.. Train loss: 6482.267.. Val loss: 701.030.. Train L1 norm: 4226.822.. Val L1 norm: 117.886.. Train Linf norm: 2889934.219.. Val Linf norm: 89571.058\n",
            "Epoch 11/107.. Train loss: 7254.674.. Val loss: 2944.133.. Train L1 norm: 5348.655.. Val L1 norm: 520.778.. Train Linf norm: 3505773.927.. Val Linf norm: 383121.263\n",
            "Epoch 12/107.. Train loss: 6772.501.. Val loss: 636.576.. Train L1 norm: 1534.973.. Val L1 norm: 114.581.. Train Linf norm: 1381884.406.. Val Linf norm: 94674.042\n",
            "Epoch 13/107.. Train loss: 3353.924.. Val loss: 4125.933.. Train L1 norm: 817.318.. Val L1 norm: 1599.837.. Train Linf norm: 699609.685.. Val Linf norm: 1359199.711\n",
            "Epoch 14/107.. Train loss: 9285.507.. Val loss: 506.126.. Train L1 norm: 2537.274.. Val L1 norm: 270.371.. Train Linf norm: 2119460.508.. Val Linf norm: 163600.825\n",
            "Epoch 15/107.. Train loss: 5532.006.. Val loss: 324.204.. Train L1 norm: 2766.502.. Val L1 norm: 293.448.. Train Linf norm: 1627635.001.. Val Linf norm: 244960.481\n",
            "Epoch 16/107.. Train loss: 4178.805.. Val loss: 535.898.. Train L1 norm: 1430.816.. Val L1 norm: 142.973.. Train Linf norm: 1003116.499.. Val Linf norm: 90666.403\n",
            "Epoch 17/107.. Train loss: 2512.511.. Val loss: 2871.073.. Train L1 norm: 666.257.. Val L1 norm: 3867.427.. Train Linf norm: 506170.616.. Val Linf norm: 3278380.673\n",
            "Epoch 18/107.. Train loss: 3655.099.. Val loss: 797.395.. Train L1 norm: 898.717.. Val L1 norm: 281.848.. Train Linf norm: 743436.485.. Val Linf norm: 227099.270\n",
            "Epoch 19/107.. Train loss: 1467.645.. Val loss: 292.851.. Train L1 norm: 400.312.. Val L1 norm: 72.119.. Train Linf norm: 328078.462.. Val Linf norm: 55639.977\n",
            "Epoch 20/107.. Train loss: 1759.712.. Val loss: 360.951.. Train L1 norm: 333.371.. Val L1 norm: 81.328.. Train Linf norm: 303478.800.. Val Linf norm: 67663.131\n",
            "Epoch 21/107.. Train loss: 2096.400.. Val loss: 355.035.. Train L1 norm: 444.120.. Val L1 norm: 78.360.. Train Linf norm: 429848.013.. Val Linf norm: 63613.233\n",
            "Epoch 22/107.. Train loss: 1314.702.. Val loss: 101.384.. Train L1 norm: 279.400.. Val L1 norm: 46.389.. Train Linf norm: 255639.282.. Val Linf norm: 38628.337\n",
            "Epoch 23/107.. Train loss: 1674.544.. Val loss: 99.816.. Train L1 norm: 363.314.. Val L1 norm: 47.514.. Train Linf norm: 351343.434.. Val Linf norm: 39682.136\n",
            "Epoch 24/107.. Train loss: 2007.696.. Val loss: 99.734.. Train L1 norm: 439.294.. Val L1 norm: 47.423.. Train Linf norm: 428990.844.. Val Linf norm: 39591.476\n",
            "Epoch 25/107.. Train loss: 1592.225.. Val loss: 91.999.. Train L1 norm: 327.422.. Val L1 norm: 41.022.. Train Linf norm: 314968.868.. Val Linf norm: 32516.637\n",
            "Epoch 26/107.. Train loss: 800.519.. Val loss: 150.270.. Train L1 norm: 167.795.. Val L1 norm: 49.952.. Train Linf norm: 151250.717.. Val Linf norm: 39750.508\n",
            "Epoch 27/107.. Train loss: 1545.345.. Val loss: 74.548.. Train L1 norm: 314.237.. Val L1 norm: 41.793.. Train Linf norm: 301694.456.. Val Linf norm: 35263.305\n",
            "Epoch 28/107.. Train loss: 912.974.. Val loss: 487.947.. Train L1 norm: 208.907.. Val L1 norm: 87.158.. Train Linf norm: 183975.178.. Val Linf norm: 65713.191\n",
            "Epoch 29/107.. Train loss: 1165.179.. Val loss: 91.357.. Train L1 norm: 343.784.. Val L1 norm: 37.905.. Train Linf norm: 298373.994.. Val Linf norm: 30268.154\n",
            "Epoch 30/107.. Train loss: 1907.154.. Val loss: 1526.261.. Train L1 norm: 456.652.. Val L1 norm: 873.049.. Train Linf norm: 420786.075.. Val Linf norm: 615323.440\n",
            "Epoch 31/107.. Train loss: 2031.205.. Val loss: 627.215.. Train L1 norm: 960.355.. Val L1 norm: 591.467.. Train Linf norm: 682948.478.. Val Linf norm: 516047.716\n",
            "Epoch 32/107.. Train loss: 2887.102.. Val loss: 826.253.. Train L1 norm: 905.317.. Val L1 norm: 225.959.. Train Linf norm: 589693.690.. Val Linf norm: 132543.042\n",
            "Epoch 33/107.. Train loss: 2722.085.. Val loss: 1495.559.. Train L1 norm: 1428.520.. Val L1 norm: 2220.936.. Train Linf norm: 883949.710.. Val Linf norm: 1947337.390\n",
            "Epoch 34/107.. Train loss: 3726.677.. Val loss: 274.922.. Train L1 norm: 1488.056.. Val L1 norm: 218.792.. Train Linf norm: 993601.456.. Val Linf norm: 189887.605\n",
            "Epoch 35/107.. Train loss: 6986.555.. Val loss: 253.897.. Train L1 norm: 3407.835.. Val L1 norm: 158.834.. Train Linf norm: 2007123.642.. Val Linf norm: 134935.793\n",
            "Epoch 36/107.. Train loss: 5604.000.. Val loss: 662.321.. Train L1 norm: 2727.176.. Val L1 norm: 106.414.. Train Linf norm: 1796007.639.. Val Linf norm: 94014.615\n",
            "Epoch 37/107.. Train loss: 6839.474.. Val loss: 250.018.. Train L1 norm: 3189.395.. Val L1 norm: 176.993.. Train Linf norm: 1652023.807.. Val Linf norm: 154659.530\n",
            "Epoch 38/107.. Train loss: 4128.085.. Val loss: 11080.686.. Train L1 norm: 2454.825.. Val L1 norm: 4829.634.. Train Linf norm: 1350107.559.. Val Linf norm: 4121036.017\n",
            "Epoch 39/107.. Train loss: 7868.777.. Val loss: 552.420.. Train L1 norm: 3526.188.. Val L1 norm: 83.285.. Train Linf norm: 2698324.869.. Val Linf norm: 65790.922\n",
            "Epoch 40/107.. Train loss: 10346.353.. Val loss: 451.515.. Train L1 norm: 4387.354.. Val L1 norm: 82.914.. Train Linf norm: 3659796.077.. Val Linf norm: 57712.698\n",
            "Epoch 41/107.. Train loss: 3292.457.. Val loss: 225.592.. Train L1 norm: 2063.012.. Val L1 norm: 63.155.. Train Linf norm: 1102526.776.. Val Linf norm: 56749.366\n",
            "Epoch 42/107.. Train loss: 2398.294.. Val loss: 126.751.. Train L1 norm: 1434.217.. Val L1 norm: 24.548.. Train Linf norm: 807009.850.. Val Linf norm: 18309.899\n",
            "Epoch 43/107.. Train loss: 4157.995.. Val loss: 4560.871.. Train L1 norm: 5734.761.. Val L1 norm: 7940.915.. Train Linf norm: 4081020.602.. Val Linf norm: 6722527.405\n",
            "Epoch 44/107.. Train loss: 8153.862.. Val loss: 714.963.. Train L1 norm: 3174.203.. Val L1 norm: 144.517.. Train Linf norm: 1848894.019.. Val Linf norm: 128271.494\n",
            "Epoch 45/107.. Train loss: 5276.794.. Val loss: 1071.163.. Train L1 norm: 3115.475.. Val L1 norm: 1978.928.. Train Linf norm: 1371952.280.. Val Linf norm: 1653705.902\n",
            "Epoch 46/107.. Train loss: 4255.742.. Val loss: 531.495.. Train L1 norm: 3333.109.. Val L1 norm: 2143.607.. Train Linf norm: 2047992.634.. Val Linf norm: 1970263.510\n",
            "Epoch 47/107.. Train loss: 4214.273.. Val loss: 756.426.. Train L1 norm: 1386.823.. Val L1 norm: 265.867.. Train Linf norm: 768366.912.. Val Linf norm: 236676.865\n",
            "Epoch 48/107.. Train loss: 7723.395.. Val loss: 3501.384.. Train L1 norm: 3386.743.. Val L1 norm: 2429.317.. Train Linf norm: 1460049.263.. Val Linf norm: 2164723.246\n",
            "Epoch 49/107.. Train loss: 7434.538.. Val loss: 40040.296.. Train L1 norm: 4216.825.. Val L1 norm: 337770.311.. Train Linf norm: 2408013.808.. Val Linf norm: 315900868.121\n",
            "Epoch 50/107.. Train loss: 13307.365.. Val loss: 8039.999.. Train L1 norm: 6562.366.. Val L1 norm: 2019.572.. Train Linf norm: 3885168.693.. Val Linf norm: 999163.394\n",
            "Epoch 51/107.. Train loss: 35728.315.. Val loss: 6225.981.. Train L1 norm: 16762.285.. Val L1 norm: 919.750.. Train Linf norm: 8343014.700.. Val Linf norm: 745106.547\n",
            "Epoch 52/107.. Train loss: 62904.409.. Val loss: 1167.609.. Train L1 norm: 14751.125.. Val L1 norm: 1315.386.. Train Linf norm: 13905031.349.. Val Linf norm: 1134253.149\n",
            "Epoch 53/107.. Train loss: 16698.375.. Val loss: 1588.944.. Train L1 norm: 8715.599.. Val L1 norm: 233.484.. Train Linf norm: 4469201.270.. Val Linf norm: 203299.945\n",
            "Epoch 54/107.. Train loss: 14320.788.. Val loss: 15120.358.. Train L1 norm: 8251.510.. Val L1 norm: 24964.494.. Train Linf norm: 6936064.147.. Val Linf norm: 18621161.963\n",
            "Epoch 55/107.. Train loss: 17563.253.. Val loss: 2209.406.. Train L1 norm: 10574.252.. Val L1 norm: 2292.718.. Train Linf norm: 4631124.526.. Val Linf norm: 1976053.255\n",
            "Epoch 56/107.. Train loss: 10104.185.. Val loss: 79202.558.. Train L1 norm: 4080.050.. Val L1 norm: 271028.361.. Train Linf norm: 2002599.502.. Val Linf norm: 237008890.190\n",
            "Epoch 57/107.. Train loss: 20192.844.. Val loss: 461.098.. Train L1 norm: 9389.824.. Val L1 norm: 86.147.. Train Linf norm: 6018748.666.. Val Linf norm: 63318.179\n",
            "Epoch 58/107.. Train loss: 4880.862.. Val loss: 1218.011.. Train L1 norm: 1931.805.. Val L1 norm: 293.669.. Train Linf norm: 1005945.036.. Val Linf norm: 166547.035\n",
            "Epoch 59/107.. Train loss: 4565.614.. Val loss: 4600.047.. Train L1 norm: 1125.924.. Val L1 norm: 10337.302.. Train Linf norm: 1019234.045.. Val Linf norm: 8896512.092\n",
            "Epoch 60/107.. Train loss: 6832.570.. Val loss: 2141.292.. Train L1 norm: 1861.147.. Val L1 norm: 405.640.. Train Linf norm: 1639862.367.. Val Linf norm: 319254.392\n",
            "Epoch 61/107.. Train loss: 4027.165.. Val loss: 522.118.. Train L1 norm: 1008.428.. Val L1 norm: 324.720.. Train Linf norm: 857879.104.. Val Linf norm: 284870.259\n",
            "Epoch 62/107.. Train loss: 2340.521.. Val loss: 607.809.. Train L1 norm: 733.901.. Val L1 norm: 535.857.. Train Linf norm: 534963.092.. Val Linf norm: 478173.180\n",
            "Epoch 63/107.. Train loss: 1734.010.. Val loss: 669.751.. Train L1 norm: 626.463.. Val L1 norm: 1963.386.. Train Linf norm: 371746.987.. Val Linf norm: 1798991.381\n",
            "Epoch 64/107.. Train loss: 2177.984.. Val loss: 404.981.. Train L1 norm: 746.335.. Val L1 norm: 172.679.. Train Linf norm: 494221.111.. Val Linf norm: 138237.635\n",
            "Epoch 65/107.. Train loss: 2235.730.. Val loss: 426.886.. Train L1 norm: 748.798.. Val L1 norm: 85.595.. Train Linf norm: 544449.217.. Val Linf norm: 67901.047\n",
            "Epoch 66/107.. Train loss: 1258.505.. Val loss: 544.585.. Train L1 norm: 313.639.. Val L1 norm: 102.059.. Train Linf norm: 254244.890.. Val Linf norm: 82795.001\n",
            "Epoch 67/107.. Train loss: 2051.824.. Val loss: 356.382.. Train L1 norm: 463.805.. Val L1 norm: 73.697.. Train Linf norm: 427151.325.. Val Linf norm: 59771.174\n",
            "Epoch 68/107.. Train loss: 824.922.. Val loss: 367.693.. Train L1 norm: 186.093.. Val L1 norm: 76.578.. Train Linf norm: 139445.969.. Val Linf norm: 62889.752\n",
            "Epoch 69/107.. Train loss: 1013.377.. Val loss: 342.070.. Train L1 norm: 191.522.. Val L1 norm: 72.208.. Train Linf norm: 172441.220.. Val Linf norm: 59187.484\n",
            "Epoch 70/107.. Train loss: 1285.976.. Val loss: 341.976.. Train L1 norm: 275.610.. Val L1 norm: 72.233.. Train Linf norm: 260200.044.. Val Linf norm: 59218.024\n",
            "Epoch 71/107.. Train loss: 1901.063.. Val loss: 352.247.. Train L1 norm: 344.524.. Val L1 norm: 85.858.. Train Linf norm: 327856.732.. Val Linf norm: 72191.769\n",
            "Epoch 72/107.. Train loss: 670.537.. Val loss: 357.013.. Train L1 norm: 127.423.. Val L1 norm: 74.377.. Train Linf norm: 105660.595.. Val Linf norm: 61570.161\n",
            "Epoch 73/107.. Train loss: 2080.660.. Val loss: 227.592.. Train L1 norm: 762.338.. Val L1 norm: 137.131.. Train Linf norm: 706904.011.. Val Linf norm: 120406.359\n",
            "Epoch 74/107.. Train loss: 1197.089.. Val loss: 73.955.. Train L1 norm: 429.542.. Val L1 norm: 34.217.. Train Linf norm: 341711.779.. Val Linf norm: 28668.069\n",
            "Epoch 75/107.. Train loss: 1666.252.. Val loss: 305.104.. Train L1 norm: 528.311.. Val L1 norm: 73.457.. Train Linf norm: 374983.564.. Val Linf norm: 61418.467\n",
            "Epoch 76/107.. Train loss: 880.784.. Val loss: 98.945.. Train L1 norm: 240.159.. Val L1 norm: 36.872.. Train Linf norm: 183139.834.. Val Linf norm: 31836.685\n",
            "Epoch 77/107.. Train loss: 2051.797.. Val loss: 424.603.. Train L1 norm: 521.478.. Val L1 norm: 1042.424.. Train Linf norm: 464685.740.. Val Linf norm: 875795.882\n",
            "Epoch 78/107.. Train loss: 871.163.. Val loss: 96.748.. Train L1 norm: 409.620.. Val L1 norm: 42.739.. Train Linf norm: 253825.251.. Val Linf norm: 36002.480\n",
            "Epoch 79/107.. Train loss: 2691.686.. Val loss: 846.527.. Train L1 norm: 1895.945.. Val L1 norm: 237.516.. Train Linf norm: 1244709.798.. Val Linf norm: 208968.479\n",
            "Epoch 80/107.. Train loss: 2454.552.. Val loss: 771.733.. Train L1 norm: 642.819.. Val L1 norm: 1130.039.. Train Linf norm: 571164.673.. Val Linf norm: 999892.744\n",
            "Epoch 81/107.. Train loss: 5467.515.. Val loss: 805.925.. Train L1 norm: 4336.343.. Val L1 norm: 314.190.. Train Linf norm: 2427896.570.. Val Linf norm: 219843.861\n",
            "Epoch 82/107.. Train loss: 4226.117.. Val loss: 7212.447.. Train L1 norm: 2088.867.. Val L1 norm: 14289.674.. Train Linf norm: 1402867.537.. Val Linf norm: 12228256.853\n",
            "Epoch 83/107.. Train loss: 17559.692.. Val loss: 973.586.. Train L1 norm: 34108.063.. Val L1 norm: 167.646.. Train Linf norm: 30130171.887.. Val Linf norm: 119155.119\n",
            "Epoch 84/107.. Train loss: 18161.932.. Val loss: 776.129.. Train L1 norm: 9370.988.. Val L1 norm: 559.201.. Train Linf norm: 5095427.695.. Val Linf norm: 471887.818\n",
            "Epoch 85/107.. Train loss: 7788.933.. Val loss: 2602.419.. Train L1 norm: 5352.416.. Val L1 norm: 1379.513.. Train Linf norm: 2881959.350.. Val Linf norm: 1025510.414\n",
            "Epoch 86/107.. Train loss: 10960.635.. Val loss: 1402.226.. Train L1 norm: 6927.534.. Val L1 norm: 1500.339.. Train Linf norm: 4672001.476.. Val Linf norm: 1363420.925\n",
            "Epoch 87/107.. Train loss: 18200.322.. Val loss: 8939.065.. Train L1 norm: 11131.859.. Val L1 norm: 6358.943.. Train Linf norm: 5027747.313.. Val Linf norm: 5334315.525\n",
            "Epoch 88/107.. Train loss: 12954.417.. Val loss: 8107.112.. Train L1 norm: 5569.040.. Val L1 norm: 37247.947.. Train Linf norm: 2755245.546.. Val Linf norm: 34334115.983\n",
            "Epoch 89/107.. Train loss: 36796.845.. Val loss: 4489.157.. Train L1 norm: 20705.100.. Val L1 norm: 1295.860.. Train Linf norm: 12850080.825.. Val Linf norm: 839468.437\n",
            "Epoch 90/107.. Train loss: 43674.460.. Val loss: 7231.673.. Train L1 norm: 14429.750.. Val L1 norm: 5066.187.. Train Linf norm: 8869479.977.. Val Linf norm: 3468790.138\n",
            "Epoch 91/107.. Train loss: 69900.040.. Val loss: 15690.128.. Train L1 norm: 27582.902.. Val L1 norm: 54543.906.. Train Linf norm: 18715371.919.. Val Linf norm: 47890622.022\n",
            "Epoch 92/107.. Train loss: 111378.065.. Val loss: 5104.315.. Train L1 norm: 150153.776.. Val L1 norm: 5008.278.. Train Linf norm: 97036636.055.. Val Linf norm: 4353671.907\n",
            "Epoch 93/107.. Train loss: 34283.087.. Val loss: 5376.771.. Train L1 norm: 21441.857.. Val L1 norm: 3029.851.. Train Linf norm: 13475510.049.. Val Linf norm: 2337145.493\n",
            "Epoch 94/107.. Train loss: 31114.445.. Val loss: 1578.372.. Train L1 norm: 7332.800.. Val L1 norm: 297.096.. Train Linf norm: 6102497.745.. Val Linf norm: 215109.567\n",
            "Epoch 95/107.. Train loss: 10566.268.. Val loss: 2762.801.. Train L1 norm: 3901.623.. Val L1 norm: 781.009.. Train Linf norm: 2135216.767.. Val Linf norm: 553632.305\n",
            "Epoch 96/107.. Train loss: 17185.551.. Val loss: 1486.957.. Train L1 norm: 3734.577.. Val L1 norm: 478.474.. Train Linf norm: 3440078.005.. Val Linf norm: 389449.737\n",
            "Epoch 97/107.. Train loss: 14507.758.. Val loss: 15924.955.. Train L1 norm: 4149.953.. Val L1 norm: 18532.066.. Train Linf norm: 3280852.820.. Val Linf norm: 14914290.191\n",
            "Epoch 98/107.. Train loss: 7185.767.. Val loss: 1253.265.. Train L1 norm: 1880.026.. Val L1 norm: 5601.117.. Train Linf norm: 1331080.537.. Val Linf norm: 5310929.651\n",
            "Epoch 99/107.. Train loss: 45059.873.. Val loss: 9473.935.. Train L1 norm: 35010.531.. Val L1 norm: 11015.959.. Train Linf norm: 23028569.730.. Val Linf norm: 10180391.982\n",
            "Epoch 100/107.. Train loss: 12688.876.. Val loss: 3832.839.. Train L1 norm: 4523.635.. Val L1 norm: 9870.969.. Train Linf norm: 3599985.904.. Val Linf norm: 9088358.128\n",
            "Epoch 101/107.. Train loss: 5134.523.. Val loss: 1638.554.. Train L1 norm: 1935.462.. Val L1 norm: 3184.329.. Train Linf norm: 1180069.484.. Val Linf norm: 2640865.506\n",
            "Epoch 102/107.. Train loss: 3701.230.. Val loss: 7559.952.. Train L1 norm: 2967.489.. Val L1 norm: 7517.045.. Train Linf norm: 1682139.427.. Val Linf norm: 5516267.325\n",
            "Epoch 103/107.. Train loss: 4403.638.. Val loss: 8883.769.. Train L1 norm: 2320.793.. Val L1 norm: 28369.980.. Train Linf norm: 1576729.174.. Val Linf norm: 25462550.701\n",
            "Epoch 104/107.. Train loss: 6322.950.. Val loss: 2162.898.. Train L1 norm: 2039.195.. Val L1 norm: 943.491.. Train Linf norm: 1706813.731.. Val Linf norm: 615838.491\n",
            "Epoch 105/107.. Train loss: 3720.597.. Val loss: 140.157.. Train L1 norm: 1446.731.. Val L1 norm: 218.840.. Train Linf norm: 810028.446.. Val Linf norm: 190314.168\n",
            "Epoch 106/107.. Train loss: 805.804.. Val loss: 261.200.. Train L1 norm: 175.811.. Val L1 norm: 62.812.. Train Linf norm: 123840.168.. Val Linf norm: 53220.253\n"
          ]
        },
        {
          "name": "stderr",
          "output_type": "stream",
          "text": [
            "\u001b[32m[I 2023-05-28 07:09:00,182]\u001b[0m Trial 3 finished with value: 2489.42351082194 and parameters: {'n_layers': 2, 'n_units_0': 1104, 'n_units_1': 1200, 'hidden_activation': 'PReLU', 'output_activation': 'Linear', 'loss': 'MAE', 'optimizer': 'Adam', 'lr': 0.013082171802884896, 'batch_size': 1024, 'n_epochs': 107, 'scheduler': 'CosineAnnealingLR', 'prelu_init': 0.24452866842244764, 'dropout_rate': 0.2510952726716022, 'weight_decay': 1.576179301527461e-05, 'beta1': 0.9012411203004063, 'beta2': 0.9995463456139551, 't_max_fraction': 0.21588459259654777, 'eta_min': 3.3280525764945555e-07}. Best is trial 1 with value: 15.73720683245341.\u001b[0m\n"
          ]
        },
        {
          "name": "stdout",
          "output_type": "stream",
          "text": [
            "Epoch 107/107.. Train loss: 807.306.. Val loss: 956.378.. Train L1 norm: 269.490.. Val L1 norm: 2489.424.. Train Linf norm: 162705.097.. Val Linf norm: 2275434.135\n"
          ]
        },
        {
          "name": "stderr",
          "output_type": "stream",
          "text": [
            "<ipython-input-37-ddc3c9d46736>:145: FutureWarning: suggest_loguniform has been deprecated in v3.0.0. This feature will be removed in v6.0.0. See https://github.com/optuna/optuna/releases/tag/v3.0.0. Use :func:`~optuna.trial.Trial.suggest_float` instead.\n",
            "  weight_decay = trial.suggest_loguniform(\"weight_decay\", 1e-5, 1e-2)\n",
            "<ipython-input-37-ddc3c9d46736>:146: FutureWarning: suggest_uniform has been deprecated in v3.0.0. This feature will be removed in v6.0.0. See https://github.com/optuna/optuna/releases/tag/v3.0.0. Use :func:`~optuna.trial.Trial.suggest_float` instead.\n",
            "  momentum = trial.suggest_uniform(\"momentum\", 0.0, 0.99)\n",
            "WARNING:tensorboardX.x2num:NaN or Inf found in input tensor.\n",
            "WARNING:tensorboardX.x2num:NaN or Inf found in input tensor.\n",
            "WARNING:tensorboardX.x2num:NaN or Inf found in input tensor.\n",
            "WARNING:tensorboardX.x2num:NaN or Inf found in input tensor.\n",
            "WARNING:tensorboardX.x2num:NaN or Inf found in input tensor.\n",
            "WARNING:tensorboardX.x2num:NaN or Inf found in input tensor.\n"
          ]
        },
        {
          "name": "stdout",
          "output_type": "stream",
          "text": [
            "Epoch 1/131.. Train loss: nan.. Val loss: nan.. Train L1 norm: nan.. Val L1 norm: nan.. Train Linf norm: nan.. Val Linf norm: nan\n"
          ]
        },
        {
          "name": "stderr",
          "output_type": "stream",
          "text": [
            "WARNING:tensorboardX.x2num:NaN or Inf found in input tensor.\n",
            "WARNING:tensorboardX.x2num:NaN or Inf found in input tensor.\n",
            "WARNING:tensorboardX.x2num:NaN or Inf found in input tensor.\n",
            "WARNING:tensorboardX.x2num:NaN or Inf found in input tensor.\n",
            "WARNING:tensorboardX.x2num:NaN or Inf found in input tensor.\n",
            "WARNING:tensorboardX.x2num:NaN or Inf found in input tensor.\n"
          ]
        },
        {
          "name": "stdout",
          "output_type": "stream",
          "text": [
            "Epoch 2/131.. Train loss: nan.. Val loss: nan.. Train L1 norm: nan.. Val L1 norm: nan.. Train Linf norm: nan.. Val Linf norm: nan\n"
          ]
        },
        {
          "name": "stderr",
          "output_type": "stream",
          "text": [
            "WARNING:tensorboardX.x2num:NaN or Inf found in input tensor.\n",
            "WARNING:tensorboardX.x2num:NaN or Inf found in input tensor.\n",
            "WARNING:tensorboardX.x2num:NaN or Inf found in input tensor.\n",
            "WARNING:tensorboardX.x2num:NaN or Inf found in input tensor.\n",
            "WARNING:tensorboardX.x2num:NaN or Inf found in input tensor.\n",
            "WARNING:tensorboardX.x2num:NaN or Inf found in input tensor.\n"
          ]
        },
        {
          "name": "stdout",
          "output_type": "stream",
          "text": [
            "Epoch 3/131.. Train loss: nan.. Val loss: nan.. Train L1 norm: nan.. Val L1 norm: nan.. Train Linf norm: nan.. Val Linf norm: nan\n"
          ]
        },
        {
          "name": "stderr",
          "output_type": "stream",
          "text": [
            "WARNING:tensorboardX.x2num:NaN or Inf found in input tensor.\n",
            "WARNING:tensorboardX.x2num:NaN or Inf found in input tensor.\n",
            "WARNING:tensorboardX.x2num:NaN or Inf found in input tensor.\n",
            "WARNING:tensorboardX.x2num:NaN or Inf found in input tensor.\n",
            "WARNING:tensorboardX.x2num:NaN or Inf found in input tensor.\n",
            "WARNING:tensorboardX.x2num:NaN or Inf found in input tensor.\n"
          ]
        },
        {
          "name": "stdout",
          "output_type": "stream",
          "text": [
            "Epoch 4/131.. Train loss: nan.. Val loss: nan.. Train L1 norm: nan.. Val L1 norm: nan.. Train Linf norm: nan.. Val Linf norm: nan\n"
          ]
        },
        {
          "name": "stderr",
          "output_type": "stream",
          "text": [
            "WARNING:tensorboardX.x2num:NaN or Inf found in input tensor.\n",
            "WARNING:tensorboardX.x2num:NaN or Inf found in input tensor.\n",
            "WARNING:tensorboardX.x2num:NaN or Inf found in input tensor.\n",
            "WARNING:tensorboardX.x2num:NaN or Inf found in input tensor.\n",
            "WARNING:tensorboardX.x2num:NaN or Inf found in input tensor.\n",
            "WARNING:tensorboardX.x2num:NaN or Inf found in input tensor.\n"
          ]
        },
        {
          "name": "stdout",
          "output_type": "stream",
          "text": [
            "Epoch 5/131.. Train loss: nan.. Val loss: nan.. Train L1 norm: nan.. Val L1 norm: nan.. Train Linf norm: nan.. Val Linf norm: nan\n"
          ]
        },
        {
          "name": "stderr",
          "output_type": "stream",
          "text": [
            "WARNING:tensorboardX.x2num:NaN or Inf found in input tensor.\n",
            "WARNING:tensorboardX.x2num:NaN or Inf found in input tensor.\n",
            "WARNING:tensorboardX.x2num:NaN or Inf found in input tensor.\n",
            "WARNING:tensorboardX.x2num:NaN or Inf found in input tensor.\n",
            "WARNING:tensorboardX.x2num:NaN or Inf found in input tensor.\n",
            "WARNING:tensorboardX.x2num:NaN or Inf found in input tensor.\n"
          ]
        },
        {
          "name": "stdout",
          "output_type": "stream",
          "text": [
            "Epoch 6/131.. Train loss: nan.. Val loss: nan.. Train L1 norm: nan.. Val L1 norm: nan.. Train Linf norm: nan.. Val Linf norm: nan\n"
          ]
        },
        {
          "name": "stderr",
          "output_type": "stream",
          "text": [
            "WARNING:tensorboardX.x2num:NaN or Inf found in input tensor.\n",
            "WARNING:tensorboardX.x2num:NaN or Inf found in input tensor.\n",
            "WARNING:tensorboardX.x2num:NaN or Inf found in input tensor.\n",
            "WARNING:tensorboardX.x2num:NaN or Inf found in input tensor.\n",
            "WARNING:tensorboardX.x2num:NaN or Inf found in input tensor.\n",
            "WARNING:tensorboardX.x2num:NaN or Inf found in input tensor.\n"
          ]
        },
        {
          "name": "stdout",
          "output_type": "stream",
          "text": [
            "Epoch 7/131.. Train loss: nan.. Val loss: nan.. Train L1 norm: nan.. Val L1 norm: nan.. Train Linf norm: nan.. Val Linf norm: nan\n"
          ]
        },
        {
          "name": "stderr",
          "output_type": "stream",
          "text": [
            "WARNING:tensorboardX.x2num:NaN or Inf found in input tensor.\n",
            "WARNING:tensorboardX.x2num:NaN or Inf found in input tensor.\n",
            "WARNING:tensorboardX.x2num:NaN or Inf found in input tensor.\n",
            "WARNING:tensorboardX.x2num:NaN or Inf found in input tensor.\n",
            "WARNING:tensorboardX.x2num:NaN or Inf found in input tensor.\n",
            "WARNING:tensorboardX.x2num:NaN or Inf found in input tensor.\n"
          ]
        },
        {
          "name": "stdout",
          "output_type": "stream",
          "text": [
            "Epoch 8/131.. Train loss: nan.. Val loss: nan.. Train L1 norm: nan.. Val L1 norm: nan.. Train Linf norm: nan.. Val Linf norm: nan\n"
          ]
        },
        {
          "name": "stderr",
          "output_type": "stream",
          "text": [
            "WARNING:tensorboardX.x2num:NaN or Inf found in input tensor.\n",
            "WARNING:tensorboardX.x2num:NaN or Inf found in input tensor.\n",
            "WARNING:tensorboardX.x2num:NaN or Inf found in input tensor.\n",
            "WARNING:tensorboardX.x2num:NaN or Inf found in input tensor.\n",
            "WARNING:tensorboardX.x2num:NaN or Inf found in input tensor.\n",
            "WARNING:tensorboardX.x2num:NaN or Inf found in input tensor.\n"
          ]
        },
        {
          "name": "stdout",
          "output_type": "stream",
          "text": [
            "Epoch 9/131.. Train loss: nan.. Val loss: nan.. Train L1 norm: nan.. Val L1 norm: nan.. Train Linf norm: nan.. Val Linf norm: nan\n"
          ]
        },
        {
          "name": "stderr",
          "output_type": "stream",
          "text": [
            "WARNING:tensorboardX.x2num:NaN or Inf found in input tensor.\n",
            "WARNING:tensorboardX.x2num:NaN or Inf found in input tensor.\n",
            "WARNING:tensorboardX.x2num:NaN or Inf found in input tensor.\n",
            "WARNING:tensorboardX.x2num:NaN or Inf found in input tensor.\n",
            "WARNING:tensorboardX.x2num:NaN or Inf found in input tensor.\n",
            "WARNING:tensorboardX.x2num:NaN or Inf found in input tensor.\n"
          ]
        },
        {
          "name": "stdout",
          "output_type": "stream",
          "text": [
            "Epoch 10/131.. Train loss: nan.. Val loss: nan.. Train L1 norm: nan.. Val L1 norm: nan.. Train Linf norm: nan.. Val Linf norm: nan\n"
          ]
        },
        {
          "name": "stderr",
          "output_type": "stream",
          "text": [
            "WARNING:tensorboardX.x2num:NaN or Inf found in input tensor.\n",
            "WARNING:tensorboardX.x2num:NaN or Inf found in input tensor.\n",
            "WARNING:tensorboardX.x2num:NaN or Inf found in input tensor.\n",
            "WARNING:tensorboardX.x2num:NaN or Inf found in input tensor.\n",
            "WARNING:tensorboardX.x2num:NaN or Inf found in input tensor.\n",
            "WARNING:tensorboardX.x2num:NaN or Inf found in input tensor.\n"
          ]
        },
        {
          "name": "stdout",
          "output_type": "stream",
          "text": [
            "Epoch 11/131.. Train loss: nan.. Val loss: nan.. Train L1 norm: nan.. Val L1 norm: nan.. Train Linf norm: nan.. Val Linf norm: nan\n"
          ]
        },
        {
          "name": "stderr",
          "output_type": "stream",
          "text": [
            "WARNING:tensorboardX.x2num:NaN or Inf found in input tensor.\n",
            "WARNING:tensorboardX.x2num:NaN or Inf found in input tensor.\n",
            "WARNING:tensorboardX.x2num:NaN or Inf found in input tensor.\n",
            "WARNING:tensorboardX.x2num:NaN or Inf found in input tensor.\n",
            "WARNING:tensorboardX.x2num:NaN or Inf found in input tensor.\n",
            "WARNING:tensorboardX.x2num:NaN or Inf found in input tensor.\n"
          ]
        },
        {
          "name": "stdout",
          "output_type": "stream",
          "text": [
            "Epoch 12/131.. Train loss: nan.. Val loss: nan.. Train L1 norm: nan.. Val L1 norm: nan.. Train Linf norm: nan.. Val Linf norm: nan\n"
          ]
        },
        {
          "name": "stderr",
          "output_type": "stream",
          "text": [
            "WARNING:tensorboardX.x2num:NaN or Inf found in input tensor.\n",
            "WARNING:tensorboardX.x2num:NaN or Inf found in input tensor.\n",
            "WARNING:tensorboardX.x2num:NaN or Inf found in input tensor.\n",
            "WARNING:tensorboardX.x2num:NaN or Inf found in input tensor.\n",
            "WARNING:tensorboardX.x2num:NaN or Inf found in input tensor.\n",
            "WARNING:tensorboardX.x2num:NaN or Inf found in input tensor.\n"
          ]
        },
        {
          "name": "stdout",
          "output_type": "stream",
          "text": [
            "Epoch 13/131.. Train loss: nan.. Val loss: nan.. Train L1 norm: nan.. Val L1 norm: nan.. Train Linf norm: nan.. Val Linf norm: nan\n"
          ]
        },
        {
          "name": "stderr",
          "output_type": "stream",
          "text": [
            "WARNING:tensorboardX.x2num:NaN or Inf found in input tensor.\n",
            "WARNING:tensorboardX.x2num:NaN or Inf found in input tensor.\n",
            "WARNING:tensorboardX.x2num:NaN or Inf found in input tensor.\n",
            "WARNING:tensorboardX.x2num:NaN or Inf found in input tensor.\n",
            "WARNING:tensorboardX.x2num:NaN or Inf found in input tensor.\n",
            "WARNING:tensorboardX.x2num:NaN or Inf found in input tensor.\n"
          ]
        },
        {
          "name": "stdout",
          "output_type": "stream",
          "text": [
            "Epoch 14/131.. Train loss: nan.. Val loss: nan.. Train L1 norm: nan.. Val L1 norm: nan.. Train Linf norm: nan.. Val Linf norm: nan\n"
          ]
        },
        {
          "name": "stderr",
          "output_type": "stream",
          "text": [
            "WARNING:tensorboardX.x2num:NaN or Inf found in input tensor.\n",
            "WARNING:tensorboardX.x2num:NaN or Inf found in input tensor.\n",
            "WARNING:tensorboardX.x2num:NaN or Inf found in input tensor.\n",
            "WARNING:tensorboardX.x2num:NaN or Inf found in input tensor.\n",
            "WARNING:tensorboardX.x2num:NaN or Inf found in input tensor.\n",
            "WARNING:tensorboardX.x2num:NaN or Inf found in input tensor.\n"
          ]
        },
        {
          "name": "stdout",
          "output_type": "stream",
          "text": [
            "Epoch 15/131.. Train loss: nan.. Val loss: nan.. Train L1 norm: nan.. Val L1 norm: nan.. Train Linf norm: nan.. Val Linf norm: nan\n"
          ]
        },
        {
          "name": "stderr",
          "output_type": "stream",
          "text": [
            "WARNING:tensorboardX.x2num:NaN or Inf found in input tensor.\n",
            "WARNING:tensorboardX.x2num:NaN or Inf found in input tensor.\n",
            "WARNING:tensorboardX.x2num:NaN or Inf found in input tensor.\n",
            "WARNING:tensorboardX.x2num:NaN or Inf found in input tensor.\n",
            "WARNING:tensorboardX.x2num:NaN or Inf found in input tensor.\n",
            "WARNING:tensorboardX.x2num:NaN or Inf found in input tensor.\n"
          ]
        },
        {
          "name": "stdout",
          "output_type": "stream",
          "text": [
            "Epoch 16/131.. Train loss: nan.. Val loss: nan.. Train L1 norm: nan.. Val L1 norm: nan.. Train Linf norm: nan.. Val Linf norm: nan\n"
          ]
        },
        {
          "name": "stderr",
          "output_type": "stream",
          "text": [
            "WARNING:tensorboardX.x2num:NaN or Inf found in input tensor.\n",
            "WARNING:tensorboardX.x2num:NaN or Inf found in input tensor.\n",
            "WARNING:tensorboardX.x2num:NaN or Inf found in input tensor.\n",
            "WARNING:tensorboardX.x2num:NaN or Inf found in input tensor.\n",
            "WARNING:tensorboardX.x2num:NaN or Inf found in input tensor.\n",
            "WARNING:tensorboardX.x2num:NaN or Inf found in input tensor.\n"
          ]
        },
        {
          "name": "stdout",
          "output_type": "stream",
          "text": [
            "Epoch 17/131.. Train loss: nan.. Val loss: nan.. Train L1 norm: nan.. Val L1 norm: nan.. Train Linf norm: nan.. Val Linf norm: nan\n"
          ]
        },
        {
          "name": "stderr",
          "output_type": "stream",
          "text": [
            "WARNING:tensorboardX.x2num:NaN or Inf found in input tensor.\n",
            "WARNING:tensorboardX.x2num:NaN or Inf found in input tensor.\n",
            "WARNING:tensorboardX.x2num:NaN or Inf found in input tensor.\n",
            "WARNING:tensorboardX.x2num:NaN or Inf found in input tensor.\n",
            "WARNING:tensorboardX.x2num:NaN or Inf found in input tensor.\n",
            "WARNING:tensorboardX.x2num:NaN or Inf found in input tensor.\n"
          ]
        },
        {
          "name": "stdout",
          "output_type": "stream",
          "text": [
            "Epoch 18/131.. Train loss: nan.. Val loss: nan.. Train L1 norm: nan.. Val L1 norm: nan.. Train Linf norm: nan.. Val Linf norm: nan\n"
          ]
        },
        {
          "name": "stderr",
          "output_type": "stream",
          "text": [
            "WARNING:tensorboardX.x2num:NaN or Inf found in input tensor.\n",
            "WARNING:tensorboardX.x2num:NaN or Inf found in input tensor.\n",
            "WARNING:tensorboardX.x2num:NaN or Inf found in input tensor.\n",
            "WARNING:tensorboardX.x2num:NaN or Inf found in input tensor.\n",
            "WARNING:tensorboardX.x2num:NaN or Inf found in input tensor.\n",
            "WARNING:tensorboardX.x2num:NaN or Inf found in input tensor.\n"
          ]
        },
        {
          "name": "stdout",
          "output_type": "stream",
          "text": [
            "Epoch 19/131.. Train loss: nan.. Val loss: nan.. Train L1 norm: nan.. Val L1 norm: nan.. Train Linf norm: nan.. Val Linf norm: nan\n"
          ]
        },
        {
          "name": "stderr",
          "output_type": "stream",
          "text": [
            "WARNING:tensorboardX.x2num:NaN or Inf found in input tensor.\n",
            "WARNING:tensorboardX.x2num:NaN or Inf found in input tensor.\n",
            "WARNING:tensorboardX.x2num:NaN or Inf found in input tensor.\n",
            "WARNING:tensorboardX.x2num:NaN or Inf found in input tensor.\n",
            "WARNING:tensorboardX.x2num:NaN or Inf found in input tensor.\n",
            "WARNING:tensorboardX.x2num:NaN or Inf found in input tensor.\n"
          ]
        },
        {
          "name": "stdout",
          "output_type": "stream",
          "text": [
            "Epoch 20/131.. Train loss: nan.. Val loss: nan.. Train L1 norm: nan.. Val L1 norm: nan.. Train Linf norm: nan.. Val Linf norm: nan\n"
          ]
        },
        {
          "name": "stderr",
          "output_type": "stream",
          "text": [
            "WARNING:tensorboardX.x2num:NaN or Inf found in input tensor.\n",
            "WARNING:tensorboardX.x2num:NaN or Inf found in input tensor.\n",
            "WARNING:tensorboardX.x2num:NaN or Inf found in input tensor.\n",
            "WARNING:tensorboardX.x2num:NaN or Inf found in input tensor.\n",
            "WARNING:tensorboardX.x2num:NaN or Inf found in input tensor.\n",
            "WARNING:tensorboardX.x2num:NaN or Inf found in input tensor.\n"
          ]
        },
        {
          "name": "stdout",
          "output_type": "stream",
          "text": [
            "Epoch 21/131.. Train loss: nan.. Val loss: nan.. Train L1 norm: nan.. Val L1 norm: nan.. Train Linf norm: nan.. Val Linf norm: nan\n"
          ]
        },
        {
          "name": "stderr",
          "output_type": "stream",
          "text": [
            "WARNING:tensorboardX.x2num:NaN or Inf found in input tensor.\n",
            "WARNING:tensorboardX.x2num:NaN or Inf found in input tensor.\n",
            "WARNING:tensorboardX.x2num:NaN or Inf found in input tensor.\n",
            "WARNING:tensorboardX.x2num:NaN or Inf found in input tensor.\n",
            "WARNING:tensorboardX.x2num:NaN or Inf found in input tensor.\n",
            "WARNING:tensorboardX.x2num:NaN or Inf found in input tensor.\n"
          ]
        },
        {
          "name": "stdout",
          "output_type": "stream",
          "text": [
            "Epoch 22/131.. Train loss: nan.. Val loss: nan.. Train L1 norm: nan.. Val L1 norm: nan.. Train Linf norm: nan.. Val Linf norm: nan\n"
          ]
        },
        {
          "name": "stderr",
          "output_type": "stream",
          "text": [
            "WARNING:tensorboardX.x2num:NaN or Inf found in input tensor.\n",
            "WARNING:tensorboardX.x2num:NaN or Inf found in input tensor.\n",
            "WARNING:tensorboardX.x2num:NaN or Inf found in input tensor.\n",
            "WARNING:tensorboardX.x2num:NaN or Inf found in input tensor.\n",
            "WARNING:tensorboardX.x2num:NaN or Inf found in input tensor.\n",
            "WARNING:tensorboardX.x2num:NaN or Inf found in input tensor.\n"
          ]
        },
        {
          "name": "stdout",
          "output_type": "stream",
          "text": [
            "Epoch 23/131.. Train loss: nan.. Val loss: nan.. Train L1 norm: nan.. Val L1 norm: nan.. Train Linf norm: nan.. Val Linf norm: nan\n"
          ]
        },
        {
          "name": "stderr",
          "output_type": "stream",
          "text": [
            "WARNING:tensorboardX.x2num:NaN or Inf found in input tensor.\n",
            "WARNING:tensorboardX.x2num:NaN or Inf found in input tensor.\n",
            "WARNING:tensorboardX.x2num:NaN or Inf found in input tensor.\n",
            "WARNING:tensorboardX.x2num:NaN or Inf found in input tensor.\n",
            "WARNING:tensorboardX.x2num:NaN or Inf found in input tensor.\n",
            "WARNING:tensorboardX.x2num:NaN or Inf found in input tensor.\n"
          ]
        },
        {
          "name": "stdout",
          "output_type": "stream",
          "text": [
            "Epoch 24/131.. Train loss: nan.. Val loss: nan.. Train L1 norm: nan.. Val L1 norm: nan.. Train Linf norm: nan.. Val Linf norm: nan\n"
          ]
        },
        {
          "name": "stderr",
          "output_type": "stream",
          "text": [
            "WARNING:tensorboardX.x2num:NaN or Inf found in input tensor.\n",
            "WARNING:tensorboardX.x2num:NaN or Inf found in input tensor.\n",
            "WARNING:tensorboardX.x2num:NaN or Inf found in input tensor.\n",
            "WARNING:tensorboardX.x2num:NaN or Inf found in input tensor.\n",
            "WARNING:tensorboardX.x2num:NaN or Inf found in input tensor.\n",
            "WARNING:tensorboardX.x2num:NaN or Inf found in input tensor.\n"
          ]
        },
        {
          "name": "stdout",
          "output_type": "stream",
          "text": [
            "Epoch 25/131.. Train loss: nan.. Val loss: nan.. Train L1 norm: nan.. Val L1 norm: nan.. Train Linf norm: nan.. Val Linf norm: nan\n"
          ]
        },
        {
          "name": "stderr",
          "output_type": "stream",
          "text": [
            "WARNING:tensorboardX.x2num:NaN or Inf found in input tensor.\n",
            "WARNING:tensorboardX.x2num:NaN or Inf found in input tensor.\n",
            "WARNING:tensorboardX.x2num:NaN or Inf found in input tensor.\n",
            "WARNING:tensorboardX.x2num:NaN or Inf found in input tensor.\n",
            "WARNING:tensorboardX.x2num:NaN or Inf found in input tensor.\n",
            "WARNING:tensorboardX.x2num:NaN or Inf found in input tensor.\n"
          ]
        },
        {
          "name": "stdout",
          "output_type": "stream",
          "text": [
            "Epoch 26/131.. Train loss: nan.. Val loss: nan.. Train L1 norm: nan.. Val L1 norm: nan.. Train Linf norm: nan.. Val Linf norm: nan\n"
          ]
        },
        {
          "name": "stderr",
          "output_type": "stream",
          "text": [
            "WARNING:tensorboardX.x2num:NaN or Inf found in input tensor.\n",
            "WARNING:tensorboardX.x2num:NaN or Inf found in input tensor.\n",
            "WARNING:tensorboardX.x2num:NaN or Inf found in input tensor.\n",
            "WARNING:tensorboardX.x2num:NaN or Inf found in input tensor.\n",
            "WARNING:tensorboardX.x2num:NaN or Inf found in input tensor.\n",
            "WARNING:tensorboardX.x2num:NaN or Inf found in input tensor.\n"
          ]
        },
        {
          "name": "stdout",
          "output_type": "stream",
          "text": [
            "Epoch 27/131.. Train loss: nan.. Val loss: nan.. Train L1 norm: nan.. Val L1 norm: nan.. Train Linf norm: nan.. Val Linf norm: nan\n"
          ]
        },
        {
          "name": "stderr",
          "output_type": "stream",
          "text": [
            "WARNING:tensorboardX.x2num:NaN or Inf found in input tensor.\n",
            "WARNING:tensorboardX.x2num:NaN or Inf found in input tensor.\n",
            "WARNING:tensorboardX.x2num:NaN or Inf found in input tensor.\n",
            "WARNING:tensorboardX.x2num:NaN or Inf found in input tensor.\n",
            "WARNING:tensorboardX.x2num:NaN or Inf found in input tensor.\n",
            "WARNING:tensorboardX.x2num:NaN or Inf found in input tensor.\n"
          ]
        },
        {
          "name": "stdout",
          "output_type": "stream",
          "text": [
            "Epoch 28/131.. Train loss: nan.. Val loss: nan.. Train L1 norm: nan.. Val L1 norm: nan.. Train Linf norm: nan.. Val Linf norm: nan\n"
          ]
        },
        {
          "name": "stderr",
          "output_type": "stream",
          "text": [
            "WARNING:tensorboardX.x2num:NaN or Inf found in input tensor.\n",
            "WARNING:tensorboardX.x2num:NaN or Inf found in input tensor.\n",
            "WARNING:tensorboardX.x2num:NaN or Inf found in input tensor.\n",
            "WARNING:tensorboardX.x2num:NaN or Inf found in input tensor.\n",
            "WARNING:tensorboardX.x2num:NaN or Inf found in input tensor.\n",
            "WARNING:tensorboardX.x2num:NaN or Inf found in input tensor.\n"
          ]
        },
        {
          "name": "stdout",
          "output_type": "stream",
          "text": [
            "Epoch 29/131.. Train loss: nan.. Val loss: nan.. Train L1 norm: nan.. Val L1 norm: nan.. Train Linf norm: nan.. Val Linf norm: nan\n"
          ]
        },
        {
          "name": "stderr",
          "output_type": "stream",
          "text": [
            "WARNING:tensorboardX.x2num:NaN or Inf found in input tensor.\n",
            "WARNING:tensorboardX.x2num:NaN or Inf found in input tensor.\n",
            "WARNING:tensorboardX.x2num:NaN or Inf found in input tensor.\n",
            "WARNING:tensorboardX.x2num:NaN or Inf found in input tensor.\n",
            "WARNING:tensorboardX.x2num:NaN or Inf found in input tensor.\n",
            "WARNING:tensorboardX.x2num:NaN or Inf found in input tensor.\n"
          ]
        },
        {
          "name": "stdout",
          "output_type": "stream",
          "text": [
            "Epoch 30/131.. Train loss: nan.. Val loss: nan.. Train L1 norm: nan.. Val L1 norm: nan.. Train Linf norm: nan.. Val Linf norm: nan\n"
          ]
        },
        {
          "name": "stderr",
          "output_type": "stream",
          "text": [
            "WARNING:tensorboardX.x2num:NaN or Inf found in input tensor.\n",
            "WARNING:tensorboardX.x2num:NaN or Inf found in input tensor.\n",
            "WARNING:tensorboardX.x2num:NaN or Inf found in input tensor.\n",
            "WARNING:tensorboardX.x2num:NaN or Inf found in input tensor.\n",
            "WARNING:tensorboardX.x2num:NaN or Inf found in input tensor.\n",
            "WARNING:tensorboardX.x2num:NaN or Inf found in input tensor.\n"
          ]
        },
        {
          "name": "stdout",
          "output_type": "stream",
          "text": [
            "Epoch 31/131.. Train loss: nan.. Val loss: nan.. Train L1 norm: nan.. Val L1 norm: nan.. Train Linf norm: nan.. Val Linf norm: nan\n"
          ]
        },
        {
          "name": "stderr",
          "output_type": "stream",
          "text": [
            "WARNING:tensorboardX.x2num:NaN or Inf found in input tensor.\n",
            "WARNING:tensorboardX.x2num:NaN or Inf found in input tensor.\n",
            "WARNING:tensorboardX.x2num:NaN or Inf found in input tensor.\n",
            "WARNING:tensorboardX.x2num:NaN or Inf found in input tensor.\n",
            "WARNING:tensorboardX.x2num:NaN or Inf found in input tensor.\n",
            "WARNING:tensorboardX.x2num:NaN or Inf found in input tensor.\n"
          ]
        },
        {
          "name": "stdout",
          "output_type": "stream",
          "text": [
            "Epoch 32/131.. Train loss: nan.. Val loss: nan.. Train L1 norm: nan.. Val L1 norm: nan.. Train Linf norm: nan.. Val Linf norm: nan\n"
          ]
        },
        {
          "name": "stderr",
          "output_type": "stream",
          "text": [
            "WARNING:tensorboardX.x2num:NaN or Inf found in input tensor.\n",
            "WARNING:tensorboardX.x2num:NaN or Inf found in input tensor.\n",
            "WARNING:tensorboardX.x2num:NaN or Inf found in input tensor.\n",
            "WARNING:tensorboardX.x2num:NaN or Inf found in input tensor.\n",
            "WARNING:tensorboardX.x2num:NaN or Inf found in input tensor.\n",
            "WARNING:tensorboardX.x2num:NaN or Inf found in input tensor.\n"
          ]
        },
        {
          "name": "stdout",
          "output_type": "stream",
          "text": [
            "Epoch 33/131.. Train loss: nan.. Val loss: nan.. Train L1 norm: nan.. Val L1 norm: nan.. Train Linf norm: nan.. Val Linf norm: nan\n"
          ]
        },
        {
          "name": "stderr",
          "output_type": "stream",
          "text": [
            "WARNING:tensorboardX.x2num:NaN or Inf found in input tensor.\n",
            "WARNING:tensorboardX.x2num:NaN or Inf found in input tensor.\n",
            "WARNING:tensorboardX.x2num:NaN or Inf found in input tensor.\n",
            "WARNING:tensorboardX.x2num:NaN or Inf found in input tensor.\n",
            "WARNING:tensorboardX.x2num:NaN or Inf found in input tensor.\n",
            "WARNING:tensorboardX.x2num:NaN or Inf found in input tensor.\n"
          ]
        },
        {
          "name": "stdout",
          "output_type": "stream",
          "text": [
            "Epoch 34/131.. Train loss: nan.. Val loss: nan.. Train L1 norm: nan.. Val L1 norm: nan.. Train Linf norm: nan.. Val Linf norm: nan\n"
          ]
        },
        {
          "name": "stderr",
          "output_type": "stream",
          "text": [
            "WARNING:tensorboardX.x2num:NaN or Inf found in input tensor.\n",
            "WARNING:tensorboardX.x2num:NaN or Inf found in input tensor.\n",
            "WARNING:tensorboardX.x2num:NaN or Inf found in input tensor.\n",
            "WARNING:tensorboardX.x2num:NaN or Inf found in input tensor.\n",
            "WARNING:tensorboardX.x2num:NaN or Inf found in input tensor.\n",
            "WARNING:tensorboardX.x2num:NaN or Inf found in input tensor.\n"
          ]
        },
        {
          "name": "stdout",
          "output_type": "stream",
          "text": [
            "Epoch 35/131.. Train loss: nan.. Val loss: nan.. Train L1 norm: nan.. Val L1 norm: nan.. Train Linf norm: nan.. Val Linf norm: nan\n"
          ]
        },
        {
          "name": "stderr",
          "output_type": "stream",
          "text": [
            "WARNING:tensorboardX.x2num:NaN or Inf found in input tensor.\n",
            "WARNING:tensorboardX.x2num:NaN or Inf found in input tensor.\n",
            "WARNING:tensorboardX.x2num:NaN or Inf found in input tensor.\n",
            "WARNING:tensorboardX.x2num:NaN or Inf found in input tensor.\n",
            "WARNING:tensorboardX.x2num:NaN or Inf found in input tensor.\n",
            "WARNING:tensorboardX.x2num:NaN or Inf found in input tensor.\n"
          ]
        },
        {
          "name": "stdout",
          "output_type": "stream",
          "text": [
            "Epoch 36/131.. Train loss: nan.. Val loss: nan.. Train L1 norm: nan.. Val L1 norm: nan.. Train Linf norm: nan.. Val Linf norm: nan\n"
          ]
        },
        {
          "name": "stderr",
          "output_type": "stream",
          "text": [
            "WARNING:tensorboardX.x2num:NaN or Inf found in input tensor.\n",
            "WARNING:tensorboardX.x2num:NaN or Inf found in input tensor.\n",
            "WARNING:tensorboardX.x2num:NaN or Inf found in input tensor.\n",
            "WARNING:tensorboardX.x2num:NaN or Inf found in input tensor.\n",
            "WARNING:tensorboardX.x2num:NaN or Inf found in input tensor.\n",
            "WARNING:tensorboardX.x2num:NaN or Inf found in input tensor.\n"
          ]
        },
        {
          "name": "stdout",
          "output_type": "stream",
          "text": [
            "Epoch 37/131.. Train loss: nan.. Val loss: nan.. Train L1 norm: nan.. Val L1 norm: nan.. Train Linf norm: nan.. Val Linf norm: nan\n"
          ]
        },
        {
          "name": "stderr",
          "output_type": "stream",
          "text": [
            "WARNING:tensorboardX.x2num:NaN or Inf found in input tensor.\n",
            "WARNING:tensorboardX.x2num:NaN or Inf found in input tensor.\n",
            "WARNING:tensorboardX.x2num:NaN or Inf found in input tensor.\n",
            "WARNING:tensorboardX.x2num:NaN or Inf found in input tensor.\n",
            "WARNING:tensorboardX.x2num:NaN or Inf found in input tensor.\n",
            "WARNING:tensorboardX.x2num:NaN or Inf found in input tensor.\n"
          ]
        },
        {
          "name": "stdout",
          "output_type": "stream",
          "text": [
            "Epoch 38/131.. Train loss: nan.. Val loss: nan.. Train L1 norm: nan.. Val L1 norm: nan.. Train Linf norm: nan.. Val Linf norm: nan\n"
          ]
        },
        {
          "name": "stderr",
          "output_type": "stream",
          "text": [
            "WARNING:tensorboardX.x2num:NaN or Inf found in input tensor.\n",
            "WARNING:tensorboardX.x2num:NaN or Inf found in input tensor.\n",
            "WARNING:tensorboardX.x2num:NaN or Inf found in input tensor.\n",
            "WARNING:tensorboardX.x2num:NaN or Inf found in input tensor.\n",
            "WARNING:tensorboardX.x2num:NaN or Inf found in input tensor.\n",
            "WARNING:tensorboardX.x2num:NaN or Inf found in input tensor.\n"
          ]
        },
        {
          "name": "stdout",
          "output_type": "stream",
          "text": [
            "Epoch 39/131.. Train loss: nan.. Val loss: nan.. Train L1 norm: nan.. Val L1 norm: nan.. Train Linf norm: nan.. Val Linf norm: nan\n"
          ]
        },
        {
          "name": "stderr",
          "output_type": "stream",
          "text": [
            "WARNING:tensorboardX.x2num:NaN or Inf found in input tensor.\n",
            "WARNING:tensorboardX.x2num:NaN or Inf found in input tensor.\n",
            "WARNING:tensorboardX.x2num:NaN or Inf found in input tensor.\n",
            "WARNING:tensorboardX.x2num:NaN or Inf found in input tensor.\n",
            "WARNING:tensorboardX.x2num:NaN or Inf found in input tensor.\n",
            "WARNING:tensorboardX.x2num:NaN or Inf found in input tensor.\n"
          ]
        },
        {
          "name": "stdout",
          "output_type": "stream",
          "text": [
            "Epoch 40/131.. Train loss: nan.. Val loss: nan.. Train L1 norm: nan.. Val L1 norm: nan.. Train Linf norm: nan.. Val Linf norm: nan\n"
          ]
        },
        {
          "name": "stderr",
          "output_type": "stream",
          "text": [
            "WARNING:tensorboardX.x2num:NaN or Inf found in input tensor.\n",
            "WARNING:tensorboardX.x2num:NaN or Inf found in input tensor.\n",
            "WARNING:tensorboardX.x2num:NaN or Inf found in input tensor.\n",
            "WARNING:tensorboardX.x2num:NaN or Inf found in input tensor.\n",
            "WARNING:tensorboardX.x2num:NaN or Inf found in input tensor.\n",
            "WARNING:tensorboardX.x2num:NaN or Inf found in input tensor.\n"
          ]
        },
        {
          "name": "stdout",
          "output_type": "stream",
          "text": [
            "Epoch 41/131.. Train loss: nan.. Val loss: nan.. Train L1 norm: nan.. Val L1 norm: nan.. Train Linf norm: nan.. Val Linf norm: nan\n"
          ]
        },
        {
          "name": "stderr",
          "output_type": "stream",
          "text": [
            "WARNING:tensorboardX.x2num:NaN or Inf found in input tensor.\n",
            "WARNING:tensorboardX.x2num:NaN or Inf found in input tensor.\n",
            "WARNING:tensorboardX.x2num:NaN or Inf found in input tensor.\n",
            "WARNING:tensorboardX.x2num:NaN or Inf found in input tensor.\n",
            "WARNING:tensorboardX.x2num:NaN or Inf found in input tensor.\n",
            "WARNING:tensorboardX.x2num:NaN or Inf found in input tensor.\n"
          ]
        },
        {
          "name": "stdout",
          "output_type": "stream",
          "text": [
            "Epoch 42/131.. Train loss: nan.. Val loss: nan.. Train L1 norm: nan.. Val L1 norm: nan.. Train Linf norm: nan.. Val Linf norm: nan\n"
          ]
        },
        {
          "name": "stderr",
          "output_type": "stream",
          "text": [
            "WARNING:tensorboardX.x2num:NaN or Inf found in input tensor.\n",
            "WARNING:tensorboardX.x2num:NaN or Inf found in input tensor.\n",
            "WARNING:tensorboardX.x2num:NaN or Inf found in input tensor.\n",
            "WARNING:tensorboardX.x2num:NaN or Inf found in input tensor.\n",
            "WARNING:tensorboardX.x2num:NaN or Inf found in input tensor.\n",
            "WARNING:tensorboardX.x2num:NaN or Inf found in input tensor.\n"
          ]
        },
        {
          "name": "stdout",
          "output_type": "stream",
          "text": [
            "Epoch 43/131.. Train loss: nan.. Val loss: nan.. Train L1 norm: nan.. Val L1 norm: nan.. Train Linf norm: nan.. Val Linf norm: nan\n"
          ]
        },
        {
          "name": "stderr",
          "output_type": "stream",
          "text": [
            "WARNING:tensorboardX.x2num:NaN or Inf found in input tensor.\n",
            "WARNING:tensorboardX.x2num:NaN or Inf found in input tensor.\n",
            "WARNING:tensorboardX.x2num:NaN or Inf found in input tensor.\n",
            "WARNING:tensorboardX.x2num:NaN or Inf found in input tensor.\n",
            "WARNING:tensorboardX.x2num:NaN or Inf found in input tensor.\n",
            "WARNING:tensorboardX.x2num:NaN or Inf found in input tensor.\n"
          ]
        },
        {
          "name": "stdout",
          "output_type": "stream",
          "text": [
            "Epoch 44/131.. Train loss: nan.. Val loss: nan.. Train L1 norm: nan.. Val L1 norm: nan.. Train Linf norm: nan.. Val Linf norm: nan\n"
          ]
        },
        {
          "name": "stderr",
          "output_type": "stream",
          "text": [
            "WARNING:tensorboardX.x2num:NaN or Inf found in input tensor.\n",
            "WARNING:tensorboardX.x2num:NaN or Inf found in input tensor.\n",
            "WARNING:tensorboardX.x2num:NaN or Inf found in input tensor.\n",
            "WARNING:tensorboardX.x2num:NaN or Inf found in input tensor.\n",
            "WARNING:tensorboardX.x2num:NaN or Inf found in input tensor.\n",
            "WARNING:tensorboardX.x2num:NaN or Inf found in input tensor.\n"
          ]
        },
        {
          "name": "stdout",
          "output_type": "stream",
          "text": [
            "Epoch 45/131.. Train loss: nan.. Val loss: nan.. Train L1 norm: nan.. Val L1 norm: nan.. Train Linf norm: nan.. Val Linf norm: nan\n"
          ]
        },
        {
          "name": "stderr",
          "output_type": "stream",
          "text": [
            "WARNING:tensorboardX.x2num:NaN or Inf found in input tensor.\n",
            "WARNING:tensorboardX.x2num:NaN or Inf found in input tensor.\n",
            "WARNING:tensorboardX.x2num:NaN or Inf found in input tensor.\n",
            "WARNING:tensorboardX.x2num:NaN or Inf found in input tensor.\n",
            "WARNING:tensorboardX.x2num:NaN or Inf found in input tensor.\n",
            "WARNING:tensorboardX.x2num:NaN or Inf found in input tensor.\n"
          ]
        },
        {
          "name": "stdout",
          "output_type": "stream",
          "text": [
            "Epoch 46/131.. Train loss: nan.. Val loss: nan.. Train L1 norm: nan.. Val L1 norm: nan.. Train Linf norm: nan.. Val Linf norm: nan\n"
          ]
        },
        {
          "name": "stderr",
          "output_type": "stream",
          "text": [
            "WARNING:tensorboardX.x2num:NaN or Inf found in input tensor.\n",
            "WARNING:tensorboardX.x2num:NaN or Inf found in input tensor.\n",
            "WARNING:tensorboardX.x2num:NaN or Inf found in input tensor.\n",
            "WARNING:tensorboardX.x2num:NaN or Inf found in input tensor.\n",
            "WARNING:tensorboardX.x2num:NaN or Inf found in input tensor.\n",
            "WARNING:tensorboardX.x2num:NaN or Inf found in input tensor.\n"
          ]
        },
        {
          "name": "stdout",
          "output_type": "stream",
          "text": [
            "Epoch 47/131.. Train loss: nan.. Val loss: nan.. Train L1 norm: nan.. Val L1 norm: nan.. Train Linf norm: nan.. Val Linf norm: nan\n"
          ]
        },
        {
          "name": "stderr",
          "output_type": "stream",
          "text": [
            "WARNING:tensorboardX.x2num:NaN or Inf found in input tensor.\n",
            "WARNING:tensorboardX.x2num:NaN or Inf found in input tensor.\n",
            "WARNING:tensorboardX.x2num:NaN or Inf found in input tensor.\n",
            "WARNING:tensorboardX.x2num:NaN or Inf found in input tensor.\n",
            "WARNING:tensorboardX.x2num:NaN or Inf found in input tensor.\n",
            "WARNING:tensorboardX.x2num:NaN or Inf found in input tensor.\n"
          ]
        },
        {
          "name": "stdout",
          "output_type": "stream",
          "text": [
            "Epoch 48/131.. Train loss: nan.. Val loss: nan.. Train L1 norm: nan.. Val L1 norm: nan.. Train Linf norm: nan.. Val Linf norm: nan\n"
          ]
        },
        {
          "name": "stderr",
          "output_type": "stream",
          "text": [
            "WARNING:tensorboardX.x2num:NaN or Inf found in input tensor.\n",
            "WARNING:tensorboardX.x2num:NaN or Inf found in input tensor.\n",
            "WARNING:tensorboardX.x2num:NaN or Inf found in input tensor.\n",
            "WARNING:tensorboardX.x2num:NaN or Inf found in input tensor.\n",
            "WARNING:tensorboardX.x2num:NaN or Inf found in input tensor.\n",
            "WARNING:tensorboardX.x2num:NaN or Inf found in input tensor.\n"
          ]
        },
        {
          "name": "stdout",
          "output_type": "stream",
          "text": [
            "Epoch 49/131.. Train loss: nan.. Val loss: nan.. Train L1 norm: nan.. Val L1 norm: nan.. Train Linf norm: nan.. Val Linf norm: nan\n"
          ]
        },
        {
          "name": "stderr",
          "output_type": "stream",
          "text": [
            "WARNING:tensorboardX.x2num:NaN or Inf found in input tensor.\n",
            "WARNING:tensorboardX.x2num:NaN or Inf found in input tensor.\n",
            "WARNING:tensorboardX.x2num:NaN or Inf found in input tensor.\n",
            "WARNING:tensorboardX.x2num:NaN or Inf found in input tensor.\n",
            "WARNING:tensorboardX.x2num:NaN or Inf found in input tensor.\n",
            "WARNING:tensorboardX.x2num:NaN or Inf found in input tensor.\n"
          ]
        },
        {
          "name": "stdout",
          "output_type": "stream",
          "text": [
            "Epoch 50/131.. Train loss: nan.. Val loss: nan.. Train L1 norm: nan.. Val L1 norm: nan.. Train Linf norm: nan.. Val Linf norm: nan\n"
          ]
        },
        {
          "name": "stderr",
          "output_type": "stream",
          "text": [
            "WARNING:tensorboardX.x2num:NaN or Inf found in input tensor.\n",
            "WARNING:tensorboardX.x2num:NaN or Inf found in input tensor.\n",
            "WARNING:tensorboardX.x2num:NaN or Inf found in input tensor.\n",
            "WARNING:tensorboardX.x2num:NaN or Inf found in input tensor.\n",
            "WARNING:tensorboardX.x2num:NaN or Inf found in input tensor.\n",
            "WARNING:tensorboardX.x2num:NaN or Inf found in input tensor.\n"
          ]
        },
        {
          "name": "stdout",
          "output_type": "stream",
          "text": [
            "Epoch 51/131.. Train loss: nan.. Val loss: nan.. Train L1 norm: nan.. Val L1 norm: nan.. Train Linf norm: nan.. Val Linf norm: nan\n"
          ]
        },
        {
          "name": "stderr",
          "output_type": "stream",
          "text": [
            "WARNING:tensorboardX.x2num:NaN or Inf found in input tensor.\n",
            "WARNING:tensorboardX.x2num:NaN or Inf found in input tensor.\n",
            "WARNING:tensorboardX.x2num:NaN or Inf found in input tensor.\n",
            "WARNING:tensorboardX.x2num:NaN or Inf found in input tensor.\n",
            "WARNING:tensorboardX.x2num:NaN or Inf found in input tensor.\n",
            "WARNING:tensorboardX.x2num:NaN or Inf found in input tensor.\n"
          ]
        },
        {
          "name": "stdout",
          "output_type": "stream",
          "text": [
            "Epoch 52/131.. Train loss: nan.. Val loss: nan.. Train L1 norm: nan.. Val L1 norm: nan.. Train Linf norm: nan.. Val Linf norm: nan\n"
          ]
        },
        {
          "name": "stderr",
          "output_type": "stream",
          "text": [
            "WARNING:tensorboardX.x2num:NaN or Inf found in input tensor.\n",
            "WARNING:tensorboardX.x2num:NaN or Inf found in input tensor.\n",
            "WARNING:tensorboardX.x2num:NaN or Inf found in input tensor.\n",
            "WARNING:tensorboardX.x2num:NaN or Inf found in input tensor.\n",
            "WARNING:tensorboardX.x2num:NaN or Inf found in input tensor.\n",
            "WARNING:tensorboardX.x2num:NaN or Inf found in input tensor.\n"
          ]
        },
        {
          "name": "stdout",
          "output_type": "stream",
          "text": [
            "Epoch 53/131.. Train loss: nan.. Val loss: nan.. Train L1 norm: nan.. Val L1 norm: nan.. Train Linf norm: nan.. Val Linf norm: nan\n"
          ]
        },
        {
          "name": "stderr",
          "output_type": "stream",
          "text": [
            "WARNING:tensorboardX.x2num:NaN or Inf found in input tensor.\n",
            "WARNING:tensorboardX.x2num:NaN or Inf found in input tensor.\n",
            "WARNING:tensorboardX.x2num:NaN or Inf found in input tensor.\n",
            "WARNING:tensorboardX.x2num:NaN or Inf found in input tensor.\n",
            "WARNING:tensorboardX.x2num:NaN or Inf found in input tensor.\n",
            "WARNING:tensorboardX.x2num:NaN or Inf found in input tensor.\n"
          ]
        },
        {
          "name": "stdout",
          "output_type": "stream",
          "text": [
            "Epoch 54/131.. Train loss: nan.. Val loss: nan.. Train L1 norm: nan.. Val L1 norm: nan.. Train Linf norm: nan.. Val Linf norm: nan\n"
          ]
        },
        {
          "name": "stderr",
          "output_type": "stream",
          "text": [
            "WARNING:tensorboardX.x2num:NaN or Inf found in input tensor.\n",
            "WARNING:tensorboardX.x2num:NaN or Inf found in input tensor.\n",
            "WARNING:tensorboardX.x2num:NaN or Inf found in input tensor.\n",
            "WARNING:tensorboardX.x2num:NaN or Inf found in input tensor.\n",
            "WARNING:tensorboardX.x2num:NaN or Inf found in input tensor.\n",
            "WARNING:tensorboardX.x2num:NaN or Inf found in input tensor.\n"
          ]
        },
        {
          "name": "stdout",
          "output_type": "stream",
          "text": [
            "Epoch 55/131.. Train loss: nan.. Val loss: nan.. Train L1 norm: nan.. Val L1 norm: nan.. Train Linf norm: nan.. Val Linf norm: nan\n"
          ]
        },
        {
          "name": "stderr",
          "output_type": "stream",
          "text": [
            "WARNING:tensorboardX.x2num:NaN or Inf found in input tensor.\n",
            "WARNING:tensorboardX.x2num:NaN or Inf found in input tensor.\n",
            "WARNING:tensorboardX.x2num:NaN or Inf found in input tensor.\n",
            "WARNING:tensorboardX.x2num:NaN or Inf found in input tensor.\n",
            "WARNING:tensorboardX.x2num:NaN or Inf found in input tensor.\n",
            "WARNING:tensorboardX.x2num:NaN or Inf found in input tensor.\n"
          ]
        },
        {
          "name": "stdout",
          "output_type": "stream",
          "text": [
            "Epoch 56/131.. Train loss: nan.. Val loss: nan.. Train L1 norm: nan.. Val L1 norm: nan.. Train Linf norm: nan.. Val Linf norm: nan\n"
          ]
        },
        {
          "name": "stderr",
          "output_type": "stream",
          "text": [
            "WARNING:tensorboardX.x2num:NaN or Inf found in input tensor.\n",
            "WARNING:tensorboardX.x2num:NaN or Inf found in input tensor.\n",
            "WARNING:tensorboardX.x2num:NaN or Inf found in input tensor.\n",
            "WARNING:tensorboardX.x2num:NaN or Inf found in input tensor.\n",
            "WARNING:tensorboardX.x2num:NaN or Inf found in input tensor.\n",
            "WARNING:tensorboardX.x2num:NaN or Inf found in input tensor.\n"
          ]
        },
        {
          "name": "stdout",
          "output_type": "stream",
          "text": [
            "Epoch 57/131.. Train loss: nan.. Val loss: nan.. Train L1 norm: nan.. Val L1 norm: nan.. Train Linf norm: nan.. Val Linf norm: nan\n"
          ]
        },
        {
          "name": "stderr",
          "output_type": "stream",
          "text": [
            "WARNING:tensorboardX.x2num:NaN or Inf found in input tensor.\n",
            "WARNING:tensorboardX.x2num:NaN or Inf found in input tensor.\n",
            "WARNING:tensorboardX.x2num:NaN or Inf found in input tensor.\n",
            "WARNING:tensorboardX.x2num:NaN or Inf found in input tensor.\n",
            "WARNING:tensorboardX.x2num:NaN or Inf found in input tensor.\n",
            "WARNING:tensorboardX.x2num:NaN or Inf found in input tensor.\n"
          ]
        },
        {
          "name": "stdout",
          "output_type": "stream",
          "text": [
            "Epoch 58/131.. Train loss: nan.. Val loss: nan.. Train L1 norm: nan.. Val L1 norm: nan.. Train Linf norm: nan.. Val Linf norm: nan\n"
          ]
        },
        {
          "name": "stderr",
          "output_type": "stream",
          "text": [
            "WARNING:tensorboardX.x2num:NaN or Inf found in input tensor.\n",
            "WARNING:tensorboardX.x2num:NaN or Inf found in input tensor.\n",
            "WARNING:tensorboardX.x2num:NaN or Inf found in input tensor.\n",
            "WARNING:tensorboardX.x2num:NaN or Inf found in input tensor.\n",
            "WARNING:tensorboardX.x2num:NaN or Inf found in input tensor.\n",
            "WARNING:tensorboardX.x2num:NaN or Inf found in input tensor.\n"
          ]
        },
        {
          "name": "stdout",
          "output_type": "stream",
          "text": [
            "Epoch 59/131.. Train loss: nan.. Val loss: nan.. Train L1 norm: nan.. Val L1 norm: nan.. Train Linf norm: nan.. Val Linf norm: nan\n"
          ]
        },
        {
          "name": "stderr",
          "output_type": "stream",
          "text": [
            "WARNING:tensorboardX.x2num:NaN or Inf found in input tensor.\n",
            "WARNING:tensorboardX.x2num:NaN or Inf found in input tensor.\n",
            "WARNING:tensorboardX.x2num:NaN or Inf found in input tensor.\n",
            "WARNING:tensorboardX.x2num:NaN or Inf found in input tensor.\n",
            "WARNING:tensorboardX.x2num:NaN or Inf found in input tensor.\n",
            "WARNING:tensorboardX.x2num:NaN or Inf found in input tensor.\n"
          ]
        },
        {
          "name": "stdout",
          "output_type": "stream",
          "text": [
            "Epoch 60/131.. Train loss: nan.. Val loss: nan.. Train L1 norm: nan.. Val L1 norm: nan.. Train Linf norm: nan.. Val Linf norm: nan\n"
          ]
        },
        {
          "name": "stderr",
          "output_type": "stream",
          "text": [
            "WARNING:tensorboardX.x2num:NaN or Inf found in input tensor.\n",
            "WARNING:tensorboardX.x2num:NaN or Inf found in input tensor.\n",
            "WARNING:tensorboardX.x2num:NaN or Inf found in input tensor.\n",
            "WARNING:tensorboardX.x2num:NaN or Inf found in input tensor.\n",
            "WARNING:tensorboardX.x2num:NaN or Inf found in input tensor.\n",
            "WARNING:tensorboardX.x2num:NaN or Inf found in input tensor.\n"
          ]
        },
        {
          "name": "stdout",
          "output_type": "stream",
          "text": [
            "Epoch 61/131.. Train loss: nan.. Val loss: nan.. Train L1 norm: nan.. Val L1 norm: nan.. Train Linf norm: nan.. Val Linf norm: nan\n"
          ]
        },
        {
          "name": "stderr",
          "output_type": "stream",
          "text": [
            "WARNING:tensorboardX.x2num:NaN or Inf found in input tensor.\n",
            "WARNING:tensorboardX.x2num:NaN or Inf found in input tensor.\n",
            "WARNING:tensorboardX.x2num:NaN or Inf found in input tensor.\n",
            "WARNING:tensorboardX.x2num:NaN or Inf found in input tensor.\n",
            "WARNING:tensorboardX.x2num:NaN or Inf found in input tensor.\n",
            "WARNING:tensorboardX.x2num:NaN or Inf found in input tensor.\n"
          ]
        },
        {
          "name": "stdout",
          "output_type": "stream",
          "text": [
            "Epoch 62/131.. Train loss: nan.. Val loss: nan.. Train L1 norm: nan.. Val L1 norm: nan.. Train Linf norm: nan.. Val Linf norm: nan\n"
          ]
        },
        {
          "name": "stderr",
          "output_type": "stream",
          "text": [
            "WARNING:tensorboardX.x2num:NaN or Inf found in input tensor.\n",
            "WARNING:tensorboardX.x2num:NaN or Inf found in input tensor.\n",
            "WARNING:tensorboardX.x2num:NaN or Inf found in input tensor.\n",
            "WARNING:tensorboardX.x2num:NaN or Inf found in input tensor.\n",
            "WARNING:tensorboardX.x2num:NaN or Inf found in input tensor.\n",
            "WARNING:tensorboardX.x2num:NaN or Inf found in input tensor.\n"
          ]
        },
        {
          "name": "stdout",
          "output_type": "stream",
          "text": [
            "Epoch 63/131.. Train loss: nan.. Val loss: nan.. Train L1 norm: nan.. Val L1 norm: nan.. Train Linf norm: nan.. Val Linf norm: nan\n"
          ]
        },
        {
          "name": "stderr",
          "output_type": "stream",
          "text": [
            "WARNING:tensorboardX.x2num:NaN or Inf found in input tensor.\n",
            "WARNING:tensorboardX.x2num:NaN or Inf found in input tensor.\n",
            "WARNING:tensorboardX.x2num:NaN or Inf found in input tensor.\n",
            "WARNING:tensorboardX.x2num:NaN or Inf found in input tensor.\n",
            "WARNING:tensorboardX.x2num:NaN or Inf found in input tensor.\n",
            "WARNING:tensorboardX.x2num:NaN or Inf found in input tensor.\n"
          ]
        },
        {
          "name": "stdout",
          "output_type": "stream",
          "text": [
            "Epoch 64/131.. Train loss: nan.. Val loss: nan.. Train L1 norm: nan.. Val L1 norm: nan.. Train Linf norm: nan.. Val Linf norm: nan\n"
          ]
        },
        {
          "name": "stderr",
          "output_type": "stream",
          "text": [
            "WARNING:tensorboardX.x2num:NaN or Inf found in input tensor.\n",
            "WARNING:tensorboardX.x2num:NaN or Inf found in input tensor.\n",
            "WARNING:tensorboardX.x2num:NaN or Inf found in input tensor.\n",
            "WARNING:tensorboardX.x2num:NaN or Inf found in input tensor.\n",
            "WARNING:tensorboardX.x2num:NaN or Inf found in input tensor.\n",
            "WARNING:tensorboardX.x2num:NaN or Inf found in input tensor.\n"
          ]
        },
        {
          "name": "stdout",
          "output_type": "stream",
          "text": [
            "Epoch 65/131.. Train loss: nan.. Val loss: nan.. Train L1 norm: nan.. Val L1 norm: nan.. Train Linf norm: nan.. Val Linf norm: nan\n"
          ]
        },
        {
          "name": "stderr",
          "output_type": "stream",
          "text": [
            "WARNING:tensorboardX.x2num:NaN or Inf found in input tensor.\n",
            "WARNING:tensorboardX.x2num:NaN or Inf found in input tensor.\n",
            "WARNING:tensorboardX.x2num:NaN or Inf found in input tensor.\n",
            "WARNING:tensorboardX.x2num:NaN or Inf found in input tensor.\n",
            "WARNING:tensorboardX.x2num:NaN or Inf found in input tensor.\n",
            "WARNING:tensorboardX.x2num:NaN or Inf found in input tensor.\n"
          ]
        },
        {
          "name": "stdout",
          "output_type": "stream",
          "text": [
            "Epoch 66/131.. Train loss: nan.. Val loss: nan.. Train L1 norm: nan.. Val L1 norm: nan.. Train Linf norm: nan.. Val Linf norm: nan\n"
          ]
        },
        {
          "name": "stderr",
          "output_type": "stream",
          "text": [
            "WARNING:tensorboardX.x2num:NaN or Inf found in input tensor.\n",
            "WARNING:tensorboardX.x2num:NaN or Inf found in input tensor.\n",
            "WARNING:tensorboardX.x2num:NaN or Inf found in input tensor.\n",
            "WARNING:tensorboardX.x2num:NaN or Inf found in input tensor.\n",
            "WARNING:tensorboardX.x2num:NaN or Inf found in input tensor.\n",
            "WARNING:tensorboardX.x2num:NaN or Inf found in input tensor.\n"
          ]
        },
        {
          "name": "stdout",
          "output_type": "stream",
          "text": [
            "Epoch 67/131.. Train loss: nan.. Val loss: nan.. Train L1 norm: nan.. Val L1 norm: nan.. Train Linf norm: nan.. Val Linf norm: nan\n"
          ]
        },
        {
          "name": "stderr",
          "output_type": "stream",
          "text": [
            "WARNING:tensorboardX.x2num:NaN or Inf found in input tensor.\n",
            "WARNING:tensorboardX.x2num:NaN or Inf found in input tensor.\n",
            "WARNING:tensorboardX.x2num:NaN or Inf found in input tensor.\n",
            "WARNING:tensorboardX.x2num:NaN or Inf found in input tensor.\n",
            "WARNING:tensorboardX.x2num:NaN or Inf found in input tensor.\n",
            "WARNING:tensorboardX.x2num:NaN or Inf found in input tensor.\n"
          ]
        },
        {
          "name": "stdout",
          "output_type": "stream",
          "text": [
            "Epoch 68/131.. Train loss: nan.. Val loss: nan.. Train L1 norm: nan.. Val L1 norm: nan.. Train Linf norm: nan.. Val Linf norm: nan\n"
          ]
        },
        {
          "name": "stderr",
          "output_type": "stream",
          "text": [
            "WARNING:tensorboardX.x2num:NaN or Inf found in input tensor.\n",
            "WARNING:tensorboardX.x2num:NaN or Inf found in input tensor.\n",
            "WARNING:tensorboardX.x2num:NaN or Inf found in input tensor.\n",
            "WARNING:tensorboardX.x2num:NaN or Inf found in input tensor.\n",
            "WARNING:tensorboardX.x2num:NaN or Inf found in input tensor.\n",
            "WARNING:tensorboardX.x2num:NaN or Inf found in input tensor.\n"
          ]
        },
        {
          "name": "stdout",
          "output_type": "stream",
          "text": [
            "Epoch 69/131.. Train loss: nan.. Val loss: nan.. Train L1 norm: nan.. Val L1 norm: nan.. Train Linf norm: nan.. Val Linf norm: nan\n"
          ]
        },
        {
          "name": "stderr",
          "output_type": "stream",
          "text": [
            "WARNING:tensorboardX.x2num:NaN or Inf found in input tensor.\n",
            "WARNING:tensorboardX.x2num:NaN or Inf found in input tensor.\n",
            "WARNING:tensorboardX.x2num:NaN or Inf found in input tensor.\n",
            "WARNING:tensorboardX.x2num:NaN or Inf found in input tensor.\n",
            "WARNING:tensorboardX.x2num:NaN or Inf found in input tensor.\n",
            "WARNING:tensorboardX.x2num:NaN or Inf found in input tensor.\n"
          ]
        },
        {
          "name": "stdout",
          "output_type": "stream",
          "text": [
            "Epoch 70/131.. Train loss: nan.. Val loss: nan.. Train L1 norm: nan.. Val L1 norm: nan.. Train Linf norm: nan.. Val Linf norm: nan\n"
          ]
        },
        {
          "name": "stderr",
          "output_type": "stream",
          "text": [
            "WARNING:tensorboardX.x2num:NaN or Inf found in input tensor.\n",
            "WARNING:tensorboardX.x2num:NaN or Inf found in input tensor.\n",
            "WARNING:tensorboardX.x2num:NaN or Inf found in input tensor.\n",
            "WARNING:tensorboardX.x2num:NaN or Inf found in input tensor.\n",
            "WARNING:tensorboardX.x2num:NaN or Inf found in input tensor.\n",
            "WARNING:tensorboardX.x2num:NaN or Inf found in input tensor.\n"
          ]
        },
        {
          "name": "stdout",
          "output_type": "stream",
          "text": [
            "Epoch 71/131.. Train loss: nan.. Val loss: nan.. Train L1 norm: nan.. Val L1 norm: nan.. Train Linf norm: nan.. Val Linf norm: nan\n"
          ]
        },
        {
          "name": "stderr",
          "output_type": "stream",
          "text": [
            "WARNING:tensorboardX.x2num:NaN or Inf found in input tensor.\n",
            "WARNING:tensorboardX.x2num:NaN or Inf found in input tensor.\n",
            "WARNING:tensorboardX.x2num:NaN or Inf found in input tensor.\n",
            "WARNING:tensorboardX.x2num:NaN or Inf found in input tensor.\n",
            "WARNING:tensorboardX.x2num:NaN or Inf found in input tensor.\n",
            "WARNING:tensorboardX.x2num:NaN or Inf found in input tensor.\n"
          ]
        },
        {
          "name": "stdout",
          "output_type": "stream",
          "text": [
            "Epoch 72/131.. Train loss: nan.. Val loss: nan.. Train L1 norm: nan.. Val L1 norm: nan.. Train Linf norm: nan.. Val Linf norm: nan\n"
          ]
        },
        {
          "name": "stderr",
          "output_type": "stream",
          "text": [
            "WARNING:tensorboardX.x2num:NaN or Inf found in input tensor.\n",
            "WARNING:tensorboardX.x2num:NaN or Inf found in input tensor.\n",
            "WARNING:tensorboardX.x2num:NaN or Inf found in input tensor.\n",
            "WARNING:tensorboardX.x2num:NaN or Inf found in input tensor.\n",
            "WARNING:tensorboardX.x2num:NaN or Inf found in input tensor.\n",
            "WARNING:tensorboardX.x2num:NaN or Inf found in input tensor.\n"
          ]
        },
        {
          "name": "stdout",
          "output_type": "stream",
          "text": [
            "Epoch 73/131.. Train loss: nan.. Val loss: nan.. Train L1 norm: nan.. Val L1 norm: nan.. Train Linf norm: nan.. Val Linf norm: nan\n"
          ]
        },
        {
          "name": "stderr",
          "output_type": "stream",
          "text": [
            "WARNING:tensorboardX.x2num:NaN or Inf found in input tensor.\n",
            "WARNING:tensorboardX.x2num:NaN or Inf found in input tensor.\n",
            "WARNING:tensorboardX.x2num:NaN or Inf found in input tensor.\n",
            "WARNING:tensorboardX.x2num:NaN or Inf found in input tensor.\n",
            "WARNING:tensorboardX.x2num:NaN or Inf found in input tensor.\n",
            "WARNING:tensorboardX.x2num:NaN or Inf found in input tensor.\n"
          ]
        },
        {
          "name": "stdout",
          "output_type": "stream",
          "text": [
            "Epoch 74/131.. Train loss: nan.. Val loss: nan.. Train L1 norm: nan.. Val L1 norm: nan.. Train Linf norm: nan.. Val Linf norm: nan\n"
          ]
        },
        {
          "name": "stderr",
          "output_type": "stream",
          "text": [
            "WARNING:tensorboardX.x2num:NaN or Inf found in input tensor.\n",
            "WARNING:tensorboardX.x2num:NaN or Inf found in input tensor.\n",
            "WARNING:tensorboardX.x2num:NaN or Inf found in input tensor.\n",
            "WARNING:tensorboardX.x2num:NaN or Inf found in input tensor.\n",
            "WARNING:tensorboardX.x2num:NaN or Inf found in input tensor.\n",
            "WARNING:tensorboardX.x2num:NaN or Inf found in input tensor.\n"
          ]
        },
        {
          "name": "stdout",
          "output_type": "stream",
          "text": [
            "Epoch 75/131.. Train loss: nan.. Val loss: nan.. Train L1 norm: nan.. Val L1 norm: nan.. Train Linf norm: nan.. Val Linf norm: nan\n"
          ]
        },
        {
          "name": "stderr",
          "output_type": "stream",
          "text": [
            "WARNING:tensorboardX.x2num:NaN or Inf found in input tensor.\n",
            "WARNING:tensorboardX.x2num:NaN or Inf found in input tensor.\n",
            "WARNING:tensorboardX.x2num:NaN or Inf found in input tensor.\n",
            "WARNING:tensorboardX.x2num:NaN or Inf found in input tensor.\n",
            "WARNING:tensorboardX.x2num:NaN or Inf found in input tensor.\n",
            "WARNING:tensorboardX.x2num:NaN or Inf found in input tensor.\n"
          ]
        },
        {
          "name": "stdout",
          "output_type": "stream",
          "text": [
            "Epoch 76/131.. Train loss: nan.. Val loss: nan.. Train L1 norm: nan.. Val L1 norm: nan.. Train Linf norm: nan.. Val Linf norm: nan\n"
          ]
        },
        {
          "name": "stderr",
          "output_type": "stream",
          "text": [
            "WARNING:tensorboardX.x2num:NaN or Inf found in input tensor.\n",
            "WARNING:tensorboardX.x2num:NaN or Inf found in input tensor.\n",
            "WARNING:tensorboardX.x2num:NaN or Inf found in input tensor.\n",
            "WARNING:tensorboardX.x2num:NaN or Inf found in input tensor.\n",
            "WARNING:tensorboardX.x2num:NaN or Inf found in input tensor.\n",
            "WARNING:tensorboardX.x2num:NaN or Inf found in input tensor.\n"
          ]
        },
        {
          "name": "stdout",
          "output_type": "stream",
          "text": [
            "Epoch 77/131.. Train loss: nan.. Val loss: nan.. Train L1 norm: nan.. Val L1 norm: nan.. Train Linf norm: nan.. Val Linf norm: nan\n"
          ]
        },
        {
          "name": "stderr",
          "output_type": "stream",
          "text": [
            "WARNING:tensorboardX.x2num:NaN or Inf found in input tensor.\n",
            "WARNING:tensorboardX.x2num:NaN or Inf found in input tensor.\n",
            "WARNING:tensorboardX.x2num:NaN or Inf found in input tensor.\n",
            "WARNING:tensorboardX.x2num:NaN or Inf found in input tensor.\n",
            "WARNING:tensorboardX.x2num:NaN or Inf found in input tensor.\n",
            "WARNING:tensorboardX.x2num:NaN or Inf found in input tensor.\n"
          ]
        },
        {
          "name": "stdout",
          "output_type": "stream",
          "text": [
            "Epoch 78/131.. Train loss: nan.. Val loss: nan.. Train L1 norm: nan.. Val L1 norm: nan.. Train Linf norm: nan.. Val Linf norm: nan\n"
          ]
        },
        {
          "name": "stderr",
          "output_type": "stream",
          "text": [
            "WARNING:tensorboardX.x2num:NaN or Inf found in input tensor.\n",
            "WARNING:tensorboardX.x2num:NaN or Inf found in input tensor.\n",
            "WARNING:tensorboardX.x2num:NaN or Inf found in input tensor.\n",
            "WARNING:tensorboardX.x2num:NaN or Inf found in input tensor.\n",
            "WARNING:tensorboardX.x2num:NaN or Inf found in input tensor.\n",
            "WARNING:tensorboardX.x2num:NaN or Inf found in input tensor.\n"
          ]
        },
        {
          "name": "stdout",
          "output_type": "stream",
          "text": [
            "Epoch 79/131.. Train loss: nan.. Val loss: nan.. Train L1 norm: nan.. Val L1 norm: nan.. Train Linf norm: nan.. Val Linf norm: nan\n"
          ]
        },
        {
          "name": "stderr",
          "output_type": "stream",
          "text": [
            "WARNING:tensorboardX.x2num:NaN or Inf found in input tensor.\n",
            "WARNING:tensorboardX.x2num:NaN or Inf found in input tensor.\n",
            "WARNING:tensorboardX.x2num:NaN or Inf found in input tensor.\n",
            "WARNING:tensorboardX.x2num:NaN or Inf found in input tensor.\n",
            "WARNING:tensorboardX.x2num:NaN or Inf found in input tensor.\n",
            "WARNING:tensorboardX.x2num:NaN or Inf found in input tensor.\n"
          ]
        },
        {
          "name": "stdout",
          "output_type": "stream",
          "text": [
            "Epoch 80/131.. Train loss: nan.. Val loss: nan.. Train L1 norm: nan.. Val L1 norm: nan.. Train Linf norm: nan.. Val Linf norm: nan\n"
          ]
        },
        {
          "name": "stderr",
          "output_type": "stream",
          "text": [
            "WARNING:tensorboardX.x2num:NaN or Inf found in input tensor.\n",
            "WARNING:tensorboardX.x2num:NaN or Inf found in input tensor.\n",
            "WARNING:tensorboardX.x2num:NaN or Inf found in input tensor.\n",
            "WARNING:tensorboardX.x2num:NaN or Inf found in input tensor.\n",
            "WARNING:tensorboardX.x2num:NaN or Inf found in input tensor.\n",
            "WARNING:tensorboardX.x2num:NaN or Inf found in input tensor.\n"
          ]
        },
        {
          "name": "stdout",
          "output_type": "stream",
          "text": [
            "Epoch 81/131.. Train loss: nan.. Val loss: nan.. Train L1 norm: nan.. Val L1 norm: nan.. Train Linf norm: nan.. Val Linf norm: nan\n"
          ]
        },
        {
          "name": "stderr",
          "output_type": "stream",
          "text": [
            "WARNING:tensorboardX.x2num:NaN or Inf found in input tensor.\n",
            "WARNING:tensorboardX.x2num:NaN or Inf found in input tensor.\n",
            "WARNING:tensorboardX.x2num:NaN or Inf found in input tensor.\n",
            "WARNING:tensorboardX.x2num:NaN or Inf found in input tensor.\n",
            "WARNING:tensorboardX.x2num:NaN or Inf found in input tensor.\n",
            "WARNING:tensorboardX.x2num:NaN or Inf found in input tensor.\n"
          ]
        },
        {
          "name": "stdout",
          "output_type": "stream",
          "text": [
            "Epoch 82/131.. Train loss: nan.. Val loss: nan.. Train L1 norm: nan.. Val L1 norm: nan.. Train Linf norm: nan.. Val Linf norm: nan\n"
          ]
        },
        {
          "name": "stderr",
          "output_type": "stream",
          "text": [
            "WARNING:tensorboardX.x2num:NaN or Inf found in input tensor.\n",
            "WARNING:tensorboardX.x2num:NaN or Inf found in input tensor.\n",
            "WARNING:tensorboardX.x2num:NaN or Inf found in input tensor.\n",
            "WARNING:tensorboardX.x2num:NaN or Inf found in input tensor.\n",
            "WARNING:tensorboardX.x2num:NaN or Inf found in input tensor.\n",
            "WARNING:tensorboardX.x2num:NaN or Inf found in input tensor.\n"
          ]
        },
        {
          "name": "stdout",
          "output_type": "stream",
          "text": [
            "Epoch 83/131.. Train loss: nan.. Val loss: nan.. Train L1 norm: nan.. Val L1 norm: nan.. Train Linf norm: nan.. Val Linf norm: nan\n"
          ]
        },
        {
          "name": "stderr",
          "output_type": "stream",
          "text": [
            "WARNING:tensorboardX.x2num:NaN or Inf found in input tensor.\n",
            "WARNING:tensorboardX.x2num:NaN or Inf found in input tensor.\n",
            "WARNING:tensorboardX.x2num:NaN or Inf found in input tensor.\n",
            "WARNING:tensorboardX.x2num:NaN or Inf found in input tensor.\n",
            "WARNING:tensorboardX.x2num:NaN or Inf found in input tensor.\n",
            "WARNING:tensorboardX.x2num:NaN or Inf found in input tensor.\n"
          ]
        },
        {
          "name": "stdout",
          "output_type": "stream",
          "text": [
            "Epoch 84/131.. Train loss: nan.. Val loss: nan.. Train L1 norm: nan.. Val L1 norm: nan.. Train Linf norm: nan.. Val Linf norm: nan\n"
          ]
        },
        {
          "name": "stderr",
          "output_type": "stream",
          "text": [
            "WARNING:tensorboardX.x2num:NaN or Inf found in input tensor.\n",
            "WARNING:tensorboardX.x2num:NaN or Inf found in input tensor.\n",
            "WARNING:tensorboardX.x2num:NaN or Inf found in input tensor.\n",
            "WARNING:tensorboardX.x2num:NaN or Inf found in input tensor.\n",
            "WARNING:tensorboardX.x2num:NaN or Inf found in input tensor.\n",
            "WARNING:tensorboardX.x2num:NaN or Inf found in input tensor.\n"
          ]
        },
        {
          "name": "stdout",
          "output_type": "stream",
          "text": [
            "Epoch 85/131.. Train loss: nan.. Val loss: nan.. Train L1 norm: nan.. Val L1 norm: nan.. Train Linf norm: nan.. Val Linf norm: nan\n"
          ]
        },
        {
          "name": "stderr",
          "output_type": "stream",
          "text": [
            "WARNING:tensorboardX.x2num:NaN or Inf found in input tensor.\n",
            "WARNING:tensorboardX.x2num:NaN or Inf found in input tensor.\n",
            "WARNING:tensorboardX.x2num:NaN or Inf found in input tensor.\n",
            "WARNING:tensorboardX.x2num:NaN or Inf found in input tensor.\n",
            "WARNING:tensorboardX.x2num:NaN or Inf found in input tensor.\n",
            "WARNING:tensorboardX.x2num:NaN or Inf found in input tensor.\n"
          ]
        },
        {
          "name": "stdout",
          "output_type": "stream",
          "text": [
            "Epoch 86/131.. Train loss: nan.. Val loss: nan.. Train L1 norm: nan.. Val L1 norm: nan.. Train Linf norm: nan.. Val Linf norm: nan\n"
          ]
        },
        {
          "name": "stderr",
          "output_type": "stream",
          "text": [
            "WARNING:tensorboardX.x2num:NaN or Inf found in input tensor.\n",
            "WARNING:tensorboardX.x2num:NaN or Inf found in input tensor.\n",
            "WARNING:tensorboardX.x2num:NaN or Inf found in input tensor.\n",
            "WARNING:tensorboardX.x2num:NaN or Inf found in input tensor.\n",
            "WARNING:tensorboardX.x2num:NaN or Inf found in input tensor.\n",
            "WARNING:tensorboardX.x2num:NaN or Inf found in input tensor.\n"
          ]
        },
        {
          "name": "stdout",
          "output_type": "stream",
          "text": [
            "Epoch 87/131.. Train loss: nan.. Val loss: nan.. Train L1 norm: nan.. Val L1 norm: nan.. Train Linf norm: nan.. Val Linf norm: nan\n"
          ]
        },
        {
          "name": "stderr",
          "output_type": "stream",
          "text": [
            "WARNING:tensorboardX.x2num:NaN or Inf found in input tensor.\n",
            "WARNING:tensorboardX.x2num:NaN or Inf found in input tensor.\n",
            "WARNING:tensorboardX.x2num:NaN or Inf found in input tensor.\n",
            "WARNING:tensorboardX.x2num:NaN or Inf found in input tensor.\n",
            "WARNING:tensorboardX.x2num:NaN or Inf found in input tensor.\n",
            "WARNING:tensorboardX.x2num:NaN or Inf found in input tensor.\n"
          ]
        },
        {
          "name": "stdout",
          "output_type": "stream",
          "text": [
            "Epoch 88/131.. Train loss: nan.. Val loss: nan.. Train L1 norm: nan.. Val L1 norm: nan.. Train Linf norm: nan.. Val Linf norm: nan\n"
          ]
        },
        {
          "name": "stderr",
          "output_type": "stream",
          "text": [
            "WARNING:tensorboardX.x2num:NaN or Inf found in input tensor.\n",
            "WARNING:tensorboardX.x2num:NaN or Inf found in input tensor.\n",
            "WARNING:tensorboardX.x2num:NaN or Inf found in input tensor.\n",
            "WARNING:tensorboardX.x2num:NaN or Inf found in input tensor.\n",
            "WARNING:tensorboardX.x2num:NaN or Inf found in input tensor.\n",
            "WARNING:tensorboardX.x2num:NaN or Inf found in input tensor.\n"
          ]
        },
        {
          "name": "stdout",
          "output_type": "stream",
          "text": [
            "Epoch 89/131.. Train loss: nan.. Val loss: nan.. Train L1 norm: nan.. Val L1 norm: nan.. Train Linf norm: nan.. Val Linf norm: nan\n"
          ]
        },
        {
          "name": "stderr",
          "output_type": "stream",
          "text": [
            "WARNING:tensorboardX.x2num:NaN or Inf found in input tensor.\n",
            "WARNING:tensorboardX.x2num:NaN or Inf found in input tensor.\n",
            "WARNING:tensorboardX.x2num:NaN or Inf found in input tensor.\n",
            "WARNING:tensorboardX.x2num:NaN or Inf found in input tensor.\n",
            "WARNING:tensorboardX.x2num:NaN or Inf found in input tensor.\n",
            "WARNING:tensorboardX.x2num:NaN or Inf found in input tensor.\n"
          ]
        },
        {
          "name": "stdout",
          "output_type": "stream",
          "text": [
            "Epoch 90/131.. Train loss: nan.. Val loss: nan.. Train L1 norm: nan.. Val L1 norm: nan.. Train Linf norm: nan.. Val Linf norm: nan\n"
          ]
        },
        {
          "name": "stderr",
          "output_type": "stream",
          "text": [
            "WARNING:tensorboardX.x2num:NaN or Inf found in input tensor.\n",
            "WARNING:tensorboardX.x2num:NaN or Inf found in input tensor.\n",
            "WARNING:tensorboardX.x2num:NaN or Inf found in input tensor.\n",
            "WARNING:tensorboardX.x2num:NaN or Inf found in input tensor.\n",
            "WARNING:tensorboardX.x2num:NaN or Inf found in input tensor.\n",
            "WARNING:tensorboardX.x2num:NaN or Inf found in input tensor.\n"
          ]
        },
        {
          "name": "stdout",
          "output_type": "stream",
          "text": [
            "Epoch 91/131.. Train loss: nan.. Val loss: nan.. Train L1 norm: nan.. Val L1 norm: nan.. Train Linf norm: nan.. Val Linf norm: nan\n"
          ]
        },
        {
          "name": "stderr",
          "output_type": "stream",
          "text": [
            "WARNING:tensorboardX.x2num:NaN or Inf found in input tensor.\n",
            "WARNING:tensorboardX.x2num:NaN or Inf found in input tensor.\n",
            "WARNING:tensorboardX.x2num:NaN or Inf found in input tensor.\n",
            "WARNING:tensorboardX.x2num:NaN or Inf found in input tensor.\n",
            "WARNING:tensorboardX.x2num:NaN or Inf found in input tensor.\n",
            "WARNING:tensorboardX.x2num:NaN or Inf found in input tensor.\n"
          ]
        },
        {
          "name": "stdout",
          "output_type": "stream",
          "text": [
            "Epoch 92/131.. Train loss: nan.. Val loss: nan.. Train L1 norm: nan.. Val L1 norm: nan.. Train Linf norm: nan.. Val Linf norm: nan\n"
          ]
        },
        {
          "name": "stderr",
          "output_type": "stream",
          "text": [
            "WARNING:tensorboardX.x2num:NaN or Inf found in input tensor.\n",
            "WARNING:tensorboardX.x2num:NaN or Inf found in input tensor.\n",
            "WARNING:tensorboardX.x2num:NaN or Inf found in input tensor.\n",
            "WARNING:tensorboardX.x2num:NaN or Inf found in input tensor.\n",
            "WARNING:tensorboardX.x2num:NaN or Inf found in input tensor.\n",
            "WARNING:tensorboardX.x2num:NaN or Inf found in input tensor.\n"
          ]
        },
        {
          "name": "stdout",
          "output_type": "stream",
          "text": [
            "Epoch 93/131.. Train loss: nan.. Val loss: nan.. Train L1 norm: nan.. Val L1 norm: nan.. Train Linf norm: nan.. Val Linf norm: nan\n"
          ]
        },
        {
          "name": "stderr",
          "output_type": "stream",
          "text": [
            "WARNING:tensorboardX.x2num:NaN or Inf found in input tensor.\n",
            "WARNING:tensorboardX.x2num:NaN or Inf found in input tensor.\n",
            "WARNING:tensorboardX.x2num:NaN or Inf found in input tensor.\n",
            "WARNING:tensorboardX.x2num:NaN or Inf found in input tensor.\n",
            "WARNING:tensorboardX.x2num:NaN or Inf found in input tensor.\n",
            "WARNING:tensorboardX.x2num:NaN or Inf found in input tensor.\n"
          ]
        },
        {
          "name": "stdout",
          "output_type": "stream",
          "text": [
            "Epoch 94/131.. Train loss: nan.. Val loss: nan.. Train L1 norm: nan.. Val L1 norm: nan.. Train Linf norm: nan.. Val Linf norm: nan\n"
          ]
        },
        {
          "name": "stderr",
          "output_type": "stream",
          "text": [
            "WARNING:tensorboardX.x2num:NaN or Inf found in input tensor.\n",
            "WARNING:tensorboardX.x2num:NaN or Inf found in input tensor.\n",
            "WARNING:tensorboardX.x2num:NaN or Inf found in input tensor.\n",
            "WARNING:tensorboardX.x2num:NaN or Inf found in input tensor.\n",
            "WARNING:tensorboardX.x2num:NaN or Inf found in input tensor.\n",
            "WARNING:tensorboardX.x2num:NaN or Inf found in input tensor.\n"
          ]
        },
        {
          "name": "stdout",
          "output_type": "stream",
          "text": [
            "Epoch 95/131.. Train loss: nan.. Val loss: nan.. Train L1 norm: nan.. Val L1 norm: nan.. Train Linf norm: nan.. Val Linf norm: nan\n"
          ]
        },
        {
          "name": "stderr",
          "output_type": "stream",
          "text": [
            "WARNING:tensorboardX.x2num:NaN or Inf found in input tensor.\n",
            "WARNING:tensorboardX.x2num:NaN or Inf found in input tensor.\n",
            "WARNING:tensorboardX.x2num:NaN or Inf found in input tensor.\n",
            "WARNING:tensorboardX.x2num:NaN or Inf found in input tensor.\n",
            "WARNING:tensorboardX.x2num:NaN or Inf found in input tensor.\n",
            "WARNING:tensorboardX.x2num:NaN or Inf found in input tensor.\n"
          ]
        },
        {
          "name": "stdout",
          "output_type": "stream",
          "text": [
            "Epoch 96/131.. Train loss: nan.. Val loss: nan.. Train L1 norm: nan.. Val L1 norm: nan.. Train Linf norm: nan.. Val Linf norm: nan\n"
          ]
        },
        {
          "name": "stderr",
          "output_type": "stream",
          "text": [
            "WARNING:tensorboardX.x2num:NaN or Inf found in input tensor.\n",
            "WARNING:tensorboardX.x2num:NaN or Inf found in input tensor.\n",
            "WARNING:tensorboardX.x2num:NaN or Inf found in input tensor.\n",
            "WARNING:tensorboardX.x2num:NaN or Inf found in input tensor.\n",
            "WARNING:tensorboardX.x2num:NaN or Inf found in input tensor.\n",
            "WARNING:tensorboardX.x2num:NaN or Inf found in input tensor.\n"
          ]
        },
        {
          "name": "stdout",
          "output_type": "stream",
          "text": [
            "Epoch 97/131.. Train loss: nan.. Val loss: nan.. Train L1 norm: nan.. Val L1 norm: nan.. Train Linf norm: nan.. Val Linf norm: nan\n"
          ]
        },
        {
          "name": "stderr",
          "output_type": "stream",
          "text": [
            "WARNING:tensorboardX.x2num:NaN or Inf found in input tensor.\n",
            "WARNING:tensorboardX.x2num:NaN or Inf found in input tensor.\n",
            "WARNING:tensorboardX.x2num:NaN or Inf found in input tensor.\n",
            "WARNING:tensorboardX.x2num:NaN or Inf found in input tensor.\n",
            "WARNING:tensorboardX.x2num:NaN or Inf found in input tensor.\n",
            "WARNING:tensorboardX.x2num:NaN or Inf found in input tensor.\n"
          ]
        },
        {
          "name": "stdout",
          "output_type": "stream",
          "text": [
            "Epoch 98/131.. Train loss: nan.. Val loss: nan.. Train L1 norm: nan.. Val L1 norm: nan.. Train Linf norm: nan.. Val Linf norm: nan\n"
          ]
        },
        {
          "name": "stderr",
          "output_type": "stream",
          "text": [
            "WARNING:tensorboardX.x2num:NaN or Inf found in input tensor.\n",
            "WARNING:tensorboardX.x2num:NaN or Inf found in input tensor.\n",
            "WARNING:tensorboardX.x2num:NaN or Inf found in input tensor.\n",
            "WARNING:tensorboardX.x2num:NaN or Inf found in input tensor.\n",
            "WARNING:tensorboardX.x2num:NaN or Inf found in input tensor.\n",
            "WARNING:tensorboardX.x2num:NaN or Inf found in input tensor.\n"
          ]
        },
        {
          "name": "stdout",
          "output_type": "stream",
          "text": [
            "Epoch 99/131.. Train loss: nan.. Val loss: nan.. Train L1 norm: nan.. Val L1 norm: nan.. Train Linf norm: nan.. Val Linf norm: nan\n"
          ]
        },
        {
          "name": "stderr",
          "output_type": "stream",
          "text": [
            "WARNING:tensorboardX.x2num:NaN or Inf found in input tensor.\n",
            "WARNING:tensorboardX.x2num:NaN or Inf found in input tensor.\n",
            "WARNING:tensorboardX.x2num:NaN or Inf found in input tensor.\n",
            "WARNING:tensorboardX.x2num:NaN or Inf found in input tensor.\n",
            "WARNING:tensorboardX.x2num:NaN or Inf found in input tensor.\n",
            "WARNING:tensorboardX.x2num:NaN or Inf found in input tensor.\n"
          ]
        },
        {
          "name": "stdout",
          "output_type": "stream",
          "text": [
            "Epoch 100/131.. Train loss: nan.. Val loss: nan.. Train L1 norm: nan.. Val L1 norm: nan.. Train Linf norm: nan.. Val Linf norm: nan\n"
          ]
        },
        {
          "name": "stderr",
          "output_type": "stream",
          "text": [
            "WARNING:tensorboardX.x2num:NaN or Inf found in input tensor.\n",
            "WARNING:tensorboardX.x2num:NaN or Inf found in input tensor.\n",
            "WARNING:tensorboardX.x2num:NaN or Inf found in input tensor.\n",
            "WARNING:tensorboardX.x2num:NaN or Inf found in input tensor.\n",
            "WARNING:tensorboardX.x2num:NaN or Inf found in input tensor.\n",
            "WARNING:tensorboardX.x2num:NaN or Inf found in input tensor.\n"
          ]
        },
        {
          "name": "stdout",
          "output_type": "stream",
          "text": [
            "Epoch 101/131.. Train loss: nan.. Val loss: nan.. Train L1 norm: nan.. Val L1 norm: nan.. Train Linf norm: nan.. Val Linf norm: nan\n"
          ]
        },
        {
          "name": "stderr",
          "output_type": "stream",
          "text": [
            "WARNING:tensorboardX.x2num:NaN or Inf found in input tensor.\n",
            "WARNING:tensorboardX.x2num:NaN or Inf found in input tensor.\n",
            "WARNING:tensorboardX.x2num:NaN or Inf found in input tensor.\n",
            "WARNING:tensorboardX.x2num:NaN or Inf found in input tensor.\n",
            "WARNING:tensorboardX.x2num:NaN or Inf found in input tensor.\n",
            "WARNING:tensorboardX.x2num:NaN or Inf found in input tensor.\n"
          ]
        },
        {
          "name": "stdout",
          "output_type": "stream",
          "text": [
            "Epoch 102/131.. Train loss: nan.. Val loss: nan.. Train L1 norm: nan.. Val L1 norm: nan.. Train Linf norm: nan.. Val Linf norm: nan\n"
          ]
        },
        {
          "name": "stderr",
          "output_type": "stream",
          "text": [
            "WARNING:tensorboardX.x2num:NaN or Inf found in input tensor.\n",
            "WARNING:tensorboardX.x2num:NaN or Inf found in input tensor.\n",
            "WARNING:tensorboardX.x2num:NaN or Inf found in input tensor.\n",
            "WARNING:tensorboardX.x2num:NaN or Inf found in input tensor.\n",
            "WARNING:tensorboardX.x2num:NaN or Inf found in input tensor.\n",
            "WARNING:tensorboardX.x2num:NaN or Inf found in input tensor.\n"
          ]
        },
        {
          "name": "stdout",
          "output_type": "stream",
          "text": [
            "Epoch 103/131.. Train loss: nan.. Val loss: nan.. Train L1 norm: nan.. Val L1 norm: nan.. Train Linf norm: nan.. Val Linf norm: nan\n"
          ]
        },
        {
          "name": "stderr",
          "output_type": "stream",
          "text": [
            "WARNING:tensorboardX.x2num:NaN or Inf found in input tensor.\n",
            "WARNING:tensorboardX.x2num:NaN or Inf found in input tensor.\n",
            "WARNING:tensorboardX.x2num:NaN or Inf found in input tensor.\n",
            "WARNING:tensorboardX.x2num:NaN or Inf found in input tensor.\n",
            "WARNING:tensorboardX.x2num:NaN or Inf found in input tensor.\n",
            "WARNING:tensorboardX.x2num:NaN or Inf found in input tensor.\n"
          ]
        },
        {
          "name": "stdout",
          "output_type": "stream",
          "text": [
            "Epoch 104/131.. Train loss: nan.. Val loss: nan.. Train L1 norm: nan.. Val L1 norm: nan.. Train Linf norm: nan.. Val Linf norm: nan\n"
          ]
        },
        {
          "name": "stderr",
          "output_type": "stream",
          "text": [
            "WARNING:tensorboardX.x2num:NaN or Inf found in input tensor.\n",
            "WARNING:tensorboardX.x2num:NaN or Inf found in input tensor.\n",
            "WARNING:tensorboardX.x2num:NaN or Inf found in input tensor.\n",
            "WARNING:tensorboardX.x2num:NaN or Inf found in input tensor.\n",
            "WARNING:tensorboardX.x2num:NaN or Inf found in input tensor.\n",
            "WARNING:tensorboardX.x2num:NaN or Inf found in input tensor.\n"
          ]
        },
        {
          "name": "stdout",
          "output_type": "stream",
          "text": [
            "Epoch 105/131.. Train loss: nan.. Val loss: nan.. Train L1 norm: nan.. Val L1 norm: nan.. Train Linf norm: nan.. Val Linf norm: nan\n"
          ]
        },
        {
          "name": "stderr",
          "output_type": "stream",
          "text": [
            "WARNING:tensorboardX.x2num:NaN or Inf found in input tensor.\n",
            "WARNING:tensorboardX.x2num:NaN or Inf found in input tensor.\n",
            "WARNING:tensorboardX.x2num:NaN or Inf found in input tensor.\n",
            "WARNING:tensorboardX.x2num:NaN or Inf found in input tensor.\n",
            "WARNING:tensorboardX.x2num:NaN or Inf found in input tensor.\n",
            "WARNING:tensorboardX.x2num:NaN or Inf found in input tensor.\n"
          ]
        },
        {
          "name": "stdout",
          "output_type": "stream",
          "text": [
            "Epoch 106/131.. Train loss: nan.. Val loss: nan.. Train L1 norm: nan.. Val L1 norm: nan.. Train Linf norm: nan.. Val Linf norm: nan\n"
          ]
        },
        {
          "name": "stderr",
          "output_type": "stream",
          "text": [
            "WARNING:tensorboardX.x2num:NaN or Inf found in input tensor.\n",
            "WARNING:tensorboardX.x2num:NaN or Inf found in input tensor.\n",
            "WARNING:tensorboardX.x2num:NaN or Inf found in input tensor.\n",
            "WARNING:tensorboardX.x2num:NaN or Inf found in input tensor.\n",
            "WARNING:tensorboardX.x2num:NaN or Inf found in input tensor.\n",
            "WARNING:tensorboardX.x2num:NaN or Inf found in input tensor.\n"
          ]
        },
        {
          "name": "stdout",
          "output_type": "stream",
          "text": [
            "Epoch 107/131.. Train loss: nan.. Val loss: nan.. Train L1 norm: nan.. Val L1 norm: nan.. Train Linf norm: nan.. Val Linf norm: nan\n"
          ]
        },
        {
          "name": "stderr",
          "output_type": "stream",
          "text": [
            "WARNING:tensorboardX.x2num:NaN or Inf found in input tensor.\n",
            "WARNING:tensorboardX.x2num:NaN or Inf found in input tensor.\n",
            "WARNING:tensorboardX.x2num:NaN or Inf found in input tensor.\n",
            "WARNING:tensorboardX.x2num:NaN or Inf found in input tensor.\n",
            "WARNING:tensorboardX.x2num:NaN or Inf found in input tensor.\n",
            "WARNING:tensorboardX.x2num:NaN or Inf found in input tensor.\n"
          ]
        },
        {
          "name": "stdout",
          "output_type": "stream",
          "text": [
            "Epoch 108/131.. Train loss: nan.. Val loss: nan.. Train L1 norm: nan.. Val L1 norm: nan.. Train Linf norm: nan.. Val Linf norm: nan\n"
          ]
        },
        {
          "name": "stderr",
          "output_type": "stream",
          "text": [
            "WARNING:tensorboardX.x2num:NaN or Inf found in input tensor.\n",
            "WARNING:tensorboardX.x2num:NaN or Inf found in input tensor.\n",
            "WARNING:tensorboardX.x2num:NaN or Inf found in input tensor.\n",
            "WARNING:tensorboardX.x2num:NaN or Inf found in input tensor.\n",
            "WARNING:tensorboardX.x2num:NaN or Inf found in input tensor.\n",
            "WARNING:tensorboardX.x2num:NaN or Inf found in input tensor.\n"
          ]
        },
        {
          "name": "stdout",
          "output_type": "stream",
          "text": [
            "Epoch 109/131.. Train loss: nan.. Val loss: nan.. Train L1 norm: nan.. Val L1 norm: nan.. Train Linf norm: nan.. Val Linf norm: nan\n"
          ]
        },
        {
          "name": "stderr",
          "output_type": "stream",
          "text": [
            "WARNING:tensorboardX.x2num:NaN or Inf found in input tensor.\n",
            "WARNING:tensorboardX.x2num:NaN or Inf found in input tensor.\n",
            "WARNING:tensorboardX.x2num:NaN or Inf found in input tensor.\n",
            "WARNING:tensorboardX.x2num:NaN or Inf found in input tensor.\n",
            "WARNING:tensorboardX.x2num:NaN or Inf found in input tensor.\n",
            "WARNING:tensorboardX.x2num:NaN or Inf found in input tensor.\n"
          ]
        },
        {
          "name": "stdout",
          "output_type": "stream",
          "text": [
            "Epoch 110/131.. Train loss: nan.. Val loss: nan.. Train L1 norm: nan.. Val L1 norm: nan.. Train Linf norm: nan.. Val Linf norm: nan\n"
          ]
        },
        {
          "name": "stderr",
          "output_type": "stream",
          "text": [
            "WARNING:tensorboardX.x2num:NaN or Inf found in input tensor.\n",
            "WARNING:tensorboardX.x2num:NaN or Inf found in input tensor.\n",
            "WARNING:tensorboardX.x2num:NaN or Inf found in input tensor.\n",
            "WARNING:tensorboardX.x2num:NaN or Inf found in input tensor.\n",
            "WARNING:tensorboardX.x2num:NaN or Inf found in input tensor.\n",
            "WARNING:tensorboardX.x2num:NaN or Inf found in input tensor.\n"
          ]
        },
        {
          "name": "stdout",
          "output_type": "stream",
          "text": [
            "Epoch 111/131.. Train loss: nan.. Val loss: nan.. Train L1 norm: nan.. Val L1 norm: nan.. Train Linf norm: nan.. Val Linf norm: nan\n"
          ]
        },
        {
          "name": "stderr",
          "output_type": "stream",
          "text": [
            "WARNING:tensorboardX.x2num:NaN or Inf found in input tensor.\n",
            "WARNING:tensorboardX.x2num:NaN or Inf found in input tensor.\n",
            "WARNING:tensorboardX.x2num:NaN or Inf found in input tensor.\n",
            "WARNING:tensorboardX.x2num:NaN or Inf found in input tensor.\n",
            "WARNING:tensorboardX.x2num:NaN or Inf found in input tensor.\n",
            "WARNING:tensorboardX.x2num:NaN or Inf found in input tensor.\n"
          ]
        },
        {
          "name": "stdout",
          "output_type": "stream",
          "text": [
            "Epoch 112/131.. Train loss: nan.. Val loss: nan.. Train L1 norm: nan.. Val L1 norm: nan.. Train Linf norm: nan.. Val Linf norm: nan\n"
          ]
        },
        {
          "name": "stderr",
          "output_type": "stream",
          "text": [
            "WARNING:tensorboardX.x2num:NaN or Inf found in input tensor.\n",
            "WARNING:tensorboardX.x2num:NaN or Inf found in input tensor.\n",
            "WARNING:tensorboardX.x2num:NaN or Inf found in input tensor.\n",
            "WARNING:tensorboardX.x2num:NaN or Inf found in input tensor.\n",
            "WARNING:tensorboardX.x2num:NaN or Inf found in input tensor.\n",
            "WARNING:tensorboardX.x2num:NaN or Inf found in input tensor.\n"
          ]
        },
        {
          "name": "stdout",
          "output_type": "stream",
          "text": [
            "Epoch 113/131.. Train loss: nan.. Val loss: nan.. Train L1 norm: nan.. Val L1 norm: nan.. Train Linf norm: nan.. Val Linf norm: nan\n"
          ]
        },
        {
          "name": "stderr",
          "output_type": "stream",
          "text": [
            "WARNING:tensorboardX.x2num:NaN or Inf found in input tensor.\n",
            "WARNING:tensorboardX.x2num:NaN or Inf found in input tensor.\n",
            "WARNING:tensorboardX.x2num:NaN or Inf found in input tensor.\n",
            "WARNING:tensorboardX.x2num:NaN or Inf found in input tensor.\n",
            "WARNING:tensorboardX.x2num:NaN or Inf found in input tensor.\n",
            "WARNING:tensorboardX.x2num:NaN or Inf found in input tensor.\n"
          ]
        },
        {
          "name": "stdout",
          "output_type": "stream",
          "text": [
            "Epoch 114/131.. Train loss: nan.. Val loss: nan.. Train L1 norm: nan.. Val L1 norm: nan.. Train Linf norm: nan.. Val Linf norm: nan\n"
          ]
        },
        {
          "name": "stderr",
          "output_type": "stream",
          "text": [
            "WARNING:tensorboardX.x2num:NaN or Inf found in input tensor.\n",
            "WARNING:tensorboardX.x2num:NaN or Inf found in input tensor.\n",
            "WARNING:tensorboardX.x2num:NaN or Inf found in input tensor.\n",
            "WARNING:tensorboardX.x2num:NaN or Inf found in input tensor.\n",
            "WARNING:tensorboardX.x2num:NaN or Inf found in input tensor.\n",
            "WARNING:tensorboardX.x2num:NaN or Inf found in input tensor.\n"
          ]
        },
        {
          "name": "stdout",
          "output_type": "stream",
          "text": [
            "Epoch 115/131.. Train loss: nan.. Val loss: nan.. Train L1 norm: nan.. Val L1 norm: nan.. Train Linf norm: nan.. Val Linf norm: nan\n"
          ]
        },
        {
          "name": "stderr",
          "output_type": "stream",
          "text": [
            "WARNING:tensorboardX.x2num:NaN or Inf found in input tensor.\n",
            "WARNING:tensorboardX.x2num:NaN or Inf found in input tensor.\n",
            "WARNING:tensorboardX.x2num:NaN or Inf found in input tensor.\n",
            "WARNING:tensorboardX.x2num:NaN or Inf found in input tensor.\n",
            "WARNING:tensorboardX.x2num:NaN or Inf found in input tensor.\n",
            "WARNING:tensorboardX.x2num:NaN or Inf found in input tensor.\n"
          ]
        },
        {
          "name": "stdout",
          "output_type": "stream",
          "text": [
            "Epoch 116/131.. Train loss: nan.. Val loss: nan.. Train L1 norm: nan.. Val L1 norm: nan.. Train Linf norm: nan.. Val Linf norm: nan\n"
          ]
        },
        {
          "name": "stderr",
          "output_type": "stream",
          "text": [
            "WARNING:tensorboardX.x2num:NaN or Inf found in input tensor.\n",
            "WARNING:tensorboardX.x2num:NaN or Inf found in input tensor.\n",
            "WARNING:tensorboardX.x2num:NaN or Inf found in input tensor.\n",
            "WARNING:tensorboardX.x2num:NaN or Inf found in input tensor.\n",
            "WARNING:tensorboardX.x2num:NaN or Inf found in input tensor.\n",
            "WARNING:tensorboardX.x2num:NaN or Inf found in input tensor.\n"
          ]
        },
        {
          "name": "stdout",
          "output_type": "stream",
          "text": [
            "Epoch 117/131.. Train loss: nan.. Val loss: nan.. Train L1 norm: nan.. Val L1 norm: nan.. Train Linf norm: nan.. Val Linf norm: nan\n"
          ]
        },
        {
          "name": "stderr",
          "output_type": "stream",
          "text": [
            "WARNING:tensorboardX.x2num:NaN or Inf found in input tensor.\n",
            "WARNING:tensorboardX.x2num:NaN or Inf found in input tensor.\n",
            "WARNING:tensorboardX.x2num:NaN or Inf found in input tensor.\n",
            "WARNING:tensorboardX.x2num:NaN or Inf found in input tensor.\n",
            "WARNING:tensorboardX.x2num:NaN or Inf found in input tensor.\n",
            "WARNING:tensorboardX.x2num:NaN or Inf found in input tensor.\n"
          ]
        },
        {
          "name": "stdout",
          "output_type": "stream",
          "text": [
            "Epoch 118/131.. Train loss: nan.. Val loss: nan.. Train L1 norm: nan.. Val L1 norm: nan.. Train Linf norm: nan.. Val Linf norm: nan\n"
          ]
        },
        {
          "name": "stderr",
          "output_type": "stream",
          "text": [
            "WARNING:tensorboardX.x2num:NaN or Inf found in input tensor.\n",
            "WARNING:tensorboardX.x2num:NaN or Inf found in input tensor.\n",
            "WARNING:tensorboardX.x2num:NaN or Inf found in input tensor.\n",
            "WARNING:tensorboardX.x2num:NaN or Inf found in input tensor.\n",
            "WARNING:tensorboardX.x2num:NaN or Inf found in input tensor.\n",
            "WARNING:tensorboardX.x2num:NaN or Inf found in input tensor.\n"
          ]
        },
        {
          "name": "stdout",
          "output_type": "stream",
          "text": [
            "Epoch 119/131.. Train loss: nan.. Val loss: nan.. Train L1 norm: nan.. Val L1 norm: nan.. Train Linf norm: nan.. Val Linf norm: nan\n"
          ]
        },
        {
          "name": "stderr",
          "output_type": "stream",
          "text": [
            "WARNING:tensorboardX.x2num:NaN or Inf found in input tensor.\n",
            "WARNING:tensorboardX.x2num:NaN or Inf found in input tensor.\n",
            "WARNING:tensorboardX.x2num:NaN or Inf found in input tensor.\n",
            "WARNING:tensorboardX.x2num:NaN or Inf found in input tensor.\n",
            "WARNING:tensorboardX.x2num:NaN or Inf found in input tensor.\n",
            "WARNING:tensorboardX.x2num:NaN or Inf found in input tensor.\n"
          ]
        },
        {
          "name": "stdout",
          "output_type": "stream",
          "text": [
            "Epoch 120/131.. Train loss: nan.. Val loss: nan.. Train L1 norm: nan.. Val L1 norm: nan.. Train Linf norm: nan.. Val Linf norm: nan\n"
          ]
        },
        {
          "name": "stderr",
          "output_type": "stream",
          "text": [
            "WARNING:tensorboardX.x2num:NaN or Inf found in input tensor.\n",
            "WARNING:tensorboardX.x2num:NaN or Inf found in input tensor.\n",
            "WARNING:tensorboardX.x2num:NaN or Inf found in input tensor.\n",
            "WARNING:tensorboardX.x2num:NaN or Inf found in input tensor.\n",
            "WARNING:tensorboardX.x2num:NaN or Inf found in input tensor.\n",
            "WARNING:tensorboardX.x2num:NaN or Inf found in input tensor.\n"
          ]
        },
        {
          "name": "stdout",
          "output_type": "stream",
          "text": [
            "Epoch 121/131.. Train loss: nan.. Val loss: nan.. Train L1 norm: nan.. Val L1 norm: nan.. Train Linf norm: nan.. Val Linf norm: nan\n"
          ]
        },
        {
          "name": "stderr",
          "output_type": "stream",
          "text": [
            "WARNING:tensorboardX.x2num:NaN or Inf found in input tensor.\n",
            "WARNING:tensorboardX.x2num:NaN or Inf found in input tensor.\n",
            "WARNING:tensorboardX.x2num:NaN or Inf found in input tensor.\n",
            "WARNING:tensorboardX.x2num:NaN or Inf found in input tensor.\n",
            "WARNING:tensorboardX.x2num:NaN or Inf found in input tensor.\n",
            "WARNING:tensorboardX.x2num:NaN or Inf found in input tensor.\n"
          ]
        },
        {
          "name": "stdout",
          "output_type": "stream",
          "text": [
            "Epoch 122/131.. Train loss: nan.. Val loss: nan.. Train L1 norm: nan.. Val L1 norm: nan.. Train Linf norm: nan.. Val Linf norm: nan\n"
          ]
        },
        {
          "name": "stderr",
          "output_type": "stream",
          "text": [
            "WARNING:tensorboardX.x2num:NaN or Inf found in input tensor.\n",
            "WARNING:tensorboardX.x2num:NaN or Inf found in input tensor.\n",
            "WARNING:tensorboardX.x2num:NaN or Inf found in input tensor.\n",
            "WARNING:tensorboardX.x2num:NaN or Inf found in input tensor.\n",
            "WARNING:tensorboardX.x2num:NaN or Inf found in input tensor.\n",
            "WARNING:tensorboardX.x2num:NaN or Inf found in input tensor.\n"
          ]
        },
        {
          "name": "stdout",
          "output_type": "stream",
          "text": [
            "Epoch 123/131.. Train loss: nan.. Val loss: nan.. Train L1 norm: nan.. Val L1 norm: nan.. Train Linf norm: nan.. Val Linf norm: nan\n"
          ]
        },
        {
          "name": "stderr",
          "output_type": "stream",
          "text": [
            "WARNING:tensorboardX.x2num:NaN or Inf found in input tensor.\n",
            "WARNING:tensorboardX.x2num:NaN or Inf found in input tensor.\n",
            "WARNING:tensorboardX.x2num:NaN or Inf found in input tensor.\n",
            "WARNING:tensorboardX.x2num:NaN or Inf found in input tensor.\n",
            "WARNING:tensorboardX.x2num:NaN or Inf found in input tensor.\n",
            "WARNING:tensorboardX.x2num:NaN or Inf found in input tensor.\n"
          ]
        },
        {
          "name": "stdout",
          "output_type": "stream",
          "text": [
            "Epoch 124/131.. Train loss: nan.. Val loss: nan.. Train L1 norm: nan.. Val L1 norm: nan.. Train Linf norm: nan.. Val Linf norm: nan\n"
          ]
        },
        {
          "name": "stderr",
          "output_type": "stream",
          "text": [
            "WARNING:tensorboardX.x2num:NaN or Inf found in input tensor.\n",
            "WARNING:tensorboardX.x2num:NaN or Inf found in input tensor.\n",
            "WARNING:tensorboardX.x2num:NaN or Inf found in input tensor.\n",
            "WARNING:tensorboardX.x2num:NaN or Inf found in input tensor.\n",
            "WARNING:tensorboardX.x2num:NaN or Inf found in input tensor.\n",
            "WARNING:tensorboardX.x2num:NaN or Inf found in input tensor.\n"
          ]
        },
        {
          "name": "stdout",
          "output_type": "stream",
          "text": [
            "Epoch 125/131.. Train loss: nan.. Val loss: nan.. Train L1 norm: nan.. Val L1 norm: nan.. Train Linf norm: nan.. Val Linf norm: nan\n"
          ]
        },
        {
          "name": "stderr",
          "output_type": "stream",
          "text": [
            "WARNING:tensorboardX.x2num:NaN or Inf found in input tensor.\n",
            "WARNING:tensorboardX.x2num:NaN or Inf found in input tensor.\n",
            "WARNING:tensorboardX.x2num:NaN or Inf found in input tensor.\n",
            "WARNING:tensorboardX.x2num:NaN or Inf found in input tensor.\n",
            "WARNING:tensorboardX.x2num:NaN or Inf found in input tensor.\n",
            "WARNING:tensorboardX.x2num:NaN or Inf found in input tensor.\n"
          ]
        },
        {
          "name": "stdout",
          "output_type": "stream",
          "text": [
            "Epoch 126/131.. Train loss: nan.. Val loss: nan.. Train L1 norm: nan.. Val L1 norm: nan.. Train Linf norm: nan.. Val Linf norm: nan\n"
          ]
        },
        {
          "name": "stderr",
          "output_type": "stream",
          "text": [
            "WARNING:tensorboardX.x2num:NaN or Inf found in input tensor.\n",
            "WARNING:tensorboardX.x2num:NaN or Inf found in input tensor.\n",
            "WARNING:tensorboardX.x2num:NaN or Inf found in input tensor.\n",
            "WARNING:tensorboardX.x2num:NaN or Inf found in input tensor.\n",
            "WARNING:tensorboardX.x2num:NaN or Inf found in input tensor.\n",
            "WARNING:tensorboardX.x2num:NaN or Inf found in input tensor.\n"
          ]
        },
        {
          "name": "stdout",
          "output_type": "stream",
          "text": [
            "Epoch 127/131.. Train loss: nan.. Val loss: nan.. Train L1 norm: nan.. Val L1 norm: nan.. Train Linf norm: nan.. Val Linf norm: nan\n"
          ]
        },
        {
          "name": "stderr",
          "output_type": "stream",
          "text": [
            "WARNING:tensorboardX.x2num:NaN or Inf found in input tensor.\n",
            "WARNING:tensorboardX.x2num:NaN or Inf found in input tensor.\n",
            "WARNING:tensorboardX.x2num:NaN or Inf found in input tensor.\n",
            "WARNING:tensorboardX.x2num:NaN or Inf found in input tensor.\n",
            "WARNING:tensorboardX.x2num:NaN or Inf found in input tensor.\n",
            "WARNING:tensorboardX.x2num:NaN or Inf found in input tensor.\n"
          ]
        },
        {
          "name": "stdout",
          "output_type": "stream",
          "text": [
            "Epoch 128/131.. Train loss: nan.. Val loss: nan.. Train L1 norm: nan.. Val L1 norm: nan.. Train Linf norm: nan.. Val Linf norm: nan\n"
          ]
        },
        {
          "name": "stderr",
          "output_type": "stream",
          "text": [
            "WARNING:tensorboardX.x2num:NaN or Inf found in input tensor.\n",
            "WARNING:tensorboardX.x2num:NaN or Inf found in input tensor.\n",
            "WARNING:tensorboardX.x2num:NaN or Inf found in input tensor.\n",
            "WARNING:tensorboardX.x2num:NaN or Inf found in input tensor.\n",
            "WARNING:tensorboardX.x2num:NaN or Inf found in input tensor.\n",
            "WARNING:tensorboardX.x2num:NaN or Inf found in input tensor.\n"
          ]
        },
        {
          "name": "stdout",
          "output_type": "stream",
          "text": [
            "Epoch 129/131.. Train loss: nan.. Val loss: nan.. Train L1 norm: nan.. Val L1 norm: nan.. Train Linf norm: nan.. Val Linf norm: nan\n"
          ]
        },
        {
          "name": "stderr",
          "output_type": "stream",
          "text": [
            "WARNING:tensorboardX.x2num:NaN or Inf found in input tensor.\n",
            "WARNING:tensorboardX.x2num:NaN or Inf found in input tensor.\n",
            "WARNING:tensorboardX.x2num:NaN or Inf found in input tensor.\n",
            "WARNING:tensorboardX.x2num:NaN or Inf found in input tensor.\n",
            "WARNING:tensorboardX.x2num:NaN or Inf found in input tensor.\n",
            "WARNING:tensorboardX.x2num:NaN or Inf found in input tensor.\n"
          ]
        },
        {
          "name": "stdout",
          "output_type": "stream",
          "text": [
            "Epoch 130/131.. Train loss: nan.. Val loss: nan.. Train L1 norm: nan.. Val L1 norm: nan.. Train Linf norm: nan.. Val Linf norm: nan\n"
          ]
        },
        {
          "name": "stderr",
          "output_type": "stream",
          "text": [
            "WARNING:tensorboardX.x2num:NaN or Inf found in input tensor.\n",
            "WARNING:tensorboardX.x2num:NaN or Inf found in input tensor.\n",
            "WARNING:tensorboardX.x2num:NaN or Inf found in input tensor.\n",
            "WARNING:tensorboardX.x2num:NaN or Inf found in input tensor.\n",
            "WARNING:tensorboardX.x2num:NaN or Inf found in input tensor.\n",
            "WARNING:tensorboardX.x2num:NaN or Inf found in input tensor.\n",
            "\u001b[33m[W 2023-05-28 13:05:49,904]\u001b[0m Trial 4 failed with parameters: {'n_layers': 8, 'n_units_0': 3525, 'n_units_1': 2651, 'n_units_2': 467, 'n_units_3': 2206, 'n_units_4': 3978, 'n_units_5': 3672, 'n_units_6': 1622, 'n_units_7': 2107, 'hidden_activation': 'LeakyReLU', 'output_activation': 'Linear', 'loss': 'MSE', 'optimizer': 'SGD', 'lr': 1.0795192561961844e-06, 'batch_size': 64, 'n_epochs': 131, 'scheduler': 'ReduceLROnPlateau', 'leakyrelu_slope': 0.2175346715346918, 'dropout_rate': 0.07073415385492404, 'weight_decay': 0.00019711872799280908, 'momentum': 0.8782763775873857, 'factor': 0.3274168835214398, 'patience': 6, 'threshold': 0.003923481155813342} because of the following error: The value nan is not acceptable..\u001b[0m\n",
            "\u001b[33m[W 2023-05-28 13:05:49,907]\u001b[0m Trial 4 failed with value nan.\u001b[0m\n"
          ]
        },
        {
          "name": "stdout",
          "output_type": "stream",
          "text": [
            "Epoch 131/131.. Train loss: nan.. Val loss: nan.. Train L1 norm: nan.. Val L1 norm: nan.. Train Linf norm: nan.. Val Linf norm: nan\n",
            "Epoch 1/130.. Train loss: 21940575.555.. Val loss: 31.077.. Train L1 norm: 15697465.749.. Val L1 norm: 89.012.. Train Linf norm: 991516015.396.. Val Linf norm: 9999.026\n",
            "Epoch 2/130.. Train loss: 1380391.814.. Val loss: 29.661.. Train L1 norm: 685261.245.. Val L1 norm: 73.477.. Train Linf norm: 39472503.555.. Val Linf norm: 8253.176\n",
            "Epoch 3/130.. Train loss: 1320244.034.. Val loss: 17.919.. Train L1 norm: 597946.002.. Val L1 norm: 31.983.. Train Linf norm: 24367183.281.. Val Linf norm: 3322.499\n",
            "Epoch 4/130.. Train loss: 822205.168.. Val loss: 2437.166.. Train L1 norm: 688963.861.. Val L1 norm: 4980.348.. Train Linf norm: 54124519.288.. Val Linf norm: 573564.656\n",
            "Epoch 5/130.. Train loss: 891747.725.. Val loss: 4.243.. Train L1 norm: 472519.419.. Val L1 norm: 14.543.. Train Linf norm: 22630730.848.. Val Linf norm: 1643.719\n",
            "Epoch 6/130.. Train loss: 1671905.082.. Val loss: 40829.864.. Train L1 norm: 1269466.609.. Val L1 norm: 109824.402.. Train Linf norm: 89934485.670.. Val Linf norm: 12037503.774\n",
            "Epoch 7/130.. Train loss: 532600.886.. Val loss: 321.094.. Train L1 norm: 366645.529.. Val L1 norm: 1306.512.. Train Linf norm: 22963471.995.. Val Linf norm: 154999.825\n",
            "Epoch 8/130.. Train loss: 122461.406.. Val loss: 136.312.. Train L1 norm: 123098.223.. Val L1 norm: 539.309.. Train Linf norm: 9502302.401.. Val Linf norm: 62630.014\n",
            "Epoch 9/130.. Train loss: 1457124.864.. Val loss: 3665.234.. Train L1 norm: 732438.842.. Val L1 norm: 9508.809.. Train Linf norm: 32597296.318.. Val Linf norm: 1095974.439\n",
            "Epoch 10/130.. Train loss: 308717.730.. Val loss: 351.308.. Train L1 norm: 195093.695.. Val L1 norm: 1189.106.. Train Linf norm: 10699120.986.. Val Linf norm: 134399.653\n",
            "Epoch 11/130.. Train loss: 510534.344.. Val loss: 178.587.. Train L1 norm: 444245.185.. Val L1 norm: 635.372.. Train Linf norm: 24505940.587.. Val Linf norm: 72646.132\n",
            "Epoch 12/130.. Train loss: 4615481.840.. Val loss: 308.012.. Train L1 norm: 2250100.409.. Val L1 norm: 1149.840.. Train Linf norm: 108883090.149.. Val Linf norm: 130772.609\n",
            "Epoch 13/130.. Train loss: 2872078.797.. Val loss: 20311.730.. Train L1 norm: 1149534.351.. Val L1 norm: 52651.009.. Train Linf norm: 85249001.746.. Val Linf norm: 5938809.253\n",
            "Epoch 14/130.. Train loss: 1925268.362.. Val loss: 9224.916.. Train L1 norm: 424442.672.. Val L1 norm: 17594.571.. Train Linf norm: 26724618.521.. Val Linf norm: 1972659.322\n",
            "Epoch 15/130.. Train loss: 48391.392.. Val loss: 5.219.. Train L1 norm: 21123.627.. Val L1 norm: 8.125.. Train Linf norm: 1921308.783.. Val Linf norm: 878.213\n",
            "Epoch 16/130.. Train loss: 9497.312.. Val loss: 186.675.. Train L1 norm: 9521.410.. Val L1 norm: 275.731.. Train Linf norm: 1045664.653.. Val Linf norm: 30380.638\n",
            "Epoch 17/130.. Train loss: 30083.689.. Val loss: 10.577.. Train L1 norm: 15383.784.. Val L1 norm: 60.397.. Train Linf norm: 629085.625.. Val Linf norm: 6904.161\n",
            "Epoch 18/130.. Train loss: 5440.193.. Val loss: 49.563.. Train L1 norm: 2301.868.. Val L1 norm: 66.556.. Train Linf norm: 172666.092.. Val Linf norm: 7119.621\n",
            "Epoch 19/130.. Train loss: 3386.304.. Val loss: 451.951.. Train L1 norm: 2284.155.. Val L1 norm: 793.841.. Train Linf norm: 150407.294.. Val Linf norm: 86074.732\n",
            "Epoch 20/130.. Train loss: 8085.876.. Val loss: 14.283.. Train L1 norm: 2317.160.. Val L1 norm: 13.010.. Train Linf norm: 84876.898.. Val Linf norm: 1240.543\n",
            "Epoch 21/130.. Train loss: 2249.831.. Val loss: 22.219.. Train L1 norm: 1319.749.. Val L1 norm: 25.761.. Train Linf norm: 109079.523.. Val Linf norm: 2618.371\n",
            "Epoch 22/130.. Train loss: 4216.179.. Val loss: 223.119.. Train L1 norm: 2421.507.. Val L1 norm: 624.174.. Train Linf norm: 194963.459.. Val Linf norm: 72331.718\n",
            "Epoch 23/130.. Train loss: 13834.089.. Val loss: 6538.107.. Train L1 norm: 5566.983.. Val L1 norm: 18740.679.. Train Linf norm: 419761.423.. Val Linf norm: 2144873.845\n",
            "Epoch 24/130.. Train loss: 6061.595.. Val loss: 24.380.. Train L1 norm: 1784.454.. Val L1 norm: 91.406.. Train Linf norm: 206803.463.. Val Linf norm: 10527.967\n",
            "Epoch 25/130.. Train loss: 522.955.. Val loss: 11.630.. Train L1 norm: 106.216.. Val L1 norm: 5.149.. Train Linf norm: 11579.199.. Val Linf norm: 480.602\n",
            "Epoch 26/130.. Train loss: 519.640.. Val loss: 143.031.. Train L1 norm: 96.153.. Val L1 norm: 430.714.. Train Linf norm: 9718.585.. Val Linf norm: 49818.056\n",
            "Epoch 27/130.. Train loss: 631.698.. Val loss: 19.662.. Train L1 norm: 227.612.. Val L1 norm: 102.814.. Train Linf norm: 19578.287.. Val Linf norm: 11928.486\n",
            "Epoch 28/130.. Train loss: 1029.454.. Val loss: 75.985.. Train L1 norm: 231.251.. Val L1 norm: 280.865.. Train Linf norm: 24172.683.. Val Linf norm: 32734.584\n",
            "Epoch 29/130.. Train loss: 2441.955.. Val loss: 12.856.. Train L1 norm: 482.292.. Val L1 norm: 9.293.. Train Linf norm: 46692.334.. Val Linf norm: 930.708\n",
            "Epoch 30/130.. Train loss: 9075.027.. Val loss: 30.865.. Train L1 norm: 1032.715.. Val L1 norm: 118.765.. Train Linf norm: 119372.875.. Val Linf norm: 13855.986\n",
            "Epoch 31/130.. Train loss: 1199.513.. Val loss: 24.423.. Train L1 norm: 376.643.. Val L1 norm: 89.705.. Train Linf norm: 42732.854.. Val Linf norm: 10483.311\n",
            "Epoch 32/130.. Train loss: 7048.513.. Val loss: 6.548.. Train L1 norm: 612.109.. Val L1 norm: 10.366.. Train Linf norm: 69040.735.. Val Linf norm: 1135.256\n",
            "Epoch 33/130.. Train loss: 368.124.. Val loss: 6.398.. Train L1 norm: 107.117.. Val L1 norm: 29.553.. Train Linf norm: 11842.940.. Val Linf norm: 3428.772\n",
            "Epoch 34/130.. Train loss: 325.329.. Val loss: 10.425.. Train L1 norm: 98.047.. Val L1 norm: 52.486.. Train Linf norm: 11315.358.. Val Linf norm: 6128.970\n",
            "Epoch 35/130.. Train loss: 2682.014.. Val loss: 6.443.. Train L1 norm: 210.506.. Val L1 norm: 13.891.. Train Linf norm: 25847.993.. Val Linf norm: 1543.559\n",
            "Epoch 36/130.. Train loss: 115.041.. Val loss: 5.974.. Train L1 norm: 40.123.. Val L1 norm: 19.192.. Train Linf norm: 4458.785.. Val Linf norm: 2176.442\n",
            "Epoch 37/130.. Train loss: 104.405.. Val loss: 5.169.. Train L1 norm: 68.130.. Val L1 norm: 22.429.. Train Linf norm: 7917.334.. Val Linf norm: 2565.128\n",
            "Epoch 38/130.. Train loss: 288.642.. Val loss: 3.913.. Train L1 norm: 177.140.. Val L1 norm: 29.424.. Train Linf norm: 22010.852.. Val Linf norm: 3408.047\n",
            "Epoch 39/130.. Train loss: 262.776.. Val loss: 3.957.. Train L1 norm: 56.103.. Val L1 norm: 20.563.. Train Linf norm: 6518.095.. Val Linf norm: 2362.170\n",
            "Epoch 40/130.. Train loss: 2717.336.. Val loss: 3.902.. Train L1 norm: 298.339.. Val L1 norm: 24.796.. Train Linf norm: 37670.707.. Val Linf norm: 2862.678\n",
            "Epoch 41/130.. Train loss: 38.755.. Val loss: 5.094.. Train L1 norm: 15.245.. Val L1 norm: 34.890.. Train Linf norm: 1540.191.. Val Linf norm: 4052.355\n",
            "Epoch 42/130.. Train loss: 1052.151.. Val loss: 5.500.. Train L1 norm: 98.896.. Val L1 norm: 35.507.. Train Linf norm: 11523.630.. Val Linf norm: 4125.709\n",
            "Epoch 43/130.. Train loss: 301.754.. Val loss: 5.779.. Train L1 norm: 122.185.. Val L1 norm: 38.082.. Train Linf norm: 15056.672.. Val Linf norm: 4426.786\n",
            "Epoch 44/130.. Train loss: 864.455.. Val loss: 5.914.. Train L1 norm: 102.735.. Val L1 norm: 36.868.. Train Linf norm: 12393.168.. Val Linf norm: 4287.187\n",
            "Epoch 45/130.. Train loss: 86.471.. Val loss: 5.401.. Train L1 norm: 32.742.. Val L1 norm: 28.045.. Train Linf norm: 3352.796.. Val Linf norm: 3252.385\n",
            "Epoch 46/130.. Train loss: 148.427.. Val loss: 4.023.. Train L1 norm: 48.497.. Val L1 norm: 17.774.. Train Linf norm: 5772.233.. Val Linf norm: 2029.517\n",
            "Epoch 47/130.. Train loss: 219.437.. Val loss: 3.851.. Train L1 norm: 73.742.. Val L1 norm: 22.727.. Train Linf norm: 9006.677.. Val Linf norm: 2618.454\n",
            "Epoch 48/130.. Train loss: 370.856.. Val loss: 4.052.. Train L1 norm: 57.834.. Val L1 norm: 25.283.. Train Linf norm: 6846.706.. Val Linf norm: 2920.451\n",
            "Epoch 49/130.. Train loss: 304.782.. Val loss: 4.458.. Train L1 norm: 47.579.. Val L1 norm: 21.985.. Train Linf norm: 5708.442.. Val Linf norm: 2521.288\n",
            "Epoch 50/130.. Train loss: 52.814.. Val loss: 3.965.. Train L1 norm: 28.716.. Val L1 norm: 26.780.. Train Linf norm: 3217.422.. Val Linf norm: 3097.345\n",
            "Epoch 51/130.. Train loss: 1891.055.. Val loss: 5.529.. Train L1 norm: 138.592.. Val L1 norm: 15.070.. Train Linf norm: 17314.695.. Val Linf norm: 1688.820\n",
            "Epoch 52/130.. Train loss: 662.379.. Val loss: 5.046.. Train L1 norm: 59.602.. Val L1 norm: 36.851.. Train Linf norm: 6979.164.. Val Linf norm: 4284.268\n",
            "Epoch 53/130.. Train loss: 526.176.. Val loss: 7.401.. Train L1 norm: 79.175.. Val L1 norm: 48.791.. Train Linf norm: 9454.077.. Val Linf norm: 5695.541\n",
            "Epoch 54/130.. Train loss: 78.021.. Val loss: 7.462.. Train L1 norm: 60.579.. Val L1 norm: 3.705.. Train Linf norm: 6918.287.. Val Linf norm: 294.768\n",
            "Epoch 55/130.. Train loss: 786.529.. Val loss: 3.881.. Train L1 norm: 66.770.. Val L1 norm: 25.144.. Train Linf norm: 7794.561.. Val Linf norm: 2904.312\n",
            "Epoch 56/130.. Train loss: 2237.008.. Val loss: 66.211.. Train L1 norm: 200.410.. Val L1 norm: 238.986.. Train Linf norm: 24519.250.. Val Linf norm: 27967.196\n",
            "Epoch 57/130.. Train loss: 202.054.. Val loss: 4.449.. Train L1 norm: 48.402.. Val L1 norm: 20.381.. Train Linf norm: 5256.024.. Val Linf norm: 2330.250\n",
            "Epoch 58/130.. Train loss: 375.850.. Val loss: 4.806.. Train L1 norm: 76.761.. Val L1 norm: 34.314.. Train Linf norm: 9329.413.. Val Linf norm: 3988.004\n",
            "Epoch 59/130.. Train loss: 57.395.. Val loss: 6.335.. Train L1 norm: 59.798.. Val L1 norm: 5.883.. Train Linf norm: 7233.599.. Val Linf norm: 580.619\n",
            "Epoch 60/130.. Train loss: 51.680.. Val loss: 4.334.. Train L1 norm: 46.909.. Val L1 norm: 29.041.. Train Linf norm: 5609.599.. Val Linf norm: 3366.646\n",
            "Epoch 61/130.. Train loss: 216.104.. Val loss: 4.199.. Train L1 norm: 52.142.. Val L1 norm: 27.579.. Train Linf norm: 6306.119.. Val Linf norm: 3193.214\n",
            "Epoch 62/130.. Train loss: 102.270.. Val loss: 3.922.. Train L1 norm: 23.651.. Val L1 norm: 23.548.. Train Linf norm: 2637.648.. Val Linf norm: 2713.592\n",
            "Epoch 63/130.. Train loss: 65.399.. Val loss: 4.314.. Train L1 norm: 19.859.. Val L1 norm: 30.203.. Train Linf norm: 2134.056.. Val Linf norm: 3502.545\n",
            "Epoch 64/130.. Train loss: 22.143.. Val loss: 3.933.. Train L1 norm: 22.458.. Val L1 norm: 23.948.. Train Linf norm: 2501.618.. Val Linf norm: 2760.546\n",
            "Epoch 65/130.. Train loss: 21.008.. Val loss: 5.218.. Train L1 norm: 21.140.. Val L1 norm: 13.910.. Train Linf norm: 2324.442.. Val Linf norm: 1551.064\n",
            "Epoch 66/130.. Train loss: 37.471.. Val loss: 4.470.. Train L1 norm: 358.616.. Val L1 norm: 31.431.. Train Linf norm: 45531.164.. Val Linf norm: 3647.874\n",
            "Epoch 67/130.. Train loss: 16.494.. Val loss: 4.180.. Train L1 norm: 13.364.. Val L1 norm: 28.049.. Train Linf norm: 1362.194.. Val Linf norm: 3248.713\n",
            "Epoch 68/130.. Train loss: 17.429.. Val loss: 4.196.. Train L1 norm: 21.649.. Val L1 norm: 20.154.. Train Linf norm: 2390.712.. Val Linf norm: 2307.395\n",
            "Epoch 69/130.. Train loss: 25.139.. Val loss: 3.905.. Train L1 norm: 26.858.. Val L1 norm: 22.381.. Train Linf norm: 3082.615.. Val Linf norm: 2576.141\n",
            "Epoch 70/130.. Train loss: 17.049.. Val loss: 4.025.. Train L1 norm: 78.428.. Val L1 norm: 21.503.. Train Linf norm: 9709.370.. Val Linf norm: 2469.981\n",
            "Epoch 71/130.. Train loss: 22.419.. Val loss: 3.925.. Train L1 norm: 103.257.. Val L1 norm: 22.418.. Train Linf norm: 12868.993.. Val Linf norm: 2580.079\n",
            "Epoch 72/130.. Train loss: 14.954.. Val loss: 3.945.. Train L1 norm: 17.940.. Val L1 norm: 25.284.. Train Linf norm: 1953.703.. Val Linf norm: 2921.172\n",
            "Epoch 73/130.. Train loss: 14.962.. Val loss: 4.484.. Train L1 norm: 26.894.. Val L1 norm: 18.216.. Train Linf norm: 3101.390.. Val Linf norm: 2073.324\n",
            "Epoch 74/130.. Train loss: 24.777.. Val loss: 3.824.. Train L1 norm: 27.070.. Val L1 norm: 23.718.. Train Linf norm: 3115.217.. Val Linf norm: 2735.910\n",
            "Epoch 75/130.. Train loss: 11.384.. Val loss: 4.414.. Train L1 norm: 26.450.. Val L1 norm: 18.837.. Train Linf norm: 3065.587.. Val Linf norm: 2147.959\n",
            "Epoch 76/130.. Train loss: 31.398.. Val loss: 4.060.. Train L1 norm: 17.489.. Val L1 norm: 27.195.. Train Linf norm: 1885.023.. Val Linf norm: 3147.305\n",
            "Epoch 77/130.. Train loss: 12.486.. Val loss: 4.312.. Train L1 norm: 16.016.. Val L1 norm: 29.610.. Train Linf norm: 1710.909.. Val Linf norm: 3433.733\n",
            "Epoch 78/130.. Train loss: 14.085.. Val loss: 3.845.. Train L1 norm: 15.799.. Val L1 norm: 23.720.. Train Linf norm: 1682.927.. Val Linf norm: 2735.518\n",
            "Epoch 79/130.. Train loss: 22.194.. Val loss: 3.844.. Train L1 norm: 27.147.. Val L1 norm: 24.064.. Train Linf norm: 3137.015.. Val Linf norm: 2776.912\n",
            "Epoch 80/130.. Train loss: 12.240.. Val loss: 4.170.. Train L1 norm: 19.042.. Val L1 norm: 20.688.. Train Linf norm: 2101.112.. Val Linf norm: 2371.072\n",
            "Epoch 81/130.. Train loss: 37.969.. Val loss: 4.466.. Train L1 norm: 16.553.. Val L1 norm: 31.250.. Train Linf norm: 1773.096.. Val Linf norm: 3628.013\n",
            "Epoch 82/130.. Train loss: 13.063.. Val loss: 3.903.. Train L1 norm: 16.083.. Val L1 norm: 25.400.. Train Linf norm: 1728.703.. Val Linf norm: 2934.663\n",
            "Epoch 83/130.. Train loss: 13.500.. Val loss: 3.988.. Train L1 norm: 19.332.. Val L1 norm: 22.702.. Train Linf norm: 2145.228.. Val Linf norm: 2612.192\n",
            "Epoch 84/130.. Train loss: 17.817.. Val loss: 3.890.. Train L1 norm: 26.355.. Val L1 norm: 25.425.. Train Linf norm: 3042.138.. Val Linf norm: 2937.679\n",
            "Epoch 85/130.. Train loss: 11.862.. Val loss: 3.910.. Train L1 norm: 13.327.. Val L1 norm: 23.456.. Train Linf norm: 1374.490.. Val Linf norm: 2702.844\n",
            "Epoch 86/130.. Train loss: 11.890.. Val loss: 3.971.. Train L1 norm: 12.211.. Val L1 norm: 23.055.. Train Linf norm: 1235.290.. Val Linf norm: 2654.158\n",
            "Epoch 87/130.. Train loss: 8.815.. Val loss: 4.130.. Train L1 norm: 14.634.. Val L1 norm: 28.270.. Train Linf norm: 1546.041.. Val Linf norm: 3274.844\n",
            "Epoch 88/130.. Train loss: 10.421.. Val loss: 3.883.. Train L1 norm: 17.492.. Val L1 norm: 23.859.. Train Linf norm: 1903.442.. Val Linf norm: 2750.957\n",
            "Epoch 89/130.. Train loss: 139.161.. Val loss: 4.045.. Train L1 norm: 45.614.. Val L1 norm: 22.468.. Train Linf norm: 5495.891.. Val Linf norm: 2583.392\n",
            "Epoch 90/130.. Train loss: 13.897.. Val loss: 4.098.. Train L1 norm: 15.015.. Val L1 norm: 27.973.. Train Linf norm: 1590.496.. Val Linf norm: 3239.698\n",
            "Epoch 91/130.. Train loss: 10.248.. Val loss: 3.913.. Train L1 norm: 11.178.. Val L1 norm: 25.922.. Train Linf norm: 1098.286.. Val Linf norm: 2996.499\n",
            "Epoch 92/130.. Train loss: 14.255.. Val loss: 4.069.. Train L1 norm: 18.778.. Val L1 norm: 22.266.. Train Linf norm: 2068.343.. Val Linf norm: 2559.097\n",
            "Epoch 93/130.. Train loss: 9.860.. Val loss: 3.875.. Train L1 norm: 17.430.. Val L1 norm: 25.446.. Train Linf norm: 1893.010.. Val Linf norm: 2940.131\n",
            "Epoch 94/130.. Train loss: 13.688.. Val loss: 3.860.. Train L1 norm: 58.283.. Val L1 norm: 24.146.. Train Linf norm: 7127.116.. Val Linf norm: 2785.435\n",
            "Epoch 95/130.. Train loss: 13.256.. Val loss: 3.821.. Train L1 norm: 14.444.. Val L1 norm: 24.631.. Train Linf norm: 1517.580.. Val Linf norm: 2843.736\n",
            "Epoch 96/130.. Train loss: 11.737.. Val loss: 3.853.. Train L1 norm: 24.700.. Val L1 norm: 25.184.. Train Linf norm: 2832.080.. Val Linf norm: 2909.113\n",
            "Epoch 97/130.. Train loss: 8.938.. Val loss: 3.964.. Train L1 norm: 23.904.. Val L1 norm: 23.194.. Train Linf norm: 2733.081.. Val Linf norm: 2670.752\n",
            "Epoch 98/130.. Train loss: 13.978.. Val loss: 3.937.. Train L1 norm: 25.685.. Val L1 norm: 23.458.. Train Linf norm: 2968.448.. Val Linf norm: 2702.431\n",
            "Epoch 99/130.. Train loss: 9.913.. Val loss: 3.937.. Train L1 norm: 12.458.. Val L1 norm: 26.261.. Train Linf norm: 1256.980.. Val Linf norm: 3036.614\n",
            "Epoch 100/130.. Train loss: 43.474.. Val loss: 3.836.. Train L1 norm: 27.177.. Val L1 norm: 24.474.. Train Linf norm: 3139.108.. Val Linf norm: 2824.756\n",
            "Epoch 101/130.. Train loss: 8.180.. Val loss: 3.912.. Train L1 norm: 9.124.. Val L1 norm: 23.696.. Train Linf norm: 836.013.. Val Linf norm: 2731.107\n",
            "Epoch 102/130.. Train loss: 9.404.. Val loss: 3.897.. Train L1 norm: 11.930.. Val L1 norm: 25.796.. Train Linf norm: 1197.893.. Val Linf norm: 2981.591\n",
            "Epoch 103/130.. Train loss: 10.214.. Val loss: 3.852.. Train L1 norm: 20.111.. Val L1 norm: 25.228.. Train Linf norm: 2240.988.. Val Linf norm: 2914.379\n",
            "Epoch 104/130.. Train loss: 8.722.. Val loss: 3.819.. Train L1 norm: 12.752.. Val L1 norm: 24.753.. Train Linf norm: 1289.051.. Val Linf norm: 2858.257\n",
            "Epoch 105/130.. Train loss: 10.739.. Val loss: 3.820.. Train L1 norm: 12.343.. Val L1 norm: 24.717.. Train Linf norm: 1240.263.. Val Linf norm: 2853.948\n",
            "Epoch 106/130.. Train loss: 8.961.. Val loss: 3.877.. Train L1 norm: 18.099.. Val L1 norm: 24.035.. Train Linf norm: 1992.081.. Val Linf norm: 2771.898\n",
            "Epoch 107/130.. Train loss: 31.255.. Val loss: 3.841.. Train L1 norm: 26.068.. Val L1 norm: 25.080.. Train Linf norm: 3006.169.. Val Linf norm: 2896.826\n",
            "Epoch 108/130.. Train loss: 10.282.. Val loss: 3.850.. Train L1 norm: 14.908.. Val L1 norm: 24.317.. Train Linf norm: 1574.255.. Val Linf norm: 2805.854\n",
            "Epoch 109/130.. Train loss: 12.139.. Val loss: 3.874.. Train L1 norm: 25.703.. Val L1 norm: 24.066.. Train Linf norm: 2951.325.. Val Linf norm: 2775.650\n",
            "Epoch 110/130.. Train loss: 8.587.. Val loss: 3.831.. Train L1 norm: 23.802.. Val L1 norm: 24.966.. Train Linf norm: 2710.715.. Val Linf norm: 2883.413\n",
            "Epoch 111/130.. Train loss: 12.619.. Val loss: 3.823.. Train L1 norm: 32.618.. Val L1 norm: 24.841.. Train Linf norm: 3832.061.. Val Linf norm: 2868.561\n",
            "Epoch 112/130.. Train loss: 9.202.. Val loss: 3.823.. Train L1 norm: 11.713.. Val L1 norm: 24.674.. Train Linf norm: 1167.926.. Val Linf norm: 2848.786\n",
            "Epoch 113/130.. Train loss: 9.309.. Val loss: 3.849.. Train L1 norm: 10.128.. Val L1 norm: 25.211.. Train Linf norm: 964.045.. Val Linf norm: 2912.373\n",
            "Epoch 114/130.. Train loss: 9.600.. Val loss: 3.861.. Train L1 norm: 30.781.. Val L1 norm: 25.364.. Train Linf norm: 3605.527.. Val Linf norm: 2930.461\n",
            "Epoch 115/130.. Train loss: 8.941.. Val loss: 3.829.. Train L1 norm: 32.622.. Val L1 norm: 24.586.. Train Linf norm: 3846.733.. Val Linf norm: 2838.092\n",
            "Epoch 116/130.. Train loss: 13.833.. Val loss: 3.872.. Train L1 norm: 15.512.. Val L1 norm: 25.508.. Train Linf norm: 1648.704.. Val Linf norm: 2947.485\n",
            "Epoch 117/130.. Train loss: 50.804.. Val loss: 3.845.. Train L1 norm: 16.664.. Val L1 norm: 25.166.. Train Linf norm: 1794.106.. Val Linf norm: 2907.044\n",
            "Epoch 118/130.. Train loss: 7.873.. Val loss: 3.822.. Train L1 norm: 12.098.. Val L1 norm: 24.717.. Train Linf norm: 1213.991.. Val Linf norm: 2853.831\n",
            "Epoch 119/130.. Train loss: 12.010.. Val loss: 3.830.. Train L1 norm: 20.369.. Val L1 norm: 24.970.. Train Linf norm: 2273.563.. Val Linf norm: 2883.812\n",
            "Epoch 120/130.. Train loss: 10.658.. Val loss: 3.832.. Train L1 norm: 12.502.. Val L1 norm: 24.991.. Train Linf norm: 1266.114.. Val Linf norm: 2886.331\n",
            "Epoch 121/130.. Train loss: 9.874.. Val loss: 3.832.. Train L1 norm: 16.043.. Val L1 norm: 24.999.. Train Linf norm: 1719.830.. Val Linf norm: 2887.287\n",
            "Epoch 122/130.. Train loss: 10.667.. Val loss: 3.837.. Train L1 norm: 12.686.. Val L1 norm: 25.070.. Train Linf norm: 1289.965.. Val Linf norm: 2895.628\n",
            "Epoch 123/130.. Train loss: 10.038.. Val loss: 3.845.. Train L1 norm: 11.339.. Val L1 norm: 25.165.. Train Linf norm: 1113.783.. Val Linf norm: 2906.858\n",
            "Epoch 124/130.. Train loss: 8.589.. Val loss: 3.833.. Train L1 norm: 11.568.. Val L1 norm: 25.015.. Train Linf norm: 1148.369.. Val Linf norm: 2889.110\n",
            "Epoch 125/130.. Train loss: 12.266.. Val loss: 3.855.. Train L1 norm: 11.196.. Val L1 norm: 25.299.. Train Linf norm: 1098.553.. Val Linf norm: 2922.697\n",
            "Epoch 126/130.. Train loss: 9.080.. Val loss: 3.838.. Train L1 norm: 11.542.. Val L1 norm: 25.081.. Train Linf norm: 1141.742.. Val Linf norm: 2896.991\n",
            "Epoch 127/130.. Train loss: 10.601.. Val loss: 3.840.. Train L1 norm: 20.600.. Val L1 norm: 25.113.. Train Linf norm: 2299.521.. Val Linf norm: 2900.746\n",
            "Epoch 128/130.. Train loss: 10.461.. Val loss: 3.841.. Train L1 norm: 11.666.. Val L1 norm: 25.129.. Train Linf norm: 1157.310.. Val Linf norm: 2902.605\n",
            "Epoch 129/130.. Train loss: 7.663.. Val loss: 3.844.. Train L1 norm: 15.807.. Val L1 norm: 25.167.. Train Linf norm: 1687.281.. Val Linf norm: 2907.098\n"
          ]
        },
        {
          "name": "stderr",
          "output_type": "stream",
          "text": [
            "\u001b[32m[I 2023-05-28 14:31:30,672]\u001b[0m Trial 5 finished with value: 25.146856612675986 and parameters: {'n_layers': 8, 'n_units_0': 174, 'n_units_1': 2834, 'n_units_2': 1764, 'n_units_3': 323, 'n_units_4': 735, 'n_units_5': 3196, 'n_units_6': 213, 'n_units_7': 2050, 'hidden_activation': 'PReLU', 'output_activation': 'Linear', 'loss': 'Huber', 'optimizer': 'RMSprop', 'lr': 0.006019630052666345, 'batch_size': 128, 'n_epochs': 130, 'scheduler': 'ReduceLROnPlateau', 'prelu_init': 0.1656094190022332, 'dropout_rate': 0.48844616074385305, 'factor': 0.34436867882233235, 'patience': 8, 'threshold': 0.0017610963557069272}. Best is trial 1 with value: 15.73720683245341.\u001b[0m\n"
          ]
        },
        {
          "name": "stdout",
          "output_type": "stream",
          "text": [
            "Epoch 130/130.. Train loss: 10.522.. Val loss: 3.843.. Train L1 norm: 11.906.. Val L1 norm: 25.147.. Train Linf norm: 1184.507.. Val Linf norm: 2904.742\n"
          ]
        },
        {
          "name": "stderr",
          "output_type": "stream",
          "text": [
            "<ipython-input-37-ddc3c9d46736>:73: FutureWarning: suggest_uniform has been deprecated in v3.0.0. This feature will be removed in v6.0.0. See https://github.com/optuna/optuna/releases/tag/v3.0.0. Use :func:`~optuna.trial.Trial.suggest_float` instead.\n",
            "  beta = trial.suggest_uniform(\"softplus_beta\", 0.5, 1.5)\n",
            "\u001b[32m[I 2023-05-28 14:31:52,591]\u001b[0m Trial 6 pruned. \u001b[0m\n"
          ]
        },
        {
          "name": "stdout",
          "output_type": "stream",
          "text": [
            "Epoch 1/76.. Train loss: 50.047.. Val loss: 3.681.. Train L1 norm: 36.880.. Val L1 norm: 21.633.. Train Linf norm: 1445.362.. Val Linf norm: 2512.272\n",
            "Epoch 1/135.. Train loss: 89019.399.. Val loss: 262.963.. Train L1 norm: 11.489.. Val L1 norm: 6.004.. Train Linf norm: 4035.025.. Val Linf norm: 2400.845\n",
            "Epoch 2/135.. Train loss: 150634.600.. Val loss: 4314.960.. Train L1 norm: 7.169.. Val L1 norm: 15.706.. Train Linf norm: 2141.158.. Val Linf norm: 6953.822\n",
            "Epoch 3/135.. Train loss: 699006.338.. Val loss: 16003.595.. Train L1 norm: 11.927.. Val L1 norm: 7.212.. Train Linf norm: 4647.324.. Val Linf norm: 2614.848\n",
            "Epoch 4/135.. Train loss: 598789.002.. Val loss: 591.744.. Train L1 norm: 6.144.. Val L1 norm: 4.826.. Train Linf norm: 1699.760.. Val Linf norm: 1761.071\n",
            "Epoch 5/135.. Train loss: 57215.063.. Val loss: 23678.065.. Train L1 norm: 3.548.. Val L1 norm: 39.069.. Train Linf norm: 829.765.. Val Linf norm: 17599.646\n",
            "Epoch 6/135.. Train loss: 39223.874.. Val loss: 1569.984.. Train L1 norm: 4.918.. Val L1 norm: 5.284.. Train Linf norm: 1192.654.. Val Linf norm: 2002.408\n",
            "Epoch 7/135.. Train loss: 459134.677.. Val loss: 1138.657.. Train L1 norm: 5.771.. Val L1 norm: 12.283.. Train Linf norm: 1760.795.. Val Linf norm: 5213.117\n",
            "Epoch 8/135.. Train loss: 22907.199.. Val loss: 74.860.. Train L1 norm: 4.103.. Val L1 norm: 6.875.. Train Linf norm: 1138.737.. Val Linf norm: 2765.213\n",
            "Epoch 9/135.. Train loss: 2315.705.. Val loss: 794.812.. Train L1 norm: 2.614.. Val L1 norm: 2.201.. Train Linf norm: 562.301.. Val Linf norm: 495.160\n",
            "Epoch 10/135.. Train loss: 7465.683.. Val loss: 155.396.. Train L1 norm: 3.543.. Val L1 norm: 5.740.. Train Linf norm: 966.852.. Val Linf norm: 2232.034\n",
            "Epoch 11/135.. Train loss: 3217.147.. Val loss: 305.141.. Train L1 norm: 3.175.. Val L1 norm: 5.406.. Train Linf norm: 782.329.. Val Linf norm: 2097.550\n",
            "Epoch 12/135.. Train loss: 1342.528.. Val loss: 126.808.. Train L1 norm: 3.115.. Val L1 norm: 10.037.. Train Linf norm: 775.099.. Val Linf norm: 4253.412\n",
            "Epoch 13/135.. Train loss: 2599.189.. Val loss: 154.648.. Train L1 norm: 3.582.. Val L1 norm: 10.163.. Train Linf norm: 963.060.. Val Linf norm: 4389.140\n",
            "Epoch 14/135.. Train loss: 7952.471.. Val loss: 122.125.. Train L1 norm: 3.456.. Val L1 norm: 9.505.. Train Linf norm: 896.761.. Val Linf norm: 4077.783\n",
            "Epoch 15/135.. Train loss: 1533.905.. Val loss: 78.214.. Train L1 norm: 3.562.. Val L1 norm: 9.896.. Train Linf norm: 962.408.. Val Linf norm: 4247.535\n",
            "Epoch 16/135.. Train loss: 948.954.. Val loss: 56.196.. Train L1 norm: 3.684.. Val L1 norm: 10.508.. Train Linf norm: 998.975.. Val Linf norm: 4533.796\n",
            "Epoch 17/135.. Train loss: 916.855.. Val loss: 56.121.. Train L1 norm: 3.797.. Val L1 norm: 10.534.. Train Linf norm: 1028.475.. Val Linf norm: 4543.363\n",
            "Epoch 18/135.. Train loss: 583.148.. Val loss: 76.803.. Train L1 norm: 3.681.. Val L1 norm: 9.814.. Train Linf norm: 994.232.. Val Linf norm: 4200.021\n",
            "Epoch 19/135.. Train loss: 1553.567.. Val loss: 52.612.. Train L1 norm: 3.920.. Val L1 norm: 10.430.. Train Linf norm: 1092.544.. Val Linf norm: 4479.552\n",
            "Epoch 20/135.. Train loss: 430.641.. Val loss: 53.376.. Train L1 norm: 3.851.. Val L1 norm: 10.444.. Train Linf norm: 1040.081.. Val Linf norm: 4486.769\n",
            "Epoch 21/135.. Train loss: 780.683.. Val loss: 62.232.. Train L1 norm: 3.793.. Val L1 norm: 10.087.. Train Linf norm: 1035.501.. Val Linf norm: 4320.340\n",
            "Epoch 22/135.. Train loss: 1120.888.. Val loss: 65.581.. Train L1 norm: 3.693.. Val L1 norm: 9.982.. Train Linf norm: 986.572.. Val Linf norm: 4271.177\n",
            "Epoch 23/135.. Train loss: 7589.989.. Val loss: 65.267.. Train L1 norm: 3.678.. Val L1 norm: 9.979.. Train Linf norm: 988.923.. Val Linf norm: 4268.639\n",
            "Epoch 24/135.. Train loss: 453.859.. Val loss: 62.914.. Train L1 norm: 3.520.. Val L1 norm: 10.054.. Train Linf norm: 903.079.. Val Linf norm: 4303.852\n",
            "Epoch 25/135.. Train loss: 186.565.. Val loss: 68.845.. Train L1 norm: 3.662.. Val L1 norm: 9.880.. Train Linf norm: 972.198.. Val Linf norm: 4222.241\n",
            "Epoch 26/135.. Train loss: 515.553.. Val loss: 65.982.. Train L1 norm: 3.719.. Val L1 norm: 9.970.. Train Linf norm: 1002.481.. Val Linf norm: 4264.229\n",
            "Epoch 27/135.. Train loss: 564.078.. Val loss: 63.471.. Train L1 norm: 3.650.. Val L1 norm: 10.043.. Train Linf norm: 957.577.. Val Linf norm: 4298.031\n",
            "Epoch 28/135.. Train loss: 1057.699.. Val loss: 66.741.. Train L1 norm: 3.747.. Val L1 norm: 9.948.. Train Linf norm: 1018.738.. Val Linf norm: 4253.113\n",
            "Epoch 29/135.. Train loss: 3827.065.. Val loss: 67.128.. Train L1 norm: 3.697.. Val L1 norm: 9.937.. Train Linf norm: 980.328.. Val Linf norm: 4247.860\n",
            "Epoch 30/135.. Train loss: 2882.583.. Val loss: 66.744.. Train L1 norm: 3.705.. Val L1 norm: 9.946.. Train Linf norm: 997.607.. Val Linf norm: 4251.982\n",
            "Epoch 31/135.. Train loss: 2953.734.. Val loss: 66.692.. Train L1 norm: 3.726.. Val L1 norm: 9.945.. Train Linf norm: 1000.560.. Val Linf norm: 4251.462\n",
            "Epoch 32/135.. Train loss: 3496.703.. Val loss: 66.093.. Train L1 norm: 3.657.. Val L1 norm: 9.962.. Train Linf norm: 973.360.. Val Linf norm: 4259.190\n",
            "Epoch 33/135.. Train loss: 306.689.. Val loss: 65.842.. Train L1 norm: 3.776.. Val L1 norm: 9.969.. Train Linf norm: 1030.631.. Val Linf norm: 4262.613\n",
            "Epoch 34/135.. Train loss: 1180.279.. Val loss: 65.751.. Train L1 norm: 3.799.. Val L1 norm: 9.972.. Train Linf norm: 1044.174.. Val Linf norm: 4263.708\n",
            "Epoch 35/135.. Train loss: 4197.718.. Val loss: 66.209.. Train L1 norm: 3.408.. Val L1 norm: 9.958.. Train Linf norm: 844.732.. Val Linf norm: 4257.260\n",
            "Epoch 36/135.. Train loss: 922.426.. Val loss: 66.266.. Train L1 norm: 3.551.. Val L1 norm: 9.956.. Train Linf norm: 917.778.. Val Linf norm: 4256.307\n",
            "Epoch 37/135.. Train loss: 3144.731.. Val loss: 66.198.. Train L1 norm: 3.948.. Val L1 norm: 9.958.. Train Linf norm: 1114.243.. Val Linf norm: 4257.129\n",
            "Epoch 38/135.. Train loss: 3685.834.. Val loss: 66.236.. Train L1 norm: 3.594.. Val L1 norm: 9.957.. Train Linf norm: 936.659.. Val Linf norm: 4256.605\n",
            "Epoch 39/135.. Train loss: 1418.492.. Val loss: 66.208.. Train L1 norm: 3.492.. Val L1 norm: 9.957.. Train Linf norm: 888.514.. Val Linf norm: 4256.987\n",
            "Epoch 40/135.. Train loss: 6167.487.. Val loss: 66.190.. Train L1 norm: 3.594.. Val L1 norm: 9.958.. Train Linf norm: 945.828.. Val Linf norm: 4257.338\n",
            "Epoch 41/135.. Train loss: 406.491.. Val loss: 66.178.. Train L1 norm: 3.657.. Val L1 norm: 9.958.. Train Linf norm: 978.827.. Val Linf norm: 4257.502\n",
            "Epoch 42/135.. Train loss: 741.901.. Val loss: 66.113.. Train L1 norm: 3.595.. Val L1 norm: 9.960.. Train Linf norm: 934.434.. Val Linf norm: 4258.439\n",
            "Epoch 43/135.. Train loss: 671.678.. Val loss: 66.112.. Train L1 norm: 3.501.. Val L1 norm: 9.960.. Train Linf norm: 893.247.. Val Linf norm: 4258.436\n",
            "Epoch 44/135.. Train loss: 493.355.. Val loss: 66.105.. Train L1 norm: 3.634.. Val L1 norm: 9.961.. Train Linf norm: 964.818.. Val Linf norm: 4258.541\n",
            "Epoch 45/135.. Train loss: 1079.918.. Val loss: 66.103.. Train L1 norm: 3.727.. Val L1 norm: 9.961.. Train Linf norm: 1009.928.. Val Linf norm: 4258.569\n",
            "Epoch 46/135.. Train loss: 744.567.. Val loss: 66.099.. Train L1 norm: 3.825.. Val L1 norm: 9.961.. Train Linf norm: 1054.379.. Val Linf norm: 4258.637\n",
            "Epoch 47/135.. Train loss: 349.993.. Val loss: 66.104.. Train L1 norm: 3.644.. Val L1 norm: 9.961.. Train Linf norm: 966.283.. Val Linf norm: 4258.543\n",
            "Epoch 48/135.. Train loss: 3276.154.. Val loss: 66.106.. Train L1 norm: 3.734.. Val L1 norm: 9.961.. Train Linf norm: 1012.754.. Val Linf norm: 4258.509\n",
            "Epoch 49/135.. Train loss: 288.080.. Val loss: 66.104.. Train L1 norm: 3.598.. Val L1 norm: 9.961.. Train Linf norm: 940.544.. Val Linf norm: 4258.538\n",
            "Epoch 50/135.. Train loss: 1181.044.. Val loss: 66.104.. Train L1 norm: 3.713.. Val L1 norm: 9.961.. Train Linf norm: 1001.314.. Val Linf norm: 4258.538\n",
            "Epoch 51/135.. Train loss: 1850.353.. Val loss: 66.104.. Train L1 norm: 3.696.. Val L1 norm: 9.961.. Train Linf norm: 995.047.. Val Linf norm: 4258.538\n",
            "Epoch 52/135.. Train loss: 1033.710.. Val loss: 66.105.. Train L1 norm: 3.753.. Val L1 norm: 9.961.. Train Linf norm: 1018.711.. Val Linf norm: 4258.536\n",
            "Epoch 53/135.. Train loss: 4566.278.. Val loss: 66.104.. Train L1 norm: 3.799.. Val L1 norm: 9.961.. Train Linf norm: 1033.695.. Val Linf norm: 4258.538\n",
            "Epoch 54/135.. Train loss: 1155.749.. Val loss: 66.105.. Train L1 norm: 3.756.. Val L1 norm: 9.961.. Train Linf norm: 1024.646.. Val Linf norm: 4258.536\n",
            "Epoch 55/135.. Train loss: 1041.319.. Val loss: 66.105.. Train L1 norm: 3.723.. Val L1 norm: 9.961.. Train Linf norm: 998.061.. Val Linf norm: 4258.534\n",
            "Epoch 56/135.. Train loss: 4361.841.. Val loss: 66.105.. Train L1 norm: 3.677.. Val L1 norm: 9.961.. Train Linf norm: 987.034.. Val Linf norm: 4258.532\n",
            "Epoch 57/135.. Train loss: 2923.714.. Val loss: 66.105.. Train L1 norm: 3.811.. Val L1 norm: 9.961.. Train Linf norm: 1044.235.. Val Linf norm: 4258.532\n",
            "Epoch 58/135.. Train loss: 2626.802.. Val loss: 66.105.. Train L1 norm: 3.637.. Val L1 norm: 9.961.. Train Linf norm: 958.950.. Val Linf norm: 4258.532\n",
            "Epoch 59/135.. Train loss: 814.475.. Val loss: 66.105.. Train L1 norm: 3.774.. Val L1 norm: 9.961.. Train Linf norm: 1039.998.. Val Linf norm: 4258.532\n",
            "Epoch 60/135.. Train loss: 797.781.. Val loss: 66.105.. Train L1 norm: 3.841.. Val L1 norm: 9.961.. Train Linf norm: 1065.362.. Val Linf norm: 4258.532\n",
            "Epoch 61/135.. Train loss: 321.948.. Val loss: 66.105.. Train L1 norm: 3.807.. Val L1 norm: 9.961.. Train Linf norm: 1053.576.. Val Linf norm: 4258.532\n",
            "Epoch 62/135.. Train loss: 1212.432.. Val loss: 66.105.. Train L1 norm: 3.541.. Val L1 norm: 9.961.. Train Linf norm: 909.013.. Val Linf norm: 4258.532\n",
            "Epoch 63/135.. Train loss: 1291.671.. Val loss: 66.105.. Train L1 norm: 3.812.. Val L1 norm: 9.961.. Train Linf norm: 1050.550.. Val Linf norm: 4258.532\n",
            "Epoch 64/135.. Train loss: 405.976.. Val loss: 66.105.. Train L1 norm: 3.531.. Val L1 norm: 9.961.. Train Linf norm: 916.037.. Val Linf norm: 4258.532\n",
            "Epoch 65/135.. Train loss: 244.503.. Val loss: 66.105.. Train L1 norm: 3.883.. Val L1 norm: 9.961.. Train Linf norm: 1078.384.. Val Linf norm: 4258.532\n",
            "Epoch 66/135.. Train loss: 4883.381.. Val loss: 66.105.. Train L1 norm: 3.686.. Val L1 norm: 9.961.. Train Linf norm: 987.758.. Val Linf norm: 4258.532\n",
            "Epoch 67/135.. Train loss: 343.108.. Val loss: 66.105.. Train L1 norm: 3.669.. Val L1 norm: 9.961.. Train Linf norm: 971.956.. Val Linf norm: 4258.532\n",
            "Epoch 68/135.. Train loss: 453.530.. Val loss: 66.105.. Train L1 norm: 3.671.. Val L1 norm: 9.961.. Train Linf norm: 985.296.. Val Linf norm: 4258.532\n",
            "Epoch 69/135.. Train loss: 1055.306.. Val loss: 66.105.. Train L1 norm: 3.883.. Val L1 norm: 9.961.. Train Linf norm: 1087.594.. Val Linf norm: 4258.532\n",
            "Epoch 70/135.. Train loss: 2009.780.. Val loss: 66.105.. Train L1 norm: 3.553.. Val L1 norm: 9.961.. Train Linf norm: 922.814.. Val Linf norm: 4258.532\n",
            "Epoch 71/135.. Train loss: 279.299.. Val loss: 66.105.. Train L1 norm: 3.465.. Val L1 norm: 9.961.. Train Linf norm: 878.141.. Val Linf norm: 4258.532\n",
            "Epoch 72/135.. Train loss: 3178.579.. Val loss: 66.105.. Train L1 norm: 3.740.. Val L1 norm: 9.961.. Train Linf norm: 1019.072.. Val Linf norm: 4258.532\n",
            "Epoch 73/135.. Train loss: 999.436.. Val loss: 66.105.. Train L1 norm: 3.712.. Val L1 norm: 9.961.. Train Linf norm: 1001.272.. Val Linf norm: 4258.532\n",
            "Epoch 74/135.. Train loss: 753.199.. Val loss: 66.105.. Train L1 norm: 3.703.. Val L1 norm: 9.961.. Train Linf norm: 990.724.. Val Linf norm: 4258.532\n",
            "Epoch 75/135.. Train loss: 2685.912.. Val loss: 66.105.. Train L1 norm: 3.869.. Val L1 norm: 9.961.. Train Linf norm: 1084.092.. Val Linf norm: 4258.532\n",
            "Epoch 76/135.. Train loss: 1893.091.. Val loss: 66.105.. Train L1 norm: 3.767.. Val L1 norm: 9.961.. Train Linf norm: 1034.800.. Val Linf norm: 4258.532\n",
            "Epoch 77/135.. Train loss: 898.727.. Val loss: 66.105.. Train L1 norm: 3.897.. Val L1 norm: 9.961.. Train Linf norm: 1097.983.. Val Linf norm: 4258.532\n",
            "Epoch 78/135.. Train loss: 606.318.. Val loss: 66.105.. Train L1 norm: 3.605.. Val L1 norm: 9.961.. Train Linf norm: 943.704.. Val Linf norm: 4258.532\n",
            "Epoch 79/135.. Train loss: 3192.878.. Val loss: 66.105.. Train L1 norm: 3.689.. Val L1 norm: 9.961.. Train Linf norm: 991.456.. Val Linf norm: 4258.532\n",
            "Epoch 80/135.. Train loss: 3988.218.. Val loss: 66.105.. Train L1 norm: 3.841.. Val L1 norm: 9.961.. Train Linf norm: 1068.767.. Val Linf norm: 4258.532\n",
            "Epoch 81/135.. Train loss: 662.372.. Val loss: 66.105.. Train L1 norm: 3.878.. Val L1 norm: 9.961.. Train Linf norm: 1086.508.. Val Linf norm: 4258.532\n",
            "Epoch 82/135.. Train loss: 564.577.. Val loss: 66.105.. Train L1 norm: 3.468.. Val L1 norm: 9.961.. Train Linf norm: 873.286.. Val Linf norm: 4258.532\n",
            "Epoch 83/135.. Train loss: 914.164.. Val loss: 66.105.. Train L1 norm: 3.618.. Val L1 norm: 9.961.. Train Linf norm: 953.788.. Val Linf norm: 4258.532\n",
            "Epoch 84/135.. Train loss: 985.454.. Val loss: 66.105.. Train L1 norm: 3.653.. Val L1 norm: 9.961.. Train Linf norm: 978.016.. Val Linf norm: 4258.532\n",
            "Epoch 85/135.. Train loss: 922.071.. Val loss: 66.105.. Train L1 norm: 3.544.. Val L1 norm: 9.961.. Train Linf norm: 917.154.. Val Linf norm: 4258.532\n",
            "Epoch 86/135.. Train loss: 1336.284.. Val loss: 66.105.. Train L1 norm: 3.682.. Val L1 norm: 9.961.. Train Linf norm: 978.909.. Val Linf norm: 4258.532\n",
            "Epoch 87/135.. Train loss: 231.244.. Val loss: 66.105.. Train L1 norm: 3.807.. Val L1 norm: 9.961.. Train Linf norm: 1046.145.. Val Linf norm: 4258.532\n",
            "Epoch 88/135.. Train loss: 1946.666.. Val loss: 66.105.. Train L1 norm: 3.903.. Val L1 norm: 9.961.. Train Linf norm: 1087.397.. Val Linf norm: 4258.532\n",
            "Epoch 89/135.. Train loss: 1680.758.. Val loss: 66.105.. Train L1 norm: 3.592.. Val L1 norm: 9.961.. Train Linf norm: 938.863.. Val Linf norm: 4258.532\n",
            "Epoch 90/135.. Train loss: 527.069.. Val loss: 66.105.. Train L1 norm: 3.587.. Val L1 norm: 9.961.. Train Linf norm: 934.539.. Val Linf norm: 4258.532\n",
            "Epoch 91/135.. Train loss: 1080.810.. Val loss: 66.105.. Train L1 norm: 3.784.. Val L1 norm: 9.961.. Train Linf norm: 1038.195.. Val Linf norm: 4258.532\n",
            "Epoch 92/135.. Train loss: 2446.255.. Val loss: 66.105.. Train L1 norm: 3.838.. Val L1 norm: 9.961.. Train Linf norm: 1059.680.. Val Linf norm: 4258.532\n",
            "Epoch 93/135.. Train loss: 6850.084.. Val loss: 66.105.. Train L1 norm: 3.465.. Val L1 norm: 9.961.. Train Linf norm: 872.604.. Val Linf norm: 4258.532\n",
            "Epoch 94/135.. Train loss: 631.422.. Val loss: 66.105.. Train L1 norm: 3.691.. Val L1 norm: 9.961.. Train Linf norm: 985.910.. Val Linf norm: 4258.532\n",
            "Epoch 95/135.. Train loss: 625.818.. Val loss: 66.105.. Train L1 norm: 3.664.. Val L1 norm: 9.961.. Train Linf norm: 967.909.. Val Linf norm: 4258.532\n",
            "Epoch 96/135.. Train loss: 4088.422.. Val loss: 66.105.. Train L1 norm: 3.617.. Val L1 norm: 9.961.. Train Linf norm: 950.096.. Val Linf norm: 4258.532\n",
            "Epoch 97/135.. Train loss: 1255.353.. Val loss: 66.105.. Train L1 norm: 3.764.. Val L1 norm: 9.961.. Train Linf norm: 1020.860.. Val Linf norm: 4258.532\n",
            "Epoch 98/135.. Train loss: 1670.897.. Val loss: 66.105.. Train L1 norm: 3.730.. Val L1 norm: 9.961.. Train Linf norm: 1017.993.. Val Linf norm: 4258.532\n",
            "Epoch 99/135.. Train loss: 185.810.. Val loss: 66.105.. Train L1 norm: 3.579.. Val L1 norm: 9.961.. Train Linf norm: 929.695.. Val Linf norm: 4258.532\n",
            "Epoch 100/135.. Train loss: 589.738.. Val loss: 66.105.. Train L1 norm: 3.727.. Val L1 norm: 9.961.. Train Linf norm: 1008.796.. Val Linf norm: 4258.532\n",
            "Epoch 101/135.. Train loss: 389.368.. Val loss: 66.105.. Train L1 norm: 3.548.. Val L1 norm: 9.961.. Train Linf norm: 919.513.. Val Linf norm: 4258.532\n",
            "Epoch 102/135.. Train loss: 6643.080.. Val loss: 66.105.. Train L1 norm: 3.718.. Val L1 norm: 9.961.. Train Linf norm: 1000.596.. Val Linf norm: 4258.532\n",
            "Epoch 103/135.. Train loss: 3199.258.. Val loss: 66.105.. Train L1 norm: 3.721.. Val L1 norm: 9.961.. Train Linf norm: 999.809.. Val Linf norm: 4258.532\n",
            "Epoch 104/135.. Train loss: 1190.100.. Val loss: 66.105.. Train L1 norm: 3.635.. Val L1 norm: 9.961.. Train Linf norm: 965.056.. Val Linf norm: 4258.532\n",
            "Epoch 105/135.. Train loss: 385.477.. Val loss: 66.105.. Train L1 norm: 3.771.. Val L1 norm: 9.961.. Train Linf norm: 1037.275.. Val Linf norm: 4258.532\n",
            "Epoch 106/135.. Train loss: 1262.362.. Val loss: 66.105.. Train L1 norm: 3.901.. Val L1 norm: 9.961.. Train Linf norm: 1099.585.. Val Linf norm: 4258.532\n",
            "Epoch 107/135.. Train loss: 1074.539.. Val loss: 66.105.. Train L1 norm: 3.886.. Val L1 norm: 9.961.. Train Linf norm: 1084.310.. Val Linf norm: 4258.532\n",
            "Epoch 108/135.. Train loss: 176.329.. Val loss: 66.105.. Train L1 norm: 3.828.. Val L1 norm: 9.961.. Train Linf norm: 1055.377.. Val Linf norm: 4258.532\n",
            "Epoch 109/135.. Train loss: 451.236.. Val loss: 66.105.. Train L1 norm: 3.666.. Val L1 norm: 9.961.. Train Linf norm: 979.675.. Val Linf norm: 4258.532\n",
            "Epoch 110/135.. Train loss: 1094.005.. Val loss: 66.105.. Train L1 norm: 3.728.. Val L1 norm: 9.961.. Train Linf norm: 1007.406.. Val Linf norm: 4258.532\n",
            "Epoch 111/135.. Train loss: 2275.433.. Val loss: 66.105.. Train L1 norm: 3.882.. Val L1 norm: 9.961.. Train Linf norm: 1088.890.. Val Linf norm: 4258.532\n",
            "Epoch 112/135.. Train loss: 2545.552.. Val loss: 66.105.. Train L1 norm: 3.717.. Val L1 norm: 9.961.. Train Linf norm: 989.021.. Val Linf norm: 4258.532\n",
            "Epoch 113/135.. Train loss: 352.556.. Val loss: 66.105.. Train L1 norm: 3.771.. Val L1 norm: 9.961.. Train Linf norm: 995.053.. Val Linf norm: 4258.532\n",
            "Epoch 114/135.. Train loss: 2230.262.. Val loss: 66.105.. Train L1 norm: 3.759.. Val L1 norm: 9.961.. Train Linf norm: 1029.500.. Val Linf norm: 4258.532\n",
            "Epoch 115/135.. Train loss: 1635.320.. Val loss: 66.105.. Train L1 norm: 3.766.. Val L1 norm: 9.961.. Train Linf norm: 1028.305.. Val Linf norm: 4258.532\n",
            "Epoch 116/135.. Train loss: 4854.277.. Val loss: 66.105.. Train L1 norm: 3.946.. Val L1 norm: 9.961.. Train Linf norm: 1125.215.. Val Linf norm: 4258.532\n",
            "Epoch 117/135.. Train loss: 318.349.. Val loss: 66.105.. Train L1 norm: 3.756.. Val L1 norm: 9.961.. Train Linf norm: 1018.385.. Val Linf norm: 4258.532\n",
            "Epoch 118/135.. Train loss: 2422.569.. Val loss: 66.105.. Train L1 norm: 3.660.. Val L1 norm: 9.961.. Train Linf norm: 975.557.. Val Linf norm: 4258.532\n",
            "Epoch 119/135.. Train loss: 840.514.. Val loss: 66.105.. Train L1 norm: 3.706.. Val L1 norm: 9.961.. Train Linf norm: 995.692.. Val Linf norm: 4258.532\n",
            "Epoch 120/135.. Train loss: 703.975.. Val loss: 66.105.. Train L1 norm: 3.594.. Val L1 norm: 9.961.. Train Linf norm: 930.227.. Val Linf norm: 4258.532\n",
            "Epoch 121/135.. Train loss: 1948.016.. Val loss: 66.105.. Train L1 norm: 3.628.. Val L1 norm: 9.961.. Train Linf norm: 962.051.. Val Linf norm: 4258.532\n",
            "Epoch 122/135.. Train loss: 3029.052.. Val loss: 66.105.. Train L1 norm: 3.622.. Val L1 norm: 9.961.. Train Linf norm: 953.530.. Val Linf norm: 4258.532\n",
            "Epoch 123/135.. Train loss: 6125.570.. Val loss: 66.105.. Train L1 norm: 3.891.. Val L1 norm: 9.961.. Train Linf norm: 1095.847.. Val Linf norm: 4258.532\n",
            "Epoch 124/135.. Train loss: 311.637.. Val loss: 66.105.. Train L1 norm: 3.664.. Val L1 norm: 9.961.. Train Linf norm: 976.415.. Val Linf norm: 4258.532\n",
            "Epoch 125/135.. Train loss: 5650.381.. Val loss: 66.105.. Train L1 norm: 3.712.. Val L1 norm: 9.961.. Train Linf norm: 998.973.. Val Linf norm: 4258.532\n",
            "Epoch 126/135.. Train loss: 2696.486.. Val loss: 66.105.. Train L1 norm: 3.655.. Val L1 norm: 9.961.. Train Linf norm: 967.692.. Val Linf norm: 4258.532\n",
            "Epoch 127/135.. Train loss: 1162.353.. Val loss: 66.105.. Train L1 norm: 3.770.. Val L1 norm: 9.961.. Train Linf norm: 1030.191.. Val Linf norm: 4258.532\n",
            "Epoch 128/135.. Train loss: 1738.673.. Val loss: 66.105.. Train L1 norm: 3.485.. Val L1 norm: 9.961.. Train Linf norm: 889.226.. Val Linf norm: 4258.532\n",
            "Epoch 129/135.. Train loss: 638.463.. Val loss: 66.105.. Train L1 norm: 3.651.. Val L1 norm: 9.961.. Train Linf norm: 951.685.. Val Linf norm: 4258.532\n",
            "Epoch 130/135.. Train loss: 1716.385.. Val loss: 66.105.. Train L1 norm: 3.756.. Val L1 norm: 9.961.. Train Linf norm: 1029.555.. Val Linf norm: 4258.532\n",
            "Epoch 131/135.. Train loss: 2409.290.. Val loss: 66.105.. Train L1 norm: 3.787.. Val L1 norm: 9.961.. Train Linf norm: 1039.228.. Val Linf norm: 4258.532\n",
            "Epoch 132/135.. Train loss: 1529.539.. Val loss: 66.105.. Train L1 norm: 3.876.. Val L1 norm: 9.961.. Train Linf norm: 1083.638.. Val Linf norm: 4258.532\n",
            "Epoch 133/135.. Train loss: 628.754.. Val loss: 66.105.. Train L1 norm: 3.673.. Val L1 norm: 9.961.. Train Linf norm: 981.468.. Val Linf norm: 4258.532\n",
            "Epoch 134/135.. Train loss: 3072.690.. Val loss: 66.105.. Train L1 norm: 3.753.. Val L1 norm: 9.961.. Train Linf norm: 1025.300.. Val Linf norm: 4258.532\n"
          ]
        },
        {
          "name": "stderr",
          "output_type": "stream",
          "text": [
            "\u001b[32m[I 2023-05-28 15:54:38,107]\u001b[0m Trial 7 finished with value: 9.960669191385906 and parameters: {'n_layers': 5, 'n_units_0': 834, 'n_units_1': 1499, 'n_units_2': 3053, 'n_units_3': 3597, 'n_units_4': 1027, 'hidden_activation': 'PReLU', 'output_activation': 'Linear', 'loss': 'MSE', 'optimizer': 'RMSprop', 'lr': 0.0001153221730525773, 'batch_size': 512, 'n_epochs': 135, 'scheduler': 'StepLR', 'prelu_init': 0.1737496748770562, 'dropout_rate': 0.28080507680313105, 'step_size': 7, 'gamma': 0.10842483124404811}. Best is trial 7 with value: 9.960669191385906.\u001b[0m\n"
          ]
        },
        {
          "name": "stdout",
          "output_type": "stream",
          "text": [
            "Epoch 135/135.. Train loss: 873.103.. Val loss: 66.105.. Train L1 norm: 3.537.. Val L1 norm: 9.961.. Train Linf norm: 907.719.. Val Linf norm: 4258.532\n",
            "Epoch 1/142.. Train loss: 4.996.. Val loss: 4.851.. Train L1 norm: 1.440.. Val L1 norm: 4.261.. Train Linf norm: 28.460.. Val Linf norm: 207.743\n",
            "Epoch 2/142.. Train loss: 4.857.. Val loss: 4.838.. Train L1 norm: 3.046.. Val L1 norm: 4.167.. Train Linf norm: 120.165.. Val Linf norm: 201.359\n",
            "Epoch 3/142.. Train loss: 4.798.. Val loss: 4.661.. Train L1 norm: 2.313.. Val L1 norm: 10.216.. Train Linf norm: 76.545.. Val Linf norm: 572.921\n",
            "Epoch 4/142.. Train loss: 4.770.. Val loss: 4.736.. Train L1 norm: 3.665.. Val L1 norm: 5.846.. Train Linf norm: 152.440.. Val Linf norm: 304.444\n",
            "Epoch 5/142.. Train loss: 4.713.. Val loss: 4.610.. Train L1 norm: 3.037.. Val L1 norm: 11.664.. Train Linf norm: 117.360.. Val Linf norm: 658.136\n",
            "Epoch 6/142.. Train loss: 4.706.. Val loss: 4.631.. Train L1 norm: 3.310.. Val L1 norm: 7.822.. Train Linf norm: 127.035.. Val Linf norm: 423.125\n",
            "Epoch 7/142.. Train loss: 4.681.. Val loss: 4.590.. Train L1 norm: 3.351.. Val L1 norm: 8.761.. Train Linf norm: 131.946.. Val Linf norm: 478.877\n",
            "Epoch 8/142.. Train loss: 4.630.. Val loss: 4.564.. Train L1 norm: 3.841.. Val L1 norm: 9.063.. Train Linf norm: 159.150.. Val Linf norm: 494.549\n",
            "Epoch 9/142.. Train loss: 4.585.. Val loss: 4.546.. Train L1 norm: 3.877.. Val L1 norm: 13.018.. Train Linf norm: 158.923.. Val Linf norm: 731.878\n",
            "Epoch 10/142.. Train loss: 4.549.. Val loss: 4.518.. Train L1 norm: 4.335.. Val L1 norm: 13.124.. Train Linf norm: 184.223.. Val Linf norm: 738.420\n",
            "Epoch 11/142.. Train loss: 4.595.. Val loss: 4.513.. Train L1 norm: 4.326.. Val L1 norm: 10.017.. Train Linf norm: 184.426.. Val Linf norm: 551.424\n",
            "Epoch 12/142.. Train loss: 4.545.. Val loss: 4.607.. Train L1 norm: 4.595.. Val L1 norm: 7.592.. Train Linf norm: 197.696.. Val Linf norm: 405.165\n",
            "Epoch 13/142.. Train loss: 4.469.. Val loss: 4.473.. Train L1 norm: 4.501.. Val L1 norm: 14.454.. Train Linf norm: 190.253.. Val Linf norm: 819.555\n",
            "Epoch 14/142.. Train loss: 4.485.. Val loss: 4.455.. Train L1 norm: 4.553.. Val L1 norm: 14.702.. Train Linf norm: 192.220.. Val Linf norm: 833.927\n",
            "Epoch 15/142.. Train loss: 4.501.. Val loss: 4.433.. Train L1 norm: 4.781.. Val L1 norm: 12.659.. Train Linf norm: 205.630.. Val Linf norm: 711.110\n",
            "Epoch 16/142.. Train loss: 4.458.. Val loss: 4.421.. Train L1 norm: 4.786.. Val L1 norm: 14.067.. Train Linf norm: 204.606.. Val Linf norm: 794.431\n",
            "Epoch 17/142.. Train loss: 4.475.. Val loss: 4.421.. Train L1 norm: 4.793.. Val L1 norm: 14.738.. Train Linf norm: 204.392.. Val Linf norm: 833.585\n",
            "Epoch 18/142.. Train loss: 4.497.. Val loss: 4.425.. Train L1 norm: 4.753.. Val L1 norm: 12.482.. Train Linf norm: 203.627.. Val Linf norm: 698.702\n",
            "Epoch 19/142.. Train loss: 4.436.. Val loss: 4.410.. Train L1 norm: 5.069.. Val L1 norm: 15.711.. Train Linf norm: 220.626.. Val Linf norm: 893.118\n",
            "Epoch 20/142.. Train loss: 4.436.. Val loss: 4.395.. Train L1 norm: 5.063.. Val L1 norm: 15.512.. Train Linf norm: 219.303.. Val Linf norm: 881.663\n",
            "Epoch 21/142.. Train loss: 4.395.. Val loss: 4.389.. Train L1 norm: 5.339.. Val L1 norm: 17.355.. Train Linf norm: 233.825.. Val Linf norm: 994.534\n",
            "Epoch 22/142.. Train loss: 4.416.. Val loss: 4.386.. Train L1 norm: 5.255.. Val L1 norm: 13.676.. Train Linf norm: 228.497.. Val Linf norm: 771.546\n",
            "Epoch 23/142.. Train loss: 4.392.. Val loss: 4.372.. Train L1 norm: 5.421.. Val L1 norm: 14.924.. Train Linf norm: 238.324.. Val Linf norm: 845.466\n",
            "Epoch 24/142.. Train loss: 4.374.. Val loss: 4.402.. Train L1 norm: 5.447.. Val L1 norm: 12.973.. Train Linf norm: 236.519.. Val Linf norm: 728.944\n",
            "Epoch 25/142.. Train loss: 4.388.. Val loss: 4.350.. Train L1 norm: 5.325.. Val L1 norm: 16.746.. Train Linf norm: 232.181.. Val Linf norm: 957.659\n",
            "Epoch 26/142.. Train loss: 4.364.. Val loss: 4.339.. Train L1 norm: 5.532.. Val L1 norm: 17.616.. Train Linf norm: 241.930.. Val Linf norm: 1012.202\n",
            "Epoch 27/142.. Train loss: 4.368.. Val loss: 4.359.. Train L1 norm: 5.603.. Val L1 norm: 14.915.. Train Linf norm: 247.013.. Val Linf norm: 846.161\n",
            "Epoch 28/142.. Train loss: 4.363.. Val loss: 4.354.. Train L1 norm: 5.473.. Val L1 norm: 18.817.. Train Linf norm: 238.480.. Val Linf norm: 1081.138\n",
            "Epoch 29/142.. Train loss: 4.336.. Val loss: 4.349.. Train L1 norm: 5.952.. Val L1 norm: 20.219.. Train Linf norm: 265.422.. Val Linf norm: 1167.970\n",
            "Epoch 30/142.. Train loss: 4.435.. Val loss: 4.346.. Train L1 norm: 5.101.. Val L1 norm: 15.654.. Train Linf norm: 221.116.. Val Linf norm: 890.050\n",
            "Epoch 31/142.. Train loss: 4.337.. Val loss: 4.323.. Train L1 norm: 5.825.. Val L1 norm: 17.797.. Train Linf norm: 255.833.. Val Linf norm: 1021.968\n",
            "Epoch 32/142.. Train loss: 4.341.. Val loss: 4.328.. Train L1 norm: 5.870.. Val L1 norm: 18.930.. Train Linf norm: 261.510.. Val Linf norm: 1088.621\n",
            "Epoch 33/142.. Train loss: 4.311.. Val loss: 4.324.. Train L1 norm: 6.257.. Val L1 norm: 20.340.. Train Linf norm: 280.931.. Val Linf norm: 1175.660\n",
            "Epoch 34/142.. Train loss: 4.304.. Val loss: 4.327.. Train L1 norm: 6.302.. Val L1 norm: 16.699.. Train Linf norm: 281.544.. Val Linf norm: 956.003\n",
            "Epoch 35/142.. Train loss: 4.303.. Val loss: 4.291.. Train L1 norm: 6.363.. Val L1 norm: 20.096.. Train Linf norm: 286.477.. Val Linf norm: 1163.745\n",
            "Epoch 36/142.. Train loss: 4.294.. Val loss: 4.411.. Train L1 norm: 6.479.. Val L1 norm: 15.017.. Train Linf norm: 293.121.. Val Linf norm: 855.653\n",
            "Epoch 37/142.. Train loss: 4.321.. Val loss: 4.300.. Train L1 norm: 6.120.. Val L1 norm: 20.946.. Train Linf norm: 273.648.. Val Linf norm: 1212.206\n",
            "Epoch 38/142.. Train loss: 4.284.. Val loss: 4.313.. Train L1 norm: 6.498.. Val L1 norm: 22.874.. Train Linf norm: 291.397.. Val Linf norm: 1330.680\n",
            "Epoch 39/142.. Train loss: 4.287.. Val loss: 4.283.. Train L1 norm: 6.504.. Val L1 norm: 22.668.. Train Linf norm: 292.767.. Val Linf norm: 1321.035\n",
            "Epoch 40/142.. Train loss: 4.275.. Val loss: 4.285.. Train L1 norm: 6.694.. Val L1 norm: 23.394.. Train Linf norm: 303.567.. Val Linf norm: 1364.969\n",
            "Epoch 41/142.. Train loss: 4.314.. Val loss: 4.290.. Train L1 norm: 6.399.. Val L1 norm: 18.250.. Train Linf norm: 288.513.. Val Linf norm: 1047.469\n",
            "Epoch 42/142.. Train loss: 4.272.. Val loss: 4.267.. Train L1 norm: 6.640.. Val L1 norm: 21.461.. Train Linf norm: 299.045.. Val Linf norm: 1246.389\n",
            "Epoch 43/142.. Train loss: 4.274.. Val loss: 4.276.. Train L1 norm: 6.600.. Val L1 norm: 22.951.. Train Linf norm: 297.351.. Val Linf norm: 1335.909\n",
            "Epoch 44/142.. Train loss: 4.334.. Val loss: 4.280.. Train L1 norm: 6.123.. Val L1 norm: 20.457.. Train Linf norm: 272.723.. Val Linf norm: 1180.562\n",
            "Epoch 45/142.. Train loss: 4.254.. Val loss: 4.279.. Train L1 norm: 6.698.. Val L1 norm: 22.857.. Train Linf norm: 301.251.. Val Linf norm: 1329.354\n",
            "Epoch 46/142.. Train loss: 4.246.. Val loss: 4.243.. Train L1 norm: 7.072.. Val L1 norm: 22.163.. Train Linf norm: 322.119.. Val Linf norm: 1293.151\n",
            "Epoch 47/142.. Train loss: 4.263.. Val loss: 4.249.. Train L1 norm: 6.775.. Val L1 norm: 23.092.. Train Linf norm: 307.464.. Val Linf norm: 1346.024\n",
            "Epoch 48/142.. Train loss: 4.266.. Val loss: 4.307.. Train L1 norm: 6.667.. Val L1 norm: 25.356.. Train Linf norm: 300.766.. Val Linf norm: 1480.432\n",
            "Epoch 49/142.. Train loss: 4.252.. Val loss: 4.291.. Train L1 norm: 7.082.. Val L1 norm: 18.328.. Train Linf norm: 322.295.. Val Linf norm: 1055.084\n",
            "Epoch 50/142.. Train loss: 4.239.. Val loss: 4.223.. Train L1 norm: 7.142.. Val L1 norm: 24.151.. Train Linf norm: 327.207.. Val Linf norm: 1416.336\n",
            "Epoch 51/142.. Train loss: 4.259.. Val loss: 4.260.. Train L1 norm: 6.875.. Val L1 norm: 25.807.. Train Linf norm: 312.159.. Val Linf norm: 1512.016\n",
            "Epoch 52/142.. Train loss: 4.287.. Val loss: 4.274.. Train L1 norm: 6.686.. Val L1 norm: 18.881.. Train Linf norm: 302.269.. Val Linf norm: 1087.585\n",
            "Epoch 53/142.. Train loss: 4.240.. Val loss: 4.261.. Train L1 norm: 6.853.. Val L1 norm: 23.550.. Train Linf norm: 309.461.. Val Linf norm: 1370.838\n",
            "Epoch 54/142.. Train loss: 4.288.. Val loss: 4.356.. Train L1 norm: 6.757.. Val L1 norm: 17.769.. Train Linf norm: 305.890.. Val Linf norm: 1028.841\n",
            "Epoch 55/142.. Train loss: 4.325.. Val loss: 4.254.. Train L1 norm: 6.101.. Val L1 norm: 20.954.. Train Linf norm: 273.707.. Val Linf norm: 1214.173\n",
            "Epoch 56/142.. Train loss: 4.270.. Val loss: 4.240.. Train L1 norm: 6.929.. Val L1 norm: 21.933.. Train Linf norm: 313.336.. Val Linf norm: 1275.021\n",
            "Epoch 57/142.. Train loss: 4.241.. Val loss: 4.244.. Train L1 norm: 7.063.. Val L1 norm: 24.005.. Train Linf norm: 320.958.. Val Linf norm: 1399.888\n",
            "Epoch 58/142.. Train loss: 4.253.. Val loss: 4.248.. Train L1 norm: 6.993.. Val L1 norm: 22.916.. Train Linf norm: 318.145.. Val Linf norm: 1331.951\n",
            "Epoch 59/142.. Train loss: 4.237.. Val loss: 4.247.. Train L1 norm: 7.200.. Val L1 norm: 21.956.. Train Linf norm: 329.700.. Val Linf norm: 1273.754\n",
            "Epoch 60/142.. Train loss: 4.218.. Val loss: 4.251.. Train L1 norm: 7.201.. Val L1 norm: 25.245.. Train Linf norm: 327.809.. Val Linf norm: 1476.386\n",
            "Epoch 61/142.. Train loss: 4.274.. Val loss: 4.245.. Train L1 norm: 6.791.. Val L1 norm: 22.892.. Train Linf norm: 307.546.. Val Linf norm: 1330.517\n",
            "Epoch 62/142.. Train loss: 4.224.. Val loss: 4.242.. Train L1 norm: 7.295.. Val L1 norm: 24.500.. Train Linf norm: 334.146.. Val Linf norm: 1430.584\n",
            "Epoch 63/142.. Train loss: 4.216.. Val loss: 4.262.. Train L1 norm: 7.124.. Val L1 norm: 26.527.. Train Linf norm: 323.969.. Val Linf norm: 1554.631\n",
            "Epoch 64/142.. Train loss: 4.225.. Val loss: 4.241.. Train L1 norm: 7.117.. Val L1 norm: 24.877.. Train Linf norm: 322.648.. Val Linf norm: 1453.824\n",
            "Epoch 65/142.. Train loss: 4.210.. Val loss: 4.240.. Train L1 norm: 7.283.. Val L1 norm: 25.975.. Train Linf norm: 332.069.. Val Linf norm: 1522.312\n",
            "Epoch 66/142.. Train loss: 4.212.. Val loss: 4.236.. Train L1 norm: 7.325.. Val L1 norm: 26.952.. Train Linf norm: 334.439.. Val Linf norm: 1583.009\n",
            "Epoch 67/142.. Train loss: 4.211.. Val loss: 4.221.. Train L1 norm: 7.238.. Val L1 norm: 25.785.. Train Linf norm: 330.157.. Val Linf norm: 1511.228\n",
            "Epoch 68/142.. Train loss: 4.196.. Val loss: 4.218.. Train L1 norm: 7.464.. Val L1 norm: 25.945.. Train Linf norm: 342.938.. Val Linf norm: 1521.651\n",
            "Epoch 69/142.. Train loss: 4.198.. Val loss: 4.232.. Train L1 norm: 7.277.. Val L1 norm: 26.721.. Train Linf norm: 330.951.. Val Linf norm: 1568.243\n",
            "Epoch 70/142.. Train loss: 4.201.. Val loss: 4.230.. Train L1 norm: 7.388.. Val L1 norm: 27.150.. Train Linf norm: 336.229.. Val Linf norm: 1595.360\n",
            "Epoch 71/142.. Train loss: 4.193.. Val loss: 4.205.. Train L1 norm: 7.470.. Val L1 norm: 25.893.. Train Linf norm: 342.363.. Val Linf norm: 1519.419\n",
            "Epoch 72/142.. Train loss: 4.203.. Val loss: 4.207.. Train L1 norm: 7.474.. Val L1 norm: 26.397.. Train Linf norm: 343.316.. Val Linf norm: 1550.013\n",
            "Epoch 73/142.. Train loss: 4.199.. Val loss: 4.208.. Train L1 norm: 7.385.. Val L1 norm: 26.768.. Train Linf norm: 338.068.. Val Linf norm: 1572.551\n",
            "Epoch 74/142.. Train loss: 4.195.. Val loss: 4.222.. Train L1 norm: 7.442.. Val L1 norm: 27.375.. Train Linf norm: 340.448.. Val Linf norm: 1608.909\n",
            "Epoch 75/142.. Train loss: 4.193.. Val loss: 4.200.. Train L1 norm: 7.418.. Val L1 norm: 26.744.. Train Linf norm: 338.252.. Val Linf norm: 1571.745\n",
            "Epoch 76/142.. Train loss: 4.202.. Val loss: 4.205.. Train L1 norm: 7.342.. Val L1 norm: 27.096.. Train Linf norm: 333.777.. Val Linf norm: 1592.730\n",
            "Epoch 77/142.. Train loss: 4.193.. Val loss: 4.217.. Train L1 norm: 7.197.. Val L1 norm: 27.138.. Train Linf norm: 324.857.. Val Linf norm: 1593.329\n",
            "Epoch 78/142.. Train loss: 4.202.. Val loss: 4.193.. Train L1 norm: 7.479.. Val L1 norm: 23.643.. Train Linf norm: 341.956.. Val Linf norm: 1382.447\n",
            "Epoch 79/142.. Train loss: 4.193.. Val loss: 4.202.. Train L1 norm: 7.384.. Val L1 norm: 26.816.. Train Linf norm: 338.878.. Val Linf norm: 1574.964\n",
            "Epoch 80/142.. Train loss: 4.208.. Val loss: 4.226.. Train L1 norm: 7.251.. Val L1 norm: 27.166.. Train Linf norm: 331.830.. Val Linf norm: 1593.763\n",
            "Epoch 81/142.. Train loss: 4.190.. Val loss: 4.240.. Train L1 norm: 7.363.. Val L1 norm: 27.855.. Train Linf norm: 335.931.. Val Linf norm: 1635.871\n",
            "Epoch 82/142.. Train loss: 4.215.. Val loss: 4.235.. Train L1 norm: 7.218.. Val L1 norm: 26.422.. Train Linf norm: 328.568.. Val Linf norm: 1546.634\n",
            "Epoch 83/142.. Train loss: 4.202.. Val loss: 4.213.. Train L1 norm: 7.403.. Val L1 norm: 25.917.. Train Linf norm: 338.545.. Val Linf norm: 1517.703\n",
            "Epoch 84/142.. Train loss: 4.252.. Val loss: 4.218.. Train L1 norm: 6.860.. Val L1 norm: 23.718.. Train Linf norm: 310.436.. Val Linf norm: 1380.219\n",
            "Epoch 85/142.. Train loss: 4.197.. Val loss: 4.209.. Train L1 norm: 7.282.. Val L1 norm: 24.326.. Train Linf norm: 332.089.. Val Linf norm: 1419.321\n",
            "Epoch 86/142.. Train loss: 4.199.. Val loss: 4.202.. Train L1 norm: 7.203.. Val L1 norm: 25.310.. Train Linf norm: 324.037.. Val Linf norm: 1481.209\n",
            "Epoch 87/142.. Train loss: 4.194.. Val loss: 4.207.. Train L1 norm: 7.299.. Val L1 norm: 25.447.. Train Linf norm: 333.798.. Val Linf norm: 1489.160\n",
            "Epoch 88/142.. Train loss: 4.200.. Val loss: 4.215.. Train L1 norm: 7.172.. Val L1 norm: 25.778.. Train Linf norm: 326.396.. Val Linf norm: 1508.653\n",
            "Epoch 89/142.. Train loss: 4.188.. Val loss: 4.218.. Train L1 norm: 7.328.. Val L1 norm: 25.926.. Train Linf norm: 333.892.. Val Linf norm: 1517.553\n",
            "Epoch 90/142.. Train loss: 4.186.. Val loss: 4.214.. Train L1 norm: 7.612.. Val L1 norm: 26.036.. Train Linf norm: 351.800.. Val Linf norm: 1524.911\n",
            "Epoch 91/142.. Train loss: 4.184.. Val loss: 4.201.. Train L1 norm: 7.369.. Val L1 norm: 25.561.. Train Linf norm: 335.819.. Val Linf norm: 1496.730\n",
            "Epoch 92/142.. Train loss: 4.191.. Val loss: 4.223.. Train L1 norm: 7.130.. Val L1 norm: 26.584.. Train Linf norm: 323.828.. Val Linf norm: 1557.891\n",
            "Epoch 93/142.. Train loss: 4.180.. Val loss: 4.222.. Train L1 norm: 7.513.. Val L1 norm: 27.013.. Train Linf norm: 345.643.. Val Linf norm: 1584.742\n",
            "Epoch 94/142.. Train loss: 4.185.. Val loss: 4.208.. Train L1 norm: 7.410.. Val L1 norm: 26.221.. Train Linf norm: 338.705.. Val Linf norm: 1536.203\n",
            "Epoch 95/142.. Train loss: 4.184.. Val loss: 4.211.. Train L1 norm: 7.249.. Val L1 norm: 26.416.. Train Linf norm: 329.579.. Val Linf norm: 1547.956\n",
            "Epoch 96/142.. Train loss: 4.183.. Val loss: 4.206.. Train L1 norm: 7.460.. Val L1 norm: 26.269.. Train Linf norm: 342.347.. Val Linf norm: 1539.178\n",
            "Epoch 97/142.. Train loss: 4.182.. Val loss: 4.208.. Train L1 norm: 7.446.. Val L1 norm: 26.574.. Train Linf norm: 340.665.. Val Linf norm: 1557.944\n",
            "Epoch 98/142.. Train loss: 4.184.. Val loss: 4.206.. Train L1 norm: 7.444.. Val L1 norm: 26.511.. Train Linf norm: 340.291.. Val Linf norm: 1554.207\n",
            "Epoch 99/142.. Train loss: 4.196.. Val loss: 4.205.. Train L1 norm: 7.266.. Val L1 norm: 26.351.. Train Linf norm: 330.930.. Val Linf norm: 1544.191\n",
            "Epoch 100/142.. Train loss: 4.191.. Val loss: 4.201.. Train L1 norm: 7.286.. Val L1 norm: 26.007.. Train Linf norm: 333.143.. Val Linf norm: 1522.994\n",
            "Epoch 101/142.. Train loss: 4.177.. Val loss: 4.211.. Train L1 norm: 7.436.. Val L1 norm: 26.650.. Train Linf norm: 339.333.. Val Linf norm: 1562.168\n",
            "Epoch 102/142.. Train loss: 4.183.. Val loss: 4.206.. Train L1 norm: 7.331.. Val L1 norm: 26.439.. Train Linf norm: 334.111.. Val Linf norm: 1549.421\n",
            "Epoch 103/142.. Train loss: 4.179.. Val loss: 4.205.. Train L1 norm: 7.245.. Val L1 norm: 26.421.. Train Linf norm: 326.672.. Val Linf norm: 1548.405\n",
            "Epoch 104/142.. Train loss: 4.187.. Val loss: 4.200.. Train L1 norm: 7.275.. Val L1 norm: 26.103.. Train Linf norm: 330.795.. Val Linf norm: 1529.056\n",
            "Epoch 105/142.. Train loss: 4.196.. Val loss: 4.205.. Train L1 norm: 7.252.. Val L1 norm: 26.354.. Train Linf norm: 329.402.. Val Linf norm: 1544.253\n",
            "Epoch 106/142.. Train loss: 4.186.. Val loss: 4.210.. Train L1 norm: 7.367.. Val L1 norm: 26.597.. Train Linf norm: 335.963.. Val Linf norm: 1558.935\n",
            "Epoch 107/142.. Train loss: 4.182.. Val loss: 4.211.. Train L1 norm: 7.496.. Val L1 norm: 26.760.. Train Linf norm: 343.402.. Val Linf norm: 1569.010\n",
            "Epoch 108/142.. Train loss: 4.178.. Val loss: 4.205.. Train L1 norm: 7.553.. Val L1 norm: 26.516.. Train Linf norm: 347.386.. Val Linf norm: 1554.340\n",
            "Epoch 109/142.. Train loss: 4.187.. Val loss: 4.205.. Train L1 norm: 7.394.. Val L1 norm: 26.586.. Train Linf norm: 338.000.. Val Linf norm: 1558.671\n",
            "Epoch 110/142.. Train loss: 4.175.. Val loss: 4.209.. Train L1 norm: 7.351.. Val L1 norm: 26.900.. Train Linf norm: 334.434.. Val Linf norm: 1578.022\n",
            "Epoch 111/142.. Train loss: 4.191.. Val loss: 4.202.. Train L1 norm: 7.535.. Val L1 norm: 26.480.. Train Linf norm: 347.221.. Val Linf norm: 1552.429\n",
            "Epoch 112/142.. Train loss: 4.186.. Val loss: 4.198.. Train L1 norm: 7.342.. Val L1 norm: 26.274.. Train Linf norm: 335.782.. Val Linf norm: 1539.939\n",
            "Epoch 113/142.. Train loss: 4.182.. Val loss: 4.201.. Train L1 norm: 7.405.. Val L1 norm: 26.454.. Train Linf norm: 339.435.. Val Linf norm: 1550.872\n",
            "Epoch 114/142.. Train loss: 4.184.. Val loss: 4.202.. Train L1 norm: 7.306.. Val L1 norm: 26.399.. Train Linf norm: 334.053.. Val Linf norm: 1547.246\n",
            "Epoch 115/142.. Train loss: 4.179.. Val loss: 4.205.. Train L1 norm: 7.295.. Val L1 norm: 26.512.. Train Linf norm: 332.431.. Val Linf norm: 1554.061\n",
            "Epoch 116/142.. Train loss: 4.175.. Val loss: 4.207.. Train L1 norm: 7.489.. Val L1 norm: 26.646.. Train Linf norm: 344.579.. Val Linf norm: 1562.242\n",
            "Epoch 117/142.. Train loss: 4.175.. Val loss: 4.209.. Train L1 norm: 7.375.. Val L1 norm: 26.747.. Train Linf norm: 335.971.. Val Linf norm: 1568.407\n",
            "Epoch 118/142.. Train loss: 4.171.. Val loss: 4.209.. Train L1 norm: 7.482.. Val L1 norm: 26.761.. Train Linf norm: 343.109.. Val Linf norm: 1569.254\n",
            "Epoch 119/142.. Train loss: 4.182.. Val loss: 4.207.. Train L1 norm: 7.254.. Val L1 norm: 26.667.. Train Linf norm: 329.805.. Val Linf norm: 1563.555\n",
            "Epoch 120/142.. Train loss: 4.185.. Val loss: 4.205.. Train L1 norm: 7.522.. Val L1 norm: 26.590.. Train Linf norm: 346.826.. Val Linf norm: 1558.913\n",
            "Epoch 121/142.. Train loss: 4.177.. Val loss: 4.209.. Train L1 norm: 7.533.. Val L1 norm: 26.747.. Train Linf norm: 346.970.. Val Linf norm: 1568.432\n",
            "Epoch 122/142.. Train loss: 4.191.. Val loss: 4.207.. Train L1 norm: 7.427.. Val L1 norm: 26.705.. Train Linf norm: 339.953.. Val Linf norm: 1565.952\n",
            "Epoch 123/142.. Train loss: 4.186.. Val loss: 4.207.. Train L1 norm: 7.500.. Val L1 norm: 26.695.. Train Linf norm: 344.466.. Val Linf norm: 1565.430\n",
            "Epoch 124/142.. Train loss: 4.179.. Val loss: 4.207.. Train L1 norm: 7.449.. Val L1 norm: 26.722.. Train Linf norm: 341.562.. Val Linf norm: 1567.131\n",
            "Epoch 125/142.. Train loss: 4.175.. Val loss: 4.209.. Train L1 norm: 7.439.. Val L1 norm: 26.858.. Train Linf norm: 340.765.. Val Linf norm: 1575.389\n",
            "Epoch 126/142.. Train loss: 4.171.. Val loss: 4.208.. Train L1 norm: 7.367.. Val L1 norm: 26.834.. Train Linf norm: 336.187.. Val Linf norm: 1573.966\n",
            "Epoch 127/142.. Train loss: 4.177.. Val loss: 4.208.. Train L1 norm: 7.415.. Val L1 norm: 26.826.. Train Linf norm: 339.318.. Val Linf norm: 1573.505\n",
            "Epoch 128/142.. Train loss: 4.187.. Val loss: 4.205.. Train L1 norm: 7.406.. Val L1 norm: 26.708.. Train Linf norm: 338.836.. Val Linf norm: 1566.378\n",
            "Epoch 129/142.. Train loss: 4.184.. Val loss: 4.205.. Train L1 norm: 7.341.. Val L1 norm: 26.694.. Train Linf norm: 334.660.. Val Linf norm: 1565.550\n",
            "Epoch 130/142.. Train loss: 4.183.. Val loss: 4.205.. Train L1 norm: 7.449.. Val L1 norm: 26.702.. Train Linf norm: 342.525.. Val Linf norm: 1566.099\n",
            "Epoch 131/142.. Train loss: 4.177.. Val loss: 4.204.. Train L1 norm: 7.299.. Val L1 norm: 26.653.. Train Linf norm: 332.206.. Val Linf norm: 1563.088\n",
            "Epoch 132/142.. Train loss: 4.179.. Val loss: 4.204.. Train L1 norm: 7.447.. Val L1 norm: 26.692.. Train Linf norm: 341.143.. Val Linf norm: 1565.545\n",
            "Epoch 133/142.. Train loss: 4.180.. Val loss: 4.204.. Train L1 norm: 7.389.. Val L1 norm: 26.657.. Train Linf norm: 338.229.. Val Linf norm: 1563.428\n",
            "Epoch 134/142.. Train loss: 4.173.. Val loss: 4.204.. Train L1 norm: 7.451.. Val L1 norm: 26.691.. Train Linf norm: 341.367.. Val Linf norm: 1565.508\n",
            "Epoch 135/142.. Train loss: 4.182.. Val loss: 4.204.. Train L1 norm: 7.427.. Val L1 norm: 26.671.. Train Linf norm: 340.571.. Val Linf norm: 1564.316\n",
            "Epoch 136/142.. Train loss: 4.173.. Val loss: 4.203.. Train L1 norm: 7.373.. Val L1 norm: 26.655.. Train Linf norm: 337.047.. Val Linf norm: 1563.386\n",
            "Epoch 137/142.. Train loss: 4.190.. Val loss: 4.202.. Train L1 norm: 7.352.. Val L1 norm: 26.602.. Train Linf norm: 335.927.. Val Linf norm: 1560.144\n",
            "Epoch 138/142.. Train loss: 4.181.. Val loss: 4.202.. Train L1 norm: 7.334.. Val L1 norm: 26.589.. Train Linf norm: 335.396.. Val Linf norm: 1559.376\n",
            "Epoch 139/142.. Train loss: 4.202.. Val loss: 4.200.. Train L1 norm: 7.311.. Val L1 norm: 26.510.. Train Linf norm: 333.712.. Val Linf norm: 1554.631\n",
            "Epoch 140/142.. Train loss: 4.172.. Val loss: 4.200.. Train L1 norm: 7.194.. Val L1 norm: 26.497.. Train Linf norm: 327.145.. Val Linf norm: 1553.851\n",
            "Epoch 141/142.. Train loss: 4.175.. Val loss: 4.200.. Train L1 norm: 7.391.. Val L1 norm: 26.500.. Train Linf norm: 338.622.. Val Linf norm: 1554.034\n"
          ]
        },
        {
          "name": "stderr",
          "output_type": "stream",
          "text": [
            "\u001b[32m[I 2023-05-28 21:28:51,971]\u001b[0m Trial 8 finished with value: 26.481273126653036 and parameters: {'n_layers': 8, 'n_units_0': 2002, 'n_units_1': 991, 'n_units_2': 1004, 'n_units_3': 2272, 'n_units_4': 2411, 'n_units_5': 3679, 'n_units_6': 2973, 'n_units_7': 1485, 'hidden_activation': 'PReLU', 'output_activation': 'Linear', 'loss': 'MAE', 'optimizer': 'SGD', 'lr': 1.3965750419384633e-05, 'batch_size': 64, 'n_epochs': 142, 'scheduler': 'ReduceLROnPlateau', 'prelu_init': 0.184265630420322, 'dropout_rate': 0.1805873564986844, 'weight_decay': 0.008109446383459307, 'momentum': 0.24397587515341418, 'factor': 0.49077642547573075, 'patience': 7, 'threshold': 0.001683635739113143}. Best is trial 7 with value: 9.960669191385906.\u001b[0m\n"
          ]
        },
        {
          "name": "stdout",
          "output_type": "stream",
          "text": [
            "Epoch 142/142.. Train loss: 4.174.. Val loss: 4.199.. Train L1 norm: 7.197.. Val L1 norm: 26.481.. Train Linf norm: 327.366.. Val Linf norm: 1552.909\n",
            "Epoch 1/126.. Train loss: 5.038.. Val loss: 4.193.. Train L1 norm: 4.854.. Val L1 norm: 15.893.. Train Linf norm: 360.070.. Val Linf norm: 1822.980\n"
          ]
        },
        {
          "name": "stderr",
          "output_type": "stream",
          "text": [
            "\u001b[32m[I 2023-05-28 21:30:40,629]\u001b[0m Trial 9 pruned. \u001b[0m\n"
          ]
        },
        {
          "name": "stdout",
          "output_type": "stream",
          "text": [
            "Epoch 2/126.. Train loss: 4.293.. Val loss: 4.124.. Train L1 norm: 4.376.. Val L1 norm: 23.798.. Train Linf norm: 345.555.. Val Linf norm: 2752.882\n"
          ]
        },
        {
          "name": "stderr",
          "output_type": "stream",
          "text": [
            "\u001b[32m[I 2023-05-28 21:32:10,035]\u001b[0m Trial 10 pruned. \u001b[0m\n"
          ]
        },
        {
          "name": "stdout",
          "output_type": "stream",
          "text": [
            "Epoch 1/120.. Train loss: 1917916345050543124551565312.000.. Val loss: 1243319078351218811118551040.000.. Train L1 norm: 1266605253346026128630874112.000.. Val L1 norm: 3573530518958569889288159232.000.. Train Linf norm: 113042370929675799647773261824.000.. Val Linf norm: 410864179806814238359714529280.000\n",
            "Epoch 1/149.. Train loss: 391.050.. Val loss: 101.398.. Train L1 norm: 1.432.. Val L1 norm: 1.409.. Train Linf norm: 166.294.. Val Linf norm: 192.135\n",
            "Epoch 2/149.. Train loss: 1052.620.. Val loss: 97.985.. Train L1 norm: 1.385.. Val L1 norm: 1.657.. Train Linf norm: 147.543.. Val Linf norm: 312.211\n",
            "Epoch 3/149.. Train loss: 2940.207.. Val loss: 122.750.. Train L1 norm: 1.607.. Val L1 norm: 1.859.. Train Linf norm: 259.053.. Val Linf norm: 409.501\n",
            "Epoch 4/149.. Train loss: 2105.303.. Val loss: 105.423.. Train L1 norm: 1.395.. Val L1 norm: 1.718.. Train Linf norm: 153.685.. Val Linf norm: 342.266\n",
            "Epoch 5/149.. Train loss: 789.732.. Val loss: 137.798.. Train L1 norm: 1.369.. Val L1 norm: 2.027.. Train Linf norm: 144.586.. Val Linf norm: 491.877\n",
            "Epoch 6/149.. Train loss: 1435.898.. Val loss: 119.539.. Train L1 norm: 1.475.. Val L1 norm: 1.846.. Train Linf norm: 197.792.. Val Linf norm: 404.314\n",
            "Epoch 7/149.. Train loss: 339.379.. Val loss: 111.329.. Train L1 norm: 1.416.. Val L1 norm: 1.730.. Train Linf norm: 162.925.. Val Linf norm: 347.361\n",
            "Epoch 8/149.. Train loss: 185.967.. Val loss: 114.925.. Train L1 norm: 1.476.. Val L1 norm: 1.765.. Train Linf norm: 195.533.. Val Linf norm: 364.390\n",
            "Epoch 9/149.. Train loss: 1101.538.. Val loss: 107.599.. Train L1 norm: 1.430.. Val L1 norm: 1.675.. Train Linf norm: 171.776.. Val Linf norm: 319.858\n",
            "Epoch 10/149.. Train loss: 236.419.. Val loss: 95.621.. Train L1 norm: 1.490.. Val L1 norm: 1.537.. Train Linf norm: 199.002.. Val Linf norm: 251.771\n",
            "Epoch 11/149.. Train loss: 363.924.. Val loss: 95.500.. Train L1 norm: 1.565.. Val L1 norm: 1.537.. Train Linf norm: 236.497.. Val Linf norm: 252.190\n",
            "Epoch 12/149.. Train loss: 2092.921.. Val loss: 96.699.. Train L1 norm: 1.506.. Val L1 norm: 1.552.. Train Linf norm: 207.528.. Val Linf norm: 259.435\n",
            "Epoch 13/149.. Train loss: 573.380.. Val loss: 97.604.. Train L1 norm: 1.511.. Val L1 norm: 1.562.. Train Linf norm: 210.286.. Val Linf norm: 264.332\n",
            "Epoch 14/149.. Train loss: 375.291.. Val loss: 96.311.. Train L1 norm: 1.490.. Val L1 norm: 1.546.. Train Linf norm: 194.958.. Val Linf norm: 256.507\n",
            "Epoch 15/149.. Train loss: 1099.361.. Val loss: 97.152.. Train L1 norm: 1.538.. Val L1 norm: 1.557.. Train Linf norm: 224.639.. Val Linf norm: 261.760\n",
            "Epoch 16/149.. Train loss: 277.576.. Val loss: 97.169.. Train L1 norm: 1.453.. Val L1 norm: 1.557.. Train Linf norm: 181.755.. Val Linf norm: 261.830\n",
            "Epoch 17/149.. Train loss: 612.461.. Val loss: 97.167.. Train L1 norm: 1.518.. Val L1 norm: 1.557.. Train Linf norm: 215.022.. Val Linf norm: 261.819\n",
            "Epoch 18/149.. Train loss: 509.315.. Val loss: 97.162.. Train L1 norm: 1.437.. Val L1 norm: 1.557.. Train Linf norm: 171.270.. Val Linf norm: 261.798\n",
            "Epoch 19/149.. Train loss: 2934.389.. Val loss: 97.214.. Train L1 norm: 1.527.. Val L1 norm: 1.558.. Train Linf norm: 219.930.. Val Linf norm: 262.089\n",
            "Epoch 20/149.. Train loss: 634.286.. Val loss: 97.191.. Train L1 norm: 1.423.. Val L1 norm: 1.557.. Train Linf norm: 165.808.. Val Linf norm: 261.987\n",
            "Epoch 21/149.. Train loss: 2097.482.. Val loss: 97.191.. Train L1 norm: 1.461.. Val L1 norm: 1.557.. Train Linf norm: 184.731.. Val Linf norm: 261.988\n",
            "Epoch 22/149.. Train loss: 225.446.. Val loss: 97.191.. Train L1 norm: 1.491.. Val L1 norm: 1.557.. Train Linf norm: 198.670.. Val Linf norm: 261.989\n",
            "Epoch 23/149.. Train loss: 3825.584.. Val loss: 97.191.. Train L1 norm: 1.556.. Val L1 norm: 1.557.. Train Linf norm: 232.455.. Val Linf norm: 261.990\n",
            "Epoch 24/149.. Train loss: 155.450.. Val loss: 97.191.. Train L1 norm: 1.462.. Val L1 norm: 1.557.. Train Linf norm: 184.911.. Val Linf norm: 261.989\n",
            "Epoch 25/149.. Train loss: 472.558.. Val loss: 97.191.. Train L1 norm: 1.487.. Val L1 norm: 1.557.. Train Linf norm: 196.776.. Val Linf norm: 261.989\n",
            "Epoch 26/149.. Train loss: 210.636.. Val loss: 97.191.. Train L1 norm: 1.425.. Val L1 norm: 1.557.. Train Linf norm: 166.258.. Val Linf norm: 261.989\n",
            "Epoch 27/149.. Train loss: 1240.648.. Val loss: 97.191.. Train L1 norm: 1.510.. Val L1 norm: 1.557.. Train Linf norm: 208.285.. Val Linf norm: 261.989\n",
            "Epoch 28/149.. Train loss: 1696.770.. Val loss: 97.191.. Train L1 norm: 1.652.. Val L1 norm: 1.557.. Train Linf norm: 283.596.. Val Linf norm: 261.989\n",
            "Epoch 29/149.. Train loss: 757.159.. Val loss: 97.191.. Train L1 norm: 1.420.. Val L1 norm: 1.557.. Train Linf norm: 165.520.. Val Linf norm: 261.989\n",
            "Epoch 30/149.. Train loss: 1006.626.. Val loss: 97.191.. Train L1 norm: 1.462.. Val L1 norm: 1.557.. Train Linf norm: 186.197.. Val Linf norm: 261.989\n",
            "Epoch 31/149.. Train loss: 836.395.. Val loss: 97.191.. Train L1 norm: 1.493.. Val L1 norm: 1.557.. Train Linf norm: 200.472.. Val Linf norm: 261.989\n",
            "Epoch 32/149.. Train loss: 953.620.. Val loss: 97.191.. Train L1 norm: 1.466.. Val L1 norm: 1.557.. Train Linf norm: 186.252.. Val Linf norm: 261.989\n",
            "Epoch 33/149.. Train loss: 2058.169.. Val loss: 97.191.. Train L1 norm: 1.436.. Val L1 norm: 1.557.. Train Linf norm: 172.996.. Val Linf norm: 261.989\n",
            "Epoch 34/149.. Train loss: 638.706.. Val loss: 97.191.. Train L1 norm: 1.453.. Val L1 norm: 1.557.. Train Linf norm: 180.378.. Val Linf norm: 261.989\n",
            "Epoch 35/149.. Train loss: 237.135.. Val loss: 97.191.. Train L1 norm: 1.449.. Val L1 norm: 1.557.. Train Linf norm: 178.382.. Val Linf norm: 261.989\n",
            "Epoch 36/149.. Train loss: 791.544.. Val loss: 97.191.. Train L1 norm: 1.583.. Val L1 norm: 1.557.. Train Linf norm: 248.797.. Val Linf norm: 261.989\n",
            "Epoch 37/149.. Train loss: 1412.127.. Val loss: 97.191.. Train L1 norm: 1.486.. Val L1 norm: 1.557.. Train Linf norm: 198.557.. Val Linf norm: 261.989\n",
            "Epoch 38/149.. Train loss: 1894.466.. Val loss: 97.191.. Train L1 norm: 1.520.. Val L1 norm: 1.557.. Train Linf norm: 214.262.. Val Linf norm: 261.989\n",
            "Epoch 39/149.. Train loss: 1445.842.. Val loss: 97.191.. Train L1 norm: 1.560.. Val L1 norm: 1.557.. Train Linf norm: 236.395.. Val Linf norm: 261.989\n",
            "Epoch 40/149.. Train loss: 988.826.. Val loss: 97.191.. Train L1 norm: 1.564.. Val L1 norm: 1.557.. Train Linf norm: 237.824.. Val Linf norm: 261.989\n",
            "Epoch 41/149.. Train loss: 775.384.. Val loss: 97.191.. Train L1 norm: 1.488.. Val L1 norm: 1.557.. Train Linf norm: 197.793.. Val Linf norm: 261.989\n",
            "Epoch 42/149.. Train loss: 1147.181.. Val loss: 97.191.. Train L1 norm: 1.475.. Val L1 norm: 1.557.. Train Linf norm: 191.601.. Val Linf norm: 261.989\n",
            "Epoch 43/149.. Train loss: 841.692.. Val loss: 97.191.. Train L1 norm: 1.488.. Val L1 norm: 1.557.. Train Linf norm: 199.381.. Val Linf norm: 261.989\n",
            "Epoch 44/149.. Train loss: 576.942.. Val loss: 97.191.. Train L1 norm: 1.530.. Val L1 norm: 1.557.. Train Linf norm: 219.940.. Val Linf norm: 261.989\n",
            "Epoch 45/149.. Train loss: 7031.228.. Val loss: 97.191.. Train L1 norm: 1.448.. Val L1 norm: 1.557.. Train Linf norm: 178.972.. Val Linf norm: 261.989\n",
            "Epoch 46/149.. Train loss: 1258.713.. Val loss: 97.191.. Train L1 norm: 1.433.. Val L1 norm: 1.557.. Train Linf norm: 168.422.. Val Linf norm: 261.989\n",
            "Epoch 47/149.. Train loss: 2157.495.. Val loss: 97.191.. Train L1 norm: 1.449.. Val L1 norm: 1.557.. Train Linf norm: 180.143.. Val Linf norm: 261.989\n",
            "Epoch 48/149.. Train loss: 202.219.. Val loss: 97.191.. Train L1 norm: 1.442.. Val L1 norm: 1.557.. Train Linf norm: 174.640.. Val Linf norm: 261.989\n",
            "Epoch 49/149.. Train loss: 203.487.. Val loss: 97.191.. Train L1 norm: 1.531.. Val L1 norm: 1.557.. Train Linf norm: 220.432.. Val Linf norm: 261.989\n",
            "Epoch 50/149.. Train loss: 935.607.. Val loss: 97.191.. Train L1 norm: 1.587.. Val L1 norm: 1.557.. Train Linf norm: 251.418.. Val Linf norm: 261.989\n",
            "Epoch 51/149.. Train loss: 396.933.. Val loss: 97.191.. Train L1 norm: 1.469.. Val L1 norm: 1.557.. Train Linf norm: 188.271.. Val Linf norm: 261.989\n",
            "Epoch 52/149.. Train loss: 507.964.. Val loss: 97.191.. Train L1 norm: 1.454.. Val L1 norm: 1.557.. Train Linf norm: 181.758.. Val Linf norm: 261.989\n",
            "Epoch 53/149.. Train loss: 571.225.. Val loss: 97.191.. Train L1 norm: 1.513.. Val L1 norm: 1.557.. Train Linf norm: 212.169.. Val Linf norm: 261.989\n",
            "Epoch 54/149.. Train loss: 617.498.. Val loss: 97.191.. Train L1 norm: 1.468.. Val L1 norm: 1.557.. Train Linf norm: 189.742.. Val Linf norm: 261.989\n",
            "Epoch 55/149.. Train loss: 163.248.. Val loss: 97.191.. Train L1 norm: 1.447.. Val L1 norm: 1.557.. Train Linf norm: 177.889.. Val Linf norm: 261.989\n",
            "Epoch 56/149.. Train loss: 857.680.. Val loss: 97.191.. Train L1 norm: 1.467.. Val L1 norm: 1.557.. Train Linf norm: 187.553.. Val Linf norm: 261.989\n",
            "Epoch 57/149.. Train loss: 540.483.. Val loss: 97.191.. Train L1 norm: 1.512.. Val L1 norm: 1.557.. Train Linf norm: 210.764.. Val Linf norm: 261.989\n",
            "Epoch 58/149.. Train loss: 223.004.. Val loss: 97.191.. Train L1 norm: 1.483.. Val L1 norm: 1.557.. Train Linf norm: 197.112.. Val Linf norm: 261.989\n",
            "Epoch 59/149.. Train loss: 1391.933.. Val loss: 97.191.. Train L1 norm: 1.474.. Val L1 norm: 1.557.. Train Linf norm: 191.588.. Val Linf norm: 261.989\n",
            "Epoch 60/149.. Train loss: 467.454.. Val loss: 97.191.. Train L1 norm: 1.444.. Val L1 norm: 1.557.. Train Linf norm: 175.721.. Val Linf norm: 261.989\n",
            "Epoch 61/149.. Train loss: 2564.312.. Val loss: 97.191.. Train L1 norm: 1.621.. Val L1 norm: 1.557.. Train Linf norm: 258.215.. Val Linf norm: 261.989\n",
            "Epoch 62/149.. Train loss: 635.935.. Val loss: 97.191.. Train L1 norm: 1.589.. Val L1 norm: 1.557.. Train Linf norm: 251.168.. Val Linf norm: 261.989\n",
            "Epoch 63/149.. Train loss: 1597.246.. Val loss: 97.191.. Train L1 norm: 1.438.. Val L1 norm: 1.557.. Train Linf norm: 174.444.. Val Linf norm: 261.989\n",
            "Epoch 64/149.. Train loss: 691.656.. Val loss: 97.191.. Train L1 norm: 1.375.. Val L1 norm: 1.557.. Train Linf norm: 141.500.. Val Linf norm: 261.989\n",
            "Epoch 65/149.. Train loss: 173.228.. Val loss: 97.191.. Train L1 norm: 1.547.. Val L1 norm: 1.557.. Train Linf norm: 229.941.. Val Linf norm: 261.989\n",
            "Epoch 66/149.. Train loss: 486.148.. Val loss: 97.191.. Train L1 norm: 1.444.. Val L1 norm: 1.557.. Train Linf norm: 172.305.. Val Linf norm: 261.989\n",
            "Epoch 67/149.. Train loss: 1035.061.. Val loss: 97.191.. Train L1 norm: 1.632.. Val L1 norm: 1.557.. Train Linf norm: 272.468.. Val Linf norm: 261.989\n",
            "Epoch 68/149.. Train loss: 269.340.. Val loss: 97.191.. Train L1 norm: 1.434.. Val L1 norm: 1.557.. Train Linf norm: 170.329.. Val Linf norm: 261.989\n",
            "Epoch 69/149.. Train loss: 207.904.. Val loss: 97.191.. Train L1 norm: 1.427.. Val L1 norm: 1.557.. Train Linf norm: 165.553.. Val Linf norm: 261.989\n",
            "Epoch 70/149.. Train loss: 317.304.. Val loss: 97.191.. Train L1 norm: 1.449.. Val L1 norm: 1.557.. Train Linf norm: 179.601.. Val Linf norm: 261.989\n",
            "Epoch 71/149.. Train loss: 321.221.. Val loss: 97.191.. Train L1 norm: 1.534.. Val L1 norm: 1.557.. Train Linf norm: 220.230.. Val Linf norm: 261.989\n",
            "Epoch 72/149.. Train loss: 316.359.. Val loss: 97.191.. Train L1 norm: 1.486.. Val L1 norm: 1.557.. Train Linf norm: 196.886.. Val Linf norm: 261.989\n",
            "Epoch 73/149.. Train loss: 914.321.. Val loss: 97.191.. Train L1 norm: 1.481.. Val L1 norm: 1.557.. Train Linf norm: 194.924.. Val Linf norm: 261.989\n",
            "Epoch 74/149.. Train loss: 537.674.. Val loss: 97.191.. Train L1 norm: 1.653.. Val L1 norm: 1.557.. Train Linf norm: 282.481.. Val Linf norm: 261.989\n",
            "Epoch 75/149.. Train loss: 236.384.. Val loss: 97.191.. Train L1 norm: 1.479.. Val L1 norm: 1.557.. Train Linf norm: 193.620.. Val Linf norm: 261.989\n",
            "Epoch 76/149.. Train loss: 269.895.. Val loss: 97.191.. Train L1 norm: 1.516.. Val L1 norm: 1.557.. Train Linf norm: 213.971.. Val Linf norm: 261.989\n",
            "Epoch 77/149.. Train loss: 450.741.. Val loss: 97.191.. Train L1 norm: 1.462.. Val L1 norm: 1.557.. Train Linf norm: 183.823.. Val Linf norm: 261.989\n",
            "Epoch 78/149.. Train loss: 185.422.. Val loss: 97.191.. Train L1 norm: 1.423.. Val L1 norm: 1.557.. Train Linf norm: 166.351.. Val Linf norm: 261.989\n",
            "Epoch 79/149.. Train loss: 203.243.. Val loss: 97.191.. Train L1 norm: 1.563.. Val L1 norm: 1.557.. Train Linf norm: 238.283.. Val Linf norm: 261.989\n",
            "Epoch 80/149.. Train loss: 386.624.. Val loss: 97.191.. Train L1 norm: 1.492.. Val L1 norm: 1.557.. Train Linf norm: 199.002.. Val Linf norm: 261.989\n",
            "Epoch 81/149.. Train loss: 2570.992.. Val loss: 97.191.. Train L1 norm: 1.618.. Val L1 norm: 1.557.. Train Linf norm: 266.567.. Val Linf norm: 261.989\n",
            "Epoch 82/149.. Train loss: 232.197.. Val loss: 97.191.. Train L1 norm: 1.518.. Val L1 norm: 1.557.. Train Linf norm: 213.101.. Val Linf norm: 261.989\n",
            "Epoch 83/149.. Train loss: 445.059.. Val loss: 97.191.. Train L1 norm: 1.518.. Val L1 norm: 1.557.. Train Linf norm: 213.613.. Val Linf norm: 261.989\n",
            "Epoch 84/149.. Train loss: 286.732.. Val loss: 97.191.. Train L1 norm: 1.425.. Val L1 norm: 1.557.. Train Linf norm: 166.335.. Val Linf norm: 261.989\n",
            "Epoch 85/149.. Train loss: 125.261.. Val loss: 97.191.. Train L1 norm: 1.449.. Val L1 norm: 1.557.. Train Linf norm: 178.114.. Val Linf norm: 261.989\n",
            "Epoch 86/149.. Train loss: 514.873.. Val loss: 97.191.. Train L1 norm: 1.469.. Val L1 norm: 1.557.. Train Linf norm: 188.145.. Val Linf norm: 261.989\n",
            "Epoch 87/149.. Train loss: 492.661.. Val loss: 97.191.. Train L1 norm: 1.430.. Val L1 norm: 1.557.. Train Linf norm: 167.438.. Val Linf norm: 261.989\n",
            "Epoch 88/149.. Train loss: 453.049.. Val loss: 97.191.. Train L1 norm: 1.514.. Val L1 norm: 1.557.. Train Linf norm: 213.807.. Val Linf norm: 261.989\n",
            "Epoch 89/149.. Train loss: 633.365.. Val loss: 97.191.. Train L1 norm: 1.521.. Val L1 norm: 1.557.. Train Linf norm: 214.640.. Val Linf norm: 261.989\n",
            "Epoch 90/149.. Train loss: 1168.992.. Val loss: 97.191.. Train L1 norm: 1.489.. Val L1 norm: 1.557.. Train Linf norm: 199.857.. Val Linf norm: 261.989\n",
            "Epoch 91/149.. Train loss: 3935.802.. Val loss: 97.191.. Train L1 norm: 1.501.. Val L1 norm: 1.557.. Train Linf norm: 207.860.. Val Linf norm: 261.989\n",
            "Epoch 92/149.. Train loss: 309.973.. Val loss: 97.191.. Train L1 norm: 1.519.. Val L1 norm: 1.557.. Train Linf norm: 213.381.. Val Linf norm: 261.989\n",
            "Epoch 93/149.. Train loss: 257.591.. Val loss: 97.191.. Train L1 norm: 1.478.. Val L1 norm: 1.557.. Train Linf norm: 193.420.. Val Linf norm: 261.989\n",
            "Epoch 94/149.. Train loss: 1170.199.. Val loss: 97.191.. Train L1 norm: 1.476.. Val L1 norm: 1.557.. Train Linf norm: 192.995.. Val Linf norm: 261.989\n",
            "Epoch 95/149.. Train loss: 1373.763.. Val loss: 97.191.. Train L1 norm: 1.415.. Val L1 norm: 1.557.. Train Linf norm: 160.046.. Val Linf norm: 261.989\n",
            "Epoch 96/149.. Train loss: 212.021.. Val loss: 97.191.. Train L1 norm: 1.551.. Val L1 norm: 1.557.. Train Linf norm: 231.848.. Val Linf norm: 261.989\n",
            "Epoch 97/149.. Train loss: 363.054.. Val loss: 97.191.. Train L1 norm: 1.649.. Val L1 norm: 1.557.. Train Linf norm: 279.891.. Val Linf norm: 261.989\n",
            "Epoch 98/149.. Train loss: 961.525.. Val loss: 97.191.. Train L1 norm: 1.510.. Val L1 norm: 1.557.. Train Linf norm: 208.855.. Val Linf norm: 261.989\n",
            "Epoch 99/149.. Train loss: 412.576.. Val loss: 97.191.. Train L1 norm: 1.407.. Val L1 norm: 1.557.. Train Linf norm: 153.835.. Val Linf norm: 261.989\n",
            "Epoch 100/149.. Train loss: 215.432.. Val loss: 97.191.. Train L1 norm: 1.399.. Val L1 norm: 1.557.. Train Linf norm: 152.234.. Val Linf norm: 261.989\n",
            "Epoch 101/149.. Train loss: 640.847.. Val loss: 97.191.. Train L1 norm: 1.517.. Val L1 norm: 1.557.. Train Linf norm: 214.116.. Val Linf norm: 261.989\n",
            "Epoch 102/149.. Train loss: 1281.977.. Val loss: 97.191.. Train L1 norm: 1.484.. Val L1 norm: 1.557.. Train Linf norm: 198.333.. Val Linf norm: 261.989\n",
            "Epoch 103/149.. Train loss: 582.191.. Val loss: 97.191.. Train L1 norm: 1.514.. Val L1 norm: 1.557.. Train Linf norm: 211.959.. Val Linf norm: 261.989\n",
            "Epoch 104/149.. Train loss: 217.036.. Val loss: 97.191.. Train L1 norm: 1.529.. Val L1 norm: 1.557.. Train Linf norm: 217.647.. Val Linf norm: 261.989\n",
            "Epoch 105/149.. Train loss: 1829.676.. Val loss: 97.191.. Train L1 norm: 1.424.. Val L1 norm: 1.557.. Train Linf norm: 166.969.. Val Linf norm: 261.989\n",
            "Epoch 106/149.. Train loss: 194.291.. Val loss: 97.191.. Train L1 norm: 1.447.. Val L1 norm: 1.557.. Train Linf norm: 179.155.. Val Linf norm: 261.989\n",
            "Epoch 107/149.. Train loss: 837.941.. Val loss: 97.191.. Train L1 norm: 1.568.. Val L1 norm: 1.557.. Train Linf norm: 239.748.. Val Linf norm: 261.989\n",
            "Epoch 108/149.. Train loss: 1026.777.. Val loss: 97.191.. Train L1 norm: 1.520.. Val L1 norm: 1.557.. Train Linf norm: 214.869.. Val Linf norm: 261.989\n",
            "Epoch 109/149.. Train loss: 307.638.. Val loss: 97.191.. Train L1 norm: 1.427.. Val L1 norm: 1.557.. Train Linf norm: 168.304.. Val Linf norm: 261.989\n",
            "Epoch 110/149.. Train loss: 679.635.. Val loss: 97.191.. Train L1 norm: 1.414.. Val L1 norm: 1.557.. Train Linf norm: 160.045.. Val Linf norm: 261.989\n",
            "Epoch 111/149.. Train loss: 431.432.. Val loss: 97.191.. Train L1 norm: 1.521.. Val L1 norm: 1.557.. Train Linf norm: 216.875.. Val Linf norm: 261.989\n",
            "Epoch 112/149.. Train loss: 2510.134.. Val loss: 97.191.. Train L1 norm: 1.466.. Val L1 norm: 1.557.. Train Linf norm: 187.690.. Val Linf norm: 261.989\n",
            "Epoch 113/149.. Train loss: 2002.186.. Val loss: 97.191.. Train L1 norm: 1.441.. Val L1 norm: 1.557.. Train Linf norm: 174.635.. Val Linf norm: 261.989\n",
            "Epoch 114/149.. Train loss: 3154.216.. Val loss: 97.191.. Train L1 norm: 1.418.. Val L1 norm: 1.557.. Train Linf norm: 163.357.. Val Linf norm: 261.989\n",
            "Epoch 115/149.. Train loss: 768.911.. Val loss: 97.191.. Train L1 norm: 1.461.. Val L1 norm: 1.557.. Train Linf norm: 185.350.. Val Linf norm: 261.989\n",
            "Epoch 116/149.. Train loss: 1003.002.. Val loss: 97.191.. Train L1 norm: 1.482.. Val L1 norm: 1.557.. Train Linf norm: 194.429.. Val Linf norm: 261.989\n",
            "Epoch 117/149.. Train loss: 1085.821.. Val loss: 97.191.. Train L1 norm: 1.501.. Val L1 norm: 1.557.. Train Linf norm: 205.271.. Val Linf norm: 261.989\n",
            "Epoch 118/149.. Train loss: 3513.643.. Val loss: 97.191.. Train L1 norm: 1.533.. Val L1 norm: 1.557.. Train Linf norm: 222.171.. Val Linf norm: 261.989\n",
            "Epoch 119/149.. Train loss: 340.880.. Val loss: 97.191.. Train L1 norm: 1.508.. Val L1 norm: 1.557.. Train Linf norm: 208.163.. Val Linf norm: 261.989\n",
            "Epoch 120/149.. Train loss: 666.360.. Val loss: 97.191.. Train L1 norm: 1.338.. Val L1 norm: 1.557.. Train Linf norm: 121.659.. Val Linf norm: 261.989\n",
            "Epoch 121/149.. Train loss: 2916.390.. Val loss: 97.191.. Train L1 norm: 1.579.. Val L1 norm: 1.557.. Train Linf norm: 245.355.. Val Linf norm: 261.989\n",
            "Epoch 122/149.. Train loss: 403.667.. Val loss: 97.191.. Train L1 norm: 1.542.. Val L1 norm: 1.557.. Train Linf norm: 222.928.. Val Linf norm: 261.989\n",
            "Epoch 123/149.. Train loss: 731.908.. Val loss: 97.191.. Train L1 norm: 1.386.. Val L1 norm: 1.557.. Train Linf norm: 146.250.. Val Linf norm: 261.989\n",
            "Epoch 124/149.. Train loss: 1159.467.. Val loss: 97.191.. Train L1 norm: 1.465.. Val L1 norm: 1.557.. Train Linf norm: 186.736.. Val Linf norm: 261.989\n",
            "Epoch 125/149.. Train loss: 1336.630.. Val loss: 97.191.. Train L1 norm: 1.633.. Val L1 norm: 1.557.. Train Linf norm: 273.788.. Val Linf norm: 261.989\n",
            "Epoch 126/149.. Train loss: 1945.062.. Val loss: 97.191.. Train L1 norm: 1.511.. Val L1 norm: 1.557.. Train Linf norm: 209.465.. Val Linf norm: 261.989\n",
            "Epoch 127/149.. Train loss: 260.602.. Val loss: 97.191.. Train L1 norm: 1.565.. Val L1 norm: 1.557.. Train Linf norm: 237.045.. Val Linf norm: 261.989\n",
            "Epoch 128/149.. Train loss: 490.863.. Val loss: 97.191.. Train L1 norm: 1.461.. Val L1 norm: 1.557.. Train Linf norm: 184.156.. Val Linf norm: 261.989\n",
            "Epoch 129/149.. Train loss: 973.398.. Val loss: 97.191.. Train L1 norm: 1.453.. Val L1 norm: 1.557.. Train Linf norm: 180.581.. Val Linf norm: 261.989\n",
            "Epoch 130/149.. Train loss: 231.357.. Val loss: 97.191.. Train L1 norm: 1.456.. Val L1 norm: 1.557.. Train Linf norm: 181.489.. Val Linf norm: 261.989\n",
            "Epoch 131/149.. Train loss: 731.818.. Val loss: 97.191.. Train L1 norm: 1.538.. Val L1 norm: 1.557.. Train Linf norm: 222.201.. Val Linf norm: 261.989\n",
            "Epoch 132/149.. Train loss: 1029.301.. Val loss: 97.191.. Train L1 norm: 1.448.. Val L1 norm: 1.557.. Train Linf norm: 179.687.. Val Linf norm: 261.989\n",
            "Epoch 133/149.. Train loss: 522.743.. Val loss: 97.191.. Train L1 norm: 1.426.. Val L1 norm: 1.557.. Train Linf norm: 167.983.. Val Linf norm: 261.989\n",
            "Epoch 134/149.. Train loss: 380.996.. Val loss: 97.191.. Train L1 norm: 1.592.. Val L1 norm: 1.557.. Train Linf norm: 248.829.. Val Linf norm: 261.989\n",
            "Epoch 135/149.. Train loss: 706.521.. Val loss: 97.191.. Train L1 norm: 1.561.. Val L1 norm: 1.557.. Train Linf norm: 236.596.. Val Linf norm: 261.989\n",
            "Epoch 136/149.. Train loss: 226.381.. Val loss: 97.191.. Train L1 norm: 1.457.. Val L1 norm: 1.557.. Train Linf norm: 182.774.. Val Linf norm: 261.989\n",
            "Epoch 137/149.. Train loss: 501.095.. Val loss: 97.191.. Train L1 norm: 1.603.. Val L1 norm: 1.557.. Train Linf norm: 257.086.. Val Linf norm: 261.989\n",
            "Epoch 138/149.. Train loss: 2331.538.. Val loss: 97.191.. Train L1 norm: 1.643.. Val L1 norm: 1.557.. Train Linf norm: 277.202.. Val Linf norm: 261.989\n",
            "Epoch 139/149.. Train loss: 472.393.. Val loss: 97.191.. Train L1 norm: 1.454.. Val L1 norm: 1.557.. Train Linf norm: 181.540.. Val Linf norm: 261.989\n",
            "Epoch 140/149.. Train loss: 165.502.. Val loss: 97.191.. Train L1 norm: 1.450.. Val L1 norm: 1.557.. Train Linf norm: 176.281.. Val Linf norm: 261.989\n",
            "Epoch 141/149.. Train loss: 127.687.. Val loss: 97.191.. Train L1 norm: 1.482.. Val L1 norm: 1.557.. Train Linf norm: 195.676.. Val Linf norm: 261.989\n",
            "Epoch 142/149.. Train loss: 387.994.. Val loss: 97.191.. Train L1 norm: 1.510.. Val L1 norm: 1.557.. Train Linf norm: 208.493.. Val Linf norm: 261.989\n",
            "Epoch 143/149.. Train loss: 595.799.. Val loss: 97.191.. Train L1 norm: 1.536.. Val L1 norm: 1.557.. Train Linf norm: 222.773.. Val Linf norm: 261.989\n",
            "Epoch 144/149.. Train loss: 2204.136.. Val loss: 97.191.. Train L1 norm: 1.511.. Val L1 norm: 1.557.. Train Linf norm: 208.405.. Val Linf norm: 261.989\n",
            "Epoch 145/149.. Train loss: 1698.350.. Val loss: 97.191.. Train L1 norm: 1.520.. Val L1 norm: 1.557.. Train Linf norm: 216.039.. Val Linf norm: 261.989\n",
            "Epoch 146/149.. Train loss: 152.475.. Val loss: 97.191.. Train L1 norm: 1.536.. Val L1 norm: 1.557.. Train Linf norm: 222.842.. Val Linf norm: 261.989\n",
            "Epoch 147/149.. Train loss: 403.222.. Val loss: 97.191.. Train L1 norm: 1.371.. Val L1 norm: 1.557.. Train Linf norm: 138.803.. Val Linf norm: 261.989\n",
            "Epoch 148/149.. Train loss: 629.510.. Val loss: 97.191.. Train L1 norm: 1.451.. Val L1 norm: 1.557.. Train Linf norm: 177.956.. Val Linf norm: 261.989\n"
          ]
        },
        {
          "name": "stderr",
          "output_type": "stream",
          "text": [
            "\u001b[32m[I 2023-05-28 23:58:58,678]\u001b[0m Trial 11 finished with value: 1.5574198956425984 and parameters: {'n_layers': 5, 'n_units_0': 3173, 'n_units_1': 2551, 'n_units_2': 3600, 'n_units_3': 3959, 'n_units_4': 104, 'hidden_activation': 'GELU', 'output_activation': 'Linear', 'loss': 'MSE', 'optimizer': 'Adam', 'lr': 1.429128992411471e-06, 'batch_size': 512, 'n_epochs': 149, 'scheduler': 'StepLR', 'dropout_rate': 0.3037220060313668, 'weight_decay': 0.0008705866531443986, 'beta1': 0.9948486404725556, 'beta2': 0.9990123775599838, 'step_size': 5, 'gamma': 0.10899783210727848}. Best is trial 11 with value: 1.5574198956425984.\u001b[0m\n"
          ]
        },
        {
          "name": "stdout",
          "output_type": "stream",
          "text": [
            "Epoch 149/149.. Train loss: 1654.759.. Val loss: 97.191.. Train L1 norm: 1.529.. Val L1 norm: 1.557.. Train Linf norm: 220.116.. Val Linf norm: 261.989\n"
          ]
        },
        {
          "name": "stderr",
          "output_type": "stream",
          "text": [
            "<ipython-input-37-ddc3c9d46736>:44: FutureWarning: suggest_loguniform has been deprecated in v3.0.0. This feature will be removed in v6.0.0. See https://github.com/optuna/optuna/releases/tag/v3.0.0. Use :func:`~optuna.trial.Trial.suggest_float` instead.\n",
            "  lr = trial.suggest_loguniform(\"lr\", 1e-6, 1)\n",
            "<ipython-input-37-ddc3c9d46736>:76: FutureWarning: suggest_uniform has been deprecated in v3.0.0. This feature will be removed in v6.0.0. See https://github.com/optuna/optuna/releases/tag/v3.0.0. Use :func:`~optuna.trial.Trial.suggest_float` instead.\n",
            "  dropout_rate = trial.suggest_uniform(\"dropout_rate\", 0.0, 0.5)\n"
          ]
        },
        {
          "name": "stdout",
          "output_type": "stream",
          "text": [
            "Epoch 1/150.. Train loss: 472.895.. Val loss: 172.732.. Train L1 norm: 1.737.. Val L1 norm: 2.852.. Train Linf norm: 291.358.. Val Linf norm: 886.679\n",
            "Epoch 2/150.. Train loss: 554.544.. Val loss: 66.794.. Train L1 norm: 1.624.. Val L1 norm: 2.109.. Train Linf norm: 233.279.. Val Linf norm: 526.548\n",
            "Epoch 3/150.. Train loss: 704.651.. Val loss: 77.190.. Train L1 norm: 1.597.. Val L1 norm: 1.592.. Train Linf norm: 235.510.. Val Linf norm: 275.265\n",
            "Epoch 4/150.. Train loss: 326.774.. Val loss: 67.516.. Train L1 norm: 1.442.. Val L1 norm: 1.501.. Train Linf norm: 167.600.. Val Linf norm: 223.531\n",
            "Epoch 5/150.. Train loss: 226.233.. Val loss: 59.967.. Train L1 norm: 1.527.. Val L1 norm: 1.956.. Train Linf norm: 215.448.. Val Linf norm: 445.982\n",
            "Epoch 6/150.. Train loss: 134.501.. Val loss: 62.121.. Train L1 norm: 1.461.. Val L1 norm: 1.845.. Train Linf norm: 174.591.. Val Linf norm: 392.598\n",
            "Epoch 7/150.. Train loss: 136.446.. Val loss: 62.116.. Train L1 norm: 1.412.. Val L1 norm: 1.853.. Train Linf norm: 157.532.. Val Linf norm: 398.293\n",
            "Epoch 8/150.. Train loss: 105.709.. Val loss: 61.019.. Train L1 norm: 1.422.. Val L1 norm: 1.943.. Train Linf norm: 160.263.. Val Linf norm: 439.561\n",
            "Epoch 9/150.. Train loss: 87.144.. Val loss: 61.124.. Train L1 norm: 1.411.. Val L1 norm: 1.944.. Train Linf norm: 154.530.. Val Linf norm: 438.086\n",
            "Epoch 10/150.. Train loss: 88.068.. Val loss: 61.212.. Train L1 norm: 1.517.. Val L1 norm: 2.003.. Train Linf norm: 204.607.. Val Linf norm: 465.431\n",
            "Epoch 11/150.. Train loss: 583.359.. Val loss: 61.163.. Train L1 norm: 1.450.. Val L1 norm: 2.008.. Train Linf norm: 167.745.. Val Linf norm: 467.207\n",
            "Epoch 12/150.. Train loss: 277.072.. Val loss: 61.209.. Train L1 norm: 1.430.. Val L1 norm: 2.011.. Train Linf norm: 158.180.. Val Linf norm: 468.800\n",
            "Epoch 13/150.. Train loss: 87.480.. Val loss: 61.234.. Train L1 norm: 1.480.. Val L1 norm: 2.016.. Train Linf norm: 182.204.. Val Linf norm: 470.681\n",
            "Epoch 14/150.. Train loss: 208.476.. Val loss: 61.333.. Train L1 norm: 1.508.. Val L1 norm: 2.017.. Train Linf norm: 197.865.. Val Linf norm: 470.440\n",
            "Epoch 15/150.. Train loss: 140.335.. Val loss: 61.398.. Train L1 norm: 1.480.. Val L1 norm: 2.022.. Train Linf norm: 181.825.. Val Linf norm: 472.867\n",
            "Epoch 16/150.. Train loss: 83.496.. Val loss: 61.404.. Train L1 norm: 1.448.. Val L1 norm: 2.023.. Train Linf norm: 166.135.. Val Linf norm: 473.037\n",
            "Epoch 17/150.. Train loss: 490.538.. Val loss: 61.421.. Train L1 norm: 1.462.. Val L1 norm: 2.023.. Train Linf norm: 173.210.. Val Linf norm: 472.981\n",
            "Epoch 18/150.. Train loss: 140.967.. Val loss: 61.414.. Train L1 norm: 1.468.. Val L1 norm: 2.024.. Train Linf norm: 177.696.. Val Linf norm: 473.527\n",
            "Epoch 19/150.. Train loss: 100.908.. Val loss: 61.415.. Train L1 norm: 1.501.. Val L1 norm: 2.025.. Train Linf norm: 192.747.. Val Linf norm: 474.180\n",
            "Epoch 20/150.. Train loss: 88.942.. Val loss: 61.410.. Train L1 norm: 1.486.. Val L1 norm: 2.027.. Train Linf norm: 185.635.. Val Linf norm: 474.935\n",
            "Epoch 21/150.. Train loss: 106.540.. Val loss: 61.410.. Train L1 norm: 1.458.. Val L1 norm: 2.027.. Train Linf norm: 170.609.. Val Linf norm: 474.975\n",
            "Epoch 22/150.. Train loss: 144.287.. Val loss: 61.410.. Train L1 norm: 1.524.. Val L1 norm: 2.027.. Train Linf norm: 204.334.. Val Linf norm: 475.037\n",
            "Epoch 23/150.. Train loss: 105.341.. Val loss: 61.410.. Train L1 norm: 1.488.. Val L1 norm: 2.027.. Train Linf norm: 186.799.. Val Linf norm: 475.090\n",
            "Epoch 24/150.. Train loss: 222.723.. Val loss: 61.409.. Train L1 norm: 1.440.. Val L1 norm: 2.027.. Train Linf norm: 162.676.. Val Linf norm: 475.162\n",
            "Epoch 25/150.. Train loss: 83.566.. Val loss: 61.409.. Train L1 norm: 1.441.. Val L1 norm: 2.028.. Train Linf norm: 162.746.. Val Linf norm: 475.247\n",
            "Epoch 26/150.. Train loss: 90.117.. Val loss: 61.409.. Train L1 norm: 1.489.. Val L1 norm: 2.028.. Train Linf norm: 188.121.. Val Linf norm: 475.248\n",
            "Epoch 27/150.. Train loss: 124.426.. Val loss: 61.409.. Train L1 norm: 1.511.. Val L1 norm: 2.028.. Train Linf norm: 196.823.. Val Linf norm: 475.249\n",
            "Epoch 28/150.. Train loss: 106.780.. Val loss: 61.409.. Train L1 norm: 1.450.. Val L1 norm: 2.028.. Train Linf norm: 166.016.. Val Linf norm: 475.249\n",
            "Epoch 29/150.. Train loss: 107.199.. Val loss: 61.409.. Train L1 norm: 1.465.. Val L1 norm: 2.028.. Train Linf norm: 176.863.. Val Linf norm: 475.250\n",
            "Epoch 30/150.. Train loss: 86.990.. Val loss: 61.409.. Train L1 norm: 1.567.. Val L1 norm: 2.028.. Train Linf norm: 226.025.. Val Linf norm: 475.251\n",
            "Epoch 31/150.. Train loss: 75.815.. Val loss: 61.409.. Train L1 norm: 1.548.. Val L1 norm: 2.028.. Train Linf norm: 217.021.. Val Linf norm: 475.251\n",
            "Epoch 32/150.. Train loss: 181.565.. Val loss: 61.409.. Train L1 norm: 1.476.. Val L1 norm: 2.028.. Train Linf norm: 178.258.. Val Linf norm: 475.251\n",
            "Epoch 33/150.. Train loss: 100.465.. Val loss: 61.409.. Train L1 norm: 1.495.. Val L1 norm: 2.028.. Train Linf norm: 191.510.. Val Linf norm: 475.251\n",
            "Epoch 34/150.. Train loss: 166.039.. Val loss: 61.409.. Train L1 norm: 1.480.. Val L1 norm: 2.028.. Train Linf norm: 181.687.. Val Linf norm: 475.251\n",
            "Epoch 35/150.. Train loss: 77.257.. Val loss: 61.409.. Train L1 norm: 1.490.. Val L1 norm: 2.028.. Train Linf norm: 187.213.. Val Linf norm: 475.251\n",
            "Epoch 36/150.. Train loss: 229.400.. Val loss: 61.409.. Train L1 norm: 1.543.. Val L1 norm: 2.028.. Train Linf norm: 212.689.. Val Linf norm: 475.251\n",
            "Epoch 37/150.. Train loss: 126.101.. Val loss: 61.409.. Train L1 norm: 1.467.. Val L1 norm: 2.028.. Train Linf norm: 175.624.. Val Linf norm: 475.251\n",
            "Epoch 38/150.. Train loss: 87.206.. Val loss: 61.409.. Train L1 norm: 1.470.. Val L1 norm: 2.028.. Train Linf norm: 177.636.. Val Linf norm: 475.251\n",
            "Epoch 39/150.. Train loss: 148.956.. Val loss: 61.409.. Train L1 norm: 1.514.. Val L1 norm: 2.028.. Train Linf norm: 198.640.. Val Linf norm: 475.251\n",
            "Epoch 40/150.. Train loss: 91.589.. Val loss: 61.409.. Train L1 norm: 1.478.. Val L1 norm: 2.028.. Train Linf norm: 182.241.. Val Linf norm: 475.251\n",
            "Epoch 41/150.. Train loss: 136.076.. Val loss: 61.409.. Train L1 norm: 1.480.. Val L1 norm: 2.028.. Train Linf norm: 183.028.. Val Linf norm: 475.251\n",
            "Epoch 42/150.. Train loss: 191.158.. Val loss: 61.409.. Train L1 norm: 1.469.. Val L1 norm: 2.028.. Train Linf norm: 176.805.. Val Linf norm: 475.251\n",
            "Epoch 43/150.. Train loss: 119.616.. Val loss: 61.409.. Train L1 norm: 1.486.. Val L1 norm: 2.028.. Train Linf norm: 183.268.. Val Linf norm: 475.251\n",
            "Epoch 44/150.. Train loss: 94.269.. Val loss: 61.409.. Train L1 norm: 1.534.. Val L1 norm: 2.028.. Train Linf norm: 210.833.. Val Linf norm: 475.251\n",
            "Epoch 45/150.. Train loss: 152.228.. Val loss: 61.409.. Train L1 norm: 1.505.. Val L1 norm: 2.028.. Train Linf norm: 196.252.. Val Linf norm: 475.251\n",
            "Epoch 46/150.. Train loss: 278.970.. Val loss: 61.409.. Train L1 norm: 1.470.. Val L1 norm: 2.028.. Train Linf norm: 177.999.. Val Linf norm: 475.251\n",
            "Epoch 47/150.. Train loss: 165.225.. Val loss: 61.409.. Train L1 norm: 1.522.. Val L1 norm: 2.028.. Train Linf norm: 202.965.. Val Linf norm: 475.251\n",
            "Epoch 48/150.. Train loss: 107.583.. Val loss: 61.409.. Train L1 norm: 1.400.. Val L1 norm: 2.028.. Train Linf norm: 142.926.. Val Linf norm: 475.251\n",
            "Epoch 49/150.. Train loss: 146.101.. Val loss: 61.409.. Train L1 norm: 1.430.. Val L1 norm: 2.028.. Train Linf norm: 156.264.. Val Linf norm: 475.251\n"
          ]
        }
      ],
      "source": [
        "if OPTIMIZE:\n",
        "    # Creating a study object with Optuna with TPE sampler and median pruner \n",
        "    study = optuna.create_study(direction=\"minimize\", sampler=optuna.samplers.TPESampler(), pruner=optuna.pruners.MedianPruner())\n",
        "\n",
        "    # Running Optuna with 100 trials when we are optimizing.\n",
        "    study.optimize(objective, n_trials=N_TRIALS)\n",
        "\n",
        "    # Printing the best trial information\n",
        "    print(\"Best trial:\")\n",
        "    trial = study.best_trial\n",
        "    print(\"  Value: \", trial.value)\n",
        "    print(\"  Params: \")\n",
        "    for key, value in trial.params.items():\n",
        "        print(f\"    {key}: {value}\")\n"
      ]
    },
    {
      "cell_type": "code",
      "execution_count": null,
      "metadata": {
        "id": "V4YbyeUkXnQA"
      },
      "outputs": [],
      "source": [
        "from google.colab import drive\n",
        "drive.mount('/content/drive')"
      ]
    },
    {
      "cell_type": "markdown",
      "metadata": {
        "id": "jmMfE9_dUZiS"
      },
      "source": [
        "## Training the model"
      ]
    },
    {
      "cell_type": "code",
      "execution_count": null,
      "metadata": {
        "id": "phyiHlWEUZiT"
      },
      "outputs": [],
      "source": [
        "# Creating the best network and optimizer using the best hyperparameters\n",
        "if OPTIMIZE:\n",
        "    net, \\\n",
        "    loss_fn, \\\n",
        "    optimizer, \\\n",
        "    batch_size, \\\n",
        "    n_epochs, \\\n",
        "    scheduler, \\\n",
        "    loss_name, \\\n",
        "    optimizer_name, \\\n",
        "    scheduler_name, \\\n",
        "    n_units, \\\n",
        "    n_layers, \\\n",
        "    hidden_activation, \\\n",
        "    output_activation, \\\n",
        "    lr, \\\n",
        "    dropout_rate = create_model(trial, optimize=True)\n",
        "\n",
        "# Creating the network with predefined hyperparameters\n",
        "else:\n",
        "    net, \\\n",
        "    loss_fn, \\\n",
        "    optimizer, \\\n",
        "    batch_size, \\\n",
        "    n_epochs, \\\n",
        "    scheduler, \\\n",
        "    loss_name, \\\n",
        "    optimizer_name, \\\n",
        "    scheduler_name, \\\n",
        "    n_units, \\\n",
        "    n_layers, \\\n",
        "    hidden_activation, \\\n",
        "    output_activation, \\\n",
        "    lr, \\\n",
        "    dropout_rate = create_model(trial=None, optimize=True)"
      ]
    },
    {
      "cell_type": "code",
      "execution_count": null,
      "metadata": {
        "id": "_yq-oY81UZiU"
      },
      "outputs": [],
      "source": [
        "print(\"loss_fn:\", net)\n",
        "print(\"loss_fn:\", loss_fn)\n",
        "print(\"batch_size:\", batch_size)\n",
        "print(\"n_epochs:\", n_epochs)\n",
        "print(\"scheduler:\", scheduler)\n",
        "print(\"loss_name:\", loss_name)\n",
        "print(\"optimizer_name:\", optimizer_name)\n",
        "print(\"scheduler_name:\", scheduler_name)\n",
        "print(\"n_units:\", n_units)\n",
        "print(\"n_layers:\", n_layers)\n",
        "print(\"hidden_activation:\", hidden_activation)\n",
        "print(\"output_activation:\", output_activation)\n",
        "print(\"lr\", lr)\n",
        "print(\"dropout_rate\", dropout_rate)"
      ]
    },
    {
      "cell_type": "markdown",
      "metadata": {
        "id": "E7aLWdZyUZiW",
        "outputId": "8fb1e8c6-5aa3-43a1-a255-712cf9396d0c"
      },
      "source": [
        "After optimizing with Optuna and deciding on the best hyperparameters, we combine the training and validatin set, using that as the new training set for training the model, and then evaluate the model on the test set"
      ]
    },
    {
      "cell_type": "code",
      "execution_count": null,
      "metadata": {
        "id": "wTPX6lHCyUfc"
      },
      "outputs": [],
      "source": [
        "x_train_val = torch.cat((x_train, x_val), 0)\n",
        "y_train_val = torch.cat((y_train, y_val), 0)\n",
        "\n",
        "train_val_loader = torch.utils.data.DataLoader(\n",
        "    torch.utils.data.TensorDataset(x_train_val, y_train_val), batch_size=batch_size, shuffle=True\n",
        ")\n",
        "test_loader = torch.utils.data.DataLoader(\n",
        "    torch.utils.data.TensorDataset(x_test, y_test), batch_size=batch_size\n",
        ")\n",
        "\n",
        "train_losses, _, test_losses, train_metrics, _, test_metrics, = train_and_eval(\n",
        "    net, loss_fn, optimizer, batch_size, n_epochs, scheduler, train_val_loader, None, test_loader, None\n",
        ")"
      ]
    },
    {
      "cell_type": "markdown",
      "metadata": {
        "id": "akNucrgMUZiW"
      },
      "source": [
        "## Saving"
      ]
    },
    {
      "cell_type": "code",
      "execution_count": null,
      "metadata": {
        "id": "LHsrs2Y-UZic"
      },
      "outputs": [],
      "source": [
        "# create a dictionary to store the rest of the variables\n",
        "import json\n",
        "\n",
        "# save the network to a .pth file\n",
        "torch.save(net.state_dict(), \"net.pth\")\n",
        "save_file(\"net.pth\")\n",
        "\n",
        "# save the optimizer to a .pth file\n",
        "torch.save(optimizer.state_dict(), \"optimizer.pth\")\n",
        "save_file(\"optimizer.pth\")\n",
        "\n",
        "# save the scheduler to a .pth file if it is not None\n",
        "if scheduler is not None:\n",
        "  torch.save(scheduler.state_dict(), \"scheduler.pth\")\n",
        "  save_file(\"scheduler.pth\")\n",
        "\n",
        "# create a dictionary to store the rest of the variables\n",
        "if isinstance(hidden_activation.__class__.__name__, list):\n",
        "    hidden_activation_name = hidden_activation.__class__.__name__[0]\n",
        "else:\n",
        "    hidden_activation_name = hidden_activation.__class__.__name__\n",
        "\n",
        "if isinstance(output_activation.__class__.__name__, list):\n",
        "    output_activation_name = output_activation.__class__.__name__[0]\n",
        "else:\n",
        "    output_activation_name = output_activation.__class__.__name__\n",
        "\n",
        "var_dict = {\n",
        "  \"batch_size\": batch_size,\n",
        "  \"n_epochs\": n_epochs,\n",
        "  \"loss_name\": loss_name,\n",
        "  \"optimizer_name\": optimizer_name,\n",
        "  \"scheduler_name\": scheduler_name,\n",
        "  \"n_units\": n_units,\n",
        "  \"n_layers\": n_layers,\n",
        "  \"hidden_activation_name\": hidden_activation_name,\n",
        "  \"output_activation_name\": output_activation_name,\n",
        "  \"lr\": lr,\n",
        "  \"dropout_rate\": dropout_rate\n",
        "}\n",
        "\n",
        "# Adding the subparameters to the var_dict for saving\n",
        "if hidden_activation_name == \"LeakyReLU\":\n",
        "  var_dict[\"leakyrelu_slope\"] = hidden_activation.negative_slope\n",
        "elif hidden_activation_name == \"PReLU\":\n",
        "  var_dict[\"prelu_init\"] = hidden_activation.weight.item()  # .item() is needed because weight is a tensor\n",
        "elif hidden_activation_name == \"SoftPlus\":\n",
        "  var_dict[\"softplus_beta\"] = hidden_activation.beta\n",
        "\n",
        "# save the dictionary to a .json file\n",
        "with open(\"var_dict.json\", \"w\") as f:\n",
        "  json.dump(var_dict, f)\n",
        "save_file(\"var_dict.json\")\n",
        "\n",
        "# Saving the output of the training using pandas\n",
        "train_df = pd.DataFrame(\n",
        "    {\n",
        "        \"train_loss\": train_losses,\n",
        "        \"test_loss\": test_losses,\n",
        "        \"train_l1_norm\": [m[\"l1_norm\"] for m in train_metrics],\n",
        "        \"test_l1_norm\": [m[\"l1_norm\"] for m in test_metrics],\n",
        "        \"train_linf_norm\": [m[\"linf_norm\"] for m in train_metrics],\n",
        "        \"test_linf_norm\": [m[\"linf_norm\"] for m in test_metrics],\n",
        "    }\n",
        ")\n",
        "train_df.to_csv(\"train_output.csv\", index=False)\n",
        "save_file(\"train_output.csv\")"
      ]
    },
    {
      "cell_type": "code",
      "execution_count": null,
      "metadata": {
        "id": "DYdsif-7yUfe"
      },
      "outputs": [],
      "source": [
        "[key for key in var_dict.keys()]"
      ]
    },
    {
      "cell_type": "code",
      "execution_count": null,
      "metadata": {
        "id": "-a2djZAjyUfe"
      },
      "outputs": [],
      "source": [
        "#%%script echo skipping\n",
        "\n",
        "hidden_activation_name\n",
        "output_activation_name"
      ]
    },
    {
      "cell_type": "markdown",
      "metadata": {
        "id": "qU23l7dIUZie"
      },
      "source": [
        "## Visualizing the results"
      ]
    },
    {
      "cell_type": "code",
      "execution_count": null,
      "metadata": {
        "id": "cippWZS6UZie"
      },
      "outputs": [],
      "source": [
        "# Plotting the losses and metrics for the best network \n",
        "plt.figure(figsize=(12, 8))\n",
        "#plt.subplot(2, 2, 1)\n",
        "#plt.plot(train_losses, label=\"Train Loss\")\n",
        "#plt.plot(test_losses, label=\"Test Loss\")\n",
        "#plt.xlabel(\"Epoch\")\n",
        "#plt.ylabel(\"Loss\")\n",
        "#plt.legend()\n",
        "plt.subplot(2, 2, 2)\n",
        "plt.plot([m[\"l1_norm\"] for m in train_metrics], label=\"Train L1 Norm\")\n",
        "plt.plot([m[\"l1_norm\"] for m in test_metrics], label=\"Test L1 Norm\")\n",
        "plt.xlabel(\"Epoch\")\n",
        "plt.ylabel(\"L1 Norm\")\n",
        "# Added setting the vertical axis to be in powers of 10\n",
        "plt.yscale(\"log\")\n",
        "# Added setting the vertical axis limits to be from 10^-7 to 10^0\n",
        "plt.ylim(1e-3, 1e2)\n",
        "plt.legend()\n",
        "plt.subplot(2, 2, 3)\n",
        "plt.plot([m[\"linf_norm\"] for m in train_metrics], label=\"Train Linf Norm\")\n",
        "plt.plot([m[\"linf_norm\"] for m in test_metrics], label=\"Test Linf Norm\")\n",
        "plt.xlabel(\"Epoch\")\n",
        "plt.ylabel(\"Linf Norm\")\n",
        "# Added setting the vertical axis to be in powers of 10\n",
        "plt.yscale(\"log\")\n",
        "# Added setting the vertical axis limits to be from 10^-7 to 10^0\n",
        "plt.ylim(1e-3, 1e2)\n",
        "plt.legend()\n",
        "plt.tight_layout()\n",
        "plt.show()\n",
        "\n",
        "# Added plotting MSE of training data and MSE of test data in one plot \n",
        "plt.figure(figsize=(8, 6))\n",
        "plt.plot(train_losses,label=\"training data\")\n",
        "plt.plot(test_losses,label=\"test data\")\n",
        "#if scheduler is not None:\n",
        "#    plt.plot([scheduler.get_last_lr()[0] for _ in range(n_epochs)], label=\"Learning rate\") \n",
        "plt.xlabel(\"Epoch\")\n",
        "plt.ylabel(f\"{loss_name} Loss\")\n",
        "# Added setting the vertical axis to be in powers of 10\n",
        "plt.yscale(\"log\")\n",
        "# Added setting the vertical axis limits to be from 10^-7 to 10^0\n",
        "plt.ylim(1e-7, 1e0)\n",
        "plt.legend()\n",
        "plt.show()"
      ]
    },
    {
      "cell_type": "markdown",
      "metadata": {
        "id": "tiEDutxIUZig"
      },
      "source": [
        "## Loading"
      ]
    },
    {
      "cell_type": "code",
      "execution_count": null,
      "metadata": {
        "id": "p7Mj990wUZih"
      },
      "outputs": [],
      "source": [
        "import json\n",
        "import pandas as pd\n",
        "\n",
        "# load the dictionary from the .json file\n",
        "with open(\"var_dict.json\", \"r\") as f:\n",
        "  var_dict_loaded = json.load(f)\n",
        "\n",
        "# extract the variables from the dictionary\n",
        "batch_size_loaded = var_dict_loaded[\"batch_size\"]\n",
        "n_epochs_loaded = var_dict_loaded[\"n_epochs\"]\n",
        "loss_name_loaded = var_dict_loaded[\"loss_name\"]\n",
        "optimizer_name_loaded = var_dict_loaded[\"optimizer_name\"]\n",
        "scheduler_name_loaded = var_dict_loaded[\"scheduler_name\"]\n",
        "n_units_loaded = var_dict_loaded[\"n_units\"]\n",
        "n_layers_loaded = var_dict_loaded[\"n_layers\"]\n",
        "hidden_activation_name_loaded = var_dict_loaded[\"hidden_activation_name\"]\n",
        "output_activation_name_loaded = var_dict_loaded[\"output_activation_name\"]\n",
        "lr_loaded = var_dict_loaded[\"lr\"]\n",
        "dropout_rate_loaded = var_dict_loaded[\"dropout_rate\"]\n",
        "\n",
        "# Loading the activation functions with subparameters\n",
        "if hidden_activation_name_loaded == \"ReLU\":\n",
        "  hidden_activation_loaded = nn.ReLU()\n",
        "elif hidden_activation_name_loaded == \"LeakyReLU\":\n",
        "  negative_slope_loaded = var_dict_loaded.get(\"leakyrelu_slope\", 0.01)  # For backwards compatibiltiy with earlier models; default to 0.01 if not present\n",
        "  hidden_activation_loaded = nn.LeakyReLU(negative_slope=negative_slope_loaded)\n",
        "elif hidden_activation_name_loaded == \"ELU\":\n",
        "  hidden_activation_loaded = nn.ELU()\n",
        "elif hidden_activation_name_loaded == \"PReLU\":\n",
        "  init_loaded = var_dict_loaded.get(\"prelu_init\", 0.25)  # Default to 0.25 if not present\n",
        "  hidden_activation_loaded = nn.PReLU(init=init_loaded)\n",
        "elif hidden_activation_name_loaded == \"Swish\":\n",
        "    class Swish(nn.Module):\n",
        "        def forward(self, x):\n",
        "            return x * torch.sigmoid(x)\n",
        "    hidden_activation_loaded = Swish()\n",
        "elif hidden_activation_name_loaded == \"GELU\":\n",
        "    hidden_activation_loaded = nn.GELU()\n",
        "elif hidden_activation_name_loaded == \"SoftPlus\":\n",
        "  beta_loaded = var_dict_loaded.get(\"softplus_beta\", 1)  # Default to 1 if not present\n",
        "  hidden_activation_loaded = nn.Softplus(beta=beta_loaded)\n",
        "\n",
        "\n",
        "\n",
        "# We used to have options here, but since we have a regression problem with continuous output, we only use Linear.\n",
        "output_activation_loaded = nn.Identity()\n",
        "\n",
        "# load the network from the .pth file\n",
        "net_loaded = Net(\n",
        "    n_layers_loaded, \n",
        "    n_units_loaded, \n",
        "    hidden_activation_loaded, \n",
        "    output_activation_loaded, \n",
        "    dropout_rate_loaded\n",
        ").to(device)\n",
        "\n",
        "if torch.cuda.is_available():\n",
        " net_loaded.load_state_dict(torch.load(\"net.pth\"))\n",
        "else: \n",
        "  net_loaded.load_state_dict(torch.load(\"net.pth\", map_location=torch.device('cpu')))\n",
        "\n",
        "\n",
        "# Creating the loss function from its name\n",
        "if loss_name_loaded == \"MSE\":\n",
        "    loss_fn_loaded = nn.MSELoss()\n",
        "elif loss_name_loaded == \"MAE\":\n",
        "    loss_fn_loaded = nn.L1Loss()\n",
        "elif loss_name_loaded == \"Huber\":\n",
        "    loss_fn_loaded = nn.SmoothL1Loss() \n",
        "elif loss_name_loaded == \"Quantile\":\n",
        "    def quantile_loss(y_pred, y_true, q=0.5):\n",
        "        e = y_pred - y_true\n",
        "        return torch.mean(torch.max(q*e, (q-1)*e))\n",
        "    loss_fn_loaded = quantile_loss\n",
        "\n",
        "# load the optimizer from the .pth file\n",
        "if torch.cuda.is_available():\n",
        "  optimizer_loaded_state_dict = torch.load(\"optimizer.pth\")\n",
        "else:\n",
        "  optimizer_loaded_state_dict = torch.load(\"optimizer.pth\", map_location=torch.device('cpu'))\n",
        "\n",
        "if optimizer_name_loaded == \"SGD\":\n",
        "  # Added getting the weight decay and momentum parameters from the state dict\n",
        "  weight_decay_loaded = optimizer_loaded_state_dict[\"param_groups\"][0][\"weight_decay\"]\n",
        "  momentum_loaded = optimizer_loaded_state_dict[\"param_groups\"][0][\"momentum\"]\n",
        "  optimizer_loaded = optim.SGD(net_loaded.parameters(), lr=lr_loaded, weight_decay=weight_decay_loaded, momentum=momentum_loaded)\n",
        "elif optimizer_name_loaded == \"Adam\":\n",
        "  # Added getting the weight decay and beta parameters from the state dict\n",
        "  weight_decay_loaded = optimizer_loaded_state_dict[\"param_groups\"][0][\"weight_decay\"]\n",
        "  beta1_loaded = optimizer_loaded_state_dict[\"param_groups\"][0][\"betas\"][0]\n",
        "  beta2_loaded = optimizer_loaded_state_dict[\"param_groups\"][0][\"betas\"][1]\n",
        "  optimizer_loaded = optim.Adam(net_loaded.parameters(), lr=lr_loaded, weight_decay=weight_decay_loaded, betas=(beta1_loaded, beta2_loaded))\n",
        "elif optimizer_name_loaded == \"RMSprop\":\n",
        "  optimizer_loaded = optim.RMSprop(net_loaded.parameters(), lr=lr_loaded)\n",
        "elif optimizer_name_loaded == \"Adagrad\":\n",
        "  # Added loading the Adagrad optimizer\n",
        "  optimizer_loaded = optim.Adagrad(net_loaded.parameters(), lr=lr_loaded)\n",
        "optimizer_loaded.load_state_dict(optimizer_loaded_state_dict)\n",
        "\n",
        "# load the scheduler from the .pth file\n",
        "if torch.cuda.is_available():\n",
        "  scheduler_loaded_state_dict = torch.load(\"scheduler.pth\")\n",
        "else: \n",
        "  scheduler_loaded_state_dict = torch.load(\"scheduler.pth\", map_location=torch.device('cpu'))\n",
        "\n",
        "if scheduler_name_loaded == \"StepLR\":\n",
        "  # Added getting the step_size and gamma parameters from the state dict\n",
        "  step_size_loaded = scheduler_loaded_state_dict[\"step_size\"]\n",
        "  gamma_loaded = scheduler_loaded_state_dict[\"gamma\"]\n",
        "  scheduler_loaded = optim.lr_scheduler.StepLR(optimizer_loaded, step_size=step_size_loaded, gamma=gamma_loaded)\n",
        "elif scheduler_name_loaded == \"ExponentialLR\":\n",
        "  # Added getting the gamma parameter from the state dict\n",
        "  gamma_loaded = scheduler_loaded_state_dict[\"gamma\"]\n",
        "  scheduler_loaded = optim.lr_scheduler.ExponentialLR(optimizer_loaded, gamma=gamma_loaded)\n",
        "elif scheduler_name_loaded == \"CosineAnnealingLR\":\n",
        "  # Added getting the T_max parameter from the state dict\n",
        "  T_max_loaded = scheduler_loaded_state_dict[\"T_max\"]\n",
        "  scheduler_loaded = optim.lr_scheduler.CosineAnnealingLR(optimizer_loaded, T_max=T_max_loaded)\n",
        "elif scheduler_name_loaded == \"ReduceLROnPlateau\":\n",
        "  # Added getting the mode, factor, patience, threshold and min_lr parameters from the state dict\n",
        "  mode_loaded = scheduler_loaded_state_dict[\"mode\"]\n",
        "  factor_loaded = scheduler_loaded_state_dict[\"factor\"]\n",
        "  patience_loaded = scheduler_loaded_state_dict[\"patience\"]\n",
        "  threshold_loaded = scheduler_loaded_state_dict[\"threshold\"]\n",
        "  min_lr_loaded = scheduler_loaded_state_dict[\"min_lrs\"][0]\n",
        "  scheduler_loaded = optim.lr_scheduler.ReduceLROnPlateau(\n",
        "                    optimizer_loaded, mode=mode_loaded, factor=factor_loaded, patience=patience_loaded, threshold=threshold_loaded, min_lr=min_lr_loaded\n",
        "                )\n",
        "elif scheduler_name_loaded == \"CyclicLR\":  # Added CyclicLR\n",
        "    base_lr_loaded = scheduler_loaded_state_dict[\"base_lr\"]\n",
        "    max_lr_loaded = scheduler_loaded_state_dict[\"max_lr\"]\n",
        "    step_size_up_loaded = scheduler_loaded_state_dict[\"step_size_up\"]\n",
        "    scheduler_loaded = optim.lr_scheduler.CyclicLR(\n",
        "                    optimizer, base_lr=base_lr_loaded, max_lr=max_lr_loaded, step_size_up=step_size_up_loaded\n",
        "                )\n",
        "else:\n",
        "  scheduler_loaded = None\n",
        "\n",
        "if scheduler_loaded is not None:\n",
        "  # Added loading the state dict to the scheduler_loaded\n",
        "  scheduler_loaded.load_state_dict(scheduler_loaded_state_dict)\n",
        "\n",
        "# Loading the output of the training using pandas\n",
        "train_df_loaded = pd.read_csv(\"train_output.csv\")\n",
        "train_losses_loaded = train_df_loaded[\"train_loss\"].tolist()\n",
        "test_losses_loaded = train_df_loaded[\"test_loss\"].tolist()\n",
        "train_metrics_loaded = [\n",
        "    {\n",
        "        \"l1_norm\": train_df_loaded[\"train_l1_norm\"][i],\n",
        "        \"linf_norm\": train_df_loaded[\"train_linf_norm\"][i],\n",
        "    }\n",
        "    for i in range(len(train_df_loaded))\n",
        "]\n",
        "test_metrics_loaded = [\n",
        "    {\n",
        "        \"l1_norm\": train_df_loaded[\"test_l1_norm\"][i],\n",
        "        \"linf_norm\": train_df_loaded[\"test_linf_norm\"][i],\n",
        "    }\n",
        "    for i in range(len(train_df_loaded))\n",
        "]"
      ]
    },
    {
      "cell_type": "code",
      "execution_count": null,
      "metadata": {
        "id": "MlZ11zTlyUfg"
      },
      "outputs": [],
      "source": [
        "# %%script echo skipping\n",
        "\n",
        "var_dict_loaded[\"batch_size\"]\n",
        "var_dict_loaded[\"n_epochs\"]\n",
        "var_dict_loaded[\"loss_name\"]\n",
        "var_dict_loaded[\"optimizer_name\"]\n",
        "var_dict_loaded[\"scheduler_name\"]\n",
        "var_dict_loaded[\"n_units\"]\n",
        "var_dict_loaded[\"n_layers\"]\n",
        "var_dict_loaded[\"hidden_activation_name\"]\n",
        "var_dict_loaded[\"output_activation_name\"]\n",
        "var_dict_loaded[\"lr\"]\n",
        "var_dict_loaded[\"dropout_rate\"]"
      ]
    },
    {
      "cell_type": "code",
      "execution_count": null,
      "metadata": {
        "id": "jissHfjkyUfg"
      },
      "outputs": [],
      "source": [
        "%%script echo skipping\n",
        "\n",
        "scheduler_loaded_state_dict[\"mode\"]\n",
        "scheduler_loaded_state_dict[\"factor\"]\n",
        "scheduler_loaded_state_dict[\"patience\"]\n",
        "scheduler_loaded_state_dict[\"threshold\"]\n",
        "scheduler_loaded_state_dict[\"min_lrs\"]\n",
        "\n",
        "\n",
        "scheduler_loaded_state_dict[\"base_lr\"]\n",
        "scheduler_loaded_state_dict[\"max_lr\"]\n",
        "scheduler_loaded_state_dict[\"step_size_up\"]"
      ]
    },
    {
      "cell_type": "code",
      "execution_count": null,
      "metadata": {
        "id": "9QTzUSU6yUfh"
      },
      "outputs": [],
      "source": [
        "# %%script echo skipping\n",
        "\n",
        "var_dict\n",
        "hidden_activation_name_loaded"
      ]
    },
    {
      "cell_type": "code",
      "execution_count": null,
      "metadata": {
        "id": "GQ_fcj7zUZii"
      },
      "outputs": [],
      "source": [
        "# %%script echo skipping\n",
        "\n",
        "if hidden_activation_name_loaded == \"LeakyReLU\":\n",
        "  var_dict_loaded[\"leakyrelu_slope\"]\n",
        "if hidden_activation_name_loaded == \"PReLU\":\n",
        "  var_dict_loaded[\"prelu_init\"]\n",
        "elif hidden_activation_name_loaded == \"SoftPlus\":\n",
        "  var_dict_loaded[\"softplus_beta\"]\n",
        "\n",
        "batch_size_loaded\n",
        "n_epochs_loaded\n",
        "loss_name_loaded\n",
        "optimizer_name_loaded\n",
        "scheduler_name_loaded\n",
        "n_units_loaded\n",
        "n_layers_loaded\n",
        "hidden_activation_name_loaded\n",
        "output_activation_name_loaded\n",
        "lr_loaded\n",
        "dropout_rate_loaded\n",
        "hidden_activation_loaded\n",
        "output_activation_loaded\n",
        "net_loaded\n",
        "net_loaded.__dict__ # print the subparameters of the network\n",
        "loss_fn_loaded\n",
        "optimizer_loaded\n",
        "optimizer_loaded.__dict__ # print the subparameters of the optimizer\n",
        "if scheduler_loaded is not None:\n",
        "  scheduler_loaded\n",
        "  scheduler_loaded.__dict__ # print the subparameters of the scheduler\n",
        "train_losses_loaded\n",
        "test_losses_loaded\n",
        "train_metrics_loaded\n",
        "test_metrics_loaded\n"
      ]
    },
    {
      "cell_type": "code",
      "execution_count": null,
      "metadata": {
        "id": "xTLhVihYyUfh"
      },
      "outputs": [],
      "source": [
        "train_losses_loaded[-1]\n",
        "test_losses_loaded[-1]\n",
        "test_metrics_loaded[-1]['l1_norm']\n",
        "test_metrics_loaded[-1]['linf_norm']\n",
        "# print(f'Error is {test_metrics_loaded[-1][\"l1_norm\"] / (3.84e-4)} times bigger than in Dieselhorst et al.')\n",
        "# print(f'Error is {test_metrics_loaded[-1][\"linf_norm\"] / (8.14e-3)} times bigger than in Dieselhorst et al.')"
      ]
    },
    {
      "cell_type": "markdown",
      "metadata": {
        "id": "QTRl12RVra2L"
      },
      "source": []
    },
    {
      "cell_type": "markdown",
      "metadata": {
        "id": "8ICitDHLyUfh"
      },
      "source": [
        "### Visualize loaded results"
      ]
    },
    {
      "cell_type": "markdown",
      "metadata": {
        "id": "vwLGR1aSUZik"
      },
      "source": [
        "Let us verify correct loading of the train and test metrics by visualizing them again but now through the loaded values. Likewise for the train and test losses."
      ]
    },
    {
      "cell_type": "code",
      "execution_count": null,
      "metadata": {
        "id": "sXiNgLsmUZil"
      },
      "outputs": [],
      "source": [
        "%config InteractiveShell.ast_node_interactivity = \"last_expr_or_assign\""
      ]
    },
    {
      "cell_type": "code",
      "execution_count": null,
      "metadata": {
        "id": "sgq4WfSiUZil"
      },
      "outputs": [],
      "source": [
        "# Plotting the losses and metrics for the best network plt.figure(figsize=(12, \n",
        "#plt.subplot(2, 2, 1)\n",
        "#plt.plot(train_losses_loaded, label=\"Train Loss\")\n",
        "#plt.plot(test_losses_loaded, label=\"Test Loss\")\n",
        "#plt.xlabel(\"Epoch\")\n",
        "#plt.ylabel(\"Loss\")\n",
        "#plt.legend()\n",
        "plt.subplot(2, 2, 2)\n",
        "plt.plot([m[\"l1_norm\"] for m in train_metrics_loaded], label=\"Train L1 Norm\")\n",
        "plt.plot([m[\"l1_norm\"] for m in test_metrics_loaded], label=\"Test L1 Norm\")\n",
        "plt.xlabel(\"Epoch\")\n",
        "plt.ylabel(\"L1 Norm\")\n",
        "# Added setting the vertical axis to be in powers of 10\n",
        "plt.yscale(\"log\")\n",
        "# Added setting the vertical axis limits to be from 10^-7 to 10^0\n",
        "plt.ylim(1e-3, 1e2)\n",
        "plt.legend()\n",
        "plt.subplot(2, 2, 3)\n",
        "plt.plot([m[\"linf_norm\"] for m in train_metrics_loaded], label=\"Train Linf Norm\")\n",
        "plt.plot([m[\"linf_norm\"] for m in test_metrics_loaded], label=\"Test Linf Norm\")\n",
        "plt.xlabel(\"Epoch\")\n",
        "plt.ylabel(\"Linf Norm\")\n",
        "# Added setting the vertical axis to be in powers of 10\n",
        "plt.yscale(\"log\")\n",
        "# Added setting the vertical axis limits to be from 10^-7 to 10^0\n",
        "plt.ylim(1e-3, 1e2)\n",
        "plt.legend()\n",
        "plt.tight_layout()\n",
        "plt.show()\n",
        "\n",
        "# Added plotting MSE of training data and MSE of test data in one plot \n",
        "plt.figure(figsize=(8, 6))\n",
        "plt.plot(train_losses_loaded,label=\"training data\")\n",
        "plt.plot(test_losses_loaded,label=\"test data\")\n",
        "#if scheduler is not None:\n",
        "#    plt.plot([scheduler.get_last_lr()[0] for _ in range(n_epochs)], label=\"Learning rate\") \n",
        "plt.xlabel(\"Epoch\")\n",
        "plt.ylabel(f\"{loss_name_loaded} Loss\")\n",
        "# Added setting the vertical axis to be in powers of 10\n",
        "plt.yscale(\"log\")\n",
        "# Added setting the vertical axis limits to be from 10^-7 to 10^0\n",
        "plt.ylim(1e-7, 1e0)\n",
        "plt.legend()\n",
        "plt.show()\n"
      ]
    },
    {
      "cell_type": "code",
      "execution_count": null,
      "metadata": {
        "id": "lkgLqJ_UUZim"
      },
      "outputs": [],
      "source": [
        "%config InteractiveShell.ast_node_interactivity = \"all\""
      ]
    },
    {
      "cell_type": "markdown",
      "metadata": {
        "id": "CwOy5TMuyUfi"
      },
      "source": [
        "## Counting the number of parameters in the network."
      ]
    },
    {
      "cell_type": "code",
      "execution_count": null,
      "metadata": {
        "id": "YaawajExyUfi"
      },
      "outputs": [],
      "source": [
        "net_loaded.eval()\n",
        "def count_parameters(model):\n",
        "    return sum(p.numel() for p in model.parameters() if p.requires_grad)\n",
        "print(f'The model has {count_parameters(net_loaded)} parameters.')"
      ]
    },
    {
      "cell_type": "markdown",
      "metadata": {
        "id": "SxuzVSnlUZin"
      },
      "source": [
        "## Evaluating the network on arbirary input\n",
        "### Comparing `net` and `net_loaded`\n",
        "\n",
        "We compare `net` and `net_loaded` to confirm correct loading of the network. Note that `net` is only available if we have trained the model in this session."
      ]
    },
    {
      "cell_type": "code",
      "execution_count": null,
      "metadata": {
        "id": "hQxEmL6SyUfj"
      },
      "outputs": [],
      "source": [
        "#%%script echo skipping\n",
        "\n",
        "# Set the network to evaluation mode\n",
        "net.eval()"
      ]
    },
    {
      "cell_type": "code",
      "execution_count": null,
      "metadata": {
        "id": "o_YG8acPyUfj"
      },
      "outputs": [],
      "source": [
        "# Set the network to evaluation mode\n",
        "net_loaded.eval"
      ]
    },
    {
      "cell_type": "code",
      "execution_count": null,
      "metadata": {
        "id": "sKhTNVrpyUfj"
      },
      "outputs": [],
      "source": [
        "for p1, p2 in zip(net.parameters(), net_loaded.parameters()):\n",
        "    if p1.data.ne(p2.data).sum() > 0:\n",
        "        print(\"Parameters are NOT the same.\")\n",
        "        break\n",
        "else:\n",
        "    print(\"Parameters are the same.\")\n",
        "\n",
        "print(\"Net device:\", next(net.parameters()).device)\n",
        "print(\"Net_loaded device:\", next(net_loaded.parameters()).device)"
      ]
    },
    {
      "cell_type": "code",
      "execution_count": null,
      "metadata": {
        "id": "C0PLAA0DUZin"
      },
      "outputs": [],
      "source": [
        "#%%script echo skipping\n",
        "\n",
        "print(list(net.parameters()))"
      ]
    },
    {
      "cell_type": "code",
      "execution_count": null,
      "metadata": {
        "id": "1NZ8iVA7UZio"
      },
      "outputs": [],
      "source": [
        "print(list(net_loaded.parameters()))"
      ]
    },
    {
      "cell_type": "code",
      "execution_count": null,
      "metadata": {
        "id": "InGW0Xq6UZip"
      },
      "outputs": [],
      "source": [
        "rho_example, epsilon_example, vx_example, vy_example, vz_example, Bx_example, By_example, Bz_example, gxx_example, gxy_example, gxz_example, gyy_example, gyz_example, gzz_example = generate_samples(20)\n",
        "\n",
        "inputs =  generate_input_data(rho_example, epsilon_example, vx_example, vy_example, vz_example, Bx_example, By_example, Bz_example, gxx_example, gxy_example, gxz_example, gyy_example, gyz_example, gzz_example)\n",
        "inputs\n"
      ]
    },
    {
      "cell_type": "code",
      "execution_count": null,
      "metadata": {
        "id": "QVa1upmFUZip"
      },
      "outputs": [],
      "source": [
        "#%%script echo skipping\n",
        "\n",
        "# Pass the inputs to the network and get the outputs\n",
        "outputs = [net(input.unsqueeze(0)) for input in inputs]\n",
        "# Print the outputs\n",
        "outputs"
      ]
    },
    {
      "cell_type": "code",
      "execution_count": null,
      "metadata": {
        "id": "E-Xjfo7VUZir"
      },
      "outputs": [],
      "source": [
        "\n",
        "# Pass the inputs to the network and get the outputs\n",
        "outputs = [net_loaded(input.unsqueeze(0)) for input in inputs]\n",
        "# Print the outputs\n",
        "outputs"
      ]
    },
    {
      "cell_type": "markdown",
      "metadata": {
        "id": "xjpIvdybUZis"
      },
      "source": [
        "## Porting the model to C++"
      ]
    },
    {
      "cell_type": "code",
      "execution_count": null,
      "metadata": {
        "id": "VMlEd4RoUZis"
      },
      "outputs": [],
      "source": [
        "import torch.jit\n",
        "\n",
        "# Creating a dummy input tensor of shape (1, 5) to trace the model\n",
        "dummy_input = torch.randn(1, N_INPUTS).to(device)\n",
        "\n",
        "# Ensure that net_loaded is in evaluation mode.\n",
        "net_loaded.eval()\n",
        "\n",
        "# Tracing the model using the torch.jit.trace function\n",
        "traced_model = torch.jit.trace(net_loaded, dummy_input)\n",
        "\n",
        "# Saving the traced model to a file named \"net.pt\"\n",
        "traced_model.save(\"net.pt\")\n",
        "save_file(\"net.pt\")\n",
        "\n",
        "example_input_to_validate_correct_export_and_import = generate_input_data(*generate_samples(1))\n",
        "print(\"input shape: \", example_input_to_validate_correct_export_and_import.shape)\n",
        "print(\"input: \", example_input_to_validate_correct_export_and_import)\n",
        "print(\"Output:\", net_loaded(example_input_to_validate_correct_export_and_import))"
      ]
    }
  ],
  "metadata": {
    "accelerator": "GPU",
    "colab": {
      "provenance": [],
      "toc_visible": true
    },
    "kernelspec": {
      "display_name": "Python 3",
      "name": "python3"
    },
    "language_info": {
      "codemirror_mode": {
        "name": "ipython",
        "version": 3
      },
      "file_extension": ".py",
      "mimetype": "text/x-python",
      "name": "python",
      "nbconvert_exporter": "python",
      "pygments_lexer": "ipython3",
      "version": "3.11.3"
    }
  },
  "nbformat": 4,
  "nbformat_minor": 0
}
