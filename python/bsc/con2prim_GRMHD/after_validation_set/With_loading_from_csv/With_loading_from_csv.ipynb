{
  "cells": [
    {
      "cell_type": "markdown",
      "metadata": {
        "id": "TPvB1xoSUZhR"
      },
      "source": [
        "# Neural network to learn conservative-to-primitive conversion in relativistic hydrodynamics"
      ]
    },
    {
      "cell_type": "markdown",
      "metadata": {
        "id": "MAmcT4v2HN8L"
      },
      "source": [
        "## How to use this notebook\n",
        "\n",
        "### Local installation\n",
        "\n",
        "1. Install required packages with `pip install -r requirements.txt` to your desired environment.\n",
        "2. If a script version of this notebook is desired, comment (not uncomment) the first line of `nbconvert` cell.\n",
        "\n",
        "### Colab installation\n",
        "\n",
        "1.  Comment (not uncomment) the first line of the drive mounting cell.\n",
        "2.  Comment (not uncomment) the first line of the `pip install` cell.\n",
        "\n",
        "<!-- - For colab we also want to set the runtime to GPU by clicking _Change runtime_ in the _Runtime_ menu, and -->\n",
        "<!-- - We want to wait for the google drive connection popup to appear and follow the instructions. -->\n",
        "\n",
        "### Loading / Generating data\n",
        "3. Set `LOAD_DATA_FROM_CSV` to `True` / `False` to load data from csv files / generate data in this notebook.\n",
        "\n",
        "### Training without optimization\n",
        "\n",
        "4. Set `OPTIMIZE = False` in section _Constants and flags to set_.\n",
        "5. Run the entire notebook.\n",
        "\n",
        "### Training with optimization\n",
        "\n",
        "4. Set `OPTIMIZE = True` in section _Constants and flags to set_.\n",
        "5. Run the entire notebook.\n",
        "\n",
        "### Loading an already trained model\n",
        "\n",
        "4. Run cells in section _Initialization_.\n",
        "5. Run cells with definitions in section _Input data and labels_.\n",
        "6. Run cell with the definition of _Net_ in section _Defining the neural network_.\n",
        "7. Make sure the `net.pth`, `optimizer.pth`, `scheduler.pth`, `var_dict.json` and `train_output.csv` files are in the directory containing this notebook.\n",
        "8. Run the cells in section _Loading_ and continue from there.\n",
        "\n",
        "### Generating the C++ model\n",
        "\n",
        "9. Run section _Porting the model to C++_, this requires a model to be loaded.\n",
        "10. Set the path to the `net.pt` file in the C++ source file.\n",
        "11. `mkdir build && cd build`,\n",
        "12. Configure a `CMakeLists.txt` file as is done [here](https://pytorch.org/cppdocs/installing.html).\n",
        "13. `cmake -DCMAKE_PREFIX_PATH=/path/to/libtorch/ ..`,\n",
        "14. Compile and run, e.g. `cmake --build . --config release && ./<executable name>`"
      ]
    },
    {
      "cell_type": "markdown",
      "metadata": {
        "id": "eR_sqREjHN8M"
      },
      "source": [
        "## Initialization"
      ]
    },
    {
      "cell_type": "markdown",
      "metadata": {
        "id": "Qzpmw7FtHN8M"
      },
      "source": [
        "\n",
        "Use this first cell to **convert this notebook** to a python script."
      ]
    },
    {
      "cell_type": "code",
      "execution_count": 62,
      "metadata": {
        "colab": {
          "base_uri": "https://localhost:8080/"
        },
        "id": "eqdgdNLHUZhV",
        "outputId": "2598564b-48c6-464d-a3d6-9929e060e619",
        "tags": [
          "remove_cell"
        ]
      },
      "outputs": [
        {
          "output_type": "stream",
          "name": "stdout",
          "text": [
            "skipping\n"
          ]
        }
      ],
      "source": [
        "%%script echo skipping\n",
        "\n",
        "!jupyter nbconvert pt1_before_restructuring.ipynb --TagRemovePreprocessor.enabled=True --TagRemovePreprocessor.remove_cell_tags='{\"remove_cell\"}' --to script"
      ]
    },
    {
      "cell_type": "markdown",
      "metadata": {
        "id": "nzcUr0LnUZhw"
      },
      "source": [
        "Next some cells for working on **google colab**,"
      ]
    },
    {
      "cell_type": "code",
      "execution_count": 63,
      "metadata": {
        "id": "McIPwo_EHN8P"
      },
      "outputs": [],
      "source": [
        "import os\n",
        "import shutil\n",
        "\n",
        "# check if the drive is mounted\n",
        "drive_mounted = os.path.exists(\"/content/drive\")\n",
        "# change this to your desired folder\n",
        "drive_folder = \"/content/drive/My Drive/bsc/con2prim_GRMHD/after_validation_set\"\n",
        "\n",
        "# define a function to save a file to the drive or the current directory\n",
        "def save_file(file_name):\n",
        "  if drive_mounted:\n",
        "    # save the file to the drive folder\n",
        "    file_path = os.path.join(drive_folder, file_name)\n",
        "    # copy the file from the current directory to the drive folder\n",
        "    shutil.copyfile(file_name, file_path)\n",
        "  else:\n",
        "    # do nothing as the file is already in the current directory\n",
        "    pass\n"
      ]
    },
    {
      "cell_type": "code",
      "execution_count": 64,
      "metadata": {
        "colab": {
          "base_uri": "https://localhost:8080/"
        },
        "id": "ecHw2_xlUZhx",
        "outputId": "4974558b-54b0-4e74-abf6-2090947aa8e6"
      },
      "outputs": [
        {
          "output_type": "stream",
          "name": "stdout",
          "text": [
            "Drive already mounted at /content/drive; to attempt to forcibly remount, call drive.mount(\"/content/drive\", force_remount=True).\n"
          ]
        }
      ],
      "source": [
        "#%%script echo skipping\n",
        "\n",
        "from google.colab import drive\n",
        "drive.mount('/content/drive')"
      ]
    },
    {
      "cell_type": "code",
      "execution_count": 65,
      "metadata": {
        "colab": {
          "base_uri": "https://localhost:8080/"
        },
        "id": "T1rcStMLUZhy",
        "outputId": "085fcd0c-69c0-4590-da13-cd6f046989d9"
      },
      "outputs": [
        {
          "output_type": "stream",
          "name": "stdout",
          "text": [
            "Looking in indexes: https://pypi.org/simple, https://us-python.pkg.dev/colab-wheels/public/simple/\n",
            "Requirement already satisfied: optuna in /usr/local/lib/python3.10/dist-packages (3.1.1)\n",
            "Requirement already satisfied: tensorboard in /usr/local/lib/python3.10/dist-packages (2.12.2)\n",
            "Requirement already satisfied: tensorboardX in /usr/local/lib/python3.10/dist-packages (2.6)\n",
            "Requirement already satisfied: alembic>=1.5.0 in /usr/local/lib/python3.10/dist-packages (from optuna) (1.11.1)\n",
            "Requirement already satisfied: cmaes>=0.9.1 in /usr/local/lib/python3.10/dist-packages (from optuna) (0.9.1)\n",
            "Requirement already satisfied: colorlog in /usr/local/lib/python3.10/dist-packages (from optuna) (6.7.0)\n",
            "Requirement already satisfied: numpy in /usr/local/lib/python3.10/dist-packages (from optuna) (1.22.4)\n",
            "Requirement already satisfied: packaging>=20.0 in /usr/local/lib/python3.10/dist-packages (from optuna) (23.1)\n",
            "Requirement already satisfied: sqlalchemy>=1.3.0 in /usr/local/lib/python3.10/dist-packages (from optuna) (2.0.10)\n",
            "Requirement already satisfied: tqdm in /usr/local/lib/python3.10/dist-packages (from optuna) (4.65.0)\n",
            "Requirement already satisfied: PyYAML in /usr/local/lib/python3.10/dist-packages (from optuna) (6.0)\n",
            "Requirement already satisfied: absl-py>=0.4 in /usr/local/lib/python3.10/dist-packages (from tensorboard) (1.4.0)\n",
            "Requirement already satisfied: grpcio>=1.48.2 in /usr/local/lib/python3.10/dist-packages (from tensorboard) (1.54.0)\n",
            "Requirement already satisfied: google-auth<3,>=1.6.3 in /usr/local/lib/python3.10/dist-packages (from tensorboard) (2.17.3)\n",
            "Requirement already satisfied: google-auth-oauthlib<1.1,>=0.5 in /usr/local/lib/python3.10/dist-packages (from tensorboard) (1.0.0)\n",
            "Requirement already satisfied: markdown>=2.6.8 in /usr/local/lib/python3.10/dist-packages (from tensorboard) (3.4.3)\n",
            "Requirement already satisfied: protobuf>=3.19.6 in /usr/local/lib/python3.10/dist-packages (from tensorboard) (3.20.3)\n",
            "Requirement already satisfied: requests<3,>=2.21.0 in /usr/local/lib/python3.10/dist-packages (from tensorboard) (2.27.1)\n",
            "Requirement already satisfied: setuptools>=41.0.0 in /usr/local/lib/python3.10/dist-packages (from tensorboard) (67.7.2)\n",
            "Requirement already satisfied: tensorboard-data-server<0.8.0,>=0.7.0 in /usr/local/lib/python3.10/dist-packages (from tensorboard) (0.7.0)\n",
            "Requirement already satisfied: tensorboard-plugin-wit>=1.6.0 in /usr/local/lib/python3.10/dist-packages (from tensorboard) (1.8.1)\n",
            "Requirement already satisfied: werkzeug>=1.0.1 in /usr/local/lib/python3.10/dist-packages (from tensorboard) (2.3.0)\n",
            "Requirement already satisfied: wheel>=0.26 in /usr/local/lib/python3.10/dist-packages (from tensorboard) (0.40.0)\n",
            "Requirement already satisfied: Mako in /usr/local/lib/python3.10/dist-packages (from alembic>=1.5.0->optuna) (1.2.4)\n",
            "Requirement already satisfied: typing-extensions>=4 in /usr/local/lib/python3.10/dist-packages (from alembic>=1.5.0->optuna) (4.5.0)\n",
            "Requirement already satisfied: cachetools<6.0,>=2.0.0 in /usr/local/lib/python3.10/dist-packages (from google-auth<3,>=1.6.3->tensorboard) (5.3.0)\n",
            "Requirement already satisfied: pyasn1-modules>=0.2.1 in /usr/local/lib/python3.10/dist-packages (from google-auth<3,>=1.6.3->tensorboard) (0.3.0)\n",
            "Requirement already satisfied: six>=1.9.0 in /usr/local/lib/python3.10/dist-packages (from google-auth<3,>=1.6.3->tensorboard) (1.16.0)\n",
            "Requirement already satisfied: rsa<5,>=3.1.4 in /usr/local/lib/python3.10/dist-packages (from google-auth<3,>=1.6.3->tensorboard) (4.9)\n",
            "Requirement already satisfied: requests-oauthlib>=0.7.0 in /usr/local/lib/python3.10/dist-packages (from google-auth-oauthlib<1.1,>=0.5->tensorboard) (1.3.1)\n",
            "Requirement already satisfied: urllib3<1.27,>=1.21.1 in /usr/local/lib/python3.10/dist-packages (from requests<3,>=2.21.0->tensorboard) (1.26.15)\n",
            "Requirement already satisfied: certifi>=2017.4.17 in /usr/local/lib/python3.10/dist-packages (from requests<3,>=2.21.0->tensorboard) (2022.12.7)\n",
            "Requirement already satisfied: charset-normalizer~=2.0.0 in /usr/local/lib/python3.10/dist-packages (from requests<3,>=2.21.0->tensorboard) (2.0.12)\n",
            "Requirement already satisfied: idna<4,>=2.5 in /usr/local/lib/python3.10/dist-packages (from requests<3,>=2.21.0->tensorboard) (3.4)\n",
            "Requirement already satisfied: greenlet!=0.4.17 in /usr/local/lib/python3.10/dist-packages (from sqlalchemy>=1.3.0->optuna) (2.0.2)\n",
            "Requirement already satisfied: MarkupSafe>=2.1.1 in /usr/local/lib/python3.10/dist-packages (from werkzeug>=1.0.1->tensorboard) (2.1.2)\n",
            "Requirement already satisfied: pyasn1<0.6.0,>=0.4.6 in /usr/local/lib/python3.10/dist-packages (from pyasn1-modules>=0.2.1->google-auth<3,>=1.6.3->tensorboard) (0.5.0)\n",
            "Requirement already satisfied: oauthlib>=3.0.0 in /usr/local/lib/python3.10/dist-packages (from requests-oauthlib>=0.7.0->google-auth-oauthlib<1.1,>=0.5->tensorboard) (3.2.2)\n"
          ]
        }
      ],
      "source": [
        "#%%script echo skipping\n",
        "\n",
        "!pip install optuna tensorboard tensorboardX"
      ]
    },
    {
      "cell_type": "markdown",
      "metadata": {
        "id": "djyinQUpHN8R"
      },
      "source": [
        "Importing the **libraries**,"
      ]
    },
    {
      "cell_type": "code",
      "execution_count": 66,
      "metadata": {
        "id": "tREdWQUVUZhz"
      },
      "outputs": [],
      "source": [
        "import numpy as np\n",
        "import matplotlib.pyplot as plt\n",
        "import torch\n",
        "import torch.nn as nn\n",
        "import torch.optim as optim\n",
        "import torch.nn.functional as F\n",
        "import optuna\n",
        "import tensorboardX as tbx\n",
        "import pandas as pd"
      ]
    },
    {
      "cell_type": "markdown",
      "metadata": {
        "id": "38GvmerjUZhz"
      },
      "source": [
        "### Constants and flags to set\n",
        "Defining some constants and parameters for convenience.\n",
        "\n",
        "**NOTE**: Some **subparameters** still need to be adjusted in the `create_model` function itself as of (Tue May 16 07:42:45 AM CEST 2023) in the case the model is being trained without optimization."
      ]
    },
    {
      "cell_type": "code",
      "execution_count": 67,
      "metadata": {
        "id": "ei6VZDYKUZh0"
      },
      "outputs": [],
      "source": [
        "\n",
        "# Checking if GPU is available and setting the device accordingly\n",
        "device = torch.device(\"cuda\" if torch.cuda.is_available() else \"cpu\")\n",
        "\n",
        "N_TRIALS = 1 # Number of trials for hyperparameter optimization # NOTE: Set this before properly.\n",
        "OPTIMIZE = True # Whether to optimize the hyperparameters or to use predetermined values. # NOTE: Set this before properly.\n",
        "ZSCORE_NORMALIZATION = False # Whether to z-score normalize the input data.\n",
        "LOAD_DATA_FROM_CSV = True  # If not true we generate the data in this file and save to {x_train,y_train,x_test,y_test}.csv, otherwise we load the data from files of the same name. # NOTE: Set this before properly.\n",
        "\n",
        "csv_filenames = { # File names to load input data and labels from if LOAD_DATA_FROM_CSV is True.\n",
        "    \"x_train\": \"x_train.csv\",\n",
        "    \"x_val\": \"x_val.csv\",\n",
        "    \"x_test\": \"x_test.csv\",\n",
        "    \"y_train\": \"y_train.csv\",\n",
        "    \"y_val\": \"y_val.csv\",\n",
        "    \"y_test\": \"y_test.csv\",\n",
        "}\n",
        "\n",
        "# Values to use for hyperparameters if OPTIMIZE is False.\n",
        "N_LAYERS_NO_OPT = 3\n",
        "N_UNITS_NO_OPT = [555, 458, 115]\n",
        "HIDDEN_ACTIVATION_NAME_NO_OPT = \"ReLU\"\n",
        "OUTPUT_ACTIVATION_NAME_NO_OPT = \"ReLU\"\n",
        "LOSS_NAME_NO_OPT = \"Huber\"\n",
        "OPTIMIZER_NAME_NO_OPT = \"RMSprop\"\n",
        "LR_NO_OPT = 0.000122770896701404\n",
        "BATCH_SIZE_NO_OPT = 49\n",
        "N_EPOCHS_NO_OPT = 5 # NOTE: Set this before properly.\n",
        "SCHEDULER_NAME_NO_OPT = \"ReduceLROnPlateau\"\n",
        "\n",
        "N_INPUTS = 14  # Number of input features.\n",
        "Gamma = 5/3  # Adiabatic index\n",
        "\n",
        "n_samples = 100000 # NOTE: Set this before properly.\n",
        "train_frac = 0.7  # 70% of data for training\n",
        "val_frac = 0.1  # 10% of data for validation, rest for testing\n",
        "\n",
        "rho_interval = (0, 2) \n",
        "epsilon_interval = (1e-2, 2000)  # Will be sampled in log space\n",
        "vx_interval = (0, 0.999)  \n",
        "vy_interval = (0, 0.999)  \n",
        "vz_interval = (0, 0.999)  \n",
        "Bx_interval = (-10, 10)  \n",
        "By_interval = (-10, 10)  \n",
        "Bz_interval = (-10, 10)  \n",
        "gxx_interval = (0.9, 1.1)\n",
        "gxy_interval = (0, 0.1)\n",
        "gxz_interval = (0, 0.1)\n",
        "gyy_interval = (0.9, 1.1)\n",
        "gyz_interval = (0, 0.1)\n",
        "gzz_interval = (0.9, 1.1)\n",
        "\n",
        "np.random.seed(55) # Comment for true random data.\n"
      ]
    },
    {
      "cell_type": "markdown",
      "metadata": {
        "id": "dlaP5UL2UZh1"
      },
      "source": [
        "## Input data and labels\n",
        "\n",
        "We either generate the data or load the data. First the definitions for generating the data come below."
      ]
    },
    {
      "cell_type": "code",
      "execution_count": 68,
      "metadata": {
        "id": "s_EvGFZcUZh1"
      },
      "outputs": [],
      "source": [
        "# Defining an analytic equation of state (EOS) for an ideal gas\n",
        "def eos_analytic(rho, epsilon):\n",
        "    # Adding some assertions to check that the input tensors are valid and have \n",
        "    # the expected shape and type \n",
        "    assert isinstance(rho, torch.Tensor), \"rho must be a torch.Tensor\"\n",
        "    assert isinstance(epsilon, torch.Tensor), \"epsilon must be a torch.Tensor\"\n",
        "    print('rho.shape: ', rho.shape)\n",
        "    print('epsilon.shape: ', epsilon.shape)\n",
        "    assert rho.shape == epsilon.shape, \"rho and epsilon must have the same shape\"\n",
        "    assert rho.ndim == 1, \"rho and epsilon must be one-dimensional tensors\"\n",
        "    assert rho.dtype == torch.float32, \"rho and epsilon must have dtype torch.float32\"\n",
        "\n",
        "    return (Gamma - 1) * rho * epsilon\n",
        "\n",
        "def sample_primitive_variables_and_metric():\n",
        "    rho = np.random.uniform(*rho_interval)  \n",
        "    epsilon = 10 ** np.random.uniform(*np.log10(epsilon_interval))\n",
        "    vx = np.random.uniform(*vx_interval)  \n",
        "    vy = np.random.uniform(*vy_interval)  \n",
        "    vz = np.random.uniform(*vz_interval)  \n",
        "    Bx = np.random.uniform(*Bx_interval)  \n",
        "    By = np.random.uniform(*By_interval)  \n",
        "    Bz = np.random.uniform(*Bz_interval)  \n",
        "    gxx = np.random.uniform(*gxx_interval)\n",
        "    gxy = np.random.uniform(*gxy_interval)\n",
        "    gxz = np.random.uniform(*gxz_interval)\n",
        "    gyy = np.random.uniform(*gyy_interval)\n",
        "    gyz = np.random.uniform(*gyz_interval)\n",
        "    gzz = np.random.uniform(*gzz_interval)\n",
        "\n",
        "    return rho, epsilon, vx, vy, vz, Bx, By, Bz, gxx, gxy, gxz, gyy, gyz, gzz\n",
        "\n",
        "def check_sample(rho, epsilon, vx, vy, vz, Bx, By, Bz, gxx, gxy, gxz, gyy, gyz, gzz):\n",
        "    wtemp_expr = 1 - (gxx * vx**2 + gyy * vy**2 + gzz * vz**2 + 2 * gxy * vx * vy + 2 * gxz * vx * vz + 2 * gyz * vy * vz)\n",
        "    sdet_expr = gxx * gyy * gzz + 2 * gxy * gxz * gyz - gxx * gyz ** 2 - gyy * gxz ** 2 - gzz * gxy ** 2\n",
        "    if vx**2 + vy**2 + vz**2 >= 1 or wtemp_expr < 0 or sdet_expr < 0:\n",
        "        # print(f\"Sample failed checks. vx^2+vy^2+vz^2: {vx**2 + vy**2 + vz**2}, wtemp_expr: {wtemp_expr}, sdet_expr: {sdet_expr}\")\n",
        "        return False\n",
        "    else:\n",
        "        # print(f\"Sample passed checks. vx^2+vy^2+vz^2: {vx**2 + vy**2 + vz**2}, wtemp_expr: {wtemp_expr}, sdet_expr: {sdet_expr}\")\n",
        "        return True\n",
        "\n",
        "def generate_samples(n_samples):\n",
        "    samples = []\n",
        "    while len(samples) < n_samples:\n",
        "        sample = sample_primitive_variables_and_metric()\n",
        "        if check_sample(*sample):\n",
        "            samples.append(sample)\n",
        "        # print(f\"Number of valid samples: {len(samples)}\")\n",
        "    return zip(*samples)\n",
        "def sdet(gxx, gxy, gxz, gyy, gyz, gzz):\n",
        "    # Determinant of the three metric.\n",
        "    return (gxx * gyy * gzz + 2 * gxy * gxz * gyz - gxx * gyz ** 2 - gyy * gxz ** 2 - gzz * gxy ** 2) ** 0.5\n",
        "\n",
        "# Defining a function that computes conserved variables from primitive variables and the metric\n",
        "# We follow the source code of GRaM-X: A new GPU-accelerated dynamical spacetime GRMHD code for Exascale\n",
        "# computing with the Einstein Toolkit of Shankar et al.\n",
        "def compute_conserved_variables(rho, epsilon, vx, vy, vz, Bx, By, Bz, gxx, gxy, gxz, gyy, gyz, gzz):\n",
        "    pres = eos_analytic(rho, epsilon)\n",
        "    wtemp = 1 / (1 - (gxx * vx**2 + gyy * vy**2 + gzz * vz**2 +\n",
        "        2 * gxy * vx * vy + 2 * gxz * vx * vz +\n",
        "        2 * gyz * vy * vz))**0.5\n",
        "\n",
        "    vlowx = gxx * vx + gxy * vy + gxz * vz\n",
        "    vlowy = gxy * vx + gyy * vy + gyz * vz\n",
        "    vlowz = gxz * vx + gyz * vy + gzz * vz\n",
        "\n",
        "    Bxlow = gxx * Bx + gxy * By + gxz * Bz\n",
        "    Bylow = gxy * Bx + gyy * By + gyz * Bz\n",
        "    Bzlow = gxz * Bx + gyz * By + gzz * Bz\n",
        "\n",
        "    B2 = Bxlow * Bx + Bylow * By + Bzlow * Bz\n",
        "\n",
        "    Bdotv = Bxlow * vx + Bylow * vy + Bzlow * vz\n",
        "    Bdotv2 = Bdotv * Bdotv\n",
        "    wtemp2 = wtemp * wtemp\n",
        "    b2 = B2 / wtemp2 + Bdotv2\n",
        "    ab0 = wtemp * Bdotv\n",
        "\n",
        "    blowx = (gxx * Bx + gxy * By + gxz * Bz) / wtemp + wtemp * Bdotv * vlowx\n",
        "    blowy = (gxy * Bx + gyy * By + gyz * Bz) / wtemp + wtemp * Bdotv * vlowy\n",
        "    blowz = (gxz * Bx + gyz * By + gzz * Bz) / wtemp + wtemp * Bdotv * vlowz\n",
        "\n",
        "    hrhow2 = (rho * (1 + epsilon) + pres + b2) * (wtemp) * (wtemp)\n",
        "\n",
        "    D = sdet(gxx, gxy, gxz, gyy, gyz, gzz) * rho * (wtemp)\n",
        "    Sx = sdet(gxx, gxy, gxz, gyy, gyz, gzz) * (hrhow2 * vlowx - ab0 * blowx)\n",
        "    Sy = sdet(gxx, gxy, gxz, gyy, gyz, gzz) * (hrhow2 * vlowy - ab0 * blowy)\n",
        "    Sz = sdet(gxx, gxy, gxz, gyy, gyz, gzz) * (hrhow2 * vlowz - ab0 * blowz)\n",
        "    tau = sdet(gxx, gxy, gxz, gyy, gyz, gzz) * (hrhow2 - pres - b2 / 2 - ab0 * ab0) - D\n",
        "    Bconsx = sdet(gxx, gxy, gxz, gyy, gyz, gzz) * Bx\n",
        "    Bconsy = sdet(gxx, gxy, gxz, gyy, gyz, gzz) * By\n",
        "    Bconsz = sdet(gxx, gxy, gxz, gyy, gyz, gzz) * Bz\n",
        "\n",
        "    return D, Sx, Sy, Sz, tau, Bconsx, Bconsy, Bconsz\n",
        "\n",
        "def generate_input_data(rho, epsilon, vx, vy, vz, Bx, By, Bz, gxx, gxy, gxz, gyy, gyz, gzz):\n",
        "    rho = torch.tensor(np.array(rho), dtype=torch.float32).to(device)\n",
        "    epsilon = torch.tensor(np.array(epsilon), dtype=torch.float32).to(device)\n",
        "    vx = torch.tensor(np.array(vx), dtype=torch.float32).to(device)\n",
        "    vy = torch.tensor(np.array(vy), dtype=torch.float32).to(device)\n",
        "    vz = torch.tensor(np.array(vz), dtype=torch.float32).to(device)\n",
        "    Bx = torch.tensor(np.array(Bx), dtype=torch.float32).to(device)\n",
        "    By = torch.tensor(np.array(By), dtype=torch.float32).to(device)\n",
        "    Bz = torch.tensor(np.array(Bz), dtype=torch.float32).to(device)\n",
        "    gxx = torch.tensor(np.array(gxx), dtype=torch.float32).to(device)\n",
        "    gxy = torch.tensor(np.array(gxy), dtype=torch.float32).to(device)\n",
        "    gxz = torch.tensor(np.array(gxz), dtype=torch.float32).to(device)\n",
        "    gyy = torch.tensor(np.array(gyy), dtype=torch.float32).to(device)\n",
        "    gyz = torch.tensor(np.array(gyz), dtype=torch.float32).to(device)\n",
        "    gzz = torch.tensor(np.array(gzz), dtype=torch.float32).to(device)\n",
        "\n",
        "    D, Sx, Sy, Sz, tau, Bscriptx, Bscripty, Bscriptz = compute_conserved_variables(\n",
        "        rho, epsilon, vx, vy, vz, Bx, By, Bz, gxx, gxy, gxz, gyy, gyz, gzz\n",
        "    ) \n",
        "\n",
        "    # Add gxx, gxy, gxz, gyy, gyz, gzz to the tensor\n",
        "    x = torch.stack([D, Sx, Sy, Sz, tau, Bscriptx, Bscripty, Bscriptz, gxx, gxy, gxz, gyy, gyz, gzz], axis=1)\n",
        "    return x\n",
        "\n",
        "# Defining a function that generates output data (labels) from given samples of primitive variables\n",
        "# We use the definitions as given in Recovery schemes for primitive variables in\n",
        "# general-relativistic magnetohydrodynamics of Siegel et al.\n",
        "def generate_labels(rho, epsilon, vx, vy, vz):\n",
        "    # Converting the numpy arrays to torch tensors and moving them to the device\n",
        "    rho = torch.tensor(np.array(rho), dtype=torch.float32).to(device)\n",
        "    epsilon = torch.tensor(np.array(epsilon), dtype=torch.float32).to(device)\n",
        "    vx = torch.tensor(np.array(vx), dtype=torch.float32).to(device)\n",
        "    vy = torch.tensor(np.array(vy), dtype=torch.float32).to(device)\n",
        "    vz = torch.tensor(np.array(vz), dtype=torch.float32).to(device)\n",
        "\n",
        "    # Computing the required quantities\n",
        "    pres = eos_analytic(rho, epsilon)\n",
        "    h = 1 + epsilon + pres / rho\n",
        "    W = 1 / torch.sqrt(1 - (vx * vx + vy * vy + vz * vz))\n",
        "\n",
        "    # Returning the output data tensor\n",
        "    return h * W"
      ]
    },
    {
      "cell_type": "markdown",
      "metadata": {
        "id": "FEGvnNapHN8V"
      },
      "source": [
        "### Generating or loading input data and labels"
      ]
    },
    {
      "cell_type": "code",
      "execution_count": 69,
      "metadata": {
        "id": "cKubR6C8UZh4"
      },
      "outputs": [],
      "source": [
        "if LOAD_DATA_FROM_CSV:\n",
        "    # Load the data from CSV files\n",
        "    x_train = pd.read_csv(csv_filenames[\"x_train\"]).values\n",
        "    y_train = pd.read_csv(csv_filenames[\"y_train\"]).values.squeeze()  # reshape to 1D\n",
        "    x_val = pd.read_csv(csv_filenames[\"x_val\"]).values\n",
        "    y_val = pd.read_csv(csv_filenames[\"y_val\"]).values.squeeze()  # reshape to 1D\n",
        "    x_test = pd.read_csv(csv_filenames[\"x_test\"]).values\n",
        "    y_test = pd.read_csv(csv_filenames[\"y_test\"]).values.squeeze()  # reshape to 1D\n",
        "\n",
        "    # Convert numpy arrays to tensors\n",
        "    x_train = torch.from_numpy(x_train).float().to(device)\n",
        "    y_train = torch.from_numpy(y_train).float().to(device)\n",
        "    x_val = torch.from_numpy(x_val).float().to(device)\n",
        "    y_val = torch.from_numpy(y_val).float().to(device)\n",
        "    x_test = torch.from_numpy(x_test).float().to(device)\n",
        "    y_test = torch.from_numpy(y_test).float().to(device)\n",
        "\n",
        "    # This is an alternative to having if clauses around the cells that visualize these variables.\n",
        "    rho = epsilon = vx = vy = vz = Bx = By = Bz = gxx = gxy = gxz = gyy = gyz  = gzz = None"
      ]
    },
    {
      "cell_type": "code",
      "execution_count": 70,
      "metadata": {
        "id": "G7Y6BJJrHN8V"
      },
      "outputs": [],
      "source": [
        "if not LOAD_DATA_FROM_CSV:\n",
        "    # Sample primitive variables and metric\n",
        "    rho, epsilon, vx, vy, vz, Bx, By, Bz, gxx, gxy, gxz, gyy, gyz, gzz = generate_samples(n_samples)"
      ]
    },
    {
      "cell_type": "code",
      "execution_count": 71,
      "metadata": {
        "id": "WyyPMzRwHN8W"
      },
      "outputs": [],
      "source": [
        "if not LOAD_DATA_FROM_CSV:\n",
        "    # Generate data and labels.\n",
        "    x = generate_input_data(rho, epsilon, vx, vy, vz, Bx, By, Bz, gxx, gxy, gxz, gyy, gyz, gzz)\n",
        "    y = generate_labels(rho, epsilon, vx, vy, vz)\n",
        "\n",
        "    # Calculate the number of samples in each set\n",
        "    n_train_samples = int(n_samples * train_frac)\n",
        "    n_val_samples = int(n_samples * val_frac)\n",
        "\n",
        "    # Create the data sets\n",
        "    x_train = x[:n_train_samples]\n",
        "    y_train = y[:n_train_samples]\n",
        "    x_val = x[n_train_samples : n_train_samples + n_val_samples]\n",
        "    y_val = y[n_train_samples : n_train_samples + n_val_samples]\n",
        "    x_test = x[n_train_samples + n_val_samples :]\n",
        "    y_test = y[n_train_samples + n_val_samples :]\n",
        "\n",
        "    # Save the data to CSV files; tensors need to be converted numpy arrays for saving in CSV.\n",
        "    pd.DataFrame(x_train.cpu().numpy()).to_csv(csv_filenames[\"x_train\"], index=False)\n",
        "    save_file(csv_filenames[\"x_train\"])\n",
        "    pd.DataFrame(y_train.cpu().numpy()).to_csv(csv_filenames[\"y_train\"], index=False)\n",
        "    save_file(csv_filenames[\"y_train\"])\n",
        "\n",
        "    pd.DataFrame(x_val.cpu().numpy()).to_csv(csv_filenames[\"x_val\"], index=False)\n",
        "    save_file(csv_filenames[\"x_val\"])\n",
        "    pd.DataFrame(y_val.cpu().numpy()).to_csv(csv_filenames[\"y_val\"], index=False)\n",
        "    save_file(csv_filenames[\"y_val\"])\n",
        "\n",
        "    pd.DataFrame(x_test.cpu().numpy()).to_csv(csv_filenames[\"x_test\"], index=False)\n",
        "    save_file(csv_filenames[\"x_test\"])\n",
        "    pd.DataFrame(y_test.cpu().numpy()).to_csv(csv_filenames[\"y_test\"], index=False)\n",
        "    save_file(csv_filenames[\"y_test\"])"
      ]
    },
    {
      "cell_type": "code",
      "execution_count": 72,
      "metadata": {
        "id": "W2dy5WHvHN8W",
        "outputId": "2ac24180-ff0d-4ca1-9a1c-4a862f1bd6c6",
        "colab": {
          "base_uri": "https://localhost:8080/"
        }
      },
      "outputs": [
        {
          "output_type": "execute_result",
          "data": {
            "text/plain": [
              "torch.Size([70000, 14])"
            ]
          },
          "metadata": {},
          "execution_count": 72
        },
        {
          "output_type": "execute_result",
          "data": {
            "text/plain": [
              "torch.Size([70000])"
            ]
          },
          "metadata": {},
          "execution_count": 72
        },
        {
          "output_type": "execute_result",
          "data": {
            "text/plain": [
              "torch.Size([10000, 14])"
            ]
          },
          "metadata": {},
          "execution_count": 72
        },
        {
          "output_type": "execute_result",
          "data": {
            "text/plain": [
              "torch.Size([10000])"
            ]
          },
          "metadata": {},
          "execution_count": 72
        },
        {
          "output_type": "execute_result",
          "data": {
            "text/plain": [
              "torch.Size([20000, 14])"
            ]
          },
          "metadata": {},
          "execution_count": 72
        },
        {
          "output_type": "execute_result",
          "data": {
            "text/plain": [
              "torch.Size([20000])"
            ]
          },
          "metadata": {},
          "execution_count": 72
        },
        {
          "output_type": "execute_result",
          "data": {
            "text/plain": [
              "tensor([[ 2.8799e-01,  5.4806e+02,  3.9029e+02,  ...,  1.0551e+00,\n",
              "          9.1389e-04,  1.0237e+00],\n",
              "        [ 4.0179e+00,  8.5730e+01,  2.8510e+02,  ...,  9.6899e-01,\n",
              "          2.0033e-02,  9.5205e-01],\n",
              "        [ 6.9980e-01,  4.6977e+01,  1.0896e+02,  ...,  9.9846e-01,\n",
              "          9.5204e-02,  1.0219e+00],\n",
              "        ...,\n",
              "        [ 2.7649e-01, -9.3046e+00,  1.3167e+01,  ...,  9.7850e-01,\n",
              "          9.6477e-02,  9.8960e-01],\n",
              "        [ 3.8064e+00,  1.2161e+02,  1.4042e+02,  ...,  9.4760e-01,\n",
              "          1.7655e-02,  9.1011e-01],\n",
              "        [ 2.0672e+00,  3.7018e+01,  6.6318e+01,  ...,  1.0152e+00,\n",
              "          1.0420e-02,  9.9368e-01]], device='cuda:0')"
            ]
          },
          "metadata": {},
          "execution_count": 72
        },
        {
          "output_type": "execute_result",
          "data": {
            "text/plain": [
              "tensor([3.6145e+03, 2.2497e+02, 2.5973e+00,  ..., 1.1577e+00, 2.6726e+01,\n",
              "        1.4803e+00], device='cuda:0')"
            ]
          },
          "metadata": {},
          "execution_count": 72
        },
        {
          "output_type": "execute_result",
          "data": {
            "text/plain": [
              "tensor([[ 2.9251e-01,  3.1055e+01,  4.3508e+01,  ...,  1.0030e+00,\n",
              "          7.7978e-02,  9.6332e-01],\n",
              "        [ 1.6392e+00,  1.7113e+03,  8.3473e+02,  ...,  1.0528e+00,\n",
              "          7.9005e-02,  1.0505e+00],\n",
              "        [ 6.2265e-01,  1.6363e+01,  2.1218e+01,  ...,  9.1781e-01,\n",
              "          1.9029e-02,  9.8093e-01],\n",
              "        ...,\n",
              "        [ 1.8699e+00,  9.6781e+01, -2.5886e+01,  ...,  1.0341e+00,\n",
              "          6.1470e-02,  1.0441e+00],\n",
              "        [ 2.2394e-01,  1.0047e+01,  2.8186e+01,  ...,  1.0126e+00,\n",
              "          2.1318e-02,  9.9101e-01],\n",
              "        [ 2.5670e+00,  8.3110e+01,  1.4650e+01,  ...,  9.3571e-01,\n",
              "          2.9241e-02,  1.0983e+00]], device='cuda:0')"
            ]
          },
          "metadata": {},
          "execution_count": 72
        },
        {
          "output_type": "execute_result",
          "data": {
            "text/plain": [
              "tensor([  10.2288, 1285.2124,   16.8475,  ...,    3.3446,    6.6065,\n",
              "           5.8919], device='cuda:0')"
            ]
          },
          "metadata": {},
          "execution_count": 72
        },
        {
          "output_type": "execute_result",
          "data": {
            "text/plain": [
              "tensor([[ 5.9860e+00,  1.2126e+02, -1.7533e+01,  ...,  1.0228e+00,\n",
              "          6.1891e-02,  1.0852e+00],\n",
              "        [ 4.5638e+00,  9.0882e+02,  7.2275e+03,  ...,  1.0120e+00,\n",
              "          6.4378e-02,  1.0653e+00],\n",
              "        [ 3.2633e-01,  6.0047e+00,  3.7842e+01,  ...,  9.7816e-01,\n",
              "          7.5240e-02,  9.4875e-01],\n",
              "        ...,\n",
              "        [ 1.9495e+00,  1.3820e+01,  1.6836e+01,  ...,  9.2530e-01,\n",
              "          2.6508e-02,  9.4893e-01],\n",
              "        [ 3.3144e+00,  1.0148e+01,  6.0228e+00,  ...,  9.4280e-01,\n",
              "          8.7622e-02,  9.3816e-01],\n",
              "        [ 7.6473e+00,  1.4335e+02,  4.4883e+01,  ...,  1.0101e+00,\n",
              "          5.2709e-02,  1.0166e+00]], device='cuda:0')"
            ]
          },
          "metadata": {},
          "execution_count": 72
        },
        {
          "output_type": "execute_result",
          "data": {
            "text/plain": [
              "tensor([1.0729e+01, 1.4852e+03, 5.6100e+01,  ..., 1.1048e+00, 2.6302e+00,\n",
              "        7.7592e+00], device='cuda:0')"
            ]
          },
          "metadata": {},
          "execution_count": 72
        }
      ],
      "source": [
        "\n",
        "x_train.shape\n",
        "y_train.shape\n",
        "x_val.shape\n",
        "y_val.shape\n",
        "x_test.shape\n",
        "y_test.shape\n",
        "x_train\n",
        "y_train\n",
        "x_val\n",
        "y_val\n",
        "x_test\n",
        "y_test"
      ]
    },
    {
      "cell_type": "code",
      "execution_count": 73,
      "metadata": {
        "id": "ZI7WaN5QHN8W",
        "outputId": "f87c43e4-1c40-4c4a-af62-bf0a8a0af47e",
        "colab": {
          "base_uri": "https://localhost:8080/"
        }
      },
      "outputs": [
        {
          "output_type": "execute_result",
          "data": {
            "text/plain": [
              "tensor(False, device='cuda:0')"
            ]
          },
          "metadata": {},
          "execution_count": 73
        },
        {
          "output_type": "execute_result",
          "data": {
            "text/plain": [
              "tensor(False, device='cuda:0')"
            ]
          },
          "metadata": {},
          "execution_count": 73
        },
        {
          "output_type": "execute_result",
          "data": {
            "text/plain": [
              "tensor(False, device='cuda:0')"
            ]
          },
          "metadata": {},
          "execution_count": 73
        },
        {
          "output_type": "execute_result",
          "data": {
            "text/plain": [
              "tensor(False, device='cuda:0')"
            ]
          },
          "metadata": {},
          "execution_count": 73
        },
        {
          "output_type": "execute_result",
          "data": {
            "text/plain": [
              "tensor(False, device='cuda:0')"
            ]
          },
          "metadata": {},
          "execution_count": 73
        },
        {
          "output_type": "execute_result",
          "data": {
            "text/plain": [
              "tensor(False, device='cuda:0')"
            ]
          },
          "metadata": {},
          "execution_count": 73
        }
      ],
      "source": [
        "torch.isnan(x_train).any()\n",
        "torch.isnan(x_val).any()\n",
        "torch.isnan(x_test).any()\n",
        "torch.isnan(y_train).any()\n",
        "torch.isnan(y_val).any()\n",
        "torch.isnan(y_test).any()"
      ]
    },
    {
      "cell_type": "code",
      "execution_count": 74,
      "metadata": {
        "id": "Jjfg7-B2HN8X",
        "outputId": "bea2fcb7-6b0a-46b3-a9dc-14744c9ec1f7",
        "colab": {
          "base_uri": "https://localhost:8080/"
        }
      },
      "outputs": [
        {
          "output_type": "execute_result",
          "data": {
            "text/plain": [
              "(tensor([], device='cuda:0', dtype=torch.int64),\n",
              " tensor([], device='cuda:0', dtype=torch.int64))"
            ]
          },
          "metadata": {},
          "execution_count": 74
        },
        {
          "output_type": "execute_result",
          "data": {
            "text/plain": [
              "(tensor([], device='cuda:0', dtype=torch.int64),\n",
              " tensor([], device='cuda:0', dtype=torch.int64))"
            ]
          },
          "metadata": {},
          "execution_count": 74
        },
        {
          "output_type": "execute_result",
          "data": {
            "text/plain": [
              "(tensor([], device='cuda:0', dtype=torch.int64),\n",
              " tensor([], device='cuda:0', dtype=torch.int64))"
            ]
          },
          "metadata": {},
          "execution_count": 74
        }
      ],
      "source": [
        "nan_mask_train = torch.isnan(x_train)     # get a boolean mask indicating NaN values\n",
        "nan_indices_train = torch.where(nan_mask_train)  # get the indices of the NaN values\n",
        "nan_indices_train\n",
        "# len(nan_indices_train)\n",
        "\n",
        "nan_mask_val = torch.isnan(x_val)     # get a boolean mask indicating NaN values\n",
        "nan_indices_val = torch.where(nan_mask_val)  # get the indices of the NaN values\n",
        "nan_indices_val\n",
        "# len(nan_indices_test)\n",
        "\n",
        "nan_mask_test = torch.isnan(x_test)     # get a boolean mask indicating NaN values\n",
        "nan_indices_test = torch.where(nan_mask_test)  # get the indices of the NaN values\n",
        "nan_indices_test\n",
        "# len(nan_indices_test)"
      ]
    },
    {
      "cell_type": "markdown",
      "metadata": {
        "id": "GxETvrHUHN8X"
      },
      "source": [
        "## Visualizing the data"
      ]
    },
    {
      "cell_type": "markdown",
      "metadata": {
        "id": "T1kQ47grHN8X"
      },
      "source": [
        "### Visualizing sampled data"
      ]
    },
    {
      "cell_type": "code",
      "execution_count": 75,
      "metadata": {
        "id": "HJ0MZQPRHN8X",
        "outputId": "477a912a-81b4-4838-81e6-4268bd3e05d3",
        "colab": {
          "base_uri": "https://localhost:8080/"
        }
      },
      "outputs": [
        {
          "output_type": "stream",
          "name": "stdout",
          "text": [
            "skipping\n"
          ]
        }
      ],
      "source": [
        "%%script echo skipping\n",
        "\n",
        "if not LOAD_DATA_FROM_CSV:\n",
        "    rho\n",
        "    epsilon\n",
        "    vx\n",
        "    vy\n",
        "    vz \n",
        "    Bx\n",
        "    By\n",
        "    Bz\n",
        "    gxx\n",
        "    gxy\n",
        "    gxz\n",
        "    gyy\n",
        "    gyz\n",
        "    gzz "
      ]
    },
    {
      "cell_type": "code",
      "execution_count": 76,
      "metadata": {
        "id": "MlK_HeRcHN8Y"
      },
      "outputs": [],
      "source": [
        "if not LOAD_DATA_FROM_CSV:\n",
        "    print(len(rho))\n",
        "    print(len(epsilon))\n",
        "    print(len(vx))\n",
        "    print(len(vy))\n",
        "    print(len(vz))\n",
        "    print(len(Bx))\n",
        "    print(len(By))\n",
        "    print(len(Bz))\n",
        "    print()\n",
        "    print(len(gxx))\n",
        "    print(len(gxy))\n",
        "    print(len(gxz))\n",
        "    print(len(gyy))\n",
        "    print(len(gyz))\n",
        "    print(len(gzz))"
      ]
    },
    {
      "cell_type": "code",
      "execution_count": 77,
      "metadata": {
        "id": "VMp6XJ6RUZh4"
      },
      "outputs": [],
      "source": [
        "%config InteractiveShell.ast_node_interactivity = \"last_expr_or_assign\""
      ]
    },
    {
      "cell_type": "code",
      "execution_count": 78,
      "metadata": {
        "id": "pOPQGuX2HN8Y",
        "outputId": "eb225647-e06d-4c2a-9776-ff72bb8e01db",
        "colab": {
          "base_uri": "https://localhost:8080/"
        }
      },
      "outputs": [
        {
          "output_type": "stream",
          "name": "stdout",
          "text": [
            "skipping\n"
          ]
        }
      ],
      "source": [
        "%%script echo skipping\n",
        "\n",
        "plt.hist([np.random.uniform(0, 0.999) for _ in range(n_train_samples)], bins=20)"
      ]
    },
    {
      "cell_type": "code",
      "execution_count": 79,
      "metadata": {
        "id": "TpU9cmd1HN8Y"
      },
      "outputs": [],
      "source": [
        "epsilon"
      ]
    },
    {
      "cell_type": "markdown",
      "metadata": {
        "id": "3_kvF7X3HN8Y"
      },
      "source": [
        "The reason the sampling is not uniformly distributed in the following plots is due to the resampling and the fact that we certain values of e.g. velocity are more likely to violate the speed of light constraint than others."
      ]
    },
    {
      "cell_type": "code",
      "execution_count": 80,
      "metadata": {
        "id": "E5YFdqKjUZh5"
      },
      "outputs": [],
      "source": [
        "if not LOAD_DATA_FROM_CSV:\n",
        "    def plot_histogram(data, xlabel, ylabel, position, bins=20, xlog_scale=False, ylog_scale=False):\n",
        "        plt.subplot(4, 5, position)\n",
        "        plt.hist(data, bins=bins)\n",
        "        plt.xlabel(xlabel)\n",
        "        plt.ylabel(ylabel)\n",
        "        if xlog_scale: # Setting does not work expected for epsilon.\n",
        "            plt.xscale(\"log\")\n",
        "        if ylog_scale: # Setting does not work expected for epsilon.\n",
        "            plt.yscale(\"log\")\n",
        "\n",
        "    # Plotting the histograms of rho, vx, epsilon, b0, b1, b2, and b3\n",
        "    bins = 20\n",
        "    plt.figure(figsize=(20, 16))\n",
        "\n",
        "    plot_histogram(rho, \"rho\", \"Frequency\", 1, bins=bins)\n",
        "    plot_histogram(epsilon, \"epsilon\", \"Frequency\", 2, bins=bins)\n",
        "    plot_histogram(vx, \"vx\", \"Frequency\", 3, bins=bins)\n",
        "    plot_histogram(vy, \"vy\", \"Frequency\", 4, bins=bins)\n",
        "    plot_histogram(vz, \"vz\", \"Frequency\", 5, bins=bins)\n",
        "    plot_histogram(Bx, \"Bx\", \"Frequency\", 6, bins=bins)\n",
        "    plot_histogram(By, \"By\", \"Frequency\", 7, bins=bins)\n",
        "    plot_histogram(Bz, \"Bz\", \"Frequency\", 8, bins=bins)\n",
        "\n",
        "    # Plot these\n",
        "    plot_histogram(gxx, \"gxx\", \"Frequency\", 9, bins=bins)\n",
        "    plot_histogram(gxy, \"gxy\", \"Frequency\", 10, bins=bins)\n",
        "    plot_histogram(gxz, \"gxz\", \"Frequency\", 11, bins=bins)\n",
        "    plot_histogram(gyy, \"gyy\", \"Frequency\", 12, bins=bins)\n",
        "    plot_histogram(gyz, \"gyz\", \"Frequency\", 13, bins=bins)\n",
        "    plot_histogram(gzz, \"gzz\", \"Frequency\", 14, bins=bins)\n",
        "\n",
        "\n",
        "    plt.suptitle(\"Primitive variables and metric\")\n",
        "    plt.tight_layout()\n",
        "    plt.show()\n"
      ]
    },
    {
      "cell_type": "code",
      "execution_count": 81,
      "metadata": {
        "id": "dTcNcyMgHN8Z"
      },
      "outputs": [],
      "source": [
        "%config InteractiveShell.ast_node_interactivity = \"last_expr_or_assign\""
      ]
    },
    {
      "cell_type": "code",
      "execution_count": 82,
      "metadata": {
        "id": "4iqKHAHZHN8Z",
        "outputId": "6eee4661-d72c-4e45-d717-cacded545a76",
        "colab": {
          "base_uri": "https://localhost:8080/",
          "height": 1000
        }
      },
      "outputs": [
        {
          "output_type": "display_data",
          "data": {
            "text/plain": [
              "<Figure size 1600x1600 with 14 Axes>"
            ],
            "image/png": "[encoded data removed]"
          },
          "metadata": {}
        }
      ],
      "source": [
        "# Variable names\n",
        "variable_names = [\"D\", \"Sx\", \"Sy\", \"Sz\", \"tau\", \"Bconsx\", \"Bconsy\", \"Bconsz\", \"gxx\", \"gxy\", \"gxz\", \"gyy\", \"gyz\", \"gzz\"]\n",
        "\n",
        "# Plotting histograms of the input variables before z-score normalization\n",
        "plt.figure(figsize=(16, 16))\n",
        "plt.suptitle('Histograms of input variables before (or without at all) z-score normalization', y=1.03)\n",
        "\n",
        "for i in range(N_INPUTS):\n",
        "    plt.subplot(7, 2, i+1)\n",
        "    data = x_train[:, i].cpu().numpy() # Convert tensor to numpy array for percentile calculation\n",
        "    lower_bound, upper_bound = np.percentile(data, [1, 100]) # NOTE: Use this instead to visualize all the data.\n",
        "    # lower_bound, upper_bound = np.percentile(data, [1, 90]) # Calculate 1st and 99th percentile\n",
        "\n",
        "    plt.hist(data, bins=50, range=(lower_bound, upper_bound)) # Set range to the calculated percentile range\n",
        "    plt.xlabel(variable_names[i])\n",
        "    plt.xlim(lower_bound, upper_bound) # Set the x limit to match the range of the histogram\n",
        "\n",
        "plt.subplots_adjust(hspace=0.4, wspace=0.4)\n",
        "plt.show()\n",
        "\n",
        "# Same plotting but for the test data. Adjust the percentile range as needed to zoom in.\n",
        "# plt.figure(figsize=(16, 16))\n",
        "# plt.suptitle('Histograms of input variables before (or without at all) z-score normalization (test data)', y=1.03)\n",
        "\n",
        "# for i in range(14):\n",
        "#     plt.subplot(7, 2, i+1)\n",
        "#     data = x_test[:, i].cpu().numpy() # Convert tensor to numpy array for percentile calculation\n",
        "#     #lower_bound, upper_bound = np.percentile(data, [1, 100]) # NOTE: Use this instead to visualize all the data.\n",
        "#     lower_bound, upper_bound = np.percentile(data, [1, 99]) # Use this to zoom in.\n",
        "\n",
        "#     plt.hist(data, bins=50, range=(lower_bound, upper_bound)) # Set range to the calculated percentile range\n",
        "#     plt.xlabel(variable_names[i])\n",
        "#     plt.xlim(lower_bound, upper_bound) # Set the x limit to match the range of the histogram\n",
        "\n",
        "# plt.subplots_adjust(hspace=0.4, wspace=0.4)\n",
        "# plt.show()\n",
        "\n"
      ]
    },
    {
      "cell_type": "markdown",
      "metadata": {
        "id": "hP3uW6rHHN8Z"
      },
      "source": [
        "### Data normalization"
      ]
    },
    {
      "cell_type": "code",
      "execution_count": 83,
      "metadata": {
        "id": "wpnS-VjRHN8a",
        "outputId": "cfd017cd-ec7a-4a34-e1eb-322954bcdb17",
        "colab": {
          "base_uri": "https://localhost:8080/"
        }
      },
      "outputs": [
        {
          "output_type": "stream",
          "name": "stdout",
          "text": [
            "Summary statistics of input variables before z-score normalization\n",
            "tensor([[ 2.4537e-05,  2.1732e+02,  2.2565e+00,  1.6685e+00,  3.4293e+00],\n",
            "        [-9.8358e+01,  3.7428e+07,  2.0078e+03,  4.7737e+01,  1.4343e+05],\n",
            "        [-9.5032e+01,  3.2224e+07,  2.1089e+03,  4.7283e+01,  1.2587e+05],\n",
            "        [-1.5474e+02,  1.9598e+07,  1.8374e+03,  4.6971e+01,  7.9502e+04],\n",
            "        [ 5.4881e-01,  5.1651e+07,  3.7379e+03,  1.1162e+02,  2.0090e+05],\n",
            "        [-1.1279e+01,  1.1142e+01,  1.8498e-02,  4.6037e-02,  5.7354e+00],\n",
            "        [-1.1275e+01,  1.1179e+01,  9.5902e-03, -1.2960e-02,  5.7351e+00],\n",
            "        [-1.1221e+01,  1.1241e+01, -1.6503e-02, -3.4062e-02,  5.7292e+00],\n",
            "        [ 9.0001e-01,  1.1000e+00,  9.9850e-01,  9.9780e-01,  5.7786e-02],\n",
            "        [ 1.3228e-06,  1.0000e-01,  4.9714e-02,  4.9599e-02,  2.8893e-02],\n",
            "        [ 8.2247e-07,  9.9994e-02,  4.9587e-02,  4.9286e-02,  2.8837e-02],\n",
            "        [ 9.0000e-01,  1.1000e+00,  9.9873e-01,  9.9836e-01,  5.7683e-02],\n",
            "        [ 2.0861e-06,  9.9996e-02,  4.9501e-02,  4.9107e-02,  2.8802e-02],\n",
            "        [ 9.0000e-01,  1.1000e+00,  9.9873e-01,  9.9831e-01,  5.7665e-02]],\n",
            "       device='cuda:0')\n"
          ]
        }
      ],
      "source": [
        "# Computing summary statistics of the input variables before and after z-score normalization\n",
        "print('Summary statistics of input variables before z-score normalization')\n",
        "print(torch.stack([torch.min(x_train, dim=0).values, torch.max(x_train, dim=0).values, torch.nanmean(x_train, dim=0), torch.median(x_train, dim=0).values, torch.std(x_train, dim=0)], dim=1))"
      ]
    },
    {
      "cell_type": "markdown",
      "metadata": {
        "id": "xTEmkR1SUZh7"
      },
      "source": [
        "Perform z-score normalization"
      ]
    },
    {
      "cell_type": "code",
      "execution_count": 84,
      "metadata": {
        "id": "ZEV1kpBBHN8a"
      },
      "outputs": [],
      "source": [
        "%config InteractiveShell.ast_node_interactivity = \"all\""
      ]
    },
    {
      "cell_type": "code",
      "execution_count": 85,
      "metadata": {
        "id": "yPOv6DxhUZh7"
      },
      "outputs": [],
      "source": [
        "if ZSCORE_NORMALIZATION:\n",
        "    \n",
        "    # TODO: Add magnetic field variables to the normalization if I decide to use the old code that is commented out here.\n",
        "    # # Computing the median of each input variable from the training set using torch.nanmedian function\n",
        "    # D_median = torch.nanmedian(x_train[:, 0])\n",
        "    # Sx_median = torch.nanmedian(x_train[:, 1])\n",
        "    # Sy_median = torch.nanmedian(x_train[:, 2])\n",
        "    # Sz_median = torch.nanmedian(x_train[:, 3])\n",
        "    # tau_median = torch.nanmedian(x_train[:, 4])\n",
        "\n",
        "    # # Computing the standard deviation of each input variable from the training set using torch.std function with a boolean mask to ignore nan values\n",
        "    # D_std = torch.std(x_train[~torch.isnan(x_train[:, 0]), 0])\n",
        "    # Sx_std = torch.std(x_train[~torch.isnan(x_train[:, 1]), 1])\n",
        "    # Sy_std = torch.std(x_train[~torch.isnan(x_train[:, 2]), 2])\n",
        "    # Sz_std = torch.std(x_train[~torch.isnan(x_train[:, 3]), 3])\n",
        "    # tau_std = torch.std(x_train[~torch.isnan(x_train[:, 4]), 4])\n",
        "\n",
        "\n",
        "    # # Applying z-score normalization to both train and test sets using the statistics from the training set\n",
        "    # x_train[:, 0] = torch.sub(x_train[:, 0], D_median).div(D_std)\n",
        "    # x_train[:, 1] = torch.sub(x_train[:, 1], Sx_median).div(Sx_std)\n",
        "    # x_train[:, 2] = torch.sub(x_train[:, 2], Sy_median).div(Sy_std)\n",
        "    # x_train[:, 3] = torch.sub(x_train[:, 3], Sz_median).div(Sz_std)\n",
        "    # x_train[:, 4] = torch.sub(x_train[:, 4], tau_median).div(tau_std)\n",
        "\n",
        "    # x_test[:, 0] = torch.sub(x_test[:, 0], D_median).div(D_std)\n",
        "    # x_test[:, 1] = torch.sub(x_test[:, 1], Sx_median).div(Sx_std)\n",
        "    # x_test[:, 2] = torch.sub(x_test[:, 2], Sy_median).div(Sy_std)\n",
        "    # x_test[:, 3] = torch.sub(x_test[:, 3], Sz_median).div(Sz_std)\n",
        "    # x_test[:, 4] = torch.sub(x_test[:, 4], tau_median).div(tau_std)\n",
        "\n",
        "    # Computing the mean and standard deviation of each column\n",
        "    mean = x_train.mean(dim=0)\n",
        "    std = x_train.std(dim=0)\n",
        "\n",
        "    # Applying z-score normalization\n",
        "    x_train = (x_train - mean) / std\n",
        "    # Use the same mean and std from the training data as we don't want test data leakage.\n",
        "    x_test = (x_test - mean) / std\n",
        "\n"
      ]
    },
    {
      "cell_type": "markdown",
      "metadata": {
        "id": "IG4u2FBzHN8a"
      },
      "source": [
        "Plotting the histograms of the input data after normalization if z-score normalization was performed."
      ]
    },
    {
      "cell_type": "code",
      "execution_count": 86,
      "metadata": {
        "id": "-mdz5bsWHN8b"
      },
      "outputs": [],
      "source": [
        "%config InteractiveShell.ast_node_interactivity = \"last_expr_or_assign\""
      ]
    },
    {
      "cell_type": "code",
      "execution_count": 87,
      "metadata": {
        "id": "Omnvq_J5HN8b"
      },
      "outputs": [],
      "source": [
        "if not LOAD_DATA_FROM_CSV:\n",
        "    if ZSCORE_NORMALIZATION:\n",
        "        # Variable names\n",
        "        variable_names = [\"D\", \"Sx\", \"Sy\", \"Sz\", \"tau\", \"Bconsx\", \"Bconsy\", \"Bconsz\", \"gxx\", \"gxy\", \"gxz\", \"gyy\", \"gyz\", \"gzz\"]\n",
        "\n",
        "        # Plotting histograms of the input variables before z-score normalization\n",
        "        plt.figure(figsize=(16, 16))\n",
        "        plt.suptitle('Histograms of input variables before (or without at all) z-score normalization', y=1.03)\n",
        "\n",
        "        for i in range(N_INPUTS):\n",
        "            plt.subplot(7, 2, i+1)\n",
        "            data = x_train[:, i].cpu().numpy() # Convert tensor to numpy array for percentile calculation\n",
        "            lower_bound, upper_bound = np.percentile(data, [1, 100]) # NOTE: Use this instead to visualize all the data.\n",
        "            # lower_bound, upper_bound = np.percentile(data, [1, 90]) # Calculate 1st and 99th percentile\n",
        "\n",
        "            plt.hist(data, bins=50, range=(lower_bound, upper_bound)) # Set range to the calculated percentile range\n",
        "            plt.xlabel(variable_names[i])\n",
        "            plt.xlim(lower_bound, upper_bound) # Set the x limit to match the range of the histogram\n",
        "\n",
        "        plt.subplots_adjust(hspace=0.4, wspace=0.4)\n",
        "        plt.show()"
      ]
    },
    {
      "cell_type": "code",
      "execution_count": 88,
      "metadata": {
        "id": "7C4eW98QHN8c"
      },
      "outputs": [],
      "source": [
        "if ZSCORE_NORMALIZATION:\n",
        "    # Computing summary statistics of the input variables after z-score normalization\n",
        "    print('Summary statistics of input variables after z-score normalization')\n",
        "    print(torch.stack([torch.min(x_train, dim=0).values, torch.max(x_train, dim=0).values, torch.mean(x_train, dim=0), torch.median(x_train, dim=0).values, torch.std(x_train, dim=0)], dim=1))\n"
      ]
    },
    {
      "cell_type": "markdown",
      "metadata": {
        "id": "EMCLRA9bHN8c"
      },
      "source": [
        "### Visualizing input data and labels"
      ]
    },
    {
      "cell_type": "code",
      "execution_count": 89,
      "metadata": {
        "id": "SYHYz9NNHN8c",
        "outputId": "30400da7-47f0-4b50-aacc-0d044b4bf979",
        "colab": {
          "base_uri": "https://localhost:8080/"
        }
      },
      "outputs": [
        {
          "output_type": "execute_result",
          "data": {
            "text/plain": [
              "tensor([1.0729e+01, 1.4852e+03, 5.6100e+01,  ..., 1.1048e+00, 2.6302e+00,\n",
              "        7.7592e+00], device='cuda:0')"
            ]
          },
          "metadata": {},
          "execution_count": 89
        }
      ],
      "source": [
        "x_train\n",
        "y_train\n",
        "x_val\n",
        "y_val\n",
        "x_test\n",
        "y_test"
      ]
    },
    {
      "cell_type": "markdown",
      "metadata": {
        "id": "E96p_MsOUZh9",
        "outputId": "4b95bad0-8f3a-4364-eed1-008e0ce2a5e3"
      },
      "source": [
        "Checking if our output is always positive ~~by plotting a histogram of y_train and y_test tensors~~"
      ]
    },
    {
      "cell_type": "code",
      "execution_count": 90,
      "metadata": {
        "id": "-6XbKoDGHN8c",
        "outputId": "7eba9831-14f5-4fe9-b3f1-15506a7642a7",
        "colab": {
          "base_uri": "https://localhost:8080/"
        }
      },
      "outputs": [
        {
          "output_type": "stream",
          "name": "stdout",
          "text": [
            "tensor(True)\n"
          ]
        }
      ],
      "source": [
        "import torch\n",
        "\n",
        "# Create a sample tensor\n",
        "tensor = torch.randn(80000, 14)  # Assuming a tensor of shape [80000, 14]\n",
        "tensor\n",
        "\n",
        "\n",
        "# Check if any element is negative\n",
        "any_negative = torch.any(tensor < 0)\n",
        "\n",
        "# Print the result\n",
        "print(any_negative)\n"
      ]
    },
    {
      "cell_type": "code",
      "execution_count": 91,
      "metadata": {
        "id": "pbFS4QGZHN8d",
        "outputId": "358cae6f-b839-4acd-b432-bc74ab45f96b",
        "colab": {
          "base_uri": "https://localhost:8080/"
        }
      },
      "outputs": [
        {
          "output_type": "execute_result",
          "data": {
            "text/plain": [
              "tensor(True, device='cuda:0')"
            ]
          },
          "metadata": {},
          "execution_count": 91
        }
      ],
      "source": [
        "y_train.shape\n",
        "any_negative = torch.any(y_train < 0)\n",
        "any_negative\n",
        "\n",
        "y_test.shape\n",
        "any_negative = torch.any(y_test < 0)\n",
        "any_negative\n",
        "\n",
        "x_train.shape\n",
        "any_negative = torch.any(x_train < 0)\n",
        "any_negative"
      ]
    },
    {
      "cell_type": "code",
      "execution_count": 92,
      "metadata": {
        "id": "67xnLt38HN8d",
        "outputId": "e7eb69b2-c77a-4eee-b1f0-46993499f63e",
        "colab": {
          "base_uri": "https://localhost:8080/",
          "height": 407
        }
      },
      "outputs": [
        {
          "output_type": "display_data",
          "data": {
            "text/plain": [
              "<Figure size 800x400 with 3 Axes>"
            ],
            "image/png": "[encoded data removed]"
          },
          "metadata": {}
        }
      ],
      "source": [
        "plt.figure(figsize=(8, 4))\n",
        "plt.subplot(1, 3, 1)\n",
        "plt.hist(y_train.cpu().numpy(), bins=20) # must be cpu here.\n",
        "plt.xlabel(\"y_train\")\n",
        "plt.ylabel(\"Frequency\")\n",
        "plt.xscale(\"log\")\n",
        "plt.subplot(1, 3, 2)\n",
        "plt.hist(y_val.cpu().numpy(), bins=20) # must be cpu here\n",
        "plt.xlabel(\"y_val\")\n",
        "plt.ylabel(\"Frequency\")\n",
        "plt.xscale(\"log\")\n",
        "plt.tight_layout()\n",
        "plt.subplot(1, 3, 3)\n",
        "plt.hist(y_test.cpu().numpy(), bins=20) # must be cpu here\n",
        "plt.xlabel(\"y_test\")\n",
        "plt.ylabel(\"Frequency\")\n",
        "plt.xscale(\"log\")\n",
        "plt.tight_layout()\n",
        "plt.show()\n"
      ]
    },
    {
      "cell_type": "code",
      "execution_count": 93,
      "metadata": {
        "id": "FEgjk--AUZh9"
      },
      "outputs": [],
      "source": [
        "%config InteractiveShell.ast_node_interactivity = \"all\""
      ]
    },
    {
      "cell_type": "markdown",
      "metadata": {
        "id": "r2b9GecHUZh9"
      },
      "source": [
        "## Defining the neural network"
      ]
    },
    {
      "cell_type": "code",
      "execution_count": 94,
      "metadata": {
        "id": "Iv8HA-ZXUZh-"
      },
      "outputs": [],
      "source": [
        "# Defining a class for the network\n",
        "class Net(nn.Module):\n",
        "    \"\"\"A class for creating a network with a\n",
        "    variable number of hidden layers and units.\n",
        "\n",
        "    Attributes:\n",
        "        n_layers (int): The number of hidden layers in the network.\n",
        "        n_units (list): A list of integers representing the number of units in each hidden layer.\n",
        "        hidden_activation (torch.nn.Module): The activation function for the hidden layers.\n",
        "        output_activation (torch.nn.Module): The activation function for the output layer.\n",
        "        layers (torch.nn.ModuleList): A list of linear layers in the network.\n",
        "    \"\"\"\n",
        "\n",
        "    def __init__(self, n_layers, n_units, hidden_activation, output_activation):\n",
        "        \"\"\"Initializes the network with the given hyperparameters.\n",
        "\n",
        "        Args:\n",
        "            n_layers (int): The number of hidden layers in the network.\n",
        "            n_units (list): A list of integers representing the number of units in each hidden layer.\n",
        "            hidden_activation (torch.nn.Module): The activation function for the hidden layers.\n",
        "            output_activation (torch.nn.Module): The activation function for the output layer.\n",
        "        \"\"\"\n",
        "        super().__init__()\n",
        "        self.n_layers = n_layers\n",
        "        self.n_units = n_units\n",
        "        self.hidden_activation = hidden_activation\n",
        "        self.output_activation = output_activation\n",
        "\n",
        "        # Creating a list of linear layers with different numbers of units for each layer\n",
        "        self.layers = nn.ModuleList([nn.Linear(N_INPUTS, n_units[0])])\n",
        "        for i in range(1, n_layers):\n",
        "            self.layers.append(nn.Linear(n_units[i - 1], n_units[i]))\n",
        "        self.layers.append(nn.Linear(n_units[-1], 1))\n",
        "\n",
        "        # Adding some assertions to check that the input arguments are valid\n",
        "        assert isinstance(n_layers, int) and n_layers > 0, \"n_layers must be a positive integer\"\n",
        "        assert isinstance(n_units, list) and len(n_units) == n_layers, \"n_units must be a list of length n_layers\"\n",
        "        assert all(isinstance(n, int) and n > 0 for n in n_units), \"n_units must contain positive integers\"\n",
        "        assert isinstance(hidden_activation, nn.Module), \"hidden_activation must be a torch.nn.Module\"\n",
        "        assert isinstance(output_activation, nn.Module), \"output_activation must be a torch.nn.Module\"\n",
        "\n",
        "    def forward(self, x):\n",
        "        \"\"\"Performs a forward pass on the input tensor.\n",
        "\n",
        "        Args:\n",
        "            x (torch.Tensor): The input tensor of shape (batch_size, N_INPUTS).\n",
        "\n",
        "        Returns:\n",
        "            torch.Tensor: The output tensor of shape (batch_size, 1).\n",
        "        \"\"\"\n",
        "        # Adding an assertion to check that the input tensor has the expected shape and type\n",
        "        assert isinstance(x, torch.Tensor), \"x must be a torch.Tensor\"\n",
        "        assert x.shape[1] == N_INPUTS, f\"x must have shape (batch_size, {N_INPUTS})\"\n",
        "\n",
        "        # Looping over the hidden layers and applying the linear transformation and the activation function\n",
        "        for layer in self.layers[:-1]:\n",
        "            x = self.hidden_activation(layer(x))\n",
        "        # Applying the linear transformation and the activation function on the output layer\n",
        "        x = self.output_activation(self.layers[-1](x))\n",
        "\n",
        "        # Returning the output tensor\n",
        "        return x\n"
      ]
    },
    {
      "cell_type": "markdown",
      "metadata": {
        "id": "6GNvp55PUZh_"
      },
      "source": [
        "## Defining the model and search space"
      ]
    },
    {
      "cell_type": "code",
      "execution_count": 95,
      "metadata": {
        "id": "9a1opluOUZh_"
      },
      "outputs": [],
      "source": [
        "# Defining a function to create a trial network and optimizer\n",
        "def create_model(trial, optimize):\n",
        "    \"\"\"Creates a trial network and optimizer based on the sampled hyperparameters.\n",
        "\n",
        "    Args:\n",
        "        trial (optuna.trial.Trial): The trial object that contains the hyperparameters.\n",
        "        optimize (boolean): Whether to optimize the hyperparameters or to use predefined values.\n",
        "\n",
        "    Returns:\n",
        "        tuple: A tuple of (net, loss_fn, optimizer, batch_size, n_epochs,\n",
        "            scheduler, loss_name, optimizer_name, scheduler_name,\n",
        "            n_units, n_layers, hidden_activation, output_activation),\n",
        "            where net is the trial network,\n",
        "            loss_fn is the loss function,\n",
        "            optimizer is the optimizer,\n",
        "            batch_size is the batch size,\n",
        "            n_epochs is the number of epochs,\n",
        "            scheduler is the learning rate scheduler,\n",
        "            loss_name is the name of the loss function,\n",
        "            optimizer_name is the name of the optimizer,\n",
        "            scheduler_name is the name of the scheduler,\n",
        "            n_units is a list of integers representing\n",
        "            the number of units in each hidden layer,\n",
        "            n_layers is an integer representing the number of hidden layers in the network,\n",
        "            hidden_activation is a torch.nn.Module representing the activation function for the hidden layers,\n",
        "            output_activation is a torch.nn.Module representing the activation function for the output layer,\n",
        "            lr is the (initial) learning rate.\n",
        "    \"\"\"\n",
        "    # If optimize is True, sample the hyperparameters from the search space\n",
        "    if OPTIMIZE:\n",
        "        n_layers = trial.suggest_int(\"n_layers\", 2, 10)\n",
        "        n_units = [trial.suggest_int(f\"n_units_{i}\", 16, 4096) for i in range(n_layers)]\n",
        "\n",
        "        hidden_activation_name = trial.suggest_categorical(\n",
        "            \"hidden_activation\", [\"ReLU\", \"LeakyReLU\", \"ELU\"]\n",
        "        )\n",
        "        output_activation_name = trial.suggest_categorical( \"output_activation\", [\"Linear\"])\n",
        "\n",
        "        loss_name = trial.suggest_categorical( \"loss\", [\"MSE\", \"MAE\", \"Huber\", \"Quantile\"])  # Added Quantile loss\n",
        "\n",
        "        optimizer_name = trial.suggest_categorical( \"optimizer\", [\"Adam\", \"SGD\", \"RMSprop\", \"Adagrad\"] )\n",
        "\n",
        "        lr = trial.suggest_loguniform(\"lr\", 1e-6, 1)\n",
        "\n",
        "        batch_size_list = [32, 64, 128, 256, 512, 1024, 2048]\n",
        "        batch_size = trial.suggest_categorical(\"batch_size\", batch_size_list)\n",
        "        \n",
        "        n_epochs = trial.suggest_int(\"n_epochs\", 50, 150)\n",
        "\n",
        "        scheduler_name = trial.suggest_categorical(\"scheduler\", [\"CosineAnnealingLR\", \"ReduceLROnPlateau\", \"StepLR\", \"CyclicLR\"])  # Added CyclicLR\n",
        "\n",
        "    # If optimize is False, use the predefined values\n",
        "    else:\n",
        "        # Setting the hyperparameters to the predefined values\n",
        "        n_layers = N_LAYERS_NO_OPT\n",
        "        n_units = N_UNITS_NO_OPT\n",
        "        hidden_activation_name = HIDDEN_ACTIVATION_NAME_NO_OPT\n",
        "        output_activation_name = OUTPUT_ACTIVATION_NAME_NO_OPT\n",
        "        loss_name = LOSS_NAME_NO_OPT\n",
        "        optimizer_name = OPTIMIZER_NAME_NO_OPT\n",
        "        lr = LR_NO_OPT\n",
        "        batch_size = BATCH_SIZE_NO_OPT\n",
        "        n_epochs = N_EPOCHS_NO_OPT\n",
        "        scheduler_name = SCHEDULER_NAME_NO_OPT\n",
        "\n",
        "    # Creating the activation functions from their names\n",
        "    if hidden_activation_name == \"ReLU\":\n",
        "        hidden_activation = nn.ReLU()\n",
        "    elif hidden_activation_name == \"LeakyReLU\":\n",
        "        hidden_activation = nn.LeakyReLU() \n",
        "    elif hidden_activation_name == \"ELU\":\n",
        "        hidden_activation = nn.ELU() \n",
        "    elif hidden_activation_name == \"Tanh\":\n",
        "        hidden_activation = nn.Tanh()\n",
        "    elif hidden_activation_name == \"Sigmoid\":\n",
        "        hidden_activation = nn.Sigmoid()\n",
        "\n",
        "    # We used to have options here, but since we have a regression problem with continuous output, we only use Linear.\n",
        "    output_activation = nn.Identity()\n",
        "\n",
        "    # Creating the loss function from its name\n",
        "    if loss_name == \"MSE\":\n",
        "        loss_fn = nn.MSELoss()\n",
        "    elif loss_name == \"MAE\":\n",
        "        loss_fn = nn.L1Loss()\n",
        "    elif loss_name == \"Huber\":\n",
        "        loss_fn = nn.SmoothL1Loss() \n",
        "    elif loss_name == \"Quantile\":  # Added Quantile loss\n",
        "        def quantile_loss(y_pred, y_true, q=0.5):\n",
        "            e = y_pred - y_true\n",
        "            return torch.mean(torch.max(q*e, (q-1)*e))\n",
        "        loss_fn = quantile_loss\n",
        "    else:\n",
        "        def log_cosh_loss(y_pred, y_true):\n",
        "            return torch.mean(torch.log(torch.cosh(y_pred - y_true)))\n",
        "        loss_fn = log_cosh_loss\n",
        "\n",
        "    # Creating the network with the sampled hyperparameters\n",
        "    net = Net(n_layers, n_units, hidden_activation, output_activation).to(device)\n",
        "\n",
        "    if OPTIMIZE:\n",
        "        # Creating the optimizer from its name\n",
        "        if optimizer_name == \"SGD\":\n",
        "            weight_decay = trial.suggest_loguniform(\"weight_decay\", 1e-5, 1e-2)\n",
        "            momentum = trial.suggest_uniform(\"momentum\", 0.0, 0.99)\n",
        "            optimizer = optim.SGD(net.parameters(), lr=lr, weight_decay=weight_decay, momentum=momentum)\n",
        "        elif optimizer_name == \"Adam\":\n",
        "            weight_decay = trial.suggest_loguniform(\"weight_decay\", 1e-5, 1e-2)\n",
        "            beta1 = trial.suggest_uniform(\"beta1\", 0.9, 0.999)\n",
        "            beta2 = trial.suggest_uniform(\"beta2\", 0.999, 0.9999)\n",
        "            optimizer = optim.Adam(net.parameters(), lr=lr, weight_decay=weight_decay, betas=(beta1, beta2))\n",
        "        elif optimizer_name == \"RMSprop\":\n",
        "            optimizer = optim.RMSprop(net.parameters(), lr=lr)\n",
        "        else:\n",
        "            optimizer = optim.Adagrad(net.parameters(), lr=lr)\n",
        "\n",
        "        # Creating the learning rate scheduler from its name\n",
        "        if scheduler_name == \"StepLR\":\n",
        "            step_size = trial.suggest_int(\"step_size\", 5, 15)\n",
        "            gamma = trial.suggest_uniform(\"gamma\", 0.1, 0.5)\n",
        "            scheduler = optim.lr_scheduler.StepLR(optimizer, step_size=step_size, gamma=gamma)\n",
        "        elif scheduler_name == \"ExponentialLR\":\n",
        "            gamma = trial.suggest_uniform(\"gamma\", 0.8, 0.99)\n",
        "            scheduler = optim.lr_scheduler.ExponentialLR(optimizer, gamma=gamma)\n",
        "        elif scheduler_name == \"CosineAnnealingLR\":\n",
        "            if n_epochs < 150:\n",
        "                t_max_fraction = trial.suggest_uniform('t_max_fraction', 0.1, 0.3)\n",
        "            elif n_epochs > 250:\n",
        "                t_max_fraction = trial.suggest_uniform('t_max_fraction', 0.05, 0.1)\n",
        "            else:\n",
        "                t_max_fraction = trial.suggest_uniform('t_max_fraction', 0.1, 0.2)\n",
        "\n",
        "            T_max = int(n_epochs * t_max_fraction)\n",
        "            eta_min = trial.suggest_loguniform(\"eta_min\", 1e-7, 1e-2)\n",
        "            scheduler = optim.lr_scheduler.CosineAnnealingLR(optimizer, T_max=T_max, eta_min=eta_min)\n",
        "        elif scheduler_name == \"ReduceLROnPlateau\":\n",
        "            factor = trial.suggest_uniform(\"factor\", 0.1, 0.5)\n",
        "            patience = trial.suggest_int(\"patience\", 5, 10)\n",
        "            threshold = trial.suggest_loguniform(\"threshold\", 1e-4, 1e-2)\n",
        "            scheduler = optim.lr_scheduler.ReduceLROnPlateau(\n",
        "                optimizer, mode=\"min\", factor=factor, patience=patience, threshold=threshold\n",
        "            )\n",
        "        elif scheduler_name == \"CyclicLR\":  # Added CyclicLR\n",
        "            base_lr = trial.suggest_loguniform(\"base_lr\", 1e-6, 1e-2)\n",
        "            max_lr = trial.suggest_loguniform(\"max_lr\", 1e-4, 1)\n",
        "            step_size_up = trial.suggest_int(\"step_size_up\", 200, 2000)\n",
        "            scheduler = optim.lr_scheduler.CyclicLR(optimizer, base_lr=base_lr, max_lr=max_lr, step_size_up=step_size_up)\n",
        "        else:\n",
        "            scheduler = None\n",
        "    else:\n",
        "        # Creating the optimizer from its name\n",
        "        if optimizer_name == \"SGD\":\n",
        "            optimizer = optim.SGD(net.parameters(), lr=lr)\n",
        "        elif optimizer_name == \"Adam\":\n",
        "            optimizer = optim.Adam(net.parameters(), lr=lr)\n",
        "        elif optimizer_name == \"RMSprop\":\n",
        "            optimizer = optim.RMSprop(net.parameters(), lr=lr)\n",
        "        else:\n",
        "            optimizer = optim.Adagrad(net.parameters(), lr=lr)\n",
        "\n",
        "        # Creating the learning rate scheduler from its name\n",
        "        if scheduler_name == \"StepLR\":\n",
        "            scheduler = optim.lr_scheduler.StepLR(optimizer, step_size=10, gamma=0.1)\n",
        "        elif scheduler_name == \"ExponentialLR\":\n",
        "            scheduler = optim.lr_scheduler.ExponentialLR(optimizer, gamma=0.9)\n",
        "        elif scheduler_name == \"CosineAnnealingLR\":\n",
        "            scheduler = optim.lr_scheduler.CosineAnnealingLR(optimizer)\n",
        "        elif scheduler_name == \"ReduceLROnPlateau\":\n",
        "            scheduler = optim.lr_scheduler.ReduceLROnPlateau(\n",
        "                        optimizer, mode=\"min\", factor=0.18979341786654758, patience=11, threshold=0.0017197466122611932 #, min_lr=1e-6\n",
        "                    )\n",
        "        elif scheduler_name == \"CyclicLR\":  # Added CyclicLR\n",
        "            # TODO: Change these appropriately.\n",
        "            base_lr = 1e-6\n",
        "            max_lr = 1e-4\n",
        "            step_size_up = 200\n",
        "            scheduler = optim.lr_scheduler.CyclicLR(optimizer, base_lr=base_lr, max_lr=max_lr, step_size_up=step_size_up)\n",
        "        else:\n",
        "            scheduler = None\n",
        "\n",
        "    # Returning all variables needed for saving and loading\n",
        "    return net, loss_fn, optimizer, batch_size, n_epochs, scheduler, loss_name, optimizer_name, scheduler_name, n_units, n_layers, hidden_activation, output_activation, lr\n",
        "\n"
      ]
    },
    {
      "cell_type": "markdown",
      "metadata": {
        "id": "l-czA7VvUZiD"
      },
      "source": [
        " ## The training and evaluation loop\n",
        "\n",
        " We first define a couple of functions used in the training and evaluation."
      ]
    },
    {
      "cell_type": "code",
      "execution_count": 96,
      "metadata": {
        "id": "aD6FQNmxUZiD"
      },
      "outputs": [],
      "source": [
        "# Defining a function that computes loss and metrics for a given batch\n",
        "def compute_loss_and_metrics(y_pred, y_true, loss_fn):\n",
        "    \"\"\"Computes loss and metrics for a given batch.\n",
        "\n",
        "    Args:\n",
        "        y_pred (torch.Tensor): The predicted pressure tensor of shape (batch_size, 1).\n",
        "        y_true (torch.Tensor): The true pressure tensor of shape (batch_size,).\n",
        "        loss_fn (torch.nn.Module or function): The loss function to use.\n",
        "\n",
        "    Returns:\n",
        "        tuple: A tuple of (loss, l1_norm), where loss is a scalar tensor,\n",
        "            l1_norm is L1 norm for relative error of pressure,\n",
        "            each being a scalar tensor.\n",
        "            linf_norm is Linf norm for relative error of pressure.\n",
        "    \"\"\"\n",
        "    # Reshaping the target tensor to match the input tensor\n",
        "    y_true = y_true.view(-1, 1)\n",
        "\n",
        "    # Computing the loss using the loss function\n",
        "    loss = loss_fn(y_pred, y_true)\n",
        "\n",
        "    # Computing the relative error of pressure\n",
        "    rel_error = torch.abs((y_pred - y_true) / y_true)\n",
        "\n",
        "    # Computing the L1 norm for the relative error of pressure\n",
        "    l1_norm = torch.mean(rel_error) \n",
        "    # Computing the Linf norm for the relative error of pressure\n",
        "    linf_norm = torch.max(rel_error) \n",
        "\n",
        "    # Returning the loss and metrics\n",
        "    return loss, l1_norm, linf_norm\n",
        "\n",
        "\n",
        "# Defining a function that updates the learning rate scheduler with validation loss if applicable\n",
        "def update_scheduler(scheduler, test_loss):\n",
        "    \"\"\"Updates the learning rate scheduler with validation loss if applicable.\n",
        "\n",
        "    Args:\n",
        "        scheduler (torch.optim.lr_scheduler._LRScheduler or None): The learning rate scheduler to use.\n",
        "        test_loss (float): The validation loss to use.\n",
        "\n",
        "    Returns:\n",
        "        None\n",
        "    \"\"\"\n",
        "    # Checking if scheduler is not None\n",
        "    if scheduler is not None:\n",
        "        # Checking if scheduler is ReduceLROnPlateau\n",
        "        if isinstance(scheduler, optim.lr_scheduler.ReduceLROnPlateau):\n",
        "            # Updating the scheduler with test_loss\n",
        "            scheduler.step(test_loss)\n",
        "        else:\n",
        "            # Updating the scheduler without test_loss\n",
        "            scheduler.step()\n"
      ]
    },
    {
      "cell_type": "markdown",
      "metadata": {
        "id": "w1nE662UUZiE"
      },
      "source": [
        "Now for the actual training and evaluation loop,"
      ]
    },
    {
      "cell_type": "code",
      "execution_count": 97,
      "metadata": {
        "id": "YAOjgKW3UZiF"
      },
      "outputs": [],
      "source": [
        "# Defining a function to train and evaluate a network\n",
        "def train_and_eval(net, loss_fn, optimizer, batch_size, n_epochs, scheduler, train_loader, val_loader, test_loader, trial=None):\n",
        "    # Initializing lists to store the losses and metrics for each epoch\n",
        "    train_losses = []\n",
        "    val_losses = []\n",
        "    test_losses = []\n",
        "    train_metrics = []\n",
        "    val_metrics = []\n",
        "    test_metrics = []\n",
        "\n",
        "\n",
        "    # Creating a SummaryWriter object to log data for tensorboard\n",
        "    writer = tbx.SummaryWriter()\n",
        "\n",
        "    # Looping over the epochs\n",
        "    for epoch in range(n_epochs):\n",
        "\n",
        "        # Setting the network to training mode\n",
        "        net.train()\n",
        "\n",
        "        # Initializing variables to store the total loss and metrics for the train set\n",
        "        train_loss = 0.0\n",
        "        train_l1_norm = 0.0\n",
        "        train_linf_norm = 0.0\n",
        "\n",
        "        # Looping over the batches in the train set\n",
        "        for x_batch, y_batch in train_loader:\n",
        "\n",
        "            # Moving the batch tensors to the device\n",
        "            x_batch = x_batch.to(device)\n",
        "            y_batch = y_batch.to(device)\n",
        "\n",
        "            # Zeroing the gradients\n",
        "            optimizer.zero_grad()\n",
        "\n",
        "            # Performing a forward pass and computing the loss and metrics\n",
        "            y_pred = net(x_batch)\n",
        "            loss, l1_norm, linf_norm = compute_loss_and_metrics(y_pred, y_batch, loss_fn)\n",
        "\n",
        "\n",
        "            # Performing a backward pass and updating the weights\n",
        "            loss.backward()\n",
        "            optimizer.step()\n",
        "\n",
        "            # Updating the total loss and metrics for the train set\n",
        "            train_loss += loss.item() * x_batch.size(0)\n",
        "            train_l1_norm += l1_norm.item() * x_batch.size(0)\n",
        "            train_linf_norm += linf_norm.item() * x_batch.size(0)\n",
        "\n",
        "        # Computing the average loss and metrics for the train set\n",
        "        train_loss /= len(train_loader.dataset)\n",
        "        train_l1_norm /= len(train_loader.dataset)\n",
        "        train_linf_norm /= len(train_loader.dataset)\n",
        "\n",
        "        # Appending the average loss and metrics for the train set to the lists\n",
        "        train_losses.append(train_loss)\n",
        "        train_metrics.append(\n",
        "            {\n",
        "                \"l1_norm\": train_l1_norm,\n",
        "                \"linf_norm\": train_linf_norm,\n",
        "            }\n",
        "        )\n",
        "\n",
        "        # Logging the average loss and metrics for the train set to tensorboard\n",
        "        writer.add_scalar(\"Loss/train\", train_loss, epoch)\n",
        "        writer.add_scalar(\"L1 norm/train\", train_l1_norm, epoch)\n",
        "        writer.add_scalar(\"Linf norm/train\", train_linf_norm, epoch)\n",
        "\n",
        "        if val_loader is not None:\n",
        "            net.eval()\n",
        "            val_loss = 0.0\n",
        "            val_l1_norm = 0.0\n",
        "            val_linf_norm = 0.0\n",
        "\n",
        "            with torch.no_grad():\n",
        "                for x_batch, y_batch in val_loader:\n",
        "                    x_batch = x_batch.to(device)\n",
        "                    y_batch = y_batch.to(device)\n",
        "                    y_pred = net(x_batch)\n",
        "                    loss, l1_norm, linf_norm = compute_loss_and_metrics(y_pred, y_batch, loss_fn)\n",
        "\n",
        "                    val_loss += loss.item() * x_batch.size(0)\n",
        "                    val_l1_norm += l1_norm.item() * x_batch.size(0)\n",
        "                    val_linf_norm += linf_norm.item() * x_batch.size(0)\n",
        "\n",
        "            val_loss /= len(val_loader.dataset)\n",
        "            val_l1_norm /= len(val_loader.dataset)\n",
        "            val_linf_norm /= len(val_loader.dataset)\n",
        "\n",
        "            val_losses.append(val_loss)\n",
        "            val_metrics.append(\n",
        "                {\n",
        "                    \"l1_norm\": val_l1_norm,\n",
        "                    \"linf_norm\": val_linf_norm,\n",
        "                }\n",
        "            )\n",
        "\n",
        "            writer.add_scalar(\"Loss/val\", val_loss, epoch)\n",
        "            writer.add_scalar(\"L1 norm/val\", val_l1_norm, epoch)\n",
        "            writer.add_scalar(\"Linf norm/val\", val_linf_norm, epoch)\n",
        "            print(f\"Epoch {epoch+1}/{n_epochs}.. Train loss: {train_loss:.3f}.. Val loss: {val_loss:.3f}.. Train L1 norm: {train_l1_norm:.3f}.. Val L1 norm: {val_l1_norm:.3f}.. Train Linf norm: {train_linf_norm:.3f}.. Val Linf norm: {val_linf_norm:.3f}\")\n",
        "\n",
        "\n",
        "            update_scheduler(scheduler, val_loss)\n",
        "\n",
        "        if test_loader is not None:\n",
        "            net.eval()\n",
        "            test_loss = 0.0\n",
        "            test_l1_norm = 0.0\n",
        "            test_linf_norm = 0.0\n",
        "\n",
        "            with torch.no_grad():\n",
        "                for x_batch, y_batch in test_loader:\n",
        "                    x_batch = x_batch.to(device)\n",
        "                    y_batch = y_batch.to(device)\n",
        "                    y_pred = net(x_batch)\n",
        "                    loss, l1_norm, linf_norm = compute_loss_and_metrics(y_pred, y_batch, loss_fn)\n",
        "\n",
        "                    test_loss += loss.item() * x_batch.size(0)\n",
        "                    test_l1_norm += l1_norm.item() * x_batch.size(0)\n",
        "                    test_linf_norm += linf_norm.item() * x_batch.size(0)\n",
        "\n",
        "            test_loss /= len(test_loader.dataset)\n",
        "            test_l1_norm /= len(test_loader.dataset)\n",
        "            test_linf_norm /= len(test_loader.dataset)\n",
        "\n",
        "            test_losses.append(test_loss)\n",
        "            test_metrics.append(\n",
        "                {\n",
        "                    \"l1_norm\": test_l1_norm,\n",
        "                    \"linf_norm\": test_linf_norm,\n",
        "                }\n",
        "            )\n",
        "\n",
        "            writer.add_scalar(\"Loss/test\", test_loss, epoch)\n",
        "            writer.add_scalar(\"L1 norm/test\", test_l1_norm, epoch)\n",
        "            writer.add_scalar(\"Linf norm/test\", test_linf_norm, epoch)\n",
        "            print(f\"Epoch {epoch+1}/{n_epochs}.. Train loss: {train_loss:.3f}.. Test loss: {test_loss:.3f}.. Train L1 norm: {train_l1_norm:.3f}.. Test L1 norm: {test_l1_norm:.3f}.. Train Linf norm: {train_linf_norm:.3f}.. Test Linf norm: {test_linf_norm:.3f}\")\n",
        "\n",
        "\n",
        "        # Reporting the intermediate metric value to Optuna if trial is not None\n",
        "        if trial is not None:\n",
        "            trial.report(val_l1_norm, epoch)\n",
        "\n",
        "            if trial.should_prune():\n",
        "                raise optuna.TrialPruned()\n",
        "\n",
        "    # Closing the SummaryWriter object\n",
        "    writer.close()\n",
        "\n",
        "    # Returning the losses and metrics lists\n",
        "    return train_losses, val_losses, test_losses, train_metrics, val_metrics, test_metrics\n"
      ]
    },
    {
      "cell_type": "markdown",
      "metadata": {
        "id": "xg9jz0SvUZiQ"
      },
      "source": [
        "## The objective function and hyperparameter tuning"
      ]
    },
    {
      "cell_type": "code",
      "execution_count": 98,
      "metadata": {
        "id": "fmRncQPuUZiR"
      },
      "outputs": [],
      "source": [
        "# Defining an objective function for Optuna to minimize\n",
        "def objective(trial):\n",
        "    \"\"\"Defines an objective function for Optuna to minimize.\n",
        "\n",
        "    Args:\n",
        "        trial (optuna.trial.Trial): The trial object that contains the hyperparameters.\n",
        "\n",
        "    Returns:\n",
        "        float: The validation L1 norm to minimize.\n",
        "    \"\"\"\n",
        "    # Creating a trial network and optimizer using the create_model function\n",
        "    net, \\\n",
        "    loss_fn, \\\n",
        "    optimizer, \\\n",
        "    batch_size, \\\n",
        "    n_epochs, \\\n",
        "    scheduler, \\\n",
        "    loss_name, \\\n",
        "    optimizer_name, \\\n",
        "    scheduler_name, \\\n",
        "    n_units, \\\n",
        "    n_layers, \\\n",
        "    hidden_activation, \\\n",
        "    output_activation, \\\n",
        "    lr = create_model(trial, optimize=True)\n",
        "\n",
        "    # Create separate data loaders for training and validation\n",
        "    train_loader = torch.utils.data.DataLoader(\n",
        "        torch.utils.data.TensorDataset(x_train, y_train), batch_size=batch_size, shuffle=True\n",
        "    )\n",
        "    val_loader = torch.utils.data.DataLoader(\n",
        "        torch.utils.data.TensorDataset(x_val, y_val), batch_size=batch_size\n",
        "    )\n",
        "    \n",
        "    _, _, _, _, val_metrics, _ = train_and_eval(\n",
        "        net, loss_fn, optimizer, batch_size, n_epochs, scheduler, train_loader, val_loader, None, trial\n",
        "    )\n",
        "\n",
        "    # Returning the last validation L1 norm as the objective value to minimize\n",
        "    return val_metrics[-1][\"l1_norm\"]"
      ]
    },
    {
      "cell_type": "code",
      "execution_count": 99,
      "metadata": {
        "id": "GyES4NAyUZiS",
        "outputId": "51366bd4-ec2b-4852-8ff1-13e15d2d24af",
        "colab": {
          "base_uri": "https://localhost:8080/"
        }
      },
      "outputs": [
        {
          "output_type": "stream",
          "name": "stderr",
          "text": [
            "\u001b[32m[I 2023-05-27 08:01:28,743]\u001b[0m A new study created in memory with name: no-name-1f44d1dc-bbaa-48f1-935a-1c6e8a3765d3\u001b[0m\n",
            "<ipython-input-95-1c19c5172611>:43: FutureWarning: suggest_loguniform has been deprecated in v3.0.0. This feature will be removed in v6.0.0. See https://github.com/optuna/optuna/releases/tag/v3.0.0. Use :func:`~optuna.trial.Trial.suggest_float` instead.\n",
            "  lr = trial.suggest_loguniform(\"lr\", 1e-6, 1)\n",
            "<ipython-input-95-1c19c5172611>:120: FutureWarning: suggest_uniform has been deprecated in v3.0.0. This feature will be removed in v6.0.0. See https://github.com/optuna/optuna/releases/tag/v3.0.0. Use :func:`~optuna.trial.Trial.suggest_float` instead.\n",
            "  gamma = trial.suggest_uniform(\"gamma\", 0.1, 0.5)\n"
          ]
        },
        {
          "output_type": "stream",
          "name": "stdout",
          "text": [
            "Epoch 1/127.. Train loss: 513682818.749.. Val loss: 13699806.342.. Train L1 norm: 5.564.. Val L1 norm: 5.960.. Train Linf norm: 38.154.. Val Linf norm: 36.847\n",
            "Epoch 2/127.. Train loss: 529895890.404.. Val loss: 2489707.850.. Train L1 norm: 5.981.. Val L1 norm: 8.111.. Train Linf norm: 37.887.. Val Linf norm: 42.650\n",
            "Epoch 3/127.. Train loss: 146220731.668.. Val loss: 2191764.565.. Train L1 norm: 9.241.. Val L1 norm: 8.683.. Train Linf norm: 55.212.. Val Linf norm: 47.473\n",
            "Epoch 4/127.. Train loss: 95270325.292.. Val loss: 11079888.480.. Train L1 norm: 9.860.. Val L1 norm: 10.051.. Train Linf norm: 56.254.. Val Linf norm: 65.593\n",
            "Epoch 5/127.. Train loss: 225899662.285.. Val loss: 139232954.892.. Train L1 norm: 10.163.. Val L1 norm: 9.553.. Train Linf norm: 68.069.. Val Linf norm: 80.787\n",
            "Epoch 6/127.. Train loss: 557253594.755.. Val loss: 3090721.961.. Train L1 norm: 11.398.. Val L1 norm: 10.474.. Train Linf norm: 72.355.. Val Linf norm: 64.503\n",
            "Epoch 7/127.. Train loss: 115286641.562.. Val loss: 6322525.680.. Train L1 norm: 11.188.. Val L1 norm: 12.765.. Train Linf norm: 73.779.. Val Linf norm: 78.092\n",
            "Epoch 8/127.. Train loss: 151287719.458.. Val loss: 543977456.332.. Train L1 norm: 13.563.. Val L1 norm: 19.271.. Train Linf norm: 83.444.. Val Linf norm: 161.965\n",
            "Epoch 9/127.. Train loss: 336054006.561.. Val loss: 8431127.335.. Train L1 norm: 12.199.. Val L1 norm: 14.303.. Train Linf norm: 95.896.. Val Linf norm: 92.269\n",
            "Epoch 10/127.. Train loss: 354919247.798.. Val loss: 16866648.044.. Train L1 norm: 16.294.. Val L1 norm: 14.934.. Train Linf norm: 103.588.. Val Linf norm: 95.636\n",
            "Epoch 11/127.. Train loss: 266608157.494.. Val loss: 18924049.533.. Train L1 norm: 15.794.. Val L1 norm: 18.743.. Train Linf norm: 100.131.. Val Linf norm: 116.182\n",
            "Epoch 12/127.. Train loss: 677008325.501.. Val loss: 130676783.607.. Train L1 norm: 21.818.. Val L1 norm: 21.667.. Train Linf norm: 133.967.. Val Linf norm: 141.873\n",
            "Epoch 13/127.. Train loss: 2259863581.141.. Val loss: 20317022.679.. Train L1 norm: 18.830.. Val L1 norm: 22.188.. Train Linf norm: 125.192.. Val Linf norm: 133.914\n",
            "Epoch 14/127.. Train loss: 1682071109.370.. Val loss: 55072262.660.. Train L1 norm: 26.628.. Val L1 norm: 23.636.. Train Linf norm: 156.323.. Val Linf norm: 137.904\n",
            "Epoch 15/127.. Train loss: 201351370.627.. Val loss: 10504436.832.. Train L1 norm: 23.164.. Val L1 norm: 23.424.. Train Linf norm: 129.221.. Val Linf norm: 133.240\n",
            "Epoch 16/127.. Train loss: 612487307.616.. Val loss: 50113358.898.. Train L1 norm: 25.911.. Val L1 norm: 25.153.. Train Linf norm: 145.951.. Val Linf norm: 144.262\n",
            "Epoch 17/127.. Train loss: 136790869.684.. Val loss: 9959353.668.. Train L1 norm: 24.848.. Val L1 norm: 25.384.. Train Linf norm: 136.378.. Val Linf norm: 141.885\n",
            "Epoch 18/127.. Train loss: 175089313.351.. Val loss: 72661827.126.. Train L1 norm: 28.301.. Val L1 norm: 27.706.. Train Linf norm: 154.130.. Val Linf norm: 158.262\n",
            "Epoch 19/127.. Train loss: 89471163.803.. Val loss: 8404717.480.. Train L1 norm: 27.190.. Val L1 norm: 27.746.. Train Linf norm: 149.208.. Val Linf norm: 151.532\n",
            "Epoch 20/127.. Train loss: 609805634.370.. Val loss: 58708088.528.. Train L1 norm: 30.496.. Val L1 norm: 31.340.. Train Linf norm: 164.238.. Val Linf norm: 174.106\n",
            "Epoch 21/127.. Train loss: 323309416.940.. Val loss: 11268251.939.. Train L1 norm: 30.671.. Val L1 norm: 29.970.. Train Linf norm: 165.955.. Val Linf norm: 163.724\n",
            "Epoch 22/127.. Train loss: 192319907.126.. Val loss: 176110425.265.. Train L1 norm: 31.992.. Val L1 norm: 35.036.. Train Linf norm: 168.876.. Val Linf norm: 199.297\n",
            "Epoch 23/127.. Train loss: 713182399.644.. Val loss: 7908886.893.. Train L1 norm: 33.698.. Val L1 norm: 31.763.. Train Linf norm: 180.772.. Val Linf norm: 170.906\n",
            "Epoch 24/127.. Train loss: 255565917.300.. Val loss: 145882983.549.. Train L1 norm: 33.877.. Val L1 norm: 36.083.. Train Linf norm: 177.438.. Val Linf norm: 202.534\n",
            "Epoch 25/127.. Train loss: 335720352.760.. Val loss: 38553558.759.. Train L1 norm: 35.030.. Val L1 norm: 32.395.. Train Linf norm: 187.952.. Val Linf norm: 178.094\n",
            "Epoch 26/127.. Train loss: 721677274.818.. Val loss: 39681586.850.. Train L1 norm: 35.362.. Val L1 norm: 35.258.. Train Linf norm: 188.567.. Val Linf norm: 190.156\n",
            "Epoch 27/127.. Train loss: 293916155.680.. Val loss: 19683263.087.. Train L1 norm: 35.068.. Val L1 norm: 34.151.. Train Linf norm: 185.395.. Val Linf norm: 185.343\n",
            "Epoch 28/127.. Train loss: 656883419.034.. Val loss: 41386621.088.. Train L1 norm: 37.062.. Val L1 norm: 36.685.. Train Linf norm: 196.662.. Val Linf norm: 197.589\n",
            "Epoch 29/127.. Train loss: 264236931.912.. Val loss: 7358188.024.. Train L1 norm: 36.901.. Val L1 norm: 35.716.. Train Linf norm: 193.121.. Val Linf norm: 190.736\n",
            "Epoch 30/127.. Train loss: 56366346.698.. Val loss: 23733117.366.. Train L1 norm: 36.899.. Val L1 norm: 36.851.. Train Linf norm: 191.962.. Val Linf norm: 196.799\n",
            "Epoch 31/127.. Train loss: 91494148.946.. Val loss: 6475092.487.. Train L1 norm: 37.271.. Val L1 norm: 36.257.. Train Linf norm: 195.876.. Val Linf norm: 193.411\n",
            "Epoch 32/127.. Train loss: 107740441.719.. Val loss: 14352850.615.. Train L1 norm: 37.803.. Val L1 norm: 37.426.. Train Linf norm: 196.610.. Val Linf norm: 198.697\n",
            "Epoch 33/127.. Train loss: 84274591.975.. Val loss: 5587963.847.. Train L1 norm: 37.956.. Val L1 norm: 37.170.. Train Linf norm: 197.874.. Val Linf norm: 197.697\n",
            "Epoch 34/127.. Train loss: 60057127.982.. Val loss: 23820999.549.. Train L1 norm: 38.752.. Val L1 norm: 38.521.. Train Linf norm: 200.423.. Val Linf norm: 204.302\n",
            "Epoch 35/127.. Train loss: 123659779.179.. Val loss: 6240944.673.. Train L1 norm: 38.747.. Val L1 norm: 38.092.. Train Linf norm: 200.816.. Val Linf norm: 202.070\n",
            "Epoch 36/127.. Train loss: 73264267.077.. Val loss: 22752763.778.. Train L1 norm: 39.473.. Val L1 norm: 39.101.. Train Linf norm: 204.846.. Val Linf norm: 206.953\n",
            "Epoch 37/127.. Train loss: 121598902.684.. Val loss: 5813874.374.. Train L1 norm: 39.394.. Val L1 norm: 38.679.. Train Linf norm: 203.586.. Val Linf norm: 204.993\n",
            "Epoch 38/127.. Train loss: 87435548.289.. Val loss: 14396789.469.. Train L1 norm: 40.261.. Val L1 norm: 39.492.. Train Linf norm: 207.678.. Val Linf norm: 208.803\n",
            "Epoch 39/127.. Train loss: 95834705.853.. Val loss: 7001564.207.. Train L1 norm: 39.948.. Val L1 norm: 39.662.. Train Linf norm: 207.121.. Val Linf norm: 209.687\n",
            "Epoch 40/127.. Train loss: 56375581.569.. Val loss: 31261317.150.. Train L1 norm: 40.917.. Val L1 norm: 40.924.. Train Linf norm: 210.945.. Val Linf norm: 215.944\n",
            "Epoch 41/127.. Train loss: 56118950.961.. Val loss: 28517983.031.. Train L1 norm: 41.369.. Val L1 norm: 41.181.. Train Linf norm: 213.873.. Val Linf norm: 217.569\n",
            "Epoch 42/127.. Train loss: 56291761.251.. Val loss: 14534881.481.. Train L1 norm: 41.737.. Val L1 norm: 41.259.. Train Linf norm: 215.203.. Val Linf norm: 217.285\n",
            "Epoch 43/127.. Train loss: 155201238.274.. Val loss: 9952692.056.. Train L1 norm: 41.989.. Val L1 norm: 41.111.. Train Linf norm: 216.882.. Val Linf norm: 216.780\n",
            "Epoch 44/127.. Train loss: 76632504.739.. Val loss: 6170809.459.. Train L1 norm: 41.912.. Val L1 norm: 40.978.. Train Linf norm: 216.340.. Val Linf norm: 216.323\n",
            "Epoch 45/127.. Train loss: 56814682.733.. Val loss: 5562551.007.. Train L1 norm: 42.032.. Val L1 norm: 41.095.. Train Linf norm: 217.014.. Val Linf norm: 216.881\n",
            "Epoch 46/127.. Train loss: 63716057.853.. Val loss: 9354889.805.. Train L1 norm: 42.245.. Val L1 norm: 41.528.. Train Linf norm: 217.931.. Val Linf norm: 218.791\n",
            "Epoch 47/127.. Train loss: 54716585.552.. Val loss: 5427091.750.. Train L1 norm: 42.508.. Val L1 norm: 41.492.. Train Linf norm: 218.399.. Val Linf norm: 218.776\n",
            "Epoch 48/127.. Train loss: 57394995.232.. Val loss: 11372834.422.. Train L1 norm: 42.594.. Val L1 norm: 42.010.. Train Linf norm: 219.119.. Val Linf norm: 220.997\n",
            "Epoch 49/127.. Train loss: 66210158.194.. Val loss: 7200938.305.. Train L1 norm: 42.850.. Val L1 norm: 41.902.. Train Linf norm: 220.652.. Val Linf norm: 220.658\n",
            "Epoch 50/127.. Train loss: 55364448.123.. Val loss: 9764107.525.. Train L1 norm: 43.020.. Val L1 norm: 42.197.. Train Linf norm: 221.347.. Val Linf norm: 221.984\n",
            "Epoch 51/127.. Train loss: 56225278.628.. Val loss: 9565365.824.. Train L1 norm: 43.012.. Val L1 norm: 42.442.. Train Linf norm: 221.109.. Val Linf norm: 223.136\n",
            "Epoch 52/127.. Train loss: 53799925.585.. Val loss: 7378994.214.. Train L1 norm: 43.308.. Val L1 norm: 42.463.. Train Linf norm: 223.024.. Val Linf norm: 223.320\n",
            "Epoch 53/127.. Train loss: 60981063.204.. Val loss: 9869927.584.. Train L1 norm: 43.648.. Val L1 norm: 42.748.. Train Linf norm: 224.093.. Val Linf norm: 224.617\n",
            "Epoch 54/127.. Train loss: 54748837.086.. Val loss: 12637330.549.. Train L1 norm: 43.771.. Val L1 norm: 43.007.. Train Linf norm: 224.508.. Val Linf norm: 225.785\n",
            "Epoch 55/127.. Train loss: 55129985.662.. Val loss: 8656806.029.. Train L1 norm: 43.869.. Val L1 norm: 43.047.. Train Linf norm: 225.333.. Val Linf norm: 226.121\n",
            "Epoch 56/127.. Train loss: 59099140.648.. Val loss: 6839409.991.. Train L1 norm: 43.970.. Val L1 norm: 43.048.. Train Linf norm: 225.426.. Val Linf norm: 226.223\n",
            "Epoch 57/127.. Train loss: 63550350.314.. Val loss: 7803350.980.. Train L1 norm: 44.028.. Val L1 norm: 43.211.. Train Linf norm: 225.791.. Val Linf norm: 226.948\n",
            "Epoch 58/127.. Train loss: 55384113.693.. Val loss: 9334893.650.. Train L1 norm: 44.168.. Val L1 norm: 43.337.. Train Linf norm: 227.179.. Val Linf norm: 227.497\n",
            "Epoch 59/127.. Train loss: 53559363.161.. Val loss: 7874581.188.. Train L1 norm: 44.228.. Val L1 norm: 43.307.. Train Linf norm: 225.523.. Val Linf norm: 227.413\n",
            "Epoch 60/127.. Train loss: 54974235.432.. Val loss: 9812729.962.. Train L1 norm: 44.335.. Val L1 norm: 43.488.. Train Linf norm: 227.806.. Val Linf norm: 228.209\n",
            "Epoch 61/127.. Train loss: 53974261.458.. Val loss: 8114310.960.. Train L1 norm: 44.354.. Val L1 norm: 43.428.. Train Linf norm: 227.882.. Val Linf norm: 227.994\n",
            "Epoch 62/127.. Train loss: 54527032.833.. Val loss: 9947862.115.. Train L1 norm: 44.424.. Val L1 norm: 43.570.. Train Linf norm: 228.270.. Val Linf norm: 228.620\n",
            "Epoch 63/127.. Train loss: 53953946.512.. Val loss: 8521271.757.. Train L1 norm: 44.451.. Val L1 norm: 43.562.. Train Linf norm: 228.557.. Val Linf norm: 228.630\n",
            "Epoch 64/127.. Train loss: 53791459.620.. Val loss: 8155617.091.. Train L1 norm: 44.506.. Val L1 norm: 43.586.. Train Linf norm: 229.101.. Val Linf norm: 228.766\n",
            "Epoch 65/127.. Train loss: 53706023.591.. Val loss: 10513701.917.. Train L1 norm: 44.597.. Val L1 norm: 43.794.. Train Linf norm: 227.870.. Val Linf norm: 229.678\n",
            "Epoch 66/127.. Train loss: 53734574.392.. Val loss: 11409887.028.. Train L1 norm: 44.713.. Val L1 norm: 43.883.. Train Linf norm: 229.529.. Val Linf norm: 230.085\n",
            "Epoch 67/127.. Train loss: 60663247.663.. Val loss: 9729028.922.. Train L1 norm: 44.781.. Val L1 norm: 43.838.. Train Linf norm: 229.766.. Val Linf norm: 229.937\n",
            "Epoch 68/127.. Train loss: 53574375.359.. Val loss: 10517985.454.. Train L1 norm: 44.772.. Val L1 norm: 43.923.. Train Linf norm: 229.720.. Val Linf norm: 230.323\n",
            "Epoch 69/127.. Train loss: 54925170.602.. Val loss: 8688862.837.. Train L1 norm: 44.812.. Val L1 norm: 43.877.. Train Linf norm: 229.334.. Val Linf norm: 230.178\n",
            "Epoch 70/127.. Train loss: 53476752.275.. Val loss: 8074572.534.. Train L1 norm: 44.822.. Val L1 norm: 43.893.. Train Linf norm: 229.963.. Val Linf norm: 230.277\n",
            "Epoch 71/127.. Train loss: 53881396.695.. Val loss: 8971259.481.. Train L1 norm: 44.829.. Val L1 norm: 43.969.. Train Linf norm: 230.634.. Val Linf norm: 230.606\n",
            "Epoch 72/127.. Train loss: 53374987.733.. Val loss: 8799141.227.. Train L1 norm: 44.896.. Val L1 norm: 43.974.. Train Linf norm: 230.923.. Val Linf norm: 230.640\n",
            "Epoch 73/127.. Train loss: 53459234.101.. Val loss: 9123439.025.. Train L1 norm: 44.930.. Val L1 norm: 44.010.. Train Linf norm: 230.314.. Val Linf norm: 230.801\n",
            "Epoch 74/127.. Train loss: 53461490.305.. Val loss: 8615470.157.. Train L1 norm: 44.933.. Val L1 norm: 43.996.. Train Linf norm: 230.217.. Val Linf norm: 230.756\n",
            "Epoch 75/127.. Train loss: 53457077.121.. Val loss: 9156160.428.. Train L1 norm: 44.935.. Val L1 norm: 44.049.. Train Linf norm: 230.745.. Val Linf norm: 230.988\n",
            "Epoch 76/127.. Train loss: 53474577.436.. Val loss: 9244304.163.. Train L1 norm: 44.970.. Val L1 norm: 44.069.. Train Linf norm: 230.779.. Val Linf norm: 231.087\n",
            "Epoch 77/127.. Train loss: 53515310.145.. Val loss: 9233553.337.. Train L1 norm: 44.986.. Val L1 norm: 44.087.. Train Linf norm: 230.501.. Val Linf norm: 231.170\n",
            "Epoch 78/127.. Train loss: 53765304.394.. Val loss: 8786910.236.. Train L1 norm: 45.001.. Val L1 norm: 44.078.. Train Linf norm: 230.663.. Val Linf norm: 231.144\n",
            "Epoch 79/127.. Train loss: 53457775.770.. Val loss: 8371819.713.. Train L1 norm: 45.009.. Val L1 norm: 44.084.. Train Linf norm: 231.131.. Val Linf norm: 231.190\n",
            "Epoch 80/127.. Train loss: 53459904.794.. Val loss: 8538795.372.. Train L1 norm: 45.020.. Val L1 norm: 44.107.. Train Linf norm: 231.018.. Val Linf norm: 231.291\n",
            "Epoch 81/127.. Train loss: 53603074.146.. Val loss: 8994601.272.. Train L1 norm: 45.021.. Val L1 norm: 44.153.. Train Linf norm: 230.380.. Val Linf norm: 231.495\n",
            "Epoch 82/127.. Train loss: 53540626.730.. Val loss: 8598149.615.. Train L1 norm: 45.085.. Val L1 norm: 44.142.. Train Linf norm: 231.079.. Val Linf norm: 231.462\n",
            "Epoch 83/127.. Train loss: 53422421.676.. Val loss: 9176738.596.. Train L1 norm: 45.081.. Val L1 norm: 44.189.. Train Linf norm: 231.562.. Val Linf norm: 231.666\n",
            "Epoch 84/127.. Train loss: 53488003.913.. Val loss: 9359686.774.. Train L1 norm: 45.114.. Val L1 norm: 44.225.. Train Linf norm: 231.351.. Val Linf norm: 231.833\n",
            "Epoch 85/127.. Train loss: 53677091.541.. Val loss: 9266311.730.. Train L1 norm: 45.148.. Val L1 norm: 44.222.. Train Linf norm: 231.847.. Val Linf norm: 231.826\n",
            "Epoch 86/127.. Train loss: 53475988.918.. Val loss: 9100637.607.. Train L1 norm: 45.140.. Val L1 norm: 44.222.. Train Linf norm: 231.263.. Val Linf norm: 231.830\n",
            "Epoch 87/127.. Train loss: 53387655.733.. Val loss: 8872056.829.. Train L1 norm: 45.143.. Val L1 norm: 44.213.. Train Linf norm: 231.625.. Val Linf norm: 231.798\n",
            "Epoch 88/127.. Train loss: 53368887.737.. Val loss: 8781567.971.. Train L1 norm: 45.139.. Val L1 norm: 44.213.. Train Linf norm: 231.230.. Val Linf norm: 231.802\n",
            "Epoch 89/127.. Train loss: 53407424.651.. Val loss: 8908516.758.. Train L1 norm: 45.142.. Val L1 norm: 44.227.. Train Linf norm: 232.066.. Val Linf norm: 231.864\n",
            "Epoch 90/127.. Train loss: 53370110.724.. Val loss: 9003533.030.. Train L1 norm: 45.156.. Val L1 norm: 44.239.. Train Linf norm: 230.934.. Val Linf norm: 231.915\n",
            "Epoch 91/127.. Train loss: 53365925.340.. Val loss: 9038618.714.. Train L1 norm: 45.160.. Val L1 norm: 44.245.. Train Linf norm: 231.536.. Val Linf norm: 231.945\n",
            "Epoch 92/127.. Train loss: 53402935.076.. Val loss: 8929506.532.. Train L1 norm: 45.174.. Val L1 norm: 44.246.. Train Linf norm: 231.247.. Val Linf norm: 231.954\n",
            "Epoch 93/127.. Train loss: 53356385.539.. Val loss: 9004417.376.. Train L1 norm: 45.173.. Val L1 norm: 44.256.. Train Linf norm: 232.209.. Val Linf norm: 231.997\n",
            "Epoch 94/127.. Train loss: 53385827.266.. Val loss: 8887144.676.. Train L1 norm: 45.173.. Val L1 norm: 44.256.. Train Linf norm: 231.712.. Val Linf norm: 232.002\n",
            "Epoch 95/127.. Train loss: 53365921.104.. Val loss: 9008870.588.. Train L1 norm: 45.184.. Val L1 norm: 44.266.. Train Linf norm: 231.760.. Val Linf norm: 232.049\n",
            "Epoch 96/127.. Train loss: 53378231.857.. Val loss: 9007626.673.. Train L1 norm: 45.187.. Val L1 norm: 44.273.. Train Linf norm: 231.073.. Val Linf norm: 232.082\n",
            "Epoch 97/127.. Train loss: 53405723.068.. Val loss: 8824958.126.. Train L1 norm: 45.197.. Val L1 norm: 44.268.. Train Linf norm: 231.575.. Val Linf norm: 232.065\n",
            "Epoch 98/127.. Train loss: 53458229.429.. Val loss: 8789834.541.. Train L1 norm: 45.191.. Val L1 norm: 44.276.. Train Linf norm: 231.569.. Val Linf norm: 232.102\n",
            "Epoch 99/127.. Train loss: 53363165.142.. Val loss: 8797117.242.. Train L1 norm: 45.200.. Val L1 norm: 44.278.. Train Linf norm: 231.533.. Val Linf norm: 232.112\n",
            "Epoch 100/127.. Train loss: 53359701.264.. Val loss: 8833932.026.. Train L1 norm: 45.201.. Val L1 norm: 44.281.. Train Linf norm: 231.240.. Val Linf norm: 232.124\n",
            "Epoch 101/127.. Train loss: 53351156.380.. Val loss: 8811962.997.. Train L1 norm: 45.205.. Val L1 norm: 44.281.. Train Linf norm: 231.671.. Val Linf norm: 232.127\n",
            "Epoch 102/127.. Train loss: 53356456.227.. Val loss: 8850459.574.. Train L1 norm: 45.205.. Val L1 norm: 44.285.. Train Linf norm: 231.917.. Val Linf norm: 232.144\n",
            "Epoch 103/127.. Train loss: 53349936.072.. Val loss: 8824544.012.. Train L1 norm: 45.209.. Val L1 norm: 44.285.. Train Linf norm: 231.236.. Val Linf norm: 232.147\n",
            "Epoch 104/127.. Train loss: 53348770.376.. Val loss: 8794069.317.. Train L1 norm: 45.211.. Val L1 norm: 44.285.. Train Linf norm: 232.739.. Val Linf norm: 232.148\n",
            "Epoch 105/127.. Train loss: 53351922.138.. Val loss: 8831265.967.. Train L1 norm: 45.212.. Val L1 norm: 44.289.. Train Linf norm: 232.332.. Val Linf norm: 232.165\n",
            "Epoch 106/127.. Train loss: 53358091.799.. Val loss: 8818758.367.. Train L1 norm: 45.212.. Val L1 norm: 44.290.. Train Linf norm: 231.606.. Val Linf norm: 232.169\n",
            "Epoch 107/127.. Train loss: 53368853.385.. Val loss: 8795863.729.. Train L1 norm: 45.212.. Val L1 norm: 44.292.. Train Linf norm: 231.831.. Val Linf norm: 232.177\n",
            "Epoch 108/127.. Train loss: 53366240.287.. Val loss: 8798777.494.. Train L1 norm: 45.215.. Val L1 norm: 44.294.. Train Linf norm: 231.873.. Val Linf norm: 232.190\n",
            "Epoch 109/127.. Train loss: 53341028.207.. Val loss: 8720531.032.. Train L1 norm: 45.218.. Val L1 norm: 44.291.. Train Linf norm: 230.739.. Val Linf norm: 232.177\n",
            "Epoch 110/127.. Train loss: 53365920.417.. Val loss: 8742476.778.. Train L1 norm: 45.218.. Val L1 norm: 44.295.. Train Linf norm: 232.650.. Val Linf norm: 232.195\n",
            "Epoch 111/127.. Train loss: 53368574.875.. Val loss: 8742859.490.. Train L1 norm: 45.220.. Val L1 norm: 44.296.. Train Linf norm: 232.564.. Val Linf norm: 232.201\n",
            "Epoch 112/127.. Train loss: 53363593.765.. Val loss: 8746774.751.. Train L1 norm: 45.222.. Val L1 norm: 44.300.. Train Linf norm: 231.609.. Val Linf norm: 232.216\n",
            "Epoch 113/127.. Train loss: 53351730.511.. Val loss: 8762446.519.. Train L1 norm: 45.224.. Val L1 norm: 44.301.. Train Linf norm: 232.282.. Val Linf norm: 232.220\n",
            "Epoch 114/127.. Train loss: 53352057.830.. Val loss: 8762585.014.. Train L1 norm: 45.224.. Val L1 norm: 44.301.. Train Linf norm: 231.744.. Val Linf norm: 232.224\n",
            "Epoch 115/127.. Train loss: 53348562.784.. Val loss: 8768858.921.. Train L1 norm: 45.226.. Val L1 norm: 44.302.. Train Linf norm: 231.896.. Val Linf norm: 232.227\n",
            "Epoch 116/127.. Train loss: 53347271.840.. Val loss: 8779454.196.. Train L1 norm: 45.226.. Val L1 norm: 44.303.. Train Linf norm: 231.766.. Val Linf norm: 232.231\n",
            "Epoch 117/127.. Train loss: 53346029.489.. Val loss: 8778278.485.. Train L1 norm: 45.227.. Val L1 norm: 44.303.. Train Linf norm: 231.915.. Val Linf norm: 232.232\n",
            "Epoch 118/127.. Train loss: 53346754.362.. Val loss: 8775028.798.. Train L1 norm: 45.227.. Val L1 norm: 44.304.. Train Linf norm: 231.838.. Val Linf norm: 232.234\n",
            "Epoch 119/127.. Train loss: 53344911.837.. Val loss: 8778494.502.. Train L1 norm: 45.228.. Val L1 norm: 44.304.. Train Linf norm: 231.834.. Val Linf norm: 232.235\n",
            "Epoch 120/127.. Train loss: 53349394.986.. Val loss: 8767909.557.. Train L1 norm: 45.227.. Val L1 norm: 44.304.. Train Linf norm: 231.588.. Val Linf norm: 232.235\n",
            "Epoch 121/127.. Train loss: 53346366.513.. Val loss: 8767483.381.. Train L1 norm: 45.228.. Val L1 norm: 44.304.. Train Linf norm: 231.812.. Val Linf norm: 232.236\n",
            "Epoch 122/127.. Train loss: 53346375.606.. Val loss: 8782437.369.. Train L1 norm: 45.228.. Val L1 norm: 44.305.. Train Linf norm: 231.888.. Val Linf norm: 232.241\n",
            "Epoch 123/127.. Train loss: 53347203.711.. Val loss: 8784606.718.. Train L1 norm: 45.229.. Val L1 norm: 44.306.. Train Linf norm: 232.427.. Val Linf norm: 232.245\n",
            "Epoch 124/127.. Train loss: 53344663.549.. Val loss: 8797932.888.. Train L1 norm: 45.229.. Val L1 norm: 44.307.. Train Linf norm: 231.950.. Val Linf norm: 232.250\n",
            "Epoch 125/127.. Train loss: 53342945.802.. Val loss: 8798110.265.. Train L1 norm: 45.231.. Val L1 norm: 44.307.. Train Linf norm: 231.310.. Val Linf norm: 232.250\n",
            "Epoch 126/127.. Train loss: 53343255.004.. Val loss: 8805884.874.. Train L1 norm: 45.231.. Val L1 norm: 44.308.. Train Linf norm: 232.177.. Val Linf norm: 232.253\n"
          ]
        },
        {
          "output_type": "stream",
          "name": "stderr",
          "text": [
            "\u001b[32m[I 2023-05-27 08:08:42,889]\u001b[0m Trial 0 finished with value: 44.30794155883789 and parameters: {'n_layers': 2, 'n_units_0': 2684, 'n_units_1': 3993, 'hidden_activation': 'ELU', 'output_activation': 'Linear', 'loss': 'MSE', 'optimizer': 'RMSprop', 'lr': 6.647180167794518e-06, 'batch_size': 128, 'n_epochs': 127, 'scheduler': 'StepLR', 'step_size': 14, 'gamma': 0.333937695646033}. Best is trial 0 with value: 44.30794155883789.\u001b[0m\n"
          ]
        },
        {
          "output_type": "stream",
          "name": "stdout",
          "text": [
            "Epoch 127/127.. Train loss: 53340568.433.. Val loss: 8801135.858.. Train L1 norm: 45.232.. Val L1 norm: 44.308.. Train Linf norm: 231.668.. Val Linf norm: 232.253\n",
            "Best trial:\n",
            "  Value:  44.30794155883789\n",
            "  Params: \n",
            "    n_layers: 2\n",
            "    n_units_0: 2684\n",
            "    n_units_1: 3993\n",
            "    hidden_activation: ELU\n",
            "    output_activation: Linear\n",
            "    loss: MSE\n",
            "    optimizer: RMSprop\n",
            "    lr: 6.647180167794518e-06\n",
            "    batch_size: 128\n",
            "    n_epochs: 127\n",
            "    scheduler: StepLR\n",
            "    step_size: 14\n",
            "    gamma: 0.333937695646033\n"
          ]
        }
      ],
      "source": [
        "if OPTIMIZE:\n",
        "    # Creating a study object with Optuna with TPE sampler and median pruner \n",
        "    study = optuna.create_study(direction=\"minimize\", sampler=optuna.samplers.TPESampler(), pruner=optuna.pruners.MedianPruner())\n",
        "\n",
        "    # Running Optuna with 100 trials when we are optimizing.\n",
        "    study.optimize(objective, n_trials=N_TRIALS)\n",
        "\n",
        "    # Printing the best trial information\n",
        "    print(\"Best trial:\")\n",
        "    trial = study.best_trial\n",
        "    print(\"  Value: \", trial.value)\n",
        "    print(\"  Params: \")\n",
        "    for key, value in trial.params.items():\n",
        "        print(f\"    {key}: {value}\")\n"
      ]
    },
    {
      "cell_type": "markdown",
      "metadata": {
        "id": "jmMfE9_dUZiS"
      },
      "source": [
        "## Training the model"
      ]
    },
    {
      "cell_type": "code",
      "execution_count": 100,
      "metadata": {
        "id": "phyiHlWEUZiT",
        "colab": {
          "base_uri": "https://localhost:8080/"
        },
        "outputId": "c346fe72-8e40-498d-c0f0-f19fdffcdb9f"
      },
      "outputs": [
        {
          "output_type": "stream",
          "name": "stderr",
          "text": [
            "<ipython-input-95-1c19c5172611>:43: FutureWarning: suggest_loguniform has been deprecated in v3.0.0. This feature will be removed in v6.0.0. See https://github.com/optuna/optuna/releases/tag/v3.0.0. Use :func:`~optuna.trial.FrozenTrial.suggest_float` instead.\n",
            "  lr = trial.suggest_loguniform(\"lr\", 1e-6, 1)\n",
            "<ipython-input-95-1c19c5172611>:120: FutureWarning: suggest_uniform has been deprecated in v3.0.0. This feature will be removed in v6.0.0. See https://github.com/optuna/optuna/releases/tag/v3.0.0. Use :func:`~optuna.trial.FrozenTrial.suggest_float` instead.\n",
            "  gamma = trial.suggest_uniform(\"gamma\", 0.1, 0.5)\n"
          ]
        }
      ],
      "source": [
        "# Creating the best network and optimizer using the best hyperparameters\n",
        "if OPTIMIZE:\n",
        "    net, \\\n",
        "    loss_fn, \\\n",
        "    optimizer, \\\n",
        "    batch_size, \\\n",
        "    n_epochs, \\\n",
        "    scheduler, \\\n",
        "    loss_name, \\\n",
        "    optimizer_name, \\\n",
        "    scheduler_name, \\\n",
        "    n_units, \\\n",
        "    n_layers, \\\n",
        "    hidden_activation, \\\n",
        "    output_activation, \\\n",
        "    lr = create_model(trial, optimize=True)\n",
        "# Creating the network with predefined hyperparameters\n",
        "else:\n",
        "    net, \\\n",
        "    loss_fn, \\\n",
        "    optimizer, \\\n",
        "    batch_size, \\\n",
        "    n_epochs, \\\n",
        "    scheduler, \\\n",
        "    loss_name, \\\n",
        "    optimizer_name, \\\n",
        "    scheduler_name, \\\n",
        "    n_units, \\\n",
        "    n_layers, \\\n",
        "    hidden_activation, \\\n",
        "    output_activation, \\\n",
        "    lr = create_model(trial=None, optimize=False)"
      ]
    },
    {
      "cell_type": "code",
      "execution_count": 101,
      "metadata": {
        "colab": {
          "base_uri": "https://localhost:8080/"
        },
        "id": "_yq-oY81UZiU",
        "outputId": "d54b899b-4a0d-4012-f541-ed53ec86b0d6"
      },
      "outputs": [
        {
          "output_type": "stream",
          "name": "stdout",
          "text": [
            "loss_fn: MSELoss()\n",
            "batch_size: 128\n",
            "n_epochs: 127\n",
            "scheduler: <torch.optim.lr_scheduler.StepLR object at 0x7f50b04e8a00>\n",
            "loss_name: MSE\n",
            "optimizer_name: RMSprop\n",
            "scheduler_name: StepLR\n",
            "n_units: [2684, 3993]\n",
            "n_layers: 2\n",
            "hidden_activation: ELU(alpha=1.0)\n",
            "output_activation: Identity()\n"
          ]
        }
      ],
      "source": [
        "print(\"loss_fn:\", loss_fn)\n",
        "print(\"batch_size:\", batch_size)\n",
        "print(\"n_epochs:\", n_epochs)\n",
        "print(\"scheduler:\", scheduler)\n",
        "print(\"loss_name:\", loss_name)\n",
        "print(\"optimizer_name:\", optimizer_name)\n",
        "print(\"scheduler_name:\", scheduler_name)\n",
        "print(\"n_units:\", n_units)\n",
        "print(\"n_layers:\", n_layers)\n",
        "print(\"hidden_activation:\", hidden_activation)\n",
        "print(\"output_activation:\", output_activation)"
      ]
    },
    {
      "cell_type": "markdown",
      "metadata": {
        "id": "E7aLWdZyUZiW",
        "outputId": "8fb1e8c6-5aa3-43a1-a255-712cf9396d0c"
      },
      "source": [
        "After optimizing with Optuna and deciding on the best hyperparameters, we combine the training and validatin set, using that as the new training set for training the model, and then evaluate the model on the test set"
      ]
    },
    {
      "cell_type": "code",
      "execution_count": 102,
      "metadata": {
        "id": "ixkefwgPHN8i",
        "colab": {
          "base_uri": "https://localhost:8080/"
        },
        "outputId": "263dafd6-a295-4f81-991a-14b4ee348390"
      },
      "outputs": [
        {
          "output_type": "stream",
          "name": "stdout",
          "text": [
            "Epoch 1/127.. Train loss: 131179148.255.. Test loss: 33720278.485.. Train L1 norm: 6.825.. Test L1 norm: 9.578.. Train Linf norm: 40.202.. Test Linf norm: 70.390\n",
            "Epoch 2/127.. Train loss: 631000033.019.. Test loss: 2569192.285.. Train L1 norm: 8.230.. Test L1 norm: 9.423.. Train Linf norm: 47.865.. Test Linf norm: 48.873\n",
            "Epoch 3/127.. Train loss: 49377293.967.. Test loss: 2102846.434.. Train L1 norm: 10.488.. Test L1 norm: 10.420.. Train Linf norm: 57.209.. Test Linf norm: 59.609\n",
            "Epoch 4/127.. Train loss: 300670108.221.. Test loss: 14730176.216.. Train L1 norm: 10.388.. Test L1 norm: 11.479.. Train Linf norm: 67.578.. Test Linf norm: 78.634\n",
            "Epoch 5/127.. Train loss: 477291187.075.. Test loss: 4992328.945.. Train L1 norm: 9.725.. Test L1 norm: 9.979.. Train Linf norm: 69.838.. Test Linf norm: 72.620\n",
            "Epoch 6/127.. Train loss: 62437599.873.. Test loss: 26032219.631.. Train L1 norm: 9.180.. Test L1 norm: 8.173.. Train Linf norm: 70.465.. Test Linf norm: 76.658\n",
            "Epoch 7/127.. Train loss: 100481431.267.. Test loss: 4194826.999.. Train L1 norm: 8.766.. Test L1 norm: 9.022.. Train Linf norm: 75.770.. Test Linf norm: 74.353\n",
            "Epoch 8/127.. Train loss: 71480648.573.. Test loss: 3316872.600.. Train L1 norm: 9.435.. Test L1 norm: 10.344.. Train Linf norm: 79.979.. Test Linf norm: 84.025\n",
            "Epoch 9/127.. Train loss: 317630794.721.. Test loss: 2463323.939.. Train L1 norm: 9.547.. Test L1 norm: 7.606.. Train Linf norm: 86.615.. Test Linf norm: 71.735\n",
            "Epoch 10/127.. Train loss: 125884617.908.. Test loss: 28395546.033.. Train L1 norm: 8.604.. Test L1 norm: 10.175.. Train Linf norm: 82.148.. Test Linf norm: 104.417\n",
            "Epoch 11/127.. Train loss: 210897880.207.. Test loss: 2824598.869.. Train L1 norm: 10.240.. Test L1 norm: 8.305.. Train Linf norm: 93.573.. Test Linf norm: 79.352\n",
            "Epoch 12/127.. Train loss: 124682519.492.. Test loss: 9310443.086.. Train L1 norm: 10.898.. Test L1 norm: 14.145.. Train Linf norm: 99.032.. Test Linf norm: 113.213\n",
            "Epoch 13/127.. Train loss: 735631317.413.. Test loss: 3219157.777.. Train L1 norm: 15.133.. Test L1 norm: 15.472.. Train Linf norm: 110.579.. Test Linf norm: 109.263\n",
            "Epoch 14/127.. Train loss: 189538904.338.. Test loss: 4987280.085.. Train L1 norm: 18.531.. Test L1 norm: 22.257.. Train Linf norm: 125.264.. Test Linf norm: 144.257\n",
            "Epoch 15/127.. Train loss: 325049529.146.. Test loss: 10960391.479.. Train L1 norm: 26.849.. Test L1 norm: 24.821.. Train Linf norm: 162.867.. Test Linf norm: 151.682\n",
            "Epoch 16/127.. Train loss: 213982415.105.. Test loss: 380590993.531.. Train L1 norm: 25.355.. Test L1 norm: 26.862.. Train Linf norm: 163.794.. Test Linf norm: 223.307\n",
            "Epoch 17/127.. Train loss: 3009246027.845.. Test loss: 63931023.729.. Train L1 norm: 35.273.. Test L1 norm: 34.403.. Train Linf norm: 224.033.. Test Linf norm: 202.028\n",
            "Epoch 18/127.. Train loss: 1541812042.373.. Test loss: 34841967.973.. Train L1 norm: 31.816.. Test L1 norm: 36.790.. Train Linf norm: 209.096.. Test Linf norm: 222.326\n",
            "Epoch 19/127.. Train loss: 2172769005.671.. Test loss: 15049649.553.. Train L1 norm: 40.154.. Test L1 norm: 34.994.. Train Linf norm: 243.117.. Test Linf norm: 198.366\n",
            "Epoch 20/127.. Train loss: 494623504.288.. Test loss: 536036196.608.. Train L1 norm: 36.156.. Test L1 norm: 34.802.. Train Linf norm: 210.053.. Test Linf norm: 268.281\n",
            "Epoch 21/127.. Train loss: 13234995486.328.. Test loss: 2928109.677.. Train L1 norm: 40.637.. Test L1 norm: 39.294.. Train Linf norm: 231.863.. Test Linf norm: 218.336\n",
            "Epoch 22/127.. Train loss: 1451221796.815.. Test loss: 417120021.851.. Train L1 norm: 41.792.. Test L1 norm: 48.581.. Train Linf norm: 233.620.. Test Linf norm: 308.344\n",
            "Epoch 23/127.. Train loss: 6609519893.179.. Test loss: 105270942.548.. Train L1 norm: 41.513.. Test L1 norm: 39.149.. Train Linf norm: 253.870.. Test Linf norm: 243.034\n",
            "Epoch 24/127.. Train loss: 1009018236.498.. Test loss: 212092819.298.. Train L1 norm: 44.494.. Test L1 norm: 47.200.. Train Linf norm: 260.598.. Test Linf norm: 286.461\n",
            "Epoch 25/127.. Train loss: 860711965.417.. Test loss: 265302605.830.. Train L1 norm: 41.796.. Test L1 norm: 41.513.. Train Linf norm: 261.490.. Test Linf norm: 274.943\n",
            "Epoch 26/127.. Train loss: 550120744.312.. Test loss: 545757912.905.. Train L1 norm: 47.116.. Test L1 norm: 54.048.. Train Linf norm: 275.756.. Test Linf norm: 343.810\n",
            "Epoch 27/127.. Train loss: 10759862178.319.. Test loss: 25294007.669.. Train L1 norm: 46.208.. Test L1 norm: 45.091.. Train Linf norm: 272.698.. Test Linf norm: 258.881\n",
            "Epoch 28/127.. Train loss: 1126575515.213.. Test loss: 278619504.994.. Train L1 norm: 49.518.. Test L1 norm: 50.454.. Train Linf norm: 290.047.. Test Linf norm: 307.384\n",
            "Epoch 29/127.. Train loss: 279286467.477.. Test loss: 799271986.210.. Train L1 norm: 45.595.. Test L1 norm: 38.140.. Train Linf norm: 256.052.. Test Linf norm: 308.893\n",
            "Epoch 30/127.. Train loss: 18075736103.929.. Test loss: 7542322.387.. Train L1 norm: 44.612.. Test L1 norm: 44.387.. Train Linf norm: 259.248.. Test Linf norm: 248.658\n",
            "Epoch 31/127.. Train loss: 411531661.236.. Test loss: 24236486.856.. Train L1 norm: 44.934.. Test L1 norm: 48.528.. Train Linf norm: 264.400.. Test Linf norm: 281.151\n",
            "Epoch 32/127.. Train loss: 1491323032.421.. Test loss: 79515928.859.. Train L1 norm: 52.685.. Test L1 norm: 47.915.. Train Linf norm: 309.850.. Test Linf norm: 278.417\n",
            "Epoch 33/127.. Train loss: 610096230.443.. Test loss: 403743301.425.. Train L1 norm: 44.556.. Test L1 norm: 42.021.. Train Linf norm: 266.289.. Test Linf norm: 300.458\n",
            "Epoch 34/127.. Train loss: 6987939087.319.. Test loss: 51054498.306.. Train L1 norm: 49.009.. Test L1 norm: 47.359.. Train Linf norm: 294.594.. Test Linf norm: 272.835\n",
            "Epoch 35/127.. Train loss: 1292910570.508.. Test loss: 20710981.264.. Train L1 norm: 45.118.. Test L1 norm: 49.022.. Train Linf norm: 279.520.. Test Linf norm: 286.400\n",
            "Epoch 36/127.. Train loss: 1236234823.629.. Test loss: 155740643.400.. Train L1 norm: 52.889.. Test L1 norm: 49.869.. Train Linf norm: 309.645.. Test Linf norm: 300.159\n",
            "Epoch 37/127.. Train loss: 600181199.997.. Test loss: 292677746.269.. Train L1 norm: 45.875.. Test L1 norm: 43.209.. Train Linf norm: 276.830.. Test Linf norm: 299.064\n",
            "Epoch 38/127.. Train loss: 5760482271.937.. Test loss: 51755423.149.. Train L1 norm: 49.360.. Test L1 norm: 47.239.. Train Linf norm: 297.293.. Test Linf norm: 276.725\n",
            "Epoch 39/127.. Train loss: 366409736.352.. Test loss: 90005406.442.. Train L1 norm: 44.755.. Test L1 norm: 46.133.. Train Linf norm: 268.090.. Test Linf norm: 289.925\n",
            "Epoch 40/127.. Train loss: 2171447628.306.. Test loss: 36035237.552.. Train L1 norm: 50.593.. Test L1 norm: 45.993.. Train Linf norm: 301.448.. Test Linf norm: 270.536\n",
            "Epoch 41/127.. Train loss: 696416204.046.. Test loss: 47058211.604.. Train L1 norm: 44.014.. Test L1 norm: 46.177.. Train Linf norm: 269.371.. Test Linf norm: 285.683\n",
            "Epoch 42/127.. Train loss: 2661022570.889.. Test loss: 13341685.275.. Train L1 norm: 50.382.. Test L1 norm: 45.066.. Train Linf norm: 302.544.. Test Linf norm: 265.616\n",
            "Epoch 43/127.. Train loss: 314403286.390.. Test loss: 201020188.382.. Train L1 norm: 44.771.. Test L1 norm: 44.854.. Train Linf norm: 269.095.. Test Linf norm: 300.796\n",
            "Epoch 44/127.. Train loss: 3095184406.269.. Test loss: 23233165.672.. Train L1 norm: 50.603.. Test L1 norm: 46.260.. Train Linf norm: 308.168.. Test Linf norm: 275.491\n",
            "Epoch 45/127.. Train loss: 573634801.793.. Test loss: 491095194.968.. Train L1 norm: 45.943.. Test L1 norm: 41.261.. Train Linf norm: 282.033.. Test Linf norm: 314.242\n",
            "Epoch 46/127.. Train loss: 4822287070.058.. Test loss: 141404549.109.. Train L1 norm: 48.217.. Test L1 norm: 49.730.. Train Linf norm: 306.634.. Test Linf norm: 301.263\n",
            "Epoch 47/127.. Train loss: 346548093.868.. Test loss: 141282264.327.. Train L1 norm: 45.498.. Test L1 norm: 45.928.. Train Linf norm: 284.264.. Test Linf norm: 306.424\n",
            "Epoch 48/127.. Train loss: 648199330.193.. Test loss: 416461658.596.. Train L1 norm: 51.360.. Test L1 norm: 53.197.. Train Linf norm: 305.281.. Test Linf norm: 348.139\n",
            "Epoch 49/127.. Train loss: 2075155630.102.. Test loss: 172381797.563.. Train L1 norm: 45.627.. Test L1 norm: 44.226.. Train Linf norm: 298.397.. Test Linf norm: 302.139\n",
            "Epoch 50/127.. Train loss: 2809358422.094.. Test loss: 103835557.908.. Train L1 norm: 50.636.. Test L1 norm: 48.721.. Train Linf norm: 322.479.. Test Linf norm: 300.222\n",
            "Epoch 51/127.. Train loss: 2379495639.205.. Test loss: 18671567.322.. Train L1 norm: 45.243.. Test L1 norm: 48.329.. Train Linf norm: 284.366.. Test Linf norm: 300.606\n",
            "Epoch 52/127.. Train loss: 1411538587.535.. Test loss: 185237550.464.. Train L1 norm: 52.150.. Test L1 norm: 50.932.. Train Linf norm: 329.468.. Test Linf norm: 321.167\n",
            "Epoch 53/127.. Train loss: 218753803.695.. Test loss: 436117309.961.. Train L1 norm: 46.434.. Test L1 norm: 43.958.. Train Linf norm: 295.163.. Test Linf norm: 333.566\n",
            "Epoch 54/127.. Train loss: 3925593605.642.. Test loss: 115160940.385.. Train L1 norm: 51.911.. Test L1 norm: 50.831.. Train Linf norm: 331.162.. Test Linf norm: 317.011\n",
            "Epoch 55/127.. Train loss: 802384951.153.. Test loss: 139105436.167.. Train L1 norm: 47.008.. Test L1 norm: 46.512.. Train Linf norm: 310.137.. Test Linf norm: 317.012\n",
            "Epoch 56/127.. Train loss: 1110059633.407.. Test loss: 566439953.903.. Train L1 norm: 51.383.. Test L1 norm: 56.935.. Train Linf norm: 322.102.. Test Linf norm: 381.836\n",
            "Epoch 57/127.. Train loss: 10094923932.012.. Test loss: 8083465.731.. Train L1 norm: 49.456.. Test L1 norm: 49.204.. Train Linf norm: 306.004.. Test Linf norm: 305.294\n",
            "Epoch 58/127.. Train loss: 1322280314.537.. Test loss: 143963192.344.. Train L1 norm: 51.977.. Test L1 norm: 51.254.. Train Linf norm: 324.729.. Test Linf norm: 326.904\n",
            "Epoch 59/127.. Train loss: 765288156.811.. Test loss: 206300584.270.. Train L1 norm: 47.042.. Test L1 norm: 45.464.. Train Linf norm: 305.753.. Test Linf norm: 325.237\n",
            "Epoch 60/127.. Train loss: 3526781829.305.. Test loss: 288291703.277.. Train L1 norm: 51.723.. Test L1 norm: 52.623.. Train Linf norm: 326.339.. Test Linf norm: 345.671\n",
            "Epoch 61/127.. Train loss: 3378351685.917.. Test loss: 58441750.957.. Train L1 norm: 46.829.. Test L1 norm: 47.797.. Train Linf norm: 307.157.. Test Linf norm: 319.343\n",
            "Epoch 62/127.. Train loss: 2210150045.673.. Test loss: 76614576.012.. Train L1 norm: 53.061.. Test L1 norm: 48.707.. Train Linf norm: 349.455.. Test Linf norm: 311.077\n",
            "Epoch 63/127.. Train loss: 898370785.705.. Test loss: 19215378.547.. Train L1 norm: 45.649.. Test L1 norm: 48.725.. Train Linf norm: 308.395.. Test Linf norm: 315.042\n",
            "Epoch 64/127.. Train loss: 1448982693.860.. Test loss: 195353595.080.. Train L1 norm: 52.968.. Test L1 norm: 50.506.. Train Linf norm: 342.302.. Test Linf norm: 334.753\n",
            "Epoch 65/127.. Train loss: 207002536.223.. Test loss: 606191143.735.. Train L1 norm: 46.761.. Test L1 norm: 41.381.. Train Linf norm: 308.293.. Test Linf norm: 343.527\n",
            "Epoch 66/127.. Train loss: 2825582045.378.. Test loss: 159653309.246.. Train L1 norm: 49.769.. Test L1 norm: 49.283.. Train Linf norm: 334.277.. Test Linf norm: 327.089\n",
            "Epoch 67/127.. Train loss: 459467800.086.. Test loss: 537883402.898.. Train L1 norm: 46.260.. Test L1 norm: 39.722.. Train Linf norm: 299.859.. Test Linf norm: 333.516\n",
            "Epoch 68/127.. Train loss: 2659178562.519.. Test loss: 536845839.125.. Train L1 norm: 44.723.. Test L1 norm: 53.291.. Train Linf norm: 300.541.. Test Linf norm: 371.169\n",
            "Epoch 69/127.. Train loss: 7313761892.403.. Test loss: 18603487.979.. Train L1 norm: 46.544.. Test L1 norm: 45.495.. Train Linf norm: 316.645.. Test Linf norm: 301.988\n",
            "Epoch 70/127.. Train loss: 1125429434.138.. Test loss: 369143405.529.. Train L1 norm: 48.627.. Test L1 norm: 51.036.. Train Linf norm: 321.040.. Test Linf norm: 357.619\n",
            "Epoch 71/127.. Train loss: 199848674.784.. Test loss: 306426416.273.. Train L1 norm: 46.956.. Test L1 norm: 47.545.. Train Linf norm: 310.959.. Test Linf norm: 341.610\n",
            "Epoch 72/127.. Train loss: 399253257.326.. Test loss: 438252201.834.. Train L1 norm: 43.221.. Test L1 norm: 39.002.. Train Linf norm: 289.739.. Test Linf norm: 323.663\n",
            "Epoch 73/127.. Train loss: 1428825031.737.. Test loss: 524464985.878.. Train L1 norm: 45.450.. Test L1 norm: 50.186.. Train Linf norm: 321.660.. Test Linf norm: 362.470\n",
            "Epoch 74/127.. Train loss: 1723970821.318.. Test loss: 223481022.281.. Train L1 norm: 43.189.. Test L1 norm: 39.534.. Train Linf norm: 310.166.. Test Linf norm: 306.500\n",
            "Epoch 75/127.. Train loss: 3575363743.045.. Test loss: 202665682.709.. Train L1 norm: 45.708.. Test L1 norm: 45.577.. Train Linf norm: 320.355.. Test Linf norm: 317.884\n",
            "Epoch 76/127.. Train loss: 1229880504.528.. Test loss: 288838249.034.. Train L1 norm: 41.202.. Test L1 norm: 38.110.. Train Linf norm: 302.267.. Test Linf norm: 307.360\n",
            "Epoch 77/127.. Train loss: 2629612520.941.. Test loss: 450390450.201.. Train L1 norm: 43.373.. Test L1 norm: 48.250.. Train Linf norm: 304.997.. Test Linf norm: 350.021\n",
            "Epoch 78/127.. Train loss: 5261046759.507.. Test loss: 60181681.852.. Train L1 norm: 41.794.. Test L1 norm: 40.936.. Train Linf norm: 302.617.. Test Linf norm: 293.643\n",
            "Epoch 79/127.. Train loss: 2878551282.352.. Test loss: 69239921.746.. Train L1 norm: 45.496.. Test L1 norm: 41.694.. Train Linf norm: 316.829.. Test Linf norm: 290.159\n",
            "Epoch 80/127.. Train loss: 1021847790.518.. Test loss: 76439466.699.. Train L1 norm: 38.805.. Test L1 norm: 39.713.. Train Linf norm: 289.083.. Test Linf norm: 290.716\n",
            "Epoch 81/127.. Train loss: 2063705576.160.. Test loss: 378661122.089.. Train L1 norm: 43.472.. Test L1 norm: 46.404.. Train Linf norm: 305.045.. Test Linf norm: 342.520\n",
            "Epoch 82/127.. Train loss: 3524984196.655.. Test loss: 198949553.574.. Train L1 norm: 40.726.. Test L1 norm: 37.156.. Train Linf norm: 306.875.. Test Linf norm: 294.728\n",
            "Epoch 83/127.. Train loss: 1713445369.480.. Test loss: 215303318.017.. Train L1 norm: 43.338.. Test L1 norm: 42.713.. Train Linf norm: 318.729.. Test Linf norm: 312.155\n",
            "Epoch 84/127.. Train loss: 831672494.696.. Test loss: 149454708.091.. Train L1 norm: 37.606.. Test L1 norm: 37.700.. Train Linf norm: 282.198.. Test Linf norm: 292.469\n",
            "Epoch 85/127.. Train loss: 151535361.889.. Test loss: 46074253.445.. Train L1 norm: 40.213.. Test L1 norm: 40.858.. Train Linf norm: 282.751.. Test Linf norm: 296.958\n",
            "Epoch 86/127.. Train loss: 3290482670.180.. Test loss: 228146743.088.. Train L1 norm: 44.971.. Test L1 norm: 43.599.. Train Linf norm: 316.396.. Test Linf norm: 318.329\n",
            "Epoch 87/127.. Train loss: 1058791143.485.. Test loss: 64789881.354.. Train L1 norm: 38.596.. Test L1 norm: 38.459.. Train Linf norm: 297.991.. Test Linf norm: 288.366\n",
            "Epoch 88/127.. Train loss: 522829700.864.. Test loss: 192627760.889.. Train L1 norm: 42.689.. Test L1 norm: 41.265.. Train Linf norm: 306.911.. Test Linf norm: 304.027\n",
            "Epoch 89/127.. Train loss: 734494467.288.. Test loss: 415298899.798.. Train L1 norm: 37.775.. Test L1 norm: 34.099.. Train Linf norm: 272.678.. Test Linf norm: 310.881\n",
            "Epoch 90/127.. Train loss: 1582078649.249.. Test loss: 694223376.768.. Train L1 norm: 38.322.. Test L1 norm: 46.586.. Train Linf norm: 291.144.. Test Linf norm: 365.456\n",
            "Epoch 91/127.. Train loss: 7229887453.417.. Test loss: 20026339.569.. Train L1 norm: 38.750.. Test L1 norm: 37.953.. Train Linf norm: 290.691.. Test Linf norm: 277.759\n",
            "Epoch 92/127.. Train loss: 473798455.054.. Test loss: 773993016.462.. Train L1 norm: 39.270.. Test L1 norm: 45.653.. Train Linf norm: 280.148.. Test Linf norm: 373.238\n",
            "Epoch 93/127.. Train loss: 4134004640.129.. Test loss: 117702205.702.. Train L1 norm: 38.242.. Test L1 norm: 34.425.. Train Linf norm: 299.514.. Test Linf norm: 280.421\n",
            "Epoch 94/127.. Train loss: 3767149120.388.. Test loss: 63461703.621.. Train L1 norm: 39.325.. Test L1 norm: 35.383.. Train Linf norm: 303.233.. Test Linf norm: 267.225\n",
            "Epoch 95/127.. Train loss: 193926183.816.. Test loss: 10459266.510.. Train L1 norm: 33.870.. Test L1 norm: 35.221.. Train Linf norm: 269.323.. Test Linf norm: 257.833\n",
            "Epoch 96/127.. Train loss: 240477598.503.. Test loss: 356113849.057.. Train L1 norm: 36.435.. Test L1 norm: 38.284.. Train Linf norm: 277.816.. Test Linf norm: 317.347\n",
            "Epoch 97/127.. Train loss: 1194817333.770.. Test loss: 134029988.515.. Train L1 norm: 32.937.. Test L1 norm: 31.764.. Train Linf norm: 267.690.. Test Linf norm: 267.778\n",
            "Epoch 98/127.. Train loss: 778302379.981.. Test loss: 149397930.319.. Train L1 norm: 36.537.. Test L1 norm: 34.614.. Train Linf norm: 284.947.. Test Linf norm: 274.960\n",
            "Epoch 99/127.. Train loss: 372587289.375.. Test loss: 690071218.178.. Train L1 norm: 32.229.. Test L1 norm: 37.720.. Train Linf norm: 252.506.. Test Linf norm: 335.591\n",
            "Epoch 100/127.. Train loss: 5769293396.278.. Test loss: 215135186.268.. Train L1 norm: 32.656.. Test L1 norm: 26.199.. Train Linf norm: 270.889.. Test Linf norm: 251.598\n",
            "Epoch 101/127.. Train loss: 3134646007.614.. Test loss: 134109679.349.. Train L1 norm: 30.064.. Test L1 norm: 30.179.. Train Linf norm: 254.310.. Test Linf norm: 250.215\n",
            "Epoch 102/127.. Train loss: 3488123217.296.. Test loss: 22717179.023.. Train L1 norm: 27.042.. Test L1 norm: 28.697.. Train Linf norm: 244.511.. Test Linf norm: 232.899\n",
            "Epoch 103/127.. Train loss: 642052217.584.. Test loss: 515957484.620.. Train L1 norm: 31.425.. Test L1 norm: 34.392.. Train Linf norm: 244.610.. Test Linf norm: 305.886\n",
            "Epoch 104/127.. Train loss: 3205522901.559.. Test loss: 157777459.787.. Train L1 norm: 28.608.. Test L1 norm: 25.921.. Train Linf norm: 256.763.. Test Linf norm: 242.563\n",
            "Epoch 105/127.. Train loss: 694300771.260.. Test loss: 632484712.495.. Train L1 norm: 28.978.. Test L1 norm: 34.869.. Train Linf norm: 241.891.. Test Linf norm: 312.773\n",
            "Epoch 106/127.. Train loss: 10432558904.091.. Test loss: 8140568.087.. Train L1 norm: 28.272.. Test L1 norm: 27.892.. Train Linf norm: 232.128.. Test Linf norm: 222.001\n",
            "Epoch 107/127.. Train loss: 1220248108.601.. Test loss: 58964655.537.. Train L1 norm: 30.995.. Test L1 norm: 27.064.. Train Linf norm: 262.719.. Test Linf norm: 223.495\n",
            "Epoch 108/127.. Train loss: 288010327.947.. Test loss: 608521791.144.. Train L1 norm: 26.536.. Test L1 norm: 30.950.. Train Linf norm: 224.350.. Test Linf norm: 298.050\n",
            "Epoch 109/127.. Train loss: 3812570650.445.. Test loss: 198407777.902.. Train L1 norm: 24.972.. Test L1 norm: 22.303.. Train Linf norm: 238.235.. Test Linf norm: 227.225\n",
            "Epoch 110/127.. Train loss: 610643001.242.. Test loss: 414904251.040.. Train L1 norm: 25.832.. Test L1 norm: 29.491.. Train Linf norm: 235.765.. Test Linf norm: 271.527\n",
            "Epoch 111/127.. Train loss: 5515577554.933.. Test loss: 47246062.166.. Train L1 norm: 23.997.. Test L1 norm: 24.019.. Train Linf norm: 220.360.. Test Linf norm: 210.734\n",
            "Epoch 112/127.. Train loss: 3780297877.216.. Test loss: 301870028.043.. Train L1 norm: 26.108.. Test L1 norm: 30.179.. Train Linf norm: 214.688.. Test Linf norm: 263.428\n",
            "Epoch 113/127.. Train loss: 4943601246.185.. Test loss: 44662347.221.. Train L1 norm: 25.915.. Test L1 norm: 25.163.. Train Linf norm: 228.851.. Test Linf norm: 218.550\n",
            "Epoch 114/127.. Train loss: 2219339908.493.. Test loss: 129687113.008.. Train L1 norm: 28.747.. Test L1 norm: 26.954.. Train Linf norm: 244.399.. Test Linf norm: 232.601\n",
            "Epoch 115/127.. Train loss: 1384398427.900.. Test loss: 98793913.579.. Train L1 norm: 23.899.. Test L1 norm: 23.972.. Train Linf norm: 225.241.. Test Linf norm: 221.855\n",
            "Epoch 116/127.. Train loss: 1524352695.812.. Test loss: 160984365.248.. Train L1 norm: 28.350.. Test L1 norm: 27.044.. Train Linf norm: 250.509.. Test Linf norm: 237.857\n",
            "Epoch 117/127.. Train loss: 1030530156.672.. Test loss: 116818790.994.. Train L1 norm: 23.903.. Test L1 norm: 23.045.. Train Linf norm: 222.523.. Test Linf norm: 220.623\n",
            "Epoch 118/127.. Train loss: 2260756032.695.. Test loss: 114790669.008.. Train L1 norm: 27.258.. Test L1 norm: 25.679.. Train Linf norm: 242.323.. Test Linf norm: 224.773\n",
            "Epoch 119/127.. Train loss: 1189438178.386.. Test loss: 219987780.852.. Train L1 norm: 23.105.. Test L1 norm: 21.873.. Train Linf norm: 220.997.. Test Linf norm: 228.977\n",
            "Epoch 120/127.. Train loss: 373315755.026.. Test loss: 727358221.128.. Train L1 norm: 24.554.. Test L1 norm: 30.969.. Train Linf norm: 208.961.. Test Linf norm: 305.244\n",
            "Epoch 121/127.. Train loss: 4302098555.901.. Test loss: 133776831.185.. Train L1 norm: 24.159.. Test L1 norm: 22.055.. Train Linf norm: 230.978.. Test Linf norm: 217.364\n",
            "Epoch 122/127.. Train loss: 2011642828.245.. Test loss: 142348965.028.. Train L1 norm: 26.045.. Test L1 norm: 25.375.. Train Linf norm: 235.319.. Test Linf norm: 228.676\n",
            "Epoch 123/127.. Train loss: 1081278663.185.. Test loss: 201942393.007.. Train L1 norm: 22.623.. Test L1 norm: 21.405.. Train Linf norm: 216.370.. Test Linf norm: 223.689\n",
            "Epoch 124/127.. Train loss: 1194356121.101.. Test loss: 213770418.264.. Train L1 norm: 25.367.. Test L1 norm: 25.508.. Train Linf norm: 226.402.. Test Linf norm: 238.114\n",
            "Epoch 125/127.. Train loss: 893029514.875.. Test loss: 322864568.115.. Train L1 norm: 22.449.. Test L1 norm: 20.402.. Train Linf norm: 230.996.. Test Linf norm: 233.798\n",
            "Epoch 126/127.. Train loss: 6729764479.258.. Test loss: 27815322.795.. Train L1 norm: 24.114.. Test L1 norm: 22.634.. Train Linf norm: 217.692.. Test Linf norm: 197.848\n",
            "Epoch 127/127.. Train loss: 476009490.146.. Test loss: 423652305.777.. Train L1 norm: 21.738.. Test L1 norm: 19.925.. Train Linf norm: 199.685.. Test Linf norm: 242.152\n"
          ]
        }
      ],
      "source": [
        "x_train_val = torch.cat((x_train, x_val), 0)\n",
        "y_train_val = torch.cat((y_train, y_val), 0)\n",
        "\n",
        "train_val_loader = torch.utils.data.DataLoader(\n",
        "    torch.utils.data.TensorDataset(x_train_val, y_train_val), batch_size=batch_size, shuffle=True\n",
        ")\n",
        "test_loader = torch.utils.data.DataLoader(\n",
        "    torch.utils.data.TensorDataset(x_test, y_test), batch_size=batch_size\n",
        ")\n",
        "\n",
        "train_losses, _, test_losses, train_metrics, _, test_metrics, = train_and_eval(\n",
        "    net, loss_fn, optimizer, batch_size, n_epochs, scheduler, train_val_loader, None, test_loader, None\n",
        ")"
      ]
    },
    {
      "cell_type": "markdown",
      "metadata": {
        "id": "akNucrgMUZiW"
      },
      "source": [
        "## Saving"
      ]
    },
    {
      "cell_type": "code",
      "execution_count": 103,
      "metadata": {
        "id": "LHsrs2Y-UZic"
      },
      "outputs": [],
      "source": [
        "import json\n",
        "\n",
        "# save the network to a .pth file\n",
        "torch.save(net.state_dict(), \"net.pth\")\n",
        "save_file(\"net.pth\")\n",
        "\n",
        "# save the optimizer to a .pth file\n",
        "torch.save(optimizer.state_dict(), \"optimizer.pth\")\n",
        "save_file(\"optimizer.pth\")\n",
        "\n",
        "# save the scheduler to a .pth file if it is not None\n",
        "if scheduler is not None:\n",
        "  torch.save(scheduler.state_dict(), \"scheduler.pth\")\n",
        "  save_file(\"scheduler.pth\")\n",
        "\n",
        "# create a dictionary to store the rest of the variables\n",
        "var_dict = {\n",
        "  \"batch_size\": batch_size,\n",
        "  \"n_epochs\": n_epochs,\n",
        "  \"loss_name\": loss_name,\n",
        "  \"optimizer_name\": optimizer_name,\n",
        "  \"scheduler_name\": scheduler_name,\n",
        "  \"n_units\": n_units,\n",
        "  \"n_layers\": n_layers,\n",
        "  \"hidden_activation_name\": hidden_activation.__class__.__name__,\n",
        "  \"output_activation_name\": output_activation.__class__.__name__,\n",
        "  \"lr\": lr,\n",
        "}\n",
        "\n",
        "# save the dictionary to a .json file\n",
        "with open(\"var_dict.json\", \"w\") as f:\n",
        "  json.dump(var_dict, f)\n",
        "save_file(\"var_dict.json\")\n",
        "\n",
        "# Saving the output of the training using pandas\n",
        "train_df = pd.DataFrame(\n",
        "    {\n",
        "        \"train_loss\": train_losses,\n",
        "        \"test_loss\": test_losses,\n",
        "        \"train_l1_norm\": [m[\"l1_norm\"] for m in train_metrics],\n",
        "        \"test_l1_norm\": [m[\"l1_norm\"] for m in test_metrics],\n",
        "        \"train_linf_norm\": [m[\"linf_norm\"] for m in train_metrics],\n",
        "        \"test_linf_norm\": [m[\"linf_norm\"] for m in test_metrics],\n",
        "    }\n",
        ")\n",
        "train_df.to_csv(\"train_output.csv\", index=False)\n",
        "save_file(\"train_output.csv\")\n"
      ]
    },
    {
      "cell_type": "markdown",
      "metadata": {
        "id": "qU23l7dIUZie"
      },
      "source": [
        "## Visualizing the results"
      ]
    },
    {
      "cell_type": "code",
      "execution_count": 104,
      "metadata": {
        "colab": {
          "base_uri": "https://localhost:8080/",
          "height": 1000
        },
        "id": "cippWZS6UZie",
        "outputId": "1f35550a-9d1f-425d-d15c-2f0305c9886b"
      },
      "outputs": [
        {
          "output_type": "execute_result",
          "data": {
            "text/plain": [
              "<Figure size 1200x800 with 0 Axes>"
            ]
          },
          "metadata": {},
          "execution_count": 104
        },
        {
          "output_type": "execute_result",
          "data": {
            "text/plain": [
              "<Axes: >"
            ]
          },
          "metadata": {},
          "execution_count": 104
        },
        {
          "output_type": "execute_result",
          "data": {
            "text/plain": [
              "[<matplotlib.lines.Line2D at 0x7f50d080eb30>]"
            ]
          },
          "metadata": {},
          "execution_count": 104
        },
        {
          "output_type": "execute_result",
          "data": {
            "text/plain": [
              "[<matplotlib.lines.Line2D at 0x7f50d080fc10>]"
            ]
          },
          "metadata": {},
          "execution_count": 104
        },
        {
          "output_type": "execute_result",
          "data": {
            "text/plain": [
              "Text(0.5, 0, 'Epoch')"
            ]
          },
          "metadata": {},
          "execution_count": 104
        },
        {
          "output_type": "execute_result",
          "data": {
            "text/plain": [
              "Text(0, 0.5, 'L1 Norm')"
            ]
          },
          "metadata": {},
          "execution_count": 104
        },
        {
          "output_type": "execute_result",
          "data": {
            "text/plain": [
              "(0.001, 100.0)"
            ]
          },
          "metadata": {},
          "execution_count": 104
        },
        {
          "output_type": "execute_result",
          "data": {
            "text/plain": [
              "<matplotlib.legend.Legend at 0x7f50b04d4e50>"
            ]
          },
          "metadata": {},
          "execution_count": 104
        },
        {
          "output_type": "execute_result",
          "data": {
            "text/plain": [
              "<Axes: >"
            ]
          },
          "metadata": {},
          "execution_count": 104
        },
        {
          "output_type": "execute_result",
          "data": {
            "text/plain": [
              "[<matplotlib.lines.Line2D at 0x7f50b0341ab0>]"
            ]
          },
          "metadata": {},
          "execution_count": 104
        },
        {
          "output_type": "execute_result",
          "data": {
            "text/plain": [
              "[<matplotlib.lines.Line2D at 0x7f50b0341d80>]"
            ]
          },
          "metadata": {},
          "execution_count": 104
        },
        {
          "output_type": "execute_result",
          "data": {
            "text/plain": [
              "Text(0.5, 0, 'Epoch')"
            ]
          },
          "metadata": {},
          "execution_count": 104
        },
        {
          "output_type": "execute_result",
          "data": {
            "text/plain": [
              "Text(0, 0.5, 'Linf Norm')"
            ]
          },
          "metadata": {},
          "execution_count": 104
        },
        {
          "output_type": "execute_result",
          "data": {
            "text/plain": [
              "(0.001, 100.0)"
            ]
          },
          "metadata": {},
          "execution_count": 104
        },
        {
          "output_type": "execute_result",
          "data": {
            "text/plain": [
              "<matplotlib.legend.Legend at 0x7f50d080feb0>"
            ]
          },
          "metadata": {},
          "execution_count": 104
        },
        {
          "output_type": "display_data",
          "data": {
            "text/plain": [
              "<Figure size 1200x800 with 2 Axes>"
            ],
            "image/png": "[encoded data removed]"
          },
          "metadata": {}
        },
        {
          "output_type": "execute_result",
          "data": {
            "text/plain": [
              "<Figure size 800x600 with 0 Axes>"
            ]
          },
          "metadata": {},
          "execution_count": 104
        },
        {
          "output_type": "execute_result",
          "data": {
            "text/plain": [
              "[<matplotlib.lines.Line2D at 0x7f50a716f8b0>]"
            ]
          },
          "metadata": {},
          "execution_count": 104
        },
        {
          "output_type": "execute_result",
          "data": {
            "text/plain": [
              "[<matplotlib.lines.Line2D at 0x7f50a716fb20>]"
            ]
          },
          "metadata": {},
          "execution_count": 104
        },
        {
          "output_type": "execute_result",
          "data": {
            "text/plain": [
              "Text(0.5, 0, 'Epoch')"
            ]
          },
          "metadata": {},
          "execution_count": 104
        },
        {
          "output_type": "execute_result",
          "data": {
            "text/plain": [
              "Text(0, 0.5, 'MSE Loss')"
            ]
          },
          "metadata": {},
          "execution_count": 104
        },
        {
          "output_type": "execute_result",
          "data": {
            "text/plain": [
              "(1e-07, 1.0)"
            ]
          },
          "metadata": {},
          "execution_count": 104
        },
        {
          "output_type": "execute_result",
          "data": {
            "text/plain": [
              "<matplotlib.legend.Legend at 0x7f50b01765f0>"
            ]
          },
          "metadata": {},
          "execution_count": 104
        },
        {
          "output_type": "display_data",
          "data": {
            "text/plain": [
              "<Figure size 800x600 with 1 Axes>"
            ],
            "image/png": "[encoded data removed]"
          },
          "metadata": {}
        }
      ],
      "source": [
        "# Plotting the losses and metrics for the best network \n",
        "plt.figure(figsize=(12, 8))\n",
        "#plt.subplot(2, 2, 1)\n",
        "#plt.plot(train_losses, label=\"Train Loss\")\n",
        "#plt.plot(test_losses, label=\"Test Loss\")\n",
        "#plt.xlabel(\"Epoch\")\n",
        "#plt.ylabel(\"Loss\")\n",
        "#plt.legend()\n",
        "plt.subplot(2, 2, 2)\n",
        "plt.plot([m[\"l1_norm\"] for m in train_metrics], label=\"Train L1 Norm\")\n",
        "plt.plot([m[\"l1_norm\"] for m in test_metrics], label=\"Test L1 Norm\")\n",
        "plt.xlabel(\"Epoch\")\n",
        "plt.ylabel(\"L1 Norm\")\n",
        "# Added setting the vertical axis to be in powers of 10\n",
        "plt.yscale(\"log\")\n",
        "# Added setting the vertical axis limits to be from 10^-7 to 10^0\n",
        "plt.ylim(1e-3, 1e2)\n",
        "plt.legend()\n",
        "plt.subplot(2, 2, 3)\n",
        "plt.plot([m[\"linf_norm\"] for m in train_metrics], label=\"Train Linf Norm\")\n",
        "plt.plot([m[\"linf_norm\"] for m in test_metrics], label=\"Test Linf Norm\")\n",
        "plt.xlabel(\"Epoch\")\n",
        "plt.ylabel(\"Linf Norm\")\n",
        "# Added setting the vertical axis to be in powers of 10\n",
        "plt.yscale(\"log\")\n",
        "# Added setting the vertical axis limits to be from 10^-7 to 10^0\n",
        "plt.ylim(1e-3, 1e2)\n",
        "plt.legend()\n",
        "plt.tight_layout()\n",
        "plt.show()\n",
        "\n",
        "# Added plotting MSE of training data and MSE of test data in one plot \n",
        "plt.figure(figsize=(8, 6))\n",
        "plt.plot(train_losses,label=\"training data\")\n",
        "plt.plot(test_losses,label=\"test data\")\n",
        "#if scheduler is not None:\n",
        "#    plt.plot([scheduler.get_last_lr()[0] for _ in range(n_epochs)], label=\"Learning rate\") \n",
        "plt.xlabel(\"Epoch\")\n",
        "plt.ylabel(f\"{loss_name} Loss\")\n",
        "# Added setting the vertical axis to be in powers of 10\n",
        "plt.yscale(\"log\")\n",
        "# Added setting the vertical axis limits to be from 10^-7 to 10^0\n",
        "plt.ylim(1e-7, 1e0)\n",
        "plt.legend()\n",
        "plt.show()"
      ]
    },
    {
      "cell_type": "markdown",
      "metadata": {
        "id": "tiEDutxIUZig"
      },
      "source": [
        "## Loading"
      ]
    },
    {
      "cell_type": "code",
      "execution_count": 105,
      "metadata": {
        "colab": {
          "base_uri": "https://localhost:8080/"
        },
        "id": "p7Mj990wUZih",
        "outputId": "330e6cf7-83f2-4f69-de72-a61872f71c46"
      },
      "outputs": [
        {
          "output_type": "execute_result",
          "data": {
            "text/plain": [
              "<All keys matched successfully>"
            ]
          },
          "metadata": {},
          "execution_count": 105
        }
      ],
      "source": [
        "import json\n",
        "import pandas as pd\n",
        "\n",
        "# load the dictionary from the .json file\n",
        "with open(\"var_dict.json\", \"r\") as f:\n",
        "  var_dict_loaded = json.load(f)\n",
        "\n",
        "# extract the variables from the dictionary\n",
        "batch_size_loaded = var_dict_loaded[\"batch_size\"]\n",
        "n_epochs_loaded = var_dict_loaded[\"n_epochs\"]\n",
        "loss_name_loaded = var_dict_loaded[\"loss_name\"]\n",
        "optimizer_name_loaded = var_dict_loaded[\"optimizer_name\"]\n",
        "scheduler_name_loaded = var_dict_loaded[\"scheduler_name\"]\n",
        "n_units_loaded = var_dict_loaded[\"n_units\"]\n",
        "n_layers_loaded = var_dict_loaded[\"n_layers\"]\n",
        "hidden_activation_name_loaded = var_dict_loaded[\"hidden_activation_name\"]\n",
        "output_activation_name_loaded = var_dict_loaded[\"output_activation_name\"]\n",
        "lr_loaded = var_dict_loaded[\"lr\"]\n",
        "\n",
        "# create the activation functions from their names\n",
        "if hidden_activation_name_loaded == \"ReLU\":\n",
        "  hidden_activation_loaded = nn.ReLU()\n",
        "elif hidden_activation_name_loaded == \"LeakyReLU\":\n",
        "  hidden_activation_loaded = nn.LeakyReLU() \n",
        "elif hidden_activation_name_loaded == \"ELU\":\n",
        "  hidden_activation_loaded = nn.ELU() \n",
        "\n",
        "# We used to have options here, but since we have a regression problem with continuous output, we only use Linear.\n",
        "output_activation_loaded = nn.Identity()\n",
        "\n",
        "# load the network from the .pth file\n",
        "net_loaded = Net(n_layers_loaded, n_units_loaded, hidden_activation_loaded, output_activation_loaded).to(device)\n",
        "if torch.cuda.is_available():\n",
        " net_loaded.load_state_dict(torch.load(\"net.pth\"))\n",
        "else: \n",
        "  net_loaded.load_state_dict(torch.load(\"net.pth\", map_location=torch.device('cpu')))\n",
        "\n",
        "\n",
        "# Creating the loss function from its name\n",
        "if loss_name_loaded == \"MSE\":\n",
        "    loss_fn_loaded = nn.MSELoss()\n",
        "elif loss_name_loaded == \"MAE\":\n",
        "    loss_fn_loaded = nn.L1Loss()\n",
        "elif loss_name_loaded == \"Huber\":\n",
        "    loss_fn_loaded = nn.SmoothL1Loss() \n",
        "elif loss_name_loaded == \"Quantile\":\n",
        "    def quantile_loss(y_pred, y_true, q=0.5):\n",
        "        e = y_pred - y_true\n",
        "        return torch.mean(torch.max(q*e, (q-1)*e))\n",
        "    loss_fn_loaded = quantile_loss\n",
        "else:\n",
        "    def log_cosh_loss(y_pred, y_true):\n",
        "        return torch.mean(torch.log(torch.cosh(y_pred - y_true)))\n",
        "    loss_fn_loaded = log_cosh_loss\n",
        "\n",
        "# load the optimizer from the .pth file\n",
        "if torch.cuda.is_available():\n",
        "  optimizer_loaded_state_dict = torch.load(\"optimizer.pth\")\n",
        "else:\n",
        "  optimizer_loaded_state_dict = torch.load(\"optimizer.pth\", map_location=torch.device('cpu'))\n",
        "\n",
        "if optimizer_name_loaded == \"SGD\":\n",
        "  # Added getting the weight decay and momentum parameters from the state dict\n",
        "  weight_decay_loaded = optimizer_loaded_state_dict[\"param_groups\"][0][\"weight_decay\"]\n",
        "  momentum_loaded = optimizer_loaded_state_dict[\"param_groups\"][0][\"momentum\"]\n",
        "  optimizer_loaded = optim.SGD(net_loaded.parameters(), lr=lr_loaded, weight_decay=weight_decay_loaded, momentum=momentum_loaded)\n",
        "elif optimizer_name_loaded == \"Adam\":\n",
        "  # Added getting the weight decay and beta parameters from the state dict\n",
        "  weight_decay_loaded = optimizer_loaded_state_dict[\"param_groups\"][0][\"weight_decay\"]\n",
        "  beta1_loaded = optimizer_loaded_state_dict[\"param_groups\"][0][\"betas\"][0]\n",
        "  beta2_loaded = optimizer_loaded_state_dict[\"param_groups\"][0][\"betas\"][1]\n",
        "  optimizer_loaded = optim.Adam(net_loaded.parameters(), lr=lr_loaded, weight_decay=weight_decay_loaded, betas=(beta1_loaded, beta2_loaded))\n",
        "elif optimizer_name_loaded == \"RMSprop\":\n",
        "  optimizer_loaded = optim.RMSprop(net_loaded.parameters(), lr=lr_loaded)\n",
        "else:\n",
        "  # Added loading the Adagrad optimizer\n",
        "  optimizer_loaded = optim.Adagrad(net_loaded.parameters(), lr=lr_loaded)\n",
        "optimizer_loaded.load_state_dict(optimizer_loaded_state_dict)\n",
        "\n",
        "# load the scheduler from the .pth file\n",
        "if torch.cuda.is_available():\n",
        "  scheduler_loaded_state_dict = torch.load(\"scheduler.pth\")\n",
        "else: \n",
        "  scheduler_loaded_state_dict = torch.load(\"scheduler.pth\", map_location=torch.device('cpu'))\n",
        "\n",
        "if scheduler_name_loaded == \"StepLR\":\n",
        "  # Added getting the step_size and gamma parameters from the state dict\n",
        "  step_size_loaded = scheduler_loaded_state_dict[\"step_size\"]\n",
        "  gamma_loaded = scheduler_loaded_state_dict[\"gamma\"]\n",
        "  scheduler_loaded = optim.lr_scheduler.StepLR(optimizer_loaded, step_size=step_size_loaded, gamma=gamma_loaded)\n",
        "elif scheduler_name_loaded == \"ExponentialLR\":\n",
        "  # Added getting the gamma parameter from the state dict\n",
        "  gamma_loaded = scheduler_loaded_state_dict[\"gamma\"]\n",
        "  scheduler_loaded = optim.lr_scheduler.ExponentialLR(optimizer_loaded, gamma=gamma_loaded)\n",
        "elif scheduler_name_loaded == \"CosineAnnealingLR\":\n",
        "  # Added getting the T_max parameter from the state dict\n",
        "  T_max_loaded = scheduler_loaded_state_dict[\"T_max\"]\n",
        "  scheduler_loaded = optim.lr_scheduler.CosineAnnealingLR(optimizer_loaded, T_max=T_max_loaded)\n",
        "elif scheduler_name_loaded == \"ReduceLROnPlateau\":\n",
        "  # Added getting the mode, factor, patience, threshold and min_lr parameters from the state dict\n",
        "  mode_loaded = scheduler_loaded_state_dict[\"mode\"]\n",
        "  factor_loaded = scheduler_loaded_state_dict[\"factor\"]\n",
        "  patience_loaded = scheduler_loaded_state_dict[\"patience\"]\n",
        "  threshold_loaded = scheduler_loaded_state_dict[\"threshold\"]\n",
        "  # TODO: I had [0] after [\"min_lrs\"] here, but I reason it to be a typo, as none of the other subparameters have it. Verify that this was indeed a typo.\n",
        "  min_lr_loaded = scheduler_loaded_state_dict[\"min_lrs\"]\n",
        "  scheduler_loaded = optim.lr_scheduler.ReduceLROnPlateau(\n",
        "                    optimizer_loaded, mode=mode_loaded, factor=factor_loaded, patience=patience_loaded, threshold=threshold_loaded, min_lr=min_lr_loaded\n",
        "                )\n",
        "elif scheduler_name_loaded == \"CyclicLR\":  # Added CyclicLR\n",
        "    base_lr_loaded = scheduler_loaded_state_dict[\"base_lr\"]\n",
        "    max_lr_loaded = scheduler_loaded_state_dict[\"max_lr\"]\n",
        "    step_size_up_loaded = scheduler_loaded_state_dict[\"step_size_up\"]\n",
        "    scheduler_loaded = optim.lr_scheduler.CyclicLR(\n",
        "                    optimizer, base_lr=base_lr_loaded, max_lr=max_lr_loaded, step_size_up=step_size_up_loaded\n",
        "                )\n",
        "else:\n",
        "  scheduler_loaded = None\n",
        "\n",
        "if scheduler_loaded is not None:\n",
        "  # Added loading the state dict to the scheduler_loaded\n",
        "  scheduler_loaded.load_state_dict(scheduler_loaded_state_dict)\n",
        "\n",
        "# Loading the output of the training using pandas\n",
        "train_df_loaded = pd.read_csv(\"train_output.csv\")\n",
        "train_losses_loaded = train_df_loaded[\"train_loss\"].tolist()\n",
        "test_losses_loaded = train_df_loaded[\"test_loss\"].tolist()\n",
        "train_metrics_loaded = [\n",
        "    {\n",
        "        \"l1_norm\": train_df_loaded[\"train_l1_norm\"][i],\n",
        "        \"linf_norm\": train_df_loaded[\"train_linf_norm\"][i],\n",
        "    }\n",
        "    for i in range(len(train_df_loaded))\n",
        "]\n",
        "test_metrics_loaded = [\n",
        "    {\n",
        "        \"l1_norm\": train_df_loaded[\"test_l1_norm\"][i],\n",
        "        \"linf_norm\": train_df_loaded[\"test_linf_norm\"][i],\n",
        "    }\n",
        "    for i in range(len(train_df_loaded))\n",
        "]"
      ]
    },
    {
      "cell_type": "code",
      "execution_count": 106,
      "metadata": {
        "colab": {
          "base_uri": "https://localhost:8080/"
        },
        "id": "GQ_fcj7zUZii",
        "outputId": "e6f46902-7e0a-4082-faf8-11eddc3e3e51"
      },
      "outputs": [
        {
          "output_type": "stream",
          "name": "stdout",
          "text": [
            "skipping\n"
          ]
        }
      ],
      "source": [
        "%%script echo skipping\n",
        "\n",
        "batch_size_loaded\n",
        "n_epochs_loaded\n",
        "loss_name_loaded\n",
        "optimizer_name_loaded\n",
        "scheduler_name_loaded\n",
        "n_units_loaded\n",
        "n_layers_loaded\n",
        "hidden_activation_name_loaded\n",
        "output_activation_name_loaded\n",
        "lr_loaded\n",
        "hidden_activation_loaded\n",
        "output_activation_loaded\n",
        "net_loaded\n",
        "net_loaded.__dict__ # print the subparameters of the network\n",
        "loss_fn_loaded\n",
        "optimizer_loaded\n",
        "optimizer_loaded.__dict__ # print the subparameters of the optimizer\n",
        "scheduler_loaded\n",
        "scheduler_loaded.__dict__ # print the subparameters of the scheduler\n",
        "train_losses_loaded\n",
        "test_losses_loaded\n",
        "train_metrics_loaded\n",
        "test_metrics_loaded"
      ]
    },
    {
      "cell_type": "code",
      "execution_count": 107,
      "metadata": {
        "id": "DTePHnUsHN8m",
        "outputId": "a7f2d399-de99-472c-ad7e-021357b21d4a",
        "colab": {
          "base_uri": "https://localhost:8080/"
        }
      },
      "outputs": [
        {
          "output_type": "execute_result",
          "data": {
            "text/plain": [
              "476009490.1461125"
            ]
          },
          "metadata": {},
          "execution_count": 107
        },
        {
          "output_type": "execute_result",
          "data": {
            "text/plain": [
              "423652305.7774"
            ]
          },
          "metadata": {},
          "execution_count": 107
        },
        {
          "output_type": "execute_result",
          "data": {
            "text/plain": [
              "19.924924588012697"
            ]
          },
          "metadata": {},
          "execution_count": 107
        },
        {
          "output_type": "execute_result",
          "data": {
            "text/plain": [
              "242.1516534667969"
            ]
          },
          "metadata": {},
          "execution_count": 107
        }
      ],
      "source": [
        "train_losses_loaded[-1]\n",
        "test_losses_loaded[-1]\n",
        "test_metrics_loaded[-1]['l1_norm']\n",
        "test_metrics_loaded[-1]['linf_norm']\n",
        "# print(f'Error is {test_metrics_loaded[-1][\"l1_norm\"] / (3.84e-4)} times bigger than in Dieselhorst et al.')\n",
        "# print(f'Error is {test_metrics_loaded[-1][\"linf_norm\"] / (8.14e-3)} times bigger than in Dieselhorst et al.')"
      ]
    },
    {
      "cell_type": "markdown",
      "metadata": {
        "id": "2gGUowqJHN8m"
      },
      "source": [
        "### Visualize loaded results"
      ]
    },
    {
      "cell_type": "markdown",
      "metadata": {
        "id": "vwLGR1aSUZik"
      },
      "source": [
        "Let us verify correct loading of the train and test metrics by visualizing them again but now through the loaded values. Likewise for the train and test losses."
      ]
    },
    {
      "cell_type": "code",
      "execution_count": 108,
      "metadata": {
        "id": "sXiNgLsmUZil"
      },
      "outputs": [],
      "source": [
        "%config InteractiveShell.ast_node_interactivity = \"last_expr_or_assign\""
      ]
    },
    {
      "cell_type": "code",
      "execution_count": 109,
      "metadata": {
        "colab": {
          "base_uri": "https://localhost:8080/",
          "height": 1000
        },
        "id": "sgq4WfSiUZil",
        "outputId": "07164a1b-73ba-4996-9f62-7910e584c2a0"
      },
      "outputs": [
        {
          "output_type": "display_data",
          "data": {
            "text/plain": [
              "<Figure size 640x480 with 2 Axes>"
            ],
            "image/png": "[encoded data removed]"
          },
          "metadata": {}
        },
        {
          "output_type": "display_data",
          "data": {
            "text/plain": [
              "<Figure size 800x600 with 1 Axes>"
            ],
            "image/png": "[encoded data removed]"
          },
          "metadata": {}
        }
      ],
      "source": [
        "# Plotting the losses and metrics for the best network plt.figure(figsize=(12, \n",
        "#plt.subplot(2, 2, 1)\n",
        "#plt.plot(train_losses_loaded, label=\"Train Loss\")\n",
        "#plt.plot(test_losses_loaded, label=\"Test Loss\")\n",
        "#plt.xlabel(\"Epoch\")\n",
        "#plt.ylabel(\"Loss\")\n",
        "#plt.legend()\n",
        "plt.subplot(2, 2, 2)\n",
        "plt.plot([m[\"l1_norm\"] for m in train_metrics_loaded], label=\"Train L1 Norm\")\n",
        "plt.plot([m[\"l1_norm\"] for m in test_metrics_loaded], label=\"Test L1 Norm\")\n",
        "plt.xlabel(\"Epoch\")\n",
        "plt.ylabel(\"L1 Norm\")\n",
        "# Added setting the vertical axis to be in powers of 10\n",
        "plt.yscale(\"log\")\n",
        "# Added setting the vertical axis limits to be from 10^-7 to 10^0\n",
        "plt.ylim(1e-3, 1e2)\n",
        "plt.legend()\n",
        "plt.subplot(2, 2, 3)\n",
        "plt.plot([m[\"linf_norm\"] for m in train_metrics_loaded], label=\"Train Linf Norm\")\n",
        "plt.plot([m[\"linf_norm\"] for m in test_metrics_loaded], label=\"Test Linf Norm\")\n",
        "plt.xlabel(\"Epoch\")\n",
        "plt.ylabel(\"Linf Norm\")\n",
        "# Added setting the vertical axis to be in powers of 10\n",
        "plt.yscale(\"log\")\n",
        "# Added setting the vertical axis limits to be from 10^-7 to 10^0\n",
        "plt.ylim(1e-3, 1e2)\n",
        "plt.legend()\n",
        "plt.tight_layout()\n",
        "plt.show()\n",
        "\n",
        "# Added plotting MSE of training data and MSE of test data in one plot \n",
        "plt.figure(figsize=(8, 6))\n",
        "plt.plot(train_losses_loaded,label=\"training data\")\n",
        "plt.plot(test_losses_loaded,label=\"test data\")\n",
        "#if scheduler is not None:\n",
        "#    plt.plot([scheduler.get_last_lr()[0] for _ in range(n_epochs)], label=\"Learning rate\") \n",
        "plt.xlabel(\"Epoch\")\n",
        "plt.ylabel(f\"{loss_name_loaded} Loss\")\n",
        "# Added setting the vertical axis to be in powers of 10\n",
        "plt.yscale(\"log\")\n",
        "# Added setting the vertical axis limits to be from 10^-7 to 10^0\n",
        "plt.ylim(1e-7, 1e0)\n",
        "plt.legend()\n",
        "plt.show()\n"
      ]
    },
    {
      "cell_type": "code",
      "execution_count": 110,
      "metadata": {
        "id": "lkgLqJ_UUZim"
      },
      "outputs": [],
      "source": [
        "%config InteractiveShell.ast_node_interactivity = \"all\""
      ]
    },
    {
      "cell_type": "markdown",
      "metadata": {
        "id": "qcnvx5rHHN8o"
      },
      "source": [
        "## Counting the number of parameters in the network."
      ]
    },
    {
      "cell_type": "code",
      "execution_count": 111,
      "metadata": {
        "id": "RBJiOe5qHN8o",
        "outputId": "43e5e328-8431-42bc-fe00-22affe2296fe",
        "colab": {
          "base_uri": "https://localhost:8080/"
        }
      },
      "outputs": [
        {
          "output_type": "execute_result",
          "data": {
            "text/plain": [
              "Net(\n",
              "  (hidden_activation): ELU(alpha=1.0)\n",
              "  (output_activation): Identity()\n",
              "  (layers): ModuleList(\n",
              "    (0): Linear(in_features=14, out_features=2684, bias=True)\n",
              "    (1): Linear(in_features=2684, out_features=3993, bias=True)\n",
              "    (2): Linear(in_features=3993, out_features=1, bias=True)\n",
              "  )\n",
              ")"
            ]
          },
          "metadata": {},
          "execution_count": 111
        },
        {
          "output_type": "stream",
          "name": "stdout",
          "text": [
            "The model has 10765459 parameters.\n"
          ]
        }
      ],
      "source": [
        "net_loaded.eval()\n",
        "def count_parameters(model):\n",
        "    return sum(p.numel() for p in model.parameters() if p.requires_grad)\n",
        "print(f'The model has {count_parameters(net_loaded)} parameters.')"
      ]
    },
    {
      "cell_type": "markdown",
      "metadata": {
        "id": "SxuzVSnlUZin"
      },
      "source": [
        "## Evaluating the network on arbirary input\n",
        "### Comparing `net` and `net_loaded`\n",
        "\n",
        "We compare `net` and `net_loaded` to confirm correct loading of the network. Note that `net` is only available if we have trained the model in this session."
      ]
    },
    {
      "cell_type": "code",
      "execution_count": 112,
      "metadata": {
        "id": "nVioRwKRHN8p",
        "outputId": "efe9bab8-6ca7-404f-932b-dca6efabf6fe",
        "colab": {
          "base_uri": "https://localhost:8080/"
        }
      },
      "outputs": [
        {
          "output_type": "execute_result",
          "data": {
            "text/plain": [
              "Net(\n",
              "  (hidden_activation): ELU(alpha=1.0)\n",
              "  (output_activation): Identity()\n",
              "  (layers): ModuleList(\n",
              "    (0): Linear(in_features=14, out_features=2684, bias=True)\n",
              "    (1): Linear(in_features=2684, out_features=3993, bias=True)\n",
              "    (2): Linear(in_features=3993, out_features=1, bias=True)\n",
              "  )\n",
              ")"
            ]
          },
          "metadata": {},
          "execution_count": 112
        }
      ],
      "source": [
        "#%%script echo skipping\n",
        "\n",
        "# Set the network to evaluation mode\n",
        "net.eval()"
      ]
    },
    {
      "cell_type": "code",
      "execution_count": 113,
      "metadata": {
        "id": "uGpqe-apHN8p",
        "outputId": "382db945-8fcb-4a11-9445-ea84be6df4fb",
        "colab": {
          "base_uri": "https://localhost:8080/"
        }
      },
      "outputs": [
        {
          "output_type": "execute_result",
          "data": {
            "text/plain": [
              "<bound method Module.eval of Net(\n",
              "  (hidden_activation): ELU(alpha=1.0)\n",
              "  (output_activation): Identity()\n",
              "  (layers): ModuleList(\n",
              "    (0): Linear(in_features=14, out_features=2684, bias=True)\n",
              "    (1): Linear(in_features=2684, out_features=3993, bias=True)\n",
              "    (2): Linear(in_features=3993, out_features=1, bias=True)\n",
              "  )\n",
              ")>"
            ]
          },
          "metadata": {},
          "execution_count": 113
        }
      ],
      "source": [
        "# Set the network to evaluation mode\n",
        "net_loaded.eval"
      ]
    },
    {
      "cell_type": "code",
      "execution_count": 114,
      "metadata": {
        "id": "Cn0tldYLHN8p",
        "outputId": "3826f80c-9fe3-4ed4-b00d-2a7db778cdd5",
        "colab": {
          "base_uri": "https://localhost:8080/"
        }
      },
      "outputs": [
        {
          "output_type": "stream",
          "name": "stdout",
          "text": [
            "Parameters are the same.\n",
            "Net device: cuda:0\n",
            "Net_loaded device: cuda:0\n"
          ]
        }
      ],
      "source": [
        "for p1, p2 in zip(net.parameters(), net_loaded.parameters()):\n",
        "    if p1.data.ne(p2.data).sum() > 0:\n",
        "        print(\"Parameters are NOT the same.\")\n",
        "        break\n",
        "else:\n",
        "    print(\"Parameters are the same.\")\n",
        "\n",
        "print(\"Net device:\", next(net.parameters()).device)\n",
        "print(\"Net_loaded device:\", next(net_loaded.parameters()).device)"
      ]
    },
    {
      "cell_type": "code",
      "execution_count": 115,
      "metadata": {
        "colab": {
          "base_uri": "https://localhost:8080/"
        },
        "id": "C0PLAA0DUZin",
        "outputId": "9ea7dd1d-a90d-41df-954f-9e508e682fe0"
      },
      "outputs": [
        {
          "output_type": "stream",
          "name": "stdout",
          "text": [
            "[Parameter containing:\n",
            "tensor([[-0.1102, -0.2260,  0.2210,  ...,  0.1806,  0.1634, -0.0592],\n",
            "        [-0.1848,  0.0794,  0.1032,  ..., -0.1316, -0.2036, -0.3844],\n",
            "        [-0.2403, -0.1794,  0.0614,  ...,  0.0506,  0.1524, -0.0633],\n",
            "        ...,\n",
            "        [-0.0109, -0.0152,  0.1485,  ..., -0.1274, -0.0179, -0.1198],\n",
            "        [-0.1235,  0.1366, -0.0143,  ..., -0.0541, -0.0054,  0.1603],\n",
            "        [-0.1072,  0.1553,  0.0076,  ...,  0.1423, -0.1334,  0.1910]],\n",
            "       device='cuda:0', requires_grad=True), Parameter containing:\n",
            "tensor([ 0.1425, -0.1944,  0.2456,  ...,  0.1476, -0.0988, -0.0566],\n",
            "       device='cuda:0', requires_grad=True), Parameter containing:\n",
            "tensor([[-0.0048,  0.0145, -0.0065,  ..., -0.0116, -0.0165,  0.0123],\n",
            "        [ 0.0104,  0.0093, -0.0124,  ...,  0.0139, -0.0144,  0.0117],\n",
            "        [-0.0147,  0.0239,  0.0021,  ..., -0.0392, -0.0121, -0.0324],\n",
            "        ...,\n",
            "        [-0.0101,  0.0069, -0.0082,  ...,  0.0130, -0.0127,  0.0042],\n",
            "        [-0.0188,  0.0088, -0.0049,  ..., -0.0067, -0.0163,  0.0078],\n",
            "        [ 0.0132,  0.0031,  0.0091,  ...,  0.0026, -0.0009, -0.0013]],\n",
            "       device='cuda:0', requires_grad=True), Parameter containing:\n",
            "tensor([-0.0976, -0.0566, -0.0528,  ...,  0.0547,  0.0313,  0.0482],\n",
            "       device='cuda:0', requires_grad=True), Parameter containing:\n",
            "tensor([[-0.0135, -0.0106, -0.0280,  ...,  0.0157, -0.0249,  0.0056]],\n",
            "       device='cuda:0', requires_grad=True), Parameter containing:\n",
            "tensor([0.0410], device='cuda:0', requires_grad=True)]\n"
          ]
        }
      ],
      "source": [
        "#%%script echo skipping\n",
        "\n",
        "print(list(net.parameters()))"
      ]
    },
    {
      "cell_type": "code",
      "execution_count": 116,
      "metadata": {
        "colab": {
          "base_uri": "https://localhost:8080/"
        },
        "id": "1NZ8iVA7UZio",
        "outputId": "b94af16d-f271-43d0-a48d-c6ddb690885d"
      },
      "outputs": [
        {
          "output_type": "stream",
          "name": "stdout",
          "text": [
            "[Parameter containing:\n",
            "tensor([[-0.1102, -0.2260,  0.2210,  ...,  0.1806,  0.1634, -0.0592],\n",
            "        [-0.1848,  0.0794,  0.1032,  ..., -0.1316, -0.2036, -0.3844],\n",
            "        [-0.2403, -0.1794,  0.0614,  ...,  0.0506,  0.1524, -0.0633],\n",
            "        ...,\n",
            "        [-0.0109, -0.0152,  0.1485,  ..., -0.1274, -0.0179, -0.1198],\n",
            "        [-0.1235,  0.1366, -0.0143,  ..., -0.0541, -0.0054,  0.1603],\n",
            "        [-0.1072,  0.1553,  0.0076,  ...,  0.1423, -0.1334,  0.1910]],\n",
            "       device='cuda:0', requires_grad=True), Parameter containing:\n",
            "tensor([ 0.1425, -0.1944,  0.2456,  ...,  0.1476, -0.0988, -0.0566],\n",
            "       device='cuda:0', requires_grad=True), Parameter containing:\n",
            "tensor([[-0.0048,  0.0145, -0.0065,  ..., -0.0116, -0.0165,  0.0123],\n",
            "        [ 0.0104,  0.0093, -0.0124,  ...,  0.0139, -0.0144,  0.0117],\n",
            "        [-0.0147,  0.0239,  0.0021,  ..., -0.0392, -0.0121, -0.0324],\n",
            "        ...,\n",
            "        [-0.0101,  0.0069, -0.0082,  ...,  0.0130, -0.0127,  0.0042],\n",
            "        [-0.0188,  0.0088, -0.0049,  ..., -0.0067, -0.0163,  0.0078],\n",
            "        [ 0.0132,  0.0031,  0.0091,  ...,  0.0026, -0.0009, -0.0013]],\n",
            "       device='cuda:0', requires_grad=True), Parameter containing:\n",
            "tensor([-0.0976, -0.0566, -0.0528,  ...,  0.0547,  0.0313,  0.0482],\n",
            "       device='cuda:0', requires_grad=True), Parameter containing:\n",
            "tensor([[-0.0135, -0.0106, -0.0280,  ...,  0.0157, -0.0249,  0.0056]],\n",
            "       device='cuda:0', requires_grad=True), Parameter containing:\n",
            "tensor([0.0410], device='cuda:0', requires_grad=True)]\n"
          ]
        }
      ],
      "source": [
        "print(list(net_loaded.parameters()))"
      ]
    },
    {
      "cell_type": "code",
      "execution_count": 117,
      "metadata": {
        "colab": {
          "base_uri": "https://localhost:8080/"
        },
        "id": "InGW0Xq6UZip",
        "outputId": "7f101fb2-68ca-4dff-ee1e-a1eeb502b1a3"
      },
      "outputs": [
        {
          "output_type": "stream",
          "name": "stdout",
          "text": [
            "rho.shape:  torch.Size([20])\n",
            "epsilon.shape:  torch.Size([20])\n"
          ]
        },
        {
          "output_type": "execute_result",
          "data": {
            "text/plain": [
              "tensor([[ 2.8799e-01,  5.4806e+02,  3.9029e+02,  6.1467e+02,  9.9123e+02,\n",
              "         -4.2664e+00,  7.2143e+00, -9.1295e+00,  9.2167e-01,  7.6716e-02,\n",
              "          5.1429e-03,  1.0551e+00,  9.1389e-04,  1.0237e+00],\n",
              "        [ 4.0179e+00,  8.5730e+01,  2.8510e+02,  7.0083e+02,  8.1146e+02,\n",
              "          2.6385e+00,  2.2436e+00,  5.9950e+00,  1.0273e+00,  2.6742e-02,\n",
              "          3.8555e-02,  9.6899e-01,  2.0033e-02,  9.5205e-01],\n",
              "        [ 6.9980e-01,  4.6977e+01,  1.0896e+02,  8.2306e+01,  1.3711e+02,\n",
              "          5.0048e+00, -8.4746e+00,  8.3885e+00,  9.5740e-01,  5.4877e-02,\n",
              "          5.2754e-02,  9.9846e-01,  9.5204e-02,  1.0219e+00],\n",
              "        [ 2.0106e-01,  3.4603e+01,  1.3917e+02,  1.2373e+01,  1.6382e+02,\n",
              "          3.8809e+00, -2.4523e+00, -5.7483e+00,  1.0579e+00,  9.8165e-02,\n",
              "          6.1005e-02,  9.9631e-01,  5.0285e-02,  9.1125e-01],\n",
              "        [ 1.2655e-01,  1.1636e+01,  3.2570e+01,  5.2224e+00,  4.5679e+01,\n",
              "          1.4602e+00,  9.1370e-01, -9.0100e+00,  1.0492e+00,  2.6967e-04,\n",
              "          8.5059e-02,  1.0213e+00,  9.0301e-02,  9.3817e-01],\n",
              "        [ 5.0500e-01,  5.8368e+00,  2.2292e+01,  1.2109e+01,  2.8958e+01,\n",
              "         -5.2320e+00, -7.1064e-01,  3.7182e+00,  1.0001e+00,  5.0067e-02,\n",
              "          3.9740e-02,  9.1657e-01,  6.4018e-02,  1.0056e+00],\n",
              "        [ 2.4372e+00,  4.0442e+01,  3.0656e+01, -1.9921e+01,  6.5724e+01,\n",
              "         -5.3964e+00,  1.4104e+00, -7.3896e+00,  9.0533e-01,  3.2690e-02,\n",
              "          6.9219e-02,  9.3520e-01,  9.5003e-02,  1.0245e+00],\n",
              "        [ 5.6782e-01,  6.1163e+01, -3.2697e+01,  5.0536e+01,  9.2968e+01,\n",
              "          2.1480e+00,  8.7544e+00,  3.7555e+00,  9.3235e-01,  4.9972e-02,\n",
              "          6.9548e-02,  9.4609e-01,  9.9220e-02,  9.5160e-01],\n",
              "        [ 1.6954e+00,  5.7088e+01,  7.4799e+01,  4.3795e+01,  9.7778e+01,\n",
              "          2.5583e+00,  3.5343e+00, -9.6445e+00,  9.9768e-01,  7.0136e-03,\n",
              "          6.4638e-02,  1.0575e+00,  9.2601e-02,  9.7564e-01],\n",
              "        [ 7.2953e+00,  2.0527e+03,  3.8617e+03,  4.2782e+03,  5.8879e+03,\n",
              "         -6.5492e+00, -1.4864e+00,  1.3936e+00,  1.0829e+00,  6.5879e-02,\n",
              "          3.3244e-02,  1.0253e+00,  6.7430e-02,  9.3522e-01],\n",
              "        [ 2.0027e+00, -1.5130e+00,  2.5906e+01, -3.6884e+00,  6.5390e+01,\n",
              "         -1.0334e+00, -5.2604e+00, -7.7657e+00,  9.7079e-01,  9.3458e-02,\n",
              "          5.9106e-03,  9.2423e-01,  8.6103e-02,  1.0823e+00],\n",
              "        [ 1.4623e+00, -1.2232e+00,  3.6536e+01,  3.8308e+01,  6.0878e+01,\n",
              "          5.3952e+00, -5.6320e+00,  5.6752e+00,  1.0640e+00,  9.1513e-02,\n",
              "          3.9934e-02,  9.3552e-01,  4.3976e-02,  9.0478e-01],\n",
              "        [ 5.7701e-01,  7.7083e+01,  7.7008e+01,  9.0276e+01,  1.4388e+02,\n",
              "         -5.1268e+00,  6.5173e+00, -3.3196e+00,  9.6204e-01,  3.2440e-02,\n",
              "          2.8009e-02,  1.0934e+00,  3.0303e-02,  1.0328e+00],\n",
              "        [ 1.5035e+00,  8.8988e+01,  6.4598e+01,  3.1029e+02,  4.6889e+02,\n",
              "          4.4430e-01, -4.0451e+00,  1.2895e+00,  9.4946e-01,  5.9613e-02,\n",
              "          7.2566e-02,  9.0199e-01,  7.5406e-02,  9.1212e-01],\n",
              "        [ 1.8383e+00,  7.2567e+02,  2.2767e+03,  2.3197e+03,  4.2235e+03,\n",
              "         -6.7910e+00,  3.6820e+00, -9.6526e+00,  1.0599e+00,  2.5721e-02,\n",
              "          6.8985e-02,  1.0788e+00,  4.9901e-03,  9.6404e-01],\n",
              "        [ 1.2023e+00,  1.5677e+01,  4.4863e+00, -3.5227e+00,  2.1958e+01,\n",
              "         -6.2635e-01, -2.5889e+00, -5.2026e+00,  1.0116e+00,  5.9726e-02,\n",
              "          1.5820e-02,  1.0295e+00,  6.6864e-02,  1.0830e+00],\n",
              "        [ 2.1776e+00, -9.3002e+00,  8.5645e+00,  1.8680e+01,  6.5799e+01,\n",
              "          9.4290e+00,  9.3064e-02,  5.7008e+00,  9.4397e-01,  8.4565e-02,\n",
              "          3.5583e-02,  9.3822e-01,  2.9311e-02,  1.0826e+00],\n",
              "        [ 1.9047e+00,  4.5255e+02,  3.6984e+02,  1.4306e+02,  7.3521e+02,\n",
              "         -6.5170e-01,  2.6115e+00,  7.6744e+00,  9.5340e-01,  5.7917e-02,\n",
              "          9.8777e-02,  1.0246e+00,  2.8188e-02,  9.0332e-01],\n",
              "        [ 3.3721e+00,  2.3392e+01, -2.7965e+00,  1.6486e+01,  2.9218e+01,\n",
              "         -2.2303e-01, -3.8642e+00, -3.3239e+00,  1.0781e+00,  5.6591e-02,\n",
              "          3.2507e-02,  1.0425e+00,  3.2808e-02,  1.0123e+00],\n",
              "        [ 1.5949e+00,  2.4503e+02,  2.4239e+02,  1.7983e+02,  4.2533e+02,\n",
              "         -4.8913e+00, -2.9887e+00,  4.3797e+00,  9.1275e-01,  1.8365e-02,\n",
              "          4.5812e-02,  1.0999e+00,  6.7982e-02,  9.6477e-01]], device='cuda:0')"
            ]
          },
          "metadata": {},
          "execution_count": 117
        }
      ],
      "source": [
        "rho_example, epsilon_example, vx_example, vy_example, vz_example, Bx_example, By_example, Bz_example, gxx_example, gxy_example, gxz_example, gyy_example, gyz_example, gzz_example = generate_samples(20)\n",
        "\n",
        "inputs =  generate_input_data(rho_example, epsilon_example, vx_example, vy_example, vz_example, Bx_example, By_example, Bz_example, gxx_example, gxy_example, gxz_example, gyy_example, gyz_example, gzz_example)\n",
        "inputs\n"
      ]
    },
    {
      "cell_type": "code",
      "execution_count": 118,
      "metadata": {
        "colab": {
          "base_uri": "https://localhost:8080/"
        },
        "id": "QVa1upmFUZip",
        "outputId": "d6e86784-c258-410f-d90a-e9155ec2b61c"
      },
      "outputs": [
        {
          "output_type": "execute_result",
          "data": {
            "text/plain": [
              "[tensor([[699.9990]], device='cuda:0', grad_fn=<AddmmBackward0>),\n",
              " tensor([[584.0151]], device='cuda:0', grad_fn=<AddmmBackward0>),\n",
              " tensor([[169.4828]], device='cuda:0', grad_fn=<AddmmBackward0>),\n",
              " tensor([[391.2941]], device='cuda:0', grad_fn=<AddmmBackward0>),\n",
              " tensor([[22.4833]], device='cuda:0', grad_fn=<AddmmBackward0>),\n",
              " tensor([[-27.8160]], device='cuda:0', grad_fn=<AddmmBackward0>),\n",
              " tensor([[-37.4302]], device='cuda:0', grad_fn=<AddmmBackward0>),\n",
              " tensor([[3.2200]], device='cuda:0', grad_fn=<AddmmBackward0>),\n",
              " tensor([[143.9876]], device='cuda:0', grad_fn=<AddmmBackward0>),\n",
              " tensor([[-2020.0352]], device='cuda:0', grad_fn=<AddmmBackward0>),\n",
              " tensor([[64.3700]], device='cuda:0', grad_fn=<AddmmBackward0>),\n",
              " tensor([[30.7517]], device='cuda:0', grad_fn=<AddmmBackward0>),\n",
              " tensor([[389.3636]], device='cuda:0', grad_fn=<AddmmBackward0>),\n",
              " tensor([[758.5206]], device='cuda:0', grad_fn=<AddmmBackward0>),\n",
              " tensor([[1358.0389]], device='cuda:0', grad_fn=<AddmmBackward0>),\n",
              " tensor([[-72.8629]], device='cuda:0', grad_fn=<AddmmBackward0>),\n",
              " tensor([[30.6088]], device='cuda:0', grad_fn=<AddmmBackward0>),\n",
              " tensor([[825.0208]], device='cuda:0', grad_fn=<AddmmBackward0>),\n",
              " tensor([[-138.4660]], device='cuda:0', grad_fn=<AddmmBackward0>),\n",
              " tensor([[694.9233]], device='cuda:0', grad_fn=<AddmmBackward0>)]"
            ]
          },
          "metadata": {},
          "execution_count": 118
        }
      ],
      "source": [
        "#%%script echo skipping\n",
        "\n",
        "# Pass the inputs to the network and get the outputs\n",
        "outputs = [net(input.unsqueeze(0)) for input in inputs]\n",
        "# Print the outputs\n",
        "outputs"
      ]
    },
    {
      "cell_type": "code",
      "execution_count": 119,
      "metadata": {
        "colab": {
          "base_uri": "https://localhost:8080/"
        },
        "id": "E-Xjfo7VUZir",
        "outputId": "a6371ec3-0378-403b-e195-3922d18a46d6"
      },
      "outputs": [
        {
          "output_type": "execute_result",
          "data": {
            "text/plain": [
              "[tensor([[699.9990]], device='cuda:0', grad_fn=<AddmmBackward0>),\n",
              " tensor([[584.0151]], device='cuda:0', grad_fn=<AddmmBackward0>),\n",
              " tensor([[169.4828]], device='cuda:0', grad_fn=<AddmmBackward0>),\n",
              " tensor([[391.2941]], device='cuda:0', grad_fn=<AddmmBackward0>),\n",
              " tensor([[22.4833]], device='cuda:0', grad_fn=<AddmmBackward0>),\n",
              " tensor([[-27.8160]], device='cuda:0', grad_fn=<AddmmBackward0>),\n",
              " tensor([[-37.4302]], device='cuda:0', grad_fn=<AddmmBackward0>),\n",
              " tensor([[3.2200]], device='cuda:0', grad_fn=<AddmmBackward0>),\n",
              " tensor([[143.9876]], device='cuda:0', grad_fn=<AddmmBackward0>),\n",
              " tensor([[-2020.0352]], device='cuda:0', grad_fn=<AddmmBackward0>),\n",
              " tensor([[64.3700]], device='cuda:0', grad_fn=<AddmmBackward0>),\n",
              " tensor([[30.7517]], device='cuda:0', grad_fn=<AddmmBackward0>),\n",
              " tensor([[389.3636]], device='cuda:0', grad_fn=<AddmmBackward0>),\n",
              " tensor([[758.5206]], device='cuda:0', grad_fn=<AddmmBackward0>),\n",
              " tensor([[1358.0389]], device='cuda:0', grad_fn=<AddmmBackward0>),\n",
              " tensor([[-72.8629]], device='cuda:0', grad_fn=<AddmmBackward0>),\n",
              " tensor([[30.6088]], device='cuda:0', grad_fn=<AddmmBackward0>),\n",
              " tensor([[825.0208]], device='cuda:0', grad_fn=<AddmmBackward0>),\n",
              " tensor([[-138.4660]], device='cuda:0', grad_fn=<AddmmBackward0>),\n",
              " tensor([[694.9233]], device='cuda:0', grad_fn=<AddmmBackward0>)]"
            ]
          },
          "metadata": {},
          "execution_count": 119
        }
      ],
      "source": [
        "\n",
        "# Pass the inputs to the network and get the outputs\n",
        "outputs = [net_loaded(input.unsqueeze(0)) for input in inputs]\n",
        "# Print the outputs\n",
        "outputs"
      ]
    },
    {
      "cell_type": "markdown",
      "metadata": {
        "id": "xjpIvdybUZis"
      },
      "source": [
        "## Porting the model to C++"
      ]
    },
    {
      "cell_type": "code",
      "execution_count": 120,
      "metadata": {
        "colab": {
          "base_uri": "https://localhost:8080/"
        },
        "id": "VMlEd4RoUZis",
        "outputId": "3037f8cf-861a-48cf-e5b5-3178a412af92"
      },
      "outputs": [
        {
          "output_type": "execute_result",
          "data": {
            "text/plain": [
              "Net(\n",
              "  (hidden_activation): ELU(alpha=1.0)\n",
              "  (output_activation): Identity()\n",
              "  (layers): ModuleList(\n",
              "    (0): Linear(in_features=14, out_features=2684, bias=True)\n",
              "    (1): Linear(in_features=2684, out_features=3993, bias=True)\n",
              "    (2): Linear(in_features=3993, out_features=1, bias=True)\n",
              "  )\n",
              ")"
            ]
          },
          "metadata": {},
          "execution_count": 120
        },
        {
          "output_type": "stream",
          "name": "stderr",
          "text": [
            "<ipython-input-94-96b416f81db5>:53: TracerWarning: Converting a tensor to a Python boolean might cause the trace to be incorrect. We can't record the data flow of Python values, so this value will be treated as a constant in the future. This means that the trace might not generalize to other inputs!\n",
            "  assert x.shape[1] == N_INPUTS, f\"x must have shape (batch_size, {N_INPUTS})\"\n"
          ]
        },
        {
          "output_type": "stream",
          "name": "stdout",
          "text": [
            "rho.shape:  torch.Size([1])\n",
            "epsilon.shape:  torch.Size([1])\n",
            "input shape:  torch.Size([1, 14])\n",
            "input:  tensor([[ 5.4311e-01,  7.8612e+01,  3.6270e+01,  3.6891e+01,  1.3131e+02,\n",
            "         -6.6629e+00,  1.8616e+00,  6.1906e+00,  9.8118e-01,  9.4091e-02,\n",
            "          2.0352e-02,  9.5584e-01,  5.0283e-03,  9.4602e-01]], device='cuda:0')\n",
            "Output: tensor([[445.2259]], device='cuda:0', grad_fn=<AddmmBackward0>)\n"
          ]
        }
      ],
      "source": [
        "import torch.jit\n",
        "\n",
        "# Creating a dummy input tensor of shape (1, 5) to trace the model\n",
        "dummy_input = torch.randn(1, N_INPUTS).to(device)\n",
        "\n",
        "# Ensure that net_loaded is in evaluation mode.\n",
        "net_loaded.eval()\n",
        "\n",
        "# Tracing the model using the torch.jit.trace function\n",
        "traced_model = torch.jit.trace(net_loaded, dummy_input)\n",
        "\n",
        "# Saving the traced model to a file named \"net.pt\"\n",
        "traced_model.save(\"net.pt\")\n",
        "save_file(\"net.pt\")\n",
        "\n",
        "example_input_to_validate_correct_export_and_import = generate_input_data(*generate_samples(1))\n",
        "print(\"input shape: \", example_input_to_validate_correct_export_and_import.shape)\n",
        "print(\"input: \", example_input_to_validate_correct_export_and_import)\n",
        "print(\"Output:\", net_loaded(example_input_to_validate_correct_export_and_import))"
      ]
    }
  ],
  "metadata": {
    "accelerator": "GPU",
    "colab": {
      "gpuType": "T4",
      "provenance": [],
      "toc_visible": true
    },
    "kernelspec": {
      "display_name": "Python 3",
      "name": "python3"
    },
    "language_info": {
      "codemirror_mode": {
        "name": "ipython",
        "version": 3
      },
      "file_extension": ".py",
      "mimetype": "text/x-python",
      "name": "python",
      "nbconvert_exporter": "python",
      "pygments_lexer": "ipython3",
      "version": "3.11.3"
    },
    "orig_nbformat": 4
  },
  "nbformat": 4,
  "nbformat_minor": 0
}