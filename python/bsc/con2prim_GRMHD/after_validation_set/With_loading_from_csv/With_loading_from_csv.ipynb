{
  "cells": [
    {
      "cell_type": "markdown",
      "metadata": {
        "id": "TPvB1xoSUZhR"
      },
      "source": [
        "# Neural network to learn conservative-to-primitive conversion in relativistic hydrodynamics"
      ]
    },
    {
      "cell_type": "markdown",
      "metadata": {
        "id": "MAmcT4v2HN8L"
      },
      "source": [
        "## How to use this notebook\n",
        "\n",
        "### Local installation\n",
        "\n",
        "1. Install required packages with `pip install -r requirements.txt` to your desired environment.\n",
        "2. If a script version of this notebook is desired, comment (not uncomment) the first line of `nbconvert` cell.\n",
        "\n",
        "### Colab installation\n",
        "\n",
        "1.  Comment (not uncomment) the first line of the drive mounting cell.\n",
        "2.  Comment (not uncomment) the first line of the `pip install` cell.\n",
        "\n",
        "<!-- - For colab we also want to set the runtime to GPU by clicking _Change runtime_ in the _Runtime_ menu, and -->\n",
        "<!-- - We want to wait for the google drive connection popup to appear and follow the instructions. -->\n",
        "\n",
        "### Loading / Generating data\n",
        "3. Set `LOAD_DATA_FROM_CSV` to `True` / `False` to load data from csv files / generate data in this notebook.\n",
        "\n",
        "### Training without optimization\n",
        "\n",
        "4. Set `OPTIMIZE = False` in section _Constants and flags to set_.\n",
        "5. Run the entire notebook.\n",
        "\n",
        "### Training with optimization\n",
        "\n",
        "4. Set `OPTIMIZE = True` in section _Constants and flags to set_.\n",
        "5. Run the entire notebook.\n",
        "\n",
        "### Loading an already trained model\n",
        "\n",
        "4. Run cells in section _Initialization_.\n",
        "5. Run cells with definitions in section _Input data and labels_.\n",
        "6. Run cell with the definition of _Net_ in section _Defining the neural network_.\n",
        "7. Make sure the `net.pth`, `optimizer.pth`, `scheduler.pth`, `var_dict.json` and `train_output.csv` files are in the directory containing this notebook.\n",
        "8. Run the cells in section _Loading_ and continue from there.\n",
        "\n",
        "### Generating the C++ model\n",
        "\n",
        "9. Run section _Porting the model to C++_, this requires a model to be loaded.\n",
        "10. Set the path to the `net.pt` file in the C++ source file.\n",
        "11. `mkdir build && cd build`,\n",
        "12. Configure a `CMakeLists.txt` file as is done [here](https://pytorch.org/cppdocs/installing.html).\n",
        "13. `cmake -DCMAKE_PREFIX_PATH=/path/to/libtorch/ ..`,\n",
        "14. Compile and run, e.g. `cmake --build . --config release && ./<executable name>`"
      ]
    },
    {
      "cell_type": "markdown",
      "metadata": {
        "id": "eR_sqREjHN8M"
      },
      "source": [
        "## Initialization"
      ]
    },
    {
      "cell_type": "markdown",
      "metadata": {
        "id": "Qzpmw7FtHN8M"
      },
      "source": [
        "\n",
        "Use this first cell to **convert this notebook** to a python script."
      ]
    },
    {
      "cell_type": "code",
      "execution_count": 4,
      "metadata": {
        "colab": {
          "base_uri": "https://localhost:8080/"
        },
        "id": "eqdgdNLHUZhV",
        "outputId": "2598564b-48c6-464d-a3d6-9929e060e619",
        "tags": [
          "remove_cell"
        ]
      },
      "outputs": [
        {
          "name": "stdout",
          "output_type": "stream",
          "text": [
            "skipping\n"
          ]
        }
      ],
      "source": [
        "%%scr#ipt echo skipping\n",
        "\n",
        "!jupyter nbconvert pt1_before_restructuring.ipynb --TagRemovePreprocessor.enabled=True --TagRemovePreprocessor.remove_cell_tags='{\"remove_cell\"}' --to script"
      ]
    },
    {
      "cell_type": "markdown",
      "metadata": {
        "id": "nzcUr0LnUZhw"
      },
      "source": [
        "Next some cells for working on **google colab**,"
      ]
    },
    {
      "cell_type": "code",
      "execution_count": 5,
      "metadata": {
        "id": "McIPwo_EHN8P"
      },
      "outputs": [],
      "source": [
        "import os\n",
        "import shutil\n",
        "\n",
        "# check if the drive is mounted\n",
        "drive_mounted = os.path.exists(\"/content/drive\")\n",
        "# change this to your desired folder\n",
        "drive_folder = \"/content/drive/My Drive/bsc/con2prim_GRMHD/after_validation_set\"\n",
        "\n",
        "# define a function to save a file to the drive or the current directory\n",
        "def save_file(file_name):\n",
        "  if drive_mounted:\n",
        "    # save the file to the drive folder\n",
        "    file_path = os.path.join(drive_folder, file_name)\n",
        "    # copy the file from the current directory to the drive folder\n",
        "    shutil.copyfile(file_name, file_path)\n",
        "  else:\n",
        "    # do nothing as the file is already in the current directory\n",
        "    pass\n"
      ]
    },
    {
      "cell_type": "code",
      "execution_count": 6,
      "metadata": {
        "colab": {
          "base_uri": "https://localhost:8080/"
        },
        "id": "ecHw2_xlUZhx",
        "outputId": "4974558b-54b0-4e74-abf6-2090947aa8e6"
      },
      "outputs": [
        {
          "name": "stdout",
          "output_type": "stream",
          "text": [
            "skipping\n"
          ]
        }
      ],
      "source": [
        "%%script echo skipping\n",
        "\n",
        "from google.colab import drive\n",
        "drive.mount('/content/drive')"
      ]
    },
    {
      "cell_type": "code",
      "execution_count": 7,
      "metadata": {
        "colab": {
          "base_uri": "https://localhost:8080/"
        },
        "id": "T1rcStMLUZhy",
        "outputId": "085fcd0c-69c0-4590-da13-cd6f046989d9"
      },
      "outputs": [
        {
          "name": "stdout",
          "output_type": "stream",
          "text": [
            "skipping\n"
          ]
        }
      ],
      "source": [
        "%%script echo skipping\n",
        "\n",
        "!pip install optuna tensorboard tensorboardX"
      ]
    },
    {
      "cell_type": "markdown",
      "metadata": {
        "id": "djyinQUpHN8R"
      },
      "source": [
        "Importing the **libraries**,"
      ]
    },
    {
      "cell_type": "code",
      "execution_count": 8,
      "metadata": {
        "id": "tREdWQUVUZhz"
      },
      "outputs": [
        {
          "name": "stderr",
          "output_type": "stream",
          "text": [
            "Future exception was never retrieved\n",
            "future: <Future finished exception=BrokenPipeError(32, 'Broken pipe')>\n",
            "Traceback (most recent call last):\n",
            "  File \"/usr/lib/python3.11/asyncio/unix_events.py\", line 687, in write\n",
            "    n = os.write(self._fileno, data)\n",
            "        ^^^^^^^^^^^^^^^^^^^^^^^^^^^^\n",
            "BrokenPipeError: [Errno 32] Broken pipe\n"
          ]
        }
      ],
      "source": [
        "import numpy as np\n",
        "import matplotlib.pyplot as plt\n",
        "import torch\n",
        "import torch.nn as nn\n",
        "import torch.optim as optim\n",
        "import torch.nn.functional as F\n",
        "import optuna\n",
        "import tensorboardX as tbx\n",
        "import pandas as pd"
      ]
    },
    {
      "cell_type": "markdown",
      "metadata": {
        "id": "38GvmerjUZhz"
      },
      "source": [
        "### Constants and flags to set\n",
        "Defining some constants and parameters for convenience.\n",
        "\n",
        "**NOTE**: Some **subparameters** still need to be adjusted in the `create_model` function itself as of (Tue May 16 07:42:45 AM CEST 2023) in the case the model is being trained without optimization."
      ]
    },
    {
      "cell_type": "code",
      "execution_count": 9,
      "metadata": {
        "id": "ei6VZDYKUZh0"
      },
      "outputs": [],
      "source": [
        "\n",
        "# Checking if GPU is available and setting the device accordingly\n",
        "device = torch.device(\"cuda\" if torch.cuda.is_available() else \"cpu\")\n",
        "\n",
        "N_TRIALS = 1 # Number of trials for hyperparameter optimization # NOTE: Set this before properly.\n",
        "OPTIMIZE = False # Whether to optimize the hyperparameters or to use predetermined values. # NOTE: Set this before properly.\n",
        "ZSCORE_NORMALIZATION = False # Whether to z-score normalize the input data.\n",
        "LOAD_DATA_FROM_CSV = False  # If not true we generate the data in this file and save to {x_train,y_train,x_test,y_test}.csv, otherwise we load the data from files of the same name. # NOTE: Set this before properly.\n",
        "\n",
        "csv_filenames = { # File names to load input data and labels from if LOAD_DATA_FROM_CSV is True.\n",
        "    \"x_train\": \"x_train.csv\",\n",
        "    \"x_val\": \"x_val.csv\",\n",
        "    \"x_test\": \"x_test.csv\",\n",
        "    \"y_train\": \"y_train.csv\",\n",
        "    \"y_val\": \"y_val.csv\",\n",
        "    \"y_test\": \"y_test.csv\",\n",
        "}\n",
        "\n",
        "# Values to use for hyperparameters if OPTIMIZE is False.\n",
        "N_LAYERS_NO_OPT = 3\n",
        "N_UNITS_NO_OPT = [555, 458, 115]\n",
        "HIDDEN_ACTIVATION_NAME_NO_OPT = \"ReLU\"\n",
        "OUTPUT_ACTIVATION_NAME_NO_OPT = \"ReLU\"\n",
        "LOSS_NAME_NO_OPT = \"Huber\"\n",
        "OPTIMIZER_NAME_NO_OPT = \"RMSprop\"\n",
        "LR_NO_OPT = 0.000122770896701404\n",
        "BATCH_SIZE_NO_OPT = 49\n",
        "N_EPOCHS_NO_OPT = 5 # NOTE: Set this before properly.\n",
        "SCHEDULER_NAME_NO_OPT = \"ReduceLROnPlateau\"\n",
        "\n",
        "N_INPUTS = 14  # Number of input features.\n",
        "Gamma = 5/3  # Adiabatic index\n",
        "\n",
        "n_samples = 100000 # NOTE: Set this before properly.\n",
        "train_frac = 0.7  # 70% of data for training\n",
        "val_frac = 0.1  # 10% of data for validation, rest for testing\n",
        "\n",
        "rho_interval = (0, 2) \n",
        "epsilon_interval = (1e-2, 2000)  # Will be sampled in log space\n",
        "vx_interval = (0, 0.999)  \n",
        "vy_interval = (0, 0.999)  \n",
        "vz_interval = (0, 0.999)  \n",
        "Bx_interval = (-10, 10)  \n",
        "By_interval = (-10, 10)  \n",
        "Bz_interval = (-10, 10)  \n",
        "gxx_interval = (0.9, 1.1)\n",
        "gxy_interval = (0, 0.1)\n",
        "gxz_interval = (0, 0.1)\n",
        "gyy_interval = (0.9, 1.1)\n",
        "gyz_interval = (0, 0.1)\n",
        "gzz_interval = (0.9, 1.1)\n",
        "\n",
        "np.random.seed(55) # Comment for true random data.\n"
      ]
    },
    {
      "cell_type": "markdown",
      "metadata": {
        "id": "dlaP5UL2UZh1"
      },
      "source": [
        "## Input data and labels\n",
        "\n",
        "We either generate the data or load the data. First the definitions for generating the data come below."
      ]
    },
    {
      "cell_type": "code",
      "execution_count": 10,
      "metadata": {
        "id": "s_EvGFZcUZh1"
      },
      "outputs": [],
      "source": [
        "# Defining an analytic equation of state (EOS) for an ideal gas\n",
        "def eos_analytic(rho, epsilon):\n",
        "    # Adding some assertions to check that the input tensors are valid and have \n",
        "    # the expected shape and type \n",
        "    assert isinstance(rho, torch.Tensor), \"rho must be a torch.Tensor\"\n",
        "    assert isinstance(epsilon, torch.Tensor), \"epsilon must be a torch.Tensor\"\n",
        "    print('rho.shape: ', rho.shape)\n",
        "    print('epsilon.shape: ', epsilon.shape)\n",
        "    assert rho.shape == epsilon.shape, \"rho and epsilon must have the same shape\"\n",
        "    assert rho.ndim == 1, \"rho and epsilon must be one-dimensional tensors\"\n",
        "    assert rho.dtype == torch.float32, \"rho and epsilon must have dtype torch.float32\"\n",
        "\n",
        "    return (Gamma - 1) * rho * epsilon\n",
        "\n",
        "def sample_primitive_variables_and_metric():\n",
        "    rho = np.random.uniform(*rho_interval)  \n",
        "    epsilon = 10 ** np.random.uniform(*np.log10(epsilon_interval))\n",
        "    vx = np.random.uniform(*vx_interval)  \n",
        "    vy = np.random.uniform(*vy_interval)  \n",
        "    vz = np.random.uniform(*vz_interval)  \n",
        "    Bx = np.random.uniform(*Bx_interval)  \n",
        "    By = np.random.uniform(*By_interval)  \n",
        "    Bz = np.random.uniform(*Bz_interval)  \n",
        "    gxx = np.random.uniform(*gxx_interval)\n",
        "    gxy = np.random.uniform(*gxy_interval)\n",
        "    gxz = np.random.uniform(*gxz_interval)\n",
        "    gyy = np.random.uniform(*gyy_interval)\n",
        "    gyz = np.random.uniform(*gyz_interval)\n",
        "    gzz = np.random.uniform(*gzz_interval)\n",
        "\n",
        "    return rho, epsilon, vx, vy, vz, Bx, By, Bz, gxx, gxy, gxz, gyy, gyz, gzz\n",
        "\n",
        "def check_sample(rho, epsilon, vx, vy, vz, Bx, By, Bz, gxx, gxy, gxz, gyy, gyz, gzz):\n",
        "    wtemp_expr = 1 - (gxx * vx**2 + gyy * vy**2 + gzz * vz**2 + 2 * gxy * vx * vy + 2 * gxz * vx * vz + 2 * gyz * vy * vz)\n",
        "    sdet_expr = gxx * gyy * gzz + 2 * gxy * gxz * gyz - gxx * gyz ** 2 - gyy * gxz ** 2 - gzz * gxy ** 2\n",
        "    if vx**2 + vy**2 + vz**2 >= 1 or wtemp_expr < 0 or sdet_expr < 0:\n",
        "        # print(f\"Sample failed checks. vx^2+vy^2+vz^2: {vx**2 + vy**2 + vz**2}, wtemp_expr: {wtemp_expr}, sdet_expr: {sdet_expr}\")\n",
        "        return False\n",
        "    else:\n",
        "        # print(f\"Sample passed checks. vx^2+vy^2+vz^2: {vx**2 + vy**2 + vz**2}, wtemp_expr: {wtemp_expr}, sdet_expr: {sdet_expr}\")\n",
        "        return True\n",
        "\n",
        "def generate_samples(n_samples):\n",
        "    samples = []\n",
        "    while len(samples) < n_samples:\n",
        "        sample = sample_primitive_variables_and_metric()\n",
        "        if check_sample(*sample):\n",
        "            samples.append(sample)\n",
        "        # print(f\"Number of valid samples: {len(samples)}\")\n",
        "    return zip(*samples)\n",
        "def sdet(gxx, gxy, gxz, gyy, gyz, gzz):\n",
        "    # Determinant of the three metric.\n",
        "    return (gxx * gyy * gzz + 2 * gxy * gxz * gyz - gxx * gyz ** 2 - gyy * gxz ** 2 - gzz * gxy ** 2) ** 0.5\n",
        "\n",
        "# Defining a function that computes conserved variables from primitive variables and the metric\n",
        "# We follow the source code of GRaM-X: A new GPU-accelerated dynamical spacetime GRMHD code for Exascale\n",
        "# computing with the Einstein Toolkit of Shankar et al.\n",
        "def compute_conserved_variables(rho, epsilon, vx, vy, vz, Bx, By, Bz, gxx, gxy, gxz, gyy, gyz, gzz):\n",
        "    pres = eos_analytic(rho, epsilon)\n",
        "    wtemp = 1 / (1 - (gxx * vx**2 + gyy * vy**2 + gzz * vz**2 +\n",
        "        2 * gxy * vx * vy + 2 * gxz * vx * vz +\n",
        "        2 * gyz * vy * vz))**0.5\n",
        "\n",
        "    vlowx = gxx * vx + gxy * vy + gxz * vz\n",
        "    vlowy = gxy * vx + gyy * vy + gyz * vz\n",
        "    vlowz = gxz * vx + gyz * vy + gzz * vz\n",
        "\n",
        "    Bxlow = gxx * Bx + gxy * By + gxz * Bz\n",
        "    Bylow = gxy * Bx + gyy * By + gyz * Bz\n",
        "    Bzlow = gxz * Bx + gyz * By + gzz * Bz\n",
        "\n",
        "    B2 = Bxlow * Bx + Bylow * By + Bzlow * Bz\n",
        "\n",
        "    Bdotv = Bxlow * vx + Bylow * vy + Bzlow * vz\n",
        "    Bdotv2 = Bdotv * Bdotv\n",
        "    wtemp2 = wtemp * wtemp\n",
        "    b2 = B2 / wtemp2 + Bdotv2\n",
        "    ab0 = wtemp * Bdotv\n",
        "\n",
        "    blowx = (gxx * Bx + gxy * By + gxz * Bz) / wtemp + wtemp * Bdotv * vlowx\n",
        "    blowy = (gxy * Bx + gyy * By + gyz * Bz) / wtemp + wtemp * Bdotv * vlowy\n",
        "    blowz = (gxz * Bx + gyz * By + gzz * Bz) / wtemp + wtemp * Bdotv * vlowz\n",
        "\n",
        "    hrhow2 = (rho * (1 + epsilon) + pres + b2) * (wtemp) * (wtemp)\n",
        "\n",
        "    D = sdet(gxx, gxy, gxz, gyy, gyz, gzz) * rho * (wtemp)\n",
        "    Sx = sdet(gxx, gxy, gxz, gyy, gyz, gzz) * (hrhow2 * vlowx - ab0 * blowx)\n",
        "    Sy = sdet(gxx, gxy, gxz, gyy, gyz, gzz) * (hrhow2 * vlowy - ab0 * blowy)\n",
        "    Sz = sdet(gxx, gxy, gxz, gyy, gyz, gzz) * (hrhow2 * vlowz - ab0 * blowz)\n",
        "    tau = sdet(gxx, gxy, gxz, gyy, gyz, gzz) * (hrhow2 - pres - b2 / 2 - ab0 * ab0) - D\n",
        "    Bconsx = sdet(gxx, gxy, gxz, gyy, gyz, gzz) * Bx\n",
        "    Bconsy = sdet(gxx, gxy, gxz, gyy, gyz, gzz) * By\n",
        "    Bconsz = sdet(gxx, gxy, gxz, gyy, gyz, gzz) * Bz\n",
        "\n",
        "    return D, Sx, Sy, Sz, tau, Bconsx, Bconsy, Bconsz\n",
        "\n",
        "def generate_input_data(rho, epsilon, vx, vy, vz, Bx, By, Bz, gxx, gxy, gxz, gyy, gyz, gzz):\n",
        "    rho = torch.tensor(np.array(rho), dtype=torch.float32).to(device)\n",
        "    epsilon = torch.tensor(np.array(epsilon), dtype=torch.float32).to(device)\n",
        "    vx = torch.tensor(np.array(vx), dtype=torch.float32).to(device)\n",
        "    vy = torch.tensor(np.array(vy), dtype=torch.float32).to(device)\n",
        "    vz = torch.tensor(np.array(vz), dtype=torch.float32).to(device)\n",
        "    Bx = torch.tensor(np.array(Bx), dtype=torch.float32).to(device)\n",
        "    By = torch.tensor(np.array(By), dtype=torch.float32).to(device)\n",
        "    Bz = torch.tensor(np.array(Bz), dtype=torch.float32).to(device)\n",
        "    gxx = torch.tensor(np.array(gxx), dtype=torch.float32).to(device)\n",
        "    gxy = torch.tensor(np.array(gxy), dtype=torch.float32).to(device)\n",
        "    gxz = torch.tensor(np.array(gxz), dtype=torch.float32).to(device)\n",
        "    gyy = torch.tensor(np.array(gyy), dtype=torch.float32).to(device)\n",
        "    gyz = torch.tensor(np.array(gyz), dtype=torch.float32).to(device)\n",
        "    gzz = torch.tensor(np.array(gzz), dtype=torch.float32).to(device)\n",
        "\n",
        "    D, Sx, Sy, Sz, tau, Bscriptx, Bscripty, Bscriptz = compute_conserved_variables(\n",
        "        rho, epsilon, vx, vy, vz, Bx, By, Bz, gxx, gxy, gxz, gyy, gyz, gzz\n",
        "    ) \n",
        "\n",
        "    # Add gxx, gxy, gxz, gyy, gyz, gzz to the tensor\n",
        "    x = torch.stack([D, Sx, Sy, Sz, tau, Bscriptx, Bscripty, Bscriptz, gxx, gxy, gxz, gyy, gyz, gzz], axis=1)\n",
        "    return x\n",
        "\n",
        "# Defining a function that generates output data (labels) from given samples of primitive variables\n",
        "# We use the definitions as given in Recovery schemes for primitive variables in\n",
        "# general-relativistic magnetohydrodynamics of Siegel et al.\n",
        "def generate_labels(rho, epsilon, vx, vy, vz):\n",
        "    # Converting the numpy arrays to torch tensors and moving them to the device\n",
        "    rho = torch.tensor(np.array(rho), dtype=torch.float32).to(device)\n",
        "    epsilon = torch.tensor(np.array(epsilon), dtype=torch.float32).to(device)\n",
        "    vx = torch.tensor(np.array(vx), dtype=torch.float32).to(device)\n",
        "    vy = torch.tensor(np.array(vy), dtype=torch.float32).to(device)\n",
        "    vz = torch.tensor(np.array(vz), dtype=torch.float32).to(device)\n",
        "\n",
        "    # Computing the required quantities\n",
        "    pres = eos_analytic(rho, epsilon)\n",
        "    h = 1 + epsilon + pres / rho\n",
        "    W = 1 / torch.sqrt(1 - (vx * vx + vy * vy + vz * vz))\n",
        "\n",
        "    # Returning the output data tensor\n",
        "    return h * W"
      ]
    },
    {
      "cell_type": "markdown",
      "metadata": {
        "id": "FEGvnNapHN8V"
      },
      "source": [
        "### Generating or loading input data and labels"
      ]
    },
    {
      "cell_type": "code",
      "execution_count": 11,
      "metadata": {
        "id": "cKubR6C8UZh4"
      },
      "outputs": [],
      "source": [
        "if LOAD_DATA_FROM_CSV:\n",
        "    # Load the data from CSV files\n",
        "    x_train = pd.read_csv(csv_filenames[\"x_train\"]).values\n",
        "    y_train = pd.read_csv(csv_filenames[\"y_train\"]).values.squeeze()  # reshape to 1D\n",
        "    x_val = pd.read_csv(csv_filenames[\"x_val\"]).values\n",
        "    y_val = pd.read_csv(csv_filenames[\"y_val\"]).values.squeeze()  # reshape to 1D\n",
        "    x_test = pd.read_csv(csv_filenames[\"x_test\"]).values\n",
        "    y_test = pd.read_csv(csv_filenames[\"y_test\"]).values.squeeze()  # reshape to 1D\n",
        "\n",
        "    # Convert numpy arrays to tensors\n",
        "    x_train = torch.from_numpy(x_train).float().to(device)\n",
        "    y_train = torch.from_numpy(y_train).float().to(device)\n",
        "    x_val = torch.from_numpy(x_val).float().to(device)\n",
        "    y_val = torch.from_numpy(y_val).float().to(device)\n",
        "    x_test = torch.from_numpy(x_test).float().to(device)\n",
        "    y_test = torch.from_numpy(y_test).float().to(device)\n",
        "\n",
        "    # This is an alternative to having if clauses around the cells that visualize these variables.\n",
        "    rho = epsilon = vx = vy = vz = Bx = By = Bz = gxx = gxy = gxz = gyy = gyz  = gzz = None"
      ]
    },
    {
      "cell_type": "code",
      "execution_count": 12,
      "metadata": {
        "id": "G7Y6BJJrHN8V"
      },
      "outputs": [],
      "source": [
        "if not LOAD_DATA_FROM_CSV:\n",
        "    # Sample primitive variables and metric\n",
        "    rho, epsilon, vx, vy, vz, Bx, By, Bz, gxx, gxy, gxz, gyy, gyz, gzz = generate_samples(n_samples)"
      ]
    },
    {
      "cell_type": "code",
      "execution_count": 13,
      "metadata": {
        "id": "WyyPMzRwHN8W"
      },
      "outputs": [
        {
          "name": "stdout",
          "output_type": "stream",
          "text": [
            "rho.shape:  torch.Size([100000])\n",
            "epsilon.shape:  torch.Size([100000])\n",
            "rho.shape:  torch.Size([100000])\n",
            "epsilon.shape:  torch.Size([100000])\n"
          ]
        }
      ],
      "source": [
        "if not LOAD_DATA_FROM_CSV:\n",
        "    # Generate data and labels.\n",
        "    x = generate_input_data(rho, epsilon, vx, vy, vz, Bx, By, Bz, gxx, gxy, gxz, gyy, gyz, gzz)\n",
        "    y = generate_labels(rho, epsilon, vx, vy, vz)\n",
        "\n",
        "    # Calculate the number of samples in each set\n",
        "    n_train_samples = int(n_samples * train_frac)\n",
        "    n_val_samples = int(n_samples * val_frac)\n",
        "\n",
        "    # Create the data sets\n",
        "    x_train = x[:n_train_samples]\n",
        "    y_train = y[:n_train_samples]\n",
        "    x_val = x[n_train_samples : n_train_samples + n_val_samples]\n",
        "    y_val = y[n_train_samples : n_train_samples + n_val_samples]\n",
        "    x_test = x[n_train_samples + n_val_samples :]\n",
        "    y_test = y[n_train_samples + n_val_samples :]\n",
        "\n",
        "    # Save the data to CSV files; tensors need to be converted numpy arrays for saving in CSV.\n",
        "    pd.DataFrame(x_train.cpu().numpy()).to_csv(csv_filenames[\"x_train\"], index=False)\n",
        "    save_file(csv_filenames[\"x_train\"])\n",
        "    pd.DataFrame(y_train.cpu().numpy()).to_csv(csv_filenames[\"y_train\"], index=False)\n",
        "    save_file(csv_filenames[\"y_train\"])\n",
        "\n",
        "    pd.DataFrame(x_val.cpu().numpy()).to_csv(csv_filenames[\"x_val\"], index=False)\n",
        "    save_file(csv_filenames[\"x_val\"])\n",
        "    pd.DataFrame(y_val.cpu().numpy()).to_csv(csv_filenames[\"y_val\"], index=False)\n",
        "    save_file(csv_filenames[\"y_val\"])\n",
        "\n",
        "    pd.DataFrame(x_test.cpu().numpy()).to_csv(csv_filenames[\"x_test\"], index=False)\n",
        "    save_file(csv_filenames[\"x_test\"])\n",
        "    pd.DataFrame(y_test.cpu().numpy()).to_csv(csv_filenames[\"y_test\"], index=False)\n",
        "    save_file(csv_filenames[\"y_test\"])"
      ]
    },
    {
      "cell_type": "code",
      "execution_count": 14,
      "metadata": {
        "colab": {
          "base_uri": "https://localhost:8080/"
        },
        "id": "W2dy5WHvHN8W",
        "outputId": "2ac24180-ff0d-4ca1-9a1c-4a862f1bd6c6"
      },
      "outputs": [
        {
          "data": {
            "text/plain": [
              "torch.Size([70000, 14])"
            ]
          },
          "execution_count": 14,
          "metadata": {},
          "output_type": "execute_result"
        },
        {
          "data": {
            "text/plain": [
              "torch.Size([70000])"
            ]
          },
          "execution_count": 14,
          "metadata": {},
          "output_type": "execute_result"
        },
        {
          "data": {
            "text/plain": [
              "torch.Size([10000, 14])"
            ]
          },
          "execution_count": 14,
          "metadata": {},
          "output_type": "execute_result"
        },
        {
          "data": {
            "text/plain": [
              "torch.Size([10000])"
            ]
          },
          "execution_count": 14,
          "metadata": {},
          "output_type": "execute_result"
        },
        {
          "data": {
            "text/plain": [
              "torch.Size([20000, 14])"
            ]
          },
          "execution_count": 14,
          "metadata": {},
          "output_type": "execute_result"
        },
        {
          "data": {
            "text/plain": [
              "torch.Size([20000])"
            ]
          },
          "execution_count": 14,
          "metadata": {},
          "output_type": "execute_result"
        },
        {
          "data": {
            "text/plain": [
              "tensor([[ 2.8799e-01,  5.6172e+01,  8.1343e+01,  ...,  1.0551e+00,\n",
              "          9.1389e-04,  1.0237e+00],\n",
              "        [ 4.0179e+00, -8.5138e+00,  1.3707e+01,  ...,  9.6899e-01,\n",
              "          2.0033e-02,  9.5205e-01],\n",
              "        [ 6.9980e-01,  4.6369e+01,  1.0777e+02,  ...,  9.9846e-01,\n",
              "          9.5204e-02,  1.0219e+00],\n",
              "        ...,\n",
              "        [ 2.7649e-01, -9.3630e+00,  1.2764e+01,  ...,  9.7850e-01,\n",
              "          9.6477e-02,  9.8960e-01],\n",
              "        [ 3.8064e+00,  5.1561e+01,  8.9869e+01,  ...,  9.4760e-01,\n",
              "          1.7655e-02,  9.1011e-01],\n",
              "        [ 2.0672e+00,  3.3720e+01,  6.3614e+01,  ...,  1.0152e+00,\n",
              "          1.0420e-02,  9.9368e-01]])"
            ]
          },
          "execution_count": 14,
          "metadata": {},
          "output_type": "execute_result"
        },
        {
          "data": {
            "text/plain": [
              "tensor([ 9.5764,  9.2756,  0.2966,  ..., -2.5770,  6.3393, -1.4035])"
            ]
          },
          "execution_count": 14,
          "metadata": {},
          "output_type": "execute_result"
        },
        {
          "data": {
            "text/plain": [
              "tensor([[ 2.9251e-01,  3.0797e+01,  4.2338e+01,  ...,  1.0030e+00,\n",
              "          7.7978e-02,  9.6332e-01],\n",
              "        [ 1.6392e+00,  6.1407e+00,  1.6265e+01,  ...,  1.0528e+00,\n",
              "          7.9005e-02,  1.0505e+00],\n",
              "        [ 6.2265e-01,  1.3924e+01,  1.8544e+01,  ...,  9.1781e-01,\n",
              "          1.9029e-02,  9.8093e-01],\n",
              "        ...,\n",
              "        [ 1.8699e+00,  8.3327e+01, -2.7197e+01,  ...,  1.0341e+00,\n",
              "          6.1470e-02,  1.0441e+00],\n",
              "        [ 2.2394e-01,  9.3452e+00,  2.7997e+01,  ...,  1.0126e+00,\n",
              "          2.1318e-02,  9.9101e-01],\n",
              "        [ 2.5670e+00,  7.6919e+01,  1.2107e+01,  ...,  9.3571e-01,\n",
              "          2.9241e-02,  1.0983e+00]])"
            ]
          },
          "execution_count": 14,
          "metadata": {},
          "output_type": "execute_result"
        },
        {
          "data": {
            "text/plain": [
              "tensor([ 2.4596, 12.4145,  3.2411,  ..., -5.3044,  2.2482,  2.0042])"
            ]
          },
          "execution_count": 14,
          "metadata": {},
          "output_type": "execute_result"
        },
        {
          "data": {
            "text/plain": [
              "tensor([[ 5.9860e+00,  7.8585e+01, -1.9038e+01,  ...,  1.0228e+00,\n",
              "          6.1891e-02,  1.0852e+00],\n",
              "        [ 4.5638e+00, -1.8103e+01,  1.5780e+02,  ...,  1.0120e+00,\n",
              "          6.4378e-02,  1.0653e+00],\n",
              "        [ 3.2633e-01,  8.5864e-01,  2.3236e+01,  ...,  9.7816e-01,\n",
              "          7.5240e-02,  9.4875e-01],\n",
              "        ...,\n",
              "        [ 1.9495e+00,  1.2245e+01,  1.5829e+01,  ...,  9.2530e-01,\n",
              "          2.6508e-02,  9.4893e-01],\n",
              "        [ 3.3144e+00,  4.8812e+00,  6.5106e-01,  ...,  9.4280e-01,\n",
              "          8.7622e-02,  9.3816e-01],\n",
              "        [ 7.6473e+00,  3.7198e+01,  1.5906e+01,  ...,  1.0101e+00,\n",
              "          5.2709e-02,  1.0166e+00]])"
            ]
          },
          "execution_count": 14,
          "metadata": {},
          "output_type": "execute_result"
        },
        {
          "data": {
            "text/plain": [
              "tensor([  3.8258,  12.7731,   5.8416,  ...,  -1.6631,  -0.1913, -12.2837])"
            ]
          },
          "execution_count": 14,
          "metadata": {},
          "output_type": "execute_result"
        }
      ],
      "source": [
        "\n",
        "x_train.shape\n",
        "y_train.shape\n",
        "x_val.shape\n",
        "y_val.shape\n",
        "x_test.shape\n",
        "y_test.shape\n",
        "x_train\n",
        "y_train\n",
        "x_val\n",
        "y_val\n",
        "x_test\n",
        "y_test"
      ]
    },
    {
      "cell_type": "code",
      "execution_count": 15,
      "metadata": {
        "colab": {
          "base_uri": "https://localhost:8080/"
        },
        "id": "ZI7WaN5QHN8W",
        "outputId": "f87c43e4-1c40-4c4a-af62-bf0a8a0af47e"
      },
      "outputs": [
        {
          "data": {
            "text/plain": [
              "tensor(False)"
            ]
          },
          "execution_count": 15,
          "metadata": {},
          "output_type": "execute_result"
        },
        {
          "data": {
            "text/plain": [
              "tensor(False)"
            ]
          },
          "execution_count": 15,
          "metadata": {},
          "output_type": "execute_result"
        },
        {
          "data": {
            "text/plain": [
              "tensor(False)"
            ]
          },
          "execution_count": 15,
          "metadata": {},
          "output_type": "execute_result"
        },
        {
          "data": {
            "text/plain": [
              "tensor(False)"
            ]
          },
          "execution_count": 15,
          "metadata": {},
          "output_type": "execute_result"
        },
        {
          "data": {
            "text/plain": [
              "tensor(False)"
            ]
          },
          "execution_count": 15,
          "metadata": {},
          "output_type": "execute_result"
        },
        {
          "data": {
            "text/plain": [
              "tensor(False)"
            ]
          },
          "execution_count": 15,
          "metadata": {},
          "output_type": "execute_result"
        }
      ],
      "source": [
        "torch.isnan(x_train).any()\n",
        "torch.isnan(x_val).any()\n",
        "torch.isnan(x_test).any()\n",
        "torch.isnan(y_train).any()\n",
        "torch.isnan(y_val).any()\n",
        "torch.isnan(y_test).any()"
      ]
    },
    {
      "cell_type": "code",
      "execution_count": 16,
      "metadata": {
        "colab": {
          "base_uri": "https://localhost:8080/"
        },
        "id": "Jjfg7-B2HN8X",
        "outputId": "bea2fcb7-6b0a-46b3-a9dc-14744c9ec1f7"
      },
      "outputs": [
        {
          "data": {
            "text/plain": [
              "(tensor([], dtype=torch.int64), tensor([], dtype=torch.int64))"
            ]
          },
          "execution_count": 16,
          "metadata": {},
          "output_type": "execute_result"
        },
        {
          "data": {
            "text/plain": [
              "(tensor([], dtype=torch.int64), tensor([], dtype=torch.int64))"
            ]
          },
          "execution_count": 16,
          "metadata": {},
          "output_type": "execute_result"
        },
        {
          "data": {
            "text/plain": [
              "(tensor([], dtype=torch.int64), tensor([], dtype=torch.int64))"
            ]
          },
          "execution_count": 16,
          "metadata": {},
          "output_type": "execute_result"
        }
      ],
      "source": [
        "nan_mask_train = torch.isnan(x_train)     # get a boolean mask indicating NaN values\n",
        "nan_indices_train = torch.where(nan_mask_train)  # get the indices of the NaN values\n",
        "nan_indices_train\n",
        "# len(nan_indices_train)\n",
        "\n",
        "nan_mask_val = torch.isnan(x_val)     # get a boolean mask indicating NaN values\n",
        "nan_indices_val = torch.where(nan_mask_val)  # get the indices of the NaN values\n",
        "nan_indices_val\n",
        "# len(nan_indices_test)\n",
        "\n",
        "nan_mask_test = torch.isnan(x_test)     # get a boolean mask indicating NaN values\n",
        "nan_indices_test = torch.where(nan_mask_test)  # get the indices of the NaN values\n",
        "nan_indices_test\n",
        "# len(nan_indices_test)"
      ]
    },
    {
      "cell_type": "markdown",
      "metadata": {
        "id": "GxETvrHUHN8X"
      },
      "source": [
        "## Visualizing the data"
      ]
    },
    {
      "cell_type": "markdown",
      "metadata": {
        "id": "T1kQ47grHN8X"
      },
      "source": [
        "### Visualizing sampled data"
      ]
    },
    {
      "cell_type": "code",
      "execution_count": 17,
      "metadata": {
        "colab": {
          "base_uri": "https://localhost:8080/"
        },
        "id": "HJ0MZQPRHN8X",
        "outputId": "477a912a-81b4-4838-81e6-4268bd3e05d3"
      },
      "outputs": [
        {
          "name": "stdout",
          "output_type": "stream",
          "text": [
            "skipping\n"
          ]
        }
      ],
      "source": [
        "%%script echo skipping\n",
        "\n",
        "if not LOAD_DATA_FROM_CSV:\n",
        "    rho\n",
        "    epsilon\n",
        "    vx\n",
        "    vy\n",
        "    vz \n",
        "    Bx\n",
        "    By\n",
        "    Bz\n",
        "    gxx\n",
        "    gxy\n",
        "    gxz\n",
        "    gyy\n",
        "    gyz\n",
        "    gzz "
      ]
    },
    {
      "cell_type": "code",
      "execution_count": 18,
      "metadata": {
        "id": "MlK_HeRcHN8Y"
      },
      "outputs": [
        {
          "name": "stdout",
          "output_type": "stream",
          "text": [
            "100000\n",
            "100000\n",
            "100000\n",
            "100000\n",
            "100000\n",
            "100000\n",
            "100000\n",
            "100000\n",
            "\n",
            "100000\n",
            "100000\n",
            "100000\n",
            "100000\n",
            "100000\n",
            "100000\n"
          ]
        }
      ],
      "source": [
        "if not LOAD_DATA_FROM_CSV:\n",
        "    print(len(rho))\n",
        "    print(len(epsilon))\n",
        "    print(len(vx))\n",
        "    print(len(vy))\n",
        "    print(len(vz))\n",
        "    print(len(Bx))\n",
        "    print(len(By))\n",
        "    print(len(Bz))\n",
        "    print()\n",
        "    print(len(gxx))\n",
        "    print(len(gxy))\n",
        "    print(len(gxz))\n",
        "    print(len(gyy))\n",
        "    print(len(gyz))\n",
        "    print(len(gzz))"
      ]
    },
    {
      "cell_type": "code",
      "execution_count": 19,
      "metadata": {
        "id": "VMp6XJ6RUZh4"
      },
      "outputs": [],
      "source": [
        "%config InteractiveShell.ast_node_interactivity = \"last_expr_or_assign\""
      ]
    },
    {
      "cell_type": "code",
      "execution_count": 20,
      "metadata": {
        "colab": {
          "base_uri": "https://localhost:8080/"
        },
        "id": "pOPQGuX2HN8Y",
        "outputId": "eb225647-e06d-4c2a-9776-ff72bb8e01db"
      },
      "outputs": [
        {
          "name": "stdout",
          "output_type": "stream",
          "text": [
            "skipping\n"
          ]
        }
      ],
      "source": [
        "%%script echo skipping\n",
        "\n",
        "plt.hist([np.random.uniform(0, 0.999) for _ in range(n_train_samples)], bins=20)"
      ]
    },
    {
      "cell_type": "code",
      "execution_count": 21,
      "metadata": {
        "id": "TpU9cmd1HN8Y"
      },
      "outputs": [
        {
          "data": {
            "text/plain": [
              "(3.150777177330345,\n",
              " 1.7515372248170316,\n",
              " -0.49495832076252677,\n",
              " 2.560831545441279,\n",
              " -0.7082369685663736,\n",
              " -1.4881774752219397,\n",
              " -1.781451331415505,\n",
              " -0.2826329328514734,\n",
              " -0.08469698306964824,\n",
              " 1.8537914563483997,\n",
              " 0.5134594284399316,\n",
              " -1.1880934977826247,\n",
              " 1.7697514645637376,\n",
              " 2.357121482592774,\n",
              " 3.1874957777179027,\n",
              " -1.9888506430218353,\n",
              " -1.9960260419891256,\n",
              " 2.3824369640062883,\n",
              " -0.31180794383759713,\n",
              " 2.1067125736135512,\n",
              " 2.0475516776910627,\n",
              " 0.19422166591885182,\n",
              " 2.1821744680249155,\n",
              " -0.25336923260551814,\n",
              " -0.967971067700905,\n",
              " 3.2556764970389356,\n",
              " -0.023012319240246715,\n",
              " -0.8549367377007739,\n",
              " -0.9623118215079369,\n",
              " 0.72380912858315,\n",
              " -0.930341868495427,\n",
              " 0.7218719419163069,\n",
              " 0.3270798488148112,\n",
              " 2.189820641674599,\n",
              " 0.9135188922281547,\n",
              " 2.740402207299087,\n",
              " 2.3866158319569513,\n",
              " -0.3783776619799677,\n",
              " -1.1792482502317725,\n",
              " 0.7895535843389285,\n",
              " 1.5047444151876759,\n",
              " 1.4247323052816645,\n",
              " 0.44539913797092545,\n",
              " -0.575989595159917,\n",
              " -0.29685794199292115,\n",
              " 2.509804775225269,\n",
              " 0.9195736137618895,\n",
              " 2.961240093116989,\n",
              " -1.0332172274144695,\n",
              " 2.466415060453728,\n",
              " 2.6390228481519236,\n",
              " 2.3590691627595675,\n",
              " 0.8481300057868855,\n",
              " 0.9015581468648342,\n",
              " 2.8595976844252027,\n",
              " 0.5983207245481856,\n",
              " 1.357254235768691,\n",
              " 0.8794441434223716,\n",
              " -0.10711448521930134,\n",
              " -1.9129812807471351,\n",
              " -1.9431600161454627,\n",
              " 3.293498295788808,\n",
              " 0.8678537130520465,\n",
              " -0.23031583842614856,\n",
              " 2.749071531184203,\n",
              " -1.0991125364473988,\n",
              " 2.02429225748402,\n",
              " 0.1894549968557495,\n",
              " -1.7833260911524573,\n",
              " 2.280797669017419,\n",
              " 0.3992432938327668,\n",
              " 0.947744766140544,\n",
              " 2.782672770091593,\n",
              " 1.2809101193179395,\n",
              " -0.6220941824220183,\n",
              " -1.2931443595960055,\n",
              " 0.14461475578087546,\n",
              " 0.9892242713086055,\n",
              " 0.7163909855586166,\n",
              " 0.9061698625846062,\n",
              " 1.3279479491356168,\n",
              " -1.1859836347070347,\n",
              " 0.7017951421763904,\n",
              " -1.6294084666801676,\n",
              " -0.36851592206502315,\n",
              " -0.5188453908445447,\n",
              " 0.6747352366043522,\n",
              " -0.7899391822672801,\n",
              " 0.03694936011126426,\n",
              " -1.182320082249126,\n",
              " 2.528003806550198,\n",
              " -1.8110582429010686,\n",
              " 0.5522627568973513,\n",
              " 1.4700201048484338,\n",
              " -1.7751222535610216,\n",
              " -0.41817906271363037,\n",
              " -0.04927465501948225,\n",
              " 1.3685090173906538,\n",
              " -1.7009786675111285,\n",
              " -1.11715335609406,\n",
              " 0.8178089787467324,\n",
              " 1.3913060362748935,\n",
              " -0.1724279227669956,\n",
              " 0.9323520630877784,\n",
              " 2.418577963255853,\n",
              " 1.6053845003384208,\n",
              " 2.973347331400234,\n",
              " 2.916619614552231,\n",
              " 0.10838734961018659,\n",
              " -0.9273401312117082,\n",
              " 2.858257611975815,\n",
              " 2.514694754134884,\n",
              " 0.8957627487733797,\n",
              " 0.0865478682211176,\n",
              " 1.6569079340487742,\n",
              " -0.9368391571735513,\n",
              " 0.2646058004509726,\n",
              " 1.8668004536225062,\n",
              " 1.3542134478163455,\n",
              " -0.9294453139412477,\n",
              " 3.0342288139493423,\n",
              " 2.8617566437240605,\n",
              " -1.8086162144118205,\n",
              " 0.9115558588472998,\n",
              " 0.882066677313333,\n",
              " -1.2273577518627725,\n",
              " 0.9325691876835474,\n",
              " 2.4559751060684833,\n",
              " -0.9351555702460759,\n",
              " 0.4209384981144093,\n",
              " -0.14836868081705212,\n",
              " 3.0480621802612635,\n",
              " 2.273555911263059,\n",
              " 0.41117772572639133,\n",
              " 2.2566523894198998,\n",
              " 2.8008885091326547,\n",
              " 3.177118461384679,\n",
              " 0.22449766066258814,\n",
              " 3.1197330060024724,\n",
              " 3.1372107702439065,\n",
              " 2.5343752597545492,\n",
              " 2.5061352175975644,\n",
              " 2.285177761599275,\n",
              " 0.7370610427309128,\n",
              " -0.27777153764076856,\n",
              " -0.5530924214313606,\n",
              " -1.9420974609727137,\n",
              " -1.0901770573842895,\n",
              " -0.3153832054908201,\n",
              " -0.1071162569964339,\n",
              " 0.708386155169002,\n",
              " 1.2804772186711406,\n",
              " 0.9015560344704823,\n",
              " -1.4097118317824404,\n",
              " -1.7778010961324906,\n",
              " 1.3503680691266937,\n",
              " -1.692402006183453,\n",
              " -0.21018374709235066,\n",
              " 2.393578229404225,\n",
              " 0.11213646311215308,\n",
              " -0.7837539793650228,\n",
              " 1.0102448989108677,\n",
              " 3.040296777681781,\n",
              " 1.9211263372120282,\n",
              " 2.523646950542994,\n",
              " 1.7965595130989862,\n",
              " 0.8838073384891256,\n",
              " 2.1970756070577115,\n",
              " 1.4261657743532559,\n",
              " 2.614641361888088,\n",
              " 2.576758301792899,\n",
              " -0.900289921054509,\n",
              " 2.3852804354797374,\n",
              " 1.8683409227579975,\n",
              " 0.5242296913361515,\n",
              " -0.11475447711654208,\n",
              " -1.3269277192433524,\n",
              " 2.167301857708054,\n",
              " -0.8994217204456749,\n",
              " 2.081778304876438,\n",
              " -0.3262190306866397,\n",
              " 1.8776338191324764,\n",
              " -1.7640505510748221,\n",
              " -0.2066315450862206,\n",
              " 0.15841758568551612,\n",
              " 2.3739905267334995,\n",
              " -1.7852524829403873,\n",
              " 0.7070899953380998,\n",
              " 1.3794474380253772,\n",
              " 1.5709088157080728,\n",
              " -1.5631344187477483,\n",
              " 2.2949088489314526,\n",
              " -0.041031195749758,\n",
              " -0.6161313204238519,\n",
              " 2.3571281277662193,\n",
              " 1.1132930297748391,\n",
              " 3.1405578863097663,\n",
              " 0.5844417033130309,\n",
              " -0.09233341246095383,\n",
              " -0.7645819462400096,\n",
              " 0.7130232992748984,\n",
              " -0.7975806781772325,\n",
              " -0.8091699662775254,\n",
              " -0.5619517512330152,\n",
              " 0.5692959131206097,\n",
              " 1.2592024579643777,\n",
              " -0.45137321976401057,\n",
              " 1.4525800761381227,\n",
              " 0.4855123306610545,\n",
              " 2.4015517953387846,\n",
              " 3.286070488187831,\n",
              " 1.522967970547365,\n",
              " 1.487668699052707,\n",
              " 1.8446062324446548,\n",
              " 3.133707852677995,\n",
              " 2.1069948138405117,\n",
              " 2.5795612265922774,\n",
              " -1.7184041436425257,\n",
              " 0.9659718699641626,\n",
              " -1.6793176410775543,\n",
              " 1.6128104656054574,\n",
              " -1.9673943495049306,\n",
              " 1.6931572977142486,\n",
              " -1.7214440148700094,\n",
              " 0.4433653378636149,\n",
              " 2.578434343966064,\n",
              " -1.3314250258777127,\n",
              " 2.7661641061510256,\n",
              " 2.4409603834625404,\n",
              " 1.6393801296699686,\n",
              " 2.6601153664484016,\n",
              " 1.883377534419135,\n",
              " -1.5561775724725289,\n",
              " 0.6674173510020283,\n",
              " 1.1222186379117196,\n",
              " -0.7219209556817259,\n",
              " 0.5004456084065461,\n",
              " 1.1067458535969585,\n",
              " -0.8398805566767049,\n",
              " 1.8188599814358564,\n",
              " 0.3199227196724368,\n",
              " 2.9701650051562556,\n",
              " -1.2761861949717703,\n",
              " 1.5342790128310182,\n",
              " 1.3148699410717684,\n",
              " -0.9400999368229839,\n",
              " -0.3056934371935238,\n",
              " -0.19106474361950387,\n",
              " 2.308471633759659,\n",
              " 3.2818911824338155,\n",
              " 1.3977747508678027,\n",
              " 3.218734919163616,\n",
              " -1.3888784687549531,\n",
              " -1.8966959879060254,\n",
              " 1.2444621744341733,\n",
              " -0.952703261256574,\n",
              " 2.2970793878123628,\n",
              " 0.3815926535903156,\n",
              " 0.3261852128505196,\n",
              " 2.0249075350061885,\n",
              " 2.205421967896819,\n",
              " 1.7121081690794488,\n",
              " 2.6123733885128413,\n",
              " 0.10788343253430988,\n",
              " 0.33438786755249916,\n",
              " 2.4322972117268877,\n",
              " 3.165289884731626,\n",
              " 0.41003983182067083,\n",
              " 2.2926367729075245,\n",
              " 1.2353024975949602,\n",
              " 2.0719549550160163,\n",
              " 2.9987226254574804,\n",
              " 0.4069096048226868,\n",
              " -0.1648721900761192,\n",
              " 2.9696020583312297,\n",
              " 0.9985997894249219,\n",
              " 1.7455846947826834,\n",
              " -0.7296177557348436,\n",
              " 1.8499473079318238,\n",
              " 0.9436786114018942,\n",
              " -0.1087085539909769,\n",
              " -0.22967375398631762,\n",
              " -1.9545605486925774,\n",
              " -1.0869333100498353,\n",
              " -0.3395169558093287,\n",
              " -1.4198501099490604,\n",
              " -0.4138746924481236,\n",
              " 1.780732199994183,\n",
              " -0.6186180533265702,\n",
              " 1.477451507922451,\n",
              " 0.8376013912097049,\n",
              " -1.9467479385450122,\n",
              " 3.054630604732119,\n",
              " -1.4112309887711783,\n",
              " 2.6526129196418893,\n",
              " -1.8605978995487389,\n",
              " 2.486877586663006,\n",
              " 3.051024165839112,\n",
              " 0.8888649127806669,\n",
              " 1.503100314010533,\n",
              " -1.7199904863675504,\n",
              " 3.2518202035651234,\n",
              " -1.6275720914804443,\n",
              " 1.928569775590045,\n",
              " 2.7786666278054994,\n",
              " -0.040290964117596584,\n",
              " 2.828524404016858,\n",
              " -1.9701796495757662,\n",
              " -0.06778578191584006,\n",
              " 1.5028181389663091,\n",
              " -1.8959183976718625,\n",
              " 0.3286681249910859,\n",
              " -0.8950044238298538,\n",
              " 2.4182819284140553,\n",
              " -1.5115194128257385,\n",
              " 3.165221358390183,\n",
              " -0.9475605639154836,\n",
              " 2.2320448292391157,\n",
              " 2.848474521617516,\n",
              " 1.2704266698179585,\n",
              " -0.6538096967535851,\n",
              " 0.46045219947981364,\n",
              " 2.082401565279568,\n",
              " 2.947302707367659,\n",
              " -0.7911285347918922,\n",
              " 2.438680488573075,\n",
              " 1.5552713614616889,\n",
              " -1.9511518191387496,\n",
              " 1.8684873936919963,\n",
              " 3.0737929823968955,\n",
              " 2.869772566640214,\n",
              " -1.9696375157881545,\n",
              " -0.7880525281159938,\n",
              " 0.1567670248330808,\n",
              " 0.4913751762931109,\n",
              " 3.0149722261218406,\n",
              " 2.107137606016588,\n",
              " -0.7950469196061059,\n",
              " 0.8642024957629988,\n",
              " -1.9746329972453793,\n",
              " 1.1243814735975937,\n",
              " 2.6453481257325633,\n",
              " -1.542475052805383,\n",
              " 2.190539344569701,\n",
              " -1.3394917571147333,\n",
              " 1.6826834497412806,\n",
              " 0.8531689855102464,\n",
              " 0.0325603210580141,\n",
              " 0.33727480126708853,\n",
              " 3.1578137935582946,\n",
              " 1.9053305108293985,\n",
              " 0.15031613091140983,\n",
              " 0.1391524111323803,\n",
              " 2.4955095680466455,\n",
              " -1.578976874647549,\n",
              " -1.6067020527782736,\n",
              " 3.056653054587237,\n",
              " 1.8793495370870854,\n",
              " -1.521603861077646,\n",
              " 0.30266554565189985,\n",
              " -1.7517166157438728,\n",
              " 0.26114137983912444,\n",
              " -0.6184729424650757,\n",
              " 2.2928323461172138,\n",
              " 2.1003839553980725,\n",
              " -1.759363993503479,\n",
              " 2.9269807670182786,\n",
              " 3.26826730174142,\n",
              " 3.2435565325031748,\n",
              " 2.7516182078478737,\n",
              " 0.35633477872582153,\n",
              " 1.7862392313594797,\n",
              " 3.0538551865299564,\n",
              " -1.9974922549753724,\n",
              " 1.3041367252296414,\n",
              " 0.3551735715498987,\n",
              " -1.2663209349979918,\n",
              " -1.246115900833868,\n",
              " 1.0999776657987783,\n",
              " 1.4627746512626416,\n",
              " 3.2038622006147905,\n",
              " -0.21845240204754401,\n",
              " -0.5203217500479849,\n",
              " 2.8126190130779793,\n",
              " 1.1270511878122722,\n",
              " 2.8232473880571973,\n",
              " 1.9550682499054357,\n",
              " 1.9731984138429324,\n",
              " 0.25050068499289235,\n",
              " 0.9600184113596177,\n",
              " -1.1311912071806765,\n",
              " 2.1181480194310582,\n",
              " -0.5663404345367586,\n",
              " -1.466169681334517,\n",
              " 1.249137702066514,\n",
              " 2.2900813863191622,\n",
              " 1.949624863691144,\n",
              " -1.9155833410027745,\n",
              " -0.3470856825265354,\n",
              " 0.19639242083289332,\n",
              " 0.008461710993228788,\n",
              " 2.417496072043221,\n",
              " -0.5853653586256358,\n",
              " 1.1361956791571108,\n",
              " 2.371641854478118,\n",
              " 2.2579902530018003,\n",
              " 0.6544971502009727,\n",
              " 0.9047212875732442,\n",
              " -0.6325142569892259,\n",
              " 1.7421952013822781,\n",
              " -0.6465483564215595,\n",
              " 1.9106415259815388,\n",
              " 1.8727850994519302,\n",
              " 1.5566075796962693,\n",
              " -1.2452644262024553,\n",
              " -0.8533971561917144,\n",
              " 2.580285245495075,\n",
              " 2.6173185772813303,\n",
              " 3.1114143407531394,\n",
              " 1.6080466251411667,\n",
              " -0.8712249303565316,\n",
              " 1.8438260220252598,\n",
              " 0.6087971032867872,\n",
              " -0.08110388917378297,\n",
              " -1.8135719180643939,\n",
              " 0.9057198183449984,\n",
              " 2.0190479242403114,\n",
              " 1.692969014674,\n",
              " -0.9880395394579988,\n",
              " 1.9399990603060884,\n",
              " -1.1517455274670971,\n",
              " 1.9450936720576868,\n",
              " -1.2872697598694014,\n",
              " 0.8989123888211932,\n",
              " -1.7833566815370625,\n",
              " -0.5944714980038814,\n",
              " -1.5442150195454056,\n",
              " -1.6361831231315747,\n",
              " 1.6286835955437304,\n",
              " -1.6355628952823016,\n",
              " -0.4600859564861761,\n",
              " 2.365741855533397,\n",
              " 1.1183587349946191,\n",
              " -0.32603477101613976,\n",
              " -0.27991540670156767,\n",
              " 1.2273315518529246,\n",
              " 0.2106461112364597,\n",
              " -1.088280895988222,\n",
              " -1.3728219315922408,\n",
              " 3.131669159721879,\n",
              " -1.1381674110841513,\n",
              " 3.0773100722787863,\n",
              " 2.952337413133086,\n",
              " 2.3077459220756023,\n",
              " 1.3680995410570582,\n",
              " 0.8230766046028624,\n",
              " 0.1675326327098654,\n",
              " -0.8782084420435341,\n",
              " 2.580833067650203,\n",
              " 2.494069293568601,\n",
              " 2.238507103671963,\n",
              " -0.6407300202156971,\n",
              " 3.127694433991974,\n",
              " 2.1429829464099175,\n",
              " 0.9893486269481375,\n",
              " -1.7188627873333857,\n",
              " 1.1074545804053941,\n",
              " -0.9140550796106559,\n",
              " 2.054869161727977,\n",
              " -0.33907262000611205,\n",
              " -1.332308830712373,\n",
              " -0.76762519843503,\n",
              " 1.9520719371766826,\n",
              " -0.011847132232823743,\n",
              " -0.4283274508220736,\n",
              " -1.8079545077287187,\n",
              " -1.1301751084359046,\n",
              " -0.5846994501014446,\n",
              " 0.5482317949862052,\n",
              " 3.2838572394230665,\n",
              " 2.2722091511419036,\n",
              " 2.8022424382766147,\n",
              " 1.935501101648065,\n",
              " -0.8185924012168131,\n",
              " 0.9565126920651199,\n",
              " 0.49421573712078004,\n",
              " -1.7465314874242968,\n",
              " 1.6994262088911585,\n",
              " 0.961018974934825,\n",
              " 2.787427861751678,\n",
              " -1.0316044388962755,\n",
              " 2.190406620964775,\n",
              " -0.013097264515321116,\n",
              " 0.19875470546104967,\n",
              " 1.905061251489479,\n",
              " 2.2084886395546963,\n",
              " 3.0394789223239584,\n",
              " -1.7520096995078922,\n",
              " -1.8619702186826248,\n",
              " 0.923769823575884,\n",
              " 0.6460242564196719,\n",
              " 1.0669382047893694,\n",
              " 0.42338522269131706,\n",
              " -0.31996065212442204,\n",
              " 2.716255123688117,\n",
              " 2.5741976989358966,\n",
              " 2.6587689746814167,\n",
              " -1.734426625953347,\n",
              " 2.42878191749402,\n",
              " 0.5183941520631992,\n",
              " 0.5482397211257068,\n",
              " -0.6807672519129695,\n",
              " 2.1977343349193585,\n",
              " 2.822024168570506,\n",
              " -1.3926606694726504,\n",
              " 3.1596439477851996,\n",
              " 3.2196572679395334,\n",
              " 1.4747123928658867,\n",
              " -1.2940875906933167,\n",
              " 2.310594495312116,\n",
              " 2.965849422179641,\n",
              " -1.878566531096526,\n",
              " 0.6962596408715092,\n",
              " 1.8155459103214322,\n",
              " 0.03746815285876792,\n",
              " -0.6787878932722267,\n",
              " 0.696772757464263,\n",
              " -0.4948706738278392,\n",
              " 2.345816106486689,\n",
              " 0.0021461990614297655,\n",
              " -0.3178410335433872,\n",
              " 3.020119048948727,\n",
              " 1.964822642320228,\n",
              " 0.39597505027219304,\n",
              " 2.6642149381477864,\n",
              " 3.211198489397992,\n",
              " 3.025988573635834,\n",
              " 3.2200472436936103,\n",
              " 0.8330388134933195,\n",
              " 1.005817844622647,\n",
              " 3.1146448392735318,\n",
              " 0.31154207637014864,\n",
              " 1.0822183000771912,\n",
              " 0.3964683854876565,\n",
              " -0.9127556011854541,\n",
              " -0.9922933463720283,\n",
              " -1.8087864993903895,\n",
              " -0.11886432397415092,\n",
              " 2.2737126153435216,\n",
              " 0.3409572349754644,\n",
              " -0.39272756884678817,\n",
              " -0.08833199353549159,\n",
              " 1.728207124283363,\n",
              " -0.12536803931487306,\n",
              " 1.878373656652831,\n",
              " -1.176898071353121,\n",
              " 2.1293648169230597,\n",
              " 2.213866643094579,\n",
              " -1.8732435345676253,\n",
              " -0.32379150204385065,\n",
              " -0.4275884287418279,\n",
              " -1.5924614443262317,\n",
              " 2.2601182141289087,\n",
              " 0.8842290442108394,\n",
              " 1.55262893305822,\n",
              " -0.09636185109900408,\n",
              " 1.3287007292483777,\n",
              " 0.010740423009940603,\n",
              " 2.24111831641211,\n",
              " -1.2496833796091371,\n",
              " 2.0315491385366977,\n",
              " 0.5027266752350084,\n",
              " -1.3865313361637375,\n",
              " -1.78106054487142,\n",
              " -1.0580853512491195,\n",
              " -1.0919609205608205,\n",
              " 0.6099115320189563,\n",
              " 1.2682284442395084,\n",
              " -0.8802419799835788,\n",
              " 1.3365087891194722,\n",
              " -1.7239299725478663,\n",
              " -1.2308949815468737,\n",
              " 2.2535275037265965,\n",
              " -0.9610180930109624,\n",
              " 2.588273807099328,\n",
              " -1.875744010666929,\n",
              " 1.8056237096563899,\n",
              " -0.9747902073401289,\n",
              " 0.9365380296144541,\n",
              " -0.27099706163134085,\n",
              " 1.6946210952452754,\n",
              " -0.7391446562713184,\n",
              " -1.4872777582578645,\n",
              " 0.3594926569463244,\n",
              " 2.4001579913364512,\n",
              " 3.039563202383235,\n",
              " 0.7243372871337797,\n",
              " -0.12557257472289862,\n",
              " 0.1880713888538339,\n",
              " 1.946955311086891,\n",
              " 0.6780027957439905,\n",
              " 0.25512598398254394,\n",
              " 2.762887016629742,\n",
              " 0.19150228048519846,\n",
              " 0.004526760305779476,\n",
              " 0.3671797556083658,\n",
              " 2.2827371444154787,\n",
              " -0.9830838490504983,\n",
              " -0.9712570709381112,\n",
              " 0.7371971383158962,\n",
              " -1.9926806209924468,\n",
              " -1.6694534396592364,\n",
              " 0.0743123436740376,\n",
              " -0.7346942446407834,\n",
              " -0.20337776629214477,\n",
              " -1.8796640855766205,\n",
              " 2.205554980372699,\n",
              " -0.458049390459786,\n",
              " 1.3706697709836435,\n",
              " 2.9700756656391576,\n",
              " -1.0981874894236094,\n",
              " -0.03406987434652242,\n",
              " 0.9310006531539234,\n",
              " 3.293048118822443,\n",
              " -0.09080180206517574,\n",
              " -1.4673245354503237,\n",
              " 1.7660167421559674,\n",
              " 1.3638109586140215,\n",
              " -1.681886904608175,\n",
              " -1.0843271876873608,\n",
              " -0.6769776425364074,\n",
              " 1.2213359293693804,\n",
              " -0.2861799986326543,\n",
              " 0.7427261917554686,\n",
              " 2.560166469384183,\n",
              " 0.5660202371940137,\n",
              " -0.6136854148388335,\n",
              " 0.39201842011057364,\n",
              " -0.054276050804863196,\n",
              " 1.942096877336771,\n",
              " -0.21524579472746863,\n",
              " -1.306106525703521,\n",
              " 1.0257558159479387,\n",
              " 2.666498994028351,\n",
              " 2.403839456208752,\n",
              " 2.579900587807802,\n",
              " 0.19486717160025036,\n",
              " 0.3096828900627213,\n",
              " 0.25517708975943787,\n",
              " 2.024086630933059,\n",
              " 0.9599862513730217,\n",
              " 0.10595144558567648,\n",
              " -1.9470953532390223,\n",
              " -1.485563463430819,\n",
              " 0.448010394190423,\n",
              " 1.1786500925549053,\n",
              " 1.4379436430856076,\n",
              " -0.516521475433078,\n",
              " -0.4808337873223587,\n",
              " 0.3611494823999566,\n",
              " 2.5131450918991236,\n",
              " 1.4082349111121588,\n",
              " 0.2530783595383568,\n",
              " 0.8782304805526389,\n",
              " -1.9798203572917763,\n",
              " 2.4795247913939473,\n",
              " 0.8018350117757147,\n",
              " -1.5314388785863138,\n",
              " -0.8312665503889998,\n",
              " 1.787396616192177,\n",
              " 2.8955648220404475,\n",
              " -0.3424188156496435,\n",
              " -1.9062030136807762,\n",
              " 2.640120788836345,\n",
              " 1.8500488545965328,\n",
              " 1.2428362363163283,\n",
              " 1.4284233408943532,\n",
              " 1.42156334055676,\n",
              " -1.0095201203264175,\n",
              " -1.9632689722070167,\n",
              " 2.9463335703140068,\n",
              " 0.730641333196596,\n",
              " -0.18854607357424258,\n",
              " 0.45182358550215085,\n",
              " -1.8709453194957057,\n",
              " -1.6478435810649528,\n",
              " 0.6841419480638478,\n",
              " -0.5735909801418824,\n",
              " -1.0733775182082548,\n",
              " 3.290177835479759,\n",
              " -1.5102764443915746,\n",
              " 2.1117939036641573,\n",
              " -1.77395878505095,\n",
              " -1.0048259416788206,\n",
              " 0.49631410919641716,\n",
              " 1.6273192187738736,\n",
              " 0.7102358365505776,\n",
              " -0.03621243238729299,\n",
              " 1.7806089992142264,\n",
              " 0.28129691975952476,\n",
              " 1.0736652697742057,\n",
              " -0.5069269477371556,\n",
              " -0.06467803860041466,\n",
              " 1.7279562217765463,\n",
              " -0.5149395475188641,\n",
              " 1.4062653991970397,\n",
              " 1.0597884277939138,\n",
              " 1.2280983894865165,\n",
              " 2.985373813097185,\n",
              " 0.09340432852944858,\n",
              " 0.7078272438682691,\n",
              " 1.5257226203909058,\n",
              " 1.8423959262849352,\n",
              " 3.205315364853294,\n",
              " 1.9312872708881033,\n",
              " -1.2545710655223883,\n",
              " -0.06718488106462761,\n",
              " 3.253687083173438,\n",
              " 0.7016140102204864,\n",
              " -1.2469923168650228,\n",
              " 1.840583715493564,\n",
              " 2.0965587057134867,\n",
              " 2.714910300589116,\n",
              " -1.2758718446515647,\n",
              " 2.4855057912007528,\n",
              " 0.011375039512780738,\n",
              " -1.9371647622640173,\n",
              " 1.376537562708124,\n",
              " 0.38394636622428235,\n",
              " 2.868361189791865,\n",
              " 1.4716277732912926,\n",
              " 1.656925405500553,\n",
              " 3.1454489170095847,\n",
              " -1.5705406617747744,\n",
              " 1.2976316903650007,\n",
              " -0.0778946925338666,\n",
              " 1.4454229056119163,\n",
              " -0.9035551577245511,\n",
              " 2.251864234252471,\n",
              " 2.2783040649851483,\n",
              " -1.7034157111464778,\n",
              " -1.174758678912458,\n",
              " 2.001017531925087,\n",
              " 0.04322507128626096,\n",
              " -0.48334703756674613,\n",
              " -1.6049344403707089,\n",
              " 3.0365307260454895,\n",
              " 0.6576812042389126,\n",
              " -1.442428030185916,\n",
              " -1.4368424307300764,\n",
              " 1.3210901151831012,\n",
              " 0.22525023062830263,\n",
              " -1.8587501552766494,\n",
              " 2.6121159726000016,\n",
              " 0.7815031517802677,\n",
              " -1.0419442555391676,\n",
              " -1.1003154897821226,\n",
              " -1.6931118029670813,\n",
              " -1.5568688635373014,\n",
              " -0.672058442543821,\n",
              " 1.0033234738498256,\n",
              " -0.442208242743638,\n",
              " 3.2429149104865536,\n",
              " -1.2426584168906238,\n",
              " -1.7215158126729455,\n",
              " 2.70939237862172,\n",
              " -1.3116781801994528,\n",
              " 0.9194193848806376,\n",
              " 1.582412037402337,\n",
              " 2.156396973403938,\n",
              " 1.3022408410161317,\n",
              " 3.219105845462358,\n",
              " 0.2664221899054393,\n",
              " 0.07416968021780068,\n",
              " -0.08366865107988208,\n",
              " 2.5514433458778356,\n",
              " 1.3216763727787693,\n",
              " 0.062000808083444436,\n",
              " -0.942204595321297,\n",
              " -0.17094340972940025,\n",
              " -0.8927422638155733,\n",
              " -1.7656118566838488,\n",
              " -0.5512016722085291,\n",
              " 3.0960440122822472,\n",
              " -1.8480981982420333,\n",
              " -0.31111262810088425,\n",
              " 0.9805631266947334,\n",
              " 1.2430275689834898,\n",
              " 2.6858881155838557,\n",
              " 2.5998432592780167,\n",
              " -1.1718714634828684,\n",
              " 1.8414469742682256,\n",
              " 1.7620481116296771,\n",
              " -0.46699483770222416,\n",
              " 0.44761443791817923,\n",
              " 1.4641695141320388,\n",
              " -0.8217014614437905,\n",
              " -1.3107307492526115,\n",
              " -0.05793733406338042,\n",
              " 0.5723194372014766,\n",
              " -1.95920262528912,\n",
              " 0.14036685901311197,\n",
              " -1.513618023446547,\n",
              " -1.770077995821156,\n",
              " -1.124610909884869,\n",
              " 0.6284518044081193,\n",
              " 2.741701336710147,\n",
              " -0.004967416327589014,\n",
              " 1.1291884973005213,\n",
              " 2.875492029903903,\n",
              " 0.11614159632600352,\n",
              " 2.936623163974401,\n",
              " -1.8911345171984526,\n",
              " 3.1888289089140374,\n",
              " 1.2671251975598734,\n",
              " 2.178037993947874,\n",
              " -0.44390691809692107,\n",
              " -1.6631268719976249,\n",
              " 0.3735068697777484,\n",
              " 2.362512524039805,\n",
              " 1.2201406628183649,\n",
              " -1.1608792389783251,\n",
              " -0.4586360530859823,\n",
              " -1.2930057918437565,\n",
              " 1.2610855127388176,\n",
              " -0.2829755600103505,\n",
              " 1.777501994213592,\n",
              " 2.2890664042270004,\n",
              " 2.1684633078554647,\n",
              " -0.7891164089749079,\n",
              " -0.9509819042282825,\n",
              " -1.0933518312731945,\n",
              " -0.3333405882662248,\n",
              " 1.5449987988706932,\n",
              " 2.8368173119310844,\n",
              " 0.770509938754202,\n",
              " 3.066755769085013,\n",
              " 1.7855082713374846,\n",
              " -1.5977031075191892,\n",
              " 2.4495862584705304,\n",
              " 2.331538461327086,\n",
              " 0.7644713691080951,\n",
              " 2.476839911414584,\n",
              " -0.9581908388266782,\n",
              " -0.19623475689714454,\n",
              " 2.4534239408332956,\n",
              " 0.615109896607775,\n",
              " 3.1973680099295407,\n",
              " 2.3405659232357694,\n",
              " -1.5123413036299715,\n",
              " 1.9328658338663849,\n",
              " -1.6859959502762196,\n",
              " -0.4850629379252198,\n",
              " 2.765042717761304,\n",
              " 1.0631614864576306,\n",
              " 0.45686717058846416,\n",
              " -0.5019316964946945,\n",
              " -1.6773569954135275,\n",
              " -0.43630931403783646,\n",
              " 1.4884984932252476,\n",
              " 0.5798787239674787,\n",
              " 2.598507295741081,\n",
              " 2.4368430984678158,\n",
              " 2.065543169121848,\n",
              " 3.1745280392186457,\n",
              " -1.6111240388550656,\n",
              " 1.1073841625627714,\n",
              " 2.871076833813695,\n",
              " -0.016550001177299656,\n",
              " 3.0521920221531236,\n",
              " 3.046126367556857,\n",
              " -0.9328258376062819,\n",
              " -0.14527828949499777,\n",
              " -0.15444951271823792,\n",
              " -1.5667315681746559,\n",
              " -1.9120573947023236,\n",
              " -1.5370645814585813,\n",
              " -1.4789910597422775,\n",
              " -0.5569185093069413,\n",
              " 0.7573460676482022,\n",
              " 0.5497026894910846,\n",
              " 1.8095481149725634,\n",
              " 1.9950138949830216,\n",
              " -0.0924731731866526,\n",
              " -0.6545562722232796,\n",
              " 1.31940465243065,\n",
              " 0.16313066206735627,\n",
              " -1.4760274461634608,\n",
              " -1.945714450604895,\n",
              " -1.406260986374717,\n",
              " 1.3633653752051513,\n",
              " 2.6925470967367247,\n",
              " -1.3616586141653944,\n",
              " 0.153564678268177,\n",
              " -0.136367797476719,\n",
              " -1.3180904589425086,\n",
              " 0.8508892133275636,\n",
              " -0.1959942080115784,\n",
              " -1.0670102701343231,\n",
              " -1.138231705659317,\n",
              " 2.581867506235195,\n",
              " 1.6404136117866033,\n",
              " -0.7724845140573944,\n",
              " -0.19780621298244228,\n",
              " 1.7054587409110642,\n",
              " -1.386409180023968,\n",
              " -1.6830693061758017,\n",
              " 0.06966666458048998,\n",
              " -0.09337183256657866,\n",
              " -1.273095339992938,\n",
              " 2.792654264469202,\n",
              " 0.9765024308115215,\n",
              " 2.0349039182137725,\n",
              " 0.5164662625183656,\n",
              " 0.9383167980315021,\n",
              " -1.8989642791964483,\n",
              " 2.4925783897497373,\n",
              " 2.5903586533993934,\n",
              " -1.1301499087671072,\n",
              " -0.5097707636430056,\n",
              " 0.35034453307263647,\n",
              " 2.568630885115013,\n",
              " 1.3821253921820715,\n",
              " -0.9657091457448288,\n",
              " -0.42279013093041007,\n",
              " 1.0232101961279425,\n",
              " 1.7588711756470254,\n",
              " 2.139587406136357,\n",
              " 0.7819069841453041,\n",
              " 1.0115755763346055,\n",
              " 0.6926212954857545,\n",
              " -1.7791812833930212,\n",
              " 2.247113418997283,\n",
              " -0.9872302177535295,\n",
              " -0.616687382264798,\n",
              " -0.008456757553026328,\n",
              " 1.43275758647673,\n",
              " 1.0355192973798983,\n",
              " 0.9324168339998531,\n",
              " -1.260786232381512,\n",
              " -1.912347442204782,\n",
              " -0.6875104518253763,\n",
              " 1.9064034889118964,\n",
              " 3.102713448355747,\n",
              " -0.4960368582054073,\n",
              " -1.4242894621047466,\n",
              " 0.9301032113137442,\n",
              " -0.19611553880480592,\n",
              " -0.43366275099735274,\n",
              " 0.9003526228315057,\n",
              " -0.8792920285557837,\n",
              " -0.2511644023484858,\n",
              " 0.5534224506975511,\n",
              " 1.2935681236639067,\n",
              " 0.009363472013225405,\n",
              " -0.980700806123006,\n",
              " 0.9186732114063321,\n",
              " 2.599606260959762,\n",
              " 0.04639567458858895,\n",
              " 1.1577717783830792,\n",
              " 1.4354564640592584,\n",
              " -0.2955805961809064,\n",
              " -0.4961729863250195,\n",
              " -1.8907667324306558,\n",
              " -1.681258697160667,\n",
              " 0.8238256944568638,\n",
              " -0.5072035147336986,\n",
              " -0.994814491828582,\n",
              " 2.0584556377985326,\n",
              " 2.790601435342719,\n",
              " -1.9904491368688266,\n",
              " 2.6182492971239837,\n",
              " 3.107770954157555,\n",
              " 0.8805880137465802,\n",
              " 2.7926551256287384,\n",
              " 2.426659908931594,\n",
              " -0.8572180277743608,\n",
              " 1.7352231703066492,\n",
              " -0.3899874419273319,\n",
              " 2.0689579473778705,\n",
              " -1.72216710081745,\n",
              " -1.6468409856683743,\n",
              " -1.5800474348199924,\n",
              " -0.6237819175884696,\n",
              " -0.5687967588511715,\n",
              " -0.5542726489241696,\n",
              " -0.8471823438862367,\n",
              " -1.6193093414679383,\n",
              " -0.2595070409298148,\n",
              " -0.01864128025609557,\n",
              " -0.9639783132893263,\n",
              " 0.6134374985174329,\n",
              " -0.7130401469739365,\n",
              " 3.136082340816259,\n",
              " -0.4324328272446061,\n",
              " -1.0932054582908683,\n",
              " -0.5108062125468644,\n",
              " 0.3421067528074624,\n",
              " -1.3547439858074848,\n",
              " 2.0150378587166777,\n",
              " ...)"
            ]
          },
          "execution_count": 21,
          "metadata": {},
          "output_type": "execute_result"
        }
      ],
      "source": [
        "epsilon"
      ]
    },
    {
      "cell_type": "markdown",
      "metadata": {
        "id": "3_kvF7X3HN8Y"
      },
      "source": [
        "The reason the sampling is not uniformly distributed in the following plots is due to the resampling and the fact that we certain values of e.g. velocity are more likely to violate the speed of light constraint than others."
      ]
    },
    {
      "cell_type": "code",
      "execution_count": 22,
      "metadata": {
        "id": "E5YFdqKjUZh5"
      },
      "outputs": [
        {
          "data": {
            "image/png": "[encoded data removed]",
            "text/plain": [
              "<Figure size 2000x1600 with 14 Axes>"
            ]
          },
          "metadata": {},
          "output_type": "display_data"
        }
      ],
      "source": [
        "if not LOAD_DATA_FROM_CSV:\n",
        "    def plot_histogram(data, xlabel, ylabel, position, bins=20, xlog_scale=False, ylog_scale=False):\n",
        "        plt.subplot(4, 5, position)\n",
        "        plt.hist(data, bins=bins)\n",
        "        plt.xlabel(xlabel)\n",
        "        plt.ylabel(ylabel)\n",
        "        if xlog_scale: # Setting does not work expected for epsilon.\n",
        "            plt.xscale(\"log\")\n",
        "        if ylog_scale: # Setting does not work expected for epsilon.\n",
        "            plt.yscale(\"log\")\n",
        "\n",
        "    # Plotting the histograms of rho, vx, epsilon, b0, b1, b2, and b3\n",
        "    bins = 20\n",
        "    plt.figure(figsize=(20, 16))\n",
        "\n",
        "    plot_histogram(rho, \"rho\", \"Frequency\", 1, bins=bins)\n",
        "    plot_histogram(epsilon, \"epsilon\", \"Frequency\", 2, bins=bins)\n",
        "    plot_histogram(vx, \"vx\", \"Frequency\", 3, bins=bins)\n",
        "    plot_histogram(vy, \"vy\", \"Frequency\", 4, bins=bins)\n",
        "    plot_histogram(vz, \"vz\", \"Frequency\", 5, bins=bins)\n",
        "    plot_histogram(Bx, \"Bx\", \"Frequency\", 6, bins=bins)\n",
        "    plot_histogram(By, \"By\", \"Frequency\", 7, bins=bins)\n",
        "    plot_histogram(Bz, \"Bz\", \"Frequency\", 8, bins=bins)\n",
        "\n",
        "    # Plot these\n",
        "    plot_histogram(gxx, \"gxx\", \"Frequency\", 9, bins=bins)\n",
        "    plot_histogram(gxy, \"gxy\", \"Frequency\", 10, bins=bins)\n",
        "    plot_histogram(gxz, \"gxz\", \"Frequency\", 11, bins=bins)\n",
        "    plot_histogram(gyy, \"gyy\", \"Frequency\", 12, bins=bins)\n",
        "    plot_histogram(gyz, \"gyz\", \"Frequency\", 13, bins=bins)\n",
        "    plot_histogram(gzz, \"gzz\", \"Frequency\", 14, bins=bins)\n",
        "\n",
        "\n",
        "    plt.suptitle(\"Primitive variables and metric\")\n",
        "    plt.tight_layout()\n",
        "    plt.show()\n"
      ]
    },
    {
      "cell_type": "code",
      "execution_count": 23,
      "metadata": {
        "id": "dTcNcyMgHN8Z"
      },
      "outputs": [],
      "source": [
        "%config InteractiveShell.ast_node_interactivity = \"last_expr_or_assign\""
      ]
    },
    {
      "cell_type": "code",
      "execution_count": 24,
      "metadata": {
        "colab": {
          "base_uri": "https://localhost:8080/",
          "height": 1000
        },
        "id": "4iqKHAHZHN8Z",
        "outputId": "6eee4661-d72c-4e45-d717-cacded545a76"
      },
      "outputs": [
        {
          "data": {
            "image/png": "[encoded data removed]",
            "text/plain": [
              "<Figure size 1600x1600 with 14 Axes>"
            ]
          },
          "metadata": {},
          "output_type": "display_data"
        }
      ],
      "source": [
        "# Variable names\n",
        "variable_names = [\"D\", \"Sx\", \"Sy\", \"Sz\", \"tau\", \"Bconsx\", \"Bconsy\", \"Bconsz\", \"gxx\", \"gxy\", \"gxz\", \"gyy\", \"gyz\", \"gzz\"]\n",
        "\n",
        "# Plotting histograms of the input variables before z-score normalization\n",
        "plt.figure(figsize=(16, 16))\n",
        "plt.suptitle('Histograms of input variables before (or without at all) z-score normalization', y=1.03)\n",
        "\n",
        "for i in range(N_INPUTS):\n",
        "    plt.subplot(7, 2, i+1)\n",
        "    data = x_train[:, i].cpu().numpy() # Convert tensor to numpy array for percentile calculation\n",
        "    lower_bound, upper_bound = np.percentile(data, [1, 100]) # NOTE: Use this instead to visualize all the data.\n",
        "    # lower_bound, upper_bound = np.percentile(data, [1, 90]) # Calculate 1st and 99th percentile\n",
        "\n",
        "    plt.hist(data, bins=50, range=(lower_bound, upper_bound)) # Set range to the calculated percentile range\n",
        "    plt.xlabel(variable_names[i])\n",
        "    plt.xlim(lower_bound, upper_bound) # Set the x limit to match the range of the histogram\n",
        "\n",
        "plt.subplots_adjust(hspace=0.4, wspace=0.4)\n",
        "plt.show()\n",
        "\n",
        "# Same plotting but for the test data. Adjust the percentile range as needed to zoom in.\n",
        "# plt.figure(figsize=(16, 16))\n",
        "# plt.suptitle('Histograms of input variables before (or without at all) z-score normalization (test data)', y=1.03)\n",
        "\n",
        "# for i in range(14):\n",
        "#     plt.subplot(7, 2, i+1)\n",
        "#     data = x_test[:, i].cpu().numpy() # Convert tensor to numpy array for percentile calculation\n",
        "#     #lower_bound, upper_bound = np.percentile(data, [1, 100]) # NOTE: Use this instead to visualize all the data.\n",
        "#     lower_bound, upper_bound = np.percentile(data, [1, 99]) # Use this to zoom in.\n",
        "\n",
        "#     plt.hist(data, bins=50, range=(lower_bound, upper_bound)) # Set range to the calculated percentile range\n",
        "#     plt.xlabel(variable_names[i])\n",
        "#     plt.xlim(lower_bound, upper_bound) # Set the x limit to match the range of the histogram\n",
        "\n",
        "# plt.subplots_adjust(hspace=0.4, wspace=0.4)\n",
        "# plt.show()\n",
        "\n"
      ]
    },
    {
      "cell_type": "markdown",
      "metadata": {
        "id": "hP3uW6rHHN8Z"
      },
      "source": [
        "### Data normalization"
      ]
    },
    {
      "cell_type": "code",
      "execution_count": 25,
      "metadata": {
        "colab": {
          "base_uri": "https://localhost:8080/"
        },
        "id": "wpnS-VjRHN8a",
        "outputId": "cfd017cd-ec7a-4a34-e1eb-322954bcdb17"
      },
      "outputs": [
        {
          "name": "stdout",
          "output_type": "stream",
          "text": [
            "Summary statistics of input variables before z-score normalization\n",
            "tensor([[ 2.4537e-05,  2.1732e+02,  2.2565e+00,  1.6685e+00,  3.4293e+00],\n",
            "        [-1.5137e+04,  1.3792e+05,  4.0033e+01,  2.2072e+01,  5.8566e+02],\n",
            "        [-5.9199e+03,  1.1878e+05,  4.1193e+01,  2.1838e+01,  5.8886e+02],\n",
            "        [-8.2847e+03,  7.2247e+04,  4.0164e+01,  2.1809e+01,  4.4259e+02],\n",
            "        [-1.6846e+04,  1.9019e+05,  9.6279e+01,  6.9918e+01,  9.0982e+02],\n",
            "        [-1.1279e+01,  1.1142e+01,  1.8498e-02,  4.6037e-02,  5.7354e+00],\n",
            "        [-1.1275e+01,  1.1179e+01,  9.5901e-03, -1.2960e-02,  5.7351e+00],\n",
            "        [-1.1221e+01,  1.1241e+01, -1.6503e-02, -3.4062e-02,  5.7292e+00],\n",
            "        [ 9.0001e-01,  1.1000e+00,  9.9850e-01,  9.9780e-01,  5.7786e-02],\n",
            "        [ 1.3228e-06,  1.0000e-01,  4.9714e-02,  4.9599e-02,  2.8893e-02],\n",
            "        [ 8.2247e-07,  9.9994e-02,  4.9587e-02,  4.9286e-02,  2.8837e-02],\n",
            "        [ 9.0000e-01,  1.1000e+00,  9.9873e-01,  9.9836e-01,  5.7683e-02],\n",
            "        [ 2.0861e-06,  9.9996e-02,  4.9501e-02,  4.9107e-02,  2.8802e-02],\n",
            "        [ 9.0000e-01,  1.1000e+00,  9.9873e-01,  9.9831e-01,  5.7665e-02]])\n"
          ]
        }
      ],
      "source": [
        "# Computing summary statistics of the input variables before and after z-score normalization\n",
        "print('Summary statistics of input variables before z-score normalization')\n",
        "print(torch.stack([torch.min(x_train, dim=0).values, torch.max(x_train, dim=0).values, torch.nanmean(x_train, dim=0), torch.median(x_train, dim=0).values, torch.std(x_train, dim=0)], dim=1))"
      ]
    },
    {
      "cell_type": "markdown",
      "metadata": {
        "id": "xTEmkR1SUZh7"
      },
      "source": [
        "Perform z-score normalization"
      ]
    },
    {
      "cell_type": "code",
      "execution_count": 26,
      "metadata": {
        "id": "ZEV1kpBBHN8a"
      },
      "outputs": [],
      "source": [
        "%config InteractiveShell.ast_node_interactivity = \"all\""
      ]
    },
    {
      "cell_type": "code",
      "execution_count": 27,
      "metadata": {
        "id": "yPOv6DxhUZh7"
      },
      "outputs": [],
      "source": [
        "if ZSCORE_NORMALIZATION:\n",
        "    \n",
        "    # TODO: Add magnetic field variables to the normalization if I decide to use the old code that is commented out here.\n",
        "    # # Computing the median of each input variable from the training set using torch.nanmedian function\n",
        "    # D_median = torch.nanmedian(x_train[:, 0])\n",
        "    # Sx_median = torch.nanmedian(x_train[:, 1])\n",
        "    # Sy_median = torch.nanmedian(x_train[:, 2])\n",
        "    # Sz_median = torch.nanmedian(x_train[:, 3])\n",
        "    # tau_median = torch.nanmedian(x_train[:, 4])\n",
        "\n",
        "    # # Computing the standard deviation of each input variable from the training set using torch.std function with a boolean mask to ignore nan values\n",
        "    # D_std = torch.std(x_train[~torch.isnan(x_train[:, 0]), 0])\n",
        "    # Sx_std = torch.std(x_train[~torch.isnan(x_train[:, 1]), 1])\n",
        "    # Sy_std = torch.std(x_train[~torch.isnan(x_train[:, 2]), 2])\n",
        "    # Sz_std = torch.std(x_train[~torch.isnan(x_train[:, 3]), 3])\n",
        "    # tau_std = torch.std(x_train[~torch.isnan(x_train[:, 4]), 4])\n",
        "\n",
        "\n",
        "    # # Applying z-score normalization to both train and test sets using the statistics from the training set\n",
        "    # x_train[:, 0] = torch.sub(x_train[:, 0], D_median).div(D_std)\n",
        "    # x_train[:, 1] = torch.sub(x_train[:, 1], Sx_median).div(Sx_std)\n",
        "    # x_train[:, 2] = torch.sub(x_train[:, 2], Sy_median).div(Sy_std)\n",
        "    # x_train[:, 3] = torch.sub(x_train[:, 3], Sz_median).div(Sz_std)\n",
        "    # x_train[:, 4] = torch.sub(x_train[:, 4], tau_median).div(tau_std)\n",
        "\n",
        "    # x_test[:, 0] = torch.sub(x_test[:, 0], D_median).div(D_std)\n",
        "    # x_test[:, 1] = torch.sub(x_test[:, 1], Sx_median).div(Sx_std)\n",
        "    # x_test[:, 2] = torch.sub(x_test[:, 2], Sy_median).div(Sy_std)\n",
        "    # x_test[:, 3] = torch.sub(x_test[:, 3], Sz_median).div(Sz_std)\n",
        "    # x_test[:, 4] = torch.sub(x_test[:, 4], tau_median).div(tau_std)\n",
        "\n",
        "    # Computing the mean and standard deviation of each column\n",
        "    mean = x_train.mean(dim=0)\n",
        "    std = x_train.std(dim=0)\n",
        "\n",
        "    # Applying z-score normalization\n",
        "    x_train = (x_train - mean) / std\n",
        "    # Use the same mean and std from the training data as we don't want test data leakage.\n",
        "    x_test = (x_test - mean) / std\n",
        "\n"
      ]
    },
    {
      "cell_type": "markdown",
      "metadata": {
        "id": "IG4u2FBzHN8a"
      },
      "source": [
        "Plotting the histograms of the input data after normalization if z-score normalization was performed."
      ]
    },
    {
      "cell_type": "code",
      "execution_count": 28,
      "metadata": {
        "id": "-mdz5bsWHN8b"
      },
      "outputs": [],
      "source": [
        "%config InteractiveShell.ast_node_interactivity = \"last_expr_or_assign\""
      ]
    },
    {
      "cell_type": "code",
      "execution_count": 29,
      "metadata": {
        "id": "Omnvq_J5HN8b"
      },
      "outputs": [],
      "source": [
        "if not LOAD_DATA_FROM_CSV:\n",
        "    if ZSCORE_NORMALIZATION:\n",
        "        # Variable names\n",
        "        variable_names = [\"D\", \"Sx\", \"Sy\", \"Sz\", \"tau\", \"Bconsx\", \"Bconsy\", \"Bconsz\", \"gxx\", \"gxy\", \"gxz\", \"gyy\", \"gyz\", \"gzz\"]\n",
        "\n",
        "        # Plotting histograms of the input variables before z-score normalization\n",
        "        plt.figure(figsize=(16, 16))\n",
        "        plt.suptitle('Histograms of input variables before (or without at all) z-score normalization', y=1.03)\n",
        "\n",
        "        for i in range(N_INPUTS):\n",
        "            plt.subplot(7, 2, i+1)\n",
        "            data = x_train[:, i].cpu().numpy() # Convert tensor to numpy array for percentile calculation\n",
        "            lower_bound, upper_bound = np.percentile(data, [1, 100]) # NOTE: Use this instead to visualize all the data.\n",
        "            # lower_bound, upper_bound = np.percentile(data, [1, 90]) # Calculate 1st and 99th percentile\n",
        "\n",
        "            plt.hist(data, bins=50, range=(lower_bound, upper_bound)) # Set range to the calculated percentile range\n",
        "            plt.xlabel(variable_names[i])\n",
        "            plt.xlim(lower_bound, upper_bound) # Set the x limit to match the range of the histogram\n",
        "\n",
        "        plt.subplots_adjust(hspace=0.4, wspace=0.4)\n",
        "        plt.show()"
      ]
    },
    {
      "cell_type": "code",
      "execution_count": 30,
      "metadata": {
        "id": "7C4eW98QHN8c"
      },
      "outputs": [],
      "source": [
        "if ZSCORE_NORMALIZATION:\n",
        "    # Computing summary statistics of the input variables after z-score normalization\n",
        "    print('Summary statistics of input variables after z-score normalization')\n",
        "    print(torch.stack([torch.min(x_train, dim=0).values, torch.max(x_train, dim=0).values, torch.mean(x_train, dim=0), torch.median(x_train, dim=0).values, torch.std(x_train, dim=0)], dim=1))\n"
      ]
    },
    {
      "cell_type": "markdown",
      "metadata": {
        "id": "EMCLRA9bHN8c"
      },
      "source": [
        "### Visualizing input data and labels"
      ]
    },
    {
      "cell_type": "code",
      "execution_count": 31,
      "metadata": {
        "colab": {
          "base_uri": "https://localhost:8080/"
        },
        "id": "SYHYz9NNHN8c",
        "outputId": "30400da7-47f0-4b50-aacc-0d044b4bf979"
      },
      "outputs": [
        {
          "data": {
            "text/plain": [
              "tensor([  3.8258,  12.7731,   5.8416,  ...,  -1.6631,  -0.1913, -12.2837])"
            ]
          },
          "execution_count": 31,
          "metadata": {},
          "output_type": "execute_result"
        }
      ],
      "source": [
        "x_train\n",
        "y_train\n",
        "x_val\n",
        "y_val\n",
        "x_test\n",
        "y_test"
      ]
    },
    {
      "cell_type": "markdown",
      "metadata": {
        "id": "E96p_MsOUZh9",
        "outputId": "4b95bad0-8f3a-4364-eed1-008e0ce2a5e3"
      },
      "source": [
        "Checking if our output is always positive ~~by plotting a histogram of y_train and y_test tensors~~"
      ]
    },
    {
      "cell_type": "code",
      "execution_count": 32,
      "metadata": {
        "colab": {
          "base_uri": "https://localhost:8080/"
        },
        "id": "-6XbKoDGHN8c",
        "outputId": "7eba9831-14f5-4fe9-b3f1-15506a7642a7"
      },
      "outputs": [
        {
          "name": "stdout",
          "output_type": "stream",
          "text": [
            "tensor(True)\n"
          ]
        }
      ],
      "source": [
        "import torch\n",
        "\n",
        "# Create a sample tensor\n",
        "tensor = torch.randn(80000, 14)  # Assuming a tensor of shape [80000, 14]\n",
        "tensor\n",
        "\n",
        "\n",
        "# Check if any element is negative\n",
        "any_negative = torch.any(tensor < 0)\n",
        "\n",
        "# Print the result\n",
        "print(any_negative)\n"
      ]
    },
    {
      "cell_type": "code",
      "execution_count": 33,
      "metadata": {
        "colab": {
          "base_uri": "https://localhost:8080/"
        },
        "id": "pbFS4QGZHN8d",
        "outputId": "358cae6f-b839-4acd-b432-bc74ab45f96b"
      },
      "outputs": [
        {
          "data": {
            "text/plain": [
              "tensor(True)"
            ]
          },
          "execution_count": 33,
          "metadata": {},
          "output_type": "execute_result"
        }
      ],
      "source": [
        "y_train.shape\n",
        "any_negative = torch.any(y_train < 0)\n",
        "any_negative\n",
        "\n",
        "y_test.shape\n",
        "any_negative = torch.any(y_test < 0)\n",
        "any_negative\n",
        "\n",
        "x_train.shape\n",
        "any_negative = torch.any(x_train < 0)\n",
        "any_negative"
      ]
    },
    {
      "cell_type": "code",
      "execution_count": 34,
      "metadata": {
        "colab": {
          "base_uri": "https://localhost:8080/",
          "height": 407
        },
        "id": "67xnLt38HN8d",
        "outputId": "e7eb69b2-c77a-4eee-b1f0-46993499f63e"
      },
      "outputs": [
        {
          "data": {
            "image/png": "[encoded data removed]",
            "text/plain": [
              "<Figure size 800x400 with 3 Axes>"
            ]
          },
          "metadata": {},
          "output_type": "display_data"
        }
      ],
      "source": [
        "plt.figure(figsize=(8, 4))\n",
        "plt.subplot(1, 3, 1)\n",
        "plt.hist(y_train.cpu().numpy(), bins=20) # must be cpu here.\n",
        "plt.xlabel(\"y_train\")\n",
        "plt.ylabel(\"Frequency\")\n",
        "plt.xscale(\"log\")\n",
        "plt.subplot(1, 3, 2)\n",
        "plt.hist(y_val.cpu().numpy(), bins=20) # must be cpu here\n",
        "plt.xlabel(\"y_val\")\n",
        "plt.ylabel(\"Frequency\")\n",
        "plt.xscale(\"log\")\n",
        "plt.tight_layout()\n",
        "plt.subplot(1, 3, 3)\n",
        "plt.hist(y_test.cpu().numpy(), bins=20) # must be cpu here\n",
        "plt.xlabel(\"y_test\")\n",
        "plt.ylabel(\"Frequency\")\n",
        "plt.xscale(\"log\")\n",
        "plt.tight_layout()\n",
        "plt.show()\n"
      ]
    },
    {
      "cell_type": "code",
      "execution_count": 35,
      "metadata": {
        "id": "FEgjk--AUZh9"
      },
      "outputs": [],
      "source": [
        "%config InteractiveShell.ast_node_interactivity = \"all\""
      ]
    },
    {
      "cell_type": "markdown",
      "metadata": {
        "id": "r2b9GecHUZh9"
      },
      "source": [
        "## Defining the neural network"
      ]
    },
    {
      "cell_type": "code",
      "execution_count": 36,
      "metadata": {
        "id": "Iv8HA-ZXUZh-"
      },
      "outputs": [],
      "source": [
        "# Defining a class for the network\n",
        "class Net(nn.Module):\n",
        "    \"\"\"A class for creating a network with a\n",
        "    variable number of hidden layers and units.\n",
        "\n",
        "    Attributes:\n",
        "        n_layers (int): The number of hidden layers in the network.\n",
        "        n_units (list): A list of integers representing the number of units in each hidden layer.\n",
        "        hidden_activation (torch.nn.Module): The activation function for the hidden layers.\n",
        "        output_activation (torch.nn.Module): The activation function for the output layer.\n",
        "        layers (torch.nn.ModuleList): A list of linear layers in the network.\n",
        "    \"\"\"\n",
        "\n",
        "    def __init__(self, n_layers, n_units, hidden_activation, output_activation):\n",
        "        \"\"\"Initializes the network with the given hyperparameters.\n",
        "\n",
        "        Args:\n",
        "            n_layers (int): The number of hidden layers in the network.\n",
        "            n_units (list): A list of integers representing the number of units in each hidden layer.\n",
        "            hidden_activation (torch.nn.Module): The activation function for the hidden layers.\n",
        "            output_activation (torch.nn.Module): The activation function for the output layer.\n",
        "        \"\"\"\n",
        "        super().__init__()\n",
        "        self.n_layers = n_layers\n",
        "        self.n_units = n_units\n",
        "        self.hidden_activation = hidden_activation\n",
        "        self.output_activation = output_activation\n",
        "\n",
        "        # Creating a list of linear layers with different numbers of units for each layer\n",
        "        self.layers = nn.ModuleList([nn.Linear(N_INPUTS, n_units[0])])\n",
        "        for i in range(1, n_layers):\n",
        "            self.layers.append(nn.Linear(n_units[i - 1], n_units[i]))\n",
        "        self.layers.append(nn.Linear(n_units[-1], 1))\n",
        "\n",
        "        # Adding some assertions to check that the input arguments are valid\n",
        "        assert isinstance(n_layers, int) and n_layers > 0, \"n_layers must be a positive integer\"\n",
        "        assert isinstance(n_units, list) and len(n_units) == n_layers, \"n_units must be a list of length n_layers\"\n",
        "        assert all(isinstance(n, int) and n > 0 for n in n_units), \"n_units must contain positive integers\"\n",
        "        assert isinstance(hidden_activation, nn.Module), \"hidden_activation must be a torch.nn.Module\"\n",
        "        assert isinstance(output_activation, nn.Module), \"output_activation must be a torch.nn.Module\"\n",
        "\n",
        "    def forward(self, x):\n",
        "        \"\"\"Performs a forward pass on the input tensor.\n",
        "\n",
        "        Args:\n",
        "            x (torch.Tensor): The input tensor of shape (batch_size, N_INPUTS).\n",
        "\n",
        "        Returns:\n",
        "            torch.Tensor: The output tensor of shape (batch_size, 1).\n",
        "        \"\"\"\n",
        "        # Adding an assertion to check that the input tensor has the expected shape and type\n",
        "        assert isinstance(x, torch.Tensor), \"x must be a torch.Tensor\"\n",
        "        assert x.shape[1] == N_INPUTS, f\"x must have shape (batch_size, {N_INPUTS})\"\n",
        "\n",
        "        # Looping over the hidden layers and applying the linear transformation and the activation function\n",
        "        for layer in self.layers[:-1]:\n",
        "            x = self.hidden_activation(layer(x))\n",
        "        # Applying the linear transformation and the activation function on the output layer\n",
        "        x = self.output_activation(self.layers[-1](x))\n",
        "\n",
        "        # Returning the output tensor\n",
        "        return x\n"
      ]
    },
    {
      "cell_type": "markdown",
      "metadata": {
        "id": "6GNvp55PUZh_"
      },
      "source": [
        "## Defining the model and search space"
      ]
    },
    {
      "cell_type": "code",
      "execution_count": 37,
      "metadata": {
        "id": "9a1opluOUZh_"
      },
      "outputs": [],
      "source": [
        "# Defining a function to create a trial network and optimizer\n",
        "def create_model(trial, optimize):\n",
        "    \"\"\"Creates a trial network and optimizer based on the sampled hyperparameters.\n",
        "\n",
        "    Args:\n",
        "        trial (optuna.trial.Trial): The trial object that contains the hyperparameters.\n",
        "        optimize (boolean): Whether to optimize the hyperparameters or to use predefined values.\n",
        "\n",
        "    Returns:\n",
        "        tuple: A tuple of (net, loss_fn, optimizer, batch_size, n_epochs,\n",
        "            scheduler, loss_name, optimizer_name, scheduler_name,\n",
        "            n_units, n_layers, hidden_activation, output_activation),\n",
        "            where net is the trial network,\n",
        "            loss_fn is the loss function,\n",
        "            optimizer is the optimizer,\n",
        "            batch_size is the batch size,\n",
        "            n_epochs is the number of epochs,\n",
        "            scheduler is the learning rate scheduler,\n",
        "            loss_name is the name of the loss function,\n",
        "            optimizer_name is the name of the optimizer,\n",
        "            scheduler_name is the name of the scheduler,\n",
        "            n_units is a list of integers representing\n",
        "            the number of units in each hidden layer,\n",
        "            n_layers is an integer representing the number of hidden layers in the network,\n",
        "            hidden_activation is a torch.nn.Module representing the activation function for the hidden layers,\n",
        "            output_activation is a torch.nn.Module representing the activation function for the output layer,\n",
        "            lr is the (initial) learning rate.\n",
        "    \"\"\"\n",
        "    # If optimize is True, sample the hyperparameters from the search space\n",
        "    if OPTIMIZE:\n",
        "        n_layers = trial.suggest_int(\"n_layers\", 2, 10)\n",
        "        n_units = [trial.suggest_int(f\"n_units_{i}\", 16, 4096) for i in range(n_layers)]\n",
        "\n",
        "        hidden_activation_name = trial.suggest_categorical(\n",
        "            \"hidden_activation\", [\"ReLU\", \"LeakyReLU\", \"ELU\"]\n",
        "        )\n",
        "        output_activation_name = trial.suggest_categorical( \"output_activation\", [\"Linear\"])\n",
        "\n",
        "        loss_name = trial.suggest_categorical( \"loss\", [\"MSE\", \"MAE\", \"Huber\", \"Quantile\"])  # Added Quantile loss\n",
        "\n",
        "        optimizer_name = trial.suggest_categorical( \"optimizer\", [\"Adam\", \"SGD\", \"RMSprop\", \"Adagrad\"] )\n",
        "\n",
        "        lr = trial.suggest_loguniform(\"lr\", 1e-6, 1)\n",
        "\n",
        "        batch_size_list = [32, 64, 128, 256, 512, 1024, 2048]\n",
        "        batch_size = trial.suggest_categorical(\"batch_size\", batch_size_list)\n",
        "        \n",
        "        n_epochs = trial.suggest_int(\"n_epochs\", 50, 150)\n",
        "\n",
        "        scheduler_name = trial.suggest_categorical(\"scheduler\", [\"CosineAnnealingLR\", \"ReduceLROnPlateau\", \"StepLR\", \"CyclicLR\"])  # Added CyclicLR\n",
        "\n",
        "    # If optimize is False, use the predefined values\n",
        "    else:\n",
        "        # Setting the hyperparameters to the predefined values\n",
        "        n_layers = N_LAYERS_NO_OPT\n",
        "        n_units = N_UNITS_NO_OPT\n",
        "        hidden_activation_name = HIDDEN_ACTIVATION_NAME_NO_OPT\n",
        "        output_activation_name = OUTPUT_ACTIVATION_NAME_NO_OPT\n",
        "        loss_name = LOSS_NAME_NO_OPT\n",
        "        optimizer_name = OPTIMIZER_NAME_NO_OPT\n",
        "        lr = LR_NO_OPT\n",
        "        batch_size = BATCH_SIZE_NO_OPT\n",
        "        n_epochs = N_EPOCHS_NO_OPT\n",
        "        scheduler_name = SCHEDULER_NAME_NO_OPT\n",
        "\n",
        "    # Creating the activation functions from their names\n",
        "    if hidden_activation_name == \"ReLU\":\n",
        "        hidden_activation = nn.ReLU()\n",
        "    elif hidden_activation_name == \"LeakyReLU\":\n",
        "        hidden_activation = nn.LeakyReLU() \n",
        "    elif hidden_activation_name == \"ELU\":\n",
        "        hidden_activation = nn.ELU() \n",
        "    elif hidden_activation_name == \"Tanh\":\n",
        "        hidden_activation = nn.Tanh()\n",
        "    elif hidden_activation_name == \"Sigmoid\":\n",
        "        hidden_activation = nn.Sigmoid()\n",
        "\n",
        "    # We used to have options here, but since we have a regression problem with continuous output, we only use Linear.\n",
        "    output_activation = nn.Identity()\n",
        "\n",
        "    # Creating the loss function from its name\n",
        "    if loss_name == \"MSE\":\n",
        "        loss_fn = nn.MSELoss()\n",
        "    elif loss_name == \"MAE\":\n",
        "        loss_fn = nn.L1Loss()\n",
        "    elif loss_name == \"Huber\":\n",
        "        loss_fn = nn.SmoothL1Loss() \n",
        "    elif loss_name == \"Quantile\":  # Added Quantile loss\n",
        "        def quantile_loss(y_pred, y_true, q=0.5):\n",
        "            e = y_pred - y_true\n",
        "            return torch.mean(torch.max(q*e, (q-1)*e))\n",
        "        loss_fn = quantile_loss\n",
        "    else:\n",
        "        def log_cosh_loss(y_pred, y_true):\n",
        "            return torch.mean(torch.log(torch.cosh(y_pred - y_true)))\n",
        "        loss_fn = log_cosh_loss\n",
        "\n",
        "    # Creating the network with the sampled hyperparameters\n",
        "    net = Net(n_layers, n_units, hidden_activation, output_activation).to(device)\n",
        "\n",
        "    if OPTIMIZE:\n",
        "        # Creating the optimizer from its name\n",
        "        if optimizer_name == \"SGD\":\n",
        "            weight_decay = trial.suggest_loguniform(\"weight_decay\", 1e-5, 1e-2)\n",
        "            momentum = trial.suggest_uniform(\"momentum\", 0.0, 0.99)\n",
        "            optimizer = optim.SGD(net.parameters(), lr=lr, weight_decay=weight_decay, momentum=momentum)\n",
        "        elif optimizer_name == \"Adam\":\n",
        "            weight_decay = trial.suggest_loguniform(\"weight_decay\", 1e-5, 1e-2)\n",
        "            beta1 = trial.suggest_uniform(\"beta1\", 0.9, 0.999)\n",
        "            beta2 = trial.suggest_uniform(\"beta2\", 0.999, 0.9999)\n",
        "            optimizer = optim.Adam(net.parameters(), lr=lr, weight_decay=weight_decay, betas=(beta1, beta2))\n",
        "        elif optimizer_name == \"RMSprop\":\n",
        "            optimizer = optim.RMSprop(net.parameters(), lr=lr)\n",
        "        else:\n",
        "            optimizer = optim.Adagrad(net.parameters(), lr=lr)\n",
        "\n",
        "        # Creating the learning rate scheduler from its name\n",
        "        if scheduler_name == \"StepLR\":\n",
        "            step_size = trial.suggest_int(\"step_size\", 5, 15)\n",
        "            gamma = trial.suggest_uniform(\"gamma\", 0.1, 0.5)\n",
        "            scheduler = optim.lr_scheduler.StepLR(optimizer, step_size=step_size, gamma=gamma)\n",
        "        elif scheduler_name == \"ExponentialLR\":\n",
        "            gamma = trial.suggest_uniform(\"gamma\", 0.8, 0.99)\n",
        "            scheduler = optim.lr_scheduler.ExponentialLR(optimizer, gamma=gamma)\n",
        "        elif scheduler_name == \"CosineAnnealingLR\":\n",
        "            if n_epochs < 150:\n",
        "                t_max_fraction = trial.suggest_uniform('t_max_fraction', 0.1, 0.3)\n",
        "            elif n_epochs > 250:\n",
        "                t_max_fraction = trial.suggest_uniform('t_max_fraction', 0.05, 0.1)\n",
        "            else:\n",
        "                t_max_fraction = trial.suggest_uniform('t_max_fraction', 0.1, 0.2)\n",
        "\n",
        "            T_max = int(n_epochs * t_max_fraction)\n",
        "            eta_min = trial.suggest_loguniform(\"eta_min\", 1e-7, 1e-2)\n",
        "            scheduler = optim.lr_scheduler.CosineAnnealingLR(optimizer, T_max=T_max, eta_min=eta_min)\n",
        "        elif scheduler_name == \"ReduceLROnPlateau\":\n",
        "            factor = trial.suggest_uniform(\"factor\", 0.1, 0.5)\n",
        "            patience = trial.suggest_int(\"patience\", 5, 10)\n",
        "            threshold = trial.suggest_loguniform(\"threshold\", 1e-4, 1e-2)\n",
        "            scheduler = optim.lr_scheduler.ReduceLROnPlateau(\n",
        "                optimizer, mode=\"min\", factor=factor, patience=patience, threshold=threshold\n",
        "            )\n",
        "        elif scheduler_name == \"CyclicLR\":  # Added CyclicLR\n",
        "            base_lr = trial.suggest_loguniform(\"base_lr\", 1e-6, 1e-2)\n",
        "            max_lr = trial.suggest_loguniform(\"max_lr\", 1e-4, 1)\n",
        "            step_size_up = trial.suggest_int(\"step_size_up\", 200, 2000)\n",
        "            scheduler = optim.lr_scheduler.CyclicLR(optimizer, base_lr=base_lr, max_lr=max_lr, step_size_up=step_size_up)\n",
        "        else:\n",
        "            scheduler = None\n",
        "    else:\n",
        "        # Creating the optimizer from its name\n",
        "        if optimizer_name == \"SGD\":\n",
        "            optimizer = optim.SGD(net.parameters(), lr=lr)\n",
        "        elif optimizer_name == \"Adam\":\n",
        "            optimizer = optim.Adam(net.parameters(), lr=lr)\n",
        "        elif optimizer_name == \"RMSprop\":\n",
        "            optimizer = optim.RMSprop(net.parameters(), lr=lr)\n",
        "        else:\n",
        "            optimizer = optim.Adagrad(net.parameters(), lr=lr)\n",
        "\n",
        "        # Creating the learning rate scheduler from its name\n",
        "        if scheduler_name == \"StepLR\":\n",
        "            scheduler = optim.lr_scheduler.StepLR(optimizer, step_size=10, gamma=0.1)\n",
        "        elif scheduler_name == \"ExponentialLR\":\n",
        "            scheduler = optim.lr_scheduler.ExponentialLR(optimizer, gamma=0.9)\n",
        "        elif scheduler_name == \"CosineAnnealingLR\":\n",
        "            scheduler = optim.lr_scheduler.CosineAnnealingLR(optimizer)\n",
        "        elif scheduler_name == \"ReduceLROnPlateau\":\n",
        "            scheduler = optim.lr_scheduler.ReduceLROnPlateau(\n",
        "                        optimizer, mode=\"min\", factor=0.18979341786654758, patience=11, threshold=0.0017197466122611932 #, min_lr=1e-6\n",
        "                    )\n",
        "        elif scheduler_name == \"CyclicLR\":  # Added CyclicLR\n",
        "            # TODO: Change these appropriately.\n",
        "            base_lr = 1e-6\n",
        "            max_lr = 1e-4\n",
        "            step_size_up = 200\n",
        "            scheduler = optim.lr_scheduler.CyclicLR(optimizer, base_lr=base_lr, max_lr=max_lr, step_size_up=step_size_up)\n",
        "        else:\n",
        "            scheduler = None\n",
        "\n",
        "    # Returning all variables needed for saving and loading\n",
        "    return net, loss_fn, optimizer, batch_size, n_epochs, scheduler, loss_name, optimizer_name, scheduler_name, n_units, n_layers, hidden_activation, output_activation, lr\n",
        "\n"
      ]
    },
    {
      "cell_type": "markdown",
      "metadata": {
        "id": "l-czA7VvUZiD"
      },
      "source": [
        " ## The training and evaluation loop\n",
        "\n",
        " We first define a couple of functions used in the training and evaluation."
      ]
    },
    {
      "cell_type": "code",
      "execution_count": 38,
      "metadata": {
        "id": "aD6FQNmxUZiD"
      },
      "outputs": [],
      "source": [
        "# Defining a function that computes loss and metrics for a given batch\n",
        "def compute_loss_and_metrics(y_pred, y_true, loss_fn):\n",
        "    \"\"\"Computes loss and metrics for a given batch.\n",
        "\n",
        "    Args:\n",
        "        y_pred (torch.Tensor): The predicted pressure tensor of shape (batch_size, 1).\n",
        "        y_true (torch.Tensor): The true pressure tensor of shape (batch_size,).\n",
        "        loss_fn (torch.nn.Module or function): The loss function to use.\n",
        "\n",
        "    Returns:\n",
        "        tuple: A tuple of (loss, l1_norm), where loss is a scalar tensor,\n",
        "            l1_norm is L1 norm for relative error of pressure,\n",
        "            each being a scalar tensor.\n",
        "            linf_norm is Linf norm for relative error of pressure.\n",
        "    \"\"\"\n",
        "    # Reshaping the target tensor to match the input tensor\n",
        "    y_true = y_true.view(-1, 1)\n",
        "\n",
        "    # Computing the loss using the loss function\n",
        "    loss = loss_fn(y_pred, y_true)\n",
        "\n",
        "    # Computing the relative error of pressure\n",
        "    rel_error = torch.abs((y_pred - y_true) / y_true)\n",
        "\n",
        "    # Computing the L1 norm for the relative error of pressure\n",
        "    l1_norm = torch.mean(rel_error) \n",
        "    # Computing the Linf norm for the relative error of pressure\n",
        "    linf_norm = torch.max(rel_error) \n",
        "\n",
        "    # Returning the loss and metrics\n",
        "    return loss, l1_norm, linf_norm\n",
        "\n",
        "\n",
        "# Defining a function that updates the learning rate scheduler with validation loss if applicable\n",
        "def update_scheduler(scheduler, test_loss):\n",
        "    \"\"\"Updates the learning rate scheduler with validation loss if applicable.\n",
        "\n",
        "    Args:\n",
        "        scheduler (torch.optim.lr_scheduler._LRScheduler or None): The learning rate scheduler to use.\n",
        "        test_loss (float): The validation loss to use.\n",
        "\n",
        "    Returns:\n",
        "        None\n",
        "    \"\"\"\n",
        "    # Checking if scheduler is not None\n",
        "    if scheduler is not None:\n",
        "        # Checking if scheduler is ReduceLROnPlateau\n",
        "        if isinstance(scheduler, optim.lr_scheduler.ReduceLROnPlateau):\n",
        "            # Updating the scheduler with test_loss\n",
        "            scheduler.step(test_loss)\n",
        "        else:\n",
        "            # Updating the scheduler without test_loss\n",
        "            scheduler.step()\n"
      ]
    },
    {
      "cell_type": "markdown",
      "metadata": {
        "id": "w1nE662UUZiE"
      },
      "source": [
        "Now for the actual training and evaluation loop,"
      ]
    },
    {
      "cell_type": "code",
      "execution_count": 39,
      "metadata": {
        "id": "YAOjgKW3UZiF"
      },
      "outputs": [],
      "source": [
        "# Defining a function to train and evaluate a network\n",
        "def train_and_eval(net, loss_fn, optimizer, batch_size, n_epochs, scheduler, train_loader, val_loader, test_loader, trial=None):\n",
        "    # Initializing lists to store the losses and metrics for each epoch\n",
        "    train_losses = []\n",
        "    val_losses = []\n",
        "    test_losses = []\n",
        "    train_metrics = []\n",
        "    val_metrics = []\n",
        "    test_metrics = []\n",
        "\n",
        "\n",
        "    # Creating a SummaryWriter object to log data for tensorboard\n",
        "    writer = tbx.SummaryWriter()\n",
        "\n",
        "    # Looping over the epochs\n",
        "    for epoch in range(n_epochs):\n",
        "\n",
        "        # Setting the network to training mode\n",
        "        net.train()\n",
        "\n",
        "        # Initializing variables to store the total loss and metrics for the train set\n",
        "        train_loss = 0.0\n",
        "        train_l1_norm = 0.0\n",
        "        train_linf_norm = 0.0\n",
        "\n",
        "        # Looping over the batches in the train set\n",
        "        for x_batch, y_batch in train_loader:\n",
        "\n",
        "            # Moving the batch tensors to the device\n",
        "            x_batch = x_batch.to(device)\n",
        "            y_batch = y_batch.to(device)\n",
        "\n",
        "            # Zeroing the gradients\n",
        "            optimizer.zero_grad()\n",
        "\n",
        "            # Performing a forward pass and computing the loss and metrics\n",
        "            y_pred = net(x_batch)\n",
        "            loss, l1_norm, linf_norm = compute_loss_and_metrics(y_pred, y_batch, loss_fn)\n",
        "\n",
        "\n",
        "            # Performing a backward pass and updating the weights\n",
        "            loss.backward()\n",
        "            optimizer.step()\n",
        "\n",
        "            # Updating the total loss and metrics for the train set\n",
        "            train_loss += loss.item() * x_batch.size(0)\n",
        "            train_l1_norm += l1_norm.item() * x_batch.size(0)\n",
        "            train_linf_norm += linf_norm.item() * x_batch.size(0)\n",
        "\n",
        "        # Computing the average loss and metrics for the train set\n",
        "        train_loss /= len(train_loader.dataset)\n",
        "        train_l1_norm /= len(train_loader.dataset)\n",
        "        train_linf_norm /= len(train_loader.dataset)\n",
        "\n",
        "        # Appending the average loss and metrics for the train set to the lists\n",
        "        train_losses.append(train_loss)\n",
        "        train_metrics.append(\n",
        "            {\n",
        "                \"l1_norm\": train_l1_norm,\n",
        "                \"linf_norm\": train_linf_norm,\n",
        "            }\n",
        "        )\n",
        "\n",
        "        # Logging the average loss and metrics for the train set to tensorboard\n",
        "        writer.add_scalar(\"Loss/train\", train_loss, epoch)\n",
        "        writer.add_scalar(\"L1 norm/train\", train_l1_norm, epoch)\n",
        "        writer.add_scalar(\"Linf norm/train\", train_linf_norm, epoch)\n",
        "\n",
        "        if val_loader is not None:\n",
        "            net.eval()\n",
        "            val_loss = 0.0\n",
        "            val_l1_norm = 0.0\n",
        "            val_linf_norm = 0.0\n",
        "\n",
        "            with torch.no_grad():\n",
        "                for x_batch, y_batch in val_loader:\n",
        "                    x_batch = x_batch.to(device)\n",
        "                    y_batch = y_batch.to(device)\n",
        "                    y_pred = net(x_batch)\n",
        "                    loss, l1_norm, linf_norm = compute_loss_and_metrics(y_pred, y_batch, loss_fn)\n",
        "\n",
        "                    val_loss += loss.item() * x_batch.size(0)\n",
        "                    val_l1_norm += l1_norm.item() * x_batch.size(0)\n",
        "                    val_linf_norm += linf_norm.item() * x_batch.size(0)\n",
        "\n",
        "            val_loss /= len(val_loader.dataset)\n",
        "            val_l1_norm /= len(val_loader.dataset)\n",
        "            val_linf_norm /= len(val_loader.dataset)\n",
        "\n",
        "            val_losses.append(val_loss)\n",
        "            val_metrics.append(\n",
        "                {\n",
        "                    \"l1_norm\": val_l1_norm,\n",
        "                    \"linf_norm\": val_linf_norm,\n",
        "                }\n",
        "            )\n",
        "\n",
        "            writer.add_scalar(\"Loss/val\", val_loss, epoch)\n",
        "            writer.add_scalar(\"L1 norm/val\", val_l1_norm, epoch)\n",
        "            writer.add_scalar(\"Linf norm/val\", val_linf_norm, epoch)\n",
        "            print(f\"Epoch {epoch+1}/{n_epochs}.. Train loss: {train_loss:.3f}.. Val loss: {val_loss:.3f}.. Train L1 norm: {train_l1_norm:.3f}.. Val L1 norm: {val_l1_norm:.3f}.. Train Linf norm: {train_linf_norm:.3f}.. Val Linf norm: {val_linf_norm:.3f}\")\n",
        "\n",
        "\n",
        "            update_scheduler(scheduler, val_loss)\n",
        "\n",
        "        if test_loader is not None:\n",
        "            net.eval()\n",
        "            test_loss = 0.0\n",
        "            test_l1_norm = 0.0\n",
        "            test_linf_norm = 0.0\n",
        "\n",
        "            with torch.no_grad():\n",
        "                for x_batch, y_batch in test_loader:\n",
        "                    x_batch = x_batch.to(device)\n",
        "                    y_batch = y_batch.to(device)\n",
        "                    y_pred = net(x_batch)\n",
        "                    loss, l1_norm, linf_norm = compute_loss_and_metrics(y_pred, y_batch, loss_fn)\n",
        "\n",
        "                    test_loss += loss.item() * x_batch.size(0)\n",
        "                    test_l1_norm += l1_norm.item() * x_batch.size(0)\n",
        "                    test_linf_norm += linf_norm.item() * x_batch.size(0)\n",
        "\n",
        "            test_loss /= len(test_loader.dataset)\n",
        "            test_l1_norm /= len(test_loader.dataset)\n",
        "            test_linf_norm /= len(test_loader.dataset)\n",
        "\n",
        "            test_losses.append(test_loss)\n",
        "            test_metrics.append(\n",
        "                {\n",
        "                    \"l1_norm\": test_l1_norm,\n",
        "                    \"linf_norm\": test_linf_norm,\n",
        "                }\n",
        "            )\n",
        "\n",
        "            writer.add_scalar(\"Loss/test\", test_loss, epoch)\n",
        "            writer.add_scalar(\"L1 norm/test\", test_l1_norm, epoch)\n",
        "            writer.add_scalar(\"Linf norm/test\", test_linf_norm, epoch)\n",
        "            print(f\"Epoch {epoch+1}/{n_epochs}.. Train loss: {train_loss:.3f}.. Test loss: {test_loss:.3f}.. Train L1 norm: {train_l1_norm:.3f}.. Test L1 norm: {test_l1_norm:.3f}.. Train Linf norm: {train_linf_norm:.3f}.. Test Linf norm: {test_linf_norm:.3f}\")\n",
        "\n",
        "\n",
        "        # Reporting the intermediate metric value to Optuna if trial is not None\n",
        "        if trial is not None:\n",
        "            trial.report(val_l1_norm, epoch)\n",
        "\n",
        "            if trial.should_prune():\n",
        "                raise optuna.TrialPruned()\n",
        "\n",
        "    # Closing the SummaryWriter object\n",
        "    writer.close()\n",
        "\n",
        "    # Returning the losses and metrics lists\n",
        "    return train_losses, val_losses, test_losses, train_metrics, val_metrics, test_metrics\n"
      ]
    },
    {
      "cell_type": "markdown",
      "metadata": {
        "id": "xg9jz0SvUZiQ"
      },
      "source": [
        "## The objective function and hyperparameter tuning"
      ]
    },
    {
      "cell_type": "code",
      "execution_count": 40,
      "metadata": {
        "id": "fmRncQPuUZiR"
      },
      "outputs": [],
      "source": [
        "# Defining an objective function for Optuna to minimize\n",
        "def objective(trial):\n",
        "    \"\"\"Defines an objective function for Optuna to minimize.\n",
        "\n",
        "    Args:\n",
        "        trial (optuna.trial.Trial): The trial object that contains the hyperparameters.\n",
        "\n",
        "    Returns:\n",
        "        float: The validation L1 norm to minimize.\n",
        "    \"\"\"\n",
        "    # Creating a trial network and optimizer using the create_model function\n",
        "    net, \\\n",
        "    loss_fn, \\\n",
        "    optimizer, \\\n",
        "    batch_size, \\\n",
        "    n_epochs, \\\n",
        "    scheduler, \\\n",
        "    loss_name, \\\n",
        "    optimizer_name, \\\n",
        "    scheduler_name, \\\n",
        "    n_units, \\\n",
        "    n_layers, \\\n",
        "    hidden_activation, \\\n",
        "    output_activation, \\\n",
        "    lr = create_model(trial, optimize=True)\n",
        "\n",
        "    # Create separate data loaders for training and validation\n",
        "    train_loader = torch.utils.data.DataLoader(\n",
        "        torch.utils.data.TensorDataset(x_train, y_train), batch_size=batch_size, shuffle=True\n",
        "    )\n",
        "    val_loader = torch.utils.data.DataLoader(\n",
        "        torch.utils.data.TensorDataset(x_val, y_val), batch_size=batch_size\n",
        "    )\n",
        "    \n",
        "    _, _, _, _, val_metrics, _ = train_and_eval(\n",
        "        net, loss_fn, optimizer, batch_size, n_epochs, scheduler, train_loader, val_loader, None, trial\n",
        "    )\n",
        "\n",
        "    # Returning the last validation L1 norm as the objective value to minimize\n",
        "    return val_metrics[-1][\"l1_norm\"]"
      ]
    },
    {
      "cell_type": "code",
      "execution_count": 41,
      "metadata": {
        "colab": {
          "base_uri": "https://localhost:8080/"
        },
        "id": "GyES4NAyUZiS",
        "outputId": "51366bd4-ec2b-4852-8ff1-13e15d2d24af"
      },
      "outputs": [],
      "source": [
        "if OPTIMIZE:\n",
        "    # Creating a study object with Optuna with TPE sampler and median pruner \n",
        "    study = optuna.create_study(direction=\"minimize\", sampler=optuna.samplers.TPESampler(), pruner=optuna.pruners.MedianPruner())\n",
        "\n",
        "    # Running Optuna with 100 trials when we are optimizing.\n",
        "    study.optimize(objective, n_trials=N_TRIALS)\n",
        "\n",
        "    # Printing the best trial information\n",
        "    print(\"Best trial:\")\n",
        "    trial = study.best_trial\n",
        "    print(\"  Value: \", trial.value)\n",
        "    print(\"  Params: \")\n",
        "    for key, value in trial.params.items():\n",
        "        print(f\"    {key}: {value}\")\n"
      ]
    },
    {
      "cell_type": "markdown",
      "metadata": {
        "id": "jmMfE9_dUZiS"
      },
      "source": [
        "## Training the model"
      ]
    },
    {
      "cell_type": "code",
      "execution_count": 42,
      "metadata": {
        "colab": {
          "base_uri": "https://localhost:8080/"
        },
        "id": "phyiHlWEUZiT",
        "outputId": "c346fe72-8e40-498d-c0f0-f19fdffcdb9f"
      },
      "outputs": [],
      "source": [
        "# Creating the best network and optimizer using the best hyperparameters\n",
        "if OPTIMIZE:\n",
        "    net, \\\n",
        "    loss_fn, \\\n",
        "    optimizer, \\\n",
        "    batch_size, \\\n",
        "    n_epochs, \\\n",
        "    scheduler, \\\n",
        "    loss_name, \\\n",
        "    optimizer_name, \\\n",
        "    scheduler_name, \\\n",
        "    n_units, \\\n",
        "    n_layers, \\\n",
        "    hidden_activation, \\\n",
        "    output_activation, \\\n",
        "    lr = create_model(trial, optimize=True)\n",
        "# Creating the network with predefined hyperparameters\n",
        "else:\n",
        "    net, \\\n",
        "    loss_fn, \\\n",
        "    optimizer, \\\n",
        "    batch_size, \\\n",
        "    n_epochs, \\\n",
        "    scheduler, \\\n",
        "    loss_name, \\\n",
        "    optimizer_name, \\\n",
        "    scheduler_name, \\\n",
        "    n_units, \\\n",
        "    n_layers, \\\n",
        "    hidden_activation, \\\n",
        "    output_activation, \\\n",
        "    lr = create_model(trial=None, optimize=False)"
      ]
    },
    {
      "cell_type": "code",
      "execution_count": 43,
      "metadata": {
        "colab": {
          "base_uri": "https://localhost:8080/"
        },
        "id": "_yq-oY81UZiU",
        "outputId": "d54b899b-4a0d-4012-f541-ed53ec86b0d6"
      },
      "outputs": [
        {
          "name": "stdout",
          "output_type": "stream",
          "text": [
            "loss_fn: SmoothL1Loss()\n",
            "batch_size: 49\n",
            "n_epochs: 5\n",
            "scheduler: <torch.optim.lr_scheduler.ReduceLROnPlateau object at 0x7fad07e94e90>\n",
            "loss_name: Huber\n",
            "optimizer_name: RMSprop\n",
            "scheduler_name: ReduceLROnPlateau\n",
            "n_units: [555, 458, 115]\n",
            "n_layers: 3\n",
            "hidden_activation: ReLU()\n",
            "output_activation: Identity()\n"
          ]
        }
      ],
      "source": [
        "print(\"loss_fn:\", loss_fn)\n",
        "print(\"batch_size:\", batch_size)\n",
        "print(\"n_epochs:\", n_epochs)\n",
        "print(\"scheduler:\", scheduler)\n",
        "print(\"loss_name:\", loss_name)\n",
        "print(\"optimizer_name:\", optimizer_name)\n",
        "print(\"scheduler_name:\", scheduler_name)\n",
        "print(\"n_units:\", n_units)\n",
        "print(\"n_layers:\", n_layers)\n",
        "print(\"hidden_activation:\", hidden_activation)\n",
        "print(\"output_activation:\", output_activation)"
      ]
    },
    {
      "cell_type": "markdown",
      "metadata": {
        "id": "E7aLWdZyUZiW",
        "outputId": "8fb1e8c6-5aa3-43a1-a255-712cf9396d0c"
      },
      "source": [
        "After optimizing with Optuna and deciding on the best hyperparameters, we combine the training and validatin set, using that as the new training set for training the model, and then evaluate the model on the test set"
      ]
    },
    {
      "cell_type": "code",
      "execution_count": 44,
      "metadata": {
        "colab": {
          "base_uri": "https://localhost:8080/"
        },
        "id": "ixkefwgPHN8i",
        "outputId": "263dafd6-a295-4f81-991a-14b4ee348390"
      },
      "outputs": [
        {
          "name": "stdout",
          "output_type": "stream",
          "text": [
            "Epoch 1/5.. Train loss: 4.069.. Test loss: 3.630.. Train L1 norm: 5.448.. Test L1 norm: 5.250.. Train Linf norm: 187.353.. Test Linf norm: 162.614\n",
            "Epoch 2/5.. Train loss: 3.895.. Test loss: 3.579.. Train L1 norm: 5.832.. Test L1 norm: 5.757.. Train Linf norm: 202.745.. Test Linf norm: 180.985\n",
            "Epoch 3/5.. Train loss: 3.666.. Test loss: 3.440.. Train L1 norm: 5.592.. Test L1 norm: 4.472.. Train Linf norm: 190.894.. Test Linf norm: 145.434\n",
            "Epoch 4/5.. Train loss: 3.348.. Test loss: 2.789.. Train L1 norm: 5.138.. Test L1 norm: 4.293.. Train Linf norm: 178.945.. Test Linf norm: 143.712\n",
            "Epoch 5/5.. Train loss: 3.093.. Test loss: 2.595.. Train L1 norm: 5.010.. Test L1 norm: 3.439.. Train Linf norm: 176.955.. Test Linf norm: 112.317\n"
          ]
        }
      ],
      "source": [
        "x_train_val = torch.cat((x_train, x_val), 0)\n",
        "y_train_val = torch.cat((y_train, y_val), 0)\n",
        "\n",
        "train_val_loader = torch.utils.data.DataLoader(\n",
        "    torch.utils.data.TensorDataset(x_train_val, y_train_val), batch_size=batch_size, shuffle=True\n",
        ")\n",
        "test_loader = torch.utils.data.DataLoader(\n",
        "    torch.utils.data.TensorDataset(x_test, y_test), batch_size=batch_size\n",
        ")\n",
        "\n",
        "train_losses, _, test_losses, train_metrics, _, test_metrics, = train_and_eval(\n",
        "    net, loss_fn, optimizer, batch_size, n_epochs, scheduler, train_val_loader, None, test_loader, None\n",
        ")"
      ]
    },
    {
      "cell_type": "markdown",
      "metadata": {
        "id": "akNucrgMUZiW"
      },
      "source": [
        "## Saving"
      ]
    },
    {
      "cell_type": "code",
      "execution_count": 45,
      "metadata": {
        "id": "LHsrs2Y-UZic"
      },
      "outputs": [],
      "source": [
        "import json\n",
        "\n",
        "# save the network to a .pth file\n",
        "torch.save(net.state_dict(), \"net.pth\")\n",
        "save_file(\"net.pth\")\n",
        "\n",
        "# save the optimizer to a .pth file\n",
        "torch.save(optimizer.state_dict(), \"optimizer.pth\")\n",
        "save_file(\"optimizer.pth\")\n",
        "\n",
        "# save the scheduler to a .pth file if it is not None\n",
        "if scheduler is not None:\n",
        "  torch.save(scheduler.state_dict(), \"scheduler.pth\")\n",
        "  save_file(\"scheduler.pth\")\n",
        "\n",
        "# create a dictionary to store the rest of the variables\n",
        "var_dict = {\n",
        "  \"batch_size\": batch_size,\n",
        "  \"n_epochs\": n_epochs,\n",
        "  \"loss_name\": loss_name,\n",
        "  \"optimizer_name\": optimizer_name,\n",
        "  \"scheduler_name\": scheduler_name,\n",
        "  \"n_units\": n_units,\n",
        "  \"n_layers\": n_layers,\n",
        "  \"hidden_activation_name\": hidden_activation.__class__.__name__,\n",
        "  \"output_activation_name\": output_activation.__class__.__name__,\n",
        "  \"lr\": lr,\n",
        "}\n",
        "\n",
        "# save the dictionary to a .json file\n",
        "with open(\"var_dict.json\", \"w\") as f:\n",
        "  json.dump(var_dict, f)\n",
        "save_file(\"var_dict.json\")\n",
        "\n",
        "# Saving the output of the training using pandas\n",
        "train_df = pd.DataFrame(\n",
        "    {\n",
        "        \"train_loss\": train_losses,\n",
        "        \"test_loss\": test_losses,\n",
        "        \"train_l1_norm\": [m[\"l1_norm\"] for m in train_metrics],\n",
        "        \"test_l1_norm\": [m[\"l1_norm\"] for m in test_metrics],\n",
        "        \"train_linf_norm\": [m[\"linf_norm\"] for m in train_metrics],\n",
        "        \"test_linf_norm\": [m[\"linf_norm\"] for m in test_metrics],\n",
        "    }\n",
        ")\n",
        "train_df.to_csv(\"train_output.csv\", index=False)\n",
        "save_file(\"train_output.csv\")\n"
      ]
    },
    {
      "cell_type": "markdown",
      "metadata": {
        "id": "qU23l7dIUZie"
      },
      "source": [
        "## Visualizing the results"
      ]
    },
    {
      "cell_type": "code",
      "execution_count": 46,
      "metadata": {
        "colab": {
          "base_uri": "https://localhost:8080/",
          "height": 1000
        },
        "id": "cippWZS6UZie",
        "outputId": "1f35550a-9d1f-425d-d15c-2f0305c9886b"
      },
      "outputs": [
        {
          "data": {
            "text/plain": [
              "<Figure size 1200x800 with 0 Axes>"
            ]
          },
          "execution_count": 46,
          "metadata": {},
          "output_type": "execute_result"
        },
        {
          "data": {
            "text/plain": [
              "<Axes: >"
            ]
          },
          "execution_count": 46,
          "metadata": {},
          "output_type": "execute_result"
        },
        {
          "data": {
            "text/plain": [
              "[<matplotlib.lines.Line2D at 0x7fad048cdd50>]"
            ]
          },
          "execution_count": 46,
          "metadata": {},
          "output_type": "execute_result"
        },
        {
          "data": {
            "text/plain": [
              "[<matplotlib.lines.Line2D at 0x7fad04829f50>]"
            ]
          },
          "execution_count": 46,
          "metadata": {},
          "output_type": "execute_result"
        },
        {
          "data": {
            "text/plain": [
              "Text(0.5, 0, 'Epoch')"
            ]
          },
          "execution_count": 46,
          "metadata": {},
          "output_type": "execute_result"
        },
        {
          "data": {
            "text/plain": [
              "Text(0, 0.5, 'L1 Norm')"
            ]
          },
          "execution_count": 46,
          "metadata": {},
          "output_type": "execute_result"
        },
        {
          "data": {
            "text/plain": [
              "(0.001, 100.0)"
            ]
          },
          "execution_count": 46,
          "metadata": {},
          "output_type": "execute_result"
        },
        {
          "data": {
            "text/plain": [
              "<matplotlib.legend.Legend at 0x7fada50d72d0>"
            ]
          },
          "execution_count": 46,
          "metadata": {},
          "output_type": "execute_result"
        },
        {
          "data": {
            "text/plain": [
              "<Axes: >"
            ]
          },
          "execution_count": 46,
          "metadata": {},
          "output_type": "execute_result"
        },
        {
          "data": {
            "text/plain": [
              "[<matplotlib.lines.Line2D at 0x7fad07fd0c90>]"
            ]
          },
          "execution_count": 46,
          "metadata": {},
          "output_type": "execute_result"
        },
        {
          "data": {
            "text/plain": [
              "[<matplotlib.lines.Line2D at 0x7fad045d5450>]"
            ]
          },
          "execution_count": 46,
          "metadata": {},
          "output_type": "execute_result"
        },
        {
          "data": {
            "text/plain": [
              "Text(0.5, 0, 'Epoch')"
            ]
          },
          "execution_count": 46,
          "metadata": {},
          "output_type": "execute_result"
        },
        {
          "data": {
            "text/plain": [
              "Text(0, 0.5, 'Linf Norm')"
            ]
          },
          "execution_count": 46,
          "metadata": {},
          "output_type": "execute_result"
        },
        {
          "data": {
            "text/plain": [
              "(0.001, 100.0)"
            ]
          },
          "execution_count": 46,
          "metadata": {},
          "output_type": "execute_result"
        },
        {
          "data": {
            "text/plain": [
              "<matplotlib.legend.Legend at 0x7fad06d2ea10>"
            ]
          },
          "execution_count": 46,
          "metadata": {},
          "output_type": "execute_result"
        },
        {
          "data": {
            "image/png": "[encoded data removed]",
            "text/plain": [
              "<Figure size 1200x800 with 2 Axes>"
            ]
          },
          "metadata": {},
          "output_type": "display_data"
        },
        {
          "data": {
            "text/plain": [
              "<Figure size 800x600 with 0 Axes>"
            ]
          },
          "execution_count": 46,
          "metadata": {},
          "output_type": "execute_result"
        },
        {
          "data": {
            "text/plain": [
              "[<matplotlib.lines.Line2D at 0x7fad024f3e90>]"
            ]
          },
          "execution_count": 46,
          "metadata": {},
          "output_type": "execute_result"
        },
        {
          "data": {
            "text/plain": [
              "[<matplotlib.lines.Line2D at 0x7fad02714290>]"
            ]
          },
          "execution_count": 46,
          "metadata": {},
          "output_type": "execute_result"
        },
        {
          "data": {
            "text/plain": [
              "Text(0.5, 0, 'Epoch')"
            ]
          },
          "execution_count": 46,
          "metadata": {},
          "output_type": "execute_result"
        },
        {
          "data": {
            "text/plain": [
              "Text(0, 0.5, 'Huber Loss')"
            ]
          },
          "execution_count": 46,
          "metadata": {},
          "output_type": "execute_result"
        },
        {
          "data": {
            "text/plain": [
              "(1e-07, 1.0)"
            ]
          },
          "execution_count": 46,
          "metadata": {},
          "output_type": "execute_result"
        },
        {
          "data": {
            "text/plain": [
              "<matplotlib.legend.Legend at 0x7fad0277a850>"
            ]
          },
          "execution_count": 46,
          "metadata": {},
          "output_type": "execute_result"
        },
        {
          "data": {
            "image/png": "[encoded data removed]",
            "text/plain": [
              "<Figure size 800x600 with 1 Axes>"
            ]
          },
          "metadata": {},
          "output_type": "display_data"
        }
      ],
      "source": [
        "# Plotting the losses and metrics for the best network \n",
        "plt.figure(figsize=(12, 8))\n",
        "#plt.subplot(2, 2, 1)\n",
        "#plt.plot(train_losses, label=\"Train Loss\")\n",
        "#plt.plot(test_losses, label=\"Test Loss\")\n",
        "#plt.xlabel(\"Epoch\")\n",
        "#plt.ylabel(\"Loss\")\n",
        "#plt.legend()\n",
        "plt.subplot(2, 2, 2)\n",
        "plt.plot([m[\"l1_norm\"] for m in train_metrics], label=\"Train L1 Norm\")\n",
        "plt.plot([m[\"l1_norm\"] for m in test_metrics], label=\"Test L1 Norm\")\n",
        "plt.xlabel(\"Epoch\")\n",
        "plt.ylabel(\"L1 Norm\")\n",
        "# Added setting the vertical axis to be in powers of 10\n",
        "plt.yscale(\"log\")\n",
        "# Added setting the vertical axis limits to be from 10^-7 to 10^0\n",
        "plt.ylim(1e-3, 1e2)\n",
        "plt.legend()\n",
        "plt.subplot(2, 2, 3)\n",
        "plt.plot([m[\"linf_norm\"] for m in train_metrics], label=\"Train Linf Norm\")\n",
        "plt.plot([m[\"linf_norm\"] for m in test_metrics], label=\"Test Linf Norm\")\n",
        "plt.xlabel(\"Epoch\")\n",
        "plt.ylabel(\"Linf Norm\")\n",
        "# Added setting the vertical axis to be in powers of 10\n",
        "plt.yscale(\"log\")\n",
        "# Added setting the vertical axis limits to be from 10^-7 to 10^0\n",
        "plt.ylim(1e-3, 1e2)\n",
        "plt.legend()\n",
        "plt.tight_layout()\n",
        "plt.show()\n",
        "\n",
        "# Added plotting MSE of training data and MSE of test data in one plot \n",
        "plt.figure(figsize=(8, 6))\n",
        "plt.plot(train_losses,label=\"training data\")\n",
        "plt.plot(test_losses,label=\"test data\")\n",
        "#if scheduler is not None:\n",
        "#    plt.plot([scheduler.get_last_lr()[0] for _ in range(n_epochs)], label=\"Learning rate\") \n",
        "plt.xlabel(\"Epoch\")\n",
        "plt.ylabel(f\"{loss_name} Loss\")\n",
        "# Added setting the vertical axis to be in powers of 10\n",
        "plt.yscale(\"log\")\n",
        "# Added setting the vertical axis limits to be from 10^-7 to 10^0\n",
        "plt.ylim(1e-7, 1e0)\n",
        "plt.legend()\n",
        "plt.show()"
      ]
    },
    {
      "cell_type": "markdown",
      "metadata": {
        "id": "tiEDutxIUZig"
      },
      "source": [
        "## Loading"
      ]
    },
    {
      "cell_type": "code",
      "execution_count": 47,
      "metadata": {
        "colab": {
          "base_uri": "https://localhost:8080/"
        },
        "id": "p7Mj990wUZih",
        "outputId": "330e6cf7-83f2-4f69-de72-a61872f71c46"
      },
      "outputs": [
        {
          "data": {
            "text/plain": [
              "<All keys matched successfully>"
            ]
          },
          "execution_count": 47,
          "metadata": {},
          "output_type": "execute_result"
        }
      ],
      "source": [
        "import json\n",
        "import pandas as pd\n",
        "\n",
        "# load the dictionary from the .json file\n",
        "with open(\"var_dict.json\", \"r\") as f:\n",
        "  var_dict_loaded = json.load(f)\n",
        "\n",
        "# extract the variables from the dictionary\n",
        "batch_size_loaded = var_dict_loaded[\"batch_size\"]\n",
        "n_epochs_loaded = var_dict_loaded[\"n_epochs\"]\n",
        "loss_name_loaded = var_dict_loaded[\"loss_name\"]\n",
        "optimizer_name_loaded = var_dict_loaded[\"optimizer_name\"]\n",
        "scheduler_name_loaded = var_dict_loaded[\"scheduler_name\"]\n",
        "n_units_loaded = var_dict_loaded[\"n_units\"]\n",
        "n_layers_loaded = var_dict_loaded[\"n_layers\"]\n",
        "hidden_activation_name_loaded = var_dict_loaded[\"hidden_activation_name\"]\n",
        "output_activation_name_loaded = var_dict_loaded[\"output_activation_name\"]\n",
        "lr_loaded = var_dict_loaded[\"lr\"]\n",
        "\n",
        "# create the activation functions from their names\n",
        "if hidden_activation_name_loaded == \"ReLU\":\n",
        "  hidden_activation_loaded = nn.ReLU()\n",
        "elif hidden_activation_name_loaded == \"LeakyReLU\":\n",
        "  hidden_activation_loaded = nn.LeakyReLU() \n",
        "elif hidden_activation_name_loaded == \"ELU\":\n",
        "  hidden_activation_loaded = nn.ELU() \n",
        "\n",
        "# We used to have options here, but since we have a regression problem with continuous output, we only use Linear.\n",
        "output_activation_loaded = nn.Identity()\n",
        "\n",
        "# load the network from the .pth file\n",
        "net_loaded = Net(n_layers_loaded, n_units_loaded, hidden_activation_loaded, output_activation_loaded).to(device)\n",
        "if torch.cuda.is_available():\n",
        " net_loaded.load_state_dict(torch.load(\"net.pth\"))\n",
        "else: \n",
        "  net_loaded.load_state_dict(torch.load(\"net.pth\", map_location=torch.device('cpu')))\n",
        "\n",
        "\n",
        "# Creating the loss function from its name\n",
        "if loss_name_loaded == \"MSE\":\n",
        "    loss_fn_loaded = nn.MSELoss()\n",
        "elif loss_name_loaded == \"MAE\":\n",
        "    loss_fn_loaded = nn.L1Loss()\n",
        "elif loss_name_loaded == \"Huber\":\n",
        "    loss_fn_loaded = nn.SmoothL1Loss() \n",
        "elif loss_name_loaded == \"Quantile\":\n",
        "    def quantile_loss(y_pred, y_true, q=0.5):\n",
        "        e = y_pred - y_true\n",
        "        return torch.mean(torch.max(q*e, (q-1)*e))\n",
        "    loss_fn_loaded = quantile_loss\n",
        "else:\n",
        "    def log_cosh_loss(y_pred, y_true):\n",
        "        return torch.mean(torch.log(torch.cosh(y_pred - y_true)))\n",
        "    loss_fn_loaded = log_cosh_loss\n",
        "\n",
        "# load the optimizer from the .pth file\n",
        "if torch.cuda.is_available():\n",
        "  optimizer_loaded_state_dict = torch.load(\"optimizer.pth\")\n",
        "else:\n",
        "  optimizer_loaded_state_dict = torch.load(\"optimizer.pth\", map_location=torch.device('cpu'))\n",
        "\n",
        "if optimizer_name_loaded == \"SGD\":\n",
        "  # Added getting the weight decay and momentum parameters from the state dict\n",
        "  weight_decay_loaded = optimizer_loaded_state_dict[\"param_groups\"][0][\"weight_decay\"]\n",
        "  momentum_loaded = optimizer_loaded_state_dict[\"param_groups\"][0][\"momentum\"]\n",
        "  optimizer_loaded = optim.SGD(net_loaded.parameters(), lr=lr_loaded, weight_decay=weight_decay_loaded, momentum=momentum_loaded)\n",
        "elif optimizer_name_loaded == \"Adam\":\n",
        "  # Added getting the weight decay and beta parameters from the state dict\n",
        "  weight_decay_loaded = optimizer_loaded_state_dict[\"param_groups\"][0][\"weight_decay\"]\n",
        "  beta1_loaded = optimizer_loaded_state_dict[\"param_groups\"][0][\"betas\"][0]\n",
        "  beta2_loaded = optimizer_loaded_state_dict[\"param_groups\"][0][\"betas\"][1]\n",
        "  optimizer_loaded = optim.Adam(net_loaded.parameters(), lr=lr_loaded, weight_decay=weight_decay_loaded, betas=(beta1_loaded, beta2_loaded))\n",
        "elif optimizer_name_loaded == \"RMSprop\":\n",
        "  optimizer_loaded = optim.RMSprop(net_loaded.parameters(), lr=lr_loaded)\n",
        "else:\n",
        "  # Added loading the Adagrad optimizer\n",
        "  optimizer_loaded = optim.Adagrad(net_loaded.parameters(), lr=lr_loaded)\n",
        "optimizer_loaded.load_state_dict(optimizer_loaded_state_dict)\n",
        "\n",
        "# load the scheduler from the .pth file\n",
        "if torch.cuda.is_available():\n",
        "  scheduler_loaded_state_dict = torch.load(\"scheduler.pth\")\n",
        "else: \n",
        "  scheduler_loaded_state_dict = torch.load(\"scheduler.pth\", map_location=torch.device('cpu'))\n",
        "\n",
        "if scheduler_name_loaded == \"StepLR\":\n",
        "  # Added getting the step_size and gamma parameters from the state dict\n",
        "  step_size_loaded = scheduler_loaded_state_dict[\"step_size\"]\n",
        "  gamma_loaded = scheduler_loaded_state_dict[\"gamma\"]\n",
        "  scheduler_loaded = optim.lr_scheduler.StepLR(optimizer_loaded, step_size=step_size_loaded, gamma=gamma_loaded)\n",
        "elif scheduler_name_loaded == \"ExponentialLR\":\n",
        "  # Added getting the gamma parameter from the state dict\n",
        "  gamma_loaded = scheduler_loaded_state_dict[\"gamma\"]\n",
        "  scheduler_loaded = optim.lr_scheduler.ExponentialLR(optimizer_loaded, gamma=gamma_loaded)\n",
        "elif scheduler_name_loaded == \"CosineAnnealingLR\":\n",
        "  # Added getting the T_max parameter from the state dict\n",
        "  T_max_loaded = scheduler_loaded_state_dict[\"T_max\"]\n",
        "  scheduler_loaded = optim.lr_scheduler.CosineAnnealingLR(optimizer_loaded, T_max=T_max_loaded)\n",
        "elif scheduler_name_loaded == \"ReduceLROnPlateau\":\n",
        "  # Added getting the mode, factor, patience, threshold and min_lr parameters from the state dict\n",
        "  mode_loaded = scheduler_loaded_state_dict[\"mode\"]\n",
        "  factor_loaded = scheduler_loaded_state_dict[\"factor\"]\n",
        "  patience_loaded = scheduler_loaded_state_dict[\"patience\"]\n",
        "  threshold_loaded = scheduler_loaded_state_dict[\"threshold\"]\n",
        "  # TODO: I had [0] after [\"min_lrs\"] here, but I reason it to be a typo, as none of the other subparameters have it. Verify that this was indeed a typo.\n",
        "  min_lr_loaded = scheduler_loaded_state_dict[\"min_lrs\"]\n",
        "  scheduler_loaded = optim.lr_scheduler.ReduceLROnPlateau(\n",
        "                    optimizer_loaded, mode=mode_loaded, factor=factor_loaded, patience=patience_loaded, threshold=threshold_loaded, min_lr=min_lr_loaded\n",
        "                )\n",
        "elif scheduler_name_loaded == \"CyclicLR\":  # Added CyclicLR\n",
        "    base_lr_loaded = scheduler_loaded_state_dict[\"base_lr\"]\n",
        "    max_lr_loaded = scheduler_loaded_state_dict[\"max_lr\"]\n",
        "    step_size_up_loaded = scheduler_loaded_state_dict[\"step_size_up\"]\n",
        "    scheduler_loaded = optim.lr_scheduler.CyclicLR(\n",
        "                    optimizer, base_lr=base_lr_loaded, max_lr=max_lr_loaded, step_size_up=step_size_up_loaded\n",
        "                )\n",
        "else:\n",
        "  scheduler_loaded = None\n",
        "\n",
        "if scheduler_loaded is not None:\n",
        "  # Added loading the state dict to the scheduler_loaded\n",
        "  scheduler_loaded.load_state_dict(scheduler_loaded_state_dict)\n",
        "\n",
        "# Loading the output of the training using pandas\n",
        "train_df_loaded = pd.read_csv(\"train_output.csv\")\n",
        "train_losses_loaded = train_df_loaded[\"train_loss\"].tolist()\n",
        "test_losses_loaded = train_df_loaded[\"test_loss\"].tolist()\n",
        "train_metrics_loaded = [\n",
        "    {\n",
        "        \"l1_norm\": train_df_loaded[\"train_l1_norm\"][i],\n",
        "        \"linf_norm\": train_df_loaded[\"train_linf_norm\"][i],\n",
        "    }\n",
        "    for i in range(len(train_df_loaded))\n",
        "]\n",
        "test_metrics_loaded = [\n",
        "    {\n",
        "        \"l1_norm\": train_df_loaded[\"test_l1_norm\"][i],\n",
        "        \"linf_norm\": train_df_loaded[\"test_linf_norm\"][i],\n",
        "    }\n",
        "    for i in range(len(train_df_loaded))\n",
        "]"
      ]
    },
    {
      "cell_type": "code",
      "execution_count": 48,
      "metadata": {
        "colab": {
          "base_uri": "https://localhost:8080/"
        },
        "id": "GQ_fcj7zUZii",
        "outputId": "e6f46902-7e0a-4082-faf8-11eddc3e3e51"
      },
      "outputs": [
        {
          "name": "stdout",
          "output_type": "stream",
          "text": [
            "skipping\n"
          ]
        }
      ],
      "source": [
        "%%script echo skipping\n",
        "\n",
        "batch_size_loaded\n",
        "n_epochs_loaded\n",
        "loss_name_loaded\n",
        "optimizer_name_loaded\n",
        "scheduler_name_loaded\n",
        "n_units_loaded\n",
        "n_layers_loaded\n",
        "hidden_activation_name_loaded\n",
        "output_activation_name_loaded\n",
        "lr_loaded\n",
        "hidden_activation_loaded\n",
        "output_activation_loaded\n",
        "net_loaded\n",
        "net_loaded.__dict__ # print the subparameters of the network\n",
        "loss_fn_loaded\n",
        "optimizer_loaded\n",
        "optimizer_loaded.__dict__ # print the subparameters of the optimizer\n",
        "scheduler_loaded\n",
        "scheduler_loaded.__dict__ # print the subparameters of the scheduler\n",
        "train_losses_loaded\n",
        "test_losses_loaded\n",
        "train_metrics_loaded\n",
        "test_metrics_loaded"
      ]
    },
    {
      "cell_type": "code",
      "execution_count": 49,
      "metadata": {
        "colab": {
          "base_uri": "https://localhost:8080/"
        },
        "id": "DTePHnUsHN8m",
        "outputId": "a7f2d399-de99-472c-ad7e-021357b21d4a"
      },
      "outputs": [
        {
          "data": {
            "text/plain": [
              "3.0929515327975152"
            ]
          },
          "execution_count": 49,
          "metadata": {},
          "output_type": "execute_result"
        },
        {
          "data": {
            "text/plain": [
              "2.5954794521868227"
            ]
          },
          "execution_count": 49,
          "metadata": {},
          "output_type": "execute_result"
        },
        {
          "data": {
            "text/plain": [
              "3.439412500837445"
            ]
          },
          "execution_count": 49,
          "metadata": {},
          "output_type": "execute_result"
        },
        {
          "data": {
            "text/plain": [
              "112.31664977533818"
            ]
          },
          "execution_count": 49,
          "metadata": {},
          "output_type": "execute_result"
        }
      ],
      "source": [
        "train_losses_loaded[-1]\n",
        "test_losses_loaded[-1]\n",
        "test_metrics_loaded[-1]['l1_norm']\n",
        "test_metrics_loaded[-1]['linf_norm']\n",
        "# print(f'Error is {test_metrics_loaded[-1][\"l1_norm\"] / (3.84e-4)} times bigger than in Dieselhorst et al.')\n",
        "# print(f'Error is {test_metrics_loaded[-1][\"linf_norm\"] / (8.14e-3)} times bigger than in Dieselhorst et al.')"
      ]
    },
    {
      "cell_type": "markdown",
      "metadata": {
        "id": "2gGUowqJHN8m"
      },
      "source": [
        "### Visualize loaded results"
      ]
    },
    {
      "cell_type": "markdown",
      "metadata": {
        "id": "vwLGR1aSUZik"
      },
      "source": [
        "Let us verify correct loading of the train and test metrics by visualizing them again but now through the loaded values. Likewise for the train and test losses."
      ]
    },
    {
      "cell_type": "code",
      "execution_count": 50,
      "metadata": {
        "id": "sXiNgLsmUZil"
      },
      "outputs": [],
      "source": [
        "%config InteractiveShell.ast_node_interactivity = \"last_expr_or_assign\""
      ]
    },
    {
      "cell_type": "code",
      "execution_count": 51,
      "metadata": {
        "colab": {
          "base_uri": "https://localhost:8080/",
          "height": 1000
        },
        "id": "sgq4WfSiUZil",
        "outputId": "07164a1b-73ba-4996-9f62-7910e584c2a0"
      },
      "outputs": [
        {
          "data": {
            "image/png": "[encoded data removed]",
            "text/plain": [
              "<Figure size 640x480 with 2 Axes>"
            ]
          },
          "metadata": {},
          "output_type": "display_data"
        },
        {
          "data": {
            "image/png": "[encoded data removed]",
            "text/plain": [
              "<Figure size 800x600 with 1 Axes>"
            ]
          },
          "metadata": {},
          "output_type": "display_data"
        }
      ],
      "source": [
        "# Plotting the losses and metrics for the best network plt.figure(figsize=(12, \n",
        "#plt.subplot(2, 2, 1)\n",
        "#plt.plot(train_losses_loaded, label=\"Train Loss\")\n",
        "#plt.plot(test_losses_loaded, label=\"Test Loss\")\n",
        "#plt.xlabel(\"Epoch\")\n",
        "#plt.ylabel(\"Loss\")\n",
        "#plt.legend()\n",
        "plt.subplot(2, 2, 2)\n",
        "plt.plot([m[\"l1_norm\"] for m in train_metrics_loaded], label=\"Train L1 Norm\")\n",
        "plt.plot([m[\"l1_norm\"] for m in test_metrics_loaded], label=\"Test L1 Norm\")\n",
        "plt.xlabel(\"Epoch\")\n",
        "plt.ylabel(\"L1 Norm\")\n",
        "# Added setting the vertical axis to be in powers of 10\n",
        "plt.yscale(\"log\")\n",
        "# Added setting the vertical axis limits to be from 10^-7 to 10^0\n",
        "plt.ylim(1e-3, 1e2)\n",
        "plt.legend()\n",
        "plt.subplot(2, 2, 3)\n",
        "plt.plot([m[\"linf_norm\"] for m in train_metrics_loaded], label=\"Train Linf Norm\")\n",
        "plt.plot([m[\"linf_norm\"] for m in test_metrics_loaded], label=\"Test Linf Norm\")\n",
        "plt.xlabel(\"Epoch\")\n",
        "plt.ylabel(\"Linf Norm\")\n",
        "# Added setting the vertical axis to be in powers of 10\n",
        "plt.yscale(\"log\")\n",
        "# Added setting the vertical axis limits to be from 10^-7 to 10^0\n",
        "plt.ylim(1e-3, 1e2)\n",
        "plt.legend()\n",
        "plt.tight_layout()\n",
        "plt.show()\n",
        "\n",
        "# Added plotting MSE of training data and MSE of test data in one plot \n",
        "plt.figure(figsize=(8, 6))\n",
        "plt.plot(train_losses_loaded,label=\"training data\")\n",
        "plt.plot(test_losses_loaded,label=\"test data\")\n",
        "#if scheduler is not None:\n",
        "#    plt.plot([scheduler.get_last_lr()[0] for _ in range(n_epochs)], label=\"Learning rate\") \n",
        "plt.xlabel(\"Epoch\")\n",
        "plt.ylabel(f\"{loss_name_loaded} Loss\")\n",
        "# Added setting the vertical axis to be in powers of 10\n",
        "plt.yscale(\"log\")\n",
        "# Added setting the vertical axis limits to be from 10^-7 to 10^0\n",
        "plt.ylim(1e-7, 1e0)\n",
        "plt.legend()\n",
        "plt.show()\n"
      ]
    },
    {
      "cell_type": "code",
      "execution_count": 52,
      "metadata": {
        "id": "lkgLqJ_UUZim"
      },
      "outputs": [],
      "source": [
        "%config InteractiveShell.ast_node_interactivity = \"all\""
      ]
    },
    {
      "cell_type": "markdown",
      "metadata": {
        "id": "qcnvx5rHHN8o"
      },
      "source": [
        "## Counting the number of parameters in the network."
      ]
    },
    {
      "cell_type": "code",
      "execution_count": 53,
      "metadata": {
        "colab": {
          "base_uri": "https://localhost:8080/"
        },
        "id": "RBJiOe5qHN8o",
        "outputId": "43e5e328-8431-42bc-fe00-22affe2296fe"
      },
      "outputs": [
        {
          "data": {
            "text/plain": [
              "Net(\n",
              "  (hidden_activation): ReLU()\n",
              "  (output_activation): Identity()\n",
              "  (layers): ModuleList(\n",
              "    (0): Linear(in_features=14, out_features=555, bias=True)\n",
              "    (1): Linear(in_features=555, out_features=458, bias=True)\n",
              "    (2): Linear(in_features=458, out_features=115, bias=True)\n",
              "    (3): Linear(in_features=115, out_features=1, bias=True)\n",
              "  )\n",
              ")"
            ]
          },
          "execution_count": 53,
          "metadata": {},
          "output_type": "execute_result"
        },
        {
          "name": "stdout",
          "output_type": "stream",
          "text": [
            "The model has 315874 parameters.\n"
          ]
        }
      ],
      "source": [
        "net_loaded.eval()\n",
        "def count_parameters(model):\n",
        "    return sum(p.numel() for p in model.parameters() if p.requires_grad)\n",
        "print(f'The model has {count_parameters(net_loaded)} parameters.')"
      ]
    },
    {
      "cell_type": "markdown",
      "metadata": {
        "id": "SxuzVSnlUZin"
      },
      "source": [
        "## Evaluating the network on arbirary input\n",
        "### Comparing `net` and `net_loaded`\n",
        "\n",
        "We compare `net` and `net_loaded` to confirm correct loading of the network. Note that `net` is only available if we have trained the model in this session."
      ]
    },
    {
      "cell_type": "code",
      "execution_count": 54,
      "metadata": {
        "colab": {
          "base_uri": "https://localhost:8080/"
        },
        "id": "nVioRwKRHN8p",
        "outputId": "efe9bab8-6ca7-404f-932b-dca6efabf6fe"
      },
      "outputs": [
        {
          "data": {
            "text/plain": [
              "Net(\n",
              "  (hidden_activation): ReLU()\n",
              "  (output_activation): Identity()\n",
              "  (layers): ModuleList(\n",
              "    (0): Linear(in_features=14, out_features=555, bias=True)\n",
              "    (1): Linear(in_features=555, out_features=458, bias=True)\n",
              "    (2): Linear(in_features=458, out_features=115, bias=True)\n",
              "    (3): Linear(in_features=115, out_features=1, bias=True)\n",
              "  )\n",
              ")"
            ]
          },
          "execution_count": 54,
          "metadata": {},
          "output_type": "execute_result"
        }
      ],
      "source": [
        "#%%script echo skipping\n",
        "\n",
        "# Set the network to evaluation mode\n",
        "net.eval()"
      ]
    },
    {
      "cell_type": "code",
      "execution_count": 55,
      "metadata": {
        "colab": {
          "base_uri": "https://localhost:8080/"
        },
        "id": "uGpqe-apHN8p",
        "outputId": "382db945-8fcb-4a11-9445-ea84be6df4fb"
      },
      "outputs": [
        {
          "data": {
            "text/plain": [
              "<bound method Module.eval of Net(\n",
              "  (hidden_activation): ReLU()\n",
              "  (output_activation): Identity()\n",
              "  (layers): ModuleList(\n",
              "    (0): Linear(in_features=14, out_features=555, bias=True)\n",
              "    (1): Linear(in_features=555, out_features=458, bias=True)\n",
              "    (2): Linear(in_features=458, out_features=115, bias=True)\n",
              "    (3): Linear(in_features=115, out_features=1, bias=True)\n",
              "  )\n",
              ")>"
            ]
          },
          "execution_count": 55,
          "metadata": {},
          "output_type": "execute_result"
        }
      ],
      "source": [
        "# Set the network to evaluation mode\n",
        "net_loaded.eval"
      ]
    },
    {
      "cell_type": "code",
      "execution_count": 56,
      "metadata": {
        "colab": {
          "base_uri": "https://localhost:8080/"
        },
        "id": "Cn0tldYLHN8p",
        "outputId": "3826f80c-9fe3-4ed4-b00d-2a7db778cdd5"
      },
      "outputs": [
        {
          "name": "stdout",
          "output_type": "stream",
          "text": [
            "Parameters are the same.\n",
            "Net device: cpu\n",
            "Net_loaded device: cpu\n"
          ]
        }
      ],
      "source": [
        "for p1, p2 in zip(net.parameters(), net_loaded.parameters()):\n",
        "    if p1.data.ne(p2.data).sum() > 0:\n",
        "        print(\"Parameters are NOT the same.\")\n",
        "        break\n",
        "else:\n",
        "    print(\"Parameters are the same.\")\n",
        "\n",
        "print(\"Net device:\", next(net.parameters()).device)\n",
        "print(\"Net_loaded device:\", next(net_loaded.parameters()).device)"
      ]
    },
    {
      "cell_type": "code",
      "execution_count": 57,
      "metadata": {
        "colab": {
          "base_uri": "https://localhost:8080/"
        },
        "id": "C0PLAA0DUZin",
        "outputId": "9ea7dd1d-a90d-41df-954f-9e508e682fe0"
      },
      "outputs": [
        {
          "name": "stdout",
          "output_type": "stream",
          "text": [
            "[Parameter containing:\n",
            "tensor([[-0.2311,  0.1649, -0.1706,  ..., -0.3284, -0.3241, -0.2052],\n",
            "        [ 0.2710, -0.0752,  0.1021,  ...,  0.0654, -0.0031, -0.1363],\n",
            "        [-0.1676,  0.1151,  0.1452,  ..., -0.1753, -0.0070, -0.3937],\n",
            "        ...,\n",
            "        [ 0.0942,  0.1161,  0.0713,  ..., -0.0169, -0.3598, -0.3154],\n",
            "        [-0.2224, -0.1141,  0.0449,  ..., -0.1882, -0.2368, -0.2230],\n",
            "        [ 0.1260, -0.0435,  0.0411,  ...,  0.0139, -0.0673, -0.0108]],\n",
            "       requires_grad=True), Parameter containing:\n",
            "tensor([-0.0660, -0.0234, -0.2781, -0.2386,  0.1586,  0.4305,  0.2189, -0.0525,\n",
            "         0.3228, -0.1299, -0.2641,  0.2278, -0.1661, -0.0935, -0.0922,  0.2880,\n",
            "         0.0203,  0.1206, -0.0603,  0.3896, -0.1508, -0.1999, -0.1188,  0.2417,\n",
            "         0.1113, -0.3805, -0.2088, -0.1075, -0.3112, -0.5315, -0.2435,  0.2737,\n",
            "         0.0574, -0.3564,  0.2492,  0.5737,  0.3248,  0.0727,  0.0489,  0.4315,\n",
            "        -0.3481,  0.2578, -0.0141,  0.3975,  0.0298,  0.0693,  0.2656, -0.2172,\n",
            "        -0.2899,  0.0477, -0.4420, -0.1091, -0.1590, -0.2674, -0.2950, -0.0891,\n",
            "         0.0511, -0.4281, -0.3058,  0.1725, -0.0086, -0.4309, -0.3040,  0.0086,\n",
            "        -0.1424,  0.3531, -0.1267, -0.3757,  0.0923, -0.1515,  0.2879,  0.2060,\n",
            "        -0.1876, -0.0246, -0.4475,  0.0122,  0.2339, -0.0121, -0.1999, -0.5503,\n",
            "        -0.4307, -0.1840,  0.2831, -0.1314, -0.2540, -0.2237,  0.3308, -0.1007,\n",
            "         0.2326,  0.3741,  0.3122, -0.3173,  0.2854,  0.1321, -0.1263,  0.0373,\n",
            "        -0.3520, -0.0024,  0.5685, -0.0463, -0.1719,  0.4845,  0.2502,  0.5056,\n",
            "         0.0292, -0.4186,  0.1422, -0.3425, -0.1346,  0.1396, -0.3223, -0.1278,\n",
            "        -0.1602, -0.1962, -0.5590,  0.2458, -0.1183,  0.0490, -0.0284,  0.1324,\n",
            "        -0.5397, -0.1035,  0.1949,  0.2603, -0.1741, -0.1367,  0.2072,  0.3093,\n",
            "        -0.4058, -0.1420,  0.5037,  0.2468, -0.4875,  0.2084,  0.2153, -0.3084,\n",
            "         0.0140, -0.0192, -0.3986, -0.0978, -0.1633, -0.1742, -0.3595, -0.0684,\n",
            "        -0.1766, -0.5798,  0.1932,  0.2315,  0.1169, -0.1171,  0.1667,  0.2382,\n",
            "         0.1563, -0.1830, -0.0710,  0.0661, -0.1180,  0.1943,  0.3284,  0.2657,\n",
            "        -0.2437, -0.1555,  0.0692, -0.4425,  0.1514, -0.2409,  0.2358, -0.0731,\n",
            "        -0.1848, -0.0849,  0.2721,  0.4337,  0.1862, -0.2301, -0.0561,  0.1130,\n",
            "        -0.0239,  0.0203,  0.0124, -0.0658, -0.1157,  0.3008,  0.3377, -0.2018,\n",
            "         0.0614,  0.1053,  0.0598, -0.3149,  0.4924,  0.2493, -0.0138,  0.1212,\n",
            "         0.0242,  0.1632, -0.3649, -0.2814,  0.2351, -0.0891, -0.2889, -0.1299,\n",
            "         0.1427, -0.2095, -0.5288, -0.2160, -0.1024,  0.0348, -0.0926,  0.2422,\n",
            "        -0.0741, -0.1427, -0.0460,  0.2758, -0.0408,  0.1773, -0.1476, -0.4690,\n",
            "        -0.2617,  0.0195, -0.1241,  0.0406,  0.5184,  0.4782, -0.1722,  0.0846,\n",
            "        -0.2407, -0.2489,  0.0316, -0.1695,  0.1386,  0.1452,  0.0342,  0.1488,\n",
            "        -0.0423,  0.4520, -0.2588, -0.3532,  0.4381,  0.2138, -0.3534, -0.4355,\n",
            "        -0.1615, -0.2479,  0.0222,  0.3847, -0.0416,  0.2742, -0.4423, -0.2832,\n",
            "         0.1131, -0.4290,  0.4123,  0.0956, -0.1161, -0.1013, -0.0554,  0.1662,\n",
            "        -0.0783,  0.0508, -0.4954, -0.5595,  0.1744,  0.1307,  0.2129, -0.0409,\n",
            "        -0.4194, -0.1781, -0.3243, -0.4116,  0.3893, -0.0777, -0.1954,  0.2735,\n",
            "         0.3020,  0.3100, -0.1113,  0.1583,  0.1899,  0.1270, -0.1863,  0.2349,\n",
            "         0.2626,  0.0485, -0.0013, -0.4633, -0.2732,  0.0419, -0.0508,  0.3866,\n",
            "         0.0459, -0.2448, -0.5493,  0.2794,  0.0945,  0.2301,  0.0582,  0.5293,\n",
            "         0.0829,  0.2842,  0.2273, -0.0432, -0.4613,  0.3057, -0.3616,  0.1932,\n",
            "         0.0127,  0.2723, -0.1677,  0.0588,  0.5265, -0.0812,  0.4535,  0.3375,\n",
            "        -0.3580,  0.0901,  0.2616,  0.3619, -0.0085, -0.0164, -0.2194, -0.2466,\n",
            "         0.0377, -0.0770,  0.4831, -0.0478, -0.1979, -0.1482,  0.3752,  0.1407,\n",
            "         0.4717,  0.0372,  0.2840,  0.0457,  0.4544,  0.1608,  0.1282, -0.1586,\n",
            "        -0.2383,  0.1380,  0.1341, -0.6321,  0.1292,  0.4840, -0.2455, -0.2901,\n",
            "         0.1635,  0.0165,  0.1550, -0.1489,  0.2669, -0.3697, -0.3171, -0.2551,\n",
            "        -0.2960,  0.0165, -0.3385, -0.2462,  0.1491,  0.0975,  0.1251, -0.1204,\n",
            "        -0.3949,  0.1629,  0.0641, -0.5266,  0.3981,  0.1807,  0.1015,  0.0863,\n",
            "        -0.1285, -0.2884,  0.3870,  0.1854,  0.1693,  0.1512, -0.1390, -0.0662,\n",
            "         0.4031,  0.3843,  0.2185, -0.0346,  0.4402,  0.0028, -0.2338, -0.0931,\n",
            "         0.2911,  0.5865, -0.0392,  0.1159, -0.4596,  0.0620,  0.1900, -0.5589,\n",
            "        -0.0070, -0.0235, -0.0630, -0.3062,  0.3146, -0.1535,  0.0600, -0.0484,\n",
            "        -0.3152,  0.0887,  0.0058, -0.2442,  0.0866, -0.1182,  0.2591, -0.0057,\n",
            "         0.1866, -0.1369, -0.1211, -0.0577,  0.2066, -0.3697, -0.4971, -0.2497,\n",
            "         0.2776, -0.2542, -0.2216,  0.0969, -0.0365, -0.1286, -0.4008, -0.1002,\n",
            "        -0.1612, -0.4132, -0.3455,  0.1172, -0.3852,  0.1160,  0.5282,  0.4288,\n",
            "        -0.0434, -0.3274, -0.4719,  0.4114, -0.4407, -0.2914,  0.0120,  0.3065,\n",
            "        -0.0836, -0.3523,  0.0564,  0.4526,  0.0783, -0.0850,  0.0635,  0.1941,\n",
            "        -0.3398, -0.2685,  0.0908,  0.0893, -0.1115,  0.0333, -0.2573,  0.1016,\n",
            "        -0.0476, -0.0104, -0.0674,  0.2289, -0.1721,  0.5113, -0.1575, -0.0285,\n",
            "         0.2024, -0.2016,  0.6058, -0.2621, -0.3948,  0.1573,  0.3530, -0.5282,\n",
            "         0.2913, -0.2053, -0.4044,  0.0196,  0.1289, -0.2187,  0.0458,  0.0556,\n",
            "        -0.0455,  0.2555, -0.0168, -0.3808, -0.3990, -0.0906,  0.1863, -0.3525,\n",
            "        -0.3224, -0.3029,  0.0504, -0.1682, -0.1978, -0.5060, -0.1607, -0.3530,\n",
            "        -0.0281, -0.3934, -0.5978, -0.0625, -0.3390,  0.0162, -0.0415,  0.6075,\n",
            "        -0.0757,  0.0782,  0.0419,  0.0153,  0.0092,  0.1150,  0.5452,  0.0421,\n",
            "         0.2141, -0.0786, -0.0748,  0.1667, -0.1382, -0.0800,  0.2975, -0.0695,\n",
            "        -0.2366, -0.0726,  0.4198, -0.3284, -0.2168, -0.5451,  0.0458,  0.1714,\n",
            "         0.0271, -0.0948,  0.0927,  0.2147, -0.3365, -0.1452, -0.1924,  0.1812,\n",
            "        -0.4744,  0.0940,  0.0031,  0.0400, -0.2860, -0.5046,  0.3128,  0.2202,\n",
            "        -0.3743, -0.1436, -0.2257, -0.0677, -0.1261, -0.0785,  0.3695, -0.0503,\n",
            "        -0.2603, -0.2664,  0.0288], requires_grad=True), Parameter containing:\n",
            "tensor([[-0.0284,  0.0164, -0.0152,  ..., -0.0379, -0.0301,  0.0435],\n",
            "        [-0.0047, -0.0382,  0.0248,  ...,  0.0090, -0.0313, -0.0125],\n",
            "        [ 0.0034, -0.0344,  0.0227,  ...,  0.0198, -0.0486, -0.0368],\n",
            "        ...,\n",
            "        [-0.0062, -0.0031, -0.0370,  ..., -0.0550, -0.0284,  0.0075],\n",
            "        [-0.0421,  0.0274, -0.0409,  ..., -0.0040, -0.0453, -0.0401],\n",
            "        [-0.0309, -0.0630, -0.0048,  ..., -0.0140, -0.0012, -0.0159]],\n",
            "       requires_grad=True), Parameter containing:\n",
            "tensor([-0.0483, -0.0381,  0.0507,  0.2661,  0.0922, -0.0737,  0.2404, -0.1818,\n",
            "         0.2612,  0.1433,  0.1356,  0.1370, -0.1804,  0.2720,  0.2132, -0.0297,\n",
            "         0.0267,  0.0453, -0.0577,  0.2641, -0.1317,  0.2096,  0.0287,  0.2592,\n",
            "        -0.0054, -0.0259, -0.3449,  0.0094, -0.3389,  0.2262, -0.0201, -0.0319,\n",
            "         0.0200,  0.2475, -0.0454,  0.2637, -0.0624,  0.1766,  0.0199,  0.0570,\n",
            "        -0.0429,  0.0080,  0.1595,  0.0570,  0.0664, -0.0100,  0.1342,  0.0432,\n",
            "        -0.0566, -0.0020,  0.0080,  0.0168, -0.0966, -0.1948, -0.1053, -0.2432,\n",
            "        -0.0377,  0.1156,  0.0687, -0.1989,  0.0056, -0.0015,  0.0077,  0.0959,\n",
            "        -0.0763,  0.0865,  0.0508, -0.0551,  0.2024, -0.2097,  0.0193, -0.2491,\n",
            "        -0.2672, -0.0252, -0.0249,  0.1986,  0.1278,  0.2345, -0.0220,  0.0809,\n",
            "         0.0286, -0.0126,  0.1025, -0.0470,  0.1463,  0.0821,  0.2490,  0.2198,\n",
            "         0.1352,  0.0220,  0.2516,  0.0071,  0.1889,  0.2947,  0.0052,  0.1768,\n",
            "        -0.0667,  0.1315,  0.0054,  0.3134, -0.1254,  0.2165, -0.0120,  0.0493,\n",
            "        -0.0718,  0.0046,  0.0025,  0.0009,  0.0155, -0.0954,  0.2252, -0.1298,\n",
            "        -0.0530, -0.0702,  0.0721, -0.0734, -0.1008,  0.2517, -0.0039,  0.1308,\n",
            "        -0.1013, -0.0340, -0.0236,  0.0185, -0.1094, -0.0108,  0.2674,  0.1334,\n",
            "         0.0585,  0.1052,  0.2036,  0.0779, -0.0053, -0.1308, -0.0624,  0.0501,\n",
            "        -0.0477,  0.0181, -0.1301,  0.1107, -0.1001, -0.1643,  0.0088,  0.0399,\n",
            "         0.0207,  0.2185,  0.0142,  0.2347, -0.0051,  0.0991,  0.2760, -0.0013,\n",
            "        -0.0534,  0.0187,  0.0247,  0.0611, -0.0160,  0.0773,  0.2530,  0.0575,\n",
            "        -0.0252, -0.0011, -0.0339,  0.0785,  0.1291, -0.0468,  0.1222, -0.0430,\n",
            "        -0.1960, -0.0303, -0.0748, -0.1286,  0.0353, -0.0825, -0.0797,  0.2208,\n",
            "        -0.0264,  0.1068,  0.1615,  0.2460, -0.3947,  0.2670,  0.0301, -0.0479,\n",
            "         0.2261, -0.0118,  0.0268,  0.0687,  0.3223,  0.1364, -0.0405,  0.0537,\n",
            "         0.0129,  0.1570,  0.0634, -0.1864, -0.0360,  0.2989,  0.0093, -0.0599,\n",
            "         0.0608, -0.0093,  0.2312,  0.3386,  0.0108,  0.0473, -0.0439, -0.0911,\n",
            "         0.1842,  0.0955,  0.0369, -0.0523,  0.0134,  0.0262,  0.2118,  0.1216,\n",
            "        -0.1380,  0.0509, -0.1273, -0.0070,  0.0388,  0.2072,  0.0169, -0.0112,\n",
            "         0.1008,  0.1089,  0.1735, -0.0034,  0.1976, -0.0160, -0.0807, -0.1010,\n",
            "        -0.0347,  0.3339,  0.0695,  0.0607,  0.2549, -0.0070,  0.0732,  0.0028,\n",
            "         0.1257, -0.0014,  0.2184, -0.0319, -0.1867, -0.0606, -0.0100, -0.0052,\n",
            "        -0.0244,  0.0295,  0.3370,  0.0188,  0.2285,  0.2044, -0.0284,  0.0183,\n",
            "         0.0007,  0.0114, -0.1113,  0.3189, -0.0102, -0.0333, -0.2464, -0.0117,\n",
            "        -0.2462, -0.0182, -0.0165,  0.0606, -0.0223, -0.1857,  0.0186,  0.1674,\n",
            "        -0.2539,  0.2491, -0.0376, -0.0398,  0.0215, -0.0724,  0.0127, -0.0189,\n",
            "         0.1685,  0.1667, -0.0347,  0.2800, -0.0405,  0.0267, -0.2562,  0.1387,\n",
            "         0.0014,  0.1453,  0.0424,  0.3131,  0.0969, -0.0952,  0.0594,  0.0720,\n",
            "         0.0026, -0.1286,  0.0867, -0.1307, -0.0330,  0.1023,  0.1451, -0.0056,\n",
            "        -0.0174,  0.0211, -0.1881,  0.1416,  0.0239,  0.0475, -0.0342, -0.3748,\n",
            "        -0.0231, -0.0342,  0.0149,  0.0800, -0.0159, -0.0031, -0.1101,  0.0980,\n",
            "         0.2056,  0.1744, -0.0159, -0.0269,  0.0251, -0.0172,  0.0606,  0.2815,\n",
            "        -0.0048, -0.0706,  0.3012,  0.0220,  0.2528,  0.0771,  0.2896,  0.1437,\n",
            "        -0.0711, -0.2950,  0.1577, -0.0505,  0.0023, -0.0305,  0.2170, -0.2797,\n",
            "         0.1736, -0.1071,  0.0024, -0.1371, -0.0156,  0.0636, -0.0562,  0.0653,\n",
            "         0.1867,  0.0863, -0.1025,  0.1500,  0.0077,  0.1290,  0.1297,  0.0829,\n",
            "         0.2414,  0.1245, -0.0086,  0.0059,  0.2062,  0.2160, -0.1703, -0.1024,\n",
            "        -0.0426, -0.0234,  0.0148,  0.0043,  0.1586,  0.0186, -0.0198,  0.0560,\n",
            "        -0.2128, -0.0227,  0.0299, -0.0166,  0.0864, -0.0671,  0.1622, -0.0794,\n",
            "         0.0434, -0.1176,  0.0595,  0.0513, -0.2064,  0.1318, -0.0169,  0.0133,\n",
            "         0.2393,  0.1327,  0.2473, -0.1716, -0.2446, -0.1375, -0.0795, -0.0415,\n",
            "        -0.0204, -0.0102, -0.0166, -0.2003,  0.0303,  0.0127,  0.1558,  0.2479,\n",
            "        -0.0469,  0.0185,  0.2907,  0.1212,  0.1759,  0.0251, -0.0228, -0.1762,\n",
            "         0.0582,  0.0294,  0.0657,  0.1751,  0.1554,  0.0086,  0.0966, -0.0497,\n",
            "        -0.2624,  0.0480,  0.0606,  0.0093, -0.0382,  0.1423,  0.1361,  0.0387,\n",
            "         0.0395, -0.1094, -0.0886,  0.1146, -0.1211,  0.0330, -0.0125, -0.0710,\n",
            "        -0.0115, -0.1519, -0.0769,  0.0446,  0.0208, -0.0536, -0.2396,  0.2604,\n",
            "        -0.0117,  0.2793, -0.0108, -0.0473, -0.0005,  0.0015, -0.0747,  0.1689,\n",
            "         0.2184,  0.2387], requires_grad=True), Parameter containing:\n",
            "tensor([[-0.0532, -0.0191,  0.0093,  ...,  0.0195, -0.0200,  0.0352],\n",
            "        [ 0.0306,  0.0355,  0.0103,  ...,  0.0127, -0.0169,  0.0296],\n",
            "        [-0.0015, -0.0171, -0.0183,  ...,  0.0219, -0.0405,  0.0409],\n",
            "        ...,\n",
            "        [ 0.0031, -0.0137, -0.0427,  ...,  0.0348,  0.0006,  0.0442],\n",
            "        [-0.0462,  0.0244, -0.0284,  ...,  0.0206,  0.0358, -0.0383],\n",
            "        [ 0.0668,  0.0096,  0.0248,  ...,  0.0470, -0.0501, -0.0215]],\n",
            "       requires_grad=True), Parameter containing:\n",
            "tensor([ 0.2728, -0.1814, -0.1034, -0.0308,  0.1167,  0.0197, -0.0592, -0.1019,\n",
            "        -0.0652, -0.0110,  0.2185,  0.0094, -0.0505,  0.0649,  0.1686,  0.1383,\n",
            "        -0.0706, -0.2915, -0.0484,  0.1497,  0.0135, -0.0732,  0.2591,  0.0748,\n",
            "         0.2416,  0.2813,  0.2625,  0.0403, -0.2011,  0.2604,  0.0722, -0.0702,\n",
            "        -0.0317,  0.2599, -0.3068,  0.2958,  0.3073, -0.0245,  0.1940,  0.0227,\n",
            "         0.2361, -0.1752,  0.1879,  0.2441,  0.2901, -0.0160,  0.2034,  0.3105,\n",
            "         0.2019,  0.0467,  0.1580, -0.0663,  0.2576,  0.1094,  0.2764, -0.2459,\n",
            "         0.2208,  0.2420,  0.0150, -0.0773,  0.1557,  0.2414,  0.2274,  0.0468,\n",
            "         0.2371, -0.0035,  0.2097, -0.1238,  0.2762, -0.1152, -0.0833,  0.2753,\n",
            "         0.1818,  0.1895,  0.0012, -0.0536, -0.0235, -0.0017, -0.0952, -0.0393,\n",
            "        -0.5028, -0.0314,  0.0743,  0.2981, -0.0595,  0.3148,  0.2997,  0.2902,\n",
            "         0.1823, -0.0157, -0.1053,  0.0094,  0.0274,  0.0443, -0.3505,  0.3013,\n",
            "        -0.0240,  0.2980, -0.0435,  0.2269,  0.2732,  0.2542,  0.2967, -0.1665,\n",
            "        -0.0626,  0.0515,  0.2488,  0.0188, -0.0496, -0.1528, -0.1262, -0.0675,\n",
            "         0.1493, -0.0567,  0.0282], requires_grad=True), Parameter containing:\n",
            "tensor([[ 0.0290, -0.0194, -0.0578,  0.0707, -0.0002, -0.0703, -0.0431, -0.0542,\n",
            "         -0.0830, -0.0132,  0.0827, -0.0373, -0.0530,  0.0536,  0.0086, -0.0010,\n",
            "         -0.0781, -0.0571, -0.0021,  0.0780, -0.0277, -0.0403,  0.0121,  0.0088,\n",
            "          0.0969,  0.0290,  0.0708, -0.0764, -0.0366,  0.0145, -0.0681, -0.0208,\n",
            "         -0.0959,  0.1019, -0.0152,  0.0201,  0.0245, -0.0748,  0.1007, -0.0724,\n",
            "          0.0795, -0.0286,  0.0633,  0.0445,  0.0618, -0.1515,  0.0972,  0.0394,\n",
            "          0.0954, -0.0441,  0.0449, -0.0687,  0.0453,  0.0032,  0.0663, -0.0419,\n",
            "          0.1078,  0.1112,  0.0592, -0.0469,  0.0738,  0.0152,  0.0989,  0.0176,\n",
            "          0.0132, -0.0581,  0.0739, -0.0369,  0.0492,  0.0333, -0.0394,  0.0297,\n",
            "          0.0867,  0.0580, -0.0766, -0.0244, -0.0934, -0.0612, -0.0057,  0.0595,\n",
            "         -0.0828, -0.0124,  0.0002,  0.0408, -0.0667,  0.0158,  0.0202,  0.0483,\n",
            "          0.0856,  0.0517, -0.0127, -0.0458,  0.0081, -0.0645, -0.0779,  0.0322,\n",
            "         -0.0496,  0.0507, -0.0552,  0.0519,  0.1071,  0.0671,  0.0375, -0.0611,\n",
            "         -0.0136, -0.0698,  0.0365, -0.0151, -0.0221, -0.0512, -0.0434, -0.0775,\n",
            "          0.0666, -0.0131, -0.1016]], requires_grad=True), Parameter containing:\n",
            "tensor([0.3755], requires_grad=True)]\n"
          ]
        }
      ],
      "source": [
        "#%%script echo skipping\n",
        "\n",
        "print(list(net.parameters()))"
      ]
    },
    {
      "cell_type": "code",
      "execution_count": 58,
      "metadata": {
        "colab": {
          "base_uri": "https://localhost:8080/"
        },
        "id": "1NZ8iVA7UZio",
        "outputId": "b94af16d-f271-43d0-a48d-c6ddb690885d"
      },
      "outputs": [
        {
          "name": "stdout",
          "output_type": "stream",
          "text": [
            "[Parameter containing:\n",
            "tensor([[-0.2311,  0.1649, -0.1706,  ..., -0.3284, -0.3241, -0.2052],\n",
            "        [ 0.2710, -0.0752,  0.1021,  ...,  0.0654, -0.0031, -0.1363],\n",
            "        [-0.1676,  0.1151,  0.1452,  ..., -0.1753, -0.0070, -0.3937],\n",
            "        ...,\n",
            "        [ 0.0942,  0.1161,  0.0713,  ..., -0.0169, -0.3598, -0.3154],\n",
            "        [-0.2224, -0.1141,  0.0449,  ..., -0.1882, -0.2368, -0.2230],\n",
            "        [ 0.1260, -0.0435,  0.0411,  ...,  0.0139, -0.0673, -0.0108]],\n",
            "       requires_grad=True), Parameter containing:\n",
            "tensor([-0.0660, -0.0234, -0.2781, -0.2386,  0.1586,  0.4305,  0.2189, -0.0525,\n",
            "         0.3228, -0.1299, -0.2641,  0.2278, -0.1661, -0.0935, -0.0922,  0.2880,\n",
            "         0.0203,  0.1206, -0.0603,  0.3896, -0.1508, -0.1999, -0.1188,  0.2417,\n",
            "         0.1113, -0.3805, -0.2088, -0.1075, -0.3112, -0.5315, -0.2435,  0.2737,\n",
            "         0.0574, -0.3564,  0.2492,  0.5737,  0.3248,  0.0727,  0.0489,  0.4315,\n",
            "        -0.3481,  0.2578, -0.0141,  0.3975,  0.0298,  0.0693,  0.2656, -0.2172,\n",
            "        -0.2899,  0.0477, -0.4420, -0.1091, -0.1590, -0.2674, -0.2950, -0.0891,\n",
            "         0.0511, -0.4281, -0.3058,  0.1725, -0.0086, -0.4309, -0.3040,  0.0086,\n",
            "        -0.1424,  0.3531, -0.1267, -0.3757,  0.0923, -0.1515,  0.2879,  0.2060,\n",
            "        -0.1876, -0.0246, -0.4475,  0.0122,  0.2339, -0.0121, -0.1999, -0.5503,\n",
            "        -0.4307, -0.1840,  0.2831, -0.1314, -0.2540, -0.2237,  0.3308, -0.1007,\n",
            "         0.2326,  0.3741,  0.3122, -0.3173,  0.2854,  0.1321, -0.1263,  0.0373,\n",
            "        -0.3520, -0.0024,  0.5685, -0.0463, -0.1719,  0.4845,  0.2502,  0.5056,\n",
            "         0.0292, -0.4186,  0.1422, -0.3425, -0.1346,  0.1396, -0.3223, -0.1278,\n",
            "        -0.1602, -0.1962, -0.5590,  0.2458, -0.1183,  0.0490, -0.0284,  0.1324,\n",
            "        -0.5397, -0.1035,  0.1949,  0.2603, -0.1741, -0.1367,  0.2072,  0.3093,\n",
            "        -0.4058, -0.1420,  0.5037,  0.2468, -0.4875,  0.2084,  0.2153, -0.3084,\n",
            "         0.0140, -0.0192, -0.3986, -0.0978, -0.1633, -0.1742, -0.3595, -0.0684,\n",
            "        -0.1766, -0.5798,  0.1932,  0.2315,  0.1169, -0.1171,  0.1667,  0.2382,\n",
            "         0.1563, -0.1830, -0.0710,  0.0661, -0.1180,  0.1943,  0.3284,  0.2657,\n",
            "        -0.2437, -0.1555,  0.0692, -0.4425,  0.1514, -0.2409,  0.2358, -0.0731,\n",
            "        -0.1848, -0.0849,  0.2721,  0.4337,  0.1862, -0.2301, -0.0561,  0.1130,\n",
            "        -0.0239,  0.0203,  0.0124, -0.0658, -0.1157,  0.3008,  0.3377, -0.2018,\n",
            "         0.0614,  0.1053,  0.0598, -0.3149,  0.4924,  0.2493, -0.0138,  0.1212,\n",
            "         0.0242,  0.1632, -0.3649, -0.2814,  0.2351, -0.0891, -0.2889, -0.1299,\n",
            "         0.1427, -0.2095, -0.5288, -0.2160, -0.1024,  0.0348, -0.0926,  0.2422,\n",
            "        -0.0741, -0.1427, -0.0460,  0.2758, -0.0408,  0.1773, -0.1476, -0.4690,\n",
            "        -0.2617,  0.0195, -0.1241,  0.0406,  0.5184,  0.4782, -0.1722,  0.0846,\n",
            "        -0.2407, -0.2489,  0.0316, -0.1695,  0.1386,  0.1452,  0.0342,  0.1488,\n",
            "        -0.0423,  0.4520, -0.2588, -0.3532,  0.4381,  0.2138, -0.3534, -0.4355,\n",
            "        -0.1615, -0.2479,  0.0222,  0.3847, -0.0416,  0.2742, -0.4423, -0.2832,\n",
            "         0.1131, -0.4290,  0.4123,  0.0956, -0.1161, -0.1013, -0.0554,  0.1662,\n",
            "        -0.0783,  0.0508, -0.4954, -0.5595,  0.1744,  0.1307,  0.2129, -0.0409,\n",
            "        -0.4194, -0.1781, -0.3243, -0.4116,  0.3893, -0.0777, -0.1954,  0.2735,\n",
            "         0.3020,  0.3100, -0.1113,  0.1583,  0.1899,  0.1270, -0.1863,  0.2349,\n",
            "         0.2626,  0.0485, -0.0013, -0.4633, -0.2732,  0.0419, -0.0508,  0.3866,\n",
            "         0.0459, -0.2448, -0.5493,  0.2794,  0.0945,  0.2301,  0.0582,  0.5293,\n",
            "         0.0829,  0.2842,  0.2273, -0.0432, -0.4613,  0.3057, -0.3616,  0.1932,\n",
            "         0.0127,  0.2723, -0.1677,  0.0588,  0.5265, -0.0812,  0.4535,  0.3375,\n",
            "        -0.3580,  0.0901,  0.2616,  0.3619, -0.0085, -0.0164, -0.2194, -0.2466,\n",
            "         0.0377, -0.0770,  0.4831, -0.0478, -0.1979, -0.1482,  0.3752,  0.1407,\n",
            "         0.4717,  0.0372,  0.2840,  0.0457,  0.4544,  0.1608,  0.1282, -0.1586,\n",
            "        -0.2383,  0.1380,  0.1341, -0.6321,  0.1292,  0.4840, -0.2455, -0.2901,\n",
            "         0.1635,  0.0165,  0.1550, -0.1489,  0.2669, -0.3697, -0.3171, -0.2551,\n",
            "        -0.2960,  0.0165, -0.3385, -0.2462,  0.1491,  0.0975,  0.1251, -0.1204,\n",
            "        -0.3949,  0.1629,  0.0641, -0.5266,  0.3981,  0.1807,  0.1015,  0.0863,\n",
            "        -0.1285, -0.2884,  0.3870,  0.1854,  0.1693,  0.1512, -0.1390, -0.0662,\n",
            "         0.4031,  0.3843,  0.2185, -0.0346,  0.4402,  0.0028, -0.2338, -0.0931,\n",
            "         0.2911,  0.5865, -0.0392,  0.1159, -0.4596,  0.0620,  0.1900, -0.5589,\n",
            "        -0.0070, -0.0235, -0.0630, -0.3062,  0.3146, -0.1535,  0.0600, -0.0484,\n",
            "        -0.3152,  0.0887,  0.0058, -0.2442,  0.0866, -0.1182,  0.2591, -0.0057,\n",
            "         0.1866, -0.1369, -0.1211, -0.0577,  0.2066, -0.3697, -0.4971, -0.2497,\n",
            "         0.2776, -0.2542, -0.2216,  0.0969, -0.0365, -0.1286, -0.4008, -0.1002,\n",
            "        -0.1612, -0.4132, -0.3455,  0.1172, -0.3852,  0.1160,  0.5282,  0.4288,\n",
            "        -0.0434, -0.3274, -0.4719,  0.4114, -0.4407, -0.2914,  0.0120,  0.3065,\n",
            "        -0.0836, -0.3523,  0.0564,  0.4526,  0.0783, -0.0850,  0.0635,  0.1941,\n",
            "        -0.3398, -0.2685,  0.0908,  0.0893, -0.1115,  0.0333, -0.2573,  0.1016,\n",
            "        -0.0476, -0.0104, -0.0674,  0.2289, -0.1721,  0.5113, -0.1575, -0.0285,\n",
            "         0.2024, -0.2016,  0.6058, -0.2621, -0.3948,  0.1573,  0.3530, -0.5282,\n",
            "         0.2913, -0.2053, -0.4044,  0.0196,  0.1289, -0.2187,  0.0458,  0.0556,\n",
            "        -0.0455,  0.2555, -0.0168, -0.3808, -0.3990, -0.0906,  0.1863, -0.3525,\n",
            "        -0.3224, -0.3029,  0.0504, -0.1682, -0.1978, -0.5060, -0.1607, -0.3530,\n",
            "        -0.0281, -0.3934, -0.5978, -0.0625, -0.3390,  0.0162, -0.0415,  0.6075,\n",
            "        -0.0757,  0.0782,  0.0419,  0.0153,  0.0092,  0.1150,  0.5452,  0.0421,\n",
            "         0.2141, -0.0786, -0.0748,  0.1667, -0.1382, -0.0800,  0.2975, -0.0695,\n",
            "        -0.2366, -0.0726,  0.4198, -0.3284, -0.2168, -0.5451,  0.0458,  0.1714,\n",
            "         0.0271, -0.0948,  0.0927,  0.2147, -0.3365, -0.1452, -0.1924,  0.1812,\n",
            "        -0.4744,  0.0940,  0.0031,  0.0400, -0.2860, -0.5046,  0.3128,  0.2202,\n",
            "        -0.3743, -0.1436, -0.2257, -0.0677, -0.1261, -0.0785,  0.3695, -0.0503,\n",
            "        -0.2603, -0.2664,  0.0288], requires_grad=True), Parameter containing:\n",
            "tensor([[-0.0284,  0.0164, -0.0152,  ..., -0.0379, -0.0301,  0.0435],\n",
            "        [-0.0047, -0.0382,  0.0248,  ...,  0.0090, -0.0313, -0.0125],\n",
            "        [ 0.0034, -0.0344,  0.0227,  ...,  0.0198, -0.0486, -0.0368],\n",
            "        ...,\n",
            "        [-0.0062, -0.0031, -0.0370,  ..., -0.0550, -0.0284,  0.0075],\n",
            "        [-0.0421,  0.0274, -0.0409,  ..., -0.0040, -0.0453, -0.0401],\n",
            "        [-0.0309, -0.0630, -0.0048,  ..., -0.0140, -0.0012, -0.0159]],\n",
            "       requires_grad=True), Parameter containing:\n",
            "tensor([-0.0483, -0.0381,  0.0507,  0.2661,  0.0922, -0.0737,  0.2404, -0.1818,\n",
            "         0.2612,  0.1433,  0.1356,  0.1370, -0.1804,  0.2720,  0.2132, -0.0297,\n",
            "         0.0267,  0.0453, -0.0577,  0.2641, -0.1317,  0.2096,  0.0287,  0.2592,\n",
            "        -0.0054, -0.0259, -0.3449,  0.0094, -0.3389,  0.2262, -0.0201, -0.0319,\n",
            "         0.0200,  0.2475, -0.0454,  0.2637, -0.0624,  0.1766,  0.0199,  0.0570,\n",
            "        -0.0429,  0.0080,  0.1595,  0.0570,  0.0664, -0.0100,  0.1342,  0.0432,\n",
            "        -0.0566, -0.0020,  0.0080,  0.0168, -0.0966, -0.1948, -0.1053, -0.2432,\n",
            "        -0.0377,  0.1156,  0.0687, -0.1989,  0.0056, -0.0015,  0.0077,  0.0959,\n",
            "        -0.0763,  0.0865,  0.0508, -0.0551,  0.2024, -0.2097,  0.0193, -0.2491,\n",
            "        -0.2672, -0.0252, -0.0249,  0.1986,  0.1278,  0.2345, -0.0220,  0.0809,\n",
            "         0.0286, -0.0126,  0.1025, -0.0470,  0.1463,  0.0821,  0.2490,  0.2198,\n",
            "         0.1352,  0.0220,  0.2516,  0.0071,  0.1889,  0.2947,  0.0052,  0.1768,\n",
            "        -0.0667,  0.1315,  0.0054,  0.3134, -0.1254,  0.2165, -0.0120,  0.0493,\n",
            "        -0.0718,  0.0046,  0.0025,  0.0009,  0.0155, -0.0954,  0.2252, -0.1298,\n",
            "        -0.0530, -0.0702,  0.0721, -0.0734, -0.1008,  0.2517, -0.0039,  0.1308,\n",
            "        -0.1013, -0.0340, -0.0236,  0.0185, -0.1094, -0.0108,  0.2674,  0.1334,\n",
            "         0.0585,  0.1052,  0.2036,  0.0779, -0.0053, -0.1308, -0.0624,  0.0501,\n",
            "        -0.0477,  0.0181, -0.1301,  0.1107, -0.1001, -0.1643,  0.0088,  0.0399,\n",
            "         0.0207,  0.2185,  0.0142,  0.2347, -0.0051,  0.0991,  0.2760, -0.0013,\n",
            "        -0.0534,  0.0187,  0.0247,  0.0611, -0.0160,  0.0773,  0.2530,  0.0575,\n",
            "        -0.0252, -0.0011, -0.0339,  0.0785,  0.1291, -0.0468,  0.1222, -0.0430,\n",
            "        -0.1960, -0.0303, -0.0748, -0.1286,  0.0353, -0.0825, -0.0797,  0.2208,\n",
            "        -0.0264,  0.1068,  0.1615,  0.2460, -0.3947,  0.2670,  0.0301, -0.0479,\n",
            "         0.2261, -0.0118,  0.0268,  0.0687,  0.3223,  0.1364, -0.0405,  0.0537,\n",
            "         0.0129,  0.1570,  0.0634, -0.1864, -0.0360,  0.2989,  0.0093, -0.0599,\n",
            "         0.0608, -0.0093,  0.2312,  0.3386,  0.0108,  0.0473, -0.0439, -0.0911,\n",
            "         0.1842,  0.0955,  0.0369, -0.0523,  0.0134,  0.0262,  0.2118,  0.1216,\n",
            "        -0.1380,  0.0509, -0.1273, -0.0070,  0.0388,  0.2072,  0.0169, -0.0112,\n",
            "         0.1008,  0.1089,  0.1735, -0.0034,  0.1976, -0.0160, -0.0807, -0.1010,\n",
            "        -0.0347,  0.3339,  0.0695,  0.0607,  0.2549, -0.0070,  0.0732,  0.0028,\n",
            "         0.1257, -0.0014,  0.2184, -0.0319, -0.1867, -0.0606, -0.0100, -0.0052,\n",
            "        -0.0244,  0.0295,  0.3370,  0.0188,  0.2285,  0.2044, -0.0284,  0.0183,\n",
            "         0.0007,  0.0114, -0.1113,  0.3189, -0.0102, -0.0333, -0.2464, -0.0117,\n",
            "        -0.2462, -0.0182, -0.0165,  0.0606, -0.0223, -0.1857,  0.0186,  0.1674,\n",
            "        -0.2539,  0.2491, -0.0376, -0.0398,  0.0215, -0.0724,  0.0127, -0.0189,\n",
            "         0.1685,  0.1667, -0.0347,  0.2800, -0.0405,  0.0267, -0.2562,  0.1387,\n",
            "         0.0014,  0.1453,  0.0424,  0.3131,  0.0969, -0.0952,  0.0594,  0.0720,\n",
            "         0.0026, -0.1286,  0.0867, -0.1307, -0.0330,  0.1023,  0.1451, -0.0056,\n",
            "        -0.0174,  0.0211, -0.1881,  0.1416,  0.0239,  0.0475, -0.0342, -0.3748,\n",
            "        -0.0231, -0.0342,  0.0149,  0.0800, -0.0159, -0.0031, -0.1101,  0.0980,\n",
            "         0.2056,  0.1744, -0.0159, -0.0269,  0.0251, -0.0172,  0.0606,  0.2815,\n",
            "        -0.0048, -0.0706,  0.3012,  0.0220,  0.2528,  0.0771,  0.2896,  0.1437,\n",
            "        -0.0711, -0.2950,  0.1577, -0.0505,  0.0023, -0.0305,  0.2170, -0.2797,\n",
            "         0.1736, -0.1071,  0.0024, -0.1371, -0.0156,  0.0636, -0.0562,  0.0653,\n",
            "         0.1867,  0.0863, -0.1025,  0.1500,  0.0077,  0.1290,  0.1297,  0.0829,\n",
            "         0.2414,  0.1245, -0.0086,  0.0059,  0.2062,  0.2160, -0.1703, -0.1024,\n",
            "        -0.0426, -0.0234,  0.0148,  0.0043,  0.1586,  0.0186, -0.0198,  0.0560,\n",
            "        -0.2128, -0.0227,  0.0299, -0.0166,  0.0864, -0.0671,  0.1622, -0.0794,\n",
            "         0.0434, -0.1176,  0.0595,  0.0513, -0.2064,  0.1318, -0.0169,  0.0133,\n",
            "         0.2393,  0.1327,  0.2473, -0.1716, -0.2446, -0.1375, -0.0795, -0.0415,\n",
            "        -0.0204, -0.0102, -0.0166, -0.2003,  0.0303,  0.0127,  0.1558,  0.2479,\n",
            "        -0.0469,  0.0185,  0.2907,  0.1212,  0.1759,  0.0251, -0.0228, -0.1762,\n",
            "         0.0582,  0.0294,  0.0657,  0.1751,  0.1554,  0.0086,  0.0966, -0.0497,\n",
            "        -0.2624,  0.0480,  0.0606,  0.0093, -0.0382,  0.1423,  0.1361,  0.0387,\n",
            "         0.0395, -0.1094, -0.0886,  0.1146, -0.1211,  0.0330, -0.0125, -0.0710,\n",
            "        -0.0115, -0.1519, -0.0769,  0.0446,  0.0208, -0.0536, -0.2396,  0.2604,\n",
            "        -0.0117,  0.2793, -0.0108, -0.0473, -0.0005,  0.0015, -0.0747,  0.1689,\n",
            "         0.2184,  0.2387], requires_grad=True), Parameter containing:\n",
            "tensor([[-0.0532, -0.0191,  0.0093,  ...,  0.0195, -0.0200,  0.0352],\n",
            "        [ 0.0306,  0.0355,  0.0103,  ...,  0.0127, -0.0169,  0.0296],\n",
            "        [-0.0015, -0.0171, -0.0183,  ...,  0.0219, -0.0405,  0.0409],\n",
            "        ...,\n",
            "        [ 0.0031, -0.0137, -0.0427,  ...,  0.0348,  0.0006,  0.0442],\n",
            "        [-0.0462,  0.0244, -0.0284,  ...,  0.0206,  0.0358, -0.0383],\n",
            "        [ 0.0668,  0.0096,  0.0248,  ...,  0.0470, -0.0501, -0.0215]],\n",
            "       requires_grad=True), Parameter containing:\n",
            "tensor([ 0.2728, -0.1814, -0.1034, -0.0308,  0.1167,  0.0197, -0.0592, -0.1019,\n",
            "        -0.0652, -0.0110,  0.2185,  0.0094, -0.0505,  0.0649,  0.1686,  0.1383,\n",
            "        -0.0706, -0.2915, -0.0484,  0.1497,  0.0135, -0.0732,  0.2591,  0.0748,\n",
            "         0.2416,  0.2813,  0.2625,  0.0403, -0.2011,  0.2604,  0.0722, -0.0702,\n",
            "        -0.0317,  0.2599, -0.3068,  0.2958,  0.3073, -0.0245,  0.1940,  0.0227,\n",
            "         0.2361, -0.1752,  0.1879,  0.2441,  0.2901, -0.0160,  0.2034,  0.3105,\n",
            "         0.2019,  0.0467,  0.1580, -0.0663,  0.2576,  0.1094,  0.2764, -0.2459,\n",
            "         0.2208,  0.2420,  0.0150, -0.0773,  0.1557,  0.2414,  0.2274,  0.0468,\n",
            "         0.2371, -0.0035,  0.2097, -0.1238,  0.2762, -0.1152, -0.0833,  0.2753,\n",
            "         0.1818,  0.1895,  0.0012, -0.0536, -0.0235, -0.0017, -0.0952, -0.0393,\n",
            "        -0.5028, -0.0314,  0.0743,  0.2981, -0.0595,  0.3148,  0.2997,  0.2902,\n",
            "         0.1823, -0.0157, -0.1053,  0.0094,  0.0274,  0.0443, -0.3505,  0.3013,\n",
            "        -0.0240,  0.2980, -0.0435,  0.2269,  0.2732,  0.2542,  0.2967, -0.1665,\n",
            "        -0.0626,  0.0515,  0.2488,  0.0188, -0.0496, -0.1528, -0.1262, -0.0675,\n",
            "         0.1493, -0.0567,  0.0282], requires_grad=True), Parameter containing:\n",
            "tensor([[ 0.0290, -0.0194, -0.0578,  0.0707, -0.0002, -0.0703, -0.0431, -0.0542,\n",
            "         -0.0830, -0.0132,  0.0827, -0.0373, -0.0530,  0.0536,  0.0086, -0.0010,\n",
            "         -0.0781, -0.0571, -0.0021,  0.0780, -0.0277, -0.0403,  0.0121,  0.0088,\n",
            "          0.0969,  0.0290,  0.0708, -0.0764, -0.0366,  0.0145, -0.0681, -0.0208,\n",
            "         -0.0959,  0.1019, -0.0152,  0.0201,  0.0245, -0.0748,  0.1007, -0.0724,\n",
            "          0.0795, -0.0286,  0.0633,  0.0445,  0.0618, -0.1515,  0.0972,  0.0394,\n",
            "          0.0954, -0.0441,  0.0449, -0.0687,  0.0453,  0.0032,  0.0663, -0.0419,\n",
            "          0.1078,  0.1112,  0.0592, -0.0469,  0.0738,  0.0152,  0.0989,  0.0176,\n",
            "          0.0132, -0.0581,  0.0739, -0.0369,  0.0492,  0.0333, -0.0394,  0.0297,\n",
            "          0.0867,  0.0580, -0.0766, -0.0244, -0.0934, -0.0612, -0.0057,  0.0595,\n",
            "         -0.0828, -0.0124,  0.0002,  0.0408, -0.0667,  0.0158,  0.0202,  0.0483,\n",
            "          0.0856,  0.0517, -0.0127, -0.0458,  0.0081, -0.0645, -0.0779,  0.0322,\n",
            "         -0.0496,  0.0507, -0.0552,  0.0519,  0.1071,  0.0671,  0.0375, -0.0611,\n",
            "         -0.0136, -0.0698,  0.0365, -0.0151, -0.0221, -0.0512, -0.0434, -0.0775,\n",
            "          0.0666, -0.0131, -0.1016]], requires_grad=True), Parameter containing:\n",
            "tensor([0.3755], requires_grad=True)]\n"
          ]
        }
      ],
      "source": [
        "print(list(net_loaded.parameters()))"
      ]
    },
    {
      "cell_type": "code",
      "execution_count": 59,
      "metadata": {
        "colab": {
          "base_uri": "https://localhost:8080/"
        },
        "id": "InGW0Xq6UZip",
        "outputId": "7f101fb2-68ca-4dff-ee1e-a1eeb502b1a3"
      },
      "outputs": [
        {
          "name": "stdout",
          "output_type": "stream",
          "text": [
            "rho.shape:  torch.Size([20])\n",
            "epsilon.shape:  torch.Size([20])\n"
          ]
        },
        {
          "data": {
            "text/plain": [
              "tensor([[ 2.5475e+00,  5.0056e+01,  2.2585e+01,  3.9217e+01,  6.6013e+01,\n",
              "          2.8783e-01,  7.2799e+00, -4.3098e+00,  9.4563e-01,  5.5297e-02,\n",
              "          9.8106e-02,  1.0323e+00,  6.2981e-02,  1.0474e+00],\n",
              "        [ 2.8220e-01,  3.6092e+00,  5.9573e+00,  4.1218e+00,  1.3085e+01,\n",
              "          1.5704e+00, -3.0564e+00,  3.3966e+00,  1.0593e+00,  4.4808e-02,\n",
              "          3.5591e-02,  9.2158e-01,  3.0104e-02,  1.0351e+00],\n",
              "        [ 2.4081e+00,  5.2484e+00,  1.2959e+01,  1.0535e+01,  1.8132e+01,\n",
              "          4.1787e+00,  1.1824e+00, -2.4778e+00,  9.4625e-01,  5.1181e-02,\n",
              "          5.3571e-02,  9.8237e-01,  3.4741e-02,  1.0016e+00],\n",
              "        [ 1.8551e+00, -1.1631e+01,  6.5715e+01, -2.1251e+01,  1.0428e+02,\n",
              "          8.3324e+00,  4.1957e+00,  9.3820e+00,  9.0721e-01,  4.4736e-02,\n",
              "          2.5106e-02,  9.5858e-01,  3.3684e-03,  1.0555e+00],\n",
              "        [ 1.4475e+00,  8.3843e+01,  7.8235e+01,  4.1014e+01,  1.1859e+02,\n",
              "          9.3097e+00, -8.3675e+00, -2.6496e+00,  1.0926e+00,  6.0524e-02,\n",
              "          4.4049e-02,  9.4000e-01,  2.8215e-02,  1.0026e+00],\n",
              "        [ 4.5035e+00,  4.2823e+01,  1.0552e+02,  1.1922e+01,  1.1544e+02,\n",
              "          6.4550e+00, -1.7752e+00,  8.1188e+00,  1.0153e+00,  8.6879e-02,\n",
              "          8.6602e-02,  1.0056e+00,  5.5289e-03,  1.0133e+00],\n",
              "        [ 1.9318e+00,  3.2843e+01,  9.7780e+01,  1.0719e+01,  1.0067e+02,\n",
              "          9.5009e+00, -3.7407e+00, -1.2049e+00,  9.6745e-01,  8.2681e-02,\n",
              "          8.5410e-02,  1.0343e+00,  8.0095e-02,  1.0750e+00],\n",
              "        [ 5.2815e-01,  2.2389e+01,  2.6786e+01,  3.0230e+01,  4.3925e+01,\n",
              "          4.3201e+00, -5.3501e+00,  1.5382e+00,  9.4442e-01,  4.8245e-02,\n",
              "          5.7575e-02,  1.0849e+00,  5.9998e-02,  9.7600e-01],\n",
              "        [ 2.9547e+00,  2.9305e+01, -1.3675e+01,  7.2116e+01,  7.4473e+01,\n",
              "          6.0237e+00, -7.9578e+00, -3.1824e+00,  1.0363e+00,  4.3050e-02,\n",
              "          7.7726e-02,  1.0444e+00,  7.9657e-02,  1.0258e+00],\n",
              "        [ 1.8733e+00, -7.6443e+00,  6.6072e+00,  8.1132e+00,  1.5181e+01,\n",
              "          2.6845e+00,  4.2293e+00, -2.2244e-01,  9.6437e-01,  1.3347e-02,\n",
              "          1.4580e-02,  9.2233e-01,  4.4877e-02,  1.0825e+00],\n",
              "        [ 2.9591e+00, -3.6040e-01,  1.8276e+01,  4.1399e+01,  5.3686e+01,\n",
              "         -5.9724e+00, -3.9958e+00, -8.4172e-01,  9.2026e-01,  6.9583e-03,\n",
              "          1.8323e-02,  1.0604e+00,  9.3440e-02,  9.1951e-01],\n",
              "        [ 2.8737e+00,  4.7622e+01,  2.3111e+00,  5.1513e+01,  6.5690e+01,\n",
              "         -3.6897e+00,  5.4279e+00,  3.7180e+00,  1.0342e+00,  7.3160e-02,\n",
              "          9.5452e-02,  1.0355e+00,  9.5859e-02,  1.0612e+00],\n",
              "        [ 1.2980e+00,  2.1702e+01,  1.8392e+01,  1.9716e+01,  3.6447e+01,\n",
              "          4.0382e+00,  1.2463e+00, -4.7623e+00,  9.6619e-01,  5.1958e-02,\n",
              "          2.9317e-02,  9.0607e-01,  4.6483e-02,  9.0685e-01],\n",
              "        [ 1.6717e-01,  1.3989e+01,  8.2722e+00,  1.2040e+01,  3.0079e+01,\n",
              "         -4.7301e+00,  5.1817e+00,  2.0019e+00,  9.1908e-01,  6.2253e-02,\n",
              "          4.3244e-02,  9.0031e-01,  4.0459e-02,  9.3781e-01],\n",
              "        [ 1.1667e+00,  1.1634e+01,  2.8408e+00,  7.3518e+00,  1.4230e+01,\n",
              "          1.2187e+00, -5.0710e+00,  7.9513e-01,  1.0600e+00,  2.4218e-02,\n",
              "          5.2152e-02,  9.3460e-01,  8.1938e-02,  9.6008e-01],\n",
              "        [ 3.6492e+00,  8.1287e+01, -1.3311e+01,  1.2020e+02,  1.4595e+02,\n",
              "         -9.2167e+00,  6.4197e+00,  7.4697e+00,  1.0242e+00,  4.1159e-02,\n",
              "          3.8768e-02,  1.0956e+00,  9.2060e-02,  1.0230e+00],\n",
              "        [ 9.1628e-01,  2.7972e+01,  3.6269e+01,  3.1740e+01,  6.2906e+01,\n",
              "         -4.8917e-02, -5.8140e+00,  7.1194e+00,  9.2125e-01,  2.9955e-02,\n",
              "          4.3196e-02,  9.1743e-01,  4.8701e-03,  1.0025e+00],\n",
              "        [ 1.9990e-01,  1.0843e+01,  2.0918e+01,  1.9391e+01,  4.2001e+01,\n",
              "         -1.9555e+00,  6.3457e+00, -5.7550e+00,  9.6392e-01,  6.2655e-02,\n",
              "          9.1430e-02,  1.0075e+00,  8.2650e-02,  1.0520e+00],\n",
              "        [ 3.2516e+00,  5.4820e+01,  4.9913e+01,  5.9130e+01,  9.0937e+01,\n",
              "         -5.8077e+00,  4.0291e-01,  2.4701e+00,  1.0421e+00,  9.4085e-02,\n",
              "          7.7349e-02,  9.2029e-01,  5.6917e-02,  9.0237e-01],\n",
              "        [ 1.3741e+00, -1.6469e+01,  1.6146e+01,  1.2031e+01,  4.5986e+01,\n",
              "         -2.8236e+00, -2.0713e+00, -7.4399e+00,  1.0054e+00,  1.8822e-02,\n",
              "          3.6644e-02,  1.0984e+00,  9.9015e-02,  9.1813e-01]])"
            ]
          },
          "execution_count": 59,
          "metadata": {},
          "output_type": "execute_result"
        }
      ],
      "source": [
        "rho_example, epsilon_example, vx_example, vy_example, vz_example, Bx_example, By_example, Bz_example, gxx_example, gxy_example, gxz_example, gyy_example, gyz_example, gzz_example = generate_samples(20)\n",
        "\n",
        "inputs =  generate_input_data(rho_example, epsilon_example, vx_example, vy_example, vz_example, Bx_example, By_example, Bz_example, gxx_example, gxy_example, gxz_example, gyy_example, gyz_example, gzz_example)\n",
        "inputs\n"
      ]
    },
    {
      "cell_type": "code",
      "execution_count": 60,
      "metadata": {
        "colab": {
          "base_uri": "https://localhost:8080/"
        },
        "id": "QVa1upmFUZip",
        "outputId": "d6e86784-c258-410f-d90a-e9155ec2b61c"
      },
      "outputs": [
        {
          "data": {
            "text/plain": [
              "[tensor([[3.4693]], grad_fn=<AddmmBackward0>),\n",
              " tensor([[1.9727]], grad_fn=<AddmmBackward0>),\n",
              " tensor([[1.5632]], grad_fn=<AddmmBackward0>),\n",
              " tensor([[2.0346]], grad_fn=<AddmmBackward0>),\n",
              " tensor([[2.1888]], grad_fn=<AddmmBackward0>),\n",
              " tensor([[4.6094]], grad_fn=<AddmmBackward0>),\n",
              " tensor([[4.7764]], grad_fn=<AddmmBackward0>),\n",
              " tensor([[2.3268]], grad_fn=<AddmmBackward0>),\n",
              " tensor([[-0.3437]], grad_fn=<AddmmBackward0>),\n",
              " tensor([[-1.3464]], grad_fn=<AddmmBackward0>),\n",
              " tensor([[8.4399]], grad_fn=<AddmmBackward0>),\n",
              " tensor([[5.0318]], grad_fn=<AddmmBackward0>),\n",
              " tensor([[3.3901]], grad_fn=<AddmmBackward0>),\n",
              " tensor([[1.7328]], grad_fn=<AddmmBackward0>),\n",
              " tensor([[-0.8959]], grad_fn=<AddmmBackward0>),\n",
              " tensor([[5.6568]], grad_fn=<AddmmBackward0>),\n",
              " tensor([[3.4779]], grad_fn=<AddmmBackward0>),\n",
              " tensor([[0.7998]], grad_fn=<AddmmBackward0>),\n",
              " tensor([[9.8979]], grad_fn=<AddmmBackward0>),\n",
              " tensor([[2.5977]], grad_fn=<AddmmBackward0>)]"
            ]
          },
          "execution_count": 60,
          "metadata": {},
          "output_type": "execute_result"
        }
      ],
      "source": [
        "#%%script echo skipping\n",
        "\n",
        "# Pass the inputs to the network and get the outputs\n",
        "outputs = [net(input.unsqueeze(0)) for input in inputs]\n",
        "# Print the outputs\n",
        "outputs"
      ]
    },
    {
      "cell_type": "code",
      "execution_count": 61,
      "metadata": {
        "colab": {
          "base_uri": "https://localhost:8080/"
        },
        "id": "E-Xjfo7VUZir",
        "outputId": "a6371ec3-0378-403b-e195-3922d18a46d6"
      },
      "outputs": [
        {
          "data": {
            "text/plain": [
              "[tensor([[3.4693]], grad_fn=<AddmmBackward0>),\n",
              " tensor([[1.9727]], grad_fn=<AddmmBackward0>),\n",
              " tensor([[1.5632]], grad_fn=<AddmmBackward0>),\n",
              " tensor([[2.0346]], grad_fn=<AddmmBackward0>),\n",
              " tensor([[2.1888]], grad_fn=<AddmmBackward0>),\n",
              " tensor([[4.6094]], grad_fn=<AddmmBackward0>),\n",
              " tensor([[4.7764]], grad_fn=<AddmmBackward0>),\n",
              " tensor([[2.3268]], grad_fn=<AddmmBackward0>),\n",
              " tensor([[-0.3437]], grad_fn=<AddmmBackward0>),\n",
              " tensor([[-1.3464]], grad_fn=<AddmmBackward0>),\n",
              " tensor([[8.4399]], grad_fn=<AddmmBackward0>),\n",
              " tensor([[5.0318]], grad_fn=<AddmmBackward0>),\n",
              " tensor([[3.3901]], grad_fn=<AddmmBackward0>),\n",
              " tensor([[1.7328]], grad_fn=<AddmmBackward0>),\n",
              " tensor([[-0.8959]], grad_fn=<AddmmBackward0>),\n",
              " tensor([[5.6568]], grad_fn=<AddmmBackward0>),\n",
              " tensor([[3.4779]], grad_fn=<AddmmBackward0>),\n",
              " tensor([[0.7998]], grad_fn=<AddmmBackward0>),\n",
              " tensor([[9.8979]], grad_fn=<AddmmBackward0>),\n",
              " tensor([[2.5977]], grad_fn=<AddmmBackward0>)]"
            ]
          },
          "execution_count": 61,
          "metadata": {},
          "output_type": "execute_result"
        }
      ],
      "source": [
        "\n",
        "# Pass the inputs to the network and get the outputs\n",
        "outputs = [net_loaded(input.unsqueeze(0)) for input in inputs]\n",
        "# Print the outputs\n",
        "outputs"
      ]
    },
    {
      "cell_type": "markdown",
      "metadata": {
        "id": "xjpIvdybUZis"
      },
      "source": [
        "## Porting the model to C++"
      ]
    },
    {
      "cell_type": "code",
      "execution_count": 62,
      "metadata": {
        "colab": {
          "base_uri": "https://localhost:8080/"
        },
        "id": "VMlEd4RoUZis",
        "outputId": "3037f8cf-861a-48cf-e5b5-3178a412af92"
      },
      "outputs": [
        {
          "data": {
            "text/plain": [
              "Net(\n",
              "  (hidden_activation): ReLU()\n",
              "  (output_activation): Identity()\n",
              "  (layers): ModuleList(\n",
              "    (0): Linear(in_features=14, out_features=555, bias=True)\n",
              "    (1): Linear(in_features=555, out_features=458, bias=True)\n",
              "    (2): Linear(in_features=458, out_features=115, bias=True)\n",
              "    (3): Linear(in_features=115, out_features=1, bias=True)\n",
              "  )\n",
              ")"
            ]
          },
          "execution_count": 62,
          "metadata": {},
          "output_type": "execute_result"
        },
        {
          "name": "stdout",
          "output_type": "stream",
          "text": [
            "rho.shape:  torch.Size([1])\n",
            "epsilon.shape:  torch.Size([1])\n",
            "input shape:  torch.Size([1, 14])\n",
            "input:  tensor([[ 1.0959e+00,  6.1112e+01,  1.1308e+02, -9.6696e+00,  1.2885e+02,\n",
            "         -7.6100e+00,  3.4835e+00, -8.3076e+00,  1.0760e+00,  8.1225e-02,\n",
            "          3.5810e-02,  9.0506e-01,  1.6929e-02,  9.1935e-01]])\n",
            "Output: tensor([[3.3201]], grad_fn=<AddmmBackward0>)\n"
          ]
        },
        {
          "name": "stderr",
          "output_type": "stream",
          "text": [
            "/tmp/ipykernel_1092171/439735149.py:53: TracerWarning: Converting a tensor to a Python boolean might cause the trace to be incorrect. We can't record the data flow of Python values, so this value will be treated as a constant in the future. This means that the trace might not generalize to other inputs!\n",
            "  assert x.shape[1] == N_INPUTS, f\"x must have shape (batch_size, {N_INPUTS})\"\n"
          ]
        }
      ],
      "source": [
        "import torch.jit\n",
        "\n",
        "# Creating a dummy input tensor of shape (1, 5) to trace the model\n",
        "dummy_input = torch.randn(1, N_INPUTS).to(device)\n",
        "\n",
        "# Ensure that net_loaded is in evaluation mode.\n",
        "net_loaded.eval()\n",
        "\n",
        "# Tracing the model using the torch.jit.trace function\n",
        "traced_model = torch.jit.trace(net_loaded, dummy_input)\n",
        "\n",
        "# Saving the traced model to a file named \"net.pt\"\n",
        "traced_model.save(\"net.pt\")\n",
        "save_file(\"net.pt\")\n",
        "\n",
        "example_input_to_validate_correct_export_and_import = generate_input_data(*generate_samples(1))\n",
        "print(\"input shape: \", example_input_to_validate_correct_export_and_import.shape)\n",
        "print(\"input: \", example_input_to_validate_correct_export_and_import)\n",
        "print(\"Output:\", net_loaded(example_input_to_validate_correct_export_and_import))"
      ]
    }
  ],
  "metadata": {
    "accelerator": "GPU",
    "colab": {
      "gpuType": "T4",
      "provenance": [],
      "toc_visible": true
    },
    "kernelspec": {
      "display_name": "Python 3",
      "name": "python3"
    },
    "language_info": {
      "codemirror_mode": {
        "name": "ipython",
        "version": 3
      },
      "file_extension": ".py",
      "mimetype": "text/x-python",
      "name": "python",
      "nbconvert_exporter": "python",
      "pygments_lexer": "ipython3",
      "version": "3.11.3"
    },
    "orig_nbformat": 4
  },
  "nbformat": 4,
  "nbformat_minor": 0
}
