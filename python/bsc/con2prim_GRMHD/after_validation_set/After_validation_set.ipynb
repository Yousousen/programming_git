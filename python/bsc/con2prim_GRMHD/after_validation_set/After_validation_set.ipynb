{
  "cells": [
    {
      "cell_type": "markdown",
      "metadata": {
        "id": "TPvB1xoSUZhR"
      },
      "source": [
        "# Neural network to learn conservative-to-primitive conversion in relativistic hydrodynamics"
      ]
    },
    {
      "cell_type": "markdown",
      "metadata": {
        "id": "MAmcT4v2HN8L"
      },
      "source": [
        "## How to use this notebook\n",
        "\n",
        "### Local installation\n",
        "\n",
        "1. Install required packages with `pip install -r requirements.txt` to your desired environment.\n",
        "2. If a script version of this notebook is desired, comment (not uncomment) the first line of `nbconvert` cell.\n",
        "\n",
        "### Colab installation\n",
        "\n",
        "1.  Comment (not uncomment) the first line of the drive mounting cell.\n",
        "2.  Comment (not uncomment) the first line of the `pip install` cell.\n",
        "\n",
        "<!-- - For colab we also want to set the runtime to GPU by clicking _Change runtime_ in the _Runtime_ menu, and -->\n",
        "<!-- - We want to wait for the google drive connection popup to appear and follow the instructions. -->\n",
        "\n",
        "### Loading / Generating data\n",
        "3. Set `LOAD_DATA_FROM_CSV` to `True` / `False` to load data from csv files / generate data in this notebook.\n",
        "\n",
        "### Training without optimization\n",
        "\n",
        "4. Set `OPTIMIZE = False` in section _Constants and flags to set_.\n",
        "5. Run the entire notebook.\n",
        "\n",
        "### Training with optimization\n",
        "\n",
        "4. Set `OPTIMIZE = True` in section _Constants and flags to set_.\n",
        "5. Run the entire notebook.\n",
        "\n",
        "### Loading an already trained model\n",
        "\n",
        "4. Run cells in section _Initialization_.\n",
        "5. Run cells with definitions in section _Input data and labels_.\n",
        "6. Run cell with the definition of _Net_ in section _Defining the neural network_.\n",
        "7. Make sure the `net.pth`, `optimizer.pth`, `scheduler.pth`, `var_dict.json` and `train_output.csv` files are in the directory containing this notebook.\n",
        "8. Run the cells in section _Loading_ and continue from there.\n",
        "\n",
        "### Generating the C++ model\n",
        "\n",
        "9. Run section _Porting the model to C++_, this requires a model to be loaded.\n",
        "10. Set the path to the `net.pt` file in the C++ source file.\n",
        "11. `mkdir build && cd build`,\n",
        "12. Configure a `CMakeLists.txt` file as is done [here](https://pytorch.org/cppdocs/installing.html).\n",
        "13. `cmake -DCMAKE_PREFIX_PATH=/path/to/libtorch/ ..`,\n",
        "14. Compile and run, e.g. `cmake --build . --config release && ./<executable name>`"
      ]
    },
    {
      "cell_type": "markdown",
      "metadata": {
        "id": "eR_sqREjHN8M"
      },
      "source": [
        "## Initialization"
      ]
    },
    {
      "cell_type": "markdown",
      "metadata": {
        "id": "Qzpmw7FtHN8M"
      },
      "source": [
        "\n",
        "Use this first cell to **convert this notebook** to a python script."
      ]
    },
    {
      "cell_type": "code",
      "execution_count": null,
      "metadata": {
        "colab": {
          "base_uri": "https://localhost:8080/"
        },
        "id": "eqdgdNLHUZhV",
        "outputId": "4ecf6e71-143f-4a12-967c-3c3cda656ac2",
        "tags": [
          "remove_cell"
        ]
      },
      "outputs": [
        {
          "name": "stdout",
          "output_type": "stream",
          "text": [
            "skipping\n"
          ]
        }
      ],
      "source": [
        "%%script echo skipping\n",
        "\n",
        "!jupyter nbconvert pt1_before_restructuring.ipynb --TagRemovePreprocessor.enabled=True --TagRemovePreprocessor.remove_cell_tags='{\"remove_cell\"}' --to script"
      ]
    },
    {
      "cell_type": "markdown",
      "metadata": {
        "id": "nzcUr0LnUZhw"
      },
      "source": [
        "Next some cells for working on **google colab**,"
      ]
    },
    {
      "cell_type": "code",
      "execution_count": 60,
      "metadata": {
        "id": "McIPwo_EHN8P"
      },
      "outputs": [],
      "source": [
        "import os\n",
        "import shutil\n",
        "\n",
        "# check if the drive is mounted\n",
        "drive_mounted = os.path.exists(\"/content/drive\")\n",
        "# change this to your desired folder\n",
        "drive_folder = \"/content/drive/My Drive/bsc/con2prim_GRMHD/after_validation_set\"\n",
        "\n",
        "# define a function to save a file to the drive or the current directory\n",
        "def save_file(file_name):\n",
        "  if drive_mounted:\n",
        "    # save the file to the drive folder\n",
        "    file_path = os.path.join(drive_folder, file_name)\n",
        "    # copy the file from the current directory to the drive folder\n",
        "    shutil.copyfile(file_name, file_path)\n",
        "  else:\n",
        "    # do nothing as the file is already in the current directory\n",
        "    pass\n"
      ]
    },
    {
      "cell_type": "code",
      "execution_count": null,
      "metadata": {
        "colab": {
          "base_uri": "https://localhost:8080/"
        },
        "id": "ecHw2_xlUZhx",
        "outputId": "705641f0-9861-41f3-b6ff-42cdc20693d7"
      },
      "outputs": [
        {
          "name": "stdout",
          "output_type": "stream",
          "text": [
            "Mounted at /content/drive\n"
          ]
        }
      ],
      "source": [
        "#%%script echo skipping\n",
        "\n",
        "from google.colab import drive\n",
        "drive.mount('/content/drive')"
      ]
    },
    {
      "cell_type": "code",
      "execution_count": null,
      "metadata": {
        "colab": {
          "base_uri": "https://localhost:8080/"
        },
        "id": "T1rcStMLUZhy",
        "outputId": "ad9ac197-25c7-4c85-a953-20197ed3e71b"
      },
      "outputs": [
        {
          "name": "stdout",
          "output_type": "stream",
          "text": [
            "Looking in indexes: https://pypi.org/simple, https://us-python.pkg.dev/colab-wheels/public/simple/\n",
            "Collecting optuna\n",
            "  Downloading optuna-3.1.1-py3-none-any.whl (365 kB)\n",
            "\u001b[2K     \u001b[90m━━━━━━━━━━━━━━━━━━━━━━━━━━━━━━━━━━━━━━\u001b[0m \u001b[32m365.7/365.7 kB\u001b[0m \u001b[31m32.3 MB/s\u001b[0m eta \u001b[36m0:00:00\u001b[0m\n",
            "\u001b[?25hRequirement already satisfied: tensorboard in /usr/local/lib/python3.10/dist-packages (2.12.2)\n",
            "Collecting tensorboardX\n",
            "  Downloading tensorboardX-2.6-py2.py3-none-any.whl (114 kB)\n",
            "\u001b[2K     \u001b[90m━━━━━━━━━━━━━━━━━━━━━━━━━━━━━━━━━━━━━━\u001b[0m \u001b[32m114.5/114.5 kB\u001b[0m \u001b[31m19.2 MB/s\u001b[0m eta \u001b[36m0:00:00\u001b[0m\n",
            "\u001b[?25hCollecting alembic>=1.5.0 (from optuna)\n",
            "  Downloading alembic-1.11.1-py3-none-any.whl (224 kB)\n",
            "\u001b[2K     \u001b[90m━━━━━━━━━━━━━━━━━━━━━━━━━━━━━━━━━━━━━━\u001b[0m \u001b[32m224.5/224.5 kB\u001b[0m \u001b[31m30.0 MB/s\u001b[0m eta \u001b[36m0:00:00\u001b[0m\n",
            "\u001b[?25hCollecting cmaes>=0.9.1 (from optuna)\n",
            "  Downloading cmaes-0.9.1-py3-none-any.whl (21 kB)\n",
            "Collecting colorlog (from optuna)\n",
            "  Downloading colorlog-6.7.0-py2.py3-none-any.whl (11 kB)\n",
            "Requirement already satisfied: numpy in /usr/local/lib/python3.10/dist-packages (from optuna) (1.22.4)\n",
            "Requirement already satisfied: packaging>=20.0 in /usr/local/lib/python3.10/dist-packages (from optuna) (23.1)\n",
            "Requirement already satisfied: sqlalchemy>=1.3.0 in /usr/local/lib/python3.10/dist-packages (from optuna) (2.0.10)\n",
            "Requirement already satisfied: tqdm in /usr/local/lib/python3.10/dist-packages (from optuna) (4.65.0)\n",
            "Requirement already satisfied: PyYAML in /usr/local/lib/python3.10/dist-packages (from optuna) (6.0)\n",
            "Requirement already satisfied: absl-py>=0.4 in /usr/local/lib/python3.10/dist-packages (from tensorboard) (1.4.0)\n",
            "Requirement already satisfied: grpcio>=1.48.2 in /usr/local/lib/python3.10/dist-packages (from tensorboard) (1.54.0)\n",
            "Requirement already satisfied: google-auth<3,>=1.6.3 in /usr/local/lib/python3.10/dist-packages (from tensorboard) (2.17.3)\n",
            "Requirement already satisfied: google-auth-oauthlib<1.1,>=0.5 in /usr/local/lib/python3.10/dist-packages (from tensorboard) (1.0.0)\n",
            "Requirement already satisfied: markdown>=2.6.8 in /usr/local/lib/python3.10/dist-packages (from tensorboard) (3.4.3)\n",
            "Requirement already satisfied: protobuf>=3.19.6 in /usr/local/lib/python3.10/dist-packages (from tensorboard) (3.20.3)\n",
            "Requirement already satisfied: requests<3,>=2.21.0 in /usr/local/lib/python3.10/dist-packages (from tensorboard) (2.27.1)\n",
            "Requirement already satisfied: setuptools>=41.0.0 in /usr/local/lib/python3.10/dist-packages (from tensorboard) (67.7.2)\n",
            "Requirement already satisfied: tensorboard-data-server<0.8.0,>=0.7.0 in /usr/local/lib/python3.10/dist-packages (from tensorboard) (0.7.0)\n",
            "Requirement already satisfied: tensorboard-plugin-wit>=1.6.0 in /usr/local/lib/python3.10/dist-packages (from tensorboard) (1.8.1)\n",
            "Requirement already satisfied: werkzeug>=1.0.1 in /usr/local/lib/python3.10/dist-packages (from tensorboard) (2.3.0)\n",
            "Requirement already satisfied: wheel>=0.26 in /usr/local/lib/python3.10/dist-packages (from tensorboard) (0.40.0)\n",
            "Collecting Mako (from alembic>=1.5.0->optuna)\n",
            "  Downloading Mako-1.2.4-py3-none-any.whl (78 kB)\n",
            "\u001b[2K     \u001b[90m━━━━━━━━━━━━━━━━━━━━━━━━━━━━━━━━━━━━━━━━\u001b[0m \u001b[32m78.7/78.7 kB\u001b[0m \u001b[31m10.1 MB/s\u001b[0m eta \u001b[36m0:00:00\u001b[0m\n",
            "\u001b[?25hRequirement already satisfied: typing-extensions>=4 in /usr/local/lib/python3.10/dist-packages (from alembic>=1.5.0->optuna) (4.5.0)\n",
            "Requirement already satisfied: cachetools<6.0,>=2.0.0 in /usr/local/lib/python3.10/dist-packages (from google-auth<3,>=1.6.3->tensorboard) (5.3.0)\n",
            "Requirement already satisfied: pyasn1-modules>=0.2.1 in /usr/local/lib/python3.10/dist-packages (from google-auth<3,>=1.6.3->tensorboard) (0.3.0)\n",
            "Requirement already satisfied: six>=1.9.0 in /usr/local/lib/python3.10/dist-packages (from google-auth<3,>=1.6.3->tensorboard) (1.16.0)\n",
            "Requirement already satisfied: rsa<5,>=3.1.4 in /usr/local/lib/python3.10/dist-packages (from google-auth<3,>=1.6.3->tensorboard) (4.9)\n",
            "Requirement already satisfied: requests-oauthlib>=0.7.0 in /usr/local/lib/python3.10/dist-packages (from google-auth-oauthlib<1.1,>=0.5->tensorboard) (1.3.1)\n",
            "Requirement already satisfied: urllib3<1.27,>=1.21.1 in /usr/local/lib/python3.10/dist-packages (from requests<3,>=2.21.0->tensorboard) (1.26.15)\n",
            "Requirement already satisfied: certifi>=2017.4.17 in /usr/local/lib/python3.10/dist-packages (from requests<3,>=2.21.0->tensorboard) (2022.12.7)\n",
            "Requirement already satisfied: charset-normalizer~=2.0.0 in /usr/local/lib/python3.10/dist-packages (from requests<3,>=2.21.0->tensorboard) (2.0.12)\n",
            "Requirement already satisfied: idna<4,>=2.5 in /usr/local/lib/python3.10/dist-packages (from requests<3,>=2.21.0->tensorboard) (3.4)\n",
            "Requirement already satisfied: greenlet!=0.4.17 in /usr/local/lib/python3.10/dist-packages (from sqlalchemy>=1.3.0->optuna) (2.0.2)\n",
            "Requirement already satisfied: MarkupSafe>=2.1.1 in /usr/local/lib/python3.10/dist-packages (from werkzeug>=1.0.1->tensorboard) (2.1.2)\n",
            "Requirement already satisfied: pyasn1<0.6.0,>=0.4.6 in /usr/local/lib/python3.10/dist-packages (from pyasn1-modules>=0.2.1->google-auth<3,>=1.6.3->tensorboard) (0.5.0)\n",
            "Requirement already satisfied: oauthlib>=3.0.0 in /usr/local/lib/python3.10/dist-packages (from requests-oauthlib>=0.7.0->google-auth-oauthlib<1.1,>=0.5->tensorboard) (3.2.2)\n",
            "Installing collected packages: tensorboardX, Mako, colorlog, cmaes, alembic, optuna\n",
            "Successfully installed Mako-1.2.4 alembic-1.11.1 cmaes-0.9.1 colorlog-6.7.0 optuna-3.1.1 tensorboardX-2.6\n"
          ]
        }
      ],
      "source": [
        "#%%script echo skipping\n",
        "\n",
        "!pip install optuna tensorboard tensorboardX"
      ]
    },
    {
      "cell_type": "markdown",
      "metadata": {
        "id": "djyinQUpHN8R"
      },
      "source": [
        "Importing the **libraries**,"
      ]
    },
    {
      "cell_type": "code",
      "execution_count": null,
      "metadata": {
        "id": "tREdWQUVUZhz"
      },
      "outputs": [],
      "source": [
        "import numpy as np\n",
        "import matplotlib.pyplot as plt\n",
        "import torch\n",
        "import torch.nn as nn\n",
        "import torch.optim as optim\n",
        "import torch.nn.functional as F\n",
        "import optuna\n",
        "import tensorboardX as tbx\n",
        "import pandas as pd"
      ]
    },
    {
      "cell_type": "markdown",
      "metadata": {
        "id": "38GvmerjUZhz"
      },
      "source": [
        "### Constants and flags to set\n",
        "Defining some constants and parameters for convenience.\n",
        "\n",
        "**NOTE**: Some **subparameters** still need to be adjusted in the `create_model` function itself as of (Tue May 16 07:42:45 AM CEST 2023) in the case the model is being trained without optimization."
      ]
    },
    {
      "cell_type": "code",
      "execution_count": null,
      "metadata": {
        "id": "ei6VZDYKUZh0"
      },
      "outputs": [],
      "source": [
        "\n",
        "# Checking if GPU is available and setting the device accordingly\n",
        "device = torch.device(\"cuda\" if torch.cuda.is_available() else \"cpu\")\n",
        "\n",
        "N_TRIALS = 1 # Number of trials for hyperparameter optimization # NOTE: Set this before properly.\n",
        "OPTIMIZE = True # Whether to optimize the hyperparameters or to use predetermined values. # NOTE: Set this before properly.\n",
        "ZSCORE_NORMALIZATION = False # Whether to z-score normalize the input data.\n",
        "LOAD_DATA_FROM_CSV = False  # If not true we generate the data in this file and save to {x_train,y_train,x_test,y_test}.csv, otherwise we load the data from files of the same name. # NOTE: Set this before properly.\n",
        "\n",
        "csv_filenames = { # File names to load input data and labels from if LOAD_DATA_FROM_CSV is True.\n",
        "    \"x_train\": \"x_train.csv\",\n",
        "    \"x_val\": \"x_val.csv\",\n",
        "    \"x_test\": \"x_test.csv\",\n",
        "    \"y_train\": \"y_train.csv\",\n",
        "    \"y_val\": \"y_val.csv\",\n",
        "    \"y_test\": \"y_test.csv\",\n",
        "}\n",
        "\n",
        "# Values to use for hyperparameters if OPTIMIZE is False.\n",
        "N_LAYERS_NO_OPT = 3\n",
        "N_UNITS_NO_OPT = [555, 458, 115]\n",
        "HIDDEN_ACTIVATION_NAME_NO_OPT = \"ReLU\"\n",
        "OUTPUT_ACTIVATION_NAME_NO_OPT = \"ReLU\"\n",
        "LOSS_NAME_NO_OPT = \"Huber\"\n",
        "OPTIMIZER_NAME_NO_OPT = \"RMSprop\"\n",
        "LR_NO_OPT = 0.000122770896701404\n",
        "BATCH_SIZE_NO_OPT = 49\n",
        "N_EPOCHS_NO_OPT = 5 # NOTE: Set this before properly.\n",
        "SCHEDULER_NAME_NO_OPT = \"ReduceLROnPlateau\"\n",
        "\n",
        "N_INPUTS = 14  # Number of input features.\n",
        "Gamma = 5/3  # Adiabatic index\n",
        "\n",
        "n_samples = 100000 # NOTE: Set this before properly.\n",
        "train_frac = 0.7  # 70% of data for training\n",
        "val_frac = 0.1  # 10% of data for validation, rest for testing\n",
        "\n",
        "rho_interval = (0, 2) \n",
        "epsilon_interval = (1e-2, 2000)  # Will be sampled in log space\n",
        "vx_interval = (0, 0.999)  \n",
        "vy_interval = (0, 0.999)  \n",
        "vz_interval = (0, 0.999)  \n",
        "Bx_interval = (-10, 10)  \n",
        "By_interval = (-10, 10)  \n",
        "Bz_interval = (-10, 10)  \n",
        "gxx_interval = (0.9, 1.1)\n",
        "gxy_interval = (0, 0.1)\n",
        "gxz_interval = (0, 0.1)\n",
        "gyy_interval = (0.9, 1.1)\n",
        "gyz_interval = (0, 0.1)\n",
        "gzz_interval = (0.9, 1.1)\n",
        "\n",
        "np.random.seed(56) # Comment for true random data.\n"
      ]
    },
    {
      "cell_type": "markdown",
      "metadata": {
        "id": "dlaP5UL2UZh1"
      },
      "source": [
        "## Input data and labels\n",
        "\n",
        "We either generate the data or load the data. First the definitions for generating the data come below."
      ]
    },
    {
      "cell_type": "code",
      "execution_count": null,
      "metadata": {
        "id": "s_EvGFZcUZh1"
      },
      "outputs": [],
      "source": [
        "# Defining an analytic equation of state (EOS) for an ideal gas\n",
        "def eos_analytic(rho, epsilon):\n",
        "    # Adding some assertions to check that the input tensors are valid and have \n",
        "    # the expected shape and type \n",
        "    assert isinstance(rho, torch.Tensor), \"rho must be a torch.Tensor\"\n",
        "    assert isinstance(epsilon, torch.Tensor), \"epsilon must be a torch.Tensor\"\n",
        "    print('rho.shape: ', rho.shape)\n",
        "    print('epsilon.shape: ', epsilon.shape)\n",
        "    assert rho.shape == epsilon.shape, \"rho and epsilon must have the same shape\"\n",
        "    assert rho.ndim == 1, \"rho and epsilon must be one-dimensional tensors\"\n",
        "    assert rho.dtype == torch.float32, \"rho and epsilon must have dtype torch.float32\"\n",
        "\n",
        "    return (Gamma - 1) * rho * epsilon\n",
        "\n",
        "def sample_primitive_variables_and_metric():\n",
        "    rho = np.random.uniform(*rho_interval)  \n",
        "    epsilon = 10 ** np.random.uniform(*np.log10(epsilon_interval))\n",
        "    vx = np.random.uniform(*vx_interval)  \n",
        "    vy = np.random.uniform(*vy_interval)  \n",
        "    vz = np.random.uniform(*vz_interval)  \n",
        "    Bx = np.random.uniform(*Bx_interval)  \n",
        "    By = np.random.uniform(*By_interval)  \n",
        "    Bz = np.random.uniform(*Bz_interval)  \n",
        "    gxx = np.random.uniform(*gxx_interval)\n",
        "    gxy = np.random.uniform(*gxy_interval)\n",
        "    gxz = np.random.uniform(*gxz_interval)\n",
        "    gyy = np.random.uniform(*gyy_interval)\n",
        "    gyz = np.random.uniform(*gyz_interval)\n",
        "    gzz = np.random.uniform(*gzz_interval)\n",
        "\n",
        "    return rho, epsilon, vx, vy, vz, Bx, By, Bz, gxx, gxy, gxz, gyy, gyz, gzz\n",
        "\n",
        "def check_sample(rho, epsilon, vx, vy, vz, Bx, By, Bz, gxx, gxy, gxz, gyy, gyz, gzz):\n",
        "    wtemp_expr = 1 - (gxx * vx**2 + gyy * vy**2 + gzz * vz**2 + 2 * gxy * vx * vy + 2 * gxz * vx * vz + 2 * gyz * vy * vz)\n",
        "    sdet_expr = gxx * gyy * gzz + 2 * gxy * gxz * gyz - gxx * gyz ** 2 - gyy * gxz ** 2 - gzz * gxy ** 2\n",
        "    if vx**2 + vy**2 + vz**2 >= 1 or wtemp_expr < 0 or sdet_expr < 0:\n",
        "        # print(f\"Sample failed checks. vx^2+vy^2+vz^2: {vx**2 + vy**2 + vz**2}, wtemp_expr: {wtemp_expr}, sdet_expr: {sdet_expr}\")\n",
        "        return False\n",
        "    else:\n",
        "        # print(f\"Sample passed checks. vx^2+vy^2+vz^2: {vx**2 + vy**2 + vz**2}, wtemp_expr: {wtemp_expr}, sdet_expr: {sdet_expr}\")\n",
        "        return True\n",
        "\n",
        "def generate_samples(n_samples):\n",
        "    samples = []\n",
        "    while len(samples) < n_samples:\n",
        "        sample = sample_primitive_variables_and_metric()\n",
        "        if check_sample(*sample):\n",
        "            samples.append(sample)\n",
        "        # print(f\"Number of valid samples: {len(samples)}\")\n",
        "    return zip(*samples)\n",
        "def sdet(gxx, gxy, gxz, gyy, gyz, gzz):\n",
        "    # Determinant of the three metric.\n",
        "    return (gxx * gyy * gzz + 2 * gxy * gxz * gyz - gxx * gyz ** 2 - gyy * gxz ** 2 - gzz * gxy ** 2) ** 0.5\n",
        "\n",
        "# Defining a function that computes conserved variables from primitive variables and the metric\n",
        "# We follow the source code of GRaM-X: A new GPU-accelerated dynamical spacetime GRMHD code for Exascale\n",
        "# computing with the Einstein Toolkit of Shankar et al.\n",
        "def compute_conserved_variables(rho, epsilon, vx, vy, vz, Bx, By, Bz, gxx, gxy, gxz, gyy, gyz, gzz):\n",
        "    pres = eos_analytic(rho, epsilon)\n",
        "    wtemp = 1 / (1 - (gxx * vx**2 + gyy * vy**2 + gzz * vz**2 +\n",
        "        2 * gxy * vx * vy + 2 * gxz * vx * vz +\n",
        "        2 * gyz * vy * vz))**0.5\n",
        "\n",
        "    vlowx = gxx * vx + gxy * vy + gxz * vz\n",
        "    vlowy = gxy * vx + gyy * vy + gyz * vz\n",
        "    vlowz = gxz * vx + gyz * vy + gzz * vz\n",
        "\n",
        "    Bxlow = gxx * Bx + gxy * By + gxz * Bz\n",
        "    Bylow = gxy * Bx + gyy * By + gyz * Bz\n",
        "    Bzlow = gxz * Bx + gyz * By + gzz * Bz\n",
        "\n",
        "    B2 = Bxlow * Bx + Bylow * By + Bzlow * Bz\n",
        "\n",
        "    Bdotv = Bxlow * vx + Bylow * vy + Bzlow * vz\n",
        "    Bdotv2 = Bdotv * Bdotv\n",
        "    wtemp2 = wtemp * wtemp\n",
        "    b2 = B2 / wtemp2 + Bdotv2\n",
        "    ab0 = wtemp * Bdotv\n",
        "\n",
        "    blowx = (gxx * Bx + gxy * By + gxz * Bz) / wtemp + wtemp * Bdotv * vlowx\n",
        "    blowy = (gxy * Bx + gyy * By + gyz * Bz) / wtemp + wtemp * Bdotv * vlowy\n",
        "    blowz = (gxz * Bx + gyz * By + gzz * Bz) / wtemp + wtemp * Bdotv * vlowz\n",
        "\n",
        "    hrhow2 = (rho * (1 + epsilon) + pres + b2) * (wtemp) * (wtemp)\n",
        "\n",
        "    D = sdet(gxx, gxy, gxz, gyy, gyz, gzz) * rho * (wtemp)\n",
        "    Sx = sdet(gxx, gxy, gxz, gyy, gyz, gzz) * (hrhow2 * vlowx - ab0 * blowx)\n",
        "    Sy = sdet(gxx, gxy, gxz, gyy, gyz, gzz) * (hrhow2 * vlowy - ab0 * blowy)\n",
        "    Sz = sdet(gxx, gxy, gxz, gyy, gyz, gzz) * (hrhow2 * vlowz - ab0 * blowz)\n",
        "    tau = sdet(gxx, gxy, gxz, gyy, gyz, gzz) * (hrhow2 - pres - b2 / 2 - ab0 * ab0) - D\n",
        "    Bconsx = sdet(gxx, gxy, gxz, gyy, gyz, gzz) * Bx\n",
        "    Bconsy = sdet(gxx, gxy, gxz, gyy, gyz, gzz) * By\n",
        "    Bconsz = sdet(gxx, gxy, gxz, gyy, gyz, gzz) * Bz\n",
        "\n",
        "    return D, Sx, Sy, Sz, tau, Bconsx, Bconsy, Bconsz\n",
        "\n",
        "def generate_input_data(rho, epsilon, vx, vy, vz, Bx, By, Bz, gxx, gxy, gxz, gyy, gyz, gzz):\n",
        "    rho = torch.tensor(np.array(rho), dtype=torch.float32).to(device)\n",
        "    epsilon = torch.tensor(np.array(epsilon), dtype=torch.float32).to(device)\n",
        "    vx = torch.tensor(np.array(vx), dtype=torch.float32).to(device)\n",
        "    vy = torch.tensor(np.array(vy), dtype=torch.float32).to(device)\n",
        "    vz = torch.tensor(np.array(vz), dtype=torch.float32).to(device)\n",
        "    Bx = torch.tensor(np.array(Bx), dtype=torch.float32).to(device)\n",
        "    By = torch.tensor(np.array(By), dtype=torch.float32).to(device)\n",
        "    Bz = torch.tensor(np.array(Bz), dtype=torch.float32).to(device)\n",
        "    gxx = torch.tensor(np.array(gxx), dtype=torch.float32).to(device)\n",
        "    gxy = torch.tensor(np.array(gxy), dtype=torch.float32).to(device)\n",
        "    gxz = torch.tensor(np.array(gxz), dtype=torch.float32).to(device)\n",
        "    gyy = torch.tensor(np.array(gyy), dtype=torch.float32).to(device)\n",
        "    gyz = torch.tensor(np.array(gyz), dtype=torch.float32).to(device)\n",
        "    gzz = torch.tensor(np.array(gzz), dtype=torch.float32).to(device)\n",
        "\n",
        "    D, Sx, Sy, Sz, tau, Bscriptx, Bscripty, Bscriptz = compute_conserved_variables(\n",
        "        rho, epsilon, vx, vy, vz, Bx, By, Bz, gxx, gxy, gxz, gyy, gyz, gzz\n",
        "    ) \n",
        "\n",
        "    # Add gxx, gxy, gxz, gyy, gyz, gzz to the tensor\n",
        "    x = torch.stack([D, Sx, Sy, Sz, tau, Bscriptx, Bscripty, Bscriptz, gxx, gxy, gxz, gyy, gyz, gzz], axis=1)\n",
        "    return x\n",
        "\n",
        "# Defining a function that generates output data (labels) from given samples of primitive variables\n",
        "# We use the definitions as given in Recovery schemes for primitive variables in\n",
        "# general-relativistic magnetohydrodynamics of Siegel et al.\n",
        "def generate_labels(rho, epsilon, vx, vy, vz):\n",
        "    # Converting the numpy arrays to torch tensors and moving them to the device\n",
        "    rho = torch.tensor(np.array(rho), dtype=torch.float32).to(device)\n",
        "    epsilon = torch.tensor(np.array(epsilon), dtype=torch.float32).to(device)\n",
        "    vx = torch.tensor(np.array(vx), dtype=torch.float32).to(device)\n",
        "    vy = torch.tensor(np.array(vy), dtype=torch.float32).to(device)\n",
        "    vz = torch.tensor(np.array(vz), dtype=torch.float32).to(device)\n",
        "\n",
        "    # Computing the required quantities\n",
        "    pres = eos_analytic(rho, epsilon)\n",
        "    h = 1 + epsilon + pres / rho\n",
        "    W = 1 / torch.sqrt(1 - (vx * vx + vy * vy + vz * vz))\n",
        "\n",
        "    # Returning the output data tensor\n",
        "    return h * W"
      ]
    },
    {
      "cell_type": "markdown",
      "metadata": {
        "id": "FEGvnNapHN8V"
      },
      "source": [
        "### Generating or loading input data and labels"
      ]
    },
    {
      "cell_type": "code",
      "execution_count": null,
      "metadata": {
        "id": "cKubR6C8UZh4"
      },
      "outputs": [],
      "source": [
        "if LOAD_DATA_FROM_CSV:\n",
        "    # Load the data from CSV files\n",
        "    x_train = pd.read_csv(csv_filenames[\"x_train\"]).values\n",
        "    y_train = pd.read_csv(csv_filenames[\"y_train\"]).values.squeeze()  # reshape to 1D\n",
        "    x_val = pd.read_csv(csv_filenames[\"x_val\"]).values\n",
        "    y_val = pd.read_csv(csv_filenames[\"y_val\"]).values.squeeze()  # reshape to 1D\n",
        "    x_test = pd.read_csv(csv_filenames[\"x_test\"]).values\n",
        "    y_test = pd.read_csv(csv_filenames[\"y_test\"]).values.squeeze()  # reshape to 1D\n",
        "\n",
        "    # Convert numpy arrays to tensors\n",
        "    x_train = torch.from_numpy(x_train).float().to(device)\n",
        "    y_train = torch.from_numpy(y_train).float().to(device)\n",
        "    x_val = torch.from_numpy(x_val).float().to(device)\n",
        "    y_val = torch.from_numpy(y_val).float().to(device)\n",
        "    x_test = torch.from_numpy(x_test).float().to(device)\n",
        "    y_test = torch.from_numpy(y_test).float().to(device)\n",
        "\n",
        "    # This is an alternative to having if clauses around the cells that visualize these variables.\n",
        "    rho = epsilon = vx = vy = vz = Bx = By = Bz = gxx = gxy = gxz = gyy = gyz  = gzz = None"
      ]
    },
    {
      "cell_type": "code",
      "execution_count": null,
      "metadata": {
        "id": "G7Y6BJJrHN8V"
      },
      "outputs": [],
      "source": [
        "if not LOAD_DATA_FROM_CSV:\n",
        "    # Sample primitive variables and metric\n",
        "    rho, epsilon, vx, vy, vz, Bx, By, Bz, gxx, gxy, gxz, gyy, gyz, gzz = generate_samples(n_samples)"
      ]
    },
    {
      "cell_type": "code",
      "execution_count": null,
      "metadata": {
        "colab": {
          "base_uri": "https://localhost:8080/"
        },
        "id": "WyyPMzRwHN8W",
        "outputId": "3fe3e736-58cc-4680-b960-e71a77c12882"
      },
      "outputs": [
        {
          "name": "stdout",
          "output_type": "stream",
          "text": [
            "rho.shape:  torch.Size([100000])\n",
            "epsilon.shape:  torch.Size([100000])\n",
            "rho.shape:  torch.Size([100000])\n",
            "epsilon.shape:  torch.Size([100000])\n"
          ]
        }
      ],
      "source": [
        "if not LOAD_DATA_FROM_CSV:\n",
        "    # Generate data and labels.\n",
        "    x = generate_input_data(rho, epsilon, vx, vy, vz, Bx, By, Bz, gxx, gxy, gxz, gyy, gyz, gzz)\n",
        "    y = generate_labels(rho, epsilon, vx, vy, vz)\n",
        "\n",
        "    # Calculate the number of samples in each set\n",
        "    n_train_samples = int(n_samples * train_frac)\n",
        "    n_val_samples = int(n_samples * val_frac)\n",
        "\n",
        "    # Create the data sets\n",
        "    x_train = x[:n_train_samples]\n",
        "    y_train = y[:n_train_samples]\n",
        "    x_val = x[n_train_samples : n_train_samples + n_val_samples]\n",
        "    y_val = y[n_train_samples : n_train_samples + n_val_samples]\n",
        "    x_test = x[n_train_samples + n_val_samples :]\n",
        "    y_test = y[n_train_samples + n_val_samples :]\n",
        "\n",
        "    # Save the data to CSV files; tensors need to be converted numpy arrays for saving in CSV.\n",
        "    pd.DataFrame(x_train.cpu().numpy()).to_csv(csv_filenames[\"x_train\"], index=False)\n",
        "    save_file(csv_filenames[\"x_train\"])\n",
        "    pd.DataFrame(y_train.cpu().numpy()).to_csv(csv_filenames[\"y_train\"], index=False)\n",
        "    save_file(csv_filenames[\"y_train\"])\n",
        "\n",
        "    pd.DataFrame(x_val.cpu().numpy()).to_csv(csv_filenames[\"x_val\"], index=False)\n",
        "    save_file(csv_filenames[\"x_val\"])\n",
        "    pd.DataFrame(y_val.cpu().numpy()).to_csv(csv_filenames[\"y_val\"], index=False)\n",
        "    save_file(csv_filenames[\"y_val\"])\n",
        "\n",
        "    pd.DataFrame(x_test.cpu().numpy()).to_csv(csv_filenames[\"x_test\"], index=False)\n",
        "    save_file(csv_filenames[\"x_test\"])\n",
        "    pd.DataFrame(y_test.cpu().numpy()).to_csv(csv_filenames[\"y_test\"], index=False)\n",
        "    save_file(csv_filenames[\"y_test\"])"
      ]
    },
    {
      "cell_type": "code",
      "execution_count": null,
      "metadata": {
        "colab": {
          "base_uri": "https://localhost:8080/"
        },
        "id": "W2dy5WHvHN8W",
        "outputId": "6362451e-76fe-4851-9826-846300c810f3"
      },
      "outputs": [
        {
          "data": {
            "text/plain": [
              "tensor([1.0729e+01, 1.4852e+03, 5.6100e+01,  ..., 1.1048e+00, 2.6302e+00,\n",
              "        7.7592e+00], device='cuda:0')"
            ]
          },
          "execution_count": 11,
          "metadata": {},
          "output_type": "execute_result"
        }
      ],
      "source": [
        "\n",
        "x_train.shape\n",
        "y_train.shape\n",
        "x_val.shape\n",
        "y_val.shape\n",
        "x_test.shape\n",
        "y_test.shape\n",
        "x_train\n",
        "y_train\n",
        "x_val\n",
        "y_val\n",
        "x_test\n",
        "y_test"
      ]
    },
    {
      "cell_type": "code",
      "execution_count": null,
      "metadata": {
        "colab": {
          "base_uri": "https://localhost:8080/"
        },
        "id": "ZI7WaN5QHN8W",
        "outputId": "147fb950-1cdd-45b1-f16e-c66c770d4a51"
      },
      "outputs": [
        {
          "data": {
            "text/plain": [
              "tensor(False, device='cuda:0')"
            ]
          },
          "execution_count": 12,
          "metadata": {},
          "output_type": "execute_result"
        }
      ],
      "source": [
        "torch.isnan(x_train).any()\n",
        "torch.isnan(x_val).any()\n",
        "torch.isnan(x_test).any()\n",
        "torch.isnan(y_train).any()\n",
        "torch.isnan(y_val).any()\n",
        "torch.isnan(y_test).any()"
      ]
    },
    {
      "cell_type": "code",
      "execution_count": null,
      "metadata": {
        "colab": {
          "base_uri": "https://localhost:8080/"
        },
        "id": "Jjfg7-B2HN8X",
        "outputId": "14d0befe-50a4-4591-f487-93288201fb0b"
      },
      "outputs": [
        {
          "data": {
            "text/plain": [
              "(tensor([], device='cuda:0', dtype=torch.int64),\n",
              " tensor([], device='cuda:0', dtype=torch.int64))"
            ]
          },
          "execution_count": 13,
          "metadata": {},
          "output_type": "execute_result"
        }
      ],
      "source": [
        "nan_mask_train = torch.isnan(x_train)     # get a boolean mask indicating NaN values\n",
        "nan_indices_train = torch.where(nan_mask_train)  # get the indices of the NaN values\n",
        "nan_indices_train\n",
        "# len(nan_indices_train)\n",
        "\n",
        "nan_mask_val = torch.isnan(x_val)     # get a boolean mask indicating NaN values\n",
        "nan_indices_val = torch.where(nan_mask_val)  # get the indices of the NaN values\n",
        "nan_indices_val\n",
        "# len(nan_indices_test)\n",
        "\n",
        "nan_mask_test = torch.isnan(x_test)     # get a boolean mask indicating NaN values\n",
        "nan_indices_test = torch.where(nan_mask_test)  # get the indices of the NaN values\n",
        "nan_indices_test\n",
        "# len(nan_indices_test)"
      ]
    },
    {
      "cell_type": "markdown",
      "metadata": {
        "id": "GxETvrHUHN8X"
      },
      "source": [
        "## Visualizing the data"
      ]
    },
    {
      "cell_type": "markdown",
      "metadata": {
        "id": "T1kQ47grHN8X"
      },
      "source": [
        "### Visualizing sampled data"
      ]
    },
    {
      "cell_type": "code",
      "execution_count": null,
      "metadata": {
        "colab": {
          "base_uri": "https://localhost:8080/"
        },
        "id": "HJ0MZQPRHN8X",
        "outputId": "4ada1162-915a-495b-8276-56dd52886172"
      },
      "outputs": [
        {
          "name": "stdout",
          "output_type": "stream",
          "text": [
            "skipping\n"
          ]
        }
      ],
      "source": [
        "if not LOAD_DATA_FROM_CSV:\n",
        "    rho\n",
        "    epsilon\n",
        "    vx\n",
        "    vy\n",
        "    vz \n",
        "    Bx\n",
        "    By\n",
        "    Bz\n",
        "    gxx\n",
        "    gxy\n",
        "    gxz\n",
        "    gyy\n",
        "    gyz\n",
        "    gzz "
      ]
    },
    {
      "cell_type": "code",
      "execution_count": null,
      "metadata": {
        "colab": {
          "base_uri": "https://localhost:8080/"
        },
        "id": "MlK_HeRcHN8Y",
        "outputId": "cbf35e93-8a65-441b-91cd-771e4003167e"
      },
      "outputs": [
        {
          "name": "stdout",
          "output_type": "stream",
          "text": [
            "100000\n",
            "100000\n",
            "100000\n",
            "100000\n",
            "100000\n",
            "100000\n",
            "100000\n",
            "100000\n",
            "\n",
            "100000\n",
            "100000\n",
            "100000\n",
            "100000\n",
            "100000\n",
            "100000\n"
          ]
        }
      ],
      "source": [
        "if not LOAD_DATA_FROM_CSV:\n",
        "    print(len(rho))\n",
        "    print(len(epsilon))\n",
        "    print(len(vx))\n",
        "    print(len(vy))\n",
        "    print(len(vz))\n",
        "    print(len(Bx))\n",
        "    print(len(By))\n",
        "    print(len(Bz))\n",
        "    print()\n",
        "    print(len(gxx))\n",
        "    print(len(gxy))\n",
        "    print(len(gxz))\n",
        "    print(len(gyy))\n",
        "    print(len(gyz))\n",
        "    print(len(gzz))"
      ]
    },
    {
      "cell_type": "code",
      "execution_count": null,
      "metadata": {
        "id": "VMp6XJ6RUZh4"
      },
      "outputs": [],
      "source": [
        "%config InteractiveShell.ast_node_interactivity = \"last_expr_or_assign\""
      ]
    },
    {
      "cell_type": "code",
      "execution_count": null,
      "metadata": {
        "colab": {
          "base_uri": "https://localhost:8080/"
        },
        "id": "pOPQGuX2HN8Y",
        "outputId": "4e83c8ac-df9a-4cbf-95e0-47497e408e06"
      },
      "outputs": [
        {
          "name": "stdout",
          "output_type": "stream",
          "text": [
            "skipping\n"
          ]
        }
      ],
      "source": [
        "%%script echo skipping\n",
        "\n",
        "plt.hist([np.random.uniform(0, 0.999) for _ in range(n_train_samples)], bins=20)"
      ]
    },
    {
      "cell_type": "code",
      "execution_count": null,
      "metadata": {
        "colab": {
          "base_uri": "https://localhost:8080/"
        },
        "id": "TpU9cmd1HN8Y",
        "outputId": "6baeb856-c652-4574-c018-b6a84010162d"
      },
      "outputs": [
        {
          "data": {
            "text/plain": [
              "(1415.0675675651153,\n",
              " 56.4335310318854,\n",
              " 0.31992021223577094,\n",
              " 363.7739077874466,\n",
              " 0.19577761404771743,\n",
              " 0.03249544770165559,\n",
              " 0.01654050133127368,\n",
              " 0.5216354128330029,\n",
              " 0.8228165471397563,\n",
              " 71.41533148013022,\n",
              " 3.261815772610169,\n",
              " 0.06484948062765523,\n",
              " 58.85067718511159,\n",
              " 227.5733919158521,\n",
              " 1539.9115547143188,\n",
              " 0.010260047159437227,\n",
              " 0.010091923691560672,\n",
              " 241.23313675596424,\n",
              " 0.4877441353884417,\n",
              " 127.85348594022598,\n",
              " 111.57109044379457,\n",
              " 1.5639456840960522,\n",
              " 152.11584981629463,\n",
              " 0.5579955910250692,\n",
              " 0.10765369291414513,\n",
              " 1801.6751854851952,\n",
              " 0.948391560750484,\n",
              " 0.13965717804199873,\n",
              " 0.1090656968398753,\n",
              " 5.294307091842822,\n",
              " 0.11739730614730214,\n",
              " 5.270744229001987,\n",
              " 2.123634874836288,\n",
              " 154.8177108598633,\n",
              " 8.1944326897622,\n",
              " 550.0500484865858,\n",
              " 243.56553341171707,\n",
              " 0.41842954101769597,\n",
              " 0.06618380774709415,\n",
              " 6.1596152329973695,\n",
              " 31.97013095275897,\n",
              " 26.590855211800548,\n",
              " 2.7886829279100493,\n",
              " 0.2654669161856216,\n",
              " 0.5048263996027288,\n",
              " 323.4482272624099,\n",
              " 8.309475539970354,\n",
              " 914.6187348249197,\n",
              " 0.09263663532889566,\n",
              " 292.69483612646394,\n",
              " 435.5347864869612,\n",
              " 228.59628211444686,\n",
              " 7.049040499822279,\n",
              " 7.971832167950269,\n",
              " 723.7651780872674,\n",
              " 3.965707919125032,\n",
              " 22.764296615557992,\n",
              " 7.576072872996671,\n",
              " 0.7814217853070604,\n",
              " 0.012218523241305757,\n",
              " 0.011398297390131599,\n",
              " 1965.6142673154177,\n",
              " 7.376557176931353,\n",
              " 0.5884155775162598,\n",
              " 561.1403919691511,\n",
              " 0.07959530725547115,\n",
              " 105.75289315014597,\n",
              " 1.546874203016738,\n",
              " 0.016469253289487205,\n",
              " 190.89636951423842,\n",
              " 2.5075135806648428,\n",
              " 8.866347856846401,\n",
              " 606.2793412952615,\n",
              " 19.09458040209093,\n",
              " 0.23872935110419435,\n",
              " 0.05091615974812398,\n",
              " 1.3951302511128847,\n",
              " 9.754932560679629,\n",
              " 5.20464348030614,\n",
              " 8.056935048858772,\n",
              " 21.278840005154414,\n",
              " 0.06516529494971765,\n",
              " 5.032631622627976,\n",
              " 0.02347423961273909,\n",
              " 0.4280397265447895,\n",
              " 0.3027991203344316,\n",
              " 4.728628948187557,\n",
              " 0.162203722831216,\n",
              " 1.0888031285980695,\n",
              " 0.06571733111759166,\n",
              " 337.2902649632931,\n",
              " 0.015450472205417532,\n",
              " 3.56666858784464,\n",
              " 29.513458505243012,\n",
              " 0.016783315025983802,\n",
              " 0.3817868249522243,\n",
              " 0.8927407211594056,\n",
              " 23.36194608846593,\n",
              " 0.019907711230060958,\n",
              " 0.0763566108972523,\n",
              " 6.573686349694347,\n",
              " 24.621019736288137,\n",
              " 0.6723138797283221,\n",
              " 8.557601582115359,\n",
              " 262.1669630741991,\n",
              " 40.30737356150345,\n",
              " 940.4751643889747,\n",
              " 825.3147645867873,\n",
              " 1.2834748104719067,\n",
              " 0.11821153827161192,\n",
              " 721.5353479144549,\n",
              " 327.1107028076013,\n",
              " 7.866159509744476,\n",
              " 1.220528340760699,\n",
              " 45.384539590829746,\n",
              " 0.11565404926232122,\n",
              " 1.839101931268188,\n",
              " 73.5868908268971,\n",
              " 22.60546514622992,\n",
              " 0.11763991067151805,\n",
              " 1082.0038695920111,\n",
              " 727.3721084274382,\n",
              " 0.015537594590930497,\n",
              " 8.15747701650322,\n",
              " 7.621960211410192,\n",
              " 0.059243710102488766,\n",
              " 8.56188100634737,\n",
              " 285.7426749848891,\n",
              " 0.11610326415086723,\n",
              " 2.6359580726058445,\n",
              " 0.7106100072219301,\n",
              " 1117.0231665067067,\n",
              " 187.73960996191286,\n",
              " 2.5773756770791847,\n",
              " 180.57282372515448,\n",
              " 632.2495212080635,\n",
              " 1503.552030167205,\n",
              " 1.676863303260757,\n",
              " 1317.446554492751,\n",
              " 1371.547239067538,\n",
              " 342.27506354127786,\n",
              " 320.7267751960224,\n",
              " 192.83140322293733,\n",
              " 5.4583457606932715,\n",
              " 0.5275072857760003,\n",
              " 0.2798385736804266,\n",
              " 0.011426218877438473,\n",
              " 0.08124992010814204,\n",
              " 0.48374534010431436,\n",
              " 0.7814185973724133,\n",
              " 5.109591199795967,\n",
              " 19.075556587247018,\n",
              " 7.971793393310033,\n",
              " 0.038930337449824534,\n",
              " 0.016680109751231402,\n",
              " 22.40619282439537,\n",
              " 0.02030476623094955,\n",
              " 0.616334179817606,\n",
              " 247.50172456930358,\n",
              " 1.2946025648819879,\n",
              " 0.16453034964684457,\n",
              " 10.238701905200157,\n",
              " 1097.227737022873,\n",
              " 83.39237395727596,\n",
              " 333.9234744460885,\n",
              " 62.59786383851084,\n",
              " 7.6525704863264865,\n",
              " 157.42569056471532,\n",
              " 26.678768242628042,\n",
              " 411.7573515948227,\n",
              " 377.3621188751696,\n",
              " 0.12580852740586443,\n",
              " 242.81775276718625,\n",
              " 73.8483715069939,\n",
              " 3.3437183713284786,\n",
              " 0.7677954301083583,\n",
              " 0.04710557188978723,\n",
              " 146.99476142466995,\n",
              " 0.12606028351983578,\n",
              " 120.71974374398114,\n",
              " 0.4718250225286583,\n",
              " 75.44558304651697,\n",
              " 0.017216681643310035,\n",
              " 0.6213960022765564,\n",
              " 1.4401826866460776,\n",
              " 236.58680902369872,\n",
              " 0.0163963627145352,\n",
              " 5.094364265165467,\n",
              " 23.95782774396299,\n",
              " 37.231352725162026,\n",
              " 0.027344222626304853,\n",
              " 197.2008801373433,\n",
              " 0.9098479151191199,\n",
              " 0.2420297095234816,\n",
              " 227.57687406055697,\n",
              " 12.98054806893728,\n",
              " 1382.1586189951115,\n",
              " 3.8409769710034904,\n",
              " 0.8084749860818472,\n",
              " 0.17195628494225107,\n",
              " 5.164440750114022,\n",
              " 0.15937467854708023,\n",
              " 0.15517795838267187,\n",
              " 0.2741878769216107,\n",
              " 3.709333767699694,\n",
              " 18.16362211162015,\n",
              " 0.35369325697374615,\n",
              " 28.351763411290825,\n",
              " 3.058527084190943,\n",
              " 252.08778096029988,\n",
              " 1932.281910680473,\n",
              " 33.34018232919399,\n",
              " 30.737511133441036,\n",
              " 69.92077485239794,\n",
              " 1360.5291546729015,\n",
              " 127.93660264228313,\n",
              " 379.80547996052445,\n",
              " 0.019124753946582324,\n",
              " 9.246382815116357,\n",
              " 0.020925813911688754,\n",
              " 41.00251211512467,\n",
              " 0.0107796745814036,\n",
              " 49.33524596034344,\n",
              " 0.018991356448966417,\n",
              " 2.775654062752275,\n",
              " 378.82125974964913,\n",
              " 0.0466202903665483,\n",
              " 583.6656113870858,\n",
              " 276.03260465552023,\n",
              " 43.58932357904641,\n",
              " 457.20962713673515,\n",
              " 76.45000786351814,\n",
              " 0.02778576942796506,\n",
              " 4.649618825473513,\n",
              " 13.250084194787243,\n",
              " 0.18970511649964633,\n",
              " 3.165523984353779,\n",
              " 12.786328372744405,\n",
              " 0.14458373624280313,\n",
              " 65.89614087648629,\n",
              " 2.0889243851115675,\n",
              " 933.6089473226714,\n",
              " 0.052943641007864785,\n",
              " 34.219921806509035,\n",
              " 20.647617254080206,\n",
              " 0.11478894467741704,\n",
              " 0.494659737629817,\n",
              " 0.6440732414047894,\n",
              " 203.45653024899246,\n",
              " 1913.7763458758593,\n",
              " 24.99048880580201,\n",
              " 1654.7596375675885,\n",
              " 0.04084336647989037,\n",
              " 0.012685395502100103,\n",
              " 17.557479678891816,\n",
              " 0.11150561535562808,\n",
              " 198.18892764920827,\n",
              " 2.4076461181680595,\n",
              " 2.1192647418897894,\n",
              " 105.90282250444987,\n",
              " 160.4803888157773,\n",
              " 51.53569877949635,\n",
              " 409.61267649642787,\n",
              " 1.281986442967902,\n",
              " 2.1596723472556105,\n",
              " 270.5809465657439,\n",
              " 1463.1534805067408,\n",
              " 2.570631540401979,\n",
              " 196.17188847991704,\n",
              " 17.19105372610391,\n",
              " 118.01982192518585,\n",
              " 997.0630576982363,\n",
              " 2.5521700320982657,\n",
              " 0.684112947465228,\n",
              " 932.399556621828,\n",
              " 9.967810878448866,\n",
              " 55.665318047589636,\n",
              " 0.1863726774014714,\n",
              " 70.78598959691908,\n",
              " 8.783722591818231,\n",
              " 0.7785588504464339,\n",
              " 0.5892861663197653,\n",
              " 0.011102977284797654,\n",
              " 0.08185904806529164,\n",
              " 0.45759686895193324,\n",
              " 0.03803206354808836,\n",
              " 0.3855895962849527,\n",
              " 60.35763299409073,\n",
              " 0.24064782823650377,\n",
              " 30.022821759194688,\n",
              " 6.880205201298065,\n",
              " 0.011304518305812986,\n",
              " 1134.0458267412378,\n",
              " 0.038794397484207134,\n",
              " 449.3791512445464,\n",
              " 0.01378485176999469,\n",
              " 306.815705389092,\n",
              " 1124.6675531157066,\n",
              " 7.742209390631344,\n",
              " 31.84933097539092,\n",
              " 0.019055024593443347,\n",
              " 1785.7481281614635,\n",
              " 0.023573708475387187,\n",
              " 84.83396693466133,\n",
              " 600.7124428657958,\n",
              " 0.9114000244189756,\n",
              " 673.7897562200816,\n",
              " 0.010710761539015621,\n",
              " 0.8554885831664958,\n",
              " 31.82864416544045,\n",
              " 0.012708128638175064,\n",
              " 2.1314155259032135,\n",
              " 0.12734901088687525,\n",
              " 261.988319059042,\n",
              " 0.03079502685631495,\n",
              " 1462.922631050153,\n",
              " 0.11283385757142982,\n",
              " 170.62585052700027,\n",
              " 705.4634560161396,\n",
              " 18.639174311163103,\n",
              " 0.2219168622988201,\n",
              " 2.8870360007615017,\n",
              " 120.89311424222562,\n",
              " 885.7327588493489,\n",
              " 0.1617601217820233,\n",
              " 274.5873264672062,\n",
              " 35.914627094173504,\n",
              " 0.011190466226976387,\n",
              " 73.87328194132928,\n",
              " 1185.2036557756492,\n",
              " 740.9221301291658,\n",
              " 0.010724140229579408,\n",
              " 0.16290989804572462,\n",
              " 1.4347195785253501,\n",
              " 3.100096239470933,\n",
              " 1035.0759696763207,\n",
              " 127.97867397916792,\n",
              " 0.16030721912089113,\n",
              " 7.314800666040294,\n",
              " 0.010601492312328304,\n",
              " 13.31623569837152,\n",
              " 441.9245473230162,\n",
              " 0.02867642096925421,\n",
              " 155.0741268625891,\n",
              " 0.04576234204711387,\n",
              " 48.15966416229933,\n",
              " 7.13130457718047,\n",
              " 1.077854951281312,\n",
              " 2.174076397748309,\n",
              " 1438.1818167077274,\n",
              " 80.41378618614104,\n",
              " 1.4135661309028724,\n",
              " 1.3776928710535585,\n",
              " 312.9749423069731,\n",
              " 0.0263647176917863,\n",
              " 0.024734204502845726,\n",
              " 1139.3392384447834,\n",
              " 75.74422687561658,\n",
              " 0.03008819526737677,\n",
              " 2.007546186566253,\n",
              " 0.017712643602966933,\n",
              " 1.8244895483581474,\n",
              " 0.2407282493557939,\n",
              " 196.26024927503076,\n",
              " 126.00389072738052,\n",
              " 0.017403476313376035,\n",
              " 845.2414123277748,\n",
              " 1854.6727954866728,\n",
              " 1752.090490559518,\n",
              " 564.4405519164444,\n",
              " 2.2716152665396097,\n",
              " 61.127865537143926,\n",
              " 1132.0228325608002,\n",
              " 0.010057909996942987,\n",
              " 20.14358313305356,\n",
              " 2.2655495836181276,\n",
              " 0.05416005104611975,\n",
              " 0.056739316411861945,\n",
              " 12.5886067145858,\n",
              " 29.0251619257883,\n",
              " 1599.0505776635985,\n",
              " 0.6047106229909717,\n",
              " 0.30177151970146726,\n",
              " 649.5596110358543,\n",
              " 13.398345967779457,\n",
              " 665.6522250699451,\n",
              " 90.17128317389204,\n",
              " 94.01527351135489,\n",
              " 1.7803307168860114,\n",
              " 9.120495037096317,\n",
              " 0.07392797201206458,\n",
              " 131.26472088377116,\n",
              " 0.27143107421750096,\n",
              " 0.03418458552906759,\n",
              " 17.747521136287475,\n",
              " 195.0210032780305,\n",
              " 89.04814228767347,\n",
              " 0.012145535255878335,\n",
              " 0.4496911259902639,\n",
              " 1.5717823977255359,\n",
              " 1.019674857777316,\n",
              " 261.5146795454243,\n",
              " 0.25979730485375113,\n",
              " 13.68345219167635,\n",
              " 235.31079682554974,\n",
              " 181.1299440639807,\n",
              " 4.513330637266603,\n",
              " 8.030106174340467,\n",
              " 0.23306966020798447,\n",
              " 55.232563608299294,\n",
              " 0.22565847225893393,\n",
              " 81.40320907689511,\n",
              " 74.60794869309733,\n",
              " 36.02529781142513,\n",
              " 0.0568506682288348,\n",
              " 0.14015314375683716,\n",
              " 380.4391875085725,\n",
              " 414.30347623230006,\n",
              " 1292.4517554472352,\n",
              " 40.55520725146838,\n",
              " 0.13451634848080044,\n",
              " 69.79527488292483,\n",
              " 4.062534884960196,\n",
              " 0.8296522796141401,\n",
              " 0.015361303929722537,\n",
              " 8.048590252250676,\n",
              " 104.48355100833213,\n",
              " 49.31386190594036,\n",
              " 0.10279227087333992,\n",
              " 87.09617054322578,\n",
              " 0.07051061011036085,\n",
              " 88.12389250700606,\n",
              " 0.05160956994000702,\n",
              " 7.923414735727726,\n",
              " 0.01646809328614709,\n",
              " 0.2544066750354291,\n",
              " 0.028561760981863478,\n",
              " 0.023110900983205628,\n",
              " 42.52884571052475,\n",
              " 0.023143929873256107,\n",
              " 0.346668230349662,\n",
              " 232.13565727757722,\n",
              " 13.132842473436833,\n",
              " 0.47202524788779393,\n",
              " 0.5249096939182988,\n",
              " 16.87841076019248,\n",
              " 1.624224702262438,\n",
              " 0.08160543873306324,\n",
              " 0.04238167027628078,\n",
              " 1354.1574385870422,\n",
              " 0.07274993153039068,\n",
              " 1194.840877922836,\n",
              " 896.0606648321517,\n",
              " 203.11683565730095,\n",
              " 23.339929562590278,\n",
              " 6.653905131633404,\n",
              " 1.4707289212228518,\n",
              " 0.13237060626465735,\n",
              " 380.9193790062877,\n",
              " 311.93872561589507,\n",
              " 173.18373578516142,\n",
              " 0.2287020090859441,\n",
              " 1341.8205350932913,\n",
              " 138.9898052539181,\n",
              " 9.757726182566989,\n",
              " 0.019104567602712567,\n",
              " 12.807211465365187,\n",
              " 0.12188350097742905,\n",
              " 113.4668926717161,\n",
              " 0.458065285499156,\n",
              " 0.046525512875406745,\n",
              " 0.17075553949444472,\n",
              " 89.5513087369921,\n",
              " 0.9730896823534068,\n",
              " 0.37296883944757175,\n",
              " 0.015561286272705132,\n",
              " 0.07410114037240344,\n",
              " 0.26019596048316584,\n",
              " 3.533717237394925,\n",
              " 1922.4596772087236,\n",
              " 187.15832559664312,\n",
              " 634.2236581476794,\n",
              " 86.19877652542614,\n",
              " 0.15184748344274407,\n",
              " 9.047168773043886,\n",
              " 3.1204392869737263,\n",
              " 0.01792538584172338,\n",
              " 50.052550086182826,\n",
              " 9.141531812319252,\n",
              " 612.9539693082937,\n",
              " 0.09298128869784376,\n",
              " 155.02674230367677,\n",
              " 0.9702926363425552,\n",
              " 1.5803551842874566,\n",
              " 80.36394569037604,\n",
              " 161.61759489896403,\n",
              " 1095.1634023552756,\n",
              " 0.017700694252475797,\n",
              " 0.013741362018215885,\n",
              " 8.390151899342017,\n",
              " 4.4261309270690905,\n",
              " 11.666436050125485,\n",
              " 2.6508504216937414,\n",
              " 0.4786734590502547,\n",
              " 520.3015548026891,\n",
              " 375.14373579671167,\n",
              " 455.79438913877266,\n",
              " 0.018432038719341647,\n",
              " 268.39963289821725,\n",
              " 3.2990899141162604,\n",
              " 3.5337817304809294,\n",
              " 0.2085608307594461,\n",
              " 157.66465140355456,\n",
              " 663.7800088578044,\n",
              " 0.04048921255049415,\n",
              " 1444.2552262846991,\n",
              " 1658.277728330603,\n",
              " 29.83406233924727,\n",
              " 0.05080569647452957,\n",
              " 204.45347446286652,\n",
              " 924.3776197848656,\n",
              " 0.01322615076442041,\n",
              " 4.968892955496302,\n",
              " 65.39520572065476,\n",
              " 1.0901045512668748,\n",
              " 0.20951354571622427,\n",
              " 4.974767145256333,\n",
              " 0.31998478329699365,\n",
              " 221.72573666902585,\n",
              " 1.0049540368277623,\n",
              " 0.48101538411593703,\n",
              " 1047.4156266241791,\n",
              " 92.21947432953091,\n",
              " 2.4887143403455725,\n",
              " 461.5459433048676,\n",
              " 1626.2918642893874,\n",
              " 1061.6676241694358,\n",
              " 1659.7674514770274,\n",
              " 6.808302027035634,\n",
              " 10.13486211823122,\n",
              " 1302.1015002119768,\n",
              " 2.049000556577228,\n",
              " 12.084211007800612,\n",
              " 2.491542992518872,\n",
              " 0.1222487420283868,\n",
              " 0.10179036077335647,\n",
              " 0.015531503561841046,\n",
              " 0.7605638442295599,\n",
              " 187.80736323177774,\n",
              " 2.1925890202424143,\n",
              " 0.4048297601174868,\n",
              " 0.8159583789160121,\n",
              " 53.48193653234271,\n",
              " 0.7492589867989391,\n",
              " 75.57421706337996,\n",
              " 0.06654293137252508,\n",
              " 134.6991381351407,\n",
              " 163.63139885030273,\n",
              " 0.013389256621710244,\n",
              " 0.4744697160456224,\n",
              " 0.3736040463601384,\n",
              " 0.025558687951958287,\n",
              " 182.01962451284734,\n",
              " 7.660004842958029,\n",
              " 35.69677098912922,\n",
              " 0.8010103890693324,\n",
              " 21.31575545962719,\n",
              " 1.025039079202836,\n",
              " 174.22814647648326,\n",
              " 0.056275144702283925,\n",
              " 107.53482645010793,\n",
              " 3.182194166253013,\n",
              " 0.041064700890620386,\n",
              " 0.016555391491344582,\n",
              " 0.0874811832862754,\n",
              " 0.08091687079243855,\n",
              " 4.0729730083417905,\n",
              " 18.545068603188597,\n",
              " 0.1317522437509746,\n",
              " 21.70245123883857,\n",
              " 0.018882958012343118,\n",
              " 0.05876314328136099,\n",
              " 179.2782085069872,\n",
              " 0.10939107922363565,\n",
              " 387.50187396245826,\n",
              " 0.013312388685040713,\n",
              " 63.91807833502754,\n",
              " 0.10597655376655306,\n",
              " 8.640483189926615,\n",
              " 0.5358002826421372,\n",
              " 49.50181186237253,\n",
              " 0.18232882941497808,\n",
              " 0.03256283748478672,\n",
              " 2.2881930224667397,\n",
              " 251.2800393131243,\n",
              " 1095.3759525876587,\n",
              " 5.300749574209141,\n",
              " 0.7489061987316059,\n",
              " 1.5419538968203974,\n",
              " 88.50245360981508,\n",
              " 4.764340538104342,\n",
              " 1.7993928232023522,\n",
              " 579.2779754418757,\n",
              " 1.5541834517849056,\n",
              " 1.0104777621086527,\n",
              " 2.3290550600992206,\n",
              " 191.75078228551112,\n",
              " 0.10397194082666321,\n",
              " 0.10684222632661312,\n",
              " 5.460056519631253,\n",
              " 0.01016996314323769,\n",
              " 0.021406544122025677,\n",
              " 1.1866218572865441,\n",
              " 0.18420684123077558,\n",
              " 0.6260690484598247,\n",
              " 0.01319276767061755,\n",
              " 160.52954708027409,\n",
              " 0.34829770237086244,\n",
              " 23.47846885161155,\n",
              " 933.41691266059,\n",
              " 0.07976502590526865,\n",
              " 0.9245494097107557,\n",
              " 8.531013970320618,\n",
              " 1963.5778246577802,\n",
              " 0.8113312386766134,\n",
              " 0.03409380434672402,\n",
              " 58.34675966553555,\n",
              " 23.110586046531825,\n",
              " 0.020802383351078136,\n",
              " 0.08235174617297036,\n",
              " 0.21038867449891727,\n",
              " 16.646998077139934,\n",
              " 0.5173923479514878,\n",
              " 5.530013503049576,\n",
              " 363.21725286742355,\n",
              " 3.6814612806504763,\n",
              " 0.24339664364252028,\n",
              " 2.466143933729336,\n",
              " 0.8825187662838823,\n",
              " 87.5178978151748,\n",
              " 0.6091920193446438,\n",
              " 0.04941894551074,\n",
              " 10.610987818178051,\n",
              " 463.9797152482773,\n",
              " 253.41916534902717,\n",
              " 380.1023790144294,\n",
              " 1.5662719546129618,\n",
              " 2.040247667682447,\n",
              " 1.7996045799316893,\n",
              " 105.70283390137119,\n",
              " 9.119819679359846,\n",
              " 1.2762961100735688,\n",
              " 0.011295478851012916,\n",
              " 0.032691627108538894,\n",
              " 2.8055007826234117,\n",
              " 15.08863985161836,\n",
              " 27.41218430275898,\n",
              " 0.3044237451766089,\n",
              " 0.330496003880597,\n",
              " 2.296939109196954,\n",
              " 325.9455768127366,\n",
              " 25.59970207597704,\n",
              " 1.7909289613112007,\n",
              " 7.5549306228200335,\n",
              " 0.01047561774643423,\n",
              " 301.664907153017,\n",
              " 6.336289502529937,\n",
              " 0.029414476358870754,\n",
              " 0.14748010889719254,\n",
              " 61.2909871578343,\n",
              " 786.2575378256078,\n",
              " 0.4545494999674223,\n",
              " 0.01241072025068743,\n",
              " 436.63725577784345,\n",
              " 70.80254270057277,\n",
              " 17.491869811448936,\n",
              " 26.817811935965217,\n",
              " 26.397532944477543,\n",
              " 0.09783176294884155,\n",
              " 0.01088255893538527,\n",
              " 883.7584317064683,\n",
              " 5.378254300962002,\n",
              " 0.6478193655515898,\n",
              " 2.8302420913424107,\n",
              " 0.013460298173095861,\n",
              " 0.022498647890206048,\n",
              " 4.832167144047659,\n",
              " 0.2669371503200881,\n",
              " 0.08445443907443369,\n",
              " 1950.6431882000788,\n",
              " 0.03088328971877155,\n",
              " 129.3581820887444,\n",
              " 0.016828337559766694,\n",
              " 0.09889493704201995,\n",
              " 3.1355527341520806,\n",
              " 42.39544701250094,\n",
              " 5.131399606509185,\n",
              " 0.9199994497877387,\n",
              " 60.340513152296225,\n",
              " 1.9111594392506122,\n",
              " 11.848551751482665,\n",
              " 0.311223979998378,\n",
              " 0.8616322809782059,\n",
              " 53.45104763763948,\n",
              " 0.30553463786115526,\n",
              " 25.483871069894125,\n",
              " 11.475944197474506,\n",
              " 16.908239446993807,\n",
              " 966.8827521689757,\n",
              " 1.2399504442365985,\n",
              " 5.103019687740117,\n",
              " 33.552325039807116,\n",
              " 69.56582281709888,\n",
              " 1604.4100171990438,\n",
              " 85.36645971239912,\n",
              " 0.05564535718546884,\n",
              " 0.856673078109915,\n",
              " 1793.440955383051,\n",
              " 5.030533091842016,\n",
              " 0.05662493065069319,\n",
              " 69.27614546841069,\n",
              " 124.89892651799414,\n",
              " 518.6928967608301,\n",
              " 0.052981976459617705,\n",
              " 305.84810302650976,\n",
              " 1.0265380211734672,\n",
              " 0.011556737205202342,\n",
              " 23.79784122753491,\n",
              " 2.4207300769893685,\n",
              " 738.5181783761044,\n",
              " 29.62291369614334,\n",
              " 45.386365425091704,\n",
              " 1397.8124908490356,\n",
              " 0.02688186143949623,\n",
              " 19.84411295221693,\n",
              " 0.8358056593183191,\n",
              " 27.888355483810145,\n",
              " 0.12486618477788902,\n",
              " 178.59291843496862,\n",
              " 189.80343373450205,\n",
              " 0.019796311952473337,\n",
              " 0.06687153943112328,\n",
              " 100.23457007035422,\n",
              " 1.1046509522887415,\n",
              " 0.3285889559182207,\n",
              " 0.02483507978982961,\n",
              " 1087.754092786663,\n",
              " 4.546541967294188,\n",
              " 0.03610538412516517,\n",
              " 0.03657274595570355,\n",
              " 20.945470248247386,\n",
              " 1.6797715856318183,\n",
              " 0.013843625581189784,\n",
              " 409.3699619719591,\n",
              " 6.046487394112215,\n",
              " 0.09079370621997382,\n",
              " 0.0793751410817682,\n",
              " 0.02027160788491033,\n",
              " 0.027741576430428613,\n",
              " 0.21278526838561343,\n",
              " 10.076819371790354,\n",
              " 0.3612366093663181,\n",
              " 1749.5038820165958,\n",
              " 0.05719282952459763,\n",
              " 0.01898821704696976,\n",
              " 512.1443413901371,\n",
              " 0.048788989111999095,\n",
              " 8.306525160356122,\n",
              " 38.230681287174,\n",
              " 143.3497610655668,\n",
              " 20.055839295040208,\n",
              " 1656.1735538969579,\n",
              " 1.8468098827489172,\n",
              " 1.1862321222554435,\n",
              " 0.8247671386034756,\n",
              " 355.9945471844649,\n",
              " 20.973763798657004,\n",
              " 1.1534554040315268,\n",
              " 0.11423400537370877,\n",
              " 0.6746159270663822,\n",
              " 0.12801407904816148,\n",
              " 0.017154898124613703,\n",
              " 0.2810595378390285,\n",
              " 1247.5099330199012,\n",
              " 0.014187366951373294,\n",
              " 0.48852565072981924,\n",
              " 9.56231677578559,\n",
              " 17.499577722964382,\n",
              " 485.1634945970568,\n",
              " 397.9635160770796,\n",
              " 0.06731758641518497,\n",
              " 69.41398446613417,\n",
              " 57.81600930815258,\n",
              " 0.34119696727989896,\n",
              " 2.8029441086718085,\n",
              " 29.118534530019847,\n",
              " 0.15076430796391932,\n",
              " 0.04889554044235151,\n",
              " 0.8751100389406729,\n",
              " 3.7352479597390436,\n",
              " 0.010984932047000583,\n",
              " 1.3815508010826782,\n",
              " 0.030646577178439743,\n",
              " 0.01697938688847386,\n",
              " 0.07505663504224552,\n",
              " 4.2506153321666735,\n",
              " 551.6979074457275,\n",
              " 0.9886272652943754,\n",
              " 13.464446260581397,\n",
              " 750.7442764663366,\n",
              " 1.3065968183705159,\n",
              " 864.2177142166574,\n",
              " 0.012848886203761295,\n",
              " 1544.6458036895583,\n",
              " 18.498017993502277,\n",
              " 150.67388764138656,\n",
              " 0.35982644813535963,\n",
              " 0.02172066552613173,\n",
              " 2.363234781091818,\n",
              " 230.41594216807175,\n",
              " 16.60124514959885,\n",
              " 0.06904317603519668,\n",
              " 0.3478275253260715,\n",
              " 0.05093240785574565,\n",
              " 18.242548633940753,\n",
              " 0.5212240422439702,\n",
              " 59.91036895972114,\n",
              " 194.56575526112536,\n",
              " 147.38840119916685,\n",
              " 0.16251130994989726,\n",
              " 0.11194845281178845,\n",
              " 0.0806581336661102,\n",
              " 0.4641511296053277,\n",
              " 35.07509038785971,\n",
              " 686.7794821404398,\n",
              " 5.895354683284796,\n",
              " 1166.1536315976687,\n",
              " 61.02506790379017,\n",
              " 0.025252064647041345,\n",
              " 281.5699206647026,\n",
              " 214.55491182585854,\n",
              " 5.813951025351479,\n",
              " 299.805717866333,\n",
              " 0.11010553745665139,\n",
              " 0.6364513955499116,\n",
              " 284.0690643584586,\n",
              " 4.122018120409142,\n",
              " 1575.3171821552578,\n",
              " 219.06143246363777,\n",
              " 0.03073680319437584,\n",
              " 85.67731223303359,\n",
              " 0.02060649128390657,\n",
              " 0.32729326012597904,\n",
              " 582.160477004687,\n",
              " 11.565422066354937,\n",
              " 2.863302092095568,\n",
              " 0.31482434139948634,\n",
              " 0.021020498185470936,\n",
              " 0.36617668270241255,\n",
              " 30.79629656779338,\n",
              " 3.8008324386792895,\n",
              " 396.7411937566386,\n",
              " 273.42807092891957,\n",
              " 116.29021384014385,\n",
              " 1494.6105353234911,\n",
              " 0.02448363864725936,\n",
              " 12.805135033063916,\n",
              " 743.1506017920059,\n",
              " 0.962609179506377,\n",
              " 1127.6959537372156,\n",
              " 1112.0552572110837,\n",
              " 0.11672776292433115,\n",
              " 0.7156846630788611,\n",
              " 0.7007296388357356,\n",
              " 0.02711867284226169,\n",
              " 0.012244543693525033,\n",
              " 0.029035908459040527,\n",
              " 0.03319012899040498,\n",
              " 0.2773840537195566,\n",
              " 5.719342010264892,\n",
              " 3.5457057323262595,\n",
              " 64.49827727893383,\n",
              " 98.85847233070305,\n",
              " 0.8082148518268185,\n",
              " 0.22153570303992973,\n",
              " 20.864340056126554,\n",
              " 1.4558970366487243,\n",
              " 0.03341739205271317,\n",
              " 0.011331451633174614,\n",
              " 0.039240904892659814,\n",
              " 23.086886890170952,\n",
              " 492.6597665686954,\n",
              " 0.04348519138730939,\n",
              " 1.424179329916261,\n",
              " 0.7305201548877683,\n",
              " 0.0480739205134068,\n",
              " 7.093967807827711,\n",
              " 0.6368040136174309,\n",
              " 0.08570175783605724,\n",
              " 0.072739162156334,\n",
              " 381.827765754197,\n",
              " 43.69317576155643,\n",
              " 0.1688556068440016,\n",
              " 0.6341526140691703,\n",
              " 50.752652041819374,\n",
              " 0.04107625298510282,\n",
              " 0.020745824221883858,\n",
              " 1.1739961280789528,\n",
              " 0.8065441906711385,\n",
              " 0.0533217826157042,\n",
              " 620.3749660936724,\n",
              " 9.47332486851793,\n",
              " 108.3687136361526,\n",
              " 3.284477283684162,\n",
              " 8.675945156475754,\n",
              " 0.01261931324413153,\n",
              " 310.86969690112784,\n",
              " 389.3665628350629,\n",
              " 0.07410544017000374,\n",
              " 0.30919270329394066,\n",
              " 2.2404978581299657,\n",
              " 370.3658072496198,\n",
              " 24.106013319070932,\n",
              " 0.10821584482217508,\n",
              " 0.37775469352906094,\n",
              " 10.548973373345348,\n",
              " 57.39461878507028,\n",
              " 137.90734774605585,\n",
              " 6.0521123859257795,\n",
              " 10.270121377374215,\n",
              " 4.927439441549806,\n",
              " 0.016627184528286494,\n",
              " 176.6499093864999,\n",
              " 0.10298400616588513,\n",
              " 0.24172001789896413,\n",
              " 0.9807159587737961,\n",
              " 27.086792853013584,\n",
              " 10.852237692417392,\n",
              " 8.558877962585017,\n",
              " 0.05485469032129896,\n",
              " 0.012236368794283919,\n",
              " 0.20534756064722945,\n",
              " 80.61270398727731,\n",
              " 1266.8157329323142,\n",
              " 0.31912670034756385,\n",
              " 0.037645280536447306,\n",
              " 8.513403376055269,\n",
              " 0.6366261316789285,\n",
              " 0.36841495320548184,\n",
              " 7.949734467308756,\n",
              " 0.13204074664290277,\n",
              " 0.560835631292605,\n",
              " 3.576205367685139,\n",
              " 19.659303332754547,\n",
              " 1.021794291384632,\n",
              " 0.1045440195180948,\n",
              " 8.292265740831704,\n",
              " 397.746403132005,\n",
              " 1.1127450591486654,\n",
              " 14.380426886719203,\n",
              " 27.25564500452633,\n",
              " 0.5063133793880998,\n",
              " 0.3190266868503494,\n",
              " 0.012859771965271025,\n",
              " 0.020832495795151333,\n",
              " 6.665391977850976,\n",
              " 0.31102584973439384,\n",
              " 0.10120116410521833,\n",
              " 114.4078008860709,\n",
              " 617.4494887170964,\n",
              " 0.010222352743990025,\n",
              " 415.19230618615484,\n",
              " 1281.6544629657544,\n",
              " 7.596053480373725,\n",
              " 620.3761962321389,\n",
              " 267.0914027118831,\n",
              " 0.13892550118911703,\n",
              " 54.35295625291816,\n",
              " 0.4073920577951373,\n",
              " 117.20818676697483,\n",
              " 0.018959762777153638,\n",
              " 0.022550647395029225,\n",
              " 0.026299807225873016,\n",
              " 0.23780341245615016,\n",
              " 0.26990022161070076,\n",
              " 0.27907912398153056,\n",
              " 0.14217317302162563,\n",
              " 0.024026508181051145,\n",
              " 0.5501650009763422,\n",
              " 0.9579850236832003,\n",
              " 0.1086479876174776,\n",
              " 4.106175416062315,\n",
              " 0.19362429658423613,\n",
              " 1367.9881671013752,\n",
              " 0.36945978464808976,\n",
              " 0.08068532296241264,\n",
              " 0.3084564013006889,\n",
              " 2.1984001894606893,\n",
              " 0.04418308274259409,\n",
              " 103.52324069743709,\n",
              " ...)"
            ]
          },
          "execution_count": 18,
          "metadata": {},
          "output_type": "execute_result"
        }
      ],
      "source": [
        "epsilon"
      ]
    },
    {
      "cell_type": "markdown",
      "metadata": {
        "id": "3_kvF7X3HN8Y"
      },
      "source": [
        "The reason the sampling is not uniformly distributed in the following plots is due to the resampling and the fact that we certain values of e.g. velocity are more likely to violate the speed of light constraint than others."
      ]
    },
    {
      "cell_type": "code",
      "execution_count": null,
      "metadata": {
        "colab": {
          "base_uri": "https://localhost:8080/",
          "height": 827
        },
        "id": "E5YFdqKjUZh5",
        "outputId": "0c6d8ccb-8a27-4592-ac78-a0e8580bc46c"
      },
      "outputs": [
        {
          "data": {
            "image/png": "[encoded data removed]",
            "text/plain": [
              "<Figure size 2000x1600 with 14 Axes>"
            ]
          },
          "metadata": {},
          "output_type": "display_data"
        }
      ],
      "source": [
        "if not LOAD_DATA_FROM_CSV:\n",
        "    def plot_histogram(data, xlabel, ylabel, position, bins=20, xlog_scale=False, ylog_scale=False):\n",
        "        plt.subplot(4, 5, position)\n",
        "        plt.hist(data, bins=bins)\n",
        "        plt.xlabel(xlabel)\n",
        "        plt.ylabel(ylabel)\n",
        "        if xlog_scale: # Setting does not work expected for epsilon.\n",
        "            plt.xscale(\"log\")\n",
        "        if ylog_scale: # Setting does not work expected for epsilon.\n",
        "            plt.yscale(\"log\")\n",
        "\n",
        "    # Plotting the histograms of rho, vx, epsilon, b0, b1, b2, and b3\n",
        "    bins = 20\n",
        "    plt.figure(figsize=(20, 16))\n",
        "\n",
        "    plot_histogram(rho, \"rho\", \"Frequency\", 1, bins=bins)\n",
        "    plot_histogram(epsilon, \"epsilon\", \"Frequency\", 2, bins=bins)\n",
        "    plot_histogram(vx, \"vx\", \"Frequency\", 3, bins=bins)\n",
        "    plot_histogram(vy, \"vy\", \"Frequency\", 4, bins=bins)\n",
        "    plot_histogram(vz, \"vz\", \"Frequency\", 5, bins=bins)\n",
        "    plot_histogram(Bx, \"Bx\", \"Frequency\", 6, bins=bins)\n",
        "    plot_histogram(By, \"By\", \"Frequency\", 7, bins=bins)\n",
        "    plot_histogram(Bz, \"Bz\", \"Frequency\", 8, bins=bins)\n",
        "\n",
        "    # Plot these\n",
        "    plot_histogram(gxx, \"gxx\", \"Frequency\", 9, bins=bins)\n",
        "    plot_histogram(gxy, \"gxy\", \"Frequency\", 10, bins=bins)\n",
        "    plot_histogram(gxz, \"gxz\", \"Frequency\", 11, bins=bins)\n",
        "    plot_histogram(gyy, \"gyy\", \"Frequency\", 12, bins=bins)\n",
        "    plot_histogram(gyz, \"gyz\", \"Frequency\", 13, bins=bins)\n",
        "    plot_histogram(gzz, \"gzz\", \"Frequency\", 14, bins=bins)\n",
        "\n",
        "\n",
        "    plt.suptitle(\"Primitive variables and metric\")\n",
        "    plt.tight_layout()\n",
        "    plt.show()\n"
      ]
    },
    {
      "cell_type": "code",
      "execution_count": null,
      "metadata": {
        "id": "dTcNcyMgHN8Z"
      },
      "outputs": [],
      "source": [
        "%config InteractiveShell.ast_node_interactivity = \"last_expr_or_assign\""
      ]
    },
    {
      "cell_type": "code",
      "execution_count": null,
      "metadata": {
        "colab": {
          "base_uri": "https://localhost:8080/",
          "height": 1000
        },
        "id": "4iqKHAHZHN8Z",
        "outputId": "2cd7d3fe-3085-4304-d393-5db9cd531b80"
      },
      "outputs": [
        {
          "data": {
            "image/png": "[encoded data removed]",
            "text/plain": [
              "<Figure size 1600x1600 with 14 Axes>"
            ]
          },
          "metadata": {},
          "output_type": "display_data"
        }
      ],
      "source": [
        "# Variable names\n",
        "variable_names = [\"D\", \"Sx\", \"Sy\", \"Sz\", \"tau\", \"Bconsx\", \"Bconsy\", \"Bconsz\", \"gxx\", \"gxy\", \"gxz\", \"gyy\", \"gyz\", \"gzz\"]\n",
        "\n",
        "# Plotting histograms of the input variables before z-score normalization\n",
        "plt.figure(figsize=(16, 16))\n",
        "plt.suptitle('Histograms of input variables before (or without at all) z-score normalization', y=1.03)\n",
        "\n",
        "for i in range(N_INPUTS):\n",
        "    plt.subplot(7, 2, i+1)\n",
        "    data = x_train[:, i].cpu().numpy() # Convert tensor to numpy array for percentile calculation\n",
        "    lower_bound, upper_bound = np.percentile(data, [1, 100]) # NOTE: Use this instead to visualize all the data.\n",
        "    # lower_bound, upper_bound = np.percentile(data, [1, 90]) # Calculate 1st and 99th percentile\n",
        "\n",
        "    plt.hist(data, bins=50, range=(lower_bound, upper_bound)) # Set range to the calculated percentile range\n",
        "    plt.xlabel(variable_names[i])\n",
        "    plt.xlim(lower_bound, upper_bound) # Set the x limit to match the range of the histogram\n",
        "\n",
        "plt.subplots_adjust(hspace=0.4, wspace=0.4)\n",
        "plt.show()\n",
        "\n",
        "# Same plotting but for the test data. Adjust the percentile range as needed to zoom in.\n",
        "# plt.figure(figsize=(16, 16))\n",
        "# plt.suptitle('Histograms of input variables before (or without at all) z-score normalization (test data)', y=1.03)\n",
        "\n",
        "# for i in range(14):\n",
        "#     plt.subplot(7, 2, i+1)\n",
        "#     data = x_test[:, i].cpu().numpy() # Convert tensor to numpy array for percentile calculation\n",
        "#     #lower_bound, upper_bound = np.percentile(data, [1, 100]) # NOTE: Use this instead to visualize all the data.\n",
        "#     lower_bound, upper_bound = np.percentile(data, [1, 99]) # Use this to zoom in.\n",
        "\n",
        "#     plt.hist(data, bins=50, range=(lower_bound, upper_bound)) # Set range to the calculated percentile range\n",
        "#     plt.xlabel(variable_names[i])\n",
        "#     plt.xlim(lower_bound, upper_bound) # Set the x limit to match the range of the histogram\n",
        "\n",
        "# plt.subplots_adjust(hspace=0.4, wspace=0.4)\n",
        "# plt.show()\n",
        "\n"
      ]
    },
    {
      "cell_type": "markdown",
      "metadata": {
        "id": "hP3uW6rHHN8Z"
      },
      "source": [
        "### Data normalization"
      ]
    },
    {
      "cell_type": "code",
      "execution_count": null,
      "metadata": {
        "colab": {
          "base_uri": "https://localhost:8080/"
        },
        "id": "wpnS-VjRHN8a",
        "outputId": "59a2ac16-d8a4-4bea-c13c-46b1a014f7fd"
      },
      "outputs": [
        {
          "name": "stdout",
          "output_type": "stream",
          "text": [
            "Summary statistics of input variables before z-score normalization\n",
            "tensor([[ 2.4537e-05,  2.1732e+02,  2.2565e+00,  1.6685e+00,  3.4293e+00],\n",
            "        [-9.8358e+01,  3.7428e+07,  2.0078e+03,  4.7737e+01,  1.4343e+05],\n",
            "        [-9.5032e+01,  3.2224e+07,  2.1089e+03,  4.7283e+01,  1.2587e+05],\n",
            "        [-1.5474e+02,  1.9598e+07,  1.8374e+03,  4.6971e+01,  7.9502e+04],\n",
            "        [ 5.4881e-01,  5.1651e+07,  3.7379e+03,  1.1162e+02,  2.0090e+05],\n",
            "        [-1.1279e+01,  1.1142e+01,  1.8498e-02,  4.6037e-02,  5.7354e+00],\n",
            "        [-1.1275e+01,  1.1179e+01,  9.5901e-03, -1.2960e-02,  5.7351e+00],\n",
            "        [-1.1221e+01,  1.1241e+01, -1.6503e-02, -3.4062e-02,  5.7292e+00],\n",
            "        [ 9.0001e-01,  1.1000e+00,  9.9850e-01,  9.9780e-01,  5.7786e-02],\n",
            "        [ 1.3228e-06,  1.0000e-01,  4.9714e-02,  4.9599e-02,  2.8893e-02],\n",
            "        [ 8.2247e-07,  9.9994e-02,  4.9587e-02,  4.9286e-02,  2.8837e-02],\n",
            "        [ 9.0000e-01,  1.1000e+00,  9.9873e-01,  9.9836e-01,  5.7683e-02],\n",
            "        [ 2.0861e-06,  9.9996e-02,  4.9501e-02,  4.9107e-02,  2.8802e-02],\n",
            "        [ 9.0000e-01,  1.1000e+00,  9.9873e-01,  9.9831e-01,  5.7665e-02]],\n",
            "       device='cuda:0')\n"
          ]
        }
      ],
      "source": [
        "# Computing summary statistics of the input variables before and after z-score normalization\n",
        "print('Summary statistics of input variables before z-score normalization')\n",
        "print(torch.stack([torch.min(x_train, dim=0).values, torch.max(x_train, dim=0).values, torch.nanmean(x_train, dim=0), torch.median(x_train, dim=0).values, torch.std(x_train, dim=0)], dim=1))"
      ]
    },
    {
      "cell_type": "markdown",
      "metadata": {
        "id": "xTEmkR1SUZh7"
      },
      "source": [
        "Perform z-score normalization"
      ]
    },
    {
      "cell_type": "code",
      "execution_count": null,
      "metadata": {
        "id": "ZEV1kpBBHN8a"
      },
      "outputs": [],
      "source": [
        "%config InteractiveShell.ast_node_interactivity = \"all\""
      ]
    },
    {
      "cell_type": "code",
      "execution_count": null,
      "metadata": {
        "id": "yPOv6DxhUZh7"
      },
      "outputs": [],
      "source": [
        "if ZSCORE_NORMALIZATION:\n",
        "    \n",
        "    # TODO: Add magnetic field variables to the normalization if I decide to use the old code that is commented out here.\n",
        "    # # Computing the median of each input variable from the training set using torch.nanmedian function\n",
        "    # D_median = torch.nanmedian(x_train[:, 0])\n",
        "    # Sx_median = torch.nanmedian(x_train[:, 1])\n",
        "    # Sy_median = torch.nanmedian(x_train[:, 2])\n",
        "    # Sz_median = torch.nanmedian(x_train[:, 3])\n",
        "    # tau_median = torch.nanmedian(x_train[:, 4])\n",
        "\n",
        "    # # Computing the standard deviation of each input variable from the training set using torch.std function with a boolean mask to ignore nan values\n",
        "    # D_std = torch.std(x_train[~torch.isnan(x_train[:, 0]), 0])\n",
        "    # Sx_std = torch.std(x_train[~torch.isnan(x_train[:, 1]), 1])\n",
        "    # Sy_std = torch.std(x_train[~torch.isnan(x_train[:, 2]), 2])\n",
        "    # Sz_std = torch.std(x_train[~torch.isnan(x_train[:, 3]), 3])\n",
        "    # tau_std = torch.std(x_train[~torch.isnan(x_train[:, 4]), 4])\n",
        "\n",
        "\n",
        "    # # Applying z-score normalization to both train and test sets using the statistics from the training set\n",
        "    # x_train[:, 0] = torch.sub(x_train[:, 0], D_median).div(D_std)\n",
        "    # x_train[:, 1] = torch.sub(x_train[:, 1], Sx_median).div(Sx_std)\n",
        "    # x_train[:, 2] = torch.sub(x_train[:, 2], Sy_median).div(Sy_std)\n",
        "    # x_train[:, 3] = torch.sub(x_train[:, 3], Sz_median).div(Sz_std)\n",
        "    # x_train[:, 4] = torch.sub(x_train[:, 4], tau_median).div(tau_std)\n",
        "\n",
        "    # x_test[:, 0] = torch.sub(x_test[:, 0], D_median).div(D_std)\n",
        "    # x_test[:, 1] = torch.sub(x_test[:, 1], Sx_median).div(Sx_std)\n",
        "    # x_test[:, 2] = torch.sub(x_test[:, 2], Sy_median).div(Sy_std)\n",
        "    # x_test[:, 3] = torch.sub(x_test[:, 3], Sz_median).div(Sz_std)\n",
        "    # x_test[:, 4] = torch.sub(x_test[:, 4], tau_median).div(tau_std)\n",
        "\n",
        "    # Computing the mean and standard deviation of each column\n",
        "    mean = x_train.mean(dim=0)\n",
        "    std = x_train.std(dim=0)\n",
        "\n",
        "    # Applying z-score normalization\n",
        "    x_train = (x_train - mean) / std\n",
        "    # Use the same mean and std from the training data as we don't want test data leakage.\n",
        "    x_test = (x_test - mean) / std\n",
        "\n"
      ]
    },
    {
      "cell_type": "markdown",
      "metadata": {
        "id": "IG4u2FBzHN8a"
      },
      "source": [
        "Plotting the histograms of the input data after normalization if z-score normalization was performed."
      ]
    },
    {
      "cell_type": "code",
      "execution_count": null,
      "metadata": {
        "id": "-mdz5bsWHN8b"
      },
      "outputs": [],
      "source": [
        "%config InteractiveShell.ast_node_interactivity = \"last_expr_or_assign\""
      ]
    },
    {
      "cell_type": "code",
      "execution_count": null,
      "metadata": {
        "id": "Omnvq_J5HN8b"
      },
      "outputs": [],
      "source": [
        "if not LOAD_DATA_FROM_CSV:\n",
        "    if ZSCORE_NORMALIZATION:\n",
        "        # Variable names\n",
        "        variable_names = [\"D\", \"Sx\", \"Sy\", \"Sz\", \"tau\", \"Bconsx\", \"Bconsy\", \"Bconsz\", \"gxx\", \"gxy\", \"gxz\", \"gyy\", \"gyz\", \"gzz\"]\n",
        "\n",
        "        # Plotting histograms of the input variables before z-score normalization\n",
        "        plt.figure(figsize=(16, 16))\n",
        "        plt.suptitle('Histograms of input variables before (or without at all) z-score normalization', y=1.03)\n",
        "\n",
        "        for i in range(N_INPUTS):\n",
        "            plt.subplot(7, 2, i+1)\n",
        "            data = x_train[:, i].cpu().numpy() # Convert tensor to numpy array for percentile calculation\n",
        "            lower_bound, upper_bound = np.percentile(data, [1, 100]) # NOTE: Use this instead to visualize all the data.\n",
        "            # lower_bound, upper_bound = np.percentile(data, [1, 90]) # Calculate 1st and 99th percentile\n",
        "\n",
        "            plt.hist(data, bins=50, range=(lower_bound, upper_bound)) # Set range to the calculated percentile range\n",
        "            plt.xlabel(variable_names[i])\n",
        "            plt.xlim(lower_bound, upper_bound) # Set the x limit to match the range of the histogram\n",
        "\n",
        "        plt.subplots_adjust(hspace=0.4, wspace=0.4)\n",
        "        plt.show()"
      ]
    },
    {
      "cell_type": "code",
      "execution_count": null,
      "metadata": {
        "id": "7C4eW98QHN8c"
      },
      "outputs": [],
      "source": [
        "if ZSCORE_NORMALIZATION:\n",
        "    # Computing summary statistics of the input variables after z-score normalization\n",
        "    print('Summary statistics of input variables after z-score normalization')\n",
        "    print(torch.stack([torch.min(x_train, dim=0).values, torch.max(x_train, dim=0).values, torch.mean(x_train, dim=0), torch.median(x_train, dim=0).values, torch.std(x_train, dim=0)], dim=1))\n"
      ]
    },
    {
      "cell_type": "markdown",
      "metadata": {
        "id": "EMCLRA9bHN8c"
      },
      "source": [
        "### Visualizing input data and labels"
      ]
    },
    {
      "cell_type": "code",
      "execution_count": null,
      "metadata": {
        "colab": {
          "base_uri": "https://localhost:8080/"
        },
        "id": "SYHYz9NNHN8c",
        "outputId": "f8fb6372-3380-441b-89bb-40b8b3b6f541"
      },
      "outputs": [
        {
          "data": {
            "text/plain": [
              "tensor([1.0729e+01, 1.4852e+03, 5.6100e+01,  ..., 1.1048e+00, 2.6302e+00,\n",
              "        7.7592e+00], device='cuda:0')"
            ]
          },
          "execution_count": 28,
          "metadata": {},
          "output_type": "execute_result"
        }
      ],
      "source": [
        "x_train\n",
        "y_train\n",
        "x_val\n",
        "y_val\n",
        "x_test\n",
        "y_test"
      ]
    },
    {
      "cell_type": "markdown",
      "metadata": {
        "id": "E96p_MsOUZh9",
        "outputId": "4b95bad0-8f3a-4364-eed1-008e0ce2a5e3"
      },
      "source": [
        "Checking if our output is always positive ~~by plotting a histogram of y_train and y_test tensors~~"
      ]
    },
    {
      "cell_type": "code",
      "execution_count": null,
      "metadata": {
        "colab": {
          "base_uri": "https://localhost:8080/"
        },
        "id": "-6XbKoDGHN8c",
        "outputId": "1962dc6e-a333-48c2-e4ec-075ea2d6c3a4"
      },
      "outputs": [
        {
          "name": "stdout",
          "output_type": "stream",
          "text": [
            "tensor(True)\n"
          ]
        }
      ],
      "source": [
        "import torch\n",
        "\n",
        "# Create a sample tensor\n",
        "tensor = torch.randn(80000, 14)  # Assuming a tensor of shape [80000, 14]\n",
        "tensor\n",
        "\n",
        "\n",
        "# Check if any element is negative\n",
        "any_negative = torch.any(tensor < 0)\n",
        "\n",
        "# Print the result\n",
        "print(any_negative)\n"
      ]
    },
    {
      "cell_type": "code",
      "execution_count": null,
      "metadata": {
        "colab": {
          "base_uri": "https://localhost:8080/"
        },
        "id": "pbFS4QGZHN8d",
        "outputId": "485eba9e-9f3e-45ff-d4c6-7bb61598f9d3"
      },
      "outputs": [
        {
          "data": {
            "text/plain": [
              "tensor(True, device='cuda:0')"
            ]
          },
          "execution_count": 30,
          "metadata": {},
          "output_type": "execute_result"
        }
      ],
      "source": [
        "y_train.shape\n",
        "any_negative = torch.any(y_train < 0)\n",
        "any_negative\n",
        "\n",
        "y_test.shape\n",
        "any_negative = torch.any(y_test < 0)\n",
        "any_negative\n",
        "\n",
        "x_train.shape\n",
        "any_negative = torch.any(x_train < 0)\n",
        "any_negative"
      ]
    },
    {
      "cell_type": "code",
      "execution_count": null,
      "metadata": {
        "colab": {
          "base_uri": "https://localhost:8080/",
          "height": 407
        },
        "id": "67xnLt38HN8d",
        "outputId": "a852dc32-30d6-43a8-acd8-f8ffdcf554ec"
      },
      "outputs": [
        {
          "data": {
            "image/png": "[encoded data removed]",
            "text/plain": [
              "<Figure size 800x400 with 3 Axes>"
            ]
          },
          "metadata": {},
          "output_type": "display_data"
        }
      ],
      "source": [
        "plt.figure(figsize=(8, 4))\n",
        "plt.subplot(1, 3, 1)\n",
        "plt.hist(y_train.cpu().numpy(), bins=20) # must be cpu here.\n",
        "plt.xlabel(\"y_train\")\n",
        "plt.ylabel(\"Frequency\")\n",
        "plt.xscale(\"log\")\n",
        "plt.subplot(1, 3, 2)\n",
        "plt.hist(y_val.cpu().numpy(), bins=20) # must be cpu here\n",
        "plt.xlabel(\"y_val\")\n",
        "plt.ylabel(\"Frequency\")\n",
        "plt.xscale(\"log\")\n",
        "plt.tight_layout()\n",
        "plt.subplot(1, 3, 3)\n",
        "plt.hist(y_test.cpu().numpy(), bins=20) # must be cpu here\n",
        "plt.xlabel(\"y_test\")\n",
        "plt.ylabel(\"Frequency\")\n",
        "plt.xscale(\"log\")\n",
        "plt.tight_layout()\n",
        "plt.show()\n"
      ]
    },
    {
      "cell_type": "code",
      "execution_count": null,
      "metadata": {
        "id": "FEgjk--AUZh9"
      },
      "outputs": [],
      "source": [
        "%config InteractiveShell.ast_node_interactivity = \"all\""
      ]
    },
    {
      "cell_type": "markdown",
      "metadata": {
        "id": "r2b9GecHUZh9"
      },
      "source": [
        "## Defining the neural network"
      ]
    },
    {
      "cell_type": "code",
      "execution_count": null,
      "metadata": {
        "id": "Iv8HA-ZXUZh-"
      },
      "outputs": [],
      "source": [
        "# Defining a class for the network\n",
        "class Net(nn.Module):\n",
        "    \"\"\"A class for creating a network with a\n",
        "    variable number of hidden layers and units.\n",
        "\n",
        "    Attributes:\n",
        "        n_layers (int): The number of hidden layers in the network.\n",
        "        n_units (list): A list of integers representing the number of units in each hidden layer.\n",
        "        hidden_activation (torch.nn.Module): The activation function for the hidden layers.\n",
        "        output_activation (torch.nn.Module): The activation function for the output layer.\n",
        "        layers (torch.nn.ModuleList): A list of linear layers in the network.\n",
        "    \"\"\"\n",
        "\n",
        "    def __init__(self, n_layers, n_units, hidden_activation, output_activation):\n",
        "        \"\"\"Initializes the network with the given hyperparameters.\n",
        "\n",
        "        Args:\n",
        "            n_layers (int): The number of hidden layers in the network.\n",
        "            n_units (list): A list of integers representing the number of units in each hidden layer.\n",
        "            hidden_activation (torch.nn.Module): The activation function for the hidden layers.\n",
        "            output_activation (torch.nn.Module): The activation function for the output layer.\n",
        "        \"\"\"\n",
        "        super().__init__()\n",
        "        self.n_layers = n_layers\n",
        "        self.n_units = n_units\n",
        "        self.hidden_activation = hidden_activation\n",
        "        self.output_activation = output_activation\n",
        "\n",
        "        # Creating a list of linear layers with different numbers of units for each layer\n",
        "        self.layers = nn.ModuleList([nn.Linear(N_INPUTS, n_units[0])])\n",
        "        for i in range(1, n_layers):\n",
        "            self.layers.append(nn.Linear(n_units[i - 1], n_units[i]))\n",
        "        self.layers.append(nn.Linear(n_units[-1], 1))\n",
        "\n",
        "        # Adding some assertions to check that the input arguments are valid\n",
        "        assert isinstance(n_layers, int) and n_layers > 0, \"n_layers must be a positive integer\"\n",
        "        assert isinstance(n_units, list) and len(n_units) == n_layers, \"n_units must be a list of length n_layers\"\n",
        "        assert all(isinstance(n, int) and n > 0 for n in n_units), \"n_units must contain positive integers\"\n",
        "        assert isinstance(hidden_activation, nn.Module), \"hidden_activation must be a torch.nn.Module\"\n",
        "        assert isinstance(output_activation, nn.Module), \"output_activation must be a torch.nn.Module\"\n",
        "\n",
        "    def forward(self, x):\n",
        "        \"\"\"Performs a forward pass on the input tensor.\n",
        "\n",
        "        Args:\n",
        "            x (torch.Tensor): The input tensor of shape (batch_size, N_INPUTS).\n",
        "\n",
        "        Returns:\n",
        "            torch.Tensor: The output tensor of shape (batch_size, 1).\n",
        "        \"\"\"\n",
        "        # Adding an assertion to check that the input tensor has the expected shape and type\n",
        "        assert isinstance(x, torch.Tensor), \"x must be a torch.Tensor\"\n",
        "        assert x.shape[1] == N_INPUTS, f\"x must have shape (batch_size, {N_INPUTS})\"\n",
        "\n",
        "        # Looping over the hidden layers and applying the linear transformation and the activation function\n",
        "        for layer in self.layers[:-1]:\n",
        "            x = self.hidden_activation(layer(x))\n",
        "        # Applying the linear transformation and the activation function on the output layer\n",
        "        x = self.output_activation(self.layers[-1](x))\n",
        "\n",
        "        # Returning the output tensor\n",
        "        return x\n"
      ]
    },
    {
      "cell_type": "markdown",
      "metadata": {
        "id": "6GNvp55PUZh_"
      },
      "source": [
        "## Defining the model and search space"
      ]
    },
    {
      "cell_type": "code",
      "execution_count": null,
      "metadata": {
        "id": "9a1opluOUZh_"
      },
      "outputs": [],
      "source": [
        "def create_model(trial, optimize):\n",
        "    \"\"\"Creates a trial network and optimizer based on the sampled hyperparameters.\n",
        "\n",
        "    Args:\n",
        "        trial (optuna.trial.Trial): The trial object that contains the hyperparameters.\n",
        "        optimize (boolean): Whether to optimize the hyperparameters or to use predefined values.\n",
        "\n",
        "    Returns:\n",
        "        tuple: A tuple of (net, loss_fn, optimizer, batch_size, n_epochs,\n",
        "            scheduler, loss_name, optimizer_name, scheduler_name,\n",
        "            n_units, n_layers, hidden_activation, output_activation),\n",
        "            where net is the trial network,\n",
        "            loss_fn is the loss function,\n",
        "            optimizer is the optimizer,\n",
        "            batch_size is the batch size,\n",
        "            n_epochs is the number of epochs,\n",
        "            scheduler is the learning rate scheduler,\n",
        "            loss_name is the name of the loss function,\n",
        "            optimizer_name is the name of the optimizer,\n",
        "            scheduler_name is the name of the scheduler,\n",
        "            n_units is a list of integers representing\n",
        "            the number of units in each hidden layer,\n",
        "            n_layers is an integer representing the number of hidden layers in the network,\n",
        "            hidden_activation is a torch.nn.Module representing the activation function for the hidden layers,\n",
        "            output_activation is a torch.nn.Module representing the activation function for the output layer,\n",
        "            lr is the (initial) learning rate.\n",
        "    \"\"\"\n",
        "    # If optimize is True, sample the hyperparameters from the search space\n",
        "    if OPTIMIZE:\n",
        "        n_layers = trial.suggest_int(\"n_layers\", 2, 10)\n",
        "        n_units = [trial.suggest_int(f\"n_units_{i}\", 16, 4096) for i in range(n_layers)]\n",
        "\n",
        "        hidden_activation_name = trial.suggest_categorical(\n",
        "            \"hidden_activation\", [\"ReLU\", \"LeakyReLU\", \"ELU\"]\n",
        "        )\n",
        "        output_activation_name = trial.suggest_categorical( \"output_activation\", [\"Linear\"])\n",
        "\n",
        "        loss_name = trial.suggest_categorical( \"loss\", [\"MSE\", \"MAE\", \"Huber\", \"Quantile\"])  # Added Quantile loss\n",
        "\n",
        "        optimizer_name = trial.suggest_categorical( \"optimizer\", [\"Adam\", \"SGD\", \"RMSprop\", \"Adagrad\"] )\n",
        "\n",
        "        lr = trial.suggest_loguniform(\"lr\", 1e-6, 1)\n",
        "\n",
        "        batch_size_list = [32, 64, 128, 256, 512, 1024, 2048]\n",
        "        batch_size = trial.suggest_categorical(\"batch_size\", batch_size_list)\n",
        "        \n",
        "        n_epochs = trial.suggest_int(\"n_epochs\", 50, 150)\n",
        "\n",
        "        scheduler_name = trial.suggest_categorical(\"scheduler\", [\"CosineAnnealingLR\", \"ReduceLROnPlateau\", \"StepLR\", \"CyclicLR\"])  # Added CyclicLR\n",
        "\n",
        "    # If optimize is False, use the predefined values\n",
        "    else:\n",
        "        # Setting the hyperparameters to the predefined values\n",
        "        n_layers = N_LAYERS_NO_OPT\n",
        "        n_units = N_UNITS_NO_OPT\n",
        "        hidden_activation_name = HIDDEN_ACTIVATION_NAME_NO_OPT\n",
        "        output_activation_name = OUTPUT_ACTIVATION_NAME_NO_OPT\n",
        "        loss_name = LOSS_NAME_NO_OPT\n",
        "        optimizer_name = OPTIMIZER_NAME_NO_OPT\n",
        "        lr = LR_NO_OPT\n",
        "        batch_size = BATCH_SIZE_NO_OPT\n",
        "        n_epochs = N_EPOCHS_NO_OPT\n",
        "        scheduler_name = SCHEDULER_NAME_NO_OPT\n",
        "\n",
        "    # Creating the activation functions from their names\n",
        "    if hidden_activation_name == \"ReLU\":\n",
        "        hidden_activation = nn.ReLU()\n",
        "    elif hidden_activation_name == \"LeakyReLU\":\n",
        "        hidden_activation = nn.LeakyReLU() \n",
        "    elif hidden_activation_name == \"ELU\":\n",
        "        hidden_activation = nn.ELU() \n",
        "    elif hidden_activation_name == \"Tanh\":\n",
        "        hidden_activation = nn.Tanh()\n",
        "    elif hidden_activation_name == \"Sigmoid\":\n",
        "        hidden_activation = nn.Sigmoid()\n",
        "\n",
        "    # We used to have options here, but since we have a regression problem with continuous output, we only use Linear.\n",
        "    output_activation = nn.Identity()\n",
        "\n",
        "    # Creating the loss function from its name\n",
        "    if loss_name == \"MSE\":\n",
        "        loss_fn = nn.MSELoss()\n",
        "    elif loss_name == \"MAE\":\n",
        "        loss_fn = nn.L1Loss()\n",
        "    elif loss_name == \"Huber\":\n",
        "        loss_fn = nn.SmoothL1Loss() \n",
        "    elif loss_name == \"Quantile\":  # Added Quantile loss\n",
        "        def quantile_loss(y_pred, y_true, q=0.5):\n",
        "            e = y_pred - y_true\n",
        "            return torch.mean(torch.max(q*e, (q-1)*e))\n",
        "        loss_fn = quantile_loss\n",
        "    else:\n",
        "        def log_cosh_loss(y_pred, y_true):\n",
        "            return torch.mean(torch.log(torch.cosh(y_pred - y_true)))\n",
        "        loss_fn = log_cosh_loss\n",
        "\n",
        "    # Creating the network with the sampled hyperparameters\n",
        "    net = Net(n_layers, n_units, hidden_activation, output_activation).to(device)\n",
        "\n",
        "    if OPTIMIZE:\n",
        "        # Creating the optimizer from its name\n",
        "        if optimizer_name == \"SGD\":\n",
        "            weight_decay = trial.suggest_loguniform(\"weight_decay\", 1e-5, 1e-2)\n",
        "            momentum = trial.suggest_uniform(\"momentum\", 0.0, 0.99)\n",
        "            optimizer = optim.SGD(net.parameters(), lr=lr, weight_decay=weight_decay, momentum=momentum)\n",
        "        elif optimizer_name == \"Adam\":\n",
        "            weight_decay = trial.suggest_loguniform(\"weight_decay\", 1e-5, 1e-2)\n",
        "            beta1 = trial.suggest_uniform(\"beta1\", 0.9, 0.999)\n",
        "            beta2 = trial.suggest_uniform(\"beta2\", 0.999, 0.9999)\n",
        "            optimizer = optim.Adam(net.parameters(), lr=lr, weight_decay=weight_decay, betas=(beta1, beta2))\n",
        "        elif optimizer_name == \"RMSprop\":\n",
        "            optimizer = optim.RMSprop(net.parameters(), lr=lr)\n",
        "        else:\n",
        "            optimizer = optim.Adagrad(net.parameters(), lr=lr)\n",
        "\n",
        "        # Creating the learning rate scheduler from its name\n",
        "        if scheduler_name == \"StepLR\":\n",
        "            step_size = trial.suggest_int(\"step_size\", 5, 15)\n",
        "            gamma = trial.suggest_uniform(\"gamma\", 0.1, 0.5)\n",
        "            scheduler = optim.lr_scheduler.StepLR(optimizer, step_size=step_size, gamma=gamma)\n",
        "        elif scheduler_name == \"ExponentialLR\":\n",
        "            gamma = trial.suggest_uniform(\"gamma\", 0.8, 0.99)\n",
        "            scheduler = optim.lr_scheduler.ExponentialLR(optimizer, gamma=gamma)\n",
        "        elif scheduler_name == \"CosineAnnealingLR\":\n",
        "            if n_epochs < 150:\n",
        "                t_max_fraction = trial.suggest_uniform('t_max_fraction', 0.1, 0.3)\n",
        "            elif n_epochs > 250:\n",
        "                t_max_fraction = trial.suggest_uniform('t_max_fraction', 0.05, 0.1)\n",
        "            else:\n",
        "                t_max_fraction = trial.suggest_uniform('t_max_fraction', 0.1, 0.2)\n",
        "\n",
        "            T_max = int(n_epochs * t_max_fraction)\n",
        "            eta_min = trial.suggest_loguniform(\"eta_min\", 1e-7, 1e-2)\n",
        "            scheduler = optim.lr_scheduler.CosineAnnealingLR(optimizer, T_max=T_max, eta_min=eta_min)\n",
        "        elif scheduler_name == \"ReduceLROnPlateau\":\n",
        "            factor = trial.suggest_uniform(\"factor\", 0.1, 0.5)\n",
        "            patience = trial.suggest_int(\"patience\", 5, 10)\n",
        "            threshold = trial.suggest_loguniform(\"threshold\", 1e-4, 1e-2)\n",
        "            scheduler = optim.lr_scheduler.ReduceLROnPlateau(\n",
        "                optimizer, mode=\"min\", factor=factor, patience=patience, threshold=threshold\n",
        "            )\n",
        "        elif scheduler_name == \"CyclicLR\":  # Added CyclicLR\n",
        "            base_lr = trial.suggest_loguniform(\"base_lr\", 1e-6, 1e-2)\n",
        "            max_lr = trial.suggest_loguniform(\"max_lr\", 1e-4, 1)\n",
        "            step_size_up = trial.suggest_int(\"step_size_up\", 200, 2000)\n",
        "            scheduler = optim.lr_scheduler.CyclicLR(optimizer, base_lr=base_lr, max_lr=max_lr, step_size_up=step_size_up)\n",
        "        else:\n",
        "            scheduler = None\n",
        "    else:\n",
        "        # Creating the optimizer from its name\n",
        "        if optimizer_name == \"SGD\":\n",
        "            optimizer = optim.SGD(net.parameters(), lr=lr)\n",
        "        elif optimizer_name == \"Adam\":\n",
        "            optimizer = optim.Adam(net.parameters(), lr=lr)\n",
        "        elif optimizer_name == \"RMSprop\":\n",
        "            optimizer = optim.RMSprop(net.parameters(), lr=lr)\n",
        "        else:\n",
        "            optimizer = optim.Adagrad(net.parameters(), lr=lr)\n",
        "\n",
        "        # Creating the learning rate scheduler from its name\n",
        "        if scheduler_name == \"StepLR\":\n",
        "            scheduler = optim.lr_scheduler.StepLR(optimizer, step_size=10, gamma=0.1)\n",
        "        elif scheduler_name == \"ExponentialLR\":\n",
        "            scheduler = optim.lr_scheduler.ExponentialLR(optimizer, gamma=0.9)\n",
        "        elif scheduler_name == \"CosineAnnealingLR\":\n",
        "            scheduler = optim.lr_scheduler.CosineAnnealingLR(optimizer)\n",
        "        elif scheduler_name == \"ReduceLROnPlateau\":\n",
        "            scheduler = optim.lr_scheduler.ReduceLROnPlateau(\n",
        "                        optimizer, mode=\"min\", factor=0.18979341786654758, patience=11, threshold=0.0017197466122611932 #, min_lr=1e-6\n",
        "                    )\n",
        "        elif scheduler_name == \"CyclicLR\":  # Added CyclicLR\n",
        "            # TODO: Change these appropriately.\n",
        "            base_lr = 1e-6\n",
        "            max_lr = 1e-4\n",
        "            step_size_up = 200\n",
        "            scheduler = optim.lr_scheduler.CyclicLR(optimizer, base_lr=base_lr, max_lr=max_lr, step_size_up=step_size_up)\n",
        "        else:\n",
        "            scheduler = None\n",
        "\n",
        "    # Returning all variables needed for saving and loading\n",
        "    return net, loss_fn, optimizer, batch_size, n_epochs, scheduler, loss_name, optimizer_name, scheduler_name, n_units, n_layers, hidden_activation, output_activation, lr\n",
        "\n"
      ]
    },
    {
      "cell_type": "markdown",
      "metadata": {
        "id": "l-czA7VvUZiD"
      },
      "source": [
        " ## The training and evaluation loop\n",
        "\n",
        " We first define a couple of functions used in the training and evaluation."
      ]
    },
    {
      "cell_type": "code",
      "execution_count": null,
      "metadata": {
        "id": "aD6FQNmxUZiD"
      },
      "outputs": [],
      "source": [
        "# Defining a function that computes loss and metrics for a given batch\n",
        "def compute_loss_and_metrics(y_pred, y_true, loss_fn):\n",
        "    \"\"\"Computes loss and metrics for a given batch.\n",
        "\n",
        "    Args:\n",
        "        y_pred (torch.Tensor): The predicted pressure tensor of shape (batch_size, 1).\n",
        "        y_true (torch.Tensor): The true pressure tensor of shape (batch_size,).\n",
        "        loss_fn (torch.nn.Module or function): The loss function to use.\n",
        "\n",
        "    Returns:\n",
        "        tuple: A tuple of (loss, l1_norm), where loss is a scalar tensor,\n",
        "            l1_norm is L1 norm for relative error of pressure,\n",
        "            each being a scalar tensor.\n",
        "            linf_norm is Linf norm for relative error of pressure.\n",
        "    \"\"\"\n",
        "    # Reshaping the target tensor to match the input tensor\n",
        "    y_true = y_true.view(-1, 1)\n",
        "\n",
        "    # Computing the loss using the loss function\n",
        "    loss = loss_fn(y_pred, y_true)\n",
        "\n",
        "    # Computing the relative error of pressure\n",
        "    rel_error = torch.abs((y_pred - y_true) / y_true)\n",
        "\n",
        "    # Computing the L1 norm for the relative error of pressure\n",
        "    l1_norm = torch.mean(rel_error) \n",
        "    # Computing the Linf norm for the relative error of pressure\n",
        "    linf_norm = torch.max(rel_error) \n",
        "\n",
        "    # Returning the loss and metrics\n",
        "    return loss, l1_norm, linf_norm\n",
        "\n",
        "\n",
        "# Defining a function that updates the learning rate scheduler with validation loss if applicable\n",
        "def update_scheduler(scheduler, test_loss):\n",
        "    \"\"\"Updates the learning rate scheduler with validation loss if applicable.\n",
        "\n",
        "    Args:\n",
        "        scheduler (torch.optim.lr_scheduler._LRScheduler or None): The learning rate scheduler to use.\n",
        "        test_loss (float): The validation loss to use.\n",
        "\n",
        "    Returns:\n",
        "        None\n",
        "    \"\"\"\n",
        "    # Checking if scheduler is not None\n",
        "    if scheduler is not None:\n",
        "        # Checking if scheduler is ReduceLROnPlateau\n",
        "        if isinstance(scheduler, optim.lr_scheduler.ReduceLROnPlateau):\n",
        "            # Updating the scheduler with test_loss\n",
        "            scheduler.step(test_loss)\n",
        "        else:\n",
        "            # Updating the scheduler without test_loss\n",
        "            scheduler.step()\n"
      ]
    },
    {
      "cell_type": "markdown",
      "metadata": {
        "id": "w1nE662UUZiE"
      },
      "source": [
        "Now for the actual training and evaluation loop,"
      ]
    },
    {
      "cell_type": "code",
      "execution_count": null,
      "metadata": {
        "id": "YAOjgKW3UZiF"
      },
      "outputs": [],
      "source": [
        "# Defining a function to train and evaluate a network\n",
        "def train_and_eval(net, loss_fn, optimizer, batch_size, n_epochs, scheduler, train_loader, val_loader, test_loader, trial=None):\n",
        "    # Initializing lists to store the losses and metrics for each epoch\n",
        "    train_losses = []\n",
        "    val_losses = []\n",
        "    test_losses = []\n",
        "    train_metrics = []\n",
        "    val_metrics = []\n",
        "    test_metrics = []\n",
        "\n",
        "\n",
        "    # Creating a SummaryWriter object to log data for tensorboard\n",
        "    writer = tbx.SummaryWriter()\n",
        "\n",
        "    # Looping over the epochs\n",
        "    for epoch in range(n_epochs):\n",
        "\n",
        "        # Setting the network to training mode\n",
        "        net.train()\n",
        "\n",
        "        # Initializing variables to store the total loss and metrics for the train set\n",
        "        train_loss = 0.0\n",
        "        train_l1_norm = 0.0\n",
        "        train_linf_norm = 0.0\n",
        "\n",
        "        # Looping over the batches in the train set\n",
        "        for x_batch, y_batch in train_loader:\n",
        "\n",
        "            # Moving the batch tensors to the device\n",
        "            x_batch = x_batch.to(device)\n",
        "            y_batch = y_batch.to(device)\n",
        "\n",
        "            # Zeroing the gradients\n",
        "            optimizer.zero_grad()\n",
        "\n",
        "            # Performing a forward pass and computing the loss and metrics\n",
        "            y_pred = net(x_batch)\n",
        "            loss, l1_norm, linf_norm = compute_loss_and_metrics(y_pred, y_batch, loss_fn)\n",
        "\n",
        "\n",
        "            # Performing a backward pass and updating the weights\n",
        "            loss.backward()\n",
        "            optimizer.step()\n",
        "\n",
        "            # Updating the total loss and metrics for the train set\n",
        "            train_loss += loss.item() * x_batch.size(0)\n",
        "            train_l1_norm += l1_norm.item() * x_batch.size(0)\n",
        "            train_linf_norm += linf_norm.item() * x_batch.size(0)\n",
        "\n",
        "        # Computing the average loss and metrics for the train set\n",
        "        train_loss /= len(train_loader.dataset)\n",
        "        train_l1_norm /= len(train_loader.dataset)\n",
        "        train_linf_norm /= len(train_loader.dataset)\n",
        "\n",
        "        # Appending the average loss and metrics for the train set to the lists\n",
        "        train_losses.append(train_loss)\n",
        "        train_metrics.append(\n",
        "            {\n",
        "                \"l1_norm\": train_l1_norm,\n",
        "                \"linf_norm\": train_linf_norm,\n",
        "            }\n",
        "        )\n",
        "\n",
        "        # Logging the average loss and metrics for the train set to tensorboard\n",
        "        writer.add_scalar(\"Loss/train\", train_loss, epoch)\n",
        "        writer.add_scalar(\"L1 norm/train\", train_l1_norm, epoch)\n",
        "        writer.add_scalar(\"Linf norm/train\", train_linf_norm, epoch)\n",
        "\n",
        "        if val_loader is not None:\n",
        "            net.eval()\n",
        "            val_loss = 0.0\n",
        "            val_l1_norm = 0.0\n",
        "            val_linf_norm = 0.0\n",
        "\n",
        "            with torch.no_grad():\n",
        "                for x_batch, y_batch in val_loader:\n",
        "                    x_batch = x_batch.to(device)\n",
        "                    y_batch = y_batch.to(device)\n",
        "                    y_pred = net(x_batch)\n",
        "                    loss, l1_norm, linf_norm = compute_loss_and_metrics(y_pred, y_batch, loss_fn)\n",
        "\n",
        "                    val_loss += loss.item() * x_batch.size(0)\n",
        "                    val_l1_norm += l1_norm.item() * x_batch.size(0)\n",
        "                    val_linf_norm += linf_norm.item() * x_batch.size(0)\n",
        "\n",
        "            val_loss /= len(val_loader.dataset)\n",
        "            val_l1_norm /= len(val_loader.dataset)\n",
        "            val_linf_norm /= len(val_loader.dataset)\n",
        "\n",
        "            val_losses.append(val_loss)\n",
        "            val_metrics.append(\n",
        "                {\n",
        "                    \"l1_norm\": val_l1_norm,\n",
        "                    \"linf_norm\": val_linf_norm,\n",
        "                }\n",
        "            )\n",
        "\n",
        "            writer.add_scalar(\"Loss/val\", val_loss, epoch)\n",
        "            writer.add_scalar(\"L1 norm/val\", val_l1_norm, epoch)\n",
        "            writer.add_scalar(\"Linf norm/val\", val_linf_norm, epoch)\n",
        "            print(f\"Epoch {epoch+1}/{n_epochs}.. Train loss: {train_loss:.3f}.. Val loss: {val_loss:.3f}.. Train L1 norm: {train_l1_norm:.3f}.. Val L1 norm: {val_l1_norm:.3f}.. Train Linf norm: {train_linf_norm:.3f}.. Val Linf norm: {val_linf_norm:.3f}\")\n",
        "\n",
        "\n",
        "            update_scheduler(scheduler, val_loss)\n",
        "\n",
        "        if test_loader is not None:\n",
        "            net.eval()\n",
        "            test_loss = 0.0\n",
        "            test_l1_norm = 0.0\n",
        "            test_linf_norm = 0.0\n",
        "\n",
        "            with torch.no_grad():\n",
        "                for x_batch, y_batch in test_loader:\n",
        "                    x_batch = x_batch.to(device)\n",
        "                    y_batch = y_batch.to(device)\n",
        "                    y_pred = net(x_batch)\n",
        "                    loss, l1_norm, linf_norm = compute_loss_and_metrics(y_pred, y_batch, loss_fn)\n",
        "\n",
        "                    test_loss += loss.item() * x_batch.size(0)\n",
        "                    test_l1_norm += l1_norm.item() * x_batch.size(0)\n",
        "                    test_linf_norm += linf_norm.item() * x_batch.size(0)\n",
        "\n",
        "            test_loss /= len(test_loader.dataset)\n",
        "            test_l1_norm /= len(test_loader.dataset)\n",
        "            test_linf_norm /= len(test_loader.dataset)\n",
        "\n",
        "            test_losses.append(test_loss)\n",
        "            test_metrics.append(\n",
        "                {\n",
        "                    \"l1_norm\": test_l1_norm,\n",
        "                    \"linf_norm\": test_linf_norm,\n",
        "                }\n",
        "            )\n",
        "\n",
        "            writer.add_scalar(\"Loss/test\", test_loss, epoch)\n",
        "            writer.add_scalar(\"L1 norm/test\", test_l1_norm, epoch)\n",
        "            writer.add_scalar(\"Linf norm/test\", test_linf_norm, epoch)\n",
        "            print(f\"Epoch {epoch+1}/{n_epochs}.. Train loss: {train_loss:.3f}.. Test loss: {test_loss:.3f}.. Train L1 norm: {train_l1_norm:.3f}.. Test L1 norm: {test_l1_norm:.3f}.. Train Linf norm: {train_linf_norm:.3f}.. Test Linf norm: {test_linf_norm:.3f}\")\n",
        "\n",
        "\n",
        "        # Reporting the intermediate metric value to Optuna if trial is not None\n",
        "        if trial is not None:\n",
        "            trial.report(val_l1_norm, epoch)\n",
        "\n",
        "            if trial.should_prune():\n",
        "                raise optuna.TrialPruned()\n",
        "\n",
        "    # Closing the SummaryWriter object\n",
        "    writer.close()\n",
        "\n",
        "    # Returning the losses and metrics lists\n",
        "    return train_losses, val_losses, test_losses, train_metrics, val_metrics, test_metrics\n"
      ]
    },
    {
      "cell_type": "markdown",
      "metadata": {
        "id": "xg9jz0SvUZiQ"
      },
      "source": [
        "## The objective function and hyperparameter tuning"
      ]
    },
    {
      "cell_type": "code",
      "execution_count": null,
      "metadata": {
        "id": "fmRncQPuUZiR"
      },
      "outputs": [],
      "source": [
        "# Defining an objective function for Optuna to minimize\n",
        "def objective(trial):\n",
        "    \"\"\"Defines an objective function for Optuna to minimize.\n",
        "\n",
        "    Args:\n",
        "        trial (optuna.trial.Trial): The trial object that contains the hyperparameters.\n",
        "\n",
        "    Returns:\n",
        "        float: The validation L1 norm to minimize.\n",
        "    \"\"\"\n",
        "    # Creating a trial network and optimizer using the create_model function\n",
        "    net, \\\n",
        "    loss_fn, \\\n",
        "    optimizer, \\\n",
        "    batch_size, \\\n",
        "    n_epochs, \\\n",
        "    scheduler, \\\n",
        "    loss_name, \\\n",
        "    optimizer_name, \\\n",
        "    scheduler_name, \\\n",
        "    n_units, \\\n",
        "    n_layers, \\\n",
        "    hidden_activation, \\\n",
        "    output_activation, \\\n",
        "    lr = create_model(trial, optimize=True)\n",
        "\n",
        "    # Create separate data loaders for training and validation\n",
        "    train_loader = torch.utils.data.DataLoader(\n",
        "        torch.utils.data.TensorDataset(x_train, y_train), batch_size=batch_size, shuffle=True\n",
        "    )\n",
        "    val_loader = torch.utils.data.DataLoader(\n",
        "        torch.utils.data.TensorDataset(x_val, y_val), batch_size=batch_size\n",
        "    )\n",
        "    \n",
        "    _, _, _, _, val_metrics, _ = train_and_eval(\n",
        "        net, loss_fn, optimizer, batch_size, n_epochs, scheduler, train_loader, val_loader, None, trial\n",
        "    )\n",
        "\n",
        "    # Returning the last validation L1 norm as the objective value to minimize\n",
        "    return val_metrics[-1][\"l1_norm\"]"
      ]
    },
    {
      "cell_type": "code",
      "execution_count": null,
      "metadata": {
        "colab": {
          "base_uri": "https://localhost:8080/"
        },
        "id": "GyES4NAyUZiS",
        "outputId": "1e5eef0f-0c8b-4bd4-a378-70d5c049d278"
      },
      "outputs": [
        {
          "name": "stderr",
          "output_type": "stream",
          "text": [
            "\u001b[32m[I 2023-05-27 07:33:13,453]\u001b[0m A new study created in memory with name: no-name-ab739029-d434-4dda-9b8c-3bfc13e41bc3\u001b[0m\n",
            "<ipython-input-34-1c19c5172611>:43: FutureWarning: suggest_loguniform has been deprecated in v3.0.0. This feature will be removed in v6.0.0. See https://github.com/optuna/optuna/releases/tag/v3.0.0. Use :func:`~optuna.trial.Trial.suggest_float` instead.\n",
            "  lr = trial.suggest_loguniform(\"lr\", 1e-6, 1)\n",
            "<ipython-input-34-1c19c5172611>:108: FutureWarning: suggest_loguniform has been deprecated in v3.0.0. This feature will be removed in v6.0.0. See https://github.com/optuna/optuna/releases/tag/v3.0.0. Use :func:`~optuna.trial.Trial.suggest_float` instead.\n",
            "  weight_decay = trial.suggest_loguniform(\"weight_decay\", 1e-5, 1e-2)\n",
            "<ipython-input-34-1c19c5172611>:109: FutureWarning: suggest_uniform has been deprecated in v3.0.0. This feature will be removed in v6.0.0. See https://github.com/optuna/optuna/releases/tag/v3.0.0. Use :func:`~optuna.trial.Trial.suggest_float` instead.\n",
            "  beta1 = trial.suggest_uniform(\"beta1\", 0.9, 0.999)\n",
            "<ipython-input-34-1c19c5172611>:110: FutureWarning: suggest_uniform has been deprecated in v3.0.0. This feature will be removed in v6.0.0. See https://github.com/optuna/optuna/releases/tag/v3.0.0. Use :func:`~optuna.trial.Trial.suggest_float` instead.\n",
            "  beta2 = trial.suggest_uniform(\"beta2\", 0.999, 0.9999)\n",
            "<ipython-input-34-1c19c5172611>:137: FutureWarning: suggest_uniform has been deprecated in v3.0.0. This feature will be removed in v6.0.0. See https://github.com/optuna/optuna/releases/tag/v3.0.0. Use :func:`~optuna.trial.Trial.suggest_float` instead.\n",
            "  factor = trial.suggest_uniform(\"factor\", 0.1, 0.5)\n",
            "<ipython-input-34-1c19c5172611>:139: FutureWarning: suggest_loguniform has been deprecated in v3.0.0. This feature will be removed in v6.0.0. See https://github.com/optuna/optuna/releases/tag/v3.0.0. Use :func:`~optuna.trial.Trial.suggest_float` instead.\n",
            "  threshold = trial.suggest_loguniform(\"threshold\", 1e-4, 1e-2)\n"
          ]
        },
        {
          "name": "stdout",
          "output_type": "stream",
          "text": [
            "Epoch 1/63.. Train loss: 3914.376.. Val loss: 480.474.. Train L1 norm: 17.466.. Val L1 norm: 1.331.. Train Linf norm: 1550.271.. Val Linf norm: 46.132\n",
            "Epoch 2/63.. Train loss: 586.225.. Val loss: 574.736.. Train L1 norm: 1.625.. Val L1 norm: 1.297.. Train Linf norm: 60.476.. Val Linf norm: 35.687\n",
            "Epoch 3/63.. Train loss: 693.185.. Val loss: 479.636.. Train L1 norm: 2.352.. Val L1 norm: 1.237.. Train Linf norm: 116.880.. Val Linf norm: 33.062\n",
            "Epoch 4/63.. Train loss: 620.555.. Val loss: 493.115.. Train L1 norm: 2.036.. Val L1 norm: 1.699.. Train Linf norm: 93.921.. Val Linf norm: 61.623\n",
            "Epoch 5/63.. Train loss: 632.165.. Val loss: 675.311.. Train L1 norm: 1.927.. Val L1 norm: 1.798.. Train Linf norm: 87.865.. Val Linf norm: 72.314\n",
            "Epoch 6/63.. Train loss: 645.551.. Val loss: 737.064.. Train L1 norm: 2.394.. Val L1 norm: 1.826.. Train Linf norm: 75.015.. Val Linf norm: 80.071\n",
            "Epoch 7/63.. Train loss: 752.644.. Val loss: 485.126.. Train L1 norm: 2.522.. Val L1 norm: 1.649.. Train Linf norm: 106.218.. Val Linf norm: 32.036\n",
            "Epoch 8/63.. Train loss: 559.818.. Val loss: 611.398.. Train L1 norm: 2.200.. Val L1 norm: 3.978.. Train Linf norm: 81.421.. Val Linf norm: 174.012\n",
            "Epoch 9/63.. Train loss: 636.735.. Val loss: 490.687.. Train L1 norm: 2.108.. Val L1 norm: 2.038.. Train Linf norm: 88.468.. Val Linf norm: 65.486\n",
            "Epoch 10/63.. Train loss: 628.751.. Val loss: 481.750.. Train L1 norm: 1.999.. Val L1 norm: 2.555.. Train Linf norm: 65.936.. Val Linf norm: 65.417\n",
            "Epoch 11/63.. Train loss: 597.633.. Val loss: 481.764.. Train L1 norm: 2.297.. Val L1 norm: 2.016.. Train Linf norm: 48.874.. Val Linf norm: 48.855\n",
            "Epoch 12/63.. Train loss: 561.041.. Val loss: 481.236.. Train L1 norm: 1.786.. Val L1 norm: 1.310.. Train Linf norm: 61.204.. Val Linf norm: 22.087\n",
            "Epoch 13/63.. Train loss: 522.601.. Val loss: 479.153.. Train L1 norm: 1.409.. Val L1 norm: 1.342.. Train Linf norm: 33.423.. Val Linf norm: 17.485\n",
            "Epoch 14/63.. Train loss: 524.934.. Val loss: 492.141.. Train L1 norm: 1.466.. Val L1 norm: 1.130.. Train Linf norm: 40.218.. Val Linf norm: 14.434\n",
            "Epoch 15/63.. Train loss: 516.168.. Val loss: 478.350.. Train L1 norm: 1.626.. Val L1 norm: 1.911.. Train Linf norm: 38.346.. Val Linf norm: 43.599\n",
            "Epoch 16/63.. Train loss: 528.729.. Val loss: 474.004.. Train L1 norm: 1.632.. Val L1 norm: 1.520.. Train Linf norm: 43.789.. Val Linf norm: 30.137\n",
            "Epoch 17/63.. Train loss: 526.746.. Val loss: 463.209.. Train L1 norm: 1.721.. Val L1 norm: 1.811.. Train Linf norm: 60.352.. Val Linf norm: 52.207\n",
            "Epoch 18/63.. Train loss: 509.861.. Val loss: 459.231.. Train L1 norm: 2.096.. Val L1 norm: 1.794.. Train Linf norm: 85.443.. Val Linf norm: 53.263\n",
            "Epoch 19/63.. Train loss: 499.536.. Val loss: 459.114.. Train L1 norm: 1.900.. Val L1 norm: 2.008.. Train Linf norm: 67.512.. Val Linf norm: 64.850\n",
            "Epoch 20/63.. Train loss: 504.086.. Val loss: 488.816.. Train L1 norm: 2.442.. Val L1 norm: 2.726.. Train Linf norm: 94.209.. Val Linf norm: 58.896\n",
            "Epoch 21/63.. Train loss: 525.784.. Val loss: 473.833.. Train L1 norm: 2.359.. Val L1 norm: 2.506.. Train Linf norm: 72.639.. Val Linf norm: 74.070\n",
            "Epoch 22/63.. Train loss: 498.531.. Val loss: 409.328.. Train L1 norm: 2.261.. Val L1 norm: 2.028.. Train Linf norm: 99.067.. Val Linf norm: 72.137\n",
            "Epoch 23/63.. Train loss: 431.507.. Val loss: 403.749.. Train L1 norm: 2.060.. Val L1 norm: 1.656.. Train Linf norm: 76.015.. Val Linf norm: 49.230\n",
            "Epoch 24/63.. Train loss: 501.343.. Val loss: 442.726.. Train L1 norm: 2.667.. Val L1 norm: 2.120.. Train Linf norm: 67.277.. Val Linf norm: 42.175\n",
            "Epoch 25/63.. Train loss: 479.925.. Val loss: 445.653.. Train L1 norm: 1.931.. Val L1 norm: 2.485.. Train Linf norm: 58.527.. Val Linf norm: 70.780\n",
            "Epoch 26/63.. Train loss: 450.759.. Val loss: 388.013.. Train L1 norm: 1.384.. Val L1 norm: 0.905.. Train Linf norm: 65.724.. Val Linf norm: 27.711\n",
            "Epoch 27/63.. Train loss: 424.350.. Val loss: 405.888.. Train L1 norm: 1.344.. Val L1 norm: 2.246.. Train Linf norm: 53.846.. Val Linf norm: 61.002\n",
            "Epoch 28/63.. Train loss: 430.979.. Val loss: 446.475.. Train L1 norm: 1.415.. Val L1 norm: 2.111.. Train Linf norm: 44.187.. Val Linf norm: 29.655\n",
            "Epoch 29/63.. Train loss: 467.667.. Val loss: 418.504.. Train L1 norm: 2.579.. Val L1 norm: 1.324.. Train Linf norm: 62.164.. Val Linf norm: 27.015\n",
            "Epoch 30/63.. Train loss: 441.544.. Val loss: 450.438.. Train L1 norm: 1.581.. Val L1 norm: 1.487.. Train Linf norm: 61.778.. Val Linf norm: 13.080\n",
            "Epoch 31/63.. Train loss: 515.385.. Val loss: 445.320.. Train L1 norm: 3.032.. Val L1 norm: 2.702.. Train Linf norm: 67.088.. Val Linf norm: 41.092\n",
            "Epoch 32/63.. Train loss: 484.184.. Val loss: 409.585.. Train L1 norm: 1.371.. Val L1 norm: 1.169.. Train Linf norm: 58.812.. Val Linf norm: 40.273\n",
            "Epoch 33/63.. Train loss: 414.790.. Val loss: 379.119.. Train L1 norm: 1.275.. Val L1 norm: 0.959.. Train Linf norm: 50.495.. Val Linf norm: 30.782\n",
            "Epoch 34/63.. Train loss: 464.736.. Val loss: 457.479.. Train L1 norm: 1.329.. Val L1 norm: 2.583.. Train Linf norm: 35.123.. Val Linf norm: 52.757\n",
            "Epoch 35/63.. Train loss: 510.272.. Val loss: 468.340.. Train L1 norm: 1.921.. Val L1 norm: 1.303.. Train Linf norm: 50.920.. Val Linf norm: 29.272\n",
            "Epoch 36/63.. Train loss: 472.042.. Val loss: 409.210.. Train L1 norm: 1.593.. Val L1 norm: 1.367.. Train Linf norm: 48.166.. Val Linf norm: 29.880\n",
            "Epoch 37/63.. Train loss: 418.659.. Val loss: 371.168.. Train L1 norm: 1.396.. Val L1 norm: 1.410.. Train Linf norm: 57.815.. Val Linf norm: 42.006\n",
            "Epoch 38/63.. Train loss: 446.777.. Val loss: 443.292.. Train L1 norm: 2.449.. Val L1 norm: 1.763.. Train Linf norm: 68.567.. Val Linf norm: 26.387\n",
            "Epoch 39/63.. Train loss: 423.107.. Val loss: 353.232.. Train L1 norm: 3.693.. Val L1 norm: 1.145.. Train Linf norm: 77.470.. Val Linf norm: 46.764\n",
            "Epoch 40/63.. Train loss: 403.706.. Val loss: 378.397.. Train L1 norm: 1.965.. Val L1 norm: 1.772.. Train Linf norm: 43.552.. Val Linf norm: 30.417\n",
            "Epoch 41/63.. Train loss: 379.130.. Val loss: 384.755.. Train L1 norm: 1.667.. Val L1 norm: 1.323.. Train Linf norm: 31.962.. Val Linf norm: 21.395\n",
            "Epoch 42/63.. Train loss: 404.105.. Val loss: 355.009.. Train L1 norm: 1.389.. Val L1 norm: 0.890.. Train Linf norm: 38.488.. Val Linf norm: 33.118\n",
            "Epoch 43/63.. Train loss: 358.845.. Val loss: 370.525.. Train L1 norm: 1.123.. Val L1 norm: 1.283.. Train Linf norm: 45.177.. Val Linf norm: 62.580\n",
            "Epoch 44/63.. Train loss: 377.811.. Val loss: 379.756.. Train L1 norm: 1.486.. Val L1 norm: 1.955.. Train Linf norm: 36.487.. Val Linf norm: 30.703\n",
            "Epoch 45/63.. Train loss: 376.999.. Val loss: 346.127.. Train L1 norm: 1.381.. Val L1 norm: 1.322.. Train Linf norm: 40.023.. Val Linf norm: 40.488\n",
            "Epoch 46/63.. Train loss: 351.611.. Val loss: 372.499.. Train L1 norm: 1.312.. Val L1 norm: 1.312.. Train Linf norm: 41.080.. Val Linf norm: 52.615\n",
            "Epoch 47/63.. Train loss: 390.935.. Val loss: 416.645.. Train L1 norm: 1.413.. Val L1 norm: 2.332.. Train Linf norm: 34.967.. Val Linf norm: 47.677\n",
            "Epoch 48/63.. Train loss: 448.810.. Val loss: 467.253.. Train L1 norm: 1.256.. Val L1 norm: 2.440.. Train Linf norm: 26.990.. Val Linf norm: 47.155\n",
            "Epoch 49/63.. Train loss: 558.616.. Val loss: 589.426.. Train L1 norm: 2.829.. Val L1 norm: 2.386.. Train Linf norm: 78.998.. Val Linf norm: 46.010\n",
            "Epoch 50/63.. Train loss: 554.639.. Val loss: 462.951.. Train L1 norm: 2.340.. Val L1 norm: 1.337.. Train Linf norm: 53.572.. Val Linf norm: 24.865\n",
            "Epoch 51/63.. Train loss: 492.138.. Val loss: 471.570.. Train L1 norm: 1.460.. Val L1 norm: 1.766.. Train Linf norm: 34.183.. Val Linf norm: 88.084\n",
            "Epoch 52/63.. Train loss: 478.800.. Val loss: 447.179.. Train L1 norm: 1.559.. Val L1 norm: 1.501.. Train Linf norm: 75.039.. Val Linf norm: 92.577\n",
            "Epoch 53/63.. Train loss: 557.559.. Val loss: 441.765.. Train L1 norm: 1.643.. Val L1 norm: 1.192.. Train Linf norm: 82.317.. Val Linf norm: 42.542\n",
            "Epoch 54/63.. Train loss: 486.489.. Val loss: 440.938.. Train L1 norm: 1.207.. Val L1 norm: 1.087.. Train Linf norm: 40.809.. Val Linf norm: 21.798\n",
            "Epoch 55/63.. Train loss: 458.420.. Val loss: 422.257.. Train L1 norm: 1.298.. Val L1 norm: 1.324.. Train Linf norm: 44.713.. Val Linf norm: 50.107\n",
            "Epoch 56/63.. Train loss: 420.441.. Val loss: 417.863.. Train L1 norm: 1.251.. Val L1 norm: 1.306.. Train Linf norm: 57.470.. Val Linf norm: 61.103\n",
            "Epoch 57/63.. Train loss: 402.436.. Val loss: 413.643.. Train L1 norm: 1.206.. Val L1 norm: 1.191.. Train Linf norm: 43.419.. Val Linf norm: 49.315\n",
            "Epoch 58/63.. Train loss: 380.644.. Val loss: 384.687.. Train L1 norm: 1.179.. Val L1 norm: 1.484.. Train Linf norm: 43.454.. Val Linf norm: 56.087\n",
            "Epoch 59/63.. Train loss: 397.372.. Val loss: 374.908.. Train L1 norm: 1.187.. Val L1 norm: 1.538.. Train Linf norm: 39.822.. Val Linf norm: 38.884\n",
            "Epoch 60/63.. Train loss: 371.892.. Val loss: 440.949.. Train L1 norm: 1.223.. Val L1 norm: 1.083.. Train Linf norm: 40.576.. Val Linf norm: 80.872\n",
            "Epoch 61/63.. Train loss: 352.718.. Val loss: 378.880.. Train L1 norm: 1.103.. Val L1 norm: 1.116.. Train Linf norm: 33.482.. Val Linf norm: 46.589\n",
            "Epoch 62/63.. Train loss: 349.128.. Val loss: 396.239.. Train L1 norm: 1.108.. Val L1 norm: 1.162.. Train Linf norm: 36.478.. Val Linf norm: 71.638\n"
          ]
        },
        {
          "name": "stderr",
          "output_type": "stream",
          "text": [
            "\u001b[32m[I 2023-05-27 07:34:43,913]\u001b[0m Trial 0 finished with value: 1.1126834174156188 and parameters: {'n_layers': 3, 'n_units_0': 1777, 'n_units_1': 1608, 'n_units_2': 1516, 'hidden_activation': 'LeakyReLU', 'output_activation': 'Linear', 'loss': 'Huber', 'optimizer': 'Adam', 'lr': 0.005666145832140512, 'batch_size': 1024, 'n_epochs': 63, 'scheduler': 'ReduceLROnPlateau', 'weight_decay': 0.0028582372472055234, 'beta1': 0.9633232920904092, 'beta2': 0.9995365052100204, 'factor': 0.19888500632342598, 'patience': 7, 'threshold': 0.0035412750922045643}. Best is trial 0 with value: 1.1126834174156188.\u001b[0m\n"
          ]
        },
        {
          "name": "stdout",
          "output_type": "stream",
          "text": [
            "Epoch 63/63.. Train loss: 339.150.. Val loss: 378.446.. Train L1 norm: 1.053.. Val L1 norm: 1.113.. Train Linf norm: 35.335.. Val Linf norm: 64.552\n",
            "Best trial:\n",
            "  Value:  1.1126834174156188\n",
            "  Params: \n",
            "    n_layers: 3\n",
            "    n_units_0: 1777\n",
            "    n_units_1: 1608\n",
            "    n_units_2: 1516\n",
            "    hidden_activation: LeakyReLU\n",
            "    output_activation: Linear\n",
            "    loss: Huber\n",
            "    optimizer: Adam\n",
            "    lr: 0.005666145832140512\n",
            "    batch_size: 1024\n",
            "    n_epochs: 63\n",
            "    scheduler: ReduceLROnPlateau\n",
            "    weight_decay: 0.0028582372472055234\n",
            "    beta1: 0.9633232920904092\n",
            "    beta2: 0.9995365052100204\n",
            "    factor: 0.19888500632342598\n",
            "    patience: 7\n",
            "    threshold: 0.0035412750922045643\n"
          ]
        }
      ],
      "source": [
        "if OPTIMIZE:\n",
        "    # Creating a study object with Optuna with TPE sampler and median pruner \n",
        "    study = optuna.create_study(direction=\"minimize\", sampler=optuna.samplers.TPESampler(), pruner=optuna.pruners.MedianPruner())\n",
        "\n",
        "    # Running Optuna with 100 trials when we are optimizing.\n",
        "    study.optimize(objective, n_trials=N_TRIALS)\n",
        "\n",
        "    # Printing the best trial information\n",
        "    print(\"Best trial:\")\n",
        "    trial = study.best_trial\n",
        "    print(\"  Value: \", trial.value)\n",
        "    print(\"  Params: \")\n",
        "    for key, value in trial.params.items():\n",
        "        print(f\"    {key}: {value}\")\n"
      ]
    },
    {
      "cell_type": "markdown",
      "metadata": {
        "id": "jmMfE9_dUZiS"
      },
      "source": [
        "## Training the model"
      ]
    },
    {
      "cell_type": "code",
      "execution_count": null,
      "metadata": {
        "colab": {
          "base_uri": "https://localhost:8080/"
        },
        "id": "phyiHlWEUZiT",
        "outputId": "f93fb4cc-fb83-43ae-b659-e015d576d5fc"
      },
      "outputs": [
        {
          "name": "stderr",
          "output_type": "stream",
          "text": [
            "<ipython-input-34-1c19c5172611>:43: FutureWarning: suggest_loguniform has been deprecated in v3.0.0. This feature will be removed in v6.0.0. See https://github.com/optuna/optuna/releases/tag/v3.0.0. Use :func:`~optuna.trial.FrozenTrial.suggest_float` instead.\n",
            "  lr = trial.suggest_loguniform(\"lr\", 1e-6, 1)\n",
            "<ipython-input-34-1c19c5172611>:108: FutureWarning: suggest_loguniform has been deprecated in v3.0.0. This feature will be removed in v6.0.0. See https://github.com/optuna/optuna/releases/tag/v3.0.0. Use :func:`~optuna.trial.FrozenTrial.suggest_float` instead.\n",
            "  weight_decay = trial.suggest_loguniform(\"weight_decay\", 1e-5, 1e-2)\n",
            "<ipython-input-34-1c19c5172611>:109: FutureWarning: suggest_uniform has been deprecated in v3.0.0. This feature will be removed in v6.0.0. See https://github.com/optuna/optuna/releases/tag/v3.0.0. Use :func:`~optuna.trial.FrozenTrial.suggest_float` instead.\n",
            "  beta1 = trial.suggest_uniform(\"beta1\", 0.9, 0.999)\n",
            "<ipython-input-34-1c19c5172611>:110: FutureWarning: suggest_uniform has been deprecated in v3.0.0. This feature will be removed in v6.0.0. See https://github.com/optuna/optuna/releases/tag/v3.0.0. Use :func:`~optuna.trial.FrozenTrial.suggest_float` instead.\n",
            "  beta2 = trial.suggest_uniform(\"beta2\", 0.999, 0.9999)\n",
            "<ipython-input-34-1c19c5172611>:137: FutureWarning: suggest_uniform has been deprecated in v3.0.0. This feature will be removed in v6.0.0. See https://github.com/optuna/optuna/releases/tag/v3.0.0. Use :func:`~optuna.trial.FrozenTrial.suggest_float` instead.\n",
            "  factor = trial.suggest_uniform(\"factor\", 0.1, 0.5)\n",
            "<ipython-input-34-1c19c5172611>:139: FutureWarning: suggest_loguniform has been deprecated in v3.0.0. This feature will be removed in v6.0.0. See https://github.com/optuna/optuna/releases/tag/v3.0.0. Use :func:`~optuna.trial.FrozenTrial.suggest_float` instead.\n",
            "  threshold = trial.suggest_loguniform(\"threshold\", 1e-4, 1e-2)\n"
          ]
        }
      ],
      "source": [
        "# Creating the best network and optimizer using the best hyperparameters\n",
        "if OPTIMIZE:\n",
        "    net, \\\n",
        "    loss_fn, \\\n",
        "    optimizer, \\\n",
        "    batch_size, \\\n",
        "    n_epochs, \\\n",
        "    scheduler, \\\n",
        "    loss_name, \\\n",
        "    optimizer_name, \\\n",
        "    scheduler_name, \\\n",
        "    n_units, \\\n",
        "    n_layers, \\\n",
        "    hidden_activation, \\\n",
        "    output_activation, \\\n",
        "    lr = create_model(trial, optimize=True)\n",
        "# Creating the network with predefined hyperparameters\n",
        "else:\n",
        "    net, \\\n",
        "    loss_fn, \\\n",
        "    optimizer, \\\n",
        "    batch_size, \\\n",
        "    n_epochs, \\\n",
        "    scheduler, \\\n",
        "    loss_name, \\\n",
        "    optimizer_name, \\\n",
        "    scheduler_name, \\\n",
        "    n_units, \\\n",
        "    n_layers, \\\n",
        "    hidden_activation, \\\n",
        "    output_activation, \\\n",
        "    lr = create_model(trial=None, optimize=False)"
      ]
    },
    {
      "cell_type": "code",
      "execution_count": null,
      "metadata": {
        "colab": {
          "base_uri": "https://localhost:8080/"
        },
        "id": "_yq-oY81UZiU",
        "outputId": "8e1ff090-4f47-4671-f198-7b696684382d"
      },
      "outputs": [
        {
          "name": "stdout",
          "output_type": "stream",
          "text": [
            "loss_fn: SmoothL1Loss()\n",
            "batch_size: 1024\n",
            "n_epochs: 63\n",
            "scheduler: <torch.optim.lr_scheduler.ReduceLROnPlateau object at 0x7f50bec5ebf0>\n",
            "loss_name: Huber\n",
            "optimizer_name: Adam\n",
            "scheduler_name: ReduceLROnPlateau\n",
            "n_units: [1777, 1608, 1516]\n",
            "n_layers: 3\n",
            "hidden_activation: LeakyReLU(negative_slope=0.01)\n",
            "output_activation: Identity()\n"
          ]
        }
      ],
      "source": [
        "print(\"loss_fn:\", loss_fn)\n",
        "print(\"batch_size:\", batch_size)\n",
        "print(\"n_epochs:\", n_epochs)\n",
        "print(\"scheduler:\", scheduler)\n",
        "print(\"loss_name:\", loss_name)\n",
        "print(\"optimizer_name:\", optimizer_name)\n",
        "print(\"scheduler_name:\", scheduler_name)\n",
        "print(\"n_units:\", n_units)\n",
        "print(\"n_layers:\", n_layers)\n",
        "print(\"hidden_activation:\", hidden_activation)\n",
        "print(\"output_activation:\", output_activation)"
      ]
    },
    {
      "cell_type": "markdown",
      "metadata": {
        "id": "E7aLWdZyUZiW",
        "outputId": "8fb1e8c6-5aa3-43a1-a255-712cf9396d0c"
      },
      "source": [
        "After optimizing with Optuna and deciding on the best hyperparameters, we combine the training and validatin set, using that as the new training set for training the model, and then evaluate the model on the test set"
      ]
    },
    {
      "cell_type": "code",
      "execution_count": null,
      "metadata": {
        "colab": {
          "base_uri": "https://localhost:8080/"
        },
        "id": "ixkefwgPHN8i",
        "outputId": "4de162c4-6182-4ee3-8926-bf6c140377ca"
      },
      "outputs": [
        {
          "name": "stdout",
          "output_type": "stream",
          "text": [
            "Epoch 1/63.. Train loss: 3580.626.. Test loss: 527.145.. Train L1 norm: 15.684.. Test L1 norm: 3.349.. Train Linf norm: 864.944.. Test Linf norm: 182.502\n",
            "Epoch 2/63.. Train loss: 763.782.. Test loss: 462.555.. Train L1 norm: 3.074.. Test L1 norm: 2.120.. Train Linf norm: 122.788.. Test Linf norm: 87.009\n",
            "Epoch 3/63.. Train loss: 546.199.. Test loss: 657.481.. Train L1 norm: 1.611.. Test L1 norm: 1.616.. Train Linf norm: 54.440.. Test Linf norm: 74.312\n",
            "Epoch 4/63.. Train loss: 645.621.. Test loss: 484.112.. Train L1 norm: 1.660.. Test L1 norm: 1.052.. Train Linf norm: 80.161.. Test Linf norm: 19.841\n",
            "Epoch 5/63.. Train loss: 534.737.. Test loss: 528.254.. Train L1 norm: 1.060.. Test L1 norm: 0.983.. Train Linf norm: 39.216.. Test Linf norm: 20.643\n",
            "Epoch 6/63.. Train loss: 534.687.. Test loss: 475.131.. Train L1 norm: 1.334.. Test L1 norm: 1.911.. Train Linf norm: 62.623.. Test Linf norm: 103.459\n",
            "Epoch 7/63.. Train loss: 828.532.. Test loss: 677.533.. Train L1 norm: 2.853.. Test L1 norm: 1.861.. Train Linf norm: 151.483.. Test Linf norm: 77.868\n",
            "Epoch 8/63.. Train loss: 618.287.. Test loss: 941.122.. Train L1 norm: 2.055.. Test L1 norm: 3.664.. Train Linf norm: 78.107.. Test Linf norm: 199.784\n",
            "Epoch 9/63.. Train loss: 765.602.. Test loss: 470.834.. Train L1 norm: 3.505.. Test L1 norm: 1.722.. Train Linf norm: 156.975.. Test Linf norm: 102.637\n",
            "Epoch 10/63.. Train loss: 722.510.. Test loss: 464.284.. Train L1 norm: 2.609.. Test L1 norm: 1.459.. Train Linf norm: 141.450.. Test Linf norm: 70.269\n",
            "Epoch 11/63.. Train loss: 1276.798.. Test loss: 706.996.. Train L1 norm: 5.933.. Test L1 norm: 2.498.. Train Linf norm: 332.735.. Test Linf norm: 126.293\n",
            "Epoch 12/63.. Train loss: 813.758.. Test loss: 473.008.. Train L1 norm: 2.811.. Test L1 norm: 1.549.. Train Linf norm: 162.868.. Test Linf norm: 61.836\n",
            "Epoch 13/63.. Train loss: 682.111.. Test loss: 470.231.. Train L1 norm: 3.299.. Test L1 norm: 1.707.. Train Linf norm: 188.036.. Test Linf norm: 42.474\n",
            "Epoch 14/63.. Train loss: 745.652.. Test loss: 466.369.. Train L1 norm: 2.549.. Test L1 norm: 1.797.. Train Linf norm: 123.843.. Test Linf norm: 55.671\n",
            "Epoch 15/63.. Train loss: 647.732.. Test loss: 476.910.. Train L1 norm: 2.631.. Test L1 norm: 1.895.. Train Linf norm: 123.106.. Test Linf norm: 106.315\n",
            "Epoch 16/63.. Train loss: 551.986.. Test loss: 596.395.. Train L1 norm: 1.673.. Test L1 norm: 1.436.. Train Linf norm: 52.842.. Test Linf norm: 61.190\n",
            "Epoch 17/63.. Train loss: 545.738.. Test loss: 499.671.. Train L1 norm: 1.691.. Test L1 norm: 1.022.. Train Linf norm: 60.755.. Test Linf norm: 12.478\n",
            "Epoch 18/63.. Train loss: 583.236.. Test loss: 470.065.. Train L1 norm: 1.596.. Test L1 norm: 2.297.. Train Linf norm: 47.165.. Test Linf norm: 85.863\n",
            "Epoch 19/63.. Train loss: 549.689.. Test loss: 468.308.. Train L1 norm: 1.878.. Test L1 norm: 2.124.. Train Linf norm: 52.873.. Test Linf norm: 73.394\n",
            "Epoch 20/63.. Train loss: 561.822.. Test loss: 519.388.. Train L1 norm: 1.991.. Test L1 norm: 1.301.. Train Linf norm: 63.746.. Test Linf norm: 21.703\n",
            "Epoch 21/63.. Train loss: 577.510.. Test loss: 461.588.. Train L1 norm: 2.030.. Test L1 norm: 1.746.. Train Linf norm: 88.521.. Test Linf norm: 42.131\n",
            "Epoch 22/63.. Train loss: 592.245.. Test loss: 467.825.. Train L1 norm: 1.967.. Test L1 norm: 1.976.. Train Linf norm: 71.929.. Test Linf norm: 66.613\n",
            "Epoch 23/63.. Train loss: 673.705.. Test loss: 489.010.. Train L1 norm: 2.299.. Test L1 norm: 1.882.. Train Linf norm: 124.320.. Test Linf norm: 73.341\n",
            "Epoch 24/63.. Train loss: 579.305.. Test loss: 468.205.. Train L1 norm: 1.934.. Test L1 norm: 2.633.. Train Linf norm: 62.981.. Test Linf norm: 100.974\n",
            "Epoch 25/63.. Train loss: 577.033.. Test loss: 584.763.. Train L1 norm: 1.988.. Test L1 norm: 2.670.. Train Linf norm: 72.687.. Test Linf norm: 226.983\n",
            "Epoch 26/63.. Train loss: 716.509.. Test loss: 563.384.. Train L1 norm: 3.904.. Test L1 norm: 4.797.. Train Linf norm: 197.843.. Test Linf norm: 208.810\n",
            "Epoch 27/63.. Train loss: 790.420.. Test loss: 561.372.. Train L1 norm: 3.767.. Test L1 norm: 5.240.. Train Linf norm: 173.552.. Test Linf norm: 238.967\n",
            "Epoch 28/63.. Train loss: 731.263.. Test loss: 470.575.. Train L1 norm: 3.153.. Test L1 norm: 2.550.. Train Linf norm: 148.864.. Test Linf norm: 115.114\n",
            "Epoch 29/63.. Train loss: 851.532.. Test loss: 485.738.. Train L1 norm: 5.100.. Test L1 norm: 4.097.. Train Linf norm: 521.287.. Test Linf norm: 514.486\n",
            "Epoch 30/63.. Train loss: 786.245.. Test loss: 507.459.. Train L1 norm: 4.723.. Test L1 norm: 3.804.. Train Linf norm: 378.673.. Test Linf norm: 215.488\n",
            "Epoch 31/63.. Train loss: 775.595.. Test loss: 575.439.. Train L1 norm: 3.322.. Test L1 norm: 4.630.. Train Linf norm: 281.079.. Test Linf norm: 226.702\n",
            "Epoch 32/63.. Train loss: 666.549.. Test loss: 473.496.. Train L1 norm: 2.574.. Test L1 norm: 2.283.. Train Linf norm: 163.646.. Test Linf norm: 215.906\n",
            "Epoch 33/63.. Train loss: 876.435.. Test loss: 523.810.. Train L1 norm: 4.456.. Test L1 norm: 1.777.. Train Linf norm: 477.390.. Test Linf norm: 137.717\n",
            "Epoch 34/63.. Train loss: 839.483.. Test loss: 539.608.. Train L1 norm: 4.158.. Test L1 norm: 3.927.. Train Linf norm: 265.418.. Test Linf norm: 1333.373\n",
            "Epoch 35/63.. Train loss: 1596.569.. Test loss: 565.319.. Train L1 norm: 8.343.. Test L1 norm: 3.996.. Train Linf norm: 1138.776.. Test Linf norm: 312.739\n",
            "Epoch 36/63.. Train loss: 1781.193.. Test loss: 523.266.. Train L1 norm: 8.739.. Test L1 norm: 2.133.. Train Linf norm: 580.124.. Test Linf norm: 186.698\n",
            "Epoch 37/63.. Train loss: 1752.932.. Test loss: 469.344.. Train L1 norm: 7.227.. Test L1 norm: 3.106.. Train Linf norm: 576.440.. Test Linf norm: 257.570\n",
            "Epoch 38/63.. Train loss: 1052.223.. Test loss: 875.071.. Train L1 norm: 5.085.. Test L1 norm: 2.568.. Train Linf norm: 388.038.. Test Linf norm: 344.704\n",
            "Epoch 39/63.. Train loss: 1401.262.. Test loss: 478.276.. Train L1 norm: 7.219.. Test L1 norm: 2.360.. Train Linf norm: 795.795.. Test Linf norm: 108.342\n",
            "Epoch 40/63.. Train loss: 1760.064.. Test loss: 667.807.. Train L1 norm: 5.938.. Test L1 norm: 3.249.. Train Linf norm: 461.640.. Test Linf norm: 128.696\n",
            "Epoch 41/63.. Train loss: 5558.444.. Test loss: 5208.857.. Train L1 norm: 28.148.. Test L1 norm: 26.977.. Train Linf norm: 1675.186.. Test Linf norm: 2188.502\n",
            "Epoch 42/63.. Train loss: 5871.428.. Test loss: 1083.383.. Train L1 norm: 30.457.. Test L1 norm: 10.182.. Train Linf norm: 1617.903.. Test Linf norm: 619.613\n",
            "Epoch 43/63.. Train loss: 5660.156.. Test loss: 2350.218.. Train L1 norm: 34.475.. Test L1 norm: 22.025.. Train Linf norm: 2284.809.. Test Linf norm: 1268.415\n",
            "Epoch 44/63.. Train loss: 3741.699.. Test loss: 1507.862.. Train L1 norm: 19.385.. Test L1 norm: 8.681.. Train Linf norm: 1519.162.. Test Linf norm: 1011.128\n",
            "Epoch 45/63.. Train loss: 1895.837.. Test loss: 488.798.. Train L1 norm: 8.363.. Test L1 norm: 2.139.. Train Linf norm: 798.581.. Test Linf norm: 283.367\n",
            "Epoch 46/63.. Train loss: 1167.699.. Test loss: 480.767.. Train L1 norm: 5.636.. Test L1 norm: 2.073.. Train Linf norm: 649.690.. Test Linf norm: 57.196\n",
            "Epoch 47/63.. Train loss: 1943.977.. Test loss: 6009.158.. Train L1 norm: 8.337.. Test L1 norm: 32.919.. Train Linf norm: 502.975.. Test Linf norm: 2589.209\n",
            "Epoch 48/63.. Train loss: 2501.503.. Test loss: 696.307.. Train L1 norm: 13.279.. Test L1 norm: 6.066.. Train Linf norm: 769.761.. Test Linf norm: 576.004\n",
            "Epoch 49/63.. Train loss: 2144.334.. Test loss: 572.723.. Train L1 norm: 9.740.. Test L1 norm: 4.004.. Train Linf norm: 732.288.. Test Linf norm: 227.753\n",
            "Epoch 50/63.. Train loss: 1371.644.. Test loss: 766.944.. Train L1 norm: 5.609.. Test L1 norm: 2.101.. Train Linf norm: 501.159.. Test Linf norm: 146.396\n",
            "Epoch 51/63.. Train loss: 1690.030.. Test loss: 1553.322.. Train L1 norm: 5.871.. Test L1 norm: 7.013.. Train Linf norm: 424.687.. Test Linf norm: 435.435\n",
            "Epoch 52/63.. Train loss: 2263.353.. Test loss: 456.604.. Train L1 norm: 9.827.. Test L1 norm: 2.463.. Train Linf norm: 743.965.. Test Linf norm: 48.799\n",
            "Epoch 53/63.. Train loss: 883.161.. Test loss: 1592.777.. Train L1 norm: 3.915.. Test L1 norm: 6.033.. Train Linf norm: 194.696.. Test Linf norm: 512.428\n",
            "Epoch 54/63.. Train loss: 2856.215.. Test loss: 1144.662.. Train L1 norm: 13.010.. Test L1 norm: 4.428.. Train Linf norm: 742.946.. Test Linf norm: 792.486\n",
            "Epoch 55/63.. Train loss: 1471.591.. Test loss: 572.388.. Train L1 norm: 8.000.. Test L1 norm: 2.188.. Train Linf norm: 630.001.. Test Linf norm: 105.760\n",
            "Epoch 56/63.. Train loss: 1502.581.. Test loss: 702.686.. Train L1 norm: 6.903.. Test L1 norm: 4.369.. Train Linf norm: 413.897.. Test Linf norm: 136.250\n",
            "Epoch 57/63.. Train loss: 1179.921.. Test loss: 4519.656.. Train L1 norm: 5.629.. Test L1 norm: 29.892.. Train Linf norm: 326.747.. Test Linf norm: 2281.128\n",
            "Epoch 58/63.. Train loss: 2178.047.. Test loss: 650.796.. Train L1 norm: 10.873.. Test L1 norm: 4.116.. Train Linf norm: 647.114.. Test Linf norm: 299.546\n",
            "Epoch 59/63.. Train loss: 2255.986.. Test loss: 581.582.. Train L1 norm: 9.217.. Test L1 norm: 3.220.. Train Linf norm: 762.699.. Test Linf norm: 294.242\n",
            "Epoch 60/63.. Train loss: 1087.628.. Test loss: 483.467.. Train L1 norm: 4.498.. Test L1 norm: 4.724.. Train Linf norm: 234.472.. Test Linf norm: 206.614\n",
            "Epoch 61/63.. Train loss: 1652.063.. Test loss: 1102.601.. Train L1 norm: 6.651.. Test L1 norm: 3.514.. Train Linf norm: 444.375.. Test Linf norm: 305.284\n",
            "Epoch 62/63.. Train loss: 690.824.. Test loss: 1722.148.. Train L1 norm: 3.160.. Test L1 norm: 7.371.. Train Linf norm: 117.816.. Test Linf norm: 565.078\n",
            "Epoch 63/63.. Train loss: 2082.932.. Test loss: 694.150.. Train L1 norm: 7.533.. Test L1 norm: 5.922.. Train Linf norm: 573.262.. Test Linf norm: 333.401\n"
          ]
        }
      ],
      "source": [
        "x_train_val = torch.cat((x_train, x_val), 0)\n",
        "y_train_val = torch.cat((y_train, y_val), 0)\n",
        "\n",
        "train_val_loader = torch.utils.data.DataLoader(\n",
        "    torch.utils.data.TensorDataset(x_train_val, y_train_val), batch_size=batch_size, shuffle=True\n",
        ")\n",
        "test_loader = torch.utils.data.DataLoader(\n",
        "    torch.utils.data.TensorDataset(x_test, y_test), batch_size=batch_size\n",
        ")\n",
        "\n",
        "train_losses, _, test_losses, train_metrics, _, test_metrics, = train_and_eval(\n",
        "    net, loss_fn, optimizer, batch_size, n_epochs, scheduler, train_val_loader, None, test_loader, None\n",
        ")"
      ]
    },
    {
      "cell_type": "markdown",
      "metadata": {
        "id": "akNucrgMUZiW"
      },
      "source": [
        "## Saving"
      ]
    },
    {
      "cell_type": "code",
      "execution_count": null,
      "metadata": {
        "id": "LHsrs2Y-UZic"
      },
      "outputs": [],
      "source": [
        "import json\n",
        "\n",
        "# save the network to a .pth file\n",
        "torch.save(net.state_dict(), \"net.pth\")\n",
        "save_file(\"net.pth\")\n",
        "\n",
        "# save the optimizer to a .pth file\n",
        "torch.save(optimizer.state_dict(), \"optimizer.pth\")\n",
        "save_file(\"optimizer.pth\")\n",
        "\n",
        "# save the scheduler to a .pth file if it is not None\n",
        "if scheduler is not None:\n",
        "  torch.save(scheduler.state_dict(), \"scheduler.pth\")\n",
        "  save_file(\"scheduler.pth\")\n",
        "\n",
        "# create a dictionary to store the rest of the variables\n",
        "var_dict = {\n",
        "  \"batch_size\": batch_size,\n",
        "  \"n_epochs\": n_epochs,\n",
        "  \"loss_name\": loss_name,\n",
        "  \"optimizer_name\": optimizer_name,\n",
        "  \"scheduler_name\": scheduler_name,\n",
        "  \"n_units\": n_units,\n",
        "  \"n_layers\": n_layers,\n",
        "  \"hidden_activation_name\": hidden_activation.__class__.__name__,\n",
        "  \"output_activation_name\": output_activation.__class__.__name__,\n",
        "  \"lr\": lr,\n",
        "}\n",
        "\n",
        "# save the dictionary to a .json file\n",
        "with open(\"var_dict.json\", \"w\") as f:\n",
        "  json.dump(var_dict, f)\n",
        "save_file(\"var_dict.json\")\n",
        "\n",
        "# Saving the output of the training using pandas\n",
        "train_df = pd.DataFrame(\n",
        "    {\n",
        "        \"train_loss\": train_losses,\n",
        "        \"test_loss\": test_losses,\n",
        "        \"train_l1_norm\": [m[\"l1_norm\"] for m in train_metrics],\n",
        "        \"test_l1_norm\": [m[\"l1_norm\"] for m in test_metrics],\n",
        "        \"train_linf_norm\": [m[\"linf_norm\"] for m in train_metrics],\n",
        "        \"test_linf_norm\": [m[\"linf_norm\"] for m in test_metrics],\n",
        "    }\n",
        ")\n",
        "train_df.to_csv(\"train_output.csv\", index=False)\n",
        "save_file(\"train_output.csv\")\n"
      ]
    },
    {
      "cell_type": "markdown",
      "metadata": {
        "id": "qU23l7dIUZie"
      },
      "source": [
        "## Visualizing the results"
      ]
    },
    {
      "cell_type": "code",
      "execution_count": null,
      "metadata": {
        "colab": {
          "base_uri": "https://localhost:8080/",
          "height": 1000
        },
        "id": "cippWZS6UZie",
        "outputId": "dc0d5422-e72b-43c6-8ac9-1c07169a5838"
      },
      "outputs": [
        {
          "data": {
            "text/plain": [
              "<Figure size 1200x800 with 0 Axes>"
            ]
          },
          "execution_count": 43,
          "metadata": {},
          "output_type": "execute_result"
        },
        {
          "data": {
            "text/plain": [
              "<Axes: >"
            ]
          },
          "execution_count": 43,
          "metadata": {},
          "output_type": "execute_result"
        },
        {
          "data": {
            "text/plain": [
              "[<matplotlib.lines.Line2D at 0x7f50bec5e8f0>]"
            ]
          },
          "execution_count": 43,
          "metadata": {},
          "output_type": "execute_result"
        },
        {
          "data": {
            "text/plain": [
              "[<matplotlib.lines.Line2D at 0x7f50d06d7a60>]"
            ]
          },
          "execution_count": 43,
          "metadata": {},
          "output_type": "execute_result"
        },
        {
          "data": {
            "text/plain": [
              "Text(0.5, 0, 'Epoch')"
            ]
          },
          "execution_count": 43,
          "metadata": {},
          "output_type": "execute_result"
        },
        {
          "data": {
            "text/plain": [
              "Text(0, 0.5, 'L1 Norm')"
            ]
          },
          "execution_count": 43,
          "metadata": {},
          "output_type": "execute_result"
        },
        {
          "data": {
            "text/plain": [
              "(0.001, 100.0)"
            ]
          },
          "execution_count": 43,
          "metadata": {},
          "output_type": "execute_result"
        },
        {
          "data": {
            "text/plain": [
              "<matplotlib.legend.Legend at 0x7f50beb3cfd0>"
            ]
          },
          "execution_count": 43,
          "metadata": {},
          "output_type": "execute_result"
        },
        {
          "data": {
            "text/plain": [
              "<Axes: >"
            ]
          },
          "execution_count": 43,
          "metadata": {},
          "output_type": "execute_result"
        },
        {
          "data": {
            "text/plain": [
              "[<matplotlib.lines.Line2D at 0x7f50d0599840>]"
            ]
          },
          "execution_count": 43,
          "metadata": {},
          "output_type": "execute_result"
        },
        {
          "data": {
            "text/plain": [
              "[<matplotlib.lines.Line2D at 0x7f50d0598310>]"
            ]
          },
          "execution_count": 43,
          "metadata": {},
          "output_type": "execute_result"
        },
        {
          "data": {
            "text/plain": [
              "Text(0.5, 0, 'Epoch')"
            ]
          },
          "execution_count": 43,
          "metadata": {},
          "output_type": "execute_result"
        },
        {
          "data": {
            "text/plain": [
              "Text(0, 0.5, 'Linf Norm')"
            ]
          },
          "execution_count": 43,
          "metadata": {},
          "output_type": "execute_result"
        },
        {
          "data": {
            "text/plain": [
              "(0.001, 100.0)"
            ]
          },
          "execution_count": 43,
          "metadata": {},
          "output_type": "execute_result"
        },
        {
          "data": {
            "text/plain": [
              "<matplotlib.legend.Legend at 0x7f50bec5eb00>"
            ]
          },
          "execution_count": 43,
          "metadata": {},
          "output_type": "execute_result"
        },
        {
          "data": {
            "image/png": "[encoded data removed]",
            "text/plain": [
              "<Figure size 1200x800 with 2 Axes>"
            ]
          },
          "metadata": {},
          "output_type": "display_data"
        },
        {
          "data": {
            "text/plain": [
              "<Figure size 800x600 with 0 Axes>"
            ]
          },
          "execution_count": 43,
          "metadata": {},
          "output_type": "execute_result"
        },
        {
          "data": {
            "text/plain": [
              "[<matplotlib.lines.Line2D at 0x7f50be405750>]"
            ]
          },
          "execution_count": 43,
          "metadata": {},
          "output_type": "execute_result"
        },
        {
          "data": {
            "text/plain": [
              "[<matplotlib.lines.Line2D at 0x7f50be405d20>]"
            ]
          },
          "execution_count": 43,
          "metadata": {},
          "output_type": "execute_result"
        },
        {
          "data": {
            "text/plain": [
              "Text(0.5, 0, 'Epoch')"
            ]
          },
          "execution_count": 43,
          "metadata": {},
          "output_type": "execute_result"
        },
        {
          "data": {
            "text/plain": [
              "Text(0, 0.5, 'Huber Loss')"
            ]
          },
          "execution_count": 43,
          "metadata": {},
          "output_type": "execute_result"
        },
        {
          "data": {
            "text/plain": [
              "(1e-07, 1.0)"
            ]
          },
          "execution_count": 43,
          "metadata": {},
          "output_type": "execute_result"
        },
        {
          "data": {
            "text/plain": [
              "<matplotlib.legend.Legend at 0x7f50be405210>"
            ]
          },
          "execution_count": 43,
          "metadata": {},
          "output_type": "execute_result"
        },
        {
          "data": {
            "image/png": "[encoded data removed]",
            "text/plain": [
              "<Figure size 800x600 with 1 Axes>"
            ]
          },
          "metadata": {},
          "output_type": "display_data"
        }
      ],
      "source": [
        "# Plotting the losses and metrics for the best network \n",
        "plt.figure(figsize=(12, 8))\n",
        "#plt.subplot(2, 2, 1)\n",
        "#plt.plot(train_losses, label=\"Train Loss\")\n",
        "#plt.plot(test_losses, label=\"Test Loss\")\n",
        "#plt.xlabel(\"Epoch\")\n",
        "#plt.ylabel(\"Loss\")\n",
        "#plt.legend()\n",
        "plt.subplot(2, 2, 2)\n",
        "plt.plot([m[\"l1_norm\"] for m in train_metrics], label=\"Train L1 Norm\")\n",
        "plt.plot([m[\"l1_norm\"] for m in test_metrics], label=\"Test L1 Norm\")\n",
        "plt.xlabel(\"Epoch\")\n",
        "plt.ylabel(\"L1 Norm\")\n",
        "# Added setting the vertical axis to be in powers of 10\n",
        "plt.yscale(\"log\")\n",
        "# Added setting the vertical axis limits to be from 10^-7 to 10^0\n",
        "plt.ylim(1e-3, 1e2)\n",
        "plt.legend()\n",
        "plt.subplot(2, 2, 3)\n",
        "plt.plot([m[\"linf_norm\"] for m in train_metrics], label=\"Train Linf Norm\")\n",
        "plt.plot([m[\"linf_norm\"] for m in test_metrics], label=\"Test Linf Norm\")\n",
        "plt.xlabel(\"Epoch\")\n",
        "plt.ylabel(\"Linf Norm\")\n",
        "# Added setting the vertical axis to be in powers of 10\n",
        "plt.yscale(\"log\")\n",
        "# Added setting the vertical axis limits to be from 10^-7 to 10^0\n",
        "plt.ylim(1e-3, 1e2)\n",
        "plt.legend()\n",
        "plt.tight_layout()\n",
        "plt.show()\n",
        "\n",
        "# Added plotting MSE of training data and MSE of test data in one plot \n",
        "plt.figure(figsize=(8, 6))\n",
        "plt.plot(train_losses,label=\"training data\")\n",
        "plt.plot(test_losses,label=\"test data\")\n",
        "#if scheduler is not None:\n",
        "#    plt.plot([scheduler.get_last_lr()[0] for _ in range(n_epochs)], label=\"Learning rate\") \n",
        "plt.xlabel(\"Epoch\")\n",
        "plt.ylabel(f\"{loss_name} Loss\")\n",
        "# Added setting the vertical axis to be in powers of 10\n",
        "plt.yscale(\"log\")\n",
        "# Added setting the vertical axis limits to be from 10^-7 to 10^0\n",
        "plt.ylim(1e-7, 1e0)\n",
        "plt.legend()\n",
        "plt.show()"
      ]
    },
    {
      "cell_type": "markdown",
      "metadata": {
        "id": "tiEDutxIUZig"
      },
      "source": [
        "## Loading"
      ]
    },
    {
      "cell_type": "code",
      "execution_count": null,
      "metadata": {
        "colab": {
          "base_uri": "https://localhost:8080/"
        },
        "id": "p7Mj990wUZih",
        "outputId": "2ee1c501-614c-4b6a-9b83-2e519571734c"
      },
      "outputs": [
        {
          "data": {
            "text/plain": [
              "<All keys matched successfully>"
            ]
          },
          "execution_count": 44,
          "metadata": {},
          "output_type": "execute_result"
        }
      ],
      "source": [
        "import json\n",
        "import pandas as pd\n",
        "\n",
        "# load the dictionary from the .json file\n",
        "with open(\"var_dict.json\", \"r\") as f:\n",
        "  var_dict_loaded = json.load(f)\n",
        "\n",
        "# extract the variables from the dictionary\n",
        "batch_size_loaded = var_dict_loaded[\"batch_size\"]\n",
        "n_epochs_loaded = var_dict_loaded[\"n_epochs\"]\n",
        "loss_name_loaded = var_dict_loaded[\"loss_name\"]\n",
        "optimizer_name_loaded = var_dict_loaded[\"optimizer_name\"]\n",
        "scheduler_name_loaded = var_dict_loaded[\"scheduler_name\"]\n",
        "n_units_loaded = var_dict_loaded[\"n_units\"]\n",
        "n_layers_loaded = var_dict_loaded[\"n_layers\"]\n",
        "hidden_activation_name_loaded = var_dict_loaded[\"hidden_activation_name\"]\n",
        "output_activation_name_loaded = var_dict_loaded[\"output_activation_name\"]\n",
        "lr_loaded = var_dict_loaded[\"lr\"]\n",
        "\n",
        "# create the activation functions from their names\n",
        "if hidden_activation_name_loaded == \"ReLU\":\n",
        "  hidden_activation_loaded = nn.ReLU()\n",
        "elif hidden_activation_name_loaded == \"LeakyReLU\":\n",
        "  hidden_activation_loaded = nn.LeakyReLU() \n",
        "elif hidden_activation_name_loaded == \"ELU\":\n",
        "  hidden_activation_loaded = nn.ELU() \n",
        "\n",
        "# We used to have options here, but since we have a regression problem with continuous output, we only use Linear.\n",
        "output_activation_loaded = nn.Identity()\n",
        "\n",
        "# load the network from the .pth file\n",
        "net_loaded = Net(n_layers_loaded, n_units_loaded, hidden_activation_loaded, output_activation_loaded).to(device)\n",
        "if torch.cuda.is_available():\n",
        " net_loaded.load_state_dict(torch.load(\"net.pth\"))\n",
        "else: \n",
        "  net_loaded.load_state_dict(torch.load(\"net.pth\", map_location=torch.device('cpu')))\n",
        "\n",
        "\n",
        "# Creating the loss function from its name\n",
        "if loss_name_loaded == \"MSE\":\n",
        "    loss_fn_loaded = nn.MSELoss()\n",
        "elif loss_name_loaded == \"MAE\":\n",
        "    loss_fn_loaded = nn.L1Loss()\n",
        "elif loss_name_loaded == \"Huber\":\n",
        "    loss_fn_loaded = nn.SmoothL1Loss() \n",
        "elif loss_name_loaded == \"Quantile\":\n",
        "    def quantile_loss(y_pred, y_true, q=0.5):\n",
        "        e = y_pred - y_true\n",
        "        return torch.mean(torch.max(q*e, (q-1)*e))\n",
        "    loss_fn_loaded = quantile_loss\n",
        "else:\n",
        "    def log_cosh_loss(y_pred, y_true):\n",
        "        return torch.mean(torch.log(torch.cosh(y_pred - y_true)))\n",
        "    loss_fn_loaded = log_cosh_loss\n",
        "\n",
        "# load the optimizer from the .pth file\n",
        "if torch.cuda.is_available():\n",
        "  optimizer_loaded_state_dict = torch.load(\"optimizer.pth\")\n",
        "else:\n",
        "  optimizer_loaded_state_dict = torch.load(\"optimizer.pth\", map_location=torch.device('cpu'))\n",
        "\n",
        "if optimizer_name_loaded == \"SGD\":\n",
        "  # Added getting the weight decay and momentum parameters from the state dict\n",
        "  weight_decay_loaded = optimizer_loaded_state_dict[\"param_groups\"][0][\"weight_decay\"]\n",
        "  momentum_loaded = optimizer_loaded_state_dict[\"param_groups\"][0][\"momentum\"]\n",
        "  optimizer_loaded = optim.SGD(net_loaded.parameters(), lr=lr_loaded, weight_decay=weight_decay_loaded, momentum=momentum_loaded)\n",
        "elif optimizer_name_loaded == \"Adam\":\n",
        "  # Added getting the weight decay and beta parameters from the state dict\n",
        "  weight_decay_loaded = optimizer_loaded_state_dict[\"param_groups\"][0][\"weight_decay\"]\n",
        "  beta1_loaded = optimizer_loaded_state_dict[\"param_groups\"][0][\"betas\"][0]\n",
        "  beta2_loaded = optimizer_loaded_state_dict[\"param_groups\"][0][\"betas\"][1]\n",
        "  optimizer_loaded = optim.Adam(net_loaded.parameters(), lr=lr_loaded, weight_decay=weight_decay_loaded, betas=(beta1_loaded, beta2_loaded))\n",
        "elif optimizer_name_loaded == \"RMSprop\":\n",
        "  optimizer_loaded = optim.RMSprop(net_loaded.parameters(), lr=lr_loaded)\n",
        "else:\n",
        "  # Added loading the Adagrad optimizer\n",
        "  optimizer_loaded = optim.Adagrad(net_loaded.parameters(), lr=lr_loaded)\n",
        "optimizer_loaded.load_state_dict(optimizer_loaded_state_dict)\n",
        "\n",
        "# load the scheduler from the .pth file\n",
        "if torch.cuda.is_available():\n",
        "  scheduler_loaded_state_dict = torch.load(\"scheduler.pth\")\n",
        "else: \n",
        "  scheduler_loaded_state_dict = torch.load(\"scheduler.pth\", map_location=torch.device('cpu'))\n",
        "\n",
        "if scheduler_name_loaded == \"StepLR\":\n",
        "  # Added getting the step_size and gamma parameters from the state dict\n",
        "  step_size_loaded = scheduler_loaded_state_dict[\"step_size\"]\n",
        "  gamma_loaded = scheduler_loaded_state_dict[\"gamma\"]\n",
        "  scheduler_loaded = optim.lr_scheduler.StepLR(optimizer_loaded, step_size=step_size_loaded, gamma=gamma_loaded)\n",
        "elif scheduler_name_loaded == \"ExponentialLR\":\n",
        "  # Added getting the gamma parameter from the state dict\n",
        "  gamma_loaded = scheduler_loaded_state_dict[\"gamma\"]\n",
        "  scheduler_loaded = optim.lr_scheduler.ExponentialLR(optimizer_loaded, gamma=gamma_loaded)\n",
        "elif scheduler_name_loaded == \"CosineAnnealingLR\":\n",
        "  # Added getting the T_max parameter from the state dict\n",
        "  T_max_loaded = scheduler_loaded_state_dict[\"T_max\"]\n",
        "  scheduler_loaded = optim.lr_scheduler.CosineAnnealingLR(optimizer_loaded, T_max=T_max_loaded)\n",
        "elif scheduler_name_loaded == \"ReduceLROnPlateau\":\n",
        "  # Added getting the mode, factor, patience, threshold and min_lr parameters from the state dict\n",
        "  mode_loaded = scheduler_loaded_state_dict[\"mode\"]\n",
        "  factor_loaded = scheduler_loaded_state_dict[\"factor\"]\n",
        "  patience_loaded = scheduler_loaded_state_dict[\"patience\"]\n",
        "  threshold_loaded = scheduler_loaded_state_dict[\"threshold\"]\n",
        "  # TODO: I had [0] after [\"min_lrs\"] here, but I reason it to be a typo, as none of the other subparameters have it. Verify that this was indeed a typo.\n",
        "  min_lr_loaded = scheduler_loaded_state_dict[\"min_lrs\"]\n",
        "  scheduler_loaded = optim.lr_scheduler.ReduceLROnPlateau(\n",
        "                    optimizer_loaded, mode=mode_loaded, factor=factor_loaded, patience=patience_loaded, threshold=threshold_loaded, min_lr=min_lr_loaded\n",
        "                )\n",
        "elif scheduler_name_loaded == \"CyclicLR\":  # Added CyclicLR\n",
        "    base_lr_loaded = scheduler_loaded_state_dict[\"base_lr\"]\n",
        "    max_lr_loaded = scheduler_loaded_state_dict[\"max_lr\"]\n",
        "    step_size_up_loaded = scheduler_loaded_state_dict[\"step_size_up\"]\n",
        "    scheduler_loaded = optim.lr_scheduler.CyclicLR(\n",
        "                    optimizer, base_lr=base_lr_loaded, max_lr=max_lr_loaded, step_size_up=step_size_up_loaded\n",
        "                )\n",
        "else:\n",
        "  scheduler_loaded = None\n",
        "\n",
        "if scheduler_loaded is not None:\n",
        "  # Added loading the state dict to the scheduler_loaded\n",
        "  scheduler_loaded.load_state_dict(scheduler_loaded_state_dict)\n",
        "\n",
        "# Loading the output of the training using pandas\n",
        "train_df_loaded = pd.read_csv(\"train_output.csv\")\n",
        "train_losses_loaded = train_df_loaded[\"train_loss\"].tolist()\n",
        "test_losses_loaded = train_df_loaded[\"test_loss\"].tolist()\n",
        "train_metrics_loaded = [\n",
        "    {\n",
        "        \"l1_norm\": train_df_loaded[\"train_l1_norm\"][i],\n",
        "        \"linf_norm\": train_df_loaded[\"train_linf_norm\"][i],\n",
        "    }\n",
        "    for i in range(len(train_df_loaded))\n",
        "]\n",
        "test_metrics_loaded = [\n",
        "    {\n",
        "        \"l1_norm\": train_df_loaded[\"test_l1_norm\"][i],\n",
        "        \"linf_norm\": train_df_loaded[\"test_linf_norm\"][i],\n",
        "    }\n",
        "    for i in range(len(train_df_loaded))\n",
        "]"
      ]
    },
    {
      "cell_type": "code",
      "execution_count": null,
      "metadata": {
        "colab": {
          "base_uri": "https://localhost:8080/"
        },
        "id": "GQ_fcj7zUZii",
        "outputId": "a6604f95-e350-465e-f827-c1423987c657"
      },
      "outputs": [
        {
          "name": "stdout",
          "output_type": "stream",
          "text": [
            "skipping\n"
          ]
        }
      ],
      "source": [
        "%%script echo skipping\n",
        "\n",
        "batch_size_loaded\n",
        "n_epochs_loaded\n",
        "loss_name_loaded\n",
        "optimizer_name_loaded\n",
        "scheduler_name_loaded\n",
        "n_units_loaded\n",
        "n_layers_loaded\n",
        "hidden_activation_name_loaded\n",
        "output_activation_name_loaded\n",
        "lr_loaded\n",
        "hidden_activation_loaded\n",
        "output_activation_loaded\n",
        "net_loaded\n",
        "net_loaded.__dict__ # print the subparameters of the network\n",
        "loss_fn_loaded\n",
        "optimizer_loaded\n",
        "optimizer_loaded.__dict__ # print the subparameters of the optimizer\n",
        "scheduler_loaded\n",
        "scheduler_loaded.__dict__ # print the subparameters of the scheduler\n",
        "train_losses_loaded\n",
        "test_losses_loaded\n",
        "train_metrics_loaded\n",
        "test_metrics_loaded"
      ]
    },
    {
      "cell_type": "code",
      "execution_count": null,
      "metadata": {
        "colab": {
          "base_uri": "https://localhost:8080/"
        },
        "id": "DTePHnUsHN8m",
        "outputId": "6779f0a0-ffa5-4283-d9a0-5ce555bfda20"
      },
      "outputs": [
        {
          "data": {
            "text/plain": [
              "2082.932010644531"
            ]
          },
          "execution_count": 46,
          "metadata": {},
          "output_type": "execute_result"
        },
        {
          "data": {
            "text/plain": [
              "694.1495575683593"
            ]
          },
          "execution_count": 46,
          "metadata": {},
          "output_type": "execute_result"
        },
        {
          "data": {
            "text/plain": [
              "5.922181587982178"
            ]
          },
          "execution_count": 46,
          "metadata": {},
          "output_type": "execute_result"
        },
        {
          "data": {
            "text/plain": [
              "333.4009383605957"
            ]
          },
          "execution_count": 46,
          "metadata": {},
          "output_type": "execute_result"
        }
      ],
      "source": [
        "train_losses_loaded[-1]\n",
        "test_losses_loaded[-1]\n",
        "test_metrics_loaded[-1]['l1_norm']\n",
        "test_metrics_loaded[-1]['linf_norm']\n",
        "# print(f'Error is {test_metrics_loaded[-1][\"l1_norm\"] / (3.84e-4)} times bigger than in Dieselhorst et al.')\n",
        "# print(f'Error is {test_metrics_loaded[-1][\"linf_norm\"] / (8.14e-3)} times bigger than in Dieselhorst et al.')"
      ]
    },
    {
      "cell_type": "markdown",
      "metadata": {
        "id": "2gGUowqJHN8m"
      },
      "source": [
        "### Visualize loaded results"
      ]
    },
    {
      "cell_type": "markdown",
      "metadata": {
        "id": "vwLGR1aSUZik"
      },
      "source": [
        "Let us verify correct loading of the train and test metrics by visualizing them again but now through the loaded values. Likewise for the train and test losses."
      ]
    },
    {
      "cell_type": "code",
      "execution_count": null,
      "metadata": {
        "id": "sXiNgLsmUZil"
      },
      "outputs": [],
      "source": [
        "%config InteractiveShell.ast_node_interactivity = \"last_expr_or_assign\""
      ]
    },
    {
      "cell_type": "code",
      "execution_count": null,
      "metadata": {
        "colab": {
          "base_uri": "https://localhost:8080/",
          "height": 1000
        },
        "id": "sgq4WfSiUZil",
        "outputId": "97463909-f799-472f-de45-7fcb2efd09c9"
      },
      "outputs": [
        {
          "data": {
            "image/png": "[encoded data removed]",
            "text/plain": [
              "<Figure size 640x480 with 2 Axes>"
            ]
          },
          "metadata": {},
          "output_type": "display_data"
        },
        {
          "data": {
            "image/png": "[encoded data removed]",
            "text/plain": [
              "<Figure size 800x600 with 1 Axes>"
            ]
          },
          "metadata": {},
          "output_type": "display_data"
        }
      ],
      "source": [
        "# Plotting the losses and metrics for the best network plt.figure(figsize=(12, \n",
        "#plt.subplot(2, 2, 1)\n",
        "#plt.plot(train_losses_loaded, label=\"Train Loss\")\n",
        "#plt.plot(test_losses_loaded, label=\"Test Loss\")\n",
        "#plt.xlabel(\"Epoch\")\n",
        "#plt.ylabel(\"Loss\")\n",
        "#plt.legend()\n",
        "plt.subplot(2, 2, 2)\n",
        "plt.plot([m[\"l1_norm\"] for m in train_metrics_loaded], label=\"Train L1 Norm\")\n",
        "plt.plot([m[\"l1_norm\"] for m in test_metrics_loaded], label=\"Test L1 Norm\")\n",
        "plt.xlabel(\"Epoch\")\n",
        "plt.ylabel(\"L1 Norm\")\n",
        "# Added setting the vertical axis to be in powers of 10\n",
        "plt.yscale(\"log\")\n",
        "# Added setting the vertical axis limits to be from 10^-7 to 10^0\n",
        "plt.ylim(1e-3, 1e2)\n",
        "plt.legend()\n",
        "plt.subplot(2, 2, 3)\n",
        "plt.plot([m[\"linf_norm\"] for m in train_metrics_loaded], label=\"Train Linf Norm\")\n",
        "plt.plot([m[\"linf_norm\"] for m in test_metrics_loaded], label=\"Test Linf Norm\")\n",
        "plt.xlabel(\"Epoch\")\n",
        "plt.ylabel(\"Linf Norm\")\n",
        "# Added setting the vertical axis to be in powers of 10\n",
        "plt.yscale(\"log\")\n",
        "# Added setting the vertical axis limits to be from 10^-7 to 10^0\n",
        "plt.ylim(1e-3, 1e2)\n",
        "plt.legend()\n",
        "plt.tight_layout()\n",
        "plt.show()\n",
        "\n",
        "# Added plotting MSE of training data and MSE of test data in one plot \n",
        "plt.figure(figsize=(8, 6))\n",
        "plt.plot(train_losses_loaded,label=\"training data\")\n",
        "plt.plot(test_losses_loaded,label=\"test data\")\n",
        "#if scheduler is not None:\n",
        "#    plt.plot([scheduler.get_last_lr()[0] for _ in range(n_epochs)], label=\"Learning rate\") \n",
        "plt.xlabel(\"Epoch\")\n",
        "plt.ylabel(f\"{loss_name_loaded} Loss\")\n",
        "# Added setting the vertical axis to be in powers of 10\n",
        "plt.yscale(\"log\")\n",
        "# Added setting the vertical axis limits to be from 10^-7 to 10^0\n",
        "plt.ylim(1e-7, 1e0)\n",
        "plt.legend()\n",
        "plt.show()\n"
      ]
    },
    {
      "cell_type": "code",
      "execution_count": null,
      "metadata": {
        "id": "lkgLqJ_UUZim"
      },
      "outputs": [],
      "source": [
        "%config InteractiveShell.ast_node_interactivity = \"all\""
      ]
    },
    {
      "cell_type": "markdown",
      "metadata": {
        "id": "qcnvx5rHHN8o"
      },
      "source": [
        "## Counting the number of parameters in the network."
      ]
    },
    {
      "cell_type": "code",
      "execution_count": null,
      "metadata": {
        "colab": {
          "base_uri": "https://localhost:8080/"
        },
        "id": "RBJiOe5qHN8o",
        "outputId": "3de04938-bf89-41bd-e62a-493e705fc052"
      },
      "outputs": [
        {
          "data": {
            "text/plain": [
              "Net(\n",
              "  (hidden_activation): LeakyReLU(negative_slope=0.01)\n",
              "  (output_activation): Identity()\n",
              "  (layers): ModuleList(\n",
              "    (0): Linear(in_features=14, out_features=1777, bias=True)\n",
              "    (1): Linear(in_features=1777, out_features=1608, bias=True)\n",
              "    (2): Linear(in_features=1608, out_features=1516, bias=True)\n",
              "    (3): Linear(in_features=1516, out_features=1, bias=True)\n",
              "  )\n",
              ")"
            ]
          },
          "execution_count": 50,
          "metadata": {},
          "output_type": "execute_result"
        },
        {
          "name": "stdout",
          "output_type": "stream",
          "text": [
            "The model has 5326440 parameters.\n"
          ]
        }
      ],
      "source": [
        "net_loaded.eval()\n",
        "def count_parameters(model):\n",
        "    return sum(p.numel() for p in model.parameters() if p.requires_grad)\n",
        "print(f'The model has {count_parameters(net_loaded)} parameters.')"
      ]
    },
    {
      "cell_type": "markdown",
      "metadata": {
        "id": "SxuzVSnlUZin"
      },
      "source": [
        "## Evaluating the network on arbirary input\n",
        "### Comparing `net` and `net_loaded`\n",
        "\n",
        "We compare `net` and `net_loaded` to confirm correct loading of the network. Note that `net` is only available if we have trained the model in this session."
      ]
    },
    {
      "cell_type": "code",
      "execution_count": null,
      "metadata": {
        "colab": {
          "base_uri": "https://localhost:8080/"
        },
        "id": "nVioRwKRHN8p",
        "outputId": "b17831a6-03b7-4096-b6f4-6d21083e6b29"
      },
      "outputs": [
        {
          "data": {
            "text/plain": [
              "Net(\n",
              "  (hidden_activation): LeakyReLU(negative_slope=0.01)\n",
              "  (output_activation): Identity()\n",
              "  (layers): ModuleList(\n",
              "    (0): Linear(in_features=14, out_features=1777, bias=True)\n",
              "    (1): Linear(in_features=1777, out_features=1608, bias=True)\n",
              "    (2): Linear(in_features=1608, out_features=1516, bias=True)\n",
              "    (3): Linear(in_features=1516, out_features=1, bias=True)\n",
              "  )\n",
              ")"
            ]
          },
          "execution_count": 51,
          "metadata": {},
          "output_type": "execute_result"
        }
      ],
      "source": [
        "#%%script echo skipping\n",
        "\n",
        "# Set the network to evaluation mode\n",
        "net.eval()"
      ]
    },
    {
      "cell_type": "code",
      "execution_count": null,
      "metadata": {
        "colab": {
          "base_uri": "https://localhost:8080/"
        },
        "id": "uGpqe-apHN8p",
        "outputId": "47d3073d-c552-47dd-f5a5-3d739c482136"
      },
      "outputs": [
        {
          "data": {
            "text/plain": [
              "<bound method Module.eval of Net(\n",
              "  (hidden_activation): LeakyReLU(negative_slope=0.01)\n",
              "  (output_activation): Identity()\n",
              "  (layers): ModuleList(\n",
              "    (0): Linear(in_features=14, out_features=1777, bias=True)\n",
              "    (1): Linear(in_features=1777, out_features=1608, bias=True)\n",
              "    (2): Linear(in_features=1608, out_features=1516, bias=True)\n",
              "    (3): Linear(in_features=1516, out_features=1, bias=True)\n",
              "  )\n",
              ")>"
            ]
          },
          "execution_count": 52,
          "metadata": {},
          "output_type": "execute_result"
        }
      ],
      "source": [
        "# Set the network to evaluation mode\n",
        "net_loaded.eval"
      ]
    },
    {
      "cell_type": "code",
      "execution_count": null,
      "metadata": {
        "colab": {
          "base_uri": "https://localhost:8080/"
        },
        "id": "Cn0tldYLHN8p",
        "outputId": "2aeed771-10a5-4f01-86f3-a79578fe699a"
      },
      "outputs": [
        {
          "name": "stdout",
          "output_type": "stream",
          "text": [
            "Parameters are the same.\n",
            "Net device: cuda:0\n",
            "Net_loaded device: cuda:0\n"
          ]
        }
      ],
      "source": [
        "for p1, p2 in zip(net.parameters(), net_loaded.parameters()):\n",
        "    if p1.data.ne(p2.data).sum() > 0:\n",
        "        print(\"Parameters are NOT the same.\")\n",
        "        break\n",
        "else:\n",
        "    print(\"Parameters are the same.\")\n",
        "\n",
        "print(\"Net device:\", next(net.parameters()).device)\n",
        "print(\"Net_loaded device:\", next(net_loaded.parameters()).device)"
      ]
    },
    {
      "cell_type": "code",
      "execution_count": null,
      "metadata": {
        "colab": {
          "base_uri": "https://localhost:8080/"
        },
        "id": "C0PLAA0DUZin",
        "outputId": "0dfe7f4b-1301-49b8-81c5-f0df78207302"
      },
      "outputs": [
        {
          "name": "stdout",
          "output_type": "stream",
          "text": [
            "[Parameter containing:\n",
            "tensor([[-5.8771e-01, -5.4785e-02, -1.2258e-01,  ..., -2.1863e-01,\n",
            "         -7.9324e-04, -2.1685e-01],\n",
            "        [ 1.3346e-02, -1.9750e-01, -9.8093e-02,  ...,  2.7051e-02,\n",
            "         -2.7816e-03,  2.6150e-02],\n",
            "        [-4.8651e-01, -7.1394e-03, -3.3661e-01,  ..., -6.3801e-01,\n",
            "         -7.3827e-03, -6.4098e-01],\n",
            "        ...,\n",
            "        [-3.2399e-01, -6.6832e-02, -1.6319e-01,  ..., -1.0097e-01,\n",
            "         -5.3719e-05, -1.0059e-01],\n",
            "        [-4.0479e-01, -7.6213e-02, -1.1219e-01,  ..., -3.7603e-01,\n",
            "          1.0631e-03, -3.6863e-01],\n",
            "        [-5.3983e-01, -4.5753e-02, -2.3798e-02,  ..., -4.4401e-01,\n",
            "         -2.8688e-05, -4.4010e-01]], device='cuda:0', requires_grad=True), Parameter containing:\n",
            "tensor([-0.2158,  0.0270, -0.6183,  ..., -0.0982, -0.3665, -0.4434],\n",
            "       device='cuda:0', requires_grad=True), Parameter containing:\n",
            "tensor([[-0.1603,  0.2118,  0.4837,  ...,  0.1291,  0.2193,  0.1392],\n",
            "        [ 0.0578,  0.1072,  0.0263,  ..., -0.0527,  0.0464,  0.1239],\n",
            "        [-0.1555,  0.2221, -0.0143,  ..., -0.2228,  0.6147,  0.2422],\n",
            "        ...,\n",
            "        [ 0.2148,  0.1823,  0.1119,  ...,  0.0791,  0.2019,  0.0961],\n",
            "        [ 0.2286,  0.2081, -0.0761,  ...,  0.0512,  0.1098,  0.1322],\n",
            "        [-0.2224, -0.0202,  0.0776,  ..., -0.0719, -0.0068, -0.0936]],\n",
            "       device='cuda:0', requires_grad=True), Parameter containing:\n",
            "tensor([ 0.0304, -0.0005,  0.0307,  ...,  0.0046,  0.0008,  0.0267],\n",
            "       device='cuda:0', requires_grad=True), Parameter containing:\n",
            "tensor([[ 0.1122,  0.1534,  0.0142,  ..., -0.0460,  0.1181,  0.0445],\n",
            "        [ 0.1162,  0.0214,  0.0904,  ...,  0.1038,  0.2370,  0.2176],\n",
            "        [ 0.3458,  0.0223,  0.2697,  ...,  0.2003,  0.1422,  0.2664],\n",
            "        ...,\n",
            "        [-0.0328, -0.0234,  0.0279,  ...,  0.0340,  0.0026,  0.1233],\n",
            "        [ 0.0501, -0.0092, -0.0313,  ..., -0.0931,  0.0469,  0.1158],\n",
            "        [ 0.1231,  0.0006,  0.1118,  ...,  0.0438, -0.0079,  0.0872]],\n",
            "       device='cuda:0', requires_grad=True), Parameter containing:\n",
            "tensor([0.0056, 0.0140, 0.1111,  ..., 0.0074, 0.0101, 0.0049], device='cuda:0',\n",
            "       requires_grad=True), Parameter containing:\n",
            "tensor([[-0.0032,  0.0004,  0.1332,  ...,  0.0023,  0.0002, -0.0004]],\n",
            "       device='cuda:0', requires_grad=True), Parameter containing:\n",
            "tensor([9.8153], device='cuda:0', requires_grad=True)]\n"
          ]
        }
      ],
      "source": [
        "#%%script echo skipping\n",
        "\n",
        "print(list(net.parameters()))"
      ]
    },
    {
      "cell_type": "code",
      "execution_count": null,
      "metadata": {
        "colab": {
          "base_uri": "https://localhost:8080/"
        },
        "id": "1NZ8iVA7UZio",
        "outputId": "547a58e2-729c-425d-d96f-80c5fdc90d83"
      },
      "outputs": [
        {
          "name": "stdout",
          "output_type": "stream",
          "text": [
            "[Parameter containing:\n",
            "tensor([[-5.8771e-01, -5.4785e-02, -1.2258e-01,  ..., -2.1863e-01,\n",
            "         -7.9324e-04, -2.1685e-01],\n",
            "        [ 1.3346e-02, -1.9750e-01, -9.8093e-02,  ...,  2.7051e-02,\n",
            "         -2.7816e-03,  2.6150e-02],\n",
            "        [-4.8651e-01, -7.1394e-03, -3.3661e-01,  ..., -6.3801e-01,\n",
            "         -7.3827e-03, -6.4098e-01],\n",
            "        ...,\n",
            "        [-3.2399e-01, -6.6832e-02, -1.6319e-01,  ..., -1.0097e-01,\n",
            "         -5.3719e-05, -1.0059e-01],\n",
            "        [-4.0479e-01, -7.6213e-02, -1.1219e-01,  ..., -3.7603e-01,\n",
            "          1.0631e-03, -3.6863e-01],\n",
            "        [-5.3983e-01, -4.5753e-02, -2.3798e-02,  ..., -4.4401e-01,\n",
            "         -2.8688e-05, -4.4010e-01]], device='cuda:0', requires_grad=True), Parameter containing:\n",
            "tensor([-0.2158,  0.0270, -0.6183,  ..., -0.0982, -0.3665, -0.4434],\n",
            "       device='cuda:0', requires_grad=True), Parameter containing:\n",
            "tensor([[-0.1603,  0.2118,  0.4837,  ...,  0.1291,  0.2193,  0.1392],\n",
            "        [ 0.0578,  0.1072,  0.0263,  ..., -0.0527,  0.0464,  0.1239],\n",
            "        [-0.1555,  0.2221, -0.0143,  ..., -0.2228,  0.6147,  0.2422],\n",
            "        ...,\n",
            "        [ 0.2148,  0.1823,  0.1119,  ...,  0.0791,  0.2019,  0.0961],\n",
            "        [ 0.2286,  0.2081, -0.0761,  ...,  0.0512,  0.1098,  0.1322],\n",
            "        [-0.2224, -0.0202,  0.0776,  ..., -0.0719, -0.0068, -0.0936]],\n",
            "       device='cuda:0', requires_grad=True), Parameter containing:\n",
            "tensor([ 0.0304, -0.0005,  0.0307,  ...,  0.0046,  0.0008,  0.0267],\n",
            "       device='cuda:0', requires_grad=True), Parameter containing:\n",
            "tensor([[ 0.1122,  0.1534,  0.0142,  ..., -0.0460,  0.1181,  0.0445],\n",
            "        [ 0.1162,  0.0214,  0.0904,  ...,  0.1038,  0.2370,  0.2176],\n",
            "        [ 0.3458,  0.0223,  0.2697,  ...,  0.2003,  0.1422,  0.2664],\n",
            "        ...,\n",
            "        [-0.0328, -0.0234,  0.0279,  ...,  0.0340,  0.0026,  0.1233],\n",
            "        [ 0.0501, -0.0092, -0.0313,  ..., -0.0931,  0.0469,  0.1158],\n",
            "        [ 0.1231,  0.0006,  0.1118,  ...,  0.0438, -0.0079,  0.0872]],\n",
            "       device='cuda:0', requires_grad=True), Parameter containing:\n",
            "tensor([0.0056, 0.0140, 0.1111,  ..., 0.0074, 0.0101, 0.0049], device='cuda:0',\n",
            "       requires_grad=True), Parameter containing:\n",
            "tensor([[-0.0032,  0.0004,  0.1332,  ...,  0.0023,  0.0002, -0.0004]],\n",
            "       device='cuda:0', requires_grad=True), Parameter containing:\n",
            "tensor([9.8153], device='cuda:0', requires_grad=True)]\n"
          ]
        }
      ],
      "source": [
        "print(list(net_loaded.parameters()))"
      ]
    },
    {
      "cell_type": "code",
      "execution_count": null,
      "metadata": {
        "colab": {
          "base_uri": "https://localhost:8080/"
        },
        "id": "InGW0Xq6UZip",
        "outputId": "53140640-70dc-4c6f-c733-65c739b298ae"
      },
      "outputs": [
        {
          "name": "stdout",
          "output_type": "stream",
          "text": [
            "rho.shape:  torch.Size([20])\n",
            "epsilon.shape:  torch.Size([20])\n"
          ]
        },
        {
          "data": {
            "text/plain": [
              "tensor([[ 2.5475e+00,  6.0356e+02,  3.1651e+02,  4.4675e+02,  8.5191e+02,\n",
              "          2.8783e-01,  7.2799e+00, -4.3098e+00,  9.4563e-01,  5.5297e-02,\n",
              "          9.8106e-02,  1.0323e+00,  6.2981e-02,  1.0474e+00],\n",
              "        [ 2.8220e-01,  9.0112e+00,  8.5096e+00,  1.2188e+01,  2.8244e+01,\n",
              "          1.5704e+00, -3.0564e+00,  3.3966e+00,  1.0593e+00,  4.4808e-02,\n",
              "          3.5591e-02,  9.2158e-01,  3.0104e-02,  1.0351e+00],\n",
              "        [ 2.4081e+00,  9.1736e+00,  1.7016e+01,  1.1615e+01,  2.4142e+01,\n",
              "          4.1787e+00,  1.1824e+00, -2.4778e+00,  9.4625e-01,  5.1181e-02,\n",
              "          5.3571e-02,  9.8237e-01,  3.4741e-02,  1.0016e+00],\n",
              "        [ 1.8551e+00, -1.0586e+01,  6.8796e+01, -2.0152e+01,  1.0885e+02,\n",
              "          8.3324e+00,  4.1957e+00,  9.3820e+00,  9.0721e-01,  4.4736e-02,\n",
              "          2.5106e-02,  9.5858e-01,  3.3684e-03,  1.0555e+00],\n",
              "        [ 1.4475e+00,  8.6296e+01,  8.3380e+01,  4.3468e+01,  1.2504e+02,\n",
              "          9.3097e+00, -8.3675e+00, -2.6496e+00,  1.0926e+00,  6.0524e-02,\n",
              "          4.4049e-02,  9.4000e-01,  2.8215e-02,  1.0026e+00],\n",
              "        [ 4.5035e+00,  8.1250e+01,  1.4770e+02,  4.1726e+01,  1.7658e+02,\n",
              "          6.4550e+00, -1.7752e+00,  8.1188e+00,  1.0153e+00,  8.6879e-02,\n",
              "          8.6602e-02,  1.0056e+00,  5.5289e-03,  1.0133e+00],\n",
              "        [ 1.9318e+00,  5.2816e+02,  5.5834e+03,  6.7158e+02,  5.6730e+03,\n",
              "          9.5009e+00, -3.7407e+00, -1.2049e+00,  9.6745e-01,  8.2681e-02,\n",
              "          8.5410e-02,  1.0343e+00,  8.0095e-02,  1.0750e+00],\n",
              "        [ 5.2815e-01,  2.4945e+01,  2.9893e+01,  3.3699e+01,  4.9169e+01,\n",
              "          4.3201e+00, -5.3501e+00,  1.5382e+00,  9.4442e-01,  4.8245e-02,\n",
              "          5.7575e-02,  1.0849e+00,  5.9998e-02,  9.7600e-01],\n",
              "        [ 2.9547e+00,  3.2963e+01, -1.0429e+01,  9.6271e+01,  9.8865e+01,\n",
              "          6.0237e+00, -7.9578e+00, -3.1824e+00,  1.0363e+00,  4.3050e-02,\n",
              "          7.7726e-02,  1.0444e+00,  7.9657e-02,  1.0258e+00],\n",
              "        [ 1.8733e+00, -7.5138e+00,  9.7882e+00,  9.4557e+00,  1.8910e+01,\n",
              "          2.6845e+00,  4.2293e+00, -2.2244e-01,  9.6437e-01,  1.3347e-02,\n",
              "          1.4580e-02,  9.2233e-01,  4.4877e-02,  1.0825e+00],\n",
              "        [ 2.9591e+00,  2.3136e+02,  3.6145e+02,  4.5357e+02,  6.5042e+02,\n",
              "         -5.9724e+00, -3.9958e+00, -8.4172e-01,  9.2026e-01,  6.9583e-03,\n",
              "          1.8323e-02,  1.0604e+00,  9.3440e-02,  9.1951e-01],\n",
              "        [ 2.8737e+00,  9.3501e+02,  1.7081e+02,  1.1705e+03,  1.4699e+03,\n",
              "         -3.6897e+00,  5.4279e+00,  3.7180e+00,  1.0342e+00,  7.3160e-02,\n",
              "          9.5452e-02,  1.0355e+00,  9.5859e-02,  1.0612e+00],\n",
              "        [ 1.2980e+00,  1.6734e+02,  1.1876e+02,  6.9397e+01,  2.3495e+02,\n",
              "          4.0382e+00,  1.2463e+00, -4.7623e+00,  9.6619e-01,  5.1958e-02,\n",
              "          2.9317e-02,  9.0607e-01,  4.6483e-02,  9.0685e-01],\n",
              "        [ 1.6717e-01,  1.6660e+01,  1.2437e+01,  1.6349e+01,  4.0572e+01,\n",
              "         -4.7301e+00,  5.1817e+00,  2.0019e+00,  9.1908e-01,  6.2253e-02,\n",
              "          4.3244e-02,  9.0031e-01,  4.0459e-02,  9.3781e-01],\n",
              "        [ 1.1667e+00,  1.3519e+01,  5.2158e+00,  8.6804e+00,  1.7918e+01,\n",
              "          1.2187e+00, -5.0710e+00,  7.9513e-01,  1.0600e+00,  2.4218e-02,\n",
              "          5.2152e-02,  9.3460e-01,  8.1938e-02,  9.6008e-01],\n",
              "        [ 3.6492e+00,  8.2915e+01, -9.2188e+00,  1.3817e+02,  1.6404e+02,\n",
              "         -9.2167e+00,  6.4197e+00,  7.4697e+00,  1.0242e+00,  4.1159e-02,\n",
              "          3.8768e-02,  1.0956e+00,  9.2060e-02,  1.0230e+00],\n",
              "        [ 9.1628e-01,  3.4874e+01,  3.9877e+01,  4.6480e+01,  8.1226e+01,\n",
              "         -4.8917e-02, -5.8140e+00,  7.1194e+00,  9.2125e-01,  2.9955e-02,\n",
              "          4.3196e-02,  9.1743e-01,  4.8701e-03,  1.0025e+00],\n",
              "        [ 1.9990e-01,  1.0891e+01,  2.1040e+01,  1.9470e+01,  4.2242e+01,\n",
              "         -1.9555e+00,  6.3457e+00, -5.7550e+00,  9.6392e-01,  6.2655e-02,\n",
              "          9.1430e-02,  1.0075e+00,  8.2650e-02,  1.0520e+00],\n",
              "        [ 3.2516e+00,  8.8934e+03,  6.2914e+03,  6.8210e+03,  1.2280e+04,\n",
              "         -5.8077e+00,  4.0291e-01,  2.4701e+00,  1.0421e+00,  9.4085e-02,\n",
              "          7.7349e-02,  9.2029e-01,  5.6917e-02,  9.0237e-01],\n",
              "        [ 1.3741e+00, -1.2126e+01,  4.1129e+01,  5.3720e+01,  9.4443e+01,\n",
              "         -2.8236e+00, -2.0713e+00, -7.4399e+00,  1.0054e+00,  1.8822e-02,\n",
              "          3.6644e-02,  1.0984e+00,  9.9015e-02,  9.1813e-01]], device='cuda:0')"
            ]
          },
          "execution_count": 56,
          "metadata": {},
          "output_type": "execute_result"
        }
      ],
      "source": [
        "rho_example, epsilon_example, vx_example, vy_example, vz_example, Bx_example, By_example, Bz_example, gxx_example, gxy_example, gxz_example, gyy_example, gyz_example, gzz_example = generate_samples(20)\n",
        "\n",
        "inputs =  generate_input_data(rho_example, epsilon_example, vx_example, vy_example, vz_example, Bx_example, By_example, Bz_example, gxx_example, gxy_example, gxz_example, gyy_example, gyz_example, gzz_example)\n",
        "inputs\n"
      ]
    },
    {
      "cell_type": "code",
      "execution_count": null,
      "metadata": {
        "colab": {
          "base_uri": "https://localhost:8080/"
        },
        "id": "QVa1upmFUZip",
        "outputId": "1b70a0e4-d025-4bc6-8a0b-06d7c35a0622"
      },
      "outputs": [
        {
          "data": {
            "text/plain": [
              "[tensor([[241.5376]], device='cuda:0', grad_fn=<AddmmBackward0>),\n",
              " tensor([[16.5692]], device='cuda:0', grad_fn=<AddmmBackward0>),\n",
              " tensor([[16.6516]], device='cuda:0', grad_fn=<AddmmBackward0>),\n",
              " tensor([[28.0149]], device='cuda:0', grad_fn=<AddmmBackward0>),\n",
              " tensor([[45.0874]], device='cuda:0', grad_fn=<AddmmBackward0>),\n",
              " tensor([[56.7432]], device='cuda:0', grad_fn=<AddmmBackward0>),\n",
              " tensor([[1318.8583]], device='cuda:0', grad_fn=<AddmmBackward0>),\n",
              " tensor([[24.8780]], device='cuda:0', grad_fn=<AddmmBackward0>),\n",
              " tensor([[37.0058]], device='cuda:0', grad_fn=<AddmmBackward0>),\n",
              " tensor([[14.4811]], device='cuda:0', grad_fn=<AddmmBackward0>),\n",
              " tensor([[193.0068]], device='cuda:0', grad_fn=<AddmmBackward0>),\n",
              " tensor([[420.8734]], device='cuda:0', grad_fn=<AddmmBackward0>),\n",
              " tensor([[70.9581]], device='cuda:0', grad_fn=<AddmmBackward0>),\n",
              " tensor([[18.9592]], device='cuda:0', grad_fn=<AddmmBackward0>),\n",
              " tensor([[15.0574]], device='cuda:0', grad_fn=<AddmmBackward0>),\n",
              " tensor([[53.1627]], device='cuda:0', grad_fn=<AddmmBackward0>),\n",
              " tensor([[31.9090]], device='cuda:0', grad_fn=<AddmmBackward0>),\n",
              " tensor([[19.7572]], device='cuda:0', grad_fn=<AddmmBackward0>),\n",
              " tensor([[3561.2991]], device='cuda:0', grad_fn=<AddmmBackward0>),\n",
              " tensor([[31.2396]], device='cuda:0', grad_fn=<AddmmBackward0>)]"
            ]
          },
          "execution_count": 57,
          "metadata": {},
          "output_type": "execute_result"
        }
      ],
      "source": [
        "#%%script echo skipping\n",
        "\n",
        "# Pass the inputs to the network and get the outputs\n",
        "outputs = [net(input.unsqueeze(0)) for input in inputs]\n",
        "# Print the outputs\n",
        "outputs"
      ]
    },
    {
      "cell_type": "code",
      "execution_count": null,
      "metadata": {
        "colab": {
          "base_uri": "https://localhost:8080/"
        },
        "id": "E-Xjfo7VUZir",
        "outputId": "44d1bc8b-b217-4645-99fd-26ed92fa92bc"
      },
      "outputs": [
        {
          "data": {
            "text/plain": [
              "[tensor([[241.5376]], device='cuda:0', grad_fn=<AddmmBackward0>),\n",
              " tensor([[16.5692]], device='cuda:0', grad_fn=<AddmmBackward0>),\n",
              " tensor([[16.6516]], device='cuda:0', grad_fn=<AddmmBackward0>),\n",
              " tensor([[28.0149]], device='cuda:0', grad_fn=<AddmmBackward0>),\n",
              " tensor([[45.0874]], device='cuda:0', grad_fn=<AddmmBackward0>),\n",
              " tensor([[56.7432]], device='cuda:0', grad_fn=<AddmmBackward0>),\n",
              " tensor([[1318.8583]], device='cuda:0', grad_fn=<AddmmBackward0>),\n",
              " tensor([[24.8780]], device='cuda:0', grad_fn=<AddmmBackward0>),\n",
              " tensor([[37.0058]], device='cuda:0', grad_fn=<AddmmBackward0>),\n",
              " tensor([[14.4811]], device='cuda:0', grad_fn=<AddmmBackward0>),\n",
              " tensor([[193.0068]], device='cuda:0', grad_fn=<AddmmBackward0>),\n",
              " tensor([[420.8734]], device='cuda:0', grad_fn=<AddmmBackward0>),\n",
              " tensor([[70.9581]], device='cuda:0', grad_fn=<AddmmBackward0>),\n",
              " tensor([[18.9592]], device='cuda:0', grad_fn=<AddmmBackward0>),\n",
              " tensor([[15.0574]], device='cuda:0', grad_fn=<AddmmBackward0>),\n",
              " tensor([[53.1627]], device='cuda:0', grad_fn=<AddmmBackward0>),\n",
              " tensor([[31.9090]], device='cuda:0', grad_fn=<AddmmBackward0>),\n",
              " tensor([[19.7572]], device='cuda:0', grad_fn=<AddmmBackward0>),\n",
              " tensor([[3561.2991]], device='cuda:0', grad_fn=<AddmmBackward0>),\n",
              " tensor([[31.2396]], device='cuda:0', grad_fn=<AddmmBackward0>)]"
            ]
          },
          "execution_count": 58,
          "metadata": {},
          "output_type": "execute_result"
        }
      ],
      "source": [
        "\n",
        "# Pass the inputs to the network and get the outputs\n",
        "outputs = [net_loaded(input.unsqueeze(0)) for input in inputs]\n",
        "# Print the outputs\n",
        "outputs"
      ]
    },
    {
      "cell_type": "markdown",
      "metadata": {
        "id": "xjpIvdybUZis"
      },
      "source": [
        "## Porting the model to C++"
      ]
    },
    {
      "cell_type": "code",
      "execution_count": null,
      "metadata": {
        "colab": {
          "base_uri": "https://localhost:8080/"
        },
        "id": "VMlEd4RoUZis",
        "outputId": "32263c55-10c0-4133-a696-57f03e4b256b"
      },
      "outputs": [
        {
          "data": {
            "text/plain": [
              "Net(\n",
              "  (hidden_activation): LeakyReLU(negative_slope=0.01)\n",
              "  (output_activation): Identity()\n",
              "  (layers): ModuleList(\n",
              "    (0): Linear(in_features=14, out_features=1777, bias=True)\n",
              "    (1): Linear(in_features=1777, out_features=1608, bias=True)\n",
              "    (2): Linear(in_features=1608, out_features=1516, bias=True)\n",
              "    (3): Linear(in_features=1516, out_features=1, bias=True)\n",
              "  )\n",
              ")"
            ]
          },
          "execution_count": 59,
          "metadata": {},
          "output_type": "execute_result"
        },
        {
          "name": "stdout",
          "output_type": "stream",
          "text": [
            "rho.shape:  torch.Size([1])\n",
            "epsilon.shape:  torch.Size([1])\n",
            "input shape:  torch.Size([1, 14])\n",
            "input:  tensor([[ 1.0959e+00,  6.5518e+01,  1.1837e+02, -8.8752e+00,  1.3568e+02,\n",
            "         -7.6100e+00,  3.4835e+00, -8.3076e+00,  1.0760e+00,  8.1225e-02,\n",
            "          3.5810e-02,  9.0506e-01,  1.6929e-02,  9.1935e-01]], device='cuda:0')\n",
            "Output: tensor([[41.0836]], device='cuda:0', grad_fn=<AddmmBackward0>)\n"
          ]
        },
        {
          "name": "stderr",
          "output_type": "stream",
          "text": [
            "<ipython-input-33-96b416f81db5>:53: TracerWarning: Converting a tensor to a Python boolean might cause the trace to be incorrect. We can't record the data flow of Python values, so this value will be treated as a constant in the future. This means that the trace might not generalize to other inputs!\n",
            "  assert x.shape[1] == N_INPUTS, f\"x must have shape (batch_size, {N_INPUTS})\"\n"
          ]
        }
      ],
      "source": [
        "import torch.jit\n",
        "\n",
        "# Creating a dummy input tensor of shape (1, 5) to trace the model\n",
        "dummy_input = torch.randn(1, N_INPUTS).to(device)\n",
        "\n",
        "# Ensure that net_loaded is in evaluation mode.\n",
        "net_loaded.eval()\n",
        "\n",
        "# Tracing the model using the torch.jit.trace function\n",
        "traced_model = torch.jit.trace(net_loaded, dummy_input)\n",
        "\n",
        "# Saving the traced model to a file named \"net.pt\"\n",
        "traced_model.save(\"net.pt\")\n",
        "save_file(\"net.pt\")\n",
        "\n",
        "example_input_to_validate_correct_export_and_import = generate_input_data(*generate_samples(1))\n",
        "print(\"input shape: \", example_input_to_validate_correct_export_and_import.shape)\n",
        "print(\"input: \", example_input_to_validate_correct_export_and_import)\n",
        "print(\"Output:\", net_loaded(example_input_to_validate_correct_export_and_import))"
      ]
    }
  ],
  "metadata": {
    "accelerator": "GPU",
    "colab": {
      "gpuType": "T4",
      "provenance": []
    },
    "kernelspec": {
      "display_name": "Python 3",
      "name": "python3"
    },
    "language_info": {
      "codemirror_mode": {
        "name": "ipython",
        "version": 3
      },
      "file_extension": ".py",
      "mimetype": "text/x-python",
      "name": "python",
      "nbconvert_exporter": "python",
      "pygments_lexer": "ipython3",
      "version": "3.11.3"
    },
    "orig_nbformat": 4
  },
  "nbformat": 4,
  "nbformat_minor": 0
}
