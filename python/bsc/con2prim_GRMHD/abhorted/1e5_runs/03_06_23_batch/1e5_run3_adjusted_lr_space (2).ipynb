{
  "cells": [
    {
      "cell_type": "markdown",
      "metadata": {
        "id": "TPvB1xoSUZhR"
      },
      "source": [
        "# Neural network to learn conservative-to-primitive conversion in relativistic hydrodynamics"
      ]
    },
    {
      "cell_type": "markdown",
      "metadata": {
        "id": "__fLZmSf4cm7"
      },
      "source": [
        "## How to use this notebook\n",
        "\n",
        "### Local installation\n",
        "\n",
        "1. Install required packages with `pip install -r requirements.txt` to your desired environment.\n",
        "2. If a script version of this notebook is desired, comment (not uncomment) the first line of `nbconvert` cell.\n",
        "\n",
        "### Colab installation\n",
        "\n",
        "1.  Comment (not uncomment) the first line of the drive mounting cell.\n",
        "2.  Comment (not uncomment) the first line of the `pip install` cell.\n",
        "\n",
        "<!-- - For colab we also want to set the runtime to GPU by clicking _Change runtime_ in the _Runtime_ menu, and -->\n",
        "<!-- - We want to wait for the google drive connection popup to appear and follow the instructions. -->\n",
        "\n",
        "### Loading / Generating data\n",
        "3. Set `LOAD_DATA_FROM_CSV` to `True` / `False` to load data from csv files / generate data in this notebook.\n",
        "\n",
        "### Training without optimization\n",
        "\n",
        "4. Set `OPTIMIZE = False` in section _Constants and flags to set_.\n",
        "5. Run the entire notebook.\n",
        "\n",
        "### Training with optimization\n",
        "\n",
        "4. Set `OPTIMIZE = True` in section _Constants and flags to set_.\n",
        "5. Run the entire notebook.\n",
        "\n",
        "### Loading an already trained model\n",
        "\n",
        "4. Run cells in section _Initialization_.\n",
        "5. Run cells with definitions in section _Input data and labels_.\n",
        "6. Run cell with the definition of _Net_ in section _Defining the neural network_.\n",
        "7. Make sure the `net.pth`, `optimizer.pth`, `scheduler.pth`, `var_dict.json` and `train_output.csv` files are in the directory containing this notebook.\n",
        "8. Run the cells in section _Loading_ and continue from there.\n",
        "\n",
        "### Generating the C++ model\n",
        "\n",
        "9. Run section _Porting the model to C++_, this requires a model to be loaded.\n",
        "10. Set the path to the `net.pt` file in the C++ source file.\n",
        "11. `mkdir build && cd build`,\n",
        "12. Configure a `CMakeLists.txt` file as is done [here](https://pytorch.org/cppdocs/installing.html).\n",
        "13. `cmake -DCMAKE_PREFIX_PATH=/path/to/libtorch/ ..`,\n",
        "14. Compile and run, e.g. `cmake --build . --config release && ./<executable name>`"
      ]
    },
    {
      "cell_type": "code",
      "source": [],
      "metadata": {
        "id": "UBgXQWgsUbm8"
      },
      "execution_count": null,
      "outputs": []
    },
    {
      "cell_type": "code",
      "source": [],
      "metadata": {
        "id": "7i0okaoiUbj5"
      },
      "execution_count": null,
      "outputs": []
    },
    {
      "cell_type": "markdown",
      "metadata": {
        "id": "Ix44VuOJ4cm9"
      },
      "source": [
        "## Initialization\n",
        "\n",
        "---\n",
        "\n"
      ]
    },
    {
      "cell_type": "markdown",
      "metadata": {
        "id": "pKLcdI-F4cm_"
      },
      "source": [
        "\n",
        "\n",
        "1.   List item\n",
        "2.   List item\n",
        "\n",
        "\n",
        "Use this first cell to **convert this notebook** to a python script."
      ]
    },
    {
      "cell_type": "code",
      "execution_count": 1,
      "metadata": {
        "colab": {
          "base_uri": "https://localhost:8080/"
        },
        "id": "eqdgdNLHUZhV",
        "outputId": "c4c29a4e-2e7b-4afe-e9dc-a144666ee76b",
        "tags": [
          "remove_cell"
        ]
      },
      "outputs": [
        {
          "output_type": "stream",
          "name": "stdout",
          "text": [
            "skipping\n"
          ]
        }
      ],
      "source": [
        "%%script echo skipping\n",
        "\n",
        "!jupyter nbconvert GRMHD_ML.ipynb --TagRemovePreprocessor.enabled=True --TagRemovePreprocessor.remove_cell_tags='{\"remove_cell\"}' --to script"
      ]
    },
    {
      "cell_type": "markdown",
      "metadata": {
        "id": "nzcUr0LnUZhw"
      },
      "source": [
        "Next some cells for working on **google colab**,"
      ]
    },
    {
      "cell_type": "code",
      "execution_count": 2,
      "metadata": {
        "id": "6VBGn-gc4cnD"
      },
      "outputs": [],
      "source": [
        "import os\n",
        "import shutil\n",
        "\n",
        "# check if the drive is mounted\n",
        "drive_mounted = os.path.exists(\"/content/drive\")\n",
        "# change this to your desired folder\n",
        "drive_folder = \"/content/drive/My Drive/bsc/con2prim_GRMHD/1e5_runs/adjusted_lr_space_run\"\n",
        "\n",
        "# define a function to save a file to the drive or the current directory\n",
        "def save_file(file_name):\n",
        "  if drive_mounted:\n",
        "    # save the file to the drive folder\n",
        "    file_path = os.path.join(drive_folder, file_name)\n",
        "    # copy the file from the current directory to the drive folder\n",
        "    shutil.copyfile(file_name, file_path)\n",
        "  else:\n",
        "    # do nothing as the file is already in the current directory\n",
        "    pass\n"
      ]
    },
    {
      "cell_type": "code",
      "execution_count": 3,
      "metadata": {
        "colab": {
          "base_uri": "https://localhost:8080/"
        },
        "id": "ecHw2_xlUZhx",
        "outputId": "b33245fd-9082-46d4-855b-7b6182a56e74"
      },
      "outputs": [
        {
          "output_type": "stream",
          "name": "stdout",
          "text": [
            "Mounted at /content/drive\n"
          ]
        }
      ],
      "source": [
        "#%%script echo skipping\n",
        "\n",
        "from google.colab import drive\n",
        "drive.mount('/content/drive')"
      ]
    },
    {
      "cell_type": "code",
      "execution_count": 4,
      "metadata": {
        "colab": {
          "base_uri": "https://localhost:8080/"
        },
        "id": "T1rcStMLUZhy",
        "outputId": "370d685a-5bfb-45fa-ba86-81a835b96fde"
      },
      "outputs": [
        {
          "output_type": "stream",
          "name": "stdout",
          "text": [
            "Looking in indexes: https://pypi.org/simple, https://us-python.pkg.dev/colab-wheels/public/simple/\n",
            "Collecting optuna\n",
            "  Downloading optuna-3.2.0-py3-none-any.whl (390 kB)\n",
            "\u001b[2K     \u001b[90m━━━━━━━━━━━━━━━━━━━━━━━━━━━━━━━━━━━━━━\u001b[0m \u001b[32m390.6/390.6 kB\u001b[0m \u001b[31m16.7 MB/s\u001b[0m eta \u001b[36m0:00:00\u001b[0m\n",
            "\u001b[?25hRequirement already satisfied: tensorboard in /usr/local/lib/python3.10/dist-packages (2.12.2)\n",
            "Collecting tensorboardX\n",
            "  Downloading tensorboardX-2.6-py2.py3-none-any.whl (114 kB)\n",
            "\u001b[2K     \u001b[90m━━━━━━━━━━━━━━━━━━━━━━━━━━━━━━━━━━━━━━\u001b[0m \u001b[32m114.5/114.5 kB\u001b[0m \u001b[31m14.9 MB/s\u001b[0m eta \u001b[36m0:00:00\u001b[0m\n",
            "\u001b[?25hRequirement already satisfied: plotly in /usr/local/lib/python3.10/dist-packages (5.13.1)\n",
            "Collecting alembic>=1.5.0 (from optuna)\n",
            "  Downloading alembic-1.11.1-py3-none-any.whl (224 kB)\n",
            "\u001b[2K     \u001b[90m━━━━━━━━━━━━━━━━━━━━━━━━━━━━━━━━━━━━━━\u001b[0m \u001b[32m224.5/224.5 kB\u001b[0m \u001b[31m26.1 MB/s\u001b[0m eta \u001b[36m0:00:00\u001b[0m\n",
            "\u001b[?25hCollecting cmaes>=0.9.1 (from optuna)\n",
            "  Downloading cmaes-0.9.1-py3-none-any.whl (21 kB)\n",
            "Collecting colorlog (from optuna)\n",
            "  Downloading colorlog-6.7.0-py2.py3-none-any.whl (11 kB)\n",
            "Requirement already satisfied: numpy in /usr/local/lib/python3.10/dist-packages (from optuna) (1.22.4)\n",
            "Requirement already satisfied: packaging>=20.0 in /usr/local/lib/python3.10/dist-packages (from optuna) (23.1)\n",
            "Requirement already satisfied: sqlalchemy>=1.3.0 in /usr/local/lib/python3.10/dist-packages (from optuna) (2.0.10)\n",
            "Requirement already satisfied: tqdm in /usr/local/lib/python3.10/dist-packages (from optuna) (4.65.0)\n",
            "Requirement already satisfied: PyYAML in /usr/local/lib/python3.10/dist-packages (from optuna) (6.0)\n",
            "\u001b[33mWARNING: optuna 3.2.0 does not provide the extra 'visualization'\u001b[0m\u001b[33m\n",
            "\u001b[0mRequirement already satisfied: absl-py>=0.4 in /usr/local/lib/python3.10/dist-packages (from tensorboard) (1.4.0)\n",
            "Requirement already satisfied: grpcio>=1.48.2 in /usr/local/lib/python3.10/dist-packages (from tensorboard) (1.54.0)\n",
            "Requirement already satisfied: google-auth<3,>=1.6.3 in /usr/local/lib/python3.10/dist-packages (from tensorboard) (2.17.3)\n",
            "Requirement already satisfied: google-auth-oauthlib<1.1,>=0.5 in /usr/local/lib/python3.10/dist-packages (from tensorboard) (1.0.0)\n",
            "Requirement already satisfied: markdown>=2.6.8 in /usr/local/lib/python3.10/dist-packages (from tensorboard) (3.4.3)\n",
            "Requirement already satisfied: protobuf>=3.19.6 in /usr/local/lib/python3.10/dist-packages (from tensorboard) (3.20.3)\n",
            "Requirement already satisfied: requests<3,>=2.21.0 in /usr/local/lib/python3.10/dist-packages (from tensorboard) (2.27.1)\n",
            "Requirement already satisfied: setuptools>=41.0.0 in /usr/local/lib/python3.10/dist-packages (from tensorboard) (67.7.2)\n",
            "Requirement already satisfied: tensorboard-data-server<0.8.0,>=0.7.0 in /usr/local/lib/python3.10/dist-packages (from tensorboard) (0.7.0)\n",
            "Requirement already satisfied: tensorboard-plugin-wit>=1.6.0 in /usr/local/lib/python3.10/dist-packages (from tensorboard) (1.8.1)\n",
            "Requirement already satisfied: werkzeug>=1.0.1 in /usr/local/lib/python3.10/dist-packages (from tensorboard) (2.3.0)\n",
            "Requirement already satisfied: wheel>=0.26 in /usr/local/lib/python3.10/dist-packages (from tensorboard) (0.40.0)\n",
            "Requirement already satisfied: tenacity>=6.2.0 in /usr/local/lib/python3.10/dist-packages (from plotly) (8.2.2)\n",
            "Collecting Mako (from alembic>=1.5.0->optuna)\n",
            "  Downloading Mako-1.2.4-py3-none-any.whl (78 kB)\n",
            "\u001b[2K     \u001b[90m━━━━━━━━━━━━━━━━━━━━━━━━━━━━━━━━━━━━━━━━\u001b[0m \u001b[32m78.7/78.7 kB\u001b[0m \u001b[31m11.8 MB/s\u001b[0m eta \u001b[36m0:00:00\u001b[0m\n",
            "\u001b[?25hRequirement already satisfied: typing-extensions>=4 in /usr/local/lib/python3.10/dist-packages (from alembic>=1.5.0->optuna) (4.5.0)\n",
            "Requirement already satisfied: cachetools<6.0,>=2.0.0 in /usr/local/lib/python3.10/dist-packages (from google-auth<3,>=1.6.3->tensorboard) (5.3.0)\n",
            "Requirement already satisfied: pyasn1-modules>=0.2.1 in /usr/local/lib/python3.10/dist-packages (from google-auth<3,>=1.6.3->tensorboard) (0.3.0)\n",
            "Requirement already satisfied: six>=1.9.0 in /usr/local/lib/python3.10/dist-packages (from google-auth<3,>=1.6.3->tensorboard) (1.16.0)\n",
            "Requirement already satisfied: rsa<5,>=3.1.4 in /usr/local/lib/python3.10/dist-packages (from google-auth<3,>=1.6.3->tensorboard) (4.9)\n",
            "Requirement already satisfied: requests-oauthlib>=0.7.0 in /usr/local/lib/python3.10/dist-packages (from google-auth-oauthlib<1.1,>=0.5->tensorboard) (1.3.1)\n",
            "Requirement already satisfied: urllib3<1.27,>=1.21.1 in /usr/local/lib/python3.10/dist-packages (from requests<3,>=2.21.0->tensorboard) (1.26.15)\n",
            "Requirement already satisfied: certifi>=2017.4.17 in /usr/local/lib/python3.10/dist-packages (from requests<3,>=2.21.0->tensorboard) (2022.12.7)\n",
            "Requirement already satisfied: charset-normalizer~=2.0.0 in /usr/local/lib/python3.10/dist-packages (from requests<3,>=2.21.0->tensorboard) (2.0.12)\n",
            "Requirement already satisfied: idna<4,>=2.5 in /usr/local/lib/python3.10/dist-packages (from requests<3,>=2.21.0->tensorboard) (3.4)\n",
            "Requirement already satisfied: greenlet!=0.4.17 in /usr/local/lib/python3.10/dist-packages (from sqlalchemy>=1.3.0->optuna) (2.0.2)\n",
            "Requirement already satisfied: MarkupSafe>=2.1.1 in /usr/local/lib/python3.10/dist-packages (from werkzeug>=1.0.1->tensorboard) (2.1.2)\n",
            "Requirement already satisfied: pyasn1<0.6.0,>=0.4.6 in /usr/local/lib/python3.10/dist-packages (from pyasn1-modules>=0.2.1->google-auth<3,>=1.6.3->tensorboard) (0.5.0)\n",
            "Requirement already satisfied: oauthlib>=3.0.0 in /usr/local/lib/python3.10/dist-packages (from requests-oauthlib>=0.7.0->google-auth-oauthlib<1.1,>=0.5->tensorboard) (3.2.2)\n",
            "Installing collected packages: tensorboardX, Mako, colorlog, cmaes, alembic, optuna\n",
            "Successfully installed Mako-1.2.4 alembic-1.11.1 cmaes-0.9.1 colorlog-6.7.0 optuna-3.2.0 tensorboardX-2.6\n"
          ]
        }
      ],
      "source": [
        "#%%script echo skipping\n",
        "\n",
        "!pip install optuna optuna[visualization] tensorboard tensorboardX plotly"
      ]
    },
    {
      "cell_type": "markdown",
      "metadata": {
        "id": "msDldnu_4cnF"
      },
      "source": [
        "Importing the **libraries**,"
      ]
    },
    {
      "cell_type": "code",
      "execution_count": 5,
      "metadata": {
        "id": "tREdWQUVUZhz"
      },
      "outputs": [],
      "source": [
        "import numpy as np\n",
        "import matplotlib.pyplot as plt\n",
        "import torch\n",
        "import torch.nn as nn\n",
        "import torch.optim as optim\n",
        "import torch.nn.functional as F\n",
        "import optuna\n",
        "import tensorboardX as tbx\n",
        "import pandas as pd\n",
        "import pickle\n",
        "import json\n"
      ]
    },
    {
      "cell_type": "markdown",
      "metadata": {
        "id": "38GvmerjUZhz"
      },
      "source": [
        "### Constants and flags to set\n",
        "Defining some constants and parameters for convenience.\n",
        "\n",
        "**NOTE**: Some **subparameters** still need to be adjusted in the `create_model` function itself as of (Tue May 16 07:42:45 AM CEST 2023) in the case the model is being trained without optimization."
      ]
    },
    {
      "cell_type": "code",
      "execution_count": 6,
      "metadata": {
        "id": "ei6VZDYKUZh0"
      },
      "outputs": [],
      "source": [
        "\n",
        "# Checking if GPU is available and setting the device accordingly\n",
        "device = torch.device(\"cuda\" if torch.cuda.is_available() else \"cpu\")\n",
        "\n",
        "N_TRIALS = 5000 # Number of trials for hyperparameter optimization # NOTE: Set this properly.\n",
        "OPTIMIZE = True # Whether to optimize the hyperparameters or to use predetermined values. # NOTE: Set this properly.\n",
        "ZSCORE_NORMALIZATION = False # Whether to z-score normalize the input data.\n",
        "LOAD_DATA_FROM_CSV = False  # If not true we generate the data in this file and save to {x_train,y_train,x_test,y_test}.csv, otherwise we load the data from files of the same name. # NOTE: Set this before properly.\n",
        "STUDY_NAME='1e5_run3_adjusted_lr_space'\n",
        "\n",
        "csv_filenames = { # File names to load input data and labels from if LOAD_DATA_FROM_CSV is True.\n",
        "    \"x_train\": \"x_train.csv\",\n",
        "    \"x_val\": \"x_val.csv\",\n",
        "    \"x_test\": \"x_test.csv\",\n",
        "    \"y_train\": \"y_train.csv\",\n",
        "    \"y_val\": \"y_val.csv\",\n",
        "    \"y_test\": \"y_test.csv\",\n",
        "}\n",
        "\n",
        "# Values to use for hyperparameters if OPTIMIZE is False; set these to the best parameters found by Optuna.\n",
        "# NOTE: TODO: Currently (Sat May 27 05:16:57 PM CEST 2023) there are still subparameters to be set in create_model function.\n",
        "N_LAYERS_NO_OPT = 3\n",
        "N_UNITS_NO_OPT = [555, 458, 115]\n",
        "HIDDEN_ACTIVATION_NAME_NO_OPT = \"LeakyReLU\"\n",
        "OUTPUT_ACTIVATION_NAME_NO_OPT = \"Linear\"\n",
        "LOSS_NAME_NO_OPT = \"Huber\"\n",
        "OPTIMIZER_NAME_NO_OPT = \"RMSprop\"\n",
        "LR_NO_OPT = 0.000122770896701404\n",
        "BATCH_SIZE_NO_OPT = 49\n",
        "N_EPOCHS_NO_OPT = 500 # NOTE: Set this properly.\n",
        "SCHEDULER_NAME_NO_OPT = \"ReduceLROnPlateau\"\n",
        "DROPOUT_RATE_NO_OPT = 0.2\n",
        "\n",
        "N_INPUTS = 14  # Number of input features.\n",
        "N_OUTPUTS = 1  # Number of outputs.\n",
        "Gamma = 5/3  # Adiabatic index\n",
        "\n",
        "n_samples = 1e5 # NOTE: Set this properly.\n",
        "train_frac = 0.7  # 70% of data for training\n",
        "val_frac = 0.15  # 15% of data for validation, rest for testing\n",
        "  \n",
        "rho_interval = (0, 2) \n",
        "epsilon_interval = (1e-2, 2000)  # Will be sampled in log space\n",
        "vx_interval = (0, 0.999)  \n",
        "vy_interval = (0, 0.999)  \n",
        "vz_interval = (0, 0.999)  \n",
        "Bx_interval = (-10, 10)  \n",
        "By_interval = (-10, 10)  \n",
        "Bz_interval = (-10, 10)  \n",
        "gxx_interval = (0.9, 1.1)\n",
        "gxy_interval = (0, 0.1)\n",
        "gxz_interval = (0, 0.1)\n",
        "gyy_interval = (0.9, 1.1)\n",
        "gyz_interval = (0, 0.1)\n",
        "gzz_interval = (0.9, 1.1)\n",
        "\n",
        "np.random.seed(110) # Comment for true random data.\n"
      ]
    },
    {
      "cell_type": "markdown",
      "metadata": {
        "id": "dlaP5UL2UZh1"
      },
      "source": [
        "## Input data and labels\n",
        "\n",
        "We either generate the data or load the data. First the definitions for generating the data come below."
      ]
    },
    {
      "cell_type": "code",
      "execution_count": 7,
      "metadata": {
        "id": "s_EvGFZcUZh1"
      },
      "outputs": [],
      "source": [
        "# Defining an analytic equation of state (EOS) for an ideal gas\n",
        "def eos_analytic(rho, epsilon):\n",
        "    # Adding some assertions to check that the input tensors are valid and have \n",
        "    # the expected shape and type \n",
        "    assert isinstance(rho, torch.Tensor), \"rho must be a torch.Tensor\"\n",
        "    assert isinstance(epsilon, torch.Tensor), \"epsilon must be a torch.Tensor\"\n",
        "    print('rho.shape: ', rho.shape)\n",
        "    print('epsilon.shape: ', epsilon.shape)\n",
        "    assert rho.shape == epsilon.shape, \"rho and epsilon must have the same shape\"\n",
        "    assert rho.ndim == 1, \"rho and epsilon must be one-dimensional tensors\"\n",
        "    assert rho.dtype == torch.float32, \"rho and epsilon must have dtype torch.float32\"\n",
        "\n",
        "    return (Gamma - 1) * rho * epsilon\n",
        "\n",
        "def sample_primitive_variables_and_metric():\n",
        "    rho = np.random.uniform(*rho_interval)  \n",
        "    epsilon = np.random.uniform(*np.log10(epsilon_interval))\n",
        "    vx = np.random.uniform(*vx_interval)  \n",
        "    vy = np.random.uniform(*vy_interval)  \n",
        "    vz = np.random.uniform(*vz_interval)  \n",
        "    Bx = np.random.uniform(*Bx_interval)  \n",
        "    By = np.random.uniform(*By_interval)  \n",
        "    Bz = np.random.uniform(*Bz_interval)  \n",
        "    gxx = np.random.uniform(*gxx_interval)\n",
        "    gxy = np.random.uniform(*gxy_interval)\n",
        "    gxz = np.random.uniform(*gxz_interval)\n",
        "    gyy = np.random.uniform(*gyy_interval)\n",
        "    gyz = np.random.uniform(*gyz_interval)\n",
        "    gzz = np.random.uniform(*gzz_interval)\n",
        "\n",
        "    return rho, epsilon, vx, vy, vz, Bx, By, Bz, gxx, gxy, gxz, gyy, gyz, gzz\n",
        "\n",
        "def check_sample(rho, epsilon, vx, vy, vz, Bx, By, Bz, gxx, gxy, gxz, gyy, gyz, gzz):\n",
        "    wtemp_expr = 1 - (gxx * vx**2 + gyy * vy**2 + gzz * vz**2 + 2 * gxy * vx * vy + 2 * gxz * vx * vz + 2 * gyz * vy * vz)\n",
        "    sdet_expr = gxx * gyy * gzz + 2 * gxy * gxz * gyz - gxx * gyz ** 2 - gyy * gxz ** 2 - gzz * gxy ** 2\n",
        "    if vx**2 + vy**2 + vz**2 >= 1 or wtemp_expr < 0 or sdet_expr < 0:\n",
        "        # print(f\"Sample failed checks. vx^2+vy^2+vz^2: {vx**2 + vy**2 + vz**2}, wtemp_expr: {wtemp_expr}, sdet_expr: {sdet_expr}\")\n",
        "        return False\n",
        "    else:\n",
        "        # print(f\"Sample passed checks. vx^2+vy^2+vz^2: {vx**2 + vy**2 + vz**2}, wtemp_expr: {wtemp_expr}, sdet_expr: {sdet_expr}\")\n",
        "        return True\n",
        "\n",
        "def generate_samples(n_samples):\n",
        "    samples = []\n",
        "    while len(samples) < n_samples:\n",
        "        sample = sample_primitive_variables_and_metric()\n",
        "        if check_sample(*sample):\n",
        "            samples.append(sample)\n",
        "        # print(f\"Number of valid samples: {len(samples)}\")\n",
        "    return zip(*samples)\n",
        "def sdet(gxx, gxy, gxz, gyy, gyz, gzz):\n",
        "    # Determinant of the three metric.\n",
        "    return (gxx * gyy * gzz + 2 * gxy * gxz * gyz - gxx * gyz ** 2 - gyy * gxz ** 2 - gzz * gxy ** 2) ** 0.5\n",
        "\n",
        "# Defining a function that computes conserved variables from primitive variables and the metric\n",
        "# We follow the source code of GRaM-X: A new GPU-accelerated dynamical spacetime GRMHD code for Exascale\n",
        "# computing with the Einstein Toolkit of Shankar et al.\n",
        "def compute_conserved_variables(rho, epsilon, vx, vy, vz, Bx, By, Bz, gxx, gxy, gxz, gyy, gyz, gzz):\n",
        "    pres = eos_analytic(rho, epsilon)\n",
        "    wtemp = 1 / (1 - (gxx * vx**2 + gyy * vy**2 + gzz * vz**2 +\n",
        "        2 * gxy * vx * vy + 2 * gxz * vx * vz +\n",
        "        2 * gyz * vy * vz))**0.5\n",
        "\n",
        "    vlowx = gxx * vx + gxy * vy + gxz * vz\n",
        "    vlowy = gxy * vx + gyy * vy + gyz * vz\n",
        "    vlowz = gxz * vx + gyz * vy + gzz * vz\n",
        "\n",
        "    Bxlow = gxx * Bx + gxy * By + gxz * Bz\n",
        "    Bylow = gxy * Bx + gyy * By + gyz * Bz\n",
        "    Bzlow = gxz * Bx + gyz * By + gzz * Bz\n",
        "\n",
        "    B2 = Bxlow * Bx + Bylow * By + Bzlow * Bz\n",
        "\n",
        "    Bdotv = Bxlow * vx + Bylow * vy + Bzlow * vz\n",
        "    Bdotv2 = Bdotv * Bdotv\n",
        "    wtemp2 = wtemp * wtemp\n",
        "    b2 = B2 / wtemp2 + Bdotv2\n",
        "    ab0 = wtemp * Bdotv\n",
        "\n",
        "    blowx = (gxx * Bx + gxy * By + gxz * Bz) / wtemp + wtemp * Bdotv * vlowx\n",
        "    blowy = (gxy * Bx + gyy * By + gyz * Bz) / wtemp + wtemp * Bdotv * vlowy\n",
        "    blowz = (gxz * Bx + gyz * By + gzz * Bz) / wtemp + wtemp * Bdotv * vlowz\n",
        "\n",
        "    hrhow2 = (rho * (1 + epsilon) + pres + b2) * (wtemp) * (wtemp)\n",
        "\n",
        "    D = sdet(gxx, gxy, gxz, gyy, gyz, gzz) * rho * (wtemp)\n",
        "    Sx = sdet(gxx, gxy, gxz, gyy, gyz, gzz) * (hrhow2 * vlowx - ab0 * blowx)\n",
        "    Sy = sdet(gxx, gxy, gxz, gyy, gyz, gzz) * (hrhow2 * vlowy - ab0 * blowy)\n",
        "    Sz = sdet(gxx, gxy, gxz, gyy, gyz, gzz) * (hrhow2 * vlowz - ab0 * blowz)\n",
        "    tau = sdet(gxx, gxy, gxz, gyy, gyz, gzz) * (hrhow2 - pres - b2 / 2 - ab0 * ab0) - D\n",
        "    Bconsx = sdet(gxx, gxy, gxz, gyy, gyz, gzz) * Bx\n",
        "    Bconsy = sdet(gxx, gxy, gxz, gyy, gyz, gzz) * By\n",
        "    Bconsz = sdet(gxx, gxy, gxz, gyy, gyz, gzz) * Bz\n",
        "\n",
        "    return D, Sx, Sy, Sz, tau, Bconsx, Bconsy, Bconsz\n",
        "\n",
        "def generate_input_data(rho, epsilon, vx, vy, vz, Bx, By, Bz, gxx, gxy, gxz, gyy, gyz, gzz):\n",
        "    rho = torch.tensor(np.array(rho), dtype=torch.float32).to(device)\n",
        "    epsilon = torch.tensor(np.array(epsilon), dtype=torch.float32).to(device)\n",
        "    vx = torch.tensor(np.array(vx), dtype=torch.float32).to(device)\n",
        "    vy = torch.tensor(np.array(vy), dtype=torch.float32).to(device)\n",
        "    vz = torch.tensor(np.array(vz), dtype=torch.float32).to(device)\n",
        "    Bx = torch.tensor(np.array(Bx), dtype=torch.float32).to(device)\n",
        "    By = torch.tensor(np.array(By), dtype=torch.float32).to(device)\n",
        "    Bz = torch.tensor(np.array(Bz), dtype=torch.float32).to(device)\n",
        "    gxx = torch.tensor(np.array(gxx), dtype=torch.float32).to(device)\n",
        "    gxy = torch.tensor(np.array(gxy), dtype=torch.float32).to(device)\n",
        "    gxz = torch.tensor(np.array(gxz), dtype=torch.float32).to(device)\n",
        "    gyy = torch.tensor(np.array(gyy), dtype=torch.float32).to(device)\n",
        "    gyz = torch.tensor(np.array(gyz), dtype=torch.float32).to(device)\n",
        "    gzz = torch.tensor(np.array(gzz), dtype=torch.float32).to(device)\n",
        "\n",
        "    D, Sx, Sy, Sz, tau, Bscriptx, Bscripty, Bscriptz = compute_conserved_variables(\n",
        "        rho, epsilon, vx, vy, vz, Bx, By, Bz, gxx, gxy, gxz, gyy, gyz, gzz\n",
        "    ) \n",
        "\n",
        "    # Add gxx, gxy, gxz, gyy, gyz, gzz to the tensor\n",
        "    x = torch.stack([D, Sx, Sy, Sz, tau, Bscriptx, Bscripty, Bscriptz, gxx, gxy, gxz, gyy, gyz, gzz], axis=1)\n",
        "    return x\n",
        "\n",
        "# Defining a function that generates output data (labels) from given samples of primitive variables\n",
        "# We use the definitions as given in Recovery schemes for primitive variables in\n",
        "# general-relativistic magnetohydrodynamics of Siegel et al.\n",
        "def generate_labels(rho, epsilon, vx, vy, vz):\n",
        "    # Converting the numpy arrays to torch tensors and moving them to the device\n",
        "    rho = torch.tensor(np.array(rho), dtype=torch.float32).to(device)\n",
        "    epsilon = torch.tensor(np.array(epsilon), dtype=torch.float32).to(device)\n",
        "    vx = torch.tensor(np.array(vx), dtype=torch.float32).to(device)\n",
        "    vy = torch.tensor(np.array(vy), dtype=torch.float32).to(device)\n",
        "    vz = torch.tensor(np.array(vz), dtype=torch.float32).to(device)\n",
        "\n",
        "    # Computing the required quantities\n",
        "    pres = eos_analytic(rho, epsilon)\n",
        "    h = 1 + epsilon + pres / rho\n",
        "    W = 1 / torch.sqrt(1 - (vx * vx + vy * vy + vz * vz))\n",
        "\n",
        "    # Returning the output data tensor\n",
        "    return h * W"
      ]
    },
    {
      "cell_type": "markdown",
      "metadata": {
        "id": "SSJd2Ch74cnI"
      },
      "source": [
        "### Generating or loading input data and labels"
      ]
    },
    {
      "cell_type": "code",
      "execution_count": 8,
      "metadata": {
        "id": "Dbu0GvMz4cnI"
      },
      "outputs": [],
      "source": [
        "%config InteractiveShell.ast_node_interactivity = \"all\""
      ]
    },
    {
      "cell_type": "code",
      "execution_count": 9,
      "metadata": {
        "id": "cKubR6C8UZh4"
      },
      "outputs": [],
      "source": [
        "if LOAD_DATA_FROM_CSV:\n",
        "    # Load the data from CSV files\n",
        "    x_train = pd.read_csv(csv_filenames[\"x_train\"]).values\n",
        "    y_train = pd.read_csv(csv_filenames[\"y_train\"]).values.squeeze()  # reshape to 1D\n",
        "    x_val = pd.read_csv(csv_filenames[\"x_val\"]).values\n",
        "    y_val = pd.read_csv(csv_filenames[\"y_val\"]).values.squeeze()  # reshape to 1D\n",
        "    x_test = pd.read_csv(csv_filenames[\"x_test\"]).values\n",
        "    y_test = pd.read_csv(csv_filenames[\"y_test\"]).values.squeeze()  # reshape to 1D\n",
        "\n",
        "    # Convert numpy arrays to tensors\n",
        "    x_train = torch.from_numpy(x_train).float().to(device)\n",
        "    y_train = torch.from_numpy(y_train).float().to(device)\n",
        "    x_val = torch.from_numpy(x_val).float().to(device)\n",
        "    y_val = torch.from_numpy(y_val).float().to(device)\n",
        "    x_test = torch.from_numpy(x_test).float().to(device)\n",
        "    y_test = torch.from_numpy(y_test).float().to(device)\n",
        "\n",
        "    # This is an alternative to having if clauses around the cells that visualize these variables.\n",
        "    rho = epsilon = vx = vy = vz = Bx = By = Bz = gxx = gxy = gxz = gyy = gyz  = gzz = None"
      ]
    },
    {
      "cell_type": "code",
      "execution_count": 10,
      "metadata": {
        "id": "dImVa4W04cnJ"
      },
      "outputs": [],
      "source": [
        "if not LOAD_DATA_FROM_CSV:\n",
        "    # Sample primitive variables and metric\n",
        "    rho, epsilon, vx, vy, vz, Bx, By, Bz, gxx, gxy, gxz, gyy, gyz, gzz = generate_samples(n_samples)"
      ]
    },
    {
      "cell_type": "code",
      "execution_count": 11,
      "metadata": {
        "id": "ESK3LQPg4cnJ",
        "outputId": "0e6875c5-78d4-49ff-e5e3-c64ec8040844",
        "colab": {
          "base_uri": "https://localhost:8080/"
        }
      },
      "outputs": [
        {
          "output_type": "stream",
          "name": "stdout",
          "text": [
            "rho.shape:  torch.Size([100000])\n",
            "epsilon.shape:  torch.Size([100000])\n",
            "rho.shape:  torch.Size([100000])\n",
            "epsilon.shape:  torch.Size([100000])\n"
          ]
        }
      ],
      "source": [
        "if not LOAD_DATA_FROM_CSV:\n",
        "    # Generate data and labels.\n",
        "    x = generate_input_data(rho, epsilon, vx, vy, vz, Bx, By, Bz, gxx, gxy, gxz, gyy, gyz, gzz)\n",
        "    y = generate_labels(rho, epsilon, vx, vy, vz)\n",
        "\n",
        "    # Calculate the number of samples in each set\n",
        "    n_train_samples = int(n_samples * train_frac)\n",
        "    n_val_samples = int(n_samples * val_frac)\n",
        "\n",
        "    # Create the data sets\n",
        "    x_train = x[:n_train_samples]\n",
        "    y_train = y[:n_train_samples]\n",
        "    x_val = x[n_train_samples : n_train_samples + n_val_samples]\n",
        "    y_val = y[n_train_samples : n_train_samples + n_val_samples]\n",
        "    x_test = x[n_train_samples + n_val_samples :]\n",
        "    y_test = y[n_train_samples + n_val_samples :]\n",
        "\n",
        "    # Save the data to CSV files; tensors need to be converted numpy arrays for saving in CSV.\n",
        "    pd.DataFrame(x_train.cpu().numpy()).to_csv(csv_filenames[\"x_train\"], index=False)\n",
        "    save_file(csv_filenames[\"x_train\"])\n",
        "    pd.DataFrame(y_train.cpu().numpy()).to_csv(csv_filenames[\"y_train\"], index=False)\n",
        "    save_file(csv_filenames[\"y_train\"])\n",
        "\n",
        "    pd.DataFrame(x_val.cpu().numpy()).to_csv(csv_filenames[\"x_val\"], index=False)\n",
        "    save_file(csv_filenames[\"x_val\"])\n",
        "    pd.DataFrame(y_val.cpu().numpy()).to_csv(csv_filenames[\"y_val\"], index=False)\n",
        "    save_file(csv_filenames[\"y_val\"])\n",
        "\n",
        "    pd.DataFrame(x_test.cpu().numpy()).to_csv(csv_filenames[\"x_test\"], index=False)\n",
        "    save_file(csv_filenames[\"x_test\"])\n",
        "    pd.DataFrame(y_test.cpu().numpy()).to_csv(csv_filenames[\"y_test\"], index=False)\n",
        "    save_file(csv_filenames[\"y_test\"])"
      ]
    },
    {
      "cell_type": "code",
      "execution_count": 12,
      "metadata": {
        "id": "Y-3DG_h24cnJ",
        "outputId": "e6fb6bb4-e3e3-4c44-8aba-c7f62af2da99",
        "colab": {
          "base_uri": "https://localhost:8080/"
        }
      },
      "outputs": [
        {
          "output_type": "execute_result",
          "data": {
            "text/plain": [
              "torch.Size([70000, 14])"
            ]
          },
          "metadata": {},
          "execution_count": 12
        },
        {
          "output_type": "execute_result",
          "data": {
            "text/plain": [
              "torch.Size([70000])"
            ]
          },
          "metadata": {},
          "execution_count": 12
        },
        {
          "output_type": "execute_result",
          "data": {
            "text/plain": [
              "torch.Size([15000, 14])"
            ]
          },
          "metadata": {},
          "execution_count": 12
        },
        {
          "output_type": "execute_result",
          "data": {
            "text/plain": [
              "torch.Size([15000])"
            ]
          },
          "metadata": {},
          "execution_count": 12
        },
        {
          "output_type": "execute_result",
          "data": {
            "text/plain": [
              "torch.Size([15000, 14])"
            ]
          },
          "metadata": {},
          "execution_count": 12
        },
        {
          "output_type": "execute_result",
          "data": {
            "text/plain": [
              "torch.Size([15000])"
            ]
          },
          "metadata": {},
          "execution_count": 12
        },
        {
          "output_type": "execute_result",
          "data": {
            "text/plain": [
              "tensor([[ 9.7296e-01,  1.3694e+01, -5.2512e+00,  ...,  9.5809e-01,\n",
              "          1.3540e-02,  9.0202e-01],\n",
              "        [ 9.7393e-01, -4.2324e-01,  1.9771e+01,  ...,  9.0501e-01,\n",
              "          8.9523e-03,  1.0708e+00],\n",
              "        [ 2.5039e+00,  6.6980e+01, -2.0005e+01,  ...,  1.0974e+00,\n",
              "          8.5887e-02,  9.5804e-01],\n",
              "        ...,\n",
              "        [ 4.0375e-01,  3.2443e+00,  2.0840e+01,  ...,  1.0201e+00,\n",
              "          9.6424e-02,  9.6218e-01],\n",
              "        [ 2.9735e+00, -3.6883e+01, -9.7131e+00,  ...,  9.8971e-01,\n",
              "          3.2460e-02,  9.1213e-01],\n",
              "        [ 4.2049e-01, -7.7720e-01,  1.6617e+01,  ...,  9.0741e-01,\n",
              "          7.7956e-02,  1.0412e+00]], device='cuda:0')"
            ]
          },
          "metadata": {},
          "execution_count": 12
        },
        {
          "output_type": "execute_result",
          "data": {
            "text/plain": [
              "tensor([22.6423,  2.4461,  9.1176,  ..., -0.2648,  7.7249,  4.5888],\n",
              "       device='cuda:0')"
            ]
          },
          "metadata": {},
          "execution_count": 12
        },
        {
          "output_type": "execute_result",
          "data": {
            "text/plain": [
              "tensor([[ 3.1976e+00,  4.4184e+01, -1.4920e+00,  ...,  9.2137e-01,\n",
              "          6.7145e-02,  9.1185e-01],\n",
              "        [ 3.1376e-01, -5.2727e-01,  1.7845e+01,  ...,  1.0305e+00,\n",
              "          2.0380e-02,  9.4964e-01],\n",
              "        [ 3.1310e+00,  4.0053e+01,  1.7988e+01,  ...,  1.0554e+00,\n",
              "          3.5199e-02,  1.0739e+00],\n",
              "        ...,\n",
              "        [ 7.6494e-01,  6.0520e+01,  1.0059e+02,  ...,  1.0397e+00,\n",
              "          8.9944e-02,  1.0019e+00],\n",
              "        [ 2.3892e+00, -8.8549e+00,  1.4410e+00,  ...,  9.0348e-01,\n",
              "          6.5625e-02,  9.4841e-01],\n",
              "        [ 1.6634e+00,  5.5344e+01,  1.4650e+02,  ...,  1.0972e+00,\n",
              "          2.8644e-02,  1.0363e+00]], device='cuda:0')"
            ]
          },
          "metadata": {},
          "execution_count": 12
        },
        {
          "output_type": "execute_result",
          "data": {
            "text/plain": [
              "tensor([ 6.4586,  7.5423,  3.9342,  ..., -0.3680,  7.4812, 10.1497],\n",
              "       device='cuda:0')"
            ]
          },
          "metadata": {},
          "execution_count": 12
        },
        {
          "output_type": "execute_result",
          "data": {
            "text/plain": [
              "tensor([[ 5.7861e+00,  8.7036e+01,  4.9080e+01,  ...,  9.8522e-01,\n",
              "          2.1775e-02,  1.0343e+00],\n",
              "        [ 2.2682e-02, -8.1420e+00,  4.9490e+00,  ...,  9.6723e-01,\n",
              "          1.4227e-02,  9.5281e-01],\n",
              "        [ 8.2258e-01,  2.7018e+00,  5.5609e+01,  ...,  9.5204e-01,\n",
              "          1.1841e-02,  9.1371e-01],\n",
              "        ...,\n",
              "        [ 4.1455e+00,  4.0098e+01,  3.8712e+01,  ...,  1.0846e+00,\n",
              "          9.4995e-02,  9.3089e-01],\n",
              "        [ 9.7059e-01, -1.7494e+01,  2.4730e+01,  ...,  9.5829e-01,\n",
              "          2.9738e-02,  9.2908e-01],\n",
              "        [ 3.5764e-01,  3.7498e+01,  2.1817e+01,  ...,  1.0343e+00,\n",
              "          9.0878e-02,  9.4970e-01]], device='cuda:0')"
            ]
          },
          "metadata": {},
          "execution_count": 12
        },
        {
          "output_type": "execute_result",
          "data": {
            "text/plain": [
              "tensor([ 3.9561,  7.5077, -0.7134,  ..., -2.2111,  3.7835,  6.3569],\n",
              "       device='cuda:0')"
            ]
          },
          "metadata": {},
          "execution_count": 12
        }
      ],
      "source": [
        "\n",
        "x_train.shape\n",
        "y_train.shape\n",
        "x_val.shape\n",
        "y_val.shape\n",
        "x_test.shape\n",
        "y_test.shape\n",
        "x_train\n",
        "y_train\n",
        "x_val\n",
        "y_val\n",
        "x_test\n",
        "y_test"
      ]
    },
    {
      "cell_type": "code",
      "execution_count": 13,
      "metadata": {
        "id": "xdpjCNO94cnK",
        "outputId": "96a7f4df-e786-4f0a-cee6-f06aabadcffe",
        "colab": {
          "base_uri": "https://localhost:8080/"
        }
      },
      "outputs": [
        {
          "output_type": "execute_result",
          "data": {
            "text/plain": [
              "tensor(False, device='cuda:0')"
            ]
          },
          "metadata": {},
          "execution_count": 13
        },
        {
          "output_type": "execute_result",
          "data": {
            "text/plain": [
              "tensor(False, device='cuda:0')"
            ]
          },
          "metadata": {},
          "execution_count": 13
        },
        {
          "output_type": "execute_result",
          "data": {
            "text/plain": [
              "tensor(False, device='cuda:0')"
            ]
          },
          "metadata": {},
          "execution_count": 13
        },
        {
          "output_type": "execute_result",
          "data": {
            "text/plain": [
              "tensor(False, device='cuda:0')"
            ]
          },
          "metadata": {},
          "execution_count": 13
        },
        {
          "output_type": "execute_result",
          "data": {
            "text/plain": [
              "tensor(False, device='cuda:0')"
            ]
          },
          "metadata": {},
          "execution_count": 13
        },
        {
          "output_type": "execute_result",
          "data": {
            "text/plain": [
              "tensor(False, device='cuda:0')"
            ]
          },
          "metadata": {},
          "execution_count": 13
        }
      ],
      "source": [
        "torch.isnan(x_train).any()\n",
        "torch.isnan(x_val).any()\n",
        "torch.isnan(x_test).any()\n",
        "torch.isnan(y_train).any()\n",
        "torch.isnan(y_val).any()\n",
        "torch.isnan(y_test).any()"
      ]
    },
    {
      "cell_type": "code",
      "execution_count": 14,
      "metadata": {
        "id": "X1uRb5P04cnK",
        "outputId": "4a976306-46f6-41f7-f662-85284f5c8d19",
        "colab": {
          "base_uri": "https://localhost:8080/"
        }
      },
      "outputs": [
        {
          "output_type": "execute_result",
          "data": {
            "text/plain": [
              "(tensor([], device='cuda:0', dtype=torch.int64),\n",
              " tensor([], device='cuda:0', dtype=torch.int64))"
            ]
          },
          "metadata": {},
          "execution_count": 14
        },
        {
          "output_type": "execute_result",
          "data": {
            "text/plain": [
              "(tensor([], device='cuda:0', dtype=torch.int64),\n",
              " tensor([], device='cuda:0', dtype=torch.int64))"
            ]
          },
          "metadata": {},
          "execution_count": 14
        },
        {
          "output_type": "execute_result",
          "data": {
            "text/plain": [
              "(tensor([], device='cuda:0', dtype=torch.int64),\n",
              " tensor([], device='cuda:0', dtype=torch.int64))"
            ]
          },
          "metadata": {},
          "execution_count": 14
        }
      ],
      "source": [
        "nan_mask_train = torch.isnan(x_train)     # get a boolean mask indicating NaN values\n",
        "nan_indices_train = torch.where(nan_mask_train)  # get the indices of the NaN values\n",
        "nan_indices_train\n",
        "# len(nan_indices_train)\n",
        "\n",
        "nan_mask_val = torch.isnan(x_val)     # get a boolean mask indicating NaN values\n",
        "nan_indices_val = torch.where(nan_mask_val)  # get the indices of the NaN values\n",
        "nan_indices_val\n",
        "# len(nan_indices_test)\n",
        "\n",
        "nan_mask_test = torch.isnan(x_test)     # get a boolean mask indicating NaN values\n",
        "nan_indices_test = torch.where(nan_mask_test)  # get the indices of the NaN values\n",
        "nan_indices_test\n",
        "# len(nan_indices_test)"
      ]
    },
    {
      "cell_type": "markdown",
      "metadata": {
        "id": "HC0o0Myn4cnK"
      },
      "source": [
        "## Visualizing the data"
      ]
    },
    {
      "cell_type": "markdown",
      "metadata": {
        "id": "Myrn0owg4cnL"
      },
      "source": [
        "### Visualizing sampled data"
      ]
    },
    {
      "cell_type": "code",
      "execution_count": 15,
      "metadata": {
        "id": "5CXNfzzz4cnL",
        "outputId": "136b3442-ccab-49e9-d3fa-244e9060da33",
        "colab": {
          "base_uri": "https://localhost:8080/"
        }
      },
      "outputs": [
        {
          "output_type": "stream",
          "name": "stdout",
          "text": [
            "skipping\n"
          ]
        }
      ],
      "source": [
        "%%script echo skipping\n",
        "\n",
        "if not LOAD_DATA_FROM_CSV:\n",
        "    rho\n",
        "    epsilon\n",
        "    vx\n",
        "    vy\n",
        "    vz \n",
        "    Bx\n",
        "    By\n",
        "    Bz\n",
        "    gxx\n",
        "    gxy\n",
        "    gxz\n",
        "    gyy\n",
        "    gyz\n",
        "    gzz "
      ]
    },
    {
      "cell_type": "code",
      "execution_count": 16,
      "metadata": {
        "id": "jEj1uLoV4cnL",
        "outputId": "23b6f15a-704a-4b6a-9942-18b3fb6b1d7e",
        "colab": {
          "base_uri": "https://localhost:8080/"
        }
      },
      "outputs": [
        {
          "output_type": "stream",
          "name": "stdout",
          "text": [
            "100000\n",
            "100000\n",
            "100000\n",
            "100000\n",
            "100000\n",
            "100000\n",
            "100000\n",
            "100000\n",
            "\n",
            "100000\n",
            "100000\n",
            "100000\n",
            "100000\n",
            "100000\n",
            "100000\n"
          ]
        }
      ],
      "source": [
        "if not LOAD_DATA_FROM_CSV:\n",
        "    print(len(rho))\n",
        "    print(len(epsilon))\n",
        "    print(len(vx))\n",
        "    print(len(vy))\n",
        "    print(len(vz))\n",
        "    print(len(Bx))\n",
        "    print(len(By))\n",
        "    print(len(Bz))\n",
        "    print()\n",
        "    print(len(gxx))\n",
        "    print(len(gxy))\n",
        "    print(len(gxz))\n",
        "    print(len(gyy))\n",
        "    print(len(gyz))\n",
        "    print(len(gzz))"
      ]
    },
    {
      "cell_type": "code",
      "execution_count": 17,
      "metadata": {
        "id": "VMp6XJ6RUZh4"
      },
      "outputs": [],
      "source": [
        "%config InteractiveShell.ast_node_interactivity = \"last_expr_or_assign\""
      ]
    },
    {
      "cell_type": "code",
      "execution_count": 18,
      "metadata": {
        "id": "F6urnHAr4cnM",
        "outputId": "9f560d8e-2572-4021-fa2b-c0f79cacc813",
        "colab": {
          "base_uri": "https://localhost:8080/"
        }
      },
      "outputs": [
        {
          "output_type": "stream",
          "name": "stdout",
          "text": [
            "skipping\n"
          ]
        }
      ],
      "source": [
        "%%script echo skipping\n",
        "\n",
        "plt.hist([np.random.uniform(0, 0.999) for _ in range(n_train_samples)], bins=20)"
      ]
    },
    {
      "cell_type": "code",
      "execution_count": 19,
      "metadata": {
        "id": "2iNL6ULb4cnM",
        "outputId": "0d47e587-0475-4c67-bf1c-6c2cb76c9642",
        "colab": {
          "base_uri": "https://localhost:8080/"
        }
      },
      "outputs": [
        {
          "output_type": "stream",
          "name": "stdout",
          "text": [
            "skipping\n"
          ]
        }
      ],
      "source": [
        "%%script echo skipping\n",
        "\n",
        "epsilon"
      ]
    },
    {
      "cell_type": "markdown",
      "metadata": {
        "id": "hydjma5V4cnM"
      },
      "source": [
        "The reason the sampling is not uniformly distributed in the following plots is due to the resampling and the fact that we certain values of e.g. velocity are more likely to violate the speed of light constraint than others."
      ]
    },
    {
      "cell_type": "code",
      "execution_count": 20,
      "metadata": {
        "colab": {
          "base_uri": "https://localhost:8080/",
          "height": 827
        },
        "id": "E5YFdqKjUZh5",
        "outputId": "e0fba8a6-e38e-475e-991d-ab8830f36ee0"
      },
      "outputs": [
        {
          "output_type": "display_data",
          "data": {
            "text/plain": [
              "<Figure size 2000x1600 with 14 Axes>"
            ],
            "image/png": "[encoded data removed]"
          },
          "metadata": {}
        }
      ],
      "source": [
        "#%%script echo skipping\n",
        "\n",
        "if not LOAD_DATA_FROM_CSV:\n",
        "    def plot_histogram(data, xlabel, ylabel, position, bins=20, xlog_scale=False, ylog_scale=False):\n",
        "        plt.subplot(4, 5, position)\n",
        "        plt.hist(data, bins=bins)\n",
        "        plt.xlabel(xlabel)\n",
        "        plt.ylabel(ylabel)\n",
        "        if xlog_scale: # Setting does not work expected for epsilon.\n",
        "            plt.xscale(\"log\")\n",
        "        if ylog_scale: # Setting does not work expected for epsilon.\n",
        "            plt.yscale(\"log\")\n",
        "\n",
        "    # Plotting the histograms of rho, vx, epsilon, b0, b1, b2, and b3\n",
        "    bins = 20\n",
        "    plt.figure(figsize=(20, 16))\n",
        "\n",
        "    plot_histogram(rho, \"rho\", \"Frequency\", 1, bins=bins)\n",
        "    plot_histogram(epsilon, \"epsilon\", \"Frequency\", 2, bins=bins)\n",
        "    plot_histogram(vx, \"vx\", \"Frequency\", 3, bins=bins)\n",
        "    plot_histogram(vy, \"vy\", \"Frequency\", 4, bins=bins)\n",
        "    plot_histogram(vz, \"vz\", \"Frequency\", 5, bins=bins)\n",
        "    plot_histogram(Bx, \"Bx\", \"Frequency\", 6, bins=bins)\n",
        "    plot_histogram(By, \"By\", \"Frequency\", 7, bins=bins)\n",
        "    plot_histogram(Bz, \"Bz\", \"Frequency\", 8, bins=bins)\n",
        "\n",
        "    # Plot these\n",
        "    plot_histogram(gxx, \"gxx\", \"Frequency\", 9, bins=bins)\n",
        "    plot_histogram(gxy, \"gxy\", \"Frequency\", 10, bins=bins)\n",
        "    plot_histogram(gxz, \"gxz\", \"Frequency\", 11, bins=bins)\n",
        "    plot_histogram(gyy, \"gyy\", \"Frequency\", 12, bins=bins)\n",
        "    plot_histogram(gyz, \"gyz\", \"Frequency\", 13, bins=bins)\n",
        "    plot_histogram(gzz, \"gzz\", \"Frequency\", 14, bins=bins)\n",
        "\n",
        "\n",
        "    plt.suptitle(\"Primitive variables and metric\")\n",
        "    plt.tight_layout()\n",
        "    plt.show()\n"
      ]
    },
    {
      "cell_type": "code",
      "execution_count": 21,
      "metadata": {
        "id": "sUNNNX5e4cnN"
      },
      "outputs": [],
      "source": [
        "%config InteractiveShell.ast_node_interactivity = \"last_expr_or_assign\""
      ]
    },
    {
      "cell_type": "code",
      "execution_count": 22,
      "metadata": {
        "id": "et4AFTXb4cnN",
        "outputId": "2942007f-1dd2-4f06-a3d7-ad07a4675b73",
        "colab": {
          "base_uri": "https://localhost:8080/",
          "height": 1000
        }
      },
      "outputs": [
        {
          "output_type": "display_data",
          "data": {
            "text/plain": [
              "<Figure size 1600x1600 with 14 Axes>"
            ],
            "image/png": "[encoded data removed]"
          },
          "metadata": {}
        }
      ],
      "source": [
        "#%%script echo skipping\n",
        "\n",
        "# Variable names\n",
        "variable_names = [\"D\", \"Sx\", \"Sy\", \"Sz\", \"tau\", \"Bconsx\", \"Bconsy\", \"Bconsz\", \"gxx\", \"gxy\", \"gxz\", \"gyy\", \"gyz\", \"gzz\"]\n",
        "\n",
        "# Plotting histograms of the input variables before z-score normalization\n",
        "plt.figure(figsize=(16, 16))\n",
        "plt.suptitle('Histograms of input variables before (or without at all) z-score normalization', y=1.03)\n",
        "\n",
        "for i in range(N_INPUTS):\n",
        "    plt.subplot(7, 2, i+1)\n",
        "    data = x_train[:, i].cpu().numpy() # Convert tensor to numpy array for percentile calculation\n",
        "    lower_bound, upper_bound = np.percentile(data, [1, 100]) # NOTE: Use this instead to visualize all the data.\n",
        "    # lower_bound, upper_bound = np.percentile(data, [1, 90]) # Calculate 1st and 99th percentile\n",
        "\n",
        "    plt.hist(data, bins=50, range=(lower_bound, upper_bound)) # Set range to the calculated percentile range\n",
        "    plt.xlabel(variable_names[i])\n",
        "    plt.xlim(lower_bound, upper_bound) # Set the x limit to match the range of the histogram\n",
        "\n",
        "plt.subplots_adjust(hspace=0.4, wspace=0.4)\n",
        "plt.show()\n",
        "\n",
        "# Same plotting but for the test data. Adjust the percentile range as needed to zoom in.\n",
        "# plt.figure(figsize=(16, 16))\n",
        "# plt.suptitle('Histograms of input variables before (or without at all) z-score normalization (test data)', y=1.03)\n",
        "\n",
        "# for i in range(14):\n",
        "#     plt.subplot(7, 2, i+1)\n",
        "#     data = x_test[:, i].cpu().numpy() # Convert tensor to numpy array for percentile calculation\n",
        "#     #lower_bound, upper_bound = np.percentile(data, [1, 100]) # NOTE: Use this instead to visualize all the data.\n",
        "#     lower_bound, upper_bound = np.percentile(data, [1, 99]) # Use this to zoom in.\n",
        "\n",
        "#     plt.hist(data, bins=50, range=(lower_bound, upper_bound)) # Set range to the calculated percentile range\n",
        "#     plt.xlabel(variable_names[i])\n",
        "#     plt.xlim(lower_bound, upper_bound) # Set the x limit to match the range of the histogram\n",
        "\n",
        "# plt.subplots_adjust(hspace=0.4, wspace=0.4)\n",
        "# plt.show()\n",
        "\n"
      ]
    },
    {
      "cell_type": "markdown",
      "metadata": {
        "id": "oQ8r4X8b4cnO"
      },
      "source": [
        "### Data normalization"
      ]
    },
    {
      "cell_type": "code",
      "execution_count": 23,
      "metadata": {
        "id": "QBlz2cHo4cnO",
        "outputId": "abc4c15e-6ef8-4629-8d6d-bc294236f181",
        "colab": {
          "base_uri": "https://localhost:8080/"
        }
      },
      "outputs": [
        {
          "output_type": "stream",
          "name": "stdout",
          "text": [
            "Summary statistics of input variables before z-score normalization\n",
            "tensor([[ 1.5430e-04,  6.1276e+02,  2.2856e+00,  1.6858e+00,  4.0724e+00],\n",
            "        [-6.1717e+03,  1.4145e+05,  4.0137e+01,  2.2187e+01,  6.2365e+02],\n",
            "        [-9.1364e+03,  1.1681e+05,  4.0474e+01,  2.2001e+01,  5.6817e+02],\n",
            "        [-6.8888e+03,  8.7864e+04,  4.1157e+01,  2.2185e+01,  5.4586e+02],\n",
            "        [-9.5730e+03,  1.8643e+05,  9.5464e+01,  6.9895e+01,  9.3459e+02],\n",
            "        [-1.1138e+01,  1.1149e+01, -8.0072e-03, -8.0844e-03,  5.7433e+00],\n",
            "        [-1.1171e+01,  1.1242e+01, -2.6475e-02, -5.3283e-02,  5.7373e+00],\n",
            "        [-1.1124e+01,  1.1211e+01, -8.9602e-03, -5.1504e-03,  5.7316e+00],\n",
            "        [ 9.0000e-01,  1.1000e+00,  9.9894e-01,  9.9817e-01,  5.7764e-02],\n",
            "        [ 1.5406e-06,  1.0000e-01,  4.9635e-02,  4.9339e-02,  2.8809e-02],\n",
            "        [ 1.5172e-06,  1.0000e-01,  4.9533e-02,  4.9391e-02,  2.8943e-02],\n",
            "        [ 9.0000e-01,  1.1000e+00,  9.9865e-01,  9.9780e-01,  5.7577e-02],\n",
            "        [ 5.5494e-06,  9.9997e-02,  4.9651e-02,  4.9570e-02,  2.8870e-02],\n",
            "        [ 9.0000e-01,  1.1000e+00,  9.9866e-01,  9.9795e-01,  5.7446e-02]],\n",
            "       device='cuda:0')\n"
          ]
        }
      ],
      "source": [
        "# Computing summary statistics of the input variables before and after z-score normalization\n",
        "print('Summary statistics of input variables before z-score normalization')\n",
        "print(torch.stack([torch.min(x_train, dim=0).values, torch.max(x_train, dim=0).values, torch.nanmean(x_train, dim=0), torch.median(x_train, dim=0).values, torch.std(x_train, dim=0)], dim=1))"
      ]
    },
    {
      "cell_type": "markdown",
      "metadata": {
        "id": "xTEmkR1SUZh7"
      },
      "source": [
        "Perform z-score normalization"
      ]
    },
    {
      "cell_type": "code",
      "execution_count": 24,
      "metadata": {
        "id": "skDi8Xbh4cnO"
      },
      "outputs": [],
      "source": [
        "%config InteractiveShell.ast_node_interactivity = \"all\""
      ]
    },
    {
      "cell_type": "code",
      "execution_count": 25,
      "metadata": {
        "id": "yPOv6DxhUZh7"
      },
      "outputs": [],
      "source": [
        "if ZSCORE_NORMALIZATION:\n",
        "    \n",
        "    # TODO: Add magnetic field variables to the normalization if I decide to use the old code that is commented out here.\n",
        "    # # Computing the median of each input variable from the training set using torch.nanmedian function\n",
        "    # D_median = torch.nanmedian(x_train[:, 0])\n",
        "    # Sx_median = torch.nanmedian(x_train[:, 1])\n",
        "    # Sy_median = torch.nanmedian(x_train[:, 2])\n",
        "    # Sz_median = torch.nanmedian(x_train[:, 3])\n",
        "    # tau_median = torch.nanmedian(x_train[:, 4])\n",
        "\n",
        "    # # Computing the standard deviation of each input variable from the training set using torch.std function with a boolean mask to ignore nan values\n",
        "    # D_std = torch.std(x_train[~torch.isnan(x_train[:, 0]), 0])\n",
        "    # Sx_std = torch.std(x_train[~torch.isnan(x_train[:, 1]), 1])\n",
        "    # Sy_std = torch.std(x_train[~torch.isnan(x_train[:, 2]), 2])\n",
        "    # Sz_std = torch.std(x_train[~torch.isnan(x_train[:, 3]), 3])\n",
        "    # tau_std = torch.std(x_train[~torch.isnan(x_train[:, 4]), 4])\n",
        "\n",
        "\n",
        "    # # Applying z-score normalization to both train and test sets using the statistics from the training set\n",
        "    # x_train[:, 0] = torch.sub(x_train[:, 0], D_median).div(D_std)\n",
        "    # x_train[:, 1] = torch.sub(x_train[:, 1], Sx_median).div(Sx_std)\n",
        "    # x_train[:, 2] = torch.sub(x_train[:, 2], Sy_median).div(Sy_std)\n",
        "    # x_train[:, 3] = torch.sub(x_train[:, 3], Sz_median).div(Sz_std)\n",
        "    # x_train[:, 4] = torch.sub(x_train[:, 4], tau_median).div(tau_std)\n",
        "\n",
        "    # x_test[:, 0] = torch.sub(x_test[:, 0], D_median).div(D_std)\n",
        "    # x_test[:, 1] = torch.sub(x_test[:, 1], Sx_median).div(Sx_std)\n",
        "    # x_test[:, 2] = torch.sub(x_test[:, 2], Sy_median).div(Sy_std)\n",
        "    # x_test[:, 3] = torch.sub(x_test[:, 3], Sz_median).div(Sz_std)\n",
        "    # x_test[:, 4] = torch.sub(x_test[:, 4], tau_median).div(tau_std)\n",
        "\n",
        "    # Computing the mean and standard deviation of each column\n",
        "    mean = x_train.mean(dim=0)\n",
        "    std = x_train.std(dim=0)\n",
        "\n",
        "    # Applying z-score normalization\n",
        "    x_train = (x_train - mean) / std\n",
        "    # Use the same mean and std from the training data as we don't want test data leakage.\n",
        "    x_test = (x_test - mean) / std\n",
        "\n"
      ]
    },
    {
      "cell_type": "markdown",
      "metadata": {
        "id": "5xqeJJH34cnc"
      },
      "source": [
        "Plotting the histograms of the input data after normalization if z-score normalization was performed."
      ]
    },
    {
      "cell_type": "code",
      "execution_count": 26,
      "metadata": {
        "id": "IknQpxd94cnc"
      },
      "outputs": [],
      "source": [
        "%config InteractiveShell.ast_node_interactivity = \"last_expr_or_assign\""
      ]
    },
    {
      "cell_type": "code",
      "execution_count": 27,
      "metadata": {
        "id": "u30TMn0q4cnc"
      },
      "outputs": [],
      "source": [
        "if not LOAD_DATA_FROM_CSV:\n",
        "    if ZSCORE_NORMALIZATION:\n",
        "        # Variable names\n",
        "        variable_names = [\"D\", \"Sx\", \"Sy\", \"Sz\", \"tau\", \"Bconsx\", \"Bconsy\", \"Bconsz\", \"gxx\", \"gxy\", \"gxz\", \"gyy\", \"gyz\", \"gzz\"]\n",
        "\n",
        "        # Plotting histograms of the input variables before z-score normalization\n",
        "        plt.figure(figsize=(16, 16))\n",
        "        plt.suptitle('Histograms of input variables before (or without at all) z-score normalization', y=1.03)\n",
        "\n",
        "        for i in range(N_INPUTS):\n",
        "            plt.subplot(7, 2, i+1)\n",
        "            data = x_train[:, i].cpu().numpy() # Convert tensor to numpy array for percentile calculation\n",
        "            lower_bound, upper_bound = np.percentile(data, [1, 100]) # NOTE: Use this instead to visualize all the data.\n",
        "            # lower_bound, upper_bound = np.percentile(data, [1, 90]) # Calculate 1st and 99th percentile\n",
        "\n",
        "            plt.hist(data, bins=50, range=(lower_bound, upper_bound)) # Set range to the calculated percentile range\n",
        "            plt.xlabel(variable_names[i])\n",
        "            plt.xlim(lower_bound, upper_bound) # Set the x limit to match the range of the histogram\n",
        "\n",
        "        plt.subplots_adjust(hspace=0.4, wspace=0.4)\n",
        "        plt.show()"
      ]
    },
    {
      "cell_type": "code",
      "execution_count": 28,
      "metadata": {
        "id": "U_SBKnoX4cnd"
      },
      "outputs": [],
      "source": [
        "if ZSCORE_NORMALIZATION:\n",
        "    # Computing summary statistics of the input variables after z-score normalization\n",
        "    print('Summary statistics of input variables after z-score normalization')\n",
        "    print(torch.stack([torch.min(x_train, dim=0).values, torch.max(x_train, dim=0).values, torch.mean(x_train, dim=0), torch.median(x_train, dim=0).values, torch.std(x_train, dim=0)], dim=1))\n"
      ]
    },
    {
      "cell_type": "markdown",
      "metadata": {
        "id": "34JFkBNc4cnd"
      },
      "source": [
        "### Visualizing input data and labels"
      ]
    },
    {
      "cell_type": "code",
      "execution_count": 29,
      "metadata": {
        "id": "8TkfblGD4cnd",
        "outputId": "cc272b5a-f03b-4e9a-8915-8b3bc6129d64",
        "colab": {
          "base_uri": "https://localhost:8080/"
        }
      },
      "outputs": [
        {
          "output_type": "execute_result",
          "data": {
            "text/plain": [
              "tensor([ 3.9561,  7.5077, -0.7134,  ..., -2.2111,  3.7835,  6.3569],\n",
              "       device='cuda:0')"
            ]
          },
          "metadata": {},
          "execution_count": 29
        }
      ],
      "source": [
        "x_train\n",
        "y_train\n",
        "x_val\n",
        "y_val\n",
        "x_test\n",
        "y_test"
      ]
    },
    {
      "cell_type": "markdown",
      "metadata": {
        "id": "E96p_MsOUZh9",
        "outputId": "4b95bad0-8f3a-4364-eed1-008e0ce2a5e3"
      },
      "source": [
        "Checking if our output is always positive ~~by plotting a histogram of y_train and y_test tensors~~"
      ]
    },
    {
      "cell_type": "code",
      "execution_count": 30,
      "metadata": {
        "id": "oRXf8ib_4cne",
        "outputId": "354568cb-5bbb-4c53-c4c0-8841b005a0a0",
        "colab": {
          "base_uri": "https://localhost:8080/"
        }
      },
      "outputs": [
        {
          "output_type": "stream",
          "name": "stdout",
          "text": [
            "tensor(True)\n"
          ]
        }
      ],
      "source": [
        "import torch\n",
        "\n",
        "# Create a sample tensor\n",
        "tensor = torch.randn(80000, 14)  # Assuming a tensor of shape [80000, 14]\n",
        "tensor\n",
        "\n",
        "\n",
        "# Check if any element is negative\n",
        "any_negative = torch.any(tensor < 0)\n",
        "\n",
        "# Print the result\n",
        "print(any_negative)\n"
      ]
    },
    {
      "cell_type": "code",
      "execution_count": 31,
      "metadata": {
        "id": "1pWymsnT4cne",
        "outputId": "efdf6bf0-888f-4d77-b69c-5e2d07f3017a",
        "colab": {
          "base_uri": "https://localhost:8080/"
        }
      },
      "outputs": [
        {
          "output_type": "execute_result",
          "data": {
            "text/plain": [
              "tensor(True, device='cuda:0')"
            ]
          },
          "metadata": {},
          "execution_count": 31
        }
      ],
      "source": [
        "y_train.shape\n",
        "any_negative = torch.any(y_train < 0)\n",
        "any_negative\n",
        "\n",
        "y_test.shape\n",
        "any_negative = torch.any(y_test < 0)\n",
        "any_negative\n",
        "\n",
        "x_train.shape\n",
        "any_negative = torch.any(x_train < 0)\n",
        "any_negative"
      ]
    },
    {
      "cell_type": "code",
      "execution_count": 32,
      "metadata": {
        "id": "I8j5uTN94cne",
        "outputId": "0b4ffa3b-0bcc-4b50-ddec-93fae00c1cc5",
        "colab": {
          "base_uri": "https://localhost:8080/",
          "height": 407
        }
      },
      "outputs": [
        {
          "output_type": "display_data",
          "data": {
            "text/plain": [
              "<Figure size 800x400 with 3 Axes>"
            ],
            "image/png": "[encoded data removed]"
          },
          "metadata": {}
        }
      ],
      "source": [
        "#%%script echo skipping\n",
        "\n",
        "plt.figure(figsize=(8, 4))\n",
        "plt.subplot(1, 3, 1)\n",
        "plt.hist(y_train.cpu().numpy(), bins=100) # must be cpu here.\n",
        "plt.xlabel(\"y_train\")\n",
        "plt.ylabel(\"Frequency\")\n",
        "plt.xscale(\"log\")\n",
        "plt.subplot(1, 3, 2)\n",
        "plt.hist(y_val.cpu().numpy(), bins=100) # must be cpu here\n",
        "plt.xlabel(\"y_val\")\n",
        "plt.ylabel(\"Frequency\")\n",
        "plt.xscale(\"log\")\n",
        "plt.tight_layout()\n",
        "plt.subplot(1, 3, 3)\n",
        "plt.hist(y_test.cpu().numpy(), bins=100) # must be cpu here\n",
        "plt.xlabel(\"y_test\")\n",
        "plt.ylabel(\"Frequency\")\n",
        "plt.xscale(\"log\")\n",
        "plt.tight_layout()\n",
        "plt.show()\n"
      ]
    },
    {
      "cell_type": "code",
      "execution_count": 33,
      "metadata": {
        "id": "FEgjk--AUZh9"
      },
      "outputs": [],
      "source": [
        "%config InteractiveShell.ast_node_interactivity = \"all\""
      ]
    },
    {
      "cell_type": "markdown",
      "metadata": {
        "id": "r2b9GecHUZh9"
      },
      "source": [
        "## Defining the neural network"
      ]
    },
    {
      "cell_type": "code",
      "execution_count": 34,
      "metadata": {
        "id": "Iv8HA-ZXUZh-"
      },
      "outputs": [],
      "source": [
        "# Defining a class for the network\n",
        "class Net(nn.Module):\n",
        "    \"\"\"A class for creating a network with a\n",
        "    variable number of hidden layers and units.\n",
        "\n",
        "    Attributes:\n",
        "        n_layers (int): The number of hidden layers in the network.\n",
        "        n_units (list): A list of integers representing the number of units in each hidden layer.\n",
        "        hidden_activation (torch.nn.Module): The activation function for the hidden layers.\n",
        "        output_activation (torch.nn.Module): The activation function for the output layer.\n",
        "        layers (torch.nn.ModuleList): A list of linear layers in the network.\n",
        "    \"\"\"\n",
        "\n",
        "    def __init__(self, n_layers, n_units, hidden_activation, output_activation, dropout_rate):\n",
        "        \"\"\"Initializes the network with the given hyperparameters.\n",
        "\n",
        "        Args:\n",
        "            n_layers (int): The number of hidden layers in the network.\n",
        "            n_units (list): A list of integers representing the number of units in each hidden layer.\n",
        "            hidden_activation (torch.nn.Module): The activation function for the hidden layers.\n",
        "            output_activation (torch.nn.Module): The activation function for the output layer.\n",
        "            TODO: [ver. Copilot description] dropout_rate (float): The dropout rate to use for all layers.\n",
        "        \"\"\"\n",
        "        super().__init__()\n",
        "        self.n_layers = n_layers\n",
        "        self.n_units = n_units\n",
        "        self.hidden_activation = hidden_activation\n",
        "        self.output_activation = output_activation\n",
        "        self.dropout_rate = dropout_rate\n",
        "\n",
        "        # Creating a list of linear layers with different numbers of units for each layer\n",
        "        self.layers = nn.ModuleList()\n",
        "        self.dropouts = nn.ModuleList()\n",
        "\n",
        "        self.layers.append(nn.Linear(N_INPUTS, n_units[0]))\n",
        "        self.dropouts.append(nn.Dropout(p=dropout_rate))\n",
        "\n",
        "        for i in range(1, n_layers):\n",
        "            self.layers.append(nn.Linear(n_units[i - 1], n_units[i]))\n",
        "            self.dropouts.append(nn.Dropout(p=dropout_rate))\n",
        "\n",
        "        self.layers.append(nn.Linear(n_units[-1], N_OUTPUTS))\n",
        "\n",
        "        # Adding some assertions to check that the input arguments are valid\n",
        "        assert isinstance(n_layers, int) and n_layers > 0, \"n_layers must be a positive integer\"\n",
        "        assert isinstance(n_units, list) and len(n_units) == n_layers, \"n_units must be a list of length n_layers\"\n",
        "        assert all(isinstance(n, int) and n > 0 for n in n_units), \"n_units must contain positive integers\"\n",
        "        assert isinstance(hidden_activation, nn.Module), \"hidden_activation must be a torch.nn.Module\"\n",
        "        assert isinstance(output_activation, nn.Module), \"output_activation must be a torch.nn.Module\"\n",
        "\n",
        "    def forward(self, x):\n",
        "        \"\"\"Performs a forward pass on the input tensor.\n",
        "\n",
        "        Args:\n",
        "            x (torch.Tensor): The input tensor of shape (batch_size, N_INPUTS).\n",
        "\n",
        "        Returns:\n",
        "            torch.Tensor: The output tensor of shape (batch_size, N_OUTPUTS).\n",
        "        \"\"\"\n",
        "        # Adding an assertion to check that the input tensor has the expected shape and type\n",
        "        assert isinstance(x, torch.Tensor), \"x must be a torch.Tensor\"\n",
        "        assert x.shape[1] == N_INPUTS, f\"x must have shape (batch_size, {N_INPUTS})\"\n",
        "\n",
        "        for layer, dropout in zip(self.layers[:-1], self.dropouts):\n",
        "            x = dropout(self.hidden_activation(layer(x)))\n",
        "        # Applying the linear transformation and the activation function on the output layer\n",
        "        x = self.output_activation(self.layers[-1](x)) # No dropout at output layer\n",
        "\n",
        "        return x # Returning the output tensor\n"
      ]
    },
    {
      "cell_type": "code",
      "execution_count": 35,
      "metadata": {
        "id": "4zShBNVG4cnf",
        "outputId": "7c58a404-3fc1-4ad5-d29c-6a14f3cfd667",
        "colab": {
          "base_uri": "https://localhost:8080/"
        }
      },
      "outputs": [
        {
          "output_type": "stream",
          "name": "stdout",
          "text": [
            "skipping\n"
          ]
        }
      ],
      "source": [
        "%%script echo skipping\n",
        "\n",
        "[1,2,3]\n",
        "[1,2,3][:-1]"
      ]
    },
    {
      "cell_type": "code",
      "execution_count": 36,
      "metadata": {
        "id": "3c3WaPyv4cng",
        "outputId": "2578776e-e05c-4116-fd29-fdcfa2cd035f",
        "colab": {
          "base_uri": "https://localhost:8080/"
        }
      },
      "outputs": [
        {
          "output_type": "stream",
          "name": "stdout",
          "text": [
            "1\n",
            "2\n"
          ]
        }
      ],
      "source": [
        "for x in [1,2,3][:-1]:\n",
        "    print(x)\n",
        "\n"
      ]
    },
    {
      "cell_type": "markdown",
      "metadata": {
        "id": "6GNvp55PUZh_"
      },
      "source": [
        "## Defining the model and search space"
      ]
    },
    {
      "cell_type": "code",
      "execution_count": 37,
      "metadata": {
        "id": "9a1opluOUZh_"
      },
      "outputs": [],
      "source": [
        "# Defining a function to create a trial network and optimizer\n",
        "def create_model(trial, optimize):\n",
        "    \"\"\"Creates a trial network and optimizer based on the sampled hyperparameters.\n",
        "\n",
        "    Args:\n",
        "        trial (optuna.trial.Trial): The trial object that contains the hyperparameters.\n",
        "        optimize (boolean): Whether to optimize the hyperparameters or to use predefined values.\n",
        "\n",
        "    Returns:\n",
        "        tuple: A tuple of (net, loss_fn, optimizer, batch_size, n_epochs,\n",
        "            scheduler, loss_name, optimizer_name, scheduler_name,\n",
        "            n_units, n_layers, hidden_activation, output_activation),\n",
        "            where net is the trial network,\n",
        "            loss_fn is the loss function,\n",
        "            optimizer is the optimizer,\n",
        "            batch_size is the batch size,\n",
        "            n_epochs is the number of epochs,\n",
        "            scheduler is the learning rate scheduler,\n",
        "            loss_name is the name of the loss function,\n",
        "            optimizer_name is the name of the optimizer,\n",
        "            scheduler_name is the name of the scheduler,\n",
        "            n_units is a list of integers representing\n",
        "            the number of units in each hidden layer,\n",
        "            n_layers is an integer representing the number of hidden layers in the network,\n",
        "            hidden_activation is a torch.nn.Module representing the activation function for the hidden layers,\n",
        "            output_activation is a torch.nn.Module representing the activation function for the output layer,\n",
        "            lr is the (initial) learning rate.\n",
        "            dropout_rate is the dropout rate.\n",
        "    \"\"\"\n",
        "    # If optimize is True, sample the hyperparameters from the search space\n",
        "    if OPTIMIZE:\n",
        "        n_layers = trial.suggest_int(\"n_layers\", 1, 10)\n",
        "        n_units = [trial.suggest_int(f\"n_units_{i}\", 16, 4096) for i in range(n_layers)]\n",
        "\n",
        "        hidden_activation_name = trial.suggest_categorical(\n",
        "            \"hidden_activation\", [\"ReLU\", \"LeakyReLU\", \"ELU\", \"PReLU\", \"Swish\", \"GELU\", \"SoftPlus\"]\n",
        "        )\n",
        "        output_activation_name = trial.suggest_categorical( \"output_activation\", [\"Linear\"])\n",
        "\n",
        "        loss_name = trial.suggest_categorical( \"loss\", [\"MSE\", \"MAE\", \"Huber\", \"Quantile\"]) \n",
        "\n",
        "        optimizer_name = trial.suggest_categorical( \"optimizer\", [\"Adam\", \"SGD\", \"RMSprop\", \"Adagrad\"] )\n",
        "\n",
        "        lr = trial.suggest_loguniform(\"lr\", 1e-5, 1e-1)\n",
        "\n",
        "        batch_size_list = [32, 64, 128, 256, 512, 1024, 2048]\n",
        "        batch_size = trial.suggest_categorical(\"batch_size\", batch_size_list)\n",
        "        \n",
        "        n_epochs = trial.suggest_int(\"n_epochs\", 50, 150)\n",
        "\n",
        "        # scheduler_name = trial.suggest_categorical(\"scheduler\", [\"CosineAnnealingLR\", \"ReduceLROnPlateau\", \"StepLR\", \"CyclicLR\"])\n",
        "        scheduler_name = trial.suggest_categorical(\"scheduler\", [\"CosineAnnealingLR\", \"ReduceLROnPlateau\", \"StepLR\"])\n",
        "\n",
        "        # Creating the activation functions from their names\n",
        "        if hidden_activation_name == \"ReLU\":\n",
        "            hidden_activation = nn.ReLU()\n",
        "        elif hidden_activation_name == \"LeakyReLU\":\n",
        "            negative_slope = trial.suggest_uniform(\"leakyrelu_slope\", 0.01, 0.3)\n",
        "            hidden_activation = nn.LeakyReLU(negative_slope=negative_slope)\n",
        "        elif hidden_activation_name == \"ELU\":\n",
        "            hidden_activation = nn.ELU() \n",
        "        elif hidden_activation_name == \"PReLU\":\n",
        "            init = trial.suggest_uniform(\"prelu_init\", 0.1, 0.3)\n",
        "            hidden_activation = nn.PReLU(init=init)\n",
        "        elif hidden_activation_name == \"Swish\":\n",
        "            class Swish(nn.Module):\n",
        "                def forward(self, x):\n",
        "                    return x * torch.sigmoid(x)\n",
        "            hidden_activation = Swish()\n",
        "        elif hidden_activation_name == \"GELU\":\n",
        "            hidden_activation = nn.GELU()\n",
        "        elif hidden_activation_name == \"SoftPlus\":\n",
        "            beta = trial.suggest_uniform(\"softplus_beta\", 0.5, 1.5)\n",
        "            hidden_activation = nn.Softplus(beta=beta) # We don't optimize thresshold subparameters, as it's mainly for numerical stability.\n",
        "\n",
        "        dropout_rate = trial.suggest_uniform(\"dropout_rate\", 0.0, 0.5)\n",
        "\n",
        "\n",
        "    # If optimize is False, use the predefined values\n",
        "    else:\n",
        "        # Setting the hyperparameters to the predefined values\n",
        "        n_layers = N_LAYERS_NO_OPT\n",
        "        n_units = N_UNITS_NO_OPT\n",
        "        hidden_activation_name = HIDDEN_ACTIVATION_NAME_NO_OPT\n",
        "        output_activation_name = OUTPUT_ACTIVATION_NAME_NO_OPT\n",
        "        loss_name = LOSS_NAME_NO_OPT\n",
        "        optimizer_name = OPTIMIZER_NAME_NO_OPT\n",
        "        lr = LR_NO_OPT\n",
        "        batch_size = BATCH_SIZE_NO_OPT\n",
        "        n_epochs = N_EPOCHS_NO_OPT\n",
        "        scheduler_name = SCHEDULER_NAME_NO_OPT\n",
        "\n",
        "        # Creating the activation functions from their names\n",
        "        if hidden_activation_name == \"ReLU\":\n",
        "            hidden_activation = nn.ReLU()\n",
        "        elif hidden_activation_name == \"LeakyReLU\":\n",
        "            negative_slope = 0.01\n",
        "            hidden_activation = nn.LeakyReLU(negative_slope=negative_slope)\n",
        "        elif hidden_activation_name == \"ELU\":\n",
        "            hidden_activation = nn.ELU() \n",
        "        elif hidden_activation_name == \"PReLU\":\n",
        "            init = 0.25\n",
        "            hidden_activation = nn.PReLU(init=init)\n",
        "        elif hidden_activation_name == \"Swish\":\n",
        "            class Swish(nn.Module):\n",
        "                def forward(self, x):\n",
        "                    return x * torch.sigmoid(x)\n",
        "            hidden_activation = Swish()\n",
        "        elif hidden_activation_name == \"GELU\":\n",
        "            hidden_activation = nn.GELU()\n",
        "        elif hidden_activation_name == \"SoftPlus\":\n",
        "            beta = 1\n",
        "            hidden_activation = nn.Softplus(beta=beta) # We don't optimize threshold subparameter, as it's mainly for numerical stability.\n",
        "\n",
        "        dropout_rate = DROPOUT_RATE_NO_OPT\n",
        "\n",
        "\n",
        "    # We used to have options here, but since we have a regression problem with continuous output, we only use Linear.\n",
        "    output_activation = nn.Identity()\n",
        "\n",
        "    # Creating the loss function from its name\n",
        "    if loss_name == \"MSE\":\n",
        "        loss_fn = nn.MSELoss()\n",
        "    elif loss_name == \"MAE\":\n",
        "        loss_fn = nn.L1Loss()\n",
        "    elif loss_name == \"Huber\":\n",
        "        loss_fn = nn.SmoothL1Loss() \n",
        "    elif loss_name == \"Quantile\":\n",
        "        def quantile_loss(y_pred, y_true, q=0.5):\n",
        "            e = y_pred - y_true\n",
        "            return torch.mean(torch.max(q*e, (q-1)*e))\n",
        "        loss_fn = quantile_loss\n",
        "    else:\n",
        "        def log_cosh_loss(y_pred, y_true):\n",
        "            return torch.mean(torch.log(torch.cosh(y_pred - y_true)))\n",
        "        loss_fn = log_cosh_loss\n",
        "\n",
        "    # Creating the network with the sampled hyperparameters\n",
        "    net = Net(n_layers, n_units, hidden_activation, output_activation, dropout_rate).to(device)\n",
        "\n",
        "\n",
        "    if OPTIMIZE:\n",
        "        # Creating the optimizer from its name\n",
        "        if optimizer_name == \"SGD\":\n",
        "            weight_decay = trial.suggest_loguniform(\"weight_decay\", 1e-5, 1e-2)\n",
        "            momentum = trial.suggest_uniform(\"momentum\", 0.0, 0.99)\n",
        "            optimizer = optim.SGD(net.parameters(), lr=lr, weight_decay=weight_decay, momentum=momentum)\n",
        "        elif optimizer_name == \"Adam\":\n",
        "            weight_decay = trial.suggest_loguniform(\"weight_decay\", 1e-5, 1e-2)\n",
        "            beta1 = trial.suggest_uniform(\"beta1\", 0.9, 0.999)\n",
        "            beta2 = trial.suggest_uniform(\"beta2\", 0.999, 0.9999)\n",
        "            optimizer = optim.Adam(net.parameters(), lr=lr, weight_decay=weight_decay, betas=(beta1, beta2))\n",
        "        elif optimizer_name == \"RMSprop\":\n",
        "            optimizer = optim.RMSprop(net.parameters(), lr=lr)\n",
        "        else:\n",
        "            optimizer = optim.Adagrad(net.parameters(), lr=lr)\n",
        "\n",
        "        # Creating the learning rate scheduler from its name\n",
        "        if scheduler_name == \"StepLR\":\n",
        "            step_size = trial.suggest_int(\"step_size\", 5, 15)\n",
        "            gamma = trial.suggest_uniform(\"gamma\", 0.1, 0.5)\n",
        "            scheduler = optim.lr_scheduler.StepLR(optimizer, step_size=step_size, gamma=gamma)\n",
        "        elif scheduler_name == \"ExponentialLR\":\n",
        "            gamma = trial.suggest_uniform(\"gamma\", 0.8, 0.99)\n",
        "            scheduler = optim.lr_scheduler.ExponentialLR(optimizer, gamma=gamma)\n",
        "        elif scheduler_name == \"CosineAnnealingLR\":\n",
        "            if n_epochs < 150:\n",
        "                t_max_fraction = trial.suggest_uniform('t_max_fraction', 0.1, 0.3)\n",
        "            elif n_epochs > 250:\n",
        "                t_max_fraction = trial.suggest_uniform('t_max_fraction', 0.05, 0.1)\n",
        "            else:\n",
        "                t_max_fraction = trial.suggest_uniform('t_max_fraction', 0.1, 0.2)\n",
        "\n",
        "            T_max = int(n_epochs * t_max_fraction)\n",
        "            eta_min = trial.suggest_loguniform(\"eta_min\", 1e-7, 1e-2)\n",
        "            scheduler = optim.lr_scheduler.CosineAnnealingLR(optimizer, T_max=T_max, eta_min=eta_min)\n",
        "        elif scheduler_name == \"ReduceLROnPlateau\":\n",
        "            factor = trial.suggest_uniform(\"factor\", 0.1, 0.5)\n",
        "            patience = trial.suggest_int(\"patience\", 5, 10)\n",
        "            threshold = trial.suggest_loguniform(\"threshold\", 1e-4, 1e-2)\n",
        "            scheduler = optim.lr_scheduler.ReduceLROnPlateau(\n",
        "                optimizer, mode=\"min\", factor=factor, patience=patience, threshold=threshold\n",
        "            )\n",
        "        elif scheduler_name == \"CyclicLR\":\n",
        "            base_lr = trial.suggest_loguniform(\"base_lr\", 1e-6, 1e-2)\n",
        "            max_lr = trial.suggest_loguniform(\"max_lr\", 1e-4, 1)\n",
        "            step_size_up = trial.suggest_int(\"step_size_up\", 200, 2000)\n",
        "            scheduler = optim.lr_scheduler.CyclicLR(optimizer, base_lr=base_lr, max_lr=max_lr, step_size_up=step_size_up)\n",
        "        else:\n",
        "            scheduler = None\n",
        "    else:\n",
        "        # Creating the optimizer from its name\n",
        "        if optimizer_name == \"SGD\":\n",
        "            optimizer = optim.SGD(net.parameters(), lr=lr)\n",
        "        elif optimizer_name == \"Adam\":\n",
        "            optimizer = optim.Adam(net.parameters(), lr=lr)\n",
        "        elif optimizer_name == \"RMSprop\":\n",
        "            optimizer = optim.RMSprop(net.parameters(), lr=lr)\n",
        "        else:\n",
        "            optimizer = optim.Adagrad(net.parameters(), lr=lr)\n",
        "\n",
        "        # Creating the learning rate scheduler from its name\n",
        "        if scheduler_name == \"StepLR\":\n",
        "            scheduler = optim.lr_scheduler.StepLR(optimizer, step_size=10, gamma=0.1)\n",
        "        elif scheduler_name == \"ExponentialLR\":\n",
        "            scheduler = optim.lr_scheduler.ExponentialLR(optimizer, gamma=0.9)\n",
        "        elif scheduler_name == \"CosineAnnealingLR\":\n",
        "            scheduler = optim.lr_scheduler.CosineAnnealingLR(optimizer)\n",
        "        elif scheduler_name == \"ReduceLROnPlateau\":\n",
        "            scheduler = optim.lr_scheduler.ReduceLROnPlateau(\n",
        "                        optimizer, mode=\"min\", factor=0.18979341786654758, patience=11, threshold=0.0017197466122611932 #, min_lr=1e-6\n",
        "                    )\n",
        "        elif scheduler_name == \"CyclicLR\":\n",
        "            # TODO: Change these appropriately.\n",
        "            base_lr = 1e-6\n",
        "            max_lr = 1e-4\n",
        "            step_size_up = 200\n",
        "            scheduler = optim.lr_scheduler.CyclicLR(optimizer, base_lr=base_lr, max_lr=max_lr, step_size_up=step_size_up)\n",
        "        else:\n",
        "            scheduler = None\n",
        "\n",
        "    # Returning all variables needed for saving and loading\n",
        "    return net, loss_fn, optimizer, batch_size, n_epochs, scheduler, loss_name, optimizer_name, scheduler_name, n_units, n_layers, hidden_activation, output_activation, lr, dropout_rate\n",
        "\n",
        "\n"
      ]
    },
    {
      "cell_type": "markdown",
      "metadata": {
        "id": "l-czA7VvUZiD"
      },
      "source": [
        " ## The training and evaluation loop\n",
        "\n",
        " We first define a couple of functions used in the training and evaluation."
      ]
    },
    {
      "cell_type": "code",
      "execution_count": 38,
      "metadata": {
        "id": "aD6FQNmxUZiD"
      },
      "outputs": [],
      "source": [
        "# Defining a function that computes loss and metrics for a given batch\n",
        "def compute_loss_and_metrics(y_pred, y_true, loss_fn):\n",
        "    \"\"\"Computes loss and metrics for a given batch.\n",
        "\n",
        "    Args:\n",
        "        y_pred (torch.Tensor): The predicted pressure tensor of shape (batch_size, 1).\n",
        "        y_true (torch.Tensor): The true pressure tensor of shape (batch_size,).\n",
        "        loss_fn (torch.nn.Module or function): The loss function to use.\n",
        "\n",
        "    Returns:\n",
        "        tuple: A tuple of (loss, l1_norm), where loss is a scalar tensor,\n",
        "            l1_norm is L1 norm for relative error of pressure,\n",
        "            each being a scalar tensor.\n",
        "            linf_norm is Linf norm for relative error of pressure.\n",
        "    \"\"\"\n",
        "    # Reshaping the target tensor to match the input tensor\n",
        "    y_true = y_true.view(-1, 1)\n",
        "\n",
        "    # Computing the loss using the loss function\n",
        "    loss = loss_fn(y_pred, y_true)\n",
        "\n",
        "    # Computing the relative error of pressure\n",
        "    rel_error = torch.abs((y_pred - y_true) / y_true)\n",
        "\n",
        "    # Computing the L1 norm for the relative error of pressure\n",
        "    l1_norm = torch.mean(rel_error) \n",
        "    # Computing the Linf norm for the relative error of pressure\n",
        "    linf_norm = torch.max(rel_error) \n",
        "\n",
        "    # Returning the loss and metrics\n",
        "    return loss, l1_norm, linf_norm\n",
        "\n",
        "\n",
        "# Defining a function that updates the learning rate scheduler with validation loss if applicable\n",
        "def update_scheduler(scheduler, test_loss):\n",
        "    \"\"\"Updates the learning rate scheduler with validation loss if applicable.\n",
        "\n",
        "    Args:\n",
        "        scheduler (torch.optim.lr_scheduler._LRScheduler or None): The learning rate scheduler to use.\n",
        "        test_loss (float): The validation loss to use.\n",
        "\n",
        "    Returns:\n",
        "        None\n",
        "    \"\"\"\n",
        "    # Checking if scheduler is not None\n",
        "    if scheduler is not None:\n",
        "        # Checking if scheduler is ReduceLROnPlateau\n",
        "        if isinstance(scheduler, optim.lr_scheduler.ReduceLROnPlateau):\n",
        "            # Updating the scheduler with test_loss\n",
        "            scheduler.step(test_loss)\n",
        "        else:\n",
        "            # Updating the scheduler without test_loss\n",
        "            scheduler.step()\n"
      ]
    },
    {
      "cell_type": "markdown",
      "metadata": {
        "id": "w1nE662UUZiE"
      },
      "source": [
        "Now for the actual training and evaluation loop,"
      ]
    },
    {
      "cell_type": "code",
      "execution_count": 39,
      "metadata": {
        "id": "YAOjgKW3UZiF"
      },
      "outputs": [],
      "source": [
        "# Defining a function to train and evaluate a network\n",
        "def train_and_eval(net, loss_fn, optimizer, batch_size, n_epochs, scheduler, train_loader, val_loader, test_loader, trial=None):\n",
        "    # Initializing lists to store the losses and metrics for each epoch\n",
        "    train_losses = []\n",
        "    val_losses = []\n",
        "    test_losses = []\n",
        "    train_metrics = []\n",
        "    val_metrics = []\n",
        "    test_metrics = []\n",
        "\n",
        "\n",
        "    # Creating a SummaryWriter object to log data for tensorboard\n",
        "    writer = tbx.SummaryWriter()\n",
        "\n",
        "    # Looping over the epochs\n",
        "    for epoch in range(n_epochs):\n",
        "\n",
        "        # Setting the network to training mode\n",
        "        net.train()\n",
        "\n",
        "        # Initializing variables to store the total loss and metrics for the train set\n",
        "        train_loss = 0.0\n",
        "        train_l1_norm = 0.0\n",
        "        train_linf_norm = 0.0\n",
        "\n",
        "        # Looping over the batches in the train set\n",
        "        for x_batch, y_batch in train_loader:\n",
        "\n",
        "            # Moving the batch tensors to the device\n",
        "            x_batch = x_batch.to(device)\n",
        "            y_batch = y_batch.to(device)\n",
        "\n",
        "            # Zeroing the gradients\n",
        "            optimizer.zero_grad()\n",
        "\n",
        "            # Performing a forward pass and computing the loss and metrics\n",
        "            y_pred = net(x_batch)\n",
        "            loss, l1_norm, linf_norm = compute_loss_and_metrics(y_pred, y_batch, loss_fn)\n",
        "\n",
        "\n",
        "            # Performing a backward pass and updating the weights\n",
        "            loss.backward()\n",
        "            optimizer.step()\n",
        "\n",
        "            # Updating the total loss and metrics for the train set\n",
        "            train_loss += loss.item() * x_batch.size(0)\n",
        "            train_l1_norm += l1_norm.item() * x_batch.size(0)\n",
        "            train_linf_norm += linf_norm.item() * x_batch.size(0)\n",
        "\n",
        "        # Computing the average loss and metrics for the train set\n",
        "        train_loss /= len(train_loader.dataset)\n",
        "        train_l1_norm /= len(train_loader.dataset)\n",
        "        train_linf_norm /= len(train_loader.dataset)\n",
        "\n",
        "        # Appending the average loss and metrics for the train set to the lists\n",
        "        train_losses.append(train_loss)\n",
        "        train_metrics.append(\n",
        "            {\n",
        "                \"l1_norm\": train_l1_norm,\n",
        "                \"linf_norm\": train_linf_norm,\n",
        "            }\n",
        "        )\n",
        "\n",
        "        # Logging the average loss and metrics for the train set to tensorboard\n",
        "        writer.add_scalar(\"Loss/train\", train_loss, epoch)\n",
        "        writer.add_scalar(\"L1 norm/train\", train_l1_norm, epoch)\n",
        "        writer.add_scalar(\"Linf norm/train\", train_linf_norm, epoch)\n",
        "\n",
        "        if val_loader is not None:\n",
        "            net.eval()\n",
        "            val_loss = 0.0\n",
        "            val_l1_norm = 0.0\n",
        "            val_linf_norm = 0.0\n",
        "\n",
        "            with torch.no_grad():\n",
        "                for x_batch, y_batch in val_loader:\n",
        "                    x_batch = x_batch.to(device)\n",
        "                    y_batch = y_batch.to(device)\n",
        "                    y_pred = net(x_batch)\n",
        "                    loss, l1_norm, linf_norm = compute_loss_and_metrics(y_pred, y_batch, loss_fn)\n",
        "\n",
        "                    val_loss += loss.item() * x_batch.size(0)\n",
        "                    val_l1_norm += l1_norm.item() * x_batch.size(0)\n",
        "                    val_linf_norm += linf_norm.item() * x_batch.size(0)\n",
        "\n",
        "            val_loss /= len(val_loader.dataset)\n",
        "            val_l1_norm /= len(val_loader.dataset)\n",
        "            val_linf_norm /= len(val_loader.dataset)\n",
        "\n",
        "            val_losses.append(val_loss)\n",
        "            val_metrics.append(\n",
        "                {\n",
        "                    \"l1_norm\": val_l1_norm,\n",
        "                    \"linf_norm\": val_linf_norm,\n",
        "                }\n",
        "            )\n",
        "\n",
        "            writer.add_scalar(\"Loss/val\", val_loss, epoch)\n",
        "            writer.add_scalar(\"L1 norm/val\", val_l1_norm, epoch)\n",
        "            writer.add_scalar(\"Linf norm/val\", val_linf_norm, epoch)\n",
        "            print(f\"Epoch {epoch+1}/{n_epochs}.. Train loss: {train_loss:.3f}.. Val loss: {val_loss:.3f}.. Train L1 norm: {train_l1_norm:.3f}.. Val L1 norm: {val_l1_norm:.3f}.. Train Linf norm: {train_linf_norm:.3f}.. Val Linf norm: {val_linf_norm:.3f}\")\n",
        "\n",
        "\n",
        "            update_scheduler(scheduler, val_loss)\n",
        "\n",
        "        if test_loader is not None:\n",
        "            net.eval()\n",
        "            test_loss = 0.0\n",
        "            test_l1_norm = 0.0\n",
        "            test_linf_norm = 0.0\n",
        "\n",
        "            with torch.no_grad():\n",
        "                for x_batch, y_batch in test_loader:\n",
        "                    x_batch = x_batch.to(device)\n",
        "                    y_batch = y_batch.to(device)\n",
        "                    y_pred = net(x_batch)\n",
        "                    loss, l1_norm, linf_norm = compute_loss_and_metrics(y_pred, y_batch, loss_fn)\n",
        "\n",
        "                    test_loss += loss.item() * x_batch.size(0)\n",
        "                    test_l1_norm += l1_norm.item() * x_batch.size(0)\n",
        "                    test_linf_norm += linf_norm.item() * x_batch.size(0)\n",
        "\n",
        "            test_loss /= len(test_loader.dataset)\n",
        "            test_l1_norm /= len(test_loader.dataset)\n",
        "            test_linf_norm /= len(test_loader.dataset)\n",
        "\n",
        "            test_losses.append(test_loss)\n",
        "            test_metrics.append(\n",
        "                {\n",
        "                    \"l1_norm\": test_l1_norm,\n",
        "                    \"linf_norm\": test_linf_norm,\n",
        "                }\n",
        "            )\n",
        "\n",
        "            writer.add_scalar(\"Loss/test\", test_loss, epoch)\n",
        "            writer.add_scalar(\"L1 norm/test\", test_l1_norm, epoch)\n",
        "            writer.add_scalar(\"Linf norm/test\", test_linf_norm, epoch)\n",
        "            print(f\"Epoch {epoch+1}/{n_epochs}.. Train loss: {train_loss:.3f}.. Test loss: {test_loss:.3f}.. Train L1 norm: {train_l1_norm:.3f}.. Test L1 norm: {test_l1_norm:.3f}.. Train Linf norm: {train_linf_norm:.3f}.. Test Linf norm: {test_linf_norm:.3f}\")\n",
        "\n",
        "\n",
        "        # Reporting the intermediate metric value to Optuna if trial is not None\n",
        "        if trial is not None:\n",
        "            trial.report(val_l1_norm, epoch)\n",
        "\n",
        "            if trial.should_prune():\n",
        "                raise optuna.TrialPruned()\n",
        "\n",
        "    # Closing the SummaryWriter object\n",
        "    writer.close()\n",
        "\n",
        "    # Returning the losses and metrics lists\n",
        "    return train_losses, val_losses, test_losses, train_metrics, val_metrics, test_metrics\n"
      ]
    },
    {
      "cell_type": "markdown",
      "metadata": {
        "id": "xg9jz0SvUZiQ"
      },
      "source": [
        "## The objective function and hyperparameter tuning"
      ]
    },
    {
      "cell_type": "code",
      "execution_count": 40,
      "metadata": {
        "id": "fmRncQPuUZiR"
      },
      "outputs": [],
      "source": [
        "# Defining an objective function for Optuna to minimize\n",
        "def objective(trial):\n",
        "    \"\"\"Defines an objective function for Optuna to minimize.\n",
        "\n",
        "    Args:\n",
        "        trial (optuna.trial.Trial): The trial object that contains the hyperparameters.\n",
        "\n",
        "    Returns:\n",
        "        float: The validation L1 norm to minimize.\n",
        "    \"\"\"\n",
        "    # Creating a trial network and optimizer using the create_model function\n",
        "    net, \\\n",
        "    loss_fn, \\\n",
        "    optimizer, \\\n",
        "    batch_size, \\\n",
        "    n_epochs, \\\n",
        "    scheduler, \\\n",
        "    loss_name, \\\n",
        "    optimizer_name, \\\n",
        "    scheduler_name, \\\n",
        "    n_units, \\\n",
        "    n_layers, \\\n",
        "    hidden_activation, \\\n",
        "    output_activation, \\\n",
        "    lr, \\\n",
        "    dropout_rate = create_model(trial, optimize=True)\n",
        "\n",
        "    # Create separate data loaders for training and validation\n",
        "    train_loader = torch.utils.data.DataLoader(\n",
        "        torch.utils.data.TensorDataset(x_train, y_train), batch_size=batch_size, shuffle=True\n",
        "    )\n",
        "    val_loader = torch.utils.data.DataLoader(\n",
        "        torch.utils.data.TensorDataset(x_val, y_val), batch_size=batch_size\n",
        "    )\n",
        "    \n",
        "    _, _, _, _, val_metrics, _ = train_and_eval(\n",
        "        net, loss_fn, optimizer, batch_size, n_epochs, scheduler, train_loader, val_loader, None, trial\n",
        "    )\n",
        "\n",
        "    # Returning the last validation L1 norm as the objective value to minimize\n",
        "    return val_metrics[-1][\"l1_norm\"]"
      ]
    },
    {
      "cell_type": "code",
      "execution_count": null,
      "metadata": {
        "id": "GyES4NAyUZiS",
        "outputId": "f2056dd0-4d32-4e79-d595-82db5966df00",
        "colab": {
          "base_uri": "https://localhost:8080/",
          "height": 1000
        }
      },
      "outputs": [
        {
          "output_type": "stream",
          "name": "stderr",
          "text": [
            "[I 2023-06-03 09:34:05,085] A new study created in memory with name: no-name-23964dca-b2b0-42ee-848a-9955d6f85549\n",
            "<ipython-input-37-247d5052aadc>:44: FutureWarning: suggest_loguniform has been deprecated in v3.0.0. This feature will be removed in v6.0.0. See https://github.com/optuna/optuna/releases/tag/v3.0.0. Use suggest_float(..., log=True) instead.\n",
            "  lr = trial.suggest_loguniform(\"lr\", 1e-5, 1e-1)\n",
            "<ipython-input-37-247d5052aadc>:76: FutureWarning: suggest_uniform has been deprecated in v3.0.0. This feature will be removed in v6.0.0. See https://github.com/optuna/optuna/releases/tag/v3.0.0. Use suggest_float instead.\n",
            "  dropout_rate = trial.suggest_uniform(\"dropout_rate\", 0.0, 0.5)\n",
            "<ipython-input-37-247d5052aadc>:161: FutureWarning: suggest_uniform has been deprecated in v3.0.0. This feature will be removed in v6.0.0. See https://github.com/optuna/optuna/releases/tag/v3.0.0. Use suggest_float instead.\n",
            "  gamma = trial.suggest_uniform(\"gamma\", 0.1, 0.5)\n"
          ]
        },
        {
          "output_type": "stream",
          "name": "stdout",
          "text": [
            "Epoch 1/69.. Train loss: 4.329.. Val loss: 4.552.. Train L1 norm: 5.199.. Val L1 norm: 3.869.. Train Linf norm: 119.600.. Val Linf norm: 73.396\n",
            "Epoch 2/69.. Train loss: 4.045.. Val loss: 4.205.. Train L1 norm: 5.867.. Val L1 norm: 3.324.. Train Linf norm: 136.349.. Val Linf norm: 61.158\n",
            "Epoch 3/69.. Train loss: 3.939.. Val loss: 4.139.. Train L1 norm: 5.370.. Val L1 norm: 3.257.. Train Linf norm: 120.678.. Val Linf norm: 58.590\n",
            "Epoch 4/69.. Train loss: 3.905.. Val loss: 4.109.. Train L1 norm: 5.761.. Val L1 norm: 2.921.. Train Linf norm: 132.800.. Val Linf norm: 51.357\n",
            "Epoch 5/69.. Train loss: 3.861.. Val loss: 4.004.. Train L1 norm: 5.886.. Val L1 norm: 3.407.. Train Linf norm: 136.736.. Val Linf norm: 62.318\n",
            "Epoch 6/69.. Train loss: 3.840.. Val loss: 3.961.. Train L1 norm: 5.953.. Val L1 norm: 3.236.. Train Linf norm: 138.456.. Val Linf norm: 58.532\n",
            "Epoch 7/69.. Train loss: 3.807.. Val loss: 3.986.. Train L1 norm: 5.938.. Val L1 norm: 3.042.. Train Linf norm: 138.060.. Val Linf norm: 53.841\n",
            "Epoch 8/69.. Train loss: 3.808.. Val loss: 3.949.. Train L1 norm: 5.946.. Val L1 norm: 3.208.. Train Linf norm: 138.813.. Val Linf norm: 57.866\n",
            "Epoch 9/69.. Train loss: 3.792.. Val loss: 3.948.. Train L1 norm: 6.347.. Val L1 norm: 3.191.. Train Linf norm: 151.452.. Val Linf norm: 57.574\n",
            "Epoch 10/69.. Train loss: 3.789.. Val loss: 3.938.. Train L1 norm: 6.152.. Val L1 norm: 3.192.. Train Linf norm: 144.246.. Val Linf norm: 57.554\n",
            "Epoch 11/69.. Train loss: 3.772.. Val loss: 3.924.. Train L1 norm: 5.644.. Val L1 norm: 3.307.. Train Linf norm: 127.807.. Val Linf norm: 60.103\n",
            "Epoch 12/69.. Train loss: 3.783.. Val loss: 3.942.. Train L1 norm: 5.741.. Val L1 norm: 3.130.. Train Linf norm: 131.942.. Val Linf norm: 56.214\n",
            "Epoch 13/69.. Train loss: 3.774.. Val loss: 3.937.. Train L1 norm: 6.015.. Val L1 norm: 3.155.. Train Linf norm: 140.952.. Val Linf norm: 56.787\n",
            "Epoch 14/69.. Train loss: 3.772.. Val loss: 3.934.. Train L1 norm: 5.941.. Val L1 norm: 3.168.. Train Linf norm: 138.273.. Val Linf norm: 57.120\n",
            "Epoch 15/69.. Train loss: 3.778.. Val loss: 3.929.. Train L1 norm: 5.830.. Val L1 norm: 3.198.. Train Linf norm: 135.230.. Val Linf norm: 57.802\n",
            "Epoch 16/69.. Train loss: 3.773.. Val loss: 3.932.. Train L1 norm: 6.104.. Val L1 norm: 3.172.. Train Linf norm: 143.061.. Val Linf norm: 57.173\n",
            "Epoch 17/69.. Train loss: 3.773.. Val loss: 3.930.. Train L1 norm: 6.109.. Val L1 norm: 3.188.. Train Linf norm: 143.931.. Val Linf norm: 57.569\n",
            "Epoch 18/69.. Train loss: 3.775.. Val loss: 3.928.. Train L1 norm: 5.507.. Val L1 norm: 3.196.. Train Linf norm: 124.521.. Val Linf norm: 57.762\n",
            "Epoch 19/69.. Train loss: 3.765.. Val loss: 3.928.. Train L1 norm: 5.872.. Val L1 norm: 3.193.. Train Linf norm: 135.689.. Val Linf norm: 57.693\n",
            "Epoch 20/69.. Train loss: 3.771.. Val loss: 3.929.. Train L1 norm: 6.001.. Val L1 norm: 3.192.. Train Linf norm: 140.248.. Val Linf norm: 57.651\n",
            "Epoch 21/69.. Train loss: 3.774.. Val loss: 3.929.. Train L1 norm: 6.003.. Val L1 norm: 3.189.. Train Linf norm: 139.276.. Val Linf norm: 57.600\n",
            "Epoch 22/69.. Train loss: 3.770.. Val loss: 3.930.. Train L1 norm: 5.936.. Val L1 norm: 3.181.. Train Linf norm: 137.853.. Val Linf norm: 57.400\n",
            "Epoch 23/69.. Train loss: 3.773.. Val loss: 3.929.. Train L1 norm: 6.133.. Val L1 norm: 3.181.. Train Linf norm: 144.489.. Val Linf norm: 57.403\n",
            "Epoch 24/69.. Train loss: 3.765.. Val loss: 3.929.. Train L1 norm: 5.684.. Val L1 norm: 3.179.. Train Linf norm: 130.296.. Val Linf norm: 57.366\n",
            "Epoch 25/69.. Train loss: 3.770.. Val loss: 3.929.. Train L1 norm: 5.898.. Val L1 norm: 3.180.. Train Linf norm: 136.690.. Val Linf norm: 57.371\n",
            "Epoch 26/69.. Train loss: 3.772.. Val loss: 3.929.. Train L1 norm: 5.910.. Val L1 norm: 3.179.. Train Linf norm: 137.360.. Val Linf norm: 57.354\n",
            "Epoch 27/69.. Train loss: 3.775.. Val loss: 3.929.. Train L1 norm: 5.909.. Val L1 norm: 3.178.. Train Linf norm: 137.496.. Val Linf norm: 57.342\n",
            "Epoch 28/69.. Train loss: 3.776.. Val loss: 3.929.. Train L1 norm: 6.148.. Val L1 norm: 3.178.. Train Linf norm: 143.967.. Val Linf norm: 57.332\n",
            "Epoch 29/69.. Train loss: 3.775.. Val loss: 3.929.. Train L1 norm: 5.655.. Val L1 norm: 3.178.. Train Linf norm: 129.238.. Val Linf norm: 57.338\n",
            "Epoch 30/69.. Train loss: 3.767.. Val loss: 3.929.. Train L1 norm: 6.054.. Val L1 norm: 3.178.. Train Linf norm: 140.648.. Val Linf norm: 57.325\n",
            "Epoch 31/69.. Train loss: 3.773.. Val loss: 3.929.. Train L1 norm: 6.138.. Val L1 norm: 3.177.. Train Linf norm: 144.390.. Val Linf norm: 57.317\n",
            "Epoch 32/69.. Train loss: 3.770.. Val loss: 3.929.. Train L1 norm: 6.009.. Val L1 norm: 3.177.. Train Linf norm: 140.956.. Val Linf norm: 57.312\n",
            "Epoch 33/69.. Train loss: 3.777.. Val loss: 3.929.. Train L1 norm: 5.515.. Val L1 norm: 3.177.. Train Linf norm: 125.297.. Val Linf norm: 57.308\n",
            "Epoch 34/69.. Train loss: 3.769.. Val loss: 3.929.. Train L1 norm: 5.764.. Val L1 norm: 3.177.. Train Linf norm: 132.213.. Val Linf norm: 57.305\n",
            "Epoch 35/69.. Train loss: 3.774.. Val loss: 3.929.. Train L1 norm: 5.870.. Val L1 norm: 3.177.. Train Linf norm: 135.712.. Val Linf norm: 57.300\n",
            "Epoch 36/69.. Train loss: 3.771.. Val loss: 3.929.. Train L1 norm: 6.257.. Val L1 norm: 3.176.. Train Linf norm: 148.005.. Val Linf norm: 57.294\n",
            "Epoch 37/69.. Train loss: 3.770.. Val loss: 3.929.. Train L1 norm: 5.992.. Val L1 norm: 3.176.. Train Linf norm: 138.666.. Val Linf norm: 57.293\n",
            "Epoch 38/69.. Train loss: 3.771.. Val loss: 3.929.. Train L1 norm: 6.054.. Val L1 norm: 3.176.. Train Linf norm: 141.973.. Val Linf norm: 57.292\n",
            "Epoch 39/69.. Train loss: 3.774.. Val loss: 3.929.. Train L1 norm: 5.878.. Val L1 norm: 3.176.. Train Linf norm: 136.319.. Val Linf norm: 57.290\n",
            "Epoch 40/69.. Train loss: 3.772.. Val loss: 3.929.. Train L1 norm: 6.148.. Val L1 norm: 3.176.. Train Linf norm: 145.041.. Val Linf norm: 57.289\n",
            "Epoch 41/69.. Train loss: 3.775.. Val loss: 3.929.. Train L1 norm: 6.065.. Val L1 norm: 3.176.. Train Linf norm: 140.829.. Val Linf norm: 57.288\n",
            "Epoch 42/69.. Train loss: 3.780.. Val loss: 3.929.. Train L1 norm: 5.694.. Val L1 norm: 3.176.. Train Linf norm: 130.379.. Val Linf norm: 57.288\n",
            "Epoch 43/69.. Train loss: 3.773.. Val loss: 3.929.. Train L1 norm: 5.820.. Val L1 norm: 3.176.. Train Linf norm: 134.184.. Val Linf norm: 57.287\n",
            "Epoch 44/69.. Train loss: 3.773.. Val loss: 3.929.. Train L1 norm: 5.867.. Val L1 norm: 3.176.. Train Linf norm: 135.871.. Val Linf norm: 57.287\n",
            "Epoch 45/69.. Train loss: 3.772.. Val loss: 3.929.. Train L1 norm: 5.854.. Val L1 norm: 3.176.. Train Linf norm: 134.895.. Val Linf norm: 57.287\n",
            "Epoch 46/69.. Train loss: 3.767.. Val loss: 3.929.. Train L1 norm: 5.875.. Val L1 norm: 3.176.. Train Linf norm: 135.793.. Val Linf norm: 57.287\n",
            "Epoch 47/69.. Train loss: 3.774.. Val loss: 3.929.. Train L1 norm: 6.084.. Val L1 norm: 3.176.. Train Linf norm: 143.138.. Val Linf norm: 57.287\n",
            "Epoch 48/69.. Train loss: 3.769.. Val loss: 3.929.. Train L1 norm: 5.649.. Val L1 norm: 3.176.. Train Linf norm: 127.746.. Val Linf norm: 57.287\n",
            "Epoch 49/69.. Train loss: 3.770.. Val loss: 3.929.. Train L1 norm: 5.819.. Val L1 norm: 3.176.. Train Linf norm: 134.716.. Val Linf norm: 57.287\n",
            "Epoch 50/69.. Train loss: 3.775.. Val loss: 3.929.. Train L1 norm: 5.809.. Val L1 norm: 3.176.. Train Linf norm: 133.825.. Val Linf norm: 57.287\n",
            "Epoch 51/69.. Train loss: 3.772.. Val loss: 3.929.. Train L1 norm: 6.001.. Val L1 norm: 3.176.. Train Linf norm: 140.125.. Val Linf norm: 57.287\n",
            "Epoch 52/69.. Train loss: 3.773.. Val loss: 3.929.. Train L1 norm: 5.717.. Val L1 norm: 3.176.. Train Linf norm: 130.977.. Val Linf norm: 57.287\n",
            "Epoch 53/69.. Train loss: 3.772.. Val loss: 3.929.. Train L1 norm: 5.796.. Val L1 norm: 3.176.. Train Linf norm: 132.010.. Val Linf norm: 57.287\n",
            "Epoch 54/69.. Train loss: 3.766.. Val loss: 3.929.. Train L1 norm: 5.841.. Val L1 norm: 3.176.. Train Linf norm: 135.467.. Val Linf norm: 57.287\n",
            "Epoch 55/69.. Train loss: 3.764.. Val loss: 3.929.. Train L1 norm: 5.507.. Val L1 norm: 3.176.. Train Linf norm: 123.761.. Val Linf norm: 57.287\n",
            "Epoch 56/69.. Train loss: 3.768.. Val loss: 3.929.. Train L1 norm: 5.977.. Val L1 norm: 3.176.. Train Linf norm: 139.223.. Val Linf norm: 57.287\n",
            "Epoch 57/69.. Train loss: 3.770.. Val loss: 3.929.. Train L1 norm: 5.954.. Val L1 norm: 3.176.. Train Linf norm: 137.099.. Val Linf norm: 57.287\n",
            "Epoch 58/69.. Train loss: 3.770.. Val loss: 3.929.. Train L1 norm: 6.021.. Val L1 norm: 3.176.. Train Linf norm: 140.733.. Val Linf norm: 57.287\n",
            "Epoch 59/69.. Train loss: 3.775.. Val loss: 3.929.. Train L1 norm: 5.995.. Val L1 norm: 3.176.. Train Linf norm: 139.437.. Val Linf norm: 57.287\n",
            "Epoch 60/69.. Train loss: 3.769.. Val loss: 3.929.. Train L1 norm: 5.626.. Val L1 norm: 3.176.. Train Linf norm: 128.531.. Val Linf norm: 57.287\n",
            "Epoch 61/69.. Train loss: 3.787.. Val loss: 3.929.. Train L1 norm: 5.924.. Val L1 norm: 3.176.. Train Linf norm: 137.756.. Val Linf norm: 57.287\n",
            "Epoch 62/69.. Train loss: 3.769.. Val loss: 3.929.. Train L1 norm: 5.782.. Val L1 norm: 3.176.. Train Linf norm: 133.391.. Val Linf norm: 57.287\n",
            "Epoch 63/69.. Train loss: 3.773.. Val loss: 3.929.. Train L1 norm: 5.730.. Val L1 norm: 3.176.. Train Linf norm: 131.406.. Val Linf norm: 57.287\n",
            "Epoch 64/69.. Train loss: 3.775.. Val loss: 3.929.. Train L1 norm: 5.676.. Val L1 norm: 3.176.. Train Linf norm: 130.160.. Val Linf norm: 57.287\n",
            "Epoch 65/69.. Train loss: 3.773.. Val loss: 3.929.. Train L1 norm: 5.782.. Val L1 norm: 3.176.. Train Linf norm: 132.974.. Val Linf norm: 57.287\n",
            "Epoch 66/69.. Train loss: 3.769.. Val loss: 3.929.. Train L1 norm: 5.879.. Val L1 norm: 3.176.. Train Linf norm: 135.864.. Val Linf norm: 57.287\n",
            "Epoch 67/69.. Train loss: 3.774.. Val loss: 3.929.. Train L1 norm: 6.054.. Val L1 norm: 3.176.. Train Linf norm: 142.373.. Val Linf norm: 57.287\n",
            "Epoch 68/69.. Train loss: 3.765.. Val loss: 3.929.. Train L1 norm: 5.818.. Val L1 norm: 3.176.. Train Linf norm: 134.932.. Val Linf norm: 57.287\n"
          ]
        },
        {
          "output_type": "stream",
          "name": "stderr",
          "text": [
            "[I 2023-06-03 09:56:05,021] Trial 0 finished with value: 3.1759881306966147 and parameters: {'n_layers': 8, 'n_units_0': 611, 'n_units_1': 3014, 'n_units_2': 3139, 'n_units_3': 782, 'n_units_4': 846, 'n_units_5': 1956, 'n_units_6': 159, 'n_units_7': 2447, 'hidden_activation': 'GELU', 'output_activation': 'Linear', 'loss': 'MAE', 'optimizer': 'Adagrad', 'lr': 0.0005246073710877436, 'batch_size': 32, 'n_epochs': 69, 'scheduler': 'StepLR', 'dropout_rate': 0.2711027930536258, 'step_size': 6, 'gamma': 0.19519239062837535}. Best is trial 0 with value: 3.1759881306966147.\n"
          ]
        },
        {
          "output_type": "stream",
          "name": "stdout",
          "text": [
            "Epoch 69/69.. Train loss: 3.763.. Val loss: 3.929.. Train L1 norm: 6.239.. Val L1 norm: 3.176.. Train Linf norm: 147.856.. Val Linf norm: 57.287\n"
          ]
        },
        {
          "output_type": "display_data",
          "data": {
            "text/html": [
              "<html>\n",
              "<head><meta charset=\"utf-8\" /></head>\n",
              "<body>\n",
              "    <div>            <script src=\"https://cdnjs.cloudflare.com/ajax/libs/mathjax/2.7.5/MathJax.js?config=TeX-AMS-MML_SVG\"></script><script type=\"text/javascript\">if (window.MathJax && window.MathJax.Hub && window.MathJax.Hub.Config) {window.MathJax.Hub.Config({SVG: {font: \"STIX-Web\"}});}</script>                <script type=\"text/javascript\">window.PlotlyConfig = {MathJaxConfig: 'local'};</script>\n",
              "        <script src=\"https://cdn.plot.ly/plotly-2.18.2.min.js\"></script>                <div id=\"3e844c77-538c-470e-879d-b764ed2e6f23\" class=\"plotly-graph-div\" style=\"height:525px; width:100%;\"></div>            <script type=\"text/javascript\">                                    window.PLOTLYENV=window.PLOTLYENV || {};                                    if (document.getElementById(\"3e844c77-538c-470e-879d-b764ed2e6f23\")) {                    Plotly.newPlot(                        \"3e844c77-538c-470e-879d-b764ed2e6f23\",                        [{\"mode\":\"markers\",\"name\":\"Objective Value\",\"x\":[0],\"y\":[3.1759881306966147],\"type\":\"scatter\"},{\"name\":\"Best Value\",\"x\":[0],\"y\":[3.1759881306966147],\"type\":\"scatter\"}],                        {\"title\":{\"text\":\"Optimization History Plot\"},\"xaxis\":{\"title\":{\"text\":\"Trial\"}},\"yaxis\":{\"title\":{\"text\":\"Objective Value\"}},\"template\":{\"data\":{\"histogram2dcontour\":[{\"type\":\"histogram2dcontour\",\"colorbar\":{\"outlinewidth\":0,\"ticks\":\"\"},\"colorscale\":[[0.0,\"#0d0887\"],[0.1111111111111111,\"#46039f\"],[0.2222222222222222,\"#7201a8\"],[0.3333333333333333,\"#9c179e\"],[0.4444444444444444,\"#bd3786\"],[0.5555555555555556,\"#d8576b\"],[0.6666666666666666,\"#ed7953\"],[0.7777777777777778,\"#fb9f3a\"],[0.8888888888888888,\"#fdca26\"],[1.0,\"#f0f921\"]]}],\"choropleth\":[{\"type\":\"choropleth\",\"colorbar\":{\"outlinewidth\":0,\"ticks\":\"\"}}],\"histogram2d\":[{\"type\":\"histogram2d\",\"colorbar\":{\"outlinewidth\":0,\"ticks\":\"\"},\"colorscale\":[[0.0,\"#0d0887\"],[0.1111111111111111,\"#46039f\"],[0.2222222222222222,\"#7201a8\"],[0.3333333333333333,\"#9c179e\"],[0.4444444444444444,\"#bd3786\"],[0.5555555555555556,\"#d8576b\"],[0.6666666666666666,\"#ed7953\"],[0.7777777777777778,\"#fb9f3a\"],[0.8888888888888888,\"#fdca26\"],[1.0,\"#f0f921\"]]}],\"heatmap\":[{\"type\":\"heatmap\",\"colorbar\":{\"outlinewidth\":0,\"ticks\":\"\"},\"colorscale\":[[0.0,\"#0d0887\"],[0.1111111111111111,\"#46039f\"],[0.2222222222222222,\"#7201a8\"],[0.3333333333333333,\"#9c179e\"],[0.4444444444444444,\"#bd3786\"],[0.5555555555555556,\"#d8576b\"],[0.6666666666666666,\"#ed7953\"],[0.7777777777777778,\"#fb9f3a\"],[0.8888888888888888,\"#fdca26\"],[1.0,\"#f0f921\"]]}],\"heatmapgl\":[{\"type\":\"heatmapgl\",\"colorbar\":{\"outlinewidth\":0,\"ticks\":\"\"},\"colorscale\":[[0.0,\"#0d0887\"],[0.1111111111111111,\"#46039f\"],[0.2222222222222222,\"#7201a8\"],[0.3333333333333333,\"#9c179e\"],[0.4444444444444444,\"#bd3786\"],[0.5555555555555556,\"#d8576b\"],[0.6666666666666666,\"#ed7953\"],[0.7777777777777778,\"#fb9f3a\"],[0.8888888888888888,\"#fdca26\"],[1.0,\"#f0f921\"]]}],\"contourcarpet\":[{\"type\":\"contourcarpet\",\"colorbar\":{\"outlinewidth\":0,\"ticks\":\"\"}}],\"contour\":[{\"type\":\"contour\",\"colorbar\":{\"outlinewidth\":0,\"ticks\":\"\"},\"colorscale\":[[0.0,\"#0d0887\"],[0.1111111111111111,\"#46039f\"],[0.2222222222222222,\"#7201a8\"],[0.3333333333333333,\"#9c179e\"],[0.4444444444444444,\"#bd3786\"],[0.5555555555555556,\"#d8576b\"],[0.6666666666666666,\"#ed7953\"],[0.7777777777777778,\"#fb9f3a\"],[0.8888888888888888,\"#fdca26\"],[1.0,\"#f0f921\"]]}],\"surface\":[{\"type\":\"surface\",\"colorbar\":{\"outlinewidth\":0,\"ticks\":\"\"},\"colorscale\":[[0.0,\"#0d0887\"],[0.1111111111111111,\"#46039f\"],[0.2222222222222222,\"#7201a8\"],[0.3333333333333333,\"#9c179e\"],[0.4444444444444444,\"#bd3786\"],[0.5555555555555556,\"#d8576b\"],[0.6666666666666666,\"#ed7953\"],[0.7777777777777778,\"#fb9f3a\"],[0.8888888888888888,\"#fdca26\"],[1.0,\"#f0f921\"]]}],\"mesh3d\":[{\"type\":\"mesh3d\",\"colorbar\":{\"outlinewidth\":0,\"ticks\":\"\"}}],\"scatter\":[{\"fillpattern\":{\"fillmode\":\"overlay\",\"size\":10,\"solidity\":0.2},\"type\":\"scatter\"}],\"parcoords\":[{\"type\":\"parcoords\",\"line\":{\"colorbar\":{\"outlinewidth\":0,\"ticks\":\"\"}}}],\"scatterpolargl\":[{\"type\":\"scatterpolargl\",\"marker\":{\"colorbar\":{\"outlinewidth\":0,\"ticks\":\"\"}}}],\"bar\":[{\"error_x\":{\"color\":\"#2a3f5f\"},\"error_y\":{\"color\":\"#2a3f5f\"},\"marker\":{\"line\":{\"color\":\"#E5ECF6\",\"width\":0.5},\"pattern\":{\"fillmode\":\"overlay\",\"size\":10,\"solidity\":0.2}},\"type\":\"bar\"}],\"scattergeo\":[{\"type\":\"scattergeo\",\"marker\":{\"colorbar\":{\"outlinewidth\":0,\"ticks\":\"\"}}}],\"scatterpolar\":[{\"type\":\"scatterpolar\",\"marker\":{\"colorbar\":{\"outlinewidth\":0,\"ticks\":\"\"}}}],\"histogram\":[{\"marker\":{\"pattern\":{\"fillmode\":\"overlay\",\"size\":10,\"solidity\":0.2}},\"type\":\"histogram\"}],\"scattergl\":[{\"type\":\"scattergl\",\"marker\":{\"colorbar\":{\"outlinewidth\":0,\"ticks\":\"\"}}}],\"scatter3d\":[{\"type\":\"scatter3d\",\"line\":{\"colorbar\":{\"outlinewidth\":0,\"ticks\":\"\"}},\"marker\":{\"colorbar\":{\"outlinewidth\":0,\"ticks\":\"\"}}}],\"scattermapbox\":[{\"type\":\"scattermapbox\",\"marker\":{\"colorbar\":{\"outlinewidth\":0,\"ticks\":\"\"}}}],\"scatterternary\":[{\"type\":\"scatterternary\",\"marker\":{\"colorbar\":{\"outlinewidth\":0,\"ticks\":\"\"}}}],\"scattercarpet\":[{\"type\":\"scattercarpet\",\"marker\":{\"colorbar\":{\"outlinewidth\":0,\"ticks\":\"\"}}}],\"carpet\":[{\"aaxis\":{\"endlinecolor\":\"#2a3f5f\",\"gridcolor\":\"white\",\"linecolor\":\"white\",\"minorgridcolor\":\"white\",\"startlinecolor\":\"#2a3f5f\"},\"baxis\":{\"endlinecolor\":\"#2a3f5f\",\"gridcolor\":\"white\",\"linecolor\":\"white\",\"minorgridcolor\":\"white\",\"startlinecolor\":\"#2a3f5f\"},\"type\":\"carpet\"}],\"table\":[{\"cells\":{\"fill\":{\"color\":\"#EBF0F8\"},\"line\":{\"color\":\"white\"}},\"header\":{\"fill\":{\"color\":\"#C8D4E3\"},\"line\":{\"color\":\"white\"}},\"type\":\"table\"}],\"barpolar\":[{\"marker\":{\"line\":{\"color\":\"#E5ECF6\",\"width\":0.5},\"pattern\":{\"fillmode\":\"overlay\",\"size\":10,\"solidity\":0.2}},\"type\":\"barpolar\"}],\"pie\":[{\"automargin\":true,\"type\":\"pie\"}]},\"layout\":{\"autotypenumbers\":\"strict\",\"colorway\":[\"#636efa\",\"#EF553B\",\"#00cc96\",\"#ab63fa\",\"#FFA15A\",\"#19d3f3\",\"#FF6692\",\"#B6E880\",\"#FF97FF\",\"#FECB52\"],\"font\":{\"color\":\"#2a3f5f\"},\"hovermode\":\"closest\",\"hoverlabel\":{\"align\":\"left\"},\"paper_bgcolor\":\"white\",\"plot_bgcolor\":\"#E5ECF6\",\"polar\":{\"bgcolor\":\"#E5ECF6\",\"angularaxis\":{\"gridcolor\":\"white\",\"linecolor\":\"white\",\"ticks\":\"\"},\"radialaxis\":{\"gridcolor\":\"white\",\"linecolor\":\"white\",\"ticks\":\"\"}},\"ternary\":{\"bgcolor\":\"#E5ECF6\",\"aaxis\":{\"gridcolor\":\"white\",\"linecolor\":\"white\",\"ticks\":\"\"},\"baxis\":{\"gridcolor\":\"white\",\"linecolor\":\"white\",\"ticks\":\"\"},\"caxis\":{\"gridcolor\":\"white\",\"linecolor\":\"white\",\"ticks\":\"\"}},\"coloraxis\":{\"colorbar\":{\"outlinewidth\":0,\"ticks\":\"\"}},\"colorscale\":{\"sequential\":[[0.0,\"#0d0887\"],[0.1111111111111111,\"#46039f\"],[0.2222222222222222,\"#7201a8\"],[0.3333333333333333,\"#9c179e\"],[0.4444444444444444,\"#bd3786\"],[0.5555555555555556,\"#d8576b\"],[0.6666666666666666,\"#ed7953\"],[0.7777777777777778,\"#fb9f3a\"],[0.8888888888888888,\"#fdca26\"],[1.0,\"#f0f921\"]],\"sequentialminus\":[[0.0,\"#0d0887\"],[0.1111111111111111,\"#46039f\"],[0.2222222222222222,\"#7201a8\"],[0.3333333333333333,\"#9c179e\"],[0.4444444444444444,\"#bd3786\"],[0.5555555555555556,\"#d8576b\"],[0.6666666666666666,\"#ed7953\"],[0.7777777777777778,\"#fb9f3a\"],[0.8888888888888888,\"#fdca26\"],[1.0,\"#f0f921\"]],\"diverging\":[[0,\"#8e0152\"],[0.1,\"#c51b7d\"],[0.2,\"#de77ae\"],[0.3,\"#f1b6da\"],[0.4,\"#fde0ef\"],[0.5,\"#f7f7f7\"],[0.6,\"#e6f5d0\"],[0.7,\"#b8e186\"],[0.8,\"#7fbc41\"],[0.9,\"#4d9221\"],[1,\"#276419\"]]},\"xaxis\":{\"gridcolor\":\"white\",\"linecolor\":\"white\",\"ticks\":\"\",\"title\":{\"standoff\":15},\"zerolinecolor\":\"white\",\"automargin\":true,\"zerolinewidth\":2},\"yaxis\":{\"gridcolor\":\"white\",\"linecolor\":\"white\",\"ticks\":\"\",\"title\":{\"standoff\":15},\"zerolinecolor\":\"white\",\"automargin\":true,\"zerolinewidth\":2},\"scene\":{\"xaxis\":{\"backgroundcolor\":\"#E5ECF6\",\"gridcolor\":\"white\",\"linecolor\":\"white\",\"showbackground\":true,\"ticks\":\"\",\"zerolinecolor\":\"white\",\"gridwidth\":2},\"yaxis\":{\"backgroundcolor\":\"#E5ECF6\",\"gridcolor\":\"white\",\"linecolor\":\"white\",\"showbackground\":true,\"ticks\":\"\",\"zerolinecolor\":\"white\",\"gridwidth\":2},\"zaxis\":{\"backgroundcolor\":\"#E5ECF6\",\"gridcolor\":\"white\",\"linecolor\":\"white\",\"showbackground\":true,\"ticks\":\"\",\"zerolinecolor\":\"white\",\"gridwidth\":2}},\"shapedefaults\":{\"line\":{\"color\":\"#2a3f5f\"}},\"annotationdefaults\":{\"arrowcolor\":\"#2a3f5f\",\"arrowhead\":0,\"arrowwidth\":1},\"geo\":{\"bgcolor\":\"white\",\"landcolor\":\"#E5ECF6\",\"subunitcolor\":\"white\",\"showland\":true,\"showlakes\":true,\"lakecolor\":\"white\"},\"title\":{\"x\":0.05},\"mapbox\":{\"style\":\"light\"}}}},                        {\"responsive\": true}                    ).then(function(){\n",
              "                            \n",
              "var gd = document.getElementById('3e844c77-538c-470e-879d-b764ed2e6f23');\n",
              "var x = new MutationObserver(function (mutations, observer) {{\n",
              "        var display = window.getComputedStyle(gd).display;\n",
              "        if (!display || display === 'none') {{\n",
              "            console.log([gd, 'removed!']);\n",
              "            Plotly.purge(gd);\n",
              "            observer.disconnect();\n",
              "        }}\n",
              "}});\n",
              "\n",
              "// Listen for the removal of the full notebook cells\n",
              "var notebookContainer = gd.closest('#notebook-container');\n",
              "if (notebookContainer) {{\n",
              "    x.observe(notebookContainer, {childList: true});\n",
              "}}\n",
              "\n",
              "// Listen for the clearing of the current output cell\n",
              "var outputEl = gd.closest('.output');\n",
              "if (outputEl) {{\n",
              "    x.observe(outputEl, {childList: true});\n",
              "}}\n",
              "\n",
              "                        })                };                            </script>        </div>\n",
              "</body>\n",
              "</html>"
            ]
          },
          "metadata": {}
        },
        {
          "output_type": "stream",
          "name": "stderr",
          "text": [
            "<ipython-input-37-247d5052aadc>:44: FutureWarning:\n",
            "\n",
            "suggest_loguniform has been deprecated in v3.0.0. This feature will be removed in v6.0.0. See https://github.com/optuna/optuna/releases/tag/v3.0.0. Use suggest_float(..., log=True) instead.\n",
            "\n",
            "<ipython-input-37-247d5052aadc>:73: FutureWarning:\n",
            "\n",
            "suggest_uniform has been deprecated in v3.0.0. This feature will be removed in v6.0.0. See https://github.com/optuna/optuna/releases/tag/v3.0.0. Use suggest_float instead.\n",
            "\n",
            "<ipython-input-37-247d5052aadc>:76: FutureWarning:\n",
            "\n",
            "suggest_uniform has been deprecated in v3.0.0. This feature will be removed in v6.0.0. See https://github.com/optuna/optuna/releases/tag/v3.0.0. Use suggest_float instead.\n",
            "\n",
            "<ipython-input-37-247d5052aadc>:145: FutureWarning:\n",
            "\n",
            "suggest_loguniform has been deprecated in v3.0.0. This feature will be removed in v6.0.0. See https://github.com/optuna/optuna/releases/tag/v3.0.0. Use suggest_float(..., log=True) instead.\n",
            "\n",
            "<ipython-input-37-247d5052aadc>:146: FutureWarning:\n",
            "\n",
            "suggest_uniform has been deprecated in v3.0.0. This feature will be removed in v6.0.0. See https://github.com/optuna/optuna/releases/tag/v3.0.0. Use suggest_float instead.\n",
            "\n",
            "<ipython-input-37-247d5052aadc>:161: FutureWarning:\n",
            "\n",
            "suggest_uniform has been deprecated in v3.0.0. This feature will be removed in v6.0.0. See https://github.com/optuna/optuna/releases/tag/v3.0.0. Use suggest_float instead.\n",
            "\n",
            "WARNING:tensorboardX.x2num:NaN or Inf found in input tensor.\n",
            "WARNING:tensorboardX.x2num:NaN or Inf found in input tensor.\n",
            "WARNING:tensorboardX.x2num:NaN or Inf found in input tensor.\n",
            "WARNING:tensorboardX.x2num:NaN or Inf found in input tensor.\n",
            "WARNING:tensorboardX.x2num:NaN or Inf found in input tensor.\n",
            "WARNING:tensorboardX.x2num:NaN or Inf found in input tensor.\n"
          ]
        },
        {
          "output_type": "stream",
          "name": "stdout",
          "text": [
            "Epoch 1/86.. Train loss: nan.. Val loss: nan.. Train L1 norm: nan.. Val L1 norm: nan.. Train Linf norm: nan.. Val Linf norm: nan\n"
          ]
        },
        {
          "output_type": "stream",
          "name": "stderr",
          "text": [
            "WARNING:tensorboardX.x2num:NaN or Inf found in input tensor.\n",
            "WARNING:tensorboardX.x2num:NaN or Inf found in input tensor.\n",
            "WARNING:tensorboardX.x2num:NaN or Inf found in input tensor.\n",
            "WARNING:tensorboardX.x2num:NaN or Inf found in input tensor.\n",
            "WARNING:tensorboardX.x2num:NaN or Inf found in input tensor.\n",
            "WARNING:tensorboardX.x2num:NaN or Inf found in input tensor.\n"
          ]
        },
        {
          "output_type": "stream",
          "name": "stdout",
          "text": [
            "Epoch 2/86.. Train loss: nan.. Val loss: nan.. Train L1 norm: nan.. Val L1 norm: nan.. Train Linf norm: nan.. Val Linf norm: nan\n"
          ]
        },
        {
          "output_type": "stream",
          "name": "stderr",
          "text": [
            "WARNING:tensorboardX.x2num:NaN or Inf found in input tensor.\n",
            "WARNING:tensorboardX.x2num:NaN or Inf found in input tensor.\n",
            "WARNING:tensorboardX.x2num:NaN or Inf found in input tensor.\n",
            "WARNING:tensorboardX.x2num:NaN or Inf found in input tensor.\n",
            "WARNING:tensorboardX.x2num:NaN or Inf found in input tensor.\n",
            "WARNING:tensorboardX.x2num:NaN or Inf found in input tensor.\n"
          ]
        },
        {
          "output_type": "stream",
          "name": "stdout",
          "text": [
            "Epoch 3/86.. Train loss: nan.. Val loss: nan.. Train L1 norm: nan.. Val L1 norm: nan.. Train Linf norm: nan.. Val Linf norm: nan\n"
          ]
        },
        {
          "output_type": "stream",
          "name": "stderr",
          "text": [
            "WARNING:tensorboardX.x2num:NaN or Inf found in input tensor.\n",
            "WARNING:tensorboardX.x2num:NaN or Inf found in input tensor.\n",
            "WARNING:tensorboardX.x2num:NaN or Inf found in input tensor.\n",
            "WARNING:tensorboardX.x2num:NaN or Inf found in input tensor.\n",
            "WARNING:tensorboardX.x2num:NaN or Inf found in input tensor.\n",
            "WARNING:tensorboardX.x2num:NaN or Inf found in input tensor.\n"
          ]
        },
        {
          "output_type": "stream",
          "name": "stdout",
          "text": [
            "Epoch 4/86.. Train loss: nan.. Val loss: nan.. Train L1 norm: nan.. Val L1 norm: nan.. Train Linf norm: nan.. Val Linf norm: nan\n"
          ]
        },
        {
          "output_type": "stream",
          "name": "stderr",
          "text": [
            "WARNING:tensorboardX.x2num:NaN or Inf found in input tensor.\n",
            "WARNING:tensorboardX.x2num:NaN or Inf found in input tensor.\n",
            "WARNING:tensorboardX.x2num:NaN or Inf found in input tensor.\n",
            "WARNING:tensorboardX.x2num:NaN or Inf found in input tensor.\n",
            "WARNING:tensorboardX.x2num:NaN or Inf found in input tensor.\n",
            "WARNING:tensorboardX.x2num:NaN or Inf found in input tensor.\n"
          ]
        },
        {
          "output_type": "stream",
          "name": "stdout",
          "text": [
            "Epoch 5/86.. Train loss: nan.. Val loss: nan.. Train L1 norm: nan.. Val L1 norm: nan.. Train Linf norm: nan.. Val Linf norm: nan\n"
          ]
        },
        {
          "output_type": "stream",
          "name": "stderr",
          "text": [
            "WARNING:tensorboardX.x2num:NaN or Inf found in input tensor.\n",
            "WARNING:tensorboardX.x2num:NaN or Inf found in input tensor.\n",
            "WARNING:tensorboardX.x2num:NaN or Inf found in input tensor.\n",
            "WARNING:tensorboardX.x2num:NaN or Inf found in input tensor.\n",
            "WARNING:tensorboardX.x2num:NaN or Inf found in input tensor.\n",
            "WARNING:tensorboardX.x2num:NaN or Inf found in input tensor.\n"
          ]
        },
        {
          "output_type": "stream",
          "name": "stdout",
          "text": [
            "Epoch 6/86.. Train loss: nan.. Val loss: nan.. Train L1 norm: nan.. Val L1 norm: nan.. Train Linf norm: nan.. Val Linf norm: nan\n"
          ]
        },
        {
          "output_type": "stream",
          "name": "stderr",
          "text": [
            "WARNING:tensorboardX.x2num:NaN or Inf found in input tensor.\n",
            "WARNING:tensorboardX.x2num:NaN or Inf found in input tensor.\n",
            "WARNING:tensorboardX.x2num:NaN or Inf found in input tensor.\n",
            "WARNING:tensorboardX.x2num:NaN or Inf found in input tensor.\n",
            "WARNING:tensorboardX.x2num:NaN or Inf found in input tensor.\n",
            "WARNING:tensorboardX.x2num:NaN or Inf found in input tensor.\n"
          ]
        },
        {
          "output_type": "stream",
          "name": "stdout",
          "text": [
            "Epoch 7/86.. Train loss: nan.. Val loss: nan.. Train L1 norm: nan.. Val L1 norm: nan.. Train Linf norm: nan.. Val Linf norm: nan\n"
          ]
        },
        {
          "output_type": "stream",
          "name": "stderr",
          "text": [
            "WARNING:tensorboardX.x2num:NaN or Inf found in input tensor.\n",
            "WARNING:tensorboardX.x2num:NaN or Inf found in input tensor.\n",
            "WARNING:tensorboardX.x2num:NaN or Inf found in input tensor.\n",
            "WARNING:tensorboardX.x2num:NaN or Inf found in input tensor.\n",
            "WARNING:tensorboardX.x2num:NaN or Inf found in input tensor.\n",
            "WARNING:tensorboardX.x2num:NaN or Inf found in input tensor.\n"
          ]
        },
        {
          "output_type": "stream",
          "name": "stdout",
          "text": [
            "Epoch 8/86.. Train loss: nan.. Val loss: nan.. Train L1 norm: nan.. Val L1 norm: nan.. Train Linf norm: nan.. Val Linf norm: nan\n"
          ]
        },
        {
          "output_type": "stream",
          "name": "stderr",
          "text": [
            "WARNING:tensorboardX.x2num:NaN or Inf found in input tensor.\n",
            "WARNING:tensorboardX.x2num:NaN or Inf found in input tensor.\n",
            "WARNING:tensorboardX.x2num:NaN or Inf found in input tensor.\n",
            "WARNING:tensorboardX.x2num:NaN or Inf found in input tensor.\n",
            "WARNING:tensorboardX.x2num:NaN or Inf found in input tensor.\n",
            "WARNING:tensorboardX.x2num:NaN or Inf found in input tensor.\n"
          ]
        },
        {
          "output_type": "stream",
          "name": "stdout",
          "text": [
            "Epoch 9/86.. Train loss: nan.. Val loss: nan.. Train L1 norm: nan.. Val L1 norm: nan.. Train Linf norm: nan.. Val Linf norm: nan\n"
          ]
        },
        {
          "output_type": "stream",
          "name": "stderr",
          "text": [
            "WARNING:tensorboardX.x2num:NaN or Inf found in input tensor.\n",
            "WARNING:tensorboardX.x2num:NaN or Inf found in input tensor.\n",
            "WARNING:tensorboardX.x2num:NaN or Inf found in input tensor.\n",
            "WARNING:tensorboardX.x2num:NaN or Inf found in input tensor.\n",
            "WARNING:tensorboardX.x2num:NaN or Inf found in input tensor.\n",
            "WARNING:tensorboardX.x2num:NaN or Inf found in input tensor.\n"
          ]
        },
        {
          "output_type": "stream",
          "name": "stdout",
          "text": [
            "Epoch 10/86.. Train loss: nan.. Val loss: nan.. Train L1 norm: nan.. Val L1 norm: nan.. Train Linf norm: nan.. Val Linf norm: nan\n"
          ]
        },
        {
          "output_type": "stream",
          "name": "stderr",
          "text": [
            "WARNING:tensorboardX.x2num:NaN or Inf found in input tensor.\n",
            "WARNING:tensorboardX.x2num:NaN or Inf found in input tensor.\n",
            "WARNING:tensorboardX.x2num:NaN or Inf found in input tensor.\n",
            "WARNING:tensorboardX.x2num:NaN or Inf found in input tensor.\n",
            "WARNING:tensorboardX.x2num:NaN or Inf found in input tensor.\n",
            "WARNING:tensorboardX.x2num:NaN or Inf found in input tensor.\n"
          ]
        },
        {
          "output_type": "stream",
          "name": "stdout",
          "text": [
            "Epoch 11/86.. Train loss: nan.. Val loss: nan.. Train L1 norm: nan.. Val L1 norm: nan.. Train Linf norm: nan.. Val Linf norm: nan\n"
          ]
        },
        {
          "output_type": "stream",
          "name": "stderr",
          "text": [
            "WARNING:tensorboardX.x2num:NaN or Inf found in input tensor.\n",
            "WARNING:tensorboardX.x2num:NaN or Inf found in input tensor.\n",
            "WARNING:tensorboardX.x2num:NaN or Inf found in input tensor.\n",
            "WARNING:tensorboardX.x2num:NaN or Inf found in input tensor.\n",
            "WARNING:tensorboardX.x2num:NaN or Inf found in input tensor.\n",
            "WARNING:tensorboardX.x2num:NaN or Inf found in input tensor.\n"
          ]
        },
        {
          "output_type": "stream",
          "name": "stdout",
          "text": [
            "Epoch 12/86.. Train loss: nan.. Val loss: nan.. Train L1 norm: nan.. Val L1 norm: nan.. Train Linf norm: nan.. Val Linf norm: nan\n"
          ]
        },
        {
          "output_type": "stream",
          "name": "stderr",
          "text": [
            "WARNING:tensorboardX.x2num:NaN or Inf found in input tensor.\n",
            "WARNING:tensorboardX.x2num:NaN or Inf found in input tensor.\n",
            "WARNING:tensorboardX.x2num:NaN or Inf found in input tensor.\n",
            "WARNING:tensorboardX.x2num:NaN or Inf found in input tensor.\n",
            "WARNING:tensorboardX.x2num:NaN or Inf found in input tensor.\n",
            "WARNING:tensorboardX.x2num:NaN or Inf found in input tensor.\n"
          ]
        },
        {
          "output_type": "stream",
          "name": "stdout",
          "text": [
            "Epoch 13/86.. Train loss: nan.. Val loss: nan.. Train L1 norm: nan.. Val L1 norm: nan.. Train Linf norm: nan.. Val Linf norm: nan\n"
          ]
        },
        {
          "output_type": "stream",
          "name": "stderr",
          "text": [
            "WARNING:tensorboardX.x2num:NaN or Inf found in input tensor.\n",
            "WARNING:tensorboardX.x2num:NaN or Inf found in input tensor.\n",
            "WARNING:tensorboardX.x2num:NaN or Inf found in input tensor.\n",
            "WARNING:tensorboardX.x2num:NaN or Inf found in input tensor.\n",
            "WARNING:tensorboardX.x2num:NaN or Inf found in input tensor.\n",
            "WARNING:tensorboardX.x2num:NaN or Inf found in input tensor.\n"
          ]
        },
        {
          "output_type": "stream",
          "name": "stdout",
          "text": [
            "Epoch 14/86.. Train loss: nan.. Val loss: nan.. Train L1 norm: nan.. Val L1 norm: nan.. Train Linf norm: nan.. Val Linf norm: nan\n"
          ]
        },
        {
          "output_type": "stream",
          "name": "stderr",
          "text": [
            "WARNING:tensorboardX.x2num:NaN or Inf found in input tensor.\n",
            "WARNING:tensorboardX.x2num:NaN or Inf found in input tensor.\n",
            "WARNING:tensorboardX.x2num:NaN or Inf found in input tensor.\n",
            "WARNING:tensorboardX.x2num:NaN or Inf found in input tensor.\n",
            "WARNING:tensorboardX.x2num:NaN or Inf found in input tensor.\n",
            "WARNING:tensorboardX.x2num:NaN or Inf found in input tensor.\n"
          ]
        },
        {
          "output_type": "stream",
          "name": "stdout",
          "text": [
            "Epoch 15/86.. Train loss: nan.. Val loss: nan.. Train L1 norm: nan.. Val L1 norm: nan.. Train Linf norm: nan.. Val Linf norm: nan\n"
          ]
        },
        {
          "output_type": "stream",
          "name": "stderr",
          "text": [
            "WARNING:tensorboardX.x2num:NaN or Inf found in input tensor.\n",
            "WARNING:tensorboardX.x2num:NaN or Inf found in input tensor.\n",
            "WARNING:tensorboardX.x2num:NaN or Inf found in input tensor.\n",
            "WARNING:tensorboardX.x2num:NaN or Inf found in input tensor.\n",
            "WARNING:tensorboardX.x2num:NaN or Inf found in input tensor.\n",
            "WARNING:tensorboardX.x2num:NaN or Inf found in input tensor.\n"
          ]
        },
        {
          "output_type": "stream",
          "name": "stdout",
          "text": [
            "Epoch 16/86.. Train loss: nan.. Val loss: nan.. Train L1 norm: nan.. Val L1 norm: nan.. Train Linf norm: nan.. Val Linf norm: nan\n"
          ]
        },
        {
          "output_type": "stream",
          "name": "stderr",
          "text": [
            "WARNING:tensorboardX.x2num:NaN or Inf found in input tensor.\n",
            "WARNING:tensorboardX.x2num:NaN or Inf found in input tensor.\n",
            "WARNING:tensorboardX.x2num:NaN or Inf found in input tensor.\n",
            "WARNING:tensorboardX.x2num:NaN or Inf found in input tensor.\n",
            "WARNING:tensorboardX.x2num:NaN or Inf found in input tensor.\n",
            "WARNING:tensorboardX.x2num:NaN or Inf found in input tensor.\n"
          ]
        },
        {
          "output_type": "stream",
          "name": "stdout",
          "text": [
            "Epoch 17/86.. Train loss: nan.. Val loss: nan.. Train L1 norm: nan.. Val L1 norm: nan.. Train Linf norm: nan.. Val Linf norm: nan\n"
          ]
        },
        {
          "output_type": "stream",
          "name": "stderr",
          "text": [
            "WARNING:tensorboardX.x2num:NaN or Inf found in input tensor.\n",
            "WARNING:tensorboardX.x2num:NaN or Inf found in input tensor.\n",
            "WARNING:tensorboardX.x2num:NaN or Inf found in input tensor.\n",
            "WARNING:tensorboardX.x2num:NaN or Inf found in input tensor.\n",
            "WARNING:tensorboardX.x2num:NaN or Inf found in input tensor.\n",
            "WARNING:tensorboardX.x2num:NaN or Inf found in input tensor.\n"
          ]
        },
        {
          "output_type": "stream",
          "name": "stdout",
          "text": [
            "Epoch 18/86.. Train loss: nan.. Val loss: nan.. Train L1 norm: nan.. Val L1 norm: nan.. Train Linf norm: nan.. Val Linf norm: nan\n"
          ]
        },
        {
          "output_type": "stream",
          "name": "stderr",
          "text": [
            "WARNING:tensorboardX.x2num:NaN or Inf found in input tensor.\n",
            "WARNING:tensorboardX.x2num:NaN or Inf found in input tensor.\n",
            "WARNING:tensorboardX.x2num:NaN or Inf found in input tensor.\n",
            "WARNING:tensorboardX.x2num:NaN or Inf found in input tensor.\n",
            "WARNING:tensorboardX.x2num:NaN or Inf found in input tensor.\n",
            "WARNING:tensorboardX.x2num:NaN or Inf found in input tensor.\n"
          ]
        },
        {
          "output_type": "stream",
          "name": "stdout",
          "text": [
            "Epoch 19/86.. Train loss: nan.. Val loss: nan.. Train L1 norm: nan.. Val L1 norm: nan.. Train Linf norm: nan.. Val Linf norm: nan\n"
          ]
        },
        {
          "output_type": "stream",
          "name": "stderr",
          "text": [
            "WARNING:tensorboardX.x2num:NaN or Inf found in input tensor.\n",
            "WARNING:tensorboardX.x2num:NaN or Inf found in input tensor.\n",
            "WARNING:tensorboardX.x2num:NaN or Inf found in input tensor.\n",
            "WARNING:tensorboardX.x2num:NaN or Inf found in input tensor.\n",
            "WARNING:tensorboardX.x2num:NaN or Inf found in input tensor.\n",
            "WARNING:tensorboardX.x2num:NaN or Inf found in input tensor.\n"
          ]
        },
        {
          "output_type": "stream",
          "name": "stdout",
          "text": [
            "Epoch 20/86.. Train loss: nan.. Val loss: nan.. Train L1 norm: nan.. Val L1 norm: nan.. Train Linf norm: nan.. Val Linf norm: nan\n"
          ]
        },
        {
          "output_type": "stream",
          "name": "stderr",
          "text": [
            "WARNING:tensorboardX.x2num:NaN or Inf found in input tensor.\n",
            "WARNING:tensorboardX.x2num:NaN or Inf found in input tensor.\n",
            "WARNING:tensorboardX.x2num:NaN or Inf found in input tensor.\n",
            "WARNING:tensorboardX.x2num:NaN or Inf found in input tensor.\n",
            "WARNING:tensorboardX.x2num:NaN or Inf found in input tensor.\n",
            "WARNING:tensorboardX.x2num:NaN or Inf found in input tensor.\n"
          ]
        },
        {
          "output_type": "stream",
          "name": "stdout",
          "text": [
            "Epoch 21/86.. Train loss: nan.. Val loss: nan.. Train L1 norm: nan.. Val L1 norm: nan.. Train Linf norm: nan.. Val Linf norm: nan\n"
          ]
        },
        {
          "output_type": "stream",
          "name": "stderr",
          "text": [
            "WARNING:tensorboardX.x2num:NaN or Inf found in input tensor.\n",
            "WARNING:tensorboardX.x2num:NaN or Inf found in input tensor.\n",
            "WARNING:tensorboardX.x2num:NaN or Inf found in input tensor.\n",
            "WARNING:tensorboardX.x2num:NaN or Inf found in input tensor.\n",
            "WARNING:tensorboardX.x2num:NaN or Inf found in input tensor.\n",
            "WARNING:tensorboardX.x2num:NaN or Inf found in input tensor.\n"
          ]
        },
        {
          "output_type": "stream",
          "name": "stdout",
          "text": [
            "Epoch 22/86.. Train loss: nan.. Val loss: nan.. Train L1 norm: nan.. Val L1 norm: nan.. Train Linf norm: nan.. Val Linf norm: nan\n"
          ]
        },
        {
          "output_type": "stream",
          "name": "stderr",
          "text": [
            "WARNING:tensorboardX.x2num:NaN or Inf found in input tensor.\n",
            "WARNING:tensorboardX.x2num:NaN or Inf found in input tensor.\n",
            "WARNING:tensorboardX.x2num:NaN or Inf found in input tensor.\n",
            "WARNING:tensorboardX.x2num:NaN or Inf found in input tensor.\n",
            "WARNING:tensorboardX.x2num:NaN or Inf found in input tensor.\n",
            "WARNING:tensorboardX.x2num:NaN or Inf found in input tensor.\n"
          ]
        },
        {
          "output_type": "stream",
          "name": "stdout",
          "text": [
            "Epoch 23/86.. Train loss: nan.. Val loss: nan.. Train L1 norm: nan.. Val L1 norm: nan.. Train Linf norm: nan.. Val Linf norm: nan\n"
          ]
        },
        {
          "output_type": "stream",
          "name": "stderr",
          "text": [
            "WARNING:tensorboardX.x2num:NaN or Inf found in input tensor.\n",
            "WARNING:tensorboardX.x2num:NaN or Inf found in input tensor.\n",
            "WARNING:tensorboardX.x2num:NaN or Inf found in input tensor.\n",
            "WARNING:tensorboardX.x2num:NaN or Inf found in input tensor.\n",
            "WARNING:tensorboardX.x2num:NaN or Inf found in input tensor.\n",
            "WARNING:tensorboardX.x2num:NaN or Inf found in input tensor.\n"
          ]
        },
        {
          "output_type": "stream",
          "name": "stdout",
          "text": [
            "Epoch 24/86.. Train loss: nan.. Val loss: nan.. Train L1 norm: nan.. Val L1 norm: nan.. Train Linf norm: nan.. Val Linf norm: nan\n"
          ]
        },
        {
          "output_type": "stream",
          "name": "stderr",
          "text": [
            "WARNING:tensorboardX.x2num:NaN or Inf found in input tensor.\n",
            "WARNING:tensorboardX.x2num:NaN or Inf found in input tensor.\n",
            "WARNING:tensorboardX.x2num:NaN or Inf found in input tensor.\n",
            "WARNING:tensorboardX.x2num:NaN or Inf found in input tensor.\n",
            "WARNING:tensorboardX.x2num:NaN or Inf found in input tensor.\n",
            "WARNING:tensorboardX.x2num:NaN or Inf found in input tensor.\n"
          ]
        },
        {
          "output_type": "stream",
          "name": "stdout",
          "text": [
            "Epoch 25/86.. Train loss: nan.. Val loss: nan.. Train L1 norm: nan.. Val L1 norm: nan.. Train Linf norm: nan.. Val Linf norm: nan\n"
          ]
        },
        {
          "output_type": "stream",
          "name": "stderr",
          "text": [
            "WARNING:tensorboardX.x2num:NaN or Inf found in input tensor.\n",
            "WARNING:tensorboardX.x2num:NaN or Inf found in input tensor.\n",
            "WARNING:tensorboardX.x2num:NaN or Inf found in input tensor.\n",
            "WARNING:tensorboardX.x2num:NaN or Inf found in input tensor.\n",
            "WARNING:tensorboardX.x2num:NaN or Inf found in input tensor.\n",
            "WARNING:tensorboardX.x2num:NaN or Inf found in input tensor.\n"
          ]
        },
        {
          "output_type": "stream",
          "name": "stdout",
          "text": [
            "Epoch 26/86.. Train loss: nan.. Val loss: nan.. Train L1 norm: nan.. Val L1 norm: nan.. Train Linf norm: nan.. Val Linf norm: nan\n"
          ]
        },
        {
          "output_type": "stream",
          "name": "stderr",
          "text": [
            "WARNING:tensorboardX.x2num:NaN or Inf found in input tensor.\n",
            "WARNING:tensorboardX.x2num:NaN or Inf found in input tensor.\n",
            "WARNING:tensorboardX.x2num:NaN or Inf found in input tensor.\n",
            "WARNING:tensorboardX.x2num:NaN or Inf found in input tensor.\n",
            "WARNING:tensorboardX.x2num:NaN or Inf found in input tensor.\n",
            "WARNING:tensorboardX.x2num:NaN or Inf found in input tensor.\n"
          ]
        },
        {
          "output_type": "stream",
          "name": "stdout",
          "text": [
            "Epoch 27/86.. Train loss: nan.. Val loss: nan.. Train L1 norm: nan.. Val L1 norm: nan.. Train Linf norm: nan.. Val Linf norm: nan\n"
          ]
        },
        {
          "output_type": "stream",
          "name": "stderr",
          "text": [
            "WARNING:tensorboardX.x2num:NaN or Inf found in input tensor.\n",
            "WARNING:tensorboardX.x2num:NaN or Inf found in input tensor.\n",
            "WARNING:tensorboardX.x2num:NaN or Inf found in input tensor.\n",
            "WARNING:tensorboardX.x2num:NaN or Inf found in input tensor.\n",
            "WARNING:tensorboardX.x2num:NaN or Inf found in input tensor.\n",
            "WARNING:tensorboardX.x2num:NaN or Inf found in input tensor.\n"
          ]
        },
        {
          "output_type": "stream",
          "name": "stdout",
          "text": [
            "Epoch 28/86.. Train loss: nan.. Val loss: nan.. Train L1 norm: nan.. Val L1 norm: nan.. Train Linf norm: nan.. Val Linf norm: nan\n"
          ]
        },
        {
          "output_type": "stream",
          "name": "stderr",
          "text": [
            "WARNING:tensorboardX.x2num:NaN or Inf found in input tensor.\n",
            "WARNING:tensorboardX.x2num:NaN or Inf found in input tensor.\n",
            "WARNING:tensorboardX.x2num:NaN or Inf found in input tensor.\n",
            "WARNING:tensorboardX.x2num:NaN or Inf found in input tensor.\n",
            "WARNING:tensorboardX.x2num:NaN or Inf found in input tensor.\n",
            "WARNING:tensorboardX.x2num:NaN or Inf found in input tensor.\n"
          ]
        },
        {
          "output_type": "stream",
          "name": "stdout",
          "text": [
            "Epoch 29/86.. Train loss: nan.. Val loss: nan.. Train L1 norm: nan.. Val L1 norm: nan.. Train Linf norm: nan.. Val Linf norm: nan\n"
          ]
        },
        {
          "output_type": "stream",
          "name": "stderr",
          "text": [
            "WARNING:tensorboardX.x2num:NaN or Inf found in input tensor.\n",
            "WARNING:tensorboardX.x2num:NaN or Inf found in input tensor.\n",
            "WARNING:tensorboardX.x2num:NaN or Inf found in input tensor.\n",
            "WARNING:tensorboardX.x2num:NaN or Inf found in input tensor.\n",
            "WARNING:tensorboardX.x2num:NaN or Inf found in input tensor.\n",
            "WARNING:tensorboardX.x2num:NaN or Inf found in input tensor.\n"
          ]
        },
        {
          "output_type": "stream",
          "name": "stdout",
          "text": [
            "Epoch 30/86.. Train loss: nan.. Val loss: nan.. Train L1 norm: nan.. Val L1 norm: nan.. Train Linf norm: nan.. Val Linf norm: nan\n"
          ]
        },
        {
          "output_type": "stream",
          "name": "stderr",
          "text": [
            "WARNING:tensorboardX.x2num:NaN or Inf found in input tensor.\n",
            "WARNING:tensorboardX.x2num:NaN or Inf found in input tensor.\n",
            "WARNING:tensorboardX.x2num:NaN or Inf found in input tensor.\n",
            "WARNING:tensorboardX.x2num:NaN or Inf found in input tensor.\n",
            "WARNING:tensorboardX.x2num:NaN or Inf found in input tensor.\n",
            "WARNING:tensorboardX.x2num:NaN or Inf found in input tensor.\n"
          ]
        },
        {
          "output_type": "stream",
          "name": "stdout",
          "text": [
            "Epoch 31/86.. Train loss: nan.. Val loss: nan.. Train L1 norm: nan.. Val L1 norm: nan.. Train Linf norm: nan.. Val Linf norm: nan\n"
          ]
        },
        {
          "output_type": "stream",
          "name": "stderr",
          "text": [
            "WARNING:tensorboardX.x2num:NaN or Inf found in input tensor.\n",
            "WARNING:tensorboardX.x2num:NaN or Inf found in input tensor.\n",
            "WARNING:tensorboardX.x2num:NaN or Inf found in input tensor.\n",
            "WARNING:tensorboardX.x2num:NaN or Inf found in input tensor.\n",
            "WARNING:tensorboardX.x2num:NaN or Inf found in input tensor.\n",
            "WARNING:tensorboardX.x2num:NaN or Inf found in input tensor.\n"
          ]
        },
        {
          "output_type": "stream",
          "name": "stdout",
          "text": [
            "Epoch 32/86.. Train loss: nan.. Val loss: nan.. Train L1 norm: nan.. Val L1 norm: nan.. Train Linf norm: nan.. Val Linf norm: nan\n"
          ]
        },
        {
          "output_type": "stream",
          "name": "stderr",
          "text": [
            "WARNING:tensorboardX.x2num:NaN or Inf found in input tensor.\n",
            "WARNING:tensorboardX.x2num:NaN or Inf found in input tensor.\n",
            "WARNING:tensorboardX.x2num:NaN or Inf found in input tensor.\n",
            "WARNING:tensorboardX.x2num:NaN or Inf found in input tensor.\n",
            "WARNING:tensorboardX.x2num:NaN or Inf found in input tensor.\n",
            "WARNING:tensorboardX.x2num:NaN or Inf found in input tensor.\n"
          ]
        },
        {
          "output_type": "stream",
          "name": "stdout",
          "text": [
            "Epoch 33/86.. Train loss: nan.. Val loss: nan.. Train L1 norm: nan.. Val L1 norm: nan.. Train Linf norm: nan.. Val Linf norm: nan\n"
          ]
        },
        {
          "output_type": "stream",
          "name": "stderr",
          "text": [
            "WARNING:tensorboardX.x2num:NaN or Inf found in input tensor.\n",
            "WARNING:tensorboardX.x2num:NaN or Inf found in input tensor.\n",
            "WARNING:tensorboardX.x2num:NaN or Inf found in input tensor.\n",
            "WARNING:tensorboardX.x2num:NaN or Inf found in input tensor.\n",
            "WARNING:tensorboardX.x2num:NaN or Inf found in input tensor.\n",
            "WARNING:tensorboardX.x2num:NaN or Inf found in input tensor.\n"
          ]
        },
        {
          "output_type": "stream",
          "name": "stdout",
          "text": [
            "Epoch 34/86.. Train loss: nan.. Val loss: nan.. Train L1 norm: nan.. Val L1 norm: nan.. Train Linf norm: nan.. Val Linf norm: nan\n"
          ]
        },
        {
          "output_type": "stream",
          "name": "stderr",
          "text": [
            "WARNING:tensorboardX.x2num:NaN or Inf found in input tensor.\n",
            "WARNING:tensorboardX.x2num:NaN or Inf found in input tensor.\n",
            "WARNING:tensorboardX.x2num:NaN or Inf found in input tensor.\n",
            "WARNING:tensorboardX.x2num:NaN or Inf found in input tensor.\n",
            "WARNING:tensorboardX.x2num:NaN or Inf found in input tensor.\n",
            "WARNING:tensorboardX.x2num:NaN or Inf found in input tensor.\n"
          ]
        },
        {
          "output_type": "stream",
          "name": "stdout",
          "text": [
            "Epoch 35/86.. Train loss: nan.. Val loss: nan.. Train L1 norm: nan.. Val L1 norm: nan.. Train Linf norm: nan.. Val Linf norm: nan\n"
          ]
        },
        {
          "output_type": "stream",
          "name": "stderr",
          "text": [
            "WARNING:tensorboardX.x2num:NaN or Inf found in input tensor.\n",
            "WARNING:tensorboardX.x2num:NaN or Inf found in input tensor.\n",
            "WARNING:tensorboardX.x2num:NaN or Inf found in input tensor.\n",
            "WARNING:tensorboardX.x2num:NaN or Inf found in input tensor.\n",
            "WARNING:tensorboardX.x2num:NaN or Inf found in input tensor.\n",
            "WARNING:tensorboardX.x2num:NaN or Inf found in input tensor.\n"
          ]
        },
        {
          "output_type": "stream",
          "name": "stdout",
          "text": [
            "Epoch 36/86.. Train loss: nan.. Val loss: nan.. Train L1 norm: nan.. Val L1 norm: nan.. Train Linf norm: nan.. Val Linf norm: nan\n"
          ]
        },
        {
          "output_type": "stream",
          "name": "stderr",
          "text": [
            "WARNING:tensorboardX.x2num:NaN or Inf found in input tensor.\n",
            "WARNING:tensorboardX.x2num:NaN or Inf found in input tensor.\n",
            "WARNING:tensorboardX.x2num:NaN or Inf found in input tensor.\n",
            "WARNING:tensorboardX.x2num:NaN or Inf found in input tensor.\n",
            "WARNING:tensorboardX.x2num:NaN or Inf found in input tensor.\n",
            "WARNING:tensorboardX.x2num:NaN or Inf found in input tensor.\n"
          ]
        },
        {
          "output_type": "stream",
          "name": "stdout",
          "text": [
            "Epoch 37/86.. Train loss: nan.. Val loss: nan.. Train L1 norm: nan.. Val L1 norm: nan.. Train Linf norm: nan.. Val Linf norm: nan\n"
          ]
        },
        {
          "output_type": "stream",
          "name": "stderr",
          "text": [
            "WARNING:tensorboardX.x2num:NaN or Inf found in input tensor.\n",
            "WARNING:tensorboardX.x2num:NaN or Inf found in input tensor.\n",
            "WARNING:tensorboardX.x2num:NaN or Inf found in input tensor.\n",
            "WARNING:tensorboardX.x2num:NaN or Inf found in input tensor.\n",
            "WARNING:tensorboardX.x2num:NaN or Inf found in input tensor.\n",
            "WARNING:tensorboardX.x2num:NaN or Inf found in input tensor.\n"
          ]
        },
        {
          "output_type": "stream",
          "name": "stdout",
          "text": [
            "Epoch 38/86.. Train loss: nan.. Val loss: nan.. Train L1 norm: nan.. Val L1 norm: nan.. Train Linf norm: nan.. Val Linf norm: nan\n"
          ]
        },
        {
          "output_type": "stream",
          "name": "stderr",
          "text": [
            "WARNING:tensorboardX.x2num:NaN or Inf found in input tensor.\n",
            "WARNING:tensorboardX.x2num:NaN or Inf found in input tensor.\n",
            "WARNING:tensorboardX.x2num:NaN or Inf found in input tensor.\n",
            "WARNING:tensorboardX.x2num:NaN or Inf found in input tensor.\n",
            "WARNING:tensorboardX.x2num:NaN or Inf found in input tensor.\n",
            "WARNING:tensorboardX.x2num:NaN or Inf found in input tensor.\n"
          ]
        },
        {
          "output_type": "stream",
          "name": "stdout",
          "text": [
            "Epoch 39/86.. Train loss: nan.. Val loss: nan.. Train L1 norm: nan.. Val L1 norm: nan.. Train Linf norm: nan.. Val Linf norm: nan\n"
          ]
        },
        {
          "output_type": "stream",
          "name": "stderr",
          "text": [
            "WARNING:tensorboardX.x2num:NaN or Inf found in input tensor.\n",
            "WARNING:tensorboardX.x2num:NaN or Inf found in input tensor.\n",
            "WARNING:tensorboardX.x2num:NaN or Inf found in input tensor.\n",
            "WARNING:tensorboardX.x2num:NaN or Inf found in input tensor.\n",
            "WARNING:tensorboardX.x2num:NaN or Inf found in input tensor.\n",
            "WARNING:tensorboardX.x2num:NaN or Inf found in input tensor.\n"
          ]
        },
        {
          "output_type": "stream",
          "name": "stdout",
          "text": [
            "Epoch 40/86.. Train loss: nan.. Val loss: nan.. Train L1 norm: nan.. Val L1 norm: nan.. Train Linf norm: nan.. Val Linf norm: nan\n"
          ]
        },
        {
          "output_type": "stream",
          "name": "stderr",
          "text": [
            "WARNING:tensorboardX.x2num:NaN or Inf found in input tensor.\n",
            "WARNING:tensorboardX.x2num:NaN or Inf found in input tensor.\n",
            "WARNING:tensorboardX.x2num:NaN or Inf found in input tensor.\n",
            "WARNING:tensorboardX.x2num:NaN or Inf found in input tensor.\n",
            "WARNING:tensorboardX.x2num:NaN or Inf found in input tensor.\n",
            "WARNING:tensorboardX.x2num:NaN or Inf found in input tensor.\n"
          ]
        },
        {
          "output_type": "stream",
          "name": "stdout",
          "text": [
            "Epoch 41/86.. Train loss: nan.. Val loss: nan.. Train L1 norm: nan.. Val L1 norm: nan.. Train Linf norm: nan.. Val Linf norm: nan\n"
          ]
        },
        {
          "output_type": "stream",
          "name": "stderr",
          "text": [
            "WARNING:tensorboardX.x2num:NaN or Inf found in input tensor.\n",
            "WARNING:tensorboardX.x2num:NaN or Inf found in input tensor.\n",
            "WARNING:tensorboardX.x2num:NaN or Inf found in input tensor.\n",
            "WARNING:tensorboardX.x2num:NaN or Inf found in input tensor.\n",
            "WARNING:tensorboardX.x2num:NaN or Inf found in input tensor.\n",
            "WARNING:tensorboardX.x2num:NaN or Inf found in input tensor.\n"
          ]
        },
        {
          "output_type": "stream",
          "name": "stdout",
          "text": [
            "Epoch 42/86.. Train loss: nan.. Val loss: nan.. Train L1 norm: nan.. Val L1 norm: nan.. Train Linf norm: nan.. Val Linf norm: nan\n"
          ]
        },
        {
          "output_type": "stream",
          "name": "stderr",
          "text": [
            "WARNING:tensorboardX.x2num:NaN or Inf found in input tensor.\n",
            "WARNING:tensorboardX.x2num:NaN or Inf found in input tensor.\n",
            "WARNING:tensorboardX.x2num:NaN or Inf found in input tensor.\n",
            "WARNING:tensorboardX.x2num:NaN or Inf found in input tensor.\n",
            "WARNING:tensorboardX.x2num:NaN or Inf found in input tensor.\n",
            "WARNING:tensorboardX.x2num:NaN or Inf found in input tensor.\n"
          ]
        },
        {
          "output_type": "stream",
          "name": "stdout",
          "text": [
            "Epoch 43/86.. Train loss: nan.. Val loss: nan.. Train L1 norm: nan.. Val L1 norm: nan.. Train Linf norm: nan.. Val Linf norm: nan\n"
          ]
        },
        {
          "output_type": "stream",
          "name": "stderr",
          "text": [
            "WARNING:tensorboardX.x2num:NaN or Inf found in input tensor.\n",
            "WARNING:tensorboardX.x2num:NaN or Inf found in input tensor.\n",
            "WARNING:tensorboardX.x2num:NaN or Inf found in input tensor.\n",
            "WARNING:tensorboardX.x2num:NaN or Inf found in input tensor.\n",
            "WARNING:tensorboardX.x2num:NaN or Inf found in input tensor.\n",
            "WARNING:tensorboardX.x2num:NaN or Inf found in input tensor.\n"
          ]
        },
        {
          "output_type": "stream",
          "name": "stdout",
          "text": [
            "Epoch 44/86.. Train loss: nan.. Val loss: nan.. Train L1 norm: nan.. Val L1 norm: nan.. Train Linf norm: nan.. Val Linf norm: nan\n"
          ]
        },
        {
          "output_type": "stream",
          "name": "stderr",
          "text": [
            "WARNING:tensorboardX.x2num:NaN or Inf found in input tensor.\n",
            "WARNING:tensorboardX.x2num:NaN or Inf found in input tensor.\n",
            "WARNING:tensorboardX.x2num:NaN or Inf found in input tensor.\n",
            "WARNING:tensorboardX.x2num:NaN or Inf found in input tensor.\n",
            "WARNING:tensorboardX.x2num:NaN or Inf found in input tensor.\n",
            "WARNING:tensorboardX.x2num:NaN or Inf found in input tensor.\n"
          ]
        },
        {
          "output_type": "stream",
          "name": "stdout",
          "text": [
            "Epoch 45/86.. Train loss: nan.. Val loss: nan.. Train L1 norm: nan.. Val L1 norm: nan.. Train Linf norm: nan.. Val Linf norm: nan\n"
          ]
        },
        {
          "output_type": "stream",
          "name": "stderr",
          "text": [
            "WARNING:tensorboardX.x2num:NaN or Inf found in input tensor.\n",
            "WARNING:tensorboardX.x2num:NaN or Inf found in input tensor.\n",
            "WARNING:tensorboardX.x2num:NaN or Inf found in input tensor.\n",
            "WARNING:tensorboardX.x2num:NaN or Inf found in input tensor.\n",
            "WARNING:tensorboardX.x2num:NaN or Inf found in input tensor.\n",
            "WARNING:tensorboardX.x2num:NaN or Inf found in input tensor.\n"
          ]
        },
        {
          "output_type": "stream",
          "name": "stdout",
          "text": [
            "Epoch 46/86.. Train loss: nan.. Val loss: nan.. Train L1 norm: nan.. Val L1 norm: nan.. Train Linf norm: nan.. Val Linf norm: nan\n"
          ]
        },
        {
          "output_type": "stream",
          "name": "stderr",
          "text": [
            "WARNING:tensorboardX.x2num:NaN or Inf found in input tensor.\n",
            "WARNING:tensorboardX.x2num:NaN or Inf found in input tensor.\n",
            "WARNING:tensorboardX.x2num:NaN or Inf found in input tensor.\n",
            "WARNING:tensorboardX.x2num:NaN or Inf found in input tensor.\n",
            "WARNING:tensorboardX.x2num:NaN or Inf found in input tensor.\n",
            "WARNING:tensorboardX.x2num:NaN or Inf found in input tensor.\n"
          ]
        },
        {
          "output_type": "stream",
          "name": "stdout",
          "text": [
            "Epoch 47/86.. Train loss: nan.. Val loss: nan.. Train L1 norm: nan.. Val L1 norm: nan.. Train Linf norm: nan.. Val Linf norm: nan\n"
          ]
        },
        {
          "output_type": "stream",
          "name": "stderr",
          "text": [
            "WARNING:tensorboardX.x2num:NaN or Inf found in input tensor.\n",
            "WARNING:tensorboardX.x2num:NaN or Inf found in input tensor.\n",
            "WARNING:tensorboardX.x2num:NaN or Inf found in input tensor.\n",
            "WARNING:tensorboardX.x2num:NaN or Inf found in input tensor.\n",
            "WARNING:tensorboardX.x2num:NaN or Inf found in input tensor.\n",
            "WARNING:tensorboardX.x2num:NaN or Inf found in input tensor.\n"
          ]
        },
        {
          "output_type": "stream",
          "name": "stdout",
          "text": [
            "Epoch 48/86.. Train loss: nan.. Val loss: nan.. Train L1 norm: nan.. Val L1 norm: nan.. Train Linf norm: nan.. Val Linf norm: nan\n"
          ]
        },
        {
          "output_type": "stream",
          "name": "stderr",
          "text": [
            "WARNING:tensorboardX.x2num:NaN or Inf found in input tensor.\n",
            "WARNING:tensorboardX.x2num:NaN or Inf found in input tensor.\n",
            "WARNING:tensorboardX.x2num:NaN or Inf found in input tensor.\n",
            "WARNING:tensorboardX.x2num:NaN or Inf found in input tensor.\n",
            "WARNING:tensorboardX.x2num:NaN or Inf found in input tensor.\n",
            "WARNING:tensorboardX.x2num:NaN or Inf found in input tensor.\n"
          ]
        },
        {
          "output_type": "stream",
          "name": "stdout",
          "text": [
            "Epoch 49/86.. Train loss: nan.. Val loss: nan.. Train L1 norm: nan.. Val L1 norm: nan.. Train Linf norm: nan.. Val Linf norm: nan\n"
          ]
        },
        {
          "output_type": "stream",
          "name": "stderr",
          "text": [
            "WARNING:tensorboardX.x2num:NaN or Inf found in input tensor.\n",
            "WARNING:tensorboardX.x2num:NaN or Inf found in input tensor.\n",
            "WARNING:tensorboardX.x2num:NaN or Inf found in input tensor.\n",
            "WARNING:tensorboardX.x2num:NaN or Inf found in input tensor.\n",
            "WARNING:tensorboardX.x2num:NaN or Inf found in input tensor.\n",
            "WARNING:tensorboardX.x2num:NaN or Inf found in input tensor.\n"
          ]
        },
        {
          "output_type": "stream",
          "name": "stdout",
          "text": [
            "Epoch 50/86.. Train loss: nan.. Val loss: nan.. Train L1 norm: nan.. Val L1 norm: nan.. Train Linf norm: nan.. Val Linf norm: nan\n"
          ]
        },
        {
          "output_type": "stream",
          "name": "stderr",
          "text": [
            "WARNING:tensorboardX.x2num:NaN or Inf found in input tensor.\n",
            "WARNING:tensorboardX.x2num:NaN or Inf found in input tensor.\n",
            "WARNING:tensorboardX.x2num:NaN or Inf found in input tensor.\n",
            "WARNING:tensorboardX.x2num:NaN or Inf found in input tensor.\n",
            "WARNING:tensorboardX.x2num:NaN or Inf found in input tensor.\n",
            "WARNING:tensorboardX.x2num:NaN or Inf found in input tensor.\n"
          ]
        },
        {
          "output_type": "stream",
          "name": "stdout",
          "text": [
            "Epoch 51/86.. Train loss: nan.. Val loss: nan.. Train L1 norm: nan.. Val L1 norm: nan.. Train Linf norm: nan.. Val Linf norm: nan\n"
          ]
        },
        {
          "output_type": "stream",
          "name": "stderr",
          "text": [
            "WARNING:tensorboardX.x2num:NaN or Inf found in input tensor.\n",
            "WARNING:tensorboardX.x2num:NaN or Inf found in input tensor.\n",
            "WARNING:tensorboardX.x2num:NaN or Inf found in input tensor.\n",
            "WARNING:tensorboardX.x2num:NaN or Inf found in input tensor.\n",
            "WARNING:tensorboardX.x2num:NaN or Inf found in input tensor.\n",
            "WARNING:tensorboardX.x2num:NaN or Inf found in input tensor.\n"
          ]
        },
        {
          "output_type": "stream",
          "name": "stdout",
          "text": [
            "Epoch 52/86.. Train loss: nan.. Val loss: nan.. Train L1 norm: nan.. Val L1 norm: nan.. Train Linf norm: nan.. Val Linf norm: nan\n"
          ]
        },
        {
          "output_type": "stream",
          "name": "stderr",
          "text": [
            "WARNING:tensorboardX.x2num:NaN or Inf found in input tensor.\n",
            "WARNING:tensorboardX.x2num:NaN or Inf found in input tensor.\n",
            "WARNING:tensorboardX.x2num:NaN or Inf found in input tensor.\n",
            "WARNING:tensorboardX.x2num:NaN or Inf found in input tensor.\n",
            "WARNING:tensorboardX.x2num:NaN or Inf found in input tensor.\n",
            "WARNING:tensorboardX.x2num:NaN or Inf found in input tensor.\n"
          ]
        },
        {
          "output_type": "stream",
          "name": "stdout",
          "text": [
            "Epoch 53/86.. Train loss: nan.. Val loss: nan.. Train L1 norm: nan.. Val L1 norm: nan.. Train Linf norm: nan.. Val Linf norm: nan\n"
          ]
        },
        {
          "output_type": "stream",
          "name": "stderr",
          "text": [
            "WARNING:tensorboardX.x2num:NaN or Inf found in input tensor.\n",
            "WARNING:tensorboardX.x2num:NaN or Inf found in input tensor.\n",
            "WARNING:tensorboardX.x2num:NaN or Inf found in input tensor.\n",
            "WARNING:tensorboardX.x2num:NaN or Inf found in input tensor.\n",
            "WARNING:tensorboardX.x2num:NaN or Inf found in input tensor.\n",
            "WARNING:tensorboardX.x2num:NaN or Inf found in input tensor.\n"
          ]
        },
        {
          "output_type": "stream",
          "name": "stdout",
          "text": [
            "Epoch 54/86.. Train loss: nan.. Val loss: nan.. Train L1 norm: nan.. Val L1 norm: nan.. Train Linf norm: nan.. Val Linf norm: nan\n"
          ]
        },
        {
          "output_type": "stream",
          "name": "stderr",
          "text": [
            "WARNING:tensorboardX.x2num:NaN or Inf found in input tensor.\n",
            "WARNING:tensorboardX.x2num:NaN or Inf found in input tensor.\n",
            "WARNING:tensorboardX.x2num:NaN or Inf found in input tensor.\n",
            "WARNING:tensorboardX.x2num:NaN or Inf found in input tensor.\n",
            "WARNING:tensorboardX.x2num:NaN or Inf found in input tensor.\n",
            "WARNING:tensorboardX.x2num:NaN or Inf found in input tensor.\n"
          ]
        },
        {
          "output_type": "stream",
          "name": "stdout",
          "text": [
            "Epoch 55/86.. Train loss: nan.. Val loss: nan.. Train L1 norm: nan.. Val L1 norm: nan.. Train Linf norm: nan.. Val Linf norm: nan\n"
          ]
        },
        {
          "output_type": "stream",
          "name": "stderr",
          "text": [
            "WARNING:tensorboardX.x2num:NaN or Inf found in input tensor.\n",
            "WARNING:tensorboardX.x2num:NaN or Inf found in input tensor.\n",
            "WARNING:tensorboardX.x2num:NaN or Inf found in input tensor.\n",
            "WARNING:tensorboardX.x2num:NaN or Inf found in input tensor.\n",
            "WARNING:tensorboardX.x2num:NaN or Inf found in input tensor.\n",
            "WARNING:tensorboardX.x2num:NaN or Inf found in input tensor.\n"
          ]
        },
        {
          "output_type": "stream",
          "name": "stdout",
          "text": [
            "Epoch 56/86.. Train loss: nan.. Val loss: nan.. Train L1 norm: nan.. Val L1 norm: nan.. Train Linf norm: nan.. Val Linf norm: nan\n"
          ]
        },
        {
          "output_type": "stream",
          "name": "stderr",
          "text": [
            "WARNING:tensorboardX.x2num:NaN or Inf found in input tensor.\n",
            "WARNING:tensorboardX.x2num:NaN or Inf found in input tensor.\n",
            "WARNING:tensorboardX.x2num:NaN or Inf found in input tensor.\n",
            "WARNING:tensorboardX.x2num:NaN or Inf found in input tensor.\n",
            "WARNING:tensorboardX.x2num:NaN or Inf found in input tensor.\n",
            "WARNING:tensorboardX.x2num:NaN or Inf found in input tensor.\n"
          ]
        },
        {
          "output_type": "stream",
          "name": "stdout",
          "text": [
            "Epoch 57/86.. Train loss: nan.. Val loss: nan.. Train L1 norm: nan.. Val L1 norm: nan.. Train Linf norm: nan.. Val Linf norm: nan\n"
          ]
        },
        {
          "output_type": "stream",
          "name": "stderr",
          "text": [
            "WARNING:tensorboardX.x2num:NaN or Inf found in input tensor.\n",
            "WARNING:tensorboardX.x2num:NaN or Inf found in input tensor.\n",
            "WARNING:tensorboardX.x2num:NaN or Inf found in input tensor.\n",
            "WARNING:tensorboardX.x2num:NaN or Inf found in input tensor.\n",
            "WARNING:tensorboardX.x2num:NaN or Inf found in input tensor.\n",
            "WARNING:tensorboardX.x2num:NaN or Inf found in input tensor.\n"
          ]
        },
        {
          "output_type": "stream",
          "name": "stdout",
          "text": [
            "Epoch 58/86.. Train loss: nan.. Val loss: nan.. Train L1 norm: nan.. Val L1 norm: nan.. Train Linf norm: nan.. Val Linf norm: nan\n"
          ]
        },
        {
          "output_type": "stream",
          "name": "stderr",
          "text": [
            "WARNING:tensorboardX.x2num:NaN or Inf found in input tensor.\n",
            "WARNING:tensorboardX.x2num:NaN or Inf found in input tensor.\n",
            "WARNING:tensorboardX.x2num:NaN or Inf found in input tensor.\n",
            "WARNING:tensorboardX.x2num:NaN or Inf found in input tensor.\n",
            "WARNING:tensorboardX.x2num:NaN or Inf found in input tensor.\n",
            "WARNING:tensorboardX.x2num:NaN or Inf found in input tensor.\n"
          ]
        },
        {
          "output_type": "stream",
          "name": "stdout",
          "text": [
            "Epoch 59/86.. Train loss: nan.. Val loss: nan.. Train L1 norm: nan.. Val L1 norm: nan.. Train Linf norm: nan.. Val Linf norm: nan\n"
          ]
        },
        {
          "output_type": "stream",
          "name": "stderr",
          "text": [
            "WARNING:tensorboardX.x2num:NaN or Inf found in input tensor.\n",
            "WARNING:tensorboardX.x2num:NaN or Inf found in input tensor.\n",
            "WARNING:tensorboardX.x2num:NaN or Inf found in input tensor.\n",
            "WARNING:tensorboardX.x2num:NaN or Inf found in input tensor.\n",
            "WARNING:tensorboardX.x2num:NaN or Inf found in input tensor.\n",
            "WARNING:tensorboardX.x2num:NaN or Inf found in input tensor.\n"
          ]
        },
        {
          "output_type": "stream",
          "name": "stdout",
          "text": [
            "Epoch 60/86.. Train loss: nan.. Val loss: nan.. Train L1 norm: nan.. Val L1 norm: nan.. Train Linf norm: nan.. Val Linf norm: nan\n"
          ]
        },
        {
          "output_type": "stream",
          "name": "stderr",
          "text": [
            "WARNING:tensorboardX.x2num:NaN or Inf found in input tensor.\n",
            "WARNING:tensorboardX.x2num:NaN or Inf found in input tensor.\n",
            "WARNING:tensorboardX.x2num:NaN or Inf found in input tensor.\n",
            "WARNING:tensorboardX.x2num:NaN or Inf found in input tensor.\n",
            "WARNING:tensorboardX.x2num:NaN or Inf found in input tensor.\n",
            "WARNING:tensorboardX.x2num:NaN or Inf found in input tensor.\n"
          ]
        },
        {
          "output_type": "stream",
          "name": "stdout",
          "text": [
            "Epoch 61/86.. Train loss: nan.. Val loss: nan.. Train L1 norm: nan.. Val L1 norm: nan.. Train Linf norm: nan.. Val Linf norm: nan\n"
          ]
        },
        {
          "output_type": "stream",
          "name": "stderr",
          "text": [
            "WARNING:tensorboardX.x2num:NaN or Inf found in input tensor.\n",
            "WARNING:tensorboardX.x2num:NaN or Inf found in input tensor.\n",
            "WARNING:tensorboardX.x2num:NaN or Inf found in input tensor.\n",
            "WARNING:tensorboardX.x2num:NaN or Inf found in input tensor.\n",
            "WARNING:tensorboardX.x2num:NaN or Inf found in input tensor.\n",
            "WARNING:tensorboardX.x2num:NaN or Inf found in input tensor.\n"
          ]
        },
        {
          "output_type": "stream",
          "name": "stdout",
          "text": [
            "Epoch 62/86.. Train loss: nan.. Val loss: nan.. Train L1 norm: nan.. Val L1 norm: nan.. Train Linf norm: nan.. Val Linf norm: nan\n"
          ]
        },
        {
          "output_type": "stream",
          "name": "stderr",
          "text": [
            "WARNING:tensorboardX.x2num:NaN or Inf found in input tensor.\n",
            "WARNING:tensorboardX.x2num:NaN or Inf found in input tensor.\n",
            "WARNING:tensorboardX.x2num:NaN or Inf found in input tensor.\n",
            "WARNING:tensorboardX.x2num:NaN or Inf found in input tensor.\n",
            "WARNING:tensorboardX.x2num:NaN or Inf found in input tensor.\n",
            "WARNING:tensorboardX.x2num:NaN or Inf found in input tensor.\n"
          ]
        },
        {
          "output_type": "stream",
          "name": "stdout",
          "text": [
            "Epoch 63/86.. Train loss: nan.. Val loss: nan.. Train L1 norm: nan.. Val L1 norm: nan.. Train Linf norm: nan.. Val Linf norm: nan\n"
          ]
        },
        {
          "output_type": "stream",
          "name": "stderr",
          "text": [
            "WARNING:tensorboardX.x2num:NaN or Inf found in input tensor.\n",
            "WARNING:tensorboardX.x2num:NaN or Inf found in input tensor.\n",
            "WARNING:tensorboardX.x2num:NaN or Inf found in input tensor.\n",
            "WARNING:tensorboardX.x2num:NaN or Inf found in input tensor.\n",
            "WARNING:tensorboardX.x2num:NaN or Inf found in input tensor.\n",
            "WARNING:tensorboardX.x2num:NaN or Inf found in input tensor.\n"
          ]
        },
        {
          "output_type": "stream",
          "name": "stdout",
          "text": [
            "Epoch 64/86.. Train loss: nan.. Val loss: nan.. Train L1 norm: nan.. Val L1 norm: nan.. Train Linf norm: nan.. Val Linf norm: nan\n"
          ]
        },
        {
          "output_type": "stream",
          "name": "stderr",
          "text": [
            "WARNING:tensorboardX.x2num:NaN or Inf found in input tensor.\n",
            "WARNING:tensorboardX.x2num:NaN or Inf found in input tensor.\n",
            "WARNING:tensorboardX.x2num:NaN or Inf found in input tensor.\n",
            "WARNING:tensorboardX.x2num:NaN or Inf found in input tensor.\n",
            "WARNING:tensorboardX.x2num:NaN or Inf found in input tensor.\n",
            "WARNING:tensorboardX.x2num:NaN or Inf found in input tensor.\n"
          ]
        },
        {
          "output_type": "stream",
          "name": "stdout",
          "text": [
            "Epoch 65/86.. Train loss: nan.. Val loss: nan.. Train L1 norm: nan.. Val L1 norm: nan.. Train Linf norm: nan.. Val Linf norm: nan\n"
          ]
        },
        {
          "output_type": "stream",
          "name": "stderr",
          "text": [
            "WARNING:tensorboardX.x2num:NaN or Inf found in input tensor.\n",
            "WARNING:tensorboardX.x2num:NaN or Inf found in input tensor.\n",
            "WARNING:tensorboardX.x2num:NaN or Inf found in input tensor.\n",
            "WARNING:tensorboardX.x2num:NaN or Inf found in input tensor.\n",
            "WARNING:tensorboardX.x2num:NaN or Inf found in input tensor.\n",
            "WARNING:tensorboardX.x2num:NaN or Inf found in input tensor.\n"
          ]
        },
        {
          "output_type": "stream",
          "name": "stdout",
          "text": [
            "Epoch 66/86.. Train loss: nan.. Val loss: nan.. Train L1 norm: nan.. Val L1 norm: nan.. Train Linf norm: nan.. Val Linf norm: nan\n"
          ]
        },
        {
          "output_type": "stream",
          "name": "stderr",
          "text": [
            "WARNING:tensorboardX.x2num:NaN or Inf found in input tensor.\n",
            "WARNING:tensorboardX.x2num:NaN or Inf found in input tensor.\n",
            "WARNING:tensorboardX.x2num:NaN or Inf found in input tensor.\n",
            "WARNING:tensorboardX.x2num:NaN or Inf found in input tensor.\n",
            "WARNING:tensorboardX.x2num:NaN or Inf found in input tensor.\n",
            "WARNING:tensorboardX.x2num:NaN or Inf found in input tensor.\n"
          ]
        },
        {
          "output_type": "stream",
          "name": "stdout",
          "text": [
            "Epoch 67/86.. Train loss: nan.. Val loss: nan.. Train L1 norm: nan.. Val L1 norm: nan.. Train Linf norm: nan.. Val Linf norm: nan\n"
          ]
        },
        {
          "output_type": "stream",
          "name": "stderr",
          "text": [
            "WARNING:tensorboardX.x2num:NaN or Inf found in input tensor.\n",
            "WARNING:tensorboardX.x2num:NaN or Inf found in input tensor.\n",
            "WARNING:tensorboardX.x2num:NaN or Inf found in input tensor.\n",
            "WARNING:tensorboardX.x2num:NaN or Inf found in input tensor.\n",
            "WARNING:tensorboardX.x2num:NaN or Inf found in input tensor.\n",
            "WARNING:tensorboardX.x2num:NaN or Inf found in input tensor.\n"
          ]
        },
        {
          "output_type": "stream",
          "name": "stdout",
          "text": [
            "Epoch 68/86.. Train loss: nan.. Val loss: nan.. Train L1 norm: nan.. Val L1 norm: nan.. Train Linf norm: nan.. Val Linf norm: nan\n"
          ]
        },
        {
          "output_type": "stream",
          "name": "stderr",
          "text": [
            "WARNING:tensorboardX.x2num:NaN or Inf found in input tensor.\n",
            "WARNING:tensorboardX.x2num:NaN or Inf found in input tensor.\n",
            "WARNING:tensorboardX.x2num:NaN or Inf found in input tensor.\n",
            "WARNING:tensorboardX.x2num:NaN or Inf found in input tensor.\n",
            "WARNING:tensorboardX.x2num:NaN or Inf found in input tensor.\n",
            "WARNING:tensorboardX.x2num:NaN or Inf found in input tensor.\n"
          ]
        },
        {
          "output_type": "stream",
          "name": "stdout",
          "text": [
            "Epoch 69/86.. Train loss: nan.. Val loss: nan.. Train L1 norm: nan.. Val L1 norm: nan.. Train Linf norm: nan.. Val Linf norm: nan\n"
          ]
        },
        {
          "output_type": "stream",
          "name": "stderr",
          "text": [
            "WARNING:tensorboardX.x2num:NaN or Inf found in input tensor.\n",
            "WARNING:tensorboardX.x2num:NaN or Inf found in input tensor.\n",
            "WARNING:tensorboardX.x2num:NaN or Inf found in input tensor.\n",
            "WARNING:tensorboardX.x2num:NaN or Inf found in input tensor.\n",
            "WARNING:tensorboardX.x2num:NaN or Inf found in input tensor.\n",
            "WARNING:tensorboardX.x2num:NaN or Inf found in input tensor.\n"
          ]
        },
        {
          "output_type": "stream",
          "name": "stdout",
          "text": [
            "Epoch 70/86.. Train loss: nan.. Val loss: nan.. Train L1 norm: nan.. Val L1 norm: nan.. Train Linf norm: nan.. Val Linf norm: nan\n"
          ]
        },
        {
          "output_type": "stream",
          "name": "stderr",
          "text": [
            "WARNING:tensorboardX.x2num:NaN or Inf found in input tensor.\n",
            "WARNING:tensorboardX.x2num:NaN or Inf found in input tensor.\n",
            "WARNING:tensorboardX.x2num:NaN or Inf found in input tensor.\n",
            "WARNING:tensorboardX.x2num:NaN or Inf found in input tensor.\n",
            "WARNING:tensorboardX.x2num:NaN or Inf found in input tensor.\n",
            "WARNING:tensorboardX.x2num:NaN or Inf found in input tensor.\n"
          ]
        },
        {
          "output_type": "stream",
          "name": "stdout",
          "text": [
            "Epoch 71/86.. Train loss: nan.. Val loss: nan.. Train L1 norm: nan.. Val L1 norm: nan.. Train Linf norm: nan.. Val Linf norm: nan\n"
          ]
        },
        {
          "output_type": "stream",
          "name": "stderr",
          "text": [
            "WARNING:tensorboardX.x2num:NaN or Inf found in input tensor.\n",
            "WARNING:tensorboardX.x2num:NaN or Inf found in input tensor.\n",
            "WARNING:tensorboardX.x2num:NaN or Inf found in input tensor.\n",
            "WARNING:tensorboardX.x2num:NaN or Inf found in input tensor.\n",
            "WARNING:tensorboardX.x2num:NaN or Inf found in input tensor.\n",
            "WARNING:tensorboardX.x2num:NaN or Inf found in input tensor.\n"
          ]
        },
        {
          "output_type": "stream",
          "name": "stdout",
          "text": [
            "Epoch 72/86.. Train loss: nan.. Val loss: nan.. Train L1 norm: nan.. Val L1 norm: nan.. Train Linf norm: nan.. Val Linf norm: nan\n"
          ]
        },
        {
          "output_type": "stream",
          "name": "stderr",
          "text": [
            "WARNING:tensorboardX.x2num:NaN or Inf found in input tensor.\n",
            "WARNING:tensorboardX.x2num:NaN or Inf found in input tensor.\n",
            "WARNING:tensorboardX.x2num:NaN or Inf found in input tensor.\n",
            "WARNING:tensorboardX.x2num:NaN or Inf found in input tensor.\n",
            "WARNING:tensorboardX.x2num:NaN or Inf found in input tensor.\n",
            "WARNING:tensorboardX.x2num:NaN or Inf found in input tensor.\n"
          ]
        },
        {
          "output_type": "stream",
          "name": "stdout",
          "text": [
            "Epoch 73/86.. Train loss: nan.. Val loss: nan.. Train L1 norm: nan.. Val L1 norm: nan.. Train Linf norm: nan.. Val Linf norm: nan\n"
          ]
        },
        {
          "output_type": "stream",
          "name": "stderr",
          "text": [
            "WARNING:tensorboardX.x2num:NaN or Inf found in input tensor.\n",
            "WARNING:tensorboardX.x2num:NaN or Inf found in input tensor.\n",
            "WARNING:tensorboardX.x2num:NaN or Inf found in input tensor.\n",
            "WARNING:tensorboardX.x2num:NaN or Inf found in input tensor.\n",
            "WARNING:tensorboardX.x2num:NaN or Inf found in input tensor.\n",
            "WARNING:tensorboardX.x2num:NaN or Inf found in input tensor.\n"
          ]
        },
        {
          "output_type": "stream",
          "name": "stdout",
          "text": [
            "Epoch 74/86.. Train loss: nan.. Val loss: nan.. Train L1 norm: nan.. Val L1 norm: nan.. Train Linf norm: nan.. Val Linf norm: nan\n"
          ]
        },
        {
          "output_type": "stream",
          "name": "stderr",
          "text": [
            "WARNING:tensorboardX.x2num:NaN or Inf found in input tensor.\n",
            "WARNING:tensorboardX.x2num:NaN or Inf found in input tensor.\n",
            "WARNING:tensorboardX.x2num:NaN or Inf found in input tensor.\n",
            "WARNING:tensorboardX.x2num:NaN or Inf found in input tensor.\n",
            "WARNING:tensorboardX.x2num:NaN or Inf found in input tensor.\n",
            "WARNING:tensorboardX.x2num:NaN or Inf found in input tensor.\n"
          ]
        },
        {
          "output_type": "stream",
          "name": "stdout",
          "text": [
            "Epoch 75/86.. Train loss: nan.. Val loss: nan.. Train L1 norm: nan.. Val L1 norm: nan.. Train Linf norm: nan.. Val Linf norm: nan\n"
          ]
        },
        {
          "output_type": "stream",
          "name": "stderr",
          "text": [
            "WARNING:tensorboardX.x2num:NaN or Inf found in input tensor.\n",
            "WARNING:tensorboardX.x2num:NaN or Inf found in input tensor.\n",
            "WARNING:tensorboardX.x2num:NaN or Inf found in input tensor.\n",
            "WARNING:tensorboardX.x2num:NaN or Inf found in input tensor.\n",
            "WARNING:tensorboardX.x2num:NaN or Inf found in input tensor.\n",
            "WARNING:tensorboardX.x2num:NaN or Inf found in input tensor.\n"
          ]
        },
        {
          "output_type": "stream",
          "name": "stdout",
          "text": [
            "Epoch 76/86.. Train loss: nan.. Val loss: nan.. Train L1 norm: nan.. Val L1 norm: nan.. Train Linf norm: nan.. Val Linf norm: nan\n"
          ]
        },
        {
          "output_type": "stream",
          "name": "stderr",
          "text": [
            "WARNING:tensorboardX.x2num:NaN or Inf found in input tensor.\n",
            "WARNING:tensorboardX.x2num:NaN or Inf found in input tensor.\n",
            "WARNING:tensorboardX.x2num:NaN or Inf found in input tensor.\n",
            "WARNING:tensorboardX.x2num:NaN or Inf found in input tensor.\n",
            "WARNING:tensorboardX.x2num:NaN or Inf found in input tensor.\n",
            "WARNING:tensorboardX.x2num:NaN or Inf found in input tensor.\n"
          ]
        },
        {
          "output_type": "stream",
          "name": "stdout",
          "text": [
            "Epoch 77/86.. Train loss: nan.. Val loss: nan.. Train L1 norm: nan.. Val L1 norm: nan.. Train Linf norm: nan.. Val Linf norm: nan\n"
          ]
        },
        {
          "output_type": "stream",
          "name": "stderr",
          "text": [
            "WARNING:tensorboardX.x2num:NaN or Inf found in input tensor.\n",
            "WARNING:tensorboardX.x2num:NaN or Inf found in input tensor.\n",
            "WARNING:tensorboardX.x2num:NaN or Inf found in input tensor.\n",
            "WARNING:tensorboardX.x2num:NaN or Inf found in input tensor.\n",
            "WARNING:tensorboardX.x2num:NaN or Inf found in input tensor.\n",
            "WARNING:tensorboardX.x2num:NaN or Inf found in input tensor.\n"
          ]
        },
        {
          "output_type": "stream",
          "name": "stdout",
          "text": [
            "Epoch 78/86.. Train loss: nan.. Val loss: nan.. Train L1 norm: nan.. Val L1 norm: nan.. Train Linf norm: nan.. Val Linf norm: nan\n"
          ]
        },
        {
          "output_type": "stream",
          "name": "stderr",
          "text": [
            "WARNING:tensorboardX.x2num:NaN or Inf found in input tensor.\n",
            "WARNING:tensorboardX.x2num:NaN or Inf found in input tensor.\n",
            "WARNING:tensorboardX.x2num:NaN or Inf found in input tensor.\n",
            "WARNING:tensorboardX.x2num:NaN or Inf found in input tensor.\n",
            "WARNING:tensorboardX.x2num:NaN or Inf found in input tensor.\n",
            "WARNING:tensorboardX.x2num:NaN or Inf found in input tensor.\n"
          ]
        },
        {
          "output_type": "stream",
          "name": "stdout",
          "text": [
            "Epoch 79/86.. Train loss: nan.. Val loss: nan.. Train L1 norm: nan.. Val L1 norm: nan.. Train Linf norm: nan.. Val Linf norm: nan\n"
          ]
        },
        {
          "output_type": "stream",
          "name": "stderr",
          "text": [
            "WARNING:tensorboardX.x2num:NaN or Inf found in input tensor.\n",
            "WARNING:tensorboardX.x2num:NaN or Inf found in input tensor.\n",
            "WARNING:tensorboardX.x2num:NaN or Inf found in input tensor.\n",
            "WARNING:tensorboardX.x2num:NaN or Inf found in input tensor.\n",
            "WARNING:tensorboardX.x2num:NaN or Inf found in input tensor.\n",
            "WARNING:tensorboardX.x2num:NaN or Inf found in input tensor.\n"
          ]
        },
        {
          "output_type": "stream",
          "name": "stdout",
          "text": [
            "Epoch 80/86.. Train loss: nan.. Val loss: nan.. Train L1 norm: nan.. Val L1 norm: nan.. Train Linf norm: nan.. Val Linf norm: nan\n"
          ]
        },
        {
          "output_type": "stream",
          "name": "stderr",
          "text": [
            "WARNING:tensorboardX.x2num:NaN or Inf found in input tensor.\n",
            "WARNING:tensorboardX.x2num:NaN or Inf found in input tensor.\n",
            "WARNING:tensorboardX.x2num:NaN or Inf found in input tensor.\n",
            "WARNING:tensorboardX.x2num:NaN or Inf found in input tensor.\n",
            "WARNING:tensorboardX.x2num:NaN or Inf found in input tensor.\n",
            "WARNING:tensorboardX.x2num:NaN or Inf found in input tensor.\n"
          ]
        },
        {
          "output_type": "stream",
          "name": "stdout",
          "text": [
            "Epoch 81/86.. Train loss: nan.. Val loss: nan.. Train L1 norm: nan.. Val L1 norm: nan.. Train Linf norm: nan.. Val Linf norm: nan\n"
          ]
        },
        {
          "output_type": "stream",
          "name": "stderr",
          "text": [
            "WARNING:tensorboardX.x2num:NaN or Inf found in input tensor.\n",
            "WARNING:tensorboardX.x2num:NaN or Inf found in input tensor.\n",
            "WARNING:tensorboardX.x2num:NaN or Inf found in input tensor.\n",
            "WARNING:tensorboardX.x2num:NaN or Inf found in input tensor.\n",
            "WARNING:tensorboardX.x2num:NaN or Inf found in input tensor.\n",
            "WARNING:tensorboardX.x2num:NaN or Inf found in input tensor.\n"
          ]
        },
        {
          "output_type": "stream",
          "name": "stdout",
          "text": [
            "Epoch 82/86.. Train loss: nan.. Val loss: nan.. Train L1 norm: nan.. Val L1 norm: nan.. Train Linf norm: nan.. Val Linf norm: nan\n"
          ]
        },
        {
          "output_type": "stream",
          "name": "stderr",
          "text": [
            "WARNING:tensorboardX.x2num:NaN or Inf found in input tensor.\n",
            "WARNING:tensorboardX.x2num:NaN or Inf found in input tensor.\n",
            "WARNING:tensorboardX.x2num:NaN or Inf found in input tensor.\n",
            "WARNING:tensorboardX.x2num:NaN or Inf found in input tensor.\n",
            "WARNING:tensorboardX.x2num:NaN or Inf found in input tensor.\n",
            "WARNING:tensorboardX.x2num:NaN or Inf found in input tensor.\n"
          ]
        },
        {
          "output_type": "stream",
          "name": "stdout",
          "text": [
            "Epoch 83/86.. Train loss: nan.. Val loss: nan.. Train L1 norm: nan.. Val L1 norm: nan.. Train Linf norm: nan.. Val Linf norm: nan\n"
          ]
        },
        {
          "output_type": "stream",
          "name": "stderr",
          "text": [
            "WARNING:tensorboardX.x2num:NaN or Inf found in input tensor.\n",
            "WARNING:tensorboardX.x2num:NaN or Inf found in input tensor.\n",
            "WARNING:tensorboardX.x2num:NaN or Inf found in input tensor.\n",
            "WARNING:tensorboardX.x2num:NaN or Inf found in input tensor.\n",
            "WARNING:tensorboardX.x2num:NaN or Inf found in input tensor.\n",
            "WARNING:tensorboardX.x2num:NaN or Inf found in input tensor.\n"
          ]
        },
        {
          "output_type": "stream",
          "name": "stdout",
          "text": [
            "Epoch 84/86.. Train loss: nan.. Val loss: nan.. Train L1 norm: nan.. Val L1 norm: nan.. Train Linf norm: nan.. Val Linf norm: nan\n"
          ]
        },
        {
          "output_type": "stream",
          "name": "stderr",
          "text": [
            "WARNING:tensorboardX.x2num:NaN or Inf found in input tensor.\n",
            "WARNING:tensorboardX.x2num:NaN or Inf found in input tensor.\n",
            "WARNING:tensorboardX.x2num:NaN or Inf found in input tensor.\n",
            "WARNING:tensorboardX.x2num:NaN or Inf found in input tensor.\n",
            "WARNING:tensorboardX.x2num:NaN or Inf found in input tensor.\n",
            "WARNING:tensorboardX.x2num:NaN or Inf found in input tensor.\n"
          ]
        },
        {
          "output_type": "stream",
          "name": "stdout",
          "text": [
            "Epoch 85/86.. Train loss: nan.. Val loss: nan.. Train L1 norm: nan.. Val L1 norm: nan.. Train Linf norm: nan.. Val Linf norm: nan\n"
          ]
        },
        {
          "output_type": "stream",
          "name": "stderr",
          "text": [
            "WARNING:tensorboardX.x2num:NaN or Inf found in input tensor.\n",
            "WARNING:tensorboardX.x2num:NaN or Inf found in input tensor.\n",
            "WARNING:tensorboardX.x2num:NaN or Inf found in input tensor.\n",
            "WARNING:tensorboardX.x2num:NaN or Inf found in input tensor.\n",
            "WARNING:tensorboardX.x2num:NaN or Inf found in input tensor.\n",
            "WARNING:tensorboardX.x2num:NaN or Inf found in input tensor.\n",
            "[W 2023-06-03 09:59:20,247] Trial 1 failed with parameters: {'n_layers': 3, 'n_units_0': 2934, 'n_units_1': 2390, 'n_units_2': 3031, 'hidden_activation': 'SoftPlus', 'output_activation': 'Linear', 'loss': 'MAE', 'optimizer': 'SGD', 'lr': 0.07617926153693781, 'batch_size': 2048, 'n_epochs': 86, 'scheduler': 'StepLR', 'softplus_beta': 0.673263841843458, 'dropout_rate': 0.2319228570964802, 'weight_decay': 0.003105998667684296, 'momentum': 0.800386578548262, 'step_size': 14, 'gamma': 0.407765613970518} because of the following error: The value nan is not acceptable..\n",
            "[W 2023-06-03 09:59:20,249] Trial 1 failed with value nan.\n"
          ]
        },
        {
          "output_type": "stream",
          "name": "stdout",
          "text": [
            "Epoch 86/86.. Train loss: nan.. Val loss: nan.. Train L1 norm: nan.. Val L1 norm: nan.. Train Linf norm: nan.. Val Linf norm: nan\n"
          ]
        },
        {
          "output_type": "display_data",
          "data": {
            "text/html": [
              "<html>\n",
              "<head><meta charset=\"utf-8\" /></head>\n",
              "<body>\n",
              "    <div>            <script src=\"https://cdnjs.cloudflare.com/ajax/libs/mathjax/2.7.5/MathJax.js?config=TeX-AMS-MML_SVG\"></script><script type=\"text/javascript\">if (window.MathJax && window.MathJax.Hub && window.MathJax.Hub.Config) {window.MathJax.Hub.Config({SVG: {font: \"STIX-Web\"}});}</script>                <script type=\"text/javascript\">window.PlotlyConfig = {MathJaxConfig: 'local'};</script>\n",
              "        <script src=\"https://cdn.plot.ly/plotly-2.18.2.min.js\"></script>                <div id=\"3d3504f0-b4b9-479c-806e-82f829d1e7ff\" class=\"plotly-graph-div\" style=\"height:525px; width:100%;\"></div>            <script type=\"text/javascript\">                                    window.PLOTLYENV=window.PLOTLYENV || {};                                    if (document.getElementById(\"3d3504f0-b4b9-479c-806e-82f829d1e7ff\")) {                    Plotly.newPlot(                        \"3d3504f0-b4b9-479c-806e-82f829d1e7ff\",                        [{\"mode\":\"markers\",\"name\":\"Objective Value\",\"x\":[0],\"y\":[3.1759881306966147],\"type\":\"scatter\"},{\"name\":\"Best Value\",\"x\":[0],\"y\":[3.1759881306966147],\"type\":\"scatter\"}],                        {\"title\":{\"text\":\"Optimization History Plot\"},\"xaxis\":{\"title\":{\"text\":\"Trial\"}},\"yaxis\":{\"title\":{\"text\":\"Objective Value\"}},\"template\":{\"data\":{\"histogram2dcontour\":[{\"type\":\"histogram2dcontour\",\"colorbar\":{\"outlinewidth\":0,\"ticks\":\"\"},\"colorscale\":[[0.0,\"#0d0887\"],[0.1111111111111111,\"#46039f\"],[0.2222222222222222,\"#7201a8\"],[0.3333333333333333,\"#9c179e\"],[0.4444444444444444,\"#bd3786\"],[0.5555555555555556,\"#d8576b\"],[0.6666666666666666,\"#ed7953\"],[0.7777777777777778,\"#fb9f3a\"],[0.8888888888888888,\"#fdca26\"],[1.0,\"#f0f921\"]]}],\"choropleth\":[{\"type\":\"choropleth\",\"colorbar\":{\"outlinewidth\":0,\"ticks\":\"\"}}],\"histogram2d\":[{\"type\":\"histogram2d\",\"colorbar\":{\"outlinewidth\":0,\"ticks\":\"\"},\"colorscale\":[[0.0,\"#0d0887\"],[0.1111111111111111,\"#46039f\"],[0.2222222222222222,\"#7201a8\"],[0.3333333333333333,\"#9c179e\"],[0.4444444444444444,\"#bd3786\"],[0.5555555555555556,\"#d8576b\"],[0.6666666666666666,\"#ed7953\"],[0.7777777777777778,\"#fb9f3a\"],[0.8888888888888888,\"#fdca26\"],[1.0,\"#f0f921\"]]}],\"heatmap\":[{\"type\":\"heatmap\",\"colorbar\":{\"outlinewidth\":0,\"ticks\":\"\"},\"colorscale\":[[0.0,\"#0d0887\"],[0.1111111111111111,\"#46039f\"],[0.2222222222222222,\"#7201a8\"],[0.3333333333333333,\"#9c179e\"],[0.4444444444444444,\"#bd3786\"],[0.5555555555555556,\"#d8576b\"],[0.6666666666666666,\"#ed7953\"],[0.7777777777777778,\"#fb9f3a\"],[0.8888888888888888,\"#fdca26\"],[1.0,\"#f0f921\"]]}],\"heatmapgl\":[{\"type\":\"heatmapgl\",\"colorbar\":{\"outlinewidth\":0,\"ticks\":\"\"},\"colorscale\":[[0.0,\"#0d0887\"],[0.1111111111111111,\"#46039f\"],[0.2222222222222222,\"#7201a8\"],[0.3333333333333333,\"#9c179e\"],[0.4444444444444444,\"#bd3786\"],[0.5555555555555556,\"#d8576b\"],[0.6666666666666666,\"#ed7953\"],[0.7777777777777778,\"#fb9f3a\"],[0.8888888888888888,\"#fdca26\"],[1.0,\"#f0f921\"]]}],\"contourcarpet\":[{\"type\":\"contourcarpet\",\"colorbar\":{\"outlinewidth\":0,\"ticks\":\"\"}}],\"contour\":[{\"type\":\"contour\",\"colorbar\":{\"outlinewidth\":0,\"ticks\":\"\"},\"colorscale\":[[0.0,\"#0d0887\"],[0.1111111111111111,\"#46039f\"],[0.2222222222222222,\"#7201a8\"],[0.3333333333333333,\"#9c179e\"],[0.4444444444444444,\"#bd3786\"],[0.5555555555555556,\"#d8576b\"],[0.6666666666666666,\"#ed7953\"],[0.7777777777777778,\"#fb9f3a\"],[0.8888888888888888,\"#fdca26\"],[1.0,\"#f0f921\"]]}],\"surface\":[{\"type\":\"surface\",\"colorbar\":{\"outlinewidth\":0,\"ticks\":\"\"},\"colorscale\":[[0.0,\"#0d0887\"],[0.1111111111111111,\"#46039f\"],[0.2222222222222222,\"#7201a8\"],[0.3333333333333333,\"#9c179e\"],[0.4444444444444444,\"#bd3786\"],[0.5555555555555556,\"#d8576b\"],[0.6666666666666666,\"#ed7953\"],[0.7777777777777778,\"#fb9f3a\"],[0.8888888888888888,\"#fdca26\"],[1.0,\"#f0f921\"]]}],\"mesh3d\":[{\"type\":\"mesh3d\",\"colorbar\":{\"outlinewidth\":0,\"ticks\":\"\"}}],\"scatter\":[{\"fillpattern\":{\"fillmode\":\"overlay\",\"size\":10,\"solidity\":0.2},\"type\":\"scatter\"}],\"parcoords\":[{\"type\":\"parcoords\",\"line\":{\"colorbar\":{\"outlinewidth\":0,\"ticks\":\"\"}}}],\"scatterpolargl\":[{\"type\":\"scatterpolargl\",\"marker\":{\"colorbar\":{\"outlinewidth\":0,\"ticks\":\"\"}}}],\"bar\":[{\"error_x\":{\"color\":\"#2a3f5f\"},\"error_y\":{\"color\":\"#2a3f5f\"},\"marker\":{\"line\":{\"color\":\"#E5ECF6\",\"width\":0.5},\"pattern\":{\"fillmode\":\"overlay\",\"size\":10,\"solidity\":0.2}},\"type\":\"bar\"}],\"scattergeo\":[{\"type\":\"scattergeo\",\"marker\":{\"colorbar\":{\"outlinewidth\":0,\"ticks\":\"\"}}}],\"scatterpolar\":[{\"type\":\"scatterpolar\",\"marker\":{\"colorbar\":{\"outlinewidth\":0,\"ticks\":\"\"}}}],\"histogram\":[{\"marker\":{\"pattern\":{\"fillmode\":\"overlay\",\"size\":10,\"solidity\":0.2}},\"type\":\"histogram\"}],\"scattergl\":[{\"type\":\"scattergl\",\"marker\":{\"colorbar\":{\"outlinewidth\":0,\"ticks\":\"\"}}}],\"scatter3d\":[{\"type\":\"scatter3d\",\"line\":{\"colorbar\":{\"outlinewidth\":0,\"ticks\":\"\"}},\"marker\":{\"colorbar\":{\"outlinewidth\":0,\"ticks\":\"\"}}}],\"scattermapbox\":[{\"type\":\"scattermapbox\",\"marker\":{\"colorbar\":{\"outlinewidth\":0,\"ticks\":\"\"}}}],\"scatterternary\":[{\"type\":\"scatterternary\",\"marker\":{\"colorbar\":{\"outlinewidth\":0,\"ticks\":\"\"}}}],\"scattercarpet\":[{\"type\":\"scattercarpet\",\"marker\":{\"colorbar\":{\"outlinewidth\":0,\"ticks\":\"\"}}}],\"carpet\":[{\"aaxis\":{\"endlinecolor\":\"#2a3f5f\",\"gridcolor\":\"white\",\"linecolor\":\"white\",\"minorgridcolor\":\"white\",\"startlinecolor\":\"#2a3f5f\"},\"baxis\":{\"endlinecolor\":\"#2a3f5f\",\"gridcolor\":\"white\",\"linecolor\":\"white\",\"minorgridcolor\":\"white\",\"startlinecolor\":\"#2a3f5f\"},\"type\":\"carpet\"}],\"table\":[{\"cells\":{\"fill\":{\"color\":\"#EBF0F8\"},\"line\":{\"color\":\"white\"}},\"header\":{\"fill\":{\"color\":\"#C8D4E3\"},\"line\":{\"color\":\"white\"}},\"type\":\"table\"}],\"barpolar\":[{\"marker\":{\"line\":{\"color\":\"#E5ECF6\",\"width\":0.5},\"pattern\":{\"fillmode\":\"overlay\",\"size\":10,\"solidity\":0.2}},\"type\":\"barpolar\"}],\"pie\":[{\"automargin\":true,\"type\":\"pie\"}]},\"layout\":{\"autotypenumbers\":\"strict\",\"colorway\":[\"#636efa\",\"#EF553B\",\"#00cc96\",\"#ab63fa\",\"#FFA15A\",\"#19d3f3\",\"#FF6692\",\"#B6E880\",\"#FF97FF\",\"#FECB52\"],\"font\":{\"color\":\"#2a3f5f\"},\"hovermode\":\"closest\",\"hoverlabel\":{\"align\":\"left\"},\"paper_bgcolor\":\"white\",\"plot_bgcolor\":\"#E5ECF6\",\"polar\":{\"bgcolor\":\"#E5ECF6\",\"angularaxis\":{\"gridcolor\":\"white\",\"linecolor\":\"white\",\"ticks\":\"\"},\"radialaxis\":{\"gridcolor\":\"white\",\"linecolor\":\"white\",\"ticks\":\"\"}},\"ternary\":{\"bgcolor\":\"#E5ECF6\",\"aaxis\":{\"gridcolor\":\"white\",\"linecolor\":\"white\",\"ticks\":\"\"},\"baxis\":{\"gridcolor\":\"white\",\"linecolor\":\"white\",\"ticks\":\"\"},\"caxis\":{\"gridcolor\":\"white\",\"linecolor\":\"white\",\"ticks\":\"\"}},\"coloraxis\":{\"colorbar\":{\"outlinewidth\":0,\"ticks\":\"\"}},\"colorscale\":{\"sequential\":[[0.0,\"#0d0887\"],[0.1111111111111111,\"#46039f\"],[0.2222222222222222,\"#7201a8\"],[0.3333333333333333,\"#9c179e\"],[0.4444444444444444,\"#bd3786\"],[0.5555555555555556,\"#d8576b\"],[0.6666666666666666,\"#ed7953\"],[0.7777777777777778,\"#fb9f3a\"],[0.8888888888888888,\"#fdca26\"],[1.0,\"#f0f921\"]],\"sequentialminus\":[[0.0,\"#0d0887\"],[0.1111111111111111,\"#46039f\"],[0.2222222222222222,\"#7201a8\"],[0.3333333333333333,\"#9c179e\"],[0.4444444444444444,\"#bd3786\"],[0.5555555555555556,\"#d8576b\"],[0.6666666666666666,\"#ed7953\"],[0.7777777777777778,\"#fb9f3a\"],[0.8888888888888888,\"#fdca26\"],[1.0,\"#f0f921\"]],\"diverging\":[[0,\"#8e0152\"],[0.1,\"#c51b7d\"],[0.2,\"#de77ae\"],[0.3,\"#f1b6da\"],[0.4,\"#fde0ef\"],[0.5,\"#f7f7f7\"],[0.6,\"#e6f5d0\"],[0.7,\"#b8e186\"],[0.8,\"#7fbc41\"],[0.9,\"#4d9221\"],[1,\"#276419\"]]},\"xaxis\":{\"gridcolor\":\"white\",\"linecolor\":\"white\",\"ticks\":\"\",\"title\":{\"standoff\":15},\"zerolinecolor\":\"white\",\"automargin\":true,\"zerolinewidth\":2},\"yaxis\":{\"gridcolor\":\"white\",\"linecolor\":\"white\",\"ticks\":\"\",\"title\":{\"standoff\":15},\"zerolinecolor\":\"white\",\"automargin\":true,\"zerolinewidth\":2},\"scene\":{\"xaxis\":{\"backgroundcolor\":\"#E5ECF6\",\"gridcolor\":\"white\",\"linecolor\":\"white\",\"showbackground\":true,\"ticks\":\"\",\"zerolinecolor\":\"white\",\"gridwidth\":2},\"yaxis\":{\"backgroundcolor\":\"#E5ECF6\",\"gridcolor\":\"white\",\"linecolor\":\"white\",\"showbackground\":true,\"ticks\":\"\",\"zerolinecolor\":\"white\",\"gridwidth\":2},\"zaxis\":{\"backgroundcolor\":\"#E5ECF6\",\"gridcolor\":\"white\",\"linecolor\":\"white\",\"showbackground\":true,\"ticks\":\"\",\"zerolinecolor\":\"white\",\"gridwidth\":2}},\"shapedefaults\":{\"line\":{\"color\":\"#2a3f5f\"}},\"annotationdefaults\":{\"arrowcolor\":\"#2a3f5f\",\"arrowhead\":0,\"arrowwidth\":1},\"geo\":{\"bgcolor\":\"white\",\"landcolor\":\"#E5ECF6\",\"subunitcolor\":\"white\",\"showland\":true,\"showlakes\":true,\"lakecolor\":\"white\"},\"title\":{\"x\":0.05},\"mapbox\":{\"style\":\"light\"}}}},                        {\"responsive\": true}                    ).then(function(){\n",
              "                            \n",
              "var gd = document.getElementById('3d3504f0-b4b9-479c-806e-82f829d1e7ff');\n",
              "var x = new MutationObserver(function (mutations, observer) {{\n",
              "        var display = window.getComputedStyle(gd).display;\n",
              "        if (!display || display === 'none') {{\n",
              "            console.log([gd, 'removed!']);\n",
              "            Plotly.purge(gd);\n",
              "            observer.disconnect();\n",
              "        }}\n",
              "}});\n",
              "\n",
              "// Listen for the removal of the full notebook cells\n",
              "var notebookContainer = gd.closest('#notebook-container');\n",
              "if (notebookContainer) {{\n",
              "    x.observe(notebookContainer, {childList: true});\n",
              "}}\n",
              "\n",
              "// Listen for the clearing of the current output cell\n",
              "var outputEl = gd.closest('.output');\n",
              "if (outputEl) {{\n",
              "    x.observe(outputEl, {childList: true});\n",
              "}}\n",
              "\n",
              "                        })                };                            </script>        </div>\n",
              "</body>\n",
              "</html>"
            ]
          },
          "metadata": {}
        },
        {
          "output_type": "stream",
          "name": "stdout",
          "text": [
            "Epoch 1/52.. Train loss: 4.555.. Val loss: 4.653.. Train L1 norm: 1.054.. Val L1 norm: 1.027.. Train Linf norm: 8.345.. Val Linf norm: 5.068\n",
            "Epoch 2/52.. Train loss: 4.538.. Val loss: 4.640.. Train L1 norm: 1.085.. Val L1 norm: 1.042.. Train Linf norm: 11.807.. Val Linf norm: 6.914\n",
            "Epoch 3/52.. Train loss: 4.521.. Val loss: 4.628.. Train L1 norm: 1.122.. Val L1 norm: 1.059.. Train Linf norm: 16.333.. Val Linf norm: 8.839\n",
            "Epoch 4/52.. Train loss: 4.504.. Val loss: 4.616.. Train L1 norm: 1.171.. Val L1 norm: 1.077.. Train Linf norm: 21.867.. Val Linf norm: 10.844\n",
            "Epoch 5/52.. Train loss: 4.486.. Val loss: 4.604.. Train L1 norm: 1.206.. Val L1 norm: 1.097.. Train Linf norm: 26.088.. Val Linf norm: 12.956\n",
            "Epoch 6/52.. Train loss: 4.474.. Val loss: 4.600.. Train L1 norm: 1.243.. Val L1 norm: 1.104.. Train Linf norm: 29.483.. Val Linf norm: 13.675\n",
            "Epoch 7/52.. Train loss: 4.466.. Val loss: 4.596.. Train L1 norm: 1.254.. Val L1 norm: 1.111.. Train Linf norm: 30.860.. Val Linf norm: 14.413\n",
            "Epoch 8/52.. Train loss: 4.459.. Val loss: 4.591.. Train L1 norm: 1.272.. Val L1 norm: 1.119.. Train Linf norm: 32.780.. Val Linf norm: 15.186\n",
            "Epoch 9/52.. Train loss: 4.454.. Val loss: 4.587.. Train L1 norm: 1.287.. Val L1 norm: 1.127.. Train Linf norm: 34.177.. Val Linf norm: 15.978\n",
            "Epoch 10/52.. Train loss: 4.445.. Val loss: 4.583.. Train L1 norm: 1.308.. Val L1 norm: 1.135.. Train Linf norm: 36.881.. Val Linf norm: 16.813\n",
            "Epoch 11/52.. Train loss: 4.440.. Val loss: 4.582.. Train L1 norm: 1.323.. Val L1 norm: 1.138.. Train Linf norm: 38.382.. Val Linf norm: 17.089\n",
            "Epoch 12/52.. Train loss: 4.436.. Val loss: 4.580.. Train L1 norm: 1.317.. Val L1 norm: 1.141.. Train Linf norm: 37.348.. Val Linf norm: 17.373\n",
            "Epoch 13/52.. Train loss: 4.436.. Val loss: 4.579.. Train L1 norm: 1.337.. Val L1 norm: 1.144.. Train Linf norm: 40.119.. Val Linf norm: 17.659\n",
            "Epoch 14/52.. Train loss: 4.433.. Val loss: 4.578.. Train L1 norm: 1.341.. Val L1 norm: 1.147.. Train Linf norm: 40.148.. Val Linf norm: 17.953\n",
            "Epoch 15/52.. Train loss: 4.432.. Val loss: 4.576.. Train L1 norm: 1.356.. Val L1 norm: 1.150.. Train Linf norm: 42.491.. Val Linf norm: 18.246\n",
            "Epoch 16/52.. Train loss: 4.426.. Val loss: 4.576.. Train L1 norm: 1.348.. Val L1 norm: 1.151.. Train Linf norm: 39.669.. Val Linf norm: 18.344\n",
            "Epoch 17/52.. Train loss: 4.428.. Val loss: 4.575.. Train L1 norm: 1.360.. Val L1 norm: 1.151.. Train Linf norm: 42.406.. Val Linf norm: 18.439\n",
            "Epoch 18/52.. Train loss: 4.425.. Val loss: 4.575.. Train L1 norm: 1.350.. Val L1 norm: 1.152.. Train Linf norm: 41.513.. Val Linf norm: 18.536\n",
            "Epoch 19/52.. Train loss: 4.427.. Val loss: 4.574.. Train L1 norm: 1.354.. Val L1 norm: 1.153.. Train Linf norm: 41.427.. Val Linf norm: 18.632\n",
            "Epoch 20/52.. Train loss: 4.425.. Val loss: 4.574.. Train L1 norm: 1.362.. Val L1 norm: 1.154.. Train Linf norm: 42.321.. Val Linf norm: 18.730\n",
            "Epoch 21/52.. Train loss: 4.424.. Val loss: 4.574.. Train L1 norm: 1.363.. Val L1 norm: 1.155.. Train Linf norm: 43.196.. Val Linf norm: 18.758\n",
            "Epoch 22/52.. Train loss: 4.424.. Val loss: 4.574.. Train L1 norm: 1.353.. Val L1 norm: 1.155.. Train Linf norm: 41.871.. Val Linf norm: 18.787\n",
            "Epoch 23/52.. Train loss: 4.425.. Val loss: 4.573.. Train L1 norm: 1.363.. Val L1 norm: 1.155.. Train Linf norm: 42.702.. Val Linf norm: 18.816\n",
            "Epoch 24/52.. Train loss: 4.423.. Val loss: 4.573.. Train L1 norm: 1.361.. Val L1 norm: 1.156.. Train Linf norm: 42.523.. Val Linf norm: 18.845\n",
            "Epoch 25/52.. Train loss: 4.424.. Val loss: 4.573.. Train L1 norm: 1.363.. Val L1 norm: 1.156.. Train Linf norm: 42.313.. Val Linf norm: 18.873\n",
            "Epoch 26/52.. Train loss: 4.422.. Val loss: 4.573.. Train L1 norm: 1.365.. Val L1 norm: 1.156.. Train Linf norm: 42.981.. Val Linf norm: 18.881\n",
            "Epoch 27/52.. Train loss: 4.422.. Val loss: 4.573.. Train L1 norm: 1.366.. Val L1 norm: 1.156.. Train Linf norm: 42.479.. Val Linf norm: 18.889\n",
            "Epoch 28/52.. Train loss: 4.424.. Val loss: 4.573.. Train L1 norm: 1.355.. Val L1 norm: 1.156.. Train Linf norm: 41.738.. Val Linf norm: 18.896\n",
            "Epoch 29/52.. Train loss: 4.424.. Val loss: 4.573.. Train L1 norm: 1.370.. Val L1 norm: 1.156.. Train Linf norm: 42.664.. Val Linf norm: 18.904\n",
            "Epoch 30/52.. Train loss: 4.423.. Val loss: 4.573.. Train L1 norm: 1.365.. Val L1 norm: 1.156.. Train Linf norm: 42.907.. Val Linf norm: 18.911\n",
            "Epoch 31/52.. Train loss: 4.424.. Val loss: 4.573.. Train L1 norm: 1.366.. Val L1 norm: 1.156.. Train Linf norm: 43.231.. Val Linf norm: 18.913\n",
            "Epoch 32/52.. Train loss: 4.423.. Val loss: 4.573.. Train L1 norm: 1.364.. Val L1 norm: 1.156.. Train Linf norm: 43.295.. Val Linf norm: 18.915\n",
            "Epoch 33/52.. Train loss: 4.422.. Val loss: 4.573.. Train L1 norm: 1.365.. Val L1 norm: 1.156.. Train Linf norm: 42.865.. Val Linf norm: 18.917\n",
            "Epoch 34/52.. Train loss: 4.423.. Val loss: 4.573.. Train L1 norm: 1.364.. Val L1 norm: 1.156.. Train Linf norm: 42.630.. Val Linf norm: 18.919\n",
            "Epoch 35/52.. Train loss: 4.424.. Val loss: 4.573.. Train L1 norm: 1.363.. Val L1 norm: 1.156.. Train Linf norm: 43.133.. Val Linf norm: 18.921\n",
            "Epoch 36/52.. Train loss: 4.424.. Val loss: 4.573.. Train L1 norm: 1.358.. Val L1 norm: 1.156.. Train Linf norm: 41.845.. Val Linf norm: 18.921\n",
            "Epoch 37/52.. Train loss: 4.423.. Val loss: 4.573.. Train L1 norm: 1.357.. Val L1 norm: 1.156.. Train Linf norm: 41.903.. Val Linf norm: 18.922\n",
            "Epoch 38/52.. Train loss: 4.423.. Val loss: 4.573.. Train L1 norm: 1.366.. Val L1 norm: 1.156.. Train Linf norm: 42.915.. Val Linf norm: 18.922\n",
            "Epoch 39/52.. Train loss: 4.424.. Val loss: 4.573.. Train L1 norm: 1.365.. Val L1 norm: 1.156.. Train Linf norm: 42.807.. Val Linf norm: 18.923\n",
            "Epoch 40/52.. Train loss: 4.422.. Val loss: 4.573.. Train L1 norm: 1.358.. Val L1 norm: 1.156.. Train Linf norm: 42.231.. Val Linf norm: 18.924\n",
            "Epoch 41/52.. Train loss: 4.422.. Val loss: 4.573.. Train L1 norm: 1.360.. Val L1 norm: 1.156.. Train Linf norm: 42.630.. Val Linf norm: 18.924\n",
            "Epoch 42/52.. Train loss: 4.424.. Val loss: 4.573.. Train L1 norm: 1.358.. Val L1 norm: 1.156.. Train Linf norm: 41.981.. Val Linf norm: 18.924\n",
            "Epoch 43/52.. Train loss: 4.423.. Val loss: 4.573.. Train L1 norm: 1.361.. Val L1 norm: 1.156.. Train Linf norm: 42.241.. Val Linf norm: 18.924\n",
            "Epoch 44/52.. Train loss: 4.424.. Val loss: 4.573.. Train L1 norm: 1.369.. Val L1 norm: 1.156.. Train Linf norm: 43.789.. Val Linf norm: 18.924\n",
            "Epoch 45/52.. Train loss: 4.423.. Val loss: 4.573.. Train L1 norm: 1.367.. Val L1 norm: 1.156.. Train Linf norm: 43.197.. Val Linf norm: 18.924\n",
            "Epoch 46/52.. Train loss: 4.422.. Val loss: 4.573.. Train L1 norm: 1.370.. Val L1 norm: 1.156.. Train Linf norm: 43.529.. Val Linf norm: 18.924\n",
            "Epoch 47/52.. Train loss: 4.423.. Val loss: 4.573.. Train L1 norm: 1.372.. Val L1 norm: 1.156.. Train Linf norm: 43.312.. Val Linf norm: 18.924\n",
            "Epoch 48/52.. Train loss: 4.422.. Val loss: 4.573.. Train L1 norm: 1.374.. Val L1 norm: 1.156.. Train Linf norm: 43.986.. Val Linf norm: 18.924\n",
            "Epoch 49/52.. Train loss: 4.423.. Val loss: 4.573.. Train L1 norm: 1.360.. Val L1 norm: 1.156.. Train Linf norm: 42.813.. Val Linf norm: 18.924\n",
            "Epoch 50/52.. Train loss: 4.424.. Val loss: 4.573.. Train L1 norm: 1.368.. Val L1 norm: 1.156.. Train Linf norm: 43.376.. Val Linf norm: 18.924\n",
            "Epoch 51/52.. Train loss: 4.424.. Val loss: 4.573.. Train L1 norm: 1.361.. Val L1 norm: 1.156.. Train Linf norm: 42.616.. Val Linf norm: 18.924\n"
          ]
        },
        {
          "output_type": "stream",
          "name": "stderr",
          "text": [
            "[I 2023-06-03 10:07:01,025] Trial 2 finished with value: 1.156466460164388 and parameters: {'n_layers': 10, 'n_units_0': 3014, 'n_units_1': 1120, 'n_units_2': 1049, 'n_units_3': 3485, 'n_units_4': 375, 'n_units_5': 1643, 'n_units_6': 3372, 'n_units_7': 2970, 'n_units_8': 2666, 'n_units_9': 145, 'hidden_activation': 'ReLU', 'output_activation': 'Linear', 'loss': 'Huber', 'optimizer': 'SGD', 'lr': 7.22897342454422e-05, 'batch_size': 128, 'n_epochs': 52, 'scheduler': 'StepLR', 'dropout_rate': 0.23392922282686152, 'weight_decay': 0.0002110808902736596, 'momentum': 0.09686194340684977, 'step_size': 5, 'gamma': 0.3225303864728627}. Best is trial 2 with value: 1.156466460164388.\n"
          ]
        },
        {
          "output_type": "stream",
          "name": "stdout",
          "text": [
            "Epoch 52/52.. Train loss: 4.423.. Val loss: 4.573.. Train L1 norm: 1.364.. Val L1 norm: 1.156.. Train Linf norm: 42.787.. Val Linf norm: 18.924\n"
          ]
        },
        {
          "output_type": "display_data",
          "data": {
            "text/html": [
              "<html>\n",
              "<head><meta charset=\"utf-8\" /></head>\n",
              "<body>\n",
              "    <div>            <script src=\"https://cdnjs.cloudflare.com/ajax/libs/mathjax/2.7.5/MathJax.js?config=TeX-AMS-MML_SVG\"></script><script type=\"text/javascript\">if (window.MathJax && window.MathJax.Hub && window.MathJax.Hub.Config) {window.MathJax.Hub.Config({SVG: {font: \"STIX-Web\"}});}</script>                <script type=\"text/javascript\">window.PlotlyConfig = {MathJaxConfig: 'local'};</script>\n",
              "        <script src=\"https://cdn.plot.ly/plotly-2.18.2.min.js\"></script>                <div id=\"bc6cb842-3833-4cf1-97ff-f4151e6325ef\" class=\"plotly-graph-div\" style=\"height:525px; width:100%;\"></div>            <script type=\"text/javascript\">                                    window.PLOTLYENV=window.PLOTLYENV || {};                                    if (document.getElementById(\"bc6cb842-3833-4cf1-97ff-f4151e6325ef\")) {                    Plotly.newPlot(                        \"bc6cb842-3833-4cf1-97ff-f4151e6325ef\",                        [{\"mode\":\"markers\",\"name\":\"Objective Value\",\"x\":[0,2],\"y\":[3.1759881306966147,1.156466460164388],\"type\":\"scatter\"},{\"name\":\"Best Value\",\"x\":[0,2],\"y\":[3.1759881306966147,1.156466460164388],\"type\":\"scatter\"}],                        {\"title\":{\"text\":\"Optimization History Plot\"},\"xaxis\":{\"title\":{\"text\":\"Trial\"}},\"yaxis\":{\"title\":{\"text\":\"Objective Value\"}},\"template\":{\"data\":{\"histogram2dcontour\":[{\"type\":\"histogram2dcontour\",\"colorbar\":{\"outlinewidth\":0,\"ticks\":\"\"},\"colorscale\":[[0.0,\"#0d0887\"],[0.1111111111111111,\"#46039f\"],[0.2222222222222222,\"#7201a8\"],[0.3333333333333333,\"#9c179e\"],[0.4444444444444444,\"#bd3786\"],[0.5555555555555556,\"#d8576b\"],[0.6666666666666666,\"#ed7953\"],[0.7777777777777778,\"#fb9f3a\"],[0.8888888888888888,\"#fdca26\"],[1.0,\"#f0f921\"]]}],\"choropleth\":[{\"type\":\"choropleth\",\"colorbar\":{\"outlinewidth\":0,\"ticks\":\"\"}}],\"histogram2d\":[{\"type\":\"histogram2d\",\"colorbar\":{\"outlinewidth\":0,\"ticks\":\"\"},\"colorscale\":[[0.0,\"#0d0887\"],[0.1111111111111111,\"#46039f\"],[0.2222222222222222,\"#7201a8\"],[0.3333333333333333,\"#9c179e\"],[0.4444444444444444,\"#bd3786\"],[0.5555555555555556,\"#d8576b\"],[0.6666666666666666,\"#ed7953\"],[0.7777777777777778,\"#fb9f3a\"],[0.8888888888888888,\"#fdca26\"],[1.0,\"#f0f921\"]]}],\"heatmap\":[{\"type\":\"heatmap\",\"colorbar\":{\"outlinewidth\":0,\"ticks\":\"\"},\"colorscale\":[[0.0,\"#0d0887\"],[0.1111111111111111,\"#46039f\"],[0.2222222222222222,\"#7201a8\"],[0.3333333333333333,\"#9c179e\"],[0.4444444444444444,\"#bd3786\"],[0.5555555555555556,\"#d8576b\"],[0.6666666666666666,\"#ed7953\"],[0.7777777777777778,\"#fb9f3a\"],[0.8888888888888888,\"#fdca26\"],[1.0,\"#f0f921\"]]}],\"heatmapgl\":[{\"type\":\"heatmapgl\",\"colorbar\":{\"outlinewidth\":0,\"ticks\":\"\"},\"colorscale\":[[0.0,\"#0d0887\"],[0.1111111111111111,\"#46039f\"],[0.2222222222222222,\"#7201a8\"],[0.3333333333333333,\"#9c179e\"],[0.4444444444444444,\"#bd3786\"],[0.5555555555555556,\"#d8576b\"],[0.6666666666666666,\"#ed7953\"],[0.7777777777777778,\"#fb9f3a\"],[0.8888888888888888,\"#fdca26\"],[1.0,\"#f0f921\"]]}],\"contourcarpet\":[{\"type\":\"contourcarpet\",\"colorbar\":{\"outlinewidth\":0,\"ticks\":\"\"}}],\"contour\":[{\"type\":\"contour\",\"colorbar\":{\"outlinewidth\":0,\"ticks\":\"\"},\"colorscale\":[[0.0,\"#0d0887\"],[0.1111111111111111,\"#46039f\"],[0.2222222222222222,\"#7201a8\"],[0.3333333333333333,\"#9c179e\"],[0.4444444444444444,\"#bd3786\"],[0.5555555555555556,\"#d8576b\"],[0.6666666666666666,\"#ed7953\"],[0.7777777777777778,\"#fb9f3a\"],[0.8888888888888888,\"#fdca26\"],[1.0,\"#f0f921\"]]}],\"surface\":[{\"type\":\"surface\",\"colorbar\":{\"outlinewidth\":0,\"ticks\":\"\"},\"colorscale\":[[0.0,\"#0d0887\"],[0.1111111111111111,\"#46039f\"],[0.2222222222222222,\"#7201a8\"],[0.3333333333333333,\"#9c179e\"],[0.4444444444444444,\"#bd3786\"],[0.5555555555555556,\"#d8576b\"],[0.6666666666666666,\"#ed7953\"],[0.7777777777777778,\"#fb9f3a\"],[0.8888888888888888,\"#fdca26\"],[1.0,\"#f0f921\"]]}],\"mesh3d\":[{\"type\":\"mesh3d\",\"colorbar\":{\"outlinewidth\":0,\"ticks\":\"\"}}],\"scatter\":[{\"fillpattern\":{\"fillmode\":\"overlay\",\"size\":10,\"solidity\":0.2},\"type\":\"scatter\"}],\"parcoords\":[{\"type\":\"parcoords\",\"line\":{\"colorbar\":{\"outlinewidth\":0,\"ticks\":\"\"}}}],\"scatterpolargl\":[{\"type\":\"scatterpolargl\",\"marker\":{\"colorbar\":{\"outlinewidth\":0,\"ticks\":\"\"}}}],\"bar\":[{\"error_x\":{\"color\":\"#2a3f5f\"},\"error_y\":{\"color\":\"#2a3f5f\"},\"marker\":{\"line\":{\"color\":\"#E5ECF6\",\"width\":0.5},\"pattern\":{\"fillmode\":\"overlay\",\"size\":10,\"solidity\":0.2}},\"type\":\"bar\"}],\"scattergeo\":[{\"type\":\"scattergeo\",\"marker\":{\"colorbar\":{\"outlinewidth\":0,\"ticks\":\"\"}}}],\"scatterpolar\":[{\"type\":\"scatterpolar\",\"marker\":{\"colorbar\":{\"outlinewidth\":0,\"ticks\":\"\"}}}],\"histogram\":[{\"marker\":{\"pattern\":{\"fillmode\":\"overlay\",\"size\":10,\"solidity\":0.2}},\"type\":\"histogram\"}],\"scattergl\":[{\"type\":\"scattergl\",\"marker\":{\"colorbar\":{\"outlinewidth\":0,\"ticks\":\"\"}}}],\"scatter3d\":[{\"type\":\"scatter3d\",\"line\":{\"colorbar\":{\"outlinewidth\":0,\"ticks\":\"\"}},\"marker\":{\"colorbar\":{\"outlinewidth\":0,\"ticks\":\"\"}}}],\"scattermapbox\":[{\"type\":\"scattermapbox\",\"marker\":{\"colorbar\":{\"outlinewidth\":0,\"ticks\":\"\"}}}],\"scatterternary\":[{\"type\":\"scatterternary\",\"marker\":{\"colorbar\":{\"outlinewidth\":0,\"ticks\":\"\"}}}],\"scattercarpet\":[{\"type\":\"scattercarpet\",\"marker\":{\"colorbar\":{\"outlinewidth\":0,\"ticks\":\"\"}}}],\"carpet\":[{\"aaxis\":{\"endlinecolor\":\"#2a3f5f\",\"gridcolor\":\"white\",\"linecolor\":\"white\",\"minorgridcolor\":\"white\",\"startlinecolor\":\"#2a3f5f\"},\"baxis\":{\"endlinecolor\":\"#2a3f5f\",\"gridcolor\":\"white\",\"linecolor\":\"white\",\"minorgridcolor\":\"white\",\"startlinecolor\":\"#2a3f5f\"},\"type\":\"carpet\"}],\"table\":[{\"cells\":{\"fill\":{\"color\":\"#EBF0F8\"},\"line\":{\"color\":\"white\"}},\"header\":{\"fill\":{\"color\":\"#C8D4E3\"},\"line\":{\"color\":\"white\"}},\"type\":\"table\"}],\"barpolar\":[{\"marker\":{\"line\":{\"color\":\"#E5ECF6\",\"width\":0.5},\"pattern\":{\"fillmode\":\"overlay\",\"size\":10,\"solidity\":0.2}},\"type\":\"barpolar\"}],\"pie\":[{\"automargin\":true,\"type\":\"pie\"}]},\"layout\":{\"autotypenumbers\":\"strict\",\"colorway\":[\"#636efa\",\"#EF553B\",\"#00cc96\",\"#ab63fa\",\"#FFA15A\",\"#19d3f3\",\"#FF6692\",\"#B6E880\",\"#FF97FF\",\"#FECB52\"],\"font\":{\"color\":\"#2a3f5f\"},\"hovermode\":\"closest\",\"hoverlabel\":{\"align\":\"left\"},\"paper_bgcolor\":\"white\",\"plot_bgcolor\":\"#E5ECF6\",\"polar\":{\"bgcolor\":\"#E5ECF6\",\"angularaxis\":{\"gridcolor\":\"white\",\"linecolor\":\"white\",\"ticks\":\"\"},\"radialaxis\":{\"gridcolor\":\"white\",\"linecolor\":\"white\",\"ticks\":\"\"}},\"ternary\":{\"bgcolor\":\"#E5ECF6\",\"aaxis\":{\"gridcolor\":\"white\",\"linecolor\":\"white\",\"ticks\":\"\"},\"baxis\":{\"gridcolor\":\"white\",\"linecolor\":\"white\",\"ticks\":\"\"},\"caxis\":{\"gridcolor\":\"white\",\"linecolor\":\"white\",\"ticks\":\"\"}},\"coloraxis\":{\"colorbar\":{\"outlinewidth\":0,\"ticks\":\"\"}},\"colorscale\":{\"sequential\":[[0.0,\"#0d0887\"],[0.1111111111111111,\"#46039f\"],[0.2222222222222222,\"#7201a8\"],[0.3333333333333333,\"#9c179e\"],[0.4444444444444444,\"#bd3786\"],[0.5555555555555556,\"#d8576b\"],[0.6666666666666666,\"#ed7953\"],[0.7777777777777778,\"#fb9f3a\"],[0.8888888888888888,\"#fdca26\"],[1.0,\"#f0f921\"]],\"sequentialminus\":[[0.0,\"#0d0887\"],[0.1111111111111111,\"#46039f\"],[0.2222222222222222,\"#7201a8\"],[0.3333333333333333,\"#9c179e\"],[0.4444444444444444,\"#bd3786\"],[0.5555555555555556,\"#d8576b\"],[0.6666666666666666,\"#ed7953\"],[0.7777777777777778,\"#fb9f3a\"],[0.8888888888888888,\"#fdca26\"],[1.0,\"#f0f921\"]],\"diverging\":[[0,\"#8e0152\"],[0.1,\"#c51b7d\"],[0.2,\"#de77ae\"],[0.3,\"#f1b6da\"],[0.4,\"#fde0ef\"],[0.5,\"#f7f7f7\"],[0.6,\"#e6f5d0\"],[0.7,\"#b8e186\"],[0.8,\"#7fbc41\"],[0.9,\"#4d9221\"],[1,\"#276419\"]]},\"xaxis\":{\"gridcolor\":\"white\",\"linecolor\":\"white\",\"ticks\":\"\",\"title\":{\"standoff\":15},\"zerolinecolor\":\"white\",\"automargin\":true,\"zerolinewidth\":2},\"yaxis\":{\"gridcolor\":\"white\",\"linecolor\":\"white\",\"ticks\":\"\",\"title\":{\"standoff\":15},\"zerolinecolor\":\"white\",\"automargin\":true,\"zerolinewidth\":2},\"scene\":{\"xaxis\":{\"backgroundcolor\":\"#E5ECF6\",\"gridcolor\":\"white\",\"linecolor\":\"white\",\"showbackground\":true,\"ticks\":\"\",\"zerolinecolor\":\"white\",\"gridwidth\":2},\"yaxis\":{\"backgroundcolor\":\"#E5ECF6\",\"gridcolor\":\"white\",\"linecolor\":\"white\",\"showbackground\":true,\"ticks\":\"\",\"zerolinecolor\":\"white\",\"gridwidth\":2},\"zaxis\":{\"backgroundcolor\":\"#E5ECF6\",\"gridcolor\":\"white\",\"linecolor\":\"white\",\"showbackground\":true,\"ticks\":\"\",\"zerolinecolor\":\"white\",\"gridwidth\":2}},\"shapedefaults\":{\"line\":{\"color\":\"#2a3f5f\"}},\"annotationdefaults\":{\"arrowcolor\":\"#2a3f5f\",\"arrowhead\":0,\"arrowwidth\":1},\"geo\":{\"bgcolor\":\"white\",\"landcolor\":\"#E5ECF6\",\"subunitcolor\":\"white\",\"showland\":true,\"showlakes\":true,\"lakecolor\":\"white\"},\"title\":{\"x\":0.05},\"mapbox\":{\"style\":\"light\"}}}},                        {\"responsive\": true}                    ).then(function(){\n",
              "                            \n",
              "var gd = document.getElementById('bc6cb842-3833-4cf1-97ff-f4151e6325ef');\n",
              "var x = new MutationObserver(function (mutations, observer) {{\n",
              "        var display = window.getComputedStyle(gd).display;\n",
              "        if (!display || display === 'none') {{\n",
              "            console.log([gd, 'removed!']);\n",
              "            Plotly.purge(gd);\n",
              "            observer.disconnect();\n",
              "        }}\n",
              "}});\n",
              "\n",
              "// Listen for the removal of the full notebook cells\n",
              "var notebookContainer = gd.closest('#notebook-container');\n",
              "if (notebookContainer) {{\n",
              "    x.observe(notebookContainer, {childList: true});\n",
              "}}\n",
              "\n",
              "// Listen for the clearing of the current output cell\n",
              "var outputEl = gd.closest('.output');\n",
              "if (outputEl) {{\n",
              "    x.observe(outputEl, {childList: true});\n",
              "}}\n",
              "\n",
              "                        })                };                            </script>        </div>\n",
              "</body>\n",
              "</html>"
            ]
          },
          "metadata": {}
        },
        {
          "output_type": "stream",
          "name": "stderr",
          "text": [
            "<ipython-input-37-247d5052aadc>:44: FutureWarning:\n",
            "\n",
            "suggest_loguniform has been deprecated in v3.0.0. This feature will be removed in v6.0.0. See https://github.com/optuna/optuna/releases/tag/v3.0.0. Use suggest_float(..., log=True) instead.\n",
            "\n",
            "<ipython-input-37-247d5052aadc>:76: FutureWarning:\n",
            "\n",
            "suggest_uniform has been deprecated in v3.0.0. This feature will be removed in v6.0.0. See https://github.com/optuna/optuna/releases/tag/v3.0.0. Use suggest_float instead.\n",
            "\n",
            "<ipython-input-37-247d5052aadc>:145: FutureWarning:\n",
            "\n",
            "suggest_loguniform has been deprecated in v3.0.0. This feature will be removed in v6.0.0. See https://github.com/optuna/optuna/releases/tag/v3.0.0. Use suggest_float(..., log=True) instead.\n",
            "\n",
            "<ipython-input-37-247d5052aadc>:146: FutureWarning:\n",
            "\n",
            "suggest_uniform has been deprecated in v3.0.0. This feature will be removed in v6.0.0. See https://github.com/optuna/optuna/releases/tag/v3.0.0. Use suggest_float instead.\n",
            "\n",
            "<ipython-input-37-247d5052aadc>:168: FutureWarning:\n",
            "\n",
            "suggest_uniform has been deprecated in v3.0.0. This feature will be removed in v6.0.0. See https://github.com/optuna/optuna/releases/tag/v3.0.0. Use suggest_float instead.\n",
            "\n",
            "<ipython-input-37-247d5052aadc>:175: FutureWarning:\n",
            "\n",
            "suggest_loguniform has been deprecated in v3.0.0. This feature will be removed in v6.0.0. See https://github.com/optuna/optuna/releases/tag/v3.0.0. Use suggest_float(..., log=True) instead.\n",
            "\n"
          ]
        },
        {
          "output_type": "stream",
          "name": "stdout",
          "text": [
            "Epoch 1/129.. Train loss: 4.487.. Val loss: 4.302.. Train L1 norm: 5.060.. Val L1 norm: 3.157.. Train Linf norm: 1219.140.. Val Linf norm: 497.369\n",
            "Epoch 2/129.. Train loss: 4.173.. Val loss: 4.265.. Train L1 norm: 6.330.. Val L1 norm: 4.182.. Train Linf norm: 1753.574.. Val Linf norm: 682.307\n",
            "Epoch 3/129.. Train loss: 4.074.. Val loss: 4.213.. Train L1 norm: 5.666.. Val L1 norm: 2.954.. Train Linf norm: 1397.493.. Val Linf norm: 450.375\n",
            "Epoch 4/129.. Train loss: 3.997.. Val loss: 4.128.. Train L1 norm: 6.066.. Val L1 norm: 3.328.. Train Linf norm: 1617.831.. Val Linf norm: 523.911\n",
            "Epoch 5/129.. Train loss: 3.950.. Val loss: 4.633.. Train L1 norm: 6.224.. Val L1 norm: 2.127.. Train Linf norm: 1685.313.. Val Linf norm: 276.999\n",
            "Epoch 6/129.. Train loss: 3.882.. Val loss: 4.119.. Train L1 norm: 5.963.. Val L1 norm: 2.885.. Train Linf norm: 1535.607.. Val Linf norm: 455.865\n",
            "Epoch 7/129.. Train loss: 3.851.. Val loss: 4.012.. Train L1 norm: 6.048.. Val L1 norm: 3.141.. Train Linf norm: 1629.899.. Val Linf norm: 495.337\n",
            "Epoch 8/129.. Train loss: 3.811.. Val loss: 4.149.. Train L1 norm: 5.788.. Val L1 norm: 2.825.. Train Linf norm: 1500.360.. Val Linf norm: 422.377\n",
            "Epoch 9/129.. Train loss: 3.790.. Val loss: 3.958.. Train L1 norm: 5.758.. Val L1 norm: 3.446.. Train Linf norm: 1388.056.. Val Linf norm: 552.235\n",
            "Epoch 10/129.. Train loss: 3.772.. Val loss: 4.071.. Train L1 norm: 5.693.. Val L1 norm: 2.812.. Train Linf norm: 1424.419.. Val Linf norm: 425.749\n",
            "Epoch 11/129.. Train loss: 3.756.. Val loss: 3.997.. Train L1 norm: 6.103.. Val L1 norm: 3.169.. Train Linf norm: 1568.718.. Val Linf norm: 502.589\n",
            "Epoch 12/129.. Train loss: 3.728.. Val loss: 3.996.. Train L1 norm: 5.703.. Val L1 norm: 2.940.. Train Linf norm: 1446.913.. Val Linf norm: 452.094\n",
            "Epoch 13/129.. Train loss: 3.705.. Val loss: 3.948.. Train L1 norm: 6.453.. Val L1 norm: 3.078.. Train Linf norm: 1834.761.. Val Linf norm: 490.890\n",
            "Epoch 14/129.. Train loss: 3.697.. Val loss: 3.829.. Train L1 norm: 6.168.. Val L1 norm: 3.414.. Train Linf norm: 1664.118.. Val Linf norm: 561.975\n",
            "Epoch 15/129.. Train loss: 3.677.. Val loss: 3.872.. Train L1 norm: 5.771.. Val L1 norm: 3.066.. Train Linf norm: 1457.553.. Val Linf norm: 488.742\n",
            "Epoch 16/129.. Train loss: 3.662.. Val loss: 3.871.. Train L1 norm: 5.977.. Val L1 norm: 2.864.. Train Linf norm: 1578.401.. Val Linf norm: 446.674\n",
            "Epoch 17/129.. Train loss: 3.637.. Val loss: 3.811.. Train L1 norm: 6.005.. Val L1 norm: 2.918.. Train Linf norm: 1639.993.. Val Linf norm: 482.711\n",
            "Epoch 18/129.. Train loss: 3.630.. Val loss: 3.826.. Train L1 norm: 6.265.. Val L1 norm: 2.822.. Train Linf norm: 1708.437.. Val Linf norm: 445.663\n",
            "Epoch 19/129.. Train loss: 3.614.. Val loss: 3.780.. Train L1 norm: 6.168.. Val L1 norm: 2.787.. Train Linf norm: 1735.755.. Val Linf norm: 455.607\n",
            "Epoch 20/129.. Train loss: 3.607.. Val loss: 3.820.. Train L1 norm: 5.904.. Val L1 norm: 2.598.. Train Linf norm: 1573.619.. Val Linf norm: 407.296\n",
            "Epoch 21/129.. Train loss: 3.600.. Val loss: 3.758.. Train L1 norm: 6.140.. Val L1 norm: 2.792.. Train Linf norm: 1735.099.. Val Linf norm: 446.437\n",
            "Epoch 22/129.. Train loss: 3.594.. Val loss: 3.772.. Train L1 norm: 5.978.. Val L1 norm: 2.703.. Train Linf norm: 1621.140.. Val Linf norm: 423.293\n",
            "Epoch 23/129.. Train loss: 3.593.. Val loss: 3.768.. Train L1 norm: 5.890.. Val L1 norm: 2.695.. Train Linf norm: 1575.260.. Val Linf norm: 426.341\n",
            "Epoch 24/129.. Train loss: 3.595.. Val loss: 3.754.. Train L1 norm: 5.755.. Val L1 norm: 2.751.. Train Linf norm: 1511.842.. Val Linf norm: 443.249\n",
            "Epoch 25/129.. Train loss: 3.596.. Val loss: 3.761.. Train L1 norm: 5.787.. Val L1 norm: 2.694.. Train Linf norm: 1531.024.. Val Linf norm: 430.367\n",
            "Epoch 26/129.. Train loss: 3.593.. Val loss: 3.773.. Train L1 norm: 5.835.. Val L1 norm: 2.644.. Train Linf norm: 1520.526.. Val Linf norm: 409.334\n",
            "Epoch 27/129.. Train loss: 3.593.. Val loss: 3.693.. Train L1 norm: 5.736.. Val L1 norm: 2.888.. Train Linf norm: 1465.763.. Val Linf norm: 463.897\n",
            "Epoch 28/129.. Train loss: 3.598.. Val loss: 3.775.. Train L1 norm: 5.762.. Val L1 norm: 2.457.. Train Linf norm: 1529.906.. Val Linf norm: 348.112\n",
            "Epoch 29/129.. Train loss: 3.592.. Val loss: 3.876.. Train L1 norm: 5.612.. Val L1 norm: 2.430.. Train Linf norm: 1414.093.. Val Linf norm: 373.017\n",
            "Epoch 30/129.. Train loss: 3.587.. Val loss: 3.618.. Train L1 norm: 5.751.. Val L1 norm: 3.283.. Train Linf norm: 1534.674.. Val Linf norm: 522.884\n",
            "Epoch 31/129.. Train loss: 3.592.. Val loss: 3.718.. Train L1 norm: 5.443.. Val L1 norm: 3.209.. Train Linf norm: 1387.676.. Val Linf norm: 570.308\n",
            "Epoch 32/129.. Train loss: 3.591.. Val loss: 3.835.. Train L1 norm: 5.279.. Val L1 norm: 2.238.. Train Linf norm: 1309.083.. Val Linf norm: 346.208\n",
            "Epoch 33/129.. Train loss: 3.591.. Val loss: 3.498.. Train L1 norm: 5.326.. Val L1 norm: 3.198.. Train Linf norm: 1337.578.. Val Linf norm: 520.799\n",
            "Epoch 34/129.. Train loss: 3.586.. Val loss: 3.628.. Train L1 norm: 5.934.. Val L1 norm: 2.477.. Train Linf norm: 1550.826.. Val Linf norm: 362.418\n",
            "Epoch 35/129.. Train loss: 3.583.. Val loss: 3.518.. Train L1 norm: 6.449.. Val L1 norm: 2.655.. Train Linf norm: 1762.284.. Val Linf norm: 456.652\n",
            "Epoch 36/129.. Train loss: 3.566.. Val loss: 3.436.. Train L1 norm: 6.102.. Val L1 norm: 3.599.. Train Linf norm: 1767.625.. Val Linf norm: 645.334\n",
            "Epoch 37/129.. Train loss: 3.539.. Val loss: 3.938.. Train L1 norm: 5.544.. Val L1 norm: 1.464.. Train Linf norm: 1468.672.. Val Linf norm: 144.299\n",
            "Epoch 38/129.. Train loss: 3.515.. Val loss: 3.425.. Train L1 norm: 5.438.. Val L1 norm: 2.838.. Train Linf norm: 1453.750.. Val Linf norm: 453.587\n",
            "Epoch 39/129.. Train loss: 3.491.. Val loss: 3.398.. Train L1 norm: 4.969.. Val L1 norm: 2.258.. Train Linf norm: 1212.376.. Val Linf norm: 333.803\n",
            "Epoch 40/129.. Train loss: 3.474.. Val loss: 4.524.. Train L1 norm: 5.100.. Val L1 norm: 1.662.. Train Linf norm: 1348.747.. Val Linf norm: 214.427\n",
            "Epoch 41/129.. Train loss: 3.466.. Val loss: 3.426.. Train L1 norm: 5.976.. Val L1 norm: 4.083.. Train Linf norm: 1701.012.. Val Linf norm: 714.813\n",
            "Epoch 42/129.. Train loss: 3.446.. Val loss: 3.333.. Train L1 norm: 5.382.. Val L1 norm: 2.115.. Train Linf norm: 1458.851.. Val Linf norm: 283.064\n",
            "Epoch 43/129.. Train loss: 3.419.. Val loss: 3.523.. Train L1 norm: 4.908.. Val L1 norm: 1.932.. Train Linf norm: 1220.503.. Val Linf norm: 244.087\n",
            "Epoch 44/129.. Train loss: 3.416.. Val loss: 3.378.. Train L1 norm: 5.072.. Val L1 norm: 4.430.. Train Linf norm: 1327.776.. Val Linf norm: 786.163\n",
            "Epoch 45/129.. Train loss: 3.419.. Val loss: 3.258.. Train L1 norm: 4.558.. Val L1 norm: 3.169.. Train Linf norm: 1089.032.. Val Linf norm: 587.257\n",
            "Epoch 46/129.. Train loss: 3.399.. Val loss: 3.368.. Train L1 norm: 5.914.. Val L1 norm: 2.978.. Train Linf norm: 1770.214.. Val Linf norm: 504.734\n",
            "Epoch 47/129.. Train loss: 3.391.. Val loss: 3.438.. Train L1 norm: 5.510.. Val L1 norm: 2.798.. Train Linf norm: 1399.371.. Val Linf norm: 521.264\n",
            "Epoch 48/129.. Train loss: 3.340.. Val loss: 3.246.. Train L1 norm: 4.717.. Val L1 norm: 2.983.. Train Linf norm: 1175.937.. Val Linf norm: 431.794\n",
            "Epoch 49/129.. Train loss: 3.305.. Val loss: 3.359.. Train L1 norm: 5.077.. Val L1 norm: 2.364.. Train Linf norm: 1388.483.. Val Linf norm: 291.592\n",
            "Epoch 50/129.. Train loss: 3.329.. Val loss: 3.245.. Train L1 norm: 4.722.. Val L1 norm: 3.067.. Train Linf norm: 1089.607.. Val Linf norm: 513.240\n",
            "Epoch 51/129.. Train loss: 3.311.. Val loss: 3.354.. Train L1 norm: 5.003.. Val L1 norm: 3.320.. Train Linf norm: 1358.249.. Val Linf norm: 545.499\n",
            "Epoch 52/129.. Train loss: 3.241.. Val loss: 3.241.. Train L1 norm: 5.263.. Val L1 norm: 2.822.. Train Linf norm: 1508.521.. Val Linf norm: 493.492\n",
            "Epoch 53/129.. Train loss: 3.221.. Val loss: 3.039.. Train L1 norm: 4.959.. Val L1 norm: 3.059.. Train Linf norm: 1347.290.. Val Linf norm: 495.205\n",
            "Epoch 54/129.. Train loss: 3.195.. Val loss: 2.903.. Train L1 norm: 5.141.. Val L1 norm: 2.748.. Train Linf norm: 1458.192.. Val Linf norm: 468.716\n",
            "Epoch 55/129.. Train loss: 3.147.. Val loss: 3.090.. Train L1 norm: 5.062.. Val L1 norm: 3.798.. Train Linf norm: 1426.634.. Val Linf norm: 723.742\n",
            "Epoch 56/129.. Train loss: 3.089.. Val loss: 3.484.. Train L1 norm: 5.467.. Val L1 norm: 4.432.. Train Linf norm: 1652.061.. Val Linf norm: 750.556\n",
            "Epoch 57/129.. Train loss: 3.066.. Val loss: 2.930.. Train L1 norm: 4.848.. Val L1 norm: 2.387.. Train Linf norm: 1361.995.. Val Linf norm: 370.270\n",
            "Epoch 58/129.. Train loss: 2.997.. Val loss: 2.833.. Train L1 norm: 5.472.. Val L1 norm: 2.730.. Train Linf norm: 1692.610.. Val Linf norm: 459.280\n",
            "Epoch 59/129.. Train loss: 2.926.. Val loss: 2.881.. Train L1 norm: 4.784.. Val L1 norm: 1.713.. Train Linf norm: 1337.177.. Val Linf norm: 207.572\n",
            "Epoch 60/129.. Train loss: 2.879.. Val loss: 2.648.. Train L1 norm: 4.294.. Val L1 norm: 2.617.. Train Linf norm: 1127.089.. Val Linf norm: 428.677\n",
            "Epoch 61/129.. Train loss: 2.795.. Val loss: 2.946.. Train L1 norm: 3.927.. Val L1 norm: 1.666.. Train Linf norm: 989.884.. Val Linf norm: 241.322\n",
            "Epoch 62/129.. Train loss: 2.738.. Val loss: 2.654.. Train L1 norm: 4.403.. Val L1 norm: 2.093.. Train Linf norm: 1208.086.. Val Linf norm: 280.378\n",
            "Epoch 63/129.. Train loss: 2.702.. Val loss: 2.515.. Train L1 norm: 3.694.. Val L1 norm: 2.416.. Train Linf norm: 854.322.. Val Linf norm: 388.891\n",
            "Epoch 64/129.. Train loss: 2.686.. Val loss: 2.504.. Train L1 norm: 4.985.. Val L1 norm: 2.146.. Train Linf norm: 1554.312.. Val Linf norm: 317.490\n",
            "Epoch 65/129.. Train loss: 2.670.. Val loss: 2.482.. Train L1 norm: 4.560.. Val L1 norm: 2.207.. Train Linf norm: 1346.138.. Val Linf norm: 330.359\n",
            "Epoch 66/129.. Train loss: 2.664.. Val loss: 2.474.. Train L1 norm: 3.985.. Val L1 norm: 2.276.. Train Linf norm: 1015.445.. Val Linf norm: 355.440\n",
            "Epoch 67/129.. Train loss: 2.657.. Val loss: 2.471.. Train L1 norm: 4.205.. Val L1 norm: 2.219.. Train Linf norm: 1161.564.. Val Linf norm: 346.094\n",
            "Epoch 68/129.. Train loss: 2.645.. Val loss: 2.468.. Train L1 norm: 3.519.. Val L1 norm: 2.204.. Train Linf norm: 814.789.. Val Linf norm: 336.718\n",
            "Epoch 69/129.. Train loss: 2.656.. Val loss: 2.465.. Train L1 norm: 3.356.. Val L1 norm: 2.270.. Train Linf norm: 750.221.. Val Linf norm: 355.633\n",
            "Epoch 70/129.. Train loss: 2.663.. Val loss: 2.470.. Train L1 norm: 3.913.. Val L1 norm: 2.340.. Train Linf norm: 1029.414.. Val Linf norm: 377.199\n",
            "Epoch 71/129.. Train loss: 2.675.. Val loss: 2.492.. Train L1 norm: 3.866.. Val L1 norm: 2.363.. Train Linf norm: 998.029.. Val Linf norm: 405.700\n",
            "Epoch 72/129.. Train loss: 2.749.. Val loss: 2.780.. Train L1 norm: 4.574.. Val L1 norm: 1.553.. Train Linf norm: 1326.593.. Val Linf norm: 193.639\n",
            "Epoch 73/129.. Train loss: 2.833.. Val loss: 2.669.. Train L1 norm: 3.472.. Val L1 norm: 2.006.. Train Linf norm: 767.539.. Val Linf norm: 330.401\n",
            "Epoch 74/129.. Train loss: 2.902.. Val loss: 2.639.. Train L1 norm: 3.917.. Val L1 norm: 2.145.. Train Linf norm: 966.098.. Val Linf norm: 303.134\n",
            "Epoch 75/129.. Train loss: 2.963.. Val loss: 2.783.. Train L1 norm: 4.445.. Val L1 norm: 2.173.. Train Linf norm: 1199.485.. Val Linf norm: 393.864\n",
            "Epoch 76/129.. Train loss: 3.036.. Val loss: 3.000.. Train L1 norm: 5.242.. Val L1 norm: 3.667.. Train Linf norm: 1579.613.. Val Linf norm: 633.354\n",
            "Epoch 77/129.. Train loss: 3.056.. Val loss: 2.876.. Train L1 norm: 4.532.. Val L1 norm: 2.432.. Train Linf norm: 1179.875.. Val Linf norm: 397.069\n",
            "Epoch 78/129.. Train loss: 3.112.. Val loss: 3.018.. Train L1 norm: 4.017.. Val L1 norm: 3.513.. Train Linf norm: 936.758.. Val Linf norm: 597.629\n",
            "Epoch 79/129.. Train loss: 3.140.. Val loss: 2.955.. Train L1 norm: 4.719.. Val L1 norm: 3.029.. Train Linf norm: 1252.009.. Val Linf norm: 619.497\n",
            "Epoch 80/129.. Train loss: 3.172.. Val loss: 3.349.. Train L1 norm: 4.838.. Val L1 norm: 1.918.. Train Linf norm: 1239.381.. Val Linf norm: 294.196\n",
            "Epoch 81/129.. Train loss: 3.216.. Val loss: 3.209.. Train L1 norm: 4.814.. Val L1 norm: 2.046.. Train Linf norm: 1306.768.. Val Linf norm: 299.204\n",
            "Epoch 82/129.. Train loss: 3.246.. Val loss: 3.034.. Train L1 norm: 4.800.. Val L1 norm: 3.140.. Train Linf norm: 1289.228.. Val Linf norm: 478.140\n",
            "Epoch 83/129.. Train loss: 3.270.. Val loss: 3.123.. Train L1 norm: 5.594.. Val L1 norm: 2.164.. Train Linf norm: 1666.413.. Val Linf norm: 353.824\n",
            "Epoch 84/129.. Train loss: 3.272.. Val loss: 3.127.. Train L1 norm: 4.957.. Val L1 norm: 3.180.. Train Linf norm: 1356.123.. Val Linf norm: 498.987\n",
            "Epoch 85/129.. Train loss: 3.285.. Val loss: 3.389.. Train L1 norm: 5.978.. Val L1 norm: 3.482.. Train Linf norm: 1827.947.. Val Linf norm: 698.627\n",
            "Epoch 86/129.. Train loss: 3.273.. Val loss: 3.686.. Train L1 norm: 4.640.. Val L1 norm: 1.707.. Train Linf norm: 1161.061.. Val Linf norm: 193.303\n",
            "Epoch 87/129.. Train loss: 3.294.. Val loss: 2.921.. Train L1 norm: 4.507.. Val L1 norm: 2.815.. Train Linf norm: 1085.821.. Val Linf norm: 462.257\n",
            "Epoch 88/129.. Train loss: 3.292.. Val loss: 3.072.. Train L1 norm: 4.322.. Val L1 norm: 2.717.. Train Linf norm: 995.790.. Val Linf norm: 420.517\n",
            "Epoch 89/129.. Train loss: 3.281.. Val loss: 3.327.. Train L1 norm: 4.099.. Val L1 norm: 2.503.. Train Linf norm: 859.292.. Val Linf norm: 392.095\n",
            "Epoch 90/129.. Train loss: 3.266.. Val loss: 3.094.. Train L1 norm: 5.159.. Val L1 norm: 2.337.. Train Linf norm: 1470.908.. Val Linf norm: 390.443\n",
            "Epoch 91/129.. Train loss: 3.273.. Val loss: 3.169.. Train L1 norm: 5.217.. Val L1 norm: 2.432.. Train Linf norm: 1481.410.. Val Linf norm: 344.735\n",
            "Epoch 92/129.. Train loss: 3.227.. Val loss: 3.235.. Train L1 norm: 5.245.. Val L1 norm: 2.857.. Train Linf norm: 1482.051.. Val Linf norm: 448.227\n",
            "Epoch 93/129.. Train loss: 3.208.. Val loss: 3.292.. Train L1 norm: 4.025.. Val L1 norm: 1.734.. Train Linf norm: 908.817.. Val Linf norm: 223.008\n",
            "Epoch 94/129.. Train loss: 3.185.. Val loss: 3.245.. Train L1 norm: 5.418.. Val L1 norm: 2.135.. Train Linf norm: 1504.299.. Val Linf norm: 363.406\n",
            "Epoch 95/129.. Train loss: 3.175.. Val loss: 2.893.. Train L1 norm: 4.875.. Val L1 norm: 2.498.. Train Linf norm: 1355.843.. Val Linf norm: 422.473\n",
            "Epoch 96/129.. Train loss: 3.137.. Val loss: 3.024.. Train L1 norm: 4.836.. Val L1 norm: 2.391.. Train Linf norm: 1337.600.. Val Linf norm: 446.710\n",
            "Epoch 97/129.. Train loss: 3.104.. Val loss: 3.012.. Train L1 norm: 5.048.. Val L1 norm: 2.738.. Train Linf norm: 1442.155.. Val Linf norm: 546.712\n",
            "Epoch 98/129.. Train loss: 3.058.. Val loss: 3.116.. Train L1 norm: 4.481.. Val L1 norm: 2.491.. Train Linf norm: 1208.254.. Val Linf norm: 427.779\n",
            "Epoch 99/129.. Train loss: 3.028.. Val loss: 2.853.. Train L1 norm: 3.841.. Val L1 norm: 2.541.. Train Linf norm: 866.888.. Val Linf norm: 409.677\n",
            "Epoch 100/129.. Train loss: 2.975.. Val loss: 2.779.. Train L1 norm: 4.534.. Val L1 norm: 2.874.. Train Linf norm: 1230.758.. Val Linf norm: 459.723\n",
            "Epoch 101/129.. Train loss: 2.901.. Val loss: 2.791.. Train L1 norm: 4.415.. Val L1 norm: 2.870.. Train Linf norm: 1154.532.. Val Linf norm: 565.954\n",
            "Epoch 102/129.. Train loss: 2.843.. Val loss: 3.031.. Train L1 norm: 4.382.. Val L1 norm: 2.110.. Train Linf norm: 1223.130.. Val Linf norm: 294.576\n",
            "Epoch 103/129.. Train loss: 2.805.. Val loss: 2.681.. Train L1 norm: 4.307.. Val L1 norm: 3.055.. Train Linf norm: 1166.955.. Val Linf norm: 619.467\n",
            "Epoch 104/129.. Train loss: 2.709.. Val loss: 2.542.. Train L1 norm: 4.053.. Val L1 norm: 2.594.. Train Linf norm: 1075.164.. Val Linf norm: 472.004\n",
            "Epoch 105/129.. Train loss: 2.638.. Val loss: 2.438.. Train L1 norm: 3.547.. Val L1 norm: 2.387.. Train Linf norm: 868.273.. Val Linf norm: 411.170\n",
            "Epoch 106/129.. Train loss: 2.565.. Val loss: 2.458.. Train L1 norm: 4.382.. Val L1 norm: 2.757.. Train Linf norm: 1305.088.. Val Linf norm: 513.015\n",
            "Epoch 107/129.. Train loss: 2.523.. Val loss: 2.338.. Train L1 norm: 3.216.. Val L1 norm: 2.103.. Train Linf norm: 674.831.. Val Linf norm: 313.908\n",
            "Epoch 108/129.. Train loss: 2.499.. Val loss: 2.308.. Train L1 norm: 4.274.. Val L1 norm: 2.066.. Train Linf norm: 1260.517.. Val Linf norm: 314.940\n",
            "Epoch 109/129.. Train loss: 2.486.. Val loss: 2.304.. Train L1 norm: 4.162.. Val L1 norm: 1.920.. Train Linf norm: 1225.694.. Val Linf norm: 276.854\n",
            "Epoch 110/129.. Train loss: 2.466.. Val loss: 2.301.. Train L1 norm: 3.543.. Val L1 norm: 1.930.. Train Linf norm: 911.244.. Val Linf norm: 283.990\n",
            "Epoch 111/129.. Train loss: 2.472.. Val loss: 2.297.. Train L1 norm: 3.736.. Val L1 norm: 1.985.. Train Linf norm: 1017.757.. Val Linf norm: 302.438\n",
            "Epoch 112/129.. Train loss: 2.466.. Val loss: 2.296.. Train L1 norm: 3.937.. Val L1 norm: 2.077.. Train Linf norm: 1039.595.. Val Linf norm: 326.240\n",
            "Epoch 113/129.. Train loss: 2.469.. Val loss: 2.307.. Train L1 norm: 3.412.. Val L1 norm: 1.887.. Train Linf norm: 829.250.. Val Linf norm: 273.771\n",
            "Epoch 114/129.. Train loss: 2.479.. Val loss: 2.292.. Train L1 norm: 3.602.. Val L1 norm: 2.106.. Train Linf norm: 950.548.. Val Linf norm: 325.574\n",
            "Epoch 115/129.. Train loss: 2.511.. Val loss: 2.333.. Train L1 norm: 3.775.. Val L1 norm: 2.058.. Train Linf norm: 988.766.. Val Linf norm: 313.572\n",
            "Epoch 116/129.. Train loss: 2.573.. Val loss: 2.508.. Train L1 norm: 3.704.. Val L1 norm: 2.704.. Train Linf norm: 960.288.. Val Linf norm: 452.949\n",
            "Epoch 117/129.. Train loss: 2.679.. Val loss: 3.063.. Train L1 norm: 3.544.. Val L1 norm: 1.496.. Train Linf norm: 854.719.. Val Linf norm: 202.316\n",
            "Epoch 118/129.. Train loss: 2.762.. Val loss: 2.922.. Train L1 norm: 4.392.. Val L1 norm: 3.920.. Train Linf norm: 1271.030.. Val Linf norm: 768.607\n",
            "Epoch 119/129.. Train loss: 2.820.. Val loss: 2.849.. Train L1 norm: 4.332.. Val L1 norm: 3.518.. Train Linf norm: 1212.289.. Val Linf norm: 693.841\n",
            "Epoch 120/129.. Train loss: 2.895.. Val loss: 2.831.. Train L1 norm: 4.617.. Val L1 norm: 3.457.. Train Linf norm: 1350.816.. Val Linf norm: 575.520\n",
            "Epoch 121/129.. Train loss: 2.925.. Val loss: 2.743.. Train L1 norm: 3.678.. Val L1 norm: 2.663.. Train Linf norm: 810.299.. Val Linf norm: 500.495\n",
            "Epoch 122/129.. Train loss: 2.998.. Val loss: 2.663.. Train L1 norm: 5.345.. Val L1 norm: 2.688.. Train Linf norm: 1655.868.. Val Linf norm: 448.331\n",
            "Epoch 123/129.. Train loss: 3.037.. Val loss: 2.741.. Train L1 norm: 5.751.. Val L1 norm: 2.456.. Train Linf norm: 1778.393.. Val Linf norm: 401.756\n",
            "Epoch 124/129.. Train loss: 3.087.. Val loss: 2.988.. Train L1 norm: 4.852.. Val L1 norm: 2.053.. Train Linf norm: 1354.265.. Val Linf norm: 316.982\n",
            "Epoch 125/129.. Train loss: 3.120.. Val loss: 2.866.. Train L1 norm: 4.424.. Val L1 norm: 3.677.. Train Linf norm: 1150.219.. Val Linf norm: 667.581\n",
            "Epoch 126/129.. Train loss: 3.162.. Val loss: 2.858.. Train L1 norm: 4.573.. Val L1 norm: 2.730.. Train Linf norm: 1224.543.. Val Linf norm: 441.234\n",
            "Epoch 127/129.. Train loss: 3.172.. Val loss: 3.024.. Train L1 norm: 4.614.. Val L1 norm: 2.685.. Train Linf norm: 1206.327.. Val Linf norm: 411.340\n",
            "Epoch 128/129.. Train loss: 3.204.. Val loss: 3.154.. Train L1 norm: 4.914.. Val L1 norm: 3.197.. Train Linf norm: 1400.117.. Val Linf norm: 495.620\n"
          ]
        },
        {
          "output_type": "stream",
          "name": "stderr",
          "text": [
            "[I 2023-06-03 10:15:07,698] Trial 3 finished with value: 2.3734971160888674 and parameters: {'n_layers': 7, 'n_units_0': 1996, 'n_units_1': 578, 'n_units_2': 3381, 'n_units_3': 2477, 'n_units_4': 1597, 'n_units_5': 1791, 'n_units_6': 913, 'hidden_activation': 'Swish', 'output_activation': 'Linear', 'loss': 'MAE', 'optimizer': 'SGD', 'lr': 0.054213248368034664, 'batch_size': 512, 'n_epochs': 129, 'scheduler': 'CosineAnnealingLR', 'dropout_rate': 0.4390964216983967, 'weight_decay': 0.003355930173827634, 'momentum': 0.0305263685646178, 't_max_fraction': 0.1777257376542171, 'eta_min': 0.00021774881479716025}. Best is trial 2 with value: 1.156466460164388.\n"
          ]
        },
        {
          "output_type": "stream",
          "name": "stdout",
          "text": [
            "Epoch 129/129.. Train loss: 3.246.. Val loss: 2.904.. Train L1 norm: 4.690.. Val L1 norm: 2.373.. Train Linf norm: 1274.148.. Val Linf norm: 399.303\n"
          ]
        },
        {
          "output_type": "display_data",
          "data": {
            "text/html": [
              "<html>\n",
              "<head><meta charset=\"utf-8\" /></head>\n",
              "<body>\n",
              "    <div>            <script src=\"https://cdnjs.cloudflare.com/ajax/libs/mathjax/2.7.5/MathJax.js?config=TeX-AMS-MML_SVG\"></script><script type=\"text/javascript\">if (window.MathJax && window.MathJax.Hub && window.MathJax.Hub.Config) {window.MathJax.Hub.Config({SVG: {font: \"STIX-Web\"}});}</script>                <script type=\"text/javascript\">window.PlotlyConfig = {MathJaxConfig: 'local'};</script>\n",
              "        <script src=\"https://cdn.plot.ly/plotly-2.18.2.min.js\"></script>                <div id=\"6ea05ab9-4f46-465b-8454-9b845bc86860\" class=\"plotly-graph-div\" style=\"height:525px; width:100%;\"></div>            <script type=\"text/javascript\">                                    window.PLOTLYENV=window.PLOTLYENV || {};                                    if (document.getElementById(\"6ea05ab9-4f46-465b-8454-9b845bc86860\")) {                    Plotly.newPlot(                        \"6ea05ab9-4f46-465b-8454-9b845bc86860\",                        [{\"mode\":\"markers\",\"name\":\"Objective Value\",\"x\":[0,2,3],\"y\":[3.1759881306966147,1.156466460164388,2.3734971160888674],\"type\":\"scatter\"},{\"name\":\"Best Value\",\"x\":[0,2,3],\"y\":[3.1759881306966147,1.156466460164388,1.156466460164388],\"type\":\"scatter\"}],                        {\"title\":{\"text\":\"Optimization History Plot\"},\"xaxis\":{\"title\":{\"text\":\"Trial\"}},\"yaxis\":{\"title\":{\"text\":\"Objective Value\"}},\"template\":{\"data\":{\"histogram2dcontour\":[{\"type\":\"histogram2dcontour\",\"colorbar\":{\"outlinewidth\":0,\"ticks\":\"\"},\"colorscale\":[[0.0,\"#0d0887\"],[0.1111111111111111,\"#46039f\"],[0.2222222222222222,\"#7201a8\"],[0.3333333333333333,\"#9c179e\"],[0.4444444444444444,\"#bd3786\"],[0.5555555555555556,\"#d8576b\"],[0.6666666666666666,\"#ed7953\"],[0.7777777777777778,\"#fb9f3a\"],[0.8888888888888888,\"#fdca26\"],[1.0,\"#f0f921\"]]}],\"choropleth\":[{\"type\":\"choropleth\",\"colorbar\":{\"outlinewidth\":0,\"ticks\":\"\"}}],\"histogram2d\":[{\"type\":\"histogram2d\",\"colorbar\":{\"outlinewidth\":0,\"ticks\":\"\"},\"colorscale\":[[0.0,\"#0d0887\"],[0.1111111111111111,\"#46039f\"],[0.2222222222222222,\"#7201a8\"],[0.3333333333333333,\"#9c179e\"],[0.4444444444444444,\"#bd3786\"],[0.5555555555555556,\"#d8576b\"],[0.6666666666666666,\"#ed7953\"],[0.7777777777777778,\"#fb9f3a\"],[0.8888888888888888,\"#fdca26\"],[1.0,\"#f0f921\"]]}],\"heatmap\":[{\"type\":\"heatmap\",\"colorbar\":{\"outlinewidth\":0,\"ticks\":\"\"},\"colorscale\":[[0.0,\"#0d0887\"],[0.1111111111111111,\"#46039f\"],[0.2222222222222222,\"#7201a8\"],[0.3333333333333333,\"#9c179e\"],[0.4444444444444444,\"#bd3786\"],[0.5555555555555556,\"#d8576b\"],[0.6666666666666666,\"#ed7953\"],[0.7777777777777778,\"#fb9f3a\"],[0.8888888888888888,\"#fdca26\"],[1.0,\"#f0f921\"]]}],\"heatmapgl\":[{\"type\":\"heatmapgl\",\"colorbar\":{\"outlinewidth\":0,\"ticks\":\"\"},\"colorscale\":[[0.0,\"#0d0887\"],[0.1111111111111111,\"#46039f\"],[0.2222222222222222,\"#7201a8\"],[0.3333333333333333,\"#9c179e\"],[0.4444444444444444,\"#bd3786\"],[0.5555555555555556,\"#d8576b\"],[0.6666666666666666,\"#ed7953\"],[0.7777777777777778,\"#fb9f3a\"],[0.8888888888888888,\"#fdca26\"],[1.0,\"#f0f921\"]]}],\"contourcarpet\":[{\"type\":\"contourcarpet\",\"colorbar\":{\"outlinewidth\":0,\"ticks\":\"\"}}],\"contour\":[{\"type\":\"contour\",\"colorbar\":{\"outlinewidth\":0,\"ticks\":\"\"},\"colorscale\":[[0.0,\"#0d0887\"],[0.1111111111111111,\"#46039f\"],[0.2222222222222222,\"#7201a8\"],[0.3333333333333333,\"#9c179e\"],[0.4444444444444444,\"#bd3786\"],[0.5555555555555556,\"#d8576b\"],[0.6666666666666666,\"#ed7953\"],[0.7777777777777778,\"#fb9f3a\"],[0.8888888888888888,\"#fdca26\"],[1.0,\"#f0f921\"]]}],\"surface\":[{\"type\":\"surface\",\"colorbar\":{\"outlinewidth\":0,\"ticks\":\"\"},\"colorscale\":[[0.0,\"#0d0887\"],[0.1111111111111111,\"#46039f\"],[0.2222222222222222,\"#7201a8\"],[0.3333333333333333,\"#9c179e\"],[0.4444444444444444,\"#bd3786\"],[0.5555555555555556,\"#d8576b\"],[0.6666666666666666,\"#ed7953\"],[0.7777777777777778,\"#fb9f3a\"],[0.8888888888888888,\"#fdca26\"],[1.0,\"#f0f921\"]]}],\"mesh3d\":[{\"type\":\"mesh3d\",\"colorbar\":{\"outlinewidth\":0,\"ticks\":\"\"}}],\"scatter\":[{\"fillpattern\":{\"fillmode\":\"overlay\",\"size\":10,\"solidity\":0.2},\"type\":\"scatter\"}],\"parcoords\":[{\"type\":\"parcoords\",\"line\":{\"colorbar\":{\"outlinewidth\":0,\"ticks\":\"\"}}}],\"scatterpolargl\":[{\"type\":\"scatterpolargl\",\"marker\":{\"colorbar\":{\"outlinewidth\":0,\"ticks\":\"\"}}}],\"bar\":[{\"error_x\":{\"color\":\"#2a3f5f\"},\"error_y\":{\"color\":\"#2a3f5f\"},\"marker\":{\"line\":{\"color\":\"#E5ECF6\",\"width\":0.5},\"pattern\":{\"fillmode\":\"overlay\",\"size\":10,\"solidity\":0.2}},\"type\":\"bar\"}],\"scattergeo\":[{\"type\":\"scattergeo\",\"marker\":{\"colorbar\":{\"outlinewidth\":0,\"ticks\":\"\"}}}],\"scatterpolar\":[{\"type\":\"scatterpolar\",\"marker\":{\"colorbar\":{\"outlinewidth\":0,\"ticks\":\"\"}}}],\"histogram\":[{\"marker\":{\"pattern\":{\"fillmode\":\"overlay\",\"size\":10,\"solidity\":0.2}},\"type\":\"histogram\"}],\"scattergl\":[{\"type\":\"scattergl\",\"marker\":{\"colorbar\":{\"outlinewidth\":0,\"ticks\":\"\"}}}],\"scatter3d\":[{\"type\":\"scatter3d\",\"line\":{\"colorbar\":{\"outlinewidth\":0,\"ticks\":\"\"}},\"marker\":{\"colorbar\":{\"outlinewidth\":0,\"ticks\":\"\"}}}],\"scattermapbox\":[{\"type\":\"scattermapbox\",\"marker\":{\"colorbar\":{\"outlinewidth\":0,\"ticks\":\"\"}}}],\"scatterternary\":[{\"type\":\"scatterternary\",\"marker\":{\"colorbar\":{\"outlinewidth\":0,\"ticks\":\"\"}}}],\"scattercarpet\":[{\"type\":\"scattercarpet\",\"marker\":{\"colorbar\":{\"outlinewidth\":0,\"ticks\":\"\"}}}],\"carpet\":[{\"aaxis\":{\"endlinecolor\":\"#2a3f5f\",\"gridcolor\":\"white\",\"linecolor\":\"white\",\"minorgridcolor\":\"white\",\"startlinecolor\":\"#2a3f5f\"},\"baxis\":{\"endlinecolor\":\"#2a3f5f\",\"gridcolor\":\"white\",\"linecolor\":\"white\",\"minorgridcolor\":\"white\",\"startlinecolor\":\"#2a3f5f\"},\"type\":\"carpet\"}],\"table\":[{\"cells\":{\"fill\":{\"color\":\"#EBF0F8\"},\"line\":{\"color\":\"white\"}},\"header\":{\"fill\":{\"color\":\"#C8D4E3\"},\"line\":{\"color\":\"white\"}},\"type\":\"table\"}],\"barpolar\":[{\"marker\":{\"line\":{\"color\":\"#E5ECF6\",\"width\":0.5},\"pattern\":{\"fillmode\":\"overlay\",\"size\":10,\"solidity\":0.2}},\"type\":\"barpolar\"}],\"pie\":[{\"automargin\":true,\"type\":\"pie\"}]},\"layout\":{\"autotypenumbers\":\"strict\",\"colorway\":[\"#636efa\",\"#EF553B\",\"#00cc96\",\"#ab63fa\",\"#FFA15A\",\"#19d3f3\",\"#FF6692\",\"#B6E880\",\"#FF97FF\",\"#FECB52\"],\"font\":{\"color\":\"#2a3f5f\"},\"hovermode\":\"closest\",\"hoverlabel\":{\"align\":\"left\"},\"paper_bgcolor\":\"white\",\"plot_bgcolor\":\"#E5ECF6\",\"polar\":{\"bgcolor\":\"#E5ECF6\",\"angularaxis\":{\"gridcolor\":\"white\",\"linecolor\":\"white\",\"ticks\":\"\"},\"radialaxis\":{\"gridcolor\":\"white\",\"linecolor\":\"white\",\"ticks\":\"\"}},\"ternary\":{\"bgcolor\":\"#E5ECF6\",\"aaxis\":{\"gridcolor\":\"white\",\"linecolor\":\"white\",\"ticks\":\"\"},\"baxis\":{\"gridcolor\":\"white\",\"linecolor\":\"white\",\"ticks\":\"\"},\"caxis\":{\"gridcolor\":\"white\",\"linecolor\":\"white\",\"ticks\":\"\"}},\"coloraxis\":{\"colorbar\":{\"outlinewidth\":0,\"ticks\":\"\"}},\"colorscale\":{\"sequential\":[[0.0,\"#0d0887\"],[0.1111111111111111,\"#46039f\"],[0.2222222222222222,\"#7201a8\"],[0.3333333333333333,\"#9c179e\"],[0.4444444444444444,\"#bd3786\"],[0.5555555555555556,\"#d8576b\"],[0.6666666666666666,\"#ed7953\"],[0.7777777777777778,\"#fb9f3a\"],[0.8888888888888888,\"#fdca26\"],[1.0,\"#f0f921\"]],\"sequentialminus\":[[0.0,\"#0d0887\"],[0.1111111111111111,\"#46039f\"],[0.2222222222222222,\"#7201a8\"],[0.3333333333333333,\"#9c179e\"],[0.4444444444444444,\"#bd3786\"],[0.5555555555555556,\"#d8576b\"],[0.6666666666666666,\"#ed7953\"],[0.7777777777777778,\"#fb9f3a\"],[0.8888888888888888,\"#fdca26\"],[1.0,\"#f0f921\"]],\"diverging\":[[0,\"#8e0152\"],[0.1,\"#c51b7d\"],[0.2,\"#de77ae\"],[0.3,\"#f1b6da\"],[0.4,\"#fde0ef\"],[0.5,\"#f7f7f7\"],[0.6,\"#e6f5d0\"],[0.7,\"#b8e186\"],[0.8,\"#7fbc41\"],[0.9,\"#4d9221\"],[1,\"#276419\"]]},\"xaxis\":{\"gridcolor\":\"white\",\"linecolor\":\"white\",\"ticks\":\"\",\"title\":{\"standoff\":15},\"zerolinecolor\":\"white\",\"automargin\":true,\"zerolinewidth\":2},\"yaxis\":{\"gridcolor\":\"white\",\"linecolor\":\"white\",\"ticks\":\"\",\"title\":{\"standoff\":15},\"zerolinecolor\":\"white\",\"automargin\":true,\"zerolinewidth\":2},\"scene\":{\"xaxis\":{\"backgroundcolor\":\"#E5ECF6\",\"gridcolor\":\"white\",\"linecolor\":\"white\",\"showbackground\":true,\"ticks\":\"\",\"zerolinecolor\":\"white\",\"gridwidth\":2},\"yaxis\":{\"backgroundcolor\":\"#E5ECF6\",\"gridcolor\":\"white\",\"linecolor\":\"white\",\"showbackground\":true,\"ticks\":\"\",\"zerolinecolor\":\"white\",\"gridwidth\":2},\"zaxis\":{\"backgroundcolor\":\"#E5ECF6\",\"gridcolor\":\"white\",\"linecolor\":\"white\",\"showbackground\":true,\"ticks\":\"\",\"zerolinecolor\":\"white\",\"gridwidth\":2}},\"shapedefaults\":{\"line\":{\"color\":\"#2a3f5f\"}},\"annotationdefaults\":{\"arrowcolor\":\"#2a3f5f\",\"arrowhead\":0,\"arrowwidth\":1},\"geo\":{\"bgcolor\":\"white\",\"landcolor\":\"#E5ECF6\",\"subunitcolor\":\"white\",\"showland\":true,\"showlakes\":true,\"lakecolor\":\"white\"},\"title\":{\"x\":0.05},\"mapbox\":{\"style\":\"light\"}}}},                        {\"responsive\": true}                    ).then(function(){\n",
              "                            \n",
              "var gd = document.getElementById('6ea05ab9-4f46-465b-8454-9b845bc86860');\n",
              "var x = new MutationObserver(function (mutations, observer) {{\n",
              "        var display = window.getComputedStyle(gd).display;\n",
              "        if (!display || display === 'none') {{\n",
              "            console.log([gd, 'removed!']);\n",
              "            Plotly.purge(gd);\n",
              "            observer.disconnect();\n",
              "        }}\n",
              "}});\n",
              "\n",
              "// Listen for the removal of the full notebook cells\n",
              "var notebookContainer = gd.closest('#notebook-container');\n",
              "if (notebookContainer) {{\n",
              "    x.observe(notebookContainer, {childList: true});\n",
              "}}\n",
              "\n",
              "// Listen for the clearing of the current output cell\n",
              "var outputEl = gd.closest('.output');\n",
              "if (outputEl) {{\n",
              "    x.observe(outputEl, {childList: true});\n",
              "}}\n",
              "\n",
              "                        })                };                            </script>        </div>\n",
              "</body>\n",
              "</html>"
            ]
          },
          "metadata": {}
        },
        {
          "output_type": "stream",
          "name": "stderr",
          "text": [
            "[W 2023-06-03 10:15:08,054] Your study has only completed trials with missing parameters.\n",
            "<ipython-input-37-247d5052aadc>:44: FutureWarning:\n",
            "\n",
            "suggest_loguniform has been deprecated in v3.0.0. This feature will be removed in v6.0.0. See https://github.com/optuna/optuna/releases/tag/v3.0.0. Use suggest_float(..., log=True) instead.\n",
            "\n",
            "<ipython-input-37-247d5052aadc>:58: FutureWarning:\n",
            "\n",
            "suggest_uniform has been deprecated in v3.0.0. This feature will be removed in v6.0.0. See https://github.com/optuna/optuna/releases/tag/v3.0.0. Use suggest_float instead.\n",
            "\n",
            "<ipython-input-37-247d5052aadc>:76: FutureWarning:\n",
            "\n",
            "suggest_uniform has been deprecated in v3.0.0. This feature will be removed in v6.0.0. See https://github.com/optuna/optuna/releases/tag/v3.0.0. Use suggest_float instead.\n",
            "\n",
            "<ipython-input-37-247d5052aadc>:178: FutureWarning:\n",
            "\n",
            "suggest_uniform has been deprecated in v3.0.0. This feature will be removed in v6.0.0. See https://github.com/optuna/optuna/releases/tag/v3.0.0. Use suggest_float instead.\n",
            "\n",
            "<ipython-input-37-247d5052aadc>:180: FutureWarning:\n",
            "\n",
            "suggest_loguniform has been deprecated in v3.0.0. This feature will be removed in v6.0.0. See https://github.com/optuna/optuna/releases/tag/v3.0.0. Use suggest_float(..., log=True) instead.\n",
            "\n"
          ]
        },
        {
          "output_type": "stream",
          "name": "stdout",
          "text": [
            "Epoch 1/124.. Train loss: 8173770289096310701129075785728.000.. Val loss: 245056492427569517767117347225600.000.. Train L1 norm: 300168135355280.375.. Val L1 norm: 197068296476950.531.. Train Linf norm: 147453721473663232.000.. Val Linf norm: 58816624921982152.000\n",
            "Epoch 2/124.. Train loss: 10059604515377820783814385860608.000.. Val loss: 245056492422411419013100351782912.000.. Train L1 norm: 314376758173518.125.. Val L1 norm: 197068277610411.906.. Train Linf norm: 156647489790748128.000.. Val Linf norm: 58816619596795368.000\n",
            "Epoch 3/124.. Train loss: 10440345514768458555368574812160.000.. Val loss: 245056492419187634313437493854208.000.. Train L1 norm: 316130996053943.438.. Val L1 norm: 197068258712555.781.. Train Linf norm: 163964175154876512.000.. Val Linf norm: 58816617276940360.000\n",
            "Epoch 4/124.. Train loss: 10816625618625517938459224834048.000.. Val loss: 245056492418542862961986114682880.000.. Train L1 norm: 311069066040270.625.. Val L1 norm: 197068248435951.750.. Train Linf norm: 155772596679586912.000.. Val Linf norm: 58816614454860520.000\n",
            "Epoch 5/124.. Train loss: 10883753152754518566171612020736.000.. Val loss: 245056492417898091610534735511552.000.. Train L1 norm: 305114465920569.438.. Val L1 norm: 197068232401407.188.. Train Linf norm: 149256948080030560.000.. Val Linf norm: 58816609276275280.000\n",
            "Epoch 6/124.. Train loss: 10489467348973122522118870794240.000.. Val loss: 245056492416608584936428996132864.000.. Train L1 norm: 306028130200632.875.. Val L1 norm: 197068210268903.844.. Train Linf norm: 148054382373017152.000.. Val Linf norm: 58816603657885400.000\n",
            "Epoch 7/124.. Train loss: 7847010657836011707932182839296.000.. Val loss: 245056492403713374080183526490112.000.. Train L1 norm: 314450880251267.812.. Val L1 norm: 197068194064350.125.. Train Linf norm: 154712642453698912.000.. Val Linf norm: 58816601238959816.000\n",
            "Epoch 8/124.. Train loss: 9545733912872225311753454485504.000.. Val loss: 245056492395593419980831541166080.000.. Train L1 norm: 307034338493824.062.. Val L1 norm: 197068177085807.562.. Train Linf norm: 148528107952558880.000.. Val Linf norm: 58816597709642024.000\n",
            "Epoch 9/124.. Train loss: 9005401291379698934756159782912.000.. Val loss: 245056492394948648629380161994752.000.. Train L1 norm: 290622060383129.688.. Val L1 norm: 197068162026578.469.. Train Linf norm: 133633598154829120.000.. Val Linf norm: 58816592628123048.000\n",
            "Epoch 10/124.. Train loss: 11812309256016035036844068438016.000.. Val loss: 245056492389145814552708806344704.000.. Train L1 norm: 295007202582544.875.. Val L1 norm: 197068143128722.375.. Train Linf norm: 138809009130947120.000.. Val Linf norm: 58816590845138960.000\n",
            "Epoch 11/124.. Train loss: 11366163483669992380431352201216.000.. Val loss: 245056492364644935543120625401856.000.. Train L1 norm: 312970177302869.750.. Val L1 norm: 197068129586153.594.. Train Linf norm: 157561074140197024.000.. Val Linf norm: 58816586300490896.000\n",
            "Epoch 12/124.. Train loss: 10349220100470833296199903084544.000.. Val loss: 245056492364644935543120625401856.000.. Train L1 norm: 299531760078055.000.. Val L1 norm: 197068129013491.312.. Train Linf norm: 144201024240107264.000.. Val Linf norm: 58816586106358376.000\n",
            "Epoch 13/124.. Train loss: 8709459610699091492463955673088.000.. Val loss: 245056492364644935543120625401856.000.. Train L1 norm: 305834855439427.188.. Val L1 norm: 197068127698157.562.. Train Linf norm: 150950038242842016.000.. Val Linf norm: 58816585959756824.000\n",
            "Epoch 14/124.. Train loss: 10611570559854354777225545383936.000.. Val loss: 245056492361421114814660748509184.000.. Train L1 norm: 316504255628372.500.. Val L1 norm: 197068119108222.969.. Train Linf norm: 158537594027677376.000.. Val Linf norm: 58816585519952176.000\n",
            "Epoch 15/124.. Train loss: 10106101755696186489138944409600.000.. Val loss: 245056492340788791856186804666368.000.. Train L1 norm: 302765091064935.688.. Val L1 norm: 197068116817573.750.. Train Linf norm: 147829131279138816.000.. Val Linf norm: 58816585300049848.000\n",
            "Epoch 16/124.. Train loss: 7133396371599061796128489996288.000.. Val loss: 245056492340788791856186804666368.000.. Train L1 norm: 309759669208485.562.. Val L1 norm: 197068115099586.844.. Train Linf norm: 151657315162059168.000.. Val Linf norm: 58816584933545976.000\n",
            "Epoch 17/124.. Train loss: 9307318759307181827830256238592.000.. Val loss: 245056492338471671833506174992384.000.. Train L1 norm: 310092220724330.000.. Val L1 norm: 197068114526924.531.. Train Linf norm: 142736384106992976.000.. Val Linf norm: 58816583883569632.000\n",
            "Epoch 18/124.. Train loss: 9270378487220112367721725820928.000.. Val loss: 245056492338471671833506174992384.000.. Train L1 norm: 311358664939952.062.. Val L1 norm: 197068111663613.000.. Train Linf norm: 153893188180694336.000.. Val Linf norm: 58816583553716144.000\n",
            "Epoch 19/124.. Train loss: 9709782826885479686898911805440.000.. Val loss: 245056492337182165159400435613696.000.. Train L1 norm: 294999058540336.625.. Val L1 norm: 197068109945626.062.. Train Linf norm: 141684873134035248.000.. Val Linf norm: 58816583113911496.000\n",
            "Epoch 20/124.. Train loss: 10227025426808515426132860862464.000.. Val loss: 245056492338471671833506174992384.000.. Train L1 norm: 296498249635635.438.. Val L1 norm: 197068108800301.469.. Train Linf norm: 141294139277439392.000.. Val Linf norm: 58816582820708392.000\n",
            "Epoch 21/124.. Train loss: 8755621952832575124752578904064.000.. Val loss: 245056492337182165159400435613696.000.. Train L1 norm: 297336960489507.125.. Val L1 norm: 197068106509652.250.. Train Linf norm: 141873087057184352.000.. Val Linf norm: 58816582747407624.000\n",
            "Epoch 22/124.. Train loss: 10781239648467094859929891110912.000.. Val loss: 245056492337182165159400435613696.000.. Train L1 norm: 311439585617304.438.. Val L1 norm: 197068106509652.250.. Train Linf norm: 158076567353151648.000.. Val Linf norm: 58816582454204520.000\n",
            "Epoch 23/124.. Train loss: 9060910170712851064587412307968.000.. Val loss: 245056492337182165159400435613696.000.. Train L1 norm: 313362346784235.750.. Val L1 norm: 197068104219003.031.. Train Linf norm: 158613538578775936.000.. Val Linf norm: 58816581281392120.000\n",
            "Epoch 24/124.. Train loss: 11490296718444023959510793060352.000.. Val loss: 245056492334603115782391937892352.000.. Train L1 norm: 285690669364015.438.. Val L1 norm: 197068105364327.625.. Train Linf norm: 122327742016878288.000.. Val Linf norm: 58816582380903744.000\n",
            "Epoch 25/124.. Train loss: 10707289582956368131494458163200.000.. Val loss: 245056492334603115782391937892352.000.. Train L1 norm: 312380033501330.500.. Val L1 norm: 197068103073678.406.. Train Linf norm: 154117482814254816.000.. Val Linf norm: 58816581208091344.000\n",
            "Epoch 26/124.. Train loss: 11533635929397771671389866033152.000.. Val loss: 245056492334603115782391937892352.000.. Train L1 norm: 296377870251997.812.. Val L1 norm: 197068102501016.094.. Train Linf norm: 131976141357410624.000.. Val Linf norm: 58816581061489792.000\n",
            "Epoch 27/124.. Train loss: 7522954775407568802899159941120.000.. Val loss: 245056492334603115782391937892352.000.. Train L1 norm: 287365906394461.000.. Val L1 norm: 197068102501016.094.. Train Linf norm: 131411834538412016.000.. Val Linf norm: 58816581037724304.000\n",
            "Epoch 28/124.. Train loss: 5980355456543593688148570275840.000.. Val loss: 245056492334603115782391937892352.000.. Train L1 norm: 309191953908318.688.. Val L1 norm: 197068101355691.500.. Train Linf norm: 150602276876588064.000.. Val Linf norm: 58816581037724304.000\n",
            "Epoch 29/124.. Train loss: 9357847782941362648416329400320.000.. Val loss: 245056492334603115782391937892352.000.. Train L1 norm: 325127434609420.812.. Val L1 norm: 197068101355691.500.. Train Linf norm: 165817126596446048.000.. Val Linf norm: 58816581013958816.000\n",
            "Epoch 30/124.. Train loss: 9450991888052372401253112610816.000.. Val loss: 245056492334603115782391937892352.000.. Train L1 norm: 294588235835768.812.. Val L1 norm: 197068100783029.188.. Train Linf norm: 136689099767410912.000.. Val Linf norm: 58816580964423528.000\n",
            "Epoch 31/124.. Train loss: 10535449623116931289478252724224.000.. Val loss: 245056492334603115782391937892352.000.. Train L1 norm: 321296789723983.750.. Val L1 norm: 197068098895033.125.. Train Linf norm: 163774197495860416.000.. Val Linf norm: 58816581037724304.000\n",
            "Epoch 32/124.. Train loss: 10890363500999791488524544376832.000.. Val loss: 245056492334603115782391937892352.000.. Train L1 norm: 322745936623473.250.. Val L1 norm: 197068098895033.125.. Train Linf norm: 163905791560624288.000.. Val Linf norm: 58816581037724304.000\n",
            "Epoch 33/124.. Train loss: 8947756990261759060237784973312.000.. Val loss: 245056492334603115782391937892352.000.. Train L1 norm: 303348796835128.938.. Val L1 norm: 197068098895033.125.. Train Linf norm: 151063894823615488.000.. Val Linf norm: 58816581037724304.000\n",
            "Epoch 34/124.. Train loss: 9905462024564480099834073710592.000.. Val loss: 245056492334603115782391937892352.000.. Train L1 norm: 297300475701025.625.. Val L1 norm: 197068098895033.125.. Train Linf norm: 139630974904485056.000.. Val Linf norm: 58816581037724304.000\n",
            "Epoch 35/124.. Train loss: 14059643168831981111015269990400.000.. Val loss: 245056492334603115782391937892352.000.. Train L1 norm: 312331565280496.375.. Val L1 norm: 197068098895033.125.. Train Linf norm: 155092830109336832.000.. Val Linf norm: 58816581037724304.000\n",
            "Epoch 36/124.. Train loss: 13113958136912102806352623042560.000.. Val loss: 245056492334603115782391937892352.000.. Train L1 norm: 315559022243850.312.. Val L1 norm: 197068098895033.125.. Train Linf norm: 156486085304348096.000.. Val Linf norm: 58816581037724304.000\n",
            "Epoch 37/124.. Train loss: 8085622635078842840033825652736.000.. Val loss: 245056492334603115782391937892352.000.. Train L1 norm: 315270538655140.625.. Val L1 norm: 197068098895033.125.. Train Linf norm: 162733104722545568.000.. Val Linf norm: 58816580964423528.000\n",
            "Epoch 38/124.. Train loss: 9484061342615282964880330588160.000.. Val loss: 245056492334603115782391937892352.000.. Train L1 norm: 303553755308996.312.. Val L1 norm: 197068098895033.125.. Train Linf norm: 145769030142162432.000.. Val Linf norm: 58816580964423528.000\n",
            "Epoch 39/124.. Train loss: 8624553258925596170982233473024.000.. Val loss: 245056492334603115782391937892352.000.. Train L1 norm: 312569456022003.000.. Val L1 norm: 197068098895033.125.. Train Linf norm: 155365310380975296.000.. Val Linf norm: 58816580964423528.000\n",
            "Epoch 40/124.. Train loss: 8721429196082729136616487518208.000.. Val loss: 245056492334603115782391937892352.000.. Train L1 norm: 302719045813471.062.. Val L1 norm: 197068098895033.125.. Train Linf norm: 145374133705667584.000.. Val Linf norm: 58816580964423528.000\n",
            "Epoch 41/124.. Train loss: 9823026645811589109698806153216.000.. Val loss: 245056492334603115782391937892352.000.. Train L1 norm: 317689793257586.250.. Val L1 norm: 197068098895033.125.. Train Linf norm: 164973345994853536.000.. Val Linf norm: 58816580964423528.000\n",
            "Epoch 42/124.. Train loss: 8436351437821736231020041076736.000.. Val loss: 245056492334603115782391937892352.000.. Train L1 norm: 308334030847003.875.. Val L1 norm: 197068098895033.125.. Train Linf norm: 147164436757097856.000.. Val Linf norm: 58816580964423528.000\n",
            "Epoch 43/124.. Train loss: 7394760747430755141568492994560.000.. Val loss: 245056492334603115782391937892352.000.. Train L1 norm: 285169721063475.938.. Val L1 norm: 197068098895033.125.. Train Linf norm: 127581374672312416.000.. Val Linf norm: 58816580964423528.000\n",
            "Epoch 44/124.. Train loss: 9000623046013947000343159111680.000.. Val loss: 245056492334603115782391937892352.000.. Train L1 norm: 286307093059971.125.. Val L1 norm: 197068098895033.125.. Train Linf norm: 129247009788953360.000.. Val Linf norm: 58816580964423528.000\n",
            "Epoch 45/124.. Train loss: 10533008443790349533434936819712.000.. Val loss: 245056492334603115782391937892352.000.. Train L1 norm: 299299792575798.625.. Val L1 norm: 197068098895033.125.. Train Linf norm: 143657456656331024.000.. Val Linf norm: 58816580964423528.000\n",
            "Epoch 46/124.. Train loss: 8645845634881258374858631282688.000.. Val loss: 245056492334603115782391937892352.000.. Train L1 norm: 294071673899045.938.. Val L1 norm: 197068098895033.125.. Train Linf norm: 136884255652520304.000.. Val Linf norm: 58816580964423528.000\n",
            "Epoch 47/124.. Train loss: 8174239585202314639009881522176.000.. Val loss: 245056492334603115782391937892352.000.. Train L1 norm: 301324028866162.125.. Val L1 norm: 197068098895033.125.. Train Linf norm: 142481286332751008.000.. Val Linf norm: 58816580964423528.000\n",
            "Epoch 48/124.. Train loss: 9525135772460080573345666433024.000.. Val loss: 245056492334603115782391937892352.000.. Train L1 norm: 308582953392245.500.. Val L1 norm: 197068098895033.125.. Train Linf norm: 152714982769569920.000.. Val Linf norm: 58816580964423528.000\n",
            "Epoch 49/124.. Train loss: 8345509829570055103518167007232.000.. Val loss: 245056492334603115782391937892352.000.. Train L1 norm: 312459668183026.438.. Val L1 norm: 197068098895033.125.. Train Linf norm: 159181513290641856.000.. Val Linf norm: 58816580964423528.000\n",
            "Epoch 50/124.. Train loss: 9696620536230692061173900115968.000.. Val loss: 245056492334603115782391937892352.000.. Train L1 norm: 313980131499723.062.. Val L1 norm: 197068098895033.125.. Train Linf norm: 156703078386806112.000.. Val Linf norm: 58816580964423528.000\n",
            "Epoch 51/124.. Train loss: 8802233414485170333306977255424.000.. Val loss: 245056492334603115782391937892352.000.. Train L1 norm: 301338047202249.938.. Val L1 norm: 197068098895033.125.. Train Linf norm: 146179648843376544.000.. Val Linf norm: 58816580964423528.000\n",
            "Epoch 52/124.. Train loss: 11074862921259460396922448117760.000.. Val loss: 245056492334603115782391937892352.000.. Train L1 norm: 305687302319239.500.. Val L1 norm: 197068098895033.125.. Train Linf norm: 147048184974486016.000.. Val Linf norm: 58816580964423528.000\n",
            "Epoch 53/124.. Train loss: 10105047570249670997785477906432.000.. Val loss: 245056492334603115782391937892352.000.. Train L1 norm: 304295458073859.125.. Val L1 norm: 197068098895033.125.. Train Linf norm: 144659689044869984.000.. Val Linf norm: 58816580964423528.000\n",
            "Epoch 54/124.. Train loss: 8690115718012341970532202184704.000.. Val loss: 245056492334603115782391937892352.000.. Train L1 norm: 318067268660704.062.. Val L1 norm: 197068098895033.125.. Train Linf norm: 151416778364369312.000.. Val Linf norm: 58816580964423528.000\n",
            "Epoch 55/124.. Train loss: 11159981926888425174108240609280.000.. Val loss: 245056492334603115782391937892352.000.. Train L1 norm: 312052746020117.375.. Val L1 norm: 197068098895033.125.. Train Linf norm: 156299423425736160.000.. Val Linf norm: 58816580964423528.000\n",
            "Epoch 56/124.. Train loss: 9431819951970365162349238681600.000.. Val loss: 245056492334603115782391937892352.000.. Train L1 norm: 313488971468314.125.. Val L1 norm: 197068098895033.125.. Train Linf norm: 155649174016755264.000.. Val Linf norm: 58816580964423528.000\n",
            "Epoch 57/124.. Train loss: 6120182834578122721741577912320.000.. Val loss: 245056492334603115782391937892352.000.. Train L1 norm: 305649347844719.062.. Val L1 norm: 197068098895033.125.. Train Linf norm: 150937665940146848.000.. Val Linf norm: 58816580964423528.000\n",
            "Epoch 58/124.. Train loss: 11398132994178823308271362768896.000.. Val loss: 245056492334603115782391937892352.000.. Train L1 norm: 309123767086140.625.. Val L1 norm: 197068098895033.125.. Train Linf norm: 148452249519726848.000.. Val Linf norm: 58816580964423528.000\n",
            "Epoch 59/124.. Train loss: 8929911736137704412035114074112.000.. Val loss: 245056492334603115782391937892352.000.. Train L1 norm: 298260685360403.938.. Val L1 norm: 197068098895033.125.. Train Linf norm: 142587275357274288.000.. Val Linf norm: 58816580964423528.000\n",
            "Epoch 60/124.. Train loss: 11590401294631356721464172609536.000.. Val loss: 245056492334603115782391937892352.000.. Train L1 norm: 313513177045000.875.. Val L1 norm: 197068098895033.125.. Train Linf norm: 153919485743056992.000.. Val Linf norm: 58816580964423528.000\n",
            "Epoch 61/124.. Train loss: 9423932789123901091395917578240.000.. Val loss: 245056492334603115782391937892352.000.. Train L1 norm: 303846114609085.062.. Val L1 norm: 197068098895033.125.. Train Linf norm: 149337424231120864.000.. Val Linf norm: 58816580964423528.000\n",
            "Epoch 62/124.. Train loss: 9630321363144304250574535131136.000.. Val loss: 245056492334603115782391937892352.000.. Train L1 norm: 309471039667583.625.. Val L1 norm: 197068098895033.125.. Train Linf norm: 153659444332485600.000.. Val Linf norm: 58816580964423528.000\n",
            "Epoch 63/124.. Train loss: 9604707822865467196145657708544.000.. Val loss: 245056492334603115782391937892352.000.. Train L1 norm: 300880438207132.438.. Val L1 norm: 197068098895033.125.. Train Linf norm: 143151629530189392.000.. Val Linf norm: 58816580964423528.000\n",
            "Epoch 64/124.. Train loss: 9970245341070126433805401063424.000.. Val loss: 245056492334603115782391937892352.000.. Train L1 norm: 294579969829911.188.. Val L1 norm: 197068098895033.125.. Train Linf norm: 138729196381302992.000.. Val Linf norm: 58816580964423528.000\n",
            "Epoch 65/124.. Train loss: 9159633022692144247932410920960.000.. Val loss: 245056492334603115782391937892352.000.. Train L1 norm: 308513012204392.562.. Val L1 norm: 197068098895033.125.. Train Linf norm: 155135423760922592.000.. Val Linf norm: 58816580964423528.000\n",
            "Epoch 66/124.. Train loss: 6864980212572336925550546255872.000.. Val loss: 245056492334603115782391937892352.000.. Train L1 norm: 315928420949463.625.. Val L1 norm: 197068098895033.125.. Train Linf norm: 158143812398047840.000.. Val Linf norm: 58816580964423528.000\n",
            "Epoch 67/124.. Train loss: 8366929395732569148192192462848.000.. Val loss: 245056492334603115782391937892352.000.. Train L1 norm: 304523428629697.562.. Val L1 norm: 197068098895033.125.. Train Linf norm: 145192729623001536.000.. Val Linf norm: 58816580964423528.000\n",
            "Epoch 68/124.. Train loss: 12557241041910097004954424180736.000.. Val loss: 245056492334603115782391937892352.000.. Train L1 norm: 311556057292056.625.. Val L1 norm: 197068098895033.125.. Train Linf norm: 156255978253566144.000.. Val Linf norm: 58816580964423528.000\n",
            "Epoch 69/124.. Train loss: 11230044867726424940084820180992.000.. Val loss: 245056492334603115782391937892352.000.. Train L1 norm: 291773522633406.188.. Val L1 norm: 197068098895033.125.. Train Linf norm: 134040368257642304.000.. Val Linf norm: 58816580964423528.000\n",
            "Epoch 70/124.. Train loss: 9413149614322487202012945448960.000.. Val loss: 245056492334603115782391937892352.000.. Train L1 norm: 304824993243074.188.. Val L1 norm: 197068098895033.125.. Train Linf norm: 144821330897300768.000.. Val Linf norm: 58816580964423528.000\n",
            "Epoch 71/124.. Train loss: 10392658841851233174052078092288.000.. Val loss: 245056492334603115782391937892352.000.. Train L1 norm: 306099568681194.062.. Val L1 norm: 197068098895033.125.. Train Linf norm: 139620297092046608.000.. Val Linf norm: 58816580964423528.000\n",
            "Epoch 72/124.. Train loss: 9741242224953295700359747993600.000.. Val loss: 245056492334603115782391937892352.000.. Train L1 norm: 287779985207688.250.. Val L1 norm: 197068098895033.125.. Train Linf norm: 132630468707394784.000.. Val Linf norm: 58816580964423528.000\n",
            "Epoch 73/124.. Train loss: 8969505192599004246990833844224.000.. Val loss: 245056492334603115782391937892352.000.. Train L1 norm: 301970185964958.500.. Val L1 norm: 197068098895033.125.. Train Linf norm: 147736349577489632.000.. Val Linf norm: 58816580964423528.000\n",
            "Epoch 74/124.. Train loss: 10082495858537690099499308941312.000.. Val loss: 245056492334603115782391937892352.000.. Train L1 norm: 292429109562988.500.. Val L1 norm: 197068098895033.125.. Train Linf norm: 124684218316148992.000.. Val Linf norm: 58816580964423528.000\n",
            "Epoch 75/124.. Train loss: 8430371113983577285184016351232.000.. Val loss: 245056492334603115782391937892352.000.. Train L1 norm: 303840516383815.375.. Val L1 norm: 197068098895033.125.. Train Linf norm: 144551875421050400.000.. Val Linf norm: 58816580964423528.000\n",
            "Epoch 76/124.. Train loss: 7415338486075533005677253361664.000.. Val loss: 245056492334603115782391937892352.000.. Train L1 norm: 299267211598136.250.. Val L1 norm: 197068098895033.125.. Train Linf norm: 139151037372131920.000.. Val Linf norm: 58816580964423528.000\n",
            "Epoch 77/124.. Train loss: 8507652820750802989520848420864.000.. Val loss: 245056492334603115782391937892352.000.. Train L1 norm: 311433931845069.312.. Val L1 norm: 197068098895033.125.. Train Linf norm: 153350956669945152.000.. Val Linf norm: 58816580964423528.000\n",
            "Epoch 78/124.. Train loss: 9834208674360894786606834122752.000.. Val loss: 245056492334603115782391937892352.000.. Train L1 norm: 308752698217302.750.. Val L1 norm: 197068098895033.125.. Train Linf norm: 151412815621383584.000.. Val Linf norm: 58816580964423528.000\n",
            "Epoch 79/124.. Train loss: 11892121139108620837227490967552.000.. Val loss: 245056492334603115782391937892352.000.. Train L1 norm: 324306499438319.062.. Val L1 norm: 197068098895033.125.. Train Linf norm: 168738564281843296.000.. Val Linf norm: 58816580964423528.000\n",
            "Epoch 80/124.. Train loss: 9530442642122639360021734883328.000.. Val loss: 245056492334603115782391937892352.000.. Train L1 norm: 298510691529729.188.. Val L1 norm: 197068098895033.125.. Train Linf norm: 143097139571671952.000.. Val Linf norm: 58816580964423528.000\n",
            "Epoch 81/124.. Train loss: 9489001925229953512790833496064.000.. Val loss: 245056492334603115782391937892352.000.. Train L1 norm: 309188305828288.938.. Val L1 norm: 197068098895033.125.. Train Linf norm: 154197830511401888.000.. Val Linf norm: 58816580964423528.000\n",
            "Epoch 82/124.. Train loss: 11694751432224064697037387464704.000.. Val loss: 245056492334603115782391937892352.000.. Train L1 norm: 304660084033495.250.. Val L1 norm: 197068098895033.125.. Train Linf norm: 147108257501736800.000.. Val Linf norm: 58816580964423528.000\n",
            "Epoch 83/124.. Train loss: 9499437122035488657652332888064.000.. Val loss: 245056492334603115782391937892352.000.. Train L1 norm: 310363691218969.750.. Val L1 norm: 197068098895033.125.. Train Linf norm: 155660820254185984.000.. Val Linf norm: 58816580964423528.000\n",
            "Epoch 84/124.. Train loss: 9905388652680421036142022885376.000.. Val loss: 245056492334603115782391937892352.000.. Train L1 norm: 298111377042391.500.. Val L1 norm: 197068098895033.125.. Train Linf norm: 138710484720806880.000.. Val Linf norm: 58816580964423528.000\n",
            "Epoch 85/124.. Train loss: 9917491650145803479855229042688.000.. Val loss: 245056492334603115782391937892352.000.. Train L1 norm: 305154884511780.062.. Val L1 norm: 197068098895033.125.. Train Linf norm: 148914819938151872.000.. Val Linf norm: 58816580964423528.000\n",
            "Epoch 86/124.. Train loss: 11768560101740706812281166495744.000.. Val loss: 245056492334603115782391937892352.000.. Train L1 norm: 296861045624750.562.. Val L1 norm: 197068098895033.125.. Train Linf norm: 143843073127754480.000.. Val Linf norm: 58816580964423528.000\n",
            "Epoch 87/124.. Train loss: 6265409151978076785237725020160.000.. Val loss: 245056492334603115782391937892352.000.. Train L1 norm: 312374427945855.500.. Val L1 norm: 197068098895033.125.. Train Linf norm: 153459774311335072.000.. Val Linf norm: 58816580964423528.000\n",
            "Epoch 88/124.. Train loss: 11573783430641703293380521361408.000.. Val loss: 245056492334603115782391937892352.000.. Train L1 norm: 308184739597651.625.. Val L1 norm: 197068098895033.125.. Train Linf norm: 150412479772352288.000.. Val Linf norm: 58816580964423528.000\n",
            "Epoch 89/124.. Train loss: 12018470553683481822185616572416.000.. Val loss: 245056492334603115782391937892352.000.. Train L1 norm: 304752514588542.812.. Val L1 norm: 197068098895033.125.. Train Linf norm: 146921450546308320.000.. Val Linf norm: 58816580964423528.000\n",
            "Epoch 90/124.. Train loss: 8835905176063203620447586353152.000.. Val loss: 245056492334603115782391937892352.000.. Train L1 norm: 297503670856895.688.. Val L1 norm: 197068098895033.125.. Train Linf norm: 142803933814780752.000.. Val Linf norm: 58816580964423528.000\n",
            "Epoch 91/124.. Train loss: 15710727544160182108558542766080.000.. Val loss: 245056492334603115782391937892352.000.. Train L1 norm: 317061949209077.375.. Val L1 norm: 197068098895033.125.. Train Linf norm: 162072570703541472.000.. Val Linf norm: 58816580964423528.000\n",
            "Epoch 92/124.. Train loss: 9841614895224565330145529823232.000.. Val loss: 245056492334603115782391937892352.000.. Train L1 norm: 307536475848074.875.. Val L1 norm: 197068098895033.125.. Train Linf norm: 144210111831455424.000.. Val Linf norm: 58816580964423528.000\n",
            "Epoch 93/124.. Train loss: 9136127814815003280297796042752.000.. Val loss: 245056492334603115782391937892352.000.. Train L1 norm: 297472829199100.875.. Val L1 norm: 197068098895033.125.. Train Linf norm: 138574290870745760.000.. Val Linf norm: 58816580964423528.000\n",
            "Epoch 94/124.. Train loss: 8992480006719951440288522698752.000.. Val loss: 245056492334603115782391937892352.000.. Train L1 norm: 309420537438438.312.. Val L1 norm: 197068098895033.125.. Train Linf norm: 150471249597919680.000.. Val Linf norm: 58816580964423528.000\n",
            "Epoch 95/124.. Train loss: 8271740939753189896756614135808.000.. Val loss: 245056492334603115782391937892352.000.. Train L1 norm: 292195950184298.688.. Val L1 norm: 197068098895033.125.. Train Linf norm: 135692996585088848.000.. Val Linf norm: 58816580964423528.000\n",
            "Epoch 96/124.. Train loss: 11945837260404934374538369564672.000.. Val loss: 245056492334603115782391937892352.000.. Train L1 norm: 311597057747796.438.. Val L1 norm: 197068098895033.125.. Train Linf norm: 152342937601285376.000.. Val Linf norm: 58816580964423528.000\n",
            "Epoch 97/124.. Train loss: 10229138763081546847256406130688.000.. Val loss: 245056492334603115782391937892352.000.. Train L1 norm: 309703795906070.812.. Val L1 norm: 197068098895033.125.. Train Linf norm: 151965880080937440.000.. Val Linf norm: 58816580964423528.000\n",
            "Epoch 98/124.. Train loss: 10364694671521535511413018066944.000.. Val loss: 245056492334603115782391937892352.000.. Train L1 norm: 292795926912726.250.. Val L1 norm: 197068098895033.125.. Train Linf norm: 134681237597205680.000.. Val Linf norm: 58816580964423528.000\n",
            "Epoch 99/124.. Train loss: 7104233971697263835427089940480.000.. Val loss: 245056492334603115782391937892352.000.. Train L1 norm: 285169933415095.625.. Val L1 norm: 197068098895033.125.. Train Linf norm: 117668936262654464.000.. Val Linf norm: 58816580964423528.000\n",
            "Epoch 100/124.. Train loss: 9110076054748372450090118283264.000.. Val loss: 245056492334603115782391937892352.000.. Train L1 norm: 304422009047478.625.. Val L1 norm: 197068098895033.125.. Train Linf norm: 132116813867083024.000.. Val Linf norm: 58816580964423528.000\n",
            "Epoch 101/124.. Train loss: 7801862149539921944306159452160.000.. Val loss: 245056492334603115782391937892352.000.. Train L1 norm: 303474840925911.688.. Val L1 norm: 197068098895033.125.. Train Linf norm: 145560190643903392.000.. Val Linf norm: 58816580964423528.000\n",
            "Epoch 102/124.. Train loss: 11491903264982751800669146972160.000.. Val loss: 245056492334603115782391937892352.000.. Train L1 norm: 309132778564103.125.. Val L1 norm: 197068098895033.125.. Train Linf norm: 154329194237560544.000.. Val Linf norm: 58816580964423528.000\n",
            "Epoch 103/124.. Train loss: 7359221391372164620825042878464.000.. Val loss: 245056492334603115782391937892352.000.. Train L1 norm: 319629437103056.000.. Val L1 norm: 197068098895033.125.. Train Linf norm: 145789442830284992.000.. Val Linf norm: 58816580964423528.000\n",
            "Epoch 104/124.. Train loss: 10513833764957889269021104144384.000.. Val loss: 245056492334603115782391937892352.000.. Train L1 norm: 302347809218490.750.. Val L1 norm: 197068098895033.125.. Train Linf norm: 146242143427730432.000.. Val Linf norm: 58816580964423528.000\n",
            "Epoch 105/124.. Train loss: 7702105898295065778284029542400.000.. Val loss: 245056492334603115782391937892352.000.. Train L1 norm: 318897967531107.500.. Val L1 norm: 197068098895033.125.. Train Linf norm: 160710777564257728.000.. Val Linf norm: 58816580964423528.000\n",
            "Epoch 106/124.. Train loss: 10689779869695112897218408873984.000.. Val loss: 245056492334603115782391937892352.000.. Train L1 norm: 313094283485234.562.. Val L1 norm: 197068098895033.125.. Train Linf norm: 155507388559815680.000.. Val Linf norm: 58816580964423528.000\n",
            "Epoch 107/124.. Train loss: 11833408438838469646938194051072.000.. Val loss: 245056492334603115782391937892352.000.. Train L1 norm: 295606786785474.750.. Val L1 norm: 197068098895033.125.. Train Linf norm: 128425528155725456.000.. Val Linf norm: 58816580964423528.000\n",
            "Epoch 108/124.. Train loss: 13471239256019808207010881601536.000.. Val loss: 245056492334603115782391937892352.000.. Train L1 norm: 293465851206266.312.. Val L1 norm: 197068098895033.125.. Train Linf norm: 134990798264676448.000.. Val Linf norm: 58816580964423528.000\n",
            "Epoch 109/124.. Train loss: 8449698551929184892902545817600.000.. Val loss: 245056492334603115782391937892352.000.. Train L1 norm: 312668271671007.188.. Val L1 norm: 197068098895033.125.. Train Linf norm: 153715147997466688.000.. Val Linf norm: 58816580964423528.000\n",
            "Epoch 110/124.. Train loss: 7640153092334392827804766961664.000.. Val loss: 245056492334603115782391937892352.000.. Train L1 norm: 292547310128890.812.. Val L1 norm: 197068098895033.125.. Train Linf norm: 135247339174926816.000.. Val Linf norm: 58816580964423528.000\n",
            "Epoch 111/124.. Train loss: 10376891631027846822599938015232.000.. Val loss: 245056492334603115782391937892352.000.. Train L1 norm: 302549907257560.750.. Val L1 norm: 197068098895033.125.. Train Linf norm: 148346532874789376.000.. Val Linf norm: 58816580964423528.000\n",
            "Epoch 112/124.. Train loss: 13868782256439792645369828999168.000.. Val loss: 245056492334603115782391937892352.000.. Train L1 norm: 306357108457078.812.. Val L1 norm: 197068098895033.125.. Train Linf norm: 143668772126120304.000.. Val Linf norm: 58816580964423528.000\n",
            "Epoch 113/124.. Train loss: 8998800466270547531487458099200.000.. Val loss: 245056492334603115782391937892352.000.. Train L1 norm: 306156455745447.500.. Val L1 norm: 197068098895033.125.. Train Linf norm: 148582471776599456.000.. Val Linf norm: 58816580964423528.000\n",
            "Epoch 114/124.. Train loss: 8660668370288135254772285440000.000.. Val loss: 245056492334603115782391937892352.000.. Train L1 norm: 313106025534673.000.. Val L1 norm: 197068098895033.125.. Train Linf norm: 151868318013011360.000.. Val Linf norm: 58816580964423528.000\n",
            "Epoch 115/124.. Train loss: 7941903630141858778639987900416.000.. Val loss: 245056492334603115782391937892352.000.. Train L1 norm: 307074952155163.125.. Val L1 norm: 197068098895033.125.. Train Linf norm: 150186668861453760.000.. Val Linf norm: 58816580964423528.000\n",
            "Epoch 116/124.. Train loss: 9068735632472413584162014887936.000.. Val loss: 245056492334603115782391937892352.000.. Train L1 norm: 310221643142435.375.. Val L1 norm: 197068098895033.125.. Train Linf norm: 146907173584040288.000.. Val Linf norm: 58816580964423528.000\n",
            "Epoch 117/124.. Train loss: 8927944434949680789499139850240.000.. Val loss: 245056492334603115782391937892352.000.. Train L1 norm: 290340054688431.188.. Val L1 norm: 197068098895033.125.. Train Linf norm: 137191396577507184.000.. Val Linf norm: 58816580964423528.000\n",
            "Epoch 118/124.. Train loss: 11096862899728377980432207052800.000.. Val loss: 245056492334603115782391937892352.000.. Train L1 norm: 306740881156585.188.. Val L1 norm: 197068098895033.125.. Train Linf norm: 152588469201618208.000.. Val Linf norm: 58816580964423528.000\n",
            "Epoch 119/124.. Train loss: 10096973660911167635266266464256.000.. Val loss: 245056492334603115782391937892352.000.. Train L1 norm: 297995315548520.438.. Val L1 norm: 197068098895033.125.. Train Linf norm: 134324040653008720.000.. Val Linf norm: 58816580964423528.000\n",
            "Epoch 120/124.. Train loss: 8573312851009935818168698142720.000.. Val loss: 245056492334603115782391937892352.000.. Train L1 norm: 300550984121997.250.. Val L1 norm: 197068098895033.125.. Train Linf norm: 142089987319815680.000.. Val Linf norm: 58816580964423528.000\n",
            "Epoch 121/124.. Train loss: 9401459717754763224867420504064.000.. Val loss: 245056492334603115782391937892352.000.. Train L1 norm: 306615625451149.750.. Val L1 norm: 197068098895033.125.. Train Linf norm: 151380820095315104.000.. Val Linf norm: 58816580964423528.000\n",
            "Epoch 122/124.. Train loss: 9367959176642793889942042836992.000.. Val loss: 245056492334603115782391937892352.000.. Train L1 norm: 314907241533459.688.. Val L1 norm: 197068098895033.125.. Train Linf norm: 146813269341516832.000.. Val Linf norm: 58816580964423528.000\n",
            "Epoch 123/124.. Train loss: 10648489701541511642662203031552.000.. Val loss: 245056492334603115782391937892352.000.. Train L1 norm: 312195328630257.812.. Val L1 norm: 197068098895033.125.. Train Linf norm: 154045270156619712.000.. Val Linf norm: 58816580964423528.000\n"
          ]
        },
        {
          "output_type": "stream",
          "name": "stderr",
          "text": [
            "[I 2023-06-03 10:25:00,267] Trial 4 finished with value: 197068098895033.12 and parameters: {'n_layers': 6, 'n_units_0': 866, 'n_units_1': 2982, 'n_units_2': 2476, 'n_units_3': 3666, 'n_units_4': 2328, 'n_units_5': 1378, 'hidden_activation': 'LeakyReLU', 'output_activation': 'Linear', 'loss': 'MSE', 'optimizer': 'RMSprop', 'lr': 0.02239640495516038, 'batch_size': 1024, 'n_epochs': 124, 'scheduler': 'ReduceLROnPlateau', 'leakyrelu_slope': 0.23307172845120608, 'dropout_rate': 0.40131688917047714, 'factor': 0.2181396624108221, 'patience': 9, 'threshold': 0.0005138633433738833}. Best is trial 2 with value: 1.156466460164388.\n"
          ]
        },
        {
          "output_type": "stream",
          "name": "stdout",
          "text": [
            "Epoch 124/124.. Train loss: 11051327653910274370956878151680.000.. Val loss: 245056492334603115782391937892352.000.. Train L1 norm: 302963264422329.875.. Val L1 norm: 197068098895033.125.. Train Linf norm: 145487763492963168.000.. Val Linf norm: 58816580964423528.000\n"
          ]
        },
        {
          "output_type": "display_data",
          "data": {
            "text/html": [
              "<html>\n",
              "<head><meta charset=\"utf-8\" /></head>\n",
              "<body>\n",
              "    <div>            <script src=\"https://cdnjs.cloudflare.com/ajax/libs/mathjax/2.7.5/MathJax.js?config=TeX-AMS-MML_SVG\"></script><script type=\"text/javascript\">if (window.MathJax && window.MathJax.Hub && window.MathJax.Hub.Config) {window.MathJax.Hub.Config({SVG: {font: \"STIX-Web\"}});}</script>                <script type=\"text/javascript\">window.PlotlyConfig = {MathJaxConfig: 'local'};</script>\n",
              "        <script src=\"https://cdn.plot.ly/plotly-2.18.2.min.js\"></script>                <div id=\"1cb31b84-191c-4ef1-8932-c9042dc5fb55\" class=\"plotly-graph-div\" style=\"height:525px; width:100%;\"></div>            <script type=\"text/javascript\">                                    window.PLOTLYENV=window.PLOTLYENV || {};                                    if (document.getElementById(\"1cb31b84-191c-4ef1-8932-c9042dc5fb55\")) {                    Plotly.newPlot(                        \"1cb31b84-191c-4ef1-8932-c9042dc5fb55\",                        [{\"mode\":\"markers\",\"name\":\"Objective Value\",\"x\":[0,2,3,4],\"y\":[3.1759881306966147,1.156466460164388,2.3734971160888674,197068098895033.12],\"type\":\"scatter\"},{\"name\":\"Best Value\",\"x\":[0,2,3,4],\"y\":[3.1759881306966147,1.156466460164388,1.156466460164388,1.156466460164388],\"type\":\"scatter\"}],                        {\"title\":{\"text\":\"Optimization History Plot\"},\"xaxis\":{\"title\":{\"text\":\"Trial\"}},\"yaxis\":{\"title\":{\"text\":\"Objective Value\"}},\"template\":{\"data\":{\"histogram2dcontour\":[{\"type\":\"histogram2dcontour\",\"colorbar\":{\"outlinewidth\":0,\"ticks\":\"\"},\"colorscale\":[[0.0,\"#0d0887\"],[0.1111111111111111,\"#46039f\"],[0.2222222222222222,\"#7201a8\"],[0.3333333333333333,\"#9c179e\"],[0.4444444444444444,\"#bd3786\"],[0.5555555555555556,\"#d8576b\"],[0.6666666666666666,\"#ed7953\"],[0.7777777777777778,\"#fb9f3a\"],[0.8888888888888888,\"#fdca26\"],[1.0,\"#f0f921\"]]}],\"choropleth\":[{\"type\":\"choropleth\",\"colorbar\":{\"outlinewidth\":0,\"ticks\":\"\"}}],\"histogram2d\":[{\"type\":\"histogram2d\",\"colorbar\":{\"outlinewidth\":0,\"ticks\":\"\"},\"colorscale\":[[0.0,\"#0d0887\"],[0.1111111111111111,\"#46039f\"],[0.2222222222222222,\"#7201a8\"],[0.3333333333333333,\"#9c179e\"],[0.4444444444444444,\"#bd3786\"],[0.5555555555555556,\"#d8576b\"],[0.6666666666666666,\"#ed7953\"],[0.7777777777777778,\"#fb9f3a\"],[0.8888888888888888,\"#fdca26\"],[1.0,\"#f0f921\"]]}],\"heatmap\":[{\"type\":\"heatmap\",\"colorbar\":{\"outlinewidth\":0,\"ticks\":\"\"},\"colorscale\":[[0.0,\"#0d0887\"],[0.1111111111111111,\"#46039f\"],[0.2222222222222222,\"#7201a8\"],[0.3333333333333333,\"#9c179e\"],[0.4444444444444444,\"#bd3786\"],[0.5555555555555556,\"#d8576b\"],[0.6666666666666666,\"#ed7953\"],[0.7777777777777778,\"#fb9f3a\"],[0.8888888888888888,\"#fdca26\"],[1.0,\"#f0f921\"]]}],\"heatmapgl\":[{\"type\":\"heatmapgl\",\"colorbar\":{\"outlinewidth\":0,\"ticks\":\"\"},\"colorscale\":[[0.0,\"#0d0887\"],[0.1111111111111111,\"#46039f\"],[0.2222222222222222,\"#7201a8\"],[0.3333333333333333,\"#9c179e\"],[0.4444444444444444,\"#bd3786\"],[0.5555555555555556,\"#d8576b\"],[0.6666666666666666,\"#ed7953\"],[0.7777777777777778,\"#fb9f3a\"],[0.8888888888888888,\"#fdca26\"],[1.0,\"#f0f921\"]]}],\"contourcarpet\":[{\"type\":\"contourcarpet\",\"colorbar\":{\"outlinewidth\":0,\"ticks\":\"\"}}],\"contour\":[{\"type\":\"contour\",\"colorbar\":{\"outlinewidth\":0,\"ticks\":\"\"},\"colorscale\":[[0.0,\"#0d0887\"],[0.1111111111111111,\"#46039f\"],[0.2222222222222222,\"#7201a8\"],[0.3333333333333333,\"#9c179e\"],[0.4444444444444444,\"#bd3786\"],[0.5555555555555556,\"#d8576b\"],[0.6666666666666666,\"#ed7953\"],[0.7777777777777778,\"#fb9f3a\"],[0.8888888888888888,\"#fdca26\"],[1.0,\"#f0f921\"]]}],\"surface\":[{\"type\":\"surface\",\"colorbar\":{\"outlinewidth\":0,\"ticks\":\"\"},\"colorscale\":[[0.0,\"#0d0887\"],[0.1111111111111111,\"#46039f\"],[0.2222222222222222,\"#7201a8\"],[0.3333333333333333,\"#9c179e\"],[0.4444444444444444,\"#bd3786\"],[0.5555555555555556,\"#d8576b\"],[0.6666666666666666,\"#ed7953\"],[0.7777777777777778,\"#fb9f3a\"],[0.8888888888888888,\"#fdca26\"],[1.0,\"#f0f921\"]]}],\"mesh3d\":[{\"type\":\"mesh3d\",\"colorbar\":{\"outlinewidth\":0,\"ticks\":\"\"}}],\"scatter\":[{\"fillpattern\":{\"fillmode\":\"overlay\",\"size\":10,\"solidity\":0.2},\"type\":\"scatter\"}],\"parcoords\":[{\"type\":\"parcoords\",\"line\":{\"colorbar\":{\"outlinewidth\":0,\"ticks\":\"\"}}}],\"scatterpolargl\":[{\"type\":\"scatterpolargl\",\"marker\":{\"colorbar\":{\"outlinewidth\":0,\"ticks\":\"\"}}}],\"bar\":[{\"error_x\":{\"color\":\"#2a3f5f\"},\"error_y\":{\"color\":\"#2a3f5f\"},\"marker\":{\"line\":{\"color\":\"#E5ECF6\",\"width\":0.5},\"pattern\":{\"fillmode\":\"overlay\",\"size\":10,\"solidity\":0.2}},\"type\":\"bar\"}],\"scattergeo\":[{\"type\":\"scattergeo\",\"marker\":{\"colorbar\":{\"outlinewidth\":0,\"ticks\":\"\"}}}],\"scatterpolar\":[{\"type\":\"scatterpolar\",\"marker\":{\"colorbar\":{\"outlinewidth\":0,\"ticks\":\"\"}}}],\"histogram\":[{\"marker\":{\"pattern\":{\"fillmode\":\"overlay\",\"size\":10,\"solidity\":0.2}},\"type\":\"histogram\"}],\"scattergl\":[{\"type\":\"scattergl\",\"marker\":{\"colorbar\":{\"outlinewidth\":0,\"ticks\":\"\"}}}],\"scatter3d\":[{\"type\":\"scatter3d\",\"line\":{\"colorbar\":{\"outlinewidth\":0,\"ticks\":\"\"}},\"marker\":{\"colorbar\":{\"outlinewidth\":0,\"ticks\":\"\"}}}],\"scattermapbox\":[{\"type\":\"scattermapbox\",\"marker\":{\"colorbar\":{\"outlinewidth\":0,\"ticks\":\"\"}}}],\"scatterternary\":[{\"type\":\"scatterternary\",\"marker\":{\"colorbar\":{\"outlinewidth\":0,\"ticks\":\"\"}}}],\"scattercarpet\":[{\"type\":\"scattercarpet\",\"marker\":{\"colorbar\":{\"outlinewidth\":0,\"ticks\":\"\"}}}],\"carpet\":[{\"aaxis\":{\"endlinecolor\":\"#2a3f5f\",\"gridcolor\":\"white\",\"linecolor\":\"white\",\"minorgridcolor\":\"white\",\"startlinecolor\":\"#2a3f5f\"},\"baxis\":{\"endlinecolor\":\"#2a3f5f\",\"gridcolor\":\"white\",\"linecolor\":\"white\",\"minorgridcolor\":\"white\",\"startlinecolor\":\"#2a3f5f\"},\"type\":\"carpet\"}],\"table\":[{\"cells\":{\"fill\":{\"color\":\"#EBF0F8\"},\"line\":{\"color\":\"white\"}},\"header\":{\"fill\":{\"color\":\"#C8D4E3\"},\"line\":{\"color\":\"white\"}},\"type\":\"table\"}],\"barpolar\":[{\"marker\":{\"line\":{\"color\":\"#E5ECF6\",\"width\":0.5},\"pattern\":{\"fillmode\":\"overlay\",\"size\":10,\"solidity\":0.2}},\"type\":\"barpolar\"}],\"pie\":[{\"automargin\":true,\"type\":\"pie\"}]},\"layout\":{\"autotypenumbers\":\"strict\",\"colorway\":[\"#636efa\",\"#EF553B\",\"#00cc96\",\"#ab63fa\",\"#FFA15A\",\"#19d3f3\",\"#FF6692\",\"#B6E880\",\"#FF97FF\",\"#FECB52\"],\"font\":{\"color\":\"#2a3f5f\"},\"hovermode\":\"closest\",\"hoverlabel\":{\"align\":\"left\"},\"paper_bgcolor\":\"white\",\"plot_bgcolor\":\"#E5ECF6\",\"polar\":{\"bgcolor\":\"#E5ECF6\",\"angularaxis\":{\"gridcolor\":\"white\",\"linecolor\":\"white\",\"ticks\":\"\"},\"radialaxis\":{\"gridcolor\":\"white\",\"linecolor\":\"white\",\"ticks\":\"\"}},\"ternary\":{\"bgcolor\":\"#E5ECF6\",\"aaxis\":{\"gridcolor\":\"white\",\"linecolor\":\"white\",\"ticks\":\"\"},\"baxis\":{\"gridcolor\":\"white\",\"linecolor\":\"white\",\"ticks\":\"\"},\"caxis\":{\"gridcolor\":\"white\",\"linecolor\":\"white\",\"ticks\":\"\"}},\"coloraxis\":{\"colorbar\":{\"outlinewidth\":0,\"ticks\":\"\"}},\"colorscale\":{\"sequential\":[[0.0,\"#0d0887\"],[0.1111111111111111,\"#46039f\"],[0.2222222222222222,\"#7201a8\"],[0.3333333333333333,\"#9c179e\"],[0.4444444444444444,\"#bd3786\"],[0.5555555555555556,\"#d8576b\"],[0.6666666666666666,\"#ed7953\"],[0.7777777777777778,\"#fb9f3a\"],[0.8888888888888888,\"#fdca26\"],[1.0,\"#f0f921\"]],\"sequentialminus\":[[0.0,\"#0d0887\"],[0.1111111111111111,\"#46039f\"],[0.2222222222222222,\"#7201a8\"],[0.3333333333333333,\"#9c179e\"],[0.4444444444444444,\"#bd3786\"],[0.5555555555555556,\"#d8576b\"],[0.6666666666666666,\"#ed7953\"],[0.7777777777777778,\"#fb9f3a\"],[0.8888888888888888,\"#fdca26\"],[1.0,\"#f0f921\"]],\"diverging\":[[0,\"#8e0152\"],[0.1,\"#c51b7d\"],[0.2,\"#de77ae\"],[0.3,\"#f1b6da\"],[0.4,\"#fde0ef\"],[0.5,\"#f7f7f7\"],[0.6,\"#e6f5d0\"],[0.7,\"#b8e186\"],[0.8,\"#7fbc41\"],[0.9,\"#4d9221\"],[1,\"#276419\"]]},\"xaxis\":{\"gridcolor\":\"white\",\"linecolor\":\"white\",\"ticks\":\"\",\"title\":{\"standoff\":15},\"zerolinecolor\":\"white\",\"automargin\":true,\"zerolinewidth\":2},\"yaxis\":{\"gridcolor\":\"white\",\"linecolor\":\"white\",\"ticks\":\"\",\"title\":{\"standoff\":15},\"zerolinecolor\":\"white\",\"automargin\":true,\"zerolinewidth\":2},\"scene\":{\"xaxis\":{\"backgroundcolor\":\"#E5ECF6\",\"gridcolor\":\"white\",\"linecolor\":\"white\",\"showbackground\":true,\"ticks\":\"\",\"zerolinecolor\":\"white\",\"gridwidth\":2},\"yaxis\":{\"backgroundcolor\":\"#E5ECF6\",\"gridcolor\":\"white\",\"linecolor\":\"white\",\"showbackground\":true,\"ticks\":\"\",\"zerolinecolor\":\"white\",\"gridwidth\":2},\"zaxis\":{\"backgroundcolor\":\"#E5ECF6\",\"gridcolor\":\"white\",\"linecolor\":\"white\",\"showbackground\":true,\"ticks\":\"\",\"zerolinecolor\":\"white\",\"gridwidth\":2}},\"shapedefaults\":{\"line\":{\"color\":\"#2a3f5f\"}},\"annotationdefaults\":{\"arrowcolor\":\"#2a3f5f\",\"arrowhead\":0,\"arrowwidth\":1},\"geo\":{\"bgcolor\":\"white\",\"landcolor\":\"#E5ECF6\",\"subunitcolor\":\"white\",\"showland\":true,\"showlakes\":true,\"lakecolor\":\"white\"},\"title\":{\"x\":0.05},\"mapbox\":{\"style\":\"light\"}}}},                        {\"responsive\": true}                    ).then(function(){\n",
              "                            \n",
              "var gd = document.getElementById('1cb31b84-191c-4ef1-8932-c9042dc5fb55');\n",
              "var x = new MutationObserver(function (mutations, observer) {{\n",
              "        var display = window.getComputedStyle(gd).display;\n",
              "        if (!display || display === 'none') {{\n",
              "            console.log([gd, 'removed!']);\n",
              "            Plotly.purge(gd);\n",
              "            observer.disconnect();\n",
              "        }}\n",
              "}});\n",
              "\n",
              "// Listen for the removal of the full notebook cells\n",
              "var notebookContainer = gd.closest('#notebook-container');\n",
              "if (notebookContainer) {{\n",
              "    x.observe(notebookContainer, {childList: true});\n",
              "}}\n",
              "\n",
              "// Listen for the clearing of the current output cell\n",
              "var outputEl = gd.closest('.output');\n",
              "if (outputEl) {{\n",
              "    x.observe(outputEl, {childList: true});\n",
              "}}\n",
              "\n",
              "                        })                };                            </script>        </div>\n",
              "</body>\n",
              "</html>"
            ]
          },
          "metadata": {}
        },
        {
          "output_type": "stream",
          "name": "stderr",
          "text": [
            "[W 2023-06-03 10:25:00,678] Your study has only completed trials with missing parameters.\n",
            "<ipython-input-37-247d5052aadc>:44: FutureWarning:\n",
            "\n",
            "suggest_loguniform has been deprecated in v3.0.0. This feature will be removed in v6.0.0. See https://github.com/optuna/optuna/releases/tag/v3.0.0. Use suggest_float(..., log=True) instead.\n",
            "\n",
            "<ipython-input-37-247d5052aadc>:63: FutureWarning:\n",
            "\n",
            "suggest_uniform has been deprecated in v3.0.0. This feature will be removed in v6.0.0. See https://github.com/optuna/optuna/releases/tag/v3.0.0. Use suggest_float instead.\n",
            "\n",
            "<ipython-input-37-247d5052aadc>:76: FutureWarning:\n",
            "\n",
            "suggest_uniform has been deprecated in v3.0.0. This feature will be removed in v6.0.0. See https://github.com/optuna/optuna/releases/tag/v3.0.0. Use suggest_float instead.\n",
            "\n",
            "<ipython-input-37-247d5052aadc>:149: FutureWarning:\n",
            "\n",
            "suggest_loguniform has been deprecated in v3.0.0. This feature will be removed in v6.0.0. See https://github.com/optuna/optuna/releases/tag/v3.0.0. Use suggest_float(..., log=True) instead.\n",
            "\n",
            "<ipython-input-37-247d5052aadc>:150: FutureWarning:\n",
            "\n",
            "suggest_uniform has been deprecated in v3.0.0. This feature will be removed in v6.0.0. See https://github.com/optuna/optuna/releases/tag/v3.0.0. Use suggest_float instead.\n",
            "\n",
            "<ipython-input-37-247d5052aadc>:151: FutureWarning:\n",
            "\n",
            "suggest_uniform has been deprecated in v3.0.0. This feature will be removed in v6.0.0. See https://github.com/optuna/optuna/releases/tag/v3.0.0. Use suggest_float instead.\n",
            "\n",
            "<ipython-input-37-247d5052aadc>:178: FutureWarning:\n",
            "\n",
            "suggest_uniform has been deprecated in v3.0.0. This feature will be removed in v6.0.0. See https://github.com/optuna/optuna/releases/tag/v3.0.0. Use suggest_float instead.\n",
            "\n",
            "<ipython-input-37-247d5052aadc>:180: FutureWarning:\n",
            "\n",
            "suggest_loguniform has been deprecated in v3.0.0. This feature will be removed in v6.0.0. See https://github.com/optuna/optuna/releases/tag/v3.0.0. Use suggest_float(..., log=True) instead.\n",
            "\n"
          ]
        },
        {
          "output_type": "stream",
          "name": "stdout",
          "text": [
            "Epoch 1/131.. Train loss: 343396275.285.. Val loss: 225867912.012.. Train L1 norm: 1209.970.. Val L1 norm: 306.464.. Train Linf norm: 25337.091.. Val Linf norm: 5651.170\n",
            "Epoch 2/131.. Train loss: 1646746.077.. Val loss: 22574.370.. Train L1 norm: 86.435.. Val L1 norm: 13.603.. Train Linf norm: 1821.383.. Val Linf norm: 271.212\n",
            "Epoch 3/131.. Train loss: 471991.115.. Val loss: 201100.973.. Train L1 norm: 74.212.. Val L1 norm: 36.466.. Train Linf norm: 1768.408.. Val Linf norm: 760.288\n",
            "Epoch 4/131.. Train loss: 524043.064.. Val loss: 1622006.141.. Train L1 norm: 63.658.. Val L1 norm: 24.187.. Train Linf norm: 1439.189.. Val Linf norm: 466.801\n",
            "Epoch 5/131.. Train loss: 1148467.305.. Val loss: 38226.288.. Train L1 norm: 78.110.. Val L1 norm: 12.683.. Train Linf norm: 1626.720.. Val Linf norm: 246.537\n",
            "Epoch 6/131.. Train loss: 339490.109.. Val loss: 186296.609.. Train L1 norm: 45.685.. Val L1 norm: 14.853.. Train Linf norm: 1041.554.. Val Linf norm: 283.961\n",
            "Epoch 7/131.. Train loss: 20493.121.. Val loss: 337.812.. Train L1 norm: 18.953.. Val L1 norm: 3.077.. Train Linf norm: 496.871.. Val Linf norm: 53.315\n",
            "Epoch 8/131.. Train loss: 2325.336.. Val loss: 19113.635.. Train L1 norm: 5.258.. Val L1 norm: 4.794.. Train Linf norm: 106.729.. Val Linf norm: 89.337\n",
            "Epoch 9/131.. Train loss: 2551.718.. Val loss: 3653.437.. Train L1 norm: 7.217.. Val L1 norm: 4.850.. Train Linf norm: 160.912.. Val Linf norm: 92.856\n",
            "Epoch 10/131.. Train loss: 846.737.. Val loss: 1875.472.. Train L1 norm: 5.007.. Val L1 norm: 1.565.. Train Linf norm: 112.437.. Val Linf norm: 17.676\n",
            "Epoch 11/131.. Train loss: 139.152.. Val loss: 119.829.. Train L1 norm: 2.850.. Val L1 norm: 2.816.. Train Linf norm: 51.162.. Val Linf norm: 47.589\n",
            "Epoch 12/131.. Train loss: 328.182.. Val loss: 306.324.. Train L1 norm: 4.013.. Val L1 norm: 2.710.. Train Linf norm: 81.148.. Val Linf norm: 45.565\n",
            "Epoch 13/131.. Train loss: 35080956664885.707.. Val loss: 909005542846.259.. Train L1 norm: 461431.868.. Val L1 norm: 27571.684.. Train Linf norm: 11056332.274.. Val Linf norm: 568459.243\n",
            "Epoch 14/131.. Train loss: 1656247670441.216.. Val loss: 17004266660.070.. Train L1 norm: 70844.602.. Val L1 norm: 6790.932.. Train Linf norm: 1635248.183.. Val Linf norm: 152274.764\n",
            "Epoch 15/131.. Train loss: 48572699486.863.. Val loss: 285169486174.020.. Train L1 norm: 25907.963.. Val L1 norm: 9012.506.. Train Linf norm: 594407.064.. Val Linf norm: 171311.026\n",
            "Epoch 16/131.. Train loss: 99539987885.041.. Val loss: 207772869791.855.. Train L1 norm: 33046.112.. Val L1 norm: 8715.867.. Train Linf norm: 795518.073.. Val Linf norm: 159981.772\n",
            "Epoch 17/131.. Train loss: 21017210781.211.. Val loss: 13807595935.147.. Train L1 norm: 16842.967.. Val L1 norm: 4313.510.. Train Linf norm: 374313.336.. Val Linf norm: 83099.159\n",
            "Epoch 18/131.. Train loss: 2783542509.914.. Val loss: 40504156970.976.. Train L1 norm: 7371.542.. Val L1 norm: 3828.009.. Train Linf norm: 170227.438.. Val Linf norm: 70146.339\n",
            "Epoch 19/131.. Train loss: 2956806708.810.. Val loss: 6697158571.160.. Train L1 norm: 5882.383.. Val L1 norm: 1292.017.. Train Linf norm: 132669.337.. Val Linf norm: 23894.825\n",
            "Epoch 20/131.. Train loss: 1590410016.360.. Val loss: 628412325.527.. Train L1 norm: 8967.223.. Val L1 norm: 1575.071.. Train Linf norm: 225264.399.. Val Linf norm: 31752.868\n",
            "Epoch 21/131.. Train loss: 1552077277.001.. Val loss: 1206848066.878.. Train L1 norm: 4521.650.. Val L1 norm: 940.266.. Train Linf norm: 109847.834.. Val Linf norm: 19158.095\n",
            "Epoch 22/131.. Train loss: 1779685933.086.. Val loss: 570929573.052.. Train L1 norm: 4324.631.. Val L1 norm: 809.218.. Train Linf norm: 107503.754.. Val Linf norm: 17736.691\n",
            "Epoch 23/131.. Train loss: 779142133.303.. Val loss: 600385761.159.. Train L1 norm: 2469.783.. Val L1 norm: 870.408.. Train Linf norm: 58449.690.. Val Linf norm: 16618.547\n",
            "Epoch 24/131.. Train loss: 130418801.127.. Val loss: 26385713.995.. Train L1 norm: 2537.123.. Val L1 norm: 558.937.. Train Linf norm: 63708.331.. Val Linf norm: 10389.106\n",
            "Epoch 25/131.. Train loss: 4102585870.948.. Val loss: 1414520496.943.. Train L1 norm: 4887.432.. Val L1 norm: 859.919.. Train Linf norm: 112096.729.. Val Linf norm: 17458.543\n",
            "Epoch 26/131.. Train loss: 382791951.733.. Val loss: 59829435.418.. Train L1 norm: 1829.122.. Val L1 norm: 987.075.. Train Linf norm: 41787.239.. Val Linf norm: 19706.785\n",
            "Epoch 27/131.. Train loss: 145206974.764.. Val loss: 4199420.471.. Train L1 norm: 1820.040.. Val L1 norm: 638.561.. Train Linf norm: 42944.904.. Val Linf norm: 12936.193\n",
            "Epoch 28/131.. Train loss: 231315447.981.. Val loss: 10847180.959.. Train L1 norm: 1892.225.. Val L1 norm: 626.375.. Train Linf norm: 47583.524.. Val Linf norm: 12618.711\n",
            "Epoch 29/131.. Train loss: 215111736.987.. Val loss: 232809063.315.. Train L1 norm: 1347.575.. Val L1 norm: 391.872.. Train Linf norm: 31387.147.. Val Linf norm: 7753.774\n",
            "Epoch 30/131.. Train loss: 77378036.423.. Val loss: 38747220.104.. Train L1 norm: 704.442.. Val L1 norm: 138.793.. Train Linf norm: 16908.626.. Val Linf norm: 2838.948\n",
            "Epoch 31/131.. Train loss: 80182033.525.. Val loss: 8508907.252.. Train L1 norm: 725.991.. Val L1 norm: 182.788.. Train Linf norm: 16888.778.. Val Linf norm: 4045.192\n",
            "Epoch 32/131.. Train loss: 12476589.999.. Val loss: 235119839.509.. Train L1 norm: 461.985.. Val L1 norm: 530.093.. Train Linf norm: 10497.583.. Val Linf norm: 10145.149\n",
            "Epoch 33/131.. Train loss: 26697191.060.. Val loss: 57330093.847.. Train L1 norm: 558.989.. Val L1 norm: 280.948.. Train Linf norm: 12911.535.. Val Linf norm: 5618.632\n",
            "Epoch 34/131.. Train loss: 11948653.198.. Val loss: 644390.808.. Train L1 norm: 449.333.. Val L1 norm: 144.692.. Train Linf norm: 10237.641.. Val Linf norm: 2993.747\n",
            "Epoch 35/131.. Train loss: 26892907.753.. Val loss: 15504623.090.. Train L1 norm: 430.860.. Val L1 norm: 90.575.. Train Linf norm: 10333.878.. Val Linf norm: 1789.825\n",
            "Epoch 36/131.. Train loss: 6718074.322.. Val loss: 1921933.145.. Train L1 norm: 348.033.. Val L1 norm: 86.139.. Train Linf norm: 8753.902.. Val Linf norm: 1746.260\n",
            "Epoch 37/131.. Train loss: 4325277.566.. Val loss: 53899415.625.. Train L1 norm: 322.506.. Val L1 norm: 107.518.. Train Linf norm: 8254.934.. Val Linf norm: 2043.722\n",
            "Epoch 38/131.. Train loss: 2414918.368.. Val loss: 20314003.827.. Train L1 norm: 233.756.. Val L1 norm: 55.293.. Train Linf norm: 5718.062.. Val Linf norm: 1092.340\n",
            "Epoch 39/131.. Train loss: 7580672.073.. Val loss: 13374041.252.. Train L1 norm: 172.316.. Val L1 norm: 63.674.. Train Linf norm: 3900.640.. Val Linf norm: 1188.472\n",
            "Epoch 40/131.. Train loss: 3381191.046.. Val loss: 10866463.252.. Train L1 norm: 171.442.. Val L1 norm: 51.272.. Train Linf norm: 3818.230.. Val Linf norm: 944.566\n",
            "Epoch 41/131.. Train loss: 1936211.793.. Val loss: 4274656.574.. Train L1 norm: 153.832.. Val L1 norm: 29.170.. Train Linf norm: 3482.241.. Val Linf norm: 563.690\n",
            "Epoch 42/131.. Train loss: 1874678.709.. Val loss: 2545590.382.. Train L1 norm: 154.250.. Val L1 norm: 26.177.. Train Linf norm: 3664.912.. Val Linf norm: 534.770\n",
            "Epoch 43/131.. Train loss: 943951.057.. Val loss: 4268719.471.. Train L1 norm: 144.827.. Val L1 norm: 45.032.. Train Linf norm: 3431.272.. Val Linf norm: 826.499\n",
            "Epoch 44/131.. Train loss: 1556517.701.. Val loss: 413307.849.. Train L1 norm: 131.782.. Val L1 norm: 18.691.. Train Linf norm: 3139.414.. Val Linf norm: 368.733\n",
            "Epoch 45/131.. Train loss: 910466.495.. Val loss: 5093040.998.. Train L1 norm: 108.402.. Val L1 norm: 30.626.. Train Linf norm: 2444.889.. Val Linf norm: 563.076\n",
            "Epoch 46/131.. Train loss: 498479.868.. Val loss: 5091891.131.. Train L1 norm: 125.406.. Val L1 norm: 36.417.. Train Linf norm: 3070.088.. Val Linf norm: 674.785\n",
            "Epoch 47/131.. Train loss: 1702642.487.. Val loss: 3768051.736.. Train L1 norm: 118.170.. Val L1 norm: 25.907.. Train Linf norm: 2873.113.. Val Linf norm: 479.160\n",
            "Epoch 48/131.. Train loss: 1381041.516.. Val loss: 3340923.144.. Train L1 norm: 109.652.. Val L1 norm: 27.663.. Train Linf norm: 2644.261.. Val Linf norm: 501.465\n",
            "Epoch 49/131.. Train loss: 5293762.215.. Val loss: 2732746.122.. Train L1 norm: 119.566.. Val L1 norm: 22.126.. Train Linf norm: 2967.611.. Val Linf norm: 407.841\n",
            "Epoch 50/131.. Train loss: 869522.675.. Val loss: 3555684.018.. Train L1 norm: 214.177.. Val L1 norm: 25.498.. Train Linf norm: 6028.540.. Val Linf norm: 467.645\n",
            "Epoch 51/131.. Train loss: 3036637.673.. Val loss: 1422455.381.. Train L1 norm: 106.595.. Val L1 norm: 21.917.. Train Linf norm: 2494.801.. Val Linf norm: 399.832\n",
            "Epoch 52/131.. Train loss: 940873.333.. Val loss: 1959971.504.. Train L1 norm: 93.543.. Val L1 norm: 22.611.. Train Linf norm: 2195.483.. Val Linf norm: 412.165\n",
            "Epoch 53/131.. Train loss: 421809.677.. Val loss: 2700262.947.. Train L1 norm: 105.667.. Val L1 norm: 27.228.. Train Linf norm: 2605.785.. Val Linf norm: 493.302\n",
            "Epoch 54/131.. Train loss: 837806.532.. Val loss: 3430619.313.. Train L1 norm: 83.463.. Val L1 norm: 26.036.. Train Linf norm: 1885.855.. Val Linf norm: 474.658\n",
            "Epoch 55/131.. Train loss: 374180.481.. Val loss: 3678770.806.. Train L1 norm: 96.543.. Val L1 norm: 27.082.. Train Linf norm: 2302.422.. Val Linf norm: 495.239\n",
            "Epoch 56/131.. Train loss: 570526.035.. Val loss: 3937534.164.. Train L1 norm: 81.767.. Val L1 norm: 28.328.. Train Linf norm: 1866.961.. Val Linf norm: 518.604\n",
            "Epoch 57/131.. Train loss: 584871.268.. Val loss: 4498627.104.. Train L1 norm: 105.916.. Val L1 norm: 32.804.. Train Linf norm: 2614.316.. Val Linf norm: 604.896\n",
            "Epoch 58/131.. Train loss: 1143403.556.. Val loss: 4393582.641.. Train L1 norm: 111.426.. Val L1 norm: 32.705.. Train Linf norm: 2783.422.. Val Linf norm: 604.626\n",
            "Epoch 59/131.. Train loss: 1294073.098.. Val loss: 2995422.854.. Train L1 norm: 90.160.. Val L1 norm: 26.068.. Train Linf norm: 2089.388.. Val Linf norm: 484.269\n",
            "Epoch 60/131.. Train loss: 719230.077.. Val loss: 3350996.619.. Train L1 norm: 90.171.. Val L1 norm: 27.938.. Train Linf norm: 2112.663.. Val Linf norm: 520.942\n",
            "Epoch 61/131.. Train loss: 620704.631.. Val loss: 3910095.636.. Train L1 norm: 120.221.. Val L1 norm: 31.210.. Train Linf norm: 3067.939.. Val Linf norm: 581.218\n",
            "Epoch 62/131.. Train loss: 599951.560.. Val loss: 3847825.695.. Train L1 norm: 96.394.. Val L1 norm: 31.340.. Train Linf norm: 2307.535.. Val Linf norm: 583.647\n",
            "Epoch 63/131.. Train loss: 875882.224.. Val loss: 3673900.439.. Train L1 norm: 97.521.. Val L1 norm: 30.558.. Train Linf norm: 2347.978.. Val Linf norm: 568.145\n",
            "Epoch 64/131.. Train loss: 435755.090.. Val loss: 3737222.378.. Train L1 norm: 84.138.. Val L1 norm: 31.197.. Train Linf norm: 1928.653.. Val Linf norm: 580.270\n",
            "Epoch 65/131.. Train loss: 921628.158.. Val loss: 3676053.091.. Train L1 norm: 87.195.. Val L1 norm: 31.292.. Train Linf norm: 2040.914.. Val Linf norm: 582.256\n",
            "Epoch 66/131.. Train loss: 590945.978.. Val loss: 3389416.003.. Train L1 norm: 116.070.. Val L1 norm: 29.461.. Train Linf norm: 2954.725.. Val Linf norm: 548.308\n",
            "Epoch 67/131.. Train loss: 989486.849.. Val loss: 3248493.326.. Train L1 norm: 90.628.. Val L1 norm: 28.648.. Train Linf norm: 2138.368.. Val Linf norm: 533.483\n",
            "Epoch 68/131.. Train loss: 957100.605.. Val loss: 3267740.371.. Train L1 norm: 75.944.. Val L1 norm: 28.759.. Train Linf norm: 1663.631.. Val Linf norm: 535.066\n",
            "Epoch 69/131.. Train loss: 272171.843.. Val loss: 3253668.647.. Train L1 norm: 77.310.. Val L1 norm: 28.684.. Train Linf norm: 1734.638.. Val Linf norm: 533.564\n",
            "Epoch 70/131.. Train loss: 2506755.497.. Val loss: 3158779.285.. Train L1 norm: 93.852.. Val L1 norm: 28.201.. Train Linf norm: 2244.361.. Val Linf norm: 524.276\n",
            "Epoch 71/131.. Train loss: 468154.958.. Val loss: 3214659.196.. Train L1 norm: 77.343.. Val L1 norm: 28.556.. Train Linf norm: 1727.450.. Val Linf norm: 530.876\n",
            "Epoch 72/131.. Train loss: 570486.979.. Val loss: 3192167.837.. Train L1 norm: 72.110.. Val L1 norm: 28.365.. Train Linf norm: 1555.009.. Val Linf norm: 527.295\n",
            "Epoch 73/131.. Train loss: 490897.332.. Val loss: 3191762.008.. Train L1 norm: 80.004.. Val L1 norm: 28.534.. Train Linf norm: 1801.716.. Val Linf norm: 530.712\n",
            "Epoch 74/131.. Train loss: 790997.819.. Val loss: 3243849.302.. Train L1 norm: 76.650.. Val L1 norm: 28.936.. Train Linf norm: 1687.049.. Val Linf norm: 538.173\n",
            "Epoch 75/131.. Train loss: 430813.270.. Val loss: 3244100.002.. Train L1 norm: 99.403.. Val L1 norm: 28.953.. Train Linf norm: 2435.121.. Val Linf norm: 538.487\n",
            "Epoch 76/131.. Train loss: 263265.890.. Val loss: 3194182.372.. Train L1 norm: 92.932.. Val L1 norm: 28.705.. Train Linf norm: 2232.919.. Val Linf norm: 533.881\n",
            "Epoch 77/131.. Train loss: 392727.136.. Val loss: 3207896.879.. Train L1 norm: 91.312.. Val L1 norm: 28.820.. Train Linf norm: 2175.780.. Val Linf norm: 536.035\n",
            "Epoch 78/131.. Train loss: 449583.861.. Val loss: 3177640.418.. Train L1 norm: 99.722.. Val L1 norm: 28.663.. Train Linf norm: 2448.671.. Val Linf norm: 533.232\n",
            "Epoch 79/131.. Train loss: 146975.412.. Val loss: 3179742.268.. Train L1 norm: 78.899.. Val L1 norm: 28.676.. Train Linf norm: 1789.883.. Val Linf norm: 533.505\n",
            "Epoch 80/131.. Train loss: 1434941.678.. Val loss: 3163022.389.. Train L1 norm: 87.587.. Val L1 norm: 28.624.. Train Linf norm: 2060.907.. Val Linf norm: 532.493\n",
            "Epoch 81/131.. Train loss: 655061.313.. Val loss: 3150970.956.. Train L1 norm: 96.536.. Val L1 norm: 28.579.. Train Linf norm: 2332.983.. Val Linf norm: 531.620\n",
            "Epoch 82/131.. Train loss: 1056727.139.. Val loss: 3133208.579.. Train L1 norm: 92.177.. Val L1 norm: 28.441.. Train Linf norm: 2219.949.. Val Linf norm: 529.035\n",
            "Epoch 83/131.. Train loss: 3156785.354.. Val loss: 3133731.242.. Train L1 norm: 81.727.. Val L1 norm: 28.455.. Train Linf norm: 1866.511.. Val Linf norm: 529.289\n",
            "Epoch 84/131.. Train loss: 570777.349.. Val loss: 3127681.842.. Train L1 norm: 88.334.. Val L1 norm: 28.410.. Train Linf norm: 2059.551.. Val Linf norm: 528.424\n",
            "Epoch 85/131.. Train loss: 682547.734.. Val loss: 3129889.377.. Train L1 norm: 101.226.. Val L1 norm: 28.443.. Train Linf norm: 2503.479.. Val Linf norm: 529.036\n",
            "Epoch 86/131.. Train loss: 559364.700.. Val loss: 3115681.393.. Train L1 norm: 77.062.. Val L1 norm: 28.349.. Train Linf norm: 1722.816.. Val Linf norm: 527.285\n",
            "Epoch 87/131.. Train loss: 479084.913.. Val loss: 3122486.568.. Train L1 norm: 80.418.. Val L1 norm: 28.393.. Train Linf norm: 1833.738.. Val Linf norm: 528.174\n",
            "Epoch 88/131.. Train loss: 1774636.140.. Val loss: 3138375.600.. Train L1 norm: 91.407.. Val L1 norm: 28.497.. Train Linf norm: 2186.354.. Val Linf norm: 530.111\n",
            "Epoch 89/131.. Train loss: 392248.756.. Val loss: 3138054.335.. Train L1 norm: 83.276.. Val L1 norm: 28.495.. Train Linf norm: 1932.443.. Val Linf norm: 530.068\n",
            "Epoch 90/131.. Train loss: 721168.956.. Val loss: 3136447.596.. Train L1 norm: 89.423.. Val L1 norm: 28.487.. Train Linf norm: 2113.749.. Val Linf norm: 529.948\n",
            "Epoch 91/131.. Train loss: 561029.217.. Val loss: 3135264.052.. Train L1 norm: 101.912.. Val L1 norm: 28.483.. Train Linf norm: 2525.992.. Val Linf norm: 529.883\n",
            "Epoch 92/131.. Train loss: 190882.399.. Val loss: 3135350.427.. Train L1 norm: 118.081.. Val L1 norm: 28.489.. Train Linf norm: 3004.185.. Val Linf norm: 529.993\n",
            "Epoch 93/131.. Train loss: 482820.944.. Val loss: 3143983.564.. Train L1 norm: 80.810.. Val L1 norm: 28.541.. Train Linf norm: 1851.184.. Val Linf norm: 530.926\n",
            "Epoch 94/131.. Train loss: 838757.814.. Val loss: 3149480.104.. Train L1 norm: 90.838.. Val L1 norm: 28.588.. Train Linf norm: 2179.115.. Val Linf norm: 531.827\n",
            "Epoch 95/131.. Train loss: 536333.832.. Val loss: 3153387.336.. Train L1 norm: 79.373.. Val L1 norm: 28.622.. Train Linf norm: 1808.563.. Val Linf norm: 532.464\n",
            "Epoch 96/131.. Train loss: 727874.468.. Val loss: 3153386.101.. Train L1 norm: 77.804.. Val L1 norm: 28.623.. Train Linf norm: 1753.119.. Val Linf norm: 532.464\n",
            "Epoch 97/131.. Train loss: 524166.339.. Val loss: 3152808.358.. Train L1 norm: 87.851.. Val L1 norm: 28.617.. Train Linf norm: 2079.050.. Val Linf norm: 532.352\n",
            "Epoch 98/131.. Train loss: 4578009.267.. Val loss: 3155169.369.. Train L1 norm: 89.523.. Val L1 norm: 28.632.. Train Linf norm: 2123.459.. Val Linf norm: 532.633\n",
            "Epoch 99/131.. Train loss: 654952.289.. Val loss: 3155347.127.. Train L1 norm: 91.595.. Val L1 norm: 28.633.. Train Linf norm: 2170.934.. Val Linf norm: 532.648\n",
            "Epoch 100/131.. Train loss: 610096.638.. Val loss: 3154427.011.. Train L1 norm: 101.596.. Val L1 norm: 28.627.. Train Linf norm: 2515.444.. Val Linf norm: 532.546\n",
            "Epoch 101/131.. Train loss: 1141873.950.. Val loss: 3154234.983.. Train L1 norm: 70.150.. Val L1 norm: 28.626.. Train Linf norm: 1511.769.. Val Linf norm: 532.520\n",
            "Epoch 102/131.. Train loss: 597720.791.. Val loss: 3153658.360.. Train L1 norm: 89.028.. Val L1 norm: 28.621.. Train Linf norm: 2113.072.. Val Linf norm: 532.425\n",
            "Epoch 103/131.. Train loss: 963157.821.. Val loss: 3154088.062.. Train L1 norm: 84.137.. Val L1 norm: 28.625.. Train Linf norm: 1964.305.. Val Linf norm: 532.478\n",
            "Epoch 104/131.. Train loss: 500574.340.. Val loss: 3153349.255.. Train L1 norm: 93.997.. Val L1 norm: 28.621.. Train Linf norm: 2251.747.. Val Linf norm: 532.410\n",
            "Epoch 105/131.. Train loss: 1166255.882.. Val loss: 3152941.681.. Train L1 norm: 78.496.. Val L1 norm: 28.619.. Train Linf norm: 1777.344.. Val Linf norm: 532.372\n",
            "Epoch 106/131.. Train loss: 689926.813.. Val loss: 3152912.518.. Train L1 norm: 108.089.. Val L1 norm: 28.622.. Train Linf norm: 2704.620.. Val Linf norm: 532.428\n",
            "Epoch 107/131.. Train loss: 272316.957.. Val loss: 3154392.953.. Train L1 norm: 80.988.. Val L1 norm: 28.631.. Train Linf norm: 1849.530.. Val Linf norm: 532.592\n",
            "Epoch 108/131.. Train loss: 438603.404.. Val loss: 3150490.876.. Train L1 norm: 81.991.. Val L1 norm: 28.607.. Train Linf norm: 1876.634.. Val Linf norm: 532.145\n",
            "Epoch 109/131.. Train loss: 1080967.583.. Val loss: 3150767.100.. Train L1 norm: 117.497.. Val L1 norm: 28.608.. Train Linf norm: 3032.925.. Val Linf norm: 532.156\n",
            "Epoch 110/131.. Train loss: 598466.358.. Val loss: 3150272.476.. Train L1 norm: 92.687.. Val L1 norm: 28.606.. Train Linf norm: 2211.504.. Val Linf norm: 532.119\n",
            "Epoch 111/131.. Train loss: 518999.694.. Val loss: 3149144.277.. Train L1 norm: 104.315.. Val L1 norm: 28.601.. Train Linf norm: 2613.301.. Val Linf norm: 532.017\n",
            "Epoch 112/131.. Train loss: 557563.127.. Val loss: 3149108.493.. Train L1 norm: 100.524.. Val L1 norm: 28.602.. Train Linf norm: 2473.247.. Val Linf norm: 532.046\n",
            "Epoch 113/131.. Train loss: 535645.603.. Val loss: 3148036.519.. Train L1 norm: 94.960.. Val L1 norm: 28.596.. Train Linf norm: 2301.383.. Val Linf norm: 531.925\n",
            "Epoch 114/131.. Train loss: 630854.218.. Val loss: 3147127.838.. Train L1 norm: 72.812.. Val L1 norm: 28.590.. Train Linf norm: 1585.081.. Val Linf norm: 531.816\n",
            "Epoch 115/131.. Train loss: 397321.938.. Val loss: 3146913.410.. Train L1 norm: 81.184.. Val L1 norm: 28.588.. Train Linf norm: 1854.057.. Val Linf norm: 531.790\n",
            "Epoch 116/131.. Train loss: 644689.956.. Val loss: 3147829.544.. Train L1 norm: 99.840.. Val L1 norm: 28.596.. Train Linf norm: 2458.099.. Val Linf norm: 531.944\n",
            "Epoch 117/131.. Train loss: 392943.099.. Val loss: 3148702.597.. Train L1 norm: 75.083.. Val L1 norm: 28.603.. Train Linf norm: 1668.121.. Val Linf norm: 532.070\n",
            "Epoch 118/131.. Train loss: 676297.740.. Val loss: 3149122.252.. Train L1 norm: 88.729.. Val L1 norm: 28.606.. Train Linf norm: 2100.568.. Val Linf norm: 532.105\n",
            "Epoch 119/131.. Train loss: 671458.509.. Val loss: 3148781.604.. Train L1 norm: 84.135.. Val L1 norm: 28.605.. Train Linf norm: 1949.233.. Val Linf norm: 532.079\n",
            "Epoch 120/131.. Train loss: 567189.511.. Val loss: 3148636.975.. Train L1 norm: 95.178.. Val L1 norm: 28.603.. Train Linf norm: 2311.824.. Val Linf norm: 532.047\n",
            "Epoch 121/131.. Train loss: 1603436.400.. Val loss: 3150115.059.. Train L1 norm: 95.443.. Val L1 norm: 28.615.. Train Linf norm: 2309.878.. Val Linf norm: 532.277\n",
            "Epoch 122/131.. Train loss: 1005998.967.. Val loss: 3149862.669.. Train L1 norm: 99.210.. Val L1 norm: 28.615.. Train Linf norm: 2428.871.. Val Linf norm: 532.284\n",
            "Epoch 123/131.. Train loss: 504502.226.. Val loss: 3149487.102.. Train L1 norm: 84.490.. Val L1 norm: 28.613.. Train Linf norm: 1968.882.. Val Linf norm: 532.239\n",
            "Epoch 124/131.. Train loss: 419055.082.. Val loss: 3148094.524.. Train L1 norm: 83.050.. Val L1 norm: 28.606.. Train Linf norm: 1908.106.. Val Linf norm: 532.102\n",
            "Epoch 125/131.. Train loss: 281513.695.. Val loss: 3148208.422.. Train L1 norm: 97.763.. Val L1 norm: 28.607.. Train Linf norm: 2396.529.. Val Linf norm: 532.125\n",
            "Epoch 126/131.. Train loss: 325084.478.. Val loss: 3147657.735.. Train L1 norm: 90.421.. Val L1 norm: 28.603.. Train Linf norm: 2152.429.. Val Linf norm: 532.052\n",
            "Epoch 127/131.. Train loss: 802571.974.. Val loss: 3148261.934.. Train L1 norm: 76.798.. Val L1 norm: 28.608.. Train Linf norm: 1734.739.. Val Linf norm: 532.132\n",
            "Epoch 128/131.. Train loss: 499866.729.. Val loss: 3149904.038.. Train L1 norm: 94.099.. Val L1 norm: 28.620.. Train Linf norm: 2275.354.. Val Linf norm: 532.364\n",
            "Epoch 129/131.. Train loss: 305803.716.. Val loss: 3150718.341.. Train L1 norm: 71.016.. Val L1 norm: 28.628.. Train Linf norm: 1524.144.. Val Linf norm: 532.507\n",
            "Epoch 130/131.. Train loss: 282531.509.. Val loss: 3150443.741.. Train L1 norm: 83.629.. Val L1 norm: 28.630.. Train Linf norm: 1940.779.. Val Linf norm: 532.537\n"
          ]
        },
        {
          "output_type": "stream",
          "name": "stderr",
          "text": [
            "[I 2023-06-03 11:11:02,121] Trial 5 finished with value: 28.626712099456785 and parameters: {'n_layers': 5, 'n_units_0': 4033, 'n_units_1': 2267, 'n_units_2': 629, 'n_units_3': 2475, 'n_units_4': 1079, 'hidden_activation': 'PReLU', 'output_activation': 'Linear', 'loss': 'MSE', 'optimizer': 'Adam', 'lr': 0.0012848896898531243, 'batch_size': 32, 'n_epochs': 131, 'scheduler': 'ReduceLROnPlateau', 'prelu_init': 0.2893049645269229, 'dropout_rate': 0.0949623451999066, 'weight_decay': 0.00020850022793614262, 'beta1': 0.9374786489766106, 'beta2': 0.9994075188602136, 'factor': 0.36387871333350397, 'patience': 6, 'threshold': 0.005252737624172574}. Best is trial 2 with value: 1.156466460164388.\n"
          ]
        },
        {
          "output_type": "stream",
          "name": "stdout",
          "text": [
            "Epoch 131/131.. Train loss: 184207.361.. Val loss: 3149977.668.. Train L1 norm: 81.478.. Val L1 norm: 28.627.. Train Linf norm: 1840.011.. Val Linf norm: 532.489\n"
          ]
        },
        {
          "output_type": "display_data",
          "data": {
            "text/html": [
              "<html>\n",
              "<head><meta charset=\"utf-8\" /></head>\n",
              "<body>\n",
              "    <div>            <script src=\"https://cdnjs.cloudflare.com/ajax/libs/mathjax/2.7.5/MathJax.js?config=TeX-AMS-MML_SVG\"></script><script type=\"text/javascript\">if (window.MathJax && window.MathJax.Hub && window.MathJax.Hub.Config) {window.MathJax.Hub.Config({SVG: {font: \"STIX-Web\"}});}</script>                <script type=\"text/javascript\">window.PlotlyConfig = {MathJaxConfig: 'local'};</script>\n",
              "        <script src=\"https://cdn.plot.ly/plotly-2.18.2.min.js\"></script>                <div id=\"fa54646e-a2c1-47b9-9650-56a1adec071d\" class=\"plotly-graph-div\" style=\"height:525px; width:100%;\"></div>            <script type=\"text/javascript\">                                    window.PLOTLYENV=window.PLOTLYENV || {};                                    if (document.getElementById(\"fa54646e-a2c1-47b9-9650-56a1adec071d\")) {                    Plotly.newPlot(                        \"fa54646e-a2c1-47b9-9650-56a1adec071d\",                        [{\"mode\":\"markers\",\"name\":\"Objective Value\",\"x\":[0,2,3,4,5],\"y\":[3.1759881306966147,1.156466460164388,2.3734971160888674,197068098895033.12,28.626712099456785],\"type\":\"scatter\"},{\"name\":\"Best Value\",\"x\":[0,2,3,4,5],\"y\":[3.1759881306966147,1.156466460164388,1.156466460164388,1.156466460164388,1.156466460164388],\"type\":\"scatter\"}],                        {\"title\":{\"text\":\"Optimization History Plot\"},\"xaxis\":{\"title\":{\"text\":\"Trial\"}},\"yaxis\":{\"title\":{\"text\":\"Objective Value\"}},\"template\":{\"data\":{\"histogram2dcontour\":[{\"type\":\"histogram2dcontour\",\"colorbar\":{\"outlinewidth\":0,\"ticks\":\"\"},\"colorscale\":[[0.0,\"#0d0887\"],[0.1111111111111111,\"#46039f\"],[0.2222222222222222,\"#7201a8\"],[0.3333333333333333,\"#9c179e\"],[0.4444444444444444,\"#bd3786\"],[0.5555555555555556,\"#d8576b\"],[0.6666666666666666,\"#ed7953\"],[0.7777777777777778,\"#fb9f3a\"],[0.8888888888888888,\"#fdca26\"],[1.0,\"#f0f921\"]]}],\"choropleth\":[{\"type\":\"choropleth\",\"colorbar\":{\"outlinewidth\":0,\"ticks\":\"\"}}],\"histogram2d\":[{\"type\":\"histogram2d\",\"colorbar\":{\"outlinewidth\":0,\"ticks\":\"\"},\"colorscale\":[[0.0,\"#0d0887\"],[0.1111111111111111,\"#46039f\"],[0.2222222222222222,\"#7201a8\"],[0.3333333333333333,\"#9c179e\"],[0.4444444444444444,\"#bd3786\"],[0.5555555555555556,\"#d8576b\"],[0.6666666666666666,\"#ed7953\"],[0.7777777777777778,\"#fb9f3a\"],[0.8888888888888888,\"#fdca26\"],[1.0,\"#f0f921\"]]}],\"heatmap\":[{\"type\":\"heatmap\",\"colorbar\":{\"outlinewidth\":0,\"ticks\":\"\"},\"colorscale\":[[0.0,\"#0d0887\"],[0.1111111111111111,\"#46039f\"],[0.2222222222222222,\"#7201a8\"],[0.3333333333333333,\"#9c179e\"],[0.4444444444444444,\"#bd3786\"],[0.5555555555555556,\"#d8576b\"],[0.6666666666666666,\"#ed7953\"],[0.7777777777777778,\"#fb9f3a\"],[0.8888888888888888,\"#fdca26\"],[1.0,\"#f0f921\"]]}],\"heatmapgl\":[{\"type\":\"heatmapgl\",\"colorbar\":{\"outlinewidth\":0,\"ticks\":\"\"},\"colorscale\":[[0.0,\"#0d0887\"],[0.1111111111111111,\"#46039f\"],[0.2222222222222222,\"#7201a8\"],[0.3333333333333333,\"#9c179e\"],[0.4444444444444444,\"#bd3786\"],[0.5555555555555556,\"#d8576b\"],[0.6666666666666666,\"#ed7953\"],[0.7777777777777778,\"#fb9f3a\"],[0.8888888888888888,\"#fdca26\"],[1.0,\"#f0f921\"]]}],\"contourcarpet\":[{\"type\":\"contourcarpet\",\"colorbar\":{\"outlinewidth\":0,\"ticks\":\"\"}}],\"contour\":[{\"type\":\"contour\",\"colorbar\":{\"outlinewidth\":0,\"ticks\":\"\"},\"colorscale\":[[0.0,\"#0d0887\"],[0.1111111111111111,\"#46039f\"],[0.2222222222222222,\"#7201a8\"],[0.3333333333333333,\"#9c179e\"],[0.4444444444444444,\"#bd3786\"],[0.5555555555555556,\"#d8576b\"],[0.6666666666666666,\"#ed7953\"],[0.7777777777777778,\"#fb9f3a\"],[0.8888888888888888,\"#fdca26\"],[1.0,\"#f0f921\"]]}],\"surface\":[{\"type\":\"surface\",\"colorbar\":{\"outlinewidth\":0,\"ticks\":\"\"},\"colorscale\":[[0.0,\"#0d0887\"],[0.1111111111111111,\"#46039f\"],[0.2222222222222222,\"#7201a8\"],[0.3333333333333333,\"#9c179e\"],[0.4444444444444444,\"#bd3786\"],[0.5555555555555556,\"#d8576b\"],[0.6666666666666666,\"#ed7953\"],[0.7777777777777778,\"#fb9f3a\"],[0.8888888888888888,\"#fdca26\"],[1.0,\"#f0f921\"]]}],\"mesh3d\":[{\"type\":\"mesh3d\",\"colorbar\":{\"outlinewidth\":0,\"ticks\":\"\"}}],\"scatter\":[{\"fillpattern\":{\"fillmode\":\"overlay\",\"size\":10,\"solidity\":0.2},\"type\":\"scatter\"}],\"parcoords\":[{\"type\":\"parcoords\",\"line\":{\"colorbar\":{\"outlinewidth\":0,\"ticks\":\"\"}}}],\"scatterpolargl\":[{\"type\":\"scatterpolargl\",\"marker\":{\"colorbar\":{\"outlinewidth\":0,\"ticks\":\"\"}}}],\"bar\":[{\"error_x\":{\"color\":\"#2a3f5f\"},\"error_y\":{\"color\":\"#2a3f5f\"},\"marker\":{\"line\":{\"color\":\"#E5ECF6\",\"width\":0.5},\"pattern\":{\"fillmode\":\"overlay\",\"size\":10,\"solidity\":0.2}},\"type\":\"bar\"}],\"scattergeo\":[{\"type\":\"scattergeo\",\"marker\":{\"colorbar\":{\"outlinewidth\":0,\"ticks\":\"\"}}}],\"scatterpolar\":[{\"type\":\"scatterpolar\",\"marker\":{\"colorbar\":{\"outlinewidth\":0,\"ticks\":\"\"}}}],\"histogram\":[{\"marker\":{\"pattern\":{\"fillmode\":\"overlay\",\"size\":10,\"solidity\":0.2}},\"type\":\"histogram\"}],\"scattergl\":[{\"type\":\"scattergl\",\"marker\":{\"colorbar\":{\"outlinewidth\":0,\"ticks\":\"\"}}}],\"scatter3d\":[{\"type\":\"scatter3d\",\"line\":{\"colorbar\":{\"outlinewidth\":0,\"ticks\":\"\"}},\"marker\":{\"colorbar\":{\"outlinewidth\":0,\"ticks\":\"\"}}}],\"scattermapbox\":[{\"type\":\"scattermapbox\",\"marker\":{\"colorbar\":{\"outlinewidth\":0,\"ticks\":\"\"}}}],\"scatterternary\":[{\"type\":\"scatterternary\",\"marker\":{\"colorbar\":{\"outlinewidth\":0,\"ticks\":\"\"}}}],\"scattercarpet\":[{\"type\":\"scattercarpet\",\"marker\":{\"colorbar\":{\"outlinewidth\":0,\"ticks\":\"\"}}}],\"carpet\":[{\"aaxis\":{\"endlinecolor\":\"#2a3f5f\",\"gridcolor\":\"white\",\"linecolor\":\"white\",\"minorgridcolor\":\"white\",\"startlinecolor\":\"#2a3f5f\"},\"baxis\":{\"endlinecolor\":\"#2a3f5f\",\"gridcolor\":\"white\",\"linecolor\":\"white\",\"minorgridcolor\":\"white\",\"startlinecolor\":\"#2a3f5f\"},\"type\":\"carpet\"}],\"table\":[{\"cells\":{\"fill\":{\"color\":\"#EBF0F8\"},\"line\":{\"color\":\"white\"}},\"header\":{\"fill\":{\"color\":\"#C8D4E3\"},\"line\":{\"color\":\"white\"}},\"type\":\"table\"}],\"barpolar\":[{\"marker\":{\"line\":{\"color\":\"#E5ECF6\",\"width\":0.5},\"pattern\":{\"fillmode\":\"overlay\",\"size\":10,\"solidity\":0.2}},\"type\":\"barpolar\"}],\"pie\":[{\"automargin\":true,\"type\":\"pie\"}]},\"layout\":{\"autotypenumbers\":\"strict\",\"colorway\":[\"#636efa\",\"#EF553B\",\"#00cc96\",\"#ab63fa\",\"#FFA15A\",\"#19d3f3\",\"#FF6692\",\"#B6E880\",\"#FF97FF\",\"#FECB52\"],\"font\":{\"color\":\"#2a3f5f\"},\"hovermode\":\"closest\",\"hoverlabel\":{\"align\":\"left\"},\"paper_bgcolor\":\"white\",\"plot_bgcolor\":\"#E5ECF6\",\"polar\":{\"bgcolor\":\"#E5ECF6\",\"angularaxis\":{\"gridcolor\":\"white\",\"linecolor\":\"white\",\"ticks\":\"\"},\"radialaxis\":{\"gridcolor\":\"white\",\"linecolor\":\"white\",\"ticks\":\"\"}},\"ternary\":{\"bgcolor\":\"#E5ECF6\",\"aaxis\":{\"gridcolor\":\"white\",\"linecolor\":\"white\",\"ticks\":\"\"},\"baxis\":{\"gridcolor\":\"white\",\"linecolor\":\"white\",\"ticks\":\"\"},\"caxis\":{\"gridcolor\":\"white\",\"linecolor\":\"white\",\"ticks\":\"\"}},\"coloraxis\":{\"colorbar\":{\"outlinewidth\":0,\"ticks\":\"\"}},\"colorscale\":{\"sequential\":[[0.0,\"#0d0887\"],[0.1111111111111111,\"#46039f\"],[0.2222222222222222,\"#7201a8\"],[0.3333333333333333,\"#9c179e\"],[0.4444444444444444,\"#bd3786\"],[0.5555555555555556,\"#d8576b\"],[0.6666666666666666,\"#ed7953\"],[0.7777777777777778,\"#fb9f3a\"],[0.8888888888888888,\"#fdca26\"],[1.0,\"#f0f921\"]],\"sequentialminus\":[[0.0,\"#0d0887\"],[0.1111111111111111,\"#46039f\"],[0.2222222222222222,\"#7201a8\"],[0.3333333333333333,\"#9c179e\"],[0.4444444444444444,\"#bd3786\"],[0.5555555555555556,\"#d8576b\"],[0.6666666666666666,\"#ed7953\"],[0.7777777777777778,\"#fb9f3a\"],[0.8888888888888888,\"#fdca26\"],[1.0,\"#f0f921\"]],\"diverging\":[[0,\"#8e0152\"],[0.1,\"#c51b7d\"],[0.2,\"#de77ae\"],[0.3,\"#f1b6da\"],[0.4,\"#fde0ef\"],[0.5,\"#f7f7f7\"],[0.6,\"#e6f5d0\"],[0.7,\"#b8e186\"],[0.8,\"#7fbc41\"],[0.9,\"#4d9221\"],[1,\"#276419\"]]},\"xaxis\":{\"gridcolor\":\"white\",\"linecolor\":\"white\",\"ticks\":\"\",\"title\":{\"standoff\":15},\"zerolinecolor\":\"white\",\"automargin\":true,\"zerolinewidth\":2},\"yaxis\":{\"gridcolor\":\"white\",\"linecolor\":\"white\",\"ticks\":\"\",\"title\":{\"standoff\":15},\"zerolinecolor\":\"white\",\"automargin\":true,\"zerolinewidth\":2},\"scene\":{\"xaxis\":{\"backgroundcolor\":\"#E5ECF6\",\"gridcolor\":\"white\",\"linecolor\":\"white\",\"showbackground\":true,\"ticks\":\"\",\"zerolinecolor\":\"white\",\"gridwidth\":2},\"yaxis\":{\"backgroundcolor\":\"#E5ECF6\",\"gridcolor\":\"white\",\"linecolor\":\"white\",\"showbackground\":true,\"ticks\":\"\",\"zerolinecolor\":\"white\",\"gridwidth\":2},\"zaxis\":{\"backgroundcolor\":\"#E5ECF6\",\"gridcolor\":\"white\",\"linecolor\":\"white\",\"showbackground\":true,\"ticks\":\"\",\"zerolinecolor\":\"white\",\"gridwidth\":2}},\"shapedefaults\":{\"line\":{\"color\":\"#2a3f5f\"}},\"annotationdefaults\":{\"arrowcolor\":\"#2a3f5f\",\"arrowhead\":0,\"arrowwidth\":1},\"geo\":{\"bgcolor\":\"white\",\"landcolor\":\"#E5ECF6\",\"subunitcolor\":\"white\",\"showland\":true,\"showlakes\":true,\"lakecolor\":\"white\"},\"title\":{\"x\":0.05},\"mapbox\":{\"style\":\"light\"}}}},                        {\"responsive\": true}                    ).then(function(){\n",
              "                            \n",
              "var gd = document.getElementById('fa54646e-a2c1-47b9-9650-56a1adec071d');\n",
              "var x = new MutationObserver(function (mutations, observer) {{\n",
              "        var display = window.getComputedStyle(gd).display;\n",
              "        if (!display || display === 'none') {{\n",
              "            console.log([gd, 'removed!']);\n",
              "            Plotly.purge(gd);\n",
              "            observer.disconnect();\n",
              "        }}\n",
              "}});\n",
              "\n",
              "// Listen for the removal of the full notebook cells\n",
              "var notebookContainer = gd.closest('#notebook-container');\n",
              "if (notebookContainer) {{\n",
              "    x.observe(notebookContainer, {childList: true});\n",
              "}}\n",
              "\n",
              "// Listen for the clearing of the current output cell\n",
              "var outputEl = gd.closest('.output');\n",
              "if (outputEl) {{\n",
              "    x.observe(outputEl, {childList: true});\n",
              "}}\n",
              "\n",
              "                        })                };                            </script>        </div>\n",
              "</body>\n",
              "</html>"
            ]
          },
          "metadata": {}
        },
        {
          "output_type": "stream",
          "name": "stderr",
          "text": [
            "[W 2023-06-03 11:11:02,589] Your study has only completed trials with missing parameters.\n",
            "<ipython-input-37-247d5052aadc>:44: FutureWarning:\n",
            "\n",
            "suggest_loguniform has been deprecated in v3.0.0. This feature will be removed in v6.0.0. See https://github.com/optuna/optuna/releases/tag/v3.0.0. Use suggest_float(..., log=True) instead.\n",
            "\n",
            "<ipython-input-37-247d5052aadc>:76: FutureWarning:\n",
            "\n",
            "suggest_uniform has been deprecated in v3.0.0. This feature will be removed in v6.0.0. See https://github.com/optuna/optuna/releases/tag/v3.0.0. Use suggest_float instead.\n",
            "\n",
            "<ipython-input-37-247d5052aadc>:161: FutureWarning:\n",
            "\n",
            "suggest_uniform has been deprecated in v3.0.0. This feature will be removed in v6.0.0. See https://github.com/optuna/optuna/releases/tag/v3.0.0. Use suggest_float instead.\n",
            "\n"
          ]
        },
        {
          "output_type": "stream",
          "name": "stdout",
          "text": [
            "Epoch 1/143.. Train loss: 10.308.. Val loss: 2.257.. Train L1 norm: 32.219.. Val L1 norm: 2.021.. Train Linf norm: 38961.972.. Val Linf norm: 711.658\n",
            "Epoch 2/143.. Train loss: 2.089.. Val loss: 2.260.. Train L1 norm: 5.831.. Val L1 norm: 4.716.. Train Linf norm: 5270.228.. Val Linf norm: 2143.550\n",
            "Epoch 3/143.. Train loss: 2.041.. Val loss: 2.098.. Train L1 norm: 6.324.. Val L1 norm: 3.126.. Train Linf norm: 5814.567.. Val Linf norm: 1321.768\n",
            "Epoch 4/143.. Train loss: 2.021.. Val loss: 2.031.. Train L1 norm: 5.677.. Val L1 norm: 3.267.. Train Linf norm: 4377.892.. Val Linf norm: 1322.233\n",
            "Epoch 5/143.. Train loss: 1.995.. Val loss: 2.082.. Train L1 norm: 5.796.. Val L1 norm: 3.196.. Train Linf norm: 4470.107.. Val Linf norm: 1359.024\n",
            "Epoch 6/143.. Train loss: 1.981.. Val loss: 2.070.. Train L1 norm: 5.702.. Val L1 norm: 3.728.. Train Linf norm: 4308.392.. Val Linf norm: 1588.986\n",
            "Epoch 7/143.. Train loss: 1.978.. Val loss: 1.995.. Train L1 norm: 6.012.. Val L1 norm: 4.243.. Train Linf norm: 4515.564.. Val Linf norm: 1891.203\n",
            "Epoch 8/143.. Train loss: 1.961.. Val loss: 2.327.. Train L1 norm: 5.913.. Val L1 norm: 1.825.. Train Linf norm: 4577.962.. Val Linf norm: 426.815\n",
            "Epoch 9/143.. Train loss: 1.911.. Val loss: 1.939.. Train L1 norm: 6.040.. Val L1 norm: 3.345.. Train Linf norm: 5053.792.. Val Linf norm: 1364.471\n",
            "Epoch 10/143.. Train loss: 1.898.. Val loss: 1.972.. Train L1 norm: 6.030.. Val L1 norm: 2.537.. Train Linf norm: 5348.849.. Val Linf norm: 677.947\n",
            "Epoch 11/143.. Train loss: 1.889.. Val loss: 1.964.. Train L1 norm: 5.633.. Val L1 norm: 2.835.. Train Linf norm: 4402.698.. Val Linf norm: 960.112\n",
            "Epoch 12/143.. Train loss: 1.880.. Val loss: 1.974.. Train L1 norm: 5.653.. Val L1 norm: 2.577.. Train Linf norm: 4497.800.. Val Linf norm: 743.333\n",
            "Epoch 13/143.. Train loss: 1.880.. Val loss: 2.073.. Train L1 norm: 5.794.. Val L1 norm: 2.144.. Train Linf norm: 4822.098.. Val Linf norm: 604.683\n",
            "Epoch 14/143.. Train loss: 1.873.. Val loss: 1.891.. Train L1 norm: 5.788.. Val L1 norm: 3.725.. Train Linf norm: 4886.122.. Val Linf norm: 1408.176\n",
            "Epoch 15/143.. Train loss: 1.878.. Val loss: 1.944.. Train L1 norm: 6.077.. Val L1 norm: 3.048.. Train Linf norm: 5400.934.. Val Linf norm: 1126.666\n",
            "Epoch 16/143.. Train loss: 1.866.. Val loss: 1.886.. Train L1 norm: 5.944.. Val L1 norm: 3.375.. Train Linf norm: 5404.136.. Val Linf norm: 1199.794\n",
            "Epoch 17/143.. Train loss: 1.849.. Val loss: 1.891.. Train L1 norm: 6.058.. Val L1 norm: 3.737.. Train Linf norm: 5432.015.. Val Linf norm: 1451.147\n",
            "Epoch 18/143.. Train loss: 1.845.. Val loss: 1.886.. Train L1 norm: 5.568.. Val L1 norm: 3.950.. Train Linf norm: 4289.221.. Val Linf norm: 1525.319\n",
            "Epoch 19/143.. Train loss: 1.845.. Val loss: 1.908.. Train L1 norm: 5.967.. Val L1 norm: 2.886.. Train Linf norm: 4601.979.. Val Linf norm: 952.896\n",
            "Epoch 20/143.. Train loss: 1.845.. Val loss: 1.882.. Train L1 norm: 6.273.. Val L1 norm: 3.249.. Train Linf norm: 5946.877.. Val Linf norm: 1172.685\n",
            "Epoch 21/143.. Train loss: 1.841.. Val loss: 1.886.. Train L1 norm: 5.807.. Val L1 norm: 3.061.. Train Linf norm: 4962.633.. Val Linf norm: 1047.702\n",
            "Epoch 22/143.. Train loss: 1.838.. Val loss: 1.881.. Train L1 norm: 6.016.. Val L1 norm: 3.666.. Train Linf norm: 5087.406.. Val Linf norm: 1397.973\n",
            "Epoch 23/143.. Train loss: 1.830.. Val loss: 1.866.. Train L1 norm: 5.704.. Val L1 norm: 3.784.. Train Linf norm: 3574.063.. Val Linf norm: 1396.861\n",
            "Epoch 24/143.. Train loss: 1.835.. Val loss: 1.866.. Train L1 norm: 5.971.. Val L1 norm: 3.203.. Train Linf norm: 4945.562.. Val Linf norm: 1154.332\n",
            "Epoch 25/143.. Train loss: 1.831.. Val loss: 1.864.. Train L1 norm: 5.926.. Val L1 norm: 3.469.. Train Linf norm: 5206.154.. Val Linf norm: 1304.302\n",
            "Epoch 26/143.. Train loss: 1.826.. Val loss: 1.874.. Train L1 norm: 5.729.. Val L1 norm: 3.292.. Train Linf norm: 4504.284.. Val Linf norm: 1189.230\n",
            "Epoch 27/143.. Train loss: 1.827.. Val loss: 1.862.. Train L1 norm: 5.780.. Val L1 norm: 3.360.. Train Linf norm: 4895.103.. Val Linf norm: 1228.181\n",
            "Epoch 28/143.. Train loss: 1.823.. Val loss: 1.879.. Train L1 norm: 6.033.. Val L1 norm: 3.105.. Train Linf norm: 5286.732.. Val Linf norm: 1070.257\n",
            "Epoch 29/143.. Train loss: 1.821.. Val loss: 1.859.. Train L1 norm: 6.273.. Val L1 norm: 3.297.. Train Linf norm: 5426.487.. Val Linf norm: 1189.097\n",
            "Epoch 30/143.. Train loss: 1.826.. Val loss: 1.863.. Train L1 norm: 5.888.. Val L1 norm: 3.469.. Train Linf norm: 4933.116.. Val Linf norm: 1302.935\n",
            "Epoch 31/143.. Train loss: 1.821.. Val loss: 1.850.. Train L1 norm: 6.034.. Val L1 norm: 3.536.. Train Linf norm: 5241.381.. Val Linf norm: 1368.523\n",
            "Epoch 32/143.. Train loss: 1.824.. Val loss: 1.854.. Train L1 norm: 5.871.. Val L1 norm: 3.794.. Train Linf norm: 4763.384.. Val Linf norm: 1490.170\n",
            "Epoch 33/143.. Train loss: 1.818.. Val loss: 1.860.. Train L1 norm: 6.061.. Val L1 norm: 3.330.. Train Linf norm: 5427.765.. Val Linf norm: 1235.788\n",
            "Epoch 34/143.. Train loss: 1.821.. Val loss: 1.855.. Train L1 norm: 5.799.. Val L1 norm: 3.426.. Train Linf norm: 4986.726.. Val Linf norm: 1279.109\n",
            "Epoch 35/143.. Train loss: 1.823.. Val loss: 1.851.. Train L1 norm: 5.910.. Val L1 norm: 3.497.. Train Linf norm: 5091.208.. Val Linf norm: 1321.124\n",
            "Epoch 36/143.. Train loss: 1.822.. Val loss: 1.852.. Train L1 norm: 5.904.. Val L1 norm: 3.404.. Train Linf norm: 5020.340.. Val Linf norm: 1265.816\n",
            "Epoch 37/143.. Train loss: 1.822.. Val loss: 1.849.. Train L1 norm: 6.291.. Val L1 norm: 3.426.. Train Linf norm: 5972.550.. Val Linf norm: 1280.080\n",
            "Epoch 38/143.. Train loss: 1.820.. Val loss: 1.853.. Train L1 norm: 5.715.. Val L1 norm: 3.369.. Train Linf norm: 4663.080.. Val Linf norm: 1235.316\n",
            "Epoch 39/143.. Train loss: 1.819.. Val loss: 1.848.. Train L1 norm: 5.958.. Val L1 norm: 3.481.. Train Linf norm: 5185.851.. Val Linf norm: 1304.252\n",
            "Epoch 40/143.. Train loss: 1.818.. Val loss: 1.848.. Train L1 norm: 5.663.. Val L1 norm: 3.420.. Train Linf norm: 4707.572.. Val Linf norm: 1272.673\n",
            "Epoch 41/143.. Train loss: 1.816.. Val loss: 1.849.. Train L1 norm: 6.028.. Val L1 norm: 3.423.. Train Linf norm: 5004.158.. Val Linf norm: 1273.577\n",
            "Epoch 42/143.. Train loss: 1.821.. Val loss: 1.849.. Train L1 norm: 5.967.. Val L1 norm: 3.395.. Train Linf norm: 5238.470.. Val Linf norm: 1256.894\n",
            "Epoch 43/143.. Train loss: 1.819.. Val loss: 1.850.. Train L1 norm: 5.943.. Val L1 norm: 3.395.. Train Linf norm: 5266.222.. Val Linf norm: 1260.609\n",
            "Epoch 44/143.. Train loss: 1.817.. Val loss: 1.849.. Train L1 norm: 6.087.. Val L1 norm: 3.432.. Train Linf norm: 5564.965.. Val Linf norm: 1278.672\n",
            "Epoch 45/143.. Train loss: 1.816.. Val loss: 1.849.. Train L1 norm: 5.791.. Val L1 norm: 3.440.. Train Linf norm: 4630.247.. Val Linf norm: 1285.066\n",
            "Epoch 46/143.. Train loss: 1.822.. Val loss: 1.848.. Train L1 norm: 6.126.. Val L1 norm: 3.442.. Train Linf norm: 5775.661.. Val Linf norm: 1291.254\n",
            "Epoch 47/143.. Train loss: 1.820.. Val loss: 1.848.. Train L1 norm: 5.807.. Val L1 norm: 3.446.. Train Linf norm: 4892.685.. Val Linf norm: 1292.127\n",
            "Epoch 48/143.. Train loss: 1.819.. Val loss: 1.849.. Train L1 norm: 5.840.. Val L1 norm: 3.405.. Train Linf norm: 4853.234.. Val Linf norm: 1266.436\n",
            "Epoch 49/143.. Train loss: 1.815.. Val loss: 1.848.. Train L1 norm: 5.782.. Val L1 norm: 3.416.. Train Linf norm: 4749.191.. Val Linf norm: 1272.647\n",
            "Epoch 50/143.. Train loss: 1.818.. Val loss: 1.848.. Train L1 norm: 5.884.. Val L1 norm: 3.411.. Train Linf norm: 5093.924.. Val Linf norm: 1269.072\n",
            "Epoch 51/143.. Train loss: 1.821.. Val loss: 1.848.. Train L1 norm: 5.800.. Val L1 norm: 3.416.. Train Linf norm: 4611.523.. Val Linf norm: 1272.721\n",
            "Epoch 52/143.. Train loss: 1.814.. Val loss: 1.848.. Train L1 norm: 6.051.. Val L1 norm: 3.428.. Train Linf norm: 5492.377.. Val Linf norm: 1279.208\n",
            "Epoch 53/143.. Train loss: 1.816.. Val loss: 1.848.. Train L1 norm: 6.198.. Val L1 norm: 3.440.. Train Linf norm: 5744.524.. Val Linf norm: 1285.973\n",
            "Epoch 54/143.. Train loss: 1.818.. Val loss: 1.848.. Train L1 norm: 5.983.. Val L1 norm: 3.425.. Train Linf norm: 5475.430.. Val Linf norm: 1277.775\n",
            "Epoch 55/143.. Train loss: 1.817.. Val loss: 1.849.. Train L1 norm: 5.909.. Val L1 norm: 3.427.. Train Linf norm: 4973.390.. Val Linf norm: 1279.641\n",
            "Epoch 56/143.. Train loss: 1.817.. Val loss: 1.848.. Train L1 norm: 5.730.. Val L1 norm: 3.423.. Train Linf norm: 4680.751.. Val Linf norm: 1277.435\n",
            "Epoch 57/143.. Train loss: 1.815.. Val loss: 1.849.. Train L1 norm: 5.963.. Val L1 norm: 3.418.. Train Linf norm: 5340.587.. Val Linf norm: 1274.470\n",
            "Epoch 58/143.. Train loss: 1.816.. Val loss: 1.849.. Train L1 norm: 6.341.. Val L1 norm: 3.416.. Train Linf norm: 6043.741.. Val Linf norm: 1273.435\n",
            "Epoch 59/143.. Train loss: 1.815.. Val loss: 1.849.. Train L1 norm: 6.032.. Val L1 norm: 3.412.. Train Linf norm: 5332.969.. Val Linf norm: 1271.173\n",
            "Epoch 60/143.. Train loss: 1.816.. Val loss: 1.849.. Train L1 norm: 5.980.. Val L1 norm: 3.416.. Train Linf norm: 5383.621.. Val Linf norm: 1273.459\n",
            "Epoch 61/143.. Train loss: 1.818.. Val loss: 1.849.. Train L1 norm: 5.970.. Val L1 norm: 3.417.. Train Linf norm: 4946.246.. Val Linf norm: 1274.072\n",
            "Epoch 62/143.. Train loss: 1.816.. Val loss: 1.849.. Train L1 norm: 6.180.. Val L1 norm: 3.421.. Train Linf norm: 5709.157.. Val Linf norm: 1276.157\n",
            "Epoch 63/143.. Train loss: 1.820.. Val loss: 1.849.. Train L1 norm: 5.904.. Val L1 norm: 3.423.. Train Linf norm: 5027.066.. Val Linf norm: 1277.321\n",
            "Epoch 64/143.. Train loss: 1.817.. Val loss: 1.849.. Train L1 norm: 5.933.. Val L1 norm: 3.423.. Train Linf norm: 5235.873.. Val Linf norm: 1277.279\n",
            "Epoch 65/143.. Train loss: 1.820.. Val loss: 1.849.. Train L1 norm: 6.100.. Val L1 norm: 3.423.. Train Linf norm: 5600.303.. Val Linf norm: 1277.383\n",
            "Epoch 66/143.. Train loss: 1.817.. Val loss: 1.849.. Train L1 norm: 5.831.. Val L1 norm: 3.423.. Train Linf norm: 4629.786.. Val Linf norm: 1277.681\n",
            "Epoch 67/143.. Train loss: 1.818.. Val loss: 1.849.. Train L1 norm: 5.685.. Val L1 norm: 3.422.. Train Linf norm: 4410.795.. Val Linf norm: 1277.311\n",
            "Epoch 68/143.. Train loss: 1.815.. Val loss: 1.849.. Train L1 norm: 5.908.. Val L1 norm: 3.423.. Train Linf norm: 5065.199.. Val Linf norm: 1277.463\n",
            "Epoch 69/143.. Train loss: 1.815.. Val loss: 1.849.. Train L1 norm: 6.169.. Val L1 norm: 3.422.. Train Linf norm: 5543.438.. Val Linf norm: 1277.298\n",
            "Epoch 70/143.. Train loss: 1.811.. Val loss: 1.849.. Train L1 norm: 6.100.. Val L1 norm: 3.422.. Train Linf norm: 4039.597.. Val Linf norm: 1277.020\n",
            "Epoch 71/143.. Train loss: 1.815.. Val loss: 1.849.. Train L1 norm: 6.023.. Val L1 norm: 3.422.. Train Linf norm: 5419.964.. Val Linf norm: 1277.351\n",
            "Epoch 72/143.. Train loss: 1.822.. Val loss: 1.849.. Train L1 norm: 6.052.. Val L1 norm: 3.422.. Train Linf norm: 5001.307.. Val Linf norm: 1277.000\n",
            "Epoch 73/143.. Train loss: 1.816.. Val loss: 1.849.. Train L1 norm: 5.865.. Val L1 norm: 3.421.. Train Linf norm: 5091.104.. Val Linf norm: 1276.895\n",
            "Epoch 74/143.. Train loss: 1.819.. Val loss: 1.849.. Train L1 norm: 5.965.. Val L1 norm: 3.421.. Train Linf norm: 5251.811.. Val Linf norm: 1276.931\n",
            "Epoch 75/143.. Train loss: 1.817.. Val loss: 1.849.. Train L1 norm: 5.748.. Val L1 norm: 3.422.. Train Linf norm: 4856.049.. Val Linf norm: 1277.020\n",
            "Epoch 76/143.. Train loss: 1.818.. Val loss: 1.849.. Train L1 norm: 5.907.. Val L1 norm: 3.421.. Train Linf norm: 4683.082.. Val Linf norm: 1276.898\n",
            "Epoch 77/143.. Train loss: 1.817.. Val loss: 1.849.. Train L1 norm: 5.783.. Val L1 norm: 3.421.. Train Linf norm: 4935.706.. Val Linf norm: 1276.740\n",
            "Epoch 78/143.. Train loss: 1.824.. Val loss: 1.849.. Train L1 norm: 6.131.. Val L1 norm: 3.421.. Train Linf norm: 5682.477.. Val Linf norm: 1276.864\n",
            "Epoch 79/143.. Train loss: 1.816.. Val loss: 1.849.. Train L1 norm: 6.079.. Val L1 norm: 3.422.. Train Linf norm: 5268.982.. Val Linf norm: 1276.938\n",
            "Epoch 80/143.. Train loss: 1.819.. Val loss: 1.849.. Train L1 norm: 5.891.. Val L1 norm: 3.421.. Train Linf norm: 5063.899.. Val Linf norm: 1276.823\n",
            "Epoch 81/143.. Train loss: 1.819.. Val loss: 1.849.. Train L1 norm: 6.134.. Val L1 norm: 3.421.. Train Linf norm: 5684.082.. Val Linf norm: 1276.803\n",
            "Epoch 82/143.. Train loss: 1.818.. Val loss: 1.849.. Train L1 norm: 5.853.. Val L1 norm: 3.421.. Train Linf norm: 4766.890.. Val Linf norm: 1276.844\n",
            "Epoch 83/143.. Train loss: 1.819.. Val loss: 1.849.. Train L1 norm: 5.915.. Val L1 norm: 3.421.. Train Linf norm: 5107.877.. Val Linf norm: 1276.815\n",
            "Epoch 84/143.. Train loss: 1.819.. Val loss: 1.849.. Train L1 norm: 5.942.. Val L1 norm: 3.421.. Train Linf norm: 5236.049.. Val Linf norm: 1276.811\n",
            "Epoch 85/143.. Train loss: 1.815.. Val loss: 1.849.. Train L1 norm: 5.904.. Val L1 norm: 3.421.. Train Linf norm: 4876.216.. Val Linf norm: 1276.806\n",
            "Epoch 86/143.. Train loss: 1.818.. Val loss: 1.849.. Train L1 norm: 5.903.. Val L1 norm: 3.421.. Train Linf norm: 4705.097.. Val Linf norm: 1276.826\n",
            "Epoch 87/143.. Train loss: 1.817.. Val loss: 1.849.. Train L1 norm: 5.863.. Val L1 norm: 3.421.. Train Linf norm: 4794.201.. Val Linf norm: 1276.819\n",
            "Epoch 88/143.. Train loss: 1.815.. Val loss: 1.849.. Train L1 norm: 5.934.. Val L1 norm: 3.421.. Train Linf norm: 4948.222.. Val Linf norm: 1276.838\n",
            "Epoch 89/143.. Train loss: 1.815.. Val loss: 1.849.. Train L1 norm: 5.786.. Val L1 norm: 3.421.. Train Linf norm: 4171.297.. Val Linf norm: 1276.845\n",
            "Epoch 90/143.. Train loss: 1.817.. Val loss: 1.849.. Train L1 norm: 5.856.. Val L1 norm: 3.421.. Train Linf norm: 4849.158.. Val Linf norm: 1276.840\n",
            "Epoch 91/143.. Train loss: 1.817.. Val loss: 1.849.. Train L1 norm: 5.736.. Val L1 norm: 3.421.. Train Linf norm: 4804.944.. Val Linf norm: 1276.851\n",
            "Epoch 92/143.. Train loss: 1.818.. Val loss: 1.849.. Train L1 norm: 5.851.. Val L1 norm: 3.421.. Train Linf norm: 5066.894.. Val Linf norm: 1276.848\n",
            "Epoch 93/143.. Train loss: 1.817.. Val loss: 1.849.. Train L1 norm: 5.903.. Val L1 norm: 3.421.. Train Linf norm: 5233.046.. Val Linf norm: 1276.835\n",
            "Epoch 94/143.. Train loss: 1.816.. Val loss: 1.849.. Train L1 norm: 5.868.. Val L1 norm: 3.421.. Train Linf norm: 4823.454.. Val Linf norm: 1276.824\n",
            "Epoch 95/143.. Train loss: 1.816.. Val loss: 1.849.. Train L1 norm: 6.172.. Val L1 norm: 3.421.. Train Linf norm: 5279.127.. Val Linf norm: 1276.810\n",
            "Epoch 96/143.. Train loss: 1.815.. Val loss: 1.849.. Train L1 norm: 5.811.. Val L1 norm: 3.421.. Train Linf norm: 4803.144.. Val Linf norm: 1276.810\n",
            "Epoch 97/143.. Train loss: 1.815.. Val loss: 1.849.. Train L1 norm: 5.761.. Val L1 norm: 3.421.. Train Linf norm: 4559.743.. Val Linf norm: 1276.808\n",
            "Epoch 98/143.. Train loss: 1.816.. Val loss: 1.849.. Train L1 norm: 5.847.. Val L1 norm: 3.421.. Train Linf norm: 5054.422.. Val Linf norm: 1276.809\n",
            "Epoch 99/143.. Train loss: 1.818.. Val loss: 1.849.. Train L1 norm: 5.970.. Val L1 norm: 3.421.. Train Linf norm: 5362.103.. Val Linf norm: 1276.808\n",
            "Epoch 100/143.. Train loss: 1.817.. Val loss: 1.849.. Train L1 norm: 5.765.. Val L1 norm: 3.421.. Train Linf norm: 4941.136.. Val Linf norm: 1276.808\n",
            "Epoch 101/143.. Train loss: 1.815.. Val loss: 1.849.. Train L1 norm: 6.129.. Val L1 norm: 3.421.. Train Linf norm: 5514.962.. Val Linf norm: 1276.808\n",
            "Epoch 102/143.. Train loss: 1.818.. Val loss: 1.849.. Train L1 norm: 5.880.. Val L1 norm: 3.421.. Train Linf norm: 5158.984.. Val Linf norm: 1276.810\n",
            "Epoch 103/143.. Train loss: 1.814.. Val loss: 1.849.. Train L1 norm: 5.782.. Val L1 norm: 3.421.. Train Linf norm: 4434.604.. Val Linf norm: 1276.810\n",
            "Epoch 104/143.. Train loss: 1.817.. Val loss: 1.849.. Train L1 norm: 6.190.. Val L1 norm: 3.421.. Train Linf norm: 4358.095.. Val Linf norm: 1276.809\n",
            "Epoch 105/143.. Train loss: 1.818.. Val loss: 1.849.. Train L1 norm: 6.280.. Val L1 norm: 3.421.. Train Linf norm: 5962.490.. Val Linf norm: 1276.809\n",
            "Epoch 106/143.. Train loss: 1.817.. Val loss: 1.849.. Train L1 norm: 5.688.. Val L1 norm: 3.421.. Train Linf norm: 4457.618.. Val Linf norm: 1276.809\n",
            "Epoch 107/143.. Train loss: 1.814.. Val loss: 1.849.. Train L1 norm: 5.734.. Val L1 norm: 3.421.. Train Linf norm: 4474.893.. Val Linf norm: 1276.809\n",
            "Epoch 108/143.. Train loss: 1.818.. Val loss: 1.849.. Train L1 norm: 5.977.. Val L1 norm: 3.421.. Train Linf norm: 5339.465.. Val Linf norm: 1276.809\n",
            "Epoch 109/143.. Train loss: 1.816.. Val loss: 1.849.. Train L1 norm: 5.918.. Val L1 norm: 3.421.. Train Linf norm: 4976.329.. Val Linf norm: 1276.809\n",
            "Epoch 110/143.. Train loss: 1.819.. Val loss: 1.849.. Train L1 norm: 5.863.. Val L1 norm: 3.421.. Train Linf norm: 4989.505.. Val Linf norm: 1276.809\n",
            "Epoch 111/143.. Train loss: 1.818.. Val loss: 1.849.. Train L1 norm: 6.125.. Val L1 norm: 3.421.. Train Linf norm: 5570.735.. Val Linf norm: 1276.808\n",
            "Epoch 112/143.. Train loss: 1.816.. Val loss: 1.849.. Train L1 norm: 6.014.. Val L1 norm: 3.421.. Train Linf norm: 5302.445.. Val Linf norm: 1276.808\n",
            "Epoch 113/143.. Train loss: 1.817.. Val loss: 1.849.. Train L1 norm: 6.398.. Val L1 norm: 3.421.. Train Linf norm: 5484.614.. Val Linf norm: 1276.808\n",
            "Epoch 114/143.. Train loss: 1.817.. Val loss: 1.849.. Train L1 norm: 6.001.. Val L1 norm: 3.421.. Train Linf norm: 5197.622.. Val Linf norm: 1276.808\n",
            "Epoch 115/143.. Train loss: 1.818.. Val loss: 1.849.. Train L1 norm: 5.772.. Val L1 norm: 3.421.. Train Linf norm: 4802.638.. Val Linf norm: 1276.809\n",
            "Epoch 116/143.. Train loss: 1.819.. Val loss: 1.849.. Train L1 norm: 5.740.. Val L1 norm: 3.421.. Train Linf norm: 5010.112.. Val Linf norm: 1276.808\n",
            "Epoch 117/143.. Train loss: 1.819.. Val loss: 1.849.. Train L1 norm: 5.860.. Val L1 norm: 3.421.. Train Linf norm: 4947.628.. Val Linf norm: 1276.808\n",
            "Epoch 118/143.. Train loss: 1.817.. Val loss: 1.849.. Train L1 norm: 6.024.. Val L1 norm: 3.421.. Train Linf norm: 5085.667.. Val Linf norm: 1276.809\n",
            "Epoch 119/143.. Train loss: 1.817.. Val loss: 1.849.. Train L1 norm: 6.189.. Val L1 norm: 3.421.. Train Linf norm: 5317.333.. Val Linf norm: 1276.808\n",
            "Epoch 120/143.. Train loss: 1.818.. Val loss: 1.849.. Train L1 norm: 6.013.. Val L1 norm: 3.421.. Train Linf norm: 5519.261.. Val Linf norm: 1276.808\n",
            "Epoch 121/143.. Train loss: 1.818.. Val loss: 1.849.. Train L1 norm: 6.094.. Val L1 norm: 3.421.. Train Linf norm: 5262.059.. Val Linf norm: 1276.808\n",
            "Epoch 122/143.. Train loss: 1.817.. Val loss: 1.849.. Train L1 norm: 5.685.. Val L1 norm: 3.421.. Train Linf norm: 4509.196.. Val Linf norm: 1276.808\n",
            "Epoch 123/143.. Train loss: 1.820.. Val loss: 1.849.. Train L1 norm: 5.970.. Val L1 norm: 3.421.. Train Linf norm: 4978.368.. Val Linf norm: 1276.808\n",
            "Epoch 124/143.. Train loss: 1.818.. Val loss: 1.849.. Train L1 norm: 5.948.. Val L1 norm: 3.421.. Train Linf norm: 4991.452.. Val Linf norm: 1276.808\n",
            "Epoch 125/143.. Train loss: 1.817.. Val loss: 1.849.. Train L1 norm: 6.229.. Val L1 norm: 3.421.. Train Linf norm: 5532.894.. Val Linf norm: 1276.808\n",
            "Epoch 126/143.. Train loss: 1.818.. Val loss: 1.849.. Train L1 norm: 5.976.. Val L1 norm: 3.421.. Train Linf norm: 5288.123.. Val Linf norm: 1276.808\n",
            "Epoch 127/143.. Train loss: 1.818.. Val loss: 1.849.. Train L1 norm: 6.115.. Val L1 norm: 3.421.. Train Linf norm: 5750.679.. Val Linf norm: 1276.808\n",
            "Epoch 128/143.. Train loss: 1.819.. Val loss: 1.849.. Train L1 norm: 6.042.. Val L1 norm: 3.421.. Train Linf norm: 5078.869.. Val Linf norm: 1276.808\n",
            "Epoch 129/143.. Train loss: 1.818.. Val loss: 1.849.. Train L1 norm: 5.978.. Val L1 norm: 3.421.. Train Linf norm: 5091.844.. Val Linf norm: 1276.808\n",
            "Epoch 130/143.. Train loss: 1.818.. Val loss: 1.849.. Train L1 norm: 5.789.. Val L1 norm: 3.421.. Train Linf norm: 4908.610.. Val Linf norm: 1276.808\n",
            "Epoch 131/143.. Train loss: 1.812.. Val loss: 1.849.. Train L1 norm: 5.927.. Val L1 norm: 3.421.. Train Linf norm: 5183.495.. Val Linf norm: 1276.808\n",
            "Epoch 132/143.. Train loss: 1.816.. Val loss: 1.849.. Train L1 norm: 5.896.. Val L1 norm: 3.421.. Train Linf norm: 5148.900.. Val Linf norm: 1276.808\n",
            "Epoch 133/143.. Train loss: 1.811.. Val loss: 1.849.. Train L1 norm: 5.964.. Val L1 norm: 3.421.. Train Linf norm: 5321.569.. Val Linf norm: 1276.808\n",
            "Epoch 134/143.. Train loss: 1.818.. Val loss: 1.849.. Train L1 norm: 5.830.. Val L1 norm: 3.421.. Train Linf norm: 4779.021.. Val Linf norm: 1276.809\n",
            "Epoch 135/143.. Train loss: 1.815.. Val loss: 1.849.. Train L1 norm: 5.966.. Val L1 norm: 3.421.. Train Linf norm: 5314.820.. Val Linf norm: 1276.808\n",
            "Epoch 136/143.. Train loss: 1.816.. Val loss: 1.849.. Train L1 norm: 5.477.. Val L1 norm: 3.421.. Train Linf norm: 4389.696.. Val Linf norm: 1276.808\n",
            "Epoch 137/143.. Train loss: 1.817.. Val loss: 1.849.. Train L1 norm: 5.812.. Val L1 norm: 3.421.. Train Linf norm: 3949.671.. Val Linf norm: 1276.808\n",
            "Epoch 138/143.. Train loss: 1.815.. Val loss: 1.849.. Train L1 norm: 5.925.. Val L1 norm: 3.421.. Train Linf norm: 4906.992.. Val Linf norm: 1276.808\n",
            "Epoch 139/143.. Train loss: 1.816.. Val loss: 1.849.. Train L1 norm: 5.743.. Val L1 norm: 3.421.. Train Linf norm: 4748.398.. Val Linf norm: 1276.808\n",
            "Epoch 140/143.. Train loss: 1.815.. Val loss: 1.849.. Train L1 norm: 5.791.. Val L1 norm: 3.421.. Train Linf norm: 4888.257.. Val Linf norm: 1276.808\n",
            "Epoch 141/143.. Train loss: 1.820.. Val loss: 1.849.. Train L1 norm: 6.168.. Val L1 norm: 3.421.. Train Linf norm: 5836.402.. Val Linf norm: 1276.808\n",
            "Epoch 142/143.. Train loss: 1.817.. Val loss: 1.849.. Train L1 norm: 6.183.. Val L1 norm: 3.421.. Train Linf norm: 5466.952.. Val Linf norm: 1276.808\n"
          ]
        },
        {
          "output_type": "stream",
          "name": "stderr",
          "text": [
            "[I 2023-06-03 11:22:57,885] Trial 6 finished with value: 3.4212768898010255 and parameters: {'n_layers': 10, 'n_units_0': 1179, 'n_units_1': 3490, 'n_units_2': 1677, 'n_units_3': 73, 'n_units_4': 2132, 'n_units_5': 3144, 'n_units_6': 1218, 'n_units_7': 1999, 'n_units_8': 3438, 'n_units_9': 268, 'hidden_activation': 'ELU', 'output_activation': 'Linear', 'loss': 'Quantile', 'optimizer': 'RMSprop', 'lr': 0.00021295764352585205, 'batch_size': 2048, 'n_epochs': 143, 'scheduler': 'StepLR', 'dropout_rate': 0.2979333063421106, 'step_size': 8, 'gamma': 0.30106322859223156}. Best is trial 2 with value: 1.156466460164388.\n"
          ]
        },
        {
          "output_type": "stream",
          "name": "stdout",
          "text": [
            "Epoch 143/143.. Train loss: 1.817.. Val loss: 1.849.. Train L1 norm: 5.870.. Val L1 norm: 3.421.. Train Linf norm: 5226.589.. Val Linf norm: 1276.808\n"
          ]
        },
        {
          "output_type": "display_data",
          "data": {
            "text/html": [
              "<html>\n",
              "<head><meta charset=\"utf-8\" /></head>\n",
              "<body>\n",
              "    <div>            <script src=\"https://cdnjs.cloudflare.com/ajax/libs/mathjax/2.7.5/MathJax.js?config=TeX-AMS-MML_SVG\"></script><script type=\"text/javascript\">if (window.MathJax && window.MathJax.Hub && window.MathJax.Hub.Config) {window.MathJax.Hub.Config({SVG: {font: \"STIX-Web\"}});}</script>                <script type=\"text/javascript\">window.PlotlyConfig = {MathJaxConfig: 'local'};</script>\n",
              "        <script src=\"https://cdn.plot.ly/plotly-2.18.2.min.js\"></script>                <div id=\"f5f822a6-60a6-44e2-ab69-1c2add4557be\" class=\"plotly-graph-div\" style=\"height:525px; width:100%;\"></div>            <script type=\"text/javascript\">                                    window.PLOTLYENV=window.PLOTLYENV || {};                                    if (document.getElementById(\"f5f822a6-60a6-44e2-ab69-1c2add4557be\")) {                    Plotly.newPlot(                        \"f5f822a6-60a6-44e2-ab69-1c2add4557be\",                        [{\"mode\":\"markers\",\"name\":\"Objective Value\",\"x\":[0,2,3,4,5,6],\"y\":[3.1759881306966147,1.156466460164388,2.3734971160888674,197068098895033.12,28.626712099456785,3.4212768898010255],\"type\":\"scatter\"},{\"name\":\"Best Value\",\"x\":[0,2,3,4,5,6],\"y\":[3.1759881306966147,1.156466460164388,1.156466460164388,1.156466460164388,1.156466460164388,1.156466460164388],\"type\":\"scatter\"}],                        {\"title\":{\"text\":\"Optimization History Plot\"},\"xaxis\":{\"title\":{\"text\":\"Trial\"}},\"yaxis\":{\"title\":{\"text\":\"Objective Value\"}},\"template\":{\"data\":{\"histogram2dcontour\":[{\"type\":\"histogram2dcontour\",\"colorbar\":{\"outlinewidth\":0,\"ticks\":\"\"},\"colorscale\":[[0.0,\"#0d0887\"],[0.1111111111111111,\"#46039f\"],[0.2222222222222222,\"#7201a8\"],[0.3333333333333333,\"#9c179e\"],[0.4444444444444444,\"#bd3786\"],[0.5555555555555556,\"#d8576b\"],[0.6666666666666666,\"#ed7953\"],[0.7777777777777778,\"#fb9f3a\"],[0.8888888888888888,\"#fdca26\"],[1.0,\"#f0f921\"]]}],\"choropleth\":[{\"type\":\"choropleth\",\"colorbar\":{\"outlinewidth\":0,\"ticks\":\"\"}}],\"histogram2d\":[{\"type\":\"histogram2d\",\"colorbar\":{\"outlinewidth\":0,\"ticks\":\"\"},\"colorscale\":[[0.0,\"#0d0887\"],[0.1111111111111111,\"#46039f\"],[0.2222222222222222,\"#7201a8\"],[0.3333333333333333,\"#9c179e\"],[0.4444444444444444,\"#bd3786\"],[0.5555555555555556,\"#d8576b\"],[0.6666666666666666,\"#ed7953\"],[0.7777777777777778,\"#fb9f3a\"],[0.8888888888888888,\"#fdca26\"],[1.0,\"#f0f921\"]]}],\"heatmap\":[{\"type\":\"heatmap\",\"colorbar\":{\"outlinewidth\":0,\"ticks\":\"\"},\"colorscale\":[[0.0,\"#0d0887\"],[0.1111111111111111,\"#46039f\"],[0.2222222222222222,\"#7201a8\"],[0.3333333333333333,\"#9c179e\"],[0.4444444444444444,\"#bd3786\"],[0.5555555555555556,\"#d8576b\"],[0.6666666666666666,\"#ed7953\"],[0.7777777777777778,\"#fb9f3a\"],[0.8888888888888888,\"#fdca26\"],[1.0,\"#f0f921\"]]}],\"heatmapgl\":[{\"type\":\"heatmapgl\",\"colorbar\":{\"outlinewidth\":0,\"ticks\":\"\"},\"colorscale\":[[0.0,\"#0d0887\"],[0.1111111111111111,\"#46039f\"],[0.2222222222222222,\"#7201a8\"],[0.3333333333333333,\"#9c179e\"],[0.4444444444444444,\"#bd3786\"],[0.5555555555555556,\"#d8576b\"],[0.6666666666666666,\"#ed7953\"],[0.7777777777777778,\"#fb9f3a\"],[0.8888888888888888,\"#fdca26\"],[1.0,\"#f0f921\"]]}],\"contourcarpet\":[{\"type\":\"contourcarpet\",\"colorbar\":{\"outlinewidth\":0,\"ticks\":\"\"}}],\"contour\":[{\"type\":\"contour\",\"colorbar\":{\"outlinewidth\":0,\"ticks\":\"\"},\"colorscale\":[[0.0,\"#0d0887\"],[0.1111111111111111,\"#46039f\"],[0.2222222222222222,\"#7201a8\"],[0.3333333333333333,\"#9c179e\"],[0.4444444444444444,\"#bd3786\"],[0.5555555555555556,\"#d8576b\"],[0.6666666666666666,\"#ed7953\"],[0.7777777777777778,\"#fb9f3a\"],[0.8888888888888888,\"#fdca26\"],[1.0,\"#f0f921\"]]}],\"surface\":[{\"type\":\"surface\",\"colorbar\":{\"outlinewidth\":0,\"ticks\":\"\"},\"colorscale\":[[0.0,\"#0d0887\"],[0.1111111111111111,\"#46039f\"],[0.2222222222222222,\"#7201a8\"],[0.3333333333333333,\"#9c179e\"],[0.4444444444444444,\"#bd3786\"],[0.5555555555555556,\"#d8576b\"],[0.6666666666666666,\"#ed7953\"],[0.7777777777777778,\"#fb9f3a\"],[0.8888888888888888,\"#fdca26\"],[1.0,\"#f0f921\"]]}],\"mesh3d\":[{\"type\":\"mesh3d\",\"colorbar\":{\"outlinewidth\":0,\"ticks\":\"\"}}],\"scatter\":[{\"fillpattern\":{\"fillmode\":\"overlay\",\"size\":10,\"solidity\":0.2},\"type\":\"scatter\"}],\"parcoords\":[{\"type\":\"parcoords\",\"line\":{\"colorbar\":{\"outlinewidth\":0,\"ticks\":\"\"}}}],\"scatterpolargl\":[{\"type\":\"scatterpolargl\",\"marker\":{\"colorbar\":{\"outlinewidth\":0,\"ticks\":\"\"}}}],\"bar\":[{\"error_x\":{\"color\":\"#2a3f5f\"},\"error_y\":{\"color\":\"#2a3f5f\"},\"marker\":{\"line\":{\"color\":\"#E5ECF6\",\"width\":0.5},\"pattern\":{\"fillmode\":\"overlay\",\"size\":10,\"solidity\":0.2}},\"type\":\"bar\"}],\"scattergeo\":[{\"type\":\"scattergeo\",\"marker\":{\"colorbar\":{\"outlinewidth\":0,\"ticks\":\"\"}}}],\"scatterpolar\":[{\"type\":\"scatterpolar\",\"marker\":{\"colorbar\":{\"outlinewidth\":0,\"ticks\":\"\"}}}],\"histogram\":[{\"marker\":{\"pattern\":{\"fillmode\":\"overlay\",\"size\":10,\"solidity\":0.2}},\"type\":\"histogram\"}],\"scattergl\":[{\"type\":\"scattergl\",\"marker\":{\"colorbar\":{\"outlinewidth\":0,\"ticks\":\"\"}}}],\"scatter3d\":[{\"type\":\"scatter3d\",\"line\":{\"colorbar\":{\"outlinewidth\":0,\"ticks\":\"\"}},\"marker\":{\"colorbar\":{\"outlinewidth\":0,\"ticks\":\"\"}}}],\"scattermapbox\":[{\"type\":\"scattermapbox\",\"marker\":{\"colorbar\":{\"outlinewidth\":0,\"ticks\":\"\"}}}],\"scatterternary\":[{\"type\":\"scatterternary\",\"marker\":{\"colorbar\":{\"outlinewidth\":0,\"ticks\":\"\"}}}],\"scattercarpet\":[{\"type\":\"scattercarpet\",\"marker\":{\"colorbar\":{\"outlinewidth\":0,\"ticks\":\"\"}}}],\"carpet\":[{\"aaxis\":{\"endlinecolor\":\"#2a3f5f\",\"gridcolor\":\"white\",\"linecolor\":\"white\",\"minorgridcolor\":\"white\",\"startlinecolor\":\"#2a3f5f\"},\"baxis\":{\"endlinecolor\":\"#2a3f5f\",\"gridcolor\":\"white\",\"linecolor\":\"white\",\"minorgridcolor\":\"white\",\"startlinecolor\":\"#2a3f5f\"},\"type\":\"carpet\"}],\"table\":[{\"cells\":{\"fill\":{\"color\":\"#EBF0F8\"},\"line\":{\"color\":\"white\"}},\"header\":{\"fill\":{\"color\":\"#C8D4E3\"},\"line\":{\"color\":\"white\"}},\"type\":\"table\"}],\"barpolar\":[{\"marker\":{\"line\":{\"color\":\"#E5ECF6\",\"width\":0.5},\"pattern\":{\"fillmode\":\"overlay\",\"size\":10,\"solidity\":0.2}},\"type\":\"barpolar\"}],\"pie\":[{\"automargin\":true,\"type\":\"pie\"}]},\"layout\":{\"autotypenumbers\":\"strict\",\"colorway\":[\"#636efa\",\"#EF553B\",\"#00cc96\",\"#ab63fa\",\"#FFA15A\",\"#19d3f3\",\"#FF6692\",\"#B6E880\",\"#FF97FF\",\"#FECB52\"],\"font\":{\"color\":\"#2a3f5f\"},\"hovermode\":\"closest\",\"hoverlabel\":{\"align\":\"left\"},\"paper_bgcolor\":\"white\",\"plot_bgcolor\":\"#E5ECF6\",\"polar\":{\"bgcolor\":\"#E5ECF6\",\"angularaxis\":{\"gridcolor\":\"white\",\"linecolor\":\"white\",\"ticks\":\"\"},\"radialaxis\":{\"gridcolor\":\"white\",\"linecolor\":\"white\",\"ticks\":\"\"}},\"ternary\":{\"bgcolor\":\"#E5ECF6\",\"aaxis\":{\"gridcolor\":\"white\",\"linecolor\":\"white\",\"ticks\":\"\"},\"baxis\":{\"gridcolor\":\"white\",\"linecolor\":\"white\",\"ticks\":\"\"},\"caxis\":{\"gridcolor\":\"white\",\"linecolor\":\"white\",\"ticks\":\"\"}},\"coloraxis\":{\"colorbar\":{\"outlinewidth\":0,\"ticks\":\"\"}},\"colorscale\":{\"sequential\":[[0.0,\"#0d0887\"],[0.1111111111111111,\"#46039f\"],[0.2222222222222222,\"#7201a8\"],[0.3333333333333333,\"#9c179e\"],[0.4444444444444444,\"#bd3786\"],[0.5555555555555556,\"#d8576b\"],[0.6666666666666666,\"#ed7953\"],[0.7777777777777778,\"#fb9f3a\"],[0.8888888888888888,\"#fdca26\"],[1.0,\"#f0f921\"]],\"sequentialminus\":[[0.0,\"#0d0887\"],[0.1111111111111111,\"#46039f\"],[0.2222222222222222,\"#7201a8\"],[0.3333333333333333,\"#9c179e\"],[0.4444444444444444,\"#bd3786\"],[0.5555555555555556,\"#d8576b\"],[0.6666666666666666,\"#ed7953\"],[0.7777777777777778,\"#fb9f3a\"],[0.8888888888888888,\"#fdca26\"],[1.0,\"#f0f921\"]],\"diverging\":[[0,\"#8e0152\"],[0.1,\"#c51b7d\"],[0.2,\"#de77ae\"],[0.3,\"#f1b6da\"],[0.4,\"#fde0ef\"],[0.5,\"#f7f7f7\"],[0.6,\"#e6f5d0\"],[0.7,\"#b8e186\"],[0.8,\"#7fbc41\"],[0.9,\"#4d9221\"],[1,\"#276419\"]]},\"xaxis\":{\"gridcolor\":\"white\",\"linecolor\":\"white\",\"ticks\":\"\",\"title\":{\"standoff\":15},\"zerolinecolor\":\"white\",\"automargin\":true,\"zerolinewidth\":2},\"yaxis\":{\"gridcolor\":\"white\",\"linecolor\":\"white\",\"ticks\":\"\",\"title\":{\"standoff\":15},\"zerolinecolor\":\"white\",\"automargin\":true,\"zerolinewidth\":2},\"scene\":{\"xaxis\":{\"backgroundcolor\":\"#E5ECF6\",\"gridcolor\":\"white\",\"linecolor\":\"white\",\"showbackground\":true,\"ticks\":\"\",\"zerolinecolor\":\"white\",\"gridwidth\":2},\"yaxis\":{\"backgroundcolor\":\"#E5ECF6\",\"gridcolor\":\"white\",\"linecolor\":\"white\",\"showbackground\":true,\"ticks\":\"\",\"zerolinecolor\":\"white\",\"gridwidth\":2},\"zaxis\":{\"backgroundcolor\":\"#E5ECF6\",\"gridcolor\":\"white\",\"linecolor\":\"white\",\"showbackground\":true,\"ticks\":\"\",\"zerolinecolor\":\"white\",\"gridwidth\":2}},\"shapedefaults\":{\"line\":{\"color\":\"#2a3f5f\"}},\"annotationdefaults\":{\"arrowcolor\":\"#2a3f5f\",\"arrowhead\":0,\"arrowwidth\":1},\"geo\":{\"bgcolor\":\"white\",\"landcolor\":\"#E5ECF6\",\"subunitcolor\":\"white\",\"showland\":true,\"showlakes\":true,\"lakecolor\":\"white\"},\"title\":{\"x\":0.05},\"mapbox\":{\"style\":\"light\"}}}},                        {\"responsive\": true}                    ).then(function(){\n",
              "                            \n",
              "var gd = document.getElementById('f5f822a6-60a6-44e2-ab69-1c2add4557be');\n",
              "var x = new MutationObserver(function (mutations, observer) {{\n",
              "        var display = window.getComputedStyle(gd).display;\n",
              "        if (!display || display === 'none') {{\n",
              "            console.log([gd, 'removed!']);\n",
              "            Plotly.purge(gd);\n",
              "            observer.disconnect();\n",
              "        }}\n",
              "}});\n",
              "\n",
              "// Listen for the removal of the full notebook cells\n",
              "var notebookContainer = gd.closest('#notebook-container');\n",
              "if (notebookContainer) {{\n",
              "    x.observe(notebookContainer, {childList: true});\n",
              "}}\n",
              "\n",
              "// Listen for the clearing of the current output cell\n",
              "var outputEl = gd.closest('.output');\n",
              "if (outputEl) {{\n",
              "    x.observe(outputEl, {childList: true});\n",
              "}}\n",
              "\n",
              "                        })                };                            </script>        </div>\n",
              "</body>\n",
              "</html>"
            ]
          },
          "metadata": {}
        },
        {
          "output_type": "stream",
          "name": "stderr",
          "text": [
            "[W 2023-06-03 11:22:58,356] Your study has only completed trials with missing parameters.\n",
            "<ipython-input-37-247d5052aadc>:44: FutureWarning:\n",
            "\n",
            "suggest_loguniform has been deprecated in v3.0.0. This feature will be removed in v6.0.0. See https://github.com/optuna/optuna/releases/tag/v3.0.0. Use suggest_float(..., log=True) instead.\n",
            "\n",
            "<ipython-input-37-247d5052aadc>:76: FutureWarning:\n",
            "\n",
            "suggest_uniform has been deprecated in v3.0.0. This feature will be removed in v6.0.0. See https://github.com/optuna/optuna/releases/tag/v3.0.0. Use suggest_float instead.\n",
            "\n",
            "<ipython-input-37-247d5052aadc>:145: FutureWarning:\n",
            "\n",
            "suggest_loguniform has been deprecated in v3.0.0. This feature will be removed in v6.0.0. See https://github.com/optuna/optuna/releases/tag/v3.0.0. Use suggest_float(..., log=True) instead.\n",
            "\n",
            "<ipython-input-37-247d5052aadc>:146: FutureWarning:\n",
            "\n",
            "suggest_uniform has been deprecated in v3.0.0. This feature will be removed in v6.0.0. See https://github.com/optuna/optuna/releases/tag/v3.0.0. Use suggest_float instead.\n",
            "\n",
            "<ipython-input-37-247d5052aadc>:161: FutureWarning:\n",
            "\n",
            "suggest_uniform has been deprecated in v3.0.0. This feature will be removed in v6.0.0. See https://github.com/optuna/optuna/releases/tag/v3.0.0. Use suggest_float instead.\n",
            "\n",
            "WARNING:tensorboardX.x2num:NaN or Inf found in input tensor.\n",
            "WARNING:tensorboardX.x2num:NaN or Inf found in input tensor.\n",
            "WARNING:tensorboardX.x2num:NaN or Inf found in input tensor.\n",
            "WARNING:tensorboardX.x2num:NaN or Inf found in input tensor.\n",
            "WARNING:tensorboardX.x2num:NaN or Inf found in input tensor.\n",
            "WARNING:tensorboardX.x2num:NaN or Inf found in input tensor.\n",
            "/usr/local/lib/python3.10/dist-packages/optuna/pruners/_percentile.py:20: RuntimeWarning:\n",
            "\n",
            "All-NaN slice encountered\n",
            "\n",
            "[I 2023-06-03 11:22:59,963] Trial 7 pruned. \n"
          ]
        },
        {
          "output_type": "stream",
          "name": "stdout",
          "text": [
            "Epoch 1/138.. Train loss: nan.. Val loss: nan.. Train L1 norm: nan.. Val L1 norm: nan.. Train Linf norm: nan.. Val Linf norm: nan\n"
          ]
        },
        {
          "output_type": "display_data",
          "data": {
            "text/html": [
              "<html>\n",
              "<head><meta charset=\"utf-8\" /></head>\n",
              "<body>\n",
              "    <div>            <script src=\"https://cdnjs.cloudflare.com/ajax/libs/mathjax/2.7.5/MathJax.js?config=TeX-AMS-MML_SVG\"></script><script type=\"text/javascript\">if (window.MathJax && window.MathJax.Hub && window.MathJax.Hub.Config) {window.MathJax.Hub.Config({SVG: {font: \"STIX-Web\"}});}</script>                <script type=\"text/javascript\">window.PlotlyConfig = {MathJaxConfig: 'local'};</script>\n",
              "        <script src=\"https://cdn.plot.ly/plotly-2.18.2.min.js\"></script>                <div id=\"6c4f83dc-ec78-4f03-bd50-6eb8c0f95b12\" class=\"plotly-graph-div\" style=\"height:525px; width:100%;\"></div>            <script type=\"text/javascript\">                                    window.PLOTLYENV=window.PLOTLYENV || {};                                    if (document.getElementById(\"6c4f83dc-ec78-4f03-bd50-6eb8c0f95b12\")) {                    Plotly.newPlot(                        \"6c4f83dc-ec78-4f03-bd50-6eb8c0f95b12\",                        [{\"mode\":\"markers\",\"name\":\"Objective Value\",\"x\":[0,2,3,4,5,6],\"y\":[3.1759881306966147,1.156466460164388,2.3734971160888674,197068098895033.12,28.626712099456785,3.4212768898010255],\"type\":\"scatter\"},{\"name\":\"Best Value\",\"x\":[0,2,3,4,5,6],\"y\":[3.1759881306966147,1.156466460164388,1.156466460164388,1.156466460164388,1.156466460164388,1.156466460164388],\"type\":\"scatter\"}],                        {\"title\":{\"text\":\"Optimization History Plot\"},\"xaxis\":{\"title\":{\"text\":\"Trial\"}},\"yaxis\":{\"title\":{\"text\":\"Objective Value\"}},\"template\":{\"data\":{\"histogram2dcontour\":[{\"type\":\"histogram2dcontour\",\"colorbar\":{\"outlinewidth\":0,\"ticks\":\"\"},\"colorscale\":[[0.0,\"#0d0887\"],[0.1111111111111111,\"#46039f\"],[0.2222222222222222,\"#7201a8\"],[0.3333333333333333,\"#9c179e\"],[0.4444444444444444,\"#bd3786\"],[0.5555555555555556,\"#d8576b\"],[0.6666666666666666,\"#ed7953\"],[0.7777777777777778,\"#fb9f3a\"],[0.8888888888888888,\"#fdca26\"],[1.0,\"#f0f921\"]]}],\"choropleth\":[{\"type\":\"choropleth\",\"colorbar\":{\"outlinewidth\":0,\"ticks\":\"\"}}],\"histogram2d\":[{\"type\":\"histogram2d\",\"colorbar\":{\"outlinewidth\":0,\"ticks\":\"\"},\"colorscale\":[[0.0,\"#0d0887\"],[0.1111111111111111,\"#46039f\"],[0.2222222222222222,\"#7201a8\"],[0.3333333333333333,\"#9c179e\"],[0.4444444444444444,\"#bd3786\"],[0.5555555555555556,\"#d8576b\"],[0.6666666666666666,\"#ed7953\"],[0.7777777777777778,\"#fb9f3a\"],[0.8888888888888888,\"#fdca26\"],[1.0,\"#f0f921\"]]}],\"heatmap\":[{\"type\":\"heatmap\",\"colorbar\":{\"outlinewidth\":0,\"ticks\":\"\"},\"colorscale\":[[0.0,\"#0d0887\"],[0.1111111111111111,\"#46039f\"],[0.2222222222222222,\"#7201a8\"],[0.3333333333333333,\"#9c179e\"],[0.4444444444444444,\"#bd3786\"],[0.5555555555555556,\"#d8576b\"],[0.6666666666666666,\"#ed7953\"],[0.7777777777777778,\"#fb9f3a\"],[0.8888888888888888,\"#fdca26\"],[1.0,\"#f0f921\"]]}],\"heatmapgl\":[{\"type\":\"heatmapgl\",\"colorbar\":{\"outlinewidth\":0,\"ticks\":\"\"},\"colorscale\":[[0.0,\"#0d0887\"],[0.1111111111111111,\"#46039f\"],[0.2222222222222222,\"#7201a8\"],[0.3333333333333333,\"#9c179e\"],[0.4444444444444444,\"#bd3786\"],[0.5555555555555556,\"#d8576b\"],[0.6666666666666666,\"#ed7953\"],[0.7777777777777778,\"#fb9f3a\"],[0.8888888888888888,\"#fdca26\"],[1.0,\"#f0f921\"]]}],\"contourcarpet\":[{\"type\":\"contourcarpet\",\"colorbar\":{\"outlinewidth\":0,\"ticks\":\"\"}}],\"contour\":[{\"type\":\"contour\",\"colorbar\":{\"outlinewidth\":0,\"ticks\":\"\"},\"colorscale\":[[0.0,\"#0d0887\"],[0.1111111111111111,\"#46039f\"],[0.2222222222222222,\"#7201a8\"],[0.3333333333333333,\"#9c179e\"],[0.4444444444444444,\"#bd3786\"],[0.5555555555555556,\"#d8576b\"],[0.6666666666666666,\"#ed7953\"],[0.7777777777777778,\"#fb9f3a\"],[0.8888888888888888,\"#fdca26\"],[1.0,\"#f0f921\"]]}],\"surface\":[{\"type\":\"surface\",\"colorbar\":{\"outlinewidth\":0,\"ticks\":\"\"},\"colorscale\":[[0.0,\"#0d0887\"],[0.1111111111111111,\"#46039f\"],[0.2222222222222222,\"#7201a8\"],[0.3333333333333333,\"#9c179e\"],[0.4444444444444444,\"#bd3786\"],[0.5555555555555556,\"#d8576b\"],[0.6666666666666666,\"#ed7953\"],[0.7777777777777778,\"#fb9f3a\"],[0.8888888888888888,\"#fdca26\"],[1.0,\"#f0f921\"]]}],\"mesh3d\":[{\"type\":\"mesh3d\",\"colorbar\":{\"outlinewidth\":0,\"ticks\":\"\"}}],\"scatter\":[{\"fillpattern\":{\"fillmode\":\"overlay\",\"size\":10,\"solidity\":0.2},\"type\":\"scatter\"}],\"parcoords\":[{\"type\":\"parcoords\",\"line\":{\"colorbar\":{\"outlinewidth\":0,\"ticks\":\"\"}}}],\"scatterpolargl\":[{\"type\":\"scatterpolargl\",\"marker\":{\"colorbar\":{\"outlinewidth\":0,\"ticks\":\"\"}}}],\"bar\":[{\"error_x\":{\"color\":\"#2a3f5f\"},\"error_y\":{\"color\":\"#2a3f5f\"},\"marker\":{\"line\":{\"color\":\"#E5ECF6\",\"width\":0.5},\"pattern\":{\"fillmode\":\"overlay\",\"size\":10,\"solidity\":0.2}},\"type\":\"bar\"}],\"scattergeo\":[{\"type\":\"scattergeo\",\"marker\":{\"colorbar\":{\"outlinewidth\":0,\"ticks\":\"\"}}}],\"scatterpolar\":[{\"type\":\"scatterpolar\",\"marker\":{\"colorbar\":{\"outlinewidth\":0,\"ticks\":\"\"}}}],\"histogram\":[{\"marker\":{\"pattern\":{\"fillmode\":\"overlay\",\"size\":10,\"solidity\":0.2}},\"type\":\"histogram\"}],\"scattergl\":[{\"type\":\"scattergl\",\"marker\":{\"colorbar\":{\"outlinewidth\":0,\"ticks\":\"\"}}}],\"scatter3d\":[{\"type\":\"scatter3d\",\"line\":{\"colorbar\":{\"outlinewidth\":0,\"ticks\":\"\"}},\"marker\":{\"colorbar\":{\"outlinewidth\":0,\"ticks\":\"\"}}}],\"scattermapbox\":[{\"type\":\"scattermapbox\",\"marker\":{\"colorbar\":{\"outlinewidth\":0,\"ticks\":\"\"}}}],\"scatterternary\":[{\"type\":\"scatterternary\",\"marker\":{\"colorbar\":{\"outlinewidth\":0,\"ticks\":\"\"}}}],\"scattercarpet\":[{\"type\":\"scattercarpet\",\"marker\":{\"colorbar\":{\"outlinewidth\":0,\"ticks\":\"\"}}}],\"carpet\":[{\"aaxis\":{\"endlinecolor\":\"#2a3f5f\",\"gridcolor\":\"white\",\"linecolor\":\"white\",\"minorgridcolor\":\"white\",\"startlinecolor\":\"#2a3f5f\"},\"baxis\":{\"endlinecolor\":\"#2a3f5f\",\"gridcolor\":\"white\",\"linecolor\":\"white\",\"minorgridcolor\":\"white\",\"startlinecolor\":\"#2a3f5f\"},\"type\":\"carpet\"}],\"table\":[{\"cells\":{\"fill\":{\"color\":\"#EBF0F8\"},\"line\":{\"color\":\"white\"}},\"header\":{\"fill\":{\"color\":\"#C8D4E3\"},\"line\":{\"color\":\"white\"}},\"type\":\"table\"}],\"barpolar\":[{\"marker\":{\"line\":{\"color\":\"#E5ECF6\",\"width\":0.5},\"pattern\":{\"fillmode\":\"overlay\",\"size\":10,\"solidity\":0.2}},\"type\":\"barpolar\"}],\"pie\":[{\"automargin\":true,\"type\":\"pie\"}]},\"layout\":{\"autotypenumbers\":\"strict\",\"colorway\":[\"#636efa\",\"#EF553B\",\"#00cc96\",\"#ab63fa\",\"#FFA15A\",\"#19d3f3\",\"#FF6692\",\"#B6E880\",\"#FF97FF\",\"#FECB52\"],\"font\":{\"color\":\"#2a3f5f\"},\"hovermode\":\"closest\",\"hoverlabel\":{\"align\":\"left\"},\"paper_bgcolor\":\"white\",\"plot_bgcolor\":\"#E5ECF6\",\"polar\":{\"bgcolor\":\"#E5ECF6\",\"angularaxis\":{\"gridcolor\":\"white\",\"linecolor\":\"white\",\"ticks\":\"\"},\"radialaxis\":{\"gridcolor\":\"white\",\"linecolor\":\"white\",\"ticks\":\"\"}},\"ternary\":{\"bgcolor\":\"#E5ECF6\",\"aaxis\":{\"gridcolor\":\"white\",\"linecolor\":\"white\",\"ticks\":\"\"},\"baxis\":{\"gridcolor\":\"white\",\"linecolor\":\"white\",\"ticks\":\"\"},\"caxis\":{\"gridcolor\":\"white\",\"linecolor\":\"white\",\"ticks\":\"\"}},\"coloraxis\":{\"colorbar\":{\"outlinewidth\":0,\"ticks\":\"\"}},\"colorscale\":{\"sequential\":[[0.0,\"#0d0887\"],[0.1111111111111111,\"#46039f\"],[0.2222222222222222,\"#7201a8\"],[0.3333333333333333,\"#9c179e\"],[0.4444444444444444,\"#bd3786\"],[0.5555555555555556,\"#d8576b\"],[0.6666666666666666,\"#ed7953\"],[0.7777777777777778,\"#fb9f3a\"],[0.8888888888888888,\"#fdca26\"],[1.0,\"#f0f921\"]],\"sequentialminus\":[[0.0,\"#0d0887\"],[0.1111111111111111,\"#46039f\"],[0.2222222222222222,\"#7201a8\"],[0.3333333333333333,\"#9c179e\"],[0.4444444444444444,\"#bd3786\"],[0.5555555555555556,\"#d8576b\"],[0.6666666666666666,\"#ed7953\"],[0.7777777777777778,\"#fb9f3a\"],[0.8888888888888888,\"#fdca26\"],[1.0,\"#f0f921\"]],\"diverging\":[[0,\"#8e0152\"],[0.1,\"#c51b7d\"],[0.2,\"#de77ae\"],[0.3,\"#f1b6da\"],[0.4,\"#fde0ef\"],[0.5,\"#f7f7f7\"],[0.6,\"#e6f5d0\"],[0.7,\"#b8e186\"],[0.8,\"#7fbc41\"],[0.9,\"#4d9221\"],[1,\"#276419\"]]},\"xaxis\":{\"gridcolor\":\"white\",\"linecolor\":\"white\",\"ticks\":\"\",\"title\":{\"standoff\":15},\"zerolinecolor\":\"white\",\"automargin\":true,\"zerolinewidth\":2},\"yaxis\":{\"gridcolor\":\"white\",\"linecolor\":\"white\",\"ticks\":\"\",\"title\":{\"standoff\":15},\"zerolinecolor\":\"white\",\"automargin\":true,\"zerolinewidth\":2},\"scene\":{\"xaxis\":{\"backgroundcolor\":\"#E5ECF6\",\"gridcolor\":\"white\",\"linecolor\":\"white\",\"showbackground\":true,\"ticks\":\"\",\"zerolinecolor\":\"white\",\"gridwidth\":2},\"yaxis\":{\"backgroundcolor\":\"#E5ECF6\",\"gridcolor\":\"white\",\"linecolor\":\"white\",\"showbackground\":true,\"ticks\":\"\",\"zerolinecolor\":\"white\",\"gridwidth\":2},\"zaxis\":{\"backgroundcolor\":\"#E5ECF6\",\"gridcolor\":\"white\",\"linecolor\":\"white\",\"showbackground\":true,\"ticks\":\"\",\"zerolinecolor\":\"white\",\"gridwidth\":2}},\"shapedefaults\":{\"line\":{\"color\":\"#2a3f5f\"}},\"annotationdefaults\":{\"arrowcolor\":\"#2a3f5f\",\"arrowhead\":0,\"arrowwidth\":1},\"geo\":{\"bgcolor\":\"white\",\"landcolor\":\"#E5ECF6\",\"subunitcolor\":\"white\",\"showland\":true,\"showlakes\":true,\"lakecolor\":\"white\"},\"title\":{\"x\":0.05},\"mapbox\":{\"style\":\"light\"}}}},                        {\"responsive\": true}                    ).then(function(){\n",
              "                            \n",
              "var gd = document.getElementById('6c4f83dc-ec78-4f03-bd50-6eb8c0f95b12');\n",
              "var x = new MutationObserver(function (mutations, observer) {{\n",
              "        var display = window.getComputedStyle(gd).display;\n",
              "        if (!display || display === 'none') {{\n",
              "            console.log([gd, 'removed!']);\n",
              "            Plotly.purge(gd);\n",
              "            observer.disconnect();\n",
              "        }}\n",
              "}});\n",
              "\n",
              "// Listen for the removal of the full notebook cells\n",
              "var notebookContainer = gd.closest('#notebook-container');\n",
              "if (notebookContainer) {{\n",
              "    x.observe(notebookContainer, {childList: true});\n",
              "}}\n",
              "\n",
              "// Listen for the clearing of the current output cell\n",
              "var outputEl = gd.closest('.output');\n",
              "if (outputEl) {{\n",
              "    x.observe(outputEl, {childList: true});\n",
              "}}\n",
              "\n",
              "                        })                };                            </script>        </div>\n",
              "</body>\n",
              "</html>"
            ]
          },
          "metadata": {}
        },
        {
          "output_type": "stream",
          "name": "stderr",
          "text": [
            "[W 2023-06-03 11:23:00,433] Your study has only completed trials with missing parameters.\n",
            "<ipython-input-37-247d5052aadc>:44: FutureWarning:\n",
            "\n",
            "suggest_loguniform has been deprecated in v3.0.0. This feature will be removed in v6.0.0. See https://github.com/optuna/optuna/releases/tag/v3.0.0. Use suggest_float(..., log=True) instead.\n",
            "\n",
            "<ipython-input-37-247d5052aadc>:63: FutureWarning:\n",
            "\n",
            "suggest_uniform has been deprecated in v3.0.0. This feature will be removed in v6.0.0. See https://github.com/optuna/optuna/releases/tag/v3.0.0. Use suggest_float instead.\n",
            "\n",
            "<ipython-input-37-247d5052aadc>:76: FutureWarning:\n",
            "\n",
            "suggest_uniform has been deprecated in v3.0.0. This feature will be removed in v6.0.0. See https://github.com/optuna/optuna/releases/tag/v3.0.0. Use suggest_float instead.\n",
            "\n",
            "<ipython-input-37-247d5052aadc>:161: FutureWarning:\n",
            "\n",
            "suggest_uniform has been deprecated in v3.0.0. This feature will be removed in v6.0.0. See https://github.com/optuna/optuna/releases/tag/v3.0.0. Use suggest_float instead.\n",
            "\n",
            "[I 2023-06-03 11:23:08,033] Trial 8 pruned. \n"
          ]
        },
        {
          "output_type": "stream",
          "name": "stdout",
          "text": [
            "Epoch 1/69.. Train loss: 515256312.576.. Val loss: 1896025.250.. Train L1 norm: 681487811.393.. Val L1 norm: 2389402.625.. Train Linf norm: 27649597235.813.. Val Linf norm: 131426438.766\n"
          ]
        },
        {
          "output_type": "display_data",
          "data": {
            "text/html": [
              "<html>\n",
              "<head><meta charset=\"utf-8\" /></head>\n",
              "<body>\n",
              "    <div>            <script src=\"https://cdnjs.cloudflare.com/ajax/libs/mathjax/2.7.5/MathJax.js?config=TeX-AMS-MML_SVG\"></script><script type=\"text/javascript\">if (window.MathJax && window.MathJax.Hub && window.MathJax.Hub.Config) {window.MathJax.Hub.Config({SVG: {font: \"STIX-Web\"}});}</script>                <script type=\"text/javascript\">window.PlotlyConfig = {MathJaxConfig: 'local'};</script>\n",
              "        <script src=\"https://cdn.plot.ly/plotly-2.18.2.min.js\"></script>                <div id=\"45064684-e80f-41d4-93c0-0eb41a0b1653\" class=\"plotly-graph-div\" style=\"height:525px; width:100%;\"></div>            <script type=\"text/javascript\">                                    window.PLOTLYENV=window.PLOTLYENV || {};                                    if (document.getElementById(\"45064684-e80f-41d4-93c0-0eb41a0b1653\")) {                    Plotly.newPlot(                        \"45064684-e80f-41d4-93c0-0eb41a0b1653\",                        [{\"mode\":\"markers\",\"name\":\"Objective Value\",\"x\":[0,2,3,4,5,6],\"y\":[3.1759881306966147,1.156466460164388,2.3734971160888674,197068098895033.12,28.626712099456785,3.4212768898010255],\"type\":\"scatter\"},{\"name\":\"Best Value\",\"x\":[0,2,3,4,5,6],\"y\":[3.1759881306966147,1.156466460164388,1.156466460164388,1.156466460164388,1.156466460164388,1.156466460164388],\"type\":\"scatter\"}],                        {\"title\":{\"text\":\"Optimization History Plot\"},\"xaxis\":{\"title\":{\"text\":\"Trial\"}},\"yaxis\":{\"title\":{\"text\":\"Objective Value\"}},\"template\":{\"data\":{\"histogram2dcontour\":[{\"type\":\"histogram2dcontour\",\"colorbar\":{\"outlinewidth\":0,\"ticks\":\"\"},\"colorscale\":[[0.0,\"#0d0887\"],[0.1111111111111111,\"#46039f\"],[0.2222222222222222,\"#7201a8\"],[0.3333333333333333,\"#9c179e\"],[0.4444444444444444,\"#bd3786\"],[0.5555555555555556,\"#d8576b\"],[0.6666666666666666,\"#ed7953\"],[0.7777777777777778,\"#fb9f3a\"],[0.8888888888888888,\"#fdca26\"],[1.0,\"#f0f921\"]]}],\"choropleth\":[{\"type\":\"choropleth\",\"colorbar\":{\"outlinewidth\":0,\"ticks\":\"\"}}],\"histogram2d\":[{\"type\":\"histogram2d\",\"colorbar\":{\"outlinewidth\":0,\"ticks\":\"\"},\"colorscale\":[[0.0,\"#0d0887\"],[0.1111111111111111,\"#46039f\"],[0.2222222222222222,\"#7201a8\"],[0.3333333333333333,\"#9c179e\"],[0.4444444444444444,\"#bd3786\"],[0.5555555555555556,\"#d8576b\"],[0.6666666666666666,\"#ed7953\"],[0.7777777777777778,\"#fb9f3a\"],[0.8888888888888888,\"#fdca26\"],[1.0,\"#f0f921\"]]}],\"heatmap\":[{\"type\":\"heatmap\",\"colorbar\":{\"outlinewidth\":0,\"ticks\":\"\"},\"colorscale\":[[0.0,\"#0d0887\"],[0.1111111111111111,\"#46039f\"],[0.2222222222222222,\"#7201a8\"],[0.3333333333333333,\"#9c179e\"],[0.4444444444444444,\"#bd3786\"],[0.5555555555555556,\"#d8576b\"],[0.6666666666666666,\"#ed7953\"],[0.7777777777777778,\"#fb9f3a\"],[0.8888888888888888,\"#fdca26\"],[1.0,\"#f0f921\"]]}],\"heatmapgl\":[{\"type\":\"heatmapgl\",\"colorbar\":{\"outlinewidth\":0,\"ticks\":\"\"},\"colorscale\":[[0.0,\"#0d0887\"],[0.1111111111111111,\"#46039f\"],[0.2222222222222222,\"#7201a8\"],[0.3333333333333333,\"#9c179e\"],[0.4444444444444444,\"#bd3786\"],[0.5555555555555556,\"#d8576b\"],[0.6666666666666666,\"#ed7953\"],[0.7777777777777778,\"#fb9f3a\"],[0.8888888888888888,\"#fdca26\"],[1.0,\"#f0f921\"]]}],\"contourcarpet\":[{\"type\":\"contourcarpet\",\"colorbar\":{\"outlinewidth\":0,\"ticks\":\"\"}}],\"contour\":[{\"type\":\"contour\",\"colorbar\":{\"outlinewidth\":0,\"ticks\":\"\"},\"colorscale\":[[0.0,\"#0d0887\"],[0.1111111111111111,\"#46039f\"],[0.2222222222222222,\"#7201a8\"],[0.3333333333333333,\"#9c179e\"],[0.4444444444444444,\"#bd3786\"],[0.5555555555555556,\"#d8576b\"],[0.6666666666666666,\"#ed7953\"],[0.7777777777777778,\"#fb9f3a\"],[0.8888888888888888,\"#fdca26\"],[1.0,\"#f0f921\"]]}],\"surface\":[{\"type\":\"surface\",\"colorbar\":{\"outlinewidth\":0,\"ticks\":\"\"},\"colorscale\":[[0.0,\"#0d0887\"],[0.1111111111111111,\"#46039f\"],[0.2222222222222222,\"#7201a8\"],[0.3333333333333333,\"#9c179e\"],[0.4444444444444444,\"#bd3786\"],[0.5555555555555556,\"#d8576b\"],[0.6666666666666666,\"#ed7953\"],[0.7777777777777778,\"#fb9f3a\"],[0.8888888888888888,\"#fdca26\"],[1.0,\"#f0f921\"]]}],\"mesh3d\":[{\"type\":\"mesh3d\",\"colorbar\":{\"outlinewidth\":0,\"ticks\":\"\"}}],\"scatter\":[{\"fillpattern\":{\"fillmode\":\"overlay\",\"size\":10,\"solidity\":0.2},\"type\":\"scatter\"}],\"parcoords\":[{\"type\":\"parcoords\",\"line\":{\"colorbar\":{\"outlinewidth\":0,\"ticks\":\"\"}}}],\"scatterpolargl\":[{\"type\":\"scatterpolargl\",\"marker\":{\"colorbar\":{\"outlinewidth\":0,\"ticks\":\"\"}}}],\"bar\":[{\"error_x\":{\"color\":\"#2a3f5f\"},\"error_y\":{\"color\":\"#2a3f5f\"},\"marker\":{\"line\":{\"color\":\"#E5ECF6\",\"width\":0.5},\"pattern\":{\"fillmode\":\"overlay\",\"size\":10,\"solidity\":0.2}},\"type\":\"bar\"}],\"scattergeo\":[{\"type\":\"scattergeo\",\"marker\":{\"colorbar\":{\"outlinewidth\":0,\"ticks\":\"\"}}}],\"scatterpolar\":[{\"type\":\"scatterpolar\",\"marker\":{\"colorbar\":{\"outlinewidth\":0,\"ticks\":\"\"}}}],\"histogram\":[{\"marker\":{\"pattern\":{\"fillmode\":\"overlay\",\"size\":10,\"solidity\":0.2}},\"type\":\"histogram\"}],\"scattergl\":[{\"type\":\"scattergl\",\"marker\":{\"colorbar\":{\"outlinewidth\":0,\"ticks\":\"\"}}}],\"scatter3d\":[{\"type\":\"scatter3d\",\"line\":{\"colorbar\":{\"outlinewidth\":0,\"ticks\":\"\"}},\"marker\":{\"colorbar\":{\"outlinewidth\":0,\"ticks\":\"\"}}}],\"scattermapbox\":[{\"type\":\"scattermapbox\",\"marker\":{\"colorbar\":{\"outlinewidth\":0,\"ticks\":\"\"}}}],\"scatterternary\":[{\"type\":\"scatterternary\",\"marker\":{\"colorbar\":{\"outlinewidth\":0,\"ticks\":\"\"}}}],\"scattercarpet\":[{\"type\":\"scattercarpet\",\"marker\":{\"colorbar\":{\"outlinewidth\":0,\"ticks\":\"\"}}}],\"carpet\":[{\"aaxis\":{\"endlinecolor\":\"#2a3f5f\",\"gridcolor\":\"white\",\"linecolor\":\"white\",\"minorgridcolor\":\"white\",\"startlinecolor\":\"#2a3f5f\"},\"baxis\":{\"endlinecolor\":\"#2a3f5f\",\"gridcolor\":\"white\",\"linecolor\":\"white\",\"minorgridcolor\":\"white\",\"startlinecolor\":\"#2a3f5f\"},\"type\":\"carpet\"}],\"table\":[{\"cells\":{\"fill\":{\"color\":\"#EBF0F8\"},\"line\":{\"color\":\"white\"}},\"header\":{\"fill\":{\"color\":\"#C8D4E3\"},\"line\":{\"color\":\"white\"}},\"type\":\"table\"}],\"barpolar\":[{\"marker\":{\"line\":{\"color\":\"#E5ECF6\",\"width\":0.5},\"pattern\":{\"fillmode\":\"overlay\",\"size\":10,\"solidity\":0.2}},\"type\":\"barpolar\"}],\"pie\":[{\"automargin\":true,\"type\":\"pie\"}]},\"layout\":{\"autotypenumbers\":\"strict\",\"colorway\":[\"#636efa\",\"#EF553B\",\"#00cc96\",\"#ab63fa\",\"#FFA15A\",\"#19d3f3\",\"#FF6692\",\"#B6E880\",\"#FF97FF\",\"#FECB52\"],\"font\":{\"color\":\"#2a3f5f\"},\"hovermode\":\"closest\",\"hoverlabel\":{\"align\":\"left\"},\"paper_bgcolor\":\"white\",\"plot_bgcolor\":\"#E5ECF6\",\"polar\":{\"bgcolor\":\"#E5ECF6\",\"angularaxis\":{\"gridcolor\":\"white\",\"linecolor\":\"white\",\"ticks\":\"\"},\"radialaxis\":{\"gridcolor\":\"white\",\"linecolor\":\"white\",\"ticks\":\"\"}},\"ternary\":{\"bgcolor\":\"#E5ECF6\",\"aaxis\":{\"gridcolor\":\"white\",\"linecolor\":\"white\",\"ticks\":\"\"},\"baxis\":{\"gridcolor\":\"white\",\"linecolor\":\"white\",\"ticks\":\"\"},\"caxis\":{\"gridcolor\":\"white\",\"linecolor\":\"white\",\"ticks\":\"\"}},\"coloraxis\":{\"colorbar\":{\"outlinewidth\":0,\"ticks\":\"\"}},\"colorscale\":{\"sequential\":[[0.0,\"#0d0887\"],[0.1111111111111111,\"#46039f\"],[0.2222222222222222,\"#7201a8\"],[0.3333333333333333,\"#9c179e\"],[0.4444444444444444,\"#bd3786\"],[0.5555555555555556,\"#d8576b\"],[0.6666666666666666,\"#ed7953\"],[0.7777777777777778,\"#fb9f3a\"],[0.8888888888888888,\"#fdca26\"],[1.0,\"#f0f921\"]],\"sequentialminus\":[[0.0,\"#0d0887\"],[0.1111111111111111,\"#46039f\"],[0.2222222222222222,\"#7201a8\"],[0.3333333333333333,\"#9c179e\"],[0.4444444444444444,\"#bd3786\"],[0.5555555555555556,\"#d8576b\"],[0.6666666666666666,\"#ed7953\"],[0.7777777777777778,\"#fb9f3a\"],[0.8888888888888888,\"#fdca26\"],[1.0,\"#f0f921\"]],\"diverging\":[[0,\"#8e0152\"],[0.1,\"#c51b7d\"],[0.2,\"#de77ae\"],[0.3,\"#f1b6da\"],[0.4,\"#fde0ef\"],[0.5,\"#f7f7f7\"],[0.6,\"#e6f5d0\"],[0.7,\"#b8e186\"],[0.8,\"#7fbc41\"],[0.9,\"#4d9221\"],[1,\"#276419\"]]},\"xaxis\":{\"gridcolor\":\"white\",\"linecolor\":\"white\",\"ticks\":\"\",\"title\":{\"standoff\":15},\"zerolinecolor\":\"white\",\"automargin\":true,\"zerolinewidth\":2},\"yaxis\":{\"gridcolor\":\"white\",\"linecolor\":\"white\",\"ticks\":\"\",\"title\":{\"standoff\":15},\"zerolinecolor\":\"white\",\"automargin\":true,\"zerolinewidth\":2},\"scene\":{\"xaxis\":{\"backgroundcolor\":\"#E5ECF6\",\"gridcolor\":\"white\",\"linecolor\":\"white\",\"showbackground\":true,\"ticks\":\"\",\"zerolinecolor\":\"white\",\"gridwidth\":2},\"yaxis\":{\"backgroundcolor\":\"#E5ECF6\",\"gridcolor\":\"white\",\"linecolor\":\"white\",\"showbackground\":true,\"ticks\":\"\",\"zerolinecolor\":\"white\",\"gridwidth\":2},\"zaxis\":{\"backgroundcolor\":\"#E5ECF6\",\"gridcolor\":\"white\",\"linecolor\":\"white\",\"showbackground\":true,\"ticks\":\"\",\"zerolinecolor\":\"white\",\"gridwidth\":2}},\"shapedefaults\":{\"line\":{\"color\":\"#2a3f5f\"}},\"annotationdefaults\":{\"arrowcolor\":\"#2a3f5f\",\"arrowhead\":0,\"arrowwidth\":1},\"geo\":{\"bgcolor\":\"white\",\"landcolor\":\"#E5ECF6\",\"subunitcolor\":\"white\",\"showland\":true,\"showlakes\":true,\"lakecolor\":\"white\"},\"title\":{\"x\":0.05},\"mapbox\":{\"style\":\"light\"}}}},                        {\"responsive\": true}                    ).then(function(){\n",
              "                            \n",
              "var gd = document.getElementById('45064684-e80f-41d4-93c0-0eb41a0b1653');\n",
              "var x = new MutationObserver(function (mutations, observer) {{\n",
              "        var display = window.getComputedStyle(gd).display;\n",
              "        if (!display || display === 'none') {{\n",
              "            console.log([gd, 'removed!']);\n",
              "            Plotly.purge(gd);\n",
              "            observer.disconnect();\n",
              "        }}\n",
              "}});\n",
              "\n",
              "// Listen for the removal of the full notebook cells\n",
              "var notebookContainer = gd.closest('#notebook-container');\n",
              "if (notebookContainer) {{\n",
              "    x.observe(notebookContainer, {childList: true});\n",
              "}}\n",
              "\n",
              "// Listen for the clearing of the current output cell\n",
              "var outputEl = gd.closest('.output');\n",
              "if (outputEl) {{\n",
              "    x.observe(outputEl, {childList: true});\n",
              "}}\n",
              "\n",
              "                        })                };                            </script>        </div>\n",
              "</body>\n",
              "</html>"
            ]
          },
          "metadata": {}
        },
        {
          "output_type": "stream",
          "name": "stderr",
          "text": [
            "[W 2023-06-03 11:23:08,823] Your study has only completed trials with missing parameters.\n",
            "<ipython-input-37-247d5052aadc>:44: FutureWarning:\n",
            "\n",
            "suggest_loguniform has been deprecated in v3.0.0. This feature will be removed in v6.0.0. See https://github.com/optuna/optuna/releases/tag/v3.0.0. Use suggest_float(..., log=True) instead.\n",
            "\n",
            "<ipython-input-37-247d5052aadc>:76: FutureWarning:\n",
            "\n",
            "suggest_uniform has been deprecated in v3.0.0. This feature will be removed in v6.0.0. See https://github.com/optuna/optuna/releases/tag/v3.0.0. Use suggest_float instead.\n",
            "\n",
            "<ipython-input-37-247d5052aadc>:149: FutureWarning:\n",
            "\n",
            "suggest_loguniform has been deprecated in v3.0.0. This feature will be removed in v6.0.0. See https://github.com/optuna/optuna/releases/tag/v3.0.0. Use suggest_float(..., log=True) instead.\n",
            "\n",
            "<ipython-input-37-247d5052aadc>:150: FutureWarning:\n",
            "\n",
            "suggest_uniform has been deprecated in v3.0.0. This feature will be removed in v6.0.0. See https://github.com/optuna/optuna/releases/tag/v3.0.0. Use suggest_float instead.\n",
            "\n",
            "<ipython-input-37-247d5052aadc>:151: FutureWarning:\n",
            "\n",
            "suggest_uniform has been deprecated in v3.0.0. This feature will be removed in v6.0.0. See https://github.com/optuna/optuna/releases/tag/v3.0.0. Use suggest_float instead.\n",
            "\n",
            "<ipython-input-37-247d5052aadc>:168: FutureWarning:\n",
            "\n",
            "suggest_uniform has been deprecated in v3.0.0. This feature will be removed in v6.0.0. See https://github.com/optuna/optuna/releases/tag/v3.0.0. Use suggest_float instead.\n",
            "\n",
            "<ipython-input-37-247d5052aadc>:175: FutureWarning:\n",
            "\n",
            "suggest_loguniform has been deprecated in v3.0.0. This feature will be removed in v6.0.0. See https://github.com/optuna/optuna/releases/tag/v3.0.0. Use suggest_float(..., log=True) instead.\n",
            "\n",
            "[I 2023-06-03 11:23:25,307] Trial 9 pruned. \n"
          ]
        },
        {
          "output_type": "stream",
          "name": "stdout",
          "text": [
            "Epoch 1/73.. Train loss: 4210.691.. Val loss: 438.563.. Train L1 norm: 2352.667.. Val L1 norm: 196.107.. Train Linf norm: 58035.363.. Val Linf norm: 6075.001\n"
          ]
        },
        {
          "output_type": "display_data",
          "data": {
            "text/html": [
              "<html>\n",
              "<head><meta charset=\"utf-8\" /></head>\n",
              "<body>\n",
              "    <div>            <script src=\"https://cdnjs.cloudflare.com/ajax/libs/mathjax/2.7.5/MathJax.js?config=TeX-AMS-MML_SVG\"></script><script type=\"text/javascript\">if (window.MathJax && window.MathJax.Hub && window.MathJax.Hub.Config) {window.MathJax.Hub.Config({SVG: {font: \"STIX-Web\"}});}</script>                <script type=\"text/javascript\">window.PlotlyConfig = {MathJaxConfig: 'local'};</script>\n",
              "        <script src=\"https://cdn.plot.ly/plotly-2.18.2.min.js\"></script>                <div id=\"55dd3554-b7dc-4e8d-a6d8-6bd5d273414a\" class=\"plotly-graph-div\" style=\"height:525px; width:100%;\"></div>            <script type=\"text/javascript\">                                    window.PLOTLYENV=window.PLOTLYENV || {};                                    if (document.getElementById(\"55dd3554-b7dc-4e8d-a6d8-6bd5d273414a\")) {                    Plotly.newPlot(                        \"55dd3554-b7dc-4e8d-a6d8-6bd5d273414a\",                        [{\"mode\":\"markers\",\"name\":\"Objective Value\",\"x\":[0,2,3,4,5,6],\"y\":[3.1759881306966147,1.156466460164388,2.3734971160888674,197068098895033.12,28.626712099456785,3.4212768898010255],\"type\":\"scatter\"},{\"name\":\"Best Value\",\"x\":[0,2,3,4,5,6],\"y\":[3.1759881306966147,1.156466460164388,1.156466460164388,1.156466460164388,1.156466460164388,1.156466460164388],\"type\":\"scatter\"}],                        {\"title\":{\"text\":\"Optimization History Plot\"},\"xaxis\":{\"title\":{\"text\":\"Trial\"}},\"yaxis\":{\"title\":{\"text\":\"Objective Value\"}},\"template\":{\"data\":{\"histogram2dcontour\":[{\"type\":\"histogram2dcontour\",\"colorbar\":{\"outlinewidth\":0,\"ticks\":\"\"},\"colorscale\":[[0.0,\"#0d0887\"],[0.1111111111111111,\"#46039f\"],[0.2222222222222222,\"#7201a8\"],[0.3333333333333333,\"#9c179e\"],[0.4444444444444444,\"#bd3786\"],[0.5555555555555556,\"#d8576b\"],[0.6666666666666666,\"#ed7953\"],[0.7777777777777778,\"#fb9f3a\"],[0.8888888888888888,\"#fdca26\"],[1.0,\"#f0f921\"]]}],\"choropleth\":[{\"type\":\"choropleth\",\"colorbar\":{\"outlinewidth\":0,\"ticks\":\"\"}}],\"histogram2d\":[{\"type\":\"histogram2d\",\"colorbar\":{\"outlinewidth\":0,\"ticks\":\"\"},\"colorscale\":[[0.0,\"#0d0887\"],[0.1111111111111111,\"#46039f\"],[0.2222222222222222,\"#7201a8\"],[0.3333333333333333,\"#9c179e\"],[0.4444444444444444,\"#bd3786\"],[0.5555555555555556,\"#d8576b\"],[0.6666666666666666,\"#ed7953\"],[0.7777777777777778,\"#fb9f3a\"],[0.8888888888888888,\"#fdca26\"],[1.0,\"#f0f921\"]]}],\"heatmap\":[{\"type\":\"heatmap\",\"colorbar\":{\"outlinewidth\":0,\"ticks\":\"\"},\"colorscale\":[[0.0,\"#0d0887\"],[0.1111111111111111,\"#46039f\"],[0.2222222222222222,\"#7201a8\"],[0.3333333333333333,\"#9c179e\"],[0.4444444444444444,\"#bd3786\"],[0.5555555555555556,\"#d8576b\"],[0.6666666666666666,\"#ed7953\"],[0.7777777777777778,\"#fb9f3a\"],[0.8888888888888888,\"#fdca26\"],[1.0,\"#f0f921\"]]}],\"heatmapgl\":[{\"type\":\"heatmapgl\",\"colorbar\":{\"outlinewidth\":0,\"ticks\":\"\"},\"colorscale\":[[0.0,\"#0d0887\"],[0.1111111111111111,\"#46039f\"],[0.2222222222222222,\"#7201a8\"],[0.3333333333333333,\"#9c179e\"],[0.4444444444444444,\"#bd3786\"],[0.5555555555555556,\"#d8576b\"],[0.6666666666666666,\"#ed7953\"],[0.7777777777777778,\"#fb9f3a\"],[0.8888888888888888,\"#fdca26\"],[1.0,\"#f0f921\"]]}],\"contourcarpet\":[{\"type\":\"contourcarpet\",\"colorbar\":{\"outlinewidth\":0,\"ticks\":\"\"}}],\"contour\":[{\"type\":\"contour\",\"colorbar\":{\"outlinewidth\":0,\"ticks\":\"\"},\"colorscale\":[[0.0,\"#0d0887\"],[0.1111111111111111,\"#46039f\"],[0.2222222222222222,\"#7201a8\"],[0.3333333333333333,\"#9c179e\"],[0.4444444444444444,\"#bd3786\"],[0.5555555555555556,\"#d8576b\"],[0.6666666666666666,\"#ed7953\"],[0.7777777777777778,\"#fb9f3a\"],[0.8888888888888888,\"#fdca26\"],[1.0,\"#f0f921\"]]}],\"surface\":[{\"type\":\"surface\",\"colorbar\":{\"outlinewidth\":0,\"ticks\":\"\"},\"colorscale\":[[0.0,\"#0d0887\"],[0.1111111111111111,\"#46039f\"],[0.2222222222222222,\"#7201a8\"],[0.3333333333333333,\"#9c179e\"],[0.4444444444444444,\"#bd3786\"],[0.5555555555555556,\"#d8576b\"],[0.6666666666666666,\"#ed7953\"],[0.7777777777777778,\"#fb9f3a\"],[0.8888888888888888,\"#fdca26\"],[1.0,\"#f0f921\"]]}],\"mesh3d\":[{\"type\":\"mesh3d\",\"colorbar\":{\"outlinewidth\":0,\"ticks\":\"\"}}],\"scatter\":[{\"fillpattern\":{\"fillmode\":\"overlay\",\"size\":10,\"solidity\":0.2},\"type\":\"scatter\"}],\"parcoords\":[{\"type\":\"parcoords\",\"line\":{\"colorbar\":{\"outlinewidth\":0,\"ticks\":\"\"}}}],\"scatterpolargl\":[{\"type\":\"scatterpolargl\",\"marker\":{\"colorbar\":{\"outlinewidth\":0,\"ticks\":\"\"}}}],\"bar\":[{\"error_x\":{\"color\":\"#2a3f5f\"},\"error_y\":{\"color\":\"#2a3f5f\"},\"marker\":{\"line\":{\"color\":\"#E5ECF6\",\"width\":0.5},\"pattern\":{\"fillmode\":\"overlay\",\"size\":10,\"solidity\":0.2}},\"type\":\"bar\"}],\"scattergeo\":[{\"type\":\"scattergeo\",\"marker\":{\"colorbar\":{\"outlinewidth\":0,\"ticks\":\"\"}}}],\"scatterpolar\":[{\"type\":\"scatterpolar\",\"marker\":{\"colorbar\":{\"outlinewidth\":0,\"ticks\":\"\"}}}],\"histogram\":[{\"marker\":{\"pattern\":{\"fillmode\":\"overlay\",\"size\":10,\"solidity\":0.2}},\"type\":\"histogram\"}],\"scattergl\":[{\"type\":\"scattergl\",\"marker\":{\"colorbar\":{\"outlinewidth\":0,\"ticks\":\"\"}}}],\"scatter3d\":[{\"type\":\"scatter3d\",\"line\":{\"colorbar\":{\"outlinewidth\":0,\"ticks\":\"\"}},\"marker\":{\"colorbar\":{\"outlinewidth\":0,\"ticks\":\"\"}}}],\"scattermapbox\":[{\"type\":\"scattermapbox\",\"marker\":{\"colorbar\":{\"outlinewidth\":0,\"ticks\":\"\"}}}],\"scatterternary\":[{\"type\":\"scatterternary\",\"marker\":{\"colorbar\":{\"outlinewidth\":0,\"ticks\":\"\"}}}],\"scattercarpet\":[{\"type\":\"scattercarpet\",\"marker\":{\"colorbar\":{\"outlinewidth\":0,\"ticks\":\"\"}}}],\"carpet\":[{\"aaxis\":{\"endlinecolor\":\"#2a3f5f\",\"gridcolor\":\"white\",\"linecolor\":\"white\",\"minorgridcolor\":\"white\",\"startlinecolor\":\"#2a3f5f\"},\"baxis\":{\"endlinecolor\":\"#2a3f5f\",\"gridcolor\":\"white\",\"linecolor\":\"white\",\"minorgridcolor\":\"white\",\"startlinecolor\":\"#2a3f5f\"},\"type\":\"carpet\"}],\"table\":[{\"cells\":{\"fill\":{\"color\":\"#EBF0F8\"},\"line\":{\"color\":\"white\"}},\"header\":{\"fill\":{\"color\":\"#C8D4E3\"},\"line\":{\"color\":\"white\"}},\"type\":\"table\"}],\"barpolar\":[{\"marker\":{\"line\":{\"color\":\"#E5ECF6\",\"width\":0.5},\"pattern\":{\"fillmode\":\"overlay\",\"size\":10,\"solidity\":0.2}},\"type\":\"barpolar\"}],\"pie\":[{\"automargin\":true,\"type\":\"pie\"}]},\"layout\":{\"autotypenumbers\":\"strict\",\"colorway\":[\"#636efa\",\"#EF553B\",\"#00cc96\",\"#ab63fa\",\"#FFA15A\",\"#19d3f3\",\"#FF6692\",\"#B6E880\",\"#FF97FF\",\"#FECB52\"],\"font\":{\"color\":\"#2a3f5f\"},\"hovermode\":\"closest\",\"hoverlabel\":{\"align\":\"left\"},\"paper_bgcolor\":\"white\",\"plot_bgcolor\":\"#E5ECF6\",\"polar\":{\"bgcolor\":\"#E5ECF6\",\"angularaxis\":{\"gridcolor\":\"white\",\"linecolor\":\"white\",\"ticks\":\"\"},\"radialaxis\":{\"gridcolor\":\"white\",\"linecolor\":\"white\",\"ticks\":\"\"}},\"ternary\":{\"bgcolor\":\"#E5ECF6\",\"aaxis\":{\"gridcolor\":\"white\",\"linecolor\":\"white\",\"ticks\":\"\"},\"baxis\":{\"gridcolor\":\"white\",\"linecolor\":\"white\",\"ticks\":\"\"},\"caxis\":{\"gridcolor\":\"white\",\"linecolor\":\"white\",\"ticks\":\"\"}},\"coloraxis\":{\"colorbar\":{\"outlinewidth\":0,\"ticks\":\"\"}},\"colorscale\":{\"sequential\":[[0.0,\"#0d0887\"],[0.1111111111111111,\"#46039f\"],[0.2222222222222222,\"#7201a8\"],[0.3333333333333333,\"#9c179e\"],[0.4444444444444444,\"#bd3786\"],[0.5555555555555556,\"#d8576b\"],[0.6666666666666666,\"#ed7953\"],[0.7777777777777778,\"#fb9f3a\"],[0.8888888888888888,\"#fdca26\"],[1.0,\"#f0f921\"]],\"sequentialminus\":[[0.0,\"#0d0887\"],[0.1111111111111111,\"#46039f\"],[0.2222222222222222,\"#7201a8\"],[0.3333333333333333,\"#9c179e\"],[0.4444444444444444,\"#bd3786\"],[0.5555555555555556,\"#d8576b\"],[0.6666666666666666,\"#ed7953\"],[0.7777777777777778,\"#fb9f3a\"],[0.8888888888888888,\"#fdca26\"],[1.0,\"#f0f921\"]],\"diverging\":[[0,\"#8e0152\"],[0.1,\"#c51b7d\"],[0.2,\"#de77ae\"],[0.3,\"#f1b6da\"],[0.4,\"#fde0ef\"],[0.5,\"#f7f7f7\"],[0.6,\"#e6f5d0\"],[0.7,\"#b8e186\"],[0.8,\"#7fbc41\"],[0.9,\"#4d9221\"],[1,\"#276419\"]]},\"xaxis\":{\"gridcolor\":\"white\",\"linecolor\":\"white\",\"ticks\":\"\",\"title\":{\"standoff\":15},\"zerolinecolor\":\"white\",\"automargin\":true,\"zerolinewidth\":2},\"yaxis\":{\"gridcolor\":\"white\",\"linecolor\":\"white\",\"ticks\":\"\",\"title\":{\"standoff\":15},\"zerolinecolor\":\"white\",\"automargin\":true,\"zerolinewidth\":2},\"scene\":{\"xaxis\":{\"backgroundcolor\":\"#E5ECF6\",\"gridcolor\":\"white\",\"linecolor\":\"white\",\"showbackground\":true,\"ticks\":\"\",\"zerolinecolor\":\"white\",\"gridwidth\":2},\"yaxis\":{\"backgroundcolor\":\"#E5ECF6\",\"gridcolor\":\"white\",\"linecolor\":\"white\",\"showbackground\":true,\"ticks\":\"\",\"zerolinecolor\":\"white\",\"gridwidth\":2},\"zaxis\":{\"backgroundcolor\":\"#E5ECF6\",\"gridcolor\":\"white\",\"linecolor\":\"white\",\"showbackground\":true,\"ticks\":\"\",\"zerolinecolor\":\"white\",\"gridwidth\":2}},\"shapedefaults\":{\"line\":{\"color\":\"#2a3f5f\"}},\"annotationdefaults\":{\"arrowcolor\":\"#2a3f5f\",\"arrowhead\":0,\"arrowwidth\":1},\"geo\":{\"bgcolor\":\"white\",\"landcolor\":\"#E5ECF6\",\"subunitcolor\":\"white\",\"showland\":true,\"showlakes\":true,\"lakecolor\":\"white\"},\"title\":{\"x\":0.05},\"mapbox\":{\"style\":\"light\"}}}},                        {\"responsive\": true}                    ).then(function(){\n",
              "                            \n",
              "var gd = document.getElementById('55dd3554-b7dc-4e8d-a6d8-6bd5d273414a');\n",
              "var x = new MutationObserver(function (mutations, observer) {{\n",
              "        var display = window.getComputedStyle(gd).display;\n",
              "        if (!display || display === 'none') {{\n",
              "            console.log([gd, 'removed!']);\n",
              "            Plotly.purge(gd);\n",
              "            observer.disconnect();\n",
              "        }}\n",
              "}});\n",
              "\n",
              "// Listen for the removal of the full notebook cells\n",
              "var notebookContainer = gd.closest('#notebook-container');\n",
              "if (notebookContainer) {{\n",
              "    x.observe(notebookContainer, {childList: true});\n",
              "}}\n",
              "\n",
              "// Listen for the clearing of the current output cell\n",
              "var outputEl = gd.closest('.output');\n",
              "if (outputEl) {{\n",
              "    x.observe(outputEl, {childList: true});\n",
              "}}\n",
              "\n",
              "                        })                };                            </script>        </div>\n",
              "</body>\n",
              "</html>"
            ]
          },
          "metadata": {}
        },
        {
          "output_type": "stream",
          "name": "stderr",
          "text": [
            "[W 2023-06-03 11:23:25,782] Your study has only completed trials with missing parameters.\n",
            "<ipython-input-37-247d5052aadc>:44: FutureWarning:\n",
            "\n",
            "suggest_loguniform has been deprecated in v3.0.0. This feature will be removed in v6.0.0. See https://github.com/optuna/optuna/releases/tag/v3.0.0. Use suggest_float(..., log=True) instead.\n",
            "\n",
            "<ipython-input-37-247d5052aadc>:76: FutureWarning:\n",
            "\n",
            "suggest_uniform has been deprecated in v3.0.0. This feature will be removed in v6.0.0. See https://github.com/optuna/optuna/releases/tag/v3.0.0. Use suggest_float instead.\n",
            "\n",
            "<ipython-input-37-247d5052aadc>:161: FutureWarning:\n",
            "\n",
            "suggest_uniform has been deprecated in v3.0.0. This feature will be removed in v6.0.0. See https://github.com/optuna/optuna/releases/tag/v3.0.0. Use suggest_float instead.\n",
            "\n",
            "[I 2023-06-03 11:23:33,131] Trial 10 pruned. \n"
          ]
        },
        {
          "output_type": "stream",
          "name": "stdout",
          "text": [
            "Epoch 1/67.. Train loss: 4905.090.. Val loss: 2.171.. Train L1 norm: 4408.899.. Val L1 norm: 4.071.. Train Linf norm: 56083.845.. Val Linf norm: 130.855\n"
          ]
        },
        {
          "output_type": "display_data",
          "data": {
            "text/html": [
              "<html>\n",
              "<head><meta charset=\"utf-8\" /></head>\n",
              "<body>\n",
              "    <div>            <script src=\"https://cdnjs.cloudflare.com/ajax/libs/mathjax/2.7.5/MathJax.js?config=TeX-AMS-MML_SVG\"></script><script type=\"text/javascript\">if (window.MathJax && window.MathJax.Hub && window.MathJax.Hub.Config) {window.MathJax.Hub.Config({SVG: {font: \"STIX-Web\"}});}</script>                <script type=\"text/javascript\">window.PlotlyConfig = {MathJaxConfig: 'local'};</script>\n",
              "        <script src=\"https://cdn.plot.ly/plotly-2.18.2.min.js\"></script>                <div id=\"fb3f8708-e990-48c1-af17-50a0670cb575\" class=\"plotly-graph-div\" style=\"height:525px; width:100%;\"></div>            <script type=\"text/javascript\">                                    window.PLOTLYENV=window.PLOTLYENV || {};                                    if (document.getElementById(\"fb3f8708-e990-48c1-af17-50a0670cb575\")) {                    Plotly.newPlot(                        \"fb3f8708-e990-48c1-af17-50a0670cb575\",                        [{\"mode\":\"markers\",\"name\":\"Objective Value\",\"x\":[0,2,3,4,5,6],\"y\":[3.1759881306966147,1.156466460164388,2.3734971160888674,197068098895033.12,28.626712099456785,3.4212768898010255],\"type\":\"scatter\"},{\"name\":\"Best Value\",\"x\":[0,2,3,4,5,6],\"y\":[3.1759881306966147,1.156466460164388,1.156466460164388,1.156466460164388,1.156466460164388,1.156466460164388],\"type\":\"scatter\"}],                        {\"title\":{\"text\":\"Optimization History Plot\"},\"xaxis\":{\"title\":{\"text\":\"Trial\"}},\"yaxis\":{\"title\":{\"text\":\"Objective Value\"}},\"template\":{\"data\":{\"histogram2dcontour\":[{\"type\":\"histogram2dcontour\",\"colorbar\":{\"outlinewidth\":0,\"ticks\":\"\"},\"colorscale\":[[0.0,\"#0d0887\"],[0.1111111111111111,\"#46039f\"],[0.2222222222222222,\"#7201a8\"],[0.3333333333333333,\"#9c179e\"],[0.4444444444444444,\"#bd3786\"],[0.5555555555555556,\"#d8576b\"],[0.6666666666666666,\"#ed7953\"],[0.7777777777777778,\"#fb9f3a\"],[0.8888888888888888,\"#fdca26\"],[1.0,\"#f0f921\"]]}],\"choropleth\":[{\"type\":\"choropleth\",\"colorbar\":{\"outlinewidth\":0,\"ticks\":\"\"}}],\"histogram2d\":[{\"type\":\"histogram2d\",\"colorbar\":{\"outlinewidth\":0,\"ticks\":\"\"},\"colorscale\":[[0.0,\"#0d0887\"],[0.1111111111111111,\"#46039f\"],[0.2222222222222222,\"#7201a8\"],[0.3333333333333333,\"#9c179e\"],[0.4444444444444444,\"#bd3786\"],[0.5555555555555556,\"#d8576b\"],[0.6666666666666666,\"#ed7953\"],[0.7777777777777778,\"#fb9f3a\"],[0.8888888888888888,\"#fdca26\"],[1.0,\"#f0f921\"]]}],\"heatmap\":[{\"type\":\"heatmap\",\"colorbar\":{\"outlinewidth\":0,\"ticks\":\"\"},\"colorscale\":[[0.0,\"#0d0887\"],[0.1111111111111111,\"#46039f\"],[0.2222222222222222,\"#7201a8\"],[0.3333333333333333,\"#9c179e\"],[0.4444444444444444,\"#bd3786\"],[0.5555555555555556,\"#d8576b\"],[0.6666666666666666,\"#ed7953\"],[0.7777777777777778,\"#fb9f3a\"],[0.8888888888888888,\"#fdca26\"],[1.0,\"#f0f921\"]]}],\"heatmapgl\":[{\"type\":\"heatmapgl\",\"colorbar\":{\"outlinewidth\":0,\"ticks\":\"\"},\"colorscale\":[[0.0,\"#0d0887\"],[0.1111111111111111,\"#46039f\"],[0.2222222222222222,\"#7201a8\"],[0.3333333333333333,\"#9c179e\"],[0.4444444444444444,\"#bd3786\"],[0.5555555555555556,\"#d8576b\"],[0.6666666666666666,\"#ed7953\"],[0.7777777777777778,\"#fb9f3a\"],[0.8888888888888888,\"#fdca26\"],[1.0,\"#f0f921\"]]}],\"contourcarpet\":[{\"type\":\"contourcarpet\",\"colorbar\":{\"outlinewidth\":0,\"ticks\":\"\"}}],\"contour\":[{\"type\":\"contour\",\"colorbar\":{\"outlinewidth\":0,\"ticks\":\"\"},\"colorscale\":[[0.0,\"#0d0887\"],[0.1111111111111111,\"#46039f\"],[0.2222222222222222,\"#7201a8\"],[0.3333333333333333,\"#9c179e\"],[0.4444444444444444,\"#bd3786\"],[0.5555555555555556,\"#d8576b\"],[0.6666666666666666,\"#ed7953\"],[0.7777777777777778,\"#fb9f3a\"],[0.8888888888888888,\"#fdca26\"],[1.0,\"#f0f921\"]]}],\"surface\":[{\"type\":\"surface\",\"colorbar\":{\"outlinewidth\":0,\"ticks\":\"\"},\"colorscale\":[[0.0,\"#0d0887\"],[0.1111111111111111,\"#46039f\"],[0.2222222222222222,\"#7201a8\"],[0.3333333333333333,\"#9c179e\"],[0.4444444444444444,\"#bd3786\"],[0.5555555555555556,\"#d8576b\"],[0.6666666666666666,\"#ed7953\"],[0.7777777777777778,\"#fb9f3a\"],[0.8888888888888888,\"#fdca26\"],[1.0,\"#f0f921\"]]}],\"mesh3d\":[{\"type\":\"mesh3d\",\"colorbar\":{\"outlinewidth\":0,\"ticks\":\"\"}}],\"scatter\":[{\"fillpattern\":{\"fillmode\":\"overlay\",\"size\":10,\"solidity\":0.2},\"type\":\"scatter\"}],\"parcoords\":[{\"type\":\"parcoords\",\"line\":{\"colorbar\":{\"outlinewidth\":0,\"ticks\":\"\"}}}],\"scatterpolargl\":[{\"type\":\"scatterpolargl\",\"marker\":{\"colorbar\":{\"outlinewidth\":0,\"ticks\":\"\"}}}],\"bar\":[{\"error_x\":{\"color\":\"#2a3f5f\"},\"error_y\":{\"color\":\"#2a3f5f\"},\"marker\":{\"line\":{\"color\":\"#E5ECF6\",\"width\":0.5},\"pattern\":{\"fillmode\":\"overlay\",\"size\":10,\"solidity\":0.2}},\"type\":\"bar\"}],\"scattergeo\":[{\"type\":\"scattergeo\",\"marker\":{\"colorbar\":{\"outlinewidth\":0,\"ticks\":\"\"}}}],\"scatterpolar\":[{\"type\":\"scatterpolar\",\"marker\":{\"colorbar\":{\"outlinewidth\":0,\"ticks\":\"\"}}}],\"histogram\":[{\"marker\":{\"pattern\":{\"fillmode\":\"overlay\",\"size\":10,\"solidity\":0.2}},\"type\":\"histogram\"}],\"scattergl\":[{\"type\":\"scattergl\",\"marker\":{\"colorbar\":{\"outlinewidth\":0,\"ticks\":\"\"}}}],\"scatter3d\":[{\"type\":\"scatter3d\",\"line\":{\"colorbar\":{\"outlinewidth\":0,\"ticks\":\"\"}},\"marker\":{\"colorbar\":{\"outlinewidth\":0,\"ticks\":\"\"}}}],\"scattermapbox\":[{\"type\":\"scattermapbox\",\"marker\":{\"colorbar\":{\"outlinewidth\":0,\"ticks\":\"\"}}}],\"scatterternary\":[{\"type\":\"scatterternary\",\"marker\":{\"colorbar\":{\"outlinewidth\":0,\"ticks\":\"\"}}}],\"scattercarpet\":[{\"type\":\"scattercarpet\",\"marker\":{\"colorbar\":{\"outlinewidth\":0,\"ticks\":\"\"}}}],\"carpet\":[{\"aaxis\":{\"endlinecolor\":\"#2a3f5f\",\"gridcolor\":\"white\",\"linecolor\":\"white\",\"minorgridcolor\":\"white\",\"startlinecolor\":\"#2a3f5f\"},\"baxis\":{\"endlinecolor\":\"#2a3f5f\",\"gridcolor\":\"white\",\"linecolor\":\"white\",\"minorgridcolor\":\"white\",\"startlinecolor\":\"#2a3f5f\"},\"type\":\"carpet\"}],\"table\":[{\"cells\":{\"fill\":{\"color\":\"#EBF0F8\"},\"line\":{\"color\":\"white\"}},\"header\":{\"fill\":{\"color\":\"#C8D4E3\"},\"line\":{\"color\":\"white\"}},\"type\":\"table\"}],\"barpolar\":[{\"marker\":{\"line\":{\"color\":\"#E5ECF6\",\"width\":0.5},\"pattern\":{\"fillmode\":\"overlay\",\"size\":10,\"solidity\":0.2}},\"type\":\"barpolar\"}],\"pie\":[{\"automargin\":true,\"type\":\"pie\"}]},\"layout\":{\"autotypenumbers\":\"strict\",\"colorway\":[\"#636efa\",\"#EF553B\",\"#00cc96\",\"#ab63fa\",\"#FFA15A\",\"#19d3f3\",\"#FF6692\",\"#B6E880\",\"#FF97FF\",\"#FECB52\"],\"font\":{\"color\":\"#2a3f5f\"},\"hovermode\":\"closest\",\"hoverlabel\":{\"align\":\"left\"},\"paper_bgcolor\":\"white\",\"plot_bgcolor\":\"#E5ECF6\",\"polar\":{\"bgcolor\":\"#E5ECF6\",\"angularaxis\":{\"gridcolor\":\"white\",\"linecolor\":\"white\",\"ticks\":\"\"},\"radialaxis\":{\"gridcolor\":\"white\",\"linecolor\":\"white\",\"ticks\":\"\"}},\"ternary\":{\"bgcolor\":\"#E5ECF6\",\"aaxis\":{\"gridcolor\":\"white\",\"linecolor\":\"white\",\"ticks\":\"\"},\"baxis\":{\"gridcolor\":\"white\",\"linecolor\":\"white\",\"ticks\":\"\"},\"caxis\":{\"gridcolor\":\"white\",\"linecolor\":\"white\",\"ticks\":\"\"}},\"coloraxis\":{\"colorbar\":{\"outlinewidth\":0,\"ticks\":\"\"}},\"colorscale\":{\"sequential\":[[0.0,\"#0d0887\"],[0.1111111111111111,\"#46039f\"],[0.2222222222222222,\"#7201a8\"],[0.3333333333333333,\"#9c179e\"],[0.4444444444444444,\"#bd3786\"],[0.5555555555555556,\"#d8576b\"],[0.6666666666666666,\"#ed7953\"],[0.7777777777777778,\"#fb9f3a\"],[0.8888888888888888,\"#fdca26\"],[1.0,\"#f0f921\"]],\"sequentialminus\":[[0.0,\"#0d0887\"],[0.1111111111111111,\"#46039f\"],[0.2222222222222222,\"#7201a8\"],[0.3333333333333333,\"#9c179e\"],[0.4444444444444444,\"#bd3786\"],[0.5555555555555556,\"#d8576b\"],[0.6666666666666666,\"#ed7953\"],[0.7777777777777778,\"#fb9f3a\"],[0.8888888888888888,\"#fdca26\"],[1.0,\"#f0f921\"]],\"diverging\":[[0,\"#8e0152\"],[0.1,\"#c51b7d\"],[0.2,\"#de77ae\"],[0.3,\"#f1b6da\"],[0.4,\"#fde0ef\"],[0.5,\"#f7f7f7\"],[0.6,\"#e6f5d0\"],[0.7,\"#b8e186\"],[0.8,\"#7fbc41\"],[0.9,\"#4d9221\"],[1,\"#276419\"]]},\"xaxis\":{\"gridcolor\":\"white\",\"linecolor\":\"white\",\"ticks\":\"\",\"title\":{\"standoff\":15},\"zerolinecolor\":\"white\",\"automargin\":true,\"zerolinewidth\":2},\"yaxis\":{\"gridcolor\":\"white\",\"linecolor\":\"white\",\"ticks\":\"\",\"title\":{\"standoff\":15},\"zerolinecolor\":\"white\",\"automargin\":true,\"zerolinewidth\":2},\"scene\":{\"xaxis\":{\"backgroundcolor\":\"#E5ECF6\",\"gridcolor\":\"white\",\"linecolor\":\"white\",\"showbackground\":true,\"ticks\":\"\",\"zerolinecolor\":\"white\",\"gridwidth\":2},\"yaxis\":{\"backgroundcolor\":\"#E5ECF6\",\"gridcolor\":\"white\",\"linecolor\":\"white\",\"showbackground\":true,\"ticks\":\"\",\"zerolinecolor\":\"white\",\"gridwidth\":2},\"zaxis\":{\"backgroundcolor\":\"#E5ECF6\",\"gridcolor\":\"white\",\"linecolor\":\"white\",\"showbackground\":true,\"ticks\":\"\",\"zerolinecolor\":\"white\",\"gridwidth\":2}},\"shapedefaults\":{\"line\":{\"color\":\"#2a3f5f\"}},\"annotationdefaults\":{\"arrowcolor\":\"#2a3f5f\",\"arrowhead\":0,\"arrowwidth\":1},\"geo\":{\"bgcolor\":\"white\",\"landcolor\":\"#E5ECF6\",\"subunitcolor\":\"white\",\"showland\":true,\"showlakes\":true,\"lakecolor\":\"white\"},\"title\":{\"x\":0.05},\"mapbox\":{\"style\":\"light\"}}}},                        {\"responsive\": true}                    ).then(function(){\n",
              "                            \n",
              "var gd = document.getElementById('fb3f8708-e990-48c1-af17-50a0670cb575');\n",
              "var x = new MutationObserver(function (mutations, observer) {{\n",
              "        var display = window.getComputedStyle(gd).display;\n",
              "        if (!display || display === 'none') {{\n",
              "            console.log([gd, 'removed!']);\n",
              "            Plotly.purge(gd);\n",
              "            observer.disconnect();\n",
              "        }}\n",
              "}});\n",
              "\n",
              "// Listen for the removal of the full notebook cells\n",
              "var notebookContainer = gd.closest('#notebook-container');\n",
              "if (notebookContainer) {{\n",
              "    x.observe(notebookContainer, {childList: true});\n",
              "}}\n",
              "\n",
              "// Listen for the clearing of the current output cell\n",
              "var outputEl = gd.closest('.output');\n",
              "if (outputEl) {{\n",
              "    x.observe(outputEl, {childList: true});\n",
              "}}\n",
              "\n",
              "                        })                };                            </script>        </div>\n",
              "</body>\n",
              "</html>"
            ]
          },
          "metadata": {}
        },
        {
          "output_type": "stream",
          "name": "stderr",
          "text": [
            "[W 2023-06-03 11:23:33,576] Your study has only completed trials with missing parameters.\n",
            "<ipython-input-37-247d5052aadc>:44: FutureWarning:\n",
            "\n",
            "suggest_loguniform has been deprecated in v3.0.0. This feature will be removed in v6.0.0. See https://github.com/optuna/optuna/releases/tag/v3.0.0. Use suggest_float(..., log=True) instead.\n",
            "\n",
            "<ipython-input-37-247d5052aadc>:76: FutureWarning:\n",
            "\n",
            "suggest_uniform has been deprecated in v3.0.0. This feature will be removed in v6.0.0. See https://github.com/optuna/optuna/releases/tag/v3.0.0. Use suggest_float instead.\n",
            "\n",
            "<ipython-input-37-247d5052aadc>:145: FutureWarning:\n",
            "\n",
            "suggest_loguniform has been deprecated in v3.0.0. This feature will be removed in v6.0.0. See https://github.com/optuna/optuna/releases/tag/v3.0.0. Use suggest_float(..., log=True) instead.\n",
            "\n",
            "<ipython-input-37-247d5052aadc>:146: FutureWarning:\n",
            "\n",
            "suggest_uniform has been deprecated in v3.0.0. This feature will be removed in v6.0.0. See https://github.com/optuna/optuna/releases/tag/v3.0.0. Use suggest_float instead.\n",
            "\n",
            "<ipython-input-37-247d5052aadc>:178: FutureWarning:\n",
            "\n",
            "suggest_uniform has been deprecated in v3.0.0. This feature will be removed in v6.0.0. See https://github.com/optuna/optuna/releases/tag/v3.0.0. Use suggest_float instead.\n",
            "\n",
            "<ipython-input-37-247d5052aadc>:180: FutureWarning:\n",
            "\n",
            "suggest_loguniform has been deprecated in v3.0.0. This feature will be removed in v6.0.0. See https://github.com/optuna/optuna/releases/tag/v3.0.0. Use suggest_float(..., log=True) instead.\n",
            "\n"
          ]
        },
        {
          "output_type": "stream",
          "name": "stdout",
          "text": [
            "Epoch 1/94.. Train loss: 4.568.. Val loss: 4.649.. Train L1 norm: 1.034.. Val L1 norm: 1.032.. Train Linf norm: 5.613.. Val Linf norm: 5.715\n",
            "Epoch 2/94.. Train loss: 4.525.. Val loss: 4.612.. Train L1 norm: 1.125.. Val L1 norm: 1.085.. Train Linf norm: 16.716.. Val Linf norm: 11.684\n",
            "Epoch 3/94.. Train loss: 4.476.. Val loss: 4.574.. Train L1 norm: 1.252.. Val L1 norm: 1.158.. Train Linf norm: 30.650.. Val Linf norm: 18.978\n",
            "Epoch 4/94.. Train loss: 4.391.. Val loss: 4.553.. Train L1 norm: 1.476.. Val L1 norm: 1.360.. Train Linf norm: 54.032.. Val Linf norm: 37.739\n",
            "Epoch 5/94.. Train loss: 4.126.. Val loss: 5.009.. Train L1 norm: 2.713.. Val L1 norm: 2.451.. Train Linf norm: 178.144.. Val Linf norm: 122.927\n",
            "Epoch 6/94.. Train loss: 3.993.. Val loss: 4.828.. Train L1 norm: 3.872.. Val L1 norm: 2.253.. Train Linf norm: 280.021.. Val Linf norm: 108.049\n",
            "Epoch 7/94.. Train loss: 3.993.. Val loss: 4.899.. Train L1 norm: 3.966.. Val L1 norm: 2.481.. Train Linf norm: 293.889.. Val Linf norm: 124.247\n",
            "Epoch 8/94.. Train loss: 3.954.. Val loss: 5.005.. Train L1 norm: 3.893.. Val L1 norm: 2.750.. Train Linf norm: 280.001.. Val Linf norm: 143.061\n",
            "Epoch 9/94.. Train loss: 3.937.. Val loss: 4.994.. Train L1 norm: 4.188.. Val L1 norm: 2.833.. Train Linf norm: 310.710.. Val Linf norm: 148.442\n",
            "Epoch 10/94.. Train loss: 3.931.. Val loss: 4.873.. Train L1 norm: 4.333.. Val L1 norm: 2.731.. Train Linf norm: 327.336.. Val Linf norm: 140.804\n",
            "Epoch 11/94.. Train loss: 3.907.. Val loss: 4.892.. Train L1 norm: 4.343.. Val L1 norm: 2.869.. Train Linf norm: 322.248.. Val Linf norm: 149.951\n",
            "Epoch 12/94.. Train loss: 3.904.. Val loss: 5.020.. Train L1 norm: 4.407.. Val L1 norm: 3.169.. Train Linf norm: 329.485.. Val Linf norm: 170.164\n",
            "Epoch 13/94.. Train loss: 3.874.. Val loss: 4.942.. Train L1 norm: 4.545.. Val L1 norm: 3.139.. Train Linf norm: 342.519.. Val Linf norm: 167.669\n",
            "Epoch 14/94.. Train loss: 3.849.. Val loss: 4.739.. Train L1 norm: 4.795.. Val L1 norm: 2.881.. Train Linf norm: 365.899.. Val Linf norm: 149.536\n",
            "Epoch 15/94.. Train loss: 3.857.. Val loss: 4.908.. Train L1 norm: 4.601.. Val L1 norm: 3.250.. Train Linf norm: 347.025.. Val Linf norm: 174.523\n",
            "Epoch 16/94.. Train loss: 3.840.. Val loss: 4.719.. Train L1 norm: 4.688.. Val L1 norm: 2.991.. Train Linf norm: 343.027.. Val Linf norm: 156.603\n",
            "Epoch 17/94.. Train loss: 3.829.. Val loss: 4.888.. Train L1 norm: 4.555.. Val L1 norm: 3.316.. Train Linf norm: 337.395.. Val Linf norm: 178.537\n",
            "Epoch 18/94.. Train loss: 3.823.. Val loss: 4.747.. Train L1 norm: 4.795.. Val L1 norm: 3.116.. Train Linf norm: 358.225.. Val Linf norm: 164.786\n",
            "Epoch 19/94.. Train loss: 3.816.. Val loss: 4.777.. Train L1 norm: 4.809.. Val L1 norm: 3.206.. Train Linf norm: 366.338.. Val Linf norm: 170.682\n",
            "Epoch 20/94.. Train loss: 3.806.. Val loss: 4.787.. Train L1 norm: 4.878.. Val L1 norm: 3.244.. Train Linf norm: 363.534.. Val Linf norm: 173.061\n",
            "Epoch 21/94.. Train loss: 3.799.. Val loss: 4.816.. Train L1 norm: 4.997.. Val L1 norm: 3.297.. Train Linf norm: 383.758.. Val Linf norm: 176.442\n",
            "Epoch 22/94.. Train loss: 3.796.. Val loss: 4.708.. Train L1 norm: 4.929.. Val L1 norm: 3.152.. Train Linf norm: 377.638.. Val Linf norm: 166.351\n",
            "Epoch 23/94.. Train loss: 3.763.. Val loss: 5.006.. Train L1 norm: 4.734.. Val L1 norm: 3.621.. Train Linf norm: 347.229.. Val Linf norm: 198.353\n",
            "Epoch 24/94.. Train loss: 3.792.. Val loss: 4.734.. Train L1 norm: 4.885.. Val L1 norm: 3.239.. Train Linf norm: 360.235.. Val Linf norm: 172.266\n",
            "Epoch 25/94.. Train loss: 3.784.. Val loss: 4.697.. Train L1 norm: 5.005.. Val L1 norm: 3.201.. Train Linf norm: 381.789.. Val Linf norm: 169.551\n",
            "Epoch 26/94.. Train loss: 3.771.. Val loss: 4.985.. Train L1 norm: 4.961.. Val L1 norm: 3.618.. Train Linf norm: 376.809.. Val Linf norm: 197.806\n",
            "Epoch 27/94.. Train loss: 3.766.. Val loss: 4.799.. Train L1 norm: 4.977.. Val L1 norm: 3.372.. Train Linf norm: 371.566.. Val Linf norm: 180.962\n",
            "Epoch 28/94.. Train loss: 3.755.. Val loss: 4.790.. Train L1 norm: 5.062.. Val L1 norm: 3.370.. Train Linf norm: 387.457.. Val Linf norm: 180.702\n",
            "Epoch 29/94.. Train loss: 3.747.. Val loss: 4.665.. Train L1 norm: 5.099.. Val L1 norm: 3.186.. Train Linf norm: 387.000.. Val Linf norm: 167.947\n",
            "Epoch 30/94.. Train loss: 3.746.. Val loss: 4.793.. Train L1 norm: 4.912.. Val L1 norm: 3.398.. Train Linf norm: 363.527.. Val Linf norm: 182.400\n",
            "Epoch 31/94.. Train loss: 3.737.. Val loss: 4.948.. Train L1 norm: 4.950.. Val L1 norm: 3.617.. Train Linf norm: 362.362.. Val Linf norm: 197.362\n",
            "Epoch 32/94.. Train loss: 3.730.. Val loss: 4.920.. Train L1 norm: 5.059.. Val L1 norm: 3.582.. Train Linf norm: 378.958.. Val Linf norm: 194.878\n",
            "Epoch 33/94.. Train loss: 3.739.. Val loss: 4.770.. Train L1 norm: 5.129.. Val L1 norm: 3.363.. Train Linf norm: 391.584.. Val Linf norm: 179.827\n",
            "Epoch 34/94.. Train loss: 3.731.. Val loss: 4.792.. Train L1 norm: 5.140.. Val L1 norm: 3.392.. Train Linf norm: 390.928.. Val Linf norm: 181.915\n",
            "Epoch 35/94.. Train loss: 3.715.. Val loss: 4.961.. Train L1 norm: 5.052.. Val L1 norm: 3.651.. Train Linf norm: 384.617.. Val Linf norm: 199.415\n",
            "Epoch 36/94.. Train loss: 3.727.. Val loss: 4.746.. Train L1 norm: 5.275.. Val L1 norm: 3.336.. Train Linf norm: 407.214.. Val Linf norm: 177.912\n",
            "Epoch 37/94.. Train loss: 3.717.. Val loss: 4.628.. Train L1 norm: 5.113.. Val L1 norm: 3.150.. Train Linf norm: 380.044.. Val Linf norm: 165.294\n",
            "Epoch 38/94.. Train loss: 3.705.. Val loss: 4.785.. Train L1 norm: 5.045.. Val L1 norm: 3.400.. Train Linf norm: 383.213.. Val Linf norm: 182.040\n",
            "Epoch 39/94.. Train loss: 3.702.. Val loss: 4.702.. Train L1 norm: 5.269.. Val L1 norm: 3.276.. Train Linf norm: 404.557.. Val Linf norm: 173.628\n",
            "Epoch 40/94.. Train loss: 3.698.. Val loss: 4.853.. Train L1 norm: 4.975.. Val L1 norm: 3.498.. Train Linf norm: 369.106.. Val Linf norm: 188.821\n",
            "Epoch 41/94.. Train loss: 3.704.. Val loss: 4.849.. Train L1 norm: 5.232.. Val L1 norm: 3.497.. Train Linf norm: 399.515.. Val Linf norm: 188.695\n",
            "Epoch 42/94.. Train loss: 3.700.. Val loss: 4.744.. Train L1 norm: 5.320.. Val L1 norm: 3.334.. Train Linf norm: 404.544.. Val Linf norm: 177.564\n",
            "Epoch 43/94.. Train loss: 3.698.. Val loss: 4.718.. Train L1 norm: 5.160.. Val L1 norm: 3.293.. Train Linf norm: 389.782.. Val Linf norm: 174.659\n",
            "Epoch 44/94.. Train loss: 3.701.. Val loss: 4.835.. Train L1 norm: 4.956.. Val L1 norm: 3.472.. Train Linf norm: 365.134.. Val Linf norm: 186.736\n",
            "Epoch 45/94.. Train loss: 3.694.. Val loss: 4.861.. Train L1 norm: 5.210.. Val L1 norm: 3.506.. Train Linf norm: 395.317.. Val Linf norm: 189.108\n",
            "Epoch 46/94.. Train loss: 3.685.. Val loss: 4.835.. Train L1 norm: 5.220.. Val L1 norm: 3.470.. Train Linf norm: 397.084.. Val Linf norm: 186.601\n",
            "Epoch 47/94.. Train loss: 3.689.. Val loss: 4.684.. Train L1 norm: 5.246.. Val L1 norm: 3.251.. Train Linf norm: 391.257.. Val Linf norm: 172.294\n",
            "Epoch 48/94.. Train loss: 3.679.. Val loss: 4.780.. Train L1 norm: 5.301.. Val L1 norm: 3.391.. Train Linf norm: 405.878.. Val Linf norm: 181.408\n",
            "Epoch 49/94.. Train loss: 3.677.. Val loss: 4.807.. Train L1 norm: 5.329.. Val L1 norm: 3.427.. Train Linf norm: 411.892.. Val Linf norm: 183.815\n",
            "Epoch 50/94.. Train loss: 3.681.. Val loss: 4.784.. Train L1 norm: 5.295.. Val L1 norm: 3.399.. Train Linf norm: 410.568.. Val Linf norm: 181.937\n",
            "Epoch 51/94.. Train loss: 3.674.. Val loss: 4.766.. Train L1 norm: 5.150.. Val L1 norm: 3.373.. Train Linf norm: 379.771.. Val Linf norm: 180.117\n",
            "Epoch 52/94.. Train loss: 3.678.. Val loss: 4.860.. Train L1 norm: 5.192.. Val L1 norm: 3.503.. Train Linf norm: 395.676.. Val Linf norm: 188.847\n",
            "Epoch 53/94.. Train loss: 3.670.. Val loss: 4.788.. Train L1 norm: 5.336.. Val L1 norm: 3.398.. Train Linf norm: 408.882.. Val Linf norm: 181.708\n",
            "Epoch 54/94.. Train loss: 3.674.. Val loss: 4.822.. Train L1 norm: 5.226.. Val L1 norm: 3.445.. Train Linf norm: 394.684.. Val Linf norm: 184.872\n",
            "Epoch 55/94.. Train loss: 3.667.. Val loss: 4.798.. Train L1 norm: 5.346.. Val L1 norm: 3.416.. Train Linf norm: 412.310.. Val Linf norm: 182.958\n",
            "Epoch 56/94.. Train loss: 3.674.. Val loss: 4.694.. Train L1 norm: 5.253.. Val L1 norm: 3.266.. Train Linf norm: 395.814.. Val Linf norm: 172.961\n",
            "Epoch 57/94.. Train loss: 3.674.. Val loss: 4.802.. Train L1 norm: 5.189.. Val L1 norm: 3.418.. Train Linf norm: 388.636.. Val Linf norm: 183.011\n",
            "Epoch 58/94.. Train loss: 3.672.. Val loss: 4.773.. Train L1 norm: 5.284.. Val L1 norm: 3.375.. Train Linf norm: 399.715.. Val Linf norm: 180.149\n",
            "Epoch 59/94.. Train loss: 3.670.. Val loss: 4.824.. Train L1 norm: 5.214.. Val L1 norm: 3.450.. Train Linf norm: 395.284.. Val Linf norm: 185.140\n",
            "Epoch 60/94.. Train loss: 3.668.. Val loss: 4.833.. Train L1 norm: 5.256.. Val L1 norm: 3.467.. Train Linf norm: 402.380.. Val Linf norm: 186.321\n",
            "Epoch 61/94.. Train loss: 3.668.. Val loss: 4.830.. Train L1 norm: 5.249.. Val L1 norm: 3.462.. Train Linf norm: 396.920.. Val Linf norm: 185.970\n",
            "Epoch 62/94.. Train loss: 3.658.. Val loss: 4.842.. Train L1 norm: 5.226.. Val L1 norm: 3.481.. Train Linf norm: 377.520.. Val Linf norm: 187.257\n",
            "Epoch 63/94.. Train loss: 3.662.. Val loss: 4.846.. Train L1 norm: 5.353.. Val L1 norm: 3.490.. Train Linf norm: 409.951.. Val Linf norm: 187.844\n",
            "Epoch 64/94.. Train loss: 3.664.. Val loss: 4.835.. Train L1 norm: 5.292.. Val L1 norm: 3.474.. Train Linf norm: 405.900.. Val Linf norm: 186.766\n",
            "Epoch 65/94.. Train loss: 3.661.. Val loss: 4.800.. Train L1 norm: 5.365.. Val L1 norm: 3.423.. Train Linf norm: 412.380.. Val Linf norm: 183.358\n",
            "Epoch 66/94.. Train loss: 3.668.. Val loss: 4.803.. Train L1 norm: 5.324.. Val L1 norm: 3.430.. Train Linf norm: 411.503.. Val Linf norm: 183.766\n",
            "Epoch 67/94.. Train loss: 3.669.. Val loss: 4.809.. Train L1 norm: 5.184.. Val L1 norm: 3.439.. Train Linf norm: 393.679.. Val Linf norm: 184.343\n",
            "Epoch 68/94.. Train loss: 3.664.. Val loss: 4.845.. Train L1 norm: 5.243.. Val L1 norm: 3.491.. Train Linf norm: 400.046.. Val Linf norm: 187.869\n",
            "Epoch 69/94.. Train loss: 3.663.. Val loss: 4.813.. Train L1 norm: 5.332.. Val L1 norm: 3.445.. Train Linf norm: 405.564.. Val Linf norm: 184.761\n",
            "Epoch 70/94.. Train loss: 3.661.. Val loss: 4.814.. Train L1 norm: 5.226.. Val L1 norm: 3.447.. Train Linf norm: 394.298.. Val Linf norm: 184.973\n",
            "Epoch 71/94.. Train loss: 3.658.. Val loss: 4.828.. Train L1 norm: 5.178.. Val L1 norm: 3.467.. Train Linf norm: 386.300.. Val Linf norm: 186.338\n",
            "Epoch 72/94.. Train loss: 3.661.. Val loss: 4.834.. Train L1 norm: 5.260.. Val L1 norm: 3.477.. Train Linf norm: 401.174.. Val Linf norm: 186.990\n",
            "Epoch 73/94.. Train loss: 3.667.. Val loss: 4.815.. Train L1 norm: 5.410.. Val L1 norm: 3.450.. Train Linf norm: 416.524.. Val Linf norm: 185.114\n",
            "Epoch 74/94.. Train loss: 3.658.. Val loss: 4.823.. Train L1 norm: 5.360.. Val L1 norm: 3.461.. Train Linf norm: 394.357.. Val Linf norm: 185.893\n",
            "Epoch 75/94.. Train loss: 3.654.. Val loss: 4.824.. Train L1 norm: 5.332.. Val L1 norm: 3.464.. Train Linf norm: 408.308.. Val Linf norm: 186.060\n",
            "Epoch 76/94.. Train loss: 3.659.. Val loss: 4.822.. Train L1 norm: 5.259.. Val L1 norm: 3.461.. Train Linf norm: 404.806.. Val Linf norm: 185.845\n",
            "Epoch 77/94.. Train loss: 3.658.. Val loss: 4.817.. Train L1 norm: 5.373.. Val L1 norm: 3.455.. Train Linf norm: 417.183.. Val Linf norm: 185.494\n",
            "Epoch 78/94.. Train loss: 3.654.. Val loss: 4.828.. Train L1 norm: 5.334.. Val L1 norm: 3.472.. Train Linf norm: 407.211.. Val Linf norm: 186.618\n",
            "Epoch 79/94.. Train loss: 3.663.. Val loss: 4.828.. Train L1 norm: 5.324.. Val L1 norm: 3.473.. Train Linf norm: 404.355.. Val Linf norm: 186.689\n",
            "Epoch 80/94.. Train loss: 3.657.. Val loss: 4.827.. Train L1 norm: 5.355.. Val L1 norm: 3.472.. Train Linf norm: 408.536.. Val Linf norm: 186.643\n",
            "Epoch 81/94.. Train loss: 3.654.. Val loss: 4.817.. Train L1 norm: 5.375.. Val L1 norm: 3.459.. Train Linf norm: 410.354.. Val Linf norm: 185.738\n",
            "Epoch 82/94.. Train loss: 3.657.. Val loss: 4.816.. Train L1 norm: 5.369.. Val L1 norm: 3.456.. Train Linf norm: 405.465.. Val Linf norm: 185.582\n",
            "Epoch 83/94.. Train loss: 3.663.. Val loss: 4.819.. Train L1 norm: 5.296.. Val L1 norm: 3.461.. Train Linf norm: 404.338.. Val Linf norm: 185.896\n",
            "Epoch 84/94.. Train loss: 3.652.. Val loss: 4.826.. Train L1 norm: 5.332.. Val L1 norm: 3.470.. Train Linf norm: 392.069.. Val Linf norm: 186.502\n",
            "Epoch 85/94.. Train loss: 3.657.. Val loss: 4.820.. Train L1 norm: 5.424.. Val L1 norm: 3.463.. Train Linf norm: 420.227.. Val Linf norm: 185.993\n",
            "Epoch 86/94.. Train loss: 3.659.. Val loss: 4.821.. Train L1 norm: 5.357.. Val L1 norm: 3.463.. Train Linf norm: 411.645.. Val Linf norm: 186.026\n",
            "Epoch 87/94.. Train loss: 3.658.. Val loss: 4.817.. Train L1 norm: 5.363.. Val L1 norm: 3.458.. Train Linf norm: 414.963.. Val Linf norm: 185.685\n",
            "Epoch 88/94.. Train loss: 3.661.. Val loss: 4.817.. Train L1 norm: 5.347.. Val L1 norm: 3.458.. Train Linf norm: 411.534.. Val Linf norm: 185.684\n",
            "Epoch 89/94.. Train loss: 3.658.. Val loss: 4.823.. Train L1 norm: 5.264.. Val L1 norm: 3.466.. Train Linf norm: 391.992.. Val Linf norm: 186.229\n",
            "Epoch 90/94.. Train loss: 3.659.. Val loss: 4.820.. Train L1 norm: 5.251.. Val L1 norm: 3.463.. Train Linf norm: 401.987.. Val Linf norm: 185.980\n",
            "Epoch 91/94.. Train loss: 3.661.. Val loss: 4.814.. Train L1 norm: 5.353.. Val L1 norm: 3.454.. Train Linf norm: 413.742.. Val Linf norm: 185.383\n",
            "Epoch 92/94.. Train loss: 3.655.. Val loss: 4.817.. Train L1 norm: 5.348.. Val L1 norm: 3.460.. Train Linf norm: 413.144.. Val Linf norm: 185.773\n",
            "Epoch 93/94.. Train loss: 3.662.. Val loss: 4.816.. Train L1 norm: 5.327.. Val L1 norm: 3.458.. Train Linf norm: 410.042.. Val Linf norm: 185.662\n"
          ]
        },
        {
          "output_type": "stream",
          "name": "stderr",
          "text": [
            "[I 2023-06-03 11:31:43,087] Trial 11 finished with value: 3.457972690137227 and parameters: {'n_layers': 10, 'n_units_0': 3067, 'n_units_1': 1493, 'n_units_2': 71, 'n_units_3': 1490, 'n_units_4': 4029, 'n_units_5': 85, 'n_units_6': 3776, 'n_units_7': 251, 'n_units_8': 1023, 'n_units_9': 3917, 'hidden_activation': 'ReLU', 'output_activation': 'Linear', 'loss': 'Huber', 'optimizer': 'SGD', 'lr': 1.7686025516797578e-05, 'batch_size': 128, 'n_epochs': 94, 'scheduler': 'ReduceLROnPlateau', 'dropout_rate': 0.01709352366063746, 'weight_decay': 1.5625757531831504e-05, 'momentum': 0.8613422549407864, 'factor': 0.4735178925947744, 'patience': 10, 'threshold': 0.00011907332874316225}. Best is trial 2 with value: 1.156466460164388.\n"
          ]
        },
        {
          "output_type": "stream",
          "name": "stdout",
          "text": [
            "Epoch 94/94.. Train loss: 3.656.. Val loss: 4.816.. Train L1 norm: 5.385.. Val L1 norm: 3.458.. Train Linf norm: 413.863.. Val Linf norm: 185.659\n"
          ]
        },
        {
          "output_type": "display_data",
          "data": {
            "text/html": [
              "<html>\n",
              "<head><meta charset=\"utf-8\" /></head>\n",
              "<body>\n",
              "    <div>            <script src=\"https://cdnjs.cloudflare.com/ajax/libs/mathjax/2.7.5/MathJax.js?config=TeX-AMS-MML_SVG\"></script><script type=\"text/javascript\">if (window.MathJax && window.MathJax.Hub && window.MathJax.Hub.Config) {window.MathJax.Hub.Config({SVG: {font: \"STIX-Web\"}});}</script>                <script type=\"text/javascript\">window.PlotlyConfig = {MathJaxConfig: 'local'};</script>\n",
              "        <script src=\"https://cdn.plot.ly/plotly-2.18.2.min.js\"></script>                <div id=\"fb8ace58-83c2-4056-963f-ab9777744bfb\" class=\"plotly-graph-div\" style=\"height:525px; width:100%;\"></div>            <script type=\"text/javascript\">                                    window.PLOTLYENV=window.PLOTLYENV || {};                                    if (document.getElementById(\"fb8ace58-83c2-4056-963f-ab9777744bfb\")) {                    Plotly.newPlot(                        \"fb8ace58-83c2-4056-963f-ab9777744bfb\",                        [{\"mode\":\"markers\",\"name\":\"Objective Value\",\"x\":[0,2,3,4,5,6,11],\"y\":[3.1759881306966147,1.156466460164388,2.3734971160888674,197068098895033.12,28.626712099456785,3.4212768898010255,3.457972690137227],\"type\":\"scatter\"},{\"name\":\"Best Value\",\"x\":[0,2,3,4,5,6,11],\"y\":[3.1759881306966147,1.156466460164388,1.156466460164388,1.156466460164388,1.156466460164388,1.156466460164388,1.156466460164388],\"type\":\"scatter\"}],                        {\"title\":{\"text\":\"Optimization History Plot\"},\"xaxis\":{\"title\":{\"text\":\"Trial\"}},\"yaxis\":{\"title\":{\"text\":\"Objective Value\"}},\"template\":{\"data\":{\"histogram2dcontour\":[{\"type\":\"histogram2dcontour\",\"colorbar\":{\"outlinewidth\":0,\"ticks\":\"\"},\"colorscale\":[[0.0,\"#0d0887\"],[0.1111111111111111,\"#46039f\"],[0.2222222222222222,\"#7201a8\"],[0.3333333333333333,\"#9c179e\"],[0.4444444444444444,\"#bd3786\"],[0.5555555555555556,\"#d8576b\"],[0.6666666666666666,\"#ed7953\"],[0.7777777777777778,\"#fb9f3a\"],[0.8888888888888888,\"#fdca26\"],[1.0,\"#f0f921\"]]}],\"choropleth\":[{\"type\":\"choropleth\",\"colorbar\":{\"outlinewidth\":0,\"ticks\":\"\"}}],\"histogram2d\":[{\"type\":\"histogram2d\",\"colorbar\":{\"outlinewidth\":0,\"ticks\":\"\"},\"colorscale\":[[0.0,\"#0d0887\"],[0.1111111111111111,\"#46039f\"],[0.2222222222222222,\"#7201a8\"],[0.3333333333333333,\"#9c179e\"],[0.4444444444444444,\"#bd3786\"],[0.5555555555555556,\"#d8576b\"],[0.6666666666666666,\"#ed7953\"],[0.7777777777777778,\"#fb9f3a\"],[0.8888888888888888,\"#fdca26\"],[1.0,\"#f0f921\"]]}],\"heatmap\":[{\"type\":\"heatmap\",\"colorbar\":{\"outlinewidth\":0,\"ticks\":\"\"},\"colorscale\":[[0.0,\"#0d0887\"],[0.1111111111111111,\"#46039f\"],[0.2222222222222222,\"#7201a8\"],[0.3333333333333333,\"#9c179e\"],[0.4444444444444444,\"#bd3786\"],[0.5555555555555556,\"#d8576b\"],[0.6666666666666666,\"#ed7953\"],[0.7777777777777778,\"#fb9f3a\"],[0.8888888888888888,\"#fdca26\"],[1.0,\"#f0f921\"]]}],\"heatmapgl\":[{\"type\":\"heatmapgl\",\"colorbar\":{\"outlinewidth\":0,\"ticks\":\"\"},\"colorscale\":[[0.0,\"#0d0887\"],[0.1111111111111111,\"#46039f\"],[0.2222222222222222,\"#7201a8\"],[0.3333333333333333,\"#9c179e\"],[0.4444444444444444,\"#bd3786\"],[0.5555555555555556,\"#d8576b\"],[0.6666666666666666,\"#ed7953\"],[0.7777777777777778,\"#fb9f3a\"],[0.8888888888888888,\"#fdca26\"],[1.0,\"#f0f921\"]]}],\"contourcarpet\":[{\"type\":\"contourcarpet\",\"colorbar\":{\"outlinewidth\":0,\"ticks\":\"\"}}],\"contour\":[{\"type\":\"contour\",\"colorbar\":{\"outlinewidth\":0,\"ticks\":\"\"},\"colorscale\":[[0.0,\"#0d0887\"],[0.1111111111111111,\"#46039f\"],[0.2222222222222222,\"#7201a8\"],[0.3333333333333333,\"#9c179e\"],[0.4444444444444444,\"#bd3786\"],[0.5555555555555556,\"#d8576b\"],[0.6666666666666666,\"#ed7953\"],[0.7777777777777778,\"#fb9f3a\"],[0.8888888888888888,\"#fdca26\"],[1.0,\"#f0f921\"]]}],\"surface\":[{\"type\":\"surface\",\"colorbar\":{\"outlinewidth\":0,\"ticks\":\"\"},\"colorscale\":[[0.0,\"#0d0887\"],[0.1111111111111111,\"#46039f\"],[0.2222222222222222,\"#7201a8\"],[0.3333333333333333,\"#9c179e\"],[0.4444444444444444,\"#bd3786\"],[0.5555555555555556,\"#d8576b\"],[0.6666666666666666,\"#ed7953\"],[0.7777777777777778,\"#fb9f3a\"],[0.8888888888888888,\"#fdca26\"],[1.0,\"#f0f921\"]]}],\"mesh3d\":[{\"type\":\"mesh3d\",\"colorbar\":{\"outlinewidth\":0,\"ticks\":\"\"}}],\"scatter\":[{\"fillpattern\":{\"fillmode\":\"overlay\",\"size\":10,\"solidity\":0.2},\"type\":\"scatter\"}],\"parcoords\":[{\"type\":\"parcoords\",\"line\":{\"colorbar\":{\"outlinewidth\":0,\"ticks\":\"\"}}}],\"scatterpolargl\":[{\"type\":\"scatterpolargl\",\"marker\":{\"colorbar\":{\"outlinewidth\":0,\"ticks\":\"\"}}}],\"bar\":[{\"error_x\":{\"color\":\"#2a3f5f\"},\"error_y\":{\"color\":\"#2a3f5f\"},\"marker\":{\"line\":{\"color\":\"#E5ECF6\",\"width\":0.5},\"pattern\":{\"fillmode\":\"overlay\",\"size\":10,\"solidity\":0.2}},\"type\":\"bar\"}],\"scattergeo\":[{\"type\":\"scattergeo\",\"marker\":{\"colorbar\":{\"outlinewidth\":0,\"ticks\":\"\"}}}],\"scatterpolar\":[{\"type\":\"scatterpolar\",\"marker\":{\"colorbar\":{\"outlinewidth\":0,\"ticks\":\"\"}}}],\"histogram\":[{\"marker\":{\"pattern\":{\"fillmode\":\"overlay\",\"size\":10,\"solidity\":0.2}},\"type\":\"histogram\"}],\"scattergl\":[{\"type\":\"scattergl\",\"marker\":{\"colorbar\":{\"outlinewidth\":0,\"ticks\":\"\"}}}],\"scatter3d\":[{\"type\":\"scatter3d\",\"line\":{\"colorbar\":{\"outlinewidth\":0,\"ticks\":\"\"}},\"marker\":{\"colorbar\":{\"outlinewidth\":0,\"ticks\":\"\"}}}],\"scattermapbox\":[{\"type\":\"scattermapbox\",\"marker\":{\"colorbar\":{\"outlinewidth\":0,\"ticks\":\"\"}}}],\"scatterternary\":[{\"type\":\"scatterternary\",\"marker\":{\"colorbar\":{\"outlinewidth\":0,\"ticks\":\"\"}}}],\"scattercarpet\":[{\"type\":\"scattercarpet\",\"marker\":{\"colorbar\":{\"outlinewidth\":0,\"ticks\":\"\"}}}],\"carpet\":[{\"aaxis\":{\"endlinecolor\":\"#2a3f5f\",\"gridcolor\":\"white\",\"linecolor\":\"white\",\"minorgridcolor\":\"white\",\"startlinecolor\":\"#2a3f5f\"},\"baxis\":{\"endlinecolor\":\"#2a3f5f\",\"gridcolor\":\"white\",\"linecolor\":\"white\",\"minorgridcolor\":\"white\",\"startlinecolor\":\"#2a3f5f\"},\"type\":\"carpet\"}],\"table\":[{\"cells\":{\"fill\":{\"color\":\"#EBF0F8\"},\"line\":{\"color\":\"white\"}},\"header\":{\"fill\":{\"color\":\"#C8D4E3\"},\"line\":{\"color\":\"white\"}},\"type\":\"table\"}],\"barpolar\":[{\"marker\":{\"line\":{\"color\":\"#E5ECF6\",\"width\":0.5},\"pattern\":{\"fillmode\":\"overlay\",\"size\":10,\"solidity\":0.2}},\"type\":\"barpolar\"}],\"pie\":[{\"automargin\":true,\"type\":\"pie\"}]},\"layout\":{\"autotypenumbers\":\"strict\",\"colorway\":[\"#636efa\",\"#EF553B\",\"#00cc96\",\"#ab63fa\",\"#FFA15A\",\"#19d3f3\",\"#FF6692\",\"#B6E880\",\"#FF97FF\",\"#FECB52\"],\"font\":{\"color\":\"#2a3f5f\"},\"hovermode\":\"closest\",\"hoverlabel\":{\"align\":\"left\"},\"paper_bgcolor\":\"white\",\"plot_bgcolor\":\"#E5ECF6\",\"polar\":{\"bgcolor\":\"#E5ECF6\",\"angularaxis\":{\"gridcolor\":\"white\",\"linecolor\":\"white\",\"ticks\":\"\"},\"radialaxis\":{\"gridcolor\":\"white\",\"linecolor\":\"white\",\"ticks\":\"\"}},\"ternary\":{\"bgcolor\":\"#E5ECF6\",\"aaxis\":{\"gridcolor\":\"white\",\"linecolor\":\"white\",\"ticks\":\"\"},\"baxis\":{\"gridcolor\":\"white\",\"linecolor\":\"white\",\"ticks\":\"\"},\"caxis\":{\"gridcolor\":\"white\",\"linecolor\":\"white\",\"ticks\":\"\"}},\"coloraxis\":{\"colorbar\":{\"outlinewidth\":0,\"ticks\":\"\"}},\"colorscale\":{\"sequential\":[[0.0,\"#0d0887\"],[0.1111111111111111,\"#46039f\"],[0.2222222222222222,\"#7201a8\"],[0.3333333333333333,\"#9c179e\"],[0.4444444444444444,\"#bd3786\"],[0.5555555555555556,\"#d8576b\"],[0.6666666666666666,\"#ed7953\"],[0.7777777777777778,\"#fb9f3a\"],[0.8888888888888888,\"#fdca26\"],[1.0,\"#f0f921\"]],\"sequentialminus\":[[0.0,\"#0d0887\"],[0.1111111111111111,\"#46039f\"],[0.2222222222222222,\"#7201a8\"],[0.3333333333333333,\"#9c179e\"],[0.4444444444444444,\"#bd3786\"],[0.5555555555555556,\"#d8576b\"],[0.6666666666666666,\"#ed7953\"],[0.7777777777777778,\"#fb9f3a\"],[0.8888888888888888,\"#fdca26\"],[1.0,\"#f0f921\"]],\"diverging\":[[0,\"#8e0152\"],[0.1,\"#c51b7d\"],[0.2,\"#de77ae\"],[0.3,\"#f1b6da\"],[0.4,\"#fde0ef\"],[0.5,\"#f7f7f7\"],[0.6,\"#e6f5d0\"],[0.7,\"#b8e186\"],[0.8,\"#7fbc41\"],[0.9,\"#4d9221\"],[1,\"#276419\"]]},\"xaxis\":{\"gridcolor\":\"white\",\"linecolor\":\"white\",\"ticks\":\"\",\"title\":{\"standoff\":15},\"zerolinecolor\":\"white\",\"automargin\":true,\"zerolinewidth\":2},\"yaxis\":{\"gridcolor\":\"white\",\"linecolor\":\"white\",\"ticks\":\"\",\"title\":{\"standoff\":15},\"zerolinecolor\":\"white\",\"automargin\":true,\"zerolinewidth\":2},\"scene\":{\"xaxis\":{\"backgroundcolor\":\"#E5ECF6\",\"gridcolor\":\"white\",\"linecolor\":\"white\",\"showbackground\":true,\"ticks\":\"\",\"zerolinecolor\":\"white\",\"gridwidth\":2},\"yaxis\":{\"backgroundcolor\":\"#E5ECF6\",\"gridcolor\":\"white\",\"linecolor\":\"white\",\"showbackground\":true,\"ticks\":\"\",\"zerolinecolor\":\"white\",\"gridwidth\":2},\"zaxis\":{\"backgroundcolor\":\"#E5ECF6\",\"gridcolor\":\"white\",\"linecolor\":\"white\",\"showbackground\":true,\"ticks\":\"\",\"zerolinecolor\":\"white\",\"gridwidth\":2}},\"shapedefaults\":{\"line\":{\"color\":\"#2a3f5f\"}},\"annotationdefaults\":{\"arrowcolor\":\"#2a3f5f\",\"arrowhead\":0,\"arrowwidth\":1},\"geo\":{\"bgcolor\":\"white\",\"landcolor\":\"#E5ECF6\",\"subunitcolor\":\"white\",\"showland\":true,\"showlakes\":true,\"lakecolor\":\"white\"},\"title\":{\"x\":0.05},\"mapbox\":{\"style\":\"light\"}}}},                        {\"responsive\": true}                    ).then(function(){\n",
              "                            \n",
              "var gd = document.getElementById('fb8ace58-83c2-4056-963f-ab9777744bfb');\n",
              "var x = new MutationObserver(function (mutations, observer) {{\n",
              "        var display = window.getComputedStyle(gd).display;\n",
              "        if (!display || display === 'none') {{\n",
              "            console.log([gd, 'removed!']);\n",
              "            Plotly.purge(gd);\n",
              "            observer.disconnect();\n",
              "        }}\n",
              "}});\n",
              "\n",
              "// Listen for the removal of the full notebook cells\n",
              "var notebookContainer = gd.closest('#notebook-container');\n",
              "if (notebookContainer) {{\n",
              "    x.observe(notebookContainer, {childList: true});\n",
              "}}\n",
              "\n",
              "// Listen for the clearing of the current output cell\n",
              "var outputEl = gd.closest('.output');\n",
              "if (outputEl) {{\n",
              "    x.observe(outputEl, {childList: true});\n",
              "}}\n",
              "\n",
              "                        })                };                            </script>        </div>\n",
              "</body>\n",
              "</html>"
            ]
          },
          "metadata": {}
        },
        {
          "output_type": "stream",
          "name": "stderr",
          "text": [
            "[W 2023-06-03 11:31:43,539] Your study has only completed trials with missing parameters.\n",
            "<ipython-input-37-247d5052aadc>:44: FutureWarning:\n",
            "\n",
            "suggest_loguniform has been deprecated in v3.0.0. This feature will be removed in v6.0.0. See https://github.com/optuna/optuna/releases/tag/v3.0.0. Use suggest_float(..., log=True) instead.\n",
            "\n",
            "<ipython-input-37-247d5052aadc>:76: FutureWarning:\n",
            "\n",
            "suggest_uniform has been deprecated in v3.0.0. This feature will be removed in v6.0.0. See https://github.com/optuna/optuna/releases/tag/v3.0.0. Use suggest_float instead.\n",
            "\n",
            "<ipython-input-37-247d5052aadc>:145: FutureWarning:\n",
            "\n",
            "suggest_loguniform has been deprecated in v3.0.0. This feature will be removed in v6.0.0. See https://github.com/optuna/optuna/releases/tag/v3.0.0. Use suggest_float(..., log=True) instead.\n",
            "\n",
            "<ipython-input-37-247d5052aadc>:146: FutureWarning:\n",
            "\n",
            "suggest_uniform has been deprecated in v3.0.0. This feature will be removed in v6.0.0. See https://github.com/optuna/optuna/releases/tag/v3.0.0. Use suggest_float instead.\n",
            "\n",
            "<ipython-input-37-247d5052aadc>:168: FutureWarning:\n",
            "\n",
            "suggest_uniform has been deprecated in v3.0.0. This feature will be removed in v6.0.0. See https://github.com/optuna/optuna/releases/tag/v3.0.0. Use suggest_float instead.\n",
            "\n",
            "<ipython-input-37-247d5052aadc>:175: FutureWarning:\n",
            "\n",
            "suggest_loguniform has been deprecated in v3.0.0. This feature will be removed in v6.0.0. See https://github.com/optuna/optuna/releases/tag/v3.0.0. Use suggest_float(..., log=True) instead.\n",
            "\n"
          ]
        },
        {
          "output_type": "stream",
          "name": "stdout",
          "text": [
            "Epoch 1/108.. Train loss: 4.861.. Val loss: 5.154.. Train L1 norm: 1.450.. Val L1 norm: 1.205.. Train Linf norm: 172.586.. Val Linf norm: 70.246\n",
            "Epoch 2/108.. Train loss: 4.692.. Val loss: 5.262.. Train L1 norm: 2.525.. Val L1 norm: 1.549.. Train Linf norm: 490.154.. Val Linf norm: 157.321\n",
            "Epoch 3/108.. Train loss: 4.654.. Val loss: 5.147.. Train L1 norm: 3.599.. Val L1 norm: 1.278.. Train Linf norm: 876.457.. Val Linf norm: 88.231\n",
            "Epoch 4/108.. Train loss: 4.617.. Val loss: 5.109.. Train L1 norm: 3.686.. Val L1 norm: 1.292.. Train Linf norm: 916.796.. Val Linf norm: 90.645\n",
            "Epoch 5/108.. Train loss: 4.524.. Val loss: 5.254.. Train L1 norm: 3.348.. Val L1 norm: 1.918.. Train Linf norm: 723.880.. Val Linf norm: 238.920\n",
            "Epoch 6/108.. Train loss: 4.552.. Val loss: 5.123.. Train L1 norm: 3.548.. Val L1 norm: 1.883.. Train Linf norm: 814.312.. Val Linf norm: 228.293\n",
            "Epoch 7/108.. Train loss: 4.519.. Val loss: 5.011.. Train L1 norm: 3.593.. Val L1 norm: 1.665.. Train Linf norm: 809.560.. Val Linf norm: 179.189\n",
            "Epoch 8/108.. Train loss: 4.575.. Val loss: 5.203.. Train L1 norm: 3.645.. Val L1 norm: 2.432.. Train Linf norm: 843.005.. Val Linf norm: 346.900\n",
            "Epoch 9/108.. Train loss: 4.495.. Val loss: 5.051.. Train L1 norm: 3.812.. Val L1 norm: 2.423.. Train Linf norm: 889.892.. Val Linf norm: 341.973\n",
            "Epoch 10/108.. Train loss: 4.735.. Val loss: 4.665.. Train L1 norm: 2.396.. Val L1 norm: 2.044.. Train Linf norm: 444.796.. Val Linf norm: 258.485\n",
            "Epoch 11/108.. Train loss: 4.437.. Val loss: 4.637.. Train L1 norm: 3.902.. Val L1 norm: 2.418.. Train Linf norm: 911.455.. Val Linf norm: 334.555\n",
            "Epoch 12/108.. Train loss: 4.530.. Val loss: 4.501.. Train L1 norm: 4.000.. Val L1 norm: 2.675.. Train Linf norm: 938.608.. Val Linf norm: 387.952\n",
            "Epoch 13/108.. Train loss: 4.349.. Val loss: 4.377.. Train L1 norm: 4.513.. Val L1 norm: 3.516.. Train Linf norm: 1080.927.. Val Linf norm: 551.628\n",
            "Epoch 14/108.. Train loss: 4.292.. Val loss: 4.353.. Train L1 norm: 5.377.. Val L1 norm: 3.907.. Train Linf norm: 1275.632.. Val Linf norm: 625.429\n",
            "Epoch 15/108.. Train loss: 4.288.. Val loss: 4.351.. Train L1 norm: 5.860.. Val L1 norm: 3.955.. Train Linf norm: 1467.029.. Val Linf norm: 634.450\n",
            "Epoch 16/108.. Train loss: 4.323.. Val loss: 4.353.. Train L1 norm: 5.608.. Val L1 norm: 3.903.. Train Linf norm: 1357.911.. Val Linf norm: 624.623\n",
            "Epoch 17/108.. Train loss: 4.281.. Val loss: 4.349.. Train L1 norm: 5.743.. Val L1 norm: 4.058.. Train Linf norm: 1395.952.. Val Linf norm: 653.577\n",
            "Epoch 18/108.. Train loss: 4.277.. Val loss: 4.348.. Train L1 norm: 5.891.. Val L1 norm: 4.141.. Train Linf norm: 1439.826.. Val Linf norm: 668.966\n",
            "Epoch 19/108.. Train loss: 4.276.. Val loss: 4.347.. Train L1 norm: 6.052.. Val L1 norm: 4.159.. Train Linf norm: 1514.421.. Val Linf norm: 672.409\n",
            "Epoch 20/108.. Train loss: 4.277.. Val loss: 4.347.. Train L1 norm: 6.018.. Val L1 norm: 4.174.. Train Linf norm: 1455.463.. Val Linf norm: 675.183\n",
            "Epoch 21/108.. Train loss: 4.277.. Val loss: 4.347.. Train L1 norm: 6.054.. Val L1 norm: 4.175.. Train Linf norm: 1482.216.. Val Linf norm: 675.273\n",
            "Epoch 22/108.. Train loss: 4.276.. Val loss: 4.347.. Train L1 norm: 6.031.. Val L1 norm: 4.174.. Train Linf norm: 1451.957.. Val Linf norm: 675.111\n",
            "Epoch 23/108.. Train loss: 4.276.. Val loss: 4.347.. Train L1 norm: 5.982.. Val L1 norm: 4.176.. Train Linf norm: 1443.224.. Val Linf norm: 675.559\n",
            "Epoch 24/108.. Train loss: 4.276.. Val loss: 4.347.. Train L1 norm: 6.031.. Val L1 norm: 4.175.. Train Linf norm: 1472.353.. Val Linf norm: 675.396\n",
            "Epoch 25/108.. Train loss: 4.277.. Val loss: 4.347.. Train L1 norm: 6.096.. Val L1 norm: 4.175.. Train Linf norm: 1485.408.. Val Linf norm: 675.290\n",
            "Epoch 26/108.. Train loss: 4.277.. Val loss: 4.347.. Train L1 norm: 5.996.. Val L1 norm: 4.175.. Train Linf norm: 1485.897.. Val Linf norm: 675.274\n",
            "Epoch 27/108.. Train loss: 4.277.. Val loss: 4.347.. Train L1 norm: 6.092.. Val L1 norm: 4.175.. Train Linf norm: 1527.552.. Val Linf norm: 675.287\n",
            "Epoch 28/108.. Train loss: 4.276.. Val loss: 4.347.. Train L1 norm: 6.138.. Val L1 norm: 4.175.. Train Linf norm: 1547.214.. Val Linf norm: 675.279\n",
            "Epoch 29/108.. Train loss: 4.276.. Val loss: 4.347.. Train L1 norm: 6.092.. Val L1 norm: 4.174.. Train Linf norm: 1527.014.. Val Linf norm: 675.200\n",
            "Epoch 30/108.. Train loss: 4.275.. Val loss: 4.347.. Train L1 norm: 6.011.. Val L1 norm: 4.175.. Train Linf norm: 1476.051.. Val Linf norm: 675.221\n",
            "Epoch 31/108.. Train loss: 4.277.. Val loss: 4.347.. Train L1 norm: 5.991.. Val L1 norm: 4.174.. Train Linf norm: 1455.375.. Val Linf norm: 675.214\n",
            "Epoch 32/108.. Train loss: 4.277.. Val loss: 4.347.. Train L1 norm: 5.985.. Val L1 norm: 4.175.. Train Linf norm: 1490.473.. Val Linf norm: 675.278\n",
            "Epoch 33/108.. Train loss: 4.276.. Val loss: 4.347.. Train L1 norm: 5.995.. Val L1 norm: 4.176.. Train Linf norm: 1445.337.. Val Linf norm: 675.448\n",
            "Epoch 34/108.. Train loss: 4.277.. Val loss: 4.347.. Train L1 norm: 5.926.. Val L1 norm: 4.175.. Train Linf norm: 1427.118.. Val Linf norm: 675.400\n",
            "Epoch 35/108.. Train loss: 4.277.. Val loss: 4.347.. Train L1 norm: 6.014.. Val L1 norm: 4.179.. Train Linf norm: 1444.742.. Val Linf norm: 676.012\n",
            "Epoch 36/108.. Train loss: 4.276.. Val loss: 4.347.. Train L1 norm: 5.980.. Val L1 norm: 4.178.. Train Linf norm: 1380.516.. Val Linf norm: 675.929\n",
            "Epoch 37/108.. Train loss: 4.275.. Val loss: 4.347.. Train L1 norm: 6.025.. Val L1 norm: 4.171.. Train Linf norm: 1450.603.. Val Linf norm: 674.528\n",
            "Epoch 38/108.. Train loss: 4.276.. Val loss: 4.347.. Train L1 norm: 6.006.. Val L1 norm: 4.178.. Train Linf norm: 1469.250.. Val Linf norm: 675.863\n",
            "Epoch 39/108.. Train loss: 4.276.. Val loss: 4.347.. Train L1 norm: 6.016.. Val L1 norm: 4.168.. Train Linf norm: 1486.510.. Val Linf norm: 674.061\n",
            "Epoch 40/108.. Train loss: 4.277.. Val loss: 4.347.. Train L1 norm: 5.974.. Val L1 norm: 4.177.. Train Linf norm: 1478.198.. Val Linf norm: 675.729\n",
            "Epoch 41/108.. Train loss: 4.277.. Val loss: 4.347.. Train L1 norm: 6.037.. Val L1 norm: 4.175.. Train Linf norm: 1466.961.. Val Linf norm: 675.392\n",
            "Epoch 42/108.. Train loss: 4.277.. Val loss: 4.347.. Train L1 norm: 5.996.. Val L1 norm: 4.184.. Train Linf norm: 1457.495.. Val Linf norm: 677.067\n",
            "Epoch 43/108.. Train loss: 4.277.. Val loss: 4.347.. Train L1 norm: 6.081.. Val L1 norm: 4.173.. Train Linf norm: 1487.363.. Val Linf norm: 674.976\n",
            "Epoch 44/108.. Train loss: 4.276.. Val loss: 4.347.. Train L1 norm: 6.002.. Val L1 norm: 4.175.. Train Linf norm: 1474.842.. Val Linf norm: 675.300\n",
            "Epoch 45/108.. Train loss: 4.277.. Val loss: 4.347.. Train L1 norm: 6.027.. Val L1 norm: 4.180.. Train Linf norm: 1479.840.. Val Linf norm: 676.175\n",
            "Epoch 46/108.. Train loss: 4.276.. Val loss: 4.347.. Train L1 norm: 6.055.. Val L1 norm: 4.176.. Train Linf norm: 1421.320.. Val Linf norm: 675.484\n",
            "Epoch 47/108.. Train loss: 4.277.. Val loss: 4.347.. Train L1 norm: 5.996.. Val L1 norm: 4.172.. Train Linf norm: 1476.285.. Val Linf norm: 674.802\n",
            "Epoch 48/108.. Train loss: 4.277.. Val loss: 4.347.. Train L1 norm: 6.058.. Val L1 norm: 4.171.. Train Linf norm: 1489.127.. Val Linf norm: 674.611\n",
            "Epoch 49/108.. Train loss: 4.277.. Val loss: 4.347.. Train L1 norm: 6.014.. Val L1 norm: 4.170.. Train Linf norm: 1382.230.. Val Linf norm: 674.395\n",
            "Epoch 50/108.. Train loss: 4.277.. Val loss: 4.347.. Train L1 norm: 6.088.. Val L1 norm: 4.170.. Train Linf norm: 1514.408.. Val Linf norm: 674.417\n",
            "Epoch 51/108.. Train loss: 4.276.. Val loss: 4.347.. Train L1 norm: 6.068.. Val L1 norm: 4.170.. Train Linf norm: 1492.163.. Val Linf norm: 674.359\n",
            "Epoch 52/108.. Train loss: 4.276.. Val loss: 4.347.. Train L1 norm: 6.051.. Val L1 norm: 4.170.. Train Linf norm: 1485.297.. Val Linf norm: 674.321\n",
            "Epoch 53/108.. Train loss: 4.276.. Val loss: 4.347.. Train L1 norm: 6.057.. Val L1 norm: 4.170.. Train Linf norm: 1505.871.. Val Linf norm: 674.350\n",
            "Epoch 54/108.. Train loss: 4.277.. Val loss: 4.347.. Train L1 norm: 6.051.. Val L1 norm: 4.170.. Train Linf norm: 1492.734.. Val Linf norm: 674.332\n",
            "Epoch 55/108.. Train loss: 4.277.. Val loss: 4.347.. Train L1 norm: 6.005.. Val L1 norm: 4.170.. Train Linf norm: 1488.827.. Val Linf norm: 674.369\n",
            "Epoch 56/108.. Train loss: 4.277.. Val loss: 4.347.. Train L1 norm: 5.993.. Val L1 norm: 4.171.. Train Linf norm: 1441.045.. Val Linf norm: 674.513\n",
            "Epoch 57/108.. Train loss: 4.276.. Val loss: 4.347.. Train L1 norm: 5.992.. Val L1 norm: 4.169.. Train Linf norm: 1474.281.. Val Linf norm: 674.275\n",
            "Epoch 58/108.. Train loss: 4.277.. Val loss: 4.347.. Train L1 norm: 6.039.. Val L1 norm: 4.174.. Train Linf norm: 1426.473.. Val Linf norm: 675.123\n",
            "Epoch 59/108.. Train loss: 4.276.. Val loss: 4.347.. Train L1 norm: 6.040.. Val L1 norm: 4.176.. Train Linf norm: 1479.815.. Val Linf norm: 675.573\n",
            "Epoch 60/108.. Train loss: 4.276.. Val loss: 4.347.. Train L1 norm: 6.073.. Val L1 norm: 4.174.. Train Linf norm: 1480.118.. Val Linf norm: 675.184\n",
            "Epoch 61/108.. Train loss: 4.277.. Val loss: 4.347.. Train L1 norm: 6.024.. Val L1 norm: 4.175.. Train Linf norm: 1495.985.. Val Linf norm: 675.248\n",
            "Epoch 62/108.. Train loss: 4.276.. Val loss: 4.347.. Train L1 norm: 6.019.. Val L1 norm: 4.179.. Train Linf norm: 1473.477.. Val Linf norm: 676.005\n",
            "Epoch 63/108.. Train loss: 4.276.. Val loss: 4.347.. Train L1 norm: 6.000.. Val L1 norm: 4.181.. Train Linf norm: 1440.300.. Val Linf norm: 676.440\n",
            "Epoch 64/108.. Train loss: 4.276.. Val loss: 4.347.. Train L1 norm: 5.985.. Val L1 norm: 4.168.. Train Linf norm: 1462.172.. Val Linf norm: 674.063\n",
            "Epoch 65/108.. Train loss: 4.277.. Val loss: 4.347.. Train L1 norm: 6.026.. Val L1 norm: 4.168.. Train Linf norm: 1472.888.. Val Linf norm: 673.970\n",
            "Epoch 66/108.. Train loss: 4.276.. Val loss: 4.347.. Train L1 norm: 5.994.. Val L1 norm: 4.175.. Train Linf norm: 1480.805.. Val Linf norm: 675.358\n",
            "Epoch 67/108.. Train loss: 4.277.. Val loss: 4.347.. Train L1 norm: 5.962.. Val L1 norm: 4.167.. Train Linf norm: 1403.730.. Val Linf norm: 673.858\n",
            "Epoch 68/108.. Train loss: 4.276.. Val loss: 4.347.. Train L1 norm: 6.038.. Val L1 norm: 4.169.. Train Linf norm: 1475.137.. Val Linf norm: 674.118\n",
            "Epoch 69/108.. Train loss: 4.276.. Val loss: 4.347.. Train L1 norm: 6.081.. Val L1 norm: 4.171.. Train Linf norm: 1439.656.. Val Linf norm: 674.571\n",
            "Epoch 70/108.. Train loss: 4.276.. Val loss: 4.347.. Train L1 norm: 6.044.. Val L1 norm: 4.171.. Train Linf norm: 1512.428.. Val Linf norm: 674.647\n",
            "Epoch 71/108.. Train loss: 4.275.. Val loss: 4.347.. Train L1 norm: 6.041.. Val L1 norm: 4.168.. Train Linf norm: 1472.431.. Val Linf norm: 674.076\n",
            "Epoch 72/108.. Train loss: 4.276.. Val loss: 4.347.. Train L1 norm: 6.079.. Val L1 norm: 4.167.. Train Linf norm: 1506.243.. Val Linf norm: 673.916\n",
            "Epoch 73/108.. Train loss: 4.276.. Val loss: 4.347.. Train L1 norm: 6.072.. Val L1 norm: 4.169.. Train Linf norm: 1519.638.. Val Linf norm: 674.137\n",
            "Epoch 74/108.. Train loss: 4.276.. Val loss: 4.347.. Train L1 norm: 6.004.. Val L1 norm: 4.169.. Train Linf norm: 1433.388.. Val Linf norm: 674.120\n",
            "Epoch 75/108.. Train loss: 4.277.. Val loss: 4.347.. Train L1 norm: 5.941.. Val L1 norm: 4.170.. Train Linf norm: 1434.039.. Val Linf norm: 674.465\n",
            "Epoch 76/108.. Train loss: 4.277.. Val loss: 4.347.. Train L1 norm: 6.045.. Val L1 norm: 4.170.. Train Linf norm: 1507.314.. Val Linf norm: 674.435\n",
            "Epoch 77/108.. Train loss: 4.276.. Val loss: 4.347.. Train L1 norm: 6.020.. Val L1 norm: 4.171.. Train Linf norm: 1470.801.. Val Linf norm: 674.477\n",
            "Epoch 78/108.. Train loss: 4.277.. Val loss: 4.347.. Train L1 norm: 6.107.. Val L1 norm: 4.171.. Train Linf norm: 1482.768.. Val Linf norm: 674.484\n",
            "Epoch 79/108.. Train loss: 4.276.. Val loss: 4.347.. Train L1 norm: 6.073.. Val L1 norm: 4.171.. Train Linf norm: 1471.472.. Val Linf norm: 674.513\n",
            "Epoch 80/108.. Train loss: 4.276.. Val loss: 4.347.. Train L1 norm: 6.112.. Val L1 norm: 4.171.. Train Linf norm: 1515.169.. Val Linf norm: 674.507\n",
            "Epoch 81/108.. Train loss: 4.277.. Val loss: 4.347.. Train L1 norm: 6.041.. Val L1 norm: 4.171.. Train Linf norm: 1481.009.. Val Linf norm: 674.519\n",
            "Epoch 82/108.. Train loss: 4.277.. Val loss: 4.347.. Train L1 norm: 6.072.. Val L1 norm: 4.170.. Train Linf norm: 1505.623.. Val Linf norm: 674.305\n",
            "Epoch 83/108.. Train loss: 4.276.. Val loss: 4.347.. Train L1 norm: 6.137.. Val L1 norm: 4.170.. Train Linf norm: 1530.378.. Val Linf norm: 674.373\n",
            "Epoch 84/108.. Train loss: 4.276.. Val loss: 4.347.. Train L1 norm: 6.092.. Val L1 norm: 4.169.. Train Linf norm: 1503.726.. Val Linf norm: 674.136\n",
            "Epoch 85/108.. Train loss: 4.276.. Val loss: 4.347.. Train L1 norm: 6.004.. Val L1 norm: 4.169.. Train Linf norm: 1467.677.. Val Linf norm: 674.216\n",
            "Epoch 86/108.. Train loss: 4.275.. Val loss: 4.347.. Train L1 norm: 6.008.. Val L1 norm: 4.163.. Train Linf norm: 1462.974.. Val Linf norm: 673.064\n",
            "Epoch 87/108.. Train loss: 4.276.. Val loss: 4.347.. Train L1 norm: 6.010.. Val L1 norm: 4.170.. Train Linf norm: 1436.533.. Val Linf norm: 674.297\n",
            "Epoch 88/108.. Train loss: 4.278.. Val loss: 4.347.. Train L1 norm: 6.040.. Val L1 norm: 4.171.. Train Linf norm: 1491.542.. Val Linf norm: 674.558\n",
            "Epoch 89/108.. Train loss: 4.276.. Val loss: 4.347.. Train L1 norm: 5.984.. Val L1 norm: 4.174.. Train Linf norm: 1457.571.. Val Linf norm: 675.183\n",
            "Epoch 90/108.. Train loss: 4.276.. Val loss: 4.347.. Train L1 norm: 6.003.. Val L1 norm: 4.175.. Train Linf norm: 1506.275.. Val Linf norm: 675.383\n",
            "Epoch 91/108.. Train loss: 4.275.. Val loss: 4.347.. Train L1 norm: 6.091.. Val L1 norm: 4.166.. Train Linf norm: 1497.333.. Val Linf norm: 673.652\n",
            "Epoch 92/108.. Train loss: 4.276.. Val loss: 4.347.. Train L1 norm: 6.027.. Val L1 norm: 4.160.. Train Linf norm: 1406.622.. Val Linf norm: 672.443\n",
            "Epoch 93/108.. Train loss: 4.277.. Val loss: 4.347.. Train L1 norm: 6.107.. Val L1 norm: 4.163.. Train Linf norm: 1509.918.. Val Linf norm: 673.091\n",
            "Epoch 94/108.. Train loss: 4.277.. Val loss: 4.347.. Train L1 norm: 6.046.. Val L1 norm: 4.165.. Train Linf norm: 1523.178.. Val Linf norm: 673.413\n",
            "Epoch 95/108.. Train loss: 4.276.. Val loss: 4.347.. Train L1 norm: 6.073.. Val L1 norm: 4.166.. Train Linf norm: 1504.802.. Val Linf norm: 673.730\n",
            "Epoch 96/108.. Train loss: 4.277.. Val loss: 4.347.. Train L1 norm: 6.066.. Val L1 norm: 4.157.. Train Linf norm: 1465.677.. Val Linf norm: 672.027\n",
            "Epoch 97/108.. Train loss: 4.277.. Val loss: 4.347.. Train L1 norm: 5.948.. Val L1 norm: 4.170.. Train Linf norm: 1487.302.. Val Linf norm: 674.457\n",
            "Epoch 98/108.. Train loss: 4.276.. Val loss: 4.347.. Train L1 norm: 5.948.. Val L1 norm: 4.174.. Train Linf norm: 1452.824.. Val Linf norm: 675.181\n",
            "Epoch 99/108.. Train loss: 4.277.. Val loss: 4.347.. Train L1 norm: 6.005.. Val L1 norm: 4.169.. Train Linf norm: 1448.998.. Val Linf norm: 674.132\n",
            "Epoch 100/108.. Train loss: 4.277.. Val loss: 4.347.. Train L1 norm: 6.055.. Val L1 norm: 4.171.. Train Linf norm: 1477.421.. Val Linf norm: 674.511\n",
            "Epoch 101/108.. Train loss: 4.275.. Val loss: 4.347.. Train L1 norm: 6.051.. Val L1 norm: 4.171.. Train Linf norm: 1461.836.. Val Linf norm: 674.535\n",
            "Epoch 102/108.. Train loss: 4.276.. Val loss: 4.347.. Train L1 norm: 6.000.. Val L1 norm: 4.169.. Train Linf norm: 1407.253.. Val Linf norm: 674.258\n",
            "Epoch 103/108.. Train loss: 4.276.. Val loss: 4.347.. Train L1 norm: 6.055.. Val L1 norm: 4.169.. Train Linf norm: 1528.196.. Val Linf norm: 674.230\n",
            "Epoch 104/108.. Train loss: 4.276.. Val loss: 4.347.. Train L1 norm: 6.040.. Val L1 norm: 4.169.. Train Linf norm: 1491.463.. Val Linf norm: 674.170\n",
            "Epoch 105/108.. Train loss: 4.277.. Val loss: 4.347.. Train L1 norm: 6.075.. Val L1 norm: 4.169.. Train Linf norm: 1529.365.. Val Linf norm: 674.183\n",
            "Epoch 106/108.. Train loss: 4.277.. Val loss: 4.347.. Train L1 norm: 6.004.. Val L1 norm: 4.168.. Train Linf norm: 1454.574.. Val Linf norm: 674.065\n",
            "Epoch 107/108.. Train loss: 4.276.. Val loss: 4.347.. Train L1 norm: 6.066.. Val L1 norm: 4.168.. Train Linf norm: 1425.425.. Val Linf norm: 674.068\n"
          ]
        },
        {
          "output_type": "stream",
          "name": "stderr",
          "text": [
            "[I 2023-06-03 11:36:23,088] Trial 12 finished with value: 4.168114870516459 and parameters: {'n_layers': 7, 'n_units_0': 1968, 'n_units_1': 138, 'n_units_2': 3588, 'n_units_3': 2531, 'n_units_4': 27, 'n_units_5': 1086, 'n_units_6': 3499, 'hidden_activation': 'ReLU', 'output_activation': 'Linear', 'loss': 'MAE', 'optimizer': 'SGD', 'lr': 5.4768206809838746e-05, 'batch_size': 512, 'n_epochs': 108, 'scheduler': 'CosineAnnealingLR', 'dropout_rate': 0.35113794603292525, 'weight_decay': 0.000507897311951891, 'momentum': 0.00739132195824059, 't_max_fraction': 0.12595282788722, 'eta_min': 0.002819379975897083}. Best is trial 2 with value: 1.156466460164388.\n"
          ]
        },
        {
          "output_type": "stream",
          "name": "stdout",
          "text": [
            "Epoch 108/108.. Train loss: 4.276.. Val loss: 4.347.. Train L1 norm: 6.027.. Val L1 norm: 4.168.. Train Linf norm: 1477.571.. Val Linf norm: 674.032\n"
          ]
        },
        {
          "output_type": "display_data",
          "data": {
            "text/html": [
              "<html>\n",
              "<head><meta charset=\"utf-8\" /></head>\n",
              "<body>\n",
              "    <div>            <script src=\"https://cdnjs.cloudflare.com/ajax/libs/mathjax/2.7.5/MathJax.js?config=TeX-AMS-MML_SVG\"></script><script type=\"text/javascript\">if (window.MathJax && window.MathJax.Hub && window.MathJax.Hub.Config) {window.MathJax.Hub.Config({SVG: {font: \"STIX-Web\"}});}</script>                <script type=\"text/javascript\">window.PlotlyConfig = {MathJaxConfig: 'local'};</script>\n",
              "        <script src=\"https://cdn.plot.ly/plotly-2.18.2.min.js\"></script>                <div id=\"3b8297d6-3562-46c1-a87a-e65285550ab4\" class=\"plotly-graph-div\" style=\"height:525px; width:100%;\"></div>            <script type=\"text/javascript\">                                    window.PLOTLYENV=window.PLOTLYENV || {};                                    if (document.getElementById(\"3b8297d6-3562-46c1-a87a-e65285550ab4\")) {                    Plotly.newPlot(                        \"3b8297d6-3562-46c1-a87a-e65285550ab4\",                        [{\"mode\":\"markers\",\"name\":\"Objective Value\",\"x\":[0,2,3,4,5,6,11,12],\"y\":[3.1759881306966147,1.156466460164388,2.3734971160888674,197068098895033.12,28.626712099456785,3.4212768898010255,3.457972690137227,4.168114870516459],\"type\":\"scatter\"},{\"name\":\"Best Value\",\"x\":[0,2,3,4,5,6,11,12],\"y\":[3.1759881306966147,1.156466460164388,1.156466460164388,1.156466460164388,1.156466460164388,1.156466460164388,1.156466460164388,1.156466460164388],\"type\":\"scatter\"}],                        {\"title\":{\"text\":\"Optimization History Plot\"},\"xaxis\":{\"title\":{\"text\":\"Trial\"}},\"yaxis\":{\"title\":{\"text\":\"Objective Value\"}},\"template\":{\"data\":{\"histogram2dcontour\":[{\"type\":\"histogram2dcontour\",\"colorbar\":{\"outlinewidth\":0,\"ticks\":\"\"},\"colorscale\":[[0.0,\"#0d0887\"],[0.1111111111111111,\"#46039f\"],[0.2222222222222222,\"#7201a8\"],[0.3333333333333333,\"#9c179e\"],[0.4444444444444444,\"#bd3786\"],[0.5555555555555556,\"#d8576b\"],[0.6666666666666666,\"#ed7953\"],[0.7777777777777778,\"#fb9f3a\"],[0.8888888888888888,\"#fdca26\"],[1.0,\"#f0f921\"]]}],\"choropleth\":[{\"type\":\"choropleth\",\"colorbar\":{\"outlinewidth\":0,\"ticks\":\"\"}}],\"histogram2d\":[{\"type\":\"histogram2d\",\"colorbar\":{\"outlinewidth\":0,\"ticks\":\"\"},\"colorscale\":[[0.0,\"#0d0887\"],[0.1111111111111111,\"#46039f\"],[0.2222222222222222,\"#7201a8\"],[0.3333333333333333,\"#9c179e\"],[0.4444444444444444,\"#bd3786\"],[0.5555555555555556,\"#d8576b\"],[0.6666666666666666,\"#ed7953\"],[0.7777777777777778,\"#fb9f3a\"],[0.8888888888888888,\"#fdca26\"],[1.0,\"#f0f921\"]]}],\"heatmap\":[{\"type\":\"heatmap\",\"colorbar\":{\"outlinewidth\":0,\"ticks\":\"\"},\"colorscale\":[[0.0,\"#0d0887\"],[0.1111111111111111,\"#46039f\"],[0.2222222222222222,\"#7201a8\"],[0.3333333333333333,\"#9c179e\"],[0.4444444444444444,\"#bd3786\"],[0.5555555555555556,\"#d8576b\"],[0.6666666666666666,\"#ed7953\"],[0.7777777777777778,\"#fb9f3a\"],[0.8888888888888888,\"#fdca26\"],[1.0,\"#f0f921\"]]}],\"heatmapgl\":[{\"type\":\"heatmapgl\",\"colorbar\":{\"outlinewidth\":0,\"ticks\":\"\"},\"colorscale\":[[0.0,\"#0d0887\"],[0.1111111111111111,\"#46039f\"],[0.2222222222222222,\"#7201a8\"],[0.3333333333333333,\"#9c179e\"],[0.4444444444444444,\"#bd3786\"],[0.5555555555555556,\"#d8576b\"],[0.6666666666666666,\"#ed7953\"],[0.7777777777777778,\"#fb9f3a\"],[0.8888888888888888,\"#fdca26\"],[1.0,\"#f0f921\"]]}],\"contourcarpet\":[{\"type\":\"contourcarpet\",\"colorbar\":{\"outlinewidth\":0,\"ticks\":\"\"}}],\"contour\":[{\"type\":\"contour\",\"colorbar\":{\"outlinewidth\":0,\"ticks\":\"\"},\"colorscale\":[[0.0,\"#0d0887\"],[0.1111111111111111,\"#46039f\"],[0.2222222222222222,\"#7201a8\"],[0.3333333333333333,\"#9c179e\"],[0.4444444444444444,\"#bd3786\"],[0.5555555555555556,\"#d8576b\"],[0.6666666666666666,\"#ed7953\"],[0.7777777777777778,\"#fb9f3a\"],[0.8888888888888888,\"#fdca26\"],[1.0,\"#f0f921\"]]}],\"surface\":[{\"type\":\"surface\",\"colorbar\":{\"outlinewidth\":0,\"ticks\":\"\"},\"colorscale\":[[0.0,\"#0d0887\"],[0.1111111111111111,\"#46039f\"],[0.2222222222222222,\"#7201a8\"],[0.3333333333333333,\"#9c179e\"],[0.4444444444444444,\"#bd3786\"],[0.5555555555555556,\"#d8576b\"],[0.6666666666666666,\"#ed7953\"],[0.7777777777777778,\"#fb9f3a\"],[0.8888888888888888,\"#fdca26\"],[1.0,\"#f0f921\"]]}],\"mesh3d\":[{\"type\":\"mesh3d\",\"colorbar\":{\"outlinewidth\":0,\"ticks\":\"\"}}],\"scatter\":[{\"fillpattern\":{\"fillmode\":\"overlay\",\"size\":10,\"solidity\":0.2},\"type\":\"scatter\"}],\"parcoords\":[{\"type\":\"parcoords\",\"line\":{\"colorbar\":{\"outlinewidth\":0,\"ticks\":\"\"}}}],\"scatterpolargl\":[{\"type\":\"scatterpolargl\",\"marker\":{\"colorbar\":{\"outlinewidth\":0,\"ticks\":\"\"}}}],\"bar\":[{\"error_x\":{\"color\":\"#2a3f5f\"},\"error_y\":{\"color\":\"#2a3f5f\"},\"marker\":{\"line\":{\"color\":\"#E5ECF6\",\"width\":0.5},\"pattern\":{\"fillmode\":\"overlay\",\"size\":10,\"solidity\":0.2}},\"type\":\"bar\"}],\"scattergeo\":[{\"type\":\"scattergeo\",\"marker\":{\"colorbar\":{\"outlinewidth\":0,\"ticks\":\"\"}}}],\"scatterpolar\":[{\"type\":\"scatterpolar\",\"marker\":{\"colorbar\":{\"outlinewidth\":0,\"ticks\":\"\"}}}],\"histogram\":[{\"marker\":{\"pattern\":{\"fillmode\":\"overlay\",\"size\":10,\"solidity\":0.2}},\"type\":\"histogram\"}],\"scattergl\":[{\"type\":\"scattergl\",\"marker\":{\"colorbar\":{\"outlinewidth\":0,\"ticks\":\"\"}}}],\"scatter3d\":[{\"type\":\"scatter3d\",\"line\":{\"colorbar\":{\"outlinewidth\":0,\"ticks\":\"\"}},\"marker\":{\"colorbar\":{\"outlinewidth\":0,\"ticks\":\"\"}}}],\"scattermapbox\":[{\"type\":\"scattermapbox\",\"marker\":{\"colorbar\":{\"outlinewidth\":0,\"ticks\":\"\"}}}],\"scatterternary\":[{\"type\":\"scatterternary\",\"marker\":{\"colorbar\":{\"outlinewidth\":0,\"ticks\":\"\"}}}],\"scattercarpet\":[{\"type\":\"scattercarpet\",\"marker\":{\"colorbar\":{\"outlinewidth\":0,\"ticks\":\"\"}}}],\"carpet\":[{\"aaxis\":{\"endlinecolor\":\"#2a3f5f\",\"gridcolor\":\"white\",\"linecolor\":\"white\",\"minorgridcolor\":\"white\",\"startlinecolor\":\"#2a3f5f\"},\"baxis\":{\"endlinecolor\":\"#2a3f5f\",\"gridcolor\":\"white\",\"linecolor\":\"white\",\"minorgridcolor\":\"white\",\"startlinecolor\":\"#2a3f5f\"},\"type\":\"carpet\"}],\"table\":[{\"cells\":{\"fill\":{\"color\":\"#EBF0F8\"},\"line\":{\"color\":\"white\"}},\"header\":{\"fill\":{\"color\":\"#C8D4E3\"},\"line\":{\"color\":\"white\"}},\"type\":\"table\"}],\"barpolar\":[{\"marker\":{\"line\":{\"color\":\"#E5ECF6\",\"width\":0.5},\"pattern\":{\"fillmode\":\"overlay\",\"size\":10,\"solidity\":0.2}},\"type\":\"barpolar\"}],\"pie\":[{\"automargin\":true,\"type\":\"pie\"}]},\"layout\":{\"autotypenumbers\":\"strict\",\"colorway\":[\"#636efa\",\"#EF553B\",\"#00cc96\",\"#ab63fa\",\"#FFA15A\",\"#19d3f3\",\"#FF6692\",\"#B6E880\",\"#FF97FF\",\"#FECB52\"],\"font\":{\"color\":\"#2a3f5f\"},\"hovermode\":\"closest\",\"hoverlabel\":{\"align\":\"left\"},\"paper_bgcolor\":\"white\",\"plot_bgcolor\":\"#E5ECF6\",\"polar\":{\"bgcolor\":\"#E5ECF6\",\"angularaxis\":{\"gridcolor\":\"white\",\"linecolor\":\"white\",\"ticks\":\"\"},\"radialaxis\":{\"gridcolor\":\"white\",\"linecolor\":\"white\",\"ticks\":\"\"}},\"ternary\":{\"bgcolor\":\"#E5ECF6\",\"aaxis\":{\"gridcolor\":\"white\",\"linecolor\":\"white\",\"ticks\":\"\"},\"baxis\":{\"gridcolor\":\"white\",\"linecolor\":\"white\",\"ticks\":\"\"},\"caxis\":{\"gridcolor\":\"white\",\"linecolor\":\"white\",\"ticks\":\"\"}},\"coloraxis\":{\"colorbar\":{\"outlinewidth\":0,\"ticks\":\"\"}},\"colorscale\":{\"sequential\":[[0.0,\"#0d0887\"],[0.1111111111111111,\"#46039f\"],[0.2222222222222222,\"#7201a8\"],[0.3333333333333333,\"#9c179e\"],[0.4444444444444444,\"#bd3786\"],[0.5555555555555556,\"#d8576b\"],[0.6666666666666666,\"#ed7953\"],[0.7777777777777778,\"#fb9f3a\"],[0.8888888888888888,\"#fdca26\"],[1.0,\"#f0f921\"]],\"sequentialminus\":[[0.0,\"#0d0887\"],[0.1111111111111111,\"#46039f\"],[0.2222222222222222,\"#7201a8\"],[0.3333333333333333,\"#9c179e\"],[0.4444444444444444,\"#bd3786\"],[0.5555555555555556,\"#d8576b\"],[0.6666666666666666,\"#ed7953\"],[0.7777777777777778,\"#fb9f3a\"],[0.8888888888888888,\"#fdca26\"],[1.0,\"#f0f921\"]],\"diverging\":[[0,\"#8e0152\"],[0.1,\"#c51b7d\"],[0.2,\"#de77ae\"],[0.3,\"#f1b6da\"],[0.4,\"#fde0ef\"],[0.5,\"#f7f7f7\"],[0.6,\"#e6f5d0\"],[0.7,\"#b8e186\"],[0.8,\"#7fbc41\"],[0.9,\"#4d9221\"],[1,\"#276419\"]]},\"xaxis\":{\"gridcolor\":\"white\",\"linecolor\":\"white\",\"ticks\":\"\",\"title\":{\"standoff\":15},\"zerolinecolor\":\"white\",\"automargin\":true,\"zerolinewidth\":2},\"yaxis\":{\"gridcolor\":\"white\",\"linecolor\":\"white\",\"ticks\":\"\",\"title\":{\"standoff\":15},\"zerolinecolor\":\"white\",\"automargin\":true,\"zerolinewidth\":2},\"scene\":{\"xaxis\":{\"backgroundcolor\":\"#E5ECF6\",\"gridcolor\":\"white\",\"linecolor\":\"white\",\"showbackground\":true,\"ticks\":\"\",\"zerolinecolor\":\"white\",\"gridwidth\":2},\"yaxis\":{\"backgroundcolor\":\"#E5ECF6\",\"gridcolor\":\"white\",\"linecolor\":\"white\",\"showbackground\":true,\"ticks\":\"\",\"zerolinecolor\":\"white\",\"gridwidth\":2},\"zaxis\":{\"backgroundcolor\":\"#E5ECF6\",\"gridcolor\":\"white\",\"linecolor\":\"white\",\"showbackground\":true,\"ticks\":\"\",\"zerolinecolor\":\"white\",\"gridwidth\":2}},\"shapedefaults\":{\"line\":{\"color\":\"#2a3f5f\"}},\"annotationdefaults\":{\"arrowcolor\":\"#2a3f5f\",\"arrowhead\":0,\"arrowwidth\":1},\"geo\":{\"bgcolor\":\"white\",\"landcolor\":\"#E5ECF6\",\"subunitcolor\":\"white\",\"showland\":true,\"showlakes\":true,\"lakecolor\":\"white\"},\"title\":{\"x\":0.05},\"mapbox\":{\"style\":\"light\"}}}},                        {\"responsive\": true}                    ).then(function(){\n",
              "                            \n",
              "var gd = document.getElementById('3b8297d6-3562-46c1-a87a-e65285550ab4');\n",
              "var x = new MutationObserver(function (mutations, observer) {{\n",
              "        var display = window.getComputedStyle(gd).display;\n",
              "        if (!display || display === 'none') {{\n",
              "            console.log([gd, 'removed!']);\n",
              "            Plotly.purge(gd);\n",
              "            observer.disconnect();\n",
              "        }}\n",
              "}});\n",
              "\n",
              "// Listen for the removal of the full notebook cells\n",
              "var notebookContainer = gd.closest('#notebook-container');\n",
              "if (notebookContainer) {{\n",
              "    x.observe(notebookContainer, {childList: true});\n",
              "}}\n",
              "\n",
              "// Listen for the clearing of the current output cell\n",
              "var outputEl = gd.closest('.output');\n",
              "if (outputEl) {{\n",
              "    x.observe(outputEl, {childList: true});\n",
              "}}\n",
              "\n",
              "                        })                };                            </script>        </div>\n",
              "</body>\n",
              "</html>"
            ]
          },
          "metadata": {}
        },
        {
          "output_type": "stream",
          "name": "stderr",
          "text": [
            "[W 2023-06-03 11:36:23,909] Your study has only completed trials with missing parameters.\n",
            "<ipython-input-37-247d5052aadc>:44: FutureWarning:\n",
            "\n",
            "suggest_loguniform has been deprecated in v3.0.0. This feature will be removed in v6.0.0. See https://github.com/optuna/optuna/releases/tag/v3.0.0. Use suggest_float(..., log=True) instead.\n",
            "\n",
            "<ipython-input-37-247d5052aadc>:76: FutureWarning:\n",
            "\n",
            "suggest_uniform has been deprecated in v3.0.0. This feature will be removed in v6.0.0. See https://github.com/optuna/optuna/releases/tag/v3.0.0. Use suggest_float instead.\n",
            "\n",
            "<ipython-input-37-247d5052aadc>:145: FutureWarning:\n",
            "\n",
            "suggest_loguniform has been deprecated in v3.0.0. This feature will be removed in v6.0.0. See https://github.com/optuna/optuna/releases/tag/v3.0.0. Use suggest_float(..., log=True) instead.\n",
            "\n",
            "<ipython-input-37-247d5052aadc>:146: FutureWarning:\n",
            "\n",
            "suggest_uniform has been deprecated in v3.0.0. This feature will be removed in v6.0.0. See https://github.com/optuna/optuna/releases/tag/v3.0.0. Use suggest_float instead.\n",
            "\n",
            "<ipython-input-37-247d5052aadc>:168: FutureWarning:\n",
            "\n",
            "suggest_uniform has been deprecated in v3.0.0. This feature will be removed in v6.0.0. See https://github.com/optuna/optuna/releases/tag/v3.0.0. Use suggest_float instead.\n",
            "\n",
            "<ipython-input-37-247d5052aadc>:175: FutureWarning:\n",
            "\n",
            "suggest_loguniform has been deprecated in v3.0.0. This feature will be removed in v6.0.0. See https://github.com/optuna/optuna/releases/tag/v3.0.0. Use suggest_float(..., log=True) instead.\n",
            "\n"
          ]
        },
        {
          "output_type": "stream",
          "name": "stdout",
          "text": [
            "Epoch 1/97.. Train loss: 4.837.. Val loss: 4.560.. Train L1 norm: 1.998.. Val L1 norm: 2.383.. Train Linf norm: 402.118.. Val Linf norm: 336.503\n",
            "Epoch 2/97.. Train loss: 4.173.. Val loss: 4.612.. Train L1 norm: 5.008.. Val L1 norm: 3.713.. Train Linf norm: 1282.363.. Val Linf norm: 595.662\n",
            "Epoch 3/97.. Train loss: 4.069.. Val loss: 4.460.. Train L1 norm: 5.337.. Val L1 norm: 3.285.. Train Linf norm: 1411.966.. Val Linf norm: 508.456\n",
            "Epoch 4/97.. Train loss: 3.998.. Val loss: 4.640.. Train L1 norm: 5.631.. Val L1 norm: 3.695.. Train Linf norm: 1458.209.. Val Linf norm: 584.769\n",
            "Epoch 5/97.. Train loss: 3.987.. Val loss: 4.265.. Train L1 norm: 5.717.. Val L1 norm: 3.854.. Train Linf norm: 1527.756.. Val Linf norm: 617.952\n",
            "Epoch 6/97.. Train loss: 3.945.. Val loss: 4.277.. Train L1 norm: 5.755.. Val L1 norm: 3.379.. Train Linf norm: 1496.758.. Val Linf norm: 528.174\n",
            "Epoch 7/97.. Train loss: 3.941.. Val loss: 4.076.. Train L1 norm: 5.763.. Val L1 norm: 3.263.. Train Linf norm: 1261.059.. Val Linf norm: 507.309\n",
            "Epoch 8/97.. Train loss: 3.924.. Val loss: 3.968.. Train L1 norm: 5.621.. Val L1 norm: 3.667.. Train Linf norm: 1441.295.. Val Linf norm: 582.723\n",
            "Epoch 9/97.. Train loss: 3.919.. Val loss: 4.089.. Train L1 norm: 5.856.. Val L1 norm: 4.016.. Train Linf norm: 1463.707.. Val Linf norm: 644.163\n",
            "Epoch 10/97.. Train loss: 3.908.. Val loss: 4.091.. Train L1 norm: 5.674.. Val L1 norm: 4.142.. Train Linf norm: 1469.221.. Val Linf norm: 668.356\n",
            "Epoch 11/97.. Train loss: 3.903.. Val loss: 4.041.. Train L1 norm: 5.738.. Val L1 norm: 3.804.. Train Linf norm: 1435.840.. Val Linf norm: 603.374\n",
            "Epoch 12/97.. Train loss: 3.894.. Val loss: 4.040.. Train L1 norm: 5.723.. Val L1 norm: 4.159.. Train Linf norm: 1494.702.. Val Linf norm: 668.808\n",
            "Epoch 13/97.. Train loss: 3.894.. Val loss: 4.086.. Train L1 norm: 6.148.. Val L1 norm: 4.048.. Train Linf norm: 1606.319.. Val Linf norm: 647.421\n",
            "Epoch 14/97.. Train loss: 3.895.. Val loss: 4.026.. Train L1 norm: 5.521.. Val L1 norm: 3.957.. Train Linf norm: 1404.076.. Val Linf norm: 629.944\n",
            "Epoch 15/97.. Train loss: 3.892.. Val loss: 4.018.. Train L1 norm: 5.589.. Val L1 norm: 3.933.. Train Linf norm: 1417.326.. Val Linf norm: 625.424\n",
            "Epoch 16/97.. Train loss: 3.888.. Val loss: 4.025.. Train L1 norm: 5.679.. Val L1 norm: 3.959.. Train Linf norm: 1458.838.. Val Linf norm: 629.928\n",
            "Epoch 17/97.. Train loss: 3.893.. Val loss: 4.018.. Train L1 norm: 5.775.. Val L1 norm: 3.932.. Train Linf norm: 1517.539.. Val Linf norm: 624.743\n",
            "Epoch 18/97.. Train loss: 3.887.. Val loss: 4.013.. Train L1 norm: 5.753.. Val L1 norm: 3.958.. Train Linf norm: 1513.851.. Val Linf norm: 629.180\n",
            "Epoch 19/97.. Train loss: 3.887.. Val loss: 4.033.. Train L1 norm: 5.663.. Val L1 norm: 3.924.. Train Linf norm: 1449.782.. Val Linf norm: 621.891\n",
            "Epoch 20/97.. Train loss: 3.892.. Val loss: 4.029.. Train L1 norm: 5.687.. Val L1 norm: 3.892.. Train Linf norm: 1499.319.. Val Linf norm: 615.841\n",
            "Epoch 21/97.. Train loss: 3.886.. Val loss: 3.990.. Train L1 norm: 5.680.. Val L1 norm: 3.814.. Train Linf norm: 1451.911.. Val Linf norm: 599.109\n",
            "Epoch 22/97.. Train loss: 3.888.. Val loss: 4.072.. Train L1 norm: 5.892.. Val L1 norm: 3.967.. Train Linf norm: 1516.417.. Val Linf norm: 626.562\n",
            "Epoch 23/97.. Train loss: 3.893.. Val loss: 4.033.. Train L1 norm: 5.661.. Val L1 norm: 3.901.. Train Linf norm: 1486.027.. Val Linf norm: 613.946\n",
            "Epoch 24/97.. Train loss: 3.887.. Val loss: 3.978.. Train L1 norm: 5.806.. Val L1 norm: 3.889.. Train Linf norm: 1510.671.. Val Linf norm: 609.375\n",
            "Epoch 25/97.. Train loss: 3.890.. Val loss: 4.027.. Train L1 norm: 5.608.. Val L1 norm: 4.065.. Train Linf norm: 1413.712.. Val Linf norm: 641.656\n",
            "Epoch 26/97.. Train loss: 3.881.. Val loss: 4.012.. Train L1 norm: 5.971.. Val L1 norm: 3.824.. Train Linf norm: 1602.889.. Val Linf norm: 592.797\n",
            "Epoch 27/97.. Train loss: 3.880.. Val loss: 3.960.. Train L1 norm: 5.861.. Val L1 norm: 3.523.. Train Linf norm: 1488.097.. Val Linf norm: 541.075\n",
            "Epoch 28/97.. Train loss: 3.880.. Val loss: 3.988.. Train L1 norm: 5.930.. Val L1 norm: 3.674.. Train Linf norm: 1571.316.. Val Linf norm: 564.414\n",
            "Epoch 29/97.. Train loss: 3.878.. Val loss: 3.950.. Train L1 norm: 5.803.. Val L1 norm: 3.923.. Train Linf norm: 1557.092.. Val Linf norm: 610.710\n",
            "Epoch 30/97.. Train loss: 3.873.. Val loss: 3.994.. Train L1 norm: 5.870.. Val L1 norm: 4.244.. Train Linf norm: 1561.463.. Val Linf norm: 670.207\n",
            "Epoch 31/97.. Train loss: 3.861.. Val loss: 3.986.. Train L1 norm: 5.732.. Val L1 norm: 3.835.. Train Linf norm: 1507.579.. Val Linf norm: 592.042\n",
            "Epoch 32/97.. Train loss: 3.852.. Val loss: 3.950.. Train L1 norm: 5.864.. Val L1 norm: 3.867.. Train Linf norm: 1596.011.. Val Linf norm: 595.211\n",
            "Epoch 33/97.. Train loss: 3.843.. Val loss: 3.949.. Train L1 norm: 5.946.. Val L1 norm: 3.713.. Train Linf norm: 1618.638.. Val Linf norm: 571.326\n",
            "Epoch 34/97.. Train loss: 3.838.. Val loss: 3.966.. Train L1 norm: 5.658.. Val L1 norm: 3.522.. Train Linf norm: 1481.955.. Val Linf norm: 533.089\n",
            "Epoch 35/97.. Train loss: 3.828.. Val loss: 3.946.. Train L1 norm: 5.857.. Val L1 norm: 3.471.. Train Linf norm: 1510.871.. Val Linf norm: 528.396\n",
            "Epoch 36/97.. Train loss: 3.815.. Val loss: 3.919.. Train L1 norm: 5.695.. Val L1 norm: 3.361.. Train Linf norm: 1363.081.. Val Linf norm: 513.969\n",
            "Epoch 37/97.. Train loss: 3.793.. Val loss: 3.910.. Train L1 norm: 5.551.. Val L1 norm: 3.580.. Train Linf norm: 1407.842.. Val Linf norm: 554.029\n",
            "Epoch 38/97.. Train loss: 3.785.. Val loss: 3.940.. Train L1 norm: 5.850.. Val L1 norm: 3.122.. Train Linf norm: 1548.900.. Val Linf norm: 471.579\n",
            "Epoch 39/97.. Train loss: 3.776.. Val loss: 3.860.. Train L1 norm: 5.729.. Val L1 norm: 3.509.. Train Linf norm: 1462.785.. Val Linf norm: 548.345\n",
            "Epoch 40/97.. Train loss: 3.760.. Val loss: 3.876.. Train L1 norm: 5.488.. Val L1 norm: 3.527.. Train Linf norm: 1377.153.. Val Linf norm: 550.045\n",
            "Epoch 41/97.. Train loss: 3.748.. Val loss: 3.866.. Train L1 norm: 5.663.. Val L1 norm: 3.706.. Train Linf norm: 1491.808.. Val Linf norm: 585.944\n",
            "Epoch 42/97.. Train loss: 3.742.. Val loss: 3.866.. Train L1 norm: 5.823.. Val L1 norm: 3.540.. Train Linf norm: 1550.063.. Val Linf norm: 556.851\n",
            "Epoch 43/97.. Train loss: 3.745.. Val loss: 3.876.. Train L1 norm: 5.828.. Val L1 norm: 3.447.. Train Linf norm: 1561.560.. Val Linf norm: 538.604\n",
            "Epoch 44/97.. Train loss: 3.735.. Val loss: 3.854.. Train L1 norm: 5.459.. Val L1 norm: 3.648.. Train Linf norm: 1300.687.. Val Linf norm: 578.679\n",
            "Epoch 45/97.. Train loss: 3.733.. Val loss: 3.858.. Train L1 norm: 5.798.. Val L1 norm: 3.547.. Train Linf norm: 1529.685.. Val Linf norm: 560.250\n",
            "Epoch 46/97.. Train loss: 3.733.. Val loss: 3.855.. Train L1 norm: 5.850.. Val L1 norm: 3.590.. Train Linf norm: 1465.509.. Val Linf norm: 567.315\n",
            "Epoch 47/97.. Train loss: 3.730.. Val loss: 3.862.. Train L1 norm: 5.944.. Val L1 norm: 3.544.. Train Linf norm: 1636.370.. Val Linf norm: 559.764\n",
            "Epoch 48/97.. Train loss: 3.729.. Val loss: 3.859.. Train L1 norm: 5.598.. Val L1 norm: 3.541.. Train Linf norm: 1456.619.. Val Linf norm: 558.672\n",
            "Epoch 49/97.. Train loss: 3.726.. Val loss: 3.857.. Train L1 norm: 5.726.. Val L1 norm: 3.545.. Train Linf norm: 1494.521.. Val Linf norm: 559.228\n",
            "Epoch 50/97.. Train loss: 3.728.. Val loss: 3.856.. Train L1 norm: 5.650.. Val L1 norm: 3.547.. Train Linf norm: 1457.921.. Val Linf norm: 559.459\n",
            "Epoch 51/97.. Train loss: 3.731.. Val loss: 3.853.. Train L1 norm: 5.621.. Val L1 norm: 3.541.. Train Linf norm: 1459.965.. Val Linf norm: 558.181\n",
            "Epoch 52/97.. Train loss: 3.725.. Val loss: 3.853.. Train L1 norm: 5.784.. Val L1 norm: 3.569.. Train Linf norm: 1522.511.. Val Linf norm: 562.803\n",
            "Epoch 53/97.. Train loss: 3.728.. Val loss: 3.857.. Train L1 norm: 5.733.. Val L1 norm: 3.628.. Train Linf norm: 1502.278.. Val Linf norm: 572.395\n",
            "Epoch 54/97.. Train loss: 3.728.. Val loss: 3.878.. Train L1 norm: 5.738.. Val L1 norm: 3.489.. Train Linf norm: 1504.244.. Val Linf norm: 549.634\n",
            "Epoch 55/97.. Train loss: 3.724.. Val loss: 3.855.. Train L1 norm: 5.597.. Val L1 norm: 3.528.. Train Linf norm: 1443.205.. Val Linf norm: 556.606\n",
            "Epoch 56/97.. Train loss: 3.722.. Val loss: 3.866.. Train L1 norm: 5.742.. Val L1 norm: 3.375.. Train Linf norm: 1521.011.. Val Linf norm: 527.420\n",
            "Epoch 57/97.. Train loss: 3.724.. Val loss: 3.838.. Train L1 norm: 5.758.. Val L1 norm: 3.563.. Train Linf norm: 1518.255.. Val Linf norm: 560.779\n",
            "Epoch 58/97.. Train loss: 3.718.. Val loss: 3.843.. Train L1 norm: 5.839.. Val L1 norm: 3.439.. Train Linf norm: 1581.658.. Val Linf norm: 530.398\n",
            "Epoch 59/97.. Train loss: 3.712.. Val loss: 3.870.. Train L1 norm: 5.891.. Val L1 norm: 3.404.. Train Linf norm: 1487.596.. Val Linf norm: 526.989\n",
            "Epoch 60/97.. Train loss: 3.709.. Val loss: 3.813.. Train L1 norm: 5.770.. Val L1 norm: 3.723.. Train Linf norm: 1425.501.. Val Linf norm: 583.434\n",
            "Epoch 61/97.. Train loss: 3.703.. Val loss: 3.843.. Train L1 norm: 5.333.. Val L1 norm: 3.182.. Train Linf norm: 1274.841.. Val Linf norm: 480.522\n",
            "Epoch 62/97.. Train loss: 3.705.. Val loss: 3.785.. Train L1 norm: 6.011.. Val L1 norm: 3.842.. Train Linf norm: 1618.957.. Val Linf norm: 599.331\n",
            "Epoch 63/97.. Train loss: 3.696.. Val loss: 3.816.. Train L1 norm: 5.619.. Val L1 norm: 3.888.. Train Linf norm: 1216.009.. Val Linf norm: 609.714\n",
            "Epoch 64/97.. Train loss: 3.692.. Val loss: 3.825.. Train L1 norm: 5.930.. Val L1 norm: 3.560.. Train Linf norm: 1569.816.. Val Linf norm: 554.968\n",
            "Epoch 65/97.. Train loss: 3.688.. Val loss: 3.808.. Train L1 norm: 5.660.. Val L1 norm: 3.438.. Train Linf norm: 1384.138.. Val Linf norm: 532.026\n",
            "Epoch 66/97.. Train loss: 3.690.. Val loss: 3.780.. Train L1 norm: 5.959.. Val L1 norm: 3.453.. Train Linf norm: 1590.800.. Val Linf norm: 529.502\n",
            "Epoch 67/97.. Train loss: 3.677.. Val loss: 3.854.. Train L1 norm: 5.785.. Val L1 norm: 3.306.. Train Linf norm: 1521.353.. Val Linf norm: 506.337\n",
            "Epoch 68/97.. Train loss: 3.671.. Val loss: 3.770.. Train L1 norm: 5.836.. Val L1 norm: 3.466.. Train Linf norm: 1535.983.. Val Linf norm: 543.756\n",
            "Epoch 69/97.. Train loss: 3.662.. Val loss: 3.826.. Train L1 norm: 5.996.. Val L1 norm: 3.587.. Train Linf norm: 1622.538.. Val Linf norm: 564.015\n",
            "Epoch 70/97.. Train loss: 3.659.. Val loss: 3.779.. Train L1 norm: 5.950.. Val L1 norm: 3.785.. Train Linf norm: 1605.501.. Val Linf norm: 602.336\n",
            "Epoch 71/97.. Train loss: 3.651.. Val loss: 3.808.. Train L1 norm: 5.955.. Val L1 norm: 3.272.. Train Linf norm: 1565.124.. Val Linf norm: 512.005\n",
            "Epoch 72/97.. Train loss: 3.643.. Val loss: 3.761.. Train L1 norm: 5.883.. Val L1 norm: 3.381.. Train Linf norm: 1587.523.. Val Linf norm: 538.120\n",
            "Epoch 73/97.. Train loss: 3.633.. Val loss: 3.744.. Train L1 norm: 5.711.. Val L1 norm: 3.603.. Train Linf norm: 1467.730.. Val Linf norm: 579.865\n",
            "Epoch 74/97.. Train loss: 3.621.. Val loss: 3.766.. Train L1 norm: 5.783.. Val L1 norm: 3.984.. Train Linf norm: 1520.883.. Val Linf norm: 647.255\n",
            "Epoch 75/97.. Train loss: 3.616.. Val loss: 3.730.. Train L1 norm: 5.895.. Val L1 norm: 3.616.. Train Linf norm: 1470.353.. Val Linf norm: 587.969\n",
            "Epoch 76/97.. Train loss: 3.611.. Val loss: 3.699.. Train L1 norm: 5.917.. Val L1 norm: 3.783.. Train Linf norm: 1611.726.. Val Linf norm: 612.229\n",
            "Epoch 77/97.. Train loss: 3.601.. Val loss: 3.708.. Train L1 norm: 5.930.. Val L1 norm: 3.875.. Train Linf norm: 1598.144.. Val Linf norm: 634.873\n",
            "Epoch 78/97.. Train loss: 3.595.. Val loss: 3.691.. Train L1 norm: 5.883.. Val L1 norm: 3.869.. Train Linf norm: 1600.973.. Val Linf norm: 637.553\n",
            "Epoch 79/97.. Train loss: 3.594.. Val loss: 3.691.. Train L1 norm: 5.931.. Val L1 norm: 3.834.. Train Linf norm: 1577.869.. Val Linf norm: 637.233\n",
            "Epoch 80/97.. Train loss: 3.588.. Val loss: 3.677.. Train L1 norm: 5.948.. Val L1 norm: 3.809.. Train Linf norm: 1638.083.. Val Linf norm: 632.941\n",
            "Epoch 81/97.. Train loss: 3.588.. Val loss: 3.680.. Train L1 norm: 5.832.. Val L1 norm: 3.841.. Train Linf norm: 1580.356.. Val Linf norm: 637.528\n",
            "Epoch 82/97.. Train loss: 3.594.. Val loss: 3.672.. Train L1 norm: 5.966.. Val L1 norm: 3.814.. Train Linf norm: 1611.435.. Val Linf norm: 633.159\n",
            "Epoch 83/97.. Train loss: 3.595.. Val loss: 3.677.. Train L1 norm: 6.085.. Val L1 norm: 3.775.. Train Linf norm: 1699.972.. Val Linf norm: 625.302\n",
            "Epoch 84/97.. Train loss: 3.591.. Val loss: 3.660.. Train L1 norm: 5.714.. Val L1 norm: 3.736.. Train Linf norm: 1488.639.. Val Linf norm: 618.742\n",
            "Epoch 85/97.. Train loss: 3.587.. Val loss: 3.666.. Train L1 norm: 6.054.. Val L1 norm: 3.814.. Train Linf norm: 1549.805.. Val Linf norm: 640.473\n",
            "Epoch 86/97.. Train loss: 3.581.. Val loss: 3.696.. Train L1 norm: 5.720.. Val L1 norm: 4.150.. Train Linf norm: 1521.483.. Val Linf norm: 707.399\n",
            "Epoch 87/97.. Train loss: 3.573.. Val loss: 3.645.. Train L1 norm: 5.921.. Val L1 norm: 4.166.. Train Linf norm: 1628.866.. Val Linf norm: 715.341\n",
            "Epoch 88/97.. Train loss: 3.566.. Val loss: 3.626.. Train L1 norm: 5.458.. Val L1 norm: 3.897.. Train Linf norm: 1286.760.. Val Linf norm: 683.201\n",
            "Epoch 89/97.. Train loss: 3.563.. Val loss: 3.580.. Train L1 norm: 5.910.. Val L1 norm: 4.015.. Train Linf norm: 1602.780.. Val Linf norm: 691.979\n",
            "Epoch 90/97.. Train loss: 3.551.. Val loss: 3.665.. Train L1 norm: 6.170.. Val L1 norm: 4.785.. Train Linf norm: 1757.996.. Val Linf norm: 828.158\n",
            "Epoch 91/97.. Train loss: 3.551.. Val loss: 3.774.. Train L1 norm: 5.563.. Val L1 norm: 5.283.. Train Linf norm: 1493.960.. Val Linf norm: 921.440\n",
            "Epoch 92/97.. Train loss: 3.538.. Val loss: 3.509.. Train L1 norm: 5.785.. Val L1 norm: 4.211.. Train Linf norm: 1569.542.. Val Linf norm: 736.276\n",
            "Epoch 93/97.. Train loss: 3.529.. Val loss: 3.407.. Train L1 norm: 4.821.. Val L1 norm: 3.676.. Train Linf norm: 1135.416.. Val Linf norm: 633.876\n",
            "Epoch 94/97.. Train loss: 3.516.. Val loss: 3.420.. Train L1 norm: 5.529.. Val L1 norm: 3.851.. Train Linf norm: 1477.442.. Val Linf norm: 684.299\n",
            "Epoch 95/97.. Train loss: 3.509.. Val loss: 3.454.. Train L1 norm: 4.902.. Val L1 norm: 4.294.. Train Linf norm: 1170.878.. Val Linf norm: 724.832\n",
            "Epoch 96/97.. Train loss: 3.494.. Val loss: 3.338.. Train L1 norm: 5.287.. Val L1 norm: 2.941.. Train Linf norm: 1353.736.. Val Linf norm: 485.010\n"
          ]
        },
        {
          "output_type": "stream",
          "name": "stderr",
          "text": [
            "[I 2023-06-03 11:50:50,199] Trial 13 finished with value: 4.0204941166559856 and parameters: {'n_layers': 9, 'n_units_0': 2122, 'n_units_1': 1172, 'n_units_2': 4081, 'n_units_3': 2774, 'n_units_4': 1091, 'n_units_5': 2363, 'n_units_6': 2377, 'n_units_7': 4014, 'n_units_8': 2942, 'hidden_activation': 'Swish', 'output_activation': 'Linear', 'loss': 'MAE', 'optimizer': 'SGD', 'lr': 0.006497886320142303, 'batch_size': 512, 'n_epochs': 97, 'scheduler': 'CosineAnnealingLR', 'dropout_rate': 0.2307410631747572, 'weight_decay': 0.0003435835733853236, 'momentum': 0.21933578580012592, 't_max_fraction': 0.1750794215126531, 'eta_min': 0.00017204093309888019}. Best is trial 2 with value: 1.156466460164388.\n"
          ]
        },
        {
          "output_type": "stream",
          "name": "stdout",
          "text": [
            "Epoch 97/97.. Train loss: 3.450.. Val loss: 3.325.. Train L1 norm: 5.183.. Val L1 norm: 4.020.. Train Linf norm: 1364.080.. Val Linf norm: 656.867\n"
          ]
        },
        {
          "output_type": "display_data",
          "data": {
            "text/html": [
              "<html>\n",
              "<head><meta charset=\"utf-8\" /></head>\n",
              "<body>\n",
              "    <div>            <script src=\"https://cdnjs.cloudflare.com/ajax/libs/mathjax/2.7.5/MathJax.js?config=TeX-AMS-MML_SVG\"></script><script type=\"text/javascript\">if (window.MathJax && window.MathJax.Hub && window.MathJax.Hub.Config) {window.MathJax.Hub.Config({SVG: {font: \"STIX-Web\"}});}</script>                <script type=\"text/javascript\">window.PlotlyConfig = {MathJaxConfig: 'local'};</script>\n",
              "        <script src=\"https://cdn.plot.ly/plotly-2.18.2.min.js\"></script>                <div id=\"3521fc83-6637-4999-a9f4-b88846b34985\" class=\"plotly-graph-div\" style=\"height:525px; width:100%;\"></div>            <script type=\"text/javascript\">                                    window.PLOTLYENV=window.PLOTLYENV || {};                                    if (document.getElementById(\"3521fc83-6637-4999-a9f4-b88846b34985\")) {                    Plotly.newPlot(                        \"3521fc83-6637-4999-a9f4-b88846b34985\",                        [{\"mode\":\"markers\",\"name\":\"Objective Value\",\"x\":[0,2,3,4,5,6,11,12,13],\"y\":[3.1759881306966147,1.156466460164388,2.3734971160888674,197068098895033.12,28.626712099456785,3.4212768898010255,3.457972690137227,4.168114870516459,4.0204941166559856],\"type\":\"scatter\"},{\"name\":\"Best Value\",\"x\":[0,2,3,4,5,6,11,12,13],\"y\":[3.1759881306966147,1.156466460164388,1.156466460164388,1.156466460164388,1.156466460164388,1.156466460164388,1.156466460164388,1.156466460164388,1.156466460164388],\"type\":\"scatter\"}],                        {\"title\":{\"text\":\"Optimization History Plot\"},\"xaxis\":{\"title\":{\"text\":\"Trial\"}},\"yaxis\":{\"title\":{\"text\":\"Objective Value\"}},\"template\":{\"data\":{\"histogram2dcontour\":[{\"type\":\"histogram2dcontour\",\"colorbar\":{\"outlinewidth\":0,\"ticks\":\"\"},\"colorscale\":[[0.0,\"#0d0887\"],[0.1111111111111111,\"#46039f\"],[0.2222222222222222,\"#7201a8\"],[0.3333333333333333,\"#9c179e\"],[0.4444444444444444,\"#bd3786\"],[0.5555555555555556,\"#d8576b\"],[0.6666666666666666,\"#ed7953\"],[0.7777777777777778,\"#fb9f3a\"],[0.8888888888888888,\"#fdca26\"],[1.0,\"#f0f921\"]]}],\"choropleth\":[{\"type\":\"choropleth\",\"colorbar\":{\"outlinewidth\":0,\"ticks\":\"\"}}],\"histogram2d\":[{\"type\":\"histogram2d\",\"colorbar\":{\"outlinewidth\":0,\"ticks\":\"\"},\"colorscale\":[[0.0,\"#0d0887\"],[0.1111111111111111,\"#46039f\"],[0.2222222222222222,\"#7201a8\"],[0.3333333333333333,\"#9c179e\"],[0.4444444444444444,\"#bd3786\"],[0.5555555555555556,\"#d8576b\"],[0.6666666666666666,\"#ed7953\"],[0.7777777777777778,\"#fb9f3a\"],[0.8888888888888888,\"#fdca26\"],[1.0,\"#f0f921\"]]}],\"heatmap\":[{\"type\":\"heatmap\",\"colorbar\":{\"outlinewidth\":0,\"ticks\":\"\"},\"colorscale\":[[0.0,\"#0d0887\"],[0.1111111111111111,\"#46039f\"],[0.2222222222222222,\"#7201a8\"],[0.3333333333333333,\"#9c179e\"],[0.4444444444444444,\"#bd3786\"],[0.5555555555555556,\"#d8576b\"],[0.6666666666666666,\"#ed7953\"],[0.7777777777777778,\"#fb9f3a\"],[0.8888888888888888,\"#fdca26\"],[1.0,\"#f0f921\"]]}],\"heatmapgl\":[{\"type\":\"heatmapgl\",\"colorbar\":{\"outlinewidth\":0,\"ticks\":\"\"},\"colorscale\":[[0.0,\"#0d0887\"],[0.1111111111111111,\"#46039f\"],[0.2222222222222222,\"#7201a8\"],[0.3333333333333333,\"#9c179e\"],[0.4444444444444444,\"#bd3786\"],[0.5555555555555556,\"#d8576b\"],[0.6666666666666666,\"#ed7953\"],[0.7777777777777778,\"#fb9f3a\"],[0.8888888888888888,\"#fdca26\"],[1.0,\"#f0f921\"]]}],\"contourcarpet\":[{\"type\":\"contourcarpet\",\"colorbar\":{\"outlinewidth\":0,\"ticks\":\"\"}}],\"contour\":[{\"type\":\"contour\",\"colorbar\":{\"outlinewidth\":0,\"ticks\":\"\"},\"colorscale\":[[0.0,\"#0d0887\"],[0.1111111111111111,\"#46039f\"],[0.2222222222222222,\"#7201a8\"],[0.3333333333333333,\"#9c179e\"],[0.4444444444444444,\"#bd3786\"],[0.5555555555555556,\"#d8576b\"],[0.6666666666666666,\"#ed7953\"],[0.7777777777777778,\"#fb9f3a\"],[0.8888888888888888,\"#fdca26\"],[1.0,\"#f0f921\"]]}],\"surface\":[{\"type\":\"surface\",\"colorbar\":{\"outlinewidth\":0,\"ticks\":\"\"},\"colorscale\":[[0.0,\"#0d0887\"],[0.1111111111111111,\"#46039f\"],[0.2222222222222222,\"#7201a8\"],[0.3333333333333333,\"#9c179e\"],[0.4444444444444444,\"#bd3786\"],[0.5555555555555556,\"#d8576b\"],[0.6666666666666666,\"#ed7953\"],[0.7777777777777778,\"#fb9f3a\"],[0.8888888888888888,\"#fdca26\"],[1.0,\"#f0f921\"]]}],\"mesh3d\":[{\"type\":\"mesh3d\",\"colorbar\":{\"outlinewidth\":0,\"ticks\":\"\"}}],\"scatter\":[{\"fillpattern\":{\"fillmode\":\"overlay\",\"size\":10,\"solidity\":0.2},\"type\":\"scatter\"}],\"parcoords\":[{\"type\":\"parcoords\",\"line\":{\"colorbar\":{\"outlinewidth\":0,\"ticks\":\"\"}}}],\"scatterpolargl\":[{\"type\":\"scatterpolargl\",\"marker\":{\"colorbar\":{\"outlinewidth\":0,\"ticks\":\"\"}}}],\"bar\":[{\"error_x\":{\"color\":\"#2a3f5f\"},\"error_y\":{\"color\":\"#2a3f5f\"},\"marker\":{\"line\":{\"color\":\"#E5ECF6\",\"width\":0.5},\"pattern\":{\"fillmode\":\"overlay\",\"size\":10,\"solidity\":0.2}},\"type\":\"bar\"}],\"scattergeo\":[{\"type\":\"scattergeo\",\"marker\":{\"colorbar\":{\"outlinewidth\":0,\"ticks\":\"\"}}}],\"scatterpolar\":[{\"type\":\"scatterpolar\",\"marker\":{\"colorbar\":{\"outlinewidth\":0,\"ticks\":\"\"}}}],\"histogram\":[{\"marker\":{\"pattern\":{\"fillmode\":\"overlay\",\"size\":10,\"solidity\":0.2}},\"type\":\"histogram\"}],\"scattergl\":[{\"type\":\"scattergl\",\"marker\":{\"colorbar\":{\"outlinewidth\":0,\"ticks\":\"\"}}}],\"scatter3d\":[{\"type\":\"scatter3d\",\"line\":{\"colorbar\":{\"outlinewidth\":0,\"ticks\":\"\"}},\"marker\":{\"colorbar\":{\"outlinewidth\":0,\"ticks\":\"\"}}}],\"scattermapbox\":[{\"type\":\"scattermapbox\",\"marker\":{\"colorbar\":{\"outlinewidth\":0,\"ticks\":\"\"}}}],\"scatterternary\":[{\"type\":\"scatterternary\",\"marker\":{\"colorbar\":{\"outlinewidth\":0,\"ticks\":\"\"}}}],\"scattercarpet\":[{\"type\":\"scattercarpet\",\"marker\":{\"colorbar\":{\"outlinewidth\":0,\"ticks\":\"\"}}}],\"carpet\":[{\"aaxis\":{\"endlinecolor\":\"#2a3f5f\",\"gridcolor\":\"white\",\"linecolor\":\"white\",\"minorgridcolor\":\"white\",\"startlinecolor\":\"#2a3f5f\"},\"baxis\":{\"endlinecolor\":\"#2a3f5f\",\"gridcolor\":\"white\",\"linecolor\":\"white\",\"minorgridcolor\":\"white\",\"startlinecolor\":\"#2a3f5f\"},\"type\":\"carpet\"}],\"table\":[{\"cells\":{\"fill\":{\"color\":\"#EBF0F8\"},\"line\":{\"color\":\"white\"}},\"header\":{\"fill\":{\"color\":\"#C8D4E3\"},\"line\":{\"color\":\"white\"}},\"type\":\"table\"}],\"barpolar\":[{\"marker\":{\"line\":{\"color\":\"#E5ECF6\",\"width\":0.5},\"pattern\":{\"fillmode\":\"overlay\",\"size\":10,\"solidity\":0.2}},\"type\":\"barpolar\"}],\"pie\":[{\"automargin\":true,\"type\":\"pie\"}]},\"layout\":{\"autotypenumbers\":\"strict\",\"colorway\":[\"#636efa\",\"#EF553B\",\"#00cc96\",\"#ab63fa\",\"#FFA15A\",\"#19d3f3\",\"#FF6692\",\"#B6E880\",\"#FF97FF\",\"#FECB52\"],\"font\":{\"color\":\"#2a3f5f\"},\"hovermode\":\"closest\",\"hoverlabel\":{\"align\":\"left\"},\"paper_bgcolor\":\"white\",\"plot_bgcolor\":\"#E5ECF6\",\"polar\":{\"bgcolor\":\"#E5ECF6\",\"angularaxis\":{\"gridcolor\":\"white\",\"linecolor\":\"white\",\"ticks\":\"\"},\"radialaxis\":{\"gridcolor\":\"white\",\"linecolor\":\"white\",\"ticks\":\"\"}},\"ternary\":{\"bgcolor\":\"#E5ECF6\",\"aaxis\":{\"gridcolor\":\"white\",\"linecolor\":\"white\",\"ticks\":\"\"},\"baxis\":{\"gridcolor\":\"white\",\"linecolor\":\"white\",\"ticks\":\"\"},\"caxis\":{\"gridcolor\":\"white\",\"linecolor\":\"white\",\"ticks\":\"\"}},\"coloraxis\":{\"colorbar\":{\"outlinewidth\":0,\"ticks\":\"\"}},\"colorscale\":{\"sequential\":[[0.0,\"#0d0887\"],[0.1111111111111111,\"#46039f\"],[0.2222222222222222,\"#7201a8\"],[0.3333333333333333,\"#9c179e\"],[0.4444444444444444,\"#bd3786\"],[0.5555555555555556,\"#d8576b\"],[0.6666666666666666,\"#ed7953\"],[0.7777777777777778,\"#fb9f3a\"],[0.8888888888888888,\"#fdca26\"],[1.0,\"#f0f921\"]],\"sequentialminus\":[[0.0,\"#0d0887\"],[0.1111111111111111,\"#46039f\"],[0.2222222222222222,\"#7201a8\"],[0.3333333333333333,\"#9c179e\"],[0.4444444444444444,\"#bd3786\"],[0.5555555555555556,\"#d8576b\"],[0.6666666666666666,\"#ed7953\"],[0.7777777777777778,\"#fb9f3a\"],[0.8888888888888888,\"#fdca26\"],[1.0,\"#f0f921\"]],\"diverging\":[[0,\"#8e0152\"],[0.1,\"#c51b7d\"],[0.2,\"#de77ae\"],[0.3,\"#f1b6da\"],[0.4,\"#fde0ef\"],[0.5,\"#f7f7f7\"],[0.6,\"#e6f5d0\"],[0.7,\"#b8e186\"],[0.8,\"#7fbc41\"],[0.9,\"#4d9221\"],[1,\"#276419\"]]},\"xaxis\":{\"gridcolor\":\"white\",\"linecolor\":\"white\",\"ticks\":\"\",\"title\":{\"standoff\":15},\"zerolinecolor\":\"white\",\"automargin\":true,\"zerolinewidth\":2},\"yaxis\":{\"gridcolor\":\"white\",\"linecolor\":\"white\",\"ticks\":\"\",\"title\":{\"standoff\":15},\"zerolinecolor\":\"white\",\"automargin\":true,\"zerolinewidth\":2},\"scene\":{\"xaxis\":{\"backgroundcolor\":\"#E5ECF6\",\"gridcolor\":\"white\",\"linecolor\":\"white\",\"showbackground\":true,\"ticks\":\"\",\"zerolinecolor\":\"white\",\"gridwidth\":2},\"yaxis\":{\"backgroundcolor\":\"#E5ECF6\",\"gridcolor\":\"white\",\"linecolor\":\"white\",\"showbackground\":true,\"ticks\":\"\",\"zerolinecolor\":\"white\",\"gridwidth\":2},\"zaxis\":{\"backgroundcolor\":\"#E5ECF6\",\"gridcolor\":\"white\",\"linecolor\":\"white\",\"showbackground\":true,\"ticks\":\"\",\"zerolinecolor\":\"white\",\"gridwidth\":2}},\"shapedefaults\":{\"line\":{\"color\":\"#2a3f5f\"}},\"annotationdefaults\":{\"arrowcolor\":\"#2a3f5f\",\"arrowhead\":0,\"arrowwidth\":1},\"geo\":{\"bgcolor\":\"white\",\"landcolor\":\"#E5ECF6\",\"subunitcolor\":\"white\",\"showland\":true,\"showlakes\":true,\"lakecolor\":\"white\"},\"title\":{\"x\":0.05},\"mapbox\":{\"style\":\"light\"}}}},                        {\"responsive\": true}                    ).then(function(){\n",
              "                            \n",
              "var gd = document.getElementById('3521fc83-6637-4999-a9f4-b88846b34985');\n",
              "var x = new MutationObserver(function (mutations, observer) {{\n",
              "        var display = window.getComputedStyle(gd).display;\n",
              "        if (!display || display === 'none') {{\n",
              "            console.log([gd, 'removed!']);\n",
              "            Plotly.purge(gd);\n",
              "            observer.disconnect();\n",
              "        }}\n",
              "}});\n",
              "\n",
              "// Listen for the removal of the full notebook cells\n",
              "var notebookContainer = gd.closest('#notebook-container');\n",
              "if (notebookContainer) {{\n",
              "    x.observe(notebookContainer, {childList: true});\n",
              "}}\n",
              "\n",
              "// Listen for the clearing of the current output cell\n",
              "var outputEl = gd.closest('.output');\n",
              "if (outputEl) {{\n",
              "    x.observe(outputEl, {childList: true});\n",
              "}}\n",
              "\n",
              "                        })                };                            </script>        </div>\n",
              "</body>\n",
              "</html>"
            ]
          },
          "metadata": {}
        },
        {
          "output_type": "stream",
          "name": "stderr",
          "text": [
            "[W 2023-06-03 11:50:51,012] Your study has only completed trials with missing parameters.\n",
            "<ipython-input-37-247d5052aadc>:44: FutureWarning:\n",
            "\n",
            "suggest_loguniform has been deprecated in v3.0.0. This feature will be removed in v6.0.0. See https://github.com/optuna/optuna/releases/tag/v3.0.0. Use suggest_float(..., log=True) instead.\n",
            "\n",
            "<ipython-input-37-247d5052aadc>:73: FutureWarning:\n",
            "\n",
            "suggest_uniform has been deprecated in v3.0.0. This feature will be removed in v6.0.0. See https://github.com/optuna/optuna/releases/tag/v3.0.0. Use suggest_float instead.\n",
            "\n",
            "<ipython-input-37-247d5052aadc>:76: FutureWarning:\n",
            "\n",
            "suggest_uniform has been deprecated in v3.0.0. This feature will be removed in v6.0.0. See https://github.com/optuna/optuna/releases/tag/v3.0.0. Use suggest_float instead.\n",
            "\n",
            "<ipython-input-37-247d5052aadc>:145: FutureWarning:\n",
            "\n",
            "suggest_loguniform has been deprecated in v3.0.0. This feature will be removed in v6.0.0. See https://github.com/optuna/optuna/releases/tag/v3.0.0. Use suggest_float(..., log=True) instead.\n",
            "\n",
            "<ipython-input-37-247d5052aadc>:146: FutureWarning:\n",
            "\n",
            "suggest_uniform has been deprecated in v3.0.0. This feature will be removed in v6.0.0. See https://github.com/optuna/optuna/releases/tag/v3.0.0. Use suggest_float instead.\n",
            "\n",
            "<ipython-input-37-247d5052aadc>:168: FutureWarning:\n",
            "\n",
            "suggest_uniform has been deprecated in v3.0.0. This feature will be removed in v6.0.0. See https://github.com/optuna/optuna/releases/tag/v3.0.0. Use suggest_float instead.\n",
            "\n",
            "<ipython-input-37-247d5052aadc>:175: FutureWarning:\n",
            "\n",
            "suggest_loguniform has been deprecated in v3.0.0. This feature will be removed in v6.0.0. See https://github.com/optuna/optuna/releases/tag/v3.0.0. Use suggest_float(..., log=True) instead.\n",
            "\n",
            "[I 2023-06-03 11:50:54,410] Trial 14 pruned. \n"
          ]
        },
        {
          "output_type": "stream",
          "name": "stdout",
          "text": [
            "Epoch 1/51.. Train loss: 3.925.. Val loss: 3.927.. Train L1 norm: 5.124.. Val L1 norm: 3.750.. Train Linf norm: 387.688.. Val Linf norm: 206.035\n"
          ]
        },
        {
          "output_type": "display_data",
          "data": {
            "text/html": [
              "<html>\n",
              "<head><meta charset=\"utf-8\" /></head>\n",
              "<body>\n",
              "    <div>            <script src=\"https://cdnjs.cloudflare.com/ajax/libs/mathjax/2.7.5/MathJax.js?config=TeX-AMS-MML_SVG\"></script><script type=\"text/javascript\">if (window.MathJax && window.MathJax.Hub && window.MathJax.Hub.Config) {window.MathJax.Hub.Config({SVG: {font: \"STIX-Web\"}});}</script>                <script type=\"text/javascript\">window.PlotlyConfig = {MathJaxConfig: 'local'};</script>\n",
              "        <script src=\"https://cdn.plot.ly/plotly-2.18.2.min.js\"></script>                <div id=\"1c21ff76-fe3b-40b3-b5c0-5bc9bcf3bbbf\" class=\"plotly-graph-div\" style=\"height:525px; width:100%;\"></div>            <script type=\"text/javascript\">                                    window.PLOTLYENV=window.PLOTLYENV || {};                                    if (document.getElementById(\"1c21ff76-fe3b-40b3-b5c0-5bc9bcf3bbbf\")) {                    Plotly.newPlot(                        \"1c21ff76-fe3b-40b3-b5c0-5bc9bcf3bbbf\",                        [{\"mode\":\"markers\",\"name\":\"Objective Value\",\"x\":[0,2,3,4,5,6,11,12,13],\"y\":[3.1759881306966147,1.156466460164388,2.3734971160888674,197068098895033.12,28.626712099456785,3.4212768898010255,3.457972690137227,4.168114870516459,4.0204941166559856],\"type\":\"scatter\"},{\"name\":\"Best Value\",\"x\":[0,2,3,4,5,6,11,12,13],\"y\":[3.1759881306966147,1.156466460164388,1.156466460164388,1.156466460164388,1.156466460164388,1.156466460164388,1.156466460164388,1.156466460164388,1.156466460164388],\"type\":\"scatter\"}],                        {\"title\":{\"text\":\"Optimization History Plot\"},\"xaxis\":{\"title\":{\"text\":\"Trial\"}},\"yaxis\":{\"title\":{\"text\":\"Objective Value\"}},\"template\":{\"data\":{\"histogram2dcontour\":[{\"type\":\"histogram2dcontour\",\"colorbar\":{\"outlinewidth\":0,\"ticks\":\"\"},\"colorscale\":[[0.0,\"#0d0887\"],[0.1111111111111111,\"#46039f\"],[0.2222222222222222,\"#7201a8\"],[0.3333333333333333,\"#9c179e\"],[0.4444444444444444,\"#bd3786\"],[0.5555555555555556,\"#d8576b\"],[0.6666666666666666,\"#ed7953\"],[0.7777777777777778,\"#fb9f3a\"],[0.8888888888888888,\"#fdca26\"],[1.0,\"#f0f921\"]]}],\"choropleth\":[{\"type\":\"choropleth\",\"colorbar\":{\"outlinewidth\":0,\"ticks\":\"\"}}],\"histogram2d\":[{\"type\":\"histogram2d\",\"colorbar\":{\"outlinewidth\":0,\"ticks\":\"\"},\"colorscale\":[[0.0,\"#0d0887\"],[0.1111111111111111,\"#46039f\"],[0.2222222222222222,\"#7201a8\"],[0.3333333333333333,\"#9c179e\"],[0.4444444444444444,\"#bd3786\"],[0.5555555555555556,\"#d8576b\"],[0.6666666666666666,\"#ed7953\"],[0.7777777777777778,\"#fb9f3a\"],[0.8888888888888888,\"#fdca26\"],[1.0,\"#f0f921\"]]}],\"heatmap\":[{\"type\":\"heatmap\",\"colorbar\":{\"outlinewidth\":0,\"ticks\":\"\"},\"colorscale\":[[0.0,\"#0d0887\"],[0.1111111111111111,\"#46039f\"],[0.2222222222222222,\"#7201a8\"],[0.3333333333333333,\"#9c179e\"],[0.4444444444444444,\"#bd3786\"],[0.5555555555555556,\"#d8576b\"],[0.6666666666666666,\"#ed7953\"],[0.7777777777777778,\"#fb9f3a\"],[0.8888888888888888,\"#fdca26\"],[1.0,\"#f0f921\"]]}],\"heatmapgl\":[{\"type\":\"heatmapgl\",\"colorbar\":{\"outlinewidth\":0,\"ticks\":\"\"},\"colorscale\":[[0.0,\"#0d0887\"],[0.1111111111111111,\"#46039f\"],[0.2222222222222222,\"#7201a8\"],[0.3333333333333333,\"#9c179e\"],[0.4444444444444444,\"#bd3786\"],[0.5555555555555556,\"#d8576b\"],[0.6666666666666666,\"#ed7953\"],[0.7777777777777778,\"#fb9f3a\"],[0.8888888888888888,\"#fdca26\"],[1.0,\"#f0f921\"]]}],\"contourcarpet\":[{\"type\":\"contourcarpet\",\"colorbar\":{\"outlinewidth\":0,\"ticks\":\"\"}}],\"contour\":[{\"type\":\"contour\",\"colorbar\":{\"outlinewidth\":0,\"ticks\":\"\"},\"colorscale\":[[0.0,\"#0d0887\"],[0.1111111111111111,\"#46039f\"],[0.2222222222222222,\"#7201a8\"],[0.3333333333333333,\"#9c179e\"],[0.4444444444444444,\"#bd3786\"],[0.5555555555555556,\"#d8576b\"],[0.6666666666666666,\"#ed7953\"],[0.7777777777777778,\"#fb9f3a\"],[0.8888888888888888,\"#fdca26\"],[1.0,\"#f0f921\"]]}],\"surface\":[{\"type\":\"surface\",\"colorbar\":{\"outlinewidth\":0,\"ticks\":\"\"},\"colorscale\":[[0.0,\"#0d0887\"],[0.1111111111111111,\"#46039f\"],[0.2222222222222222,\"#7201a8\"],[0.3333333333333333,\"#9c179e\"],[0.4444444444444444,\"#bd3786\"],[0.5555555555555556,\"#d8576b\"],[0.6666666666666666,\"#ed7953\"],[0.7777777777777778,\"#fb9f3a\"],[0.8888888888888888,\"#fdca26\"],[1.0,\"#f0f921\"]]}],\"mesh3d\":[{\"type\":\"mesh3d\",\"colorbar\":{\"outlinewidth\":0,\"ticks\":\"\"}}],\"scatter\":[{\"fillpattern\":{\"fillmode\":\"overlay\",\"size\":10,\"solidity\":0.2},\"type\":\"scatter\"}],\"parcoords\":[{\"type\":\"parcoords\",\"line\":{\"colorbar\":{\"outlinewidth\":0,\"ticks\":\"\"}}}],\"scatterpolargl\":[{\"type\":\"scatterpolargl\",\"marker\":{\"colorbar\":{\"outlinewidth\":0,\"ticks\":\"\"}}}],\"bar\":[{\"error_x\":{\"color\":\"#2a3f5f\"},\"error_y\":{\"color\":\"#2a3f5f\"},\"marker\":{\"line\":{\"color\":\"#E5ECF6\",\"width\":0.5},\"pattern\":{\"fillmode\":\"overlay\",\"size\":10,\"solidity\":0.2}},\"type\":\"bar\"}],\"scattergeo\":[{\"type\":\"scattergeo\",\"marker\":{\"colorbar\":{\"outlinewidth\":0,\"ticks\":\"\"}}}],\"scatterpolar\":[{\"type\":\"scatterpolar\",\"marker\":{\"colorbar\":{\"outlinewidth\":0,\"ticks\":\"\"}}}],\"histogram\":[{\"marker\":{\"pattern\":{\"fillmode\":\"overlay\",\"size\":10,\"solidity\":0.2}},\"type\":\"histogram\"}],\"scattergl\":[{\"type\":\"scattergl\",\"marker\":{\"colorbar\":{\"outlinewidth\":0,\"ticks\":\"\"}}}],\"scatter3d\":[{\"type\":\"scatter3d\",\"line\":{\"colorbar\":{\"outlinewidth\":0,\"ticks\":\"\"}},\"marker\":{\"colorbar\":{\"outlinewidth\":0,\"ticks\":\"\"}}}],\"scattermapbox\":[{\"type\":\"scattermapbox\",\"marker\":{\"colorbar\":{\"outlinewidth\":0,\"ticks\":\"\"}}}],\"scatterternary\":[{\"type\":\"scatterternary\",\"marker\":{\"colorbar\":{\"outlinewidth\":0,\"ticks\":\"\"}}}],\"scattercarpet\":[{\"type\":\"scattercarpet\",\"marker\":{\"colorbar\":{\"outlinewidth\":0,\"ticks\":\"\"}}}],\"carpet\":[{\"aaxis\":{\"endlinecolor\":\"#2a3f5f\",\"gridcolor\":\"white\",\"linecolor\":\"white\",\"minorgridcolor\":\"white\",\"startlinecolor\":\"#2a3f5f\"},\"baxis\":{\"endlinecolor\":\"#2a3f5f\",\"gridcolor\":\"white\",\"linecolor\":\"white\",\"minorgridcolor\":\"white\",\"startlinecolor\":\"#2a3f5f\"},\"type\":\"carpet\"}],\"table\":[{\"cells\":{\"fill\":{\"color\":\"#EBF0F8\"},\"line\":{\"color\":\"white\"}},\"header\":{\"fill\":{\"color\":\"#C8D4E3\"},\"line\":{\"color\":\"white\"}},\"type\":\"table\"}],\"barpolar\":[{\"marker\":{\"line\":{\"color\":\"#E5ECF6\",\"width\":0.5},\"pattern\":{\"fillmode\":\"overlay\",\"size\":10,\"solidity\":0.2}},\"type\":\"barpolar\"}],\"pie\":[{\"automargin\":true,\"type\":\"pie\"}]},\"layout\":{\"autotypenumbers\":\"strict\",\"colorway\":[\"#636efa\",\"#EF553B\",\"#00cc96\",\"#ab63fa\",\"#FFA15A\",\"#19d3f3\",\"#FF6692\",\"#B6E880\",\"#FF97FF\",\"#FECB52\"],\"font\":{\"color\":\"#2a3f5f\"},\"hovermode\":\"closest\",\"hoverlabel\":{\"align\":\"left\"},\"paper_bgcolor\":\"white\",\"plot_bgcolor\":\"#E5ECF6\",\"polar\":{\"bgcolor\":\"#E5ECF6\",\"angularaxis\":{\"gridcolor\":\"white\",\"linecolor\":\"white\",\"ticks\":\"\"},\"radialaxis\":{\"gridcolor\":\"white\",\"linecolor\":\"white\",\"ticks\":\"\"}},\"ternary\":{\"bgcolor\":\"#E5ECF6\",\"aaxis\":{\"gridcolor\":\"white\",\"linecolor\":\"white\",\"ticks\":\"\"},\"baxis\":{\"gridcolor\":\"white\",\"linecolor\":\"white\",\"ticks\":\"\"},\"caxis\":{\"gridcolor\":\"white\",\"linecolor\":\"white\",\"ticks\":\"\"}},\"coloraxis\":{\"colorbar\":{\"outlinewidth\":0,\"ticks\":\"\"}},\"colorscale\":{\"sequential\":[[0.0,\"#0d0887\"],[0.1111111111111111,\"#46039f\"],[0.2222222222222222,\"#7201a8\"],[0.3333333333333333,\"#9c179e\"],[0.4444444444444444,\"#bd3786\"],[0.5555555555555556,\"#d8576b\"],[0.6666666666666666,\"#ed7953\"],[0.7777777777777778,\"#fb9f3a\"],[0.8888888888888888,\"#fdca26\"],[1.0,\"#f0f921\"]],\"sequentialminus\":[[0.0,\"#0d0887\"],[0.1111111111111111,\"#46039f\"],[0.2222222222222222,\"#7201a8\"],[0.3333333333333333,\"#9c179e\"],[0.4444444444444444,\"#bd3786\"],[0.5555555555555556,\"#d8576b\"],[0.6666666666666666,\"#ed7953\"],[0.7777777777777778,\"#fb9f3a\"],[0.8888888888888888,\"#fdca26\"],[1.0,\"#f0f921\"]],\"diverging\":[[0,\"#8e0152\"],[0.1,\"#c51b7d\"],[0.2,\"#de77ae\"],[0.3,\"#f1b6da\"],[0.4,\"#fde0ef\"],[0.5,\"#f7f7f7\"],[0.6,\"#e6f5d0\"],[0.7,\"#b8e186\"],[0.8,\"#7fbc41\"],[0.9,\"#4d9221\"],[1,\"#276419\"]]},\"xaxis\":{\"gridcolor\":\"white\",\"linecolor\":\"white\",\"ticks\":\"\",\"title\":{\"standoff\":15},\"zerolinecolor\":\"white\",\"automargin\":true,\"zerolinewidth\":2},\"yaxis\":{\"gridcolor\":\"white\",\"linecolor\":\"white\",\"ticks\":\"\",\"title\":{\"standoff\":15},\"zerolinecolor\":\"white\",\"automargin\":true,\"zerolinewidth\":2},\"scene\":{\"xaxis\":{\"backgroundcolor\":\"#E5ECF6\",\"gridcolor\":\"white\",\"linecolor\":\"white\",\"showbackground\":true,\"ticks\":\"\",\"zerolinecolor\":\"white\",\"gridwidth\":2},\"yaxis\":{\"backgroundcolor\":\"#E5ECF6\",\"gridcolor\":\"white\",\"linecolor\":\"white\",\"showbackground\":true,\"ticks\":\"\",\"zerolinecolor\":\"white\",\"gridwidth\":2},\"zaxis\":{\"backgroundcolor\":\"#E5ECF6\",\"gridcolor\":\"white\",\"linecolor\":\"white\",\"showbackground\":true,\"ticks\":\"\",\"zerolinecolor\":\"white\",\"gridwidth\":2}},\"shapedefaults\":{\"line\":{\"color\":\"#2a3f5f\"}},\"annotationdefaults\":{\"arrowcolor\":\"#2a3f5f\",\"arrowhead\":0,\"arrowwidth\":1},\"geo\":{\"bgcolor\":\"white\",\"landcolor\":\"#E5ECF6\",\"subunitcolor\":\"white\",\"showland\":true,\"showlakes\":true,\"lakecolor\":\"white\"},\"title\":{\"x\":0.05},\"mapbox\":{\"style\":\"light\"}}}},                        {\"responsive\": true}                    ).then(function(){\n",
              "                            \n",
              "var gd = document.getElementById('1c21ff76-fe3b-40b3-b5c0-5bc9bcf3bbbf');\n",
              "var x = new MutationObserver(function (mutations, observer) {{\n",
              "        var display = window.getComputedStyle(gd).display;\n",
              "        if (!display || display === 'none') {{\n",
              "            console.log([gd, 'removed!']);\n",
              "            Plotly.purge(gd);\n",
              "            observer.disconnect();\n",
              "        }}\n",
              "}});\n",
              "\n",
              "// Listen for the removal of the full notebook cells\n",
              "var notebookContainer = gd.closest('#notebook-container');\n",
              "if (notebookContainer) {{\n",
              "    x.observe(notebookContainer, {childList: true});\n",
              "}}\n",
              "\n",
              "// Listen for the clearing of the current output cell\n",
              "var outputEl = gd.closest('.output');\n",
              "if (outputEl) {{\n",
              "    x.observe(outputEl, {childList: true});\n",
              "}}\n",
              "\n",
              "                        })                };                            </script>        </div>\n",
              "</body>\n",
              "</html>"
            ]
          },
          "metadata": {}
        },
        {
          "output_type": "stream",
          "name": "stderr",
          "text": [
            "[W 2023-06-03 11:50:54,860] Your study has only completed trials with missing parameters.\n",
            "<ipython-input-37-247d5052aadc>:44: FutureWarning:\n",
            "\n",
            "suggest_loguniform has been deprecated in v3.0.0. This feature will be removed in v6.0.0. See https://github.com/optuna/optuna/releases/tag/v3.0.0. Use suggest_float(..., log=True) instead.\n",
            "\n",
            "<ipython-input-37-247d5052aadc>:76: FutureWarning:\n",
            "\n",
            "suggest_uniform has been deprecated in v3.0.0. This feature will be removed in v6.0.0. See https://github.com/optuna/optuna/releases/tag/v3.0.0. Use suggest_float instead.\n",
            "\n",
            "<ipython-input-37-247d5052aadc>:145: FutureWarning:\n",
            "\n",
            "suggest_loguniform has been deprecated in v3.0.0. This feature will be removed in v6.0.0. See https://github.com/optuna/optuna/releases/tag/v3.0.0. Use suggest_float(..., log=True) instead.\n",
            "\n",
            "<ipython-input-37-247d5052aadc>:146: FutureWarning:\n",
            "\n",
            "suggest_uniform has been deprecated in v3.0.0. This feature will be removed in v6.0.0. See https://github.com/optuna/optuna/releases/tag/v3.0.0. Use suggest_float instead.\n",
            "\n",
            "<ipython-input-37-247d5052aadc>:168: FutureWarning:\n",
            "\n",
            "suggest_uniform has been deprecated in v3.0.0. This feature will be removed in v6.0.0. See https://github.com/optuna/optuna/releases/tag/v3.0.0. Use suggest_float instead.\n",
            "\n",
            "<ipython-input-37-247d5052aadc>:175: FutureWarning:\n",
            "\n",
            "suggest_loguniform has been deprecated in v3.0.0. This feature will be removed in v6.0.0. See https://github.com/optuna/optuna/releases/tag/v3.0.0. Use suggest_float(..., log=True) instead.\n",
            "\n"
          ]
        },
        {
          "output_type": "stream",
          "name": "stdout",
          "text": [
            "Epoch 1/119.. Train loss: 4.658.. Val loss: 4.844.. Train L1 norm: 2.853.. Val L1 norm: 2.184.. Train Linf norm: 551.477.. Val Linf norm: 288.943\n",
            "Epoch 2/119.. Train loss: 4.292.. Val loss: 4.816.. Train L1 norm: 4.415.. Val L1 norm: 2.543.. Train Linf norm: 1081.185.. Val Linf norm: 359.100\n",
            "Epoch 3/119.. Train loss: 4.134.. Val loss: 4.711.. Train L1 norm: 5.104.. Val L1 norm: 2.554.. Train Linf norm: 1323.048.. Val Linf norm: 362.147\n",
            "Epoch 4/119.. Train loss: 4.053.. Val loss: 4.626.. Train L1 norm: 5.227.. Val L1 norm: 2.650.. Train Linf norm: 1364.340.. Val Linf norm: 383.112\n",
            "Epoch 5/119.. Train loss: 4.064.. Val loss: 4.164.. Train L1 norm: 5.128.. Val L1 norm: 2.805.. Train Linf norm: 1280.341.. Val Linf norm: 417.304\n",
            "Epoch 6/119.. Train loss: 4.040.. Val loss: 4.438.. Train L1 norm: 5.599.. Val L1 norm: 2.879.. Train Linf norm: 1480.769.. Val Linf norm: 426.747\n",
            "Epoch 7/119.. Train loss: 4.007.. Val loss: 4.355.. Train L1 norm: 5.561.. Val L1 norm: 3.095.. Train Linf norm: 1438.230.. Val Linf norm: 470.415\n",
            "Epoch 8/119.. Train loss: 3.993.. Val loss: 4.114.. Train L1 norm: 5.428.. Val L1 norm: 3.059.. Train Linf norm: 1375.991.. Val Linf norm: 467.060\n",
            "Epoch 9/119.. Train loss: 3.966.. Val loss: 4.344.. Train L1 norm: 5.568.. Val L1 norm: 3.149.. Train Linf norm: 1413.410.. Val Linf norm: 483.273\n",
            "Epoch 10/119.. Train loss: 3.970.. Val loss: 4.213.. Train L1 norm: 5.459.. Val L1 norm: 3.052.. Train Linf norm: 1351.230.. Val Linf norm: 465.191\n",
            "Epoch 11/119.. Train loss: 3.963.. Val loss: 4.243.. Train L1 norm: 5.590.. Val L1 norm: 3.286.. Train Linf norm: 1438.388.. Val Linf norm: 510.292\n",
            "Epoch 12/119.. Train loss: 3.945.. Val loss: 4.260.. Train L1 norm: 5.764.. Val L1 norm: 3.279.. Train Linf norm: 1509.322.. Val Linf norm: 508.734\n",
            "Epoch 13/119.. Train loss: 3.957.. Val loss: 4.254.. Train L1 norm: 5.898.. Val L1 norm: 3.255.. Train Linf norm: 1564.090.. Val Linf norm: 504.243\n",
            "Epoch 14/119.. Train loss: 3.952.. Val loss: 4.254.. Train L1 norm: 5.621.. Val L1 norm: 3.255.. Train Linf norm: 1416.723.. Val Linf norm: 504.240\n",
            "Epoch 15/119.. Train loss: 3.959.. Val loss: 4.250.. Train L1 norm: 5.804.. Val L1 norm: 3.243.. Train Linf norm: 1529.271.. Val Linf norm: 501.969\n",
            "Epoch 16/119.. Train loss: 3.947.. Val loss: 4.250.. Train L1 norm: 5.624.. Val L1 norm: 3.267.. Train Linf norm: 1430.790.. Val Linf norm: 506.785\n",
            "Epoch 17/119.. Train loss: 3.960.. Val loss: 4.246.. Train L1 norm: 5.725.. Val L1 norm: 3.264.. Train Linf norm: 1515.548.. Val Linf norm: 506.461\n",
            "Epoch 18/119.. Train loss: 3.942.. Val loss: 4.188.. Train L1 norm: 5.735.. Val L1 norm: 3.193.. Train Linf norm: 1487.279.. Val Linf norm: 493.720\n",
            "Epoch 19/119.. Train loss: 3.954.. Val loss: 4.216.. Train L1 norm: 5.767.. Val L1 norm: 3.345.. Train Linf norm: 1511.603.. Val Linf norm: 523.632\n",
            "Epoch 20/119.. Train loss: 3.951.. Val loss: 4.253.. Train L1 norm: 5.517.. Val L1 norm: 3.371.. Train Linf norm: 1357.745.. Val Linf norm: 527.760\n",
            "Epoch 21/119.. Train loss: 3.939.. Val loss: 4.200.. Train L1 norm: 5.432.. Val L1 norm: 3.550.. Train Linf norm: 1256.148.. Val Linf norm: 562.745\n",
            "Epoch 22/119.. Train loss: 3.950.. Val loss: 4.164.. Train L1 norm: 5.638.. Val L1 norm: 3.540.. Train Linf norm: 1404.127.. Val Linf norm: 561.876\n",
            "Epoch 23/119.. Train loss: 3.938.. Val loss: 4.184.. Train L1 norm: 5.670.. Val L1 norm: 3.348.. Train Linf norm: 1412.323.. Val Linf norm: 527.329\n",
            "Epoch 24/119.. Train loss: 3.954.. Val loss: 4.199.. Train L1 norm: 5.700.. Val L1 norm: 3.503.. Train Linf norm: 1463.455.. Val Linf norm: 552.538\n",
            "Epoch 25/119.. Train loss: 3.925.. Val loss: 4.137.. Train L1 norm: 5.547.. Val L1 norm: 3.477.. Train Linf norm: 1243.813.. Val Linf norm: 548.572\n",
            "Epoch 26/119.. Train loss: 3.928.. Val loss: 4.087.. Train L1 norm: 5.576.. Val L1 norm: 3.418.. Train Linf norm: 1384.847.. Val Linf norm: 532.291\n",
            "Epoch 27/119.. Train loss: 3.913.. Val loss: 4.064.. Train L1 norm: 5.752.. Val L1 norm: 3.320.. Train Linf norm: 1449.422.. Val Linf norm: 512.064\n",
            "Epoch 28/119.. Train loss: 3.901.. Val loss: 4.113.. Train L1 norm: 5.692.. Val L1 norm: 3.434.. Train Linf norm: 1371.950.. Val Linf norm: 533.927\n",
            "Epoch 29/119.. Train loss: 3.887.. Val loss: 4.141.. Train L1 norm: 5.867.. Val L1 norm: 3.064.. Train Linf norm: 1508.760.. Val Linf norm: 461.196\n",
            "Epoch 30/119.. Train loss: 3.881.. Val loss: 4.032.. Train L1 norm: 5.581.. Val L1 norm: 3.638.. Train Linf norm: 1404.494.. Val Linf norm: 569.782\n",
            "Epoch 31/119.. Train loss: 3.870.. Val loss: 4.083.. Train L1 norm: 5.770.. Val L1 norm: 3.192.. Train Linf norm: 1500.852.. Val Linf norm: 485.693\n",
            "Epoch 32/119.. Train loss: 3.866.. Val loss: 4.104.. Train L1 norm: 5.930.. Val L1 norm: 3.415.. Train Linf norm: 1610.854.. Val Linf norm: 526.795\n",
            "Epoch 33/119.. Train loss: 3.858.. Val loss: 4.124.. Train L1 norm: 5.827.. Val L1 norm: 3.173.. Train Linf norm: 1559.616.. Val Linf norm: 481.532\n",
            "Epoch 34/119.. Train loss: 3.843.. Val loss: 4.095.. Train L1 norm: 5.612.. Val L1 norm: 3.346.. Train Linf norm: 1363.793.. Val Linf norm: 516.630\n",
            "Epoch 35/119.. Train loss: 3.841.. Val loss: 4.045.. Train L1 norm: 6.061.. Val L1 norm: 3.261.. Train Linf norm: 1662.252.. Val Linf norm: 501.205\n",
            "Epoch 36/119.. Train loss: 3.848.. Val loss: 4.036.. Train L1 norm: 5.807.. Val L1 norm: 3.247.. Train Linf norm: 1529.802.. Val Linf norm: 499.034\n",
            "Epoch 37/119.. Train loss: 3.843.. Val loss: 4.042.. Train L1 norm: 5.913.. Val L1 norm: 3.287.. Train Linf norm: 1520.597.. Val Linf norm: 507.365\n",
            "Epoch 38/119.. Train loss: 3.830.. Val loss: 4.044.. Train L1 norm: 5.961.. Val L1 norm: 3.234.. Train Linf norm: 1512.344.. Val Linf norm: 497.543\n",
            "Epoch 39/119.. Train loss: 3.833.. Val loss: 4.043.. Train L1 norm: 5.631.. Val L1 norm: 3.247.. Train Linf norm: 1423.164.. Val Linf norm: 500.004\n",
            "Epoch 40/119.. Train loss: 3.835.. Val loss: 4.043.. Train L1 norm: 5.866.. Val L1 norm: 3.247.. Train Linf norm: 1525.240.. Val Linf norm: 500.003\n",
            "Epoch 41/119.. Train loss: 3.824.. Val loss: 4.045.. Train L1 norm: 5.738.. Val L1 norm: 3.243.. Train Linf norm: 1494.329.. Val Linf norm: 499.324\n",
            "Epoch 42/119.. Train loss: 3.837.. Val loss: 4.060.. Train L1 norm: 5.791.. Val L1 norm: 3.221.. Train Linf norm: 1520.539.. Val Linf norm: 494.740\n",
            "Epoch 43/119.. Train loss: 3.834.. Val loss: 4.043.. Train L1 norm: 5.972.. Val L1 norm: 3.289.. Train Linf norm: 1636.879.. Val Linf norm: 507.505\n",
            "Epoch 44/119.. Train loss: 3.835.. Val loss: 4.042.. Train L1 norm: 5.963.. Val L1 norm: 3.238.. Train Linf norm: 1591.876.. Val Linf norm: 498.001\n",
            "Epoch 45/119.. Train loss: 3.826.. Val loss: 4.049.. Train L1 norm: 6.076.. Val L1 norm: 3.252.. Train Linf norm: 1652.363.. Val Linf norm: 502.108\n",
            "Epoch 46/119.. Train loss: 3.826.. Val loss: 4.104.. Train L1 norm: 5.814.. Val L1 norm: 3.092.. Train Linf norm: 1529.829.. Val Linf norm: 472.306\n",
            "Epoch 47/119.. Train loss: 3.828.. Val loss: 4.076.. Train L1 norm: 5.867.. Val L1 norm: 3.160.. Train Linf norm: 1516.041.. Val Linf norm: 488.671\n",
            "Epoch 48/119.. Train loss: 3.815.. Val loss: 4.023.. Train L1 norm: 5.847.. Val L1 norm: 3.289.. Train Linf norm: 1565.465.. Val Linf norm: 517.198\n",
            "Epoch 49/119.. Train loss: 3.818.. Val loss: 4.085.. Train L1 norm: 5.763.. Val L1 norm: 3.079.. Train Linf norm: 1478.629.. Val Linf norm: 477.191\n",
            "Epoch 50/119.. Train loss: 3.806.. Val loss: 4.045.. Train L1 norm: 5.755.. Val L1 norm: 3.142.. Train Linf norm: 1523.254.. Val Linf norm: 494.203\n",
            "Epoch 51/119.. Train loss: 3.800.. Val loss: 4.146.. Train L1 norm: 5.861.. Val L1 norm: 3.122.. Train Linf norm: 1554.412.. Val Linf norm: 499.366\n",
            "Epoch 52/119.. Train loss: 3.799.. Val loss: 4.114.. Train L1 norm: 5.720.. Val L1 norm: 3.229.. Train Linf norm: 1493.844.. Val Linf norm: 516.973\n",
            "Epoch 53/119.. Train loss: 3.792.. Val loss: 4.103.. Train L1 norm: 5.718.. Val L1 norm: 3.175.. Train Linf norm: 1527.393.. Val Linf norm: 509.237\n",
            "Epoch 54/119.. Train loss: 3.782.. Val loss: 4.100.. Train L1 norm: 5.819.. Val L1 norm: 3.141.. Train Linf norm: 1515.152.. Val Linf norm: 512.391\n",
            "Epoch 55/119.. Train loss: 3.770.. Val loss: 4.071.. Train L1 norm: 5.893.. Val L1 norm: 3.235.. Train Linf norm: 1567.630.. Val Linf norm: 526.811\n",
            "Epoch 56/119.. Train loss: 3.772.. Val loss: 4.109.. Train L1 norm: 6.193.. Val L1 norm: 3.392.. Train Linf norm: 1716.156.. Val Linf norm: 566.509\n",
            "Epoch 57/119.. Train loss: 3.761.. Val loss: 4.048.. Train L1 norm: 5.884.. Val L1 norm: 3.424.. Train Linf norm: 1543.176.. Val Linf norm: 572.035\n",
            "Epoch 58/119.. Train loss: 3.751.. Val loss: 4.060.. Train L1 norm: 5.637.. Val L1 norm: 3.248.. Train Linf norm: 1476.739.. Val Linf norm: 540.612\n",
            "Epoch 59/119.. Train loss: 3.749.. Val loss: 4.095.. Train L1 norm: 5.819.. Val L1 norm: 3.222.. Train Linf norm: 1517.723.. Val Linf norm: 531.761\n",
            "Epoch 60/119.. Train loss: 3.739.. Val loss: 4.056.. Train L1 norm: 5.809.. Val L1 norm: 3.291.. Train Linf norm: 1519.006.. Val Linf norm: 549.595\n",
            "Epoch 61/119.. Train loss: 3.743.. Val loss: 4.078.. Train L1 norm: 5.790.. Val L1 norm: 3.298.. Train Linf norm: 1371.489.. Val Linf norm: 551.289\n",
            "Epoch 62/119.. Train loss: 3.734.. Val loss: 4.062.. Train L1 norm: 5.851.. Val L1 norm: 3.365.. Train Linf norm: 1542.685.. Val Linf norm: 564.113\n",
            "Epoch 63/119.. Train loss: 3.737.. Val loss: 4.065.. Train L1 norm: 5.749.. Val L1 norm: 3.350.. Train Linf norm: 1499.133.. Val Linf norm: 562.503\n",
            "Epoch 64/119.. Train loss: 3.740.. Val loss: 4.066.. Train L1 norm: 5.715.. Val L1 norm: 3.346.. Train Linf norm: 1430.999.. Val Linf norm: 561.818\n",
            "Epoch 65/119.. Train loss: 3.724.. Val loss: 4.066.. Train L1 norm: 6.111.. Val L1 norm: 3.336.. Train Linf norm: 1690.941.. Val Linf norm: 559.634\n",
            "Epoch 66/119.. Train loss: 3.730.. Val loss: 4.066.. Train L1 norm: 5.635.. Val L1 norm: 3.336.. Train Linf norm: 1447.957.. Val Linf norm: 559.635\n",
            "Epoch 67/119.. Train loss: 3.732.. Val loss: 4.065.. Train L1 norm: 5.777.. Val L1 norm: 3.333.. Train Linf norm: 1535.250.. Val Linf norm: 559.102\n",
            "Epoch 68/119.. Train loss: 3.729.. Val loss: 4.065.. Train L1 norm: 5.875.. Val L1 norm: 3.336.. Train Linf norm: 1547.987.. Val Linf norm: 559.529\n",
            "Epoch 69/119.. Train loss: 3.732.. Val loss: 4.065.. Train L1 norm: 5.814.. Val L1 norm: 3.289.. Train Linf norm: 1539.799.. Val Linf norm: 551.359\n",
            "Epoch 70/119.. Train loss: 3.741.. Val loss: 4.067.. Train L1 norm: 5.859.. Val L1 norm: 3.341.. Train Linf norm: 1538.480.. Val Linf norm: 562.602\n",
            "Epoch 71/119.. Train loss: 3.732.. Val loss: 4.060.. Train L1 norm: 5.807.. Val L1 norm: 3.330.. Train Linf norm: 1531.572.. Val Linf norm: 561.365\n",
            "Epoch 72/119.. Train loss: 3.735.. Val loss: 4.085.. Train L1 norm: 5.432.. Val L1 norm: 3.206.. Train Linf norm: 1293.343.. Val Linf norm: 533.632\n",
            "Epoch 73/119.. Train loss: 3.733.. Val loss: 4.044.. Train L1 norm: 5.983.. Val L1 norm: 3.353.. Train Linf norm: 1590.558.. Val Linf norm: 560.347\n",
            "Epoch 74/119.. Train loss: 3.727.. Val loss: 4.117.. Train L1 norm: 5.929.. Val L1 norm: 3.275.. Train Linf norm: 1591.501.. Val Linf norm: 548.923\n",
            "Epoch 75/119.. Train loss: 3.728.. Val loss: 4.074.. Train L1 norm: 5.865.. Val L1 norm: 3.325.. Train Linf norm: 1537.187.. Val Linf norm: 556.750\n",
            "Epoch 76/119.. Train loss: 3.735.. Val loss: 4.070.. Train L1 norm: 5.866.. Val L1 norm: 3.408.. Train Linf norm: 1536.384.. Val Linf norm: 574.474\n",
            "Epoch 77/119.. Train loss: 3.739.. Val loss: 4.010.. Train L1 norm: 5.951.. Val L1 norm: 3.416.. Train Linf norm: 1565.459.. Val Linf norm: 566.917\n",
            "Epoch 78/119.. Train loss: 3.728.. Val loss: 3.995.. Train L1 norm: 5.440.. Val L1 norm: 3.226.. Train Linf norm: 1362.951.. Val Linf norm: 530.088\n",
            "Epoch 79/119.. Train loss: 3.729.. Val loss: 4.009.. Train L1 norm: 5.855.. Val L1 norm: 3.266.. Train Linf norm: 1452.655.. Val Linf norm: 542.978\n",
            "Epoch 80/119.. Train loss: 3.725.. Val loss: 4.008.. Train L1 norm: 5.873.. Val L1 norm: 3.164.. Train Linf norm: 1557.852.. Val Linf norm: 515.820\n",
            "Epoch 81/119.. Train loss: 3.725.. Val loss: 4.018.. Train L1 norm: 5.742.. Val L1 norm: 3.403.. Train Linf norm: 1480.820.. Val Linf norm: 559.665\n",
            "Epoch 82/119.. Train loss: 3.716.. Val loss: 4.054.. Train L1 norm: 5.936.. Val L1 norm: 3.301.. Train Linf norm: 1563.172.. Val Linf norm: 539.609\n",
            "Epoch 83/119.. Train loss: 3.709.. Val loss: 4.035.. Train L1 norm: 5.825.. Val L1 norm: 3.235.. Train Linf norm: 1518.013.. Val Linf norm: 527.310\n",
            "Epoch 84/119.. Train loss: 3.705.. Val loss: 4.041.. Train L1 norm: 5.800.. Val L1 norm: 2.999.. Train Linf norm: 1476.243.. Val Linf norm: 472.736\n",
            "Epoch 85/119.. Train loss: 3.704.. Val loss: 4.035.. Train L1 norm: 5.757.. Val L1 norm: 3.188.. Train Linf norm: 1501.755.. Val Linf norm: 519.116\n",
            "Epoch 86/119.. Train loss: 3.698.. Val loss: 4.033.. Train L1 norm: 5.917.. Val L1 norm: 3.070.. Train Linf norm: 1550.117.. Val Linf norm: 493.733\n",
            "Epoch 87/119.. Train loss: 3.695.. Val loss: 4.009.. Train L1 norm: 5.816.. Val L1 norm: 3.259.. Train Linf norm: 1503.464.. Val Linf norm: 530.692\n",
            "Epoch 88/119.. Train loss: 3.700.. Val loss: 4.016.. Train L1 norm: 5.684.. Val L1 norm: 3.219.. Train Linf norm: 1452.835.. Val Linf norm: 525.552\n",
            "Epoch 89/119.. Train loss: 3.697.. Val loss: 4.016.. Train L1 norm: 5.992.. Val L1 norm: 3.254.. Train Linf norm: 1562.332.. Val Linf norm: 533.452\n",
            "Epoch 90/119.. Train loss: 3.689.. Val loss: 4.010.. Train L1 norm: 5.946.. Val L1 norm: 3.266.. Train Linf norm: 1589.366.. Val Linf norm: 535.538\n",
            "Epoch 91/119.. Train loss: 3.691.. Val loss: 4.011.. Train L1 norm: 6.114.. Val L1 norm: 3.259.. Train Linf norm: 1684.118.. Val Linf norm: 534.160\n",
            "Epoch 92/119.. Train loss: 3.691.. Val loss: 4.011.. Train L1 norm: 5.567.. Val L1 norm: 3.259.. Train Linf norm: 1362.043.. Val Linf norm: 534.162\n",
            "Epoch 93/119.. Train loss: 3.686.. Val loss: 4.009.. Train L1 norm: 5.647.. Val L1 norm: 3.261.. Train Linf norm: 1446.026.. Val Linf norm: 534.582\n",
            "Epoch 94/119.. Train loss: 3.693.. Val loss: 4.008.. Train L1 norm: 6.031.. Val L1 norm: 3.273.. Train Linf norm: 1645.197.. Val Linf norm: 537.404\n",
            "Epoch 95/119.. Train loss: 3.688.. Val loss: 4.007.. Train L1 norm: 5.914.. Val L1 norm: 3.296.. Train Linf norm: 1597.503.. Val Linf norm: 541.703\n",
            "Epoch 96/119.. Train loss: 3.690.. Val loss: 4.008.. Train L1 norm: 6.036.. Val L1 norm: 3.318.. Train Linf norm: 1627.779.. Val Linf norm: 545.332\n",
            "Epoch 97/119.. Train loss: 3.696.. Val loss: 4.011.. Train L1 norm: 5.677.. Val L1 norm: 3.306.. Train Linf norm: 1445.170.. Val Linf norm: 545.570\n",
            "Epoch 98/119.. Train loss: 3.688.. Val loss: 4.009.. Train L1 norm: 6.009.. Val L1 norm: 3.152.. Train Linf norm: 1599.919.. Val Linf norm: 510.702\n",
            "Epoch 99/119.. Train loss: 3.689.. Val loss: 4.011.. Train L1 norm: 5.712.. Val L1 norm: 3.297.. Train Linf norm: 1481.658.. Val Linf norm: 537.550\n",
            "Epoch 100/119.. Train loss: 3.694.. Val loss: 3.967.. Train L1 norm: 5.542.. Val L1 norm: 3.260.. Train Linf norm: 1382.616.. Val Linf norm: 524.806\n",
            "Epoch 101/119.. Train loss: 3.701.. Val loss: 4.011.. Train L1 norm: 5.743.. Val L1 norm: 3.132.. Train Linf norm: 1494.097.. Val Linf norm: 501.354\n",
            "Epoch 102/119.. Train loss: 3.698.. Val loss: 3.965.. Train L1 norm: 5.755.. Val L1 norm: 3.188.. Train Linf norm: 1490.843.. Val Linf norm: 512.162\n",
            "Epoch 103/119.. Train loss: 3.691.. Val loss: 4.008.. Train L1 norm: 5.998.. Val L1 norm: 3.302.. Train Linf norm: 1607.943.. Val Linf norm: 548.074\n",
            "Epoch 104/119.. Train loss: 3.685.. Val loss: 3.983.. Train L1 norm: 5.868.. Val L1 norm: 3.089.. Train Linf norm: 1527.732.. Val Linf norm: 493.674\n",
            "Epoch 105/119.. Train loss: 3.680.. Val loss: 3.920.. Train L1 norm: 5.770.. Val L1 norm: 3.497.. Train Linf norm: 1375.430.. Val Linf norm: 574.227\n",
            "Epoch 106/119.. Train loss: 3.672.. Val loss: 3.963.. Train L1 norm: 5.798.. Val L1 norm: 3.392.. Train Linf norm: 1497.553.. Val Linf norm: 557.422\n",
            "Epoch 107/119.. Train loss: 3.681.. Val loss: 3.942.. Train L1 norm: 5.674.. Val L1 norm: 3.408.. Train Linf norm: 1457.583.. Val Linf norm: 559.972\n",
            "Epoch 108/119.. Train loss: 3.666.. Val loss: 3.920.. Train L1 norm: 5.692.. Val L1 norm: 3.380.. Train Linf norm: 1405.161.. Val Linf norm: 550.181\n",
            "Epoch 109/119.. Train loss: 3.659.. Val loss: 3.920.. Train L1 norm: 5.757.. Val L1 norm: 3.460.. Train Linf norm: 1518.483.. Val Linf norm: 577.578\n",
            "Epoch 110/119.. Train loss: 3.650.. Val loss: 3.907.. Train L1 norm: 5.733.. Val L1 norm: 3.394.. Train Linf norm: 1499.777.. Val Linf norm: 553.433\n",
            "Epoch 111/119.. Train loss: 3.653.. Val loss: 3.895.. Train L1 norm: 6.114.. Val L1 norm: 2.982.. Train Linf norm: 1683.835.. Val Linf norm: 462.271\n",
            "Epoch 112/119.. Train loss: 3.639.. Val loss: 3.839.. Train L1 norm: 5.935.. Val L1 norm: 3.446.. Train Linf norm: 1610.339.. Val Linf norm: 567.589\n",
            "Epoch 113/119.. Train loss: 3.637.. Val loss: 3.863.. Train L1 norm: 5.489.. Val L1 norm: 3.329.. Train Linf norm: 1374.374.. Val Linf norm: 541.740\n",
            "Epoch 114/119.. Train loss: 3.635.. Val loss: 3.849.. Train L1 norm: 6.171.. Val L1 norm: 3.253.. Train Linf norm: 1680.393.. Val Linf norm: 530.784\n",
            "Epoch 115/119.. Train loss: 3.624.. Val loss: 3.835.. Train L1 norm: 5.989.. Val L1 norm: 3.291.. Train Linf norm: 1601.325.. Val Linf norm: 537.584\n",
            "Epoch 116/119.. Train loss: 3.628.. Val loss: 3.837.. Train L1 norm: 5.839.. Val L1 norm: 3.304.. Train Linf norm: 1567.155.. Val Linf norm: 543.097\n",
            "Epoch 117/119.. Train loss: 3.629.. Val loss: 3.836.. Train L1 norm: 5.847.. Val L1 norm: 3.276.. Train Linf norm: 1567.950.. Val Linf norm: 536.422\n",
            "Epoch 118/119.. Train loss: 3.627.. Val loss: 3.836.. Train L1 norm: 6.080.. Val L1 norm: 3.276.. Train Linf norm: 1704.541.. Val Linf norm: 536.435\n"
          ]
        },
        {
          "output_type": "stream",
          "name": "stderr",
          "text": [
            "[I 2023-06-03 12:02:16,459] Trial 15 finished with value: 3.2671220138549804 and parameters: {'n_layers': 8, 'n_units_0': 2878, 'n_units_1': 770, 'n_units_2': 3029, 'n_units_3': 3062, 'n_units_4': 1502, 'n_units_5': 978, 'n_units_6': 2291, 'n_units_7': 3961, 'hidden_activation': 'Swish', 'output_activation': 'Linear', 'loss': 'MAE', 'optimizer': 'SGD', 'lr': 0.00662851963670019, 'batch_size': 512, 'n_epochs': 119, 'scheduler': 'CosineAnnealingLR', 'dropout_rate': 0.3952139570942408, 'weight_decay': 0.0013698071107091357, 'momentum': 0.006659673756140086, 't_max_fraction': 0.11600614073182255, 'eta_min': 1.0875948768819644e-07}. Best is trial 2 with value: 1.156466460164388.\n"
          ]
        },
        {
          "output_type": "stream",
          "name": "stdout",
          "text": [
            "Epoch 119/119.. Train loss: 3.622.. Val loss: 3.836.. Train L1 norm: 5.828.. Val L1 norm: 3.267.. Train Linf norm: 1558.380.. Val Linf norm: 535.147\n"
          ]
        },
        {
          "output_type": "display_data",
          "data": {
            "text/html": [
              "<html>\n",
              "<head><meta charset=\"utf-8\" /></head>\n",
              "<body>\n",
              "    <div>            <script src=\"https://cdnjs.cloudflare.com/ajax/libs/mathjax/2.7.5/MathJax.js?config=TeX-AMS-MML_SVG\"></script><script type=\"text/javascript\">if (window.MathJax && window.MathJax.Hub && window.MathJax.Hub.Config) {window.MathJax.Hub.Config({SVG: {font: \"STIX-Web\"}});}</script>                <script type=\"text/javascript\">window.PlotlyConfig = {MathJaxConfig: 'local'};</script>\n",
              "        <script src=\"https://cdn.plot.ly/plotly-2.18.2.min.js\"></script>                <div id=\"33621b43-83e8-4d1c-bd30-95d6844b0ab0\" class=\"plotly-graph-div\" style=\"height:525px; width:100%;\"></div>            <script type=\"text/javascript\">                                    window.PLOTLYENV=window.PLOTLYENV || {};                                    if (document.getElementById(\"33621b43-83e8-4d1c-bd30-95d6844b0ab0\")) {                    Plotly.newPlot(                        \"33621b43-83e8-4d1c-bd30-95d6844b0ab0\",                        [{\"mode\":\"markers\",\"name\":\"Objective Value\",\"x\":[0,2,3,4,5,6,11,12,13,15],\"y\":[3.1759881306966147,1.156466460164388,2.3734971160888674,197068098895033.12,28.626712099456785,3.4212768898010255,3.457972690137227,4.168114870516459,4.0204941166559856,3.2671220138549804],\"type\":\"scatter\"},{\"name\":\"Best Value\",\"x\":[0,2,3,4,5,6,11,12,13,15],\"y\":[3.1759881306966147,1.156466460164388,1.156466460164388,1.156466460164388,1.156466460164388,1.156466460164388,1.156466460164388,1.156466460164388,1.156466460164388,1.156466460164388],\"type\":\"scatter\"}],                        {\"title\":{\"text\":\"Optimization History Plot\"},\"xaxis\":{\"title\":{\"text\":\"Trial\"}},\"yaxis\":{\"title\":{\"text\":\"Objective Value\"}},\"template\":{\"data\":{\"histogram2dcontour\":[{\"type\":\"histogram2dcontour\",\"colorbar\":{\"outlinewidth\":0,\"ticks\":\"\"},\"colorscale\":[[0.0,\"#0d0887\"],[0.1111111111111111,\"#46039f\"],[0.2222222222222222,\"#7201a8\"],[0.3333333333333333,\"#9c179e\"],[0.4444444444444444,\"#bd3786\"],[0.5555555555555556,\"#d8576b\"],[0.6666666666666666,\"#ed7953\"],[0.7777777777777778,\"#fb9f3a\"],[0.8888888888888888,\"#fdca26\"],[1.0,\"#f0f921\"]]}],\"choropleth\":[{\"type\":\"choropleth\",\"colorbar\":{\"outlinewidth\":0,\"ticks\":\"\"}}],\"histogram2d\":[{\"type\":\"histogram2d\",\"colorbar\":{\"outlinewidth\":0,\"ticks\":\"\"},\"colorscale\":[[0.0,\"#0d0887\"],[0.1111111111111111,\"#46039f\"],[0.2222222222222222,\"#7201a8\"],[0.3333333333333333,\"#9c179e\"],[0.4444444444444444,\"#bd3786\"],[0.5555555555555556,\"#d8576b\"],[0.6666666666666666,\"#ed7953\"],[0.7777777777777778,\"#fb9f3a\"],[0.8888888888888888,\"#fdca26\"],[1.0,\"#f0f921\"]]}],\"heatmap\":[{\"type\":\"heatmap\",\"colorbar\":{\"outlinewidth\":0,\"ticks\":\"\"},\"colorscale\":[[0.0,\"#0d0887\"],[0.1111111111111111,\"#46039f\"],[0.2222222222222222,\"#7201a8\"],[0.3333333333333333,\"#9c179e\"],[0.4444444444444444,\"#bd3786\"],[0.5555555555555556,\"#d8576b\"],[0.6666666666666666,\"#ed7953\"],[0.7777777777777778,\"#fb9f3a\"],[0.8888888888888888,\"#fdca26\"],[1.0,\"#f0f921\"]]}],\"heatmapgl\":[{\"type\":\"heatmapgl\",\"colorbar\":{\"outlinewidth\":0,\"ticks\":\"\"},\"colorscale\":[[0.0,\"#0d0887\"],[0.1111111111111111,\"#46039f\"],[0.2222222222222222,\"#7201a8\"],[0.3333333333333333,\"#9c179e\"],[0.4444444444444444,\"#bd3786\"],[0.5555555555555556,\"#d8576b\"],[0.6666666666666666,\"#ed7953\"],[0.7777777777777778,\"#fb9f3a\"],[0.8888888888888888,\"#fdca26\"],[1.0,\"#f0f921\"]]}],\"contourcarpet\":[{\"type\":\"contourcarpet\",\"colorbar\":{\"outlinewidth\":0,\"ticks\":\"\"}}],\"contour\":[{\"type\":\"contour\",\"colorbar\":{\"outlinewidth\":0,\"ticks\":\"\"},\"colorscale\":[[0.0,\"#0d0887\"],[0.1111111111111111,\"#46039f\"],[0.2222222222222222,\"#7201a8\"],[0.3333333333333333,\"#9c179e\"],[0.4444444444444444,\"#bd3786\"],[0.5555555555555556,\"#d8576b\"],[0.6666666666666666,\"#ed7953\"],[0.7777777777777778,\"#fb9f3a\"],[0.8888888888888888,\"#fdca26\"],[1.0,\"#f0f921\"]]}],\"surface\":[{\"type\":\"surface\",\"colorbar\":{\"outlinewidth\":0,\"ticks\":\"\"},\"colorscale\":[[0.0,\"#0d0887\"],[0.1111111111111111,\"#46039f\"],[0.2222222222222222,\"#7201a8\"],[0.3333333333333333,\"#9c179e\"],[0.4444444444444444,\"#bd3786\"],[0.5555555555555556,\"#d8576b\"],[0.6666666666666666,\"#ed7953\"],[0.7777777777777778,\"#fb9f3a\"],[0.8888888888888888,\"#fdca26\"],[1.0,\"#f0f921\"]]}],\"mesh3d\":[{\"type\":\"mesh3d\",\"colorbar\":{\"outlinewidth\":0,\"ticks\":\"\"}}],\"scatter\":[{\"fillpattern\":{\"fillmode\":\"overlay\",\"size\":10,\"solidity\":0.2},\"type\":\"scatter\"}],\"parcoords\":[{\"type\":\"parcoords\",\"line\":{\"colorbar\":{\"outlinewidth\":0,\"ticks\":\"\"}}}],\"scatterpolargl\":[{\"type\":\"scatterpolargl\",\"marker\":{\"colorbar\":{\"outlinewidth\":0,\"ticks\":\"\"}}}],\"bar\":[{\"error_x\":{\"color\":\"#2a3f5f\"},\"error_y\":{\"color\":\"#2a3f5f\"},\"marker\":{\"line\":{\"color\":\"#E5ECF6\",\"width\":0.5},\"pattern\":{\"fillmode\":\"overlay\",\"size\":10,\"solidity\":0.2}},\"type\":\"bar\"}],\"scattergeo\":[{\"type\":\"scattergeo\",\"marker\":{\"colorbar\":{\"outlinewidth\":0,\"ticks\":\"\"}}}],\"scatterpolar\":[{\"type\":\"scatterpolar\",\"marker\":{\"colorbar\":{\"outlinewidth\":0,\"ticks\":\"\"}}}],\"histogram\":[{\"marker\":{\"pattern\":{\"fillmode\":\"overlay\",\"size\":10,\"solidity\":0.2}},\"type\":\"histogram\"}],\"scattergl\":[{\"type\":\"scattergl\",\"marker\":{\"colorbar\":{\"outlinewidth\":0,\"ticks\":\"\"}}}],\"scatter3d\":[{\"type\":\"scatter3d\",\"line\":{\"colorbar\":{\"outlinewidth\":0,\"ticks\":\"\"}},\"marker\":{\"colorbar\":{\"outlinewidth\":0,\"ticks\":\"\"}}}],\"scattermapbox\":[{\"type\":\"scattermapbox\",\"marker\":{\"colorbar\":{\"outlinewidth\":0,\"ticks\":\"\"}}}],\"scatterternary\":[{\"type\":\"scatterternary\",\"marker\":{\"colorbar\":{\"outlinewidth\":0,\"ticks\":\"\"}}}],\"scattercarpet\":[{\"type\":\"scattercarpet\",\"marker\":{\"colorbar\":{\"outlinewidth\":0,\"ticks\":\"\"}}}],\"carpet\":[{\"aaxis\":{\"endlinecolor\":\"#2a3f5f\",\"gridcolor\":\"white\",\"linecolor\":\"white\",\"minorgridcolor\":\"white\",\"startlinecolor\":\"#2a3f5f\"},\"baxis\":{\"endlinecolor\":\"#2a3f5f\",\"gridcolor\":\"white\",\"linecolor\":\"white\",\"minorgridcolor\":\"white\",\"startlinecolor\":\"#2a3f5f\"},\"type\":\"carpet\"}],\"table\":[{\"cells\":{\"fill\":{\"color\":\"#EBF0F8\"},\"line\":{\"color\":\"white\"}},\"header\":{\"fill\":{\"color\":\"#C8D4E3\"},\"line\":{\"color\":\"white\"}},\"type\":\"table\"}],\"barpolar\":[{\"marker\":{\"line\":{\"color\":\"#E5ECF6\",\"width\":0.5},\"pattern\":{\"fillmode\":\"overlay\",\"size\":10,\"solidity\":0.2}},\"type\":\"barpolar\"}],\"pie\":[{\"automargin\":true,\"type\":\"pie\"}]},\"layout\":{\"autotypenumbers\":\"strict\",\"colorway\":[\"#636efa\",\"#EF553B\",\"#00cc96\",\"#ab63fa\",\"#FFA15A\",\"#19d3f3\",\"#FF6692\",\"#B6E880\",\"#FF97FF\",\"#FECB52\"],\"font\":{\"color\":\"#2a3f5f\"},\"hovermode\":\"closest\",\"hoverlabel\":{\"align\":\"left\"},\"paper_bgcolor\":\"white\",\"plot_bgcolor\":\"#E5ECF6\",\"polar\":{\"bgcolor\":\"#E5ECF6\",\"angularaxis\":{\"gridcolor\":\"white\",\"linecolor\":\"white\",\"ticks\":\"\"},\"radialaxis\":{\"gridcolor\":\"white\",\"linecolor\":\"white\",\"ticks\":\"\"}},\"ternary\":{\"bgcolor\":\"#E5ECF6\",\"aaxis\":{\"gridcolor\":\"white\",\"linecolor\":\"white\",\"ticks\":\"\"},\"baxis\":{\"gridcolor\":\"white\",\"linecolor\":\"white\",\"ticks\":\"\"},\"caxis\":{\"gridcolor\":\"white\",\"linecolor\":\"white\",\"ticks\":\"\"}},\"coloraxis\":{\"colorbar\":{\"outlinewidth\":0,\"ticks\":\"\"}},\"colorscale\":{\"sequential\":[[0.0,\"#0d0887\"],[0.1111111111111111,\"#46039f\"],[0.2222222222222222,\"#7201a8\"],[0.3333333333333333,\"#9c179e\"],[0.4444444444444444,\"#bd3786\"],[0.5555555555555556,\"#d8576b\"],[0.6666666666666666,\"#ed7953\"],[0.7777777777777778,\"#fb9f3a\"],[0.8888888888888888,\"#fdca26\"],[1.0,\"#f0f921\"]],\"sequentialminus\":[[0.0,\"#0d0887\"],[0.1111111111111111,\"#46039f\"],[0.2222222222222222,\"#7201a8\"],[0.3333333333333333,\"#9c179e\"],[0.4444444444444444,\"#bd3786\"],[0.5555555555555556,\"#d8576b\"],[0.6666666666666666,\"#ed7953\"],[0.7777777777777778,\"#fb9f3a\"],[0.8888888888888888,\"#fdca26\"],[1.0,\"#f0f921\"]],\"diverging\":[[0,\"#8e0152\"],[0.1,\"#c51b7d\"],[0.2,\"#de77ae\"],[0.3,\"#f1b6da\"],[0.4,\"#fde0ef\"],[0.5,\"#f7f7f7\"],[0.6,\"#e6f5d0\"],[0.7,\"#b8e186\"],[0.8,\"#7fbc41\"],[0.9,\"#4d9221\"],[1,\"#276419\"]]},\"xaxis\":{\"gridcolor\":\"white\",\"linecolor\":\"white\",\"ticks\":\"\",\"title\":{\"standoff\":15},\"zerolinecolor\":\"white\",\"automargin\":true,\"zerolinewidth\":2},\"yaxis\":{\"gridcolor\":\"white\",\"linecolor\":\"white\",\"ticks\":\"\",\"title\":{\"standoff\":15},\"zerolinecolor\":\"white\",\"automargin\":true,\"zerolinewidth\":2},\"scene\":{\"xaxis\":{\"backgroundcolor\":\"#E5ECF6\",\"gridcolor\":\"white\",\"linecolor\":\"white\",\"showbackground\":true,\"ticks\":\"\",\"zerolinecolor\":\"white\",\"gridwidth\":2},\"yaxis\":{\"backgroundcolor\":\"#E5ECF6\",\"gridcolor\":\"white\",\"linecolor\":\"white\",\"showbackground\":true,\"ticks\":\"\",\"zerolinecolor\":\"white\",\"gridwidth\":2},\"zaxis\":{\"backgroundcolor\":\"#E5ECF6\",\"gridcolor\":\"white\",\"linecolor\":\"white\",\"showbackground\":true,\"ticks\":\"\",\"zerolinecolor\":\"white\",\"gridwidth\":2}},\"shapedefaults\":{\"line\":{\"color\":\"#2a3f5f\"}},\"annotationdefaults\":{\"arrowcolor\":\"#2a3f5f\",\"arrowhead\":0,\"arrowwidth\":1},\"geo\":{\"bgcolor\":\"white\",\"landcolor\":\"#E5ECF6\",\"subunitcolor\":\"white\",\"showland\":true,\"showlakes\":true,\"lakecolor\":\"white\"},\"title\":{\"x\":0.05},\"mapbox\":{\"style\":\"light\"}}}},                        {\"responsive\": true}                    ).then(function(){\n",
              "                            \n",
              "var gd = document.getElementById('33621b43-83e8-4d1c-bd30-95d6844b0ab0');\n",
              "var x = new MutationObserver(function (mutations, observer) {{\n",
              "        var display = window.getComputedStyle(gd).display;\n",
              "        if (!display || display === 'none') {{\n",
              "            console.log([gd, 'removed!']);\n",
              "            Plotly.purge(gd);\n",
              "            observer.disconnect();\n",
              "        }}\n",
              "}});\n",
              "\n",
              "// Listen for the removal of the full notebook cells\n",
              "var notebookContainer = gd.closest('#notebook-container');\n",
              "if (notebookContainer) {{\n",
              "    x.observe(notebookContainer, {childList: true});\n",
              "}}\n",
              "\n",
              "// Listen for the clearing of the current output cell\n",
              "var outputEl = gd.closest('.output');\n",
              "if (outputEl) {{\n",
              "    x.observe(outputEl, {childList: true});\n",
              "}}\n",
              "\n",
              "                        })                };                            </script>        </div>\n",
              "</body>\n",
              "</html>"
            ]
          },
          "metadata": {}
        },
        {
          "output_type": "stream",
          "name": "stderr",
          "text": [
            "[W 2023-06-03 12:02:16,923] Your study has only completed trials with missing parameters.\n",
            "<ipython-input-37-247d5052aadc>:44: FutureWarning:\n",
            "\n",
            "suggest_loguniform has been deprecated in v3.0.0. This feature will be removed in v6.0.0. See https://github.com/optuna/optuna/releases/tag/v3.0.0. Use suggest_float(..., log=True) instead.\n",
            "\n",
            "<ipython-input-37-247d5052aadc>:76: FutureWarning:\n",
            "\n",
            "suggest_uniform has been deprecated in v3.0.0. This feature will be removed in v6.0.0. See https://github.com/optuna/optuna/releases/tag/v3.0.0. Use suggest_float instead.\n",
            "\n",
            "<ipython-input-37-247d5052aadc>:145: FutureWarning:\n",
            "\n",
            "suggest_loguniform has been deprecated in v3.0.0. This feature will be removed in v6.0.0. See https://github.com/optuna/optuna/releases/tag/v3.0.0. Use suggest_float(..., log=True) instead.\n",
            "\n",
            "<ipython-input-37-247d5052aadc>:146: FutureWarning:\n",
            "\n",
            "suggest_uniform has been deprecated in v3.0.0. This feature will be removed in v6.0.0. See https://github.com/optuna/optuna/releases/tag/v3.0.0. Use suggest_float instead.\n",
            "\n",
            "<ipython-input-37-247d5052aadc>:161: FutureWarning:\n",
            "\n",
            "suggest_uniform has been deprecated in v3.0.0. This feature will be removed in v6.0.0. See https://github.com/optuna/optuna/releases/tag/v3.0.0. Use suggest_float instead.\n",
            "\n",
            "[I 2023-06-03 12:02:19,560] Trial 16 pruned. \n"
          ]
        },
        {
          "output_type": "stream",
          "name": "stdout",
          "text": [
            "Epoch 1/107.. Train loss: 97.056.. Val loss: 11.803.. Train L1 norm: 91.622.. Val L1 norm: 5.827.. Train Linf norm: 3393.902.. Val Linf norm: 167.551\n"
          ]
        },
        {
          "output_type": "display_data",
          "data": {
            "text/html": [
              "<html>\n",
              "<head><meta charset=\"utf-8\" /></head>\n",
              "<body>\n",
              "    <div>            <script src=\"https://cdnjs.cloudflare.com/ajax/libs/mathjax/2.7.5/MathJax.js?config=TeX-AMS-MML_SVG\"></script><script type=\"text/javascript\">if (window.MathJax && window.MathJax.Hub && window.MathJax.Hub.Config) {window.MathJax.Hub.Config({SVG: {font: \"STIX-Web\"}});}</script>                <script type=\"text/javascript\">window.PlotlyConfig = {MathJaxConfig: 'local'};</script>\n",
              "        <script src=\"https://cdn.plot.ly/plotly-2.18.2.min.js\"></script>                <div id=\"46bc6ab6-0a9f-419c-8132-295c3af1615f\" class=\"plotly-graph-div\" style=\"height:525px; width:100%;\"></div>            <script type=\"text/javascript\">                                    window.PLOTLYENV=window.PLOTLYENV || {};                                    if (document.getElementById(\"46bc6ab6-0a9f-419c-8132-295c3af1615f\")) {                    Plotly.newPlot(                        \"46bc6ab6-0a9f-419c-8132-295c3af1615f\",                        [{\"mode\":\"markers\",\"name\":\"Objective Value\",\"x\":[0,2,3,4,5,6,11,12,13,15],\"y\":[3.1759881306966147,1.156466460164388,2.3734971160888674,197068098895033.12,28.626712099456785,3.4212768898010255,3.457972690137227,4.168114870516459,4.0204941166559856,3.2671220138549804],\"type\":\"scatter\"},{\"name\":\"Best Value\",\"x\":[0,2,3,4,5,6,11,12,13,15],\"y\":[3.1759881306966147,1.156466460164388,1.156466460164388,1.156466460164388,1.156466460164388,1.156466460164388,1.156466460164388,1.156466460164388,1.156466460164388,1.156466460164388],\"type\":\"scatter\"}],                        {\"title\":{\"text\":\"Optimization History Plot\"},\"xaxis\":{\"title\":{\"text\":\"Trial\"}},\"yaxis\":{\"title\":{\"text\":\"Objective Value\"}},\"template\":{\"data\":{\"histogram2dcontour\":[{\"type\":\"histogram2dcontour\",\"colorbar\":{\"outlinewidth\":0,\"ticks\":\"\"},\"colorscale\":[[0.0,\"#0d0887\"],[0.1111111111111111,\"#46039f\"],[0.2222222222222222,\"#7201a8\"],[0.3333333333333333,\"#9c179e\"],[0.4444444444444444,\"#bd3786\"],[0.5555555555555556,\"#d8576b\"],[0.6666666666666666,\"#ed7953\"],[0.7777777777777778,\"#fb9f3a\"],[0.8888888888888888,\"#fdca26\"],[1.0,\"#f0f921\"]]}],\"choropleth\":[{\"type\":\"choropleth\",\"colorbar\":{\"outlinewidth\":0,\"ticks\":\"\"}}],\"histogram2d\":[{\"type\":\"histogram2d\",\"colorbar\":{\"outlinewidth\":0,\"ticks\":\"\"},\"colorscale\":[[0.0,\"#0d0887\"],[0.1111111111111111,\"#46039f\"],[0.2222222222222222,\"#7201a8\"],[0.3333333333333333,\"#9c179e\"],[0.4444444444444444,\"#bd3786\"],[0.5555555555555556,\"#d8576b\"],[0.6666666666666666,\"#ed7953\"],[0.7777777777777778,\"#fb9f3a\"],[0.8888888888888888,\"#fdca26\"],[1.0,\"#f0f921\"]]}],\"heatmap\":[{\"type\":\"heatmap\",\"colorbar\":{\"outlinewidth\":0,\"ticks\":\"\"},\"colorscale\":[[0.0,\"#0d0887\"],[0.1111111111111111,\"#46039f\"],[0.2222222222222222,\"#7201a8\"],[0.3333333333333333,\"#9c179e\"],[0.4444444444444444,\"#bd3786\"],[0.5555555555555556,\"#d8576b\"],[0.6666666666666666,\"#ed7953\"],[0.7777777777777778,\"#fb9f3a\"],[0.8888888888888888,\"#fdca26\"],[1.0,\"#f0f921\"]]}],\"heatmapgl\":[{\"type\":\"heatmapgl\",\"colorbar\":{\"outlinewidth\":0,\"ticks\":\"\"},\"colorscale\":[[0.0,\"#0d0887\"],[0.1111111111111111,\"#46039f\"],[0.2222222222222222,\"#7201a8\"],[0.3333333333333333,\"#9c179e\"],[0.4444444444444444,\"#bd3786\"],[0.5555555555555556,\"#d8576b\"],[0.6666666666666666,\"#ed7953\"],[0.7777777777777778,\"#fb9f3a\"],[0.8888888888888888,\"#fdca26\"],[1.0,\"#f0f921\"]]}],\"contourcarpet\":[{\"type\":\"contourcarpet\",\"colorbar\":{\"outlinewidth\":0,\"ticks\":\"\"}}],\"contour\":[{\"type\":\"contour\",\"colorbar\":{\"outlinewidth\":0,\"ticks\":\"\"},\"colorscale\":[[0.0,\"#0d0887\"],[0.1111111111111111,\"#46039f\"],[0.2222222222222222,\"#7201a8\"],[0.3333333333333333,\"#9c179e\"],[0.4444444444444444,\"#bd3786\"],[0.5555555555555556,\"#d8576b\"],[0.6666666666666666,\"#ed7953\"],[0.7777777777777778,\"#fb9f3a\"],[0.8888888888888888,\"#fdca26\"],[1.0,\"#f0f921\"]]}],\"surface\":[{\"type\":\"surface\",\"colorbar\":{\"outlinewidth\":0,\"ticks\":\"\"},\"colorscale\":[[0.0,\"#0d0887\"],[0.1111111111111111,\"#46039f\"],[0.2222222222222222,\"#7201a8\"],[0.3333333333333333,\"#9c179e\"],[0.4444444444444444,\"#bd3786\"],[0.5555555555555556,\"#d8576b\"],[0.6666666666666666,\"#ed7953\"],[0.7777777777777778,\"#fb9f3a\"],[0.8888888888888888,\"#fdca26\"],[1.0,\"#f0f921\"]]}],\"mesh3d\":[{\"type\":\"mesh3d\",\"colorbar\":{\"outlinewidth\":0,\"ticks\":\"\"}}],\"scatter\":[{\"fillpattern\":{\"fillmode\":\"overlay\",\"size\":10,\"solidity\":0.2},\"type\":\"scatter\"}],\"parcoords\":[{\"type\":\"parcoords\",\"line\":{\"colorbar\":{\"outlinewidth\":0,\"ticks\":\"\"}}}],\"scatterpolargl\":[{\"type\":\"scatterpolargl\",\"marker\":{\"colorbar\":{\"outlinewidth\":0,\"ticks\":\"\"}}}],\"bar\":[{\"error_x\":{\"color\":\"#2a3f5f\"},\"error_y\":{\"color\":\"#2a3f5f\"},\"marker\":{\"line\":{\"color\":\"#E5ECF6\",\"width\":0.5},\"pattern\":{\"fillmode\":\"overlay\",\"size\":10,\"solidity\":0.2}},\"type\":\"bar\"}],\"scattergeo\":[{\"type\":\"scattergeo\",\"marker\":{\"colorbar\":{\"outlinewidth\":0,\"ticks\":\"\"}}}],\"scatterpolar\":[{\"type\":\"scatterpolar\",\"marker\":{\"colorbar\":{\"outlinewidth\":0,\"ticks\":\"\"}}}],\"histogram\":[{\"marker\":{\"pattern\":{\"fillmode\":\"overlay\",\"size\":10,\"solidity\":0.2}},\"type\":\"histogram\"}],\"scattergl\":[{\"type\":\"scattergl\",\"marker\":{\"colorbar\":{\"outlinewidth\":0,\"ticks\":\"\"}}}],\"scatter3d\":[{\"type\":\"scatter3d\",\"line\":{\"colorbar\":{\"outlinewidth\":0,\"ticks\":\"\"}},\"marker\":{\"colorbar\":{\"outlinewidth\":0,\"ticks\":\"\"}}}],\"scattermapbox\":[{\"type\":\"scattermapbox\",\"marker\":{\"colorbar\":{\"outlinewidth\":0,\"ticks\":\"\"}}}],\"scatterternary\":[{\"type\":\"scatterternary\",\"marker\":{\"colorbar\":{\"outlinewidth\":0,\"ticks\":\"\"}}}],\"scattercarpet\":[{\"type\":\"scattercarpet\",\"marker\":{\"colorbar\":{\"outlinewidth\":0,\"ticks\":\"\"}}}],\"carpet\":[{\"aaxis\":{\"endlinecolor\":\"#2a3f5f\",\"gridcolor\":\"white\",\"linecolor\":\"white\",\"minorgridcolor\":\"white\",\"startlinecolor\":\"#2a3f5f\"},\"baxis\":{\"endlinecolor\":\"#2a3f5f\",\"gridcolor\":\"white\",\"linecolor\":\"white\",\"minorgridcolor\":\"white\",\"startlinecolor\":\"#2a3f5f\"},\"type\":\"carpet\"}],\"table\":[{\"cells\":{\"fill\":{\"color\":\"#EBF0F8\"},\"line\":{\"color\":\"white\"}},\"header\":{\"fill\":{\"color\":\"#C8D4E3\"},\"line\":{\"color\":\"white\"}},\"type\":\"table\"}],\"barpolar\":[{\"marker\":{\"line\":{\"color\":\"#E5ECF6\",\"width\":0.5},\"pattern\":{\"fillmode\":\"overlay\",\"size\":10,\"solidity\":0.2}},\"type\":\"barpolar\"}],\"pie\":[{\"automargin\":true,\"type\":\"pie\"}]},\"layout\":{\"autotypenumbers\":\"strict\",\"colorway\":[\"#636efa\",\"#EF553B\",\"#00cc96\",\"#ab63fa\",\"#FFA15A\",\"#19d3f3\",\"#FF6692\",\"#B6E880\",\"#FF97FF\",\"#FECB52\"],\"font\":{\"color\":\"#2a3f5f\"},\"hovermode\":\"closest\",\"hoverlabel\":{\"align\":\"left\"},\"paper_bgcolor\":\"white\",\"plot_bgcolor\":\"#E5ECF6\",\"polar\":{\"bgcolor\":\"#E5ECF6\",\"angularaxis\":{\"gridcolor\":\"white\",\"linecolor\":\"white\",\"ticks\":\"\"},\"radialaxis\":{\"gridcolor\":\"white\",\"linecolor\":\"white\",\"ticks\":\"\"}},\"ternary\":{\"bgcolor\":\"#E5ECF6\",\"aaxis\":{\"gridcolor\":\"white\",\"linecolor\":\"white\",\"ticks\":\"\"},\"baxis\":{\"gridcolor\":\"white\",\"linecolor\":\"white\",\"ticks\":\"\"},\"caxis\":{\"gridcolor\":\"white\",\"linecolor\":\"white\",\"ticks\":\"\"}},\"coloraxis\":{\"colorbar\":{\"outlinewidth\":0,\"ticks\":\"\"}},\"colorscale\":{\"sequential\":[[0.0,\"#0d0887\"],[0.1111111111111111,\"#46039f\"],[0.2222222222222222,\"#7201a8\"],[0.3333333333333333,\"#9c179e\"],[0.4444444444444444,\"#bd3786\"],[0.5555555555555556,\"#d8576b\"],[0.6666666666666666,\"#ed7953\"],[0.7777777777777778,\"#fb9f3a\"],[0.8888888888888888,\"#fdca26\"],[1.0,\"#f0f921\"]],\"sequentialminus\":[[0.0,\"#0d0887\"],[0.1111111111111111,\"#46039f\"],[0.2222222222222222,\"#7201a8\"],[0.3333333333333333,\"#9c179e\"],[0.4444444444444444,\"#bd3786\"],[0.5555555555555556,\"#d8576b\"],[0.6666666666666666,\"#ed7953\"],[0.7777777777777778,\"#fb9f3a\"],[0.8888888888888888,\"#fdca26\"],[1.0,\"#f0f921\"]],\"diverging\":[[0,\"#8e0152\"],[0.1,\"#c51b7d\"],[0.2,\"#de77ae\"],[0.3,\"#f1b6da\"],[0.4,\"#fde0ef\"],[0.5,\"#f7f7f7\"],[0.6,\"#e6f5d0\"],[0.7,\"#b8e186\"],[0.8,\"#7fbc41\"],[0.9,\"#4d9221\"],[1,\"#276419\"]]},\"xaxis\":{\"gridcolor\":\"white\",\"linecolor\":\"white\",\"ticks\":\"\",\"title\":{\"standoff\":15},\"zerolinecolor\":\"white\",\"automargin\":true,\"zerolinewidth\":2},\"yaxis\":{\"gridcolor\":\"white\",\"linecolor\":\"white\",\"ticks\":\"\",\"title\":{\"standoff\":15},\"zerolinecolor\":\"white\",\"automargin\":true,\"zerolinewidth\":2},\"scene\":{\"xaxis\":{\"backgroundcolor\":\"#E5ECF6\",\"gridcolor\":\"white\",\"linecolor\":\"white\",\"showbackground\":true,\"ticks\":\"\",\"zerolinecolor\":\"white\",\"gridwidth\":2},\"yaxis\":{\"backgroundcolor\":\"#E5ECF6\",\"gridcolor\":\"white\",\"linecolor\":\"white\",\"showbackground\":true,\"ticks\":\"\",\"zerolinecolor\":\"white\",\"gridwidth\":2},\"zaxis\":{\"backgroundcolor\":\"#E5ECF6\",\"gridcolor\":\"white\",\"linecolor\":\"white\",\"showbackground\":true,\"ticks\":\"\",\"zerolinecolor\":\"white\",\"gridwidth\":2}},\"shapedefaults\":{\"line\":{\"color\":\"#2a3f5f\"}},\"annotationdefaults\":{\"arrowcolor\":\"#2a3f5f\",\"arrowhead\":0,\"arrowwidth\":1},\"geo\":{\"bgcolor\":\"white\",\"landcolor\":\"#E5ECF6\",\"subunitcolor\":\"white\",\"showland\":true,\"showlakes\":true,\"lakecolor\":\"white\"},\"title\":{\"x\":0.05},\"mapbox\":{\"style\":\"light\"}}}},                        {\"responsive\": true}                    ).then(function(){\n",
              "                            \n",
              "var gd = document.getElementById('46bc6ab6-0a9f-419c-8132-295c3af1615f');\n",
              "var x = new MutationObserver(function (mutations, observer) {{\n",
              "        var display = window.getComputedStyle(gd).display;\n",
              "        if (!display || display === 'none') {{\n",
              "            console.log([gd, 'removed!']);\n",
              "            Plotly.purge(gd);\n",
              "            observer.disconnect();\n",
              "        }}\n",
              "}});\n",
              "\n",
              "// Listen for the removal of the full notebook cells\n",
              "var notebookContainer = gd.closest('#notebook-container');\n",
              "if (notebookContainer) {{\n",
              "    x.observe(notebookContainer, {childList: true});\n",
              "}}\n",
              "\n",
              "// Listen for the clearing of the current output cell\n",
              "var outputEl = gd.closest('.output');\n",
              "if (outputEl) {{\n",
              "    x.observe(outputEl, {childList: true});\n",
              "}}\n",
              "\n",
              "                        })                };                            </script>        </div>\n",
              "</body>\n",
              "</html>"
            ]
          },
          "metadata": {}
        },
        {
          "output_type": "stream",
          "name": "stderr",
          "text": [
            "[W 2023-06-03 12:02:20,013] Your study has only completed trials with missing parameters.\n",
            "<ipython-input-37-247d5052aadc>:44: FutureWarning:\n",
            "\n",
            "suggest_loguniform has been deprecated in v3.0.0. This feature will be removed in v6.0.0. See https://github.com/optuna/optuna/releases/tag/v3.0.0. Use suggest_float(..., log=True) instead.\n",
            "\n",
            "<ipython-input-37-247d5052aadc>:73: FutureWarning:\n",
            "\n",
            "suggest_uniform has been deprecated in v3.0.0. This feature will be removed in v6.0.0. See https://github.com/optuna/optuna/releases/tag/v3.0.0. Use suggest_float instead.\n",
            "\n",
            "<ipython-input-37-247d5052aadc>:76: FutureWarning:\n",
            "\n",
            "suggest_uniform has been deprecated in v3.0.0. This feature will be removed in v6.0.0. See https://github.com/optuna/optuna/releases/tag/v3.0.0. Use suggest_float instead.\n",
            "\n",
            "<ipython-input-37-247d5052aadc>:145: FutureWarning:\n",
            "\n",
            "suggest_loguniform has been deprecated in v3.0.0. This feature will be removed in v6.0.0. See https://github.com/optuna/optuna/releases/tag/v3.0.0. Use suggest_float(..., log=True) instead.\n",
            "\n",
            "<ipython-input-37-247d5052aadc>:146: FutureWarning:\n",
            "\n",
            "suggest_uniform has been deprecated in v3.0.0. This feature will be removed in v6.0.0. See https://github.com/optuna/optuna/releases/tag/v3.0.0. Use suggest_float instead.\n",
            "\n",
            "<ipython-input-37-247d5052aadc>:168: FutureWarning:\n",
            "\n",
            "suggest_uniform has been deprecated in v3.0.0. This feature will be removed in v6.0.0. See https://github.com/optuna/optuna/releases/tag/v3.0.0. Use suggest_float instead.\n",
            "\n",
            "<ipython-input-37-247d5052aadc>:175: FutureWarning:\n",
            "\n",
            "suggest_loguniform has been deprecated in v3.0.0. This feature will be removed in v6.0.0. See https://github.com/optuna/optuna/releases/tag/v3.0.0. Use suggest_float(..., log=True) instead.\n",
            "\n",
            "[I 2023-06-03 12:02:25,697] Trial 17 pruned. \n"
          ]
        },
        {
          "output_type": "stream",
          "name": "stdout",
          "text": [
            "Epoch 1/81.. Train loss: 4.344.. Val loss: 4.354.. Train L1 norm: 5.573.. Val L1 norm: 3.963.. Train Linf norm: 2505.773.. Val Linf norm: 1065.432\n"
          ]
        },
        {
          "output_type": "display_data",
          "data": {
            "text/html": [
              "<html>\n",
              "<head><meta charset=\"utf-8\" /></head>\n",
              "<body>\n",
              "    <div>            <script src=\"https://cdnjs.cloudflare.com/ajax/libs/mathjax/2.7.5/MathJax.js?config=TeX-AMS-MML_SVG\"></script><script type=\"text/javascript\">if (window.MathJax && window.MathJax.Hub && window.MathJax.Hub.Config) {window.MathJax.Hub.Config({SVG: {font: \"STIX-Web\"}});}</script>                <script type=\"text/javascript\">window.PlotlyConfig = {MathJaxConfig: 'local'};</script>\n",
              "        <script src=\"https://cdn.plot.ly/plotly-2.18.2.min.js\"></script>                <div id=\"c9faf86e-1642-4966-bf13-a17ed3304ad4\" class=\"plotly-graph-div\" style=\"height:525px; width:100%;\"></div>            <script type=\"text/javascript\">                                    window.PLOTLYENV=window.PLOTLYENV || {};                                    if (document.getElementById(\"c9faf86e-1642-4966-bf13-a17ed3304ad4\")) {                    Plotly.newPlot(                        \"c9faf86e-1642-4966-bf13-a17ed3304ad4\",                        [{\"mode\":\"markers\",\"name\":\"Objective Value\",\"x\":[0,2,3,4,5,6,11,12,13,15],\"y\":[3.1759881306966147,1.156466460164388,2.3734971160888674,197068098895033.12,28.626712099456785,3.4212768898010255,3.457972690137227,4.168114870516459,4.0204941166559856,3.2671220138549804],\"type\":\"scatter\"},{\"name\":\"Best Value\",\"x\":[0,2,3,4,5,6,11,12,13,15],\"y\":[3.1759881306966147,1.156466460164388,1.156466460164388,1.156466460164388,1.156466460164388,1.156466460164388,1.156466460164388,1.156466460164388,1.156466460164388,1.156466460164388],\"type\":\"scatter\"}],                        {\"title\":{\"text\":\"Optimization History Plot\"},\"xaxis\":{\"title\":{\"text\":\"Trial\"}},\"yaxis\":{\"title\":{\"text\":\"Objective Value\"}},\"template\":{\"data\":{\"histogram2dcontour\":[{\"type\":\"histogram2dcontour\",\"colorbar\":{\"outlinewidth\":0,\"ticks\":\"\"},\"colorscale\":[[0.0,\"#0d0887\"],[0.1111111111111111,\"#46039f\"],[0.2222222222222222,\"#7201a8\"],[0.3333333333333333,\"#9c179e\"],[0.4444444444444444,\"#bd3786\"],[0.5555555555555556,\"#d8576b\"],[0.6666666666666666,\"#ed7953\"],[0.7777777777777778,\"#fb9f3a\"],[0.8888888888888888,\"#fdca26\"],[1.0,\"#f0f921\"]]}],\"choropleth\":[{\"type\":\"choropleth\",\"colorbar\":{\"outlinewidth\":0,\"ticks\":\"\"}}],\"histogram2d\":[{\"type\":\"histogram2d\",\"colorbar\":{\"outlinewidth\":0,\"ticks\":\"\"},\"colorscale\":[[0.0,\"#0d0887\"],[0.1111111111111111,\"#46039f\"],[0.2222222222222222,\"#7201a8\"],[0.3333333333333333,\"#9c179e\"],[0.4444444444444444,\"#bd3786\"],[0.5555555555555556,\"#d8576b\"],[0.6666666666666666,\"#ed7953\"],[0.7777777777777778,\"#fb9f3a\"],[0.8888888888888888,\"#fdca26\"],[1.0,\"#f0f921\"]]}],\"heatmap\":[{\"type\":\"heatmap\",\"colorbar\":{\"outlinewidth\":0,\"ticks\":\"\"},\"colorscale\":[[0.0,\"#0d0887\"],[0.1111111111111111,\"#46039f\"],[0.2222222222222222,\"#7201a8\"],[0.3333333333333333,\"#9c179e\"],[0.4444444444444444,\"#bd3786\"],[0.5555555555555556,\"#d8576b\"],[0.6666666666666666,\"#ed7953\"],[0.7777777777777778,\"#fb9f3a\"],[0.8888888888888888,\"#fdca26\"],[1.0,\"#f0f921\"]]}],\"heatmapgl\":[{\"type\":\"heatmapgl\",\"colorbar\":{\"outlinewidth\":0,\"ticks\":\"\"},\"colorscale\":[[0.0,\"#0d0887\"],[0.1111111111111111,\"#46039f\"],[0.2222222222222222,\"#7201a8\"],[0.3333333333333333,\"#9c179e\"],[0.4444444444444444,\"#bd3786\"],[0.5555555555555556,\"#d8576b\"],[0.6666666666666666,\"#ed7953\"],[0.7777777777777778,\"#fb9f3a\"],[0.8888888888888888,\"#fdca26\"],[1.0,\"#f0f921\"]]}],\"contourcarpet\":[{\"type\":\"contourcarpet\",\"colorbar\":{\"outlinewidth\":0,\"ticks\":\"\"}}],\"contour\":[{\"type\":\"contour\",\"colorbar\":{\"outlinewidth\":0,\"ticks\":\"\"},\"colorscale\":[[0.0,\"#0d0887\"],[0.1111111111111111,\"#46039f\"],[0.2222222222222222,\"#7201a8\"],[0.3333333333333333,\"#9c179e\"],[0.4444444444444444,\"#bd3786\"],[0.5555555555555556,\"#d8576b\"],[0.6666666666666666,\"#ed7953\"],[0.7777777777777778,\"#fb9f3a\"],[0.8888888888888888,\"#fdca26\"],[1.0,\"#f0f921\"]]}],\"surface\":[{\"type\":\"surface\",\"colorbar\":{\"outlinewidth\":0,\"ticks\":\"\"},\"colorscale\":[[0.0,\"#0d0887\"],[0.1111111111111111,\"#46039f\"],[0.2222222222222222,\"#7201a8\"],[0.3333333333333333,\"#9c179e\"],[0.4444444444444444,\"#bd3786\"],[0.5555555555555556,\"#d8576b\"],[0.6666666666666666,\"#ed7953\"],[0.7777777777777778,\"#fb9f3a\"],[0.8888888888888888,\"#fdca26\"],[1.0,\"#f0f921\"]]}],\"mesh3d\":[{\"type\":\"mesh3d\",\"colorbar\":{\"outlinewidth\":0,\"ticks\":\"\"}}],\"scatter\":[{\"fillpattern\":{\"fillmode\":\"overlay\",\"size\":10,\"solidity\":0.2},\"type\":\"scatter\"}],\"parcoords\":[{\"type\":\"parcoords\",\"line\":{\"colorbar\":{\"outlinewidth\":0,\"ticks\":\"\"}}}],\"scatterpolargl\":[{\"type\":\"scatterpolargl\",\"marker\":{\"colorbar\":{\"outlinewidth\":0,\"ticks\":\"\"}}}],\"bar\":[{\"error_x\":{\"color\":\"#2a3f5f\"},\"error_y\":{\"color\":\"#2a3f5f\"},\"marker\":{\"line\":{\"color\":\"#E5ECF6\",\"width\":0.5},\"pattern\":{\"fillmode\":\"overlay\",\"size\":10,\"solidity\":0.2}},\"type\":\"bar\"}],\"scattergeo\":[{\"type\":\"scattergeo\",\"marker\":{\"colorbar\":{\"outlinewidth\":0,\"ticks\":\"\"}}}],\"scatterpolar\":[{\"type\":\"scatterpolar\",\"marker\":{\"colorbar\":{\"outlinewidth\":0,\"ticks\":\"\"}}}],\"histogram\":[{\"marker\":{\"pattern\":{\"fillmode\":\"overlay\",\"size\":10,\"solidity\":0.2}},\"type\":\"histogram\"}],\"scattergl\":[{\"type\":\"scattergl\",\"marker\":{\"colorbar\":{\"outlinewidth\":0,\"ticks\":\"\"}}}],\"scatter3d\":[{\"type\":\"scatter3d\",\"line\":{\"colorbar\":{\"outlinewidth\":0,\"ticks\":\"\"}},\"marker\":{\"colorbar\":{\"outlinewidth\":0,\"ticks\":\"\"}}}],\"scattermapbox\":[{\"type\":\"scattermapbox\",\"marker\":{\"colorbar\":{\"outlinewidth\":0,\"ticks\":\"\"}}}],\"scatterternary\":[{\"type\":\"scatterternary\",\"marker\":{\"colorbar\":{\"outlinewidth\":0,\"ticks\":\"\"}}}],\"scattercarpet\":[{\"type\":\"scattercarpet\",\"marker\":{\"colorbar\":{\"outlinewidth\":0,\"ticks\":\"\"}}}],\"carpet\":[{\"aaxis\":{\"endlinecolor\":\"#2a3f5f\",\"gridcolor\":\"white\",\"linecolor\":\"white\",\"minorgridcolor\":\"white\",\"startlinecolor\":\"#2a3f5f\"},\"baxis\":{\"endlinecolor\":\"#2a3f5f\",\"gridcolor\":\"white\",\"linecolor\":\"white\",\"minorgridcolor\":\"white\",\"startlinecolor\":\"#2a3f5f\"},\"type\":\"carpet\"}],\"table\":[{\"cells\":{\"fill\":{\"color\":\"#EBF0F8\"},\"line\":{\"color\":\"white\"}},\"header\":{\"fill\":{\"color\":\"#C8D4E3\"},\"line\":{\"color\":\"white\"}},\"type\":\"table\"}],\"barpolar\":[{\"marker\":{\"line\":{\"color\":\"#E5ECF6\",\"width\":0.5},\"pattern\":{\"fillmode\":\"overlay\",\"size\":10,\"solidity\":0.2}},\"type\":\"barpolar\"}],\"pie\":[{\"automargin\":true,\"type\":\"pie\"}]},\"layout\":{\"autotypenumbers\":\"strict\",\"colorway\":[\"#636efa\",\"#EF553B\",\"#00cc96\",\"#ab63fa\",\"#FFA15A\",\"#19d3f3\",\"#FF6692\",\"#B6E880\",\"#FF97FF\",\"#FECB52\"],\"font\":{\"color\":\"#2a3f5f\"},\"hovermode\":\"closest\",\"hoverlabel\":{\"align\":\"left\"},\"paper_bgcolor\":\"white\",\"plot_bgcolor\":\"#E5ECF6\",\"polar\":{\"bgcolor\":\"#E5ECF6\",\"angularaxis\":{\"gridcolor\":\"white\",\"linecolor\":\"white\",\"ticks\":\"\"},\"radialaxis\":{\"gridcolor\":\"white\",\"linecolor\":\"white\",\"ticks\":\"\"}},\"ternary\":{\"bgcolor\":\"#E5ECF6\",\"aaxis\":{\"gridcolor\":\"white\",\"linecolor\":\"white\",\"ticks\":\"\"},\"baxis\":{\"gridcolor\":\"white\",\"linecolor\":\"white\",\"ticks\":\"\"},\"caxis\":{\"gridcolor\":\"white\",\"linecolor\":\"white\",\"ticks\":\"\"}},\"coloraxis\":{\"colorbar\":{\"outlinewidth\":0,\"ticks\":\"\"}},\"colorscale\":{\"sequential\":[[0.0,\"#0d0887\"],[0.1111111111111111,\"#46039f\"],[0.2222222222222222,\"#7201a8\"],[0.3333333333333333,\"#9c179e\"],[0.4444444444444444,\"#bd3786\"],[0.5555555555555556,\"#d8576b\"],[0.6666666666666666,\"#ed7953\"],[0.7777777777777778,\"#fb9f3a\"],[0.8888888888888888,\"#fdca26\"],[1.0,\"#f0f921\"]],\"sequentialminus\":[[0.0,\"#0d0887\"],[0.1111111111111111,\"#46039f\"],[0.2222222222222222,\"#7201a8\"],[0.3333333333333333,\"#9c179e\"],[0.4444444444444444,\"#bd3786\"],[0.5555555555555556,\"#d8576b\"],[0.6666666666666666,\"#ed7953\"],[0.7777777777777778,\"#fb9f3a\"],[0.8888888888888888,\"#fdca26\"],[1.0,\"#f0f921\"]],\"diverging\":[[0,\"#8e0152\"],[0.1,\"#c51b7d\"],[0.2,\"#de77ae\"],[0.3,\"#f1b6da\"],[0.4,\"#fde0ef\"],[0.5,\"#f7f7f7\"],[0.6,\"#e6f5d0\"],[0.7,\"#b8e186\"],[0.8,\"#7fbc41\"],[0.9,\"#4d9221\"],[1,\"#276419\"]]},\"xaxis\":{\"gridcolor\":\"white\",\"linecolor\":\"white\",\"ticks\":\"\",\"title\":{\"standoff\":15},\"zerolinecolor\":\"white\",\"automargin\":true,\"zerolinewidth\":2},\"yaxis\":{\"gridcolor\":\"white\",\"linecolor\":\"white\",\"ticks\":\"\",\"title\":{\"standoff\":15},\"zerolinecolor\":\"white\",\"automargin\":true,\"zerolinewidth\":2},\"scene\":{\"xaxis\":{\"backgroundcolor\":\"#E5ECF6\",\"gridcolor\":\"white\",\"linecolor\":\"white\",\"showbackground\":true,\"ticks\":\"\",\"zerolinecolor\":\"white\",\"gridwidth\":2},\"yaxis\":{\"backgroundcolor\":\"#E5ECF6\",\"gridcolor\":\"white\",\"linecolor\":\"white\",\"showbackground\":true,\"ticks\":\"\",\"zerolinecolor\":\"white\",\"gridwidth\":2},\"zaxis\":{\"backgroundcolor\":\"#E5ECF6\",\"gridcolor\":\"white\",\"linecolor\":\"white\",\"showbackground\":true,\"ticks\":\"\",\"zerolinecolor\":\"white\",\"gridwidth\":2}},\"shapedefaults\":{\"line\":{\"color\":\"#2a3f5f\"}},\"annotationdefaults\":{\"arrowcolor\":\"#2a3f5f\",\"arrowhead\":0,\"arrowwidth\":1},\"geo\":{\"bgcolor\":\"white\",\"landcolor\":\"#E5ECF6\",\"subunitcolor\":\"white\",\"showland\":true,\"showlakes\":true,\"lakecolor\":\"white\"},\"title\":{\"x\":0.05},\"mapbox\":{\"style\":\"light\"}}}},                        {\"responsive\": true}                    ).then(function(){\n",
              "                            \n",
              "var gd = document.getElementById('c9faf86e-1642-4966-bf13-a17ed3304ad4');\n",
              "var x = new MutationObserver(function (mutations, observer) {{\n",
              "        var display = window.getComputedStyle(gd).display;\n",
              "        if (!display || display === 'none') {{\n",
              "            console.log([gd, 'removed!']);\n",
              "            Plotly.purge(gd);\n",
              "            observer.disconnect();\n",
              "        }}\n",
              "}});\n",
              "\n",
              "// Listen for the removal of the full notebook cells\n",
              "var notebookContainer = gd.closest('#notebook-container');\n",
              "if (notebookContainer) {{\n",
              "    x.observe(notebookContainer, {childList: true});\n",
              "}}\n",
              "\n",
              "// Listen for the clearing of the current output cell\n",
              "var outputEl = gd.closest('.output');\n",
              "if (outputEl) {{\n",
              "    x.observe(outputEl, {childList: true});\n",
              "}}\n",
              "\n",
              "                        })                };                            </script>        </div>\n",
              "</body>\n",
              "</html>"
            ]
          },
          "metadata": {}
        },
        {
          "output_type": "stream",
          "name": "stderr",
          "text": [
            "[W 2023-06-03 12:02:26,373] Your study has only completed trials with missing parameters.\n",
            "<ipython-input-37-247d5052aadc>:44: FutureWarning:\n",
            "\n",
            "suggest_loguniform has been deprecated in v3.0.0. This feature will be removed in v6.0.0. See https://github.com/optuna/optuna/releases/tag/v3.0.0. Use suggest_float(..., log=True) instead.\n",
            "\n",
            "<ipython-input-37-247d5052aadc>:76: FutureWarning:\n",
            "\n",
            "suggest_uniform has been deprecated in v3.0.0. This feature will be removed in v6.0.0. See https://github.com/optuna/optuna/releases/tag/v3.0.0. Use suggest_float instead.\n",
            "\n",
            "<ipython-input-37-247d5052aadc>:168: FutureWarning:\n",
            "\n",
            "suggest_uniform has been deprecated in v3.0.0. This feature will be removed in v6.0.0. See https://github.com/optuna/optuna/releases/tag/v3.0.0. Use suggest_float instead.\n",
            "\n",
            "<ipython-input-37-247d5052aadc>:175: FutureWarning:\n",
            "\n",
            "suggest_loguniform has been deprecated in v3.0.0. This feature will be removed in v6.0.0. See https://github.com/optuna/optuna/releases/tag/v3.0.0. Use suggest_float(..., log=True) instead.\n",
            "\n",
            "[I 2023-06-03 12:02:31,255] Trial 18 pruned. \n"
          ]
        },
        {
          "output_type": "stream",
          "name": "stdout",
          "text": [
            "Epoch 1/50.. Train loss: 997674035043.490.. Val loss: 68.680.. Train L1 norm: 577802806215.589.. Val L1 norm: 88.401.. Train Linf norm: 174440003394936.031.. Val Linf norm: 38029.866\n"
          ]
        },
        {
          "output_type": "display_data",
          "data": {
            "text/html": [
              "<html>\n",
              "<head><meta charset=\"utf-8\" /></head>\n",
              "<body>\n",
              "    <div>            <script src=\"https://cdnjs.cloudflare.com/ajax/libs/mathjax/2.7.5/MathJax.js?config=TeX-AMS-MML_SVG\"></script><script type=\"text/javascript\">if (window.MathJax && window.MathJax.Hub && window.MathJax.Hub.Config) {window.MathJax.Hub.Config({SVG: {font: \"STIX-Web\"}});}</script>                <script type=\"text/javascript\">window.PlotlyConfig = {MathJaxConfig: 'local'};</script>\n",
              "        <script src=\"https://cdn.plot.ly/plotly-2.18.2.min.js\"></script>                <div id=\"a1ab1c05-d5e0-4683-a3f0-ef8ea6a2f477\" class=\"plotly-graph-div\" style=\"height:525px; width:100%;\"></div>            <script type=\"text/javascript\">                                    window.PLOTLYENV=window.PLOTLYENV || {};                                    if (document.getElementById(\"a1ab1c05-d5e0-4683-a3f0-ef8ea6a2f477\")) {                    Plotly.newPlot(                        \"a1ab1c05-d5e0-4683-a3f0-ef8ea6a2f477\",                        [{\"mode\":\"markers\",\"name\":\"Objective Value\",\"x\":[0,2,3,4,5,6,11,12,13,15],\"y\":[3.1759881306966147,1.156466460164388,2.3734971160888674,197068098895033.12,28.626712099456785,3.4212768898010255,3.457972690137227,4.168114870516459,4.0204941166559856,3.2671220138549804],\"type\":\"scatter\"},{\"name\":\"Best Value\",\"x\":[0,2,3,4,5,6,11,12,13,15],\"y\":[3.1759881306966147,1.156466460164388,1.156466460164388,1.156466460164388,1.156466460164388,1.156466460164388,1.156466460164388,1.156466460164388,1.156466460164388,1.156466460164388],\"type\":\"scatter\"}],                        {\"title\":{\"text\":\"Optimization History Plot\"},\"xaxis\":{\"title\":{\"text\":\"Trial\"}},\"yaxis\":{\"title\":{\"text\":\"Objective Value\"}},\"template\":{\"data\":{\"histogram2dcontour\":[{\"type\":\"histogram2dcontour\",\"colorbar\":{\"outlinewidth\":0,\"ticks\":\"\"},\"colorscale\":[[0.0,\"#0d0887\"],[0.1111111111111111,\"#46039f\"],[0.2222222222222222,\"#7201a8\"],[0.3333333333333333,\"#9c179e\"],[0.4444444444444444,\"#bd3786\"],[0.5555555555555556,\"#d8576b\"],[0.6666666666666666,\"#ed7953\"],[0.7777777777777778,\"#fb9f3a\"],[0.8888888888888888,\"#fdca26\"],[1.0,\"#f0f921\"]]}],\"choropleth\":[{\"type\":\"choropleth\",\"colorbar\":{\"outlinewidth\":0,\"ticks\":\"\"}}],\"histogram2d\":[{\"type\":\"histogram2d\",\"colorbar\":{\"outlinewidth\":0,\"ticks\":\"\"},\"colorscale\":[[0.0,\"#0d0887\"],[0.1111111111111111,\"#46039f\"],[0.2222222222222222,\"#7201a8\"],[0.3333333333333333,\"#9c179e\"],[0.4444444444444444,\"#bd3786\"],[0.5555555555555556,\"#d8576b\"],[0.6666666666666666,\"#ed7953\"],[0.7777777777777778,\"#fb9f3a\"],[0.8888888888888888,\"#fdca26\"],[1.0,\"#f0f921\"]]}],\"heatmap\":[{\"type\":\"heatmap\",\"colorbar\":{\"outlinewidth\":0,\"ticks\":\"\"},\"colorscale\":[[0.0,\"#0d0887\"],[0.1111111111111111,\"#46039f\"],[0.2222222222222222,\"#7201a8\"],[0.3333333333333333,\"#9c179e\"],[0.4444444444444444,\"#bd3786\"],[0.5555555555555556,\"#d8576b\"],[0.6666666666666666,\"#ed7953\"],[0.7777777777777778,\"#fb9f3a\"],[0.8888888888888888,\"#fdca26\"],[1.0,\"#f0f921\"]]}],\"heatmapgl\":[{\"type\":\"heatmapgl\",\"colorbar\":{\"outlinewidth\":0,\"ticks\":\"\"},\"colorscale\":[[0.0,\"#0d0887\"],[0.1111111111111111,\"#46039f\"],[0.2222222222222222,\"#7201a8\"],[0.3333333333333333,\"#9c179e\"],[0.4444444444444444,\"#bd3786\"],[0.5555555555555556,\"#d8576b\"],[0.6666666666666666,\"#ed7953\"],[0.7777777777777778,\"#fb9f3a\"],[0.8888888888888888,\"#fdca26\"],[1.0,\"#f0f921\"]]}],\"contourcarpet\":[{\"type\":\"contourcarpet\",\"colorbar\":{\"outlinewidth\":0,\"ticks\":\"\"}}],\"contour\":[{\"type\":\"contour\",\"colorbar\":{\"outlinewidth\":0,\"ticks\":\"\"},\"colorscale\":[[0.0,\"#0d0887\"],[0.1111111111111111,\"#46039f\"],[0.2222222222222222,\"#7201a8\"],[0.3333333333333333,\"#9c179e\"],[0.4444444444444444,\"#bd3786\"],[0.5555555555555556,\"#d8576b\"],[0.6666666666666666,\"#ed7953\"],[0.7777777777777778,\"#fb9f3a\"],[0.8888888888888888,\"#fdca26\"],[1.0,\"#f0f921\"]]}],\"surface\":[{\"type\":\"surface\",\"colorbar\":{\"outlinewidth\":0,\"ticks\":\"\"},\"colorscale\":[[0.0,\"#0d0887\"],[0.1111111111111111,\"#46039f\"],[0.2222222222222222,\"#7201a8\"],[0.3333333333333333,\"#9c179e\"],[0.4444444444444444,\"#bd3786\"],[0.5555555555555556,\"#d8576b\"],[0.6666666666666666,\"#ed7953\"],[0.7777777777777778,\"#fb9f3a\"],[0.8888888888888888,\"#fdca26\"],[1.0,\"#f0f921\"]]}],\"mesh3d\":[{\"type\":\"mesh3d\",\"colorbar\":{\"outlinewidth\":0,\"ticks\":\"\"}}],\"scatter\":[{\"fillpattern\":{\"fillmode\":\"overlay\",\"size\":10,\"solidity\":0.2},\"type\":\"scatter\"}],\"parcoords\":[{\"type\":\"parcoords\",\"line\":{\"colorbar\":{\"outlinewidth\":0,\"ticks\":\"\"}}}],\"scatterpolargl\":[{\"type\":\"scatterpolargl\",\"marker\":{\"colorbar\":{\"outlinewidth\":0,\"ticks\":\"\"}}}],\"bar\":[{\"error_x\":{\"color\":\"#2a3f5f\"},\"error_y\":{\"color\":\"#2a3f5f\"},\"marker\":{\"line\":{\"color\":\"#E5ECF6\",\"width\":0.5},\"pattern\":{\"fillmode\":\"overlay\",\"size\":10,\"solidity\":0.2}},\"type\":\"bar\"}],\"scattergeo\":[{\"type\":\"scattergeo\",\"marker\":{\"colorbar\":{\"outlinewidth\":0,\"ticks\":\"\"}}}],\"scatterpolar\":[{\"type\":\"scatterpolar\",\"marker\":{\"colorbar\":{\"outlinewidth\":0,\"ticks\":\"\"}}}],\"histogram\":[{\"marker\":{\"pattern\":{\"fillmode\":\"overlay\",\"size\":10,\"solidity\":0.2}},\"type\":\"histogram\"}],\"scattergl\":[{\"type\":\"scattergl\",\"marker\":{\"colorbar\":{\"outlinewidth\":0,\"ticks\":\"\"}}}],\"scatter3d\":[{\"type\":\"scatter3d\",\"line\":{\"colorbar\":{\"outlinewidth\":0,\"ticks\":\"\"}},\"marker\":{\"colorbar\":{\"outlinewidth\":0,\"ticks\":\"\"}}}],\"scattermapbox\":[{\"type\":\"scattermapbox\",\"marker\":{\"colorbar\":{\"outlinewidth\":0,\"ticks\":\"\"}}}],\"scatterternary\":[{\"type\":\"scatterternary\",\"marker\":{\"colorbar\":{\"outlinewidth\":0,\"ticks\":\"\"}}}],\"scattercarpet\":[{\"type\":\"scattercarpet\",\"marker\":{\"colorbar\":{\"outlinewidth\":0,\"ticks\":\"\"}}}],\"carpet\":[{\"aaxis\":{\"endlinecolor\":\"#2a3f5f\",\"gridcolor\":\"white\",\"linecolor\":\"white\",\"minorgridcolor\":\"white\",\"startlinecolor\":\"#2a3f5f\"},\"baxis\":{\"endlinecolor\":\"#2a3f5f\",\"gridcolor\":\"white\",\"linecolor\":\"white\",\"minorgridcolor\":\"white\",\"startlinecolor\":\"#2a3f5f\"},\"type\":\"carpet\"}],\"table\":[{\"cells\":{\"fill\":{\"color\":\"#EBF0F8\"},\"line\":{\"color\":\"white\"}},\"header\":{\"fill\":{\"color\":\"#C8D4E3\"},\"line\":{\"color\":\"white\"}},\"type\":\"table\"}],\"barpolar\":[{\"marker\":{\"line\":{\"color\":\"#E5ECF6\",\"width\":0.5},\"pattern\":{\"fillmode\":\"overlay\",\"size\":10,\"solidity\":0.2}},\"type\":\"barpolar\"}],\"pie\":[{\"automargin\":true,\"type\":\"pie\"}]},\"layout\":{\"autotypenumbers\":\"strict\",\"colorway\":[\"#636efa\",\"#EF553B\",\"#00cc96\",\"#ab63fa\",\"#FFA15A\",\"#19d3f3\",\"#FF6692\",\"#B6E880\",\"#FF97FF\",\"#FECB52\"],\"font\":{\"color\":\"#2a3f5f\"},\"hovermode\":\"closest\",\"hoverlabel\":{\"align\":\"left\"},\"paper_bgcolor\":\"white\",\"plot_bgcolor\":\"#E5ECF6\",\"polar\":{\"bgcolor\":\"#E5ECF6\",\"angularaxis\":{\"gridcolor\":\"white\",\"linecolor\":\"white\",\"ticks\":\"\"},\"radialaxis\":{\"gridcolor\":\"white\",\"linecolor\":\"white\",\"ticks\":\"\"}},\"ternary\":{\"bgcolor\":\"#E5ECF6\",\"aaxis\":{\"gridcolor\":\"white\",\"linecolor\":\"white\",\"ticks\":\"\"},\"baxis\":{\"gridcolor\":\"white\",\"linecolor\":\"white\",\"ticks\":\"\"},\"caxis\":{\"gridcolor\":\"white\",\"linecolor\":\"white\",\"ticks\":\"\"}},\"coloraxis\":{\"colorbar\":{\"outlinewidth\":0,\"ticks\":\"\"}},\"colorscale\":{\"sequential\":[[0.0,\"#0d0887\"],[0.1111111111111111,\"#46039f\"],[0.2222222222222222,\"#7201a8\"],[0.3333333333333333,\"#9c179e\"],[0.4444444444444444,\"#bd3786\"],[0.5555555555555556,\"#d8576b\"],[0.6666666666666666,\"#ed7953\"],[0.7777777777777778,\"#fb9f3a\"],[0.8888888888888888,\"#fdca26\"],[1.0,\"#f0f921\"]],\"sequentialminus\":[[0.0,\"#0d0887\"],[0.1111111111111111,\"#46039f\"],[0.2222222222222222,\"#7201a8\"],[0.3333333333333333,\"#9c179e\"],[0.4444444444444444,\"#bd3786\"],[0.5555555555555556,\"#d8576b\"],[0.6666666666666666,\"#ed7953\"],[0.7777777777777778,\"#fb9f3a\"],[0.8888888888888888,\"#fdca26\"],[1.0,\"#f0f921\"]],\"diverging\":[[0,\"#8e0152\"],[0.1,\"#c51b7d\"],[0.2,\"#de77ae\"],[0.3,\"#f1b6da\"],[0.4,\"#fde0ef\"],[0.5,\"#f7f7f7\"],[0.6,\"#e6f5d0\"],[0.7,\"#b8e186\"],[0.8,\"#7fbc41\"],[0.9,\"#4d9221\"],[1,\"#276419\"]]},\"xaxis\":{\"gridcolor\":\"white\",\"linecolor\":\"white\",\"ticks\":\"\",\"title\":{\"standoff\":15},\"zerolinecolor\":\"white\",\"automargin\":true,\"zerolinewidth\":2},\"yaxis\":{\"gridcolor\":\"white\",\"linecolor\":\"white\",\"ticks\":\"\",\"title\":{\"standoff\":15},\"zerolinecolor\":\"white\",\"automargin\":true,\"zerolinewidth\":2},\"scene\":{\"xaxis\":{\"backgroundcolor\":\"#E5ECF6\",\"gridcolor\":\"white\",\"linecolor\":\"white\",\"showbackground\":true,\"ticks\":\"\",\"zerolinecolor\":\"white\",\"gridwidth\":2},\"yaxis\":{\"backgroundcolor\":\"#E5ECF6\",\"gridcolor\":\"white\",\"linecolor\":\"white\",\"showbackground\":true,\"ticks\":\"\",\"zerolinecolor\":\"white\",\"gridwidth\":2},\"zaxis\":{\"backgroundcolor\":\"#E5ECF6\",\"gridcolor\":\"white\",\"linecolor\":\"white\",\"showbackground\":true,\"ticks\":\"\",\"zerolinecolor\":\"white\",\"gridwidth\":2}},\"shapedefaults\":{\"line\":{\"color\":\"#2a3f5f\"}},\"annotationdefaults\":{\"arrowcolor\":\"#2a3f5f\",\"arrowhead\":0,\"arrowwidth\":1},\"geo\":{\"bgcolor\":\"white\",\"landcolor\":\"#E5ECF6\",\"subunitcolor\":\"white\",\"showland\":true,\"showlakes\":true,\"lakecolor\":\"white\"},\"title\":{\"x\":0.05},\"mapbox\":{\"style\":\"light\"}}}},                        {\"responsive\": true}                    ).then(function(){\n",
              "                            \n",
              "var gd = document.getElementById('a1ab1c05-d5e0-4683-a3f0-ef8ea6a2f477');\n",
              "var x = new MutationObserver(function (mutations, observer) {{\n",
              "        var display = window.getComputedStyle(gd).display;\n",
              "        if (!display || display === 'none') {{\n",
              "            console.log([gd, 'removed!']);\n",
              "            Plotly.purge(gd);\n",
              "            observer.disconnect();\n",
              "        }}\n",
              "}});\n",
              "\n",
              "// Listen for the removal of the full notebook cells\n",
              "var notebookContainer = gd.closest('#notebook-container');\n",
              "if (notebookContainer) {{\n",
              "    x.observe(notebookContainer, {childList: true});\n",
              "}}\n",
              "\n",
              "// Listen for the clearing of the current output cell\n",
              "var outputEl = gd.closest('.output');\n",
              "if (outputEl) {{\n",
              "    x.observe(outputEl, {childList: true});\n",
              "}}\n",
              "\n",
              "                        })                };                            </script>        </div>\n",
              "</body>\n",
              "</html>"
            ]
          },
          "metadata": {}
        },
        {
          "output_type": "stream",
          "name": "stderr",
          "text": [
            "[W 2023-06-03 12:02:31,713] Your study has only completed trials with missing parameters.\n",
            "<ipython-input-37-247d5052aadc>:44: FutureWarning:\n",
            "\n",
            "suggest_loguniform has been deprecated in v3.0.0. This feature will be removed in v6.0.0. See https://github.com/optuna/optuna/releases/tag/v3.0.0. Use suggest_float(..., log=True) instead.\n",
            "\n",
            "<ipython-input-37-247d5052aadc>:58: FutureWarning:\n",
            "\n",
            "suggest_uniform has been deprecated in v3.0.0. This feature will be removed in v6.0.0. See https://github.com/optuna/optuna/releases/tag/v3.0.0. Use suggest_float instead.\n",
            "\n",
            "<ipython-input-37-247d5052aadc>:76: FutureWarning:\n",
            "\n",
            "suggest_uniform has been deprecated in v3.0.0. This feature will be removed in v6.0.0. See https://github.com/optuna/optuna/releases/tag/v3.0.0. Use suggest_float instead.\n",
            "\n",
            "<ipython-input-37-247d5052aadc>:149: FutureWarning:\n",
            "\n",
            "suggest_loguniform has been deprecated in v3.0.0. This feature will be removed in v6.0.0. See https://github.com/optuna/optuna/releases/tag/v3.0.0. Use suggest_float(..., log=True) instead.\n",
            "\n",
            "<ipython-input-37-247d5052aadc>:150: FutureWarning:\n",
            "\n",
            "suggest_uniform has been deprecated in v3.0.0. This feature will be removed in v6.0.0. See https://github.com/optuna/optuna/releases/tag/v3.0.0. Use suggest_float instead.\n",
            "\n",
            "<ipython-input-37-247d5052aadc>:151: FutureWarning:\n",
            "\n",
            "suggest_uniform has been deprecated in v3.0.0. This feature will be removed in v6.0.0. See https://github.com/optuna/optuna/releases/tag/v3.0.0. Use suggest_float instead.\n",
            "\n",
            "<ipython-input-37-247d5052aadc>:161: FutureWarning:\n",
            "\n",
            "suggest_uniform has been deprecated in v3.0.0. This feature will be removed in v6.0.0. See https://github.com/optuna/optuna/releases/tag/v3.0.0. Use suggest_float instead.\n",
            "\n"
          ]
        },
        {
          "output_type": "stream",
          "name": "stdout",
          "text": [
            "Epoch 1/87.. Train loss: 234.869.. Val loss: 278.490.. Train L1 norm: 1.638.. Val L1 norm: 1.242.. Train Linf norm: 105.882.. Val Linf norm: 43.601\n",
            "Epoch 2/87.. Train loss: 74.129.. Val loss: 1414.951.. Train L1 norm: 1.642.. Val L1 norm: 1.178.. Train Linf norm: 134.719.. Val Linf norm: 30.020\n",
            "Epoch 3/87.. Train loss: 62.380.. Val loss: 1025.905.. Train L1 norm: 1.600.. Val L1 norm: 1.468.. Train Linf norm: 116.880.. Val Linf norm: 74.699\n",
            "Epoch 4/87.. Train loss: 74.714.. Val loss: 510.077.. Train L1 norm: 1.618.. Val L1 norm: 1.225.. Train Linf norm: 123.166.. Val Linf norm: 38.597\n",
            "Epoch 5/87.. Train loss: 128.904.. Val loss: 815.761.. Train L1 norm: 2.040.. Val L1 norm: 1.212.. Train Linf norm: 199.558.. Val Linf norm: 36.146\n",
            "Epoch 6/87.. Train loss: 70.827.. Val loss: 1860.546.. Train L1 norm: 1.643.. Val L1 norm: 1.604.. Train Linf norm: 114.106.. Val Linf norm: 94.323\n",
            "Epoch 7/87.. Train loss: 62.884.. Val loss: 132.712.. Train L1 norm: 1.992.. Val L1 norm: 1.287.. Train Linf norm: 191.753.. Val Linf norm: 49.026\n",
            "Epoch 8/87.. Train loss: 61.996.. Val loss: 68.649.. Train L1 norm: 2.185.. Val L1 norm: 1.444.. Train Linf norm: 226.117.. Val Linf norm: 72.483\n",
            "Epoch 9/87.. Train loss: 56.555.. Val loss: 201.440.. Train L1 norm: 1.760.. Val L1 norm: 1.447.. Train Linf norm: 142.224.. Val Linf norm: 70.906\n",
            "Epoch 10/87.. Train loss: 56.613.. Val loss: 136.779.. Train L1 norm: 2.408.. Val L1 norm: 1.681.. Train Linf norm: 247.888.. Val Linf norm: 102.303\n",
            "Epoch 11/87.. Train loss: 62.830.. Val loss: 737.384.. Train L1 norm: 2.328.. Val L1 norm: 1.926.. Train Linf norm: 234.728.. Val Linf norm: 135.514\n"
          ]
        }
      ],
      "source": [
        "# Visualize Optuna study while its running, alternative to tensorboard\n",
        "#from IPython import display\n",
        "import optuna.visualization as ov\n",
        "\n",
        "def callback(study, trial):\n",
        "    with open('all_trials.json', 'a') as f:\n",
        "        # Save the trial number, value, and parameters to a JSON file.\n",
        "        json.dump({\n",
        "            'number': trial.number,\n",
        "            'value': trial.value,\n",
        "            'params': trial.params\n",
        "        }, f)\n",
        "        # Write a newline character after each trial, so that each trial is on a separate line\n",
        "        f.write('\\n')\n",
        "        save_file('all_trials.json')\n",
        "\n",
        "    # Saving the study to a pickle file\n",
        "    with open(f'{STUDY_NAME}.pkl', 'wb') as f:\n",
        "        pickle.dump(study, f)\n",
        "        save_file(f'{STUDY_NAME}.pkl')\n",
        "\n",
        "    # Save the best trial separately as well.\n",
        "    best_trial_params = study.best_trial.params\n",
        "    with open('best_trial_params.json', 'w') as f:\n",
        "        json.dump(best_trial_params, f)\n",
        "        save_file('best_trial_params.json')\n",
        "\n",
        "    # Visualize the optimization history, and save it as an HTML file.\n",
        "    fig1 = ov.plot_optimization_history(study)\n",
        "    fig1.write_html(f\"optimization_history_{STUDY_NAME}.html\")\n",
        "    save_file(f\"optimization_history_{STUDY_NAME}.html\")\n",
        "    fig1.show()\n",
        "\n",
        "    # Do the same for the other visualizations.\n",
        "    fig2 = ov.plot_slice(study)\n",
        "    fig2.write_html(f\"slice_plot_{STUDY_NAME}.html\")\n",
        "    save_file(f\"slice_plot_{STUDY_NAME}.html\")\n",
        "\n",
        "    # if trial.number % 10 == 0:\n",
        "    #     fig3 = ov.plot_contour(study)\n",
        "    #     fig3.write_html(f\"contour_plot_{STUDY_NAME}.html\")\n",
        "    #     save_file(f\"contour_plot_{STUDY_NAME}.html\")\n",
        "\n",
        "    fig4 = ov.plot_parallel_coordinate(study)\n",
        "    fig4.write_html(f\"parallel_coordinate_plot_{STUDY_NAME}.html\")\n",
        "    save_file(f\"parallel_coordinate_plot_{STUDY_NAME}.html\")\n",
        "\n",
        "    if trial.number > 1: # Required\n",
        "      fig5 = ov.plot_param_importances(study)\n",
        "      fig5.write_html(f\"param_importances_plot_{STUDY_NAME}.html\")\n",
        "      save_file(f\"param_importances_plot_{STUDY_NAME}.html\")\n",
        "\n",
        "        \n",
        "if OPTIMIZE:\n",
        "    # Gave an error in my run on arch bsc_physics_env. It doesn't matter anyway, since we use pickle for saving.\n",
        "    # Include the path to the SQLite file in your create_study call.\n",
        "    # study = optuna.create_study(direction=\"minimize\", \n",
        "                                # sampler=optuna.samplers.TPESampler(), \n",
        "                                # pruner=optuna.pruners.MedianPruner(), \n",
        "                                # storage=f'sqlite:///{STUDY_NAME}.db')\n",
        "    study = optuna.create_study(direction=\"minimize\", sampler=optuna.samplers.TPESampler(), pruner=optuna.pruners.MedianPruner())\n",
        "\n",
        "    study.optimize(objective, n_trials=N_TRIALS, callbacks=[callback])\n",
        "    #study.optimize(objective, n_trials=N_TRIALS)"
      ]
    },
    {
      "cell_type": "code",
      "source": [
        "if OPTIMIZE:\n",
        "    # Optimization History\n",
        "    ov.plot_optimization_history(study).show()\n",
        " \n",
        "    # Slice Plot\n",
        "    ov.plot_slice(study).show()\n",
        " \n",
        "    # Contour Plot\n",
        "    # ov.plot_contour(study).show()\n",
        " \n",
        "    # Parallel Coordinate Plot\n",
        "    ov.plot_parallel_coordinate(study).show()\n",
        " \n",
        "    # Hyperparameter Importance Plot\n",
        "    ov.plot_param_importances(study).show()\n",
        "\n",
        "    # Best trial information\n",
        "    print(\"Best trial:\")\n",
        "    trial = study.best_trial\n",
        "    print(\"  Value: \", trial.value)\n",
        "    print(\"  Params: \")\n",
        "    for key, value in trial.params.items():\n",
        "        print(f\"    {key}: {value}\")\n",
        "\n",
        "    # Saving the study to a pickle file\n",
        "    with open(f'{STUDY_NAME}.pkl', 'wb') as f:\n",
        "        pickle.dump(study, f)\n",
        "        save_file(f'{STUDY_NAME}.pkl')\n",
        "\n",
        "    # Save the best trial separately as well.\n",
        "    best_trial_params = study.best_trial.params\n",
        "    with open('best_trial_params.json', 'w') as f:\n",
        "        json.dump(best_trial_params, f)\n",
        "        save_file('best_trial_params.json')"
      ],
      "metadata": {
        "id": "yOAgWz5YVFVh"
      },
      "execution_count": null,
      "outputs": []
    },
    {
      "cell_type": "markdown",
      "metadata": {
        "id": "jmMfE9_dUZiS"
      },
      "source": [
        "## Training the model"
      ]
    },
    {
      "cell_type": "code",
      "execution_count": null,
      "metadata": {
        "id": "phyiHlWEUZiT"
      },
      "outputs": [],
      "source": [
        "# Creating the best network and optimizer using the best hyperparameters\n",
        "if OPTIMIZE:\n",
        "    net, \\\n",
        "    loss_fn, \\\n",
        "    optimizer, \\\n",
        "    batch_size, \\\n",
        "    n_epochs, \\\n",
        "    scheduler, \\\n",
        "    loss_name, \\\n",
        "    optimizer_name, \\\n",
        "    scheduler_name, \\\n",
        "    n_units, \\\n",
        "    n_layers, \\\n",
        "    hidden_activation, \\\n",
        "    output_activation, \\\n",
        "    lr, \\\n",
        "    dropout_rate = create_model(trial, optimize=True)\n",
        "\n",
        "# Creating the network with predefined hyperparameters\n",
        "else:\n",
        "    net, \\\n",
        "    loss_fn, \\\n",
        "    optimizer, \\\n",
        "    batch_size, \\\n",
        "    n_epochs, \\\n",
        "    scheduler, \\\n",
        "    loss_name, \\\n",
        "    optimizer_name, \\\n",
        "    scheduler_name, \\\n",
        "    n_units, \\\n",
        "    n_layers, \\\n",
        "    hidden_activation, \\\n",
        "    output_activation, \\\n",
        "    lr, \\\n",
        "    dropout_rate = create_model(trial=None, optimize=True)"
      ]
    },
    {
      "cell_type": "code",
      "execution_count": null,
      "metadata": {
        "id": "_yq-oY81UZiU"
      },
      "outputs": [],
      "source": [
        "print(\"loss_fn:\", net)\n",
        "print(\"loss_fn:\", loss_fn)\n",
        "print(\"batch_size:\", batch_size)\n",
        "print(\"n_epochs:\", n_epochs)\n",
        "print(\"scheduler:\", scheduler)\n",
        "print(\"loss_name:\", loss_name)\n",
        "print(\"optimizer_name:\", optimizer_name)\n",
        "print(\"scheduler_name:\", scheduler_name)\n",
        "print(\"n_units:\", n_units)\n",
        "print(\"n_layers:\", n_layers)\n",
        "print(\"hidden_activation:\", hidden_activation)\n",
        "print(\"output_activation:\", output_activation)\n",
        "print(\"lr\", lr)\n",
        "print(\"dropout_rate\", dropout_rate)"
      ]
    },
    {
      "cell_type": "markdown",
      "metadata": {
        "id": "E7aLWdZyUZiW",
        "outputId": "8fb1e8c6-5aa3-43a1-a255-712cf9396d0c"
      },
      "source": [
        "After optimizing with Optuna and deciding on the best hyperparameters, we combine the training and validatin set, using that as the new training set for training the model, and then evaluate the model on the test set"
      ]
    },
    {
      "cell_type": "code",
      "execution_count": null,
      "metadata": {
        "id": "jIBboeQX4cno"
      },
      "outputs": [],
      "source": [
        "x_train_val = torch.cat((x_train, x_val), 0)\n",
        "y_train_val = torch.cat((y_train, y_val), 0)\n",
        "\n",
        "train_val_loader = torch.utils.data.DataLoader(\n",
        "    torch.utils.data.TensorDataset(x_train_val, y_train_val), batch_size=batch_size, shuffle=True\n",
        ")\n",
        "test_loader = torch.utils.data.DataLoader(\n",
        "    torch.utils.data.TensorDataset(x_test, y_test), batch_size=batch_size\n",
        ")\n",
        "\n",
        "train_losses, _, test_losses, train_metrics, _, test_metrics, = train_and_eval(\n",
        "    net, loss_fn, optimizer, batch_size, n_epochs, scheduler, train_val_loader, None, test_loader, None\n",
        ")"
      ]
    },
    {
      "cell_type": "markdown",
      "metadata": {
        "id": "akNucrgMUZiW"
      },
      "source": [
        "## Saving"
      ]
    },
    {
      "cell_type": "code",
      "execution_count": null,
      "metadata": {
        "id": "LHsrs2Y-UZic"
      },
      "outputs": [],
      "source": [
        "# create a dictionary to store the rest of the variables\n",
        "import json\n",
        "\n",
        "# save the network to a .pth file\n",
        "torch.save(net.state_dict(), \"net.pth\")\n",
        "save_file(\"net.pth\")\n",
        "\n",
        "# save the optimizer to a .pth file\n",
        "torch.save(optimizer.state_dict(), \"optimizer.pth\")\n",
        "save_file(\"optimizer.pth\")\n",
        "\n",
        "# save the scheduler to a .pth file if it is not None\n",
        "if scheduler is not None:\n",
        "  torch.save(scheduler.state_dict(), \"scheduler.pth\")\n",
        "  save_file(\"scheduler.pth\")\n",
        "\n",
        "# create a dictionary to store the rest of the variables\n",
        "if isinstance(hidden_activation.__class__.__name__, list):\n",
        "    hidden_activation_name = hidden_activation.__class__.__name__[0]\n",
        "else:\n",
        "    hidden_activation_name = hidden_activation.__class__.__name__\n",
        "\n",
        "if isinstance(output_activation.__class__.__name__, list):\n",
        "    output_activation_name = output_activation.__class__.__name__[0]\n",
        "else:\n",
        "    output_activation_name = output_activation.__class__.__name__\n",
        "\n",
        "var_dict = {\n",
        "  \"batch_size\": batch_size,\n",
        "  \"n_epochs\": n_epochs,\n",
        "  \"loss_name\": loss_name,\n",
        "  \"optimizer_name\": optimizer_name,\n",
        "  \"scheduler_name\": scheduler_name,\n",
        "  \"n_units\": n_units,\n",
        "  \"n_layers\": n_layers,\n",
        "  \"hidden_activation_name\": hidden_activation_name,\n",
        "  \"output_activation_name\": output_activation_name,\n",
        "  \"lr\": lr,\n",
        "  \"dropout_rate\": dropout_rate\n",
        "}\n",
        "\n",
        "# Adding the subparameters to the var_dict for saving\n",
        "if hidden_activation_name == \"LeakyReLU\":\n",
        "  var_dict[\"leakyrelu_slope\"] = hidden_activation.negative_slope\n",
        "elif hidden_activation_name == \"PReLU\":\n",
        "  var_dict[\"prelu_init\"] = hidden_activation.weight.item()  # .item() is needed because weight is a tensor\n",
        "elif hidden_activation_name == \"SoftPlus\":\n",
        "  var_dict[\"softplus_beta\"] = hidden_activation.beta\n",
        "\n",
        "# save the dictionary to a .json file\n",
        "with open(\"var_dict.json\", \"w\") as f:\n",
        "  json.dump(var_dict, f)\n",
        "save_file(\"var_dict.json\")\n",
        "\n",
        "# Saving the output of the training using pandas\n",
        "train_df = pd.DataFrame(\n",
        "    {\n",
        "        \"train_loss\": train_losses,\n",
        "        \"test_loss\": test_losses,\n",
        "        \"train_l1_norm\": [m[\"l1_norm\"] for m in train_metrics],\n",
        "        \"test_l1_norm\": [m[\"l1_norm\"] for m in test_metrics],\n",
        "        \"train_linf_norm\": [m[\"linf_norm\"] for m in train_metrics],\n",
        "        \"test_linf_norm\": [m[\"linf_norm\"] for m in test_metrics],\n",
        "    }\n",
        ")\n",
        "train_df.to_csv(\"train_output.csv\", index=False)\n",
        "save_file(\"train_output.csv\")"
      ]
    },
    {
      "cell_type": "code",
      "execution_count": null,
      "metadata": {
        "id": "WDNrony-4cnp"
      },
      "outputs": [],
      "source": [
        "[key for key in var_dict.keys()]"
      ]
    },
    {
      "cell_type": "code",
      "execution_count": null,
      "metadata": {
        "id": "G_Duv4pT4cnp"
      },
      "outputs": [],
      "source": [
        "#%%script echo skipping\n",
        "\n",
        "hidden_activation_name\n",
        "output_activation_name"
      ]
    },
    {
      "cell_type": "markdown",
      "metadata": {
        "id": "qU23l7dIUZie"
      },
      "source": [
        "## Visualizing the results"
      ]
    },
    {
      "cell_type": "code",
      "execution_count": null,
      "metadata": {
        "id": "cippWZS6UZie"
      },
      "outputs": [],
      "source": [
        "# First figure: Train and Test L1 Norm\n",
        "plt.figure(figsize=(6, 4))\n",
        "plt.plot([m[\"l1_norm\"] for m in train_metrics], label=\"Train L1 Norm\", color='blue')\n",
        "plt.plot([m[\"l1_norm\"] for m in test_metrics], label=\"Test L1 Norm\", color='red')\n",
        "plt.xlabel(\"Epoch\")\n",
        "plt.ylabel(\"L1 Norm\")\n",
        "plt.title(\"NNGRX Train and Test L1 Norm per Epoch\")\n",
        "plt.yscale(\"log\")\n",
        "plt.grid(True)\n",
        "plt.xlim(right=200)\n",
        "plt.ylim(1e-3, 1e2)\n",
        "plt.legend()\n",
        "plt.tight_layout()\n",
        "# plt.savefig(\"NNGRX_L1_norm_plot.png\", dpi=300)\n",
        "plt.savefig(\"NNGRX_L1_norm_plot.png\")\n",
        "\n",
        "# Second figure: Train and Test Linf Norm\n",
        "plt.figure(figsize=(6, 4))\n",
        "plt.plot([m[\"linf_norm\"] for m in train_metrics], label=\"Train Linf Norm\", color='blue')\n",
        "plt.plot([m[\"linf_norm\"] for m in test_metrics], label=\"Test Linf Norm\", color='red')\n",
        "plt.xlabel(\"Epoch\")\n",
        "plt.ylabel(\"Linf Norm\")\n",
        "plt.title(\"NNGRX Train and Test Linf Norm per Epoch\")\n",
        "plt.yscale(\"log\")\n",
        "plt.grid(True)\n",
        "plt.xlim(right=200)\n",
        "plt.ylim(1e-3, 1e2)\n",
        "plt.legend()\n",
        "plt.tight_layout()\n",
        "# plt.savefig(\"NNGRX_Linf_norm_plot.png\", dpi=300)\n",
        "plt.savefig(\"NNGRX_Linf_norm_plot.png\")\n",
        "\n",
        "# Third figure: MSE of training data and test data\n",
        "plt.figure(figsize=(6, 4))\n",
        "plt.plot(train_losses, label=\"Training Data\", color='blue')\n",
        "plt.plot(test_losses, label=\"Test Data\", color='red')\n",
        "plt.xlabel(\"Epoch\")\n",
        "plt.ylabel(\"MSE\")\n",
        "plt.title(\"NNGRX MSE of Training and Test Data per Epoch\")\n",
        "plt.yscale(\"log\")\n",
        "plt.grid(True)\n",
        "plt.xlim(right=200)\n",
        "plt.ylim(1e-7, 1e0)\n",
        "plt.legend()\n",
        "plt.tight_layout()\n",
        "# plt.savefig(\"NNGRX_MSE_plot.png\", dpi=300)\n",
        "plt.savefig(\"NNGRX_MSE_plot.png\")"
      ]
    },
    {
      "cell_type": "markdown",
      "metadata": {
        "id": "tiEDutxIUZig"
      },
      "source": [
        "## Loading"
      ]
    },
    {
      "cell_type": "code",
      "execution_count": null,
      "metadata": {
        "id": "p7Mj990wUZih"
      },
      "outputs": [],
      "source": [
        "# load the dictionary from the .json file\n",
        "with open(\"var_dict.json\", \"r\") as f:\n",
        "  var_dict_loaded = json.load(f)\n",
        "\n",
        "# extract the variables from the dictionary\n",
        "batch_size_loaded = var_dict_loaded[\"batch_size\"]\n",
        "n_epochs_loaded = var_dict_loaded[\"n_epochs\"]\n",
        "loss_name_loaded = var_dict_loaded[\"loss_name\"]\n",
        "optimizer_name_loaded = var_dict_loaded[\"optimizer_name\"]\n",
        "scheduler_name_loaded = var_dict_loaded[\"scheduler_name\"]\n",
        "n_units_loaded = var_dict_loaded[\"n_units\"]\n",
        "n_layers_loaded = var_dict_loaded[\"n_layers\"]\n",
        "hidden_activation_name_loaded = var_dict_loaded[\"hidden_activation_name\"]\n",
        "output_activation_name_loaded = var_dict_loaded[\"output_activation_name\"]\n",
        "lr_loaded = var_dict_loaded[\"lr\"]\n",
        "dropout_rate_loaded = var_dict_loaded[\"dropout_rate\"]\n",
        "\n",
        "# Loading the activation functions with subparameters\n",
        "if hidden_activation_name_loaded == \"ReLU\":\n",
        "  hidden_activation_loaded = nn.ReLU()\n",
        "elif hidden_activation_name_loaded == \"LeakyReLU\":\n",
        "  negative_slope_loaded = var_dict_loaded.get(\"leakyrelu_slope\", 0.01)  # For backwards compatibiltiy with earlier models; default to 0.01 if not present\n",
        "  hidden_activation_loaded = nn.LeakyReLU(negative_slope=negative_slope_loaded)\n",
        "elif hidden_activation_name_loaded == \"ELU\":\n",
        "  hidden_activation_loaded = nn.ELU()\n",
        "elif hidden_activation_name_loaded == \"PReLU\":\n",
        "  init_loaded = var_dict_loaded.get(\"prelu_init\", 0.25)  # Default to 0.25 if not present\n",
        "  hidden_activation_loaded = nn.PReLU(init=init_loaded)\n",
        "elif hidden_activation_name_loaded == \"Swish\":\n",
        "    class Swish(nn.Module):\n",
        "        def forward(self, x):\n",
        "            return x * torch.sigmoid(x)\n",
        "    hidden_activation_loaded = Swish()\n",
        "elif hidden_activation_name_loaded == \"GELU\":\n",
        "    hidden_activation_loaded = nn.GELU()\n",
        "elif hidden_activation_name_loaded == \"SoftPlus\":\n",
        "  beta_loaded = var_dict_loaded.get(\"softplus_beta\", 1)  # Default to 1 if not present\n",
        "  hidden_activation_loaded = nn.Softplus(beta=beta_loaded)\n",
        "\n",
        "\n",
        "\n",
        "# We used to have options here, but since we have a regression problem with continuous output, we only use Linear.\n",
        "output_activation_loaded = nn.Identity()\n",
        "\n",
        "# load the network from the .pth file\n",
        "net_loaded = Net(\n",
        "    n_layers_loaded, \n",
        "    n_units_loaded, \n",
        "    hidden_activation_loaded, \n",
        "    output_activation_loaded, \n",
        "    dropout_rate_loaded\n",
        ").to(device)\n",
        "\n",
        "if torch.cuda.is_available():\n",
        " net_loaded.load_state_dict(torch.load(\"net.pth\"))\n",
        "else: \n",
        "  net_loaded.load_state_dict(torch.load(\"net.pth\", map_location=torch.device('cpu')))\n",
        "\n",
        "\n",
        "# Creating the loss function from its name\n",
        "if loss_name_loaded == \"MSE\":\n",
        "    loss_fn_loaded = nn.MSELoss()\n",
        "elif loss_name_loaded == \"MAE\":\n",
        "    loss_fn_loaded = nn.L1Loss()\n",
        "elif loss_name_loaded == \"Huber\":\n",
        "    loss_fn_loaded = nn.SmoothL1Loss() \n",
        "elif loss_name_loaded == \"Quantile\":\n",
        "    def quantile_loss(y_pred, y_true, q=0.5):\n",
        "        e = y_pred - y_true\n",
        "        return torch.mean(torch.max(q*e, (q-1)*e))\n",
        "    loss_fn_loaded = quantile_loss\n",
        "\n",
        "# load the optimizer from the .pth file\n",
        "if torch.cuda.is_available():\n",
        "  optimizer_loaded_state_dict = torch.load(\"optimizer.pth\")\n",
        "else:\n",
        "  optimizer_loaded_state_dict = torch.load(\"optimizer.pth\", map_location=torch.device('cpu'))\n",
        "\n",
        "if optimizer_name_loaded == \"SGD\":\n",
        "  # Added getting the weight decay and momentum parameters from the state dict\n",
        "  weight_decay_loaded = optimizer_loaded_state_dict[\"param_groups\"][0][\"weight_decay\"]\n",
        "  momentum_loaded = optimizer_loaded_state_dict[\"param_groups\"][0][\"momentum\"]\n",
        "  optimizer_loaded = optim.SGD(net_loaded.parameters(), lr=lr_loaded, weight_decay=weight_decay_loaded, momentum=momentum_loaded)\n",
        "elif optimizer_name_loaded == \"Adam\":\n",
        "  # Added getting the weight decay and beta parameters from the state dict\n",
        "  weight_decay_loaded = optimizer_loaded_state_dict[\"param_groups\"][0][\"weight_decay\"]\n",
        "  beta1_loaded = optimizer_loaded_state_dict[\"param_groups\"][0][\"betas\"][0]\n",
        "  beta2_loaded = optimizer_loaded_state_dict[\"param_groups\"][0][\"betas\"][1]\n",
        "  optimizer_loaded = optim.Adam(net_loaded.parameters(), lr=lr_loaded, weight_decay=weight_decay_loaded, betas=(beta1_loaded, beta2_loaded))\n",
        "elif optimizer_name_loaded == \"RMSprop\":\n",
        "  optimizer_loaded = optim.RMSprop(net_loaded.parameters(), lr=lr_loaded)\n",
        "elif optimizer_name_loaded == \"Adagrad\":\n",
        "  # Added loading the Adagrad optimizer\n",
        "  optimizer_loaded = optim.Adagrad(net_loaded.parameters(), lr=lr_loaded)\n",
        "optimizer_loaded.load_state_dict(optimizer_loaded_state_dict)\n",
        "\n",
        "# load the scheduler from the .pth file\n",
        "if torch.cuda.is_available():\n",
        "  scheduler_loaded_state_dict = torch.load(\"scheduler.pth\")\n",
        "else: \n",
        "  scheduler_loaded_state_dict = torch.load(\"scheduler.pth\", map_location=torch.device('cpu'))\n",
        "\n",
        "if scheduler_name_loaded == \"StepLR\":\n",
        "  # Added getting the step_size and gamma parameters from the state dict\n",
        "  step_size_loaded = scheduler_loaded_state_dict[\"step_size\"]\n",
        "  gamma_loaded = scheduler_loaded_state_dict[\"gamma\"]\n",
        "  scheduler_loaded = optim.lr_scheduler.StepLR(optimizer_loaded, step_size=step_size_loaded, gamma=gamma_loaded)\n",
        "elif scheduler_name_loaded == \"ExponentialLR\":\n",
        "  # Added getting the gamma parameter from the state dict\n",
        "  gamma_loaded = scheduler_loaded_state_dict[\"gamma\"]\n",
        "  scheduler_loaded = optim.lr_scheduler.ExponentialLR(optimizer_loaded, gamma=gamma_loaded)\n",
        "elif scheduler_name_loaded == \"CosineAnnealingLR\":\n",
        "  # Added getting the T_max parameter from the state dict\n",
        "  T_max_loaded = scheduler_loaded_state_dict[\"T_max\"]\n",
        "  scheduler_loaded = optim.lr_scheduler.CosineAnnealingLR(optimizer_loaded, T_max=T_max_loaded)\n",
        "elif scheduler_name_loaded == \"ReduceLROnPlateau\":\n",
        "  # Added getting the mode, factor, patience, threshold and min_lr parameters from the state dict\n",
        "  mode_loaded = scheduler_loaded_state_dict[\"mode\"]\n",
        "  factor_loaded = scheduler_loaded_state_dict[\"factor\"]\n",
        "  patience_loaded = scheduler_loaded_state_dict[\"patience\"]\n",
        "  threshold_loaded = scheduler_loaded_state_dict[\"threshold\"]\n",
        "  min_lr_loaded = scheduler_loaded_state_dict[\"min_lrs\"][0]\n",
        "  scheduler_loaded = optim.lr_scheduler.ReduceLROnPlateau(\n",
        "                    optimizer_loaded, mode=mode_loaded, factor=factor_loaded, patience=patience_loaded, threshold=threshold_loaded, min_lr=min_lr_loaded\n",
        "                )\n",
        "elif scheduler_name_loaded == \"CyclicLR\":  # Added CyclicLR\n",
        "    base_lr_loaded = scheduler_loaded_state_dict[\"base_lr\"]\n",
        "    max_lr_loaded = scheduler_loaded_state_dict[\"max_lr\"]\n",
        "    step_size_up_loaded = scheduler_loaded_state_dict[\"step_size_up\"]\n",
        "    scheduler_loaded = optim.lr_scheduler.CyclicLR(\n",
        "                    optimizer, base_lr=base_lr_loaded, max_lr=max_lr_loaded, step_size_up=step_size_up_loaded\n",
        "                )\n",
        "else:\n",
        "  scheduler_loaded = None\n",
        "\n",
        "if scheduler_loaded is not None:\n",
        "  # Added loading the state dict to the scheduler_loaded\n",
        "  scheduler_loaded.load_state_dict(scheduler_loaded_state_dict)\n",
        "\n",
        "# Loading the output of the training using pandas\n",
        "train_df_loaded = pd.read_csv(\"train_output.csv\")\n",
        "train_losses_loaded = train_df_loaded[\"train_loss\"].tolist()\n",
        "test_losses_loaded = train_df_loaded[\"test_loss\"].tolist()\n",
        "train_metrics_loaded = [\n",
        "    {\n",
        "        \"l1_norm\": train_df_loaded[\"train_l1_norm\"][i],\n",
        "        \"linf_norm\": train_df_loaded[\"train_linf_norm\"][i],\n",
        "    }\n",
        "    for i in range(len(train_df_loaded))\n",
        "]\n",
        "test_metrics_loaded = [\n",
        "    {\n",
        "        \"l1_norm\": train_df_loaded[\"test_l1_norm\"][i],\n",
        "        \"linf_norm\": train_df_loaded[\"test_linf_norm\"][i],\n",
        "    }\n",
        "    for i in range(len(train_df_loaded))\n",
        "]\n",
        "\n",
        "if STUDY_NAME is not None:\n",
        "  # Loading the study from the SQLite file\n",
        "  # TODO: Fix this one, or we just use pickle\n",
        "  # study_loaded_db = optuna.load_study(study_name=f'{STUDY_NAME}', \n",
        "  #                           storage=f'sqlite:///{STUDY_NAME}.db')\n",
        "\n",
        "  # Loading the study from the pickle file\n",
        "  with open(f'{STUDY_NAME}.pkl', 'rb') as f:\n",
        "      study_loaded_pkl = pickle.load(f)\n",
        "\n",
        "  # To load the best trial's parameters.\n",
        "  with open('best_trial_params.json', 'r') as f:\n",
        "      best_trial_params_loaded = json.load(f)"
      ]
    },
    {
      "cell_type": "code",
      "execution_count": null,
      "metadata": {
        "id": "n-4pZ2s64cnr"
      },
      "outputs": [],
      "source": [
        "# %%script echo skipping\n",
        "\n",
        "var_dict_loaded[\"batch_size\"]\n",
        "var_dict_loaded[\"n_epochs\"]\n",
        "var_dict_loaded[\"loss_name\"]\n",
        "var_dict_loaded[\"optimizer_name\"]\n",
        "var_dict_loaded[\"scheduler_name\"]\n",
        "var_dict_loaded[\"n_units\"]\n",
        "var_dict_loaded[\"n_layers\"]\n",
        "var_dict_loaded[\"hidden_activation_name\"]\n",
        "var_dict_loaded[\"output_activation_name\"]\n",
        "var_dict_loaded[\"lr\"]\n",
        "var_dict_loaded[\"dropout_rate\"]"
      ]
    },
    {
      "cell_type": "code",
      "source": [
        "if STUDY_NAME is not None:\n",
        "    study_loaded_pkl\n",
        "    study_loaded_pkl.best_params"
      ],
      "metadata": {
        "id": "A_b_VOaHVTqA"
      },
      "execution_count": null,
      "outputs": []
    },
    {
      "cell_type": "code",
      "execution_count": null,
      "metadata": {
        "id": "QQ0MKbI04cnr"
      },
      "outputs": [],
      "source": [
        "%%script echo skipping\n",
        "\n",
        "scheduler_loaded_state_dict[\"mode\"]\n",
        "scheduler_loaded_state_dict[\"factor\"]\n",
        "scheduler_loaded_state_dict[\"patience\"]\n",
        "scheduler_loaded_state_dict[\"threshold\"]\n",
        "scheduler_loaded_state_dict[\"min_lrs\"]\n",
        "\n",
        "\n",
        "scheduler_loaded_state_dict[\"base_lr\"]\n",
        "scheduler_loaded_state_dict[\"max_lr\"]\n",
        "scheduler_loaded_state_dict[\"step_size_up\"]"
      ]
    },
    {
      "cell_type": "code",
      "execution_count": null,
      "metadata": {
        "id": "bHMdkxsm4cnr"
      },
      "outputs": [],
      "source": [
        "# %%script echo skipping\n",
        "\n",
        "var_dict\n",
        "hidden_activation_name_loaded"
      ]
    },
    {
      "cell_type": "code",
      "execution_count": null,
      "metadata": {
        "id": "GQ_fcj7zUZii"
      },
      "outputs": [],
      "source": [
        "# %%script echo skipping\n",
        "\n",
        "if hidden_activation_name_loaded == \"LeakyReLU\":\n",
        "  var_dict_loaded[\"leakyrelu_slope\"]\n",
        "if hidden_activation_name_loaded == \"PReLU\":\n",
        "  var_dict_loaded[\"prelu_init\"]\n",
        "elif hidden_activation_name_loaded == \"SoftPlus\":\n",
        "  var_dict_loaded[\"softplus_beta\"]\n",
        "\n",
        "batch_size_loaded\n",
        "n_epochs_loaded\n",
        "loss_name_loaded\n",
        "optimizer_name_loaded\n",
        "scheduler_name_loaded\n",
        "n_units_loaded\n",
        "n_layers_loaded\n",
        "hidden_activation_name_loaded\n",
        "output_activation_name_loaded\n",
        "lr_loaded\n",
        "dropout_rate_loaded\n",
        "hidden_activation_loaded\n",
        "output_activation_loaded\n",
        "net_loaded\n",
        "net_loaded.__dict__ # print the subparameters of the network\n",
        "loss_fn_loaded\n",
        "optimizer_loaded\n",
        "optimizer_loaded.__dict__ # print the subparameters of the optimizer\n",
        "if scheduler_loaded is not None:\n",
        "  scheduler_loaded\n",
        "  scheduler_loaded.__dict__ # print the subparameters of the scheduler\n",
        "train_losses_loaded\n",
        "test_losses_loaded\n",
        "train_metrics_loaded\n",
        "test_metrics_loaded\n"
      ]
    },
    {
      "cell_type": "code",
      "execution_count": null,
      "metadata": {
        "id": "wIFp6xgs4cns"
      },
      "outputs": [],
      "source": [
        "train_losses_loaded[-1]\n",
        "test_losses_loaded[-1]\n",
        "test_metrics_loaded[-1]['l1_norm']\n",
        "test_metrics_loaded[-1]['linf_norm']\n",
        "# print(f'Error is {test_metrics_loaded[-1][\"l1_norm\"] / (3.84e-4)} times bigger than in Dieselhorst et al.')\n",
        "# print(f'Error is {test_metrics_loaded[-1][\"linf_norm\"] / (8.14e-3)} times bigger than in Dieselhorst et al.')"
      ]
    },
    {
      "cell_type": "markdown",
      "metadata": {
        "id": "OdOwEngu4cns"
      },
      "source": [
        "### Visualize loaded results"
      ]
    },
    {
      "cell_type": "markdown",
      "metadata": {
        "id": "vwLGR1aSUZik"
      },
      "source": [
        "Let us verify correct loading of the train and test metrics by visualizing them again but now through the loaded values. Likewise for the train and test losses."
      ]
    },
    {
      "cell_type": "code",
      "execution_count": null,
      "metadata": {
        "id": "sXiNgLsmUZil"
      },
      "outputs": [],
      "source": [
        "%config InteractiveShell.ast_node_interactivity = \"last_expr_or_assign\""
      ]
    },
    {
      "cell_type": "code",
      "execution_count": null,
      "metadata": {
        "id": "sgq4WfSiUZil"
      },
      "outputs": [],
      "source": [
        "# Plotting the losses and metrics for the best network plt.figure(figsize=(12, \n",
        "#plt.subplot(2, 2, 1)\n",
        "#plt.plot(train_losses_loaded, label=\"Train Loss\")\n",
        "#plt.plot(test_losses_loaded, label=\"Test Loss\")\n",
        "#plt.xlabel(\"Epoch\")\n",
        "#plt.ylabel(\"Loss\")\n",
        "#plt.legend()\n",
        "plt.subplot(2, 2, 2)\n",
        "plt.plot([m[\"l1_norm\"] for m in train_metrics_loaded], label=\"Train L1 Norm\")\n",
        "plt.plot([m[\"l1_norm\"] for m in test_metrics_loaded], label=\"Test L1 Norm\")\n",
        "plt.xlabel(\"Epoch\")\n",
        "plt.ylabel(\"L1 Norm\")\n",
        "# Added setting the vertical axis to be in powers of 10\n",
        "plt.yscale(\"log\")\n",
        "# Added setting the vertical axis limits to be from 10^-7 to 10^0\n",
        "plt.ylim(1e-3, 1e2)\n",
        "plt.legend()\n",
        "plt.subplot(2, 2, 3)\n",
        "plt.plot([m[\"linf_norm\"] for m in train_metrics_loaded], label=\"Train Linf Norm\")\n",
        "plt.plot([m[\"linf_norm\"] for m in test_metrics_loaded], label=\"Test Linf Norm\")\n",
        "plt.xlabel(\"Epoch\")\n",
        "plt.ylabel(\"Linf Norm\")\n",
        "# Added setting the vertical axis to be in powers of 10\n",
        "plt.yscale(\"log\")\n",
        "# Added setting the vertical axis limits to be from 10^-7 to 10^0\n",
        "plt.ylim(1e-3, 1e2)\n",
        "plt.legend()\n",
        "plt.tight_layout()\n",
        "plt.show()\n",
        "\n",
        "# Added plotting MSE of training data and MSE of test data in one plot \n",
        "plt.figure(figsize=(8, 6))\n",
        "plt.plot(train_losses_loaded,label=\"training data\")\n",
        "plt.plot(test_losses_loaded,label=\"test data\")\n",
        "#if scheduler is not None:\n",
        "#    plt.plot([scheduler.get_last_lr()[0] for _ in range(n_epochs)], label=\"Learning rate\") \n",
        "plt.xlabel(\"Epoch\")\n",
        "plt.ylabel(f\"{loss_name_loaded} Loss\")\n",
        "# Added setting the vertical axis to be in powers of 10\n",
        "plt.yscale(\"log\")\n",
        "# Added setting the vertical axis limits to be from 10^-7 to 10^0\n",
        "plt.ylim(1e-7, 1e0)\n",
        "plt.legend()\n",
        "plt.show()\n"
      ]
    },
    {
      "cell_type": "code",
      "execution_count": null,
      "metadata": {
        "id": "lkgLqJ_UUZim"
      },
      "outputs": [],
      "source": [
        "%config InteractiveShell.ast_node_interactivity = \"all\""
      ]
    },
    {
      "cell_type": "markdown",
      "metadata": {
        "id": "aotL4GJl4cnu"
      },
      "source": [
        "## Counting the number of parameters in the network."
      ]
    },
    {
      "cell_type": "code",
      "execution_count": null,
      "metadata": {
        "id": "_sQl2bTk4cnu"
      },
      "outputs": [],
      "source": [
        "net_loaded.eval()\n",
        "def count_parameters(model):\n",
        "    return sum(p.numel() for p in model.parameters() if p.requires_grad)\n",
        "print(f'The model has {count_parameters(net_loaded)} parameters.')"
      ]
    },
    {
      "cell_type": "markdown",
      "metadata": {
        "id": "SxuzVSnlUZin"
      },
      "source": [
        "## Evaluating the network on arbirary input\n",
        "### Comparing `net` and `net_loaded`\n",
        "\n",
        "We compare `net` and `net_loaded` to confirm correct loading of the network. Note that `net` is only available if we have trained the model in this session."
      ]
    },
    {
      "cell_type": "code",
      "execution_count": null,
      "metadata": {
        "id": "usq1X1KO4cnu"
      },
      "outputs": [],
      "source": [
        "#%%script echo skipping\n",
        "\n",
        "# Set the network to evaluation mode\n",
        "net.eval()"
      ]
    },
    {
      "cell_type": "code",
      "execution_count": null,
      "metadata": {
        "id": "-pwGJnzK4cnv"
      },
      "outputs": [],
      "source": [
        "# Set the network to evaluation mode\n",
        "net_loaded.eval"
      ]
    },
    {
      "cell_type": "code",
      "execution_count": null,
      "metadata": {
        "id": "vXaSZDzX4cnv"
      },
      "outputs": [],
      "source": [
        "for p1, p2 in zip(net.parameters(), net_loaded.parameters()):\n",
        "    if p1.data.ne(p2.data).sum() > 0:\n",
        "        print(\"Parameters are NOT the same.\")\n",
        "        break\n",
        "else:\n",
        "    print(\"Parameters are the same.\")\n",
        "\n",
        "print(\"Net device:\", next(net.parameters()).device)\n",
        "print(\"Net_loaded device:\", next(net_loaded.parameters()).device)"
      ]
    },
    {
      "cell_type": "code",
      "execution_count": null,
      "metadata": {
        "id": "C0PLAA0DUZin"
      },
      "outputs": [],
      "source": [
        "#%%script echo skipping\n",
        "\n",
        "print(list(net.parameters()))"
      ]
    },
    {
      "cell_type": "code",
      "execution_count": null,
      "metadata": {
        "id": "1NZ8iVA7UZio"
      },
      "outputs": [],
      "source": [
        "print(list(net_loaded.parameters()))"
      ]
    },
    {
      "cell_type": "code",
      "execution_count": null,
      "metadata": {
        "id": "InGW0Xq6UZip"
      },
      "outputs": [],
      "source": [
        "rho_example, epsilon_example, vx_example, vy_example, vz_example, Bx_example, By_example, Bz_example, gxx_example, gxy_example, gxz_example, gyy_example, gyz_example, gzz_example = generate_samples(20)\n",
        "\n",
        "inputs =  generate_input_data(rho_example, epsilon_example, vx_example, vy_example, vz_example, Bx_example, By_example, Bz_example, gxx_example, gxy_example, gxz_example, gyy_example, gyz_example, gzz_example)\n",
        "inputs\n"
      ]
    },
    {
      "cell_type": "code",
      "execution_count": null,
      "metadata": {
        "id": "QVa1upmFUZip"
      },
      "outputs": [],
      "source": [
        "#%%script echo skipping\n",
        "\n",
        "# Pass the inputs to the network and get the outputs\n",
        "outputs = [net(input.unsqueeze(0)) for input in inputs]\n",
        "# Print the outputs\n",
        "outputs"
      ]
    },
    {
      "cell_type": "code",
      "execution_count": null,
      "metadata": {
        "id": "E-Xjfo7VUZir"
      },
      "outputs": [],
      "source": [
        "\n",
        "# Pass the inputs to the network and get the outputs\n",
        "outputs = [net_loaded(input.unsqueeze(0)) for input in inputs]\n",
        "# Print the outputs\n",
        "outputs"
      ]
    },
    {
      "cell_type": "markdown",
      "metadata": {
        "id": "xjpIvdybUZis"
      },
      "source": [
        "## Porting the model to C++"
      ]
    },
    {
      "cell_type": "code",
      "execution_count": null,
      "metadata": {
        "id": "VMlEd4RoUZis"
      },
      "outputs": [],
      "source": [
        "import torch.jit\n",
        "\n",
        "# Creating a dummy input tensor of shape (1, 5) to trace the model\n",
        "dummy_input = torch.randn(1, N_INPUTS).to(device)\n",
        "\n",
        "# Ensure that net_loaded is in evaluation mode.\n",
        "net_loaded.eval()\n",
        "\n",
        "# Tracing the model using the torch.jit.trace function\n",
        "traced_model = torch.jit.trace(net_loaded, dummy_input)\n",
        "\n",
        "# Saving the traced model to a file named \"net.pt\"\n",
        "traced_model.save(\"net.pt\")\n",
        "save_file(\"net.pt\")\n",
        "\n",
        "example_input_to_validate_correct_export_and_import = generate_input_data(*generate_samples(1))\n",
        "print(\"input shape: \", example_input_to_validate_correct_export_and_import.shape)\n",
        "print(\"input: \", example_input_to_validate_correct_export_and_import)\n",
        "print(\"Output:\", net_loaded(example_input_to_validate_correct_export_and_import))"
      ]
    }
  ],
  "metadata": {
    "accelerator": "GPU",
    "colab": {
      "gpuType": "T4",
      "provenance": [],
      "toc_visible": true
    },
    "kernelspec": {
      "display_name": "Python 3",
      "name": "python3"
    },
    "language_info": {
      "codemirror_mode": {
        "name": "ipython",
        "version": 3
      },
      "file_extension": ".py",
      "mimetype": "text/x-python",
      "name": "python",
      "nbconvert_exporter": "python",
      "pygments_lexer": "ipython3",
      "version": "3.11.3"
    },
    "orig_nbformat": 4
  },
  "nbformat": 4,
  "nbformat_minor": 0
}