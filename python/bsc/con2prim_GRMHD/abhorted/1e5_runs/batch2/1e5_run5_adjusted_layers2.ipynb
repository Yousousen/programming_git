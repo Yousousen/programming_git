{
  "cells": [
    {
      "cell_type": "markdown",
      "metadata": {
        "id": "TPvB1xoSUZhR"
      },
      "source": [
        "# Neural network to learn conservative-to-primitive conversion in relativistic hydrodynamics"
      ]
    },
    {
      "cell_type": "markdown",
      "metadata": {
        "id": "__fLZmSf4cm7"
      },
      "source": [
        "## How to use this notebook\n",
        "\n",
        "### Local installation\n",
        "\n",
        "1. Install required packages with `pip install -r requirements.txt` to your desired environment.\n",
        "2. If a script version of this notebook is desired, comment (not uncomment) the first line of `nbconvert` cell.\n",
        "\n",
        "### Colab installation\n",
        "\n",
        "1.  Comment (not uncomment) the first line of the drive mounting cell.\n",
        "2.  Comment (not uncomment) the first line of the `pip install` cell.\n",
        "\n",
        "<!-- - For colab we also want to set the runtime to GPU by clicking _Change runtime_ in the _Runtime_ menu, and -->\n",
        "<!-- - We want to wait for the google drive connection popup to appear and follow the instructions. -->\n",
        "\n",
        "### Loading / Generating data\n",
        "3. Set `LOAD_DATA_FROM_CSV` to `True` / `False` to load data from csv files / generate data in this notebook.\n",
        "\n",
        "### Training without optimization\n",
        "\n",
        "4. Set `OPTIMIZE = False` in section _Constants and flags to set_.\n",
        "5. Run the entire notebook.\n",
        "\n",
        "### Training with optimization\n",
        "\n",
        "4. Set `OPTIMIZE = True` in section _Constants and flags to set_.\n",
        "5. Run the entire notebook.\n",
        "\n",
        "### Loading an already trained model\n",
        "\n",
        "4. Run cells in section _Initialization_.\n",
        "5. Run cells with definitions in section _Input data and labels_.\n",
        "6. Run cell with the definition of _Net_ in section _Defining the neural network_.\n",
        "7. Make sure the `net.pth`, `optimizer.pth`, `scheduler.pth`, `var_dict.json` and `train_output.csv` files are in the directory containing this notebook.\n",
        "8. Run the cells in section _Loading_ and continue from there.\n",
        "\n",
        "### Generating the C++ model\n",
        "\n",
        "9. Run section _Porting the model to C++_, this requires a model to be loaded.\n",
        "10. Set the path to the `net.pt` file in the C++ source file.\n",
        "11. `mkdir build && cd build`,\n",
        "12. Configure a `CMakeLists.txt` file as is done [here](https://pytorch.org/cppdocs/installing.html).\n",
        "13. `cmake -DCMAKE_PREFIX_PATH=/path/to/libtorch/ ..`,\n",
        "14. Compile and run, e.g. `cmake --build . --config release && ./<executable name>`"
      ]
    },
    {
      "cell_type": "markdown",
      "metadata": {
        "id": "Ix44VuOJ4cm9"
      },
      "source": [
        "## Initialization"
      ]
    },
    {
      "cell_type": "markdown",
      "metadata": {
        "id": "pKLcdI-F4cm_"
      },
      "source": [
        "\n",
        "Use this first cell to **convert this notebook** to a python script."
      ]
    },
    {
      "cell_type": "code",
      "execution_count": null,
      "metadata": {
        "colab": {
          "base_uri": "https://localhost:8080/"
        },
        "id": "eqdgdNLHUZhV",
        "outputId": "a96041be-a293-45e7-9903-da15ead225cb",
        "tags": [
          "remove_cell"
        ]
      },
      "outputs": [
        {
          "output_type": "stream",
          "name": "stdout",
          "text": [
            "skipping\n"
          ]
        }
      ],
      "source": [
        "%%script echo skipping\n",
        "\n",
        "!jupyter nbconvert GRMHD_ML.ipynb --TagRemovePreprocessor.enabled=True --TagRemovePreprocessor.remove_cell_tags='{\"remove_cell\"}' --to script"
      ]
    },
    {
      "cell_type": "markdown",
      "metadata": {
        "id": "nzcUr0LnUZhw"
      },
      "source": [
        "Next some cells for working on **google colab**,"
      ]
    },
    {
      "cell_type": "code",
      "execution_count": null,
      "metadata": {
        "id": "6VBGn-gc4cnD"
      },
      "outputs": [],
      "source": [
        "import os\n",
        "import shutil\n",
        "\n",
        "# check if the drive is mounted\n",
        "drive_mounted = os.path.exists(\"/content/drive\")\n",
        "# change this to your desired folder\n",
        "drive_folder = \"/content/drive/My Drive/bsc/con2prim_GRMHD/1e5_runs/adjusted_layers2\"\n",
        "\n",
        "# define a function to save a file to the drive or the current directory\n",
        "def save_file(file_name):\n",
        "  if drive_mounted:\n",
        "    # save the file to the drive folder\n",
        "    file_path = os.path.join(drive_folder, file_name)\n",
        "    # copy the file from the current directory to the drive folder\n",
        "    shutil.copyfile(file_name, file_path)\n",
        "  else:\n",
        "    # do nothing as the file is already in the current directory\n",
        "    pass\n"
      ]
    },
    {
      "cell_type": "code",
      "execution_count": null,
      "metadata": {
        "id": "ecHw2_xlUZhx",
        "colab": {
          "base_uri": "https://localhost:8080/"
        },
        "outputId": "a26a7fab-482b-476d-8c53-0eafa603b28d"
      },
      "outputs": [
        {
          "output_type": "stream",
          "name": "stdout",
          "text": [
            "Mounted at /content/drive\n"
          ]
        }
      ],
      "source": [
        "#%%script echo skipping\n",
        "\n",
        "from google.colab import drive\n",
        "drive.mount('/content/drive')"
      ]
    },
    {
      "cell_type": "code",
      "execution_count": null,
      "metadata": {
        "id": "T1rcStMLUZhy",
        "colab": {
          "base_uri": "https://localhost:8080/"
        },
        "outputId": "028aab13-efd1-4552-f3cc-999333998383"
      },
      "outputs": [
        {
          "output_type": "stream",
          "name": "stdout",
          "text": [
            "Looking in indexes: https://pypi.org/simple, https://us-python.pkg.dev/colab-wheels/public/simple/\n",
            "Collecting optuna\n",
            "  Downloading optuna-3.2.0-py3-none-any.whl (390 kB)\n",
            "\u001b[2K     \u001b[90m━━━━━━━━━━━━━━━━━━━━━━━━━━━━━━━━━━━━━━━\u001b[0m \u001b[32m390.6/390.6 kB\u001b[0m \u001b[31m7.9 MB/s\u001b[0m eta \u001b[36m0:00:00\u001b[0m\n",
            "\u001b[?25hRequirement already satisfied: tensorboard in /usr/local/lib/python3.10/dist-packages (2.12.2)\n",
            "Collecting tensorboardX\n",
            "  Downloading tensorboardX-2.6-py2.py3-none-any.whl (114 kB)\n",
            "\u001b[2K     \u001b[90m━━━━━━━━━━━━━━━━━━━━━━━━━━━━━━━━━━━━━━\u001b[0m \u001b[32m114.5/114.5 kB\u001b[0m \u001b[31m16.9 MB/s\u001b[0m eta \u001b[36m0:00:00\u001b[0m\n",
            "\u001b[?25hCollecting alembic>=1.5.0 (from optuna)\n",
            "  Downloading alembic-1.11.1-py3-none-any.whl (224 kB)\n",
            "\u001b[2K     \u001b[90m━━━━━━━━━━━━━━━━━━━━━━━━━━━━━━━━━━━━━━\u001b[0m \u001b[32m224.5/224.5 kB\u001b[0m \u001b[31m28.1 MB/s\u001b[0m eta \u001b[36m0:00:00\u001b[0m\n",
            "\u001b[?25hCollecting cmaes>=0.9.1 (from optuna)\n",
            "  Downloading cmaes-0.9.1-py3-none-any.whl (21 kB)\n",
            "Collecting colorlog (from optuna)\n",
            "  Downloading colorlog-6.7.0-py2.py3-none-any.whl (11 kB)\n",
            "Requirement already satisfied: numpy in /usr/local/lib/python3.10/dist-packages (from optuna) (1.22.4)\n",
            "Requirement already satisfied: packaging>=20.0 in /usr/local/lib/python3.10/dist-packages (from optuna) (23.1)\n",
            "Requirement already satisfied: sqlalchemy>=1.3.0 in /usr/local/lib/python3.10/dist-packages (from optuna) (2.0.10)\n",
            "Requirement already satisfied: tqdm in /usr/local/lib/python3.10/dist-packages (from optuna) (4.65.0)\n",
            "Requirement already satisfied: PyYAML in /usr/local/lib/python3.10/dist-packages (from optuna) (6.0)\n",
            "Requirement already satisfied: absl-py>=0.4 in /usr/local/lib/python3.10/dist-packages (from tensorboard) (1.4.0)\n",
            "Requirement already satisfied: grpcio>=1.48.2 in /usr/local/lib/python3.10/dist-packages (from tensorboard) (1.54.0)\n",
            "Requirement already satisfied: google-auth<3,>=1.6.3 in /usr/local/lib/python3.10/dist-packages (from tensorboard) (2.17.3)\n",
            "Requirement already satisfied: google-auth-oauthlib<1.1,>=0.5 in /usr/local/lib/python3.10/dist-packages (from tensorboard) (1.0.0)\n",
            "Requirement already satisfied: markdown>=2.6.8 in /usr/local/lib/python3.10/dist-packages (from tensorboard) (3.4.3)\n",
            "Requirement already satisfied: protobuf>=3.19.6 in /usr/local/lib/python3.10/dist-packages (from tensorboard) (3.20.3)\n",
            "Requirement already satisfied: requests<3,>=2.21.0 in /usr/local/lib/python3.10/dist-packages (from tensorboard) (2.27.1)\n",
            "Requirement already satisfied: setuptools>=41.0.0 in /usr/local/lib/python3.10/dist-packages (from tensorboard) (67.7.2)\n",
            "Requirement already satisfied: tensorboard-data-server<0.8.0,>=0.7.0 in /usr/local/lib/python3.10/dist-packages (from tensorboard) (0.7.0)\n",
            "Requirement already satisfied: tensorboard-plugin-wit>=1.6.0 in /usr/local/lib/python3.10/dist-packages (from tensorboard) (1.8.1)\n",
            "Requirement already satisfied: werkzeug>=1.0.1 in /usr/local/lib/python3.10/dist-packages (from tensorboard) (2.3.0)\n",
            "Requirement already satisfied: wheel>=0.26 in /usr/local/lib/python3.10/dist-packages (from tensorboard) (0.40.0)\n",
            "Collecting Mako (from alembic>=1.5.0->optuna)\n",
            "  Downloading Mako-1.2.4-py3-none-any.whl (78 kB)\n",
            "\u001b[2K     \u001b[90m━━━━━━━━━━━━━━━━━━━━━━━━━━━━━━━━━━━━━━━━\u001b[0m \u001b[32m78.7/78.7 kB\u001b[0m \u001b[31m12.2 MB/s\u001b[0m eta \u001b[36m0:00:00\u001b[0m\n",
            "\u001b[?25hRequirement already satisfied: typing-extensions>=4 in /usr/local/lib/python3.10/dist-packages (from alembic>=1.5.0->optuna) (4.5.0)\n",
            "Requirement already satisfied: cachetools<6.0,>=2.0.0 in /usr/local/lib/python3.10/dist-packages (from google-auth<3,>=1.6.3->tensorboard) (5.3.0)\n",
            "Requirement already satisfied: pyasn1-modules>=0.2.1 in /usr/local/lib/python3.10/dist-packages (from google-auth<3,>=1.6.3->tensorboard) (0.3.0)\n",
            "Requirement already satisfied: six>=1.9.0 in /usr/local/lib/python3.10/dist-packages (from google-auth<3,>=1.6.3->tensorboard) (1.16.0)\n",
            "Requirement already satisfied: rsa<5,>=3.1.4 in /usr/local/lib/python3.10/dist-packages (from google-auth<3,>=1.6.3->tensorboard) (4.9)\n",
            "Requirement already satisfied: requests-oauthlib>=0.7.0 in /usr/local/lib/python3.10/dist-packages (from google-auth-oauthlib<1.1,>=0.5->tensorboard) (1.3.1)\n",
            "Requirement already satisfied: urllib3<1.27,>=1.21.1 in /usr/local/lib/python3.10/dist-packages (from requests<3,>=2.21.0->tensorboard) (1.26.15)\n",
            "Requirement already satisfied: certifi>=2017.4.17 in /usr/local/lib/python3.10/dist-packages (from requests<3,>=2.21.0->tensorboard) (2022.12.7)\n",
            "Requirement already satisfied: charset-normalizer~=2.0.0 in /usr/local/lib/python3.10/dist-packages (from requests<3,>=2.21.0->tensorboard) (2.0.12)\n",
            "Requirement already satisfied: idna<4,>=2.5 in /usr/local/lib/python3.10/dist-packages (from requests<3,>=2.21.0->tensorboard) (3.4)\n",
            "Requirement already satisfied: greenlet!=0.4.17 in /usr/local/lib/python3.10/dist-packages (from sqlalchemy>=1.3.0->optuna) (2.0.2)\n",
            "Requirement already satisfied: MarkupSafe>=2.1.1 in /usr/local/lib/python3.10/dist-packages (from werkzeug>=1.0.1->tensorboard) (2.1.2)\n",
            "Requirement already satisfied: pyasn1<0.6.0,>=0.4.6 in /usr/local/lib/python3.10/dist-packages (from pyasn1-modules>=0.2.1->google-auth<3,>=1.6.3->tensorboard) (0.5.0)\n",
            "Requirement already satisfied: oauthlib>=3.0.0 in /usr/local/lib/python3.10/dist-packages (from requests-oauthlib>=0.7.0->google-auth-oauthlib<1.1,>=0.5->tensorboard) (3.2.2)\n",
            "Installing collected packages: tensorboardX, Mako, colorlog, cmaes, alembic, optuna\n",
            "Successfully installed Mako-1.2.4 alembic-1.11.1 cmaes-0.9.1 colorlog-6.7.0 optuna-3.2.0 tensorboardX-2.6\n"
          ]
        }
      ],
      "source": [
        "#%%script echo skipping\n",
        "\n",
        "!pip install optuna tensorboard tensorboardX"
      ]
    },
    {
      "cell_type": "markdown",
      "metadata": {
        "id": "msDldnu_4cnF"
      },
      "source": [
        "Importing the **libraries**,"
      ]
    },
    {
      "cell_type": "code",
      "execution_count": null,
      "metadata": {
        "id": "tREdWQUVUZhz"
      },
      "outputs": [],
      "source": [
        "import numpy as np\n",
        "import matplotlib.pyplot as plt\n",
        "import torch\n",
        "import torch.nn as nn\n",
        "import torch.optim as optim\n",
        "import torch.nn.functional as F\n",
        "import optuna\n",
        "import tensorboardX as tbx\n",
        "import pandas as pd"
      ]
    },
    {
      "cell_type": "markdown",
      "metadata": {
        "id": "38GvmerjUZhz"
      },
      "source": [
        "### Constants and flags to set\n",
        "Defining some constants and parameters for convenience.\n",
        "\n",
        "**NOTE**: Some **subparameters** still need to be adjusted in the `create_model` function itself as of (Tue May 16 07:42:45 AM CEST 2023) in the case the model is being trained without optimization."
      ]
    },
    {
      "cell_type": "code",
      "execution_count": null,
      "metadata": {
        "id": "ei6VZDYKUZh0"
      },
      "outputs": [],
      "source": [
        "\n",
        "# Checking if GPU is available and setting the device accordingly\n",
        "device = torch.device(\"cuda\" if torch.cuda.is_available() else \"cpu\")\n",
        "\n",
        "N_TRIALS = 300 # Number of trials for hyperparameter optimization # NOTE: Set this properly.\n",
        "OPTIMIZE = True # Whether to optimize the hyperparameters or to use predetermined values. # NOTE: Set this properly.\n",
        "ZSCORE_NORMALIZATION = False # Whether to z-score normalize the input data.\n",
        "LOAD_DATA_FROM_CSV = False  # If not true we generate the data in this file and save to {x_train,y_train,x_test,y_test}.csv, otherwise we load the data from files of the same name. # NOTE: Set this before properly.\n",
        "\n",
        "csv_filenames = { # File names to load input data and labels from if LOAD_DATA_FROM_CSV is True.\n",
        "    \"x_train\": \"x_train.csv\",\n",
        "    \"x_val\": \"x_val.csv\",\n",
        "    \"x_test\": \"x_test.csv\",\n",
        "    \"y_train\": \"y_train.csv\",\n",
        "    \"y_val\": \"y_val.csv\",\n",
        "    \"y_test\": \"y_test.csv\",\n",
        "}\n",
        "\n",
        "# Values to use for hyperparameters if OPTIMIZE is False; set these to the best parameters found by Optuna.\n",
        "# NOTE: TODO: Currently (Sat May 27 05:16:57 PM CEST 2023) there are still subparameters to be set in create_model function.\n",
        "N_LAYERS_NO_OPT = 3\n",
        "N_UNITS_NO_OPT = [555, 458, 115]\n",
        "HIDDEN_ACTIVATION_NAME_NO_OPT = \"LeakyReLU\"\n",
        "OUTPUT_ACTIVATION_NAME_NO_OPT = \"Linear\"\n",
        "LOSS_NAME_NO_OPT = \"Huber\"\n",
        "OPTIMIZER_NAME_NO_OPT = \"RMSprop\"\n",
        "LR_NO_OPT = 0.000122770896701404\n",
        "BATCH_SIZE_NO_OPT = 49\n",
        "N_EPOCHS_NO_OPT = 500 # NOTE: Set this properly.\n",
        "SCHEDULER_NAME_NO_OPT = \"ReduceLROnPlateau\"\n",
        "DROPOUT_RATE_NO_OPT = 0.2\n",
        "\n",
        "N_INPUTS = 14  # Number of input features.\n",
        "N_OUTPUTS = 1  # Number of outputs.\n",
        "Gamma = 5/3  # Adiabatic index\n",
        "\n",
        "n_samples = 1e5 # NOTE: Set this properly.\n",
        "train_frac = 0.7  # 70% of data for training\n",
        "val_frac = 0.15  # 15% of data for validation, rest for testing\n",
        "\n",
        "rho_interval = (0, 2) \n",
        "epsilon_interval = (1e-2, 2000)  # Will be sampled in log space\n",
        "vx_interval = (0, 0.999)  \n",
        "vy_interval = (0, 0.999)  \n",
        "vz_interval = (0, 0.999)  \n",
        "Bx_interval = (-10, 10)  \n",
        "By_interval = (-10, 10)  \n",
        "Bz_interval = (-10, 10)  \n",
        "gxx_interval = (0.9, 1.1)\n",
        "gxy_interval = (0, 0.1)\n",
        "gxz_interval = (0, 0.1)\n",
        "gyy_interval = (0.9, 1.1)\n",
        "gyz_interval = (0, 0.1)\n",
        "gzz_interval = (0.9, 1.1)\n",
        "\n",
        "np.random.seed(73) # Comment for true random data.\n"
      ]
    },
    {
      "cell_type": "markdown",
      "metadata": {
        "id": "dlaP5UL2UZh1"
      },
      "source": [
        "## Input data and labels\n",
        "\n",
        "We either generate the data or load the data. First the definitions for generating the data come below."
      ]
    },
    {
      "cell_type": "code",
      "execution_count": null,
      "metadata": {
        "id": "s_EvGFZcUZh1"
      },
      "outputs": [],
      "source": [
        "# Defining an analytic equation of state (EOS) for an ideal gas\n",
        "def eos_analytic(rho, epsilon):\n",
        "    # Adding some assertions to check that the input tensors are valid and have \n",
        "    # the expected shape and type \n",
        "    assert isinstance(rho, torch.Tensor), \"rho must be a torch.Tensor\"\n",
        "    assert isinstance(epsilon, torch.Tensor), \"epsilon must be a torch.Tensor\"\n",
        "    print('rho.shape: ', rho.shape)\n",
        "    print('epsilon.shape: ', epsilon.shape)\n",
        "    assert rho.shape == epsilon.shape, \"rho and epsilon must have the same shape\"\n",
        "    assert rho.ndim == 1, \"rho and epsilon must be one-dimensional tensors\"\n",
        "    assert rho.dtype == torch.float32, \"rho and epsilon must have dtype torch.float32\"\n",
        "\n",
        "    return (Gamma - 1) * rho * epsilon\n",
        "\n",
        "def sample_primitive_variables_and_metric():\n",
        "    rho = np.random.uniform(*rho_interval)  \n",
        "    epsilon = np.random.uniform(*np.log10(epsilon_interval))\n",
        "    vx = np.random.uniform(*vx_interval)  \n",
        "    vy = np.random.uniform(*vy_interval)  \n",
        "    vz = np.random.uniform(*vz_interval)  \n",
        "    Bx = np.random.uniform(*Bx_interval)  \n",
        "    By = np.random.uniform(*By_interval)  \n",
        "    Bz = np.random.uniform(*Bz_interval)  \n",
        "    gxx = np.random.uniform(*gxx_interval)\n",
        "    gxy = np.random.uniform(*gxy_interval)\n",
        "    gxz = np.random.uniform(*gxz_interval)\n",
        "    gyy = np.random.uniform(*gyy_interval)\n",
        "    gyz = np.random.uniform(*gyz_interval)\n",
        "    gzz = np.random.uniform(*gzz_interval)\n",
        "\n",
        "    return rho, epsilon, vx, vy, vz, Bx, By, Bz, gxx, gxy, gxz, gyy, gyz, gzz\n",
        "\n",
        "def check_sample(rho, epsilon, vx, vy, vz, Bx, By, Bz, gxx, gxy, gxz, gyy, gyz, gzz):\n",
        "    wtemp_expr = 1 - (gxx * vx**2 + gyy * vy**2 + gzz * vz**2 + 2 * gxy * vx * vy + 2 * gxz * vx * vz + 2 * gyz * vy * vz)\n",
        "    sdet_expr = gxx * gyy * gzz + 2 * gxy * gxz * gyz - gxx * gyz ** 2 - gyy * gxz ** 2 - gzz * gxy ** 2\n",
        "    if vx**2 + vy**2 + vz**2 >= 1 or wtemp_expr < 0 or sdet_expr < 0:\n",
        "        # print(f\"Sample failed checks. vx^2+vy^2+vz^2: {vx**2 + vy**2 + vz**2}, wtemp_expr: {wtemp_expr}, sdet_expr: {sdet_expr}\")\n",
        "        return False\n",
        "    else:\n",
        "        # print(f\"Sample passed checks. vx^2+vy^2+vz^2: {vx**2 + vy**2 + vz**2}, wtemp_expr: {wtemp_expr}, sdet_expr: {sdet_expr}\")\n",
        "        return True\n",
        "\n",
        "def generate_samples(n_samples):\n",
        "    samples = []\n",
        "    while len(samples) < n_samples:\n",
        "        sample = sample_primitive_variables_and_metric()\n",
        "        if check_sample(*sample):\n",
        "            samples.append(sample)\n",
        "        # print(f\"Number of valid samples: {len(samples)}\")\n",
        "    return zip(*samples)\n",
        "def sdet(gxx, gxy, gxz, gyy, gyz, gzz):\n",
        "    # Determinant of the three metric.\n",
        "    return (gxx * gyy * gzz + 2 * gxy * gxz * gyz - gxx * gyz ** 2 - gyy * gxz ** 2 - gzz * gxy ** 2) ** 0.5\n",
        "\n",
        "# Defining a function that computes conserved variables from primitive variables and the metric\n",
        "# We follow the source code of GRaM-X: A new GPU-accelerated dynamical spacetime GRMHD code for Exascale\n",
        "# computing with the Einstein Toolkit of Shankar et al.\n",
        "def compute_conserved_variables(rho, epsilon, vx, vy, vz, Bx, By, Bz, gxx, gxy, gxz, gyy, gyz, gzz):\n",
        "    pres = eos_analytic(rho, epsilon)\n",
        "    wtemp = 1 / (1 - (gxx * vx**2 + gyy * vy**2 + gzz * vz**2 +\n",
        "        2 * gxy * vx * vy + 2 * gxz * vx * vz +\n",
        "        2 * gyz * vy * vz))**0.5\n",
        "\n",
        "    vlowx = gxx * vx + gxy * vy + gxz * vz\n",
        "    vlowy = gxy * vx + gyy * vy + gyz * vz\n",
        "    vlowz = gxz * vx + gyz * vy + gzz * vz\n",
        "\n",
        "    Bxlow = gxx * Bx + gxy * By + gxz * Bz\n",
        "    Bylow = gxy * Bx + gyy * By + gyz * Bz\n",
        "    Bzlow = gxz * Bx + gyz * By + gzz * Bz\n",
        "\n",
        "    B2 = Bxlow * Bx + Bylow * By + Bzlow * Bz\n",
        "\n",
        "    Bdotv = Bxlow * vx + Bylow * vy + Bzlow * vz\n",
        "    Bdotv2 = Bdotv * Bdotv\n",
        "    wtemp2 = wtemp * wtemp\n",
        "    b2 = B2 / wtemp2 + Bdotv2\n",
        "    ab0 = wtemp * Bdotv\n",
        "\n",
        "    blowx = (gxx * Bx + gxy * By + gxz * Bz) / wtemp + wtemp * Bdotv * vlowx\n",
        "    blowy = (gxy * Bx + gyy * By + gyz * Bz) / wtemp + wtemp * Bdotv * vlowy\n",
        "    blowz = (gxz * Bx + gyz * By + gzz * Bz) / wtemp + wtemp * Bdotv * vlowz\n",
        "\n",
        "    hrhow2 = (rho * (1 + epsilon) + pres + b2) * (wtemp) * (wtemp)\n",
        "\n",
        "    D = sdet(gxx, gxy, gxz, gyy, gyz, gzz) * rho * (wtemp)\n",
        "    Sx = sdet(gxx, gxy, gxz, gyy, gyz, gzz) * (hrhow2 * vlowx - ab0 * blowx)\n",
        "    Sy = sdet(gxx, gxy, gxz, gyy, gyz, gzz) * (hrhow2 * vlowy - ab0 * blowy)\n",
        "    Sz = sdet(gxx, gxy, gxz, gyy, gyz, gzz) * (hrhow2 * vlowz - ab0 * blowz)\n",
        "    tau = sdet(gxx, gxy, gxz, gyy, gyz, gzz) * (hrhow2 - pres - b2 / 2 - ab0 * ab0) - D\n",
        "    Bconsx = sdet(gxx, gxy, gxz, gyy, gyz, gzz) * Bx\n",
        "    Bconsy = sdet(gxx, gxy, gxz, gyy, gyz, gzz) * By\n",
        "    Bconsz = sdet(gxx, gxy, gxz, gyy, gyz, gzz) * Bz\n",
        "\n",
        "    return D, Sx, Sy, Sz, tau, Bconsx, Bconsy, Bconsz\n",
        "\n",
        "def generate_input_data(rho, epsilon, vx, vy, vz, Bx, By, Bz, gxx, gxy, gxz, gyy, gyz, gzz):\n",
        "    rho = torch.tensor(np.array(rho), dtype=torch.float32).to(device)\n",
        "    epsilon = torch.tensor(np.array(epsilon), dtype=torch.float32).to(device)\n",
        "    vx = torch.tensor(np.array(vx), dtype=torch.float32).to(device)\n",
        "    vy = torch.tensor(np.array(vy), dtype=torch.float32).to(device)\n",
        "    vz = torch.tensor(np.array(vz), dtype=torch.float32).to(device)\n",
        "    Bx = torch.tensor(np.array(Bx), dtype=torch.float32).to(device)\n",
        "    By = torch.tensor(np.array(By), dtype=torch.float32).to(device)\n",
        "    Bz = torch.tensor(np.array(Bz), dtype=torch.float32).to(device)\n",
        "    gxx = torch.tensor(np.array(gxx), dtype=torch.float32).to(device)\n",
        "    gxy = torch.tensor(np.array(gxy), dtype=torch.float32).to(device)\n",
        "    gxz = torch.tensor(np.array(gxz), dtype=torch.float32).to(device)\n",
        "    gyy = torch.tensor(np.array(gyy), dtype=torch.float32).to(device)\n",
        "    gyz = torch.tensor(np.array(gyz), dtype=torch.float32).to(device)\n",
        "    gzz = torch.tensor(np.array(gzz), dtype=torch.float32).to(device)\n",
        "\n",
        "    D, Sx, Sy, Sz, tau, Bscriptx, Bscripty, Bscriptz = compute_conserved_variables(\n",
        "        rho, epsilon, vx, vy, vz, Bx, By, Bz, gxx, gxy, gxz, gyy, gyz, gzz\n",
        "    ) \n",
        "\n",
        "    # Add gxx, gxy, gxz, gyy, gyz, gzz to the tensor\n",
        "    x = torch.stack([D, Sx, Sy, Sz, tau, Bscriptx, Bscripty, Bscriptz, gxx, gxy, gxz, gyy, gyz, gzz], axis=1)\n",
        "    return x\n",
        "\n",
        "# Defining a function that generates output data (labels) from given samples of primitive variables\n",
        "# We use the definitions as given in Recovery schemes for primitive variables in\n",
        "# general-relativistic magnetohydrodynamics of Siegel et al.\n",
        "def generate_labels(rho, epsilon, vx, vy, vz):\n",
        "    # Converting the numpy arrays to torch tensors and moving them to the device\n",
        "    rho = torch.tensor(np.array(rho), dtype=torch.float32).to(device)\n",
        "    epsilon = torch.tensor(np.array(epsilon), dtype=torch.float32).to(device)\n",
        "    vx = torch.tensor(np.array(vx), dtype=torch.float32).to(device)\n",
        "    vy = torch.tensor(np.array(vy), dtype=torch.float32).to(device)\n",
        "    vz = torch.tensor(np.array(vz), dtype=torch.float32).to(device)\n",
        "\n",
        "    # Computing the required quantities\n",
        "    pres = eos_analytic(rho, epsilon)\n",
        "    h = 1 + epsilon + pres / rho\n",
        "    W = 1 / torch.sqrt(1 - (vx * vx + vy * vy + vz * vz))\n",
        "\n",
        "    # Returning the output data tensor\n",
        "    return h * W"
      ]
    },
    {
      "cell_type": "markdown",
      "metadata": {
        "id": "SSJd2Ch74cnI"
      },
      "source": [
        "### Generating or loading input data and labels"
      ]
    },
    {
      "cell_type": "code",
      "execution_count": null,
      "metadata": {
        "id": "Dbu0GvMz4cnI"
      },
      "outputs": [],
      "source": [
        "%config InteractiveShell.ast_node_interactivity = \"all\""
      ]
    },
    {
      "cell_type": "code",
      "execution_count": null,
      "metadata": {
        "id": "cKubR6C8UZh4"
      },
      "outputs": [],
      "source": [
        "if LOAD_DATA_FROM_CSV:\n",
        "    # Load the data from CSV files\n",
        "    x_train = pd.read_csv(csv_filenames[\"x_train\"]).values\n",
        "    y_train = pd.read_csv(csv_filenames[\"y_train\"]).values.squeeze()  # reshape to 1D\n",
        "    x_val = pd.read_csv(csv_filenames[\"x_val\"]).values\n",
        "    y_val = pd.read_csv(csv_filenames[\"y_val\"]).values.squeeze()  # reshape to 1D\n",
        "    x_test = pd.read_csv(csv_filenames[\"x_test\"]).values\n",
        "    y_test = pd.read_csv(csv_filenames[\"y_test\"]).values.squeeze()  # reshape to 1D\n",
        "\n",
        "    # Convert numpy arrays to tensors\n",
        "    x_train = torch.from_numpy(x_train).float().to(device)\n",
        "    y_train = torch.from_numpy(y_train).float().to(device)\n",
        "    x_val = torch.from_numpy(x_val).float().to(device)\n",
        "    y_val = torch.from_numpy(y_val).float().to(device)\n",
        "    x_test = torch.from_numpy(x_test).float().to(device)\n",
        "    y_test = torch.from_numpy(y_test).float().to(device)\n",
        "\n",
        "    # This is an alternative to having if clauses around the cells that visualize these variables.\n",
        "    rho = epsilon = vx = vy = vz = Bx = By = Bz = gxx = gxy = gxz = gyy = gyz  = gzz = None"
      ]
    },
    {
      "cell_type": "code",
      "execution_count": null,
      "metadata": {
        "id": "dImVa4W04cnJ"
      },
      "outputs": [],
      "source": [
        "if not LOAD_DATA_FROM_CSV:\n",
        "    # Sample primitive variables and metric\n",
        "    rho, epsilon, vx, vy, vz, Bx, By, Bz, gxx, gxy, gxz, gyy, gyz, gzz = generate_samples(n_samples)"
      ]
    },
    {
      "cell_type": "code",
      "execution_count": null,
      "metadata": {
        "id": "ESK3LQPg4cnJ",
        "colab": {
          "base_uri": "https://localhost:8080/"
        },
        "outputId": "55c4bc5f-c0be-4b03-a9c3-6c8bd703093c"
      },
      "outputs": [
        {
          "output_type": "stream",
          "name": "stdout",
          "text": [
            "rho.shape:  torch.Size([100000])\n",
            "epsilon.shape:  torch.Size([100000])\n",
            "rho.shape:  torch.Size([100000])\n",
            "epsilon.shape:  torch.Size([100000])\n"
          ]
        }
      ],
      "source": [
        "if not LOAD_DATA_FROM_CSV:\n",
        "    # Generate data and labels.\n",
        "    x = generate_input_data(rho, epsilon, vx, vy, vz, Bx, By, Bz, gxx, gxy, gxz, gyy, gyz, gzz)\n",
        "    y = generate_labels(rho, epsilon, vx, vy, vz)\n",
        "\n",
        "    # Calculate the number of samples in each set\n",
        "    n_train_samples = int(n_samples * train_frac)\n",
        "    n_val_samples = int(n_samples * val_frac)\n",
        "\n",
        "    # Create the data sets\n",
        "    x_train = x[:n_train_samples]\n",
        "    y_train = y[:n_train_samples]\n",
        "    x_val = x[n_train_samples : n_train_samples + n_val_samples]\n",
        "    y_val = y[n_train_samples : n_train_samples + n_val_samples]\n",
        "    x_test = x[n_train_samples + n_val_samples :]\n",
        "    y_test = y[n_train_samples + n_val_samples :]\n",
        "\n",
        "    # Save the data to CSV files; tensors need to be converted numpy arrays for saving in CSV.\n",
        "    pd.DataFrame(x_train.cpu().numpy()).to_csv(csv_filenames[\"x_train\"], index=False)\n",
        "    save_file(csv_filenames[\"x_train\"])\n",
        "    pd.DataFrame(y_train.cpu().numpy()).to_csv(csv_filenames[\"y_train\"], index=False)\n",
        "    save_file(csv_filenames[\"y_train\"])\n",
        "\n",
        "    pd.DataFrame(x_val.cpu().numpy()).to_csv(csv_filenames[\"x_val\"], index=False)\n",
        "    save_file(csv_filenames[\"x_val\"])\n",
        "    pd.DataFrame(y_val.cpu().numpy()).to_csv(csv_filenames[\"y_val\"], index=False)\n",
        "    save_file(csv_filenames[\"y_val\"])\n",
        "\n",
        "    pd.DataFrame(x_test.cpu().numpy()).to_csv(csv_filenames[\"x_test\"], index=False)\n",
        "    save_file(csv_filenames[\"x_test\"])\n",
        "    pd.DataFrame(y_test.cpu().numpy()).to_csv(csv_filenames[\"y_test\"], index=False)\n",
        "    save_file(csv_filenames[\"y_test\"])"
      ]
    },
    {
      "cell_type": "code",
      "execution_count": null,
      "metadata": {
        "id": "Y-3DG_h24cnJ",
        "colab": {
          "base_uri": "https://localhost:8080/"
        },
        "outputId": "6c1e9994-9262-4c62-8356-0b56e2dd8b9b"
      },
      "outputs": [
        {
          "output_type": "execute_result",
          "data": {
            "text/plain": [
              "torch.Size([70000, 14])"
            ]
          },
          "metadata": {},
          "execution_count": 12
        },
        {
          "output_type": "execute_result",
          "data": {
            "text/plain": [
              "torch.Size([70000])"
            ]
          },
          "metadata": {},
          "execution_count": 12
        },
        {
          "output_type": "execute_result",
          "data": {
            "text/plain": [
              "torch.Size([15000, 14])"
            ]
          },
          "metadata": {},
          "execution_count": 12
        },
        {
          "output_type": "execute_result",
          "data": {
            "text/plain": [
              "torch.Size([15000])"
            ]
          },
          "metadata": {},
          "execution_count": 12
        },
        {
          "output_type": "execute_result",
          "data": {
            "text/plain": [
              "torch.Size([15000, 14])"
            ]
          },
          "metadata": {},
          "execution_count": 12
        },
        {
          "output_type": "execute_result",
          "data": {
            "text/plain": [
              "torch.Size([15000])"
            ]
          },
          "metadata": {},
          "execution_count": 12
        },
        {
          "output_type": "execute_result",
          "data": {
            "text/plain": [
              "tensor([[ 8.1389e+00,  6.8777e+01,  8.6702e+01,  ...,  1.0194e+00,\n",
              "          2.4143e-02,  1.0811e+00],\n",
              "        [ 1.5575e+00,  2.7117e+01,  1.1039e+01,  ...,  1.0269e+00,\n",
              "          5.1193e-03,  1.0172e+00],\n",
              "        [ 6.7727e-01,  4.0992e+01, -3.0436e+01,  ...,  9.8835e-01,\n",
              "          2.0192e-02,  9.2690e-01],\n",
              "        ...,\n",
              "        [ 1.9737e+00,  2.7423e+01,  2.5110e+01,  ...,  1.0482e+00,\n",
              "          4.7408e-02,  9.5214e-01],\n",
              "        [ 3.9540e+00,  1.2908e+01,  3.6916e+01,  ...,  1.0408e+00,\n",
              "          7.2451e-03,  9.2367e-01],\n",
              "        [ 2.0307e+00, -2.7216e+01,  1.9934e+00,  ...,  9.1206e-01,\n",
              "          8.0334e-02,  1.0990e+00]], device='cuda:0')"
            ]
          },
          "metadata": {},
          "execution_count": 12
        },
        {
          "output_type": "execute_result",
          "data": {
            "text/plain": [
              "tensor([ 6.8804,  4.3916, 11.6295,  ...,  9.5075, 10.7953,  1.3769],\n",
              "       device='cuda:0')"
            ]
          },
          "metadata": {},
          "execution_count": 12
        },
        {
          "output_type": "execute_result",
          "data": {
            "text/plain": [
              "tensor([[ 6.6200e-01,  1.3131e+01, -2.2113e+01,  ...,  1.0086e+00,\n",
              "          3.5277e-02,  1.0644e+00],\n",
              "        [ 5.4300e-01,  2.9030e+00,  3.6341e+01,  ...,  9.3258e-01,\n",
              "          4.3204e-02,  9.4222e-01],\n",
              "        [ 4.3535e+00,  2.1001e+01,  2.6911e+01,  ...,  1.0408e+00,\n",
              "          1.8435e-02,  1.0249e+00],\n",
              "        ...,\n",
              "        [ 8.2496e+00,  6.6467e+01, -2.0683e+01,  ...,  9.3581e-01,\n",
              "          1.1269e-03,  9.8679e-01],\n",
              "        [ 2.3339e+00,  4.3365e+01, -3.8691e+01,  ...,  9.8848e-01,\n",
              "          5.8783e-02,  1.0820e+00],\n",
              "        [ 8.3204e-01,  8.6481e+00,  1.7333e+01,  ...,  1.0099e+00,\n",
              "          4.3982e-02,  9.9739e-01]], device='cuda:0')"
            ]
          },
          "metadata": {},
          "execution_count": 12
        },
        {
          "output_type": "execute_result",
          "data": {
            "text/plain": [
              "tensor([ 2.1565,  1.9042,  2.6150,  ...,  3.6710,  2.8353, -0.2354],\n",
              "       device='cuda:0')"
            ]
          },
          "metadata": {},
          "execution_count": 12
        },
        {
          "output_type": "execute_result",
          "data": {
            "text/plain": [
              "tensor([[3.6636e+00, 2.3378e+01, 6.3333e+01,  ..., 9.0072e-01, 3.7231e-02,\n",
              "         9.8683e-01],\n",
              "        [2.7046e+00, 4.8716e+01, 5.0241e+01,  ..., 1.0327e+00, 8.5934e-02,\n",
              "         9.8316e-01],\n",
              "        [2.7771e+00, 4.0564e+01, 5.3055e+01,  ..., 1.0791e+00, 6.9959e-02,\n",
              "         9.5515e-01],\n",
              "        ...,\n",
              "        [1.1552e+00, 9.0677e+00, 4.4712e+00,  ..., 1.0383e+00, 2.7718e-02,\n",
              "         9.7959e-01],\n",
              "        [9.2995e+00, 8.0113e+01, 4.0012e+01,  ..., 9.5876e-01, 1.0691e-02,\n",
              "         9.1377e-01],\n",
              "        [1.6291e+00, 2.1109e+01, 2.9467e+00,  ..., 1.0520e+00, 2.9441e-02,\n",
              "         1.0467e+00]], device='cuda:0')"
            ]
          },
          "metadata": {},
          "execution_count": 12
        },
        {
          "output_type": "execute_result",
          "data": {
            "text/plain": [
              "tensor([-4.7938, -2.2720, -2.4056,  ...,  4.7821, -0.1395,  4.8233],\n",
              "       device='cuda:0')"
            ]
          },
          "metadata": {},
          "execution_count": 12
        }
      ],
      "source": [
        "\n",
        "x_train.shape\n",
        "y_train.shape\n",
        "x_val.shape\n",
        "y_val.shape\n",
        "x_test.shape\n",
        "y_test.shape\n",
        "x_train\n",
        "y_train\n",
        "x_val\n",
        "y_val\n",
        "x_test\n",
        "y_test"
      ]
    },
    {
      "cell_type": "code",
      "execution_count": null,
      "metadata": {
        "id": "xdpjCNO94cnK",
        "colab": {
          "base_uri": "https://localhost:8080/"
        },
        "outputId": "75a18229-7a0f-4ba6-c4c5-16bf4b3713de"
      },
      "outputs": [
        {
          "output_type": "execute_result",
          "data": {
            "text/plain": [
              "tensor(False, device='cuda:0')"
            ]
          },
          "metadata": {},
          "execution_count": 13
        },
        {
          "output_type": "execute_result",
          "data": {
            "text/plain": [
              "tensor(False, device='cuda:0')"
            ]
          },
          "metadata": {},
          "execution_count": 13
        },
        {
          "output_type": "execute_result",
          "data": {
            "text/plain": [
              "tensor(False, device='cuda:0')"
            ]
          },
          "metadata": {},
          "execution_count": 13
        },
        {
          "output_type": "execute_result",
          "data": {
            "text/plain": [
              "tensor(False, device='cuda:0')"
            ]
          },
          "metadata": {},
          "execution_count": 13
        },
        {
          "output_type": "execute_result",
          "data": {
            "text/plain": [
              "tensor(False, device='cuda:0')"
            ]
          },
          "metadata": {},
          "execution_count": 13
        },
        {
          "output_type": "execute_result",
          "data": {
            "text/plain": [
              "tensor(False, device='cuda:0')"
            ]
          },
          "metadata": {},
          "execution_count": 13
        }
      ],
      "source": [
        "torch.isnan(x_train).any()\n",
        "torch.isnan(x_val).any()\n",
        "torch.isnan(x_test).any()\n",
        "torch.isnan(y_train).any()\n",
        "torch.isnan(y_val).any()\n",
        "torch.isnan(y_test).any()"
      ]
    },
    {
      "cell_type": "code",
      "execution_count": null,
      "metadata": {
        "id": "X1uRb5P04cnK",
        "colab": {
          "base_uri": "https://localhost:8080/"
        },
        "outputId": "9b0c0ae6-311c-4666-84b6-6cbba911db19"
      },
      "outputs": [
        {
          "output_type": "execute_result",
          "data": {
            "text/plain": [
              "(tensor([], device='cuda:0', dtype=torch.int64),\n",
              " tensor([], device='cuda:0', dtype=torch.int64))"
            ]
          },
          "metadata": {},
          "execution_count": 14
        },
        {
          "output_type": "execute_result",
          "data": {
            "text/plain": [
              "(tensor([], device='cuda:0', dtype=torch.int64),\n",
              " tensor([], device='cuda:0', dtype=torch.int64))"
            ]
          },
          "metadata": {},
          "execution_count": 14
        },
        {
          "output_type": "execute_result",
          "data": {
            "text/plain": [
              "(tensor([], device='cuda:0', dtype=torch.int64),\n",
              " tensor([], device='cuda:0', dtype=torch.int64))"
            ]
          },
          "metadata": {},
          "execution_count": 14
        }
      ],
      "source": [
        "nan_mask_train = torch.isnan(x_train)     # get a boolean mask indicating NaN values\n",
        "nan_indices_train = torch.where(nan_mask_train)  # get the indices of the NaN values\n",
        "nan_indices_train\n",
        "# len(nan_indices_train)\n",
        "\n",
        "nan_mask_val = torch.isnan(x_val)     # get a boolean mask indicating NaN values\n",
        "nan_indices_val = torch.where(nan_mask_val)  # get the indices of the NaN values\n",
        "nan_indices_val\n",
        "# len(nan_indices_test)\n",
        "\n",
        "nan_mask_test = torch.isnan(x_test)     # get a boolean mask indicating NaN values\n",
        "nan_indices_test = torch.where(nan_mask_test)  # get the indices of the NaN values\n",
        "nan_indices_test\n",
        "# len(nan_indices_test)"
      ]
    },
    {
      "cell_type": "markdown",
      "metadata": {
        "id": "HC0o0Myn4cnK"
      },
      "source": [
        "## Visualizing the data"
      ]
    },
    {
      "cell_type": "markdown",
      "metadata": {
        "id": "Myrn0owg4cnL"
      },
      "source": [
        "### Visualizing sampled data"
      ]
    },
    {
      "cell_type": "code",
      "execution_count": null,
      "metadata": {
        "id": "5CXNfzzz4cnL",
        "colab": {
          "base_uri": "https://localhost:8080/"
        },
        "outputId": "3e49a4d2-9437-4d7e-b518-e8e13bf3aee8"
      },
      "outputs": [
        {
          "output_type": "stream",
          "name": "stdout",
          "text": [
            "skipping\n"
          ]
        }
      ],
      "source": [
        "%%script echo skipping\n",
        "\n",
        "if not LOAD_DATA_FROM_CSV:\n",
        "    rho\n",
        "    epsilon\n",
        "    vx\n",
        "    vy\n",
        "    vz \n",
        "    Bx\n",
        "    By\n",
        "    Bz\n",
        "    gxx\n",
        "    gxy\n",
        "    gxz\n",
        "    gyy\n",
        "    gyz\n",
        "    gzz "
      ]
    },
    {
      "cell_type": "code",
      "execution_count": null,
      "metadata": {
        "id": "jEj1uLoV4cnL",
        "colab": {
          "base_uri": "https://localhost:8080/"
        },
        "outputId": "b92d72ac-b723-4823-951a-dce5fdf9e500"
      },
      "outputs": [
        {
          "output_type": "stream",
          "name": "stdout",
          "text": [
            "100000\n",
            "100000\n",
            "100000\n",
            "100000\n",
            "100000\n",
            "100000\n",
            "100000\n",
            "100000\n",
            "\n",
            "100000\n",
            "100000\n",
            "100000\n",
            "100000\n",
            "100000\n",
            "100000\n"
          ]
        }
      ],
      "source": [
        "if not LOAD_DATA_FROM_CSV:\n",
        "    print(len(rho))\n",
        "    print(len(epsilon))\n",
        "    print(len(vx))\n",
        "    print(len(vy))\n",
        "    print(len(vz))\n",
        "    print(len(Bx))\n",
        "    print(len(By))\n",
        "    print(len(Bz))\n",
        "    print()\n",
        "    print(len(gxx))\n",
        "    print(len(gxy))\n",
        "    print(len(gxz))\n",
        "    print(len(gyy))\n",
        "    print(len(gyz))\n",
        "    print(len(gzz))"
      ]
    },
    {
      "cell_type": "code",
      "execution_count": null,
      "metadata": {
        "id": "VMp6XJ6RUZh4"
      },
      "outputs": [],
      "source": [
        "%config InteractiveShell.ast_node_interactivity = \"last_expr_or_assign\""
      ]
    },
    {
      "cell_type": "code",
      "execution_count": null,
      "metadata": {
        "id": "F6urnHAr4cnM",
        "colab": {
          "base_uri": "https://localhost:8080/"
        },
        "outputId": "d2fa8c70-d360-45b7-b81d-5b3db85847a7"
      },
      "outputs": [
        {
          "output_type": "stream",
          "name": "stdout",
          "text": [
            "skipping\n"
          ]
        }
      ],
      "source": [
        "%%script echo skipping\n",
        "\n",
        "plt.hist([np.random.uniform(0, 0.999) for _ in range(n_train_samples)], bins=20)"
      ]
    },
    {
      "cell_type": "code",
      "execution_count": null,
      "metadata": {
        "id": "2iNL6ULb4cnM",
        "colab": {
          "base_uri": "https://localhost:8080/"
        },
        "outputId": "41c5c750-a8f2-4489-a5ed-bf5741f62106"
      },
      "outputs": [
        {
          "output_type": "stream",
          "name": "stdout",
          "text": [
            "skipping\n"
          ]
        }
      ],
      "source": [
        "%%script echo skipping\n",
        "\n",
        "epsilon"
      ]
    },
    {
      "cell_type": "markdown",
      "metadata": {
        "id": "hydjma5V4cnM"
      },
      "source": [
        "The reason the sampling is not uniformly distributed in the following plots is due to the resampling and the fact that we certain values of e.g. velocity are more likely to violate the speed of light constraint than others."
      ]
    },
    {
      "cell_type": "code",
      "execution_count": null,
      "metadata": {
        "id": "E5YFdqKjUZh5",
        "colab": {
          "base_uri": "https://localhost:8080/",
          "height": 779
        },
        "outputId": "faf93e81-c5f9-4dbc-c2be-2491d3d6525e"
      },
      "outputs": [
        {
          "output_type": "display_data",
          "data": {
            "text/plain": [
              "<Figure size 2000x1600 with 14 Axes>"
            ],
            "image/png": "[encoded data removed]"
          },
          "metadata": {}
        }
      ],
      "source": [
        "#%%script echo skipping\n",
        "\n",
        "if not LOAD_DATA_FROM_CSV:\n",
        "    def plot_histogram(data, xlabel, ylabel, position, bins=20, xlog_scale=False, ylog_scale=False):\n",
        "        plt.subplot(4, 5, position)\n",
        "        plt.hist(data, bins=bins)\n",
        "        plt.xlabel(xlabel)\n",
        "        plt.ylabel(ylabel)\n",
        "        if xlog_scale: # Setting does not work expected for epsilon.\n",
        "            plt.xscale(\"log\")\n",
        "        if ylog_scale: # Setting does not work expected for epsilon.\n",
        "            plt.yscale(\"log\")\n",
        "\n",
        "    # Plotting the histograms of rho, vx, epsilon, b0, b1, b2, and b3\n",
        "    bins = 20\n",
        "    plt.figure(figsize=(20, 16))\n",
        "\n",
        "    plot_histogram(rho, \"rho\", \"Frequency\", 1, bins=bins)\n",
        "    plot_histogram(epsilon, \"epsilon\", \"Frequency\", 2, bins=bins)\n",
        "    plot_histogram(vx, \"vx\", \"Frequency\", 3, bins=bins)\n",
        "    plot_histogram(vy, \"vy\", \"Frequency\", 4, bins=bins)\n",
        "    plot_histogram(vz, \"vz\", \"Frequency\", 5, bins=bins)\n",
        "    plot_histogram(Bx, \"Bx\", \"Frequency\", 6, bins=bins)\n",
        "    plot_histogram(By, \"By\", \"Frequency\", 7, bins=bins)\n",
        "    plot_histogram(Bz, \"Bz\", \"Frequency\", 8, bins=bins)\n",
        "\n",
        "    # Plot these\n",
        "    plot_histogram(gxx, \"gxx\", \"Frequency\", 9, bins=bins)\n",
        "    plot_histogram(gxy, \"gxy\", \"Frequency\", 10, bins=bins)\n",
        "    plot_histogram(gxz, \"gxz\", \"Frequency\", 11, bins=bins)\n",
        "    plot_histogram(gyy, \"gyy\", \"Frequency\", 12, bins=bins)\n",
        "    plot_histogram(gyz, \"gyz\", \"Frequency\", 13, bins=bins)\n",
        "    plot_histogram(gzz, \"gzz\", \"Frequency\", 14, bins=bins)\n",
        "\n",
        "\n",
        "    plt.suptitle(\"Primitive variables and metric\")\n",
        "    plt.tight_layout()\n",
        "    plt.show()\n"
      ]
    },
    {
      "cell_type": "code",
      "execution_count": null,
      "metadata": {
        "id": "sUNNNX5e4cnN"
      },
      "outputs": [],
      "source": [
        "%config InteractiveShell.ast_node_interactivity = \"last_expr_or_assign\""
      ]
    },
    {
      "cell_type": "code",
      "execution_count": null,
      "metadata": {
        "id": "et4AFTXb4cnN",
        "colab": {
          "base_uri": "https://localhost:8080/",
          "height": 1000
        },
        "outputId": "6b1f8d49-cad6-462b-e187-1b85b788fb39"
      },
      "outputs": [
        {
          "output_type": "display_data",
          "data": {
            "text/plain": [
              "<Figure size 1600x1600 with 14 Axes>"
            ],
            "image/png": "[encoded data removed]"
          },
          "metadata": {}
        }
      ],
      "source": [
        "#%%script echo skipping\n",
        "\n",
        "# Variable names\n",
        "variable_names = [\"D\", \"Sx\", \"Sy\", \"Sz\", \"tau\", \"Bconsx\", \"Bconsy\", \"Bconsz\", \"gxx\", \"gxy\", \"gxz\", \"gyy\", \"gyz\", \"gzz\"]\n",
        "\n",
        "# Plotting histograms of the input variables before z-score normalization\n",
        "plt.figure(figsize=(16, 16))\n",
        "plt.suptitle('Histograms of input variables before (or without at all) z-score normalization', y=1.03)\n",
        "\n",
        "for i in range(N_INPUTS):\n",
        "    plt.subplot(7, 2, i+1)\n",
        "    data = x_train[:, i].cpu().numpy() # Convert tensor to numpy array for percentile calculation\n",
        "    lower_bound, upper_bound = np.percentile(data, [1, 100]) # NOTE: Use this instead to visualize all the data.\n",
        "    # lower_bound, upper_bound = np.percentile(data, [1, 90]) # Calculate 1st and 99th percentile\n",
        "\n",
        "    plt.hist(data, bins=50, range=(lower_bound, upper_bound)) # Set range to the calculated percentile range\n",
        "    plt.xlabel(variable_names[i])\n",
        "    plt.xlim(lower_bound, upper_bound) # Set the x limit to match the range of the histogram\n",
        "\n",
        "plt.subplots_adjust(hspace=0.4, wspace=0.4)\n",
        "plt.show()\n",
        "\n",
        "# Same plotting but for the test data. Adjust the percentile range as needed to zoom in.\n",
        "# plt.figure(figsize=(16, 16))\n",
        "# plt.suptitle('Histograms of input variables before (or without at all) z-score normalization (test data)', y=1.03)\n",
        "\n",
        "# for i in range(14):\n",
        "#     plt.subplot(7, 2, i+1)\n",
        "#     data = x_test[:, i].cpu().numpy() # Convert tensor to numpy array for percentile calculation\n",
        "#     #lower_bound, upper_bound = np.percentile(data, [1, 100]) # NOTE: Use this instead to visualize all the data.\n",
        "#     lower_bound, upper_bound = np.percentile(data, [1, 99]) # Use this to zoom in.\n",
        "\n",
        "#     plt.hist(data, bins=50, range=(lower_bound, upper_bound)) # Set range to the calculated percentile range\n",
        "#     plt.xlabel(variable_names[i])\n",
        "#     plt.xlim(lower_bound, upper_bound) # Set the x limit to match the range of the histogram\n",
        "\n",
        "# plt.subplots_adjust(hspace=0.4, wspace=0.4)\n",
        "# plt.show()\n",
        "\n"
      ]
    },
    {
      "cell_type": "markdown",
      "metadata": {
        "id": "oQ8r4X8b4cnO"
      },
      "source": [
        "### Data normalization"
      ]
    },
    {
      "cell_type": "code",
      "execution_count": null,
      "metadata": {
        "id": "QBlz2cHo4cnO",
        "colab": {
          "base_uri": "https://localhost:8080/"
        },
        "outputId": "839805bc-4d39-4eba-9ee2-5ea47e65a7b7"
      },
      "outputs": [
        {
          "output_type": "stream",
          "name": "stdout",
          "text": [
            "Summary statistics of input variables before z-score normalization\n",
            "tensor([[ 3.0467e-05,  1.3600e+02,  2.2362e+00,  1.6695e+00,  3.0480e+00],\n",
            "        [-1.6097e+04,  4.0465e+04,  3.6760e+01,  2.1918e+01,  2.5717e+02],\n",
            "        [-1.1789e+04,  4.2529e+04,  3.6897e+01,  2.1979e+01,  2.8215e+02],\n",
            "        [-9.6863e+03,  4.2796e+04,  3.7345e+01,  2.2019e+01,  2.6731e+02],\n",
            "        [-2.0830e+04,  5.8494e+04,  8.9382e+01,  6.9662e+01,  4.4537e+02],\n",
            "        [-1.1232e+01,  1.1139e+01,  1.8271e-02,  2.2141e-02,  5.7355e+00],\n",
            "        [-1.1378e+01,  1.1133e+01,  1.3478e-02,  1.2692e-02,  5.7303e+00],\n",
            "        [-1.1151e+01,  1.1239e+01, -3.4626e-02, -6.2552e-02,  5.7305e+00],\n",
            "        [ 9.0001e-01,  1.1000e+00,  9.9829e-01,  9.9755e-01,  5.7671e-02],\n",
            "        [ 8.6272e-07,  9.9997e-02,  4.9542e-02,  4.9287e-02,  2.8865e-02],\n",
            "        [ 1.2882e-06,  9.9999e-02,  4.9384e-02,  4.9268e-02,  2.8935e-02],\n",
            "        [ 9.0000e-01,  1.1000e+00,  9.9853e-01,  9.9780e-01,  5.7728e-02],\n",
            "        [ 8.2662e-08,  9.9999e-02,  4.9571e-02,  4.9207e-02,  2.8872e-02],\n",
            "        [ 9.0000e-01,  1.1000e+00,  9.9869e-01,  9.9795e-01,  5.7720e-02]],\n",
            "       device='cuda:0')\n"
          ]
        }
      ],
      "source": [
        "# Computing summary statistics of the input variables before and after z-score normalization\n",
        "print('Summary statistics of input variables before z-score normalization')\n",
        "print(torch.stack([torch.min(x_train, dim=0).values, torch.max(x_train, dim=0).values, torch.nanmean(x_train, dim=0), torch.median(x_train, dim=0).values, torch.std(x_train, dim=0)], dim=1))"
      ]
    },
    {
      "cell_type": "markdown",
      "metadata": {
        "id": "xTEmkR1SUZh7"
      },
      "source": [
        "Perform z-score normalization"
      ]
    },
    {
      "cell_type": "code",
      "execution_count": null,
      "metadata": {
        "id": "skDi8Xbh4cnO"
      },
      "outputs": [],
      "source": [
        "%config InteractiveShell.ast_node_interactivity = \"all\""
      ]
    },
    {
      "cell_type": "code",
      "execution_count": null,
      "metadata": {
        "id": "yPOv6DxhUZh7"
      },
      "outputs": [],
      "source": [
        "if ZSCORE_NORMALIZATION:\n",
        "    \n",
        "    # TODO: Add magnetic field variables to the normalization if I decide to use the old code that is commented out here.\n",
        "    # # Computing the median of each input variable from the training set using torch.nanmedian function\n",
        "    # D_median = torch.nanmedian(x_train[:, 0])\n",
        "    # Sx_median = torch.nanmedian(x_train[:, 1])\n",
        "    # Sy_median = torch.nanmedian(x_train[:, 2])\n",
        "    # Sz_median = torch.nanmedian(x_train[:, 3])\n",
        "    # tau_median = torch.nanmedian(x_train[:, 4])\n",
        "\n",
        "    # # Computing the standard deviation of each input variable from the training set using torch.std function with a boolean mask to ignore nan values\n",
        "    # D_std = torch.std(x_train[~torch.isnan(x_train[:, 0]), 0])\n",
        "    # Sx_std = torch.std(x_train[~torch.isnan(x_train[:, 1]), 1])\n",
        "    # Sy_std = torch.std(x_train[~torch.isnan(x_train[:, 2]), 2])\n",
        "    # Sz_std = torch.std(x_train[~torch.isnan(x_train[:, 3]), 3])\n",
        "    # tau_std = torch.std(x_train[~torch.isnan(x_train[:, 4]), 4])\n",
        "\n",
        "\n",
        "    # # Applying z-score normalization to both train and test sets using the statistics from the training set\n",
        "    # x_train[:, 0] = torch.sub(x_train[:, 0], D_median).div(D_std)\n",
        "    # x_train[:, 1] = torch.sub(x_train[:, 1], Sx_median).div(Sx_std)\n",
        "    # x_train[:, 2] = torch.sub(x_train[:, 2], Sy_median).div(Sy_std)\n",
        "    # x_train[:, 3] = torch.sub(x_train[:, 3], Sz_median).div(Sz_std)\n",
        "    # x_train[:, 4] = torch.sub(x_train[:, 4], tau_median).div(tau_std)\n",
        "\n",
        "    # x_test[:, 0] = torch.sub(x_test[:, 0], D_median).div(D_std)\n",
        "    # x_test[:, 1] = torch.sub(x_test[:, 1], Sx_median).div(Sx_std)\n",
        "    # x_test[:, 2] = torch.sub(x_test[:, 2], Sy_median).div(Sy_std)\n",
        "    # x_test[:, 3] = torch.sub(x_test[:, 3], Sz_median).div(Sz_std)\n",
        "    # x_test[:, 4] = torch.sub(x_test[:, 4], tau_median).div(tau_std)\n",
        "\n",
        "    # Computing the mean and standard deviation of each column\n",
        "    mean = x_train.mean(dim=0)\n",
        "    std = x_train.std(dim=0)\n",
        "\n",
        "    # Applying z-score normalization\n",
        "    x_train = (x_train - mean) / std\n",
        "    # Use the same mean and std from the training data as we don't want test data leakage.\n",
        "    x_test = (x_test - mean) / std\n",
        "\n"
      ]
    },
    {
      "cell_type": "markdown",
      "metadata": {
        "id": "5xqeJJH34cnc"
      },
      "source": [
        "Plotting the histograms of the input data after normalization if z-score normalization was performed."
      ]
    },
    {
      "cell_type": "code",
      "execution_count": null,
      "metadata": {
        "id": "IknQpxd94cnc"
      },
      "outputs": [],
      "source": [
        "%config InteractiveShell.ast_node_interactivity = \"last_expr_or_assign\""
      ]
    },
    {
      "cell_type": "code",
      "execution_count": null,
      "metadata": {
        "id": "u30TMn0q4cnc"
      },
      "outputs": [],
      "source": [
        "if not LOAD_DATA_FROM_CSV:\n",
        "    if ZSCORE_NORMALIZATION:\n",
        "        # Variable names\n",
        "        variable_names = [\"D\", \"Sx\", \"Sy\", \"Sz\", \"tau\", \"Bconsx\", \"Bconsy\", \"Bconsz\", \"gxx\", \"gxy\", \"gxz\", \"gyy\", \"gyz\", \"gzz\"]\n",
        "\n",
        "        # Plotting histograms of the input variables before z-score normalization\n",
        "        plt.figure(figsize=(16, 16))\n",
        "        plt.suptitle('Histograms of input variables before (or without at all) z-score normalization', y=1.03)\n",
        "\n",
        "        for i in range(N_INPUTS):\n",
        "            plt.subplot(7, 2, i+1)\n",
        "            data = x_train[:, i].cpu().numpy() # Convert tensor to numpy array for percentile calculation\n",
        "            lower_bound, upper_bound = np.percentile(data, [1, 100]) # NOTE: Use this instead to visualize all the data.\n",
        "            # lower_bound, upper_bound = np.percentile(data, [1, 90]) # Calculate 1st and 99th percentile\n",
        "\n",
        "            plt.hist(data, bins=50, range=(lower_bound, upper_bound)) # Set range to the calculated percentile range\n",
        "            plt.xlabel(variable_names[i])\n",
        "            plt.xlim(lower_bound, upper_bound) # Set the x limit to match the range of the histogram\n",
        "\n",
        "        plt.subplots_adjust(hspace=0.4, wspace=0.4)\n",
        "        plt.show()"
      ]
    },
    {
      "cell_type": "code",
      "execution_count": null,
      "metadata": {
        "id": "U_SBKnoX4cnd"
      },
      "outputs": [],
      "source": [
        "if ZSCORE_NORMALIZATION:\n",
        "    # Computing summary statistics of the input variables after z-score normalization\n",
        "    print('Summary statistics of input variables after z-score normalization')\n",
        "    print(torch.stack([torch.min(x_train, dim=0).values, torch.max(x_train, dim=0).values, torch.mean(x_train, dim=0), torch.median(x_train, dim=0).values, torch.std(x_train, dim=0)], dim=1))\n"
      ]
    },
    {
      "cell_type": "markdown",
      "metadata": {
        "id": "34JFkBNc4cnd"
      },
      "source": [
        "### Visualizing input data and labels"
      ]
    },
    {
      "cell_type": "code",
      "execution_count": null,
      "metadata": {
        "id": "8TkfblGD4cnd",
        "colab": {
          "base_uri": "https://localhost:8080/"
        },
        "outputId": "b5b8ad00-43e4-4b67-8118-9965e6f78cb4"
      },
      "outputs": [
        {
          "output_type": "execute_result",
          "data": {
            "text/plain": [
              "tensor([-4.7938, -2.2720, -2.4056,  ...,  4.7821, -0.1395,  4.8233],\n",
              "       device='cuda:0')"
            ]
          },
          "metadata": {},
          "execution_count": 29
        }
      ],
      "source": [
        "x_train\n",
        "y_train\n",
        "x_val\n",
        "y_val\n",
        "x_test\n",
        "y_test"
      ]
    },
    {
      "cell_type": "markdown",
      "metadata": {
        "id": "E96p_MsOUZh9",
        "outputId": "4b95bad0-8f3a-4364-eed1-008e0ce2a5e3"
      },
      "source": [
        "Checking if our output is always positive ~~by plotting a histogram of y_train and y_test tensors~~"
      ]
    },
    {
      "cell_type": "code",
      "execution_count": null,
      "metadata": {
        "id": "oRXf8ib_4cne",
        "colab": {
          "base_uri": "https://localhost:8080/"
        },
        "outputId": "fbf058de-f6a4-43fb-cdde-dae6d09bd939"
      },
      "outputs": [
        {
          "output_type": "stream",
          "name": "stdout",
          "text": [
            "tensor(True)\n"
          ]
        }
      ],
      "source": [
        "import torch\n",
        "\n",
        "# Create a sample tensor\n",
        "tensor = torch.randn(80000, 14)  # Assuming a tensor of shape [80000, 14]\n",
        "tensor\n",
        "\n",
        "\n",
        "# Check if any element is negative\n",
        "any_negative = torch.any(tensor < 0)\n",
        "\n",
        "# Print the result\n",
        "print(any_negative)\n"
      ]
    },
    {
      "cell_type": "code",
      "execution_count": null,
      "metadata": {
        "id": "1pWymsnT4cne",
        "colab": {
          "base_uri": "https://localhost:8080/"
        },
        "outputId": "9751e1e6-895f-4ea6-cf83-3b502ec187ae"
      },
      "outputs": [
        {
          "output_type": "execute_result",
          "data": {
            "text/plain": [
              "tensor(True, device='cuda:0')"
            ]
          },
          "metadata": {},
          "execution_count": 31
        }
      ],
      "source": [
        "y_train.shape\n",
        "any_negative = torch.any(y_train < 0)\n",
        "any_negative\n",
        "\n",
        "y_test.shape\n",
        "any_negative = torch.any(y_test < 0)\n",
        "any_negative\n",
        "\n",
        "x_train.shape\n",
        "any_negative = torch.any(x_train < 0)\n",
        "any_negative"
      ]
    },
    {
      "cell_type": "code",
      "execution_count": null,
      "metadata": {
        "id": "I8j5uTN94cne",
        "colab": {
          "base_uri": "https://localhost:8080/",
          "height": 407
        },
        "outputId": "b8be63df-2c9d-4860-9eaa-92e9f8461f4f"
      },
      "outputs": [
        {
          "output_type": "display_data",
          "data": {
            "text/plain": [
              "<Figure size 800x400 with 3 Axes>"
            ],
            "image/png": "[encoded data removed]"
          },
          "metadata": {}
        }
      ],
      "source": [
        "#%%script echo skipping\n",
        "\n",
        "plt.figure(figsize=(8, 4))\n",
        "plt.subplot(1, 3, 1)\n",
        "plt.hist(y_train.cpu().numpy(), bins=100) # must be cpu here.\n",
        "plt.xlabel(\"y_train\")\n",
        "plt.ylabel(\"Frequency\")\n",
        "plt.xscale(\"log\")\n",
        "plt.subplot(1, 3, 2)\n",
        "plt.hist(y_val.cpu().numpy(), bins=100) # must be cpu here\n",
        "plt.xlabel(\"y_val\")\n",
        "plt.ylabel(\"Frequency\")\n",
        "plt.xscale(\"log\")\n",
        "plt.tight_layout()\n",
        "plt.subplot(1, 3, 3)\n",
        "plt.hist(y_test.cpu().numpy(), bins=100) # must be cpu here\n",
        "plt.xlabel(\"y_test\")\n",
        "plt.ylabel(\"Frequency\")\n",
        "plt.xscale(\"log\")\n",
        "plt.tight_layout()\n",
        "plt.show()\n"
      ]
    },
    {
      "cell_type": "code",
      "execution_count": null,
      "metadata": {
        "id": "FEgjk--AUZh9"
      },
      "outputs": [],
      "source": [
        "%config InteractiveShell.ast_node_interactivity = \"all\""
      ]
    },
    {
      "cell_type": "markdown",
      "metadata": {
        "id": "r2b9GecHUZh9"
      },
      "source": [
        "## Defining the neural network"
      ]
    },
    {
      "cell_type": "code",
      "execution_count": null,
      "metadata": {
        "id": "Iv8HA-ZXUZh-"
      },
      "outputs": [],
      "source": [
        "# Defining a class for the network\n",
        "class Net(nn.Module):\n",
        "    \"\"\"A class for creating a network with a\n",
        "    variable number of hidden layers and units.\n",
        "\n",
        "    Attributes:\n",
        "        n_layers (int): The number of hidden layers in the network.\n",
        "        n_units (list): A list of integers representing the number of units in each hidden layer.\n",
        "        hidden_activation (torch.nn.Module): The activation function for the hidden layers.\n",
        "        output_activation (torch.nn.Module): The activation function for the output layer.\n",
        "        layers (torch.nn.ModuleList): A list of linear layers in the network.\n",
        "    \"\"\"\n",
        "\n",
        "    def __init__(self, n_layers, n_units, hidden_activation, output_activation, dropout_rate):\n",
        "        \"\"\"Initializes the network with the given hyperparameters.\n",
        "\n",
        "        Args:\n",
        "            n_layers (int): The number of hidden layers in the network.\n",
        "            n_units (list): A list of integers representing the number of units in each hidden layer.\n",
        "            hidden_activation (torch.nn.Module): The activation function for the hidden layers.\n",
        "            output_activation (torch.nn.Module): The activation function for the output layer.\n",
        "            TODO: [ver. Copilot description] dropout_rate (float): The dropout rate to use for all layers.\n",
        "        \"\"\"\n",
        "        super().__init__()\n",
        "        self.n_layers = n_layers\n",
        "        self.n_units = n_units\n",
        "        self.hidden_activation = hidden_activation\n",
        "        self.output_activation = output_activation\n",
        "        self.dropout_rate = dropout_rate\n",
        "\n",
        "        # Creating a list of linear layers with different numbers of units for each layer\n",
        "        self.layers = nn.ModuleList()\n",
        "        self.dropouts = nn.ModuleList()\n",
        "\n",
        "        self.layers.append(nn.Linear(N_INPUTS, n_units[0]))\n",
        "        self.dropouts.append(nn.Dropout(p=dropout_rate))\n",
        "\n",
        "        for i in range(1, n_layers):\n",
        "            self.layers.append(nn.Linear(n_units[i - 1], n_units[i]))\n",
        "            self.dropouts.append(nn.Dropout(p=dropout_rate))\n",
        "\n",
        "        self.layers.append(nn.Linear(n_units[-1], N_OUTPUTS))\n",
        "\n",
        "        # Adding some assertions to check that the input arguments are valid\n",
        "        assert isinstance(n_layers, int) and n_layers > 0, \"n_layers must be a positive integer\"\n",
        "        assert isinstance(n_units, list) and len(n_units) == n_layers, \"n_units must be a list of length n_layers\"\n",
        "        assert all(isinstance(n, int) and n > 0 for n in n_units), \"n_units must contain positive integers\"\n",
        "        assert isinstance(hidden_activation, nn.Module), \"hidden_activation must be a torch.nn.Module\"\n",
        "        assert isinstance(output_activation, nn.Module), \"output_activation must be a torch.nn.Module\"\n",
        "\n",
        "    def forward(self, x):\n",
        "        \"\"\"Performs a forward pass on the input tensor.\n",
        "\n",
        "        Args:\n",
        "            x (torch.Tensor): The input tensor of shape (batch_size, N_INPUTS).\n",
        "\n",
        "        Returns:\n",
        "            torch.Tensor: The output tensor of shape (batch_size, N_OUTPUTS).\n",
        "        \"\"\"\n",
        "        # Adding an assertion to check that the input tensor has the expected shape and type\n",
        "        assert isinstance(x, torch.Tensor), \"x must be a torch.Tensor\"\n",
        "        assert x.shape[1] == N_INPUTS, f\"x must have shape (batch_size, {N_INPUTS})\"\n",
        "\n",
        "        for layer, dropout in zip(self.layers[:-1], self.dropouts):\n",
        "            x = dropout(self.hidden_activation(layer(x)))\n",
        "        # Applying the linear transformation and the activation function on the output layer\n",
        "        x = self.output_activation(self.layers[-1](x)) # No dropout at output layer\n",
        "\n",
        "        return x # Returning the output tensor\n"
      ]
    },
    {
      "cell_type": "code",
      "execution_count": null,
      "metadata": {
        "id": "4zShBNVG4cnf",
        "colab": {
          "base_uri": "https://localhost:8080/"
        },
        "outputId": "b959ef2e-cf95-47cd-fcd0-747bc45593bb"
      },
      "outputs": [
        {
          "output_type": "stream",
          "name": "stdout",
          "text": [
            "skipping\n"
          ]
        }
      ],
      "source": [
        "%%script echo skipping\n",
        "\n",
        "[1,2,3]\n",
        "[1,2,3][:-1]"
      ]
    },
    {
      "cell_type": "code",
      "execution_count": null,
      "metadata": {
        "id": "3c3WaPyv4cng",
        "colab": {
          "base_uri": "https://localhost:8080/"
        },
        "outputId": "7dc27b93-5e0f-4ecd-d9b4-1527748cf09a"
      },
      "outputs": [
        {
          "output_type": "stream",
          "name": "stdout",
          "text": [
            "1\n",
            "2\n"
          ]
        }
      ],
      "source": [
        "for x in [1,2,3][:-1]:\n",
        "    print(x)\n",
        "\n"
      ]
    },
    {
      "cell_type": "markdown",
      "metadata": {
        "id": "6GNvp55PUZh_"
      },
      "source": [
        "## Defining the model and search space"
      ]
    },
    {
      "cell_type": "code",
      "execution_count": null,
      "metadata": {
        "id": "9a1opluOUZh_"
      },
      "outputs": [],
      "source": [
        "# Defining a function to create a trial network and optimizer\n",
        "def create_model(trial, optimize):\n",
        "    \"\"\"Creates a trial network and optimizer based on the sampled hyperparameters.\n",
        "\n",
        "    Args:\n",
        "        trial (optuna.trial.Trial): The trial object that contains the hyperparameters.\n",
        "        optimize (boolean): Whether to optimize the hyperparameters or to use predefined values.\n",
        "\n",
        "    Returns:\n",
        "        tuple: A tuple of (net, loss_fn, optimizer, batch_size, n_epochs,\n",
        "            scheduler, loss_name, optimizer_name, scheduler_name,\n",
        "            n_units, n_layers, hidden_activation, output_activation),\n",
        "            where net is the trial network,\n",
        "            loss_fn is the loss function,\n",
        "            optimizer is the optimizer,\n",
        "            batch_size is the batch size,\n",
        "            n_epochs is the number of epochs,\n",
        "            scheduler is the learning rate scheduler,\n",
        "            loss_name is the name of the loss function,\n",
        "            optimizer_name is the name of the optimizer,\n",
        "            scheduler_name is the name of the scheduler,\n",
        "            n_units is a list of integers representing\n",
        "            the number of units in each hidden layer,\n",
        "            n_layers is an integer representing the number of hidden layers in the network,\n",
        "            hidden_activation is a torch.nn.Module representing the activation function for the hidden layers,\n",
        "            output_activation is a torch.nn.Module representing the activation function for the output layer,\n",
        "            lr is the (initial) learning rate.\n",
        "            dropout_rate is the dropout rate.\n",
        "    \"\"\"\n",
        "    # If optimize is True, sample the hyperparameters from the search space\n",
        "    if OPTIMIZE:\n",
        "        n_layers = trial.suggest_int(\"n_layers\", 5, 10)\n",
        "        n_units = [trial.suggest_int(f\"n_units_{i}\", 16, 4096) for i in range(n_layers)]\n",
        "\n",
        "        hidden_activation_name = trial.suggest_categorical(\n",
        "            \"hidden_activation\", [\"ReLU\", \"LeakyReLU\", \"ELU\", \"PReLU\", \"Swish\", \"GELU\", \"SoftPlus\"]\n",
        "        )\n",
        "        output_activation_name = trial.suggest_categorical( \"output_activation\", [\"Linear\"])\n",
        "\n",
        "        loss_name = trial.suggest_categorical( \"loss\", [\"MSE\", \"MAE\", \"Huber\", \"Quantile\"]) \n",
        "\n",
        "        optimizer_name = trial.suggest_categorical( \"optimizer\", [\"Adam\", \"SGD\", \"RMSprop\", \"Adagrad\"] )\n",
        "\n",
        "        lr = trial.suggest_loguniform(\"lr\", 1e-5, 1e-1)\n",
        "\n",
        "        batch_size_list = [32, 64, 128, 256, 512, 1024, 2048]\n",
        "        batch_size = trial.suggest_categorical(\"batch_size\", batch_size_list)\n",
        "        \n",
        "        n_epochs = trial.suggest_int(\"n_epochs\", 50, 150)\n",
        "\n",
        "        # scheduler_name = trial.suggest_categorical(\"scheduler\", [\"CosineAnnealingLR\", \"ReduceLROnPlateau\", \"StepLR\", \"CyclicLR\"])\n",
        "        scheduler_name = trial.suggest_categorical(\"scheduler\", [\"CosineAnnealingLR\", \"ReduceLROnPlateau\", \"StepLR\"])\n",
        "\n",
        "        # Creating the activation functions from their names\n",
        "        if hidden_activation_name == \"ReLU\":\n",
        "            hidden_activation = nn.ReLU()\n",
        "        elif hidden_activation_name == \"LeakyReLU\":\n",
        "            negative_slope = trial.suggest_uniform(\"leakyrelu_slope\", 0.01, 0.3)\n",
        "            hidden_activation = nn.LeakyReLU(negative_slope=negative_slope)\n",
        "        elif hidden_activation_name == \"ELU\":\n",
        "            hidden_activation = nn.ELU() \n",
        "        elif hidden_activation_name == \"PReLU\":\n",
        "            init = trial.suggest_uniform(\"prelu_init\", 0.1, 0.3)\n",
        "            hidden_activation = nn.PReLU(init=init)\n",
        "        elif hidden_activation_name == \"Swish\":\n",
        "            class Swish(nn.Module):\n",
        "                def forward(self, x):\n",
        "                    return x * torch.sigmoid(x)\n",
        "            hidden_activation = Swish()\n",
        "        elif hidden_activation_name == \"GELU\":\n",
        "            hidden_activation = nn.GELU()\n",
        "        elif hidden_activation_name == \"SoftPlus\":\n",
        "            beta = trial.suggest_uniform(\"softplus_beta\", 0.5, 1.5)\n",
        "            hidden_activation = nn.Softplus(beta=beta) # We don't optimize thresshold subparameters, as it's mainly for numerical stability.\n",
        "\n",
        "        dropout_rate = trial.suggest_uniform(\"dropout_rate\", 0.0, 0.5)\n",
        "\n",
        "\n",
        "    # If optimize is False, use the predefined values\n",
        "    else:\n",
        "        # Setting the hyperparameters to the predefined values\n",
        "        n_layers = N_LAYERS_NO_OPT\n",
        "        n_units = N_UNITS_NO_OPT\n",
        "        hidden_activation_name = HIDDEN_ACTIVATION_NAME_NO_OPT\n",
        "        output_activation_name = OUTPUT_ACTIVATION_NAME_NO_OPT\n",
        "        loss_name = LOSS_NAME_NO_OPT\n",
        "        optimizer_name = OPTIMIZER_NAME_NO_OPT\n",
        "        lr = LR_NO_OPT\n",
        "        batch_size = BATCH_SIZE_NO_OPT\n",
        "        n_epochs = N_EPOCHS_NO_OPT\n",
        "        scheduler_name = SCHEDULER_NAME_NO_OPT\n",
        "\n",
        "        # Creating the activation functions from their names\n",
        "        if hidden_activation_name == \"ReLU\":\n",
        "            hidden_activation = nn.ReLU()\n",
        "        elif hidden_activation_name == \"LeakyReLU\":\n",
        "            negative_slope = 0.01\n",
        "            hidden_activation = nn.LeakyReLU(negative_slope=negative_slope)\n",
        "        elif hidden_activation_name == \"ELU\":\n",
        "            hidden_activation = nn.ELU() \n",
        "        elif hidden_activation_name == \"PReLU\":\n",
        "            init = 0.25\n",
        "            hidden_activation = nn.PReLU(init=init)\n",
        "        elif hidden_activation_name == \"Swish\":\n",
        "            class Swish(nn.Module):\n",
        "                def forward(self, x):\n",
        "                    return x * torch.sigmoid(x)\n",
        "            hidden_activation = Swish()\n",
        "        elif hidden_activation_name == \"GELU\":\n",
        "            hidden_activation = nn.GELU()\n",
        "        elif hidden_activation_name == \"SoftPlus\":\n",
        "            beta = 1\n",
        "            hidden_activation = nn.Softplus(beta=beta) # We don't optimize threshold subparameter, as it's mainly for numerical stability.\n",
        "\n",
        "        dropout_rate = DROPOUT_RATE_NO_OPT\n",
        "\n",
        "\n",
        "    # We used to have options here, but since we have a regression problem with continuous output, we only use Linear.\n",
        "    output_activation = nn.Identity()\n",
        "\n",
        "    # Creating the loss function from its name\n",
        "    if loss_name == \"MSE\":\n",
        "        loss_fn = nn.MSELoss()\n",
        "    elif loss_name == \"MAE\":\n",
        "        loss_fn = nn.L1Loss()\n",
        "    elif loss_name == \"Huber\":\n",
        "        loss_fn = nn.SmoothL1Loss() \n",
        "    elif loss_name == \"Quantile\":\n",
        "        def quantile_loss(y_pred, y_true, q=0.5):\n",
        "            e = y_pred - y_true\n",
        "            return torch.mean(torch.max(q*e, (q-1)*e))\n",
        "        loss_fn = quantile_loss\n",
        "    else:\n",
        "        def log_cosh_loss(y_pred, y_true):\n",
        "            return torch.mean(torch.log(torch.cosh(y_pred - y_true)))\n",
        "        loss_fn = log_cosh_loss\n",
        "\n",
        "    # Creating the network with the sampled hyperparameters\n",
        "    net = Net(n_layers, n_units, hidden_activation, output_activation, dropout_rate).to(device)\n",
        "\n",
        "\n",
        "    if OPTIMIZE:\n",
        "        # Creating the optimizer from its name\n",
        "        if optimizer_name == \"SGD\":\n",
        "            weight_decay = trial.suggest_loguniform(\"weight_decay\", 1e-5, 1e-2)\n",
        "            momentum = trial.suggest_uniform(\"momentum\", 0.0, 0.99)\n",
        "            optimizer = optim.SGD(net.parameters(), lr=lr, weight_decay=weight_decay, momentum=momentum)\n",
        "        elif optimizer_name == \"Adam\":\n",
        "            weight_decay = trial.suggest_loguniform(\"weight_decay\", 1e-5, 1e-2)\n",
        "            beta1 = trial.suggest_uniform(\"beta1\", 0.9, 0.999)\n",
        "            beta2 = trial.suggest_uniform(\"beta2\", 0.999, 0.9999)\n",
        "            optimizer = optim.Adam(net.parameters(), lr=lr, weight_decay=weight_decay, betas=(beta1, beta2))\n",
        "        elif optimizer_name == \"RMSprop\":\n",
        "            optimizer = optim.RMSprop(net.parameters(), lr=lr)\n",
        "        else:\n",
        "            optimizer = optim.Adagrad(net.parameters(), lr=lr)\n",
        "\n",
        "        # Creating the learning rate scheduler from its name\n",
        "        if scheduler_name == \"StepLR\":\n",
        "            step_size = trial.suggest_int(\"step_size\", 5, 15)\n",
        "            gamma = trial.suggest_uniform(\"gamma\", 0.1, 0.5)\n",
        "            scheduler = optim.lr_scheduler.StepLR(optimizer, step_size=step_size, gamma=gamma)\n",
        "        elif scheduler_name == \"ExponentialLR\":\n",
        "            gamma = trial.suggest_uniform(\"gamma\", 0.8, 0.99)\n",
        "            scheduler = optim.lr_scheduler.ExponentialLR(optimizer, gamma=gamma)\n",
        "        elif scheduler_name == \"CosineAnnealingLR\":\n",
        "            if n_epochs < 150:\n",
        "                t_max_fraction = trial.suggest_uniform('t_max_fraction', 0.1, 0.3)\n",
        "            elif n_epochs > 250:\n",
        "                t_max_fraction = trial.suggest_uniform('t_max_fraction', 0.05, 0.1)\n",
        "            else:\n",
        "                t_max_fraction = trial.suggest_uniform('t_max_fraction', 0.1, 0.2)\n",
        "\n",
        "            T_max = int(n_epochs * t_max_fraction)\n",
        "            eta_min = trial.suggest_loguniform(\"eta_min\", 1e-7, 1e-2)\n",
        "            scheduler = optim.lr_scheduler.CosineAnnealingLR(optimizer, T_max=T_max, eta_min=eta_min)\n",
        "        elif scheduler_name == \"ReduceLROnPlateau\":\n",
        "            factor = trial.suggest_uniform(\"factor\", 0.1, 0.5)\n",
        "            patience = trial.suggest_int(\"patience\", 5, 10)\n",
        "            threshold = trial.suggest_loguniform(\"threshold\", 1e-4, 1e-2)\n",
        "            scheduler = optim.lr_scheduler.ReduceLROnPlateau(\n",
        "                optimizer, mode=\"min\", factor=factor, patience=patience, threshold=threshold\n",
        "            )\n",
        "        elif scheduler_name == \"CyclicLR\":\n",
        "            base_lr = trial.suggest_loguniform(\"base_lr\", 1e-6, 1e-2)\n",
        "            max_lr = trial.suggest_loguniform(\"max_lr\", 1e-4, 1)\n",
        "            step_size_up = trial.suggest_int(\"step_size_up\", 200, 2000)\n",
        "            scheduler = optim.lr_scheduler.CyclicLR(optimizer, base_lr=base_lr, max_lr=max_lr, step_size_up=step_size_up)\n",
        "        else:\n",
        "            scheduler = None\n",
        "    else:\n",
        "        # Creating the optimizer from its name\n",
        "        if optimizer_name == \"SGD\":\n",
        "            optimizer = optim.SGD(net.parameters(), lr=lr)\n",
        "        elif optimizer_name == \"Adam\":\n",
        "            optimizer = optim.Adam(net.parameters(), lr=lr)\n",
        "        elif optimizer_name == \"RMSprop\":\n",
        "            optimizer = optim.RMSprop(net.parameters(), lr=lr)\n",
        "        else:\n",
        "            optimizer = optim.Adagrad(net.parameters(), lr=lr)\n",
        "\n",
        "        # Creating the learning rate scheduler from its name\n",
        "        if scheduler_name == \"StepLR\":\n",
        "            scheduler = optim.lr_scheduler.StepLR(optimizer, step_size=10, gamma=0.1)\n",
        "        elif scheduler_name == \"ExponentialLR\":\n",
        "            scheduler = optim.lr_scheduler.ExponentialLR(optimizer, gamma=0.9)\n",
        "        elif scheduler_name == \"CosineAnnealingLR\":\n",
        "            scheduler = optim.lr_scheduler.CosineAnnealingLR(optimizer)\n",
        "        elif scheduler_name == \"ReduceLROnPlateau\":\n",
        "            scheduler = optim.lr_scheduler.ReduceLROnPlateau(\n",
        "                        optimizer, mode=\"min\", factor=0.18979341786654758, patience=11, threshold=0.0017197466122611932 #, min_lr=1e-6\n",
        "                    )\n",
        "        elif scheduler_name == \"CyclicLR\":\n",
        "            # TODO: Change these appropriately.\n",
        "            base_lr = 1e-6\n",
        "            max_lr = 1e-4\n",
        "            step_size_up = 200\n",
        "            scheduler = optim.lr_scheduler.CyclicLR(optimizer, base_lr=base_lr, max_lr=max_lr, step_size_up=step_size_up)\n",
        "        else:\n",
        "            scheduler = None\n",
        "\n",
        "    # Returning all variables needed for saving and loading\n",
        "    return net, loss_fn, optimizer, batch_size, n_epochs, scheduler, loss_name, optimizer_name, scheduler_name, n_units, n_layers, hidden_activation, output_activation, lr, dropout_rate\n",
        "\n",
        "\n"
      ]
    },
    {
      "cell_type": "markdown",
      "metadata": {
        "id": "l-czA7VvUZiD"
      },
      "source": [
        " ## The training and evaluation loop\n",
        "\n",
        " We first define a couple of functions used in the training and evaluation."
      ]
    },
    {
      "cell_type": "code",
      "execution_count": null,
      "metadata": {
        "id": "aD6FQNmxUZiD"
      },
      "outputs": [],
      "source": [
        "# Defining a function that computes loss and metrics for a given batch\n",
        "def compute_loss_and_metrics(y_pred, y_true, loss_fn):\n",
        "    \"\"\"Computes loss and metrics for a given batch.\n",
        "\n",
        "    Args:\n",
        "        y_pred (torch.Tensor): The predicted pressure tensor of shape (batch_size, 1).\n",
        "        y_true (torch.Tensor): The true pressure tensor of shape (batch_size,).\n",
        "        loss_fn (torch.nn.Module or function): The loss function to use.\n",
        "\n",
        "    Returns:\n",
        "        tuple: A tuple of (loss, l1_norm), where loss is a scalar tensor,\n",
        "            l1_norm is L1 norm for relative error of pressure,\n",
        "            each being a scalar tensor.\n",
        "            linf_norm is Linf norm for relative error of pressure.\n",
        "    \"\"\"\n",
        "    # Reshaping the target tensor to match the input tensor\n",
        "    y_true = y_true.view(-1, 1)\n",
        "\n",
        "    # Computing the loss using the loss function\n",
        "    loss = loss_fn(y_pred, y_true)\n",
        "\n",
        "    # Computing the relative error of pressure\n",
        "    rel_error = torch.abs((y_pred - y_true) / y_true)\n",
        "\n",
        "    # Computing the L1 norm for the relative error of pressure\n",
        "    l1_norm = torch.mean(rel_error) \n",
        "    # Computing the Linf norm for the relative error of pressure\n",
        "    linf_norm = torch.max(rel_error) \n",
        "\n",
        "    # Returning the loss and metrics\n",
        "    return loss, l1_norm, linf_norm\n",
        "\n",
        "\n",
        "# Defining a function that updates the learning rate scheduler with validation loss if applicable\n",
        "def update_scheduler(scheduler, test_loss):\n",
        "    \"\"\"Updates the learning rate scheduler with validation loss if applicable.\n",
        "\n",
        "    Args:\n",
        "        scheduler (torch.optim.lr_scheduler._LRScheduler or None): The learning rate scheduler to use.\n",
        "        test_loss (float): The validation loss to use.\n",
        "\n",
        "    Returns:\n",
        "        None\n",
        "    \"\"\"\n",
        "    # Checking if scheduler is not None\n",
        "    if scheduler is not None:\n",
        "        # Checking if scheduler is ReduceLROnPlateau\n",
        "        if isinstance(scheduler, optim.lr_scheduler.ReduceLROnPlateau):\n",
        "            # Updating the scheduler with test_loss\n",
        "            scheduler.step(test_loss)\n",
        "        else:\n",
        "            # Updating the scheduler without test_loss\n",
        "            scheduler.step()\n"
      ]
    },
    {
      "cell_type": "markdown",
      "metadata": {
        "id": "w1nE662UUZiE"
      },
      "source": [
        "Now for the actual training and evaluation loop,"
      ]
    },
    {
      "cell_type": "code",
      "execution_count": null,
      "metadata": {
        "id": "YAOjgKW3UZiF"
      },
      "outputs": [],
      "source": [
        "# Defining a function to train and evaluate a network\n",
        "def train_and_eval(net, loss_fn, optimizer, batch_size, n_epochs, scheduler, train_loader, val_loader, test_loader, trial=None):\n",
        "    # Initializing lists to store the losses and metrics for each epoch\n",
        "    train_losses = []\n",
        "    val_losses = []\n",
        "    test_losses = []\n",
        "    train_metrics = []\n",
        "    val_metrics = []\n",
        "    test_metrics = []\n",
        "\n",
        "\n",
        "    # Creating a SummaryWriter object to log data for tensorboard\n",
        "    writer = tbx.SummaryWriter()\n",
        "\n",
        "    # Looping over the epochs\n",
        "    for epoch in range(n_epochs):\n",
        "\n",
        "        # Setting the network to training mode\n",
        "        net.train()\n",
        "\n",
        "        # Initializing variables to store the total loss and metrics for the train set\n",
        "        train_loss = 0.0\n",
        "        train_l1_norm = 0.0\n",
        "        train_linf_norm = 0.0\n",
        "\n",
        "        # Looping over the batches in the train set\n",
        "        for x_batch, y_batch in train_loader:\n",
        "\n",
        "            # Moving the batch tensors to the device\n",
        "            x_batch = x_batch.to(device)\n",
        "            y_batch = y_batch.to(device)\n",
        "\n",
        "            # Zeroing the gradients\n",
        "            optimizer.zero_grad()\n",
        "\n",
        "            # Performing a forward pass and computing the loss and metrics\n",
        "            y_pred = net(x_batch)\n",
        "            loss, l1_norm, linf_norm = compute_loss_and_metrics(y_pred, y_batch, loss_fn)\n",
        "\n",
        "\n",
        "            # Performing a backward pass and updating the weights\n",
        "            loss.backward()\n",
        "            optimizer.step()\n",
        "\n",
        "            # Updating the total loss and metrics for the train set\n",
        "            train_loss += loss.item() * x_batch.size(0)\n",
        "            train_l1_norm += l1_norm.item() * x_batch.size(0)\n",
        "            train_linf_norm += linf_norm.item() * x_batch.size(0)\n",
        "\n",
        "        # Computing the average loss and metrics for the train set\n",
        "        train_loss /= len(train_loader.dataset)\n",
        "        train_l1_norm /= len(train_loader.dataset)\n",
        "        train_linf_norm /= len(train_loader.dataset)\n",
        "\n",
        "        # Appending the average loss and metrics for the train set to the lists\n",
        "        train_losses.append(train_loss)\n",
        "        train_metrics.append(\n",
        "            {\n",
        "                \"l1_norm\": train_l1_norm,\n",
        "                \"linf_norm\": train_linf_norm,\n",
        "            }\n",
        "        )\n",
        "\n",
        "        # Logging the average loss and metrics for the train set to tensorboard\n",
        "        writer.add_scalar(\"Loss/train\", train_loss, epoch)\n",
        "        writer.add_scalar(\"L1 norm/train\", train_l1_norm, epoch)\n",
        "        writer.add_scalar(\"Linf norm/train\", train_linf_norm, epoch)\n",
        "\n",
        "        if val_loader is not None:\n",
        "            net.eval()\n",
        "            val_loss = 0.0\n",
        "            val_l1_norm = 0.0\n",
        "            val_linf_norm = 0.0\n",
        "\n",
        "            with torch.no_grad():\n",
        "                for x_batch, y_batch in val_loader:\n",
        "                    x_batch = x_batch.to(device)\n",
        "                    y_batch = y_batch.to(device)\n",
        "                    y_pred = net(x_batch)\n",
        "                    loss, l1_norm, linf_norm = compute_loss_and_metrics(y_pred, y_batch, loss_fn)\n",
        "\n",
        "                    val_loss += loss.item() * x_batch.size(0)\n",
        "                    val_l1_norm += l1_norm.item() * x_batch.size(0)\n",
        "                    val_linf_norm += linf_norm.item() * x_batch.size(0)\n",
        "\n",
        "            val_loss /= len(val_loader.dataset)\n",
        "            val_l1_norm /= len(val_loader.dataset)\n",
        "            val_linf_norm /= len(val_loader.dataset)\n",
        "\n",
        "            val_losses.append(val_loss)\n",
        "            val_metrics.append(\n",
        "                {\n",
        "                    \"l1_norm\": val_l1_norm,\n",
        "                    \"linf_norm\": val_linf_norm,\n",
        "                }\n",
        "            )\n",
        "\n",
        "            writer.add_scalar(\"Loss/val\", val_loss, epoch)\n",
        "            writer.add_scalar(\"L1 norm/val\", val_l1_norm, epoch)\n",
        "            writer.add_scalar(\"Linf norm/val\", val_linf_norm, epoch)\n",
        "            print(f\"Epoch {epoch+1}/{n_epochs}.. Train loss: {train_loss:.3f}.. Val loss: {val_loss:.3f}.. Train L1 norm: {train_l1_norm:.3f}.. Val L1 norm: {val_l1_norm:.3f}.. Train Linf norm: {train_linf_norm:.3f}.. Val Linf norm: {val_linf_norm:.3f}\")\n",
        "\n",
        "\n",
        "            update_scheduler(scheduler, val_loss)\n",
        "\n",
        "        if test_loader is not None:\n",
        "            net.eval()\n",
        "            test_loss = 0.0\n",
        "            test_l1_norm = 0.0\n",
        "            test_linf_norm = 0.0\n",
        "\n",
        "            with torch.no_grad():\n",
        "                for x_batch, y_batch in test_loader:\n",
        "                    x_batch = x_batch.to(device)\n",
        "                    y_batch = y_batch.to(device)\n",
        "                    y_pred = net(x_batch)\n",
        "                    loss, l1_norm, linf_norm = compute_loss_and_metrics(y_pred, y_batch, loss_fn)\n",
        "\n",
        "                    test_loss += loss.item() * x_batch.size(0)\n",
        "                    test_l1_norm += l1_norm.item() * x_batch.size(0)\n",
        "                    test_linf_norm += linf_norm.item() * x_batch.size(0)\n",
        "\n",
        "            test_loss /= len(test_loader.dataset)\n",
        "            test_l1_norm /= len(test_loader.dataset)\n",
        "            test_linf_norm /= len(test_loader.dataset)\n",
        "\n",
        "            test_losses.append(test_loss)\n",
        "            test_metrics.append(\n",
        "                {\n",
        "                    \"l1_norm\": test_l1_norm,\n",
        "                    \"linf_norm\": test_linf_norm,\n",
        "                }\n",
        "            )\n",
        "\n",
        "            writer.add_scalar(\"Loss/test\", test_loss, epoch)\n",
        "            writer.add_scalar(\"L1 norm/test\", test_l1_norm, epoch)\n",
        "            writer.add_scalar(\"Linf norm/test\", test_linf_norm, epoch)\n",
        "            print(f\"Epoch {epoch+1}/{n_epochs}.. Train loss: {train_loss:.3f}.. Test loss: {test_loss:.3f}.. Train L1 norm: {train_l1_norm:.3f}.. Test L1 norm: {test_l1_norm:.3f}.. Train Linf norm: {train_linf_norm:.3f}.. Test Linf norm: {test_linf_norm:.3f}\")\n",
        "\n",
        "\n",
        "        # Reporting the intermediate metric value to Optuna if trial is not None\n",
        "        if trial is not None:\n",
        "            trial.report(val_l1_norm, epoch)\n",
        "\n",
        "            if trial.should_prune():\n",
        "                raise optuna.TrialPruned()\n",
        "\n",
        "    # Closing the SummaryWriter object\n",
        "    writer.close()\n",
        "\n",
        "    # Returning the losses and metrics lists\n",
        "    return train_losses, val_losses, test_losses, train_metrics, val_metrics, test_metrics\n"
      ]
    },
    {
      "cell_type": "markdown",
      "metadata": {
        "id": "xg9jz0SvUZiQ"
      },
      "source": [
        "## The objective function and hyperparameter tuning"
      ]
    },
    {
      "cell_type": "code",
      "execution_count": null,
      "metadata": {
        "id": "fmRncQPuUZiR"
      },
      "outputs": [],
      "source": [
        "# Defining an objective function for Optuna to minimize\n",
        "def objective(trial):\n",
        "    \"\"\"Defines an objective function for Optuna to minimize.\n",
        "\n",
        "    Args:\n",
        "        trial (optuna.trial.Trial): The trial object that contains the hyperparameters.\n",
        "\n",
        "    Returns:\n",
        "        float: The validation L1 norm to minimize.\n",
        "    \"\"\"\n",
        "    # Creating a trial network and optimizer using the create_model function\n",
        "    net, \\\n",
        "    loss_fn, \\\n",
        "    optimizer, \\\n",
        "    batch_size, \\\n",
        "    n_epochs, \\\n",
        "    scheduler, \\\n",
        "    loss_name, \\\n",
        "    optimizer_name, \\\n",
        "    scheduler_name, \\\n",
        "    n_units, \\\n",
        "    n_layers, \\\n",
        "    hidden_activation, \\\n",
        "    output_activation, \\\n",
        "    lr, \\\n",
        "    dropout_rate = create_model(trial, optimize=True)\n",
        "\n",
        "    # Create separate data loaders for training and validation\n",
        "    train_loader = torch.utils.data.DataLoader(\n",
        "        torch.utils.data.TensorDataset(x_train, y_train), batch_size=batch_size, shuffle=True\n",
        "    )\n",
        "    val_loader = torch.utils.data.DataLoader(\n",
        "        torch.utils.data.TensorDataset(x_val, y_val), batch_size=batch_size\n",
        "    )\n",
        "    \n",
        "    _, _, _, _, val_metrics, _ = train_and_eval(\n",
        "        net, loss_fn, optimizer, batch_size, n_epochs, scheduler, train_loader, val_loader, None, trial\n",
        "    )\n",
        "\n",
        "    # Returning the last validation L1 norm as the objective value to minimize\n",
        "    return val_metrics[-1][\"l1_norm\"]"
      ]
    },
    {
      "cell_type": "code",
      "execution_count": null,
      "metadata": {
        "id": "GyES4NAyUZiS",
        "colab": {
          "base_uri": "https://localhost:8080/"
        },
        "outputId": "eb121760-4c94-40e3-ea9a-47f02e270cad"
      },
      "outputs": [
        {
          "metadata": {
            "tags": null
          },
          "name": "stderr",
          "output_type": "stream",
          "text": [
            "[I 2023-05-31 09:22:13,358] A new study created in memory with name: no-name-a98526c6-0e6b-47c8-a395-e60d60b7049b\n",
            "<ipython-input-37-0c79a7da1449>:44: FutureWarning: suggest_loguniform has been deprecated in v3.0.0. This feature will be removed in v6.0.0. See https://github.com/optuna/optuna/releases/tag/v3.0.0. Use suggest_float(..., log=True) instead.\n",
            "  lr = trial.suggest_loguniform(\"lr\", 1e-5, 1e-1)\n",
            "<ipython-input-37-0c79a7da1449>:76: FutureWarning: suggest_uniform has been deprecated in v3.0.0. This feature will be removed in v6.0.0. See https://github.com/optuna/optuna/releases/tag/v3.0.0. Use suggest_float instead.\n",
            "  dropout_rate = trial.suggest_uniform(\"dropout_rate\", 0.0, 0.5)\n",
            "<ipython-input-37-0c79a7da1449>:168: FutureWarning: suggest_uniform has been deprecated in v3.0.0. This feature will be removed in v6.0.0. See https://github.com/optuna/optuna/releases/tag/v3.0.0. Use suggest_float instead.\n",
            "  t_max_fraction = trial.suggest_uniform('t_max_fraction', 0.1, 0.3)\n",
            "<ipython-input-37-0c79a7da1449>:175: FutureWarning: suggest_loguniform has been deprecated in v3.0.0. This feature will be removed in v6.0.0. See https://github.com/optuna/optuna/releases/tag/v3.0.0. Use suggest_float(..., log=True) instead.\n",
            "  eta_min = trial.suggest_loguniform(\"eta_min\", 1e-7, 1e-2)\n"
          ]
        },
        {
          "output_type": "stream",
          "name": "stdout",
          "text": [
            "Epoch 1/95.. Train loss: 46.674.. Val loss: 34.775.. Train L1 norm: 5.850.. Val L1 norm: 5.203.. Train Linf norm: 796.208.. Val Linf norm: 488.535\n",
            "Epoch 2/95.. Train loss: 44.315.. Val loss: 32.944.. Train L1 norm: 5.842.. Val L1 norm: 4.939.. Train Linf norm: 751.632.. Val Linf norm: 466.583\n",
            "Epoch 3/95.. Train loss: 43.272.. Val loss: 30.864.. Train L1 norm: 5.603.. Val L1 norm: 4.542.. Train Linf norm: 734.018.. Val Linf norm: 421.632\n",
            "Epoch 4/95.. Train loss: 41.983.. Val loss: 29.468.. Train L1 norm: 5.510.. Val L1 norm: 4.486.. Train Linf norm: 715.349.. Val Linf norm: 414.883\n",
            "Epoch 5/95.. Train loss: 41.413.. Val loss: 29.603.. Train L1 norm: 5.276.. Val L1 norm: 5.103.. Train Linf norm: 664.668.. Val Linf norm: 462.457\n",
            "Epoch 6/95.. Train loss: 41.174.. Val loss: 28.869.. Train L1 norm: 5.313.. Val L1 norm: 4.129.. Train Linf norm: 668.954.. Val Linf norm: 370.026\n",
            "Epoch 7/95.. Train loss: 41.105.. Val loss: 28.640.. Train L1 norm: 5.389.. Val L1 norm: 4.229.. Train Linf norm: 690.508.. Val Linf norm: 382.211\n",
            "Epoch 8/95.. Train loss: 40.954.. Val loss: 28.466.. Train L1 norm: 5.137.. Val L1 norm: 4.042.. Train Linf norm: 621.658.. Val Linf norm: 370.050\n",
            "Epoch 9/95.. Train loss: 40.656.. Val loss: 28.203.. Train L1 norm: 5.567.. Val L1 norm: 4.451.. Train Linf norm: 755.111.. Val Linf norm: 405.771\n",
            "Epoch 10/95.. Train loss: 40.597.. Val loss: 56.264.. Train L1 norm: 5.325.. Val L1 norm: 10.598.. Train Linf norm: 688.260.. Val Linf norm: 1062.938\n",
            "Epoch 11/95.. Train loss: 39.868.. Val loss: 25.441.. Train L1 norm: 5.196.. Val L1 norm: 3.718.. Train Linf norm: 666.649.. Val Linf norm: 325.643\n",
            "Epoch 12/95.. Train loss: 38.728.. Val loss: 24.320.. Train L1 norm: 4.742.. Val L1 norm: 4.657.. Train Linf norm: 590.865.. Val Linf norm: 419.991\n",
            "Epoch 13/95.. Train loss: 37.573.. Val loss: 22.653.. Train L1 norm: 4.825.. Val L1 norm: 3.601.. Train Linf norm: 639.790.. Val Linf norm: 321.801\n",
            "Epoch 14/95.. Train loss: 36.734.. Val loss: 23.070.. Train L1 norm: 4.173.. Val L1 norm: 2.558.. Train Linf norm: 481.693.. Val Linf norm: 189.073\n",
            "Epoch 15/95.. Train loss: 35.724.. Val loss: 30.710.. Train L1 norm: 3.950.. Val L1 norm: 1.617.. Train Linf norm: 466.488.. Val Linf norm: 101.422\n",
            "Epoch 16/95.. Train loss: 35.569.. Val loss: 22.262.. Train L1 norm: 4.390.. Val L1 norm: 4.200.. Train Linf norm: 575.289.. Val Linf norm: 370.494\n",
            "Epoch 17/95.. Train loss: 35.817.. Val loss: 26.227.. Train L1 norm: 4.289.. Val L1 norm: 3.808.. Train Linf norm: 552.102.. Val Linf norm: 293.904\n",
            "Epoch 18/95.. Train loss: 34.660.. Val loss: 21.027.. Train L1 norm: 4.375.. Val L1 norm: 2.664.. Train Linf norm: 592.900.. Val Linf norm: 210.443\n",
            "Epoch 19/95.. Train loss: 34.316.. Val loss: 22.859.. Train L1 norm: 4.524.. Val L1 norm: 3.419.. Train Linf norm: 627.043.. Val Linf norm: 290.170\n",
            "Epoch 20/95.. Train loss: 33.939.. Val loss: 23.574.. Train L1 norm: 3.886.. Val L1 norm: 2.373.. Train Linf norm: 485.134.. Val Linf norm: 193.106\n",
            "Epoch 21/95.. Train loss: 33.756.. Val loss: 20.219.. Train L1 norm: 3.946.. Val L1 norm: 2.648.. Train Linf norm: 502.139.. Val Linf norm: 195.408\n",
            "Epoch 22/95.. Train loss: 33.543.. Val loss: 19.202.. Train L1 norm: 3.863.. Val L1 norm: 2.269.. Train Linf norm: 476.289.. Val Linf norm: 166.569\n",
            "Epoch 23/95.. Train loss: 33.555.. Val loss: 19.648.. Train L1 norm: 3.882.. Val L1 norm: 3.453.. Train Linf norm: 497.907.. Val Linf norm: 290.872\n",
            "Epoch 24/95.. Train loss: 32.888.. Val loss: 19.246.. Train L1 norm: 4.348.. Val L1 norm: 2.938.. Train Linf norm: 607.686.. Val Linf norm: 236.164\n",
            "Epoch 25/95.. Train loss: 32.552.. Val loss: 19.460.. Train L1 norm: 4.178.. Val L1 norm: 2.417.. Train Linf norm: 555.270.. Val Linf norm: 200.565\n",
            "Epoch 26/95.. Train loss: 32.252.. Val loss: 18.362.. Train L1 norm: 4.061.. Val L1 norm: 2.996.. Train Linf norm: 546.963.. Val Linf norm: 246.571\n",
            "Epoch 27/95.. Train loss: 32.188.. Val loss: 18.924.. Train L1 norm: 3.424.. Val L1 norm: 2.385.. Train Linf norm: 384.001.. Val Linf norm: 166.446\n",
            "Epoch 28/95.. Train loss: 31.615.. Val loss: 17.794.. Train L1 norm: 3.581.. Val L1 norm: 2.753.. Train Linf norm: 425.544.. Val Linf norm: 233.624\n",
            "Epoch 29/95.. Train loss: 31.887.. Val loss: 18.475.. Train L1 norm: 4.526.. Val L1 norm: 2.846.. Train Linf norm: 678.081.. Val Linf norm: 227.450\n",
            "Epoch 30/95.. Train loss: 31.480.. Val loss: 38.517.. Train L1 norm: 3.931.. Val L1 norm: 4.420.. Train Linf norm: 525.357.. Val Linf norm: 377.618\n",
            "Epoch 31/95.. Train loss: 31.593.. Val loss: 17.594.. Train L1 norm: 4.148.. Val L1 norm: 2.573.. Train Linf norm: 589.102.. Val Linf norm: 197.827\n",
            "Epoch 32/95.. Train loss: 31.141.. Val loss: 17.711.. Train L1 norm: 3.969.. Val L1 norm: 2.473.. Train Linf norm: 543.178.. Val Linf norm: 199.906\n",
            "Epoch 33/95.. Train loss: 30.987.. Val loss: 17.518.. Train L1 norm: 3.491.. Val L1 norm: 2.627.. Train Linf norm: 428.122.. Val Linf norm: 238.344\n",
            "Epoch 34/95.. Train loss: 30.828.. Val loss: 17.725.. Train L1 norm: 3.841.. Val L1 norm: 2.445.. Train Linf norm: 521.399.. Val Linf norm: 211.272\n",
            "Epoch 35/95.. Train loss: 30.714.. Val loss: 17.140.. Train L1 norm: 3.824.. Val L1 norm: 2.652.. Train Linf norm: 519.643.. Val Linf norm: 219.286\n",
            "Epoch 36/95.. Train loss: 30.544.. Val loss: 17.519.. Train L1 norm: 3.682.. Val L1 norm: 2.563.. Train Linf norm: 475.869.. Val Linf norm: 221.712\n",
            "Epoch 37/95.. Train loss: 30.388.. Val loss: 17.292.. Train L1 norm: 3.460.. Val L1 norm: 2.549.. Train Linf norm: 424.228.. Val Linf norm: 211.509\n",
            "Epoch 38/95.. Train loss: 30.030.. Val loss: 17.172.. Train L1 norm: 4.867.. Val L1 norm: 2.861.. Train Linf norm: 780.028.. Val Linf norm: 233.948\n",
            "Epoch 39/95.. Train loss: 29.984.. Val loss: 16.849.. Train L1 norm: 4.424.. Val L1 norm: 2.802.. Train Linf norm: 665.625.. Val Linf norm: 241.542\n",
            "Epoch 40/95.. Train loss: 29.733.. Val loss: 16.807.. Train L1 norm: 3.770.. Val L1 norm: 2.579.. Train Linf norm: 507.401.. Val Linf norm: 224.724\n",
            "Epoch 41/95.. Train loss: 29.818.. Val loss: 16.945.. Train L1 norm: 3.540.. Val L1 norm: 2.598.. Train Linf norm: 448.847.. Val Linf norm: 223.691\n",
            "Epoch 42/95.. Train loss: 29.627.. Val loss: 16.716.. Train L1 norm: 4.021.. Val L1 norm: 2.655.. Train Linf norm: 572.118.. Val Linf norm: 228.094\n",
            "Epoch 43/95.. Train loss: 29.651.. Val loss: 16.843.. Train L1 norm: 3.702.. Val L1 norm: 2.661.. Train Linf norm: 484.180.. Val Linf norm: 232.725\n",
            "Epoch 44/95.. Train loss: 29.833.. Val loss: 16.807.. Train L1 norm: 4.287.. Val L1 norm: 2.666.. Train Linf norm: 647.199.. Val Linf norm: 228.446\n",
            "Epoch 45/95.. Train loss: 29.685.. Val loss: 16.790.. Train L1 norm: 3.865.. Val L1 norm: 2.667.. Train Linf norm: 533.255.. Val Linf norm: 230.074\n",
            "Epoch 46/95.. Train loss: 29.753.. Val loss: 16.770.. Train L1 norm: 3.919.. Val L1 norm: 2.662.. Train Linf norm: 477.300.. Val Linf norm: 228.461\n",
            "Epoch 47/95.. Train loss: 29.604.. Val loss: 16.728.. Train L1 norm: 3.815.. Val L1 norm: 2.660.. Train Linf norm: 519.872.. Val Linf norm: 226.754\n",
            "Epoch 48/95.. Train loss: 29.713.. Val loss: 16.768.. Train L1 norm: 3.804.. Val L1 norm: 2.674.. Train Linf norm: 519.712.. Val Linf norm: 229.926\n",
            "Epoch 49/95.. Train loss: 29.765.. Val loss: 16.625.. Train L1 norm: 4.173.. Val L1 norm: 2.617.. Train Linf norm: 599.849.. Val Linf norm: 225.797\n",
            "Epoch 50/95.. Train loss: 29.809.. Val loss: 17.007.. Train L1 norm: 4.454.. Val L1 norm: 2.691.. Train Linf norm: 683.522.. Val Linf norm: 234.115\n",
            "Epoch 51/95.. Train loss: 29.939.. Val loss: 16.738.. Train L1 norm: 3.393.. Val L1 norm: 2.511.. Train Linf norm: 403.596.. Val Linf norm: 215.059\n",
            "Epoch 52/95.. Train loss: 29.747.. Val loss: 18.639.. Train L1 norm: 3.624.. Val L1 norm: 3.251.. Train Linf norm: 461.036.. Val Linf norm: 287.763\n",
            "Epoch 53/95.. Train loss: 29.827.. Val loss: 16.962.. Train L1 norm: 4.008.. Val L1 norm: 2.571.. Train Linf norm: 569.918.. Val Linf norm: 228.799\n",
            "Epoch 54/95.. Train loss: 29.686.. Val loss: 16.857.. Train L1 norm: 4.037.. Val L1 norm: 2.798.. Train Linf norm: 580.947.. Val Linf norm: 249.034\n",
            "Epoch 55/95.. Train loss: 29.988.. Val loss: 16.911.. Train L1 norm: 4.080.. Val L1 norm: 2.613.. Train Linf norm: 581.283.. Val Linf norm: 223.339\n",
            "Epoch 56/95.. Train loss: 29.926.. Val loss: 17.007.. Train L1 norm: 4.159.. Val L1 norm: 2.821.. Train Linf norm: 594.126.. Val Linf norm: 244.054\n",
            "Epoch 57/95.. Train loss: 30.199.. Val loss: 17.134.. Train L1 norm: 4.047.. Val L1 norm: 2.555.. Train Linf norm: 578.532.. Val Linf norm: 224.550\n",
            "Epoch 58/95.. Train loss: 30.243.. Val loss: 17.837.. Train L1 norm: 4.041.. Val L1 norm: 3.350.. Train Linf norm: 566.365.. Val Linf norm: 287.251\n",
            "Epoch 59/95.. Train loss: 30.064.. Val loss: 17.688.. Train L1 norm: 3.953.. Val L1 norm: 2.581.. Train Linf norm: 550.983.. Val Linf norm: 229.408\n",
            "Epoch 60/95.. Train loss: 30.437.. Val loss: 17.834.. Train L1 norm: 3.931.. Val L1 norm: 2.970.. Train Linf norm: 525.641.. Val Linf norm: 269.856\n",
            "Epoch 61/95.. Train loss: 30.369.. Val loss: 17.707.. Train L1 norm: 4.203.. Val L1 norm: 3.059.. Train Linf norm: 613.823.. Val Linf norm: 265.811\n",
            "Epoch 62/95.. Train loss: 30.424.. Val loss: 20.738.. Train L1 norm: 4.314.. Val L1 norm: 4.175.. Train Linf norm: 648.845.. Val Linf norm: 368.557\n",
            "Epoch 63/95.. Train loss: 30.553.. Val loss: 17.077.. Train L1 norm: 3.843.. Val L1 norm: 2.425.. Train Linf norm: 524.203.. Val Linf norm: 233.967\n",
            "Epoch 64/95.. Train loss: 29.993.. Val loss: 18.892.. Train L1 norm: 3.867.. Val L1 norm: 2.333.. Train Linf norm: 534.508.. Val Linf norm: 197.236\n",
            "Epoch 65/95.. Train loss: 30.418.. Val loss: 17.964.. Train L1 norm: 4.190.. Val L1 norm: 3.481.. Train Linf norm: 601.019.. Val Linf norm: 288.235\n",
            "Epoch 66/95.. Train loss: 29.779.. Val loss: 16.694.. Train L1 norm: 3.597.. Val L1 norm: 2.197.. Train Linf norm: 469.653.. Val Linf norm: 189.445\n",
            "Epoch 67/95.. Train loss: 30.382.. Val loss: 17.731.. Train L1 norm: 4.122.. Val L1 norm: 3.012.. Train Linf norm: 595.434.. Val Linf norm: 271.977\n",
            "Epoch 68/95.. Train loss: 30.205.. Val loss: 16.491.. Train L1 norm: 4.128.. Val L1 norm: 2.539.. Train Linf norm: 598.250.. Val Linf norm: 197.979\n",
            "Epoch 69/95.. Train loss: 29.934.. Val loss: 16.664.. Train L1 norm: 3.895.. Val L1 norm: 2.718.. Train Linf norm: 540.607.. Val Linf norm: 230.207\n",
            "Epoch 70/95.. Train loss: 29.994.. Val loss: 16.951.. Train L1 norm: 3.780.. Val L1 norm: 2.716.. Train Linf norm: 515.220.. Val Linf norm: 248.795\n",
            "Epoch 71/95.. Train loss: 29.477.. Val loss: 17.021.. Train L1 norm: 3.762.. Val L1 norm: 2.906.. Train Linf norm: 515.601.. Val Linf norm: 255.364\n",
            "Epoch 72/95.. Train loss: 29.892.. Val loss: 19.150.. Train L1 norm: 3.247.. Val L1 norm: 3.822.. Train Linf norm: 373.754.. Val Linf norm: 320.830\n",
            "Epoch 73/95.. Train loss: 29.556.. Val loss: 21.652.. Train L1 norm: 3.324.. Val L1 norm: 2.578.. Train Linf norm: 387.230.. Val Linf norm: 236.987\n",
            "Epoch 74/95.. Train loss: 29.471.. Val loss: 17.090.. Train L1 norm: 3.986.. Val L1 norm: 2.904.. Train Linf norm: 576.594.. Val Linf norm: 242.226\n",
            "Epoch 75/95.. Train loss: 29.563.. Val loss: 17.099.. Train L1 norm: 4.090.. Val L1 norm: 2.481.. Train Linf norm: 515.055.. Val Linf norm: 224.146\n",
            "Epoch 76/95.. Train loss: 28.922.. Val loss: 17.373.. Train L1 norm: 3.659.. Val L1 norm: 3.361.. Train Linf norm: 490.242.. Val Linf norm: 287.068\n",
            "Epoch 77/95.. Train loss: 28.974.. Val loss: 16.114.. Train L1 norm: 3.967.. Val L1 norm: 2.650.. Train Linf norm: 562.082.. Val Linf norm: 229.499\n",
            "Epoch 78/95.. Train loss: 28.749.. Val loss: 19.176.. Train L1 norm: 3.944.. Val L1 norm: 2.500.. Train Linf norm: 567.787.. Val Linf norm: 227.363\n",
            "Epoch 79/95.. Train loss: 28.848.. Val loss: 16.588.. Train L1 norm: 3.330.. Val L1 norm: 2.664.. Train Linf norm: 391.591.. Val Linf norm: 232.330\n",
            "Epoch 80/95.. Train loss: 29.012.. Val loss: 16.742.. Train L1 norm: 3.278.. Val L1 norm: 2.487.. Train Linf norm: 394.637.. Val Linf norm: 226.967\n",
            "Epoch 81/95.. Train loss: 28.289.. Val loss: 16.403.. Train L1 norm: 3.156.. Val L1 norm: 2.738.. Train Linf norm: 356.513.. Val Linf norm: 238.423\n",
            "Epoch 82/95.. Train loss: 28.387.. Val loss: 16.319.. Train L1 norm: 3.808.. Val L1 norm: 2.712.. Train Linf norm: 537.560.. Val Linf norm: 246.537\n",
            "Epoch 83/95.. Train loss: 28.124.. Val loss: 16.456.. Train L1 norm: 3.391.. Val L1 norm: 2.608.. Train Linf norm: 426.151.. Val Linf norm: 237.908\n",
            "Epoch 84/95.. Train loss: 27.646.. Val loss: 17.906.. Train L1 norm: 3.881.. Val L1 norm: 2.637.. Train Linf norm: 546.506.. Val Linf norm: 245.174\n",
            "Epoch 85/95.. Train loss: 27.845.. Val loss: 16.338.. Train L1 norm: 3.314.. Val L1 norm: 2.588.. Train Linf norm: 411.877.. Val Linf norm: 236.980\n",
            "Epoch 86/95.. Train loss: 27.803.. Val loss: 16.456.. Train L1 norm: 3.804.. Val L1 norm: 2.633.. Train Linf norm: 534.957.. Val Linf norm: 243.261\n",
            "Epoch 87/95.. Train loss: 28.334.. Val loss: 16.338.. Train L1 norm: 3.512.. Val L1 norm: 2.628.. Train Linf norm: 458.229.. Val Linf norm: 239.642\n",
            "Epoch 88/95.. Train loss: 27.372.. Val loss: 16.354.. Train L1 norm: 3.126.. Val L1 norm: 2.649.. Train Linf norm: 364.308.. Val Linf norm: 243.030\n",
            "Epoch 89/95.. Train loss: 27.591.. Val loss: 16.335.. Train L1 norm: 4.176.. Val L1 norm: 2.646.. Train Linf norm: 625.938.. Val Linf norm: 243.603\n",
            "Epoch 90/95.. Train loss: 28.273.. Val loss: 16.376.. Train L1 norm: 3.387.. Val L1 norm: 2.628.. Train Linf norm: 433.046.. Val Linf norm: 242.029\n",
            "Epoch 91/95.. Train loss: 27.527.. Val loss: 16.326.. Train L1 norm: 3.597.. Val L1 norm: 2.635.. Train Linf norm: 476.306.. Val Linf norm: 241.134\n",
            "Epoch 92/95.. Train loss: 27.483.. Val loss: 16.361.. Train L1 norm: 3.736.. Val L1 norm: 2.602.. Train Linf norm: 513.225.. Val Linf norm: 240.395\n",
            "Epoch 93/95.. Train loss: 27.681.. Val loss: 16.558.. Train L1 norm: 3.881.. Val L1 norm: 2.582.. Train Linf norm: 552.811.. Val Linf norm: 238.181\n",
            "Epoch 94/95.. Train loss: 27.545.. Val loss: 16.068.. Train L1 norm: 3.677.. Val L1 norm: 2.631.. Train Linf norm: 501.658.. Val Linf norm: 242.420\n"
          ]
        },
        {
          "output_type": "stream",
          "name": "stderr",
          "text": [
            "[I 2023-05-31 09:34:54,550] Trial 0 finished with value: 2.6737526142120362 and parameters: {'n_layers': 9, 'n_units_0': 430, 'n_units_1': 2687, 'n_units_2': 501, 'n_units_3': 2754, 'n_units_4': 2134, 'n_units_5': 3213, 'n_units_6': 3883, 'n_units_7': 839, 'n_units_8': 3017, 'hidden_activation': 'ELU', 'output_activation': 'Linear', 'loss': 'MSE', 'optimizer': 'Adagrad', 'lr': 1.510086129907398e-05, 'batch_size': 256, 'n_epochs': 95, 'scheduler': 'CosineAnnealingLR', 'dropout_rate': 0.061895035195247305, 't_max_fraction': 0.24130088812490558, 'eta_min': 0.0015272142315904543}. Best is trial 0 with value: 2.6737526142120362.\n"
          ]
        },
        {
          "output_type": "stream",
          "name": "stdout",
          "text": [
            "Epoch 95/95.. Train loss: 27.714.. Val loss: 16.428.. Train L1 norm: 4.293.. Val L1 norm: 2.674.. Train Linf norm: 660.035.. Val Linf norm: 247.127\n"
          ]
        },
        {
          "output_type": "stream",
          "name": "stderr",
          "text": [
            "<ipython-input-37-0c79a7da1449>:145: FutureWarning: suggest_loguniform has been deprecated in v3.0.0. This feature will be removed in v6.0.0. See https://github.com/optuna/optuna/releases/tag/v3.0.0. Use suggest_float(..., log=True) instead.\n",
            "  weight_decay = trial.suggest_loguniform(\"weight_decay\", 1e-5, 1e-2)\n",
            "<ipython-input-37-0c79a7da1449>:146: FutureWarning: suggest_uniform has been deprecated in v3.0.0. This feature will be removed in v6.0.0. See https://github.com/optuna/optuna/releases/tag/v3.0.0. Use suggest_float instead.\n",
            "  momentum = trial.suggest_uniform(\"momentum\", 0.0, 0.99)\n"
          ]
        },
        {
          "output_type": "stream",
          "name": "stdout",
          "text": [
            "Epoch 1/88.. Train loss: 2.237.. Val loss: 2.208.. Train L1 norm: 4.057.. Val L1 norm: 2.443.. Train Linf norm: 86.272.. Val Linf norm: 40.105\n",
            "Epoch 2/88.. Train loss: 2.203.. Val loss: 2.247.. Train L1 norm: 4.286.. Val L1 norm: 2.136.. Train Linf norm: 92.333.. Val Linf norm: 32.528\n",
            "Epoch 3/88.. Train loss: 2.162.. Val loss: 2.144.. Train L1 norm: 4.419.. Val L1 norm: 4.366.. Train Linf norm: 95.105.. Val Linf norm: 83.405\n",
            "Epoch 4/88.. Train loss: 2.130.. Val loss: 2.108.. Train L1 norm: 4.581.. Val L1 norm: 4.457.. Train Linf norm: 98.863.. Val Linf norm: 85.636\n",
            "Epoch 5/88.. Train loss: 2.157.. Val loss: 2.098.. Train L1 norm: 4.224.. Val L1 norm: 4.216.. Train Linf norm: 87.910.. Val Linf norm: 80.039\n",
            "Epoch 6/88.. Train loss: 2.157.. Val loss: 2.090.. Train L1 norm: 4.542.. Val L1 norm: 3.463.. Train Linf norm: 97.477.. Val Linf norm: 63.164\n",
            "Epoch 7/88.. Train loss: 2.104.. Val loss: 2.068.. Train L1 norm: 4.780.. Val L1 norm: 4.714.. Train Linf norm: 103.013.. Val Linf norm: 91.288\n",
            "Epoch 8/88.. Train loss: 2.093.. Val loss: 2.031.. Train L1 norm: 4.975.. Val L1 norm: 3.991.. Train Linf norm: 108.076.. Val Linf norm: 76.153\n",
            "Epoch 9/88.. Train loss: 2.104.. Val loss: 2.059.. Train L1 norm: 4.831.. Val L1 norm: 4.018.. Train Linf norm: 104.135.. Val Linf norm: 76.095\n",
            "Epoch 10/88.. Train loss: 2.088.. Val loss: 2.074.. Train L1 norm: 4.969.. Val L1 norm: 3.557.. Train Linf norm: 106.680.. Val Linf norm: 65.754\n",
            "Epoch 11/88.. Train loss: 2.077.. Val loss: 2.021.. Train L1 norm: 5.120.. Val L1 norm: 4.207.. Train Linf norm: 111.654.. Val Linf norm: 80.520\n",
            "Epoch 12/88.. Train loss: 2.074.. Val loss: 2.073.. Train L1 norm: 5.395.. Val L1 norm: 3.665.. Train Linf norm: 119.528.. Val Linf norm: 68.582\n",
            "Epoch 13/88.. Train loss: 2.060.. Val loss: 2.032.. Train L1 norm: 5.251.. Val L1 norm: 4.887.. Train Linf norm: 114.717.. Val Linf norm: 94.830\n",
            "Epoch 14/88.. Train loss: 2.053.. Val loss: 2.017.. Train L1 norm: 5.116.. Val L1 norm: 5.086.. Train Linf norm: 109.724.. Val Linf norm: 99.720\n",
            "Epoch 15/88.. Train loss: 2.042.. Val loss: 2.011.. Train L1 norm: 5.646.. Val L1 norm: 4.869.. Train Linf norm: 127.656.. Val Linf norm: 94.987\n",
            "Epoch 16/88.. Train loss: 2.039.. Val loss: 1.980.. Train L1 norm: 5.414.. Val L1 norm: 4.555.. Train Linf norm: 120.706.. Val Linf norm: 88.712\n",
            "Epoch 17/88.. Train loss: 2.032.. Val loss: 2.013.. Train L1 norm: 5.354.. Val L1 norm: 4.803.. Train Linf norm: 118.517.. Val Linf norm: 94.040\n",
            "Epoch 18/88.. Train loss: 2.021.. Val loss: 1.993.. Train L1 norm: 5.239.. Val L1 norm: 4.407.. Train Linf norm: 113.388.. Val Linf norm: 85.493\n",
            "Epoch 19/88.. Train loss: 2.048.. Val loss: 1.999.. Train L1 norm: 5.510.. Val L1 norm: 4.846.. Train Linf norm: 122.771.. Val Linf norm: 95.049\n",
            "Epoch 20/88.. Train loss: 2.006.. Val loss: 1.979.. Train L1 norm: 5.618.. Val L1 norm: 4.747.. Train Linf norm: 125.160.. Val Linf norm: 93.156\n",
            "Epoch 21/88.. Train loss: 1.998.. Val loss: 1.971.. Train L1 norm: 5.488.. Val L1 norm: 4.807.. Train Linf norm: 122.210.. Val Linf norm: 94.178\n",
            "Epoch 22/88.. Train loss: 1.983.. Val loss: 1.965.. Train L1 norm: 5.543.. Val L1 norm: 4.531.. Train Linf norm: 123.611.. Val Linf norm: 88.293\n",
            "Epoch 23/88.. Train loss: 1.977.. Val loss: 1.968.. Train L1 norm: 5.801.. Val L1 norm: 4.893.. Train Linf norm: 132.662.. Val Linf norm: 96.086\n",
            "Epoch 24/88.. Train loss: 1.957.. Val loss: 1.886.. Train L1 norm: 5.321.. Val L1 norm: 4.270.. Train Linf norm: 118.249.. Val Linf norm: 83.080\n",
            "Epoch 25/88.. Train loss: 1.920.. Val loss: 1.937.. Train L1 norm: 4.829.. Val L1 norm: 4.734.. Train Linf norm: 103.846.. Val Linf norm: 93.783\n",
            "Epoch 26/88.. Train loss: 1.903.. Val loss: 1.846.. Train L1 norm: 4.962.. Val L1 norm: 4.069.. Train Linf norm: 110.230.. Val Linf norm: 79.678\n",
            "Epoch 27/88.. Train loss: 1.871.. Val loss: 1.877.. Train L1 norm: 4.743.. Val L1 norm: 5.147.. Train Linf norm: 104.247.. Val Linf norm: 101.676\n",
            "Epoch 28/88.. Train loss: 1.840.. Val loss: 1.761.. Train L1 norm: 4.679.. Val L1 norm: 3.609.. Train Linf norm: 103.515.. Val Linf norm: 67.398\n",
            "Epoch 29/88.. Train loss: 1.813.. Val loss: 1.710.. Train L1 norm: 5.043.. Val L1 norm: 4.032.. Train Linf norm: 116.166.. Val Linf norm: 78.100\n",
            "Epoch 30/88.. Train loss: 1.786.. Val loss: 1.699.. Train L1 norm: 4.657.. Val L1 norm: 4.027.. Train Linf norm: 104.114.. Val Linf norm: 77.918\n",
            "Epoch 31/88.. Train loss: 1.764.. Val loss: 1.626.. Train L1 norm: 4.038.. Val L1 norm: 3.356.. Train Linf norm: 84.758.. Val Linf norm: 63.683\n",
            "Epoch 32/88.. Train loss: 1.739.. Val loss: 1.614.. Train L1 norm: 4.592.. Val L1 norm: 3.164.. Train Linf norm: 103.006.. Val Linf norm: 58.659\n",
            "Epoch 33/88.. Train loss: 1.725.. Val loss: 1.868.. Train L1 norm: 4.675.. Val L1 norm: 2.154.. Train Linf norm: 106.272.. Val Linf norm: 34.308\n",
            "Epoch 34/88.. Train loss: 1.710.. Val loss: 1.616.. Train L1 norm: 4.150.. Val L1 norm: 3.702.. Train Linf norm: 88.752.. Val Linf norm: 73.325\n",
            "Epoch 35/88.. Train loss: 1.683.. Val loss: 1.541.. Train L1 norm: 3.854.. Val L1 norm: 3.048.. Train Linf norm: 79.866.. Val Linf norm: 57.640\n",
            "Epoch 36/88.. Train loss: 1.678.. Val loss: 1.519.. Train L1 norm: 4.158.. Val L1 norm: 3.368.. Train Linf norm: 90.433.. Val Linf norm: 63.935\n",
            "Epoch 37/88.. Train loss: 1.657.. Val loss: 1.482.. Train L1 norm: 3.991.. Val L1 norm: 2.747.. Train Linf norm: 85.940.. Val Linf norm: 50.800\n",
            "Epoch 38/88.. Train loss: 1.651.. Val loss: 1.483.. Train L1 norm: 4.178.. Val L1 norm: 3.481.. Train Linf norm: 91.172.. Val Linf norm: 66.847\n",
            "Epoch 39/88.. Train loss: 1.612.. Val loss: 1.472.. Train L1 norm: 3.984.. Val L1 norm: 3.102.. Train Linf norm: 86.580.. Val Linf norm: 59.352\n",
            "Epoch 40/88.. Train loss: 1.597.. Val loss: 1.464.. Train L1 norm: 4.334.. Val L1 norm: 2.809.. Train Linf norm: 97.909.. Val Linf norm: 50.832\n",
            "Epoch 41/88.. Train loss: 1.579.. Val loss: 1.438.. Train L1 norm: 4.990.. Val L1 norm: 2.851.. Train Linf norm: 118.942.. Val Linf norm: 53.069\n",
            "Epoch 42/88.. Train loss: 1.574.. Val loss: 1.398.. Train L1 norm: 4.309.. Val L1 norm: 2.945.. Train Linf norm: 97.673.. Val Linf norm: 54.205\n",
            "Epoch 43/88.. Train loss: 1.553.. Val loss: 1.516.. Train L1 norm: 4.575.. Val L1 norm: 3.978.. Train Linf norm: 106.618.. Val Linf norm: 75.696\n",
            "Epoch 44/88.. Train loss: 1.537.. Val loss: 1.394.. Train L1 norm: 3.974.. Val L1 norm: 3.399.. Train Linf norm: 87.465.. Val Linf norm: 64.437\n",
            "Epoch 45/88.. Train loss: 1.521.. Val loss: 1.427.. Train L1 norm: 3.831.. Val L1 norm: 3.707.. Train Linf norm: 83.577.. Val Linf norm: 71.447\n",
            "Epoch 46/88.. Train loss: 1.496.. Val loss: 1.380.. Train L1 norm: 3.718.. Val L1 norm: 3.350.. Train Linf norm: 80.782.. Val Linf norm: 63.850\n",
            "Epoch 47/88.. Train loss: 1.482.. Val loss: 1.421.. Train L1 norm: 3.552.. Val L1 norm: 3.279.. Train Linf norm: 75.526.. Val Linf norm: 61.822\n",
            "Epoch 48/88.. Train loss: 1.469.. Val loss: 1.315.. Train L1 norm: 4.135.. Val L1 norm: 2.555.. Train Linf norm: 94.695.. Val Linf norm: 49.007\n",
            "Epoch 49/88.. Train loss: 1.456.. Val loss: 1.330.. Train L1 norm: 3.782.. Val L1 norm: 3.000.. Train Linf norm: 83.962.. Val Linf norm: 56.520\n",
            "Epoch 50/88.. Train loss: 1.435.. Val loss: 1.381.. Train L1 norm: 3.596.. Val L1 norm: 3.637.. Train Linf norm: 78.693.. Val Linf norm: 70.249\n",
            "Epoch 51/88.. Train loss: 1.424.. Val loss: 1.356.. Train L1 norm: 3.948.. Val L1 norm: 3.609.. Train Linf norm: 90.339.. Val Linf norm: 69.044\n",
            "Epoch 52/88.. Train loss: 1.405.. Val loss: 1.378.. Train L1 norm: 4.150.. Val L1 norm: 3.715.. Train Linf norm: 96.500.. Val Linf norm: 71.298\n",
            "Epoch 53/88.. Train loss: 1.391.. Val loss: 1.315.. Train L1 norm: 4.212.. Val L1 norm: 3.428.. Train Linf norm: 99.406.. Val Linf norm: 67.869\n",
            "Epoch 54/88.. Train loss: 1.380.. Val loss: 1.358.. Train L1 norm: 4.109.. Val L1 norm: 3.655.. Train Linf norm: 96.792.. Val Linf norm: 69.662\n",
            "Epoch 55/88.. Train loss: 1.368.. Val loss: 1.316.. Train L1 norm: 3.500.. Val L1 norm: 3.395.. Train Linf norm: 77.798.. Val Linf norm: 64.641\n",
            "Epoch 56/88.. Train loss: 1.351.. Val loss: 1.329.. Train L1 norm: 3.206.. Val L1 norm: 3.552.. Train Linf norm: 68.070.. Val Linf norm: 67.661\n",
            "Epoch 57/88.. Train loss: 1.341.. Val loss: 1.352.. Train L1 norm: 3.376.. Val L1 norm: 3.722.. Train Linf norm: 74.278.. Val Linf norm: 72.630\n",
            "Epoch 58/88.. Train loss: 1.332.. Val loss: 1.328.. Train L1 norm: 4.401.. Val L1 norm: 3.602.. Train Linf norm: 107.354.. Val Linf norm: 68.319\n",
            "Epoch 59/88.. Train loss: 1.327.. Val loss: 1.357.. Train L1 norm: 3.784.. Val L1 norm: 3.752.. Train Linf norm: 87.558.. Val Linf norm: 71.863\n",
            "Epoch 60/88.. Train loss: 1.315.. Val loss: 1.486.. Train L1 norm: 3.320.. Val L1 norm: 4.262.. Train Linf norm: 73.031.. Val Linf norm: 80.428\n",
            "Epoch 61/88.. Train loss: 1.306.. Val loss: 1.340.. Train L1 norm: 2.999.. Val L1 norm: 3.645.. Train Linf norm: 61.358.. Val Linf norm: 70.179\n",
            "Epoch 62/88.. Train loss: 1.306.. Val loss: 1.426.. Train L1 norm: 4.030.. Val L1 norm: 4.155.. Train Linf norm: 95.832.. Val Linf norm: 79.746\n",
            "Epoch 63/88.. Train loss: 1.304.. Val loss: 1.477.. Train L1 norm: 3.388.. Val L1 norm: 4.257.. Train Linf norm: 75.866.. Val Linf norm: 80.769\n",
            "Epoch 64/88.. Train loss: 1.301.. Val loss: 1.289.. Train L1 norm: 4.126.. Val L1 norm: 3.489.. Train Linf norm: 99.103.. Val Linf norm: 67.825\n",
            "Epoch 65/88.. Train loss: 1.294.. Val loss: 1.292.. Train L1 norm: 3.539.. Val L1 norm: 3.509.. Train Linf norm: 80.719.. Val Linf norm: 67.761\n",
            "Epoch 66/88.. Train loss: 1.293.. Val loss: 1.430.. Train L1 norm: 3.073.. Val L1 norm: 3.925.. Train Linf norm: 65.638.. Val Linf norm: 74.565\n",
            "Epoch 67/88.. Train loss: 1.291.. Val loss: 1.353.. Train L1 norm: 3.750.. Val L1 norm: 3.801.. Train Linf norm: 87.047.. Val Linf norm: 73.077\n",
            "Epoch 68/88.. Train loss: 1.296.. Val loss: 1.328.. Train L1 norm: 3.295.. Val L1 norm: 3.743.. Train Linf norm: 72.913.. Val Linf norm: 73.562\n",
            "Epoch 69/88.. Train loss: 1.308.. Val loss: 1.338.. Train L1 norm: 3.231.. Val L1 norm: 3.704.. Train Linf norm: 71.365.. Val Linf norm: 72.246\n",
            "Epoch 70/88.. Train loss: 1.316.. Val loss: 1.574.. Train L1 norm: 3.494.. Val L1 norm: 4.630.. Train Linf norm: 78.744.. Val Linf norm: 89.017\n",
            "Epoch 71/88.. Train loss: 1.301.. Val loss: 1.262.. Train L1 norm: 3.429.. Val L1 norm: 3.326.. Train Linf norm: 77.640.. Val Linf norm: 64.917\n",
            "Epoch 72/88.. Train loss: 1.293.. Val loss: 1.237.. Train L1 norm: 3.769.. Val L1 norm: 3.130.. Train Linf norm: 88.199.. Val Linf norm: 59.854\n",
            "Epoch 73/88.. Train loss: 1.292.. Val loss: 1.353.. Train L1 norm: 3.410.. Val L1 norm: 3.937.. Train Linf norm: 77.195.. Val Linf norm: 77.058\n",
            "Epoch 74/88.. Train loss: 1.289.. Val loss: 1.317.. Train L1 norm: 3.904.. Val L1 norm: 3.819.. Train Linf norm: 93.057.. Val Linf norm: 75.577\n",
            "Epoch 75/88.. Train loss: 1.278.. Val loss: 1.314.. Train L1 norm: 3.254.. Val L1 norm: 3.594.. Train Linf norm: 71.740.. Val Linf norm: 71.575\n",
            "Epoch 76/88.. Train loss: 1.283.. Val loss: 1.241.. Train L1 norm: 3.266.. Val L1 norm: 3.445.. Train Linf norm: 72.316.. Val Linf norm: 68.105\n",
            "Epoch 77/88.. Train loss: 1.276.. Val loss: 1.437.. Train L1 norm: 3.611.. Val L1 norm: 4.245.. Train Linf norm: 83.344.. Val Linf norm: 81.452\n",
            "Epoch 78/88.. Train loss: 1.272.. Val loss: 1.327.. Train L1 norm: 3.349.. Val L1 norm: 3.464.. Train Linf norm: 75.161.. Val Linf norm: 65.372\n",
            "Epoch 79/88.. Train loss: 1.275.. Val loss: 1.491.. Train L1 norm: 3.284.. Val L1 norm: 4.340.. Train Linf norm: 72.803.. Val Linf norm: 82.824\n",
            "Epoch 80/88.. Train loss: 1.252.. Val loss: 1.470.. Train L1 norm: 3.131.. Val L1 norm: 4.474.. Train Linf norm: 68.359.. Val Linf norm: 86.648\n",
            "Epoch 81/88.. Train loss: 1.255.. Val loss: 1.379.. Train L1 norm: 3.072.. Val L1 norm: 3.947.. Train Linf norm: 67.328.. Val Linf norm: 76.946\n",
            "Epoch 82/88.. Train loss: 1.238.. Val loss: 1.435.. Train L1 norm: 3.211.. Val L1 norm: 4.422.. Train Linf norm: 69.976.. Val Linf norm: 86.449\n",
            "Epoch 83/88.. Train loss: 1.232.. Val loss: 1.304.. Train L1 norm: 3.071.. Val L1 norm: 3.456.. Train Linf norm: 67.423.. Val Linf norm: 64.489\n",
            "Epoch 84/88.. Train loss: 1.226.. Val loss: 1.422.. Train L1 norm: 3.335.. Val L1 norm: 4.324.. Train Linf norm: 76.040.. Val Linf norm: 83.420\n",
            "Epoch 85/88.. Train loss: 1.219.. Val loss: 1.441.. Train L1 norm: 3.564.. Val L1 norm: 4.291.. Train Linf norm: 84.117.. Val Linf norm: 83.303\n",
            "Epoch 86/88.. Train loss: 1.213.. Val loss: 1.424.. Train L1 norm: 3.336.. Val L1 norm: 4.348.. Train Linf norm: 76.292.. Val Linf norm: 84.615\n",
            "Epoch 87/88.. Train loss: 1.206.. Val loss: 1.418.. Train L1 norm: 3.132.. Val L1 norm: 4.212.. Train Linf norm: 69.471.. Val Linf norm: 82.216\n"
          ]
        },
        {
          "output_type": "stream",
          "name": "stderr",
          "text": [
            "[I 2023-05-31 09:59:32,074] Trial 1 finished with value: 4.757977059809367 and parameters: {'n_layers': 5, 'n_units_0': 1770, 'n_units_1': 3291, 'n_units_2': 3910, 'n_units_3': 557, 'n_units_4': 1806, 'hidden_activation': 'ReLU', 'output_activation': 'Linear', 'loss': 'Quantile', 'optimizer': 'SGD', 'lr': 0.00018045921641826707, 'batch_size': 32, 'n_epochs': 88, 'scheduler': 'CosineAnnealingLR', 'dropout_rate': 0.20098610012289375, 'weight_decay': 9.105608230120499e-05, 'momentum': 0.8678248474130874, 't_max_fraction': 0.18063649866957338, 'eta_min': 0.00035521273669044404}. Best is trial 0 with value: 2.6737526142120362.\n"
          ]
        },
        {
          "output_type": "stream",
          "name": "stdout",
          "text": [
            "Epoch 88/88.. Train loss: 1.197.. Val loss: 1.517.. Train L1 norm: 3.693.. Val L1 norm: 4.758.. Train Linf norm: 88.517.. Val Linf norm: 94.911\n",
            "Epoch 1/90.. Train loss: 4.468.. Val loss: 4.305.. Train L1 norm: 3.537.. Val L1 norm: 2.455.. Train Linf norm: 1988.827.. Val Linf norm: 756.013\n",
            "Epoch 2/90.. Train loss: 4.187.. Val loss: 4.118.. Train L1 norm: 4.864.. Val L1 norm: 3.208.. Train Linf norm: 3550.974.. Val Linf norm: 1081.091\n",
            "Epoch 3/90.. Train loss: 4.131.. Val loss: 4.067.. Train L1 norm: 4.965.. Val L1 norm: 3.284.. Train Linf norm: 3533.682.. Val Linf norm: 1104.953\n",
            "Epoch 4/90.. Train loss: 4.078.. Val loss: 4.113.. Train L1 norm: 5.087.. Val L1 norm: 2.978.. Train Linf norm: 3703.898.. Val Linf norm: 973.650\n",
            "Epoch 5/90.. Train loss: 4.033.. Val loss: 4.042.. Train L1 norm: 4.776.. Val L1 norm: 3.248.. Train Linf norm: 2950.462.. Val Linf norm: 1101.071\n",
            "Epoch 6/90.. Train loss: 3.985.. Val loss: 4.074.. Train L1 norm: 5.025.. Val L1 norm: 3.381.. Train Linf norm: 3592.246.. Val Linf norm: 1173.188\n",
            "Epoch 7/90.. Train loss: 3.963.. Val loss: 4.075.. Train L1 norm: 5.001.. Val L1 norm: 3.284.. Train Linf norm: 2970.974.. Val Linf norm: 1176.417\n",
            "Epoch 8/90.. Train loss: 3.917.. Val loss: 4.048.. Train L1 norm: 5.024.. Val L1 norm: 3.764.. Train Linf norm: 3673.375.. Val Linf norm: 1367.297\n",
            "Epoch 9/90.. Train loss: 3.909.. Val loss: 4.074.. Train L1 norm: 5.061.. Val L1 norm: 3.783.. Train Linf norm: 3006.721.. Val Linf norm: 1352.270\n",
            "Epoch 10/90.. Train loss: 3.893.. Val loss: 4.000.. Train L1 norm: 4.970.. Val L1 norm: 4.112.. Train Linf norm: 3079.405.. Val Linf norm: 1519.175\n",
            "Epoch 11/90.. Train loss: 3.869.. Val loss: 4.020.. Train L1 norm: 5.346.. Val L1 norm: 4.060.. Train Linf norm: 4086.141.. Val Linf norm: 1516.525\n",
            "Epoch 12/90.. Train loss: 3.868.. Val loss: 4.013.. Train L1 norm: 5.120.. Val L1 norm: 4.137.. Train Linf norm: 3630.599.. Val Linf norm: 1560.525\n",
            "Epoch 13/90.. Train loss: 3.860.. Val loss: 3.990.. Train L1 norm: 5.161.. Val L1 norm: 4.304.. Train Linf norm: 3496.893.. Val Linf norm: 1627.289\n",
            "Epoch 14/90.. Train loss: 3.850.. Val loss: 4.040.. Train L1 norm: 5.044.. Val L1 norm: 4.048.. Train Linf norm: 3341.667.. Val Linf norm: 1508.573\n",
            "Epoch 15/90.. Train loss: 3.840.. Val loss: 4.019.. Train L1 norm: 4.758.. Val L1 norm: 4.315.. Train Linf norm: 2866.042.. Val Linf norm: 1625.317\n",
            "Epoch 16/90.. Train loss: 3.833.. Val loss: 4.038.. Train L1 norm: 5.133.. Val L1 norm: 4.251.. Train Linf norm: 3438.532.. Val Linf norm: 1602.992\n",
            "Epoch 17/90.. Train loss: 3.822.. Val loss: 4.056.. Train L1 norm: 5.019.. Val L1 norm: 4.106.. Train Linf norm: 3439.104.. Val Linf norm: 1542.798\n",
            "Epoch 18/90.. Train loss: 3.819.. Val loss: 4.050.. Train L1 norm: 5.247.. Val L1 norm: 4.293.. Train Linf norm: 3786.778.. Val Linf norm: 1630.074\n",
            "Epoch 19/90.. Train loss: 3.812.. Val loss: 4.052.. Train L1 norm: 5.059.. Val L1 norm: 4.241.. Train Linf norm: 3426.124.. Val Linf norm: 1611.655\n",
            "Epoch 20/90.. Train loss: 3.822.. Val loss: 4.064.. Train L1 norm: 4.987.. Val L1 norm: 4.184.. Train Linf norm: 3305.567.. Val Linf norm: 1594.158\n",
            "Epoch 21/90.. Train loss: 3.812.. Val loss: 4.053.. Train L1 norm: 5.553.. Val L1 norm: 4.324.. Train Linf norm: 4290.160.. Val Linf norm: 1650.113\n",
            "Epoch 22/90.. Train loss: 3.809.. Val loss: 4.055.. Train L1 norm: 5.185.. Val L1 norm: 4.261.. Train Linf norm: 3687.038.. Val Linf norm: 1634.334\n",
            "Epoch 23/90.. Train loss: 3.801.. Val loss: 4.046.. Train L1 norm: 4.960.. Val L1 norm: 4.291.. Train Linf norm: 3371.111.. Val Linf norm: 1650.974\n",
            "Epoch 24/90.. Train loss: 3.806.. Val loss: 4.060.. Train L1 norm: 4.985.. Val L1 norm: 4.146.. Train Linf norm: 3223.778.. Val Linf norm: 1577.468\n",
            "Epoch 25/90.. Train loss: 3.795.. Val loss: 4.046.. Train L1 norm: 5.089.. Val L1 norm: 4.366.. Train Linf norm: 3625.629.. Val Linf norm: 1690.481\n",
            "Epoch 26/90.. Train loss: 3.792.. Val loss: 4.060.. Train L1 norm: 5.199.. Val L1 norm: 4.232.. Train Linf norm: 3779.778.. Val Linf norm: 1619.558\n",
            "Epoch 27/90.. Train loss: 3.792.. Val loss: 4.030.. Train L1 norm: 5.064.. Val L1 norm: 4.508.. Train Linf norm: 3668.619.. Val Linf norm: 1759.821\n",
            "Epoch 28/90.. Train loss: 3.780.. Val loss: 4.063.. Train L1 norm: 5.295.. Val L1 norm: 4.341.. Train Linf norm: 3870.344.. Val Linf norm: 1691.563\n",
            "Epoch 29/90.. Train loss: 3.783.. Val loss: 4.042.. Train L1 norm: 5.046.. Val L1 norm: 4.522.. Train Linf norm: 3552.210.. Val Linf norm: 1754.386\n",
            "Epoch 30/90.. Train loss: 3.772.. Val loss: 4.090.. Train L1 norm: 5.103.. Val L1 norm: 4.174.. Train Linf norm: 3525.284.. Val Linf norm: 1592.990\n",
            "Epoch 31/90.. Train loss: 3.773.. Val loss: 4.061.. Train L1 norm: 4.951.. Val L1 norm: 4.491.. Train Linf norm: 3205.301.. Val Linf norm: 1740.850\n",
            "Epoch 32/90.. Train loss: 3.774.. Val loss: 4.084.. Train L1 norm: 4.801.. Val L1 norm: 4.299.. Train Linf norm: 2925.648.. Val Linf norm: 1646.385\n",
            "Epoch 33/90.. Train loss: 3.771.. Val loss: 4.046.. Train L1 norm: 5.109.. Val L1 norm: 4.423.. Train Linf norm: 2998.999.. Val Linf norm: 1739.530\n",
            "Epoch 34/90.. Train loss: 3.753.. Val loss: 4.096.. Train L1 norm: 5.037.. Val L1 norm: 4.129.. Train Linf norm: 3396.686.. Val Linf norm: 1611.613\n",
            "Epoch 35/90.. Train loss: 3.756.. Val loss: 4.053.. Train L1 norm: 5.230.. Val L1 norm: 4.295.. Train Linf norm: 3744.036.. Val Linf norm: 1680.424\n",
            "Epoch 36/90.. Train loss: 3.756.. Val loss: 4.032.. Train L1 norm: 5.007.. Val L1 norm: 4.704.. Train Linf norm: 3383.590.. Val Linf norm: 1857.551\n",
            "Epoch 37/90.. Train loss: 3.744.. Val loss: 4.135.. Train L1 norm: 5.294.. Val L1 norm: 3.992.. Train Linf norm: 3947.117.. Val Linf norm: 1541.982\n",
            "Epoch 38/90.. Train loss: 3.741.. Val loss: 4.068.. Train L1 norm: 5.038.. Val L1 norm: 4.246.. Train Linf norm: 3125.581.. Val Linf norm: 1674.470\n",
            "Epoch 39/90.. Train loss: 3.738.. Val loss: 4.039.. Train L1 norm: 4.953.. Val L1 norm: 4.563.. Train Linf norm: 3234.773.. Val Linf norm: 1810.858\n",
            "Epoch 40/90.. Train loss: 3.735.. Val loss: 4.055.. Train L1 norm: 5.209.. Val L1 norm: 4.169.. Train Linf norm: 3523.827.. Val Linf norm: 1624.982\n",
            "Epoch 41/90.. Train loss: 3.740.. Val loss: 4.124.. Train L1 norm: 5.441.. Val L1 norm: 3.856.. Train Linf norm: 4099.489.. Val Linf norm: 1541.384\n",
            "Epoch 42/90.. Train loss: 3.734.. Val loss: 4.016.. Train L1 norm: 5.172.. Val L1 norm: 4.672.. Train Linf norm: 3589.423.. Val Linf norm: 1923.088\n",
            "Epoch 43/90.. Train loss: 3.732.. Val loss: 4.061.. Train L1 norm: 5.312.. Val L1 norm: 4.049.. Train Linf norm: 3842.560.. Val Linf norm: 1622.169\n",
            "Epoch 44/90.. Train loss: 3.722.. Val loss: 4.029.. Train L1 norm: 5.060.. Val L1 norm: 4.231.. Train Linf norm: 3380.430.. Val Linf norm: 1685.993\n",
            "Epoch 45/90.. Train loss: 3.724.. Val loss: 4.010.. Train L1 norm: 5.232.. Val L1 norm: 4.537.. Train Linf norm: 3564.289.. Val Linf norm: 1850.139\n",
            "Epoch 46/90.. Train loss: 3.714.. Val loss: 4.008.. Train L1 norm: 5.271.. Val L1 norm: 4.510.. Train Linf norm: 3913.682.. Val Linf norm: 1828.405\n",
            "Epoch 47/90.. Train loss: 3.713.. Val loss: 4.011.. Train L1 norm: 4.973.. Val L1 norm: 4.568.. Train Linf norm: 3118.511.. Val Linf norm: 1851.742\n",
            "Epoch 48/90.. Train loss: 3.721.. Val loss: 4.007.. Train L1 norm: 5.295.. Val L1 norm: 4.599.. Train Linf norm: 3780.397.. Val Linf norm: 1879.622\n",
            "Epoch 49/90.. Train loss: 3.711.. Val loss: 4.037.. Train L1 norm: 5.315.. Val L1 norm: 4.393.. Train Linf norm: 3770.676.. Val Linf norm: 1809.936\n",
            "Epoch 50/90.. Train loss: 3.709.. Val loss: 4.021.. Train L1 norm: 4.963.. Val L1 norm: 4.366.. Train Linf norm: 3067.869.. Val Linf norm: 1782.678\n",
            "Epoch 51/90.. Train loss: 3.712.. Val loss: 4.021.. Train L1 norm: 5.239.. Val L1 norm: 4.547.. Train Linf norm: 3593.913.. Val Linf norm: 1870.466\n",
            "Epoch 52/90.. Train loss: 3.708.. Val loss: 4.007.. Train L1 norm: 5.220.. Val L1 norm: 4.301.. Train Linf norm: 3692.896.. Val Linf norm: 1764.174\n",
            "Epoch 53/90.. Train loss: 3.697.. Val loss: 3.993.. Train L1 norm: 5.616.. Val L1 norm: 4.518.. Train Linf norm: 4448.223.. Val Linf norm: 1855.980\n",
            "Epoch 54/90.. Train loss: 3.707.. Val loss: 3.996.. Train L1 norm: 5.405.. Val L1 norm: 4.455.. Train Linf norm: 4188.062.. Val Linf norm: 1826.162\n",
            "Epoch 55/90.. Train loss: 3.694.. Val loss: 4.010.. Train L1 norm: 5.412.. Val L1 norm: 4.274.. Train Linf norm: 4325.723.. Val Linf norm: 1737.970\n",
            "Epoch 56/90.. Train loss: 3.695.. Val loss: 3.998.. Train L1 norm: 5.301.. Val L1 norm: 4.458.. Train Linf norm: 3832.083.. Val Linf norm: 1823.541\n",
            "Epoch 57/90.. Train loss: 3.697.. Val loss: 4.002.. Train L1 norm: 5.215.. Val L1 norm: 4.602.. Train Linf norm: 3777.265.. Val Linf norm: 1904.574\n",
            "Epoch 58/90.. Train loss: 3.690.. Val loss: 3.995.. Train L1 norm: 5.188.. Val L1 norm: 4.545.. Train Linf norm: 3424.608.. Val Linf norm: 1873.129\n",
            "Epoch 59/90.. Train loss: 3.698.. Val loss: 4.002.. Train L1 norm: 5.236.. Val L1 norm: 4.541.. Train Linf norm: 3617.887.. Val Linf norm: 1873.304\n",
            "Epoch 60/90.. Train loss: 3.695.. Val loss: 3.995.. Train L1 norm: 5.411.. Val L1 norm: 4.502.. Train Linf norm: 4123.138.. Val Linf norm: 1835.461\n",
            "Epoch 61/90.. Train loss: 3.693.. Val loss: 3.997.. Train L1 norm: 5.011.. Val L1 norm: 4.425.. Train Linf norm: 3402.575.. Val Linf norm: 1799.208\n",
            "Epoch 62/90.. Train loss: 3.684.. Val loss: 3.986.. Train L1 norm: 5.158.. Val L1 norm: 4.794.. Train Linf norm: 3395.709.. Val Linf norm: 1987.677\n",
            "Epoch 63/90.. Train loss: 3.690.. Val loss: 3.983.. Train L1 norm: 5.482.. Val L1 norm: 4.724.. Train Linf norm: 4306.114.. Val Linf norm: 1963.610\n",
            "Epoch 64/90.. Train loss: 3.690.. Val loss: 3.986.. Train L1 norm: 5.086.. Val L1 norm: 4.565.. Train Linf norm: 3359.248.. Val Linf norm: 1886.156\n",
            "Epoch 65/90.. Train loss: 3.690.. Val loss: 3.990.. Train L1 norm: 5.084.. Val L1 norm: 4.811.. Train Linf norm: 3527.132.. Val Linf norm: 2020.524\n",
            "Epoch 66/90.. Train loss: 3.690.. Val loss: 4.000.. Train L1 norm: 5.264.. Val L1 norm: 4.715.. Train Linf norm: 3791.461.. Val Linf norm: 1972.588\n",
            "Epoch 67/90.. Train loss: 3.686.. Val loss: 3.974.. Train L1 norm: 5.023.. Val L1 norm: 4.568.. Train Linf norm: 3415.203.. Val Linf norm: 1879.369\n",
            "Epoch 68/90.. Train loss: 3.684.. Val loss: 3.965.. Train L1 norm: 5.292.. Val L1 norm: 4.878.. Train Linf norm: 3895.352.. Val Linf norm: 2026.367\n",
            "Epoch 69/90.. Train loss: 3.680.. Val loss: 3.976.. Train L1 norm: 4.979.. Val L1 norm: 4.622.. Train Linf norm: 3273.598.. Val Linf norm: 1923.954\n",
            "Epoch 70/90.. Train loss: 3.681.. Val loss: 3.966.. Train L1 norm: 5.108.. Val L1 norm: 4.734.. Train Linf norm: 3122.382.. Val Linf norm: 2001.770\n",
            "Epoch 71/90.. Train loss: 3.675.. Val loss: 3.955.. Train L1 norm: 5.389.. Val L1 norm: 5.152.. Train Linf norm: 4105.473.. Val Linf norm: 2192.501\n",
            "Epoch 72/90.. Train loss: 3.681.. Val loss: 3.943.. Train L1 norm: 5.221.. Val L1 norm: 4.634.. Train Linf norm: 3486.962.. Val Linf norm: 1872.795\n",
            "Epoch 73/90.. Train loss: 3.681.. Val loss: 3.971.. Train L1 norm: 4.716.. Val L1 norm: 5.027.. Train Linf norm: 2904.724.. Val Linf norm: 2129.790\n",
            "Epoch 74/90.. Train loss: 3.678.. Val loss: 3.946.. Train L1 norm: 5.287.. Val L1 norm: 5.214.. Train Linf norm: 3950.436.. Val Linf norm: 2214.471\n",
            "Epoch 75/90.. Train loss: 3.669.. Val loss: 3.956.. Train L1 norm: 5.221.. Val L1 norm: 5.068.. Train Linf norm: 3786.077.. Val Linf norm: 2118.459\n",
            "Epoch 76/90.. Train loss: 3.661.. Val loss: 3.918.. Train L1 norm: 5.095.. Val L1 norm: 4.531.. Train Linf norm: 3447.318.. Val Linf norm: 1812.491\n",
            "Epoch 77/90.. Train loss: 3.652.. Val loss: 3.906.. Train L1 norm: 5.089.. Val L1 norm: 4.991.. Train Linf norm: 3358.431.. Val Linf norm: 2053.951\n",
            "Epoch 78/90.. Train loss: 3.656.. Val loss: 3.972.. Train L1 norm: 4.831.. Val L1 norm: 5.830.. Train Linf norm: 2972.442.. Val Linf norm: 2482.940\n",
            "Epoch 79/90.. Train loss: 3.649.. Val loss: 3.914.. Train L1 norm: 5.250.. Val L1 norm: 5.179.. Train Linf norm: 3877.831.. Val Linf norm: 2138.367\n",
            "Epoch 80/90.. Train loss: 3.644.. Val loss: 3.894.. Train L1 norm: 5.193.. Val L1 norm: 5.279.. Train Linf norm: 3717.332.. Val Linf norm: 2257.820\n",
            "Epoch 81/90.. Train loss: 3.640.. Val loss: 3.884.. Train L1 norm: 4.875.. Val L1 norm: 4.940.. Train Linf norm: 3153.371.. Val Linf norm: 2055.645\n",
            "Epoch 82/90.. Train loss: 3.631.. Val loss: 3.952.. Train L1 norm: 5.548.. Val L1 norm: 5.635.. Train Linf norm: 4566.890.. Val Linf norm: 2436.731\n",
            "Epoch 83/90.. Train loss: 3.628.. Val loss: 3.828.. Train L1 norm: 5.497.. Val L1 norm: 4.155.. Train Linf norm: 4341.696.. Val Linf norm: 1736.253\n",
            "Epoch 84/90.. Train loss: 3.629.. Val loss: 3.901.. Train L1 norm: 4.926.. Val L1 norm: 5.501.. Train Linf norm: 3237.255.. Val Linf norm: 2359.129\n",
            "Epoch 85/90.. Train loss: 3.611.. Val loss: 3.772.. Train L1 norm: 4.943.. Val L1 norm: 4.572.. Train Linf norm: 3370.125.. Val Linf norm: 1944.683\n",
            "Epoch 86/90.. Train loss: 3.618.. Val loss: 4.085.. Train L1 norm: 4.657.. Val L1 norm: 6.352.. Train Linf norm: 2787.774.. Val Linf norm: 2797.186\n",
            "Epoch 87/90.. Train loss: 3.611.. Val loss: 3.796.. Train L1 norm: 5.097.. Val L1 norm: 5.077.. Train Linf norm: 3569.679.. Val Linf norm: 2168.549\n",
            "Epoch 88/90.. Train loss: 3.608.. Val loss: 4.017.. Train L1 norm: 5.169.. Val L1 norm: 6.087.. Train Linf norm: 3960.196.. Val Linf norm: 2599.117\n",
            "Epoch 89/90.. Train loss: 3.604.. Val loss: 3.845.. Train L1 norm: 4.958.. Val L1 norm: 5.440.. Train Linf norm: 3456.656.. Val Linf norm: 2345.363\n"
          ]
        },
        {
          "output_type": "stream",
          "name": "stderr",
          "text": [
            "[I 2023-05-31 10:06:33,602] Trial 2 finished with value: 6.183424999491374 and parameters: {'n_layers': 9, 'n_units_0': 1819, 'n_units_1': 1746, 'n_units_2': 691, 'n_units_3': 2605, 'n_units_4': 1238, 'n_units_5': 3500, 'n_units_6': 1694, 'n_units_7': 1723, 'n_units_8': 2982, 'hidden_activation': 'GELU', 'output_activation': 'Linear', 'loss': 'MAE', 'optimizer': 'RMSprop', 'lr': 2.8321593797187573e-05, 'batch_size': 2048, 'n_epochs': 90, 'scheduler': 'CosineAnnealingLR', 'dropout_rate': 0.4432589707468534, 't_max_fraction': 0.2171894600538229, 'eta_min': 6.8755943453249e-06}. Best is trial 0 with value: 2.6737526142120362.\n"
          ]
        },
        {
          "output_type": "stream",
          "name": "stdout",
          "text": [
            "Epoch 90/90.. Train loss: 3.595.. Val loss: 4.000.. Train L1 norm: 4.804.. Val L1 norm: 6.183.. Train Linf norm: 3066.991.. Val Linf norm: 2693.075\n"
          ]
        },
        {
          "output_type": "stream",
          "name": "stderr",
          "text": [
            "WARNING:tensorboardX.x2num:NaN or Inf found in input tensor.\n",
            "WARNING:tensorboardX.x2num:NaN or Inf found in input tensor.\n",
            "WARNING:tensorboardX.x2num:NaN or Inf found in input tensor.\n",
            "WARNING:tensorboardX.x2num:NaN or Inf found in input tensor.\n",
            "WARNING:tensorboardX.x2num:NaN or Inf found in input tensor.\n",
            "WARNING:tensorboardX.x2num:NaN or Inf found in input tensor.\n"
          ]
        },
        {
          "output_type": "stream",
          "name": "stdout",
          "text": [
            "Epoch 1/97.. Train loss: nan.. Val loss: nan.. Train L1 norm: nan.. Val L1 norm: nan.. Train Linf norm: nan.. Val Linf norm: nan\n"
          ]
        },
        {
          "output_type": "stream",
          "name": "stderr",
          "text": [
            "WARNING:tensorboardX.x2num:NaN or Inf found in input tensor.\n",
            "WARNING:tensorboardX.x2num:NaN or Inf found in input tensor.\n",
            "WARNING:tensorboardX.x2num:NaN or Inf found in input tensor.\n",
            "WARNING:tensorboardX.x2num:NaN or Inf found in input tensor.\n",
            "WARNING:tensorboardX.x2num:NaN or Inf found in input tensor.\n",
            "WARNING:tensorboardX.x2num:NaN or Inf found in input tensor.\n"
          ]
        },
        {
          "output_type": "stream",
          "name": "stdout",
          "text": [
            "Epoch 2/97.. Train loss: nan.. Val loss: nan.. Train L1 norm: nan.. Val L1 norm: nan.. Train Linf norm: nan.. Val Linf norm: nan\n"
          ]
        },
        {
          "output_type": "stream",
          "name": "stderr",
          "text": [
            "WARNING:tensorboardX.x2num:NaN or Inf found in input tensor.\n",
            "WARNING:tensorboardX.x2num:NaN or Inf found in input tensor.\n",
            "WARNING:tensorboardX.x2num:NaN or Inf found in input tensor.\n",
            "WARNING:tensorboardX.x2num:NaN or Inf found in input tensor.\n",
            "WARNING:tensorboardX.x2num:NaN or Inf found in input tensor.\n",
            "WARNING:tensorboardX.x2num:NaN or Inf found in input tensor.\n"
          ]
        },
        {
          "output_type": "stream",
          "name": "stdout",
          "text": [
            "Epoch 3/97.. Train loss: nan.. Val loss: nan.. Train L1 norm: nan.. Val L1 norm: nan.. Train Linf norm: nan.. Val Linf norm: nan\n"
          ]
        },
        {
          "output_type": "stream",
          "name": "stderr",
          "text": [
            "WARNING:tensorboardX.x2num:NaN or Inf found in input tensor.\n",
            "WARNING:tensorboardX.x2num:NaN or Inf found in input tensor.\n",
            "WARNING:tensorboardX.x2num:NaN or Inf found in input tensor.\n",
            "WARNING:tensorboardX.x2num:NaN or Inf found in input tensor.\n",
            "WARNING:tensorboardX.x2num:NaN or Inf found in input tensor.\n",
            "WARNING:tensorboardX.x2num:NaN or Inf found in input tensor.\n"
          ]
        },
        {
          "output_type": "stream",
          "name": "stdout",
          "text": [
            "Epoch 4/97.. Train loss: nan.. Val loss: nan.. Train L1 norm: nan.. Val L1 norm: nan.. Train Linf norm: nan.. Val Linf norm: nan\n"
          ]
        },
        {
          "output_type": "stream",
          "name": "stderr",
          "text": [
            "WARNING:tensorboardX.x2num:NaN or Inf found in input tensor.\n",
            "WARNING:tensorboardX.x2num:NaN or Inf found in input tensor.\n",
            "WARNING:tensorboardX.x2num:NaN or Inf found in input tensor.\n",
            "WARNING:tensorboardX.x2num:NaN or Inf found in input tensor.\n",
            "WARNING:tensorboardX.x2num:NaN or Inf found in input tensor.\n",
            "WARNING:tensorboardX.x2num:NaN or Inf found in input tensor.\n"
          ]
        },
        {
          "output_type": "stream",
          "name": "stdout",
          "text": [
            "Epoch 5/97.. Train loss: nan.. Val loss: nan.. Train L1 norm: nan.. Val L1 norm: nan.. Train Linf norm: nan.. Val Linf norm: nan\n"
          ]
        },
        {
          "output_type": "stream",
          "name": "stderr",
          "text": [
            "WARNING:tensorboardX.x2num:NaN or Inf found in input tensor.\n",
            "WARNING:tensorboardX.x2num:NaN or Inf found in input tensor.\n",
            "WARNING:tensorboardX.x2num:NaN or Inf found in input tensor.\n",
            "WARNING:tensorboardX.x2num:NaN or Inf found in input tensor.\n",
            "WARNING:tensorboardX.x2num:NaN or Inf found in input tensor.\n",
            "WARNING:tensorboardX.x2num:NaN or Inf found in input tensor.\n"
          ]
        },
        {
          "output_type": "stream",
          "name": "stdout",
          "text": [
            "Epoch 6/97.. Train loss: nan.. Val loss: nan.. Train L1 norm: nan.. Val L1 norm: nan.. Train Linf norm: nan.. Val Linf norm: nan\n"
          ]
        },
        {
          "output_type": "stream",
          "name": "stderr",
          "text": [
            "WARNING:tensorboardX.x2num:NaN or Inf found in input tensor.\n",
            "WARNING:tensorboardX.x2num:NaN or Inf found in input tensor.\n",
            "WARNING:tensorboardX.x2num:NaN or Inf found in input tensor.\n",
            "WARNING:tensorboardX.x2num:NaN or Inf found in input tensor.\n",
            "WARNING:tensorboardX.x2num:NaN or Inf found in input tensor.\n",
            "WARNING:tensorboardX.x2num:NaN or Inf found in input tensor.\n"
          ]
        },
        {
          "output_type": "stream",
          "name": "stdout",
          "text": [
            "Epoch 7/97.. Train loss: nan.. Val loss: nan.. Train L1 norm: nan.. Val L1 norm: nan.. Train Linf norm: nan.. Val Linf norm: nan\n"
          ]
        },
        {
          "output_type": "stream",
          "name": "stderr",
          "text": [
            "WARNING:tensorboardX.x2num:NaN or Inf found in input tensor.\n",
            "WARNING:tensorboardX.x2num:NaN or Inf found in input tensor.\n",
            "WARNING:tensorboardX.x2num:NaN or Inf found in input tensor.\n",
            "WARNING:tensorboardX.x2num:NaN or Inf found in input tensor.\n",
            "WARNING:tensorboardX.x2num:NaN or Inf found in input tensor.\n",
            "WARNING:tensorboardX.x2num:NaN or Inf found in input tensor.\n"
          ]
        },
        {
          "output_type": "stream",
          "name": "stdout",
          "text": [
            "Epoch 8/97.. Train loss: nan.. Val loss: nan.. Train L1 norm: nan.. Val L1 norm: nan.. Train Linf norm: nan.. Val Linf norm: nan\n"
          ]
        },
        {
          "output_type": "stream",
          "name": "stderr",
          "text": [
            "WARNING:tensorboardX.x2num:NaN or Inf found in input tensor.\n",
            "WARNING:tensorboardX.x2num:NaN or Inf found in input tensor.\n",
            "WARNING:tensorboardX.x2num:NaN or Inf found in input tensor.\n",
            "WARNING:tensorboardX.x2num:NaN or Inf found in input tensor.\n",
            "WARNING:tensorboardX.x2num:NaN or Inf found in input tensor.\n",
            "WARNING:tensorboardX.x2num:NaN or Inf found in input tensor.\n"
          ]
        },
        {
          "output_type": "stream",
          "name": "stdout",
          "text": [
            "Epoch 9/97.. Train loss: nan.. Val loss: nan.. Train L1 norm: nan.. Val L1 norm: nan.. Train Linf norm: nan.. Val Linf norm: nan\n"
          ]
        },
        {
          "output_type": "stream",
          "name": "stderr",
          "text": [
            "WARNING:tensorboardX.x2num:NaN or Inf found in input tensor.\n",
            "WARNING:tensorboardX.x2num:NaN or Inf found in input tensor.\n",
            "WARNING:tensorboardX.x2num:NaN or Inf found in input tensor.\n",
            "WARNING:tensorboardX.x2num:NaN or Inf found in input tensor.\n",
            "WARNING:tensorboardX.x2num:NaN or Inf found in input tensor.\n",
            "WARNING:tensorboardX.x2num:NaN or Inf found in input tensor.\n"
          ]
        }
      ],
      "source": [
        "if OPTIMIZE:\n",
        "    # Creating a study object with Optuna with TPE sampler and median pruner \n",
        "    study = optuna.create_study(direction=\"minimize\", sampler=optuna.samplers.TPESampler(), pruner=optuna.pruners.MedianPruner())\n",
        "\n",
        "    # Running Optuna with 100 trials when we are optimizing.\n",
        "    study.optimize(objective, n_trials=N_TRIALS)\n",
        "\n",
        "    # Printing the best trial information\n",
        "    print(\"Best trial:\")\n",
        "    trial = study.best_trial\n",
        "    print(\"  Value: \", trial.value)\n",
        "    print(\"  Params: \")\n",
        "    for key, value in trial.params.items():\n",
        "        print(f\"    {key}: {value}\")\n"
      ]
    },
    {
      "cell_type": "markdown",
      "metadata": {
        "id": "jmMfE9_dUZiS"
      },
      "source": [
        "## Training the model"
      ]
    },
    {
      "cell_type": "code",
      "execution_count": null,
      "metadata": {
        "id": "phyiHlWEUZiT"
      },
      "outputs": [],
      "source": [
        "# Creating the best network and optimizer using the best hyperparameters\n",
        "if OPTIMIZE:\n",
        "    net, \\\n",
        "    loss_fn, \\\n",
        "    optimizer, \\\n",
        "    batch_size, \\\n",
        "    n_epochs, \\\n",
        "    scheduler, \\\n",
        "    loss_name, \\\n",
        "    optimizer_name, \\\n",
        "    scheduler_name, \\\n",
        "    n_units, \\\n",
        "    n_layers, \\\n",
        "    hidden_activation, \\\n",
        "    output_activation, \\\n",
        "    lr, \\\n",
        "    dropout_rate = create_model(trial, optimize=True)\n",
        "\n",
        "# Creating the network with predefined hyperparameters\n",
        "else:\n",
        "    net, \\\n",
        "    loss_fn, \\\n",
        "    optimizer, \\\n",
        "    batch_size, \\\n",
        "    n_epochs, \\\n",
        "    scheduler, \\\n",
        "    loss_name, \\\n",
        "    optimizer_name, \\\n",
        "    scheduler_name, \\\n",
        "    n_units, \\\n",
        "    n_layers, \\\n",
        "    hidden_activation, \\\n",
        "    output_activation, \\\n",
        "    lr, \\\n",
        "    dropout_rate = create_model(trial=None, optimize=True)"
      ]
    },
    {
      "cell_type": "code",
      "execution_count": null,
      "metadata": {
        "id": "_yq-oY81UZiU"
      },
      "outputs": [],
      "source": [
        "print(\"loss_fn:\", net)\n",
        "print(\"loss_fn:\", loss_fn)\n",
        "print(\"batch_size:\", batch_size)\n",
        "print(\"n_epochs:\", n_epochs)\n",
        "print(\"scheduler:\", scheduler)\n",
        "print(\"loss_name:\", loss_name)\n",
        "print(\"optimizer_name:\", optimizer_name)\n",
        "print(\"scheduler_name:\", scheduler_name)\n",
        "print(\"n_units:\", n_units)\n",
        "print(\"n_layers:\", n_layers)\n",
        "print(\"hidden_activation:\", hidden_activation)\n",
        "print(\"output_activation:\", output_activation)\n",
        "print(\"lr\", lr)\n",
        "print(\"dropout_rate\", dropout_rate)"
      ]
    },
    {
      "cell_type": "markdown",
      "metadata": {
        "id": "E7aLWdZyUZiW",
        "outputId": "8fb1e8c6-5aa3-43a1-a255-712cf9396d0c"
      },
      "source": [
        "After optimizing with Optuna and deciding on the best hyperparameters, we combine the training and validatin set, using that as the new training set for training the model, and then evaluate the model on the test set"
      ]
    },
    {
      "cell_type": "code",
      "execution_count": null,
      "metadata": {
        "id": "jIBboeQX4cno"
      },
      "outputs": [],
      "source": [
        "x_train_val = torch.cat((x_train, x_val), 0)\n",
        "y_train_val = torch.cat((y_train, y_val), 0)\n",
        "\n",
        "train_val_loader = torch.utils.data.DataLoader(\n",
        "    torch.utils.data.TensorDataset(x_train_val, y_train_val), batch_size=batch_size, shuffle=True\n",
        ")\n",
        "test_loader = torch.utils.data.DataLoader(\n",
        "    torch.utils.data.TensorDataset(x_test, y_test), batch_size=batch_size\n",
        ")\n",
        "\n",
        "train_losses, _, test_losses, train_metrics, _, test_metrics, = train_and_eval(\n",
        "    net, loss_fn, optimizer, batch_size, n_epochs, scheduler, train_val_loader, None, test_loader, None\n",
        ")"
      ]
    },
    {
      "cell_type": "markdown",
      "metadata": {
        "id": "akNucrgMUZiW"
      },
      "source": [
        "## Saving"
      ]
    },
    {
      "cell_type": "code",
      "execution_count": null,
      "metadata": {
        "id": "LHsrs2Y-UZic"
      },
      "outputs": [],
      "source": [
        "# create a dictionary to store the rest of the variables\n",
        "import json\n",
        "\n",
        "# save the network to a .pth file\n",
        "torch.save(net.state_dict(), \"net.pth\")\n",
        "save_file(\"net.pth\")\n",
        "\n",
        "# save the optimizer to a .pth file\n",
        "torch.save(optimizer.state_dict(), \"optimizer.pth\")\n",
        "save_file(\"optimizer.pth\")\n",
        "\n",
        "# save the scheduler to a .pth file if it is not None\n",
        "if scheduler is not None:\n",
        "  torch.save(scheduler.state_dict(), \"scheduler.pth\")\n",
        "  save_file(\"scheduler.pth\")\n",
        "\n",
        "# create a dictionary to store the rest of the variables\n",
        "if isinstance(hidden_activation.__class__.__name__, list):\n",
        "    hidden_activation_name = hidden_activation.__class__.__name__[0]\n",
        "else:\n",
        "    hidden_activation_name = hidden_activation.__class__.__name__\n",
        "\n",
        "if isinstance(output_activation.__class__.__name__, list):\n",
        "    output_activation_name = output_activation.__class__.__name__[0]\n",
        "else:\n",
        "    output_activation_name = output_activation.__class__.__name__\n",
        "\n",
        "var_dict = {\n",
        "  \"batch_size\": batch_size,\n",
        "  \"n_epochs\": n_epochs,\n",
        "  \"loss_name\": loss_name,\n",
        "  \"optimizer_name\": optimizer_name,\n",
        "  \"scheduler_name\": scheduler_name,\n",
        "  \"n_units\": n_units,\n",
        "  \"n_layers\": n_layers,\n",
        "  \"hidden_activation_name\": hidden_activation_name,\n",
        "  \"output_activation_name\": output_activation_name,\n",
        "  \"lr\": lr,\n",
        "  \"dropout_rate\": dropout_rate\n",
        "}\n",
        "\n",
        "# Adding the subparameters to the var_dict for saving\n",
        "if hidden_activation_name == \"LeakyReLU\":\n",
        "  var_dict[\"leakyrelu_slope\"] = hidden_activation.negative_slope\n",
        "elif hidden_activation_name == \"PReLU\":\n",
        "  var_dict[\"prelu_init\"] = hidden_activation.weight.item()  # .item() is needed because weight is a tensor\n",
        "elif hidden_activation_name == \"SoftPlus\":\n",
        "  var_dict[\"softplus_beta\"] = hidden_activation.beta\n",
        "\n",
        "# save the dictionary to a .json file\n",
        "with open(\"var_dict.json\", \"w\") as f:\n",
        "  json.dump(var_dict, f)\n",
        "save_file(\"var_dict.json\")\n",
        "\n",
        "# Saving the output of the training using pandas\n",
        "train_df = pd.DataFrame(\n",
        "    {\n",
        "        \"train_loss\": train_losses,\n",
        "        \"test_loss\": test_losses,\n",
        "        \"train_l1_norm\": [m[\"l1_norm\"] for m in train_metrics],\n",
        "        \"test_l1_norm\": [m[\"l1_norm\"] for m in test_metrics],\n",
        "        \"train_linf_norm\": [m[\"linf_norm\"] for m in train_metrics],\n",
        "        \"test_linf_norm\": [m[\"linf_norm\"] for m in test_metrics],\n",
        "    }\n",
        ")\n",
        "train_df.to_csv(\"train_output.csv\", index=False)\n",
        "save_file(\"train_output.csv\")"
      ]
    },
    {
      "cell_type": "code",
      "execution_count": null,
      "metadata": {
        "id": "WDNrony-4cnp"
      },
      "outputs": [],
      "source": [
        "[key for key in var_dict.keys()]"
      ]
    },
    {
      "cell_type": "code",
      "execution_count": null,
      "metadata": {
        "id": "G_Duv4pT4cnp"
      },
      "outputs": [],
      "source": [
        "#%%script echo skipping\n",
        "\n",
        "hidden_activation_name\n",
        "output_activation_name"
      ]
    },
    {
      "cell_type": "markdown",
      "metadata": {
        "id": "qU23l7dIUZie"
      },
      "source": [
        "## Visualizing the results"
      ]
    },
    {
      "cell_type": "code",
      "execution_count": null,
      "metadata": {
        "id": "cippWZS6UZie"
      },
      "outputs": [],
      "source": [
        "# First figure: Train and Test L1 Norm\n",
        "plt.figure(figsize=(6, 4))\n",
        "plt.plot([m[\"l1_norm\"] for m in train_metrics_loaded], label=\"Train L1 Norm\", color='blue')\n",
        "plt.plot([m[\"l1_norm\"] for m in test_metrics_loaded], label=\"Test L1 Norm\", color='red')\n",
        "plt.xlabel(\"Epoch\")\n",
        "plt.ylabel(\"L1 Norm\")\n",
        "plt.title(\"NNGRX Train and Test L1 Norm per Epoch\")\n",
        "plt.yscale(\"log\")\n",
        "plt.grid(True)\n",
        "plt.xlim(right=200)\n",
        "plt.ylim(1e-3, 1e2)\n",
        "plt.legend()\n",
        "plt.tight_layout()\n",
        "# plt.savefig(\"NNGRX_L1_norm_plot.png\", dpi=300)\n",
        "plt.savefig(\"NNGRX_L1_norm_plot.png\")\n",
        "\n",
        "# Second figure: Train and Test Linf Norm\n",
        "plt.figure(figsize=(6, 4))\n",
        "plt.plot([m[\"linf_norm\"] for m in train_metrics_loaded], label=\"Train Linf Norm\", color='blue')\n",
        "plt.plot([m[\"linf_norm\"] for m in test_metrics_loaded], label=\"Test Linf Norm\", color='red')\n",
        "plt.xlabel(\"Epoch\")\n",
        "plt.ylabel(\"Linf Norm\")\n",
        "plt.title(\"NNGRX Train and Test Linf Norm per Epoch\")\n",
        "plt.yscale(\"log\")\n",
        "plt.grid(True)\n",
        "plt.xlim(right=200)\n",
        "plt.ylim(1e-3, 1e2)\n",
        "plt.legend()\n",
        "plt.tight_layout()\n",
        "# plt.savefig(\"NNGRX_Linf_norm_plot.png\", dpi=300)\n",
        "plt.savefig(\"NNGRX_Linf_norm_plot.png\")\n",
        "\n",
        "# Third figure: MSE of training data and test data\n",
        "plt.figure(figsize=(6, 4))\n",
        "plt.plot(train_losses_loaded, label=\"Training Data\", color='blue')\n",
        "plt.plot(test_losses_loaded, label=\"Test Data\", color='red')\n",
        "plt.xlabel(\"Epoch\")\n",
        "plt.ylabel(\"MSE\")\n",
        "plt.title(\"NNGRX MSE of Training and Test Data per Epoch\")\n",
        "plt.yscale(\"log\")\n",
        "plt.grid(True)\n",
        "plt.xlim(right=200)\n",
        "plt.ylim(1e-7, 1e0)\n",
        "plt.legend()\n",
        "plt.tight_layout()\n",
        "# plt.savefig(\"NNGRX_MSE_plot.png\", dpi=300)\n",
        "plt.savefig(\"NNGRX_MSE_plot.png\")"
      ]
    },
    {
      "cell_type": "markdown",
      "metadata": {
        "id": "tiEDutxIUZig"
      },
      "source": [
        "## Loading"
      ]
    },
    {
      "cell_type": "code",
      "execution_count": null,
      "metadata": {
        "id": "p7Mj990wUZih"
      },
      "outputs": [],
      "source": [
        "import json\n",
        "import pandas as pd\n",
        "\n",
        "# load the dictionary from the .json file\n",
        "with open(\"var_dict.json\", \"r\") as f:\n",
        "  var_dict_loaded = json.load(f)\n",
        "\n",
        "# extract the variables from the dictionary\n",
        "batch_size_loaded = var_dict_loaded[\"batch_size\"]\n",
        "n_epochs_loaded = var_dict_loaded[\"n_epochs\"]\n",
        "loss_name_loaded = var_dict_loaded[\"loss_name\"]\n",
        "optimizer_name_loaded = var_dict_loaded[\"optimizer_name\"]\n",
        "scheduler_name_loaded = var_dict_loaded[\"scheduler_name\"]\n",
        "n_units_loaded = var_dict_loaded[\"n_units\"]\n",
        "n_layers_loaded = var_dict_loaded[\"n_layers\"]\n",
        "hidden_activation_name_loaded = var_dict_loaded[\"hidden_activation_name\"]\n",
        "output_activation_name_loaded = var_dict_loaded[\"output_activation_name\"]\n",
        "lr_loaded = var_dict_loaded[\"lr\"]\n",
        "dropout_rate_loaded = var_dict_loaded[\"dropout_rate\"]\n",
        "\n",
        "# Loading the activation functions with subparameters\n",
        "if hidden_activation_name_loaded == \"ReLU\":\n",
        "  hidden_activation_loaded = nn.ReLU()\n",
        "elif hidden_activation_name_loaded == \"LeakyReLU\":\n",
        "  negative_slope_loaded = var_dict_loaded.get(\"leakyrelu_slope\", 0.01)  # For backwards compatibiltiy with earlier models; default to 0.01 if not present\n",
        "  hidden_activation_loaded = nn.LeakyReLU(negative_slope=negative_slope_loaded)\n",
        "elif hidden_activation_name_loaded == \"ELU\":\n",
        "  hidden_activation_loaded = nn.ELU()\n",
        "elif hidden_activation_name_loaded == \"PReLU\":\n",
        "  init_loaded = var_dict_loaded.get(\"prelu_init\", 0.25)  # Default to 0.25 if not present\n",
        "  hidden_activation_loaded = nn.PReLU(init=init_loaded)\n",
        "elif hidden_activation_name_loaded == \"Swish\":\n",
        "    class Swish(nn.Module):\n",
        "        def forward(self, x):\n",
        "            return x * torch.sigmoid(x)\n",
        "    hidden_activation_loaded = Swish()\n",
        "elif hidden_activation_name_loaded == \"GELU\":\n",
        "    hidden_activation_loaded = nn.GELU()\n",
        "elif hidden_activation_name_loaded == \"SoftPlus\":\n",
        "  beta_loaded = var_dict_loaded.get(\"softplus_beta\", 1)  # Default to 1 if not present\n",
        "  hidden_activation_loaded = nn.Softplus(beta=beta_loaded)\n",
        "\n",
        "\n",
        "\n",
        "# We used to have options here, but since we have a regression problem with continuous output, we only use Linear.\n",
        "output_activation_loaded = nn.Identity()\n",
        "\n",
        "# load the network from the .pth file\n",
        "net_loaded = Net(\n",
        "    n_layers_loaded, \n",
        "    n_units_loaded, \n",
        "    hidden_activation_loaded, \n",
        "    output_activation_loaded, \n",
        "    dropout_rate_loaded\n",
        ").to(device)\n",
        "\n",
        "if torch.cuda.is_available():\n",
        " net_loaded.load_state_dict(torch.load(\"net.pth\"))\n",
        "else: \n",
        "  net_loaded.load_state_dict(torch.load(\"net.pth\", map_location=torch.device('cpu')))\n",
        "\n",
        "\n",
        "# Creating the loss function from its name\n",
        "if loss_name_loaded == \"MSE\":\n",
        "    loss_fn_loaded = nn.MSELoss()\n",
        "elif loss_name_loaded == \"MAE\":\n",
        "    loss_fn_loaded = nn.L1Loss()\n",
        "elif loss_name_loaded == \"Huber\":\n",
        "    loss_fn_loaded = nn.SmoothL1Loss() \n",
        "elif loss_name_loaded == \"Quantile\":\n",
        "    def quantile_loss(y_pred, y_true, q=0.5):\n",
        "        e = y_pred - y_true\n",
        "        return torch.mean(torch.max(q*e, (q-1)*e))\n",
        "    loss_fn_loaded = quantile_loss\n",
        "\n",
        "# load the optimizer from the .pth file\n",
        "if torch.cuda.is_available():\n",
        "  optimizer_loaded_state_dict = torch.load(\"optimizer.pth\")\n",
        "else:\n",
        "  optimizer_loaded_state_dict = torch.load(\"optimizer.pth\", map_location=torch.device('cpu'))\n",
        "\n",
        "if optimizer_name_loaded == \"SGD\":\n",
        "  # Added getting the weight decay and momentum parameters from the state dict\n",
        "  weight_decay_loaded = optimizer_loaded_state_dict[\"param_groups\"][0][\"weight_decay\"]\n",
        "  momentum_loaded = optimizer_loaded_state_dict[\"param_groups\"][0][\"momentum\"]\n",
        "  optimizer_loaded = optim.SGD(net_loaded.parameters(), lr=lr_loaded, weight_decay=weight_decay_loaded, momentum=momentum_loaded)\n",
        "elif optimizer_name_loaded == \"Adam\":\n",
        "  # Added getting the weight decay and beta parameters from the state dict\n",
        "  weight_decay_loaded = optimizer_loaded_state_dict[\"param_groups\"][0][\"weight_decay\"]\n",
        "  beta1_loaded = optimizer_loaded_state_dict[\"param_groups\"][0][\"betas\"][0]\n",
        "  beta2_loaded = optimizer_loaded_state_dict[\"param_groups\"][0][\"betas\"][1]\n",
        "  optimizer_loaded = optim.Adam(net_loaded.parameters(), lr=lr_loaded, weight_decay=weight_decay_loaded, betas=(beta1_loaded, beta2_loaded))\n",
        "elif optimizer_name_loaded == \"RMSprop\":\n",
        "  optimizer_loaded = optim.RMSprop(net_loaded.parameters(), lr=lr_loaded)\n",
        "elif optimizer_name_loaded == \"Adagrad\":\n",
        "  # Added loading the Adagrad optimizer\n",
        "  optimizer_loaded = optim.Adagrad(net_loaded.parameters(), lr=lr_loaded)\n",
        "optimizer_loaded.load_state_dict(optimizer_loaded_state_dict)\n",
        "\n",
        "# load the scheduler from the .pth file\n",
        "if torch.cuda.is_available():\n",
        "  scheduler_loaded_state_dict = torch.load(\"scheduler.pth\")\n",
        "else: \n",
        "  scheduler_loaded_state_dict = torch.load(\"scheduler.pth\", map_location=torch.device('cpu'))\n",
        "\n",
        "if scheduler_name_loaded == \"StepLR\":\n",
        "  # Added getting the step_size and gamma parameters from the state dict\n",
        "  step_size_loaded = scheduler_loaded_state_dict[\"step_size\"]\n",
        "  gamma_loaded = scheduler_loaded_state_dict[\"gamma\"]\n",
        "  scheduler_loaded = optim.lr_scheduler.StepLR(optimizer_loaded, step_size=step_size_loaded, gamma=gamma_loaded)\n",
        "elif scheduler_name_loaded == \"ExponentialLR\":\n",
        "  # Added getting the gamma parameter from the state dict\n",
        "  gamma_loaded = scheduler_loaded_state_dict[\"gamma\"]\n",
        "  scheduler_loaded = optim.lr_scheduler.ExponentialLR(optimizer_loaded, gamma=gamma_loaded)\n",
        "elif scheduler_name_loaded == \"CosineAnnealingLR\":\n",
        "  # Added getting the T_max parameter from the state dict\n",
        "  T_max_loaded = scheduler_loaded_state_dict[\"T_max\"]\n",
        "  scheduler_loaded = optim.lr_scheduler.CosineAnnealingLR(optimizer_loaded, T_max=T_max_loaded)\n",
        "elif scheduler_name_loaded == \"ReduceLROnPlateau\":\n",
        "  # Added getting the mode, factor, patience, threshold and min_lr parameters from the state dict\n",
        "  mode_loaded = scheduler_loaded_state_dict[\"mode\"]\n",
        "  factor_loaded = scheduler_loaded_state_dict[\"factor\"]\n",
        "  patience_loaded = scheduler_loaded_state_dict[\"patience\"]\n",
        "  threshold_loaded = scheduler_loaded_state_dict[\"threshold\"]\n",
        "  min_lr_loaded = scheduler_loaded_state_dict[\"min_lrs\"][0]\n",
        "  scheduler_loaded = optim.lr_scheduler.ReduceLROnPlateau(\n",
        "                    optimizer_loaded, mode=mode_loaded, factor=factor_loaded, patience=patience_loaded, threshold=threshold_loaded, min_lr=min_lr_loaded\n",
        "                )\n",
        "elif scheduler_name_loaded == \"CyclicLR\":  # Added CyclicLR\n",
        "    base_lr_loaded = scheduler_loaded_state_dict[\"base_lr\"]\n",
        "    max_lr_loaded = scheduler_loaded_state_dict[\"max_lr\"]\n",
        "    step_size_up_loaded = scheduler_loaded_state_dict[\"step_size_up\"]\n",
        "    scheduler_loaded = optim.lr_scheduler.CyclicLR(\n",
        "                    optimizer, base_lr=base_lr_loaded, max_lr=max_lr_loaded, step_size_up=step_size_up_loaded\n",
        "                )\n",
        "else:\n",
        "  scheduler_loaded = None\n",
        "\n",
        "if scheduler_loaded is not None:\n",
        "  # Added loading the state dict to the scheduler_loaded\n",
        "  scheduler_loaded.load_state_dict(scheduler_loaded_state_dict)\n",
        "\n",
        "# Loading the output of the training using pandas\n",
        "train_df_loaded = pd.read_csv(\"train_output.csv\")\n",
        "train_losses_loaded = train_df_loaded[\"train_loss\"].tolist()\n",
        "test_losses_loaded = train_df_loaded[\"test_loss\"].tolist()\n",
        "train_metrics_loaded = [\n",
        "    {\n",
        "        \"l1_norm\": train_df_loaded[\"train_l1_norm\"][i],\n",
        "        \"linf_norm\": train_df_loaded[\"train_linf_norm\"][i],\n",
        "    }\n",
        "    for i in range(len(train_df_loaded))\n",
        "]\n",
        "test_metrics_loaded = [\n",
        "    {\n",
        "        \"l1_norm\": train_df_loaded[\"test_l1_norm\"][i],\n",
        "        \"linf_norm\": train_df_loaded[\"test_linf_norm\"][i],\n",
        "    }\n",
        "    for i in range(len(train_df_loaded))\n",
        "]"
      ]
    },
    {
      "cell_type": "code",
      "execution_count": null,
      "metadata": {
        "id": "n-4pZ2s64cnr"
      },
      "outputs": [],
      "source": [
        "# %%script echo skipping\n",
        "\n",
        "var_dict_loaded[\"batch_size\"]\n",
        "var_dict_loaded[\"n_epochs\"]\n",
        "var_dict_loaded[\"loss_name\"]\n",
        "var_dict_loaded[\"optimizer_name\"]\n",
        "var_dict_loaded[\"scheduler_name\"]\n",
        "var_dict_loaded[\"n_units\"]\n",
        "var_dict_loaded[\"n_layers\"]\n",
        "var_dict_loaded[\"hidden_activation_name\"]\n",
        "var_dict_loaded[\"output_activation_name\"]\n",
        "var_dict_loaded[\"lr\"]\n",
        "var_dict_loaded[\"dropout_rate\"]"
      ]
    },
    {
      "cell_type": "code",
      "execution_count": null,
      "metadata": {
        "id": "QQ0MKbI04cnr"
      },
      "outputs": [],
      "source": [
        "%%script echo skipping\n",
        "\n",
        "scheduler_loaded_state_dict[\"mode\"]\n",
        "scheduler_loaded_state_dict[\"factor\"]\n",
        "scheduler_loaded_state_dict[\"patience\"]\n",
        "scheduler_loaded_state_dict[\"threshold\"]\n",
        "scheduler_loaded_state_dict[\"min_lrs\"]\n",
        "\n",
        "\n",
        "scheduler_loaded_state_dict[\"base_lr\"]\n",
        "scheduler_loaded_state_dict[\"max_lr\"]\n",
        "scheduler_loaded_state_dict[\"step_size_up\"]"
      ]
    },
    {
      "cell_type": "code",
      "execution_count": null,
      "metadata": {
        "id": "bHMdkxsm4cnr"
      },
      "outputs": [],
      "source": [
        "# %%script echo skipping\n",
        "\n",
        "var_dict\n",
        "hidden_activation_name_loaded"
      ]
    },
    {
      "cell_type": "code",
      "execution_count": null,
      "metadata": {
        "id": "GQ_fcj7zUZii"
      },
      "outputs": [],
      "source": [
        "# %%script echo skipping\n",
        "\n",
        "if hidden_activation_name_loaded == \"LeakyReLU\":\n",
        "  var_dict_loaded[\"leakyrelu_slope\"]\n",
        "if hidden_activation_name_loaded == \"PReLU\":\n",
        "  var_dict_loaded[\"prelu_init\"]\n",
        "elif hidden_activation_name_loaded == \"SoftPlus\":\n",
        "  var_dict_loaded[\"softplus_beta\"]\n",
        "\n",
        "batch_size_loaded\n",
        "n_epochs_loaded\n",
        "loss_name_loaded\n",
        "optimizer_name_loaded\n",
        "scheduler_name_loaded\n",
        "n_units_loaded\n",
        "n_layers_loaded\n",
        "hidden_activation_name_loaded\n",
        "output_activation_name_loaded\n",
        "lr_loaded\n",
        "dropout_rate_loaded\n",
        "hidden_activation_loaded\n",
        "output_activation_loaded\n",
        "net_loaded\n",
        "net_loaded.__dict__ # print the subparameters of the network\n",
        "loss_fn_loaded\n",
        "optimizer_loaded\n",
        "optimizer_loaded.__dict__ # print the subparameters of the optimizer\n",
        "if scheduler_loaded is not None:\n",
        "  scheduler_loaded\n",
        "  scheduler_loaded.__dict__ # print the subparameters of the scheduler\n",
        "train_losses_loaded\n",
        "test_losses_loaded\n",
        "train_metrics_loaded\n",
        "test_metrics_loaded\n"
      ]
    },
    {
      "cell_type": "code",
      "execution_count": null,
      "metadata": {
        "id": "wIFp6xgs4cns"
      },
      "outputs": [],
      "source": [
        "train_losses_loaded[-1]\n",
        "test_losses_loaded[-1]\n",
        "test_metrics_loaded[-1]['l1_norm']\n",
        "test_metrics_loaded[-1]['linf_norm']\n",
        "# print(f'Error is {test_metrics_loaded[-1][\"l1_norm\"] / (3.84e-4)} times bigger than in Dieselhorst et al.')\n",
        "# print(f'Error is {test_metrics_loaded[-1][\"linf_norm\"] / (8.14e-3)} times bigger than in Dieselhorst et al.')"
      ]
    },
    {
      "cell_type": "markdown",
      "metadata": {
        "id": "OdOwEngu4cns"
      },
      "source": [
        "### Visualize loaded results"
      ]
    },
    {
      "cell_type": "markdown",
      "metadata": {
        "id": "vwLGR1aSUZik"
      },
      "source": [
        "Let us verify correct loading of the train and test metrics by visualizing them again but now through the loaded values. Likewise for the train and test losses."
      ]
    },
    {
      "cell_type": "code",
      "execution_count": null,
      "metadata": {
        "id": "sXiNgLsmUZil"
      },
      "outputs": [],
      "source": [
        "%config InteractiveShell.ast_node_interactivity = \"last_expr_or_assign\""
      ]
    },
    {
      "cell_type": "code",
      "execution_count": null,
      "metadata": {
        "id": "sgq4WfSiUZil"
      },
      "outputs": [],
      "source": [
        "# Plotting the losses and metrics for the best network plt.figure(figsize=(12, \n",
        "#plt.subplot(2, 2, 1)\n",
        "#plt.plot(train_losses_loaded, label=\"Train Loss\")\n",
        "#plt.plot(test_losses_loaded, label=\"Test Loss\")\n",
        "#plt.xlabel(\"Epoch\")\n",
        "#plt.ylabel(\"Loss\")\n",
        "#plt.legend()\n",
        "plt.subplot(2, 2, 2)\n",
        "plt.plot([m[\"l1_norm\"] for m in train_metrics_loaded], label=\"Train L1 Norm\")\n",
        "plt.plot([m[\"l1_norm\"] for m in test_metrics_loaded], label=\"Test L1 Norm\")\n",
        "plt.xlabel(\"Epoch\")\n",
        "plt.ylabel(\"L1 Norm\")\n",
        "# Added setting the vertical axis to be in powers of 10\n",
        "plt.yscale(\"log\")\n",
        "# Added setting the vertical axis limits to be from 10^-7 to 10^0\n",
        "plt.ylim(1e-3, 1e2)\n",
        "plt.legend()\n",
        "plt.subplot(2, 2, 3)\n",
        "plt.plot([m[\"linf_norm\"] for m in train_metrics_loaded], label=\"Train Linf Norm\")\n",
        "plt.plot([m[\"linf_norm\"] for m in test_metrics_loaded], label=\"Test Linf Norm\")\n",
        "plt.xlabel(\"Epoch\")\n",
        "plt.ylabel(\"Linf Norm\")\n",
        "# Added setting the vertical axis to be in powers of 10\n",
        "plt.yscale(\"log\")\n",
        "# Added setting the vertical axis limits to be from 10^-7 to 10^0\n",
        "plt.ylim(1e-3, 1e2)\n",
        "plt.legend()\n",
        "plt.tight_layout()\n",
        "plt.show()\n",
        "\n",
        "# Added plotting MSE of training data and MSE of test data in one plot \n",
        "plt.figure(figsize=(8, 6))\n",
        "plt.plot(train_losses_loaded,label=\"training data\")\n",
        "plt.plot(test_losses_loaded,label=\"test data\")\n",
        "#if scheduler is not None:\n",
        "#    plt.plot([scheduler.get_last_lr()[0] for _ in range(n_epochs)], label=\"Learning rate\") \n",
        "plt.xlabel(\"Epoch\")\n",
        "plt.ylabel(f\"{loss_name_loaded} Loss\")\n",
        "# Added setting the vertical axis to be in powers of 10\n",
        "plt.yscale(\"log\")\n",
        "# Added setting the vertical axis limits to be from 10^-7 to 10^0\n",
        "plt.ylim(1e-7, 1e0)\n",
        "plt.legend()\n",
        "plt.show()\n"
      ]
    },
    {
      "cell_type": "code",
      "execution_count": null,
      "metadata": {
        "id": "lkgLqJ_UUZim"
      },
      "outputs": [],
      "source": [
        "%config InteractiveShell.ast_node_interactivity = \"all\""
      ]
    },
    {
      "cell_type": "markdown",
      "metadata": {
        "id": "aotL4GJl4cnu"
      },
      "source": [
        "## Counting the number of parameters in the network."
      ]
    },
    {
      "cell_type": "code",
      "execution_count": null,
      "metadata": {
        "id": "_sQl2bTk4cnu"
      },
      "outputs": [],
      "source": [
        "net_loaded.eval()\n",
        "def count_parameters(model):\n",
        "    return sum(p.numel() for p in model.parameters() if p.requires_grad)\n",
        "print(f'The model has {count_parameters(net_loaded)} parameters.')"
      ]
    },
    {
      "cell_type": "markdown",
      "metadata": {
        "id": "SxuzVSnlUZin"
      },
      "source": [
        "## Evaluating the network on arbirary input\n",
        "### Comparing `net` and `net_loaded`\n",
        "\n",
        "We compare `net` and `net_loaded` to confirm correct loading of the network. Note that `net` is only available if we have trained the model in this session."
      ]
    },
    {
      "cell_type": "code",
      "execution_count": null,
      "metadata": {
        "id": "usq1X1KO4cnu"
      },
      "outputs": [],
      "source": [
        "#%%script echo skipping\n",
        "\n",
        "# Set the network to evaluation mode\n",
        "net.eval()"
      ]
    },
    {
      "cell_type": "code",
      "execution_count": null,
      "metadata": {
        "id": "-pwGJnzK4cnv"
      },
      "outputs": [],
      "source": [
        "# Set the network to evaluation mode\n",
        "net_loaded.eval"
      ]
    },
    {
      "cell_type": "code",
      "execution_count": null,
      "metadata": {
        "id": "vXaSZDzX4cnv"
      },
      "outputs": [],
      "source": [
        "for p1, p2 in zip(net.parameters(), net_loaded.parameters()):\n",
        "    if p1.data.ne(p2.data).sum() > 0:\n",
        "        print(\"Parameters are NOT the same.\")\n",
        "        break\n",
        "else:\n",
        "    print(\"Parameters are the same.\")\n",
        "\n",
        "print(\"Net device:\", next(net.parameters()).device)\n",
        "print(\"Net_loaded device:\", next(net_loaded.parameters()).device)"
      ]
    },
    {
      "cell_type": "code",
      "execution_count": null,
      "metadata": {
        "id": "C0PLAA0DUZin"
      },
      "outputs": [],
      "source": [
        "#%%script echo skipping\n",
        "\n",
        "print(list(net.parameters()))"
      ]
    },
    {
      "cell_type": "code",
      "execution_count": null,
      "metadata": {
        "id": "1NZ8iVA7UZio"
      },
      "outputs": [],
      "source": [
        "print(list(net_loaded.parameters()))"
      ]
    },
    {
      "cell_type": "code",
      "execution_count": null,
      "metadata": {
        "id": "InGW0Xq6UZip"
      },
      "outputs": [],
      "source": [
        "rho_example, epsilon_example, vx_example, vy_example, vz_example, Bx_example, By_example, Bz_example, gxx_example, gxy_example, gxz_example, gyy_example, gyz_example, gzz_example = generate_samples(20)\n",
        "\n",
        "inputs =  generate_input_data(rho_example, epsilon_example, vx_example, vy_example, vz_example, Bx_example, By_example, Bz_example, gxx_example, gxy_example, gxz_example, gyy_example, gyz_example, gzz_example)\n",
        "inputs\n"
      ]
    },
    {
      "cell_type": "code",
      "execution_count": null,
      "metadata": {
        "id": "QVa1upmFUZip"
      },
      "outputs": [],
      "source": [
        "#%%script echo skipping\n",
        "\n",
        "# Pass the inputs to the network and get the outputs\n",
        "outputs = [net(input.unsqueeze(0)) for input in inputs]\n",
        "# Print the outputs\n",
        "outputs"
      ]
    },
    {
      "cell_type": "code",
      "execution_count": null,
      "metadata": {
        "id": "E-Xjfo7VUZir"
      },
      "outputs": [],
      "source": [
        "\n",
        "# Pass the inputs to the network and get the outputs\n",
        "outputs = [net_loaded(input.unsqueeze(0)) for input in inputs]\n",
        "# Print the outputs\n",
        "outputs"
      ]
    },
    {
      "cell_type": "markdown",
      "metadata": {
        "id": "xjpIvdybUZis"
      },
      "source": [
        "## Porting the model to C++"
      ]
    },
    {
      "cell_type": "code",
      "execution_count": null,
      "metadata": {
        "id": "VMlEd4RoUZis"
      },
      "outputs": [],
      "source": [
        "import torch.jit\n",
        "\n",
        "# Creating a dummy input tensor of shape (1, 5) to trace the model\n",
        "dummy_input = torch.randn(1, N_INPUTS).to(device)\n",
        "\n",
        "# Ensure that net_loaded is in evaluation mode.\n",
        "net_loaded.eval()\n",
        "\n",
        "# Tracing the model using the torch.jit.trace function\n",
        "traced_model = torch.jit.trace(net_loaded, dummy_input)\n",
        "\n",
        "# Saving the traced model to a file named \"net.pt\"\n",
        "traced_model.save(\"net.pt\")\n",
        "save_file(\"net.pt\")\n",
        "\n",
        "example_input_to_validate_correct_export_and_import = generate_input_data(*generate_samples(1))\n",
        "print(\"input shape: \", example_input_to_validate_correct_export_and_import.shape)\n",
        "print(\"input: \", example_input_to_validate_correct_export_and_import)\n",
        "print(\"Output:\", net_loaded(example_input_to_validate_correct_export_and_import))"
      ]
    }
  ],
  "metadata": {
    "accelerator": "GPU",
    "colab": {
      "gpuType": "T4",
      "provenance": [],
      "machine_shape": "hm"
    },
    "kernelspec": {
      "display_name": "Python 3",
      "name": "python3"
    },
    "language_info": {
      "codemirror_mode": {
        "name": "ipython",
        "version": 3
      },
      "file_extension": ".py",
      "mimetype": "text/x-python",
      "name": "python",
      "nbconvert_exporter": "python",
      "pygments_lexer": "ipython3",
      "version": "3.11.3"
    },
    "orig_nbformat": 4
  },
  "nbformat": 4,
  "nbformat_minor": 0
}