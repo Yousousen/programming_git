{
  "cells": [
    {
      "cell_type": "markdown",
      "metadata": {
        "id": "TPvB1xoSUZhR"
      },
      "source": [
        "# Neural network to learn conservative-to-primitive conversion in relativistic hydrodynamics"
      ]
    },
    {
      "cell_type": "markdown",
      "metadata": {
        "id": "__fLZmSf4cm7"
      },
      "source": [
        "## How to use this notebook\n",
        "\n",
        "### Local installation\n",
        "\n",
        "1. Install required packages with `pip install -r requirements.txt` to your desired environment.\n",
        "2. If a script version of this notebook is desired, comment (not uncomment) the first line of `nbconvert` cell.\n",
        "\n",
        "### Colab installation\n",
        "\n",
        "1.  Comment (not uncomment) the first line of the drive mounting cell.\n",
        "2.  Comment (not uncomment) the first line of the `pip install` cell.\n",
        "\n",
        "<!-- - For colab we also want to set the runtime to GPU by clicking _Change runtime_ in the _Runtime_ menu, and -->\n",
        "<!-- - We want to wait for the google drive connection popup to appear and follow the instructions. -->\n",
        "\n",
        "### Loading / Generating data\n",
        "3. Set `LOAD_DATA_FROM_CSV` to `True` / `False` to load data from csv files / generate data in this notebook.\n",
        "\n",
        "### Training without optimization\n",
        "\n",
        "4. Set `OPTIMIZE = False` in section _Constants and flags to set_.\n",
        "5. Run the entire notebook.\n",
        "\n",
        "### Training with optimization\n",
        "\n",
        "4. Set `OPTIMIZE = True` in section _Constants and flags to set_.\n",
        "5. Run the entire notebook.\n",
        "\n",
        "### Loading an already trained model\n",
        "\n",
        "4. Run cells in section _Initialization_.\n",
        "5. Run cells with definitions in section _Input data and labels_.\n",
        "6. Run cell with the definition of _Net_ in section _Defining the neural network_.\n",
        "7. Make sure the `net.pth`, `optimizer.pth`, `scheduler.pth`, `var_dict.json` and `train_output.csv` files are in the directory containing this notebook.\n",
        "8. Run the cells in section _Loading_ and continue from there.\n",
        "\n",
        "### Generating the C++ model\n",
        "\n",
        "9. Run section _Porting the model to C++_, this requires a model to be loaded.\n",
        "10. Set the path to the `net.pt` file in the C++ source file.\n",
        "11. `mkdir build && cd build`,\n",
        "12. Configure a `CMakeLists.txt` file as is done [here](https://pytorch.org/cppdocs/installing.html).\n",
        "13. `cmake -DCMAKE_PREFIX_PATH=/path/to/libtorch/ ..`,\n",
        "14. Compile and run, e.g. `cmake --build . --config release && ./<executable name>`"
      ]
    },
    {
      "cell_type": "markdown",
      "metadata": {
        "id": "Ix44VuOJ4cm9"
      },
      "source": [
        "## Initialization"
      ]
    },
    {
      "cell_type": "markdown",
      "metadata": {
        "id": "pKLcdI-F4cm_"
      },
      "source": [
        "\n",
        "Use this first cell to **convert this notebook** to a python script."
      ]
    },
    {
      "cell_type": "code",
      "execution_count": null,
      "metadata": {
        "colab": {
          "base_uri": "https://localhost:8080/"
        },
        "id": "eqdgdNLHUZhV",
        "outputId": "dcf71419-fbe7-4764-e9a3-bbcb7e3e17ad",
        "tags": [
          "remove_cell"
        ]
      },
      "outputs": [
        {
          "output_type": "stream",
          "name": "stdout",
          "text": [
            "skipping\n"
          ]
        }
      ],
      "source": [
        "%%script echo skipping\n",
        "\n",
        "!jupyter nbconvert GRMHD_ML.ipynb --TagRemovePreprocessor.enabled=True --TagRemovePreprocessor.remove_cell_tags='{\"remove_cell\"}' --to script"
      ]
    },
    {
      "cell_type": "markdown",
      "metadata": {
        "id": "nzcUr0LnUZhw"
      },
      "source": [
        "Next some cells for working on **google colab**,"
      ]
    },
    {
      "cell_type": "code",
      "execution_count": null,
      "metadata": {
        "id": "6VBGn-gc4cnD"
      },
      "outputs": [],
      "source": [
        "import os\n",
        "import shutil\n",
        "\n",
        "# check if the drive is mounted\n",
        "drive_mounted = os.path.exists(\"/content/drive\")\n",
        "# change this to your desired folder\n",
        "drive_folder = \"/content/drive/My Drive/bsc/con2prim_GRMHD/1e5_runs/adjusted_lr_space4\"\n",
        "\n",
        "# define a function to save a file to the drive or the current directory\n",
        "def save_file(file_name):\n",
        "  if drive_mounted:\n",
        "    # save the file to the drive folder\n",
        "    file_path = os.path.join(drive_folder, file_name)\n",
        "    # copy the file from the current directory to the drive folder\n",
        "    shutil.copyfile(file_name, file_path)\n",
        "  else:\n",
        "    # do nothing as the file is already in the current directory\n",
        "    pass\n"
      ]
    },
    {
      "cell_type": "code",
      "execution_count": null,
      "metadata": {
        "id": "ecHw2_xlUZhx",
        "colab": {
          "base_uri": "https://localhost:8080/"
        },
        "outputId": "cb53a61a-acde-40b7-eb7f-d5f615ca7140"
      },
      "outputs": [
        {
          "output_type": "stream",
          "name": "stdout",
          "text": [
            "Mounted at /content/drive\n"
          ]
        }
      ],
      "source": [
        "#%%script echo skipping\n",
        "\n",
        "from google.colab import drive\n",
        "drive.mount('/content/drive')"
      ]
    },
    {
      "cell_type": "code",
      "execution_count": null,
      "metadata": {
        "id": "T1rcStMLUZhy",
        "colab": {
          "base_uri": "https://localhost:8080/"
        },
        "outputId": "4af7e307-cb68-47da-8f78-3c177eb49b50"
      },
      "outputs": [
        {
          "output_type": "stream",
          "name": "stdout",
          "text": [
            "Looking in indexes: https://pypi.org/simple, https://us-python.pkg.dev/colab-wheels/public/simple/\n",
            "Collecting optuna\n",
            "  Downloading optuna-3.2.0-py3-none-any.whl (390 kB)\n",
            "\u001b[2K     \u001b[90m━━━━━━━━━━━━━━━━━━━━━━━━━━━━━━━━━━━━━━━\u001b[0m \u001b[32m390.6/390.6 kB\u001b[0m \u001b[31m8.7 MB/s\u001b[0m eta \u001b[36m0:00:00\u001b[0m\n",
            "\u001b[?25hRequirement already satisfied: tensorboard in /usr/local/lib/python3.10/dist-packages (2.12.2)\n",
            "Collecting tensorboardX\n",
            "  Downloading tensorboardX-2.6-py2.py3-none-any.whl (114 kB)\n",
            "\u001b[2K     \u001b[90m━━━━━━━━━━━━━━━━━━━━━━━━━━━━━━━━━━━━━━\u001b[0m \u001b[32m114.5/114.5 kB\u001b[0m \u001b[31m14.3 MB/s\u001b[0m eta \u001b[36m0:00:00\u001b[0m\n",
            "\u001b[?25hCollecting alembic>=1.5.0 (from optuna)\n",
            "  Downloading alembic-1.11.1-py3-none-any.whl (224 kB)\n",
            "\u001b[2K     \u001b[90m━━━━━━━━━━━━━━━━━━━━━━━━━━━━━━━━━━━━━━\u001b[0m \u001b[32m224.5/224.5 kB\u001b[0m \u001b[31m23.4 MB/s\u001b[0m eta \u001b[36m0:00:00\u001b[0m\n",
            "\u001b[?25hCollecting cmaes>=0.9.1 (from optuna)\n",
            "  Downloading cmaes-0.9.1-py3-none-any.whl (21 kB)\n",
            "Collecting colorlog (from optuna)\n",
            "  Downloading colorlog-6.7.0-py2.py3-none-any.whl (11 kB)\n",
            "Requirement already satisfied: numpy in /usr/local/lib/python3.10/dist-packages (from optuna) (1.24.3)\n",
            "Requirement already satisfied: packaging>=20.0 in /usr/local/lib/python3.10/dist-packages (from optuna) (23.1)\n",
            "Requirement already satisfied: sqlalchemy>=1.3.0 in /usr/local/lib/python3.10/dist-packages (from optuna) (2.0.10)\n",
            "Requirement already satisfied: tqdm in /usr/local/lib/python3.10/dist-packages (from optuna) (4.65.0)\n",
            "Requirement already satisfied: PyYAML in /usr/local/lib/python3.10/dist-packages (from optuna) (6.0)\n",
            "Requirement already satisfied: absl-py>=0.4 in /usr/local/lib/python3.10/dist-packages (from tensorboard) (1.4.0)\n",
            "Requirement already satisfied: grpcio>=1.48.2 in /usr/local/lib/python3.10/dist-packages (from tensorboard) (1.54.0)\n",
            "Requirement already satisfied: google-auth<3,>=1.6.3 in /usr/local/lib/python3.10/dist-packages (from tensorboard) (2.17.3)\n",
            "Requirement already satisfied: google-auth-oauthlib<1.1,>=0.5 in /usr/local/lib/python3.10/dist-packages (from tensorboard) (1.0.0)\n",
            "Requirement already satisfied: markdown>=2.6.8 in /usr/local/lib/python3.10/dist-packages (from tensorboard) (3.4.3)\n",
            "Requirement already satisfied: protobuf>=3.19.6 in /usr/local/lib/python3.10/dist-packages (from tensorboard) (3.20.3)\n",
            "Requirement already satisfied: requests<3,>=2.21.0 in /usr/local/lib/python3.10/dist-packages (from tensorboard) (2.27.1)\n",
            "Requirement already satisfied: setuptools>=41.0.0 in /usr/local/lib/python3.10/dist-packages (from tensorboard) (67.7.2)\n",
            "Requirement already satisfied: tensorboard-data-server<0.8.0,>=0.7.0 in /usr/local/lib/python3.10/dist-packages (from tensorboard) (0.7.0)\n",
            "Requirement already satisfied: tensorboard-plugin-wit>=1.6.0 in /usr/local/lib/python3.10/dist-packages (from tensorboard) (1.8.1)\n",
            "Requirement already satisfied: werkzeug>=1.0.1 in /usr/local/lib/python3.10/dist-packages (from tensorboard) (2.3.0)\n",
            "Requirement already satisfied: wheel>=0.26 in /usr/local/lib/python3.10/dist-packages (from tensorboard) (0.40.0)\n",
            "Collecting Mako (from alembic>=1.5.0->optuna)\n",
            "  Downloading Mako-1.2.4-py3-none-any.whl (78 kB)\n",
            "\u001b[2K     \u001b[90m━━━━━━━━━━━━━━━━━━━━━━━━━━━━━━━━━━━━━━━━\u001b[0m \u001b[32m78.7/78.7 kB\u001b[0m \u001b[31m11.4 MB/s\u001b[0m eta \u001b[36m0:00:00\u001b[0m\n",
            "\u001b[?25hRequirement already satisfied: typing-extensions>=4 in /usr/local/lib/python3.10/dist-packages (from alembic>=1.5.0->optuna) (4.6.2)\n",
            "Requirement already satisfied: cachetools<6.0,>=2.0.0 in /usr/local/lib/python3.10/dist-packages (from google-auth<3,>=1.6.3->tensorboard) (5.3.0)\n",
            "Requirement already satisfied: pyasn1-modules>=0.2.1 in /usr/local/lib/python3.10/dist-packages (from google-auth<3,>=1.6.3->tensorboard) (0.3.0)\n",
            "Requirement already satisfied: six>=1.9.0 in /usr/local/lib/python3.10/dist-packages (from google-auth<3,>=1.6.3->tensorboard) (1.16.0)\n",
            "Requirement already satisfied: rsa<5,>=3.1.4 in /usr/local/lib/python3.10/dist-packages (from google-auth<3,>=1.6.3->tensorboard) (4.9)\n",
            "Requirement already satisfied: requests-oauthlib>=0.7.0 in /usr/local/lib/python3.10/dist-packages (from google-auth-oauthlib<1.1,>=0.5->tensorboard) (1.3.1)\n",
            "Requirement already satisfied: urllib3<1.27,>=1.21.1 in /usr/local/lib/python3.10/dist-packages (from requests<3,>=2.21.0->tensorboard) (1.26.15)\n",
            "Requirement already satisfied: certifi>=2017.4.17 in /usr/local/lib/python3.10/dist-packages (from requests<3,>=2.21.0->tensorboard) (2022.12.7)\n",
            "Requirement already satisfied: charset-normalizer~=2.0.0 in /usr/local/lib/python3.10/dist-packages (from requests<3,>=2.21.0->tensorboard) (2.0.12)\n",
            "Requirement already satisfied: idna<4,>=2.5 in /usr/local/lib/python3.10/dist-packages (from requests<3,>=2.21.0->tensorboard) (3.4)\n",
            "Requirement already satisfied: greenlet!=0.4.17 in /usr/local/lib/python3.10/dist-packages (from sqlalchemy>=1.3.0->optuna) (2.0.2)\n",
            "Requirement already satisfied: MarkupSafe>=2.1.1 in /usr/local/lib/python3.10/dist-packages (from werkzeug>=1.0.1->tensorboard) (2.1.2)\n",
            "Requirement already satisfied: pyasn1<0.6.0,>=0.4.6 in /usr/local/lib/python3.10/dist-packages (from pyasn1-modules>=0.2.1->google-auth<3,>=1.6.3->tensorboard) (0.5.0)\n",
            "Requirement already satisfied: oauthlib>=3.0.0 in /usr/local/lib/python3.10/dist-packages (from requests-oauthlib>=0.7.0->google-auth-oauthlib<1.1,>=0.5->tensorboard) (3.2.2)\n",
            "Installing collected packages: tensorboardX, Mako, colorlog, cmaes, alembic, optuna\n",
            "Successfully installed Mako-1.2.4 alembic-1.11.1 cmaes-0.9.1 colorlog-6.7.0 optuna-3.2.0 tensorboardX-2.6\n"
          ]
        }
      ],
      "source": [
        "#%%script echo skipping\n",
        "\n",
        "!pip install optuna tensorboard tensorboardX"
      ]
    },
    {
      "cell_type": "markdown",
      "metadata": {
        "id": "msDldnu_4cnF"
      },
      "source": [
        "Importing the **libraries**,"
      ]
    },
    {
      "cell_type": "code",
      "execution_count": null,
      "metadata": {
        "id": "tREdWQUVUZhz"
      },
      "outputs": [],
      "source": [
        "import numpy as np\n",
        "import matplotlib.pyplot as plt\n",
        "import torch\n",
        "import torch.nn as nn\n",
        "import torch.optim as optim\n",
        "import torch.nn.functional as F\n",
        "import optuna\n",
        "import tensorboardX as tbx\n",
        "import pandas as pd"
      ]
    },
    {
      "cell_type": "markdown",
      "metadata": {
        "id": "38GvmerjUZhz"
      },
      "source": [
        "### Constants and flags to set\n",
        "Defining some constants and parameters for convenience.\n",
        "\n",
        "**NOTE**: Some **subparameters** still need to be adjusted in the `create_model` function itself as of (Tue May 16 07:42:45 AM CEST 2023) in the case the model is being trained without optimization."
      ]
    },
    {
      "cell_type": "code",
      "execution_count": null,
      "metadata": {
        "id": "ei6VZDYKUZh0"
      },
      "outputs": [],
      "source": [
        "\n",
        "# Checking if GPU is available and setting the device accordingly\n",
        "device = torch.device(\"cuda\" if torch.cuda.is_available() else \"cpu\")\n",
        "\n",
        "N_TRIALS = 1000 # Number of trials for hyperparameter optimization # NOTE: Set this properly.\n",
        "OPTIMIZE = True # Whether to optimize the hyperparameters or to use predetermined values. # NOTE: Set this properly.\n",
        "ZSCORE_NORMALIZATION = False # Whether to z-score normalize the input data.\n",
        "LOAD_DATA_FROM_CSV = False  # If not true we generate the data in this file and save to {x_train,y_train,x_test,y_test}.csv, otherwise we load the data from files of the same name. # NOTE: Set this before properly.\n",
        "\n",
        "csv_filenames = { # File names to load input data and labels from if LOAD_DATA_FROM_CSV is True.\n",
        "    \"x_train\": \"x_train.csv\",\n",
        "    \"x_val\": \"x_val.csv\",\n",
        "    \"x_test\": \"x_test.csv\",\n",
        "    \"y_train\": \"y_train.csv\",\n",
        "    \"y_val\": \"y_val.csv\",\n",
        "    \"y_test\": \"y_test.csv\",\n",
        "}\n",
        "\n",
        "# Values to use for hyperparameters if OPTIMIZE is False; set these to the best parameters found by Optuna.\n",
        "# NOTE: TODO: Currently (Sat May 27 05:16:57 PM CEST 2023) there are still subparameters to be set in create_model function.\n",
        "N_LAYERS_NO_OPT = 3\n",
        "N_UNITS_NO_OPT = [555, 458, 115]\n",
        "HIDDEN_ACTIVATION_NAME_NO_OPT = \"LeakyReLU\"\n",
        "OUTPUT_ACTIVATION_NAME_NO_OPT = \"Linear\"\n",
        "LOSS_NAME_NO_OPT = \"Huber\"\n",
        "OPTIMIZER_NAME_NO_OPT = \"RMSprop\"\n",
        "LR_NO_OPT = 0.000122770896701404\n",
        "BATCH_SIZE_NO_OPT = 49\n",
        "N_EPOCHS_NO_OPT = 200 # NOTE: Set this properly.\n",
        "SCHEDULER_NAME_NO_OPT = \"ReduceLROnPlateau\"\n",
        "DROPOUT_RATE_NO_OPT = 0.2\n",
        "\n",
        "N_INPUTS = 14  # Number of input features.\n",
        "N_OUTPUTS = 1  # Number of outputs.\n",
        "Gamma = 5/3  # Adiabatic index\n",
        "\n",
        "n_samples = 1e5 # NOTE: Set this properly.\n",
        "train_frac = 0.7  # 70% of data for training\n",
        "val_frac = 0.15  # 15% of data for validation, rest for testing\n",
        "\n",
        "rho_interval = (0, 2) \n",
        "epsilon_interval = (1e-2, 2000)  # Will be sampled in log space\n",
        "vx_interval = (0, 0.999)  \n",
        "vy_interval = (0, 0.999)  \n",
        "vz_interval = (0, 0.999)  \n",
        "Bx_interval = (-10, 10)  \n",
        "By_interval = (-10, 10)  \n",
        "Bz_interval = (-10, 10)  \n",
        "gxx_interval = (0.9, 1.1)\n",
        "gxy_interval = (0, 0.1)\n",
        "gxz_interval = (0, 0.1)\n",
        "gyy_interval = (0.9, 1.1)\n",
        "gyz_interval = (0, 0.1)\n",
        "gzz_interval = (0.9, 1.1)\n",
        "\n",
        "np.random.seed(79) # Comment for true random data.\n"
      ]
    },
    {
      "cell_type": "markdown",
      "metadata": {
        "id": "dlaP5UL2UZh1"
      },
      "source": [
        "## Input data and labels\n",
        "\n",
        "We either generate the data or load the data. First the definitions for generating the data come below."
      ]
    },
    {
      "cell_type": "code",
      "execution_count": null,
      "metadata": {
        "id": "s_EvGFZcUZh1"
      },
      "outputs": [],
      "source": [
        "# Defining an analytic equation of state (EOS) for an ideal gas\n",
        "def eos_analytic(rho, epsilon):\n",
        "    # Adding some assertions to check that the input tensors are valid and have \n",
        "    # the expected shape and type \n",
        "    assert isinstance(rho, torch.Tensor), \"rho must be a torch.Tensor\"\n",
        "    assert isinstance(epsilon, torch.Tensor), \"epsilon must be a torch.Tensor\"\n",
        "    print('rho.shape: ', rho.shape)\n",
        "    print('epsilon.shape: ', epsilon.shape)\n",
        "    assert rho.shape == epsilon.shape, \"rho and epsilon must have the same shape\"\n",
        "    assert rho.ndim == 1, \"rho and epsilon must be one-dimensional tensors\"\n",
        "    assert rho.dtype == torch.float32, \"rho and epsilon must have dtype torch.float32\"\n",
        "\n",
        "    return (Gamma - 1) * rho * epsilon\n",
        "\n",
        "def sample_primitive_variables_and_metric():\n",
        "    rho = np.random.uniform(*rho_interval)  \n",
        "    epsilon = np.random.uniform(*np.log10(epsilon_interval))\n",
        "    vx = np.random.uniform(*vx_interval)  \n",
        "    vy = np.random.uniform(*vy_interval)  \n",
        "    vz = np.random.uniform(*vz_interval)  \n",
        "    Bx = np.random.uniform(*Bx_interval)  \n",
        "    By = np.random.uniform(*By_interval)  \n",
        "    Bz = np.random.uniform(*Bz_interval)  \n",
        "    gxx = np.random.uniform(*gxx_interval)\n",
        "    gxy = np.random.uniform(*gxy_interval)\n",
        "    gxz = np.random.uniform(*gxz_interval)\n",
        "    gyy = np.random.uniform(*gyy_interval)\n",
        "    gyz = np.random.uniform(*gyz_interval)\n",
        "    gzz = np.random.uniform(*gzz_interval)\n",
        "\n",
        "    return rho, epsilon, vx, vy, vz, Bx, By, Bz, gxx, gxy, gxz, gyy, gyz, gzz\n",
        "\n",
        "def check_sample(rho, epsilon, vx, vy, vz, Bx, By, Bz, gxx, gxy, gxz, gyy, gyz, gzz):\n",
        "    wtemp_expr = 1 - (gxx * vx**2 + gyy * vy**2 + gzz * vz**2 + 2 * gxy * vx * vy + 2 * gxz * vx * vz + 2 * gyz * vy * vz)\n",
        "    sdet_expr = gxx * gyy * gzz + 2 * gxy * gxz * gyz - gxx * gyz ** 2 - gyy * gxz ** 2 - gzz * gxy ** 2\n",
        "    if vx**2 + vy**2 + vz**2 >= 1 or wtemp_expr < 0 or sdet_expr < 0:\n",
        "        # print(f\"Sample failed checks. vx^2+vy^2+vz^2: {vx**2 + vy**2 + vz**2}, wtemp_expr: {wtemp_expr}, sdet_expr: {sdet_expr}\")\n",
        "        return False\n",
        "    else:\n",
        "        # print(f\"Sample passed checks. vx^2+vy^2+vz^2: {vx**2 + vy**2 + vz**2}, wtemp_expr: {wtemp_expr}, sdet_expr: {sdet_expr}\")\n",
        "        return True\n",
        "\n",
        "def generate_samples(n_samples):\n",
        "    samples = []\n",
        "    while len(samples) < n_samples:\n",
        "        sample = sample_primitive_variables_and_metric()\n",
        "        if check_sample(*sample):\n",
        "            samples.append(sample)\n",
        "        # print(f\"Number of valid samples: {len(samples)}\")\n",
        "    return zip(*samples)\n",
        "def sdet(gxx, gxy, gxz, gyy, gyz, gzz):\n",
        "    # Determinant of the three metric.\n",
        "    return (gxx * gyy * gzz + 2 * gxy * gxz * gyz - gxx * gyz ** 2 - gyy * gxz ** 2 - gzz * gxy ** 2) ** 0.5\n",
        "\n",
        "# Defining a function that computes conserved variables from primitive variables and the metric\n",
        "# We follow the source code of GRaM-X: A new GPU-accelerated dynamical spacetime GRMHD code for Exascale\n",
        "# computing with the Einstein Toolkit of Shankar et al.\n",
        "def compute_conserved_variables(rho, epsilon, vx, vy, vz, Bx, By, Bz, gxx, gxy, gxz, gyy, gyz, gzz):\n",
        "    pres = eos_analytic(rho, epsilon)\n",
        "    wtemp = 1 / (1 - (gxx * vx**2 + gyy * vy**2 + gzz * vz**2 +\n",
        "        2 * gxy * vx * vy + 2 * gxz * vx * vz +\n",
        "        2 * gyz * vy * vz))**0.5\n",
        "\n",
        "    vlowx = gxx * vx + gxy * vy + gxz * vz\n",
        "    vlowy = gxy * vx + gyy * vy + gyz * vz\n",
        "    vlowz = gxz * vx + gyz * vy + gzz * vz\n",
        "\n",
        "    Bxlow = gxx * Bx + gxy * By + gxz * Bz\n",
        "    Bylow = gxy * Bx + gyy * By + gyz * Bz\n",
        "    Bzlow = gxz * Bx + gyz * By + gzz * Bz\n",
        "\n",
        "    B2 = Bxlow * Bx + Bylow * By + Bzlow * Bz\n",
        "\n",
        "    Bdotv = Bxlow * vx + Bylow * vy + Bzlow * vz\n",
        "    Bdotv2 = Bdotv * Bdotv\n",
        "    wtemp2 = wtemp * wtemp\n",
        "    b2 = B2 / wtemp2 + Bdotv2\n",
        "    ab0 = wtemp * Bdotv\n",
        "\n",
        "    blowx = (gxx * Bx + gxy * By + gxz * Bz) / wtemp + wtemp * Bdotv * vlowx\n",
        "    blowy = (gxy * Bx + gyy * By + gyz * Bz) / wtemp + wtemp * Bdotv * vlowy\n",
        "    blowz = (gxz * Bx + gyz * By + gzz * Bz) / wtemp + wtemp * Bdotv * vlowz\n",
        "\n",
        "    hrhow2 = (rho * (1 + epsilon) + pres + b2) * (wtemp) * (wtemp)\n",
        "\n",
        "    D = sdet(gxx, gxy, gxz, gyy, gyz, gzz) * rho * (wtemp)\n",
        "    Sx = sdet(gxx, gxy, gxz, gyy, gyz, gzz) * (hrhow2 * vlowx - ab0 * blowx)\n",
        "    Sy = sdet(gxx, gxy, gxz, gyy, gyz, gzz) * (hrhow2 * vlowy - ab0 * blowy)\n",
        "    Sz = sdet(gxx, gxy, gxz, gyy, gyz, gzz) * (hrhow2 * vlowz - ab0 * blowz)\n",
        "    tau = sdet(gxx, gxy, gxz, gyy, gyz, gzz) * (hrhow2 - pres - b2 / 2 - ab0 * ab0) - D\n",
        "    Bconsx = sdet(gxx, gxy, gxz, gyy, gyz, gzz) * Bx\n",
        "    Bconsy = sdet(gxx, gxy, gxz, gyy, gyz, gzz) * By\n",
        "    Bconsz = sdet(gxx, gxy, gxz, gyy, gyz, gzz) * Bz\n",
        "\n",
        "    return D, Sx, Sy, Sz, tau, Bconsx, Bconsy, Bconsz\n",
        "\n",
        "def generate_input_data(rho, epsilon, vx, vy, vz, Bx, By, Bz, gxx, gxy, gxz, gyy, gyz, gzz):\n",
        "    rho = torch.tensor(np.array(rho), dtype=torch.float32).to(device)\n",
        "    epsilon = torch.tensor(np.array(epsilon), dtype=torch.float32).to(device)\n",
        "    vx = torch.tensor(np.array(vx), dtype=torch.float32).to(device)\n",
        "    vy = torch.tensor(np.array(vy), dtype=torch.float32).to(device)\n",
        "    vz = torch.tensor(np.array(vz), dtype=torch.float32).to(device)\n",
        "    Bx = torch.tensor(np.array(Bx), dtype=torch.float32).to(device)\n",
        "    By = torch.tensor(np.array(By), dtype=torch.float32).to(device)\n",
        "    Bz = torch.tensor(np.array(Bz), dtype=torch.float32).to(device)\n",
        "    gxx = torch.tensor(np.array(gxx), dtype=torch.float32).to(device)\n",
        "    gxy = torch.tensor(np.array(gxy), dtype=torch.float32).to(device)\n",
        "    gxz = torch.tensor(np.array(gxz), dtype=torch.float32).to(device)\n",
        "    gyy = torch.tensor(np.array(gyy), dtype=torch.float32).to(device)\n",
        "    gyz = torch.tensor(np.array(gyz), dtype=torch.float32).to(device)\n",
        "    gzz = torch.tensor(np.array(gzz), dtype=torch.float32).to(device)\n",
        "\n",
        "    D, Sx, Sy, Sz, tau, Bscriptx, Bscripty, Bscriptz = compute_conserved_variables(\n",
        "        rho, epsilon, vx, vy, vz, Bx, By, Bz, gxx, gxy, gxz, gyy, gyz, gzz\n",
        "    ) \n",
        "\n",
        "    # Add gxx, gxy, gxz, gyy, gyz, gzz to the tensor\n",
        "    x = torch.stack([D, Sx, Sy, Sz, tau, Bscriptx, Bscripty, Bscriptz, gxx, gxy, gxz, gyy, gyz, gzz], axis=1)\n",
        "    return x\n",
        "\n",
        "# Defining a function that generates output data (labels) from given samples of primitive variables\n",
        "# We use the definitions as given in Recovery schemes for primitive variables in\n",
        "# general-relativistic magnetohydrodynamics of Siegel et al.\n",
        "def generate_labels(rho, epsilon, vx, vy, vz):\n",
        "    # Converting the numpy arrays to torch tensors and moving them to the device\n",
        "    rho = torch.tensor(np.array(rho), dtype=torch.float32).to(device)\n",
        "    epsilon = torch.tensor(np.array(epsilon), dtype=torch.float32).to(device)\n",
        "    vx = torch.tensor(np.array(vx), dtype=torch.float32).to(device)\n",
        "    vy = torch.tensor(np.array(vy), dtype=torch.float32).to(device)\n",
        "    vz = torch.tensor(np.array(vz), dtype=torch.float32).to(device)\n",
        "\n",
        "    # Computing the required quantities\n",
        "    pres = eos_analytic(rho, epsilon)\n",
        "    h = 1 + epsilon + pres / rho\n",
        "    W = 1 / torch.sqrt(1 - (vx * vx + vy * vy + vz * vz))\n",
        "\n",
        "    # Returning the output data tensor\n",
        "    return h * W"
      ]
    },
    {
      "cell_type": "markdown",
      "metadata": {
        "id": "SSJd2Ch74cnI"
      },
      "source": [
        "### Generating or loading input data and labels"
      ]
    },
    {
      "cell_type": "code",
      "execution_count": null,
      "metadata": {
        "id": "Dbu0GvMz4cnI"
      },
      "outputs": [],
      "source": [
        "%config InteractiveShell.ast_node_interactivity = \"all\""
      ]
    },
    {
      "cell_type": "code",
      "execution_count": null,
      "metadata": {
        "id": "cKubR6C8UZh4"
      },
      "outputs": [],
      "source": [
        "if LOAD_DATA_FROM_CSV:\n",
        "    # Load the data from CSV files\n",
        "    x_train = pd.read_csv(csv_filenames[\"x_train\"]).values\n",
        "    y_train = pd.read_csv(csv_filenames[\"y_train\"]).values.squeeze()  # reshape to 1D\n",
        "    x_val = pd.read_csv(csv_filenames[\"x_val\"]).values\n",
        "    y_val = pd.read_csv(csv_filenames[\"y_val\"]).values.squeeze()  # reshape to 1D\n",
        "    x_test = pd.read_csv(csv_filenames[\"x_test\"]).values\n",
        "    y_test = pd.read_csv(csv_filenames[\"y_test\"]).values.squeeze()  # reshape to 1D\n",
        "\n",
        "    # Convert numpy arrays to tensors\n",
        "    x_train = torch.from_numpy(x_train).float().to(device)\n",
        "    y_train = torch.from_numpy(y_train).float().to(device)\n",
        "    x_val = torch.from_numpy(x_val).float().to(device)\n",
        "    y_val = torch.from_numpy(y_val).float().to(device)\n",
        "    x_test = torch.from_numpy(x_test).float().to(device)\n",
        "    y_test = torch.from_numpy(y_test).float().to(device)\n",
        "\n",
        "    # This is an alternative to having if clauses around the cells that visualize these variables.\n",
        "    rho = epsilon = vx = vy = vz = Bx = By = Bz = gxx = gxy = gxz = gyy = gyz  = gzz = None"
      ]
    },
    {
      "cell_type": "code",
      "execution_count": null,
      "metadata": {
        "id": "dImVa4W04cnJ"
      },
      "outputs": [],
      "source": [
        "if not LOAD_DATA_FROM_CSV:\n",
        "    # Sample primitive variables and metric\n",
        "    rho, epsilon, vx, vy, vz, Bx, By, Bz, gxx, gxy, gxz, gyy, gyz, gzz = generate_samples(n_samples)"
      ]
    },
    {
      "cell_type": "code",
      "execution_count": null,
      "metadata": {
        "id": "ESK3LQPg4cnJ",
        "colab": {
          "base_uri": "https://localhost:8080/"
        },
        "outputId": "373f4f61-4474-4adf-cee8-4118321383b2"
      },
      "outputs": [
        {
          "output_type": "stream",
          "name": "stdout",
          "text": [
            "rho.shape:  torch.Size([100000])\n",
            "epsilon.shape:  torch.Size([100000])\n",
            "rho.shape:  torch.Size([100000])\n",
            "epsilon.shape:  torch.Size([100000])\n"
          ]
        }
      ],
      "source": [
        "if not LOAD_DATA_FROM_CSV:\n",
        "    # Generate data and labels.\n",
        "    x = generate_input_data(rho, epsilon, vx, vy, vz, Bx, By, Bz, gxx, gxy, gxz, gyy, gyz, gzz)\n",
        "    y = generate_labels(rho, epsilon, vx, vy, vz)\n",
        "\n",
        "    # Calculate the number of samples in each set\n",
        "    n_train_samples = int(n_samples * train_frac)\n",
        "    n_val_samples = int(n_samples * val_frac)\n",
        "\n",
        "    # Create the data sets\n",
        "    x_train = x[:n_train_samples]\n",
        "    y_train = y[:n_train_samples]\n",
        "    x_val = x[n_train_samples : n_train_samples + n_val_samples]\n",
        "    y_val = y[n_train_samples : n_train_samples + n_val_samples]\n",
        "    x_test = x[n_train_samples + n_val_samples :]\n",
        "    y_test = y[n_train_samples + n_val_samples :]\n",
        "\n",
        "    # Save the data to CSV files; tensors need to be converted numpy arrays for saving in CSV.\n",
        "    pd.DataFrame(x_train.cpu().numpy()).to_csv(csv_filenames[\"x_train\"], index=False)\n",
        "    save_file(csv_filenames[\"x_train\"])\n",
        "    pd.DataFrame(y_train.cpu().numpy()).to_csv(csv_filenames[\"y_train\"], index=False)\n",
        "    save_file(csv_filenames[\"y_train\"])\n",
        "\n",
        "    pd.DataFrame(x_val.cpu().numpy()).to_csv(csv_filenames[\"x_val\"], index=False)\n",
        "    save_file(csv_filenames[\"x_val\"])\n",
        "    pd.DataFrame(y_val.cpu().numpy()).to_csv(csv_filenames[\"y_val\"], index=False)\n",
        "    save_file(csv_filenames[\"y_val\"])\n",
        "\n",
        "    pd.DataFrame(x_test.cpu().numpy()).to_csv(csv_filenames[\"x_test\"], index=False)\n",
        "    save_file(csv_filenames[\"x_test\"])\n",
        "    pd.DataFrame(y_test.cpu().numpy()).to_csv(csv_filenames[\"y_test\"], index=False)\n",
        "    save_file(csv_filenames[\"y_test\"])"
      ]
    },
    {
      "cell_type": "code",
      "execution_count": null,
      "metadata": {
        "id": "Y-3DG_h24cnJ",
        "colab": {
          "base_uri": "https://localhost:8080/"
        },
        "outputId": "b2896f4e-d5b5-4408-fa03-6d9e36f8c905"
      },
      "outputs": [
        {
          "output_type": "execute_result",
          "data": {
            "text/plain": [
              "torch.Size([70000, 14])"
            ]
          },
          "metadata": {},
          "execution_count": 12
        },
        {
          "output_type": "execute_result",
          "data": {
            "text/plain": [
              "torch.Size([70000])"
            ]
          },
          "metadata": {},
          "execution_count": 12
        },
        {
          "output_type": "execute_result",
          "data": {
            "text/plain": [
              "torch.Size([15000, 14])"
            ]
          },
          "metadata": {},
          "execution_count": 12
        },
        {
          "output_type": "execute_result",
          "data": {
            "text/plain": [
              "torch.Size([15000])"
            ]
          },
          "metadata": {},
          "execution_count": 12
        },
        {
          "output_type": "execute_result",
          "data": {
            "text/plain": [
              "torch.Size([15000, 14])"
            ]
          },
          "metadata": {},
          "execution_count": 12
        },
        {
          "output_type": "execute_result",
          "data": {
            "text/plain": [
              "torch.Size([15000])"
            ]
          },
          "metadata": {},
          "execution_count": 12
        },
        {
          "output_type": "execute_result",
          "data": {
            "text/plain": [
              "tensor([[ 1.3867e+00,  5.2776e+00, -7.8203e+00,  ...,  1.0721e+00,\n",
              "          7.9002e-02,  1.0504e+00],\n",
              "        [ 5.9584e+00,  1.6349e+01,  1.1392e+02,  ...,  9.5581e-01,\n",
              "          6.7520e-02,  9.7678e-01],\n",
              "        [ 1.3317e+00,  3.0163e+01,  4.4442e+01,  ...,  9.9052e-01,\n",
              "          8.0298e-02,  1.0058e+00],\n",
              "        ...,\n",
              "        [ 3.1732e+00,  1.1643e+01,  9.9774e+01,  ...,  1.0384e+00,\n",
              "          8.7898e-02,  9.3855e-01],\n",
              "        [ 1.6098e-01,  2.1210e+01,  5.2513e+00,  ...,  1.0432e+00,\n",
              "          1.1995e-02,  9.3218e-01],\n",
              "        [ 1.5215e+00, -1.1648e+01,  3.8188e+01,  ...,  9.5423e-01,\n",
              "          9.8318e-02,  9.2544e-01]])"
            ]
          },
          "metadata": {},
          "execution_count": 12
        },
        {
          "output_type": "execute_result",
          "data": {
            "text/plain": [
              "tensor([ 2.5314, 17.0368,  6.9994,  ...,  8.5293, -1.1762,  0.2570])"
            ]
          },
          "metadata": {},
          "execution_count": 12
        },
        {
          "output_type": "execute_result",
          "data": {
            "text/plain": [
              "tensor([[2.7767e+00, 5.8602e+01, 8.3221e+01,  ..., 1.0202e+00, 4.7388e-02,\n",
              "         9.3211e-01],\n",
              "        [6.8230e-01, 6.6692e-01, 2.0117e+01,  ..., 1.0476e+00, 6.0460e-02,\n",
              "         1.0650e+00],\n",
              "        [1.4373e+00, 3.1802e+01, 6.9373e+00,  ..., 1.0517e+00, 6.0557e-02,\n",
              "         9.7491e-01],\n",
              "        ...,\n",
              "        [2.2745e+00, 2.1909e+01, 8.3101e+00,  ..., 9.6635e-01, 5.1650e-02,\n",
              "         9.5410e-01],\n",
              "        [3.1552e-01, 2.0998e+00, 1.8196e+01,  ..., 1.0733e+00, 5.3177e-02,\n",
              "         1.0685e+00],\n",
              "        [3.4099e-01, 2.4057e+01, 1.3921e+01,  ..., 9.2837e-01, 6.9727e-02,\n",
              "         9.7530e-01]])"
            ]
          },
          "metadata": {},
          "execution_count": 12
        },
        {
          "output_type": "execute_result",
          "data": {
            "text/plain": [
              "tensor([ 9.4682,  4.3968,  6.4779,  ..., -1.2624,  5.2545,  4.7323])"
            ]
          },
          "metadata": {},
          "execution_count": 12
        },
        {
          "output_type": "execute_result",
          "data": {
            "text/plain": [
              "tensor([[ 4.3479e-01,  4.0568e+01,  1.3459e+01,  ...,  1.0875e+00,\n",
              "          6.3893e-02,  9.6319e-01],\n",
              "        [ 4.7345e-02,  1.2578e+01,  2.6106e+01,  ...,  1.0842e+00,\n",
              "          2.0236e-02,  1.0173e+00],\n",
              "        [ 2.6961e-01, -4.8613e+00,  4.2069e+01,  ...,  9.7869e-01,\n",
              "          4.6436e-02,  1.0974e+00],\n",
              "        ...,\n",
              "        [ 2.2403e+00,  1.4778e+02,  7.6198e+01,  ...,  9.2679e-01,\n",
              "          5.1709e-02,  9.2992e-01],\n",
              "        [ 1.1266e+00,  7.1616e+01, -6.6288e+00,  ...,  1.0500e+00,\n",
              "          8.9112e-02,  1.0653e+00],\n",
              "        [ 1.7720e+00,  3.0746e+01, -1.5288e+01,  ...,  9.4503e-01,\n",
              "          2.7605e-02,  9.8861e-01]])"
            ]
          },
          "metadata": {},
          "execution_count": 12
        },
        {
          "output_type": "execute_result",
          "data": {
            "text/plain": [
              "tensor([ 2.2606,  2.0681,  0.1645,  ..., 25.4523,  8.3651, 12.0056])"
            ]
          },
          "metadata": {},
          "execution_count": 12
        }
      ],
      "source": [
        "\n",
        "x_train.shape\n",
        "y_train.shape\n",
        "x_val.shape\n",
        "y_val.shape\n",
        "x_test.shape\n",
        "y_test.shape\n",
        "x_train\n",
        "y_train\n",
        "x_val\n",
        "y_val\n",
        "x_test\n",
        "y_test"
      ]
    },
    {
      "cell_type": "code",
      "execution_count": null,
      "metadata": {
        "id": "xdpjCNO94cnK",
        "colab": {
          "base_uri": "https://localhost:8080/"
        },
        "outputId": "3b479146-6c9b-4c53-b7ae-978dae8bab5d"
      },
      "outputs": [
        {
          "output_type": "execute_result",
          "data": {
            "text/plain": [
              "tensor(False)"
            ]
          },
          "metadata": {},
          "execution_count": 13
        },
        {
          "output_type": "execute_result",
          "data": {
            "text/plain": [
              "tensor(False)"
            ]
          },
          "metadata": {},
          "execution_count": 13
        },
        {
          "output_type": "execute_result",
          "data": {
            "text/plain": [
              "tensor(False)"
            ]
          },
          "metadata": {},
          "execution_count": 13
        },
        {
          "output_type": "execute_result",
          "data": {
            "text/plain": [
              "tensor(False)"
            ]
          },
          "metadata": {},
          "execution_count": 13
        },
        {
          "output_type": "execute_result",
          "data": {
            "text/plain": [
              "tensor(False)"
            ]
          },
          "metadata": {},
          "execution_count": 13
        },
        {
          "output_type": "execute_result",
          "data": {
            "text/plain": [
              "tensor(False)"
            ]
          },
          "metadata": {},
          "execution_count": 13
        }
      ],
      "source": [
        "torch.isnan(x_train).any()\n",
        "torch.isnan(x_val).any()\n",
        "torch.isnan(x_test).any()\n",
        "torch.isnan(y_train).any()\n",
        "torch.isnan(y_val).any()\n",
        "torch.isnan(y_test).any()"
      ]
    },
    {
      "cell_type": "code",
      "execution_count": null,
      "metadata": {
        "id": "X1uRb5P04cnK",
        "colab": {
          "base_uri": "https://localhost:8080/"
        },
        "outputId": "9a030ec3-90d5-4e29-f7cc-19b7b38800c0"
      },
      "outputs": [
        {
          "output_type": "execute_result",
          "data": {
            "text/plain": [
              "(tensor([], dtype=torch.int64), tensor([], dtype=torch.int64))"
            ]
          },
          "metadata": {},
          "execution_count": 14
        },
        {
          "output_type": "execute_result",
          "data": {
            "text/plain": [
              "(tensor([], dtype=torch.int64), tensor([], dtype=torch.int64))"
            ]
          },
          "metadata": {},
          "execution_count": 14
        },
        {
          "output_type": "execute_result",
          "data": {
            "text/plain": [
              "(tensor([], dtype=torch.int64), tensor([], dtype=torch.int64))"
            ]
          },
          "metadata": {},
          "execution_count": 14
        }
      ],
      "source": [
        "nan_mask_train = torch.isnan(x_train)     # get a boolean mask indicating NaN values\n",
        "nan_indices_train = torch.where(nan_mask_train)  # get the indices of the NaN values\n",
        "nan_indices_train\n",
        "# len(nan_indices_train)\n",
        "\n",
        "nan_mask_val = torch.isnan(x_val)     # get a boolean mask indicating NaN values\n",
        "nan_indices_val = torch.where(nan_mask_val)  # get the indices of the NaN values\n",
        "nan_indices_val\n",
        "# len(nan_indices_test)\n",
        "\n",
        "nan_mask_test = torch.isnan(x_test)     # get a boolean mask indicating NaN values\n",
        "nan_indices_test = torch.where(nan_mask_test)  # get the indices of the NaN values\n",
        "nan_indices_test\n",
        "# len(nan_indices_test)"
      ]
    },
    {
      "cell_type": "markdown",
      "metadata": {
        "id": "HC0o0Myn4cnK"
      },
      "source": [
        "## Visualizing the data"
      ]
    },
    {
      "cell_type": "markdown",
      "metadata": {
        "id": "Myrn0owg4cnL"
      },
      "source": [
        "### Visualizing sampled data"
      ]
    },
    {
      "cell_type": "code",
      "execution_count": null,
      "metadata": {
        "id": "5CXNfzzz4cnL",
        "colab": {
          "base_uri": "https://localhost:8080/"
        },
        "outputId": "ef12f246-4b06-48f9-a682-5fe84230c594"
      },
      "outputs": [
        {
          "output_type": "stream",
          "name": "stdout",
          "text": [
            "skipping\n"
          ]
        }
      ],
      "source": [
        "%%script echo skipping\n",
        "\n",
        "if not LOAD_DATA_FROM_CSV:\n",
        "    rho\n",
        "    epsilon\n",
        "    vx\n",
        "    vy\n",
        "    vz \n",
        "    Bx\n",
        "    By\n",
        "    Bz\n",
        "    gxx\n",
        "    gxy\n",
        "    gxz\n",
        "    gyy\n",
        "    gyz\n",
        "    gzz "
      ]
    },
    {
      "cell_type": "code",
      "execution_count": null,
      "metadata": {
        "id": "jEj1uLoV4cnL",
        "colab": {
          "base_uri": "https://localhost:8080/"
        },
        "outputId": "63c4f93f-094f-4cda-c863-38189f51eea7"
      },
      "outputs": [
        {
          "output_type": "stream",
          "name": "stdout",
          "text": [
            "100000\n",
            "100000\n",
            "100000\n",
            "100000\n",
            "100000\n",
            "100000\n",
            "100000\n",
            "100000\n",
            "\n",
            "100000\n",
            "100000\n",
            "100000\n",
            "100000\n",
            "100000\n",
            "100000\n"
          ]
        }
      ],
      "source": [
        "if not LOAD_DATA_FROM_CSV:\n",
        "    print(len(rho))\n",
        "    print(len(epsilon))\n",
        "    print(len(vx))\n",
        "    print(len(vy))\n",
        "    print(len(vz))\n",
        "    print(len(Bx))\n",
        "    print(len(By))\n",
        "    print(len(Bz))\n",
        "    print()\n",
        "    print(len(gxx))\n",
        "    print(len(gxy))\n",
        "    print(len(gxz))\n",
        "    print(len(gyy))\n",
        "    print(len(gyz))\n",
        "    print(len(gzz))"
      ]
    },
    {
      "cell_type": "code",
      "execution_count": null,
      "metadata": {
        "id": "VMp6XJ6RUZh4"
      },
      "outputs": [],
      "source": [
        "%config InteractiveShell.ast_node_interactivity = \"last_expr_or_assign\""
      ]
    },
    {
      "cell_type": "code",
      "execution_count": null,
      "metadata": {
        "id": "F6urnHAr4cnM",
        "colab": {
          "base_uri": "https://localhost:8080/"
        },
        "outputId": "0e8d9827-f6c5-4dda-8418-deea3b634c3e"
      },
      "outputs": [
        {
          "output_type": "stream",
          "name": "stdout",
          "text": [
            "skipping\n"
          ]
        }
      ],
      "source": [
        "%%script echo skipping\n",
        "\n",
        "plt.hist([np.random.uniform(0, 0.999) for _ in range(n_train_samples)], bins=20)"
      ]
    },
    {
      "cell_type": "code",
      "execution_count": null,
      "metadata": {
        "id": "2iNL6ULb4cnM",
        "colab": {
          "base_uri": "https://localhost:8080/"
        },
        "outputId": "7ed776b6-78fb-4f05-a5a9-e32b543ae621"
      },
      "outputs": [
        {
          "output_type": "stream",
          "name": "stdout",
          "text": [
            "skipping\n"
          ]
        }
      ],
      "source": [
        "%%script echo skipping\n",
        "\n",
        "epsilon"
      ]
    },
    {
      "cell_type": "markdown",
      "metadata": {
        "id": "hydjma5V4cnM"
      },
      "source": [
        "The reason the sampling is not uniformly distributed in the following plots is due to the resampling and the fact that we certain values of e.g. velocity are more likely to violate the speed of light constraint than others."
      ]
    },
    {
      "cell_type": "code",
      "execution_count": null,
      "metadata": {
        "id": "E5YFdqKjUZh5",
        "colab": {
          "base_uri": "https://localhost:8080/",
          "height": 779
        },
        "outputId": "b238a219-ad66-41e8-c812-f86f6615c88a"
      },
      "outputs": [
        {
          "output_type": "display_data",
          "data": {
            "text/plain": [
              "<Figure size 2000x1600 with 14 Axes>"
            ],
            "image/png": "[encoded data removed]"
          },
          "metadata": {}
        }
      ],
      "source": [
        "#%%script echo skipping\n",
        "\n",
        "if not LOAD_DATA_FROM_CSV:\n",
        "    def plot_histogram(data, xlabel, ylabel, position, bins=20, xlog_scale=False, ylog_scale=False):\n",
        "        plt.subplot(4, 5, position)\n",
        "        plt.hist(data, bins=bins)\n",
        "        plt.xlabel(xlabel)\n",
        "        plt.ylabel(ylabel)\n",
        "        if xlog_scale: # Setting does not work expected for epsilon.\n",
        "            plt.xscale(\"log\")\n",
        "        if ylog_scale: # Setting does not work expected for epsilon.\n",
        "            plt.yscale(\"log\")\n",
        "\n",
        "    # Plotting the histograms of rho, vx, epsilon, b0, b1, b2, and b3\n",
        "    bins = 20\n",
        "    plt.figure(figsize=(20, 16))\n",
        "\n",
        "    plot_histogram(rho, \"rho\", \"Frequency\", 1, bins=bins)\n",
        "    plot_histogram(epsilon, \"epsilon\", \"Frequency\", 2, bins=bins)\n",
        "    plot_histogram(vx, \"vx\", \"Frequency\", 3, bins=bins)\n",
        "    plot_histogram(vy, \"vy\", \"Frequency\", 4, bins=bins)\n",
        "    plot_histogram(vz, \"vz\", \"Frequency\", 5, bins=bins)\n",
        "    plot_histogram(Bx, \"Bx\", \"Frequency\", 6, bins=bins)\n",
        "    plot_histogram(By, \"By\", \"Frequency\", 7, bins=bins)\n",
        "    plot_histogram(Bz, \"Bz\", \"Frequency\", 8, bins=bins)\n",
        "\n",
        "    # Plot these\n",
        "    plot_histogram(gxx, \"gxx\", \"Frequency\", 9, bins=bins)\n",
        "    plot_histogram(gxy, \"gxy\", \"Frequency\", 10, bins=bins)\n",
        "    plot_histogram(gxz, \"gxz\", \"Frequency\", 11, bins=bins)\n",
        "    plot_histogram(gyy, \"gyy\", \"Frequency\", 12, bins=bins)\n",
        "    plot_histogram(gyz, \"gyz\", \"Frequency\", 13, bins=bins)\n",
        "    plot_histogram(gzz, \"gzz\", \"Frequency\", 14, bins=bins)\n",
        "\n",
        "\n",
        "    plt.suptitle(\"Primitive variables and metric\")\n",
        "    plt.tight_layout()\n",
        "    plt.show()\n"
      ]
    },
    {
      "cell_type": "code",
      "execution_count": null,
      "metadata": {
        "id": "sUNNNX5e4cnN"
      },
      "outputs": [],
      "source": [
        "%config InteractiveShell.ast_node_interactivity = \"last_expr_or_assign\""
      ]
    },
    {
      "cell_type": "code",
      "execution_count": null,
      "metadata": {
        "id": "et4AFTXb4cnN",
        "colab": {
          "base_uri": "https://localhost:8080/",
          "height": 1000
        },
        "outputId": "44a8e40a-47cb-4f96-d4aa-c8cbfe021a4b"
      },
      "outputs": [
        {
          "output_type": "display_data",
          "data": {
            "text/plain": [
              "<Figure size 1600x1600 with 14 Axes>"
            ],
            "image/png": "[encoded data removed]"
          },
          "metadata": {}
        }
      ],
      "source": [
        "#%%script echo skipping\n",
        "\n",
        "# Variable names\n",
        "variable_names = [\"D\", \"Sx\", \"Sy\", \"Sz\", \"tau\", \"Bconsx\", \"Bconsy\", \"Bconsz\", \"gxx\", \"gxy\", \"gxz\", \"gyy\", \"gyz\", \"gzz\"]\n",
        "\n",
        "# Plotting histograms of the input variables before z-score normalization\n",
        "plt.figure(figsize=(16, 16))\n",
        "plt.suptitle('Histograms of input variables before (or without at all) z-score normalization', y=1.03)\n",
        "\n",
        "for i in range(N_INPUTS):\n",
        "    plt.subplot(7, 2, i+1)\n",
        "    data = x_train[:, i].cpu().numpy() # Convert tensor to numpy array for percentile calculation\n",
        "    lower_bound, upper_bound = np.percentile(data, [1, 100]) # NOTE: Use this instead to visualize all the data.\n",
        "    # lower_bound, upper_bound = np.percentile(data, [1, 90]) # Calculate 1st and 99th percentile\n",
        "\n",
        "    plt.hist(data, bins=50, range=(lower_bound, upper_bound)) # Set range to the calculated percentile range\n",
        "    plt.xlabel(variable_names[i])\n",
        "    plt.xlim(lower_bound, upper_bound) # Set the x limit to match the range of the histogram\n",
        "\n",
        "plt.subplots_adjust(hspace=0.4, wspace=0.4)\n",
        "plt.show()\n",
        "\n",
        "# Same plotting but for the test data. Adjust the percentile range as needed to zoom in.\n",
        "# plt.figure(figsize=(16, 16))\n",
        "# plt.suptitle('Histograms of input variables before (or without at all) z-score normalization (test data)', y=1.03)\n",
        "\n",
        "# for i in range(14):\n",
        "#     plt.subplot(7, 2, i+1)\n",
        "#     data = x_test[:, i].cpu().numpy() # Convert tensor to numpy array for percentile calculation\n",
        "#     #lower_bound, upper_bound = np.percentile(data, [1, 100]) # NOTE: Use this instead to visualize all the data.\n",
        "#     lower_bound, upper_bound = np.percentile(data, [1, 99]) # Use this to zoom in.\n",
        "\n",
        "#     plt.hist(data, bins=50, range=(lower_bound, upper_bound)) # Set range to the calculated percentile range\n",
        "#     plt.xlabel(variable_names[i])\n",
        "#     plt.xlim(lower_bound, upper_bound) # Set the x limit to match the range of the histogram\n",
        "\n",
        "# plt.subplots_adjust(hspace=0.4, wspace=0.4)\n",
        "# plt.show()\n",
        "\n"
      ]
    },
    {
      "cell_type": "markdown",
      "metadata": {
        "id": "oQ8r4X8b4cnO"
      },
      "source": [
        "### Data normalization"
      ]
    },
    {
      "cell_type": "code",
      "execution_count": null,
      "metadata": {
        "id": "QBlz2cHo4cnO",
        "colab": {
          "base_uri": "https://localhost:8080/"
        },
        "outputId": "34b31c31-1ca8-4d73-a63c-2764a41839b1"
      },
      "outputs": [
        {
          "output_type": "stream",
          "name": "stdout",
          "text": [
            "Summary statistics of input variables before z-score normalization\n",
            "tensor([[ 4.1628e-05,  2.4260e+02,  2.2573e+00,  1.6706e+00,  3.7671e+00],\n",
            "        [-4.2069e+04,  9.0289e+04,  4.2651e+01,  2.1982e+01,  6.5082e+02],\n",
            "        [-3.8977e+04,  1.2518e+05,  4.3036e+01,  2.1909e+01,  7.6194e+02],\n",
            "        [-4.0858e+04,  6.8158e+04,  4.0609e+01,  2.2100e+01,  4.5594e+02],\n",
            "        [-6.8144e+04,  1.6169e+05,  9.8771e+01,  6.9901e+01,  1.0532e+03],\n",
            "        [-1.1209e+01,  1.1340e+01,  2.0776e-02,  5.3554e-02,  5.7309e+00],\n",
            "        [-1.1161e+01,  1.1193e+01, -3.1806e-03,  1.4022e-02,  5.7384e+00],\n",
            "        [-1.1243e+01,  1.1180e+01, -1.8216e-02, -1.5988e-02,  5.7339e+00],\n",
            "        [ 9.0000e-01,  1.1000e+00,  9.9849e-01,  9.9788e-01,  5.7643e-02],\n",
            "        [ 3.8859e-06,  9.9998e-02,  4.9648e-02,  4.9595e-02,  2.8870e-02],\n",
            "        [ 1.9430e-06,  9.9997e-02,  4.9641e-02,  4.9585e-02,  2.8921e-02],\n",
            "        [ 9.0000e-01,  1.1000e+00,  9.9835e-01,  9.9775e-01,  5.7657e-02],\n",
            "        [ 2.2460e-06,  9.9998e-02,  4.9543e-02,  4.9140e-02,  2.8837e-02],\n",
            "        [ 9.0002e-01,  1.1000e+00,  9.9880e-01,  9.9799e-01,  5.7860e-02]])\n"
          ]
        }
      ],
      "source": [
        "# Computing summary statistics of the input variables before and after z-score normalization\n",
        "print('Summary statistics of input variables before z-score normalization')\n",
        "print(torch.stack([torch.min(x_train, dim=0).values, torch.max(x_train, dim=0).values, torch.nanmean(x_train, dim=0), torch.median(x_train, dim=0).values, torch.std(x_train, dim=0)], dim=1))"
      ]
    },
    {
      "cell_type": "markdown",
      "metadata": {
        "id": "xTEmkR1SUZh7"
      },
      "source": [
        "Perform z-score normalization"
      ]
    },
    {
      "cell_type": "code",
      "execution_count": null,
      "metadata": {
        "id": "skDi8Xbh4cnO"
      },
      "outputs": [],
      "source": [
        "%config InteractiveShell.ast_node_interactivity = \"all\""
      ]
    },
    {
      "cell_type": "code",
      "execution_count": null,
      "metadata": {
        "id": "yPOv6DxhUZh7"
      },
      "outputs": [],
      "source": [
        "if ZSCORE_NORMALIZATION:\n",
        "    \n",
        "    # TODO: Add magnetic field variables to the normalization if I decide to use the old code that is commented out here.\n",
        "    # # Computing the median of each input variable from the training set using torch.nanmedian function\n",
        "    # D_median = torch.nanmedian(x_train[:, 0])\n",
        "    # Sx_median = torch.nanmedian(x_train[:, 1])\n",
        "    # Sy_median = torch.nanmedian(x_train[:, 2])\n",
        "    # Sz_median = torch.nanmedian(x_train[:, 3])\n",
        "    # tau_median = torch.nanmedian(x_train[:, 4])\n",
        "\n",
        "    # # Computing the standard deviation of each input variable from the training set using torch.std function with a boolean mask to ignore nan values\n",
        "    # D_std = torch.std(x_train[~torch.isnan(x_train[:, 0]), 0])\n",
        "    # Sx_std = torch.std(x_train[~torch.isnan(x_train[:, 1]), 1])\n",
        "    # Sy_std = torch.std(x_train[~torch.isnan(x_train[:, 2]), 2])\n",
        "    # Sz_std = torch.std(x_train[~torch.isnan(x_train[:, 3]), 3])\n",
        "    # tau_std = torch.std(x_train[~torch.isnan(x_train[:, 4]), 4])\n",
        "\n",
        "\n",
        "    # # Applying z-score normalization to both train and test sets using the statistics from the training set\n",
        "    # x_train[:, 0] = torch.sub(x_train[:, 0], D_median).div(D_std)\n",
        "    # x_train[:, 1] = torch.sub(x_train[:, 1], Sx_median).div(Sx_std)\n",
        "    # x_train[:, 2] = torch.sub(x_train[:, 2], Sy_median).div(Sy_std)\n",
        "    # x_train[:, 3] = torch.sub(x_train[:, 3], Sz_median).div(Sz_std)\n",
        "    # x_train[:, 4] = torch.sub(x_train[:, 4], tau_median).div(tau_std)\n",
        "\n",
        "    # x_test[:, 0] = torch.sub(x_test[:, 0], D_median).div(D_std)\n",
        "    # x_test[:, 1] = torch.sub(x_test[:, 1], Sx_median).div(Sx_std)\n",
        "    # x_test[:, 2] = torch.sub(x_test[:, 2], Sy_median).div(Sy_std)\n",
        "    # x_test[:, 3] = torch.sub(x_test[:, 3], Sz_median).div(Sz_std)\n",
        "    # x_test[:, 4] = torch.sub(x_test[:, 4], tau_median).div(tau_std)\n",
        "\n",
        "    # Computing the mean and standard deviation of each column\n",
        "    mean = x_train.mean(dim=0)\n",
        "    std = x_train.std(dim=0)\n",
        "\n",
        "    # Applying z-score normalization\n",
        "    x_train = (x_train - mean) / std\n",
        "    # Use the same mean and std from the training data as we don't want test data leakage.\n",
        "    x_test = (x_test - mean) / std\n",
        "\n"
      ]
    },
    {
      "cell_type": "markdown",
      "metadata": {
        "id": "5xqeJJH34cnc"
      },
      "source": [
        "Plotting the histograms of the input data after normalization if z-score normalization was performed."
      ]
    },
    {
      "cell_type": "code",
      "execution_count": null,
      "metadata": {
        "id": "IknQpxd94cnc"
      },
      "outputs": [],
      "source": [
        "%config InteractiveShell.ast_node_interactivity = \"last_expr_or_assign\""
      ]
    },
    {
      "cell_type": "code",
      "execution_count": null,
      "metadata": {
        "id": "u30TMn0q4cnc"
      },
      "outputs": [],
      "source": [
        "if not LOAD_DATA_FROM_CSV:\n",
        "    if ZSCORE_NORMALIZATION:\n",
        "        # Variable names\n",
        "        variable_names = [\"D\", \"Sx\", \"Sy\", \"Sz\", \"tau\", \"Bconsx\", \"Bconsy\", \"Bconsz\", \"gxx\", \"gxy\", \"gxz\", \"gyy\", \"gyz\", \"gzz\"]\n",
        "\n",
        "        # Plotting histograms of the input variables before z-score normalization\n",
        "        plt.figure(figsize=(16, 16))\n",
        "        plt.suptitle('Histograms of input variables before (or without at all) z-score normalization', y=1.03)\n",
        "\n",
        "        for i in range(N_INPUTS):\n",
        "            plt.subplot(7, 2, i+1)\n",
        "            data = x_train[:, i].cpu().numpy() # Convert tensor to numpy array for percentile calculation\n",
        "            lower_bound, upper_bound = np.percentile(data, [1, 100]) # NOTE: Use this instead to visualize all the data.\n",
        "            # lower_bound, upper_bound = np.percentile(data, [1, 90]) # Calculate 1st and 99th percentile\n",
        "\n",
        "            plt.hist(data, bins=50, range=(lower_bound, upper_bound)) # Set range to the calculated percentile range\n",
        "            plt.xlabel(variable_names[i])\n",
        "            plt.xlim(lower_bound, upper_bound) # Set the x limit to match the range of the histogram\n",
        "\n",
        "        plt.subplots_adjust(hspace=0.4, wspace=0.4)\n",
        "        plt.show()"
      ]
    },
    {
      "cell_type": "code",
      "execution_count": null,
      "metadata": {
        "id": "U_SBKnoX4cnd"
      },
      "outputs": [],
      "source": [
        "if ZSCORE_NORMALIZATION:\n",
        "    # Computing summary statistics of the input variables after z-score normalization\n",
        "    print('Summary statistics of input variables after z-score normalization')\n",
        "    print(torch.stack([torch.min(x_train, dim=0).values, torch.max(x_train, dim=0).values, torch.mean(x_train, dim=0), torch.median(x_train, dim=0).values, torch.std(x_train, dim=0)], dim=1))\n"
      ]
    },
    {
      "cell_type": "markdown",
      "metadata": {
        "id": "34JFkBNc4cnd"
      },
      "source": [
        "### Visualizing input data and labels"
      ]
    },
    {
      "cell_type": "code",
      "execution_count": null,
      "metadata": {
        "id": "8TkfblGD4cnd",
        "colab": {
          "base_uri": "https://localhost:8080/"
        },
        "outputId": "58c4f663-c06b-4343-aa1e-57e05648ddc2"
      },
      "outputs": [
        {
          "output_type": "execute_result",
          "data": {
            "text/plain": [
              "tensor([ 2.2606,  2.0681,  0.1645,  ..., 25.4523,  8.3651, 12.0056])"
            ]
          },
          "metadata": {},
          "execution_count": 29
        }
      ],
      "source": [
        "x_train\n",
        "y_train\n",
        "x_val\n",
        "y_val\n",
        "x_test\n",
        "y_test"
      ]
    },
    {
      "cell_type": "markdown",
      "metadata": {
        "id": "E96p_MsOUZh9",
        "outputId": "4b95bad0-8f3a-4364-eed1-008e0ce2a5e3"
      },
      "source": [
        "Checking if our output is always positive ~~by plotting a histogram of y_train and y_test tensors~~"
      ]
    },
    {
      "cell_type": "code",
      "execution_count": null,
      "metadata": {
        "id": "oRXf8ib_4cne",
        "colab": {
          "base_uri": "https://localhost:8080/"
        },
        "outputId": "177ff522-316d-4f80-e175-3a499b27cb9c"
      },
      "outputs": [
        {
          "output_type": "stream",
          "name": "stdout",
          "text": [
            "tensor(True)\n"
          ]
        }
      ],
      "source": [
        "import torch\n",
        "\n",
        "# Create a sample tensor\n",
        "tensor = torch.randn(80000, 14)  # Assuming a tensor of shape [80000, 14]\n",
        "tensor\n",
        "\n",
        "\n",
        "# Check if any element is negative\n",
        "any_negative = torch.any(tensor < 0)\n",
        "\n",
        "# Print the result\n",
        "print(any_negative)\n"
      ]
    },
    {
      "cell_type": "code",
      "execution_count": null,
      "metadata": {
        "id": "1pWymsnT4cne",
        "colab": {
          "base_uri": "https://localhost:8080/"
        },
        "outputId": "540ade7d-4665-4321-ea0c-c7e712e606a8"
      },
      "outputs": [
        {
          "output_type": "execute_result",
          "data": {
            "text/plain": [
              "tensor(True)"
            ]
          },
          "metadata": {},
          "execution_count": 31
        }
      ],
      "source": [
        "y_train.shape\n",
        "any_negative = torch.any(y_train < 0)\n",
        "any_negative\n",
        "\n",
        "y_test.shape\n",
        "any_negative = torch.any(y_test < 0)\n",
        "any_negative\n",
        "\n",
        "x_train.shape\n",
        "any_negative = torch.any(x_train < 0)\n",
        "any_negative"
      ]
    },
    {
      "cell_type": "code",
      "execution_count": null,
      "metadata": {
        "id": "I8j5uTN94cne",
        "colab": {
          "base_uri": "https://localhost:8080/",
          "height": 407
        },
        "outputId": "d5a29162-97f5-49fe-f1aa-8cc7ec3698cb"
      },
      "outputs": [
        {
          "output_type": "display_data",
          "data": {
            "text/plain": [
              "<Figure size 800x400 with 3 Axes>"
            ],
            "image/png": "[encoded data removed]"
          },
          "metadata": {}
        }
      ],
      "source": [
        "#%%script echo skipping\n",
        "\n",
        "plt.figure(figsize=(8, 4))\n",
        "plt.subplot(1, 3, 1)\n",
        "plt.hist(y_train.cpu().numpy(), bins=100) # must be cpu here.\n",
        "plt.xlabel(\"y_train\")\n",
        "plt.ylabel(\"Frequency\")\n",
        "plt.xscale(\"log\")\n",
        "plt.subplot(1, 3, 2)\n",
        "plt.hist(y_val.cpu().numpy(), bins=100) # must be cpu here\n",
        "plt.xlabel(\"y_val\")\n",
        "plt.ylabel(\"Frequency\")\n",
        "plt.xscale(\"log\")\n",
        "plt.tight_layout()\n",
        "plt.subplot(1, 3, 3)\n",
        "plt.hist(y_test.cpu().numpy(), bins=100) # must be cpu here\n",
        "plt.xlabel(\"y_test\")\n",
        "plt.ylabel(\"Frequency\")\n",
        "plt.xscale(\"log\")\n",
        "plt.tight_layout()\n",
        "plt.show()\n"
      ]
    },
    {
      "cell_type": "code",
      "execution_count": null,
      "metadata": {
        "id": "FEgjk--AUZh9"
      },
      "outputs": [],
      "source": [
        "%config InteractiveShell.ast_node_interactivity = \"all\""
      ]
    },
    {
      "cell_type": "markdown",
      "metadata": {
        "id": "r2b9GecHUZh9"
      },
      "source": [
        "## Defining the neural network"
      ]
    },
    {
      "cell_type": "code",
      "execution_count": null,
      "metadata": {
        "id": "Iv8HA-ZXUZh-"
      },
      "outputs": [],
      "source": [
        "# Defining a class for the network\n",
        "class Net(nn.Module):\n",
        "    \"\"\"A class for creating a network with a\n",
        "    variable number of hidden layers and units.\n",
        "\n",
        "    Attributes:\n",
        "        n_layers (int): The number of hidden layers in the network.\n",
        "        n_units (list): A list of integers representing the number of units in each hidden layer.\n",
        "        hidden_activation (torch.nn.Module): The activation function for the hidden layers.\n",
        "        output_activation (torch.nn.Module): The activation function for the output layer.\n",
        "        layers (torch.nn.ModuleList): A list of linear layers in the network.\n",
        "    \"\"\"\n",
        "\n",
        "    def __init__(self, n_layers, n_units, hidden_activation, output_activation, dropout_rate):\n",
        "        \"\"\"Initializes the network with the given hyperparameters.\n",
        "\n",
        "        Args:\n",
        "            n_layers (int): The number of hidden layers in the network.\n",
        "            n_units (list): A list of integers representing the number of units in each hidden layer.\n",
        "            hidden_activation (torch.nn.Module): The activation function for the hidden layers.\n",
        "            output_activation (torch.nn.Module): The activation function for the output layer.\n",
        "            TODO: [ver. Copilot description] dropout_rate (float): The dropout rate to use for all layers.\n",
        "        \"\"\"\n",
        "        super().__init__()\n",
        "        self.n_layers = n_layers\n",
        "        self.n_units = n_units\n",
        "        self.hidden_activation = hidden_activation\n",
        "        self.output_activation = output_activation\n",
        "        self.dropout_rate = dropout_rate\n",
        "\n",
        "        # Creating a list of linear layers with different numbers of units for each layer\n",
        "        self.layers = nn.ModuleList()\n",
        "        self.dropouts = nn.ModuleList()\n",
        "\n",
        "        self.layers.append(nn.Linear(N_INPUTS, n_units[0]))\n",
        "        self.dropouts.append(nn.Dropout(p=dropout_rate))\n",
        "\n",
        "        for i in range(1, n_layers):\n",
        "            self.layers.append(nn.Linear(n_units[i - 1], n_units[i]))\n",
        "            self.dropouts.append(nn.Dropout(p=dropout_rate))\n",
        "\n",
        "        self.layers.append(nn.Linear(n_units[-1], N_OUTPUTS))\n",
        "\n",
        "        # Adding some assertions to check that the input arguments are valid\n",
        "        assert isinstance(n_layers, int) and n_layers > 0, \"n_layers must be a positive integer\"\n",
        "        assert isinstance(n_units, list) and len(n_units) == n_layers, \"n_units must be a list of length n_layers\"\n",
        "        assert all(isinstance(n, int) and n > 0 for n in n_units), \"n_units must contain positive integers\"\n",
        "        assert isinstance(hidden_activation, nn.Module), \"hidden_activation must be a torch.nn.Module\"\n",
        "        assert isinstance(output_activation, nn.Module), \"output_activation must be a torch.nn.Module\"\n",
        "\n",
        "    def forward(self, x):\n",
        "        \"\"\"Performs a forward pass on the input tensor.\n",
        "\n",
        "        Args:\n",
        "            x (torch.Tensor): The input tensor of shape (batch_size, N_INPUTS).\n",
        "\n",
        "        Returns:\n",
        "            torch.Tensor: The output tensor of shape (batch_size, N_OUTPUTS).\n",
        "        \"\"\"\n",
        "        # Adding an assertion to check that the input tensor has the expected shape and type\n",
        "        assert isinstance(x, torch.Tensor), \"x must be a torch.Tensor\"\n",
        "        assert x.shape[1] == N_INPUTS, f\"x must have shape (batch_size, {N_INPUTS})\"\n",
        "\n",
        "        for layer, dropout in zip(self.layers[:-1], self.dropouts):\n",
        "            x = dropout(self.hidden_activation(layer(x)))\n",
        "        # Applying the linear transformation and the activation function on the output layer\n",
        "        x = self.output_activation(self.layers[-1](x)) # No dropout at output layer\n",
        "\n",
        "        return x # Returning the output tensor\n"
      ]
    },
    {
      "cell_type": "code",
      "execution_count": null,
      "metadata": {
        "id": "4zShBNVG4cnf",
        "colab": {
          "base_uri": "https://localhost:8080/"
        },
        "outputId": "ddfba291-4048-4061-a2e4-047be61224b1"
      },
      "outputs": [
        {
          "output_type": "stream",
          "name": "stdout",
          "text": [
            "skipping\n"
          ]
        }
      ],
      "source": [
        "%%script echo skipping\n",
        "\n",
        "[1,2,3]\n",
        "[1,2,3][:-1]"
      ]
    },
    {
      "cell_type": "code",
      "execution_count": null,
      "metadata": {
        "id": "3c3WaPyv4cng",
        "colab": {
          "base_uri": "https://localhost:8080/"
        },
        "outputId": "325c52e0-c46a-46a2-ebd7-59f1ee3b707f"
      },
      "outputs": [
        {
          "output_type": "stream",
          "name": "stdout",
          "text": [
            "1\n",
            "2\n"
          ]
        }
      ],
      "source": [
        "for x in [1,2,3][:-1]:\n",
        "    print(x)\n",
        "\n"
      ]
    },
    {
      "cell_type": "markdown",
      "metadata": {
        "id": "6GNvp55PUZh_"
      },
      "source": [
        "## Defining the model and search space"
      ]
    },
    {
      "cell_type": "code",
      "execution_count": null,
      "metadata": {
        "id": "9a1opluOUZh_"
      },
      "outputs": [],
      "source": [
        "# Defining a function to create a trial network and optimizer\n",
        "def create_model(trial, optimize):\n",
        "    \"\"\"Creates a trial network and optimizer based on the sampled hyperparameters.\n",
        "\n",
        "    Args:\n",
        "        trial (optuna.trial.Trial): The trial object that contains the hyperparameters.\n",
        "        optimize (boolean): Whether to optimize the hyperparameters or to use predefined values.\n",
        "\n",
        "    Returns:\n",
        "        tuple: A tuple of (net, loss_fn, optimizer, batch_size, n_epochs,\n",
        "            scheduler, loss_name, optimizer_name, scheduler_name,\n",
        "            n_units, n_layers, hidden_activation, output_activation),\n",
        "            where net is the trial network,\n",
        "            loss_fn is the loss function,\n",
        "            optimizer is the optimizer,\n",
        "            batch_size is the batch size,\n",
        "            n_epochs is the number of epochs,\n",
        "            scheduler is the learning rate scheduler,\n",
        "            loss_name is the name of the loss function,\n",
        "            optimizer_name is the name of the optimizer,\n",
        "            scheduler_name is the name of the scheduler,\n",
        "            n_units is a list of integers representing\n",
        "            the number of units in each hidden layer,\n",
        "            n_layers is an integer representing the number of hidden layers in the network,\n",
        "            hidden_activation is a torch.nn.Module representing the activation function for the hidden layers,\n",
        "            output_activation is a torch.nn.Module representing the activation function for the output layer,\n",
        "            lr is the (initial) learning rate.\n",
        "            dropout_rate is the dropout rate.\n",
        "    \"\"\"\n",
        "    # If optimize is True, sample the hyperparameters from the search space\n",
        "    if OPTIMIZE:\n",
        "        n_layers = trial.suggest_int(\"n_layers\", 2, 10)\n",
        "        n_units = [trial.suggest_int(f\"n_units_{i}\", 16, 4096) for i in range(n_layers)]\n",
        "\n",
        "        hidden_activation_name = trial.suggest_categorical(\n",
        "            \"hidden_activation\", [\"ReLU\", \"LeakyReLU\", \"ELU\", \"PReLU\", \"Swish\", \"GELU\", \"SoftPlus\"]\n",
        "        )\n",
        "        output_activation_name = trial.suggest_categorical( \"output_activation\", [\"Linear\"])\n",
        "\n",
        "        loss_name = trial.suggest_categorical( \"loss\", [\"MSE\", \"MAE\", \"Huber\", \"Quantile\"]) \n",
        "\n",
        "        optimizer_name = trial.suggest_categorical( \"optimizer\", [\"Adam\", \"SGD\", \"RMSprop\", \"Adagrad\"] )\n",
        "\n",
        "        lr = trial.suggest_loguniform(\"lr\", 1e-5, 1e-1)\n",
        "\n",
        "        batch_size_list = [32, 64, 128, 256, 512, 1024, 2048]\n",
        "        batch_size = trial.suggest_categorical(\"batch_size\", batch_size_list)\n",
        "        \n",
        "        n_epochs = trial.suggest_int(\"n_epochs\", 50, 150)\n",
        "\n",
        "        # scheduler_name = trial.suggest_categorical(\"scheduler\", [\"CosineAnnealingLR\", \"ReduceLROnPlateau\", \"StepLR\", \"CyclicLR\"])\n",
        "        scheduler_name = trial.suggest_categorical(\"scheduler\", [\"CosineAnnealingLR\", \"ReduceLROnPlateau\", \"StepLR\"])\n",
        "\n",
        "        # Creating the activation functions from their names\n",
        "        if hidden_activation_name == \"ReLU\":\n",
        "            hidden_activation = nn.ReLU()\n",
        "        elif hidden_activation_name == \"LeakyReLU\":\n",
        "            negative_slope = trial.suggest_uniform(\"leakyrelu_slope\", 0.01, 0.3)\n",
        "            hidden_activation = nn.LeakyReLU(negative_slope=negative_slope)\n",
        "        elif hidden_activation_name == \"ELU\":\n",
        "            hidden_activation = nn.ELU() \n",
        "        elif hidden_activation_name == \"PReLU\":\n",
        "            init = trial.suggest_uniform(\"prelu_init\", 0.1, 0.3)\n",
        "            hidden_activation = nn.PReLU(init=init)\n",
        "        elif hidden_activation_name == \"Swish\":\n",
        "            class Swish(nn.Module):\n",
        "                def forward(self, x):\n",
        "                    return x * torch.sigmoid(x)\n",
        "            hidden_activation = Swish()\n",
        "        elif hidden_activation_name == \"GELU\":\n",
        "            hidden_activation = nn.GELU()\n",
        "        elif hidden_activation_name == \"SoftPlus\":\n",
        "            beta = trial.suggest_uniform(\"softplus_beta\", 0.5, 1.5)\n",
        "            hidden_activation = nn.Softplus(beta=beta) # We don't optimize thresshold subparameters, as it's mainly for numerical stability.\n",
        "\n",
        "        dropout_rate = trial.suggest_uniform(\"dropout_rate\", 0.0, 0.5)\n",
        "\n",
        "\n",
        "    # If optimize is False, use the predefined values\n",
        "    else:\n",
        "        # Setting the hyperparameters to the predefined values\n",
        "        n_layers = N_LAYERS_NO_OPT\n",
        "        n_units = N_UNITS_NO_OPT\n",
        "        hidden_activation_name = HIDDEN_ACTIVATION_NAME_NO_OPT\n",
        "        output_activation_name = OUTPUT_ACTIVATION_NAME_NO_OPT\n",
        "        loss_name = LOSS_NAME_NO_OPT\n",
        "        optimizer_name = OPTIMIZER_NAME_NO_OPT\n",
        "        lr = LR_NO_OPT\n",
        "        batch_size = BATCH_SIZE_NO_OPT\n",
        "        n_epochs = N_EPOCHS_NO_OPT\n",
        "        scheduler_name = SCHEDULER_NAME_NO_OPT\n",
        "\n",
        "        # Creating the activation functions from their names\n",
        "        if hidden_activation_name == \"ReLU\":\n",
        "            hidden_activation = nn.ReLU()\n",
        "        elif hidden_activation_name == \"LeakyReLU\":\n",
        "            negative_slope = 0.01\n",
        "            hidden_activation = nn.LeakyReLU(negative_slope=negative_slope)\n",
        "        elif hidden_activation_name == \"ELU\":\n",
        "            hidden_activation = nn.ELU() \n",
        "        elif hidden_activation_name == \"PReLU\":\n",
        "            init = 0.25\n",
        "            hidden_activation = nn.PReLU(init=init)\n",
        "        elif hidden_activation_name == \"Swish\":\n",
        "            class Swish(nn.Module):\n",
        "                def forward(self, x):\n",
        "                    return x * torch.sigmoid(x)\n",
        "            hidden_activation = Swish()\n",
        "        elif hidden_activation_name == \"GELU\":\n",
        "            hidden_activation = nn.GELU()\n",
        "        elif hidden_activation_name == \"SoftPlus\":\n",
        "            beta = 1\n",
        "            hidden_activation = nn.Softplus(beta=beta) # We don't optimize threshold subparameter, as it's mainly for numerical stability.\n",
        "\n",
        "        dropout_rate = DROPOUT_RATE_NO_OPT\n",
        "\n",
        "\n",
        "    # We used to have options here, but since we have a regression problem with continuous output, we only use Linear.\n",
        "    output_activation = nn.Identity()\n",
        "\n",
        "    # Creating the loss function from its name\n",
        "    if loss_name == \"MSE\":\n",
        "        loss_fn = nn.MSELoss()\n",
        "    elif loss_name == \"MAE\":\n",
        "        loss_fn = nn.L1Loss()\n",
        "    elif loss_name == \"Huber\":\n",
        "        loss_fn = nn.SmoothL1Loss() \n",
        "    elif loss_name == \"Quantile\":\n",
        "        def quantile_loss(y_pred, y_true, q=0.5):\n",
        "            e = y_pred - y_true\n",
        "            return torch.mean(torch.max(q*e, (q-1)*e))\n",
        "        loss_fn = quantile_loss\n",
        "    else:\n",
        "        def log_cosh_loss(y_pred, y_true):\n",
        "            return torch.mean(torch.log(torch.cosh(y_pred - y_true)))\n",
        "        loss_fn = log_cosh_loss\n",
        "\n",
        "    # Creating the network with the sampled hyperparameters\n",
        "    net = Net(n_layers, n_units, hidden_activation, output_activation, dropout_rate).to(device)\n",
        "\n",
        "\n",
        "    if OPTIMIZE:\n",
        "        # Creating the optimizer from its name\n",
        "        if optimizer_name == \"SGD\":\n",
        "            weight_decay = trial.suggest_loguniform(\"weight_decay\", 1e-5, 1e-2)\n",
        "            momentum = trial.suggest_uniform(\"momentum\", 0.0, 0.99)\n",
        "            optimizer = optim.SGD(net.parameters(), lr=lr, weight_decay=weight_decay, momentum=momentum)\n",
        "        elif optimizer_name == \"Adam\":\n",
        "            weight_decay = trial.suggest_loguniform(\"weight_decay\", 1e-5, 1e-2)\n",
        "            beta1 = trial.suggest_uniform(\"beta1\", 0.9, 0.999)\n",
        "            beta2 = trial.suggest_uniform(\"beta2\", 0.999, 0.9999)\n",
        "            optimizer = optim.Adam(net.parameters(), lr=lr, weight_decay=weight_decay, betas=(beta1, beta2))\n",
        "        elif optimizer_name == \"RMSprop\":\n",
        "            optimizer = optim.RMSprop(net.parameters(), lr=lr)\n",
        "        else:\n",
        "            optimizer = optim.Adagrad(net.parameters(), lr=lr)\n",
        "\n",
        "        # Creating the learning rate scheduler from its name\n",
        "        if scheduler_name == \"StepLR\":\n",
        "            step_size = trial.suggest_int(\"step_size\", 5, 15)\n",
        "            gamma = trial.suggest_uniform(\"gamma\", 0.1, 0.5)\n",
        "            scheduler = optim.lr_scheduler.StepLR(optimizer, step_size=step_size, gamma=gamma)\n",
        "        elif scheduler_name == \"ExponentialLR\":\n",
        "            gamma = trial.suggest_uniform(\"gamma\", 0.8, 0.99)\n",
        "            scheduler = optim.lr_scheduler.ExponentialLR(optimizer, gamma=gamma)\n",
        "        elif scheduler_name == \"CosineAnnealingLR\":\n",
        "            if n_epochs < 150:\n",
        "                t_max_fraction = trial.suggest_uniform('t_max_fraction', 0.1, 0.3)\n",
        "            elif n_epochs > 250:\n",
        "                t_max_fraction = trial.suggest_uniform('t_max_fraction', 0.05, 0.1)\n",
        "            else:\n",
        "                t_max_fraction = trial.suggest_uniform('t_max_fraction', 0.1, 0.2)\n",
        "\n",
        "            T_max = int(n_epochs * t_max_fraction)\n",
        "            eta_min = trial.suggest_loguniform(\"eta_min\", 1e-7, 1e-2)\n",
        "            scheduler = optim.lr_scheduler.CosineAnnealingLR(optimizer, T_max=T_max, eta_min=eta_min)\n",
        "        elif scheduler_name == \"ReduceLROnPlateau\":\n",
        "            factor = trial.suggest_uniform(\"factor\", 0.1, 0.5)\n",
        "            patience = trial.suggest_int(\"patience\", 5, 10)\n",
        "            threshold = trial.suggest_loguniform(\"threshold\", 1e-4, 1e-2)\n",
        "            scheduler = optim.lr_scheduler.ReduceLROnPlateau(\n",
        "                optimizer, mode=\"min\", factor=factor, patience=patience, threshold=threshold\n",
        "            )\n",
        "        elif scheduler_name == \"CyclicLR\":\n",
        "            base_lr = trial.suggest_loguniform(\"base_lr\", 1e-6, 1e-2)\n",
        "            max_lr = trial.suggest_loguniform(\"max_lr\", 1e-4, 1)\n",
        "            step_size_up = trial.suggest_int(\"step_size_up\", 200, 2000)\n",
        "            scheduler = optim.lr_scheduler.CyclicLR(optimizer, base_lr=base_lr, max_lr=max_lr, step_size_up=step_size_up)\n",
        "        else:\n",
        "            scheduler = None\n",
        "    else:\n",
        "        # Creating the optimizer from its name\n",
        "        if optimizer_name == \"SGD\":\n",
        "            optimizer = optim.SGD(net.parameters(), lr=lr)\n",
        "        elif optimizer_name == \"Adam\":\n",
        "            optimizer = optim.Adam(net.parameters(), lr=lr)\n",
        "        elif optimizer_name == \"RMSprop\":\n",
        "            optimizer = optim.RMSprop(net.parameters(), lr=lr)\n",
        "        else:\n",
        "            optimizer = optim.Adagrad(net.parameters(), lr=lr)\n",
        "\n",
        "        # Creating the learning rate scheduler from its name\n",
        "        if scheduler_name == \"StepLR\":\n",
        "            scheduler = optim.lr_scheduler.StepLR(optimizer, step_size=10, gamma=0.1)\n",
        "        elif scheduler_name == \"ExponentialLR\":\n",
        "            scheduler = optim.lr_scheduler.ExponentialLR(optimizer, gamma=0.9)\n",
        "        elif scheduler_name == \"CosineAnnealingLR\":\n",
        "            scheduler = optim.lr_scheduler.CosineAnnealingLR(optimizer)\n",
        "        elif scheduler_name == \"ReduceLROnPlateau\":\n",
        "            scheduler = optim.lr_scheduler.ReduceLROnPlateau(\n",
        "                        optimizer, mode=\"min\", factor=0.18979341786654758, patience=11, threshold=0.0017197466122611932 #, min_lr=1e-6\n",
        "                    )\n",
        "        elif scheduler_name == \"CyclicLR\":\n",
        "            # TODO: Change these appropriately.\n",
        "            base_lr = 1e-6\n",
        "            max_lr = 1e-4\n",
        "            step_size_up = 200\n",
        "            scheduler = optim.lr_scheduler.CyclicLR(optimizer, base_lr=base_lr, max_lr=max_lr, step_size_up=step_size_up)\n",
        "        else:\n",
        "            scheduler = None\n",
        "\n",
        "    # Returning all variables needed for saving and loading\n",
        "    return net, loss_fn, optimizer, batch_size, n_epochs, scheduler, loss_name, optimizer_name, scheduler_name, n_units, n_layers, hidden_activation, output_activation, lr, dropout_rate\n",
        "\n",
        "\n"
      ]
    },
    {
      "cell_type": "markdown",
      "metadata": {
        "id": "l-czA7VvUZiD"
      },
      "source": [
        " ## The training and evaluation loop\n",
        "\n",
        " We first define a couple of functions used in the training and evaluation."
      ]
    },
    {
      "cell_type": "code",
      "execution_count": null,
      "metadata": {
        "id": "aD6FQNmxUZiD"
      },
      "outputs": [],
      "source": [
        "# Defining a function that computes loss and metrics for a given batch\n",
        "def compute_loss_and_metrics(y_pred, y_true, loss_fn):\n",
        "    \"\"\"Computes loss and metrics for a given batch.\n",
        "\n",
        "    Args:\n",
        "        y_pred (torch.Tensor): The predicted pressure tensor of shape (batch_size, 1).\n",
        "        y_true (torch.Tensor): The true pressure tensor of shape (batch_size,).\n",
        "        loss_fn (torch.nn.Module or function): The loss function to use.\n",
        "\n",
        "    Returns:\n",
        "        tuple: A tuple of (loss, l1_norm), where loss is a scalar tensor,\n",
        "            l1_norm is L1 norm for relative error of pressure,\n",
        "            each being a scalar tensor.\n",
        "            linf_norm is Linf norm for relative error of pressure.\n",
        "    \"\"\"\n",
        "    # Reshaping the target tensor to match the input tensor\n",
        "    y_true = y_true.view(-1, 1)\n",
        "\n",
        "    # Computing the loss using the loss function\n",
        "    loss = loss_fn(y_pred, y_true)\n",
        "\n",
        "    # Computing the relative error of pressure\n",
        "    rel_error = torch.abs((y_pred - y_true) / y_true)\n",
        "\n",
        "    # Computing the L1 norm for the relative error of pressure\n",
        "    l1_norm = torch.mean(rel_error) \n",
        "    # Computing the Linf norm for the relative error of pressure\n",
        "    linf_norm = torch.max(rel_error) \n",
        "\n",
        "    # Returning the loss and metrics\n",
        "    return loss, l1_norm, linf_norm\n",
        "\n",
        "\n",
        "# Defining a function that updates the learning rate scheduler with validation loss if applicable\n",
        "def update_scheduler(scheduler, test_loss):\n",
        "    \"\"\"Updates the learning rate scheduler with validation loss if applicable.\n",
        "\n",
        "    Args:\n",
        "        scheduler (torch.optim.lr_scheduler._LRScheduler or None): The learning rate scheduler to use.\n",
        "        test_loss (float): The validation loss to use.\n",
        "\n",
        "    Returns:\n",
        "        None\n",
        "    \"\"\"\n",
        "    # Checking if scheduler is not None\n",
        "    if scheduler is not None:\n",
        "        # Checking if scheduler is ReduceLROnPlateau\n",
        "        if isinstance(scheduler, optim.lr_scheduler.ReduceLROnPlateau):\n",
        "            # Updating the scheduler with test_loss\n",
        "            scheduler.step(test_loss)\n",
        "        else:\n",
        "            # Updating the scheduler without test_loss\n",
        "            scheduler.step()\n"
      ]
    },
    {
      "cell_type": "markdown",
      "metadata": {
        "id": "w1nE662UUZiE"
      },
      "source": [
        "Now for the actual training and evaluation loop,"
      ]
    },
    {
      "cell_type": "code",
      "execution_count": null,
      "metadata": {
        "id": "YAOjgKW3UZiF"
      },
      "outputs": [],
      "source": [
        "# Defining a function to train and evaluate a network\n",
        "def train_and_eval(net, loss_fn, optimizer, batch_size, n_epochs, scheduler, train_loader, val_loader, test_loader, trial=None):\n",
        "    # Initializing lists to store the losses and metrics for each epoch\n",
        "    train_losses = []\n",
        "    val_losses = []\n",
        "    test_losses = []\n",
        "    train_metrics = []\n",
        "    val_metrics = []\n",
        "    test_metrics = []\n",
        "\n",
        "\n",
        "    # Creating a SummaryWriter object to log data for tensorboard\n",
        "    writer = tbx.SummaryWriter()\n",
        "\n",
        "    # Looping over the epochs\n",
        "    for epoch in range(n_epochs):\n",
        "\n",
        "        # Setting the network to training mode\n",
        "        net.train()\n",
        "\n",
        "        # Initializing variables to store the total loss and metrics for the train set\n",
        "        train_loss = 0.0\n",
        "        train_l1_norm = 0.0\n",
        "        train_linf_norm = 0.0\n",
        "\n",
        "        # Looping over the batches in the train set\n",
        "        for x_batch, y_batch in train_loader:\n",
        "\n",
        "            # Moving the batch tensors to the device\n",
        "            x_batch = x_batch.to(device)\n",
        "            y_batch = y_batch.to(device)\n",
        "\n",
        "            # Zeroing the gradients\n",
        "            optimizer.zero_grad()\n",
        "\n",
        "            # Performing a forward pass and computing the loss and metrics\n",
        "            y_pred = net(x_batch)\n",
        "            loss, l1_norm, linf_norm = compute_loss_and_metrics(y_pred, y_batch, loss_fn)\n",
        "\n",
        "\n",
        "            # Performing a backward pass and updating the weights\n",
        "            loss.backward()\n",
        "            optimizer.step()\n",
        "\n",
        "            # Updating the total loss and metrics for the train set\n",
        "            train_loss += loss.item() * x_batch.size(0)\n",
        "            train_l1_norm += l1_norm.item() * x_batch.size(0)\n",
        "            train_linf_norm += linf_norm.item() * x_batch.size(0)\n",
        "\n",
        "        # Computing the average loss and metrics for the train set\n",
        "        train_loss /= len(train_loader.dataset)\n",
        "        train_l1_norm /= len(train_loader.dataset)\n",
        "        train_linf_norm /= len(train_loader.dataset)\n",
        "\n",
        "        # Appending the average loss and metrics for the train set to the lists\n",
        "        train_losses.append(train_loss)\n",
        "        train_metrics.append(\n",
        "            {\n",
        "                \"l1_norm\": train_l1_norm,\n",
        "                \"linf_norm\": train_linf_norm,\n",
        "            }\n",
        "        )\n",
        "\n",
        "        # Logging the average loss and metrics for the train set to tensorboard\n",
        "        writer.add_scalar(\"Loss/train\", train_loss, epoch)\n",
        "        writer.add_scalar(\"L1 norm/train\", train_l1_norm, epoch)\n",
        "        writer.add_scalar(\"Linf norm/train\", train_linf_norm, epoch)\n",
        "\n",
        "        if val_loader is not None:\n",
        "            net.eval()\n",
        "            val_loss = 0.0\n",
        "            val_l1_norm = 0.0\n",
        "            val_linf_norm = 0.0\n",
        "\n",
        "            with torch.no_grad():\n",
        "                for x_batch, y_batch in val_loader:\n",
        "                    x_batch = x_batch.to(device)\n",
        "                    y_batch = y_batch.to(device)\n",
        "                    y_pred = net(x_batch)\n",
        "                    loss, l1_norm, linf_norm = compute_loss_and_metrics(y_pred, y_batch, loss_fn)\n",
        "\n",
        "                    val_loss += loss.item() * x_batch.size(0)\n",
        "                    val_l1_norm += l1_norm.item() * x_batch.size(0)\n",
        "                    val_linf_norm += linf_norm.item() * x_batch.size(0)\n",
        "\n",
        "            val_loss /= len(val_loader.dataset)\n",
        "            val_l1_norm /= len(val_loader.dataset)\n",
        "            val_linf_norm /= len(val_loader.dataset)\n",
        "\n",
        "            val_losses.append(val_loss)\n",
        "            val_metrics.append(\n",
        "                {\n",
        "                    \"l1_norm\": val_l1_norm,\n",
        "                    \"linf_norm\": val_linf_norm,\n",
        "                }\n",
        "            )\n",
        "\n",
        "            writer.add_scalar(\"Loss/val\", val_loss, epoch)\n",
        "            writer.add_scalar(\"L1 norm/val\", val_l1_norm, epoch)\n",
        "            writer.add_scalar(\"Linf norm/val\", val_linf_norm, epoch)\n",
        "            print(f\"Epoch {epoch+1}/{n_epochs}.. Train loss: {train_loss:.3f}.. Val loss: {val_loss:.3f}.. Train L1 norm: {train_l1_norm:.3f}.. Val L1 norm: {val_l1_norm:.3f}.. Train Linf norm: {train_linf_norm:.3f}.. Val Linf norm: {val_linf_norm:.3f}\")\n",
        "\n",
        "\n",
        "            update_scheduler(scheduler, val_loss)\n",
        "\n",
        "        if test_loader is not None:\n",
        "            net.eval()\n",
        "            test_loss = 0.0\n",
        "            test_l1_norm = 0.0\n",
        "            test_linf_norm = 0.0\n",
        "\n",
        "            with torch.no_grad():\n",
        "                for x_batch, y_batch in test_loader:\n",
        "                    x_batch = x_batch.to(device)\n",
        "                    y_batch = y_batch.to(device)\n",
        "                    y_pred = net(x_batch)\n",
        "                    loss, l1_norm, linf_norm = compute_loss_and_metrics(y_pred, y_batch, loss_fn)\n",
        "\n",
        "                    test_loss += loss.item() * x_batch.size(0)\n",
        "                    test_l1_norm += l1_norm.item() * x_batch.size(0)\n",
        "                    test_linf_norm += linf_norm.item() * x_batch.size(0)\n",
        "\n",
        "            test_loss /= len(test_loader.dataset)\n",
        "            test_l1_norm /= len(test_loader.dataset)\n",
        "            test_linf_norm /= len(test_loader.dataset)\n",
        "\n",
        "            test_losses.append(test_loss)\n",
        "            test_metrics.append(\n",
        "                {\n",
        "                    \"l1_norm\": test_l1_norm,\n",
        "                    \"linf_norm\": test_linf_norm,\n",
        "                }\n",
        "            )\n",
        "\n",
        "            writer.add_scalar(\"Loss/test\", test_loss, epoch)\n",
        "            writer.add_scalar(\"L1 norm/test\", test_l1_norm, epoch)\n",
        "            writer.add_scalar(\"Linf norm/test\", test_linf_norm, epoch)\n",
        "            print(f\"Epoch {epoch+1}/{n_epochs}.. Train loss: {train_loss:.3f}.. Test loss: {test_loss:.3f}.. Train L1 norm: {train_l1_norm:.3f}.. Test L1 norm: {test_l1_norm:.3f}.. Train Linf norm: {train_linf_norm:.3f}.. Test Linf norm: {test_linf_norm:.3f}\")\n",
        "\n",
        "\n",
        "        # Reporting the intermediate metric value to Optuna if trial is not None\n",
        "        if trial is not None:\n",
        "            trial.report(val_l1_norm, epoch)\n",
        "\n",
        "            if trial.should_prune():\n",
        "                raise optuna.TrialPruned()\n",
        "\n",
        "    # Closing the SummaryWriter object\n",
        "    writer.close()\n",
        "\n",
        "    # Returning the losses and metrics lists\n",
        "    return train_losses, val_losses, test_losses, train_metrics, val_metrics, test_metrics\n"
      ]
    },
    {
      "cell_type": "markdown",
      "metadata": {
        "id": "xg9jz0SvUZiQ"
      },
      "source": [
        "## The objective function and hyperparameter tuning"
      ]
    },
    {
      "cell_type": "code",
      "execution_count": null,
      "metadata": {
        "id": "fmRncQPuUZiR"
      },
      "outputs": [],
      "source": [
        "# Defining an objective function for Optuna to minimize\n",
        "def objective(trial):\n",
        "    \"\"\"Defines an objective function for Optuna to minimize.\n",
        "\n",
        "    Args:\n",
        "        trial (optuna.trial.Trial): The trial object that contains the hyperparameters.\n",
        "\n",
        "    Returns:\n",
        "        float: The validation L1 norm to minimize.\n",
        "    \"\"\"\n",
        "    # Creating a trial network and optimizer using the create_model function\n",
        "    net, \\\n",
        "    loss_fn, \\\n",
        "    optimizer, \\\n",
        "    batch_size, \\\n",
        "    n_epochs, \\\n",
        "    scheduler, \\\n",
        "    loss_name, \\\n",
        "    optimizer_name, \\\n",
        "    scheduler_name, \\\n",
        "    n_units, \\\n",
        "    n_layers, \\\n",
        "    hidden_activation, \\\n",
        "    output_activation, \\\n",
        "    lr, \\\n",
        "    dropout_rate = create_model(trial, optimize=True)\n",
        "\n",
        "    # Create separate data loaders for training and validation\n",
        "    train_loader = torch.utils.data.DataLoader(\n",
        "        torch.utils.data.TensorDataset(x_train, y_train), batch_size=batch_size, shuffle=True\n",
        "    )\n",
        "    val_loader = torch.utils.data.DataLoader(\n",
        "        torch.utils.data.TensorDataset(x_val, y_val), batch_size=batch_size\n",
        "    )\n",
        "    \n",
        "    _, _, _, _, val_metrics, _ = train_and_eval(\n",
        "        net, loss_fn, optimizer, batch_size, n_epochs, scheduler, train_loader, val_loader, None, trial\n",
        "    )\n",
        "\n",
        "    # Returning the last validation L1 norm as the objective value to minimize\n",
        "    return val_metrics[-1][\"l1_norm\"]"
      ]
    },
    {
      "cell_type": "code",
      "execution_count": null,
      "metadata": {
        "id": "GyES4NAyUZiS",
        "colab": {
          "base_uri": "https://localhost:8080/"
        },
        "outputId": "9ffc40c9-2b8f-4257-9ac4-c9146a7aa476"
      },
      "outputs": [
        {
          "metadata": {
            "tags": null
          },
          "name": "stderr",
          "output_type": "stream",
          "text": [
            "[I 2023-05-31 09:26:53,072] A new study created in memory with name: no-name-195e633d-c6cc-4b6f-bea3-2be591415791\n",
            "<ipython-input-37-5ce9a06c2c29>:44: FutureWarning: suggest_loguniform has been deprecated in v3.0.0. This feature will be removed in v6.0.0. See https://github.com/optuna/optuna/releases/tag/v3.0.0. Use suggest_float(..., log=True) instead.\n",
            "  lr = trial.suggest_loguniform(\"lr\", 1e-5, 1e-1)\n",
            "<ipython-input-37-5ce9a06c2c29>:76: FutureWarning: suggest_uniform has been deprecated in v3.0.0. This feature will be removed in v6.0.0. See https://github.com/optuna/optuna/releases/tag/v3.0.0. Use suggest_float instead.\n",
            "  dropout_rate = trial.suggest_uniform(\"dropout_rate\", 0.0, 0.5)\n",
            "<ipython-input-37-5ce9a06c2c29>:161: FutureWarning: suggest_uniform has been deprecated in v3.0.0. This feature will be removed in v6.0.0. See https://github.com/optuna/optuna/releases/tag/v3.0.0. Use suggest_float instead.\n",
            "  gamma = trial.suggest_uniform(\"gamma\", 0.1, 0.5)\n"
          ]
        },
        {
          "output_type": "stream",
          "name": "stdout",
          "text": [
            "Epoch 1/74.. Train loss: 6.179.. Val loss: 3.980.. Train L1 norm: 6.375.. Val L1 norm: 4.218.. Train Linf norm: 4025.583.. Val Linf norm: 1556.340\n",
            "Epoch 2/74.. Train loss: 3.931.. Val loss: 3.834.. Train L1 norm: 5.807.. Val L1 norm: 4.456.. Train Linf norm: 4976.990.. Val Linf norm: 1872.376\n",
            "Epoch 3/74.. Train loss: 3.851.. Val loss: 3.973.. Train L1 norm: 5.968.. Val L1 norm: 3.492.. Train Linf norm: 5292.238.. Val Linf norm: 1431.483\n",
            "Epoch 4/74.. Train loss: 3.779.. Val loss: 3.854.. Train L1 norm: 5.814.. Val L1 norm: 4.172.. Train Linf norm: 5043.205.. Val Linf norm: 1713.731\n",
            "Epoch 5/74.. Train loss: 3.759.. Val loss: 3.966.. Train L1 norm: 5.514.. Val L1 norm: 3.490.. Train Linf norm: 4458.963.. Val Linf norm: 1633.203\n",
            "Epoch 6/74.. Train loss: 3.739.. Val loss: 3.883.. Train L1 norm: 5.898.. Val L1 norm: 4.161.. Train Linf norm: 4757.460.. Val Linf norm: 1964.173\n",
            "Epoch 7/74.. Train loss: 3.702.. Val loss: 3.820.. Train L1 norm: 5.592.. Val L1 norm: 3.917.. Train Linf norm: 4088.784.. Val Linf norm: 1794.541\n",
            "Epoch 8/74.. Train loss: 3.687.. Val loss: 3.873.. Train L1 norm: 5.590.. Val L1 norm: 3.864.. Train Linf norm: 4487.773.. Val Linf norm: 1748.189\n",
            "Epoch 9/74.. Train loss: 3.676.. Val loss: 3.898.. Train L1 norm: 5.979.. Val L1 norm: 3.928.. Train Linf norm: 5122.239.. Val Linf norm: 1793.616\n",
            "Epoch 10/74.. Train loss: 3.677.. Val loss: 3.869.. Train L1 norm: 5.494.. Val L1 norm: 3.923.. Train Linf norm: 4368.308.. Val Linf norm: 1760.883\n",
            "Epoch 11/74.. Train loss: 3.666.. Val loss: 3.859.. Train L1 norm: 5.595.. Val L1 norm: 3.843.. Train Linf norm: 4760.796.. Val Linf norm: 1744.304\n",
            "Epoch 12/74.. Train loss: 3.659.. Val loss: 3.958.. Train L1 norm: 5.961.. Val L1 norm: 3.786.. Train Linf norm: 5459.040.. Val Linf norm: 1630.771\n",
            "Epoch 13/74.. Train loss: 3.660.. Val loss: 3.833.. Train L1 norm: 5.379.. Val L1 norm: 3.936.. Train Linf norm: 4085.741.. Val Linf norm: 1757.414\n",
            "Epoch 14/74.. Train loss: 3.661.. Val loss: 3.844.. Train L1 norm: 5.719.. Val L1 norm: 3.892.. Train Linf norm: 4786.248.. Val Linf norm: 1714.248\n",
            "Epoch 15/74.. Train loss: 3.653.. Val loss: 3.843.. Train L1 norm: 5.575.. Val L1 norm: 3.905.. Train Linf norm: 4522.669.. Val Linf norm: 1748.130\n",
            "Epoch 16/74.. Train loss: 3.656.. Val loss: 3.854.. Train L1 norm: 5.696.. Val L1 norm: 3.917.. Train Linf norm: 4883.485.. Val Linf norm: 1757.307\n",
            "Epoch 17/74.. Train loss: 3.650.. Val loss: 3.839.. Train L1 norm: 5.758.. Val L1 norm: 3.907.. Train Linf norm: 4894.775.. Val Linf norm: 1723.911\n",
            "Epoch 18/74.. Train loss: 3.657.. Val loss: 3.868.. Train L1 norm: 5.710.. Val L1 norm: 3.901.. Train Linf norm: 5022.512.. Val Linf norm: 1697.678\n",
            "Epoch 19/74.. Train loss: 3.650.. Val loss: 3.847.. Train L1 norm: 5.615.. Val L1 norm: 3.934.. Train Linf norm: 4461.008.. Val Linf norm: 1719.887\n",
            "Epoch 20/74.. Train loss: 3.652.. Val loss: 3.848.. Train L1 norm: 5.712.. Val L1 norm: 3.924.. Train Linf norm: 4983.367.. Val Linf norm: 1711.668\n",
            "Epoch 21/74.. Train loss: 3.651.. Val loss: 3.834.. Train L1 norm: 5.689.. Val L1 norm: 3.937.. Train Linf norm: 4886.402.. Val Linf norm: 1722.419\n",
            "Epoch 22/74.. Train loss: 3.652.. Val loss: 3.844.. Train L1 norm: 5.731.. Val L1 norm: 3.906.. Train Linf norm: 4690.523.. Val Linf norm: 1697.313\n",
            "Epoch 23/74.. Train loss: 3.648.. Val loss: 3.845.. Train L1 norm: 5.510.. Val L1 norm: 3.900.. Train Linf norm: 4629.106.. Val Linf norm: 1696.819\n",
            "Epoch 24/74.. Train loss: 3.646.. Val loss: 3.844.. Train L1 norm: 5.447.. Val L1 norm: 3.913.. Train Linf norm: 4451.734.. Val Linf norm: 1703.776\n",
            "Epoch 25/74.. Train loss: 3.650.. Val loss: 3.842.. Train L1 norm: 5.339.. Val L1 norm: 3.911.. Train Linf norm: 4130.757.. Val Linf norm: 1701.426\n",
            "Epoch 26/74.. Train loss: 3.649.. Val loss: 3.844.. Train L1 norm: 5.462.. Val L1 norm: 3.910.. Train Linf norm: 4456.876.. Val Linf norm: 1700.287\n",
            "Epoch 27/74.. Train loss: 3.645.. Val loss: 3.845.. Train L1 norm: 5.768.. Val L1 norm: 3.911.. Train Linf norm: 5061.886.. Val Linf norm: 1700.045\n",
            "Epoch 28/74.. Train loss: 3.646.. Val loss: 3.843.. Train L1 norm: 5.632.. Val L1 norm: 3.912.. Train Linf norm: 4668.742.. Val Linf norm: 1696.823\n",
            "Epoch 29/74.. Train loss: 3.651.. Val loss: 3.847.. Train L1 norm: 5.891.. Val L1 norm: 3.903.. Train Linf norm: 5223.762.. Val Linf norm: 1690.369\n",
            "Epoch 30/74.. Train loss: 3.648.. Val loss: 3.843.. Train L1 norm: 5.696.. Val L1 norm: 3.907.. Train Linf norm: 4863.697.. Val Linf norm: 1695.483\n",
            "Epoch 31/74.. Train loss: 3.647.. Val loss: 3.844.. Train L1 norm: 5.526.. Val L1 norm: 3.905.. Train Linf norm: 4573.907.. Val Linf norm: 1693.840\n",
            "Epoch 32/74.. Train loss: 3.648.. Val loss: 3.843.. Train L1 norm: 5.160.. Val L1 norm: 3.906.. Train Linf norm: 3568.609.. Val Linf norm: 1694.486\n",
            "Epoch 33/74.. Train loss: 3.647.. Val loss: 3.844.. Train L1 norm: 5.686.. Val L1 norm: 3.905.. Train Linf norm: 4398.334.. Val Linf norm: 1693.438\n",
            "Epoch 34/74.. Train loss: 3.652.. Val loss: 3.843.. Train L1 norm: 5.491.. Val L1 norm: 3.905.. Train Linf norm: 4438.799.. Val Linf norm: 1693.668\n",
            "Epoch 35/74.. Train loss: 3.649.. Val loss: 3.842.. Train L1 norm: 5.663.. Val L1 norm: 3.906.. Train Linf norm: 4714.722.. Val Linf norm: 1695.001\n",
            "Epoch 36/74.. Train loss: 3.649.. Val loss: 3.842.. Train L1 norm: 5.668.. Val L1 norm: 3.907.. Train Linf norm: 4798.590.. Val Linf norm: 1695.264\n",
            "Epoch 37/74.. Train loss: 3.639.. Val loss: 3.842.. Train L1 norm: 5.671.. Val L1 norm: 3.907.. Train Linf norm: 4882.792.. Val Linf norm: 1695.379\n",
            "Epoch 38/74.. Train loss: 3.646.. Val loss: 3.842.. Train L1 norm: 5.511.. Val L1 norm: 3.907.. Train Linf norm: 4468.206.. Val Linf norm: 1694.912\n",
            "Epoch 39/74.. Train loss: 3.650.. Val loss: 3.842.. Train L1 norm: 5.457.. Val L1 norm: 3.906.. Train Linf norm: 4395.472.. Val Linf norm: 1694.948\n",
            "Epoch 40/74.. Train loss: 3.651.. Val loss: 3.842.. Train L1 norm: 5.843.. Val L1 norm: 3.906.. Train Linf norm: 5078.356.. Val Linf norm: 1694.812\n",
            "Epoch 41/74.. Train loss: 3.651.. Val loss: 3.842.. Train L1 norm: 5.472.. Val L1 norm: 3.906.. Train Linf norm: 4401.918.. Val Linf norm: 1694.897\n",
            "Epoch 42/74.. Train loss: 3.647.. Val loss: 3.843.. Train L1 norm: 5.395.. Val L1 norm: 3.906.. Train Linf norm: 4397.154.. Val Linf norm: 1694.596\n",
            "Epoch 43/74.. Train loss: 3.644.. Val loss: 3.843.. Train L1 norm: 5.514.. Val L1 norm: 3.906.. Train Linf norm: 4446.222.. Val Linf norm: 1694.736\n",
            "Epoch 44/74.. Train loss: 3.645.. Val loss: 3.843.. Train L1 norm: 5.811.. Val L1 norm: 3.906.. Train Linf norm: 5073.405.. Val Linf norm: 1694.512\n",
            "Epoch 45/74.. Train loss: 3.652.. Val loss: 3.843.. Train L1 norm: 5.643.. Val L1 norm: 3.906.. Train Linf norm: 4820.066.. Val Linf norm: 1694.487\n",
            "Epoch 46/74.. Train loss: 3.648.. Val loss: 3.843.. Train L1 norm: 5.768.. Val L1 norm: 3.905.. Train Linf norm: 4238.485.. Val Linf norm: 1694.394\n",
            "Epoch 47/74.. Train loss: 3.647.. Val loss: 3.843.. Train L1 norm: 5.374.. Val L1 norm: 3.906.. Train Linf norm: 4184.962.. Val Linf norm: 1694.446\n",
            "Epoch 48/74.. Train loss: 3.649.. Val loss: 3.843.. Train L1 norm: 5.774.. Val L1 norm: 3.905.. Train Linf norm: 4982.163.. Val Linf norm: 1694.291\n",
            "Epoch 49/74.. Train loss: 3.647.. Val loss: 3.843.. Train L1 norm: 5.391.. Val L1 norm: 3.905.. Train Linf norm: 3951.359.. Val Linf norm: 1694.292\n",
            "Epoch 50/74.. Train loss: 3.647.. Val loss: 3.843.. Train L1 norm: 5.321.. Val L1 norm: 3.905.. Train Linf norm: 4011.876.. Val Linf norm: 1694.286\n",
            "Epoch 51/74.. Train loss: 3.653.. Val loss: 3.843.. Train L1 norm: 5.698.. Val L1 norm: 3.905.. Train Linf norm: 4838.657.. Val Linf norm: 1694.252\n",
            "Epoch 52/74.. Train loss: 3.649.. Val loss: 3.843.. Train L1 norm: 5.348.. Val L1 norm: 3.905.. Train Linf norm: 3825.805.. Val Linf norm: 1694.224\n",
            "Epoch 53/74.. Train loss: 3.644.. Val loss: 3.843.. Train L1 norm: 5.543.. Val L1 norm: 3.905.. Train Linf norm: 4207.792.. Val Linf norm: 1694.213\n",
            "Epoch 54/74.. Train loss: 3.650.. Val loss: 3.843.. Train L1 norm: 5.772.. Val L1 norm: 3.905.. Train Linf norm: 4951.970.. Val Linf norm: 1694.191\n",
            "Epoch 55/74.. Train loss: 3.643.. Val loss: 3.843.. Train L1 norm: 5.501.. Val L1 norm: 3.905.. Train Linf norm: 4736.821.. Val Linf norm: 1694.200\n",
            "Epoch 56/74.. Train loss: 3.649.. Val loss: 3.843.. Train L1 norm: 5.613.. Val L1 norm: 3.905.. Train Linf norm: 4506.483.. Val Linf norm: 1694.212\n",
            "Epoch 57/74.. Train loss: 3.645.. Val loss: 3.843.. Train L1 norm: 5.832.. Val L1 norm: 3.905.. Train Linf norm: 4874.380.. Val Linf norm: 1694.209\n",
            "Epoch 58/74.. Train loss: 3.654.. Val loss: 3.843.. Train L1 norm: 5.851.. Val L1 norm: 3.905.. Train Linf norm: 5175.459.. Val Linf norm: 1694.204\n",
            "Epoch 59/74.. Train loss: 3.643.. Val loss: 3.843.. Train L1 norm: 5.717.. Val L1 norm: 3.905.. Train Linf norm: 5064.265.. Val Linf norm: 1694.203\n",
            "Epoch 60/74.. Train loss: 3.650.. Val loss: 3.843.. Train L1 norm: 5.119.. Val L1 norm: 3.905.. Train Linf norm: 3846.838.. Val Linf norm: 1694.195\n",
            "Epoch 61/74.. Train loss: 3.648.. Val loss: 3.843.. Train L1 norm: 5.770.. Val L1 norm: 3.905.. Train Linf norm: 5060.771.. Val Linf norm: 1694.192\n",
            "Epoch 62/74.. Train loss: 3.648.. Val loss: 3.843.. Train L1 norm: 5.758.. Val L1 norm: 3.905.. Train Linf norm: 4625.835.. Val Linf norm: 1694.191\n",
            "Epoch 63/74.. Train loss: 3.644.. Val loss: 3.843.. Train L1 norm: 5.908.. Val L1 norm: 3.905.. Train Linf norm: 5377.038.. Val Linf norm: 1694.191\n",
            "Epoch 64/74.. Train loss: 3.649.. Val loss: 3.843.. Train L1 norm: 5.721.. Val L1 norm: 3.905.. Train Linf norm: 4830.409.. Val Linf norm: 1694.188\n",
            "Epoch 65/74.. Train loss: 3.655.. Val loss: 3.843.. Train L1 norm: 5.472.. Val L1 norm: 3.905.. Train Linf norm: 4502.245.. Val Linf norm: 1694.190\n",
            "Epoch 66/74.. Train loss: 3.653.. Val loss: 3.843.. Train L1 norm: 5.582.. Val L1 norm: 3.905.. Train Linf norm: 4761.930.. Val Linf norm: 1694.189\n",
            "Epoch 67/74.. Train loss: 3.644.. Val loss: 3.843.. Train L1 norm: 5.616.. Val L1 norm: 3.905.. Train Linf norm: 4913.894.. Val Linf norm: 1694.189\n",
            "Epoch 68/74.. Train loss: 3.646.. Val loss: 3.843.. Train L1 norm: 5.837.. Val L1 norm: 3.905.. Train Linf norm: 5297.109.. Val Linf norm: 1694.188\n",
            "Epoch 69/74.. Train loss: 3.651.. Val loss: 3.843.. Train L1 norm: 5.848.. Val L1 norm: 3.905.. Train Linf norm: 5137.129.. Val Linf norm: 1694.188\n",
            "Epoch 70/74.. Train loss: 3.653.. Val loss: 3.843.. Train L1 norm: 6.010.. Val L1 norm: 3.905.. Train Linf norm: 5424.985.. Val Linf norm: 1694.188\n",
            "Epoch 71/74.. Train loss: 3.648.. Val loss: 3.843.. Train L1 norm: 5.923.. Val L1 norm: 3.905.. Train Linf norm: 4848.319.. Val Linf norm: 1694.188\n",
            "Epoch 72/74.. Train loss: 3.644.. Val loss: 3.843.. Train L1 norm: 5.738.. Val L1 norm: 3.905.. Train Linf norm: 4831.910.. Val Linf norm: 1694.187\n",
            "Epoch 73/74.. Train loss: 3.648.. Val loss: 3.843.. Train L1 norm: 5.552.. Val L1 norm: 3.905.. Train Linf norm: 4644.196.. Val Linf norm: 1694.187\n"
          ]
        },
        {
          "output_type": "stream",
          "name": "stderr",
          "text": [
            "[I 2023-05-31 09:58:47,048] Trial 0 finished with value: 3.9053710774739585 and parameters: {'n_layers': 10, 'n_units_0': 3896, 'n_units_1': 1935, 'n_units_2': 1298, 'n_units_3': 2206, 'n_units_4': 287, 'n_units_5': 3211, 'n_units_6': 3363, 'n_units_7': 3605, 'n_units_8': 2477, 'n_units_9': 2349, 'hidden_activation': 'GELU', 'output_activation': 'Linear', 'loss': 'MAE', 'optimizer': 'Adagrad', 'lr': 0.0009092162705915429, 'batch_size': 2048, 'n_epochs': 74, 'scheduler': 'StepLR', 'dropout_rate': 0.34439088302404675, 'step_size': 6, 'gamma': 0.3348066994163488}. Best is trial 0 with value: 3.9053710774739585.\n"
          ]
        },
        {
          "output_type": "stream",
          "name": "stdout",
          "text": [
            "Epoch 74/74.. Train loss: 3.649.. Val loss: 3.843.. Train L1 norm: 5.598.. Val L1 norm: 3.905.. Train Linf norm: 4689.957.. Val Linf norm: 1694.187\n"
          ]
        },
        {
          "output_type": "stream",
          "name": "stderr",
          "text": [
            "<ipython-input-37-5ce9a06c2c29>:63: FutureWarning: suggest_uniform has been deprecated in v3.0.0. This feature will be removed in v6.0.0. See https://github.com/optuna/optuna/releases/tag/v3.0.0. Use suggest_float instead.\n",
            "  init = trial.suggest_uniform(\"prelu_init\", 0.1, 0.3)\n"
          ]
        },
        {
          "output_type": "stream",
          "name": "stdout",
          "text": [
            "Epoch 1/145.. Train loss: 4.725.. Val loss: 4.512.. Train L1 norm: 4.238.. Val L1 norm: 2.232.. Train Linf norm: 587.173.. Val Linf norm: 197.942\n",
            "Epoch 2/145.. Train loss: 4.626.. Val loss: 4.575.. Train L1 norm: 4.066.. Val L1 norm: 1.977.. Train Linf norm: 509.712.. Val Linf norm: 163.765\n",
            "Epoch 3/145.. Train loss: 4.580.. Val loss: 4.462.. Train L1 norm: 4.186.. Val L1 norm: 2.514.. Train Linf norm: 568.056.. Val Linf norm: 240.411\n",
            "Epoch 4/145.. Train loss: 4.571.. Val loss: 4.430.. Train L1 norm: 4.458.. Val L1 norm: 2.694.. Train Linf norm: 621.038.. Val Linf norm: 266.328\n",
            "Epoch 5/145.. Train loss: 4.554.. Val loss: 4.444.. Train L1 norm: 4.786.. Val L1 norm: 2.555.. Train Linf norm: 689.541.. Val Linf norm: 248.110\n",
            "Epoch 6/145.. Train loss: 4.511.. Val loss: 4.396.. Train L1 norm: 4.402.. Val L1 norm: 2.760.. Train Linf norm: 601.018.. Val Linf norm: 276.290\n",
            "Epoch 7/145.. Train loss: 4.492.. Val loss: 4.370.. Train L1 norm: 4.603.. Val L1 norm: 2.945.. Train Linf norm: 640.088.. Val Linf norm: 303.707\n",
            "Epoch 8/145.. Train loss: 4.488.. Val loss: 4.339.. Train L1 norm: 4.239.. Val L1 norm: 3.055.. Train Linf norm: 545.630.. Val Linf norm: 317.344\n",
            "Epoch 9/145.. Train loss: 4.483.. Val loss: 4.357.. Train L1 norm: 4.525.. Val L1 norm: 2.888.. Train Linf norm: 613.049.. Val Linf norm: 294.472\n",
            "Epoch 10/145.. Train loss: 4.390.. Val loss: 4.253.. Train L1 norm: 4.843.. Val L1 norm: 3.368.. Train Linf norm: 668.800.. Val Linf norm: 356.158\n",
            "Epoch 11/145.. Train loss: 4.445.. Val loss: 4.413.. Train L1 norm: 4.755.. Val L1 norm: 2.594.. Train Linf norm: 655.635.. Val Linf norm: 251.676\n",
            "Epoch 12/145.. Train loss: 4.474.. Val loss: 4.527.. Train L1 norm: 4.354.. Val L1 norm: 2.516.. Train Linf norm: 522.798.. Val Linf norm: 244.993\n",
            "Epoch 13/145.. Train loss: 4.414.. Val loss: 4.594.. Train L1 norm: 4.685.. Val L1 norm: 2.389.. Train Linf norm: 620.410.. Val Linf norm: 226.799\n",
            "Epoch 14/145.. Train loss: 4.321.. Val loss: 4.606.. Train L1 norm: 5.070.. Val L1 norm: 2.397.. Train Linf norm: 682.231.. Val Linf norm: 227.925\n",
            "Epoch 15/145.. Train loss: 4.386.. Val loss: 4.670.. Train L1 norm: 4.900.. Val L1 norm: 2.277.. Train Linf norm: 659.314.. Val Linf norm: 210.526\n",
            "Epoch 16/145.. Train loss: 4.355.. Val loss: 4.634.. Train L1 norm: 4.688.. Val L1 norm: 2.391.. Train Linf norm: 621.038.. Val Linf norm: 227.261\n",
            "Epoch 17/145.. Train loss: 4.375.. Val loss: 4.714.. Train L1 norm: 4.689.. Val L1 norm: 2.218.. Train Linf norm: 609.857.. Val Linf norm: 201.873\n",
            "Epoch 18/145.. Train loss: 4.307.. Val loss: 4.659.. Train L1 norm: 4.821.. Val L1 norm: 2.358.. Train Linf norm: 651.756.. Val Linf norm: 221.903\n",
            "Epoch 19/145.. Train loss: 4.360.. Val loss: 4.697.. Train L1 norm: 4.772.. Val L1 norm: 2.270.. Train Linf norm: 602.543.. Val Linf norm: 208.833\n",
            "Epoch 20/145.. Train loss: 4.360.. Val loss: 4.691.. Train L1 norm: 4.640.. Val L1 norm: 2.302.. Train Linf norm: 595.377.. Val Linf norm: 213.437\n",
            "Epoch 21/145.. Train loss: 4.328.. Val loss: 4.757.. Train L1 norm: 5.088.. Val L1 norm: 2.154.. Train Linf norm: 686.978.. Val Linf norm: 191.830\n",
            "Epoch 22/145.. Train loss: 4.349.. Val loss: 4.751.. Train L1 norm: 4.714.. Val L1 norm: 2.185.. Train Linf norm: 622.491.. Val Linf norm: 196.369\n",
            "Epoch 23/145.. Train loss: 4.327.. Val loss: 4.738.. Train L1 norm: 4.666.. Val L1 norm: 2.214.. Train Linf norm: 600.447.. Val Linf norm: 200.454\n",
            "Epoch 24/145.. Train loss: 4.328.. Val loss: 4.749.. Train L1 norm: 4.964.. Val L1 norm: 2.181.. Train Linf norm: 672.788.. Val Linf norm: 195.115\n",
            "Epoch 25/145.. Train loss: 4.345.. Val loss: 4.832.. Train L1 norm: 5.126.. Val L1 norm: 1.982.. Train Linf norm: 712.065.. Val Linf norm: 165.499\n",
            "Epoch 26/145.. Train loss: 4.302.. Val loss: 4.781.. Train L1 norm: 4.999.. Val L1 norm: 2.125.. Train Linf norm: 687.801.. Val Linf norm: 187.192\n",
            "Epoch 27/145.. Train loss: 4.282.. Val loss: 4.792.. Train L1 norm: 4.858.. Val L1 norm: 2.095.. Train Linf norm: 603.064.. Val Linf norm: 182.561\n",
            "Epoch 28/145.. Train loss: 4.272.. Val loss: 4.798.. Train L1 norm: 5.395.. Val L1 norm: 2.079.. Train Linf norm: 759.201.. Val Linf norm: 180.179\n",
            "Epoch 29/145.. Train loss: 4.293.. Val loss: 4.805.. Train L1 norm: 5.157.. Val L1 norm: 2.062.. Train Linf norm: 708.294.. Val Linf norm: 177.687\n",
            "Epoch 30/145.. Train loss: 4.323.. Val loss: 4.811.. Train L1 norm: 5.113.. Val L1 norm: 2.048.. Train Linf norm: 692.450.. Val Linf norm: 175.416\n",
            "Epoch 31/145.. Train loss: 4.315.. Val loss: 4.813.. Train L1 norm: 5.320.. Val L1 norm: 2.045.. Train Linf norm: 769.420.. Val Linf norm: 175.009\n",
            "Epoch 32/145.. Train loss: 4.290.. Val loss: 4.816.. Train L1 norm: 5.046.. Val L1 norm: 2.038.. Train Linf norm: 693.475.. Val Linf norm: 173.919\n",
            "Epoch 33/145.. Train loss: 4.288.. Val loss: 4.818.. Train L1 norm: 4.905.. Val L1 norm: 2.036.. Train Linf norm: 651.427.. Val Linf norm: 173.698\n",
            "Epoch 34/145.. Train loss: 4.313.. Val loss: 4.817.. Train L1 norm: 5.336.. Val L1 norm: 2.038.. Train Linf norm: 768.211.. Val Linf norm: 173.806\n",
            "Epoch 35/145.. Train loss: 4.296.. Val loss: 4.814.. Train L1 norm: 5.032.. Val L1 norm: 2.044.. Train Linf norm: 538.904.. Val Linf norm: 174.711\n",
            "Epoch 36/145.. Train loss: 4.277.. Val loss: 4.814.. Train L1 norm: 4.673.. Val L1 norm: 2.045.. Train Linf norm: 596.886.. Val Linf norm: 174.795\n",
            "Epoch 37/145.. Train loss: 4.279.. Val loss: 4.817.. Train L1 norm: 4.695.. Val L1 norm: 2.036.. Train Linf norm: 589.600.. Val Linf norm: 173.480\n",
            "Epoch 38/145.. Train loss: 4.265.. Val loss: 4.817.. Train L1 norm: 5.262.. Val L1 norm: 2.038.. Train Linf norm: 733.056.. Val Linf norm: 173.676\n",
            "Epoch 39/145.. Train loss: 4.302.. Val loss: 4.823.. Train L1 norm: 5.104.. Val L1 norm: 2.025.. Train Linf norm: 696.898.. Val Linf norm: 171.826\n",
            "Epoch 40/145.. Train loss: 4.318.. Val loss: 4.823.. Train L1 norm: 4.897.. Val L1 norm: 2.025.. Train Linf norm: 655.273.. Val Linf norm: 171.754\n",
            "Epoch 41/145.. Train loss: 4.320.. Val loss: 4.823.. Train L1 norm: 4.919.. Val L1 norm: 2.024.. Train Linf norm: 626.078.. Val Linf norm: 171.572\n",
            "Epoch 42/145.. Train loss: 4.317.. Val loss: 4.824.. Train L1 norm: 4.881.. Val L1 norm: 2.022.. Train Linf norm: 628.253.. Val Linf norm: 171.309\n",
            "Epoch 43/145.. Train loss: 4.314.. Val loss: 4.824.. Train L1 norm: 5.453.. Val L1 norm: 2.021.. Train Linf norm: 770.736.. Val Linf norm: 171.170\n",
            "Epoch 44/145.. Train loss: 4.303.. Val loss: 4.824.. Train L1 norm: 4.895.. Val L1 norm: 2.023.. Train Linf norm: 643.345.. Val Linf norm: 171.414\n",
            "Epoch 45/145.. Train loss: 4.322.. Val loss: 4.824.. Train L1 norm: 4.841.. Val L1 norm: 2.022.. Train Linf norm: 609.711.. Val Linf norm: 171.370\n",
            "Epoch 46/145.. Train loss: 4.287.. Val loss: 4.824.. Train L1 norm: 4.933.. Val L1 norm: 2.022.. Train Linf norm: 640.201.. Val Linf norm: 171.316\n",
            "Epoch 47/145.. Train loss: 4.333.. Val loss: 4.824.. Train L1 norm: 4.764.. Val L1 norm: 2.021.. Train Linf norm: 570.282.. Val Linf norm: 171.189\n",
            "Epoch 48/145.. Train loss: 4.391.. Val loss: 4.825.. Train L1 norm: 5.043.. Val L1 norm: 2.020.. Train Linf norm: 678.867.. Val Linf norm: 170.944\n",
            "Epoch 49/145.. Train loss: 4.328.. Val loss: 4.826.. Train L1 norm: 4.992.. Val L1 norm: 2.019.. Train Linf norm: 670.436.. Val Linf norm: 170.806\n",
            "Epoch 50/145.. Train loss: 4.354.. Val loss: 4.826.. Train L1 norm: 5.067.. Val L1 norm: 2.018.. Train Linf norm: 699.428.. Val Linf norm: 170.705\n",
            "Epoch 51/145.. Train loss: 4.308.. Val loss: 4.826.. Train L1 norm: 4.950.. Val L1 norm: 2.018.. Train Linf norm: 661.617.. Val Linf norm: 170.679\n",
            "Epoch 52/145.. Train loss: 4.333.. Val loss: 4.826.. Train L1 norm: 5.301.. Val L1 norm: 2.018.. Train Linf norm: 737.955.. Val Linf norm: 170.726\n",
            "Epoch 53/145.. Train loss: 4.314.. Val loss: 4.826.. Train L1 norm: 4.824.. Val L1 norm: 2.018.. Train Linf norm: 625.686.. Val Linf norm: 170.720\n",
            "Epoch 54/145.. Train loss: 4.329.. Val loss: 4.826.. Train L1 norm: 5.026.. Val L1 norm: 2.018.. Train Linf norm: 679.212.. Val Linf norm: 170.711\n",
            "Epoch 55/145.. Train loss: 4.304.. Val loss: 4.826.. Train L1 norm: 5.207.. Val L1 norm: 2.018.. Train Linf norm: 720.634.. Val Linf norm: 170.677\n",
            "Epoch 56/145.. Train loss: 4.307.. Val loss: 4.826.. Train L1 norm: 5.087.. Val L1 norm: 2.018.. Train Linf norm: 705.918.. Val Linf norm: 170.655\n",
            "Epoch 57/145.. Train loss: 4.280.. Val loss: 4.826.. Train L1 norm: 4.714.. Val L1 norm: 2.018.. Train Linf norm: 581.664.. Val Linf norm: 170.653\n",
            "Epoch 58/145.. Train loss: 4.314.. Val loss: 4.826.. Train L1 norm: 5.200.. Val L1 norm: 2.018.. Train Linf norm: 713.535.. Val Linf norm: 170.645\n",
            "Epoch 59/145.. Train loss: 4.293.. Val loss: 4.826.. Train L1 norm: 5.095.. Val L1 norm: 2.018.. Train Linf norm: 704.651.. Val Linf norm: 170.645\n",
            "Epoch 60/145.. Train loss: 4.287.. Val loss: 4.826.. Train L1 norm: 4.464.. Val L1 norm: 2.018.. Train Linf norm: 543.149.. Val Linf norm: 170.638\n",
            "Epoch 61/145.. Train loss: 4.308.. Val loss: 4.826.. Train L1 norm: 5.582.. Val L1 norm: 2.017.. Train Linf norm: 828.678.. Val Linf norm: 170.605\n",
            "Epoch 62/145.. Train loss: 4.315.. Val loss: 4.826.. Train L1 norm: 5.236.. Val L1 norm: 2.017.. Train Linf norm: 664.294.. Val Linf norm: 170.597\n",
            "Epoch 63/145.. Train loss: 4.301.. Val loss: 4.826.. Train L1 norm: 5.296.. Val L1 norm: 2.017.. Train Linf norm: 729.994.. Val Linf norm: 170.602\n",
            "Epoch 64/145.. Train loss: 4.256.. Val loss: 4.826.. Train L1 norm: 5.199.. Val L1 norm: 2.017.. Train Linf norm: 722.163.. Val Linf norm: 170.597\n",
            "Epoch 65/145.. Train loss: 4.369.. Val loss: 4.827.. Train L1 norm: 4.843.. Val L1 norm: 2.017.. Train Linf norm: 620.488.. Val Linf norm: 170.561\n",
            "Epoch 66/145.. Train loss: 4.308.. Val loss: 4.827.. Train L1 norm: 4.600.. Val L1 norm: 2.017.. Train Linf norm: 567.315.. Val Linf norm: 170.534\n",
            "Epoch 67/145.. Train loss: 4.320.. Val loss: 4.827.. Train L1 norm: 4.595.. Val L1 norm: 2.017.. Train Linf norm: 564.111.. Val Linf norm: 170.510\n",
            "Epoch 68/145.. Train loss: 4.281.. Val loss: 4.827.. Train L1 norm: 5.275.. Val L1 norm: 2.017.. Train Linf norm: 752.716.. Val Linf norm: 170.484\n",
            "Epoch 69/145.. Train loss: 4.287.. Val loss: 4.827.. Train L1 norm: 4.899.. Val L1 norm: 2.016.. Train Linf norm: 636.666.. Val Linf norm: 170.460\n",
            "Epoch 70/145.. Train loss: 4.305.. Val loss: 4.827.. Train L1 norm: 5.103.. Val L1 norm: 2.016.. Train Linf norm: 702.198.. Val Linf norm: 170.434\n",
            "Epoch 71/145.. Train loss: 4.287.. Val loss: 4.827.. Train L1 norm: 4.946.. Val L1 norm: 2.016.. Train Linf norm: 658.624.. Val Linf norm: 170.409\n",
            "Epoch 72/145.. Train loss: 4.285.. Val loss: 4.827.. Train L1 norm: 5.266.. Val L1 norm: 2.016.. Train Linf norm: 741.194.. Val Linf norm: 170.384\n",
            "Epoch 73/145.. Train loss: 4.316.. Val loss: 4.827.. Train L1 norm: 4.984.. Val L1 norm: 2.016.. Train Linf norm: 676.759.. Val Linf norm: 170.358\n",
            "Epoch 74/145.. Train loss: 4.354.. Val loss: 4.827.. Train L1 norm: 4.927.. Val L1 norm: 2.016.. Train Linf norm: 658.605.. Val Linf norm: 170.332\n",
            "Epoch 75/145.. Train loss: 4.326.. Val loss: 4.827.. Train L1 norm: 4.841.. Val L1 norm: 2.015.. Train Linf norm: 638.055.. Val Linf norm: 170.306\n",
            "Epoch 76/145.. Train loss: 4.279.. Val loss: 4.827.. Train L1 norm: 4.881.. Val L1 norm: 2.015.. Train Linf norm: 643.393.. Val Linf norm: 170.281\n",
            "Epoch 77/145.. Train loss: 4.357.. Val loss: 4.827.. Train L1 norm: 4.634.. Val L1 norm: 2.015.. Train Linf norm: 578.227.. Val Linf norm: 170.255\n",
            "Epoch 78/145.. Train loss: 4.355.. Val loss: 4.828.. Train L1 norm: 4.902.. Val L1 norm: 2.015.. Train Linf norm: 653.646.. Val Linf norm: 170.232\n",
            "Epoch 79/145.. Train loss: 4.334.. Val loss: 4.828.. Train L1 norm: 5.090.. Val L1 norm: 2.015.. Train Linf norm: 677.235.. Val Linf norm: 170.231\n",
            "Epoch 80/145.. Train loss: 4.289.. Val loss: 4.828.. Train L1 norm: 5.431.. Val L1 norm: 2.015.. Train Linf norm: 783.733.. Val Linf norm: 170.230\n",
            "Epoch 81/145.. Train loss: 4.294.. Val loss: 4.828.. Train L1 norm: 5.063.. Val L1 norm: 2.015.. Train Linf norm: 702.712.. Val Linf norm: 170.228\n",
            "Epoch 82/145.. Train loss: 4.303.. Val loss: 4.828.. Train L1 norm: 5.085.. Val L1 norm: 2.015.. Train Linf norm: 701.408.. Val Linf norm: 170.227\n",
            "Epoch 83/145.. Train loss: 4.333.. Val loss: 4.828.. Train L1 norm: 5.032.. Val L1 norm: 2.015.. Train Linf norm: 677.640.. Val Linf norm: 170.226\n",
            "Epoch 84/145.. Train loss: 4.327.. Val loss: 4.828.. Train L1 norm: 5.144.. Val L1 norm: 2.015.. Train Linf norm: 703.541.. Val Linf norm: 170.225\n",
            "Epoch 85/145.. Train loss: 4.307.. Val loss: 4.828.. Train L1 norm: 4.803.. Val L1 norm: 2.015.. Train Linf norm: 626.727.. Val Linf norm: 170.224\n",
            "Epoch 86/145.. Train loss: 4.303.. Val loss: 4.828.. Train L1 norm: 5.118.. Val L1 norm: 2.015.. Train Linf norm: 708.702.. Val Linf norm: 170.223\n",
            "Epoch 87/145.. Train loss: 4.314.. Val loss: 4.828.. Train L1 norm: 4.903.. Val L1 norm: 2.015.. Train Linf norm: 660.965.. Val Linf norm: 170.222\n",
            "Epoch 88/145.. Train loss: 4.306.. Val loss: 4.828.. Train L1 norm: 5.215.. Val L1 norm: 2.015.. Train Linf norm: 734.472.. Val Linf norm: 170.221\n",
            "Epoch 89/145.. Train loss: 4.290.. Val loss: 4.828.. Train L1 norm: 4.772.. Val L1 norm: 2.015.. Train Linf norm: 624.029.. Val Linf norm: 170.220\n",
            "Epoch 90/145.. Train loss: 4.299.. Val loss: 4.828.. Train L1 norm: 4.959.. Val L1 norm: 2.015.. Train Linf norm: 666.225.. Val Linf norm: 170.218\n",
            "Epoch 91/145.. Train loss: 4.353.. Val loss: 4.828.. Train L1 norm: 4.989.. Val L1 norm: 2.015.. Train Linf norm: 673.237.. Val Linf norm: 170.217\n",
            "Epoch 92/145.. Train loss: 4.327.. Val loss: 4.828.. Train L1 norm: 4.688.. Val L1 norm: 2.015.. Train Linf norm: 597.116.. Val Linf norm: 170.217\n",
            "Epoch 93/145.. Train loss: 4.268.. Val loss: 4.828.. Train L1 norm: 5.061.. Val L1 norm: 2.015.. Train Linf norm: 701.698.. Val Linf norm: 170.217\n",
            "Epoch 94/145.. Train loss: 4.277.. Val loss: 4.828.. Train L1 norm: 5.141.. Val L1 norm: 2.015.. Train Linf norm: 718.701.. Val Linf norm: 170.217\n",
            "Epoch 95/145.. Train loss: 4.343.. Val loss: 4.828.. Train L1 norm: 4.811.. Val L1 norm: 2.015.. Train Linf norm: 623.773.. Val Linf norm: 170.217\n",
            "Epoch 96/145.. Train loss: 4.318.. Val loss: 4.828.. Train L1 norm: 4.988.. Val L1 norm: 2.015.. Train Linf norm: 670.604.. Val Linf norm: 170.217\n",
            "Epoch 97/145.. Train loss: 4.333.. Val loss: 4.828.. Train L1 norm: 5.038.. Val L1 norm: 2.015.. Train Linf norm: 688.089.. Val Linf norm: 170.217\n",
            "Epoch 98/145.. Train loss: 4.286.. Val loss: 4.828.. Train L1 norm: 5.206.. Val L1 norm: 2.015.. Train Linf norm: 734.312.. Val Linf norm: 170.217\n",
            "Epoch 99/145.. Train loss: 4.325.. Val loss: 4.828.. Train L1 norm: 5.076.. Val L1 norm: 2.015.. Train Linf norm: 703.686.. Val Linf norm: 170.217\n",
            "Epoch 100/145.. Train loss: 4.274.. Val loss: 4.828.. Train L1 norm: 4.959.. Val L1 norm: 2.015.. Train Linf norm: 657.808.. Val Linf norm: 170.217\n",
            "Epoch 101/145.. Train loss: 4.288.. Val loss: 4.828.. Train L1 norm: 5.023.. Val L1 norm: 2.015.. Train Linf norm: 687.161.. Val Linf norm: 170.217\n",
            "Epoch 102/145.. Train loss: 4.306.. Val loss: 4.828.. Train L1 norm: 4.883.. Val L1 norm: 2.015.. Train Linf norm: 652.361.. Val Linf norm: 170.217\n",
            "Epoch 103/145.. Train loss: 4.356.. Val loss: 4.828.. Train L1 norm: 4.846.. Val L1 norm: 2.015.. Train Linf norm: 646.985.. Val Linf norm: 170.217\n",
            "Epoch 104/145.. Train loss: 4.319.. Val loss: 4.828.. Train L1 norm: 5.535.. Val L1 norm: 2.015.. Train Linf norm: 812.000.. Val Linf norm: 170.217\n",
            "Epoch 105/145.. Train loss: 4.285.. Val loss: 4.828.. Train L1 norm: 5.024.. Val L1 norm: 2.015.. Train Linf norm: 689.911.. Val Linf norm: 170.217\n",
            "Epoch 106/145.. Train loss: 4.310.. Val loss: 4.828.. Train L1 norm: 4.900.. Val L1 norm: 2.015.. Train Linf norm: 653.636.. Val Linf norm: 170.217\n",
            "Epoch 107/145.. Train loss: 4.302.. Val loss: 4.828.. Train L1 norm: 4.781.. Val L1 norm: 2.015.. Train Linf norm: 619.127.. Val Linf norm: 170.217\n",
            "Epoch 108/145.. Train loss: 4.281.. Val loss: 4.828.. Train L1 norm: 5.192.. Val L1 norm: 2.015.. Train Linf norm: 734.843.. Val Linf norm: 170.217\n",
            "Epoch 109/145.. Train loss: 4.296.. Val loss: 4.828.. Train L1 norm: 4.793.. Val L1 norm: 2.015.. Train Linf norm: 618.487.. Val Linf norm: 170.217\n",
            "Epoch 110/145.. Train loss: 4.305.. Val loss: 4.828.. Train L1 norm: 4.704.. Val L1 norm: 2.015.. Train Linf norm: 603.669.. Val Linf norm: 170.217\n",
            "Epoch 111/145.. Train loss: 4.317.. Val loss: 4.828.. Train L1 norm: 4.739.. Val L1 norm: 2.015.. Train Linf norm: 605.898.. Val Linf norm: 170.217\n",
            "Epoch 112/145.. Train loss: 4.287.. Val loss: 4.828.. Train L1 norm: 4.803.. Val L1 norm: 2.015.. Train Linf norm: 619.152.. Val Linf norm: 170.217\n",
            "Epoch 113/145.. Train loss: 4.307.. Val loss: 4.828.. Train L1 norm: 4.767.. Val L1 norm: 2.015.. Train Linf norm: 608.527.. Val Linf norm: 170.217\n",
            "Epoch 114/145.. Train loss: 4.329.. Val loss: 4.828.. Train L1 norm: 5.070.. Val L1 norm: 2.015.. Train Linf norm: 699.879.. Val Linf norm: 170.217\n",
            "Epoch 115/145.. Train loss: 4.293.. Val loss: 4.828.. Train L1 norm: 4.766.. Val L1 norm: 2.015.. Train Linf norm: 597.762.. Val Linf norm: 170.217\n",
            "Epoch 116/145.. Train loss: 4.319.. Val loss: 4.828.. Train L1 norm: 5.402.. Val L1 norm: 2.015.. Train Linf norm: 783.697.. Val Linf norm: 170.217\n",
            "Epoch 117/145.. Train loss: 4.312.. Val loss: 4.828.. Train L1 norm: 5.189.. Val L1 norm: 2.015.. Train Linf norm: 712.184.. Val Linf norm: 170.217\n",
            "Epoch 118/145.. Train loss: 4.284.. Val loss: 4.828.. Train L1 norm: 5.086.. Val L1 norm: 2.015.. Train Linf norm: 710.912.. Val Linf norm: 170.217\n",
            "Epoch 119/145.. Train loss: 4.282.. Val loss: 4.828.. Train L1 norm: 5.027.. Val L1 norm: 2.015.. Train Linf norm: 682.157.. Val Linf norm: 170.217\n",
            "Epoch 120/145.. Train loss: 4.322.. Val loss: 4.828.. Train L1 norm: 5.259.. Val L1 norm: 2.015.. Train Linf norm: 734.438.. Val Linf norm: 170.217\n",
            "Epoch 121/145.. Train loss: 4.295.. Val loss: 4.828.. Train L1 norm: 5.201.. Val L1 norm: 2.015.. Train Linf norm: 731.060.. Val Linf norm: 170.217\n",
            "Epoch 122/145.. Train loss: 4.363.. Val loss: 4.828.. Train L1 norm: 4.995.. Val L1 norm: 2.015.. Train Linf norm: 677.652.. Val Linf norm: 170.217\n",
            "Epoch 123/145.. Train loss: 4.357.. Val loss: 4.828.. Train L1 norm: 5.093.. Val L1 norm: 2.015.. Train Linf norm: 702.633.. Val Linf norm: 170.217\n",
            "Epoch 124/145.. Train loss: 4.354.. Val loss: 4.828.. Train L1 norm: 5.012.. Val L1 norm: 2.015.. Train Linf norm: 685.153.. Val Linf norm: 170.217\n",
            "Epoch 125/145.. Train loss: 4.306.. Val loss: 4.828.. Train L1 norm: 5.082.. Val L1 norm: 2.015.. Train Linf norm: 699.962.. Val Linf norm: 170.217\n",
            "Epoch 126/145.. Train loss: 4.283.. Val loss: 4.828.. Train L1 norm: 5.157.. Val L1 norm: 2.015.. Train Linf norm: 724.394.. Val Linf norm: 170.217\n",
            "Epoch 127/145.. Train loss: 4.281.. Val loss: 4.828.. Train L1 norm: 5.173.. Val L1 norm: 2.015.. Train Linf norm: 727.047.. Val Linf norm: 170.217\n",
            "Epoch 128/145.. Train loss: 4.291.. Val loss: 4.828.. Train L1 norm: 5.082.. Val L1 norm: 2.015.. Train Linf norm: 705.501.. Val Linf norm: 170.217\n",
            "Epoch 129/145.. Train loss: 4.328.. Val loss: 4.828.. Train L1 norm: 5.121.. Val L1 norm: 2.015.. Train Linf norm: 686.992.. Val Linf norm: 170.217\n",
            "Epoch 130/145.. Train loss: 4.342.. Val loss: 4.828.. Train L1 norm: 4.932.. Val L1 norm: 2.015.. Train Linf norm: 655.286.. Val Linf norm: 170.217\n",
            "Epoch 131/145.. Train loss: 4.300.. Val loss: 4.828.. Train L1 norm: 4.972.. Val L1 norm: 2.015.. Train Linf norm: 673.432.. Val Linf norm: 170.217\n",
            "Epoch 132/145.. Train loss: 4.297.. Val loss: 4.828.. Train L1 norm: 4.983.. Val L1 norm: 2.015.. Train Linf norm: 641.989.. Val Linf norm: 170.217\n",
            "Epoch 133/145.. Train loss: 4.285.. Val loss: 4.828.. Train L1 norm: 4.761.. Val L1 norm: 2.015.. Train Linf norm: 615.692.. Val Linf norm: 170.217\n",
            "Epoch 134/145.. Train loss: 4.312.. Val loss: 4.828.. Train L1 norm: 4.982.. Val L1 norm: 2.015.. Train Linf norm: 676.160.. Val Linf norm: 170.217\n",
            "Epoch 135/145.. Train loss: 4.286.. Val loss: 4.828.. Train L1 norm: 4.895.. Val L1 norm: 2.015.. Train Linf norm: 638.717.. Val Linf norm: 170.217\n",
            "Epoch 136/145.. Train loss: 4.293.. Val loss: 4.828.. Train L1 norm: 4.906.. Val L1 norm: 2.015.. Train Linf norm: 658.486.. Val Linf norm: 170.217\n",
            "Epoch 137/145.. Train loss: 4.304.. Val loss: 4.828.. Train L1 norm: 4.775.. Val L1 norm: 2.015.. Train Linf norm: 615.806.. Val Linf norm: 170.217\n",
            "Epoch 138/145.. Train loss: 4.304.. Val loss: 4.828.. Train L1 norm: 4.795.. Val L1 norm: 2.015.. Train Linf norm: 621.013.. Val Linf norm: 170.217\n",
            "Epoch 139/145.. Train loss: 4.278.. Val loss: 4.828.. Train L1 norm: 5.032.. Val L1 norm: 2.015.. Train Linf norm: 691.658.. Val Linf norm: 170.217\n",
            "Epoch 140/145.. Train loss: 4.290.. Val loss: 4.828.. Train L1 norm: 5.159.. Val L1 norm: 2.015.. Train Linf norm: 709.352.. Val Linf norm: 170.217\n",
            "Epoch 141/145.. Train loss: 4.295.. Val loss: 4.828.. Train L1 norm: 4.932.. Val L1 norm: 2.015.. Train Linf norm: 657.503.. Val Linf norm: 170.217\n",
            "Epoch 142/145.. Train loss: 4.305.. Val loss: 4.828.. Train L1 norm: 4.701.. Val L1 norm: 2.015.. Train Linf norm: 595.362.. Val Linf norm: 170.217\n",
            "Epoch 143/145.. Train loss: 4.319.. Val loss: 4.828.. Train L1 norm: 4.991.. Val L1 norm: 2.015.. Train Linf norm: 660.671.. Val Linf norm: 170.217\n",
            "Epoch 144/145.. Train loss: 4.294.. Val loss: 4.828.. Train L1 norm: 4.663.. Val L1 norm: 2.015.. Train Linf norm: 584.173.. Val Linf norm: 170.217\n"
          ]
        },
        {
          "output_type": "stream",
          "name": "stderr",
          "text": [
            "[I 2023-05-31 11:35:02,802] Trial 1 finished with value: 2.0147288665771486 and parameters: {'n_layers': 9, 'n_units_0': 3067, 'n_units_1': 1261, 'n_units_2': 1530, 'n_units_3': 3551, 'n_units_4': 2373, 'n_units_5': 1775, 'n_units_6': 3494, 'n_units_7': 3301, 'n_units_8': 1546, 'hidden_activation': 'PReLU', 'output_activation': 'Linear', 'loss': 'MAE', 'optimizer': 'RMSprop', 'lr': 1.191014348064771e-05, 'batch_size': 256, 'n_epochs': 145, 'scheduler': 'StepLR', 'prelu_init': 0.16767273313097944, 'dropout_rate': 0.3936227455301743, 'step_size': 13, 'gamma': 0.12135509891657766}. Best is trial 1 with value: 2.0147288665771486.\n"
          ]
        },
        {
          "output_type": "stream",
          "name": "stdout",
          "text": [
            "Epoch 145/145.. Train loss: 4.398.. Val loss: 4.828.. Train L1 norm: 4.968.. Val L1 norm: 2.015.. Train Linf norm: 662.337.. Val Linf norm: 170.217\n"
          ]
        },
        {
          "output_type": "stream",
          "name": "stderr",
          "text": [
            "<ipython-input-37-5ce9a06c2c29>:73: FutureWarning: suggest_uniform has been deprecated in v3.0.0. This feature will be removed in v6.0.0. See https://github.com/optuna/optuna/releases/tag/v3.0.0. Use suggest_float instead.\n",
            "  beta = trial.suggest_uniform(\"softplus_beta\", 0.5, 1.5)\n",
            "<ipython-input-37-5ce9a06c2c29>:149: FutureWarning: suggest_loguniform has been deprecated in v3.0.0. This feature will be removed in v6.0.0. See https://github.com/optuna/optuna/releases/tag/v3.0.0. Use suggest_float(..., log=True) instead.\n",
            "  weight_decay = trial.suggest_loguniform(\"weight_decay\", 1e-5, 1e-2)\n",
            "<ipython-input-37-5ce9a06c2c29>:150: FutureWarning: suggest_uniform has been deprecated in v3.0.0. This feature will be removed in v6.0.0. See https://github.com/optuna/optuna/releases/tag/v3.0.0. Use suggest_float instead.\n",
            "  beta1 = trial.suggest_uniform(\"beta1\", 0.9, 0.999)\n",
            "<ipython-input-37-5ce9a06c2c29>:151: FutureWarning: suggest_uniform has been deprecated in v3.0.0. This feature will be removed in v6.0.0. See https://github.com/optuna/optuna/releases/tag/v3.0.0. Use suggest_float instead.\n",
            "  beta2 = trial.suggest_uniform(\"beta2\", 0.999, 0.9999)\n",
            "<ipython-input-37-5ce9a06c2c29>:178: FutureWarning: suggest_uniform has been deprecated in v3.0.0. This feature will be removed in v6.0.0. See https://github.com/optuna/optuna/releases/tag/v3.0.0. Use suggest_float instead.\n",
            "  factor = trial.suggest_uniform(\"factor\", 0.1, 0.5)\n",
            "<ipython-input-37-5ce9a06c2c29>:180: FutureWarning: suggest_loguniform has been deprecated in v3.0.0. This feature will be removed in v6.0.0. See https://github.com/optuna/optuna/releases/tag/v3.0.0. Use suggest_float(..., log=True) instead.\n",
            "  threshold = trial.suggest_loguniform(\"threshold\", 1e-4, 1e-2)\n"
          ]
        },
        {
          "output_type": "stream",
          "name": "stdout",
          "text": [
            "Epoch 1/84.. Train loss: 256.431.. Val loss: 61.747.. Train L1 norm: 2.788.. Val L1 norm: 2.964.. Train Linf norm: 1020.650.. Val Linf norm: 870.178\n",
            "Epoch 2/84.. Train loss: 66.004.. Val loss: 62.441.. Train L1 norm: 3.657.. Val L1 norm: 3.322.. Train Linf norm: 1411.802.. Val Linf norm: 1047.576\n",
            "Epoch 3/84.. Train loss: 96.107.. Val loss: 76.932.. Train L1 norm: 3.534.. Val L1 norm: 2.954.. Train Linf norm: 1366.817.. Val Linf norm: 903.679\n",
            "Epoch 4/84.. Train loss: 203.890.. Val loss: 88.234.. Train L1 norm: 3.172.. Val L1 norm: 2.747.. Train Linf norm: 969.991.. Val Linf norm: 809.279\n",
            "Epoch 5/84.. Train loss: 240.334.. Val loss: 73.047.. Train L1 norm: 3.524.. Val L1 norm: 2.558.. Train Linf norm: 1381.570.. Val Linf norm: 745.431\n",
            "Epoch 6/84.. Train loss: 139.187.. Val loss: 79.424.. Train L1 norm: 3.949.. Val L1 norm: 2.101.. Train Linf norm: 1685.724.. Val Linf norm: 494.632\n",
            "Epoch 7/84.. Train loss: 83.688.. Val loss: 55.312.. Train L1 norm: 3.132.. Val L1 norm: 2.456.. Train Linf norm: 1061.613.. Val Linf norm: 675.081\n",
            "Epoch 8/84.. Train loss: 191.519.. Val loss: 62.205.. Train L1 norm: 2.687.. Val L1 norm: 2.711.. Train Linf norm: 823.269.. Val Linf norm: 810.059\n",
            "Epoch 9/84.. Train loss: 95.367.. Val loss: 91.661.. Train L1 norm: 2.814.. Val L1 norm: 2.471.. Train Linf norm: 824.931.. Val Linf norm: 701.581\n",
            "Epoch 10/84.. Train loss: 87.810.. Val loss: 65.173.. Train L1 norm: 3.374.. Val L1 norm: 2.550.. Train Linf norm: 1158.178.. Val Linf norm: 792.674\n",
            "Epoch 11/84.. Train loss: 93.472.. Val loss: 59.482.. Train L1 norm: 3.192.. Val L1 norm: 2.841.. Train Linf norm: 1101.409.. Val Linf norm: 913.400\n",
            "Epoch 12/84.. Train loss: 134.259.. Val loss: 70.238.. Train L1 norm: 2.685.. Val L1 norm: 2.825.. Train Linf norm: 812.044.. Val Linf norm: 925.189\n",
            "Epoch 13/84.. Train loss: 58.333.. Val loss: 62.929.. Train L1 norm: 3.308.. Val L1 norm: 2.752.. Train Linf norm: 1138.447.. Val Linf norm: 870.246\n",
            "Epoch 14/84.. Train loss: 106.230.. Val loss: 71.535.. Train L1 norm: 3.495.. Val L1 norm: 2.649.. Train Linf norm: 1285.144.. Val Linf norm: 828.294\n",
            "Epoch 15/84.. Train loss: 66.859.. Val loss: 54.868.. Train L1 norm: 3.410.. Val L1 norm: 3.088.. Train Linf norm: 1262.337.. Val Linf norm: 1010.056\n",
            "Epoch 16/84.. Train loss: 63.301.. Val loss: 50.245.. Train L1 norm: 3.572.. Val L1 norm: 3.114.. Train Linf norm: 1279.340.. Val Linf norm: 993.383\n",
            "Epoch 17/84.. Train loss: 59.092.. Val loss: 56.300.. Train L1 norm: 3.485.. Val L1 norm: 2.861.. Train Linf norm: 1101.592.. Val Linf norm: 899.891\n",
            "Epoch 18/84.. Train loss: 55.798.. Val loss: 55.992.. Train L1 norm: 3.405.. Val L1 norm: 2.964.. Train Linf norm: 1188.494.. Val Linf norm: 950.676\n",
            "Epoch 19/84.. Train loss: 58.082.. Val loss: 52.514.. Train L1 norm: 3.465.. Val L1 norm: 3.138.. Train Linf norm: 1312.005.. Val Linf norm: 1017.202\n",
            "Epoch 20/84.. Train loss: 71.883.. Val loss: 56.836.. Train L1 norm: 3.356.. Val L1 norm: 2.892.. Train Linf norm: 1115.107.. Val Linf norm: 918.931\n",
            "Epoch 21/84.. Train loss: 89.230.. Val loss: 53.192.. Train L1 norm: 3.394.. Val L1 norm: 3.107.. Train Linf norm: 1186.162.. Val Linf norm: 1012.522\n",
            "Epoch 22/84.. Train loss: 59.830.. Val loss: 53.971.. Train L1 norm: 3.461.. Val L1 norm: 2.984.. Train Linf norm: 1266.593.. Val Linf norm: 958.359\n",
            "Epoch 23/84.. Train loss: 56.869.. Val loss: 52.792.. Train L1 norm: 3.483.. Val L1 norm: 3.016.. Train Linf norm: 1233.208.. Val Linf norm: 966.127\n",
            "Epoch 24/84.. Train loss: 57.844.. Val loss: 53.213.. Train L1 norm: 3.636.. Val L1 norm: 3.021.. Train Linf norm: 1374.941.. Val Linf norm: 970.302\n",
            "Epoch 25/84.. Train loss: 56.553.. Val loss: 53.659.. Train L1 norm: 3.420.. Val L1 norm: 2.983.. Train Linf norm: 1130.927.. Val Linf norm: 953.634\n",
            "Epoch 26/84.. Train loss: 59.256.. Val loss: 53.470.. Train L1 norm: 3.391.. Val L1 norm: 3.022.. Train Linf norm: 1119.255.. Val Linf norm: 972.032\n",
            "Epoch 27/84.. Train loss: 53.389.. Val loss: 52.902.. Train L1 norm: 3.516.. Val L1 norm: 3.069.. Train Linf norm: 1215.261.. Val Linf norm: 991.559\n",
            "Epoch 28/84.. Train loss: 53.830.. Val loss: 52.391.. Train L1 norm: 3.538.. Val L1 norm: 3.073.. Train Linf norm: 1215.531.. Val Linf norm: 990.499\n",
            "Epoch 29/84.. Train loss: 55.877.. Val loss: 52.324.. Train L1 norm: 3.687.. Val L1 norm: 3.059.. Train Linf norm: 1420.791.. Val Linf norm: 983.026\n",
            "Epoch 30/84.. Train loss: 54.742.. Val loss: 52.808.. Train L1 norm: 3.562.. Val L1 norm: 3.041.. Train Linf norm: 1216.720.. Val Linf norm: 976.421\n",
            "Epoch 31/84.. Train loss: 52.195.. Val loss: 52.678.. Train L1 norm: 3.555.. Val L1 norm: 3.052.. Train Linf norm: 1296.320.. Val Linf norm: 980.837\n",
            "Epoch 32/84.. Train loss: 55.797.. Val loss: 52.822.. Train L1 norm: 3.587.. Val L1 norm: 3.047.. Train Linf norm: 1377.065.. Val Linf norm: 979.163\n",
            "Epoch 33/84.. Train loss: 54.963.. Val loss: 52.856.. Train L1 norm: 3.809.. Val L1 norm: 3.051.. Train Linf norm: 1513.094.. Val Linf norm: 980.997\n",
            "Epoch 34/84.. Train loss: 61.639.. Val loss: 53.073.. Train L1 norm: 3.747.. Val L1 norm: 3.048.. Train Linf norm: 1425.200.. Val Linf norm: 980.616\n",
            "Epoch 35/84.. Train loss: 53.400.. Val loss: 53.168.. Train L1 norm: 3.627.. Val L1 norm: 3.051.. Train Linf norm: 1395.222.. Val Linf norm: 982.116\n",
            "Epoch 36/84.. Train loss: 54.371.. Val loss: 53.375.. Train L1 norm: 3.564.. Val L1 norm: 3.040.. Train Linf norm: 1319.112.. Val Linf norm: 977.828\n",
            "Epoch 37/84.. Train loss: 56.595.. Val loss: 53.457.. Train L1 norm: 3.541.. Val L1 norm: 3.041.. Train Linf norm: 1256.678.. Val Linf norm: 978.573\n",
            "Epoch 38/84.. Train loss: 55.435.. Val loss: 53.474.. Train L1 norm: 3.601.. Val L1 norm: 3.041.. Train Linf norm: 1305.341.. Val Linf norm: 978.301\n",
            "Epoch 39/84.. Train loss: 57.832.. Val loss: 53.478.. Train L1 norm: 3.526.. Val L1 norm: 3.040.. Train Linf norm: 1119.986.. Val Linf norm: 977.824\n",
            "Epoch 40/84.. Train loss: 56.632.. Val loss: 53.474.. Train L1 norm: 3.554.. Val L1 norm: 3.041.. Train Linf norm: 1218.951.. Val Linf norm: 978.206\n",
            "Epoch 41/84.. Train loss: 50.078.. Val loss: 53.450.. Train L1 norm: 3.440.. Val L1 norm: 3.042.. Train Linf norm: 1163.080.. Val Linf norm: 978.786\n",
            "Epoch 42/84.. Train loss: 61.009.. Val loss: 53.316.. Train L1 norm: 3.620.. Val L1 norm: 3.048.. Train Linf norm: 1376.712.. Val Linf norm: 981.026\n",
            "Epoch 43/84.. Train loss: 52.951.. Val loss: 53.251.. Train L1 norm: 3.413.. Val L1 norm: 3.052.. Train Linf norm: 1066.347.. Val Linf norm: 982.409\n",
            "Epoch 44/84.. Train loss: 56.500.. Val loss: 53.299.. Train L1 norm: 3.561.. Val L1 norm: 3.050.. Train Linf norm: 1287.255.. Val Linf norm: 981.739\n",
            "Epoch 45/84.. Train loss: 58.837.. Val loss: 53.276.. Train L1 norm: 3.588.. Val L1 norm: 3.051.. Train Linf norm: 1324.509.. Val Linf norm: 982.024\n",
            "Epoch 46/84.. Train loss: 60.466.. Val loss: 53.293.. Train L1 norm: 3.661.. Val L1 norm: 3.051.. Train Linf norm: 1386.149.. Val Linf norm: 982.015\n",
            "Epoch 47/84.. Train loss: 53.617.. Val loss: 53.282.. Train L1 norm: 3.541.. Val L1 norm: 3.052.. Train Linf norm: 1329.611.. Val Linf norm: 982.317\n",
            "Epoch 48/84.. Train loss: 53.679.. Val loss: 53.271.. Train L1 norm: 3.656.. Val L1 norm: 3.052.. Train Linf norm: 1416.324.. Val Linf norm: 982.450\n",
            "Epoch 49/84.. Train loss: 54.289.. Val loss: 53.269.. Train L1 norm: 3.582.. Val L1 norm: 3.052.. Train Linf norm: 1357.876.. Val Linf norm: 982.516\n",
            "Epoch 50/84.. Train loss: 51.089.. Val loss: 53.257.. Train L1 norm: 3.454.. Val L1 norm: 3.053.. Train Linf norm: 1237.909.. Val Linf norm: 982.782\n",
            "Epoch 51/84.. Train loss: 51.690.. Val loss: 53.255.. Train L1 norm: 3.607.. Val L1 norm: 3.054.. Train Linf norm: 1342.312.. Val Linf norm: 982.975\n",
            "Epoch 52/84.. Train loss: 54.771.. Val loss: 53.250.. Train L1 norm: 3.668.. Val L1 norm: 3.054.. Train Linf norm: 1420.123.. Val Linf norm: 983.036\n",
            "Epoch 53/84.. Train loss: 51.298.. Val loss: 53.249.. Train L1 norm: 3.653.. Val L1 norm: 3.054.. Train Linf norm: 1390.758.. Val Linf norm: 983.033\n",
            "Epoch 54/84.. Train loss: 49.514.. Val loss: 53.247.. Train L1 norm: 3.631.. Val L1 norm: 3.054.. Train Linf norm: 1387.707.. Val Linf norm: 983.087\n",
            "Epoch 55/84.. Train loss: 54.951.. Val loss: 53.248.. Train L1 norm: 3.548.. Val L1 norm: 3.054.. Train Linf norm: 1267.155.. Val Linf norm: 983.094\n",
            "Epoch 56/84.. Train loss: 58.097.. Val loss: 53.237.. Train L1 norm: 3.606.. Val L1 norm: 3.054.. Train Linf norm: 1372.879.. Val Linf norm: 983.280\n",
            "Epoch 57/84.. Train loss: 50.344.. Val loss: 53.237.. Train L1 norm: 3.590.. Val L1 norm: 3.054.. Train Linf norm: 1335.488.. Val Linf norm: 983.285\n",
            "Epoch 58/84.. Train loss: 53.755.. Val loss: 53.231.. Train L1 norm: 3.614.. Val L1 norm: 3.055.. Train Linf norm: 1354.064.. Val Linf norm: 983.383\n",
            "Epoch 59/84.. Train loss: 52.831.. Val loss: 53.233.. Train L1 norm: 3.597.. Val L1 norm: 3.055.. Train Linf norm: 1325.313.. Val Linf norm: 983.354\n",
            "Epoch 60/84.. Train loss: 52.134.. Val loss: 53.236.. Train L1 norm: 3.677.. Val L1 norm: 3.054.. Train Linf norm: 1452.527.. Val Linf norm: 983.252\n",
            "Epoch 61/84.. Train loss: 53.225.. Val loss: 53.238.. Train L1 norm: 3.478.. Val L1 norm: 3.054.. Train Linf norm: 1123.567.. Val Linf norm: 983.250\n",
            "Epoch 62/84.. Train loss: 53.054.. Val loss: 53.239.. Train L1 norm: 3.492.. Val L1 norm: 3.054.. Train Linf norm: 1261.563.. Val Linf norm: 983.197\n",
            "Epoch 63/84.. Train loss: 57.717.. Val loss: 53.240.. Train L1 norm: 3.816.. Val L1 norm: 3.054.. Train Linf norm: 1510.824.. Val Linf norm: 983.088\n",
            "Epoch 64/84.. Train loss: 50.031.. Val loss: 53.240.. Train L1 norm: 3.751.. Val L1 norm: 3.054.. Train Linf norm: 1512.626.. Val Linf norm: 983.092\n",
            "Epoch 65/84.. Train loss: 52.946.. Val loss: 53.239.. Train L1 norm: 3.679.. Val L1 norm: 3.054.. Train Linf norm: 1396.286.. Val Linf norm: 983.118\n",
            "Epoch 66/84.. Train loss: 65.442.. Val loss: 53.241.. Train L1 norm: 3.419.. Val L1 norm: 3.054.. Train Linf norm: 1117.819.. Val Linf norm: 983.056\n",
            "Epoch 67/84.. Train loss: 50.307.. Val loss: 53.239.. Train L1 norm: 3.569.. Val L1 norm: 3.054.. Train Linf norm: 1286.478.. Val Linf norm: 983.070\n",
            "Epoch 68/84.. Train loss: 60.615.. Val loss: 53.239.. Train L1 norm: 3.586.. Val L1 norm: 3.054.. Train Linf norm: 1387.137.. Val Linf norm: 983.043\n",
            "Epoch 69/84.. Train loss: 50.314.. Val loss: 53.237.. Train L1 norm: 3.589.. Val L1 norm: 3.054.. Train Linf norm: 1096.267.. Val Linf norm: 983.062\n",
            "Epoch 70/84.. Train loss: 54.023.. Val loss: 53.239.. Train L1 norm: 3.482.. Val L1 norm: 3.054.. Train Linf norm: 1164.463.. Val Linf norm: 983.023\n",
            "Epoch 71/84.. Train loss: 53.488.. Val loss: 53.239.. Train L1 norm: 3.543.. Val L1 norm: 3.054.. Train Linf norm: 1282.731.. Val Linf norm: 983.042\n",
            "Epoch 72/84.. Train loss: 54.739.. Val loss: 53.233.. Train L1 norm: 3.521.. Val L1 norm: 3.054.. Train Linf norm: 1225.678.. Val Linf norm: 983.178\n",
            "Epoch 73/84.. Train loss: 53.646.. Val loss: 53.228.. Train L1 norm: 3.602.. Val L1 norm: 3.055.. Train Linf norm: 1378.696.. Val Linf norm: 983.280\n",
            "Epoch 74/84.. Train loss: 53.344.. Val loss: 53.228.. Train L1 norm: 3.570.. Val L1 norm: 3.055.. Train Linf norm: 1220.048.. Val Linf norm: 983.317\n",
            "Epoch 75/84.. Train loss: 55.520.. Val loss: 53.231.. Train L1 norm: 3.735.. Val L1 norm: 3.055.. Train Linf norm: 1434.621.. Val Linf norm: 983.270\n",
            "Epoch 76/84.. Train loss: 54.589.. Val loss: 53.229.. Train L1 norm: 3.519.. Val L1 norm: 3.055.. Train Linf norm: 1262.404.. Val Linf norm: 983.294\n",
            "Epoch 77/84.. Train loss: 52.642.. Val loss: 53.232.. Train L1 norm: 3.403.. Val L1 norm: 3.055.. Train Linf norm: 1143.925.. Val Linf norm: 983.319\n",
            "Epoch 78/84.. Train loss: 55.849.. Val loss: 53.236.. Train L1 norm: 3.474.. Val L1 norm: 3.054.. Train Linf norm: 1219.080.. Val Linf norm: 983.236\n",
            "Epoch 79/84.. Train loss: 53.316.. Val loss: 53.240.. Train L1 norm: 3.645.. Val L1 norm: 3.054.. Train Linf norm: 1373.486.. Val Linf norm: 983.178\n",
            "Epoch 80/84.. Train loss: 51.801.. Val loss: 53.243.. Train L1 norm: 3.550.. Val L1 norm: 3.054.. Train Linf norm: 1294.482.. Val Linf norm: 983.134\n",
            "Epoch 81/84.. Train loss: 54.764.. Val loss: 53.244.. Train L1 norm: 3.484.. Val L1 norm: 3.054.. Train Linf norm: 1175.945.. Val Linf norm: 983.180\n",
            "Epoch 82/84.. Train loss: 59.465.. Val loss: 53.238.. Train L1 norm: 3.326.. Val L1 norm: 3.054.. Train Linf norm: 999.234.. Val Linf norm: 983.269\n",
            "Epoch 83/84.. Train loss: 55.155.. Val loss: 53.236.. Train L1 norm: 3.728.. Val L1 norm: 3.054.. Train Linf norm: 1480.494.. Val Linf norm: 983.252\n"
          ]
        },
        {
          "output_type": "stream",
          "name": "stderr",
          "text": [
            "[I 2023-05-31 11:47:25,392] Trial 2 finished with value: 3.0544934499104817 and parameters: {'n_layers': 5, 'n_units_0': 459, 'n_units_1': 2559, 'n_units_2': 2064, 'n_units_3': 1412, 'n_units_4': 757, 'hidden_activation': 'SoftPlus', 'output_activation': 'Linear', 'loss': 'MSE', 'optimizer': 'Adam', 'lr': 4.104926320445835e-05, 'batch_size': 1024, 'n_epochs': 84, 'scheduler': 'ReduceLROnPlateau', 'softplus_beta': 1.4408624225206568, 'dropout_rate': 0.200764483093343, 'weight_decay': 4.576992381096355e-05, 'beta1': 0.9256071568041273, 'beta2': 0.9992943204654051, 'factor': 0.24551065568660332, 'patience': 6, 'threshold': 0.0006487715070250998}. Best is trial 1 with value: 2.0147288665771486.\n"
          ]
        },
        {
          "output_type": "stream",
          "name": "stdout",
          "text": [
            "Epoch 84/84.. Train loss: 52.522.. Val loss: 53.236.. Train L1 norm: 3.516.. Val L1 norm: 3.054.. Train Linf norm: 1302.190.. Val Linf norm: 983.262\n"
          ]
        },
        {
          "output_type": "stream",
          "name": "stderr",
          "text": [
            "<ipython-input-37-5ce9a06c2c29>:58: FutureWarning: suggest_uniform has been deprecated in v3.0.0. This feature will be removed in v6.0.0. See https://github.com/optuna/optuna/releases/tag/v3.0.0. Use suggest_float instead.\n",
            "  negative_slope = trial.suggest_uniform(\"leakyrelu_slope\", 0.01, 0.3)\n"
          ]
        },
        {
          "output_type": "stream",
          "name": "stdout",
          "text": [
            "Epoch 1/110.. Train loss: 45607808352.257.. Val loss: 387342.757.. Train L1 norm: 19773751506.181.. Val L1 norm: 892909.774.. Train Linf norm: 735465381148.215.. Val Linf norm: 62020436.441\n",
            "Epoch 2/110.. Train loss: 5094498885.347.. Val loss: 6448865.157.. Train L1 norm: 4467398258.899.. Val L1 norm: 16661426.055.. Train Linf norm: 123874884518.285.. Val Linf norm: 1282229743.351\n",
            "Epoch 3/110.. Train loss: 35459786.265.. Val loss: 1916490.428.. Train L1 norm: 87707858.668.. Val L1 norm: 4024581.450.. Train Linf norm: 6231836932.822.. Val Linf norm: 283690998.959\n",
            "Epoch 4/110.. Train loss: 953380.661.. Val loss: 37692.064.. Train L1 norm: 2748103.043.. Val L1 norm: 68866.397.. Train Linf norm: 222911469.950.. Val Linf norm: 4510821.036\n",
            "Epoch 5/110.. Train loss: 6188627406.977.. Val loss: 2768202.222.. Train L1 norm: 6942096400.911.. Val L1 norm: 5020173.094.. Train Linf norm: 198042928647.882.. Val Linf norm: 376629475.046\n",
            "Epoch 6/110.. Train loss: 52614817.555.. Val loss: 2550893.380.. Train L1 norm: 62207600.987.. Val L1 norm: 5498906.955.. Train Linf norm: 1584080885.637.. Val Linf norm: 411319606.340\n",
            "Epoch 7/110.. Train loss: 28498012202.178.. Val loss: 27167836.850.. Train L1 norm: 48134384010.469.. Val L1 norm: 59354033.493.. Train Linf norm: 1288905270101.269.. Val Linf norm: 4550171794.159\n",
            "Epoch 8/110.. Train loss: 103258979.449.. Val loss: 40504867.636.. Train L1 norm: 298456474.520.. Val L1 norm: 93606909.252.. Train Linf norm: 25597157234.907.. Val Linf norm: 6855410461.628\n",
            "Epoch 9/110.. Train loss: 1693822765.498.. Val loss: 5214139.077.. Train L1 norm: 1719865711.573.. Val L1 norm: 8282016.074.. Train Linf norm: 41188115233.536.. Val Linf norm: 590119459.678\n",
            "Epoch 10/110.. Train loss: 3359962005.160.. Val loss: 16186706.391.. Train L1 norm: 3703047853.007.. Val L1 norm: 24294986.188.. Train Linf norm: 114486375271.538.. Val Linf norm: 1366346831.548\n",
            "Epoch 11/110.. Train loss: 17044633.097.. Val loss: 2772897.087.. Train L1 norm: 48729843.439.. Val L1 norm: 5790435.259.. Train Linf norm: 4291754768.951.. Val Linf norm: 399100602.825\n",
            "Epoch 12/110.. Train loss: 51968840.524.. Val loss: 5522145.371.. Train L1 norm: 98961593.363.. Val L1 norm: 10617571.206.. Train Linf norm: 6624284908.173.. Val Linf norm: 725415083.213\n",
            "Epoch 13/110.. Train loss: 774013.787.. Val loss: 13413.927.. Train L1 norm: 1416588.272.. Val L1 norm: 21450.150.. Train Linf norm: 88367668.208.. Val Linf norm: 1682026.641\n",
            "Epoch 14/110.. Train loss: 61696.206.. Val loss: 4123.944.. Train L1 norm: 143475.329.. Val L1 norm: 7051.008.. Train Linf norm: 11920763.152.. Val Linf norm: 474800.781\n",
            "Epoch 15/110.. Train loss: 52082.488.. Val loss: 1394.259.. Train L1 norm: 134125.318.. Val L1 norm: 1284.576.. Train Linf norm: 12037076.010.. Val Linf norm: 110157.527\n",
            "Epoch 16/110.. Train loss: 26433.490.. Val loss: 13785.570.. Train L1 norm: 50463.918.. Val L1 norm: 24828.776.. Train Linf norm: 3296571.742.. Val Linf norm: 1837092.339\n",
            "Epoch 17/110.. Train loss: 13141.754.. Val loss: 1084.875.. Train L1 norm: 26427.531.. Val L1 norm: 1729.151.. Train Linf norm: 1975445.419.. Val Linf norm: 129870.279\n",
            "Epoch 18/110.. Train loss: 18148.799.. Val loss: 142.872.. Train L1 norm: 28974.115.. Val L1 norm: 245.093.. Train Linf norm: 2178695.324.. Val Linf norm: 16343.558\n",
            "Epoch 19/110.. Train loss: 9028.030.. Val loss: 22697.773.. Train L1 norm: 61207.809.. Val L1 norm: 44496.834.. Train Linf norm: 6656388.563.. Val Linf norm: 3030701.464\n",
            "Epoch 20/110.. Train loss: 29697.121.. Val loss: 1532.012.. Train L1 norm: 39646.738.. Val L1 norm: 3523.608.. Train Linf norm: 1624452.791.. Val Linf norm: 242635.266\n",
            "Epoch 21/110.. Train loss: 4573.704.. Val loss: 198.687.. Train L1 norm: 8038.771.. Val L1 norm: 429.368.. Train Linf norm: 547482.322.. Val Linf norm: 31510.127\n",
            "Epoch 22/110.. Train loss: 3022.731.. Val loss: 26.337.. Train L1 norm: 6955.921.. Val L1 norm: 50.672.. Train Linf norm: 488365.035.. Val Linf norm: 4022.678\n",
            "Epoch 23/110.. Train loss: 1365.578.. Val loss: 11.605.. Train L1 norm: 2545.477.. Val L1 norm: 18.353.. Train Linf norm: 169611.179.. Val Linf norm: 1145.864\n",
            "Epoch 24/110.. Train loss: 1731.067.. Val loss: 62.507.. Train L1 norm: 3115.736.. Val L1 norm: 127.298.. Train Linf norm: 185041.021.. Val Linf norm: 9271.455\n",
            "Epoch 25/110.. Train loss: 9710.901.. Val loss: 14.118.. Train L1 norm: 15136.101.. Val L1 norm: 29.303.. Train Linf norm: 701230.863.. Val Linf norm: 2305.011\n",
            "Epoch 26/110.. Train loss: 4809.310.. Val loss: 199.632.. Train L1 norm: 11128.678.. Val L1 norm: 294.882.. Train Linf norm: 726804.898.. Val Linf norm: 19349.107\n",
            "Epoch 27/110.. Train loss: 700.678.. Val loss: 36.900.. Train L1 norm: 1688.246.. Val L1 norm: 83.256.. Train Linf norm: 138109.191.. Val Linf norm: 6110.398\n",
            "Epoch 28/110.. Train loss: 252.147.. Val loss: 37.842.. Train L1 norm: 561.792.. Val L1 norm: 74.597.. Train Linf norm: 43634.289.. Val Linf norm: 5310.539\n",
            "Epoch 29/110.. Train loss: 118.407.. Val loss: 14.439.. Train L1 norm: 295.692.. Val L1 norm: 28.286.. Train Linf norm: 24051.393.. Val Linf norm: 2008.258\n",
            "Epoch 30/110.. Train loss: 62.894.. Val loss: 4.648.. Train L1 norm: 132.915.. Val L1 norm: 4.862.. Train Linf norm: 9677.654.. Val Linf norm: 281.709\n",
            "Epoch 31/110.. Train loss: 43.540.. Val loss: 7.536.. Train L1 norm: 96.083.. Val L1 norm: 11.468.. Train Linf norm: 7211.167.. Val Linf norm: 783.030\n",
            "Epoch 32/110.. Train loss: 30.979.. Val loss: 3.347.. Train L1 norm: 60.375.. Val L1 norm: 2.331.. Train Linf norm: 4295.772.. Val Linf norm: 129.109\n",
            "Epoch 33/110.. Train loss: 24.572.. Val loss: 3.106.. Train L1 norm: 56.944.. Val L1 norm: 1.851.. Train Linf norm: 4639.433.. Val Linf norm: 79.766\n",
            "Epoch 34/110.. Train loss: 19.968.. Val loss: 5.188.. Train L1 norm: 47.624.. Val L1 norm: 5.884.. Train Linf norm: 3735.074.. Val Linf norm: 395.262\n",
            "Epoch 35/110.. Train loss: 15.511.. Val loss: 2.956.. Train L1 norm: 32.806.. Val L1 norm: 2.212.. Train Linf norm: 2445.940.. Val Linf norm: 114.101\n",
            "Epoch 36/110.. Train loss: 12.129.. Val loss: 3.501.. Train L1 norm: 28.618.. Val L1 norm: 8.148.. Train Linf norm: 2164.621.. Val Linf norm: 569.004\n",
            "Epoch 37/110.. Train loss: 11.935.. Val loss: 4.529.. Train L1 norm: 22.820.. Val L1 norm: 10.912.. Train Linf norm: 1563.048.. Val Linf norm: 780.756\n",
            "Epoch 38/110.. Train loss: 10.099.. Val loss: 46.432.. Train L1 norm: 22.889.. Val L1 norm: 90.749.. Train Linf norm: 1776.363.. Val Linf norm: 6171.443\n",
            "Epoch 39/110.. Train loss: 9.487.. Val loss: 2.622.. Train L1 norm: 24.155.. Val L1 norm: 3.973.. Train Linf norm: 2055.243.. Val Linf norm: 268.144\n",
            "Epoch 40/110.. Train loss: 5.730.. Val loss: 2.381.. Train L1 norm: 12.868.. Val L1 norm: 3.502.. Train Linf norm: 1023.146.. Val Linf norm: 227.945\n",
            "Epoch 41/110.. Train loss: 4.917.. Val loss: 2.441.. Train L1 norm: 8.517.. Val L1 norm: 1.548.. Train Linf norm: 599.609.. Val Linf norm: 57.351\n",
            "Epoch 42/110.. Train loss: 3.973.. Val loss: 2.304.. Train L1 norm: 8.618.. Val L1 norm: 2.125.. Train Linf norm: 673.828.. Val Linf norm: 112.072\n",
            "Epoch 43/110.. Train loss: 3.840.. Val loss: 2.308.. Train L1 norm: 8.392.. Val L1 norm: 2.384.. Train Linf norm: 657.266.. Val Linf norm: 133.555\n",
            "Epoch 44/110.. Train loss: 3.627.. Val loss: 2.409.. Train L1 norm: 8.239.. Val L1 norm: 1.569.. Train Linf norm: 672.464.. Val Linf norm: 59.800\n",
            "Epoch 45/110.. Train loss: 3.521.. Val loss: 2.291.. Train L1 norm: 6.659.. Val L1 norm: 2.390.. Train Linf norm: 488.209.. Val Linf norm: 133.732\n",
            "Epoch 46/110.. Train loss: 3.247.. Val loss: 3.069.. Train L1 norm: 6.494.. Val L1 norm: 2.107.. Train Linf norm: 485.623.. Val Linf norm: 100.583\n",
            "Epoch 47/110.. Train loss: 3.285.. Val loss: 2.277.. Train L1 norm: 5.875.. Val L1 norm: 2.919.. Train Linf norm: 424.099.. Val Linf norm: 178.187\n",
            "Epoch 48/110.. Train loss: 2.978.. Val loss: 2.257.. Train L1 norm: 6.560.. Val L1 norm: 3.058.. Train Linf norm: 524.911.. Val Linf norm: 189.701\n",
            "Epoch 49/110.. Train loss: 3.047.. Val loss: 2.286.. Train L1 norm: 5.702.. Val L1 norm: 2.052.. Train Linf norm: 423.290.. Val Linf norm: 104.604\n",
            "Epoch 50/110.. Train loss: 2.872.. Val loss: 2.243.. Train L1 norm: 5.420.. Val L1 norm: 2.295.. Train Linf norm: 389.193.. Val Linf norm: 126.234\n",
            "Epoch 51/110.. Train loss: 2.832.. Val loss: 2.287.. Train L1 norm: 5.579.. Val L1 norm: 2.011.. Train Linf norm: 412.811.. Val Linf norm: 100.351\n",
            "Epoch 52/110.. Train loss: 2.794.. Val loss: 2.254.. Train L1 norm: 6.169.. Val L1 norm: 2.365.. Train Linf norm: 506.035.. Val Linf norm: 131.843\n",
            "Epoch 53/110.. Train loss: 2.532.. Val loss: 2.247.. Train L1 norm: 4.888.. Val L1 norm: 2.308.. Train Linf norm: 361.464.. Val Linf norm: 127.124\n",
            "Epoch 54/110.. Train loss: 2.511.. Val loss: 2.262.. Train L1 norm: 5.702.. Val L1 norm: 2.042.. Train Linf norm: 451.656.. Val Linf norm: 103.514\n",
            "Epoch 55/110.. Train loss: 2.533.. Val loss: 2.256.. Train L1 norm: 5.323.. Val L1 norm: 2.075.. Train Linf norm: 421.429.. Val Linf norm: 106.559\n",
            "Epoch 56/110.. Train loss: 2.524.. Val loss: 2.231.. Train L1 norm: 5.589.. Val L1 norm: 2.283.. Train Linf norm: 444.819.. Val Linf norm: 124.640\n",
            "Epoch 57/110.. Train loss: 2.520.. Val loss: 2.231.. Train L1 norm: 5.873.. Val L1 norm: 2.185.. Train Linf norm: 484.067.. Val Linf norm: 116.307\n",
            "Epoch 58/110.. Train loss: 2.468.. Val loss: 2.202.. Train L1 norm: 4.302.. Val L1 norm: 2.353.. Train Linf norm: 288.938.. Val Linf norm: 131.011\n",
            "Epoch 59/110.. Train loss: 2.545.. Val loss: 2.212.. Train L1 norm: 4.473.. Val L1 norm: 2.399.. Train Linf norm: 300.569.. Val Linf norm: 134.843\n",
            "Epoch 60/110.. Train loss: 2.406.. Val loss: 2.210.. Train L1 norm: 4.491.. Val L1 norm: 2.397.. Train Linf norm: 304.274.. Val Linf norm: 134.402\n",
            "Epoch 61/110.. Train loss: 2.380.. Val loss: 2.209.. Train L1 norm: 5.341.. Val L1 norm: 2.419.. Train Linf norm: 414.003.. Val Linf norm: 136.292\n",
            "Epoch 62/110.. Train loss: 2.345.. Val loss: 2.182.. Train L1 norm: 5.220.. Val L1 norm: 2.577.. Train Linf norm: 404.815.. Val Linf norm: 149.835\n",
            "Epoch 63/110.. Train loss: 2.352.. Val loss: 2.197.. Train L1 norm: 3.828.. Val L1 norm: 2.466.. Train Linf norm: 221.605.. Val Linf norm: 140.533\n",
            "Epoch 64/110.. Train loss: 2.480.. Val loss: 2.177.. Train L1 norm: 4.390.. Val L1 norm: 2.500.. Train Linf norm: 309.479.. Val Linf norm: 143.415\n",
            "Epoch 65/110.. Train loss: 2.341.. Val loss: 2.217.. Train L1 norm: 4.686.. Val L1 norm: 2.095.. Train Linf norm: 343.580.. Val Linf norm: 108.071\n",
            "Epoch 66/110.. Train loss: 2.281.. Val loss: 2.174.. Train L1 norm: 4.282.. Val L1 norm: 2.343.. Train Linf norm: 304.002.. Val Linf norm: 129.967\n",
            "Epoch 67/110.. Train loss: 2.255.. Val loss: 2.180.. Train L1 norm: 3.844.. Val L1 norm: 2.320.. Train Linf norm: 237.140.. Val Linf norm: 128.093\n",
            "Epoch 68/110.. Train loss: 2.333.. Val loss: 2.186.. Train L1 norm: 4.784.. Val L1 norm: 2.304.. Train Linf norm: 353.524.. Val Linf norm: 126.725\n",
            "Epoch 69/110.. Train loss: 2.293.. Val loss: 2.175.. Train L1 norm: 3.948.. Val L1 norm: 2.433.. Train Linf norm: 258.813.. Val Linf norm: 137.733\n",
            "Epoch 70/110.. Train loss: 2.263.. Val loss: 2.167.. Train L1 norm: 4.602.. Val L1 norm: 2.493.. Train Linf norm: 334.666.. Val Linf norm: 142.870\n",
            "Epoch 71/110.. Train loss: 2.300.. Val loss: 2.178.. Train L1 norm: 4.756.. Val L1 norm: 2.416.. Train Linf norm: 350.659.. Val Linf norm: 136.334\n",
            "Epoch 72/110.. Train loss: 2.305.. Val loss: 2.172.. Train L1 norm: 5.178.. Val L1 norm: 2.465.. Train Linf norm: 406.787.. Val Linf norm: 140.375\n",
            "Epoch 73/110.. Train loss: 2.299.. Val loss: 2.174.. Train L1 norm: 4.402.. Val L1 norm: 2.409.. Train Linf norm: 304.699.. Val Linf norm: 135.693\n",
            "Epoch 74/110.. Train loss: 2.298.. Val loss: 2.186.. Train L1 norm: 4.198.. Val L1 norm: 2.237.. Train Linf norm: 290.351.. Val Linf norm: 120.930\n",
            "Epoch 75/110.. Train loss: 2.245.. Val loss: 2.172.. Train L1 norm: 4.772.. Val L1 norm: 2.338.. Train Linf norm: 359.013.. Val Linf norm: 129.677\n",
            "Epoch 76/110.. Train loss: 2.258.. Val loss: 2.159.. Train L1 norm: 4.561.. Val L1 norm: 2.502.. Train Linf norm: 323.836.. Val Linf norm: 143.517\n",
            "Epoch 77/110.. Train loss: 2.293.. Val loss: 2.176.. Train L1 norm: 4.161.. Val L1 norm: 2.273.. Train Linf norm: 280.058.. Val Linf norm: 123.986\n",
            "Epoch 78/110.. Train loss: 2.263.. Val loss: 2.162.. Train L1 norm: 4.776.. Val L1 norm: 2.410.. Train Linf norm: 361.199.. Val Linf norm: 135.791\n",
            "Epoch 79/110.. Train loss: 2.313.. Val loss: 2.167.. Train L1 norm: 4.415.. Val L1 norm: 2.355.. Train Linf norm: 305.363.. Val Linf norm: 131.068\n",
            "Epoch 80/110.. Train loss: 2.276.. Val loss: 2.165.. Train L1 norm: 4.164.. Val L1 norm: 2.387.. Train Linf norm: 271.151.. Val Linf norm: 133.867\n",
            "Epoch 81/110.. Train loss: 2.257.. Val loss: 2.164.. Train L1 norm: 4.421.. Val L1 norm: 2.395.. Train Linf norm: 307.683.. Val Linf norm: 134.542\n",
            "Epoch 82/110.. Train loss: 2.306.. Val loss: 2.167.. Train L1 norm: 3.909.. Val L1 norm: 2.363.. Train Linf norm: 239.781.. Val Linf norm: 131.766\n",
            "Epoch 83/110.. Train loss: 2.254.. Val loss: 2.166.. Train L1 norm: 4.282.. Val L1 norm: 2.387.. Train Linf norm: 284.840.. Val Linf norm: 133.810\n",
            "Epoch 84/110.. Train loss: 2.276.. Val loss: 2.165.. Train L1 norm: 4.681.. Val L1 norm: 2.398.. Train Linf norm: 340.578.. Val Linf norm: 134.766\n",
            "Epoch 85/110.. Train loss: 2.216.. Val loss: 2.166.. Train L1 norm: 4.760.. Val L1 norm: 2.378.. Train Linf norm: 350.306.. Val Linf norm: 133.092\n",
            "Epoch 86/110.. Train loss: 2.238.. Val loss: 2.164.. Train L1 norm: 4.481.. Val L1 norm: 2.399.. Train Linf norm: 311.881.. Val Linf norm: 134.883\n",
            "Epoch 87/110.. Train loss: 2.225.. Val loss: 2.164.. Train L1 norm: 4.635.. Val L1 norm: 2.424.. Train Linf norm: 329.084.. Val Linf norm: 136.977\n",
            "Epoch 88/110.. Train loss: 2.301.. Val loss: 2.168.. Train L1 norm: 4.626.. Val L1 norm: 2.369.. Train Linf norm: 335.196.. Val Linf norm: 132.328\n",
            "Epoch 89/110.. Train loss: 2.228.. Val loss: 2.163.. Train L1 norm: 4.047.. Val L1 norm: 2.437.. Train Linf norm: 257.580.. Val Linf norm: 138.079\n",
            "Epoch 90/110.. Train loss: 2.239.. Val loss: 2.165.. Train L1 norm: 4.614.. Val L1 norm: 2.432.. Train Linf norm: 325.430.. Val Linf norm: 137.677\n",
            "Epoch 91/110.. Train loss: 2.336.. Val loss: 2.169.. Train L1 norm: 4.137.. Val L1 norm: 2.365.. Train Linf norm: 273.472.. Val Linf norm: 131.948\n",
            "Epoch 92/110.. Train loss: 2.252.. Val loss: 2.169.. Train L1 norm: 4.767.. Val L1 norm: 2.373.. Train Linf norm: 355.419.. Val Linf norm: 132.664\n",
            "Epoch 93/110.. Train loss: 2.247.. Val loss: 2.169.. Train L1 norm: 4.472.. Val L1 norm: 2.372.. Train Linf norm: 319.550.. Val Linf norm: 132.583\n",
            "Epoch 94/110.. Train loss: 2.258.. Val loss: 2.169.. Train L1 norm: 4.027.. Val L1 norm: 2.371.. Train Linf norm: 257.697.. Val Linf norm: 132.434\n",
            "Epoch 95/110.. Train loss: 2.324.. Val loss: 2.168.. Train L1 norm: 4.657.. Val L1 norm: 2.387.. Train Linf norm: 341.504.. Val Linf norm: 133.791\n",
            "Epoch 96/110.. Train loss: 2.242.. Val loss: 2.167.. Train L1 norm: 5.288.. Val L1 norm: 2.394.. Train Linf norm: 423.188.. Val Linf norm: 134.433\n",
            "Epoch 97/110.. Train loss: 2.225.. Val loss: 2.168.. Train L1 norm: 4.856.. Val L1 norm: 2.388.. Train Linf norm: 361.339.. Val Linf norm: 133.902\n",
            "Epoch 98/110.. Train loss: 2.244.. Val loss: 2.169.. Train L1 norm: 4.387.. Val L1 norm: 2.373.. Train Linf norm: 303.614.. Val Linf norm: 132.642\n",
            "Epoch 99/110.. Train loss: 2.292.. Val loss: 2.168.. Train L1 norm: 4.854.. Val L1 norm: 2.382.. Train Linf norm: 368.467.. Val Linf norm: 133.369\n",
            "Epoch 100/110.. Train loss: 2.255.. Val loss: 2.168.. Train L1 norm: 4.197.. Val L1 norm: 2.377.. Train Linf norm: 282.198.. Val Linf norm: 133.013\n",
            "Epoch 101/110.. Train loss: 2.306.. Val loss: 2.169.. Train L1 norm: 4.682.. Val L1 norm: 2.369.. Train Linf norm: 338.742.. Val Linf norm: 132.275\n",
            "Epoch 102/110.. Train loss: 2.206.. Val loss: 2.168.. Train L1 norm: 4.547.. Val L1 norm: 2.377.. Train Linf norm: 326.139.. Val Linf norm: 132.993\n",
            "Epoch 103/110.. Train loss: 2.313.. Val loss: 2.168.. Train L1 norm: 4.606.. Val L1 norm: 2.377.. Train Linf norm: 333.338.. Val Linf norm: 132.947\n",
            "Epoch 104/110.. Train loss: 2.270.. Val loss: 2.169.. Train L1 norm: 4.315.. Val L1 norm: 2.372.. Train Linf norm: 296.668.. Val Linf norm: 132.594\n",
            "Epoch 105/110.. Train loss: 2.241.. Val loss: 2.168.. Train L1 norm: 4.989.. Val L1 norm: 2.374.. Train Linf norm: 382.660.. Val Linf norm: 132.750\n",
            "Epoch 106/110.. Train loss: 2.241.. Val loss: 2.168.. Train L1 norm: 4.195.. Val L1 norm: 2.374.. Train Linf norm: 283.304.. Val Linf norm: 132.735\n",
            "Epoch 107/110.. Train loss: 2.235.. Val loss: 2.168.. Train L1 norm: 4.471.. Val L1 norm: 2.377.. Train Linf norm: 317.765.. Val Linf norm: 132.980\n",
            "Epoch 108/110.. Train loss: 2.279.. Val loss: 2.168.. Train L1 norm: 4.428.. Val L1 norm: 2.376.. Train Linf norm: 311.315.. Val Linf norm: 132.923\n",
            "Epoch 109/110.. Train loss: 2.306.. Val loss: 2.168.. Train L1 norm: 4.843.. Val L1 norm: 2.377.. Train Linf norm: 363.075.. Val Linf norm: 132.957\n"
          ]
        },
        {
          "output_type": "stream",
          "name": "stderr",
          "text": [
            "[I 2023-05-31 13:11:38,962] Trial 3 finished with value: 2.3759308481852215 and parameters: {'n_layers': 9, 'n_units_0': 2955, 'n_units_1': 846, 'n_units_2': 3700, 'n_units_3': 3922, 'n_units_4': 2122, 'n_units_5': 1076, 'n_units_6': 1521, 'n_units_7': 1033, 'n_units_8': 1192, 'hidden_activation': 'LeakyReLU', 'output_activation': 'Linear', 'loss': 'Quantile', 'optimizer': 'RMSprop', 'lr': 0.0030427524598747213, 'batch_size': 128, 'n_epochs': 110, 'scheduler': 'StepLR', 'leakyrelu_slope': 0.1500085003035529, 'dropout_rate': 0.2707090365080101, 'step_size': 13, 'gamma': 0.1790992971147002}. Best is trial 1 with value: 2.0147288665771486.\n"
          ]
        },
        {
          "output_type": "stream",
          "name": "stdout",
          "text": [
            "Epoch 110/110.. Train loss: 2.234.. Val loss: 2.168.. Train L1 norm: 4.866.. Val L1 norm: 2.376.. Train Linf norm: 364.849.. Val Linf norm: 132.897\n"
          ]
        },
        {
          "output_type": "stream",
          "name": "stderr",
          "text": [
            "<ipython-input-37-5ce9a06c2c29>:168: FutureWarning: suggest_uniform has been deprecated in v3.0.0. This feature will be removed in v6.0.0. See https://github.com/optuna/optuna/releases/tag/v3.0.0. Use suggest_float instead.\n",
            "  t_max_fraction = trial.suggest_uniform('t_max_fraction', 0.1, 0.3)\n",
            "<ipython-input-37-5ce9a06c2c29>:175: FutureWarning: suggest_loguniform has been deprecated in v3.0.0. This feature will be removed in v6.0.0. See https://github.com/optuna/optuna/releases/tag/v3.0.0. Use suggest_float(..., log=True) instead.\n",
            "  eta_min = trial.suggest_loguniform(\"eta_min\", 1e-7, 1e-2)\n"
          ]
        },
        {
          "output_type": "stream",
          "name": "stdout",
          "text": [
            "Epoch 1/73.. Train loss: 8846.666.. Val loss: 184.344.. Train L1 norm: 9.475.. Val L1 norm: 2.466.. Train Linf norm: 2266.149.. Val Linf norm: 405.678\n",
            "Epoch 2/73.. Train loss: 8062.153.. Val loss: 1336.338.. Train L1 norm: 9.566.. Val L1 norm: 7.963.. Train Linf norm: 2601.447.. Val Linf norm: 1577.348\n",
            "Epoch 3/73.. Train loss: 13414.554.. Val loss: 264.461.. Train L1 norm: 8.051.. Val L1 norm: 2.098.. Train Linf norm: 1718.135.. Val Linf norm: 242.588\n",
            "Epoch 4/73.. Train loss: 20730.258.. Val loss: 143.555.. Train L1 norm: 11.933.. Val L1 norm: 3.042.. Train Linf norm: 3451.758.. Val Linf norm: 639.875\n",
            "Epoch 5/73.. Train loss: 10273.588.. Val loss: 2446.827.. Train L1 norm: 9.214.. Val L1 norm: 9.959.. Train Linf norm: 2295.882.. Val Linf norm: 1749.416\n",
            "Epoch 6/73.. Train loss: 8550.623.. Val loss: 1172.842.. Train L1 norm: 12.644.. Val L1 norm: 5.969.. Train Linf norm: 3577.976.. Val Linf norm: 1061.925\n",
            "Epoch 7/73.. Train loss: 4557.705.. Val loss: 352.300.. Train L1 norm: 11.183.. Val L1 norm: 3.015.. Train Linf norm: 3078.453.. Val Linf norm: 456.400\n",
            "Epoch 8/73.. Train loss: 8240.176.. Val loss: 590.960.. Train L1 norm: 11.421.. Val L1 norm: 5.016.. Train Linf norm: 3124.011.. Val Linf norm: 827.664\n",
            "Epoch 9/73.. Train loss: 10334.233.. Val loss: 3404.437.. Train L1 norm: 14.069.. Val L1 norm: 8.217.. Train Linf norm: 3816.264.. Val Linf norm: 1562.244\n",
            "Epoch 10/73.. Train loss: 9705.364.. Val loss: 939.984.. Train L1 norm: 9.522.. Val L1 norm: 4.348.. Train Linf norm: 1768.525.. Val Linf norm: 776.458\n",
            "Epoch 11/73.. Train loss: 18569.597.. Val loss: 1300.480.. Train L1 norm: 15.530.. Val L1 norm: 4.577.. Train Linf norm: 3585.236.. Val Linf norm: 840.213\n",
            "Epoch 12/73.. Train loss: 30528.706.. Val loss: 569.567.. Train L1 norm: 16.809.. Val L1 norm: 6.876.. Train Linf norm: 4923.632.. Val Linf norm: 1677.707\n",
            "Epoch 13/73.. Train loss: 23932.782.. Val loss: 449.065.. Train L1 norm: 13.941.. Val L1 norm: 4.319.. Train Linf norm: 3086.925.. Val Linf norm: 872.442\n",
            "Epoch 14/73.. Train loss: 37725.990.. Val loss: 255.806.. Train L1 norm: 23.478.. Val L1 norm: 2.681.. Train Linf norm: 6678.055.. Val Linf norm: 386.675\n",
            "Epoch 15/73.. Train loss: 72035.123.. Val loss: 1333.755.. Train L1 norm: 28.865.. Val L1 norm: 5.611.. Train Linf norm: 9864.910.. Val Linf norm: 993.493\n",
            "Epoch 16/73.. Train loss: 56056.080.. Val loss: 230.340.. Train L1 norm: 21.691.. Val L1 norm: 5.560.. Train Linf norm: 5870.394.. Val Linf norm: 1146.156\n",
            "Epoch 17/73.. Train loss: 45002.898.. Val loss: 780.654.. Train L1 norm: 14.559.. Val L1 norm: 4.245.. Train Linf norm: 3353.411.. Val Linf norm: 746.741\n",
            "Epoch 18/73.. Train loss: 26603.441.. Val loss: 1865.195.. Train L1 norm: 15.844.. Val L1 norm: 5.944.. Train Linf norm: 4051.923.. Val Linf norm: 1029.477\n",
            "Epoch 19/73.. Train loss: 91078.466.. Val loss: 1830.069.. Train L1 norm: 14.946.. Val L1 norm: 5.543.. Train Linf norm: 3210.395.. Val Linf norm: 1039.621\n",
            "Epoch 20/73.. Train loss: 17229.040.. Val loss: 518.538.. Train L1 norm: 14.652.. Val L1 norm: 3.191.. Train Linf norm: 3570.251.. Val Linf norm: 595.056\n",
            "Epoch 21/73.. Train loss: 31835.219.. Val loss: 304.420.. Train L1 norm: 16.001.. Val L1 norm: 3.669.. Train Linf norm: 4579.143.. Val Linf norm: 665.651\n",
            "Epoch 22/73.. Train loss: 29041.231.. Val loss: 6727.081.. Train L1 norm: 12.429.. Val L1 norm: 13.295.. Train Linf norm: 2898.444.. Val Linf norm: 2631.608\n",
            "Epoch 23/73.. Train loss: 87315.071.. Val loss: 12446.718.. Train L1 norm: 14.091.. Val L1 norm: 17.043.. Train Linf norm: 3151.836.. Val Linf norm: 3080.885\n",
            "Epoch 24/73.. Train loss: 24351.190.. Val loss: 978.015.. Train L1 norm: 19.667.. Val L1 norm: 3.122.. Train Linf norm: 6280.064.. Val Linf norm: 503.698\n",
            "Epoch 25/73.. Train loss: 15935.384.. Val loss: 429.086.. Train L1 norm: 13.255.. Val L1 norm: 5.216.. Train Linf norm: 3382.259.. Val Linf norm: 1083.860\n",
            "Epoch 26/73.. Train loss: 25482.162.. Val loss: 350.470.. Train L1 norm: 12.398.. Val L1 norm: 4.957.. Train Linf norm: 2970.363.. Val Linf norm: 1202.716\n",
            "Epoch 27/73.. Train loss: 26883.419.. Val loss: 357.742.. Train L1 norm: 14.364.. Val L1 norm: 2.572.. Train Linf norm: 4151.042.. Val Linf norm: 394.384\n",
            "Epoch 28/73.. Train loss: 10791.979.. Val loss: 427.559.. Train L1 norm: 12.292.. Val L1 norm: 3.181.. Train Linf norm: 3103.041.. Val Linf norm: 628.644\n",
            "Epoch 29/73.. Train loss: 25338.540.. Val loss: 487.239.. Train L1 norm: 16.423.. Val L1 norm: 3.199.. Train Linf norm: 5103.748.. Val Linf norm: 553.792\n",
            "Epoch 30/73.. Train loss: 13290.857.. Val loss: 1845.474.. Train L1 norm: 12.508.. Val L1 norm: 5.157.. Train Linf norm: 3360.369.. Val Linf norm: 839.580\n",
            "Epoch 31/73.. Train loss: 47500.014.. Val loss: 4687.604.. Train L1 norm: 12.501.. Val L1 norm: 9.490.. Train Linf norm: 3218.601.. Val Linf norm: 1582.526\n",
            "Epoch 32/73.. Train loss: 45526.493.. Val loss: 954.148.. Train L1 norm: 12.966.. Val L1 norm: 4.872.. Train Linf norm: 3100.201.. Val Linf norm: 943.865\n",
            "Epoch 33/73.. Train loss: 33257.611.. Val loss: 1967.073.. Train L1 norm: 12.544.. Val L1 norm: 5.557.. Train Linf norm: 3209.487.. Val Linf norm: 898.718\n",
            "Epoch 34/73.. Train loss: 22471.795.. Val loss: 4258.055.. Train L1 norm: 14.996.. Val L1 norm: 7.891.. Train Linf norm: 4419.381.. Val Linf norm: 1170.526\n",
            "Epoch 35/73.. Train loss: 12290.899.. Val loss: 828.615.. Train L1 norm: 14.437.. Val L1 norm: 11.394.. Train Linf norm: 4116.851.. Val Linf norm: 2501.752\n",
            "Epoch 36/73.. Train loss: 11566.271.. Val loss: 916.466.. Train L1 norm: 12.817.. Val L1 norm: 10.166.. Train Linf norm: 3265.955.. Val Linf norm: 2221.175\n",
            "Epoch 37/73.. Train loss: 41925.694.. Val loss: 8893.994.. Train L1 norm: 16.849.. Val L1 norm: 21.753.. Train Linf norm: 5264.030.. Val Linf norm: 4186.043\n",
            "Epoch 38/73.. Train loss: 26507.319.. Val loss: 2581.653.. Train L1 norm: 16.290.. Val L1 norm: 6.667.. Train Linf norm: 4396.608.. Val Linf norm: 1156.176\n",
            "Epoch 39/73.. Train loss: 41758.279.. Val loss: 2069.424.. Train L1 norm: 15.502.. Val L1 norm: 5.734.. Train Linf norm: 4299.428.. Val Linf norm: 948.438\n",
            "Epoch 40/73.. Train loss: 24043.457.. Val loss: 795.110.. Train L1 norm: 17.771.. Val L1 norm: 3.022.. Train Linf norm: 5744.361.. Val Linf norm: 436.050\n",
            "Epoch 41/73.. Train loss: 40228.114.. Val loss: 2107.038.. Train L1 norm: 12.460.. Val L1 norm: 4.974.. Train Linf norm: 3338.552.. Val Linf norm: 760.894\n",
            "Epoch 42/73.. Train loss: 15275.731.. Val loss: 215.144.. Train L1 norm: 11.854.. Val L1 norm: 5.823.. Train Linf norm: 2960.358.. Val Linf norm: 1272.691\n",
            "Epoch 43/73.. Train loss: 16076.632.. Val loss: 181.540.. Train L1 norm: 16.900.. Val L1 norm: 4.047.. Train Linf norm: 5242.974.. Val Linf norm: 823.163\n",
            "Epoch 44/73.. Train loss: 12873.436.. Val loss: 105.267.. Train L1 norm: 10.741.. Val L1 norm: 3.589.. Train Linf norm: 2668.921.. Val Linf norm: 677.759\n",
            "Epoch 45/73.. Train loss: 12780.344.. Val loss: 311.787.. Train L1 norm: 13.323.. Val L1 norm: 4.227.. Train Linf norm: 3970.741.. Val Linf norm: 834.462\n",
            "Epoch 46/73.. Train loss: 16351.008.. Val loss: 1296.925.. Train L1 norm: 10.964.. Val L1 norm: 3.658.. Train Linf norm: 2802.247.. Val Linf norm: 625.819\n",
            "Epoch 47/73.. Train loss: 18795.186.. Val loss: 545.371.. Train L1 norm: 10.518.. Val L1 norm: 4.287.. Train Linf norm: 2259.871.. Val Linf norm: 856.929\n",
            "Epoch 48/73.. Train loss: 8869.703.. Val loss: 1138.280.. Train L1 norm: 11.031.. Val L1 norm: 3.610.. Train Linf norm: 2607.706.. Val Linf norm: 621.346\n",
            "Epoch 49/73.. Train loss: 20458.470.. Val loss: 1699.031.. Train L1 norm: 10.736.. Val L1 norm: 4.291.. Train Linf norm: 2539.968.. Val Linf norm: 724.829\n",
            "Epoch 50/73.. Train loss: 20621.097.. Val loss: 188.210.. Train L1 norm: 11.217.. Val L1 norm: 5.587.. Train Linf norm: 2733.701.. Val Linf norm: 1166.302\n",
            "Epoch 51/73.. Train loss: 15315.702.. Val loss: 472.949.. Train L1 norm: 13.639.. Val L1 norm: 9.159.. Train Linf norm: 3702.764.. Val Linf norm: 1789.170\n",
            "Epoch 52/73.. Train loss: 17997.799.. Val loss: 261.638.. Train L1 norm: 14.159.. Val L1 norm: 5.892.. Train Linf norm: 4094.840.. Val Linf norm: 1147.413\n",
            "Epoch 53/73.. Train loss: 27377.021.. Val loss: 132.168.. Train L1 norm: 13.346.. Val L1 norm: 3.571.. Train Linf norm: 3090.640.. Val Linf norm: 663.623\n",
            "Epoch 54/73.. Train loss: 22418.055.. Val loss: 1830.802.. Train L1 norm: 10.264.. Val L1 norm: 4.751.. Train Linf norm: 2419.410.. Val Linf norm: 852.177\n",
            "Epoch 55/73.. Train loss: 16129.505.. Val loss: 394.745.. Train L1 norm: 11.919.. Val L1 norm: 3.948.. Train Linf norm: 3295.886.. Val Linf norm: 768.179\n",
            "Epoch 56/73.. Train loss: 22281.842.. Val loss: 159.325.. Train L1 norm: 11.450.. Val L1 norm: 4.835.. Train Linf norm: 2783.861.. Val Linf norm: 957.870\n",
            "Epoch 57/73.. Train loss: 17901.074.. Val loss: 431.863.. Train L1 norm: 10.235.. Val L1 norm: 3.542.. Train Linf norm: 2483.515.. Val Linf norm: 754.055\n",
            "Epoch 58/73.. Train loss: 14793.724.. Val loss: 371.489.. Train L1 norm: 10.416.. Val L1 norm: 3.098.. Train Linf norm: 2676.851.. Val Linf norm: 523.457\n",
            "Epoch 59/73.. Train loss: 18440.402.. Val loss: 1203.813.. Train L1 norm: 13.131.. Val L1 norm: 9.882.. Train Linf norm: 3828.982.. Val Linf norm: 1869.035\n",
            "Epoch 60/73.. Train loss: 22326.480.. Val loss: 1401.450.. Train L1 norm: 12.553.. Val L1 norm: 9.010.. Train Linf norm: 3527.810.. Val Linf norm: 1700.718\n",
            "Epoch 61/73.. Train loss: 25642.965.. Val loss: 1212.733.. Train L1 norm: 10.968.. Val L1 norm: 7.775.. Train Linf norm: 2368.526.. Val Linf norm: 1507.476\n",
            "Epoch 62/73.. Train loss: 7204.473.. Val loss: 192.717.. Train L1 norm: 8.333.. Val L1 norm: 2.905.. Train Linf norm: 1405.513.. Val Linf norm: 508.832\n",
            "Epoch 63/73.. Train loss: 9088.176.. Val loss: 1451.826.. Train L1 norm: 10.262.. Val L1 norm: 5.357.. Train Linf norm: 2368.496.. Val Linf norm: 972.117\n",
            "Epoch 64/73.. Train loss: 29402.000.. Val loss: 150.835.. Train L1 norm: 9.918.. Val L1 norm: 3.285.. Train Linf norm: 2334.147.. Val Linf norm: 617.709\n",
            "Epoch 65/73.. Train loss: 14416.843.. Val loss: 1253.280.. Train L1 norm: 11.447.. Val L1 norm: 7.026.. Train Linf norm: 2733.045.. Val Linf norm: 1326.520\n",
            "Epoch 66/73.. Train loss: 9670.658.. Val loss: 121.004.. Train L1 norm: 11.604.. Val L1 norm: 2.839.. Train Linf norm: 3238.973.. Val Linf norm: 507.757\n",
            "Epoch 67/73.. Train loss: 21437.232.. Val loss: 420.527.. Train L1 norm: 12.691.. Val L1 norm: 4.357.. Train Linf norm: 3555.418.. Val Linf norm: 800.426\n",
            "Epoch 68/73.. Train loss: 6332.444.. Val loss: 129.631.. Train L1 norm: 9.011.. Val L1 norm: 3.429.. Train Linf norm: 2119.777.. Val Linf norm: 646.064\n",
            "Epoch 69/73.. Train loss: 4969.351.. Val loss: 72.828.. Train L1 norm: 11.811.. Val L1 norm: 2.825.. Train Linf norm: 3496.945.. Val Linf norm: 511.730\n",
            "Epoch 70/73.. Train loss: 21726.486.. Val loss: 175.788.. Train L1 norm: 12.689.. Val L1 norm: 3.681.. Train Linf norm: 3942.916.. Val Linf norm: 583.911\n",
            "Epoch 71/73.. Train loss: 12556.758.. Val loss: 675.875.. Train L1 norm: 9.860.. Val L1 norm: 3.184.. Train Linf norm: 2450.922.. Val Linf norm: 521.589\n",
            "Epoch 72/73.. Train loss: 49553.066.. Val loss: 681.438.. Train L1 norm: 9.259.. Val L1 norm: 6.970.. Train Linf norm: 2042.116.. Val Linf norm: 1439.893\n"
          ]
        },
        {
          "output_type": "stream",
          "name": "stderr",
          "text": [
            "[I 2023-05-31 13:13:54,278] Trial 4 finished with value: 2.5337240661621094 and parameters: {'n_layers': 2, 'n_units_0': 935, 'n_units_1': 686, 'hidden_activation': 'ReLU', 'output_activation': 'Linear', 'loss': 'MSE', 'optimizer': 'Adagrad', 'lr': 0.003505361374266204, 'batch_size': 512, 'n_epochs': 73, 'scheduler': 'CosineAnnealingLR', 'dropout_rate': 0.3318788711351496, 't_max_fraction': 0.1813816627405042, 'eta_min': 0.004920818868633669}. Best is trial 1 with value: 2.0147288665771486.\n"
          ]
        },
        {
          "output_type": "stream",
          "name": "stdout",
          "text": [
            "Epoch 73/73.. Train loss: 8253.099.. Val loss: 96.020.. Train L1 norm: 10.866.. Val L1 norm: 2.534.. Train Linf norm: 2933.739.. Val Linf norm: 414.023\n"
          ]
        },
        {
          "output_type": "stream",
          "name": "stderr",
          "text": [
            "<ipython-input-37-5ce9a06c2c29>:145: FutureWarning: suggest_loguniform has been deprecated in v3.0.0. This feature will be removed in v6.0.0. See https://github.com/optuna/optuna/releases/tag/v3.0.0. Use suggest_float(..., log=True) instead.\n",
            "  weight_decay = trial.suggest_loguniform(\"weight_decay\", 1e-5, 1e-2)\n",
            "<ipython-input-37-5ce9a06c2c29>:146: FutureWarning: suggest_uniform has been deprecated in v3.0.0. This feature will be removed in v6.0.0. See https://github.com/optuna/optuna/releases/tag/v3.0.0. Use suggest_float instead.\n",
            "  momentum = trial.suggest_uniform(\"momentum\", 0.0, 0.99)\n",
            "WARNING:tensorboardX.x2num:NaN or Inf found in input tensor.\n",
            "WARNING:tensorboardX.x2num:NaN or Inf found in input tensor.\n",
            "WARNING:tensorboardX.x2num:NaN or Inf found in input tensor.\n",
            "WARNING:tensorboardX.x2num:NaN or Inf found in input tensor.\n",
            "WARNING:tensorboardX.x2num:NaN or Inf found in input tensor.\n",
            "WARNING:tensorboardX.x2num:NaN or Inf found in input tensor.\n",
            "/usr/local/lib/python3.10/dist-packages/optuna/pruners/_percentile.py:20: RuntimeWarning: All-NaN slice encountered\n",
            "  return np.nanmin(values)\n",
            "[I 2023-05-31 13:14:05,198] Trial 5 pruned. \n"
          ]
        },
        {
          "output_type": "stream",
          "name": "stdout",
          "text": [
            "Epoch 1/125.. Train loss: nan.. Val loss: nan.. Train L1 norm: nan.. Val L1 norm: nan.. Train Linf norm: nan.. Val Linf norm: nan\n"
          ]
        },
        {
          "output_type": "stream",
          "name": "stderr",
          "text": [
            "[I 2023-05-31 13:14:43,453] Trial 6 pruned. \n"
          ]
        },
        {
          "output_type": "stream",
          "name": "stdout",
          "text": [
            "Epoch 1/105.. Train loss: 5.409.. Val loss: 4.664.. Train L1 norm: 6.149.. Val L1 norm: 3.994.. Train Linf norm: 137.928.. Val Linf norm: 77.038\n"
          ]
        },
        {
          "output_type": "stream",
          "name": "stderr",
          "text": [
            "[I 2023-05-31 13:14:47,423] Trial 7 pruned. \n"
          ]
        },
        {
          "output_type": "stream",
          "name": "stdout",
          "text": [
            "Epoch 1/114.. Train loss: 9.535.. Val loss: 4.520.. Train L1 norm: 10.166.. Val L1 norm: 3.928.. Train Linf norm: 1428.645.. Val Linf norm: 430.488\n"
          ]
        },
        {
          "output_type": "stream",
          "name": "stderr",
          "text": [
            "[I 2023-05-31 13:15:38,446] Trial 8 pruned. \n"
          ]
        },
        {
          "output_type": "stream",
          "name": "stdout",
          "text": [
            "Epoch 1/93.. Train loss: 15647067332145574.000.. Val loss: 95256602047616576.000.. Train L1 norm: 2822559.828.. Val L1 norm: 16760719.706.. Train Linf norm: 61427260.714.. Val Linf norm: 362284426.239\n"
          ]
        },
        {
          "output_type": "stream",
          "name": "stderr",
          "text": [
            "[I 2023-05-31 13:15:49,472] Trial 9 pruned. \n"
          ]
        },
        {
          "output_type": "stream",
          "name": "stdout",
          "text": [
            "Epoch 1/59.. Train loss: 10366.252.. Val loss: 92.240.. Train L1 norm: 17748.649.. Val L1 norm: 41.690.. Train Linf norm: 648551.995.. Val Linf norm: 4103.304\n",
            "Epoch 1/146.. Train loss: 4.246.. Val loss: 4.182.. Train L1 norm: 4.076.. Val L1 norm: 1.709.. Train Linf norm: 529.856.. Val Linf norm: 123.252\n",
            "Epoch 2/146.. Train loss: 4.172.. Val loss: 4.121.. Train L1 norm: 4.484.. Val L1 norm: 1.907.. Train Linf norm: 633.334.. Val Linf norm: 152.464\n",
            "Epoch 3/146.. Train loss: 4.120.. Val loss: 4.089.. Train L1 norm: 4.367.. Val L1 norm: 2.035.. Train Linf norm: 603.118.. Val Linf norm: 171.469\n",
            "Epoch 4/146.. Train loss: 4.108.. Val loss: 4.137.. Train L1 norm: 4.254.. Val L1 norm: 1.943.. Train Linf norm: 550.776.. Val Linf norm: 158.160\n",
            "Epoch 5/146.. Train loss: 4.092.. Val loss: 4.025.. Train L1 norm: 4.337.. Val L1 norm: 2.293.. Train Linf norm: 578.685.. Val Linf norm: 208.372\n",
            "Epoch 6/146.. Train loss: 4.022.. Val loss: 4.010.. Train L1 norm: 4.535.. Val L1 norm: 2.362.. Train Linf norm: 607.996.. Val Linf norm: 216.419\n",
            "Epoch 7/146.. Train loss: 4.047.. Val loss: 3.956.. Train L1 norm: 4.641.. Val L1 norm: 2.627.. Train Linf norm: 635.458.. Val Linf norm: 254.628\n",
            "Epoch 8/146.. Train loss: 4.005.. Val loss: 3.935.. Train L1 norm: 4.776.. Val L1 norm: 2.750.. Train Linf norm: 647.026.. Val Linf norm: 271.867\n",
            "Epoch 9/146.. Train loss: 3.941.. Val loss: 3.961.. Train L1 norm: 4.912.. Val L1 norm: 2.699.. Train Linf norm: 666.367.. Val Linf norm: 264.132\n",
            "Epoch 10/146.. Train loss: 3.987.. Val loss: 3.927.. Train L1 norm: 4.749.. Val L1 norm: 2.870.. Train Linf norm: 611.653.. Val Linf norm: 288.358\n",
            "Epoch 11/146.. Train loss: 3.947.. Val loss: 3.976.. Train L1 norm: 5.085.. Val L1 norm: 2.841.. Train Linf norm: 691.307.. Val Linf norm: 284.595\n",
            "Epoch 12/146.. Train loss: 3.859.. Val loss: 3.946.. Train L1 norm: 5.416.. Val L1 norm: 2.979.. Train Linf norm: 759.290.. Val Linf norm: 301.958\n",
            "Epoch 13/146.. Train loss: 3.910.. Val loss: 3.969.. Train L1 norm: 5.299.. Val L1 norm: 2.924.. Train Linf norm: 720.478.. Val Linf norm: 295.219\n",
            "Epoch 14/146.. Train loss: 3.910.. Val loss: 3.966.. Train L1 norm: 4.908.. Val L1 norm: 2.957.. Train Linf norm: 629.005.. Val Linf norm: 298.586\n",
            "Epoch 15/146.. Train loss: 3.870.. Val loss: 3.974.. Train L1 norm: 5.225.. Val L1 norm: 2.978.. Train Linf norm: 718.775.. Val Linf norm: 300.590\n",
            "Epoch 16/146.. Train loss: 3.892.. Val loss: 4.000.. Train L1 norm: 5.065.. Val L1 norm: 2.960.. Train Linf norm: 673.322.. Val Linf norm: 298.465\n",
            "Epoch 17/146.. Train loss: 3.862.. Val loss: 4.002.. Train L1 norm: 5.280.. Val L1 norm: 2.973.. Train Linf norm: 731.466.. Val Linf norm: 300.314\n",
            "Epoch 18/146.. Train loss: 3.859.. Val loss: 4.020.. Train L1 norm: 5.146.. Val L1 norm: 2.960.. Train Linf norm: 668.908.. Val Linf norm: 298.619\n",
            "Epoch 19/146.. Train loss: 3.870.. Val loss: 4.054.. Train L1 norm: 5.112.. Val L1 norm: 2.921.. Train Linf norm: 675.258.. Val Linf norm: 293.768\n",
            "Epoch 20/146.. Train loss: 3.909.. Val loss: 4.081.. Train L1 norm: 5.287.. Val L1 norm: 2.893.. Train Linf norm: 715.373.. Val Linf norm: 290.109\n",
            "Epoch 21/146.. Train loss: 3.875.. Val loss: 4.089.. Train L1 norm: 5.243.. Val L1 norm: 2.893.. Train Linf norm: 710.761.. Val Linf norm: 290.283\n",
            "Epoch 22/146.. Train loss: 3.830.. Val loss: 4.073.. Train L1 norm: 5.146.. Val L1 norm: 2.931.. Train Linf norm: 660.605.. Val Linf norm: 295.477\n",
            "Epoch 23/146.. Train loss: 3.889.. Val loss: 4.084.. Train L1 norm: 5.124.. Val L1 norm: 2.928.. Train Linf norm: 672.755.. Val Linf norm: 295.305\n",
            "Epoch 24/146.. Train loss: 3.820.. Val loss: 4.104.. Train L1 norm: 5.422.. Val L1 norm: 2.906.. Train Linf norm: 744.954.. Val Linf norm: 292.355\n",
            "Epoch 25/146.. Train loss: 3.854.. Val loss: 4.115.. Train L1 norm: 4.994.. Val L1 norm: 2.904.. Train Linf norm: 637.374.. Val Linf norm: 292.204\n",
            "Epoch 26/146.. Train loss: 3.883.. Val loss: 4.132.. Train L1 norm: 5.120.. Val L1 norm: 2.889.. Train Linf norm: 662.646.. Val Linf norm: 290.446\n",
            "Epoch 27/146.. Train loss: 3.879.. Val loss: 4.130.. Train L1 norm: 5.445.. Val L1 norm: 2.895.. Train Linf norm: 747.209.. Val Linf norm: 291.464\n",
            "Epoch 28/146.. Train loss: 3.826.. Val loss: 4.136.. Train L1 norm: 5.162.. Val L1 norm: 2.899.. Train Linf norm: 681.278.. Val Linf norm: 292.162\n",
            "Epoch 29/146.. Train loss: 3.864.. Val loss: 4.135.. Train L1 norm: 5.189.. Val L1 norm: 2.904.. Train Linf norm: 684.352.. Val Linf norm: 292.781\n",
            "Epoch 30/146.. Train loss: 3.854.. Val loss: 4.157.. Train L1 norm: 5.416.. Val L1 norm: 2.878.. Train Linf norm: 744.531.. Val Linf norm: 289.235\n",
            "Epoch 31/146.. Train loss: 3.847.. Val loss: 4.157.. Train L1 norm: 5.053.. Val L1 norm: 2.878.. Train Linf norm: 655.078.. Val Linf norm: 289.223\n",
            "Epoch 32/146.. Train loss: 3.868.. Val loss: 4.158.. Train L1 norm: 5.381.. Val L1 norm: 2.877.. Train Linf norm: 726.976.. Val Linf norm: 289.129\n",
            "Epoch 33/146.. Train loss: 3.829.. Val loss: 4.158.. Train L1 norm: 5.394.. Val L1 norm: 2.878.. Train Linf norm: 742.533.. Val Linf norm: 289.276\n",
            "Epoch 34/146.. Train loss: 3.830.. Val loss: 4.157.. Train L1 norm: 5.364.. Val L1 norm: 2.880.. Train Linf norm: 736.337.. Val Linf norm: 289.553\n",
            "Epoch 35/146.. Train loss: 3.836.. Val loss: 4.156.. Train L1 norm: 5.324.. Val L1 norm: 2.881.. Train Linf norm: 696.508.. Val Linf norm: 289.715\n",
            "Epoch 36/146.. Train loss: 3.830.. Val loss: 4.155.. Train L1 norm: 5.064.. Val L1 norm: 2.883.. Train Linf norm: 650.610.. Val Linf norm: 289.875\n",
            "Epoch 37/146.. Train loss: 3.841.. Val loss: 4.157.. Train L1 norm: 5.424.. Val L1 norm: 2.881.. Train Linf norm: 746.791.. Val Linf norm: 289.607\n",
            "Epoch 38/146.. Train loss: 3.796.. Val loss: 4.159.. Train L1 norm: 5.399.. Val L1 norm: 2.879.. Train Linf norm: 741.496.. Val Linf norm: 289.329\n",
            "Epoch 39/146.. Train loss: 3.833.. Val loss: 4.160.. Train L1 norm: 5.129.. Val L1 norm: 2.878.. Train Linf norm: 674.309.. Val Linf norm: 289.209\n",
            "Epoch 40/146.. Train loss: 3.849.. Val loss: 4.162.. Train L1 norm: 5.188.. Val L1 norm: 2.876.. Train Linf norm: 679.157.. Val Linf norm: 288.979\n",
            "Epoch 41/146.. Train loss: 3.832.. Val loss: 4.162.. Train L1 norm: 5.309.. Val L1 norm: 2.877.. Train Linf norm: 705.817.. Val Linf norm: 289.113\n",
            "Epoch 42/146.. Train loss: 3.806.. Val loss: 4.160.. Train L1 norm: 5.377.. Val L1 norm: 2.880.. Train Linf norm: 743.800.. Val Linf norm: 289.492\n",
            "Epoch 43/146.. Train loss: 3.861.. Val loss: 4.161.. Train L1 norm: 5.637.. Val L1 norm: 2.878.. Train Linf norm: 797.500.. Val Linf norm: 289.299\n",
            "Epoch 44/146.. Train loss: 3.859.. Val loss: 4.163.. Train L1 norm: 4.998.. Val L1 norm: 2.876.. Train Linf norm: 636.321.. Val Linf norm: 288.966\n",
            "Epoch 45/146.. Train loss: 3.853.. Val loss: 4.163.. Train L1 norm: 5.594.. Val L1 norm: 2.876.. Train Linf norm: 795.693.. Val Linf norm: 288.908\n",
            "Epoch 46/146.. Train loss: 3.849.. Val loss: 4.163.. Train L1 norm: 5.301.. Val L1 norm: 2.876.. Train Linf norm: 707.680.. Val Linf norm: 288.896\n",
            "Epoch 47/146.. Train loss: 3.846.. Val loss: 4.163.. Train L1 norm: 5.224.. Val L1 norm: 2.876.. Train Linf norm: 689.539.. Val Linf norm: 288.918\n",
            "Epoch 48/146.. Train loss: 3.862.. Val loss: 4.163.. Train L1 norm: 5.429.. Val L1 norm: 2.876.. Train Linf norm: 744.564.. Val Linf norm: 288.878\n",
            "Epoch 49/146.. Train loss: 3.853.. Val loss: 4.163.. Train L1 norm: 5.036.. Val L1 norm: 2.876.. Train Linf norm: 637.293.. Val Linf norm: 288.875\n",
            "Epoch 50/146.. Train loss: 3.828.. Val loss: 4.163.. Train L1 norm: 5.527.. Val L1 norm: 2.876.. Train Linf norm: 759.408.. Val Linf norm: 288.871\n",
            "Epoch 51/146.. Train loss: 3.807.. Val loss: 4.162.. Train L1 norm: 5.266.. Val L1 norm: 2.876.. Train Linf norm: 708.048.. Val Linf norm: 288.919\n",
            "Epoch 52/146.. Train loss: 3.843.. Val loss: 4.163.. Train L1 norm: 5.730.. Val L1 norm: 2.876.. Train Linf norm: 828.663.. Val Linf norm: 288.914\n",
            "Epoch 53/146.. Train loss: 3.859.. Val loss: 4.163.. Train L1 norm: 5.490.. Val L1 norm: 2.876.. Train Linf norm: 778.108.. Val Linf norm: 288.902\n",
            "Epoch 54/146.. Train loss: 3.822.. Val loss: 4.163.. Train L1 norm: 5.281.. Val L1 norm: 2.876.. Train Linf norm: 707.554.. Val Linf norm: 288.894\n",
            "Epoch 55/146.. Train loss: 3.806.. Val loss: 4.163.. Train L1 norm: 5.452.. Val L1 norm: 2.876.. Train Linf norm: 735.848.. Val Linf norm: 288.869\n",
            "Epoch 56/146.. Train loss: 3.850.. Val loss: 4.163.. Train L1 norm: 5.338.. Val L1 norm: 2.876.. Train Linf norm: 729.257.. Val Linf norm: 288.858\n",
            "Epoch 57/146.. Train loss: 3.818.. Val loss: 4.163.. Train L1 norm: 5.493.. Val L1 norm: 2.876.. Train Linf norm: 762.368.. Val Linf norm: 288.867\n",
            "Epoch 58/146.. Train loss: 3.831.. Val loss: 4.163.. Train L1 norm: 5.366.. Val L1 norm: 2.876.. Train Linf norm: 731.345.. Val Linf norm: 288.847\n",
            "Epoch 59/146.. Train loss: 3.876.. Val loss: 4.163.. Train L1 norm: 5.240.. Val L1 norm: 2.875.. Train Linf norm: 694.195.. Val Linf norm: 288.841\n",
            "Epoch 60/146.. Train loss: 3.847.. Val loss: 4.163.. Train L1 norm: 5.180.. Val L1 norm: 2.876.. Train Linf norm: 681.228.. Val Linf norm: 288.847\n",
            "Epoch 61/146.. Train loss: 3.816.. Val loss: 4.163.. Train L1 norm: 5.409.. Val L1 norm: 2.875.. Train Linf norm: 736.316.. Val Linf norm: 288.842\n",
            "Epoch 62/146.. Train loss: 3.825.. Val loss: 4.163.. Train L1 norm: 5.137.. Val L1 norm: 2.875.. Train Linf norm: 665.716.. Val Linf norm: 288.833\n",
            "Epoch 63/146.. Train loss: 3.813.. Val loss: 4.163.. Train L1 norm: 5.486.. Val L1 norm: 2.875.. Train Linf norm: 759.629.. Val Linf norm: 288.822\n",
            "Epoch 64/146.. Train loss: 3.816.. Val loss: 4.164.. Train L1 norm: 5.482.. Val L1 norm: 2.875.. Train Linf norm: 766.098.. Val Linf norm: 288.816\n",
            "Epoch 65/146.. Train loss: 3.867.. Val loss: 4.164.. Train L1 norm: 5.343.. Val L1 norm: 2.875.. Train Linf norm: 730.490.. Val Linf norm: 288.808\n",
            "Epoch 66/146.. Train loss: 3.834.. Val loss: 4.164.. Train L1 norm: 5.313.. Val L1 norm: 2.875.. Train Linf norm: 720.243.. Val Linf norm: 288.805\n",
            "Epoch 67/146.. Train loss: 3.815.. Val loss: 4.164.. Train L1 norm: 5.437.. Val L1 norm: 2.875.. Train Linf norm: 751.347.. Val Linf norm: 288.797\n",
            "Epoch 68/146.. Train loss: 3.822.. Val loss: 4.164.. Train L1 norm: 5.236.. Val L1 norm: 2.875.. Train Linf norm: 677.167.. Val Linf norm: 288.789\n",
            "Epoch 69/146.. Train loss: 3.818.. Val loss: 4.164.. Train L1 norm: 5.786.. Val L1 norm: 2.875.. Train Linf norm: 840.331.. Val Linf norm: 288.783\n",
            "Epoch 70/146.. Train loss: 3.843.. Val loss: 4.164.. Train L1 norm: 5.147.. Val L1 norm: 2.875.. Train Linf norm: 672.305.. Val Linf norm: 288.774\n",
            "Epoch 71/146.. Train loss: 3.820.. Val loss: 4.164.. Train L1 norm: 5.289.. Val L1 norm: 2.875.. Train Linf norm: 712.207.. Val Linf norm: 288.766\n",
            "Epoch 72/146.. Train loss: 3.830.. Val loss: 4.164.. Train L1 norm: 5.308.. Val L1 norm: 2.875.. Train Linf norm: 712.721.. Val Linf norm: 288.760\n",
            "Epoch 73/146.. Train loss: 3.852.. Val loss: 4.164.. Train L1 norm: 5.413.. Val L1 norm: 2.875.. Train Linf norm: 735.856.. Val Linf norm: 288.750\n",
            "Epoch 74/146.. Train loss: 3.819.. Val loss: 4.164.. Train L1 norm: 5.341.. Val L1 norm: 2.875.. Train Linf norm: 717.600.. Val Linf norm: 288.740\n",
            "Epoch 75/146.. Train loss: 3.809.. Val loss: 4.164.. Train L1 norm: 5.160.. Val L1 norm: 2.875.. Train Linf norm: 681.839.. Val Linf norm: 288.733\n",
            "Epoch 76/146.. Train loss: 3.863.. Val loss: 4.164.. Train L1 norm: 5.330.. Val L1 norm: 2.875.. Train Linf norm: 716.497.. Val Linf norm: 288.730\n",
            "Epoch 77/146.. Train loss: 3.807.. Val loss: 4.164.. Train L1 norm: 5.135.. Val L1 norm: 2.875.. Train Linf norm: 512.266.. Val Linf norm: 288.727\n",
            "Epoch 78/146.. Train loss: 3.833.. Val loss: 4.164.. Train L1 norm: 5.213.. Val L1 norm: 2.875.. Train Linf norm: 707.318.. Val Linf norm: 288.724\n",
            "Epoch 79/146.. Train loss: 3.852.. Val loss: 4.164.. Train L1 norm: 5.211.. Val L1 norm: 2.875.. Train Linf norm: 691.401.. Val Linf norm: 288.721\n",
            "Epoch 80/146.. Train loss: 3.839.. Val loss: 4.164.. Train L1 norm: 5.292.. Val L1 norm: 2.875.. Train Linf norm: 715.845.. Val Linf norm: 288.718\n",
            "Epoch 81/146.. Train loss: 3.822.. Val loss: 4.164.. Train L1 norm: 5.334.. Val L1 norm: 2.875.. Train Linf norm: 729.173.. Val Linf norm: 288.716\n",
            "Epoch 82/146.. Train loss: 3.818.. Val loss: 4.164.. Train L1 norm: 5.117.. Val L1 norm: 2.875.. Train Linf norm: 587.969.. Val Linf norm: 288.713\n",
            "Epoch 83/146.. Train loss: 3.850.. Val loss: 4.164.. Train L1 norm: 5.102.. Val L1 norm: 2.874.. Train Linf norm: 662.631.. Val Linf norm: 288.710\n",
            "Epoch 84/146.. Train loss: 3.810.. Val loss: 4.164.. Train L1 norm: 5.316.. Val L1 norm: 2.874.. Train Linf norm: 723.214.. Val Linf norm: 288.707\n",
            "Epoch 85/146.. Train loss: 3.831.. Val loss: 4.164.. Train L1 norm: 5.235.. Val L1 norm: 2.874.. Train Linf norm: 694.197.. Val Linf norm: 288.704\n",
            "Epoch 86/146.. Train loss: 3.842.. Val loss: 4.164.. Train L1 norm: 5.218.. Val L1 norm: 2.874.. Train Linf norm: 697.906.. Val Linf norm: 288.702\n",
            "Epoch 87/146.. Train loss: 3.817.. Val loss: 4.164.. Train L1 norm: 5.328.. Val L1 norm: 2.874.. Train Linf norm: 718.669.. Val Linf norm: 288.699\n",
            "Epoch 88/146.. Train loss: 3.839.. Val loss: 4.164.. Train L1 norm: 5.203.. Val L1 norm: 2.874.. Train Linf norm: 691.097.. Val Linf norm: 288.696\n",
            "Epoch 89/146.. Train loss: 3.815.. Val loss: 4.164.. Train L1 norm: 5.409.. Val L1 norm: 2.874.. Train Linf norm: 742.691.. Val Linf norm: 288.693\n",
            "Epoch 90/146.. Train loss: 3.852.. Val loss: 4.164.. Train L1 norm: 5.306.. Val L1 norm: 2.874.. Train Linf norm: 720.233.. Val Linf norm: 288.691\n",
            "Epoch 91/146.. Train loss: 3.810.. Val loss: 4.164.. Train L1 norm: 5.237.. Val L1 norm: 2.874.. Train Linf norm: 704.851.. Val Linf norm: 288.691\n",
            "Epoch 92/146.. Train loss: 3.832.. Val loss: 4.164.. Train L1 norm: 5.372.. Val L1 norm: 2.874.. Train Linf norm: 725.882.. Val Linf norm: 288.690\n",
            "Epoch 93/146.. Train loss: 3.858.. Val loss: 4.164.. Train L1 norm: 5.244.. Val L1 norm: 2.874.. Train Linf norm: 693.689.. Val Linf norm: 288.690\n",
            "Epoch 94/146.. Train loss: 3.863.. Val loss: 4.164.. Train L1 norm: 5.307.. Val L1 norm: 2.874.. Train Linf norm: 720.403.. Val Linf norm: 288.690\n",
            "Epoch 95/146.. Train loss: 3.801.. Val loss: 4.164.. Train L1 norm: 5.163.. Val L1 norm: 2.874.. Train Linf norm: 684.030.. Val Linf norm: 288.690\n",
            "Epoch 96/146.. Train loss: 3.815.. Val loss: 4.164.. Train L1 norm: 5.289.. Val L1 norm: 2.874.. Train Linf norm: 706.074.. Val Linf norm: 288.690\n",
            "Epoch 97/146.. Train loss: 3.877.. Val loss: 4.164.. Train L1 norm: 5.372.. Val L1 norm: 2.874.. Train Linf norm: 739.335.. Val Linf norm: 288.690\n",
            "Epoch 98/146.. Train loss: 3.863.. Val loss: 4.164.. Train L1 norm: 5.321.. Val L1 norm: 2.874.. Train Linf norm: 721.764.. Val Linf norm: 288.690\n",
            "Epoch 99/146.. Train loss: 3.840.. Val loss: 4.164.. Train L1 norm: 5.316.. Val L1 norm: 2.874.. Train Linf norm: 727.813.. Val Linf norm: 288.690\n",
            "Epoch 100/146.. Train loss: 3.840.. Val loss: 4.164.. Train L1 norm: 5.486.. Val L1 norm: 2.874.. Train Linf norm: 765.378.. Val Linf norm: 288.690\n",
            "Epoch 101/146.. Train loss: 3.875.. Val loss: 4.164.. Train L1 norm: 5.392.. Val L1 norm: 2.874.. Train Linf norm: 733.152.. Val Linf norm: 288.690\n",
            "Epoch 102/146.. Train loss: 3.840.. Val loss: 4.164.. Train L1 norm: 5.167.. Val L1 norm: 2.874.. Train Linf norm: 681.461.. Val Linf norm: 288.690\n",
            "Epoch 103/146.. Train loss: 3.827.. Val loss: 4.164.. Train L1 norm: 5.345.. Val L1 norm: 2.874.. Train Linf norm: 723.775.. Val Linf norm: 288.690\n",
            "Epoch 104/146.. Train loss: 3.839.. Val loss: 4.164.. Train L1 norm: 5.118.. Val L1 norm: 2.874.. Train Linf norm: 671.064.. Val Linf norm: 288.690\n",
            "Epoch 105/146.. Train loss: 3.854.. Val loss: 4.164.. Train L1 norm: 5.351.. Val L1 norm: 2.874.. Train Linf norm: 728.136.. Val Linf norm: 288.690\n",
            "Epoch 106/146.. Train loss: 3.834.. Val loss: 4.164.. Train L1 norm: 5.270.. Val L1 norm: 2.874.. Train Linf norm: 701.577.. Val Linf norm: 288.690\n",
            "Epoch 107/146.. Train loss: 3.860.. Val loss: 4.164.. Train L1 norm: 5.341.. Val L1 norm: 2.874.. Train Linf norm: 733.036.. Val Linf norm: 288.690\n",
            "Epoch 108/146.. Train loss: 3.823.. Val loss: 4.164.. Train L1 norm: 5.050.. Val L1 norm: 2.874.. Train Linf norm: 654.367.. Val Linf norm: 288.690\n",
            "Epoch 109/146.. Train loss: 3.839.. Val loss: 4.164.. Train L1 norm: 5.364.. Val L1 norm: 2.874.. Train Linf norm: 728.318.. Val Linf norm: 288.690\n",
            "Epoch 110/146.. Train loss: 3.797.. Val loss: 4.164.. Train L1 norm: 5.134.. Val L1 norm: 2.874.. Train Linf norm: 670.323.. Val Linf norm: 288.690\n",
            "Epoch 111/146.. Train loss: 3.839.. Val loss: 4.164.. Train L1 norm: 5.325.. Val L1 norm: 2.874.. Train Linf norm: 732.210.. Val Linf norm: 288.690\n",
            "Epoch 112/146.. Train loss: 3.819.. Val loss: 4.164.. Train L1 norm: 5.518.. Val L1 norm: 2.874.. Train Linf norm: 769.546.. Val Linf norm: 288.690\n",
            "Epoch 113/146.. Train loss: 3.849.. Val loss: 4.164.. Train L1 norm: 5.420.. Val L1 norm: 2.874.. Train Linf norm: 745.268.. Val Linf norm: 288.690\n",
            "Epoch 114/146.. Train loss: 3.823.. Val loss: 4.164.. Train L1 norm: 5.085.. Val L1 norm: 2.874.. Train Linf norm: 663.640.. Val Linf norm: 288.690\n",
            "Epoch 115/146.. Train loss: 3.876.. Val loss: 4.164.. Train L1 norm: 5.531.. Val L1 norm: 2.874.. Train Linf norm: 770.389.. Val Linf norm: 288.690\n",
            "Epoch 116/146.. Train loss: 3.828.. Val loss: 4.164.. Train L1 norm: 5.232.. Val L1 norm: 2.874.. Train Linf norm: 708.594.. Val Linf norm: 288.690\n",
            "Epoch 117/146.. Train loss: 3.817.. Val loss: 4.164.. Train L1 norm: 5.091.. Val L1 norm: 2.874.. Train Linf norm: 656.386.. Val Linf norm: 288.690\n",
            "Epoch 118/146.. Train loss: 3.820.. Val loss: 4.164.. Train L1 norm: 5.426.. Val L1 norm: 2.874.. Train Linf norm: 745.875.. Val Linf norm: 288.690\n",
            "Epoch 119/146.. Train loss: 3.845.. Val loss: 4.164.. Train L1 norm: 5.196.. Val L1 norm: 2.874.. Train Linf norm: 692.594.. Val Linf norm: 288.690\n"
          ]
        }
      ],
      "source": [
        "if OPTIMIZE:\n",
        "    # Creating a study object with Optuna with TPE sampler and median pruner \n",
        "    study = optuna.create_study(direction=\"minimize\", sampler=optuna.samplers.TPESampler(), pruner=optuna.pruners.MedianPruner())\n",
        "\n",
        "    # Running Optuna with 100 trials when we are optimizing.\n",
        "    study.optimize(objective, n_trials=N_TRIALS)\n",
        "\n",
        "    # Printing the best trial information\n",
        "    print(\"Best trial:\")\n",
        "    trial = study.best_trial\n",
        "    print(\"  Value: \", trial.value)\n",
        "    print(\"  Params: \")\n",
        "    for key, value in trial.params.items():\n",
        "        print(f\"    {key}: {value}\")\n"
      ]
    },
    {
      "cell_type": "markdown",
      "metadata": {
        "id": "jmMfE9_dUZiS"
      },
      "source": [
        "## Training the model"
      ]
    },
    {
      "cell_type": "code",
      "execution_count": null,
      "metadata": {
        "id": "phyiHlWEUZiT"
      },
      "outputs": [],
      "source": [
        "# Creating the best network and optimizer using the best hyperparameters\n",
        "if OPTIMIZE:\n",
        "    net, \\\n",
        "    loss_fn, \\\n",
        "    optimizer, \\\n",
        "    batch_size, \\\n",
        "    n_epochs, \\\n",
        "    scheduler, \\\n",
        "    loss_name, \\\n",
        "    optimizer_name, \\\n",
        "    scheduler_name, \\\n",
        "    n_units, \\\n",
        "    n_layers, \\\n",
        "    hidden_activation, \\\n",
        "    output_activation, \\\n",
        "    lr, \\\n",
        "    dropout_rate = create_model(trial, optimize=True)\n",
        "\n",
        "# Creating the network with predefined hyperparameters\n",
        "else:\n",
        "    net, \\\n",
        "    loss_fn, \\\n",
        "    optimizer, \\\n",
        "    batch_size, \\\n",
        "    n_epochs, \\\n",
        "    scheduler, \\\n",
        "    loss_name, \\\n",
        "    optimizer_name, \\\n",
        "    scheduler_name, \\\n",
        "    n_units, \\\n",
        "    n_layers, \\\n",
        "    hidden_activation, \\\n",
        "    output_activation, \\\n",
        "    lr, \\\n",
        "    dropout_rate = create_model(trial=None, optimize=True)"
      ]
    },
    {
      "cell_type": "code",
      "execution_count": null,
      "metadata": {
        "id": "_yq-oY81UZiU"
      },
      "outputs": [],
      "source": [
        "print(\"loss_fn:\", net)\n",
        "print(\"loss_fn:\", loss_fn)\n",
        "print(\"batch_size:\", batch_size)\n",
        "print(\"n_epochs:\", n_epochs)\n",
        "print(\"scheduler:\", scheduler)\n",
        "print(\"loss_name:\", loss_name)\n",
        "print(\"optimizer_name:\", optimizer_name)\n",
        "print(\"scheduler_name:\", scheduler_name)\n",
        "print(\"n_units:\", n_units)\n",
        "print(\"n_layers:\", n_layers)\n",
        "print(\"hidden_activation:\", hidden_activation)\n",
        "print(\"output_activation:\", output_activation)\n",
        "print(\"lr\", lr)\n",
        "print(\"dropout_rate\", dropout_rate)"
      ]
    },
    {
      "cell_type": "markdown",
      "metadata": {
        "id": "E7aLWdZyUZiW",
        "outputId": "8fb1e8c6-5aa3-43a1-a255-712cf9396d0c"
      },
      "source": [
        "After optimizing with Optuna and deciding on the best hyperparameters, we combine the training and validatin set, using that as the new training set for training the model, and then evaluate the model on the test set"
      ]
    },
    {
      "cell_type": "code",
      "execution_count": null,
      "metadata": {
        "id": "jIBboeQX4cno"
      },
      "outputs": [],
      "source": [
        "x_train_val = torch.cat((x_train, x_val), 0)\n",
        "y_train_val = torch.cat((y_train, y_val), 0)\n",
        "\n",
        "train_val_loader = torch.utils.data.DataLoader(\n",
        "    torch.utils.data.TensorDataset(x_train_val, y_train_val), batch_size=batch_size, shuffle=True\n",
        ")\n",
        "test_loader = torch.utils.data.DataLoader(\n",
        "    torch.utils.data.TensorDataset(x_test, y_test), batch_size=batch_size\n",
        ")\n",
        "\n",
        "train_losses, _, test_losses, train_metrics, _, test_metrics, = train_and_eval(\n",
        "    net, loss_fn, optimizer, batch_size, n_epochs, scheduler, train_val_loader, None, test_loader, None\n",
        ")"
      ]
    },
    {
      "cell_type": "markdown",
      "metadata": {
        "id": "akNucrgMUZiW"
      },
      "source": [
        "## Saving"
      ]
    },
    {
      "cell_type": "code",
      "execution_count": null,
      "metadata": {
        "id": "LHsrs2Y-UZic"
      },
      "outputs": [],
      "source": [
        "# create a dictionary to store the rest of the variables\n",
        "import json\n",
        "\n",
        "# save the network to a .pth file\n",
        "torch.save(net.state_dict(), \"net.pth\")\n",
        "save_file(\"net.pth\")\n",
        "\n",
        "# save the optimizer to a .pth file\n",
        "torch.save(optimizer.state_dict(), \"optimizer.pth\")\n",
        "save_file(\"optimizer.pth\")\n",
        "\n",
        "# save the scheduler to a .pth file if it is not None\n",
        "if scheduler is not None:\n",
        "  torch.save(scheduler.state_dict(), \"scheduler.pth\")\n",
        "  save_file(\"scheduler.pth\")\n",
        "\n",
        "# create a dictionary to store the rest of the variables\n",
        "if isinstance(hidden_activation.__class__.__name__, list):\n",
        "    hidden_activation_name = hidden_activation.__class__.__name__[0]\n",
        "else:\n",
        "    hidden_activation_name = hidden_activation.__class__.__name__\n",
        "\n",
        "if isinstance(output_activation.__class__.__name__, list):\n",
        "    output_activation_name = output_activation.__class__.__name__[0]\n",
        "else:\n",
        "    output_activation_name = output_activation.__class__.__name__\n",
        "\n",
        "var_dict = {\n",
        "  \"batch_size\": batch_size,\n",
        "  \"n_epochs\": n_epochs,\n",
        "  \"loss_name\": loss_name,\n",
        "  \"optimizer_name\": optimizer_name,\n",
        "  \"scheduler_name\": scheduler_name,\n",
        "  \"n_units\": n_units,\n",
        "  \"n_layers\": n_layers,\n",
        "  \"hidden_activation_name\": hidden_activation_name,\n",
        "  \"output_activation_name\": output_activation_name,\n",
        "  \"lr\": lr,\n",
        "  \"dropout_rate\": dropout_rate\n",
        "}\n",
        "\n",
        "# Adding the subparameters to the var_dict for saving\n",
        "if hidden_activation_name == \"LeakyReLU\":\n",
        "  var_dict[\"leakyrelu_slope\"] = hidden_activation.negative_slope\n",
        "elif hidden_activation_name == \"PReLU\":\n",
        "  var_dict[\"prelu_init\"] = hidden_activation.weight.item()  # .item() is needed because weight is a tensor\n",
        "elif hidden_activation_name == \"SoftPlus\":\n",
        "  var_dict[\"softplus_beta\"] = hidden_activation.beta\n",
        "\n",
        "# save the dictionary to a .json file\n",
        "with open(\"var_dict.json\", \"w\") as f:\n",
        "  json.dump(var_dict, f)\n",
        "save_file(\"var_dict.json\")\n",
        "\n",
        "# Saving the output of the training using pandas\n",
        "train_df = pd.DataFrame(\n",
        "    {\n",
        "        \"train_loss\": train_losses,\n",
        "        \"test_loss\": test_losses,\n",
        "        \"train_l1_norm\": [m[\"l1_norm\"] for m in train_metrics],\n",
        "        \"test_l1_norm\": [m[\"l1_norm\"] for m in test_metrics],\n",
        "        \"train_linf_norm\": [m[\"linf_norm\"] for m in train_metrics],\n",
        "        \"test_linf_norm\": [m[\"linf_norm\"] for m in test_metrics],\n",
        "    }\n",
        ")\n",
        "train_df.to_csv(\"train_output.csv\", index=False)\n",
        "save_file(\"train_output.csv\")"
      ]
    },
    {
      "cell_type": "code",
      "execution_count": null,
      "metadata": {
        "id": "WDNrony-4cnp"
      },
      "outputs": [],
      "source": [
        "[key for key in var_dict.keys()]"
      ]
    },
    {
      "cell_type": "code",
      "execution_count": null,
      "metadata": {
        "id": "G_Duv4pT4cnp"
      },
      "outputs": [],
      "source": [
        "#%%script echo skipping\n",
        "\n",
        "hidden_activation_name\n",
        "output_activation_name"
      ]
    },
    {
      "cell_type": "markdown",
      "metadata": {
        "id": "qU23l7dIUZie"
      },
      "source": [
        "## Visualizing the results"
      ]
    },
    {
      "cell_type": "code",
      "execution_count": null,
      "metadata": {
        "id": "cippWZS6UZie"
      },
      "outputs": [],
      "source": [
        "# First figure: Train and Test L1 Norm\n",
        "plt.figure(figsize=(6, 4))\n",
        "plt.plot([m[\"l1_norm\"] for m in train_metrics_loaded], label=\"Train L1 Norm\", color='blue')\n",
        "plt.plot([m[\"l1_norm\"] for m in test_metrics_loaded], label=\"Test L1 Norm\", color='red')\n",
        "plt.xlabel(\"Epoch\")\n",
        "plt.ylabel(\"L1 Norm\")\n",
        "plt.title(\"NNGRX Train and Test L1 Norm per Epoch\")\n",
        "plt.yscale(\"log\")\n",
        "plt.grid(True)\n",
        "plt.xlim(right=200)\n",
        "plt.ylim(1e-3, 1e2)\n",
        "plt.legend()\n",
        "plt.tight_layout()\n",
        "# plt.savefig(\"NNGRX_L1_norm_plot.png\", dpi=300)\n",
        "plt.savefig(\"NNGRX_L1_norm_plot.png\")\n",
        "\n",
        "# Second figure: Train and Test Linf Norm\n",
        "plt.figure(figsize=(6, 4))\n",
        "plt.plot([m[\"linf_norm\"] for m in train_metrics_loaded], label=\"Train Linf Norm\", color='blue')\n",
        "plt.plot([m[\"linf_norm\"] for m in test_metrics_loaded], label=\"Test Linf Norm\", color='red')\n",
        "plt.xlabel(\"Epoch\")\n",
        "plt.ylabel(\"Linf Norm\")\n",
        "plt.title(\"NNGRX Train and Test Linf Norm per Epoch\")\n",
        "plt.yscale(\"log\")\n",
        "plt.grid(True)\n",
        "plt.xlim(right=200)\n",
        "plt.ylim(1e-3, 1e2)\n",
        "plt.legend()\n",
        "plt.tight_layout()\n",
        "# plt.savefig(\"NNGRX_Linf_norm_plot.png\", dpi=300)\n",
        "plt.savefig(\"NNGRX_Linf_norm_plot.png\")\n",
        "\n",
        "# Third figure: MSE of training data and test data\n",
        "plt.figure(figsize=(6, 4))\n",
        "plt.plot(train_losses_loaded, label=\"Training Data\", color='blue')\n",
        "plt.plot(test_losses_loaded, label=\"Test Data\", color='red')\n",
        "plt.xlabel(\"Epoch\")\n",
        "plt.ylabel(\"MSE\")\n",
        "plt.title(\"NNGRX MSE of Training and Test Data per Epoch\")\n",
        "plt.yscale(\"log\")\n",
        "plt.grid(True)\n",
        "plt.xlim(right=200)\n",
        "plt.ylim(1e-7, 1e0)\n",
        "plt.legend()\n",
        "plt.tight_layout()\n",
        "# plt.savefig(\"NNGRX_MSE_plot.png\", dpi=300)\n",
        "plt.savefig(\"NNGRX_MSE_plot.png\")"
      ]
    },
    {
      "cell_type": "markdown",
      "metadata": {
        "id": "tiEDutxIUZig"
      },
      "source": [
        "## Loading"
      ]
    },
    {
      "cell_type": "code",
      "execution_count": null,
      "metadata": {
        "id": "p7Mj990wUZih"
      },
      "outputs": [],
      "source": [
        "import json\n",
        "import pandas as pd\n",
        "\n",
        "# load the dictionary from the .json file\n",
        "with open(\"var_dict.json\", \"r\") as f:\n",
        "  var_dict_loaded = json.load(f)\n",
        "\n",
        "# extract the variables from the dictionary\n",
        "batch_size_loaded = var_dict_loaded[\"batch_size\"]\n",
        "n_epochs_loaded = var_dict_loaded[\"n_epochs\"]\n",
        "loss_name_loaded = var_dict_loaded[\"loss_name\"]\n",
        "optimizer_name_loaded = var_dict_loaded[\"optimizer_name\"]\n",
        "scheduler_name_loaded = var_dict_loaded[\"scheduler_name\"]\n",
        "n_units_loaded = var_dict_loaded[\"n_units\"]\n",
        "n_layers_loaded = var_dict_loaded[\"n_layers\"]\n",
        "hidden_activation_name_loaded = var_dict_loaded[\"hidden_activation_name\"]\n",
        "output_activation_name_loaded = var_dict_loaded[\"output_activation_name\"]\n",
        "lr_loaded = var_dict_loaded[\"lr\"]\n",
        "dropout_rate_loaded = var_dict_loaded[\"dropout_rate\"]\n",
        "\n",
        "# Loading the activation functions with subparameters\n",
        "if hidden_activation_name_loaded == \"ReLU\":\n",
        "  hidden_activation_loaded = nn.ReLU()\n",
        "elif hidden_activation_name_loaded == \"LeakyReLU\":\n",
        "  negative_slope_loaded = var_dict_loaded.get(\"leakyrelu_slope\", 0.01)  # For backwards compatibiltiy with earlier models; default to 0.01 if not present\n",
        "  hidden_activation_loaded = nn.LeakyReLU(negative_slope=negative_slope_loaded)\n",
        "elif hidden_activation_name_loaded == \"ELU\":\n",
        "  hidden_activation_loaded = nn.ELU()\n",
        "elif hidden_activation_name_loaded == \"PReLU\":\n",
        "  init_loaded = var_dict_loaded.get(\"prelu_init\", 0.25)  # Default to 0.25 if not present\n",
        "  hidden_activation_loaded = nn.PReLU(init=init_loaded)\n",
        "elif hidden_activation_name_loaded == \"Swish\":\n",
        "    class Swish(nn.Module):\n",
        "        def forward(self, x):\n",
        "            return x * torch.sigmoid(x)\n",
        "    hidden_activation_loaded = Swish()\n",
        "elif hidden_activation_name_loaded == \"GELU\":\n",
        "    hidden_activation_loaded = nn.GELU()\n",
        "elif hidden_activation_name_loaded == \"SoftPlus\":\n",
        "  beta_loaded = var_dict_loaded.get(\"softplus_beta\", 1)  # Default to 1 if not present\n",
        "  hidden_activation_loaded = nn.Softplus(beta=beta_loaded)\n",
        "\n",
        "\n",
        "\n",
        "# We used to have options here, but since we have a regression problem with continuous output, we only use Linear.\n",
        "output_activation_loaded = nn.Identity()\n",
        "\n",
        "# load the network from the .pth file\n",
        "net_loaded = Net(\n",
        "    n_layers_loaded, \n",
        "    n_units_loaded, \n",
        "    hidden_activation_loaded, \n",
        "    output_activation_loaded, \n",
        "    dropout_rate_loaded\n",
        ").to(device)\n",
        "\n",
        "if torch.cuda.is_available():\n",
        " net_loaded.load_state_dict(torch.load(\"net.pth\"))\n",
        "else: \n",
        "  net_loaded.load_state_dict(torch.load(\"net.pth\", map_location=torch.device('cpu')))\n",
        "\n",
        "\n",
        "# Creating the loss function from its name\n",
        "if loss_name_loaded == \"MSE\":\n",
        "    loss_fn_loaded = nn.MSELoss()\n",
        "elif loss_name_loaded == \"MAE\":\n",
        "    loss_fn_loaded = nn.L1Loss()\n",
        "elif loss_name_loaded == \"Huber\":\n",
        "    loss_fn_loaded = nn.SmoothL1Loss() \n",
        "elif loss_name_loaded == \"Quantile\":\n",
        "    def quantile_loss(y_pred, y_true, q=0.5):\n",
        "        e = y_pred - y_true\n",
        "        return torch.mean(torch.max(q*e, (q-1)*e))\n",
        "    loss_fn_loaded = quantile_loss\n",
        "\n",
        "# load the optimizer from the .pth file\n",
        "if torch.cuda.is_available():\n",
        "  optimizer_loaded_state_dict = torch.load(\"optimizer.pth\")\n",
        "else:\n",
        "  optimizer_loaded_state_dict = torch.load(\"optimizer.pth\", map_location=torch.device('cpu'))\n",
        "\n",
        "if optimizer_name_loaded == \"SGD\":\n",
        "  # Added getting the weight decay and momentum parameters from the state dict\n",
        "  weight_decay_loaded = optimizer_loaded_state_dict[\"param_groups\"][0][\"weight_decay\"]\n",
        "  momentum_loaded = optimizer_loaded_state_dict[\"param_groups\"][0][\"momentum\"]\n",
        "  optimizer_loaded = optim.SGD(net_loaded.parameters(), lr=lr_loaded, weight_decay=weight_decay_loaded, momentum=momentum_loaded)\n",
        "elif optimizer_name_loaded == \"Adam\":\n",
        "  # Added getting the weight decay and beta parameters from the state dict\n",
        "  weight_decay_loaded = optimizer_loaded_state_dict[\"param_groups\"][0][\"weight_decay\"]\n",
        "  beta1_loaded = optimizer_loaded_state_dict[\"param_groups\"][0][\"betas\"][0]\n",
        "  beta2_loaded = optimizer_loaded_state_dict[\"param_groups\"][0][\"betas\"][1]\n",
        "  optimizer_loaded = optim.Adam(net_loaded.parameters(), lr=lr_loaded, weight_decay=weight_decay_loaded, betas=(beta1_loaded, beta2_loaded))\n",
        "elif optimizer_name_loaded == \"RMSprop\":\n",
        "  optimizer_loaded = optim.RMSprop(net_loaded.parameters(), lr=lr_loaded)\n",
        "elif optimizer_name_loaded == \"Adagrad\":\n",
        "  # Added loading the Adagrad optimizer\n",
        "  optimizer_loaded = optim.Adagrad(net_loaded.parameters(), lr=lr_loaded)\n",
        "optimizer_loaded.load_state_dict(optimizer_loaded_state_dict)\n",
        "\n",
        "# load the scheduler from the .pth file\n",
        "if torch.cuda.is_available():\n",
        "  scheduler_loaded_state_dict = torch.load(\"scheduler.pth\")\n",
        "else: \n",
        "  scheduler_loaded_state_dict = torch.load(\"scheduler.pth\", map_location=torch.device('cpu'))\n",
        "\n",
        "if scheduler_name_loaded == \"StepLR\":\n",
        "  # Added getting the step_size and gamma parameters from the state dict\n",
        "  step_size_loaded = scheduler_loaded_state_dict[\"step_size\"]\n",
        "  gamma_loaded = scheduler_loaded_state_dict[\"gamma\"]\n",
        "  scheduler_loaded = optim.lr_scheduler.StepLR(optimizer_loaded, step_size=step_size_loaded, gamma=gamma_loaded)\n",
        "elif scheduler_name_loaded == \"ExponentialLR\":\n",
        "  # Added getting the gamma parameter from the state dict\n",
        "  gamma_loaded = scheduler_loaded_state_dict[\"gamma\"]\n",
        "  scheduler_loaded = optim.lr_scheduler.ExponentialLR(optimizer_loaded, gamma=gamma_loaded)\n",
        "elif scheduler_name_loaded == \"CosineAnnealingLR\":\n",
        "  # Added getting the T_max parameter from the state dict\n",
        "  T_max_loaded = scheduler_loaded_state_dict[\"T_max\"]\n",
        "  scheduler_loaded = optim.lr_scheduler.CosineAnnealingLR(optimizer_loaded, T_max=T_max_loaded)\n",
        "elif scheduler_name_loaded == \"ReduceLROnPlateau\":\n",
        "  # Added getting the mode, factor, patience, threshold and min_lr parameters from the state dict\n",
        "  mode_loaded = scheduler_loaded_state_dict[\"mode\"]\n",
        "  factor_loaded = scheduler_loaded_state_dict[\"factor\"]\n",
        "  patience_loaded = scheduler_loaded_state_dict[\"patience\"]\n",
        "  threshold_loaded = scheduler_loaded_state_dict[\"threshold\"]\n",
        "  min_lr_loaded = scheduler_loaded_state_dict[\"min_lrs\"][0]\n",
        "  scheduler_loaded = optim.lr_scheduler.ReduceLROnPlateau(\n",
        "                    optimizer_loaded, mode=mode_loaded, factor=factor_loaded, patience=patience_loaded, threshold=threshold_loaded, min_lr=min_lr_loaded\n",
        "                )\n",
        "elif scheduler_name_loaded == \"CyclicLR\":  # Added CyclicLR\n",
        "    base_lr_loaded = scheduler_loaded_state_dict[\"base_lr\"]\n",
        "    max_lr_loaded = scheduler_loaded_state_dict[\"max_lr\"]\n",
        "    step_size_up_loaded = scheduler_loaded_state_dict[\"step_size_up\"]\n",
        "    scheduler_loaded = optim.lr_scheduler.CyclicLR(\n",
        "                    optimizer, base_lr=base_lr_loaded, max_lr=max_lr_loaded, step_size_up=step_size_up_loaded\n",
        "                )\n",
        "else:\n",
        "  scheduler_loaded = None\n",
        "\n",
        "if scheduler_loaded is not None:\n",
        "  # Added loading the state dict to the scheduler_loaded\n",
        "  scheduler_loaded.load_state_dict(scheduler_loaded_state_dict)\n",
        "\n",
        "# Loading the output of the training using pandas\n",
        "train_df_loaded = pd.read_csv(\"train_output.csv\")\n",
        "train_losses_loaded = train_df_loaded[\"train_loss\"].tolist()\n",
        "test_losses_loaded = train_df_loaded[\"test_loss\"].tolist()\n",
        "train_metrics_loaded = [\n",
        "    {\n",
        "        \"l1_norm\": train_df_loaded[\"train_l1_norm\"][i],\n",
        "        \"linf_norm\": train_df_loaded[\"train_linf_norm\"][i],\n",
        "    }\n",
        "    for i in range(len(train_df_loaded))\n",
        "]\n",
        "test_metrics_loaded = [\n",
        "    {\n",
        "        \"l1_norm\": train_df_loaded[\"test_l1_norm\"][i],\n",
        "        \"linf_norm\": train_df_loaded[\"test_linf_norm\"][i],\n",
        "    }\n",
        "    for i in range(len(train_df_loaded))\n",
        "]"
      ]
    },
    {
      "cell_type": "code",
      "execution_count": null,
      "metadata": {
        "id": "n-4pZ2s64cnr"
      },
      "outputs": [],
      "source": [
        "# %%script echo skipping\n",
        "\n",
        "var_dict_loaded[\"batch_size\"]\n",
        "var_dict_loaded[\"n_epochs\"]\n",
        "var_dict_loaded[\"loss_name\"]\n",
        "var_dict_loaded[\"optimizer_name\"]\n",
        "var_dict_loaded[\"scheduler_name\"]\n",
        "var_dict_loaded[\"n_units\"]\n",
        "var_dict_loaded[\"n_layers\"]\n",
        "var_dict_loaded[\"hidden_activation_name\"]\n",
        "var_dict_loaded[\"output_activation_name\"]\n",
        "var_dict_loaded[\"lr\"]\n",
        "var_dict_loaded[\"dropout_rate\"]"
      ]
    },
    {
      "cell_type": "code",
      "execution_count": null,
      "metadata": {
        "id": "QQ0MKbI04cnr"
      },
      "outputs": [],
      "source": [
        "%%script echo skipping\n",
        "\n",
        "scheduler_loaded_state_dict[\"mode\"]\n",
        "scheduler_loaded_state_dict[\"factor\"]\n",
        "scheduler_loaded_state_dict[\"patience\"]\n",
        "scheduler_loaded_state_dict[\"threshold\"]\n",
        "scheduler_loaded_state_dict[\"min_lrs\"]\n",
        "\n",
        "\n",
        "scheduler_loaded_state_dict[\"base_lr\"]\n",
        "scheduler_loaded_state_dict[\"max_lr\"]\n",
        "scheduler_loaded_state_dict[\"step_size_up\"]"
      ]
    },
    {
      "cell_type": "code",
      "execution_count": null,
      "metadata": {
        "id": "bHMdkxsm4cnr"
      },
      "outputs": [],
      "source": [
        "# %%script echo skipping\n",
        "\n",
        "var_dict\n",
        "hidden_activation_name_loaded"
      ]
    },
    {
      "cell_type": "code",
      "execution_count": null,
      "metadata": {
        "id": "GQ_fcj7zUZii"
      },
      "outputs": [],
      "source": [
        "# %%script echo skipping\n",
        "\n",
        "if hidden_activation_name_loaded == \"LeakyReLU\":\n",
        "  var_dict_loaded[\"leakyrelu_slope\"]\n",
        "if hidden_activation_name_loaded == \"PReLU\":\n",
        "  var_dict_loaded[\"prelu_init\"]\n",
        "elif hidden_activation_name_loaded == \"SoftPlus\":\n",
        "  var_dict_loaded[\"softplus_beta\"]\n",
        "\n",
        "batch_size_loaded\n",
        "n_epochs_loaded\n",
        "loss_name_loaded\n",
        "optimizer_name_loaded\n",
        "scheduler_name_loaded\n",
        "n_units_loaded\n",
        "n_layers_loaded\n",
        "hidden_activation_name_loaded\n",
        "output_activation_name_loaded\n",
        "lr_loaded\n",
        "dropout_rate_loaded\n",
        "hidden_activation_loaded\n",
        "output_activation_loaded\n",
        "net_loaded\n",
        "net_loaded.__dict__ # print the subparameters of the network\n",
        "loss_fn_loaded\n",
        "optimizer_loaded\n",
        "optimizer_loaded.__dict__ # print the subparameters of the optimizer\n",
        "if scheduler_loaded is not None:\n",
        "  scheduler_loaded\n",
        "  scheduler_loaded.__dict__ # print the subparameters of the scheduler\n",
        "train_losses_loaded\n",
        "test_losses_loaded\n",
        "train_metrics_loaded\n",
        "test_metrics_loaded\n"
      ]
    },
    {
      "cell_type": "code",
      "execution_count": null,
      "metadata": {
        "id": "wIFp6xgs4cns"
      },
      "outputs": [],
      "source": [
        "train_losses_loaded[-1]\n",
        "test_losses_loaded[-1]\n",
        "test_metrics_loaded[-1]['l1_norm']\n",
        "test_metrics_loaded[-1]['linf_norm']\n",
        "# print(f'Error is {test_metrics_loaded[-1][\"l1_norm\"] / (3.84e-4)} times bigger than in Dieselhorst et al.')\n",
        "# print(f'Error is {test_metrics_loaded[-1][\"linf_norm\"] / (8.14e-3)} times bigger than in Dieselhorst et al.')"
      ]
    },
    {
      "cell_type": "markdown",
      "metadata": {
        "id": "OdOwEngu4cns"
      },
      "source": [
        "### Visualize loaded results"
      ]
    },
    {
      "cell_type": "markdown",
      "metadata": {
        "id": "vwLGR1aSUZik"
      },
      "source": [
        "Let us verify correct loading of the train and test metrics by visualizing them again but now through the loaded values. Likewise for the train and test losses."
      ]
    },
    {
      "cell_type": "code",
      "execution_count": null,
      "metadata": {
        "id": "sXiNgLsmUZil"
      },
      "outputs": [],
      "source": [
        "%config InteractiveShell.ast_node_interactivity = \"last_expr_or_assign\""
      ]
    },
    {
      "cell_type": "code",
      "execution_count": null,
      "metadata": {
        "id": "sgq4WfSiUZil"
      },
      "outputs": [],
      "source": [
        "# Plotting the losses and metrics for the best network plt.figure(figsize=(12, \n",
        "#plt.subplot(2, 2, 1)\n",
        "#plt.plot(train_losses_loaded, label=\"Train Loss\")\n",
        "#plt.plot(test_losses_loaded, label=\"Test Loss\")\n",
        "#plt.xlabel(\"Epoch\")\n",
        "#plt.ylabel(\"Loss\")\n",
        "#plt.legend()\n",
        "plt.subplot(2, 2, 2)\n",
        "plt.plot([m[\"l1_norm\"] for m in train_metrics_loaded], label=\"Train L1 Norm\")\n",
        "plt.plot([m[\"l1_norm\"] for m in test_metrics_loaded], label=\"Test L1 Norm\")\n",
        "plt.xlabel(\"Epoch\")\n",
        "plt.ylabel(\"L1 Norm\")\n",
        "# Added setting the vertical axis to be in powers of 10\n",
        "plt.yscale(\"log\")\n",
        "# Added setting the vertical axis limits to be from 10^-7 to 10^0\n",
        "plt.ylim(1e-3, 1e2)\n",
        "plt.legend()\n",
        "plt.subplot(2, 2, 3)\n",
        "plt.plot([m[\"linf_norm\"] for m in train_metrics_loaded], label=\"Train Linf Norm\")\n",
        "plt.plot([m[\"linf_norm\"] for m in test_metrics_loaded], label=\"Test Linf Norm\")\n",
        "plt.xlabel(\"Epoch\")\n",
        "plt.ylabel(\"Linf Norm\")\n",
        "# Added setting the vertical axis to be in powers of 10\n",
        "plt.yscale(\"log\")\n",
        "# Added setting the vertical axis limits to be from 10^-7 to 10^0\n",
        "plt.ylim(1e-3, 1e2)\n",
        "plt.legend()\n",
        "plt.tight_layout()\n",
        "plt.show()\n",
        "\n",
        "# Added plotting MSE of training data and MSE of test data in one plot \n",
        "plt.figure(figsize=(8, 6))\n",
        "plt.plot(train_losses_loaded,label=\"training data\")\n",
        "plt.plot(test_losses_loaded,label=\"test data\")\n",
        "#if scheduler is not None:\n",
        "#    plt.plot([scheduler.get_last_lr()[0] for _ in range(n_epochs)], label=\"Learning rate\") \n",
        "plt.xlabel(\"Epoch\")\n",
        "plt.ylabel(f\"{loss_name_loaded} Loss\")\n",
        "# Added setting the vertical axis to be in powers of 10\n",
        "plt.yscale(\"log\")\n",
        "# Added setting the vertical axis limits to be from 10^-7 to 10^0\n",
        "plt.ylim(1e-7, 1e0)\n",
        "plt.legend()\n",
        "plt.show()\n"
      ]
    },
    {
      "cell_type": "code",
      "execution_count": null,
      "metadata": {
        "id": "lkgLqJ_UUZim"
      },
      "outputs": [],
      "source": [
        "%config InteractiveShell.ast_node_interactivity = \"all\""
      ]
    },
    {
      "cell_type": "markdown",
      "metadata": {
        "id": "aotL4GJl4cnu"
      },
      "source": [
        "## Counting the number of parameters in the network."
      ]
    },
    {
      "cell_type": "code",
      "execution_count": null,
      "metadata": {
        "id": "_sQl2bTk4cnu"
      },
      "outputs": [],
      "source": [
        "net_loaded.eval()\n",
        "def count_parameters(model):\n",
        "    return sum(p.numel() for p in model.parameters() if p.requires_grad)\n",
        "print(f'The model has {count_parameters(net_loaded)} parameters.')"
      ]
    },
    {
      "cell_type": "markdown",
      "metadata": {
        "id": "SxuzVSnlUZin"
      },
      "source": [
        "## Evaluating the network on arbirary input\n",
        "### Comparing `net` and `net_loaded`\n",
        "\n",
        "We compare `net` and `net_loaded` to confirm correct loading of the network. Note that `net` is only available if we have trained the model in this session."
      ]
    },
    {
      "cell_type": "code",
      "execution_count": null,
      "metadata": {
        "id": "usq1X1KO4cnu"
      },
      "outputs": [],
      "source": [
        "#%%script echo skipping\n",
        "\n",
        "# Set the network to evaluation mode\n",
        "net.eval()"
      ]
    },
    {
      "cell_type": "code",
      "execution_count": null,
      "metadata": {
        "id": "-pwGJnzK4cnv"
      },
      "outputs": [],
      "source": [
        "# Set the network to evaluation mode\n",
        "net_loaded.eval"
      ]
    },
    {
      "cell_type": "code",
      "execution_count": null,
      "metadata": {
        "id": "vXaSZDzX4cnv"
      },
      "outputs": [],
      "source": [
        "for p1, p2 in zip(net.parameters(), net_loaded.parameters()):\n",
        "    if p1.data.ne(p2.data).sum() > 0:\n",
        "        print(\"Parameters are NOT the same.\")\n",
        "        break\n",
        "else:\n",
        "    print(\"Parameters are the same.\")\n",
        "\n",
        "print(\"Net device:\", next(net.parameters()).device)\n",
        "print(\"Net_loaded device:\", next(net_loaded.parameters()).device)"
      ]
    },
    {
      "cell_type": "code",
      "execution_count": null,
      "metadata": {
        "id": "C0PLAA0DUZin"
      },
      "outputs": [],
      "source": [
        "#%%script echo skipping\n",
        "\n",
        "print(list(net.parameters()))"
      ]
    },
    {
      "cell_type": "code",
      "execution_count": null,
      "metadata": {
        "id": "1NZ8iVA7UZio"
      },
      "outputs": [],
      "source": [
        "print(list(net_loaded.parameters()))"
      ]
    },
    {
      "cell_type": "code",
      "execution_count": null,
      "metadata": {
        "id": "InGW0Xq6UZip"
      },
      "outputs": [],
      "source": [
        "rho_example, epsilon_example, vx_example, vy_example, vz_example, Bx_example, By_example, Bz_example, gxx_example, gxy_example, gxz_example, gyy_example, gyz_example, gzz_example = generate_samples(20)\n",
        "\n",
        "inputs =  generate_input_data(rho_example, epsilon_example, vx_example, vy_example, vz_example, Bx_example, By_example, Bz_example, gxx_example, gxy_example, gxz_example, gyy_example, gyz_example, gzz_example)\n",
        "inputs\n"
      ]
    },
    {
      "cell_type": "code",
      "execution_count": null,
      "metadata": {
        "id": "QVa1upmFUZip"
      },
      "outputs": [],
      "source": [
        "#%%script echo skipping\n",
        "\n",
        "# Pass the inputs to the network and get the outputs\n",
        "outputs = [net(input.unsqueeze(0)) for input in inputs]\n",
        "# Print the outputs\n",
        "outputs"
      ]
    },
    {
      "cell_type": "code",
      "execution_count": null,
      "metadata": {
        "id": "E-Xjfo7VUZir"
      },
      "outputs": [],
      "source": [
        "\n",
        "# Pass the inputs to the network and get the outputs\n",
        "outputs = [net_loaded(input.unsqueeze(0)) for input in inputs]\n",
        "# Print the outputs\n",
        "outputs"
      ]
    },
    {
      "cell_type": "markdown",
      "metadata": {
        "id": "xjpIvdybUZis"
      },
      "source": [
        "## Porting the model to C++"
      ]
    },
    {
      "cell_type": "code",
      "execution_count": null,
      "metadata": {
        "id": "VMlEd4RoUZis"
      },
      "outputs": [],
      "source": [
        "import torch.jit\n",
        "\n",
        "# Creating a dummy input tensor of shape (1, 5) to trace the model\n",
        "dummy_input = torch.randn(1, N_INPUTS).to(device)\n",
        "\n",
        "# Ensure that net_loaded is in evaluation mode.\n",
        "net_loaded.eval()\n",
        "\n",
        "# Tracing the model using the torch.jit.trace function\n",
        "traced_model = torch.jit.trace(net_loaded, dummy_input)\n",
        "\n",
        "# Saving the traced model to a file named \"net.pt\"\n",
        "traced_model.save(\"net.pt\")\n",
        "save_file(\"net.pt\")\n",
        "\n",
        "example_input_to_validate_correct_export_and_import = generate_input_data(*generate_samples(1))\n",
        "print(\"input shape: \", example_input_to_validate_correct_export_and_import.shape)\n",
        "print(\"input: \", example_input_to_validate_correct_export_and_import)\n",
        "print(\"Output:\", net_loaded(example_input_to_validate_correct_export_and_import))"
      ]
    }
  ],
  "metadata": {
    "accelerator": "TPU",
    "colab": {
      "gpuType": "T4",
      "provenance": [],
      "machine_shape": "hm"
    },
    "kernelspec": {
      "display_name": "Python 3",
      "name": "python3"
    },
    "language_info": {
      "codemirror_mode": {
        "name": "ipython",
        "version": 3
      },
      "file_extension": ".py",
      "mimetype": "text/x-python",
      "name": "python",
      "nbconvert_exporter": "python",
      "pygments_lexer": "ipython3",
      "version": "3.11.3"
    },
    "orig_nbformat": 4
  },
  "nbformat": 4,
  "nbformat_minor": 0
}