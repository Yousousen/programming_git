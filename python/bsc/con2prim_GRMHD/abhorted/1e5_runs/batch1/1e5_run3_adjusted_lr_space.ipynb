{
  "cells": [
    {
      "cell_type": "markdown",
      "metadata": {
        "id": "TPvB1xoSUZhR"
      },
      "source": [
        "# Neural network to learn conservative-to-primitive conversion in relativistic hydrodynamics"
      ]
    },
    {
      "cell_type": "markdown",
      "metadata": {
        "id": "__fLZmSf4cm7"
      },
      "source": [
        "## How to use this notebook\n",
        "\n",
        "### Local installation\n",
        "\n",
        "1. Install required packages with `pip install -r requirements.txt` to your desired environment.\n",
        "2. If a script version of this notebook is desired, comment (not uncomment) the first line of `nbconvert` cell.\n",
        "\n",
        "### Colab installation\n",
        "\n",
        "1.  Comment (not uncomment) the first line of the drive mounting cell.\n",
        "2.  Comment (not uncomment) the first line of the `pip install` cell.\n",
        "\n",
        "<!-- - For colab we also want to set the runtime to GPU by clicking _Change runtime_ in the _Runtime_ menu, and -->\n",
        "<!-- - We want to wait for the google drive connection popup to appear and follow the instructions. -->\n",
        "\n",
        "### Loading / Generating data\n",
        "3. Set `LOAD_DATA_FROM_CSV` to `True` / `False` to load data from csv files / generate data in this notebook.\n",
        "\n",
        "### Training without optimization\n",
        "\n",
        "4. Set `OPTIMIZE = False` in section _Constants and flags to set_.\n",
        "5. Run the entire notebook.\n",
        "\n",
        "### Training with optimization\n",
        "\n",
        "4. Set `OPTIMIZE = True` in section _Constants and flags to set_.\n",
        "5. Run the entire notebook.\n",
        "\n",
        "### Loading an already trained model\n",
        "\n",
        "4. Run cells in section _Initialization_.\n",
        "5. Run cells with definitions in section _Input data and labels_.\n",
        "6. Run cell with the definition of _Net_ in section _Defining the neural network_.\n",
        "7. Make sure the `net.pth`, `optimizer.pth`, `scheduler.pth`, `var_dict.json` and `train_output.csv` files are in the directory containing this notebook.\n",
        "8. Run the cells in section _Loading_ and continue from there.\n",
        "\n",
        "### Generating the C++ model\n",
        "\n",
        "9. Run section _Porting the model to C++_, this requires a model to be loaded.\n",
        "10. Set the path to the `net.pt` file in the C++ source file.\n",
        "11. `mkdir build && cd build`,\n",
        "12. Configure a `CMakeLists.txt` file as is done [here](https://pytorch.org/cppdocs/installing.html).\n",
        "13. `cmake -DCMAKE_PREFIX_PATH=/path/to/libtorch/ ..`,\n",
        "14. Compile and run, e.g. `cmake --build . --config release && ./<executable name>`"
      ]
    },
    {
      "cell_type": "markdown",
      "metadata": {
        "id": "Ix44VuOJ4cm9"
      },
      "source": [
        "## Initialization"
      ]
    },
    {
      "cell_type": "markdown",
      "metadata": {
        "id": "pKLcdI-F4cm_"
      },
      "source": [
        "\n",
        "Use this first cell to **convert this notebook** to a python script."
      ]
    },
    {
      "cell_type": "code",
      "execution_count": 1,
      "metadata": {
        "colab": {
          "base_uri": "https://localhost:8080/"
        },
        "id": "eqdgdNLHUZhV",
        "outputId": "558bfcd4-0d06-410e-d92b-d9e88497759f",
        "tags": [
          "remove_cell"
        ]
      },
      "outputs": [
        {
          "output_type": "stream",
          "name": "stdout",
          "text": [
            "skipping\n"
          ]
        }
      ],
      "source": [
        "%%script echo skipping\n",
        "\n",
        "!jupyter nbconvert GRMHD_ML.ipynb --TagRemovePreprocessor.enabled=True --TagRemovePreprocessor.remove_cell_tags='{\"remove_cell\"}' --to script"
      ]
    },
    {
      "cell_type": "markdown",
      "metadata": {
        "id": "nzcUr0LnUZhw"
      },
      "source": [
        "Next some cells for working on **google colab**,"
      ]
    },
    {
      "cell_type": "code",
      "execution_count": 2,
      "metadata": {
        "id": "6VBGn-gc4cnD"
      },
      "outputs": [],
      "source": [
        "import os\n",
        "import shutil\n",
        "\n",
        "# check if the drive is mounted\n",
        "drive_mounted = os.path.exists(\"/content/drive\")\n",
        "# change this to your desired folder\n",
        "drive_folder = \"/content/drive/My Drive/bsc/con2prim_GRMHD/1e5_runs/adjusted_lr_space_run\"\n",
        "\n",
        "# define a function to save a file to the drive or the current directory\n",
        "def save_file(file_name):\n",
        "  if drive_mounted:\n",
        "    # save the file to the drive folder\n",
        "    file_path = os.path.join(drive_folder, file_name)\n",
        "    # copy the file from the current directory to the drive folder\n",
        "    shutil.copyfile(file_name, file_path)\n",
        "  else:\n",
        "    # do nothing as the file is already in the current directory\n",
        "    pass\n"
      ]
    },
    {
      "cell_type": "code",
      "execution_count": 3,
      "metadata": {
        "colab": {
          "base_uri": "https://localhost:8080/"
        },
        "id": "ecHw2_xlUZhx",
        "outputId": "4b49a0fb-9186-4c8c-c20d-ab87b57e7956"
      },
      "outputs": [
        {
          "output_type": "stream",
          "name": "stdout",
          "text": [
            "Mounted at /content/drive\n"
          ]
        }
      ],
      "source": [
        "#%%script echo skipping\n",
        "\n",
        "from google.colab import drive\n",
        "drive.mount('/content/drive')"
      ]
    },
    {
      "cell_type": "code",
      "execution_count": 4,
      "metadata": {
        "colab": {
          "base_uri": "https://localhost:8080/"
        },
        "id": "T1rcStMLUZhy",
        "outputId": "5098edd8-d82d-40a8-82e0-d3944714cb62"
      },
      "outputs": [
        {
          "output_type": "stream",
          "name": "stdout",
          "text": [
            "Looking in indexes: https://pypi.org/simple, https://us-python.pkg.dev/colab-wheels/public/simple/\n",
            "Collecting optuna\n",
            "  Downloading optuna-3.2.0-py3-none-any.whl (390 kB)\n",
            "\u001b[2K     \u001b[90m━━━━━━━━━━━━━━━━━━━━━━━━━━━━━━━━━━━━━━━\u001b[0m \u001b[32m390.6/390.6 kB\u001b[0m \u001b[31m8.7 MB/s\u001b[0m eta \u001b[36m0:00:00\u001b[0m\n",
            "\u001b[?25hRequirement already satisfied: tensorboard in /usr/local/lib/python3.10/dist-packages (2.12.2)\n",
            "Collecting tensorboardX\n",
            "  Downloading tensorboardX-2.6-py2.py3-none-any.whl (114 kB)\n",
            "\u001b[2K     \u001b[90m━━━━━━━━━━━━━━━━━━━━━━━━━━━━━━━━━━━━━━\u001b[0m \u001b[32m114.5/114.5 kB\u001b[0m \u001b[31m13.6 MB/s\u001b[0m eta \u001b[36m0:00:00\u001b[0m\n",
            "\u001b[?25hCollecting alembic>=1.5.0 (from optuna)\n",
            "  Downloading alembic-1.11.1-py3-none-any.whl (224 kB)\n",
            "\u001b[2K     \u001b[90m━━━━━━━━━━━━━━━━━━━━━━━━━━━━━━━━━━━━━━\u001b[0m \u001b[32m224.5/224.5 kB\u001b[0m \u001b[31m26.6 MB/s\u001b[0m eta \u001b[36m0:00:00\u001b[0m\n",
            "\u001b[?25hCollecting cmaes>=0.9.1 (from optuna)\n",
            "  Downloading cmaes-0.9.1-py3-none-any.whl (21 kB)\n",
            "Collecting colorlog (from optuna)\n",
            "  Downloading colorlog-6.7.0-py2.py3-none-any.whl (11 kB)\n",
            "Requirement already satisfied: numpy in /usr/local/lib/python3.10/dist-packages (from optuna) (1.22.4)\n",
            "Requirement already satisfied: packaging>=20.0 in /usr/local/lib/python3.10/dist-packages (from optuna) (23.1)\n",
            "Requirement already satisfied: sqlalchemy>=1.3.0 in /usr/local/lib/python3.10/dist-packages (from optuna) (2.0.10)\n",
            "Requirement already satisfied: tqdm in /usr/local/lib/python3.10/dist-packages (from optuna) (4.65.0)\n",
            "Requirement already satisfied: PyYAML in /usr/local/lib/python3.10/dist-packages (from optuna) (6.0)\n",
            "Requirement already satisfied: absl-py>=0.4 in /usr/local/lib/python3.10/dist-packages (from tensorboard) (1.4.0)\n",
            "Requirement already satisfied: grpcio>=1.48.2 in /usr/local/lib/python3.10/dist-packages (from tensorboard) (1.54.0)\n",
            "Requirement already satisfied: google-auth<3,>=1.6.3 in /usr/local/lib/python3.10/dist-packages (from tensorboard) (2.17.3)\n",
            "Requirement already satisfied: google-auth-oauthlib<1.1,>=0.5 in /usr/local/lib/python3.10/dist-packages (from tensorboard) (1.0.0)\n",
            "Requirement already satisfied: markdown>=2.6.8 in /usr/local/lib/python3.10/dist-packages (from tensorboard) (3.4.3)\n",
            "Requirement already satisfied: protobuf>=3.19.6 in /usr/local/lib/python3.10/dist-packages (from tensorboard) (3.20.3)\n",
            "Requirement already satisfied: requests<3,>=2.21.0 in /usr/local/lib/python3.10/dist-packages (from tensorboard) (2.27.1)\n",
            "Requirement already satisfied: setuptools>=41.0.0 in /usr/local/lib/python3.10/dist-packages (from tensorboard) (67.7.2)\n",
            "Requirement already satisfied: tensorboard-data-server<0.8.0,>=0.7.0 in /usr/local/lib/python3.10/dist-packages (from tensorboard) (0.7.0)\n",
            "Requirement already satisfied: tensorboard-plugin-wit>=1.6.0 in /usr/local/lib/python3.10/dist-packages (from tensorboard) (1.8.1)\n",
            "Requirement already satisfied: werkzeug>=1.0.1 in /usr/local/lib/python3.10/dist-packages (from tensorboard) (2.3.0)\n",
            "Requirement already satisfied: wheel>=0.26 in /usr/local/lib/python3.10/dist-packages (from tensorboard) (0.40.0)\n",
            "Collecting Mako (from alembic>=1.5.0->optuna)\n",
            "  Downloading Mako-1.2.4-py3-none-any.whl (78 kB)\n",
            "\u001b[2K     \u001b[90m━━━━━━━━━━━━━━━━━━━━━━━━━━━━━━━━━━━━━━━━\u001b[0m \u001b[32m78.7/78.7 kB\u001b[0m \u001b[31m10.9 MB/s\u001b[0m eta \u001b[36m0:00:00\u001b[0m\n",
            "\u001b[?25hRequirement already satisfied: typing-extensions>=4 in /usr/local/lib/python3.10/dist-packages (from alembic>=1.5.0->optuna) (4.5.0)\n",
            "Requirement already satisfied: cachetools<6.0,>=2.0.0 in /usr/local/lib/python3.10/dist-packages (from google-auth<3,>=1.6.3->tensorboard) (5.3.0)\n",
            "Requirement already satisfied: pyasn1-modules>=0.2.1 in /usr/local/lib/python3.10/dist-packages (from google-auth<3,>=1.6.3->tensorboard) (0.3.0)\n",
            "Requirement already satisfied: six>=1.9.0 in /usr/local/lib/python3.10/dist-packages (from google-auth<3,>=1.6.3->tensorboard) (1.16.0)\n",
            "Requirement already satisfied: rsa<5,>=3.1.4 in /usr/local/lib/python3.10/dist-packages (from google-auth<3,>=1.6.3->tensorboard) (4.9)\n",
            "Requirement already satisfied: requests-oauthlib>=0.7.0 in /usr/local/lib/python3.10/dist-packages (from google-auth-oauthlib<1.1,>=0.5->tensorboard) (1.3.1)\n",
            "Requirement already satisfied: urllib3<1.27,>=1.21.1 in /usr/local/lib/python3.10/dist-packages (from requests<3,>=2.21.0->tensorboard) (1.26.15)\n",
            "Requirement already satisfied: certifi>=2017.4.17 in /usr/local/lib/python3.10/dist-packages (from requests<3,>=2.21.0->tensorboard) (2022.12.7)\n",
            "Requirement already satisfied: charset-normalizer~=2.0.0 in /usr/local/lib/python3.10/dist-packages (from requests<3,>=2.21.0->tensorboard) (2.0.12)\n",
            "Requirement already satisfied: idna<4,>=2.5 in /usr/local/lib/python3.10/dist-packages (from requests<3,>=2.21.0->tensorboard) (3.4)\n",
            "Requirement already satisfied: greenlet!=0.4.17 in /usr/local/lib/python3.10/dist-packages (from sqlalchemy>=1.3.0->optuna) (2.0.2)\n",
            "Requirement already satisfied: MarkupSafe>=2.1.1 in /usr/local/lib/python3.10/dist-packages (from werkzeug>=1.0.1->tensorboard) (2.1.2)\n",
            "Requirement already satisfied: pyasn1<0.6.0,>=0.4.6 in /usr/local/lib/python3.10/dist-packages (from pyasn1-modules>=0.2.1->google-auth<3,>=1.6.3->tensorboard) (0.5.0)\n",
            "Requirement already satisfied: oauthlib>=3.0.0 in /usr/local/lib/python3.10/dist-packages (from requests-oauthlib>=0.7.0->google-auth-oauthlib<1.1,>=0.5->tensorboard) (3.2.2)\n",
            "Installing collected packages: tensorboardX, Mako, colorlog, cmaes, alembic, optuna\n",
            "Successfully installed Mako-1.2.4 alembic-1.11.1 cmaes-0.9.1 colorlog-6.7.0 optuna-3.2.0 tensorboardX-2.6\n"
          ]
        }
      ],
      "source": [
        "#%%script echo skipping\n",
        "\n",
        "!pip install optuna tensorboard tensorboardX"
      ]
    },
    {
      "cell_type": "markdown",
      "metadata": {
        "id": "msDldnu_4cnF"
      },
      "source": [
        "Importing the **libraries**,"
      ]
    },
    {
      "cell_type": "code",
      "execution_count": 5,
      "metadata": {
        "id": "tREdWQUVUZhz"
      },
      "outputs": [],
      "source": [
        "import numpy as np\n",
        "import matplotlib.pyplot as plt\n",
        "import torch\n",
        "import torch.nn as nn\n",
        "import torch.optim as optim\n",
        "import torch.nn.functional as F\n",
        "import optuna\n",
        "import tensorboardX as tbx\n",
        "import pandas as pd"
      ]
    },
    {
      "cell_type": "markdown",
      "metadata": {
        "id": "38GvmerjUZhz"
      },
      "source": [
        "### Constants and flags to set\n",
        "Defining some constants and parameters for convenience.\n",
        "\n",
        "**NOTE**: Some **subparameters** still need to be adjusted in the `create_model` function itself as of (Tue May 16 07:42:45 AM CEST 2023) in the case the model is being trained without optimization."
      ]
    },
    {
      "cell_type": "code",
      "execution_count": 6,
      "metadata": {
        "id": "ei6VZDYKUZh0"
      },
      "outputs": [],
      "source": [
        "\n",
        "# Checking if GPU is available and setting the device accordingly\n",
        "device = torch.device(\"cuda\" if torch.cuda.is_available() else \"cpu\")\n",
        "\n",
        "N_TRIALS = 300 # Number of trials for hyperparameter optimization # NOTE: Set this properly.\n",
        "OPTIMIZE = True # Whether to optimize the hyperparameters or to use predetermined values. # NOTE: Set this properly.\n",
        "ZSCORE_NORMALIZATION = False # Whether to z-score normalize the input data.\n",
        "LOAD_DATA_FROM_CSV = False  # If not true we generate the data in this file and save to {x_train,y_train,x_test,y_test}.csv, otherwise we load the data from files of the same name. # NOTE: Set this before properly.\n",
        "\n",
        "csv_filenames = { # File names to load input data and labels from if LOAD_DATA_FROM_CSV is True.\n",
        "    \"x_train\": \"x_train.csv\",\n",
        "    \"x_val\": \"x_val.csv\",\n",
        "    \"x_test\": \"x_test.csv\",\n",
        "    \"y_train\": \"y_train.csv\",\n",
        "    \"y_val\": \"y_val.csv\",\n",
        "    \"y_test\": \"y_test.csv\",\n",
        "}\n",
        "\n",
        "# Values to use for hyperparameters if OPTIMIZE is False; set these to the best parameters found by Optuna.\n",
        "# NOTE: TODO: Currently (Sat May 27 05:16:57 PM CEST 2023) there are still subparameters to be set in create_model function.\n",
        "N_LAYERS_NO_OPT = 3\n",
        "N_UNITS_NO_OPT = [555, 458, 115]\n",
        "HIDDEN_ACTIVATION_NAME_NO_OPT = \"LeakyReLU\"\n",
        "OUTPUT_ACTIVATION_NAME_NO_OPT = \"Linear\"\n",
        "LOSS_NAME_NO_OPT = \"Huber\"\n",
        "OPTIMIZER_NAME_NO_OPT = \"RMSprop\"\n",
        "LR_NO_OPT = 0.000122770896701404\n",
        "BATCH_SIZE_NO_OPT = 49\n",
        "N_EPOCHS_NO_OPT = 500 # NOTE: Set this properly.\n",
        "SCHEDULER_NAME_NO_OPT = \"ReduceLROnPlateau\"\n",
        "DROPOUT_RATE_NO_OPT = 0.2\n",
        "\n",
        "N_INPUTS = 14  # Number of input features.\n",
        "N_OUTPUTS = 1  # Number of outputs.\n",
        "Gamma = 5/3  # Adiabatic index\n",
        "\n",
        "n_samples = 1e5 # NOTE: Set this properly.\n",
        "train_frac = 0.7  # 70% of data for training\n",
        "val_frac = 0.15  # 15% of data for validation, rest for testing\n",
        "\n",
        "rho_interval = (0, 2) \n",
        "epsilon_interval = (1e-2, 2000)  # Will be sampled in log space\n",
        "vx_interval = (0, 0.999)  \n",
        "vy_interval = (0, 0.999)  \n",
        "vz_interval = (0, 0.999)  \n",
        "Bx_interval = (-10, 10)  \n",
        "By_interval = (-10, 10)  \n",
        "Bz_interval = (-10, 10)  \n",
        "gxx_interval = (0.9, 1.1)\n",
        "gxy_interval = (0, 0.1)\n",
        "gxz_interval = (0, 0.1)\n",
        "gyy_interval = (0.9, 1.1)\n",
        "gyz_interval = (0, 0.1)\n",
        "gzz_interval = (0.9, 1.1)\n",
        "\n",
        "np.random.seed(70) # Comment for true random data.\n"
      ]
    },
    {
      "cell_type": "markdown",
      "metadata": {
        "id": "dlaP5UL2UZh1"
      },
      "source": [
        "## Input data and labels\n",
        "\n",
        "We either generate the data or load the data. First the definitions for generating the data come below."
      ]
    },
    {
      "cell_type": "code",
      "execution_count": 7,
      "metadata": {
        "id": "s_EvGFZcUZh1"
      },
      "outputs": [],
      "source": [
        "# Defining an analytic equation of state (EOS) for an ideal gas\n",
        "def eos_analytic(rho, epsilon):\n",
        "    # Adding some assertions to check that the input tensors are valid and have \n",
        "    # the expected shape and type \n",
        "    assert isinstance(rho, torch.Tensor), \"rho must be a torch.Tensor\"\n",
        "    assert isinstance(epsilon, torch.Tensor), \"epsilon must be a torch.Tensor\"\n",
        "    print('rho.shape: ', rho.shape)\n",
        "    print('epsilon.shape: ', epsilon.shape)\n",
        "    assert rho.shape == epsilon.shape, \"rho and epsilon must have the same shape\"\n",
        "    assert rho.ndim == 1, \"rho and epsilon must be one-dimensional tensors\"\n",
        "    assert rho.dtype == torch.float32, \"rho and epsilon must have dtype torch.float32\"\n",
        "\n",
        "    return (Gamma - 1) * rho * epsilon\n",
        "\n",
        "def sample_primitive_variables_and_metric():\n",
        "    rho = np.random.uniform(*rho_interval)  \n",
        "    epsilon = np.random.uniform(*np.log10(epsilon_interval))\n",
        "    vx = np.random.uniform(*vx_interval)  \n",
        "    vy = np.random.uniform(*vy_interval)  \n",
        "    vz = np.random.uniform(*vz_interval)  \n",
        "    Bx = np.random.uniform(*Bx_interval)  \n",
        "    By = np.random.uniform(*By_interval)  \n",
        "    Bz = np.random.uniform(*Bz_interval)  \n",
        "    gxx = np.random.uniform(*gxx_interval)\n",
        "    gxy = np.random.uniform(*gxy_interval)\n",
        "    gxz = np.random.uniform(*gxz_interval)\n",
        "    gyy = np.random.uniform(*gyy_interval)\n",
        "    gyz = np.random.uniform(*gyz_interval)\n",
        "    gzz = np.random.uniform(*gzz_interval)\n",
        "\n",
        "    return rho, epsilon, vx, vy, vz, Bx, By, Bz, gxx, gxy, gxz, gyy, gyz, gzz\n",
        "\n",
        "def check_sample(rho, epsilon, vx, vy, vz, Bx, By, Bz, gxx, gxy, gxz, gyy, gyz, gzz):\n",
        "    wtemp_expr = 1 - (gxx * vx**2 + gyy * vy**2 + gzz * vz**2 + 2 * gxy * vx * vy + 2 * gxz * vx * vz + 2 * gyz * vy * vz)\n",
        "    sdet_expr = gxx * gyy * gzz + 2 * gxy * gxz * gyz - gxx * gyz ** 2 - gyy * gxz ** 2 - gzz * gxy ** 2\n",
        "    if vx**2 + vy**2 + vz**2 >= 1 or wtemp_expr < 0 or sdet_expr < 0:\n",
        "        # print(f\"Sample failed checks. vx^2+vy^2+vz^2: {vx**2 + vy**2 + vz**2}, wtemp_expr: {wtemp_expr}, sdet_expr: {sdet_expr}\")\n",
        "        return False\n",
        "    else:\n",
        "        # print(f\"Sample passed checks. vx^2+vy^2+vz^2: {vx**2 + vy**2 + vz**2}, wtemp_expr: {wtemp_expr}, sdet_expr: {sdet_expr}\")\n",
        "        return True\n",
        "\n",
        "def generate_samples(n_samples):\n",
        "    samples = []\n",
        "    while len(samples) < n_samples:\n",
        "        sample = sample_primitive_variables_and_metric()\n",
        "        if check_sample(*sample):\n",
        "            samples.append(sample)\n",
        "        # print(f\"Number of valid samples: {len(samples)}\")\n",
        "    return zip(*samples)\n",
        "def sdet(gxx, gxy, gxz, gyy, gyz, gzz):\n",
        "    # Determinant of the three metric.\n",
        "    return (gxx * gyy * gzz + 2 * gxy * gxz * gyz - gxx * gyz ** 2 - gyy * gxz ** 2 - gzz * gxy ** 2) ** 0.5\n",
        "\n",
        "# Defining a function that computes conserved variables from primitive variables and the metric\n",
        "# We follow the source code of GRaM-X: A new GPU-accelerated dynamical spacetime GRMHD code for Exascale\n",
        "# computing with the Einstein Toolkit of Shankar et al.\n",
        "def compute_conserved_variables(rho, epsilon, vx, vy, vz, Bx, By, Bz, gxx, gxy, gxz, gyy, gyz, gzz):\n",
        "    pres = eos_analytic(rho, epsilon)\n",
        "    wtemp = 1 / (1 - (gxx * vx**2 + gyy * vy**2 + gzz * vz**2 +\n",
        "        2 * gxy * vx * vy + 2 * gxz * vx * vz +\n",
        "        2 * gyz * vy * vz))**0.5\n",
        "\n",
        "    vlowx = gxx * vx + gxy * vy + gxz * vz\n",
        "    vlowy = gxy * vx + gyy * vy + gyz * vz\n",
        "    vlowz = gxz * vx + gyz * vy + gzz * vz\n",
        "\n",
        "    Bxlow = gxx * Bx + gxy * By + gxz * Bz\n",
        "    Bylow = gxy * Bx + gyy * By + gyz * Bz\n",
        "    Bzlow = gxz * Bx + gyz * By + gzz * Bz\n",
        "\n",
        "    B2 = Bxlow * Bx + Bylow * By + Bzlow * Bz\n",
        "\n",
        "    Bdotv = Bxlow * vx + Bylow * vy + Bzlow * vz\n",
        "    Bdotv2 = Bdotv * Bdotv\n",
        "    wtemp2 = wtemp * wtemp\n",
        "    b2 = B2 / wtemp2 + Bdotv2\n",
        "    ab0 = wtemp * Bdotv\n",
        "\n",
        "    blowx = (gxx * Bx + gxy * By + gxz * Bz) / wtemp + wtemp * Bdotv * vlowx\n",
        "    blowy = (gxy * Bx + gyy * By + gyz * Bz) / wtemp + wtemp * Bdotv * vlowy\n",
        "    blowz = (gxz * Bx + gyz * By + gzz * Bz) / wtemp + wtemp * Bdotv * vlowz\n",
        "\n",
        "    hrhow2 = (rho * (1 + epsilon) + pres + b2) * (wtemp) * (wtemp)\n",
        "\n",
        "    D = sdet(gxx, gxy, gxz, gyy, gyz, gzz) * rho * (wtemp)\n",
        "    Sx = sdet(gxx, gxy, gxz, gyy, gyz, gzz) * (hrhow2 * vlowx - ab0 * blowx)\n",
        "    Sy = sdet(gxx, gxy, gxz, gyy, gyz, gzz) * (hrhow2 * vlowy - ab0 * blowy)\n",
        "    Sz = sdet(gxx, gxy, gxz, gyy, gyz, gzz) * (hrhow2 * vlowz - ab0 * blowz)\n",
        "    tau = sdet(gxx, gxy, gxz, gyy, gyz, gzz) * (hrhow2 - pres - b2 / 2 - ab0 * ab0) - D\n",
        "    Bconsx = sdet(gxx, gxy, gxz, gyy, gyz, gzz) * Bx\n",
        "    Bconsy = sdet(gxx, gxy, gxz, gyy, gyz, gzz) * By\n",
        "    Bconsz = sdet(gxx, gxy, gxz, gyy, gyz, gzz) * Bz\n",
        "\n",
        "    return D, Sx, Sy, Sz, tau, Bconsx, Bconsy, Bconsz\n",
        "\n",
        "def generate_input_data(rho, epsilon, vx, vy, vz, Bx, By, Bz, gxx, gxy, gxz, gyy, gyz, gzz):\n",
        "    rho = torch.tensor(np.array(rho), dtype=torch.float32).to(device)\n",
        "    epsilon = torch.tensor(np.array(epsilon), dtype=torch.float32).to(device)\n",
        "    vx = torch.tensor(np.array(vx), dtype=torch.float32).to(device)\n",
        "    vy = torch.tensor(np.array(vy), dtype=torch.float32).to(device)\n",
        "    vz = torch.tensor(np.array(vz), dtype=torch.float32).to(device)\n",
        "    Bx = torch.tensor(np.array(Bx), dtype=torch.float32).to(device)\n",
        "    By = torch.tensor(np.array(By), dtype=torch.float32).to(device)\n",
        "    Bz = torch.tensor(np.array(Bz), dtype=torch.float32).to(device)\n",
        "    gxx = torch.tensor(np.array(gxx), dtype=torch.float32).to(device)\n",
        "    gxy = torch.tensor(np.array(gxy), dtype=torch.float32).to(device)\n",
        "    gxz = torch.tensor(np.array(gxz), dtype=torch.float32).to(device)\n",
        "    gyy = torch.tensor(np.array(gyy), dtype=torch.float32).to(device)\n",
        "    gyz = torch.tensor(np.array(gyz), dtype=torch.float32).to(device)\n",
        "    gzz = torch.tensor(np.array(gzz), dtype=torch.float32).to(device)\n",
        "\n",
        "    D, Sx, Sy, Sz, tau, Bscriptx, Bscripty, Bscriptz = compute_conserved_variables(\n",
        "        rho, epsilon, vx, vy, vz, Bx, By, Bz, gxx, gxy, gxz, gyy, gyz, gzz\n",
        "    ) \n",
        "\n",
        "    # Add gxx, gxy, gxz, gyy, gyz, gzz to the tensor\n",
        "    x = torch.stack([D, Sx, Sy, Sz, tau, Bscriptx, Bscripty, Bscriptz, gxx, gxy, gxz, gyy, gyz, gzz], axis=1)\n",
        "    return x\n",
        "\n",
        "# Defining a function that generates output data (labels) from given samples of primitive variables\n",
        "# We use the definitions as given in Recovery schemes for primitive variables in\n",
        "# general-relativistic magnetohydrodynamics of Siegel et al.\n",
        "def generate_labels(rho, epsilon, vx, vy, vz):\n",
        "    # Converting the numpy arrays to torch tensors and moving them to the device\n",
        "    rho = torch.tensor(np.array(rho), dtype=torch.float32).to(device)\n",
        "    epsilon = torch.tensor(np.array(epsilon), dtype=torch.float32).to(device)\n",
        "    vx = torch.tensor(np.array(vx), dtype=torch.float32).to(device)\n",
        "    vy = torch.tensor(np.array(vy), dtype=torch.float32).to(device)\n",
        "    vz = torch.tensor(np.array(vz), dtype=torch.float32).to(device)\n",
        "\n",
        "    # Computing the required quantities\n",
        "    pres = eos_analytic(rho, epsilon)\n",
        "    h = 1 + epsilon + pres / rho\n",
        "    W = 1 / torch.sqrt(1 - (vx * vx + vy * vy + vz * vz))\n",
        "\n",
        "    # Returning the output data tensor\n",
        "    return h * W"
      ]
    },
    {
      "cell_type": "markdown",
      "metadata": {
        "id": "SSJd2Ch74cnI"
      },
      "source": [
        "### Generating or loading input data and labels"
      ]
    },
    {
      "cell_type": "code",
      "execution_count": 8,
      "metadata": {
        "id": "Dbu0GvMz4cnI"
      },
      "outputs": [],
      "source": [
        "%config InteractiveShell.ast_node_interactivity = \"all\""
      ]
    },
    {
      "cell_type": "code",
      "execution_count": 9,
      "metadata": {
        "id": "cKubR6C8UZh4"
      },
      "outputs": [],
      "source": [
        "if LOAD_DATA_FROM_CSV:\n",
        "    # Load the data from CSV files\n",
        "    x_train = pd.read_csv(csv_filenames[\"x_train\"]).values\n",
        "    y_train = pd.read_csv(csv_filenames[\"y_train\"]).values.squeeze()  # reshape to 1D\n",
        "    x_val = pd.read_csv(csv_filenames[\"x_val\"]).values\n",
        "    y_val = pd.read_csv(csv_filenames[\"y_val\"]).values.squeeze()  # reshape to 1D\n",
        "    x_test = pd.read_csv(csv_filenames[\"x_test\"]).values\n",
        "    y_test = pd.read_csv(csv_filenames[\"y_test\"]).values.squeeze()  # reshape to 1D\n",
        "\n",
        "    # Convert numpy arrays to tensors\n",
        "    x_train = torch.from_numpy(x_train).float().to(device)\n",
        "    y_train = torch.from_numpy(y_train).float().to(device)\n",
        "    x_val = torch.from_numpy(x_val).float().to(device)\n",
        "    y_val = torch.from_numpy(y_val).float().to(device)\n",
        "    x_test = torch.from_numpy(x_test).float().to(device)\n",
        "    y_test = torch.from_numpy(y_test).float().to(device)\n",
        "\n",
        "    # This is an alternative to having if clauses around the cells that visualize these variables.\n",
        "    rho = epsilon = vx = vy = vz = Bx = By = Bz = gxx = gxy = gxz = gyy = gyz  = gzz = None"
      ]
    },
    {
      "cell_type": "code",
      "execution_count": 10,
      "metadata": {
        "id": "dImVa4W04cnJ"
      },
      "outputs": [],
      "source": [
        "if not LOAD_DATA_FROM_CSV:\n",
        "    # Sample primitive variables and metric\n",
        "    rho, epsilon, vx, vy, vz, Bx, By, Bz, gxx, gxy, gxz, gyy, gyz, gzz = generate_samples(n_samples)"
      ]
    },
    {
      "cell_type": "code",
      "execution_count": 11,
      "metadata": {
        "id": "ESK3LQPg4cnJ",
        "outputId": "d182401e-c135-486a-e9ef-d977aee3e55b",
        "colab": {
          "base_uri": "https://localhost:8080/"
        }
      },
      "outputs": [
        {
          "output_type": "stream",
          "name": "stdout",
          "text": [
            "rho.shape:  torch.Size([100000])\n",
            "epsilon.shape:  torch.Size([100000])\n",
            "rho.shape:  torch.Size([100000])\n",
            "epsilon.shape:  torch.Size([100000])\n"
          ]
        }
      ],
      "source": [
        "if not LOAD_DATA_FROM_CSV:\n",
        "    # Generate data and labels.\n",
        "    x = generate_input_data(rho, epsilon, vx, vy, vz, Bx, By, Bz, gxx, gxy, gxz, gyy, gyz, gzz)\n",
        "    y = generate_labels(rho, epsilon, vx, vy, vz)\n",
        "\n",
        "    # Calculate the number of samples in each set\n",
        "    n_train_samples = int(n_samples * train_frac)\n",
        "    n_val_samples = int(n_samples * val_frac)\n",
        "\n",
        "    # Create the data sets\n",
        "    x_train = x[:n_train_samples]\n",
        "    y_train = y[:n_train_samples]\n",
        "    x_val = x[n_train_samples : n_train_samples + n_val_samples]\n",
        "    y_val = y[n_train_samples : n_train_samples + n_val_samples]\n",
        "    x_test = x[n_train_samples + n_val_samples :]\n",
        "    y_test = y[n_train_samples + n_val_samples :]\n",
        "\n",
        "    # Save the data to CSV files; tensors need to be converted numpy arrays for saving in CSV.\n",
        "    pd.DataFrame(x_train.cpu().numpy()).to_csv(csv_filenames[\"x_train\"], index=False)\n",
        "    save_file(csv_filenames[\"x_train\"])\n",
        "    pd.DataFrame(y_train.cpu().numpy()).to_csv(csv_filenames[\"y_train\"], index=False)\n",
        "    save_file(csv_filenames[\"y_train\"])\n",
        "\n",
        "    pd.DataFrame(x_val.cpu().numpy()).to_csv(csv_filenames[\"x_val\"], index=False)\n",
        "    save_file(csv_filenames[\"x_val\"])\n",
        "    pd.DataFrame(y_val.cpu().numpy()).to_csv(csv_filenames[\"y_val\"], index=False)\n",
        "    save_file(csv_filenames[\"y_val\"])\n",
        "\n",
        "    pd.DataFrame(x_test.cpu().numpy()).to_csv(csv_filenames[\"x_test\"], index=False)\n",
        "    save_file(csv_filenames[\"x_test\"])\n",
        "    pd.DataFrame(y_test.cpu().numpy()).to_csv(csv_filenames[\"y_test\"], index=False)\n",
        "    save_file(csv_filenames[\"y_test\"])"
      ]
    },
    {
      "cell_type": "code",
      "execution_count": 12,
      "metadata": {
        "id": "Y-3DG_h24cnJ",
        "outputId": "4dab55f5-cae1-4bae-b1b8-67c6f599a1e4",
        "colab": {
          "base_uri": "https://localhost:8080/"
        }
      },
      "outputs": [
        {
          "output_type": "execute_result",
          "data": {
            "text/plain": [
              "torch.Size([70000, 14])"
            ]
          },
          "metadata": {},
          "execution_count": 12
        },
        {
          "output_type": "execute_result",
          "data": {
            "text/plain": [
              "torch.Size([70000])"
            ]
          },
          "metadata": {},
          "execution_count": 12
        },
        {
          "output_type": "execute_result",
          "data": {
            "text/plain": [
              "torch.Size([15000, 14])"
            ]
          },
          "metadata": {},
          "execution_count": 12
        },
        {
          "output_type": "execute_result",
          "data": {
            "text/plain": [
              "torch.Size([15000])"
            ]
          },
          "metadata": {},
          "execution_count": 12
        },
        {
          "output_type": "execute_result",
          "data": {
            "text/plain": [
              "torch.Size([15000, 14])"
            ]
          },
          "metadata": {},
          "execution_count": 12
        },
        {
          "output_type": "execute_result",
          "data": {
            "text/plain": [
              "torch.Size([15000])"
            ]
          },
          "metadata": {},
          "execution_count": 12
        },
        {
          "output_type": "execute_result",
          "data": {
            "text/plain": [
              "tensor([[ 1.5052e-01,  6.9911e+01,  5.2254e+01,  ...,  9.0098e-01,\n",
              "          7.8799e-02,  1.0349e+00],\n",
              "        [ 1.6257e+00, -1.2595e+00,  8.2978e+00,  ...,  1.0485e+00,\n",
              "          9.2982e-02,  9.0812e-01],\n",
              "        [ 1.3144e+00,  1.9456e+01,  2.0009e+01,  ...,  1.0516e+00,\n",
              "          5.2514e-02,  9.3525e-01],\n",
              "        ...,\n",
              "        [ 4.8502e+00,  3.0509e+01,  2.1219e+00,  ...,  1.0638e+00,\n",
              "          2.5240e-02,  9.7035e-01],\n",
              "        [ 2.0783e-01,  3.4716e+01,  1.7203e+01,  ...,  1.0622e+00,\n",
              "          3.9270e-02,  9.8392e-01],\n",
              "        [ 2.8773e+00, -3.8148e+00,  3.9378e+01,  ...,  1.0583e+00,\n",
              "          3.7270e-02,  9.6673e-01]], device='cuda:0')"
            ]
          },
          "metadata": {},
          "execution_count": 12
        },
        {
          "output_type": "execute_result",
          "data": {
            "text/plain": [
              "tensor([ 6.2784, -0.7416,  2.3403,  ..., -4.3545,  2.3844,  7.8899],\n",
              "       device='cuda:0')"
            ]
          },
          "metadata": {},
          "execution_count": 12
        },
        {
          "output_type": "execute_result",
          "data": {
            "text/plain": [
              "tensor([[ 1.7930e+00,  4.8936e+01,  5.1299e+01,  ...,  9.0994e-01,\n",
              "          9.5550e-02,  9.1821e-01],\n",
              "        [ 1.7003e+00, -7.2934e+00,  5.1039e+00,  ...,  9.1014e-01,\n",
              "          9.0360e-02,  1.0498e+00],\n",
              "        [ 1.2915e+00,  1.1420e+01, -1.5463e+01,  ...,  1.0101e+00,\n",
              "          2.3252e-02,  9.8472e-01],\n",
              "        ...,\n",
              "        [ 1.5920e+00,  2.5180e+01,  1.4149e+01,  ...,  9.3743e-01,\n",
              "          4.7283e-02,  1.0395e+00],\n",
              "        [ 8.3691e-01, -7.8790e+00,  3.0667e+01,  ...,  9.9888e-01,\n",
              "          9.2545e-02,  9.2777e-01],\n",
              "        [ 1.7245e+00, -1.1318e+01,  1.3903e+01,  ...,  9.3182e-01,\n",
              "          5.8519e-02,  9.6224e-01]], device='cuda:0')"
            ]
          },
          "metadata": {},
          "execution_count": 12
        },
        {
          "output_type": "execute_result",
          "data": {
            "text/plain": [
              "tensor([ 7.8535, -0.0869,  0.9857,  ...,  1.4526,  9.4270,  7.3892],\n",
              "       device='cuda:0')"
            ]
          },
          "metadata": {},
          "execution_count": 12
        },
        {
          "output_type": "execute_result",
          "data": {
            "text/plain": [
              "tensor([[ 2.7066e+00,  7.2318e+01, -2.8853e+01,  ...,  9.8857e-01,\n",
              "          4.1255e-02,  1.0451e+00],\n",
              "        [ 2.1383e+00,  2.8131e+01,  6.9616e+01,  ...,  1.0613e+00,\n",
              "          8.2385e-02,  1.0892e+00],\n",
              "        [ 7.4486e-01,  8.1011e+01, -2.6955e+01,  ...,  9.1635e-01,\n",
              "          1.1930e-02,  1.0935e+00],\n",
              "        ...,\n",
              "        [ 1.2719e+00,  4.0807e+00, -5.5112e-01,  ...,  1.0575e+00,\n",
              "          3.0295e-02,  9.0798e-01],\n",
              "        [ 1.7500e+00, -1.1416e+01,  2.5838e+01,  ...,  1.0783e+00,\n",
              "          1.3951e-02,  9.5195e-01],\n",
              "        [ 2.1329e+00, -8.5996e+00,  2.4396e+01,  ...,  9.2411e-01,\n",
              "          4.0945e-02,  9.7228e-01]], device='cuda:0')"
            ]
          },
          "metadata": {},
          "execution_count": 12
        },
        {
          "output_type": "execute_result",
          "data": {
            "text/plain": [
              "tensor([ 8.9882,  4.2383, 10.0341,  ...,  3.0453,  0.9038, -2.2624],\n",
              "       device='cuda:0')"
            ]
          },
          "metadata": {},
          "execution_count": 12
        }
      ],
      "source": [
        "\n",
        "x_train.shape\n",
        "y_train.shape\n",
        "x_val.shape\n",
        "y_val.shape\n",
        "x_test.shape\n",
        "y_test.shape\n",
        "x_train\n",
        "y_train\n",
        "x_val\n",
        "y_val\n",
        "x_test\n",
        "y_test"
      ]
    },
    {
      "cell_type": "code",
      "execution_count": 13,
      "metadata": {
        "id": "xdpjCNO94cnK",
        "outputId": "8a560cfe-5165-4d4d-814b-6a74490a0b14",
        "colab": {
          "base_uri": "https://localhost:8080/"
        }
      },
      "outputs": [
        {
          "output_type": "execute_result",
          "data": {
            "text/plain": [
              "tensor(False, device='cuda:0')"
            ]
          },
          "metadata": {},
          "execution_count": 13
        },
        {
          "output_type": "execute_result",
          "data": {
            "text/plain": [
              "tensor(False, device='cuda:0')"
            ]
          },
          "metadata": {},
          "execution_count": 13
        },
        {
          "output_type": "execute_result",
          "data": {
            "text/plain": [
              "tensor(False, device='cuda:0')"
            ]
          },
          "metadata": {},
          "execution_count": 13
        },
        {
          "output_type": "execute_result",
          "data": {
            "text/plain": [
              "tensor(False, device='cuda:0')"
            ]
          },
          "metadata": {},
          "execution_count": 13
        },
        {
          "output_type": "execute_result",
          "data": {
            "text/plain": [
              "tensor(False, device='cuda:0')"
            ]
          },
          "metadata": {},
          "execution_count": 13
        },
        {
          "output_type": "execute_result",
          "data": {
            "text/plain": [
              "tensor(False, device='cuda:0')"
            ]
          },
          "metadata": {},
          "execution_count": 13
        }
      ],
      "source": [
        "torch.isnan(x_train).any()\n",
        "torch.isnan(x_val).any()\n",
        "torch.isnan(x_test).any()\n",
        "torch.isnan(y_train).any()\n",
        "torch.isnan(y_val).any()\n",
        "torch.isnan(y_test).any()"
      ]
    },
    {
      "cell_type": "code",
      "execution_count": 14,
      "metadata": {
        "id": "X1uRb5P04cnK",
        "outputId": "c7aa439c-4fe4-4192-9101-7d37bdf4df54",
        "colab": {
          "base_uri": "https://localhost:8080/"
        }
      },
      "outputs": [
        {
          "output_type": "execute_result",
          "data": {
            "text/plain": [
              "(tensor([], device='cuda:0', dtype=torch.int64),\n",
              " tensor([], device='cuda:0', dtype=torch.int64))"
            ]
          },
          "metadata": {},
          "execution_count": 14
        },
        {
          "output_type": "execute_result",
          "data": {
            "text/plain": [
              "(tensor([], device='cuda:0', dtype=torch.int64),\n",
              " tensor([], device='cuda:0', dtype=torch.int64))"
            ]
          },
          "metadata": {},
          "execution_count": 14
        },
        {
          "output_type": "execute_result",
          "data": {
            "text/plain": [
              "(tensor([], device='cuda:0', dtype=torch.int64),\n",
              " tensor([], device='cuda:0', dtype=torch.int64))"
            ]
          },
          "metadata": {},
          "execution_count": 14
        }
      ],
      "source": [
        "nan_mask_train = torch.isnan(x_train)     # get a boolean mask indicating NaN values\n",
        "nan_indices_train = torch.where(nan_mask_train)  # get the indices of the NaN values\n",
        "nan_indices_train\n",
        "# len(nan_indices_train)\n",
        "\n",
        "nan_mask_val = torch.isnan(x_val)     # get a boolean mask indicating NaN values\n",
        "nan_indices_val = torch.where(nan_mask_val)  # get the indices of the NaN values\n",
        "nan_indices_val\n",
        "# len(nan_indices_test)\n",
        "\n",
        "nan_mask_test = torch.isnan(x_test)     # get a boolean mask indicating NaN values\n",
        "nan_indices_test = torch.where(nan_mask_test)  # get the indices of the NaN values\n",
        "nan_indices_test\n",
        "# len(nan_indices_test)"
      ]
    },
    {
      "cell_type": "markdown",
      "metadata": {
        "id": "HC0o0Myn4cnK"
      },
      "source": [
        "## Visualizing the data"
      ]
    },
    {
      "cell_type": "markdown",
      "metadata": {
        "id": "Myrn0owg4cnL"
      },
      "source": [
        "### Visualizing sampled data"
      ]
    },
    {
      "cell_type": "code",
      "execution_count": 15,
      "metadata": {
        "id": "5CXNfzzz4cnL",
        "outputId": "5e7270a5-9891-47bb-bc28-1958be9397b7",
        "colab": {
          "base_uri": "https://localhost:8080/"
        }
      },
      "outputs": [
        {
          "output_type": "stream",
          "name": "stdout",
          "text": [
            "skipping\n"
          ]
        }
      ],
      "source": [
        "%%script echo skipping\n",
        "\n",
        "if not LOAD_DATA_FROM_CSV:\n",
        "    rho\n",
        "    epsilon\n",
        "    vx\n",
        "    vy\n",
        "    vz \n",
        "    Bx\n",
        "    By\n",
        "    Bz\n",
        "    gxx\n",
        "    gxy\n",
        "    gxz\n",
        "    gyy\n",
        "    gyz\n",
        "    gzz "
      ]
    },
    {
      "cell_type": "code",
      "execution_count": 16,
      "metadata": {
        "id": "jEj1uLoV4cnL",
        "outputId": "123314cf-9c09-4442-b87c-dd79c4fef71f",
        "colab": {
          "base_uri": "https://localhost:8080/"
        }
      },
      "outputs": [
        {
          "output_type": "stream",
          "name": "stdout",
          "text": [
            "100000\n",
            "100000\n",
            "100000\n",
            "100000\n",
            "100000\n",
            "100000\n",
            "100000\n",
            "100000\n",
            "\n",
            "100000\n",
            "100000\n",
            "100000\n",
            "100000\n",
            "100000\n",
            "100000\n"
          ]
        }
      ],
      "source": [
        "if not LOAD_DATA_FROM_CSV:\n",
        "    print(len(rho))\n",
        "    print(len(epsilon))\n",
        "    print(len(vx))\n",
        "    print(len(vy))\n",
        "    print(len(vz))\n",
        "    print(len(Bx))\n",
        "    print(len(By))\n",
        "    print(len(Bz))\n",
        "    print()\n",
        "    print(len(gxx))\n",
        "    print(len(gxy))\n",
        "    print(len(gxz))\n",
        "    print(len(gyy))\n",
        "    print(len(gyz))\n",
        "    print(len(gzz))"
      ]
    },
    {
      "cell_type": "code",
      "execution_count": 17,
      "metadata": {
        "id": "VMp6XJ6RUZh4"
      },
      "outputs": [],
      "source": [
        "%config InteractiveShell.ast_node_interactivity = \"last_expr_or_assign\""
      ]
    },
    {
      "cell_type": "code",
      "execution_count": 18,
      "metadata": {
        "id": "F6urnHAr4cnM",
        "outputId": "a329c3fb-2ada-437c-8282-a891adaccd81",
        "colab": {
          "base_uri": "https://localhost:8080/"
        }
      },
      "outputs": [
        {
          "output_type": "stream",
          "name": "stdout",
          "text": [
            "skipping\n"
          ]
        }
      ],
      "source": [
        "%%script echo skipping\n",
        "\n",
        "plt.hist([np.random.uniform(0, 0.999) for _ in range(n_train_samples)], bins=20)"
      ]
    },
    {
      "cell_type": "code",
      "execution_count": 19,
      "metadata": {
        "id": "2iNL6ULb4cnM",
        "outputId": "47d9ceea-e70d-42df-fb08-7872c290ba43",
        "colab": {
          "base_uri": "https://localhost:8080/"
        }
      },
      "outputs": [
        {
          "output_type": "stream",
          "name": "stdout",
          "text": [
            "skipping\n"
          ]
        }
      ],
      "source": [
        "%%script echo skipping\n",
        "\n",
        "epsilon"
      ]
    },
    {
      "cell_type": "markdown",
      "metadata": {
        "id": "hydjma5V4cnM"
      },
      "source": [
        "The reason the sampling is not uniformly distributed in the following plots is due to the resampling and the fact that we certain values of e.g. velocity are more likely to violate the speed of light constraint than others."
      ]
    },
    {
      "cell_type": "code",
      "execution_count": 20,
      "metadata": {
        "colab": {
          "base_uri": "https://localhost:8080/",
          "height": 827
        },
        "id": "E5YFdqKjUZh5",
        "outputId": "43f5b01f-2e75-4c82-867f-99a72833e2bf"
      },
      "outputs": [
        {
          "output_type": "display_data",
          "data": {
            "text/plain": [
              "<Figure size 2000x1600 with 14 Axes>"
            ],
            "image/png": "[encoded data removed]"
          },
          "metadata": {}
        }
      ],
      "source": [
        "#%%script echo skipping\n",
        "\n",
        "if not LOAD_DATA_FROM_CSV:\n",
        "    def plot_histogram(data, xlabel, ylabel, position, bins=20, xlog_scale=False, ylog_scale=False):\n",
        "        plt.subplot(4, 5, position)\n",
        "        plt.hist(data, bins=bins)\n",
        "        plt.xlabel(xlabel)\n",
        "        plt.ylabel(ylabel)\n",
        "        if xlog_scale: # Setting does not work expected for epsilon.\n",
        "            plt.xscale(\"log\")\n",
        "        if ylog_scale: # Setting does not work expected for epsilon.\n",
        "            plt.yscale(\"log\")\n",
        "\n",
        "    # Plotting the histograms of rho, vx, epsilon, b0, b1, b2, and b3\n",
        "    bins = 20\n",
        "    plt.figure(figsize=(20, 16))\n",
        "\n",
        "    plot_histogram(rho, \"rho\", \"Frequency\", 1, bins=bins)\n",
        "    plot_histogram(epsilon, \"epsilon\", \"Frequency\", 2, bins=bins)\n",
        "    plot_histogram(vx, \"vx\", \"Frequency\", 3, bins=bins)\n",
        "    plot_histogram(vy, \"vy\", \"Frequency\", 4, bins=bins)\n",
        "    plot_histogram(vz, \"vz\", \"Frequency\", 5, bins=bins)\n",
        "    plot_histogram(Bx, \"Bx\", \"Frequency\", 6, bins=bins)\n",
        "    plot_histogram(By, \"By\", \"Frequency\", 7, bins=bins)\n",
        "    plot_histogram(Bz, \"Bz\", \"Frequency\", 8, bins=bins)\n",
        "\n",
        "    # Plot these\n",
        "    plot_histogram(gxx, \"gxx\", \"Frequency\", 9, bins=bins)\n",
        "    plot_histogram(gxy, \"gxy\", \"Frequency\", 10, bins=bins)\n",
        "    plot_histogram(gxz, \"gxz\", \"Frequency\", 11, bins=bins)\n",
        "    plot_histogram(gyy, \"gyy\", \"Frequency\", 12, bins=bins)\n",
        "    plot_histogram(gyz, \"gyz\", \"Frequency\", 13, bins=bins)\n",
        "    plot_histogram(gzz, \"gzz\", \"Frequency\", 14, bins=bins)\n",
        "\n",
        "\n",
        "    plt.suptitle(\"Primitive variables and metric\")\n",
        "    plt.tight_layout()\n",
        "    plt.show()\n"
      ]
    },
    {
      "cell_type": "code",
      "execution_count": 21,
      "metadata": {
        "id": "sUNNNX5e4cnN"
      },
      "outputs": [],
      "source": [
        "%config InteractiveShell.ast_node_interactivity = \"last_expr_or_assign\""
      ]
    },
    {
      "cell_type": "code",
      "execution_count": 22,
      "metadata": {
        "id": "et4AFTXb4cnN",
        "outputId": "0025f657-b7cc-4f04-fb9c-15d621794569",
        "colab": {
          "base_uri": "https://localhost:8080/",
          "height": 1000
        }
      },
      "outputs": [
        {
          "output_type": "display_data",
          "data": {
            "text/plain": [
              "<Figure size 1600x1600 with 14 Axes>"
            ],
            "image/png": "[encoded data removed]"
          },
          "metadata": {}
        }
      ],
      "source": [
        "#%%script echo skipping\n",
        "\n",
        "# Variable names\n",
        "variable_names = [\"D\", \"Sx\", \"Sy\", \"Sz\", \"tau\", \"Bconsx\", \"Bconsy\", \"Bconsz\", \"gxx\", \"gxy\", \"gxz\", \"gyy\", \"gyz\", \"gzz\"]\n",
        "\n",
        "# Plotting histograms of the input variables before z-score normalization\n",
        "plt.figure(figsize=(16, 16))\n",
        "plt.suptitle('Histograms of input variables before (or without at all) z-score normalization', y=1.03)\n",
        "\n",
        "for i in range(N_INPUTS):\n",
        "    plt.subplot(7, 2, i+1)\n",
        "    data = x_train[:, i].cpu().numpy() # Convert tensor to numpy array for percentile calculation\n",
        "    lower_bound, upper_bound = np.percentile(data, [1, 100]) # NOTE: Use this instead to visualize all the data.\n",
        "    # lower_bound, upper_bound = np.percentile(data, [1, 90]) # Calculate 1st and 99th percentile\n",
        "\n",
        "    plt.hist(data, bins=50, range=(lower_bound, upper_bound)) # Set range to the calculated percentile range\n",
        "    plt.xlabel(variable_names[i])\n",
        "    plt.xlim(lower_bound, upper_bound) # Set the x limit to match the range of the histogram\n",
        "\n",
        "plt.subplots_adjust(hspace=0.4, wspace=0.4)\n",
        "plt.show()\n",
        "\n",
        "# Same plotting but for the test data. Adjust the percentile range as needed to zoom in.\n",
        "# plt.figure(figsize=(16, 16))\n",
        "# plt.suptitle('Histograms of input variables before (or without at all) z-score normalization (test data)', y=1.03)\n",
        "\n",
        "# for i in range(14):\n",
        "#     plt.subplot(7, 2, i+1)\n",
        "#     data = x_test[:, i].cpu().numpy() # Convert tensor to numpy array for percentile calculation\n",
        "#     #lower_bound, upper_bound = np.percentile(data, [1, 100]) # NOTE: Use this instead to visualize all the data.\n",
        "#     lower_bound, upper_bound = np.percentile(data, [1, 99]) # Use this to zoom in.\n",
        "\n",
        "#     plt.hist(data, bins=50, range=(lower_bound, upper_bound)) # Set range to the calculated percentile range\n",
        "#     plt.xlabel(variable_names[i])\n",
        "#     plt.xlim(lower_bound, upper_bound) # Set the x limit to match the range of the histogram\n",
        "\n",
        "# plt.subplots_adjust(hspace=0.4, wspace=0.4)\n",
        "# plt.show()\n",
        "\n"
      ]
    },
    {
      "cell_type": "markdown",
      "metadata": {
        "id": "oQ8r4X8b4cnO"
      },
      "source": [
        "### Data normalization"
      ]
    },
    {
      "cell_type": "code",
      "execution_count": 23,
      "metadata": {
        "id": "QBlz2cHo4cnO",
        "outputId": "a16d76a0-27c8-428a-c05a-a867099a2d44",
        "colab": {
          "base_uri": "https://localhost:8080/"
        }
      },
      "outputs": [
        {
          "output_type": "stream",
          "name": "stdout",
          "text": [
            "Summary statistics of input variables before z-score normalization\n",
            "tensor([[ 2.0024e-05,  9.9682e+02,  2.3061e+00,  1.6714e+00,  5.8270e+00],\n",
            "        [-5.1120e+03,  1.3142e+06,  6.3277e+01,  2.1865e+01,  5.1805e+03],\n",
            "        [-1.5425e+04,  8.3010e+05,  5.5830e+01,  2.1914e+01,  3.3563e+03],\n",
            "        [-1.7470e+04,  5.6085e+05,  5.0029e+01,  2.1745e+01,  2.2571e+03],\n",
            "        [-2.3578e+04,  1.5822e+06,  1.2388e+02,  6.9362e+01,  6.2928e+03],\n",
            "        [-1.1311e+01,  1.1307e+01,  1.0330e-02, -2.1675e-02,  5.7146e+00],\n",
            "        [-1.1104e+01,  1.1247e+01, -6.2518e-03, -4.1105e-02,  5.7258e+00],\n",
            "        [-1.1193e+01,  1.1151e+01,  9.4145e-03,  2.7754e-02,  5.7318e+00],\n",
            "        [ 9.0000e-01,  1.1000e+00,  9.9834e-01,  9.9754e-01,  5.7876e-02],\n",
            "        [ 9.5162e-07,  1.0000e-01,  4.9569e-02,  4.9252e-02,  2.8891e-02],\n",
            "        [ 2.1062e-06,  1.0000e-01,  4.9584e-02,  4.9342e-02,  2.8787e-02],\n",
            "        [ 9.0000e-01,  1.1000e+00,  9.9848e-01,  9.9727e-01,  5.7751e-02],\n",
            "        [ 1.5818e-06,  9.9998e-02,  4.9683e-02,  4.9569e-02,  2.8909e-02],\n",
            "        [ 9.0001e-01,  1.1000e+00,  9.9857e-01,  9.9770e-01,  5.7644e-02]],\n",
            "       device='cuda:0')\n"
          ]
        }
      ],
      "source": [
        "# Computing summary statistics of the input variables before and after z-score normalization\n",
        "print('Summary statistics of input variables before z-score normalization')\n",
        "print(torch.stack([torch.min(x_train, dim=0).values, torch.max(x_train, dim=0).values, torch.nanmean(x_train, dim=0), torch.median(x_train, dim=0).values, torch.std(x_train, dim=0)], dim=1))"
      ]
    },
    {
      "cell_type": "markdown",
      "metadata": {
        "id": "xTEmkR1SUZh7"
      },
      "source": [
        "Perform z-score normalization"
      ]
    },
    {
      "cell_type": "code",
      "execution_count": 24,
      "metadata": {
        "id": "skDi8Xbh4cnO"
      },
      "outputs": [],
      "source": [
        "%config InteractiveShell.ast_node_interactivity = \"all\""
      ]
    },
    {
      "cell_type": "code",
      "execution_count": 25,
      "metadata": {
        "id": "yPOv6DxhUZh7"
      },
      "outputs": [],
      "source": [
        "if ZSCORE_NORMALIZATION:\n",
        "    \n",
        "    # TODO: Add magnetic field variables to the normalization if I decide to use the old code that is commented out here.\n",
        "    # # Computing the median of each input variable from the training set using torch.nanmedian function\n",
        "    # D_median = torch.nanmedian(x_train[:, 0])\n",
        "    # Sx_median = torch.nanmedian(x_train[:, 1])\n",
        "    # Sy_median = torch.nanmedian(x_train[:, 2])\n",
        "    # Sz_median = torch.nanmedian(x_train[:, 3])\n",
        "    # tau_median = torch.nanmedian(x_train[:, 4])\n",
        "\n",
        "    # # Computing the standard deviation of each input variable from the training set using torch.std function with a boolean mask to ignore nan values\n",
        "    # D_std = torch.std(x_train[~torch.isnan(x_train[:, 0]), 0])\n",
        "    # Sx_std = torch.std(x_train[~torch.isnan(x_train[:, 1]), 1])\n",
        "    # Sy_std = torch.std(x_train[~torch.isnan(x_train[:, 2]), 2])\n",
        "    # Sz_std = torch.std(x_train[~torch.isnan(x_train[:, 3]), 3])\n",
        "    # tau_std = torch.std(x_train[~torch.isnan(x_train[:, 4]), 4])\n",
        "\n",
        "\n",
        "    # # Applying z-score normalization to both train and test sets using the statistics from the training set\n",
        "    # x_train[:, 0] = torch.sub(x_train[:, 0], D_median).div(D_std)\n",
        "    # x_train[:, 1] = torch.sub(x_train[:, 1], Sx_median).div(Sx_std)\n",
        "    # x_train[:, 2] = torch.sub(x_train[:, 2], Sy_median).div(Sy_std)\n",
        "    # x_train[:, 3] = torch.sub(x_train[:, 3], Sz_median).div(Sz_std)\n",
        "    # x_train[:, 4] = torch.sub(x_train[:, 4], tau_median).div(tau_std)\n",
        "\n",
        "    # x_test[:, 0] = torch.sub(x_test[:, 0], D_median).div(D_std)\n",
        "    # x_test[:, 1] = torch.sub(x_test[:, 1], Sx_median).div(Sx_std)\n",
        "    # x_test[:, 2] = torch.sub(x_test[:, 2], Sy_median).div(Sy_std)\n",
        "    # x_test[:, 3] = torch.sub(x_test[:, 3], Sz_median).div(Sz_std)\n",
        "    # x_test[:, 4] = torch.sub(x_test[:, 4], tau_median).div(tau_std)\n",
        "\n",
        "    # Computing the mean and standard deviation of each column\n",
        "    mean = x_train.mean(dim=0)\n",
        "    std = x_train.std(dim=0)\n",
        "\n",
        "    # Applying z-score normalization\n",
        "    x_train = (x_train - mean) / std\n",
        "    # Use the same mean and std from the training data as we don't want test data leakage.\n",
        "    x_test = (x_test - mean) / std\n",
        "\n"
      ]
    },
    {
      "cell_type": "markdown",
      "metadata": {
        "id": "5xqeJJH34cnc"
      },
      "source": [
        "Plotting the histograms of the input data after normalization if z-score normalization was performed."
      ]
    },
    {
      "cell_type": "code",
      "execution_count": 26,
      "metadata": {
        "id": "IknQpxd94cnc"
      },
      "outputs": [],
      "source": [
        "%config InteractiveShell.ast_node_interactivity = \"last_expr_or_assign\""
      ]
    },
    {
      "cell_type": "code",
      "execution_count": 27,
      "metadata": {
        "id": "u30TMn0q4cnc"
      },
      "outputs": [],
      "source": [
        "if not LOAD_DATA_FROM_CSV:\n",
        "    if ZSCORE_NORMALIZATION:\n",
        "        # Variable names\n",
        "        variable_names = [\"D\", \"Sx\", \"Sy\", \"Sz\", \"tau\", \"Bconsx\", \"Bconsy\", \"Bconsz\", \"gxx\", \"gxy\", \"gxz\", \"gyy\", \"gyz\", \"gzz\"]\n",
        "\n",
        "        # Plotting histograms of the input variables before z-score normalization\n",
        "        plt.figure(figsize=(16, 16))\n",
        "        plt.suptitle('Histograms of input variables before (or without at all) z-score normalization', y=1.03)\n",
        "\n",
        "        for i in range(N_INPUTS):\n",
        "            plt.subplot(7, 2, i+1)\n",
        "            data = x_train[:, i].cpu().numpy() # Convert tensor to numpy array for percentile calculation\n",
        "            lower_bound, upper_bound = np.percentile(data, [1, 100]) # NOTE: Use this instead to visualize all the data.\n",
        "            # lower_bound, upper_bound = np.percentile(data, [1, 90]) # Calculate 1st and 99th percentile\n",
        "\n",
        "            plt.hist(data, bins=50, range=(lower_bound, upper_bound)) # Set range to the calculated percentile range\n",
        "            plt.xlabel(variable_names[i])\n",
        "            plt.xlim(lower_bound, upper_bound) # Set the x limit to match the range of the histogram\n",
        "\n",
        "        plt.subplots_adjust(hspace=0.4, wspace=0.4)\n",
        "        plt.show()"
      ]
    },
    {
      "cell_type": "code",
      "execution_count": 28,
      "metadata": {
        "id": "U_SBKnoX4cnd"
      },
      "outputs": [],
      "source": [
        "if ZSCORE_NORMALIZATION:\n",
        "    # Computing summary statistics of the input variables after z-score normalization\n",
        "    print('Summary statistics of input variables after z-score normalization')\n",
        "    print(torch.stack([torch.min(x_train, dim=0).values, torch.max(x_train, dim=0).values, torch.mean(x_train, dim=0), torch.median(x_train, dim=0).values, torch.std(x_train, dim=0)], dim=1))\n"
      ]
    },
    {
      "cell_type": "markdown",
      "metadata": {
        "id": "34JFkBNc4cnd"
      },
      "source": [
        "### Visualizing input data and labels"
      ]
    },
    {
      "cell_type": "code",
      "execution_count": 29,
      "metadata": {
        "id": "8TkfblGD4cnd",
        "outputId": "1e444745-56d7-4933-e793-639368454cdd",
        "colab": {
          "base_uri": "https://localhost:8080/"
        }
      },
      "outputs": [
        {
          "output_type": "execute_result",
          "data": {
            "text/plain": [
              "tensor([ 8.9882,  4.2383, 10.0341,  ...,  3.0453,  0.9038, -2.2624],\n",
              "       device='cuda:0')"
            ]
          },
          "metadata": {},
          "execution_count": 29
        }
      ],
      "source": [
        "x_train\n",
        "y_train\n",
        "x_val\n",
        "y_val\n",
        "x_test\n",
        "y_test"
      ]
    },
    {
      "cell_type": "markdown",
      "metadata": {
        "id": "E96p_MsOUZh9",
        "outputId": "4b95bad0-8f3a-4364-eed1-008e0ce2a5e3"
      },
      "source": [
        "Checking if our output is always positive ~~by plotting a histogram of y_train and y_test tensors~~"
      ]
    },
    {
      "cell_type": "code",
      "execution_count": 30,
      "metadata": {
        "id": "oRXf8ib_4cne",
        "outputId": "31971716-3d61-46ba-9b3f-3ae4a4d6f176",
        "colab": {
          "base_uri": "https://localhost:8080/"
        }
      },
      "outputs": [
        {
          "output_type": "stream",
          "name": "stdout",
          "text": [
            "tensor(True)\n"
          ]
        }
      ],
      "source": [
        "import torch\n",
        "\n",
        "# Create a sample tensor\n",
        "tensor = torch.randn(80000, 14)  # Assuming a tensor of shape [80000, 14]\n",
        "tensor\n",
        "\n",
        "\n",
        "# Check if any element is negative\n",
        "any_negative = torch.any(tensor < 0)\n",
        "\n",
        "# Print the result\n",
        "print(any_negative)\n"
      ]
    },
    {
      "cell_type": "code",
      "execution_count": 31,
      "metadata": {
        "id": "1pWymsnT4cne",
        "outputId": "79f55fcd-aebc-4fe0-a46f-c2848f3bce03",
        "colab": {
          "base_uri": "https://localhost:8080/"
        }
      },
      "outputs": [
        {
          "output_type": "execute_result",
          "data": {
            "text/plain": [
              "tensor(True, device='cuda:0')"
            ]
          },
          "metadata": {},
          "execution_count": 31
        }
      ],
      "source": [
        "y_train.shape\n",
        "any_negative = torch.any(y_train < 0)\n",
        "any_negative\n",
        "\n",
        "y_test.shape\n",
        "any_negative = torch.any(y_test < 0)\n",
        "any_negative\n",
        "\n",
        "x_train.shape\n",
        "any_negative = torch.any(x_train < 0)\n",
        "any_negative"
      ]
    },
    {
      "cell_type": "code",
      "execution_count": 32,
      "metadata": {
        "id": "I8j5uTN94cne",
        "outputId": "fdcfb69e-c574-46c0-9bf6-16406fd8863d",
        "colab": {
          "base_uri": "https://localhost:8080/",
          "height": 407
        }
      },
      "outputs": [
        {
          "output_type": "display_data",
          "data": {
            "text/plain": [
              "<Figure size 800x400 with 3 Axes>"
            ],
            "image/png": "[encoded data removed]"
          },
          "metadata": {}
        }
      ],
      "source": [
        "#%%script echo skipping\n",
        "\n",
        "plt.figure(figsize=(8, 4))\n",
        "plt.subplot(1, 3, 1)\n",
        "plt.hist(y_train.cpu().numpy(), bins=100) # must be cpu here.\n",
        "plt.xlabel(\"y_train\")\n",
        "plt.ylabel(\"Frequency\")\n",
        "plt.xscale(\"log\")\n",
        "plt.subplot(1, 3, 2)\n",
        "plt.hist(y_val.cpu().numpy(), bins=100) # must be cpu here\n",
        "plt.xlabel(\"y_val\")\n",
        "plt.ylabel(\"Frequency\")\n",
        "plt.xscale(\"log\")\n",
        "plt.tight_layout()\n",
        "plt.subplot(1, 3, 3)\n",
        "plt.hist(y_test.cpu().numpy(), bins=100) # must be cpu here\n",
        "plt.xlabel(\"y_test\")\n",
        "plt.ylabel(\"Frequency\")\n",
        "plt.xscale(\"log\")\n",
        "plt.tight_layout()\n",
        "plt.show()\n"
      ]
    },
    {
      "cell_type": "code",
      "execution_count": 33,
      "metadata": {
        "id": "FEgjk--AUZh9"
      },
      "outputs": [],
      "source": [
        "%config InteractiveShell.ast_node_interactivity = \"all\""
      ]
    },
    {
      "cell_type": "markdown",
      "metadata": {
        "id": "r2b9GecHUZh9"
      },
      "source": [
        "## Defining the neural network"
      ]
    },
    {
      "cell_type": "code",
      "execution_count": 34,
      "metadata": {
        "id": "Iv8HA-ZXUZh-"
      },
      "outputs": [],
      "source": [
        "# Defining a class for the network\n",
        "class Net(nn.Module):\n",
        "    \"\"\"A class for creating a network with a\n",
        "    variable number of hidden layers and units.\n",
        "\n",
        "    Attributes:\n",
        "        n_layers (int): The number of hidden layers in the network.\n",
        "        n_units (list): A list of integers representing the number of units in each hidden layer.\n",
        "        hidden_activation (torch.nn.Module): The activation function for the hidden layers.\n",
        "        output_activation (torch.nn.Module): The activation function for the output layer.\n",
        "        layers (torch.nn.ModuleList): A list of linear layers in the network.\n",
        "    \"\"\"\n",
        "\n",
        "    def __init__(self, n_layers, n_units, hidden_activation, output_activation, dropout_rate):\n",
        "        \"\"\"Initializes the network with the given hyperparameters.\n",
        "\n",
        "        Args:\n",
        "            n_layers (int): The number of hidden layers in the network.\n",
        "            n_units (list): A list of integers representing the number of units in each hidden layer.\n",
        "            hidden_activation (torch.nn.Module): The activation function for the hidden layers.\n",
        "            output_activation (torch.nn.Module): The activation function for the output layer.\n",
        "            TODO: [ver. Copilot description] dropout_rate (float): The dropout rate to use for all layers.\n",
        "        \"\"\"\n",
        "        super().__init__()\n",
        "        self.n_layers = n_layers\n",
        "        self.n_units = n_units\n",
        "        self.hidden_activation = hidden_activation\n",
        "        self.output_activation = output_activation\n",
        "        self.dropout_rate = dropout_rate\n",
        "\n",
        "        # Creating a list of linear layers with different numbers of units for each layer\n",
        "        self.layers = nn.ModuleList()\n",
        "        self.dropouts = nn.ModuleList()\n",
        "\n",
        "        self.layers.append(nn.Linear(N_INPUTS, n_units[0]))\n",
        "        self.dropouts.append(nn.Dropout(p=dropout_rate))\n",
        "\n",
        "        for i in range(1, n_layers):\n",
        "            self.layers.append(nn.Linear(n_units[i - 1], n_units[i]))\n",
        "            self.dropouts.append(nn.Dropout(p=dropout_rate))\n",
        "\n",
        "        self.layers.append(nn.Linear(n_units[-1], N_OUTPUTS))\n",
        "\n",
        "        # Adding some assertions to check that the input arguments are valid\n",
        "        assert isinstance(n_layers, int) and n_layers > 0, \"n_layers must be a positive integer\"\n",
        "        assert isinstance(n_units, list) and len(n_units) == n_layers, \"n_units must be a list of length n_layers\"\n",
        "        assert all(isinstance(n, int) and n > 0 for n in n_units), \"n_units must contain positive integers\"\n",
        "        assert isinstance(hidden_activation, nn.Module), \"hidden_activation must be a torch.nn.Module\"\n",
        "        assert isinstance(output_activation, nn.Module), \"output_activation must be a torch.nn.Module\"\n",
        "\n",
        "    def forward(self, x):\n",
        "        \"\"\"Performs a forward pass on the input tensor.\n",
        "\n",
        "        Args:\n",
        "            x (torch.Tensor): The input tensor of shape (batch_size, N_INPUTS).\n",
        "\n",
        "        Returns:\n",
        "            torch.Tensor: The output tensor of shape (batch_size, N_OUTPUTS).\n",
        "        \"\"\"\n",
        "        # Adding an assertion to check that the input tensor has the expected shape and type\n",
        "        assert isinstance(x, torch.Tensor), \"x must be a torch.Tensor\"\n",
        "        assert x.shape[1] == N_INPUTS, f\"x must have shape (batch_size, {N_INPUTS})\"\n",
        "\n",
        "        for layer, dropout in zip(self.layers[:-1], self.dropouts):\n",
        "            x = dropout(self.hidden_activation(layer(x)))\n",
        "        # Applying the linear transformation and the activation function on the output layer\n",
        "        x = self.output_activation(self.layers[-1](x)) # No dropout at output layer\n",
        "\n",
        "        return x # Returning the output tensor\n"
      ]
    },
    {
      "cell_type": "code",
      "execution_count": 35,
      "metadata": {
        "id": "4zShBNVG4cnf",
        "outputId": "c875d663-fc63-49cc-ec72-bdfca17890d0",
        "colab": {
          "base_uri": "https://localhost:8080/"
        }
      },
      "outputs": [
        {
          "output_type": "stream",
          "name": "stdout",
          "text": [
            "skipping\n"
          ]
        }
      ],
      "source": [
        "%%script echo skipping\n",
        "\n",
        "[1,2,3]\n",
        "[1,2,3][:-1]"
      ]
    },
    {
      "cell_type": "code",
      "execution_count": 36,
      "metadata": {
        "id": "3c3WaPyv4cng",
        "outputId": "8d577d68-471e-4cd4-fbbc-db66188c6c0e",
        "colab": {
          "base_uri": "https://localhost:8080/"
        }
      },
      "outputs": [
        {
          "output_type": "stream",
          "name": "stdout",
          "text": [
            "1\n",
            "2\n"
          ]
        }
      ],
      "source": [
        "for x in [1,2,3][:-1]:\n",
        "    print(x)\n",
        "\n"
      ]
    },
    {
      "cell_type": "markdown",
      "metadata": {
        "id": "6GNvp55PUZh_"
      },
      "source": [
        "## Defining the model and search space"
      ]
    },
    {
      "cell_type": "code",
      "execution_count": 37,
      "metadata": {
        "id": "9a1opluOUZh_"
      },
      "outputs": [],
      "source": [
        "# Defining a function to create a trial network and optimizer\n",
        "def create_model(trial, optimize):\n",
        "    \"\"\"Creates a trial network and optimizer based on the sampled hyperparameters.\n",
        "\n",
        "    Args:\n",
        "        trial (optuna.trial.Trial): The trial object that contains the hyperparameters.\n",
        "        optimize (boolean): Whether to optimize the hyperparameters or to use predefined values.\n",
        "\n",
        "    Returns:\n",
        "        tuple: A tuple of (net, loss_fn, optimizer, batch_size, n_epochs,\n",
        "            scheduler, loss_name, optimizer_name, scheduler_name,\n",
        "            n_units, n_layers, hidden_activation, output_activation),\n",
        "            where net is the trial network,\n",
        "            loss_fn is the loss function,\n",
        "            optimizer is the optimizer,\n",
        "            batch_size is the batch size,\n",
        "            n_epochs is the number of epochs,\n",
        "            scheduler is the learning rate scheduler,\n",
        "            loss_name is the name of the loss function,\n",
        "            optimizer_name is the name of the optimizer,\n",
        "            scheduler_name is the name of the scheduler,\n",
        "            n_units is a list of integers representing\n",
        "            the number of units in each hidden layer,\n",
        "            n_layers is an integer representing the number of hidden layers in the network,\n",
        "            hidden_activation is a torch.nn.Module representing the activation function for the hidden layers,\n",
        "            output_activation is a torch.nn.Module representing the activation function for the output layer,\n",
        "            lr is the (initial) learning rate.\n",
        "            dropout_rate is the dropout rate.\n",
        "    \"\"\"\n",
        "    # If optimize is True, sample the hyperparameters from the search space\n",
        "    if OPTIMIZE:\n",
        "        n_layers = trial.suggest_int(\"n_layers\", 2, 10)\n",
        "        n_units = [trial.suggest_int(f\"n_units_{i}\", 16, 4096) for i in range(n_layers)]\n",
        "\n",
        "        hidden_activation_name = trial.suggest_categorical(\n",
        "            \"hidden_activation\", [\"ReLU\", \"LeakyReLU\", \"ELU\", \"PReLU\", \"Swish\", \"GELU\", \"SoftPlus\"]\n",
        "        )\n",
        "        output_activation_name = trial.suggest_categorical( \"output_activation\", [\"Linear\"])\n",
        "\n",
        "        loss_name = trial.suggest_categorical( \"loss\", [\"MSE\", \"MAE\", \"Huber\", \"Quantile\"]) \n",
        "\n",
        "        optimizer_name = trial.suggest_categorical( \"optimizer\", [\"Adam\", \"SGD\", \"RMSprop\", \"Adagrad\"] )\n",
        "\n",
        "        lr = trial.suggest_loguniform(\"lr\", 1e-5, 1e-1)\n",
        "\n",
        "        batch_size_list = [32, 64, 128, 256, 512, 1024, 2048]\n",
        "        batch_size = trial.suggest_categorical(\"batch_size\", batch_size_list)\n",
        "        \n",
        "        n_epochs = trial.suggest_int(\"n_epochs\", 50, 150)\n",
        "\n",
        "        # scheduler_name = trial.suggest_categorical(\"scheduler\", [\"CosineAnnealingLR\", \"ReduceLROnPlateau\", \"StepLR\", \"CyclicLR\"])\n",
        "        scheduler_name = trial.suggest_categorical(\"scheduler\", [\"CosineAnnealingLR\", \"ReduceLROnPlateau\", \"StepLR\"])\n",
        "\n",
        "        # Creating the activation functions from their names\n",
        "        if hidden_activation_name == \"ReLU\":\n",
        "            hidden_activation = nn.ReLU()\n",
        "        elif hidden_activation_name == \"LeakyReLU\":\n",
        "            negative_slope = trial.suggest_uniform(\"leakyrelu_slope\", 0.01, 0.3)\n",
        "            hidden_activation = nn.LeakyReLU(negative_slope=negative_slope)\n",
        "        elif hidden_activation_name == \"ELU\":\n",
        "            hidden_activation = nn.ELU() \n",
        "        elif hidden_activation_name == \"PReLU\":\n",
        "            init = trial.suggest_uniform(\"prelu_init\", 0.1, 0.3)\n",
        "            hidden_activation = nn.PReLU(init=init)\n",
        "        elif hidden_activation_name == \"Swish\":\n",
        "            class Swish(nn.Module):\n",
        "                def forward(self, x):\n",
        "                    return x * torch.sigmoid(x)\n",
        "            hidden_activation = Swish()\n",
        "        elif hidden_activation_name == \"GELU\":\n",
        "            hidden_activation = nn.GELU()\n",
        "        elif hidden_activation_name == \"SoftPlus\":\n",
        "            beta = trial.suggest_uniform(\"softplus_beta\", 0.5, 1.5)\n",
        "            hidden_activation = nn.Softplus(beta=beta) # We don't optimize thresshold subparameters, as it's mainly for numerical stability.\n",
        "\n",
        "        dropout_rate = trial.suggest_uniform(\"dropout_rate\", 0.0, 0.5)\n",
        "\n",
        "\n",
        "    # If optimize is False, use the predefined values\n",
        "    else:\n",
        "        # Setting the hyperparameters to the predefined values\n",
        "        n_layers = N_LAYERS_NO_OPT\n",
        "        n_units = N_UNITS_NO_OPT\n",
        "        hidden_activation_name = HIDDEN_ACTIVATION_NAME_NO_OPT\n",
        "        output_activation_name = OUTPUT_ACTIVATION_NAME_NO_OPT\n",
        "        loss_name = LOSS_NAME_NO_OPT\n",
        "        optimizer_name = OPTIMIZER_NAME_NO_OPT\n",
        "        lr = LR_NO_OPT\n",
        "        batch_size = BATCH_SIZE_NO_OPT\n",
        "        n_epochs = N_EPOCHS_NO_OPT\n",
        "        scheduler_name = SCHEDULER_NAME_NO_OPT\n",
        "\n",
        "        # Creating the activation functions from their names\n",
        "        if hidden_activation_name == \"ReLU\":\n",
        "            hidden_activation = nn.ReLU()\n",
        "        elif hidden_activation_name == \"LeakyReLU\":\n",
        "            negative_slope = 0.01\n",
        "            hidden_activation = nn.LeakyReLU(negative_slope=negative_slope)\n",
        "        elif hidden_activation_name == \"ELU\":\n",
        "            hidden_activation = nn.ELU() \n",
        "        elif hidden_activation_name == \"PReLU\":\n",
        "            init = 0.25\n",
        "            hidden_activation = nn.PReLU(init=init)\n",
        "        elif hidden_activation_name == \"Swish\":\n",
        "            class Swish(nn.Module):\n",
        "                def forward(self, x):\n",
        "                    return x * torch.sigmoid(x)\n",
        "            hidden_activation = Swish()\n",
        "        elif hidden_activation_name == \"GELU\":\n",
        "            hidden_activation = nn.GELU()\n",
        "        elif hidden_activation_name == \"SoftPlus\":\n",
        "            beta = 1\n",
        "            hidden_activation = nn.Softplus(beta=beta) # We don't optimize threshold subparameter, as it's mainly for numerical stability.\n",
        "\n",
        "        dropout_rate = DROPOUT_RATE_NO_OPT\n",
        "\n",
        "\n",
        "    # We used to have options here, but since we have a regression problem with continuous output, we only use Linear.\n",
        "    output_activation = nn.Identity()\n",
        "\n",
        "    # Creating the loss function from its name\n",
        "    if loss_name == \"MSE\":\n",
        "        loss_fn = nn.MSELoss()\n",
        "    elif loss_name == \"MAE\":\n",
        "        loss_fn = nn.L1Loss()\n",
        "    elif loss_name == \"Huber\":\n",
        "        loss_fn = nn.SmoothL1Loss() \n",
        "    elif loss_name == \"Quantile\":\n",
        "        def quantile_loss(y_pred, y_true, q=0.5):\n",
        "            e = y_pred - y_true\n",
        "            return torch.mean(torch.max(q*e, (q-1)*e))\n",
        "        loss_fn = quantile_loss\n",
        "    else:\n",
        "        def log_cosh_loss(y_pred, y_true):\n",
        "            return torch.mean(torch.log(torch.cosh(y_pred - y_true)))\n",
        "        loss_fn = log_cosh_loss\n",
        "\n",
        "    # Creating the network with the sampled hyperparameters\n",
        "    net = Net(n_layers, n_units, hidden_activation, output_activation, dropout_rate).to(device)\n",
        "\n",
        "\n",
        "    if OPTIMIZE:\n",
        "        # Creating the optimizer from its name\n",
        "        if optimizer_name == \"SGD\":\n",
        "            weight_decay = trial.suggest_loguniform(\"weight_decay\", 1e-5, 1e-2)\n",
        "            momentum = trial.suggest_uniform(\"momentum\", 0.0, 0.99)\n",
        "            optimizer = optim.SGD(net.parameters(), lr=lr, weight_decay=weight_decay, momentum=momentum)\n",
        "        elif optimizer_name == \"Adam\":\n",
        "            weight_decay = trial.suggest_loguniform(\"weight_decay\", 1e-5, 1e-2)\n",
        "            beta1 = trial.suggest_uniform(\"beta1\", 0.9, 0.999)\n",
        "            beta2 = trial.suggest_uniform(\"beta2\", 0.999, 0.9999)\n",
        "            optimizer = optim.Adam(net.parameters(), lr=lr, weight_decay=weight_decay, betas=(beta1, beta2))\n",
        "        elif optimizer_name == \"RMSprop\":\n",
        "            optimizer = optim.RMSprop(net.parameters(), lr=lr)\n",
        "        else:\n",
        "            optimizer = optim.Adagrad(net.parameters(), lr=lr)\n",
        "\n",
        "        # Creating the learning rate scheduler from its name\n",
        "        if scheduler_name == \"StepLR\":\n",
        "            step_size = trial.suggest_int(\"step_size\", 5, 15)\n",
        "            gamma = trial.suggest_uniform(\"gamma\", 0.1, 0.5)\n",
        "            scheduler = optim.lr_scheduler.StepLR(optimizer, step_size=step_size, gamma=gamma)\n",
        "        elif scheduler_name == \"ExponentialLR\":\n",
        "            gamma = trial.suggest_uniform(\"gamma\", 0.8, 0.99)\n",
        "            scheduler = optim.lr_scheduler.ExponentialLR(optimizer, gamma=gamma)\n",
        "        elif scheduler_name == \"CosineAnnealingLR\":\n",
        "            if n_epochs < 150:\n",
        "                t_max_fraction = trial.suggest_uniform('t_max_fraction', 0.1, 0.3)\n",
        "            elif n_epochs > 250:\n",
        "                t_max_fraction = trial.suggest_uniform('t_max_fraction', 0.05, 0.1)\n",
        "            else:\n",
        "                t_max_fraction = trial.suggest_uniform('t_max_fraction', 0.1, 0.2)\n",
        "\n",
        "            T_max = int(n_epochs * t_max_fraction)\n",
        "            eta_min = trial.suggest_loguniform(\"eta_min\", 1e-7, 1e-2)\n",
        "            scheduler = optim.lr_scheduler.CosineAnnealingLR(optimizer, T_max=T_max, eta_min=eta_min)\n",
        "        elif scheduler_name == \"ReduceLROnPlateau\":\n",
        "            factor = trial.suggest_uniform(\"factor\", 0.1, 0.5)\n",
        "            patience = trial.suggest_int(\"patience\", 5, 10)\n",
        "            threshold = trial.suggest_loguniform(\"threshold\", 1e-4, 1e-2)\n",
        "            scheduler = optim.lr_scheduler.ReduceLROnPlateau(\n",
        "                optimizer, mode=\"min\", factor=factor, patience=patience, threshold=threshold\n",
        "            )\n",
        "        elif scheduler_name == \"CyclicLR\":\n",
        "            base_lr = trial.suggest_loguniform(\"base_lr\", 1e-6, 1e-2)\n",
        "            max_lr = trial.suggest_loguniform(\"max_lr\", 1e-4, 1)\n",
        "            step_size_up = trial.suggest_int(\"step_size_up\", 200, 2000)\n",
        "            scheduler = optim.lr_scheduler.CyclicLR(optimizer, base_lr=base_lr, max_lr=max_lr, step_size_up=step_size_up)\n",
        "        else:\n",
        "            scheduler = None\n",
        "    else:\n",
        "        # Creating the optimizer from its name\n",
        "        if optimizer_name == \"SGD\":\n",
        "            optimizer = optim.SGD(net.parameters(), lr=lr)\n",
        "        elif optimizer_name == \"Adam\":\n",
        "            optimizer = optim.Adam(net.parameters(), lr=lr)\n",
        "        elif optimizer_name == \"RMSprop\":\n",
        "            optimizer = optim.RMSprop(net.parameters(), lr=lr)\n",
        "        else:\n",
        "            optimizer = optim.Adagrad(net.parameters(), lr=lr)\n",
        "\n",
        "        # Creating the learning rate scheduler from its name\n",
        "        if scheduler_name == \"StepLR\":\n",
        "            scheduler = optim.lr_scheduler.StepLR(optimizer, step_size=10, gamma=0.1)\n",
        "        elif scheduler_name == \"ExponentialLR\":\n",
        "            scheduler = optim.lr_scheduler.ExponentialLR(optimizer, gamma=0.9)\n",
        "        elif scheduler_name == \"CosineAnnealingLR\":\n",
        "            scheduler = optim.lr_scheduler.CosineAnnealingLR(optimizer)\n",
        "        elif scheduler_name == \"ReduceLROnPlateau\":\n",
        "            scheduler = optim.lr_scheduler.ReduceLROnPlateau(\n",
        "                        optimizer, mode=\"min\", factor=0.18979341786654758, patience=11, threshold=0.0017197466122611932 #, min_lr=1e-6\n",
        "                    )\n",
        "        elif scheduler_name == \"CyclicLR\":\n",
        "            # TODO: Change these appropriately.\n",
        "            base_lr = 1e-6\n",
        "            max_lr = 1e-4\n",
        "            step_size_up = 200\n",
        "            scheduler = optim.lr_scheduler.CyclicLR(optimizer, base_lr=base_lr, max_lr=max_lr, step_size_up=step_size_up)\n",
        "        else:\n",
        "            scheduler = None\n",
        "\n",
        "    # Returning all variables needed for saving and loading\n",
        "    return net, loss_fn, optimizer, batch_size, n_epochs, scheduler, loss_name, optimizer_name, scheduler_name, n_units, n_layers, hidden_activation, output_activation, lr, dropout_rate\n",
        "\n",
        "\n"
      ]
    },
    {
      "cell_type": "markdown",
      "metadata": {
        "id": "l-czA7VvUZiD"
      },
      "source": [
        " ## The training and evaluation loop\n",
        "\n",
        " We first define a couple of functions used in the training and evaluation."
      ]
    },
    {
      "cell_type": "code",
      "execution_count": 38,
      "metadata": {
        "id": "aD6FQNmxUZiD"
      },
      "outputs": [],
      "source": [
        "# Defining a function that computes loss and metrics for a given batch\n",
        "def compute_loss_and_metrics(y_pred, y_true, loss_fn):\n",
        "    \"\"\"Computes loss and metrics for a given batch.\n",
        "\n",
        "    Args:\n",
        "        y_pred (torch.Tensor): The predicted pressure tensor of shape (batch_size, 1).\n",
        "        y_true (torch.Tensor): The true pressure tensor of shape (batch_size,).\n",
        "        loss_fn (torch.nn.Module or function): The loss function to use.\n",
        "\n",
        "    Returns:\n",
        "        tuple: A tuple of (loss, l1_norm), where loss is a scalar tensor,\n",
        "            l1_norm is L1 norm for relative error of pressure,\n",
        "            each being a scalar tensor.\n",
        "            linf_norm is Linf norm for relative error of pressure.\n",
        "    \"\"\"\n",
        "    # Reshaping the target tensor to match the input tensor\n",
        "    y_true = y_true.view(-1, 1)\n",
        "\n",
        "    # Computing the loss using the loss function\n",
        "    loss = loss_fn(y_pred, y_true)\n",
        "\n",
        "    # Computing the relative error of pressure\n",
        "    rel_error = torch.abs((y_pred - y_true) / y_true)\n",
        "\n",
        "    # Computing the L1 norm for the relative error of pressure\n",
        "    l1_norm = torch.mean(rel_error) \n",
        "    # Computing the Linf norm for the relative error of pressure\n",
        "    linf_norm = torch.max(rel_error) \n",
        "\n",
        "    # Returning the loss and metrics\n",
        "    return loss, l1_norm, linf_norm\n",
        "\n",
        "\n",
        "# Defining a function that updates the learning rate scheduler with validation loss if applicable\n",
        "def update_scheduler(scheduler, test_loss):\n",
        "    \"\"\"Updates the learning rate scheduler with validation loss if applicable.\n",
        "\n",
        "    Args:\n",
        "        scheduler (torch.optim.lr_scheduler._LRScheduler or None): The learning rate scheduler to use.\n",
        "        test_loss (float): The validation loss to use.\n",
        "\n",
        "    Returns:\n",
        "        None\n",
        "    \"\"\"\n",
        "    # Checking if scheduler is not None\n",
        "    if scheduler is not None:\n",
        "        # Checking if scheduler is ReduceLROnPlateau\n",
        "        if isinstance(scheduler, optim.lr_scheduler.ReduceLROnPlateau):\n",
        "            # Updating the scheduler with test_loss\n",
        "            scheduler.step(test_loss)\n",
        "        else:\n",
        "            # Updating the scheduler without test_loss\n",
        "            scheduler.step()\n"
      ]
    },
    {
      "cell_type": "markdown",
      "metadata": {
        "id": "w1nE662UUZiE"
      },
      "source": [
        "Now for the actual training and evaluation loop,"
      ]
    },
    {
      "cell_type": "code",
      "execution_count": 39,
      "metadata": {
        "id": "YAOjgKW3UZiF"
      },
      "outputs": [],
      "source": [
        "# Defining a function to train and evaluate a network\n",
        "def train_and_eval(net, loss_fn, optimizer, batch_size, n_epochs, scheduler, train_loader, val_loader, test_loader, trial=None):\n",
        "    # Initializing lists to store the losses and metrics for each epoch\n",
        "    train_losses = []\n",
        "    val_losses = []\n",
        "    test_losses = []\n",
        "    train_metrics = []\n",
        "    val_metrics = []\n",
        "    test_metrics = []\n",
        "\n",
        "\n",
        "    # Creating a SummaryWriter object to log data for tensorboard\n",
        "    writer = tbx.SummaryWriter()\n",
        "\n",
        "    # Looping over the epochs\n",
        "    for epoch in range(n_epochs):\n",
        "\n",
        "        # Setting the network to training mode\n",
        "        net.train()\n",
        "\n",
        "        # Initializing variables to store the total loss and metrics for the train set\n",
        "        train_loss = 0.0\n",
        "        train_l1_norm = 0.0\n",
        "        train_linf_norm = 0.0\n",
        "\n",
        "        # Looping over the batches in the train set\n",
        "        for x_batch, y_batch in train_loader:\n",
        "\n",
        "            # Moving the batch tensors to the device\n",
        "            x_batch = x_batch.to(device)\n",
        "            y_batch = y_batch.to(device)\n",
        "\n",
        "            # Zeroing the gradients\n",
        "            optimizer.zero_grad()\n",
        "\n",
        "            # Performing a forward pass and computing the loss and metrics\n",
        "            y_pred = net(x_batch)\n",
        "            loss, l1_norm, linf_norm = compute_loss_and_metrics(y_pred, y_batch, loss_fn)\n",
        "\n",
        "\n",
        "            # Performing a backward pass and updating the weights\n",
        "            loss.backward()\n",
        "            optimizer.step()\n",
        "\n",
        "            # Updating the total loss and metrics for the train set\n",
        "            train_loss += loss.item() * x_batch.size(0)\n",
        "            train_l1_norm += l1_norm.item() * x_batch.size(0)\n",
        "            train_linf_norm += linf_norm.item() * x_batch.size(0)\n",
        "\n",
        "        # Computing the average loss and metrics for the train set\n",
        "        train_loss /= len(train_loader.dataset)\n",
        "        train_l1_norm /= len(train_loader.dataset)\n",
        "        train_linf_norm /= len(train_loader.dataset)\n",
        "\n",
        "        # Appending the average loss and metrics for the train set to the lists\n",
        "        train_losses.append(train_loss)\n",
        "        train_metrics.append(\n",
        "            {\n",
        "                \"l1_norm\": train_l1_norm,\n",
        "                \"linf_norm\": train_linf_norm,\n",
        "            }\n",
        "        )\n",
        "\n",
        "        # Logging the average loss and metrics for the train set to tensorboard\n",
        "        writer.add_scalar(\"Loss/train\", train_loss, epoch)\n",
        "        writer.add_scalar(\"L1 norm/train\", train_l1_norm, epoch)\n",
        "        writer.add_scalar(\"Linf norm/train\", train_linf_norm, epoch)\n",
        "\n",
        "        if val_loader is not None:\n",
        "            net.eval()\n",
        "            val_loss = 0.0\n",
        "            val_l1_norm = 0.0\n",
        "            val_linf_norm = 0.0\n",
        "\n",
        "            with torch.no_grad():\n",
        "                for x_batch, y_batch in val_loader:\n",
        "                    x_batch = x_batch.to(device)\n",
        "                    y_batch = y_batch.to(device)\n",
        "                    y_pred = net(x_batch)\n",
        "                    loss, l1_norm, linf_norm = compute_loss_and_metrics(y_pred, y_batch, loss_fn)\n",
        "\n",
        "                    val_loss += loss.item() * x_batch.size(0)\n",
        "                    val_l1_norm += l1_norm.item() * x_batch.size(0)\n",
        "                    val_linf_norm += linf_norm.item() * x_batch.size(0)\n",
        "\n",
        "            val_loss /= len(val_loader.dataset)\n",
        "            val_l1_norm /= len(val_loader.dataset)\n",
        "            val_linf_norm /= len(val_loader.dataset)\n",
        "\n",
        "            val_losses.append(val_loss)\n",
        "            val_metrics.append(\n",
        "                {\n",
        "                    \"l1_norm\": val_l1_norm,\n",
        "                    \"linf_norm\": val_linf_norm,\n",
        "                }\n",
        "            )\n",
        "\n",
        "            writer.add_scalar(\"Loss/val\", val_loss, epoch)\n",
        "            writer.add_scalar(\"L1 norm/val\", val_l1_norm, epoch)\n",
        "            writer.add_scalar(\"Linf norm/val\", val_linf_norm, epoch)\n",
        "            print(f\"Epoch {epoch+1}/{n_epochs}.. Train loss: {train_loss:.3f}.. Val loss: {val_loss:.3f}.. Train L1 norm: {train_l1_norm:.3f}.. Val L1 norm: {val_l1_norm:.3f}.. Train Linf norm: {train_linf_norm:.3f}.. Val Linf norm: {val_linf_norm:.3f}\")\n",
        "\n",
        "\n",
        "            update_scheduler(scheduler, val_loss)\n",
        "\n",
        "        if test_loader is not None:\n",
        "            net.eval()\n",
        "            test_loss = 0.0\n",
        "            test_l1_norm = 0.0\n",
        "            test_linf_norm = 0.0\n",
        "\n",
        "            with torch.no_grad():\n",
        "                for x_batch, y_batch in test_loader:\n",
        "                    x_batch = x_batch.to(device)\n",
        "                    y_batch = y_batch.to(device)\n",
        "                    y_pred = net(x_batch)\n",
        "                    loss, l1_norm, linf_norm = compute_loss_and_metrics(y_pred, y_batch, loss_fn)\n",
        "\n",
        "                    test_loss += loss.item() * x_batch.size(0)\n",
        "                    test_l1_norm += l1_norm.item() * x_batch.size(0)\n",
        "                    test_linf_norm += linf_norm.item() * x_batch.size(0)\n",
        "\n",
        "            test_loss /= len(test_loader.dataset)\n",
        "            test_l1_norm /= len(test_loader.dataset)\n",
        "            test_linf_norm /= len(test_loader.dataset)\n",
        "\n",
        "            test_losses.append(test_loss)\n",
        "            test_metrics.append(\n",
        "                {\n",
        "                    \"l1_norm\": test_l1_norm,\n",
        "                    \"linf_norm\": test_linf_norm,\n",
        "                }\n",
        "            )\n",
        "\n",
        "            writer.add_scalar(\"Loss/test\", test_loss, epoch)\n",
        "            writer.add_scalar(\"L1 norm/test\", test_l1_norm, epoch)\n",
        "            writer.add_scalar(\"Linf norm/test\", test_linf_norm, epoch)\n",
        "            print(f\"Epoch {epoch+1}/{n_epochs}.. Train loss: {train_loss:.3f}.. Test loss: {test_loss:.3f}.. Train L1 norm: {train_l1_norm:.3f}.. Test L1 norm: {test_l1_norm:.3f}.. Train Linf norm: {train_linf_norm:.3f}.. Test Linf norm: {test_linf_norm:.3f}\")\n",
        "\n",
        "\n",
        "        # Reporting the intermediate metric value to Optuna if trial is not None\n",
        "        if trial is not None:\n",
        "            trial.report(val_l1_norm, epoch)\n",
        "\n",
        "            if trial.should_prune():\n",
        "                raise optuna.TrialPruned()\n",
        "\n",
        "    # Closing the SummaryWriter object\n",
        "    writer.close()\n",
        "\n",
        "    # Returning the losses and metrics lists\n",
        "    return train_losses, val_losses, test_losses, train_metrics, val_metrics, test_metrics\n"
      ]
    },
    {
      "cell_type": "markdown",
      "metadata": {
        "id": "xg9jz0SvUZiQ"
      },
      "source": [
        "## The objective function and hyperparameter tuning"
      ]
    },
    {
      "cell_type": "code",
      "execution_count": 40,
      "metadata": {
        "id": "fmRncQPuUZiR"
      },
      "outputs": [],
      "source": [
        "# Defining an objective function for Optuna to minimize\n",
        "def objective(trial):\n",
        "    \"\"\"Defines an objective function for Optuna to minimize.\n",
        "\n",
        "    Args:\n",
        "        trial (optuna.trial.Trial): The trial object that contains the hyperparameters.\n",
        "\n",
        "    Returns:\n",
        "        float: The validation L1 norm to minimize.\n",
        "    \"\"\"\n",
        "    # Creating a trial network and optimizer using the create_model function\n",
        "    net, \\\n",
        "    loss_fn, \\\n",
        "    optimizer, \\\n",
        "    batch_size, \\\n",
        "    n_epochs, \\\n",
        "    scheduler, \\\n",
        "    loss_name, \\\n",
        "    optimizer_name, \\\n",
        "    scheduler_name, \\\n",
        "    n_units, \\\n",
        "    n_layers, \\\n",
        "    hidden_activation, \\\n",
        "    output_activation, \\\n",
        "    lr, \\\n",
        "    dropout_rate = create_model(trial, optimize=True)\n",
        "\n",
        "    # Create separate data loaders for training and validation\n",
        "    train_loader = torch.utils.data.DataLoader(\n",
        "        torch.utils.data.TensorDataset(x_train, y_train), batch_size=batch_size, shuffle=True\n",
        "    )\n",
        "    val_loader = torch.utils.data.DataLoader(\n",
        "        torch.utils.data.TensorDataset(x_val, y_val), batch_size=batch_size\n",
        "    )\n",
        "    \n",
        "    _, _, _, _, val_metrics, _ = train_and_eval(\n",
        "        net, loss_fn, optimizer, batch_size, n_epochs, scheduler, train_loader, val_loader, None, trial\n",
        "    )\n",
        "\n",
        "    # Returning the last validation L1 norm as the objective value to minimize\n",
        "    return val_metrics[-1][\"l1_norm\"]"
      ]
    },
    {
      "cell_type": "code",
      "execution_count": null,
      "metadata": {
        "id": "GyES4NAyUZiS",
        "outputId": "883d6a9c-ce84-4d6b-d4de-b78d8d5f53ed",
        "colab": {
          "base_uri": "https://localhost:8080/"
        }
      },
      "outputs": [
        {
          "output_type": "stream",
          "name": "stderr",
          "text": [
            "[I 2023-05-30 09:03:57,493] A new study created in memory with name: no-name-52c72251-2587-4511-92bf-4cf07a3ef7c7\n",
            "<ipython-input-37-5ce9a06c2c29>:44: FutureWarning: suggest_loguniform has been deprecated in v3.0.0. This feature will be removed in v6.0.0. See https://github.com/optuna/optuna/releases/tag/v3.0.0. Use suggest_float(..., log=True) instead.\n",
            "  lr = trial.suggest_loguniform(\"lr\", 1e-5, 1e-1)\n",
            "<ipython-input-37-5ce9a06c2c29>:63: FutureWarning: suggest_uniform has been deprecated in v3.0.0. This feature will be removed in v6.0.0. See https://github.com/optuna/optuna/releases/tag/v3.0.0. Use suggest_float instead.\n",
            "  init = trial.suggest_uniform(\"prelu_init\", 0.1, 0.3)\n",
            "<ipython-input-37-5ce9a06c2c29>:76: FutureWarning: suggest_uniform has been deprecated in v3.0.0. This feature will be removed in v6.0.0. See https://github.com/optuna/optuna/releases/tag/v3.0.0. Use suggest_float instead.\n",
            "  dropout_rate = trial.suggest_uniform(\"dropout_rate\", 0.0, 0.5)\n",
            "<ipython-input-37-5ce9a06c2c29>:178: FutureWarning: suggest_uniform has been deprecated in v3.0.0. This feature will be removed in v6.0.0. See https://github.com/optuna/optuna/releases/tag/v3.0.0. Use suggest_float instead.\n",
            "  factor = trial.suggest_uniform(\"factor\", 0.1, 0.5)\n",
            "<ipython-input-37-5ce9a06c2c29>:180: FutureWarning: suggest_loguniform has been deprecated in v3.0.0. This feature will be removed in v6.0.0. See https://github.com/optuna/optuna/releases/tag/v3.0.0. Use suggest_float(..., log=True) instead.\n",
            "  threshold = trial.suggest_loguniform(\"threshold\", 1e-4, 1e-2)\n"
          ]
        },
        {
          "output_type": "stream",
          "name": "stdout",
          "text": [
            "Epoch 1/71.. Train loss: 55.532.. Val loss: 4.597.. Train L1 norm: 47.490.. Val L1 norm: 2.386.. Train Linf norm: 3844.496.. Val Linf norm: 258.098\n",
            "Epoch 2/71.. Train loss: 6.065.. Val loss: 4.511.. Train L1 norm: 4.233.. Val L1 norm: 2.888.. Train Linf norm: 452.419.. Val Linf norm: 333.378\n",
            "Epoch 3/71.. Train loss: 5.883.. Val loss: 4.498.. Train L1 norm: 3.719.. Val L1 norm: 2.939.. Train Linf norm: 367.990.. Val Linf norm: 331.813\n",
            "Epoch 4/71.. Train loss: 5.249.. Val loss: 4.387.. Train L1 norm: 3.838.. Val L1 norm: 3.331.. Train Linf norm: 417.352.. Val Linf norm: 390.798\n",
            "Epoch 5/71.. Train loss: 5.111.. Val loss: 4.443.. Train L1 norm: 3.459.. Val L1 norm: 3.479.. Train Linf norm: 333.199.. Val Linf norm: 437.314\n",
            "Epoch 6/71.. Train loss: 5.045.. Val loss: 4.225.. Train L1 norm: 3.692.. Val L1 norm: 4.943.. Train Linf norm: 379.556.. Val Linf norm: 646.890\n",
            "Epoch 7/71.. Train loss: 5.463.. Val loss: 4.709.. Train L1 norm: 3.910.. Val L1 norm: 2.294.. Train Linf norm: 432.321.. Val Linf norm: 222.174\n",
            "Epoch 8/71.. Train loss: 5.395.. Val loss: 4.980.. Train L1 norm: 3.833.. Val L1 norm: 8.614.. Train Linf norm: 408.075.. Val Linf norm: 1208.330\n",
            "Epoch 9/71.. Train loss: 5.277.. Val loss: 4.755.. Train L1 norm: 3.763.. Val L1 norm: 2.839.. Train Linf norm: 382.925.. Val Linf norm: 331.077\n",
            "Epoch 10/71.. Train loss: 5.055.. Val loss: 4.373.. Train L1 norm: 3.796.. Val L1 norm: 3.714.. Train Linf norm: 406.905.. Val Linf norm: 476.030\n",
            "Epoch 11/71.. Train loss: 4.903.. Val loss: 4.238.. Train L1 norm: 3.624.. Val L1 norm: 4.411.. Train Linf norm: 366.728.. Val Linf norm: 566.799\n",
            "Epoch 12/71.. Train loss: 4.797.. Val loss: 4.270.. Train L1 norm: 3.483.. Val L1 norm: 4.548.. Train Linf norm: 333.113.. Val Linf norm: 589.048\n",
            "Epoch 13/71.. Train loss: 5.329.. Val loss: 4.305.. Train L1 norm: 3.687.. Val L1 norm: 4.588.. Train Linf norm: 373.041.. Val Linf norm: 616.953\n",
            "Epoch 14/71.. Train loss: 4.705.. Val loss: 4.550.. Train L1 norm: 3.583.. Val L1 norm: 2.779.. Train Linf norm: 352.325.. Val Linf norm: 309.682\n",
            "Epoch 15/71.. Train loss: 4.517.. Val loss: 4.213.. Train L1 norm: 3.593.. Val L1 norm: 4.432.. Train Linf norm: 345.342.. Val Linf norm: 580.799\n",
            "Epoch 16/71.. Train loss: 4.653.. Val loss: 4.281.. Train L1 norm: 3.590.. Val L1 norm: 4.264.. Train Linf norm: 350.323.. Val Linf norm: 537.264\n",
            "Epoch 17/71.. Train loss: 4.873.. Val loss: 4.402.. Train L1 norm: 3.695.. Val L1 norm: 3.451.. Train Linf norm: 368.228.. Val Linf norm: 400.343\n",
            "Epoch 18/71.. Train loss: 4.666.. Val loss: 4.207.. Train L1 norm: 3.864.. Val L1 norm: 4.405.. Train Linf norm: 403.796.. Val Linf norm: 563.786\n",
            "Epoch 19/71.. Train loss: 5.159.. Val loss: 4.264.. Train L1 norm: 3.726.. Val L1 norm: 4.342.. Train Linf norm: 391.161.. Val Linf norm: 580.830\n",
            "Epoch 20/71.. Train loss: 4.819.. Val loss: 4.319.. Train L1 norm: 3.699.. Val L1 norm: 4.117.. Train Linf norm: 372.943.. Val Linf norm: 547.374\n",
            "Epoch 21/71.. Train loss: 5.297.. Val loss: 4.199.. Train L1 norm: 3.940.. Val L1 norm: 4.715.. Train Linf norm: 428.891.. Val Linf norm: 632.971\n",
            "Epoch 22/71.. Train loss: 4.492.. Val loss: 4.213.. Train L1 norm: 3.828.. Val L1 norm: 5.586.. Train Linf norm: 377.178.. Val Linf norm: 750.069\n",
            "Epoch 23/71.. Train loss: 4.551.. Val loss: 4.116.. Train L1 norm: 3.697.. Val L1 norm: 5.577.. Train Linf norm: 379.887.. Val Linf norm: 774.235\n",
            "Epoch 24/71.. Train loss: 4.310.. Val loss: 4.329.. Train L1 norm: 3.983.. Val L1 norm: 3.885.. Train Linf norm: 419.345.. Val Linf norm: 524.519\n",
            "Epoch 25/71.. Train loss: 4.567.. Val loss: 4.096.. Train L1 norm: 3.707.. Val L1 norm: 4.959.. Train Linf norm: 354.421.. Val Linf norm: 683.250\n",
            "Epoch 26/71.. Train loss: 4.609.. Val loss: 4.349.. Train L1 norm: 3.910.. Val L1 norm: 3.644.. Train Linf norm: 408.453.. Val Linf norm: 462.592\n",
            "Epoch 27/71.. Train loss: 4.540.. Val loss: 4.113.. Train L1 norm: 4.082.. Val L1 norm: 5.312.. Train Linf norm: 439.840.. Val Linf norm: 738.102\n",
            "Epoch 28/71.. Train loss: 4.646.. Val loss: 4.097.. Train L1 norm: 3.947.. Val L1 norm: 4.756.. Train Linf norm: 432.896.. Val Linf norm: 658.713\n",
            "Epoch 29/71.. Train loss: 4.504.. Val loss: 4.205.. Train L1 norm: 3.983.. Val L1 norm: 4.096.. Train Linf norm: 414.991.. Val Linf norm: 544.168\n",
            "Epoch 30/71.. Train loss: 4.451.. Val loss: 4.223.. Train L1 norm: 3.916.. Val L1 norm: 4.158.. Train Linf norm: 410.168.. Val Linf norm: 556.296\n",
            "Epoch 31/71.. Train loss: 4.402.. Val loss: 4.165.. Train L1 norm: 4.193.. Val L1 norm: 4.146.. Train Linf norm: 454.688.. Val Linf norm: 554.286\n",
            "Epoch 32/71.. Train loss: 4.428.. Val loss: 4.138.. Train L1 norm: 4.159.. Val L1 norm: 4.810.. Train Linf norm: 447.227.. Val Linf norm: 683.335\n",
            "Epoch 33/71.. Train loss: 4.594.. Val loss: 4.149.. Train L1 norm: 4.022.. Val L1 norm: 4.664.. Train Linf norm: 439.095.. Val Linf norm: 649.105\n",
            "Epoch 34/71.. Train loss: 4.563.. Val loss: 4.421.. Train L1 norm: 4.091.. Val L1 norm: 3.104.. Train Linf norm: 411.319.. Val Linf norm: 387.534\n",
            "Epoch 35/71.. Train loss: 4.371.. Val loss: 4.286.. Train L1 norm: 3.988.. Val L1 norm: 3.679.. Train Linf norm: 397.677.. Val Linf norm: 486.910\n",
            "Epoch 36/71.. Train loss: 4.403.. Val loss: 4.234.. Train L1 norm: 4.029.. Val L1 norm: 4.380.. Train Linf norm: 411.886.. Val Linf norm: 602.773\n",
            "Epoch 37/71.. Train loss: 4.358.. Val loss: 4.226.. Train L1 norm: 4.033.. Val L1 norm: 4.265.. Train Linf norm: 419.262.. Val Linf norm: 599.283\n",
            "Epoch 38/71.. Train loss: 4.228.. Val loss: 4.136.. Train L1 norm: 4.324.. Val L1 norm: 4.724.. Train Linf norm: 462.139.. Val Linf norm: 661.831\n",
            "Epoch 39/71.. Train loss: 4.183.. Val loss: 4.198.. Train L1 norm: 4.296.. Val L1 norm: 4.531.. Train Linf norm: 453.506.. Val Linf norm: 634.976\n",
            "Epoch 40/71.. Train loss: 4.313.. Val loss: 4.172.. Train L1 norm: 4.332.. Val L1 norm: 4.685.. Train Linf norm: 471.108.. Val Linf norm: 657.007\n",
            "Epoch 41/71.. Train loss: 4.300.. Val loss: 4.188.. Train L1 norm: 4.149.. Val L1 norm: 4.386.. Train Linf norm: 416.796.. Val Linf norm: 607.489\n",
            "Epoch 42/71.. Train loss: 4.140.. Val loss: 4.219.. Train L1 norm: 4.300.. Val L1 norm: 4.376.. Train Linf norm: 433.977.. Val Linf norm: 609.980\n",
            "Epoch 43/71.. Train loss: 4.338.. Val loss: 4.367.. Train L1 norm: 4.109.. Val L1 norm: 3.142.. Train Linf norm: 423.081.. Val Linf norm: 386.142\n",
            "Epoch 44/71.. Train loss: 4.341.. Val loss: 4.210.. Train L1 norm: 4.097.. Val L1 norm: 4.541.. Train Linf norm: 424.272.. Val Linf norm: 629.757\n",
            "Epoch 45/71.. Train loss: 4.423.. Val loss: 4.235.. Train L1 norm: 4.249.. Val L1 norm: 4.695.. Train Linf norm: 443.448.. Val Linf norm: 662.086\n",
            "Epoch 46/71.. Train loss: 4.510.. Val loss: 4.221.. Train L1 norm: 4.279.. Val L1 norm: 4.720.. Train Linf norm: 477.829.. Val Linf norm: 666.456\n",
            "Epoch 47/71.. Train loss: 4.146.. Val loss: 4.250.. Train L1 norm: 4.268.. Val L1 norm: 4.747.. Train Linf norm: 450.866.. Val Linf norm: 676.242\n",
            "Epoch 48/71.. Train loss: 4.187.. Val loss: 4.201.. Train L1 norm: 4.348.. Val L1 norm: 4.622.. Train Linf norm: 471.236.. Val Linf norm: 646.947\n",
            "Epoch 49/71.. Train loss: 4.073.. Val loss: 4.147.. Train L1 norm: 4.406.. Val L1 norm: 4.969.. Train Linf norm: 480.307.. Val Linf norm: 710.032\n",
            "Epoch 50/71.. Train loss: 4.235.. Val loss: 4.182.. Train L1 norm: 4.278.. Val L1 norm: 4.735.. Train Linf norm: 464.943.. Val Linf norm: 671.354\n",
            "Epoch 51/71.. Train loss: 4.292.. Val loss: 4.188.. Train L1 norm: 4.166.. Val L1 norm: 4.605.. Train Linf norm: 415.605.. Val Linf norm: 649.258\n",
            "Epoch 52/71.. Train loss: 4.141.. Val loss: 4.148.. Train L1 norm: 4.288.. Val L1 norm: 4.904.. Train Linf norm: 448.518.. Val Linf norm: 698.674\n",
            "Epoch 53/71.. Train loss: 4.068.. Val loss: 4.191.. Train L1 norm: 4.451.. Val L1 norm: 4.688.. Train Linf norm: 471.740.. Val Linf norm: 661.088\n",
            "Epoch 54/71.. Train loss: 4.076.. Val loss: 4.163.. Train L1 norm: 4.333.. Val L1 norm: 4.759.. Train Linf norm: 467.797.. Val Linf norm: 672.654\n",
            "Epoch 55/71.. Train loss: 4.340.. Val loss: 4.159.. Train L1 norm: 4.233.. Val L1 norm: 4.937.. Train Linf norm: 444.057.. Val Linf norm: 701.302\n",
            "Epoch 56/71.. Train loss: 4.407.. Val loss: 4.141.. Train L1 norm: 4.269.. Val L1 norm: 4.876.. Train Linf norm: 442.921.. Val Linf norm: 693.355\n",
            "Epoch 57/71.. Train loss: 4.161.. Val loss: 4.154.. Train L1 norm: 4.442.. Val L1 norm: 4.883.. Train Linf norm: 496.341.. Val Linf norm: 694.265\n",
            "Epoch 58/71.. Train loss: 4.041.. Val loss: 4.167.. Train L1 norm: 4.427.. Val L1 norm: 4.731.. Train Linf norm: 479.001.. Val Linf norm: 667.486\n",
            "Epoch 59/71.. Train loss: 4.391.. Val loss: 4.153.. Train L1 norm: 4.195.. Val L1 norm: 4.738.. Train Linf norm: 441.611.. Val Linf norm: 668.595\n",
            "Epoch 60/71.. Train loss: 4.133.. Val loss: 4.140.. Train L1 norm: 4.279.. Val L1 norm: 4.798.. Train Linf norm: 460.201.. Val Linf norm: 679.688\n",
            "Epoch 61/71.. Train loss: 4.417.. Val loss: 4.122.. Train L1 norm: 4.268.. Val L1 norm: 4.861.. Train Linf norm: 444.950.. Val Linf norm: 691.398\n",
            "Epoch 62/71.. Train loss: 4.053.. Val loss: 4.107.. Train L1 norm: 4.346.. Val L1 norm: 4.903.. Train Linf norm: 458.674.. Val Linf norm: 697.358\n",
            "Epoch 63/71.. Train loss: 4.092.. Val loss: 4.130.. Train L1 norm: 4.293.. Val L1 norm: 4.882.. Train Linf norm: 438.287.. Val Linf norm: 693.590\n",
            "Epoch 64/71.. Train loss: 4.267.. Val loss: 4.143.. Train L1 norm: 4.172.. Val L1 norm: 4.805.. Train Linf norm: 411.927.. Val Linf norm: 681.331\n",
            "Epoch 65/71.. Train loss: 4.180.. Val loss: 4.144.. Train L1 norm: 4.235.. Val L1 norm: 4.859.. Train Linf norm: 444.189.. Val Linf norm: 691.403\n",
            "Epoch 66/71.. Train loss: 4.107.. Val loss: 4.145.. Train L1 norm: 4.238.. Val L1 norm: 4.835.. Train Linf norm: 435.262.. Val Linf norm: 687.801\n",
            "Epoch 67/71.. Train loss: 4.030.. Val loss: 4.143.. Train L1 norm: 4.332.. Val L1 norm: 4.822.. Train Linf norm: 452.194.. Val Linf norm: 684.794\n",
            "Epoch 68/71.. Train loss: 4.016.. Val loss: 4.128.. Train L1 norm: 4.381.. Val L1 norm: 4.910.. Train Linf norm: 479.719.. Val Linf norm: 699.826\n",
            "Epoch 69/71.. Train loss: 4.395.. Val loss: 4.140.. Train L1 norm: 4.424.. Val L1 norm: 4.822.. Train Linf norm: 491.237.. Val Linf norm: 685.895\n",
            "Epoch 70/71.. Train loss: 4.455.. Val loss: 4.138.. Train L1 norm: 4.380.. Val L1 norm: 4.844.. Train Linf norm: 456.310.. Val Linf norm: 689.279\n"
          ]
        },
        {
          "output_type": "stream",
          "name": "stderr",
          "text": [
            "[I 2023-05-30 09:13:18,264] Trial 0 finished with value: 4.855426431401571 and parameters: {'n_layers': 9, 'n_units_0': 105, 'n_units_1': 424, 'n_units_2': 2841, 'n_units_3': 2259, 'n_units_4': 2927, 'n_units_5': 2598, 'n_units_6': 1473, 'n_units_7': 3198, 'n_units_8': 1844, 'hidden_activation': 'PReLU', 'output_activation': 'Linear', 'loss': 'MAE', 'optimizer': 'RMSprop', 'lr': 0.00022513546761722883, 'batch_size': 256, 'n_epochs': 71, 'scheduler': 'ReduceLROnPlateau', 'prelu_init': 0.29331782206610135, 'dropout_rate': 0.2935573431867244, 'factor': 0.48313211220902397, 'patience': 5, 'threshold': 0.0038848378606828327}. Best is trial 0 with value: 4.855426431401571.\n"
          ]
        },
        {
          "output_type": "stream",
          "name": "stdout",
          "text": [
            "Epoch 71/71.. Train loss: 4.147.. Val loss: 4.140.. Train L1 norm: 4.331.. Val L1 norm: 4.855.. Train Linf norm: 465.824.. Val Linf norm: 691.152\n"
          ]
        },
        {
          "output_type": "stream",
          "name": "stderr",
          "text": [
            "<ipython-input-37-5ce9a06c2c29>:149: FutureWarning: suggest_loguniform has been deprecated in v3.0.0. This feature will be removed in v6.0.0. See https://github.com/optuna/optuna/releases/tag/v3.0.0. Use suggest_float(..., log=True) instead.\n",
            "  weight_decay = trial.suggest_loguniform(\"weight_decay\", 1e-5, 1e-2)\n",
            "<ipython-input-37-5ce9a06c2c29>:150: FutureWarning: suggest_uniform has been deprecated in v3.0.0. This feature will be removed in v6.0.0. See https://github.com/optuna/optuna/releases/tag/v3.0.0. Use suggest_float instead.\n",
            "  beta1 = trial.suggest_uniform(\"beta1\", 0.9, 0.999)\n",
            "<ipython-input-37-5ce9a06c2c29>:151: FutureWarning: suggest_uniform has been deprecated in v3.0.0. This feature will be removed in v6.0.0. See https://github.com/optuna/optuna/releases/tag/v3.0.0. Use suggest_float instead.\n",
            "  beta2 = trial.suggest_uniform(\"beta2\", 0.999, 0.9999)\n",
            "<ipython-input-37-5ce9a06c2c29>:161: FutureWarning: suggest_uniform has been deprecated in v3.0.0. This feature will be removed in v6.0.0. See https://github.com/optuna/optuna/releases/tag/v3.0.0. Use suggest_float instead.\n",
            "  gamma = trial.suggest_uniform(\"gamma\", 0.1, 0.5)\n"
          ]
        },
        {
          "output_type": "stream",
          "name": "stdout",
          "text": [
            "Epoch 1/88.. Train loss: 19007.656.. Val loss: 56.494.. Train L1 norm: 2.342.. Val L1 norm: 1.766.. Train Linf norm: 39.184.. Val Linf norm: 25.000\n",
            "Epoch 2/88.. Train loss: 2625.140.. Val loss: 54.672.. Train L1 norm: 1.837.. Val L1 norm: 1.488.. Train Linf norm: 26.138.. Val Linf norm: 16.831\n",
            "Epoch 3/88.. Train loss: 5073.671.. Val loss: 55.204.. Train L1 norm: 1.577.. Val L1 norm: 1.306.. Train Linf norm: 18.694.. Val Linf norm: 11.278\n",
            "Epoch 4/88.. Train loss: 546.540.. Val loss: 57.817.. Train L1 norm: 1.851.. Val L1 norm: 1.070.. Train Linf norm: 26.134.. Val Linf norm: 3.583\n",
            "Epoch 5/88.. Train loss: 291.025.. Val loss: 55.270.. Train L1 norm: 1.567.. Val L1 norm: 1.314.. Train Linf norm: 18.601.. Val Linf norm: 11.518\n",
            "Epoch 6/88.. Train loss: 1221.910.. Val loss: 57.674.. Train L1 norm: 1.642.. Val L1 norm: 1.091.. Train Linf norm: 20.570.. Val Linf norm: 4.318\n",
            "Epoch 7/88.. Train loss: 4513.260.. Val loss: 57.588.. Train L1 norm: 1.427.. Val L1 norm: 1.104.. Train Linf norm: 14.511.. Val Linf norm: 4.740\n",
            "Epoch 8/88.. Train loss: 9585.732.. Val loss: 56.619.. Train L1 norm: 1.654.. Val L1 norm: 1.188.. Train Linf norm: 20.865.. Val Linf norm: 7.521\n",
            "Epoch 9/88.. Train loss: 106.991.. Val loss: 55.992.. Train L1 norm: 1.442.. Val L1 norm: 1.257.. Train Linf norm: 14.855.. Val Linf norm: 9.709\n",
            "Epoch 10/88.. Train loss: 1184.347.. Val loss: 57.244.. Train L1 norm: 1.461.. Val L1 norm: 1.146.. Train Linf norm: 15.458.. Val Linf norm: 6.111\n",
            "Epoch 11/88.. Train loss: 132.449.. Val loss: 57.266.. Train L1 norm: 1.393.. Val L1 norm: 1.150.. Train Linf norm: 13.702.. Val Linf norm: 6.253\n",
            "Epoch 12/88.. Train loss: 123.202.. Val loss: 57.423.. Train L1 norm: 1.480.. Val L1 norm: 1.135.. Train Linf norm: 16.452.. Val Linf norm: 5.750\n",
            "Epoch 13/88.. Train loss: 541.628.. Val loss: 57.376.. Train L1 norm: 1.776.. Val L1 norm: 1.141.. Train Linf norm: 25.059.. Val Linf norm: 5.951\n",
            "Epoch 14/88.. Train loss: 812.645.. Val loss: 57.315.. Train L1 norm: 1.601.. Val L1 norm: 1.148.. Train Linf norm: 20.081.. Val Linf norm: 6.200\n",
            "Epoch 15/88.. Train loss: 88.800.. Val loss: 57.266.. Train L1 norm: 1.428.. Val L1 norm: 1.157.. Train Linf norm: 14.747.. Val Linf norm: 6.477\n",
            "Epoch 16/88.. Train loss: 723.616.. Val loss: 57.107.. Train L1 norm: 1.578.. Val L1 norm: 1.195.. Train Linf norm: 18.999.. Val Linf norm: 7.724\n",
            "Epoch 17/88.. Train loss: 1065.420.. Val loss: 54.337.. Train L1 norm: 1.413.. Val L1 norm: 1.486.. Train Linf norm: 14.002.. Val Linf norm: 16.745\n",
            "Epoch 18/88.. Train loss: 91.751.. Val loss: 56.551.. Train L1 norm: 1.579.. Val L1 norm: 1.246.. Train Linf norm: 18.648.. Val Linf norm: 9.327\n",
            "Epoch 19/88.. Train loss: 118.751.. Val loss: 57.079.. Train L1 norm: 1.400.. Val L1 norm: 1.190.. Train Linf norm: 13.493.. Val Linf norm: 7.537\n",
            "Epoch 20/88.. Train loss: 15428.489.. Val loss: 57.073.. Train L1 norm: 1.434.. Val L1 norm: 1.188.. Train Linf norm: 15.014.. Val Linf norm: 7.494\n",
            "Epoch 21/88.. Train loss: 61.793.. Val loss: 57.063.. Train L1 norm: 1.199.. Val L1 norm: 1.190.. Train Linf norm: 7.763.. Val Linf norm: 7.550\n",
            "Epoch 22/88.. Train loss: 61.775.. Val loss: 57.051.. Train L1 norm: 1.186.. Val L1 norm: 1.192.. Train Linf norm: 7.390.. Val Linf norm: 7.616\n",
            "Epoch 23/88.. Train loss: 275.298.. Val loss: 57.034.. Train L1 norm: 1.188.. Val L1 norm: 1.195.. Train Linf norm: 7.405.. Val Linf norm: 7.701\n",
            "Epoch 24/88.. Train loss: 231.403.. Val loss: 57.014.. Train L1 norm: 1.235.. Val L1 norm: 1.198.. Train Linf norm: 8.949.. Val Linf norm: 7.799\n",
            "Epoch 25/88.. Train loss: 66.220.. Val loss: 57.003.. Train L1 norm: 1.283.. Val L1 norm: 1.200.. Train Linf norm: 10.538.. Val Linf norm: 7.874\n",
            "Epoch 26/88.. Train loss: 62.411.. Val loss: 56.985.. Train L1 norm: 1.317.. Val L1 norm: 1.204.. Train Linf norm: 11.348.. Val Linf norm: 7.995\n",
            "Epoch 27/88.. Train loss: 68.392.. Val loss: 56.961.. Train L1 norm: 1.501.. Val L1 norm: 1.210.. Train Linf norm: 16.326.. Val Linf norm: 8.158\n",
            "Epoch 28/88.. Train loss: 79.981.. Val loss: 56.949.. Train L1 norm: 1.572.. Val L1 norm: 1.211.. Train Linf norm: 18.862.. Val Linf norm: 8.206\n",
            "Epoch 29/88.. Train loss: 200.706.. Val loss: 56.933.. Train L1 norm: 1.581.. Val L1 norm: 1.213.. Train Linf norm: 19.306.. Val Linf norm: 8.271\n",
            "Epoch 30/88.. Train loss: 87.661.. Val loss: 56.916.. Train L1 norm: 1.525.. Val L1 norm: 1.215.. Train Linf norm: 17.671.. Val Linf norm: 8.343\n",
            "Epoch 31/88.. Train loss: 112.714.. Val loss: 56.899.. Train L1 norm: 1.610.. Val L1 norm: 1.218.. Train Linf norm: 20.411.. Val Linf norm: 8.418\n",
            "Epoch 32/88.. Train loss: 164.369.. Val loss: 56.886.. Train L1 norm: 1.416.. Val L1 norm: 1.220.. Train Linf norm: 14.477.. Val Linf norm: 8.488\n",
            "Epoch 33/88.. Train loss: 110.366.. Val loss: 56.874.. Train L1 norm: 1.290.. Val L1 norm: 1.222.. Train Linf norm: 10.618.. Val Linf norm: 8.552\n",
            "Epoch 34/88.. Train loss: 62.185.. Val loss: 56.861.. Train L1 norm: 1.260.. Val L1 norm: 1.224.. Train Linf norm: 9.628.. Val Linf norm: 8.625\n",
            "Epoch 35/88.. Train loss: 87.627.. Val loss: 56.849.. Train L1 norm: 1.271.. Val L1 norm: 1.227.. Train Linf norm: 9.964.. Val Linf norm: 8.692\n",
            "Epoch 36/88.. Train loss: 60.910.. Val loss: 56.836.. Train L1 norm: 1.306.. Val L1 norm: 1.229.. Train Linf norm: 10.875.. Val Linf norm: 8.764\n",
            "Epoch 37/88.. Train loss: 61.137.. Val loss: 56.830.. Train L1 norm: 1.320.. Val L1 norm: 1.230.. Train Linf norm: 11.282.. Val Linf norm: 8.796\n",
            "Epoch 38/88.. Train loss: 93.390.. Val loss: 56.824.. Train L1 norm: 1.512.. Val L1 norm: 1.231.. Train Linf norm: 17.311.. Val Linf norm: 8.828\n",
            "Epoch 39/88.. Train loss: 7038.331.. Val loss: 56.820.. Train L1 norm: 1.415.. Val L1 norm: 1.232.. Train Linf norm: 14.197.. Val Linf norm: 8.848\n",
            "Epoch 40/88.. Train loss: 4634.458.. Val loss: 56.819.. Train L1 norm: 1.465.. Val L1 norm: 1.232.. Train Linf norm: 16.035.. Val Linf norm: 8.856\n",
            "Epoch 41/88.. Train loss: 62.234.. Val loss: 56.816.. Train L1 norm: 1.383.. Val L1 norm: 1.232.. Train Linf norm: 13.387.. Val Linf norm: 8.869\n",
            "Epoch 42/88.. Train loss: 66.634.. Val loss: 56.814.. Train L1 norm: 1.351.. Val L1 norm: 1.233.. Train Linf norm: 12.418.. Val Linf norm: 8.881\n",
            "Epoch 43/88.. Train loss: 65.223.. Val loss: 56.810.. Train L1 norm: 1.389.. Val L1 norm: 1.233.. Train Linf norm: 13.443.. Val Linf norm: 8.898\n",
            "Epoch 44/88.. Train loss: 65.473.. Val loss: 56.806.. Train L1 norm: 1.363.. Val L1 norm: 1.234.. Train Linf norm: 12.592.. Val Linf norm: 8.922\n",
            "Epoch 45/88.. Train loss: 1109.312.. Val loss: 56.801.. Train L1 norm: 1.336.. Val L1 norm: 1.235.. Train Linf norm: 11.800.. Val Linf norm: 8.946\n",
            "Epoch 46/88.. Train loss: 60.547.. Val loss: 56.800.. Train L1 norm: 1.400.. Val L1 norm: 1.235.. Train Linf norm: 13.724.. Val Linf norm: 8.954\n",
            "Epoch 47/88.. Train loss: 63.634.. Val loss: 56.798.. Train L1 norm: 1.470.. Val L1 norm: 1.235.. Train Linf norm: 16.058.. Val Linf norm: 8.964\n",
            "Epoch 48/88.. Train loss: 60.796.. Val loss: 56.796.. Train L1 norm: 1.503.. Val L1 norm: 1.236.. Train Linf norm: 16.960.. Val Linf norm: 8.975\n",
            "Epoch 49/88.. Train loss: 91.557.. Val loss: 56.793.. Train L1 norm: 1.390.. Val L1 norm: 1.236.. Train Linf norm: 13.477.. Val Linf norm: 8.987\n",
            "Epoch 50/88.. Train loss: 758.053.. Val loss: 56.791.. Train L1 norm: 1.447.. Val L1 norm: 1.237.. Train Linf norm: 15.306.. Val Linf norm: 9.000\n",
            "Epoch 51/88.. Train loss: 63.345.. Val loss: 56.789.. Train L1 norm: 1.348.. Val L1 norm: 1.237.. Train Linf norm: 11.994.. Val Linf norm: 9.009\n",
            "Epoch 52/88.. Train loss: 325.755.. Val loss: 56.787.. Train L1 norm: 1.399.. Val L1 norm: 1.237.. Train Linf norm: 13.751.. Val Linf norm: 9.021\n",
            "Epoch 53/88.. Train loss: 85.757.. Val loss: 56.785.. Train L1 norm: 1.425.. Val L1 norm: 1.238.. Train Linf norm: 14.669.. Val Linf norm: 9.033\n",
            "Epoch 54/88.. Train loss: 90.231.. Val loss: 56.783.. Train L1 norm: 1.342.. Val L1 norm: 1.238.. Train Linf norm: 11.892.. Val Linf norm: 9.044\n",
            "Epoch 55/88.. Train loss: 60.929.. Val loss: 56.782.. Train L1 norm: 1.382.. Val L1 norm: 1.238.. Train Linf norm: 13.125.. Val Linf norm: 9.049\n",
            "Epoch 56/88.. Train loss: 61.861.. Val loss: 56.781.. Train L1 norm: 1.423.. Val L1 norm: 1.238.. Train Linf norm: 14.422.. Val Linf norm: 9.055\n",
            "Epoch 57/88.. Train loss: 61.407.. Val loss: 56.780.. Train L1 norm: 1.400.. Val L1 norm: 1.238.. Train Linf norm: 13.861.. Val Linf norm: 9.060\n",
            "Epoch 58/88.. Train loss: 60.977.. Val loss: 56.779.. Train L1 norm: 1.323.. Val L1 norm: 1.239.. Train Linf norm: 11.399.. Val Linf norm: 9.065\n",
            "Epoch 59/88.. Train loss: 668.347.. Val loss: 56.778.. Train L1 norm: 1.374.. Val L1 norm: 1.239.. Train Linf norm: 12.804.. Val Linf norm: 9.070\n",
            "Epoch 60/88.. Train loss: 60.968.. Val loss: 56.777.. Train L1 norm: 1.423.. Val L1 norm: 1.239.. Train Linf norm: 14.382.. Val Linf norm: 9.075\n",
            "Epoch 61/88.. Train loss: 188.468.. Val loss: 56.776.. Train L1 norm: 1.404.. Val L1 norm: 1.239.. Train Linf norm: 13.762.. Val Linf norm: 9.080\n",
            "Epoch 62/88.. Train loss: 69.780.. Val loss: 56.775.. Train L1 norm: 1.395.. Val L1 norm: 1.239.. Train Linf norm: 13.562.. Val Linf norm: 9.085\n",
            "Epoch 63/88.. Train loss: 62.601.. Val loss: 56.774.. Train L1 norm: 1.331.. Val L1 norm: 1.240.. Train Linf norm: 11.528.. Val Linf norm: 9.091\n",
            "Epoch 64/88.. Train loss: 3618.313.. Val loss: 56.774.. Train L1 norm: 1.403.. Val L1 norm: 1.240.. Train Linf norm: 13.790.. Val Linf norm: 9.093\n",
            "Epoch 65/88.. Train loss: 68.460.. Val loss: 56.773.. Train L1 norm: 1.485.. Val L1 norm: 1.240.. Train Linf norm: 16.386.. Val Linf norm: 9.094\n",
            "Epoch 66/88.. Train loss: 62.007.. Val loss: 56.773.. Train L1 norm: 1.343.. Val L1 norm: 1.240.. Train Linf norm: 11.894.. Val Linf norm: 9.095\n",
            "Epoch 67/88.. Train loss: 80.372.. Val loss: 56.773.. Train L1 norm: 1.376.. Val L1 norm: 1.240.. Train Linf norm: 13.014.. Val Linf norm: 9.097\n",
            "Epoch 68/88.. Train loss: 60.485.. Val loss: 56.773.. Train L1 norm: 1.414.. Val L1 norm: 1.240.. Train Linf norm: 14.128.. Val Linf norm: 9.098\n",
            "Epoch 69/88.. Train loss: 120.102.. Val loss: 56.772.. Train L1 norm: 1.445.. Val L1 norm: 1.240.. Train Linf norm: 14.992.. Val Linf norm: 9.100\n",
            "Epoch 70/88.. Train loss: 61.278.. Val loss: 56.772.. Train L1 norm: 1.374.. Val L1 norm: 1.240.. Train Linf norm: 12.808.. Val Linf norm: 9.103\n",
            "Epoch 71/88.. Train loss: 60.834.. Val loss: 56.771.. Train L1 norm: 1.368.. Val L1 norm: 1.240.. Train Linf norm: 12.625.. Val Linf norm: 9.106\n",
            "Epoch 72/88.. Train loss: 64.911.. Val loss: 56.771.. Train L1 norm: 1.481.. Val L1 norm: 1.240.. Train Linf norm: 16.271.. Val Linf norm: 9.109\n",
            "Epoch 73/88.. Train loss: 68.184.. Val loss: 56.770.. Train L1 norm: 1.416.. Val L1 norm: 1.240.. Train Linf norm: 14.155.. Val Linf norm: 9.110\n",
            "Epoch 74/88.. Train loss: 60.320.. Val loss: 56.770.. Train L1 norm: 1.428.. Val L1 norm: 1.240.. Train Linf norm: 14.475.. Val Linf norm: 9.111\n",
            "Epoch 75/88.. Train loss: 190.782.. Val loss: 56.770.. Train L1 norm: 1.398.. Val L1 norm: 1.240.. Train Linf norm: 13.520.. Val Linf norm: 9.113\n",
            "Epoch 76/88.. Train loss: 550.544.. Val loss: 56.770.. Train L1 norm: 1.497.. Val L1 norm: 1.240.. Train Linf norm: 16.654.. Val Linf norm: 9.114\n",
            "Epoch 77/88.. Train loss: 69.923.. Val loss: 56.769.. Train L1 norm: 1.603.. Val L1 norm: 1.240.. Train Linf norm: 20.103.. Val Linf norm: 9.115\n",
            "Epoch 78/88.. Train loss: 60.825.. Val loss: 56.769.. Train L1 norm: 1.418.. Val L1 norm: 1.240.. Train Linf norm: 14.050.. Val Linf norm: 9.116\n",
            "Epoch 79/88.. Train loss: 60.486.. Val loss: 56.769.. Train L1 norm: 1.636.. Val L1 norm: 1.240.. Train Linf norm: 21.139.. Val Linf norm: 9.118\n",
            "Epoch 80/88.. Train loss: 60.775.. Val loss: 56.769.. Train L1 norm: 1.479.. Val L1 norm: 1.240.. Train Linf norm: 16.093.. Val Linf norm: 9.119\n",
            "Epoch 81/88.. Train loss: 68.073.. Val loss: 56.769.. Train L1 norm: 1.482.. Val L1 norm: 1.240.. Train Linf norm: 16.035.. Val Linf norm: 9.120\n",
            "Epoch 82/88.. Train loss: 60.892.. Val loss: 56.769.. Train L1 norm: 1.385.. Val L1 norm: 1.240.. Train Linf norm: 13.158.. Val Linf norm: 9.120\n",
            "Epoch 83/88.. Train loss: 554.240.. Val loss: 56.769.. Train L1 norm: 1.443.. Val L1 norm: 1.240.. Train Linf norm: 15.040.. Val Linf norm: 9.120\n",
            "Epoch 84/88.. Train loss: 60.531.. Val loss: 56.769.. Train L1 norm: 1.618.. Val L1 norm: 1.240.. Train Linf norm: 20.611.. Val Linf norm: 9.120\n",
            "Epoch 85/88.. Train loss: 408.714.. Val loss: 56.769.. Train L1 norm: 1.484.. Val L1 norm: 1.240.. Train Linf norm: 16.423.. Val Linf norm: 9.120\n",
            "Epoch 86/88.. Train loss: 60.645.. Val loss: 56.769.. Train L1 norm: 1.477.. Val L1 norm: 1.240.. Train Linf norm: 15.901.. Val Linf norm: 9.120\n",
            "Epoch 87/88.. Train loss: 60.294.. Val loss: 56.769.. Train L1 norm: 1.439.. Val L1 norm: 1.240.. Train Linf norm: 14.819.. Val Linf norm: 9.120\n"
          ]
        },
        {
          "output_type": "stream",
          "name": "stderr",
          "text": [
            "[I 2023-05-30 10:35:30,838] Trial 1 finished with value: 1.2404640170415242 and parameters: {'n_layers': 9, 'n_units_0': 4012, 'n_units_1': 3845, 'n_units_2': 3384, 'n_units_3': 185, 'n_units_4': 2718, 'n_units_5': 3174, 'n_units_6': 2163, 'n_units_7': 2271, 'n_units_8': 54, 'hidden_activation': 'ReLU', 'output_activation': 'Linear', 'loss': 'MSE', 'optimizer': 'Adam', 'lr': 1.2552003558227754e-05, 'batch_size': 32, 'n_epochs': 88, 'scheduler': 'StepLR', 'dropout_rate': 0.4511093157849556, 'weight_decay': 0.004794833745509326, 'beta1': 0.9163321273737823, 'beta2': 0.9997988076391202, 'step_size': 9, 'gamma': 0.4207527245666812}. Best is trial 1 with value: 1.2404640170415242.\n"
          ]
        },
        {
          "output_type": "stream",
          "name": "stdout",
          "text": [
            "Epoch 88/88.. Train loss: 60.638.. Val loss: 56.769.. Train L1 norm: 1.491.. Val L1 norm: 1.240.. Train Linf norm: 16.580.. Val Linf norm: 9.120\n"
          ]
        },
        {
          "output_type": "stream",
          "name": "stderr",
          "text": [
            "<ipython-input-37-5ce9a06c2c29>:73: FutureWarning: suggest_uniform has been deprecated in v3.0.0. This feature will be removed in v6.0.0. See https://github.com/optuna/optuna/releases/tag/v3.0.0. Use suggest_float instead.\n",
            "  beta = trial.suggest_uniform(\"softplus_beta\", 0.5, 1.5)\n",
            "<ipython-input-37-5ce9a06c2c29>:145: FutureWarning: suggest_loguniform has been deprecated in v3.0.0. This feature will be removed in v6.0.0. See https://github.com/optuna/optuna/releases/tag/v3.0.0. Use suggest_float(..., log=True) instead.\n",
            "  weight_decay = trial.suggest_loguniform(\"weight_decay\", 1e-5, 1e-2)\n",
            "<ipython-input-37-5ce9a06c2c29>:146: FutureWarning: suggest_uniform has been deprecated in v3.0.0. This feature will be removed in v6.0.0. See https://github.com/optuna/optuna/releases/tag/v3.0.0. Use suggest_float instead.\n",
            "  momentum = trial.suggest_uniform(\"momentum\", 0.0, 0.99)\n"
          ]
        },
        {
          "output_type": "stream",
          "name": "stdout",
          "text": [
            "Epoch 1/134.. Train loss: 16.060.. Val loss: 2.861.. Train L1 norm: 31.487.. Val L1 norm: 7.523.. Train Linf norm: 653.704.. Val Linf norm: 170.650\n",
            "Epoch 2/134.. Train loss: 8.800.. Val loss: 2.304.. Train L1 norm: 10.339.. Val L1 norm: 5.216.. Train Linf norm: 205.531.. Val Linf norm: 117.054\n",
            "Epoch 3/134.. Train loss: 7.211.. Val loss: 4.220.. Train L1 norm: 5.561.. Val L1 norm: 13.899.. Train Linf norm: 117.187.. Val Linf norm: 320.323\n",
            "Epoch 4/134.. Train loss: 3.757.. Val loss: 2.179.. Train L1 norm: 4.768.. Val L1 norm: 4.865.. Train Linf norm: 93.322.. Val Linf norm: 109.987\n",
            "Epoch 5/134.. Train loss: 3.844.. Val loss: 2.684.. Train L1 norm: 4.074.. Val L1 norm: 2.461.. Train Linf norm: 78.435.. Val Linf norm: 43.701\n",
            "Epoch 6/134.. Train loss: 2.973.. Val loss: 2.441.. Train L1 norm: 4.554.. Val L1 norm: 7.662.. Train Linf norm: 88.146.. Val Linf norm: 177.913\n",
            "Epoch 7/134.. Train loss: 3.210.. Val loss: 2.194.. Train L1 norm: 4.543.. Val L1 norm: 4.590.. Train Linf norm: 85.427.. Val Linf norm: 100.697\n",
            "Epoch 8/134.. Train loss: 2.960.. Val loss: 2.155.. Train L1 norm: 3.790.. Val L1 norm: 5.505.. Train Linf norm: 70.657.. Val Linf norm: 128.460\n",
            "Epoch 9/134.. Train loss: 2.820.. Val loss: 2.131.. Train L1 norm: 4.219.. Val L1 norm: 4.803.. Train Linf norm: 81.024.. Val Linf norm: 109.300\n",
            "Epoch 10/134.. Train loss: 2.823.. Val loss: 2.571.. Train L1 norm: 3.843.. Val L1 norm: 2.901.. Train Linf norm: 74.129.. Val Linf norm: 55.213\n",
            "Epoch 11/134.. Train loss: 2.602.. Val loss: 2.570.. Train L1 norm: 3.811.. Val L1 norm: 3.372.. Train Linf norm: 73.891.. Val Linf norm: 69.315\n",
            "Epoch 12/134.. Train loss: 2.762.. Val loss: 2.145.. Train L1 norm: 3.662.. Val L1 norm: 5.022.. Train Linf norm: 70.033.. Val Linf norm: 114.583\n",
            "Epoch 13/134.. Train loss: 2.747.. Val loss: 2.129.. Train L1 norm: 3.459.. Val L1 norm: 4.955.. Train Linf norm: 65.757.. Val Linf norm: 113.067\n",
            "Epoch 14/134.. Train loss: 2.653.. Val loss: 2.152.. Train L1 norm: 3.441.. Val L1 norm: 4.311.. Train Linf norm: 66.040.. Val Linf norm: 96.059\n",
            "Epoch 15/134.. Train loss: 2.542.. Val loss: 2.147.. Train L1 norm: 3.971.. Val L1 norm: 5.228.. Train Linf norm: 77.039.. Val Linf norm: 117.894\n",
            "Epoch 16/134.. Train loss: 2.742.. Val loss: 2.201.. Train L1 norm: 3.284.. Val L1 norm: 4.112.. Train Linf norm: 62.220.. Val Linf norm: 91.001\n",
            "Epoch 17/134.. Train loss: 2.364.. Val loss: 2.104.. Train L1 norm: 3.446.. Val L1 norm: 5.231.. Train Linf norm: 66.681.. Val Linf norm: 119.943\n",
            "Epoch 18/134.. Train loss: 2.265.. Val loss: 2.134.. Train L1 norm: 3.765.. Val L1 norm: 6.377.. Train Linf norm: 74.577.. Val Linf norm: 147.284\n",
            "Epoch 19/134.. Train loss: 2.420.. Val loss: 2.128.. Train L1 norm: 3.285.. Val L1 norm: 4.984.. Train Linf norm: 62.549.. Val Linf norm: 114.237\n",
            "Epoch 20/134.. Train loss: 2.255.. Val loss: 2.243.. Train L1 norm: 3.354.. Val L1 norm: 3.983.. Train Linf norm: 63.754.. Val Linf norm: 87.694\n",
            "Epoch 21/134.. Train loss: 2.200.. Val loss: 2.092.. Train L1 norm: 3.585.. Val L1 norm: 5.680.. Train Linf norm: 68.207.. Val Linf norm: 131.783\n",
            "Epoch 22/134.. Train loss: 2.349.. Val loss: 2.134.. Train L1 norm: 3.373.. Val L1 norm: 4.658.. Train Linf norm: 63.616.. Val Linf norm: 105.446\n",
            "Epoch 23/134.. Train loss: 2.241.. Val loss: 2.125.. Train L1 norm: 3.397.. Val L1 norm: 4.540.. Train Linf norm: 64.913.. Val Linf norm: 102.179\n",
            "Epoch 24/134.. Train loss: 2.287.. Val loss: 2.145.. Train L1 norm: 3.397.. Val L1 norm: 4.430.. Train Linf norm: 63.818.. Val Linf norm: 99.461\n",
            "Epoch 25/134.. Train loss: 2.249.. Val loss: 2.180.. Train L1 norm: 3.287.. Val L1 norm: 4.590.. Train Linf norm: 62.229.. Val Linf norm: 103.473\n",
            "Epoch 26/134.. Train loss: 2.355.. Val loss: 2.101.. Train L1 norm: 3.738.. Val L1 norm: 4.911.. Train Linf norm: 71.435.. Val Linf norm: 111.182\n",
            "Epoch 27/134.. Train loss: 2.318.. Val loss: 2.225.. Train L1 norm: 3.229.. Val L1 norm: 4.274.. Train Linf norm: 59.957.. Val Linf norm: 95.623\n",
            "Epoch 28/134.. Train loss: 2.194.. Val loss: 2.149.. Train L1 norm: 3.778.. Val L1 norm: 6.662.. Train Linf norm: 72.530.. Val Linf norm: 154.569\n",
            "Epoch 29/134.. Train loss: 2.378.. Val loss: 2.440.. Train L1 norm: 3.384.. Val L1 norm: 2.937.. Train Linf norm: 62.580.. Val Linf norm: 59.105\n",
            "Epoch 30/134.. Train loss: 2.256.. Val loss: 2.077.. Train L1 norm: 3.482.. Val L1 norm: 5.464.. Train Linf norm: 65.938.. Val Linf norm: 125.412\n",
            "Epoch 31/134.. Train loss: 2.308.. Val loss: 2.133.. Train L1 norm: 3.251.. Val L1 norm: 5.198.. Train Linf norm: 60.353.. Val Linf norm: 119.770\n",
            "Epoch 32/134.. Train loss: 2.439.. Val loss: 2.106.. Train L1 norm: 3.993.. Val L1 norm: 4.820.. Train Linf norm: 78.343.. Val Linf norm: 109.459\n",
            "Epoch 33/134.. Train loss: 2.342.. Val loss: 2.113.. Train L1 norm: 3.411.. Val L1 norm: 5.384.. Train Linf norm: 66.265.. Val Linf norm: 125.312\n",
            "Epoch 34/134.. Train loss: 2.304.. Val loss: 2.104.. Train L1 norm: 3.775.. Val L1 norm: 4.827.. Train Linf norm: 74.160.. Val Linf norm: 110.008\n",
            "Epoch 35/134.. Train loss: 2.267.. Val loss: 2.168.. Train L1 norm: 3.380.. Val L1 norm: 4.673.. Train Linf norm: 64.940.. Val Linf norm: 106.760\n",
            "Epoch 36/134.. Train loss: 2.346.. Val loss: 2.130.. Train L1 norm: 3.724.. Val L1 norm: 4.465.. Train Linf norm: 70.928.. Val Linf norm: 100.147\n",
            "Epoch 37/134.. Train loss: 2.444.. Val loss: 2.179.. Train L1 norm: 3.324.. Val L1 norm: 4.480.. Train Linf norm: 63.931.. Val Linf norm: 101.025\n",
            "Epoch 38/134.. Train loss: 2.247.. Val loss: 2.464.. Train L1 norm: 3.556.. Val L1 norm: 9.469.. Train Linf norm: 67.473.. Val Linf norm: 222.304\n",
            "Epoch 39/134.. Train loss: 2.565.. Val loss: 2.107.. Train L1 norm: 3.460.. Val L1 norm: 5.142.. Train Linf norm: 65.587.. Val Linf norm: 118.393\n",
            "Epoch 40/134.. Train loss: 2.210.. Val loss: 2.095.. Train L1 norm: 3.464.. Val L1 norm: 5.415.. Train Linf norm: 65.317.. Val Linf norm: 125.689\n",
            "Epoch 41/134.. Train loss: 2.213.. Val loss: 2.108.. Train L1 norm: 3.666.. Val L1 norm: 5.057.. Train Linf norm: 70.907.. Val Linf norm: 116.427\n",
            "Epoch 42/134.. Train loss: 2.194.. Val loss: 2.117.. Train L1 norm: 3.473.. Val L1 norm: 4.934.. Train Linf norm: 66.478.. Val Linf norm: 113.115\n",
            "Epoch 43/134.. Train loss: 2.158.. Val loss: 2.123.. Train L1 norm: 3.406.. Val L1 norm: 4.822.. Train Linf norm: 64.888.. Val Linf norm: 110.163\n",
            "Epoch 44/134.. Train loss: 2.139.. Val loss: 2.126.. Train L1 norm: 3.430.. Val L1 norm: 4.822.. Train Linf norm: 65.726.. Val Linf norm: 110.084\n",
            "Epoch 45/134.. Train loss: 2.134.. Val loss: 2.127.. Train L1 norm: 3.395.. Val L1 norm: 4.849.. Train Linf norm: 64.991.. Val Linf norm: 110.821\n",
            "Epoch 46/134.. Train loss: 2.136.. Val loss: 2.119.. Train L1 norm: 3.469.. Val L1 norm: 4.930.. Train Linf norm: 66.195.. Val Linf norm: 112.882\n",
            "Epoch 47/134.. Train loss: 2.135.. Val loss: 2.110.. Train L1 norm: 3.564.. Val L1 norm: 5.038.. Train Linf norm: 69.144.. Val Linf norm: 115.595\n",
            "Epoch 48/134.. Train loss: 2.150.. Val loss: 2.118.. Train L1 norm: 3.529.. Val L1 norm: 4.958.. Train Linf norm: 66.925.. Val Linf norm: 113.583\n",
            "Epoch 49/134.. Train loss: 2.139.. Val loss: 2.123.. Train L1 norm: 3.482.. Val L1 norm: 4.952.. Train Linf norm: 66.270.. Val Linf norm: 113.481\n",
            "Epoch 50/134.. Train loss: 2.136.. Val loss: 2.122.. Train L1 norm: 3.470.. Val L1 norm: 4.921.. Train Linf norm: 66.549.. Val Linf norm: 112.633\n",
            "Epoch 51/134.. Train loss: 2.136.. Val loss: 2.120.. Train L1 norm: 3.510.. Val L1 norm: 4.943.. Train Linf norm: 67.681.. Val Linf norm: 113.212\n",
            "Epoch 52/134.. Train loss: 2.126.. Val loss: 2.119.. Train L1 norm: 3.501.. Val L1 norm: 4.963.. Train Linf norm: 66.882.. Val Linf norm: 113.728\n",
            "Epoch 53/134.. Train loss: 2.118.. Val loss: 2.119.. Train L1 norm: 3.534.. Val L1 norm: 4.966.. Train Linf norm: 67.782.. Val Linf norm: 113.801\n",
            "Epoch 54/134.. Train loss: 2.135.. Val loss: 2.118.. Train L1 norm: 3.508.. Val L1 norm: 4.974.. Train Linf norm: 67.022.. Val Linf norm: 114.006\n",
            "Epoch 55/134.. Train loss: 2.135.. Val loss: 2.119.. Train L1 norm: 3.510.. Val L1 norm: 4.965.. Train Linf norm: 67.456.. Val Linf norm: 113.804\n",
            "Epoch 56/134.. Train loss: 2.135.. Val loss: 2.117.. Train L1 norm: 3.536.. Val L1 norm: 4.986.. Train Linf norm: 67.729.. Val Linf norm: 114.339\n",
            "Epoch 57/134.. Train loss: 2.135.. Val loss: 2.118.. Train L1 norm: 3.524.. Val L1 norm: 4.973.. Train Linf norm: 67.007.. Val Linf norm: 114.001\n",
            "Epoch 58/134.. Train loss: 2.153.. Val loss: 2.118.. Train L1 norm: 3.538.. Val L1 norm: 4.972.. Train Linf norm: 68.081.. Val Linf norm: 113.971\n",
            "Epoch 59/134.. Train loss: 2.125.. Val loss: 2.119.. Train L1 norm: 3.506.. Val L1 norm: 4.962.. Train Linf norm: 66.777.. Val Linf norm: 113.723\n",
            "Epoch 60/134.. Train loss: 2.115.. Val loss: 2.119.. Train L1 norm: 3.536.. Val L1 norm: 4.967.. Train Linf norm: 68.220.. Val Linf norm: 113.850\n",
            "Epoch 61/134.. Train loss: 2.154.. Val loss: 2.119.. Train L1 norm: 3.499.. Val L1 norm: 4.964.. Train Linf norm: 67.347.. Val Linf norm: 113.779\n",
            "Epoch 62/134.. Train loss: 2.129.. Val loss: 2.119.. Train L1 norm: 3.500.. Val L1 norm: 4.965.. Train Linf norm: 67.002.. Val Linf norm: 113.782\n",
            "Epoch 63/134.. Train loss: 2.135.. Val loss: 2.119.. Train L1 norm: 3.503.. Val L1 norm: 4.963.. Train Linf norm: 67.246.. Val Linf norm: 113.736\n",
            "Epoch 64/134.. Train loss: 2.139.. Val loss: 2.119.. Train L1 norm: 3.526.. Val L1 norm: 4.962.. Train Linf norm: 67.473.. Val Linf norm: 113.707\n",
            "Epoch 65/134.. Train loss: 2.139.. Val loss: 2.119.. Train L1 norm: 3.546.. Val L1 norm: 4.962.. Train Linf norm: 68.141.. Val Linf norm: 113.712\n",
            "Epoch 66/134.. Train loss: 2.134.. Val loss: 2.119.. Train L1 norm: 3.522.. Val L1 norm: 4.963.. Train Linf norm: 66.759.. Val Linf norm: 113.735\n",
            "Epoch 67/134.. Train loss: 2.136.. Val loss: 2.119.. Train L1 norm: 3.506.. Val L1 norm: 4.961.. Train Linf norm: 66.459.. Val Linf norm: 113.691\n",
            "Epoch 68/134.. Train loss: 2.123.. Val loss: 2.119.. Train L1 norm: 3.560.. Val L1 norm: 4.962.. Train Linf norm: 68.619.. Val Linf norm: 113.710\n",
            "Epoch 69/134.. Train loss: 2.130.. Val loss: 2.119.. Train L1 norm: 3.537.. Val L1 norm: 4.962.. Train Linf norm: 67.922.. Val Linf norm: 113.714\n",
            "Epoch 70/134.. Train loss: 2.127.. Val loss: 2.119.. Train L1 norm: 3.507.. Val L1 norm: 4.963.. Train Linf norm: 67.787.. Val Linf norm: 113.741\n",
            "Epoch 71/134.. Train loss: 2.128.. Val loss: 2.119.. Train L1 norm: 3.492.. Val L1 norm: 4.963.. Train Linf norm: 65.730.. Val Linf norm: 113.731\n",
            "Epoch 72/134.. Train loss: 2.149.. Val loss: 2.119.. Train L1 norm: 3.548.. Val L1 norm: 4.962.. Train Linf norm: 67.268.. Val Linf norm: 113.727\n",
            "Epoch 73/134.. Train loss: 2.132.. Val loss: 2.119.. Train L1 norm: 3.521.. Val L1 norm: 4.962.. Train Linf norm: 67.572.. Val Linf norm: 113.723\n",
            "Epoch 74/134.. Train loss: 2.134.. Val loss: 2.119.. Train L1 norm: 3.502.. Val L1 norm: 4.962.. Train Linf norm: 66.929.. Val Linf norm: 113.722\n",
            "Epoch 75/134.. Train loss: 2.123.. Val loss: 2.119.. Train L1 norm: 3.495.. Val L1 norm: 4.962.. Train Linf norm: 67.134.. Val Linf norm: 113.719\n",
            "Epoch 76/134.. Train loss: 2.160.. Val loss: 2.119.. Train L1 norm: 3.532.. Val L1 norm: 4.962.. Train Linf norm: 68.655.. Val Linf norm: 113.708\n",
            "Epoch 77/134.. Train loss: 2.122.. Val loss: 2.119.. Train L1 norm: 3.512.. Val L1 norm: 4.961.. Train Linf norm: 67.403.. Val Linf norm: 113.701\n",
            "Epoch 78/134.. Train loss: 2.129.. Val loss: 2.119.. Train L1 norm: 3.514.. Val L1 norm: 4.961.. Train Linf norm: 67.361.. Val Linf norm: 113.694\n",
            "Epoch 79/134.. Train loss: 2.138.. Val loss: 2.119.. Train L1 norm: 3.489.. Val L1 norm: 4.961.. Train Linf norm: 66.364.. Val Linf norm: 113.686\n",
            "Epoch 80/134.. Train loss: 2.144.. Val loss: 2.119.. Train L1 norm: 3.496.. Val L1 norm: 4.960.. Train Linf norm: 66.843.. Val Linf norm: 113.675\n",
            "Epoch 81/134.. Train loss: 2.120.. Val loss: 2.119.. Train L1 norm: 3.503.. Val L1 norm: 4.960.. Train Linf norm: 66.471.. Val Linf norm: 113.674\n",
            "Epoch 82/134.. Train loss: 2.131.. Val loss: 2.119.. Train L1 norm: 3.508.. Val L1 norm: 4.960.. Train Linf norm: 66.392.. Val Linf norm: 113.667\n",
            "Epoch 83/134.. Train loss: 2.119.. Val loss: 2.119.. Train L1 norm: 3.492.. Val L1 norm: 4.960.. Train Linf norm: 66.763.. Val Linf norm: 113.666\n",
            "Epoch 84/134.. Train loss: 2.123.. Val loss: 2.119.. Train L1 norm: 3.510.. Val L1 norm: 4.960.. Train Linf norm: 67.211.. Val Linf norm: 113.664\n",
            "Epoch 85/134.. Train loss: 2.121.. Val loss: 2.119.. Train L1 norm: 3.475.. Val L1 norm: 4.960.. Train Linf norm: 65.589.. Val Linf norm: 113.663\n",
            "Epoch 86/134.. Train loss: 2.156.. Val loss: 2.119.. Train L1 norm: 3.502.. Val L1 norm: 4.960.. Train Linf norm: 67.042.. Val Linf norm: 113.652\n",
            "Epoch 87/134.. Train loss: 2.145.. Val loss: 2.119.. Train L1 norm: 3.520.. Val L1 norm: 4.959.. Train Linf norm: 67.483.. Val Linf norm: 113.645\n",
            "Epoch 88/134.. Train loss: 2.133.. Val loss: 2.119.. Train L1 norm: 3.475.. Val L1 norm: 4.959.. Train Linf norm: 66.275.. Val Linf norm: 113.641\n",
            "Epoch 89/134.. Train loss: 2.125.. Val loss: 2.119.. Train L1 norm: 3.505.. Val L1 norm: 4.959.. Train Linf norm: 66.725.. Val Linf norm: 113.634\n",
            "Epoch 90/134.. Train loss: 2.141.. Val loss: 2.119.. Train L1 norm: 3.455.. Val L1 norm: 4.959.. Train Linf norm: 66.102.. Val Linf norm: 113.631\n",
            "Epoch 91/134.. Train loss: 2.123.. Val loss: 2.119.. Train L1 norm: 3.486.. Val L1 norm: 4.959.. Train Linf norm: 66.550.. Val Linf norm: 113.629\n",
            "Epoch 92/134.. Train loss: 2.129.. Val loss: 2.119.. Train L1 norm: 3.455.. Val L1 norm: 4.959.. Train Linf norm: 65.727.. Val Linf norm: 113.626\n",
            "Epoch 93/134.. Train loss: 2.137.. Val loss: 2.119.. Train L1 norm: 3.483.. Val L1 norm: 4.958.. Train Linf norm: 65.773.. Val Linf norm: 113.623\n",
            "Epoch 94/134.. Train loss: 2.139.. Val loss: 2.119.. Train L1 norm: 3.446.. Val L1 norm: 4.958.. Train Linf norm: 65.023.. Val Linf norm: 113.614\n",
            "Epoch 95/134.. Train loss: 2.124.. Val loss: 2.119.. Train L1 norm: 3.471.. Val L1 norm: 4.958.. Train Linf norm: 65.987.. Val Linf norm: 113.613\n",
            "Epoch 96/134.. Train loss: 2.132.. Val loss: 2.119.. Train L1 norm: 3.484.. Val L1 norm: 4.958.. Train Linf norm: 66.266.. Val Linf norm: 113.612\n",
            "Epoch 97/134.. Train loss: 2.129.. Val loss: 2.119.. Train L1 norm: 3.485.. Val L1 norm: 4.958.. Train Linf norm: 67.042.. Val Linf norm: 113.609\n",
            "Epoch 98/134.. Train loss: 2.120.. Val loss: 2.119.. Train L1 norm: 3.506.. Val L1 norm: 4.958.. Train Linf norm: 67.817.. Val Linf norm: 113.601\n",
            "Epoch 99/134.. Train loss: 2.135.. Val loss: 2.119.. Train L1 norm: 3.489.. Val L1 norm: 4.957.. Train Linf norm: 66.374.. Val Linf norm: 113.597\n",
            "Epoch 100/134.. Train loss: 2.143.. Val loss: 2.119.. Train L1 norm: 3.483.. Val L1 norm: 4.957.. Train Linf norm: 66.050.. Val Linf norm: 113.592\n",
            "Epoch 101/134.. Train loss: 2.113.. Val loss: 2.120.. Train L1 norm: 3.462.. Val L1 norm: 4.957.. Train Linf norm: 65.073.. Val Linf norm: 113.584\n",
            "Epoch 102/134.. Train loss: 2.136.. Val loss: 2.120.. Train L1 norm: 3.465.. Val L1 norm: 4.957.. Train Linf norm: 66.301.. Val Linf norm: 113.579\n",
            "Epoch 103/134.. Train loss: 2.123.. Val loss: 2.120.. Train L1 norm: 3.536.. Val L1 norm: 4.957.. Train Linf norm: 68.715.. Val Linf norm: 113.577\n",
            "Epoch 104/134.. Train loss: 2.136.. Val loss: 2.120.. Train L1 norm: 3.541.. Val L1 norm: 4.956.. Train Linf norm: 68.614.. Val Linf norm: 113.567\n",
            "Epoch 105/134.. Train loss: 2.140.. Val loss: 2.120.. Train L1 norm: 3.512.. Val L1 norm: 4.956.. Train Linf norm: 67.439.. Val Linf norm: 113.562\n",
            "Epoch 106/134.. Train loss: 2.134.. Val loss: 2.120.. Train L1 norm: 3.518.. Val L1 norm: 4.956.. Train Linf norm: 67.809.. Val Linf norm: 113.553\n",
            "Epoch 107/134.. Train loss: 2.143.. Val loss: 2.120.. Train L1 norm: 3.492.. Val L1 norm: 4.955.. Train Linf norm: 66.744.. Val Linf norm: 113.543\n",
            "Epoch 108/134.. Train loss: 2.139.. Val loss: 2.120.. Train L1 norm: 3.477.. Val L1 norm: 4.955.. Train Linf norm: 65.757.. Val Linf norm: 113.539\n",
            "Epoch 109/134.. Train loss: 2.126.. Val loss: 2.120.. Train L1 norm: 3.497.. Val L1 norm: 4.955.. Train Linf norm: 67.048.. Val Linf norm: 113.532\n",
            "Epoch 110/134.. Train loss: 2.148.. Val loss: 2.120.. Train L1 norm: 3.520.. Val L1 norm: 4.954.. Train Linf norm: 66.943.. Val Linf norm: 113.523\n",
            "Epoch 111/134.. Train loss: 2.166.. Val loss: 2.120.. Train L1 norm: 3.470.. Val L1 norm: 4.954.. Train Linf norm: 65.905.. Val Linf norm: 113.511\n",
            "Epoch 112/134.. Train loss: 2.133.. Val loss: 2.120.. Train L1 norm: 3.531.. Val L1 norm: 4.954.. Train Linf norm: 67.654.. Val Linf norm: 113.504\n",
            "Epoch 113/134.. Train loss: 2.123.. Val loss: 2.120.. Train L1 norm: 3.501.. Val L1 norm: 4.953.. Train Linf norm: 67.098.. Val Linf norm: 113.494\n",
            "Epoch 114/134.. Train loss: 2.140.. Val loss: 2.120.. Train L1 norm: 3.512.. Val L1 norm: 4.953.. Train Linf norm: 67.104.. Val Linf norm: 113.486\n",
            "Epoch 115/134.. Train loss: 2.124.. Val loss: 2.120.. Train L1 norm: 3.502.. Val L1 norm: 4.953.. Train Linf norm: 67.558.. Val Linf norm: 113.486\n",
            "Epoch 116/134.. Train loss: 2.134.. Val loss: 2.120.. Train L1 norm: 3.476.. Val L1 norm: 4.953.. Train Linf norm: 66.362.. Val Linf norm: 113.481\n",
            "Epoch 117/134.. Train loss: 2.154.. Val loss: 2.120.. Train L1 norm: 3.519.. Val L1 norm: 4.952.. Train Linf norm: 67.365.. Val Linf norm: 113.469\n",
            "Epoch 118/134.. Train loss: 2.147.. Val loss: 2.120.. Train L1 norm: 3.464.. Val L1 norm: 4.952.. Train Linf norm: 66.268.. Val Linf norm: 113.464\n",
            "Epoch 119/134.. Train loss: 2.134.. Val loss: 2.120.. Train L1 norm: 3.473.. Val L1 norm: 4.952.. Train Linf norm: 66.805.. Val Linf norm: 113.458\n",
            "Epoch 120/134.. Train loss: 2.123.. Val loss: 2.120.. Train L1 norm: 3.464.. Val L1 norm: 4.952.. Train Linf norm: 65.482.. Val Linf norm: 113.454\n",
            "Epoch 121/134.. Train loss: 2.134.. Val loss: 2.120.. Train L1 norm: 3.516.. Val L1 norm: 4.952.. Train Linf norm: 67.875.. Val Linf norm: 113.454\n",
            "Epoch 122/134.. Train loss: 2.118.. Val loss: 2.120.. Train L1 norm: 3.527.. Val L1 norm: 4.951.. Train Linf norm: 67.788.. Val Linf norm: 113.446\n",
            "Epoch 123/134.. Train loss: 2.119.. Val loss: 2.120.. Train L1 norm: 3.460.. Val L1 norm: 4.951.. Train Linf norm: 65.948.. Val Linf norm: 113.444\n",
            "Epoch 124/134.. Train loss: 2.131.. Val loss: 2.120.. Train L1 norm: 3.489.. Val L1 norm: 4.951.. Train Linf norm: 66.845.. Val Linf norm: 113.441\n",
            "Epoch 125/134.. Train loss: 2.164.. Val loss: 2.120.. Train L1 norm: 3.464.. Val L1 norm: 4.951.. Train Linf norm: 66.084.. Val Linf norm: 113.429\n",
            "Epoch 126/134.. Train loss: 2.136.. Val loss: 2.120.. Train L1 norm: 3.469.. Val L1 norm: 4.951.. Train Linf norm: 65.819.. Val Linf norm: 113.421\n",
            "Epoch 127/134.. Train loss: 2.124.. Val loss: 2.120.. Train L1 norm: 3.514.. Val L1 norm: 4.950.. Train Linf norm: 67.410.. Val Linf norm: 113.417\n",
            "Epoch 128/134.. Train loss: 2.128.. Val loss: 2.120.. Train L1 norm: 3.518.. Val L1 norm: 4.950.. Train Linf norm: 67.841.. Val Linf norm: 113.414\n",
            "Epoch 129/134.. Train loss: 2.136.. Val loss: 2.120.. Train L1 norm: 3.455.. Val L1 norm: 4.950.. Train Linf norm: 65.637.. Val Linf norm: 113.404\n",
            "Epoch 130/134.. Train loss: 2.123.. Val loss: 2.120.. Train L1 norm: 3.513.. Val L1 norm: 4.950.. Train Linf norm: 67.416.. Val Linf norm: 113.403\n",
            "Epoch 131/134.. Train loss: 2.123.. Val loss: 2.120.. Train L1 norm: 3.437.. Val L1 norm: 4.950.. Train Linf norm: 64.914.. Val Linf norm: 113.402\n",
            "Epoch 132/134.. Train loss: 2.126.. Val loss: 2.120.. Train L1 norm: 3.543.. Val L1 norm: 4.949.. Train Linf norm: 68.348.. Val Linf norm: 113.395\n",
            "Epoch 133/134.. Train loss: 2.150.. Val loss: 2.120.. Train L1 norm: 3.501.. Val L1 norm: 4.949.. Train Linf norm: 67.280.. Val Linf norm: 113.384\n"
          ]
        },
        {
          "output_type": "stream",
          "name": "stderr",
          "text": [
            "[I 2023-05-30 10:47:44,089] Trial 2 finished with value: 4.948970576222738 and parameters: {'n_layers': 2, 'n_units_0': 820, 'n_units_1': 2232, 'hidden_activation': 'SoftPlus', 'output_activation': 'Linear', 'loss': 'Quantile', 'optimizer': 'SGD', 'lr': 1.3126911782783465e-05, 'batch_size': 32, 'n_epochs': 134, 'scheduler': 'ReduceLROnPlateau', 'softplus_beta': 0.7322017822801616, 'dropout_rate': 0.03272139529796758, 'weight_decay': 0.0015866843235008013, 'momentum': 0.033059960891757244, 'factor': 0.10172838279924919, 'patience': 9, 'threshold': 0.00039135590296894356}. Best is trial 1 with value: 1.2404640170415242.\n"
          ]
        },
        {
          "output_type": "stream",
          "name": "stdout",
          "text": [
            "Epoch 134/134.. Train loss: 2.133.. Val loss: 2.120.. Train L1 norm: 3.480.. Val L1 norm: 4.949.. Train Linf norm: 66.315.. Val Linf norm: 113.381\n",
            "Epoch 1/88.. Train loss: 6.035.. Val loss: 4.362.. Train L1 norm: 5.321.. Val L1 norm: 5.573.. Train Linf norm: 110.604.. Val Linf norm: 127.590\n",
            "Epoch 2/88.. Train loss: 5.220.. Val loss: 4.127.. Train L1 norm: 4.930.. Val L1 norm: 5.752.. Train Linf norm: 99.979.. Val Linf norm: 132.854\n",
            "Epoch 3/88.. Train loss: 7.128.. Val loss: 4.092.. Train L1 norm: 4.846.. Val L1 norm: 6.004.. Train Linf norm: 97.960.. Val Linf norm: 138.417\n",
            "Epoch 4/88.. Train loss: 6.359.. Val loss: 4.277.. Train L1 norm: 4.982.. Val L1 norm: 5.817.. Train Linf norm: 100.532.. Val Linf norm: 133.755\n",
            "Epoch 5/88.. Train loss: 6.023.. Val loss: 4.020.. Train L1 norm: 5.219.. Val L1 norm: 5.275.. Train Linf norm: 107.233.. Val Linf norm: 119.905\n",
            "Epoch 6/88.. Train loss: 5.412.. Val loss: 4.512.. Train L1 norm: 4.781.. Val L1 norm: 6.034.. Train Linf norm: 97.250.. Val Linf norm: 140.201\n",
            "Epoch 7/88.. Train loss: 6.540.. Val loss: 4.263.. Train L1 norm: 4.984.. Val L1 norm: 5.438.. Train Linf norm: 98.920.. Val Linf norm: 124.823\n",
            "Epoch 8/88.. Train loss: 6.659.. Val loss: 4.040.. Train L1 norm: 5.498.. Val L1 norm: 5.992.. Train Linf norm: 112.747.. Val Linf norm: 137.554\n",
            "Epoch 9/88.. Train loss: 6.579.. Val loss: 4.042.. Train L1 norm: 4.951.. Val L1 norm: 5.948.. Train Linf norm: 100.731.. Val Linf norm: 137.601\n",
            "Epoch 10/88.. Train loss: 5.585.. Val loss: 4.098.. Train L1 norm: 4.957.. Val L1 norm: 5.742.. Train Linf norm: 100.054.. Val Linf norm: 131.902\n",
            "Epoch 11/88.. Train loss: 5.072.. Val loss: 4.181.. Train L1 norm: 4.386.. Val L1 norm: 4.486.. Train Linf norm: 87.502.. Val Linf norm: 99.932\n",
            "Epoch 12/88.. Train loss: 5.399.. Val loss: 4.051.. Train L1 norm: 4.508.. Val L1 norm: 5.873.. Train Linf norm: 89.190.. Val Linf norm: 134.141\n",
            "Epoch 13/88.. Train loss: 6.438.. Val loss: 4.049.. Train L1 norm: 4.494.. Val L1 norm: 5.442.. Train Linf norm: 90.220.. Val Linf norm: 123.575\n",
            "Epoch 14/88.. Train loss: 6.886.. Val loss: 4.029.. Train L1 norm: 4.351.. Val L1 norm: 5.785.. Train Linf norm: 86.383.. Val Linf norm: 131.718\n",
            "Epoch 15/88.. Train loss: 5.779.. Val loss: 4.073.. Train L1 norm: 4.724.. Val L1 norm: 6.514.. Train Linf norm: 94.748.. Val Linf norm: 149.105\n",
            "Epoch 16/88.. Train loss: 5.109.. Val loss: 4.070.. Train L1 norm: 4.467.. Val L1 norm: 5.565.. Train Linf norm: 89.125.. Val Linf norm: 126.191\n",
            "Epoch 17/88.. Train loss: 5.539.. Val loss: 4.061.. Train L1 norm: 4.311.. Val L1 norm: 5.753.. Train Linf norm: 82.291.. Val Linf norm: 131.361\n",
            "Epoch 18/88.. Train loss: 5.259.. Val loss: 4.217.. Train L1 norm: 4.398.. Val L1 norm: 5.261.. Train Linf norm: 87.372.. Val Linf norm: 119.245\n",
            "Epoch 19/88.. Train loss: 6.297.. Val loss: 4.319.. Train L1 norm: 4.450.. Val L1 norm: 5.364.. Train Linf norm: 89.678.. Val Linf norm: 121.833\n",
            "Epoch 20/88.. Train loss: 5.718.. Val loss: 4.339.. Train L1 norm: 4.702.. Val L1 norm: 5.406.. Train Linf norm: 94.061.. Val Linf norm: 122.810\n",
            "Epoch 21/88.. Train loss: 5.778.. Val loss: 4.176.. Train L1 norm: 4.782.. Val L1 norm: 5.985.. Train Linf norm: 97.206.. Val Linf norm: 137.343\n",
            "Epoch 22/88.. Train loss: 4.987.. Val loss: 4.162.. Train L1 norm: 4.460.. Val L1 norm: 6.046.. Train Linf norm: 85.937.. Val Linf norm: 138.812\n",
            "Epoch 23/88.. Train loss: 5.078.. Val loss: 4.198.. Train L1 norm: 4.712.. Val L1 norm: 5.882.. Train Linf norm: 94.665.. Val Linf norm: 134.755\n",
            "Epoch 24/88.. Train loss: 5.573.. Val loss: 4.247.. Train L1 norm: 4.478.. Val L1 norm: 5.751.. Train Linf norm: 87.799.. Val Linf norm: 131.539\n",
            "Epoch 25/88.. Train loss: 5.995.. Val loss: 4.179.. Train L1 norm: 4.621.. Val L1 norm: 5.980.. Train Linf norm: 90.700.. Val Linf norm: 137.266\n",
            "Epoch 26/88.. Train loss: 6.412.. Val loss: 4.090.. Train L1 norm: 4.871.. Val L1 norm: 6.333.. Train Linf norm: 97.051.. Val Linf norm: 145.951\n",
            "Epoch 27/88.. Train loss: 6.351.. Val loss: 4.054.. Train L1 norm: 5.005.. Val L1 norm: 6.430.. Train Linf norm: 100.689.. Val Linf norm: 148.311\n",
            "Epoch 28/88.. Train loss: 5.312.. Val loss: 4.092.. Train L1 norm: 5.143.. Val L1 norm: 6.151.. Train Linf norm: 106.176.. Val Linf norm: 141.457\n",
            "Epoch 29/88.. Train loss: 5.510.. Val loss: 4.122.. Train L1 norm: 4.848.. Val L1 norm: 5.989.. Train Linf norm: 95.892.. Val Linf norm: 137.436\n",
            "Epoch 30/88.. Train loss: 6.164.. Val loss: 4.079.. Train L1 norm: 4.989.. Val L1 norm: 6.161.. Train Linf norm: 102.165.. Val Linf norm: 141.585\n",
            "Epoch 31/88.. Train loss: 4.999.. Val loss: 4.066.. Train L1 norm: 4.899.. Val L1 norm: 6.219.. Train Linf norm: 99.084.. Val Linf norm: 143.001\n",
            "Epoch 32/88.. Train loss: 6.215.. Val loss: 4.074.. Train L1 norm: 5.028.. Val L1 norm: 6.172.. Train Linf norm: 102.643.. Val Linf norm: 141.825\n",
            "Epoch 33/88.. Train loss: 5.899.. Val loss: 4.075.. Train L1 norm: 4.813.. Val L1 norm: 6.162.. Train Linf norm: 97.106.. Val Linf norm: 141.596\n",
            "Epoch 34/88.. Train loss: 6.467.. Val loss: 4.065.. Train L1 norm: 5.014.. Val L1 norm: 6.214.. Train Linf norm: 102.619.. Val Linf norm: 142.845\n",
            "Epoch 35/88.. Train loss: 5.776.. Val loss: 4.068.. Train L1 norm: 4.895.. Val L1 norm: 6.201.. Train Linf norm: 97.976.. Val Linf norm: 142.543\n",
            "Epoch 36/88.. Train loss: 6.060.. Val loss: 4.073.. Train L1 norm: 4.892.. Val L1 norm: 6.180.. Train Linf norm: 98.678.. Val Linf norm: 142.018\n",
            "Epoch 37/88.. Train loss: 5.203.. Val loss: 4.082.. Train L1 norm: 4.627.. Val L1 norm: 6.124.. Train Linf norm: 89.464.. Val Linf norm: 140.639\n",
            "Epoch 38/88.. Train loss: 5.764.. Val loss: 4.077.. Train L1 norm: 4.795.. Val L1 norm: 6.152.. Train Linf norm: 94.920.. Val Linf norm: 141.340\n",
            "Epoch 39/88.. Train loss: 6.769.. Val loss: 4.068.. Train L1 norm: 5.049.. Val L1 norm: 6.197.. Train Linf norm: 103.513.. Val Linf norm: 142.455\n",
            "Epoch 40/88.. Train loss: 5.181.. Val loss: 4.063.. Train L1 norm: 4.849.. Val L1 norm: 6.222.. Train Linf norm: 96.469.. Val Linf norm: 143.045\n",
            "Epoch 41/88.. Train loss: 5.451.. Val loss: 4.062.. Train L1 norm: 4.909.. Val L1 norm: 6.226.. Train Linf norm: 99.314.. Val Linf norm: 143.138\n",
            "Epoch 42/88.. Train loss: 6.210.. Val loss: 4.059.. Train L1 norm: 4.934.. Val L1 norm: 6.237.. Train Linf norm: 99.964.. Val Linf norm: 143.411\n",
            "Epoch 43/88.. Train loss: 5.522.. Val loss: 4.058.. Train L1 norm: 4.468.. Val L1 norm: 6.242.. Train Linf norm: 84.696.. Val Linf norm: 143.521\n",
            "Epoch 44/88.. Train loss: 5.378.. Val loss: 4.061.. Train L1 norm: 4.862.. Val L1 norm: 6.226.. Train Linf norm: 97.329.. Val Linf norm: 143.131\n",
            "Epoch 45/88.. Train loss: 5.576.. Val loss: 4.059.. Train L1 norm: 4.975.. Val L1 norm: 6.236.. Train Linf norm: 100.171.. Val Linf norm: 143.371\n",
            "Epoch 46/88.. Train loss: 5.672.. Val loss: 4.061.. Train L1 norm: 4.788.. Val L1 norm: 6.221.. Train Linf norm: 94.549.. Val Linf norm: 143.022\n",
            "Epoch 47/88.. Train loss: 5.207.. Val loss: 4.064.. Train L1 norm: 4.875.. Val L1 norm: 6.206.. Train Linf norm: 98.165.. Val Linf norm: 142.652\n",
            "Epoch 48/88.. Train loss: 6.270.. Val loss: 4.066.. Train L1 norm: 5.055.. Val L1 norm: 6.196.. Train Linf norm: 103.537.. Val Linf norm: 142.401\n",
            "Epoch 49/88.. Train loss: 4.953.. Val loss: 4.063.. Train L1 norm: 4.815.. Val L1 norm: 6.210.. Train Linf norm: 95.619.. Val Linf norm: 142.731\n",
            "Epoch 50/88.. Train loss: 5.736.. Val loss: 4.062.. Train L1 norm: 5.239.. Val L1 norm: 6.215.. Train Linf norm: 109.291.. Val Linf norm: 142.857\n",
            "Epoch 51/88.. Train loss: 5.277.. Val loss: 4.062.. Train L1 norm: 4.842.. Val L1 norm: 6.217.. Train Linf norm: 96.442.. Val Linf norm: 142.913\n",
            "Epoch 52/88.. Train loss: 5.369.. Val loss: 4.062.. Train L1 norm: 4.595.. Val L1 norm: 6.214.. Train Linf norm: 89.339.. Val Linf norm: 142.841\n",
            "Epoch 53/88.. Train loss: 5.447.. Val loss: 4.062.. Train L1 norm: 5.247.. Val L1 norm: 6.215.. Train Linf norm: 109.919.. Val Linf norm: 142.861\n",
            "Epoch 54/88.. Train loss: 5.300.. Val loss: 4.061.. Train L1 norm: 4.672.. Val L1 norm: 6.217.. Train Linf norm: 92.512.. Val Linf norm: 142.921\n",
            "Epoch 55/88.. Train loss: 5.141.. Val loss: 4.062.. Train L1 norm: 4.715.. Val L1 norm: 6.214.. Train Linf norm: 92.232.. Val Linf norm: 142.832\n",
            "Epoch 56/88.. Train loss: 5.823.. Val loss: 4.063.. Train L1 norm: 4.954.. Val L1 norm: 6.212.. Train Linf norm: 99.946.. Val Linf norm: 142.777\n",
            "Epoch 57/88.. Train loss: 5.939.. Val loss: 4.062.. Train L1 norm: 4.698.. Val L1 norm: 6.214.. Train Linf norm: 92.557.. Val Linf norm: 142.848\n",
            "Epoch 58/88.. Train loss: 5.323.. Val loss: 4.061.. Train L1 norm: 5.003.. Val L1 norm: 6.217.. Train Linf norm: 102.395.. Val Linf norm: 142.906\n",
            "Epoch 59/88.. Train loss: 5.633.. Val loss: 4.062.. Train L1 norm: 4.805.. Val L1 norm: 6.213.. Train Linf norm: 96.024.. Val Linf norm: 142.825\n",
            "Epoch 60/88.. Train loss: 4.816.. Val loss: 4.062.. Train L1 norm: 4.793.. Val L1 norm: 6.212.. Train Linf norm: 95.661.. Val Linf norm: 142.793\n",
            "Epoch 61/88.. Train loss: 5.137.. Val loss: 4.062.. Train L1 norm: 4.823.. Val L1 norm: 6.211.. Train Linf norm: 96.292.. Val Linf norm: 142.774\n",
            "Epoch 62/88.. Train loss: 6.252.. Val loss: 4.062.. Train L1 norm: 4.881.. Val L1 norm: 6.212.. Train Linf norm: 95.729.. Val Linf norm: 142.786\n",
            "Epoch 63/88.. Train loss: 6.327.. Val loss: 4.062.. Train L1 norm: 4.928.. Val L1 norm: 6.212.. Train Linf norm: 100.297.. Val Linf norm: 142.794\n",
            "Epoch 64/88.. Train loss: 5.037.. Val loss: 4.062.. Train L1 norm: 4.843.. Val L1 norm: 6.212.. Train Linf norm: 97.220.. Val Linf norm: 142.778\n",
            "Epoch 65/88.. Train loss: 4.945.. Val loss: 4.062.. Train L1 norm: 4.589.. Val L1 norm: 6.212.. Train Linf norm: 88.831.. Val Linf norm: 142.790\n",
            "Epoch 66/88.. Train loss: 5.260.. Val loss: 4.062.. Train L1 norm: 4.774.. Val L1 norm: 6.213.. Train Linf norm: 94.175.. Val Linf norm: 142.808\n",
            "Epoch 67/88.. Train loss: 5.734.. Val loss: 4.062.. Train L1 norm: 5.009.. Val L1 norm: 6.212.. Train Linf norm: 103.003.. Val Linf norm: 142.799\n",
            "Epoch 68/88.. Train loss: 5.819.. Val loss: 4.062.. Train L1 norm: 4.892.. Val L1 norm: 6.212.. Train Linf norm: 96.873.. Val Linf norm: 142.791\n",
            "Epoch 69/88.. Train loss: 5.536.. Val loss: 4.062.. Train L1 norm: 5.051.. Val L1 norm: 6.212.. Train Linf norm: 103.666.. Val Linf norm: 142.778\n",
            "Epoch 70/88.. Train loss: 6.400.. Val loss: 4.062.. Train L1 norm: 4.993.. Val L1 norm: 6.211.. Train Linf norm: 101.573.. Val Linf norm: 142.773\n",
            "Epoch 71/88.. Train loss: 5.288.. Val loss: 4.062.. Train L1 norm: 5.024.. Val L1 norm: 6.211.. Train Linf norm: 102.794.. Val Linf norm: 142.775\n",
            "Epoch 72/88.. Train loss: 5.750.. Val loss: 4.062.. Train L1 norm: 4.839.. Val L1 norm: 6.212.. Train Linf norm: 97.296.. Val Linf norm: 142.777\n",
            "Epoch 73/88.. Train loss: 5.114.. Val loss: 4.062.. Train L1 norm: 5.281.. Val L1 norm: 6.211.. Train Linf norm: 109.783.. Val Linf norm: 142.773\n",
            "Epoch 74/88.. Train loss: 6.558.. Val loss: 4.062.. Train L1 norm: 5.073.. Val L1 norm: 6.211.. Train Linf norm: 104.417.. Val Linf norm: 142.776\n",
            "Epoch 75/88.. Train loss: 5.153.. Val loss: 4.062.. Train L1 norm: 4.795.. Val L1 norm: 6.211.. Train Linf norm: 94.499.. Val Linf norm: 142.775\n",
            "Epoch 76/88.. Train loss: 6.174.. Val loss: 4.062.. Train L1 norm: 5.156.. Val L1 norm: 6.212.. Train Linf norm: 106.703.. Val Linf norm: 142.778\n",
            "Epoch 77/88.. Train loss: 5.222.. Val loss: 4.062.. Train L1 norm: 4.931.. Val L1 norm: 6.212.. Train Linf norm: 99.903.. Val Linf norm: 142.780\n",
            "Epoch 78/88.. Train loss: 5.944.. Val loss: 4.062.. Train L1 norm: 5.129.. Val L1 norm: 6.211.. Train Linf norm: 105.626.. Val Linf norm: 142.776\n",
            "Epoch 79/88.. Train loss: 5.661.. Val loss: 4.062.. Train L1 norm: 4.841.. Val L1 norm: 6.212.. Train Linf norm: 95.997.. Val Linf norm: 142.777\n",
            "Epoch 80/88.. Train loss: 5.294.. Val loss: 4.062.. Train L1 norm: 4.610.. Val L1 norm: 6.212.. Train Linf norm: 89.874.. Val Linf norm: 142.780\n",
            "Epoch 81/88.. Train loss: 5.248.. Val loss: 4.062.. Train L1 norm: 4.709.. Val L1 norm: 6.212.. Train Linf norm: 92.372.. Val Linf norm: 142.781\n",
            "Epoch 82/88.. Train loss: 5.911.. Val loss: 4.062.. Train L1 norm: 4.909.. Val L1 norm: 6.212.. Train Linf norm: 99.160.. Val Linf norm: 142.780\n",
            "Epoch 83/88.. Train loss: 6.209.. Val loss: 4.062.. Train L1 norm: 4.931.. Val L1 norm: 6.212.. Train Linf norm: 100.385.. Val Linf norm: 142.781\n",
            "Epoch 84/88.. Train loss: 5.596.. Val loss: 4.062.. Train L1 norm: 5.043.. Val L1 norm: 6.212.. Train Linf norm: 102.348.. Val Linf norm: 142.782\n",
            "Epoch 85/88.. Train loss: 5.158.. Val loss: 4.062.. Train L1 norm: 5.040.. Val L1 norm: 6.212.. Train Linf norm: 102.353.. Val Linf norm: 142.781\n",
            "Epoch 86/88.. Train loss: 5.421.. Val loss: 4.062.. Train L1 norm: 4.785.. Val L1 norm: 6.212.. Train Linf norm: 95.172.. Val Linf norm: 142.781\n",
            "Epoch 87/88.. Train loss: 6.674.. Val loss: 4.062.. Train L1 norm: 5.013.. Val L1 norm: 6.212.. Train Linf norm: 102.556.. Val Linf norm: 142.782\n"
          ]
        },
        {
          "output_type": "stream",
          "name": "stderr",
          "text": [
            "[I 2023-05-30 10:56:12,684] Trial 3 finished with value: 6.211683376375834 and parameters: {'n_layers': 2, 'n_units_0': 1000, 'n_units_1': 1481, 'hidden_activation': 'ELU', 'output_activation': 'Linear', 'loss': 'MAE', 'optimizer': 'Adagrad', 'lr': 0.0005078309394744676, 'batch_size': 32, 'n_epochs': 88, 'scheduler': 'StepLR', 'dropout_rate': 0.34581271324536017, 'step_size': 10, 'gamma': 0.24293232314862578}. Best is trial 1 with value: 1.2404640170415242.\n"
          ]
        },
        {
          "output_type": "stream",
          "name": "stdout",
          "text": [
            "Epoch 88/88.. Train loss: 6.313.. Val loss: 4.062.. Train L1 norm: 5.133.. Val L1 norm: 6.212.. Train Linf norm: 105.566.. Val Linf norm: 142.781\n"
          ]
        },
        {
          "output_type": "stream",
          "name": "stderr",
          "text": [
            "<ipython-input-37-5ce9a06c2c29>:168: FutureWarning: suggest_uniform has been deprecated in v3.0.0. This feature will be removed in v6.0.0. See https://github.com/optuna/optuna/releases/tag/v3.0.0. Use suggest_float instead.\n",
            "  t_max_fraction = trial.suggest_uniform('t_max_fraction', 0.1, 0.3)\n",
            "<ipython-input-37-5ce9a06c2c29>:175: FutureWarning: suggest_loguniform has been deprecated in v3.0.0. This feature will be removed in v6.0.0. See https://github.com/optuna/optuna/releases/tag/v3.0.0. Use suggest_float(..., log=True) instead.\n",
            "  eta_min = trial.suggest_loguniform(\"eta_min\", 1e-7, 1e-2)\n"
          ]
        },
        {
          "output_type": "stream",
          "name": "stdout",
          "text": [
            "Epoch 1/115.. Train loss: 3.853.. Val loss: 3.427.. Train L1 norm: 4.240.. Val L1 norm: 7.236.. Train Linf norm: 265.244.. Val Linf norm: 558.646\n",
            "Epoch 2/115.. Train loss: 3.476.. Val loss: 3.256.. Train L1 norm: 4.275.. Val L1 norm: 6.488.. Train Linf norm: 255.558.. Val Linf norm: 482.783\n",
            "Epoch 3/115.. Train loss: 3.350.. Val loss: 3.144.. Train L1 norm: 4.152.. Val L1 norm: 5.964.. Train Linf norm: 252.891.. Val Linf norm: 440.820\n",
            "Epoch 4/115.. Train loss: 3.390.. Val loss: 3.363.. Train L1 norm: 4.044.. Val L1 norm: 8.377.. Train Linf norm: 255.079.. Val Linf norm: 651.437\n",
            "Epoch 5/115.. Train loss: 3.327.. Val loss: 2.741.. Train L1 norm: 3.926.. Val L1 norm: 2.764.. Train Linf norm: 246.581.. Val Linf norm: 164.289\n",
            "Epoch 6/115.. Train loss: 3.126.. Val loss: 2.977.. Train L1 norm: 3.641.. Val L1 norm: 2.687.. Train Linf norm: 219.568.. Val Linf norm: 195.012\n",
            "Epoch 7/115.. Train loss: 3.067.. Val loss: 2.536.. Train L1 norm: 3.447.. Val L1 norm: 4.643.. Train Linf norm: 207.513.. Val Linf norm: 364.374\n",
            "Epoch 8/115.. Train loss: 5.639.. Val loss: 2.720.. Train L1 norm: 3.453.. Val L1 norm: 5.898.. Train Linf norm: 210.022.. Val Linf norm: 459.190\n",
            "Epoch 9/115.. Train loss: 3.059.. Val loss: 2.421.. Train L1 norm: 3.595.. Val L1 norm: 4.256.. Train Linf norm: 235.961.. Val Linf norm: 329.314\n",
            "Epoch 10/115.. Train loss: 3.056.. Val loss: 2.591.. Train L1 norm: 3.355.. Val L1 norm: 5.086.. Train Linf norm: 204.317.. Val Linf norm: 355.372\n",
            "Epoch 11/115.. Train loss: 2.620.. Val loss: 2.166.. Train L1 norm: 2.899.. Val L1 norm: 3.859.. Train Linf norm: 170.112.. Val Linf norm: 302.192\n",
            "Epoch 12/115.. Train loss: 2.705.. Val loss: 2.190.. Train L1 norm: 3.010.. Val L1 norm: 3.421.. Train Linf norm: 185.322.. Val Linf norm: 225.026\n",
            "Epoch 13/115.. Train loss: 3.357.. Val loss: 2.645.. Train L1 norm: 3.312.. Val L1 norm: 7.143.. Train Linf norm: 223.802.. Val Linf norm: 596.583\n",
            "Epoch 14/115.. Train loss: 5.195.. Val loss: 3.100.. Train L1 norm: 3.138.. Val L1 norm: 4.059.. Train Linf norm: 193.166.. Val Linf norm: 261.727\n",
            "Epoch 15/115.. Train loss: 81.465.. Val loss: 4.167.. Train L1 norm: 14.650.. Val L1 norm: 2.561.. Train Linf norm: 1579.562.. Val Linf norm: 152.272\n",
            "Epoch 16/115.. Train loss: 4.127.. Val loss: 3.917.. Train L1 norm: 2.888.. Val L1 norm: 4.310.. Train Linf norm: 155.698.. Val Linf norm: 301.986\n",
            "Epoch 17/115.. Train loss: 4.514.. Val loss: 2.850.. Train L1 norm: 3.826.. Val L1 norm: 4.226.. Train Linf norm: 222.828.. Val Linf norm: 319.392\n",
            "Epoch 18/115.. Train loss: 5.295.. Val loss: 3.046.. Train L1 norm: 4.237.. Val L1 norm: 4.388.. Train Linf norm: 268.562.. Val Linf norm: 332.193\n",
            "Epoch 19/115.. Train loss: 5.385.. Val loss: 2.684.. Train L1 norm: 6.742.. Val L1 norm: 4.412.. Train Linf norm: 542.017.. Val Linf norm: 308.612\n",
            "Epoch 20/115.. Train loss: 3.387.. Val loss: 3.204.. Train L1 norm: 3.593.. Val L1 norm: 4.804.. Train Linf norm: 219.355.. Val Linf norm: 353.544\n",
            "Epoch 21/115.. Train loss: 3.994.. Val loss: 3.210.. Train L1 norm: 4.165.. Val L1 norm: 5.269.. Train Linf norm: 280.680.. Val Linf norm: 381.195\n",
            "Epoch 22/115.. Train loss: 4.338.. Val loss: 3.180.. Train L1 norm: 4.279.. Val L1 norm: 5.866.. Train Linf norm: 252.229.. Val Linf norm: 475.982\n",
            "Epoch 23/115.. Train loss: 3.442.. Val loss: 2.755.. Train L1 norm: 3.813.. Val L1 norm: 3.335.. Train Linf norm: 232.783.. Val Linf norm: 225.872\n",
            "Epoch 24/115.. Train loss: 3.374.. Val loss: 2.688.. Train L1 norm: 3.529.. Val L1 norm: 4.059.. Train Linf norm: 214.256.. Val Linf norm: 285.109\n",
            "Epoch 25/115.. Train loss: 3.053.. Val loss: 2.497.. Train L1 norm: 3.472.. Val L1 norm: 3.881.. Train Linf norm: 220.105.. Val Linf norm: 281.706\n",
            "Epoch 26/115.. Train loss: 2.705.. Val loss: 4.380.. Train L1 norm: 3.138.. Val L1 norm: 5.829.. Train Linf norm: 191.945.. Val Linf norm: 447.631\n",
            "Epoch 27/115.. Train loss: 2.756.. Val loss: 2.883.. Train L1 norm: 3.371.. Val L1 norm: 5.507.. Train Linf norm: 218.667.. Val Linf norm: 405.410\n",
            "Epoch 28/115.. Train loss: 2.718.. Val loss: 2.464.. Train L1 norm: 3.430.. Val L1 norm: 4.488.. Train Linf norm: 222.372.. Val Linf norm: 315.853\n",
            "Epoch 29/115.. Train loss: 2.550.. Val loss: 2.394.. Train L1 norm: 3.360.. Val L1 norm: 4.461.. Train Linf norm: 219.326.. Val Linf norm: 330.324\n",
            "Epoch 30/115.. Train loss: 2.274.. Val loss: 2.266.. Train L1 norm: 3.054.. Val L1 norm: 4.220.. Train Linf norm: 202.397.. Val Linf norm: 317.992\n",
            "Epoch 31/115.. Train loss: 2.123.. Val loss: 2.160.. Train L1 norm: 3.019.. Val L1 norm: 4.813.. Train Linf norm: 203.447.. Val Linf norm: 377.096\n",
            "Epoch 32/115.. Train loss: 2.013.. Val loss: 1.958.. Train L1 norm: 2.632.. Val L1 norm: 4.004.. Train Linf norm: 167.933.. Val Linf norm: 311.483\n",
            "Epoch 33/115.. Train loss: 1.962.. Val loss: 1.945.. Train L1 norm: 2.628.. Val L1 norm: 3.492.. Train Linf norm: 166.189.. Val Linf norm: 261.447\n",
            "Epoch 34/115.. Train loss: 2.255.. Val loss: 1.920.. Train L1 norm: 2.532.. Val L1 norm: 3.755.. Train Linf norm: 159.016.. Val Linf norm: 287.198\n",
            "Epoch 35/115.. Train loss: 2.936.. Val loss: 1.899.. Train L1 norm: 2.644.. Val L1 norm: 3.967.. Train Linf norm: 169.909.. Val Linf norm: 304.046\n",
            "Epoch 36/115.. Train loss: 1.926.. Val loss: 1.914.. Train L1 norm: 2.683.. Val L1 norm: 3.830.. Train Linf norm: 176.925.. Val Linf norm: 294.617\n",
            "Epoch 37/115.. Train loss: 1.930.. Val loss: 1.897.. Train L1 norm: 2.612.. Val L1 norm: 3.799.. Train Linf norm: 171.393.. Val Linf norm: 282.946\n",
            "Epoch 38/115.. Train loss: 1.969.. Val loss: 2.031.. Train L1 norm: 2.682.. Val L1 norm: 4.262.. Train Linf norm: 170.744.. Val Linf norm: 322.521\n",
            "Epoch 39/115.. Train loss: 2.001.. Val loss: 1.960.. Train L1 norm: 2.497.. Val L1 norm: 3.311.. Train Linf norm: 152.128.. Val Linf norm: 238.631\n",
            "Epoch 40/115.. Train loss: 2.104.. Val loss: 2.285.. Train L1 norm: 2.775.. Val L1 norm: 2.507.. Train Linf norm: 175.656.. Val Linf norm: 156.314\n",
            "Epoch 41/115.. Train loss: 2.212.. Val loss: 1.955.. Train L1 norm: 2.999.. Val L1 norm: 3.402.. Train Linf norm: 193.031.. Val Linf norm: 250.269\n",
            "Epoch 42/115.. Train loss: 2.609.. Val loss: 2.480.. Train L1 norm: 3.289.. Val L1 norm: 5.632.. Train Linf norm: 202.063.. Val Linf norm: 441.081\n",
            "Epoch 43/115.. Train loss: 2.489.. Val loss: 2.312.. Train L1 norm: 3.167.. Val L1 norm: 3.534.. Train Linf norm: 203.837.. Val Linf norm: 265.882\n",
            "Epoch 44/115.. Train loss: 2.793.. Val loss: 2.504.. Train L1 norm: 3.484.. Val L1 norm: 4.499.. Train Linf norm: 210.581.. Val Linf norm: 329.939\n",
            "Epoch 45/115.. Train loss: 2.736.. Val loss: 2.511.. Train L1 norm: 3.307.. Val L1 norm: 5.494.. Train Linf norm: 198.324.. Val Linf norm: 411.771\n",
            "Epoch 46/115.. Train loss: 2.932.. Val loss: 2.446.. Train L1 norm: 3.978.. Val L1 norm: 4.253.. Train Linf norm: 250.898.. Val Linf norm: 310.070\n",
            "Epoch 47/115.. Train loss: 3.203.. Val loss: 2.931.. Train L1 norm: 4.383.. Val L1 norm: 6.853.. Train Linf norm: 296.776.. Val Linf norm: 563.693\n",
            "Epoch 48/115.. Train loss: 3.270.. Val loss: 2.973.. Train L1 norm: 4.317.. Val L1 norm: 6.270.. Train Linf norm: 280.037.. Val Linf norm: 478.051\n",
            "Epoch 49/115.. Train loss: 3.455.. Val loss: 2.937.. Train L1 norm: 4.153.. Val L1 norm: 6.596.. Train Linf norm: 254.185.. Val Linf norm: 561.267\n",
            "Epoch 50/115.. Train loss: 4.090.. Val loss: 3.723.. Train L1 norm: 5.096.. Val L1 norm: 6.746.. Train Linf norm: 317.223.. Val Linf norm: 508.029\n",
            "Epoch 51/115.. Train loss: 4.186.. Val loss: 3.417.. Train L1 norm: 5.620.. Val L1 norm: 6.335.. Train Linf norm: 336.997.. Val Linf norm: 467.463\n",
            "Epoch 52/115.. Train loss: 4.013.. Val loss: 3.863.. Train L1 norm: 4.933.. Val L1 norm: 7.273.. Train Linf norm: 296.339.. Val Linf norm: 542.590\n",
            "Epoch 53/115.. Train loss: 3.827.. Val loss: 3.834.. Train L1 norm: 5.136.. Val L1 norm: 6.393.. Train Linf norm: 318.215.. Val Linf norm: 472.255\n",
            "Epoch 54/115.. Train loss: 3.815.. Val loss: 3.833.. Train L1 norm: 4.820.. Val L1 norm: 6.267.. Train Linf norm: 295.566.. Val Linf norm: 462.168\n",
            "Epoch 55/115.. Train loss: 3.831.. Val loss: 3.833.. Train L1 norm: 4.784.. Val L1 norm: 6.260.. Train Linf norm: 292.461.. Val Linf norm: 461.533\n",
            "Epoch 56/115.. Train loss: 3.814.. Val loss: 3.833.. Train L1 norm: 4.784.. Val L1 norm: 6.235.. Train Linf norm: 296.256.. Val Linf norm: 459.567\n",
            "Epoch 57/115.. Train loss: 3.814.. Val loss: 3.833.. Train L1 norm: 4.771.. Val L1 norm: 6.241.. Train Linf norm: 292.416.. Val Linf norm: 460.019\n",
            "Epoch 58/115.. Train loss: 3.814.. Val loss: 3.833.. Train L1 norm: 4.766.. Val L1 norm: 6.254.. Train Linf norm: 289.448.. Val Linf norm: 461.075\n",
            "Epoch 59/115.. Train loss: 3.814.. Val loss: 3.833.. Train L1 norm: 4.784.. Val L1 norm: 6.233.. Train Linf norm: 285.570.. Val Linf norm: 459.413\n",
            "Epoch 60/115.. Train loss: 3.814.. Val loss: 3.833.. Train L1 norm: 4.781.. Val L1 norm: 6.221.. Train Linf norm: 288.791.. Val Linf norm: 458.395\n",
            "Epoch 61/115.. Train loss: 3.813.. Val loss: 3.833.. Train L1 norm: 4.760.. Val L1 norm: 6.241.. Train Linf norm: 282.700.. Val Linf norm: 460.067\n",
            "Epoch 62/115.. Train loss: 3.813.. Val loss: 3.833.. Train L1 norm: 4.780.. Val L1 norm: 6.234.. Train Linf norm: 292.326.. Val Linf norm: 459.438\n",
            "Epoch 63/115.. Train loss: 3.813.. Val loss: 3.833.. Train L1 norm: 4.769.. Val L1 norm: 6.236.. Train Linf norm: 296.298.. Val Linf norm: 459.627\n",
            "Epoch 64/115.. Train loss: 3.813.. Val loss: 3.833.. Train L1 norm: 4.779.. Val L1 norm: 6.230.. Train Linf norm: 288.621.. Val Linf norm: 459.159\n",
            "Epoch 65/115.. Train loss: 3.813.. Val loss: 3.833.. Train L1 norm: 4.774.. Val L1 norm: 6.230.. Train Linf norm: 288.103.. Val Linf norm: 459.134\n",
            "Epoch 66/115.. Train loss: 3.813.. Val loss: 3.833.. Train L1 norm: 4.766.. Val L1 norm: 6.232.. Train Linf norm: 287.612.. Val Linf norm: 459.301\n",
            "Epoch 67/115.. Train loss: 3.813.. Val loss: 3.833.. Train L1 norm: 4.770.. Val L1 norm: 6.232.. Train Linf norm: 294.989.. Val Linf norm: 459.341\n",
            "Epoch 68/115.. Train loss: 3.813.. Val loss: 3.833.. Train L1 norm: 4.769.. Val L1 norm: 6.233.. Train Linf norm: 291.241.. Val Linf norm: 459.357\n",
            "Epoch 69/115.. Train loss: 3.813.. Val loss: 3.833.. Train L1 norm: 4.770.. Val L1 norm: 6.233.. Train Linf norm: 295.275.. Val Linf norm: 459.367\n",
            "Epoch 70/115.. Train loss: 3.813.. Val loss: 3.833.. Train L1 norm: 4.770.. Val L1 norm: 6.233.. Train Linf norm: 292.254.. Val Linf norm: 459.383\n",
            "Epoch 71/115.. Train loss: 3.813.. Val loss: 3.833.. Train L1 norm: 4.770.. Val L1 norm: 6.233.. Train Linf norm: 293.507.. Val Linf norm: 459.416\n",
            "Epoch 72/115.. Train loss: 3.813.. Val loss: 3.833.. Train L1 norm: 4.770.. Val L1 norm: 6.234.. Train Linf norm: 288.296.. Val Linf norm: 459.483\n",
            "Epoch 73/115.. Train loss: 3.813.. Val loss: 3.833.. Train L1 norm: 4.771.. Val L1 norm: 6.235.. Train Linf norm: 284.208.. Val Linf norm: 459.542\n",
            "Epoch 74/115.. Train loss: 3.813.. Val loss: 3.833.. Train L1 norm: 4.773.. Val L1 norm: 6.235.. Train Linf norm: 291.815.. Val Linf norm: 459.581\n",
            "Epoch 75/115.. Train loss: 3.813.. Val loss: 3.833.. Train L1 norm: 4.769.. Val L1 norm: 6.239.. Train Linf norm: 285.102.. Val Linf norm: 459.892\n",
            "Epoch 76/115.. Train loss: 3.814.. Val loss: 3.833.. Train L1 norm: 4.774.. Val L1 norm: 6.236.. Train Linf norm: 294.230.. Val Linf norm: 459.657\n",
            "Epoch 77/115.. Train loss: 3.813.. Val loss: 3.833.. Train L1 norm: 4.759.. Val L1 norm: 6.258.. Train Linf norm: 295.231.. Val Linf norm: 461.399\n",
            "Epoch 78/115.. Train loss: 3.814.. Val loss: 3.833.. Train L1 norm: 4.780.. Val L1 norm: 6.245.. Train Linf norm: 296.209.. Val Linf norm: 460.364\n",
            "Epoch 79/115.. Train loss: 3.814.. Val loss: 3.833.. Train L1 norm: 4.773.. Val L1 norm: 6.243.. Train Linf norm: 289.400.. Val Linf norm: 460.208\n",
            "Epoch 80/115.. Train loss: 3.814.. Val loss: 3.833.. Train L1 norm: 4.782.. Val L1 norm: 6.226.. Train Linf norm: 294.782.. Val Linf norm: 458.823\n",
            "Epoch 81/115.. Train loss: 3.814.. Val loss: 3.833.. Train L1 norm: 4.770.. Val L1 norm: 6.232.. Train Linf norm: 290.653.. Val Linf norm: 459.315\n",
            "Epoch 82/115.. Train loss: 3.813.. Val loss: 3.833.. Train L1 norm: 4.762.. Val L1 norm: 6.261.. Train Linf norm: 290.586.. Val Linf norm: 461.682\n",
            "Epoch 83/115.. Train loss: 3.814.. Val loss: 3.833.. Train L1 norm: 4.781.. Val L1 norm: 6.240.. Train Linf norm: 295.113.. Val Linf norm: 459.926\n",
            "Epoch 84/115.. Train loss: 3.814.. Val loss: 3.833.. Train L1 norm: 4.771.. Val L1 norm: 6.250.. Train Linf norm: 295.430.. Val Linf norm: 460.765\n",
            "Epoch 85/115.. Train loss: 3.814.. Val loss: 3.833.. Train L1 norm: 4.782.. Val L1 norm: 6.234.. Train Linf norm: 283.924.. Val Linf norm: 459.456\n",
            "Epoch 86/115.. Train loss: 3.813.. Val loss: 3.833.. Train L1 norm: 4.788.. Val L1 norm: 6.196.. Train Linf norm: 291.102.. Val Linf norm: 456.419\n",
            "Epoch 87/115.. Train loss: 3.814.. Val loss: 3.833.. Train L1 norm: 4.747.. Val L1 norm: 6.256.. Train Linf norm: 294.292.. Val Linf norm: 461.281\n",
            "Epoch 88/115.. Train loss: 3.814.. Val loss: 3.833.. Train L1 norm: 4.766.. Val L1 norm: 6.275.. Train Linf norm: 288.781.. Val Linf norm: 462.805\n",
            "Epoch 89/115.. Train loss: 3.814.. Val loss: 3.833.. Train L1 norm: 4.782.. Val L1 norm: 6.251.. Train Linf norm: 286.957.. Val Linf norm: 460.883\n",
            "Epoch 90/115.. Train loss: 3.815.. Val loss: 3.833.. Train L1 norm: 4.780.. Val L1 norm: 6.234.. Train Linf norm: 292.128.. Val Linf norm: 459.517\n",
            "Epoch 91/115.. Train loss: 3.813.. Val loss: 3.833.. Train L1 norm: 4.756.. Val L1 norm: 6.267.. Train Linf norm: 284.856.. Val Linf norm: 462.160\n",
            "Epoch 92/115.. Train loss: 3.814.. Val loss: 3.833.. Train L1 norm: 4.789.. Val L1 norm: 6.231.. Train Linf norm: 288.054.. Val Linf norm: 459.210\n",
            "Epoch 93/115.. Train loss: 3.814.. Val loss: 3.833.. Train L1 norm: 4.776.. Val L1 norm: 6.233.. Train Linf norm: 282.609.. Val Linf norm: 459.391\n",
            "Epoch 94/115.. Train loss: 3.813.. Val loss: 3.833.. Train L1 norm: 4.767.. Val L1 norm: 6.246.. Train Linf norm: 290.281.. Val Linf norm: 460.454\n",
            "Epoch 95/115.. Train loss: 3.813.. Val loss: 3.833.. Train L1 norm: 4.768.. Val L1 norm: 6.251.. Train Linf norm: 284.671.. Val Linf norm: 460.851\n",
            "Epoch 96/115.. Train loss: 3.813.. Val loss: 3.833.. Train L1 norm: 4.778.. Val L1 norm: 6.245.. Train Linf norm: 292.118.. Val Linf norm: 460.379\n",
            "Epoch 97/115.. Train loss: 3.813.. Val loss: 3.833.. Train L1 norm: 4.774.. Val L1 norm: 6.243.. Train Linf norm: 294.609.. Val Linf norm: 460.199\n",
            "Epoch 98/115.. Train loss: 3.813.. Val loss: 3.833.. Train L1 norm: 4.781.. Val L1 norm: 6.238.. Train Linf norm: 283.768.. Val Linf norm: 459.782\n",
            "Epoch 99/115.. Train loss: 3.813.. Val loss: 3.833.. Train L1 norm: 4.772.. Val L1 norm: 6.238.. Train Linf norm: 287.504.. Val Linf norm: 459.822\n",
            "Epoch 100/115.. Train loss: 3.813.. Val loss: 3.833.. Train L1 norm: 4.775.. Val L1 norm: 6.238.. Train Linf norm: 291.442.. Val Linf norm: 459.762\n",
            "Epoch 101/115.. Train loss: 3.813.. Val loss: 3.833.. Train L1 norm: 4.772.. Val L1 norm: 6.237.. Train Linf norm: 292.202.. Val Linf norm: 459.759\n",
            "Epoch 102/115.. Train loss: 3.813.. Val loss: 3.833.. Train L1 norm: 4.773.. Val L1 norm: 6.238.. Train Linf norm: 289.997.. Val Linf norm: 459.767\n",
            "Epoch 103/115.. Train loss: 3.813.. Val loss: 3.833.. Train L1 norm: 4.773.. Val L1 norm: 6.238.. Train Linf norm: 291.106.. Val Linf norm: 459.765\n",
            "Epoch 104/115.. Train loss: 3.813.. Val loss: 3.833.. Train L1 norm: 4.773.. Val L1 norm: 6.238.. Train Linf norm: 296.091.. Val Linf norm: 459.774\n",
            "Epoch 105/115.. Train loss: 3.813.. Val loss: 3.833.. Train L1 norm: 4.774.. Val L1 norm: 6.238.. Train Linf norm: 289.522.. Val Linf norm: 459.770\n",
            "Epoch 106/115.. Train loss: 3.814.. Val loss: 3.833.. Train L1 norm: 4.775.. Val L1 norm: 6.236.. Train Linf norm: 288.112.. Val Linf norm: 459.671\n",
            "Epoch 107/115.. Train loss: 3.813.. Val loss: 3.833.. Train L1 norm: 4.771.. Val L1 norm: 6.238.. Train Linf norm: 291.145.. Val Linf norm: 459.792\n",
            "Epoch 108/115.. Train loss: 3.813.. Val loss: 3.833.. Train L1 norm: 4.773.. Val L1 norm: 6.238.. Train Linf norm: 290.055.. Val Linf norm: 459.792\n",
            "Epoch 109/115.. Train loss: 3.813.. Val loss: 3.833.. Train L1 norm: 4.774.. Val L1 norm: 6.239.. Train Linf norm: 285.287.. Val Linf norm: 459.873\n",
            "Epoch 110/115.. Train loss: 3.814.. Val loss: 3.833.. Train L1 norm: 4.769.. Val L1 norm: 6.246.. Train Linf norm: 292.336.. Val Linf norm: 460.434\n",
            "Epoch 111/115.. Train loss: 3.813.. Val loss: 3.833.. Train L1 norm: 4.769.. Val L1 norm: 6.251.. Train Linf norm: 289.142.. Val Linf norm: 460.874\n",
            "Epoch 112/115.. Train loss: 3.813.. Val loss: 3.833.. Train L1 norm: 4.776.. Val L1 norm: 6.249.. Train Linf norm: 297.399.. Val Linf norm: 460.646\n",
            "Epoch 113/115.. Train loss: 3.813.. Val loss: 3.833.. Train L1 norm: 4.786.. Val L1 norm: 6.228.. Train Linf norm: 294.087.. Val Linf norm: 458.955\n",
            "Epoch 114/115.. Train loss: 3.814.. Val loss: 3.833.. Train L1 norm: 4.764.. Val L1 norm: 6.248.. Train Linf norm: 289.536.. Val Linf norm: 460.646\n"
          ]
        },
        {
          "output_type": "stream",
          "name": "stderr",
          "text": [
            "[I 2023-05-30 11:06:50,708] Trial 4 finished with value: 6.261231977462769 and parameters: {'n_layers': 6, 'n_units_0': 1542, 'n_units_1': 3673, 'n_units_2': 2035, 'n_units_3': 772, 'n_units_4': 768, 'n_units_5': 3344, 'hidden_activation': 'Swish', 'output_activation': 'Linear', 'loss': 'Huber', 'optimizer': 'RMSprop', 'lr': 2.4748248069197692e-05, 'batch_size': 128, 'n_epochs': 115, 'scheduler': 'CosineAnnealingLR', 'dropout_rate': 0.1248617110676788, 't_max_fraction': 0.15341028537344564, 'eta_min': 0.002526454889566922}. Best is trial 1 with value: 1.2404640170415242.\n"
          ]
        },
        {
          "output_type": "stream",
          "name": "stdout",
          "text": [
            "Epoch 115/115.. Train loss: 3.814.. Val loss: 3.833.. Train L1 norm: 4.767.. Val L1 norm: 6.261.. Train Linf norm: 292.392.. Val Linf norm: 461.671\n",
            "Epoch 1/102.. Train loss: 129200.029.. Val loss: 547.471.. Train L1 norm: 13.171.. Val L1 norm: 4.805.. Train Linf norm: 2296.471.. Val Linf norm: 853.165\n",
            "Epoch 2/102.. Train loss: 129074.939.. Val loss: 3031.456.. Train L1 norm: 9.816.. Val L1 norm: 9.340.. Train Linf norm: 1840.641.. Val Linf norm: 1729.887\n",
            "Epoch 3/102.. Train loss: 132597.689.. Val loss: 7441.654.. Train L1 norm: 12.927.. Val L1 norm: 13.809.. Train Linf norm: 2420.429.. Val Linf norm: 2738.346\n",
            "Epoch 4/102.. Train loss: 3386811.723.. Val loss: 690.361.. Train L1 norm: 10.929.. Val L1 norm: 5.541.. Train Linf norm: 2481.704.. Val Linf norm: 1174.650\n"
          ]
        },
        {
          "output_type": "stream",
          "name": "stderr",
          "text": [
            "[I 2023-05-30 11:07:06,186] Trial 5 pruned. \n"
          ]
        },
        {
          "output_type": "stream",
          "name": "stdout",
          "text": [
            "Epoch 5/102.. Train loss: 7780882.673.. Val loss: 355.656.. Train L1 norm: 10.593.. Val L1 norm: 4.705.. Train Linf norm: 2319.101.. Val Linf norm: 1085.069\n",
            "Epoch 1/111.. Train loss: 197.000.. Val loss: 52.879.. Train L1 norm: 1.498.. Val L1 norm: 1.868.. Train Linf norm: 261.743.. Val Linf norm: 583.362\n",
            "Epoch 2/111.. Train loss: 265.808.. Val loss: 56.673.. Train L1 norm: 1.535.. Val L1 norm: 1.723.. Train Linf norm: 265.656.. Val Linf norm: 496.598\n",
            "Epoch 3/111.. Train loss: 521.049.. Val loss: 61.536.. Train L1 norm: 1.551.. Val L1 norm: 1.710.. Train Linf norm: 300.979.. Val Linf norm: 483.699\n",
            "Epoch 4/111.. Train loss: 1566.526.. Val loss: 55.261.. Train L1 norm: 1.658.. Val L1 norm: 1.945.. Train Linf norm: 344.600.. Val Linf norm: 627.414\n",
            "Epoch 5/111.. Train loss: 210.295.. Val loss: 54.576.. Train L1 norm: 1.737.. Val L1 norm: 2.005.. Train Linf norm: 367.282.. Val Linf norm: 660.322\n",
            "Epoch 6/111.. Train loss: 1077.551.. Val loss: 52.316.. Train L1 norm: 1.834.. Val L1 norm: 2.181.. Train Linf norm: 409.158.. Val Linf norm: 758.010\n",
            "Epoch 7/111.. Train loss: 1229.185.. Val loss: 54.442.. Train L1 norm: 1.847.. Val L1 norm: 2.065.. Train Linf norm: 407.028.. Val Linf norm: 691.210\n",
            "Epoch 8/111.. Train loss: 3898.546.. Val loss: 51.947.. Train L1 norm: 1.865.. Val L1 norm: 2.260.. Train Linf norm: 453.848.. Val Linf norm: 798.963\n",
            "Epoch 9/111.. Train loss: 574.833.. Val loss: 52.823.. Train L1 norm: 1.921.. Val L1 norm: 2.195.. Train Linf norm: 439.462.. Val Linf norm: 763.374\n",
            "Epoch 10/111.. Train loss: 98.657.. Val loss: 52.946.. Train L1 norm: 1.910.. Val L1 norm: 2.205.. Train Linf norm: 419.467.. Val Linf norm: 769.023\n",
            "Epoch 11/111.. Train loss: 203.513.. Val loss: 52.770.. Train L1 norm: 1.970.. Val L1 norm: 2.227.. Train Linf norm: 470.352.. Val Linf norm: 780.011\n",
            "Epoch 12/111.. Train loss: 131.860.. Val loss: 53.056.. Train L1 norm: 1.944.. Val L1 norm: 2.219.. Train Linf norm: 413.717.. Val Linf norm: 775.371\n",
            "Epoch 13/111.. Train loss: 861.945.. Val loss: 52.266.. Train L1 norm: 1.970.. Val L1 norm: 2.289.. Train Linf norm: 459.631.. Val Linf norm: 813.130\n",
            "Epoch 14/111.. Train loss: 150.514.. Val loss: 52.005.. Train L1 norm: 1.981.. Val L1 norm: 2.328.. Train Linf norm: 444.226.. Val Linf norm: 834.408\n",
            "Epoch 15/111.. Train loss: 1520.451.. Val loss: 51.826.. Train L1 norm: 2.057.. Val L1 norm: 2.349.. Train Linf norm: 481.909.. Val Linf norm: 845.621\n",
            "Epoch 16/111.. Train loss: 214.373.. Val loss: 51.819.. Train L1 norm: 2.040.. Val L1 norm: 2.351.. Train Linf norm: 471.415.. Val Linf norm: 846.297\n",
            "Epoch 17/111.. Train loss: 1316.412.. Val loss: 52.001.. Train L1 norm: 2.064.. Val L1 norm: 2.331.. Train Linf norm: 515.108.. Val Linf norm: 835.556\n",
            "Epoch 18/111.. Train loss: 371.045.. Val loss: 51.904.. Train L1 norm: 2.029.. Val L1 norm: 2.342.. Train Linf norm: 502.672.. Val Linf norm: 841.455\n",
            "Epoch 19/111.. Train loss: 159.484.. Val loss: 51.848.. Train L1 norm: 1.990.. Val L1 norm: 2.349.. Train Linf norm: 432.134.. Val Linf norm: 845.491\n",
            "Epoch 20/111.. Train loss: 162.093.. Val loss: 51.802.. Train L1 norm: 2.070.. Val L1 norm: 2.356.. Train Linf norm: 481.627.. Val Linf norm: 849.093\n",
            "Epoch 21/111.. Train loss: 2374.133.. Val loss: 52.038.. Train L1 norm: 2.046.. Val L1 norm: 2.332.. Train Linf norm: 494.973.. Val Linf norm: 835.992\n",
            "Epoch 22/111.. Train loss: 673.001.. Val loss: 52.146.. Train L1 norm: 2.081.. Val L1 norm: 2.323.. Train Linf norm: 511.650.. Val Linf norm: 830.899\n",
            "Epoch 23/111.. Train loss: 146.217.. Val loss: 52.108.. Train L1 norm: 2.014.. Val L1 norm: 2.327.. Train Linf norm: 481.484.. Val Linf norm: 833.312\n",
            "Epoch 24/111.. Train loss: 121.193.. Val loss: 52.144.. Train L1 norm: 2.072.. Val L1 norm: 2.324.. Train Linf norm: 474.464.. Val Linf norm: 831.768\n",
            "Epoch 25/111.. Train loss: 475.229.. Val loss: 52.221.. Train L1 norm: 2.048.. Val L1 norm: 2.318.. Train Linf norm: 517.963.. Val Linf norm: 828.515\n",
            "Epoch 26/111.. Train loss: 210.605.. Val loss: 52.287.. Train L1 norm: 2.016.. Val L1 norm: 2.313.. Train Linf norm: 437.244.. Val Linf norm: 825.560\n",
            "Epoch 27/111.. Train loss: 1040.789.. Val loss: 52.262.. Train L1 norm: 2.029.. Val L1 norm: 2.315.. Train Linf norm: 452.845.. Val Linf norm: 826.729\n",
            "Epoch 28/111.. Train loss: 922.591.. Val loss: 52.290.. Train L1 norm: 2.004.. Val L1 norm: 2.313.. Train Linf norm: 467.970.. Val Linf norm: 825.431\n",
            "Epoch 29/111.. Train loss: 101.420.. Val loss: 52.295.. Train L1 norm: 2.007.. Val L1 norm: 2.312.. Train Linf norm: 488.735.. Val Linf norm: 825.214\n",
            "Epoch 30/111.. Train loss: 270.752.. Val loss: 52.279.. Train L1 norm: 2.023.. Val L1 norm: 2.314.. Train Linf norm: 472.781.. Val Linf norm: 825.981\n",
            "Epoch 31/111.. Train loss: 92.551.. Val loss: 52.276.. Train L1 norm: 2.007.. Val L1 norm: 2.314.. Train Linf norm: 424.846.. Val Linf norm: 826.228\n",
            "Epoch 32/111.. Train loss: 1122.772.. Val loss: 52.308.. Train L1 norm: 2.015.. Val L1 norm: 2.312.. Train Linf norm: 482.154.. Val Linf norm: 824.662\n",
            "Epoch 33/111.. Train loss: 847.033.. Val loss: 52.302.. Train L1 norm: 2.012.. Val L1 norm: 2.312.. Train Linf norm: 490.936.. Val Linf norm: 824.912\n",
            "Epoch 34/111.. Train loss: 1316.759.. Val loss: 52.296.. Train L1 norm: 2.006.. Val L1 norm: 2.313.. Train Linf norm: 461.572.. Val Linf norm: 825.206\n",
            "Epoch 35/111.. Train loss: 365.281.. Val loss: 52.294.. Train L1 norm: 2.037.. Val L1 norm: 2.313.. Train Linf norm: 499.424.. Val Linf norm: 825.310\n",
            "Epoch 36/111.. Train loss: 608.242.. Val loss: 52.297.. Train L1 norm: 2.004.. Val L1 norm: 2.312.. Train Linf norm: 463.010.. Val Linf norm: 825.178\n",
            "Epoch 37/111.. Train loss: 187.838.. Val loss: 52.298.. Train L1 norm: 2.026.. Val L1 norm: 2.312.. Train Linf norm: 456.217.. Val Linf norm: 825.143\n",
            "Epoch 38/111.. Train loss: 77.793.. Val loss: 52.299.. Train L1 norm: 2.011.. Val L1 norm: 2.312.. Train Linf norm: 430.285.. Val Linf norm: 825.110\n",
            "Epoch 39/111.. Train loss: 419.795.. Val loss: 52.299.. Train L1 norm: 2.032.. Val L1 norm: 2.312.. Train Linf norm: 493.386.. Val Linf norm: 825.089\n",
            "Epoch 40/111.. Train loss: 141.499.. Val loss: 52.299.. Train L1 norm: 2.030.. Val L1 norm: 2.312.. Train Linf norm: 487.746.. Val Linf norm: 825.100\n",
            "Epoch 41/111.. Train loss: 2062.337.. Val loss: 52.300.. Train L1 norm: 2.018.. Val L1 norm: 2.312.. Train Linf norm: 478.627.. Val Linf norm: 825.043\n",
            "Epoch 42/111.. Train loss: 1779.373.. Val loss: 52.301.. Train L1 norm: 2.028.. Val L1 norm: 2.312.. Train Linf norm: 479.939.. Val Linf norm: 824.993\n",
            "Epoch 43/111.. Train loss: 454.663.. Val loss: 52.301.. Train L1 norm: 2.005.. Val L1 norm: 2.312.. Train Linf norm: 483.107.. Val Linf norm: 825.019\n",
            "Epoch 44/111.. Train loss: 393.660.. Val loss: 52.301.. Train L1 norm: 1.988.. Val L1 norm: 2.312.. Train Linf norm: 394.368.. Val Linf norm: 824.999\n",
            "Epoch 45/111.. Train loss: 184.435.. Val loss: 52.301.. Train L1 norm: 2.029.. Val L1 norm: 2.312.. Train Linf norm: 476.363.. Val Linf norm: 824.998\n",
            "Epoch 46/111.. Train loss: 866.703.. Val loss: 52.301.. Train L1 norm: 1.984.. Val L1 norm: 2.312.. Train Linf norm: 457.057.. Val Linf norm: 825.003\n",
            "Epoch 47/111.. Train loss: 101.531.. Val loss: 52.301.. Train L1 norm: 2.019.. Val L1 norm: 2.312.. Train Linf norm: 462.422.. Val Linf norm: 825.003\n",
            "Epoch 48/111.. Train loss: 682.484.. Val loss: 52.301.. Train L1 norm: 2.022.. Val L1 norm: 2.312.. Train Linf norm: 488.242.. Val Linf norm: 824.998\n",
            "Epoch 49/111.. Train loss: 235.222.. Val loss: 52.301.. Train L1 norm: 2.029.. Val L1 norm: 2.312.. Train Linf norm: 482.028.. Val Linf norm: 824.997\n",
            "Epoch 50/111.. Train loss: 396.598.. Val loss: 52.301.. Train L1 norm: 2.006.. Val L1 norm: 2.312.. Train Linf norm: 468.551.. Val Linf norm: 824.998\n",
            "Epoch 51/111.. Train loss: 244.520.. Val loss: 52.301.. Train L1 norm: 2.051.. Val L1 norm: 2.312.. Train Linf norm: 494.023.. Val Linf norm: 825.000\n",
            "Epoch 52/111.. Train loss: 694.024.. Val loss: 52.301.. Train L1 norm: 2.014.. Val L1 norm: 2.312.. Train Linf norm: 447.224.. Val Linf norm: 824.999\n",
            "Epoch 53/111.. Train loss: 290.594.. Val loss: 52.301.. Train L1 norm: 2.035.. Val L1 norm: 2.312.. Train Linf norm: 448.693.. Val Linf norm: 825.000\n",
            "Epoch 54/111.. Train loss: 135.707.. Val loss: 52.301.. Train L1 norm: 1.991.. Val L1 norm: 2.312.. Train Linf norm: 435.491.. Val Linf norm: 825.000\n",
            "Epoch 55/111.. Train loss: 171.211.. Val loss: 52.301.. Train L1 norm: 2.027.. Val L1 norm: 2.312.. Train Linf norm: 482.915.. Val Linf norm: 825.000\n",
            "Epoch 56/111.. Train loss: 340.346.. Val loss: 52.301.. Train L1 norm: 2.043.. Val L1 norm: 2.312.. Train Linf norm: 507.570.. Val Linf norm: 824.999\n",
            "Epoch 57/111.. Train loss: 255.554.. Val loss: 52.301.. Train L1 norm: 2.007.. Val L1 norm: 2.312.. Train Linf norm: 452.240.. Val Linf norm: 825.000\n",
            "Epoch 58/111.. Train loss: 533.866.. Val loss: 52.301.. Train L1 norm: 2.030.. Val L1 norm: 2.312.. Train Linf norm: 457.206.. Val Linf norm: 824.997\n",
            "Epoch 59/111.. Train loss: 790.350.. Val loss: 52.301.. Train L1 norm: 2.044.. Val L1 norm: 2.312.. Train Linf norm: 498.960.. Val Linf norm: 824.993\n",
            "Epoch 60/111.. Train loss: 1313.600.. Val loss: 52.301.. Train L1 norm: 2.014.. Val L1 norm: 2.312.. Train Linf norm: 486.050.. Val Linf norm: 824.987\n",
            "Epoch 61/111.. Train loss: 183.578.. Val loss: 52.301.. Train L1 norm: 1.999.. Val L1 norm: 2.312.. Train Linf norm: 481.609.. Val Linf norm: 824.987\n",
            "Epoch 62/111.. Train loss: 5847.860.. Val loss: 52.302.. Train L1 norm: 2.027.. Val L1 norm: 2.312.. Train Linf norm: 469.299.. Val Linf norm: 824.973\n",
            "Epoch 63/111.. Train loss: 133.750.. Val loss: 52.302.. Train L1 norm: 2.021.. Val L1 norm: 2.312.. Train Linf norm: 468.764.. Val Linf norm: 824.972\n",
            "Epoch 64/111.. Train loss: 136.561.. Val loss: 52.302.. Train L1 norm: 2.006.. Val L1 norm: 2.312.. Train Linf norm: 469.527.. Val Linf norm: 824.973\n",
            "Epoch 65/111.. Train loss: 128.680.. Val loss: 52.302.. Train L1 norm: 2.001.. Val L1 norm: 2.312.. Train Linf norm: 475.082.. Val Linf norm: 824.973\n",
            "Epoch 66/111.. Train loss: 166.242.. Val loss: 52.302.. Train L1 norm: 2.018.. Val L1 norm: 2.312.. Train Linf norm: 461.742.. Val Linf norm: 824.973\n",
            "Epoch 67/111.. Train loss: 100.158.. Val loss: 52.302.. Train L1 norm: 1.992.. Val L1 norm: 2.312.. Train Linf norm: 468.133.. Val Linf norm: 824.973\n",
            "Epoch 68/111.. Train loss: 1586.379.. Val loss: 52.302.. Train L1 norm: 2.032.. Val L1 norm: 2.312.. Train Linf norm: 471.257.. Val Linf norm: 824.967\n",
            "Epoch 69/111.. Train loss: 868.777.. Val loss: 52.302.. Train L1 norm: 2.029.. Val L1 norm: 2.312.. Train Linf norm: 490.351.. Val Linf norm: 824.967\n",
            "Epoch 70/111.. Train loss: 1019.228.. Val loss: 52.302.. Train L1 norm: 2.026.. Val L1 norm: 2.312.. Train Linf norm: 495.199.. Val Linf norm: 824.962\n",
            "Epoch 71/111.. Train loss: 3013.845.. Val loss: 52.302.. Train L1 norm: 2.059.. Val L1 norm: 2.312.. Train Linf norm: 495.739.. Val Linf norm: 824.953\n",
            "Epoch 72/111.. Train loss: 450.601.. Val loss: 52.302.. Train L1 norm: 2.011.. Val L1 norm: 2.312.. Train Linf norm: 493.366.. Val Linf norm: 824.955\n",
            "Epoch 73/111.. Train loss: 927.062.. Val loss: 52.302.. Train L1 norm: 2.007.. Val L1 norm: 2.312.. Train Linf norm: 477.237.. Val Linf norm: 824.958\n",
            "Epoch 74/111.. Train loss: 155.334.. Val loss: 52.302.. Train L1 norm: 2.042.. Val L1 norm: 2.312.. Train Linf norm: 500.667.. Val Linf norm: 824.958\n",
            "Epoch 75/111.. Train loss: 735.728.. Val loss: 52.302.. Train L1 norm: 2.039.. Val L1 norm: 2.312.. Train Linf norm: 499.909.. Val Linf norm: 824.955\n",
            "Epoch 76/111.. Train loss: 73.229.. Val loss: 52.302.. Train L1 norm: 2.016.. Val L1 norm: 2.312.. Train Linf norm: 507.547.. Val Linf norm: 824.955\n",
            "Epoch 77/111.. Train loss: 492.358.. Val loss: 52.302.. Train L1 norm: 2.042.. Val L1 norm: 2.312.. Train Linf norm: 496.877.. Val Linf norm: 824.954\n",
            "Epoch 78/111.. Train loss: 225.585.. Val loss: 52.302.. Train L1 norm: 2.027.. Val L1 norm: 2.312.. Train Linf norm: 477.560.. Val Linf norm: 824.954\n",
            "Epoch 79/111.. Train loss: 72.569.. Val loss: 52.302.. Train L1 norm: 1.999.. Val L1 norm: 2.312.. Train Linf norm: 481.666.. Val Linf norm: 824.954\n",
            "Epoch 80/111.. Train loss: 196.950.. Val loss: 52.302.. Train L1 norm: 1.996.. Val L1 norm: 2.312.. Train Linf norm: 453.164.. Val Linf norm: 824.953\n",
            "Epoch 81/111.. Train loss: 1154.827.. Val loss: 52.302.. Train L1 norm: 2.032.. Val L1 norm: 2.312.. Train Linf norm: 471.807.. Val Linf norm: 824.958\n",
            "Epoch 82/111.. Train loss: 2026.703.. Val loss: 52.302.. Train L1 norm: 2.007.. Val L1 norm: 2.312.. Train Linf norm: 456.764.. Val Linf norm: 824.952\n",
            "Epoch 83/111.. Train loss: 1031.281.. Val loss: 52.302.. Train L1 norm: 1.998.. Val L1 norm: 2.312.. Train Linf norm: 451.629.. Val Linf norm: 824.949\n",
            "Epoch 84/111.. Train loss: 601.877.. Val loss: 52.302.. Train L1 norm: 2.024.. Val L1 norm: 2.312.. Train Linf norm: 499.159.. Val Linf norm: 824.951\n",
            "Epoch 85/111.. Train loss: 96.789.. Val loss: 52.302.. Train L1 norm: 2.018.. Val L1 norm: 2.312.. Train Linf norm: 460.600.. Val Linf norm: 824.951\n",
            "Epoch 86/111.. Train loss: 694.583.. Val loss: 52.302.. Train L1 norm: 2.018.. Val L1 norm: 2.312.. Train Linf norm: 455.905.. Val Linf norm: 824.949\n",
            "Epoch 87/111.. Train loss: 369.580.. Val loss: 52.302.. Train L1 norm: 2.016.. Val L1 norm: 2.312.. Train Linf norm: 468.938.. Val Linf norm: 824.948\n",
            "Epoch 88/111.. Train loss: 108.721.. Val loss: 52.302.. Train L1 norm: 2.008.. Val L1 norm: 2.312.. Train Linf norm: 438.608.. Val Linf norm: 824.948\n",
            "Epoch 89/111.. Train loss: 420.581.. Val loss: 52.302.. Train L1 norm: 2.027.. Val L1 norm: 2.312.. Train Linf norm: 481.466.. Val Linf norm: 824.948\n",
            "Epoch 90/111.. Train loss: 937.024.. Val loss: 52.302.. Train L1 norm: 2.045.. Val L1 norm: 2.312.. Train Linf norm: 509.539.. Val Linf norm: 824.951\n",
            "Epoch 91/111.. Train loss: 292.576.. Val loss: 52.302.. Train L1 norm: 2.008.. Val L1 norm: 2.312.. Train Linf norm: 452.262.. Val Linf norm: 824.951\n",
            "Epoch 92/111.. Train loss: 119.875.. Val loss: 52.302.. Train L1 norm: 2.008.. Val L1 norm: 2.312.. Train Linf norm: 475.656.. Val Linf norm: 824.951\n",
            "Epoch 93/111.. Train loss: 142.805.. Val loss: 52.302.. Train L1 norm: 2.020.. Val L1 norm: 2.312.. Train Linf norm: 468.984.. Val Linf norm: 824.951\n",
            "Epoch 94/111.. Train loss: 690.425.. Val loss: 52.302.. Train L1 norm: 2.017.. Val L1 norm: 2.312.. Train Linf norm: 462.212.. Val Linf norm: 824.953\n",
            "Epoch 95/111.. Train loss: 860.265.. Val loss: 52.302.. Train L1 norm: 2.028.. Val L1 norm: 2.312.. Train Linf norm: 473.769.. Val Linf norm: 824.951\n",
            "Epoch 96/111.. Train loss: 312.938.. Val loss: 52.302.. Train L1 norm: 1.995.. Val L1 norm: 2.312.. Train Linf norm: 458.072.. Val Linf norm: 824.950\n",
            "Epoch 97/111.. Train loss: 783.342.. Val loss: 52.302.. Train L1 norm: 1.984.. Val L1 norm: 2.312.. Train Linf norm: 423.678.. Val Linf norm: 824.948\n",
            "Epoch 98/111.. Train loss: 715.465.. Val loss: 52.302.. Train L1 norm: 2.018.. Val L1 norm: 2.312.. Train Linf norm: 500.706.. Val Linf norm: 824.946\n",
            "Epoch 99/111.. Train loss: 468.074.. Val loss: 52.302.. Train L1 norm: 2.017.. Val L1 norm: 2.312.. Train Linf norm: 478.706.. Val Linf norm: 824.947\n",
            "Epoch 100/111.. Train loss: 1726.215.. Val loss: 52.302.. Train L1 norm: 2.005.. Val L1 norm: 2.312.. Train Linf norm: 438.348.. Val Linf norm: 824.942\n",
            "Epoch 101/111.. Train loss: 266.564.. Val loss: 52.302.. Train L1 norm: 1.997.. Val L1 norm: 2.312.. Train Linf norm: 466.968.. Val Linf norm: 824.941\n",
            "Epoch 102/111.. Train loss: 1354.087.. Val loss: 52.302.. Train L1 norm: 1.996.. Val L1 norm: 2.312.. Train Linf norm: 448.646.. Val Linf norm: 824.937\n",
            "Epoch 103/111.. Train loss: 226.207.. Val loss: 52.302.. Train L1 norm: 2.010.. Val L1 norm: 2.312.. Train Linf norm: 474.064.. Val Linf norm: 824.937\n",
            "Epoch 104/111.. Train loss: 359.904.. Val loss: 52.302.. Train L1 norm: 2.023.. Val L1 norm: 2.312.. Train Linf norm: 485.953.. Val Linf norm: 824.936\n",
            "Epoch 105/111.. Train loss: 193.125.. Val loss: 52.302.. Train L1 norm: 1.995.. Val L1 norm: 2.312.. Train Linf norm: 455.703.. Val Linf norm: 824.936\n",
            "Epoch 106/111.. Train loss: 540.044.. Val loss: 52.302.. Train L1 norm: 2.019.. Val L1 norm: 2.312.. Train Linf norm: 480.038.. Val Linf norm: 824.938\n",
            "Epoch 107/111.. Train loss: 533.464.. Val loss: 52.302.. Train L1 norm: 2.012.. Val L1 norm: 2.312.. Train Linf norm: 440.194.. Val Linf norm: 824.937\n",
            "Epoch 108/111.. Train loss: 439.622.. Val loss: 52.302.. Train L1 norm: 2.027.. Val L1 norm: 2.312.. Train Linf norm: 485.062.. Val Linf norm: 824.936\n",
            "Epoch 109/111.. Train loss: 162.563.. Val loss: 52.302.. Train L1 norm: 1.997.. Val L1 norm: 2.312.. Train Linf norm: 459.059.. Val Linf norm: 824.936\n",
            "Epoch 110/111.. Train loss: 205.122.. Val loss: 52.302.. Train L1 norm: 2.053.. Val L1 norm: 2.312.. Train Linf norm: 526.308.. Val Linf norm: 824.935\n"
          ]
        },
        {
          "output_type": "stream",
          "name": "stderr",
          "text": [
            "[I 2023-05-30 11:09:37,843] Trial 6 finished with value: 2.3120396103541054 and parameters: {'n_layers': 4, 'n_units_0': 100, 'n_units_1': 1887, 'n_units_2': 875, 'n_units_3': 3287, 'hidden_activation': 'SoftPlus', 'output_activation': 'Linear', 'loss': 'MSE', 'optimizer': 'Adagrad', 'lr': 1.231575035304394e-05, 'batch_size': 1024, 'n_epochs': 111, 'scheduler': 'ReduceLROnPlateau', 'softplus_beta': 1.3691339941469312, 'dropout_rate': 0.0679985004800539, 'factor': 0.18753090838768946, 'patience': 5, 'threshold': 0.00025214461167845153}. Best is trial 1 with value: 1.2404640170415242.\n"
          ]
        },
        {
          "output_type": "stream",
          "name": "stdout",
          "text": [
            "Epoch 111/111.. Train loss: 547.619.. Val loss: 52.302.. Train L1 norm: 2.035.. Val L1 norm: 2.312.. Train Linf norm: 482.850.. Val Linf norm: 824.934\n"
          ]
        },
        {
          "output_type": "stream",
          "name": "stderr",
          "text": [
            "[I 2023-05-30 11:10:19,533] Trial 7 pruned. \n"
          ]
        },
        {
          "output_type": "stream",
          "name": "stdout",
          "text": [
            "Epoch 1/58.. Train loss: 3.996.. Val loss: 3.431.. Train L1 norm: 4.398.. Val L1 norm: 5.485.. Train Linf norm: 86.997.. Val Linf norm: 126.076\n",
            "Epoch 1/146.. Train loss: 1770628062.397.. Val loss: 58.375.. Train L1 norm: 867.724.. Val L1 norm: 1.013.. Train Linf norm: 65740.490.. Val Linf norm: 4.613\n",
            "Epoch 2/146.. Train loss: 64.323.. Val loss: 58.382.. Train L1 norm: 1.014.. Val L1 norm: 1.013.. Train Linf norm: 4.891.. Val Linf norm: 4.558\n",
            "Epoch 3/146.. Train loss: 63.775.. Val loss: 58.390.. Train L1 norm: 1.015.. Val L1 norm: 1.013.. Train Linf norm: 5.155.. Val Linf norm: 4.512\n",
            "Epoch 4/146.. Train loss: 63.637.. Val loss: 58.392.. Train L1 norm: 1.012.. Val L1 norm: 1.013.. Train Linf norm: 4.229.. Val Linf norm: 4.468\n",
            "Epoch 5/146.. Train loss: 64.480.. Val loss: 58.415.. Train L1 norm: 1.009.. Val L1 norm: 1.013.. Train Linf norm: 3.652.. Val Linf norm: 4.413\n",
            "Epoch 6/146.. Train loss: 63.615.. Val loss: 58.414.. Train L1 norm: 1.013.. Val L1 norm: 1.013.. Train Linf norm: 4.430.. Val Linf norm: 4.376\n",
            "Epoch 7/146.. Train loss: 64.004.. Val loss: 58.423.. Train L1 norm: 1.009.. Val L1 norm: 1.013.. Train Linf norm: 3.501.. Val Linf norm: 4.288\n",
            "Epoch 8/146.. Train loss: 63.659.. Val loss: 58.423.. Train L1 norm: 1.015.. Val L1 norm: 1.013.. Train Linf norm: 4.831.. Val Linf norm: 4.280\n",
            "Epoch 9/146.. Train loss: 63.579.. Val loss: 58.423.. Train L1 norm: 1.012.. Val L1 norm: 1.013.. Train Linf norm: 4.434.. Val Linf norm: 4.272\n",
            "Epoch 10/146.. Train loss: 64.042.. Val loss: 58.423.. Train L1 norm: 1.012.. Val L1 norm: 1.013.. Train Linf norm: 4.327.. Val Linf norm: 4.263\n",
            "Epoch 11/146.. Train loss: 66.398.. Val loss: 58.423.. Train L1 norm: 1.018.. Val L1 norm: 1.013.. Train Linf norm: 5.824.. Val Linf norm: 4.254\n",
            "Epoch 12/146.. Train loss: 63.628.. Val loss: 58.423.. Train L1 norm: 1.011.. Val L1 norm: 1.013.. Train Linf norm: 3.952.. Val Linf norm: 4.246\n",
            "Epoch 13/146.. Train loss: 65.404.. Val loss: 58.423.. Train L1 norm: 1.011.. Val L1 norm: 1.012.. Train Linf norm: 3.983.. Val Linf norm: 4.231\n",
            "Epoch 14/146.. Train loss: 63.843.. Val loss: 58.423.. Train L1 norm: 1.016.. Val L1 norm: 1.012.. Train Linf norm: 5.258.. Val Linf norm: 4.229\n",
            "Epoch 15/146.. Train loss: 64.318.. Val loss: 58.423.. Train L1 norm: 1.013.. Val L1 norm: 1.012.. Train Linf norm: 4.407.. Val Linf norm: 4.227\n",
            "Epoch 16/146.. Train loss: 63.809.. Val loss: 58.423.. Train L1 norm: 1.012.. Val L1 norm: 1.012.. Train Linf norm: 4.402.. Val Linf norm: 4.225\n",
            "Epoch 17/146.. Train loss: 63.862.. Val loss: 58.423.. Train L1 norm: 1.011.. Val L1 norm: 1.012.. Train Linf norm: 3.908.. Val Linf norm: 4.223\n",
            "Epoch 18/146.. Train loss: 63.585.. Val loss: 58.423.. Train L1 norm: 1.013.. Val L1 norm: 1.012.. Train Linf norm: 4.279.. Val Linf norm: 4.221\n",
            "Epoch 19/146.. Train loss: 63.672.. Val loss: 58.423.. Train L1 norm: 1.009.. Val L1 norm: 1.012.. Train Linf norm: 3.611.. Val Linf norm: 4.219\n",
            "Epoch 20/146.. Train loss: 78.035.. Val loss: 58.423.. Train L1 norm: 1.013.. Val L1 norm: 1.012.. Train Linf norm: 4.619.. Val Linf norm: 4.219\n",
            "Epoch 21/146.. Train loss: 65.539.. Val loss: 58.423.. Train L1 norm: 1.011.. Val L1 norm: 1.012.. Train Linf norm: 3.942.. Val Linf norm: 4.218\n",
            "Epoch 22/146.. Train loss: 63.601.. Val loss: 58.423.. Train L1 norm: 1.013.. Val L1 norm: 1.012.. Train Linf norm: 4.206.. Val Linf norm: 4.218\n",
            "Epoch 23/146.. Train loss: 64.252.. Val loss: 58.423.. Train L1 norm: 1.010.. Val L1 norm: 1.012.. Train Linf norm: 3.792.. Val Linf norm: 4.218\n",
            "Epoch 24/146.. Train loss: 63.809.. Val loss: 58.423.. Train L1 norm: 1.010.. Val L1 norm: 1.012.. Train Linf norm: 3.785.. Val Linf norm: 4.217\n",
            "Epoch 25/146.. Train loss: 63.913.. Val loss: 58.423.. Train L1 norm: 1.013.. Val L1 norm: 1.012.. Train Linf norm: 4.609.. Val Linf norm: 4.217\n",
            "Epoch 26/146.. Train loss: 63.627.. Val loss: 58.423.. Train L1 norm: 1.010.. Val L1 norm: 1.012.. Train Linf norm: 3.559.. Val Linf norm: 4.217\n",
            "Epoch 27/146.. Train loss: 63.618.. Val loss: 58.423.. Train L1 norm: 1.010.. Val L1 norm: 1.012.. Train Linf norm: 3.536.. Val Linf norm: 4.217\n",
            "Epoch 28/146.. Train loss: 63.787.. Val loss: 58.423.. Train L1 norm: 1.015.. Val L1 norm: 1.012.. Train Linf norm: 4.965.. Val Linf norm: 4.217\n",
            "Epoch 29/146.. Train loss: 63.612.. Val loss: 58.423.. Train L1 norm: 1.013.. Val L1 norm: 1.012.. Train Linf norm: 4.652.. Val Linf norm: 4.216\n",
            "Epoch 30/146.. Train loss: 65.094.. Val loss: 58.423.. Train L1 norm: 1.009.. Val L1 norm: 1.012.. Train Linf norm: 3.589.. Val Linf norm: 4.216\n",
            "Epoch 31/146.. Train loss: 63.647.. Val loss: 58.423.. Train L1 norm: 1.010.. Val L1 norm: 1.012.. Train Linf norm: 3.761.. Val Linf norm: 4.216\n",
            "Epoch 32/146.. Train loss: 63.693.. Val loss: 58.423.. Train L1 norm: 1.009.. Val L1 norm: 1.012.. Train Linf norm: 3.516.. Val Linf norm: 4.216\n",
            "Epoch 33/146.. Train loss: 63.673.. Val loss: 58.423.. Train L1 norm: 1.011.. Val L1 norm: 1.012.. Train Linf norm: 3.979.. Val Linf norm: 4.216\n",
            "Epoch 34/146.. Train loss: 63.579.. Val loss: 58.423.. Train L1 norm: 1.010.. Val L1 norm: 1.012.. Train Linf norm: 3.781.. Val Linf norm: 4.216\n",
            "Epoch 35/146.. Train loss: 64.090.. Val loss: 58.423.. Train L1 norm: 1.011.. Val L1 norm: 1.012.. Train Linf norm: 4.024.. Val Linf norm: 4.216\n",
            "Epoch 36/146.. Train loss: 65.297.. Val loss: 58.423.. Train L1 norm: 1.017.. Val L1 norm: 1.012.. Train Linf norm: 5.327.. Val Linf norm: 4.216\n",
            "Epoch 37/146.. Train loss: 63.712.. Val loss: 58.423.. Train L1 norm: 1.010.. Val L1 norm: 1.012.. Train Linf norm: 3.737.. Val Linf norm: 4.216\n",
            "Epoch 38/146.. Train loss: 64.722.. Val loss: 58.423.. Train L1 norm: 1.010.. Val L1 norm: 1.012.. Train Linf norm: 3.488.. Val Linf norm: 4.216\n",
            "Epoch 39/146.. Train loss: 63.602.. Val loss: 58.423.. Train L1 norm: 1.009.. Val L1 norm: 1.012.. Train Linf norm: 3.387.. Val Linf norm: 4.216\n",
            "Epoch 40/146.. Train loss: 63.759.. Val loss: 58.423.. Train L1 norm: 1.012.. Val L1 norm: 1.012.. Train Linf norm: 4.151.. Val Linf norm: 4.216\n",
            "Epoch 41/146.. Train loss: 68.266.. Val loss: 58.423.. Train L1 norm: 1.011.. Val L1 norm: 1.012.. Train Linf norm: 3.979.. Val Linf norm: 4.216\n",
            "Epoch 42/146.. Train loss: 64.014.. Val loss: 58.423.. Train L1 norm: 1.010.. Val L1 norm: 1.012.. Train Linf norm: 3.715.. Val Linf norm: 4.216\n",
            "Epoch 43/146.. Train loss: 63.688.. Val loss: 58.423.. Train L1 norm: 1.011.. Val L1 norm: 1.012.. Train Linf norm: 3.949.. Val Linf norm: 4.216\n",
            "Epoch 44/146.. Train loss: 64.317.. Val loss: 58.423.. Train L1 norm: 1.012.. Val L1 norm: 1.012.. Train Linf norm: 4.028.. Val Linf norm: 4.216\n",
            "Epoch 45/146.. Train loss: 63.572.. Val loss: 58.423.. Train L1 norm: 1.014.. Val L1 norm: 1.012.. Train Linf norm: 4.887.. Val Linf norm: 4.216\n",
            "Epoch 46/146.. Train loss: 63.627.. Val loss: 58.423.. Train L1 norm: 1.010.. Val L1 norm: 1.012.. Train Linf norm: 3.689.. Val Linf norm: 4.216\n",
            "Epoch 47/146.. Train loss: 63.627.. Val loss: 58.423.. Train L1 norm: 1.010.. Val L1 norm: 1.012.. Train Linf norm: 3.673.. Val Linf norm: 4.216\n",
            "Epoch 48/146.. Train loss: 63.598.. Val loss: 58.423.. Train L1 norm: 1.009.. Val L1 norm: 1.012.. Train Linf norm: 3.344.. Val Linf norm: 4.216\n",
            "Epoch 49/146.. Train loss: 63.661.. Val loss: 58.423.. Train L1 norm: 1.011.. Val L1 norm: 1.012.. Train Linf norm: 3.909.. Val Linf norm: 4.216\n",
            "Epoch 50/146.. Train loss: 63.823.. Val loss: 58.423.. Train L1 norm: 1.011.. Val L1 norm: 1.012.. Train Linf norm: 4.045.. Val Linf norm: 4.216\n",
            "Epoch 51/146.. Train loss: 66.912.. Val loss: 58.423.. Train L1 norm: 1.014.. Val L1 norm: 1.012.. Train Linf norm: 4.765.. Val Linf norm: 4.216\n",
            "Epoch 52/146.. Train loss: 63.591.. Val loss: 58.423.. Train L1 norm: 1.009.. Val L1 norm: 1.012.. Train Linf norm: 3.544.. Val Linf norm: 4.216\n",
            "Epoch 53/146.. Train loss: 63.842.. Val loss: 58.423.. Train L1 norm: 1.010.. Val L1 norm: 1.012.. Train Linf norm: 3.619.. Val Linf norm: 4.216\n",
            "Epoch 54/146.. Train loss: 65.373.. Val loss: 58.423.. Train L1 norm: 1.010.. Val L1 norm: 1.012.. Train Linf norm: 3.887.. Val Linf norm: 4.216\n",
            "Epoch 55/146.. Train loss: 63.656.. Val loss: 58.423.. Train L1 norm: 1.009.. Val L1 norm: 1.012.. Train Linf norm: 3.510.. Val Linf norm: 4.216\n",
            "Epoch 56/146.. Train loss: 63.786.. Val loss: 58.423.. Train L1 norm: 1.009.. Val L1 norm: 1.012.. Train Linf norm: 3.578.. Val Linf norm: 4.216\n",
            "Epoch 57/146.. Train loss: 63.671.. Val loss: 58.423.. Train L1 norm: 1.009.. Val L1 norm: 1.012.. Train Linf norm: 3.518.. Val Linf norm: 4.216\n",
            "Epoch 58/146.. Train loss: 63.762.. Val loss: 58.423.. Train L1 norm: 1.011.. Val L1 norm: 1.012.. Train Linf norm: 3.837.. Val Linf norm: 4.216\n",
            "Epoch 59/146.. Train loss: 64.459.. Val loss: 58.423.. Train L1 norm: 1.011.. Val L1 norm: 1.012.. Train Linf norm: 3.918.. Val Linf norm: 4.216\n",
            "Epoch 60/146.. Train loss: 64.366.. Val loss: 58.423.. Train L1 norm: 1.010.. Val L1 norm: 1.012.. Train Linf norm: 3.948.. Val Linf norm: 4.216\n",
            "Epoch 61/146.. Train loss: 64.192.. Val loss: 58.423.. Train L1 norm: 1.009.. Val L1 norm: 1.012.. Train Linf norm: 3.670.. Val Linf norm: 4.216\n",
            "Epoch 62/146.. Train loss: 63.586.. Val loss: 58.423.. Train L1 norm: 1.010.. Val L1 norm: 1.012.. Train Linf norm: 3.640.. Val Linf norm: 4.216\n",
            "Epoch 63/146.. Train loss: 66.718.. Val loss: 58.423.. Train L1 norm: 1.012.. Val L1 norm: 1.012.. Train Linf norm: 4.013.. Val Linf norm: 4.216\n",
            "Epoch 64/146.. Train loss: 63.675.. Val loss: 58.423.. Train L1 norm: 1.012.. Val L1 norm: 1.012.. Train Linf norm: 4.179.. Val Linf norm: 4.216\n",
            "Epoch 65/146.. Train loss: 65.420.. Val loss: 58.423.. Train L1 norm: 1.010.. Val L1 norm: 1.012.. Train Linf norm: 3.856.. Val Linf norm: 4.216\n",
            "Epoch 66/146.. Train loss: 63.612.. Val loss: 58.423.. Train L1 norm: 1.011.. Val L1 norm: 1.012.. Train Linf norm: 4.116.. Val Linf norm: 4.216\n",
            "Epoch 67/146.. Train loss: 63.880.. Val loss: 58.423.. Train L1 norm: 1.010.. Val L1 norm: 1.012.. Train Linf norm: 3.754.. Val Linf norm: 4.216\n",
            "Epoch 68/146.. Train loss: 63.606.. Val loss: 58.423.. Train L1 norm: 1.010.. Val L1 norm: 1.012.. Train Linf norm: 3.829.. Val Linf norm: 4.216\n",
            "Epoch 69/146.. Train loss: 63.605.. Val loss: 58.423.. Train L1 norm: 1.013.. Val L1 norm: 1.012.. Train Linf norm: 4.415.. Val Linf norm: 4.216\n",
            "Epoch 70/146.. Train loss: 64.148.. Val loss: 58.423.. Train L1 norm: 1.014.. Val L1 norm: 1.012.. Train Linf norm: 4.733.. Val Linf norm: 4.216\n",
            "Epoch 71/146.. Train loss: 64.395.. Val loss: 58.423.. Train L1 norm: 1.014.. Val L1 norm: 1.012.. Train Linf norm: 4.603.. Val Linf norm: 4.216\n",
            "Epoch 72/146.. Train loss: 63.798.. Val loss: 58.423.. Train L1 norm: 1.009.. Val L1 norm: 1.012.. Train Linf norm: 3.533.. Val Linf norm: 4.216\n",
            "Epoch 73/146.. Train loss: 63.890.. Val loss: 58.423.. Train L1 norm: 1.009.. Val L1 norm: 1.012.. Train Linf norm: 3.521.. Val Linf norm: 4.216\n",
            "Epoch 74/146.. Train loss: 63.634.. Val loss: 58.423.. Train L1 norm: 1.009.. Val L1 norm: 1.012.. Train Linf norm: 3.478.. Val Linf norm: 4.216\n",
            "Epoch 75/146.. Train loss: 64.101.. Val loss: 58.423.. Train L1 norm: 1.012.. Val L1 norm: 1.012.. Train Linf norm: 4.275.. Val Linf norm: 4.216\n",
            "Epoch 76/146.. Train loss: 63.617.. Val loss: 58.423.. Train L1 norm: 1.011.. Val L1 norm: 1.012.. Train Linf norm: 4.045.. Val Linf norm: 4.216\n",
            "Epoch 77/146.. Train loss: 63.596.. Val loss: 58.423.. Train L1 norm: 1.011.. Val L1 norm: 1.012.. Train Linf norm: 4.017.. Val Linf norm: 4.216\n",
            "Epoch 78/146.. Train loss: 63.632.. Val loss: 58.423.. Train L1 norm: 1.013.. Val L1 norm: 1.012.. Train Linf norm: 4.537.. Val Linf norm: 4.216\n",
            "Epoch 79/146.. Train loss: 63.625.. Val loss: 58.423.. Train L1 norm: 1.012.. Val L1 norm: 1.012.. Train Linf norm: 4.176.. Val Linf norm: 4.216\n",
            "Epoch 80/146.. Train loss: 63.756.. Val loss: 58.423.. Train L1 norm: 1.008.. Val L1 norm: 1.012.. Train Linf norm: 3.336.. Val Linf norm: 4.216\n",
            "Epoch 81/146.. Train loss: 67.591.. Val loss: 58.423.. Train L1 norm: 1.014.. Val L1 norm: 1.012.. Train Linf norm: 4.686.. Val Linf norm: 4.216\n",
            "Epoch 82/146.. Train loss: 65.131.. Val loss: 58.423.. Train L1 norm: 1.011.. Val L1 norm: 1.012.. Train Linf norm: 3.739.. Val Linf norm: 4.216\n",
            "Epoch 83/146.. Train loss: 63.679.. Val loss: 58.423.. Train L1 norm: 1.010.. Val L1 norm: 1.012.. Train Linf norm: 3.799.. Val Linf norm: 4.216\n",
            "Epoch 84/146.. Train loss: 63.944.. Val loss: 58.423.. Train L1 norm: 1.011.. Val L1 norm: 1.012.. Train Linf norm: 3.933.. Val Linf norm: 4.216\n",
            "Epoch 85/146.. Train loss: 65.407.. Val loss: 58.423.. Train L1 norm: 1.011.. Val L1 norm: 1.012.. Train Linf norm: 4.093.. Val Linf norm: 4.216\n",
            "Epoch 86/146.. Train loss: 63.679.. Val loss: 58.423.. Train L1 norm: 1.010.. Val L1 norm: 1.012.. Train Linf norm: 3.699.. Val Linf norm: 4.216\n",
            "Epoch 87/146.. Train loss: 64.282.. Val loss: 58.423.. Train L1 norm: 1.009.. Val L1 norm: 1.012.. Train Linf norm: 3.558.. Val Linf norm: 4.216\n",
            "Epoch 88/146.. Train loss: 63.881.. Val loss: 58.423.. Train L1 norm: 1.010.. Val L1 norm: 1.012.. Train Linf norm: 3.857.. Val Linf norm: 4.216\n",
            "Epoch 89/146.. Train loss: 63.578.. Val loss: 58.423.. Train L1 norm: 1.009.. Val L1 norm: 1.012.. Train Linf norm: 3.604.. Val Linf norm: 4.216\n",
            "Epoch 90/146.. Train loss: 63.711.. Val loss: 58.423.. Train L1 norm: 1.010.. Val L1 norm: 1.012.. Train Linf norm: 3.731.. Val Linf norm: 4.216\n",
            "Epoch 91/146.. Train loss: 65.462.. Val loss: 58.423.. Train L1 norm: 1.011.. Val L1 norm: 1.012.. Train Linf norm: 4.049.. Val Linf norm: 4.216\n",
            "Epoch 92/146.. Train loss: 64.276.. Val loss: 58.423.. Train L1 norm: 1.010.. Val L1 norm: 1.012.. Train Linf norm: 3.816.. Val Linf norm: 4.216\n",
            "Epoch 93/146.. Train loss: 63.611.. Val loss: 58.423.. Train L1 norm: 1.010.. Val L1 norm: 1.012.. Train Linf norm: 3.745.. Val Linf norm: 4.216\n",
            "Epoch 94/146.. Train loss: 63.646.. Val loss: 58.423.. Train L1 norm: 1.011.. Val L1 norm: 1.012.. Train Linf norm: 4.075.. Val Linf norm: 4.216\n",
            "Epoch 95/146.. Train loss: 63.866.. Val loss: 58.423.. Train L1 norm: 1.011.. Val L1 norm: 1.012.. Train Linf norm: 4.067.. Val Linf norm: 4.216\n",
            "Epoch 96/146.. Train loss: 63.596.. Val loss: 58.423.. Train L1 norm: 1.009.. Val L1 norm: 1.012.. Train Linf norm: 3.524.. Val Linf norm: 4.216\n",
            "Epoch 97/146.. Train loss: 63.613.. Val loss: 58.423.. Train L1 norm: 1.012.. Val L1 norm: 1.012.. Train Linf norm: 4.186.. Val Linf norm: 4.216\n",
            "Epoch 98/146.. Train loss: 64.264.. Val loss: 58.423.. Train L1 norm: 1.011.. Val L1 norm: 1.012.. Train Linf norm: 4.097.. Val Linf norm: 4.216\n",
            "Epoch 99/146.. Train loss: 63.587.. Val loss: 58.423.. Train L1 norm: 1.011.. Val L1 norm: 1.012.. Train Linf norm: 4.043.. Val Linf norm: 4.216\n",
            "Epoch 100/146.. Train loss: 63.621.. Val loss: 58.423.. Train L1 norm: 1.013.. Val L1 norm: 1.012.. Train Linf norm: 4.308.. Val Linf norm: 4.216\n",
            "Epoch 101/146.. Train loss: 63.644.. Val loss: 58.423.. Train L1 norm: 1.012.. Val L1 norm: 1.012.. Train Linf norm: 4.191.. Val Linf norm: 4.216\n",
            "Epoch 102/146.. Train loss: 63.917.. Val loss: 58.423.. Train L1 norm: 1.014.. Val L1 norm: 1.012.. Train Linf norm: 4.616.. Val Linf norm: 4.216\n",
            "Epoch 103/146.. Train loss: 63.977.. Val loss: 58.423.. Train L1 norm: 1.018.. Val L1 norm: 1.012.. Train Linf norm: 5.662.. Val Linf norm: 4.216\n",
            "Epoch 104/146.. Train loss: 63.599.. Val loss: 58.423.. Train L1 norm: 1.012.. Val L1 norm: 1.012.. Train Linf norm: 4.268.. Val Linf norm: 4.216\n",
            "Epoch 105/146.. Train loss: 63.580.. Val loss: 58.423.. Train L1 norm: 1.010.. Val L1 norm: 1.012.. Train Linf norm: 3.656.. Val Linf norm: 4.216\n",
            "Epoch 106/146.. Train loss: 63.922.. Val loss: 58.423.. Train L1 norm: 1.012.. Val L1 norm: 1.012.. Train Linf norm: 4.106.. Val Linf norm: 4.216\n",
            "Epoch 107/146.. Train loss: 63.720.. Val loss: 58.423.. Train L1 norm: 1.012.. Val L1 norm: 1.012.. Train Linf norm: 4.120.. Val Linf norm: 4.216\n",
            "Epoch 108/146.. Train loss: 63.591.. Val loss: 58.423.. Train L1 norm: 1.008.. Val L1 norm: 1.012.. Train Linf norm: 3.233.. Val Linf norm: 4.216\n",
            "Epoch 109/146.. Train loss: 63.606.. Val loss: 58.423.. Train L1 norm: 1.010.. Val L1 norm: 1.012.. Train Linf norm: 3.791.. Val Linf norm: 4.216\n",
            "Epoch 110/146.. Train loss: 84.863.. Val loss: 58.423.. Train L1 norm: 1.012.. Val L1 norm: 1.012.. Train Linf norm: 4.118.. Val Linf norm: 4.216\n",
            "Epoch 111/146.. Train loss: 64.207.. Val loss: 58.423.. Train L1 norm: 1.015.. Val L1 norm: 1.012.. Train Linf norm: 5.082.. Val Linf norm: 4.216\n",
            "Epoch 112/146.. Train loss: 63.917.. Val loss: 58.423.. Train L1 norm: 1.015.. Val L1 norm: 1.012.. Train Linf norm: 5.000.. Val Linf norm: 4.216\n",
            "Epoch 113/146.. Train loss: 63.806.. Val loss: 58.423.. Train L1 norm: 1.010.. Val L1 norm: 1.012.. Train Linf norm: 3.805.. Val Linf norm: 4.216\n",
            "Epoch 114/146.. Train loss: 63.586.. Val loss: 58.423.. Train L1 norm: 1.009.. Val L1 norm: 1.012.. Train Linf norm: 3.428.. Val Linf norm: 4.216\n",
            "Epoch 115/146.. Train loss: 65.898.. Val loss: 58.423.. Train L1 norm: 1.013.. Val L1 norm: 1.012.. Train Linf norm: 4.611.. Val Linf norm: 4.216\n",
            "Epoch 116/146.. Train loss: 63.608.. Val loss: 58.423.. Train L1 norm: 1.010.. Val L1 norm: 1.012.. Train Linf norm: 3.954.. Val Linf norm: 4.216\n",
            "Epoch 117/146.. Train loss: 65.344.. Val loss: 58.423.. Train L1 norm: 1.010.. Val L1 norm: 1.012.. Train Linf norm: 3.641.. Val Linf norm: 4.216\n",
            "Epoch 118/146.. Train loss: 71.322.. Val loss: 58.423.. Train L1 norm: 1.012.. Val L1 norm: 1.012.. Train Linf norm: 4.291.. Val Linf norm: 4.216\n",
            "Epoch 119/146.. Train loss: 63.914.. Val loss: 58.423.. Train L1 norm: 1.010.. Val L1 norm: 1.012.. Train Linf norm: 3.908.. Val Linf norm: 4.216\n",
            "Epoch 120/146.. Train loss: 63.763.. Val loss: 58.423.. Train L1 norm: 1.013.. Val L1 norm: 1.012.. Train Linf norm: 4.489.. Val Linf norm: 4.216\n",
            "Epoch 121/146.. Train loss: 63.656.. Val loss: 58.423.. Train L1 norm: 1.008.. Val L1 norm: 1.012.. Train Linf norm: 3.337.. Val Linf norm: 4.216\n",
            "Epoch 122/146.. Train loss: 63.727.. Val loss: 58.423.. Train L1 norm: 1.014.. Val L1 norm: 1.012.. Train Linf norm: 4.734.. Val Linf norm: 4.216\n",
            "Epoch 123/146.. Train loss: 64.284.. Val loss: 58.423.. Train L1 norm: 1.010.. Val L1 norm: 1.012.. Train Linf norm: 3.701.. Val Linf norm: 4.216\n",
            "Epoch 124/146.. Train loss: 63.597.. Val loss: 58.423.. Train L1 norm: 1.011.. Val L1 norm: 1.012.. Train Linf norm: 3.819.. Val Linf norm: 4.216\n",
            "Epoch 125/146.. Train loss: 63.598.. Val loss: 58.423.. Train L1 norm: 1.010.. Val L1 norm: 1.012.. Train Linf norm: 3.637.. Val Linf norm: 4.216\n",
            "Epoch 126/146.. Train loss: 63.764.. Val loss: 58.423.. Train L1 norm: 1.014.. Val L1 norm: 1.012.. Train Linf norm: 4.694.. Val Linf norm: 4.216\n",
            "Epoch 127/146.. Train loss: 63.621.. Val loss: 58.423.. Train L1 norm: 1.011.. Val L1 norm: 1.012.. Train Linf norm: 4.048.. Val Linf norm: 4.216\n",
            "Epoch 128/146.. Train loss: 63.599.. Val loss: 58.423.. Train L1 norm: 1.009.. Val L1 norm: 1.012.. Train Linf norm: 3.623.. Val Linf norm: 4.216\n",
            "Epoch 129/146.. Train loss: 64.832.. Val loss: 58.423.. Train L1 norm: 1.011.. Val L1 norm: 1.012.. Train Linf norm: 3.980.. Val Linf norm: 4.216\n",
            "Epoch 130/146.. Train loss: 63.598.. Val loss: 58.423.. Train L1 norm: 1.010.. Val L1 norm: 1.012.. Train Linf norm: 3.725.. Val Linf norm: 4.216\n",
            "Epoch 131/146.. Train loss: 63.768.. Val loss: 58.423.. Train L1 norm: 1.012.. Val L1 norm: 1.012.. Train Linf norm: 4.358.. Val Linf norm: 4.216\n",
            "Epoch 132/146.. Train loss: 68.295.. Val loss: 58.423.. Train L1 norm: 1.011.. Val L1 norm: 1.012.. Train Linf norm: 3.971.. Val Linf norm: 4.216\n",
            "Epoch 133/146.. Train loss: 63.809.. Val loss: 58.423.. Train L1 norm: 1.009.. Val L1 norm: 1.012.. Train Linf norm: 3.579.. Val Linf norm: 4.216\n",
            "Epoch 134/146.. Train loss: 63.644.. Val loss: 58.423.. Train L1 norm: 1.011.. Val L1 norm: 1.012.. Train Linf norm: 3.874.. Val Linf norm: 4.216\n",
            "Epoch 135/146.. Train loss: 63.675.. Val loss: 58.423.. Train L1 norm: 1.011.. Val L1 norm: 1.012.. Train Linf norm: 3.876.. Val Linf norm: 4.216\n",
            "Epoch 136/146.. Train loss: 67.848.. Val loss: 58.423.. Train L1 norm: 1.010.. Val L1 norm: 1.012.. Train Linf norm: 3.861.. Val Linf norm: 4.216\n",
            "Epoch 137/146.. Train loss: 65.534.. Val loss: 58.423.. Train L1 norm: 1.010.. Val L1 norm: 1.012.. Train Linf norm: 3.679.. Val Linf norm: 4.216\n",
            "Epoch 138/146.. Train loss: 64.451.. Val loss: 58.423.. Train L1 norm: 1.013.. Val L1 norm: 1.012.. Train Linf norm: 4.434.. Val Linf norm: 4.216\n",
            "Epoch 139/146.. Train loss: 64.047.. Val loss: 58.423.. Train L1 norm: 1.014.. Val L1 norm: 1.012.. Train Linf norm: 4.754.. Val Linf norm: 4.216\n",
            "Epoch 140/146.. Train loss: 63.581.. Val loss: 58.423.. Train L1 norm: 1.010.. Val L1 norm: 1.012.. Train Linf norm: 3.819.. Val Linf norm: 4.216\n",
            "Epoch 141/146.. Train loss: 63.938.. Val loss: 58.423.. Train L1 norm: 1.009.. Val L1 norm: 1.012.. Train Linf norm: 3.426.. Val Linf norm: 4.216\n",
            "Epoch 142/146.. Train loss: 63.626.. Val loss: 58.423.. Train L1 norm: 1.013.. Val L1 norm: 1.012.. Train Linf norm: 4.263.. Val Linf norm: 4.216\n",
            "Epoch 143/146.. Train loss: 63.596.. Val loss: 58.423.. Train L1 norm: 1.009.. Val L1 norm: 1.012.. Train Linf norm: 3.645.. Val Linf norm: 4.216\n",
            "Epoch 144/146.. Train loss: 63.721.. Val loss: 58.423.. Train L1 norm: 1.010.. Val L1 norm: 1.012.. Train Linf norm: 3.589.. Val Linf norm: 4.216\n",
            "Epoch 145/146.. Train loss: 63.660.. Val loss: 58.423.. Train L1 norm: 1.013.. Val L1 norm: 1.012.. Train Linf norm: 4.549.. Val Linf norm: 4.216\n"
          ]
        },
        {
          "output_type": "stream",
          "name": "stderr",
          "text": [
            "[I 2023-05-30 11:14:32,190] Trial 8 finished with value: 1.0124110089619955 and parameters: {'n_layers': 3, 'n_units_0': 413, 'n_units_1': 2013, 'n_units_2': 2023, 'hidden_activation': 'SoftPlus', 'output_activation': 'Linear', 'loss': 'MSE', 'optimizer': 'Adagrad', 'lr': 0.05096973438973256, 'batch_size': 256, 'n_epochs': 146, 'scheduler': 'ReduceLROnPlateau', 'softplus_beta': 1.477985238258282, 'dropout_rate': 0.15528760047905227, 'factor': 0.22070202065716737, 'patience': 5, 'threshold': 0.000705912992073715}. Best is trial 8 with value: 1.0124110089619955.\n"
          ]
        },
        {
          "output_type": "stream",
          "name": "stdout",
          "text": [
            "Epoch 146/146.. Train loss: 64.003.. Val loss: 58.423.. Train L1 norm: 1.012.. Val L1 norm: 1.012.. Train Linf norm: 4.171.. Val Linf norm: 4.216\n"
          ]
        },
        {
          "output_type": "stream",
          "name": "stderr",
          "text": [
            "[I 2023-05-30 11:14:53,074] Trial 9 pruned. \n"
          ]
        },
        {
          "output_type": "stream",
          "name": "stdout",
          "text": [
            "Epoch 1/124.. Train loss: 8.216.. Val loss: 4.831.. Train L1 norm: 4.873.. Val L1 norm: 6.512.. Train Linf norm: 79.317.. Val Linf norm: 142.916\n"
          ]
        },
        {
          "output_type": "stream",
          "name": "stderr",
          "text": [
            "<ipython-input-37-5ce9a06c2c29>:58: FutureWarning: suggest_uniform has been deprecated in v3.0.0. This feature will be removed in v6.0.0. See https://github.com/optuna/optuna/releases/tag/v3.0.0. Use suggest_float instead.\n",
            "  negative_slope = trial.suggest_uniform(\"leakyrelu_slope\", 0.01, 0.3)\n",
            "[I 2023-05-30 11:14:57,581] Trial 10 pruned. \n"
          ]
        },
        {
          "output_type": "stream",
          "name": "stdout",
          "text": [
            "Epoch 1/139.. Train loss: 2926622535.040.. Val loss: 2016807307.810.. Train L1 norm: 3061948768.747.. Val L1 norm: 3856507486.003.. Train Linf norm: 366786641203.935.. Val Linf norm: 544836131966.157\n"
          ]
        },
        {
          "output_type": "stream",
          "name": "stderr",
          "text": [
            "[I 2023-05-30 11:15:13,637] Trial 11 pruned. \n"
          ]
        },
        {
          "output_type": "stream",
          "name": "stdout",
          "text": [
            "Epoch 1/85.. Train loss: 5423.850.. Val loss: 43.418.. Train L1 norm: 4.198.. Val L1 norm: 6.324.. Train Linf norm: 120.906.. Val Linf norm: 262.660\n"
          ]
        },
        {
          "output_type": "stream",
          "name": "stderr",
          "text": [
            "[I 2023-05-30 11:15:17,174] Trial 12 pruned. \n"
          ]
        },
        {
          "output_type": "stream",
          "name": "stdout",
          "text": [
            "Epoch 1/145.. Train loss: 8770032579671088661790720.000.. Val loss: 14605103607003166.000.. Train L1 norm: 102700685479.314.. Val L1 norm: 7206977.225.. Train Linf norm: 65404232854655.375.. Val Linf norm: 5589179876.437\n"
          ]
        },
        {
          "output_type": "stream",
          "name": "stderr",
          "text": [
            "[I 2023-05-30 11:15:26,624] Trial 13 pruned. \n"
          ]
        },
        {
          "output_type": "stream",
          "name": "stdout",
          "text": [
            "Epoch 1/88.. Train loss: 608230453094998987505664.000.. Val loss: 2413408439286471.000.. Train L1 norm: 22224610904.372.. Val L1 norm: 16416361.575.. Train Linf norm: 1620287063842.614.. Val Linf norm: 2356309014.682\n"
          ]
        },
        {
          "output_type": "stream",
          "name": "stderr",
          "text": [
            "[I 2023-05-30 11:15:33,433] Trial 14 pruned. \n"
          ]
        },
        {
          "output_type": "stream",
          "name": "stdout",
          "text": [
            "Epoch 1/71.. Train loss: 4482.260.. Val loss: 109.671.. Train L1 norm: 4.858.. Val L1 norm: 5.131.. Train Linf norm: 298.638.. Val Linf norm: 393.247\n"
          ]
        },
        {
          "output_type": "stream",
          "name": "stderr",
          "text": [
            "[I 2023-05-30 11:15:36,092] Trial 15 pruned. \n"
          ]
        },
        {
          "output_type": "stream",
          "name": "stdout",
          "text": [
            "Epoch 1/101.. Train loss: 7879060.279.. Val loss: 30675.244.. Train L1 norm: 20.402.. Val L1 norm: 39.208.. Train Linf norm: 6868.266.. Val Linf norm: 13916.831\n"
          ]
        },
        {
          "output_type": "stream",
          "name": "stderr",
          "text": [
            "[I 2023-05-30 11:15:43,528] Trial 16 pruned. \n"
          ]
        },
        {
          "output_type": "stream",
          "name": "stdout",
          "text": [
            "Epoch 1/51.. Train loss: 52431.094.. Val loss: 276.499.. Train L1 norm: 3.085.. Val L1 norm: 2.908.. Train Linf norm: 94.448.. Val Linf norm: 88.778\n"
          ]
        },
        {
          "output_type": "stream",
          "name": "stderr",
          "text": [
            "WARNING:tensorboardX.x2num:NaN or Inf found in input tensor.\n",
            "WARNING:tensorboardX.x2num:NaN or Inf found in input tensor.\n",
            "WARNING:tensorboardX.x2num:NaN or Inf found in input tensor.\n",
            "WARNING:tensorboardX.x2num:NaN or Inf found in input tensor.\n",
            "WARNING:tensorboardX.x2num:NaN or Inf found in input tensor.\n",
            "WARNING:tensorboardX.x2num:NaN or Inf found in input tensor.\n",
            "/usr/local/lib/python3.10/dist-packages/optuna/pruners/_percentile.py:20: RuntimeWarning: All-NaN slice encountered\n",
            "  return np.nanmin(values)\n",
            "[I 2023-05-30 11:15:47,908] Trial 17 pruned. \n"
          ]
        },
        {
          "output_type": "stream",
          "name": "stdout",
          "text": [
            "Epoch 1/127.. Train loss: nan.. Val loss: nan.. Train L1 norm: nan.. Val L1 norm: nan.. Train Linf norm: nan.. Val Linf norm: nan\n"
          ]
        },
        {
          "output_type": "stream",
          "name": "stderr",
          "text": [
            "[I 2023-05-30 11:15:55,552] Trial 18 pruned. \n"
          ]
        },
        {
          "output_type": "stream",
          "name": "stdout",
          "text": [
            "Epoch 1/150.. Train loss: 9.485.. Val loss: 4.275.. Train L1 norm: 7.822.. Val L1 norm: 8.236.. Train Linf norm: 2329.875.. Val Linf norm: 6443.135\n",
            "Epoch 1/75.. Train loss: 3079834871.924.. Val loss: 58.613.. Train L1 norm: 549.240.. Val L1 norm: 1.038.. Train Linf norm: 23312.825.. Val Linf norm: 9.448\n",
            "Epoch 2/75.. Train loss: 166.211.. Val loss: 58.609.. Train L1 norm: 2.056.. Val L1 norm: 1.037.. Train Linf norm: 126.085.. Val Linf norm: 9.312\n",
            "Epoch 3/75.. Train loss: 5085.499.. Val loss: 58.603.. Train L1 norm: 2.053.. Val L1 norm: 1.036.. Train Linf norm: 143.759.. Val Linf norm: 9.127\n",
            "Epoch 4/75.. Train loss: 1670.912.. Val loss: 58.596.. Train L1 norm: 2.879.. Val L1 norm: 1.035.. Train Linf norm: 271.264.. Val Linf norm: 8.911\n",
            "Epoch 5/75.. Train loss: 63.847.. Val loss: 58.588.. Train L1 norm: 1.022.. Val L1 norm: 1.034.. Train Linf norm: 5.637.. Val Linf norm: 8.641\n",
            "Epoch 6/75.. Train loss: 1789.941.. Val loss: 58.580.. Train L1 norm: 2.189.. Val L1 norm: 1.033.. Train Linf norm: 62.935.. Val Linf norm: 8.392\n",
            "Epoch 7/75.. Train loss: 29189.850.. Val loss: 58.571.. Train L1 norm: 2.199.. Val L1 norm: 1.031.. Train Linf norm: 106.742.. Val Linf norm: 8.130\n",
            "Epoch 8/75.. Train loss: 1165.468.. Val loss: 58.563.. Train L1 norm: 2.098.. Val L1 norm: 1.030.. Train Linf norm: 111.850.. Val Linf norm: 7.884\n",
            "Epoch 9/75.. Train loss: 76.391.. Val loss: 58.555.. Train L1 norm: 1.581.. Val L1 norm: 1.029.. Train Linf norm: 119.815.. Val Linf norm: 7.641\n",
            "Epoch 10/75.. Train loss: 63.792.. Val loss: 58.548.. Train L1 norm: 1.020.. Val L1 norm: 1.028.. Train Linf norm: 5.225.. Val Linf norm: 7.414\n",
            "Epoch 11/75.. Train loss: 64.070.. Val loss: 58.542.. Train L1 norm: 1.020.. Val L1 norm: 1.027.. Train Linf norm: 5.207.. Val Linf norm: 7.218\n",
            "Epoch 12/75.. Train loss: 63.983.. Val loss: 58.537.. Train L1 norm: 1.016.. Val L1 norm: 1.026.. Train Linf norm: 4.490.. Val Linf norm: 7.058\n",
            "Epoch 13/75.. Train loss: 63.716.. Val loss: 58.533.. Train L1 norm: 1.016.. Val L1 norm: 1.026.. Train Linf norm: 4.461.. Val Linf norm: 6.935\n",
            "Epoch 14/75.. Train loss: 63.709.. Val loss: 58.530.. Train L1 norm: 1.015.. Val L1 norm: 1.025.. Train Linf norm: 4.363.. Val Linf norm: 6.850\n",
            "Epoch 15/75.. Train loss: 63.710.. Val loss: 58.528.. Train L1 norm: 1.015.. Val L1 norm: 1.025.. Train Linf norm: 4.209.. Val Linf norm: 6.797\n",
            "Epoch 16/75.. Train loss: 63.710.. Val loss: 58.527.. Train L1 norm: 1.015.. Val L1 norm: 1.025.. Train Linf norm: 4.312.. Val Linf norm: 6.772\n",
            "Epoch 17/75.. Train loss: 63.746.. Val loss: 58.527.. Train L1 norm: 1.015.. Val L1 norm: 1.025.. Train Linf norm: 4.273.. Val Linf norm: 6.765\n",
            "Epoch 18/75.. Train loss: 63.779.. Val loss: 58.527.. Train L1 norm: 1.015.. Val L1 norm: 1.025.. Train Linf norm: 4.290.. Val Linf norm: 6.764\n",
            "Epoch 19/75.. Train loss: 63.713.. Val loss: 58.527.. Train L1 norm: 1.017.. Val L1 norm: 1.025.. Train Linf norm: 4.696.. Val Linf norm: 6.757\n",
            "Epoch 20/75.. Train loss: 63.710.. Val loss: 58.526.. Train L1 norm: 1.015.. Val L1 norm: 1.025.. Train Linf norm: 4.164.. Val Linf norm: 6.725\n",
            "Epoch 21/75.. Train loss: 63.704.. Val loss: 58.524.. Train L1 norm: 1.014.. Val L1 norm: 1.024.. Train Linf norm: 4.175.. Val Linf norm: 6.653\n",
            "Epoch 22/75.. Train loss: 63.740.. Val loss: 58.519.. Train L1 norm: 1.014.. Val L1 norm: 1.024.. Train Linf norm: 4.168.. Val Linf norm: 6.522\n",
            "Epoch 23/75.. Train loss: 63.701.. Val loss: 58.513.. Train L1 norm: 1.015.. Val L1 norm: 1.023.. Train Linf norm: 4.183.. Val Linf norm: 6.312\n",
            "Epoch 24/75.. Train loss: 63.692.. Val loss: 58.503.. Train L1 norm: 1.014.. Val L1 norm: 1.021.. Train Linf norm: 4.097.. Val Linf norm: 6.006\n",
            "Epoch 25/75.. Train loss: 321373.351.. Val loss: 58.504.. Train L1 norm: 7.855.. Val L1 norm: 1.022.. Train Linf norm: 739.431.. Val Linf norm: 6.044\n",
            "Epoch 26/75.. Train loss: 14841074.103.. Val loss: 58.572.. Train L1 norm: 8.745.. Val L1 norm: 1.031.. Train Linf norm: 1143.458.. Val Linf norm: 8.063\n",
            "Epoch 27/75.. Train loss: 13281.262.. Val loss: 58.577.. Train L1 norm: 11.373.. Val L1 norm: 1.032.. Train Linf norm: 1452.900.. Val Linf norm: 8.318\n",
            "Epoch 28/75.. Train loss: 758.314.. Val loss: 58.551.. Train L1 norm: 1.694.. Val L1 norm: 1.028.. Train Linf norm: 85.702.. Val Linf norm: 7.491\n",
            "Epoch 29/75.. Train loss: 366938.792.. Val loss: 58.531.. Train L1 norm: 5.849.. Val L1 norm: 1.026.. Train Linf norm: 461.759.. Val Linf norm: 6.895\n",
            "Epoch 30/75.. Train loss: 8442.425.. Val loss: 58.461.. Train L1 norm: 4.559.. Val L1 norm: 1.016.. Train Linf norm: 350.738.. Val Linf norm: 4.710\n",
            "Epoch 31/75.. Train loss: 11372.936.. Val loss: 58.401.. Train L1 norm: 2.077.. Val L1 norm: 1.007.. Train Linf norm: 88.963.. Val Linf norm: 2.859\n",
            "Epoch 32/75.. Train loss: 8537.392.. Val loss: 58.384.. Train L1 norm: 7.071.. Val L1 norm: 1.005.. Train Linf norm: 977.637.. Val Linf norm: 2.333\n",
            "Epoch 33/75.. Train loss: 13096542.582.. Val loss: 58.337.. Train L1 norm: 81.383.. Val L1 norm: 1.000.. Train Linf norm: 6504.903.. Val Linf norm: 1.005\n",
            "Epoch 34/75.. Train loss: 1694.909.. Val loss: 58.286.. Train L1 norm: 2.752.. Val L1 norm: 1.005.. Train Linf norm: 449.717.. Val Linf norm: 2.436\n",
            "Epoch 35/75.. Train loss: 8318606.030.. Val loss: 58.973.. Train L1 norm: 61.717.. Val L1 norm: 1.095.. Train Linf norm: 6698.125.. Val Linf norm: 20.678\n",
            "Epoch 36/75.. Train loss: 11438.496.. Val loss: 58.908.. Train L1 norm: 1.633.. Val L1 norm: 1.084.. Train Linf norm: 159.116.. Val Linf norm: 18.661\n",
            "Epoch 37/75.. Train loss: 419.860.. Val loss: 58.850.. Train L1 norm: 1.058.. Val L1 norm: 1.075.. Train Linf norm: 12.398.. Val Linf norm: 16.825\n",
            "Epoch 38/75.. Train loss: 65.651.. Val loss: 58.790.. Train L1 norm: 1.045.. Val L1 norm: 1.065.. Train Linf norm: 9.654.. Val Linf norm: 14.966\n",
            "Epoch 39/75.. Train loss: 63.948.. Val loss: 58.732.. Train L1 norm: 1.038.. Val L1 norm: 1.056.. Train Linf norm: 8.316.. Val Linf norm: 13.153\n",
            "Epoch 40/75.. Train loss: 9560.910.. Val loss: 58.681.. Train L1 norm: 1.119.. Val L1 norm: 1.048.. Train Linf norm: 29.569.. Val Linf norm: 11.564\n",
            "Epoch 41/75.. Train loss: 63.877.. Val loss: 58.629.. Train L1 norm: 1.028.. Val L1 norm: 1.040.. Train Linf norm: 6.611.. Val Linf norm: 9.935\n",
            "Epoch 42/75.. Train loss: 63.789.. Val loss: 58.581.. Train L1 norm: 1.022.. Val L1 norm: 1.033.. Train Linf norm: 5.492.. Val Linf norm: 8.443\n",
            "Epoch 43/75.. Train loss: 173.014.. Val loss: 58.541.. Train L1 norm: 1.135.. Val L1 norm: 1.027.. Train Linf norm: 11.277.. Val Linf norm: 7.193\n",
            "Epoch 44/75.. Train loss: 63.705.. Val loss: 58.504.. Train L1 norm: 1.014.. Val L1 norm: 1.022.. Train Linf norm: 4.162.. Val Linf norm: 6.049\n",
            "Epoch 45/75.. Train loss: 63.671.. Val loss: 58.474.. Train L1 norm: 1.011.. Val L1 norm: 1.017.. Train Linf norm: 3.534.. Val Linf norm: 5.096\n",
            "Epoch 46/75.. Train loss: 63.643.. Val loss: 58.449.. Train L1 norm: 1.009.. Val L1 norm: 1.014.. Train Linf norm: 3.066.. Val Linf norm: 4.341\n",
            "Epoch 47/75.. Train loss: 63.623.. Val loss: 58.431.. Train L1 norm: 1.007.. Val L1 norm: 1.011.. Train Linf norm: 2.729.. Val Linf norm: 3.778\n",
            "Epoch 48/75.. Train loss: 63.606.. Val loss: 58.419.. Train L1 norm: 1.006.. Val L1 norm: 1.010.. Train Linf norm: 2.413.. Val Linf norm: 3.392\n",
            "Epoch 49/75.. Train loss: 63.597.. Val loss: 58.411.. Train L1 norm: 1.005.. Val L1 norm: 1.009.. Train Linf norm: 2.239.. Val Linf norm: 3.162\n",
            "Epoch 50/75.. Train loss: 63.590.. Val loss: 58.408.. Train L1 norm: 1.004.. Val L1 norm: 1.008.. Train Linf norm: 2.138.. Val Linf norm: 3.054\n",
            "Epoch 51/75.. Train loss: 63.598.. Val loss: 58.407.. Train L1 norm: 1.010.. Val L1 norm: 1.008.. Train Linf norm: 3.639.. Val Linf norm: 3.024\n",
            "Epoch 52/75.. Train loss: 78.566.. Val loss: 58.407.. Train L1 norm: 1.007.. Val L1 norm: 1.008.. Train Linf norm: 2.730.. Val Linf norm: 3.022\n",
            "Epoch 53/75.. Train loss: 286.554.. Val loss: 58.406.. Train L1 norm: 1.018.. Val L1 norm: 1.008.. Train Linf norm: 5.683.. Val Linf norm: 2.990\n",
            "Epoch 54/75.. Train loss: 63.584.. Val loss: 58.402.. Train L1 norm: 1.004.. Val L1 norm: 1.008.. Train Linf norm: 2.034.. Val Linf norm: 2.863\n",
            "Epoch 55/75.. Train loss: 63.577.. Val loss: 58.392.. Train L1 norm: 1.004.. Val L1 norm: 1.006.. Train Linf norm: 1.941.. Val Linf norm: 2.573\n",
            "Epoch 56/75.. Train loss: 79.732.. Val loss: 58.375.. Train L1 norm: 1.006.. Val L1 norm: 1.004.. Train Linf norm: 2.569.. Val Linf norm: 2.047\n",
            "Epoch 57/75.. Train loss: 3650.735.. Val loss: 58.346.. Train L1 norm: 1.014.. Val L1 norm: 1.001.. Train Linf norm: 4.746.. Val Linf norm: 1.235\n",
            "Epoch 58/75.. Train loss: 2718.678.. Val loss: 58.308.. Train L1 norm: 1.557.. Val L1 norm: 1.002.. Train Linf norm: 143.828.. Val Linf norm: 1.782\n",
            "Epoch 59/75.. Train loss: 63.461.. Val loss: 58.256.. Train L1 norm: 1.001.. Val L1 norm: 1.008.. Train Linf norm: 1.739.. Val Linf norm: 3.344\n",
            "Epoch 60/75.. Train loss: 19513.542.. Val loss: 58.170.. Train L1 norm: 1.244.. Val L1 norm: 1.018.. Train Linf norm: 31.479.. Val Linf norm: 5.956\n",
            "Epoch 61/75.. Train loss: 63.304.. Val loss: 58.084.. Train L1 norm: 1.011.. Val L1 norm: 1.030.. Train Linf norm: 4.500.. Val Linf norm: 8.630\n",
            "Epoch 62/75.. Train loss: 4463.160.. Val loss: 57.974.. Train L1 norm: 1.052.. Val L1 norm: 1.045.. Train Linf norm: 14.528.. Val Linf norm: 12.111\n",
            "Epoch 63/75.. Train loss: 212.108.. Val loss: 57.851.. Train L1 norm: 1.041.. Val L1 norm: 1.063.. Train Linf norm: 11.442.. Val Linf norm: 16.031\n",
            "Epoch 64/75.. Train loss: 1382.795.. Val loss: 57.717.. Train L1 norm: 1.061.. Val L1 norm: 1.083.. Train Linf norm: 16.118.. Val Linf norm: 20.362\n",
            "Epoch 65/75.. Train loss: 62.806.. Val loss: 57.562.. Train L1 norm: 1.055.. Val L1 norm: 1.107.. Train Linf norm: 13.717.. Val Linf norm: 25.432\n",
            "Epoch 66/75.. Train loss: 62.641.. Val loss: 57.391.. Train L1 norm: 1.070.. Val L1 norm: 1.134.. Train Linf norm: 17.111.. Val Linf norm: 31.020\n",
            "Epoch 67/75.. Train loss: 62.461.. Val loss: 57.209.. Train L1 norm: 1.090.. Val L1 norm: 1.164.. Train Linf norm: 20.616.. Val Linf norm: 37.066\n",
            "Epoch 68/75.. Train loss: 62.270.. Val loss: 57.016.. Train L1 norm: 1.111.. Val L1 norm: 1.197.. Train Linf norm: 23.932.. Val Linf norm: 43.471\n",
            "Epoch 69/75.. Train loss: 62.070.. Val loss: 56.816.. Train L1 norm: 1.133.. Val L1 norm: 1.232.. Train Linf norm: 27.642.. Val Linf norm: 50.181\n",
            "Epoch 70/75.. Train loss: 61.865.. Val loss: 56.614.. Train L1 norm: 1.155.. Val L1 norm: 1.268.. Train Linf norm: 31.697.. Val Linf norm: 57.039\n",
            "Epoch 71/75.. Train loss: 69901.423.. Val loss: 56.271.. Train L1 norm: 2.115.. Val L1 norm: 1.331.. Train Linf norm: 71.537.. Val Linf norm: 68.779\n",
            "Epoch 72/75.. Train loss: 61.325.. Val loss: 56.073.. Train L1 norm: 1.224.. Val L1 norm: 1.369.. Train Linf norm: 43.984.. Val Linf norm: 75.626\n",
            "Epoch 73/75.. Train loss: 61.113.. Val loss: 55.883.. Train L1 norm: 1.249.. Val L1 norm: 1.405.. Train Linf norm: 47.917.. Val Linf norm: 82.253\n",
            "Epoch 74/75.. Train loss: 148005.575.. Val loss: 56.049.. Train L1 norm: 5.874.. Val L1 norm: 1.373.. Train Linf norm: 301.183.. Val Linf norm: 76.450\n"
          ]
        },
        {
          "output_type": "stream",
          "name": "stderr",
          "text": [
            "[I 2023-05-30 11:24:04,227] Trial 19 finished with value: 1.4042563961029053 and parameters: {'n_layers': 5, 'n_units_0': 2114, 'n_units_1': 2400, 'n_units_2': 2307, 'n_units_3': 2902, 'n_units_4': 3416, 'hidden_activation': 'ReLU', 'output_activation': 'Linear', 'loss': 'MSE', 'optimizer': 'Adam', 'lr': 0.006755339591032124, 'batch_size': 256, 'n_epochs': 75, 'scheduler': 'CosineAnnealingLR', 'dropout_rate': 0.20380523192868236, 'weight_decay': 0.002924251913650176, 'beta1': 0.9237009824368482, 'beta2': 0.9997089087496739, 't_max_fraction': 0.23067787754302368, 'eta_min': 4.270186005774575e-06}. Best is trial 8 with value: 1.0124110089619955.\n"
          ]
        },
        {
          "output_type": "stream",
          "name": "stdout",
          "text": [
            "Epoch 75/75.. Train loss: 9187.830.. Val loss: 55.888.. Train L1 norm: 1.361.. Val L1 norm: 1.404.. Train Linf norm: 74.270.. Val Linf norm: 82.088\n"
          ]
        },
        {
          "output_type": "stream",
          "name": "stderr",
          "text": [
            "[I 2023-05-30 11:24:20,095] Trial 20 pruned. \n"
          ]
        },
        {
          "output_type": "stream",
          "name": "stdout",
          "text": [
            "Epoch 1/111.. Train loss: 1566017956.832.. Val loss: 11698666.825.. Train L1 norm: 1367.677.. Val L1 norm: 1267.999.. Train Linf norm: 25562.338.. Val Linf norm: 32125.252\n",
            "Epoch 1/77.. Train loss: 2004032777719.257.. Val loss: 58.758.. Train L1 norm: 17047.141.. Val L1 norm: 1.060.. Train Linf norm: 1894174.475.. Val Linf norm: 13.981\n",
            "Epoch 2/77.. Train loss: 111.098.. Val loss: 58.758.. Train L1 norm: 1.734.. Val L1 norm: 1.060.. Train Linf norm: 108.632.. Val Linf norm: 13.969\n",
            "Epoch 3/77.. Train loss: 1976.401.. Val loss: 58.758.. Train L1 norm: 1.209.. Val L1 norm: 1.060.. Train Linf norm: 28.901.. Val Linf norm: 13.953\n",
            "Epoch 4/77.. Train loss: 219.185.. Val loss: 58.757.. Train L1 norm: 1.992.. Val L1 norm: 1.060.. Train Linf norm: 211.774.. Val Linf norm: 13.933\n",
            "Epoch 5/77.. Train loss: 63.943.. Val loss: 58.756.. Train L1 norm: 1.038.. Val L1 norm: 1.060.. Train Linf norm: 8.386.. Val Linf norm: 13.911\n",
            "Epoch 6/77.. Train loss: 63.942.. Val loss: 58.755.. Train L1 norm: 1.038.. Val L1 norm: 1.060.. Train Linf norm: 8.401.. Val Linf norm: 13.887\n",
            "Epoch 7/77.. Train loss: 63.943.. Val loss: 58.755.. Train L1 norm: 1.038.. Val L1 norm: 1.060.. Train Linf norm: 8.425.. Val Linf norm: 13.864\n",
            "Epoch 8/77.. Train loss: 63.941.. Val loss: 58.754.. Train L1 norm: 1.038.. Val L1 norm: 1.060.. Train Linf norm: 8.399.. Val Linf norm: 13.841\n",
            "Epoch 9/77.. Train loss: 63.940.. Val loss: 58.753.. Train L1 norm: 1.038.. Val L1 norm: 1.059.. Train Linf norm: 8.465.. Val Linf norm: 13.819\n",
            "Epoch 10/77.. Train loss: 64.411.. Val loss: 58.753.. Train L1 norm: 1.046.. Val L1 norm: 1.059.. Train Linf norm: 9.835.. Val Linf norm: 13.800\n",
            "Epoch 11/77.. Train loss: 63.969.. Val loss: 58.752.. Train L1 norm: 1.038.. Val L1 norm: 1.059.. Train Linf norm: 8.170.. Val Linf norm: 13.784\n",
            "Epoch 12/77.. Train loss: 63.938.. Val loss: 58.752.. Train L1 norm: 1.038.. Val L1 norm: 1.059.. Train Linf norm: 8.435.. Val Linf norm: 13.770\n",
            "Epoch 13/77.. Train loss: 63.938.. Val loss: 58.751.. Train L1 norm: 1.038.. Val L1 norm: 1.059.. Train Linf norm: 8.376.. Val Linf norm: 13.760\n",
            "Epoch 14/77.. Train loss: 63.939.. Val loss: 58.751.. Train L1 norm: 1.038.. Val L1 norm: 1.059.. Train Linf norm: 8.287.. Val Linf norm: 13.753\n",
            "Epoch 15/77.. Train loss: 63.937.. Val loss: 58.751.. Train L1 norm: 1.037.. Val L1 norm: 1.059.. Train Linf norm: 8.552.. Val Linf norm: 13.748\n",
            "Epoch 16/77.. Train loss: 63.937.. Val loss: 58.751.. Train L1 norm: 1.037.. Val L1 norm: 1.059.. Train Linf norm: 8.435.. Val Linf norm: 13.746\n",
            "Epoch 17/77.. Train loss: 63.938.. Val loss: 58.751.. Train L1 norm: 1.037.. Val L1 norm: 1.059.. Train Linf norm: 8.255.. Val Linf norm: 13.746\n",
            "Epoch 18/77.. Train loss: 63.937.. Val loss: 58.751.. Train L1 norm: 1.037.. Val L1 norm: 1.059.. Train Linf norm: 7.901.. Val Linf norm: 13.746\n",
            "Epoch 19/77.. Train loss: 63.937.. Val loss: 58.751.. Train L1 norm: 1.037.. Val L1 norm: 1.059.. Train Linf norm: 8.286.. Val Linf norm: 13.745\n",
            "Epoch 20/77.. Train loss: 74.651.. Val loss: 58.751.. Train L1 norm: 1.043.. Val L1 norm: 1.059.. Train Linf norm: 8.788.. Val Linf norm: 13.742\n",
            "Epoch 21/77.. Train loss: 63.937.. Val loss: 58.751.. Train L1 norm: 1.037.. Val L1 norm: 1.059.. Train Linf norm: 8.454.. Val Linf norm: 13.736\n",
            "Epoch 22/77.. Train loss: 63.937.. Val loss: 58.750.. Train L1 norm: 1.037.. Val L1 norm: 1.059.. Train Linf norm: 8.177.. Val Linf norm: 13.725\n",
            "Epoch 23/77.. Train loss: 63.936.. Val loss: 58.750.. Train L1 norm: 1.037.. Val L1 norm: 1.059.. Train Linf norm: 8.466.. Val Linf norm: 13.707\n",
            "Epoch 24/77.. Train loss: 63.936.. Val loss: 58.749.. Train L1 norm: 1.037.. Val L1 norm: 1.059.. Train Linf norm: 8.364.. Val Linf norm: 13.681\n",
            "Epoch 25/77.. Train loss: 63.935.. Val loss: 58.748.. Train L1 norm: 1.037.. Val L1 norm: 1.059.. Train Linf norm: 8.368.. Val Linf norm: 13.646\n",
            "Epoch 26/77.. Train loss: 2394.223.. Val loss: 58.746.. Train L1 norm: 1.750.. Val L1 norm: 1.058.. Train Linf norm: 93.093.. Val Linf norm: 13.598\n",
            "Epoch 27/77.. Train loss: 636269.726.. Val loss: 58.744.. Train L1 norm: 38.349.. Val L1 norm: 1.058.. Train Linf norm: 2951.837.. Val Linf norm: 13.537\n",
            "Epoch 28/77.. Train loss: 188007.718.. Val loss: 58.744.. Train L1 norm: 6.405.. Val L1 norm: 1.058.. Train Linf norm: 798.538.. Val Linf norm: 13.525\n",
            "Epoch 29/77.. Train loss: 219657.821.. Val loss: 58.745.. Train L1 norm: 4.387.. Val L1 norm: 1.058.. Train Linf norm: 264.059.. Val Linf norm: 13.557\n",
            "Epoch 30/77.. Train loss: 64.555.. Val loss: 58.742.. Train L1 norm: 1.037.. Val L1 norm: 1.058.. Train Linf norm: 8.393.. Val Linf norm: 13.459\n",
            "Epoch 31/77.. Train loss: 2054.339.. Val loss: 58.738.. Train L1 norm: 1.334.. Val L1 norm: 1.057.. Train Linf norm: 16.586.. Val Linf norm: 13.329\n",
            "Epoch 32/77.. Train loss: 63.922.. Val loss: 58.734.. Train L1 norm: 1.036.. Val L1 norm: 1.056.. Train Linf norm: 8.014.. Val Linf norm: 13.205\n",
            "Epoch 33/77.. Train loss: 63.918.. Val loss: 58.729.. Train L1 norm: 1.035.. Val L1 norm: 1.056.. Train Linf norm: 7.578.. Val Linf norm: 13.071\n",
            "Epoch 34/77.. Train loss: 63.913.. Val loss: 58.725.. Train L1 norm: 1.035.. Val L1 norm: 1.055.. Train Linf norm: 7.782.. Val Linf norm: 12.927\n",
            "Epoch 35/77.. Train loss: 234.855.. Val loss: 58.720.. Train L1 norm: 1.040.. Val L1 norm: 1.054.. Train Linf norm: 9.055.. Val Linf norm: 12.777\n",
            "Epoch 36/77.. Train loss: 63.904.. Val loss: 58.715.. Train L1 norm: 1.034.. Val L1 norm: 1.053.. Train Linf norm: 7.700.. Val Linf norm: 12.620\n",
            "Epoch 37/77.. Train loss: 63.898.. Val loss: 58.710.. Train L1 norm: 1.033.. Val L1 norm: 1.053.. Train Linf norm: 7.229.. Val Linf norm: 12.460\n",
            "Epoch 38/77.. Train loss: 136.683.. Val loss: 58.705.. Train L1 norm: 1.043.. Val L1 norm: 1.052.. Train Linf norm: 9.377.. Val Linf norm: 12.303\n",
            "Epoch 39/77.. Train loss: 63.890.. Val loss: 58.700.. Train L1 norm: 1.032.. Val L1 norm: 1.051.. Train Linf norm: 7.421.. Val Linf norm: 12.147\n",
            "Epoch 40/77.. Train loss: 63.883.. Val loss: 58.695.. Train L1 norm: 1.032.. Val L1 norm: 1.050.. Train Linf norm: 7.237.. Val Linf norm: 11.997\n",
            "Epoch 41/77.. Train loss: 63.878.. Val loss: 58.691.. Train L1 norm: 1.031.. Val L1 norm: 1.050.. Train Linf norm: 7.086.. Val Linf norm: 11.856\n",
            "Epoch 42/77.. Train loss: 63.874.. Val loss: 58.686.. Train L1 norm: 1.031.. Val L1 norm: 1.049.. Train Linf norm: 6.926.. Val Linf norm: 11.727\n",
            "Epoch 43/77.. Train loss: 63.870.. Val loss: 58.683.. Train L1 norm: 1.030.. Val L1 norm: 1.048.. Train Linf norm: 6.918.. Val Linf norm: 11.612\n",
            "Epoch 44/77.. Train loss: 63.866.. Val loss: 58.680.. Train L1 norm: 1.030.. Val L1 norm: 1.048.. Train Linf norm: 7.112.. Val Linf norm: 11.512\n",
            "Epoch 45/77.. Train loss: 63.863.. Val loss: 58.677.. Train L1 norm: 1.030.. Val L1 norm: 1.047.. Train Linf norm: 7.018.. Val Linf norm: 11.429\n",
            "Epoch 46/77.. Train loss: 132.703.. Val loss: 58.675.. Train L1 norm: 1.060.. Val L1 norm: 1.047.. Train Linf norm: 14.769.. Val Linf norm: 11.363\n",
            "Epoch 47/77.. Train loss: 63.859.. Val loss: 58.673.. Train L1 norm: 1.029.. Val L1 norm: 1.047.. Train Linf norm: 6.985.. Val Linf norm: 11.313\n",
            "Epoch 48/77.. Train loss: 63.858.. Val loss: 58.672.. Train L1 norm: 1.029.. Val L1 norm: 1.047.. Train Linf norm: 6.908.. Val Linf norm: 11.280\n",
            "Epoch 49/77.. Train loss: 63.857.. Val loss: 58.671.. Train L1 norm: 1.029.. Val L1 norm: 1.047.. Train Linf norm: 6.694.. Val Linf norm: 11.259\n",
            "Epoch 50/77.. Train loss: 63.856.. Val loss: 58.671.. Train L1 norm: 1.029.. Val L1 norm: 1.047.. Train Linf norm: 6.899.. Val Linf norm: 11.249\n",
            "Epoch 51/77.. Train loss: 63.856.. Val loss: 58.671.. Train L1 norm: 1.029.. Val L1 norm: 1.047.. Train Linf norm: 6.553.. Val Linf norm: 11.247\n",
            "Epoch 52/77.. Train loss: 63.856.. Val loss: 58.671.. Train L1 norm: 1.029.. Val L1 norm: 1.047.. Train Linf norm: 6.899.. Val Linf norm: 11.247\n",
            "Epoch 53/77.. Train loss: 63.856.. Val loss: 58.671.. Train L1 norm: 1.029.. Val L1 norm: 1.047.. Train Linf norm: 6.936.. Val Linf norm: 11.244\n",
            "Epoch 54/77.. Train loss: 63.856.. Val loss: 58.671.. Train L1 norm: 1.029.. Val L1 norm: 1.046.. Train Linf norm: 6.893.. Val Linf norm: 11.232\n",
            "Epoch 55/77.. Train loss: 63.855.. Val loss: 58.670.. Train L1 norm: 1.029.. Val L1 norm: 1.046.. Train Linf norm: 6.923.. Val Linf norm: 11.206\n",
            "Epoch 56/77.. Train loss: 63.854.. Val loss: 58.668.. Train L1 norm: 1.029.. Val L1 norm: 1.046.. Train Linf norm: 6.802.. Val Linf norm: 11.159\n",
            "Epoch 57/77.. Train loss: 63.852.. Val loss: 58.666.. Train L1 norm: 1.029.. Val L1 norm: 1.046.. Train Linf norm: 6.623.. Val Linf norm: 11.085\n",
            "Epoch 58/77.. Train loss: 63.849.. Val loss: 58.662.. Train L1 norm: 1.028.. Val L1 norm: 1.045.. Train Linf norm: 6.919.. Val Linf norm: 10.977\n",
            "Epoch 59/77.. Train loss: 63.845.. Val loss: 58.658.. Train L1 norm: 1.028.. Val L1 norm: 1.044.. Train Linf norm: 6.543.. Val Linf norm: 10.830\n",
            "Epoch 60/77.. Train loss: 2512252.409.. Val loss: 58.586.. Train L1 norm: 55.731.. Val L1 norm: 1.034.. Train Linf norm: 5503.784.. Val Linf norm: 8.600\n",
            "Epoch 61/77.. Train loss: 130267.664.. Val loss: 58.606.. Train L1 norm: 84.678.. Val L1 norm: 1.037.. Train Linf norm: 18822.928.. Val Linf norm: 9.232\n",
            "Epoch 62/77.. Train loss: 1478.709.. Val loss: 58.599.. Train L1 norm: 1.744.. Val L1 norm: 1.035.. Train Linf norm: 52.311.. Val Linf norm: 8.991\n",
            "Epoch 63/77.. Train loss: 210.240.. Val loss: 58.588.. Train L1 norm: 1.089.. Val L1 norm: 1.034.. Train Linf norm: 18.043.. Val Linf norm: 8.655\n",
            "Epoch 64/77.. Train loss: 66.160.. Val loss: 58.575.. Train L1 norm: 1.058.. Val L1 norm: 1.032.. Train Linf norm: 14.633.. Val Linf norm: 8.263\n",
            "Epoch 65/77.. Train loss: 3892.149.. Val loss: 58.565.. Train L1 norm: 2.470.. Val L1 norm: 1.030.. Train Linf norm: 151.567.. Val Linf norm: 7.930\n",
            "Epoch 66/77.. Train loss: 63.740.. Val loss: 58.549.. Train L1 norm: 1.018.. Val L1 norm: 1.028.. Train Linf norm: 4.599.. Val Linf norm: 7.440\n",
            "Epoch 67/77.. Train loss: 63.723.. Val loss: 58.532.. Train L1 norm: 1.016.. Val L1 norm: 1.026.. Train Linf norm: 4.522.. Val Linf norm: 6.908\n",
            "Epoch 68/77.. Train loss: 480.417.. Val loss: 58.514.. Train L1 norm: 1.054.. Val L1 norm: 1.023.. Train Linf norm: 7.832.. Val Linf norm: 6.358\n",
            "Epoch 69/77.. Train loss: 167.682.. Val loss: 58.496.. Train L1 norm: 1.187.. Val L1 norm: 1.021.. Train Linf norm: 11.801.. Val Linf norm: 5.804\n",
            "Epoch 70/77.. Train loss: 997694.994.. Val loss: 58.298.. Train L1 norm: 59.541.. Val L1 norm: 1.003.. Train Linf norm: 7898.477.. Val Linf norm: 2.064\n",
            "Epoch 71/77.. Train loss: 63.467.. Val loss: 58.279.. Train L1 norm: 1.001.. Val L1 norm: 1.005.. Train Linf norm: 1.639.. Val Linf norm: 2.656\n",
            "Epoch 72/77.. Train loss: 412.399.. Val loss: 58.259.. Train L1 norm: 1.024.. Val L1 norm: 1.007.. Train Linf norm: 7.489.. Val Linf norm: 3.236\n",
            "Epoch 73/77.. Train loss: 63.427.. Val loss: 58.240.. Train L1 norm: 1.003.. Val L1 norm: 1.010.. Train Linf norm: 2.262.. Val Linf norm: 3.820\n",
            "Epoch 74/77.. Train loss: 2815.678.. Val loss: 58.223.. Train L1 norm: 1.043.. Val L1 norm: 1.012.. Train Linf norm: 12.513.. Val Linf norm: 4.363\n",
            "Epoch 75/77.. Train loss: 152.039.. Val loss: 58.206.. Train L1 norm: 1.005.. Val L1 norm: 1.014.. Train Linf norm: 2.929.. Val Linf norm: 4.873\n",
            "Epoch 76/77.. Train loss: 63.374.. Val loss: 58.190.. Train L1 norm: 1.006.. Val L1 norm: 1.016.. Train Linf norm: 3.180.. Val Linf norm: 5.357\n"
          ]
        },
        {
          "output_type": "stream",
          "name": "stderr",
          "text": [
            "[I 2023-05-30 11:34:01,745] Trial 21 finished with value: 1.0175072431882222 and parameters: {'n_layers': 5, 'n_units_0': 3998, 'n_units_1': 2487, 'n_units_2': 2369, 'n_units_3': 2836, 'n_units_4': 3171, 'hidden_activation': 'ReLU', 'output_activation': 'Linear', 'loss': 'MSE', 'optimizer': 'Adam', 'lr': 0.007762479740879534, 'batch_size': 256, 'n_epochs': 77, 'scheduler': 'CosineAnnealingLR', 'dropout_rate': 0.19552682371674288, 'weight_decay': 0.002868348472589055, 'beta1': 0.923788829366103, 'beta2': 0.9997090246435897, 't_max_fraction': 0.2210758300867095, 'eta_min': 5.143401035337143e-06}. Best is trial 8 with value: 1.0124110089619955.\n"
          ]
        },
        {
          "output_type": "stream",
          "name": "stdout",
          "text": [
            "Epoch 77/77.. Train loss: 63.359.. Val loss: 58.176.. Train L1 norm: 1.007.. Val L1 norm: 1.018.. Train Linf norm: 3.370.. Val Linf norm: 5.786\n",
            "Epoch 1/96.. Train loss: 3331196289904.879.. Val loss: 58.785.. Train L1 norm: 22231.947.. Val L1 norm: 1.065.. Train Linf norm: 1631392.390.. Val Linf norm: 14.807\n",
            "Epoch 2/96.. Train loss: 488.825.. Val loss: 43.186.. Train L1 norm: 4.224.. Val L1 norm: 6.949.. Train Linf norm: 414.141.. Val Linf norm: 940.691\n",
            "Epoch 3/96.. Train loss: 71.815.. Val loss: 43.170.. Train L1 norm: 6.423.. Val L1 norm: 7.084.. Train Linf norm: 830.097.. Val Linf norm: 960.247\n",
            "Epoch 4/96.. Train loss: 62.356.. Val loss: 43.248.. Train L1 norm: 5.616.. Val L1 norm: 6.693.. Train Linf norm: 598.191.. Val Linf norm: 903.466\n",
            "Epoch 5/96.. Train loss: 49.968.. Val loss: 43.254.. Train L1 norm: 5.434.. Val L1 norm: 6.675.. Train Linf norm: 561.857.. Val Linf norm: 900.869\n",
            "Epoch 6/96.. Train loss: 1359.314.. Val loss: 43.182.. Train L1 norm: 5.606.. Val L1 norm: 6.971.. Train Linf norm: 596.963.. Val Linf norm: 943.914\n",
            "Epoch 7/96.. Train loss: 90.099.. Val loss: 43.507.. Train L1 norm: 5.462.. Val L1 norm: 8.198.. Train Linf norm: 553.086.. Val Linf norm: 1120.767\n",
            "Epoch 8/96.. Train loss: 48.178.. Val loss: 43.197.. Train L1 norm: 5.481.. Val L1 norm: 7.486.. Train Linf norm: 574.400.. Val Linf norm: 1018.344\n",
            "Epoch 9/96.. Train loss: 48.403.. Val loss: 43.186.. Train L1 norm: 5.545.. Val L1 norm: 7.421.. Train Linf norm: 598.298.. Val Linf norm: 1009.043\n",
            "Epoch 10/96.. Train loss: 48.054.. Val loss: 43.277.. Train L1 norm: 5.517.. Val L1 norm: 6.614.. Train Linf norm: 581.735.. Val Linf norm: 891.912\n",
            "Epoch 11/96.. Train loss: 48.019.. Val loss: 43.181.. Train L1 norm: 5.460.. Val L1 norm: 7.389.. Train Linf norm: 573.734.. Val Linf norm: 1004.467\n",
            "Epoch 12/96.. Train loss: 48.030.. Val loss: 43.168.. Train L1 norm: 5.482.. Val L1 norm: 7.243.. Train Linf norm: 578.013.. Val Linf norm: 983.263\n",
            "Epoch 13/96.. Train loss: 48.175.. Val loss: 43.171.. Train L1 norm: 5.544.. Val L1 norm: 7.081.. Train Linf norm: 588.812.. Val Linf norm: 959.910\n",
            "Epoch 14/96.. Train loss: 48.014.. Val loss: 43.187.. Train L1 norm: 5.460.. Val L1 norm: 6.939.. Train Linf norm: 570.826.. Val Linf norm: 939.233\n",
            "Epoch 15/96.. Train loss: 48.266.. Val loss: 43.167.. Train L1 norm: 5.524.. Val L1 norm: 7.195.. Train Linf norm: 586.233.. Val Linf norm: 976.362\n",
            "Epoch 16/96.. Train loss: 47.993.. Val loss: 43.176.. Train L1 norm: 5.461.. Val L1 norm: 7.351.. Train Linf norm: 563.674.. Val Linf norm: 998.883\n",
            "Epoch 17/96.. Train loss: 47.999.. Val loss: 43.169.. Train L1 norm: 5.493.. Val L1 norm: 7.256.. Train Linf norm: 586.187.. Val Linf norm: 985.180\n",
            "Epoch 18/96.. Train loss: 47.997.. Val loss: 43.167.. Train L1 norm: 5.609.. Val L1 norm: 7.206.. Train Linf norm: 625.099.. Val Linf norm: 977.953\n",
            "Epoch 19/96.. Train loss: 47.948.. Val loss: 43.169.. Train L1 norm: 5.464.. Val L1 norm: 7.116.. Train Linf norm: 546.962.. Val Linf norm: 964.981\n",
            "Epoch 20/96.. Train loss: 47.986.. Val loss: 43.167.. Train L1 norm: 5.435.. Val L1 norm: 7.192.. Train Linf norm: 584.156.. Val Linf norm: 975.913\n",
            "Epoch 21/96.. Train loss: 47.969.. Val loss: 43.167.. Train L1 norm: 5.522.. Val L1 norm: 7.191.. Train Linf norm: 568.203.. Val Linf norm: 975.844\n",
            "Epoch 22/96.. Train loss: 48.011.. Val loss: 43.167.. Train L1 norm: 5.551.. Val L1 norm: 7.198.. Train Linf norm: 595.947.. Val Linf norm: 976.863\n",
            "Epoch 23/96.. Train loss: 48.110.. Val loss: 43.174.. Train L1 norm: 5.516.. Val L1 norm: 7.331.. Train Linf norm: 587.658.. Val Linf norm: 996.076\n",
            "Epoch 24/96.. Train loss: 48.147.. Val loss: 43.168.. Train L1 norm: 5.479.. Val L1 norm: 7.240.. Train Linf norm: 585.566.. Val Linf norm: 982.952\n",
            "Epoch 25/96.. Train loss: 48.999.. Val loss: 43.179.. Train L1 norm: 5.586.. Val L1 norm: 7.373.. Train Linf norm: 616.699.. Val Linf norm: 1002.121\n",
            "Epoch 26/96.. Train loss: 47.976.. Val loss: 43.180.. Train L1 norm: 5.486.. Val L1 norm: 7.381.. Train Linf norm: 567.144.. Val Linf norm: 1003.287\n",
            "Epoch 27/96.. Train loss: 48.006.. Val loss: 43.170.. Train L1 norm: 5.421.. Val L1 norm: 7.095.. Train Linf norm: 558.369.. Val Linf norm: 961.946\n",
            "Epoch 28/96.. Train loss: 48.053.. Val loss: 43.169.. Train L1 norm: 5.512.. Val L1 norm: 7.259.. Train Linf norm: 591.601.. Val Linf norm: 985.690\n",
            "Epoch 29/96.. Train loss: 50.701.. Val loss: 43.168.. Train L1 norm: 5.391.. Val L1 norm: 7.149.. Train Linf norm: 593.199.. Val Linf norm: 969.701\n",
            "Epoch 30/96.. Train loss: 48.184.. Val loss: 43.335.. Train L1 norm: 5.364.. Val L1 norm: 6.479.. Train Linf norm: 555.925.. Val Linf norm: 872.185\n",
            "Epoch 31/96.. Train loss: 92.366.. Val loss: 43.169.. Train L1 norm: 5.877.. Val L1 norm: 7.104.. Train Linf norm: 625.555.. Val Linf norm: 963.200\n",
            "Epoch 32/96.. Train loss: 80.680.. Val loss: 43.338.. Train L1 norm: 5.245.. Val L1 norm: 6.474.. Train Linf norm: 535.487.. Val Linf norm: 871.481\n",
            "Epoch 33/96.. Train loss: 6730.964.. Val loss: 43.178.. Train L1 norm: 5.820.. Val L1 norm: 7.006.. Train Linf norm: 609.749.. Val Linf norm: 948.966\n",
            "Epoch 34/96.. Train loss: 52226.469.. Val loss: 43.170.. Train L1 norm: 47.193.. Val L1 norm: 7.272.. Train Linf norm: 9625.927.. Val Linf norm: 987.493\n",
            "Epoch 35/96.. Train loss: 84005.948.. Val loss: 43.197.. Train L1 norm: 8.418.. Val L1 norm: 6.886.. Train Linf norm: 1030.504.. Val Linf norm: 931.513\n",
            "Epoch 36/96.. Train loss: 48.638.. Val loss: 43.170.. Train L1 norm: 5.358.. Val L1 norm: 7.281.. Train Linf norm: 559.585.. Val Linf norm: 988.804\n",
            "Epoch 37/96.. Train loss: 48.523.. Val loss: 43.207.. Train L1 norm: 5.431.. Val L1 norm: 6.839.. Train Linf norm: 592.771.. Val Linf norm: 924.692\n",
            "Epoch 38/96.. Train loss: 50.669.. Val loss: 43.202.. Train L1 norm: 5.274.. Val L1 norm: 6.860.. Train Linf norm: 535.442.. Val Linf norm: 927.815\n",
            "Epoch 39/96.. Train loss: 23775.292.. Val loss: 43.168.. Train L1 norm: 9.367.. Val L1 norm: 7.231.. Train Linf norm: 752.761.. Val Linf norm: 981.640\n",
            "Epoch 40/96.. Train loss: 2595.140.. Val loss: 43.229.. Train L1 norm: 10.626.. Val L1 norm: 6.756.. Train Linf norm: 931.111.. Val Linf norm: 912.665\n",
            "Epoch 41/96.. Train loss: 52.734.. Val loss: 43.188.. Train L1 norm: 5.304.. Val L1 norm: 6.932.. Train Linf norm: 553.064.. Val Linf norm: 938.255\n",
            "Epoch 42/96.. Train loss: 29949.147.. Val loss: 43.199.. Train L1 norm: 5.823.. Val L1 norm: 6.874.. Train Linf norm: 620.764.. Val Linf norm: 929.791\n",
            "Epoch 43/96.. Train loss: 133.820.. Val loss: 43.278.. Train L1 norm: 5.537.. Val L1 norm: 6.612.. Train Linf norm: 605.596.. Val Linf norm: 891.612\n",
            "Epoch 44/96.. Train loss: 48.450.. Val loss: 43.296.. Train L1 norm: 5.496.. Val L1 norm: 6.565.. Train Linf norm: 595.459.. Val Linf norm: 884.852\n",
            "Epoch 45/96.. Train loss: 54.814.. Val loss: 43.182.. Train L1 norm: 5.538.. Val L1 norm: 6.976.. Train Linf norm: 616.060.. Val Linf norm: 944.642\n",
            "Epoch 46/96.. Train loss: 48.349.. Val loss: 43.226.. Train L1 norm: 5.323.. Val L1 norm: 6.766.. Train Linf norm: 544.537.. Val Linf norm: 914.060\n",
            "Epoch 47/96.. Train loss: 48.318.. Val loss: 43.167.. Train L1 norm: 5.495.. Val L1 norm: 7.171.. Train Linf norm: 609.631.. Val Linf norm: 972.892\n",
            "Epoch 48/96.. Train loss: 48.348.. Val loss: 43.197.. Train L1 norm: 5.535.. Val L1 norm: 6.887.. Train Linf norm: 611.380.. Val Linf norm: 931.740\n",
            "Epoch 49/96.. Train loss: 48.268.. Val loss: 43.197.. Train L1 norm: 5.426.. Val L1 norm: 6.887.. Train Linf norm: 546.704.. Val Linf norm: 931.668\n",
            "Epoch 50/96.. Train loss: 48.309.. Val loss: 43.187.. Train L1 norm: 5.478.. Val L1 norm: 6.943.. Train Linf norm: 584.122.. Val Linf norm: 939.899\n",
            "Epoch 51/96.. Train loss: 48.345.. Val loss: 43.167.. Train L1 norm: 5.418.. Val L1 norm: 7.180.. Train Linf norm: 572.356.. Val Linf norm: 974.150\n",
            "Epoch 52/96.. Train loss: 48.256.. Val loss: 43.171.. Train L1 norm: 5.509.. Val L1 norm: 7.079.. Train Linf norm: 593.323.. Val Linf norm: 959.633\n",
            "Epoch 53/96.. Train loss: 48.266.. Val loss: 43.178.. Train L1 norm: 5.462.. Val L1 norm: 7.007.. Train Linf norm: 591.942.. Val Linf norm: 949.174\n",
            "Epoch 54/96.. Train loss: 48.309.. Val loss: 43.172.. Train L1 norm: 5.515.. Val L1 norm: 7.064.. Train Linf norm: 600.843.. Val Linf norm: 957.397\n",
            "Epoch 55/96.. Train loss: 48.242.. Val loss: 43.196.. Train L1 norm: 5.406.. Val L1 norm: 6.889.. Train Linf norm: 553.113.. Val Linf norm: 932.046\n",
            "Epoch 56/96.. Train loss: 48.140.. Val loss: 43.218.. Train L1 norm: 5.461.. Val L1 norm: 6.794.. Train Linf norm: 572.686.. Val Linf norm: 918.186\n",
            "Epoch 57/96.. Train loss: 48.249.. Val loss: 43.192.. Train L1 norm: 5.522.. Val L1 norm: 6.913.. Train Linf norm: 593.017.. Val Linf norm: 935.463\n",
            "Epoch 58/96.. Train loss: 48.227.. Val loss: 43.218.. Train L1 norm: 5.562.. Val L1 norm: 6.794.. Train Linf norm: 607.194.. Val Linf norm: 918.141\n",
            "Epoch 59/96.. Train loss: 64.144.. Val loss: 43.192.. Train L1 norm: 5.537.. Val L1 norm: 6.910.. Train Linf norm: 575.541.. Val Linf norm: 935.068\n",
            "Epoch 60/96.. Train loss: 48.206.. Val loss: 43.198.. Train L1 norm: 5.485.. Val L1 norm: 6.883.. Train Linf norm: 587.967.. Val Linf norm: 931.097\n",
            "Epoch 61/96.. Train loss: 48.234.. Val loss: 43.197.. Train L1 norm: 5.558.. Val L1 norm: 6.884.. Train Linf norm: 603.085.. Val Linf norm: 931.246\n",
            "Epoch 62/96.. Train loss: 48.213.. Val loss: 43.197.. Train L1 norm: 5.510.. Val L1 norm: 6.886.. Train Linf norm: 600.955.. Val Linf norm: 931.566\n",
            "Epoch 63/96.. Train loss: 48.191.. Val loss: 43.205.. Train L1 norm: 5.569.. Val L1 norm: 6.849.. Train Linf norm: 601.517.. Val Linf norm: 926.112\n",
            "Epoch 64/96.. Train loss: 48.293.. Val loss: 43.203.. Train L1 norm: 5.400.. Val L1 norm: 6.858.. Train Linf norm: 548.001.. Val Linf norm: 927.439\n",
            "Epoch 65/96.. Train loss: 48.223.. Val loss: 43.220.. Train L1 norm: 5.267.. Val L1 norm: 6.789.. Train Linf norm: 522.364.. Val Linf norm: 917.467\n",
            "Epoch 66/96.. Train loss: 48.201.. Val loss: 43.169.. Train L1 norm: 5.484.. Val L1 norm: 7.104.. Train Linf norm: 568.500.. Val Linf norm: 963.225\n",
            "Epoch 67/96.. Train loss: 48.197.. Val loss: 43.185.. Train L1 norm: 5.434.. Val L1 norm: 6.954.. Train Linf norm: 586.194.. Val Linf norm: 941.407\n",
            "Epoch 68/96.. Train loss: 48.207.. Val loss: 43.206.. Train L1 norm: 5.481.. Val L1 norm: 6.844.. Train Linf norm: 568.240.. Val Linf norm: 925.486\n",
            "Epoch 69/96.. Train loss: 48.229.. Val loss: 43.167.. Train L1 norm: 5.493.. Val L1 norm: 7.154.. Train Linf norm: 585.848.. Val Linf norm: 970.363\n",
            "Epoch 70/96.. Train loss: 28490.816.. Val loss: 43.169.. Train L1 norm: 9.488.. Val L1 norm: 7.106.. Train Linf norm: 1135.714.. Val Linf norm: 963.516\n",
            "Epoch 71/96.. Train loss: 48.441.. Val loss: 43.212.. Train L1 norm: 5.353.. Val L1 norm: 6.818.. Train Linf norm: 576.489.. Val Linf norm: 921.642\n",
            "Epoch 72/96.. Train loss: 76.979.. Val loss: 43.895.. Train L1 norm: 5.445.. Val L1 norm: 5.724.. Train Linf norm: 582.837.. Val Linf norm: 761.208\n",
            "Epoch 73/96.. Train loss: 1519.109.. Val loss: 43.206.. Train L1 norm: 8.262.. Val L1 norm: 7.526.. Train Linf norm: 750.961.. Val Linf norm: 1024.224\n",
            "Epoch 74/96.. Train loss: 54.517.. Val loss: 43.215.. Train L1 norm: 5.561.. Val L1 norm: 6.806.. Train Linf norm: 619.478.. Val Linf norm: 919.852\n",
            "Epoch 75/96.. Train loss: 48.606.. Val loss: 43.476.. Train L1 norm: 5.363.. Val L1 norm: 6.230.. Train Linf norm: 561.110.. Val Linf norm: 835.730\n",
            "Epoch 76/96.. Train loss: 6920.428.. Val loss: 43.269.. Train L1 norm: 7.615.. Val L1 norm: 6.635.. Train Linf norm: 683.545.. Val Linf norm: 894.951\n",
            "Epoch 77/96.. Train loss: 7480450731.289.. Val loss: 555932.011.. Train L1 norm: 1290.733.. Val L1 norm: 1379.776.. Train Linf norm: 91599.507.. Val Linf norm: 185666.570\n",
            "Epoch 78/96.. Train loss: 5560204253.567.. Val loss: 2114.698.. Train L1 norm: 2673.321.. Val L1 norm: 77.863.. Train Linf norm: 237141.193.. Val Linf norm: 10418.736\n",
            "Epoch 79/96.. Train loss: 26746241.008.. Val loss: 169.648.. Train L1 norm: 83.562.. Val L1 norm: 27.711.. Train Linf norm: 10544.459.. Val Linf norm: 3790.145\n",
            "Epoch 80/96.. Train loss: 140427.789.. Val loss: 46.755.. Train L1 norm: 28.961.. Val L1 norm: 3.989.. Train Linf norm: 3110.936.. Val Linf norm: 500.683\n",
            "Epoch 81/96.. Train loss: 22234230373.473.. Val loss: 45.367.. Train L1 norm: 340.280.. Val L1 norm: 9.785.. Train Linf norm: 48444.250.. Val Linf norm: 1346.088\n",
            "Epoch 82/96.. Train loss: 20610569326.413.. Val loss: 29471.552.. Train L1 norm: 2003.812.. Val L1 norm: 312.247.. Train Linf norm: 406651.764.. Val Linf norm: 41968.647\n",
            "Epoch 83/96.. Train loss: 93666019051.744.. Val loss: 304.335.. Train L1 norm: 5122.293.. Val L1 norm: 36.841.. Train Linf norm: 328153.537.. Val Linf norm: 5020.348\n",
            "Epoch 84/96.. Train loss: 6449025772.118.. Val loss: 2546.048.. Train L1 norm: 1583.101.. Val L1 norm: 86.259.. Train Linf norm: 143975.502.. Val Linf norm: 11548.909\n",
            "Epoch 85/96.. Train loss: 48366318.940.. Val loss: 43.530.. Train L1 norm: 93.508.. Val L1 norm: 8.232.. Train Linf norm: 12272.662.. Val Linf norm: 1125.658\n",
            "Epoch 86/96.. Train loss: 402017867.030.. Val loss: 79.532.. Train L1 norm: 64.431.. Val L1 norm: 18.053.. Train Linf norm: 9557.292.. Val Linf norm: 2484.416\n",
            "Epoch 87/96.. Train loss: 1072769353.796.. Val loss: 101.523.. Train L1 norm: 74.349.. Val L1 norm: 21.024.. Train Linf norm: 12801.966.. Val Linf norm: 2887.135\n",
            "Epoch 88/96.. Train loss: 66216186.074.. Val loss: 106.048.. Train L1 norm: 42.857.. Val L1 norm: 21.562.. Train Linf norm: 5692.264.. Val Linf norm: 2959.899\n",
            "Epoch 89/96.. Train loss: 982.741.. Val loss: 85.123.. Train L1 norm: 31.283.. Val L1 norm: 18.877.. Train Linf norm: 3735.631.. Val Linf norm: 2596.309\n",
            "Epoch 90/96.. Train loss: 884.332.. Val loss: 70.782.. Train L1 norm: 33.468.. Val L1 norm: 16.625.. Train Linf norm: 3738.099.. Val Linf norm: 2290.321\n",
            "Epoch 91/96.. Train loss: 3051.150.. Val loss: 52.998.. Train L1 norm: 27.725.. Val L1 norm: 12.752.. Train Linf norm: 3216.134.. Val Linf norm: 1759.732\n",
            "Epoch 92/96.. Train loss: 740.565.. Val loss: 44.135.. Train L1 norm: 26.516.. Val L1 norm: 8.901.. Train Linf norm: 3050.007.. Val Linf norm: 1221.055\n",
            "Epoch 93/96.. Train loss: 41129876.012.. Val loss: 55.042.. Train L1 norm: 32.255.. Val L1 norm: 13.315.. Train Linf norm: 4773.442.. Val Linf norm: 1837.458\n",
            "Epoch 94/96.. Train loss: 148835895.728.. Val loss: 52.376.. Train L1 norm: 41.489.. Val L1 norm: 2.181.. Train Linf norm: 5986.923.. Val Linf norm: 215.210\n",
            "Epoch 95/96.. Train loss: 6057257.615.. Val loss: 64.926.. Train L1 norm: 39.592.. Val L1 norm: 2.151.. Train Linf norm: 5920.909.. Val Linf norm: 192.890\n"
          ]
        },
        {
          "output_type": "stream",
          "name": "stderr",
          "text": [
            "[I 2023-05-30 11:44:57,112] Trial 22 finished with value: 1.9782326422373453 and parameters: {'n_layers': 5, 'n_units_0': 4010, 'n_units_1': 1790, 'n_units_2': 1709, 'n_units_3': 4015, 'n_units_4': 2578, 'hidden_activation': 'ReLU', 'output_activation': 'Linear', 'loss': 'MSE', 'optimizer': 'Adam', 'lr': 0.012290769996118566, 'batch_size': 256, 'n_epochs': 96, 'scheduler': 'CosineAnnealingLR', 'dropout_rate': 0.15746264158449447, 'weight_decay': 0.0043889166158692355, 'beta1': 0.9238070749534432, 'beta2': 0.9997146631332471, 't_max_fraction': 0.21222114175383866, 'eta_min': 1.880185893026764e-05}. Best is trial 8 with value: 1.0124110089619955.\n"
          ]
        },
        {
          "output_type": "stream",
          "name": "stdout",
          "text": [
            "Epoch 96/96.. Train loss: 113662955.750.. Val loss: 63.950.. Train L1 norm: 35.127.. Val L1 norm: 1.978.. Train Linf norm: 5317.777.. Val Linf norm: 166.420\n"
          ]
        },
        {
          "output_type": "stream",
          "name": "stderr",
          "text": [
            "[I 2023-05-30 11:44:59,713] Trial 23 pruned. \n"
          ]
        },
        {
          "output_type": "stream",
          "name": "stdout",
          "text": [
            "Epoch 1/80.. Train loss: 299779839887.956.. Val loss: 2746752510.563.. Train L1 norm: 27399.636.. Val L1 norm: 339.420.. Train Linf norm: 2925535.832.. Val Linf norm: 65121.810\n",
            "Epoch 1/62.. Train loss: 6732605687.438.. Val loss: 58.830.. Train L1 norm: 2871.135.. Val L1 norm: 1.072.. Train Linf norm: 130228.560.. Val Linf norm: 16.225\n",
            "Epoch 2/62.. Train loss: 64.746.. Val loss: 58.829.. Train L1 norm: 1.047.. Val L1 norm: 1.072.. Train Linf norm: 9.714.. Val Linf norm: 16.193\n",
            "Epoch 3/62.. Train loss: 6303897.029.. Val loss: 245.288.. Train L1 norm: 103.151.. Val L1 norm: 19.660.. Train Linf norm: 11695.038.. Val Linf norm: 2584.098\n",
            "Epoch 4/62.. Train loss: 2624247.087.. Val loss: 68.783.. Train L1 norm: 37.548.. Val L1 norm: 2.814.. Train Linf norm: 5243.422.. Val Linf norm: 292.164\n",
            "Epoch 5/62.. Train loss: 92894.261.. Val loss: 98.845.. Train L1 norm: 9.738.. Val L1 norm: 7.118.. Train Linf norm: 1320.027.. Val Linf norm: 893.076\n",
            "Epoch 6/62.. Train loss: 844.255.. Val loss: 61.988.. Train L1 norm: 4.093.. Val L1 norm: 1.627.. Train Linf norm: 387.163.. Val Linf norm: 111.225\n",
            "Epoch 7/62.. Train loss: 248.431.. Val loss: 50.415.. Train L1 norm: 2.422.. Val L1 norm: 2.709.. Train Linf norm: 218.621.. Val Linf norm: 300.930\n",
            "Epoch 8/62.. Train loss: 555.352.. Val loss: 49.644.. Train L1 norm: 2.883.. Val L1 norm: 2.941.. Train Linf norm: 270.636.. Val Linf norm: 337.766\n",
            "Epoch 9/62.. Train loss: 89.506.. Val loss: 47.336.. Train L1 norm: 3.019.. Val L1 norm: 3.749.. Train Linf norm: 296.070.. Val Linf norm: 463.709\n",
            "Epoch 10/62.. Train loss: 55.057.. Val loss: 46.389.. Train L1 norm: 3.111.. Val L1 norm: 4.152.. Train Linf norm: 276.542.. Val Linf norm: 525.529\n",
            "Epoch 11/62.. Train loss: 53.851.. Val loss: 46.062.. Train L1 norm: 3.472.. Val L1 norm: 4.306.. Train Linf norm: 350.463.. Val Linf norm: 548.908\n",
            "Epoch 12/62.. Train loss: 52.998.. Val loss: 45.915.. Train L1 norm: 3.494.. Val L1 norm: 4.378.. Train Linf norm: 346.355.. Val Linf norm: 559.855\n",
            "Epoch 13/62.. Train loss: 52.901.. Val loss: 45.600.. Train L1 norm: 3.591.. Val L1 norm: 4.540.. Train Linf norm: 347.543.. Val Linf norm: 584.388\n",
            "Epoch 14/62.. Train loss: 52.427.. Val loss: 44.901.. Train L1 norm: 3.900.. Val L1 norm: 4.944.. Train Linf norm: 404.154.. Val Linf norm: 645.196\n",
            "Epoch 15/62.. Train loss: 51.674.. Val loss: 44.011.. Train L1 norm: 4.125.. Val L1 norm: 5.613.. Train Linf norm: 431.237.. Val Linf norm: 744.912\n",
            "Epoch 16/62.. Train loss: 51.180.. Val loss: 43.409.. Train L1 norm: 4.792.. Val L1 norm: 6.339.. Train Linf norm: 527.063.. Val Linf norm: 851.758\n",
            "Epoch 17/62.. Train loss: 1894.900.. Val loss: 44.474.. Train L1 norm: 5.630.. Val L1 norm: 5.235.. Train Linf norm: 598.083.. Val Linf norm: 688.654\n",
            "Epoch 18/62.. Train loss: 25868.704.. Val loss: 47.879.. Train L1 norm: 7.143.. Val L1 norm: 11.012.. Train Linf norm: 802.866.. Val Linf norm: 1518.217\n",
            "Epoch 19/62.. Train loss: 278446.310.. Val loss: 89.580.. Train L1 norm: 22.096.. Val L1 norm: 19.496.. Train Linf norm: 2042.006.. Val Linf norm: 2680.255\n",
            "Epoch 20/62.. Train loss: 103867.968.. Val loss: 295.281.. Train L1 norm: 20.721.. Val L1 norm: 22.750.. Train Linf norm: 2339.916.. Val Linf norm: 2999.945\n",
            "Epoch 21/62.. Train loss: 900.644.. Val loss: 112.590.. Train L1 norm: 11.683.. Val L1 norm: 8.726.. Train Linf norm: 1237.516.. Val Linf norm: 1110.933\n",
            "Epoch 22/62.. Train loss: 312497.338.. Val loss: 70340760.238.. Train L1 norm: 19.824.. Val L1 norm: 325.234.. Train Linf norm: 1451.890.. Val Linf norm: 46532.876\n",
            "Epoch 23/62.. Train loss: 127605535.051.. Val loss: 58.845.. Train L1 norm: 27.521.. Val L1 norm: 1.074.. Train Linf norm: 4273.832.. Val Linf norm: 16.673\n",
            "Epoch 24/62.. Train loss: 26177589.593.. Val loss: 58.810.. Train L1 norm: 3.753.. Val L1 norm: 1.069.. Train Linf norm: 702.379.. Val Linf norm: 15.588\n",
            "Epoch 25/62.. Train loss: 471.626.. Val loss: 58.803.. Train L1 norm: 1.064.. Val L1 norm: 1.067.. Train Linf norm: 14.535.. Val Linf norm: 15.383\n",
            "Epoch 26/62.. Train loss: 2051.974.. Val loss: 58.797.. Train L1 norm: 1.078.. Val L1 norm: 1.066.. Train Linf norm: 17.447.. Val Linf norm: 15.177\n",
            "Epoch 27/62.. Train loss: 63.981.. Val loss: 58.791.. Train L1 norm: 1.042.. Val L1 norm: 1.065.. Train Linf norm: 9.008.. Val Linf norm: 15.000\n",
            "Epoch 28/62.. Train loss: 63.976.. Val loss: 58.786.. Train L1 norm: 1.041.. Val L1 norm: 1.065.. Train Linf norm: 9.149.. Val Linf norm: 14.850\n",
            "Epoch 29/62.. Train loss: 63.971.. Val loss: 58.782.. Train L1 norm: 1.041.. Val L1 norm: 1.064.. Train Linf norm: 8.791.. Val Linf norm: 14.732\n",
            "Epoch 30/62.. Train loss: 63.968.. Val loss: 58.780.. Train L1 norm: 1.041.. Val L1 norm: 1.064.. Train Linf norm: 8.587.. Val Linf norm: 14.646\n",
            "Epoch 31/62.. Train loss: 821728.872.. Val loss: 58.776.. Train L1 norm: 1.643.. Val L1 norm: 1.063.. Train Linf norm: 163.174.. Val Linf norm: 14.545\n",
            "Epoch 32/62.. Train loss: 63637.983.. Val loss: 58.775.. Train L1 norm: 1.221.. Val L1 norm: 1.063.. Train Linf norm: 55.097.. Val Linf norm: 14.509\n",
            "Epoch 33/62.. Train loss: 63.962.. Val loss: 58.775.. Train L1 norm: 1.040.. Val L1 norm: 1.063.. Train Linf norm: 8.718.. Val Linf norm: 14.497\n",
            "Epoch 34/62.. Train loss: 391499.351.. Val loss: 58.775.. Train L1 norm: 4.280.. Val L1 norm: 1.063.. Train Linf norm: 837.995.. Val Linf norm: 14.487\n",
            "Epoch 35/62.. Train loss: 63.961.. Val loss: 58.774.. Train L1 norm: 1.040.. Val L1 norm: 1.063.. Train Linf norm: 8.643.. Val Linf norm: 14.474\n",
            "Epoch 36/62.. Train loss: 63.961.. Val loss: 58.773.. Train L1 norm: 1.040.. Val L1 norm: 1.063.. Train Linf norm: 8.633.. Val Linf norm: 14.439\n",
            "Epoch 37/62.. Train loss: 63.959.. Val loss: 58.771.. Train L1 norm: 1.040.. Val L1 norm: 1.062.. Train Linf norm: 8.628.. Val Linf norm: 14.368\n",
            "Epoch 38/62.. Train loss: 63.956.. Val loss: 58.767.. Train L1 norm: 1.039.. Val L1 norm: 1.062.. Train Linf norm: 8.306.. Val Linf norm: 14.248\n",
            "Epoch 39/62.. Train loss: 63.951.. Val loss: 58.761.. Train L1 norm: 1.039.. Val L1 norm: 1.061.. Train Linf norm: 8.511.. Val Linf norm: 14.066\n",
            "Epoch 40/62.. Train loss: 63.944.. Val loss: 58.753.. Train L1 norm: 1.038.. Val L1 norm: 1.059.. Train Linf norm: 8.232.. Val Linf norm: 13.816\n",
            "Epoch 41/62.. Train loss: 63.934.. Val loss: 58.743.. Train L1 norm: 1.037.. Val L1 norm: 1.058.. Train Linf norm: 8.285.. Val Linf norm: 13.496\n",
            "Epoch 42/62.. Train loss: 154.160.. Val loss: 58.730.. Train L1 norm: 1.042.. Val L1 norm: 1.056.. Train Linf norm: 9.507.. Val Linf norm: 13.104\n",
            "Epoch 43/62.. Train loss: 74.250.. Val loss: 58.716.. Train L1 norm: 1.042.. Val L1 norm: 1.054.. Train Linf norm: 9.736.. Val Linf norm: 12.651\n",
            "Epoch 44/62.. Train loss: 63.894.. Val loss: 58.700.. Train L1 norm: 1.033.. Val L1 norm: 1.051.. Train Linf norm: 7.438.. Val Linf norm: 12.153\n",
            "Epoch 45/62.. Train loss: 63.877.. Val loss: 58.683.. Train L1 norm: 1.031.. Val L1 norm: 1.048.. Train Linf norm: 7.147.. Val Linf norm: 11.627\n",
            "Epoch 46/62.. Train loss: 63.860.. Val loss: 58.666.. Train L1 norm: 1.029.. Val L1 norm: 1.046.. Train Linf norm: 6.921.. Val Linf norm: 11.087\n",
            "Epoch 47/62.. Train loss: 63.842.. Val loss: 58.649.. Train L1 norm: 1.028.. Val L1 norm: 1.043.. Train Linf norm: 6.527.. Val Linf norm: 10.563\n",
            "Epoch 48/62.. Train loss: 63.826.. Val loss: 58.633.. Train L1 norm: 1.026.. Val L1 norm: 1.041.. Train Linf norm: 6.312.. Val Linf norm: 10.069\n",
            "Epoch 49/62.. Train loss: 63.810.. Val loss: 58.619.. Train L1 norm: 1.025.. Val L1 norm: 1.039.. Train Linf norm: 6.060.. Val Linf norm: 9.629\n",
            "Epoch 50/62.. Train loss: 42090.491.. Val loss: 58.605.. Train L1 norm: 1.192.. Val L1 norm: 1.036.. Train Linf norm: 48.737.. Val Linf norm: 9.172\n",
            "Epoch 51/62.. Train loss: 63.783.. Val loss: 58.595.. Train L1 norm: 1.022.. Val L1 norm: 1.035.. Train Linf norm: 5.603.. Val Linf norm: 8.866\n",
            "Epoch 52/62.. Train loss: 63.775.. Val loss: 58.588.. Train L1 norm: 1.021.. Val L1 norm: 1.034.. Train Linf norm: 5.390.. Val Linf norm: 8.655\n",
            "Epoch 53/62.. Train loss: 63.769.. Val loss: 58.584.. Train L1 norm: 1.020.. Val L1 norm: 1.033.. Train Linf norm: 5.330.. Val Linf norm: 8.520\n",
            "Epoch 54/62.. Train loss: 63.766.. Val loss: 58.581.. Train L1 norm: 1.020.. Val L1 norm: 1.033.. Train Linf norm: 5.217.. Val Linf norm: 8.449\n",
            "Epoch 55/62.. Train loss: 63.764.. Val loss: 58.580.. Train L1 norm: 1.020.. Val L1 norm: 1.033.. Train Linf norm: 5.142.. Val Linf norm: 8.420\n",
            "Epoch 56/62.. Train loss: 63.764.. Val loss: 58.580.. Train L1 norm: 1.020.. Val L1 norm: 1.033.. Train Linf norm: 5.162.. Val Linf norm: 8.407\n",
            "Epoch 57/62.. Train loss: 63.763.. Val loss: 58.579.. Train L1 norm: 1.020.. Val L1 norm: 1.033.. Train Linf norm: 5.120.. Val Linf norm: 8.375\n",
            "Epoch 58/62.. Train loss: 63.761.. Val loss: 58.576.. Train L1 norm: 1.020.. Val L1 norm: 1.032.. Train Linf norm: 5.034.. Val Linf norm: 8.292\n",
            "Epoch 59/62.. Train loss: 63.757.. Val loss: 58.571.. Train L1 norm: 1.019.. Val L1 norm: 1.031.. Train Linf norm: 4.907.. Val Linf norm: 8.121\n",
            "Epoch 60/62.. Train loss: 63.749.. Val loss: 58.561.. Train L1 norm: 1.018.. Val L1 norm: 1.030.. Train Linf norm: 4.959.. Val Linf norm: 7.830\n",
            "Epoch 61/62.. Train loss: 63.737.. Val loss: 58.547.. Train L1 norm: 1.017.. Val L1 norm: 1.028.. Train Linf norm: 4.668.. Val Linf norm: 7.394\n"
          ]
        },
        {
          "output_type": "stream",
          "name": "stderr",
          "text": [
            "[I 2023-05-30 11:52:31,034] Trial 24 finished with value: 1.0251152156194052 and parameters: {'n_layers': 6, 'n_units_0': 4095, 'n_units_1': 2899, 'n_units_2': 1035, 'n_units_3': 1938, 'n_units_4': 3583, 'n_units_5': 1285, 'hidden_activation': 'SoftPlus', 'output_activation': 'Linear', 'loss': 'MSE', 'optimizer': 'Adam', 'lr': 0.005360723938568594, 'batch_size': 256, 'n_epochs': 62, 'scheduler': 'CosineAnnealingLR', 'softplus_beta': 1.18357475969389, 'dropout_rate': 0.19418883715294366, 'weight_decay': 0.004405112200231807, 'beta1': 0.9572033272865761, 'beta2': 0.9997104110333705, 't_max_fraction': 0.18104262372138327, 'eta_min': 8.974399573216291e-05}. Best is trial 8 with value: 1.0124110089619955.\n"
          ]
        },
        {
          "output_type": "stream",
          "name": "stdout",
          "text": [
            "Epoch 62/62.. Train loss: 63.721.. Val loss: 58.528.. Train L1 norm: 1.016.. Val L1 norm: 1.025.. Train Linf norm: 4.365.. Val Linf norm: 6.796\n"
          ]
        },
        {
          "output_type": "stream",
          "name": "stderr",
          "text": [
            "[I 2023-05-30 11:52:38,139] Trial 25 pruned. \n"
          ]
        },
        {
          "output_type": "stream",
          "name": "stdout",
          "text": [
            "Epoch 1/63.. Train loss: 20434430227.479.. Val loss: 45.568.. Train L1 norm: 5328.852.. Val L1 norm: 9.903.. Train Linf norm: 206871.346.. Val Linf norm: 1362.750\n"
          ]
        },
        {
          "output_type": "stream",
          "name": "stderr",
          "text": [
            "WARNING:tensorboardX.x2num:NaN or Inf found in input tensor.\n",
            "WARNING:tensorboardX.x2num:NaN or Inf found in input tensor.\n",
            "WARNING:tensorboardX.x2num:NaN or Inf found in input tensor.\n",
            "WARNING:tensorboardX.x2num:NaN or Inf found in input tensor.\n",
            "WARNING:tensorboardX.x2num:NaN or Inf found in input tensor.\n",
            "WARNING:tensorboardX.x2num:NaN or Inf found in input tensor.\n",
            "[I 2023-05-30 11:52:41,297] Trial 26 pruned. \n"
          ]
        },
        {
          "output_type": "stream",
          "name": "stdout",
          "text": [
            "Epoch 1/60.. Train loss: nan.. Val loss: nan.. Train L1 norm: nan.. Val L1 norm: nan.. Train Linf norm: nan.. Val Linf norm: nan\n"
          ]
        },
        {
          "output_type": "stream",
          "name": "stderr",
          "text": [
            "[I 2023-05-30 11:52:48,969] Trial 27 pruned. \n"
          ]
        },
        {
          "output_type": "stream",
          "name": "stdout",
          "text": [
            "Epoch 1/52.. Train loss: 2121711753724315.000.. Val loss: 654.727.. Train L1 norm: 2598758083836348.000.. Val L1 norm: 839.433.. Train Linf norm: 178680752700216000.000.. Val Linf norm: 120442.282\n",
            "Epoch 1/68.. Train loss: 75.415.. Val loss: 4.826.. Train L1 norm: 39.379.. Val L1 norm: 1.613.. Train Linf norm: 1368.284.. Val Linf norm: 105.491\n",
            "Epoch 2/68.. Train loss: 5.389.. Val loss: 4.463.. Train L1 norm: 3.534.. Val L1 norm: 3.045.. Train Linf norm: 357.008.. Val Linf norm: 344.897\n",
            "Epoch 3/68.. Train loss: 5.033.. Val loss: 4.424.. Train L1 norm: 3.124.. Val L1 norm: 4.016.. Train Linf norm: 296.854.. Val Linf norm: 504.820\n",
            "Epoch 4/68.. Train loss: 4.388.. Val loss: 4.339.. Train L1 norm: 3.683.. Val L1 norm: 5.045.. Train Linf norm: 368.393.. Val Linf norm: 660.270\n",
            "Epoch 5/68.. Train loss: 4.327.. Val loss: 4.317.. Train L1 norm: 4.123.. Val L1 norm: 5.598.. Train Linf norm: 423.676.. Val Linf norm: 742.690\n",
            "Epoch 6/68.. Train loss: 4.294.. Val loss: 4.312.. Train L1 norm: 4.412.. Val L1 norm: 5.819.. Train Linf norm: 443.781.. Val Linf norm: 775.362\n",
            "Epoch 7/68.. Train loss: 4.302.. Val loss: 4.310.. Train L1 norm: 4.525.. Val L1 norm: 5.941.. Train Linf norm: 473.172.. Val Linf norm: 793.325\n",
            "Epoch 8/68.. Train loss: 4.293.. Val loss: 4.274.. Train L1 norm: 4.638.. Val L1 norm: 6.062.. Train Linf norm: 465.440.. Val Linf norm: 808.198\n",
            "Epoch 9/68.. Train loss: 4.314.. Val loss: 4.310.. Train L1 norm: 4.672.. Val L1 norm: 5.964.. Train Linf norm: 492.271.. Val Linf norm: 796.666\n",
            "Epoch 10/68.. Train loss: 4.293.. Val loss: 4.309.. Train L1 norm: 4.577.. Val L1 norm: 5.985.. Train Linf norm: 486.089.. Val Linf norm: 799.840\n",
            "Epoch 11/68.. Train loss: 4.291.. Val loss: 4.295.. Train L1 norm: 4.587.. Val L1 norm: 5.980.. Train Linf norm: 474.645.. Val Linf norm: 801.099\n",
            "Epoch 12/68.. Train loss: 4.276.. Val loss: 4.270.. Train L1 norm: 4.447.. Val L1 norm: 5.981.. Train Linf norm: 450.777.. Val Linf norm: 803.122\n",
            "Epoch 13/68.. Train loss: 4.227.. Val loss: 4.231.. Train L1 norm: 4.352.. Val L1 norm: 5.929.. Train Linf norm: 440.582.. Val Linf norm: 799.214\n",
            "Epoch 14/68.. Train loss: 4.194.. Val loss: 4.156.. Train L1 norm: 4.314.. Val L1 norm: 5.893.. Train Linf norm: 437.675.. Val Linf norm: 814.952\n",
            "Epoch 15/68.. Train loss: 4.184.. Val loss: 4.193.. Train L1 norm: 4.473.. Val L1 norm: 6.196.. Train Linf norm: 482.258.. Val Linf norm: 847.059\n",
            "Epoch 16/68.. Train loss: 4.296.. Val loss: 4.309.. Train L1 norm: 4.784.. Val L1 norm: 6.298.. Train Linf norm: 503.366.. Val Linf norm: 845.735\n",
            "Epoch 17/68.. Train loss: 4.295.. Val loss: 4.309.. Train L1 norm: 4.748.. Val L1 norm: 6.166.. Train Linf norm: 496.811.. Val Linf norm: 826.333\n",
            "Epoch 18/68.. Train loss: 4.294.. Val loss: 4.309.. Train L1 norm: 4.702.. Val L1 norm: 6.114.. Train Linf norm: 488.716.. Val Linf norm: 818.682\n",
            "Epoch 19/68.. Train loss: 4.337.. Val loss: 4.309.. Train L1 norm: 4.667.. Val L1 norm: 6.010.. Train Linf norm: 472.056.. Val Linf norm: 803.428\n",
            "Epoch 20/68.. Train loss: 4.408.. Val loss: 4.309.. Train L1 norm: 4.669.. Val L1 norm: 6.075.. Train Linf norm: 472.727.. Val Linf norm: 812.948\n",
            "Epoch 21/68.. Train loss: 4.310.. Val loss: 4.309.. Train L1 norm: 4.662.. Val L1 norm: 6.125.. Train Linf norm: 495.082.. Val Linf norm: 820.406\n",
            "Epoch 22/68.. Train loss: 4.396.. Val loss: 4.309.. Train L1 norm: 4.799.. Val L1 norm: 6.141.. Train Linf norm: 509.847.. Val Linf norm: 822.749\n",
            "Epoch 23/68.. Train loss: 4.295.. Val loss: 4.309.. Train L1 norm: 4.686.. Val L1 norm: 6.061.. Train Linf norm: 492.609.. Val Linf norm: 810.986\n",
            "Epoch 24/68.. Train loss: 4.349.. Val loss: 4.387.. Train L1 norm: 4.720.. Val L1 norm: 5.650.. Train Linf norm: 509.774.. Val Linf norm: 750.476\n",
            "Epoch 25/68.. Train loss: 4.315.. Val loss: 4.309.. Train L1 norm: 4.634.. Val L1 norm: 6.165.. Train Linf norm: 476.176.. Val Linf norm: 826.237\n",
            "Epoch 26/68.. Train loss: 4.299.. Val loss: 4.309.. Train L1 norm: 4.697.. Val L1 norm: 6.166.. Train Linf norm: 493.993.. Val Linf norm: 826.425\n",
            "Epoch 27/68.. Train loss: 4.292.. Val loss: 4.309.. Train L1 norm: 4.702.. Val L1 norm: 6.094.. Train Linf norm: 489.953.. Val Linf norm: 815.859\n",
            "Epoch 28/68.. Train loss: 5.052.. Val loss: 4.310.. Train L1 norm: 4.794.. Val L1 norm: 5.940.. Train Linf norm: 502.860.. Val Linf norm: 793.144\n",
            "Epoch 29/68.. Train loss: 4.528.. Val loss: 4.244.. Train L1 norm: 4.787.. Val L1 norm: 6.179.. Train Linf norm: 505.708.. Val Linf norm: 822.845\n",
            "Epoch 30/68.. Train loss: 4.308.. Val loss: 4.320.. Train L1 norm: 4.747.. Val L1 norm: 5.699.. Train Linf norm: 481.762.. Val Linf norm: 758.524\n",
            "Epoch 31/68.. Train loss: 4.290.. Val loss: 4.313.. Train L1 norm: 4.503.. Val L1 norm: 5.761.. Train Linf norm: 471.973.. Val Linf norm: 766.878\n",
            "Epoch 32/68.. Train loss: 4.293.. Val loss: 4.202.. Train L1 norm: 4.455.. Val L1 norm: 6.764.. Train Linf norm: 442.835.. Val Linf norm: 923.641\n",
            "Epoch 33/68.. Train loss: 4.740.. Val loss: 4.274.. Train L1 norm: 4.572.. Val L1 norm: 5.869.. Train Linf norm: 477.516.. Val Linf norm: 785.783\n",
            "Epoch 34/68.. Train loss: 4.512.. Val loss: 4.142.. Train L1 norm: 4.528.. Val L1 norm: 5.946.. Train Linf norm: 472.386.. Val Linf norm: 833.506\n",
            "Epoch 35/68.. Train loss: 4.393.. Val loss: 4.215.. Train L1 norm: 4.310.. Val L1 norm: 6.641.. Train Linf norm: 443.646.. Val Linf norm: 897.660\n",
            "Epoch 36/68.. Train loss: 4.308.. Val loss: 4.191.. Train L1 norm: 4.488.. Val L1 norm: 5.652.. Train Linf norm: 487.394.. Val Linf norm: 779.219\n",
            "Epoch 37/68.. Train loss: 4.244.. Val loss: 4.060.. Train L1 norm: 4.314.. Val L1 norm: 6.386.. Train Linf norm: 439.188.. Val Linf norm: 889.971\n",
            "Epoch 38/68.. Train loss: 4.637.. Val loss: 4.293.. Train L1 norm: 4.673.. Val L1 norm: 6.044.. Train Linf norm: 487.627.. Val Linf norm: 814.543\n",
            "Epoch 39/68.. Train loss: 4.309.. Val loss: 4.750.. Train L1 norm: 4.566.. Val L1 norm: 4.905.. Train Linf norm: 463.830.. Val Linf norm: 649.536\n",
            "Epoch 40/68.. Train loss: 4.690.. Val loss: 4.311.. Train L1 norm: 4.959.. Val L1 norm: 5.856.. Train Linf norm: 522.050.. Val Linf norm: 780.759\n",
            "Epoch 41/68.. Train loss: 4.356.. Val loss: 4.309.. Train L1 norm: 4.578.. Val L1 norm: 6.003.. Train Linf norm: 464.336.. Val Linf norm: 802.393\n",
            "Epoch 42/68.. Train loss: 6.113.. Val loss: 4.316.. Train L1 norm: 5.473.. Val L1 norm: 5.622.. Train Linf norm: 620.454.. Val Linf norm: 746.118\n",
            "Epoch 43/68.. Train loss: 4.412.. Val loss: 4.309.. Train L1 norm: 4.783.. Val L1 norm: 6.019.. Train Linf norm: 539.747.. Val Linf norm: 804.818\n",
            "Epoch 44/68.. Train loss: 4.779.. Val loss: 4.309.. Train L1 norm: 4.644.. Val L1 norm: 6.117.. Train Linf norm: 475.279.. Val Linf norm: 819.166\n",
            "Epoch 45/68.. Train loss: 4.392.. Val loss: 4.309.. Train L1 norm: 4.713.. Val L1 norm: 6.036.. Train Linf norm: 489.871.. Val Linf norm: 807.305\n",
            "Epoch 46/68.. Train loss: 5.221.. Val loss: 4.310.. Train L1 norm: 4.769.. Val L1 norm: 5.978.. Train Linf norm: 492.681.. Val Linf norm: 798.804\n",
            "Epoch 47/68.. Train loss: 4.390.. Val loss: 4.310.. Train L1 norm: 4.722.. Val L1 norm: 5.934.. Train Linf norm: 487.378.. Val Linf norm: 792.271\n",
            "Epoch 48/68.. Train loss: 4.598.. Val loss: 4.274.. Train L1 norm: 4.697.. Val L1 norm: 6.599.. Train Linf norm: 483.814.. Val Linf norm: 882.281\n",
            "Epoch 49/68.. Train loss: 8.211.. Val loss: 4.312.. Train L1 norm: 5.136.. Val L1 norm: 5.830.. Train Linf norm: 548.082.. Val Linf norm: 776.749\n",
            "Epoch 50/68.. Train loss: 4.484.. Val loss: 4.217.. Train L1 norm: 4.605.. Val L1 norm: 6.693.. Train Linf norm: 474.285.. Val Linf norm: 896.677\n",
            "Epoch 51/68.. Train loss: 4.338.. Val loss: 4.310.. Train L1 norm: 4.595.. Val L1 norm: 5.970.. Train Linf norm: 479.263.. Val Linf norm: 797.497\n",
            "Epoch 52/68.. Train loss: 4.297.. Val loss: 4.309.. Train L1 norm: 4.668.. Val L1 norm: 6.040.. Train Linf norm: 494.819.. Val Linf norm: 807.909\n",
            "Epoch 53/68.. Train loss: 4.400.. Val loss: 4.310.. Train L1 norm: 4.836.. Val L1 norm: 5.977.. Train Linf norm: 507.865.. Val Linf norm: 798.602\n",
            "Epoch 54/68.. Train loss: 4.284.. Val loss: 4.310.. Train L1 norm: 4.741.. Val L1 norm: 5.930.. Train Linf norm: 491.554.. Val Linf norm: 791.735\n",
            "Epoch 55/68.. Train loss: 4.288.. Val loss: 4.257.. Train L1 norm: 4.684.. Val L1 norm: 7.245.. Train Linf norm: 484.402.. Val Linf norm: 973.196\n",
            "Epoch 56/68.. Train loss: 4.402.. Val loss: 4.310.. Train L1 norm: 4.867.. Val L1 norm: 5.897.. Train Linf norm: 503.733.. Val Linf norm: 786.861\n",
            "Epoch 57/68.. Train loss: 4.380.. Val loss: 4.286.. Train L1 norm: 4.718.. Val L1 norm: 5.962.. Train Linf norm: 483.433.. Val Linf norm: 795.959\n",
            "Epoch 58/68.. Train loss: 4.307.. Val loss: 4.310.. Train L1 norm: 4.581.. Val L1 norm: 5.918.. Train Linf norm: 472.630.. Val Linf norm: 789.879\n",
            "Epoch 59/68.. Train loss: 5.275.. Val loss: 4.311.. Train L1 norm: 4.867.. Val L1 norm: 5.824.. Train Linf norm: 517.426.. Val Linf norm: 776.083\n",
            "Epoch 60/68.. Train loss: 4.639.. Val loss: 4.313.. Train L1 norm: 4.789.. Val L1 norm: 5.757.. Train Linf norm: 514.632.. Val Linf norm: 766.194\n",
            "Epoch 61/68.. Train loss: 4.526.. Val loss: 4.260.. Train L1 norm: 4.668.. Val L1 norm: 6.936.. Train Linf norm: 486.164.. Val Linf norm: 934.520\n",
            "Epoch 62/68.. Train loss: 4.526.. Val loss: 4.314.. Train L1 norm: 4.683.. Val L1 norm: 5.720.. Train Linf norm: 492.063.. Val Linf norm: 760.639\n",
            "Epoch 63/68.. Train loss: 4.712.. Val loss: 5.018.. Train L1 norm: 4.620.. Val L1 norm: 6.198.. Train Linf norm: 481.119.. Val Linf norm: 805.436\n",
            "Epoch 64/68.. Train loss: 5.234.. Val loss: 4.434.. Train L1 norm: 4.857.. Val L1 norm: 5.626.. Train Linf norm: 499.720.. Val Linf norm: 747.091\n",
            "Epoch 65/68.. Train loss: 5.539.. Val loss: 4.309.. Train L1 norm: 4.992.. Val L1 norm: 6.107.. Train Linf norm: 531.296.. Val Linf norm: 817.712\n",
            "Epoch 66/68.. Train loss: 4.851.. Val loss: 4.309.. Train L1 norm: 4.804.. Val L1 norm: 6.029.. Train Linf norm: 495.600.. Val Linf norm: 806.184\n",
            "Epoch 67/68.. Train loss: 4.999.. Val loss: 4.311.. Train L1 norm: 4.899.. Val L1 norm: 5.878.. Train Linf norm: 497.169.. Val Linf norm: 784.079\n"
          ]
        },
        {
          "output_type": "stream",
          "name": "stderr",
          "text": [
            "[I 2023-05-30 11:57:05,926] Trial 28 finished with value: 6.035301669947306 and parameters: {'n_layers': 4, 'n_units_0': 2489, 'n_units_1': 2851, 'n_units_2': 1092, 'n_units_3': 1960, 'hidden_activation': 'SoftPlus', 'output_activation': 'Linear', 'loss': 'MAE', 'optimizer': 'Adam', 'lr': 0.005120578099107771, 'batch_size': 256, 'n_epochs': 68, 'scheduler': 'CosineAnnealingLR', 'softplus_beta': 1.2482184280763025, 'dropout_rate': 0.17617295115580595, 'weight_decay': 0.0034838832791311202, 'beta1': 0.9581994268316353, 'beta2': 0.9994443881714299, 't_max_fraction': 0.16183247433232367, 'eta_min': 0.00019581879207365764}. Best is trial 8 with value: 1.0124110089619955.\n"
          ]
        },
        {
          "output_type": "stream",
          "name": "stdout",
          "text": [
            "Epoch 68/68.. Train loss: 4.403.. Val loss: 4.309.. Train L1 norm: 4.652.. Val L1 norm: 6.035.. Train Linf norm: 477.488.. Val Linf norm: 807.171\n"
          ]
        },
        {
          "output_type": "stream",
          "name": "stderr",
          "text": [
            "[I 2023-05-30 11:57:12,295] Trial 29 pruned. \n"
          ]
        },
        {
          "output_type": "stream",
          "name": "stdout",
          "text": [
            "Epoch 1/79.. Train loss: 350384.873.. Val loss: 1808.444.. Train L1 norm: 220726.502.. Val L1 norm: 2295.438.. Train Linf norm: 18707697.468.. Val Linf norm: 322710.615\n"
          ]
        },
        {
          "output_type": "stream",
          "name": "stderr",
          "text": [
            "[I 2023-05-30 11:57:15,416] Trial 30 pruned. \n"
          ]
        },
        {
          "output_type": "stream",
          "name": "stdout",
          "text": [
            "Epoch 1/66.. Train loss: 84846471121.398.. Val loss: 157542615.358.. Train L1 norm: 4985.301.. Val L1 norm: 3169.621.. Train Linf norm: 587505.902.. Val Linf norm: 455220.280\n"
          ]
        },
        {
          "output_type": "stream",
          "name": "stderr",
          "text": [
            "[I 2023-05-30 11:57:42,777] Trial 31 pruned. \n"
          ]
        },
        {
          "output_type": "stream",
          "name": "stdout",
          "text": [
            "Epoch 1/74.. Train loss: 6353.249.. Val loss: 55.079.. Train L1 norm: 2.940.. Val L1 norm: 1.691.. Train Linf norm: 96.202.. Val Linf norm: 42.589\n"
          ]
        },
        {
          "output_type": "stream",
          "name": "stderr",
          "text": [
            "[I 2023-05-30 11:58:40,383] Trial 32 pruned. \n"
          ]
        },
        {
          "output_type": "stream",
          "name": "stdout",
          "text": [
            "Epoch 1/95.. Train loss: 3632.662.. Val loss: 43.490.. Train L1 norm: 5.779.. Val L1 norm: 6.208.. Train Linf norm: 109.933.. Val Linf norm: 138.942\n"
          ]
        },
        {
          "output_type": "stream",
          "name": "stderr",
          "text": [
            "[I 2023-05-30 11:58:44,801] Trial 33 pruned. \n"
          ]
        },
        {
          "output_type": "stream",
          "name": "stdout",
          "text": [
            "Epoch 1/83.. Train loss: 62331748627.015.. Val loss: 456455143.808.. Train L1 norm: 1177.295.. Val L1 norm: 3841.304.. Train Linf norm: 73396.873.. Val Linf norm: 350193.815\n"
          ]
        },
        {
          "output_type": "stream",
          "name": "stderr",
          "text": [
            "[I 2023-05-30 11:58:53,222] Trial 34 pruned. \n"
          ]
        },
        {
          "output_type": "stream",
          "name": "stdout",
          "text": [
            "Epoch 1/90.. Train loss: 332.649.. Val loss: 41.852.. Train L1 norm: 4.651.. Val L1 norm: 4.846.. Train Linf norm: 1378.929.. Val Linf norm: 1966.179\n"
          ]
        },
        {
          "output_type": "stream",
          "name": "stderr",
          "text": [
            "[I 2023-05-30 11:58:57,839] Trial 35 pruned. \n"
          ]
        },
        {
          "output_type": "stream",
          "name": "stdout",
          "text": [
            "Epoch 1/105.. Train loss: 2.500.. Val loss: 2.126.. Train L1 norm: 4.520.. Val L1 norm: 5.451.. Train Linf norm: 775.180.. Val Linf norm: 1341.299\n"
          ]
        },
        {
          "output_type": "stream",
          "name": "stderr",
          "text": [
            "[I 2023-05-30 11:59:04,934] Trial 36 pruned. \n"
          ]
        },
        {
          "output_type": "stream",
          "name": "stdout",
          "text": [
            "Epoch 1/122.. Train loss: 15132.128.. Val loss: 204.461.. Train L1 norm: 2.855.. Val L1 norm: 2.220.. Train Linf norm: 49.552.. Val Linf norm: 29.716\n"
          ]
        },
        {
          "output_type": "stream",
          "name": "stderr",
          "text": [
            "[I 2023-05-30 11:59:09,756] Trial 37 pruned. \n"
          ]
        },
        {
          "output_type": "stream",
          "name": "stdout",
          "text": [
            "Epoch 1/93.. Train loss: 34.320.. Val loss: 3.534.. Train L1 norm: 42.546.. Val L1 norm: 6.450.. Train Linf norm: 30432.166.. Val Linf norm: 5064.962\n"
          ]
        },
        {
          "output_type": "stream",
          "name": "stderr",
          "text": [
            "[I 2023-05-30 11:59:49,310] Trial 38 pruned. \n"
          ]
        },
        {
          "output_type": "stream",
          "name": "stdout",
          "text": [
            "Epoch 1/57.. Train loss: 9.404.. Val loss: 4.688.. Train L1 norm: 4.811.. Val L1 norm: 4.457.. Train Linf norm: 81.350.. Val Linf norm: 96.585\n"
          ]
        },
        {
          "output_type": "stream",
          "name": "stderr",
          "text": [
            "WARNING:tensorboardX.x2num:NaN or Inf found in input tensor.\n",
            "WARNING:tensorboardX.x2num:NaN or Inf found in input tensor.\n",
            "WARNING:tensorboardX.x2num:NaN or Inf found in input tensor.\n",
            "WARNING:tensorboardX.x2num:NaN or Inf found in input tensor.\n",
            "WARNING:tensorboardX.x2num:NaN or Inf found in input tensor.\n",
            "WARNING:tensorboardX.x2num:NaN or Inf found in input tensor.\n",
            "[I 2023-05-30 11:59:54,443] Trial 39 pruned. \n"
          ]
        },
        {
          "output_type": "stream",
          "name": "stdout",
          "text": [
            "Epoch 1/131.. Train loss: nan.. Val loss: nan.. Train L1 norm: nan.. Val L1 norm: nan.. Train Linf norm: nan.. Val Linf norm: nan\n"
          ]
        },
        {
          "output_type": "stream",
          "name": "stderr",
          "text": [
            "[I 2023-05-30 12:00:07,098] Trial 40 pruned. \n"
          ]
        },
        {
          "output_type": "stream",
          "name": "stdout",
          "text": [
            "Epoch 1/118.. Train loss: 3.701.. Val loss: 3.501.. Train L1 norm: 4.463.. Val L1 norm: 7.036.. Train Linf norm: 276.576.. Val Linf norm: 530.787\n",
            "Epoch 1/74.. Train loss: 8072228441.658.. Val loss: 58.454.. Train L1 norm: 1254.557.. Val L1 norm: 1.034.. Train Linf norm: 37501.986.. Val Linf norm: 8.076\n",
            "Epoch 2/74.. Train loss: 89.023.. Val loss: 58.533.. Train L1 norm: 1.215.. Val L1 norm: 1.026.. Train Linf norm: 36.601.. Val Linf norm: 6.950\n",
            "Epoch 3/74.. Train loss: 83.342.. Val loss: 58.531.. Train L1 norm: 1.408.. Val L1 norm: 1.026.. Train Linf norm: 80.758.. Val Linf norm: 6.885\n",
            "Epoch 4/74.. Train loss: 74.236.. Val loss: 58.529.. Train L1 norm: 1.377.. Val L1 norm: 1.025.. Train Linf norm: 82.654.. Val Linf norm: 6.809\n",
            "Epoch 5/74.. Train loss: 263.434.. Val loss: 58.526.. Train L1 norm: 2.181.. Val L1 norm: 1.025.. Train Linf norm: 254.320.. Val Linf norm: 6.731\n",
            "Epoch 6/74.. Train loss: 64.231.. Val loss: 58.523.. Train L1 norm: 1.020.. Val L1 norm: 1.024.. Train Linf norm: 4.826.. Val Linf norm: 6.642\n",
            "Epoch 7/74.. Train loss: 64.367.. Val loss: 58.520.. Train L1 norm: 1.016.. Val L1 norm: 1.024.. Train Linf norm: 4.406.. Val Linf norm: 6.553\n",
            "Epoch 8/74.. Train loss: 1592.384.. Val loss: 58.518.. Train L1 norm: 1.125.. Val L1 norm: 1.024.. Train Linf norm: 13.851.. Val Linf norm: 6.464\n",
            "Epoch 9/74.. Train loss: 96.251.. Val loss: 58.515.. Train L1 norm: 1.201.. Val L1 norm: 1.023.. Train Linf norm: 20.477.. Val Linf norm: 6.378\n",
            "Epoch 10/74.. Train loss: 64.664.. Val loss: 58.513.. Train L1 norm: 1.016.. Val L1 norm: 1.023.. Train Linf norm: 4.681.. Val Linf norm: 6.306\n",
            "Epoch 11/74.. Train loss: 65.850.. Val loss: 58.511.. Train L1 norm: 1.027.. Val L1 norm: 1.023.. Train Linf norm: 4.676.. Val Linf norm: 6.243\n",
            "Epoch 12/74.. Train loss: 63.725.. Val loss: 58.509.. Train L1 norm: 1.013.. Val L1 norm: 1.022.. Train Linf norm: 3.929.. Val Linf norm: 6.192\n",
            "Epoch 13/74.. Train loss: 63.690.. Val loss: 58.508.. Train L1 norm: 1.013.. Val L1 norm: 1.022.. Train Linf norm: 3.832.. Val Linf norm: 6.153\n",
            "Epoch 14/74.. Train loss: 63.690.. Val loss: 58.507.. Train L1 norm: 1.013.. Val L1 norm: 1.022.. Train Linf norm: 3.895.. Val Linf norm: 6.125\n",
            "Epoch 15/74.. Train loss: 63.838.. Val loss: 58.506.. Train L1 norm: 1.026.. Val L1 norm: 1.022.. Train Linf norm: 6.952.. Val Linf norm: 6.109\n",
            "Epoch 16/74.. Train loss: 67.055.. Val loss: 58.506.. Train L1 norm: 1.041.. Val L1 norm: 1.022.. Train Linf norm: 8.229.. Val Linf norm: 6.101\n",
            "Epoch 17/74.. Train loss: 415.752.. Val loss: 58.506.. Train L1 norm: 1.150.. Val L1 norm: 1.022.. Train Linf norm: 29.583.. Val Linf norm: 6.098\n",
            "Epoch 18/74.. Train loss: 65.928.. Val loss: 58.506.. Train L1 norm: 1.053.. Val L1 norm: 1.022.. Train Linf norm: 10.522.. Val Linf norm: 6.098\n",
            "Epoch 19/74.. Train loss: 67.419.. Val loss: 58.506.. Train L1 norm: 1.061.. Val L1 norm: 1.022.. Train Linf norm: 13.147.. Val Linf norm: 6.096\n",
            "Epoch 20/74.. Train loss: 64.340.. Val loss: 58.505.. Train L1 norm: 1.039.. Val L1 norm: 1.022.. Train Linf norm: 9.313.. Val Linf norm: 6.086\n",
            "Epoch 21/74.. Train loss: 64.420.. Val loss: 58.505.. Train L1 norm: 1.014.. Val L1 norm: 1.022.. Train Linf norm: 4.037.. Val Linf norm: 6.062\n",
            "Epoch 22/74.. Train loss: 63.699.. Val loss: 58.503.. Train L1 norm: 1.013.. Val L1 norm: 1.022.. Train Linf norm: 3.919.. Val Linf norm: 6.019\n",
            "Epoch 23/74.. Train loss: 63.906.. Val loss: 58.501.. Train L1 norm: 1.017.. Val L1 norm: 1.021.. Train Linf norm: 4.804.. Val Linf norm: 5.951\n",
            "Epoch 24/74.. Train loss: 63.709.. Val loss: 58.498.. Train L1 norm: 1.013.. Val L1 norm: 1.021.. Train Linf norm: 3.652.. Val Linf norm: 5.851\n",
            "Epoch 25/74.. Train loss: 63.924.. Val loss: 58.494.. Train L1 norm: 1.019.. Val L1 norm: 1.020.. Train Linf norm: 5.010.. Val Linf norm: 5.713\n",
            "Epoch 26/74.. Train loss: 335.457.. Val loss: 58.488.. Train L1 norm: 2.191.. Val L1 norm: 1.019.. Train Linf norm: 217.552.. Val Linf norm: 5.556\n",
            "Epoch 27/74.. Train loss: 3028.975.. Val loss: 58.477.. Train L1 norm: 4.191.. Val L1 norm: 1.018.. Train Linf norm: 350.454.. Val Linf norm: 5.212\n",
            "Epoch 28/74.. Train loss: 11980.420.. Val loss: 58.470.. Train L1 norm: 1.574.. Val L1 norm: 1.017.. Train Linf norm: 68.898.. Val Linf norm: 4.973\n",
            "Epoch 29/74.. Train loss: 65.587.. Val loss: 58.459.. Train L1 norm: 1.014.. Val L1 norm: 1.015.. Train Linf norm: 4.413.. Val Linf norm: 4.643\n",
            "Epoch 30/74.. Train loss: 101858.406.. Val loss: 58.494.. Train L1 norm: 13.189.. Val L1 norm: 1.020.. Train Linf norm: 884.509.. Val Linf norm: 5.735\n",
            "Epoch 31/74.. Train loss: 683.395.. Val loss: 58.476.. Train L1 norm: 2.785.. Val L1 norm: 1.018.. Train Linf norm: 253.441.. Val Linf norm: 5.179\n",
            "Epoch 32/74.. Train loss: 15853275748.805.. Val loss: 60.045.. Train L1 norm: 56.692.. Val L1 norm: 1.280.. Train Linf norm: 12411.484.. Val Linf norm: 53.734\n",
            "Epoch 33/74.. Train loss: 7843.960.. Val loss: 44.929.. Train L1 norm: 2.005.. Val L1 norm: 4.858.. Train Linf norm: 117.306.. Val Linf norm: 690.394\n",
            "Epoch 34/74.. Train loss: 22089.944.. Val loss: 43.221.. Train L1 norm: 3.982.. Val L1 norm: 4.930.. Train Linf norm: 367.302.. Val Linf norm: 554.674\n",
            "Epoch 35/74.. Train loss: 3307.132.. Val loss: 60.012.. Train L1 norm: 2.160.. Val L1 norm: 1.274.. Train Linf norm: 242.663.. Val Linf norm: 52.717\n",
            "Epoch 36/74.. Train loss: 74.678.. Val loss: 59.998.. Train L1 norm: 1.298.. Val L1 norm: 1.278.. Train Linf norm: 55.238.. Val Linf norm: 52.427\n",
            "Epoch 37/74.. Train loss: 909.874.. Val loss: 59.972.. Train L1 norm: 2.277.. Val L1 norm: 1.267.. Train Linf norm: 187.653.. Val Linf norm: 51.502\n",
            "Epoch 38/74.. Train loss: 52.721.. Val loss: 41.853.. Train L1 norm: 4.325.. Val L1 norm: 7.400.. Train Linf norm: 454.532.. Val Linf norm: 1056.256\n",
            "Epoch 39/74.. Train loss: 75.593.. Val loss: 41.879.. Train L1 norm: 5.182.. Val L1 norm: 7.005.. Train Linf norm: 550.273.. Val Linf norm: 994.785\n",
            "Epoch 40/74.. Train loss: 47.829.. Val loss: 41.975.. Train L1 norm: 5.154.. Val L1 norm: 6.723.. Train Linf norm: 570.201.. Val Linf norm: 950.208\n",
            "Epoch 41/74.. Train loss: 7345.436.. Val loss: 41.784.. Train L1 norm: 5.280.. Val L1 norm: 7.287.. Train Linf norm: 581.262.. Val Linf norm: 1036.713\n",
            "Epoch 42/74.. Train loss: 182.294.. Val loss: 41.674.. Train L1 norm: 5.284.. Val L1 norm: 7.470.. Train Linf norm: 546.873.. Val Linf norm: 1066.180\n",
            "Epoch 43/74.. Train loss: 51.689.. Val loss: 41.656.. Train L1 norm: 5.142.. Val L1 norm: 7.752.. Train Linf norm: 543.961.. Val Linf norm: 1107.317\n",
            "Epoch 44/74.. Train loss: 772.275.. Val loss: 41.848.. Train L1 norm: 5.523.. Val L1 norm: 7.968.. Train Linf norm: 612.417.. Val Linf norm: 1135.894\n",
            "Epoch 45/74.. Train loss: 49.834.. Val loss: 41.723.. Train L1 norm: 5.307.. Val L1 norm: 7.589.. Train Linf norm: 557.669.. Val Linf norm: 1079.143\n",
            "Epoch 46/74.. Train loss: 79.144.. Val loss: 41.668.. Train L1 norm: 5.248.. Val L1 norm: 7.684.. Train Linf norm: 555.205.. Val Linf norm: 1094.926\n",
            "Epoch 47/74.. Train loss: 46.954.. Val loss: 41.651.. Train L1 norm: 5.228.. Val L1 norm: 7.496.. Train Linf norm: 567.005.. Val Linf norm: 1070.151\n",
            "Epoch 48/74.. Train loss: 47.005.. Val loss: 41.617.. Train L1 norm: 5.206.. Val L1 norm: 7.433.. Train Linf norm: 557.014.. Val Linf norm: 1067.126\n",
            "Epoch 49/74.. Train loss: 351.747.. Val loss: 41.630.. Train L1 norm: 5.268.. Val L1 norm: 7.642.. Train Linf norm: 566.646.. Val Linf norm: 1097.398\n",
            "Epoch 50/74.. Train loss: 56.517.. Val loss: 41.630.. Train L1 norm: 5.287.. Val L1 norm: 7.356.. Train Linf norm: 562.332.. Val Linf norm: 1051.183\n",
            "Epoch 51/74.. Train loss: 46.945.. Val loss: 41.627.. Train L1 norm: 5.213.. Val L1 norm: 7.458.. Train Linf norm: 562.996.. Val Linf norm: 1066.566\n",
            "Epoch 52/74.. Train loss: 46.914.. Val loss: 41.627.. Train L1 norm: 5.365.. Val L1 norm: 7.456.. Train Linf norm: 551.655.. Val Linf norm: 1066.247\n",
            "Epoch 53/74.. Train loss: 46.854.. Val loss: 41.637.. Train L1 norm: 5.328.. Val L1 norm: 7.417.. Train Linf norm: 594.478.. Val Linf norm: 1059.393\n",
            "Epoch 54/74.. Train loss: 46.977.. Val loss: 41.633.. Train L1 norm: 5.043.. Val L1 norm: 7.428.. Train Linf norm: 521.702.. Val Linf norm: 1061.707\n",
            "Epoch 55/74.. Train loss: 61.589.. Val loss: 41.610.. Train L1 norm: 5.333.. Val L1 norm: 7.490.. Train Linf norm: 587.086.. Val Linf norm: 1072.445\n",
            "Epoch 56/74.. Train loss: 46.925.. Val loss: 41.635.. Train L1 norm: 5.371.. Val L1 norm: 7.760.. Train Linf norm: 583.785.. Val Linf norm: 1107.639\n",
            "Epoch 57/74.. Train loss: 48.479.. Val loss: 41.657.. Train L1 norm: 5.269.. Val L1 norm: 7.710.. Train Linf norm: 567.563.. Val Linf norm: 1099.795\n",
            "Epoch 58/74.. Train loss: 47.370.. Val loss: 41.611.. Train L1 norm: 5.444.. Val L1 norm: 7.478.. Train Linf norm: 611.431.. Val Linf norm: 1065.449\n",
            "Epoch 59/74.. Train loss: 269.418.. Val loss: 41.693.. Train L1 norm: 5.036.. Val L1 norm: 7.764.. Train Linf norm: 521.832.. Val Linf norm: 1098.906\n",
            "Epoch 60/74.. Train loss: 10594004109.804.. Val loss: 6770831771.484.. Train L1 norm: 200.774.. Val L1 norm: 490.324.. Train Linf norm: 42719.411.. Val Linf norm: 104434.662\n",
            "Epoch 61/74.. Train loss: 7842065467.242.. Val loss: 20360647.291.. Train L1 norm: 543.902.. Val L1 norm: 39.201.. Train Linf norm: 114244.596.. Val Linf norm: 6894.338\n",
            "Epoch 62/74.. Train loss: 1476003.013.. Val loss: 45.693.. Train L1 norm: 44.826.. Val L1 norm: 4.491.. Train Linf norm: 6646.986.. Val Linf norm: 576.989\n",
            "Epoch 63/74.. Train loss: 8958217.744.. Val loss: 43.351.. Train L1 norm: 18.177.. Val L1 norm: 6.446.. Train Linf norm: 1911.290.. Val Linf norm: 867.362\n",
            "Epoch 64/74.. Train loss: 1651807.946.. Val loss: 43.883.. Train L1 norm: 76.401.. Val L1 norm: 5.736.. Train Linf norm: 7379.790.. Val Linf norm: 762.987\n",
            "Epoch 65/74.. Train loss: 407082.581.. Val loss: 43.515.. Train L1 norm: 33.808.. Val L1 norm: 6.176.. Train Linf norm: 2055.274.. Val Linf norm: 827.823\n",
            "Epoch 66/74.. Train loss: 1240803.640.. Val loss: 43.979.. Train L1 norm: 12.953.. Val L1 norm: 5.647.. Train Linf norm: 1008.050.. Val Linf norm: 749.871\n",
            "Epoch 67/74.. Train loss: 946858.620.. Val loss: 58.686.. Train L1 norm: 27.588.. Val L1 norm: 1.049.. Train Linf norm: 2585.570.. Val Linf norm: 11.709\n",
            "Epoch 68/74.. Train loss: 71.299.. Val loss: 58.679.. Train L1 norm: 1.318.. Val L1 norm: 1.048.. Train Linf norm: 34.456.. Val Linf norm: 11.503\n",
            "Epoch 69/74.. Train loss: 956117.579.. Val loss: 58.558.. Train L1 norm: 5.778.. Val L1 norm: 1.029.. Train Linf norm: 295.241.. Val Linf norm: 7.713\n",
            "Epoch 70/74.. Train loss: 158.321.. Val loss: 58.525.. Train L1 norm: 1.023.. Val L1 norm: 1.025.. Train Linf norm: 5.902.. Val Linf norm: 6.692\n",
            "Epoch 71/74.. Train loss: 1208.089.. Val loss: 58.491.. Train L1 norm: 1.052.. Val L1 norm: 1.020.. Train Linf norm: 10.349.. Val Linf norm: 5.642\n",
            "Epoch 72/74.. Train loss: 76.865.. Val loss: 58.460.. Train L1 norm: 1.827.. Val L1 norm: 1.015.. Train Linf norm: 117.699.. Val Linf norm: 4.659\n",
            "Epoch 73/74.. Train loss: 202.730.. Val loss: 58.429.. Train L1 norm: 1.115.. Val L1 norm: 1.011.. Train Linf norm: 11.140.. Val Linf norm: 3.719\n"
          ]
        },
        {
          "output_type": "stream",
          "name": "stderr",
          "text": [
            "[I 2023-05-30 12:08:50,973] Trial 41 finished with value: 1.0071135492960612 and parameters: {'n_layers': 5, 'n_units_0': 2296, 'n_units_1': 2552, 'n_units_2': 2325, 'n_units_3': 2739, 'n_units_4': 3667, 'hidden_activation': 'ReLU', 'output_activation': 'Linear', 'loss': 'MSE', 'optimizer': 'Adam', 'lr': 0.007299096716728931, 'batch_size': 256, 'n_epochs': 74, 'scheduler': 'CosineAnnealingLR', 'dropout_rate': 0.20244441498487467, 'weight_decay': 0.0031000426601357324, 'beta1': 0.9213975558411556, 'beta2': 0.9996907582491231, 't_max_fraction': 0.2335464301557003, 'eta_min': 4.141308778193866e-06}. Best is trial 41 with value: 1.0071135492960612.\n"
          ]
        },
        {
          "output_type": "stream",
          "name": "stdout",
          "text": [
            "Epoch 74/74.. Train loss: 63.642.. Val loss: 58.399.. Train L1 norm: 1.005.. Val L1 norm: 1.007.. Train Linf norm: 2.155.. Val Linf norm: 2.774\n",
            "Epoch 1/78.. Train loss: 64448794.088.. Val loss: 58.036.. Train L1 norm: 215.372.. Val L1 norm: 1.530.. Train Linf norm: 11574.499.. Val Linf norm: 109.574\n",
            "Epoch 2/78.. Train loss: 196.476.. Val loss: 58.433.. Train L1 norm: 1.608.. Val L1 norm: 1.012.. Train Linf norm: 117.417.. Val Linf norm: 3.831\n",
            "Epoch 3/78.. Train loss: 64.250.. Val loss: 58.421.. Train L1 norm: 1.162.. Val L1 norm: 1.010.. Train Linf norm: 22.641.. Val Linf norm: 3.463\n",
            "Epoch 4/78.. Train loss: 65.508.. Val loss: 58.353.. Train L1 norm: 1.039.. Val L1 norm: 1.007.. Train Linf norm: 5.806.. Val Linf norm: 3.014\n",
            "Epoch 5/78.. Train loss: 54056.700.. Val loss: 58.397.. Train L1 norm: 1.868.. Val L1 norm: 1.007.. Train Linf norm: 116.630.. Val Linf norm: 2.717\n",
            "Epoch 6/78.. Train loss: 149.817.. Val loss: 58.380.. Train L1 norm: 1.018.. Val L1 norm: 1.005.. Train Linf norm: 4.083.. Val Linf norm: 2.190\n",
            "Epoch 7/78.. Train loss: 63.823.. Val loss: 58.362.. Train L1 norm: 1.011.. Val L1 norm: 1.002.. Train Linf norm: 2.299.. Val Linf norm: 1.661\n",
            "Epoch 8/78.. Train loss: 63.674.. Val loss: 623.288.. Train L1 norm: 1.025.. Val L1 norm: 6.266.. Train Linf norm: 6.465.. Val Linf norm: 856.689\n",
            "Epoch 9/78.. Train loss: 94.823.. Val loss: 58.328.. Train L1 norm: 1.031.. Val L1 norm: 1.001.. Train Linf norm: 6.260.. Val Linf norm: 1.193\n",
            "Epoch 10/78.. Train loss: 63.501.. Val loss: 58.312.. Train L1 norm: 1.000.. Val L1 norm: 1.002.. Train Linf norm: 1.213.. Val Linf norm: 1.647\n",
            "Epoch 11/78.. Train loss: 63.499.. Val loss: 58.298.. Train L1 norm: 1.000.. Val L1 norm: 1.003.. Train Linf norm: 1.407.. Val Linf norm: 2.079\n",
            "Epoch 12/78.. Train loss: 63.475.. Val loss: 58.285.. Train L1 norm: 1.001.. Val L1 norm: 1.005.. Train Linf norm: 1.600.. Val Linf norm: 2.463\n",
            "Epoch 13/78.. Train loss: 63.458.. Val loss: 58.274.. Train L1 norm: 1.002.. Val L1 norm: 1.006.. Train Linf norm: 1.826.. Val Linf norm: 2.789\n",
            "Epoch 14/78.. Train loss: 64.323.. Val loss: 58.266.. Train L1 norm: 1.027.. Val L1 norm: 1.007.. Train Linf norm: 6.421.. Val Linf norm: 3.051\n",
            "Epoch 15/78.. Train loss: 63.440.. Val loss: 58.259.. Train L1 norm: 1.003.. Val L1 norm: 1.007.. Train Linf norm: 2.137.. Val Linf norm: 3.255\n",
            "Epoch 16/78.. Train loss: 91.980.. Val loss: 58.254.. Train L1 norm: 1.046.. Val L1 norm: 1.008.. Train Linf norm: 7.152.. Val Linf norm: 3.395\n",
            "Epoch 17/78.. Train loss: 63.442.. Val loss: 58.251.. Train L1 norm: 1.003.. Val L1 norm: 1.008.. Train Linf norm: 2.295.. Val Linf norm: 3.482\n",
            "Epoch 18/78.. Train loss: 63.429.. Val loss: 58.250.. Train L1 norm: 1.003.. Val L1 norm: 1.008.. Train Linf norm: 2.259.. Val Linf norm: 3.525\n",
            "Epoch 19/78.. Train loss: 63.432.. Val loss: 58.250.. Train L1 norm: 1.003.. Val L1 norm: 1.009.. Train Linf norm: 2.314.. Val Linf norm: 3.539\n",
            "Epoch 20/78.. Train loss: 63.423.. Val loss: 58.249.. Train L1 norm: 1.003.. Val L1 norm: 1.009.. Train Linf norm: 2.292.. Val Linf norm: 3.542\n",
            "Epoch 21/78.. Train loss: 63.431.. Val loss: 58.249.. Train L1 norm: 1.003.. Val L1 norm: 1.009.. Train Linf norm: 2.309.. Val Linf norm: 3.558\n",
            "Epoch 22/78.. Train loss: 63.419.. Val loss: 58.247.. Train L1 norm: 1.003.. Val L1 norm: 1.009.. Train Linf norm: 2.328.. Val Linf norm: 3.612\n",
            "Epoch 23/78.. Train loss: 63.421.. Val loss: 58.243.. Train L1 norm: 1.003.. Val L1 norm: 1.009.. Train Linf norm: 2.352.. Val Linf norm: 3.733\n",
            "Epoch 24/78.. Train loss: 63.766.. Val loss: 58.234.. Train L1 norm: 1.024.. Val L1 norm: 1.010.. Train Linf norm: 5.337.. Val Linf norm: 3.953\n",
            "Epoch 25/78.. Train loss: 63.421.. Val loss: 58.224.. Train L1 norm: 1.004.. Val L1 norm: 1.011.. Train Linf norm: 2.638.. Val Linf norm: 4.305\n",
            "Epoch 26/78.. Train loss: 63.394.. Val loss: 58.207.. Train L1 norm: 1.005.. Val L1 norm: 1.014.. Train Linf norm: 2.867.. Val Linf norm: 4.824\n",
            "Epoch 27/78.. Train loss: 80.725.. Val loss: 58.186.. Train L1 norm: 1.405.. Val L1 norm: 1.016.. Train Linf norm: 67.530.. Val Linf norm: 5.486\n",
            "Epoch 28/78.. Train loss: 79367.567.. Val loss: 46071.573.. Train L1 norm: 7.663.. Val L1 norm: 54.231.. Train Linf norm: 938.427.. Val Linf norm: 7450.953\n",
            "Epoch 29/78.. Train loss: 214671.887.. Val loss: 58.134.. Train L1 norm: 27.247.. Val L1 norm: 1.023.. Train Linf norm: 3141.885.. Val Linf norm: 7.065\n",
            "Epoch 30/78.. Train loss: 5830.389.. Val loss: 58.101.. Train L1 norm: 4.601.. Val L1 norm: 1.027.. Train Linf norm: 555.039.. Val Linf norm: 8.112\n",
            "Epoch 31/78.. Train loss: 1966.859.. Val loss: 58.040.. Train L1 norm: 1.910.. Val L1 norm: 1.036.. Train Linf norm: 65.233.. Val Linf norm: 10.034\n",
            "Epoch 32/78.. Train loss: 75.285.. Val loss: 57.969.. Train L1 norm: 1.293.. Val L1 norm: 1.046.. Train Linf norm: 50.458.. Val Linf norm: 12.265\n",
            "Epoch 33/78.. Train loss: 251.013.. Val loss: 57.897.. Train L1 norm: 2.885.. Val L1 norm: 1.056.. Train Linf norm: 325.573.. Val Linf norm: 14.565\n",
            "Epoch 34/78.. Train loss: 73.534.. Val loss: 57.810.. Train L1 norm: 1.166.. Val L1 norm: 1.069.. Train Linf norm: 17.945.. Val Linf norm: 17.355\n",
            "Epoch 35/78.. Train loss: 1271.444.. Val loss: 57.713.. Train L1 norm: 1.690.. Val L1 norm: 1.084.. Train Linf norm: 79.455.. Val Linf norm: 20.496\n",
            "Epoch 36/78.. Train loss: 2413.901.. Val loss: 55.178.. Train L1 norm: 3.614.. Val L1 norm: 1.255.. Train Linf norm: 269.929.. Val Linf norm: 53.087\n",
            "Epoch 37/78.. Train loss: 1030.249.. Val loss: 57.443.. Train L1 norm: 2.715.. Val L1 norm: 1.126.. Train Linf norm: 304.086.. Val Linf norm: 29.321\n",
            "Epoch 38/78.. Train loss: 1938.025.. Val loss: 57.317.. Train L1 norm: 1.788.. Val L1 norm: 1.146.. Train Linf norm: 57.680.. Val Linf norm: 33.463\n",
            "Epoch 39/78.. Train loss: 177.896.. Val loss: 57.173.. Train L1 norm: 1.449.. Val L1 norm: 1.170.. Train Linf norm: 37.804.. Val Linf norm: 38.249\n",
            "Epoch 40/78.. Train loss: 69.666.. Val loss: 57.037.. Train L1 norm: 1.208.. Val L1 norm: 1.194.. Train Linf norm: 33.871.. Val Linf norm: 42.778\n",
            "Epoch 41/78.. Train loss: 72.138.. Val loss: 56.904.. Train L1 norm: 1.185.. Val L1 norm: 1.217.. Train Linf norm: 32.639.. Val Linf norm: 47.250\n",
            "Epoch 42/78.. Train loss: 221.143.. Val loss: 56.773.. Train L1 norm: 1.300.. Val L1 norm: 1.240.. Train Linf norm: 38.360.. Val Linf norm: 51.657\n",
            "Epoch 43/78.. Train loss: 4164902.473.. Val loss: 56.370.. Train L1 norm: 12.560.. Val L1 norm: 1.313.. Train Linf norm: 1353.146.. Val Linf norm: 65.352\n",
            "Epoch 44/78.. Train loss: 2693.387.. Val loss: 56.263.. Train L1 norm: 2.450.. Val L1 norm: 1.333.. Train Linf norm: 230.164.. Val Linf norm: 69.031\n",
            "Epoch 45/78.. Train loss: 1730.911.. Val loss: 56.128.. Train L1 norm: 1.573.. Val L1 norm: 1.358.. Train Linf norm: 97.036.. Val Linf norm: 73.702\n",
            "Epoch 46/78.. Train loss: 164.231.. Val loss: 56.013.. Train L1 norm: 1.278.. Val L1 norm: 1.380.. Train Linf norm: 54.967.. Val Linf norm: 77.700\n",
            "Epoch 47/78.. Train loss: 148.189.. Val loss: 55.910.. Train L1 norm: 1.270.. Val L1 norm: 1.400.. Train Linf norm: 51.598.. Val Linf norm: 81.299\n",
            "Epoch 48/78.. Train loss: 128.412.. Val loss: 55.820.. Train L1 norm: 1.379.. Val L1 norm: 1.417.. Train Linf norm: 59.531.. Val Linf norm: 84.450\n",
            "Epoch 49/78.. Train loss: 107.068.. Val loss: 55.739.. Train L1 norm: 1.281.. Val L1 norm: 1.433.. Train Linf norm: 53.293.. Val Linf norm: 87.326\n",
            "Epoch 50/78.. Train loss: 61.440.. Val loss: 55.668.. Train L1 norm: 1.285.. Val L1 norm: 1.447.. Train Linf norm: 53.078.. Val Linf norm: 89.826\n",
            "Epoch 51/78.. Train loss: 60.768.. Val loss: 55.609.. Train L1 norm: 1.294.. Val L1 norm: 1.459.. Train Linf norm: 54.677.. Val Linf norm: 91.902\n",
            "Epoch 52/78.. Train loss: 270.699.. Val loss: 55.564.. Train L1 norm: 1.326.. Val L1 norm: 1.468.. Train Linf norm: 61.126.. Val Linf norm: 93.518\n",
            "Epoch 53/78.. Train loss: 60.933.. Val loss: 55.529.. Train L1 norm: 1.306.. Val L1 norm: 1.475.. Train Linf norm: 57.068.. Val Linf norm: 94.746\n",
            "Epoch 54/78.. Train loss: 60.895.. Val loss: 55.505.. Train L1 norm: 1.313.. Val L1 norm: 1.479.. Train Linf norm: 58.020.. Val Linf norm: 95.588\n",
            "Epoch 55/78.. Train loss: 60.642.. Val loss: 55.491.. Train L1 norm: 1.315.. Val L1 norm: 1.482.. Train Linf norm: 57.828.. Val Linf norm: 96.100\n",
            "Epoch 56/78.. Train loss: 60.712.. Val loss: 55.484.. Train L1 norm: 1.314.. Val L1 norm: 1.484.. Train Linf norm: 58.487.. Val Linf norm: 96.350\n",
            "Epoch 57/78.. Train loss: 60.611.. Val loss: 55.482.. Train L1 norm: 1.315.. Val L1 norm: 1.484.. Train Linf norm: 57.567.. Val Linf norm: 96.429\n",
            "Epoch 58/78.. Train loss: 60.622.. Val loss: 55.481.. Train L1 norm: 1.315.. Val L1 norm: 1.484.. Train Linf norm: 59.092.. Val Linf norm: 96.447\n",
            "Epoch 59/78.. Train loss: 60.606.. Val loss: 55.479.. Train L1 norm: 1.315.. Val L1 norm: 1.485.. Train Linf norm: 57.143.. Val Linf norm: 96.534\n",
            "Epoch 60/78.. Train loss: 66.286.. Val loss: 55.470.. Train L1 norm: 1.316.. Val L1 norm: 1.486.. Train Linf norm: 58.579.. Val Linf norm: 96.833\n",
            "Epoch 61/78.. Train loss: 60.613.. Val loss: 55.452.. Train L1 norm: 1.319.. Val L1 norm: 1.490.. Train Linf norm: 58.115.. Val Linf norm: 97.501\n",
            "Epoch 62/78.. Train loss: 63.144.. Val loss: 55.418.. Train L1 norm: 1.323.. Val L1 norm: 1.497.. Train Linf norm: 55.376.. Val Linf norm: 98.708\n",
            "Epoch 63/78.. Train loss: 60.515.. Val loss: 55.364.. Train L1 norm: 1.327.. Val L1 norm: 1.508.. Train Linf norm: 59.973.. Val Linf norm: 100.623\n",
            "Epoch 64/78.. Train loss: 61.515.. Val loss: 55.286.. Train L1 norm: 1.337.. Val L1 norm: 1.523.. Train Linf norm: 60.989.. Val Linf norm: 103.420\n",
            "Epoch 65/78.. Train loss: 60.363.. Val loss: 55.180.. Train L1 norm: 1.349.. Val L1 norm: 1.545.. Train Linf norm: 64.731.. Val Linf norm: 107.260\n",
            "Epoch 66/78.. Train loss: 82525.007.. Val loss: 54.899.. Train L1 norm: 3.831.. Val L1 norm: 1.603.. Train Linf norm: 391.829.. Val Linf norm: 117.437\n",
            "Epoch 67/78.. Train loss: 3401.903.. Val loss: 54.698.. Train L1 norm: 4.008.. Val L1 norm: 1.646.. Train Linf norm: 459.813.. Val Linf norm: 124.821\n",
            "Epoch 68/78.. Train loss: 5092.214.. Val loss: 54.401.. Train L1 norm: 2.921.. Val L1 norm: 1.710.. Train Linf norm: 291.555.. Val Linf norm: 135.837\n",
            "Epoch 69/78.. Train loss: 2807.547.. Val loss: 54.134.. Train L1 norm: 2.115.. Val L1 norm: 1.768.. Train Linf norm: 187.405.. Val Linf norm: 145.871\n",
            "Epoch 70/78.. Train loss: 14451.166.. Val loss: 53.933.. Train L1 norm: 4.372.. Val L1 norm: 1.813.. Train Linf norm: 316.148.. Val Linf norm: 153.491\n",
            "Epoch 71/78.. Train loss: 15103.705.. Val loss: 53.715.. Train L1 norm: 4.397.. Val L1 norm: 1.862.. Train Linf norm: 395.984.. Val Linf norm: 161.839\n",
            "Epoch 72/78.. Train loss: 206.944.. Val loss: 53.381.. Train L1 norm: 1.805.. Val L1 norm: 1.939.. Train Linf norm: 134.919.. Val Linf norm: 174.813\n",
            "Epoch 73/78.. Train loss: 1290434060.374.. Val loss: 54.506.. Train L1 norm: 51.606.. Val L1 norm: 1.687.. Train Linf norm: 10746.246.. Val Linf norm: 131.930\n",
            "Epoch 74/78.. Train loss: 7762.943.. Val loss: 54.464.. Train L1 norm: 1.658.. Val L1 norm: 1.696.. Train Linf norm: 123.913.. Val Linf norm: 133.470\n",
            "Epoch 75/78.. Train loss: 208.155.. Val loss: 54.424.. Train L1 norm: 1.498.. Val L1 norm: 1.704.. Train Linf norm: 84.994.. Val Linf norm: 134.971\n",
            "Epoch 76/78.. Train loss: 1856.892.. Val loss: 54.379.. Train L1 norm: 1.768.. Val L1 norm: 1.714.. Train Linf norm: 114.042.. Val Linf norm: 136.648\n",
            "Epoch 77/78.. Train loss: 9686.952.. Val loss: 54.344.. Train L1 norm: 3.280.. Val L1 norm: 1.722.. Train Linf norm: 365.320.. Val Linf norm: 137.973\n"
          ]
        },
        {
          "output_type": "stream",
          "name": "stderr",
          "text": [
            "[I 2023-05-30 12:19:51,659] Trial 42 finished with value: 1.730434680811564 and parameters: {'n_layers': 5, 'n_units_0': 1121, 'n_units_1': 2729, 'n_units_2': 3767, 'n_units_3': 2873, 'n_units_4': 3613, 'hidden_activation': 'ReLU', 'output_activation': 'Linear', 'loss': 'MSE', 'optimizer': 'Adam', 'lr': 0.003936990220089555, 'batch_size': 256, 'n_epochs': 78, 'scheduler': 'CosineAnnealingLR', 'dropout_rate': 0.17272515286046086, 'weight_decay': 0.0029129443302474177, 'beta1': 0.9133666615791874, 'beta2': 0.9996721944024225, 't_max_fraction': 0.251284373886379, 'eta_min': 7.873055322681161e-06}. Best is trial 41 with value: 1.0071135492960612.\n"
          ]
        },
        {
          "output_type": "stream",
          "name": "stdout",
          "text": [
            "Epoch 78/78.. Train loss: 962918.189.. Val loss: 54.305.. Train L1 norm: 24.992.. Val L1 norm: 1.730.. Train Linf norm: 1825.813.. Val Linf norm: 139.438\n",
            "Epoch 1/70.. Train loss: 49743891944.700.. Val loss: 58.725.. Train L1 norm: 5099.671.. Val L1 norm: 1.055.. Train Linf norm: 106991.752.. Val Linf norm: 12.940\n",
            "Epoch 2/70.. Train loss: 131.768.. Val loss: 58.725.. Train L1 norm: 1.068.. Val L1 norm: 1.055.. Train Linf norm: 11.416.. Val Linf norm: 12.920\n",
            "Epoch 3/70.. Train loss: 64.022.. Val loss: 58.724.. Train L1 norm: 1.036.. Val L1 norm: 1.055.. Train Linf norm: 7.926.. Val Linf norm: 12.895\n",
            "Epoch 4/70.. Train loss: 65.246.. Val loss: 58.723.. Train L1 norm: 1.035.. Val L1 norm: 1.055.. Train Linf norm: 8.016.. Val Linf norm: 12.866\n",
            "Epoch 5/70.. Train loss: 1984.265.. Val loss: 58.722.. Train L1 norm: 3.082.. Val L1 norm: 1.055.. Train Linf norm: 101.157.. Val Linf norm: 12.848\n",
            "Epoch 6/70.. Train loss: 51319.886.. Val loss: 58.722.. Train L1 norm: 3.363.. Val L1 norm: 1.055.. Train Linf norm: 120.941.. Val Linf norm: 12.844\n",
            "Epoch 7/70.. Train loss: 236.569.. Val loss: 58.721.. Train L1 norm: 1.564.. Val L1 norm: 1.054.. Train Linf norm: 50.897.. Val Linf norm: 12.813\n",
            "Epoch 8/70.. Train loss: 93.163.. Val loss: 58.720.. Train L1 norm: 1.039.. Val L1 norm: 1.054.. Train Linf norm: 8.907.. Val Linf norm: 12.788\n",
            "Epoch 9/70.. Train loss: 63.906.. Val loss: 58.720.. Train L1 norm: 1.034.. Val L1 norm: 1.054.. Train Linf norm: 7.781.. Val Linf norm: 12.767\n",
            "Epoch 10/70.. Train loss: 63.905.. Val loss: 58.719.. Train L1 norm: 1.034.. Val L1 norm: 1.054.. Train Linf norm: 7.699.. Val Linf norm: 12.750\n",
            "Epoch 11/70.. Train loss: 63.905.. Val loss: 58.719.. Train L1 norm: 1.034.. Val L1 norm: 1.054.. Train Linf norm: 7.752.. Val Linf norm: 12.738\n",
            "Epoch 12/70.. Train loss: 65.051.. Val loss: 58.718.. Train L1 norm: 1.037.. Val L1 norm: 1.054.. Train Linf norm: 8.402.. Val Linf norm: 12.731\n",
            "Epoch 13/70.. Train loss: 63.904.. Val loss: 58.718.. Train L1 norm: 1.034.. Val L1 norm: 1.054.. Train Linf norm: 7.531.. Val Linf norm: 12.728\n",
            "Epoch 14/70.. Train loss: 63.904.. Val loss: 58.718.. Train L1 norm: 1.034.. Val L1 norm: 1.054.. Train Linf norm: 7.669.. Val Linf norm: 12.727\n",
            "Epoch 15/70.. Train loss: 63.904.. Val loss: 58.718.. Train L1 norm: 1.034.. Val L1 norm: 1.054.. Train Linf norm: 7.770.. Val Linf norm: 12.727\n",
            "Epoch 16/70.. Train loss: 63.904.. Val loss: 58.718.. Train L1 norm: 1.034.. Val L1 norm: 1.054.. Train Linf norm: 7.639.. Val Linf norm: 12.725\n",
            "Epoch 17/70.. Train loss: 63.904.. Val loss: 58.718.. Train L1 norm: 1.034.. Val L1 norm: 1.054.. Train Linf norm: 7.811.. Val Linf norm: 12.721\n",
            "Epoch 18/70.. Train loss: 63.922.. Val loss: 58.718.. Train L1 norm: 1.034.. Val L1 norm: 1.054.. Train Linf norm: 7.752.. Val Linf norm: 12.711\n",
            "Epoch 19/70.. Train loss: 63.903.. Val loss: 58.717.. Train L1 norm: 1.034.. Val L1 norm: 1.054.. Train Linf norm: 7.612.. Val Linf norm: 12.693\n",
            "Epoch 20/70.. Train loss: 63.903.. Val loss: 58.716.. Train L1 norm: 1.034.. Val L1 norm: 1.054.. Train Linf norm: 7.686.. Val Linf norm: 12.665\n",
            "Epoch 21/70.. Train loss: 39708.880.. Val loss: 58.717.. Train L1 norm: 2.980.. Val L1 norm: 1.054.. Train Linf norm: 42.031.. Val Linf norm: 12.680\n",
            "Epoch 22/70.. Train loss: 65.058.. Val loss: 58.715.. Train L1 norm: 1.035.. Val L1 norm: 1.053.. Train Linf norm: 8.026.. Val Linf norm: 12.626\n",
            "Epoch 23/70.. Train loss: 5813738.857.. Val loss: 58.709.. Train L1 norm: 7.888.. Val L1 norm: 1.052.. Train Linf norm: 702.666.. Val Linf norm: 12.422\n",
            "Epoch 24/70.. Train loss: 84.277.. Val loss: 58.706.. Train L1 norm: 1.038.. Val L1 norm: 1.052.. Train Linf norm: 8.665.. Val Linf norm: 12.338\n",
            "Epoch 25/70.. Train loss: 63.890.. Val loss: 58.703.. Train L1 norm: 1.033.. Val L1 norm: 1.051.. Train Linf norm: 7.203.. Val Linf norm: 12.239\n",
            "Epoch 26/70.. Train loss: 63.975.. Val loss: 58.699.. Train L1 norm: 1.033.. Val L1 norm: 1.051.. Train Linf norm: 7.608.. Val Linf norm: 12.126\n",
            "Epoch 27/70.. Train loss: 63.883.. Val loss: 58.695.. Train L1 norm: 1.032.. Val L1 norm: 1.050.. Train Linf norm: 7.314.. Val Linf norm: 12.002\n",
            "Epoch 28/70.. Train loss: 63.878.. Val loss: 58.691.. Train L1 norm: 1.031.. Val L1 norm: 1.050.. Train Linf norm: 7.218.. Val Linf norm: 11.868\n",
            "Epoch 29/70.. Train loss: 63.874.. Val loss: 58.686.. Train L1 norm: 1.031.. Val L1 norm: 1.049.. Train Linf norm: 7.232.. Val Linf norm: 11.727\n",
            "Epoch 30/70.. Train loss: 63.869.. Val loss: 58.682.. Train L1 norm: 1.030.. Val L1 norm: 1.048.. Train Linf norm: 7.209.. Val Linf norm: 11.583\n",
            "Epoch 31/70.. Train loss: 63.865.. Val loss: 58.677.. Train L1 norm: 1.030.. Val L1 norm: 1.047.. Train Linf norm: 7.008.. Val Linf norm: 11.439\n",
            "Epoch 32/70.. Train loss: 63.860.. Val loss: 58.673.. Train L1 norm: 1.029.. Val L1 norm: 1.047.. Train Linf norm: 6.877.. Val Linf norm: 11.299\n",
            "Epoch 33/70.. Train loss: 63.856.. Val loss: 58.668.. Train L1 norm: 1.029.. Val L1 norm: 1.046.. Train Linf norm: 6.846.. Val Linf norm: 11.168\n",
            "Epoch 34/70.. Train loss: 63.852.. Val loss: 58.665.. Train L1 norm: 1.029.. Val L1 norm: 1.046.. Train Linf norm: 6.843.. Val Linf norm: 11.047\n",
            "Epoch 35/70.. Train loss: 63.848.. Val loss: 58.661.. Train L1 norm: 1.028.. Val L1 norm: 1.045.. Train Linf norm: 6.716.. Val Linf norm: 10.941\n",
            "Epoch 36/70.. Train loss: 63.845.. Val loss: 58.658.. Train L1 norm: 1.028.. Val L1 norm: 1.045.. Train Linf norm: 6.475.. Val Linf norm: 10.851\n",
            "Epoch 37/70.. Train loss: 63.842.. Val loss: 58.656.. Train L1 norm: 1.028.. Val L1 norm: 1.044.. Train Linf norm: 6.579.. Val Linf norm: 10.779\n",
            "Epoch 38/70.. Train loss: 63.840.. Val loss: 58.654.. Train L1 norm: 1.027.. Val L1 norm: 1.044.. Train Linf norm: 6.451.. Val Linf norm: 10.725\n",
            "Epoch 39/70.. Train loss: 63.838.. Val loss: 58.653.. Train L1 norm: 1.027.. Val L1 norm: 1.044.. Train Linf norm: 6.564.. Val Linf norm: 10.688\n",
            "Epoch 40/70.. Train loss: 63.837.. Val loss: 58.652.. Train L1 norm: 1.027.. Val L1 norm: 1.044.. Train Linf norm: 6.350.. Val Linf norm: 10.665\n",
            "Epoch 41/70.. Train loss: 63.837.. Val loss: 58.652.. Train L1 norm: 1.027.. Val L1 norm: 1.044.. Train Linf norm: 6.570.. Val Linf norm: 10.655\n",
            "Epoch 42/70.. Train loss: 63.837.. Val loss: 58.652.. Train L1 norm: 1.027.. Val L1 norm: 1.044.. Train Linf norm: 6.514.. Val Linf norm: 10.652\n",
            "Epoch 43/70.. Train loss: 63.837.. Val loss: 58.652.. Train L1 norm: 1.027.. Val L1 norm: 1.044.. Train Linf norm: 6.524.. Val Linf norm: 10.652\n",
            "Epoch 44/70.. Train loss: 63.837.. Val loss: 58.652.. Train L1 norm: 1.027.. Val L1 norm: 1.044.. Train Linf norm: 6.457.. Val Linf norm: 10.649\n",
            "Epoch 45/70.. Train loss: 63.836.. Val loss: 58.651.. Train L1 norm: 1.027.. Val L1 norm: 1.043.. Train Linf norm: 6.510.. Val Linf norm: 10.637\n",
            "Epoch 46/70.. Train loss: 63.836.. Val loss: 58.651.. Train L1 norm: 1.027.. Val L1 norm: 1.043.. Train Linf norm: 6.463.. Val Linf norm: 10.610\n",
            "Epoch 47/70.. Train loss: 63.834.. Val loss: 58.649.. Train L1 norm: 1.027.. Val L1 norm: 1.043.. Train Linf norm: 6.455.. Val Linf norm: 10.562\n",
            "Epoch 48/70.. Train loss: 63.832.. Val loss: 58.647.. Train L1 norm: 1.027.. Val L1 norm: 1.043.. Train Linf norm: 6.587.. Val Linf norm: 10.487\n",
            "Epoch 49/70.. Train loss: 63.830.. Val loss: 58.643.. Train L1 norm: 1.026.. Val L1 norm: 1.042.. Train Linf norm: 6.257.. Val Linf norm: 10.381\n",
            "Epoch 50/70.. Train loss: 63.826.. Val loss: 58.639.. Train L1 norm: 1.026.. Val L1 norm: 1.042.. Train Linf norm: 6.219.. Val Linf norm: 10.240\n",
            "Epoch 51/70.. Train loss: 63.820.. Val loss: 58.633.. Train L1 norm: 1.025.. Val L1 norm: 1.041.. Train Linf norm: 5.871.. Val Linf norm: 10.062\n",
            "Epoch 52/70.. Train loss: 63.814.. Val loss: 58.626.. Train L1 norm: 1.025.. Val L1 norm: 1.040.. Train Linf norm: 6.180.. Val Linf norm: 9.848\n",
            "Epoch 53/70.. Train loss: 63.806.. Val loss: 58.618.. Train L1 norm: 1.024.. Val L1 norm: 1.038.. Train Linf norm: 5.972.. Val Linf norm: 9.597\n",
            "Epoch 54/70.. Train loss: 63.798.. Val loss: 58.609.. Train L1 norm: 1.023.. Val L1 norm: 1.037.. Train Linf norm: 5.761.. Val Linf norm: 9.313\n",
            "Epoch 55/70.. Train loss: 63.788.. Val loss: 58.599.. Train L1 norm: 1.022.. Val L1 norm: 1.035.. Train Linf norm: 5.637.. Val Linf norm: 9.001\n",
            "Epoch 56/70.. Train loss: 63.777.. Val loss: 58.588.. Train L1 norm: 1.021.. Val L1 norm: 1.034.. Train Linf norm: 5.348.. Val Linf norm: 8.666\n",
            "Epoch 57/70.. Train loss: 63.766.. Val loss: 58.577.. Train L1 norm: 1.020.. Val L1 norm: 1.032.. Train Linf norm: 5.278.. Val Linf norm: 8.318\n",
            "Epoch 58/70.. Train loss: 63.755.. Val loss: 58.566.. Train L1 norm: 1.019.. Val L1 norm: 1.031.. Train Linf norm: 5.039.. Val Linf norm: 7.964\n",
            "Epoch 59/70.. Train loss: 63.743.. Val loss: 58.554.. Train L1 norm: 1.018.. Val L1 norm: 1.029.. Train Linf norm: 4.828.. Val Linf norm: 7.613\n",
            "Epoch 60/70.. Train loss: 63.732.. Val loss: 58.544.. Train L1 norm: 1.017.. Val L1 norm: 1.027.. Train Linf norm: 4.546.. Val Linf norm: 7.273\n",
            "Epoch 61/70.. Train loss: 63.721.. Val loss: 58.533.. Train L1 norm: 1.016.. Val L1 norm: 1.026.. Train Linf norm: 4.400.. Val Linf norm: 6.955\n",
            "Epoch 62/70.. Train loss: 64.047.. Val loss: 58.524.. Train L1 norm: 1.015.. Val L1 norm: 1.025.. Train Linf norm: 4.262.. Val Linf norm: 6.664\n",
            "Epoch 63/70.. Train loss: 63.702.. Val loss: 58.516.. Train L1 norm: 1.014.. Val L1 norm: 1.023.. Train Linf norm: 4.044.. Val Linf norm: 6.410\n",
            "Epoch 64/70.. Train loss: 63.695.. Val loss: 58.509.. Train L1 norm: 1.013.. Val L1 norm: 1.022.. Train Linf norm: 3.910.. Val Linf norm: 6.194\n",
            "Epoch 65/70.. Train loss: 63.688.. Val loss: 58.503.. Train L1 norm: 1.013.. Val L1 norm: 1.022.. Train Linf norm: 3.741.. Val Linf norm: 6.022\n",
            "Epoch 66/70.. Train loss: 26301.995.. Val loss: 58.499.. Train L1 norm: 1.285.. Val L1 norm: 1.021.. Train Linf norm: 73.643.. Val Linf norm: 5.873\n",
            "Epoch 67/70.. Train loss: 63.679.. Val loss: 58.496.. Train L1 norm: 1.012.. Val L1 norm: 1.020.. Train Linf norm: 3.674.. Val Linf norm: 5.785\n",
            "Epoch 68/70.. Train loss: 129.235.. Val loss: 58.494.. Train L1 norm: 1.221.. Val L1 norm: 1.020.. Train Linf norm: 55.305.. Val Linf norm: 5.732\n",
            "Epoch 69/70.. Train loss: 63.676.. Val loss: 58.493.. Train L1 norm: 1.012.. Val L1 norm: 1.020.. Train Linf norm: 3.637.. Val Linf norm: 5.708\n"
          ]
        },
        {
          "output_type": "stream",
          "name": "stderr",
          "text": [
            "[I 2023-05-30 12:27:05,338] Trial 43 finished with value: 1.0201001555124918 and parameters: {'n_layers': 6, 'n_units_0': 3229, 'n_units_1': 3132, 'n_units_2': 1177, 'n_units_3': 2296, 'n_units_4': 3075, 'n_units_5': 764, 'hidden_activation': 'ReLU', 'output_activation': 'Linear', 'loss': 'MSE', 'optimizer': 'Adam', 'lr': 0.007939198654371963, 'batch_size': 256, 'n_epochs': 70, 'scheduler': 'CosineAnnealingLR', 'dropout_rate': 0.21852599669215195, 'weight_decay': 0.0014052484264301698, 'beta1': 0.900642895431557, 'beta2': 0.9997833691747361, 't_max_fraction': 0.2111239229145815, 'eta_min': 7.139423268504188e-07}. Best is trial 41 with value: 1.0071135492960612.\n"
          ]
        },
        {
          "output_type": "stream",
          "name": "stdout",
          "text": [
            "Epoch 70/70.. Train loss: 63.675.. Val loss: 58.493.. Train L1 norm: 1.012.. Val L1 norm: 1.020.. Train Linf norm: 3.623.. Val Linf norm: 5.701\n",
            "Epoch 1/69.. Train loss: 49572407289.146.. Val loss: 58.876.. Train L1 norm: 12701.561.. Val L1 norm: 1.079.. Train Linf norm: 1553901.792.. Val Linf norm: 17.665\n",
            "Epoch 2/69.. Train loss: 81.089.. Val loss: 1241.358.. Train L1 norm: 1.139.. Val L1 norm: 7.589.. Train Linf norm: 20.471.. Val Linf norm: 1026.923\n",
            "Epoch 3/69.. Train loss: 46865.544.. Val loss: 58.875.. Train L1 norm: 1.170.. Val L1 norm: 1.079.. Train Linf norm: 37.338.. Val Linf norm: 17.617\n",
            "Epoch 4/69.. Train loss: 87.945.. Val loss: 58.874.. Train L1 norm: 1.209.. Val L1 norm: 1.079.. Train Linf norm: 21.027.. Val Linf norm: 17.583\n",
            "Epoch 5/69.. Train loss: 64.074.. Val loss: 58.873.. Train L1 norm: 1.051.. Val L1 norm: 1.079.. Train Linf norm: 10.424.. Val Linf norm: 17.546\n",
            "Epoch 6/69.. Train loss: 64.072.. Val loss: 58.871.. Train L1 norm: 1.051.. Val L1 norm: 1.078.. Train Linf norm: 10.539.. Val Linf norm: 17.509\n",
            "Epoch 7/69.. Train loss: 1535.133.. Val loss: 58.870.. Train L1 norm: 1.217.. Val L1 norm: 1.078.. Train Linf norm: 28.285.. Val Linf norm: 17.476\n",
            "Epoch 8/69.. Train loss: 64.062.. Val loss: 58.869.. Train L1 norm: 1.050.. Val L1 norm: 1.078.. Train Linf norm: 10.684.. Val Linf norm: 17.444\n",
            "Epoch 9/69.. Train loss: 64.058.. Val loss: 58.868.. Train L1 norm: 1.050.. Val L1 norm: 1.078.. Train Linf norm: 9.866.. Val Linf norm: 17.416\n",
            "Epoch 10/69.. Train loss: 64.057.. Val loss: 58.868.. Train L1 norm: 1.050.. Val L1 norm: 1.078.. Train Linf norm: 10.500.. Val Linf norm: 17.395\n",
            "Epoch 11/69.. Train loss: 64.457.. Val loss: 58.867.. Train L1 norm: 1.050.. Val L1 norm: 1.078.. Train Linf norm: 10.477.. Val Linf norm: 17.379\n",
            "Epoch 12/69.. Train loss: 64.056.. Val loss: 58.867.. Train L1 norm: 1.050.. Val L1 norm: 1.078.. Train Linf norm: 10.293.. Val Linf norm: 17.369\n",
            "Epoch 13/69.. Train loss: 64.056.. Val loss: 58.867.. Train L1 norm: 1.050.. Val L1 norm: 1.078.. Train Linf norm: 10.578.. Val Linf norm: 17.364\n",
            "Epoch 14/69.. Train loss: 64.060.. Val loss: 58.867.. Train L1 norm: 1.050.. Val L1 norm: 1.078.. Train Linf norm: 10.256.. Val Linf norm: 17.363\n",
            "Epoch 15/69.. Train loss: 64.055.. Val loss: 58.867.. Train L1 norm: 1.050.. Val L1 norm: 1.078.. Train Linf norm: 10.462.. Val Linf norm: 17.363\n",
            "Epoch 16/69.. Train loss: 64.055.. Val loss: 58.867.. Train L1 norm: 1.050.. Val L1 norm: 1.078.. Train Linf norm: 10.546.. Val Linf norm: 17.361\n",
            "Epoch 17/69.. Train loss: 75.345.. Val loss: 58.866.. Train L1 norm: 1.055.. Val L1 norm: 1.078.. Train Linf norm: 11.536.. Val Linf norm: 17.355\n",
            "Epoch 18/69.. Train loss: 64.055.. Val loss: 58.866.. Train L1 norm: 1.050.. Val L1 norm: 1.078.. Train Linf norm: 10.126.. Val Linf norm: 17.340\n",
            "Epoch 19/69.. Train loss: 64.054.. Val loss: 58.865.. Train L1 norm: 1.050.. Val L1 norm: 1.077.. Train Linf norm: 10.280.. Val Linf norm: 17.313\n",
            "Epoch 20/69.. Train loss: 73.506.. Val loss: 58.864.. Train L1 norm: 1.162.. Val L1 norm: 1.077.. Train Linf norm: 25.619.. Val Linf norm: 17.270\n",
            "Epoch 21/69.. Train loss: 1475.072.. Val loss: 58.862.. Train L1 norm: 2.288.. Val L1 norm: 1.077.. Train Linf norm: 198.764.. Val Linf norm: 17.223\n",
            "Epoch 22/69.. Train loss: 348832.037.. Val loss: 58.865.. Train L1 norm: 6.103.. Val L1 norm: 1.077.. Train Linf norm: 419.754.. Val Linf norm: 17.308\n",
            "Epoch 23/69.. Train loss: 2490641.951.. Val loss: 58.866.. Train L1 norm: 38.659.. Val L1 norm: 1.077.. Train Linf norm: 5961.566.. Val Linf norm: 17.325\n",
            "Epoch 24/69.. Train loss: 21621.448.. Val loss: 58.861.. Train L1 norm: 1.856.. Val L1 norm: 1.077.. Train Linf norm: 216.862.. Val Linf norm: 17.189\n",
            "Epoch 25/69.. Train loss: 64.051.. Val loss: 58.856.. Train L1 norm: 1.049.. Val L1 norm: 1.076.. Train Linf norm: 10.385.. Val Linf norm: 17.020\n",
            "Epoch 26/69.. Train loss: 64.041.. Val loss: 58.850.. Train L1 norm: 1.048.. Val L1 norm: 1.075.. Train Linf norm: 10.118.. Val Linf norm: 16.824\n",
            "Epoch 27/69.. Train loss: 64.034.. Val loss: 58.842.. Train L1 norm: 1.048.. Val L1 norm: 1.074.. Train Linf norm: 10.049.. Val Linf norm: 16.603\n",
            "Epoch 28/69.. Train loss: 64.027.. Val loss: 58.835.. Train L1 norm: 1.047.. Val L1 norm: 1.072.. Train Linf norm: 10.065.. Val Linf norm: 16.360\n",
            "Epoch 29/69.. Train loss: 84.478.. Val loss: 58.826.. Train L1 norm: 1.054.. Val L1 norm: 1.071.. Train Linf norm: 11.834.. Val Linf norm: 16.099\n",
            "Epoch 30/69.. Train loss: 169.649.. Val loss: 58.818.. Train L1 norm: 1.062.. Val L1 norm: 1.070.. Train Linf norm: 12.970.. Val Linf norm: 15.828\n",
            "Epoch 31/69.. Train loss: 64.001.. Val loss: 58.809.. Train L1 norm: 1.044.. Val L1 norm: 1.068.. Train Linf norm: 9.327.. Val Linf norm: 15.552\n",
            "Epoch 32/69.. Train loss: 68.296.. Val loss: 58.800.. Train L1 norm: 1.044.. Val L1 norm: 1.067.. Train Linf norm: 9.683.. Val Linf norm: 15.276\n",
            "Epoch 33/69.. Train loss: 63.983.. Val loss: 58.791.. Train L1 norm: 1.042.. Val L1 norm: 1.066.. Train Linf norm: 9.127.. Val Linf norm: 15.012\n",
            "Epoch 34/69.. Train loss: 63.975.. Val loss: 58.784.. Train L1 norm: 1.041.. Val L1 norm: 1.064.. Train Linf norm: 9.072.. Val Linf norm: 14.765\n",
            "Epoch 35/69.. Train loss: 65.754.. Val loss: 58.776.. Train L1 norm: 1.047.. Val L1 norm: 1.063.. Train Linf norm: 10.650.. Val Linf norm: 14.543\n",
            "Epoch 36/69.. Train loss: 68.892.. Val loss: 58.770.. Train L1 norm: 1.049.. Val L1 norm: 1.062.. Train Linf norm: 11.282.. Val Linf norm: 14.351\n",
            "Epoch 37/69.. Train loss: 63.955.. Val loss: 58.765.. Train L1 norm: 1.039.. Val L1 norm: 1.061.. Train Linf norm: 8.737.. Val Linf norm: 14.194\n",
            "Epoch 38/69.. Train loss: 64.653.. Val loss: 58.761.. Train L1 norm: 1.039.. Val L1 norm: 1.061.. Train Linf norm: 8.793.. Val Linf norm: 14.072\n",
            "Epoch 39/69.. Train loss: 63.947.. Val loss: 58.759.. Train L1 norm: 1.038.. Val L1 norm: 1.060.. Train Linf norm: 8.276.. Val Linf norm: 13.987\n",
            "Epoch 40/69.. Train loss: 63.944.. Val loss: 58.757.. Train L1 norm: 1.038.. Val L1 norm: 1.060.. Train Linf norm: 8.256.. Val Linf norm: 13.935\n",
            "Epoch 41/69.. Train loss: 63.943.. Val loss: 58.756.. Train L1 norm: 1.038.. Val L1 norm: 1.060.. Train Linf norm: 8.431.. Val Linf norm: 13.910\n",
            "Epoch 42/69.. Train loss: 63.943.. Val loss: 58.756.. Train L1 norm: 1.038.. Val L1 norm: 1.060.. Train Linf norm: 8.391.. Val Linf norm: 13.903\n",
            "Epoch 43/69.. Train loss: 63.942.. Val loss: 58.756.. Train L1 norm: 1.038.. Val L1 norm: 1.060.. Train Linf norm: 8.517.. Val Linf norm: 13.903\n",
            "Epoch 44/69.. Train loss: 63.942.. Val loss: 58.756.. Train L1 norm: 1.038.. Val L1 norm: 1.060.. Train Linf norm: 8.189.. Val Linf norm: 13.895\n",
            "Epoch 45/69.. Train loss: 63.942.. Val loss: 58.755.. Train L1 norm: 1.038.. Val L1 norm: 1.060.. Train Linf norm: 8.545.. Val Linf norm: 13.864\n",
            "Epoch 46/69.. Train loss: 66.533.. Val loss: 58.752.. Train L1 norm: 1.040.. Val L1 norm: 1.059.. Train Linf norm: 8.798.. Val Linf norm: 13.792\n",
            "Epoch 47/69.. Train loss: 65.445.. Val loss: 58.748.. Train L1 norm: 1.040.. Val L1 norm: 1.059.. Train Linf norm: 8.951.. Val Linf norm: 13.660\n",
            "Epoch 48/69.. Train loss: 77.987.. Val loss: 58.741.. Train L1 norm: 1.042.. Val L1 norm: 1.058.. Train Linf norm: 9.372.. Val Linf norm: 13.450\n",
            "Epoch 49/69.. Train loss: 63.923.. Val loss: 58.732.. Train L1 norm: 1.036.. Val L1 norm: 1.056.. Train Linf norm: 8.019.. Val Linf norm: 13.147\n",
            "Epoch 50/69.. Train loss: 63.911.. Val loss: 58.719.. Train L1 norm: 1.035.. Val L1 norm: 1.054.. Train Linf norm: 7.758.. Val Linf norm: 12.736\n",
            "Epoch 51/69.. Train loss: 4709219.082.. Val loss: 58.866.. Train L1 norm: 28.190.. Val L1 norm: 1.077.. Train Linf norm: 608.724.. Val Linf norm: 17.335\n",
            "Epoch 52/69.. Train loss: 57582.213.. Val loss: 58.932.. Train L1 norm: 2.512.. Val L1 norm: 1.088.. Train Linf norm: 354.831.. Val Linf norm: 19.408\n",
            "Epoch 53/69.. Train loss: 64.116.. Val loss: 58.907.. Train L1 norm: 1.056.. Val L1 norm: 1.084.. Train Linf norm: 11.315.. Val Linf norm: 18.622\n",
            "Epoch 54/69.. Train loss: 71.723.. Val loss: 58.878.. Train L1 norm: 1.055.. Val L1 norm: 1.079.. Train Linf norm: 11.585.. Val Linf norm: 17.710\n",
            "Epoch 55/69.. Train loss: 128.559.. Val loss: 58.845.. Train L1 norm: 1.055.. Val L1 norm: 1.074.. Train Linf norm: 11.426.. Val Linf norm: 16.695\n",
            "Epoch 56/69.. Train loss: 1872031047.640.. Val loss: 56.971.. Train L1 norm: 479.148.. Val L1 norm: 1.205.. Train Linf norm: 17772.940.. Val Linf norm: 44.993\n",
            "Epoch 57/69.. Train loss: 13292.818.. Val loss: 57.184.. Train L1 norm: 1.369.. Val L1 norm: 1.169.. Train Linf norm: 68.326.. Val Linf norm: 37.869\n",
            "Epoch 58/69.. Train loss: 39015655.639.. Val loss: 57.391.. Train L1 norm: 31.848.. Val L1 norm: 1.134.. Train Linf norm: 2295.688.. Val Linf norm: 31.035\n",
            "Epoch 59/69.. Train loss: 9526.285.. Val loss: 57.401.. Train L1 norm: 1.127.. Val L1 norm: 1.133.. Train Linf norm: 29.609.. Val Linf norm: 30.691\n",
            "Epoch 60/69.. Train loss: 14539.107.. Val loss: 57.385.. Train L1 norm: 2.112.. Val L1 norm: 1.135.. Train Linf norm: 282.290.. Val Linf norm: 31.229\n",
            "Epoch 61/69.. Train loss: 7251655.966.. Val loss: 57.322.. Train L1 norm: 3.251.. Val L1 norm: 1.146.. Train Linf norm: 573.476.. Val Linf norm: 33.298\n",
            "Epoch 62/69.. Train loss: 62.504.. Val loss: 57.306.. Train L1 norm: 1.088.. Val L1 norm: 1.148.. Train Linf norm: 19.795.. Val Linf norm: 33.834\n",
            "Epoch 63/69.. Train loss: 74.770.. Val loss: 57.292.. Train L1 norm: 1.094.. Val L1 norm: 1.151.. Train Linf norm: 21.537.. Val Linf norm: 34.313\n",
            "Epoch 64/69.. Train loss: 62.445.. Val loss: 57.279.. Train L1 norm: 1.091.. Val L1 norm: 1.153.. Train Linf norm: 20.540.. Val Linf norm: 34.729\n",
            "Epoch 65/69.. Train loss: 86.859.. Val loss: 57.269.. Train L1 norm: 1.138.. Val L1 norm: 1.154.. Train Linf norm: 32.582.. Val Linf norm: 35.072\n",
            "Epoch 66/69.. Train loss: 62.424.. Val loss: 57.261.. Train L1 norm: 1.093.. Val L1 norm: 1.156.. Train Linf norm: 20.829.. Val Linf norm: 35.334\n",
            "Epoch 67/69.. Train loss: 62.477.. Val loss: 57.255.. Train L1 norm: 1.104.. Val L1 norm: 1.157.. Train Linf norm: 23.497.. Val Linf norm: 35.518\n",
            "Epoch 68/69.. Train loss: 62.412.. Val loss: 57.252.. Train L1 norm: 1.095.. Val L1 norm: 1.157.. Train Linf norm: 21.548.. Val Linf norm: 35.631\n"
          ]
        },
        {
          "output_type": "stream",
          "name": "stderr",
          "text": [
            "[I 2023-05-30 12:33:45,035] Trial 44 finished with value: 1.1575452555656434 and parameters: {'n_layers': 6, 'n_units_0': 2373, 'n_units_1': 3079, 'n_units_2': 1110, 'n_units_3': 2211, 'n_units_4': 3093, 'n_units_5': 759, 'hidden_activation': 'ReLU', 'output_activation': 'Linear', 'loss': 'MSE', 'optimizer': 'Adam', 'lr': 0.00819582262042084, 'batch_size': 256, 'n_epochs': 69, 'scheduler': 'CosineAnnealingLR', 'dropout_rate': 0.21541445886963592, 'weight_decay': 0.0014839326117269528, 'beta1': 0.900537935333464, 'beta2': 0.99960666386262, 't_max_fraction': 0.21017401114582696, 'eta_min': 1.3409413045722636e-06}. Best is trial 41 with value: 1.0071135492960612.\n"
          ]
        },
        {
          "output_type": "stream",
          "name": "stdout",
          "text": [
            "Epoch 69/69.. Train loss: 62.421.. Val loss: 57.250.. Train L1 norm: 1.095.. Val L1 norm: 1.158.. Train Linf norm: 21.267.. Val Linf norm: 35.685\n"
          ]
        },
        {
          "output_type": "stream",
          "name": "stderr",
          "text": [
            "[I 2023-05-30 12:33:48,245] Trial 45 pruned. \n"
          ]
        },
        {
          "output_type": "stream",
          "name": "stdout",
          "text": [
            "Epoch 1/62.. Train loss: 4555583609.757.. Val loss: 51.944.. Train L1 norm: 1906.946.. Val L1 norm: 2.291.. Train Linf norm: 98250.424.. Val Linf norm: 233.208\n",
            "Epoch 1/56.. Train loss: 18924487.844.. Val loss: 58.507.. Train L1 norm: 222.550.. Val L1 norm: 1.022.. Train Linf norm: 22468.584.. Val Linf norm: 6.137\n",
            "Epoch 2/56.. Train loss: 94.276.. Val loss: 58.495.. Train L1 norm: 1.122.. Val L1 norm: 1.020.. Train Linf norm: 7.316.. Val Linf norm: 5.772\n",
            "Epoch 3/56.. Train loss: 63.671.. Val loss: 58.481.. Train L1 norm: 1.011.. Val L1 norm: 1.018.. Train Linf norm: 3.581.. Val Linf norm: 5.324\n",
            "Epoch 4/56.. Train loss: 63.655.. Val loss: 58.466.. Train L1 norm: 1.010.. Val L1 norm: 1.016.. Train Linf norm: 3.295.. Val Linf norm: 4.840\n",
            "Epoch 5/56.. Train loss: 63.640.. Val loss: 58.451.. Train L1 norm: 1.009.. Val L1 norm: 1.014.. Train Linf norm: 3.047.. Val Linf norm: 4.382\n",
            "Epoch 6/56.. Train loss: 63.625.. Val loss: 58.438.. Train L1 norm: 1.007.. Val L1 norm: 1.012.. Train Linf norm: 2.760.. Val Linf norm: 3.990\n",
            "Epoch 7/56.. Train loss: 63.614.. Val loss: 58.428.. Train L1 norm: 1.006.. Val L1 norm: 1.011.. Train Linf norm: 2.604.. Val Linf norm: 3.689\n",
            "Epoch 8/56.. Train loss: 63.606.. Val loss: 58.422.. Train L1 norm: 1.006.. Val L1 norm: 1.010.. Train Linf norm: 2.412.. Val Linf norm: 3.493\n",
            "Epoch 9/56.. Train loss: 63.601.. Val loss: 58.419.. Train L1 norm: 1.005.. Val L1 norm: 1.010.. Train Linf norm: 2.342.. Val Linf norm: 3.393\n",
            "Epoch 10/56.. Train loss: 63.599.. Val loss: 58.418.. Train L1 norm: 1.005.. Val L1 norm: 1.010.. Train Linf norm: 2.260.. Val Linf norm: 3.365\n",
            "Epoch 11/56.. Train loss: 63.598.. Val loss: 58.418.. Train L1 norm: 1.005.. Val L1 norm: 1.010.. Train Linf norm: 2.306.. Val Linf norm: 3.363\n",
            "Epoch 12/56.. Train loss: 63.598.. Val loss: 58.417.. Train L1 norm: 1.005.. Val L1 norm: 1.010.. Train Linf norm: 2.261.. Val Linf norm: 3.331\n",
            "Epoch 13/56.. Train loss: 63.595.. Val loss: 58.413.. Train L1 norm: 1.005.. Val L1 norm: 1.009.. Train Linf norm: 2.253.. Val Linf norm: 3.202\n",
            "Epoch 14/56.. Train loss: 63.588.. Val loss: 58.403.. Train L1 norm: 1.004.. Val L1 norm: 1.008.. Train Linf norm: 2.122.. Val Linf norm: 2.912\n",
            "Epoch 15/56.. Train loss: 63.575.. Val loss: 58.386.. Train L1 norm: 1.003.. Val L1 norm: 1.006.. Train Linf norm: 1.874.. Val Linf norm: 2.401\n",
            "Epoch 16/56.. Train loss: 63.554.. Val loss: 58.361.. Train L1 norm: 1.002.. Val L1 norm: 1.002.. Train Linf norm: 1.571.. Val Linf norm: 1.628\n",
            "Epoch 17/56.. Train loss: 63.523.. Val loss: 58.326.. Train L1 norm: 1.000.. Val L1 norm: 1.001.. Train Linf norm: 1.129.. Val Linf norm: 1.252\n",
            "Epoch 18/56.. Train loss: 63.483.. Val loss: 58.282.. Train L1 norm: 1.000.. Val L1 norm: 1.005.. Train Linf norm: 1.423.. Val Linf norm: 2.557\n",
            "Epoch 19/56.. Train loss: 63.433.. Val loss: 58.229.. Train L1 norm: 1.003.. Val L1 norm: 1.011.. Train Linf norm: 2.213.. Val Linf norm: 4.157\n",
            "Epoch 20/56.. Train loss: 63.376.. Val loss: 58.170.. Train L1 norm: 1.006.. Val L1 norm: 1.018.. Train Linf norm: 3.075.. Val Linf norm: 5.971\n",
            "Epoch 21/56.. Train loss: 65.797.. Val loss: 58.108.. Train L1 norm: 1.105.. Val L1 norm: 1.026.. Train Linf norm: 17.863.. Val Linf norm: 7.881\n",
            "Epoch 22/56.. Train loss: 63.251.. Val loss: 58.044.. Train L1 norm: 1.015.. Val L1 norm: 1.035.. Train Linf norm: 5.282.. Val Linf norm: 9.904\n",
            "Epoch 23/56.. Train loss: 63.186.. Val loss: 57.982.. Train L1 norm: 1.020.. Val L1 norm: 1.044.. Train Linf norm: 6.493.. Val Linf norm: 11.860\n",
            "Epoch 24/56.. Train loss: 63.126.. Val loss: 57.926.. Train L1 norm: 1.025.. Val L1 norm: 1.052.. Train Linf norm: 7.484.. Val Linf norm: 13.654\n",
            "Epoch 25/56.. Train loss: 63.073.. Val loss: 57.877.. Train L1 norm: 1.030.. Val L1 norm: 1.059.. Train Linf norm: 8.759.. Val Linf norm: 15.204\n",
            "Epoch 26/56.. Train loss: 63.028.. Val loss: 57.839.. Train L1 norm: 1.033.. Val L1 norm: 1.065.. Train Linf norm: 9.155.. Val Linf norm: 16.436\n",
            "Epoch 27/56.. Train loss: 62.995.. Val loss: 57.811.. Train L1 norm: 1.037.. Val L1 norm: 1.069.. Train Linf norm: 10.181.. Val Linf norm: 17.325\n",
            "Epoch 28/56.. Train loss: 62.972.. Val loss: 57.794.. Train L1 norm: 1.039.. Val L1 norm: 1.071.. Train Linf norm: 10.392.. Val Linf norm: 17.876\n",
            "Epoch 29/56.. Train loss: 62.959.. Val loss: 57.786.. Train L1 norm: 1.040.. Val L1 norm: 1.073.. Train Linf norm: 10.909.. Val Linf norm: 18.145\n",
            "Epoch 30/56.. Train loss: 62.953.. Val loss: 57.783.. Train L1 norm: 1.040.. Val L1 norm: 1.073.. Train Linf norm: 10.793.. Val Linf norm: 18.219\n",
            "Epoch 31/56.. Train loss: 62.952.. Val loss: 57.783.. Train L1 norm: 1.040.. Val L1 norm: 1.073.. Train Linf norm: 10.586.. Val Linf norm: 18.224\n",
            "Epoch 32/56.. Train loss: 62.951.. Val loss: 57.781.. Train L1 norm: 1.041.. Val L1 norm: 1.073.. Train Linf norm: 10.816.. Val Linf norm: 18.304\n",
            "Epoch 33/56.. Train loss: 62.945.. Val loss: 57.771.. Train L1 norm: 1.041.. Val L1 norm: 1.075.. Train Linf norm: 10.912.. Val Linf norm: 18.616\n",
            "Epoch 34/56.. Train loss: 62.929.. Val loss: 57.750.. Train L1 norm: 1.043.. Val L1 norm: 1.078.. Train Linf norm: 11.258.. Val Linf norm: 19.309\n",
            "Epoch 35/56.. Train loss: 62.899.. Val loss: 57.713.. Train L1 norm: 1.045.. Val L1 norm: 1.084.. Train Linf norm: 11.809.. Val Linf norm: 20.511\n",
            "Epoch 36/56.. Train loss: 62.852.. Val loss: 57.657.. Train L1 norm: 1.050.. Val L1 norm: 1.092.. Train Linf norm: 12.856.. Val Linf norm: 22.313\n",
            "Epoch 37/56.. Train loss: 62.786.. Val loss: 57.582.. Train L1 norm: 1.056.. Val L1 norm: 1.104.. Train Linf norm: 13.956.. Val Linf norm: 24.748\n",
            "Epoch 38/56.. Train loss: 62.700.. Val loss: 57.489.. Train L1 norm: 1.065.. Val L1 norm: 1.119.. Train Linf norm: 15.706.. Val Linf norm: 27.811\n",
            "Epoch 39/56.. Train loss: 62.597.. Val loss: 57.379.. Train L1 norm: 1.075.. Val L1 norm: 1.136.. Train Linf norm: 17.396.. Val Linf norm: 31.413\n",
            "Epoch 40/56.. Train loss: 74.053.. Val loss: 57.254.. Train L1 norm: 1.375.. Val L1 norm: 1.157.. Train Linf norm: 34.774.. Val Linf norm: 35.576\n",
            "Epoch 41/56.. Train loss: 62.348.. Val loss: 57.126.. Train L1 norm: 1.101.. Val L1 norm: 1.178.. Train Linf norm: 21.946.. Val Linf norm: 39.824\n",
            "Epoch 42/56.. Train loss: 62.218.. Val loss: 56.998.. Train L1 norm: 1.116.. Val L1 norm: 1.200.. Train Linf norm: 24.319.. Val Linf norm: 44.093\n",
            "Epoch 43/56.. Train loss: 62.090.. Val loss: 56.876.. Train L1 norm: 1.130.. Val L1 norm: 1.221.. Train Linf norm: 28.306.. Val Linf norm: 48.168\n",
            "Epoch 44/56.. Train loss: 61.972.. Val loss: 56.766.. Train L1 norm: 1.143.. Val L1 norm: 1.241.. Train Linf norm: 29.908.. Val Linf norm: 51.866\n",
            "Epoch 45/56.. Train loss: 61.869.. Val loss: 56.673.. Train L1 norm: 1.155.. Val L1 norm: 1.257.. Train Linf norm: 31.932.. Val Linf norm: 55.010\n",
            "Epoch 46/56.. Train loss: 61.784.. Val loss: 56.600.. Train L1 norm: 1.165.. Val L1 norm: 1.271.. Train Linf norm: 32.378.. Val Linf norm: 57.490\n",
            "Epoch 47/56.. Train loss: 61.720.. Val loss: 56.548.. Train L1 norm: 1.173.. Val L1 norm: 1.280.. Train Linf norm: 33.946.. Val Linf norm: 59.264\n",
            "Epoch 48/56.. Train loss: 61.677.. Val loss: 56.516.. Train L1 norm: 1.178.. Val L1 norm: 1.286.. Train Linf norm: 36.065.. Val Linf norm: 60.359\n",
            "Epoch 49/56.. Train loss: 61.653.. Val loss: 56.501.. Train L1 norm: 1.181.. Val L1 norm: 1.289.. Train Linf norm: 36.937.. Val Linf norm: 60.889\n",
            "Epoch 50/56.. Train loss: 61.643.. Val loss: 56.496.. Train L1 norm: 1.183.. Val L1 norm: 1.290.. Train Linf norm: 36.571.. Val Linf norm: 61.035\n",
            "Epoch 51/56.. Train loss: 61.641.. Val loss: 56.496.. Train L1 norm: 1.183.. Val L1 norm: 1.290.. Train Linf norm: 36.496.. Val Linf norm: 61.044\n",
            "Epoch 52/56.. Train loss: 61.638.. Val loss: 56.491.. Train L1 norm: 1.183.. Val L1 norm: 1.290.. Train Linf norm: 35.601.. Val Linf norm: 61.200\n",
            "Epoch 53/56.. Train loss: 61.627.. Val loss: 56.474.. Train L1 norm: 1.184.. Val L1 norm: 1.294.. Train Linf norm: 36.674.. Val Linf norm: 61.806\n",
            "Epoch 54/56.. Train loss: 61.598.. Val loss: 56.435.. Train L1 norm: 1.188.. Val L1 norm: 1.301.. Train Linf norm: 37.230.. Val Linf norm: 63.145\n",
            "Epoch 55/56.. Train loss: 61.544.. Val loss: 56.367.. Train L1 norm: 1.194.. Val L1 norm: 1.313.. Train Linf norm: 38.312.. Val Linf norm: 65.457\n"
          ]
        },
        {
          "output_type": "stream",
          "name": "stderr",
          "text": [
            "[I 2023-05-30 12:40:29,880] Trial 46 finished with value: 1.331961903889974 and parameters: {'n_layers': 6, 'n_units_0': 3272, 'n_units_1': 2523, 'n_units_2': 1674, 'n_units_3': 3121, 'n_units_4': 3660, 'n_units_5': 18, 'hidden_activation': 'SoftPlus', 'output_activation': 'Linear', 'loss': 'MSE', 'optimizer': 'Adam', 'lr': 0.003942017034308056, 'batch_size': 256, 'n_epochs': 56, 'scheduler': 'CosineAnnealingLR', 'softplus_beta': 0.5152375253093839, 'dropout_rate': 0.15314663720644267, 'weight_decay': 0.0011887585175080668, 'beta1': 0.9005059618822893, 'beta2': 0.999762191182194, 't_max_fraction': 0.19135547525722857, 'eta_min': 5.699036314108646e-06}. Best is trial 41 with value: 1.0071135492960612.\n"
          ]
        },
        {
          "output_type": "stream",
          "name": "stdout",
          "text": [
            "Epoch 56/56.. Train loss: 61.458.. Val loss: 56.267.. Train L1 norm: 1.204.. Val L1 norm: 1.332.. Train Linf norm: 39.996.. Val Linf norm: 68.901\n",
            "Epoch 1/73.. Train loss: 42926.943.. Val loss: 58.258.. Train L1 norm: 2.539.. Val L1 norm: 1.007.. Train Linf norm: 102.044.. Val Linf norm: 3.268\n",
            "Epoch 2/73.. Train loss: 64.778.. Val loss: 57.667.. Train L1 norm: 1.029.. Val L1 norm: 1.091.. Train Linf norm: 8.007.. Val Linf norm: 22.000\n",
            "Epoch 3/73.. Train loss: 62.484.. Val loss: 56.959.. Train L1 norm: 1.083.. Val L1 norm: 1.208.. Train Linf norm: 18.699.. Val Linf norm: 45.552\n",
            "Epoch 4/73.. Train loss: 61.736.. Val loss: 56.203.. Train L1 norm: 1.176.. Val L1 norm: 1.344.. Train Linf norm: 34.893.. Val Linf norm: 71.110\n",
            "Epoch 5/73.. Train loss: 61.721.. Val loss: 55.470.. Train L1 norm: 1.283.. Val L1 norm: 1.486.. Train Linf norm: 48.530.. Val Linf norm: 96.859\n",
            "Epoch 6/73.. Train loss: 60.247.. Val loss: 54.781.. Train L1 norm: 1.365.. Val L1 norm: 1.628.. Train Linf norm: 65.724.. Val Linf norm: 121.758\n",
            "Epoch 7/73.. Train loss: 62.060.. Val loss: 54.176.. Train L1 norm: 1.473.. Val L1 norm: 1.759.. Train Linf norm: 78.047.. Val Linf norm: 144.266\n",
            "Epoch 8/73.. Train loss: 59.017.. Val loss: 53.662.. Train L1 norm: 1.544.. Val L1 norm: 1.874.. Train Linf norm: 89.562.. Val Linf norm: 163.884\n",
            "Epoch 9/73.. Train loss: 59.547.. Val loss: 53.252.. Train L1 norm: 1.619.. Val L1 norm: 1.969.. Train Linf norm: 99.721.. Val Linf norm: 179.882\n",
            "Epoch 10/73.. Train loss: 58.173.. Val loss: 52.944.. Train L1 norm: 1.677.. Val L1 norm: 2.042.. Train Linf norm: 105.834.. Val Linf norm: 192.140\n",
            "Epoch 11/73.. Train loss: 57.907.. Val loss: 52.732.. Train L1 norm: 1.722.. Val L1 norm: 2.093.. Train Linf norm: 115.894.. Val Linf norm: 200.640\n",
            "Epoch 12/73.. Train loss: 57.733.. Val loss: 52.605.. Train L1 norm: 1.750.. Val L1 norm: 2.124.. Train Linf norm: 121.550.. Val Linf norm: 205.817\n",
            "Epoch 13/73.. Train loss: 57.637.. Val loss: 52.545.. Train L1 norm: 1.767.. Val L1 norm: 2.139.. Train Linf norm: 122.037.. Val Linf norm: 208.279\n",
            "Epoch 14/73.. Train loss: 57.597.. Val loss: 52.528.. Train L1 norm: 1.774.. Val L1 norm: 2.143.. Train Linf norm: 120.571.. Val Linf norm: 208.942\n",
            "Epoch 15/73.. Train loss: 57.589.. Val loss: 52.528.. Train L1 norm: 1.775.. Val L1 norm: 2.143.. Train Linf norm: 123.823.. Val Linf norm: 208.958\n",
            "Epoch 16/73.. Train loss: 57.579.. Val loss: 52.510.. Train L1 norm: 1.777.. Val L1 norm: 2.148.. Train Linf norm: 123.335.. Val Linf norm: 209.679\n",
            "Epoch 17/73.. Train loss: 57.534.. Val loss: 52.439.. Train L1 norm: 1.785.. Val L1 norm: 2.165.. Train Linf norm: 122.039.. Val Linf norm: 212.595\n",
            "Epoch 18/73.. Train loss: 57.417.. Val loss: 52.280.. Train L1 norm: 1.804.. Val L1 norm: 2.205.. Train Linf norm: 129.239.. Val Linf norm: 219.185\n",
            "Epoch 19/73.. Train loss: 57.192.. Val loss: 52.000.. Train L1 norm: 1.844.. Val L1 norm: 2.276.. Train Linf norm: 134.510.. Val Linf norm: 230.862\n",
            "Epoch 20/73.. Train loss: 56.835.. Val loss: 51.583.. Train L1 norm: 1.911.. Val L1 norm: 2.385.. Train Linf norm: 143.962.. Val Linf norm: 248.650\n",
            "Epoch 21/73.. Train loss: 115.120.. Val loss: 50.992.. Train L1 norm: 2.246.. Val L1 norm: 2.545.. Train Linf norm: 176.997.. Val Linf norm: 274.591\n",
            "Epoch 22/73.. Train loss: 55.663.. Val loss: 50.310.. Train L1 norm: 2.130.. Val L1 norm: 2.740.. Train Linf norm: 171.699.. Val Linf norm: 305.784\n",
            "Epoch 23/73.. Train loss: 54.915.. Val loss: 49.535.. Train L1 norm: 2.285.. Val L1 norm: 2.975.. Train Linf norm: 193.409.. Val Linf norm: 343.119\n",
            "Epoch 24/73.. Train loss: 54.088.. Val loss: 48.708.. Train L1 norm: 2.471.. Val L1 norm: 3.245.. Train Linf norm: 209.673.. Val Linf norm: 385.568\n",
            "Epoch 25/73.. Train loss: 53.230.. Val loss: 47.871.. Train L1 norm: 2.669.. Val L1 norm: 3.543.. Train Linf norm: 239.542.. Val Linf norm: 431.892\n",
            "Epoch 26/73.. Train loss: 52.387.. Val loss: 47.078.. Train L1 norm: 2.893.. Val L1 norm: 3.853.. Train Linf norm: 270.009.. Val Linf norm: 479.811\n",
            "Epoch 27/73.. Train loss: 51.603.. Val loss: 46.353.. Train L1 norm: 3.120.. Val L1 norm: 4.168.. Train Linf norm: 302.621.. Val Linf norm: 527.999\n",
            "Epoch 28/73.. Train loss: 50.899.. Val loss: 45.728.. Train L1 norm: 3.351.. Val L1 norm: 4.473.. Train Linf norm: 331.289.. Val Linf norm: 574.229\n",
            "Epoch 29/73.. Train loss: 50.298.. Val loss: 45.200.. Train L1 norm: 3.576.. Val L1 norm: 4.762.. Train Linf norm: 355.757.. Val Linf norm: 617.890\n",
            "Epoch 30/73.. Train loss: 49.854.. Val loss: 44.774.. Train L1 norm: 3.776.. Val L1 norm: 5.026.. Train Linf norm: 381.059.. Val Linf norm: 657.464\n",
            "Epoch 31/73.. Train loss: 49.399.. Val loss: 44.441.. Train L1 norm: 3.961.. Val L1 norm: 5.259.. Train Linf norm: 405.120.. Val Linf norm: 692.268\n",
            "Epoch 32/73.. Train loss: 49.084.. Val loss: 44.274.. Train L1 norm: 4.119.. Val L1 norm: 5.466.. Train Linf norm: 422.505.. Val Linf norm: 722.860\n",
            "Epoch 33/73.. Train loss: 48.842.. Val loss: 43.984.. Train L1 norm: 4.259.. Val L1 norm: 5.638.. Train Linf norm: 437.631.. Val Linf norm: 748.527\n",
            "Epoch 34/73.. Train loss: 48.664.. Val loss: 43.840.. Train L1 norm: 4.379.. Val L1 norm: 5.779.. Train Linf norm: 452.166.. Val Linf norm: 769.433\n",
            "Epoch 35/73.. Train loss: 48.523.. Val loss: 43.733.. Train L1 norm: 4.475.. Val L1 norm: 5.896.. Train Linf norm: 464.883.. Val Linf norm: 786.599\n",
            "Epoch 36/73.. Train loss: 48.423.. Val loss: 43.655.. Train L1 norm: 4.554.. Val L1 norm: 5.986.. Train Linf norm: 474.430.. Val Linf norm: 799.972\n",
            "Epoch 37/73.. Train loss: 48.351.. Val loss: 43.601.. Train L1 norm: 4.611.. Val L1 norm: 6.054.. Train Linf norm: 473.910.. Val Linf norm: 809.899\n",
            "Epoch 38/73.. Train loss: 48.301.. Val loss: 43.565.. Train L1 norm: 4.653.. Val L1 norm: 6.102.. Train Linf norm: 490.673.. Val Linf norm: 816.941\n",
            "Epoch 39/73.. Train loss: 48.267.. Val loss: 43.541.. Train L1 norm: 4.684.. Val L1 norm: 6.134.. Train Linf norm: 471.785.. Val Linf norm: 821.694\n",
            "Epoch 40/73.. Train loss: 48.247.. Val loss: 43.528.. Train L1 norm: 4.704.. Val L1 norm: 6.153.. Train Linf norm: 501.690.. Val Linf norm: 824.480\n",
            "Epoch 41/73.. Train loss: 48.236.. Val loss: 43.522.. Train L1 norm: 4.713.. Val L1 norm: 6.162.. Train Linf norm: 492.006.. Val Linf norm: 825.737\n",
            "Epoch 42/73.. Train loss: 48.232.. Val loss: 43.520.. Train L1 norm: 4.718.. Val L1 norm: 6.164.. Train Linf norm: 489.055.. Val Linf norm: 826.073\n",
            "Epoch 43/73.. Train loss: 48.231.. Val loss: 43.520.. Train L1 norm: 4.718.. Val L1 norm: 6.164.. Train Linf norm: 488.841.. Val Linf norm: 826.080\n",
            "Epoch 44/73.. Train loss: 48.230.. Val loss: 43.519.. Train L1 norm: 4.719.. Val L1 norm: 6.166.. Train Linf norm: 489.819.. Val Linf norm: 826.428\n",
            "Epoch 45/73.. Train loss: 48.225.. Val loss: 43.512.. Train L1 norm: 4.724.. Val L1 norm: 6.176.. Train Linf norm: 507.043.. Val Linf norm: 827.825\n",
            "Epoch 46/73.. Train loss: 48.214.. Val loss: 43.498.. Train L1 norm: 4.734.. Val L1 norm: 6.197.. Train Linf norm: 503.006.. Val Linf norm: 830.898\n",
            "Epoch 47/73.. Train loss: 2261.783.. Val loss: 43.482.. Train L1 norm: 4.772.. Val L1 norm: 6.222.. Train Linf norm: 490.414.. Val Linf norm: 834.566\n",
            "Epoch 48/73.. Train loss: 48.168.. Val loss: 43.447.. Train L1 norm: 4.784.. Val L1 norm: 6.276.. Train Linf norm: 510.318.. Val Linf norm: 842.471\n",
            "Epoch 49/73.. Train loss: 48.125.. Val loss: 43.405.. Train L1 norm: 4.831.. Val L1 norm: 6.346.. Train Linf norm: 503.626.. Val Linf norm: 852.830\n",
            "Epoch 50/73.. Train loss: 48.114.. Val loss: 43.358.. Train L1 norm: 4.887.. Val L1 norm: 6.434.. Train Linf norm: 502.397.. Val Linf norm: 865.588\n",
            "Epoch 51/73.. Train loss: 48.018.. Val loss: 43.312.. Train L1 norm: 4.955.. Val L1 norm: 6.530.. Train Linf norm: 518.782.. Val Linf norm: 879.622\n",
            "Epoch 52/73.. Train loss: 33380.666.. Val loss: 43.289.. Train L1 norm: 9.505.. Val L1 norm: 6.584.. Train Linf norm: 868.435.. Val Linf norm: 887.596\n",
            "Epoch 53/73.. Train loss: 8190.545.. Val loss: 43.291.. Train L1 norm: 5.177.. Val L1 norm: 6.578.. Train Linf norm: 573.816.. Val Linf norm: 886.704\n",
            "Epoch 54/73.. Train loss: 47.964.. Val loss: 43.279.. Train L1 norm: 5.038.. Val L1 norm: 6.607.. Train Linf norm: 519.277.. Val Linf norm: 890.987\n",
            "Epoch 55/73.. Train loss: 2474.035.. Val loss: 43.249.. Train L1 norm: 5.467.. Val L1 norm: 6.691.. Train Linf norm: 533.231.. Val Linf norm: 903.133\n",
            "Epoch 56/73.. Train loss: 47.910.. Val loss: 43.240.. Train L1 norm: 5.122.. Val L1 norm: 6.719.. Train Linf norm: 522.821.. Val Linf norm: 907.227\n",
            "Epoch 57/73.. Train loss: 47.899.. Val loss: 43.231.. Train L1 norm: 5.143.. Val L1 norm: 6.747.. Train Linf norm: 533.844.. Val Linf norm: 911.336\n",
            "Epoch 58/73.. Train loss: 47.889.. Val loss: 43.224.. Train L1 norm: 5.164.. Val L1 norm: 6.774.. Train Linf norm: 543.238.. Val Linf norm: 915.216\n",
            "Epoch 59/73.. Train loss: 47.880.. Val loss: 43.217.. Train L1 norm: 5.184.. Val L1 norm: 6.800.. Train Linf norm: 543.785.. Val Linf norm: 918.977\n",
            "Epoch 60/73.. Train loss: 47.871.. Val loss: 43.211.. Train L1 norm: 5.201.. Val L1 norm: 6.822.. Train Linf norm: 544.669.. Val Linf norm: 922.255\n",
            "Epoch 61/73.. Train loss: 47.864.. Val loss: 43.206.. Train L1 norm: 5.217.. Val L1 norm: 6.843.. Train Linf norm: 555.676.. Val Linf norm: 925.304\n",
            "Epoch 62/73.. Train loss: 47.858.. Val loss: 43.202.. Train L1 norm: 5.232.. Val L1 norm: 6.861.. Train Linf norm: 560.880.. Val Linf norm: 927.906\n",
            "Epoch 63/73.. Train loss: 47.853.. Val loss: 43.199.. Train L1 norm: 5.244.. Val L1 norm: 6.875.. Train Linf norm: 565.753.. Val Linf norm: 930.024\n",
            "Epoch 64/73.. Train loss: 47.849.. Val loss: 43.197.. Train L1 norm: 5.255.. Val L1 norm: 6.888.. Train Linf norm: 551.586.. Val Linf norm: 931.840\n",
            "Epoch 65/73.. Train loss: 47.846.. Val loss: 43.195.. Train L1 norm: 5.262.. Val L1 norm: 6.897.. Train Linf norm: 569.607.. Val Linf norm: 933.181\n",
            "Epoch 66/73.. Train loss: 47.844.. Val loss: 43.193.. Train L1 norm: 5.268.. Val L1 norm: 6.904.. Train Linf norm: 551.773.. Val Linf norm: 934.193\n",
            "Epoch 67/73.. Train loss: 47.842.. Val loss: 43.193.. Train L1 norm: 5.273.. Val L1 norm: 6.909.. Train Linf norm: 537.802.. Val Linf norm: 934.855\n",
            "Epoch 68/73.. Train loss: 47.841.. Val loss: 43.192.. Train L1 norm: 5.276.. Val L1 norm: 6.912.. Train Linf norm: 567.017.. Val Linf norm: 935.272\n",
            "Epoch 69/73.. Train loss: 47.841.. Val loss: 43.192.. Train L1 norm: 5.277.. Val L1 norm: 6.913.. Train Linf norm: 559.674.. Val Linf norm: 935.448\n",
            "Epoch 70/73.. Train loss: 47.841.. Val loss: 43.192.. Train L1 norm: 5.278.. Val L1 norm: 6.913.. Train Linf norm: 561.334.. Val Linf norm: 935.497\n",
            "Epoch 71/73.. Train loss: 47.841.. Val loss: 43.192.. Train L1 norm: 5.278.. Val L1 norm: 6.913.. Train Linf norm: 562.624.. Val Linf norm: 935.497\n",
            "Epoch 72/73.. Train loss: 47.840.. Val loss: 43.192.. Train L1 norm: 5.278.. Val L1 norm: 6.913.. Train Linf norm: 552.813.. Val Linf norm: 935.548\n"
          ]
        },
        {
          "output_type": "stream",
          "name": "stderr",
          "text": [
            "[I 2023-05-30 12:46:38,669] Trial 47 finished with value: 6.917038812510173 and parameters: {'n_layers': 7, 'n_units_0': 2879, 'n_units_1': 1765, 'n_units_2': 1251, 'n_units_3': 2280, 'n_units_4': 3212, 'n_units_5': 624, 'n_units_6': 170, 'hidden_activation': 'GELU', 'output_activation': 'Linear', 'loss': 'MSE', 'optimizer': 'Adam', 'lr': 0.0025628112061355304, 'batch_size': 256, 'n_epochs': 73, 'scheduler': 'CosineAnnealingLR', 'dropout_rate': 0.12045410254002692, 'weight_decay': 0.005089695489939608, 'beta1': 0.9254522400008605, 'beta2': 0.9998291829750511, 't_max_fraction': 0.19645314528172692, 'eta_min': 7.712089723519055e-07}. Best is trial 41 with value: 1.0071135492960612.\n"
          ]
        },
        {
          "output_type": "stream",
          "name": "stdout",
          "text": [
            "Epoch 73/73.. Train loss: 4767.593.. Val loss: 43.191.. Train L1 norm: 5.319.. Val L1 norm: 6.917.. Train Linf norm: 568.847.. Val Linf norm: 936.063\n"
          ]
        },
        {
          "output_type": "stream",
          "name": "stderr",
          "text": [
            "WARNING:tensorboardX.x2num:NaN or Inf found in input tensor.\n",
            "WARNING:tensorboardX.x2num:NaN or Inf found in input tensor.\n",
            "WARNING:tensorboardX.x2num:NaN or Inf found in input tensor.\n",
            "WARNING:tensorboardX.x2num:NaN or Inf found in input tensor.\n",
            "WARNING:tensorboardX.x2num:NaN or Inf found in input tensor.\n",
            "WARNING:tensorboardX.x2num:NaN or Inf found in input tensor.\n",
            "[I 2023-05-30 12:46:42,053] Trial 48 pruned. \n"
          ]
        },
        {
          "output_type": "stream",
          "name": "stdout",
          "text": [
            "Epoch 1/65.. Train loss: nan.. Val loss: nan.. Train L1 norm: nan.. Val L1 norm: nan.. Train Linf norm: nan.. Val Linf norm: nan\n"
          ]
        },
        {
          "output_type": "stream",
          "name": "stderr",
          "text": [
            "[I 2023-05-30 12:46:47,362] Trial 49 pruned. \n"
          ]
        },
        {
          "output_type": "stream",
          "name": "stdout",
          "text": [
            "Epoch 1/137.. Train loss: 34310.059.. Val loss: 27.178.. Train L1 norm: 58966.234.. Val L1 norm: 66.304.. Train Linf norm: 10035884.339.. Val Linf norm: 17848.904\n"
          ]
        },
        {
          "output_type": "stream",
          "name": "stderr",
          "text": [
            "[I 2023-05-30 12:46:53,376] Trial 50 pruned. \n"
          ]
        },
        {
          "output_type": "stream",
          "name": "stdout",
          "text": [
            "Epoch 1/83.. Train loss: 636164884069924172222756475109376.000.. Val loss: 3402657699070001821186841903104.000.. Train L1 norm: 348886586819683.500.. Val L1 norm: 444299133367772.750.. Train Linf norm: 37580880567210648.000.. Val Linf norm: 60429456817332872.000\n",
            "Epoch 1/70.. Train loss: 8085879536.718.. Val loss: 58.665.. Train L1 norm: 7388.710.. Val L1 norm: 1.046.. Train Linf norm: 393849.865.. Val Linf norm: 11.049\n",
            "Epoch 2/70.. Train loss: 65.339.. Val loss: 58.663.. Train L1 norm: 1.116.. Val L1 norm: 1.045.. Train Linf norm: 18.941.. Val Linf norm: 11.008\n",
            "Epoch 3/70.. Train loss: 461441.477.. Val loss: 58.663.. Train L1 norm: 2.672.. Val L1 norm: 1.045.. Train Linf norm: 138.988.. Val Linf norm: 10.999\n",
            "Epoch 4/70.. Train loss: 70.156.. Val loss: 58.661.. Train L1 norm: 1.172.. Val L1 norm: 1.045.. Train Linf norm: 19.285.. Val Linf norm: 10.933\n",
            "Epoch 5/70.. Train loss: 63.846.. Val loss: 58.659.. Train L1 norm: 1.028.. Val L1 norm: 1.045.. Train Linf norm: 6.663.. Val Linf norm: 10.867\n",
            "Epoch 6/70.. Train loss: 45947.559.. Val loss: 58.656.. Train L1 norm: 1.238.. Val L1 norm: 1.044.. Train Linf norm: 37.359.. Val Linf norm: 10.792\n",
            "Epoch 7/70.. Train loss: 136.904.. Val loss: 58.654.. Train L1 norm: 1.140.. Val L1 norm: 1.044.. Train Linf norm: 12.007.. Val Linf norm: 10.724\n",
            "Epoch 8/70.. Train loss: 63.922.. Val loss: 58.652.. Train L1 norm: 1.029.. Val L1 norm: 1.044.. Train Linf norm: 6.758.. Val Linf norm: 10.663\n",
            "Epoch 9/70.. Train loss: 63.977.. Val loss: 58.651.. Train L1 norm: 1.027.. Val L1 norm: 1.043.. Train Linf norm: 6.604.. Val Linf norm: 10.609\n",
            "Epoch 10/70.. Train loss: 63.835.. Val loss: 58.649.. Train L1 norm: 1.027.. Val L1 norm: 1.043.. Train Linf norm: 6.442.. Val Linf norm: 10.563\n",
            "Epoch 11/70.. Train loss: 63.833.. Val loss: 58.648.. Train L1 norm: 1.027.. Val L1 norm: 1.043.. Train Linf norm: 6.554.. Val Linf norm: 10.527\n",
            "Epoch 12/70.. Train loss: 63.834.. Val loss: 58.647.. Train L1 norm: 1.027.. Val L1 norm: 1.043.. Train Linf norm: 6.475.. Val Linf norm: 10.501\n",
            "Epoch 13/70.. Train loss: 63.831.. Val loss: 58.647.. Train L1 norm: 1.027.. Val L1 norm: 1.043.. Train Linf norm: 6.349.. Val Linf norm: 10.485\n",
            "Epoch 14/70.. Train loss: 63.888.. Val loss: 58.646.. Train L1 norm: 1.043.. Val L1 norm: 1.043.. Train Linf norm: 10.499.. Val Linf norm: 10.478\n",
            "Epoch 15/70.. Train loss: 63.831.. Val loss: 58.646.. Train L1 norm: 1.027.. Val L1 norm: 1.043.. Train Linf norm: 6.468.. Val Linf norm: 10.475\n",
            "Epoch 16/70.. Train loss: 63.831.. Val loss: 58.646.. Train L1 norm: 1.027.. Val L1 norm: 1.043.. Train Linf norm: 6.386.. Val Linf norm: 10.475\n",
            "Epoch 17/70.. Train loss: 63.831.. Val loss: 58.646.. Train L1 norm: 1.027.. Val L1 norm: 1.043.. Train Linf norm: 6.410.. Val Linf norm: 10.473\n",
            "Epoch 18/70.. Train loss: 63.833.. Val loss: 58.646.. Train L1 norm: 1.029.. Val L1 norm: 1.043.. Train Linf norm: 6.618.. Val Linf norm: 10.463\n",
            "Epoch 19/70.. Train loss: 63.840.. Val loss: 58.645.. Train L1 norm: 1.027.. Val L1 norm: 1.042.. Train Linf norm: 6.422.. Val Linf norm: 10.439\n",
            "Epoch 20/70.. Train loss: 63.830.. Val loss: 58.644.. Train L1 norm: 1.026.. Val L1 norm: 1.042.. Train Linf norm: 6.346.. Val Linf norm: 10.395\n",
            "Epoch 21/70.. Train loss: 63.827.. Val loss: 58.642.. Train L1 norm: 1.026.. Val L1 norm: 1.042.. Train Linf norm: 6.391.. Val Linf norm: 10.325\n",
            "Epoch 22/70.. Train loss: 63.825.. Val loss: 58.638.. Train L1 norm: 1.026.. Val L1 norm: 1.041.. Train Linf norm: 6.306.. Val Linf norm: 10.223\n",
            "Epoch 23/70.. Train loss: 25491.023.. Val loss: 58.639.. Train L1 norm: 3.709.. Val L1 norm: 1.042.. Train Linf norm: 196.745.. Val Linf norm: 10.240\n",
            "Epoch 24/70.. Train loss: 63.820.. Val loss: 58.633.. Train L1 norm: 1.025.. Val L1 norm: 1.041.. Train Linf norm: 6.092.. Val Linf norm: 10.055\n",
            "Epoch 25/70.. Train loss: 63.955.. Val loss: 58.625.. Train L1 norm: 1.025.. Val L1 norm: 1.039.. Train Linf norm: 6.121.. Val Linf norm: 9.824\n",
            "Epoch 26/70.. Train loss: 63.805.. Val loss: 58.616.. Train L1 norm: 1.024.. Val L1 norm: 1.038.. Train Linf norm: 6.038.. Val Linf norm: 9.543\n",
            "Epoch 27/70.. Train loss: 63.795.. Val loss: 58.606.. Train L1 norm: 1.023.. Val L1 norm: 1.036.. Train Linf norm: 5.789.. Val Linf norm: 9.213\n",
            "Epoch 28/70.. Train loss: 63.784.. Val loss: 58.594.. Train L1 norm: 1.022.. Val L1 norm: 1.035.. Train Linf norm: 5.441.. Val Linf norm: 8.834\n",
            "Epoch 29/70.. Train loss: 63.771.. Val loss: 58.580.. Train L1 norm: 1.021.. Val L1 norm: 1.033.. Train Linf norm: 5.358.. Val Linf norm: 8.413\n",
            "Epoch 30/70.. Train loss: 63.756.. Val loss: 58.565.. Train L1 norm: 1.019.. Val L1 norm: 1.031.. Train Linf norm: 5.074.. Val Linf norm: 7.951\n",
            "Epoch 31/70.. Train loss: 63.741.. Val loss: 58.550.. Train L1 norm: 1.018.. Val L1 norm: 1.028.. Train Linf norm: 4.715.. Val Linf norm: 7.460\n",
            "Epoch 32/70.. Train loss: 63.724.. Val loss: 58.533.. Train L1 norm: 1.016.. Val L1 norm: 1.026.. Train Linf norm: 4.498.. Val Linf norm: 6.946\n",
            "Epoch 33/70.. Train loss: 767.435.. Val loss: 58.518.. Train L1 norm: 1.730.. Val L1 norm: 1.024.. Train Linf norm: 31.512.. Val Linf norm: 6.487\n",
            "Epoch 34/70.. Train loss: 911.244.. Val loss: 58.504.. Train L1 norm: 1.137.. Val L1 norm: 1.022.. Train Linf norm: 19.972.. Val Linf norm: 6.051\n",
            "Epoch 35/70.. Train loss: 77.940.. Val loss: 58.488.. Train L1 norm: 1.014.. Val L1 norm: 1.019.. Train Linf norm: 4.146.. Val Linf norm: 5.545\n",
            "Epoch 36/70.. Train loss: 63.662.. Val loss: 58.473.. Train L1 norm: 1.011.. Val L1 norm: 1.017.. Train Linf norm: 3.366.. Val Linf norm: 5.062\n",
            "Epoch 37/70.. Train loss: 63.648.. Val loss: 58.458.. Train L1 norm: 1.009.. Val L1 norm: 1.015.. Train Linf norm: 3.141.. Val Linf norm: 4.617\n",
            "Epoch 38/70.. Train loss: 63.637.. Val loss: 58.446.. Train L1 norm: 1.008.. Val L1 norm: 1.013.. Train Linf norm: 2.899.. Val Linf norm: 4.224\n",
            "Epoch 39/70.. Train loss: 63.621.. Val loss: 58.435.. Train L1 norm: 1.007.. Val L1 norm: 1.012.. Train Linf norm: 2.676.. Val Linf norm: 3.888\n",
            "Epoch 40/70.. Train loss: 63.611.. Val loss: 58.426.. Train L1 norm: 1.006.. Val L1 norm: 1.011.. Train Linf norm: 2.534.. Val Linf norm: 3.613\n",
            "Epoch 41/70.. Train loss: 69.962.. Val loss: 58.419.. Train L1 norm: 1.036.. Val L1 norm: 1.010.. Train Linf norm: 4.828.. Val Linf norm: 3.406\n",
            "Epoch 42/70.. Train loss: 63.597.. Val loss: 58.415.. Train L1 norm: 1.005.. Val L1 norm: 1.009.. Train Linf norm: 2.257.. Val Linf norm: 3.260\n",
            "Epoch 43/70.. Train loss: 63.593.. Val loss: 58.412.. Train L1 norm: 1.005.. Val L1 norm: 1.009.. Train Linf norm: 2.211.. Val Linf norm: 3.172\n",
            "Epoch 44/70.. Train loss: 63.591.. Val loss: 58.410.. Train L1 norm: 1.005.. Val L1 norm: 1.009.. Train Linf norm: 2.201.. Val Linf norm: 3.130\n",
            "Epoch 45/70.. Train loss: 63.590.. Val loss: 58.410.. Train L1 norm: 1.005.. Val L1 norm: 1.009.. Train Linf norm: 2.124.. Val Linf norm: 3.119\n",
            "Epoch 46/70.. Train loss: 63.590.. Val loss: 58.410.. Train L1 norm: 1.005.. Val L1 norm: 1.009.. Train Linf norm: 2.120.. Val Linf norm: 3.119\n",
            "Epoch 47/70.. Train loss: 63.590.. Val loss: 58.410.. Train L1 norm: 1.005.. Val L1 norm: 1.009.. Train Linf norm: 2.147.. Val Linf norm: 3.106\n",
            "Epoch 48/70.. Train loss: 63.600.. Val loss: 58.408.. Train L1 norm: 1.004.. Val L1 norm: 1.008.. Train Linf norm: 2.137.. Val Linf norm: 3.054\n",
            "Epoch 49/70.. Train loss: 63.586.. Val loss: 58.404.. Train L1 norm: 1.004.. Val L1 norm: 1.008.. Train Linf norm: 2.034.. Val Linf norm: 2.933\n",
            "Epoch 50/70.. Train loss: 63.852.. Val loss: 58.397.. Train L1 norm: 1.004.. Val L1 norm: 1.007.. Train Linf norm: 2.166.. Val Linf norm: 2.712\n",
            "Epoch 51/70.. Train loss: 63.571.. Val loss: 58.385.. Train L1 norm: 1.003.. Val L1 norm: 1.005.. Train Linf norm: 1.869.. Val Linf norm: 2.360\n",
            "Epoch 52/70.. Train loss: 63.557.. Val loss: 58.368.. Train L1 norm: 1.002.. Val L1 norm: 1.003.. Train Linf norm: 1.594.. Val Linf norm: 1.848\n",
            "Epoch 53/70.. Train loss: 63.536.. Val loss: 58.346.. Train L1 norm: 1.001.. Val L1 norm: 1.001.. Train Linf norm: 1.302.. Val Linf norm: 1.216\n",
            "Epoch 54/70.. Train loss: 7702809.763.. Val loss: 58.930.. Train L1 norm: 226.456.. Val L1 norm: 1.088.. Train Linf norm: 33689.672.. Val Linf norm: 19.340\n",
            "Epoch 55/70.. Train loss: 392.907.. Val loss: 58.894.. Train L1 norm: 1.085.. Val L1 norm: 1.082.. Train Linf norm: 14.269.. Val Linf norm: 18.223\n",
            "Epoch 56/70.. Train loss: 64.062.. Val loss: 58.851.. Train L1 norm: 1.051.. Val L1 norm: 1.075.. Train Linf norm: 10.604.. Val Linf norm: 16.878\n",
            "Epoch 57/70.. Train loss: 64.014.. Val loss: 58.801.. Train L1 norm: 1.045.. Val L1 norm: 1.067.. Train Linf norm: 9.907.. Val Linf norm: 15.301\n",
            "Epoch 58/70.. Train loss: 63.959.. Val loss: 58.743.. Train L1 norm: 1.040.. Val L1 norm: 1.058.. Train Linf norm: 8.596.. Val Linf norm: 13.504\n",
            "Epoch 59/70.. Train loss: 64.082.. Val loss: 58.679.. Train L1 norm: 1.034.. Val L1 norm: 1.048.. Train Linf norm: 7.710.. Val Linf norm: 11.507\n",
            "Epoch 60/70.. Train loss: 63.830.. Val loss: 58.610.. Train L1 norm: 1.026.. Val L1 norm: 1.037.. Train Linf norm: 6.357.. Val Linf norm: 9.338\n",
            "Epoch 61/70.. Train loss: 63.757.. Val loss: 58.536.. Train L1 norm: 1.019.. Val L1 norm: 1.026.. Train Linf norm: 5.015.. Val Linf norm: 7.043\n",
            "Epoch 62/70.. Train loss: 595.870.. Val loss: 58.461.. Train L1 norm: 1.027.. Val L1 norm: 1.016.. Train Linf norm: 7.497.. Val Linf norm: 4.695\n",
            "Epoch 63/70.. Train loss: 12118.839.. Val loss: 58.392.. Train L1 norm: 1.140.. Val L1 norm: 1.006.. Train Linf norm: 36.664.. Val Linf norm: 2.576\n",
            "Epoch 64/70.. Train loss: 278.761.. Val loss: 58.316.. Train L1 norm: 1.024.. Val L1 norm: 1.002.. Train Linf norm: 7.113.. Val Linf norm: 1.548\n",
            "Epoch 65/70.. Train loss: 65442.634.. Val loss: 58.260.. Train L1 norm: 1.589.. Val L1 norm: 1.007.. Train Linf norm: 152.148.. Val Linf norm: 3.220\n",
            "Epoch 66/70.. Train loss: 73.908.. Val loss: 58.190.. Train L1 norm: 1.006.. Val L1 norm: 1.016.. Train Linf norm: 2.951.. Val Linf norm: 5.364\n",
            "Epoch 67/70.. Train loss: 65.257.. Val loss: 58.125.. Train L1 norm: 1.012.. Val L1 norm: 1.024.. Train Linf norm: 4.738.. Val Linf norm: 7.345\n",
            "Epoch 68/70.. Train loss: 468.799.. Val loss: 58.067.. Train L1 norm: 1.038.. Val L1 norm: 1.032.. Train Linf norm: 11.175.. Val Linf norm: 9.184\n",
            "Epoch 69/70.. Train loss: 63.216.. Val loss: 58.018.. Train L1 norm: 1.018.. Val L1 norm: 1.039.. Train Linf norm: 6.106.. Val Linf norm: 10.721\n"
          ]
        },
        {
          "output_type": "stream",
          "name": "stderr",
          "text": [
            "[I 2023-05-30 12:52:46,751] Trial 51 finished with value: 1.044416725508372 and parameters: {'n_layers': 6, 'n_units_0': 2450, 'n_units_1': 3122, 'n_units_2': 592, 'n_units_3': 2166, 'n_units_4': 3063, 'n_units_5': 753, 'hidden_activation': 'ReLU', 'output_activation': 'Linear', 'loss': 'MSE', 'optimizer': 'Adam', 'lr': 0.008916308115066973, 'batch_size': 256, 'n_epochs': 70, 'scheduler': 'CosineAnnealingLR', 'dropout_rate': 0.21531041958629382, 'weight_decay': 0.0015435511224634693, 'beta1': 0.9001008465195691, 'beta2': 0.9996125943829977, 't_max_fraction': 0.21590316277459068, 'eta_min': 1.689427176045778e-06}. Best is trial 41 with value: 1.0071135492960612.\n"
          ]
        },
        {
          "output_type": "stream",
          "name": "stdout",
          "text": [
            "Epoch 70/70.. Train loss: 175.023.. Val loss: 57.978.. Train L1 norm: 1.026.. Val L1 norm: 1.044.. Train Linf norm: 7.923.. Val Linf norm: 11.985\n"
          ]
        },
        {
          "output_type": "stream",
          "name": "stderr",
          "text": [
            "[I 2023-05-30 12:52:52,495] Trial 52 pruned. \n"
          ]
        },
        {
          "output_type": "stream",
          "name": "stdout",
          "text": [
            "Epoch 1/71.. Train loss: 43894037893.796.. Val loss: 43.169.. Train L1 norm: 8981.170.. Val L1 norm: 7.115.. Train Linf norm: 639327.095.. Val Linf norm: 964.820\n"
          ]
        },
        {
          "output_type": "stream",
          "name": "stderr",
          "text": [
            "[I 2023-05-30 12:52:58,337] Trial 53 pruned. \n"
          ]
        },
        {
          "output_type": "stream",
          "name": "stdout",
          "text": [
            "Epoch 1/67.. Train loss: 4020819325118.829.. Val loss: 59.084.. Train L1 norm: 44457.967.. Val L1 norm: 1.113.. Train Linf norm: 1430233.186.. Val Linf norm: 24.133\n"
          ]
        },
        {
          "output_type": "stream",
          "name": "stderr",
          "text": [
            "[I 2023-05-30 12:53:08,370] Trial 54 pruned. \n"
          ]
        },
        {
          "output_type": "stream",
          "name": "stdout",
          "text": [
            "Epoch 1/78.. Train loss: 10271477.007.. Val loss: 43.178.. Train L1 norm: 46.683.. Val L1 norm: 7.368.. Train Linf norm: 781.281.. Val Linf norm: 309.611\n"
          ]
        },
        {
          "output_type": "stream",
          "name": "stderr",
          "text": [
            "[I 2023-05-30 12:53:14,050] Trial 55 pruned. \n"
          ]
        },
        {
          "output_type": "stream",
          "name": "stdout",
          "text": [
            "Epoch 1/85.. Train loss: 21699386357850976256.000.. Val loss: 59.474.. Train L1 norm: 22527866.110.. Val L1 norm: 1.180.. Train Linf norm: 664622153.544.. Val Linf norm: 36.230\n"
          ]
        },
        {
          "output_type": "stream",
          "name": "stderr",
          "text": [
            "[I 2023-05-30 12:53:17,921] Trial 56 pruned. \n"
          ]
        },
        {
          "output_type": "stream",
          "name": "stdout",
          "text": [
            "Epoch 1/53.. Train loss: 165883064433.872.. Val loss: 305568.075.. Train L1 norm: 48781.943.. Val L1 norm: 498.557.. Train Linf norm: 35428998.565.. Val Linf norm: 344563.231\n"
          ]
        },
        {
          "output_type": "stream",
          "name": "stderr",
          "text": [
            "[I 2023-05-30 12:53:23,310] Trial 57 pruned. \n"
          ]
        },
        {
          "output_type": "stream",
          "name": "stdout",
          "text": [
            "Epoch 1/61.. Train loss: 12505972150.748.. Val loss: 90.977.. Train L1 norm: 3143.572.. Val L1 norm: 2.526.. Train Linf norm: 137646.720.. Val Linf norm: 286.330\n"
          ]
        },
        {
          "output_type": "stream",
          "name": "stderr",
          "text": [
            "[I 2023-05-30 12:53:28,085] Trial 58 pruned. \n"
          ]
        },
        {
          "output_type": "stream",
          "name": "stdout",
          "text": [
            "Epoch 1/76.. Train loss: 293700.966.. Val loss: 993295.767.. Train L1 norm: 267997.347.. Val L1 norm: 1104525.959.. Train Linf norm: 24627036.530.. Val Linf norm: 147928343.095\n"
          ]
        },
        {
          "output_type": "stream",
          "name": "stderr",
          "text": [
            "[I 2023-05-30 12:53:33,495] Trial 59 pruned. \n"
          ]
        },
        {
          "output_type": "stream",
          "name": "stdout",
          "text": [
            "Epoch 1/70.. Train loss: 133.106.. Val loss: 4.370.. Train L1 norm: 57.505.. Val L1 norm: 5.155.. Train Linf norm: 2290.078.. Val Linf norm: 706.030\n"
          ]
        },
        {
          "output_type": "stream",
          "name": "stderr",
          "text": [
            "WARNING:tensorboardX.x2num:NaN or Inf found in input tensor.\n",
            "WARNING:tensorboardX.x2num:NaN or Inf found in input tensor.\n",
            "WARNING:tensorboardX.x2num:NaN or Inf found in input tensor.\n",
            "WARNING:tensorboardX.x2num:NaN or Inf found in input tensor.\n",
            "WARNING:tensorboardX.x2num:NaN or Inf found in input tensor.\n",
            "WARNING:tensorboardX.x2num:NaN or Inf found in input tensor.\n",
            "[I 2023-05-30 12:53:38,602] Trial 60 pruned. \n"
          ]
        },
        {
          "output_type": "stream",
          "name": "stdout",
          "text": [
            "Epoch 1/64.. Train loss: nan.. Val loss: nan.. Train L1 norm: nan.. Val L1 norm: nan.. Train Linf norm: nan.. Val Linf norm: nan\n",
            "Epoch 1/69.. Train loss: 24949879976.225.. Val loss: 58.707.. Train L1 norm: 14227.287.. Val L1 norm: 1.052.. Train Linf norm: 1502162.234.. Val Linf norm: 12.371\n",
            "Epoch 2/69.. Train loss: 64.045.. Val loss: 58.706.. Train L1 norm: 1.033.. Val L1 norm: 1.052.. Train Linf norm: 7.544.. Val Linf norm: 12.347\n",
            "Epoch 3/69.. Train loss: 364.012.. Val loss: 58.705.. Train L1 norm: 2.556.. Val L1 norm: 1.052.. Train Linf norm: 144.858.. Val Linf norm: 12.323\n",
            "Epoch 4/69.. Train loss: 298.474.. Val loss: 58.704.. Train L1 norm: 1.114.. Val L1 norm: 1.052.. Train Linf norm: 13.786.. Val Linf norm: 12.289\n",
            "Epoch 5/69.. Train loss: 65.202.. Val loss: 58.703.. Train L1 norm: 1.033.. Val L1 norm: 1.052.. Train Linf norm: 7.371.. Val Linf norm: 12.253\n",
            "Epoch 6/69.. Train loss: 64.685.. Val loss: 58.702.. Train L1 norm: 1.062.. Val L1 norm: 1.051.. Train Linf norm: 12.835.. Val Linf norm: 12.216\n",
            "Epoch 7/69.. Train loss: 63.892.. Val loss: 58.701.. Train L1 norm: 1.032.. Val L1 norm: 1.051.. Train Linf norm: 7.552.. Val Linf norm: 12.181\n",
            "Epoch 8/69.. Train loss: 63.887.. Val loss: 58.700.. Train L1 norm: 1.032.. Val L1 norm: 1.051.. Train Linf norm: 7.440.. Val Linf norm: 12.149\n",
            "Epoch 9/69.. Train loss: 63.885.. Val loss: 58.699.. Train L1 norm: 1.032.. Val L1 norm: 1.051.. Train Linf norm: 7.043.. Val Linf norm: 12.121\n",
            "Epoch 10/69.. Train loss: 63.916.. Val loss: 58.698.. Train L1 norm: 1.032.. Val L1 norm: 1.051.. Train Linf norm: 7.472.. Val Linf norm: 12.099\n",
            "Epoch 11/69.. Train loss: 63.882.. Val loss: 58.698.. Train L1 norm: 1.032.. Val L1 norm: 1.051.. Train Linf norm: 7.457.. Val Linf norm: 12.084\n",
            "Epoch 12/69.. Train loss: 63.921.. Val loss: 58.697.. Train L1 norm: 1.032.. Val L1 norm: 1.051.. Train Linf norm: 7.205.. Val Linf norm: 12.074\n",
            "Epoch 13/69.. Train loss: 63.894.. Val loss: 58.697.. Train L1 norm: 1.032.. Val L1 norm: 1.051.. Train Linf norm: 7.290.. Val Linf norm: 12.069\n",
            "Epoch 14/69.. Train loss: 63.883.. Val loss: 58.697.. Train L1 norm: 1.032.. Val L1 norm: 1.051.. Train Linf norm: 7.269.. Val Linf norm: 12.068\n",
            "Epoch 15/69.. Train loss: 63.884.. Val loss: 58.697.. Train L1 norm: 1.032.. Val L1 norm: 1.051.. Train Linf norm: 7.401.. Val Linf norm: 12.068\n",
            "Epoch 16/69.. Train loss: 63.893.. Val loss: 58.697.. Train L1 norm: 1.032.. Val L1 norm: 1.051.. Train Linf norm: 7.377.. Val Linf norm: 12.066\n",
            "Epoch 17/69.. Train loss: 63.883.. Val loss: 58.697.. Train L1 norm: 1.032.. Val L1 norm: 1.051.. Train Linf norm: 6.835.. Val Linf norm: 12.060\n",
            "Epoch 18/69.. Train loss: 63.882.. Val loss: 58.697.. Train L1 norm: 1.032.. Val L1 norm: 1.051.. Train Linf norm: 7.190.. Val Linf norm: 12.045\n",
            "Epoch 19/69.. Train loss: 63.882.. Val loss: 58.696.. Train L1 norm: 1.032.. Val L1 norm: 1.050.. Train Linf norm: 7.248.. Val Linf norm: 12.017\n",
            "Epoch 20/69.. Train loss: 64.618.. Val loss: 58.694.. Train L1 norm: 1.032.. Val L1 norm: 1.050.. Train Linf norm: 7.396.. Val Linf norm: 11.972\n",
            "Epoch 21/69.. Train loss: 7586.012.. Val loss: 58.694.. Train L1 norm: 4.982.. Val L1 norm: 1.050.. Train Linf norm: 294.098.. Val Linf norm: 11.972\n",
            "Epoch 22/69.. Train loss: 69.831.. Val loss: 58.691.. Train L1 norm: 1.055.. Val L1 norm: 1.050.. Train Linf norm: 13.125.. Val Linf norm: 11.885\n",
            "Epoch 23/69.. Train loss: 689389.871.. Val loss: 58.692.. Train L1 norm: 15.447.. Val L1 norm: 1.050.. Train Linf norm: 1112.680.. Val Linf norm: 11.888\n",
            "Epoch 24/69.. Train loss: 4865.570.. Val loss: 58.687.. Train L1 norm: 1.124.. Val L1 norm: 1.049.. Train Linf norm: 30.787.. Val Linf norm: 11.732\n",
            "Epoch 25/69.. Train loss: 106335.231.. Val loss: 58.695.. Train L1 norm: 9.004.. Val L1 norm: 1.050.. Train Linf norm: 225.384.. Val Linf norm: 12.002\n",
            "Epoch 26/69.. Train loss: 520714446.972.. Val loss: 59.240.. Train L1 norm: 329.662.. Val L1 norm: 1.140.. Train Linf norm: 26958.049.. Val Linf norm: 28.978\n",
            "Epoch 27/69.. Train loss: 19708636.332.. Val loss: 59.421.. Train L1 norm: 36.847.. Val L1 norm: 1.171.. Train Linf norm: 2607.942.. Val Linf norm: 34.570\n",
            "Epoch 28/69.. Train loss: 76511.182.. Val loss: 59.419.. Train L1 norm: 2.331.. Val L1 norm: 1.170.. Train Linf norm: 125.005.. Val Linf norm: 34.525\n",
            "Epoch 29/69.. Train loss: 275.520.. Val loss: 59.410.. Train L1 norm: 1.121.. Val L1 norm: 1.169.. Train Linf norm: 23.185.. Val Linf norm: 34.244\n",
            "Epoch 30/69.. Train loss: 159.565.. Val loss: 59.401.. Train L1 norm: 1.128.. Val L1 norm: 1.167.. Train Linf norm: 24.043.. Val Linf norm: 33.956\n",
            "Epoch 31/69.. Train loss: 6975.662.. Val loss: 59.392.. Train L1 norm: 1.621.. Val L1 norm: 1.166.. Train Linf norm: 113.075.. Val Linf norm: 33.675\n",
            "Epoch 32/69.. Train loss: 64.585.. Val loss: 59.382.. Train L1 norm: 1.110.. Val L1 norm: 1.164.. Train Linf norm: 19.911.. Val Linf norm: 33.380\n",
            "Epoch 33/69.. Train loss: 3518.068.. Val loss: 59.373.. Train L1 norm: 1.176.. Val L1 norm: 1.162.. Train Linf norm: 34.102.. Val Linf norm: 33.114\n",
            "Epoch 34/69.. Train loss: 76.699.. Val loss: 59.365.. Train L1 norm: 1.116.. Val L1 norm: 1.161.. Train Linf norm: 21.376.. Val Linf norm: 32.849\n",
            "Epoch 35/69.. Train loss: 213.250.. Val loss: 59.357.. Train L1 norm: 1.118.. Val L1 norm: 1.160.. Train Linf norm: 22.549.. Val Linf norm: 32.605\n",
            "Epoch 36/69.. Train loss: 216.561.. Val loss: 59.350.. Train L1 norm: 1.122.. Val L1 norm: 1.158.. Train Linf norm: 22.124.. Val Linf norm: 32.400\n",
            "Epoch 37/69.. Train loss: 64.545.. Val loss: 59.345.. Train L1 norm: 1.105.. Val L1 norm: 1.157.. Train Linf norm: 19.721.. Val Linf norm: 32.229\n",
            "Epoch 38/69.. Train loss: 64.540.. Val loss: 59.341.. Train L1 norm: 1.105.. Val L1 norm: 1.157.. Train Linf norm: 19.468.. Val Linf norm: 32.096\n",
            "Epoch 39/69.. Train loss: 64.536.. Val loss: 59.338.. Train L1 norm: 1.104.. Val L1 norm: 1.156.. Train Linf norm: 19.064.. Val Linf norm: 32.003\n",
            "Epoch 40/69.. Train loss: 64.534.. Val loss: 59.336.. Train L1 norm: 1.104.. Val L1 norm: 1.156.. Train Linf norm: 19.070.. Val Linf norm: 31.945\n",
            "Epoch 41/69.. Train loss: 64.532.. Val loss: 59.335.. Train L1 norm: 1.104.. Val L1 norm: 1.156.. Train Linf norm: 19.326.. Val Linf norm: 31.918\n",
            "Epoch 42/69.. Train loss: 64.532.. Val loss: 59.335.. Train L1 norm: 1.104.. Val L1 norm: 1.156.. Train Linf norm: 19.486.. Val Linf norm: 31.910\n",
            "Epoch 43/69.. Train loss: 64.531.. Val loss: 59.335.. Train L1 norm: 1.104.. Val L1 norm: 1.156.. Train Linf norm: 18.856.. Val Linf norm: 31.910\n",
            "Epoch 44/69.. Train loss: 67.781.. Val loss: 59.334.. Train L1 norm: 1.105.. Val L1 norm: 1.156.. Train Linf norm: 19.071.. Val Linf norm: 31.902\n",
            "Epoch 45/69.. Train loss: 64.531.. Val loss: 59.333.. Train L1 norm: 1.104.. Val L1 norm: 1.156.. Train Linf norm: 18.582.. Val Linf norm: 31.868\n",
            "Epoch 46/69.. Train loss: 64.529.. Val loss: 59.331.. Train L1 norm: 1.104.. Val L1 norm: 1.155.. Train Linf norm: 19.141.. Val Linf norm: 31.787\n",
            "Epoch 47/69.. Train loss: 68.182.. Val loss: 59.326.. Train L1 norm: 1.104.. Val L1 norm: 1.154.. Train Linf norm: 19.222.. Val Linf norm: 31.639\n",
            "Epoch 48/69.. Train loss: 64.519.. Val loss: 59.318.. Train L1 norm: 1.102.. Val L1 norm: 1.153.. Train Linf norm: 18.832.. Val Linf norm: 31.404\n",
            "Epoch 49/69.. Train loss: 64.509.. Val loss: 59.307.. Train L1 norm: 1.101.. Val L1 norm: 1.151.. Train Linf norm: 18.797.. Val Linf norm: 31.063\n",
            "Epoch 50/69.. Train loss: 357.994.. Val loss: 59.291.. Train L1 norm: 3.388.. Val L1 norm: 1.148.. Train Linf norm: 546.273.. Val Linf norm: 30.558\n",
            "Epoch 51/69.. Train loss: 64.477.. Val loss: 59.272.. Train L1 norm: 1.098.. Val L1 norm: 1.145.. Train Linf norm: 18.380.. Val Linf norm: 29.957\n",
            "Epoch 52/69.. Train loss: 73600.987.. Val loss: 59.246.. Train L1 norm: 2.254.. Val L1 norm: 1.141.. Train Linf norm: 313.776.. Val Linf norm: 29.177\n",
            "Epoch 53/69.. Train loss: 2525580.926.. Val loss: 59.186.. Train L1 norm: 5.455.. Val L1 norm: 1.131.. Train Linf norm: 1114.525.. Val Linf norm: 27.307\n",
            "Epoch 54/69.. Train loss: 1094321.021.. Val loss: 59.173.. Train L1 norm: 1.604.. Val L1 norm: 1.128.. Train Linf norm: 148.379.. Val Linf norm: 26.906\n",
            "Epoch 55/69.. Train loss: 592.478.. Val loss: 59.146.. Train L1 norm: 1.148.. Val L1 norm: 1.124.. Train Linf norm: 32.198.. Val Linf norm: 26.053\n",
            "Epoch 56/69.. Train loss: 107528821.258.. Val loss: 57.546.. Train L1 norm: 421.982.. Val L1 norm: 1.110.. Train Linf norm: 87051.154.. Val Linf norm: 25.947\n",
            "Epoch 57/69.. Train loss: 68.252.. Val loss: 57.511.. Train L1 norm: 1.110.. Val L1 norm: 1.115.. Train Linf norm: 27.621.. Val Linf norm: 27.090\n",
            "Epoch 58/69.. Train loss: 62.656.. Val loss: 57.475.. Train L1 norm: 1.069.. Val L1 norm: 1.121.. Train Linf norm: 16.573.. Val Linf norm: 28.282\n",
            "Epoch 59/69.. Train loss: 3073686.463.. Val loss: 57.629.. Train L1 norm: 38.927.. Val L1 norm: 1.097.. Train Linf norm: 3518.528.. Val Linf norm: 23.215\n",
            "Epoch 60/69.. Train loss: 62.777.. Val loss: 57.592.. Train L1 norm: 1.058.. Val L1 norm: 1.102.. Train Linf norm: 13.936.. Val Linf norm: 24.421\n",
            "Epoch 61/69.. Train loss: 833.780.. Val loss: 57.558.. Train L1 norm: 1.112.. Val L1 norm: 1.108.. Train Linf norm: 27.861.. Val Linf norm: 25.548\n",
            "Epoch 62/69.. Train loss: 2903487.504.. Val loss: 57.469.. Train L1 norm: 3.169.. Val L1 norm: 1.122.. Train Linf norm: 550.702.. Val Linf norm: 28.479\n",
            "Epoch 63/69.. Train loss: 160734.021.. Val loss: 57.427.. Train L1 norm: 1.348.. Val L1 norm: 1.129.. Train Linf norm: 87.474.. Val Linf norm: 29.847\n",
            "Epoch 64/69.. Train loss: 359.378.. Val loss: 57.401.. Train L1 norm: 1.174.. Val L1 norm: 1.133.. Train Linf norm: 42.324.. Val Linf norm: 30.714\n",
            "Epoch 65/69.. Train loss: 62.552.. Val loss: 57.380.. Train L1 norm: 1.080.. Val L1 norm: 1.136.. Train Linf norm: 18.949.. Val Linf norm: 31.408\n",
            "Epoch 66/69.. Train loss: 97870.495.. Val loss: 57.358.. Train L1 norm: 1.118.. Val L1 norm: 1.140.. Train Linf norm: 27.662.. Val Linf norm: 32.106\n",
            "Epoch 67/69.. Train loss: 62.514.. Val loss: 57.347.. Train L1 norm: 1.084.. Val L1 norm: 1.142.. Train Linf norm: 19.376.. Val Linf norm: 32.483\n",
            "Epoch 68/69.. Train loss: 62.504.. Val loss: 57.340.. Train L1 norm: 1.085.. Val L1 norm: 1.143.. Train Linf norm: 19.900.. Val Linf norm: 32.715\n"
          ]
        },
        {
          "output_type": "stream",
          "name": "stderr",
          "text": [
            "[I 2023-05-30 13:00:31,523] Trial 61 finished with value: 1.1432767486890156 and parameters: {'n_layers': 6, 'n_units_0': 2366, 'n_units_1': 3125, 'n_units_2': 1161, 'n_units_3': 2326, 'n_units_4': 3081, 'n_units_5': 724, 'hidden_activation': 'ReLU', 'output_activation': 'Linear', 'loss': 'MSE', 'optimizer': 'Adam', 'lr': 0.008668193644273237, 'batch_size': 256, 'n_epochs': 69, 'scheduler': 'CosineAnnealingLR', 'dropout_rate': 0.2186310011962326, 'weight_decay': 0.0016293171405692543, 'beta1': 0.9037207354685904, 'beta2': 0.9995851995431301, 't_max_fraction': 0.21168386589956356, 'eta_min': 1.1846059548618656e-06}. Best is trial 41 with value: 1.0071135492960612.\n"
          ]
        },
        {
          "output_type": "stream",
          "name": "stdout",
          "text": [
            "Epoch 69/69.. Train loss: 62.499.. Val loss: 57.337.. Train L1 norm: 1.085.. Val L1 norm: 1.143.. Train Linf norm: 19.575.. Val Linf norm: 32.826\n"
          ]
        },
        {
          "output_type": "stream",
          "name": "stderr",
          "text": [
            "[I 2023-05-30 13:00:38,334] Trial 62 pruned. \n"
          ]
        },
        {
          "output_type": "stream",
          "name": "stdout",
          "text": [
            "Epoch 1/73.. Train loss: 5078416.170.. Val loss: 43.199.. Train L1 norm: 68.707.. Val L1 norm: 7.493.. Train Linf norm: 5438.528.. Val Linf norm: 1019.492\n"
          ]
        },
        {
          "output_type": "stream",
          "name": "stderr",
          "text": [
            "[I 2023-05-30 13:00:44,544] Trial 63 pruned. \n"
          ]
        },
        {
          "output_type": "stream",
          "name": "stdout",
          "text": [
            "Epoch 1/55.. Train loss: 292502487020.630.. Val loss: 43.178.. Train L1 norm: 11914.729.. Val L1 norm: 7.368.. Train Linf norm: 347401.319.. Val Linf norm: 1001.418\n"
          ]
        },
        {
          "output_type": "stream",
          "name": "stderr",
          "text": [
            "[I 2023-05-30 13:00:50,066] Trial 64 pruned. \n"
          ]
        },
        {
          "output_type": "stream",
          "name": "stdout",
          "text": [
            "Epoch 1/145.. Train loss: 1484184466933618.500.. Val loss: 59.444.. Train L1 norm: 2065446.447.. Val L1 norm: 1.175.. Train Linf norm: 176863830.089.. Val Linf norm: 35.308\n",
            "Epoch 1/59.. Train loss: 28886086.086.. Val loss: 58.599.. Train L1 norm: 65.258.. Val L1 norm: 1.036.. Train Linf norm: 1652.168.. Val Linf norm: 9.008\n",
            "Epoch 2/59.. Train loss: 63.771.. Val loss: 58.574.. Train L1 norm: 1.021.. Val L1 norm: 1.032.. Train Linf norm: 5.282.. Val Linf norm: 8.231\n",
            "Epoch 3/59.. Train loss: 63.742.. Val loss: 58.543.. Train L1 norm: 1.018.. Val L1 norm: 1.027.. Train Linf norm: 4.789.. Val Linf norm: 7.259\n",
            "Epoch 4/59.. Train loss: 63.709.. Val loss: 58.509.. Train L1 norm: 1.015.. Val L1 norm: 1.022.. Train Linf norm: 4.192.. Val Linf norm: 6.194\n",
            "Epoch 5/59.. Train loss: 63.674.. Val loss: 58.474.. Train L1 norm: 1.012.. Val L1 norm: 1.017.. Train Linf norm: 3.573.. Val Linf norm: 5.113\n",
            "Epoch 6/59.. Train loss: 63.640.. Val loss: 58.442.. Train L1 norm: 1.009.. Val L1 norm: 1.013.. Train Linf norm: 3.035.. Val Linf norm: 4.100\n",
            "Epoch 7/59.. Train loss: 63.608.. Val loss: 58.413.. Train L1 norm: 1.006.. Val L1 norm: 1.009.. Train Linf norm: 2.459.. Val Linf norm: 3.213\n",
            "Epoch 8/59.. Train loss: 63.582.. Val loss: 58.390.. Train L1 norm: 1.004.. Val L1 norm: 1.006.. Train Linf norm: 2.039.. Val Linf norm: 2.504\n",
            "Epoch 9/59.. Train loss: 63.561.. Val loss: 58.373.. Train L1 norm: 1.003.. Val L1 norm: 1.004.. Train Linf norm: 1.685.. Val Linf norm: 1.985\n",
            "Epoch 10/59.. Train loss: 63.547.. Val loss: 58.362.. Train L1 norm: 1.002.. Val L1 norm: 1.002.. Train Linf norm: 1.435.. Val Linf norm: 1.659\n",
            "Epoch 11/59.. Train loss: 63.539.. Val loss: 58.357.. Train L1 norm: 1.001.. Val L1 norm: 1.002.. Train Linf norm: 1.322.. Val Linf norm: 1.517\n",
            "Epoch 12/59.. Train loss: 63.536.. Val loss: 58.355.. Train L1 norm: 1.001.. Val L1 norm: 1.002.. Train Linf norm: 1.260.. Val Linf norm: 1.478\n",
            "Epoch 13/59.. Train loss: 63.535.. Val loss: 58.355.. Train L1 norm: 1.001.. Val L1 norm: 1.002.. Train Linf norm: 1.256.. Val Linf norm: 1.477\n",
            "Epoch 14/59.. Train loss: 63.534.. Val loss: 58.354.. Train L1 norm: 1.001.. Val L1 norm: 1.001.. Train Linf norm: 1.234.. Val Linf norm: 1.434\n",
            "Epoch 15/59.. Train loss: 63.530.. Val loss: 58.347.. Train L1 norm: 1.001.. Val L1 norm: 1.001.. Train Linf norm: 1.172.. Val Linf norm: 1.258\n",
            "Epoch 16/59.. Train loss: 63.519.. Val loss: 58.332.. Train L1 norm: 1.000.. Val L1 norm: 1.000.. Train Linf norm: 1.053.. Val Linf norm: 1.094\n",
            "Epoch 17/59.. Train loss: 63.497.. Val loss: 58.305.. Train L1 norm: 1.000.. Val L1 norm: 1.003.. Train Linf norm: 1.217.. Val Linf norm: 1.881\n",
            "Epoch 18/59.. Train loss: 63.462.. Val loss: 58.262.. Train L1 norm: 1.001.. Val L1 norm: 1.007.. Train Linf norm: 1.730.. Val Linf norm: 3.157\n",
            "Epoch 19/59.. Train loss: 63.410.. Val loss: 58.202.. Train L1 norm: 1.004.. Val L1 norm: 1.014.. Train Linf norm: 2.550.. Val Linf norm: 4.982\n",
            "Epoch 20/59.. Train loss: 63.339.. Val loss: 58.124.. Train L1 norm: 1.008.. Val L1 norm: 1.024.. Train Linf norm: 3.787.. Val Linf norm: 7.399\n",
            "Epoch 21/59.. Train loss: 63.250.. Val loss: 58.026.. Train L1 norm: 1.015.. Val L1 norm: 1.038.. Train Linf norm: 5.538.. Val Linf norm: 10.465\n",
            "Epoch 22/59.. Train loss: 65.104.. Val loss: 57.911.. Train L1 norm: 1.032.. Val L1 norm: 1.054.. Train Linf norm: 9.563.. Val Linf norm: 14.109\n",
            "Epoch 23/59.. Train loss: 63.017.. Val loss: 57.781.. Train L1 norm: 1.034.. Val L1 norm: 1.073.. Train Linf norm: 9.690.. Val Linf norm: 18.293\n",
            "Epoch 24/59.. Train loss: 62.879.. Val loss: 57.639.. Train L1 norm: 1.048.. Val L1 norm: 1.095.. Train Linf norm: 12.459.. Val Linf norm: 22.890\n",
            "Epoch 25/59.. Train loss: 62.731.. Val loss: 57.490.. Train L1 norm: 1.062.. Val L1 norm: 1.118.. Train Linf norm: 15.420.. Val Linf norm: 27.762\n",
            "Epoch 26/59.. Train loss: 62.578.. Val loss: 57.340.. Train L1 norm: 1.077.. Val L1 norm: 1.143.. Train Linf norm: 18.347.. Val Linf norm: 32.729\n",
            "Epoch 27/59.. Train loss: 62.426.. Val loss: 57.192.. Train L1 norm: 1.093.. Val L1 norm: 1.167.. Train Linf norm: 20.989.. Val Linf norm: 37.625\n",
            "Epoch 28/59.. Train loss: 62.279.. Val loss: 57.053.. Train L1 norm: 1.108.. Val L1 norm: 1.191.. Train Linf norm: 23.098.. Val Linf norm: 42.249\n",
            "Epoch 29/59.. Train loss: 157248.065.. Val loss: 57.541.. Train L1 norm: 12.322.. Val L1 norm: 1.110.. Train Linf norm: 578.071.. Val Linf norm: 26.097\n",
            "Epoch 30/59.. Train loss: 62.649.. Val loss: 57.430.. Train L1 norm: 1.070.. Val L1 norm: 1.128.. Train Linf norm: 16.640.. Val Linf norm: 29.756\n",
            "Epoch 31/59.. Train loss: 62.546.. Val loss: 57.339.. Train L1 norm: 1.080.. Val L1 norm: 1.143.. Train Linf norm: 18.643.. Val Linf norm: 32.762\n",
            "Epoch 32/59.. Train loss: 62.463.. Val loss: 57.268.. Train L1 norm: 1.089.. Val L1 norm: 1.155.. Train Linf norm: 20.228.. Val Linf norm: 35.086\n",
            "Epoch 33/59.. Train loss: 62.403.. Val loss: 57.219.. Train L1 norm: 1.096.. Val L1 norm: 1.163.. Train Linf norm: 22.017.. Val Linf norm: 36.709\n",
            "Epoch 34/59.. Train loss: 62.363.. Val loss: 57.190.. Train L1 norm: 1.100.. Val L1 norm: 1.168.. Train Linf norm: 21.438.. Val Linf norm: 37.693\n",
            "Epoch 35/59.. Train loss: 62.340.. Val loss: 57.176.. Train L1 norm: 1.102.. Val L1 norm: 1.170.. Train Linf norm: 22.399.. Val Linf norm: 38.164\n",
            "Epoch 36/59.. Train loss: 62.331.. Val loss: 57.172.. Train L1 norm: 1.103.. Val L1 norm: 1.171.. Train Linf norm: 23.289.. Val Linf norm: 38.290\n",
            "Epoch 37/59.. Train loss: 62.329.. Val loss: 57.172.. Train L1 norm: 1.104.. Val L1 norm: 1.171.. Train Linf norm: 23.017.. Val Linf norm: 38.294\n",
            "Epoch 38/59.. Train loss: 62.327.. Val loss: 57.168.. Train L1 norm: 1.104.. Val L1 norm: 1.171.. Train Linf norm: 22.941.. Val Linf norm: 38.429\n",
            "Epoch 39/59.. Train loss: 62.317.. Val loss: 57.151.. Train L1 norm: 1.105.. Val L1 norm: 1.174.. Train Linf norm: 23.231.. Val Linf norm: 38.972\n",
            "Epoch 40/59.. Train loss: 62.290.. Val loss: 57.114.. Train L1 norm: 1.108.. Val L1 norm: 1.180.. Train Linf norm: 23.098.. Val Linf norm: 40.198\n",
            "Epoch 41/59.. Train loss: 62.238.. Val loss: 57.050.. Train L1 norm: 1.113.. Val L1 norm: 1.191.. Train Linf norm: 23.685.. Val Linf norm: 42.353\n",
            "Epoch 42/59.. Train loss: 62.155.. Val loss: 56.951.. Train L1 norm: 1.122.. Val L1 norm: 1.208.. Train Linf norm: 26.357.. Val Linf norm: 45.663\n",
            "Epoch 43/59.. Train loss: 62.035.. Val loss: 56.814.. Train L1 norm: 1.137.. Val L1 norm: 1.232.. Train Linf norm: 28.018.. Val Linf norm: 50.258\n",
            "Epoch 44/59.. Train loss: 61.875.. Val loss: 56.637.. Train L1 norm: 1.154.. Val L1 norm: 1.264.. Train Linf norm: 30.617.. Val Linf norm: 56.229\n",
            "Epoch 45/59.. Train loss: 61.676.. Val loss: 56.423.. Train L1 norm: 1.179.. Val L1 norm: 1.303.. Train Linf norm: 35.134.. Val Linf norm: 63.540\n",
            "Epoch 46/59.. Train loss: 61.443.. Val loss: 56.174.. Train L1 norm: 1.208.. Val L1 norm: 1.349.. Train Linf norm: 41.299.. Val Linf norm: 72.103\n",
            "Epoch 47/59.. Train loss: 61.173.. Val loss: 55.899.. Train L1 norm: 1.240.. Val L1 norm: 1.402.. Train Linf norm: 45.807.. Val Linf norm: 81.692\n",
            "Epoch 48/59.. Train loss: 60.882.. Val loss: 55.605.. Train L1 norm: 1.277.. Val L1 norm: 1.460.. Train Linf norm: 50.857.. Val Linf norm: 92.067\n",
            "Epoch 49/59.. Train loss: 60.578.. Val loss: 55.302.. Train L1 norm: 1.320.. Val L1 norm: 1.520.. Train Linf norm: 58.574.. Val Linf norm: 102.861\n",
            "Epoch 50/59.. Train loss: 60.270.. Val loss: 55.002.. Train L1 norm: 1.361.. Val L1 norm: 1.582.. Train Linf norm: 64.326.. Val Linf norm: 113.713\n",
            "Epoch 51/59.. Train loss: 59.970.. Val loss: 54.713.. Train L1 norm: 1.404.. Val L1 norm: 1.643.. Train Linf norm: 71.314.. Val Linf norm: 124.261\n",
            "Epoch 52/59.. Train loss: 59.687.. Val loss: 54.447.. Train L1 norm: 1.442.. Val L1 norm: 1.699.. Train Linf norm: 74.218.. Val Linf norm: 134.109\n",
            "Epoch 53/59.. Train loss: 59.430.. Val loss: 54.210.. Train L1 norm: 1.481.. Val L1 norm: 1.751.. Train Linf norm: 77.488.. Val Linf norm: 142.999\n",
            "Epoch 54/59.. Train loss: 59.206.. Val loss: 54.008.. Train L1 norm: 1.515.. Val L1 norm: 1.796.. Train Linf norm: 89.065.. Val Linf norm: 150.635\n",
            "Epoch 55/59.. Train loss: 59.019.. Val loss: 53.845.. Train L1 norm: 1.543.. Val L1 norm: 1.832.. Train Linf norm: 91.016.. Val Linf norm: 156.851\n",
            "Epoch 56/59.. Train loss: 58.873.. Val loss: 53.721.. Train L1 norm: 1.565.. Val L1 norm: 1.860.. Train Linf norm: 91.871.. Val Linf norm: 161.602\n",
            "Epoch 57/59.. Train loss: 58.766.. Val loss: 53.636.. Train L1 norm: 1.583.. Val L1 norm: 1.880.. Train Linf norm: 97.936.. Val Linf norm: 164.900\n",
            "Epoch 58/59.. Train loss: 58.695.. Val loss: 53.585.. Train L1 norm: 1.594.. Val L1 norm: 1.892.. Train Linf norm: 91.762.. Val Linf norm: 166.891\n"
          ]
        },
        {
          "output_type": "stream",
          "name": "stderr",
          "text": [
            "[I 2023-05-30 13:05:20,828] Trial 65 finished with value: 1.897151641845703 and parameters: {'n_layers': 6, 'n_units_0': 2585, 'n_units_1': 2455, 'n_units_2': 1468, 'n_units_3': 1512, 'n_units_4': 3446, 'n_units_5': 24, 'hidden_activation': 'ReLU', 'output_activation': 'Linear', 'loss': 'MSE', 'optimizer': 'Adam', 'lr': 0.006448512914399139, 'batch_size': 256, 'n_epochs': 59, 'scheduler': 'CosineAnnealingLR', 'dropout_rate': 0.2556517964920837, 'weight_decay': 0.0010343188865782798, 'beta1': 0.9078843225913948, 'beta2': 0.9997572257603414, 't_max_fraction': 0.20869257265739152, 'eta_min': 3.084014509408673e-06}. Best is trial 41 with value: 1.0071135492960612.\n"
          ]
        },
        {
          "output_type": "stream",
          "name": "stdout",
          "text": [
            "Epoch 59/59.. Train loss: 58.657.. Val loss: 53.560.. Train L1 norm: 1.599.. Val L1 norm: 1.897.. Train Linf norm: 99.137.. Val Linf norm: 167.837\n"
          ]
        },
        {
          "output_type": "stream",
          "name": "stderr",
          "text": [
            "[I 2023-05-30 13:05:27,833] Trial 66 pruned. \n"
          ]
        },
        {
          "output_type": "stream",
          "name": "stdout",
          "text": [
            "Epoch 1/81.. Train loss: 1879.059.. Val loss: 2.183.. Train L1 norm: 4823.689.. Val L1 norm: 4.434.. Train Linf norm: 377630.515.. Val Linf norm: 570.191\n"
          ]
        },
        {
          "output_type": "stream",
          "name": "stderr",
          "text": [
            "[I 2023-05-30 13:05:32,779] Trial 67 pruned. \n"
          ]
        },
        {
          "output_type": "stream",
          "name": "stdout",
          "text": [
            "Epoch 1/88.. Train loss: 11531394026725472.000.. Val loss: 5995082615535838.000.. Train L1 norm: 6670773.573.. Val L1 norm: 27788972.617.. Train Linf norm: 1647816851.504.. Val Linf norm: 14716468990.703\n"
          ]
        },
        {
          "output_type": "stream",
          "name": "stderr",
          "text": [
            "[I 2023-05-30 13:05:37,860] Trial 68 pruned. \n"
          ]
        },
        {
          "output_type": "stream",
          "name": "stdout",
          "text": [
            "Epoch 1/50.. Train loss: 96622145959654600998912.000.. Val loss: 387593432030.686.. Train L1 norm: 6770076202.464.. Val L1 norm: 102377.992.. Train Linf norm: 1471688536212.028.. Val Linf norm: 25075815.589\n"
          ]
        },
        {
          "output_type": "stream",
          "name": "stderr",
          "text": [
            "[I 2023-05-30 13:05:50,394] Trial 69 pruned. \n"
          ]
        },
        {
          "output_type": "stream",
          "name": "stdout",
          "text": [
            "Epoch 1/110.. Train loss: 17254.603.. Val loss: 437003.297.. Train L1 norm: 7.602.. Val L1 norm: 153.273.. Train Linf norm: 235.266.. Val Linf norm: 6482.723\n"
          ]
        },
        {
          "output_type": "stream",
          "name": "stderr",
          "text": [
            "[I 2023-05-30 13:05:53,391] Trial 70 pruned. \n"
          ]
        },
        {
          "output_type": "stream",
          "name": "stdout",
          "text": [
            "Epoch 1/76.. Train loss: 3279015.399.. Val loss: 395879.556.. Train L1 norm: 95.825.. Val L1 norm: 107.955.. Train Linf norm: 11092.743.. Val Linf norm: 13621.310\n",
            "Epoch 1/69.. Train loss: 7671472739.476.. Val loss: 58.516.. Train L1 norm: 3730.754.. Val L1 norm: 1.023.. Train Linf norm: 294490.953.. Val Linf norm: 6.410\n",
            "Epoch 2/69.. Train loss: 63.704.. Val loss: 58.515.. Train L1 norm: 1.014.. Val L1 norm: 1.023.. Train Linf norm: 3.967.. Val Linf norm: 6.372\n",
            "Epoch 3/69.. Train loss: 588.284.. Val loss: 58.513.. Train L1 norm: 3.808.. Val L1 norm: 1.023.. Train Linf norm: 373.399.. Val Linf norm: 6.334\n",
            "Epoch 4/69.. Train loss: 64.071.. Val loss: 58.512.. Train L1 norm: 1.017.. Val L1 norm: 1.023.. Train Linf norm: 4.427.. Val Linf norm: 6.279\n",
            "Epoch 5/69.. Train loss: 63.696.. Val loss: 58.510.. Train L1 norm: 1.013.. Val L1 norm: 1.022.. Train Linf norm: 3.963.. Val Linf norm: 6.220\n",
            "Epoch 6/69.. Train loss: 63.692.. Val loss: 58.508.. Train L1 norm: 1.013.. Val L1 norm: 1.022.. Train Linf norm: 3.891.. Val Linf norm: 6.160\n",
            "Epoch 7/69.. Train loss: 63.690.. Val loss: 58.506.. Train L1 norm: 1.013.. Val L1 norm: 1.022.. Train Linf norm: 3.815.. Val Linf norm: 6.104\n",
            "Epoch 8/69.. Train loss: 63.695.. Val loss: 58.504.. Train L1 norm: 1.013.. Val L1 norm: 1.022.. Train Linf norm: 3.839.. Val Linf norm: 6.052\n",
            "Epoch 9/69.. Train loss: 63.686.. Val loss: 58.503.. Train L1 norm: 1.013.. Val L1 norm: 1.022.. Train Linf norm: 3.813.. Val Linf norm: 6.008\n",
            "Epoch 10/69.. Train loss: 65.846.. Val loss: 58.502.. Train L1 norm: 1.036.. Val L1 norm: 1.021.. Train Linf norm: 4.359.. Val Linf norm: 5.974\n",
            "Epoch 11/69.. Train loss: 63.691.. Val loss: 58.501.. Train L1 norm: 1.012.. Val L1 norm: 1.021.. Train Linf norm: 3.822.. Val Linf norm: 5.949\n",
            "Epoch 12/69.. Train loss: 63.821.. Val loss: 58.501.. Train L1 norm: 1.014.. Val L1 norm: 1.021.. Train Linf norm: 4.061.. Val Linf norm: 5.933\n",
            "Epoch 13/69.. Train loss: 63.682.. Val loss: 58.500.. Train L1 norm: 1.012.. Val L1 norm: 1.021.. Train Linf norm: 3.703.. Val Linf norm: 5.925\n",
            "Epoch 14/69.. Train loss: 63.684.. Val loss: 58.500.. Train L1 norm: 1.012.. Val L1 norm: 1.021.. Train Linf norm: 3.715.. Val Linf norm: 5.923\n",
            "Epoch 15/69.. Train loss: 63.685.. Val loss: 58.500.. Train L1 norm: 1.012.. Val L1 norm: 1.021.. Train Linf norm: 3.750.. Val Linf norm: 5.923\n",
            "Epoch 16/69.. Train loss: 63.682.. Val loss: 58.500.. Train L1 norm: 1.012.. Val L1 norm: 1.021.. Train Linf norm: 3.770.. Val Linf norm: 5.921\n",
            "Epoch 17/69.. Train loss: 63.682.. Val loss: 58.500.. Train L1 norm: 1.012.. Val L1 norm: 1.021.. Train Linf norm: 3.745.. Val Linf norm: 5.911\n",
            "Epoch 18/69.. Train loss: 63.681.. Val loss: 58.499.. Train L1 norm: 1.012.. Val L1 norm: 1.021.. Train Linf norm: 3.770.. Val Linf norm: 5.887\n",
            "Epoch 19/69.. Train loss: 63.680.. Val loss: 58.498.. Train L1 norm: 1.012.. Val L1 norm: 1.021.. Train Linf norm: 3.714.. Val Linf norm: 5.843\n",
            "Epoch 20/69.. Train loss: 63.678.. Val loss: 58.495.. Train L1 norm: 1.012.. Val L1 norm: 1.020.. Train Linf norm: 3.699.. Val Linf norm: 5.772\n",
            "Epoch 21/69.. Train loss: 1148.540.. Val loss: 58.494.. Train L1 norm: 2.930.. Val L1 norm: 1.020.. Train Linf norm: 191.952.. Val Linf norm: 5.719\n",
            "Epoch 22/69.. Train loss: 1384.975.. Val loss: 58.490.. Train L1 norm: 1.800.. Val L1 norm: 1.020.. Train Linf norm: 64.792.. Val Linf norm: 5.596\n",
            "Epoch 23/69.. Train loss: 1060.814.. Val loss: 58.485.. Train L1 norm: 1.444.. Val L1 norm: 1.019.. Train Linf norm: 39.663.. Val Linf norm: 5.440\n",
            "Epoch 24/69.. Train loss: 63.691.. Val loss: 58.477.. Train L1 norm: 1.012.. Val L1 norm: 1.018.. Train Linf norm: 3.681.. Val Linf norm: 5.213\n",
            "Epoch 25/69.. Train loss: 86.181.. Val loss: 58.469.. Train L1 norm: 1.016.. Val L1 norm: 1.017.. Train Linf norm: 4.141.. Val Linf norm: 4.938\n",
            "Epoch 26/69.. Train loss: 218.255.. Val loss: 58.458.. Train L1 norm: 1.018.. Val L1 norm: 1.015.. Train Linf norm: 5.344.. Val Linf norm: 4.617\n",
            "Epoch 27/69.. Train loss: 63.634.. Val loss: 58.447.. Train L1 norm: 1.008.. Val L1 norm: 1.014.. Train Linf norm: 2.882.. Val Linf norm: 4.262\n",
            "Epoch 28/69.. Train loss: 64.912.. Val loss: 58.434.. Train L1 norm: 1.018.. Val L1 norm: 1.012.. Train Linf norm: 5.610.. Val Linf norm: 3.871\n",
            "Epoch 29/69.. Train loss: 63.608.. Val loss: 58.421.. Train L1 norm: 1.006.. Val L1 norm: 1.010.. Train Linf norm: 2.474.. Val Linf norm: 3.450\n",
            "Epoch 30/69.. Train loss: 63.595.. Val loss: 58.407.. Train L1 norm: 1.005.. Val L1 norm: 1.008.. Train Linf norm: 2.224.. Val Linf norm: 3.016\n",
            "Epoch 31/69.. Train loss: 63.580.. Val loss: 58.392.. Train L1 norm: 1.004.. Val L1 norm: 1.006.. Train Linf norm: 1.984.. Val Linf norm: 2.576\n",
            "Epoch 32/69.. Train loss: 63.565.. Val loss: 58.378.. Train L1 norm: 1.003.. Val L1 norm: 1.004.. Train Linf norm: 1.736.. Val Linf norm: 2.139\n",
            "Epoch 33/69.. Train loss: 63.556.. Val loss: 58.364.. Train L1 norm: 1.002.. Val L1 norm: 1.003.. Train Linf norm: 1.505.. Val Linf norm: 1.719\n",
            "Epoch 34/69.. Train loss: 63.539.. Val loss: 58.351.. Train L1 norm: 1.001.. Val L1 norm: 1.001.. Train Linf norm: 1.312.. Val Linf norm: 1.369\n",
            "Epoch 35/69.. Train loss: 63.984.. Val loss: 58.340.. Train L1 norm: 1.004.. Val L1 norm: 1.000.. Train Linf norm: 1.767.. Val Linf norm: 1.063\n",
            "Epoch 36/69.. Train loss: 63.518.. Val loss: 58.330.. Train L1 norm: 1.001.. Val L1 norm: 1.000.. Train Linf norm: 1.191.. Val Linf norm: 1.149\n",
            "Epoch 37/69.. Train loss: 63.504.. Val loss: 58.322.. Train L1 norm: 1.000.. Val L1 norm: 1.001.. Train Linf norm: 1.126.. Val Linf norm: 1.385\n",
            "Epoch 38/69.. Train loss: 63.497.. Val loss: 58.315.. Train L1 norm: 1.000.. Val L1 norm: 1.002.. Train Linf norm: 1.206.. Val Linf norm: 1.567\n",
            "Epoch 39/69.. Train loss: 63.492.. Val loss: 58.311.. Train L1 norm: 1.000.. Val L1 norm: 1.002.. Train Linf norm: 1.287.. Val Linf norm: 1.694\n",
            "Epoch 40/69.. Train loss: 65.286.. Val loss: 58.308.. Train L1 norm: 1.001.. Val L1 norm: 1.002.. Train Linf norm: 1.623.. Val Linf norm: 1.776\n",
            "Epoch 41/69.. Train loss: 63.486.. Val loss: 58.307.. Train L1 norm: 1.000.. Val L1 norm: 1.003.. Train Linf norm: 1.367.. Val Linf norm: 1.815\n",
            "Epoch 42/69.. Train loss: 63.485.. Val loss: 58.306.. Train L1 norm: 1.000.. Val L1 norm: 1.003.. Train Linf norm: 1.379.. Val Linf norm: 1.826\n",
            "Epoch 43/69.. Train loss: 63.485.. Val loss: 58.306.. Train L1 norm: 1.000.. Val L1 norm: 1.003.. Train Linf norm: 1.382.. Val Linf norm: 1.826\n",
            "Epoch 44/69.. Train loss: 63.485.. Val loss: 58.306.. Train L1 norm: 1.000.. Val L1 norm: 1.003.. Train Linf norm: 1.388.. Val Linf norm: 1.837\n",
            "Epoch 45/69.. Train loss: 65.046.. Val loss: 58.304.. Train L1 norm: 1.002.. Val L1 norm: 1.003.. Train Linf norm: 1.946.. Val Linf norm: 1.887\n",
            "Epoch 46/69.. Train loss: 63.481.. Val loss: 58.301.. Train L1 norm: 1.000.. Val L1 norm: 1.003.. Train Linf norm: 1.420.. Val Linf norm: 2.000\n",
            "Epoch 47/69.. Train loss: 63.475.. Val loss: 58.294.. Train L1 norm: 1.001.. Val L1 norm: 1.004.. Train Linf norm: 1.529.. Val Linf norm: 2.208\n",
            "Epoch 48/69.. Train loss: 63.467.. Val loss: 58.283.. Train L1 norm: 1.001.. Val L1 norm: 1.005.. Train Linf norm: 1.613.. Val Linf norm: 2.537\n",
            "Epoch 49/69.. Train loss: 33204277.547.. Val loss: 58.804.. Train L1 norm: 141.378.. Val L1 norm: 1.068.. Train Linf norm: 11971.416.. Val Linf norm: 15.416\n",
            "Epoch 50/69.. Train loss: 68320.993.. Val loss: 58.804.. Train L1 norm: 2.801.. Val L1 norm: 1.068.. Train Linf norm: 363.163.. Val Linf norm: 15.419\n",
            "Epoch 51/69.. Train loss: 156.032.. Val loss: 58.778.. Train L1 norm: 1.074.. Val L1 norm: 1.063.. Train Linf norm: 15.170.. Val Linf norm: 14.604\n",
            "Epoch 52/69.. Train loss: 63.967.. Val loss: 58.747.. Train L1 norm: 1.039.. Val L1 norm: 1.058.. Train Linf norm: 8.628.. Val Linf norm: 13.609\n",
            "Epoch 53/69.. Train loss: 63.914.. Val loss: 58.709.. Train L1 norm: 1.035.. Val L1 norm: 1.052.. Train Linf norm: 7.874.. Val Linf norm: 12.425\n",
            "Epoch 54/69.. Train loss: 63.980.. Val loss: 58.665.. Train L1 norm: 1.031.. Val L1 norm: 1.046.. Train Linf norm: 7.395.. Val Linf norm: 11.050\n",
            "Epoch 55/69.. Train loss: 63.834.. Val loss: 58.616.. Train L1 norm: 1.026.. Val L1 norm: 1.038.. Train Linf norm: 6.274.. Val Linf norm: 9.515\n",
            "Epoch 56/69.. Train loss: 63.775.. Val loss: 58.562.. Train L1 norm: 1.021.. Val L1 norm: 1.030.. Train Linf norm: 5.181.. Val Linf norm: 7.835\n",
            "Epoch 57/69.. Train loss: 63.759.. Val loss: 58.504.. Train L1 norm: 1.015.. Val L1 norm: 1.022.. Train Linf norm: 4.320.. Val Linf norm: 6.046\n",
            "Epoch 58/69.. Train loss: 63.729.. Val loss: 58.445.. Train L1 norm: 1.011.. Val L1 norm: 1.013.. Train Linf norm: 3.432.. Val Linf norm: 4.190\n",
            "Epoch 59/69.. Train loss: 457.194.. Val loss: 58.388.. Train L1 norm: 1.102.. Val L1 norm: 1.006.. Train Linf norm: 12.482.. Val Linf norm: 2.435\n",
            "Epoch 60/69.. Train loss: 63.543.. Val loss: 58.328.. Train L1 norm: 1.001.. Val L1 norm: 1.001.. Train Linf norm: 1.323.. Val Linf norm: 1.201\n",
            "Epoch 61/69.. Train loss: 63.478.. Val loss: 58.271.. Train L1 norm: 1.001.. Val L1 norm: 1.006.. Train Linf norm: 1.462.. Val Linf norm: 2.892\n",
            "Epoch 62/69.. Train loss: 63.422.. Val loss: 58.218.. Train L1 norm: 1.003.. Val L1 norm: 1.012.. Train Linf norm: 2.324.. Val Linf norm: 4.513\n",
            "Epoch 63/69.. Train loss: 63.406.. Val loss: 58.170.. Train L1 norm: 1.008.. Val L1 norm: 1.018.. Train Linf norm: 3.571.. Val Linf norm: 5.971\n",
            "Epoch 64/69.. Train loss: 63.325.. Val loss: 58.129.. Train L1 norm: 1.010.. Val L1 norm: 1.024.. Train Linf norm: 4.138.. Val Linf norm: 7.243\n",
            "Epoch 65/69.. Train loss: 63.289.. Val loss: 58.095.. Train L1 norm: 1.012.. Val L1 norm: 1.028.. Train Linf norm: 4.665.. Val Linf norm: 8.296\n",
            "Epoch 66/69.. Train loss: 63.257.. Val loss: 58.069.. Train L1 norm: 1.014.. Val L1 norm: 1.032.. Train Linf norm: 5.321.. Val Linf norm: 9.110\n",
            "Epoch 67/69.. Train loss: 63.234.. Val loss: 58.051.. Train L1 norm: 1.016.. Val L1 norm: 1.034.. Train Linf norm: 5.710.. Val Linf norm: 9.683\n",
            "Epoch 68/69.. Train loss: 83.420.. Val loss: 58.040.. Train L1 norm: 1.022.. Val L1 norm: 1.036.. Train Linf norm: 7.272.. Val Linf norm: 10.035\n"
          ]
        },
        {
          "output_type": "stream",
          "name": "stderr",
          "text": [
            "[I 2023-05-30 13:12:24,503] Trial 71 finished with value: 1.0364090423266092 and parameters: {'n_layers': 6, 'n_units_0': 2459, 'n_units_1': 3076, 'n_units_2': 1178, 'n_units_3': 2157, 'n_units_4': 3045, 'n_units_5': 724, 'hidden_activation': 'ReLU', 'output_activation': 'Linear', 'loss': 'MSE', 'optimizer': 'Adam', 'lr': 0.007820868576914863, 'batch_size': 256, 'n_epochs': 69, 'scheduler': 'CosineAnnealingLR', 'dropout_rate': 0.21210001535443312, 'weight_decay': 0.001409746282205154, 'beta1': 0.9008607542292684, 'beta2': 0.9995997429250781, 't_max_fraction': 0.21526629437503825, 'eta_min': 1.072027785137606e-06}. Best is trial 41 with value: 1.0071135492960612.\n"
          ]
        },
        {
          "output_type": "stream",
          "name": "stdout",
          "text": [
            "Epoch 69/69.. Train loss: 63.218.. Val loss: 58.034.. Train L1 norm: 1.018.. Val L1 norm: 1.036.. Train Linf norm: 6.115.. Val Linf norm: 10.203\n",
            "Epoch 1/66.. Train loss: 133422386143.236.. Val loss: 58.480.. Train L1 norm: 8580.395.. Val L1 norm: 1.018.. Train Linf norm: 165706.154.. Val Linf norm: 5.287\n",
            "Epoch 2/66.. Train loss: 69.093.. Val loss: 58.479.. Train L1 norm: 1.103.. Val L1 norm: 1.018.. Train Linf norm: 18.515.. Val Linf norm: 5.274\n",
            "Epoch 3/66.. Train loss: 1556.482.. Val loss: 58.479.. Train L1 norm: 6.020.. Val L1 norm: 1.018.. Train Linf norm: 635.045.. Val Linf norm: 5.269\n",
            "Epoch 4/66.. Train loss: 349.242.. Val loss: 58.479.. Train L1 norm: 2.224.. Val L1 norm: 1.018.. Train Linf norm: 197.629.. Val Linf norm: 5.253\n",
            "Epoch 5/66.. Train loss: 69.629.. Val loss: 58.478.. Train L1 norm: 1.374.. Val L1 norm: 1.018.. Train Linf norm: 74.299.. Val Linf norm: 5.236\n",
            "Epoch 6/66.. Train loss: 67.774.. Val loss: 58.478.. Train L1 norm: 1.046.. Val L1 norm: 1.018.. Train Linf norm: 12.249.. Val Linf norm: 5.217\n",
            "Epoch 7/66.. Train loss: 63.151.. Val loss: 58.477.. Train L1 norm: 1.166.. Val L1 norm: 1.018.. Train Linf norm: 38.921.. Val Linf norm: 5.200\n",
            "Epoch 8/66.. Train loss: 63.117.. Val loss: 58.477.. Train L1 norm: 1.224.. Val L1 norm: 1.018.. Train Linf norm: 54.862.. Val Linf norm: 5.184\n",
            "Epoch 9/66.. Train loss: 63.145.. Val loss: 58.476.. Train L1 norm: 1.118.. Val L1 norm: 1.018.. Train Linf norm: 27.156.. Val Linf norm: 5.171\n",
            "Epoch 10/66.. Train loss: 63.078.. Val loss: 58.476.. Train L1 norm: 1.130.. Val L1 norm: 1.018.. Train Linf norm: 29.194.. Val Linf norm: 5.160\n",
            "Epoch 11/66.. Train loss: 63.254.. Val loss: 58.476.. Train L1 norm: 1.091.. Val L1 norm: 1.018.. Train Linf norm: 20.635.. Val Linf norm: 5.153\n",
            "Epoch 12/66.. Train loss: 63.115.. Val loss: 58.475.. Train L1 norm: 1.079.. Val L1 norm: 1.018.. Train Linf norm: 17.970.. Val Linf norm: 5.148\n",
            "Epoch 13/66.. Train loss: 63.123.. Val loss: 58.475.. Train L1 norm: 1.142.. Val L1 norm: 1.018.. Train Linf norm: 33.843.. Val Linf norm: 5.146\n",
            "Epoch 14/66.. Train loss: 66.405.. Val loss: 58.475.. Train L1 norm: 1.131.. Val L1 norm: 1.018.. Train Linf norm: 28.791.. Val Linf norm: 5.145\n",
            "Epoch 15/66.. Train loss: 63.071.. Val loss: 58.475.. Train L1 norm: 1.155.. Val L1 norm: 1.018.. Train Linf norm: 36.011.. Val Linf norm: 5.145\n",
            "Epoch 16/66.. Train loss: 63.071.. Val loss: 58.475.. Train L1 norm: 1.140.. Val L1 norm: 1.018.. Train Linf norm: 31.458.. Val Linf norm: 5.144\n",
            "Epoch 17/66.. Train loss: 63.080.. Val loss: 58.475.. Train L1 norm: 1.384.. Val L1 norm: 1.018.. Train Linf norm: 95.145.. Val Linf norm: 5.141\n",
            "Epoch 18/66.. Train loss: 63.034.. Val loss: 58.475.. Train L1 norm: 1.115.. Val L1 norm: 1.018.. Train Linf norm: 26.414.. Val Linf norm: 5.134\n",
            "Epoch 19/66.. Train loss: 63.114.. Val loss: 58.475.. Train L1 norm: 1.262.. Val L1 norm: 1.017.. Train Linf norm: 63.790.. Val Linf norm: 5.122\n",
            "Epoch 20/66.. Train loss: 63.062.. Val loss: 58.474.. Train L1 norm: 1.175.. Val L1 norm: 1.017.. Train Linf norm: 40.729.. Val Linf norm: 5.102\n",
            "Epoch 21/66.. Train loss: 1029622.020.. Val loss: 58.475.. Train L1 norm: 5.645.. Val L1 norm: 1.018.. Train Linf norm: 405.548.. Val Linf norm: 5.141\n",
            "Epoch 22/66.. Train loss: 23928.283.. Val loss: 58.475.. Train L1 norm: 4.572.. Val L1 norm: 1.018.. Train Linf norm: 296.256.. Val Linf norm: 5.149\n",
            "Epoch 23/66.. Train loss: 63.861.. Val loss: 58.474.. Train L1 norm: 1.013.. Val L1 norm: 1.017.. Train Linf norm: 3.942.. Val Linf norm: 5.096\n",
            "Epoch 24/66.. Train loss: 63.654.. Val loss: 58.472.. Train L1 norm: 1.010.. Val L1 norm: 1.017.. Train Linf norm: 3.164.. Val Linf norm: 5.031\n",
            "Epoch 25/66.. Train loss: 535.450.. Val loss: 58.469.. Train L1 norm: 1.540.. Val L1 norm: 1.017.. Train Linf norm: 104.612.. Val Linf norm: 4.943\n",
            "Epoch 26/66.. Train loss: 63.672.. Val loss: 58.466.. Train L1 norm: 1.010.. Val L1 norm: 1.016.. Train Linf norm: 3.090.. Val Linf norm: 4.853\n",
            "Epoch 27/66.. Train loss: 63.646.. Val loss: 58.463.. Train L1 norm: 1.009.. Val L1 norm: 1.016.. Train Linf norm: 3.077.. Val Linf norm: 4.751\n",
            "Epoch 28/66.. Train loss: 93.090.. Val loss: 58.459.. Train L1 norm: 1.010.. Val L1 norm: 1.015.. Train Linf norm: 3.321.. Val Linf norm: 4.640\n",
            "Epoch 29/66.. Train loss: 154984.695.. Val loss: 58.457.. Train L1 norm: 1.377.. Val L1 norm: 1.015.. Train Linf norm: 97.434.. Val Linf norm: 4.567\n",
            "Epoch 30/66.. Train loss: 63.668.. Val loss: 58.453.. Train L1 norm: 1.009.. Val L1 norm: 1.014.. Train Linf norm: 3.172.. Val Linf norm: 4.445\n",
            "Epoch 31/66.. Train loss: 63.630.. Val loss: 58.449.. Train L1 norm: 1.028.. Val L1 norm: 1.014.. Train Linf norm: 8.006.. Val Linf norm: 4.321\n",
            "Epoch 32/66.. Train loss: 72.079.. Val loss: 58.445.. Train L1 norm: 1.010.. Val L1 norm: 1.013.. Train Linf norm: 3.301.. Val Linf norm: 4.199\n",
            "Epoch 33/66.. Train loss: 63.623.. Val loss: 58.441.. Train L1 norm: 1.007.. Val L1 norm: 1.013.. Train Linf norm: 2.765.. Val Linf norm: 4.082\n",
            "Epoch 34/66.. Train loss: 183.377.. Val loss: 58.438.. Train L1 norm: 1.022.. Val L1 norm: 1.012.. Train Linf norm: 6.457.. Val Linf norm: 3.975\n",
            "Epoch 35/66.. Train loss: 63.642.. Val loss: 58.434.. Train L1 norm: 1.007.. Val L1 norm: 1.012.. Train Linf norm: 2.647.. Val Linf norm: 3.878\n",
            "Epoch 36/66.. Train loss: 63.618.. Val loss: 58.432.. Train L1 norm: 1.006.. Val L1 norm: 1.012.. Train Linf norm: 2.571.. Val Linf norm: 3.794\n",
            "Epoch 37/66.. Train loss: 63.615.. Val loss: 58.430.. Train L1 norm: 1.006.. Val L1 norm: 1.011.. Train Linf norm: 2.550.. Val Linf norm: 3.726\n",
            "Epoch 38/66.. Train loss: 63.610.. Val loss: 58.428.. Train L1 norm: 1.007.. Val L1 norm: 1.011.. Train Linf norm: 2.766.. Val Linf norm: 3.674\n",
            "Epoch 39/66.. Train loss: 63.608.. Val loss: 58.427.. Train L1 norm: 1.006.. Val L1 norm: 1.011.. Train Linf norm: 2.482.. Val Linf norm: 3.637\n",
            "Epoch 40/66.. Train loss: 63.607.. Val loss: 58.426.. Train L1 norm: 1.006.. Val L1 norm: 1.011.. Train Linf norm: 2.425.. Val Linf norm: 3.615\n",
            "Epoch 41/66.. Train loss: 63.606.. Val loss: 58.426.. Train L1 norm: 1.006.. Val L1 norm: 1.011.. Train Linf norm: 2.389.. Val Linf norm: 3.605\n",
            "Epoch 42/66.. Train loss: 63.606.. Val loss: 58.426.. Train L1 norm: 1.006.. Val L1 norm: 1.011.. Train Linf norm: 2.436.. Val Linf norm: 3.602\n",
            "Epoch 43/66.. Train loss: 63.606.. Val loss: 58.426.. Train L1 norm: 1.006.. Val L1 norm: 1.011.. Train Linf norm: 2.396.. Val Linf norm: 3.602\n",
            "Epoch 44/66.. Train loss: 63.606.. Val loss: 58.425.. Train L1 norm: 1.006.. Val L1 norm: 1.011.. Train Linf norm: 2.404.. Val Linf norm: 3.599\n",
            "Epoch 45/66.. Train loss: 63.606.. Val loss: 58.425.. Train L1 norm: 1.006.. Val L1 norm: 1.011.. Train Linf norm: 2.441.. Val Linf norm: 3.586\n",
            "Epoch 46/66.. Train loss: 63.605.. Val loss: 58.424.. Train L1 norm: 1.006.. Val L1 norm: 1.011.. Train Linf norm: 2.406.. Val Linf norm: 3.556\n",
            "Epoch 47/66.. Train loss: 63.604.. Val loss: 58.422.. Train L1 norm: 1.006.. Val L1 norm: 1.010.. Train Linf norm: 2.350.. Val Linf norm: 3.503\n",
            "Epoch 48/66.. Train loss: 63.602.. Val loss: 58.420.. Train L1 norm: 1.005.. Val L1 norm: 1.010.. Train Linf norm: 2.321.. Val Linf norm: 3.418\n",
            "Epoch 49/66.. Train loss: 63.601.. Val loss: 58.416.. Train L1 norm: 1.005.. Val L1 norm: 1.009.. Train Linf norm: 2.276.. Val Linf norm: 3.296\n",
            "Epoch 50/66.. Train loss: 63.593.. Val loss: 58.410.. Train L1 norm: 1.005.. Val L1 norm: 1.009.. Train Linf norm: 2.162.. Val Linf norm: 3.134\n",
            "Epoch 51/66.. Train loss: 66.418.. Val loss: 58.404.. Train L1 norm: 1.014.. Val L1 norm: 1.008.. Train Linf norm: 4.613.. Val Linf norm: 2.926\n",
            "Epoch 52/66.. Train loss: 63.581.. Val loss: 58.395.. Train L1 norm: 1.004.. Val L1 norm: 1.007.. Train Linf norm: 2.010.. Val Linf norm: 2.671\n",
            "Epoch 53/66.. Train loss: 63.571.. Val loss: 58.385.. Train L1 norm: 1.003.. Val L1 norm: 1.005.. Train Linf norm: 1.830.. Val Linf norm: 2.368\n",
            "Epoch 54/66.. Train loss: 1122150.076.. Val loss: 58.324.. Train L1 norm: 10.729.. Val L1 norm: 1.001.. Train Linf norm: 593.607.. Val Linf norm: 1.316\n",
            "Epoch 55/66.. Train loss: 63.893.. Val loss: 58.311.. Train L1 norm: 1.006.. Val L1 norm: 1.002.. Train Linf norm: 2.848.. Val Linf norm: 1.680\n",
            "Epoch 56/66.. Train loss: 215.309.. Val loss: 58.298.. Train L1 norm: 1.010.. Val L1 norm: 1.003.. Train Linf norm: 3.871.. Val Linf norm: 2.092\n",
            "Epoch 57/66.. Train loss: 63.470.. Val loss: 58.283.. Train L1 norm: 1.002.. Val L1 norm: 1.005.. Train Linf norm: 1.746.. Val Linf norm: 2.533\n",
            "Epoch 58/66.. Train loss: 63.453.. Val loss: 58.268.. Train L1 norm: 1.002.. Val L1 norm: 1.007.. Train Linf norm: 1.840.. Val Linf norm: 2.989\n",
            "Epoch 59/66.. Train loss: 63.438.. Val loss: 58.252.. Train L1 norm: 1.002.. Val L1 norm: 1.008.. Train Linf norm: 2.129.. Val Linf norm: 3.455\n",
            "Epoch 60/66.. Train loss: 63.422.. Val loss: 58.237.. Train L1 norm: 1.003.. Val L1 norm: 1.010.. Train Linf norm: 2.364.. Val Linf norm: 3.915\n",
            "Epoch 61/66.. Train loss: 63.407.. Val loss: 58.223.. Train L1 norm: 1.004.. Val L1 norm: 1.012.. Train Linf norm: 2.612.. Val Linf norm: 4.354\n",
            "Epoch 62/66.. Train loss: 63.413.. Val loss: 58.210.. Train L1 norm: 1.007.. Val L1 norm: 1.013.. Train Linf norm: 3.156.. Val Linf norm: 4.760\n",
            "Epoch 63/66.. Train loss: 63.380.. Val loss: 58.198.. Train L1 norm: 1.006.. Val L1 norm: 1.015.. Train Linf norm: 3.093.. Val Linf norm: 5.123\n",
            "Epoch 64/66.. Train loss: 63.501.. Val loss: 58.187.. Train L1 norm: 1.007.. Val L1 norm: 1.016.. Train Linf norm: 3.457.. Val Linf norm: 5.434\n",
            "Epoch 65/66.. Train loss: 63.360.. Val loss: 58.179.. Train L1 norm: 1.007.. Val L1 norm: 1.017.. Train Linf norm: 3.485.. Val Linf norm: 5.689\n"
          ]
        },
        {
          "output_type": "stream",
          "name": "stderr",
          "text": [
            "[I 2023-05-30 13:19:55,454] Trial 72 finished with value: 1.0179041208902995 and parameters: {'n_layers': 6, 'n_units_0': 3750, 'n_units_1': 3437, 'n_units_2': 871, 'n_units_3': 2067, 'n_units_4': 3522, 'n_units_5': 479, 'hidden_activation': 'ReLU', 'output_activation': 'Linear', 'loss': 'MSE', 'optimizer': 'Adam', 'lr': 0.010357307609562454, 'batch_size': 256, 'n_epochs': 66, 'scheduler': 'CosineAnnealingLR', 'dropout_rate': 0.2091851544319905, 'weight_decay': 0.0027282944222576794, 'beta1': 0.9037605702989593, 'beta2': 0.9996532383475657, 't_max_fraction': 0.21307139332337763, 'eta_min': 1.6195316212595245e-06}. Best is trial 41 with value: 1.0071135492960612.\n"
          ]
        },
        {
          "output_type": "stream",
          "name": "stdout",
          "text": [
            "Epoch 66/66.. Train loss: 63.352.. Val loss: 58.173.. Train L1 norm: 1.008.. Val L1 norm: 1.018.. Train Linf norm: 3.490.. Val Linf norm: 5.883\n"
          ]
        },
        {
          "output_type": "stream",
          "name": "stderr",
          "text": [
            "[I 2023-05-30 13:20:02,547] Trial 73 pruned. \n"
          ]
        },
        {
          "output_type": "stream",
          "name": "stdout",
          "text": [
            "Epoch 1/66.. Train loss: 7374370017766.114.. Val loss: 43.412.. Train L1 norm: 101307.382.. Val L1 norm: 6.334.. Train Linf norm: 6670744.521.. Val Linf norm: 851.039\n"
          ]
        },
        {
          "output_type": "stream",
          "name": "stderr",
          "text": [
            "[I 2023-05-30 13:20:07,333] Trial 74 pruned. \n"
          ]
        },
        {
          "output_type": "stream",
          "name": "stdout",
          "text": [
            "Epoch 1/62.. Train loss: 2581.191.. Val loss: 4.222.. Train L1 norm: 1772.228.. Val L1 norm: 5.005.. Train Linf norm: 199505.190.. Val Linf norm: 3808.145\n"
          ]
        },
        {
          "output_type": "stream",
          "name": "stderr",
          "text": [
            "[I 2023-05-30 13:20:14,619] Trial 75 pruned. \n"
          ]
        },
        {
          "output_type": "stream",
          "name": "stdout",
          "text": [
            "Epoch 1/72.. Train loss: 248269905013.214.. Val loss: 58.897.. Train L1 norm: 9993.852.. Val L1 norm: 1.083.. Train Linf norm: 318016.346.. Val Linf norm: 18.308\n"
          ]
        },
        {
          "output_type": "stream",
          "name": "stderr",
          "text": [
            "[I 2023-05-30 13:20:23,249] Trial 76 pruned. \n"
          ]
        },
        {
          "output_type": "stream",
          "name": "stdout",
          "text": [
            "Epoch 1/58.. Train loss: 222888.811.. Val loss: 4307.738.. Train L1 norm: 141309.458.. Val L1 norm: 5582.479.. Train Linf norm: 12286619.982.. Val Linf norm: 798478.110\n"
          ]
        },
        {
          "output_type": "stream",
          "name": "stderr",
          "text": [
            "[I 2023-05-30 13:20:31,426] Trial 77 pruned. \n"
          ]
        },
        {
          "output_type": "stream",
          "name": "stdout",
          "text": [
            "Epoch 1/67.. Train loss: 87426275048364432.000.. Val loss: 59.468.. Train L1 norm: 11325273.424.. Val L1 norm: 1.179.. Train Linf norm: 1264878759.132.. Val Linf norm: 36.022\n"
          ]
        },
        {
          "output_type": "stream",
          "name": "stderr",
          "text": [
            "[I 2023-05-30 13:20:35,706] Trial 78 pruned. \n"
          ]
        },
        {
          "output_type": "stream",
          "name": "stdout",
          "text": [
            "Epoch 1/104.. Train loss: 5313936.840.. Val loss: 44.937.. Train L1 norm: 105.085.. Val L1 norm: 5.110.. Train Linf norm: 9678.809.. Val Linf norm: 668.133\n"
          ]
        },
        {
          "output_type": "stream",
          "name": "stderr",
          "text": [
            "[I 2023-05-30 13:20:40,351] Trial 79 pruned. \n"
          ]
        },
        {
          "output_type": "stream",
          "name": "stdout",
          "text": [
            "Epoch 1/75.. Train loss: 10431655.540.. Val loss: 50.401.. Train L1 norm: 126.024.. Val L1 norm: 3.231.. Train Linf norm: 2935.778.. Val Linf norm: 209.226\n"
          ]
        },
        {
          "output_type": "stream",
          "name": "stderr",
          "text": [
            "WARNING:tensorboardX.x2num:NaN or Inf found in input tensor.\n",
            "WARNING:tensorboardX.x2num:NaN or Inf found in input tensor.\n",
            "WARNING:tensorboardX.x2num:NaN or Inf found in input tensor.\n",
            "WARNING:tensorboardX.x2num:NaN or Inf found in input tensor.\n",
            "WARNING:tensorboardX.x2num:NaN or Inf found in input tensor.\n",
            "WARNING:tensorboardX.x2num:NaN or Inf found in input tensor.\n",
            "[I 2023-05-30 13:20:47,231] Trial 80 pruned. \n"
          ]
        },
        {
          "output_type": "stream",
          "name": "stdout",
          "text": [
            "Epoch 1/98.. Train loss: nan.. Val loss: nan.. Train L1 norm: nan.. Val L1 norm: nan.. Train Linf norm: nan.. Val Linf norm: nan\n"
          ]
        },
        {
          "output_type": "stream",
          "name": "stderr",
          "text": [
            "[I 2023-05-30 13:20:53,799] Trial 81 pruned. \n"
          ]
        },
        {
          "output_type": "stream",
          "name": "stdout",
          "text": [
            "Epoch 1/70.. Train loss: 8521634498566.545.. Val loss: 58.816.. Train L1 norm: 6399.501.. Val L1 norm: 1.070.. Train Linf norm: 527429.441.. Val Linf norm: 15.793\n",
            "Epoch 1/64.. Train loss: 93370439421.964.. Val loss: 58.648.. Train L1 norm: 11305.784.. Val L1 norm: 1.043.. Train Linf norm: 1972359.681.. Val Linf norm: 10.515\n",
            "Epoch 2/64.. Train loss: 63.832.. Val loss: 58.647.. Train L1 norm: 1.027.. Val L1 norm: 1.043.. Train Linf norm: 6.473.. Val Linf norm: 10.490\n",
            "Epoch 3/64.. Train loss: 154953.252.. Val loss: 58.647.. Train L1 norm: 3.592.. Val L1 norm: 1.043.. Train Linf norm: 80.649.. Val Linf norm: 10.497\n",
            "Epoch 4/64.. Train loss: 63.831.. Val loss: 58.646.. Train L1 norm: 1.027.. Val L1 norm: 1.043.. Train Linf norm: 6.474.. Val Linf norm: 10.461\n",
            "Epoch 5/64.. Train loss: 75005776.986.. Val loss: 58.631.. Train L1 norm: 11.598.. Val L1 norm: 1.040.. Train Linf norm: 547.702.. Val Linf norm: 9.994\n",
            "Epoch 6/64.. Train loss: 78.025.. Val loss: 58.630.. Train L1 norm: 1.107.. Val L1 norm: 1.040.. Train Linf norm: 27.009.. Val Linf norm: 9.956\n",
            "Epoch 7/64.. Train loss: 63.813.. Val loss: 58.629.. Train L1 norm: 1.025.. Val L1 norm: 1.040.. Train Linf norm: 5.967.. Val Linf norm: 9.922\n",
            "Epoch 8/64.. Train loss: 63.812.. Val loss: 58.628.. Train L1 norm: 1.025.. Val L1 norm: 1.040.. Train Linf norm: 6.104.. Val Linf norm: 9.892\n",
            "Epoch 9/64.. Train loss: 63.811.. Val loss: 58.627.. Train L1 norm: 1.025.. Val L1 norm: 1.040.. Train Linf norm: 6.029.. Val Linf norm: 9.868\n",
            "Epoch 10/64.. Train loss: 63.811.. Val loss: 58.626.. Train L1 norm: 1.025.. Val L1 norm: 1.040.. Train Linf norm: 6.004.. Val Linf norm: 9.850\n",
            "Epoch 11/64.. Train loss: 63.857.. Val loss: 58.626.. Train L1 norm: 1.025.. Val L1 norm: 1.040.. Train Linf norm: 6.254.. Val Linf norm: 9.838\n",
            "Epoch 12/64.. Train loss: 63.810.. Val loss: 58.626.. Train L1 norm: 1.024.. Val L1 norm: 1.039.. Train Linf norm: 6.079.. Val Linf norm: 9.833\n",
            "Epoch 13/64.. Train loss: 63.810.. Val loss: 58.626.. Train L1 norm: 1.024.. Val L1 norm: 1.039.. Train Linf norm: 6.078.. Val Linf norm: 9.831\n",
            "Epoch 14/64.. Train loss: 63.810.. Val loss: 58.626.. Train L1 norm: 1.024.. Val L1 norm: 1.039.. Train Linf norm: 6.038.. Val Linf norm: 9.831\n",
            "Epoch 15/64.. Train loss: 63.810.. Val loss: 58.626.. Train L1 norm: 1.024.. Val L1 norm: 1.039.. Train Linf norm: 5.920.. Val Linf norm: 9.830\n",
            "Epoch 16/64.. Train loss: 63.810.. Val loss: 58.625.. Train L1 norm: 1.024.. Val L1 norm: 1.039.. Train Linf norm: 5.905.. Val Linf norm: 9.822\n",
            "Epoch 17/64.. Train loss: 63.809.. Val loss: 58.625.. Train L1 norm: 1.024.. Val L1 norm: 1.039.. Train Linf norm: 6.023.. Val Linf norm: 9.805\n",
            "Epoch 18/64.. Train loss: 63.808.. Val loss: 58.624.. Train L1 norm: 1.024.. Val L1 norm: 1.039.. Train Linf norm: 5.942.. Val Linf norm: 9.772\n",
            "Epoch 19/64.. Train loss: 6569283.054.. Val loss: 58.670.. Train L1 norm: 91.812.. Val L1 norm: 1.046.. Train Linf norm: 8033.398.. Val Linf norm: 11.214\n",
            "Epoch 20/64.. Train loss: 502426925.704.. Val loss: 58.745.. Train L1 norm: 57.409.. Val L1 norm: 1.058.. Train Linf norm: 6660.109.. Val Linf norm: 13.575\n",
            "Epoch 21/64.. Train loss: 3423.988.. Val loss: 58.744.. Train L1 norm: 2.458.. Val L1 norm: 1.058.. Train Linf norm: 68.776.. Val Linf norm: 13.525\n",
            "Epoch 22/64.. Train loss: 48954.349.. Val loss: 58.745.. Train L1 norm: 4.486.. Val L1 norm: 1.058.. Train Linf norm: 284.463.. Val Linf norm: 13.570\n",
            "Epoch 23/64.. Train loss: 64.528.. Val loss: 58.740.. Train L1 norm: 1.039.. Val L1 norm: 1.057.. Train Linf norm: 8.476.. Val Linf norm: 13.405\n",
            "Epoch 24/64.. Train loss: 84.778.. Val loss: 58.734.. Train L1 norm: 1.040.. Val L1 norm: 1.056.. Train Linf norm: 9.044.. Val Linf norm: 13.209\n",
            "Epoch 25/64.. Train loss: 63.930.. Val loss: 58.727.. Train L1 norm: 1.035.. Val L1 norm: 1.055.. Train Linf norm: 8.059.. Val Linf norm: 12.986\n",
            "Epoch 26/64.. Train loss: 63.909.. Val loss: 58.719.. Train L1 norm: 1.034.. Val L1 norm: 1.054.. Train Linf norm: 7.629.. Val Linf norm: 12.738\n",
            "Epoch 27/64.. Train loss: 85.238.. Val loss: 58.710.. Train L1 norm: 1.036.. Val L1 norm: 1.053.. Train Linf norm: 7.959.. Val Linf norm: 12.469\n",
            "Epoch 28/64.. Train loss: 63.891.. Val loss: 58.701.. Train L1 norm: 1.033.. Val L1 norm: 1.051.. Train Linf norm: 7.331.. Val Linf norm: 12.187\n",
            "Epoch 29/64.. Train loss: 66.042.. Val loss: 58.692.. Train L1 norm: 1.046.. Val L1 norm: 1.050.. Train Linf norm: 9.125.. Val Linf norm: 11.904\n",
            "Epoch 30/64.. Train loss: 63.892.. Val loss: 58.683.. Train L1 norm: 1.031.. Val L1 norm: 1.048.. Train Linf norm: 7.036.. Val Linf norm: 11.624\n",
            "Epoch 31/64.. Train loss: 64.674.. Val loss: 58.675.. Train L1 norm: 1.030.. Val L1 norm: 1.047.. Train Linf norm: 7.033.. Val Linf norm: 11.357\n",
            "Epoch 32/64.. Train loss: 63.873.. Val loss: 58.667.. Train L1 norm: 1.029.. Val L1 norm: 1.046.. Train Linf norm: 6.771.. Val Linf norm: 11.112\n",
            "Epoch 33/64.. Train loss: 63.848.. Val loss: 58.660.. Train L1 norm: 1.028.. Val L1 norm: 1.045.. Train Linf norm: 6.666.. Val Linf norm: 10.897\n",
            "Epoch 34/64.. Train loss: 63.842.. Val loss: 58.654.. Train L1 norm: 1.028.. Val L1 norm: 1.044.. Train Linf norm: 6.441.. Val Linf norm: 10.719\n",
            "Epoch 35/64.. Train loss: 63.837.. Val loss: 58.650.. Train L1 norm: 1.027.. Val L1 norm: 1.043.. Train Linf norm: 6.577.. Val Linf norm: 10.580\n",
            "Epoch 36/64.. Train loss: 63.833.. Val loss: 58.646.. Train L1 norm: 1.027.. Val L1 norm: 1.043.. Train Linf norm: 6.392.. Val Linf norm: 10.481\n",
            "Epoch 37/64.. Train loss: 63.830.. Val loss: 58.645.. Train L1 norm: 1.026.. Val L1 norm: 1.042.. Train Linf norm: 6.272.. Val Linf norm: 10.420\n",
            "Epoch 38/64.. Train loss: 63.829.. Val loss: 58.644.. Train L1 norm: 1.026.. Val L1 norm: 1.042.. Train Linf norm: 6.273.. Val Linf norm: 10.390\n",
            "Epoch 39/64.. Train loss: 63.828.. Val loss: 58.643.. Train L1 norm: 1.026.. Val L1 norm: 1.042.. Train Linf norm: 6.320.. Val Linf norm: 10.382\n",
            "Epoch 40/64.. Train loss: 63.828.. Val loss: 58.643.. Train L1 norm: 1.026.. Val L1 norm: 1.042.. Train Linf norm: 6.239.. Val Linf norm: 10.382\n",
            "Epoch 41/64.. Train loss: 63.828.. Val loss: 58.643.. Train L1 norm: 1.026.. Val L1 norm: 1.042.. Train Linf norm: 6.373.. Val Linf norm: 10.373\n",
            "Epoch 42/64.. Train loss: 63.842.. Val loss: 58.642.. Train L1 norm: 1.066.. Val L1 norm: 1.042.. Train Linf norm: 15.598.. Val Linf norm: 10.336\n",
            "Epoch 43/64.. Train loss: 63.825.. Val loss: 58.639.. Train L1 norm: 1.026.. Val L1 norm: 1.042.. Train Linf norm: 6.271.. Val Linf norm: 10.249\n",
            "Epoch 44/64.. Train loss: 63.821.. Val loss: 58.634.. Train L1 norm: 1.026.. Val L1 norm: 1.041.. Train Linf norm: 6.093.. Val Linf norm: 10.090\n",
            "Epoch 45/64.. Train loss: 63.814.. Val loss: 58.626.. Train L1 norm: 1.025.. Val L1 norm: 1.040.. Train Linf norm: 6.209.. Val Linf norm: 9.839\n",
            "Epoch 46/64.. Train loss: 67.302.. Val loss: 58.614.. Train L1 norm: 1.029.. Val L1 norm: 1.038.. Train Linf norm: 6.780.. Val Linf norm: 9.477\n",
            "Epoch 47/64.. Train loss: 82.645.. Val loss: 58.599.. Train L1 norm: 1.029.. Val L1 norm: 1.035.. Train Linf norm: 7.050.. Val Linf norm: 8.986\n",
            "Epoch 48/64.. Train loss: 1093.186.. Val loss: 58.583.. Train L1 norm: 2.052.. Val L1 norm: 1.033.. Train Linf norm: 58.905.. Val Linf norm: 8.500\n",
            "Epoch 49/64.. Train loss: 1123.075.. Val loss: 58.557.. Train L1 norm: 1.446.. Val L1 norm: 1.029.. Train Linf norm: 111.954.. Val Linf norm: 7.700\n",
            "Epoch 50/64.. Train loss: 150213.989.. Val loss: 58.538.. Train L1 norm: 2.840.. Val L1 norm: 1.026.. Train Linf norm: 122.044.. Val Linf norm: 7.086\n",
            "Epoch 51/64.. Train loss: 75.854.. Val loss: 58.524.. Train L1 norm: 1.023.. Val L1 norm: 1.025.. Train Linf norm: 6.006.. Val Linf norm: 6.677\n",
            "Epoch 52/64.. Train loss: 3109.433.. Val loss: 58.486.. Train L1 norm: 1.141.. Val L1 norm: 1.019.. Train Linf norm: 36.482.. Val Linf norm: 5.468\n",
            "Epoch 53/64.. Train loss: 63.780.. Val loss: 58.446.. Train L1 norm: 1.009.. Val L1 norm: 1.014.. Train Linf norm: 3.145.. Val Linf norm: 4.241\n",
            "Epoch 54/64.. Train loss: 63.606.. Val loss: 58.405.. Train L1 norm: 1.006.. Val L1 norm: 1.008.. Train Linf norm: 2.449.. Val Linf norm: 2.965\n",
            "Epoch 55/64.. Train loss: 63.564.. Val loss: 58.363.. Train L1 norm: 1.003.. Val L1 norm: 1.003.. Train Linf norm: 1.713.. Val Linf norm: 1.690\n",
            "Epoch 56/64.. Train loss: 261564.776.. Val loss: 58.332.. Train L1 norm: 2.571.. Val L1 norm: 1.000.. Train Linf norm: 138.393.. Val Linf norm: 1.081\n",
            "Epoch 57/64.. Train loss: 65.102.. Val loss: 58.334.. Train L1 norm: 1.002.. Val L1 norm: 1.000.. Train Linf norm: 1.604.. Val Linf norm: 1.048\n",
            "Epoch 58/64.. Train loss: 63.495.. Val loss: 58.298.. Train L1 norm: 1.000.. Val L1 norm: 1.003.. Train Linf norm: 1.245.. Val Linf norm: 2.071\n",
            "Epoch 59/64.. Train loss: 63.461.. Val loss: 58.267.. Train L1 norm: 1.001.. Val L1 norm: 1.007.. Train Linf norm: 1.688.. Val Linf norm: 3.004\n",
            "Epoch 60/64.. Train loss: 63.432.. Val loss: 58.241.. Train L1 norm: 1.003.. Val L1 norm: 1.009.. Train Linf norm: 2.155.. Val Linf norm: 3.794\n",
            "Epoch 61/64.. Train loss: 63.408.. Val loss: 58.221.. Train L1 norm: 1.004.. Val L1 norm: 1.012.. Train Linf norm: 2.542.. Val Linf norm: 4.406\n",
            "Epoch 62/64.. Train loss: 63.391.. Val loss: 58.207.. Train L1 norm: 1.005.. Val L1 norm: 1.014.. Train Linf norm: 2.879.. Val Linf norm: 4.841\n",
            "Epoch 63/64.. Train loss: 63.379.. Val loss: 58.198.. Train L1 norm: 1.006.. Val L1 norm: 1.015.. Train Linf norm: 3.123.. Val Linf norm: 5.110\n"
          ]
        },
        {
          "output_type": "stream",
          "name": "stderr",
          "text": [
            "[I 2023-05-30 13:26:25,096] Trial 82 finished with value: 1.0152598188400268 and parameters: {'n_layers': 6, 'n_units_0': 2597, 'n_units_1': 3151, 'n_units_2': 795, 'n_units_3': 2314, 'n_units_4': 2679, 'n_units_5': 233, 'hidden_activation': 'ReLU', 'output_activation': 'Linear', 'loss': 'MSE', 'optimizer': 'Adam', 'lr': 0.010542512719620428, 'batch_size': 256, 'n_epochs': 64, 'scheduler': 'CosineAnnealingLR', 'dropout_rate': 0.22045809265984817, 'weight_decay': 0.0037621121873882752, 'beta1': 0.9032294419507473, 'beta2': 0.99957219481033, 't_max_fraction': 0.2171800806255575, 'eta_min': 1.2439254837078634e-06}. Best is trial 41 with value: 1.0071135492960612.\n"
          ]
        },
        {
          "output_type": "stream",
          "name": "stdout",
          "text": [
            "Epoch 64/64.. Train loss: 63.372.. Val loss: 58.194.. Train L1 norm: 1.006.. Val L1 norm: 1.015.. Train Linf norm: 3.302.. Val Linf norm: 5.240\n"
          ]
        },
        {
          "output_type": "stream",
          "name": "stderr",
          "text": [
            "[I 2023-05-30 13:26:30,682] Trial 83 pruned. \n"
          ]
        },
        {
          "output_type": "stream",
          "name": "stdout",
          "text": [
            "Epoch 1/64.. Train loss: 3789.701.. Val loss: 2.207.. Train L1 norm: 5194.328.. Val L1 norm: 4.111.. Train Linf norm: 165882.964.. Val Linf norm: 519.311\n"
          ]
        },
        {
          "output_type": "stream",
          "name": "stderr",
          "text": [
            "[I 2023-05-30 13:26:35,265] Trial 84 pruned. \n"
          ]
        },
        {
          "output_type": "stream",
          "name": "stdout",
          "text": [
            "Epoch 1/60.. Train loss: 6148041118852.007.. Val loss: 137.505.. Train L1 norm: 142959.905.. Val L1 norm: 11.288.. Train Linf norm: 11619860.241.. Val Linf norm: 1456.574\n"
          ]
        },
        {
          "output_type": "stream",
          "name": "stderr",
          "text": [
            "[I 2023-05-30 13:27:19,878] Trial 85 pruned. \n"
          ]
        },
        {
          "output_type": "stream",
          "name": "stdout",
          "text": [
            "Epoch 1/55.. Train loss: 37766449.537.. Val loss: 45.545.. Train L1 norm: 1113.613.. Val L1 norm: 4.569.. Train Linf norm: 33830.328.. Val Linf norm: 98.305\n"
          ]
        },
        {
          "output_type": "stream",
          "name": "stderr",
          "text": [
            "WARNING:tensorboardX.x2num:NaN or Inf found in input tensor.\n",
            "[I 2023-05-30 13:27:26,231] Trial 86 pruned. \n"
          ]
        },
        {
          "output_type": "stream",
          "name": "stdout",
          "text": [
            "Epoch 1/64.. Train loss: inf.. Val loss: 45352098620978922272069058035712.000.. Train L1 norm: 1268352414194245.750.. Val L1 norm: 1623505555964437.000.. Train Linf norm: 136851207436410000.000.. Val Linf norm: 220963176436869984.000\n"
          ]
        },
        {
          "output_type": "stream",
          "name": "stderr",
          "text": [
            "[I 2023-05-30 13:27:28,046] Trial 87 pruned. \n"
          ]
        },
        {
          "output_type": "stream",
          "name": "stdout",
          "text": [
            "Epoch 1/82.. Train loss: 841258543.979.. Val loss: 28479150.021.. Train L1 norm: 2442.604.. Val L1 norm: 724.498.. Train Linf norm: 543029.021.. Val Linf norm: 369520.027\n"
          ]
        },
        {
          "output_type": "stream",
          "name": "stderr",
          "text": [
            "[I 2023-05-30 13:27:31,950] Trial 88 pruned. \n"
          ]
        },
        {
          "output_type": "stream",
          "name": "stdout",
          "text": [
            "Epoch 1/78.. Train loss: 18476317406394232832.000.. Val loss: 1310232487782741760.000.. Train L1 norm: 54626585.922.. Val L1 norm: 258375147.938.. Train Linf norm: 11167957919.813.. Val Linf norm: 65676962894.575\n"
          ]
        },
        {
          "output_type": "stream",
          "name": "stderr",
          "text": [
            "[I 2023-05-30 13:27:36,054] Trial 89 pruned. \n"
          ]
        },
        {
          "output_type": "stream",
          "name": "stdout",
          "text": [
            "Epoch 1/68.. Train loss: 1861.644.. Val loss: 4.591.. Train L1 norm: 1648.840.. Val L1 norm: 2.766.. Train Linf norm: 98187.497.. Val Linf norm: 312.146\n"
          ]
        },
        {
          "output_type": "stream",
          "name": "stderr",
          "text": [
            "[I 2023-05-30 13:27:45,892] Trial 90 pruned. \n"
          ]
        },
        {
          "output_type": "stream",
          "name": "stdout",
          "text": [
            "Epoch 1/72.. Train loss: 710.662.. Val loss: 3.626.. Train L1 norm: 275.063.. Val L1 norm: 5.500.. Train Linf norm: 7252.114.. Val Linf norm: 228.557\n",
            "Epoch 1/69.. Train loss: 209304569639.790.. Val loss: 58.716.. Train L1 norm: 3564.727.. Val L1 norm: 1.054.. Train Linf norm: 89539.267.. Val Linf norm: 12.661\n",
            "Epoch 2/69.. Train loss: 64.328.. Val loss: 58.715.. Train L1 norm: 1.039.. Val L1 norm: 1.053.. Train Linf norm: 7.591.. Val Linf norm: 12.634\n",
            "Epoch 3/69.. Train loss: 64.299.. Val loss: 58.714.. Train L1 norm: 1.035.. Val L1 norm: 1.053.. Train Linf norm: 7.346.. Val Linf norm: 12.598\n",
            "Epoch 4/69.. Train loss: 2884.315.. Val loss: 58.714.. Train L1 norm: 3.219.. Val L1 norm: 1.053.. Train Linf norm: 154.378.. Val Linf norm: 12.582\n",
            "Epoch 5/69.. Train loss: 63.909.. Val loss: 58.712.. Train L1 norm: 1.034.. Val L1 norm: 1.053.. Train Linf norm: 7.592.. Val Linf norm: 12.539\n",
            "Epoch 6/69.. Train loss: 64.869.. Val loss: 58.711.. Train L1 norm: 1.034.. Val L1 norm: 1.053.. Train Linf norm: 7.657.. Val Linf norm: 12.496\n",
            "Epoch 7/69.. Train loss: 63.910.. Val loss: 58.710.. Train L1 norm: 1.034.. Val L1 norm: 1.053.. Train Linf norm: 7.793.. Val Linf norm: 12.455\n",
            "Epoch 8/69.. Train loss: 63.944.. Val loss: 58.708.. Train L1 norm: 1.034.. Val L1 norm: 1.052.. Train Linf norm: 7.623.. Val Linf norm: 12.417\n",
            "Epoch 9/69.. Train loss: 63.894.. Val loss: 58.707.. Train L1 norm: 1.033.. Val L1 norm: 1.052.. Train Linf norm: 7.551.. Val Linf norm: 12.385\n",
            "Epoch 10/69.. Train loss: 63.893.. Val loss: 58.707.. Train L1 norm: 1.033.. Val L1 norm: 1.052.. Train Linf norm: 7.403.. Val Linf norm: 12.360\n",
            "Epoch 11/69.. Train loss: 63.894.. Val loss: 58.706.. Train L1 norm: 1.033.. Val L1 norm: 1.052.. Train Linf norm: 7.500.. Val Linf norm: 12.342\n",
            "Epoch 12/69.. Train loss: 63.891.. Val loss: 58.706.. Train L1 norm: 1.033.. Val L1 norm: 1.052.. Train Linf norm: 7.497.. Val Linf norm: 12.330\n",
            "Epoch 13/69.. Train loss: 63.891.. Val loss: 58.705.. Train L1 norm: 1.033.. Val L1 norm: 1.052.. Train Linf norm: 7.539.. Val Linf norm: 12.324\n",
            "Epoch 14/69.. Train loss: 63.891.. Val loss: 58.705.. Train L1 norm: 1.033.. Val L1 norm: 1.052.. Train Linf norm: 7.498.. Val Linf norm: 12.323\n",
            "Epoch 15/69.. Train loss: 63.891.. Val loss: 58.705.. Train L1 norm: 1.033.. Val L1 norm: 1.052.. Train Linf norm: 7.554.. Val Linf norm: 12.323\n",
            "Epoch 16/69.. Train loss: 63.891.. Val loss: 58.705.. Train L1 norm: 1.033.. Val L1 norm: 1.052.. Train Linf norm: 7.495.. Val Linf norm: 12.321\n",
            "Epoch 17/69.. Train loss: 63.891.. Val loss: 58.705.. Train L1 norm: 1.033.. Val L1 norm: 1.052.. Train Linf norm: 7.396.. Val Linf norm: 12.314\n",
            "Epoch 18/69.. Train loss: 63.890.. Val loss: 58.705.. Train L1 norm: 1.033.. Val L1 norm: 1.052.. Train Linf norm: 7.333.. Val Linf norm: 12.296\n",
            "Epoch 19/69.. Train loss: 63.890.. Val loss: 58.704.. Train L1 norm: 1.033.. Val L1 norm: 1.052.. Train Linf norm: 7.193.. Val Linf norm: 12.264\n",
            "Epoch 20/69.. Train loss: 63.888.. Val loss: 58.702.. Train L1 norm: 1.032.. Val L1 norm: 1.051.. Train Linf norm: 7.575.. Val Linf norm: 12.213\n",
            "Epoch 21/69.. Train loss: 86.048.. Val loss: 58.700.. Train L1 norm: 1.138.. Val L1 norm: 1.051.. Train Linf norm: 12.773.. Val Linf norm: 12.143\n",
            "Epoch 22/69.. Train loss: 26657.085.. Val loss: 58.698.. Train L1 norm: 2.186.. Val L1 norm: 1.051.. Train Linf norm: 103.408.. Val Linf norm: 12.095\n",
            "Epoch 23/69.. Train loss: 63.882.. Val loss: 58.694.. Train L1 norm: 1.032.. Val L1 norm: 1.050.. Train Linf norm: 7.247.. Val Linf norm: 11.963\n",
            "Epoch 24/69.. Train loss: 63.877.. Val loss: 58.689.. Train L1 norm: 1.032.. Val L1 norm: 1.049.. Train Linf norm: 7.436.. Val Linf norm: 11.799\n",
            "Epoch 25/69.. Train loss: 63.871.. Val loss: 58.682.. Train L1 norm: 1.031.. Val L1 norm: 1.048.. Train Linf norm: 7.053.. Val Linf norm: 11.601\n",
            "Epoch 26/69.. Train loss: 63.864.. Val loss: 58.675.. Train L1 norm: 1.030.. Val L1 norm: 1.047.. Train Linf norm: 7.039.. Val Linf norm: 11.373\n",
            "Epoch 27/69.. Train loss: 63.856.. Val loss: 58.667.. Train L1 norm: 1.029.. Val L1 norm: 1.046.. Train Linf norm: 6.736.. Val Linf norm: 11.114\n",
            "Epoch 28/69.. Train loss: 63.847.. Val loss: 58.658.. Train L1 norm: 1.028.. Val L1 norm: 1.044.. Train Linf norm: 6.664.. Val Linf norm: 10.829\n",
            "Epoch 29/69.. Train loss: 63.838.. Val loss: 58.648.. Train L1 norm: 1.027.. Val L1 norm: 1.043.. Train Linf norm: 6.481.. Val Linf norm: 10.525\n",
            "Epoch 30/69.. Train loss: 63.827.. Val loss: 58.638.. Train L1 norm: 1.026.. Val L1 norm: 1.041.. Train Linf norm: 6.296.. Val Linf norm: 10.207\n",
            "Epoch 31/69.. Train loss: 63.817.. Val loss: 58.627.. Train L1 norm: 1.025.. Val L1 norm: 1.040.. Train Linf norm: 6.024.. Val Linf norm: 9.884\n",
            "Epoch 32/69.. Train loss: 63.806.. Val loss: 58.617.. Train L1 norm: 1.024.. Val L1 norm: 1.038.. Train Linf norm: 5.852.. Val Linf norm: 9.563\n",
            "Epoch 33/69.. Train loss: 63.796.. Val loss: 58.607.. Train L1 norm: 1.023.. Val L1 norm: 1.037.. Train Linf norm: 5.741.. Val Linf norm: 9.254\n",
            "Epoch 34/69.. Train loss: 63.810.. Val loss: 58.598.. Train L1 norm: 1.022.. Val L1 norm: 1.035.. Train Linf norm: 5.764.. Val Linf norm: 8.966\n",
            "Epoch 35/69.. Train loss: 63.998.. Val loss: 58.590.. Train L1 norm: 1.023.. Val L1 norm: 1.034.. Train Linf norm: 5.986.. Val Linf norm: 8.706\n",
            "Epoch 36/69.. Train loss: 116.863.. Val loss: 58.582.. Train L1 norm: 1.124.. Val L1 norm: 1.033.. Train Linf norm: 23.162.. Val Linf norm: 8.478\n",
            "Epoch 37/69.. Train loss: 63.763.. Val loss: 58.576.. Train L1 norm: 1.020.. Val L1 norm: 1.032.. Train Linf norm: 5.148.. Val Linf norm: 8.294\n",
            "Epoch 38/69.. Train loss: 63.757.. Val loss: 58.572.. Train L1 norm: 1.019.. Val L1 norm: 1.031.. Train Linf norm: 5.055.. Val Linf norm: 8.152\n",
            "Epoch 39/69.. Train loss: 63.753.. Val loss: 58.569.. Train L1 norm: 1.019.. Val L1 norm: 1.031.. Train Linf norm: 4.963.. Val Linf norm: 8.053\n",
            "Epoch 40/69.. Train loss: 63.751.. Val loss: 58.567.. Train L1 norm: 1.019.. Val L1 norm: 1.031.. Train Linf norm: 4.967.. Val Linf norm: 7.992\n",
            "Epoch 41/69.. Train loss: 63.749.. Val loss: 58.566.. Train L1 norm: 1.018.. Val L1 norm: 1.031.. Train Linf norm: 4.845.. Val Linf norm: 7.963\n",
            "Epoch 42/69.. Train loss: 63.749.. Val loss: 58.565.. Train L1 norm: 1.018.. Val L1 norm: 1.031.. Train Linf norm: 4.884.. Val Linf norm: 7.955\n",
            "Epoch 43/69.. Train loss: 63.749.. Val loss: 58.565.. Train L1 norm: 1.018.. Val L1 norm: 1.031.. Train Linf norm: 4.759.. Val Linf norm: 7.955\n",
            "Epoch 44/69.. Train loss: 63.748.. Val loss: 58.565.. Train L1 norm: 1.018.. Val L1 norm: 1.030.. Train Linf norm: 4.907.. Val Linf norm: 7.946\n",
            "Epoch 45/69.. Train loss: 63.748.. Val loss: 58.564.. Train L1 norm: 1.018.. Val L1 norm: 1.030.. Train Linf norm: 4.860.. Val Linf norm: 7.910\n",
            "Epoch 46/69.. Train loss: 63.746.. Val loss: 58.561.. Train L1 norm: 1.018.. Val L1 norm: 1.030.. Train Linf norm: 4.938.. Val Linf norm: 7.825\n",
            "Epoch 47/69.. Train loss: 63.742.. Val loss: 58.556.. Train L1 norm: 1.018.. Val L1 norm: 1.029.. Train Linf norm: 4.847.. Val Linf norm: 7.671\n",
            "Epoch 48/69.. Train loss: 63.735.. Val loss: 58.548.. Train L1 norm: 1.017.. Val L1 norm: 1.028.. Train Linf norm: 4.624.. Val Linf norm: 7.427\n",
            "Epoch 49/69.. Train loss: 63.726.. Val loss: 58.537.. Train L1 norm: 1.016.. Val L1 norm: 1.026.. Train Linf norm: 4.464.. Val Linf norm: 7.072\n",
            "Epoch 50/69.. Train loss: 63.712.. Val loss: 58.522.. Train L1 norm: 1.015.. Val L1 norm: 1.024.. Train Linf norm: 4.313.. Val Linf norm: 6.591\n",
            "Epoch 51/69.. Train loss: 63.694.. Val loss: 58.502.. Train L1 norm: 1.013.. Val L1 norm: 1.021.. Train Linf norm: 3.950.. Val Linf norm: 5.971\n",
            "Epoch 52/69.. Train loss: 63.671.. Val loss: 58.477.. Train L1 norm: 1.011.. Val L1 norm: 1.018.. Train Linf norm: 3.531.. Val Linf norm: 5.201\n",
            "Epoch 53/69.. Train loss: 63.714.. Val loss: 58.448.. Train L1 norm: 1.011.. Val L1 norm: 1.014.. Train Linf norm: 3.515.. Val Linf norm: 4.287\n",
            "Epoch 54/69.. Train loss: 63.612.. Val loss: 58.414.. Train L1 norm: 1.006.. Val L1 norm: 1.009.. Train Linf norm: 2.552.. Val Linf norm: 3.235\n",
            "Epoch 55/69.. Train loss: 63.575.. Val loss: 58.375.. Train L1 norm: 1.003.. Val L1 norm: 1.004.. Train Linf norm: 1.900.. Val Linf norm: 2.065\n",
            "Epoch 56/69.. Train loss: 102720.529.. Val loss: 58.452.. Train L1 norm: 8.163.. Val L1 norm: 1.014.. Train Linf norm: 243.950.. Val Linf norm: 4.431\n",
            "Epoch 57/69.. Train loss: 63.611.. Val loss: 58.408.. Train L1 norm: 1.006.. Val L1 norm: 1.008.. Train Linf norm: 2.398.. Val Linf norm: 3.046\n",
            "Epoch 58/69.. Train loss: 63.564.. Val loss: 58.361.. Train L1 norm: 1.003.. Val L1 norm: 1.002.. Train Linf norm: 1.747.. Val Linf norm: 1.619\n",
            "Epoch 59/69.. Train loss: 63.516.. Val loss: 58.313.. Train L1 norm: 1.000.. Val L1 norm: 1.002.. Train Linf norm: 1.166.. Val Linf norm: 1.616\n",
            "Epoch 60/69.. Train loss: 63.469.. Val loss: 58.267.. Train L1 norm: 1.001.. Val L1 norm: 1.007.. Train Linf norm: 1.658.. Val Linf norm: 3.013\n",
            "Epoch 61/69.. Train loss: 63.422.. Val loss: 58.222.. Train L1 norm: 1.003.. Val L1 norm: 1.012.. Train Linf norm: 2.392.. Val Linf norm: 4.376\n",
            "Epoch 62/69.. Train loss: 94.947.. Val loss: 58.181.. Train L1 norm: 1.019.. Val L1 norm: 1.017.. Train Linf norm: 6.460.. Val Linf norm: 5.642\n",
            "Epoch 63/69.. Train loss: 63.373.. Val loss: 58.143.. Train L1 norm: 1.008.. Val L1 norm: 1.022.. Train Linf norm: 3.787.. Val Linf norm: 6.792\n",
            "Epoch 64/69.. Train loss: 63.303.. Val loss: 58.111.. Train L1 norm: 1.011.. Val L1 norm: 1.026.. Train Linf norm: 4.477.. Val Linf norm: 7.793\n",
            "Epoch 65/69.. Train loss: 63.273.. Val loss: 58.085.. Train L1 norm: 1.013.. Val L1 norm: 1.029.. Train Linf norm: 5.072.. Val Linf norm: 8.619\n",
            "Epoch 66/69.. Train loss: 63.249.. Val loss: 58.064.. Train L1 norm: 1.015.. Val L1 norm: 1.032.. Train Linf norm: 5.382.. Val Linf norm: 9.255\n",
            "Epoch 67/69.. Train loss: 63.231.. Val loss: 58.050.. Train L1 norm: 1.016.. Val L1 norm: 1.034.. Train Linf norm: 5.764.. Val Linf norm: 9.704\n",
            "Epoch 68/69.. Train loss: 63.220.. Val loss: 58.042.. Train L1 norm: 1.017.. Val L1 norm: 1.035.. Train Linf norm: 6.034.. Val Linf norm: 9.978\n"
          ]
        },
        {
          "output_type": "stream",
          "name": "stderr",
          "text": [
            "[I 2023-05-30 13:34:20,072] Trial 91 finished with value: 1.035991182676951 and parameters: {'n_layers': 6, 'n_units_0': 2457, 'n_units_1': 3135, 'n_units_2': 1132, 'n_units_3': 2345, 'n_units_4': 3187, 'n_units_5': 315, 'hidden_activation': 'ReLU', 'output_activation': 'Linear', 'loss': 'MSE', 'optimizer': 'Adam', 'lr': 0.008916229177784661, 'batch_size': 256, 'n_epochs': 69, 'scheduler': 'CosineAnnealingLR', 'dropout_rate': 0.21734273421346717, 'weight_decay': 0.0017714919796671987, 'beta1': 0.9035944905686958, 'beta2': 0.9996039842933191, 't_max_fraction': 0.21370832532776135, 'eta_min': 1.0717142549697565e-06}. Best is trial 41 with value: 1.0071135492960612.\n"
          ]
        },
        {
          "output_type": "stream",
          "name": "stdout",
          "text": [
            "Epoch 69/69.. Train loss: 63.213.. Val loss: 58.037.. Train L1 norm: 1.018.. Val L1 norm: 1.036.. Train Linf norm: 6.073.. Val Linf norm: 10.109\n",
            "Epoch 1/66.. Train loss: 16899300409.833.. Val loss: 58.590.. Train L1 norm: 7198.667.. Val L1 norm: 1.034.. Train Linf norm: 1582960.187.. Val Linf norm: 8.724\n",
            "Epoch 2/66.. Train loss: 65.175.. Val loss: 42.102.. Train L1 norm: 2.857.. Val L1 norm: 7.059.. Train Linf norm: 299.816.. Val Linf norm: 960.567\n",
            "Epoch 3/66.. Train loss: 86.173.. Val loss: 58.587.. Train L1 norm: 2.267.. Val L1 norm: 1.034.. Train Linf norm: 185.275.. Val Linf norm: 8.621\n",
            "Epoch 4/66.. Train loss: 62.164.. Val loss: 58.584.. Train L1 norm: 1.476.. Val L1 norm: 1.033.. Train Linf norm: 96.869.. Val Linf norm: 8.532\n",
            "Epoch 5/66.. Train loss: 63.419.. Val loss: 58.581.. Train L1 norm: 1.066.. Val L1 norm: 1.033.. Train Linf norm: 14.381.. Val Linf norm: 8.430\n",
            "Epoch 6/66.. Train loss: 63.616.. Val loss: 58.577.. Train L1 norm: 1.039.. Val L1 norm: 1.032.. Train Linf norm: 9.213.. Val Linf norm: 8.327\n",
            "Epoch 7/66.. Train loss: 63.399.. Val loss: 58.574.. Train L1 norm: 1.162.. Val L1 norm: 1.032.. Train Linf norm: 38.187.. Val Linf norm: 8.231\n",
            "Epoch 8/66.. Train loss: 63.544.. Val loss: 58.572.. Train L1 norm: 1.051.. Val L1 norm: 1.031.. Train Linf norm: 11.387.. Val Linf norm: 8.143\n",
            "Epoch 9/66.. Train loss: 63.620.. Val loss: 58.569.. Train L1 norm: 1.041.. Val L1 norm: 1.031.. Train Linf norm: 9.791.. Val Linf norm: 8.069\n",
            "Epoch 10/66.. Train loss: 63.638.. Val loss: 58.567.. Train L1 norm: 1.039.. Val L1 norm: 1.031.. Train Linf norm: 9.187.. Val Linf norm: 8.010\n",
            "Epoch 11/66.. Train loss: 63.599.. Val loss: 58.566.. Train L1 norm: 1.055.. Val L1 norm: 1.031.. Train Linf norm: 13.611.. Val Linf norm: 7.968\n",
            "Epoch 12/66.. Train loss: 63.631.. Val loss: 58.565.. Train L1 norm: 1.102.. Val L1 norm: 1.030.. Train Linf norm: 25.276.. Val Linf norm: 7.942\n",
            "Epoch 13/66.. Train loss: 63.608.. Val loss: 58.565.. Train L1 norm: 1.178.. Val L1 norm: 1.030.. Train Linf norm: 45.322.. Val Linf norm: 7.929\n",
            "Epoch 14/66.. Train loss: 63.592.. Val loss: 58.565.. Train L1 norm: 1.035.. Val L1 norm: 1.030.. Train Linf norm: 8.623.. Val Linf norm: 7.926\n",
            "Epoch 15/66.. Train loss: 63.593.. Val loss: 58.565.. Train L1 norm: 1.043.. Val L1 norm: 1.030.. Train Linf norm: 10.452.. Val Linf norm: 7.926\n",
            "Epoch 16/66.. Train loss: 63.610.. Val loss: 58.564.. Train L1 norm: 1.032.. Val L1 norm: 1.030.. Train Linf norm: 7.916.. Val Linf norm: 7.922\n",
            "Epoch 17/66.. Train loss: 63.615.. Val loss: 58.564.. Train L1 norm: 1.033.. Val L1 norm: 1.030.. Train Linf norm: 7.970.. Val Linf norm: 7.906\n",
            "Epoch 18/66.. Train loss: 63.579.. Val loss: 58.563.. Train L1 norm: 1.042.. Val L1 norm: 1.030.. Train Linf norm: 10.371.. Val Linf norm: 7.868\n",
            "Epoch 19/66.. Train loss: 63.583.. Val loss: 58.560.. Train L1 norm: 1.040.. Val L1 norm: 1.030.. Train Linf norm: 9.618.. Val Linf norm: 7.799\n",
            "Epoch 20/66.. Train loss: 63.574.. Val loss: 58.557.. Train L1 norm: 1.033.. Val L1 norm: 1.029.. Train Linf norm: 8.165.. Val Linf norm: 7.690\n",
            "Epoch 21/66.. Train loss: 63.584.. Val loss: 58.552.. Train L1 norm: 1.045.. Val L1 norm: 1.029.. Train Linf norm: 11.341.. Val Linf norm: 7.533\n",
            "Epoch 22/66.. Train loss: 111.059.. Val loss: 58.545.. Train L1 norm: 1.339.. Val L1 norm: 1.028.. Train Linf norm: 35.955.. Val Linf norm: 7.333\n",
            "Epoch 23/66.. Train loss: 63.725.. Val loss: 58.537.. Train L1 norm: 1.016.. Val L1 norm: 1.026.. Train Linf norm: 4.441.. Val Linf norm: 7.057\n",
            "Epoch 24/66.. Train loss: 63.714.. Val loss: 58.526.. Train L1 norm: 1.015.. Val L1 norm: 1.025.. Train Linf norm: 4.292.. Val Linf norm: 6.716\n",
            "Epoch 25/66.. Train loss: 63.702.. Val loss: 58.513.. Train L1 norm: 1.014.. Val L1 norm: 1.023.. Train Linf norm: 4.021.. Val Linf norm: 6.311\n",
            "Epoch 26/66.. Train loss: 63.688.. Val loss: 58.498.. Train L1 norm: 1.013.. Val L1 norm: 1.021.. Train Linf norm: 3.856.. Val Linf norm: 5.844\n",
            "Epoch 27/66.. Train loss: 63.671.. Val loss: 58.481.. Train L1 norm: 1.011.. Val L1 norm: 1.018.. Train Linf norm: 3.541.. Val Linf norm: 5.323\n",
            "Epoch 28/66.. Train loss: 63.653.. Val loss: 58.463.. Train L1 norm: 1.010.. Val L1 norm: 1.016.. Train Linf norm: 3.246.. Val Linf norm: 4.755\n",
            "Epoch 29/66.. Train loss: 64.259.. Val loss: 58.443.. Train L1 norm: 1.013.. Val L1 norm: 1.013.. Train Linf norm: 3.402.. Val Linf norm: 4.156\n",
            "Epoch 30/66.. Train loss: 63.614.. Val loss: 58.424.. Train L1 norm: 1.006.. Val L1 norm: 1.010.. Train Linf norm: 2.511.. Val Linf norm: 3.538\n",
            "Epoch 31/66.. Train loss: 63.594.. Val loss: 58.403.. Train L1 norm: 1.005.. Val L1 norm: 1.008.. Train Linf norm: 2.188.. Val Linf norm: 2.920\n",
            "Epoch 32/66.. Train loss: 63.574.. Val loss: 58.384.. Train L1 norm: 1.003.. Val L1 norm: 1.005.. Train Linf norm: 1.864.. Val Linf norm: 2.317\n",
            "Epoch 33/66.. Train loss: 63.554.. Val loss: 58.365.. Train L1 norm: 1.002.. Val L1 norm: 1.003.. Train Linf norm: 1.563.. Val Linf norm: 1.742\n",
            "Epoch 34/66.. Train loss: 63.536.. Val loss: 58.348.. Train L1 norm: 1.001.. Val L1 norm: 1.001.. Train Linf norm: 1.268.. Val Linf norm: 1.271\n",
            "Epoch 35/66.. Train loss: 63.519.. Val loss: 58.332.. Train L1 norm: 1.000.. Val L1 norm: 1.000.. Train Linf norm: 1.059.. Val Linf norm: 1.088\n",
            "Epoch 36/66.. Train loss: 63.505.. Val loss: 58.319.. Train L1 norm: 1.000.. Val L1 norm: 1.001.. Train Linf norm: 1.131.. Val Linf norm: 1.459\n",
            "Epoch 37/66.. Train loss: 63.492.. Val loss: 58.308.. Train L1 norm: 1.000.. Val L1 norm: 1.002.. Train Linf norm: 1.275.. Val Linf norm: 1.770\n",
            "Epoch 38/66.. Train loss: 63.483.. Val loss: 58.300.. Train L1 norm: 1.000.. Val L1 norm: 1.003.. Train Linf norm: 1.409.. Val Linf norm: 2.016\n",
            "Epoch 39/66.. Train loss: 63.475.. Val loss: 58.294.. Train L1 norm: 1.001.. Val L1 norm: 1.004.. Train Linf norm: 1.530.. Val Linf norm: 2.186\n",
            "Epoch 40/66.. Train loss: 63.471.. Val loss: 58.291.. Train L1 norm: 1.001.. Val L1 norm: 1.004.. Train Linf norm: 1.576.. Val Linf norm: 2.290\n",
            "Epoch 41/66.. Train loss: 63.468.. Val loss: 58.289.. Train L1 norm: 1.001.. Val L1 norm: 1.004.. Train Linf norm: 1.637.. Val Linf norm: 2.339\n",
            "Epoch 42/66.. Train loss: 63.467.. Val loss: 58.289.. Train L1 norm: 1.001.. Val L1 norm: 1.004.. Train Linf norm: 1.647.. Val Linf norm: 2.352\n",
            "Epoch 43/66.. Train loss: 63.467.. Val loss: 58.289.. Train L1 norm: 1.001.. Val L1 norm: 1.004.. Train Linf norm: 1.641.. Val Linf norm: 2.352\n",
            "Epoch 44/66.. Train loss: 63.467.. Val loss: 58.288.. Train L1 norm: 1.001.. Val L1 norm: 1.004.. Train Linf norm: 1.637.. Val Linf norm: 2.366\n",
            "Epoch 45/66.. Train loss: 63.467.. Val loss: 58.286.. Train L1 norm: 1.001.. Val L1 norm: 1.005.. Train Linf norm: 1.653.. Val Linf norm: 2.425\n",
            "Epoch 46/66.. Train loss: 63.462.. Val loss: 58.282.. Train L1 norm: 1.001.. Val L1 norm: 1.005.. Train Linf norm: 1.721.. Val Linf norm: 2.559\n",
            "Epoch 47/66.. Train loss: 63.456.. Val loss: 58.274.. Train L1 norm: 1.002.. Val L1 norm: 1.006.. Train Linf norm: 1.815.. Val Linf norm: 2.802\n",
            "Epoch 48/66.. Train loss: 63.445.. Val loss: 58.261.. Train L1 norm: 1.002.. Val L1 norm: 1.007.. Train Linf norm: 1.927.. Val Linf norm: 3.184\n",
            "Epoch 49/66.. Train loss: 63.437.. Val loss: 58.243.. Train L1 norm: 1.003.. Val L1 norm: 1.009.. Train Linf norm: 2.250.. Val Linf norm: 3.739\n",
            "Epoch 50/66.. Train loss: 70.787.. Val loss: 58.219.. Train L1 norm: 1.118.. Val L1 norm: 1.012.. Train Linf norm: 12.443.. Val Linf norm: 4.462\n",
            "Epoch 51/66.. Train loss: 63.381.. Val loss: 58.188.. Train L1 norm: 1.006.. Val L1 norm: 1.016.. Train Linf norm: 3.123.. Val Linf norm: 5.413\n",
            "Epoch 52/66.. Train loss: 63.789.. Val loss: 58.150.. Train L1 norm: 1.013.. Val L1 norm: 1.021.. Train Linf norm: 4.118.. Val Linf norm: 6.580\n",
            "Epoch 53/66.. Train loss: 12151.970.. Val loss: 58.085.. Train L1 norm: 4.314.. Val L1 norm: 1.029.. Train Linf norm: 137.209.. Val Linf norm: 8.613\n",
            "Epoch 54/66.. Train loss: 132.659.. Val loss: 58.007.. Train L1 norm: 1.026.. Val L1 norm: 1.040.. Train Linf norm: 7.952.. Val Linf norm: 11.082\n",
            "Epoch 55/66.. Train loss: 63.154.. Val loss: 57.950.. Train L1 norm: 1.023.. Val L1 norm: 1.048.. Train Linf norm: 7.272.. Val Linf norm: 12.879\n",
            "Epoch 56/66.. Train loss: 63.091.. Val loss: 57.889.. Train L1 norm: 1.028.. Val L1 norm: 1.057.. Train Linf norm: 8.540.. Val Linf norm: 14.833\n",
            "Epoch 57/66.. Train loss: 63.027.. Val loss: 57.824.. Train L1 norm: 1.033.. Val L1 norm: 1.067.. Train Linf norm: 9.489.. Val Linf norm: 16.902\n",
            "Epoch 58/66.. Train loss: 62.961.. Val loss: 57.758.. Train L1 norm: 1.040.. Val L1 norm: 1.077.. Train Linf norm: 10.649.. Val Linf norm: 19.038\n",
            "Epoch 59/66.. Train loss: 62.893.. Val loss: 57.692.. Train L1 norm: 1.046.. Val L1 norm: 1.087.. Train Linf norm: 12.143.. Val Linf norm: 21.182\n",
            "Epoch 60/66.. Train loss: 62.827.. Val loss: 57.627.. Train L1 norm: 1.052.. Val L1 norm: 1.097.. Train Linf norm: 12.660.. Val Linf norm: 23.284\n",
            "Epoch 61/66.. Train loss: 62.762.. Val loss: 57.566.. Train L1 norm: 1.059.. Val L1 norm: 1.107.. Train Linf norm: 14.319.. Val Linf norm: 25.279\n",
            "Epoch 62/66.. Train loss: 62.703.. Val loss: 57.510.. Train L1 norm: 1.065.. Val L1 norm: 1.115.. Train Linf norm: 15.681.. Val Linf norm: 27.117\n",
            "Epoch 63/66.. Train loss: 62.649.. Val loss: 57.460.. Train L1 norm: 1.070.. Val L1 norm: 1.123.. Train Linf norm: 16.503.. Val Linf norm: 28.750\n",
            "Epoch 64/66.. Train loss: 65.850.. Val loss: 57.418.. Train L1 norm: 1.076.. Val L1 norm: 1.130.. Train Linf norm: 17.907.. Val Linf norm: 30.147\n",
            "Epoch 65/66.. Train loss: 62.562.. Val loss: 57.383.. Train L1 norm: 1.079.. Val L1 norm: 1.136.. Train Linf norm: 18.374.. Val Linf norm: 31.279\n"
          ]
        },
        {
          "output_type": "stream",
          "name": "stderr",
          "text": [
            "[I 2023-05-30 13:40:56,576] Trial 92 finished with value: 1.139867429637909 and parameters: {'n_layers': 6, 'n_units_0': 2894, 'n_units_1': 3013, 'n_units_2': 1284, 'n_units_3': 2395, 'n_units_4': 3216, 'n_units_5': 301, 'hidden_activation': 'ReLU', 'output_activation': 'Linear', 'loss': 'MSE', 'optimizer': 'Adam', 'lr': 0.006304236958319787, 'batch_size': 256, 'n_epochs': 66, 'scheduler': 'CosineAnnealingLR', 'dropout_rate': 0.2258486451535716, 'weight_decay': 0.0019133530721324754, 'beta1': 0.903850721545462, 'beta2': 0.9996860837662098, 't_max_fraction': 0.21623417953565435, 'eta_min': 9.583202158867695e-07}. Best is trial 41 with value: 1.0071135492960612.\n"
          ]
        },
        {
          "output_type": "stream",
          "name": "stdout",
          "text": [
            "Epoch 66/66.. Train loss: 62.532.. Val loss: 57.357.. Train L1 norm: 1.082.. Val L1 norm: 1.140.. Train Linf norm: 19.280.. Val Linf norm: 32.138\n"
          ]
        },
        {
          "output_type": "stream",
          "name": "stderr",
          "text": [
            "[I 2023-05-30 13:41:04,680] Trial 93 pruned. \n"
          ]
        },
        {
          "output_type": "stream",
          "name": "stdout",
          "text": [
            "Epoch 1/62.. Train loss: 938014163112.528.. Val loss: 246898371898.027.. Train L1 norm: 107809.158.. Val L1 norm: 101137.359.. Train Linf norm: 12009726.204.. Val Linf norm: 13270276.387\n",
            "Epoch 1/75.. Train loss: 5346570427.133.. Val loss: 58.231.. Train L1 norm: 2939.432.. Val L1 norm: 1.011.. Train Linf norm: 439132.900.. Val Linf norm: 4.112\n",
            "Epoch 2/75.. Train loss: 63.417.. Val loss: 58.228.. Train L1 norm: 1.004.. Val L1 norm: 1.011.. Train Linf norm: 2.638.. Val Linf norm: 4.193\n",
            "Epoch 3/75.. Train loss: 63.404.. Val loss: 58.225.. Train L1 norm: 1.004.. Val L1 norm: 1.011.. Train Linf norm: 2.687.. Val Linf norm: 4.297\n",
            "Epoch 4/75.. Train loss: 63.400.. Val loss: 58.221.. Train L1 norm: 1.005.. Val L1 norm: 1.012.. Train Linf norm: 2.708.. Val Linf norm: 4.416\n",
            "Epoch 5/75.. Train loss: 63.396.. Val loss: 58.217.. Train L1 norm: 1.005.. Val L1 norm: 1.012.. Train Linf norm: 2.768.. Val Linf norm: 4.542\n",
            "Epoch 6/75.. Train loss: 63.391.. Val loss: 58.213.. Train L1 norm: 1.005.. Val L1 norm: 1.013.. Train Linf norm: 2.854.. Val Linf norm: 4.668\n",
            "Epoch 7/75.. Train loss: 63.387.. Val loss: 58.209.. Train L1 norm: 1.005.. Val L1 norm: 1.013.. Train Linf norm: 2.937.. Val Linf norm: 4.789\n",
            "Epoch 8/75.. Train loss: 63.383.. Val loss: 58.205.. Train L1 norm: 1.006.. Val L1 norm: 1.014.. Train Linf norm: 2.981.. Val Linf norm: 4.898\n",
            "Epoch 9/75.. Train loss: 63.380.. Val loss: 58.202.. Train L1 norm: 1.006.. Val L1 norm: 1.014.. Train Linf norm: 3.136.. Val Linf norm: 4.991\n",
            "Epoch 10/75.. Train loss: 63.377.. Val loss: 58.200.. Train L1 norm: 1.006.. Val L1 norm: 1.015.. Train Linf norm: 3.187.. Val Linf norm: 5.065\n",
            "Epoch 11/75.. Train loss: 63.375.. Val loss: 58.198.. Train L1 norm: 1.006.. Val L1 norm: 1.015.. Train Linf norm: 3.200.. Val Linf norm: 5.118\n",
            "Epoch 12/75.. Train loss: 63.374.. Val loss: 58.197.. Train L1 norm: 1.006.. Val L1 norm: 1.015.. Train Linf norm: 3.167.. Val Linf norm: 5.152\n",
            "Epoch 13/75.. Train loss: 63.373.. Val loss: 58.196.. Train L1 norm: 1.006.. Val L1 norm: 1.015.. Train Linf norm: 3.208.. Val Linf norm: 5.168\n",
            "Epoch 14/75.. Train loss: 63.373.. Val loss: 58.196.. Train L1 norm: 1.006.. Val L1 norm: 1.015.. Train Linf norm: 3.223.. Val Linf norm: 5.172\n",
            "Epoch 15/75.. Train loss: 63.372.. Val loss: 58.196.. Train L1 norm: 1.006.. Val L1 norm: 1.015.. Train Linf norm: 3.195.. Val Linf norm: 5.172\n",
            "Epoch 16/75.. Train loss: 63.372.. Val loss: 58.196.. Train L1 norm: 1.006.. Val L1 norm: 1.015.. Train Linf norm: 3.190.. Val Linf norm: 5.178\n",
            "Epoch 17/75.. Train loss: 63.372.. Val loss: 58.195.. Train L1 norm: 1.006.. Val L1 norm: 1.015.. Train Linf norm: 3.281.. Val Linf norm: 5.199\n",
            "Epoch 18/75.. Train loss: 63.371.. Val loss: 58.194.. Train L1 norm: 1.006.. Val L1 norm: 1.015.. Train Linf norm: 3.264.. Val Linf norm: 5.249\n",
            "Epoch 19/75.. Train loss: 63.369.. Val loss: 58.191.. Train L1 norm: 1.007.. Val L1 norm: 1.016.. Train Linf norm: 3.290.. Val Linf norm: 5.340\n",
            "Epoch 20/75.. Train loss: 63.364.. Val loss: 58.186.. Train L1 norm: 1.007.. Val L1 norm: 1.016.. Train Linf norm: 3.312.. Val Linf norm: 5.486\n",
            "Epoch 21/75.. Train loss: 63.390.. Val loss: 58.179.. Train L1 norm: 1.008.. Val L1 norm: 1.017.. Train Linf norm: 3.521.. Val Linf norm: 5.699\n",
            "Epoch 22/75.. Train loss: 63.957.. Val loss: 58.170.. Train L1 norm: 1.099.. Val L1 norm: 1.018.. Train Linf norm: 13.444.. Val Linf norm: 5.984\n",
            "Epoch 23/75.. Train loss: 63.351.. Val loss: 58.157.. Train L1 norm: 1.009.. Val L1 norm: 1.020.. Train Linf norm: 3.749.. Val Linf norm: 6.361\n",
            "Epoch 24/75.. Train loss: 63.325.. Val loss: 58.142.. Train L1 norm: 1.009.. Val L1 norm: 1.022.. Train Linf norm: 4.006.. Val Linf norm: 6.829\n",
            "Epoch 25/75.. Train loss: 135.819.. Val loss: 58.125.. Train L1 norm: 1.460.. Val L1 norm: 1.024.. Train Linf norm: 49.716.. Val Linf norm: 7.365\n",
            "Epoch 26/75.. Train loss: 208.629.. Val loss: 58.104.. Train L1 norm: 1.629.. Val L1 norm: 1.027.. Train Linf norm: 162.274.. Val Linf norm: 8.025\n",
            "Epoch 27/75.. Train loss: 63.266.. Val loss: 58.080.. Train L1 norm: 1.014.. Val L1 norm: 1.030.. Train Linf norm: 5.153.. Val Linf norm: 8.770\n",
            "Epoch 28/75.. Train loss: 63.241.. Val loss: 58.054.. Train L1 norm: 1.016.. Val L1 norm: 1.034.. Train Linf norm: 5.460.. Val Linf norm: 9.587\n",
            "Epoch 29/75.. Train loss: 63.214.. Val loss: 58.026.. Train L1 norm: 1.018.. Val L1 norm: 1.038.. Train Linf norm: 6.023.. Val Linf norm: 10.466\n",
            "Epoch 30/75.. Train loss: 63.185.. Val loss: 57.997.. Train L1 norm: 1.020.. Val L1 norm: 1.042.. Train Linf norm: 6.588.. Val Linf norm: 11.379\n"
          ]
        }
      ],
      "source": [
        "if OPTIMIZE:\n",
        "    # Creating a study object with Optuna with TPE sampler and median pruner \n",
        "    study = optuna.create_study(direction=\"minimize\", sampler=optuna.samplers.TPESampler(), pruner=optuna.pruners.MedianPruner())\n",
        "\n",
        "    # Running Optuna with 100 trials when we are optimizing.\n",
        "    study.optimize(objective, n_trials=N_TRIALS)\n",
        "\n",
        "    # Printing the best trial information\n",
        "    print(\"Best trial:\")\n",
        "    trial = study.best_trial\n",
        "    print(\"  Value: \", trial.value)\n",
        "    print(\"  Params: \")\n",
        "    for key, value in trial.params.items():\n",
        "        print(f\"    {key}: {value}\")\n"
      ]
    },
    {
      "cell_type": "markdown",
      "metadata": {
        "id": "jmMfE9_dUZiS"
      },
      "source": [
        "## Training the model"
      ]
    },
    {
      "cell_type": "code",
      "execution_count": null,
      "metadata": {
        "id": "phyiHlWEUZiT"
      },
      "outputs": [],
      "source": [
        "# Creating the best network and optimizer using the best hyperparameters\n",
        "if OPTIMIZE:\n",
        "    net, \\\n",
        "    loss_fn, \\\n",
        "    optimizer, \\\n",
        "    batch_size, \\\n",
        "    n_epochs, \\\n",
        "    scheduler, \\\n",
        "    loss_name, \\\n",
        "    optimizer_name, \\\n",
        "    scheduler_name, \\\n",
        "    n_units, \\\n",
        "    n_layers, \\\n",
        "    hidden_activation, \\\n",
        "    output_activation, \\\n",
        "    lr, \\\n",
        "    dropout_rate = create_model(trial, optimize=True)\n",
        "\n",
        "# Creating the network with predefined hyperparameters\n",
        "else:\n",
        "    net, \\\n",
        "    loss_fn, \\\n",
        "    optimizer, \\\n",
        "    batch_size, \\\n",
        "    n_epochs, \\\n",
        "    scheduler, \\\n",
        "    loss_name, \\\n",
        "    optimizer_name, \\\n",
        "    scheduler_name, \\\n",
        "    n_units, \\\n",
        "    n_layers, \\\n",
        "    hidden_activation, \\\n",
        "    output_activation, \\\n",
        "    lr, \\\n",
        "    dropout_rate = create_model(trial=None, optimize=True)"
      ]
    },
    {
      "cell_type": "code",
      "execution_count": null,
      "metadata": {
        "id": "_yq-oY81UZiU"
      },
      "outputs": [],
      "source": [
        "print(\"loss_fn:\", net)\n",
        "print(\"loss_fn:\", loss_fn)\n",
        "print(\"batch_size:\", batch_size)\n",
        "print(\"n_epochs:\", n_epochs)\n",
        "print(\"scheduler:\", scheduler)\n",
        "print(\"loss_name:\", loss_name)\n",
        "print(\"optimizer_name:\", optimizer_name)\n",
        "print(\"scheduler_name:\", scheduler_name)\n",
        "print(\"n_units:\", n_units)\n",
        "print(\"n_layers:\", n_layers)\n",
        "print(\"hidden_activation:\", hidden_activation)\n",
        "print(\"output_activation:\", output_activation)\n",
        "print(\"lr\", lr)\n",
        "print(\"dropout_rate\", dropout_rate)"
      ]
    },
    {
      "cell_type": "markdown",
      "metadata": {
        "id": "E7aLWdZyUZiW",
        "outputId": "8fb1e8c6-5aa3-43a1-a255-712cf9396d0c"
      },
      "source": [
        "After optimizing with Optuna and deciding on the best hyperparameters, we combine the training and validatin set, using that as the new training set for training the model, and then evaluate the model on the test set"
      ]
    },
    {
      "cell_type": "code",
      "execution_count": null,
      "metadata": {
        "id": "jIBboeQX4cno"
      },
      "outputs": [],
      "source": [
        "x_train_val = torch.cat((x_train, x_val), 0)\n",
        "y_train_val = torch.cat((y_train, y_val), 0)\n",
        "\n",
        "train_val_loader = torch.utils.data.DataLoader(\n",
        "    torch.utils.data.TensorDataset(x_train_val, y_train_val), batch_size=batch_size, shuffle=True\n",
        ")\n",
        "test_loader = torch.utils.data.DataLoader(\n",
        "    torch.utils.data.TensorDataset(x_test, y_test), batch_size=batch_size\n",
        ")\n",
        "\n",
        "train_losses, _, test_losses, train_metrics, _, test_metrics, = train_and_eval(\n",
        "    net, loss_fn, optimizer, batch_size, n_epochs, scheduler, train_val_loader, None, test_loader, None\n",
        ")"
      ]
    },
    {
      "cell_type": "markdown",
      "metadata": {
        "id": "akNucrgMUZiW"
      },
      "source": [
        "## Saving"
      ]
    },
    {
      "cell_type": "code",
      "execution_count": null,
      "metadata": {
        "id": "LHsrs2Y-UZic"
      },
      "outputs": [],
      "source": [
        "# create a dictionary to store the rest of the variables\n",
        "import json\n",
        "\n",
        "# save the network to a .pth file\n",
        "torch.save(net.state_dict(), \"net.pth\")\n",
        "save_file(\"net.pth\")\n",
        "\n",
        "# save the optimizer to a .pth file\n",
        "torch.save(optimizer.state_dict(), \"optimizer.pth\")\n",
        "save_file(\"optimizer.pth\")\n",
        "\n",
        "# save the scheduler to a .pth file if it is not None\n",
        "if scheduler is not None:\n",
        "  torch.save(scheduler.state_dict(), \"scheduler.pth\")\n",
        "  save_file(\"scheduler.pth\")\n",
        "\n",
        "# create a dictionary to store the rest of the variables\n",
        "if isinstance(hidden_activation.__class__.__name__, list):\n",
        "    hidden_activation_name = hidden_activation.__class__.__name__[0]\n",
        "else:\n",
        "    hidden_activation_name = hidden_activation.__class__.__name__\n",
        "\n",
        "if isinstance(output_activation.__class__.__name__, list):\n",
        "    output_activation_name = output_activation.__class__.__name__[0]\n",
        "else:\n",
        "    output_activation_name = output_activation.__class__.__name__\n",
        "\n",
        "var_dict = {\n",
        "  \"batch_size\": batch_size,\n",
        "  \"n_epochs\": n_epochs,\n",
        "  \"loss_name\": loss_name,\n",
        "  \"optimizer_name\": optimizer_name,\n",
        "  \"scheduler_name\": scheduler_name,\n",
        "  \"n_units\": n_units,\n",
        "  \"n_layers\": n_layers,\n",
        "  \"hidden_activation_name\": hidden_activation_name,\n",
        "  \"output_activation_name\": output_activation_name,\n",
        "  \"lr\": lr,\n",
        "  \"dropout_rate\": dropout_rate\n",
        "}\n",
        "\n",
        "# Adding the subparameters to the var_dict for saving\n",
        "if hidden_activation_name == \"LeakyReLU\":\n",
        "  var_dict[\"leakyrelu_slope\"] = hidden_activation.negative_slope\n",
        "elif hidden_activation_name == \"PReLU\":\n",
        "  var_dict[\"prelu_init\"] = hidden_activation.weight.item()  # .item() is needed because weight is a tensor\n",
        "elif hidden_activation_name == \"SoftPlus\":\n",
        "  var_dict[\"softplus_beta\"] = hidden_activation.beta\n",
        "\n",
        "# save the dictionary to a .json file\n",
        "with open(\"var_dict.json\", \"w\") as f:\n",
        "  json.dump(var_dict, f)\n",
        "save_file(\"var_dict.json\")\n",
        "\n",
        "# Saving the output of the training using pandas\n",
        "train_df = pd.DataFrame(\n",
        "    {\n",
        "        \"train_loss\": train_losses,\n",
        "        \"test_loss\": test_losses,\n",
        "        \"train_l1_norm\": [m[\"l1_norm\"] for m in train_metrics],\n",
        "        \"test_l1_norm\": [m[\"l1_norm\"] for m in test_metrics],\n",
        "        \"train_linf_norm\": [m[\"linf_norm\"] for m in train_metrics],\n",
        "        \"test_linf_norm\": [m[\"linf_norm\"] for m in test_metrics],\n",
        "    }\n",
        ")\n",
        "train_df.to_csv(\"train_output.csv\", index=False)\n",
        "save_file(\"train_output.csv\")"
      ]
    },
    {
      "cell_type": "code",
      "execution_count": null,
      "metadata": {
        "id": "WDNrony-4cnp"
      },
      "outputs": [],
      "source": [
        "[key for key in var_dict.keys()]"
      ]
    },
    {
      "cell_type": "code",
      "execution_count": null,
      "metadata": {
        "id": "G_Duv4pT4cnp"
      },
      "outputs": [],
      "source": [
        "#%%script echo skipping\n",
        "\n",
        "hidden_activation_name\n",
        "output_activation_name"
      ]
    },
    {
      "cell_type": "markdown",
      "metadata": {
        "id": "qU23l7dIUZie"
      },
      "source": [
        "## Visualizing the results"
      ]
    },
    {
      "cell_type": "code",
      "execution_count": null,
      "metadata": {
        "id": "cippWZS6UZie"
      },
      "outputs": [],
      "source": [
        "# First figure: Train and Test L1 Norm\n",
        "plt.figure(figsize=(6, 4))\n",
        "plt.plot([m[\"l1_norm\"] for m in train_metrics_loaded], label=\"Train L1 Norm\", color='blue')\n",
        "plt.plot([m[\"l1_norm\"] for m in test_metrics_loaded], label=\"Test L1 Norm\", color='red')\n",
        "plt.xlabel(\"Epoch\")\n",
        "plt.ylabel(\"L1 Norm\")\n",
        "plt.title(\"NNGRX Train and Test L1 Norm per Epoch\")\n",
        "plt.yscale(\"log\")\n",
        "plt.grid(True)\n",
        "plt.xlim(right=200)\n",
        "plt.ylim(1e-3, 1e2)\n",
        "plt.legend()\n",
        "plt.tight_layout()\n",
        "# plt.savefig(\"NNGRX_L1_norm_plot.png\", dpi=300)\n",
        "plt.savefig(\"NNGRX_L1_norm_plot.png\")\n",
        "\n",
        "# Second figure: Train and Test Linf Norm\n",
        "plt.figure(figsize=(6, 4))\n",
        "plt.plot([m[\"linf_norm\"] for m in train_metrics_loaded], label=\"Train Linf Norm\", color='blue')\n",
        "plt.plot([m[\"linf_norm\"] for m in test_metrics_loaded], label=\"Test Linf Norm\", color='red')\n",
        "plt.xlabel(\"Epoch\")\n",
        "plt.ylabel(\"Linf Norm\")\n",
        "plt.title(\"NNGRX Train and Test Linf Norm per Epoch\")\n",
        "plt.yscale(\"log\")\n",
        "plt.grid(True)\n",
        "plt.xlim(right=200)\n",
        "plt.ylim(1e-3, 1e2)\n",
        "plt.legend()\n",
        "plt.tight_layout()\n",
        "# plt.savefig(\"NNGRX_Linf_norm_plot.png\", dpi=300)\n",
        "plt.savefig(\"NNGRX_Linf_norm_plot.png\")\n",
        "\n",
        "# Third figure: MSE of training data and test data\n",
        "plt.figure(figsize=(6, 4))\n",
        "plt.plot(train_losses_loaded, label=\"Training Data\", color='blue')\n",
        "plt.plot(test_losses_loaded, label=\"Test Data\", color='red')\n",
        "plt.xlabel(\"Epoch\")\n",
        "plt.ylabel(\"MSE\")\n",
        "plt.title(\"NNGRX MSE of Training and Test Data per Epoch\")\n",
        "plt.yscale(\"log\")\n",
        "plt.grid(True)\n",
        "plt.xlim(right=200)\n",
        "plt.ylim(1e-7, 1e0)\n",
        "plt.legend()\n",
        "plt.tight_layout()\n",
        "# plt.savefig(\"NNGRX_MSE_plot.png\", dpi=300)\n",
        "plt.savefig(\"NNGRX_MSE_plot.png\")"
      ]
    },
    {
      "cell_type": "markdown",
      "metadata": {
        "id": "tiEDutxIUZig"
      },
      "source": [
        "## Loading"
      ]
    },
    {
      "cell_type": "code",
      "execution_count": null,
      "metadata": {
        "id": "p7Mj990wUZih"
      },
      "outputs": [],
      "source": [
        "import json\n",
        "import pandas as pd\n",
        "\n",
        "# load the dictionary from the .json file\n",
        "with open(\"var_dict.json\", \"r\") as f:\n",
        "  var_dict_loaded = json.load(f)\n",
        "\n",
        "# extract the variables from the dictionary\n",
        "batch_size_loaded = var_dict_loaded[\"batch_size\"]\n",
        "n_epochs_loaded = var_dict_loaded[\"n_epochs\"]\n",
        "loss_name_loaded = var_dict_loaded[\"loss_name\"]\n",
        "optimizer_name_loaded = var_dict_loaded[\"optimizer_name\"]\n",
        "scheduler_name_loaded = var_dict_loaded[\"scheduler_name\"]\n",
        "n_units_loaded = var_dict_loaded[\"n_units\"]\n",
        "n_layers_loaded = var_dict_loaded[\"n_layers\"]\n",
        "hidden_activation_name_loaded = var_dict_loaded[\"hidden_activation_name\"]\n",
        "output_activation_name_loaded = var_dict_loaded[\"output_activation_name\"]\n",
        "lr_loaded = var_dict_loaded[\"lr\"]\n",
        "dropout_rate_loaded = var_dict_loaded[\"dropout_rate\"]\n",
        "\n",
        "# Loading the activation functions with subparameters\n",
        "if hidden_activation_name_loaded == \"ReLU\":\n",
        "  hidden_activation_loaded = nn.ReLU()\n",
        "elif hidden_activation_name_loaded == \"LeakyReLU\":\n",
        "  negative_slope_loaded = var_dict_loaded.get(\"leakyrelu_slope\", 0.01)  # For backwards compatibiltiy with earlier models; default to 0.01 if not present\n",
        "  hidden_activation_loaded = nn.LeakyReLU(negative_slope=negative_slope_loaded)\n",
        "elif hidden_activation_name_loaded == \"ELU\":\n",
        "  hidden_activation_loaded = nn.ELU()\n",
        "elif hidden_activation_name_loaded == \"PReLU\":\n",
        "  init_loaded = var_dict_loaded.get(\"prelu_init\", 0.25)  # Default to 0.25 if not present\n",
        "  hidden_activation_loaded = nn.PReLU(init=init_loaded)\n",
        "elif hidden_activation_name_loaded == \"Swish\":\n",
        "    class Swish(nn.Module):\n",
        "        def forward(self, x):\n",
        "            return x * torch.sigmoid(x)\n",
        "    hidden_activation_loaded = Swish()\n",
        "elif hidden_activation_name_loaded == \"GELU\":\n",
        "    hidden_activation_loaded = nn.GELU()\n",
        "elif hidden_activation_name_loaded == \"SoftPlus\":\n",
        "  beta_loaded = var_dict_loaded.get(\"softplus_beta\", 1)  # Default to 1 if not present\n",
        "  hidden_activation_loaded = nn.Softplus(beta=beta_loaded)\n",
        "\n",
        "\n",
        "\n",
        "# We used to have options here, but since we have a regression problem with continuous output, we only use Linear.\n",
        "output_activation_loaded = nn.Identity()\n",
        "\n",
        "# load the network from the .pth file\n",
        "net_loaded = Net(\n",
        "    n_layers_loaded, \n",
        "    n_units_loaded, \n",
        "    hidden_activation_loaded, \n",
        "    output_activation_loaded, \n",
        "    dropout_rate_loaded\n",
        ").to(device)\n",
        "\n",
        "if torch.cuda.is_available():\n",
        " net_loaded.load_state_dict(torch.load(\"net.pth\"))\n",
        "else: \n",
        "  net_loaded.load_state_dict(torch.load(\"net.pth\", map_location=torch.device('cpu')))\n",
        "\n",
        "\n",
        "# Creating the loss function from its name\n",
        "if loss_name_loaded == \"MSE\":\n",
        "    loss_fn_loaded = nn.MSELoss()\n",
        "elif loss_name_loaded == \"MAE\":\n",
        "    loss_fn_loaded = nn.L1Loss()\n",
        "elif loss_name_loaded == \"Huber\":\n",
        "    loss_fn_loaded = nn.SmoothL1Loss() \n",
        "elif loss_name_loaded == \"Quantile\":\n",
        "    def quantile_loss(y_pred, y_true, q=0.5):\n",
        "        e = y_pred - y_true\n",
        "        return torch.mean(torch.max(q*e, (q-1)*e))\n",
        "    loss_fn_loaded = quantile_loss\n",
        "\n",
        "# load the optimizer from the .pth file\n",
        "if torch.cuda.is_available():\n",
        "  optimizer_loaded_state_dict = torch.load(\"optimizer.pth\")\n",
        "else:\n",
        "  optimizer_loaded_state_dict = torch.load(\"optimizer.pth\", map_location=torch.device('cpu'))\n",
        "\n",
        "if optimizer_name_loaded == \"SGD\":\n",
        "  # Added getting the weight decay and momentum parameters from the state dict\n",
        "  weight_decay_loaded = optimizer_loaded_state_dict[\"param_groups\"][0][\"weight_decay\"]\n",
        "  momentum_loaded = optimizer_loaded_state_dict[\"param_groups\"][0][\"momentum\"]\n",
        "  optimizer_loaded = optim.SGD(net_loaded.parameters(), lr=lr_loaded, weight_decay=weight_decay_loaded, momentum=momentum_loaded)\n",
        "elif optimizer_name_loaded == \"Adam\":\n",
        "  # Added getting the weight decay and beta parameters from the state dict\n",
        "  weight_decay_loaded = optimizer_loaded_state_dict[\"param_groups\"][0][\"weight_decay\"]\n",
        "  beta1_loaded = optimizer_loaded_state_dict[\"param_groups\"][0][\"betas\"][0]\n",
        "  beta2_loaded = optimizer_loaded_state_dict[\"param_groups\"][0][\"betas\"][1]\n",
        "  optimizer_loaded = optim.Adam(net_loaded.parameters(), lr=lr_loaded, weight_decay=weight_decay_loaded, betas=(beta1_loaded, beta2_loaded))\n",
        "elif optimizer_name_loaded == \"RMSprop\":\n",
        "  optimizer_loaded = optim.RMSprop(net_loaded.parameters(), lr=lr_loaded)\n",
        "elif optimizer_name_loaded == \"Adagrad\":\n",
        "  # Added loading the Adagrad optimizer\n",
        "  optimizer_loaded = optim.Adagrad(net_loaded.parameters(), lr=lr_loaded)\n",
        "optimizer_loaded.load_state_dict(optimizer_loaded_state_dict)\n",
        "\n",
        "# load the scheduler from the .pth file\n",
        "if torch.cuda.is_available():\n",
        "  scheduler_loaded_state_dict = torch.load(\"scheduler.pth\")\n",
        "else: \n",
        "  scheduler_loaded_state_dict = torch.load(\"scheduler.pth\", map_location=torch.device('cpu'))\n",
        "\n",
        "if scheduler_name_loaded == \"StepLR\":\n",
        "  # Added getting the step_size and gamma parameters from the state dict\n",
        "  step_size_loaded = scheduler_loaded_state_dict[\"step_size\"]\n",
        "  gamma_loaded = scheduler_loaded_state_dict[\"gamma\"]\n",
        "  scheduler_loaded = optim.lr_scheduler.StepLR(optimizer_loaded, step_size=step_size_loaded, gamma=gamma_loaded)\n",
        "elif scheduler_name_loaded == \"ExponentialLR\":\n",
        "  # Added getting the gamma parameter from the state dict\n",
        "  gamma_loaded = scheduler_loaded_state_dict[\"gamma\"]\n",
        "  scheduler_loaded = optim.lr_scheduler.ExponentialLR(optimizer_loaded, gamma=gamma_loaded)\n",
        "elif scheduler_name_loaded == \"CosineAnnealingLR\":\n",
        "  # Added getting the T_max parameter from the state dict\n",
        "  T_max_loaded = scheduler_loaded_state_dict[\"T_max\"]\n",
        "  scheduler_loaded = optim.lr_scheduler.CosineAnnealingLR(optimizer_loaded, T_max=T_max_loaded)\n",
        "elif scheduler_name_loaded == \"ReduceLROnPlateau\":\n",
        "  # Added getting the mode, factor, patience, threshold and min_lr parameters from the state dict\n",
        "  mode_loaded = scheduler_loaded_state_dict[\"mode\"]\n",
        "  factor_loaded = scheduler_loaded_state_dict[\"factor\"]\n",
        "  patience_loaded = scheduler_loaded_state_dict[\"patience\"]\n",
        "  threshold_loaded = scheduler_loaded_state_dict[\"threshold\"]\n",
        "  min_lr_loaded = scheduler_loaded_state_dict[\"min_lrs\"][0]\n",
        "  scheduler_loaded = optim.lr_scheduler.ReduceLROnPlateau(\n",
        "                    optimizer_loaded, mode=mode_loaded, factor=factor_loaded, patience=patience_loaded, threshold=threshold_loaded, min_lr=min_lr_loaded\n",
        "                )\n",
        "elif scheduler_name_loaded == \"CyclicLR\":  # Added CyclicLR\n",
        "    base_lr_loaded = scheduler_loaded_state_dict[\"base_lr\"]\n",
        "    max_lr_loaded = scheduler_loaded_state_dict[\"max_lr\"]\n",
        "    step_size_up_loaded = scheduler_loaded_state_dict[\"step_size_up\"]\n",
        "    scheduler_loaded = optim.lr_scheduler.CyclicLR(\n",
        "                    optimizer, base_lr=base_lr_loaded, max_lr=max_lr_loaded, step_size_up=step_size_up_loaded\n",
        "                )\n",
        "else:\n",
        "  scheduler_loaded = None\n",
        "\n",
        "if scheduler_loaded is not None:\n",
        "  # Added loading the state dict to the scheduler_loaded\n",
        "  scheduler_loaded.load_state_dict(scheduler_loaded_state_dict)\n",
        "\n",
        "# Loading the output of the training using pandas\n",
        "train_df_loaded = pd.read_csv(\"train_output.csv\")\n",
        "train_losses_loaded = train_df_loaded[\"train_loss\"].tolist()\n",
        "test_losses_loaded = train_df_loaded[\"test_loss\"].tolist()\n",
        "train_metrics_loaded = [\n",
        "    {\n",
        "        \"l1_norm\": train_df_loaded[\"train_l1_norm\"][i],\n",
        "        \"linf_norm\": train_df_loaded[\"train_linf_norm\"][i],\n",
        "    }\n",
        "    for i in range(len(train_df_loaded))\n",
        "]\n",
        "test_metrics_loaded = [\n",
        "    {\n",
        "        \"l1_norm\": train_df_loaded[\"test_l1_norm\"][i],\n",
        "        \"linf_norm\": train_df_loaded[\"test_linf_norm\"][i],\n",
        "    }\n",
        "    for i in range(len(train_df_loaded))\n",
        "]"
      ]
    },
    {
      "cell_type": "code",
      "execution_count": null,
      "metadata": {
        "id": "n-4pZ2s64cnr"
      },
      "outputs": [],
      "source": [
        "# %%script echo skipping\n",
        "\n",
        "var_dict_loaded[\"batch_size\"]\n",
        "var_dict_loaded[\"n_epochs\"]\n",
        "var_dict_loaded[\"loss_name\"]\n",
        "var_dict_loaded[\"optimizer_name\"]\n",
        "var_dict_loaded[\"scheduler_name\"]\n",
        "var_dict_loaded[\"n_units\"]\n",
        "var_dict_loaded[\"n_layers\"]\n",
        "var_dict_loaded[\"hidden_activation_name\"]\n",
        "var_dict_loaded[\"output_activation_name\"]\n",
        "var_dict_loaded[\"lr\"]\n",
        "var_dict_loaded[\"dropout_rate\"]"
      ]
    },
    {
      "cell_type": "code",
      "execution_count": null,
      "metadata": {
        "id": "QQ0MKbI04cnr"
      },
      "outputs": [],
      "source": [
        "%%script echo skipping\n",
        "\n",
        "scheduler_loaded_state_dict[\"mode\"]\n",
        "scheduler_loaded_state_dict[\"factor\"]\n",
        "scheduler_loaded_state_dict[\"patience\"]\n",
        "scheduler_loaded_state_dict[\"threshold\"]\n",
        "scheduler_loaded_state_dict[\"min_lrs\"]\n",
        "\n",
        "\n",
        "scheduler_loaded_state_dict[\"base_lr\"]\n",
        "scheduler_loaded_state_dict[\"max_lr\"]\n",
        "scheduler_loaded_state_dict[\"step_size_up\"]"
      ]
    },
    {
      "cell_type": "code",
      "execution_count": null,
      "metadata": {
        "id": "bHMdkxsm4cnr"
      },
      "outputs": [],
      "source": [
        "# %%script echo skipping\n",
        "\n",
        "var_dict\n",
        "hidden_activation_name_loaded"
      ]
    },
    {
      "cell_type": "code",
      "execution_count": null,
      "metadata": {
        "id": "GQ_fcj7zUZii"
      },
      "outputs": [],
      "source": [
        "# %%script echo skipping\n",
        "\n",
        "if hidden_activation_name_loaded == \"LeakyReLU\":\n",
        "  var_dict_loaded[\"leakyrelu_slope\"]\n",
        "if hidden_activation_name_loaded == \"PReLU\":\n",
        "  var_dict_loaded[\"prelu_init\"]\n",
        "elif hidden_activation_name_loaded == \"SoftPlus\":\n",
        "  var_dict_loaded[\"softplus_beta\"]\n",
        "\n",
        "batch_size_loaded\n",
        "n_epochs_loaded\n",
        "loss_name_loaded\n",
        "optimizer_name_loaded\n",
        "scheduler_name_loaded\n",
        "n_units_loaded\n",
        "n_layers_loaded\n",
        "hidden_activation_name_loaded\n",
        "output_activation_name_loaded\n",
        "lr_loaded\n",
        "dropout_rate_loaded\n",
        "hidden_activation_loaded\n",
        "output_activation_loaded\n",
        "net_loaded\n",
        "net_loaded.__dict__ # print the subparameters of the network\n",
        "loss_fn_loaded\n",
        "optimizer_loaded\n",
        "optimizer_loaded.__dict__ # print the subparameters of the optimizer\n",
        "if scheduler_loaded is not None:\n",
        "  scheduler_loaded\n",
        "  scheduler_loaded.__dict__ # print the subparameters of the scheduler\n",
        "train_losses_loaded\n",
        "test_losses_loaded\n",
        "train_metrics_loaded\n",
        "test_metrics_loaded\n"
      ]
    },
    {
      "cell_type": "code",
      "execution_count": null,
      "metadata": {
        "id": "wIFp6xgs4cns"
      },
      "outputs": [],
      "source": [
        "train_losses_loaded[-1]\n",
        "test_losses_loaded[-1]\n",
        "test_metrics_loaded[-1]['l1_norm']\n",
        "test_metrics_loaded[-1]['linf_norm']\n",
        "# print(f'Error is {test_metrics_loaded[-1][\"l1_norm\"] / (3.84e-4)} times bigger than in Dieselhorst et al.')\n",
        "# print(f'Error is {test_metrics_loaded[-1][\"linf_norm\"] / (8.14e-3)} times bigger than in Dieselhorst et al.')"
      ]
    },
    {
      "cell_type": "markdown",
      "metadata": {
        "id": "OdOwEngu4cns"
      },
      "source": [
        "### Visualize loaded results"
      ]
    },
    {
      "cell_type": "markdown",
      "metadata": {
        "id": "vwLGR1aSUZik"
      },
      "source": [
        "Let us verify correct loading of the train and test metrics by visualizing them again but now through the loaded values. Likewise for the train and test losses."
      ]
    },
    {
      "cell_type": "code",
      "execution_count": null,
      "metadata": {
        "id": "sXiNgLsmUZil"
      },
      "outputs": [],
      "source": [
        "%config InteractiveShell.ast_node_interactivity = \"last_expr_or_assign\""
      ]
    },
    {
      "cell_type": "code",
      "execution_count": null,
      "metadata": {
        "id": "sgq4WfSiUZil"
      },
      "outputs": [],
      "source": [
        "# Plotting the losses and metrics for the best network plt.figure(figsize=(12, \n",
        "#plt.subplot(2, 2, 1)\n",
        "#plt.plot(train_losses_loaded, label=\"Train Loss\")\n",
        "#plt.plot(test_losses_loaded, label=\"Test Loss\")\n",
        "#plt.xlabel(\"Epoch\")\n",
        "#plt.ylabel(\"Loss\")\n",
        "#plt.legend()\n",
        "plt.subplot(2, 2, 2)\n",
        "plt.plot([m[\"l1_norm\"] for m in train_metrics_loaded], label=\"Train L1 Norm\")\n",
        "plt.plot([m[\"l1_norm\"] for m in test_metrics_loaded], label=\"Test L1 Norm\")\n",
        "plt.xlabel(\"Epoch\")\n",
        "plt.ylabel(\"L1 Norm\")\n",
        "# Added setting the vertical axis to be in powers of 10\n",
        "plt.yscale(\"log\")\n",
        "# Added setting the vertical axis limits to be from 10^-7 to 10^0\n",
        "plt.ylim(1e-3, 1e2)\n",
        "plt.legend()\n",
        "plt.subplot(2, 2, 3)\n",
        "plt.plot([m[\"linf_norm\"] for m in train_metrics_loaded], label=\"Train Linf Norm\")\n",
        "plt.plot([m[\"linf_norm\"] for m in test_metrics_loaded], label=\"Test Linf Norm\")\n",
        "plt.xlabel(\"Epoch\")\n",
        "plt.ylabel(\"Linf Norm\")\n",
        "# Added setting the vertical axis to be in powers of 10\n",
        "plt.yscale(\"log\")\n",
        "# Added setting the vertical axis limits to be from 10^-7 to 10^0\n",
        "plt.ylim(1e-3, 1e2)\n",
        "plt.legend()\n",
        "plt.tight_layout()\n",
        "plt.show()\n",
        "\n",
        "# Added plotting MSE of training data and MSE of test data in one plot \n",
        "plt.figure(figsize=(8, 6))\n",
        "plt.plot(train_losses_loaded,label=\"training data\")\n",
        "plt.plot(test_losses_loaded,label=\"test data\")\n",
        "#if scheduler is not None:\n",
        "#    plt.plot([scheduler.get_last_lr()[0] for _ in range(n_epochs)], label=\"Learning rate\") \n",
        "plt.xlabel(\"Epoch\")\n",
        "plt.ylabel(f\"{loss_name_loaded} Loss\")\n",
        "# Added setting the vertical axis to be in powers of 10\n",
        "plt.yscale(\"log\")\n",
        "# Added setting the vertical axis limits to be from 10^-7 to 10^0\n",
        "plt.ylim(1e-7, 1e0)\n",
        "plt.legend()\n",
        "plt.show()\n"
      ]
    },
    {
      "cell_type": "code",
      "execution_count": null,
      "metadata": {
        "id": "lkgLqJ_UUZim"
      },
      "outputs": [],
      "source": [
        "%config InteractiveShell.ast_node_interactivity = \"all\""
      ]
    },
    {
      "cell_type": "markdown",
      "metadata": {
        "id": "aotL4GJl4cnu"
      },
      "source": [
        "## Counting the number of parameters in the network."
      ]
    },
    {
      "cell_type": "code",
      "execution_count": null,
      "metadata": {
        "id": "_sQl2bTk4cnu"
      },
      "outputs": [],
      "source": [
        "net_loaded.eval()\n",
        "def count_parameters(model):\n",
        "    return sum(p.numel() for p in model.parameters() if p.requires_grad)\n",
        "print(f'The model has {count_parameters(net_loaded)} parameters.')"
      ]
    },
    {
      "cell_type": "markdown",
      "metadata": {
        "id": "SxuzVSnlUZin"
      },
      "source": [
        "## Evaluating the network on arbirary input\n",
        "### Comparing `net` and `net_loaded`\n",
        "\n",
        "We compare `net` and `net_loaded` to confirm correct loading of the network. Note that `net` is only available if we have trained the model in this session."
      ]
    },
    {
      "cell_type": "code",
      "execution_count": null,
      "metadata": {
        "id": "usq1X1KO4cnu"
      },
      "outputs": [],
      "source": [
        "#%%script echo skipping\n",
        "\n",
        "# Set the network to evaluation mode\n",
        "net.eval()"
      ]
    },
    {
      "cell_type": "code",
      "execution_count": null,
      "metadata": {
        "id": "-pwGJnzK4cnv"
      },
      "outputs": [],
      "source": [
        "# Set the network to evaluation mode\n",
        "net_loaded.eval"
      ]
    },
    {
      "cell_type": "code",
      "execution_count": null,
      "metadata": {
        "id": "vXaSZDzX4cnv"
      },
      "outputs": [],
      "source": [
        "for p1, p2 in zip(net.parameters(), net_loaded.parameters()):\n",
        "    if p1.data.ne(p2.data).sum() > 0:\n",
        "        print(\"Parameters are NOT the same.\")\n",
        "        break\n",
        "else:\n",
        "    print(\"Parameters are the same.\")\n",
        "\n",
        "print(\"Net device:\", next(net.parameters()).device)\n",
        "print(\"Net_loaded device:\", next(net_loaded.parameters()).device)"
      ]
    },
    {
      "cell_type": "code",
      "execution_count": null,
      "metadata": {
        "id": "C0PLAA0DUZin"
      },
      "outputs": [],
      "source": [
        "#%%script echo skipping\n",
        "\n",
        "print(list(net.parameters()))"
      ]
    },
    {
      "cell_type": "code",
      "execution_count": null,
      "metadata": {
        "id": "1NZ8iVA7UZio"
      },
      "outputs": [],
      "source": [
        "print(list(net_loaded.parameters()))"
      ]
    },
    {
      "cell_type": "code",
      "execution_count": null,
      "metadata": {
        "id": "InGW0Xq6UZip"
      },
      "outputs": [],
      "source": [
        "rho_example, epsilon_example, vx_example, vy_example, vz_example, Bx_example, By_example, Bz_example, gxx_example, gxy_example, gxz_example, gyy_example, gyz_example, gzz_example = generate_samples(20)\n",
        "\n",
        "inputs =  generate_input_data(rho_example, epsilon_example, vx_example, vy_example, vz_example, Bx_example, By_example, Bz_example, gxx_example, gxy_example, gxz_example, gyy_example, gyz_example, gzz_example)\n",
        "inputs\n"
      ]
    },
    {
      "cell_type": "code",
      "execution_count": null,
      "metadata": {
        "id": "QVa1upmFUZip"
      },
      "outputs": [],
      "source": [
        "#%%script echo skipping\n",
        "\n",
        "# Pass the inputs to the network and get the outputs\n",
        "outputs = [net(input.unsqueeze(0)) for input in inputs]\n",
        "# Print the outputs\n",
        "outputs"
      ]
    },
    {
      "cell_type": "code",
      "execution_count": null,
      "metadata": {
        "id": "E-Xjfo7VUZir"
      },
      "outputs": [],
      "source": [
        "\n",
        "# Pass the inputs to the network and get the outputs\n",
        "outputs = [net_loaded(input.unsqueeze(0)) for input in inputs]\n",
        "# Print the outputs\n",
        "outputs"
      ]
    },
    {
      "cell_type": "markdown",
      "metadata": {
        "id": "xjpIvdybUZis"
      },
      "source": [
        "## Porting the model to C++"
      ]
    },
    {
      "cell_type": "code",
      "execution_count": null,
      "metadata": {
        "id": "VMlEd4RoUZis"
      },
      "outputs": [],
      "source": [
        "import torch.jit\n",
        "\n",
        "# Creating a dummy input tensor of shape (1, 5) to trace the model\n",
        "dummy_input = torch.randn(1, N_INPUTS).to(device)\n",
        "\n",
        "# Ensure that net_loaded is in evaluation mode.\n",
        "net_loaded.eval()\n",
        "\n",
        "# Tracing the model using the torch.jit.trace function\n",
        "traced_model = torch.jit.trace(net_loaded, dummy_input)\n",
        "\n",
        "# Saving the traced model to a file named \"net.pt\"\n",
        "traced_model.save(\"net.pt\")\n",
        "save_file(\"net.pt\")\n",
        "\n",
        "example_input_to_validate_correct_export_and_import = generate_input_data(*generate_samples(1))\n",
        "print(\"input shape: \", example_input_to_validate_correct_export_and_import.shape)\n",
        "print(\"input: \", example_input_to_validate_correct_export_and_import)\n",
        "print(\"Output:\", net_loaded(example_input_to_validate_correct_export_and_import))"
      ]
    }
  ],
  "metadata": {
    "accelerator": "GPU",
    "colab": {
      "gpuType": "T4",
      "provenance": [],
      "toc_visible": true
    },
    "kernelspec": {
      "display_name": "Python 3",
      "name": "python3"
    },
    "language_info": {
      "codemirror_mode": {
        "name": "ipython",
        "version": 3
      },
      "file_extension": ".py",
      "mimetype": "text/x-python",
      "name": "python",
      "nbconvert_exporter": "python",
      "pygments_lexer": "ipython3",
      "version": "3.11.3"
    },
    "orig_nbformat": 4
  },
  "nbformat": 4,
  "nbformat_minor": 0
}