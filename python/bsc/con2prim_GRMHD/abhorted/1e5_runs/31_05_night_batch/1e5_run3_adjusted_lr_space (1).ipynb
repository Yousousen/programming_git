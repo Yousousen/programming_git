{
  "cells": [
    {
      "cell_type": "markdown",
      "metadata": {
        "id": "TPvB1xoSUZhR"
      },
      "source": [
        "# Neural network to learn conservative-to-primitive conversion in relativistic hydrodynamics"
      ]
    },
    {
      "cell_type": "markdown",
      "metadata": {
        "id": "__fLZmSf4cm7"
      },
      "source": [
        "## How to use this notebook\n",
        "\n",
        "### Local installation\n",
        "\n",
        "1. Install required packages with `pip install -r requirements.txt` to your desired environment.\n",
        "2. If a script version of this notebook is desired, comment (not uncomment) the first line of `nbconvert` cell.\n",
        "\n",
        "### Colab installation\n",
        "\n",
        "1.  Comment (not uncomment) the first line of the drive mounting cell.\n",
        "2.  Comment (not uncomment) the first line of the `pip install` cell.\n",
        "\n",
        "<!-- - For colab we also want to set the runtime to GPU by clicking _Change runtime_ in the _Runtime_ menu, and -->\n",
        "<!-- - We want to wait for the google drive connection popup to appear and follow the instructions. -->\n",
        "\n",
        "### Loading / Generating data\n",
        "3. Set `LOAD_DATA_FROM_CSV` to `True` / `False` to load data from csv files / generate data in this notebook.\n",
        "\n",
        "### Training without optimization\n",
        "\n",
        "4. Set `OPTIMIZE = False` in section _Constants and flags to set_.\n",
        "5. Run the entire notebook.\n",
        "\n",
        "### Training with optimization\n",
        "\n",
        "4. Set `OPTIMIZE = True` in section _Constants and flags to set_.\n",
        "5. Run the entire notebook.\n",
        "\n",
        "### Loading an already trained model\n",
        "\n",
        "4. Run cells in section _Initialization_.\n",
        "5. Run cells with definitions in section _Input data and labels_.\n",
        "6. Run cell with the definition of _Net_ in section _Defining the neural network_.\n",
        "7. Make sure the `net.pth`, `optimizer.pth`, `scheduler.pth`, `var_dict.json` and `train_output.csv` files are in the directory containing this notebook.\n",
        "8. Run the cells in section _Loading_ and continue from there.\n",
        "\n",
        "### Generating the C++ model\n",
        "\n",
        "9. Run section _Porting the model to C++_, this requires a model to be loaded.\n",
        "10. Set the path to the `net.pt` file in the C++ source file.\n",
        "11. `mkdir build && cd build`,\n",
        "12. Configure a `CMakeLists.txt` file as is done [here](https://pytorch.org/cppdocs/installing.html).\n",
        "13. `cmake -DCMAKE_PREFIX_PATH=/path/to/libtorch/ ..`,\n",
        "14. Compile and run, e.g. `cmake --build . --config release && ./<executable name>`"
      ]
    },
    {
      "cell_type": "markdown",
      "metadata": {
        "id": "Ix44VuOJ4cm9"
      },
      "source": [
        "## Initialization\n",
        "\n",
        "---\n",
        "\n"
      ]
    },
    {
      "cell_type": "markdown",
      "metadata": {
        "id": "pKLcdI-F4cm_"
      },
      "source": [
        "\n",
        "\n",
        "1.   List item\n",
        "2.   List item\n",
        "\n",
        "\n",
        "Use this first cell to **convert this notebook** to a python script."
      ]
    },
    {
      "cell_type": "code",
      "execution_count": 42,
      "metadata": {
        "colab": {
          "base_uri": "https://localhost:8080/"
        },
        "id": "eqdgdNLHUZhV",
        "outputId": "4286afb1-0b6f-417d-9b78-130d82d7522f",
        "tags": [
          "remove_cell"
        ]
      },
      "outputs": [
        {
          "output_type": "stream",
          "name": "stdout",
          "text": [
            "skipping\n"
          ]
        }
      ],
      "source": [
        "%%script echo skipping\n",
        "\n",
        "!jupyter nbconvert GRMHD_ML.ipynb --TagRemovePreprocessor.enabled=True --TagRemovePreprocessor.remove_cell_tags='{\"remove_cell\"}' --to script"
      ]
    },
    {
      "cell_type": "markdown",
      "metadata": {
        "id": "nzcUr0LnUZhw"
      },
      "source": [
        "Next some cells for working on **google colab**,"
      ]
    },
    {
      "cell_type": "code",
      "execution_count": 43,
      "metadata": {
        "id": "6VBGn-gc4cnD"
      },
      "outputs": [],
      "source": [
        "import os\n",
        "import shutil\n",
        "\n",
        "# check if the drive is mounted\n",
        "drive_mounted = os.path.exists(\"/content/drive\")\n",
        "# change this to your desired folder\n",
        "drive_folder = \"/content/drive/My Drive/bsc/con2prim_GRMHD/1e5_runs/adjusted_lr_space_run\"\n",
        "\n",
        "# define a function to save a file to the drive or the current directory\n",
        "def save_file(file_name):\n",
        "  if drive_mounted:\n",
        "    # save the file to the drive folder\n",
        "    file_path = os.path.join(drive_folder, file_name)\n",
        "    # copy the file from the current directory to the drive folder\n",
        "    shutil.copyfile(file_name, file_path)\n",
        "  else:\n",
        "    # do nothing as the file is already in the current directory\n",
        "    pass\n"
      ]
    },
    {
      "cell_type": "code",
      "execution_count": 44,
      "metadata": {
        "colab": {
          "base_uri": "https://localhost:8080/"
        },
        "id": "ecHw2_xlUZhx",
        "outputId": "8f586f33-a54f-4a51-9184-08ff6def4ce9"
      },
      "outputs": [
        {
          "output_type": "stream",
          "name": "stdout",
          "text": [
            "Drive already mounted at /content/drive; to attempt to forcibly remount, call drive.mount(\"/content/drive\", force_remount=True).\n"
          ]
        }
      ],
      "source": [
        "#%%script echo skipping\n",
        "\n",
        "from google.colab import drive\n",
        "drive.mount('/content/drive')"
      ]
    },
    {
      "cell_type": "code",
      "execution_count": 45,
      "metadata": {
        "colab": {
          "base_uri": "https://localhost:8080/"
        },
        "id": "T1rcStMLUZhy",
        "outputId": "1d6df364-20e0-4a2e-e1a3-6565262f9e4d"
      },
      "outputs": [
        {
          "output_type": "stream",
          "name": "stdout",
          "text": [
            "Looking in indexes: https://pypi.org/simple, https://us-python.pkg.dev/colab-wheels/public/simple/\n",
            "Requirement already satisfied: optuna in /usr/local/lib/python3.10/dist-packages (3.2.0)\n",
            "Requirement already satisfied: tensorboard in /usr/local/lib/python3.10/dist-packages (2.12.2)\n",
            "Requirement already satisfied: tensorboardX in /usr/local/lib/python3.10/dist-packages (2.6)\n",
            "Requirement already satisfied: plotly in /usr/local/lib/python3.10/dist-packages (5.13.1)\n",
            "Requirement already satisfied: alembic>=1.5.0 in /usr/local/lib/python3.10/dist-packages (from optuna) (1.11.1)\n",
            "Requirement already satisfied: cmaes>=0.9.1 in /usr/local/lib/python3.10/dist-packages (from optuna) (0.9.1)\n",
            "Requirement already satisfied: colorlog in /usr/local/lib/python3.10/dist-packages (from optuna) (6.7.0)\n",
            "Requirement already satisfied: numpy in /usr/local/lib/python3.10/dist-packages (from optuna) (1.22.4)\n",
            "Requirement already satisfied: packaging>=20.0 in /usr/local/lib/python3.10/dist-packages (from optuna) (23.1)\n",
            "Requirement already satisfied: sqlalchemy>=1.3.0 in /usr/local/lib/python3.10/dist-packages (from optuna) (2.0.10)\n",
            "Requirement already satisfied: tqdm in /usr/local/lib/python3.10/dist-packages (from optuna) (4.65.0)\n",
            "Requirement already satisfied: PyYAML in /usr/local/lib/python3.10/dist-packages (from optuna) (6.0)\n",
            "\u001b[33mWARNING: optuna 3.2.0 does not provide the extra 'visualization'\u001b[0m\u001b[33m\n",
            "\u001b[0mRequirement already satisfied: absl-py>=0.4 in /usr/local/lib/python3.10/dist-packages (from tensorboard) (1.4.0)\n",
            "Requirement already satisfied: grpcio>=1.48.2 in /usr/local/lib/python3.10/dist-packages (from tensorboard) (1.54.0)\n",
            "Requirement already satisfied: google-auth<3,>=1.6.3 in /usr/local/lib/python3.10/dist-packages (from tensorboard) (2.17.3)\n",
            "Requirement already satisfied: google-auth-oauthlib<1.1,>=0.5 in /usr/local/lib/python3.10/dist-packages (from tensorboard) (1.0.0)\n",
            "Requirement already satisfied: markdown>=2.6.8 in /usr/local/lib/python3.10/dist-packages (from tensorboard) (3.4.3)\n",
            "Requirement already satisfied: protobuf>=3.19.6 in /usr/local/lib/python3.10/dist-packages (from tensorboard) (3.20.3)\n",
            "Requirement already satisfied: requests<3,>=2.21.0 in /usr/local/lib/python3.10/dist-packages (from tensorboard) (2.27.1)\n",
            "Requirement already satisfied: setuptools>=41.0.0 in /usr/local/lib/python3.10/dist-packages (from tensorboard) (67.7.2)\n",
            "Requirement already satisfied: tensorboard-data-server<0.8.0,>=0.7.0 in /usr/local/lib/python3.10/dist-packages (from tensorboard) (0.7.0)\n",
            "Requirement already satisfied: tensorboard-plugin-wit>=1.6.0 in /usr/local/lib/python3.10/dist-packages (from tensorboard) (1.8.1)\n",
            "Requirement already satisfied: werkzeug>=1.0.1 in /usr/local/lib/python3.10/dist-packages (from tensorboard) (2.3.0)\n",
            "Requirement already satisfied: wheel>=0.26 in /usr/local/lib/python3.10/dist-packages (from tensorboard) (0.40.0)\n",
            "Requirement already satisfied: tenacity>=6.2.0 in /usr/local/lib/python3.10/dist-packages (from plotly) (8.2.2)\n",
            "Requirement already satisfied: Mako in /usr/local/lib/python3.10/dist-packages (from alembic>=1.5.0->optuna) (1.2.4)\n",
            "Requirement already satisfied: typing-extensions>=4 in /usr/local/lib/python3.10/dist-packages (from alembic>=1.5.0->optuna) (4.5.0)\n",
            "Requirement already satisfied: cachetools<6.0,>=2.0.0 in /usr/local/lib/python3.10/dist-packages (from google-auth<3,>=1.6.3->tensorboard) (5.3.0)\n",
            "Requirement already satisfied: pyasn1-modules>=0.2.1 in /usr/local/lib/python3.10/dist-packages (from google-auth<3,>=1.6.3->tensorboard) (0.3.0)\n",
            "Requirement already satisfied: six>=1.9.0 in /usr/local/lib/python3.10/dist-packages (from google-auth<3,>=1.6.3->tensorboard) (1.16.0)\n",
            "Requirement already satisfied: rsa<5,>=3.1.4 in /usr/local/lib/python3.10/dist-packages (from google-auth<3,>=1.6.3->tensorboard) (4.9)\n",
            "Requirement already satisfied: requests-oauthlib>=0.7.0 in /usr/local/lib/python3.10/dist-packages (from google-auth-oauthlib<1.1,>=0.5->tensorboard) (1.3.1)\n",
            "Requirement already satisfied: urllib3<1.27,>=1.21.1 in /usr/local/lib/python3.10/dist-packages (from requests<3,>=2.21.0->tensorboard) (1.26.15)\n",
            "Requirement already satisfied: certifi>=2017.4.17 in /usr/local/lib/python3.10/dist-packages (from requests<3,>=2.21.0->tensorboard) (2022.12.7)\n",
            "Requirement already satisfied: charset-normalizer~=2.0.0 in /usr/local/lib/python3.10/dist-packages (from requests<3,>=2.21.0->tensorboard) (2.0.12)\n",
            "Requirement already satisfied: idna<4,>=2.5 in /usr/local/lib/python3.10/dist-packages (from requests<3,>=2.21.0->tensorboard) (3.4)\n",
            "Requirement already satisfied: greenlet!=0.4.17 in /usr/local/lib/python3.10/dist-packages (from sqlalchemy>=1.3.0->optuna) (2.0.2)\n",
            "Requirement already satisfied: MarkupSafe>=2.1.1 in /usr/local/lib/python3.10/dist-packages (from werkzeug>=1.0.1->tensorboard) (2.1.2)\n",
            "Requirement already satisfied: pyasn1<0.6.0,>=0.4.6 in /usr/local/lib/python3.10/dist-packages (from pyasn1-modules>=0.2.1->google-auth<3,>=1.6.3->tensorboard) (0.5.0)\n",
            "Requirement already satisfied: oauthlib>=3.0.0 in /usr/local/lib/python3.10/dist-packages (from requests-oauthlib>=0.7.0->google-auth-oauthlib<1.1,>=0.5->tensorboard) (3.2.2)\n"
          ]
        }
      ],
      "source": [
        "#%%script echo skipping\n",
        "\n",
        "!pip install optuna optuna[visualization] tensorboard tensorboardX plotly"
      ]
    },
    {
      "cell_type": "markdown",
      "metadata": {
        "id": "msDldnu_4cnF"
      },
      "source": [
        "Importing the **libraries**,"
      ]
    },
    {
      "cell_type": "code",
      "execution_count": 46,
      "metadata": {
        "id": "tREdWQUVUZhz"
      },
      "outputs": [],
      "source": [
        "import numpy as np\n",
        "import matplotlib.pyplot as plt\n",
        "import torch\n",
        "import torch.nn as nn\n",
        "import torch.optim as optim\n",
        "import torch.nn.functional as F\n",
        "import optuna\n",
        "import tensorboardX as tbx\n",
        "import pandas as p\n",
        "import pickle\n",
        "import json\n"
      ]
    },
    {
      "cell_type": "markdown",
      "metadata": {
        "id": "38GvmerjUZhz"
      },
      "source": [
        "### Constants and flags to set\n",
        "Defining some constants and parameters for convenience.\n",
        "\n",
        "**NOTE**: Some **subparameters** still need to be adjusted in the `create_model` function itself as of (Tue May 16 07:42:45 AM CEST 2023) in the case the model is being trained without optimization."
      ]
    },
    {
      "cell_type": "code",
      "execution_count": 47,
      "metadata": {
        "id": "ei6VZDYKUZh0"
      },
      "outputs": [],
      "source": [
        "\n",
        "# Checking if GPU is available and setting the device accordingly\n",
        "device = torch.device(\"cuda\" if torch.cuda.is_available() else \"cpu\")\n",
        "\n",
        "N_TRIALS = 300 # Number of trials for hyperparameter optimization # NOTE: Set this properly.\n",
        "OPTIMIZE = True # Whether to optimize the hyperparameters or to use predetermined values. # NOTE: Set this properly.\n",
        "ZSCORE_NORMALIZATION = False # Whether to z-score normalize the input data.\n",
        "LOAD_DATA_FROM_CSV = False  # If not true we generate the data in this file and save to {x_train,y_train,x_test,y_test}.csv, otherwise we load the data from files of the same name. # NOTE: Set this before properly.\n",
        "STUDY_NAME='1e5_run3_adjusted_lr_space'\n",
        "\n",
        "csv_filenames = { # File names to load input data and labels from if LOAD_DATA_FROM_CSV is True.\n",
        "    \"x_train\": \"x_train.csv\",\n",
        "    \"x_val\": \"x_val.csv\",\n",
        "    \"x_test\": \"x_test.csv\",\n",
        "    \"y_train\": \"y_train.csv\",\n",
        "    \"y_val\": \"y_val.csv\",\n",
        "    \"y_test\": \"y_test.csv\",\n",
        "}\n",
        "\n",
        "# Values to use for hyperparameters if OPTIMIZE is False; set these to the best parameters found by Optuna.\n",
        "# NOTE: TODO: Currently (Sat May 27 05:16:57 PM CEST 2023) there are still subparameters to be set in create_model function.\n",
        "N_LAYERS_NO_OPT = 3\n",
        "N_UNITS_NO_OPT = [555, 458, 115]\n",
        "HIDDEN_ACTIVATION_NAME_NO_OPT = \"LeakyReLU\"\n",
        "OUTPUT_ACTIVATION_NAME_NO_OPT = \"Linear\"\n",
        "LOSS_NAME_NO_OPT = \"Huber\"\n",
        "OPTIMIZER_NAME_NO_OPT = \"RMSprop\"\n",
        "LR_NO_OPT = 0.000122770896701404\n",
        "BATCH_SIZE_NO_OPT = 49\n",
        "N_EPOCHS_NO_OPT = 500 # NOTE: Set this properly.\n",
        "SCHEDULER_NAME_NO_OPT = \"ReduceLROnPlateau\"\n",
        "DROPOUT_RATE_NO_OPT = 0.2\n",
        "\n",
        "N_INPUTS = 14  # Number of input features.\n",
        "N_OUTPUTS = 1  # Number of outputs.\n",
        "Gamma = 5/3  # Adiabatic index\n",
        "\n",
        "n_samples = 1e5 # NOTE: Set this properly.\n",
        "train_frac = 0.7  # 70% of data for training\n",
        "val_frac = 0.15  # 15% of data for validation, rest for testing\n",
        "  \n",
        "rho_interval = (0, 2) \n",
        "epsilon_interval = (1e-2, 2000)  # Will be sampled in log space\n",
        "vx_interval = (0, 0.999)  \n",
        "vy_interval = (0, 0.999)  \n",
        "vz_interval = (0, 0.999)  \n",
        "Bx_interval = (-10, 10)  \n",
        "By_interval = (-10, 10)  \n",
        "Bz_interval = (-10, 10)  \n",
        "gxx_interval = (0.9, 1.1)\n",
        "gxy_interval = (0, 0.1)\n",
        "gxz_interval = (0, 0.1)\n",
        "gyy_interval = (0.9, 1.1)\n",
        "gyz_interval = (0, 0.1)\n",
        "gzz_interval = (0.9, 1.1)\n",
        "\n",
        "np.random.seed(90) # Comment for true random data.\n"
      ]
    },
    {
      "cell_type": "markdown",
      "metadata": {
        "id": "dlaP5UL2UZh1"
      },
      "source": [
        "## Input data and labels\n",
        "\n",
        "We either generate the data or load the data. First the definitions for generating the data come below."
      ]
    },
    {
      "cell_type": "code",
      "execution_count": 48,
      "metadata": {
        "id": "s_EvGFZcUZh1"
      },
      "outputs": [],
      "source": [
        "# Defining an analytic equation of state (EOS) for an ideal gas\n",
        "def eos_analytic(rho, epsilon):\n",
        "    # Adding some assertions to check that the input tensors are valid and have \n",
        "    # the expected shape and type \n",
        "    assert isinstance(rho, torch.Tensor), \"rho must be a torch.Tensor\"\n",
        "    assert isinstance(epsilon, torch.Tensor), \"epsilon must be a torch.Tensor\"\n",
        "    print('rho.shape: ', rho.shape)\n",
        "    print('epsilon.shape: ', epsilon.shape)\n",
        "    assert rho.shape == epsilon.shape, \"rho and epsilon must have the same shape\"\n",
        "    assert rho.ndim == 1, \"rho and epsilon must be one-dimensional tensors\"\n",
        "    assert rho.dtype == torch.float32, \"rho and epsilon must have dtype torch.float32\"\n",
        "\n",
        "    return (Gamma - 1) * rho * epsilon\n",
        "\n",
        "def sample_primitive_variables_and_metric():\n",
        "    rho = np.random.uniform(*rho_interval)  \n",
        "    epsilon = np.random.uniform(*np.log10(epsilon_interval))\n",
        "    vx = np.random.uniform(*vx_interval)  \n",
        "    vy = np.random.uniform(*vy_interval)  \n",
        "    vz = np.random.uniform(*vz_interval)  \n",
        "    Bx = np.random.uniform(*Bx_interval)  \n",
        "    By = np.random.uniform(*By_interval)  \n",
        "    Bz = np.random.uniform(*Bz_interval)  \n",
        "    gxx = np.random.uniform(*gxx_interval)\n",
        "    gxy = np.random.uniform(*gxy_interval)\n",
        "    gxz = np.random.uniform(*gxz_interval)\n",
        "    gyy = np.random.uniform(*gyy_interval)\n",
        "    gyz = np.random.uniform(*gyz_interval)\n",
        "    gzz = np.random.uniform(*gzz_interval)\n",
        "\n",
        "    return rho, epsilon, vx, vy, vz, Bx, By, Bz, gxx, gxy, gxz, gyy, gyz, gzz\n",
        "\n",
        "def check_sample(rho, epsilon, vx, vy, vz, Bx, By, Bz, gxx, gxy, gxz, gyy, gyz, gzz):\n",
        "    wtemp_expr = 1 - (gxx * vx**2 + gyy * vy**2 + gzz * vz**2 + 2 * gxy * vx * vy + 2 * gxz * vx * vz + 2 * gyz * vy * vz)\n",
        "    sdet_expr = gxx * gyy * gzz + 2 * gxy * gxz * gyz - gxx * gyz ** 2 - gyy * gxz ** 2 - gzz * gxy ** 2\n",
        "    if vx**2 + vy**2 + vz**2 >= 1 or wtemp_expr < 0 or sdet_expr < 0:\n",
        "        # print(f\"Sample failed checks. vx^2+vy^2+vz^2: {vx**2 + vy**2 + vz**2}, wtemp_expr: {wtemp_expr}, sdet_expr: {sdet_expr}\")\n",
        "        return False\n",
        "    else:\n",
        "        # print(f\"Sample passed checks. vx^2+vy^2+vz^2: {vx**2 + vy**2 + vz**2}, wtemp_expr: {wtemp_expr}, sdet_expr: {sdet_expr}\")\n",
        "        return True\n",
        "\n",
        "def generate_samples(n_samples):\n",
        "    samples = []\n",
        "    while len(samples) < n_samples:\n",
        "        sample = sample_primitive_variables_and_metric()\n",
        "        if check_sample(*sample):\n",
        "            samples.append(sample)\n",
        "        # print(f\"Number of valid samples: {len(samples)}\")\n",
        "    return zip(*samples)\n",
        "def sdet(gxx, gxy, gxz, gyy, gyz, gzz):\n",
        "    # Determinant of the three metric.\n",
        "    return (gxx * gyy * gzz + 2 * gxy * gxz * gyz - gxx * gyz ** 2 - gyy * gxz ** 2 - gzz * gxy ** 2) ** 0.5\n",
        "\n",
        "# Defining a function that computes conserved variables from primitive variables and the metric\n",
        "# We follow the source code of GRaM-X: A new GPU-accelerated dynamical spacetime GRMHD code for Exascale\n",
        "# computing with the Einstein Toolkit of Shankar et al.\n",
        "def compute_conserved_variables(rho, epsilon, vx, vy, vz, Bx, By, Bz, gxx, gxy, gxz, gyy, gyz, gzz):\n",
        "    pres = eos_analytic(rho, epsilon)\n",
        "    wtemp = 1 / (1 - (gxx * vx**2 + gyy * vy**2 + gzz * vz**2 +\n",
        "        2 * gxy * vx * vy + 2 * gxz * vx * vz +\n",
        "        2 * gyz * vy * vz))**0.5\n",
        "\n",
        "    vlowx = gxx * vx + gxy * vy + gxz * vz\n",
        "    vlowy = gxy * vx + gyy * vy + gyz * vz\n",
        "    vlowz = gxz * vx + gyz * vy + gzz * vz\n",
        "\n",
        "    Bxlow = gxx * Bx + gxy * By + gxz * Bz\n",
        "    Bylow = gxy * Bx + gyy * By + gyz * Bz\n",
        "    Bzlow = gxz * Bx + gyz * By + gzz * Bz\n",
        "\n",
        "    B2 = Bxlow * Bx + Bylow * By + Bzlow * Bz\n",
        "\n",
        "    Bdotv = Bxlow * vx + Bylow * vy + Bzlow * vz\n",
        "    Bdotv2 = Bdotv * Bdotv\n",
        "    wtemp2 = wtemp * wtemp\n",
        "    b2 = B2 / wtemp2 + Bdotv2\n",
        "    ab0 = wtemp * Bdotv\n",
        "\n",
        "    blowx = (gxx * Bx + gxy * By + gxz * Bz) / wtemp + wtemp * Bdotv * vlowx\n",
        "    blowy = (gxy * Bx + gyy * By + gyz * Bz) / wtemp + wtemp * Bdotv * vlowy\n",
        "    blowz = (gxz * Bx + gyz * By + gzz * Bz) / wtemp + wtemp * Bdotv * vlowz\n",
        "\n",
        "    hrhow2 = (rho * (1 + epsilon) + pres + b2) * (wtemp) * (wtemp)\n",
        "\n",
        "    D = sdet(gxx, gxy, gxz, gyy, gyz, gzz) * rho * (wtemp)\n",
        "    Sx = sdet(gxx, gxy, gxz, gyy, gyz, gzz) * (hrhow2 * vlowx - ab0 * blowx)\n",
        "    Sy = sdet(gxx, gxy, gxz, gyy, gyz, gzz) * (hrhow2 * vlowy - ab0 * blowy)\n",
        "    Sz = sdet(gxx, gxy, gxz, gyy, gyz, gzz) * (hrhow2 * vlowz - ab0 * blowz)\n",
        "    tau = sdet(gxx, gxy, gxz, gyy, gyz, gzz) * (hrhow2 - pres - b2 / 2 - ab0 * ab0) - D\n",
        "    Bconsx = sdet(gxx, gxy, gxz, gyy, gyz, gzz) * Bx\n",
        "    Bconsy = sdet(gxx, gxy, gxz, gyy, gyz, gzz) * By\n",
        "    Bconsz = sdet(gxx, gxy, gxz, gyy, gyz, gzz) * Bz\n",
        "\n",
        "    return D, Sx, Sy, Sz, tau, Bconsx, Bconsy, Bconsz\n",
        "\n",
        "def generate_input_data(rho, epsilon, vx, vy, vz, Bx, By, Bz, gxx, gxy, gxz, gyy, gyz, gzz):\n",
        "    rho = torch.tensor(np.array(rho), dtype=torch.float32).to(device)\n",
        "    epsilon = torch.tensor(np.array(epsilon), dtype=torch.float32).to(device)\n",
        "    vx = torch.tensor(np.array(vx), dtype=torch.float32).to(device)\n",
        "    vy = torch.tensor(np.array(vy), dtype=torch.float32).to(device)\n",
        "    vz = torch.tensor(np.array(vz), dtype=torch.float32).to(device)\n",
        "    Bx = torch.tensor(np.array(Bx), dtype=torch.float32).to(device)\n",
        "    By = torch.tensor(np.array(By), dtype=torch.float32).to(device)\n",
        "    Bz = torch.tensor(np.array(Bz), dtype=torch.float32).to(device)\n",
        "    gxx = torch.tensor(np.array(gxx), dtype=torch.float32).to(device)\n",
        "    gxy = torch.tensor(np.array(gxy), dtype=torch.float32).to(device)\n",
        "    gxz = torch.tensor(np.array(gxz), dtype=torch.float32).to(device)\n",
        "    gyy = torch.tensor(np.array(gyy), dtype=torch.float32).to(device)\n",
        "    gyz = torch.tensor(np.array(gyz), dtype=torch.float32).to(device)\n",
        "    gzz = torch.tensor(np.array(gzz), dtype=torch.float32).to(device)\n",
        "\n",
        "    D, Sx, Sy, Sz, tau, Bscriptx, Bscripty, Bscriptz = compute_conserved_variables(\n",
        "        rho, epsilon, vx, vy, vz, Bx, By, Bz, gxx, gxy, gxz, gyy, gyz, gzz\n",
        "    ) \n",
        "\n",
        "    # Add gxx, gxy, gxz, gyy, gyz, gzz to the tensor\n",
        "    x = torch.stack([D, Sx, Sy, Sz, tau, Bscriptx, Bscripty, Bscriptz, gxx, gxy, gxz, gyy, gyz, gzz], axis=1)\n",
        "    return x\n",
        "\n",
        "# Defining a function that generates output data (labels) from given samples of primitive variables\n",
        "# We use the definitions as given in Recovery schemes for primitive variables in\n",
        "# general-relativistic magnetohydrodynamics of Siegel et al.\n",
        "def generate_labels(rho, epsilon, vx, vy, vz):\n",
        "    # Converting the numpy arrays to torch tensors and moving them to the device\n",
        "    rho = torch.tensor(np.array(rho), dtype=torch.float32).to(device)\n",
        "    epsilon = torch.tensor(np.array(epsilon), dtype=torch.float32).to(device)\n",
        "    vx = torch.tensor(np.array(vx), dtype=torch.float32).to(device)\n",
        "    vy = torch.tensor(np.array(vy), dtype=torch.float32).to(device)\n",
        "    vz = torch.tensor(np.array(vz), dtype=torch.float32).to(device)\n",
        "\n",
        "    # Computing the required quantities\n",
        "    pres = eos_analytic(rho, epsilon)\n",
        "    h = 1 + epsilon + pres / rho\n",
        "    W = 1 / torch.sqrt(1 - (vx * vx + vy * vy + vz * vz))\n",
        "\n",
        "    # Returning the output data tensor\n",
        "    return h * W"
      ]
    },
    {
      "cell_type": "markdown",
      "metadata": {
        "id": "SSJd2Ch74cnI"
      },
      "source": [
        "### Generating or loading input data and labels"
      ]
    },
    {
      "cell_type": "code",
      "execution_count": 49,
      "metadata": {
        "id": "Dbu0GvMz4cnI"
      },
      "outputs": [],
      "source": [
        "%config InteractiveShell.ast_node_interactivity = \"all\""
      ]
    },
    {
      "cell_type": "code",
      "execution_count": 50,
      "metadata": {
        "id": "cKubR6C8UZh4"
      },
      "outputs": [],
      "source": [
        "if LOAD_DATA_FROM_CSV:\n",
        "    # Load the data from CSV files\n",
        "    x_train = pd.read_csv(csv_filenames[\"x_train\"]).values\n",
        "    y_train = pd.read_csv(csv_filenames[\"y_train\"]).values.squeeze()  # reshape to 1D\n",
        "    x_val = pd.read_csv(csv_filenames[\"x_val\"]).values\n",
        "    y_val = pd.read_csv(csv_filenames[\"y_val\"]).values.squeeze()  # reshape to 1D\n",
        "    x_test = pd.read_csv(csv_filenames[\"x_test\"]).values\n",
        "    y_test = pd.read_csv(csv_filenames[\"y_test\"]).values.squeeze()  # reshape to 1D\n",
        "\n",
        "    # Convert numpy arrays to tensors\n",
        "    x_train = torch.from_numpy(x_train).float().to(device)\n",
        "    y_train = torch.from_numpy(y_train).float().to(device)\n",
        "    x_val = torch.from_numpy(x_val).float().to(device)\n",
        "    y_val = torch.from_numpy(y_val).float().to(device)\n",
        "    x_test = torch.from_numpy(x_test).float().to(device)\n",
        "    y_test = torch.from_numpy(y_test).float().to(device)\n",
        "\n",
        "    # This is an alternative to having if clauses around the cells that visualize these variables.\n",
        "    rho = epsilon = vx = vy = vz = Bx = By = Bz = gxx = gxy = gxz = gyy = gyz  = gzz = None"
      ]
    },
    {
      "cell_type": "code",
      "execution_count": 51,
      "metadata": {
        "id": "dImVa4W04cnJ"
      },
      "outputs": [],
      "source": [
        "if not LOAD_DATA_FROM_CSV:\n",
        "    # Sample primitive variables and metric\n",
        "    rho, epsilon, vx, vy, vz, Bx, By, Bz, gxx, gxy, gxz, gyy, gyz, gzz = generate_samples(n_samples)"
      ]
    },
    {
      "cell_type": "code",
      "execution_count": 52,
      "metadata": {
        "id": "ESK3LQPg4cnJ",
        "outputId": "85bb1fcf-11d3-453f-c3c1-2415ec842115",
        "colab": {
          "base_uri": "https://localhost:8080/"
        }
      },
      "outputs": [
        {
          "output_type": "stream",
          "name": "stdout",
          "text": [
            "rho.shape:  torch.Size([100000])\n",
            "epsilon.shape:  torch.Size([100000])\n",
            "rho.shape:  torch.Size([100000])\n",
            "epsilon.shape:  torch.Size([100000])\n"
          ]
        }
      ],
      "source": [
        "if not LOAD_DATA_FROM_CSV:\n",
        "    # Generate data and labels.\n",
        "    x = generate_input_data(rho, epsilon, vx, vy, vz, Bx, By, Bz, gxx, gxy, gxz, gyy, gyz, gzz)\n",
        "    y = generate_labels(rho, epsilon, vx, vy, vz)\n",
        "\n",
        "    # Calculate the number of samples in each set\n",
        "    n_train_samples = int(n_samples * train_frac)\n",
        "    n_val_samples = int(n_samples * val_frac)\n",
        "\n",
        "    # Create the data sets\n",
        "    x_train = x[:n_train_samples]\n",
        "    y_train = y[:n_train_samples]\n",
        "    x_val = x[n_train_samples : n_train_samples + n_val_samples]\n",
        "    y_val = y[n_train_samples : n_train_samples + n_val_samples]\n",
        "    x_test = x[n_train_samples + n_val_samples :]\n",
        "    y_test = y[n_train_samples + n_val_samples :]\n",
        "\n",
        "    # Save the data to CSV files; tensors need to be converted numpy arrays for saving in CSV.\n",
        "    pd.DataFrame(x_train.cpu().numpy()).to_csv(csv_filenames[\"x_train\"], index=False)\n",
        "    save_file(csv_filenames[\"x_train\"])\n",
        "    pd.DataFrame(y_train.cpu().numpy()).to_csv(csv_filenames[\"y_train\"], index=False)\n",
        "    save_file(csv_filenames[\"y_train\"])\n",
        "\n",
        "    pd.DataFrame(x_val.cpu().numpy()).to_csv(csv_filenames[\"x_val\"], index=False)\n",
        "    save_file(csv_filenames[\"x_val\"])\n",
        "    pd.DataFrame(y_val.cpu().numpy()).to_csv(csv_filenames[\"y_val\"], index=False)\n",
        "    save_file(csv_filenames[\"y_val\"])\n",
        "\n",
        "    pd.DataFrame(x_test.cpu().numpy()).to_csv(csv_filenames[\"x_test\"], index=False)\n",
        "    save_file(csv_filenames[\"x_test\"])\n",
        "    pd.DataFrame(y_test.cpu().numpy()).to_csv(csv_filenames[\"y_test\"], index=False)\n",
        "    save_file(csv_filenames[\"y_test\"])"
      ]
    },
    {
      "cell_type": "code",
      "execution_count": 53,
      "metadata": {
        "id": "Y-3DG_h24cnJ",
        "outputId": "93dce24e-0955-4d94-abf4-fa4a11b75ea8",
        "colab": {
          "base_uri": "https://localhost:8080/"
        }
      },
      "outputs": [
        {
          "output_type": "execute_result",
          "data": {
            "text/plain": [
              "torch.Size([70000, 14])"
            ]
          },
          "metadata": {},
          "execution_count": 53
        },
        {
          "output_type": "execute_result",
          "data": {
            "text/plain": [
              "torch.Size([70000])"
            ]
          },
          "metadata": {},
          "execution_count": 53
        },
        {
          "output_type": "execute_result",
          "data": {
            "text/plain": [
              "torch.Size([15000, 14])"
            ]
          },
          "metadata": {},
          "execution_count": 53
        },
        {
          "output_type": "execute_result",
          "data": {
            "text/plain": [
              "torch.Size([15000])"
            ]
          },
          "metadata": {},
          "execution_count": 53
        },
        {
          "output_type": "execute_result",
          "data": {
            "text/plain": [
              "torch.Size([15000, 14])"
            ]
          },
          "metadata": {},
          "execution_count": 53
        },
        {
          "output_type": "execute_result",
          "data": {
            "text/plain": [
              "torch.Size([15000])"
            ]
          },
          "metadata": {},
          "execution_count": 53
        },
        {
          "output_type": "execute_result",
          "data": {
            "text/plain": [
              "tensor([[ 1.6861e+00, -5.2044e+00,  8.6358e+01,  ...,  1.0787e+00,\n",
              "          1.4506e-02,  9.9995e-01],\n",
              "        [ 2.0936e+00, -9.6770e+00,  1.6544e+01,  ...,  1.0097e+00,\n",
              "          5.9724e-02,  1.0980e+00],\n",
              "        [ 2.3593e+00,  5.4371e+00,  2.1483e+01,  ...,  1.0691e+00,\n",
              "          3.6555e-03,  1.0957e+00],\n",
              "        ...,\n",
              "        [ 7.4301e-01,  6.3514e+01,  6.3561e+01,  ...,  9.7499e-01,\n",
              "          2.4647e-02,  1.0345e+00],\n",
              "        [ 3.0585e-01,  7.9246e+01,  8.5895e+01,  ...,  9.1809e-01,\n",
              "          1.1873e-02,  1.0849e+00],\n",
              "        [ 1.5033e+00,  4.9815e+01,  7.9091e+01,  ...,  9.6249e-01,\n",
              "          1.0707e-02,  1.0755e+00]], device='cuda:0')"
            ]
          },
          "metadata": {},
          "execution_count": 53
        },
        {
          "output_type": "execute_result",
          "data": {
            "text/plain": [
              "tensor([6.9363, 1.1648, 1.6041,  ..., 9.9745, 8.7113, 0.9716], device='cuda:0')"
            ]
          },
          "metadata": {},
          "execution_count": 53
        },
        {
          "output_type": "execute_result",
          "data": {
            "text/plain": [
              "tensor([[ 8.5444e-01, -4.6184e-01,  3.3304e+00,  ...,  1.0558e+00,\n",
              "          5.0005e-03,  9.4565e-01],\n",
              "        [ 6.5924e+00,  4.5804e+01,  9.7486e+01,  ...,  1.0991e+00,\n",
              "          4.1349e-02,  1.0420e+00],\n",
              "        [ 3.1916e-01,  1.7403e+01,  6.6573e+00,  ...,  1.0215e+00,\n",
              "          3.1964e-02,  9.0612e-01],\n",
              "        ...,\n",
              "        [ 9.6923e+00,  3.4566e+02,  2.4748e+02,  ...,  1.0626e+00,\n",
              "          5.0385e-02,  9.1990e-01],\n",
              "        [ 1.8820e+00,  3.3314e+01,  4.7614e+01,  ...,  9.5643e-01,\n",
              "          8.0364e-02,  9.1614e-01],\n",
              "        [ 3.9086e-01,  2.3459e+00,  4.6569e+00,  ...,  9.9359e-01,\n",
              "          4.4141e-02,  9.8528e-01]], device='cuda:0')"
            ]
          },
          "metadata": {},
          "execution_count": 53
        },
        {
          "output_type": "execute_result",
          "data": {
            "text/plain": [
              "tensor([-1.5792,  1.5720,  9.6449,  ..., 17.9289,  2.8685,  8.4764],\n",
              "       device='cuda:0')"
            ]
          },
          "metadata": {},
          "execution_count": 53
        },
        {
          "output_type": "execute_result",
          "data": {
            "text/plain": [
              "tensor([[ 2.4931e+00,  5.3326e+01,  7.0436e+01,  ...,  1.0938e+00,\n",
              "          2.2132e-02,  9.6020e-01],\n",
              "        [ 2.2052e+00,  4.6143e+00,  6.0399e+00,  ...,  1.0996e+00,\n",
              "          5.7662e-02,  9.4942e-01],\n",
              "        [ 2.7273e+00,  6.3765e+01,  7.8141e+01,  ...,  9.1414e-01,\n",
              "          1.4861e-02,  9.2366e-01],\n",
              "        ...,\n",
              "        [ 7.1729e-01, -4.4299e-01,  1.0235e+02,  ...,  9.9675e-01,\n",
              "          5.2916e-02,  1.0159e+00],\n",
              "        [ 2.9072e+00,  6.8404e+01,  7.8916e+01,  ...,  1.0503e+00,\n",
              "          1.9717e-02,  1.0053e+00],\n",
              "        [ 2.0344e+00,  3.0615e+01,  9.6121e+00,  ...,  1.0156e+00,\n",
              "          2.1312e-02,  9.9413e-01]], device='cuda:0')"
            ]
          },
          "metadata": {},
          "execution_count": 53
        },
        {
          "output_type": "execute_result",
          "data": {
            "text/plain": [
              "tensor([ 5.3361,  3.1923,  1.0912,  ..., -1.7641,  7.7399,  3.9603],\n",
              "       device='cuda:0')"
            ]
          },
          "metadata": {},
          "execution_count": 53
        }
      ],
      "source": [
        "\n",
        "x_train.shape\n",
        "y_train.shape\n",
        "x_val.shape\n",
        "y_val.shape\n",
        "x_test.shape\n",
        "y_test.shape\n",
        "x_train\n",
        "y_train\n",
        "x_val\n",
        "y_val\n",
        "x_test\n",
        "y_test"
      ]
    },
    {
      "cell_type": "code",
      "execution_count": 54,
      "metadata": {
        "id": "xdpjCNO94cnK",
        "outputId": "1899ef2b-86b1-47da-b595-b58ed1bae186",
        "colab": {
          "base_uri": "https://localhost:8080/"
        }
      },
      "outputs": [
        {
          "output_type": "execute_result",
          "data": {
            "text/plain": [
              "tensor(False, device='cuda:0')"
            ]
          },
          "metadata": {},
          "execution_count": 54
        },
        {
          "output_type": "execute_result",
          "data": {
            "text/plain": [
              "tensor(False, device='cuda:0')"
            ]
          },
          "metadata": {},
          "execution_count": 54
        },
        {
          "output_type": "execute_result",
          "data": {
            "text/plain": [
              "tensor(False, device='cuda:0')"
            ]
          },
          "metadata": {},
          "execution_count": 54
        },
        {
          "output_type": "execute_result",
          "data": {
            "text/plain": [
              "tensor(False, device='cuda:0')"
            ]
          },
          "metadata": {},
          "execution_count": 54
        },
        {
          "output_type": "execute_result",
          "data": {
            "text/plain": [
              "tensor(False, device='cuda:0')"
            ]
          },
          "metadata": {},
          "execution_count": 54
        },
        {
          "output_type": "execute_result",
          "data": {
            "text/plain": [
              "tensor(False, device='cuda:0')"
            ]
          },
          "metadata": {},
          "execution_count": 54
        }
      ],
      "source": [
        "torch.isnan(x_train).any()\n",
        "torch.isnan(x_val).any()\n",
        "torch.isnan(x_test).any()\n",
        "torch.isnan(y_train).any()\n",
        "torch.isnan(y_val).any()\n",
        "torch.isnan(y_test).any()"
      ]
    },
    {
      "cell_type": "code",
      "execution_count": 55,
      "metadata": {
        "id": "X1uRb5P04cnK",
        "outputId": "ba7c21f3-ad64-431d-f27b-b093af4bf6d6",
        "colab": {
          "base_uri": "https://localhost:8080/"
        }
      },
      "outputs": [
        {
          "output_type": "execute_result",
          "data": {
            "text/plain": [
              "(tensor([], device='cuda:0', dtype=torch.int64),\n",
              " tensor([], device='cuda:0', dtype=torch.int64))"
            ]
          },
          "metadata": {},
          "execution_count": 55
        },
        {
          "output_type": "execute_result",
          "data": {
            "text/plain": [
              "(tensor([], device='cuda:0', dtype=torch.int64),\n",
              " tensor([], device='cuda:0', dtype=torch.int64))"
            ]
          },
          "metadata": {},
          "execution_count": 55
        },
        {
          "output_type": "execute_result",
          "data": {
            "text/plain": [
              "(tensor([], device='cuda:0', dtype=torch.int64),\n",
              " tensor([], device='cuda:0', dtype=torch.int64))"
            ]
          },
          "metadata": {},
          "execution_count": 55
        }
      ],
      "source": [
        "nan_mask_train = torch.isnan(x_train)     # get a boolean mask indicating NaN values\n",
        "nan_indices_train = torch.where(nan_mask_train)  # get the indices of the NaN values\n",
        "nan_indices_train\n",
        "# len(nan_indices_train)\n",
        "\n",
        "nan_mask_val = torch.isnan(x_val)     # get a boolean mask indicating NaN values\n",
        "nan_indices_val = torch.where(nan_mask_val)  # get the indices of the NaN values\n",
        "nan_indices_val\n",
        "# len(nan_indices_test)\n",
        "\n",
        "nan_mask_test = torch.isnan(x_test)     # get a boolean mask indicating NaN values\n",
        "nan_indices_test = torch.where(nan_mask_test)  # get the indices of the NaN values\n",
        "nan_indices_test\n",
        "# len(nan_indices_test)"
      ]
    },
    {
      "cell_type": "markdown",
      "metadata": {
        "id": "HC0o0Myn4cnK"
      },
      "source": [
        "## Visualizing the data"
      ]
    },
    {
      "cell_type": "markdown",
      "metadata": {
        "id": "Myrn0owg4cnL"
      },
      "source": [
        "### Visualizing sampled data"
      ]
    },
    {
      "cell_type": "code",
      "execution_count": 56,
      "metadata": {
        "id": "5CXNfzzz4cnL",
        "outputId": "3c8da411-ba40-4964-cf31-b042012fdd57",
        "colab": {
          "base_uri": "https://localhost:8080/"
        }
      },
      "outputs": [
        {
          "output_type": "stream",
          "name": "stdout",
          "text": [
            "skipping\n"
          ]
        }
      ],
      "source": [
        "%%script echo skipping\n",
        "\n",
        "if not LOAD_DATA_FROM_CSV:\n",
        "    rho\n",
        "    epsilon\n",
        "    vx\n",
        "    vy\n",
        "    vz \n",
        "    Bx\n",
        "    By\n",
        "    Bz\n",
        "    gxx\n",
        "    gxy\n",
        "    gxz\n",
        "    gyy\n",
        "    gyz\n",
        "    gzz "
      ]
    },
    {
      "cell_type": "code",
      "execution_count": 57,
      "metadata": {
        "id": "jEj1uLoV4cnL",
        "outputId": "ff277367-4833-4e8d-b104-f6f680e78010",
        "colab": {
          "base_uri": "https://localhost:8080/"
        }
      },
      "outputs": [
        {
          "output_type": "stream",
          "name": "stdout",
          "text": [
            "100000\n",
            "100000\n",
            "100000\n",
            "100000\n",
            "100000\n",
            "100000\n",
            "100000\n",
            "100000\n",
            "\n",
            "100000\n",
            "100000\n",
            "100000\n",
            "100000\n",
            "100000\n",
            "100000\n"
          ]
        }
      ],
      "source": [
        "if not LOAD_DATA_FROM_CSV:\n",
        "    print(len(rho))\n",
        "    print(len(epsilon))\n",
        "    print(len(vx))\n",
        "    print(len(vy))\n",
        "    print(len(vz))\n",
        "    print(len(Bx))\n",
        "    print(len(By))\n",
        "    print(len(Bz))\n",
        "    print()\n",
        "    print(len(gxx))\n",
        "    print(len(gxy))\n",
        "    print(len(gxz))\n",
        "    print(len(gyy))\n",
        "    print(len(gyz))\n",
        "    print(len(gzz))"
      ]
    },
    {
      "cell_type": "code",
      "execution_count": 58,
      "metadata": {
        "id": "VMp6XJ6RUZh4"
      },
      "outputs": [],
      "source": [
        "%config InteractiveShell.ast_node_interactivity = \"last_expr_or_assign\""
      ]
    },
    {
      "cell_type": "code",
      "execution_count": 59,
      "metadata": {
        "id": "F6urnHAr4cnM",
        "outputId": "30b84688-ab07-4766-8adb-e3fa4ae528d2",
        "colab": {
          "base_uri": "https://localhost:8080/"
        }
      },
      "outputs": [
        {
          "output_type": "stream",
          "name": "stdout",
          "text": [
            "skipping\n"
          ]
        }
      ],
      "source": [
        "%%script echo skipping\n",
        "\n",
        "plt.hist([np.random.uniform(0, 0.999) for _ in range(n_train_samples)], bins=20)"
      ]
    },
    {
      "cell_type": "code",
      "execution_count": 60,
      "metadata": {
        "id": "2iNL6ULb4cnM",
        "outputId": "cf6845ea-ca02-47be-efaf-70f7cdc01d62",
        "colab": {
          "base_uri": "https://localhost:8080/"
        }
      },
      "outputs": [
        {
          "output_type": "stream",
          "name": "stdout",
          "text": [
            "skipping\n"
          ]
        }
      ],
      "source": [
        "%%script echo skipping\n",
        "\n",
        "epsilon"
      ]
    },
    {
      "cell_type": "markdown",
      "metadata": {
        "id": "hydjma5V4cnM"
      },
      "source": [
        "The reason the sampling is not uniformly distributed in the following plots is due to the resampling and the fact that we certain values of e.g. velocity are more likely to violate the speed of light constraint than others."
      ]
    },
    {
      "cell_type": "code",
      "execution_count": 61,
      "metadata": {
        "colab": {
          "base_uri": "https://localhost:8080/",
          "height": 827
        },
        "id": "E5YFdqKjUZh5",
        "outputId": "1d7dcd1a-f3c6-4514-ae70-e82078595042"
      },
      "outputs": [
        {
          "output_type": "display_data",
          "data": {
            "text/plain": [
              "<Figure size 2000x1600 with 14 Axes>"
            ],
            "image/png": "[encoded data removed]"
          },
          "metadata": {}
        }
      ],
      "source": [
        "#%%script echo skipping\n",
        "\n",
        "if not LOAD_DATA_FROM_CSV:\n",
        "    def plot_histogram(data, xlabel, ylabel, position, bins=20, xlog_scale=False, ylog_scale=False):\n",
        "        plt.subplot(4, 5, position)\n",
        "        plt.hist(data, bins=bins)\n",
        "        plt.xlabel(xlabel)\n",
        "        plt.ylabel(ylabel)\n",
        "        if xlog_scale: # Setting does not work expected for epsilon.\n",
        "            plt.xscale(\"log\")\n",
        "        if ylog_scale: # Setting does not work expected for epsilon.\n",
        "            plt.yscale(\"log\")\n",
        "\n",
        "    # Plotting the histograms of rho, vx, epsilon, b0, b1, b2, and b3\n",
        "    bins = 20\n",
        "    plt.figure(figsize=(20, 16))\n",
        "\n",
        "    plot_histogram(rho, \"rho\", \"Frequency\", 1, bins=bins)\n",
        "    plot_histogram(epsilon, \"epsilon\", \"Frequency\", 2, bins=bins)\n",
        "    plot_histogram(vx, \"vx\", \"Frequency\", 3, bins=bins)\n",
        "    plot_histogram(vy, \"vy\", \"Frequency\", 4, bins=bins)\n",
        "    plot_histogram(vz, \"vz\", \"Frequency\", 5, bins=bins)\n",
        "    plot_histogram(Bx, \"Bx\", \"Frequency\", 6, bins=bins)\n",
        "    plot_histogram(By, \"By\", \"Frequency\", 7, bins=bins)\n",
        "    plot_histogram(Bz, \"Bz\", \"Frequency\", 8, bins=bins)\n",
        "\n",
        "    # Plot these\n",
        "    plot_histogram(gxx, \"gxx\", \"Frequency\", 9, bins=bins)\n",
        "    plot_histogram(gxy, \"gxy\", \"Frequency\", 10, bins=bins)\n",
        "    plot_histogram(gxz, \"gxz\", \"Frequency\", 11, bins=bins)\n",
        "    plot_histogram(gyy, \"gyy\", \"Frequency\", 12, bins=bins)\n",
        "    plot_histogram(gyz, \"gyz\", \"Frequency\", 13, bins=bins)\n",
        "    plot_histogram(gzz, \"gzz\", \"Frequency\", 14, bins=bins)\n",
        "\n",
        "\n",
        "    plt.suptitle(\"Primitive variables and metric\")\n",
        "    plt.tight_layout()\n",
        "    plt.show()\n"
      ]
    },
    {
      "cell_type": "code",
      "execution_count": 62,
      "metadata": {
        "id": "sUNNNX5e4cnN"
      },
      "outputs": [],
      "source": [
        "%config InteractiveShell.ast_node_interactivity = \"last_expr_or_assign\""
      ]
    },
    {
      "cell_type": "code",
      "execution_count": 63,
      "metadata": {
        "id": "et4AFTXb4cnN",
        "outputId": "7759ff6b-2ce4-4805-af5f-707ce578c83a",
        "colab": {
          "base_uri": "https://localhost:8080/",
          "height": 1000
        }
      },
      "outputs": [
        {
          "output_type": "display_data",
          "data": {
            "text/plain": [
              "<Figure size 1600x1600 with 14 Axes>"
            ],
            "image/png": "[encoded data removed]"
          },
          "metadata": {}
        }
      ],
      "source": [
        "#%%script echo skipping\n",
        "\n",
        "# Variable names\n",
        "variable_names = [\"D\", \"Sx\", \"Sy\", \"Sz\", \"tau\", \"Bconsx\", \"Bconsy\", \"Bconsz\", \"gxx\", \"gxy\", \"gxz\", \"gyy\", \"gyz\", \"gzz\"]\n",
        "\n",
        "# Plotting histograms of the input variables before z-score normalization\n",
        "plt.figure(figsize=(16, 16))\n",
        "plt.suptitle('Histograms of input variables before (or without at all) z-score normalization', y=1.03)\n",
        "\n",
        "for i in range(N_INPUTS):\n",
        "    plt.subplot(7, 2, i+1)\n",
        "    data = x_train[:, i].cpu().numpy() # Convert tensor to numpy array for percentile calculation\n",
        "    lower_bound, upper_bound = np.percentile(data, [1, 100]) # NOTE: Use this instead to visualize all the data.\n",
        "    # lower_bound, upper_bound = np.percentile(data, [1, 90]) # Calculate 1st and 99th percentile\n",
        "\n",
        "    plt.hist(data, bins=50, range=(lower_bound, upper_bound)) # Set range to the calculated percentile range\n",
        "    plt.xlabel(variable_names[i])\n",
        "    plt.xlim(lower_bound, upper_bound) # Set the x limit to match the range of the histogram\n",
        "\n",
        "plt.subplots_adjust(hspace=0.4, wspace=0.4)\n",
        "plt.show()\n",
        "\n",
        "# Same plotting but for the test data. Adjust the percentile range as needed to zoom in.\n",
        "# plt.figure(figsize=(16, 16))\n",
        "# plt.suptitle('Histograms of input variables before (or without at all) z-score normalization (test data)', y=1.03)\n",
        "\n",
        "# for i in range(14):\n",
        "#     plt.subplot(7, 2, i+1)\n",
        "#     data = x_test[:, i].cpu().numpy() # Convert tensor to numpy array for percentile calculation\n",
        "#     #lower_bound, upper_bound = np.percentile(data, [1, 100]) # NOTE: Use this instead to visualize all the data.\n",
        "#     lower_bound, upper_bound = np.percentile(data, [1, 99]) # Use this to zoom in.\n",
        "\n",
        "#     plt.hist(data, bins=50, range=(lower_bound, upper_bound)) # Set range to the calculated percentile range\n",
        "#     plt.xlabel(variable_names[i])\n",
        "#     plt.xlim(lower_bound, upper_bound) # Set the x limit to match the range of the histogram\n",
        "\n",
        "# plt.subplots_adjust(hspace=0.4, wspace=0.4)\n",
        "# plt.show()\n",
        "\n"
      ]
    },
    {
      "cell_type": "markdown",
      "metadata": {
        "id": "oQ8r4X8b4cnO"
      },
      "source": [
        "### Data normalization"
      ]
    },
    {
      "cell_type": "code",
      "execution_count": 64,
      "metadata": {
        "id": "QBlz2cHo4cnO",
        "outputId": "0df52d5f-15d0-4bec-d943-6c1862d9a845",
        "colab": {
          "base_uri": "https://localhost:8080/"
        }
      },
      "outputs": [
        {
          "output_type": "stream",
          "name": "stdout",
          "text": [
            "Summary statistics of input variables before z-score normalization\n",
            "tensor([[ 4.2201e-06,  5.7842e+02,  2.2967e+00,  1.6707e+00,  4.9866e+00],\n",
            "        [-7.7676e+03,  7.6675e+05,  5.6739e+01,  2.1880e+01,  3.2947e+03],\n",
            "        [-3.3196e+04,  6.4735e+05,  5.8090e+01,  2.1947e+01,  2.9885e+03],\n",
            "        [-1.3116e+04,  2.2739e+05,  4.9239e+01,  2.2049e+01,  1.5377e+03],\n",
            "        [-3.5070e+04,  9.8076e+05,  1.2173e+02,  6.9553e+01,  4.5265e+03],\n",
            "        [-1.1238e+01,  1.1252e+01,  2.7076e-03,  1.6268e-02,  5.7275e+00],\n",
            "        [-1.1285e+01,  1.1181e+01, -1.5537e-02, -2.6048e-02,  5.7171e+00],\n",
            "        [-1.1325e+01,  1.1213e+01,  6.3067e-02,  1.3973e-01,  5.7363e+00],\n",
            "        [ 9.0000e-01,  1.1000e+00,  9.9846e-01,  9.9743e-01,  5.7628e-02],\n",
            "        [ 1.2793e-06,  1.0000e-01,  4.9567e-02,  4.9299e-02,  2.8879e-02],\n",
            "        [ 2.6411e-06,  9.9999e-02,  4.9663e-02,  4.9405e-02,  2.8879e-02],\n",
            "        [ 9.0000e-01,  1.1000e+00,  9.9806e-01,  9.9681e-01,  5.7813e-02],\n",
            "        [ 3.1415e-07,  1.0000e-01,  4.9568e-02,  4.9295e-02,  2.8892e-02],\n",
            "        [ 9.0000e-01,  1.1000e+00,  9.9841e-01,  9.9726e-01,  5.7635e-02]],\n",
            "       device='cuda:0')\n"
          ]
        }
      ],
      "source": [
        "# Computing summary statistics of the input variables before and after z-score normalization\n",
        "print('Summary statistics of input variables before z-score normalization')\n",
        "print(torch.stack([torch.min(x_train, dim=0).values, torch.max(x_train, dim=0).values, torch.nanmean(x_train, dim=0), torch.median(x_train, dim=0).values, torch.std(x_train, dim=0)], dim=1))"
      ]
    },
    {
      "cell_type": "markdown",
      "metadata": {
        "id": "xTEmkR1SUZh7"
      },
      "source": [
        "Perform z-score normalization"
      ]
    },
    {
      "cell_type": "code",
      "execution_count": 65,
      "metadata": {
        "id": "skDi8Xbh4cnO"
      },
      "outputs": [],
      "source": [
        "%config InteractiveShell.ast_node_interactivity = \"all\""
      ]
    },
    {
      "cell_type": "code",
      "execution_count": 66,
      "metadata": {
        "id": "yPOv6DxhUZh7"
      },
      "outputs": [],
      "source": [
        "if ZSCORE_NORMALIZATION:\n",
        "    \n",
        "    # TODO: Add magnetic field variables to the normalization if I decide to use the old code that is commented out here.\n",
        "    # # Computing the median of each input variable from the training set using torch.nanmedian function\n",
        "    # D_median = torch.nanmedian(x_train[:, 0])\n",
        "    # Sx_median = torch.nanmedian(x_train[:, 1])\n",
        "    # Sy_median = torch.nanmedian(x_train[:, 2])\n",
        "    # Sz_median = torch.nanmedian(x_train[:, 3])\n",
        "    # tau_median = torch.nanmedian(x_train[:, 4])\n",
        "\n",
        "    # # Computing the standard deviation of each input variable from the training set using torch.std function with a boolean mask to ignore nan values\n",
        "    # D_std = torch.std(x_train[~torch.isnan(x_train[:, 0]), 0])\n",
        "    # Sx_std = torch.std(x_train[~torch.isnan(x_train[:, 1]), 1])\n",
        "    # Sy_std = torch.std(x_train[~torch.isnan(x_train[:, 2]), 2])\n",
        "    # Sz_std = torch.std(x_train[~torch.isnan(x_train[:, 3]), 3])\n",
        "    # tau_std = torch.std(x_train[~torch.isnan(x_train[:, 4]), 4])\n",
        "\n",
        "\n",
        "    # # Applying z-score normalization to both train and test sets using the statistics from the training set\n",
        "    # x_train[:, 0] = torch.sub(x_train[:, 0], D_median).div(D_std)\n",
        "    # x_train[:, 1] = torch.sub(x_train[:, 1], Sx_median).div(Sx_std)\n",
        "    # x_train[:, 2] = torch.sub(x_train[:, 2], Sy_median).div(Sy_std)\n",
        "    # x_train[:, 3] = torch.sub(x_train[:, 3], Sz_median).div(Sz_std)\n",
        "    # x_train[:, 4] = torch.sub(x_train[:, 4], tau_median).div(tau_std)\n",
        "\n",
        "    # x_test[:, 0] = torch.sub(x_test[:, 0], D_median).div(D_std)\n",
        "    # x_test[:, 1] = torch.sub(x_test[:, 1], Sx_median).div(Sx_std)\n",
        "    # x_test[:, 2] = torch.sub(x_test[:, 2], Sy_median).div(Sy_std)\n",
        "    # x_test[:, 3] = torch.sub(x_test[:, 3], Sz_median).div(Sz_std)\n",
        "    # x_test[:, 4] = torch.sub(x_test[:, 4], tau_median).div(tau_std)\n",
        "\n",
        "    # Computing the mean and standard deviation of each column\n",
        "    mean = x_train.mean(dim=0)\n",
        "    std = x_train.std(dim=0)\n",
        "\n",
        "    # Applying z-score normalization\n",
        "    x_train = (x_train - mean) / std\n",
        "    # Use the same mean and std from the training data as we don't want test data leakage.\n",
        "    x_test = (x_test - mean) / std\n",
        "\n"
      ]
    },
    {
      "cell_type": "markdown",
      "metadata": {
        "id": "5xqeJJH34cnc"
      },
      "source": [
        "Plotting the histograms of the input data after normalization if z-score normalization was performed."
      ]
    },
    {
      "cell_type": "code",
      "execution_count": 67,
      "metadata": {
        "id": "IknQpxd94cnc"
      },
      "outputs": [],
      "source": [
        "%config InteractiveShell.ast_node_interactivity = \"last_expr_or_assign\""
      ]
    },
    {
      "cell_type": "code",
      "execution_count": 68,
      "metadata": {
        "id": "u30TMn0q4cnc"
      },
      "outputs": [],
      "source": [
        "if not LOAD_DATA_FROM_CSV:\n",
        "    if ZSCORE_NORMALIZATION:\n",
        "        # Variable names\n",
        "        variable_names = [\"D\", \"Sx\", \"Sy\", \"Sz\", \"tau\", \"Bconsx\", \"Bconsy\", \"Bconsz\", \"gxx\", \"gxy\", \"gxz\", \"gyy\", \"gyz\", \"gzz\"]\n",
        "\n",
        "        # Plotting histograms of the input variables before z-score normalization\n",
        "        plt.figure(figsize=(16, 16))\n",
        "        plt.suptitle('Histograms of input variables before (or without at all) z-score normalization', y=1.03)\n",
        "\n",
        "        for i in range(N_INPUTS):\n",
        "            plt.subplot(7, 2, i+1)\n",
        "            data = x_train[:, i].cpu().numpy() # Convert tensor to numpy array for percentile calculation\n",
        "            lower_bound, upper_bound = np.percentile(data, [1, 100]) # NOTE: Use this instead to visualize all the data.\n",
        "            # lower_bound, upper_bound = np.percentile(data, [1, 90]) # Calculate 1st and 99th percentile\n",
        "\n",
        "            plt.hist(data, bins=50, range=(lower_bound, upper_bound)) # Set range to the calculated percentile range\n",
        "            plt.xlabel(variable_names[i])\n",
        "            plt.xlim(lower_bound, upper_bound) # Set the x limit to match the range of the histogram\n",
        "\n",
        "        plt.subplots_adjust(hspace=0.4, wspace=0.4)\n",
        "        plt.show()"
      ]
    },
    {
      "cell_type": "code",
      "execution_count": 69,
      "metadata": {
        "id": "U_SBKnoX4cnd"
      },
      "outputs": [],
      "source": [
        "if ZSCORE_NORMALIZATION:\n",
        "    # Computing summary statistics of the input variables after z-score normalization\n",
        "    print('Summary statistics of input variables after z-score normalization')\n",
        "    print(torch.stack([torch.min(x_train, dim=0).values, torch.max(x_train, dim=0).values, torch.mean(x_train, dim=0), torch.median(x_train, dim=0).values, torch.std(x_train, dim=0)], dim=1))\n"
      ]
    },
    {
      "cell_type": "markdown",
      "metadata": {
        "id": "34JFkBNc4cnd"
      },
      "source": [
        "### Visualizing input data and labels"
      ]
    },
    {
      "cell_type": "code",
      "execution_count": 70,
      "metadata": {
        "id": "8TkfblGD4cnd",
        "outputId": "6a14bbef-29e2-4b4b-f2d5-16d1a8ef8fae",
        "colab": {
          "base_uri": "https://localhost:8080/"
        }
      },
      "outputs": [
        {
          "output_type": "execute_result",
          "data": {
            "text/plain": [
              "tensor([ 5.3361,  3.1923,  1.0912,  ..., -1.7641,  7.7399,  3.9603],\n",
              "       device='cuda:0')"
            ]
          },
          "metadata": {},
          "execution_count": 70
        }
      ],
      "source": [
        "x_train\n",
        "y_train\n",
        "x_val\n",
        "y_val\n",
        "x_test\n",
        "y_test"
      ]
    },
    {
      "cell_type": "markdown",
      "metadata": {
        "id": "E96p_MsOUZh9",
        "outputId": "4b95bad0-8f3a-4364-eed1-008e0ce2a5e3"
      },
      "source": [
        "Checking if our output is always positive ~~by plotting a histogram of y_train and y_test tensors~~"
      ]
    },
    {
      "cell_type": "code",
      "execution_count": 71,
      "metadata": {
        "id": "oRXf8ib_4cne",
        "outputId": "b7be1f7d-2fee-445a-846d-b5bea1b3c54d",
        "colab": {
          "base_uri": "https://localhost:8080/"
        }
      },
      "outputs": [
        {
          "output_type": "stream",
          "name": "stdout",
          "text": [
            "tensor(True)\n"
          ]
        }
      ],
      "source": [
        "import torch\n",
        "\n",
        "# Create a sample tensor\n",
        "tensor = torch.randn(80000, 14)  # Assuming a tensor of shape [80000, 14]\n",
        "tensor\n",
        "\n",
        "\n",
        "# Check if any element is negative\n",
        "any_negative = torch.any(tensor < 0)\n",
        "\n",
        "# Print the result\n",
        "print(any_negative)\n"
      ]
    },
    {
      "cell_type": "code",
      "execution_count": 72,
      "metadata": {
        "id": "1pWymsnT4cne",
        "outputId": "996b05c9-d327-4960-d763-b7245c90263e",
        "colab": {
          "base_uri": "https://localhost:8080/"
        }
      },
      "outputs": [
        {
          "output_type": "execute_result",
          "data": {
            "text/plain": [
              "tensor(True, device='cuda:0')"
            ]
          },
          "metadata": {},
          "execution_count": 72
        }
      ],
      "source": [
        "y_train.shape\n",
        "any_negative = torch.any(y_train < 0)\n",
        "any_negative\n",
        "\n",
        "y_test.shape\n",
        "any_negative = torch.any(y_test < 0)\n",
        "any_negative\n",
        "\n",
        "x_train.shape\n",
        "any_negative = torch.any(x_train < 0)\n",
        "any_negative"
      ]
    },
    {
      "cell_type": "code",
      "execution_count": 73,
      "metadata": {
        "id": "I8j5uTN94cne",
        "outputId": "ac70e1d8-0dc9-40c2-b2cd-b6cd32f2827d",
        "colab": {
          "base_uri": "https://localhost:8080/",
          "height": 406
        }
      },
      "outputs": [
        {
          "output_type": "display_data",
          "data": {
            "text/plain": [
              "<Figure size 800x400 with 3 Axes>"
            ],
            "image/png": "[encoded data removed]"
          },
          "metadata": {}
        }
      ],
      "source": [
        "#%%script echo skipping\n",
        "\n",
        "plt.figure(figsize=(8, 4))\n",
        "plt.subplot(1, 3, 1)\n",
        "plt.hist(y_train.cpu().numpy(), bins=100) # must be cpu here.\n",
        "plt.xlabel(\"y_train\")\n",
        "plt.ylabel(\"Frequency\")\n",
        "plt.xscale(\"log\")\n",
        "plt.subplot(1, 3, 2)\n",
        "plt.hist(y_val.cpu().numpy(), bins=100) # must be cpu here\n",
        "plt.xlabel(\"y_val\")\n",
        "plt.ylabel(\"Frequency\")\n",
        "plt.xscale(\"log\")\n",
        "plt.tight_layout()\n",
        "plt.subplot(1, 3, 3)\n",
        "plt.hist(y_test.cpu().numpy(), bins=100) # must be cpu here\n",
        "plt.xlabel(\"y_test\")\n",
        "plt.ylabel(\"Frequency\")\n",
        "plt.xscale(\"log\")\n",
        "plt.tight_layout()\n",
        "plt.show()\n"
      ]
    },
    {
      "cell_type": "code",
      "execution_count": 74,
      "metadata": {
        "id": "FEgjk--AUZh9"
      },
      "outputs": [],
      "source": [
        "%config InteractiveShell.ast_node_interactivity = \"all\""
      ]
    },
    {
      "cell_type": "markdown",
      "metadata": {
        "id": "r2b9GecHUZh9"
      },
      "source": [
        "## Defining the neural network"
      ]
    },
    {
      "cell_type": "code",
      "execution_count": 75,
      "metadata": {
        "id": "Iv8HA-ZXUZh-"
      },
      "outputs": [],
      "source": [
        "# Defining a class for the network\n",
        "class Net(nn.Module):\n",
        "    \"\"\"A class for creating a network with a\n",
        "    variable number of hidden layers and units.\n",
        "\n",
        "    Attributes:\n",
        "        n_layers (int): The number of hidden layers in the network.\n",
        "        n_units (list): A list of integers representing the number of units in each hidden layer.\n",
        "        hidden_activation (torch.nn.Module): The activation function for the hidden layers.\n",
        "        output_activation (torch.nn.Module): The activation function for the output layer.\n",
        "        layers (torch.nn.ModuleList): A list of linear layers in the network.\n",
        "    \"\"\"\n",
        "\n",
        "    def __init__(self, n_layers, n_units, hidden_activation, output_activation, dropout_rate):\n",
        "        \"\"\"Initializes the network with the given hyperparameters.\n",
        "\n",
        "        Args:\n",
        "            n_layers (int): The number of hidden layers in the network.\n",
        "            n_units (list): A list of integers representing the number of units in each hidden layer.\n",
        "            hidden_activation (torch.nn.Module): The activation function for the hidden layers.\n",
        "            output_activation (torch.nn.Module): The activation function for the output layer.\n",
        "            TODO: [ver. Copilot description] dropout_rate (float): The dropout rate to use for all layers.\n",
        "        \"\"\"\n",
        "        super().__init__()\n",
        "        self.n_layers = n_layers\n",
        "        self.n_units = n_units\n",
        "        self.hidden_activation = hidden_activation\n",
        "        self.output_activation = output_activation\n",
        "        self.dropout_rate = dropout_rate\n",
        "\n",
        "        # Creating a list of linear layers with different numbers of units for each layer\n",
        "        self.layers = nn.ModuleList()\n",
        "        self.dropouts = nn.ModuleList()\n",
        "\n",
        "        self.layers.append(nn.Linear(N_INPUTS, n_units[0]))\n",
        "        self.dropouts.append(nn.Dropout(p=dropout_rate))\n",
        "\n",
        "        for i in range(1, n_layers):\n",
        "            self.layers.append(nn.Linear(n_units[i - 1], n_units[i]))\n",
        "            self.dropouts.append(nn.Dropout(p=dropout_rate))\n",
        "\n",
        "        self.layers.append(nn.Linear(n_units[-1], N_OUTPUTS))\n",
        "\n",
        "        # Adding some assertions to check that the input arguments are valid\n",
        "        assert isinstance(n_layers, int) and n_layers > 0, \"n_layers must be a positive integer\"\n",
        "        assert isinstance(n_units, list) and len(n_units) == n_layers, \"n_units must be a list of length n_layers\"\n",
        "        assert all(isinstance(n, int) and n > 0 for n in n_units), \"n_units must contain positive integers\"\n",
        "        assert isinstance(hidden_activation, nn.Module), \"hidden_activation must be a torch.nn.Module\"\n",
        "        assert isinstance(output_activation, nn.Module), \"output_activation must be a torch.nn.Module\"\n",
        "\n",
        "    def forward(self, x):\n",
        "        \"\"\"Performs a forward pass on the input tensor.\n",
        "\n",
        "        Args:\n",
        "            x (torch.Tensor): The input tensor of shape (batch_size, N_INPUTS).\n",
        "\n",
        "        Returns:\n",
        "            torch.Tensor: The output tensor of shape (batch_size, N_OUTPUTS).\n",
        "        \"\"\"\n",
        "        # Adding an assertion to check that the input tensor has the expected shape and type\n",
        "        assert isinstance(x, torch.Tensor), \"x must be a torch.Tensor\"\n",
        "        assert x.shape[1] == N_INPUTS, f\"x must have shape (batch_size, {N_INPUTS})\"\n",
        "\n",
        "        for layer, dropout in zip(self.layers[:-1], self.dropouts):\n",
        "            x = dropout(self.hidden_activation(layer(x)))\n",
        "        # Applying the linear transformation and the activation function on the output layer\n",
        "        x = self.output_activation(self.layers[-1](x)) # No dropout at output layer\n",
        "\n",
        "        return x # Returning the output tensor\n"
      ]
    },
    {
      "cell_type": "code",
      "execution_count": 76,
      "metadata": {
        "id": "4zShBNVG4cnf",
        "outputId": "d0d1ecfb-322b-44b8-9e12-d59197d41c0c",
        "colab": {
          "base_uri": "https://localhost:8080/"
        }
      },
      "outputs": [
        {
          "output_type": "stream",
          "name": "stdout",
          "text": [
            "skipping\n"
          ]
        }
      ],
      "source": [
        "%%script echo skipping\n",
        "\n",
        "[1,2,3]\n",
        "[1,2,3][:-1]"
      ]
    },
    {
      "cell_type": "code",
      "execution_count": 77,
      "metadata": {
        "id": "3c3WaPyv4cng",
        "outputId": "4da5d255-3f31-4886-fcb8-8507bca30c60",
        "colab": {
          "base_uri": "https://localhost:8080/"
        }
      },
      "outputs": [
        {
          "output_type": "stream",
          "name": "stdout",
          "text": [
            "1\n",
            "2\n"
          ]
        }
      ],
      "source": [
        "for x in [1,2,3][:-1]:\n",
        "    print(x)\n",
        "\n"
      ]
    },
    {
      "cell_type": "markdown",
      "metadata": {
        "id": "6GNvp55PUZh_"
      },
      "source": [
        "## Defining the model and search space"
      ]
    },
    {
      "cell_type": "code",
      "execution_count": 78,
      "metadata": {
        "id": "9a1opluOUZh_"
      },
      "outputs": [],
      "source": [
        "# Defining a function to create a trial network and optimizer\n",
        "def create_model(trial, optimize):\n",
        "    \"\"\"Creates a trial network and optimizer based on the sampled hyperparameters.\n",
        "\n",
        "    Args:\n",
        "        trial (optuna.trial.Trial): The trial object that contains the hyperparameters.\n",
        "        optimize (boolean): Whether to optimize the hyperparameters or to use predefined values.\n",
        "\n",
        "    Returns:\n",
        "        tuple: A tuple of (net, loss_fn, optimizer, batch_size, n_epochs,\n",
        "            scheduler, loss_name, optimizer_name, scheduler_name,\n",
        "            n_units, n_layers, hidden_activation, output_activation),\n",
        "            where net is the trial network,\n",
        "            loss_fn is the loss function,\n",
        "            optimizer is the optimizer,\n",
        "            batch_size is the batch size,\n",
        "            n_epochs is the number of epochs,\n",
        "            scheduler is the learning rate scheduler,\n",
        "            loss_name is the name of the loss function,\n",
        "            optimizer_name is the name of the optimizer,\n",
        "            scheduler_name is the name of the scheduler,\n",
        "            n_units is a list of integers representing\n",
        "            the number of units in each hidden layer,\n",
        "            n_layers is an integer representing the number of hidden layers in the network,\n",
        "            hidden_activation is a torch.nn.Module representing the activation function for the hidden layers,\n",
        "            output_activation is a torch.nn.Module representing the activation function for the output layer,\n",
        "            lr is the (initial) learning rate.\n",
        "            dropout_rate is the dropout rate.\n",
        "    \"\"\"\n",
        "    # If optimize is True, sample the hyperparameters from the search space\n",
        "    if OPTIMIZE:\n",
        "        n_layers = trial.suggest_int(\"n_layers\", 2, 10)\n",
        "        n_units = [trial.suggest_int(f\"n_units_{i}\", 16, 4096) for i in range(n_layers)]\n",
        "\n",
        "        hidden_activation_name = trial.suggest_categorical(\n",
        "            \"hidden_activation\", [\"ReLU\", \"LeakyReLU\", \"ELU\", \"PReLU\", \"Swish\", \"GELU\", \"SoftPlus\"]\n",
        "        )\n",
        "        output_activation_name = trial.suggest_categorical( \"output_activation\", [\"Linear\"])\n",
        "\n",
        "        loss_name = trial.suggest_categorical( \"loss\", [\"MSE\", \"MAE\", \"Huber\", \"Quantile\"]) \n",
        "\n",
        "        optimizer_name = trial.suggest_categorical( \"optimizer\", [\"Adam\", \"SGD\", \"RMSprop\", \"Adagrad\"] )\n",
        "\n",
        "        lr = trial.suggest_loguniform(\"lr\", 1e-5, 1e-1)\n",
        "\n",
        "        batch_size_list = [32, 64, 128, 256, 512, 1024, 2048]\n",
        "        batch_size = trial.suggest_categorical(\"batch_size\", batch_size_list)\n",
        "        \n",
        "        n_epochs = trial.suggest_int(\"n_epochs\", 50, 150)\n",
        "\n",
        "        # scheduler_name = trial.suggest_categorical(\"scheduler\", [\"CosineAnnealingLR\", \"ReduceLROnPlateau\", \"StepLR\", \"CyclicLR\"])\n",
        "        scheduler_name = trial.suggest_categorical(\"scheduler\", [\"CosineAnnealingLR\", \"ReduceLROnPlateau\", \"StepLR\"])\n",
        "\n",
        "        # Creating the activation functions from their names\n",
        "        if hidden_activation_name == \"ReLU\":\n",
        "            hidden_activation = nn.ReLU()\n",
        "        elif hidden_activation_name == \"LeakyReLU\":\n",
        "            negative_slope = trial.suggest_uniform(\"leakyrelu_slope\", 0.01, 0.3)\n",
        "            hidden_activation = nn.LeakyReLU(negative_slope=negative_slope)\n",
        "        elif hidden_activation_name == \"ELU\":\n",
        "            hidden_activation = nn.ELU() \n",
        "        elif hidden_activation_name == \"PReLU\":\n",
        "            init = trial.suggest_uniform(\"prelu_init\", 0.1, 0.3)\n",
        "            hidden_activation = nn.PReLU(init=init)\n",
        "        elif hidden_activation_name == \"Swish\":\n",
        "            class Swish(nn.Module):\n",
        "                def forward(self, x):\n",
        "                    return x * torch.sigmoid(x)\n",
        "            hidden_activation = Swish()\n",
        "        elif hidden_activation_name == \"GELU\":\n",
        "            hidden_activation = nn.GELU()\n",
        "        elif hidden_activation_name == \"SoftPlus\":\n",
        "            beta = trial.suggest_uniform(\"softplus_beta\", 0.5, 1.5)\n",
        "            hidden_activation = nn.Softplus(beta=beta) # We don't optimize thresshold subparameters, as it's mainly for numerical stability.\n",
        "\n",
        "        dropout_rate = trial.suggest_uniform(\"dropout_rate\", 0.0, 0.5)\n",
        "\n",
        "\n",
        "    # If optimize is False, use the predefined values\n",
        "    else:\n",
        "        # Setting the hyperparameters to the predefined values\n",
        "        n_layers = N_LAYERS_NO_OPT\n",
        "        n_units = N_UNITS_NO_OPT\n",
        "        hidden_activation_name = HIDDEN_ACTIVATION_NAME_NO_OPT\n",
        "        output_activation_name = OUTPUT_ACTIVATION_NAME_NO_OPT\n",
        "        loss_name = LOSS_NAME_NO_OPT\n",
        "        optimizer_name = OPTIMIZER_NAME_NO_OPT\n",
        "        lr = LR_NO_OPT\n",
        "        batch_size = BATCH_SIZE_NO_OPT\n",
        "        n_epochs = N_EPOCHS_NO_OPT\n",
        "        scheduler_name = SCHEDULER_NAME_NO_OPT\n",
        "\n",
        "        # Creating the activation functions from their names\n",
        "        if hidden_activation_name == \"ReLU\":\n",
        "            hidden_activation = nn.ReLU()\n",
        "        elif hidden_activation_name == \"LeakyReLU\":\n",
        "            negative_slope = 0.01\n",
        "            hidden_activation = nn.LeakyReLU(negative_slope=negative_slope)\n",
        "        elif hidden_activation_name == \"ELU\":\n",
        "            hidden_activation = nn.ELU() \n",
        "        elif hidden_activation_name == \"PReLU\":\n",
        "            init = 0.25\n",
        "            hidden_activation = nn.PReLU(init=init)\n",
        "        elif hidden_activation_name == \"Swish\":\n",
        "            class Swish(nn.Module):\n",
        "                def forward(self, x):\n",
        "                    return x * torch.sigmoid(x)\n",
        "            hidden_activation = Swish()\n",
        "        elif hidden_activation_name == \"GELU\":\n",
        "            hidden_activation = nn.GELU()\n",
        "        elif hidden_activation_name == \"SoftPlus\":\n",
        "            beta = 1\n",
        "            hidden_activation = nn.Softplus(beta=beta) # We don't optimize threshold subparameter, as it's mainly for numerical stability.\n",
        "\n",
        "        dropout_rate = DROPOUT_RATE_NO_OPT\n",
        "\n",
        "\n",
        "    # We used to have options here, but since we have a regression problem with continuous output, we only use Linear.\n",
        "    output_activation = nn.Identity()\n",
        "\n",
        "    # Creating the loss function from its name\n",
        "    if loss_name == \"MSE\":\n",
        "        loss_fn = nn.MSELoss()\n",
        "    elif loss_name == \"MAE\":\n",
        "        loss_fn = nn.L1Loss()\n",
        "    elif loss_name == \"Huber\":\n",
        "        loss_fn = nn.SmoothL1Loss() \n",
        "    elif loss_name == \"Quantile\":\n",
        "        def quantile_loss(y_pred, y_true, q=0.5):\n",
        "            e = y_pred - y_true\n",
        "            return torch.mean(torch.max(q*e, (q-1)*e))\n",
        "        loss_fn = quantile_loss\n",
        "    else:\n",
        "        def log_cosh_loss(y_pred, y_true):\n",
        "            return torch.mean(torch.log(torch.cosh(y_pred - y_true)))\n",
        "        loss_fn = log_cosh_loss\n",
        "\n",
        "    # Creating the network with the sampled hyperparameters\n",
        "    net = Net(n_layers, n_units, hidden_activation, output_activation, dropout_rate).to(device)\n",
        "\n",
        "\n",
        "    if OPTIMIZE:\n",
        "        # Creating the optimizer from its name\n",
        "        if optimizer_name == \"SGD\":\n",
        "            weight_decay = trial.suggest_loguniform(\"weight_decay\", 1e-5, 1e-2)\n",
        "            momentum = trial.suggest_uniform(\"momentum\", 0.0, 0.99)\n",
        "            optimizer = optim.SGD(net.parameters(), lr=lr, weight_decay=weight_decay, momentum=momentum)\n",
        "        elif optimizer_name == \"Adam\":\n",
        "            weight_decay = trial.suggest_loguniform(\"weight_decay\", 1e-5, 1e-2)\n",
        "            beta1 = trial.suggest_uniform(\"beta1\", 0.9, 0.999)\n",
        "            beta2 = trial.suggest_uniform(\"beta2\", 0.999, 0.9999)\n",
        "            optimizer = optim.Adam(net.parameters(), lr=lr, weight_decay=weight_decay, betas=(beta1, beta2))\n",
        "        elif optimizer_name == \"RMSprop\":\n",
        "            optimizer = optim.RMSprop(net.parameters(), lr=lr)\n",
        "        else:\n",
        "            optimizer = optim.Adagrad(net.parameters(), lr=lr)\n",
        "\n",
        "        # Creating the learning rate scheduler from its name\n",
        "        if scheduler_name == \"StepLR\":\n",
        "            step_size = trial.suggest_int(\"step_size\", 5, 15)\n",
        "            gamma = trial.suggest_uniform(\"gamma\", 0.1, 0.5)\n",
        "            scheduler = optim.lr_scheduler.StepLR(optimizer, step_size=step_size, gamma=gamma)\n",
        "        elif scheduler_name == \"ExponentialLR\":\n",
        "            gamma = trial.suggest_uniform(\"gamma\", 0.8, 0.99)\n",
        "            scheduler = optim.lr_scheduler.ExponentialLR(optimizer, gamma=gamma)\n",
        "        elif scheduler_name == \"CosineAnnealingLR\":\n",
        "            if n_epochs < 150:\n",
        "                t_max_fraction = trial.suggest_uniform('t_max_fraction', 0.1, 0.3)\n",
        "            elif n_epochs > 250:\n",
        "                t_max_fraction = trial.suggest_uniform('t_max_fraction', 0.05, 0.1)\n",
        "            else:\n",
        "                t_max_fraction = trial.suggest_uniform('t_max_fraction', 0.1, 0.2)\n",
        "\n",
        "            T_max = int(n_epochs * t_max_fraction)\n",
        "            eta_min = trial.suggest_loguniform(\"eta_min\", 1e-7, 1e-2)\n",
        "            scheduler = optim.lr_scheduler.CosineAnnealingLR(optimizer, T_max=T_max, eta_min=eta_min)\n",
        "        elif scheduler_name == \"ReduceLROnPlateau\":\n",
        "            factor = trial.suggest_uniform(\"factor\", 0.1, 0.5)\n",
        "            patience = trial.suggest_int(\"patience\", 5, 10)\n",
        "            threshold = trial.suggest_loguniform(\"threshold\", 1e-4, 1e-2)\n",
        "            scheduler = optim.lr_scheduler.ReduceLROnPlateau(\n",
        "                optimizer, mode=\"min\", factor=factor, patience=patience, threshold=threshold\n",
        "            )\n",
        "        elif scheduler_name == \"CyclicLR\":\n",
        "            base_lr = trial.suggest_loguniform(\"base_lr\", 1e-6, 1e-2)\n",
        "            max_lr = trial.suggest_loguniform(\"max_lr\", 1e-4, 1)\n",
        "            step_size_up = trial.suggest_int(\"step_size_up\", 200, 2000)\n",
        "            scheduler = optim.lr_scheduler.CyclicLR(optimizer, base_lr=base_lr, max_lr=max_lr, step_size_up=step_size_up)\n",
        "        else:\n",
        "            scheduler = None\n",
        "    else:\n",
        "        # Creating the optimizer from its name\n",
        "        if optimizer_name == \"SGD\":\n",
        "            optimizer = optim.SGD(net.parameters(), lr=lr)\n",
        "        elif optimizer_name == \"Adam\":\n",
        "            optimizer = optim.Adam(net.parameters(), lr=lr)\n",
        "        elif optimizer_name == \"RMSprop\":\n",
        "            optimizer = optim.RMSprop(net.parameters(), lr=lr)\n",
        "        else:\n",
        "            optimizer = optim.Adagrad(net.parameters(), lr=lr)\n",
        "\n",
        "        # Creating the learning rate scheduler from its name\n",
        "        if scheduler_name == \"StepLR\":\n",
        "            scheduler = optim.lr_scheduler.StepLR(optimizer, step_size=10, gamma=0.1)\n",
        "        elif scheduler_name == \"ExponentialLR\":\n",
        "            scheduler = optim.lr_scheduler.ExponentialLR(optimizer, gamma=0.9)\n",
        "        elif scheduler_name == \"CosineAnnealingLR\":\n",
        "            scheduler = optim.lr_scheduler.CosineAnnealingLR(optimizer)\n",
        "        elif scheduler_name == \"ReduceLROnPlateau\":\n",
        "            scheduler = optim.lr_scheduler.ReduceLROnPlateau(\n",
        "                        optimizer, mode=\"min\", factor=0.18979341786654758, patience=11, threshold=0.0017197466122611932 #, min_lr=1e-6\n",
        "                    )\n",
        "        elif scheduler_name == \"CyclicLR\":\n",
        "            # TODO: Change these appropriately.\n",
        "            base_lr = 1e-6\n",
        "            max_lr = 1e-4\n",
        "            step_size_up = 200\n",
        "            scheduler = optim.lr_scheduler.CyclicLR(optimizer, base_lr=base_lr, max_lr=max_lr, step_size_up=step_size_up)\n",
        "        else:\n",
        "            scheduler = None\n",
        "\n",
        "    # Returning all variables needed for saving and loading\n",
        "    return net, loss_fn, optimizer, batch_size, n_epochs, scheduler, loss_name, optimizer_name, scheduler_name, n_units, n_layers, hidden_activation, output_activation, lr, dropout_rate\n",
        "\n",
        "\n"
      ]
    },
    {
      "cell_type": "markdown",
      "metadata": {
        "id": "l-czA7VvUZiD"
      },
      "source": [
        " ## The training and evaluation loop\n",
        "\n",
        " We first define a couple of functions used in the training and evaluation."
      ]
    },
    {
      "cell_type": "code",
      "execution_count": 79,
      "metadata": {
        "id": "aD6FQNmxUZiD"
      },
      "outputs": [],
      "source": [
        "# Defining a function that computes loss and metrics for a given batch\n",
        "def compute_loss_and_metrics(y_pred, y_true, loss_fn):\n",
        "    \"\"\"Computes loss and metrics for a given batch.\n",
        "\n",
        "    Args:\n",
        "        y_pred (torch.Tensor): The predicted pressure tensor of shape (batch_size, 1).\n",
        "        y_true (torch.Tensor): The true pressure tensor of shape (batch_size,).\n",
        "        loss_fn (torch.nn.Module or function): The loss function to use.\n",
        "\n",
        "    Returns:\n",
        "        tuple: A tuple of (loss, l1_norm), where loss is a scalar tensor,\n",
        "            l1_norm is L1 norm for relative error of pressure,\n",
        "            each being a scalar tensor.\n",
        "            linf_norm is Linf norm for relative error of pressure.\n",
        "    \"\"\"\n",
        "    # Reshaping the target tensor to match the input tensor\n",
        "    y_true = y_true.view(-1, 1)\n",
        "\n",
        "    # Computing the loss using the loss function\n",
        "    loss = loss_fn(y_pred, y_true)\n",
        "\n",
        "    # Computing the relative error of pressure\n",
        "    rel_error = torch.abs((y_pred - y_true) / y_true)\n",
        "\n",
        "    # Computing the L1 norm for the relative error of pressure\n",
        "    l1_norm = torch.mean(rel_error) \n",
        "    # Computing the Linf norm for the relative error of pressure\n",
        "    linf_norm = torch.max(rel_error) \n",
        "\n",
        "    # Returning the loss and metrics\n",
        "    return loss, l1_norm, linf_norm\n",
        "\n",
        "\n",
        "# Defining a function that updates the learning rate scheduler with validation loss if applicable\n",
        "def update_scheduler(scheduler, test_loss):\n",
        "    \"\"\"Updates the learning rate scheduler with validation loss if applicable.\n",
        "\n",
        "    Args:\n",
        "        scheduler (torch.optim.lr_scheduler._LRScheduler or None): The learning rate scheduler to use.\n",
        "        test_loss (float): The validation loss to use.\n",
        "\n",
        "    Returns:\n",
        "        None\n",
        "    \"\"\"\n",
        "    # Checking if scheduler is not None\n",
        "    if scheduler is not None:\n",
        "        # Checking if scheduler is ReduceLROnPlateau\n",
        "        if isinstance(scheduler, optim.lr_scheduler.ReduceLROnPlateau):\n",
        "            # Updating the scheduler with test_loss\n",
        "            scheduler.step(test_loss)\n",
        "        else:\n",
        "            # Updating the scheduler without test_loss\n",
        "            scheduler.step()\n"
      ]
    },
    {
      "cell_type": "markdown",
      "metadata": {
        "id": "w1nE662UUZiE"
      },
      "source": [
        "Now for the actual training and evaluation loop,"
      ]
    },
    {
      "cell_type": "code",
      "execution_count": 80,
      "metadata": {
        "id": "YAOjgKW3UZiF"
      },
      "outputs": [],
      "source": [
        "# Defining a function to train and evaluate a network\n",
        "def train_and_eval(net, loss_fn, optimizer, batch_size, n_epochs, scheduler, train_loader, val_loader, test_loader, trial=None):\n",
        "    # Initializing lists to store the losses and metrics for each epoch\n",
        "    train_losses = []\n",
        "    val_losses = []\n",
        "    test_losses = []\n",
        "    train_metrics = []\n",
        "    val_metrics = []\n",
        "    test_metrics = []\n",
        "\n",
        "\n",
        "    # Creating a SummaryWriter object to log data for tensorboard\n",
        "    writer = tbx.SummaryWriter()\n",
        "\n",
        "    # Looping over the epochs\n",
        "    for epoch in range(n_epochs):\n",
        "\n",
        "        # Setting the network to training mode\n",
        "        net.train()\n",
        "\n",
        "        # Initializing variables to store the total loss and metrics for the train set\n",
        "        train_loss = 0.0\n",
        "        train_l1_norm = 0.0\n",
        "        train_linf_norm = 0.0\n",
        "\n",
        "        # Looping over the batches in the train set\n",
        "        for x_batch, y_batch in train_loader:\n",
        "\n",
        "            # Moving the batch tensors to the device\n",
        "            x_batch = x_batch.to(device)\n",
        "            y_batch = y_batch.to(device)\n",
        "\n",
        "            # Zeroing the gradients\n",
        "            optimizer.zero_grad()\n",
        "\n",
        "            # Performing a forward pass and computing the loss and metrics\n",
        "            y_pred = net(x_batch)\n",
        "            loss, l1_norm, linf_norm = compute_loss_and_metrics(y_pred, y_batch, loss_fn)\n",
        "\n",
        "\n",
        "            # Performing a backward pass and updating the weights\n",
        "            loss.backward()\n",
        "            optimizer.step()\n",
        "\n",
        "            # Updating the total loss and metrics for the train set\n",
        "            train_loss += loss.item() * x_batch.size(0)\n",
        "            train_l1_norm += l1_norm.item() * x_batch.size(0)\n",
        "            train_linf_norm += linf_norm.item() * x_batch.size(0)\n",
        "\n",
        "        # Computing the average loss and metrics for the train set\n",
        "        train_loss /= len(train_loader.dataset)\n",
        "        train_l1_norm /= len(train_loader.dataset)\n",
        "        train_linf_norm /= len(train_loader.dataset)\n",
        "\n",
        "        # Appending the average loss and metrics for the train set to the lists\n",
        "        train_losses.append(train_loss)\n",
        "        train_metrics.append(\n",
        "            {\n",
        "                \"l1_norm\": train_l1_norm,\n",
        "                \"linf_norm\": train_linf_norm,\n",
        "            }\n",
        "        )\n",
        "\n",
        "        # Logging the average loss and metrics for the train set to tensorboard\n",
        "        writer.add_scalar(\"Loss/train\", train_loss, epoch)\n",
        "        writer.add_scalar(\"L1 norm/train\", train_l1_norm, epoch)\n",
        "        writer.add_scalar(\"Linf norm/train\", train_linf_norm, epoch)\n",
        "\n",
        "        if val_loader is not None:\n",
        "            net.eval()\n",
        "            val_loss = 0.0\n",
        "            val_l1_norm = 0.0\n",
        "            val_linf_norm = 0.0\n",
        "\n",
        "            with torch.no_grad():\n",
        "                for x_batch, y_batch in val_loader:\n",
        "                    x_batch = x_batch.to(device)\n",
        "                    y_batch = y_batch.to(device)\n",
        "                    y_pred = net(x_batch)\n",
        "                    loss, l1_norm, linf_norm = compute_loss_and_metrics(y_pred, y_batch, loss_fn)\n",
        "\n",
        "                    val_loss += loss.item() * x_batch.size(0)\n",
        "                    val_l1_norm += l1_norm.item() * x_batch.size(0)\n",
        "                    val_linf_norm += linf_norm.item() * x_batch.size(0)\n",
        "\n",
        "            val_loss /= len(val_loader.dataset)\n",
        "            val_l1_norm /= len(val_loader.dataset)\n",
        "            val_linf_norm /= len(val_loader.dataset)\n",
        "\n",
        "            val_losses.append(val_loss)\n",
        "            val_metrics.append(\n",
        "                {\n",
        "                    \"l1_norm\": val_l1_norm,\n",
        "                    \"linf_norm\": val_linf_norm,\n",
        "                }\n",
        "            )\n",
        "\n",
        "            writer.add_scalar(\"Loss/val\", val_loss, epoch)\n",
        "            writer.add_scalar(\"L1 norm/val\", val_l1_norm, epoch)\n",
        "            writer.add_scalar(\"Linf norm/val\", val_linf_norm, epoch)\n",
        "            print(f\"Epoch {epoch+1}/{n_epochs}.. Train loss: {train_loss:.3f}.. Val loss: {val_loss:.3f}.. Train L1 norm: {train_l1_norm:.3f}.. Val L1 norm: {val_l1_norm:.3f}.. Train Linf norm: {train_linf_norm:.3f}.. Val Linf norm: {val_linf_norm:.3f}\")\n",
        "\n",
        "\n",
        "            update_scheduler(scheduler, val_loss)\n",
        "\n",
        "        if test_loader is not None:\n",
        "            net.eval()\n",
        "            test_loss = 0.0\n",
        "            test_l1_norm = 0.0\n",
        "            test_linf_norm = 0.0\n",
        "\n",
        "            with torch.no_grad():\n",
        "                for x_batch, y_batch in test_loader:\n",
        "                    x_batch = x_batch.to(device)\n",
        "                    y_batch = y_batch.to(device)\n",
        "                    y_pred = net(x_batch)\n",
        "                    loss, l1_norm, linf_norm = compute_loss_and_metrics(y_pred, y_batch, loss_fn)\n",
        "\n",
        "                    test_loss += loss.item() * x_batch.size(0)\n",
        "                    test_l1_norm += l1_norm.item() * x_batch.size(0)\n",
        "                    test_linf_norm += linf_norm.item() * x_batch.size(0)\n",
        "\n",
        "            test_loss /= len(test_loader.dataset)\n",
        "            test_l1_norm /= len(test_loader.dataset)\n",
        "            test_linf_norm /= len(test_loader.dataset)\n",
        "\n",
        "            test_losses.append(test_loss)\n",
        "            test_metrics.append(\n",
        "                {\n",
        "                    \"l1_norm\": test_l1_norm,\n",
        "                    \"linf_norm\": test_linf_norm,\n",
        "                }\n",
        "            )\n",
        "\n",
        "            writer.add_scalar(\"Loss/test\", test_loss, epoch)\n",
        "            writer.add_scalar(\"L1 norm/test\", test_l1_norm, epoch)\n",
        "            writer.add_scalar(\"Linf norm/test\", test_linf_norm, epoch)\n",
        "            print(f\"Epoch {epoch+1}/{n_epochs}.. Train loss: {train_loss:.3f}.. Test loss: {test_loss:.3f}.. Train L1 norm: {train_l1_norm:.3f}.. Test L1 norm: {test_l1_norm:.3f}.. Train Linf norm: {train_linf_norm:.3f}.. Test Linf norm: {test_linf_norm:.3f}\")\n",
        "\n",
        "\n",
        "        # Reporting the intermediate metric value to Optuna if trial is not None\n",
        "        if trial is not None:\n",
        "            trial.report(val_l1_norm, epoch)\n",
        "\n",
        "            if trial.should_prune():\n",
        "                raise optuna.TrialPruned()\n",
        "\n",
        "    # Closing the SummaryWriter object\n",
        "    writer.close()\n",
        "\n",
        "    # Returning the losses and metrics lists\n",
        "    return train_losses, val_losses, test_losses, train_metrics, val_metrics, test_metrics\n"
      ]
    },
    {
      "cell_type": "markdown",
      "metadata": {
        "id": "xg9jz0SvUZiQ"
      },
      "source": [
        "## The objective function and hyperparameter tuning"
      ]
    },
    {
      "cell_type": "code",
      "execution_count": 81,
      "metadata": {
        "id": "fmRncQPuUZiR"
      },
      "outputs": [],
      "source": [
        "# Defining an objective function for Optuna to minimize\n",
        "def objective(trial):\n",
        "    \"\"\"Defines an objective function for Optuna to minimize.\n",
        "\n",
        "    Args:\n",
        "        trial (optuna.trial.Trial): The trial object that contains the hyperparameters.\n",
        "\n",
        "    Returns:\n",
        "        float: The validation L1 norm to minimize.\n",
        "    \"\"\"\n",
        "    # Creating a trial network and optimizer using the create_model function\n",
        "    net, \\\n",
        "    loss_fn, \\\n",
        "    optimizer, \\\n",
        "    batch_size, \\\n",
        "    n_epochs, \\\n",
        "    scheduler, \\\n",
        "    loss_name, \\\n",
        "    optimizer_name, \\\n",
        "    scheduler_name, \\\n",
        "    n_units, \\\n",
        "    n_layers, \\\n",
        "    hidden_activation, \\\n",
        "    output_activation, \\\n",
        "    lr, \\\n",
        "    dropout_rate = create_model(trial, optimize=True)\n",
        "\n",
        "    # Create separate data loaders for training and validation\n",
        "    train_loader = torch.utils.data.DataLoader(\n",
        "        torch.utils.data.TensorDataset(x_train, y_train), batch_size=batch_size, shuffle=True\n",
        "    )\n",
        "    val_loader = torch.utils.data.DataLoader(\n",
        "        torch.utils.data.TensorDataset(x_val, y_val), batch_size=batch_size\n",
        "    )\n",
        "    \n",
        "    _, _, _, _, val_metrics, _ = train_and_eval(\n",
        "        net, loss_fn, optimizer, batch_size, n_epochs, scheduler, train_loader, val_loader, None, trial\n",
        "    )\n",
        "\n",
        "    # Returning the last validation L1 norm as the objective value to minimize\n",
        "    return val_metrics[-1][\"l1_norm\"]"
      ]
    },
    {
      "cell_type": "code",
      "execution_count": null,
      "metadata": {
        "id": "GyES4NAyUZiS",
        "outputId": "648bceb3-9516-479d-fb84-1a0e8282d07f",
        "colab": {
          "base_uri": "https://localhost:8080/"
        }
      },
      "outputs": [
        {
          "output_type": "stream",
          "name": "stderr",
          "text": [
            "[I 2023-05-31 19:43:22,498] A new study created in RDB with name: no-name-95b0611b-a246-489c-abaa-0920bc5918e0\n",
            "<ipython-input-78-5ce9a06c2c29>:44: FutureWarning: suggest_loguniform has been deprecated in v3.0.0. This feature will be removed in v6.0.0. See https://github.com/optuna/optuna/releases/tag/v3.0.0. Use suggest_float(..., log=True) instead.\n",
            "  lr = trial.suggest_loguniform(\"lr\", 1e-5, 1e-1)\n",
            "<ipython-input-78-5ce9a06c2c29>:63: FutureWarning: suggest_uniform has been deprecated in v3.0.0. This feature will be removed in v6.0.0. See https://github.com/optuna/optuna/releases/tag/v3.0.0. Use suggest_float instead.\n",
            "  init = trial.suggest_uniform(\"prelu_init\", 0.1, 0.3)\n",
            "<ipython-input-78-5ce9a06c2c29>:76: FutureWarning: suggest_uniform has been deprecated in v3.0.0. This feature will be removed in v6.0.0. See https://github.com/optuna/optuna/releases/tag/v3.0.0. Use suggest_float instead.\n",
            "  dropout_rate = trial.suggest_uniform(\"dropout_rate\", 0.0, 0.5)\n",
            "<ipython-input-78-5ce9a06c2c29>:149: FutureWarning: suggest_loguniform has been deprecated in v3.0.0. This feature will be removed in v6.0.0. See https://github.com/optuna/optuna/releases/tag/v3.0.0. Use suggest_float(..., log=True) instead.\n",
            "  weight_decay = trial.suggest_loguniform(\"weight_decay\", 1e-5, 1e-2)\n",
            "<ipython-input-78-5ce9a06c2c29>:150: FutureWarning: suggest_uniform has been deprecated in v3.0.0. This feature will be removed in v6.0.0. See https://github.com/optuna/optuna/releases/tag/v3.0.0. Use suggest_float instead.\n",
            "  beta1 = trial.suggest_uniform(\"beta1\", 0.9, 0.999)\n",
            "<ipython-input-78-5ce9a06c2c29>:151: FutureWarning: suggest_uniform has been deprecated in v3.0.0. This feature will be removed in v6.0.0. See https://github.com/optuna/optuna/releases/tag/v3.0.0. Use suggest_float instead.\n",
            "  beta2 = trial.suggest_uniform(\"beta2\", 0.999, 0.9999)\n",
            "<ipython-input-78-5ce9a06c2c29>:168: FutureWarning: suggest_uniform has been deprecated in v3.0.0. This feature will be removed in v6.0.0. See https://github.com/optuna/optuna/releases/tag/v3.0.0. Use suggest_float instead.\n",
            "  t_max_fraction = trial.suggest_uniform('t_max_fraction', 0.1, 0.3)\n",
            "<ipython-input-78-5ce9a06c2c29>:175: FutureWarning: suggest_loguniform has been deprecated in v3.0.0. This feature will be removed in v6.0.0. See https://github.com/optuna/optuna/releases/tag/v3.0.0. Use suggest_float(..., log=True) instead.\n",
            "  eta_min = trial.suggest_loguniform(\"eta_min\", 1e-7, 1e-2)\n"
          ]
        },
        {
          "output_type": "stream",
          "name": "stdout",
          "text": [
            "Epoch 1/87.. Train loss: 6.022.. Val loss: 4.636.. Train L1 norm: 3.548.. Val L1 norm: 3.132.. Train Linf norm: 386.595.. Val Linf norm: 345.528\n",
            "Epoch 2/87.. Train loss: 5.337.. Val loss: 4.701.. Train L1 norm: 3.086.. Val L1 norm: 4.289.. Train Linf norm: 299.234.. Val Linf norm: 518.981\n",
            "Epoch 3/87.. Train loss: 5.006.. Val loss: 4.774.. Train L1 norm: 2.494.. Val L1 norm: 2.034.. Train Linf norm: 210.822.. Val Linf norm: 183.183\n",
            "Epoch 4/87.. Train loss: 5.345.. Val loss: 4.755.. Train L1 norm: 3.162.. Val L1 norm: 2.213.. Train Linf norm: 293.471.. Val Linf norm: 216.007\n",
            "Epoch 5/87.. Train loss: 4.201.. Val loss: 4.083.. Train L1 norm: 4.139.. Val L1 norm: 5.136.. Train Linf norm: 417.890.. Val Linf norm: 662.542\n",
            "Epoch 6/87.. Train loss: 4.045.. Val loss: 4.038.. Train L1 norm: 4.390.. Val L1 norm: 6.309.. Train Linf norm: 436.701.. Val Linf norm: 862.688\n",
            "Epoch 7/87.. Train loss: 3.890.. Val loss: 3.783.. Train L1 norm: 4.305.. Val L1 norm: 6.018.. Train Linf norm: 424.871.. Val Linf norm: 833.306\n",
            "Epoch 8/87.. Train loss: 3.750.. Val loss: 3.654.. Train L1 norm: 4.290.. Val L1 norm: 5.675.. Train Linf norm: 441.366.. Val Linf norm: 761.442\n",
            "Epoch 9/87.. Train loss: 3.540.. Val loss: 3.387.. Train L1 norm: 3.949.. Val L1 norm: 4.922.. Train Linf norm: 404.600.. Val Linf norm: 638.188\n",
            "Epoch 10/87.. Train loss: 3.318.. Val loss: 3.131.. Train L1 norm: 3.632.. Val L1 norm: 4.076.. Train Linf norm: 385.357.. Val Linf norm: 520.850\n",
            "Epoch 11/87.. Train loss: 3.171.. Val loss: 3.065.. Train L1 norm: 3.409.. Val L1 norm: 3.943.. Train Linf norm: 356.371.. Val Linf norm: 501.118\n",
            "Epoch 12/87.. Train loss: 3.143.. Val loss: 3.060.. Train L1 norm: 3.312.. Val L1 norm: 3.963.. Train Linf norm: 346.326.. Val Linf norm: 502.893\n",
            "Epoch 13/87.. Train loss: 3.134.. Val loss: 3.025.. Train L1 norm: 3.325.. Val L1 norm: 3.821.. Train Linf norm: 351.856.. Val Linf norm: 487.543\n",
            "Epoch 14/87.. Train loss: 3.102.. Val loss: 2.941.. Train L1 norm: 3.256.. Val L1 norm: 4.096.. Train Linf norm: 340.376.. Val Linf norm: 527.193\n",
            "Epoch 15/87.. Train loss: 3.078.. Val loss: 2.953.. Train L1 norm: 3.510.. Val L1 norm: 3.889.. Train Linf norm: 406.967.. Val Linf norm: 520.953\n",
            "Epoch 16/87.. Train loss: 3.050.. Val loss: 2.990.. Train L1 norm: 3.395.. Val L1 norm: 4.625.. Train Linf norm: 391.188.. Val Linf norm: 633.406\n",
            "Epoch 17/87.. Train loss: 3.123.. Val loss: 3.043.. Train L1 norm: 3.310.. Val L1 norm: 4.403.. Train Linf norm: 348.992.. Val Linf norm: 638.968\n",
            "Epoch 18/87.. Train loss: 2.957.. Val loss: 2.799.. Train L1 norm: 3.175.. Val L1 norm: 4.621.. Train Linf norm: 335.862.. Val Linf norm: 627.797\n",
            "Epoch 19/87.. Train loss: 2.847.. Val loss: 2.611.. Train L1 norm: 3.143.. Val L1 norm: 4.571.. Train Linf norm: 355.737.. Val Linf norm: 638.892\n",
            "Epoch 20/87.. Train loss: 2.736.. Val loss: 2.671.. Train L1 norm: 2.940.. Val L1 norm: 4.084.. Train Linf norm: 311.037.. Val Linf norm: 559.835\n",
            "Epoch 21/87.. Train loss: 2.677.. Val loss: 2.619.. Train L1 norm: 2.725.. Val L1 norm: 5.043.. Train Linf norm: 265.712.. Val Linf norm: 717.910\n",
            "Epoch 22/87.. Train loss: 2.586.. Val loss: 2.641.. Train L1 norm: 2.780.. Val L1 norm: 5.726.. Train Linf norm: 302.424.. Val Linf norm: 821.568\n",
            "Epoch 23/87.. Train loss: 2.521.. Val loss: 2.389.. Train L1 norm: 2.669.. Val L1 norm: 3.558.. Train Linf norm: 283.350.. Val Linf norm: 492.880\n",
            "Epoch 24/87.. Train loss: 2.471.. Val loss: 2.429.. Train L1 norm: 2.619.. Val L1 norm: 3.793.. Train Linf norm: 276.358.. Val Linf norm: 573.111\n",
            "Epoch 25/87.. Train loss: 2.434.. Val loss: 2.546.. Train L1 norm: 2.691.. Val L1 norm: 5.059.. Train Linf norm: 287.630.. Val Linf norm: 754.580\n",
            "Epoch 26/87.. Train loss: 2.391.. Val loss: 2.380.. Train L1 norm: 2.561.. Val L1 norm: 4.118.. Train Linf norm: 277.031.. Val Linf norm: 565.830\n",
            "Epoch 27/87.. Train loss: 2.344.. Val loss: 2.421.. Train L1 norm: 2.514.. Val L1 norm: 4.829.. Train Linf norm: 268.622.. Val Linf norm: 689.200\n",
            "Epoch 28/87.. Train loss: 2.293.. Val loss: 2.199.. Train L1 norm: 2.408.. Val L1 norm: 3.189.. Train Linf norm: 248.316.. Val Linf norm: 444.004\n",
            "Epoch 29/87.. Train loss: 2.267.. Val loss: 2.391.. Train L1 norm: 2.479.. Val L1 norm: 4.655.. Train Linf norm: 271.739.. Val Linf norm: 665.764\n",
            "Epoch 30/87.. Train loss: 2.211.. Val loss: 2.276.. Train L1 norm: 2.438.. Val L1 norm: 4.377.. Train Linf norm: 273.038.. Val Linf norm: 641.137\n",
            "Epoch 31/87.. Train loss: 2.167.. Val loss: 2.182.. Train L1 norm: 2.387.. Val L1 norm: 3.928.. Train Linf norm: 256.782.. Val Linf norm: 566.486\n",
            "Epoch 32/87.. Train loss: 2.146.. Val loss: 2.342.. Train L1 norm: 2.330.. Val L1 norm: 4.555.. Train Linf norm: 256.631.. Val Linf norm: 661.286\n",
            "Epoch 33/87.. Train loss: 2.130.. Val loss: 2.223.. Train L1 norm: 2.259.. Val L1 norm: 4.075.. Train Linf norm: 238.828.. Val Linf norm: 585.296\n",
            "Epoch 34/87.. Train loss: 2.120.. Val loss: 2.219.. Train L1 norm: 2.235.. Val L1 norm: 4.071.. Train Linf norm: 241.119.. Val Linf norm: 584.621\n",
            "Epoch 35/87.. Train loss: 2.118.. Val loss: 2.218.. Train L1 norm: 2.310.. Val L1 norm: 4.062.. Train Linf norm: 257.446.. Val Linf norm: 576.153\n",
            "Epoch 36/87.. Train loss: 2.135.. Val loss: 2.324.. Train L1 norm: 2.285.. Val L1 norm: 4.644.. Train Linf norm: 238.432.. Val Linf norm: 677.349\n",
            "Epoch 37/87.. Train loss: 2.144.. Val loss: 2.223.. Train L1 norm: 2.306.. Val L1 norm: 4.114.. Train Linf norm: 231.647.. Val Linf norm: 592.379\n",
            "Epoch 38/87.. Train loss: 2.165.. Val loss: 2.223.. Train L1 norm: 2.513.. Val L1 norm: 3.989.. Train Linf norm: 302.207.. Val Linf norm: 562.154\n",
            "Epoch 39/87.. Train loss: 2.232.. Val loss: 2.141.. Train L1 norm: 2.481.. Val L1 norm: 3.488.. Train Linf norm: 283.673.. Val Linf norm: 499.342\n",
            "Epoch 40/87.. Train loss: 2.237.. Val loss: 2.296.. Train L1 norm: 2.441.. Val L1 norm: 4.256.. Train Linf norm: 275.347.. Val Linf norm: 607.564\n",
            "Epoch 41/87.. Train loss: 3.173.. Val loss: 3.036.. Train L1 norm: 2.972.. Val L1 norm: 5.571.. Train Linf norm: 350.574.. Val Linf norm: 779.288\n",
            "Epoch 42/87.. Train loss: 2.841.. Val loss: 2.653.. Train L1 norm: 2.583.. Val L1 norm: 4.993.. Train Linf norm: 261.689.. Val Linf norm: 683.461\n",
            "Epoch 43/87.. Train loss: 2.442.. Val loss: 2.244.. Train L1 norm: 2.470.. Val L1 norm: 3.749.. Train Linf norm: 263.276.. Val Linf norm: 547.398\n",
            "Epoch 44/87.. Train loss: 2.330.. Val loss: 2.374.. Train L1 norm: 2.478.. Val L1 norm: 4.280.. Train Linf norm: 274.840.. Val Linf norm: 601.217\n",
            "Epoch 45/87.. Train loss: 2.293.. Val loss: 2.532.. Train L1 norm: 2.481.. Val L1 norm: 5.240.. Train Linf norm: 269.101.. Val Linf norm: 757.116\n",
            "Epoch 46/87.. Train loss: 2.274.. Val loss: 2.289.. Train L1 norm: 2.505.. Val L1 norm: 4.327.. Train Linf norm: 281.261.. Val Linf norm: 650.061\n",
            "Epoch 47/87.. Train loss: 2.264.. Val loss: 2.195.. Train L1 norm: 2.317.. Val L1 norm: 3.366.. Train Linf norm: 239.069.. Val Linf norm: 467.541\n",
            "Epoch 48/87.. Train loss: 2.316.. Val loss: 2.243.. Train L1 norm: 2.388.. Val L1 norm: 4.082.. Train Linf norm: 263.493.. Val Linf norm: 584.759\n",
            "Epoch 49/87.. Train loss: 2.184.. Val loss: 2.099.. Train L1 norm: 2.371.. Val L1 norm: 3.288.. Train Linf norm: 267.373.. Val Linf norm: 468.472\n",
            "Epoch 50/87.. Train loss: 2.168.. Val loss: 2.128.. Train L1 norm: 2.342.. Val L1 norm: 3.548.. Train Linf norm: 262.758.. Val Linf norm: 500.474\n",
            "Epoch 51/87.. Train loss: 2.117.. Val loss: 2.142.. Train L1 norm: 2.146.. Val L1 norm: 3.379.. Train Linf norm: 218.227.. Val Linf norm: 446.194\n",
            "Epoch 52/87.. Train loss: 2.079.. Val loss: 2.159.. Train L1 norm: 2.297.. Val L1 norm: 3.861.. Train Linf norm: 263.231.. Val Linf norm: 562.142\n",
            "Epoch 53/87.. Train loss: 2.053.. Val loss: 2.070.. Train L1 norm: 2.107.. Val L1 norm: 3.412.. Train Linf norm: 217.904.. Val Linf norm: 479.423\n",
            "Epoch 54/87.. Train loss: 2.039.. Val loss: 2.161.. Train L1 norm: 2.136.. Val L1 norm: 3.782.. Train Linf norm: 231.951.. Val Linf norm: 534.059\n",
            "Epoch 55/87.. Train loss: 2.017.. Val loss: 2.163.. Train L1 norm: 2.102.. Val L1 norm: 3.845.. Train Linf norm: 228.488.. Val Linf norm: 545.474\n",
            "Epoch 56/87.. Train loss: 2.019.. Val loss: 2.147.. Train L1 norm: 2.179.. Val L1 norm: 3.789.. Train Linf norm: 233.574.. Val Linf norm: 537.852\n",
            "Epoch 57/87.. Train loss: 2.019.. Val loss: 2.136.. Train L1 norm: 2.154.. Val L1 norm: 3.804.. Train Linf norm: 227.333.. Val Linf norm: 546.494\n",
            "Epoch 58/87.. Train loss: 2.023.. Val loss: 2.114.. Train L1 norm: 2.122.. Val L1 norm: 3.816.. Train Linf norm: 229.578.. Val Linf norm: 560.689\n",
            "Epoch 59/87.. Train loss: 2.040.. Val loss: 2.245.. Train L1 norm: 2.236.. Val L1 norm: 4.227.. Train Linf norm: 252.552.. Val Linf norm: 603.801\n",
            "Epoch 60/87.. Train loss: 2.063.. Val loss: 2.102.. Train L1 norm: 2.175.. Val L1 norm: 3.647.. Train Linf norm: 231.704.. Val Linf norm: 524.667\n",
            "Epoch 61/87.. Train loss: 2.084.. Val loss: 2.294.. Train L1 norm: 2.176.. Val L1 norm: 4.060.. Train Linf norm: 215.960.. Val Linf norm: 567.019\n",
            "Epoch 62/87.. Train loss: 2.103.. Val loss: 2.116.. Train L1 norm: 2.170.. Val L1 norm: 3.655.. Train Linf norm: 233.124.. Val Linf norm: 530.449\n",
            "Epoch 63/87.. Train loss: 2.117.. Val loss: 2.146.. Train L1 norm: 2.195.. Val L1 norm: 3.444.. Train Linf norm: 241.768.. Val Linf norm: 484.045\n",
            "Epoch 64/87.. Train loss: 2.146.. Val loss: 2.336.. Train L1 norm: 2.282.. Val L1 norm: 4.451.. Train Linf norm: 252.025.. Val Linf norm: 630.929\n",
            "Epoch 65/87.. Train loss: 2.145.. Val loss: 2.482.. Train L1 norm: 2.328.. Val L1 norm: 4.980.. Train Linf norm: 260.056.. Val Linf norm: 720.867\n",
            "Epoch 66/87.. Train loss: 2.155.. Val loss: 2.188.. Train L1 norm: 2.322.. Val L1 norm: 3.750.. Train Linf norm: 255.970.. Val Linf norm: 510.551\n",
            "Epoch 67/87.. Train loss: 2.187.. Val loss: 2.105.. Train L1 norm: 2.185.. Val L1 norm: 3.487.. Train Linf norm: 214.983.. Val Linf norm: 536.058\n",
            "Epoch 68/87.. Train loss: 2.179.. Val loss: 2.129.. Train L1 norm: 2.296.. Val L1 norm: 3.359.. Train Linf norm: 249.254.. Val Linf norm: 467.420\n",
            "Epoch 69/87.. Train loss: 2.137.. Val loss: 2.348.. Train L1 norm: 2.360.. Val L1 norm: 4.602.. Train Linf norm: 271.893.. Val Linf norm: 678.546\n",
            "Epoch 70/87.. Train loss: 2.123.. Val loss: 2.272.. Train L1 norm: 2.264.. Val L1 norm: 4.166.. Train Linf norm: 241.231.. Val Linf norm: 620.232\n",
            "Epoch 71/87.. Train loss: 2.107.. Val loss: 2.387.. Train L1 norm: 2.084.. Val L1 norm: 4.771.. Train Linf norm: 209.942.. Val Linf norm: 671.879\n",
            "Epoch 72/87.. Train loss: 2.058.. Val loss: 2.056.. Train L1 norm: 2.265.. Val L1 norm: 3.504.. Train Linf norm: 261.254.. Val Linf norm: 538.360\n",
            "Epoch 73/87.. Train loss: 2.038.. Val loss: 2.152.. Train L1 norm: 2.149.. Val L1 norm: 3.714.. Train Linf norm: 233.666.. Val Linf norm: 535.103\n",
            "Epoch 74/87.. Train loss: 1.990.. Val loss: 2.230.. Train L1 norm: 2.186.. Val L1 norm: 4.213.. Train Linf norm: 247.433.. Val Linf norm: 600.582\n",
            "Epoch 75/87.. Train loss: 1.963.. Val loss: 2.164.. Train L1 norm: 2.024.. Val L1 norm: 4.201.. Train Linf norm: 208.281.. Val Linf norm: 630.982\n",
            "Epoch 76/87.. Train loss: 1.937.. Val loss: 2.090.. Train L1 norm: 1.997.. Val L1 norm: 3.918.. Train Linf norm: 211.485.. Val Linf norm: 586.949\n",
            "Epoch 77/87.. Train loss: 1.928.. Val loss: 2.054.. Train L1 norm: 2.002.. Val L1 norm: 3.786.. Train Linf norm: 222.091.. Val Linf norm: 566.155\n",
            "Epoch 78/87.. Train loss: 1.914.. Val loss: 2.071.. Train L1 norm: 1.938.. Val L1 norm: 3.841.. Train Linf norm: 197.842.. Val Linf norm: 572.000\n",
            "Epoch 79/87.. Train loss: 1.920.. Val loss: 2.105.. Train L1 norm: 2.059.. Val L1 norm: 3.948.. Train Linf norm: 227.560.. Val Linf norm: 583.462\n",
            "Epoch 80/87.. Train loss: 1.928.. Val loss: 2.080.. Train L1 norm: 2.038.. Val L1 norm: 3.676.. Train Linf norm: 222.677.. Val Linf norm: 535.253\n",
            "Epoch 81/87.. Train loss: 1.945.. Val loss: 2.205.. Train L1 norm: 2.055.. Val L1 norm: 4.306.. Train Linf norm: 224.756.. Val Linf norm: 618.837\n",
            "Epoch 82/87.. Train loss: 1.960.. Val loss: 2.097.. Train L1 norm: 2.141.. Val L1 norm: 3.866.. Train Linf norm: 243.573.. Val Linf norm: 593.378\n",
            "Epoch 83/87.. Train loss: 1.994.. Val loss: 2.262.. Train L1 norm: 2.149.. Val L1 norm: 4.485.. Train Linf norm: 243.074.. Val Linf norm: 632.485\n",
            "Epoch 84/87.. Train loss: 2.021.. Val loss: 2.103.. Train L1 norm: 2.216.. Val L1 norm: 3.758.. Train Linf norm: 244.848.. Val Linf norm: 538.584\n",
            "Epoch 85/87.. Train loss: 2.066.. Val loss: 2.190.. Train L1 norm: 2.161.. Val L1 norm: 4.111.. Train Linf norm: 233.533.. Val Linf norm: 610.766\n",
            "Epoch 86/87.. Train loss: 2.077.. Val loss: 2.147.. Train L1 norm: 2.120.. Val L1 norm: 3.967.. Train Linf norm: 223.587.. Val Linf norm: 602.434\n"
          ]
        },
        {
          "output_type": "stream",
          "name": "stderr",
          "text": [
            "[I 2023-05-31 19:49:08,496] Trial 0 finished with value: 3.354011576016744 and parameters: {'batch_size': 256, 'beta1': 0.9254092973566581, 'beta2': 0.9996750404051874, 'dropout_rate': 0.06522540720596481, 'eta_min': 6.298927423495523e-07, 'hidden_activation': 'PReLU', 'loss': 'MAE', 'lr': 0.0008696902482679398, 'n_epochs': 87, 'n_layers': 7, 'n_units_0': 2807, 'n_units_1': 1681, 'n_units_2': 2605, 'n_units_3': 254, 'n_units_4': 578, 'n_units_5': 1472, 'n_units_6': 1764, 'optimizer': 'Adam', 'output_activation': 'Linear', 'prelu_init': 0.11791598313929326, 'scheduler': 'CosineAnnealingLR', 't_max_fraction': 0.12804904608843393, 'weight_decay': 7.871154430081935e-05}. Best is trial 0 with value: 3.354011576016744.\n"
          ]
        },
        {
          "output_type": "stream",
          "name": "stdout",
          "text": [
            "Epoch 87/87.. Train loss: 2.108.. Val loss: 2.122.. Train L1 norm: 2.244.. Val L1 norm: 3.354.. Train Linf norm: 254.364.. Val Linf norm: 462.464\n"
          ]
        },
        {
          "output_type": "stream",
          "name": "stderr",
          "text": [
            "<ipython-input-78-5ce9a06c2c29>:178: FutureWarning: suggest_uniform has been deprecated in v3.0.0. This feature will be removed in v6.0.0. See https://github.com/optuna/optuna/releases/tag/v3.0.0. Use suggest_float instead.\n",
            "  factor = trial.suggest_uniform(\"factor\", 0.1, 0.5)\n",
            "<ipython-input-78-5ce9a06c2c29>:180: FutureWarning: suggest_loguniform has been deprecated in v3.0.0. This feature will be removed in v6.0.0. See https://github.com/optuna/optuna/releases/tag/v3.0.0. Use suggest_float(..., log=True) instead.\n",
            "  threshold = trial.suggest_loguniform(\"threshold\", 1e-4, 1e-2)\n"
          ]
        },
        {
          "output_type": "stream",
          "name": "stdout",
          "text": [
            "Epoch 1/111.. Train loss: 2.043.. Val loss: 1.952.. Train L1 norm: 4.409.. Val L1 norm: 5.376.. Train Linf norm: 775.200.. Val Linf norm: 1192.338\n",
            "Epoch 2/111.. Train loss: 1.967.. Val loss: 1.926.. Train L1 norm: 4.628.. Val L1 norm: 5.270.. Train Linf norm: 834.049.. Val Linf norm: 1247.146\n",
            "Epoch 3/111.. Train loss: 1.925.. Val loss: 1.908.. Train L1 norm: 4.490.. Val L1 norm: 5.816.. Train Linf norm: 827.975.. Val Linf norm: 1316.934\n",
            "Epoch 4/111.. Train loss: 1.914.. Val loss: 1.900.. Train L1 norm: 4.614.. Val L1 norm: 5.857.. Train Linf norm: 919.426.. Val Linf norm: 1305.736\n",
            "Epoch 5/111.. Train loss: 1.915.. Val loss: 1.908.. Train L1 norm: 4.473.. Val L1 norm: 4.786.. Train Linf norm: 789.218.. Val Linf norm: 1079.773\n",
            "Epoch 6/111.. Train loss: 1.913.. Val loss: 1.925.. Train L1 norm: 4.459.. Val L1 norm: 4.936.. Train Linf norm: 824.308.. Val Linf norm: 1110.135\n",
            "Epoch 7/111.. Train loss: 1.912.. Val loss: 1.896.. Train L1 norm: 4.453.. Val L1 norm: 4.726.. Train Linf norm: 811.795.. Val Linf norm: 1074.000\n",
            "Epoch 8/111.. Train loss: 1.903.. Val loss: 1.918.. Train L1 norm: 4.455.. Val L1 norm: 6.110.. Train Linf norm: 799.387.. Val Linf norm: 1456.536\n",
            "Epoch 9/111.. Train loss: 1.906.. Val loss: 1.887.. Train L1 norm: 4.568.. Val L1 norm: 5.182.. Train Linf norm: 852.982.. Val Linf norm: 1181.646\n",
            "Epoch 10/111.. Train loss: 1.900.. Val loss: 1.908.. Train L1 norm: 4.374.. Val L1 norm: 5.057.. Train Linf norm: 777.003.. Val Linf norm: 1169.577\n",
            "Epoch 11/111.. Train loss: 1.906.. Val loss: 1.883.. Train L1 norm: 4.428.. Val L1 norm: 4.645.. Train Linf norm: 808.995.. Val Linf norm: 1041.446\n",
            "Epoch 12/111.. Train loss: 1.914.. Val loss: 1.899.. Train L1 norm: 4.248.. Val L1 norm: 6.114.. Train Linf norm: 703.452.. Val Linf norm: 1410.611\n",
            "Epoch 13/111.. Train loss: 1.899.. Val loss: 1.873.. Train L1 norm: 4.333.. Val L1 norm: 5.659.. Train Linf norm: 720.767.. Val Linf norm: 1335.856\n",
            "Epoch 14/111.. Train loss: 1.898.. Val loss: 1.875.. Train L1 norm: 4.475.. Val L1 norm: 5.703.. Train Linf norm: 829.877.. Val Linf norm: 1312.663\n",
            "Epoch 15/111.. Train loss: 1.888.. Val loss: 1.895.. Train L1 norm: 4.468.. Val L1 norm: 6.396.. Train Linf norm: 858.525.. Val Linf norm: 1487.409\n",
            "Epoch 16/111.. Train loss: 1.892.. Val loss: 1.881.. Train L1 norm: 4.619.. Val L1 norm: 4.553.. Train Linf norm: 928.724.. Val Linf norm: 1032.535\n",
            "Epoch 17/111.. Train loss: 1.889.. Val loss: 1.884.. Train L1 norm: 4.458.. Val L1 norm: 6.149.. Train Linf norm: 837.001.. Val Linf norm: 1456.737\n",
            "Epoch 18/111.. Train loss: 1.885.. Val loss: 1.865.. Train L1 norm: 4.412.. Val L1 norm: 5.331.. Train Linf norm: 814.417.. Val Linf norm: 1230.052\n",
            "Epoch 19/111.. Train loss: 1.876.. Val loss: 1.873.. Train L1 norm: 4.432.. Val L1 norm: 6.332.. Train Linf norm: 833.114.. Val Linf norm: 1479.979\n",
            "Epoch 20/111.. Train loss: 1.879.. Val loss: 1.848.. Train L1 norm: 4.339.. Val L1 norm: 5.975.. Train Linf norm: 798.051.. Val Linf norm: 1429.641\n",
            "Epoch 21/111.. Train loss: 1.876.. Val loss: 1.858.. Train L1 norm: 4.418.. Val L1 norm: 5.732.. Train Linf norm: 807.277.. Val Linf norm: 1348.288\n",
            "Epoch 22/111.. Train loss: 1.877.. Val loss: 1.861.. Train L1 norm: 4.395.. Val L1 norm: 6.260.. Train Linf norm: 799.677.. Val Linf norm: 1474.351\n",
            "Epoch 23/111.. Train loss: 1.876.. Val loss: 1.858.. Train L1 norm: 4.309.. Val L1 norm: 4.564.. Train Linf norm: 771.826.. Val Linf norm: 1052.118\n",
            "Epoch 24/111.. Train loss: 1.869.. Val loss: 1.857.. Train L1 norm: 4.320.. Val L1 norm: 4.906.. Train Linf norm: 773.962.. Val Linf norm: 1136.737\n",
            "Epoch 25/111.. Train loss: 1.865.. Val loss: 1.870.. Train L1 norm: 4.391.. Val L1 norm: 6.512.. Train Linf norm: 808.429.. Val Linf norm: 1530.356\n",
            "Epoch 26/111.. Train loss: 1.867.. Val loss: 1.837.. Train L1 norm: 4.382.. Val L1 norm: 5.400.. Train Linf norm: 806.631.. Val Linf norm: 1233.508\n",
            "Epoch 27/111.. Train loss: 1.859.. Val loss: 1.844.. Train L1 norm: 4.281.. Val L1 norm: 5.433.. Train Linf norm: 752.933.. Val Linf norm: 1253.891\n",
            "Epoch 28/111.. Train loss: 1.851.. Val loss: 1.804.. Train L1 norm: 4.490.. Val L1 norm: 5.776.. Train Linf norm: 891.845.. Val Linf norm: 1381.098\n",
            "Epoch 29/111.. Train loss: 1.842.. Val loss: 1.826.. Train L1 norm: 4.460.. Val L1 norm: 6.424.. Train Linf norm: 888.727.. Val Linf norm: 1525.395\n",
            "Epoch 30/111.. Train loss: 1.814.. Val loss: 1.756.. Train L1 norm: 4.294.. Val L1 norm: 5.827.. Train Linf norm: 783.108.. Val Linf norm: 1383.157\n",
            "Epoch 31/111.. Train loss: 1.809.. Val loss: 1.724.. Train L1 norm: 4.327.. Val L1 norm: 4.171.. Train Linf norm: 833.534.. Val Linf norm: 929.063\n",
            "Epoch 32/111.. Train loss: 1.787.. Val loss: 1.698.. Train L1 norm: 4.074.. Val L1 norm: 5.294.. Train Linf norm: 710.834.. Val Linf norm: 1230.450\n",
            "Epoch 33/111.. Train loss: 1.777.. Val loss: 1.675.. Train L1 norm: 4.387.. Val L1 norm: 4.909.. Train Linf norm: 856.841.. Val Linf norm: 1148.123\n",
            "Epoch 34/111.. Train loss: 1.757.. Val loss: 1.640.. Train L1 norm: 4.039.. Val L1 norm: 4.731.. Train Linf norm: 699.906.. Val Linf norm: 1090.247\n",
            "Epoch 35/111.. Train loss: 1.745.. Val loss: 1.611.. Train L1 norm: 4.094.. Val L1 norm: 5.249.. Train Linf norm: 746.051.. Val Linf norm: 1235.622\n",
            "Epoch 36/111.. Train loss: 1.733.. Val loss: 1.625.. Train L1 norm: 4.019.. Val L1 norm: 4.041.. Train Linf norm: 748.854.. Val Linf norm: 896.535\n",
            "Epoch 37/111.. Train loss: 1.710.. Val loss: 1.595.. Train L1 norm: 3.911.. Val L1 norm: 5.316.. Train Linf norm: 688.750.. Val Linf norm: 1298.442\n",
            "Epoch 38/111.. Train loss: 1.692.. Val loss: 1.591.. Train L1 norm: 4.223.. Val L1 norm: 5.084.. Train Linf norm: 855.002.. Val Linf norm: 1198.229\n",
            "Epoch 39/111.. Train loss: 1.684.. Val loss: 1.596.. Train L1 norm: 3.968.. Val L1 norm: 3.638.. Train Linf norm: 761.554.. Val Linf norm: 841.243\n",
            "Epoch 40/111.. Train loss: 1.673.. Val loss: 1.527.. Train L1 norm: 3.921.. Val L1 norm: 4.072.. Train Linf norm: 732.389.. Val Linf norm: 914.771\n",
            "Epoch 41/111.. Train loss: 1.655.. Val loss: 1.566.. Train L1 norm: 3.747.. Val L1 norm: 4.239.. Train Linf norm: 653.721.. Val Linf norm: 966.149\n",
            "Epoch 42/111.. Train loss: 1.652.. Val loss: 1.525.. Train L1 norm: 3.552.. Val L1 norm: 4.890.. Train Linf norm: 576.445.. Val Linf norm: 1153.227\n",
            "Epoch 43/111.. Train loss: 1.650.. Val loss: 1.527.. Train L1 norm: 3.710.. Val L1 norm: 4.260.. Train Linf norm: 637.355.. Val Linf norm: 994.448\n",
            "Epoch 44/111.. Train loss: 1.639.. Val loss: 1.533.. Train L1 norm: 3.858.. Val L1 norm: 3.820.. Train Linf norm: 745.236.. Val Linf norm: 875.534\n",
            "Epoch 45/111.. Train loss: 1.625.. Val loss: 1.510.. Train L1 norm: 3.830.. Val L1 norm: 4.012.. Train Linf norm: 702.635.. Val Linf norm: 913.702\n",
            "Epoch 46/111.. Train loss: 1.626.. Val loss: 1.479.. Train L1 norm: 3.618.. Val L1 norm: 4.507.. Train Linf norm: 644.886.. Val Linf norm: 1018.860\n",
            "Epoch 47/111.. Train loss: 1.621.. Val loss: 1.537.. Train L1 norm: 3.600.. Val L1 norm: 3.470.. Train Linf norm: 608.731.. Val Linf norm: 775.630\n",
            "Epoch 48/111.. Train loss: 1.614.. Val loss: 1.506.. Train L1 norm: 3.885.. Val L1 norm: 4.121.. Train Linf norm: 775.000.. Val Linf norm: 944.590\n",
            "Epoch 49/111.. Train loss: 1.607.. Val loss: 1.535.. Train L1 norm: 3.688.. Val L1 norm: 3.225.. Train Linf norm: 676.507.. Val Linf norm: 783.216\n",
            "Epoch 50/111.. Train loss: 1.603.. Val loss: 1.474.. Train L1 norm: 3.719.. Val L1 norm: 4.571.. Train Linf norm: 678.357.. Val Linf norm: 1097.451\n",
            "Epoch 51/111.. Train loss: 1.600.. Val loss: 1.487.. Train L1 norm: 3.539.. Val L1 norm: 3.762.. Train Linf norm: 622.330.. Val Linf norm: 899.063\n",
            "Epoch 52/111.. Train loss: 1.602.. Val loss: 1.482.. Train L1 norm: 3.694.. Val L1 norm: 4.459.. Train Linf norm: 634.140.. Val Linf norm: 1058.777\n",
            "Epoch 53/111.. Train loss: 1.594.. Val loss: 1.497.. Train L1 norm: 3.451.. Val L1 norm: 3.607.. Train Linf norm: 581.245.. Val Linf norm: 807.853\n",
            "Epoch 54/111.. Train loss: 1.589.. Val loss: 1.494.. Train L1 norm: 3.471.. Val L1 norm: 4.855.. Train Linf norm: 610.570.. Val Linf norm: 1197.293\n",
            "Epoch 55/111.. Train loss: 1.595.. Val loss: 1.530.. Train L1 norm: 3.530.. Val L1 norm: 3.788.. Train Linf norm: 626.875.. Val Linf norm: 848.685\n",
            "Epoch 56/111.. Train loss: 1.576.. Val loss: 1.469.. Train L1 norm: 3.674.. Val L1 norm: 5.131.. Train Linf norm: 681.617.. Val Linf norm: 1214.832\n",
            "Epoch 57/111.. Train loss: 1.572.. Val loss: 1.469.. Train L1 norm: 3.660.. Val L1 norm: 4.749.. Train Linf norm: 687.138.. Val Linf norm: 1120.570\n",
            "Epoch 58/111.. Train loss: 1.574.. Val loss: 1.469.. Train L1 norm: 3.666.. Val L1 norm: 3.691.. Train Linf norm: 727.538.. Val Linf norm: 867.048\n",
            "Epoch 59/111.. Train loss: 1.572.. Val loss: 1.487.. Train L1 norm: 3.497.. Val L1 norm: 3.138.. Train Linf norm: 607.880.. Val Linf norm: 755.910\n",
            "Epoch 60/111.. Train loss: 1.565.. Val loss: 1.467.. Train L1 norm: 3.579.. Val L1 norm: 3.947.. Train Linf norm: 677.147.. Val Linf norm: 914.021\n",
            "Epoch 61/111.. Train loss: 1.556.. Val loss: 1.437.. Train L1 norm: 3.535.. Val L1 norm: 3.654.. Train Linf norm: 659.636.. Val Linf norm: 884.735\n",
            "Epoch 62/111.. Train loss: 1.551.. Val loss: 1.459.. Train L1 norm: 3.291.. Val L1 norm: 3.259.. Train Linf norm: 521.984.. Val Linf norm: 734.814\n",
            "Epoch 63/111.. Train loss: 1.546.. Val loss: 1.399.. Train L1 norm: 3.629.. Val L1 norm: 3.811.. Train Linf norm: 710.346.. Val Linf norm: 924.779\n",
            "Epoch 64/111.. Train loss: 1.539.. Val loss: 1.407.. Train L1 norm: 3.367.. Val L1 norm: 3.620.. Train Linf norm: 584.027.. Val Linf norm: 851.405\n",
            "Epoch 65/111.. Train loss: 1.538.. Val loss: 1.391.. Train L1 norm: 3.362.. Val L1 norm: 3.622.. Train Linf norm: 579.795.. Val Linf norm: 867.993\n",
            "Epoch 66/111.. Train loss: 1.544.. Val loss: 1.411.. Train L1 norm: 3.353.. Val L1 norm: 3.010.. Train Linf norm: 558.512.. Val Linf norm: 717.527\n",
            "Epoch 67/111.. Train loss: 1.526.. Val loss: 1.416.. Train L1 norm: 3.616.. Val L1 norm: 3.444.. Train Linf norm: 692.380.. Val Linf norm: 809.590\n",
            "Epoch 68/111.. Train loss: 1.526.. Val loss: 1.391.. Train L1 norm: 3.317.. Val L1 norm: 3.838.. Train Linf norm: 578.405.. Val Linf norm: 849.034\n",
            "Epoch 69/111.. Train loss: 1.529.. Val loss: 1.384.. Train L1 norm: 3.344.. Val L1 norm: 3.165.. Train Linf norm: 619.410.. Val Linf norm: 741.485\n",
            "Epoch 70/111.. Train loss: 1.525.. Val loss: 1.360.. Train L1 norm: 3.348.. Val L1 norm: 3.403.. Train Linf norm: 595.652.. Val Linf norm: 814.204\n",
            "Epoch 71/111.. Train loss: 1.511.. Val loss: 1.387.. Train L1 norm: 3.466.. Val L1 norm: 3.483.. Train Linf norm: 676.345.. Val Linf norm: 781.154\n",
            "Epoch 72/111.. Train loss: 1.503.. Val loss: 1.361.. Train L1 norm: 3.378.. Val L1 norm: 4.220.. Train Linf norm: 629.509.. Val Linf norm: 1033.551\n",
            "Epoch 73/111.. Train loss: 1.498.. Val loss: 1.314.. Train L1 norm: 3.522.. Val L1 norm: 3.605.. Train Linf norm: 668.552.. Val Linf norm: 853.328\n",
            "Epoch 74/111.. Train loss: 1.511.. Val loss: 1.312.. Train L1 norm: 3.327.. Val L1 norm: 3.816.. Train Linf norm: 599.604.. Val Linf norm: 983.406\n",
            "Epoch 75/111.. Train loss: 1.497.. Val loss: 1.325.. Train L1 norm: 3.361.. Val L1 norm: 4.418.. Train Linf norm: 596.493.. Val Linf norm: 1118.789\n",
            "Epoch 76/111.. Train loss: 1.493.. Val loss: 1.387.. Train L1 norm: 3.321.. Val L1 norm: 3.184.. Train Linf norm: 591.079.. Val Linf norm: 729.643\n",
            "Epoch 77/111.. Train loss: 1.497.. Val loss: 1.359.. Train L1 norm: 3.317.. Val L1 norm: 4.287.. Train Linf norm: 626.848.. Val Linf norm: 1058.295\n",
            "Epoch 78/111.. Train loss: 1.492.. Val loss: 1.369.. Train L1 norm: 3.380.. Val L1 norm: 4.886.. Train Linf norm: 634.670.. Val Linf norm: 1185.403\n",
            "Epoch 79/111.. Train loss: 1.486.. Val loss: 1.378.. Train L1 norm: 3.414.. Val L1 norm: 4.495.. Train Linf norm: 621.004.. Val Linf norm: 1139.538\n",
            "Epoch 80/111.. Train loss: 1.481.. Val loss: 1.351.. Train L1 norm: 3.176.. Val L1 norm: 3.717.. Train Linf norm: 547.337.. Val Linf norm: 923.060\n",
            "Epoch 81/111.. Train loss: 1.483.. Val loss: 1.351.. Train L1 norm: 3.354.. Val L1 norm: 3.606.. Train Linf norm: 575.713.. Val Linf norm: 823.210\n",
            "Epoch 82/111.. Train loss: 1.478.. Val loss: 1.327.. Train L1 norm: 3.256.. Val L1 norm: 4.079.. Train Linf norm: 582.249.. Val Linf norm: 1012.148\n",
            "Epoch 83/111.. Train loss: 1.484.. Val loss: 1.301.. Train L1 norm: 3.441.. Val L1 norm: 3.952.. Train Linf norm: 686.830.. Val Linf norm: 962.717\n",
            "Epoch 84/111.. Train loss: 1.474.. Val loss: 1.303.. Train L1 norm: 3.253.. Val L1 norm: 3.824.. Train Linf norm: 547.784.. Val Linf norm: 952.296\n",
            "Epoch 85/111.. Train loss: 1.474.. Val loss: 1.342.. Train L1 norm: 3.221.. Val L1 norm: 3.230.. Train Linf norm: 568.508.. Val Linf norm: 774.106\n",
            "Epoch 86/111.. Train loss: 1.481.. Val loss: 1.320.. Train L1 norm: 3.242.. Val L1 norm: 4.104.. Train Linf norm: 570.510.. Val Linf norm: 1012.430\n",
            "Epoch 87/111.. Train loss: 1.472.. Val loss: 1.411.. Train L1 norm: 3.162.. Val L1 norm: 2.572.. Train Linf norm: 554.325.. Val Linf norm: 596.064\n",
            "Epoch 88/111.. Train loss: 1.466.. Val loss: 1.331.. Train L1 norm: 3.275.. Val L1 norm: 3.466.. Train Linf norm: 606.232.. Val Linf norm: 822.528\n",
            "Epoch 89/111.. Train loss: 1.465.. Val loss: 1.275.. Train L1 norm: 3.282.. Val L1 norm: 2.990.. Train Linf norm: 604.367.. Val Linf norm: 672.620\n",
            "Epoch 90/111.. Train loss: 1.462.. Val loss: 1.319.. Train L1 norm: 3.318.. Val L1 norm: 4.056.. Train Linf norm: 605.073.. Val Linf norm: 1011.579\n",
            "Epoch 91/111.. Train loss: 1.457.. Val loss: 1.350.. Train L1 norm: 3.339.. Val L1 norm: 3.247.. Train Linf norm: 655.347.. Val Linf norm: 785.496\n",
            "Epoch 92/111.. Train loss: 1.457.. Val loss: 1.344.. Train L1 norm: 3.332.. Val L1 norm: 2.851.. Train Linf norm: 584.486.. Val Linf norm: 666.796\n",
            "Epoch 93/111.. Train loss: 1.449.. Val loss: 1.341.. Train L1 norm: 3.240.. Val L1 norm: 2.884.. Train Linf norm: 556.043.. Val Linf norm: 668.157\n",
            "Epoch 94/111.. Train loss: 1.453.. Val loss: 1.311.. Train L1 norm: 3.252.. Val L1 norm: 2.978.. Train Linf norm: 577.964.. Val Linf norm: 742.843\n",
            "Epoch 95/111.. Train loss: 1.462.. Val loss: 1.290.. Train L1 norm: 3.158.. Val L1 norm: 3.173.. Train Linf norm: 540.866.. Val Linf norm: 761.393\n",
            "Epoch 96/111.. Train loss: 1.454.. Val loss: 1.310.. Train L1 norm: 3.476.. Val L1 norm: 3.333.. Train Linf norm: 673.568.. Val Linf norm: 858.876\n",
            "Epoch 97/111.. Train loss: 1.449.. Val loss: 1.304.. Train L1 norm: 2.951.. Val L1 norm: 3.674.. Train Linf norm: 462.292.. Val Linf norm: 933.703\n",
            "Epoch 98/111.. Train loss: 1.447.. Val loss: 1.276.. Train L1 norm: 3.286.. Val L1 norm: 3.860.. Train Linf norm: 594.077.. Val Linf norm: 949.360\n",
            "Epoch 99/111.. Train loss: 1.427.. Val loss: 1.252.. Train L1 norm: 3.230.. Val L1 norm: 3.522.. Train Linf norm: 615.658.. Val Linf norm: 896.052\n",
            "Epoch 100/111.. Train loss: 1.423.. Val loss: 1.262.. Train L1 norm: 3.106.. Val L1 norm: 3.729.. Train Linf norm: 530.994.. Val Linf norm: 895.542\n",
            "Epoch 101/111.. Train loss: 1.419.. Val loss: 1.256.. Train L1 norm: 3.105.. Val L1 norm: 3.316.. Train Linf norm: 513.267.. Val Linf norm: 785.141\n",
            "Epoch 102/111.. Train loss: 1.412.. Val loss: 1.246.. Train L1 norm: 3.217.. Val L1 norm: 3.548.. Train Linf norm: 615.540.. Val Linf norm: 890.253\n",
            "Epoch 103/111.. Train loss: 1.414.. Val loss: 1.270.. Train L1 norm: 3.260.. Val L1 norm: 3.343.. Train Linf norm: 611.950.. Val Linf norm: 840.098\n",
            "Epoch 104/111.. Train loss: 1.415.. Val loss: 1.231.. Train L1 norm: 3.100.. Val L1 norm: 3.398.. Train Linf norm: 556.551.. Val Linf norm: 858.964\n",
            "Epoch 105/111.. Train loss: 1.416.. Val loss: 1.247.. Train L1 norm: 3.205.. Val L1 norm: 4.024.. Train Linf norm: 608.239.. Val Linf norm: 1029.431\n",
            "Epoch 106/111.. Train loss: 1.414.. Val loss: 1.252.. Train L1 norm: 3.030.. Val L1 norm: 3.556.. Train Linf norm: 515.299.. Val Linf norm: 861.686\n",
            "Epoch 107/111.. Train loss: 1.408.. Val loss: 1.261.. Train L1 norm: 3.160.. Val L1 norm: 3.061.. Train Linf norm: 548.707.. Val Linf norm: 742.763\n",
            "Epoch 108/111.. Train loss: 1.413.. Val loss: 1.223.. Train L1 norm: 3.295.. Val L1 norm: 3.944.. Train Linf norm: 632.402.. Val Linf norm: 989.746\n",
            "Epoch 109/111.. Train loss: 1.404.. Val loss: 1.238.. Train L1 norm: 3.189.. Val L1 norm: 3.651.. Train Linf norm: 549.589.. Val Linf norm: 900.833\n",
            "Epoch 110/111.. Train loss: 1.410.. Val loss: 1.237.. Train L1 norm: 3.279.. Val L1 norm: 3.574.. Train Linf norm: 643.984.. Val Linf norm: 875.829\n"
          ]
        },
        {
          "output_type": "stream",
          "name": "stderr",
          "text": [
            "[I 2023-05-31 19:53:56,197] Trial 1 finished with value: 3.4392221784591674 and parameters: {'batch_size': 512, 'beta1': 0.9665390722639479, 'beta2': 0.9993302638630236, 'dropout_rate': 0.35393992191330303, 'factor': 0.23630294780344505, 'hidden_activation': 'ELU', 'loss': 'Quantile', 'lr': 0.0003857599355575596, 'n_epochs': 111, 'n_layers': 7, 'n_units_0': 1063, 'n_units_1': 2383, 'n_units_2': 812, 'n_units_3': 3757, 'n_units_4': 112, 'n_units_5': 2537, 'n_units_6': 1059, 'optimizer': 'Adam', 'output_activation': 'Linear', 'patience': 8, 'scheduler': 'ReduceLROnPlateau', 'threshold': 0.00011576448868285614, 'weight_decay': 0.005273787199095381}. Best is trial 0 with value: 3.354011576016744.\n"
          ]
        },
        {
          "output_type": "stream",
          "name": "stdout",
          "text": [
            "Epoch 111/111.. Train loss: 1.407.. Val loss: 1.237.. Train L1 norm: 3.122.. Val L1 norm: 3.439.. Train Linf norm: 506.250.. Val Linf norm: 837.262\n",
            "Epoch 1/113.. Train loss: 2025493694337.978.. Val loss: 272.021.. Train L1 norm: 1327964022214.083.. Val L1 norm: 55.148.. Train Linf norm: 420942876835821.312.. Val Linf norm: 33474.561\n",
            "Epoch 2/113.. Train loss: 1223881.712.. Val loss: 4.049.. Train L1 norm: 1001806.364.. Val L1 norm: 3.424.. Train Linf norm: 881747077.581.. Val Linf norm: 1193.214\n",
            "Epoch 3/113.. Train loss: 76004.439.. Val loss: 3.905.. Train L1 norm: 15378.535.. Val L1 norm: 4.859.. Train Linf norm: 15578818.730.. Val Linf norm: 1818.143\n",
            "Epoch 4/113.. Train loss: 1953082.840.. Val loss: 3.880.. Train L1 norm: 82045.686.. Val L1 norm: 5.603.. Train Linf norm: 83911688.641.. Val Linf norm: 2134.230\n",
            "Epoch 5/113.. Train loss: 1062.640.. Val loss: 3.878.. Train L1 norm: 1166.590.. Val L1 norm: 5.785.. Train Linf norm: 1156552.142.. Val Linf norm: 2211.251\n",
            "Epoch 6/113.. Train loss: 762987.775.. Val loss: 3.878.. Train L1 norm: 163236.222.. Val L1 norm: 5.833.. Train Linf norm: 167112069.280.. Val Linf norm: 2231.229\n",
            "Epoch 7/113.. Train loss: 103361.720.. Val loss: 3.878.. Train L1 norm: 153863.171.. Val L1 norm: 5.821.. Train Linf norm: 157547041.264.. Val Linf norm: 2226.080\n",
            "Epoch 8/113.. Train loss: 842848.320.. Val loss: 3.899.. Train L1 norm: 206383.671.. Val L1 norm: 5.795.. Train Linf norm: 211324553.415.. Val Linf norm: 2211.611\n",
            "Epoch 9/113.. Train loss: 8889.634.. Val loss: 3.880.. Train L1 norm: 2361.010.. Val L1 norm: 5.800.. Train Linf norm: 2342232.587.. Val Linf norm: 2216.992\n",
            "Epoch 10/113.. Train loss: 641077664.717.. Val loss: 8484934405.052.. Train L1 norm: 133656317.435.. Val L1 norm: 7974332503.927.. Train Linf norm: 126447488018.714.. Val Linf norm: 3097213432915.559\n",
            "Epoch 11/113.. Train loss: 152918342.279.. Val loss: 3.879.. Train L1 norm: 154853724.844.. Val L1 norm: 6.049.. Train Linf norm: 62595312494.860.. Val Linf norm: 2321.857\n",
            "Epoch 12/113.. Train loss: 100949.742.. Val loss: 3.878.. Train L1 norm: 19809.189.. Val L1 norm: 5.931.. Train Linf norm: 20279385.670.. Val Linf norm: 2272.479\n",
            "Epoch 13/113.. Train loss: 5450.876.. Val loss: 3.878.. Train L1 norm: 1272.690.. Val L1 norm: 5.854.. Train Linf norm: 1294738.116.. Val Linf norm: 2239.932\n",
            "Epoch 14/113.. Train loss: 3737384.331.. Val loss: 3.878.. Train L1 norm: 752360.890.. Val L1 norm: 5.789.. Train Linf norm: 770410583.541.. Val Linf norm: 2212.958\n",
            "Epoch 15/113.. Train loss: 164.869.. Val loss: 3.878.. Train L1 norm: 83.870.. Val L1 norm: 5.774.. Train Linf norm: 82207.982.. Val Linf norm: 2206.542\n",
            "Epoch 16/113.. Train loss: 152032.724.. Val loss: 3.878.. Train L1 norm: 27552.966.. Val L1 norm: 5.824.. Train Linf norm: 28208390.418.. Val Linf norm: 2227.578\n",
            "Epoch 17/113.. Train loss: 9474.995.. Val loss: 3.878.. Train L1 norm: 2151.132.. Val L1 norm: 5.825.. Train Linf norm: 2199068.319.. Val Linf norm: 2227.950\n",
            "Epoch 18/113.. Train loss: 39557.464.. Val loss: 3.878.. Train L1 norm: 9844.823.. Val L1 norm: 5.785.. Train Linf norm: 10075318.103.. Val Linf norm: 2211.245\n",
            "Epoch 19/113.. Train loss: 31.791.. Val loss: 3.878.. Train L1 norm: 13.548.. Val L1 norm: 5.774.. Train Linf norm: 9988.251.. Val Linf norm: 2206.509\n",
            "Epoch 20/113.. Train loss: 25514.299.. Val loss: 3.878.. Train L1 norm: 1434.124.. Val L1 norm: 5.804.. Train Linf norm: 1463805.051.. Val Linf norm: 2218.894\n",
            "Epoch 21/113.. Train loss: 395.841.. Val loss: 3.878.. Train L1 norm: 488.187.. Val L1 norm: 5.774.. Train Linf norm: 495721.978.. Val Linf norm: 2206.342\n",
            "Epoch 22/113.. Train loss: 1608.627.. Val loss: 3.878.. Train L1 norm: 344.467.. Val L1 norm: 5.778.. Train Linf norm: 349244.271.. Val Linf norm: 2208.190\n",
            "Epoch 23/113.. Train loss: 73.365.. Val loss: 3.878.. Train L1 norm: 20.375.. Val L1 norm: 5.782.. Train Linf norm: 17159.242.. Val Linf norm: 2209.907\n",
            "Epoch 24/113.. Train loss: 899276.927.. Val loss: 3.878.. Train L1 norm: 187532.917.. Val L1 norm: 5.789.. Train Linf norm: 192029928.773.. Val Linf norm: 2212.787\n",
            "Epoch 25/113.. Train loss: 1157.092.. Val loss: 3.878.. Train L1 norm: 333.077.. Val L1 norm: 5.783.. Train Linf norm: 273051.532.. Val Linf norm: 2210.333\n",
            "Epoch 26/113.. Train loss: 3473.874.. Val loss: 3.878.. Train L1 norm: 1020.967.. Val L1 norm: 5.782.. Train Linf norm: 1041858.584.. Val Linf norm: 2210.040\n",
            "Epoch 27/113.. Train loss: 492365.269.. Val loss: 3.878.. Train L1 norm: 80688.586.. Val L1 norm: 5.785.. Train Linf norm: 82621564.744.. Val Linf norm: 2211.025\n",
            "Epoch 28/113.. Train loss: 200.456.. Val loss: 3.878.. Train L1 norm: 354.783.. Val L1 norm: 5.774.. Train Linf norm: 359727.795.. Val Linf norm: 2206.291\n",
            "Epoch 29/113.. Train loss: 8.227.. Val loss: 3.878.. Train L1 norm: 7.107.. Val L1 norm: 5.775.. Train Linf norm: 3821.172.. Val Linf norm: 2207.078\n",
            "Epoch 30/113.. Train loss: 918.364.. Val loss: 3.878.. Train L1 norm: 165.849.. Val L1 norm: 5.777.. Train Linf norm: 166327.291.. Val Linf norm: 2207.835\n",
            "Epoch 31/113.. Train loss: 61372.446.. Val loss: 3.878.. Train L1 norm: 22576.886.. Val L1 norm: 5.780.. Train Linf norm: 23075731.522.. Val Linf norm: 2208.973\n",
            "Epoch 32/113.. Train loss: 34578.453.. Val loss: 3.878.. Train L1 norm: 5435.205.. Val L1 norm: 5.778.. Train Linf norm: 5562101.016.. Val Linf norm: 2208.340\n",
            "Epoch 33/113.. Train loss: 281.293.. Val loss: 3.878.. Train L1 norm: 48.847.. Val L1 norm: 5.778.. Train Linf norm: 46300.902.. Val Linf norm: 2208.061\n",
            "Epoch 34/113.. Train loss: 8862364.330.. Val loss: 3.878.. Train L1 norm: 830638.777.. Val L1 norm: 5.778.. Train Linf norm: 850570662.267.. Val Linf norm: 2208.050\n",
            "Epoch 35/113.. Train loss: 4918.330.. Val loss: 3.878.. Train L1 norm: 1059.320.. Val L1 norm: 5.781.. Train Linf norm: 1081179.148.. Val Linf norm: 2209.428\n",
            "Epoch 36/113.. Train loss: 3.849.. Val loss: 3.878.. Train L1 norm: 4.793.. Val L1 norm: 5.782.. Train Linf norm: 1414.124.. Val Linf norm: 2209.654\n",
            "Epoch 37/113.. Train loss: 518.237.. Val loss: 3.878.. Train L1 norm: 91.161.. Val L1 norm: 5.782.. Train Linf norm: 89837.957.. Val Linf norm: 2209.944\n",
            "Epoch 38/113.. Train loss: 3.913.. Val loss: 3.878.. Train L1 norm: 4.779.. Val L1 norm: 5.782.. Train Linf norm: 1394.652.. Val Linf norm: 2210.010\n",
            "Epoch 39/113.. Train loss: 639.726.. Val loss: 3.878.. Train L1 norm: 97.071.. Val L1 norm: 5.783.. Train Linf norm: 95783.576.. Val Linf norm: 2210.359\n",
            "Epoch 40/113.. Train loss: 63.075.. Val loss: 3.878.. Train L1 norm: 20.553.. Val L1 norm: 5.783.. Train Linf norm: 17431.820.. Val Linf norm: 2210.368\n",
            "Epoch 41/113.. Train loss: 33584.272.. Val loss: 3.878.. Train L1 norm: 6738.097.. Val L1 norm: 5.784.. Train Linf norm: 6896154.164.. Val Linf norm: 2210.587\n",
            "Epoch 42/113.. Train loss: 3.825.. Val loss: 3.878.. Train L1 norm: 4.730.. Val L1 norm: 5.784.. Train Linf norm: 1397.850.. Val Linf norm: 2210.653\n",
            "Epoch 43/113.. Train loss: 5.819.. Val loss: 3.878.. Train L1 norm: 6.333.. Val L1 norm: 5.784.. Train Linf norm: 2914.108.. Val Linf norm: 2210.589\n",
            "Epoch 44/113.. Train loss: 3821.719.. Val loss: 3.878.. Train L1 norm: 958.557.. Val L1 norm: 5.784.. Train Linf norm: 978003.826.. Val Linf norm: 2210.577\n",
            "Epoch 45/113.. Train loss: 599.451.. Val loss: 3.878.. Train L1 norm: 94.135.. Val L1 norm: 5.784.. Train Linf norm: 92828.870.. Val Linf norm: 2210.586\n",
            "Epoch 46/113.. Train loss: 5084.029.. Val loss: 3.878.. Train L1 norm: 178.458.. Val L1 norm: 5.784.. Train Linf norm: 178958.921.. Val Linf norm: 2210.511\n",
            "Epoch 47/113.. Train loss: 3346.728.. Val loss: 3.878.. Train L1 norm: 492.031.. Val L1 norm: 5.784.. Train Linf norm: 500244.536.. Val Linf norm: 2210.576\n",
            "Epoch 48/113.. Train loss: 785.521.. Val loss: 3.878.. Train L1 norm: 161.009.. Val L1 norm: 5.784.. Train Linf norm: 161233.622.. Val Linf norm: 2210.567\n",
            "Epoch 49/113.. Train loss: 101.503.. Val loss: 3.878.. Train L1 norm: 31.259.. Val L1 norm: 5.784.. Train Linf norm: 28506.111.. Val Linf norm: 2210.597\n",
            "Epoch 50/113.. Train loss: 1352.013.. Val loss: 3.878.. Train L1 norm: 889.162.. Val L1 norm: 5.784.. Train Linf norm: 906935.490.. Val Linf norm: 2210.611\n",
            "Epoch 51/113.. Train loss: 1210.823.. Val loss: 3.878.. Train L1 norm: 339.378.. Val L1 norm: 5.784.. Train Linf norm: 343980.596.. Val Linf norm: 2210.556\n",
            "Epoch 52/113.. Train loss: 9.367.. Val loss: 3.878.. Train L1 norm: 6.416.. Val L1 norm: 5.784.. Train Linf norm: 2988.014.. Val Linf norm: 2210.545\n",
            "Epoch 53/113.. Train loss: 2080.280.. Val loss: 3.878.. Train L1 norm: 569.671.. Val L1 norm: 5.784.. Train Linf norm: 579782.161.. Val Linf norm: 2210.549\n",
            "Epoch 54/113.. Train loss: 424.538.. Val loss: 3.878.. Train L1 norm: 76.626.. Val L1 norm: 5.784.. Train Linf norm: 74912.623.. Val Linf norm: 2210.556\n",
            "Epoch 55/113.. Train loss: 8.893.. Val loss: 3.878.. Train L1 norm: 5.665.. Val L1 norm: 5.784.. Train Linf norm: 2150.005.. Val Linf norm: 2210.565\n",
            "Epoch 56/113.. Train loss: 2414.666.. Val loss: 3.878.. Train L1 norm: 761.541.. Val L1 norm: 5.784.. Train Linf norm: 776341.605.. Val Linf norm: 2210.560\n",
            "Epoch 57/113.. Train loss: 5787.911.. Val loss: 3.878.. Train L1 norm: 1329.116.. Val L1 norm: 5.784.. Train Linf norm: 1357461.079.. Val Linf norm: 2210.562\n",
            "Epoch 58/113.. Train loss: 7044.265.. Val loss: 3.878.. Train L1 norm: 1025.383.. Val L1 norm: 5.784.. Train Linf norm: 1046483.481.. Val Linf norm: 2210.562\n",
            "Epoch 59/113.. Train loss: 30.136.. Val loss: 3.878.. Train L1 norm: 17.204.. Val L1 norm: 5.784.. Train Linf norm: 14066.074.. Val Linf norm: 2210.557\n",
            "Epoch 60/113.. Train loss: 4.033.. Val loss: 3.878.. Train L1 norm: 5.055.. Val L1 norm: 5.784.. Train Linf norm: 1686.266.. Val Linf norm: 2210.550\n",
            "Epoch 61/113.. Train loss: 9715.801.. Val loss: 3.878.. Train L1 norm: 7837.276.. Val L1 norm: 5.784.. Train Linf norm: 8021775.805.. Val Linf norm: 2210.557\n",
            "Epoch 62/113.. Train loss: 611.481.. Val loss: 3.878.. Train L1 norm: 137.119.. Val L1 norm: 5.784.. Train Linf norm: 136782.573.. Val Linf norm: 2210.560\n",
            "Epoch 63/113.. Train loss: 7024.356.. Val loss: 3.878.. Train L1 norm: 1351.868.. Val L1 norm: 5.784.. Train Linf norm: 1380669.914.. Val Linf norm: 2210.563\n",
            "Epoch 64/113.. Train loss: 1823407.978.. Val loss: 3.878.. Train L1 norm: 358601.026.. Val L1 norm: 5.784.. Train Linf norm: 367203760.183.. Val Linf norm: 2210.567\n",
            "Epoch 65/113.. Train loss: 3.825.. Val loss: 3.878.. Train L1 norm: 4.729.. Val L1 norm: 5.784.. Train Linf norm: 1345.738.. Val Linf norm: 2210.567\n",
            "Epoch 66/113.. Train loss: 3.825.. Val loss: 3.878.. Train L1 norm: 4.729.. Val L1 norm: 5.784.. Train Linf norm: 1269.898.. Val Linf norm: 2210.567\n",
            "Epoch 67/113.. Train loss: 34.468.. Val loss: 3.878.. Train L1 norm: 14.830.. Val L1 norm: 5.784.. Train Linf norm: 11689.383.. Val Linf norm: 2210.569\n",
            "Epoch 68/113.. Train loss: 309.795.. Val loss: 3.878.. Train L1 norm: 58.396.. Val L1 norm: 5.784.. Train Linf norm: 56281.110.. Val Linf norm: 2210.568\n",
            "Epoch 69/113.. Train loss: 17.797.. Val loss: 3.878.. Train L1 norm: 9.136.. Val L1 norm: 5.784.. Train Linf norm: 5734.812.. Val Linf norm: 2210.567\n",
            "Epoch 70/113.. Train loss: 4.925.. Val loss: 3.878.. Train L1 norm: 4.885.. Val L1 norm: 5.784.. Train Linf norm: 1453.224.. Val Linf norm: 2210.567\n",
            "Epoch 71/113.. Train loss: 4.546.. Val loss: 3.878.. Train L1 norm: 4.814.. Val L1 norm: 5.784.. Train Linf norm: 1319.279.. Val Linf norm: 2210.568\n",
            "Epoch 72/113.. Train loss: 3141.656.. Val loss: 3.878.. Train L1 norm: 846.413.. Val L1 norm: 5.784.. Train Linf norm: 863206.322.. Val Linf norm: 2210.568\n",
            "Epoch 73/113.. Train loss: 3.947.. Val loss: 3.878.. Train L1 norm: 4.775.. Val L1 norm: 5.784.. Train Linf norm: 1329.756.. Val Linf norm: 2210.567\n",
            "Epoch 74/113.. Train loss: 103.151.. Val loss: 3.878.. Train L1 norm: 29.412.. Val L1 norm: 5.784.. Train Linf norm: 26523.486.. Val Linf norm: 2210.567\n",
            "Epoch 75/113.. Train loss: 658.554.. Val loss: 3.878.. Train L1 norm: 127.892.. Val L1 norm: 5.784.. Train Linf norm: 127373.549.. Val Linf norm: 2210.567\n",
            "Epoch 76/113.. Train loss: 3.825.. Val loss: 3.878.. Train L1 norm: 4.729.. Val L1 norm: 5.784.. Train Linf norm: 1274.339.. Val Linf norm: 2210.566\n",
            "Epoch 77/113.. Train loss: 3.825.. Val loss: 3.878.. Train L1 norm: 4.729.. Val L1 norm: 5.784.. Train Linf norm: 1385.803.. Val Linf norm: 2210.566\n",
            "Epoch 78/113.. Train loss: 223.276.. Val loss: 3.878.. Train L1 norm: 89.200.. Val L1 norm: 5.784.. Train Linf norm: 87783.709.. Val Linf norm: 2210.566\n",
            "Epoch 79/113.. Train loss: 3.825.. Val loss: 3.878.. Train L1 norm: 4.729.. Val L1 norm: 5.784.. Train Linf norm: 1332.121.. Val Linf norm: 2210.565\n",
            "Epoch 80/113.. Train loss: 1554.180.. Val loss: 3.878.. Train L1 norm: 648.309.. Val L1 norm: 5.784.. Train Linf norm: 660285.285.. Val Linf norm: 2210.566\n",
            "Epoch 81/113.. Train loss: 463.174.. Val loss: 3.878.. Train L1 norm: 77.793.. Val L1 norm: 5.784.. Train Linf norm: 75595.295.. Val Linf norm: 2210.566\n",
            "Epoch 82/113.. Train loss: 25911.627.. Val loss: 3.878.. Train L1 norm: 4149.971.. Val L1 norm: 5.784.. Train Linf norm: 4245970.357.. Val Linf norm: 2210.566\n",
            "Epoch 83/113.. Train loss: 6.521.. Val loss: 3.878.. Train L1 norm: 5.279.. Val L1 norm: 5.784.. Train Linf norm: 1682.656.. Val Linf norm: 2210.567\n",
            "Epoch 84/113.. Train loss: 176.496.. Val loss: 3.878.. Train L1 norm: 109.449.. Val L1 norm: 5.784.. Train Linf norm: 108542.021.. Val Linf norm: 2210.567\n",
            "Epoch 85/113.. Train loss: 3.825.. Val loss: 3.878.. Train L1 norm: 4.730.. Val L1 norm: 5.784.. Train Linf norm: 1346.516.. Val Linf norm: 2210.567\n",
            "Epoch 86/113.. Train loss: 48.291.. Val loss: 3.878.. Train L1 norm: 25.154.. Val L1 norm: 5.784.. Train Linf norm: 22185.681.. Val Linf norm: 2210.567\n",
            "Epoch 87/113.. Train loss: 877.148.. Val loss: 3.878.. Train L1 norm: 233.030.. Val L1 norm: 5.784.. Train Linf norm: 234959.120.. Val Linf norm: 2210.567\n",
            "Epoch 88/113.. Train loss: 4.013.. Val loss: 3.878.. Train L1 norm: 4.904.. Val L1 norm: 5.784.. Train Linf norm: 1418.909.. Val Linf norm: 2210.568\n",
            "Epoch 89/113.. Train loss: 3.994.. Val loss: 3.878.. Train L1 norm: 4.773.. Val L1 norm: 5.784.. Train Linf norm: 1347.247.. Val Linf norm: 2210.568\n",
            "Epoch 90/113.. Train loss: 207.808.. Val loss: 3.878.. Train L1 norm: 303.666.. Val L1 norm: 5.784.. Train Linf norm: 307394.634.. Val Linf norm: 2210.568\n",
            "Epoch 91/113.. Train loss: 3.871.. Val loss: 3.878.. Train L1 norm: 4.733.. Val L1 norm: 5.784.. Train Linf norm: 1295.300.. Val Linf norm: 2210.568\n",
            "Epoch 92/113.. Train loss: 230423.990.. Val loss: 3.878.. Train L1 norm: 54054.850.. Val L1 norm: 5.784.. Train Linf norm: 55348586.893.. Val Linf norm: 2210.568\n",
            "Epoch 93/113.. Train loss: 5.563.. Val loss: 3.878.. Train L1 norm: 5.105.. Val L1 norm: 5.784.. Train Linf norm: 1643.448.. Val Linf norm: 2210.568\n",
            "Epoch 94/113.. Train loss: 1323.140.. Val loss: 3.878.. Train L1 norm: 248.458.. Val L1 norm: 5.784.. Train Linf norm: 250845.503.. Val Linf norm: 2210.568\n",
            "Epoch 95/113.. Train loss: 79766.658.. Val loss: 3.878.. Train L1 norm: 36462.473.. Val L1 norm: 5.784.. Train Linf norm: 37333920.133.. Val Linf norm: 2210.568\n",
            "Epoch 96/113.. Train loss: 589.629.. Val loss: 3.878.. Train L1 norm: 177.539.. Val L1 norm: 5.784.. Train Linf norm: 178049.690.. Val Linf norm: 2210.568\n",
            "Epoch 97/113.. Train loss: 16.684.. Val loss: 3.878.. Train L1 norm: 5.764.. Val L1 norm: 5.784.. Train Linf norm: 2283.525.. Val Linf norm: 2210.568\n",
            "Epoch 98/113.. Train loss: 52.930.. Val loss: 3.878.. Train L1 norm: 31.882.. Val L1 norm: 5.784.. Train Linf norm: 29005.391.. Val Linf norm: 2210.568\n",
            "Epoch 99/113.. Train loss: 3.825.. Val loss: 3.878.. Train L1 norm: 4.729.. Val L1 norm: 5.784.. Train Linf norm: 1361.685.. Val Linf norm: 2210.568\n",
            "Epoch 100/113.. Train loss: 145.176.. Val loss: 3.878.. Train L1 norm: 44.177.. Val L1 norm: 5.784.. Train Linf norm: 41607.103.. Val Linf norm: 2210.568\n",
            "Epoch 101/113.. Train loss: 8147.578.. Val loss: 3.878.. Train L1 norm: 2643.771.. Val L1 norm: 5.784.. Train Linf norm: 2703686.192.. Val Linf norm: 2210.568\n",
            "Epoch 102/113.. Train loss: 4.044.. Val loss: 3.878.. Train L1 norm: 4.774.. Val L1 norm: 5.784.. Train Linf norm: 1335.655.. Val Linf norm: 2210.568\n",
            "Epoch 103/113.. Train loss: 4.595.. Val loss: 3.878.. Train L1 norm: 5.558.. Val L1 norm: 5.784.. Train Linf norm: 2098.847.. Val Linf norm: 2210.568\n",
            "Epoch 104/113.. Train loss: 4445.223.. Val loss: 3.878.. Train L1 norm: 1180.936.. Val L1 norm: 5.784.. Train Linf norm: 1205629.435.. Val Linf norm: 2210.568\n",
            "Epoch 105/113.. Train loss: 16781.843.. Val loss: 3.878.. Train L1 norm: 2962.913.. Val L1 norm: 5.784.. Train Linf norm: 3030486.050.. Val Linf norm: 2210.568\n",
            "Epoch 106/113.. Train loss: 3.825.. Val loss: 3.878.. Train L1 norm: 4.729.. Val L1 norm: 5.784.. Train Linf norm: 1351.311.. Val Linf norm: 2210.568\n",
            "Epoch 107/113.. Train loss: 3.825.. Val loss: 3.878.. Train L1 norm: 4.729.. Val L1 norm: 5.784.. Train Linf norm: 1280.724.. Val Linf norm: 2210.568\n",
            "Epoch 108/113.. Train loss: 342.646.. Val loss: 3.878.. Train L1 norm: 109.301.. Val L1 norm: 5.784.. Train Linf norm: 108356.599.. Val Linf norm: 2210.568\n",
            "Epoch 109/113.. Train loss: 309.907.. Val loss: 3.878.. Train L1 norm: 568.955.. Val L1 norm: 5.784.. Train Linf norm: 578969.500.. Val Linf norm: 2210.568\n",
            "Epoch 110/113.. Train loss: 40.054.. Val loss: 3.878.. Train L1 norm: 19.460.. Val L1 norm: 5.784.. Train Linf norm: 16412.586.. Val Linf norm: 2210.568\n",
            "Epoch 111/113.. Train loss: 4.020.. Val loss: 3.878.. Train L1 norm: 4.781.. Val L1 norm: 5.784.. Train Linf norm: 1351.452.. Val Linf norm: 2210.568\n",
            "Epoch 112/113.. Train loss: 352.134.. Val loss: 3.878.. Train L1 norm: 162.413.. Val L1 norm: 5.784.. Train Linf norm: 162770.040.. Val Linf norm: 2210.568\n"
          ]
        },
        {
          "output_type": "stream",
          "name": "stderr",
          "text": [
            "[I 2023-05-31 19:59:07,020] Trial 2 finished with value: 5.783720211029053 and parameters: {'batch_size': 1024, 'dropout_rate': 0.02388654333884055, 'factor': 0.36721578587162096, 'hidden_activation': 'GELU', 'loss': 'Huber', 'lr': 0.04110002268888841, 'n_epochs': 113, 'n_layers': 5, 'n_units_0': 1243, 'n_units_1': 257, 'n_units_2': 1139, 'n_units_3': 3389, 'n_units_4': 4083, 'optimizer': 'RMSprop', 'output_activation': 'Linear', 'patience': 5, 'scheduler': 'ReduceLROnPlateau', 'threshold': 0.00013708240567097258}. Best is trial 0 with value: 3.354011576016744.\n"
          ]
        },
        {
          "output_type": "stream",
          "name": "stdout",
          "text": [
            "Epoch 113/113.. Train loss: 748.181.. Val loss: 3.878.. Train L1 norm: 264.468.. Val L1 norm: 5.784.. Train Linf norm: 267253.419.. Val Linf norm: 2210.568\n"
          ]
        },
        {
          "output_type": "stream",
          "name": "stderr",
          "text": [
            "<ipython-input-78-5ce9a06c2c29>:161: FutureWarning: suggest_uniform has been deprecated in v3.0.0. This feature will be removed in v6.0.0. See https://github.com/optuna/optuna/releases/tag/v3.0.0. Use suggest_float instead.\n",
            "  gamma = trial.suggest_uniform(\"gamma\", 0.1, 0.5)\n"
          ]
        },
        {
          "output_type": "stream",
          "name": "stdout",
          "text": [
            "Epoch 1/85.. Train loss: 10731.959.. Val loss: 115.697.. Train L1 norm: 2.380.. Val L1 norm: 1.409.. Train Linf norm: 73.760.. Val Linf norm: 25.734\n",
            "Epoch 2/85.. Train loss: 3994.706.. Val loss: 86.324.. Train L1 norm: 1.900.. Val L1 norm: 1.303.. Train Linf norm: 50.212.. Val Linf norm: 19.882\n",
            "Epoch 3/85.. Train loss: 3057.371.. Val loss: 75.269.. Train L1 norm: 1.708.. Val L1 norm: 1.252.. Train Linf norm: 40.695.. Val Linf norm: 16.960\n",
            "Epoch 4/85.. Train loss: 2529.072.. Val loss: 69.307.. Train L1 norm: 1.623.. Val L1 norm: 1.218.. Train Linf norm: 36.833.. Val Linf norm: 15.010\n",
            "Epoch 5/85.. Train loss: 2507.989.. Val loss: 65.697.. Train L1 norm: 1.520.. Val L1 norm: 1.193.. Train Linf norm: 31.238.. Val Linf norm: 13.586\n",
            "Epoch 6/85.. Train loss: 1816.567.. Val loss: 63.348.. Train L1 norm: 1.487.. Val L1 norm: 1.176.. Train Linf norm: 29.399.. Val Linf norm: 12.545\n",
            "Epoch 7/85.. Train loss: 923.439.. Val loss: 61.902.. Train L1 norm: 1.439.. Val L1 norm: 1.164.. Train Linf norm: 26.856.. Val Linf norm: 11.841\n",
            "Epoch 8/85.. Train loss: 1039.967.. Val loss: 60.754.. Train L1 norm: 1.399.. Val L1 norm: 1.153.. Train Linf norm: 24.942.. Val Linf norm: 11.203\n",
            "Epoch 9/85.. Train loss: 612.008.. Val loss: 59.859.. Train L1 norm: 1.381.. Val L1 norm: 1.145.. Train Linf norm: 23.498.. Val Linf norm: 10.674\n",
            "Epoch 10/85.. Train loss: 508.466.. Val loss: 59.276.. Train L1 norm: 1.356.. Val L1 norm: 1.138.. Train Linf norm: 22.851.. Val Linf norm: 10.281\n",
            "Epoch 11/85.. Train loss: 628.817.. Val loss: 58.755.. Train L1 norm: 1.321.. Val L1 norm: 1.132.. Train Linf norm: 20.717.. Val Linf norm: 9.880\n",
            "Epoch 12/85.. Train loss: 658.157.. Val loss: 58.551.. Train L1 norm: 1.305.. Val L1 norm: 1.129.. Train Linf norm: 19.701.. Val Linf norm: 9.712\n",
            "Epoch 13/85.. Train loss: 626.911.. Val loss: 58.380.. Train L1 norm: 1.319.. Val L1 norm: 1.127.. Train Linf norm: 20.488.. Val Linf norm: 9.552\n",
            "Epoch 14/85.. Train loss: 475.099.. Val loss: 58.243.. Train L1 norm: 1.287.. Val L1 norm: 1.125.. Train Linf norm: 18.895.. Val Linf norm: 9.428\n",
            "Epoch 15/85.. Train loss: 524.677.. Val loss: 58.112.. Train L1 norm: 1.282.. Val L1 norm: 1.122.. Train Linf norm: 18.480.. Val Linf norm: 9.288\n",
            "Epoch 16/85.. Train loss: 337.665.. Val loss: 58.026.. Train L1 norm: 1.280.. Val L1 norm: 1.121.. Train Linf norm: 18.277.. Val Linf norm: 9.216\n",
            "Epoch 17/85.. Train loss: 419.483.. Val loss: 57.930.. Train L1 norm: 1.267.. Val L1 norm: 1.120.. Train Linf norm: 17.741.. Val Linf norm: 9.113\n",
            "Epoch 18/85.. Train loss: 296.030.. Val loss: 57.861.. Train L1 norm: 1.267.. Val L1 norm: 1.119.. Train Linf norm: 17.643.. Val Linf norm: 9.052\n",
            "Epoch 19/85.. Train loss: 423.327.. Val loss: 57.778.. Train L1 norm: 1.281.. Val L1 norm: 1.117.. Train Linf norm: 18.454.. Val Linf norm: 8.956\n",
            "Epoch 20/85.. Train loss: 394.472.. Val loss: 57.710.. Train L1 norm: 1.256.. Val L1 norm: 1.116.. Train Linf norm: 16.597.. Val Linf norm: 8.874\n",
            "Epoch 21/85.. Train loss: 543.347.. Val loss: 57.638.. Train L1 norm: 1.232.. Val L1 norm: 1.114.. Train Linf norm: 15.445.. Val Linf norm: 8.766\n",
            "Epoch 22/85.. Train loss: 427.865.. Val loss: 57.582.. Train L1 norm: 1.266.. Val L1 norm: 1.113.. Train Linf norm: 17.725.. Val Linf norm: 8.688\n",
            "Epoch 23/85.. Train loss: 716.614.. Val loss: 57.551.. Train L1 norm: 1.249.. Val L1 norm: 1.112.. Train Linf norm: 16.729.. Val Linf norm: 8.633\n",
            "Epoch 24/85.. Train loss: 458.545.. Val loss: 57.529.. Train L1 norm: 1.246.. Val L1 norm: 1.111.. Train Linf norm: 16.596.. Val Linf norm: 8.595\n",
            "Epoch 25/85.. Train loss: 293.015.. Val loss: 57.512.. Train L1 norm: 1.232.. Val L1 norm: 1.111.. Train Linf norm: 15.492.. Val Linf norm: 8.573\n",
            "Epoch 26/85.. Train loss: 524.456.. Val loss: 57.492.. Train L1 norm: 1.237.. Val L1 norm: 1.110.. Train Linf norm: 15.699.. Val Linf norm: 8.538\n",
            "Epoch 27/85.. Train loss: 447.839.. Val loss: 57.474.. Train L1 norm: 1.243.. Val L1 norm: 1.110.. Train Linf norm: 16.126.. Val Linf norm: 8.507\n",
            "Epoch 28/85.. Train loss: 512.352.. Val loss: 57.456.. Train L1 norm: 1.223.. Val L1 norm: 1.109.. Train Linf norm: 14.808.. Val Linf norm: 8.469\n",
            "Epoch 29/85.. Train loss: 319.930.. Val loss: 57.443.. Train L1 norm: 1.240.. Val L1 norm: 1.109.. Train Linf norm: 15.768.. Val Linf norm: 8.446\n",
            "Epoch 30/85.. Train loss: 175.828.. Val loss: 57.436.. Train L1 norm: 1.232.. Val L1 norm: 1.109.. Train Linf norm: 15.722.. Val Linf norm: 8.449\n",
            "Epoch 31/85.. Train loss: 370.608.. Val loss: 57.421.. Train L1 norm: 1.235.. Val L1 norm: 1.109.. Train Linf norm: 15.934.. Val Linf norm: 8.421\n",
            "Epoch 32/85.. Train loss: 305.250.. Val loss: 57.408.. Train L1 norm: 1.231.. Val L1 norm: 1.108.. Train Linf norm: 15.465.. Val Linf norm: 8.398\n",
            "Epoch 33/85.. Train loss: 344.114.. Val loss: 57.396.. Train L1 norm: 1.239.. Val L1 norm: 1.108.. Train Linf norm: 16.200.. Val Linf norm: 8.374\n",
            "Epoch 34/85.. Train loss: 346.634.. Val loss: 57.391.. Train L1 norm: 1.214.. Val L1 norm: 1.108.. Train Linf norm: 14.583.. Val Linf norm: 8.365\n",
            "Epoch 35/85.. Train loss: 335.157.. Val loss: 57.387.. Train L1 norm: 1.231.. Val L1 norm: 1.108.. Train Linf norm: 15.544.. Val Linf norm: 8.356\n",
            "Epoch 36/85.. Train loss: 437.482.. Val loss: 57.381.. Train L1 norm: 1.216.. Val L1 norm: 1.107.. Train Linf norm: 13.863.. Val Linf norm: 8.342\n",
            "Epoch 37/85.. Train loss: 262.699.. Val loss: 57.378.. Train L1 norm: 1.209.. Val L1 norm: 1.107.. Train Linf norm: 14.168.. Val Linf norm: 8.338\n",
            "Epoch 38/85.. Train loss: 282.754.. Val loss: 57.374.. Train L1 norm: 1.221.. Val L1 norm: 1.107.. Train Linf norm: 15.007.. Val Linf norm: 8.329\n",
            "Epoch 39/85.. Train loss: 247.452.. Val loss: 57.371.. Train L1 norm: 1.226.. Val L1 norm: 1.107.. Train Linf norm: 15.069.. Val Linf norm: 8.323\n",
            "Epoch 40/85.. Train loss: 292.231.. Val loss: 57.367.. Train L1 norm: 1.234.. Val L1 norm: 1.107.. Train Linf norm: 15.900.. Val Linf norm: 8.315\n",
            "Epoch 41/85.. Train loss: 325.106.. Val loss: 57.363.. Train L1 norm: 1.224.. Val L1 norm: 1.107.. Train Linf norm: 15.164.. Val Linf norm: 8.307\n",
            "Epoch 42/85.. Train loss: 180.947.. Val loss: 57.361.. Train L1 norm: 1.217.. Val L1 norm: 1.107.. Train Linf norm: 14.825.. Val Linf norm: 8.307\n",
            "Epoch 43/85.. Train loss: 327.624.. Val loss: 57.356.. Train L1 norm: 1.211.. Val L1 norm: 1.107.. Train Linf norm: 14.426.. Val Linf norm: 8.296\n",
            "Epoch 44/85.. Train loss: 255.088.. Val loss: 57.353.. Train L1 norm: 1.229.. Val L1 norm: 1.107.. Train Linf norm: 15.524.. Val Linf norm: 8.291\n",
            "Epoch 45/85.. Train loss: 393.094.. Val loss: 57.351.. Train L1 norm: 1.219.. Val L1 norm: 1.107.. Train Linf norm: 14.787.. Val Linf norm: 8.287\n",
            "Epoch 46/85.. Train loss: 365.430.. Val loss: 57.350.. Train L1 norm: 1.217.. Val L1 norm: 1.107.. Train Linf norm: 14.723.. Val Linf norm: 8.283\n",
            "Epoch 47/85.. Train loss: 312.747.. Val loss: 57.348.. Train L1 norm: 1.236.. Val L1 norm: 1.107.. Train Linf norm: 16.005.. Val Linf norm: 8.280\n",
            "Epoch 48/85.. Train loss: 318.859.. Val loss: 57.347.. Train L1 norm: 1.224.. Val L1 norm: 1.106.. Train Linf norm: 15.305.. Val Linf norm: 8.277\n",
            "Epoch 49/85.. Train loss: 217.142.. Val loss: 57.346.. Train L1 norm: 1.242.. Val L1 norm: 1.106.. Train Linf norm: 16.278.. Val Linf norm: 8.275\n",
            "Epoch 50/85.. Train loss: 207.714.. Val loss: 57.345.. Train L1 norm: 1.222.. Val L1 norm: 1.106.. Train Linf norm: 15.102.. Val Linf norm: 8.274\n",
            "Epoch 51/85.. Train loss: 479.143.. Val loss: 57.343.. Train L1 norm: 1.227.. Val L1 norm: 1.106.. Train Linf norm: 15.417.. Val Linf norm: 8.268\n",
            "Epoch 52/85.. Train loss: 397.922.. Val loss: 57.342.. Train L1 norm: 1.230.. Val L1 norm: 1.106.. Train Linf norm: 15.535.. Val Linf norm: 8.264\n",
            "Epoch 53/85.. Train loss: 339.876.. Val loss: 57.341.. Train L1 norm: 1.212.. Val L1 norm: 1.106.. Train Linf norm: 14.560.. Val Linf norm: 8.260\n",
            "Epoch 54/85.. Train loss: 227.845.. Val loss: 57.340.. Train L1 norm: 1.228.. Val L1 norm: 1.106.. Train Linf norm: 15.325.. Val Linf norm: 8.258\n",
            "Epoch 55/85.. Train loss: 385.883.. Val loss: 57.339.. Train L1 norm: 1.216.. Val L1 norm: 1.106.. Train Linf norm: 14.841.. Val Linf norm: 8.255\n",
            "Epoch 56/85.. Train loss: 578.415.. Val loss: 57.338.. Train L1 norm: 1.225.. Val L1 norm: 1.106.. Train Linf norm: 15.405.. Val Linf norm: 8.252\n",
            "Epoch 57/85.. Train loss: 270.330.. Val loss: 57.337.. Train L1 norm: 1.225.. Val L1 norm: 1.106.. Train Linf norm: 15.102.. Val Linf norm: 8.251\n",
            "Epoch 58/85.. Train loss: 217.512.. Val loss: 57.337.. Train L1 norm: 1.222.. Val L1 norm: 1.106.. Train Linf norm: 14.884.. Val Linf norm: 8.250\n",
            "Epoch 59/85.. Train loss: 435.039.. Val loss: 57.337.. Train L1 norm: 1.236.. Val L1 norm: 1.106.. Train Linf norm: 16.002.. Val Linf norm: 8.249\n",
            "Epoch 60/85.. Train loss: 323.557.. Val loss: 57.336.. Train L1 norm: 1.227.. Val L1 norm: 1.106.. Train Linf norm: 15.211.. Val Linf norm: 8.247\n",
            "Epoch 61/85.. Train loss: 668.915.. Val loss: 57.335.. Train L1 norm: 1.212.. Val L1 norm: 1.106.. Train Linf norm: 14.465.. Val Linf norm: 8.245\n",
            "Epoch 62/85.. Train loss: 246.952.. Val loss: 57.335.. Train L1 norm: 1.214.. Val L1 norm: 1.106.. Train Linf norm: 14.671.. Val Linf norm: 8.244\n",
            "Epoch 63/85.. Train loss: 289.154.. Val loss: 57.335.. Train L1 norm: 1.227.. Val L1 norm: 1.106.. Train Linf norm: 15.407.. Val Linf norm: 8.243\n",
            "Epoch 64/85.. Train loss: 415.112.. Val loss: 57.334.. Train L1 norm: 1.229.. Val L1 norm: 1.106.. Train Linf norm: 15.599.. Val Linf norm: 8.242\n",
            "Epoch 65/85.. Train loss: 290.861.. Val loss: 57.334.. Train L1 norm: 1.218.. Val L1 norm: 1.106.. Train Linf norm: 14.857.. Val Linf norm: 8.240\n",
            "Epoch 66/85.. Train loss: 345.762.. Val loss: 57.333.. Train L1 norm: 1.214.. Val L1 norm: 1.106.. Train Linf norm: 14.613.. Val Linf norm: 8.239\n",
            "Epoch 67/85.. Train loss: 250.742.. Val loss: 57.333.. Train L1 norm: 1.215.. Val L1 norm: 1.106.. Train Linf norm: 14.167.. Val Linf norm: 8.239\n",
            "Epoch 68/85.. Train loss: 268.870.. Val loss: 57.333.. Train L1 norm: 1.223.. Val L1 norm: 1.106.. Train Linf norm: 15.110.. Val Linf norm: 8.238\n",
            "Epoch 69/85.. Train loss: 300.440.. Val loss: 57.333.. Train L1 norm: 1.208.. Val L1 norm: 1.106.. Train Linf norm: 14.154.. Val Linf norm: 8.237\n",
            "Epoch 70/85.. Train loss: 183.843.. Val loss: 57.333.. Train L1 norm: 1.211.. Val L1 norm: 1.106.. Train Linf norm: 14.467.. Val Linf norm: 8.237\n",
            "Epoch 71/85.. Train loss: 269.605.. Val loss: 57.333.. Train L1 norm: 1.232.. Val L1 norm: 1.106.. Train Linf norm: 15.774.. Val Linf norm: 8.236\n",
            "Epoch 72/85.. Train loss: 224.012.. Val loss: 57.332.. Train L1 norm: 1.223.. Val L1 norm: 1.106.. Train Linf norm: 15.169.. Val Linf norm: 8.236\n",
            "Epoch 73/85.. Train loss: 243.375.. Val loss: 57.332.. Train L1 norm: 1.233.. Val L1 norm: 1.106.. Train Linf norm: 15.750.. Val Linf norm: 8.235\n",
            "Epoch 74/85.. Train loss: 319.094.. Val loss: 57.332.. Train L1 norm: 1.218.. Val L1 norm: 1.106.. Train Linf norm: 14.718.. Val Linf norm: 8.235\n",
            "Epoch 75/85.. Train loss: 220.092.. Val loss: 57.332.. Train L1 norm: 1.201.. Val L1 norm: 1.106.. Train Linf norm: 13.780.. Val Linf norm: 8.234\n",
            "Epoch 76/85.. Train loss: 244.813.. Val loss: 57.332.. Train L1 norm: 1.217.. Val L1 norm: 1.106.. Train Linf norm: 14.706.. Val Linf norm: 8.234\n",
            "Epoch 77/85.. Train loss: 446.694.. Val loss: 57.332.. Train L1 norm: 1.242.. Val L1 norm: 1.106.. Train Linf norm: 16.302.. Val Linf norm: 8.233\n",
            "Epoch 78/85.. Train loss: 254.479.. Val loss: 57.332.. Train L1 norm: 1.220.. Val L1 norm: 1.106.. Train Linf norm: 14.987.. Val Linf norm: 8.233\n",
            "Epoch 79/85.. Train loss: 650.540.. Val loss: 57.332.. Train L1 norm: 1.231.. Val L1 norm: 1.106.. Train Linf norm: 15.509.. Val Linf norm: 8.232\n",
            "Epoch 80/85.. Train loss: 201.747.. Val loss: 57.332.. Train L1 norm: 1.215.. Val L1 norm: 1.106.. Train Linf norm: 14.666.. Val Linf norm: 8.232\n",
            "Epoch 81/85.. Train loss: 143.408.. Val loss: 57.332.. Train L1 norm: 1.204.. Val L1 norm: 1.106.. Train Linf norm: 13.605.. Val Linf norm: 8.232\n",
            "Epoch 82/85.. Train loss: 209.981.. Val loss: 57.332.. Train L1 norm: 1.221.. Val L1 norm: 1.106.. Train Linf norm: 15.212.. Val Linf norm: 8.232\n",
            "Epoch 83/85.. Train loss: 383.578.. Val loss: 57.331.. Train L1 norm: 1.223.. Val L1 norm: 1.106.. Train Linf norm: 15.105.. Val Linf norm: 8.231\n",
            "Epoch 84/85.. Train loss: 278.562.. Val loss: 57.331.. Train L1 norm: 1.224.. Val L1 norm: 1.106.. Train Linf norm: 15.070.. Val Linf norm: 8.231\n"
          ]
        },
        {
          "output_type": "stream",
          "name": "stderr",
          "text": [
            "[I 2023-05-31 20:17:11,997] Trial 3 finished with value: 1.1057661293665568 and parameters: {'batch_size': 64, 'dropout_rate': 0.37164977518455244, 'gamma': 0.40603223744058503, 'hidden_activation': 'ReLU', 'loss': 'MSE', 'lr': 3.6333013848374175e-05, 'n_epochs': 85, 'n_layers': 8, 'n_units_0': 193, 'n_units_1': 1312, 'n_units_2': 2142, 'n_units_3': 1646, 'n_units_4': 2424, 'n_units_5': 1596, 'n_units_6': 2427, 'n_units_7': 3011, 'optimizer': 'Adagrad', 'output_activation': 'Linear', 'scheduler': 'StepLR', 'step_size': 11}. Best is trial 3 with value: 1.1057661293665568.\n"
          ]
        },
        {
          "output_type": "stream",
          "name": "stdout",
          "text": [
            "Epoch 85/85.. Train loss: 232.501.. Val loss: 57.331.. Train L1 norm: 1.219.. Val L1 norm: 1.106.. Train Linf norm: 14.902.. Val Linf norm: 8.231\n",
            "Epoch 1/144.. Train loss: 123.401.. Val loss: 2.178.. Train L1 norm: 118.060.. Val L1 norm: 5.632.. Train Linf norm: 1935.885.. Val Linf norm: 220.749\n",
            "Epoch 2/144.. Train loss: 2.151.. Val loss: 2.177.. Train L1 norm: 4.711.. Val L1 norm: 5.831.. Train Linf norm: 161.720.. Val Linf norm: 229.373\n",
            "Epoch 3/144.. Train loss: 2.151.. Val loss: 2.177.. Train L1 norm: 4.722.. Val L1 norm: 5.849.. Train Linf norm: 164.407.. Val Linf norm: 230.145\n",
            "Epoch 4/144.. Train loss: 13.922.. Val loss: 2.177.. Train L1 norm: 238.733.. Val L1 norm: 5.766.. Train Linf norm: 14645.537.. Val Linf norm: 226.574\n",
            "Epoch 5/144.. Train loss: 2.150.. Val loss: 2.177.. Train L1 norm: 4.713.. Val L1 norm: 5.846.. Train Linf norm: 162.657.. Val Linf norm: 230.030\n",
            "Epoch 6/144.. Train loss: 1005.760.. Val loss: 2.177.. Train L1 norm: 883.342.. Val L1 norm: 5.721.. Train Linf norm: 11917.341.. Val Linf norm: 224.602\n",
            "Epoch 7/144.. Train loss: 39.316.. Val loss: 2.177.. Train L1 norm: 44.934.. Val L1 norm: 5.713.. Train Linf norm: 1133.311.. Val Linf norm: 224.268\n",
            "Epoch 8/144.. Train loss: 3.664.. Val loss: 2.177.. Train L1 norm: 5.797.. Val L1 norm: 5.763.. Train Linf norm: 207.029.. Val Linf norm: 226.430\n",
            "Epoch 9/144.. Train loss: 67.312.. Val loss: 2.177.. Train L1 norm: 71.772.. Val L1 norm: 5.771.. Train Linf norm: 1391.946.. Val Linf norm: 226.782\n",
            "Epoch 10/144.. Train loss: 3.829.. Val loss: 2.177.. Train L1 norm: 5.493.. Val L1 norm: 5.863.. Train Linf norm: 201.142.. Val Linf norm: 230.749\n",
            "Epoch 11/144.. Train loss: 2.150.. Val loss: 2.177.. Train L1 norm: 4.741.. Val L1 norm: 5.734.. Train Linf norm: 163.920.. Val Linf norm: 225.194\n",
            "Epoch 12/144.. Train loss: 97.024.. Val loss: 2.187.. Train L1 norm: 154.335.. Val L1 norm: 6.695.. Train Linf norm: 3968.334.. Val Linf norm: 266.460\n",
            "Epoch 13/144.. Train loss: 2.305.. Val loss: 2.178.. Train L1 norm: 4.847.. Val L1 norm: 5.705.. Train Linf norm: 172.479.. Val Linf norm: 223.904\n",
            "Epoch 14/144.. Train loss: 2.196.. Val loss: 2.185.. Train L1 norm: 4.789.. Val L1 norm: 6.578.. Train Linf norm: 164.279.. Val Linf norm: 261.475\n",
            "Epoch 15/144.. Train loss: 2.157.. Val loss: 2.179.. Train L1 norm: 4.671.. Val L1 norm: 6.211.. Train Linf norm: 162.725.. Val Linf norm: 245.750\n",
            "Epoch 16/144.. Train loss: 4.970.. Val loss: 2.178.. Train L1 norm: 9.480.. Val L1 norm: 6.070.. Train Linf norm: 366.891.. Val Linf norm: 239.680\n",
            "Epoch 17/144.. Train loss: 2.154.. Val loss: 2.177.. Train L1 norm: 4.757.. Val L1 norm: 5.719.. Train Linf norm: 165.965.. Val Linf norm: 224.530\n",
            "Epoch 18/144.. Train loss: 2.177.. Val loss: 2.197.. Train L1 norm: 4.725.. Val L1 norm: 7.032.. Train Linf norm: 163.971.. Val Linf norm: 280.785\n",
            "Epoch 19/144.. Train loss: 487.579.. Val loss: 2.179.. Train L1 norm: 4169.806.. Val L1 norm: 5.530.. Train Linf norm: 163255.875.. Val Linf norm: 216.316\n",
            "Epoch 20/144.. Train loss: 2.156.. Val loss: 2.177.. Train L1 norm: 4.739.. Val L1 norm: 5.736.. Train Linf norm: 165.266.. Val Linf norm: 225.277\n",
            "Epoch 21/144.. Train loss: 3.623.. Val loss: 2.183.. Train L1 norm: 6.825.. Val L1 norm: 5.199.. Train Linf norm: 245.538.. Val Linf norm: 201.918\n",
            "Epoch 22/144.. Train loss: 6.171.. Val loss: 2.177.. Train L1 norm: 7.409.. Val L1 norm: 5.778.. Train Linf norm: 216.833.. Val Linf norm: 227.068\n",
            "Epoch 23/144.. Train loss: 2.555.. Val loss: 2.177.. Train L1 norm: 5.211.. Val L1 norm: 5.826.. Train Linf norm: 183.033.. Val Linf norm: 229.169\n",
            "Epoch 24/144.. Train loss: 3.180.. Val loss: 2.178.. Train L1 norm: 5.470.. Val L1 norm: 5.673.. Train Linf norm: 204.299.. Val Linf norm: 222.550\n",
            "Epoch 25/144.. Train loss: 4.302.. Val loss: 2.177.. Train L1 norm: 5.803.. Val L1 norm: 5.750.. Train Linf norm: 215.443.. Val Linf norm: 225.887\n",
            "Epoch 26/144.. Train loss: 2.232.. Val loss: 2.177.. Train L1 norm: 4.780.. Val L1 norm: 5.742.. Train Linf norm: 164.234.. Val Linf norm: 225.516\n",
            "Epoch 27/144.. Train loss: 2.616.. Val loss: 2.178.. Train L1 norm: 5.114.. Val L1 norm: 5.662.. Train Linf norm: 186.030.. Val Linf norm: 222.052\n",
            "Epoch 28/144.. Train loss: 2.260.. Val loss: 2.177.. Train L1 norm: 4.768.. Val L1 norm: 5.768.. Train Linf norm: 167.872.. Val Linf norm: 226.651\n",
            "Epoch 29/144.. Train loss: 2.172.. Val loss: 2.177.. Train L1 norm: 4.753.. Val L1 norm: 5.777.. Train Linf norm: 166.306.. Val Linf norm: 227.031\n",
            "Epoch 30/144.. Train loss: 2.176.. Val loss: 2.177.. Train L1 norm: 4.760.. Val L1 norm: 5.791.. Train Linf norm: 166.589.. Val Linf norm: 227.664\n",
            "Epoch 31/144.. Train loss: 2.178.. Val loss: 2.177.. Train L1 norm: 4.733.. Val L1 norm: 5.775.. Train Linf norm: 162.462.. Val Linf norm: 226.968\n",
            "Epoch 32/144.. Train loss: 2.155.. Val loss: 2.177.. Train L1 norm: 4.727.. Val L1 norm: 5.797.. Train Linf norm: 165.854.. Val Linf norm: 227.901\n",
            "Epoch 33/144.. Train loss: 2.159.. Val loss: 2.177.. Train L1 norm: 4.763.. Val L1 norm: 5.800.. Train Linf norm: 167.904.. Val Linf norm: 228.036\n",
            "Epoch 34/144.. Train loss: 2.153.. Val loss: 2.177.. Train L1 norm: 4.734.. Val L1 norm: 5.790.. Train Linf norm: 161.664.. Val Linf norm: 227.604\n",
            "Epoch 35/144.. Train loss: 2.162.. Val loss: 2.175.. Train L1 norm: 4.715.. Val L1 norm: 5.908.. Train Linf norm: 164.556.. Val Linf norm: 247.377\n",
            "Epoch 36/144.. Train loss: 2.093.. Val loss: 2.017.. Train L1 norm: 4.011.. Val L1 norm: 5.192.. Train Linf norm: 137.470.. Val Linf norm: 209.801\n",
            "Epoch 37/144.. Train loss: 2.079.. Val loss: 2.019.. Train L1 norm: 3.939.. Val L1 norm: 5.080.. Train Linf norm: 135.828.. Val Linf norm: 205.076\n",
            "Epoch 38/144.. Train loss: 1.796.. Val loss: 1.683.. Train L1 norm: 3.617.. Val L1 norm: 4.040.. Train Linf norm: 130.056.. Val Linf norm: 165.050\n",
            "Epoch 39/144.. Train loss: 1.823.. Val loss: 1.699.. Train L1 norm: 3.379.. Val L1 norm: 3.406.. Train Linf norm: 120.607.. Val Linf norm: 132.220\n",
            "Epoch 40/144.. Train loss: 1.696.. Val loss: 1.663.. Train L1 norm: 3.015.. Val L1 norm: 4.722.. Train Linf norm: 103.832.. Val Linf norm: 198.064\n",
            "Epoch 41/144.. Train loss: 1.576.. Val loss: 1.318.. Train L1 norm: 3.263.. Val L1 norm: 3.480.. Train Linf norm: 120.628.. Val Linf norm: 142.595\n",
            "Epoch 42/144.. Train loss: 1.395.. Val loss: 1.416.. Train L1 norm: 2.588.. Val L1 norm: 3.472.. Train Linf norm: 85.206.. Val Linf norm: 151.782\n",
            "Epoch 43/144.. Train loss: 1.535.. Val loss: 1.425.. Train L1 norm: 2.998.. Val L1 norm: 4.328.. Train Linf norm: 106.694.. Val Linf norm: 193.195\n",
            "Epoch 44/144.. Train loss: 1.417.. Val loss: 1.552.. Train L1 norm: 2.756.. Val L1 norm: 2.812.. Train Linf norm: 96.317.. Val Linf norm: 109.566\n",
            "Epoch 45/144.. Train loss: 1.825.. Val loss: 1.692.. Train L1 norm: 3.003.. Val L1 norm: 3.459.. Train Linf norm: 105.321.. Val Linf norm: 141.273\n",
            "Epoch 46/144.. Train loss: 1.815.. Val loss: 1.389.. Train L1 norm: 3.224.. Val L1 norm: 2.598.. Train Linf norm: 115.427.. Val Linf norm: 101.710\n",
            "Epoch 47/144.. Train loss: 1.773.. Val loss: 1.731.. Train L1 norm: 3.141.. Val L1 norm: 6.140.. Train Linf norm: 109.786.. Val Linf norm: 242.213\n",
            "Epoch 48/144.. Train loss: 1.682.. Val loss: 1.374.. Train L1 norm: 3.191.. Val L1 norm: 3.440.. Train Linf norm: 115.852.. Val Linf norm: 148.556\n",
            "Epoch 49/144.. Train loss: 1.847.. Val loss: 2.283.. Train L1 norm: 3.055.. Val L1 norm: 3.055.. Train Linf norm: 110.240.. Val Linf norm: 117.121\n",
            "Epoch 50/144.. Train loss: 1.772.. Val loss: 1.970.. Train L1 norm: 3.271.. Val L1 norm: 4.543.. Train Linf norm: 120.082.. Val Linf norm: 178.185\n",
            "Epoch 51/144.. Train loss: 2.296.. Val loss: 1.957.. Train L1 norm: 3.889.. Val L1 norm: 4.532.. Train Linf norm: 141.905.. Val Linf norm: 185.635\n",
            "Epoch 52/144.. Train loss: 3.427.. Val loss: 2.313.. Train L1 norm: 5.567.. Val L1 norm: 6.543.. Train Linf norm: 218.497.. Val Linf norm: 260.567\n",
            "Epoch 53/144.. Train loss: 3.934.. Val loss: 2.084.. Train L1 norm: 5.531.. Val L1 norm: 5.901.. Train Linf norm: 200.229.. Val Linf norm: 241.290\n",
            "Epoch 54/144.. Train loss: 2.977.. Val loss: 2.177.. Train L1 norm: 5.333.. Val L1 norm: 5.723.. Train Linf norm: 191.251.. Val Linf norm: 224.722\n",
            "Epoch 55/144.. Train loss: 2.183.. Val loss: 2.180.. Train L1 norm: 4.734.. Val L1 norm: 6.258.. Train Linf norm: 162.632.. Val Linf norm: 247.774\n",
            "Epoch 56/144.. Train loss: 2.177.. Val loss: 2.183.. Train L1 norm: 4.771.. Val L1 norm: 5.214.. Train Linf norm: 166.364.. Val Linf norm: 202.570\n",
            "Epoch 57/144.. Train loss: 2.175.. Val loss: 2.177.. Train L1 norm: 4.750.. Val L1 norm: 5.869.. Train Linf norm: 164.247.. Val Linf norm: 230.999\n",
            "Epoch 58/144.. Train loss: 4.592.. Val loss: 2.192.. Train L1 norm: 5.954.. Val L1 norm: 6.867.. Train Linf norm: 217.736.. Val Linf norm: 273.776\n",
            "Epoch 59/144.. Train loss: 17.948.. Val loss: 2.181.. Train L1 norm: 14.282.. Val L1 norm: 5.301.. Train Linf norm: 710.061.. Val Linf norm: 206.360\n",
            "Epoch 60/144.. Train loss: 2.468.. Val loss: 2.182.. Train L1 norm: 5.420.. Val L1 norm: 5.279.. Train Linf norm: 203.780.. Val Linf norm: 205.387\n",
            "Epoch 61/144.. Train loss: 5.532.. Val loss: 2.213.. Train L1 norm: 7.523.. Val L1 norm: 7.446.. Train Linf norm: 330.706.. Val Linf norm: 298.326\n",
            "Epoch 62/144.. Train loss: 3.563.. Val loss: 2.178.. Train L1 norm: 8.133.. Val L1 norm: 5.665.. Train Linf norm: 348.629.. Val Linf norm: 222.179\n",
            "Epoch 63/144.. Train loss: 2.434.. Val loss: 2.188.. Train L1 norm: 5.643.. Val L1 norm: 6.740.. Train Linf norm: 212.911.. Val Linf norm: 268.369\n",
            "Epoch 64/144.. Train loss: 61.770.. Val loss: 2.177.. Train L1 norm: 171.082.. Val L1 norm: 5.804.. Train Linf norm: 10747.592.. Val Linf norm: 228.218\n",
            "Epoch 65/144.. Train loss: 4.620.. Val loss: 2.177.. Train L1 norm: 6.476.. Val L1 norm: 5.714.. Train Linf norm: 263.510.. Val Linf norm: 224.305\n",
            "Epoch 66/144.. Train loss: 2.463.. Val loss: 2.177.. Train L1 norm: 4.777.. Val L1 norm: 5.879.. Train Linf norm: 168.359.. Val Linf norm: 231.469\n",
            "Epoch 67/144.. Train loss: 3.997.. Val loss: 2.177.. Train L1 norm: 6.039.. Val L1 norm: 5.740.. Train Linf norm: 241.787.. Val Linf norm: 225.432\n",
            "Epoch 68/144.. Train loss: 4.402.. Val loss: 2.177.. Train L1 norm: 6.284.. Val L1 norm: 5.724.. Train Linf norm: 251.148.. Val Linf norm: 224.764\n",
            "Epoch 69/144.. Train loss: 4.550.. Val loss: 2.177.. Train L1 norm: 5.717.. Val L1 norm: 5.816.. Train Linf norm: 215.117.. Val Linf norm: 228.714\n",
            "Epoch 70/144.. Train loss: 21.597.. Val loss: 2.177.. Train L1 norm: 14.204.. Val L1 norm: 5.743.. Train Linf norm: 688.071.. Val Linf norm: 225.589\n",
            "Epoch 71/144.. Train loss: 5.525.. Val loss: 2.177.. Train L1 norm: 7.603.. Val L1 norm: 5.855.. Train Linf norm: 272.656.. Val Linf norm: 230.426\n",
            "Epoch 72/144.. Train loss: 2.206.. Val loss: 2.177.. Train L1 norm: 4.774.. Val L1 norm: 5.817.. Train Linf norm: 166.939.. Val Linf norm: 228.765\n",
            "Epoch 73/144.. Train loss: 48.157.. Val loss: 2.178.. Train L1 norm: 28.770.. Val L1 norm: 5.661.. Train Linf norm: 1376.610.. Val Linf norm: 222.009\n",
            "Epoch 74/144.. Train loss: 15.441.. Val loss: 2.177.. Train L1 norm: 46.437.. Val L1 norm: 5.755.. Train Linf norm: 2535.462.. Val Linf norm: 226.108\n",
            "Epoch 75/144.. Train loss: 58.752.. Val loss: 217.652.. Train L1 norm: 49.246.. Val L1 norm: 205.260.. Train Linf norm: 1803.438.. Val Linf norm: 10039.814\n",
            "Epoch 76/144.. Train loss: 71.104.. Val loss: 2.178.. Train L1 norm: 51.278.. Val L1 norm: 5.687.. Train Linf norm: 2971.507.. Val Linf norm: 223.156\n",
            "Epoch 77/144.. Train loss: 6.009.. Val loss: 2.177.. Train L1 norm: 6.659.. Val L1 norm: 5.825.. Train Linf norm: 287.768.. Val Linf norm: 229.110\n",
            "Epoch 78/144.. Train loss: 16.227.. Val loss: 2.178.. Train L1 norm: 8.641.. Val L1 norm: 5.677.. Train Linf norm: 412.609.. Val Linf norm: 222.697\n",
            "Epoch 79/144.. Train loss: 27.452.. Val loss: 2.177.. Train L1 norm: 43.138.. Val L1 norm: 5.749.. Train Linf norm: 2482.473.. Val Linf norm: 225.844\n",
            "Epoch 80/144.. Train loss: 227.250.. Val loss: 2.178.. Train L1 norm: 215.420.. Val L1 norm: 5.599.. Train Linf norm: 4584.748.. Val Linf norm: 219.332\n",
            "Epoch 81/144.. Train loss: 26.789.. Val loss: 2.177.. Train L1 norm: 56.864.. Val L1 norm: 5.794.. Train Linf norm: 2655.420.. Val Linf norm: 227.764\n",
            "Epoch 82/144.. Train loss: 248.241.. Val loss: 2.177.. Train L1 norm: 216.235.. Val L1 norm: 5.779.. Train Linf norm: 5578.512.. Val Linf norm: 227.131\n",
            "Epoch 83/144.. Train loss: 17.231.. Val loss: 2.177.. Train L1 norm: 19.822.. Val L1 norm: 5.845.. Train Linf norm: 598.215.. Val Linf norm: 229.968\n",
            "Epoch 84/144.. Train loss: 5.189.. Val loss: 2.177.. Train L1 norm: 8.365.. Val L1 norm: 5.765.. Train Linf norm: 355.803.. Val Linf norm: 226.529\n",
            "Epoch 85/144.. Train loss: 29.720.. Val loss: 2.177.. Train L1 norm: 65.852.. Val L1 norm: 5.800.. Train Linf norm: 3968.111.. Val Linf norm: 228.051\n",
            "Epoch 86/144.. Train loss: 10.333.. Val loss: 2.177.. Train L1 norm: 10.102.. Val L1 norm: 5.922.. Train Linf norm: 354.134.. Val Linf norm: 233.292\n",
            "Epoch 87/144.. Train loss: 35.943.. Val loss: 2.177.. Train L1 norm: 18.613.. Val L1 norm: 5.925.. Train Linf norm: 925.445.. Val Linf norm: 233.429\n",
            "Epoch 88/144.. Train loss: 10.430.. Val loss: 2.180.. Train L1 norm: 11.644.. Val L1 norm: 5.436.. Train Linf norm: 444.950.. Val Linf norm: 212.231\n",
            "Epoch 89/144.. Train loss: 9.714.. Val loss: 2.177.. Train L1 norm: 11.579.. Val L1 norm: 5.860.. Train Linf norm: 439.595.. Val Linf norm: 230.620\n",
            "Epoch 90/144.. Train loss: 6.611.. Val loss: 2.177.. Train L1 norm: 10.023.. Val L1 norm: 5.970.. Train Linf norm: 455.239.. Val Linf norm: 235.370\n",
            "Epoch 91/144.. Train loss: 11.141.. Val loss: 2.177.. Train L1 norm: 36.894.. Val L1 norm: 5.732.. Train Linf norm: 2128.064.. Val Linf norm: 225.086\n",
            "Epoch 92/144.. Train loss: 73.367.. Val loss: 2.177.. Train L1 norm: 39.378.. Val L1 norm: 5.731.. Train Linf norm: 2219.291.. Val Linf norm: 225.038\n",
            "Epoch 93/144.. Train loss: 5.226.. Val loss: 2.672.. Train L1 norm: 8.573.. Val L1 norm: 5.627.. Train Linf norm: 347.230.. Val Linf norm: 219.362\n",
            "Epoch 94/144.. Train loss: 18.412.. Val loss: 2.177.. Train L1 norm: 15.999.. Val L1 norm: 5.790.. Train Linf norm: 736.959.. Val Linf norm: 227.602\n",
            "Epoch 95/144.. Train loss: 27.476.. Val loss: 2.178.. Train L1 norm: 19.306.. Val L1 norm: 5.695.. Train Linf norm: 963.673.. Val Linf norm: 223.507\n",
            "Epoch 96/144.. Train loss: 18.945.. Val loss: 2.177.. Train L1 norm: 13.065.. Val L1 norm: 5.832.. Train Linf norm: 533.436.. Val Linf norm: 229.436\n",
            "Epoch 97/144.. Train loss: 3.294.. Val loss: 2.178.. Train L1 norm: 5.766.. Val L1 norm: 5.703.. Train Linf norm: 203.872.. Val Linf norm: 223.836\n",
            "Epoch 98/144.. Train loss: 2.724.. Val loss: 2.177.. Train L1 norm: 5.535.. Val L1 norm: 5.716.. Train Linf norm: 206.735.. Val Linf norm: 224.383\n",
            "Epoch 99/144.. Train loss: 3.766.. Val loss: 2.178.. Train L1 norm: 5.789.. Val L1 norm: 5.698.. Train Linf norm: 226.297.. Val Linf norm: 223.611\n",
            "Epoch 100/144.. Train loss: 2.182.. Val loss: 2.177.. Train L1 norm: 4.733.. Val L1 norm: 5.746.. Train Linf norm: 161.560.. Val Linf norm: 225.702\n",
            "Epoch 101/144.. Train loss: 2.322.. Val loss: 2.178.. Train L1 norm: 4.811.. Val L1 norm: 5.658.. Train Linf norm: 165.278.. Val Linf norm: 221.882\n",
            "Epoch 102/144.. Train loss: 2.215.. Val loss: 2.178.. Train L1 norm: 4.790.. Val L1 norm: 5.664.. Train Linf norm: 166.907.. Val Linf norm: 222.157\n",
            "Epoch 103/144.. Train loss: 2.275.. Val loss: 2.177.. Train L1 norm: 4.761.. Val L1 norm: 5.797.. Train Linf norm: 166.240.. Val Linf norm: 227.902\n",
            "Epoch 104/144.. Train loss: 2.162.. Val loss: 2.177.. Train L1 norm: 4.771.. Val L1 norm: 5.722.. Train Linf norm: 164.467.. Val Linf norm: 224.643\n",
            "Epoch 105/144.. Train loss: 2.189.. Val loss: 2.178.. Train L1 norm: 4.753.. Val L1 norm: 5.692.. Train Linf norm: 163.223.. Val Linf norm: 223.373\n",
            "Epoch 106/144.. Train loss: 2.174.. Val loss: 2.177.. Train L1 norm: 4.716.. Val L1 norm: 5.783.. Train Linf norm: 163.693.. Val Linf norm: 227.280\n",
            "Epoch 107/144.. Train loss: 2.164.. Val loss: 2.177.. Train L1 norm: 4.726.. Val L1 norm: 5.777.. Train Linf norm: 162.911.. Val Linf norm: 227.032\n",
            "Epoch 108/144.. Train loss: 2.208.. Val loss: 2.177.. Train L1 norm: 4.775.. Val L1 norm: 5.761.. Train Linf norm: 166.565.. Val Linf norm: 226.339\n",
            "Epoch 109/144.. Train loss: 2.230.. Val loss: 2.177.. Train L1 norm: 4.754.. Val L1 norm: 5.738.. Train Linf norm: 167.068.. Val Linf norm: 225.336\n",
            "Epoch 110/144.. Train loss: 2.162.. Val loss: 2.177.. Train L1 norm: 4.698.. Val L1 norm: 5.776.. Train Linf norm: 163.287.. Val Linf norm: 226.975\n",
            "Epoch 111/144.. Train loss: 2.179.. Val loss: 2.178.. Train L1 norm: 4.840.. Val L1 norm: 5.702.. Train Linf norm: 169.927.. Val Linf norm: 223.803\n",
            "Epoch 112/144.. Train loss: 2.312.. Val loss: 2.178.. Train L1 norm: 4.738.. Val L1 norm: 5.695.. Train Linf norm: 161.470.. Val Linf norm: 223.491\n",
            "Epoch 113/144.. Train loss: 2.172.. Val loss: 2.157.. Train L1 norm: 4.797.. Val L1 norm: 5.670.. Train Linf norm: 166.795.. Val Linf norm: 222.188\n",
            "Epoch 114/144.. Train loss: 2.164.. Val loss: 2.148.. Train L1 norm: 4.682.. Val L1 norm: 5.751.. Train Linf norm: 161.537.. Val Linf norm: 225.749\n",
            "Epoch 115/144.. Train loss: 2.080.. Val loss: 2.025.. Train L1 norm: 4.798.. Val L1 norm: 5.327.. Train Linf norm: 163.835.. Val Linf norm: 209.442\n",
            "Epoch 116/144.. Train loss: 2.013.. Val loss: 1.952.. Train L1 norm: 4.605.. Val L1 norm: 5.297.. Train Linf norm: 161.461.. Val Linf norm: 211.955\n",
            "Epoch 117/144.. Train loss: 1.927.. Val loss: 1.776.. Train L1 norm: 4.407.. Val L1 norm: 5.697.. Train Linf norm: 153.568.. Val Linf norm: 237.380\n",
            "Epoch 118/144.. Train loss: 1.835.. Val loss: 1.532.. Train L1 norm: 4.243.. Val L1 norm: 4.177.. Train Linf norm: 151.573.. Val Linf norm: 179.775\n",
            "Epoch 119/144.. Train loss: 1.560.. Val loss: 1.354.. Train L1 norm: 3.060.. Val L1 norm: 3.747.. Train Linf norm: 107.337.. Val Linf norm: 167.933\n",
            "Epoch 120/144.. Train loss: 1.772.. Val loss: 1.358.. Train L1 norm: 3.250.. Val L1 norm: 4.007.. Train Linf norm: 120.915.. Val Linf norm: 174.337\n",
            "Epoch 121/144.. Train loss: 1.595.. Val loss: 1.739.. Train L1 norm: 2.895.. Val L1 norm: 3.534.. Train Linf norm: 103.336.. Val Linf norm: 141.354\n",
            "Epoch 122/144.. Train loss: 1.674.. Val loss: 1.614.. Train L1 norm: 3.074.. Val L1 norm: 4.390.. Train Linf norm: 114.105.. Val Linf norm: 191.892\n",
            "Epoch 123/144.. Train loss: 1.522.. Val loss: 1.594.. Train L1 norm: 2.724.. Val L1 norm: 3.083.. Train Linf norm: 91.191.. Val Linf norm: 125.566\n",
            "Epoch 124/144.. Train loss: 1.693.. Val loss: 1.340.. Train L1 norm: 3.137.. Val L1 norm: 3.417.. Train Linf norm: 109.195.. Val Linf norm: 142.313\n",
            "Epoch 125/144.. Train loss: 1.467.. Val loss: 1.306.. Train L1 norm: 3.053.. Val L1 norm: 3.006.. Train Linf norm: 108.441.. Val Linf norm: 126.652\n",
            "Epoch 126/144.. Train loss: 1.945.. Val loss: 1.928.. Train L1 norm: 3.556.. Val L1 norm: 5.435.. Train Linf norm: 124.863.. Val Linf norm: 228.526\n",
            "Epoch 127/144.. Train loss: 1.734.. Val loss: 1.431.. Train L1 norm: 3.560.. Val L1 norm: 3.368.. Train Linf norm: 128.015.. Val Linf norm: 139.385\n",
            "Epoch 128/144.. Train loss: 1.816.. Val loss: 1.686.. Train L1 norm: 3.437.. Val L1 norm: 4.138.. Train Linf norm: 122.352.. Val Linf norm: 172.505\n",
            "Epoch 129/144.. Train loss: 1.758.. Val loss: 1.716.. Train L1 norm: 3.505.. Val L1 norm: 4.268.. Train Linf norm: 125.525.. Val Linf norm: 181.069\n",
            "Epoch 130/144.. Train loss: 1.914.. Val loss: 1.580.. Train L1 norm: 3.584.. Val L1 norm: 3.612.. Train Linf norm: 127.609.. Val Linf norm: 149.846\n",
            "Epoch 131/144.. Train loss: 1.717.. Val loss: 1.895.. Train L1 norm: 3.525.. Val L1 norm: 7.136.. Train Linf norm: 124.867.. Val Linf norm: 292.650\n",
            "Epoch 132/144.. Train loss: 1.697.. Val loss: 1.458.. Train L1 norm: 3.549.. Val L1 norm: 3.822.. Train Linf norm: 130.958.. Val Linf norm: 168.505\n",
            "Epoch 133/144.. Train loss: 2.549.. Val loss: 1.621.. Train L1 norm: 4.761.. Val L1 norm: 4.737.. Train Linf norm: 182.063.. Val Linf norm: 201.067\n",
            "Epoch 134/144.. Train loss: 2.131.. Val loss: 1.885.. Train L1 norm: 5.196.. Val L1 norm: 6.409.. Train Linf norm: 188.611.. Val Linf norm: 275.579\n",
            "Epoch 135/144.. Train loss: 2.461.. Val loss: 2.178.. Train L1 norm: 5.540.. Val L1 norm: 6.042.. Train Linf norm: 198.750.. Val Linf norm: 238.472\n",
            "Epoch 136/144.. Train loss: 3.598.. Val loss: 5.244.. Train L1 norm: 5.573.. Val L1 norm: 6.015.. Train Linf norm: 198.174.. Val Linf norm: 235.826\n",
            "Epoch 137/144.. Train loss: 88.370.. Val loss: 2.182.. Train L1 norm: 79.854.. Val L1 norm: 5.275.. Train Linf norm: 3497.102.. Val Linf norm: 205.225\n",
            "Epoch 138/144.. Train loss: 2.166.. Val loss: 2.177.. Train L1 norm: 4.625.. Val L1 norm: 5.710.. Train Linf norm: 160.939.. Val Linf norm: 224.140\n",
            "Epoch 139/144.. Train loss: 2.151.. Val loss: 2.177.. Train L1 norm: 4.722.. Val L1 norm: 5.768.. Train Linf norm: 164.450.. Val Linf norm: 226.654\n",
            "Epoch 140/144.. Train loss: 2.337.. Val loss: 2.177.. Train L1 norm: 4.952.. Val L1 norm: 5.757.. Train Linf norm: 174.677.. Val Linf norm: 226.159\n",
            "Epoch 141/144.. Train loss: 5.935.. Val loss: 2.177.. Train L1 norm: 6.005.. Val L1 norm: 5.789.. Train Linf norm: 230.819.. Val Linf norm: 227.573\n",
            "Epoch 142/144.. Train loss: 73.687.. Val loss: 2.177.. Train L1 norm: 14.893.. Val L1 norm: 5.732.. Train Linf norm: 774.177.. Val Linf norm: 225.078\n",
            "Epoch 143/144.. Train loss: 5.985.. Val loss: 2.177.. Train L1 norm: 5.631.. Val L1 norm: 5.764.. Train Linf norm: 218.050.. Val Linf norm: 226.483\n"
          ]
        },
        {
          "output_type": "stream",
          "name": "stderr",
          "text": [
            "[I 2023-05-31 20:45:12,694] Trial 4 finished with value: 5.779855084228515 and parameters: {'batch_size': 64, 'beta1': 0.9711796743710245, 'beta2': 0.999203051395688, 'dropout_rate': 0.04321145966410389, 'eta_min': 0.00038877535468725906, 'hidden_activation': 'GELU', 'loss': 'Quantile', 'lr': 0.007708443661695195, 'n_epochs': 144, 'n_layers': 8, 'n_units_0': 1053, 'n_units_1': 867, 'n_units_2': 2322, 'n_units_3': 591, 'n_units_4': 1032, 'n_units_5': 1022, 'n_units_6': 2333, 'n_units_7': 2984, 'optimizer': 'Adam', 'output_activation': 'Linear', 'scheduler': 'CosineAnnealingLR', 't_max_fraction': 0.2737582179820994, 'weight_decay': 1.9105598975369206e-05}. Best is trial 3 with value: 1.1057661293665568.\n"
          ]
        },
        {
          "output_type": "stream",
          "name": "stdout",
          "text": [
            "Epoch 144/144.. Train loss: 49.392.. Val loss: 2.177.. Train L1 norm: 52.959.. Val L1 norm: 5.780.. Train Linf norm: 1033.973.. Val Linf norm: 227.164\n"
          ]
        },
        {
          "output_type": "stream",
          "name": "stderr",
          "text": [
            "<ipython-input-78-5ce9a06c2c29>:58: FutureWarning: suggest_uniform has been deprecated in v3.0.0. This feature will be removed in v6.0.0. See https://github.com/optuna/optuna/releases/tag/v3.0.0. Use suggest_float instead.\n",
            "  negative_slope = trial.suggest_uniform(\"leakyrelu_slope\", 0.01, 0.3)\n",
            "[I 2023-05-31 20:45:18,114] Trial 5 pruned. \n"
          ]
        },
        {
          "output_type": "stream",
          "name": "stdout",
          "text": [
            "Epoch 1/148.. Train loss: 31725179348108206080.000.. Val loss: 234257384834690944.000.. Train L1 norm: 25368441418606403584.000.. Val L1 norm: 210031335772815584.000.. Train Linf norm: 3259528581222909870080.000.. Val Linf norm: 44681915214146387968.000\n"
          ]
        },
        {
          "output_type": "stream",
          "name": "stderr",
          "text": [
            "[I 2023-05-31 20:45:20,165] Trial 6 pruned. \n"
          ]
        },
        {
          "output_type": "stream",
          "name": "stdout",
          "text": [
            "Epoch 1/112.. Train loss: 2177484542.277.. Val loss: 218441.937.. Train L1 norm: 456863961.815.. Val L1 norm: 94799.575.. Train Linf norm: 159971427020.196.. Val Linf norm: 39407625.483\n"
          ]
        },
        {
          "output_type": "stream",
          "name": "stderr",
          "text": [
            "<ipython-input-78-5ce9a06c2c29>:145: FutureWarning: suggest_loguniform has been deprecated in v3.0.0. This feature will be removed in v6.0.0. See https://github.com/optuna/optuna/releases/tag/v3.0.0. Use suggest_float(..., log=True) instead.\n",
            "  weight_decay = trial.suggest_loguniform(\"weight_decay\", 1e-5, 1e-2)\n",
            "<ipython-input-78-5ce9a06c2c29>:146: FutureWarning: suggest_uniform has been deprecated in v3.0.0. This feature will be removed in v6.0.0. See https://github.com/optuna/optuna/releases/tag/v3.0.0. Use suggest_float instead.\n",
            "  momentum = trial.suggest_uniform(\"momentum\", 0.0, 0.99)\n",
            "WARNING:tensorboardX.x2num:NaN or Inf found in input tensor.\n",
            "WARNING:tensorboardX.x2num:NaN or Inf found in input tensor.\n",
            "WARNING:tensorboardX.x2num:NaN or Inf found in input tensor.\n",
            "WARNING:tensorboardX.x2num:NaN or Inf found in input tensor.\n",
            "WARNING:tensorboardX.x2num:NaN or Inf found in input tensor.\n",
            "WARNING:tensorboardX.x2num:NaN or Inf found in input tensor.\n",
            "/usr/local/lib/python3.10/dist-packages/optuna/pruners/_percentile.py:20: RuntimeWarning: All-NaN slice encountered\n",
            "  return np.nanmin(values)\n",
            "[I 2023-05-31 20:45:26,990] Trial 7 pruned. \n"
          ]
        },
        {
          "output_type": "stream",
          "name": "stdout",
          "text": [
            "Epoch 1/73.. Train loss: nan.. Val loss: nan.. Train L1 norm: nan.. Val L1 norm: nan.. Train Linf norm: nan.. Val Linf norm: nan\n"
          ]
        },
        {
          "output_type": "stream",
          "name": "stderr",
          "text": [
            "WARNING:tensorboardX.x2num:NaN or Inf found in input tensor.\n",
            "WARNING:tensorboardX.x2num:NaN or Inf found in input tensor.\n",
            "WARNING:tensorboardX.x2num:NaN or Inf found in input tensor.\n",
            "WARNING:tensorboardX.x2num:NaN or Inf found in input tensor.\n",
            "WARNING:tensorboardX.x2num:NaN or Inf found in input tensor.\n",
            "WARNING:tensorboardX.x2num:NaN or Inf found in input tensor.\n",
            "[I 2023-05-31 20:45:43,935] Trial 8 pruned. \n"
          ]
        },
        {
          "output_type": "stream",
          "name": "stdout",
          "text": [
            "Epoch 1/92.. Train loss: nan.. Val loss: nan.. Train L1 norm: nan.. Val L1 norm: nan.. Train Linf norm: nan.. Val Linf norm: nan\n",
            "Epoch 1/143.. Train loss: 5.644.. Val loss: 4.715.. Train L1 norm: 3.034.. Val L1 norm: 3.101.. Train Linf norm: 1539.024.. Val Linf norm: 1408.442\n",
            "Epoch 2/143.. Train loss: 5.344.. Val loss: 4.792.. Train L1 norm: 2.911.. Val L1 norm: 2.083.. Train Linf norm: 1326.042.. Val Linf norm: 777.377\n",
            "Epoch 3/143.. Train loss: 5.158.. Val loss: 4.775.. Train L1 norm: 2.160.. Val L1 norm: 2.181.. Train Linf norm: 953.055.. Val Linf norm: 831.474\n",
            "Epoch 4/143.. Train loss: 5.065.. Val loss: 4.779.. Train L1 norm: 2.221.. Val L1 norm: 2.155.. Train Linf norm: 956.691.. Val Linf norm: 809.509\n",
            "Epoch 5/143.. Train loss: 5.077.. Val loss: 4.795.. Train L1 norm: 2.317.. Val L1 norm: 2.070.. Train Linf norm: 977.572.. Val Linf norm: 748.201\n",
            "Epoch 6/143.. Train loss: 5.055.. Val loss: 4.805.. Train L1 norm: 2.082.. Val L1 norm: 2.020.. Train Linf norm: 823.005.. Val Linf norm: 710.360\n",
            "Epoch 7/143.. Train loss: 4.914.. Val loss: 4.802.. Train L1 norm: 2.137.. Val L1 norm: 2.035.. Train Linf norm: 944.683.. Val Linf norm: 714.109\n",
            "Epoch 8/143.. Train loss: 4.982.. Val loss: 4.803.. Train L1 norm: 2.103.. Val L1 norm: 2.030.. Train Linf norm: 812.777.. Val Linf norm: 700.835\n",
            "Epoch 9/143.. Train loss: 4.852.. Val loss: 4.805.. Train L1 norm: 2.165.. Val L1 norm: 2.027.. Train Linf norm: 953.229.. Val Linf norm: 694.923\n",
            "Epoch 10/143.. Train loss: 4.834.. Val loss: 4.804.. Train L1 norm: 2.057.. Val L1 norm: 2.034.. Train Linf norm: 762.253.. Val Linf norm: 697.888\n",
            "Epoch 11/143.. Train loss: 4.938.. Val loss: 4.805.. Train L1 norm: 2.056.. Val L1 norm: 2.033.. Train Linf norm: 771.733.. Val Linf norm: 696.448\n",
            "Epoch 12/143.. Train loss: 4.976.. Val loss: 4.808.. Train L1 norm: 2.081.. Val L1 norm: 2.016.. Train Linf norm: 833.797.. Val Linf norm: 683.337\n",
            "Epoch 13/143.. Train loss: 4.880.. Val loss: 4.808.. Train L1 norm: 2.069.. Val L1 norm: 2.023.. Train Linf norm: 849.071.. Val Linf norm: 685.728\n",
            "Epoch 14/143.. Train loss: 4.923.. Val loss: 4.808.. Train L1 norm: 2.061.. Val L1 norm: 2.023.. Train Linf norm: 828.672.. Val Linf norm: 684.713\n",
            "Epoch 15/143.. Train loss: 4.862.. Val loss: 4.807.. Train L1 norm: 2.020.. Val L1 norm: 2.029.. Train Linf norm: 705.070.. Val Linf norm: 687.483\n",
            "Epoch 16/143.. Train loss: 4.913.. Val loss: 4.808.. Train L1 norm: 2.057.. Val L1 norm: 2.023.. Train Linf norm: 836.371.. Val Linf norm: 683.454\n",
            "Epoch 17/143.. Train loss: 4.968.. Val loss: 4.809.. Train L1 norm: 2.061.. Val L1 norm: 2.021.. Train Linf norm: 787.298.. Val Linf norm: 680.961\n",
            "Epoch 18/143.. Train loss: 4.928.. Val loss: 4.810.. Train L1 norm: 2.086.. Val L1 norm: 2.016.. Train Linf norm: 768.995.. Val Linf norm: 676.345\n",
            "Epoch 19/143.. Train loss: 4.938.. Val loss: 4.810.. Train L1 norm: 2.024.. Val L1 norm: 2.013.. Train Linf norm: 719.584.. Val Linf norm: 674.009\n",
            "Epoch 20/143.. Train loss: 4.809.. Val loss: 4.810.. Train L1 norm: 2.057.. Val L1 norm: 2.015.. Train Linf norm: 772.927.. Val Linf norm: 674.859\n",
            "Epoch 21/143.. Train loss: 5.021.. Val loss: 4.810.. Train L1 norm: 2.046.. Val L1 norm: 2.013.. Train Linf norm: 766.916.. Val Linf norm: 673.416\n",
            "Epoch 22/143.. Train loss: 4.911.. Val loss: 4.811.. Train L1 norm: 2.055.. Val L1 norm: 2.012.. Train Linf norm: 767.092.. Val Linf norm: 672.672\n",
            "Epoch 23/143.. Train loss: 4.909.. Val loss: 4.811.. Train L1 norm: 2.020.. Val L1 norm: 2.011.. Train Linf norm: 770.617.. Val Linf norm: 671.805\n",
            "Epoch 24/143.. Train loss: 4.889.. Val loss: 4.811.. Train L1 norm: 2.047.. Val L1 norm: 2.010.. Train Linf norm: 789.634.. Val Linf norm: 671.016\n",
            "Epoch 25/143.. Train loss: 4.875.. Val loss: 4.811.. Train L1 norm: 2.084.. Val L1 norm: 2.010.. Train Linf norm: 850.772.. Val Linf norm: 670.611\n",
            "Epoch 26/143.. Train loss: 4.832.. Val loss: 4.811.. Train L1 norm: 2.018.. Val L1 norm: 2.010.. Train Linf norm: 724.526.. Val Linf norm: 670.396\n",
            "Epoch 27/143.. Train loss: 4.866.. Val loss: 4.811.. Train L1 norm: 2.030.. Val L1 norm: 2.009.. Train Linf norm: 731.427.. Val Linf norm: 669.858\n",
            "Epoch 28/143.. Train loss: 4.898.. Val loss: 4.812.. Train L1 norm: 2.020.. Val L1 norm: 2.009.. Train Linf norm: 717.561.. Val Linf norm: 669.550\n",
            "Epoch 29/143.. Train loss: 4.867.. Val loss: 4.812.. Train L1 norm: 2.047.. Val L1 norm: 2.009.. Train Linf norm: 754.086.. Val Linf norm: 669.522\n",
            "Epoch 30/143.. Train loss: 4.801.. Val loss: 4.812.. Train L1 norm: 2.061.. Val L1 norm: 2.009.. Train Linf norm: 799.478.. Val Linf norm: 669.560\n",
            "Epoch 31/143.. Train loss: 4.793.. Val loss: 4.812.. Train L1 norm: 2.068.. Val L1 norm: 2.009.. Train Linf norm: 845.888.. Val Linf norm: 669.654\n",
            "Epoch 32/143.. Train loss: 4.888.. Val loss: 4.812.. Train L1 norm: 2.032.. Val L1 norm: 2.009.. Train Linf norm: 717.544.. Val Linf norm: 669.499\n",
            "Epoch 33/143.. Train loss: 4.812.. Val loss: 4.812.. Train L1 norm: 2.046.. Val L1 norm: 2.009.. Train Linf norm: 741.694.. Val Linf norm: 669.378\n",
            "Epoch 34/143.. Train loss: 4.849.. Val loss: 4.812.. Train L1 norm: 2.049.. Val L1 norm: 2.009.. Train Linf norm: 780.252.. Val Linf norm: 669.562\n",
            "Epoch 35/143.. Train loss: 4.931.. Val loss: 4.812.. Train L1 norm: 2.118.. Val L1 norm: 2.009.. Train Linf norm: 851.926.. Val Linf norm: 669.271\n",
            "Epoch 36/143.. Train loss: 4.870.. Val loss: 4.812.. Train L1 norm: 2.061.. Val L1 norm: 2.009.. Train Linf norm: 713.085.. Val Linf norm: 669.051\n",
            "Epoch 37/143.. Train loss: 4.800.. Val loss: 4.812.. Train L1 norm: 2.059.. Val L1 norm: 2.009.. Train Linf norm: 774.740.. Val Linf norm: 669.067\n",
            "Epoch 38/143.. Train loss: 4.848.. Val loss: 4.812.. Train L1 norm: 2.030.. Val L1 norm: 2.009.. Train Linf norm: 779.887.. Val Linf norm: 668.975\n",
            "Epoch 39/143.. Train loss: 4.913.. Val loss: 4.812.. Train L1 norm: 2.059.. Val L1 norm: 2.009.. Train Linf norm: 768.007.. Val Linf norm: 668.920\n",
            "Epoch 40/143.. Train loss: 4.880.. Val loss: 4.812.. Train L1 norm: 2.019.. Val L1 norm: 2.009.. Train Linf norm: 736.650.. Val Linf norm: 668.858\n",
            "Epoch 41/143.. Train loss: 4.850.. Val loss: 4.812.. Train L1 norm: 2.021.. Val L1 norm: 2.008.. Train Linf norm: 705.734.. Val Linf norm: 668.786\n",
            "Epoch 42/143.. Train loss: 4.921.. Val loss: 4.812.. Train L1 norm: 2.053.. Val L1 norm: 2.008.. Train Linf norm: 837.840.. Val Linf norm: 668.258\n",
            "Epoch 43/143.. Train loss: 4.936.. Val loss: 4.812.. Train L1 norm: 2.048.. Val L1 norm: 2.007.. Train Linf norm: 816.898.. Val Linf norm: 668.178\n",
            "Epoch 44/143.. Train loss: 4.927.. Val loss: 4.812.. Train L1 norm: 2.006.. Val L1 norm: 2.007.. Train Linf norm: 713.625.. Val Linf norm: 668.114\n",
            "Epoch 45/143.. Train loss: 4.886.. Val loss: 4.812.. Train L1 norm: 2.010.. Val L1 norm: 2.007.. Train Linf norm: 683.571.. Val Linf norm: 668.076\n",
            "Epoch 46/143.. Train loss: 4.850.. Val loss: 4.812.. Train L1 norm: 2.035.. Val L1 norm: 2.007.. Train Linf norm: 680.398.. Val Linf norm: 668.025\n",
            "Epoch 47/143.. Train loss: 4.865.. Val loss: 4.812.. Train L1 norm: 2.109.. Val L1 norm: 2.007.. Train Linf norm: 845.483.. Val Linf norm: 667.976\n",
            "Epoch 48/143.. Train loss: 4.887.. Val loss: 4.812.. Train L1 norm: 2.065.. Val L1 norm: 2.007.. Train Linf norm: 763.215.. Val Linf norm: 667.921\n",
            "Epoch 49/143.. Train loss: 4.852.. Val loss: 4.812.. Train L1 norm: 2.053.. Val L1 norm: 2.007.. Train Linf norm: 720.673.. Val Linf norm: 667.862\n",
            "Epoch 50/143.. Train loss: 4.910.. Val loss: 4.812.. Train L1 norm: 2.016.. Val L1 norm: 2.007.. Train Linf norm: 717.661.. Val Linf norm: 667.786\n",
            "Epoch 51/143.. Train loss: 4.855.. Val loss: 4.812.. Train L1 norm: 2.051.. Val L1 norm: 2.007.. Train Linf norm: 745.880.. Val Linf norm: 667.735\n",
            "Epoch 52/143.. Train loss: 4.885.. Val loss: 4.812.. Train L1 norm: 2.042.. Val L1 norm: 2.007.. Train Linf norm: 792.540.. Val Linf norm: 667.678\n",
            "Epoch 53/143.. Train loss: 4.962.. Val loss: 4.812.. Train L1 norm: 2.016.. Val L1 norm: 2.007.. Train Linf norm: 666.023.. Val Linf norm: 667.615\n",
            "Epoch 54/143.. Train loss: 4.840.. Val loss: 4.812.. Train L1 norm: 2.002.. Val L1 norm: 2.007.. Train Linf norm: 730.005.. Val Linf norm: 667.552\n",
            "Epoch 55/143.. Train loss: 4.930.. Val loss: 4.812.. Train L1 norm: 2.044.. Val L1 norm: 2.007.. Train Linf norm: 788.690.. Val Linf norm: 667.524\n",
            "Epoch 56/143.. Train loss: 4.882.. Val loss: 4.812.. Train L1 norm: 2.035.. Val L1 norm: 2.006.. Train Linf norm: 801.382.. Val Linf norm: 667.499\n",
            "Epoch 57/143.. Train loss: 4.885.. Val loss: 4.812.. Train L1 norm: 2.053.. Val L1 norm: 2.006.. Train Linf norm: 737.672.. Val Linf norm: 667.472\n",
            "Epoch 58/143.. Train loss: 4.809.. Val loss: 4.812.. Train L1 norm: 2.036.. Val L1 norm: 2.006.. Train Linf norm: 740.568.. Val Linf norm: 667.452\n",
            "Epoch 59/143.. Train loss: 4.838.. Val loss: 4.812.. Train L1 norm: 2.017.. Val L1 norm: 2.006.. Train Linf norm: 731.922.. Val Linf norm: 667.431\n",
            "Epoch 60/143.. Train loss: 4.792.. Val loss: 4.812.. Train L1 norm: 2.033.. Val L1 norm: 2.006.. Train Linf norm: 764.654.. Val Linf norm: 667.409\n",
            "Epoch 61/143.. Train loss: 4.860.. Val loss: 4.812.. Train L1 norm: 2.011.. Val L1 norm: 2.006.. Train Linf norm: 650.507.. Val Linf norm: 667.386\n",
            "Epoch 62/143.. Train loss: 4.878.. Val loss: 4.812.. Train L1 norm: 2.028.. Val L1 norm: 2.006.. Train Linf norm: 770.368.. Val Linf norm: 667.363\n",
            "Epoch 63/143.. Train loss: 4.919.. Val loss: 4.812.. Train L1 norm: 2.022.. Val L1 norm: 2.006.. Train Linf norm: 693.768.. Val Linf norm: 667.338\n",
            "Epoch 64/143.. Train loss: 4.858.. Val loss: 4.812.. Train L1 norm: 2.020.. Val L1 norm: 2.006.. Train Linf norm: 735.768.. Val Linf norm: 667.332\n",
            "Epoch 65/143.. Train loss: 4.899.. Val loss: 4.812.. Train L1 norm: 2.015.. Val L1 norm: 2.006.. Train Linf norm: 702.985.. Val Linf norm: 667.327\n",
            "Epoch 66/143.. Train loss: 4.865.. Val loss: 4.812.. Train L1 norm: 2.119.. Val L1 norm: 2.006.. Train Linf norm: 897.876.. Val Linf norm: 667.321\n",
            "Epoch 67/143.. Train loss: 4.883.. Val loss: 4.812.. Train L1 norm: 2.020.. Val L1 norm: 2.006.. Train Linf norm: 727.898.. Val Linf norm: 667.315\n",
            "Epoch 68/143.. Train loss: 4.886.. Val loss: 4.812.. Train L1 norm: 2.054.. Val L1 norm: 2.006.. Train Linf norm: 796.081.. Val Linf norm: 667.310\n",
            "Epoch 69/143.. Train loss: 4.855.. Val loss: 4.812.. Train L1 norm: 2.035.. Val L1 norm: 2.006.. Train Linf norm: 760.355.. Val Linf norm: 667.304\n",
            "Epoch 70/143.. Train loss: 4.870.. Val loss: 4.812.. Train L1 norm: 2.059.. Val L1 norm: 2.006.. Train Linf norm: 760.621.. Val Linf norm: 667.299\n",
            "Epoch 71/143.. Train loss: 4.833.. Val loss: 4.812.. Train L1 norm: 2.067.. Val L1 norm: 2.006.. Train Linf norm: 871.774.. Val Linf norm: 667.291\n",
            "Epoch 72/143.. Train loss: 4.936.. Val loss: 4.812.. Train L1 norm: 2.033.. Val L1 norm: 2.006.. Train Linf norm: 755.811.. Val Linf norm: 667.285\n",
            "Epoch 73/143.. Train loss: 4.830.. Val loss: 4.812.. Train L1 norm: 2.005.. Val L1 norm: 2.006.. Train Linf norm: 733.443.. Val Linf norm: 667.285\n",
            "Epoch 74/143.. Train loss: 4.862.. Val loss: 4.812.. Train L1 norm: 2.053.. Val L1 norm: 2.006.. Train Linf norm: 755.989.. Val Linf norm: 667.284\n",
            "Epoch 75/143.. Train loss: 4.892.. Val loss: 4.812.. Train L1 norm: 2.034.. Val L1 norm: 2.006.. Train Linf norm: 768.419.. Val Linf norm: 667.283\n",
            "Epoch 76/143.. Train loss: 4.875.. Val loss: 4.812.. Train L1 norm: 2.069.. Val L1 norm: 2.006.. Train Linf norm: 763.914.. Val Linf norm: 667.283\n",
            "Epoch 77/143.. Train loss: 4.903.. Val loss: 4.812.. Train L1 norm: 2.004.. Val L1 norm: 2.006.. Train Linf norm: 681.962.. Val Linf norm: 667.282\n",
            "Epoch 78/143.. Train loss: 5.004.. Val loss: 4.812.. Train L1 norm: 2.016.. Val L1 norm: 2.006.. Train Linf norm: 721.555.. Val Linf norm: 667.281\n",
            "Epoch 79/143.. Train loss: 4.883.. Val loss: 4.812.. Train L1 norm: 2.055.. Val L1 norm: 2.006.. Train Linf norm: 814.660.. Val Linf norm: 667.281\n",
            "Epoch 80/143.. Train loss: 4.930.. Val loss: 4.812.. Train L1 norm: 2.043.. Val L1 norm: 2.006.. Train Linf norm: 807.074.. Val Linf norm: 667.280\n",
            "Epoch 81/143.. Train loss: 4.922.. Val loss: 4.812.. Train L1 norm: 1.997.. Val L1 norm: 2.006.. Train Linf norm: 709.483.. Val Linf norm: 667.279\n",
            "Epoch 82/143.. Train loss: 4.860.. Val loss: 4.812.. Train L1 norm: 2.059.. Val L1 norm: 2.006.. Train Linf norm: 818.608.. Val Linf norm: 667.279\n",
            "Epoch 83/143.. Train loss: 4.847.. Val loss: 4.812.. Train L1 norm: 2.025.. Val L1 norm: 2.006.. Train Linf norm: 715.980.. Val Linf norm: 667.279\n",
            "Epoch 84/143.. Train loss: 4.874.. Val loss: 4.812.. Train L1 norm: 1.996.. Val L1 norm: 2.006.. Train Linf norm: 703.349.. Val Linf norm: 667.279\n",
            "Epoch 85/143.. Train loss: 4.832.. Val loss: 4.812.. Train L1 norm: 2.048.. Val L1 norm: 2.006.. Train Linf norm: 819.045.. Val Linf norm: 667.279\n",
            "Epoch 86/143.. Train loss: 4.923.. Val loss: 4.812.. Train L1 norm: 2.059.. Val L1 norm: 2.006.. Train Linf norm: 748.615.. Val Linf norm: 667.279\n",
            "Epoch 87/143.. Train loss: 4.820.. Val loss: 4.812.. Train L1 norm: 2.040.. Val L1 norm: 2.006.. Train Linf norm: 649.173.. Val Linf norm: 667.279\n",
            "Epoch 88/143.. Train loss: 4.905.. Val loss: 4.812.. Train L1 norm: 1.981.. Val L1 norm: 2.006.. Train Linf norm: 699.869.. Val Linf norm: 667.279\n",
            "Epoch 89/143.. Train loss: 4.921.. Val loss: 4.812.. Train L1 norm: 2.012.. Val L1 norm: 2.006.. Train Linf norm: 692.068.. Val Linf norm: 667.279\n",
            "Epoch 90/143.. Train loss: 4.867.. Val loss: 4.812.. Train L1 norm: 2.024.. Val L1 norm: 2.006.. Train Linf norm: 651.151.. Val Linf norm: 667.279\n",
            "Epoch 91/143.. Train loss: 4.825.. Val loss: 4.812.. Train L1 norm: 2.066.. Val L1 norm: 2.006.. Train Linf norm: 807.351.. Val Linf norm: 667.279\n",
            "Epoch 92/143.. Train loss: 4.895.. Val loss: 4.812.. Train L1 norm: 2.046.. Val L1 norm: 2.006.. Train Linf norm: 781.116.. Val Linf norm: 667.279\n",
            "Epoch 93/143.. Train loss: 4.862.. Val loss: 4.812.. Train L1 norm: 2.047.. Val L1 norm: 2.006.. Train Linf norm: 816.172.. Val Linf norm: 667.279\n",
            "Epoch 94/143.. Train loss: 4.822.. Val loss: 4.812.. Train L1 norm: 2.072.. Val L1 norm: 2.006.. Train Linf norm: 747.286.. Val Linf norm: 667.279\n",
            "Epoch 95/143.. Train loss: 4.880.. Val loss: 4.812.. Train L1 norm: 2.022.. Val L1 norm: 2.006.. Train Linf norm: 734.410.. Val Linf norm: 667.279\n",
            "Epoch 96/143.. Train loss: 4.817.. Val loss: 4.812.. Train L1 norm: 2.027.. Val L1 norm: 2.006.. Train Linf norm: 752.076.. Val Linf norm: 667.279\n",
            "Epoch 97/143.. Train loss: 4.879.. Val loss: 4.812.. Train L1 norm: 2.045.. Val L1 norm: 2.006.. Train Linf norm: 780.800.. Val Linf norm: 667.279\n",
            "Epoch 98/143.. Train loss: 4.870.. Val loss: 4.812.. Train L1 norm: 2.065.. Val L1 norm: 2.006.. Train Linf norm: 771.241.. Val Linf norm: 667.279\n",
            "Epoch 99/143.. Train loss: 4.872.. Val loss: 4.812.. Train L1 norm: 2.055.. Val L1 norm: 2.006.. Train Linf norm: 779.909.. Val Linf norm: 667.279\n",
            "Epoch 100/143.. Train loss: 4.829.. Val loss: 4.812.. Train L1 norm: 2.032.. Val L1 norm: 2.006.. Train Linf norm: 755.459.. Val Linf norm: 667.279\n",
            "Epoch 101/143.. Train loss: 4.850.. Val loss: 4.812.. Train L1 norm: 2.046.. Val L1 norm: 2.006.. Train Linf norm: 791.917.. Val Linf norm: 667.279\n",
            "Epoch 102/143.. Train loss: 4.918.. Val loss: 4.812.. Train L1 norm: 2.055.. Val L1 norm: 2.006.. Train Linf norm: 789.721.. Val Linf norm: 667.279\n",
            "Epoch 103/143.. Train loss: 4.895.. Val loss: 4.812.. Train L1 norm: 2.040.. Val L1 norm: 2.006.. Train Linf norm: 748.476.. Val Linf norm: 667.279\n",
            "Epoch 104/143.. Train loss: 4.816.. Val loss: 4.812.. Train L1 norm: 2.040.. Val L1 norm: 2.006.. Train Linf norm: 767.071.. Val Linf norm: 667.279\n",
            "Epoch 105/143.. Train loss: 4.857.. Val loss: 4.812.. Train L1 norm: 2.100.. Val L1 norm: 2.006.. Train Linf norm: 934.258.. Val Linf norm: 667.279\n",
            "Epoch 106/143.. Train loss: 4.853.. Val loss: 4.812.. Train L1 norm: 2.043.. Val L1 norm: 2.006.. Train Linf norm: 740.963.. Val Linf norm: 667.279\n",
            "Epoch 107/143.. Train loss: 4.862.. Val loss: 4.812.. Train L1 norm: 2.076.. Val L1 norm: 2.006.. Train Linf norm: 826.882.. Val Linf norm: 667.279\n",
            "Epoch 108/143.. Train loss: 4.839.. Val loss: 4.812.. Train L1 norm: 2.001.. Val L1 norm: 2.006.. Train Linf norm: 693.101.. Val Linf norm: 667.279\n",
            "Epoch 109/143.. Train loss: 4.871.. Val loss: 4.812.. Train L1 norm: 2.038.. Val L1 norm: 2.006.. Train Linf norm: 715.217.. Val Linf norm: 667.279\n",
            "Epoch 110/143.. Train loss: 4.841.. Val loss: 4.812.. Train L1 norm: 2.027.. Val L1 norm: 2.006.. Train Linf norm: 732.931.. Val Linf norm: 667.279\n",
            "Epoch 111/143.. Train loss: 4.809.. Val loss: 4.812.. Train L1 norm: 1.985.. Val L1 norm: 2.006.. Train Linf norm: 720.947.. Val Linf norm: 667.279\n",
            "Epoch 112/143.. Train loss: 4.827.. Val loss: 4.812.. Train L1 norm: 2.025.. Val L1 norm: 2.006.. Train Linf norm: 693.042.. Val Linf norm: 667.279\n",
            "Epoch 113/143.. Train loss: 4.836.. Val loss: 4.812.. Train L1 norm: 2.091.. Val L1 norm: 2.006.. Train Linf norm: 669.729.. Val Linf norm: 667.279\n",
            "Epoch 114/143.. Train loss: 4.812.. Val loss: 4.812.. Train L1 norm: 2.080.. Val L1 norm: 2.006.. Train Linf norm: 892.060.. Val Linf norm: 667.279\n",
            "Epoch 115/143.. Train loss: 4.824.. Val loss: 4.812.. Train L1 norm: 2.075.. Val L1 norm: 2.006.. Train Linf norm: 800.266.. Val Linf norm: 667.279\n",
            "Epoch 116/143.. Train loss: 4.973.. Val loss: 4.812.. Train L1 norm: 2.074.. Val L1 norm: 2.006.. Train Linf norm: 787.914.. Val Linf norm: 667.279\n",
            "Epoch 117/143.. Train loss: 4.866.. Val loss: 4.812.. Train L1 norm: 2.061.. Val L1 norm: 2.006.. Train Linf norm: 839.929.. Val Linf norm: 667.279\n",
            "Epoch 118/143.. Train loss: 4.871.. Val loss: 4.812.. Train L1 norm: 2.029.. Val L1 norm: 2.006.. Train Linf norm: 688.304.. Val Linf norm: 667.279\n",
            "Epoch 119/143.. Train loss: 4.816.. Val loss: 4.812.. Train L1 norm: 2.011.. Val L1 norm: 2.006.. Train Linf norm: 693.456.. Val Linf norm: 667.279\n",
            "Epoch 120/143.. Train loss: 4.934.. Val loss: 4.812.. Train L1 norm: 2.050.. Val L1 norm: 2.006.. Train Linf norm: 803.065.. Val Linf norm: 667.279\n",
            "Epoch 121/143.. Train loss: 4.872.. Val loss: 4.812.. Train L1 norm: 2.070.. Val L1 norm: 2.006.. Train Linf norm: 803.159.. Val Linf norm: 667.279\n",
            "Epoch 122/143.. Train loss: 4.838.. Val loss: 4.812.. Train L1 norm: 2.007.. Val L1 norm: 2.006.. Train Linf norm: 725.811.. Val Linf norm: 667.279\n",
            "Epoch 123/143.. Train loss: 4.801.. Val loss: 4.812.. Train L1 norm: 2.023.. Val L1 norm: 2.006.. Train Linf norm: 657.893.. Val Linf norm: 667.279\n",
            "Epoch 124/143.. Train loss: 4.940.. Val loss: 4.812.. Train L1 norm: 2.056.. Val L1 norm: 2.006.. Train Linf norm: 798.476.. Val Linf norm: 667.279\n",
            "Epoch 125/143.. Train loss: 4.921.. Val loss: 4.812.. Train L1 norm: 2.053.. Val L1 norm: 2.006.. Train Linf norm: 787.320.. Val Linf norm: 667.279\n",
            "Epoch 126/143.. Train loss: 4.865.. Val loss: 4.812.. Train L1 norm: 2.037.. Val L1 norm: 2.006.. Train Linf norm: 752.569.. Val Linf norm: 667.279\n",
            "Epoch 127/143.. Train loss: 4.867.. Val loss: 4.812.. Train L1 norm: 1.997.. Val L1 norm: 2.006.. Train Linf norm: 717.022.. Val Linf norm: 667.279\n",
            "Epoch 128/143.. Train loss: 4.853.. Val loss: 4.812.. Train L1 norm: 2.065.. Val L1 norm: 2.006.. Train Linf norm: 799.113.. Val Linf norm: 667.279\n",
            "Epoch 129/143.. Train loss: 4.824.. Val loss: 4.812.. Train L1 norm: 2.037.. Val L1 norm: 2.006.. Train Linf norm: 761.803.. Val Linf norm: 667.279\n",
            "Epoch 130/143.. Train loss: 4.842.. Val loss: 4.812.. Train L1 norm: 2.022.. Val L1 norm: 2.006.. Train Linf norm: 703.283.. Val Linf norm: 667.279\n",
            "Epoch 131/143.. Train loss: 4.863.. Val loss: 4.812.. Train L1 norm: 2.062.. Val L1 norm: 2.006.. Train Linf norm: 853.220.. Val Linf norm: 667.279\n",
            "Epoch 132/143.. Train loss: 4.930.. Val loss: 4.812.. Train L1 norm: 2.075.. Val L1 norm: 2.006.. Train Linf norm: 812.140.. Val Linf norm: 667.279\n",
            "Epoch 133/143.. Train loss: 4.919.. Val loss: 4.812.. Train L1 norm: 2.035.. Val L1 norm: 2.006.. Train Linf norm: 720.060.. Val Linf norm: 667.279\n",
            "Epoch 134/143.. Train loss: 4.789.. Val loss: 4.812.. Train L1 norm: 2.002.. Val L1 norm: 2.006.. Train Linf norm: 761.945.. Val Linf norm: 667.279\n",
            "Epoch 135/143.. Train loss: 4.913.. Val loss: 4.812.. Train L1 norm: 2.057.. Val L1 norm: 2.006.. Train Linf norm: 755.829.. Val Linf norm: 667.279\n",
            "Epoch 136/143.. Train loss: 4.875.. Val loss: 4.812.. Train L1 norm: 2.021.. Val L1 norm: 2.006.. Train Linf norm: 700.176.. Val Linf norm: 667.279\n",
            "Epoch 137/143.. Train loss: 4.932.. Val loss: 4.812.. Train L1 norm: 2.061.. Val L1 norm: 2.006.. Train Linf norm: 751.504.. Val Linf norm: 667.279\n",
            "Epoch 138/143.. Train loss: 4.832.. Val loss: 4.812.. Train L1 norm: 2.062.. Val L1 norm: 2.006.. Train Linf norm: 790.849.. Val Linf norm: 667.279\n",
            "Epoch 139/143.. Train loss: 4.898.. Val loss: 4.812.. Train L1 norm: 2.064.. Val L1 norm: 2.006.. Train Linf norm: 840.793.. Val Linf norm: 667.279\n",
            "Epoch 140/143.. Train loss: 4.840.. Val loss: 4.812.. Train L1 norm: 2.025.. Val L1 norm: 2.006.. Train Linf norm: 695.675.. Val Linf norm: 667.279\n",
            "Epoch 141/143.. Train loss: 4.855.. Val loss: 4.812.. Train L1 norm: 2.040.. Val L1 norm: 2.006.. Train Linf norm: 814.937.. Val Linf norm: 667.279\n",
            "Epoch 142/143.. Train loss: 4.897.. Val loss: 4.812.. Train L1 norm: 2.043.. Val L1 norm: 2.006.. Train Linf norm: 767.907.. Val Linf norm: 667.279\n"
          ]
        },
        {
          "output_type": "stream",
          "name": "stderr",
          "text": [
            "[I 2023-05-31 20:52:30,048] Trial 9 finished with value: 2.0061343552271524 and parameters: {'batch_size': 2048, 'dropout_rate': 0.3298780933912033, 'gamma': 0.25894486684235374, 'hidden_activation': 'LeakyReLU', 'leakyrelu_slope': 0.22365354462572462, 'loss': 'MAE', 'lr': 0.00011770042237671485, 'n_epochs': 143, 'n_layers': 7, 'n_units_0': 2549, 'n_units_1': 731, 'n_units_2': 1885, 'n_units_3': 2666, 'n_units_4': 2017, 'n_units_5': 511, 'n_units_6': 2486, 'optimizer': 'Adagrad', 'output_activation': 'Linear', 'scheduler': 'StepLR', 'step_size': 9}. Best is trial 3 with value: 1.1057661293665568.\n"
          ]
        },
        {
          "output_type": "stream",
          "name": "stdout",
          "text": [
            "Epoch 143/143.. Train loss: 4.811.. Val loss: 4.812.. Train L1 norm: 2.048.. Val L1 norm: 2.006.. Train Linf norm: 785.570.. Val Linf norm: 667.279\n",
            "Epoch 1/50.. Train loss: 9313.810.. Val loss: 1180.350.. Train L1 norm: 3.590.. Val L1 norm: 1.747.. Train Linf norm: 114.901.. Val Linf norm: 39.487\n",
            "Epoch 2/50.. Train loss: 10074.944.. Val loss: 1066.863.. Train L1 norm: 3.960.. Val L1 norm: 1.709.. Train Linf norm: 138.682.. Val Linf norm: 37.726\n",
            "Epoch 3/50.. Train loss: 9625.336.. Val loss: 1064.061.. Train L1 norm: 3.888.. Val L1 norm: 1.709.. Train Linf norm: 132.971.. Val Linf norm: 37.666\n",
            "Epoch 4/50.. Train loss: 22372.979.. Val loss: 1096.468.. Train L1 norm: 3.753.. Val L1 norm: 1.721.. Train Linf norm: 123.452.. Val Linf norm: 38.237\n",
            "Epoch 5/50.. Train loss: 31614.336.. Val loss: 1048.417.. Train L1 norm: 3.950.. Val L1 norm: 1.704.. Train Linf norm: 137.536.. Val Linf norm: 37.449\n",
            "Epoch 6/50.. Train loss: 19583.619.. Val loss: 1078.863.. Train L1 norm: 3.746.. Val L1 norm: 1.714.. Train Linf norm: 123.885.. Val Linf norm: 37.942\n",
            "Epoch 7/50.. Train loss: 1683.901.. Val loss: 1080.573.. Train L1 norm: 3.683.. Val L1 norm: 1.715.. Train Linf norm: 119.365.. Val Linf norm: 37.964\n",
            "Epoch 8/50.. Train loss: 35829.576.. Val loss: 1083.600.. Train L1 norm: 3.868.. Val L1 norm: 1.716.. Train Linf norm: 131.121.. Val Linf norm: 38.013\n",
            "Epoch 9/50.. Train loss: 67959.628.. Val loss: 1092.620.. Train L1 norm: 4.389.. Val L1 norm: 1.719.. Train Linf norm: 164.520.. Val Linf norm: 38.156\n",
            "Epoch 10/50.. Train loss: 29059.279.. Val loss: 1091.552.. Train L1 norm: 3.878.. Val L1 norm: 1.718.. Train Linf norm: 133.249.. Val Linf norm: 38.128\n",
            "Epoch 11/50.. Train loss: 3846.278.. Val loss: 1089.937.. Train L1 norm: 3.494.. Val L1 norm: 1.718.. Train Linf norm: 104.941.. Val Linf norm: 38.100\n",
            "Epoch 12/50.. Train loss: 54561.277.. Val loss: 1096.097.. Train L1 norm: 3.811.. Val L1 norm: 1.720.. Train Linf norm: 127.808.. Val Linf norm: 38.190\n",
            "Epoch 13/50.. Train loss: 8906.348.. Val loss: 1095.676.. Train L1 norm: 4.229.. Val L1 norm: 1.719.. Train Linf norm: 155.287.. Val Linf norm: 38.184\n",
            "Epoch 14/50.. Train loss: 15633.646.. Val loss: 1095.546.. Train L1 norm: 3.799.. Val L1 norm: 1.719.. Train Linf norm: 127.006.. Val Linf norm: 38.183\n",
            "Epoch 15/50.. Train loss: 13588.885.. Val loss: 1095.678.. Train L1 norm: 3.852.. Val L1 norm: 1.719.. Train Linf norm: 130.124.. Val Linf norm: 38.185\n",
            "Epoch 16/50.. Train loss: 5329.989.. Val loss: 1095.573.. Train L1 norm: 3.423.. Val L1 norm: 1.719.. Train Linf norm: 103.633.. Val Linf norm: 38.183\n",
            "Epoch 17/50.. Train loss: 29461.248.. Val loss: 1095.615.. Train L1 norm: 3.745.. Val L1 norm: 1.719.. Train Linf norm: 124.229.. Val Linf norm: 38.184\n",
            "Epoch 18/50.. Train loss: 26315.149.. Val loss: 1095.638.. Train L1 norm: 3.644.. Val L1 norm: 1.719.. Train Linf norm: 117.638.. Val Linf norm: 38.185\n",
            "Epoch 19/50.. Train loss: 67611.302.. Val loss: 1095.621.. Train L1 norm: 4.615.. Val L1 norm: 1.719.. Train Linf norm: 181.033.. Val Linf norm: 38.184\n",
            "Epoch 20/50.. Train loss: 66320.149.. Val loss: 1095.648.. Train L1 norm: 4.059.. Val L1 norm: 1.719.. Train Linf norm: 145.186.. Val Linf norm: 38.185\n",
            "Epoch 21/50.. Train loss: 11442.073.. Val loss: 1095.642.. Train L1 norm: 3.825.. Val L1 norm: 1.719.. Train Linf norm: 128.596.. Val Linf norm: 38.185\n",
            "Epoch 22/50.. Train loss: 8366.028.. Val loss: 1095.607.. Train L1 norm: 3.410.. Val L1 norm: 1.719.. Train Linf norm: 99.378.. Val Linf norm: 38.185\n",
            "Epoch 23/50.. Train loss: 35696.205.. Val loss: 1095.658.. Train L1 norm: 3.715.. Val L1 norm: 1.719.. Train Linf norm: 123.565.. Val Linf norm: 38.185\n",
            "Epoch 24/50.. Train loss: 137375.748.. Val loss: 1095.565.. Train L1 norm: 4.186.. Val L1 norm: 1.719.. Train Linf norm: 151.466.. Val Linf norm: 38.184\n",
            "Epoch 25/50.. Train loss: 41744.542.. Val loss: 1095.572.. Train L1 norm: 3.771.. Val L1 norm: 1.719.. Train Linf norm: 127.459.. Val Linf norm: 38.184\n",
            "Epoch 26/50.. Train loss: 52412.041.. Val loss: 1095.580.. Train L1 norm: 4.127.. Val L1 norm: 1.719.. Train Linf norm: 148.413.. Val Linf norm: 38.184\n",
            "Epoch 27/50.. Train loss: 6211.693.. Val loss: 1095.581.. Train L1 norm: 3.544.. Val L1 norm: 1.719.. Train Linf norm: 111.859.. Val Linf norm: 38.184\n",
            "Epoch 28/50.. Train loss: 145253.008.. Val loss: 1095.591.. Train L1 norm: 3.963.. Val L1 norm: 1.719.. Train Linf norm: 139.007.. Val Linf norm: 38.184\n",
            "Epoch 29/50.. Train loss: 117346.382.. Val loss: 1095.599.. Train L1 norm: 4.222.. Val L1 norm: 1.719.. Train Linf norm: 155.255.. Val Linf norm: 38.184\n",
            "Epoch 30/50.. Train loss: 58966.771.. Val loss: 1095.606.. Train L1 norm: 3.797.. Val L1 norm: 1.719.. Train Linf norm: 128.095.. Val Linf norm: 38.185\n",
            "Epoch 31/50.. Train loss: 70352.515.. Val loss: 1095.606.. Train L1 norm: 3.632.. Val L1 norm: 1.719.. Train Linf norm: 117.358.. Val Linf norm: 38.185\n",
            "Epoch 32/50.. Train loss: 77031.126.. Val loss: 1095.606.. Train L1 norm: 4.183.. Val L1 norm: 1.719.. Train Linf norm: 152.314.. Val Linf norm: 38.185\n",
            "Epoch 33/50.. Train loss: 29792.850.. Val loss: 1095.606.. Train L1 norm: 3.694.. Val L1 norm: 1.719.. Train Linf norm: 121.885.. Val Linf norm: 38.185\n",
            "Epoch 34/50.. Train loss: 36782.823.. Val loss: 1095.606.. Train L1 norm: 3.765.. Val L1 norm: 1.719.. Train Linf norm: 124.109.. Val Linf norm: 38.185\n",
            "Epoch 35/50.. Train loss: 50574.730.. Val loss: 1095.606.. Train L1 norm: 3.861.. Val L1 norm: 1.719.. Train Linf norm: 132.100.. Val Linf norm: 38.185\n",
            "Epoch 36/50.. Train loss: 29922.043.. Val loss: 1095.606.. Train L1 norm: 3.670.. Val L1 norm: 1.719.. Train Linf norm: 118.720.. Val Linf norm: 38.185\n",
            "Epoch 37/50.. Train loss: 47469.326.. Val loss: 1095.606.. Train L1 norm: 4.191.. Val L1 norm: 1.719.. Train Linf norm: 150.581.. Val Linf norm: 38.185\n",
            "Epoch 38/50.. Train loss: 18601.523.. Val loss: 1095.606.. Train L1 norm: 3.761.. Val L1 norm: 1.719.. Train Linf norm: 124.422.. Val Linf norm: 38.185\n",
            "Epoch 39/50.. Train loss: 100698.277.. Val loss: 1095.606.. Train L1 norm: 4.108.. Val L1 norm: 1.719.. Train Linf norm: 146.052.. Val Linf norm: 38.185\n",
            "Epoch 40/50.. Train loss: 55166.226.. Val loss: 1095.606.. Train L1 norm: 3.759.. Val L1 norm: 1.719.. Train Linf norm: 124.834.. Val Linf norm: 38.185\n",
            "Epoch 41/50.. Train loss: 15699.182.. Val loss: 1095.606.. Train L1 norm: 3.731.. Val L1 norm: 1.719.. Train Linf norm: 122.855.. Val Linf norm: 38.185\n",
            "Epoch 42/50.. Train loss: 47038.670.. Val loss: 1095.606.. Train L1 norm: 3.738.. Val L1 norm: 1.719.. Train Linf norm: 123.454.. Val Linf norm: 38.185\n",
            "Epoch 43/50.. Train loss: 44857.968.. Val loss: 1095.606.. Train L1 norm: 3.754.. Val L1 norm: 1.719.. Train Linf norm: 125.955.. Val Linf norm: 38.185\n",
            "Epoch 44/50.. Train loss: 15807.733.. Val loss: 1095.606.. Train L1 norm: 3.797.. Val L1 norm: 1.719.. Train Linf norm: 126.779.. Val Linf norm: 38.185\n",
            "Epoch 45/50.. Train loss: 39733.311.. Val loss: 1095.606.. Train L1 norm: 3.957.. Val L1 norm: 1.719.. Train Linf norm: 136.143.. Val Linf norm: 38.185\n",
            "Epoch 46/50.. Train loss: 24451.314.. Val loss: 1095.606.. Train L1 norm: 3.737.. Val L1 norm: 1.719.. Train Linf norm: 124.075.. Val Linf norm: 38.185\n",
            "Epoch 47/50.. Train loss: 68377.020.. Val loss: 1095.606.. Train L1 norm: 3.828.. Val L1 norm: 1.719.. Train Linf norm: 130.599.. Val Linf norm: 38.185\n",
            "Epoch 48/50.. Train loss: 18501.303.. Val loss: 1095.606.. Train L1 norm: 3.846.. Val L1 norm: 1.719.. Train Linf norm: 129.747.. Val Linf norm: 38.185\n",
            "Epoch 49/50.. Train loss: 48644.314.. Val loss: 1095.606.. Train L1 norm: 3.672.. Val L1 norm: 1.719.. Train Linf norm: 117.050.. Val Linf norm: 38.185\n"
          ]
        },
        {
          "output_type": "stream",
          "name": "stderr",
          "text": [
            "[I 2023-05-31 20:55:04,074] Trial 10 finished with value: 1.7194125947316488 and parameters: {'batch_size': 64, 'dropout_rate': 0.46342107971060237, 'gamma': 0.12552909662812797, 'hidden_activation': 'ReLU', 'loss': 'MSE', 'lr': 1.0545772775010261e-05, 'n_epochs': 50, 'n_layers': 2, 'n_units_0': 45, 'n_units_1': 3982, 'optimizer': 'Adagrad', 'output_activation': 'Linear', 'scheduler': 'StepLR', 'step_size': 6}. Best is trial 3 with value: 1.1057661293665568.\n"
          ]
        },
        {
          "output_type": "stream",
          "name": "stdout",
          "text": [
            "Epoch 50/50.. Train loss: 205054.957.. Val loss: 1095.606.. Train L1 norm: 3.742.. Val L1 norm: 1.719.. Train Linf norm: 122.631.. Val Linf norm: 38.185\n",
            "Epoch 1/54.. Train loss: 31380.485.. Val loss: 114.685.. Train L1 norm: 3.597.. Val L1 norm: 1.745.. Train Linf norm: 114.712.. Val Linf norm: 43.963\n",
            "Epoch 2/54.. Train loss: 13090.633.. Val loss: 133.768.. Train L1 norm: 4.637.. Val L1 norm: 1.786.. Train Linf norm: 182.830.. Val Linf norm: 46.155\n",
            "Epoch 3/54.. Train loss: 52049.764.. Val loss: 157.690.. Train L1 norm: 3.976.. Val L1 norm: 1.821.. Train Linf norm: 141.035.. Val Linf norm: 47.973\n",
            "Epoch 4/54.. Train loss: 26384.156.. Val loss: 174.900.. Train L1 norm: 3.780.. Val L1 norm: 1.845.. Train Linf norm: 128.476.. Val Linf norm: 49.144\n",
            "Epoch 5/54.. Train loss: 23196.363.. Val loss: 174.894.. Train L1 norm: 3.844.. Val L1 norm: 1.852.. Train Linf norm: 130.863.. Val Linf norm: 49.516\n",
            "Epoch 6/54.. Train loss: 17787.185.. Val loss: 173.616.. Train L1 norm: 3.921.. Val L1 norm: 1.850.. Train Linf norm: 137.373.. Val Linf norm: 49.432\n",
            "Epoch 7/54.. Train loss: 174949.811.. Val loss: 176.265.. Train L1 norm: 3.654.. Val L1 norm: 1.853.. Train Linf norm: 121.612.. Val Linf norm: 49.598\n",
            "Epoch 8/54.. Train loss: 3255.628.. Val loss: 176.215.. Train L1 norm: 3.446.. Val L1 norm: 1.853.. Train Linf norm: 106.801.. Val Linf norm: 49.599\n",
            "Epoch 9/54.. Train loss: 49401.390.. Val loss: 175.762.. Train L1 norm: 3.705.. Val L1 norm: 1.853.. Train Linf norm: 124.538.. Val Linf norm: 49.577\n",
            "Epoch 10/54.. Train loss: 9653.486.. Val loss: 175.406.. Train L1 norm: 3.812.. Val L1 norm: 1.852.. Train Linf norm: 128.506.. Val Linf norm: 49.552\n",
            "Epoch 11/54.. Train loss: 31038.196.. Val loss: 175.288.. Train L1 norm: 3.938.. Val L1 norm: 1.852.. Train Linf norm: 137.751.. Val Linf norm: 49.544\n",
            "Epoch 12/54.. Train loss: 60539.104.. Val loss: 175.423.. Train L1 norm: 3.628.. Val L1 norm: 1.852.. Train Linf norm: 118.256.. Val Linf norm: 49.553\n",
            "Epoch 13/54.. Train loss: 13248.891.. Val loss: 175.415.. Train L1 norm: 3.688.. Val L1 norm: 1.852.. Train Linf norm: 122.253.. Val Linf norm: 49.554\n",
            "Epoch 14/54.. Train loss: 67709.963.. Val loss: 175.508.. Train L1 norm: 3.985.. Val L1 norm: 1.853.. Train Linf norm: 140.655.. Val Linf norm: 49.557\n",
            "Epoch 15/54.. Train loss: 29620.709.. Val loss: 175.538.. Train L1 norm: 3.773.. Val L1 norm: 1.853.. Train Linf norm: 127.637.. Val Linf norm: 49.559\n",
            "Epoch 16/54.. Train loss: 8311.693.. Val loss: 175.542.. Train L1 norm: 3.916.. Val L1 norm: 1.853.. Train Linf norm: 136.191.. Val Linf norm: 49.559\n",
            "Epoch 17/54.. Train loss: 18251.272.. Val loss: 175.536.. Train L1 norm: 3.954.. Val L1 norm: 1.853.. Train Linf norm: 139.555.. Val Linf norm: 49.559\n",
            "Epoch 18/54.. Train loss: 7181.201.. Val loss: 175.531.. Train L1 norm: 3.675.. Val L1 norm: 1.853.. Train Linf norm: 122.671.. Val Linf norm: 49.558\n",
            "Epoch 19/54.. Train loss: 34007.255.. Val loss: 175.539.. Train L1 norm: 4.155.. Val L1 norm: 1.853.. Train Linf norm: 151.203.. Val Linf norm: 49.559\n",
            "Epoch 20/54.. Train loss: 19402.799.. Val loss: 175.542.. Train L1 norm: 3.748.. Val L1 norm: 1.853.. Train Linf norm: 124.662.. Val Linf norm: 49.559\n",
            "Epoch 21/54.. Train loss: 26566.405.. Val loss: 175.543.. Train L1 norm: 4.149.. Val L1 norm: 1.853.. Train Linf norm: 151.626.. Val Linf norm: 49.559\n",
            "Epoch 22/54.. Train loss: 13593.006.. Val loss: 175.542.. Train L1 norm: 3.891.. Val L1 norm: 1.853.. Train Linf norm: 136.501.. Val Linf norm: 49.559\n",
            "Epoch 23/54.. Train loss: 10416.792.. Val loss: 175.542.. Train L1 norm: 3.563.. Val L1 norm: 1.853.. Train Linf norm: 113.295.. Val Linf norm: 49.559\n",
            "Epoch 24/54.. Train loss: 59532.282.. Val loss: 175.543.. Train L1 norm: 3.885.. Val L1 norm: 1.853.. Train Linf norm: 135.379.. Val Linf norm: 49.559\n",
            "Epoch 25/54.. Train loss: 53393.791.. Val loss: 175.542.. Train L1 norm: 4.058.. Val L1 norm: 1.853.. Train Linf norm: 147.039.. Val Linf norm: 49.559\n",
            "Epoch 26/54.. Train loss: 16041.812.. Val loss: 175.542.. Train L1 norm: 3.813.. Val L1 norm: 1.853.. Train Linf norm: 129.408.. Val Linf norm: 49.559\n",
            "Epoch 27/54.. Train loss: 17344.174.. Val loss: 175.542.. Train L1 norm: 3.872.. Val L1 norm: 1.853.. Train Linf norm: 134.974.. Val Linf norm: 49.559\n",
            "Epoch 28/54.. Train loss: 5301.843.. Val loss: 175.542.. Train L1 norm: 3.606.. Val L1 norm: 1.853.. Train Linf norm: 115.804.. Val Linf norm: 49.559\n",
            "Epoch 29/54.. Train loss: 10907.724.. Val loss: 175.542.. Train L1 norm: 3.555.. Val L1 norm: 1.853.. Train Linf norm: 113.745.. Val Linf norm: 49.559\n",
            "Epoch 30/54.. Train loss: 14744.414.. Val loss: 175.542.. Train L1 norm: 3.504.. Val L1 norm: 1.853.. Train Linf norm: 111.960.. Val Linf norm: 49.559\n",
            "Epoch 31/54.. Train loss: 33456.753.. Val loss: 175.542.. Train L1 norm: 3.751.. Val L1 norm: 1.853.. Train Linf norm: 127.371.. Val Linf norm: 49.559\n",
            "Epoch 32/54.. Train loss: 44457.781.. Val loss: 175.542.. Train L1 norm: 3.436.. Val L1 norm: 1.853.. Train Linf norm: 105.917.. Val Linf norm: 49.559\n",
            "Epoch 33/54.. Train loss: 14843.271.. Val loss: 175.542.. Train L1 norm: 3.591.. Val L1 norm: 1.853.. Train Linf norm: 117.324.. Val Linf norm: 49.559\n",
            "Epoch 34/54.. Train loss: 10116.528.. Val loss: 175.542.. Train L1 norm: 3.940.. Val L1 norm: 1.853.. Train Linf norm: 136.953.. Val Linf norm: 49.559\n",
            "Epoch 35/54.. Train loss: 24182.721.. Val loss: 175.542.. Train L1 norm: 3.733.. Val L1 norm: 1.853.. Train Linf norm: 124.660.. Val Linf norm: 49.559\n",
            "Epoch 36/54.. Train loss: 195604.764.. Val loss: 175.542.. Train L1 norm: 3.595.. Val L1 norm: 1.853.. Train Linf norm: 116.929.. Val Linf norm: 49.559\n",
            "Epoch 37/54.. Train loss: 13670.332.. Val loss: 175.542.. Train L1 norm: 3.482.. Val L1 norm: 1.853.. Train Linf norm: 110.157.. Val Linf norm: 49.559\n",
            "Epoch 38/54.. Train loss: 20833.262.. Val loss: 175.542.. Train L1 norm: 4.553.. Val L1 norm: 1.853.. Train Linf norm: 177.810.. Val Linf norm: 49.559\n",
            "Epoch 39/54.. Train loss: 52055.879.. Val loss: 175.542.. Train L1 norm: 3.903.. Val L1 norm: 1.853.. Train Linf norm: 134.666.. Val Linf norm: 49.559\n",
            "Epoch 40/54.. Train loss: 18497.156.. Val loss: 175.542.. Train L1 norm: 3.741.. Val L1 norm: 1.853.. Train Linf norm: 124.145.. Val Linf norm: 49.559\n",
            "Epoch 41/54.. Train loss: 62146.854.. Val loss: 175.542.. Train L1 norm: 3.641.. Val L1 norm: 1.853.. Train Linf norm: 119.504.. Val Linf norm: 49.559\n",
            "Epoch 42/54.. Train loss: 19775.644.. Val loss: 175.542.. Train L1 norm: 3.997.. Val L1 norm: 1.853.. Train Linf norm: 141.732.. Val Linf norm: 49.559\n",
            "Epoch 43/54.. Train loss: 37314.260.. Val loss: 175.542.. Train L1 norm: 4.250.. Val L1 norm: 1.853.. Train Linf norm: 156.375.. Val Linf norm: 49.559\n",
            "Epoch 44/54.. Train loss: 30656.666.. Val loss: 175.542.. Train L1 norm: 4.046.. Val L1 norm: 1.853.. Train Linf norm: 145.480.. Val Linf norm: 49.559\n",
            "Epoch 45/54.. Train loss: 9212.466.. Val loss: 175.542.. Train L1 norm: 3.432.. Val L1 norm: 1.853.. Train Linf norm: 106.762.. Val Linf norm: 49.559\n",
            "Epoch 46/54.. Train loss: 16455.445.. Val loss: 175.542.. Train L1 norm: 3.844.. Val L1 norm: 1.853.. Train Linf norm: 130.536.. Val Linf norm: 49.559\n",
            "Epoch 47/54.. Train loss: 77295.431.. Val loss: 175.542.. Train L1 norm: 3.743.. Val L1 norm: 1.853.. Train Linf norm: 125.646.. Val Linf norm: 49.559\n",
            "Epoch 48/54.. Train loss: 13441.587.. Val loss: 175.542.. Train L1 norm: 3.696.. Val L1 norm: 1.853.. Train Linf norm: 122.817.. Val Linf norm: 49.559\n",
            "Epoch 49/54.. Train loss: 41529.879.. Val loss: 175.542.. Train L1 norm: 3.595.. Val L1 norm: 1.853.. Train Linf norm: 117.107.. Val Linf norm: 49.559\n",
            "Epoch 50/54.. Train loss: 10342.777.. Val loss: 175.542.. Train L1 norm: 3.649.. Val L1 norm: 1.853.. Train Linf norm: 120.590.. Val Linf norm: 49.559\n",
            "Epoch 51/54.. Train loss: 24243.120.. Val loss: 175.542.. Train L1 norm: 3.656.. Val L1 norm: 1.853.. Train Linf norm: 118.681.. Val Linf norm: 49.559\n",
            "Epoch 52/54.. Train loss: 7514.227.. Val loss: 175.542.. Train L1 norm: 4.021.. Val L1 norm: 1.853.. Train Linf norm: 142.157.. Val Linf norm: 49.559\n",
            "Epoch 53/54.. Train loss: 29553.536.. Val loss: 175.542.. Train L1 norm: 3.771.. Val L1 norm: 1.853.. Train Linf norm: 127.446.. Val Linf norm: 49.559\n"
          ]
        },
        {
          "output_type": "stream",
          "name": "stderr",
          "text": [
            "[I 2023-05-31 20:57:50,551] Trial 11 finished with value: 1.8525487716674804 and parameters: {'batch_size': 64, 'dropout_rate': 0.4819797829726896, 'gamma': 0.10009353960361203, 'hidden_activation': 'ReLU', 'loss': 'MSE', 'lr': 1.6439376207959794e-05, 'n_epochs': 54, 'n_layers': 2, 'n_units_0': 56, 'n_units_1': 3599, 'optimizer': 'Adagrad', 'output_activation': 'Linear', 'scheduler': 'StepLR', 'step_size': 5}. Best is trial 3 with value: 1.1057661293665568.\n"
          ]
        },
        {
          "output_type": "stream",
          "name": "stdout",
          "text": [
            "Epoch 54/54.. Train loss: 17829.815.. Val loss: 175.542.. Train L1 norm: 3.851.. Val L1 norm: 1.853.. Train Linf norm: 132.695.. Val Linf norm: 49.559\n",
            "Epoch 1/54.. Train loss: 31020.149.. Val loss: 66.903.. Train L1 norm: 3.590.. Val L1 norm: 1.264.. Train Linf norm: 205.218.. Val Linf norm: 27.267\n",
            "Epoch 2/54.. Train loss: 11936.784.. Val loss: 366.388.. Train L1 norm: 3.499.. Val L1 norm: 1.848.. Train Linf norm: 206.354.. Val Linf norm: 77.293\n",
            "Epoch 3/54.. Train loss: 28534.925.. Val loss: 526.958.. Train L1 norm: 3.587.. Val L1 norm: 2.030.. Train Linf norm: 216.753.. Val Linf norm: 92.331\n",
            "Epoch 4/54.. Train loss: 9927.983.. Val loss: 1223.915.. Train L1 norm: 3.586.. Val L1 norm: 2.736.. Train Linf norm: 212.828.. Val Linf norm: 147.926\n",
            "Epoch 5/54.. Train loss: 30499.765.. Val loss: 814.789.. Train L1 norm: 3.729.. Val L1 norm: 2.343.. Train Linf norm: 232.120.. Val Linf norm: 117.208\n",
            "Epoch 6/54.. Train loss: 8553.638.. Val loss: 601.954.. Train L1 norm: 3.584.. Val L1 norm: 2.119.. Train Linf norm: 216.346.. Val Linf norm: 99.609\n",
            "Epoch 7/54.. Train loss: 59796.885.. Val loss: 385.364.. Train L1 norm: 3.465.. Val L1 norm: 1.870.. Train Linf norm: 199.615.. Val Linf norm: 79.150\n",
            "Epoch 8/54.. Train loss: 26505.227.. Val loss: 398.772.. Train L1 norm: 3.600.. Val L1 norm: 1.894.. Train Linf norm: 220.893.. Val Linf norm: 81.184\n",
            "Epoch 9/54.. Train loss: 70288.114.. Val loss: 635.689.. Train L1 norm: 3.618.. Val L1 norm: 2.206.. Train Linf norm: 223.616.. Val Linf norm: 106.866\n",
            "Epoch 10/54.. Train loss: 25628.852.. Val loss: 1019.451.. Train L1 norm: 3.427.. Val L1 norm: 2.605.. Train Linf norm: 197.779.. Val Linf norm: 138.155\n",
            "Epoch 11/54.. Train loss: 25824.880.. Val loss: 1044.071.. Train L1 norm: 3.566.. Val L1 norm: 2.629.. Train Linf norm: 212.559.. Val Linf norm: 140.012\n",
            "Epoch 12/54.. Train loss: 13313.772.. Val loss: 1017.091.. Train L1 norm: 3.404.. Val L1 norm: 2.603.. Train Linf norm: 192.637.. Val Linf norm: 138.040\n",
            "Epoch 13/54.. Train loss: 21359.887.. Val loss: 1032.416.. Train L1 norm: 3.449.. Val L1 norm: 2.618.. Train Linf norm: 196.229.. Val Linf norm: 139.251\n",
            "Epoch 14/54.. Train loss: 27680.704.. Val loss: 1023.345.. Train L1 norm: 3.265.. Val L1 norm: 2.609.. Train Linf norm: 172.801.. Val Linf norm: 138.512\n",
            "Epoch 15/54.. Train loss: 22414.790.. Val loss: 1014.621.. Train L1 norm: 3.443.. Val L1 norm: 2.599.. Train Linf norm: 196.059.. Val Linf norm: 137.753\n",
            "Epoch 16/54.. Train loss: 18774.748.. Val loss: 997.441.. Train L1 norm: 3.692.. Val L1 norm: 2.584.. Train Linf norm: 230.016.. Val Linf norm: 136.616\n",
            "Epoch 17/54.. Train loss: 135661.602.. Val loss: 976.800.. Train L1 norm: 3.676.. Val L1 norm: 2.564.. Train Linf norm: 220.132.. Val Linf norm: 135.036\n",
            "Epoch 18/54.. Train loss: 23022.825.. Val loss: 986.695.. Train L1 norm: 3.138.. Val L1 norm: 2.574.. Train Linf norm: 160.994.. Val Linf norm: 135.841\n",
            "Epoch 19/54.. Train loss: 19435.339.. Val loss: 969.584.. Train L1 norm: 3.362.. Val L1 norm: 2.558.. Train Linf norm: 181.695.. Val Linf norm: 134.561\n",
            "Epoch 20/54.. Train loss: 44665.506.. Val loss: 941.905.. Train L1 norm: 3.786.. Val L1 norm: 2.531.. Train Linf norm: 240.668.. Val Linf norm: 132.438\n",
            "Epoch 21/54.. Train loss: 52352.792.. Val loss: 943.938.. Train L1 norm: 3.335.. Val L1 norm: 2.533.. Train Linf norm: 184.995.. Val Linf norm: 132.599\n",
            "Epoch 22/54.. Train loss: 54921.620.. Val loss: 945.361.. Train L1 norm: 3.445.. Val L1 norm: 2.534.. Train Linf norm: 200.031.. Val Linf norm: 132.709\n",
            "Epoch 23/54.. Train loss: 10792.947.. Val loss: 944.543.. Train L1 norm: 3.524.. Val L1 norm: 2.533.. Train Linf norm: 208.183.. Val Linf norm: 132.649\n",
            "Epoch 24/54.. Train loss: 11901.938.. Val loss: 943.961.. Train L1 norm: 3.699.. Val L1 norm: 2.533.. Train Linf norm: 226.753.. Val Linf norm: 132.609\n",
            "Epoch 25/54.. Train loss: 9800.674.. Val loss: 943.203.. Train L1 norm: 3.428.. Val L1 norm: 2.532.. Train Linf norm: 198.842.. Val Linf norm: 132.548\n",
            "Epoch 26/54.. Train loss: 9764.202.. Val loss: 943.247.. Train L1 norm: 3.673.. Val L1 norm: 2.532.. Train Linf norm: 218.756.. Val Linf norm: 132.546\n",
            "Epoch 27/54.. Train loss: 37911.119.. Val loss: 944.628.. Train L1 norm: 3.346.. Val L1 norm: 2.533.. Train Linf norm: 187.193.. Val Linf norm: 132.651\n",
            "Epoch 28/54.. Train loss: 41575.803.. Val loss: 942.607.. Train L1 norm: 3.417.. Val L1 norm: 2.531.. Train Linf norm: 194.165.. Val Linf norm: 132.488\n",
            "Epoch 29/54.. Train loss: 23942.874.. Val loss: 944.479.. Train L1 norm: 3.730.. Val L1 norm: 2.533.. Train Linf norm: 237.438.. Val Linf norm: 132.629\n",
            "Epoch 30/54.. Train loss: 1498.347.. Val loss: 944.485.. Train L1 norm: 3.064.. Val L1 norm: 2.533.. Train Linf norm: 150.145.. Val Linf norm: 132.629\n",
            "Epoch 31/54.. Train loss: 22466.933.. Val loss: 944.607.. Train L1 norm: 3.858.. Val L1 norm: 2.533.. Train Linf norm: 248.183.. Val Linf norm: 132.638\n",
            "Epoch 32/54.. Train loss: 55797.655.. Val loss: 944.360.. Train L1 norm: 3.406.. Val L1 norm: 2.533.. Train Linf norm: 192.245.. Val Linf norm: 132.620\n",
            "Epoch 33/54.. Train loss: 39813.396.. Val loss: 944.493.. Train L1 norm: 3.655.. Val L1 norm: 2.533.. Train Linf norm: 224.796.. Val Linf norm: 132.630\n",
            "Epoch 34/54.. Train loss: 111601.399.. Val loss: 944.530.. Train L1 norm: 3.543.. Val L1 norm: 2.533.. Train Linf norm: 207.108.. Val Linf norm: 132.633\n",
            "Epoch 35/54.. Train loss: 144313.182.. Val loss: 944.344.. Train L1 norm: 3.931.. Val L1 norm: 2.533.. Train Linf norm: 252.913.. Val Linf norm: 132.619\n",
            "Epoch 36/54.. Train loss: 28406.467.. Val loss: 944.251.. Train L1 norm: 3.796.. Val L1 norm: 2.533.. Train Linf norm: 239.583.. Val Linf norm: 132.612\n",
            "Epoch 37/54.. Train loss: 29954.891.. Val loss: 944.390.. Train L1 norm: 3.507.. Val L1 norm: 2.533.. Train Linf norm: 203.884.. Val Linf norm: 132.623\n",
            "Epoch 38/54.. Train loss: 50112.645.. Val loss: 944.575.. Train L1 norm: 3.624.. Val L1 norm: 2.533.. Train Linf norm: 218.560.. Val Linf norm: 132.637\n",
            "Epoch 39/54.. Train loss: 14040.552.. Val loss: 944.648.. Train L1 norm: 3.474.. Val L1 norm: 2.533.. Train Linf norm: 202.543.. Val Linf norm: 132.643\n",
            "Epoch 40/54.. Train loss: 110882.878.. Val loss: 944.456.. Train L1 norm: 3.842.. Val L1 norm: 2.533.. Train Linf norm: 240.090.. Val Linf norm: 132.628\n",
            "Epoch 41/54.. Train loss: 21835.168.. Val loss: 944.449.. Train L1 norm: 3.418.. Val L1 norm: 2.533.. Train Linf norm: 195.176.. Val Linf norm: 132.627\n",
            "Epoch 42/54.. Train loss: 86511.243.. Val loss: 944.464.. Train L1 norm: 3.755.. Val L1 norm: 2.533.. Train Linf norm: 238.574.. Val Linf norm: 132.628\n",
            "Epoch 43/54.. Train loss: 24537.827.. Val loss: 944.454.. Train L1 norm: 3.882.. Val L1 norm: 2.533.. Train Linf norm: 254.089.. Val Linf norm: 132.628\n",
            "Epoch 44/54.. Train loss: 60087.252.. Val loss: 944.440.. Train L1 norm: 3.433.. Val L1 norm: 2.533.. Train Linf norm: 193.753.. Val Linf norm: 132.627\n",
            "Epoch 45/54.. Train loss: 12680.166.. Val loss: 944.443.. Train L1 norm: 3.529.. Val L1 norm: 2.533.. Train Linf norm: 203.677.. Val Linf norm: 132.627\n",
            "Epoch 46/54.. Train loss: 7593.666.. Val loss: 944.440.. Train L1 norm: 3.750.. Val L1 norm: 2.533.. Train Linf norm: 233.923.. Val Linf norm: 132.627\n",
            "Epoch 47/54.. Train loss: 29678.011.. Val loss: 944.440.. Train L1 norm: 3.242.. Val L1 norm: 2.533.. Train Linf norm: 172.529.. Val Linf norm: 132.627\n",
            "Epoch 48/54.. Train loss: 68141.456.. Val loss: 944.428.. Train L1 norm: 3.677.. Val L1 norm: 2.533.. Train Linf norm: 226.699.. Val Linf norm: 132.626\n",
            "Epoch 49/54.. Train loss: 56118.073.. Val loss: 944.416.. Train L1 norm: 3.875.. Val L1 norm: 2.533.. Train Linf norm: 252.857.. Val Linf norm: 132.625\n",
            "Epoch 50/54.. Train loss: 38631.113.. Val loss: 944.411.. Train L1 norm: 3.820.. Val L1 norm: 2.533.. Train Linf norm: 245.102.. Val Linf norm: 132.625\n",
            "Epoch 51/54.. Train loss: 46719.488.. Val loss: 944.411.. Train L1 norm: 3.257.. Val L1 norm: 2.533.. Train Linf norm: 170.937.. Val Linf norm: 132.625\n",
            "Epoch 52/54.. Train loss: 102422.612.. Val loss: 944.411.. Train L1 norm: 3.899.. Val L1 norm: 2.533.. Train Linf norm: 253.291.. Val Linf norm: 132.625\n",
            "Epoch 53/54.. Train loss: 95381.541.. Val loss: 944.411.. Train L1 norm: 3.453.. Val L1 norm: 2.533.. Train Linf norm: 195.643.. Val Linf norm: 132.624\n"
          ]
        },
        {
          "output_type": "stream",
          "name": "stderr",
          "text": [
            "[I 2023-05-31 21:01:08,157] Trial 12 finished with value: 2.5330302649180094 and parameters: {'batch_size': 128, 'dropout_rate': 0.4736757485515602, 'gamma': 0.10256409827231433, 'hidden_activation': 'ReLU', 'loss': 'MSE', 'lr': 1.1167582899662068e-05, 'n_epochs': 54, 'n_layers': 3, 'n_units_0': 115, 'n_units_1': 2533, 'n_units_2': 3814, 'optimizer': 'Adagrad', 'output_activation': 'Linear', 'scheduler': 'StepLR', 'step_size': 10}. Best is trial 3 with value: 1.1057661293665568.\n"
          ]
        },
        {
          "output_type": "stream",
          "name": "stdout",
          "text": [
            "Epoch 54/54.. Train loss: 60412.623.. Val loss: 944.411.. Train L1 norm: 3.233.. Val L1 norm: 2.533.. Train Linf norm: 171.068.. Val Linf norm: 132.624\n"
          ]
        },
        {
          "output_type": "stream",
          "name": "stderr",
          "text": [
            "<ipython-input-78-5ce9a06c2c29>:73: FutureWarning: suggest_uniform has been deprecated in v3.0.0. This feature will be removed in v6.0.0. See https://github.com/optuna/optuna/releases/tag/v3.0.0. Use suggest_float instead.\n",
            "  beta = trial.suggest_uniform(\"softplus_beta\", 0.5, 1.5)\n",
            "[I 2023-05-31 21:01:18,150] Trial 13 pruned. \n"
          ]
        },
        {
          "output_type": "stream",
          "name": "stdout",
          "text": [
            "Epoch 1/73.. Train loss: 2894.878.. Val loss: 75.613.. Train L1 norm: 3.137.. Val L1 norm: 3.686.. Train Linf norm: 100.285.. Val Linf norm: 134.625\n",
            "Epoch 1/70.. Train loss: 6437.474.. Val loss: 88.713.. Train L1 norm: 3.093.. Val L1 norm: 1.870.. Train Linf norm: 104.948.. Val Linf norm: 45.977\n",
            "Epoch 2/70.. Train loss: 4115.550.. Val loss: 155.432.. Train L1 norm: 2.786.. Val L1 norm: 1.848.. Train Linf norm: 89.735.. Val Linf norm: 44.054\n",
            "Epoch 3/70.. Train loss: 1657.949.. Val loss: 144.462.. Train L1 norm: 2.384.. Val L1 norm: 1.848.. Train Linf norm: 66.792.. Val Linf norm: 44.233\n",
            "Epoch 4/70.. Train loss: 8319.904.. Val loss: 898.932.. Train L1 norm: 2.351.. Val L1 norm: 2.176.. Train Linf norm: 67.765.. Val Linf norm: 54.100\n",
            "Epoch 5/70.. Train loss: 944.180.. Val loss: 813.142.. Train L1 norm: 2.448.. Val L1 norm: 2.129.. Train Linf norm: 73.434.. Val Linf norm: 52.350\n",
            "Epoch 6/70.. Train loss: 14923.863.. Val loss: 1133.592.. Train L1 norm: 2.270.. Val L1 norm: 2.386.. Train Linf norm: 63.061.. Val Linf norm: 63.855\n",
            "Epoch 7/70.. Train loss: 3464.354.. Val loss: 2973.702.. Train L1 norm: 2.447.. Val L1 norm: 3.360.. Train Linf norm: 75.076.. Val Linf norm: 108.994\n",
            "Epoch 8/70.. Train loss: 3724.003.. Val loss: 3059.114.. Train L1 norm: 2.347.. Val L1 norm: 3.440.. Train Linf norm: 63.194.. Val Linf norm: 112.760\n",
            "Epoch 9/70.. Train loss: 2555.421.. Val loss: 2744.646.. Train L1 norm: 2.304.. Val L1 norm: 3.273.. Train Linf norm: 62.522.. Val Linf norm: 105.104\n",
            "Epoch 10/70.. Train loss: 5647.252.. Val loss: 2589.807.. Train L1 norm: 2.577.. Val L1 norm: 3.210.. Train Linf norm: 81.015.. Val Linf norm: 102.178\n",
            "Epoch 11/70.. Train loss: 4440.221.. Val loss: 2770.229.. Train L1 norm: 2.249.. Val L1 norm: 3.298.. Train Linf norm: 58.751.. Val Linf norm: 106.279\n",
            "Epoch 12/70.. Train loss: 7548.419.. Val loss: 2361.020.. Train L1 norm: 2.221.. Val L1 norm: 3.074.. Train Linf norm: 58.338.. Val Linf norm: 95.940\n",
            "Epoch 13/70.. Train loss: 2332.715.. Val loss: 2235.929.. Train L1 norm: 2.327.. Val L1 norm: 3.027.. Train Linf norm: 65.531.. Val Linf norm: 93.759\n",
            "Epoch 14/70.. Train loss: 756.295.. Val loss: 2178.824.. Train L1 norm: 2.265.. Val L1 norm: 2.994.. Train Linf norm: 61.316.. Val Linf norm: 92.167\n",
            "Epoch 15/70.. Train loss: 2082.615.. Val loss: 2110.514.. Train L1 norm: 2.310.. Val L1 norm: 2.948.. Train Linf norm: 63.832.. Val Linf norm: 89.935\n",
            "Epoch 16/70.. Train loss: 14912.934.. Val loss: 2219.218.. Train L1 norm: 2.377.. Val L1 norm: 3.012.. Train Linf norm: 68.774.. Val Linf norm: 93.008\n",
            "Epoch 17/70.. Train loss: 2110.080.. Val loss: 2209.970.. Train L1 norm: 2.347.. Val L1 norm: 3.009.. Train Linf norm: 66.323.. Val Linf norm: 92.884\n",
            "Epoch 18/70.. Train loss: 6880.914.. Val loss: 2277.707.. Train L1 norm: 2.353.. Val L1 norm: 3.042.. Train Linf norm: 68.041.. Val Linf norm: 94.416\n",
            "Epoch 19/70.. Train loss: 8019.894.. Val loss: 2207.869.. Train L1 norm: 2.280.. Val L1 norm: 3.006.. Train Linf norm: 61.827.. Val Linf norm: 92.731\n",
            "Epoch 20/70.. Train loss: 1014.208.. Val loss: 2195.104.. Train L1 norm: 2.308.. Val L1 norm: 3.001.. Train Linf norm: 63.568.. Val Linf norm: 92.472\n",
            "Epoch 21/70.. Train loss: 3690.268.. Val loss: 2147.492.. Train L1 norm: 2.143.. Val L1 norm: 2.974.. Train Linf norm: 54.466.. Val Linf norm: 91.202\n",
            "Epoch 22/70.. Train loss: 1273.890.. Val loss: 2142.431.. Train L1 norm: 2.327.. Val L1 norm: 2.971.. Train Linf norm: 65.769.. Val Linf norm: 91.049\n",
            "Epoch 23/70.. Train loss: 3751.897.. Val loss: 2086.928.. Train L1 norm: 2.361.. Val L1 norm: 2.941.. Train Linf norm: 66.751.. Val Linf norm: 89.661\n",
            "Epoch 24/70.. Train loss: 1068.446.. Val loss: 2055.768.. Train L1 norm: 2.524.. Val L1 norm: 2.925.. Train Linf norm: 77.994.. Val Linf norm: 88.931\n",
            "Epoch 25/70.. Train loss: 4854.873.. Val loss: 2041.158.. Train L1 norm: 2.292.. Val L1 norm: 2.917.. Train Linf norm: 62.288.. Val Linf norm: 88.581\n",
            "Epoch 26/70.. Train loss: 3723.259.. Val loss: 2046.697.. Train L1 norm: 2.400.. Val L1 norm: 2.920.. Train Linf norm: 69.792.. Val Linf norm: 88.724\n",
            "Epoch 27/70.. Train loss: 2490.938.. Val loss: 2052.116.. Train L1 norm: 2.341.. Val L1 norm: 2.923.. Train Linf norm: 66.333.. Val Linf norm: 88.852\n",
            "Epoch 28/70.. Train loss: 18325.512.. Val loss: 2031.132.. Train L1 norm: 2.434.. Val L1 norm: 2.912.. Train Linf norm: 72.023.. Val Linf norm: 88.318\n",
            "Epoch 29/70.. Train loss: 21063.217.. Val loss: 2011.245.. Train L1 norm: 2.471.. Val L1 norm: 2.901.. Train Linf norm: 75.355.. Val Linf norm: 87.819\n",
            "Epoch 30/70.. Train loss: 12984.390.. Val loss: 1999.707.. Train L1 norm: 2.546.. Val L1 norm: 2.895.. Train Linf norm: 79.250.. Val Linf norm: 87.522\n",
            "Epoch 31/70.. Train loss: 5471.824.. Val loss: 1986.349.. Train L1 norm: 2.453.. Val L1 norm: 2.888.. Train Linf norm: 74.748.. Val Linf norm: 87.218\n",
            "Epoch 32/70.. Train loss: 988.181.. Val loss: 1981.344.. Train L1 norm: 2.328.. Val L1 norm: 2.885.. Train Linf norm: 64.119.. Val Linf norm: 87.095\n",
            "Epoch 33/70.. Train loss: 39851.290.. Val loss: 1985.864.. Train L1 norm: 2.676.. Val L1 norm: 2.888.. Train Linf norm: 87.782.. Val Linf norm: 87.210\n",
            "Epoch 34/70.. Train loss: 21929.474.. Val loss: 1982.394.. Train L1 norm: 2.253.. Val L1 norm: 2.886.. Train Linf norm: 60.445.. Val Linf norm: 87.118\n",
            "Epoch 35/70.. Train loss: 16049.997.. Val loss: 1978.153.. Train L1 norm: 2.402.. Val L1 norm: 2.884.. Train Linf norm: 70.561.. Val Linf norm: 87.014\n",
            "Epoch 36/70.. Train loss: 5028.030.. Val loss: 1978.902.. Train L1 norm: 2.438.. Val L1 norm: 2.884.. Train Linf norm: 73.153.. Val Linf norm: 87.031\n",
            "Epoch 37/70.. Train loss: 2657.450.. Val loss: 1978.788.. Train L1 norm: 2.272.. Val L1 norm: 2.884.. Train Linf norm: 62.330.. Val Linf norm: 87.029\n",
            "Epoch 38/70.. Train loss: 4844.464.. Val loss: 1976.455.. Train L1 norm: 2.276.. Val L1 norm: 2.883.. Train Linf norm: 62.272.. Val Linf norm: 86.972\n",
            "Epoch 39/70.. Train loss: 10178.238.. Val loss: 1977.858.. Train L1 norm: 2.269.. Val L1 norm: 2.883.. Train Linf norm: 62.531.. Val Linf norm: 87.010\n",
            "Epoch 40/70.. Train loss: 3409.245.. Val loss: 1976.168.. Train L1 norm: 2.340.. Val L1 norm: 2.883.. Train Linf norm: 66.325.. Val Linf norm: 86.970\n",
            "Epoch 41/70.. Train loss: 7072.240.. Val loss: 1975.750.. Train L1 norm: 2.526.. Val L1 norm: 2.882.. Train Linf norm: 78.360.. Val Linf norm: 86.958\n",
            "Epoch 42/70.. Train loss: 16448.971.. Val loss: 1974.816.. Train L1 norm: 2.468.. Val L1 norm: 2.882.. Train Linf norm: 74.222.. Val Linf norm: 86.936\n",
            "Epoch 43/70.. Train loss: 2482.138.. Val loss: 1974.656.. Train L1 norm: 2.432.. Val L1 norm: 2.882.. Train Linf norm: 71.217.. Val Linf norm: 86.933\n",
            "Epoch 44/70.. Train loss: 16739.595.. Val loss: 1973.901.. Train L1 norm: 2.269.. Val L1 norm: 2.881.. Train Linf norm: 61.078.. Val Linf norm: 86.915\n",
            "Epoch 45/70.. Train loss: 2030.387.. Val loss: 1973.661.. Train L1 norm: 2.204.. Val L1 norm: 2.881.. Train Linf norm: 57.610.. Val Linf norm: 86.909\n",
            "Epoch 46/70.. Train loss: 4303.376.. Val loss: 1973.597.. Train L1 norm: 2.272.. Val L1 norm: 2.881.. Train Linf norm: 62.728.. Val Linf norm: 86.907\n",
            "Epoch 47/70.. Train loss: 1048.086.. Val loss: 1973.515.. Train L1 norm: 2.291.. Val L1 norm: 2.881.. Train Linf norm: 63.078.. Val Linf norm: 86.905\n",
            "Epoch 48/70.. Train loss: 7946.009.. Val loss: 1973.894.. Train L1 norm: 2.207.. Val L1 norm: 2.881.. Train Linf norm: 57.848.. Val Linf norm: 86.914\n",
            "Epoch 49/70.. Train loss: 7003.549.. Val loss: 1973.993.. Train L1 norm: 2.407.. Val L1 norm: 2.881.. Train Linf norm: 70.249.. Val Linf norm: 86.917\n",
            "Epoch 50/70.. Train loss: 3911.816.. Val loss: 1974.011.. Train L1 norm: 2.385.. Val L1 norm: 2.881.. Train Linf norm: 69.472.. Val Linf norm: 86.917\n",
            "Epoch 51/70.. Train loss: 7347.756.. Val loss: 1974.038.. Train L1 norm: 2.307.. Val L1 norm: 2.882.. Train Linf norm: 63.733.. Val Linf norm: 86.918\n",
            "Epoch 52/70.. Train loss: 6530.166.. Val loss: 1973.936.. Train L1 norm: 2.475.. Val L1 norm: 2.881.. Train Linf norm: 75.345.. Val Linf norm: 86.916\n",
            "Epoch 53/70.. Train loss: 12940.865.. Val loss: 1973.779.. Train L1 norm: 2.645.. Val L1 norm: 2.881.. Train Linf norm: 85.549.. Val Linf norm: 86.912\n",
            "Epoch 54/70.. Train loss: 6911.791.. Val loss: 1973.871.. Train L1 norm: 2.293.. Val L1 norm: 2.881.. Train Linf norm: 63.977.. Val Linf norm: 86.914\n",
            "Epoch 55/70.. Train loss: 6371.224.. Val loss: 1973.800.. Train L1 norm: 2.428.. Val L1 norm: 2.881.. Train Linf norm: 72.167.. Val Linf norm: 86.912\n",
            "Epoch 56/70.. Train loss: 15416.913.. Val loss: 1973.665.. Train L1 norm: 2.302.. Val L1 norm: 2.881.. Train Linf norm: 64.248.. Val Linf norm: 86.909\n",
            "Epoch 57/70.. Train loss: 8728.384.. Val loss: 1973.653.. Train L1 norm: 2.347.. Val L1 norm: 2.881.. Train Linf norm: 66.004.. Val Linf norm: 86.909\n",
            "Epoch 58/70.. Train loss: 10003.493.. Val loss: 1973.648.. Train L1 norm: 2.227.. Val L1 norm: 2.881.. Train Linf norm: 59.474.. Val Linf norm: 86.909\n",
            "Epoch 59/70.. Train loss: 3392.629.. Val loss: 1973.646.. Train L1 norm: 2.374.. Val L1 norm: 2.881.. Train Linf norm: 67.928.. Val Linf norm: 86.909\n",
            "Epoch 60/70.. Train loss: 3743.436.. Val loss: 1973.649.. Train L1 norm: 2.519.. Val L1 norm: 2.881.. Train Linf norm: 74.749.. Val Linf norm: 86.909\n",
            "Epoch 61/70.. Train loss: 2802.396.. Val loss: 1973.653.. Train L1 norm: 2.451.. Val L1 norm: 2.881.. Train Linf norm: 74.131.. Val Linf norm: 86.909\n",
            "Epoch 62/70.. Train loss: 6103.045.. Val loss: 1973.651.. Train L1 norm: 2.355.. Val L1 norm: 2.881.. Train Linf norm: 68.063.. Val Linf norm: 86.909\n",
            "Epoch 63/70.. Train loss: 1493.633.. Val loss: 1973.652.. Train L1 norm: 2.203.. Val L1 norm: 2.881.. Train Linf norm: 57.630.. Val Linf norm: 86.909\n",
            "Epoch 64/70.. Train loss: 3547.199.. Val loss: 1973.651.. Train L1 norm: 2.437.. Val L1 norm: 2.881.. Train Linf norm: 72.591.. Val Linf norm: 86.909\n",
            "Epoch 65/70.. Train loss: 27051.440.. Val loss: 1973.653.. Train L1 norm: 2.402.. Val L1 norm: 2.881.. Train Linf norm: 70.721.. Val Linf norm: 86.909\n",
            "Epoch 66/70.. Train loss: 8366.741.. Val loss: 1973.652.. Train L1 norm: 2.527.. Val L1 norm: 2.881.. Train Linf norm: 77.943.. Val Linf norm: 86.909\n",
            "Epoch 67/70.. Train loss: 4817.471.. Val loss: 1973.653.. Train L1 norm: 2.515.. Val L1 norm: 2.881.. Train Linf norm: 78.079.. Val Linf norm: 86.909\n",
            "Epoch 68/70.. Train loss: 2986.650.. Val loss: 1973.652.. Train L1 norm: 2.336.. Val L1 norm: 2.881.. Train Linf norm: 67.278.. Val Linf norm: 86.909\n",
            "Epoch 69/70.. Train loss: 4455.007.. Val loss: 1973.652.. Train L1 norm: 2.209.. Val L1 norm: 2.881.. Train Linf norm: 57.591.. Val Linf norm: 86.909\n"
          ]
        },
        {
          "output_type": "stream",
          "name": "stderr",
          "text": [
            "[I 2023-05-31 21:08:17,739] Trial 14 finished with value: 2.8813046670277913 and parameters: {'batch_size': 64, 'dropout_rate': 0.2775218832048069, 'gamma': 0.23617725141703, 'hidden_activation': 'ReLU', 'loss': 'MSE', 'lr': 3.582475309397989e-05, 'n_epochs': 70, 'n_layers': 3, 'n_units_0': 1709, 'n_units_1': 1796, 'n_units_2': 3542, 'optimizer': 'Adagrad', 'output_activation': 'Linear', 'scheduler': 'StepLR', 'step_size': 8}. Best is trial 3 with value: 1.1057661293665568.\n"
          ]
        },
        {
          "output_type": "stream",
          "name": "stdout",
          "text": [
            "Epoch 70/70.. Train loss: 1924.246.. Val loss: 1973.653.. Train L1 norm: 2.375.. Val L1 norm: 2.881.. Train Linf norm: 69.113.. Val Linf norm: 86.909\n",
            "Epoch 1/63.. Train loss: 155070.025.. Val loss: 681.190.. Train L1 norm: 3.940.. Val L1 norm: 2.406.. Train Linf norm: 126.944.. Val Linf norm: 70.223\n"
          ]
        },
        {
          "output_type": "stream",
          "name": "stderr",
          "text": [
            "[I 2023-05-31 21:08:24,403] Trial 15 pruned. \n"
          ]
        },
        {
          "output_type": "stream",
          "name": "stdout",
          "text": [
            "Epoch 2/63.. Train loss: 20317.578.. Val loss: 571.164.. Train L1 norm: 4.735.. Val L1 norm: 2.326.. Train Linf norm: 177.671.. Val Linf norm: 66.905\n"
          ]
        },
        {
          "output_type": "stream",
          "name": "stderr",
          "text": [
            "[I 2023-05-31 21:08:36,804] Trial 16 pruned. \n"
          ]
        },
        {
          "output_type": "stream",
          "name": "stdout",
          "text": [
            "Epoch 1/86.. Train loss: 5217.690.. Val loss: 3140.105.. Train L1 norm: 2.792.. Val L1 norm: 3.405.. Train Linf norm: 49.668.. Val Linf norm: 59.940\n",
            "Epoch 1/129.. Train loss: 3626.490.. Val loss: 65.833.. Train L1 norm: 2.013.. Val L1 norm: 1.175.. Train Linf norm: 177.884.. Val Linf norm: 38.623\n",
            "Epoch 2/129.. Train loss: 891.774.. Val loss: 63.697.. Train L1 norm: 1.340.. Val L1 norm: 1.030.. Train Linf norm: 64.938.. Val Linf norm: 6.896\n",
            "Epoch 3/129.. Train loss: 641.923.. Val loss: 89.710.. Train L1 norm: 1.178.. Val L1 norm: 1.150.. Train Linf norm: 38.188.. Val Linf norm: 28.886\n",
            "Epoch 4/129.. Train loss: 261.861.. Val loss: 105.652.. Train L1 norm: 1.149.. Val L1 norm: 1.204.. Train Linf norm: 33.171.. Val Linf norm: 37.808\n",
            "Epoch 5/129.. Train loss: 612.097.. Val loss: 152.429.. Train L1 norm: 1.157.. Val L1 norm: 1.338.. Train Linf norm: 35.408.. Val Linf norm: 59.485\n",
            "Epoch 6/129.. Train loss: 177.017.. Val loss: 153.284.. Train L1 norm: 1.102.. Val L1 norm: 1.337.. Train Linf norm: 19.470.. Val Linf norm: 59.414\n",
            "Epoch 7/129.. Train loss: 232.931.. Val loss: 141.268.. Train L1 norm: 1.107.. Val L1 norm: 1.307.. Train Linf norm: 21.741.. Val Linf norm: 54.620\n",
            "Epoch 8/129.. Train loss: 143.605.. Val loss: 152.369.. Train L1 norm: 1.115.. Val L1 norm: 1.333.. Train Linf norm: 24.531.. Val Linf norm: 58.842\n",
            "Epoch 9/129.. Train loss: 306.505.. Val loss: 138.225.. Train L1 norm: 1.109.. Val L1 norm: 1.289.. Train Linf norm: 23.867.. Val Linf norm: 51.801\n",
            "Epoch 10/129.. Train loss: 129.684.. Val loss: 136.465.. Train L1 norm: 1.144.. Val L1 norm: 1.281.. Train Linf norm: 32.130.. Val Linf norm: 50.543\n",
            "Epoch 11/129.. Train loss: 164.108.. Val loss: 112.927.. Train L1 norm: 1.135.. Val L1 norm: 1.211.. Train Linf norm: 29.119.. Val Linf norm: 39.096\n",
            "Epoch 12/129.. Train loss: 343.742.. Val loss: 144.509.. Train L1 norm: 1.155.. Val L1 norm: 1.296.. Train Linf norm: 33.531.. Val Linf norm: 52.903\n",
            "Epoch 13/129.. Train loss: 206.966.. Val loss: 142.878.. Train L1 norm: 1.123.. Val L1 norm: 1.291.. Train Linf norm: 26.115.. Val Linf norm: 52.113\n",
            "Epoch 14/129.. Train loss: 118.715.. Val loss: 142.513.. Train L1 norm: 1.100.. Val L1 norm: 1.290.. Train Linf norm: 21.544.. Val Linf norm: 51.878\n",
            "Epoch 15/129.. Train loss: 197.236.. Val loss: 139.485.. Train L1 norm: 1.117.. Val L1 norm: 1.281.. Train Linf norm: 24.914.. Val Linf norm: 50.444\n",
            "Epoch 16/129.. Train loss: 134.249.. Val loss: 138.732.. Train L1 norm: 1.130.. Val L1 norm: 1.278.. Train Linf norm: 27.815.. Val Linf norm: 50.047\n",
            "Epoch 17/129.. Train loss: 162.794.. Val loss: 136.979.. Train L1 norm: 1.143.. Val L1 norm: 1.273.. Train Linf norm: 31.454.. Val Linf norm: 49.162\n",
            "Epoch 18/129.. Train loss: 142.210.. Val loss: 138.201.. Train L1 norm: 1.115.. Val L1 norm: 1.276.. Train Linf norm: 24.612.. Val Linf norm: 49.614\n",
            "Epoch 19/129.. Train loss: 303.234.. Val loss: 132.212.. Train L1 norm: 1.128.. Val L1 norm: 1.259.. Train Linf norm: 27.391.. Val Linf norm: 46.905\n",
            "Epoch 20/129.. Train loss: 203.695.. Val loss: 130.458.. Train L1 norm: 1.134.. Val L1 norm: 1.254.. Train Linf norm: 28.873.. Val Linf norm: 46.041\n",
            "Epoch 21/129.. Train loss: 284.796.. Val loss: 134.010.. Train L1 norm: 1.124.. Val L1 norm: 1.263.. Train Linf norm: 25.455.. Val Linf norm: 47.567\n",
            "Epoch 22/129.. Train loss: 121.340.. Val loss: 135.380.. Train L1 norm: 1.128.. Val L1 norm: 1.266.. Train Linf norm: 27.881.. Val Linf norm: 48.093\n",
            "Epoch 23/129.. Train loss: 152.978.. Val loss: 133.920.. Train L1 norm: 1.116.. Val L1 norm: 1.262.. Train Linf norm: 24.892.. Val Linf norm: 47.378\n",
            "Epoch 24/129.. Train loss: 134.663.. Val loss: 134.966.. Train L1 norm: 1.124.. Val L1 norm: 1.264.. Train Linf norm: 26.418.. Val Linf norm: 47.790\n",
            "Epoch 25/129.. Train loss: 285.265.. Val loss: 135.710.. Train L1 norm: 1.122.. Val L1 norm: 1.266.. Train Linf norm: 24.535.. Val Linf norm: 48.094\n",
            "Epoch 26/129.. Train loss: 228.595.. Val loss: 136.274.. Train L1 norm: 1.137.. Val L1 norm: 1.268.. Train Linf norm: 29.547.. Val Linf norm: 48.333\n",
            "Epoch 27/129.. Train loss: 217.730.. Val loss: 136.519.. Train L1 norm: 1.110.. Val L1 norm: 1.268.. Train Linf norm: 23.012.. Val Linf norm: 48.430\n",
            "Epoch 28/129.. Train loss: 178.305.. Val loss: 136.297.. Train L1 norm: 1.132.. Val L1 norm: 1.268.. Train Linf norm: 29.228.. Val Linf norm: 48.324\n",
            "Epoch 29/129.. Train loss: 177.172.. Val loss: 136.570.. Train L1 norm: 1.118.. Val L1 norm: 1.269.. Train Linf norm: 24.199.. Val Linf norm: 48.440\n",
            "Epoch 30/129.. Train loss: 154.262.. Val loss: 136.866.. Train L1 norm: 1.122.. Val L1 norm: 1.269.. Train Linf norm: 25.182.. Val Linf norm: 48.556\n",
            "Epoch 31/129.. Train loss: 565.997.. Val loss: 137.185.. Train L1 norm: 1.138.. Val L1 norm: 1.270.. Train Linf norm: 30.566.. Val Linf norm: 48.686\n",
            "Epoch 32/129.. Train loss: 162.296.. Val loss: 137.405.. Train L1 norm: 1.118.. Val L1 norm: 1.271.. Train Linf norm: 25.669.. Val Linf norm: 48.774\n",
            "Epoch 33/129.. Train loss: 192.878.. Val loss: 137.469.. Train L1 norm: 1.122.. Val L1 norm: 1.271.. Train Linf norm: 25.717.. Val Linf norm: 48.804\n",
            "Epoch 34/129.. Train loss: 132.489.. Val loss: 137.555.. Train L1 norm: 1.109.. Val L1 norm: 1.271.. Train Linf norm: 22.488.. Val Linf norm: 48.831\n",
            "Epoch 35/129.. Train loss: 237.000.. Val loss: 137.293.. Train L1 norm: 1.148.. Val L1 norm: 1.270.. Train Linf norm: 31.727.. Val Linf norm: 48.710\n",
            "Epoch 36/129.. Train loss: 182.648.. Val loss: 136.933.. Train L1 norm: 1.118.. Val L1 norm: 1.269.. Train Linf norm: 25.571.. Val Linf norm: 48.537\n",
            "Epoch 37/129.. Train loss: 155.553.. Val loss: 136.892.. Train L1 norm: 1.129.. Val L1 norm: 1.269.. Train Linf norm: 27.671.. Val Linf norm: 48.518\n",
            "Epoch 38/129.. Train loss: 230.100.. Val loss: 136.862.. Train L1 norm: 1.160.. Val L1 norm: 1.269.. Train Linf norm: 35.908.. Val Linf norm: 48.503\n",
            "Epoch 39/129.. Train loss: 111.899.. Val loss: 136.858.. Train L1 norm: 1.123.. Val L1 norm: 1.269.. Train Linf norm: 26.335.. Val Linf norm: 48.500\n",
            "Epoch 40/129.. Train loss: 228.762.. Val loss: 136.810.. Train L1 norm: 1.140.. Val L1 norm: 1.269.. Train Linf norm: 30.565.. Val Linf norm: 48.478\n",
            "Epoch 41/129.. Train loss: 141.007.. Val loss: 136.854.. Train L1 norm: 1.115.. Val L1 norm: 1.269.. Train Linf norm: 25.236.. Val Linf norm: 48.496\n",
            "Epoch 42/129.. Train loss: 138.020.. Val loss: 136.881.. Train L1 norm: 1.136.. Val L1 norm: 1.269.. Train Linf norm: 29.428.. Val Linf norm: 48.505\n",
            "Epoch 43/129.. Train loss: 573.227.. Val loss: 136.680.. Train L1 norm: 1.121.. Val L1 norm: 1.268.. Train Linf norm: 26.579.. Val Linf norm: 48.414\n",
            "Epoch 44/129.. Train loss: 197.238.. Val loss: 136.712.. Train L1 norm: 1.134.. Val L1 norm: 1.269.. Train Linf norm: 28.661.. Val Linf norm: 48.428\n",
            "Epoch 45/129.. Train loss: 138.007.. Val loss: 136.695.. Train L1 norm: 1.108.. Val L1 norm: 1.268.. Train Linf norm: 21.621.. Val Linf norm: 48.419\n",
            "Epoch 46/129.. Train loss: 206.377.. Val loss: 136.627.. Train L1 norm: 1.121.. Val L1 norm: 1.268.. Train Linf norm: 25.844.. Val Linf norm: 48.389\n",
            "Epoch 47/129.. Train loss: 127.796.. Val loss: 136.602.. Train L1 norm: 1.147.. Val L1 norm: 1.268.. Train Linf norm: 31.609.. Val Linf norm: 48.376\n",
            "Epoch 48/129.. Train loss: 357.396.. Val loss: 136.684.. Train L1 norm: 1.142.. Val L1 norm: 1.268.. Train Linf norm: 29.862.. Val Linf norm: 48.411\n",
            "Epoch 49/129.. Train loss: 238.868.. Val loss: 136.682.. Train L1 norm: 1.142.. Val L1 norm: 1.268.. Train Linf norm: 30.787.. Val Linf norm: 48.410\n",
            "Epoch 50/129.. Train loss: 224.022.. Val loss: 136.685.. Train L1 norm: 1.150.. Val L1 norm: 1.268.. Train Linf norm: 33.193.. Val Linf norm: 48.411\n",
            "Epoch 51/129.. Train loss: 138.261.. Val loss: 136.677.. Train L1 norm: 1.114.. Val L1 norm: 1.268.. Train Linf norm: 24.404.. Val Linf norm: 48.408\n",
            "Epoch 52/129.. Train loss: 206.480.. Val loss: 136.668.. Train L1 norm: 1.117.. Val L1 norm: 1.268.. Train Linf norm: 24.906.. Val Linf norm: 48.404\n",
            "Epoch 53/129.. Train loss: 154.836.. Val loss: 136.672.. Train L1 norm: 1.135.. Val L1 norm: 1.268.. Train Linf norm: 28.942.. Val Linf norm: 48.405\n",
            "Epoch 54/129.. Train loss: 473.623.. Val loss: 136.657.. Train L1 norm: 1.130.. Val L1 norm: 1.268.. Train Linf norm: 28.317.. Val Linf norm: 48.399\n",
            "Epoch 55/129.. Train loss: 132.337.. Val loss: 136.661.. Train L1 norm: 1.121.. Val L1 norm: 1.268.. Train Linf norm: 26.353.. Val Linf norm: 48.400\n",
            "Epoch 56/129.. Train loss: 135.112.. Val loss: 136.658.. Train L1 norm: 1.129.. Val L1 norm: 1.268.. Train Linf norm: 27.824.. Val Linf norm: 48.399\n",
            "Epoch 57/129.. Train loss: 121.914.. Val loss: 136.659.. Train L1 norm: 1.106.. Val L1 norm: 1.268.. Train Linf norm: 22.596.. Val Linf norm: 48.400\n",
            "Epoch 58/129.. Train loss: 266.253.. Val loss: 136.650.. Train L1 norm: 1.143.. Val L1 norm: 1.268.. Train Linf norm: 31.289.. Val Linf norm: 48.395\n",
            "Epoch 59/129.. Train loss: 575.528.. Val loss: 136.665.. Train L1 norm: 1.139.. Val L1 norm: 1.268.. Train Linf norm: 30.986.. Val Linf norm: 48.402\n",
            "Epoch 60/129.. Train loss: 131.013.. Val loss: 136.668.. Train L1 norm: 1.138.. Val L1 norm: 1.268.. Train Linf norm: 30.499.. Val Linf norm: 48.403\n",
            "Epoch 61/129.. Train loss: 192.499.. Val loss: 136.666.. Train L1 norm: 1.119.. Val L1 norm: 1.268.. Train Linf norm: 24.194.. Val Linf norm: 48.403\n",
            "Epoch 62/129.. Train loss: 339.699.. Val loss: 136.665.. Train L1 norm: 1.138.. Val L1 norm: 1.268.. Train Linf norm: 29.766.. Val Linf norm: 48.402\n",
            "Epoch 63/129.. Train loss: 206.644.. Val loss: 136.666.. Train L1 norm: 1.127.. Val L1 norm: 1.268.. Train Linf norm: 26.285.. Val Linf norm: 48.403\n",
            "Epoch 64/129.. Train loss: 140.102.. Val loss: 136.667.. Train L1 norm: 1.115.. Val L1 norm: 1.268.. Train Linf norm: 24.300.. Val Linf norm: 48.403\n",
            "Epoch 65/129.. Train loss: 316.630.. Val loss: 136.666.. Train L1 norm: 1.134.. Val L1 norm: 1.268.. Train Linf norm: 28.329.. Val Linf norm: 48.402\n",
            "Epoch 66/129.. Train loss: 139.059.. Val loss: 136.666.. Train L1 norm: 1.114.. Val L1 norm: 1.268.. Train Linf norm: 23.683.. Val Linf norm: 48.402\n",
            "Epoch 67/129.. Train loss: 173.037.. Val loss: 136.667.. Train L1 norm: 1.125.. Val L1 norm: 1.268.. Train Linf norm: 27.288.. Val Linf norm: 48.403\n",
            "Epoch 68/129.. Train loss: 232.694.. Val loss: 136.666.. Train L1 norm: 1.135.. Val L1 norm: 1.268.. Train Linf norm: 28.950.. Val Linf norm: 48.402\n",
            "Epoch 69/129.. Train loss: 348.026.. Val loss: 136.667.. Train L1 norm: 1.111.. Val L1 norm: 1.268.. Train Linf norm: 22.844.. Val Linf norm: 48.403\n",
            "Epoch 70/129.. Train loss: 289.876.. Val loss: 136.669.. Train L1 norm: 1.157.. Val L1 norm: 1.268.. Train Linf norm: 35.024.. Val Linf norm: 48.404\n",
            "Epoch 71/129.. Train loss: 207.745.. Val loss: 136.671.. Train L1 norm: 1.152.. Val L1 norm: 1.268.. Train Linf norm: 33.631.. Val Linf norm: 48.405\n",
            "Epoch 72/129.. Train loss: 157.235.. Val loss: 136.671.. Train L1 norm: 1.140.. Val L1 norm: 1.268.. Train Linf norm: 30.512.. Val Linf norm: 48.405\n",
            "Epoch 73/129.. Train loss: 131.874.. Val loss: 136.671.. Train L1 norm: 1.136.. Val L1 norm: 1.268.. Train Linf norm: 29.717.. Val Linf norm: 48.405\n",
            "Epoch 74/129.. Train loss: 151.963.. Val loss: 136.671.. Train L1 norm: 1.121.. Val L1 norm: 1.268.. Train Linf norm: 24.652.. Val Linf norm: 48.405\n",
            "Epoch 75/129.. Train loss: 134.028.. Val loss: 136.671.. Train L1 norm: 1.118.. Val L1 norm: 1.268.. Train Linf norm: 25.590.. Val Linf norm: 48.405\n",
            "Epoch 76/129.. Train loss: 226.545.. Val loss: 136.671.. Train L1 norm: 1.112.. Val L1 norm: 1.268.. Train Linf norm: 24.327.. Val Linf norm: 48.405\n",
            "Epoch 77/129.. Train loss: 271.862.. Val loss: 136.671.. Train L1 norm: 1.136.. Val L1 norm: 1.268.. Train Linf norm: 29.382.. Val Linf norm: 48.405\n",
            "Epoch 78/129.. Train loss: 343.499.. Val loss: 136.671.. Train L1 norm: 1.147.. Val L1 norm: 1.268.. Train Linf norm: 31.869.. Val Linf norm: 48.405\n",
            "Epoch 79/129.. Train loss: 167.168.. Val loss: 136.671.. Train L1 norm: 1.138.. Val L1 norm: 1.268.. Train Linf norm: 29.246.. Val Linf norm: 48.405\n",
            "Epoch 80/129.. Train loss: 127.304.. Val loss: 136.671.. Train L1 norm: 1.130.. Val L1 norm: 1.268.. Train Linf norm: 27.727.. Val Linf norm: 48.405\n",
            "Epoch 81/129.. Train loss: 157.448.. Val loss: 136.671.. Train L1 norm: 1.113.. Val L1 norm: 1.268.. Train Linf norm: 24.238.. Val Linf norm: 48.405\n",
            "Epoch 82/129.. Train loss: 234.774.. Val loss: 136.672.. Train L1 norm: 1.120.. Val L1 norm: 1.268.. Train Linf norm: 25.064.. Val Linf norm: 48.405\n",
            "Epoch 83/129.. Train loss: 172.837.. Val loss: 136.672.. Train L1 norm: 1.125.. Val L1 norm: 1.268.. Train Linf norm: 25.718.. Val Linf norm: 48.405\n",
            "Epoch 84/129.. Train loss: 178.864.. Val loss: 136.672.. Train L1 norm: 1.140.. Val L1 norm: 1.268.. Train Linf norm: 29.834.. Val Linf norm: 48.405\n",
            "Epoch 85/129.. Train loss: 152.966.. Val loss: 136.672.. Train L1 norm: 1.122.. Val L1 norm: 1.268.. Train Linf norm: 25.465.. Val Linf norm: 48.405\n",
            "Epoch 86/129.. Train loss: 264.071.. Val loss: 136.672.. Train L1 norm: 1.129.. Val L1 norm: 1.268.. Train Linf norm: 27.293.. Val Linf norm: 48.405\n",
            "Epoch 87/129.. Train loss: 200.492.. Val loss: 136.672.. Train L1 norm: 1.122.. Val L1 norm: 1.268.. Train Linf norm: 26.206.. Val Linf norm: 48.405\n",
            "Epoch 88/129.. Train loss: 142.880.. Val loss: 136.672.. Train L1 norm: 1.132.. Val L1 norm: 1.268.. Train Linf norm: 28.657.. Val Linf norm: 48.405\n",
            "Epoch 89/129.. Train loss: 129.517.. Val loss: 136.672.. Train L1 norm: 1.124.. Val L1 norm: 1.268.. Train Linf norm: 26.410.. Val Linf norm: 48.405\n",
            "Epoch 90/129.. Train loss: 188.468.. Val loss: 136.672.. Train L1 norm: 1.145.. Val L1 norm: 1.268.. Train Linf norm: 30.432.. Val Linf norm: 48.405\n",
            "Epoch 91/129.. Train loss: 201.103.. Val loss: 136.672.. Train L1 norm: 1.113.. Val L1 norm: 1.268.. Train Linf norm: 24.053.. Val Linf norm: 48.405\n",
            "Epoch 92/129.. Train loss: 270.775.. Val loss: 136.672.. Train L1 norm: 1.124.. Val L1 norm: 1.268.. Train Linf norm: 26.371.. Val Linf norm: 48.405\n",
            "Epoch 93/129.. Train loss: 270.393.. Val loss: 136.672.. Train L1 norm: 1.128.. Val L1 norm: 1.268.. Train Linf norm: 27.890.. Val Linf norm: 48.405\n",
            "Epoch 94/129.. Train loss: 173.686.. Val loss: 136.672.. Train L1 norm: 1.110.. Val L1 norm: 1.268.. Train Linf norm: 23.681.. Val Linf norm: 48.405\n",
            "Epoch 95/129.. Train loss: 165.983.. Val loss: 136.672.. Train L1 norm: 1.132.. Val L1 norm: 1.268.. Train Linf norm: 28.317.. Val Linf norm: 48.405\n",
            "Epoch 96/129.. Train loss: 323.261.. Val loss: 136.672.. Train L1 norm: 1.123.. Val L1 norm: 1.268.. Train Linf norm: 25.394.. Val Linf norm: 48.405\n",
            "Epoch 97/129.. Train loss: 517.237.. Val loss: 136.672.. Train L1 norm: 1.124.. Val L1 norm: 1.268.. Train Linf norm: 26.940.. Val Linf norm: 48.405\n",
            "Epoch 98/129.. Train loss: 272.280.. Val loss: 136.672.. Train L1 norm: 1.126.. Val L1 norm: 1.268.. Train Linf norm: 26.628.. Val Linf norm: 48.405\n",
            "Epoch 99/129.. Train loss: 293.606.. Val loss: 136.672.. Train L1 norm: 1.096.. Val L1 norm: 1.268.. Train Linf norm: 19.385.. Val Linf norm: 48.405\n",
            "Epoch 100/129.. Train loss: 163.936.. Val loss: 136.672.. Train L1 norm: 1.117.. Val L1 norm: 1.268.. Train Linf norm: 25.306.. Val Linf norm: 48.405\n",
            "Epoch 101/129.. Train loss: 130.339.. Val loss: 136.672.. Train L1 norm: 1.134.. Val L1 norm: 1.268.. Train Linf norm: 28.743.. Val Linf norm: 48.405\n",
            "Epoch 102/129.. Train loss: 189.120.. Val loss: 136.672.. Train L1 norm: 1.131.. Val L1 norm: 1.268.. Train Linf norm: 26.429.. Val Linf norm: 48.405\n",
            "Epoch 103/129.. Train loss: 219.186.. Val loss: 136.672.. Train L1 norm: 1.112.. Val L1 norm: 1.268.. Train Linf norm: 23.518.. Val Linf norm: 48.405\n",
            "Epoch 104/129.. Train loss: 311.912.. Val loss: 136.672.. Train L1 norm: 1.130.. Val L1 norm: 1.268.. Train Linf norm: 27.561.. Val Linf norm: 48.405\n",
            "Epoch 105/129.. Train loss: 334.185.. Val loss: 136.672.. Train L1 norm: 1.118.. Val L1 norm: 1.268.. Train Linf norm: 24.988.. Val Linf norm: 48.405\n",
            "Epoch 106/129.. Train loss: 267.023.. Val loss: 136.672.. Train L1 norm: 1.148.. Val L1 norm: 1.268.. Train Linf norm: 32.758.. Val Linf norm: 48.405\n",
            "Epoch 107/129.. Train loss: 256.080.. Val loss: 136.672.. Train L1 norm: 1.130.. Val L1 norm: 1.268.. Train Linf norm: 27.775.. Val Linf norm: 48.405\n",
            "Epoch 108/129.. Train loss: 274.032.. Val loss: 136.672.. Train L1 norm: 1.113.. Val L1 norm: 1.268.. Train Linf norm: 23.918.. Val Linf norm: 48.405\n",
            "Epoch 109/129.. Train loss: 241.060.. Val loss: 136.672.. Train L1 norm: 1.135.. Val L1 norm: 1.268.. Train Linf norm: 29.150.. Val Linf norm: 48.405\n",
            "Epoch 110/129.. Train loss: 198.008.. Val loss: 136.672.. Train L1 norm: 1.113.. Val L1 norm: 1.268.. Train Linf norm: 24.337.. Val Linf norm: 48.405\n",
            "Epoch 111/129.. Train loss: 263.645.. Val loss: 136.672.. Train L1 norm: 1.140.. Val L1 norm: 1.268.. Train Linf norm: 30.400.. Val Linf norm: 48.405\n",
            "Epoch 112/129.. Train loss: 186.605.. Val loss: 136.672.. Train L1 norm: 1.120.. Val L1 norm: 1.268.. Train Linf norm: 25.996.. Val Linf norm: 48.405\n",
            "Epoch 113/129.. Train loss: 216.886.. Val loss: 136.672.. Train L1 norm: 1.130.. Val L1 norm: 1.268.. Train Linf norm: 28.551.. Val Linf norm: 48.405\n",
            "Epoch 114/129.. Train loss: 129.844.. Val loss: 136.672.. Train L1 norm: 1.126.. Val L1 norm: 1.268.. Train Linf norm: 27.150.. Val Linf norm: 48.405\n",
            "Epoch 115/129.. Train loss: 374.391.. Val loss: 136.672.. Train L1 norm: 1.123.. Val L1 norm: 1.268.. Train Linf norm: 26.724.. Val Linf norm: 48.405\n",
            "Epoch 116/129.. Train loss: 193.154.. Val loss: 136.672.. Train L1 norm: 1.110.. Val L1 norm: 1.268.. Train Linf norm: 23.103.. Val Linf norm: 48.405\n",
            "Epoch 117/129.. Train loss: 196.130.. Val loss: 136.672.. Train L1 norm: 1.141.. Val L1 norm: 1.268.. Train Linf norm: 31.131.. Val Linf norm: 48.405\n",
            "Epoch 118/129.. Train loss: 156.702.. Val loss: 136.672.. Train L1 norm: 1.115.. Val L1 norm: 1.268.. Train Linf norm: 24.370.. Val Linf norm: 48.405\n",
            "Epoch 119/129.. Train loss: 178.570.. Val loss: 136.672.. Train L1 norm: 1.126.. Val L1 norm: 1.268.. Train Linf norm: 27.401.. Val Linf norm: 48.405\n",
            "Epoch 120/129.. Train loss: 158.501.. Val loss: 136.672.. Train L1 norm: 1.118.. Val L1 norm: 1.268.. Train Linf norm: 25.254.. Val Linf norm: 48.405\n",
            "Epoch 121/129.. Train loss: 326.809.. Val loss: 136.672.. Train L1 norm: 1.117.. Val L1 norm: 1.268.. Train Linf norm: 24.715.. Val Linf norm: 48.405\n",
            "Epoch 122/129.. Train loss: 170.733.. Val loss: 136.672.. Train L1 norm: 1.143.. Val L1 norm: 1.268.. Train Linf norm: 31.280.. Val Linf norm: 48.405\n",
            "Epoch 123/129.. Train loss: 127.237.. Val loss: 136.672.. Train L1 norm: 1.116.. Val L1 norm: 1.268.. Train Linf norm: 24.677.. Val Linf norm: 48.405\n",
            "Epoch 124/129.. Train loss: 181.245.. Val loss: 136.672.. Train L1 norm: 1.125.. Val L1 norm: 1.268.. Train Linf norm: 25.832.. Val Linf norm: 48.405\n",
            "Epoch 125/129.. Train loss: 161.621.. Val loss: 136.672.. Train L1 norm: 1.130.. Val L1 norm: 1.268.. Train Linf norm: 27.648.. Val Linf norm: 48.405\n",
            "Epoch 126/129.. Train loss: 226.217.. Val loss: 136.672.. Train L1 norm: 1.121.. Val L1 norm: 1.268.. Train Linf norm: 26.461.. Val Linf norm: 48.405\n",
            "Epoch 127/129.. Train loss: 144.926.. Val loss: 136.672.. Train L1 norm: 1.154.. Val L1 norm: 1.268.. Train Linf norm: 34.256.. Val Linf norm: 48.405\n",
            "Epoch 128/129.. Train loss: 318.316.. Val loss: 136.672.. Train L1 norm: 1.141.. Val L1 norm: 1.268.. Train Linf norm: 31.276.. Val Linf norm: 48.405\n"
          ]
        },
        {
          "output_type": "stream",
          "name": "stderr",
          "text": [
            "[I 2023-05-31 21:21:56,001] Trial 17 finished with value: 1.268375691350301 and parameters: {'batch_size': 256, 'dropout_rate': 0.2978865823397934, 'gamma': 0.17445300483874512, 'hidden_activation': 'ReLU', 'loss': 'MSE', 'lr': 3.102619105980477e-05, 'n_epochs': 129, 'n_layers': 6, 'n_units_0': 20, 'n_units_1': 4090, 'n_units_2': 1650, 'n_units_3': 2769, 'n_units_4': 2918, 'n_units_5': 3694, 'optimizer': 'Adagrad', 'output_activation': 'Linear', 'scheduler': 'StepLR', 'step_size': 12}. Best is trial 3 with value: 1.1057661293665568.\n"
          ]
        },
        {
          "output_type": "stream",
          "name": "stdout",
          "text": [
            "Epoch 129/129.. Train loss: 179.270.. Val loss: 136.672.. Train L1 norm: 1.121.. Val L1 norm: 1.268.. Train Linf norm: 25.106.. Val Linf norm: 48.405\n"
          ]
        },
        {
          "output_type": "stream",
          "name": "stderr",
          "text": [
            "[I 2023-05-31 21:22:02,866] Trial 18 pruned. \n"
          ]
        },
        {
          "output_type": "stream",
          "name": "stdout",
          "text": [
            "Epoch 1/127.. Train loss: 2.405.. Val loss: 2.260.. Train L1 norm: 3.040.. Val L1 norm: 4.641.. Train Linf norm: 280.234.. Val Linf norm: 568.631\n",
            "Epoch 1/129.. Train loss: 1628.561.. Val loss: 70.191.. Train L1 norm: 1.635.. Val L1 norm: 1.104.. Train Linf norm: 102.192.. Val Linf norm: 21.966\n",
            "Epoch 2/129.. Train loss: 1535.728.. Val loss: 195.760.. Train L1 norm: 1.275.. Val L1 norm: 1.770.. Train Linf norm: 48.438.. Val Linf norm: 144.636\n",
            "Epoch 3/129.. Train loss: 228.898.. Val loss: 147.269.. Train L1 norm: 1.301.. Val L1 norm: 1.676.. Train Linf norm: 54.893.. Val Linf norm: 128.420\n",
            "Epoch 4/129.. Train loss: 227.944.. Val loss: 356.805.. Train L1 norm: 1.544.. Val L1 norm: 1.564.. Train Linf norm: 97.331.. Val Linf norm: 94.101\n",
            "Epoch 5/129.. Train loss: 361.674.. Val loss: 76.149.. Train L1 norm: 1.455.. Val L1 norm: 1.494.. Train Linf norm: 74.123.. Val Linf norm: 96.446\n",
            "Epoch 6/129.. Train loss: 131.328.. Val loss: 89.335.. Train L1 norm: 1.306.. Val L1 norm: 1.589.. Train Linf norm: 56.109.. Val Linf norm: 112.627\n",
            "Epoch 7/129.. Train loss: 493.725.. Val loss: 70.663.. Train L1 norm: 1.356.. Val L1 norm: 1.537.. Train Linf norm: 60.940.. Val Linf norm: 103.085\n",
            "Epoch 8/129.. Train loss: 318.571.. Val loss: 57.483.. Train L1 norm: 1.328.. Val L1 norm: 1.425.. Train Linf norm: 61.074.. Val Linf norm: 83.130\n",
            "Epoch 9/129.. Train loss: 195.268.. Val loss: 62.937.. Train L1 norm: 1.488.. Val L1 norm: 1.528.. Train Linf norm: 86.900.. Val Linf norm: 101.534\n",
            "Epoch 10/129.. Train loss: 123.495.. Val loss: 64.629.. Train L1 norm: 1.432.. Val L1 norm: 1.564.. Train Linf norm: 77.560.. Val Linf norm: 107.809\n",
            "Epoch 11/129.. Train loss: 111.104.. Val loss: 56.766.. Train L1 norm: 1.443.. Val L1 norm: 1.491.. Train Linf norm: 75.327.. Val Linf norm: 94.990\n",
            "Epoch 12/129.. Train loss: 391.125.. Val loss: 83.908.. Train L1 norm: 1.380.. Val L1 norm: 1.221.. Train Linf norm: 68.299.. Val Linf norm: 44.289\n",
            "Epoch 13/129.. Train loss: 722.838.. Val loss: 57.155.. Train L1 norm: 1.465.. Val L1 norm: 1.513.. Train Linf norm: 80.003.. Val Linf norm: 98.520\n",
            "Epoch 14/129.. Train loss: 120.588.. Val loss: 55.437.. Train L1 norm: 1.407.. Val L1 norm: 1.469.. Train Linf norm: 71.658.. Val Linf norm: 90.377\n",
            "Epoch 15/129.. Train loss: 142.755.. Val loss: 64.930.. Train L1 norm: 1.496.. Val L1 norm: 1.638.. Train Linf norm: 86.507.. Val Linf norm: 120.272\n",
            "Epoch 16/129.. Train loss: 132.926.. Val loss: 55.602.. Train L1 norm: 1.494.. Val L1 norm: 1.522.. Train Linf norm: 84.978.. Val Linf norm: 99.974\n",
            "Epoch 17/129.. Train loss: 143.054.. Val loss: 60.249.. Train L1 norm: 1.443.. Val L1 norm: 1.400.. Train Linf norm: 78.908.. Val Linf norm: 77.529\n",
            "Epoch 18/129.. Train loss: 172.169.. Val loss: 55.639.. Train L1 norm: 1.395.. Val L1 norm: 1.487.. Train Linf norm: 71.379.. Val Linf norm: 93.367\n",
            "Epoch 19/129.. Train loss: 146.859.. Val loss: 55.117.. Train L1 norm: 1.434.. Val L1 norm: 1.548.. Train Linf norm: 74.497.. Val Linf norm: 104.266\n",
            "Epoch 20/129.. Train loss: 131.424.. Val loss: 58.125.. Train L1 norm: 1.479.. Val L1 norm: 1.644.. Train Linf norm: 81.677.. Val Linf norm: 120.993\n",
            "Epoch 21/129.. Train loss: 114.208.. Val loss: 57.034.. Train L1 norm: 1.539.. Val L1 norm: 1.634.. Train Linf norm: 93.999.. Val Linf norm: 119.269\n",
            "Epoch 22/129.. Train loss: 126.275.. Val loss: 55.067.. Train L1 norm: 1.485.. Val L1 norm: 1.591.. Train Linf norm: 83.275.. Val Linf norm: 111.755\n",
            "Epoch 23/129.. Train loss: 125.241.. Val loss: 54.915.. Train L1 norm: 1.493.. Val L1 norm: 1.590.. Train Linf norm: 83.974.. Val Linf norm: 111.571\n",
            "Epoch 24/129.. Train loss: 112.608.. Val loss: 54.975.. Train L1 norm: 1.471.. Val L1 norm: 1.600.. Train Linf norm: 76.846.. Val Linf norm: 113.238\n",
            "Epoch 25/129.. Train loss: 155.304.. Val loss: 54.745.. Train L1 norm: 1.454.. Val L1 norm: 1.567.. Train Linf norm: 77.671.. Val Linf norm: 107.511\n",
            "Epoch 26/129.. Train loss: 116.695.. Val loss: 54.842.. Train L1 norm: 1.442.. Val L1 norm: 1.562.. Train Linf norm: 76.135.. Val Linf norm: 106.493\n",
            "Epoch 27/129.. Train loss: 113.509.. Val loss: 54.707.. Train L1 norm: 1.454.. Val L1 norm: 1.600.. Train Linf norm: 78.360.. Val Linf norm: 113.188\n",
            "Epoch 28/129.. Train loss: 133.725.. Val loss: 55.335.. Train L1 norm: 1.454.. Val L1 norm: 1.548.. Train Linf norm: 77.833.. Val Linf norm: 103.884\n",
            "Epoch 29/129.. Train loss: 121.179.. Val loss: 54.694.. Train L1 norm: 1.433.. Val L1 norm: 1.581.. Train Linf norm: 72.996.. Val Linf norm: 109.817\n",
            "Epoch 30/129.. Train loss: 135.714.. Val loss: 54.785.. Train L1 norm: 1.470.. Val L1 norm: 1.576.. Train Linf norm: 79.554.. Val Linf norm: 108.871\n",
            "Epoch 31/129.. Train loss: 142.810.. Val loss: 54.582.. Train L1 norm: 1.498.. Val L1 norm: 1.608.. Train Linf norm: 85.122.. Val Linf norm: 114.397\n",
            "Epoch 32/129.. Train loss: 128.281.. Val loss: 54.615.. Train L1 norm: 1.502.. Val L1 norm: 1.616.. Train Linf norm: 86.744.. Val Linf norm: 115.805\n",
            "Epoch 33/129.. Train loss: 105.340.. Val loss: 54.673.. Train L1 norm: 1.493.. Val L1 norm: 1.625.. Train Linf norm: 84.790.. Val Linf norm: 117.411\n",
            "Epoch 34/129.. Train loss: 107.298.. Val loss: 54.665.. Train L1 norm: 1.513.. Val L1 norm: 1.628.. Train Linf norm: 86.019.. Val Linf norm: 117.843\n",
            "Epoch 35/129.. Train loss: 133.213.. Val loss: 55.151.. Train L1 norm: 1.511.. Val L1 norm: 1.653.. Train Linf norm: 83.786.. Val Linf norm: 122.204\n",
            "Epoch 36/129.. Train loss: 252.796.. Val loss: 54.618.. Train L1 norm: 1.510.. Val L1 norm: 1.628.. Train Linf norm: 80.842.. Val Linf norm: 117.860\n",
            "Epoch 37/129.. Train loss: 116.726.. Val loss: 54.557.. Train L1 norm: 1.492.. Val L1 norm: 1.622.. Train Linf norm: 82.693.. Val Linf norm: 116.889\n",
            "Epoch 38/129.. Train loss: 157.176.. Val loss: 54.565.. Train L1 norm: 1.488.. Val L1 norm: 1.626.. Train Linf norm: 80.820.. Val Linf norm: 117.599\n",
            "Epoch 39/129.. Train loss: 116.195.. Val loss: 54.554.. Train L1 norm: 1.499.. Val L1 norm: 1.627.. Train Linf norm: 83.027.. Val Linf norm: 117.606\n",
            "Epoch 40/129.. Train loss: 140.693.. Val loss: 54.699.. Train L1 norm: 1.503.. Val L1 norm: 1.640.. Train Linf norm: 84.760.. Val Linf norm: 119.966\n",
            "Epoch 41/129.. Train loss: 143.895.. Val loss: 54.554.. Train L1 norm: 1.510.. Val L1 norm: 1.629.. Train Linf norm: 86.720.. Val Linf norm: 118.064\n",
            "Epoch 42/129.. Train loss: 103.828.. Val loss: 54.549.. Train L1 norm: 1.508.. Val L1 norm: 1.629.. Train Linf norm: 85.721.. Val Linf norm: 118.038\n",
            "Epoch 43/129.. Train loss: 124.635.. Val loss: 54.558.. Train L1 norm: 1.510.. Val L1 norm: 1.631.. Train Linf norm: 86.370.. Val Linf norm: 118.323\n",
            "Epoch 44/129.. Train loss: 113.372.. Val loss: 54.528.. Train L1 norm: 1.508.. Val L1 norm: 1.628.. Train Linf norm: 84.563.. Val Linf norm: 117.811\n",
            "Epoch 45/129.. Train loss: 103.183.. Val loss: 54.534.. Train L1 norm: 1.500.. Val L1 norm: 1.629.. Train Linf norm: 83.393.. Val Linf norm: 118.080\n",
            "Epoch 46/129.. Train loss: 186.897.. Val loss: 54.600.. Train L1 norm: 1.506.. Val L1 norm: 1.637.. Train Linf norm: 86.765.. Val Linf norm: 119.372\n",
            "Epoch 47/129.. Train loss: 171.112.. Val loss: 54.542.. Train L1 norm: 1.522.. Val L1 norm: 1.632.. Train Linf norm: 87.494.. Val Linf norm: 118.483\n",
            "Epoch 48/129.. Train loss: 119.070.. Val loss: 54.545.. Train L1 norm: 1.527.. Val L1 norm: 1.633.. Train Linf norm: 89.507.. Val Linf norm: 118.618\n",
            "Epoch 49/129.. Train loss: 129.284.. Val loss: 54.541.. Train L1 norm: 1.519.. Val L1 norm: 1.633.. Train Linf norm: 84.557.. Val Linf norm: 118.628\n",
            "Epoch 50/129.. Train loss: 113.413.. Val loss: 54.536.. Train L1 norm: 1.509.. Val L1 norm: 1.632.. Train Linf norm: 85.702.. Val Linf norm: 118.576\n",
            "Epoch 51/129.. Train loss: 102.443.. Val loss: 54.532.. Train L1 norm: 1.509.. Val L1 norm: 1.632.. Train Linf norm: 82.455.. Val Linf norm: 118.544\n",
            "Epoch 52/129.. Train loss: 109.152.. Val loss: 54.527.. Train L1 norm: 1.509.. Val L1 norm: 1.632.. Train Linf norm: 87.324.. Val Linf norm: 118.469\n",
            "Epoch 53/129.. Train loss: 121.694.. Val loss: 54.516.. Train L1 norm: 1.506.. Val L1 norm: 1.631.. Train Linf norm: 79.733.. Val Linf norm: 118.305\n",
            "Epoch 54/129.. Train loss: 121.340.. Val loss: 54.520.. Train L1 norm: 1.499.. Val L1 norm: 1.631.. Train Linf norm: 82.781.. Val Linf norm: 118.418\n",
            "Epoch 55/129.. Train loss: 165.913.. Val loss: 54.525.. Train L1 norm: 1.509.. Val L1 norm: 1.632.. Train Linf norm: 86.582.. Val Linf norm: 118.568\n",
            "Epoch 56/129.. Train loss: 116.363.. Val loss: 54.517.. Train L1 norm: 1.519.. Val L1 norm: 1.632.. Train Linf norm: 86.552.. Val Linf norm: 118.425\n",
            "Epoch 57/129.. Train loss: 105.865.. Val loss: 54.515.. Train L1 norm: 1.504.. Val L1 norm: 1.631.. Train Linf norm: 86.272.. Val Linf norm: 118.406\n",
            "Epoch 58/129.. Train loss: 136.308.. Val loss: 54.513.. Train L1 norm: 1.523.. Val L1 norm: 1.631.. Train Linf norm: 91.402.. Val Linf norm: 118.415\n",
            "Epoch 59/129.. Train loss: 119.423.. Val loss: 54.508.. Train L1 norm: 1.511.. Val L1 norm: 1.631.. Train Linf norm: 87.774.. Val Linf norm: 118.333\n",
            "Epoch 60/129.. Train loss: 127.809.. Val loss: 54.510.. Train L1 norm: 1.502.. Val L1 norm: 1.631.. Train Linf norm: 83.863.. Val Linf norm: 118.410\n",
            "Epoch 61/129.. Train loss: 139.503.. Val loss: 54.507.. Train L1 norm: 1.514.. Val L1 norm: 1.631.. Train Linf norm: 88.402.. Val Linf norm: 118.331\n",
            "Epoch 62/129.. Train loss: 131.841.. Val loss: 54.502.. Train L1 norm: 1.515.. Val L1 norm: 1.630.. Train Linf norm: 89.008.. Val Linf norm: 118.239\n",
            "Epoch 63/129.. Train loss: 112.881.. Val loss: 54.503.. Train L1 norm: 1.509.. Val L1 norm: 1.631.. Train Linf norm: 87.468.. Val Linf norm: 118.286\n",
            "Epoch 64/129.. Train loss: 117.894.. Val loss: 54.504.. Train L1 norm: 1.504.. Val L1 norm: 1.631.. Train Linf norm: 82.625.. Val Linf norm: 118.325\n",
            "Epoch 65/129.. Train loss: 149.605.. Val loss: 54.499.. Train L1 norm: 1.503.. Val L1 norm: 1.630.. Train Linf norm: 85.155.. Val Linf norm: 118.214\n",
            "Epoch 66/129.. Train loss: 113.648.. Val loss: 54.499.. Train L1 norm: 1.496.. Val L1 norm: 1.630.. Train Linf norm: 81.910.. Val Linf norm: 118.219\n",
            "Epoch 67/129.. Train loss: 116.647.. Val loss: 54.498.. Train L1 norm: 1.502.. Val L1 norm: 1.630.. Train Linf norm: 85.124.. Val Linf norm: 118.185\n",
            "Epoch 68/129.. Train loss: 120.680.. Val loss: 54.497.. Train L1 norm: 1.502.. Val L1 norm: 1.630.. Train Linf norm: 79.891.. Val Linf norm: 118.183\n",
            "Epoch 69/129.. Train loss: 200.337.. Val loss: 54.499.. Train L1 norm: 1.521.. Val L1 norm: 1.630.. Train Linf norm: 89.150.. Val Linf norm: 118.235\n",
            "Epoch 70/129.. Train loss: 119.185.. Val loss: 54.498.. Train L1 norm: 1.519.. Val L1 norm: 1.630.. Train Linf norm: 90.327.. Val Linf norm: 118.217\n",
            "Epoch 71/129.. Train loss: 154.578.. Val loss: 54.496.. Train L1 norm: 1.514.. Val L1 norm: 1.630.. Train Linf norm: 88.824.. Val Linf norm: 118.159\n",
            "Epoch 72/129.. Train loss: 125.858.. Val loss: 54.495.. Train L1 norm: 1.520.. Val L1 norm: 1.630.. Train Linf norm: 89.073.. Val Linf norm: 118.148\n",
            "Epoch 73/129.. Train loss: 146.670.. Val loss: 54.494.. Train L1 norm: 1.509.. Val L1 norm: 1.630.. Train Linf norm: 86.558.. Val Linf norm: 118.125\n",
            "Epoch 74/129.. Train loss: 145.600.. Val loss: 54.495.. Train L1 norm: 1.511.. Val L1 norm: 1.630.. Train Linf norm: 87.131.. Val Linf norm: 118.137\n",
            "Epoch 75/129.. Train loss: 126.704.. Val loss: 54.494.. Train L1 norm: 1.507.. Val L1 norm: 1.630.. Train Linf norm: 85.412.. Val Linf norm: 118.119\n",
            "Epoch 76/129.. Train loss: 119.854.. Val loss: 54.494.. Train L1 norm: 1.507.. Val L1 norm: 1.630.. Train Linf norm: 86.419.. Val Linf norm: 118.131\n",
            "Epoch 77/129.. Train loss: 104.923.. Val loss: 54.494.. Train L1 norm: 1.493.. Val L1 norm: 1.630.. Train Linf norm: 81.820.. Val Linf norm: 118.135\n",
            "Epoch 78/129.. Train loss: 131.062.. Val loss: 54.494.. Train L1 norm: 1.514.. Val L1 norm: 1.630.. Train Linf norm: 87.207.. Val Linf norm: 118.143\n",
            "Epoch 79/129.. Train loss: 163.234.. Val loss: 54.495.. Train L1 norm: 1.505.. Val L1 norm: 1.630.. Train Linf norm: 84.089.. Val Linf norm: 118.152\n",
            "Epoch 80/129.. Train loss: 112.309.. Val loss: 54.495.. Train L1 norm: 1.497.. Val L1 norm: 1.630.. Train Linf norm: 81.929.. Val Linf norm: 118.154\n",
            "Epoch 81/129.. Train loss: 105.085.. Val loss: 54.495.. Train L1 norm: 1.518.. Val L1 norm: 1.630.. Train Linf norm: 87.410.. Val Linf norm: 118.155\n",
            "Epoch 82/129.. Train loss: 197.293.. Val loss: 54.495.. Train L1 norm: 1.499.. Val L1 norm: 1.630.. Train Linf norm: 84.481.. Val Linf norm: 118.166\n",
            "Epoch 83/129.. Train loss: 117.598.. Val loss: 54.495.. Train L1 norm: 1.507.. Val L1 norm: 1.630.. Train Linf norm: 84.387.. Val Linf norm: 118.169\n",
            "Epoch 84/129.. Train loss: 129.665.. Val loss: 54.495.. Train L1 norm: 1.521.. Val L1 norm: 1.630.. Train Linf norm: 89.001.. Val Linf norm: 118.170\n",
            "Epoch 85/129.. Train loss: 116.915.. Val loss: 54.495.. Train L1 norm: 1.532.. Val L1 norm: 1.630.. Train Linf norm: 91.380.. Val Linf norm: 118.167\n",
            "Epoch 86/129.. Train loss: 110.169.. Val loss: 54.495.. Train L1 norm: 1.509.. Val L1 norm: 1.630.. Train Linf norm: 87.283.. Val Linf norm: 118.167\n",
            "Epoch 87/129.. Train loss: 104.806.. Val loss: 54.495.. Train L1 norm: 1.535.. Val L1 norm: 1.630.. Train Linf norm: 94.948.. Val Linf norm: 118.167\n",
            "Epoch 88/129.. Train loss: 156.058.. Val loss: 54.495.. Train L1 norm: 1.508.. Val L1 norm: 1.630.. Train Linf norm: 87.517.. Val Linf norm: 118.166\n",
            "Epoch 89/129.. Train loss: 110.756.. Val loss: 54.495.. Train L1 norm: 1.496.. Val L1 norm: 1.630.. Train Linf norm: 82.726.. Val Linf norm: 118.164\n",
            "Epoch 90/129.. Train loss: 108.533.. Val loss: 54.495.. Train L1 norm: 1.501.. Val L1 norm: 1.630.. Train Linf norm: 83.568.. Val Linf norm: 118.165\n",
            "Epoch 91/129.. Train loss: 104.498.. Val loss: 54.495.. Train L1 norm: 1.513.. Val L1 norm: 1.630.. Train Linf norm: 84.920.. Val Linf norm: 118.164\n",
            "Epoch 92/129.. Train loss: 109.368.. Val loss: 54.495.. Train L1 norm: 1.509.. Val L1 norm: 1.630.. Train Linf norm: 80.876.. Val Linf norm: 118.164\n",
            "Epoch 93/129.. Train loss: 191.367.. Val loss: 54.495.. Train L1 norm: 1.513.. Val L1 norm: 1.630.. Train Linf norm: 87.491.. Val Linf norm: 118.160\n",
            "Epoch 94/129.. Train loss: 122.374.. Val loss: 54.495.. Train L1 norm: 1.511.. Val L1 norm: 1.630.. Train Linf norm: 86.753.. Val Linf norm: 118.159\n",
            "Epoch 95/129.. Train loss: 140.209.. Val loss: 54.495.. Train L1 norm: 1.525.. Val L1 norm: 1.630.. Train Linf norm: 88.274.. Val Linf norm: 118.161\n",
            "Epoch 96/129.. Train loss: 105.094.. Val loss: 54.495.. Train L1 norm: 1.510.. Val L1 norm: 1.630.. Train Linf norm: 85.233.. Val Linf norm: 118.160\n",
            "Epoch 97/129.. Train loss: 106.985.. Val loss: 54.495.. Train L1 norm: 1.514.. Val L1 norm: 1.630.. Train Linf norm: 86.151.. Val Linf norm: 118.160\n",
            "Epoch 98/129.. Train loss: 159.193.. Val loss: 54.495.. Train L1 norm: 1.505.. Val L1 norm: 1.630.. Train Linf norm: 82.555.. Val Linf norm: 118.157\n",
            "Epoch 99/129.. Train loss: 111.309.. Val loss: 54.495.. Train L1 norm: 1.514.. Val L1 norm: 1.630.. Train Linf norm: 88.517.. Val Linf norm: 118.157\n",
            "Epoch 100/129.. Train loss: 118.285.. Val loss: 54.495.. Train L1 norm: 1.497.. Val L1 norm: 1.630.. Train Linf norm: 81.692.. Val Linf norm: 118.156\n",
            "Epoch 101/129.. Train loss: 121.032.. Val loss: 54.495.. Train L1 norm: 1.514.. Val L1 norm: 1.630.. Train Linf norm: 84.812.. Val Linf norm: 118.155\n",
            "Epoch 102/129.. Train loss: 105.275.. Val loss: 54.495.. Train L1 norm: 1.531.. Val L1 norm: 1.630.. Train Linf norm: 94.354.. Val Linf norm: 118.155\n",
            "Epoch 103/129.. Train loss: 125.734.. Val loss: 54.495.. Train L1 norm: 1.511.. Val L1 norm: 1.630.. Train Linf norm: 85.121.. Val Linf norm: 118.153\n",
            "Epoch 104/129.. Train loss: 119.605.. Val loss: 54.495.. Train L1 norm: 1.506.. Val L1 norm: 1.630.. Train Linf norm: 84.715.. Val Linf norm: 118.153\n",
            "Epoch 105/129.. Train loss: 121.504.. Val loss: 54.495.. Train L1 norm: 1.517.. Val L1 norm: 1.630.. Train Linf norm: 86.827.. Val Linf norm: 118.155\n",
            "Epoch 106/129.. Train loss: 112.404.. Val loss: 54.495.. Train L1 norm: 1.500.. Val L1 norm: 1.630.. Train Linf norm: 83.927.. Val Linf norm: 118.154\n",
            "Epoch 107/129.. Train loss: 161.169.. Val loss: 54.495.. Train L1 norm: 1.506.. Val L1 norm: 1.630.. Train Linf norm: 86.108.. Val Linf norm: 118.152\n",
            "Epoch 108/129.. Train loss: 106.120.. Val loss: 54.495.. Train L1 norm: 1.505.. Val L1 norm: 1.630.. Train Linf norm: 85.539.. Val Linf norm: 118.151\n",
            "Epoch 109/129.. Train loss: 113.900.. Val loss: 54.495.. Train L1 norm: 1.501.. Val L1 norm: 1.630.. Train Linf norm: 85.289.. Val Linf norm: 118.152\n",
            "Epoch 110/129.. Train loss: 121.065.. Val loss: 54.495.. Train L1 norm: 1.504.. Val L1 norm: 1.630.. Train Linf norm: 84.884.. Val Linf norm: 118.151\n",
            "Epoch 111/129.. Train loss: 167.235.. Val loss: 54.494.. Train L1 norm: 1.517.. Val L1 norm: 1.630.. Train Linf norm: 84.955.. Val Linf norm: 118.148\n",
            "Epoch 112/129.. Train loss: 107.611.. Val loss: 54.494.. Train L1 norm: 1.517.. Val L1 norm: 1.630.. Train Linf norm: 87.355.. Val Linf norm: 118.148\n",
            "Epoch 113/129.. Train loss: 101.246.. Val loss: 54.494.. Train L1 norm: 1.497.. Val L1 norm: 1.630.. Train Linf norm: 82.779.. Val Linf norm: 118.148\n",
            "Epoch 114/129.. Train loss: 114.497.. Val loss: 54.494.. Train L1 norm: 1.504.. Val L1 norm: 1.630.. Train Linf norm: 87.944.. Val Linf norm: 118.148\n",
            "Epoch 115/129.. Train loss: 163.692.. Val loss: 54.495.. Train L1 norm: 1.519.. Val L1 norm: 1.630.. Train Linf norm: 87.313.. Val Linf norm: 118.150\n",
            "Epoch 116/129.. Train loss: 115.469.. Val loss: 54.495.. Train L1 norm: 1.510.. Val L1 norm: 1.630.. Train Linf norm: 86.757.. Val Linf norm: 118.149\n",
            "Epoch 117/129.. Train loss: 146.590.. Val loss: 54.494.. Train L1 norm: 1.519.. Val L1 norm: 1.630.. Train Linf norm: 88.919.. Val Linf norm: 118.147\n",
            "Epoch 118/129.. Train loss: 118.213.. Val loss: 54.494.. Train L1 norm: 1.506.. Val L1 norm: 1.630.. Train Linf norm: 85.212.. Val Linf norm: 118.146\n",
            "Epoch 119/129.. Train loss: 149.889.. Val loss: 54.494.. Train L1 norm: 1.506.. Val L1 norm: 1.630.. Train Linf norm: 85.211.. Val Linf norm: 118.144\n",
            "Epoch 120/129.. Train loss: 131.262.. Val loss: 54.494.. Train L1 norm: 1.503.. Val L1 norm: 1.630.. Train Linf norm: 81.888.. Val Linf norm: 118.144\n",
            "Epoch 121/129.. Train loss: 116.391.. Val loss: 54.494.. Train L1 norm: 1.516.. Val L1 norm: 1.630.. Train Linf norm: 89.184.. Val Linf norm: 118.144\n",
            "Epoch 122/129.. Train loss: 101.136.. Val loss: 54.494.. Train L1 norm: 1.508.. Val L1 norm: 1.630.. Train Linf norm: 87.002.. Val Linf norm: 118.144\n",
            "Epoch 123/129.. Train loss: 120.568.. Val loss: 54.494.. Train L1 norm: 1.506.. Val L1 norm: 1.630.. Train Linf norm: 87.968.. Val Linf norm: 118.145\n",
            "Epoch 124/129.. Train loss: 147.290.. Val loss: 54.494.. Train L1 norm: 1.512.. Val L1 norm: 1.630.. Train Linf norm: 86.907.. Val Linf norm: 118.147\n",
            "Epoch 125/129.. Train loss: 129.248.. Val loss: 54.494.. Train L1 norm: 1.502.. Val L1 norm: 1.630.. Train Linf norm: 83.350.. Val Linf norm: 118.145\n",
            "Epoch 126/129.. Train loss: 123.335.. Val loss: 54.494.. Train L1 norm: 1.496.. Val L1 norm: 1.630.. Train Linf norm: 84.772.. Val Linf norm: 118.143\n",
            "Epoch 127/129.. Train loss: 169.927.. Val loss: 54.494.. Train L1 norm: 1.517.. Val L1 norm: 1.630.. Train Linf norm: 85.311.. Val Linf norm: 118.146\n",
            "Epoch 128/129.. Train loss: 109.593.. Val loss: 54.494.. Train L1 norm: 1.516.. Val L1 norm: 1.630.. Train Linf norm: 88.860.. Val Linf norm: 118.146\n"
          ]
        },
        {
          "output_type": "stream",
          "name": "stderr",
          "text": [
            "[I 2023-05-31 21:48:41,309] Trial 19 finished with value: 1.6299285711288451 and parameters: {'batch_size': 256, 'dropout_rate': 0.2839993326588675, 'factor': 0.48029747695796626, 'hidden_activation': 'PReLU', 'loss': 'MSE', 'lr': 0.0002303174691731207, 'n_epochs': 129, 'n_layers': 8, 'n_units_0': 2276, 'n_units_1': 2923, 'n_units_2': 1480, 'n_units_3': 4081, 'n_units_4': 3676, 'n_units_5': 3052, 'n_units_6': 3837, 'n_units_7': 1804, 'optimizer': 'Adagrad', 'output_activation': 'Linear', 'patience': 5, 'prelu_init': 0.296951194459223, 'scheduler': 'ReduceLROnPlateau', 'threshold': 0.009429415682825288}. Best is trial 3 with value: 1.1057661293665568.\n"
          ]
        },
        {
          "output_type": "stream",
          "name": "stdout",
          "text": [
            "Epoch 129/129.. Train loss: 148.496.. Val loss: 54.494.. Train L1 norm: 1.508.. Val L1 norm: 1.630.. Train Linf norm: 84.025.. Val Linf norm: 118.143\n"
          ]
        },
        {
          "output_type": "stream",
          "name": "stderr",
          "text": [
            "[I 2023-05-31 21:48:49,622] Trial 20 pruned. \n"
          ]
        },
        {
          "output_type": "stream",
          "name": "stdout",
          "text": [
            "Epoch 1/99.. Train loss: 10383.360.. Val loss: 165.757.. Train L1 norm: 3.123.. Val L1 norm: 4.334.. Train Linf norm: 178.840.. Val Linf norm: 297.770\n",
            "Epoch 1/130.. Train loss: 41903.824.. Val loss: 65.341.. Train L1 norm: 1.511.. Val L1 norm: 1.036.. Train Linf norm: 91.109.. Val Linf norm: 8.228\n",
            "Epoch 2/130.. Train loss: 199.580.. Val loss: 63.494.. Train L1 norm: 1.097.. Val L1 norm: 1.043.. Train Linf norm: 21.243.. Val Linf norm: 10.303\n",
            "Epoch 3/130.. Train loss: 186.651.. Val loss: 59.043.. Train L1 norm: 1.134.. Val L1 norm: 1.080.. Train Linf norm: 29.340.. Val Linf norm: 18.638\n",
            "Epoch 4/130.. Train loss: 138.193.. Val loss: 70.879.. Train L1 norm: 1.138.. Val L1 norm: 1.347.. Train Linf norm: 28.149.. Val Linf norm: 70.009\n",
            "Epoch 5/130.. Train loss: 134.454.. Val loss: 56.945.. Train L1 norm: 1.274.. Val L1 norm: 1.226.. Train Linf norm: 49.326.. Val Linf norm: 47.719\n",
            "Epoch 6/130.. Train loss: 454.724.. Val loss: 101.986.. Train L1 norm: 1.168.. Val L1 norm: 1.119.. Train Linf norm: 33.275.. Val Linf norm: 21.998\n",
            "Epoch 7/130.. Train loss: 241.346.. Val loss: 63.186.. Train L1 norm: 1.175.. Val L1 norm: 1.123.. Train Linf norm: 34.765.. Val Linf norm: 27.015\n",
            "Epoch 8/130.. Train loss: 155.665.. Val loss: 57.533.. Train L1 norm: 1.261.. Val L1 norm: 1.313.. Train Linf norm: 51.622.. Val Linf norm: 64.025\n",
            "Epoch 9/130.. Train loss: 120.113.. Val loss: 57.947.. Train L1 norm: 1.263.. Val L1 norm: 1.229.. Train Linf norm: 50.103.. Val Linf norm: 47.967\n",
            "Epoch 10/130.. Train loss: 114.524.. Val loss: 62.889.. Train L1 norm: 1.210.. Val L1 norm: 1.196.. Train Linf norm: 38.561.. Val Linf norm: 41.373\n",
            "Epoch 11/130.. Train loss: 134.119.. Val loss: 81.723.. Train L1 norm: 1.206.. Val L1 norm: 1.119.. Train Linf norm: 38.204.. Val Linf norm: 25.171\n",
            "Epoch 12/130.. Train loss: 185.855.. Val loss: 63.949.. Train L1 norm: 1.196.. Val L1 norm: 1.205.. Train Linf norm: 38.165.. Val Linf norm: 42.953\n",
            "Epoch 13/130.. Train loss: 151.930.. Val loss: 55.703.. Train L1 norm: 1.220.. Val L1 norm: 1.337.. Train Linf norm: 40.495.. Val Linf norm: 68.053\n",
            "Epoch 14/130.. Train loss: 198.058.. Val loss: 61.056.. Train L1 norm: 1.238.. Val L1 norm: 1.241.. Train Linf norm: 45.562.. Val Linf norm: 49.705\n",
            "Epoch 15/130.. Train loss: 142.173.. Val loss: 62.657.. Train L1 norm: 1.196.. Val L1 norm: 1.230.. Train Linf norm: 36.733.. Val Linf norm: 47.399\n",
            "Epoch 16/130.. Train loss: 109.574.. Val loss: 58.530.. Train L1 norm: 1.250.. Val L1 norm: 1.280.. Train Linf norm: 46.988.. Val Linf norm: 57.034\n",
            "Epoch 17/130.. Train loss: 139.073.. Val loss: 61.949.. Train L1 norm: 1.243.. Val L1 norm: 1.250.. Train Linf norm: 45.134.. Val Linf norm: 51.211\n",
            "Epoch 18/130.. Train loss: 110.221.. Val loss: 57.446.. Train L1 norm: 1.258.. Val L1 norm: 1.309.. Train Linf norm: 47.768.. Val Linf norm: 62.312\n",
            "Epoch 19/130.. Train loss: 116.639.. Val loss: 57.983.. Train L1 norm: 1.295.. Val L1 norm: 1.307.. Train Linf norm: 53.831.. Val Linf norm: 61.886\n",
            "Epoch 20/130.. Train loss: 123.071.. Val loss: 59.504.. Train L1 norm: 1.286.. Val L1 norm: 1.291.. Train Linf norm: 52.938.. Val Linf norm: 58.752\n",
            "Epoch 21/130.. Train loss: 159.166.. Val loss: 56.899.. Train L1 norm: 1.320.. Val L1 norm: 1.332.. Train Linf norm: 56.558.. Val Linf norm: 66.422\n",
            "Epoch 22/130.. Train loss: 109.579.. Val loss: 56.957.. Train L1 norm: 1.328.. Val L1 norm: 1.335.. Train Linf norm: 61.178.. Val Linf norm: 66.954\n",
            "Epoch 23/130.. Train loss: 159.751.. Val loss: 60.211.. Train L1 norm: 1.290.. Val L1 norm: 1.294.. Train Linf norm: 53.150.. Val Linf norm: 59.177\n",
            "Epoch 24/130.. Train loss: 105.117.. Val loss: 59.739.. Train L1 norm: 1.276.. Val L1 norm: 1.302.. Train Linf norm: 48.475.. Val Linf norm: 60.733\n",
            "Epoch 25/130.. Train loss: 106.234.. Val loss: 58.670.. Train L1 norm: 1.288.. Val L1 norm: 1.318.. Train Linf norm: 52.019.. Val Linf norm: 63.679\n",
            "Epoch 26/130.. Train loss: 117.099.. Val loss: 58.673.. Train L1 norm: 1.297.. Val L1 norm: 1.319.. Train Linf norm: 52.666.. Val Linf norm: 63.919\n",
            "Epoch 27/130.. Train loss: 105.724.. Val loss: 58.569.. Train L1 norm: 1.305.. Val L1 norm: 1.323.. Train Linf norm: 55.488.. Val Linf norm: 64.526\n",
            "Epoch 28/130.. Train loss: 111.164.. Val loss: 58.758.. Train L1 norm: 1.318.. Val L1 norm: 1.321.. Train Linf norm: 59.058.. Val Linf norm: 64.289\n",
            "Epoch 29/130.. Train loss: 119.334.. Val loss: 58.210.. Train L1 norm: 1.307.. Val L1 norm: 1.331.. Train Linf norm: 55.397.. Val Linf norm: 65.977\n",
            "Epoch 30/130.. Train loss: 104.415.. Val loss: 57.838.. Train L1 norm: 1.319.. Val L1 norm: 1.337.. Train Linf norm: 58.504.. Val Linf norm: 67.211\n",
            "Epoch 31/130.. Train loss: 138.769.. Val loss: 59.215.. Train L1 norm: 1.310.. Val L1 norm: 1.321.. Train Linf norm: 56.676.. Val Linf norm: 64.079\n",
            "Epoch 32/130.. Train loss: 114.806.. Val loss: 58.907.. Train L1 norm: 1.296.. Val L1 norm: 1.325.. Train Linf norm: 54.503.. Val Linf norm: 64.873\n",
            "Epoch 33/130.. Train loss: 111.407.. Val loss: 59.168.. Train L1 norm: 1.308.. Val L1 norm: 1.322.. Train Linf norm: 56.564.. Val Linf norm: 64.378\n",
            "Epoch 34/130.. Train loss: 104.774.. Val loss: 59.298.. Train L1 norm: 1.306.. Val L1 norm: 1.322.. Train Linf norm: 56.594.. Val Linf norm: 64.219\n",
            "Epoch 35/130.. Train loss: 127.400.. Val loss: 58.683.. Train L1 norm: 1.305.. Val L1 norm: 1.330.. Train Linf norm: 53.147.. Val Linf norm: 65.735\n",
            "Epoch 36/130.. Train loss: 114.986.. Val loss: 58.579.. Train L1 norm: 1.314.. Val L1 norm: 1.332.. Train Linf norm: 57.066.. Val Linf norm: 66.104\n",
            "Epoch 37/130.. Train loss: 134.992.. Val loss: 59.100.. Train L1 norm: 1.304.. Val L1 norm: 1.326.. Train Linf norm: 55.222.. Val Linf norm: 64.978\n",
            "Epoch 38/130.. Train loss: 116.366.. Val loss: 58.910.. Train L1 norm: 1.298.. Val L1 norm: 1.328.. Train Linf norm: 55.354.. Val Linf norm: 65.469\n",
            "Epoch 39/130.. Train loss: 152.067.. Val loss: 58.647.. Train L1 norm: 1.293.. Val L1 norm: 1.332.. Train Linf norm: 49.812.. Val Linf norm: 66.142\n",
            "Epoch 40/130.. Train loss: 139.028.. Val loss: 58.412.. Train L1 norm: 1.331.. Val L1 norm: 1.335.. Train Linf norm: 60.365.. Val Linf norm: 66.764\n",
            "Epoch 41/130.. Train loss: 109.856.. Val loss: 58.320.. Train L1 norm: 1.326.. Val L1 norm: 1.337.. Train Linf norm: 59.997.. Val Linf norm: 67.061\n",
            "Epoch 42/130.. Train loss: 124.797.. Val loss: 58.058.. Train L1 norm: 1.324.. Val L1 norm: 1.341.. Train Linf norm: 60.135.. Val Linf norm: 67.812\n",
            "Epoch 43/130.. Train loss: 132.289.. Val loss: 58.262.. Train L1 norm: 1.329.. Val L1 norm: 1.339.. Train Linf norm: 61.789.. Val Linf norm: 67.325\n",
            "Epoch 44/130.. Train loss: 135.446.. Val loss: 58.111.. Train L1 norm: 1.297.. Val L1 norm: 1.341.. Train Linf norm: 51.904.. Val Linf norm: 67.748\n",
            "Epoch 45/130.. Train loss: 106.066.. Val loss: 58.142.. Train L1 norm: 1.319.. Val L1 norm: 1.341.. Train Linf norm: 57.155.. Val Linf norm: 67.701\n",
            "Epoch 46/130.. Train loss: 124.263.. Val loss: 58.271.. Train L1 norm: 1.321.. Val L1 norm: 1.339.. Train Linf norm: 54.802.. Val Linf norm: 67.400\n",
            "Epoch 47/130.. Train loss: 179.082.. Val loss: 58.069.. Train L1 norm: 1.316.. Val L1 norm: 1.342.. Train Linf norm: 56.108.. Val Linf norm: 67.924\n",
            "Epoch 48/130.. Train loss: 119.636.. Val loss: 58.049.. Train L1 norm: 1.309.. Val L1 norm: 1.342.. Train Linf norm: 55.176.. Val Linf norm: 68.013\n",
            "Epoch 49/130.. Train loss: 161.356.. Val loss: 58.192.. Train L1 norm: 1.326.. Val L1 norm: 1.340.. Train Linf norm: 59.203.. Val Linf norm: 67.656\n",
            "Epoch 50/130.. Train loss: 215.321.. Val loss: 58.263.. Train L1 norm: 1.317.. Val L1 norm: 1.339.. Train Linf norm: 57.368.. Val Linf norm: 67.479\n",
            "Epoch 51/130.. Train loss: 111.904.. Val loss: 58.222.. Train L1 norm: 1.320.. Val L1 norm: 1.340.. Train Linf norm: 56.688.. Val Linf norm: 67.595\n",
            "Epoch 52/130.. Train loss: 110.435.. Val loss: 58.230.. Train L1 norm: 1.325.. Val L1 norm: 1.340.. Train Linf norm: 59.779.. Val Linf norm: 67.585\n",
            "Epoch 53/130.. Train loss: 134.078.. Val loss: 58.281.. Train L1 norm: 1.331.. Val L1 norm: 1.339.. Train Linf norm: 59.756.. Val Linf norm: 67.465\n",
            "Epoch 54/130.. Train loss: 170.537.. Val loss: 58.354.. Train L1 norm: 1.308.. Val L1 norm: 1.338.. Train Linf norm: 54.893.. Val Linf norm: 67.290\n",
            "Epoch 55/130.. Train loss: 114.678.. Val loss: 58.355.. Train L1 norm: 1.315.. Val L1 norm: 1.338.. Train Linf norm: 55.978.. Val Linf norm: 67.301\n",
            "Epoch 56/130.. Train loss: 117.417.. Val loss: 58.332.. Train L1 norm: 1.304.. Val L1 norm: 1.339.. Train Linf norm: 54.843.. Val Linf norm: 67.364\n",
            "Epoch 57/130.. Train loss: 190.784.. Val loss: 58.368.. Train L1 norm: 1.312.. Val L1 norm: 1.338.. Train Linf norm: 53.781.. Val Linf norm: 67.279\n",
            "Epoch 58/130.. Train loss: 111.056.. Val loss: 58.376.. Train L1 norm: 1.307.. Val L1 norm: 1.338.. Train Linf norm: 55.781.. Val Linf norm: 67.260\n",
            "Epoch 59/130.. Train loss: 107.828.. Val loss: 58.383.. Train L1 norm: 1.315.. Val L1 norm: 1.338.. Train Linf norm: 55.018.. Val Linf norm: 67.248\n",
            "Epoch 60/130.. Train loss: 107.536.. Val loss: 58.397.. Train L1 norm: 1.310.. Val L1 norm: 1.338.. Train Linf norm: 55.606.. Val Linf norm: 67.220\n",
            "Epoch 61/130.. Train loss: 142.052.. Val loss: 58.373.. Train L1 norm: 1.304.. Val L1 norm: 1.338.. Train Linf norm: 55.538.. Val Linf norm: 67.288\n",
            "Epoch 62/130.. Train loss: 109.000.. Val loss: 58.371.. Train L1 norm: 1.336.. Val L1 norm: 1.338.. Train Linf norm: 63.286.. Val Linf norm: 67.297\n",
            "Epoch 63/130.. Train loss: 106.598.. Val loss: 58.366.. Train L1 norm: 1.318.. Val L1 norm: 1.339.. Train Linf norm: 58.400.. Val Linf norm: 67.312\n",
            "Epoch 64/130.. Train loss: 106.845.. Val loss: 58.363.. Train L1 norm: 1.321.. Val L1 norm: 1.339.. Train Linf norm: 55.781.. Val Linf norm: 67.322\n",
            "Epoch 65/130.. Train loss: 136.526.. Val loss: 58.347.. Train L1 norm: 1.320.. Val L1 norm: 1.339.. Train Linf norm: 59.259.. Val Linf norm: 67.364\n",
            "Epoch 66/130.. Train loss: 114.926.. Val loss: 58.342.. Train L1 norm: 1.310.. Val L1 norm: 1.339.. Train Linf norm: 55.055.. Val Linf norm: 67.381\n",
            "Epoch 67/130.. Train loss: 125.503.. Val loss: 58.354.. Train L1 norm: 1.315.. Val L1 norm: 1.339.. Train Linf norm: 56.397.. Val Linf norm: 67.353\n",
            "Epoch 68/130.. Train loss: 123.439.. Val loss: 58.348.. Train L1 norm: 1.333.. Val L1 norm: 1.339.. Train Linf norm: 60.947.. Val Linf norm: 67.369\n",
            "Epoch 69/130.. Train loss: 113.136.. Val loss: 58.351.. Train L1 norm: 1.315.. Val L1 norm: 1.339.. Train Linf norm: 57.600.. Val Linf norm: 67.363\n",
            "Epoch 70/130.. Train loss: 107.701.. Val loss: 58.348.. Train L1 norm: 1.311.. Val L1 norm: 1.339.. Train Linf norm: 56.375.. Val Linf norm: 67.371\n",
            "Epoch 71/130.. Train loss: 107.519.. Val loss: 58.349.. Train L1 norm: 1.313.. Val L1 norm: 1.339.. Train Linf norm: 55.796.. Val Linf norm: 67.371\n",
            "Epoch 72/130.. Train loss: 109.625.. Val loss: 58.355.. Train L1 norm: 1.304.. Val L1 norm: 1.339.. Train Linf norm: 53.822.. Val Linf norm: 67.356\n",
            "Epoch 73/130.. Train loss: 118.067.. Val loss: 58.354.. Train L1 norm: 1.322.. Val L1 norm: 1.339.. Train Linf norm: 58.657.. Val Linf norm: 67.359\n",
            "Epoch 74/130.. Train loss: 113.280.. Val loss: 58.354.. Train L1 norm: 1.315.. Val L1 norm: 1.339.. Train Linf norm: 57.812.. Val Linf norm: 67.360\n",
            "Epoch 75/130.. Train loss: 105.523.. Val loss: 58.355.. Train L1 norm: 1.320.. Val L1 norm: 1.339.. Train Linf norm: 58.363.. Val Linf norm: 67.358\n",
            "Epoch 76/130.. Train loss: 107.686.. Val loss: 58.355.. Train L1 norm: 1.320.. Val L1 norm: 1.339.. Train Linf norm: 58.097.. Val Linf norm: 67.359\n",
            "Epoch 77/130.. Train loss: 162.080.. Val loss: 58.349.. Train L1 norm: 1.313.. Val L1 norm: 1.339.. Train Linf norm: 56.154.. Val Linf norm: 67.373\n",
            "Epoch 78/130.. Train loss: 122.063.. Val loss: 58.352.. Train L1 norm: 1.303.. Val L1 norm: 1.339.. Train Linf norm: 54.438.. Val Linf norm: 67.368\n",
            "Epoch 79/130.. Train loss: 124.018.. Val loss: 58.354.. Train L1 norm: 1.325.. Val L1 norm: 1.339.. Train Linf norm: 59.360.. Val Linf norm: 67.363\n",
            "Epoch 80/130.. Train loss: 126.853.. Val loss: 58.355.. Train L1 norm: 1.299.. Val L1 norm: 1.339.. Train Linf norm: 53.548.. Val Linf norm: 67.360\n",
            "Epoch 81/130.. Train loss: 105.398.. Val loss: 58.355.. Train L1 norm: 1.317.. Val L1 norm: 1.339.. Train Linf norm: 56.344.. Val Linf norm: 67.360\n",
            "Epoch 82/130.. Train loss: 128.563.. Val loss: 58.356.. Train L1 norm: 1.330.. Val L1 norm: 1.339.. Train Linf norm: 59.514.. Val Linf norm: 67.358\n",
            "Epoch 83/130.. Train loss: 112.265.. Val loss: 58.356.. Train L1 norm: 1.311.. Val L1 norm: 1.339.. Train Linf norm: 54.479.. Val Linf norm: 67.357\n",
            "Epoch 84/130.. Train loss: 118.009.. Val loss: 58.356.. Train L1 norm: 1.318.. Val L1 norm: 1.339.. Train Linf norm: 55.232.. Val Linf norm: 67.357\n",
            "Epoch 85/130.. Train loss: 160.440.. Val loss: 58.358.. Train L1 norm: 1.312.. Val L1 norm: 1.339.. Train Linf norm: 56.517.. Val Linf norm: 67.352\n",
            "Epoch 86/130.. Train loss: 114.813.. Val loss: 58.358.. Train L1 norm: 1.310.. Val L1 norm: 1.339.. Train Linf norm: 55.096.. Val Linf norm: 67.353\n",
            "Epoch 87/130.. Train loss: 106.186.. Val loss: 58.358.. Train L1 norm: 1.318.. Val L1 norm: 1.339.. Train Linf norm: 57.069.. Val Linf norm: 67.353\n",
            "Epoch 88/130.. Train loss: 118.677.. Val loss: 58.358.. Train L1 norm: 1.318.. Val L1 norm: 1.339.. Train Linf norm: 57.082.. Val Linf norm: 67.354\n",
            "Epoch 89/130.. Train loss: 104.884.. Val loss: 58.358.. Train L1 norm: 1.310.. Val L1 norm: 1.339.. Train Linf norm: 55.326.. Val Linf norm: 67.354\n",
            "Epoch 90/130.. Train loss: 137.062.. Val loss: 58.358.. Train L1 norm: 1.328.. Val L1 norm: 1.339.. Train Linf norm: 60.551.. Val Linf norm: 67.355\n",
            "Epoch 91/130.. Train loss: 107.792.. Val loss: 58.357.. Train L1 norm: 1.329.. Val L1 norm: 1.339.. Train Linf norm: 58.635.. Val Linf norm: 67.355\n",
            "Epoch 92/130.. Train loss: 140.052.. Val loss: 58.357.. Train L1 norm: 1.314.. Val L1 norm: 1.339.. Train Linf norm: 57.290.. Val Linf norm: 67.356\n",
            "Epoch 93/130.. Train loss: 104.018.. Val loss: 58.357.. Train L1 norm: 1.313.. Val L1 norm: 1.339.. Train Linf norm: 56.073.. Val Linf norm: 67.356\n",
            "Epoch 94/130.. Train loss: 108.500.. Val loss: 58.357.. Train L1 norm: 1.315.. Val L1 norm: 1.339.. Train Linf norm: 53.454.. Val Linf norm: 67.356\n",
            "Epoch 95/130.. Train loss: 108.591.. Val loss: 58.357.. Train L1 norm: 1.322.. Val L1 norm: 1.339.. Train Linf norm: 58.723.. Val Linf norm: 67.356\n",
            "Epoch 96/130.. Train loss: 176.819.. Val loss: 58.358.. Train L1 norm: 1.295.. Val L1 norm: 1.339.. Train Linf norm: 52.777.. Val Linf norm: 67.355\n",
            "Epoch 97/130.. Train loss: 130.123.. Val loss: 58.358.. Train L1 norm: 1.312.. Val L1 norm: 1.339.. Train Linf norm: 55.451.. Val Linf norm: 67.354\n",
            "Epoch 98/130.. Train loss: 112.031.. Val loss: 58.358.. Train L1 norm: 1.299.. Val L1 norm: 1.339.. Train Linf norm: 52.950.. Val Linf norm: 67.354\n",
            "Epoch 99/130.. Train loss: 109.945.. Val loss: 58.358.. Train L1 norm: 1.311.. Val L1 norm: 1.339.. Train Linf norm: 56.549.. Val Linf norm: 67.354\n",
            "Epoch 100/130.. Train loss: 196.902.. Val loss: 58.358.. Train L1 norm: 1.314.. Val L1 norm: 1.339.. Train Linf norm: 54.972.. Val Linf norm: 67.352\n",
            "Epoch 101/130.. Train loss: 131.905.. Val loss: 58.359.. Train L1 norm: 1.308.. Val L1 norm: 1.339.. Train Linf norm: 53.389.. Val Linf norm: 67.351\n",
            "Epoch 102/130.. Train loss: 106.929.. Val loss: 58.359.. Train L1 norm: 1.311.. Val L1 norm: 1.339.. Train Linf norm: 52.929.. Val Linf norm: 67.351\n",
            "Epoch 103/130.. Train loss: 116.884.. Val loss: 58.359.. Train L1 norm: 1.310.. Val L1 norm: 1.339.. Train Linf norm: 55.053.. Val Linf norm: 67.351\n",
            "Epoch 104/130.. Train loss: 119.732.. Val loss: 58.359.. Train L1 norm: 1.316.. Val L1 norm: 1.339.. Train Linf norm: 55.338.. Val Linf norm: 67.352\n",
            "Epoch 105/130.. Train loss: 108.299.. Val loss: 58.359.. Train L1 norm: 1.327.. Val L1 norm: 1.339.. Train Linf norm: 58.834.. Val Linf norm: 67.352\n",
            "Epoch 106/130.. Train loss: 110.524.. Val loss: 58.359.. Train L1 norm: 1.321.. Val L1 norm: 1.339.. Train Linf norm: 58.971.. Val Linf norm: 67.351\n",
            "Epoch 107/130.. Train loss: 110.317.. Val loss: 58.359.. Train L1 norm: 1.320.. Val L1 norm: 1.339.. Train Linf norm: 56.804.. Val Linf norm: 67.351\n",
            "Epoch 108/130.. Train loss: 113.888.. Val loss: 58.359.. Train L1 norm: 1.306.. Val L1 norm: 1.339.. Train Linf norm: 54.105.. Val Linf norm: 67.351\n",
            "Epoch 109/130.. Train loss: 115.512.. Val loss: 58.359.. Train L1 norm: 1.304.. Val L1 norm: 1.339.. Train Linf norm: 53.713.. Val Linf norm: 67.352\n",
            "Epoch 110/130.. Train loss: 142.196.. Val loss: 58.358.. Train L1 norm: 1.315.. Val L1 norm: 1.339.. Train Linf norm: 55.666.. Val Linf norm: 67.352\n",
            "Epoch 111/130.. Train loss: 257.763.. Val loss: 58.359.. Train L1 norm: 1.321.. Val L1 norm: 1.339.. Train Linf norm: 57.811.. Val Linf norm: 67.351\n",
            "Epoch 112/130.. Train loss: 211.124.. Val loss: 58.360.. Train L1 norm: 1.309.. Val L1 norm: 1.339.. Train Linf norm: 55.599.. Val Linf norm: 67.349\n",
            "Epoch 113/130.. Train loss: 127.026.. Val loss: 58.360.. Train L1 norm: 1.323.. Val L1 norm: 1.339.. Train Linf norm: 57.112.. Val Linf norm: 67.349\n",
            "Epoch 114/130.. Train loss: 122.347.. Val loss: 58.360.. Train L1 norm: 1.319.. Val L1 norm: 1.339.. Train Linf norm: 57.687.. Val Linf norm: 67.348\n",
            "Epoch 115/130.. Train loss: 157.148.. Val loss: 58.361.. Train L1 norm: 1.319.. Val L1 norm: 1.339.. Train Linf norm: 58.644.. Val Linf norm: 67.347\n",
            "Epoch 116/130.. Train loss: 108.742.. Val loss: 58.361.. Train L1 norm: 1.321.. Val L1 norm: 1.339.. Train Linf norm: 57.250.. Val Linf norm: 67.347\n",
            "Epoch 117/130.. Train loss: 107.889.. Val loss: 58.360.. Train L1 norm: 1.319.. Val L1 norm: 1.339.. Train Linf norm: 56.421.. Val Linf norm: 67.347\n",
            "Epoch 118/130.. Train loss: 115.550.. Val loss: 58.360.. Train L1 norm: 1.316.. Val L1 norm: 1.339.. Train Linf norm: 58.387.. Val Linf norm: 67.347\n",
            "Epoch 119/130.. Train loss: 117.523.. Val loss: 58.361.. Train L1 norm: 1.300.. Val L1 norm: 1.339.. Train Linf norm: 52.630.. Val Linf norm: 67.347\n",
            "Epoch 120/130.. Train loss: 112.700.. Val loss: 58.361.. Train L1 norm: 1.308.. Val L1 norm: 1.339.. Train Linf norm: 55.573.. Val Linf norm: 67.347\n",
            "Epoch 121/130.. Train loss: 124.428.. Val loss: 58.361.. Train L1 norm: 1.314.. Val L1 norm: 1.339.. Train Linf norm: 54.010.. Val Linf norm: 67.346\n",
            "Epoch 122/130.. Train loss: 123.272.. Val loss: 58.361.. Train L1 norm: 1.324.. Val L1 norm: 1.339.. Train Linf norm: 56.807.. Val Linf norm: 67.345\n",
            "Epoch 123/130.. Train loss: 113.420.. Val loss: 58.361.. Train L1 norm: 1.325.. Val L1 norm: 1.339.. Train Linf norm: 59.712.. Val Linf norm: 67.345\n",
            "Epoch 124/130.. Train loss: 132.750.. Val loss: 58.362.. Train L1 norm: 1.315.. Val L1 norm: 1.339.. Train Linf norm: 54.764.. Val Linf norm: 67.344\n",
            "Epoch 125/130.. Train loss: 106.711.. Val loss: 58.362.. Train L1 norm: 1.315.. Val L1 norm: 1.339.. Train Linf norm: 55.639.. Val Linf norm: 67.344\n",
            "Epoch 126/130.. Train loss: 113.373.. Val loss: 58.362.. Train L1 norm: 1.315.. Val L1 norm: 1.339.. Train Linf norm: 57.142.. Val Linf norm: 67.344\n",
            "Epoch 127/130.. Train loss: 106.242.. Val loss: 58.362.. Train L1 norm: 1.326.. Val L1 norm: 1.339.. Train Linf norm: 59.280.. Val Linf norm: 67.344\n",
            "Epoch 128/130.. Train loss: 117.068.. Val loss: 58.362.. Train L1 norm: 1.317.. Val L1 norm: 1.339.. Train Linf norm: 56.150.. Val Linf norm: 67.344\n",
            "Epoch 129/130.. Train loss: 129.809.. Val loss: 58.362.. Train L1 norm: 1.321.. Val L1 norm: 1.339.. Train Linf norm: 57.620.. Val Linf norm: 67.343\n"
          ]
        },
        {
          "output_type": "stream",
          "name": "stderr",
          "text": [
            "[I 2023-05-31 22:17:40,119] Trial 21 finished with value: 1.3386740147272747 and parameters: {'batch_size': 256, 'dropout_rate': 0.2999301783241384, 'factor': 0.4983353533318898, 'hidden_activation': 'PReLU', 'loss': 'MSE', 'lr': 0.0001892765728129397, 'n_epochs': 130, 'n_layers': 8, 'n_units_0': 2410, 'n_units_1': 3010, 'n_units_2': 1456, 'n_units_3': 4009, 'n_units_4': 3777, 'n_units_5': 3170, 'n_units_6': 3900, 'n_units_7': 1960, 'optimizer': 'Adagrad', 'output_activation': 'Linear', 'patience': 5, 'prelu_init': 0.29906487053163666, 'scheduler': 'ReduceLROnPlateau', 'threshold': 0.00972388699160805}. Best is trial 3 with value: 1.1057661293665568.\n"
          ]
        },
        {
          "output_type": "stream",
          "name": "stdout",
          "text": [
            "Epoch 130/130.. Train loss: 142.951.. Val loss: 58.362.. Train L1 norm: 1.318.. Val L1 norm: 1.339.. Train Linf norm: 56.587.. Val Linf norm: 67.342\n",
            "Epoch 1/130.. Train loss: 13827.781.. Val loss: 57.555.. Train L1 norm: 1.622.. Val L1 norm: 1.067.. Train Linf norm: 106.597.. Val Linf norm: 16.765\n",
            "Epoch 2/130.. Train loss: 151.795.. Val loss: 63.720.. Train L1 norm: 1.105.. Val L1 norm: 1.018.. Train Linf norm: 22.876.. Val Linf norm: 5.094\n",
            "Epoch 3/130.. Train loss: 108.613.. Val loss: 67.755.. Train L1 norm: 1.062.. Val L1 norm: 1.030.. Train Linf norm: 14.746.. Val Linf norm: 7.030\n",
            "Epoch 4/130.. Train loss: 109.859.. Val loss: 65.735.. Train L1 norm: 1.065.. Val L1 norm: 1.031.. Train Linf norm: 15.166.. Val Linf norm: 7.917\n",
            "Epoch 5/130.. Train loss: 106.894.. Val loss: 66.064.. Train L1 norm: 1.080.. Val L1 norm: 1.039.. Train Linf norm: 17.893.. Val Linf norm: 9.578\n",
            "Epoch 6/130.. Train loss: 112.634.. Val loss: 69.979.. Train L1 norm: 1.081.. Val L1 norm: 1.040.. Train Linf norm: 18.513.. Val Linf norm: 9.596\n",
            "Epoch 7/130.. Train loss: 108.164.. Val loss: 67.441.. Train L1 norm: 1.086.. Val L1 norm: 1.054.. Train Linf norm: 18.963.. Val Linf norm: 12.725\n",
            "Epoch 8/130.. Train loss: 105.333.. Val loss: 63.515.. Train L1 norm: 1.124.. Val L1 norm: 1.085.. Train Linf norm: 26.177.. Val Linf norm: 19.638\n",
            "Epoch 9/130.. Train loss: 107.880.. Val loss: 62.329.. Train L1 norm: 1.147.. Val L1 norm: 1.104.. Train Linf norm: 31.098.. Val Linf norm: 23.659\n",
            "Epoch 10/130.. Train loss: 112.900.. Val loss: 61.409.. Train L1 norm: 1.158.. Val L1 norm: 1.119.. Train Linf norm: 31.909.. Val Linf norm: 26.519\n",
            "Epoch 11/130.. Train loss: 112.917.. Val loss: 62.874.. Train L1 norm: 1.148.. Val L1 norm: 1.112.. Train Linf norm: 30.162.. Val Linf norm: 25.100\n",
            "Epoch 12/130.. Train loss: 123.485.. Val loss: 60.889.. Train L1 norm: 1.180.. Val L1 norm: 1.134.. Train Linf norm: 36.515.. Val Linf norm: 29.551\n",
            "Epoch 13/130.. Train loss: 117.707.. Val loss: 62.600.. Train L1 norm: 1.168.. Val L1 norm: 1.123.. Train Linf norm: 34.249.. Val Linf norm: 27.387\n",
            "Epoch 14/130.. Train loss: 104.343.. Val loss: 61.655.. Train L1 norm: 1.164.. Val L1 norm: 1.137.. Train Linf norm: 31.842.. Val Linf norm: 30.026\n",
            "Epoch 15/130.. Train loss: 121.501.. Val loss: 63.860.. Train L1 norm: 1.166.. Val L1 norm: 1.123.. Train Linf norm: 32.767.. Val Linf norm: 27.308\n",
            "Epoch 16/130.. Train loss: 121.298.. Val loss: 61.554.. Train L1 norm: 1.157.. Val L1 norm: 1.147.. Train Linf norm: 31.423.. Val Linf norm: 32.084\n",
            "Epoch 17/130.. Train loss: 164.520.. Val loss: 64.565.. Train L1 norm: 1.177.. Val L1 norm: 1.127.. Train Linf norm: 35.147.. Val Linf norm: 27.971\n",
            "Epoch 18/130.. Train loss: 145.394.. Val loss: 65.590.. Train L1 norm: 1.140.. Val L1 norm: 1.122.. Train Linf norm: 28.455.. Val Linf norm: 27.041\n",
            "Epoch 19/130.. Train loss: 108.146.. Val loss: 65.515.. Train L1 norm: 1.148.. Val L1 norm: 1.125.. Train Linf norm: 29.827.. Val Linf norm: 27.560\n",
            "Epoch 20/130.. Train loss: 110.784.. Val loss: 65.147.. Train L1 norm: 1.144.. Val L1 norm: 1.129.. Train Linf norm: 29.196.. Val Linf norm: 28.421\n",
            "Epoch 21/130.. Train loss: 115.947.. Val loss: 65.615.. Train L1 norm: 1.144.. Val L1 norm: 1.128.. Train Linf norm: 28.834.. Val Linf norm: 28.170\n",
            "Epoch 22/130.. Train loss: 131.746.. Val loss: 64.516.. Train L1 norm: 1.156.. Val L1 norm: 1.137.. Train Linf norm: 30.708.. Val Linf norm: 30.022\n",
            "Epoch 23/130.. Train loss: 109.010.. Val loss: 63.924.. Train L1 norm: 1.168.. Val L1 norm: 1.144.. Train Linf norm: 34.314.. Val Linf norm: 31.299\n",
            "Epoch 24/130.. Train loss: 127.489.. Val loss: 64.421.. Train L1 norm: 1.157.. Val L1 norm: 1.142.. Train Linf norm: 31.543.. Val Linf norm: 30.952\n",
            "Epoch 25/130.. Train loss: 132.585.. Val loss: 65.278.. Train L1 norm: 1.159.. Val L1 norm: 1.138.. Train Linf norm: 32.440.. Val Linf norm: 30.104\n",
            "Epoch 26/130.. Train loss: 112.903.. Val loss: 64.971.. Train L1 norm: 1.149.. Val L1 norm: 1.141.. Train Linf norm: 29.396.. Val Linf norm: 30.715\n",
            "Epoch 27/130.. Train loss: 112.871.. Val loss: 64.612.. Train L1 norm: 1.154.. Val L1 norm: 1.145.. Train Linf norm: 30.335.. Val Linf norm: 31.406\n",
            "Epoch 28/130.. Train loss: 117.859.. Val loss: 64.150.. Train L1 norm: 1.156.. Val L1 norm: 1.149.. Train Linf norm: 29.081.. Val Linf norm: 32.259\n",
            "Epoch 29/130.. Train loss: 106.197.. Val loss: 64.016.. Train L1 norm: 1.172.. Val L1 norm: 1.151.. Train Linf norm: 34.437.. Val Linf norm: 32.633\n",
            "Epoch 30/130.. Train loss: 120.945.. Val loss: 63.523.. Train L1 norm: 1.168.. Val L1 norm: 1.155.. Train Linf norm: 33.156.. Val Linf norm: 33.550\n",
            "Epoch 31/130.. Train loss: 116.534.. Val loss: 63.141.. Train L1 norm: 1.174.. Val L1 norm: 1.159.. Train Linf norm: 33.608.. Val Linf norm: 34.306\n",
            "Epoch 32/130.. Train loss: 108.412.. Val loss: 63.000.. Train L1 norm: 1.179.. Val L1 norm: 1.161.. Train Linf norm: 35.110.. Val Linf norm: 34.701\n",
            "Epoch 33/130.. Train loss: 109.927.. Val loss: 63.085.. Train L1 norm: 1.177.. Val L1 norm: 1.161.. Train Linf norm: 34.758.. Val Linf norm: 34.733\n",
            "Epoch 34/130.. Train loss: 107.996.. Val loss: 62.958.. Train L1 norm: 1.174.. Val L1 norm: 1.163.. Train Linf norm: 34.448.. Val Linf norm: 35.017\n",
            "Epoch 35/130.. Train loss: 113.776.. Val loss: 62.790.. Train L1 norm: 1.182.. Val L1 norm: 1.165.. Train Linf norm: 33.943.. Val Linf norm: 35.378\n",
            "Epoch 36/130.. Train loss: 112.341.. Val loss: 62.883.. Train L1 norm: 1.180.. Val L1 norm: 1.164.. Train Linf norm: 34.976.. Val Linf norm: 35.303\n",
            "Epoch 37/130.. Train loss: 104.780.. Val loss: 62.850.. Train L1 norm: 1.187.. Val L1 norm: 1.165.. Train Linf norm: 35.981.. Val Linf norm: 35.439\n",
            "Epoch 38/130.. Train loss: 110.358.. Val loss: 62.908.. Train L1 norm: 1.181.. Val L1 norm: 1.165.. Train Linf norm: 34.817.. Val Linf norm: 35.419\n",
            "Epoch 39/130.. Train loss: 129.825.. Val loss: 62.974.. Train L1 norm: 1.178.. Val L1 norm: 1.165.. Train Linf norm: 34.496.. Val Linf norm: 35.368\n",
            "Epoch 40/130.. Train loss: 103.693.. Val loss: 62.948.. Train L1 norm: 1.195.. Val L1 norm: 1.165.. Train Linf norm: 39.264.. Val Linf norm: 35.488\n",
            "Epoch 41/130.. Train loss: 113.724.. Val loss: 63.028.. Train L1 norm: 1.180.. Val L1 norm: 1.165.. Train Linf norm: 34.681.. Val Linf norm: 35.429\n",
            "Epoch 42/130.. Train loss: 105.379.. Val loss: 63.043.. Train L1 norm: 1.170.. Val L1 norm: 1.165.. Train Linf norm: 33.214.. Val Linf norm: 35.442\n",
            "Epoch 43/130.. Train loss: 142.727.. Val loss: 62.896.. Train L1 norm: 1.184.. Val L1 norm: 1.166.. Train Linf norm: 35.554.. Val Linf norm: 35.711\n",
            "Epoch 44/130.. Train loss: 107.591.. Val loss: 62.881.. Train L1 norm: 1.177.. Val L1 norm: 1.167.. Train Linf norm: 33.830.. Val Linf norm: 35.772\n",
            "Epoch 45/130.. Train loss: 109.134.. Val loss: 62.827.. Train L1 norm: 1.180.. Val L1 norm: 1.167.. Train Linf norm: 35.649.. Val Linf norm: 35.901\n",
            "Epoch 46/130.. Train loss: 106.331.. Val loss: 62.783.. Train L1 norm: 1.188.. Val L1 norm: 1.168.. Train Linf norm: 37.760.. Val Linf norm: 36.010\n",
            "Epoch 47/130.. Train loss: 112.437.. Val loss: 62.824.. Train L1 norm: 1.185.. Val L1 norm: 1.168.. Train Linf norm: 36.404.. Val Linf norm: 35.978\n",
            "Epoch 48/130.. Train loss: 108.462.. Val loss: 62.856.. Train L1 norm: 1.179.. Val L1 norm: 1.168.. Train Linf norm: 34.749.. Val Linf norm: 35.962\n",
            "Epoch 49/130.. Train loss: 114.970.. Val loss: 62.897.. Train L1 norm: 1.178.. Val L1 norm: 1.168.. Train Linf norm: 34.339.. Val Linf norm: 35.924\n",
            "Epoch 50/130.. Train loss: 135.787.. Val loss: 62.944.. Train L1 norm: 1.189.. Val L1 norm: 1.167.. Train Linf norm: 37.720.. Val Linf norm: 35.863\n",
            "Epoch 51/130.. Train loss: 110.351.. Val loss: 62.961.. Train L1 norm: 1.191.. Val L1 norm: 1.167.. Train Linf norm: 38.445.. Val Linf norm: 35.852\n",
            "Epoch 52/130.. Train loss: 109.151.. Val loss: 62.974.. Train L1 norm: 1.189.. Val L1 norm: 1.167.. Train Linf norm: 37.898.. Val Linf norm: 35.847\n",
            "Epoch 53/130.. Train loss: 122.642.. Val loss: 62.950.. Train L1 norm: 1.180.. Val L1 norm: 1.167.. Train Linf norm: 35.128.. Val Linf norm: 35.904\n",
            "Epoch 54/130.. Train loss: 107.226.. Val loss: 62.953.. Train L1 norm: 1.179.. Val L1 norm: 1.167.. Train Linf norm: 35.109.. Val Linf norm: 35.913\n",
            "Epoch 55/130.. Train loss: 109.684.. Val loss: 62.965.. Train L1 norm: 1.186.. Val L1 norm: 1.167.. Train Linf norm: 34.591.. Val Linf norm: 35.911\n",
            "Epoch 56/130.. Train loss: 108.030.. Val loss: 62.988.. Train L1 norm: 1.185.. Val L1 norm: 1.167.. Train Linf norm: 36.302.. Val Linf norm: 35.889\n",
            "Epoch 57/130.. Train loss: 112.317.. Val loss: 62.963.. Train L1 norm: 1.181.. Val L1 norm: 1.168.. Train Linf norm: 35.113.. Val Linf norm: 35.947\n",
            "Epoch 58/130.. Train loss: 135.284.. Val loss: 62.937.. Train L1 norm: 1.193.. Val L1 norm: 1.168.. Train Linf norm: 38.630.. Val Linf norm: 35.995\n",
            "Epoch 59/130.. Train loss: 111.357.. Val loss: 62.946.. Train L1 norm: 1.182.. Val L1 norm: 1.168.. Train Linf norm: 35.316.. Val Linf norm: 35.989\n",
            "Epoch 60/130.. Train loss: 115.712.. Val loss: 62.929.. Train L1 norm: 1.184.. Val L1 norm: 1.168.. Train Linf norm: 36.098.. Val Linf norm: 36.024\n",
            "Epoch 61/130.. Train loss: 115.488.. Val loss: 62.943.. Train L1 norm: 1.183.. Val L1 norm: 1.168.. Train Linf norm: 35.187.. Val Linf norm: 36.009\n",
            "Epoch 62/130.. Train loss: 104.782.. Val loss: 62.946.. Train L1 norm: 1.185.. Val L1 norm: 1.168.. Train Linf norm: 36.127.. Val Linf norm: 36.011\n",
            "Epoch 63/130.. Train loss: 103.754.. Val loss: 62.942.. Train L1 norm: 1.186.. Val L1 norm: 1.168.. Train Linf norm: 37.268.. Val Linf norm: 36.027\n",
            "Epoch 64/130.. Train loss: 104.798.. Val loss: 62.944.. Train L1 norm: 1.182.. Val L1 norm: 1.168.. Train Linf norm: 35.749.. Val Linf norm: 36.031\n",
            "Epoch 65/130.. Train loss: 123.665.. Val loss: 62.957.. Train L1 norm: 1.183.. Val L1 norm: 1.168.. Train Linf norm: 35.360.. Val Linf norm: 36.017\n",
            "Epoch 66/130.. Train loss: 104.231.. Val loss: 62.958.. Train L1 norm: 1.183.. Val L1 norm: 1.168.. Train Linf norm: 35.616.. Val Linf norm: 36.019\n",
            "Epoch 67/130.. Train loss: 143.160.. Val loss: 62.946.. Train L1 norm: 1.179.. Val L1 norm: 1.168.. Train Linf norm: 35.264.. Val Linf norm: 36.043\n",
            "Epoch 68/130.. Train loss: 123.892.. Val loss: 62.937.. Train L1 norm: 1.185.. Val L1 norm: 1.168.. Train Linf norm: 35.286.. Val Linf norm: 36.061\n",
            "Epoch 69/130.. Train loss: 107.070.. Val loss: 62.935.. Train L1 norm: 1.178.. Val L1 norm: 1.168.. Train Linf norm: 34.763.. Val Linf norm: 36.067\n",
            "Epoch 70/130.. Train loss: 105.516.. Val loss: 62.935.. Train L1 norm: 1.189.. Val L1 norm: 1.168.. Train Linf norm: 37.111.. Val Linf norm: 36.071\n",
            "Epoch 71/130.. Train loss: 106.490.. Val loss: 62.934.. Train L1 norm: 1.180.. Val L1 norm: 1.168.. Train Linf norm: 34.858.. Val Linf norm: 36.076\n",
            "Epoch 72/130.. Train loss: 104.903.. Val loss: 62.934.. Train L1 norm: 1.182.. Val L1 norm: 1.168.. Train Linf norm: 35.317.. Val Linf norm: 36.079\n",
            "Epoch 73/130.. Train loss: 111.795.. Val loss: 62.929.. Train L1 norm: 1.192.. Val L1 norm: 1.168.. Train Linf norm: 37.643.. Val Linf norm: 36.090\n",
            "Epoch 74/130.. Train loss: 105.237.. Val loss: 62.930.. Train L1 norm: 1.181.. Val L1 norm: 1.168.. Train Linf norm: 35.672.. Val Linf norm: 36.090\n",
            "Epoch 75/130.. Train loss: 143.094.. Val loss: 62.924.. Train L1 norm: 1.190.. Val L1 norm: 1.168.. Train Linf norm: 36.206.. Val Linf norm: 36.103\n",
            "Epoch 76/130.. Train loss: 123.010.. Val loss: 62.925.. Train L1 norm: 1.186.. Val L1 norm: 1.168.. Train Linf norm: 36.240.. Val Linf norm: 36.102\n",
            "Epoch 77/130.. Train loss: 114.495.. Val loss: 62.928.. Train L1 norm: 1.186.. Val L1 norm: 1.168.. Train Linf norm: 37.619.. Val Linf norm: 36.099\n",
            "Epoch 78/130.. Train loss: 110.439.. Val loss: 62.930.. Train L1 norm: 1.187.. Val L1 norm: 1.168.. Train Linf norm: 36.758.. Val Linf norm: 36.098\n",
            "Epoch 79/130.. Train loss: 110.050.. Val loss: 62.932.. Train L1 norm: 1.173.. Val L1 norm: 1.168.. Train Linf norm: 33.750.. Val Linf norm: 36.096\n",
            "Epoch 80/130.. Train loss: 139.475.. Val loss: 62.926.. Train L1 norm: 1.186.. Val L1 norm: 1.168.. Train Linf norm: 35.180.. Val Linf norm: 36.107\n",
            "Epoch 81/130.. Train loss: 105.862.. Val loss: 62.927.. Train L1 norm: 1.183.. Val L1 norm: 1.168.. Train Linf norm: 36.115.. Val Linf norm: 36.108\n",
            "Epoch 82/130.. Train loss: 104.297.. Val loss: 62.927.. Train L1 norm: 1.177.. Val L1 norm: 1.168.. Train Linf norm: 34.883.. Val Linf norm: 36.108\n",
            "Epoch 83/130.. Train loss: 106.031.. Val loss: 62.927.. Train L1 norm: 1.185.. Val L1 norm: 1.168.. Train Linf norm: 36.580.. Val Linf norm: 36.108\n",
            "Epoch 84/130.. Train loss: 106.292.. Val loss: 62.927.. Train L1 norm: 1.177.. Val L1 norm: 1.168.. Train Linf norm: 34.178.. Val Linf norm: 36.109\n",
            "Epoch 85/130.. Train loss: 104.121.. Val loss: 62.927.. Train L1 norm: 1.186.. Val L1 norm: 1.168.. Train Linf norm: 36.680.. Val Linf norm: 36.109\n",
            "Epoch 86/130.. Train loss: 111.107.. Val loss: 62.926.. Train L1 norm: 1.191.. Val L1 norm: 1.169.. Train Linf norm: 38.608.. Val Linf norm: 36.113\n",
            "Epoch 87/130.. Train loss: 107.692.. Val loss: 62.925.. Train L1 norm: 1.181.. Val L1 norm: 1.169.. Train Linf norm: 35.319.. Val Linf norm: 36.114\n",
            "Epoch 88/130.. Train loss: 107.739.. Val loss: 62.926.. Train L1 norm: 1.187.. Val L1 norm: 1.169.. Train Linf norm: 37.152.. Val Linf norm: 36.112\n",
            "Epoch 89/130.. Train loss: 105.004.. Val loss: 62.927.. Train L1 norm: 1.188.. Val L1 norm: 1.169.. Train Linf norm: 36.275.. Val Linf norm: 36.113\n",
            "Epoch 90/130.. Train loss: 105.219.. Val loss: 62.927.. Train L1 norm: 1.194.. Val L1 norm: 1.169.. Train Linf norm: 38.368.. Val Linf norm: 36.113\n",
            "Epoch 91/130.. Train loss: 124.201.. Val loss: 62.925.. Train L1 norm: 1.186.. Val L1 norm: 1.169.. Train Linf norm: 36.340.. Val Linf norm: 36.115\n",
            "Epoch 92/130.. Train loss: 137.656.. Val loss: 62.924.. Train L1 norm: 1.179.. Val L1 norm: 1.169.. Train Linf norm: 34.496.. Val Linf norm: 36.117\n",
            "Epoch 93/130.. Train loss: 128.402.. Val loss: 62.925.. Train L1 norm: 1.188.. Val L1 norm: 1.169.. Train Linf norm: 37.226.. Val Linf norm: 36.116\n",
            "Epoch 94/130.. Train loss: 105.393.. Val loss: 62.924.. Train L1 norm: 1.180.. Val L1 norm: 1.169.. Train Linf norm: 35.000.. Val Linf norm: 36.116\n",
            "Epoch 95/130.. Train loss: 111.312.. Val loss: 62.925.. Train L1 norm: 1.189.. Val L1 norm: 1.169.. Train Linf norm: 37.487.. Val Linf norm: 36.116\n",
            "Epoch 96/130.. Train loss: 104.273.. Val loss: 62.925.. Train L1 norm: 1.174.. Val L1 norm: 1.169.. Train Linf norm: 32.178.. Val Linf norm: 36.116\n",
            "Epoch 97/130.. Train loss: 103.787.. Val loss: 62.925.. Train L1 norm: 1.182.. Val L1 norm: 1.169.. Train Linf norm: 35.520.. Val Linf norm: 36.116\n",
            "Epoch 98/130.. Train loss: 111.227.. Val loss: 62.925.. Train L1 norm: 1.187.. Val L1 norm: 1.169.. Train Linf norm: 37.543.. Val Linf norm: 36.116\n",
            "Epoch 99/130.. Train loss: 104.340.. Val loss: 62.925.. Train L1 norm: 1.171.. Val L1 norm: 1.169.. Train Linf norm: 33.331.. Val Linf norm: 36.116\n",
            "Epoch 100/130.. Train loss: 110.140.. Val loss: 62.925.. Train L1 norm: 1.174.. Val L1 norm: 1.169.. Train Linf norm: 33.375.. Val Linf norm: 36.116\n",
            "Epoch 101/130.. Train loss: 106.826.. Val loss: 62.925.. Train L1 norm: 1.186.. Val L1 norm: 1.169.. Train Linf norm: 35.599.. Val Linf norm: 36.116\n",
            "Epoch 102/130.. Train loss: 123.795.. Val loss: 62.924.. Train L1 norm: 1.176.. Val L1 norm: 1.169.. Train Linf norm: 33.164.. Val Linf norm: 36.117\n",
            "Epoch 103/130.. Train loss: 109.595.. Val loss: 62.925.. Train L1 norm: 1.180.. Val L1 norm: 1.169.. Train Linf norm: 35.061.. Val Linf norm: 36.117\n",
            "Epoch 104/130.. Train loss: 108.834.. Val loss: 62.924.. Train L1 norm: 1.174.. Val L1 norm: 1.169.. Train Linf norm: 33.795.. Val Linf norm: 36.117\n",
            "Epoch 105/130.. Train loss: 108.451.. Val loss: 62.924.. Train L1 norm: 1.188.. Val L1 norm: 1.169.. Train Linf norm: 36.823.. Val Linf norm: 36.117\n",
            "Epoch 106/130.. Train loss: 104.712.. Val loss: 62.924.. Train L1 norm: 1.188.. Val L1 norm: 1.169.. Train Linf norm: 37.131.. Val Linf norm: 36.117\n",
            "Epoch 107/130.. Train loss: 106.213.. Val loss: 62.924.. Train L1 norm: 1.185.. Val L1 norm: 1.169.. Train Linf norm: 36.498.. Val Linf norm: 36.117\n",
            "Epoch 108/130.. Train loss: 110.333.. Val loss: 62.924.. Train L1 norm: 1.182.. Val L1 norm: 1.169.. Train Linf norm: 36.425.. Val Linf norm: 36.118\n",
            "Epoch 109/130.. Train loss: 108.726.. Val loss: 62.924.. Train L1 norm: 1.181.. Val L1 norm: 1.169.. Train Linf norm: 35.542.. Val Linf norm: 36.118\n",
            "Epoch 110/130.. Train loss: 112.439.. Val loss: 62.924.. Train L1 norm: 1.188.. Val L1 norm: 1.169.. Train Linf norm: 36.565.. Val Linf norm: 36.119\n",
            "Epoch 111/130.. Train loss: 106.787.. Val loss: 62.924.. Train L1 norm: 1.174.. Val L1 norm: 1.169.. Train Linf norm: 34.378.. Val Linf norm: 36.118\n",
            "Epoch 112/130.. Train loss: 124.683.. Val loss: 62.924.. Train L1 norm: 1.187.. Val L1 norm: 1.169.. Train Linf norm: 36.694.. Val Linf norm: 36.118\n",
            "Epoch 113/130.. Train loss: 107.455.. Val loss: 62.924.. Train L1 norm: 1.183.. Val L1 norm: 1.169.. Train Linf norm: 36.449.. Val Linf norm: 36.118\n",
            "Epoch 114/130.. Train loss: 121.785.. Val loss: 62.925.. Train L1 norm: 1.180.. Val L1 norm: 1.169.. Train Linf norm: 35.057.. Val Linf norm: 36.117\n",
            "Epoch 115/130.. Train loss: 125.384.. Val loss: 62.925.. Train L1 norm: 1.180.. Val L1 norm: 1.169.. Train Linf norm: 35.036.. Val Linf norm: 36.117\n",
            "Epoch 116/130.. Train loss: 107.102.. Val loss: 62.925.. Train L1 norm: 1.173.. Val L1 norm: 1.169.. Train Linf norm: 33.817.. Val Linf norm: 36.116\n",
            "Epoch 117/130.. Train loss: 105.437.. Val loss: 62.925.. Train L1 norm: 1.178.. Val L1 norm: 1.169.. Train Linf norm: 34.974.. Val Linf norm: 36.116\n",
            "Epoch 118/130.. Train loss: 107.037.. Val loss: 62.925.. Train L1 norm: 1.185.. Val L1 norm: 1.169.. Train Linf norm: 36.859.. Val Linf norm: 36.117\n",
            "Epoch 119/130.. Train loss: 106.726.. Val loss: 62.925.. Train L1 norm: 1.182.. Val L1 norm: 1.169.. Train Linf norm: 35.334.. Val Linf norm: 36.117\n",
            "Epoch 120/130.. Train loss: 113.966.. Val loss: 62.925.. Train L1 norm: 1.175.. Val L1 norm: 1.169.. Train Linf norm: 33.405.. Val Linf norm: 36.117\n",
            "Epoch 121/130.. Train loss: 103.575.. Val loss: 62.925.. Train L1 norm: 1.179.. Val L1 norm: 1.169.. Train Linf norm: 35.327.. Val Linf norm: 36.117\n",
            "Epoch 122/130.. Train loss: 110.505.. Val loss: 62.924.. Train L1 norm: 1.181.. Val L1 norm: 1.169.. Train Linf norm: 34.221.. Val Linf norm: 36.118\n",
            "Epoch 123/130.. Train loss: 133.738.. Val loss: 62.924.. Train L1 norm: 1.186.. Val L1 norm: 1.169.. Train Linf norm: 34.900.. Val Linf norm: 36.119\n",
            "Epoch 124/130.. Train loss: 105.745.. Val loss: 62.924.. Train L1 norm: 1.189.. Val L1 norm: 1.169.. Train Linf norm: 37.401.. Val Linf norm: 36.119\n",
            "Epoch 125/130.. Train loss: 106.101.. Val loss: 62.924.. Train L1 norm: 1.189.. Val L1 norm: 1.169.. Train Linf norm: 37.147.. Val Linf norm: 36.119\n",
            "Epoch 126/130.. Train loss: 104.203.. Val loss: 62.924.. Train L1 norm: 1.180.. Val L1 norm: 1.169.. Train Linf norm: 35.771.. Val Linf norm: 36.119\n",
            "Epoch 127/130.. Train loss: 106.610.. Val loss: 62.924.. Train L1 norm: 1.189.. Val L1 norm: 1.169.. Train Linf norm: 36.945.. Val Linf norm: 36.119\n",
            "Epoch 128/130.. Train loss: 105.906.. Val loss: 62.924.. Train L1 norm: 1.189.. Val L1 norm: 1.169.. Train Linf norm: 35.755.. Val Linf norm: 36.119\n",
            "Epoch 129/130.. Train loss: 110.451.. Val loss: 62.924.. Train L1 norm: 1.181.. Val L1 norm: 1.169.. Train Linf norm: 33.775.. Val Linf norm: 36.119\n"
          ]
        },
        {
          "output_type": "stream",
          "name": "stderr",
          "text": [
            "[I 2023-05-31 22:49:59,135] Trial 22 finished with value: 1.1685468066533407 and parameters: {'batch_size': 256, 'dropout_rate': 0.3264510644707747, 'factor': 0.4979193009963475, 'hidden_activation': 'PReLU', 'loss': 'MSE', 'lr': 8.457498870585358e-05, 'n_epochs': 130, 'n_layers': 9, 'n_units_0': 3430, 'n_units_1': 3563, 'n_units_2': 1285, 'n_units_3': 3473, 'n_units_4': 3559, 'n_units_5': 3026, 'n_units_6': 3262, 'n_units_7': 2391, 'n_units_8': 4048, 'optimizer': 'Adagrad', 'output_activation': 'Linear', 'patience': 7, 'prelu_init': 0.29687821516230756, 'scheduler': 'ReduceLROnPlateau', 'threshold': 0.00864262113183537}. Best is trial 3 with value: 1.1057661293665568.\n"
          ]
        },
        {
          "output_type": "stream",
          "name": "stdout",
          "text": [
            "Epoch 130/130.. Train loss: 108.122.. Val loss: 62.924.. Train L1 norm: 1.183.. Val L1 norm: 1.169.. Train Linf norm: 36.748.. Val Linf norm: 36.119\n"
          ]
        },
        {
          "output_type": "stream",
          "name": "stderr",
          "text": [
            "[I 2023-05-31 22:50:14,883] Trial 23 pruned. \n"
          ]
        },
        {
          "output_type": "stream",
          "name": "stdout",
          "text": [
            "Epoch 1/123.. Train loss: 1035.355.. Val loss: 42.870.. Train L1 norm: 4.666.. Val L1 norm: 6.380.. Train Linf norm: 507.844.. Val Linf norm: 861.221\n",
            "Epoch 1/136.. Train loss: 7355.642.. Val loss: 280.600.. Train L1 norm: 2.407.. Val L1 norm: 1.685.. Train Linf norm: 229.391.. Val Linf norm: 129.800\n",
            "Epoch 2/136.. Train loss: 3569.462.. Val loss: 171.787.. Train L1 norm: 1.813.. Val L1 norm: 1.484.. Train Linf norm: 142.165.. Val Linf norm: 95.297\n",
            "Epoch 3/136.. Train loss: 2711.579.. Val loss: 128.266.. Train L1 norm: 1.624.. Val L1 norm: 1.381.. Train Linf norm: 115.213.. Val Linf norm: 77.209\n",
            "Epoch 4/136.. Train loss: 1938.643.. Val loss: 107.010.. Train L1 norm: 1.537.. Val L1 norm: 1.320.. Train Linf norm: 101.367.. Val Linf norm: 66.242\n",
            "Epoch 5/136.. Train loss: 1514.340.. Val loss: 94.600.. Train L1 norm: 1.465.. Val L1 norm: 1.280.. Train Linf norm: 87.855.. Val Linf norm: 58.802\n",
            "Epoch 6/136.. Train loss: 1547.641.. Val loss: 85.141.. Train L1 norm: 1.428.. Val L1 norm: 1.245.. Train Linf norm: 82.732.. Val Linf norm: 52.374\n",
            "Epoch 7/136.. Train loss: 997.953.. Val loss: 79.664.. Train L1 norm: 1.377.. Val L1 norm: 1.222.. Train Linf norm: 73.924.. Val Linf norm: 48.155\n",
            "Epoch 8/136.. Train loss: 980.736.. Val loss: 75.326.. Train L1 norm: 1.346.. Val L1 norm: 1.203.. Train Linf norm: 69.434.. Val Linf norm: 44.549\n",
            "Epoch 9/136.. Train loss: 613.281.. Val loss: 72.649.. Train L1 norm: 1.334.. Val L1 norm: 1.191.. Train Linf norm: 68.676.. Val Linf norm: 42.196\n",
            "Epoch 10/136.. Train loss: 598.033.. Val loss: 70.381.. Train L1 norm: 1.306.. Val L1 norm: 1.180.. Train Linf norm: 61.672.. Val Linf norm: 40.072\n",
            "Epoch 11/136.. Train loss: 445.651.. Val loss: 68.797.. Train L1 norm: 1.304.. Val L1 norm: 1.173.. Train Linf norm: 62.080.. Val Linf norm: 38.608\n",
            "Epoch 12/136.. Train loss: 658.080.. Val loss: 67.012.. Train L1 norm: 1.276.. Val L1 norm: 1.163.. Train Linf norm: 55.049.. Val Linf norm: 36.703\n",
            "Epoch 13/136.. Train loss: 646.984.. Val loss: 65.299.. Train L1 norm: 1.252.. Val L1 norm: 1.152.. Train Linf norm: 51.550.. Val Linf norm: 34.621\n",
            "Epoch 14/136.. Train loss: 493.844.. Val loss: 64.076.. Train L1 norm: 1.250.. Val L1 norm: 1.145.. Train Linf norm: 51.572.. Val Linf norm: 33.110\n",
            "Epoch 15/136.. Train loss: 384.968.. Val loss: 63.210.. Train L1 norm: 1.240.. Val L1 norm: 1.139.. Train Linf norm: 49.616.. Val Linf norm: 32.039\n",
            "Epoch 16/136.. Train loss: 381.546.. Val loss: 62.397.. Train L1 norm: 1.208.. Val L1 norm: 1.134.. Train Linf norm: 43.402.. Val Linf norm: 30.989\n",
            "Epoch 17/136.. Train loss: 403.290.. Val loss: 61.686.. Train L1 norm: 1.219.. Val L1 norm: 1.129.. Train Linf norm: 45.998.. Val Linf norm: 29.982\n",
            "Epoch 18/136.. Train loss: 372.729.. Val loss: 61.076.. Train L1 norm: 1.200.. Val L1 norm: 1.124.. Train Linf norm: 42.345.. Val Linf norm: 28.997\n",
            "Epoch 19/136.. Train loss: 312.731.. Val loss: 60.582.. Train L1 norm: 1.196.. Val L1 norm: 1.121.. Train Linf norm: 40.513.. Val Linf norm: 28.254\n",
            "Epoch 20/136.. Train loss: 275.835.. Val loss: 60.170.. Train L1 norm: 1.190.. Val L1 norm: 1.118.. Train Linf norm: 40.063.. Val Linf norm: 27.639\n",
            "Epoch 21/136.. Train loss: 181.620.. Val loss: 59.919.. Train L1 norm: 1.181.. Val L1 norm: 1.116.. Train Linf norm: 38.434.. Val Linf norm: 27.370\n",
            "Epoch 22/136.. Train loss: 277.711.. Val loss: 59.585.. Train L1 norm: 1.188.. Val L1 norm: 1.113.. Train Linf norm: 40.333.. Val Linf norm: 26.785\n",
            "Epoch 23/136.. Train loss: 181.361.. Val loss: 59.352.. Train L1 norm: 1.178.. Val L1 norm: 1.112.. Train Linf norm: 39.246.. Val Linf norm: 26.477\n",
            "Epoch 24/136.. Train loss: 227.576.. Val loss: 59.088.. Train L1 norm: 1.167.. Val L1 norm: 1.110.. Train Linf norm: 36.309.. Val Linf norm: 25.999\n",
            "Epoch 25/136.. Train loss: 358.061.. Val loss: 58.746.. Train L1 norm: 1.177.. Val L1 norm: 1.106.. Train Linf norm: 38.741.. Val Linf norm: 25.135\n",
            "Epoch 26/136.. Train loss: 236.760.. Val loss: 58.538.. Train L1 norm: 1.161.. Val L1 norm: 1.104.. Train Linf norm: 34.276.. Val Linf norm: 24.714\n",
            "Epoch 27/136.. Train loss: 191.273.. Val loss: 58.393.. Train L1 norm: 1.156.. Val L1 norm: 1.102.. Train Linf norm: 32.979.. Val Linf norm: 24.470\n",
            "Epoch 28/136.. Train loss: 225.531.. Val loss: 58.232.. Train L1 norm: 1.143.. Val L1 norm: 1.101.. Train Linf norm: 30.624.. Val Linf norm: 24.091\n",
            "Epoch 29/136.. Train loss: 177.029.. Val loss: 58.116.. Train L1 norm: 1.145.. Val L1 norm: 1.100.. Train Linf norm: 31.774.. Val Linf norm: 23.907\n",
            "Epoch 30/136.. Train loss: 169.310.. Val loss: 58.016.. Train L1 norm: 1.147.. Val L1 norm: 1.099.. Train Linf norm: 31.734.. Val Linf norm: 23.768\n",
            "Epoch 31/136.. Train loss: 165.564.. Val loss: 57.932.. Train L1 norm: 1.144.. Val L1 norm: 1.099.. Train Linf norm: 30.565.. Val Linf norm: 23.627\n",
            "Epoch 32/136.. Train loss: 177.573.. Val loss: 57.835.. Train L1 norm: 1.140.. Val L1 norm: 1.097.. Train Linf norm: 29.473.. Val Linf norm: 23.382\n",
            "Epoch 33/136.. Train loss: 183.720.. Val loss: 57.744.. Train L1 norm: 1.150.. Val L1 norm: 1.096.. Train Linf norm: 32.839.. Val Linf norm: 23.075\n",
            "Epoch 34/136.. Train loss: 194.645.. Val loss: 57.672.. Train L1 norm: 1.134.. Val L1 norm: 1.095.. Train Linf norm: 29.151.. Val Linf norm: 22.848\n",
            "Epoch 35/136.. Train loss: 125.956.. Val loss: 57.632.. Train L1 norm: 1.133.. Val L1 norm: 1.095.. Train Linf norm: 29.158.. Val Linf norm: 22.895\n",
            "Epoch 36/136.. Train loss: 139.254.. Val loss: 57.586.. Train L1 norm: 1.138.. Val L1 norm: 1.095.. Train Linf norm: 30.881.. Val Linf norm: 22.858\n",
            "Epoch 37/136.. Train loss: 139.853.. Val loss: 57.545.. Train L1 norm: 1.130.. Val L1 norm: 1.095.. Train Linf norm: 28.570.. Val Linf norm: 22.824\n",
            "Epoch 38/136.. Train loss: 149.208.. Val loss: 57.502.. Train L1 norm: 1.129.. Val L1 norm: 1.094.. Train Linf norm: 28.074.. Val Linf norm: 22.695\n",
            "Epoch 39/136.. Train loss: 152.396.. Val loss: 57.469.. Train L1 norm: 1.119.. Val L1 norm: 1.094.. Train Linf norm: 26.564.. Val Linf norm: 22.559\n",
            "Epoch 40/136.. Train loss: 203.262.. Val loss: 57.433.. Train L1 norm: 1.123.. Val L1 norm: 1.092.. Train Linf norm: 28.036.. Val Linf norm: 22.253\n",
            "Epoch 41/136.. Train loss: 126.791.. Val loss: 57.414.. Train L1 norm: 1.122.. Val L1 norm: 1.092.. Train Linf norm: 27.107.. Val Linf norm: 22.225\n",
            "Epoch 42/136.. Train loss: 134.398.. Val loss: 57.397.. Train L1 norm: 1.123.. Val L1 norm: 1.092.. Train Linf norm: 27.745.. Val Linf norm: 22.221\n",
            "Epoch 43/136.. Train loss: 122.591.. Val loss: 57.384.. Train L1 norm: 1.120.. Val L1 norm: 1.093.. Train Linf norm: 25.591.. Val Linf norm: 22.306\n",
            "Epoch 44/136.. Train loss: 134.693.. Val loss: 57.374.. Train L1 norm: 1.117.. Val L1 norm: 1.093.. Train Linf norm: 25.769.. Val Linf norm: 22.304\n",
            "Epoch 45/136.. Train loss: 141.525.. Val loss: 57.368.. Train L1 norm: 1.115.. Val L1 norm: 1.092.. Train Linf norm: 25.739.. Val Linf norm: 22.257\n",
            "Epoch 46/136.. Train loss: 172.743.. Val loss: 57.369.. Train L1 norm: 1.110.. Val L1 norm: 1.092.. Train Linf norm: 24.274.. Val Linf norm: 22.074\n",
            "Epoch 47/136.. Train loss: 117.665.. Val loss: 57.366.. Train L1 norm: 1.119.. Val L1 norm: 1.092.. Train Linf norm: 26.740.. Val Linf norm: 22.164\n",
            "Epoch 48/136.. Train loss: 128.200.. Val loss: 57.369.. Train L1 norm: 1.115.. Val L1 norm: 1.092.. Train Linf norm: 26.007.. Val Linf norm: 22.154\n",
            "Epoch 49/136.. Train loss: 114.472.. Val loss: 57.369.. Train L1 norm: 1.107.. Val L1 norm: 1.093.. Train Linf norm: 24.577.. Val Linf norm: 22.246\n",
            "Epoch 50/136.. Train loss: 113.709.. Val loss: 57.369.. Train L1 norm: 1.102.. Val L1 norm: 1.093.. Train Linf norm: 22.703.. Val Linf norm: 22.284\n",
            "Epoch 51/136.. Train loss: 125.281.. Val loss: 57.372.. Train L1 norm: 1.106.. Val L1 norm: 1.093.. Train Linf norm: 24.034.. Val Linf norm: 22.283\n",
            "Epoch 52/136.. Train loss: 120.990.. Val loss: 57.373.. Train L1 norm: 1.100.. Val L1 norm: 1.093.. Train Linf norm: 22.520.. Val Linf norm: 22.306\n",
            "Epoch 53/136.. Train loss: 120.267.. Val loss: 57.375.. Train L1 norm: 1.108.. Val L1 norm: 1.093.. Train Linf norm: 24.252.. Val Linf norm: 22.333\n",
            "Epoch 54/136.. Train loss: 120.869.. Val loss: 57.376.. Train L1 norm: 1.102.. Val L1 norm: 1.093.. Train Linf norm: 22.024.. Val Linf norm: 22.366\n",
            "Epoch 55/136.. Train loss: 111.617.. Val loss: 57.374.. Train L1 norm: 1.097.. Val L1 norm: 1.094.. Train Linf norm: 21.524.. Val Linf norm: 22.447\n",
            "Epoch 56/136.. Train loss: 118.280.. Val loss: 57.376.. Train L1 norm: 1.101.. Val L1 norm: 1.094.. Train Linf norm: 22.514.. Val Linf norm: 22.473\n",
            "Epoch 57/136.. Train loss: 176.070.. Val loss: 57.386.. Train L1 norm: 1.104.. Val L1 norm: 1.094.. Train Linf norm: 23.307.. Val Linf norm: 22.400\n",
            "Epoch 58/136.. Train loss: 116.984.. Val loss: 57.386.. Train L1 norm: 1.103.. Val L1 norm: 1.094.. Train Linf norm: 23.246.. Val Linf norm: 22.409\n",
            "Epoch 59/136.. Train loss: 124.508.. Val loss: 57.388.. Train L1 norm: 1.114.. Val L1 norm: 1.094.. Train Linf norm: 26.018.. Val Linf norm: 22.409\n",
            "Epoch 60/136.. Train loss: 110.489.. Val loss: 57.388.. Train L1 norm: 1.107.. Val L1 norm: 1.094.. Train Linf norm: 24.427.. Val Linf norm: 22.430\n",
            "Epoch 61/136.. Train loss: 118.613.. Val loss: 57.390.. Train L1 norm: 1.104.. Val L1 norm: 1.094.. Train Linf norm: 23.613.. Val Linf norm: 22.438\n",
            "Epoch 62/136.. Train loss: 106.153.. Val loss: 57.389.. Train L1 norm: 1.106.. Val L1 norm: 1.094.. Train Linf norm: 23.386.. Val Linf norm: 22.470\n",
            "Epoch 63/136.. Train loss: 122.646.. Val loss: 57.390.. Train L1 norm: 1.108.. Val L1 norm: 1.094.. Train Linf norm: 23.970.. Val Linf norm: 22.477\n",
            "Epoch 64/136.. Train loss: 111.871.. Val loss: 57.390.. Train L1 norm: 1.105.. Val L1 norm: 1.094.. Train Linf norm: 23.699.. Val Linf norm: 22.496\n",
            "Epoch 65/136.. Train loss: 133.737.. Val loss: 57.393.. Train L1 norm: 1.102.. Val L1 norm: 1.094.. Train Linf norm: 23.312.. Val Linf norm: 22.490\n",
            "Epoch 66/136.. Train loss: 122.096.. Val loss: 57.393.. Train L1 norm: 1.113.. Val L1 norm: 1.094.. Train Linf norm: 24.590.. Val Linf norm: 22.491\n",
            "Epoch 67/136.. Train loss: 106.628.. Val loss: 57.393.. Train L1 norm: 1.108.. Val L1 norm: 1.094.. Train Linf norm: 24.457.. Val Linf norm: 22.506\n",
            "Epoch 68/136.. Train loss: 136.632.. Val loss: 57.394.. Train L1 norm: 1.102.. Val L1 norm: 1.094.. Train Linf norm: 22.137.. Val Linf norm: 22.501\n",
            "Epoch 69/136.. Train loss: 160.041.. Val loss: 57.396.. Train L1 norm: 1.111.. Val L1 norm: 1.094.. Train Linf norm: 24.899.. Val Linf norm: 22.492\n",
            "Epoch 70/136.. Train loss: 118.779.. Val loss: 57.396.. Train L1 norm: 1.105.. Val L1 norm: 1.094.. Train Linf norm: 23.748.. Val Linf norm: 22.494\n",
            "Epoch 71/136.. Train loss: 110.347.. Val loss: 57.395.. Train L1 norm: 1.107.. Val L1 norm: 1.094.. Train Linf norm: 24.500.. Val Linf norm: 22.511\n",
            "Epoch 72/136.. Train loss: 108.359.. Val loss: 57.395.. Train L1 norm: 1.104.. Val L1 norm: 1.094.. Train Linf norm: 23.258.. Val Linf norm: 22.521\n",
            "Epoch 73/136.. Train loss: 124.402.. Val loss: 57.395.. Train L1 norm: 1.113.. Val L1 norm: 1.094.. Train Linf norm: 26.085.. Val Linf norm: 22.530\n",
            "Epoch 74/136.. Train loss: 135.276.. Val loss: 57.396.. Train L1 norm: 1.097.. Val L1 norm: 1.094.. Train Linf norm: 21.356.. Val Linf norm: 22.529\n",
            "Epoch 75/136.. Train loss: 110.314.. Val loss: 57.396.. Train L1 norm: 1.103.. Val L1 norm: 1.094.. Train Linf norm: 23.088.. Val Linf norm: 22.532\n",
            "Epoch 76/136.. Train loss: 116.016.. Val loss: 57.396.. Train L1 norm: 1.109.. Val L1 norm: 1.094.. Train Linf norm: 24.474.. Val Linf norm: 22.532\n",
            "Epoch 77/136.. Train loss: 120.297.. Val loss: 57.396.. Train L1 norm: 1.103.. Val L1 norm: 1.094.. Train Linf norm: 22.419.. Val Linf norm: 22.532\n",
            "Epoch 78/136.. Train loss: 130.489.. Val loss: 57.397.. Train L1 norm: 1.106.. Val L1 norm: 1.094.. Train Linf norm: 24.164.. Val Linf norm: 22.531\n",
            "Epoch 79/136.. Train loss: 104.748.. Val loss: 57.396.. Train L1 norm: 1.095.. Val L1 norm: 1.094.. Train Linf norm: 21.532.. Val Linf norm: 22.537\n",
            "Epoch 80/136.. Train loss: 109.513.. Val loss: 57.396.. Train L1 norm: 1.108.. Val L1 norm: 1.094.. Train Linf norm: 24.476.. Val Linf norm: 22.541\n",
            "Epoch 81/136.. Train loss: 119.967.. Val loss: 57.397.. Train L1 norm: 1.101.. Val L1 norm: 1.094.. Train Linf norm: 22.606.. Val Linf norm: 22.541\n",
            "Epoch 82/136.. Train loss: 116.025.. Val loss: 57.397.. Train L1 norm: 1.101.. Val L1 norm: 1.094.. Train Linf norm: 22.654.. Val Linf norm: 22.542\n",
            "Epoch 83/136.. Train loss: 111.826.. Val loss: 57.397.. Train L1 norm: 1.105.. Val L1 norm: 1.094.. Train Linf norm: 23.343.. Val Linf norm: 22.542\n",
            "Epoch 84/136.. Train loss: 128.661.. Val loss: 57.397.. Train L1 norm: 1.099.. Val L1 norm: 1.094.. Train Linf norm: 22.115.. Val Linf norm: 22.542\n",
            "Epoch 85/136.. Train loss: 113.349.. Val loss: 57.397.. Train L1 norm: 1.100.. Val L1 norm: 1.094.. Train Linf norm: 22.625.. Val Linf norm: 22.543\n",
            "Epoch 86/136.. Train loss: 114.319.. Val loss: 57.397.. Train L1 norm: 1.113.. Val L1 norm: 1.094.. Train Linf norm: 24.569.. Val Linf norm: 22.543\n",
            "Epoch 87/136.. Train loss: 109.650.. Val loss: 57.397.. Train L1 norm: 1.094.. Val L1 norm: 1.094.. Train Linf norm: 20.774.. Val Linf norm: 22.545\n",
            "Epoch 88/136.. Train loss: 143.195.. Val loss: 57.397.. Train L1 norm: 1.101.. Val L1 norm: 1.094.. Train Linf norm: 22.358.. Val Linf norm: 22.544\n",
            "Epoch 89/136.. Train loss: 124.302.. Val loss: 57.397.. Train L1 norm: 1.104.. Val L1 norm: 1.094.. Train Linf norm: 23.459.. Val Linf norm: 22.544\n",
            "Epoch 90/136.. Train loss: 134.890.. Val loss: 57.397.. Train L1 norm: 1.104.. Val L1 norm: 1.094.. Train Linf norm: 23.560.. Val Linf norm: 22.544\n",
            "Epoch 91/136.. Train loss: 114.156.. Val loss: 57.397.. Train L1 norm: 1.104.. Val L1 norm: 1.094.. Train Linf norm: 23.299.. Val Linf norm: 22.544\n",
            "Epoch 92/136.. Train loss: 120.072.. Val loss: 57.397.. Train L1 norm: 1.100.. Val L1 norm: 1.094.. Train Linf norm: 22.056.. Val Linf norm: 22.545\n",
            "Epoch 93/136.. Train loss: 109.979.. Val loss: 57.397.. Train L1 norm: 1.102.. Val L1 norm: 1.094.. Train Linf norm: 23.576.. Val Linf norm: 22.545\n",
            "Epoch 94/136.. Train loss: 135.011.. Val loss: 57.397.. Train L1 norm: 1.102.. Val L1 norm: 1.094.. Train Linf norm: 22.515.. Val Linf norm: 22.544\n",
            "Epoch 95/136.. Train loss: 127.908.. Val loss: 57.397.. Train L1 norm: 1.106.. Val L1 norm: 1.094.. Train Linf norm: 24.000.. Val Linf norm: 22.544\n",
            "Epoch 96/136.. Train loss: 122.629.. Val loss: 57.397.. Train L1 norm: 1.099.. Val L1 norm: 1.094.. Train Linf norm: 21.564.. Val Linf norm: 22.544\n",
            "Epoch 97/136.. Train loss: 164.286.. Val loss: 57.398.. Train L1 norm: 1.108.. Val L1 norm: 1.094.. Train Linf norm: 22.845.. Val Linf norm: 22.543\n",
            "Epoch 98/136.. Train loss: 141.675.. Val loss: 57.398.. Train L1 norm: 1.097.. Val L1 norm: 1.094.. Train Linf norm: 20.968.. Val Linf norm: 22.543\n",
            "Epoch 99/136.. Train loss: 115.125.. Val loss: 57.398.. Train L1 norm: 1.112.. Val L1 norm: 1.094.. Train Linf norm: 25.851.. Val Linf norm: 22.543\n",
            "Epoch 100/136.. Train loss: 129.806.. Val loss: 57.398.. Train L1 norm: 1.107.. Val L1 norm: 1.094.. Train Linf norm: 24.515.. Val Linf norm: 22.543\n",
            "Epoch 101/136.. Train loss: 158.538.. Val loss: 57.398.. Train L1 norm: 1.109.. Val L1 norm: 1.094.. Train Linf norm: 23.949.. Val Linf norm: 22.542\n",
            "Epoch 102/136.. Train loss: 109.922.. Val loss: 57.398.. Train L1 norm: 1.104.. Val L1 norm: 1.094.. Train Linf norm: 23.417.. Val Linf norm: 22.542\n",
            "Epoch 103/136.. Train loss: 131.688.. Val loss: 57.398.. Train L1 norm: 1.102.. Val L1 norm: 1.094.. Train Linf norm: 23.364.. Val Linf norm: 22.542\n",
            "Epoch 104/136.. Train loss: 178.732.. Val loss: 57.398.. Train L1 norm: 1.099.. Val L1 norm: 1.094.. Train Linf norm: 22.248.. Val Linf norm: 22.542\n",
            "Epoch 105/136.. Train loss: 109.167.. Val loss: 57.398.. Train L1 norm: 1.101.. Val L1 norm: 1.094.. Train Linf norm: 22.835.. Val Linf norm: 22.541\n",
            "Epoch 106/136.. Train loss: 121.398.. Val loss: 57.398.. Train L1 norm: 1.103.. Val L1 norm: 1.094.. Train Linf norm: 22.966.. Val Linf norm: 22.541\n",
            "Epoch 107/136.. Train loss: 149.793.. Val loss: 57.398.. Train L1 norm: 1.108.. Val L1 norm: 1.094.. Train Linf norm: 23.016.. Val Linf norm: 22.541\n",
            "Epoch 108/136.. Train loss: 150.306.. Val loss: 57.398.. Train L1 norm: 1.104.. Val L1 norm: 1.094.. Train Linf norm: 23.501.. Val Linf norm: 22.541\n",
            "Epoch 109/136.. Train loss: 114.924.. Val loss: 57.398.. Train L1 norm: 1.111.. Val L1 norm: 1.094.. Train Linf norm: 25.064.. Val Linf norm: 22.541\n",
            "Epoch 110/136.. Train loss: 127.635.. Val loss: 57.398.. Train L1 norm: 1.098.. Val L1 norm: 1.094.. Train Linf norm: 21.756.. Val Linf norm: 22.541\n",
            "Epoch 111/136.. Train loss: 157.849.. Val loss: 57.398.. Train L1 norm: 1.105.. Val L1 norm: 1.094.. Train Linf norm: 23.355.. Val Linf norm: 22.541\n",
            "Epoch 112/136.. Train loss: 124.141.. Val loss: 57.398.. Train L1 norm: 1.111.. Val L1 norm: 1.094.. Train Linf norm: 24.915.. Val Linf norm: 22.541\n",
            "Epoch 113/136.. Train loss: 149.451.. Val loss: 57.398.. Train L1 norm: 1.106.. Val L1 norm: 1.094.. Train Linf norm: 24.255.. Val Linf norm: 22.541\n",
            "Epoch 114/136.. Train loss: 108.083.. Val loss: 57.398.. Train L1 norm: 1.101.. Val L1 norm: 1.094.. Train Linf norm: 22.870.. Val Linf norm: 22.541\n",
            "Epoch 115/136.. Train loss: 121.835.. Val loss: 57.398.. Train L1 norm: 1.107.. Val L1 norm: 1.094.. Train Linf norm: 23.906.. Val Linf norm: 22.541\n",
            "Epoch 116/136.. Train loss: 114.276.. Val loss: 57.398.. Train L1 norm: 1.110.. Val L1 norm: 1.094.. Train Linf norm: 24.657.. Val Linf norm: 22.541\n",
            "Epoch 117/136.. Train loss: 125.610.. Val loss: 57.398.. Train L1 norm: 1.097.. Val L1 norm: 1.094.. Train Linf norm: 20.878.. Val Linf norm: 22.540\n",
            "Epoch 118/136.. Train loss: 108.771.. Val loss: 57.398.. Train L1 norm: 1.103.. Val L1 norm: 1.094.. Train Linf norm: 22.928.. Val Linf norm: 22.540\n",
            "Epoch 119/136.. Train loss: 111.550.. Val loss: 57.398.. Train L1 norm: 1.100.. Val L1 norm: 1.094.. Train Linf norm: 22.475.. Val Linf norm: 22.540\n",
            "Epoch 120/136.. Train loss: 106.391.. Val loss: 57.398.. Train L1 norm: 1.092.. Val L1 norm: 1.094.. Train Linf norm: 19.784.. Val Linf norm: 22.540\n",
            "Epoch 121/136.. Train loss: 109.251.. Val loss: 57.398.. Train L1 norm: 1.108.. Val L1 norm: 1.094.. Train Linf norm: 24.829.. Val Linf norm: 22.540\n",
            "Epoch 122/136.. Train loss: 131.417.. Val loss: 57.398.. Train L1 norm: 1.099.. Val L1 norm: 1.094.. Train Linf norm: 21.612.. Val Linf norm: 22.540\n",
            "Epoch 123/136.. Train loss: 128.288.. Val loss: 57.398.. Train L1 norm: 1.099.. Val L1 norm: 1.094.. Train Linf norm: 21.993.. Val Linf norm: 22.540\n",
            "Epoch 124/136.. Train loss: 123.145.. Val loss: 57.398.. Train L1 norm: 1.100.. Val L1 norm: 1.094.. Train Linf norm: 21.936.. Val Linf norm: 22.540\n",
            "Epoch 125/136.. Train loss: 129.807.. Val loss: 57.398.. Train L1 norm: 1.103.. Val L1 norm: 1.094.. Train Linf norm: 23.065.. Val Linf norm: 22.540\n",
            "Epoch 126/136.. Train loss: 132.006.. Val loss: 57.398.. Train L1 norm: 1.104.. Val L1 norm: 1.094.. Train Linf norm: 23.822.. Val Linf norm: 22.540\n",
            "Epoch 127/136.. Train loss: 117.044.. Val loss: 57.398.. Train L1 norm: 1.101.. Val L1 norm: 1.094.. Train Linf norm: 21.849.. Val Linf norm: 22.540\n",
            "Epoch 128/136.. Train loss: 128.564.. Val loss: 57.398.. Train L1 norm: 1.094.. Val L1 norm: 1.094.. Train Linf norm: 20.911.. Val Linf norm: 22.540\n",
            "Epoch 129/136.. Train loss: 129.094.. Val loss: 57.398.. Train L1 norm: 1.106.. Val L1 norm: 1.094.. Train Linf norm: 24.331.. Val Linf norm: 22.540\n",
            "Epoch 130/136.. Train loss: 114.677.. Val loss: 57.398.. Train L1 norm: 1.106.. Val L1 norm: 1.094.. Train Linf norm: 22.970.. Val Linf norm: 22.540\n",
            "Epoch 131/136.. Train loss: 125.399.. Val loss: 57.398.. Train L1 norm: 1.103.. Val L1 norm: 1.094.. Train Linf norm: 23.021.. Val Linf norm: 22.540\n",
            "Epoch 132/136.. Train loss: 124.595.. Val loss: 57.398.. Train L1 norm: 1.097.. Val L1 norm: 1.094.. Train Linf norm: 21.663.. Val Linf norm: 22.540\n",
            "Epoch 133/136.. Train loss: 154.131.. Val loss: 57.398.. Train L1 norm: 1.107.. Val L1 norm: 1.094.. Train Linf norm: 23.954.. Val Linf norm: 22.539\n",
            "Epoch 134/136.. Train loss: 122.984.. Val loss: 57.398.. Train L1 norm: 1.112.. Val L1 norm: 1.094.. Train Linf norm: 25.607.. Val Linf norm: 22.539\n",
            "Epoch 135/136.. Train loss: 117.008.. Val loss: 57.398.. Train L1 norm: 1.102.. Val L1 norm: 1.094.. Train Linf norm: 22.885.. Val Linf norm: 22.539\n"
          ]
        },
        {
          "output_type": "stream",
          "name": "stderr",
          "text": [
            "[I 2023-05-31 23:20:06,766] Trial 24 finished with value: 1.0942810616811116 and parameters: {'batch_size': 256, 'dropout_rate': 0.32921126628781017, 'factor': 0.38797319943693104, 'hidden_activation': 'PReLU', 'loss': 'MSE', 'lr': 2.2481112907660167e-05, 'n_epochs': 136, 'n_layers': 9, 'n_units_0': 3273, 'n_units_1': 3731, 'n_units_2': 1116, 'n_units_3': 2561, 'n_units_4': 3310, 'n_units_5': 2774, 'n_units_6': 2979, 'n_units_7': 2676, 'n_units_8': 3927, 'optimizer': 'Adagrad', 'output_activation': 'Linear', 'patience': 7, 'prelu_init': 0.2198337565471674, 'scheduler': 'ReduceLROnPlateau', 'threshold': 0.0020035981459385387}. Best is trial 24 with value: 1.0942810616811116.\n"
          ]
        },
        {
          "output_type": "stream",
          "name": "stdout",
          "text": [
            "Epoch 136/136.. Train loss: 106.602.. Val loss: 57.398.. Train L1 norm: 1.106.. Val L1 norm: 1.094.. Train Linf norm: 23.811.. Val Linf norm: 22.539\n",
            "Epoch 1/101.. Train loss: 3550.874.. Val loss: 105.625.. Train L1 norm: 1.870.. Val L1 norm: 1.369.. Train Linf norm: 143.618.. Val Linf norm: 74.287\n",
            "Epoch 2/101.. Train loss: 1823.773.. Val loss: 74.169.. Train L1 norm: 1.561.. Val L1 norm: 1.241.. Train Linf norm: 101.685.. Val Linf norm: 50.951\n",
            "Epoch 3/101.. Train loss: 1688.963.. Val loss: 64.649.. Train L1 norm: 1.413.. Val L1 norm: 1.180.. Train Linf norm: 75.569.. Val Linf norm: 39.533\n",
            "Epoch 4/101.. Train loss: 654.648.. Val loss: 61.642.. Train L1 norm: 1.307.. Val L1 norm: 1.154.. Train Linf norm: 60.243.. Val Linf norm: 34.573\n",
            "Epoch 5/101.. Train loss: 478.838.. Val loss: 59.883.. Train L1 norm: 1.270.. Val L1 norm: 1.136.. Train Linf norm: 52.977.. Val Linf norm: 31.009\n",
            "Epoch 6/101.. Train loss: 361.361.. Val loss: 59.109.. Train L1 norm: 1.246.. Val L1 norm: 1.127.. Train Linf norm: 50.243.. Val Linf norm: 29.213\n",
            "Epoch 7/101.. Train loss: 397.035.. Val loss: 58.451.. Train L1 norm: 1.223.. Val L1 norm: 1.118.. Train Linf norm: 44.487.. Val Linf norm: 27.280\n",
            "Epoch 8/101.. Train loss: 353.338.. Val loss: 58.019.. Train L1 norm: 1.212.. Val L1 norm: 1.110.. Train Linf norm: 41.706.. Val Linf norm: 25.785\n",
            "Epoch 9/101.. Train loss: 243.224.. Val loss: 57.808.. Train L1 norm: 1.198.. Val L1 norm: 1.107.. Train Linf norm: 41.592.. Val Linf norm: 25.075\n",
            "Epoch 10/101.. Train loss: 179.507.. Val loss: 57.675.. Train L1 norm: 1.191.. Val L1 norm: 1.105.. Train Linf norm: 39.082.. Val Linf norm: 24.743\n",
            "Epoch 11/101.. Train loss: 231.355.. Val loss: 57.521.. Train L1 norm: 1.173.. Val L1 norm: 1.101.. Train Linf norm: 36.590.. Val Linf norm: 23.986\n",
            "Epoch 12/101.. Train loss: 236.320.. Val loss: 57.433.. Train L1 norm: 1.164.. Val L1 norm: 1.098.. Train Linf norm: 33.740.. Val Linf norm: 23.305\n",
            "Epoch 13/101.. Train loss: 218.876.. Val loss: 57.383.. Train L1 norm: 1.152.. Val L1 norm: 1.096.. Train Linf norm: 32.957.. Val Linf norm: 22.954\n",
            "Epoch 14/101.. Train loss: 204.904.. Val loss: 57.352.. Train L1 norm: 1.156.. Val L1 norm: 1.095.. Train Linf norm: 33.930.. Val Linf norm: 22.556\n",
            "Epoch 15/101.. Train loss: 156.985.. Val loss: 57.333.. Train L1 norm: 1.149.. Val L1 norm: 1.094.. Train Linf norm: 31.944.. Val Linf norm: 22.531\n",
            "Epoch 16/101.. Train loss: 145.261.. Val loss: 57.321.. Train L1 norm: 1.139.. Val L1 norm: 1.095.. Train Linf norm: 28.424.. Val Linf norm: 22.562\n",
            "Epoch 17/101.. Train loss: 176.081.. Val loss: 57.322.. Train L1 norm: 1.142.. Val L1 norm: 1.094.. Train Linf norm: 30.257.. Val Linf norm: 22.415\n",
            "Epoch 18/101.. Train loss: 157.894.. Val loss: 57.332.. Train L1 norm: 1.130.. Val L1 norm: 1.093.. Train Linf norm: 27.942.. Val Linf norm: 22.228\n",
            "Epoch 19/101.. Train loss: 160.418.. Val loss: 57.347.. Train L1 norm: 1.125.. Val L1 norm: 1.093.. Train Linf norm: 27.241.. Val Linf norm: 22.103\n",
            "Epoch 20/101.. Train loss: 125.732.. Val loss: 57.355.. Train L1 norm: 1.124.. Val L1 norm: 1.093.. Train Linf norm: 27.561.. Val Linf norm: 22.196\n",
            "Epoch 21/101.. Train loss: 124.830.. Val loss: 57.361.. Train L1 norm: 1.130.. Val L1 norm: 1.094.. Train Linf norm: 27.886.. Val Linf norm: 22.349\n",
            "Epoch 22/101.. Train loss: 137.752.. Val loss: 57.366.. Train L1 norm: 1.121.. Val L1 norm: 1.094.. Train Linf norm: 26.162.. Val Linf norm: 22.387\n",
            "Epoch 23/101.. Train loss: 148.196.. Val loss: 57.371.. Train L1 norm: 1.126.. Val L1 norm: 1.094.. Train Linf norm: 28.189.. Val Linf norm: 22.423\n",
            "Epoch 24/101.. Train loss: 141.570.. Val loss: 57.380.. Train L1 norm: 1.123.. Val L1 norm: 1.094.. Train Linf norm: 26.889.. Val Linf norm: 22.434\n",
            "Epoch 25/101.. Train loss: 116.070.. Val loss: 57.379.. Train L1 norm: 1.125.. Val L1 norm: 1.095.. Train Linf norm: 27.409.. Val Linf norm: 22.548\n",
            "Epoch 26/101.. Train loss: 124.542.. Val loss: 57.383.. Train L1 norm: 1.121.. Val L1 norm: 1.095.. Train Linf norm: 26.822.. Val Linf norm: 22.611\n",
            "Epoch 27/101.. Train loss: 140.624.. Val loss: 57.396.. Train L1 norm: 1.122.. Val L1 norm: 1.095.. Train Linf norm: 25.447.. Val Linf norm: 22.579\n",
            "Epoch 28/101.. Train loss: 158.088.. Val loss: 57.409.. Train L1 norm: 1.115.. Val L1 norm: 1.095.. Train Linf norm: 25.328.. Val Linf norm: 22.554\n",
            "Epoch 29/101.. Train loss: 115.591.. Val loss: 57.411.. Train L1 norm: 1.117.. Val L1 norm: 1.095.. Train Linf norm: 25.508.. Val Linf norm: 22.642\n",
            "Epoch 30/101.. Train loss: 109.308.. Val loss: 57.412.. Train L1 norm: 1.118.. Val L1 norm: 1.096.. Train Linf norm: 25.782.. Val Linf norm: 22.681\n",
            "Epoch 31/101.. Train loss: 130.519.. Val loss: 57.416.. Train L1 norm: 1.118.. Val L1 norm: 1.096.. Train Linf norm: 24.880.. Val Linf norm: 22.685\n",
            "Epoch 32/101.. Train loss: 108.891.. Val loss: 57.416.. Train L1 norm: 1.117.. Val L1 norm: 1.096.. Train Linf norm: 24.980.. Val Linf norm: 22.726\n",
            "Epoch 33/101.. Train loss: 121.401.. Val loss: 57.417.. Train L1 norm: 1.119.. Val L1 norm: 1.096.. Train Linf norm: 26.805.. Val Linf norm: 22.760\n",
            "Epoch 34/101.. Train loss: 138.549.. Val loss: 57.422.. Train L1 norm: 1.125.. Val L1 norm: 1.096.. Train Linf norm: 27.778.. Val Linf norm: 22.754\n",
            "Epoch 35/101.. Train loss: 144.065.. Val loss: 57.427.. Train L1 norm: 1.123.. Val L1 norm: 1.096.. Train Linf norm: 27.644.. Val Linf norm: 22.747\n",
            "Epoch 36/101.. Train loss: 115.033.. Val loss: 57.430.. Train L1 norm: 1.117.. Val L1 norm: 1.096.. Train Linf norm: 25.222.. Val Linf norm: 22.771\n",
            "Epoch 37/101.. Train loss: 117.596.. Val loss: 57.431.. Train L1 norm: 1.126.. Val L1 norm: 1.096.. Train Linf norm: 27.760.. Val Linf norm: 22.803\n",
            "Epoch 38/101.. Train loss: 138.061.. Val loss: 57.433.. Train L1 norm: 1.122.. Val L1 norm: 1.096.. Train Linf norm: 27.266.. Val Linf norm: 22.800\n",
            "Epoch 39/101.. Train loss: 116.593.. Val loss: 57.432.. Train L1 norm: 1.122.. Val L1 norm: 1.096.. Train Linf norm: 27.603.. Val Linf norm: 22.822\n",
            "Epoch 40/101.. Train loss: 208.887.. Val loss: 57.437.. Train L1 norm: 1.113.. Val L1 norm: 1.096.. Train Linf norm: 24.849.. Val Linf norm: 22.796\n",
            "Epoch 41/101.. Train loss: 126.495.. Val loss: 57.439.. Train L1 norm: 1.120.. Val L1 norm: 1.096.. Train Linf norm: 25.857.. Val Linf norm: 22.799\n",
            "Epoch 42/101.. Train loss: 113.649.. Val loss: 57.440.. Train L1 norm: 1.114.. Val L1 norm: 1.096.. Train Linf norm: 24.596.. Val Linf norm: 22.806\n",
            "Epoch 43/101.. Train loss: 112.789.. Val loss: 57.441.. Train L1 norm: 1.116.. Val L1 norm: 1.096.. Train Linf norm: 24.861.. Val Linf norm: 22.816\n",
            "Epoch 44/101.. Train loss: 126.603.. Val loss: 57.442.. Train L1 norm: 1.121.. Val L1 norm: 1.096.. Train Linf norm: 26.680.. Val Linf norm: 22.818\n",
            "Epoch 45/101.. Train loss: 119.692.. Val loss: 57.444.. Train L1 norm: 1.120.. Val L1 norm: 1.096.. Train Linf norm: 26.036.. Val Linf norm: 22.824\n",
            "Epoch 46/101.. Train loss: 128.841.. Val loss: 57.444.. Train L1 norm: 1.118.. Val L1 norm: 1.096.. Train Linf norm: 25.850.. Val Linf norm: 22.826\n",
            "Epoch 47/101.. Train loss: 135.607.. Val loss: 57.445.. Train L1 norm: 1.115.. Val L1 norm: 1.096.. Train Linf norm: 25.381.. Val Linf norm: 22.827\n",
            "Epoch 48/101.. Train loss: 117.185.. Val loss: 57.445.. Train L1 norm: 1.115.. Val L1 norm: 1.096.. Train Linf norm: 25.312.. Val Linf norm: 22.832\n",
            "Epoch 49/101.. Train loss: 126.312.. Val loss: 57.446.. Train L1 norm: 1.108.. Val L1 norm: 1.096.. Train Linf norm: 22.838.. Val Linf norm: 22.831\n",
            "Epoch 50/101.. Train loss: 131.737.. Val loss: 57.447.. Train L1 norm: 1.116.. Val L1 norm: 1.096.. Train Linf norm: 24.949.. Val Linf norm: 22.830\n",
            "Epoch 51/101.. Train loss: 139.876.. Val loss: 57.447.. Train L1 norm: 1.113.. Val L1 norm: 1.096.. Train Linf norm: 25.223.. Val Linf norm: 22.828\n",
            "Epoch 52/101.. Train loss: 126.837.. Val loss: 57.448.. Train L1 norm: 1.114.. Val L1 norm: 1.096.. Train Linf norm: 24.973.. Val Linf norm: 22.831\n",
            "Epoch 53/101.. Train loss: 127.085.. Val loss: 57.449.. Train L1 norm: 1.110.. Val L1 norm: 1.096.. Train Linf norm: 23.914.. Val Linf norm: 22.831\n",
            "Epoch 54/101.. Train loss: 113.978.. Val loss: 57.449.. Train L1 norm: 1.120.. Val L1 norm: 1.096.. Train Linf norm: 26.448.. Val Linf norm: 22.832\n",
            "Epoch 55/101.. Train loss: 124.660.. Val loss: 57.449.. Train L1 norm: 1.118.. Val L1 norm: 1.096.. Train Linf norm: 25.919.. Val Linf norm: 22.833\n",
            "Epoch 56/101.. Train loss: 122.224.. Val loss: 57.449.. Train L1 norm: 1.122.. Val L1 norm: 1.096.. Train Linf norm: 27.737.. Val Linf norm: 22.834\n",
            "Epoch 57/101.. Train loss: 137.996.. Val loss: 57.449.. Train L1 norm: 1.114.. Val L1 norm: 1.096.. Train Linf norm: 24.925.. Val Linf norm: 22.834\n",
            "Epoch 58/101.. Train loss: 166.393.. Val loss: 57.450.. Train L1 norm: 1.115.. Val L1 norm: 1.096.. Train Linf norm: 25.513.. Val Linf norm: 22.832\n",
            "Epoch 59/101.. Train loss: 109.170.. Val loss: 57.450.. Train L1 norm: 1.116.. Val L1 norm: 1.096.. Train Linf norm: 25.950.. Val Linf norm: 22.835\n",
            "Epoch 60/101.. Train loss: 107.552.. Val loss: 57.450.. Train L1 norm: 1.115.. Val L1 norm: 1.096.. Train Linf norm: 25.123.. Val Linf norm: 22.837\n",
            "Epoch 61/101.. Train loss: 115.648.. Val loss: 57.450.. Train L1 norm: 1.114.. Val L1 norm: 1.096.. Train Linf norm: 24.995.. Val Linf norm: 22.838\n",
            "Epoch 62/101.. Train loss: 120.106.. Val loss: 57.450.. Train L1 norm: 1.119.. Val L1 norm: 1.096.. Train Linf norm: 25.878.. Val Linf norm: 22.838\n",
            "Epoch 63/101.. Train loss: 160.744.. Val loss: 57.450.. Train L1 norm: 1.120.. Val L1 norm: 1.096.. Train Linf norm: 26.352.. Val Linf norm: 22.837\n",
            "Epoch 64/101.. Train loss: 110.346.. Val loss: 57.450.. Train L1 norm: 1.122.. Val L1 norm: 1.096.. Train Linf norm: 26.704.. Val Linf norm: 22.837\n",
            "Epoch 65/101.. Train loss: 110.644.. Val loss: 57.450.. Train L1 norm: 1.112.. Val L1 norm: 1.096.. Train Linf norm: 24.059.. Val Linf norm: 22.838\n",
            "Epoch 66/101.. Train loss: 116.256.. Val loss: 57.450.. Train L1 norm: 1.110.. Val L1 norm: 1.096.. Train Linf norm: 23.296.. Val Linf norm: 22.838\n",
            "Epoch 67/101.. Train loss: 107.597.. Val loss: 57.450.. Train L1 norm: 1.114.. Val L1 norm: 1.096.. Train Linf norm: 24.008.. Val Linf norm: 22.839\n",
            "Epoch 68/101.. Train loss: 111.135.. Val loss: 57.451.. Train L1 norm: 1.110.. Val L1 norm: 1.096.. Train Linf norm: 23.959.. Val Linf norm: 22.840\n",
            "Epoch 69/101.. Train loss: 144.098.. Val loss: 57.451.. Train L1 norm: 1.113.. Val L1 norm: 1.096.. Train Linf norm: 24.981.. Val Linf norm: 22.839\n",
            "Epoch 70/101.. Train loss: 140.748.. Val loss: 57.451.. Train L1 norm: 1.114.. Val L1 norm: 1.096.. Train Linf norm: 24.877.. Val Linf norm: 22.839\n",
            "Epoch 71/101.. Train loss: 110.744.. Val loss: 57.451.. Train L1 norm: 1.109.. Val L1 norm: 1.096.. Train Linf norm: 23.848.. Val Linf norm: 22.839\n",
            "Epoch 72/101.. Train loss: 112.366.. Val loss: 57.451.. Train L1 norm: 1.112.. Val L1 norm: 1.096.. Train Linf norm: 24.484.. Val Linf norm: 22.839\n",
            "Epoch 73/101.. Train loss: 129.783.. Val loss: 57.451.. Train L1 norm: 1.117.. Val L1 norm: 1.096.. Train Linf norm: 25.050.. Val Linf norm: 22.839\n",
            "Epoch 74/101.. Train loss: 112.474.. Val loss: 57.451.. Train L1 norm: 1.116.. Val L1 norm: 1.096.. Train Linf norm: 25.482.. Val Linf norm: 22.839\n",
            "Epoch 75/101.. Train loss: 202.484.. Val loss: 57.451.. Train L1 norm: 1.115.. Val L1 norm: 1.096.. Train Linf norm: 24.252.. Val Linf norm: 22.838\n",
            "Epoch 76/101.. Train loss: 116.367.. Val loss: 57.451.. Train L1 norm: 1.119.. Val L1 norm: 1.096.. Train Linf norm: 26.080.. Val Linf norm: 22.838\n",
            "Epoch 77/101.. Train loss: 107.892.. Val loss: 57.451.. Train L1 norm: 1.111.. Val L1 norm: 1.096.. Train Linf norm: 24.136.. Val Linf norm: 22.838\n",
            "Epoch 78/101.. Train loss: 110.436.. Val loss: 57.451.. Train L1 norm: 1.113.. Val L1 norm: 1.096.. Train Linf norm: 24.852.. Val Linf norm: 22.838\n",
            "Epoch 79/101.. Train loss: 125.048.. Val loss: 57.451.. Train L1 norm: 1.123.. Val L1 norm: 1.096.. Train Linf norm: 26.959.. Val Linf norm: 22.838\n",
            "Epoch 80/101.. Train loss: 120.821.. Val loss: 57.451.. Train L1 norm: 1.112.. Val L1 norm: 1.096.. Train Linf norm: 24.955.. Val Linf norm: 22.838\n",
            "Epoch 81/101.. Train loss: 133.205.. Val loss: 57.451.. Train L1 norm: 1.112.. Val L1 norm: 1.096.. Train Linf norm: 24.325.. Val Linf norm: 22.837\n",
            "Epoch 82/101.. Train loss: 152.321.. Val loss: 57.451.. Train L1 norm: 1.119.. Val L1 norm: 1.096.. Train Linf norm: 26.343.. Val Linf norm: 22.837\n",
            "Epoch 83/101.. Train loss: 129.030.. Val loss: 57.451.. Train L1 norm: 1.108.. Val L1 norm: 1.096.. Train Linf norm: 23.212.. Val Linf norm: 22.837\n",
            "Epoch 84/101.. Train loss: 141.588.. Val loss: 57.451.. Train L1 norm: 1.115.. Val L1 norm: 1.096.. Train Linf norm: 24.258.. Val Linf norm: 22.837\n",
            "Epoch 85/101.. Train loss: 122.985.. Val loss: 57.451.. Train L1 norm: 1.115.. Val L1 norm: 1.096.. Train Linf norm: 24.576.. Val Linf norm: 22.836\n",
            "Epoch 86/101.. Train loss: 114.945.. Val loss: 57.451.. Train L1 norm: 1.115.. Val L1 norm: 1.096.. Train Linf norm: 25.175.. Val Linf norm: 22.836\n",
            "Epoch 87/101.. Train loss: 142.958.. Val loss: 57.451.. Train L1 norm: 1.120.. Val L1 norm: 1.096.. Train Linf norm: 26.099.. Val Linf norm: 22.836\n",
            "Epoch 88/101.. Train loss: 124.862.. Val loss: 57.451.. Train L1 norm: 1.116.. Val L1 norm: 1.096.. Train Linf norm: 24.426.. Val Linf norm: 22.836\n",
            "Epoch 89/101.. Train loss: 116.317.. Val loss: 57.451.. Train L1 norm: 1.122.. Val L1 norm: 1.096.. Train Linf norm: 27.210.. Val Linf norm: 22.836\n",
            "Epoch 90/101.. Train loss: 124.470.. Val loss: 57.451.. Train L1 norm: 1.114.. Val L1 norm: 1.096.. Train Linf norm: 25.319.. Val Linf norm: 22.836\n",
            "Epoch 91/101.. Train loss: 110.400.. Val loss: 57.451.. Train L1 norm: 1.118.. Val L1 norm: 1.096.. Train Linf norm: 26.057.. Val Linf norm: 22.836\n",
            "Epoch 92/101.. Train loss: 174.228.. Val loss: 57.451.. Train L1 norm: 1.120.. Val L1 norm: 1.096.. Train Linf norm: 26.585.. Val Linf norm: 22.836\n",
            "Epoch 93/101.. Train loss: 108.085.. Val loss: 57.451.. Train L1 norm: 1.109.. Val L1 norm: 1.096.. Train Linf norm: 24.155.. Val Linf norm: 22.836\n",
            "Epoch 94/101.. Train loss: 129.574.. Val loss: 57.451.. Train L1 norm: 1.119.. Val L1 norm: 1.096.. Train Linf norm: 25.681.. Val Linf norm: 22.836\n",
            "Epoch 95/101.. Train loss: 109.079.. Val loss: 57.451.. Train L1 norm: 1.127.. Val L1 norm: 1.096.. Train Linf norm: 27.881.. Val Linf norm: 22.836\n",
            "Epoch 96/101.. Train loss: 132.745.. Val loss: 57.451.. Train L1 norm: 1.114.. Val L1 norm: 1.096.. Train Linf norm: 25.194.. Val Linf norm: 22.836\n",
            "Epoch 97/101.. Train loss: 119.736.. Val loss: 57.451.. Train L1 norm: 1.126.. Val L1 norm: 1.096.. Train Linf norm: 27.807.. Val Linf norm: 22.836\n",
            "Epoch 98/101.. Train loss: 114.668.. Val loss: 57.451.. Train L1 norm: 1.111.. Val L1 norm: 1.096.. Train Linf norm: 23.351.. Val Linf norm: 22.836\n",
            "Epoch 99/101.. Train loss: 135.647.. Val loss: 57.451.. Train L1 norm: 1.123.. Val L1 norm: 1.096.. Train Linf norm: 27.641.. Val Linf norm: 22.836\n",
            "Epoch 100/101.. Train loss: 108.252.. Val loss: 57.451.. Train L1 norm: 1.118.. Val L1 norm: 1.096.. Train Linf norm: 26.539.. Val Linf norm: 22.836\n"
          ]
        },
        {
          "output_type": "stream",
          "name": "stderr",
          "text": [
            "[I 2023-05-31 23:40:04,647] Trial 25 finished with value: 1.0964754828770955 and parameters: {'batch_size': 256, 'dropout_rate': 0.34441263653877247, 'factor': 0.41360068170694175, 'hidden_activation': 'PReLU', 'loss': 'MSE', 'lr': 2.404345748368037e-05, 'n_epochs': 101, 'n_layers': 9, 'n_units_0': 3512, 'n_units_1': 3637, 'n_units_2': 121, 'n_units_3': 2279, 'n_units_4': 3664, 'n_units_5': 2733, 'n_units_6': 3084, 'n_units_7': 2639, 'n_units_8': 3868, 'optimizer': 'Adagrad', 'output_activation': 'Linear', 'patience': 7, 'prelu_init': 0.2215202733224129, 'scheduler': 'ReduceLROnPlateau', 'threshold': 0.0018356746656969514}. Best is trial 24 with value: 1.0942810616811116.\n"
          ]
        },
        {
          "output_type": "stream",
          "name": "stdout",
          "text": [
            "Epoch 101/101.. Train loss: 159.290.. Val loss: 57.451.. Train L1 norm: 1.114.. Val L1 norm: 1.096.. Train Linf norm: 25.211.. Val Linf norm: 22.836\n"
          ]
        },
        {
          "output_type": "stream",
          "name": "stderr",
          "text": [
            "[I 2023-05-31 23:40:18,412] Trial 26 pruned. \n"
          ]
        },
        {
          "output_type": "stream",
          "name": "stdout",
          "text": [
            "Epoch 1/103.. Train loss: 5.635.. Val loss: 4.728.. Train L1 norm: 3.611.. Val L1 norm: 2.295.. Train Linf norm: 403.484.. Val Linf norm: 224.373\n"
          ]
        },
        {
          "output_type": "stream",
          "name": "stderr",
          "text": [
            "[I 2023-05-31 23:40:25,100] Trial 27 pruned. \n"
          ]
        },
        {
          "output_type": "stream",
          "name": "stdout",
          "text": [
            "Epoch 1/84.. Train loss: 2.779.. Val loss: 2.365.. Train L1 norm: 2.909.. Val L1 norm: 2.732.. Train Linf norm: 926.275.. Val Linf norm: 884.284\n"
          ]
        },
        {
          "output_type": "stream",
          "name": "stderr",
          "text": [
            "[I 2023-05-31 23:40:50,211] Trial 28 pruned. \n"
          ]
        },
        {
          "output_type": "stream",
          "name": "stdout",
          "text": [
            "Epoch 1/95.. Train loss: 4.602.. Val loss: 4.294.. Train L1 norm: 1.685.. Val L1 norm: 2.564.. Train Linf norm: 20.967.. Val Linf norm: 46.354\n"
          ]
        },
        {
          "output_type": "stream",
          "name": "stderr",
          "text": [
            "[I 2023-05-31 23:40:55,675] Trial 29 pruned. \n"
          ]
        },
        {
          "output_type": "stream",
          "name": "stdout",
          "text": [
            "Epoch 1/80.. Train loss: 6.128.. Val loss: 6.775.. Train L1 norm: 4.125.. Val L1 norm: 8.345.. Train Linf norm: 475.072.. Val Linf norm: 1145.241\n"
          ]
        },
        {
          "output_type": "stream",
          "name": "stderr",
          "text": [
            "[I 2023-05-31 23:41:13,029] Trial 30 pruned. \n"
          ]
        },
        {
          "output_type": "stream",
          "name": "stdout",
          "text": [
            "Epoch 1/105.. Train loss: 154686.287.. Val loss: 129.079.. Train L1 norm: 22.980.. Val L1 norm: 2.265.. Train Linf norm: 1654.987.. Val Linf norm: 121.780\n",
            "Epoch 1/139.. Train loss: 2206.918.. Val loss: 114.888.. Train L1 norm: 1.744.. Val L1 norm: 1.361.. Train Linf norm: 130.299.. Val Linf norm: 73.835\n",
            "Epoch 2/139.. Train loss: 1066.907.. Val loss: 80.968.. Train L1 norm: 1.421.. Val L1 norm: 1.245.. Train Linf norm: 81.543.. Val Linf norm: 52.593\n",
            "Epoch 3/139.. Train loss: 1027.853.. Val loss: 69.364.. Train L1 norm: 1.321.. Val L1 norm: 1.190.. Train Linf norm: 66.892.. Val Linf norm: 42.099\n",
            "Epoch 4/139.. Train loss: 515.438.. Val loss: 64.396.. Train L1 norm: 1.262.. Val L1 norm: 1.160.. Train Linf norm: 53.026.. Val Linf norm: 36.228\n",
            "Epoch 5/139.. Train loss: 439.952.. Val loss: 61.614.. Train L1 norm: 1.202.. Val L1 norm: 1.139.. Train Linf norm: 41.578.. Val Linf norm: 32.060\n",
            "Epoch 6/139.. Train loss: 367.863.. Val loss: 60.066.. Train L1 norm: 1.187.. Val L1 norm: 1.125.. Train Linf norm: 39.348.. Val Linf norm: 29.170\n",
            "Epoch 7/139.. Train loss: 203.635.. Val loss: 59.293.. Train L1 norm: 1.162.. Val L1 norm: 1.117.. Train Linf norm: 35.990.. Val Linf norm: 27.646\n",
            "Epoch 8/139.. Train loss: 279.257.. Val loss: 58.570.. Train L1 norm: 1.154.. Val L1 norm: 1.108.. Train Linf norm: 33.303.. Val Linf norm: 25.774\n",
            "Epoch 9/139.. Train loss: 215.541.. Val loss: 58.177.. Train L1 norm: 1.143.. Val L1 norm: 1.103.. Train Linf norm: 31.849.. Val Linf norm: 24.670\n",
            "Epoch 10/139.. Train loss: 196.965.. Val loss: 57.863.. Train L1 norm: 1.147.. Val L1 norm: 1.098.. Train Linf norm: 32.502.. Val Linf norm: 23.546\n",
            "Epoch 11/139.. Train loss: 243.655.. Val loss: 57.623.. Train L1 norm: 1.119.. Val L1 norm: 1.092.. Train Linf norm: 26.392.. Val Linf norm: 22.228\n",
            "Epoch 12/139.. Train loss: 127.354.. Val loss: 57.540.. Train L1 norm: 1.112.. Val L1 norm: 1.091.. Train Linf norm: 25.319.. Val Linf norm: 22.034\n",
            "Epoch 13/139.. Train loss: 153.852.. Val loss: 57.471.. Train L1 norm: 1.111.. Val L1 norm: 1.089.. Train Linf norm: 24.812.. Val Linf norm: 21.632\n",
            "Epoch 14/139.. Train loss: 153.090.. Val loss: 57.430.. Train L1 norm: 1.100.. Val L1 norm: 1.087.. Train Linf norm: 22.843.. Val Linf norm: 21.223\n",
            "Epoch 15/139.. Train loss: 116.288.. Val loss: 57.406.. Train L1 norm: 1.093.. Val L1 norm: 1.087.. Train Linf norm: 21.353.. Val Linf norm: 21.241\n",
            "Epoch 16/139.. Train loss: 135.549.. Val loss: 57.399.. Train L1 norm: 1.101.. Val L1 norm: 1.086.. Train Linf norm: 23.252.. Val Linf norm: 21.009\n",
            "Epoch 17/139.. Train loss: 111.128.. Val loss: 57.391.. Train L1 norm: 1.094.. Val L1 norm: 1.087.. Train Linf norm: 21.941.. Val Linf norm: 21.211\n",
            "Epoch 18/139.. Train loss: 131.339.. Val loss: 57.413.. Train L1 norm: 1.084.. Val L1 norm: 1.086.. Train Linf norm: 19.317.. Val Linf norm: 20.864\n",
            "Epoch 19/139.. Train loss: 114.218.. Val loss: 57.428.. Train L1 norm: 1.093.. Val L1 norm: 1.086.. Train Linf norm: 21.460.. Val Linf norm: 20.871\n",
            "Epoch 20/139.. Train loss: 123.559.. Val loss: 57.463.. Train L1 norm: 1.085.. Val L1 norm: 1.085.. Train Linf norm: 19.432.. Val Linf norm: 20.737\n",
            "Epoch 21/139.. Train loss: 120.431.. Val loss: 57.507.. Train L1 norm: 1.083.. Val L1 norm: 1.085.. Train Linf norm: 19.362.. Val Linf norm: 20.613\n",
            "Epoch 22/139.. Train loss: 158.921.. Val loss: 57.606.. Train L1 norm: 1.076.. Val L1 norm: 1.083.. Train Linf norm: 17.583.. Val Linf norm: 20.132\n",
            "Epoch 23/139.. Train loss: 111.469.. Val loss: 57.631.. Train L1 norm: 1.072.. Val L1 norm: 1.084.. Train Linf norm: 16.988.. Val Linf norm: 20.295\n",
            "Epoch 24/139.. Train loss: 107.805.. Val loss: 57.611.. Train L1 norm: 1.081.. Val L1 norm: 1.086.. Train Linf norm: 19.254.. Val Linf norm: 20.777\n",
            "Epoch 25/139.. Train loss: 118.148.. Val loss: 57.667.. Train L1 norm: 1.078.. Val L1 norm: 1.086.. Train Linf norm: 18.488.. Val Linf norm: 20.751\n",
            "Epoch 26/139.. Train loss: 108.123.. Val loss: 57.675.. Train L1 norm: 1.070.. Val L1 norm: 1.087.. Train Linf norm: 16.447.. Val Linf norm: 20.853\n",
            "Epoch 27/139.. Train loss: 109.706.. Val loss: 57.681.. Train L1 norm: 1.082.. Val L1 norm: 1.087.. Train Linf norm: 20.051.. Val Linf norm: 20.969\n",
            "Epoch 28/139.. Train loss: 113.800.. Val loss: 57.704.. Train L1 norm: 1.079.. Val L1 norm: 1.087.. Train Linf norm: 18.338.. Val Linf norm: 20.971\n",
            "Epoch 29/139.. Train loss: 106.910.. Val loss: 57.712.. Train L1 norm: 1.081.. Val L1 norm: 1.088.. Train Linf norm: 18.767.. Val Linf norm: 21.078\n",
            "Epoch 30/139.. Train loss: 135.295.. Val loss: 57.763.. Train L1 norm: 1.078.. Val L1 norm: 1.087.. Train Linf norm: 18.358.. Val Linf norm: 20.942\n",
            "Epoch 31/139.. Train loss: 104.065.. Val loss: 57.749.. Train L1 norm: 1.077.. Val L1 norm: 1.088.. Train Linf norm: 18.097.. Val Linf norm: 21.165\n",
            "Epoch 32/139.. Train loss: 105.672.. Val loss: 57.727.. Train L1 norm: 1.076.. Val L1 norm: 1.090.. Train Linf norm: 17.327.. Val Linf norm: 21.437\n",
            "Epoch 33/139.. Train loss: 116.999.. Val loss: 57.686.. Train L1 norm: 1.083.. Val L1 norm: 1.091.. Train Linf norm: 19.473.. Val Linf norm: 21.805\n",
            "Epoch 34/139.. Train loss: 106.588.. Val loss: 57.689.. Train L1 norm: 1.088.. Val L1 norm: 1.092.. Train Linf norm: 20.244.. Val Linf norm: 21.853\n",
            "Epoch 35/139.. Train loss: 105.864.. Val loss: 57.692.. Train L1 norm: 1.077.. Val L1 norm: 1.092.. Train Linf norm: 17.417.. Val Linf norm: 21.897\n",
            "Epoch 36/139.. Train loss: 113.552.. Val loss: 57.678.. Train L1 norm: 1.078.. Val L1 norm: 1.093.. Train Linf norm: 17.778.. Val Linf norm: 22.041\n",
            "Epoch 37/139.. Train loss: 136.890.. Val loss: 57.692.. Train L1 norm: 1.083.. Val L1 norm: 1.092.. Train Linf norm: 18.968.. Val Linf norm: 22.019\n",
            "Epoch 38/139.. Train loss: 106.161.. Val loss: 57.684.. Train L1 norm: 1.079.. Val L1 norm: 1.093.. Train Linf norm: 18.319.. Val Linf norm: 22.127\n",
            "Epoch 39/139.. Train loss: 105.168.. Val loss: 57.686.. Train L1 norm: 1.079.. Val L1 norm: 1.093.. Train Linf norm: 18.459.. Val Linf norm: 22.176\n",
            "Epoch 40/139.. Train loss: 103.864.. Val loss: 57.680.. Train L1 norm: 1.086.. Val L1 norm: 1.094.. Train Linf norm: 19.782.. Val Linf norm: 22.264\n",
            "Epoch 41/139.. Train loss: 108.436.. Val loss: 57.678.. Train L1 norm: 1.084.. Val L1 norm: 1.094.. Train Linf norm: 19.210.. Val Linf norm: 22.337\n",
            "Epoch 42/139.. Train loss: 104.796.. Val loss: 57.675.. Train L1 norm: 1.086.. Val L1 norm: 1.094.. Train Linf norm: 19.957.. Val Linf norm: 22.376\n",
            "Epoch 43/139.. Train loss: 122.143.. Val loss: 57.682.. Train L1 norm: 1.085.. Val L1 norm: 1.094.. Train Linf norm: 19.542.. Val Linf norm: 22.359\n",
            "Epoch 44/139.. Train loss: 113.757.. Val loss: 57.690.. Train L1 norm: 1.088.. Val L1 norm: 1.094.. Train Linf norm: 20.058.. Val Linf norm: 22.345\n",
            "Epoch 45/139.. Train loss: 121.451.. Val loss: 57.696.. Train L1 norm: 1.077.. Val L1 norm: 1.094.. Train Linf norm: 17.360.. Val Linf norm: 22.330\n",
            "Epoch 46/139.. Train loss: 105.614.. Val loss: 57.697.. Train L1 norm: 1.081.. Val L1 norm: 1.094.. Train Linf norm: 18.729.. Val Linf norm: 22.350\n",
            "Epoch 47/139.. Train loss: 124.276.. Val loss: 57.705.. Train L1 norm: 1.088.. Val L1 norm: 1.094.. Train Linf norm: 21.245.. Val Linf norm: 22.327\n",
            "Epoch 48/139.. Train loss: 104.699.. Val loss: 57.703.. Train L1 norm: 1.085.. Val L1 norm: 1.094.. Train Linf norm: 19.387.. Val Linf norm: 22.363\n",
            "Epoch 49/139.. Train loss: 106.595.. Val loss: 57.701.. Train L1 norm: 1.074.. Val L1 norm: 1.094.. Train Linf norm: 17.493.. Val Linf norm: 22.397\n",
            "Epoch 50/139.. Train loss: 108.109.. Val loss: 57.701.. Train L1 norm: 1.081.. Val L1 norm: 1.094.. Train Linf norm: 18.080.. Val Linf norm: 22.411\n",
            "Epoch 51/139.. Train loss: 110.129.. Val loss: 57.702.. Train L1 norm: 1.084.. Val L1 norm: 1.094.. Train Linf norm: 19.503.. Val Linf norm: 22.413\n",
            "Epoch 52/139.. Train loss: 109.242.. Val loss: 57.704.. Train L1 norm: 1.081.. Val L1 norm: 1.094.. Train Linf norm: 18.816.. Val Linf norm: 22.413\n",
            "Epoch 53/139.. Train loss: 107.374.. Val loss: 57.704.. Train L1 norm: 1.081.. Val L1 norm: 1.095.. Train Linf norm: 18.285.. Val Linf norm: 22.427\n",
            "Epoch 54/139.. Train loss: 105.256.. Val loss: 57.704.. Train L1 norm: 1.086.. Val L1 norm: 1.095.. Train Linf norm: 19.716.. Val Linf norm: 22.434\n",
            "Epoch 55/139.. Train loss: 106.559.. Val loss: 57.705.. Train L1 norm: 1.080.. Val L1 norm: 1.095.. Train Linf norm: 18.711.. Val Linf norm: 22.440\n",
            "Epoch 56/139.. Train loss: 105.745.. Val loss: 57.703.. Train L1 norm: 1.091.. Val L1 norm: 1.095.. Train Linf norm: 20.845.. Val Linf norm: 22.459\n",
            "Epoch 57/139.. Train loss: 131.528.. Val loss: 57.707.. Train L1 norm: 1.083.. Val L1 norm: 1.095.. Train Linf norm: 19.023.. Val Linf norm: 22.448\n",
            "Epoch 58/139.. Train loss: 108.545.. Val loss: 57.707.. Train L1 norm: 1.080.. Val L1 norm: 1.095.. Train Linf norm: 18.249.. Val Linf norm: 22.450\n",
            "Epoch 59/139.. Train loss: 114.689.. Val loss: 57.708.. Train L1 norm: 1.072.. Val L1 norm: 1.095.. Train Linf norm: 16.824.. Val Linf norm: 22.449\n",
            "Epoch 60/139.. Train loss: 132.605.. Val loss: 57.711.. Train L1 norm: 1.091.. Val L1 norm: 1.095.. Train Linf norm: 20.239.. Val Linf norm: 22.442\n",
            "Epoch 61/139.. Train loss: 122.462.. Val loss: 57.712.. Train L1 norm: 1.083.. Val L1 norm: 1.095.. Train Linf norm: 19.171.. Val Linf norm: 22.438\n",
            "Epoch 62/139.. Train loss: 105.821.. Val loss: 57.712.. Train L1 norm: 1.082.. Val L1 norm: 1.095.. Train Linf norm: 18.799.. Val Linf norm: 22.442\n",
            "Epoch 63/139.. Train loss: 112.890.. Val loss: 57.711.. Train L1 norm: 1.086.. Val L1 norm: 1.095.. Train Linf norm: 20.069.. Val Linf norm: 22.452\n",
            "Epoch 64/139.. Train loss: 108.038.. Val loss: 57.711.. Train L1 norm: 1.088.. Val L1 norm: 1.095.. Train Linf norm: 19.772.. Val Linf norm: 22.455\n",
            "Epoch 65/139.. Train loss: 108.096.. Val loss: 57.711.. Train L1 norm: 1.084.. Val L1 norm: 1.095.. Train Linf norm: 19.787.. Val Linf norm: 22.458\n",
            "Epoch 66/139.. Train loss: 110.133.. Val loss: 57.712.. Train L1 norm: 1.080.. Val L1 norm: 1.095.. Train Linf norm: 18.284.. Val Linf norm: 22.458\n",
            "Epoch 67/139.. Train loss: 135.189.. Val loss: 57.713.. Train L1 norm: 1.081.. Val L1 norm: 1.095.. Train Linf norm: 18.556.. Val Linf norm: 22.456\n",
            "Epoch 68/139.. Train loss: 105.043.. Val loss: 57.712.. Train L1 norm: 1.081.. Val L1 norm: 1.095.. Train Linf norm: 19.006.. Val Linf norm: 22.459\n",
            "Epoch 69/139.. Train loss: 106.941.. Val loss: 57.713.. Train L1 norm: 1.078.. Val L1 norm: 1.095.. Train Linf norm: 17.286.. Val Linf norm: 22.460\n",
            "Epoch 70/139.. Train loss: 104.316.. Val loss: 57.713.. Train L1 norm: 1.070.. Val L1 norm: 1.095.. Train Linf norm: 16.231.. Val Linf norm: 22.462\n",
            "Epoch 71/139.. Train loss: 106.363.. Val loss: 57.713.. Train L1 norm: 1.083.. Val L1 norm: 1.095.. Train Linf norm: 19.203.. Val Linf norm: 22.463\n",
            "Epoch 72/139.. Train loss: 123.954.. Val loss: 57.713.. Train L1 norm: 1.080.. Val L1 norm: 1.095.. Train Linf norm: 18.721.. Val Linf norm: 22.462\n",
            "Epoch 73/139.. Train loss: 119.090.. Val loss: 57.714.. Train L1 norm: 1.086.. Val L1 norm: 1.095.. Train Linf norm: 20.348.. Val Linf norm: 22.461\n",
            "Epoch 74/139.. Train loss: 105.884.. Val loss: 57.714.. Train L1 norm: 1.083.. Val L1 norm: 1.095.. Train Linf norm: 19.446.. Val Linf norm: 22.461\n",
            "Epoch 75/139.. Train loss: 106.771.. Val loss: 57.714.. Train L1 norm: 1.089.. Val L1 norm: 1.095.. Train Linf norm: 20.798.. Val Linf norm: 22.462\n",
            "Epoch 76/139.. Train loss: 117.489.. Val loss: 57.714.. Train L1 norm: 1.083.. Val L1 norm: 1.095.. Train Linf norm: 19.454.. Val Linf norm: 22.461\n",
            "Epoch 77/139.. Train loss: 105.216.. Val loss: 57.714.. Train L1 norm: 1.074.. Val L1 norm: 1.095.. Train Linf norm: 16.682.. Val Linf norm: 22.461\n",
            "Epoch 78/139.. Train loss: 113.211.. Val loss: 57.714.. Train L1 norm: 1.084.. Val L1 norm: 1.095.. Train Linf norm: 19.169.. Val Linf norm: 22.463\n",
            "Epoch 79/139.. Train loss: 105.817.. Val loss: 57.714.. Train L1 norm: 1.080.. Val L1 norm: 1.095.. Train Linf norm: 18.378.. Val Linf norm: 22.463\n",
            "Epoch 80/139.. Train loss: 123.548.. Val loss: 57.715.. Train L1 norm: 1.083.. Val L1 norm: 1.095.. Train Linf norm: 19.332.. Val Linf norm: 22.462\n",
            "Epoch 81/139.. Train loss: 111.716.. Val loss: 57.714.. Train L1 norm: 1.085.. Val L1 norm: 1.095.. Train Linf norm: 19.480.. Val Linf norm: 22.464\n",
            "Epoch 82/139.. Train loss: 105.706.. Val loss: 57.714.. Train L1 norm: 1.079.. Val L1 norm: 1.095.. Train Linf norm: 17.880.. Val Linf norm: 22.464\n",
            "Epoch 83/139.. Train loss: 108.522.. Val loss: 57.714.. Train L1 norm: 1.080.. Val L1 norm: 1.095.. Train Linf norm: 18.492.. Val Linf norm: 22.464\n",
            "Epoch 84/139.. Train loss: 106.814.. Val loss: 57.714.. Train L1 norm: 1.077.. Val L1 norm: 1.095.. Train Linf norm: 17.459.. Val Linf norm: 22.464\n",
            "Epoch 85/139.. Train loss: 107.263.. Val loss: 57.715.. Train L1 norm: 1.081.. Val L1 norm: 1.095.. Train Linf norm: 18.535.. Val Linf norm: 22.464\n",
            "Epoch 86/139.. Train loss: 112.940.. Val loss: 57.715.. Train L1 norm: 1.083.. Val L1 norm: 1.095.. Train Linf norm: 19.406.. Val Linf norm: 22.463\n",
            "Epoch 87/139.. Train loss: 106.561.. Val loss: 57.715.. Train L1 norm: 1.081.. Val L1 norm: 1.095.. Train Linf norm: 18.636.. Val Linf norm: 22.463\n",
            "Epoch 88/139.. Train loss: 111.776.. Val loss: 57.715.. Train L1 norm: 1.080.. Val L1 norm: 1.095.. Train Linf norm: 18.570.. Val Linf norm: 22.464\n",
            "Epoch 89/139.. Train loss: 113.555.. Val loss: 57.715.. Train L1 norm: 1.075.. Val L1 norm: 1.095.. Train Linf norm: 17.483.. Val Linf norm: 22.464\n",
            "Epoch 90/139.. Train loss: 115.372.. Val loss: 57.715.. Train L1 norm: 1.078.. Val L1 norm: 1.095.. Train Linf norm: 18.581.. Val Linf norm: 22.463\n",
            "Epoch 91/139.. Train loss: 111.067.. Val loss: 57.715.. Train L1 norm: 1.078.. Val L1 norm: 1.095.. Train Linf norm: 17.658.. Val Linf norm: 22.463\n",
            "Epoch 92/139.. Train loss: 104.446.. Val loss: 57.715.. Train L1 norm: 1.081.. Val L1 norm: 1.095.. Train Linf norm: 19.054.. Val Linf norm: 22.463\n",
            "Epoch 93/139.. Train loss: 106.379.. Val loss: 57.715.. Train L1 norm: 1.077.. Val L1 norm: 1.095.. Train Linf norm: 17.392.. Val Linf norm: 22.463\n",
            "Epoch 94/139.. Train loss: 104.201.. Val loss: 57.715.. Train L1 norm: 1.078.. Val L1 norm: 1.095.. Train Linf norm: 17.619.. Val Linf norm: 22.463\n",
            "Epoch 95/139.. Train loss: 120.622.. Val loss: 57.715.. Train L1 norm: 1.088.. Val L1 norm: 1.095.. Train Linf norm: 18.996.. Val Linf norm: 22.463\n",
            "Epoch 96/139.. Train loss: 105.237.. Val loss: 57.715.. Train L1 norm: 1.075.. Val L1 norm: 1.095.. Train Linf norm: 16.940.. Val Linf norm: 22.463\n",
            "Epoch 97/139.. Train loss: 105.314.. Val loss: 57.715.. Train L1 norm: 1.089.. Val L1 norm: 1.095.. Train Linf norm: 20.813.. Val Linf norm: 22.463\n",
            "Epoch 98/139.. Train loss: 107.349.. Val loss: 57.715.. Train L1 norm: 1.083.. Val L1 norm: 1.095.. Train Linf norm: 19.012.. Val Linf norm: 22.463\n",
            "Epoch 99/139.. Train loss: 116.601.. Val loss: 57.715.. Train L1 norm: 1.079.. Val L1 norm: 1.095.. Train Linf norm: 17.592.. Val Linf norm: 22.463\n",
            "Epoch 100/139.. Train loss: 124.127.. Val loss: 57.715.. Train L1 norm: 1.084.. Val L1 norm: 1.095.. Train Linf norm: 19.700.. Val Linf norm: 22.463\n",
            "Epoch 101/139.. Train loss: 105.714.. Val loss: 57.715.. Train L1 norm: 1.080.. Val L1 norm: 1.095.. Train Linf norm: 18.330.. Val Linf norm: 22.463\n",
            "Epoch 102/139.. Train loss: 108.039.. Val loss: 57.715.. Train L1 norm: 1.081.. Val L1 norm: 1.095.. Train Linf norm: 19.089.. Val Linf norm: 22.463\n",
            "Epoch 103/139.. Train loss: 117.244.. Val loss: 57.715.. Train L1 norm: 1.079.. Val L1 norm: 1.095.. Train Linf norm: 18.409.. Val Linf norm: 22.462\n",
            "Epoch 104/139.. Train loss: 109.187.. Val loss: 57.715.. Train L1 norm: 1.078.. Val L1 norm: 1.095.. Train Linf norm: 17.950.. Val Linf norm: 22.462\n",
            "Epoch 105/139.. Train loss: 108.580.. Val loss: 57.715.. Train L1 norm: 1.079.. Val L1 norm: 1.095.. Train Linf norm: 18.448.. Val Linf norm: 22.462\n",
            "Epoch 106/139.. Train loss: 112.043.. Val loss: 57.715.. Train L1 norm: 1.073.. Val L1 norm: 1.095.. Train Linf norm: 16.710.. Val Linf norm: 22.462\n",
            "Epoch 107/139.. Train loss: 106.834.. Val loss: 57.715.. Train L1 norm: 1.083.. Val L1 norm: 1.095.. Train Linf norm: 19.760.. Val Linf norm: 22.462\n",
            "Epoch 108/139.. Train loss: 107.428.. Val loss: 57.715.. Train L1 norm: 1.076.. Val L1 norm: 1.095.. Train Linf norm: 17.522.. Val Linf norm: 22.462\n",
            "Epoch 109/139.. Train loss: 104.724.. Val loss: 57.715.. Train L1 norm: 1.082.. Val L1 norm: 1.095.. Train Linf norm: 17.703.. Val Linf norm: 22.462\n",
            "Epoch 110/139.. Train loss: 106.742.. Val loss: 57.715.. Train L1 norm: 1.078.. Val L1 norm: 1.095.. Train Linf norm: 18.037.. Val Linf norm: 22.462\n",
            "Epoch 111/139.. Train loss: 105.395.. Val loss: 57.715.. Train L1 norm: 1.082.. Val L1 norm: 1.095.. Train Linf norm: 19.530.. Val Linf norm: 22.462\n",
            "Epoch 112/139.. Train loss: 130.052.. Val loss: 57.715.. Train L1 norm: 1.090.. Val L1 norm: 1.095.. Train Linf norm: 21.323.. Val Linf norm: 22.461\n",
            "Epoch 113/139.. Train loss: 115.557.. Val loss: 57.715.. Train L1 norm: 1.083.. Val L1 norm: 1.095.. Train Linf norm: 20.029.. Val Linf norm: 22.461\n",
            "Epoch 114/139.. Train loss: 109.638.. Val loss: 57.715.. Train L1 norm: 1.082.. Val L1 norm: 1.095.. Train Linf norm: 18.701.. Val Linf norm: 22.461\n",
            "Epoch 115/139.. Train loss: 108.796.. Val loss: 57.715.. Train L1 norm: 1.083.. Val L1 norm: 1.095.. Train Linf norm: 19.306.. Val Linf norm: 22.461\n",
            "Epoch 116/139.. Train loss: 113.653.. Val loss: 57.715.. Train L1 norm: 1.081.. Val L1 norm: 1.095.. Train Linf norm: 18.887.. Val Linf norm: 22.461\n",
            "Epoch 117/139.. Train loss: 103.891.. Val loss: 57.715.. Train L1 norm: 1.081.. Val L1 norm: 1.095.. Train Linf norm: 19.092.. Val Linf norm: 22.461\n",
            "Epoch 118/139.. Train loss: 112.369.. Val loss: 57.715.. Train L1 norm: 1.082.. Val L1 norm: 1.095.. Train Linf norm: 18.496.. Val Linf norm: 22.460\n",
            "Epoch 119/139.. Train loss: 116.292.. Val loss: 57.715.. Train L1 norm: 1.080.. Val L1 norm: 1.095.. Train Linf norm: 18.238.. Val Linf norm: 22.460\n",
            "Epoch 120/139.. Train loss: 112.016.. Val loss: 57.715.. Train L1 norm: 1.075.. Val L1 norm: 1.095.. Train Linf norm: 17.167.. Val Linf norm: 22.460\n",
            "Epoch 121/139.. Train loss: 107.446.. Val loss: 57.715.. Train L1 norm: 1.091.. Val L1 norm: 1.095.. Train Linf norm: 20.699.. Val Linf norm: 22.460\n",
            "Epoch 122/139.. Train loss: 107.685.. Val loss: 57.715.. Train L1 norm: 1.083.. Val L1 norm: 1.095.. Train Linf norm: 19.520.. Val Linf norm: 22.460\n",
            "Epoch 123/139.. Train loss: 107.612.. Val loss: 57.715.. Train L1 norm: 1.083.. Val L1 norm: 1.095.. Train Linf norm: 18.427.. Val Linf norm: 22.460\n",
            "Epoch 124/139.. Train loss: 109.715.. Val loss: 57.715.. Train L1 norm: 1.086.. Val L1 norm: 1.095.. Train Linf norm: 20.194.. Val Linf norm: 22.460\n",
            "Epoch 125/139.. Train loss: 107.280.. Val loss: 57.715.. Train L1 norm: 1.073.. Val L1 norm: 1.095.. Train Linf norm: 16.653.. Val Linf norm: 22.460\n",
            "Epoch 126/139.. Train loss: 109.378.. Val loss: 57.715.. Train L1 norm: 1.080.. Val L1 norm: 1.095.. Train Linf norm: 18.360.. Val Linf norm: 22.460\n",
            "Epoch 127/139.. Train loss: 116.983.. Val loss: 57.715.. Train L1 norm: 1.076.. Val L1 norm: 1.095.. Train Linf norm: 17.371.. Val Linf norm: 22.460\n",
            "Epoch 128/139.. Train loss: 106.509.. Val loss: 57.715.. Train L1 norm: 1.086.. Val L1 norm: 1.095.. Train Linf norm: 19.861.. Val Linf norm: 22.460\n",
            "Epoch 129/139.. Train loss: 104.801.. Val loss: 57.715.. Train L1 norm: 1.083.. Val L1 norm: 1.095.. Train Linf norm: 19.080.. Val Linf norm: 22.460\n",
            "Epoch 130/139.. Train loss: 104.333.. Val loss: 57.715.. Train L1 norm: 1.083.. Val L1 norm: 1.095.. Train Linf norm: 18.667.. Val Linf norm: 22.460\n",
            "Epoch 131/139.. Train loss: 105.340.. Val loss: 57.715.. Train L1 norm: 1.076.. Val L1 norm: 1.095.. Train Linf norm: 17.455.. Val Linf norm: 22.460\n",
            "Epoch 132/139.. Train loss: 120.711.. Val loss: 57.715.. Train L1 norm: 1.075.. Val L1 norm: 1.095.. Train Linf norm: 16.826.. Val Linf norm: 22.460\n",
            "Epoch 133/139.. Train loss: 113.793.. Val loss: 57.715.. Train L1 norm: 1.081.. Val L1 norm: 1.095.. Train Linf norm: 18.863.. Val Linf norm: 22.460\n",
            "Epoch 134/139.. Train loss: 130.866.. Val loss: 57.715.. Train L1 norm: 1.083.. Val L1 norm: 1.095.. Train Linf norm: 19.150.. Val Linf norm: 22.460\n",
            "Epoch 135/139.. Train loss: 147.352.. Val loss: 57.716.. Train L1 norm: 1.085.. Val L1 norm: 1.095.. Train Linf norm: 20.102.. Val Linf norm: 22.460\n",
            "Epoch 136/139.. Train loss: 108.843.. Val loss: 57.716.. Train L1 norm: 1.083.. Val L1 norm: 1.095.. Train Linf norm: 19.493.. Val Linf norm: 22.459\n",
            "Epoch 137/139.. Train loss: 110.662.. Val loss: 57.716.. Train L1 norm: 1.084.. Val L1 norm: 1.095.. Train Linf norm: 19.104.. Val Linf norm: 22.459\n",
            "Epoch 138/139.. Train loss: 108.644.. Val loss: 57.716.. Train L1 norm: 1.077.. Val L1 norm: 1.095.. Train Linf norm: 17.651.. Val Linf norm: 22.459\n"
          ]
        },
        {
          "output_type": "stream",
          "name": "stderr",
          "text": [
            "[I 2023-06-01 00:15:22,764] Trial 31 finished with value: 1.0947126789093018 and parameters: {'batch_size': 256, 'dropout_rate': 0.324241949604722, 'factor': 0.4532106003527278, 'hidden_activation': 'PReLU', 'loss': 'MSE', 'lr': 2.180768806003187e-05, 'n_epochs': 139, 'n_layers': 9, 'n_units_0': 3505, 'n_units_1': 3261, 'n_units_2': 1218, 'n_units_3': 3512, 'n_units_4': 3526, 'n_units_5': 3097, 'n_units_6': 3303, 'n_units_7': 2451, 'n_units_8': 4081, 'optimizer': 'Adagrad', 'output_activation': 'Linear', 'patience': 7, 'prelu_init': 0.25978720724563403, 'scheduler': 'ReduceLROnPlateau', 'threshold': 0.003976872897741637}. Best is trial 24 with value: 1.0942810616811116.\n"
          ]
        },
        {
          "output_type": "stream",
          "name": "stdout",
          "text": [
            "Epoch 139/139.. Train loss: 106.485.. Val loss: 57.716.. Train L1 norm: 1.086.. Val L1 norm: 1.095.. Train Linf norm: 19.944.. Val Linf norm: 22.459\n",
            "Epoch 1/138.. Train loss: 1798.903.. Val loss: 94.683.. Train L1 norm: 1.423.. Val L1 norm: 1.238.. Train Linf norm: 80.638.. Val Linf norm: 52.034\n",
            "Epoch 2/138.. Train loss: 974.360.. Val loss: 75.510.. Train L1 norm: 1.327.. Val L1 norm: 1.162.. Train Linf norm: 67.840.. Val Linf norm: 37.220\n",
            "Epoch 3/138.. Train loss: 669.038.. Val loss: 69.230.. Train L1 norm: 1.241.. Val L1 norm: 1.130.. Train Linf norm: 51.283.. Val Linf norm: 30.870\n",
            "Epoch 4/138.. Train loss: 641.063.. Val loss: 65.374.. Train L1 norm: 1.222.. Val L1 norm: 1.107.. Train Linf norm: 47.868.. Val Linf norm: 26.086\n",
            "Epoch 5/138.. Train loss: 288.199.. Val loss: 63.851.. Train L1 norm: 1.185.. Val L1 norm: 1.097.. Train Linf norm: 40.818.. Val Linf norm: 24.039\n",
            "Epoch 6/138.. Train loss: 417.734.. Val loss: 62.297.. Train L1 norm: 1.170.. Val L1 norm: 1.085.. Train Linf norm: 35.337.. Val Linf norm: 21.490\n",
            "Epoch 7/138.. Train loss: 280.820.. Val loss: 61.446.. Train L1 norm: 1.159.. Val L1 norm: 1.078.. Train Linf norm: 36.133.. Val Linf norm: 20.100\n",
            "Epoch 8/138.. Train loss: 307.728.. Val loss: 60.705.. Train L1 norm: 1.143.. Val L1 norm: 1.072.. Train Linf norm: 32.312.. Val Linf norm: 18.734\n",
            "Epoch 9/138.. Train loss: 232.620.. Val loss: 60.249.. Train L1 norm: 1.137.. Val L1 norm: 1.068.. Train Linf norm: 30.827.. Val Linf norm: 17.866\n",
            "Epoch 10/138.. Train loss: 198.221.. Val loss: 59.922.. Train L1 norm: 1.127.. Val L1 norm: 1.066.. Train Linf norm: 29.091.. Val Linf norm: 17.292\n",
            "Epoch 11/138.. Train loss: 233.185.. Val loss: 59.557.. Train L1 norm: 1.126.. Val L1 norm: 1.062.. Train Linf norm: 29.327.. Val Linf norm: 16.537\n",
            "Epoch 12/138.. Train loss: 214.272.. Val loss: 59.270.. Train L1 norm: 1.112.. Val L1 norm: 1.059.. Train Linf norm: 26.624.. Val Linf norm: 15.892\n",
            "Epoch 13/138.. Train loss: 249.141.. Val loss: 58.999.. Train L1 norm: 1.112.. Val L1 norm: 1.056.. Train Linf norm: 26.848.. Val Linf norm: 15.163\n",
            "Epoch 14/138.. Train loss: 198.641.. Val loss: 58.789.. Train L1 norm: 1.107.. Val L1 norm: 1.054.. Train Linf norm: 25.112.. Val Linf norm: 14.632\n",
            "Epoch 15/138.. Train loss: 243.280.. Val loss: 58.570.. Train L1 norm: 1.103.. Val L1 norm: 1.051.. Train Linf norm: 25.365.. Val Linf norm: 13.939\n",
            "Epoch 16/138.. Train loss: 235.702.. Val loss: 58.409.. Train L1 norm: 1.100.. Val L1 norm: 1.049.. Train Linf norm: 24.542.. Val Linf norm: 13.405\n",
            "Epoch 17/138.. Train loss: 189.180.. Val loss: 58.310.. Train L1 norm: 1.085.. Val L1 norm: 1.047.. Train Linf norm: 20.963.. Val Linf norm: 13.102\n",
            "Epoch 18/138.. Train loss: 178.458.. Val loss: 58.225.. Train L1 norm: 1.093.. Val L1 norm: 1.046.. Train Linf norm: 22.925.. Val Linf norm: 12.861\n",
            "Epoch 19/138.. Train loss: 182.669.. Val loss: 58.146.. Train L1 norm: 1.087.. Val L1 norm: 1.045.. Train Linf norm: 21.862.. Val Linf norm: 12.561\n",
            "Epoch 20/138.. Train loss: 147.971.. Val loss: 58.096.. Train L1 norm: 1.080.. Val L1 norm: 1.045.. Train Linf norm: 19.740.. Val Linf norm: 12.456\n",
            "Epoch 21/138.. Train loss: 164.003.. Val loss: 58.038.. Train L1 norm: 1.080.. Val L1 norm: 1.044.. Train Linf norm: 19.801.. Val Linf norm: 12.252\n",
            "Epoch 22/138.. Train loss: 175.155.. Val loss: 57.993.. Train L1 norm: 1.079.. Val L1 norm: 1.043.. Train Linf norm: 18.574.. Val Linf norm: 12.062\n",
            "Epoch 23/138.. Train loss: 158.766.. Val loss: 57.953.. Train L1 norm: 1.069.. Val L1 norm: 1.042.. Train Linf norm: 17.343.. Val Linf norm: 11.915\n",
            "Epoch 24/138.. Train loss: 130.238.. Val loss: 57.925.. Train L1 norm: 1.069.. Val L1 norm: 1.043.. Train Linf norm: 17.415.. Val Linf norm: 11.908\n",
            "Epoch 25/138.. Train loss: 131.074.. Val loss: 57.904.. Train L1 norm: 1.073.. Val L1 norm: 1.043.. Train Linf norm: 18.395.. Val Linf norm: 11.939\n",
            "Epoch 26/138.. Train loss: 161.045.. Val loss: 57.874.. Train L1 norm: 1.072.. Val L1 norm: 1.042.. Train Linf norm: 18.212.. Val Linf norm: 11.795\n",
            "Epoch 27/138.. Train loss: 148.876.. Val loss: 57.851.. Train L1 norm: 1.072.. Val L1 norm: 1.042.. Train Linf norm: 18.445.. Val Linf norm: 11.718\n",
            "Epoch 28/138.. Train loss: 138.774.. Val loss: 57.831.. Train L1 norm: 1.067.. Val L1 norm: 1.042.. Train Linf norm: 17.024.. Val Linf norm: 11.661\n",
            "Epoch 29/138.. Train loss: 150.094.. Val loss: 57.813.. Train L1 norm: 1.063.. Val L1 norm: 1.041.. Train Linf norm: 16.077.. Val Linf norm: 11.577\n",
            "Epoch 30/138.. Train loss: 129.735.. Val loss: 57.799.. Train L1 norm: 1.069.. Val L1 norm: 1.041.. Train Linf norm: 17.865.. Val Linf norm: 11.600\n",
            "Epoch 31/138.. Train loss: 133.834.. Val loss: 57.786.. Train L1 norm: 1.063.. Val L1 norm: 1.041.. Train Linf norm: 15.935.. Val Linf norm: 11.575\n",
            "Epoch 32/138.. Train loss: 131.067.. Val loss: 57.775.. Train L1 norm: 1.064.. Val L1 norm: 1.041.. Train Linf norm: 15.949.. Val Linf norm: 11.561\n",
            "Epoch 33/138.. Train loss: 148.280.. Val loss: 57.763.. Train L1 norm: 1.055.. Val L1 norm: 1.041.. Train Linf norm: 14.507.. Val Linf norm: 11.477\n",
            "Epoch 34/138.. Train loss: 125.386.. Val loss: 57.758.. Train L1 norm: 1.065.. Val L1 norm: 1.041.. Train Linf norm: 16.426.. Val Linf norm: 11.470\n",
            "Epoch 35/138.. Train loss: 129.322.. Val loss: 57.755.. Train L1 norm: 1.059.. Val L1 norm: 1.041.. Train Linf norm: 14.919.. Val Linf norm: 11.459\n",
            "Epoch 36/138.. Train loss: 114.892.. Val loss: 57.751.. Train L1 norm: 1.062.. Val L1 norm: 1.041.. Train Linf norm: 15.708.. Val Linf norm: 11.485\n",
            "Epoch 37/138.. Train loss: 123.410.. Val loss: 57.748.. Train L1 norm: 1.057.. Val L1 norm: 1.041.. Train Linf norm: 14.400.. Val Linf norm: 11.487\n",
            "Epoch 38/138.. Train loss: 117.229.. Val loss: 57.744.. Train L1 norm: 1.058.. Val L1 norm: 1.041.. Train Linf norm: 15.090.. Val Linf norm: 11.506\n",
            "Epoch 39/138.. Train loss: 117.803.. Val loss: 57.742.. Train L1 norm: 1.057.. Val L1 norm: 1.041.. Train Linf norm: 15.121.. Val Linf norm: 11.514\n",
            "Epoch 40/138.. Train loss: 119.014.. Val loss: 57.739.. Train L1 norm: 1.061.. Val L1 norm: 1.041.. Train Linf norm: 15.967.. Val Linf norm: 11.521\n",
            "Epoch 41/138.. Train loss: 136.258.. Val loss: 57.738.. Train L1 norm: 1.059.. Val L1 norm: 1.041.. Train Linf norm: 15.212.. Val Linf norm: 11.515\n",
            "Epoch 42/138.. Train loss: 121.756.. Val loss: 57.737.. Train L1 norm: 1.061.. Val L1 norm: 1.041.. Train Linf norm: 15.706.. Val Linf norm: 11.521\n",
            "Epoch 43/138.. Train loss: 148.440.. Val loss: 57.736.. Train L1 norm: 1.058.. Val L1 norm: 1.041.. Train Linf norm: 15.072.. Val Linf norm: 11.503\n",
            "Epoch 44/138.. Train loss: 119.218.. Val loss: 57.735.. Train L1 norm: 1.056.. Val L1 norm: 1.041.. Train Linf norm: 14.757.. Val Linf norm: 11.509\n",
            "Epoch 45/138.. Train loss: 125.893.. Val loss: 57.734.. Train L1 norm: 1.060.. Val L1 norm: 1.041.. Train Linf norm: 15.873.. Val Linf norm: 11.508\n",
            "Epoch 46/138.. Train loss: 138.918.. Val loss: 57.733.. Train L1 norm: 1.057.. Val L1 norm: 1.041.. Train Linf norm: 14.986.. Val Linf norm: 11.503\n",
            "Epoch 47/138.. Train loss: 120.118.. Val loss: 57.733.. Train L1 norm: 1.061.. Val L1 norm: 1.041.. Train Linf norm: 15.991.. Val Linf norm: 11.509\n",
            "Epoch 48/138.. Train loss: 130.841.. Val loss: 57.732.. Train L1 norm: 1.054.. Val L1 norm: 1.041.. Train Linf norm: 14.006.. Val Linf norm: 11.505\n",
            "Epoch 49/138.. Train loss: 124.642.. Val loss: 57.732.. Train L1 norm: 1.057.. Val L1 norm: 1.041.. Train Linf norm: 15.044.. Val Linf norm: 11.503\n",
            "Epoch 50/138.. Train loss: 122.396.. Val loss: 57.732.. Train L1 norm: 1.060.. Val L1 norm: 1.041.. Train Linf norm: 15.544.. Val Linf norm: 11.505\n",
            "Epoch 51/138.. Train loss: 135.152.. Val loss: 57.731.. Train L1 norm: 1.062.. Val L1 norm: 1.041.. Train Linf norm: 16.119.. Val Linf norm: 11.501\n",
            "Epoch 52/138.. Train loss: 135.235.. Val loss: 57.731.. Train L1 norm: 1.056.. Val L1 norm: 1.041.. Train Linf norm: 14.429.. Val Linf norm: 11.496\n",
            "Epoch 53/138.. Train loss: 111.587.. Val loss: 57.731.. Train L1 norm: 1.054.. Val L1 norm: 1.041.. Train Linf norm: 13.860.. Val Linf norm: 11.502\n",
            "Epoch 54/138.. Train loss: 119.202.. Val loss: 57.731.. Train L1 norm: 1.057.. Val L1 norm: 1.041.. Train Linf norm: 14.596.. Val Linf norm: 11.501\n",
            "Epoch 55/138.. Train loss: 122.725.. Val loss: 57.730.. Train L1 norm: 1.055.. Val L1 norm: 1.041.. Train Linf norm: 14.680.. Val Linf norm: 11.501\n",
            "Epoch 56/138.. Train loss: 111.408.. Val loss: 57.730.. Train L1 norm: 1.058.. Val L1 norm: 1.041.. Train Linf norm: 15.363.. Val Linf norm: 11.503\n",
            "Epoch 57/138.. Train loss: 127.516.. Val loss: 57.730.. Train L1 norm: 1.059.. Val L1 norm: 1.041.. Train Linf norm: 14.921.. Val Linf norm: 11.503\n",
            "Epoch 58/138.. Train loss: 120.372.. Val loss: 57.730.. Train L1 norm: 1.062.. Val L1 norm: 1.041.. Train Linf norm: 15.784.. Val Linf norm: 11.503\n",
            "Epoch 59/138.. Train loss: 114.388.. Val loss: 57.730.. Train L1 norm: 1.055.. Val L1 norm: 1.041.. Train Linf norm: 14.560.. Val Linf norm: 11.504\n",
            "Epoch 60/138.. Train loss: 128.396.. Val loss: 57.730.. Train L1 norm: 1.054.. Val L1 norm: 1.041.. Train Linf norm: 14.111.. Val Linf norm: 11.503\n",
            "Epoch 61/138.. Train loss: 111.868.. Val loss: 57.730.. Train L1 norm: 1.054.. Val L1 norm: 1.041.. Train Linf norm: 13.740.. Val Linf norm: 11.505\n",
            "Epoch 62/138.. Train loss: 119.318.. Val loss: 57.730.. Train L1 norm: 1.058.. Val L1 norm: 1.041.. Train Linf norm: 15.030.. Val Linf norm: 11.505\n",
            "Epoch 63/138.. Train loss: 119.355.. Val loss: 57.730.. Train L1 norm: 1.057.. Val L1 norm: 1.041.. Train Linf norm: 14.600.. Val Linf norm: 11.505\n",
            "Epoch 64/138.. Train loss: 114.665.. Val loss: 57.730.. Train L1 norm: 1.057.. Val L1 norm: 1.041.. Train Linf norm: 14.955.. Val Linf norm: 11.505\n",
            "Epoch 65/138.. Train loss: 117.828.. Val loss: 57.729.. Train L1 norm: 1.057.. Val L1 norm: 1.041.. Train Linf norm: 14.536.. Val Linf norm: 11.506\n",
            "Epoch 66/138.. Train loss: 142.191.. Val loss: 57.729.. Train L1 norm: 1.057.. Val L1 norm: 1.041.. Train Linf norm: 14.368.. Val Linf norm: 11.505\n",
            "Epoch 67/138.. Train loss: 140.980.. Val loss: 57.729.. Train L1 norm: 1.055.. Val L1 norm: 1.041.. Train Linf norm: 14.732.. Val Linf norm: 11.503\n",
            "Epoch 68/138.. Train loss: 121.311.. Val loss: 57.729.. Train L1 norm: 1.054.. Val L1 norm: 1.041.. Train Linf norm: 14.030.. Val Linf norm: 11.503\n",
            "Epoch 69/138.. Train loss: 126.859.. Val loss: 57.729.. Train L1 norm: 1.058.. Val L1 norm: 1.041.. Train Linf norm: 14.715.. Val Linf norm: 11.503\n",
            "Epoch 70/138.. Train loss: 114.387.. Val loss: 57.729.. Train L1 norm: 1.057.. Val L1 norm: 1.041.. Train Linf norm: 14.592.. Val Linf norm: 11.503\n",
            "Epoch 71/138.. Train loss: 120.396.. Val loss: 57.729.. Train L1 norm: 1.054.. Val L1 norm: 1.041.. Train Linf norm: 13.839.. Val Linf norm: 11.503\n",
            "Epoch 72/138.. Train loss: 114.863.. Val loss: 57.729.. Train L1 norm: 1.055.. Val L1 norm: 1.041.. Train Linf norm: 14.322.. Val Linf norm: 11.503\n",
            "Epoch 73/138.. Train loss: 115.704.. Val loss: 57.729.. Train L1 norm: 1.061.. Val L1 norm: 1.041.. Train Linf norm: 15.684.. Val Linf norm: 11.503\n",
            "Epoch 74/138.. Train loss: 124.996.. Val loss: 57.729.. Train L1 norm: 1.056.. Val L1 norm: 1.041.. Train Linf norm: 14.822.. Val Linf norm: 11.503\n",
            "Epoch 75/138.. Train loss: 120.247.. Val loss: 57.729.. Train L1 norm: 1.064.. Val L1 norm: 1.041.. Train Linf norm: 16.372.. Val Linf norm: 11.503\n",
            "Epoch 76/138.. Train loss: 140.829.. Val loss: 57.729.. Train L1 norm: 1.063.. Val L1 norm: 1.041.. Train Linf norm: 16.556.. Val Linf norm: 11.502\n",
            "Epoch 77/138.. Train loss: 117.596.. Val loss: 57.729.. Train L1 norm: 1.054.. Val L1 norm: 1.041.. Train Linf norm: 14.075.. Val Linf norm: 11.502\n",
            "Epoch 78/138.. Train loss: 135.761.. Val loss: 57.729.. Train L1 norm: 1.058.. Val L1 norm: 1.041.. Train Linf norm: 14.560.. Val Linf norm: 11.502\n",
            "Epoch 79/138.. Train loss: 119.209.. Val loss: 57.729.. Train L1 norm: 1.058.. Val L1 norm: 1.041.. Train Linf norm: 14.840.. Val Linf norm: 11.502\n",
            "Epoch 80/138.. Train loss: 124.481.. Val loss: 57.729.. Train L1 norm: 1.058.. Val L1 norm: 1.041.. Train Linf norm: 14.936.. Val Linf norm: 11.502\n",
            "Epoch 81/138.. Train loss: 115.146.. Val loss: 57.729.. Train L1 norm: 1.054.. Val L1 norm: 1.041.. Train Linf norm: 13.497.. Val Linf norm: 11.501\n",
            "Epoch 82/138.. Train loss: 114.600.. Val loss: 57.729.. Train L1 norm: 1.057.. Val L1 norm: 1.041.. Train Linf norm: 14.924.. Val Linf norm: 11.501\n",
            "Epoch 83/138.. Train loss: 127.933.. Val loss: 57.729.. Train L1 norm: 1.055.. Val L1 norm: 1.041.. Train Linf norm: 14.069.. Val Linf norm: 11.501\n",
            "Epoch 84/138.. Train loss: 122.102.. Val loss: 57.729.. Train L1 norm: 1.052.. Val L1 norm: 1.041.. Train Linf norm: 13.815.. Val Linf norm: 11.501\n",
            "Epoch 85/138.. Train loss: 115.340.. Val loss: 57.729.. Train L1 norm: 1.058.. Val L1 norm: 1.041.. Train Linf norm: 15.126.. Val Linf norm: 11.501\n",
            "Epoch 86/138.. Train loss: 124.403.. Val loss: 57.729.. Train L1 norm: 1.055.. Val L1 norm: 1.041.. Train Linf norm: 14.003.. Val Linf norm: 11.501\n",
            "Epoch 87/138.. Train loss: 128.848.. Val loss: 57.729.. Train L1 norm: 1.062.. Val L1 norm: 1.041.. Train Linf norm: 16.078.. Val Linf norm: 11.501\n",
            "Epoch 88/138.. Train loss: 118.533.. Val loss: 57.729.. Train L1 norm: 1.053.. Val L1 norm: 1.041.. Train Linf norm: 13.829.. Val Linf norm: 11.501\n",
            "Epoch 89/138.. Train loss: 120.259.. Val loss: 57.729.. Train L1 norm: 1.055.. Val L1 norm: 1.041.. Train Linf norm: 14.224.. Val Linf norm: 11.501\n",
            "Epoch 90/138.. Train loss: 110.896.. Val loss: 57.729.. Train L1 norm: 1.056.. Val L1 norm: 1.041.. Train Linf norm: 13.945.. Val Linf norm: 11.501\n",
            "Epoch 91/138.. Train loss: 133.817.. Val loss: 57.729.. Train L1 norm: 1.060.. Val L1 norm: 1.041.. Train Linf norm: 15.528.. Val Linf norm: 11.501\n",
            "Epoch 92/138.. Train loss: 112.939.. Val loss: 57.729.. Train L1 norm: 1.063.. Val L1 norm: 1.041.. Train Linf norm: 16.522.. Val Linf norm: 11.501\n",
            "Epoch 93/138.. Train loss: 123.337.. Val loss: 57.729.. Train L1 norm: 1.059.. Val L1 norm: 1.041.. Train Linf norm: 15.635.. Val Linf norm: 11.500\n",
            "Epoch 94/138.. Train loss: 109.194.. Val loss: 57.729.. Train L1 norm: 1.056.. Val L1 norm: 1.041.. Train Linf norm: 14.705.. Val Linf norm: 11.500\n",
            "Epoch 95/138.. Train loss: 110.001.. Val loss: 57.729.. Train L1 norm: 1.054.. Val L1 norm: 1.041.. Train Linf norm: 14.489.. Val Linf norm: 11.500\n",
            "Epoch 96/138.. Train loss: 127.627.. Val loss: 57.729.. Train L1 norm: 1.058.. Val L1 norm: 1.041.. Train Linf norm: 15.234.. Val Linf norm: 11.500\n",
            "Epoch 97/138.. Train loss: 150.598.. Val loss: 57.729.. Train L1 norm: 1.058.. Val L1 norm: 1.041.. Train Linf norm: 14.366.. Val Linf norm: 11.500\n",
            "Epoch 98/138.. Train loss: 111.518.. Val loss: 57.729.. Train L1 norm: 1.056.. Val L1 norm: 1.041.. Train Linf norm: 14.461.. Val Linf norm: 11.500\n",
            "Epoch 99/138.. Train loss: 116.808.. Val loss: 57.729.. Train L1 norm: 1.051.. Val L1 norm: 1.041.. Train Linf norm: 13.341.. Val Linf norm: 11.500\n",
            "Epoch 100/138.. Train loss: 121.881.. Val loss: 57.729.. Train L1 norm: 1.060.. Val L1 norm: 1.041.. Train Linf norm: 15.589.. Val Linf norm: 11.500\n",
            "Epoch 101/138.. Train loss: 126.013.. Val loss: 57.729.. Train L1 norm: 1.060.. Val L1 norm: 1.041.. Train Linf norm: 15.288.. Val Linf norm: 11.500\n",
            "Epoch 102/138.. Train loss: 119.973.. Val loss: 57.729.. Train L1 norm: 1.054.. Val L1 norm: 1.041.. Train Linf norm: 14.240.. Val Linf norm: 11.500\n",
            "Epoch 103/138.. Train loss: 122.216.. Val loss: 57.729.. Train L1 norm: 1.057.. Val L1 norm: 1.041.. Train Linf norm: 14.529.. Val Linf norm: 11.500\n",
            "Epoch 104/138.. Train loss: 128.436.. Val loss: 57.729.. Train L1 norm: 1.059.. Val L1 norm: 1.041.. Train Linf norm: 15.461.. Val Linf norm: 11.500\n",
            "Epoch 105/138.. Train loss: 122.567.. Val loss: 57.729.. Train L1 norm: 1.053.. Val L1 norm: 1.041.. Train Linf norm: 13.710.. Val Linf norm: 11.500\n",
            "Epoch 106/138.. Train loss: 117.594.. Val loss: 57.729.. Train L1 norm: 1.054.. Val L1 norm: 1.041.. Train Linf norm: 14.257.. Val Linf norm: 11.500\n",
            "Epoch 107/138.. Train loss: 116.688.. Val loss: 57.729.. Train L1 norm: 1.058.. Val L1 norm: 1.041.. Train Linf norm: 14.966.. Val Linf norm: 11.500\n",
            "Epoch 108/138.. Train loss: 123.943.. Val loss: 57.729.. Train L1 norm: 1.054.. Val L1 norm: 1.041.. Train Linf norm: 14.064.. Val Linf norm: 11.500\n",
            "Epoch 109/138.. Train loss: 141.240.. Val loss: 57.729.. Train L1 norm: 1.061.. Val L1 norm: 1.041.. Train Linf norm: 15.896.. Val Linf norm: 11.500\n",
            "Epoch 110/138.. Train loss: 121.988.. Val loss: 57.729.. Train L1 norm: 1.059.. Val L1 norm: 1.041.. Train Linf norm: 15.117.. Val Linf norm: 11.500\n",
            "Epoch 111/138.. Train loss: 116.319.. Val loss: 57.729.. Train L1 norm: 1.056.. Val L1 norm: 1.041.. Train Linf norm: 14.701.. Val Linf norm: 11.500\n",
            "Epoch 112/138.. Train loss: 116.817.. Val loss: 57.729.. Train L1 norm: 1.056.. Val L1 norm: 1.041.. Train Linf norm: 14.475.. Val Linf norm: 11.500\n",
            "Epoch 113/138.. Train loss: 109.906.. Val loss: 57.729.. Train L1 norm: 1.057.. Val L1 norm: 1.041.. Train Linf norm: 14.662.. Val Linf norm: 11.500\n",
            "Epoch 114/138.. Train loss: 125.456.. Val loss: 57.729.. Train L1 norm: 1.056.. Val L1 norm: 1.041.. Train Linf norm: 14.604.. Val Linf norm: 11.500\n",
            "Epoch 115/138.. Train loss: 118.315.. Val loss: 57.729.. Train L1 norm: 1.057.. Val L1 norm: 1.041.. Train Linf norm: 14.652.. Val Linf norm: 11.499\n",
            "Epoch 116/138.. Train loss: 124.944.. Val loss: 57.729.. Train L1 norm: 1.055.. Val L1 norm: 1.041.. Train Linf norm: 14.029.. Val Linf norm: 11.499\n",
            "Epoch 117/138.. Train loss: 132.274.. Val loss: 57.729.. Train L1 norm: 1.055.. Val L1 norm: 1.041.. Train Linf norm: 14.523.. Val Linf norm: 11.499\n",
            "Epoch 118/138.. Train loss: 134.562.. Val loss: 57.729.. Train L1 norm: 1.056.. Val L1 norm: 1.041.. Train Linf norm: 14.819.. Val Linf norm: 11.499\n",
            "Epoch 119/138.. Train loss: 126.486.. Val loss: 57.729.. Train L1 norm: 1.058.. Val L1 norm: 1.041.. Train Linf norm: 14.842.. Val Linf norm: 11.499\n",
            "Epoch 120/138.. Train loss: 119.805.. Val loss: 57.729.. Train L1 norm: 1.058.. Val L1 norm: 1.041.. Train Linf norm: 15.069.. Val Linf norm: 11.499\n",
            "Epoch 121/138.. Train loss: 122.960.. Val loss: 57.729.. Train L1 norm: 1.056.. Val L1 norm: 1.041.. Train Linf norm: 14.554.. Val Linf norm: 11.499\n",
            "Epoch 122/138.. Train loss: 128.213.. Val loss: 57.729.. Train L1 norm: 1.054.. Val L1 norm: 1.041.. Train Linf norm: 13.839.. Val Linf norm: 11.499\n",
            "Epoch 123/138.. Train loss: 125.455.. Val loss: 57.729.. Train L1 norm: 1.055.. Val L1 norm: 1.041.. Train Linf norm: 14.066.. Val Linf norm: 11.499\n",
            "Epoch 124/138.. Train loss: 115.923.. Val loss: 57.729.. Train L1 norm: 1.051.. Val L1 norm: 1.041.. Train Linf norm: 13.361.. Val Linf norm: 11.499\n",
            "Epoch 125/138.. Train loss: 114.516.. Val loss: 57.729.. Train L1 norm: 1.056.. Val L1 norm: 1.041.. Train Linf norm: 14.556.. Val Linf norm: 11.499\n",
            "Epoch 126/138.. Train loss: 130.137.. Val loss: 57.729.. Train L1 norm: 1.057.. Val L1 norm: 1.041.. Train Linf norm: 14.626.. Val Linf norm: 11.499\n",
            "Epoch 127/138.. Train loss: 113.800.. Val loss: 57.729.. Train L1 norm: 1.057.. Val L1 norm: 1.041.. Train Linf norm: 14.923.. Val Linf norm: 11.499\n",
            "Epoch 128/138.. Train loss: 135.105.. Val loss: 57.729.. Train L1 norm: 1.053.. Val L1 norm: 1.041.. Train Linf norm: 13.924.. Val Linf norm: 11.499\n",
            "Epoch 129/138.. Train loss: 120.086.. Val loss: 57.729.. Train L1 norm: 1.057.. Val L1 norm: 1.041.. Train Linf norm: 14.941.. Val Linf norm: 11.499\n",
            "Epoch 130/138.. Train loss: 137.320.. Val loss: 57.729.. Train L1 norm: 1.062.. Val L1 norm: 1.041.. Train Linf norm: 16.372.. Val Linf norm: 11.499\n",
            "Epoch 131/138.. Train loss: 113.890.. Val loss: 57.729.. Train L1 norm: 1.059.. Val L1 norm: 1.041.. Train Linf norm: 15.064.. Val Linf norm: 11.499\n",
            "Epoch 132/138.. Train loss: 109.486.. Val loss: 57.729.. Train L1 norm: 1.057.. Val L1 norm: 1.041.. Train Linf norm: 14.859.. Val Linf norm: 11.499\n",
            "Epoch 133/138.. Train loss: 123.193.. Val loss: 57.729.. Train L1 norm: 1.058.. Val L1 norm: 1.041.. Train Linf norm: 15.127.. Val Linf norm: 11.499\n",
            "Epoch 134/138.. Train loss: 127.075.. Val loss: 57.729.. Train L1 norm: 1.060.. Val L1 norm: 1.041.. Train Linf norm: 15.712.. Val Linf norm: 11.499\n",
            "Epoch 135/138.. Train loss: 121.793.. Val loss: 57.729.. Train L1 norm: 1.056.. Val L1 norm: 1.041.. Train Linf norm: 14.852.. Val Linf norm: 11.499\n",
            "Epoch 136/138.. Train loss: 116.347.. Val loss: 57.729.. Train L1 norm: 1.055.. Val L1 norm: 1.041.. Train Linf norm: 13.954.. Val Linf norm: 11.499\n",
            "Epoch 137/138.. Train loss: 130.314.. Val loss: 57.729.. Train L1 norm: 1.058.. Val L1 norm: 1.041.. Train Linf norm: 14.937.. Val Linf norm: 11.498\n"
          ]
        },
        {
          "output_type": "stream",
          "name": "stderr",
          "text": [
            "[I 2023-06-01 00:51:43,204] Trial 32 finished with value: 1.0412370435714722 and parameters: {'batch_size': 256, 'dropout_rate': 0.32580017242476755, 'factor': 0.42815216724548, 'hidden_activation': 'PReLU', 'loss': 'MSE', 'lr': 1.9281080055403737e-05, 'n_epochs': 138, 'n_layers': 10, 'n_units_0': 4047, 'n_units_1': 3261, 'n_units_2': 979, 'n_units_3': 3087, 'n_units_4': 3650, 'n_units_5': 3373, 'n_units_6': 3552, 'n_units_7': 2540, 'n_units_8': 4090, 'n_units_9': 658, 'optimizer': 'Adagrad', 'output_activation': 'Linear', 'patience': 6, 'prelu_init': 0.2524214230944579, 'scheduler': 'ReduceLROnPlateau', 'threshold': 0.0034797277157052656}. Best is trial 32 with value: 1.0412370435714722.\n"
          ]
        },
        {
          "output_type": "stream",
          "name": "stdout",
          "text": [
            "Epoch 138/138.. Train loss: 142.141.. Val loss: 57.729.. Train L1 norm: 1.060.. Val L1 norm: 1.041.. Train Linf norm: 15.887.. Val Linf norm: 11.498\n",
            "Epoch 1/137.. Train loss: 1735.119.. Val loss: 118.305.. Train L1 norm: 1.540.. Val L1 norm: 1.323.. Train Linf norm: 98.489.. Val Linf norm: 67.523\n",
            "Epoch 2/137.. Train loss: 1069.179.. Val loss: 89.105.. Train L1 norm: 1.394.. Val L1 norm: 1.231.. Train Linf norm: 76.662.. Val Linf norm: 50.271\n",
            "Epoch 3/137.. Train loss: 967.580.. Val loss: 77.345.. Train L1 norm: 1.289.. Val L1 norm: 1.182.. Train Linf norm: 58.197.. Val Linf norm: 40.949\n",
            "Epoch 4/137.. Train loss: 639.662.. Val loss: 71.375.. Train L1 norm: 1.243.. Val L1 norm: 1.153.. Train Linf norm: 51.317.. Val Linf norm: 35.326\n",
            "Epoch 5/137.. Train loss: 594.597.. Val loss: 67.711.. Train L1 norm: 1.226.. Val L1 norm: 1.133.. Train Linf norm: 47.556.. Val Linf norm: 31.308\n",
            "Epoch 6/137.. Train loss: 595.910.. Val loss: 65.435.. Train L1 norm: 1.204.. Val L1 norm: 1.119.. Train Linf norm: 44.347.. Val Linf norm: 28.361\n",
            "Epoch 7/137.. Train loss: 403.447.. Val loss: 63.910.. Train L1 norm: 1.179.. Val L1 norm: 1.108.. Train Linf norm: 39.947.. Val Linf norm: 26.193\n",
            "Epoch 8/137.. Train loss: 283.228.. Val loss: 63.008.. Train L1 norm: 1.166.. Val L1 norm: 1.102.. Train Linf norm: 36.009.. Val Linf norm: 24.927\n",
            "Epoch 9/137.. Train loss: 276.714.. Val loss: 62.255.. Train L1 norm: 1.163.. Val L1 norm: 1.097.. Train Linf norm: 36.840.. Val Linf norm: 23.799\n",
            "Epoch 10/137.. Train loss: 260.911.. Val loss: 61.651.. Train L1 norm: 1.150.. Val L1 norm: 1.092.. Train Linf norm: 34.034.. Val Linf norm: 22.882\n",
            "Epoch 11/137.. Train loss: 324.005.. Val loss: 61.032.. Train L1 norm: 1.143.. Val L1 norm: 1.087.. Train Linf norm: 32.612.. Val Linf norm: 21.754\n",
            "Epoch 12/137.. Train loss: 329.271.. Val loss: 60.493.. Train L1 norm: 1.132.. Val L1 norm: 1.082.. Train Linf norm: 29.656.. Val Linf norm: 20.645\n",
            "Epoch 13/137.. Train loss: 275.607.. Val loss: 60.106.. Train L1 norm: 1.128.. Val L1 norm: 1.078.. Train Linf norm: 29.568.. Val Linf norm: 19.858\n",
            "Epoch 14/137.. Train loss: 236.847.. Val loss: 59.763.. Train L1 norm: 1.124.. Val L1 norm: 1.075.. Train Linf norm: 28.121.. Val Linf norm: 19.168\n",
            "Epoch 15/137.. Train loss: 222.022.. Val loss: 59.565.. Train L1 norm: 1.122.. Val L1 norm: 1.073.. Train Linf norm: 28.393.. Val Linf norm: 18.804\n",
            "Epoch 16/137.. Train loss: 219.591.. Val loss: 59.336.. Train L1 norm: 1.114.. Val L1 norm: 1.071.. Train Linf norm: 27.166.. Val Linf norm: 18.286\n",
            "Epoch 17/137.. Train loss: 193.696.. Val loss: 59.149.. Train L1 norm: 1.115.. Val L1 norm: 1.069.. Train Linf norm: 26.485.. Val Linf norm: 17.916\n",
            "Epoch 18/137.. Train loss: 251.494.. Val loss: 58.937.. Train L1 norm: 1.105.. Val L1 norm: 1.067.. Train Linf norm: 24.790.. Val Linf norm: 17.355\n",
            "Epoch 19/137.. Train loss: 159.716.. Val loss: 58.822.. Train L1 norm: 1.107.. Val L1 norm: 1.066.. Train Linf norm: 25.261.. Val Linf norm: 17.169\n",
            "Epoch 20/137.. Train loss: 223.408.. Val loss: 58.674.. Train L1 norm: 1.104.. Val L1 norm: 1.064.. Train Linf norm: 24.607.. Val Linf norm: 16.768\n",
            "Epoch 21/137.. Train loss: 165.295.. Val loss: 58.583.. Train L1 norm: 1.102.. Val L1 norm: 1.063.. Train Linf norm: 24.748.. Val Linf norm: 16.593\n",
            "Epoch 22/137.. Train loss: 213.935.. Val loss: 58.451.. Train L1 norm: 1.099.. Val L1 norm: 1.062.. Train Linf norm: 23.719.. Val Linf norm: 16.212\n",
            "Epoch 23/137.. Train loss: 187.917.. Val loss: 58.352.. Train L1 norm: 1.090.. Val L1 norm: 1.060.. Train Linf norm: 21.045.. Val Linf norm: 15.938\n",
            "Epoch 24/137.. Train loss: 181.531.. Val loss: 58.280.. Train L1 norm: 1.091.. Val L1 norm: 1.060.. Train Linf norm: 21.338.. Val Linf norm: 15.758\n",
            "Epoch 25/137.. Train loss: 187.408.. Val loss: 58.197.. Train L1 norm: 1.091.. Val L1 norm: 1.059.. Train Linf norm: 21.236.. Val Linf norm: 15.485\n",
            "Epoch 26/137.. Train loss: 153.267.. Val loss: 58.149.. Train L1 norm: 1.089.. Val L1 norm: 1.058.. Train Linf norm: 21.892.. Val Linf norm: 15.395\n",
            "Epoch 27/137.. Train loss: 145.888.. Val loss: 58.104.. Train L1 norm: 1.090.. Val L1 norm: 1.058.. Train Linf norm: 21.712.. Val Linf norm: 15.324\n",
            "Epoch 28/137.. Train loss: 177.505.. Val loss: 58.047.. Train L1 norm: 1.082.. Val L1 norm: 1.057.. Train Linf norm: 20.025.. Val Linf norm: 15.120\n",
            "Epoch 29/137.. Train loss: 145.699.. Val loss: 58.007.. Train L1 norm: 1.082.. Val L1 norm: 1.057.. Train Linf norm: 19.928.. Val Linf norm: 15.048\n",
            "Epoch 30/137.. Train loss: 165.028.. Val loss: 57.961.. Train L1 norm: 1.079.. Val L1 norm: 1.056.. Train Linf norm: 19.858.. Val Linf norm: 14.924\n",
            "Epoch 31/137.. Train loss: 132.579.. Val loss: 57.927.. Train L1 norm: 1.080.. Val L1 norm: 1.056.. Train Linf norm: 18.764.. Val Linf norm: 14.891\n",
            "Epoch 32/137.. Train loss: 148.810.. Val loss: 57.897.. Train L1 norm: 1.078.. Val L1 norm: 1.056.. Train Linf norm: 19.319.. Val Linf norm: 14.800\n",
            "Epoch 33/137.. Train loss: 145.649.. Val loss: 57.867.. Train L1 norm: 1.080.. Val L1 norm: 1.055.. Train Linf norm: 19.371.. Val Linf norm: 14.733\n",
            "Epoch 34/137.. Train loss: 138.592.. Val loss: 57.843.. Train L1 norm: 1.078.. Val L1 norm: 1.055.. Train Linf norm: 19.023.. Val Linf norm: 14.699\n",
            "Epoch 35/137.. Train loss: 144.023.. Val loss: 57.819.. Train L1 norm: 1.078.. Val L1 norm: 1.055.. Train Linf norm: 19.045.. Val Linf norm: 14.647\n",
            "Epoch 36/137.. Train loss: 128.716.. Val loss: 57.801.. Train L1 norm: 1.066.. Val L1 norm: 1.055.. Train Linf norm: 16.769.. Val Linf norm: 14.654\n",
            "Epoch 37/137.. Train loss: 160.953.. Val loss: 57.775.. Train L1 norm: 1.075.. Val L1 norm: 1.055.. Train Linf norm: 18.397.. Val Linf norm: 14.506\n",
            "Epoch 38/137.. Train loss: 159.531.. Val loss: 57.751.. Train L1 norm: 1.069.. Val L1 norm: 1.054.. Train Linf norm: 16.864.. Val Linf norm: 14.382\n",
            "Epoch 39/137.. Train loss: 138.012.. Val loss: 57.732.. Train L1 norm: 1.068.. Val L1 norm: 1.054.. Train Linf norm: 16.925.. Val Linf norm: 14.306\n",
            "Epoch 40/137.. Train loss: 148.639.. Val loss: 57.716.. Train L1 norm: 1.070.. Val L1 norm: 1.053.. Train Linf norm: 17.540.. Val Linf norm: 14.245\n",
            "Epoch 41/137.. Train loss: 146.877.. Val loss: 57.701.. Train L1 norm: 1.063.. Val L1 norm: 1.053.. Train Linf norm: 16.037.. Val Linf norm: 14.192\n",
            "Epoch 42/137.. Train loss: 117.031.. Val loss: 57.691.. Train L1 norm: 1.068.. Val L1 norm: 1.054.. Train Linf norm: 16.723.. Val Linf norm: 14.254\n",
            "Epoch 43/137.. Train loss: 132.329.. Val loss: 57.685.. Train L1 norm: 1.065.. Val L1 norm: 1.053.. Train Linf norm: 16.445.. Val Linf norm: 14.240\n",
            "Epoch 44/137.. Train loss: 119.011.. Val loss: 57.681.. Train L1 norm: 1.062.. Val L1 norm: 1.054.. Train Linf norm: 15.139.. Val Linf norm: 14.263\n",
            "Epoch 45/137.. Train loss: 125.120.. Val loss: 57.677.. Train L1 norm: 1.066.. Val L1 norm: 1.054.. Train Linf norm: 16.168.. Val Linf norm: 14.268\n",
            "Epoch 46/137.. Train loss: 156.907.. Val loss: 57.671.. Train L1 norm: 1.066.. Val L1 norm: 1.053.. Train Linf norm: 16.558.. Val Linf norm: 14.235\n",
            "Epoch 47/137.. Train loss: 113.022.. Val loss: 57.668.. Train L1 norm: 1.068.. Val L1 norm: 1.054.. Train Linf norm: 16.868.. Val Linf norm: 14.265\n",
            "Epoch 48/137.. Train loss: 129.225.. Val loss: 57.664.. Train L1 norm: 1.066.. Val L1 norm: 1.054.. Train Linf norm: 16.889.. Val Linf norm: 14.256\n",
            "Epoch 49/137.. Train loss: 119.716.. Val loss: 57.661.. Train L1 norm: 1.062.. Val L1 norm: 1.054.. Train Linf norm: 15.713.. Val Linf norm: 14.269\n",
            "Epoch 50/137.. Train loss: 127.824.. Val loss: 57.659.. Train L1 norm: 1.066.. Val L1 norm: 1.054.. Train Linf norm: 16.568.. Val Linf norm: 14.271\n",
            "Epoch 51/137.. Train loss: 145.747.. Val loss: 57.657.. Train L1 norm: 1.064.. Val L1 norm: 1.054.. Train Linf norm: 16.227.. Val Linf norm: 14.255\n",
            "Epoch 52/137.. Train loss: 111.357.. Val loss: 57.656.. Train L1 norm: 1.070.. Val L1 norm: 1.054.. Train Linf norm: 17.741.. Val Linf norm: 14.270\n",
            "Epoch 53/137.. Train loss: 134.518.. Val loss: 57.654.. Train L1 norm: 1.064.. Val L1 norm: 1.054.. Train Linf norm: 16.050.. Val Linf norm: 14.263\n",
            "Epoch 54/137.. Train loss: 130.575.. Val loss: 57.653.. Train L1 norm: 1.059.. Val L1 norm: 1.054.. Train Linf norm: 14.499.. Val Linf norm: 14.257\n",
            "Epoch 55/137.. Train loss: 145.500.. Val loss: 57.651.. Train L1 norm: 1.067.. Val L1 norm: 1.054.. Train Linf norm: 17.036.. Val Linf norm: 14.245\n",
            "Epoch 56/137.. Train loss: 123.196.. Val loss: 57.650.. Train L1 norm: 1.066.. Val L1 norm: 1.054.. Train Linf norm: 16.539.. Val Linf norm: 14.246\n",
            "Epoch 57/137.. Train loss: 115.564.. Val loss: 57.649.. Train L1 norm: 1.067.. Val L1 norm: 1.054.. Train Linf norm: 17.261.. Val Linf norm: 14.250\n",
            "Epoch 58/137.. Train loss: 116.969.. Val loss: 57.649.. Train L1 norm: 1.063.. Val L1 norm: 1.054.. Train Linf norm: 15.778.. Val Linf norm: 14.252\n",
            "Epoch 59/137.. Train loss: 118.753.. Val loss: 57.648.. Train L1 norm: 1.064.. Val L1 norm: 1.054.. Train Linf norm: 15.914.. Val Linf norm: 14.256\n",
            "Epoch 60/137.. Train loss: 116.643.. Val loss: 57.648.. Train L1 norm: 1.058.. Val L1 norm: 1.054.. Train Linf norm: 13.694.. Val Linf norm: 14.260\n",
            "Epoch 61/137.. Train loss: 121.488.. Val loss: 57.647.. Train L1 norm: 1.066.. Val L1 norm: 1.054.. Train Linf norm: 17.019.. Val Linf norm: 14.260\n",
            "Epoch 62/137.. Train loss: 121.058.. Val loss: 57.647.. Train L1 norm: 1.062.. Val L1 norm: 1.054.. Train Linf norm: 15.561.. Val Linf norm: 14.260\n",
            "Epoch 63/137.. Train loss: 127.478.. Val loss: 57.646.. Train L1 norm: 1.064.. Val L1 norm: 1.054.. Train Linf norm: 16.261.. Val Linf norm: 14.259\n",
            "Epoch 64/137.. Train loss: 114.726.. Val loss: 57.646.. Train L1 norm: 1.064.. Val L1 norm: 1.054.. Train Linf norm: 16.409.. Val Linf norm: 14.260\n",
            "Epoch 65/137.. Train loss: 117.487.. Val loss: 57.646.. Train L1 norm: 1.066.. Val L1 norm: 1.054.. Train Linf norm: 16.692.. Val Linf norm: 14.261\n",
            "Epoch 66/137.. Train loss: 126.386.. Val loss: 57.645.. Train L1 norm: 1.058.. Val L1 norm: 1.054.. Train Linf norm: 15.122.. Val Linf norm: 14.261\n",
            "Epoch 67/137.. Train loss: 117.452.. Val loss: 57.645.. Train L1 norm: 1.062.. Val L1 norm: 1.054.. Train Linf norm: 15.714.. Val Linf norm: 14.262\n",
            "Epoch 68/137.. Train loss: 130.741.. Val loss: 57.645.. Train L1 norm: 1.058.. Val L1 norm: 1.054.. Train Linf norm: 14.872.. Val Linf norm: 14.261\n",
            "Epoch 69/137.. Train loss: 132.536.. Val loss: 57.645.. Train L1 norm: 1.065.. Val L1 norm: 1.054.. Train Linf norm: 15.984.. Val Linf norm: 14.259\n",
            "Epoch 70/137.. Train loss: 119.055.. Val loss: 57.645.. Train L1 norm: 1.063.. Val L1 norm: 1.054.. Train Linf norm: 15.808.. Val Linf norm: 14.259\n",
            "Epoch 71/137.. Train loss: 127.665.. Val loss: 57.644.. Train L1 norm: 1.066.. Val L1 norm: 1.054.. Train Linf norm: 16.795.. Val Linf norm: 14.259\n",
            "Epoch 72/137.. Train loss: 107.246.. Val loss: 57.644.. Train L1 norm: 1.059.. Val L1 norm: 1.054.. Train Linf norm: 14.929.. Val Linf norm: 14.260\n",
            "Epoch 73/137.. Train loss: 119.610.. Val loss: 57.644.. Train L1 norm: 1.068.. Val L1 norm: 1.054.. Train Linf norm: 17.097.. Val Linf norm: 14.261\n",
            "Epoch 74/137.. Train loss: 114.914.. Val loss: 57.644.. Train L1 norm: 1.067.. Val L1 norm: 1.054.. Train Linf norm: 16.654.. Val Linf norm: 14.261\n",
            "Epoch 75/137.. Train loss: 122.819.. Val loss: 57.644.. Train L1 norm: 1.066.. Val L1 norm: 1.054.. Train Linf norm: 16.521.. Val Linf norm: 14.261\n",
            "Epoch 76/137.. Train loss: 139.086.. Val loss: 57.644.. Train L1 norm: 1.065.. Val L1 norm: 1.054.. Train Linf norm: 16.563.. Val Linf norm: 14.260\n",
            "Epoch 77/137.. Train loss: 140.907.. Val loss: 57.644.. Train L1 norm: 1.063.. Val L1 norm: 1.054.. Train Linf norm: 16.121.. Val Linf norm: 14.259\n",
            "Epoch 78/137.. Train loss: 122.748.. Val loss: 57.644.. Train L1 norm: 1.066.. Val L1 norm: 1.054.. Train Linf norm: 16.638.. Val Linf norm: 14.259\n",
            "Epoch 79/137.. Train loss: 124.163.. Val loss: 57.644.. Train L1 norm: 1.065.. Val L1 norm: 1.054.. Train Linf norm: 16.482.. Val Linf norm: 14.259\n",
            "Epoch 80/137.. Train loss: 122.790.. Val loss: 57.644.. Train L1 norm: 1.061.. Val L1 norm: 1.054.. Train Linf norm: 15.567.. Val Linf norm: 14.259\n",
            "Epoch 81/137.. Train loss: 117.712.. Val loss: 57.644.. Train L1 norm: 1.060.. Val L1 norm: 1.054.. Train Linf norm: 15.059.. Val Linf norm: 14.259\n",
            "Epoch 82/137.. Train loss: 119.626.. Val loss: 57.644.. Train L1 norm: 1.063.. Val L1 norm: 1.054.. Train Linf norm: 15.750.. Val Linf norm: 14.259\n",
            "Epoch 83/137.. Train loss: 131.922.. Val loss: 57.644.. Train L1 norm: 1.062.. Val L1 norm: 1.054.. Train Linf norm: 15.629.. Val Linf norm: 14.259\n",
            "Epoch 84/137.. Train loss: 130.421.. Val loss: 57.644.. Train L1 norm: 1.063.. Val L1 norm: 1.054.. Train Linf norm: 15.945.. Val Linf norm: 14.258\n",
            "Epoch 85/137.. Train loss: 136.806.. Val loss: 57.644.. Train L1 norm: 1.064.. Val L1 norm: 1.054.. Train Linf norm: 15.296.. Val Linf norm: 14.258\n",
            "Epoch 86/137.. Train loss: 116.955.. Val loss: 57.644.. Train L1 norm: 1.065.. Val L1 norm: 1.054.. Train Linf norm: 15.682.. Val Linf norm: 14.258\n",
            "Epoch 87/137.. Train loss: 143.453.. Val loss: 57.644.. Train L1 norm: 1.065.. Val L1 norm: 1.054.. Train Linf norm: 16.704.. Val Linf norm: 14.258\n",
            "Epoch 88/137.. Train loss: 120.793.. Val loss: 57.644.. Train L1 norm: 1.059.. Val L1 norm: 1.054.. Train Linf norm: 15.086.. Val Linf norm: 14.257\n",
            "Epoch 89/137.. Train loss: 143.107.. Val loss: 57.644.. Train L1 norm: 1.064.. Val L1 norm: 1.054.. Train Linf norm: 16.234.. Val Linf norm: 14.257\n",
            "Epoch 90/137.. Train loss: 121.863.. Val loss: 57.644.. Train L1 norm: 1.064.. Val L1 norm: 1.054.. Train Linf norm: 15.845.. Val Linf norm: 14.257\n",
            "Epoch 91/137.. Train loss: 122.737.. Val loss: 57.644.. Train L1 norm: 1.067.. Val L1 norm: 1.054.. Train Linf norm: 16.846.. Val Linf norm: 14.257\n",
            "Epoch 92/137.. Train loss: 121.364.. Val loss: 57.644.. Train L1 norm: 1.064.. Val L1 norm: 1.054.. Train Linf norm: 16.423.. Val Linf norm: 14.257\n",
            "Epoch 93/137.. Train loss: 131.992.. Val loss: 57.644.. Train L1 norm: 1.061.. Val L1 norm: 1.054.. Train Linf norm: 14.922.. Val Linf norm: 14.256\n",
            "Epoch 94/137.. Train loss: 124.706.. Val loss: 57.644.. Train L1 norm: 1.066.. Val L1 norm: 1.054.. Train Linf norm: 16.789.. Val Linf norm: 14.256\n",
            "Epoch 95/137.. Train loss: 135.423.. Val loss: 57.644.. Train L1 norm: 1.061.. Val L1 norm: 1.054.. Train Linf norm: 14.958.. Val Linf norm: 14.256\n",
            "Epoch 96/137.. Train loss: 129.532.. Val loss: 57.644.. Train L1 norm: 1.063.. Val L1 norm: 1.054.. Train Linf norm: 16.156.. Val Linf norm: 14.256\n",
            "Epoch 97/137.. Train loss: 129.554.. Val loss: 57.644.. Train L1 norm: 1.062.. Val L1 norm: 1.054.. Train Linf norm: 15.866.. Val Linf norm: 14.256\n",
            "Epoch 98/137.. Train loss: 116.974.. Val loss: 57.644.. Train L1 norm: 1.060.. Val L1 norm: 1.054.. Train Linf norm: 14.982.. Val Linf norm: 14.256\n",
            "Epoch 99/137.. Train loss: 129.417.. Val loss: 57.644.. Train L1 norm: 1.066.. Val L1 norm: 1.054.. Train Linf norm: 16.942.. Val Linf norm: 14.256\n",
            "Epoch 100/137.. Train loss: 121.133.. Val loss: 57.644.. Train L1 norm: 1.063.. Val L1 norm: 1.054.. Train Linf norm: 16.215.. Val Linf norm: 14.256\n",
            "Epoch 101/137.. Train loss: 132.430.. Val loss: 57.644.. Train L1 norm: 1.058.. Val L1 norm: 1.054.. Train Linf norm: 14.597.. Val Linf norm: 14.256\n",
            "Epoch 102/137.. Train loss: 122.790.. Val loss: 57.644.. Train L1 norm: 1.062.. Val L1 norm: 1.054.. Train Linf norm: 15.367.. Val Linf norm: 14.256\n",
            "Epoch 103/137.. Train loss: 124.715.. Val loss: 57.644.. Train L1 norm: 1.064.. Val L1 norm: 1.054.. Train Linf norm: 15.819.. Val Linf norm: 14.256\n",
            "Epoch 104/137.. Train loss: 128.150.. Val loss: 57.644.. Train L1 norm: 1.061.. Val L1 norm: 1.054.. Train Linf norm: 15.057.. Val Linf norm: 14.256\n",
            "Epoch 105/137.. Train loss: 107.960.. Val loss: 57.644.. Train L1 norm: 1.067.. Val L1 norm: 1.054.. Train Linf norm: 17.186.. Val Linf norm: 14.256\n",
            "Epoch 106/137.. Train loss: 126.633.. Val loss: 57.644.. Train L1 norm: 1.065.. Val L1 norm: 1.054.. Train Linf norm: 16.733.. Val Linf norm: 14.256\n",
            "Epoch 107/137.. Train loss: 124.469.. Val loss: 57.644.. Train L1 norm: 1.060.. Val L1 norm: 1.054.. Train Linf norm: 15.070.. Val Linf norm: 14.256\n",
            "Epoch 108/137.. Train loss: 128.354.. Val loss: 57.644.. Train L1 norm: 1.063.. Val L1 norm: 1.054.. Train Linf norm: 15.538.. Val Linf norm: 14.256\n",
            "Epoch 109/137.. Train loss: 130.350.. Val loss: 57.644.. Train L1 norm: 1.062.. Val L1 norm: 1.054.. Train Linf norm: 15.893.. Val Linf norm: 14.255\n",
            "Epoch 110/137.. Train loss: 118.156.. Val loss: 57.644.. Train L1 norm: 1.064.. Val L1 norm: 1.054.. Train Linf norm: 16.139.. Val Linf norm: 14.255\n",
            "Epoch 111/137.. Train loss: 116.538.. Val loss: 57.644.. Train L1 norm: 1.063.. Val L1 norm: 1.054.. Train Linf norm: 16.330.. Val Linf norm: 14.255\n",
            "Epoch 112/137.. Train loss: 126.185.. Val loss: 57.644.. Train L1 norm: 1.057.. Val L1 norm: 1.054.. Train Linf norm: 14.493.. Val Linf norm: 14.255\n",
            "Epoch 113/137.. Train loss: 138.394.. Val loss: 57.644.. Train L1 norm: 1.066.. Val L1 norm: 1.054.. Train Linf norm: 16.602.. Val Linf norm: 14.255\n",
            "Epoch 114/137.. Train loss: 149.737.. Val loss: 57.644.. Train L1 norm: 1.063.. Val L1 norm: 1.054.. Train Linf norm: 16.016.. Val Linf norm: 14.255\n",
            "Epoch 115/137.. Train loss: 116.472.. Val loss: 57.644.. Train L1 norm: 1.064.. Val L1 norm: 1.054.. Train Linf norm: 16.277.. Val Linf norm: 14.255\n",
            "Epoch 116/137.. Train loss: 113.491.. Val loss: 57.644.. Train L1 norm: 1.064.. Val L1 norm: 1.054.. Train Linf norm: 16.395.. Val Linf norm: 14.255\n",
            "Epoch 117/137.. Train loss: 127.084.. Val loss: 57.644.. Train L1 norm: 1.063.. Val L1 norm: 1.054.. Train Linf norm: 15.758.. Val Linf norm: 14.255\n",
            "Epoch 118/137.. Train loss: 129.720.. Val loss: 57.644.. Train L1 norm: 1.064.. Val L1 norm: 1.054.. Train Linf norm: 16.331.. Val Linf norm: 14.255\n",
            "Epoch 119/137.. Train loss: 123.439.. Val loss: 57.644.. Train L1 norm: 1.064.. Val L1 norm: 1.054.. Train Linf norm: 16.285.. Val Linf norm: 14.255\n",
            "Epoch 120/137.. Train loss: 137.105.. Val loss: 57.644.. Train L1 norm: 1.064.. Val L1 norm: 1.054.. Train Linf norm: 16.222.. Val Linf norm: 14.255\n",
            "Epoch 121/137.. Train loss: 130.089.. Val loss: 57.644.. Train L1 norm: 1.059.. Val L1 norm: 1.054.. Train Linf norm: 14.700.. Val Linf norm: 14.255\n",
            "Epoch 122/137.. Train loss: 112.451.. Val loss: 57.644.. Train L1 norm: 1.069.. Val L1 norm: 1.054.. Train Linf norm: 16.729.. Val Linf norm: 14.255\n",
            "Epoch 123/137.. Train loss: 114.282.. Val loss: 57.644.. Train L1 norm: 1.063.. Val L1 norm: 1.054.. Train Linf norm: 15.786.. Val Linf norm: 14.255\n",
            "Epoch 124/137.. Train loss: 110.665.. Val loss: 57.644.. Train L1 norm: 1.066.. Val L1 norm: 1.054.. Train Linf norm: 16.626.. Val Linf norm: 14.255\n",
            "Epoch 125/137.. Train loss: 133.035.. Val loss: 57.644.. Train L1 norm: 1.065.. Val L1 norm: 1.054.. Train Linf norm: 16.990.. Val Linf norm: 14.255\n",
            "Epoch 126/137.. Train loss: 113.886.. Val loss: 57.644.. Train L1 norm: 1.063.. Val L1 norm: 1.054.. Train Linf norm: 15.907.. Val Linf norm: 14.255\n",
            "Epoch 127/137.. Train loss: 125.564.. Val loss: 57.644.. Train L1 norm: 1.063.. Val L1 norm: 1.054.. Train Linf norm: 16.186.. Val Linf norm: 14.255\n",
            "Epoch 128/137.. Train loss: 152.186.. Val loss: 57.644.. Train L1 norm: 1.068.. Val L1 norm: 1.054.. Train Linf norm: 17.530.. Val Linf norm: 14.255\n",
            "Epoch 129/137.. Train loss: 119.771.. Val loss: 57.644.. Train L1 norm: 1.064.. Val L1 norm: 1.054.. Train Linf norm: 16.711.. Val Linf norm: 14.255\n",
            "Epoch 130/137.. Train loss: 129.002.. Val loss: 57.644.. Train L1 norm: 1.065.. Val L1 norm: 1.054.. Train Linf norm: 16.490.. Val Linf norm: 14.255\n",
            "Epoch 131/137.. Train loss: 138.675.. Val loss: 57.644.. Train L1 norm: 1.064.. Val L1 norm: 1.054.. Train Linf norm: 16.325.. Val Linf norm: 14.254\n",
            "Epoch 132/137.. Train loss: 129.511.. Val loss: 57.644.. Train L1 norm: 1.067.. Val L1 norm: 1.054.. Train Linf norm: 16.397.. Val Linf norm: 14.254\n",
            "Epoch 133/137.. Train loss: 143.342.. Val loss: 57.644.. Train L1 norm: 1.066.. Val L1 norm: 1.054.. Train Linf norm: 16.877.. Val Linf norm: 14.254\n",
            "Epoch 134/137.. Train loss: 114.050.. Val loss: 57.644.. Train L1 norm: 1.064.. Val L1 norm: 1.054.. Train Linf norm: 16.433.. Val Linf norm: 14.254\n",
            "Epoch 135/137.. Train loss: 128.955.. Val loss: 57.644.. Train L1 norm: 1.063.. Val L1 norm: 1.054.. Train Linf norm: 15.079.. Val Linf norm: 14.254\n",
            "Epoch 136/137.. Train loss: 123.289.. Val loss: 57.644.. Train L1 norm: 1.062.. Val L1 norm: 1.054.. Train Linf norm: 15.142.. Val Linf norm: 14.254\n"
          ]
        },
        {
          "output_type": "stream",
          "name": "stderr",
          "text": [
            "[I 2023-06-01 01:27:15,272] Trial 33 finished with value: 1.053640260887146 and parameters: {'batch_size': 256, 'dropout_rate': 0.325337278829174, 'factor': 0.4303931385479848, 'hidden_activation': 'PReLU', 'loss': 'MSE', 'lr': 1.8074930937511337e-05, 'n_epochs': 137, 'n_layers': 10, 'n_units_0': 4078, 'n_units_1': 3260, 'n_units_2': 924, 'n_units_3': 2954, 'n_units_4': 3837, 'n_units_5': 3392, 'n_units_6': 3525, 'n_units_7': 2510, 'n_units_8': 4009, 'n_units_9': 558, 'optimizer': 'Adagrad', 'output_activation': 'Linear', 'patience': 6, 'prelu_init': 0.2549888173731633, 'scheduler': 'ReduceLROnPlateau', 'threshold': 0.003044295897231865}. Best is trial 32 with value: 1.0412370435714722.\n"
          ]
        },
        {
          "output_type": "stream",
          "name": "stdout",
          "text": [
            "Epoch 137/137.. Train loss: 116.015.. Val loss: 57.644.. Train L1 norm: 1.065.. Val L1 norm: 1.054.. Train Linf norm: 16.589.. Val Linf norm: 14.254\n"
          ]
        },
        {
          "output_type": "stream",
          "name": "stderr",
          "text": [
            "[I 2023-06-01 01:27:31,397] Trial 34 pruned. \n"
          ]
        },
        {
          "output_type": "stream",
          "name": "stdout",
          "text": [
            "Epoch 1/138.. Train loss: 3438.484.. Val loss: 170.675.. Train L1 norm: 1.743.. Val L1 norm: 1.478.. Train Linf norm: 127.570.. Val Linf norm: 94.792\n"
          ]
        },
        {
          "output_type": "stream",
          "name": "stderr",
          "text": [
            "[I 2023-06-01 01:27:45,021] Trial 35 pruned. \n"
          ]
        },
        {
          "output_type": "stream",
          "name": "stdout",
          "text": [
            "Epoch 1/138.. Train loss: 2.059.. Val loss: 1.933.. Train L1 norm: 4.450.. Val L1 norm: 5.693.. Train Linf norm: 815.196.. Val Linf norm: 1348.121\n"
          ]
        },
        {
          "output_type": "stream",
          "name": "stderr",
          "text": [
            "[I 2023-06-01 01:28:01,231] Trial 36 pruned. \n"
          ]
        },
        {
          "output_type": "stream",
          "name": "stdout",
          "text": [
            "Epoch 1/120.. Train loss: 5.092.. Val loss: 4.246.. Train L1 norm: 2.824.. Val L1 norm: 2.619.. Train Linf norm: 274.366.. Val Linf norm: 282.320\n",
            "Epoch 1/149.. Train loss: 1338.550.. Val loss: 65.197.. Train L1 norm: 1.610.. Val L1 norm: 1.177.. Train Linf norm: 103.992.. Val Linf norm: 39.090\n",
            "Epoch 2/149.. Train loss: 474.500.. Val loss: 58.039.. Train L1 norm: 1.227.. Val L1 norm: 1.101.. Train Linf norm: 45.917.. Val Linf norm: 23.909\n",
            "Epoch 3/149.. Train loss: 198.056.. Val loss: 57.659.. Train L1 norm: 1.159.. Val L1 norm: 1.063.. Train Linf norm: 34.621.. Val Linf norm: 15.941\n",
            "Epoch 4/149.. Train loss: 114.107.. Val loss: 58.091.. Train L1 norm: 1.106.. Val L1 norm: 1.057.. Train Linf norm: 24.230.. Val Linf norm: 14.368\n",
            "Epoch 5/149.. Train loss: 120.849.. Val loss: 58.850.. Train L1 norm: 1.084.. Val L1 norm: 1.049.. Train Linf norm: 20.009.. Val Linf norm: 12.644\n",
            "Epoch 6/149.. Train loss: 119.799.. Val loss: 59.869.. Train L1 norm: 1.082.. Val L1 norm: 1.043.. Train Linf norm: 18.928.. Val Linf norm: 11.052\n",
            "Epoch 7/149.. Train loss: 116.949.. Val loss: 60.705.. Train L1 norm: 1.068.. Val L1 norm: 1.040.. Train Linf norm: 16.266.. Val Linf norm: 10.412\n",
            "Epoch 8/149.. Train loss: 106.906.. Val loss: 60.873.. Train L1 norm: 1.057.. Val L1 norm: 1.044.. Train Linf norm: 13.660.. Val Linf norm: 11.281\n",
            "Epoch 9/149.. Train loss: 109.340.. Val loss: 61.398.. Train L1 norm: 1.053.. Val L1 norm: 1.045.. Train Linf norm: 12.884.. Val Linf norm: 11.450\n",
            "Epoch 10/149.. Train loss: 141.909.. Val loss: 59.632.. Train L1 norm: 1.077.. Val L1 norm: 1.067.. Train Linf norm: 17.731.. Val Linf norm: 16.303\n",
            "Epoch 11/149.. Train loss: 115.765.. Val loss: 59.477.. Train L1 norm: 1.088.. Val L1 norm: 1.071.. Train Linf norm: 19.923.. Val Linf norm: 17.214\n",
            "Epoch 12/149.. Train loss: 120.045.. Val loss: 58.960.. Train L1 norm: 1.095.. Val L1 norm: 1.080.. Train Linf norm: 21.529.. Val Linf norm: 19.158\n",
            "Epoch 13/149.. Train loss: 110.611.. Val loss: 59.221.. Train L1 norm: 1.094.. Val L1 norm: 1.079.. Train Linf norm: 20.219.. Val Linf norm: 18.828\n",
            "Epoch 14/149.. Train loss: 108.183.. Val loss: 59.422.. Train L1 norm: 1.090.. Val L1 norm: 1.078.. Train Linf norm: 20.151.. Val Linf norm: 18.682\n",
            "Epoch 15/149.. Train loss: 115.550.. Val loss: 59.761.. Train L1 norm: 1.097.. Val L1 norm: 1.076.. Train Linf norm: 22.122.. Val Linf norm: 18.169\n",
            "Epoch 16/149.. Train loss: 108.207.. Val loss: 59.616.. Train L1 norm: 1.086.. Val L1 norm: 1.080.. Train Linf norm: 18.626.. Val Linf norm: 18.936\n",
            "Epoch 17/149.. Train loss: 106.980.. Val loss: 59.686.. Train L1 norm: 1.090.. Val L1 norm: 1.081.. Train Linf norm: 20.129.. Val Linf norm: 19.116\n",
            "Epoch 18/149.. Train loss: 107.115.. Val loss: 59.745.. Train L1 norm: 1.095.. Val L1 norm: 1.081.. Train Linf norm: 21.424.. Val Linf norm: 19.133\n",
            "Epoch 19/149.. Train loss: 106.206.. Val loss: 59.799.. Train L1 norm: 1.094.. Val L1 norm: 1.081.. Train Linf norm: 21.124.. Val Linf norm: 19.158\n",
            "Epoch 20/149.. Train loss: 106.488.. Val loss: 59.863.. Train L1 norm: 1.091.. Val L1 norm: 1.081.. Train Linf norm: 19.615.. Val Linf norm: 19.147\n",
            "Epoch 21/149.. Train loss: 104.751.. Val loss: 59.889.. Train L1 norm: 1.084.. Val L1 norm: 1.081.. Train Linf norm: 18.911.. Val Linf norm: 19.235\n",
            "Epoch 22/149.. Train loss: 109.137.. Val loss: 59.994.. Train L1 norm: 1.085.. Val L1 norm: 1.081.. Train Linf norm: 18.852.. Val Linf norm: 19.144\n",
            "Epoch 23/149.. Train loss: 118.630.. Val loss: 59.798.. Train L1 norm: 1.086.. Val L1 norm: 1.084.. Train Linf norm: 19.028.. Val Linf norm: 19.771\n",
            "Epoch 24/149.. Train loss: 113.868.. Val loss: 59.928.. Train L1 norm: 1.097.. Val L1 norm: 1.083.. Train Linf norm: 21.085.. Val Linf norm: 19.585\n",
            "Epoch 25/149.. Train loss: 122.031.. Val loss: 59.819.. Train L1 norm: 1.089.. Val L1 norm: 1.085.. Train Linf norm: 19.888.. Val Linf norm: 19.918\n",
            "Epoch 26/149.. Train loss: 113.988.. Val loss: 59.860.. Train L1 norm: 1.092.. Val L1 norm: 1.084.. Train Linf norm: 20.450.. Val Linf norm: 19.882\n",
            "Epoch 27/149.. Train loss: 106.774.. Val loss: 59.831.. Train L1 norm: 1.089.. Val L1 norm: 1.085.. Train Linf norm: 19.219.. Val Linf norm: 20.016\n",
            "Epoch 28/149.. Train loss: 107.589.. Val loss: 59.786.. Train L1 norm: 1.093.. Val L1 norm: 1.086.. Train Linf norm: 20.657.. Val Linf norm: 20.190\n",
            "Epoch 29/149.. Train loss: 107.048.. Val loss: 59.749.. Train L1 norm: 1.090.. Val L1 norm: 1.087.. Train Linf norm: 19.756.. Val Linf norm: 20.342\n",
            "Epoch 30/149.. Train loss: 105.472.. Val loss: 59.770.. Train L1 norm: 1.092.. Val L1 norm: 1.087.. Train Linf norm: 20.367.. Val Linf norm: 20.358\n",
            "Epoch 31/149.. Train loss: 108.804.. Val loss: 59.733.. Train L1 norm: 1.092.. Val L1 norm: 1.087.. Train Linf norm: 19.653.. Val Linf norm: 20.516\n",
            "Epoch 32/149.. Train loss: 104.384.. Val loss: 59.725.. Train L1 norm: 1.097.. Val L1 norm: 1.088.. Train Linf norm: 21.608.. Val Linf norm: 20.563\n",
            "Epoch 33/149.. Train loss: 103.669.. Val loss: 59.726.. Train L1 norm: 1.100.. Val L1 norm: 1.088.. Train Linf norm: 21.691.. Val Linf norm: 20.590\n",
            "Epoch 34/149.. Train loss: 108.202.. Val loss: 59.740.. Train L1 norm: 1.103.. Val L1 norm: 1.088.. Train Linf norm: 22.891.. Val Linf norm: 20.580\n",
            "Epoch 35/149.. Train loss: 108.858.. Val loss: 59.756.. Train L1 norm: 1.100.. Val L1 norm: 1.088.. Train Linf norm: 22.651.. Val Linf norm: 20.565\n",
            "Epoch 36/149.. Train loss: 117.631.. Val loss: 59.793.. Train L1 norm: 1.092.. Val L1 norm: 1.087.. Train Linf norm: 19.726.. Val Linf norm: 20.498\n",
            "Epoch 37/149.. Train loss: 104.789.. Val loss: 59.791.. Train L1 norm: 1.087.. Val L1 norm: 1.088.. Train Linf norm: 19.060.. Val Linf norm: 20.528\n",
            "Epoch 38/149.. Train loss: 111.244.. Val loss: 59.762.. Train L1 norm: 1.097.. Val L1 norm: 1.088.. Train Linf norm: 21.070.. Val Linf norm: 20.626\n",
            "Epoch 39/149.. Train loss: 104.374.. Val loss: 59.756.. Train L1 norm: 1.091.. Val L1 norm: 1.088.. Train Linf norm: 18.771.. Val Linf norm: 20.651\n",
            "Epoch 40/149.. Train loss: 105.620.. Val loss: 59.749.. Train L1 norm: 1.095.. Val L1 norm: 1.088.. Train Linf norm: 21.300.. Val Linf norm: 20.681\n",
            "Epoch 41/149.. Train loss: 106.900.. Val loss: 59.757.. Train L1 norm: 1.093.. Val L1 norm: 1.088.. Train Linf norm: 19.947.. Val Linf norm: 20.672\n",
            "Epoch 42/149.. Train loss: 104.682.. Val loss: 59.760.. Train L1 norm: 1.098.. Val L1 norm: 1.088.. Train Linf norm: 21.642.. Val Linf norm: 20.676\n",
            "Epoch 43/149.. Train loss: 128.438.. Val loss: 59.778.. Train L1 norm: 1.098.. Val L1 norm: 1.088.. Train Linf norm: 21.088.. Val Linf norm: 20.639\n",
            "Epoch 44/149.. Train loss: 105.636.. Val loss: 59.780.. Train L1 norm: 1.089.. Val L1 norm: 1.088.. Train Linf norm: 19.296.. Val Linf norm: 20.645\n",
            "Epoch 45/149.. Train loss: 117.127.. Val loss: 59.791.. Train L1 norm: 1.096.. Val L1 norm: 1.088.. Train Linf norm: 21.113.. Val Linf norm: 20.627\n",
            "Epoch 46/149.. Train loss: 122.832.. Val loss: 59.796.. Train L1 norm: 1.093.. Val L1 norm: 1.088.. Train Linf norm: 20.322.. Val Linf norm: 20.620\n",
            "Epoch 47/149.. Train loss: 105.533.. Val loss: 59.794.. Train L1 norm: 1.094.. Val L1 norm: 1.088.. Train Linf norm: 20.507.. Val Linf norm: 20.629\n",
            "Epoch 48/149.. Train loss: 108.821.. Val loss: 59.790.. Train L1 norm: 1.091.. Val L1 norm: 1.088.. Train Linf norm: 19.955.. Val Linf norm: 20.645\n",
            "Epoch 49/149.. Train loss: 126.300.. Val loss: 59.796.. Train L1 norm: 1.098.. Val L1 norm: 1.088.. Train Linf norm: 21.261.. Val Linf norm: 20.634\n",
            "Epoch 50/149.. Train loss: 114.144.. Val loss: 59.789.. Train L1 norm: 1.105.. Val L1 norm: 1.088.. Train Linf norm: 23.080.. Val Linf norm: 20.657\n",
            "Epoch 51/149.. Train loss: 111.921.. Val loss: 59.786.. Train L1 norm: 1.090.. Val L1 norm: 1.088.. Train Linf norm: 19.692.. Val Linf norm: 20.669\n",
            "Epoch 52/149.. Train loss: 120.583.. Val loss: 59.779.. Train L1 norm: 1.097.. Val L1 norm: 1.088.. Train Linf norm: 21.189.. Val Linf norm: 20.692\n",
            "Epoch 53/149.. Train loss: 107.807.. Val loss: 59.780.. Train L1 norm: 1.098.. Val L1 norm: 1.088.. Train Linf norm: 21.401.. Val Linf norm: 20.691\n",
            "Epoch 54/149.. Train loss: 114.080.. Val loss: 59.781.. Train L1 norm: 1.100.. Val L1 norm: 1.088.. Train Linf norm: 21.648.. Val Linf norm: 20.691\n",
            "Epoch 55/149.. Train loss: 107.825.. Val loss: 59.780.. Train L1 norm: 1.091.. Val L1 norm: 1.088.. Train Linf norm: 19.632.. Val Linf norm: 20.694\n",
            "Epoch 56/149.. Train loss: 105.323.. Val loss: 59.780.. Train L1 norm: 1.099.. Val L1 norm: 1.088.. Train Linf norm: 21.940.. Val Linf norm: 20.698\n",
            "Epoch 57/149.. Train loss: 108.477.. Val loss: 59.779.. Train L1 norm: 1.096.. Val L1 norm: 1.088.. Train Linf norm: 21.595.. Val Linf norm: 20.701\n",
            "Epoch 58/149.. Train loss: 111.206.. Val loss: 59.778.. Train L1 norm: 1.099.. Val L1 norm: 1.088.. Train Linf norm: 21.753.. Val Linf norm: 20.707\n",
            "Epoch 59/149.. Train loss: 105.352.. Val loss: 59.779.. Train L1 norm: 1.098.. Val L1 norm: 1.088.. Train Linf norm: 22.162.. Val Linf norm: 20.707\n",
            "Epoch 60/149.. Train loss: 108.695.. Val loss: 59.778.. Train L1 norm: 1.095.. Val L1 norm: 1.088.. Train Linf norm: 21.013.. Val Linf norm: 20.709\n",
            "Epoch 61/149.. Train loss: 104.536.. Val loss: 59.778.. Train L1 norm: 1.105.. Val L1 norm: 1.088.. Train Linf norm: 23.611.. Val Linf norm: 20.710\n",
            "Epoch 62/149.. Train loss: 104.912.. Val loss: 59.778.. Train L1 norm: 1.096.. Val L1 norm: 1.088.. Train Linf norm: 21.186.. Val Linf norm: 20.711\n",
            "Epoch 63/149.. Train loss: 108.251.. Val loss: 59.777.. Train L1 norm: 1.099.. Val L1 norm: 1.088.. Train Linf norm: 22.200.. Val Linf norm: 20.713\n",
            "Epoch 64/149.. Train loss: 108.667.. Val loss: 59.776.. Train L1 norm: 1.094.. Val L1 norm: 1.088.. Train Linf norm: 20.556.. Val Linf norm: 20.716\n",
            "Epoch 65/149.. Train loss: 106.635.. Val loss: 59.776.. Train L1 norm: 1.095.. Val L1 norm: 1.088.. Train Linf norm: 20.992.. Val Linf norm: 20.717\n",
            "Epoch 66/149.. Train loss: 106.737.. Val loss: 59.777.. Train L1 norm: 1.090.. Val L1 norm: 1.088.. Train Linf norm: 18.990.. Val Linf norm: 20.717\n",
            "Epoch 67/149.. Train loss: 109.002.. Val loss: 59.776.. Train L1 norm: 1.092.. Val L1 norm: 1.088.. Train Linf norm: 19.692.. Val Linf norm: 20.718\n",
            "Epoch 68/149.. Train loss: 125.709.. Val loss: 59.777.. Train L1 norm: 1.090.. Val L1 norm: 1.088.. Train Linf norm: 19.357.. Val Linf norm: 20.716\n",
            "Epoch 69/149.. Train loss: 106.025.. Val loss: 59.777.. Train L1 norm: 1.091.. Val L1 norm: 1.088.. Train Linf norm: 19.400.. Val Linf norm: 20.716\n",
            "Epoch 70/149.. Train loss: 106.828.. Val loss: 59.777.. Train L1 norm: 1.097.. Val L1 norm: 1.088.. Train Linf norm: 20.897.. Val Linf norm: 20.717\n",
            "Epoch 71/149.. Train loss: 118.618.. Val loss: 59.776.. Train L1 norm: 1.099.. Val L1 norm: 1.088.. Train Linf norm: 21.580.. Val Linf norm: 20.719\n",
            "Epoch 72/149.. Train loss: 106.473.. Val loss: 59.777.. Train L1 norm: 1.091.. Val L1 norm: 1.088.. Train Linf norm: 19.692.. Val Linf norm: 20.718\n",
            "Epoch 73/149.. Train loss: 105.436.. Val loss: 59.777.. Train L1 norm: 1.097.. Val L1 norm: 1.088.. Train Linf norm: 21.447.. Val Linf norm: 20.718\n",
            "Epoch 74/149.. Train loss: 104.728.. Val loss: 59.777.. Train L1 norm: 1.095.. Val L1 norm: 1.088.. Train Linf norm: 21.375.. Val Linf norm: 20.718\n",
            "Epoch 75/149.. Train loss: 104.938.. Val loss: 59.777.. Train L1 norm: 1.102.. Val L1 norm: 1.088.. Train Linf norm: 22.661.. Val Linf norm: 20.718\n",
            "Epoch 76/149.. Train loss: 106.606.. Val loss: 59.777.. Train L1 norm: 1.106.. Val L1 norm: 1.088.. Train Linf norm: 24.146.. Val Linf norm: 20.718\n",
            "Epoch 77/149.. Train loss: 111.685.. Val loss: 59.777.. Train L1 norm: 1.093.. Val L1 norm: 1.088.. Train Linf norm: 19.968.. Val Linf norm: 20.718\n",
            "Epoch 78/149.. Train loss: 114.861.. Val loss: 59.777.. Train L1 norm: 1.096.. Val L1 norm: 1.088.. Train Linf norm: 20.886.. Val Linf norm: 20.717\n",
            "Epoch 79/149.. Train loss: 107.102.. Val loss: 59.777.. Train L1 norm: 1.097.. Val L1 norm: 1.088.. Train Linf norm: 20.650.. Val Linf norm: 20.717\n",
            "Epoch 80/149.. Train loss: 106.738.. Val loss: 59.777.. Train L1 norm: 1.092.. Val L1 norm: 1.088.. Train Linf norm: 20.383.. Val Linf norm: 20.718\n",
            "Epoch 81/149.. Train loss: 110.320.. Val loss: 59.777.. Train L1 norm: 1.098.. Val L1 norm: 1.088.. Train Linf norm: 21.953.. Val Linf norm: 20.718\n",
            "Epoch 82/149.. Train loss: 104.034.. Val loss: 59.777.. Train L1 norm: 1.092.. Val L1 norm: 1.088.. Train Linf norm: 20.095.. Val Linf norm: 20.718\n",
            "Epoch 83/149.. Train loss: 105.827.. Val loss: 59.777.. Train L1 norm: 1.099.. Val L1 norm: 1.088.. Train Linf norm: 22.459.. Val Linf norm: 20.718\n",
            "Epoch 84/149.. Train loss: 115.045.. Val loss: 59.777.. Train L1 norm: 1.098.. Val L1 norm: 1.088.. Train Linf norm: 21.554.. Val Linf norm: 20.718\n",
            "Epoch 85/149.. Train loss: 117.875.. Val loss: 59.777.. Train L1 norm: 1.096.. Val L1 norm: 1.088.. Train Linf norm: 20.634.. Val Linf norm: 20.718\n",
            "Epoch 86/149.. Train loss: 109.362.. Val loss: 59.777.. Train L1 norm: 1.099.. Val L1 norm: 1.088.. Train Linf norm: 21.432.. Val Linf norm: 20.718\n",
            "Epoch 87/149.. Train loss: 111.931.. Val loss: 59.777.. Train L1 norm: 1.097.. Val L1 norm: 1.088.. Train Linf norm: 21.247.. Val Linf norm: 20.718\n",
            "Epoch 88/149.. Train loss: 120.616.. Val loss: 59.777.. Train L1 norm: 1.100.. Val L1 norm: 1.088.. Train Linf norm: 22.332.. Val Linf norm: 20.717\n",
            "Epoch 89/149.. Train loss: 107.596.. Val loss: 59.777.. Train L1 norm: 1.095.. Val L1 norm: 1.088.. Train Linf norm: 21.629.. Val Linf norm: 20.717\n",
            "Epoch 90/149.. Train loss: 105.953.. Val loss: 59.777.. Train L1 norm: 1.093.. Val L1 norm: 1.088.. Train Linf norm: 20.275.. Val Linf norm: 20.717\n",
            "Epoch 91/149.. Train loss: 103.937.. Val loss: 59.777.. Train L1 norm: 1.096.. Val L1 norm: 1.088.. Train Linf norm: 21.219.. Val Linf norm: 20.717\n",
            "Epoch 92/149.. Train loss: 106.165.. Val loss: 59.777.. Train L1 norm: 1.101.. Val L1 norm: 1.088.. Train Linf norm: 21.736.. Val Linf norm: 20.718\n",
            "Epoch 93/149.. Train loss: 110.017.. Val loss: 59.777.. Train L1 norm: 1.095.. Val L1 norm: 1.088.. Train Linf norm: 20.635.. Val Linf norm: 20.718\n",
            "Epoch 94/149.. Train loss: 111.790.. Val loss: 59.777.. Train L1 norm: 1.095.. Val L1 norm: 1.088.. Train Linf norm: 20.623.. Val Linf norm: 20.717\n",
            "Epoch 95/149.. Train loss: 114.436.. Val loss: 59.777.. Train L1 norm: 1.096.. Val L1 norm: 1.088.. Train Linf norm: 21.455.. Val Linf norm: 20.717\n",
            "Epoch 96/149.. Train loss: 108.015.. Val loss: 59.778.. Train L1 norm: 1.097.. Val L1 norm: 1.088.. Train Linf norm: 21.496.. Val Linf norm: 20.717\n",
            "Epoch 97/149.. Train loss: 118.441.. Val loss: 59.777.. Train L1 norm: 1.091.. Val L1 norm: 1.088.. Train Linf norm: 19.071.. Val Linf norm: 20.718\n",
            "Epoch 98/149.. Train loss: 105.556.. Val loss: 59.777.. Train L1 norm: 1.097.. Val L1 norm: 1.088.. Train Linf norm: 21.139.. Val Linf norm: 20.718\n",
            "Epoch 99/149.. Train loss: 105.060.. Val loss: 59.777.. Train L1 norm: 1.098.. Val L1 norm: 1.088.. Train Linf norm: 21.352.. Val Linf norm: 20.718\n",
            "Epoch 100/149.. Train loss: 105.781.. Val loss: 59.777.. Train L1 norm: 1.092.. Val L1 norm: 1.088.. Train Linf norm: 20.417.. Val Linf norm: 20.718\n",
            "Epoch 101/149.. Train loss: 105.861.. Val loss: 59.777.. Train L1 norm: 1.095.. Val L1 norm: 1.088.. Train Linf norm: 21.224.. Val Linf norm: 20.718\n",
            "Epoch 102/149.. Train loss: 104.640.. Val loss: 59.777.. Train L1 norm: 1.093.. Val L1 norm: 1.088.. Train Linf norm: 20.529.. Val Linf norm: 20.718\n",
            "Epoch 103/149.. Train loss: 106.910.. Val loss: 59.777.. Train L1 norm: 1.098.. Val L1 norm: 1.088.. Train Linf norm: 21.327.. Val Linf norm: 20.718\n",
            "Epoch 104/149.. Train loss: 107.076.. Val loss: 59.777.. Train L1 norm: 1.098.. Val L1 norm: 1.088.. Train Linf norm: 21.450.. Val Linf norm: 20.718\n",
            "Epoch 105/149.. Train loss: 110.427.. Val loss: 59.777.. Train L1 norm: 1.093.. Val L1 norm: 1.088.. Train Linf norm: 20.306.. Val Linf norm: 20.719\n",
            "Epoch 106/149.. Train loss: 106.220.. Val loss: 59.777.. Train L1 norm: 1.094.. Val L1 norm: 1.088.. Train Linf norm: 20.477.. Val Linf norm: 20.718\n",
            "Epoch 107/149.. Train loss: 106.064.. Val loss: 59.777.. Train L1 norm: 1.095.. Val L1 norm: 1.088.. Train Linf norm: 20.048.. Val Linf norm: 20.718\n",
            "Epoch 108/149.. Train loss: 107.291.. Val loss: 59.777.. Train L1 norm: 1.100.. Val L1 norm: 1.088.. Train Linf norm: 22.221.. Val Linf norm: 20.718\n",
            "Epoch 109/149.. Train loss: 106.093.. Val loss: 59.777.. Train L1 norm: 1.095.. Val L1 norm: 1.088.. Train Linf norm: 20.986.. Val Linf norm: 20.718\n",
            "Epoch 110/149.. Train loss: 104.630.. Val loss: 59.777.. Train L1 norm: 1.085.. Val L1 norm: 1.088.. Train Linf norm: 18.502.. Val Linf norm: 20.718\n",
            "Epoch 111/149.. Train loss: 105.886.. Val loss: 59.777.. Train L1 norm: 1.096.. Val L1 norm: 1.088.. Train Linf norm: 20.550.. Val Linf norm: 20.718\n",
            "Epoch 112/149.. Train loss: 133.179.. Val loss: 59.777.. Train L1 norm: 1.093.. Val L1 norm: 1.088.. Train Linf norm: 20.057.. Val Linf norm: 20.719\n",
            "Epoch 113/149.. Train loss: 110.388.. Val loss: 59.777.. Train L1 norm: 1.096.. Val L1 norm: 1.088.. Train Linf norm: 21.145.. Val Linf norm: 20.719\n",
            "Epoch 114/149.. Train loss: 107.322.. Val loss: 59.777.. Train L1 norm: 1.102.. Val L1 norm: 1.088.. Train Linf norm: 23.023.. Val Linf norm: 20.719\n",
            "Epoch 115/149.. Train loss: 119.322.. Val loss: 59.777.. Train L1 norm: 1.097.. Val L1 norm: 1.088.. Train Linf norm: 22.030.. Val Linf norm: 20.720\n",
            "Epoch 116/149.. Train loss: 104.692.. Val loss: 59.777.. Train L1 norm: 1.102.. Val L1 norm: 1.088.. Train Linf norm: 22.075.. Val Linf norm: 20.720\n",
            "Epoch 117/149.. Train loss: 106.424.. Val loss: 59.777.. Train L1 norm: 1.090.. Val L1 norm: 1.088.. Train Linf norm: 19.912.. Val Linf norm: 20.720\n",
            "Epoch 118/149.. Train loss: 105.485.. Val loss: 59.777.. Train L1 norm: 1.095.. Val L1 norm: 1.088.. Train Linf norm: 20.866.. Val Linf norm: 20.720\n",
            "Epoch 119/149.. Train loss: 105.558.. Val loss: 59.777.. Train L1 norm: 1.095.. Val L1 norm: 1.088.. Train Linf norm: 21.378.. Val Linf norm: 20.720\n",
            "Epoch 120/149.. Train loss: 107.878.. Val loss: 59.777.. Train L1 norm: 1.098.. Val L1 norm: 1.088.. Train Linf norm: 21.945.. Val Linf norm: 20.720\n",
            "Epoch 121/149.. Train loss: 119.087.. Val loss: 59.776.. Train L1 norm: 1.096.. Val L1 norm: 1.088.. Train Linf norm: 21.243.. Val Linf norm: 20.720\n",
            "Epoch 122/149.. Train loss: 106.654.. Val loss: 59.776.. Train L1 norm: 1.102.. Val L1 norm: 1.088.. Train Linf norm: 22.701.. Val Linf norm: 20.720\n",
            "Epoch 123/149.. Train loss: 108.762.. Val loss: 59.776.. Train L1 norm: 1.090.. Val L1 norm: 1.088.. Train Linf norm: 19.275.. Val Linf norm: 20.721\n",
            "Epoch 124/149.. Train loss: 111.237.. Val loss: 59.776.. Train L1 norm: 1.100.. Val L1 norm: 1.088.. Train Linf norm: 22.084.. Val Linf norm: 20.720\n",
            "Epoch 125/149.. Train loss: 110.216.. Val loss: 59.776.. Train L1 norm: 1.099.. Val L1 norm: 1.088.. Train Linf norm: 21.463.. Val Linf norm: 20.721\n",
            "Epoch 126/149.. Train loss: 108.224.. Val loss: 59.776.. Train L1 norm: 1.098.. Val L1 norm: 1.088.. Train Linf norm: 21.630.. Val Linf norm: 20.720\n",
            "Epoch 127/149.. Train loss: 106.278.. Val loss: 59.777.. Train L1 norm: 1.097.. Val L1 norm: 1.088.. Train Linf norm: 21.508.. Val Linf norm: 20.720\n",
            "Epoch 128/149.. Train loss: 104.097.. Val loss: 59.777.. Train L1 norm: 1.090.. Val L1 norm: 1.088.. Train Linf norm: 20.345.. Val Linf norm: 20.720\n",
            "Epoch 129/149.. Train loss: 133.093.. Val loss: 59.777.. Train L1 norm: 1.088.. Val L1 norm: 1.088.. Train Linf norm: 17.725.. Val Linf norm: 20.719\n",
            "Epoch 130/149.. Train loss: 107.518.. Val loss: 59.777.. Train L1 norm: 1.098.. Val L1 norm: 1.088.. Train Linf norm: 21.655.. Val Linf norm: 20.719\n"
          ]
        }
      ],
      "source": [
        "# Visualize Optuna study while its running, alternative to tensorboard\n",
        "from IPython import display\n",
        "def callback(study, trial):\n",
        "    display.clear_output(wait=True)\n",
        "    optuna.visualization.plot_optimization_history(study).show()\n",
        "\n",
        "if OPTIMIZE:\n",
        "    # Include the path to the SQLite file in your create_study call.\n",
        "    study = optuna.create_study(direction=\"minimize\", \n",
        "                                sampler=optuna.samplers.TPESampler(), \n",
        "                                pruner=optuna.pruners.MedianPruner(), \n",
        "                                storage=f'sqlite:///{STUDY_NAME}.db')\n",
        "\n",
        "    #study.optimize(objective, n_trials=N_TRIALS, callbacks=[callback])\n",
        "    study.optimize(objective, n_trials=N_TRIALS)"
      ]
    },
    {
      "cell_type": "code",
      "source": [
        "if OPTIMIZE:\n",
        "# TODO: Plotting currently fails. Once resolved, use the callback version of the study too.\n",
        "#    # Optimization History\n",
        "#    ov.plot_optimization_history(study).show()\n",
        "#\n",
        "#    # Slice Plot\n",
        "#    ov.plot_slice(study).show()\n",
        "#\n",
        "#    # Contour Plot\n",
        "#    ov.plot_contour(study).show()\n",
        "#\n",
        "#    # Parallel Coordinate Plot\n",
        "#    ov.plot_parallel_coordinate(study).show()\n",
        "#\n",
        "#    # Hyperparameter Importance Plot\n",
        "#    ov.plot_param_importances(study).show()\n",
        "#\n",
        "    # Best trial information\n",
        "    print(\"Best trial:\")\n",
        "    trial = study.best_trial\n",
        "    print(\"  Value: \", trial.value)\n",
        "    print(\"  Params: \")\n",
        "    for key, value in trial.params.items():\n",
        "        print(f\"    {key}: {value}\")\n",
        "\n",
        "    # Saving the study to a pickle file\n",
        "    with open(f'{STUDY_NAME}.pkl', 'wb') as f:\n",
        "        pickle.dump(study, f)\n",
        "        save_file(f'{STUDY_NAME}.pkl')\n",
        "\n",
        "    # Save the best trial separately as well.\n",
        "    best_trial_params = study.best_trial.params\n",
        "    with open('best_trial_params.json', 'w') as f:\n",
        "        json.dump(best_trial_params, f)\n",
        "        save_file('best_trial_params.json')\n",
        "\n"
      ],
      "metadata": {
        "id": "yOAgWz5YVFVh"
      },
      "execution_count": null,
      "outputs": []
    },
    {
      "cell_type": "markdown",
      "metadata": {
        "id": "jmMfE9_dUZiS"
      },
      "source": [
        "## Training the model"
      ]
    },
    {
      "cell_type": "code",
      "execution_count": null,
      "metadata": {
        "id": "phyiHlWEUZiT"
      },
      "outputs": [],
      "source": [
        "# Creating the best network and optimizer using the best hyperparameters\n",
        "if OPTIMIZE:\n",
        "    net, \\\n",
        "    loss_fn, \\\n",
        "    optimizer, \\\n",
        "    batch_size, \\\n",
        "    n_epochs, \\\n",
        "    scheduler, \\\n",
        "    loss_name, \\\n",
        "    optimizer_name, \\\n",
        "    scheduler_name, \\\n",
        "    n_units, \\\n",
        "    n_layers, \\\n",
        "    hidden_activation, \\\n",
        "    output_activation, \\\n",
        "    lr, \\\n",
        "    dropout_rate = create_model(trial, optimize=True)\n",
        "\n",
        "# Creating the network with predefined hyperparameters\n",
        "else:\n",
        "    net, \\\n",
        "    loss_fn, \\\n",
        "    optimizer, \\\n",
        "    batch_size, \\\n",
        "    n_epochs, \\\n",
        "    scheduler, \\\n",
        "    loss_name, \\\n",
        "    optimizer_name, \\\n",
        "    scheduler_name, \\\n",
        "    n_units, \\\n",
        "    n_layers, \\\n",
        "    hidden_activation, \\\n",
        "    output_activation, \\\n",
        "    lr, \\\n",
        "    dropout_rate = create_model(trial=None, optimize=True)"
      ]
    },
    {
      "cell_type": "code",
      "execution_count": null,
      "metadata": {
        "id": "_yq-oY81UZiU"
      },
      "outputs": [],
      "source": [
        "print(\"loss_fn:\", net)\n",
        "print(\"loss_fn:\", loss_fn)\n",
        "print(\"batch_size:\", batch_size)\n",
        "print(\"n_epochs:\", n_epochs)\n",
        "print(\"scheduler:\", scheduler)\n",
        "print(\"loss_name:\", loss_name)\n",
        "print(\"optimizer_name:\", optimizer_name)\n",
        "print(\"scheduler_name:\", scheduler_name)\n",
        "print(\"n_units:\", n_units)\n",
        "print(\"n_layers:\", n_layers)\n",
        "print(\"hidden_activation:\", hidden_activation)\n",
        "print(\"output_activation:\", output_activation)\n",
        "print(\"lr\", lr)\n",
        "print(\"dropout_rate\", dropout_rate)"
      ]
    },
    {
      "cell_type": "markdown",
      "metadata": {
        "id": "E7aLWdZyUZiW",
        "outputId": "8fb1e8c6-5aa3-43a1-a255-712cf9396d0c"
      },
      "source": [
        "After optimizing with Optuna and deciding on the best hyperparameters, we combine the training and validatin set, using that as the new training set for training the model, and then evaluate the model on the test set"
      ]
    },
    {
      "cell_type": "code",
      "execution_count": null,
      "metadata": {
        "id": "jIBboeQX4cno"
      },
      "outputs": [],
      "source": [
        "x_train_val = torch.cat((x_train, x_val), 0)\n",
        "y_train_val = torch.cat((y_train, y_val), 0)\n",
        "\n",
        "train_val_loader = torch.utils.data.DataLoader(\n",
        "    torch.utils.data.TensorDataset(x_train_val, y_train_val), batch_size=batch_size, shuffle=True\n",
        ")\n",
        "test_loader = torch.utils.data.DataLoader(\n",
        "    torch.utils.data.TensorDataset(x_test, y_test), batch_size=batch_size\n",
        ")\n",
        "\n",
        "train_losses, _, test_losses, train_metrics, _, test_metrics, = train_and_eval(\n",
        "    net, loss_fn, optimizer, batch_size, n_epochs, scheduler, train_val_loader, None, test_loader, None\n",
        ")"
      ]
    },
    {
      "cell_type": "markdown",
      "metadata": {
        "id": "akNucrgMUZiW"
      },
      "source": [
        "## Saving"
      ]
    },
    {
      "cell_type": "code",
      "execution_count": null,
      "metadata": {
        "id": "LHsrs2Y-UZic"
      },
      "outputs": [],
      "source": [
        "# create a dictionary to store the rest of the variables\n",
        "import json\n",
        "\n",
        "# save the network to a .pth file\n",
        "torch.save(net.state_dict(), \"net.pth\")\n",
        "save_file(\"net.pth\")\n",
        "\n",
        "# save the optimizer to a .pth file\n",
        "torch.save(optimizer.state_dict(), \"optimizer.pth\")\n",
        "save_file(\"optimizer.pth\")\n",
        "\n",
        "# save the scheduler to a .pth file if it is not None\n",
        "if scheduler is not None:\n",
        "  torch.save(scheduler.state_dict(), \"scheduler.pth\")\n",
        "  save_file(\"scheduler.pth\")\n",
        "\n",
        "# create a dictionary to store the rest of the variables\n",
        "if isinstance(hidden_activation.__class__.__name__, list):\n",
        "    hidden_activation_name = hidden_activation.__class__.__name__[0]\n",
        "else:\n",
        "    hidden_activation_name = hidden_activation.__class__.__name__\n",
        "\n",
        "if isinstance(output_activation.__class__.__name__, list):\n",
        "    output_activation_name = output_activation.__class__.__name__[0]\n",
        "else:\n",
        "    output_activation_name = output_activation.__class__.__name__\n",
        "\n",
        "var_dict = {\n",
        "  \"batch_size\": batch_size,\n",
        "  \"n_epochs\": n_epochs,\n",
        "  \"loss_name\": loss_name,\n",
        "  \"optimizer_name\": optimizer_name,\n",
        "  \"scheduler_name\": scheduler_name,\n",
        "  \"n_units\": n_units,\n",
        "  \"n_layers\": n_layers,\n",
        "  \"hidden_activation_name\": hidden_activation_name,\n",
        "  \"output_activation_name\": output_activation_name,\n",
        "  \"lr\": lr,\n",
        "  \"dropout_rate\": dropout_rate\n",
        "}\n",
        "\n",
        "# Adding the subparameters to the var_dict for saving\n",
        "if hidden_activation_name == \"LeakyReLU\":\n",
        "  var_dict[\"leakyrelu_slope\"] = hidden_activation.negative_slope\n",
        "elif hidden_activation_name == \"PReLU\":\n",
        "  var_dict[\"prelu_init\"] = hidden_activation.weight.item()  # .item() is needed because weight is a tensor\n",
        "elif hidden_activation_name == \"SoftPlus\":\n",
        "  var_dict[\"softplus_beta\"] = hidden_activation.beta\n",
        "\n",
        "# save the dictionary to a .json file\n",
        "with open(\"var_dict.json\", \"w\") as f:\n",
        "  json.dump(var_dict, f)\n",
        "save_file(\"var_dict.json\")\n",
        "\n",
        "# Saving the output of the training using pandas\n",
        "train_df = pd.DataFrame(\n",
        "    {\n",
        "        \"train_loss\": train_losses,\n",
        "        \"test_loss\": test_losses,\n",
        "        \"train_l1_norm\": [m[\"l1_norm\"] for m in train_metrics],\n",
        "        \"test_l1_norm\": [m[\"l1_norm\"] for m in test_metrics],\n",
        "        \"train_linf_norm\": [m[\"linf_norm\"] for m in train_metrics],\n",
        "        \"test_linf_norm\": [m[\"linf_norm\"] for m in test_metrics],\n",
        "    }\n",
        ")\n",
        "train_df.to_csv(\"train_output.csv\", index=False)\n",
        "save_file(\"train_output.csv\")"
      ]
    },
    {
      "cell_type": "code",
      "execution_count": null,
      "metadata": {
        "id": "WDNrony-4cnp"
      },
      "outputs": [],
      "source": [
        "[key for key in var_dict.keys()]"
      ]
    },
    {
      "cell_type": "code",
      "execution_count": null,
      "metadata": {
        "id": "G_Duv4pT4cnp"
      },
      "outputs": [],
      "source": [
        "#%%script echo skipping\n",
        "\n",
        "hidden_activation_name\n",
        "output_activation_name"
      ]
    },
    {
      "cell_type": "markdown",
      "metadata": {
        "id": "qU23l7dIUZie"
      },
      "source": [
        "## Visualizing the results"
      ]
    },
    {
      "cell_type": "code",
      "execution_count": null,
      "metadata": {
        "id": "cippWZS6UZie"
      },
      "outputs": [],
      "source": [
        "# First figure: Train and Test L1 Norm\n",
        "plt.figure(figsize=(6, 4))\n",
        "plt.plot([m[\"l1_norm\"] for m in train_metrics_loaded], label=\"Train L1 Norm\", color='blue')\n",
        "plt.plot([m[\"l1_norm\"] for m in test_metrics_loaded], label=\"Test L1 Norm\", color='red')\n",
        "plt.xlabel(\"Epoch\")\n",
        "plt.ylabel(\"L1 Norm\")\n",
        "plt.title(\"NNGRX Train and Test L1 Norm per Epoch\")\n",
        "plt.yscale(\"log\")\n",
        "plt.grid(True)\n",
        "plt.xlim(right=200)\n",
        "plt.ylim(1e-3, 1e2)\n",
        "plt.legend()\n",
        "plt.tight_layout()\n",
        "# plt.savefig(\"NNGRX_L1_norm_plot.png\", dpi=300)\n",
        "plt.savefig(\"NNGRX_L1_norm_plot.png\")\n",
        "\n",
        "# Second figure: Train and Test Linf Norm\n",
        "plt.figure(figsize=(6, 4))\n",
        "plt.plot([m[\"linf_norm\"] for m in train_metrics_loaded], label=\"Train Linf Norm\", color='blue')\n",
        "plt.plot([m[\"linf_norm\"] for m in test_metrics_loaded], label=\"Test Linf Norm\", color='red')\n",
        "plt.xlabel(\"Epoch\")\n",
        "plt.ylabel(\"Linf Norm\")\n",
        "plt.title(\"NNGRX Train and Test Linf Norm per Epoch\")\n",
        "plt.yscale(\"log\")\n",
        "plt.grid(True)\n",
        "plt.xlim(right=200)\n",
        "plt.ylim(1e-3, 1e2)\n",
        "plt.legend()\n",
        "plt.tight_layout()\n",
        "# plt.savefig(\"NNGRX_Linf_norm_plot.png\", dpi=300)\n",
        "plt.savefig(\"NNGRX_Linf_norm_plot.png\")\n",
        "\n",
        "# Third figure: MSE of training data and test data\n",
        "plt.figure(figsize=(6, 4))\n",
        "plt.plot(train_losses_loaded, label=\"Training Data\", color='blue')\n",
        "plt.plot(test_losses_loaded, label=\"Test Data\", color='red')\n",
        "plt.xlabel(\"Epoch\")\n",
        "plt.ylabel(\"MSE\")\n",
        "plt.title(\"NNGRX MSE of Training and Test Data per Epoch\")\n",
        "plt.yscale(\"log\")\n",
        "plt.grid(True)\n",
        "plt.xlim(right=200)\n",
        "plt.ylim(1e-7, 1e0)\n",
        "plt.legend()\n",
        "plt.tight_layout()\n",
        "# plt.savefig(\"NNGRX_MSE_plot.png\", dpi=300)\n",
        "plt.savefig(\"NNGRX_MSE_plot.png\")"
      ]
    },
    {
      "cell_type": "markdown",
      "metadata": {
        "id": "tiEDutxIUZig"
      },
      "source": [
        "## Loading"
      ]
    },
    {
      "cell_type": "code",
      "execution_count": null,
      "metadata": {
        "id": "p7Mj990wUZih"
      },
      "outputs": [],
      "source": [
        "# load the dictionary from the .json file\n",
        "with open(\"var_dict.json\", \"r\") as f:\n",
        "  var_dict_loaded = json.load(f)\n",
        "\n",
        "# extract the variables from the dictionary\n",
        "batch_size_loaded = var_dict_loaded[\"batch_size\"]\n",
        "n_epochs_loaded = var_dict_loaded[\"n_epochs\"]\n",
        "loss_name_loaded = var_dict_loaded[\"loss_name\"]\n",
        "optimizer_name_loaded = var_dict_loaded[\"optimizer_name\"]\n",
        "scheduler_name_loaded = var_dict_loaded[\"scheduler_name\"]\n",
        "n_units_loaded = var_dict_loaded[\"n_units\"]\n",
        "n_layers_loaded = var_dict_loaded[\"n_layers\"]\n",
        "hidden_activation_name_loaded = var_dict_loaded[\"hidden_activation_name\"]\n",
        "output_activation_name_loaded = var_dict_loaded[\"output_activation_name\"]\n",
        "lr_loaded = var_dict_loaded[\"lr\"]\n",
        "dropout_rate_loaded = var_dict_loaded[\"dropout_rate\"]\n",
        "\n",
        "# Loading the activation functions with subparameters\n",
        "if hidden_activation_name_loaded == \"ReLU\":\n",
        "  hidden_activation_loaded = nn.ReLU()\n",
        "elif hidden_activation_name_loaded == \"LeakyReLU\":\n",
        "  negative_slope_loaded = var_dict_loaded.get(\"leakyrelu_slope\", 0.01)  # For backwards compatibiltiy with earlier models; default to 0.01 if not present\n",
        "  hidden_activation_loaded = nn.LeakyReLU(negative_slope=negative_slope_loaded)\n",
        "elif hidden_activation_name_loaded == \"ELU\":\n",
        "  hidden_activation_loaded = nn.ELU()\n",
        "elif hidden_activation_name_loaded == \"PReLU\":\n",
        "  init_loaded = var_dict_loaded.get(\"prelu_init\", 0.25)  # Default to 0.25 if not present\n",
        "  hidden_activation_loaded = nn.PReLU(init=init_loaded)\n",
        "elif hidden_activation_name_loaded == \"Swish\":\n",
        "    class Swish(nn.Module):\n",
        "        def forward(self, x):\n",
        "            return x * torch.sigmoid(x)\n",
        "    hidden_activation_loaded = Swish()\n",
        "elif hidden_activation_name_loaded == \"GELU\":\n",
        "    hidden_activation_loaded = nn.GELU()\n",
        "elif hidden_activation_name_loaded == \"SoftPlus\":\n",
        "  beta_loaded = var_dict_loaded.get(\"softplus_beta\", 1)  # Default to 1 if not present\n",
        "  hidden_activation_loaded = nn.Softplus(beta=beta_loaded)\n",
        "\n",
        "\n",
        "\n",
        "# We used to have options here, but since we have a regression problem with continuous output, we only use Linear.\n",
        "output_activation_loaded = nn.Identity()\n",
        "\n",
        "# load the network from the .pth file\n",
        "net_loaded = Net(\n",
        "    n_layers_loaded, \n",
        "    n_units_loaded, \n",
        "    hidden_activation_loaded, \n",
        "    output_activation_loaded, \n",
        "    dropout_rate_loaded\n",
        ").to(device)\n",
        "\n",
        "if torch.cuda.is_available():\n",
        " net_loaded.load_state_dict(torch.load(\"net.pth\"))\n",
        "else: \n",
        "  net_loaded.load_state_dict(torch.load(\"net.pth\", map_location=torch.device('cpu')))\n",
        "\n",
        "\n",
        "# Creating the loss function from its name\n",
        "if loss_name_loaded == \"MSE\":\n",
        "    loss_fn_loaded = nn.MSELoss()\n",
        "elif loss_name_loaded == \"MAE\":\n",
        "    loss_fn_loaded = nn.L1Loss()\n",
        "elif loss_name_loaded == \"Huber\":\n",
        "    loss_fn_loaded = nn.SmoothL1Loss() \n",
        "elif loss_name_loaded == \"Quantile\":\n",
        "    def quantile_loss(y_pred, y_true, q=0.5):\n",
        "        e = y_pred - y_true\n",
        "        return torch.mean(torch.max(q*e, (q-1)*e))\n",
        "    loss_fn_loaded = quantile_loss\n",
        "\n",
        "# load the optimizer from the .pth file\n",
        "if torch.cuda.is_available():\n",
        "  optimizer_loaded_state_dict = torch.load(\"optimizer.pth\")\n",
        "else:\n",
        "  optimizer_loaded_state_dict = torch.load(\"optimizer.pth\", map_location=torch.device('cpu'))\n",
        "\n",
        "if optimizer_name_loaded == \"SGD\":\n",
        "  # Added getting the weight decay and momentum parameters from the state dict\n",
        "  weight_decay_loaded = optimizer_loaded_state_dict[\"param_groups\"][0][\"weight_decay\"]\n",
        "  momentum_loaded = optimizer_loaded_state_dict[\"param_groups\"][0][\"momentum\"]\n",
        "  optimizer_loaded = optim.SGD(net_loaded.parameters(), lr=lr_loaded, weight_decay=weight_decay_loaded, momentum=momentum_loaded)\n",
        "elif optimizer_name_loaded == \"Adam\":\n",
        "  # Added getting the weight decay and beta parameters from the state dict\n",
        "  weight_decay_loaded = optimizer_loaded_state_dict[\"param_groups\"][0][\"weight_decay\"]\n",
        "  beta1_loaded = optimizer_loaded_state_dict[\"param_groups\"][0][\"betas\"][0]\n",
        "  beta2_loaded = optimizer_loaded_state_dict[\"param_groups\"][0][\"betas\"][1]\n",
        "  optimizer_loaded = optim.Adam(net_loaded.parameters(), lr=lr_loaded, weight_decay=weight_decay_loaded, betas=(beta1_loaded, beta2_loaded))\n",
        "elif optimizer_name_loaded == \"RMSprop\":\n",
        "  optimizer_loaded = optim.RMSprop(net_loaded.parameters(), lr=lr_loaded)\n",
        "elif optimizer_name_loaded == \"Adagrad\":\n",
        "  # Added loading the Adagrad optimizer\n",
        "  optimizer_loaded = optim.Adagrad(net_loaded.parameters(), lr=lr_loaded)\n",
        "optimizer_loaded.load_state_dict(optimizer_loaded_state_dict)\n",
        "\n",
        "# load the scheduler from the .pth file\n",
        "if torch.cuda.is_available():\n",
        "  scheduler_loaded_state_dict = torch.load(\"scheduler.pth\")\n",
        "else: \n",
        "  scheduler_loaded_state_dict = torch.load(\"scheduler.pth\", map_location=torch.device('cpu'))\n",
        "\n",
        "if scheduler_name_loaded == \"StepLR\":\n",
        "  # Added getting the step_size and gamma parameters from the state dict\n",
        "  step_size_loaded = scheduler_loaded_state_dict[\"step_size\"]\n",
        "  gamma_loaded = scheduler_loaded_state_dict[\"gamma\"]\n",
        "  scheduler_loaded = optim.lr_scheduler.StepLR(optimizer_loaded, step_size=step_size_loaded, gamma=gamma_loaded)\n",
        "elif scheduler_name_loaded == \"ExponentialLR\":\n",
        "  # Added getting the gamma parameter from the state dict\n",
        "  gamma_loaded = scheduler_loaded_state_dict[\"gamma\"]\n",
        "  scheduler_loaded = optim.lr_scheduler.ExponentialLR(optimizer_loaded, gamma=gamma_loaded)\n",
        "elif scheduler_name_loaded == \"CosineAnnealingLR\":\n",
        "  # Added getting the T_max parameter from the state dict\n",
        "  T_max_loaded = scheduler_loaded_state_dict[\"T_max\"]\n",
        "  scheduler_loaded = optim.lr_scheduler.CosineAnnealingLR(optimizer_loaded, T_max=T_max_loaded)\n",
        "elif scheduler_name_loaded == \"ReduceLROnPlateau\":\n",
        "  # Added getting the mode, factor, patience, threshold and min_lr parameters from the state dict\n",
        "  mode_loaded = scheduler_loaded_state_dict[\"mode\"]\n",
        "  factor_loaded = scheduler_loaded_state_dict[\"factor\"]\n",
        "  patience_loaded = scheduler_loaded_state_dict[\"patience\"]\n",
        "  threshold_loaded = scheduler_loaded_state_dict[\"threshold\"]\n",
        "  min_lr_loaded = scheduler_loaded_state_dict[\"min_lrs\"][0]\n",
        "  scheduler_loaded = optim.lr_scheduler.ReduceLROnPlateau(\n",
        "                    optimizer_loaded, mode=mode_loaded, factor=factor_loaded, patience=patience_loaded, threshold=threshold_loaded, min_lr=min_lr_loaded\n",
        "                )\n",
        "elif scheduler_name_loaded == \"CyclicLR\":  # Added CyclicLR\n",
        "    base_lr_loaded = scheduler_loaded_state_dict[\"base_lr\"]\n",
        "    max_lr_loaded = scheduler_loaded_state_dict[\"max_lr\"]\n",
        "    step_size_up_loaded = scheduler_loaded_state_dict[\"step_size_up\"]\n",
        "    scheduler_loaded = optim.lr_scheduler.CyclicLR(\n",
        "                    optimizer, base_lr=base_lr_loaded, max_lr=max_lr_loaded, step_size_up=step_size_up_loaded\n",
        "                )\n",
        "else:\n",
        "  scheduler_loaded = None\n",
        "\n",
        "if scheduler_loaded is not None:\n",
        "  # Added loading the state dict to the scheduler_loaded\n",
        "  scheduler_loaded.load_state_dict(scheduler_loaded_state_dict)\n",
        "\n",
        "# Loading the output of the training using pandas\n",
        "train_df_loaded = pd.read_csv(\"train_output.csv\")\n",
        "train_losses_loaded = train_df_loaded[\"train_loss\"].tolist()\n",
        "test_losses_loaded = train_df_loaded[\"test_loss\"].tolist()\n",
        "train_metrics_loaded = [\n",
        "    {\n",
        "        \"l1_norm\": train_df_loaded[\"train_l1_norm\"][i],\n",
        "        \"linf_norm\": train_df_loaded[\"train_linf_norm\"][i],\n",
        "    }\n",
        "    for i in range(len(train_df_loaded))\n",
        "]\n",
        "test_metrics_loaded = [\n",
        "    {\n",
        "        \"l1_norm\": train_df_loaded[\"test_l1_norm\"][i],\n",
        "        \"linf_norm\": train_df_loaded[\"test_linf_norm\"][i],\n",
        "    }\n",
        "    for i in range(len(train_df_loaded))\n",
        "]\n",
        "\n",
        "if STUDY_NAME is not None:\n",
        "  # Loading the study from the SQLite file\n",
        "  # TODO: Fix this one, or we just use pickle\n",
        "  # study_loaded_db = optuna.load_study(study_name=f'{STUDY_NAME}', \n",
        "  #                           storage=f'sqlite:///{STUDY_NAME}.db')\n",
        "\n",
        "  # Loading the study from the pickle file\n",
        "  with open(f'{STUDY_NAME}.pkl', 'rb') as f:\n",
        "      study_loaded_pkl = pickle.load(f)\n",
        "\n",
        "  # To load the best trial's parameters.\n",
        "  with open('best_trial_params.json', 'r') as f:\n",
        "      best_trial_params_loaded = json.load(f)"
      ]
    },
    {
      "cell_type": "code",
      "execution_count": null,
      "metadata": {
        "id": "n-4pZ2s64cnr"
      },
      "outputs": [],
      "source": [
        "# %%script echo skipping\n",
        "\n",
        "var_dict_loaded[\"batch_size\"]\n",
        "var_dict_loaded[\"n_epochs\"]\n",
        "var_dict_loaded[\"loss_name\"]\n",
        "var_dict_loaded[\"optimizer_name\"]\n",
        "var_dict_loaded[\"scheduler_name\"]\n",
        "var_dict_loaded[\"n_units\"]\n",
        "var_dict_loaded[\"n_layers\"]\n",
        "var_dict_loaded[\"hidden_activation_name\"]\n",
        "var_dict_loaded[\"output_activation_name\"]\n",
        "var_dict_loaded[\"lr\"]\n",
        "var_dict_loaded[\"dropout_rate\"]"
      ]
    },
    {
      "cell_type": "code",
      "source": [
        "if STUDY_NAME is not None:\n",
        "    study_loaded_pkl\n",
        "    study_loaded_pkl.best_params"
      ],
      "metadata": {
        "id": "A_b_VOaHVTqA"
      },
      "execution_count": null,
      "outputs": []
    },
    {
      "cell_type": "code",
      "execution_count": null,
      "metadata": {
        "id": "QQ0MKbI04cnr"
      },
      "outputs": [],
      "source": [
        "%%script echo skipping\n",
        "\n",
        "scheduler_loaded_state_dict[\"mode\"]\n",
        "scheduler_loaded_state_dict[\"factor\"]\n",
        "scheduler_loaded_state_dict[\"patience\"]\n",
        "scheduler_loaded_state_dict[\"threshold\"]\n",
        "scheduler_loaded_state_dict[\"min_lrs\"]\n",
        "\n",
        "\n",
        "scheduler_loaded_state_dict[\"base_lr\"]\n",
        "scheduler_loaded_state_dict[\"max_lr\"]\n",
        "scheduler_loaded_state_dict[\"step_size_up\"]"
      ]
    },
    {
      "cell_type": "code",
      "execution_count": null,
      "metadata": {
        "id": "bHMdkxsm4cnr"
      },
      "outputs": [],
      "source": [
        "# %%script echo skipping\n",
        "\n",
        "var_dict\n",
        "hidden_activation_name_loaded"
      ]
    },
    {
      "cell_type": "code",
      "execution_count": null,
      "metadata": {
        "id": "GQ_fcj7zUZii"
      },
      "outputs": [],
      "source": [
        "# %%script echo skipping\n",
        "\n",
        "if hidden_activation_name_loaded == \"LeakyReLU\":\n",
        "  var_dict_loaded[\"leakyrelu_slope\"]\n",
        "if hidden_activation_name_loaded == \"PReLU\":\n",
        "  var_dict_loaded[\"prelu_init\"]\n",
        "elif hidden_activation_name_loaded == \"SoftPlus\":\n",
        "  var_dict_loaded[\"softplus_beta\"]\n",
        "\n",
        "batch_size_loaded\n",
        "n_epochs_loaded\n",
        "loss_name_loaded\n",
        "optimizer_name_loaded\n",
        "scheduler_name_loaded\n",
        "n_units_loaded\n",
        "n_layers_loaded\n",
        "hidden_activation_name_loaded\n",
        "output_activation_name_loaded\n",
        "lr_loaded\n",
        "dropout_rate_loaded\n",
        "hidden_activation_loaded\n",
        "output_activation_loaded\n",
        "net_loaded\n",
        "net_loaded.__dict__ # print the subparameters of the network\n",
        "loss_fn_loaded\n",
        "optimizer_loaded\n",
        "optimizer_loaded.__dict__ # print the subparameters of the optimizer\n",
        "if scheduler_loaded is not None:\n",
        "  scheduler_loaded\n",
        "  scheduler_loaded.__dict__ # print the subparameters of the scheduler\n",
        "train_losses_loaded\n",
        "test_losses_loaded\n",
        "train_metrics_loaded\n",
        "test_metrics_loaded\n"
      ]
    },
    {
      "cell_type": "code",
      "execution_count": null,
      "metadata": {
        "id": "wIFp6xgs4cns"
      },
      "outputs": [],
      "source": [
        "train_losses_loaded[-1]\n",
        "test_losses_loaded[-1]\n",
        "test_metrics_loaded[-1]['l1_norm']\n",
        "test_metrics_loaded[-1]['linf_norm']\n",
        "# print(f'Error is {test_metrics_loaded[-1][\"l1_norm\"] / (3.84e-4)} times bigger than in Dieselhorst et al.')\n",
        "# print(f'Error is {test_metrics_loaded[-1][\"linf_norm\"] / (8.14e-3)} times bigger than in Dieselhorst et al.')"
      ]
    },
    {
      "cell_type": "markdown",
      "metadata": {
        "id": "OdOwEngu4cns"
      },
      "source": [
        "### Visualize loaded results"
      ]
    },
    {
      "cell_type": "markdown",
      "metadata": {
        "id": "vwLGR1aSUZik"
      },
      "source": [
        "Let us verify correct loading of the train and test metrics by visualizing them again but now through the loaded values. Likewise for the train and test losses."
      ]
    },
    {
      "cell_type": "code",
      "execution_count": null,
      "metadata": {
        "id": "sXiNgLsmUZil"
      },
      "outputs": [],
      "source": [
        "%config InteractiveShell.ast_node_interactivity = \"last_expr_or_assign\""
      ]
    },
    {
      "cell_type": "code",
      "execution_count": null,
      "metadata": {
        "id": "sgq4WfSiUZil"
      },
      "outputs": [],
      "source": [
        "# Plotting the losses and metrics for the best network plt.figure(figsize=(12, \n",
        "#plt.subplot(2, 2, 1)\n",
        "#plt.plot(train_losses_loaded, label=\"Train Loss\")\n",
        "#plt.plot(test_losses_loaded, label=\"Test Loss\")\n",
        "#plt.xlabel(\"Epoch\")\n",
        "#plt.ylabel(\"Loss\")\n",
        "#plt.legend()\n",
        "plt.subplot(2, 2, 2)\n",
        "plt.plot([m[\"l1_norm\"] for m in train_metrics_loaded], label=\"Train L1 Norm\")\n",
        "plt.plot([m[\"l1_norm\"] for m in test_metrics_loaded], label=\"Test L1 Norm\")\n",
        "plt.xlabel(\"Epoch\")\n",
        "plt.ylabel(\"L1 Norm\")\n",
        "# Added setting the vertical axis to be in powers of 10\n",
        "plt.yscale(\"log\")\n",
        "# Added setting the vertical axis limits to be from 10^-7 to 10^0\n",
        "plt.ylim(1e-3, 1e2)\n",
        "plt.legend()\n",
        "plt.subplot(2, 2, 3)\n",
        "plt.plot([m[\"linf_norm\"] for m in train_metrics_loaded], label=\"Train Linf Norm\")\n",
        "plt.plot([m[\"linf_norm\"] for m in test_metrics_loaded], label=\"Test Linf Norm\")\n",
        "plt.xlabel(\"Epoch\")\n",
        "plt.ylabel(\"Linf Norm\")\n",
        "# Added setting the vertical axis to be in powers of 10\n",
        "plt.yscale(\"log\")\n",
        "# Added setting the vertical axis limits to be from 10^-7 to 10^0\n",
        "plt.ylim(1e-3, 1e2)\n",
        "plt.legend()\n",
        "plt.tight_layout()\n",
        "plt.show()\n",
        "\n",
        "# Added plotting MSE of training data and MSE of test data in one plot \n",
        "plt.figure(figsize=(8, 6))\n",
        "plt.plot(train_losses_loaded,label=\"training data\")\n",
        "plt.plot(test_losses_loaded,label=\"test data\")\n",
        "#if scheduler is not None:\n",
        "#    plt.plot([scheduler.get_last_lr()[0] for _ in range(n_epochs)], label=\"Learning rate\") \n",
        "plt.xlabel(\"Epoch\")\n",
        "plt.ylabel(f\"{loss_name_loaded} Loss\")\n",
        "# Added setting the vertical axis to be in powers of 10\n",
        "plt.yscale(\"log\")\n",
        "# Added setting the vertical axis limits to be from 10^-7 to 10^0\n",
        "plt.ylim(1e-7, 1e0)\n",
        "plt.legend()\n",
        "plt.show()\n"
      ]
    },
    {
      "cell_type": "code",
      "execution_count": null,
      "metadata": {
        "id": "lkgLqJ_UUZim"
      },
      "outputs": [],
      "source": [
        "%config InteractiveShell.ast_node_interactivity = \"all\""
      ]
    },
    {
      "cell_type": "markdown",
      "metadata": {
        "id": "aotL4GJl4cnu"
      },
      "source": [
        "## Counting the number of parameters in the network."
      ]
    },
    {
      "cell_type": "code",
      "execution_count": null,
      "metadata": {
        "id": "_sQl2bTk4cnu"
      },
      "outputs": [],
      "source": [
        "net_loaded.eval()\n",
        "def count_parameters(model):\n",
        "    return sum(p.numel() for p in model.parameters() if p.requires_grad)\n",
        "print(f'The model has {count_parameters(net_loaded)} parameters.')"
      ]
    },
    {
      "cell_type": "markdown",
      "metadata": {
        "id": "SxuzVSnlUZin"
      },
      "source": [
        "## Evaluating the network on arbirary input\n",
        "### Comparing `net` and `net_loaded`\n",
        "\n",
        "We compare `net` and `net_loaded` to confirm correct loading of the network. Note that `net` is only available if we have trained the model in this session."
      ]
    },
    {
      "cell_type": "code",
      "execution_count": null,
      "metadata": {
        "id": "usq1X1KO4cnu"
      },
      "outputs": [],
      "source": [
        "#%%script echo skipping\n",
        "\n",
        "# Set the network to evaluation mode\n",
        "net.eval()"
      ]
    },
    {
      "cell_type": "code",
      "execution_count": null,
      "metadata": {
        "id": "-pwGJnzK4cnv"
      },
      "outputs": [],
      "source": [
        "# Set the network to evaluation mode\n",
        "net_loaded.eval"
      ]
    },
    {
      "cell_type": "code",
      "execution_count": null,
      "metadata": {
        "id": "vXaSZDzX4cnv"
      },
      "outputs": [],
      "source": [
        "for p1, p2 in zip(net.parameters(), net_loaded.parameters()):\n",
        "    if p1.data.ne(p2.data).sum() > 0:\n",
        "        print(\"Parameters are NOT the same.\")\n",
        "        break\n",
        "else:\n",
        "    print(\"Parameters are the same.\")\n",
        "\n",
        "print(\"Net device:\", next(net.parameters()).device)\n",
        "print(\"Net_loaded device:\", next(net_loaded.parameters()).device)"
      ]
    },
    {
      "cell_type": "code",
      "execution_count": null,
      "metadata": {
        "id": "C0PLAA0DUZin"
      },
      "outputs": [],
      "source": [
        "#%%script echo skipping\n",
        "\n",
        "print(list(net.parameters()))"
      ]
    },
    {
      "cell_type": "code",
      "execution_count": null,
      "metadata": {
        "id": "1NZ8iVA7UZio"
      },
      "outputs": [],
      "source": [
        "print(list(net_loaded.parameters()))"
      ]
    },
    {
      "cell_type": "code",
      "execution_count": null,
      "metadata": {
        "id": "InGW0Xq6UZip"
      },
      "outputs": [],
      "source": [
        "rho_example, epsilon_example, vx_example, vy_example, vz_example, Bx_example, By_example, Bz_example, gxx_example, gxy_example, gxz_example, gyy_example, gyz_example, gzz_example = generate_samples(20)\n",
        "\n",
        "inputs =  generate_input_data(rho_example, epsilon_example, vx_example, vy_example, vz_example, Bx_example, By_example, Bz_example, gxx_example, gxy_example, gxz_example, gyy_example, gyz_example, gzz_example)\n",
        "inputs\n"
      ]
    },
    {
      "cell_type": "code",
      "execution_count": null,
      "metadata": {
        "id": "QVa1upmFUZip"
      },
      "outputs": [],
      "source": [
        "#%%script echo skipping\n",
        "\n",
        "# Pass the inputs to the network and get the outputs\n",
        "outputs = [net(input.unsqueeze(0)) for input in inputs]\n",
        "# Print the outputs\n",
        "outputs"
      ]
    },
    {
      "cell_type": "code",
      "execution_count": null,
      "metadata": {
        "id": "E-Xjfo7VUZir"
      },
      "outputs": [],
      "source": [
        "\n",
        "# Pass the inputs to the network and get the outputs\n",
        "outputs = [net_loaded(input.unsqueeze(0)) for input in inputs]\n",
        "# Print the outputs\n",
        "outputs"
      ]
    },
    {
      "cell_type": "markdown",
      "metadata": {
        "id": "xjpIvdybUZis"
      },
      "source": [
        "## Porting the model to C++"
      ]
    },
    {
      "cell_type": "code",
      "execution_count": null,
      "metadata": {
        "id": "VMlEd4RoUZis"
      },
      "outputs": [],
      "source": [
        "import torch.jit\n",
        "\n",
        "# Creating a dummy input tensor of shape (1, 5) to trace the model\n",
        "dummy_input = torch.randn(1, N_INPUTS).to(device)\n",
        "\n",
        "# Ensure that net_loaded is in evaluation mode.\n",
        "net_loaded.eval()\n",
        "\n",
        "# Tracing the model using the torch.jit.trace function\n",
        "traced_model = torch.jit.trace(net_loaded, dummy_input)\n",
        "\n",
        "# Saving the traced model to a file named \"net.pt\"\n",
        "traced_model.save(\"net.pt\")\n",
        "save_file(\"net.pt\")\n",
        "\n",
        "example_input_to_validate_correct_export_and_import = generate_input_data(*generate_samples(1))\n",
        "print(\"input shape: \", example_input_to_validate_correct_export_and_import.shape)\n",
        "print(\"input: \", example_input_to_validate_correct_export_and_import)\n",
        "print(\"Output:\", net_loaded(example_input_to_validate_correct_export_and_import))"
      ]
    }
  ],
  "metadata": {
    "accelerator": "GPU",
    "colab": {
      "gpuType": "T4",
      "provenance": [],
      "toc_visible": true
    },
    "kernelspec": {
      "display_name": "Python 3",
      "name": "python3"
    },
    "language_info": {
      "codemirror_mode": {
        "name": "ipython",
        "version": 3
      },
      "file_extension": ".py",
      "mimetype": "text/x-python",
      "name": "python",
      "nbconvert_exporter": "python",
      "pygments_lexer": "ipython3",
      "version": "3.11.3"
    },
    "orig_nbformat": 4
  },
  "nbformat": 4,
  "nbformat_minor": 0
}