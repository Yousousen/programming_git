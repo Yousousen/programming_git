{
  "cells": [
    {
      "cell_type": "markdown",
      "metadata": {
        "id": "TPvB1xoSUZhR"
      },
      "source": [
        "# Neural network to learn conservative-to-primitive conversion in relativistic hydrodynamics"
      ]
    },
    {
      "cell_type": "code",
      "execution_count": 52,
      "metadata": {
        "colab": {
          "base_uri": "https://localhost:8080/"
        },
        "id": "eqdgdNLHUZhV",
        "outputId": "4625c7ce-26b1-49b4-a636-8a0cccc35d56",
        "tags": [
          "remove_cell"
        ]
      },
      "outputs": [
        {
          "output_type": "stream",
          "name": "stdout",
          "text": [
            "skipping\n"
          ]
        }
      ],
      "source": [
        "%%script echo skipping\n",
        "\n",
        "!jupyter nbconvert GRMHD_ML.ipynb --TagRemovePreprocessor.enabled=True --TagRemovePreprocessor.remove_cell_tags='{\"remove_cell\"}' --to script"
      ]
    },
    {
      "cell_type": "markdown",
      "metadata": {
        "id": "__fLZmSf4cm7"
      },
      "source": [
        "## How to use this notebook\n",
        "\n",
        "### Local installation\n",
        "\n",
        "1. Install required packages with `pip install -r requirements.txt` to your desired environment.\n",
        "2. If a script version of this notebook is desired, comment (not uncomment) the first line of `nbconvert` cell.\n",
        "\n",
        "### Colab installation\n",
        "\n",
        "1.  Comment (not uncomment) the first line of the drive mounting cell.\n",
        "2.  Comment (not uncomment) the first line of the `pip install` cell.\n",
        "\n",
        "<!-- - For colab we also want to set the runtime to GPU by clicking _Change runtime_ in the _Runtime_ menu, and -->\n",
        "<!-- - We want to wait for the google drive connection popup to appear and follow the instructions. -->\n",
        "\n",
        "### Loading / Generating data\n",
        "3. Set `LOAD_DATA_FROM_CSV` to `True` / `False` to load data from csv files / generate data in this notebook.\n",
        "\n",
        "### Training without optimization\n",
        "\n",
        "4. Set `OPTIMIZE = False` in section _Constants and flags to set_.\n",
        "5. Run the entire notebook.\n",
        "\n",
        "### Training with optimization\n",
        "\n",
        "4. Set `OPTIMIZE = True` in section _Constants and flags to set_.\n",
        "5. Run the entire notebook.\n",
        "\n",
        "### Loading an already trained model\n",
        "\n",
        "4. Run cells in section _Initialization_.\n",
        "5. Run cells with definitions in section _Input data and labels_.\n",
        "6. Run cell with the definition of _Net_ in section _Defining the neural network_.\n",
        "7. Make sure the `net.pth`, `optimizer.pth`, `scheduler.pth`, `var_dict.json` and `train_output.csv` files are in the directory containing this notebook.\n",
        "8. Run the cells in section _Loading_ and continue from there.\n",
        "\n",
        "### Generating the C++ model\n",
        "\n",
        "9. Run section _Porting the model to C++_, this requires a model to be loaded.\n",
        "10. Set the path to the `net.pt` file in the C++ source file.\n",
        "11. `mkdir build && cd build`,\n",
        "12. Configure a `CMakeLists.txt` file as is done [here](https://pytorch.org/cppdocs/installing.html).\n",
        "13. `cmake -DCMAKE_PREFIX_PATH=/path/to/libtorch/ ..`,\n",
        "14. Compile and run, e.g. `cmake --build . --config release && ./<executable name>`"
      ]
    },
    {
      "cell_type": "markdown",
      "metadata": {
        "id": "Ix44VuOJ4cm9"
      },
      "source": [
        "## Initialization"
      ]
    },
    {
      "cell_type": "markdown",
      "metadata": {
        "id": "pKLcdI-F4cm_"
      },
      "source": [
        "\n",
        "Use this first cell to **convert this notebook** to a python script.::\n",
        "\n",
        "*   List item\n",
        "*   List item\n",
        "\n"
      ]
    },
    {
      "cell_type": "code",
      "source": [],
      "metadata": {
        "id": "RqYaUVNjv7fG"
      },
      "execution_count": null,
      "outputs": []
    },
    {
      "cell_type": "code",
      "source": [],
      "metadata": {
        "id": "iY76QpTiv7b4"
      },
      "execution_count": null,
      "outputs": []
    },
    {
      "cell_type": "markdown",
      "source": [],
      "metadata": {
        "id": "zURNAQYdq8Mn"
      }
    },
    {
      "cell_type": "markdown",
      "source": [],
      "metadata": {
        "id": "9nOy_yXQq8Je"
      }
    },
    {
      "cell_type": "markdown",
      "source": [],
      "metadata": {
        "id": "Up9jWPOLq8Gh"
      }
    },
    {
      "cell_type": "markdown",
      "metadata": {
        "id": "nzcUr0LnUZhw"
      },
      "source": [
        "Next some cells for working on **google colab**,"
      ]
    },
    {
      "cell_type": "code",
      "execution_count": 53,
      "metadata": {
        "id": "6VBGn-gc4cnD"
      },
      "outputs": [],
      "source": [
        "import os\n",
        "import shutil\n",
        "\n",
        "# check if the drive is mounted\n",
        "drive_mounted = os.path.exists(\"/content/drive\")\n",
        "# change this to your desired folder\n",
        "drive_folder = \"/content/drive/My Drive/bsc/con2prim_GRMHD/1e5_runs/adjusted_lr_space3\"\n",
        "\n",
        "# define a function to save a file to the drive or the current directory\n",
        "def save_file(file_name):\n",
        "  if drive_mounted:\n",
        "    # save the file to the drive folder\n",
        "    file_path = os.path.join(drive_folder, file_name)\n",
        "    # copy the file from the current directory to the drive folder\n",
        "    shutil.copyfile(file_name, file_path)\n",
        "  else:\n",
        "    # do nothing as the file is already in the current directory\n",
        "    pass\n"
      ]
    },
    {
      "cell_type": "code",
      "execution_count": 54,
      "metadata": {
        "id": "ecHw2_xlUZhx",
        "colab": {
          "base_uri": "https://localhost:8080/"
        },
        "outputId": "b9f69c23-cd4e-4673-c7c1-75f3e988d881"
      },
      "outputs": [
        {
          "output_type": "stream",
          "name": "stdout",
          "text": [
            "Drive already mounted at /content/drive; to attempt to forcibly remount, call drive.mount(\"/content/drive\", force_remount=True).\n"
          ]
        }
      ],
      "source": [
        "#%%script echo skipping\n",
        "\n",
        "from google.colab import drive\n",
        "drive.mount('/content/drive')"
      ]
    },
    {
      "cell_type": "code",
      "execution_count": 55,
      "metadata": {
        "id": "T1rcStMLUZhy",
        "colab": {
          "base_uri": "https://localhost:8080/"
        },
        "outputId": "9aa8cec5-3207-4553-d037-9242d236c45b"
      },
      "outputs": [
        {
          "output_type": "stream",
          "name": "stdout",
          "text": [
            "Looking in indexes: https://pypi.org/simple, https://us-python.pkg.dev/colab-wheels/public/simple/\n",
            "Requirement already satisfied: optuna in /usr/local/lib/python3.10/dist-packages (3.2.0)\n",
            "Requirement already satisfied: tensorboard in /usr/local/lib/python3.10/dist-packages (2.12.2)\n",
            "Requirement already satisfied: tensorboardX in /usr/local/lib/python3.10/dist-packages (2.6)\n",
            "Requirement already satisfied: plotly in /usr/local/lib/python3.10/dist-packages (5.13.1)\n",
            "Requirement already satisfied: alembic>=1.5.0 in /usr/local/lib/python3.10/dist-packages (from optuna) (1.11.1)\n",
            "Requirement already satisfied: cmaes>=0.9.1 in /usr/local/lib/python3.10/dist-packages (from optuna) (0.9.1)\n",
            "Requirement already satisfied: colorlog in /usr/local/lib/python3.10/dist-packages (from optuna) (6.7.0)\n",
            "Requirement already satisfied: numpy in /usr/local/lib/python3.10/dist-packages (from optuna) (1.24.3)\n",
            "Requirement already satisfied: packaging>=20.0 in /usr/local/lib/python3.10/dist-packages (from optuna) (23.1)\n",
            "Requirement already satisfied: sqlalchemy>=1.3.0 in /usr/local/lib/python3.10/dist-packages (from optuna) (2.0.10)\n",
            "Requirement already satisfied: tqdm in /usr/local/lib/python3.10/dist-packages (from optuna) (4.65.0)\n",
            "Requirement already satisfied: PyYAML in /usr/local/lib/python3.10/dist-packages (from optuna) (6.0)\n",
            "\u001b[33mWARNING: optuna 3.2.0 does not provide the extra 'visualization'\u001b[0m\u001b[33m\n",
            "\u001b[0mRequirement already satisfied: absl-py>=0.4 in /usr/local/lib/python3.10/dist-packages (from tensorboard) (1.4.0)\n",
            "Requirement already satisfied: grpcio>=1.48.2 in /usr/local/lib/python3.10/dist-packages (from tensorboard) (1.54.0)\n",
            "Requirement already satisfied: google-auth<3,>=1.6.3 in /usr/local/lib/python3.10/dist-packages (from tensorboard) (2.17.3)\n",
            "Requirement already satisfied: google-auth-oauthlib<1.1,>=0.5 in /usr/local/lib/python3.10/dist-packages (from tensorboard) (1.0.0)\n",
            "Requirement already satisfied: markdown>=2.6.8 in /usr/local/lib/python3.10/dist-packages (from tensorboard) (3.4.3)\n",
            "Requirement already satisfied: protobuf>=3.19.6 in /usr/local/lib/python3.10/dist-packages (from tensorboard) (3.20.3)\n",
            "Requirement already satisfied: requests<3,>=2.21.0 in /usr/local/lib/python3.10/dist-packages (from tensorboard) (2.27.1)\n",
            "Requirement already satisfied: setuptools>=41.0.0 in /usr/local/lib/python3.10/dist-packages (from tensorboard) (67.7.2)\n",
            "Requirement already satisfied: tensorboard-data-server<0.8.0,>=0.7.0 in /usr/local/lib/python3.10/dist-packages (from tensorboard) (0.7.0)\n",
            "Requirement already satisfied: tensorboard-plugin-wit>=1.6.0 in /usr/local/lib/python3.10/dist-packages (from tensorboard) (1.8.1)\n",
            "Requirement already satisfied: werkzeug>=1.0.1 in /usr/local/lib/python3.10/dist-packages (from tensorboard) (2.3.0)\n",
            "Requirement already satisfied: wheel>=0.26 in /usr/local/lib/python3.10/dist-packages (from tensorboard) (0.40.0)\n",
            "Requirement already satisfied: tenacity>=6.2.0 in /usr/local/lib/python3.10/dist-packages (from plotly) (8.2.2)\n",
            "Requirement already satisfied: Mako in /usr/local/lib/python3.10/dist-packages (from alembic>=1.5.0->optuna) (1.2.4)\n",
            "Requirement already satisfied: typing-extensions>=4 in /usr/local/lib/python3.10/dist-packages (from alembic>=1.5.0->optuna) (4.6.2)\n",
            "Requirement already satisfied: cachetools<6.0,>=2.0.0 in /usr/local/lib/python3.10/dist-packages (from google-auth<3,>=1.6.3->tensorboard) (5.3.0)\n",
            "Requirement already satisfied: pyasn1-modules>=0.2.1 in /usr/local/lib/python3.10/dist-packages (from google-auth<3,>=1.6.3->tensorboard) (0.3.0)\n",
            "Requirement already satisfied: six>=1.9.0 in /usr/local/lib/python3.10/dist-packages (from google-auth<3,>=1.6.3->tensorboard) (1.16.0)\n",
            "Requirement already satisfied: rsa<5,>=3.1.4 in /usr/local/lib/python3.10/dist-packages (from google-auth<3,>=1.6.3->tensorboard) (4.9)\n",
            "Requirement already satisfied: requests-oauthlib>=0.7.0 in /usr/local/lib/python3.10/dist-packages (from google-auth-oauthlib<1.1,>=0.5->tensorboard) (1.3.1)\n",
            "Requirement already satisfied: urllib3<1.27,>=1.21.1 in /usr/local/lib/python3.10/dist-packages (from requests<3,>=2.21.0->tensorboard) (1.26.15)\n",
            "Requirement already satisfied: certifi>=2017.4.17 in /usr/local/lib/python3.10/dist-packages (from requests<3,>=2.21.0->tensorboard) (2022.12.7)\n",
            "Requirement already satisfied: charset-normalizer~=2.0.0 in /usr/local/lib/python3.10/dist-packages (from requests<3,>=2.21.0->tensorboard) (2.0.12)\n",
            "Requirement already satisfied: idna<4,>=2.5 in /usr/local/lib/python3.10/dist-packages (from requests<3,>=2.21.0->tensorboard) (3.4)\n",
            "Requirement already satisfied: greenlet!=0.4.17 in /usr/local/lib/python3.10/dist-packages (from sqlalchemy>=1.3.0->optuna) (2.0.2)\n",
            "Requirement already satisfied: MarkupSafe>=2.1.1 in /usr/local/lib/python3.10/dist-packages (from werkzeug>=1.0.1->tensorboard) (2.1.2)\n",
            "Requirement already satisfied: pyasn1<0.6.0,>=0.4.6 in /usr/local/lib/python3.10/dist-packages (from pyasn1-modules>=0.2.1->google-auth<3,>=1.6.3->tensorboard) (0.5.0)\n",
            "Requirement already satisfied: oauthlib>=3.0.0 in /usr/local/lib/python3.10/dist-packages (from requests-oauthlib>=0.7.0->google-auth-oauthlib<1.1,>=0.5->tensorboard) (3.2.2)\n"
          ]
        }
      ],
      "source": [
        "#%%script echo skipping\n",
        "\n",
        "!pip install optuna optuna[visualization] tensorboard tensorboardX plotly"
      ]
    },
    {
      "cell_type": "markdown",
      "metadata": {
        "id": "msDldnu_4cnF"
      },
      "source": [
        "Importing the **libraries**,"
      ]
    },
    {
      "cell_type": "code",
      "execution_count": 56,
      "metadata": {
        "id": "tREdWQUVUZhz"
      },
      "outputs": [],
      "source": [
        "import numpy as np\n",
        "import matplotlib.pyplot as plt\n",
        "import torch\n",
        "import torch.nn as nn\n",
        "import torch.optim as optim\n",
        "import torch.nn.functional as F\n",
        "import optuna\n",
        "import tensorboardX as tbx\n",
        "import pandas as pd\n",
        "import pickle\n",
        "import json"
      ]
    },
    {
      "cell_type": "markdown",
      "metadata": {
        "id": "38GvmerjUZhz"
      },
      "source": [
        "### Constants and flags to set\n",
        "Defining some constants and parameters for convenience.\n",
        "\n",
        "**NOTE**: Some **subparameters** still need to be adjusted in the `create_model` function itself as of (Tue May 16 07:42:45 AM CEST 2023) in the case the model is being trained without optimization."
      ]
    },
    {
      "cell_type": "code",
      "execution_count": 57,
      "metadata": {
        "id": "ei6VZDYKUZh0"
      },
      "outputs": [],
      "source": [
        "\n",
        "# Checking if GPU is available and setting the device accordingly\n",
        "device = torch.device(\"cuda\" if torch.cuda.is_available() else \"cpu\")\n",
        "\n",
        "N_TRIALS = 1000 # Number of trials for hyperparameter optimization # NOTE: Set this properly.\n",
        "OPTIMIZE = True # Whether to optimize the hyperparameters or to use predetermined values. # NOTE: Set this properly.\n",
        "ZSCORE_NORMALIZATION = False # Whether to z-score normalize the input data.\n",
        "LOAD_DATA_FROM_CSV = False  # If not true we generate the data in this file and save to {x_train,y_train,x_test,y_test}.csv, otherwise we load the data from files of the same name. # NOTE: Set this before properly.\n",
        "STUDY_NAME = '1e5_run8_low_adjusted_lr3_high_trials'\n",
        "\n",
        "csv_filenames = { # File names to load input data and labels from if LOAD_DATA_FROM_CSV is True.\n",
        "    \"x_train\": \"x_train.csv\",\n",
        "    \"x_val\": \"x_val.csv\",\n",
        "    \"x_test\": \"x_test.csv\",\n",
        "    \"y_train\": \"y_train.csv\",\n",
        "    \"y_val\": \"y_val.csv\",\n",
        "    \"y_test\": \"y_test.csv\",\n",
        "}\n",
        "\n",
        "# Values to use for hyperparameters if OPTIMIZE is False; set these to the best parameters found by Optuna.\n",
        "# NOTE: TODO: Currently (Sat May 27 05:16:57 PM CEST 2023) there are still subparameters to be set in create_model function.\n",
        "N_LAYERS_NO_OPT = 3\n",
        "N_UNITS_NO_OPT = [555, 458, 115]\n",
        "HIDDEN_ACTIVATION_NAME_NO_OPT = \"LeakyReLU\"\n",
        "OUTPUT_ACTIVATION_NAME_NO_OPT = \"Linear\"\n",
        "LOSS_NAME_NO_OPT = \"Huber\"\n",
        "OPTIMIZER_NAME_NO_OPT = \"RMSprop\"\n",
        "LR_NO_OPT = 0.000122770896701404\n",
        "BATCH_SIZE_NO_OPT = 49\n",
        "N_EPOCHS_NO_OPT = 200 # NOTE: Set this properly.\n",
        "SCHEDULER_NAME_NO_OPT = \"ReduceLROnPlateau\"\n",
        "DROPOUT_RATE_NO_OPT = 0.2\n",
        "\n",
        "N_INPUTS = 14  # Number of input features.\n",
        "N_OUTPUTS = 1  # Number of outputs.\n",
        "Gamma = 5/3  # Adiabatic index\n",
        "\n",
        "n_samples = 1e5 # NOTE: Set this properly.\n",
        "train_frac = 0.7  # 70% of data for training\n",
        "val_frac = 0.15  # 15% of data for validation, rest for testing\n",
        "\n",
        "rho_interval = (0, 2) \n",
        "epsilon_interval = (1e-2, 2000)  # Will be sampled in log space\n",
        "vx_interval = (0, 0.999)  \n",
        "vy_interval = (0, 0.999)  \n",
        "vz_interval = (0, 0.999)  \n",
        "Bx_interval = (-10, 10)  \n",
        "By_interval = (-10, 10)  \n",
        "Bz_interval = (-10, 10)  \n",
        "gxx_interval = (0.9, 1.1)\n",
        "gxy_interval = (0, 0.1)\n",
        "gxz_interval = (0, 0.1)\n",
        "gyy_interval = (0.9, 1.1)\n",
        "gyz_interval = (0, 0.1)\n",
        "gzz_interval = (0.9, 1.1)\n",
        "\n",
        "np.random.seed(95) # Comment for true random data.\n"
      ]
    },
    {
      "cell_type": "markdown",
      "metadata": {
        "id": "dlaP5UL2UZh1"
      },
      "source": [
        "## Input data and labels\n",
        "\n",
        "We either generate the data or load the data. First the definitions for generating the data come below."
      ]
    },
    {
      "cell_type": "code",
      "execution_count": 58,
      "metadata": {
        "id": "s_EvGFZcUZh1"
      },
      "outputs": [],
      "source": [
        "# Defining an analytic equation of state (EOS) for an ideal gas\n",
        "def eos_analytic(rho, epsilon):\n",
        "    # Adding some assertions to check that the input tensors are valid and have \n",
        "    # the expected shape and type \n",
        "    assert isinstance(rho, torch.Tensor), \"rho must be a torch.Tensor\"\n",
        "    assert isinstance(epsilon, torch.Tensor), \"epsilon must be a torch.Tensor\"\n",
        "    print('rho.shape: ', rho.shape)\n",
        "    print('epsilon.shape: ', epsilon.shape)\n",
        "    assert rho.shape == epsilon.shape, \"rho and epsilon must have the same shape\"\n",
        "    assert rho.ndim == 1, \"rho and epsilon must be one-dimensional tensors\"\n",
        "    assert rho.dtype == torch.float32, \"rho and epsilon must have dtype torch.float32\"\n",
        "\n",
        "    return (Gamma - 1) * rho * epsilon\n",
        "\n",
        "def sample_primitive_variables_and_metric():\n",
        "    rho = np.random.uniform(*rho_interval)  \n",
        "    epsilon = np.random.uniform(*np.log10(epsilon_interval))\n",
        "    vx = np.random.uniform(*vx_interval)  \n",
        "    vy = np.random.uniform(*vy_interval)  \n",
        "    vz = np.random.uniform(*vz_interval)  \n",
        "    Bx = np.random.uniform(*Bx_interval)  \n",
        "    By = np.random.uniform(*By_interval)  \n",
        "    Bz = np.random.uniform(*Bz_interval)  \n",
        "    gxx = np.random.uniform(*gxx_interval)\n",
        "    gxy = np.random.uniform(*gxy_interval)\n",
        "    gxz = np.random.uniform(*gxz_interval)\n",
        "    gyy = np.random.uniform(*gyy_interval)\n",
        "    gyz = np.random.uniform(*gyz_interval)\n",
        "    gzz = np.random.uniform(*gzz_interval)\n",
        "\n",
        "    return rho, epsilon, vx, vy, vz, Bx, By, Bz, gxx, gxy, gxz, gyy, gyz, gzz\n",
        "\n",
        "def check_sample(rho, epsilon, vx, vy, vz, Bx, By, Bz, gxx, gxy, gxz, gyy, gyz, gzz):\n",
        "    wtemp_expr = 1 - (gxx * vx**2 + gyy * vy**2 + gzz * vz**2 + 2 * gxy * vx * vy + 2 * gxz * vx * vz + 2 * gyz * vy * vz)\n",
        "    sdet_expr = gxx * gyy * gzz + 2 * gxy * gxz * gyz - gxx * gyz ** 2 - gyy * gxz ** 2 - gzz * gxy ** 2\n",
        "    if vx**2 + vy**2 + vz**2 >= 1 or wtemp_expr < 0 or sdet_expr < 0:\n",
        "        # print(f\"Sample failed checks. vx^2+vy^2+vz^2: {vx**2 + vy**2 + vz**2}, wtemp_expr: {wtemp_expr}, sdet_expr: {sdet_expr}\")\n",
        "        return False\n",
        "    else:\n",
        "        # print(f\"Sample passed checks. vx^2+vy^2+vz^2: {vx**2 + vy**2 + vz**2}, wtemp_expr: {wtemp_expr}, sdet_expr: {sdet_expr}\")\n",
        "        return True\n",
        "\n",
        "def generate_samples(n_samples):\n",
        "    samples = []\n",
        "    while len(samples) < n_samples:\n",
        "        sample = sample_primitive_variables_and_metric()\n",
        "        if check_sample(*sample):\n",
        "            samples.append(sample)\n",
        "        # print(f\"Number of valid samples: {len(samples)}\")\n",
        "    return zip(*samples)\n",
        "def sdet(gxx, gxy, gxz, gyy, gyz, gzz):\n",
        "    # Determinant of the three metric.\n",
        "    return (gxx * gyy * gzz + 2 * gxy * gxz * gyz - gxx * gyz ** 2 - gyy * gxz ** 2 - gzz * gxy ** 2) ** 0.5\n",
        "\n",
        "# Defining a function that computes conserved variables from primitive variables and the metric\n",
        "# We follow the source code of GRaM-X: A new GPU-accelerated dynamical spacetime GRMHD code for Exascale\n",
        "# computing with the Einstein Toolkit of Shankar et al.\n",
        "def compute_conserved_variables(rho, epsilon, vx, vy, vz, Bx, By, Bz, gxx, gxy, gxz, gyy, gyz, gzz):\n",
        "    pres = eos_analytic(rho, epsilon)\n",
        "    wtemp = 1 / (1 - (gxx * vx**2 + gyy * vy**2 + gzz * vz**2 +\n",
        "        2 * gxy * vx * vy + 2 * gxz * vx * vz +\n",
        "        2 * gyz * vy * vz))**0.5\n",
        "\n",
        "    vlowx = gxx * vx + gxy * vy + gxz * vz\n",
        "    vlowy = gxy * vx + gyy * vy + gyz * vz\n",
        "    vlowz = gxz * vx + gyz * vy + gzz * vz\n",
        "\n",
        "    Bxlow = gxx * Bx + gxy * By + gxz * Bz\n",
        "    Bylow = gxy * Bx + gyy * By + gyz * Bz\n",
        "    Bzlow = gxz * Bx + gyz * By + gzz * Bz\n",
        "\n",
        "    B2 = Bxlow * Bx + Bylow * By + Bzlow * Bz\n",
        "\n",
        "    Bdotv = Bxlow * vx + Bylow * vy + Bzlow * vz\n",
        "    Bdotv2 = Bdotv * Bdotv\n",
        "    wtemp2 = wtemp * wtemp\n",
        "    b2 = B2 / wtemp2 + Bdotv2\n",
        "    ab0 = wtemp * Bdotv\n",
        "\n",
        "    blowx = (gxx * Bx + gxy * By + gxz * Bz) / wtemp + wtemp * Bdotv * vlowx\n",
        "    blowy = (gxy * Bx + gyy * By + gyz * Bz) / wtemp + wtemp * Bdotv * vlowy\n",
        "    blowz = (gxz * Bx + gyz * By + gzz * Bz) / wtemp + wtemp * Bdotv * vlowz\n",
        "\n",
        "    hrhow2 = (rho * (1 + epsilon) + pres + b2) * (wtemp) * (wtemp)\n",
        "\n",
        "    D = sdet(gxx, gxy, gxz, gyy, gyz, gzz) * rho * (wtemp)\n",
        "    Sx = sdet(gxx, gxy, gxz, gyy, gyz, gzz) * (hrhow2 * vlowx - ab0 * blowx)\n",
        "    Sy = sdet(gxx, gxy, gxz, gyy, gyz, gzz) * (hrhow2 * vlowy - ab0 * blowy)\n",
        "    Sz = sdet(gxx, gxy, gxz, gyy, gyz, gzz) * (hrhow2 * vlowz - ab0 * blowz)\n",
        "    tau = sdet(gxx, gxy, gxz, gyy, gyz, gzz) * (hrhow2 - pres - b2 / 2 - ab0 * ab0) - D\n",
        "    Bconsx = sdet(gxx, gxy, gxz, gyy, gyz, gzz) * Bx\n",
        "    Bconsy = sdet(gxx, gxy, gxz, gyy, gyz, gzz) * By\n",
        "    Bconsz = sdet(gxx, gxy, gxz, gyy, gyz, gzz) * Bz\n",
        "\n",
        "    return D, Sx, Sy, Sz, tau, Bconsx, Bconsy, Bconsz\n",
        "\n",
        "def generate_input_data(rho, epsilon, vx, vy, vz, Bx, By, Bz, gxx, gxy, gxz, gyy, gyz, gzz):\n",
        "    rho = torch.tensor(np.array(rho), dtype=torch.float32).to(device)\n",
        "    epsilon = torch.tensor(np.array(epsilon), dtype=torch.float32).to(device)\n",
        "    vx = torch.tensor(np.array(vx), dtype=torch.float32).to(device)\n",
        "    vy = torch.tensor(np.array(vy), dtype=torch.float32).to(device)\n",
        "    vz = torch.tensor(np.array(vz), dtype=torch.float32).to(device)\n",
        "    Bx = torch.tensor(np.array(Bx), dtype=torch.float32).to(device)\n",
        "    By = torch.tensor(np.array(By), dtype=torch.float32).to(device)\n",
        "    Bz = torch.tensor(np.array(Bz), dtype=torch.float32).to(device)\n",
        "    gxx = torch.tensor(np.array(gxx), dtype=torch.float32).to(device)\n",
        "    gxy = torch.tensor(np.array(gxy), dtype=torch.float32).to(device)\n",
        "    gxz = torch.tensor(np.array(gxz), dtype=torch.float32).to(device)\n",
        "    gyy = torch.tensor(np.array(gyy), dtype=torch.float32).to(device)\n",
        "    gyz = torch.tensor(np.array(gyz), dtype=torch.float32).to(device)\n",
        "    gzz = torch.tensor(np.array(gzz), dtype=torch.float32).to(device)\n",
        "\n",
        "    D, Sx, Sy, Sz, tau, Bscriptx, Bscripty, Bscriptz = compute_conserved_variables(\n",
        "        rho, epsilon, vx, vy, vz, Bx, By, Bz, gxx, gxy, gxz, gyy, gyz, gzz\n",
        "    ) \n",
        "\n",
        "    # Add gxx, gxy, gxz, gyy, gyz, gzz to the tensor\n",
        "    x = torch.stack([D, Sx, Sy, Sz, tau, Bscriptx, Bscripty, Bscriptz, gxx, gxy, gxz, gyy, gyz, gzz], axis=1)\n",
        "    return x\n",
        "\n",
        "# Defining a function that generates output data (labels) from given samples of primitive variables\n",
        "# We use the definitions as given in Recovery schemes for primitive variables in\n",
        "# general-relativistic magnetohydrodynamics of Siegel et al.\n",
        "def generate_labels(rho, epsilon, vx, vy, vz):\n",
        "    # Converting the numpy arrays to torch tensors and moving them to the device\n",
        "    rho = torch.tensor(np.array(rho), dtype=torch.float32).to(device)\n",
        "    epsilon = torch.tensor(np.array(epsilon), dtype=torch.float32).to(device)\n",
        "    vx = torch.tensor(np.array(vx), dtype=torch.float32).to(device)\n",
        "    vy = torch.tensor(np.array(vy), dtype=torch.float32).to(device)\n",
        "    vz = torch.tensor(np.array(vz), dtype=torch.float32).to(device)\n",
        "\n",
        "    # Computing the required quantities\n",
        "    pres = eos_analytic(rho, epsilon)\n",
        "    h = 1 + epsilon + pres / rho\n",
        "    W = 1 / torch.sqrt(1 - (vx * vx + vy * vy + vz * vz))\n",
        "\n",
        "    # Returning the output data tensor\n",
        "    return h * W"
      ]
    },
    {
      "cell_type": "markdown",
      "metadata": {
        "id": "SSJd2Ch74cnI"
      },
      "source": [
        "### Generating or loading input data and labels"
      ]
    },
    {
      "cell_type": "code",
      "execution_count": 59,
      "metadata": {
        "id": "Dbu0GvMz4cnI"
      },
      "outputs": [],
      "source": [
        "%config InteractiveShell.ast_node_interactivity = \"all\""
      ]
    },
    {
      "cell_type": "code",
      "execution_count": 60,
      "metadata": {
        "id": "cKubR6C8UZh4"
      },
      "outputs": [],
      "source": [
        "if LOAD_DATA_FROM_CSV:\n",
        "    # Load the data from CSV files\n",
        "    x_train = pd.read_csv(csv_filenames[\"x_train\"]).values\n",
        "    y_train = pd.read_csv(csv_filenames[\"y_train\"]).values.squeeze()  # reshape to 1D\n",
        "    x_val = pd.read_csv(csv_filenames[\"x_val\"]).values\n",
        "    y_val = pd.read_csv(csv_filenames[\"y_val\"]).values.squeeze()  # reshape to 1D\n",
        "    x_test = pd.read_csv(csv_filenames[\"x_test\"]).values\n",
        "    y_test = pd.read_csv(csv_filenames[\"y_test\"]).values.squeeze()  # reshape to 1D\n",
        "\n",
        "    # Convert numpy arrays to tensors\n",
        "    x_train = torch.from_numpy(x_train).float().to(device)\n",
        "    y_train = torch.from_numpy(y_train).float().to(device)\n",
        "    x_val = torch.from_numpy(x_val).float().to(device)\n",
        "    y_val = torch.from_numpy(y_val).float().to(device)\n",
        "    x_test = torch.from_numpy(x_test).float().to(device)\n",
        "    y_test = torch.from_numpy(y_test).float().to(device)\n",
        "\n",
        "    # This is an alternative to having if clauses around the cells that visualize these variables.\n",
        "    rho = epsilon = vx = vy = vz = Bx = By = Bz = gxx = gxy = gxz = gyy = gyz  = gzz = None"
      ]
    },
    {
      "cell_type": "code",
      "execution_count": 61,
      "metadata": {
        "id": "dImVa4W04cnJ"
      },
      "outputs": [],
      "source": [
        "if not LOAD_DATA_FROM_CSV:\n",
        "    # Sample primitive variables and metric\n",
        "    rho, epsilon, vx, vy, vz, Bx, By, Bz, gxx, gxy, gxz, gyy, gyz, gzz = generate_samples(n_samples)"
      ]
    },
    {
      "cell_type": "code",
      "execution_count": 62,
      "metadata": {
        "id": "ESK3LQPg4cnJ",
        "colab": {
          "base_uri": "https://localhost:8080/"
        },
        "outputId": "9689b983-55d3-40bb-a33f-c36551ce0314"
      },
      "outputs": [
        {
          "output_type": "stream",
          "name": "stdout",
          "text": [
            "rho.shape:  torch.Size([100000])\n",
            "epsilon.shape:  torch.Size([100000])\n",
            "rho.shape:  torch.Size([100000])\n",
            "epsilon.shape:  torch.Size([100000])\n"
          ]
        }
      ],
      "source": [
        "if not LOAD_DATA_FROM_CSV:\n",
        "    # Generate data and labels.\n",
        "    x = generate_input_data(rho, epsilon, vx, vy, vz, Bx, By, Bz, gxx, gxy, gxz, gyy, gyz, gzz)\n",
        "    y = generate_labels(rho, epsilon, vx, vy, vz)\n",
        "\n",
        "    # Calculate the number of samples in each set\n",
        "    n_train_samples = int(n_samples * train_frac)\n",
        "    n_val_samples = int(n_samples * val_frac)\n",
        "\n",
        "    # Create the data sets\n",
        "    x_train = x[:n_train_samples]\n",
        "    y_train = y[:n_train_samples]\n",
        "    x_val = x[n_train_samples : n_train_samples + n_val_samples]\n",
        "    y_val = y[n_train_samples : n_train_samples + n_val_samples]\n",
        "    x_test = x[n_train_samples + n_val_samples :]\n",
        "    y_test = y[n_train_samples + n_val_samples :]\n",
        "\n",
        "    # Save the data to CSV files; tensors need to be converted numpy arrays for saving in CSV.\n",
        "    pd.DataFrame(x_train.cpu().numpy()).to_csv(csv_filenames[\"x_train\"], index=False)\n",
        "    save_file(csv_filenames[\"x_train\"])\n",
        "    pd.DataFrame(y_train.cpu().numpy()).to_csv(csv_filenames[\"y_train\"], index=False)\n",
        "    save_file(csv_filenames[\"y_train\"])\n",
        "\n",
        "    pd.DataFrame(x_val.cpu().numpy()).to_csv(csv_filenames[\"x_val\"], index=False)\n",
        "    save_file(csv_filenames[\"x_val\"])\n",
        "    pd.DataFrame(y_val.cpu().numpy()).to_csv(csv_filenames[\"y_val\"], index=False)\n",
        "    save_file(csv_filenames[\"y_val\"])\n",
        "\n",
        "    pd.DataFrame(x_test.cpu().numpy()).to_csv(csv_filenames[\"x_test\"], index=False)\n",
        "    save_file(csv_filenames[\"x_test\"])\n",
        "    pd.DataFrame(y_test.cpu().numpy()).to_csv(csv_filenames[\"y_test\"], index=False)\n",
        "    save_file(csv_filenames[\"y_test\"])"
      ]
    },
    {
      "cell_type": "code",
      "execution_count": 63,
      "metadata": {
        "id": "Y-3DG_h24cnJ",
        "colab": {
          "base_uri": "https://localhost:8080/"
        },
        "outputId": "f344cdd0-6b8e-4131-8585-f241000ea86f"
      },
      "outputs": [
        {
          "output_type": "execute_result",
          "data": {
            "text/plain": [
              "torch.Size([70000, 14])"
            ]
          },
          "metadata": {},
          "execution_count": 63
        },
        {
          "output_type": "execute_result",
          "data": {
            "text/plain": [
              "torch.Size([70000])"
            ]
          },
          "metadata": {},
          "execution_count": 63
        },
        {
          "output_type": "execute_result",
          "data": {
            "text/plain": [
              "torch.Size([15000, 14])"
            ]
          },
          "metadata": {},
          "execution_count": 63
        },
        {
          "output_type": "execute_result",
          "data": {
            "text/plain": [
              "torch.Size([15000])"
            ]
          },
          "metadata": {},
          "execution_count": 63
        },
        {
          "output_type": "execute_result",
          "data": {
            "text/plain": [
              "torch.Size([15000, 14])"
            ]
          },
          "metadata": {},
          "execution_count": 63
        },
        {
          "output_type": "execute_result",
          "data": {
            "text/plain": [
              "torch.Size([15000])"
            ]
          },
          "metadata": {},
          "execution_count": 63
        },
        {
          "output_type": "execute_result",
          "data": {
            "text/plain": [
              "tensor([[2.2985e+00, 1.7464e+01, 2.3695e+01,  ..., 1.0600e+00, 2.6398e-02,\n",
              "         9.4273e-01],\n",
              "        [1.8742e+00, 9.5310e+01, 3.5016e+01,  ..., 1.0101e+00, 9.8108e-03,\n",
              "         1.0183e+00],\n",
              "        [2.8331e+00, 4.8836e+01, 7.1630e+01,  ..., 1.0737e+00, 9.2011e-02,\n",
              "         1.0728e+00],\n",
              "        ...,\n",
              "        [4.2021e+00, 6.7655e+01, 8.1779e+01,  ..., 9.0510e-01, 6.2068e-02,\n",
              "         1.0101e+00],\n",
              "        [3.2309e+00, 7.1703e+00, 6.4027e+01,  ..., 1.0786e+00, 8.2927e-02,\n",
              "         9.7156e-01],\n",
              "        [5.3755e+00, 4.5278e+00, 3.4801e+01,  ..., 9.8472e-01, 1.5033e-02,\n",
              "         1.0328e+00]])"
            ]
          },
          "metadata": {},
          "execution_count": 63
        },
        {
          "output_type": "execute_result",
          "data": {
            "text/plain": [
              "tensor([21.3133,  7.0007, -2.2578,  ..., 10.1461, 10.7921,  6.8727])"
            ]
          },
          "metadata": {},
          "execution_count": 63
        },
        {
          "output_type": "execute_result",
          "data": {
            "text/plain": [
              "tensor([[ 9.2991e-01,  1.7239e+02,  1.1998e+02,  ...,  1.0849e+00,\n",
              "          1.3490e-02,  1.0135e+00],\n",
              "        [ 1.8521e+00,  1.5973e+01,  2.4786e+00,  ...,  9.9913e-01,\n",
              "          1.9708e-03,  9.2606e-01],\n",
              "        [ 8.9966e-01,  1.2378e+00,  1.4291e+00,  ...,  9.7025e-01,\n",
              "          5.3716e-02,  1.0700e+00],\n",
              "        ...,\n",
              "        [ 4.4409e-02, -2.1010e+00,  7.7237e+00,  ...,  9.2170e-01,\n",
              "          2.5159e-02,  9.4135e-01],\n",
              "        [ 8.7868e-01,  4.2500e+01,  8.0127e+01,  ...,  9.6538e-01,\n",
              "          6.3917e-02,  9.2431e-01],\n",
              "        [ 2.1698e+00,  1.8039e+01,  6.4904e+00,  ...,  1.0673e+00,\n",
              "          4.5565e-02,  9.1099e-01]])"
            ]
          },
          "metadata": {},
          "execution_count": 63
        },
        {
          "output_type": "execute_result",
          "data": {
            "text/plain": [
              "tensor([10.8072,  5.0281,  0.9579,  ...,  7.4333, -2.1131,  2.6518])"
            ]
          },
          "metadata": {},
          "execution_count": 63
        },
        {
          "output_type": "execute_result",
          "data": {
            "text/plain": [
              "tensor([[2.9420e+00, 8.3560e+01, 1.1264e+02,  ..., 1.0756e+00, 7.6053e-02,\n",
              "         1.0021e+00],\n",
              "        [2.1377e+00, 4.4957e+01, 3.9360e+01,  ..., 9.4257e-01, 8.7686e-02,\n",
              "         9.1286e-01],\n",
              "        [1.6587e+00, 8.3840e+00, 2.6702e+01,  ..., 9.3378e-01, 8.3847e-02,\n",
              "         9.7607e-01],\n",
              "        ...,\n",
              "        [1.6401e+00, 1.0315e+02, 1.9063e+01,  ..., 1.0529e+00, 6.8338e-03,\n",
              "         9.9243e-01],\n",
              "        [4.9395e+00, 1.0348e+02, 1.3760e+01,  ..., 9.7653e-01, 5.8365e-02,\n",
              "         1.0203e+00],\n",
              "        [5.3976e-01, 6.8458e+01, 1.4620e+02,  ..., 9.0019e-01, 9.7955e-02,\n",
              "         9.7723e-01]])"
            ]
          },
          "metadata": {},
          "execution_count": 63
        },
        {
          "output_type": "execute_result",
          "data": {
            "text/plain": [
              "tensor([12.7534, -1.3122,  1.4928,  ...,  5.5481,  6.8137,  0.8087])"
            ]
          },
          "metadata": {},
          "execution_count": 63
        }
      ],
      "source": [
        "\n",
        "x_train.shape\n",
        "y_train.shape\n",
        "x_val.shape\n",
        "y_val.shape\n",
        "x_test.shape\n",
        "y_test.shape\n",
        "x_train\n",
        "y_train\n",
        "x_val\n",
        "y_val\n",
        "x_test\n",
        "y_test"
      ]
    },
    {
      "cell_type": "code",
      "execution_count": 64,
      "metadata": {
        "id": "xdpjCNO94cnK",
        "colab": {
          "base_uri": "https://localhost:8080/"
        },
        "outputId": "f47ea0bf-2519-4884-f6ee-baaff8537405"
      },
      "outputs": [
        {
          "output_type": "execute_result",
          "data": {
            "text/plain": [
              "tensor(False)"
            ]
          },
          "metadata": {},
          "execution_count": 64
        },
        {
          "output_type": "execute_result",
          "data": {
            "text/plain": [
              "tensor(False)"
            ]
          },
          "metadata": {},
          "execution_count": 64
        },
        {
          "output_type": "execute_result",
          "data": {
            "text/plain": [
              "tensor(False)"
            ]
          },
          "metadata": {},
          "execution_count": 64
        },
        {
          "output_type": "execute_result",
          "data": {
            "text/plain": [
              "tensor(False)"
            ]
          },
          "metadata": {},
          "execution_count": 64
        },
        {
          "output_type": "execute_result",
          "data": {
            "text/plain": [
              "tensor(False)"
            ]
          },
          "metadata": {},
          "execution_count": 64
        },
        {
          "output_type": "execute_result",
          "data": {
            "text/plain": [
              "tensor(False)"
            ]
          },
          "metadata": {},
          "execution_count": 64
        }
      ],
      "source": [
        "torch.isnan(x_train).any()\n",
        "torch.isnan(x_val).any()\n",
        "torch.isnan(x_test).any()\n",
        "torch.isnan(y_train).any()\n",
        "torch.isnan(y_val).any()\n",
        "torch.isnan(y_test).any()"
      ]
    },
    {
      "cell_type": "code",
      "execution_count": 65,
      "metadata": {
        "id": "X1uRb5P04cnK",
        "colab": {
          "base_uri": "https://localhost:8080/"
        },
        "outputId": "7105d3e7-1c87-42c5-c543-db90451f2363"
      },
      "outputs": [
        {
          "output_type": "execute_result",
          "data": {
            "text/plain": [
              "(tensor([], dtype=torch.int64), tensor([], dtype=torch.int64))"
            ]
          },
          "metadata": {},
          "execution_count": 65
        },
        {
          "output_type": "execute_result",
          "data": {
            "text/plain": [
              "(tensor([], dtype=torch.int64), tensor([], dtype=torch.int64))"
            ]
          },
          "metadata": {},
          "execution_count": 65
        },
        {
          "output_type": "execute_result",
          "data": {
            "text/plain": [
              "(tensor([], dtype=torch.int64), tensor([], dtype=torch.int64))"
            ]
          },
          "metadata": {},
          "execution_count": 65
        }
      ],
      "source": [
        "nan_mask_train = torch.isnan(x_train)     # get a boolean mask indicating NaN values\n",
        "nan_indices_train = torch.where(nan_mask_train)  # get the indices of the NaN values\n",
        "nan_indices_train\n",
        "# len(nan_indices_train)\n",
        "\n",
        "nan_mask_val = torch.isnan(x_val)     # get a boolean mask indicating NaN values\n",
        "nan_indices_val = torch.where(nan_mask_val)  # get the indices of the NaN values\n",
        "nan_indices_val\n",
        "# len(nan_indices_test)\n",
        "\n",
        "nan_mask_test = torch.isnan(x_test)     # get a boolean mask indicating NaN values\n",
        "nan_indices_test = torch.where(nan_mask_test)  # get the indices of the NaN values\n",
        "nan_indices_test\n",
        "# len(nan_indices_test)"
      ]
    },
    {
      "cell_type": "markdown",
      "metadata": {
        "id": "HC0o0Myn4cnK"
      },
      "source": [
        "## Visualizing the data"
      ]
    },
    {
      "cell_type": "markdown",
      "metadata": {
        "id": "Myrn0owg4cnL"
      },
      "source": [
        "### Visualizing sampled data"
      ]
    },
    {
      "cell_type": "code",
      "execution_count": 66,
      "metadata": {
        "id": "5CXNfzzz4cnL",
        "colab": {
          "base_uri": "https://localhost:8080/"
        },
        "outputId": "90b4184d-9e07-4711-dadf-a225f44018cd"
      },
      "outputs": [
        {
          "output_type": "stream",
          "name": "stdout",
          "text": [
            "skipping\n"
          ]
        }
      ],
      "source": [
        "%%script echo skipping\n",
        "\n",
        "if not LOAD_DATA_FROM_CSV:\n",
        "    rho\n",
        "    epsilon\n",
        "    vx\n",
        "    vy\n",
        "    vz \n",
        "    Bx\n",
        "    By\n",
        "    Bz\n",
        "    gxx\n",
        "    gxy\n",
        "    gxz\n",
        "    gyy\n",
        "    gyz\n",
        "    gzz "
      ]
    },
    {
      "cell_type": "code",
      "execution_count": 67,
      "metadata": {
        "id": "jEj1uLoV4cnL",
        "colab": {
          "base_uri": "https://localhost:8080/"
        },
        "outputId": "5c33b868-6e69-48f0-b60f-f9f1db13070d"
      },
      "outputs": [
        {
          "output_type": "stream",
          "name": "stdout",
          "text": [
            "100000\n",
            "100000\n",
            "100000\n",
            "100000\n",
            "100000\n",
            "100000\n",
            "100000\n",
            "100000\n",
            "\n",
            "100000\n",
            "100000\n",
            "100000\n",
            "100000\n",
            "100000\n",
            "100000\n"
          ]
        }
      ],
      "source": [
        "if not LOAD_DATA_FROM_CSV:\n",
        "    print(len(rho))\n",
        "    print(len(epsilon))\n",
        "    print(len(vx))\n",
        "    print(len(vy))\n",
        "    print(len(vz))\n",
        "    print(len(Bx))\n",
        "    print(len(By))\n",
        "    print(len(Bz))\n",
        "    print()\n",
        "    print(len(gxx))\n",
        "    print(len(gxy))\n",
        "    print(len(gxz))\n",
        "    print(len(gyy))\n",
        "    print(len(gyz))\n",
        "    print(len(gzz))"
      ]
    },
    {
      "cell_type": "code",
      "execution_count": 68,
      "metadata": {
        "id": "VMp6XJ6RUZh4"
      },
      "outputs": [],
      "source": [
        "%config InteractiveShell.ast_node_interactivity = \"last_expr_or_assign\""
      ]
    },
    {
      "cell_type": "code",
      "execution_count": 69,
      "metadata": {
        "id": "F6urnHAr4cnM",
        "colab": {
          "base_uri": "https://localhost:8080/"
        },
        "outputId": "f7dd6bb3-33ba-47ad-b4fa-90758812faf5"
      },
      "outputs": [
        {
          "output_type": "stream",
          "name": "stdout",
          "text": [
            "skipping\n"
          ]
        }
      ],
      "source": [
        "%%script echo skipping\n",
        "\n",
        "plt.hist([np.random.uniform(0, 0.999) for _ in range(n_train_samples)], bins=20)"
      ]
    },
    {
      "cell_type": "code",
      "execution_count": 70,
      "metadata": {
        "id": "2iNL6ULb4cnM",
        "colab": {
          "base_uri": "https://localhost:8080/"
        },
        "outputId": "b6533846-8b4d-4168-dd2b-828f44095773"
      },
      "outputs": [
        {
          "output_type": "stream",
          "name": "stdout",
          "text": [
            "skipping\n"
          ]
        }
      ],
      "source": [
        "%%script echo skipping\n",
        "\n",
        "epsilon"
      ]
    },
    {
      "cell_type": "markdown",
      "metadata": {
        "id": "hydjma5V4cnM"
      },
      "source": [
        "The reason the sampling is not uniformly distributed in the following plots is due to the resampling and the fact that we certain values of e.g. velocity are more likely to violate the speed of light constraint than others."
      ]
    },
    {
      "cell_type": "code",
      "execution_count": 71,
      "metadata": {
        "id": "E5YFdqKjUZh5",
        "colab": {
          "base_uri": "https://localhost:8080/",
          "height": 827
        },
        "outputId": "165c43ee-d9b6-40e7-fe6d-df18317a971b"
      },
      "outputs": [
        {
          "output_type": "display_data",
          "data": {
            "text/plain": [
              "<Figure size 2000x1600 with 14 Axes>"
            ],
            "image/png": "[encoded data removed]"
          },
          "metadata": {}
        }
      ],
      "source": [
        "#%%script echo skipping\n",
        "\n",
        "if not LOAD_DATA_FROM_CSV:\n",
        "    def plot_histogram(data, xlabel, ylabel, position, bins=20, xlog_scale=False, ylog_scale=False):\n",
        "        plt.subplot(4, 5, position)\n",
        "        plt.hist(data, bins=bins)\n",
        "        plt.xlabel(xlabel)\n",
        "        plt.ylabel(ylabel)\n",
        "        if xlog_scale: # Setting does not work expected for epsilon.\n",
        "            plt.xscale(\"log\")\n",
        "        if ylog_scale: # Setting does not work expected for epsilon.\n",
        "            plt.yscale(\"log\")\n",
        "\n",
        "    # Plotting the histograms of rho, vx, epsilon, b0, b1, b2, and b3\n",
        "    bins = 20\n",
        "    plt.figure(figsize=(20, 16))\n",
        "\n",
        "    plot_histogram(rho, \"rho\", \"Frequency\", 1, bins=bins)\n",
        "    plot_histogram(epsilon, \"epsilon\", \"Frequency\", 2, bins=bins)\n",
        "    plot_histogram(vx, \"vx\", \"Frequency\", 3, bins=bins)\n",
        "    plot_histogram(vy, \"vy\", \"Frequency\", 4, bins=bins)\n",
        "    plot_histogram(vz, \"vz\", \"Frequency\", 5, bins=bins)\n",
        "    plot_histogram(Bx, \"Bx\", \"Frequency\", 6, bins=bins)\n",
        "    plot_histogram(By, \"By\", \"Frequency\", 7, bins=bins)\n",
        "    plot_histogram(Bz, \"Bz\", \"Frequency\", 8, bins=bins)\n",
        "\n",
        "    # Plot these\n",
        "    plot_histogram(gxx, \"gxx\", \"Frequency\", 9, bins=bins)\n",
        "    plot_histogram(gxy, \"gxy\", \"Frequency\", 10, bins=bins)\n",
        "    plot_histogram(gxz, \"gxz\", \"Frequency\", 11, bins=bins)\n",
        "    plot_histogram(gyy, \"gyy\", \"Frequency\", 12, bins=bins)\n",
        "    plot_histogram(gyz, \"gyz\", \"Frequency\", 13, bins=bins)\n",
        "    plot_histogram(gzz, \"gzz\", \"Frequency\", 14, bins=bins)\n",
        "\n",
        "\n",
        "    plt.suptitle(\"Primitive variables and metric\")\n",
        "    plt.tight_layout()\n",
        "    plt.show()\n"
      ]
    },
    {
      "cell_type": "code",
      "execution_count": 72,
      "metadata": {
        "id": "sUNNNX5e4cnN"
      },
      "outputs": [],
      "source": [
        "%config InteractiveShell.ast_node_interactivity = \"last_expr_or_assign\""
      ]
    },
    {
      "cell_type": "code",
      "execution_count": 73,
      "metadata": {
        "id": "et4AFTXb4cnN",
        "colab": {
          "base_uri": "https://localhost:8080/",
          "height": 1000
        },
        "outputId": "60cc247f-ab8f-4ca7-c74b-b365cc8424b2"
      },
      "outputs": [
        {
          "output_type": "display_data",
          "data": {
            "text/plain": [
              "<Figure size 1600x1600 with 14 Axes>"
            ],
            "image/png": "[encoded data removed]"
          },
          "metadata": {}
        }
      ],
      "source": [
        "#%%script echo skipping\n",
        "\n",
        "# Variable names\n",
        "variable_names = [\"D\", \"Sx\", \"Sy\", \"Sz\", \"tau\", \"Bconsx\", \"Bconsy\", \"Bconsz\", \"gxx\", \"gxy\", \"gxz\", \"gyy\", \"gyz\", \"gzz\"]\n",
        "\n",
        "# Plotting histograms of the input variables before z-score normalization\n",
        "plt.figure(figsize=(16, 16))\n",
        "plt.suptitle('Histograms of input variables before (or without at all) z-score normalization', y=1.03)\n",
        "\n",
        "for i in range(N_INPUTS):\n",
        "    plt.subplot(7, 2, i+1)\n",
        "    data = x_train[:, i].cpu().numpy() # Convert tensor to numpy array for percentile calculation\n",
        "    lower_bound, upper_bound = np.percentile(data, [1, 100]) # NOTE: Use this instead to visualize all the data.\n",
        "    # lower_bound, upper_bound = np.percentile(data, [1, 90]) # Calculate 1st and 99th percentile\n",
        "\n",
        "    plt.hist(data, bins=50, range=(lower_bound, upper_bound)) # Set range to the calculated percentile range\n",
        "    plt.xlabel(variable_names[i])\n",
        "    plt.xlim(lower_bound, upper_bound) # Set the x limit to match the range of the histogram\n",
        "\n",
        "plt.subplots_adjust(hspace=0.4, wspace=0.4)\n",
        "plt.show()\n",
        "\n",
        "# Same plotting but for the test data. Adjust the percentile range as needed to zoom in.\n",
        "# plt.figure(figsize=(16, 16))\n",
        "# plt.suptitle('Histograms of input variables before (or without at all) z-score normalization (test data)', y=1.03)\n",
        "\n",
        "# for i in range(14):\n",
        "#     plt.subplot(7, 2, i+1)\n",
        "#     data = x_test[:, i].cpu().numpy() # Convert tensor to numpy array for percentile calculation\n",
        "#     #lower_bound, upper_bound = np.percentile(data, [1, 100]) # NOTE: Use this instead to visualize all the data.\n",
        "#     lower_bound, upper_bound = np.percentile(data, [1, 99]) # Use this to zoom in.\n",
        "\n",
        "#     plt.hist(data, bins=50, range=(lower_bound, upper_bound)) # Set range to the calculated percentile range\n",
        "#     plt.xlabel(variable_names[i])\n",
        "#     plt.xlim(lower_bound, upper_bound) # Set the x limit to match the range of the histogram\n",
        "\n",
        "# plt.subplots_adjust(hspace=0.4, wspace=0.4)\n",
        "# plt.show()\n",
        "\n"
      ]
    },
    {
      "cell_type": "markdown",
      "metadata": {
        "id": "oQ8r4X8b4cnO"
      },
      "source": [
        "### Data normalization"
      ]
    },
    {
      "cell_type": "code",
      "execution_count": 74,
      "metadata": {
        "id": "QBlz2cHo4cnO",
        "colab": {
          "base_uri": "https://localhost:8080/"
        },
        "outputId": "5a6a430b-c91e-44d0-f526-29902915d473"
      },
      "outputs": [
        {
          "output_type": "stream",
          "name": "stdout",
          "text": [
            "Summary statistics of input variables before z-score normalization\n",
            "tensor([[ 8.5426e-05,  2.7544e+02,  2.2717e+00,  1.6734e+00,  3.5864e+00],\n",
            "        [-8.6883e+03,  1.1487e+05,  4.0662e+01,  2.2310e+01,  6.7394e+02],\n",
            "        [-2.6898e+04,  7.3231e+04,  3.9356e+01,  2.2117e+01,  4.7883e+02],\n",
            "        [-8.1964e+03,  8.3571e+04,  3.9248e+01,  2.2208e+01,  4.2735e+02],\n",
            "        [-2.8599e+04,  1.2325e+05,  9.4483e+01,  6.9847e+01,  8.8567e+02],\n",
            "        [-1.1223e+01,  1.1090e+01, -2.9456e-02, -3.7542e-02,  5.7370e+00],\n",
            "        [-1.1145e+01,  1.1211e+01,  1.6974e-02,  1.8139e-02,  5.7407e+00],\n",
            "        [-1.1145e+01,  1.1191e+01,  3.2011e-03, -1.2074e-02,  5.7332e+00],\n",
            "        [ 9.0000e-01,  1.1000e+00,  9.9896e-01,  9.9844e-01,  5.7565e-02],\n",
            "        [ 1.0318e-06,  9.9999e-02,  4.9646e-02,  4.9629e-02,  2.8879e-02],\n",
            "        [ 1.4940e-06,  9.9999e-02,  4.9452e-02,  4.9386e-02,  2.8826e-02],\n",
            "        [ 9.0000e-01,  1.1000e+00,  9.9862e-01,  9.9772e-01,  5.7528e-02],\n",
            "        [ 1.9568e-06,  1.0000e-01,  4.9428e-02,  4.9507e-02,  2.8884e-02],\n",
            "        [ 9.0000e-01,  1.1000e+00,  9.9845e-01,  9.9797e-01,  5.7669e-02]])\n"
          ]
        }
      ],
      "source": [
        "# Computing summary statistics of the input variables before and after z-score normalization\n",
        "print('Summary statistics of input variables before z-score normalization')\n",
        "print(torch.stack([torch.min(x_train, dim=0).values, torch.max(x_train, dim=0).values, torch.nanmean(x_train, dim=0), torch.median(x_train, dim=0).values, torch.std(x_train, dim=0)], dim=1))"
      ]
    },
    {
      "cell_type": "markdown",
      "metadata": {
        "id": "xTEmkR1SUZh7"
      },
      "source": [
        "Perform z-score normalization"
      ]
    },
    {
      "cell_type": "code",
      "execution_count": 75,
      "metadata": {
        "id": "skDi8Xbh4cnO"
      },
      "outputs": [],
      "source": [
        "%config InteractiveShell.ast_node_interactivity = \"all\""
      ]
    },
    {
      "cell_type": "code",
      "execution_count": 76,
      "metadata": {
        "id": "yPOv6DxhUZh7"
      },
      "outputs": [],
      "source": [
        "if ZSCORE_NORMALIZATION:\n",
        "    \n",
        "    # TODO: Add magnetic field variables to the normalization if I decide to use the old code that is commented out here.\n",
        "    # # Computing the median of each input variable from the training set using torch.nanmedian function\n",
        "    # D_median = torch.nanmedian(x_train[:, 0])\n",
        "    # Sx_median = torch.nanmedian(x_train[:, 1])\n",
        "    # Sy_median = torch.nanmedian(x_train[:, 2])\n",
        "    # Sz_median = torch.nanmedian(x_train[:, 3])\n",
        "    # tau_median = torch.nanmedian(x_train[:, 4])\n",
        "\n",
        "    # # Computing the standard deviation of each input variable from the training set using torch.std function with a boolean mask to ignore nan values\n",
        "    # D_std = torch.std(x_train[~torch.isnan(x_train[:, 0]), 0])\n",
        "    # Sx_std = torch.std(x_train[~torch.isnan(x_train[:, 1]), 1])\n",
        "    # Sy_std = torch.std(x_train[~torch.isnan(x_train[:, 2]), 2])\n",
        "    # Sz_std = torch.std(x_train[~torch.isnan(x_train[:, 3]), 3])\n",
        "    # tau_std = torch.std(x_train[~torch.isnan(x_train[:, 4]), 4])\n",
        "\n",
        "\n",
        "    # # Applying z-score normalization to both train and test sets using the statistics from the training set\n",
        "    # x_train[:, 0] = torch.sub(x_train[:, 0], D_median).div(D_std)\n",
        "    # x_train[:, 1] = torch.sub(x_train[:, 1], Sx_median).div(Sx_std)\n",
        "    # x_train[:, 2] = torch.sub(x_train[:, 2], Sy_median).div(Sy_std)\n",
        "    # x_train[:, 3] = torch.sub(x_train[:, 3], Sz_median).div(Sz_std)\n",
        "    # x_train[:, 4] = torch.sub(x_train[:, 4], tau_median).div(tau_std)\n",
        "\n",
        "    # x_test[:, 0] = torch.sub(x_test[:, 0], D_median).div(D_std)\n",
        "    # x_test[:, 1] = torch.sub(x_test[:, 1], Sx_median).div(Sx_std)\n",
        "    # x_test[:, 2] = torch.sub(x_test[:, 2], Sy_median).div(Sy_std)\n",
        "    # x_test[:, 3] = torch.sub(x_test[:, 3], Sz_median).div(Sz_std)\n",
        "    # x_test[:, 4] = torch.sub(x_test[:, 4], tau_median).div(tau_std)\n",
        "\n",
        "    # Computing the mean and standard deviation of each column\n",
        "    mean = x_train.mean(dim=0)\n",
        "    std = x_train.std(dim=0)\n",
        "\n",
        "    # Applying z-score normalization\n",
        "    x_train = (x_train - mean) / std\n",
        "    # Use the same mean and std from the training data as we don't want test data leakage.\n",
        "    x_test = (x_test - mean) / std\n",
        "\n"
      ]
    },
    {
      "cell_type": "markdown",
      "metadata": {
        "id": "5xqeJJH34cnc"
      },
      "source": [
        "Plotting the histograms of the input data after normalization if z-score normalization was performed."
      ]
    },
    {
      "cell_type": "code",
      "execution_count": 77,
      "metadata": {
        "id": "IknQpxd94cnc"
      },
      "outputs": [],
      "source": [
        "%config InteractiveShell.ast_node_interactivity = \"last_expr_or_assign\""
      ]
    },
    {
      "cell_type": "code",
      "execution_count": 78,
      "metadata": {
        "id": "u30TMn0q4cnc"
      },
      "outputs": [],
      "source": [
        "if not LOAD_DATA_FROM_CSV:\n",
        "    if ZSCORE_NORMALIZATION:\n",
        "        # Variable names\n",
        "        variable_names = [\"D\", \"Sx\", \"Sy\", \"Sz\", \"tau\", \"Bconsx\", \"Bconsy\", \"Bconsz\", \"gxx\", \"gxy\", \"gxz\", \"gyy\", \"gyz\", \"gzz\"]\n",
        "\n",
        "        # Plotting histograms of the input variables before z-score normalization\n",
        "        plt.figure(figsize=(16, 16))\n",
        "        plt.suptitle('Histograms of input variables before (or without at all) z-score normalization', y=1.03)\n",
        "\n",
        "        for i in range(N_INPUTS):\n",
        "            plt.subplot(7, 2, i+1)\n",
        "            data = x_train[:, i].cpu().numpy() # Convert tensor to numpy array for percentile calculation\n",
        "            lower_bound, upper_bound = np.percentile(data, [1, 100]) # NOTE: Use this instead to visualize all the data.\n",
        "            # lower_bound, upper_bound = np.percentile(data, [1, 90]) # Calculate 1st and 99th percentile\n",
        "\n",
        "            plt.hist(data, bins=50, range=(lower_bound, upper_bound)) # Set range to the calculated percentile range\n",
        "            plt.xlabel(variable_names[i])\n",
        "            plt.xlim(lower_bound, upper_bound) # Set the x limit to match the range of the histogram\n",
        "\n",
        "        plt.subplots_adjust(hspace=0.4, wspace=0.4)\n",
        "        plt.show()"
      ]
    },
    {
      "cell_type": "code",
      "execution_count": 79,
      "metadata": {
        "id": "U_SBKnoX4cnd"
      },
      "outputs": [],
      "source": [
        "if ZSCORE_NORMALIZATION:\n",
        "    # Computing summary statistics of the input variables after z-score normalization\n",
        "    print('Summary statistics of input variables after z-score normalization')\n",
        "    print(torch.stack([torch.min(x_train, dim=0).values, torch.max(x_train, dim=0).values, torch.mean(x_train, dim=0), torch.median(x_train, dim=0).values, torch.std(x_train, dim=0)], dim=1))\n"
      ]
    },
    {
      "cell_type": "markdown",
      "metadata": {
        "id": "34JFkBNc4cnd"
      },
      "source": [
        "### Visualizing input data and labels"
      ]
    },
    {
      "cell_type": "code",
      "execution_count": 80,
      "metadata": {
        "id": "8TkfblGD4cnd",
        "colab": {
          "base_uri": "https://localhost:8080/"
        },
        "outputId": "67809e1b-d8ed-492a-9803-2c1d40b3bc2e"
      },
      "outputs": [
        {
          "output_type": "execute_result",
          "data": {
            "text/plain": [
              "tensor([12.7534, -1.3122,  1.4928,  ...,  5.5481,  6.8137,  0.8087])"
            ]
          },
          "metadata": {},
          "execution_count": 80
        }
      ],
      "source": [
        "x_train\n",
        "y_train\n",
        "x_val\n",
        "y_val\n",
        "x_test\n",
        "y_test"
      ]
    },
    {
      "cell_type": "markdown",
      "metadata": {
        "id": "E96p_MsOUZh9",
        "outputId": "4b95bad0-8f3a-4364-eed1-008e0ce2a5e3"
      },
      "source": [
        "Checking if our output is always positive ~~by plotting a histogram of y_train and y_test tensors~~"
      ]
    },
    {
      "cell_type": "code",
      "execution_count": 81,
      "metadata": {
        "id": "oRXf8ib_4cne",
        "colab": {
          "base_uri": "https://localhost:8080/"
        },
        "outputId": "c85ea1db-b1f7-433e-af0a-3a7888a0acae"
      },
      "outputs": [
        {
          "output_type": "stream",
          "name": "stdout",
          "text": [
            "tensor(True)\n"
          ]
        }
      ],
      "source": [
        "import torch\n",
        "\n",
        "# Create a sample tensor\n",
        "tensor = torch.randn(80000, 14)  # Assuming a tensor of shape [80000, 14]\n",
        "tensor\n",
        "\n",
        "\n",
        "# Check if any element is negative\n",
        "any_negative = torch.any(tensor < 0)\n",
        "\n",
        "# Print the result\n",
        "print(any_negative)\n"
      ]
    },
    {
      "cell_type": "code",
      "execution_count": 82,
      "metadata": {
        "id": "1pWymsnT4cne",
        "colab": {
          "base_uri": "https://localhost:8080/"
        },
        "outputId": "8ab63b7f-7c89-4009-ec88-6e9a4cc4c260"
      },
      "outputs": [
        {
          "output_type": "execute_result",
          "data": {
            "text/plain": [
              "tensor(True)"
            ]
          },
          "metadata": {},
          "execution_count": 82
        }
      ],
      "source": [
        "y_train.shape\n",
        "any_negative = torch.any(y_train < 0)\n",
        "any_negative\n",
        "\n",
        "y_test.shape\n",
        "any_negative = torch.any(y_test < 0)\n",
        "any_negative\n",
        "\n",
        "x_train.shape\n",
        "any_negative = torch.any(x_train < 0)\n",
        "any_negative"
      ]
    },
    {
      "cell_type": "code",
      "execution_count": 83,
      "metadata": {
        "id": "I8j5uTN94cne",
        "colab": {
          "base_uri": "https://localhost:8080/",
          "height": 407
        },
        "outputId": "ab4cf6cf-dfcd-4d80-f155-0c1a53c83fc8"
      },
      "outputs": [
        {
          "output_type": "display_data",
          "data": {
            "text/plain": [
              "<Figure size 800x400 with 3 Axes>"
            ],
            "image/png": "[encoded data removed]"
          },
          "metadata": {}
        }
      ],
      "source": [
        "#%%script echo skipping\n",
        "\n",
        "plt.figure(figsize=(8, 4))\n",
        "plt.subplot(1, 3, 1)\n",
        "plt.hist(y_train.cpu().numpy(), bins=100) # must be cpu here.\n",
        "plt.xlabel(\"y_train\")\n",
        "plt.ylabel(\"Frequency\")\n",
        "plt.xscale(\"log\")\n",
        "plt.subplot(1, 3, 2)\n",
        "plt.hist(y_val.cpu().numpy(), bins=100) # must be cpu here\n",
        "plt.xlabel(\"y_val\")\n",
        "plt.ylabel(\"Frequency\")\n",
        "plt.xscale(\"log\")\n",
        "plt.tight_layout()\n",
        "plt.subplot(1, 3, 3)\n",
        "plt.hist(y_test.cpu().numpy(), bins=100) # must be cpu here\n",
        "plt.xlabel(\"y_test\")\n",
        "plt.ylabel(\"Frequency\")\n",
        "plt.xscale(\"log\")\n",
        "plt.tight_layout()\n",
        "plt.show()\n"
      ]
    },
    {
      "cell_type": "code",
      "execution_count": 84,
      "metadata": {
        "id": "FEgjk--AUZh9"
      },
      "outputs": [],
      "source": [
        "%config InteractiveShell.ast_node_interactivity = \"all\""
      ]
    },
    {
      "cell_type": "markdown",
      "metadata": {
        "id": "r2b9GecHUZh9"
      },
      "source": [
        "## Defining the neural network"
      ]
    },
    {
      "cell_type": "code",
      "execution_count": 85,
      "metadata": {
        "id": "Iv8HA-ZXUZh-"
      },
      "outputs": [],
      "source": [
        "# Defining a class for the network\n",
        "class Net(nn.Module):\n",
        "    \"\"\"A class for creating a network with a\n",
        "    variable number of hidden layers and units.\n",
        "\n",
        "    Attributes:\n",
        "        n_layers (int): The number of hidden layers in the network.\n",
        "        n_units (list): A list of integers representing the number of units in each hidden layer.\n",
        "        hidden_activation (torch.nn.Module): The activation function for the hidden layers.\n",
        "        output_activation (torch.nn.Module): The activation function for the output layer.\n",
        "        layers (torch.nn.ModuleList): A list of linear layers in the network.\n",
        "    \"\"\"\n",
        "\n",
        "    def __init__(self, n_layers, n_units, hidden_activation, output_activation, dropout_rate):\n",
        "        \"\"\"Initializes the network with the given hyperparameters.\n",
        "\n",
        "        Args:\n",
        "            n_layers (int): The number of hidden layers in the network.\n",
        "            n_units (list): A list of integers representing the number of units in each hidden layer.\n",
        "            hidden_activation (torch.nn.Module): The activation function for the hidden layers.\n",
        "            output_activation (torch.nn.Module): The activation function for the output layer.\n",
        "            TODO: [ver. Copilot description] dropout_rate (float): The dropout rate to use for all layers.\n",
        "        \"\"\"\n",
        "        super().__init__()\n",
        "        self.n_layers = n_layers\n",
        "        self.n_units = n_units\n",
        "        self.hidden_activation = hidden_activation\n",
        "        self.output_activation = output_activation\n",
        "        self.dropout_rate = dropout_rate\n",
        "\n",
        "        # Creating a list of linear layers with different numbers of units for each layer\n",
        "        self.layers = nn.ModuleList()\n",
        "        self.dropouts = nn.ModuleList()\n",
        "\n",
        "        self.layers.append(nn.Linear(N_INPUTS, n_units[0]))\n",
        "        self.dropouts.append(nn.Dropout(p=dropout_rate))\n",
        "\n",
        "        for i in range(1, n_layers):\n",
        "            self.layers.append(nn.Linear(n_units[i - 1], n_units[i]))\n",
        "            self.dropouts.append(nn.Dropout(p=dropout_rate))\n",
        "\n",
        "        self.layers.append(nn.Linear(n_units[-1], N_OUTPUTS))\n",
        "\n",
        "        # Adding some assertions to check that the input arguments are valid\n",
        "        assert isinstance(n_layers, int) and n_layers > 0, \"n_layers must be a positive integer\"\n",
        "        assert isinstance(n_units, list) and len(n_units) == n_layers, \"n_units must be a list of length n_layers\"\n",
        "        assert all(isinstance(n, int) and n > 0 for n in n_units), \"n_units must contain positive integers\"\n",
        "        assert isinstance(hidden_activation, nn.Module), \"hidden_activation must be a torch.nn.Module\"\n",
        "        assert isinstance(output_activation, nn.Module), \"output_activation must be a torch.nn.Module\"\n",
        "\n",
        "    def forward(self, x):\n",
        "        \"\"\"Performs a forward pass on the input tensor.\n",
        "\n",
        "        Args:\n",
        "            x (torch.Tensor): The input tensor of shape (batch_size, N_INPUTS).\n",
        "\n",
        "        Returns:\n",
        "            torch.Tensor: The output tensor of shape (batch_size, N_OUTPUTS).\n",
        "        \"\"\"\n",
        "        # Adding an assertion to check that the input tensor has the expected shape and type\n",
        "        assert isinstance(x, torch.Tensor), \"x must be a torch.Tensor\"\n",
        "        assert x.shape[1] == N_INPUTS, f\"x must have shape (batch_size, {N_INPUTS})\"\n",
        "\n",
        "        for layer, dropout in zip(self.layers[:-1], self.dropouts):\n",
        "            x = dropout(self.hidden_activation(layer(x)))\n",
        "        # Applying the linear transformation and the activation function on the output layer\n",
        "        x = self.output_activation(self.layers[-1](x)) # No dropout at output layer\n",
        "\n",
        "        return x # Returning the output tensor\n"
      ]
    },
    {
      "cell_type": "code",
      "execution_count": 86,
      "metadata": {
        "id": "4zShBNVG4cnf",
        "colab": {
          "base_uri": "https://localhost:8080/"
        },
        "outputId": "8cd06dfd-4de4-4f14-da39-b84169f0b0ff"
      },
      "outputs": [
        {
          "output_type": "stream",
          "name": "stdout",
          "text": [
            "skipping\n"
          ]
        }
      ],
      "source": [
        "%%script echo skipping\n",
        "\n",
        "[1,2,3]\n",
        "[1,2,3][:-1]"
      ]
    },
    {
      "cell_type": "code",
      "execution_count": 87,
      "metadata": {
        "id": "3c3WaPyv4cng",
        "colab": {
          "base_uri": "https://localhost:8080/"
        },
        "outputId": "db3d120f-22d3-44de-82bc-d60d0c8cc938"
      },
      "outputs": [
        {
          "output_type": "stream",
          "name": "stdout",
          "text": [
            "1\n",
            "2\n"
          ]
        }
      ],
      "source": [
        "for x in [1,2,3][:-1]:\n",
        "    print(x)\n",
        "\n"
      ]
    },
    {
      "cell_type": "markdown",
      "metadata": {
        "id": "6GNvp55PUZh_"
      },
      "source": [
        "## Defining the model and search space"
      ]
    },
    {
      "cell_type": "code",
      "execution_count": 88,
      "metadata": {
        "id": "9a1opluOUZh_"
      },
      "outputs": [],
      "source": [
        "# Defining a function to create a trial network and optimizer\n",
        "def create_model(trial, optimize):\n",
        "    \"\"\"Creates a trial network and optimizer based on the sampled hyperparameters.\n",
        "\n",
        "    Args:\n",
        "        trial (optuna.trial.Trial): The trial object that contains the hyperparameters.\n",
        "        optimize (boolean): Whether to optimize the hyperparameters or to use predefined values.\n",
        "\n",
        "    Returns:\n",
        "        tuple: A tuple of (net, loss_fn, optimizer, batch_size, n_epochs,\n",
        "            scheduler, loss_name, optimizer_name, scheduler_name,\n",
        "            n_units, n_layers, hidden_activation, output_activation),\n",
        "            where net is the trial network,\n",
        "            loss_fn is the loss function,\n",
        "            optimizer is the optimizer,\n",
        "            batch_size is the batch size,\n",
        "            n_epochs is the number of epochs,\n",
        "            scheduler is the learning rate scheduler,\n",
        "            loss_name is the name of the loss function,\n",
        "            optimizer_name is the name of the optimizer,\n",
        "            scheduler_name is the name of the scheduler,\n",
        "            n_units is a list of integers representing\n",
        "            the number of units in each hidden layer,\n",
        "            n_layers is an integer representing the number of hidden layers in the network,\n",
        "            hidden_activation is a torch.nn.Module representing the activation function for the hidden layers,\n",
        "            output_activation is a torch.nn.Module representing the activation function for the output layer,\n",
        "            lr is the (initial) learning rate.\n",
        "            dropout_rate is the dropout rate.\n",
        "    \"\"\"\n",
        "    # If optimize is True, sample the hyperparameters from the search space\n",
        "    if OPTIMIZE:\n",
        "        n_layers = trial.suggest_int(\"n_layers\", 2, 10)\n",
        "        n_units = [trial.suggest_int(f\"n_units_{i}\", 16, 4096) for i in range(n_layers)]\n",
        "\n",
        "        hidden_activation_name = trial.suggest_categorical(\n",
        "            \"hidden_activation\", [\"ReLU\", \"LeakyReLU\", \"ELU\", \"PReLU\", \"Swish\", \"GELU\", \"SoftPlus\"]\n",
        "        )\n",
        "        output_activation_name = trial.suggest_categorical( \"output_activation\", [\"Linear\"])\n",
        "\n",
        "        loss_name = trial.suggest_categorical( \"loss\", [\"MSE\", \"MAE\", \"Huber\", \"Quantile\"]) \n",
        "\n",
        "        optimizer_name = trial.suggest_categorical( \"optimizer\", [\"Adam\", \"SGD\", \"RMSprop\", \"Adagrad\"] )\n",
        "\n",
        "        lr = trial.suggest_loguniform(\"lr\", 1e-5, 1e-1)\n",
        "\n",
        "        batch_size_list = [32, 64, 128, 256, 512, 1024, 2048]\n",
        "        batch_size = trial.suggest_categorical(\"batch_size\", batch_size_list)\n",
        "        \n",
        "        n_epochs = trial.suggest_int(\"n_epochs\", 50, 150)\n",
        "\n",
        "        # scheduler_name = trial.suggest_categorical(\"scheduler\", [\"CosineAnnealingLR\", \"ReduceLROnPlateau\", \"StepLR\", \"CyclicLR\"])\n",
        "        scheduler_name = trial.suggest_categorical(\"scheduler\", [\"CosineAnnealingLR\", \"ReduceLROnPlateau\", \"StepLR\"])\n",
        "\n",
        "        # Creating the activation functions from their names\n",
        "        if hidden_activation_name == \"ReLU\":\n",
        "            hidden_activation = nn.ReLU()\n",
        "        elif hidden_activation_name == \"LeakyReLU\":\n",
        "            negative_slope = trial.suggest_uniform(\"leakyrelu_slope\", 0.01, 0.3)\n",
        "            hidden_activation = nn.LeakyReLU(negative_slope=negative_slope)\n",
        "        elif hidden_activation_name == \"ELU\":\n",
        "            hidden_activation = nn.ELU() \n",
        "        elif hidden_activation_name == \"PReLU\":\n",
        "            init = trial.suggest_uniform(\"prelu_init\", 0.1, 0.3)\n",
        "            hidden_activation = nn.PReLU(init=init)\n",
        "        elif hidden_activation_name == \"Swish\":\n",
        "            class Swish(nn.Module):\n",
        "                def forward(self, x):\n",
        "                    return x * torch.sigmoid(x)\n",
        "            hidden_activation = Swish()\n",
        "        elif hidden_activation_name == \"GELU\":\n",
        "            hidden_activation = nn.GELU()\n",
        "        elif hidden_activation_name == \"SoftPlus\":\n",
        "            beta = trial.suggest_uniform(\"softplus_beta\", 0.5, 1.5)\n",
        "            hidden_activation = nn.Softplus(beta=beta) # We don't optimize thresshold subparameters, as it's mainly for numerical stability.\n",
        "\n",
        "        dropout_rate = trial.suggest_uniform(\"dropout_rate\", 0.0, 0.5)\n",
        "\n",
        "\n",
        "    # If optimize is False, use the predefined values\n",
        "    else:\n",
        "        # Setting the hyperparameters to the predefined values\n",
        "        n_layers = N_LAYERS_NO_OPT\n",
        "        n_units = N_UNITS_NO_OPT\n",
        "        hidden_activation_name = HIDDEN_ACTIVATION_NAME_NO_OPT\n",
        "        output_activation_name = OUTPUT_ACTIVATION_NAME_NO_OPT\n",
        "        loss_name = LOSS_NAME_NO_OPT\n",
        "        optimizer_name = OPTIMIZER_NAME_NO_OPT\n",
        "        lr = LR_NO_OPT\n",
        "        batch_size = BATCH_SIZE_NO_OPT\n",
        "        n_epochs = N_EPOCHS_NO_OPT\n",
        "        scheduler_name = SCHEDULER_NAME_NO_OPT\n",
        "\n",
        "        # Creating the activation functions from their names\n",
        "        if hidden_activation_name == \"ReLU\":\n",
        "            hidden_activation = nn.ReLU()\n",
        "        elif hidden_activation_name == \"LeakyReLU\":\n",
        "            negative_slope = 0.01\n",
        "            hidden_activation = nn.LeakyReLU(negative_slope=negative_slope)\n",
        "        elif hidden_activation_name == \"ELU\":\n",
        "            hidden_activation = nn.ELU() \n",
        "        elif hidden_activation_name == \"PReLU\":\n",
        "            init = 0.25\n",
        "            hidden_activation = nn.PReLU(init=init)\n",
        "        elif hidden_activation_name == \"Swish\":\n",
        "            class Swish(nn.Module):\n",
        "                def forward(self, x):\n",
        "                    return x * torch.sigmoid(x)\n",
        "            hidden_activation = Swish()\n",
        "        elif hidden_activation_name == \"GELU\":\n",
        "            hidden_activation = nn.GELU()\n",
        "        elif hidden_activation_name == \"SoftPlus\":\n",
        "            beta = 1\n",
        "            hidden_activation = nn.Softplus(beta=beta) # We don't optimize threshold subparameter, as it's mainly for numerical stability.\n",
        "\n",
        "        dropout_rate = DROPOUT_RATE_NO_OPT\n",
        "\n",
        "\n",
        "    # We used to have options here, but since we have a regression problem with continuous output, we only use Linear.\n",
        "    output_activation = nn.Identity()\n",
        "\n",
        "    # Creating the loss function from its name\n",
        "    if loss_name == \"MSE\":\n",
        "        loss_fn = nn.MSELoss()\n",
        "    elif loss_name == \"MAE\":\n",
        "        loss_fn = nn.L1Loss()\n",
        "    elif loss_name == \"Huber\":\n",
        "        loss_fn = nn.SmoothL1Loss() \n",
        "    elif loss_name == \"Quantile\":\n",
        "        def quantile_loss(y_pred, y_true, q=0.5):\n",
        "            e = y_pred - y_true\n",
        "            return torch.mean(torch.max(q*e, (q-1)*e))\n",
        "        loss_fn = quantile_loss\n",
        "    else:\n",
        "        def log_cosh_loss(y_pred, y_true):\n",
        "            return torch.mean(torch.log(torch.cosh(y_pred - y_true)))\n",
        "        loss_fn = log_cosh_loss\n",
        "\n",
        "    # Creating the network with the sampled hyperparameters\n",
        "    net = Net(n_layers, n_units, hidden_activation, output_activation, dropout_rate).to(device)\n",
        "\n",
        "\n",
        "    if OPTIMIZE:\n",
        "        # Creating the optimizer from its name\n",
        "        if optimizer_name == \"SGD\":\n",
        "            weight_decay = trial.suggest_loguniform(\"weight_decay\", 1e-5, 1e-2)\n",
        "            momentum = trial.suggest_uniform(\"momentum\", 0.0, 0.99)\n",
        "            optimizer = optim.SGD(net.parameters(), lr=lr, weight_decay=weight_decay, momentum=momentum)\n",
        "        elif optimizer_name == \"Adam\":\n",
        "            weight_decay = trial.suggest_loguniform(\"weight_decay\", 1e-5, 1e-2)\n",
        "            beta1 = trial.suggest_uniform(\"beta1\", 0.9, 0.999)\n",
        "            beta2 = trial.suggest_uniform(\"beta2\", 0.999, 0.9999)\n",
        "            optimizer = optim.Adam(net.parameters(), lr=lr, weight_decay=weight_decay, betas=(beta1, beta2))\n",
        "        elif optimizer_name == \"RMSprop\":\n",
        "            optimizer = optim.RMSprop(net.parameters(), lr=lr)\n",
        "        else:\n",
        "            optimizer = optim.Adagrad(net.parameters(), lr=lr)\n",
        "\n",
        "        # Creating the learning rate scheduler from its name\n",
        "        if scheduler_name == \"StepLR\":\n",
        "            step_size = trial.suggest_int(\"step_size\", 5, 15)\n",
        "            gamma = trial.suggest_uniform(\"gamma\", 0.1, 0.5)\n",
        "            scheduler = optim.lr_scheduler.StepLR(optimizer, step_size=step_size, gamma=gamma)\n",
        "        elif scheduler_name == \"ExponentialLR\":\n",
        "            gamma = trial.suggest_uniform(\"gamma\", 0.8, 0.99)\n",
        "            scheduler = optim.lr_scheduler.ExponentialLR(optimizer, gamma=gamma)\n",
        "        elif scheduler_name == \"CosineAnnealingLR\":\n",
        "            if n_epochs < 150:\n",
        "                t_max_fraction = trial.suggest_uniform('t_max_fraction', 0.1, 0.3)\n",
        "            elif n_epochs > 250:\n",
        "                t_max_fraction = trial.suggest_uniform('t_max_fraction', 0.05, 0.1)\n",
        "            else:\n",
        "                t_max_fraction = trial.suggest_uniform('t_max_fraction', 0.1, 0.2)\n",
        "\n",
        "            T_max = int(n_epochs * t_max_fraction)\n",
        "            eta_min = trial.suggest_loguniform(\"eta_min\", 1e-7, 1e-2)\n",
        "            scheduler = optim.lr_scheduler.CosineAnnealingLR(optimizer, T_max=T_max, eta_min=eta_min)\n",
        "        elif scheduler_name == \"ReduceLROnPlateau\":\n",
        "            factor = trial.suggest_uniform(\"factor\", 0.1, 0.5)\n",
        "            patience = trial.suggest_int(\"patience\", 5, 10)\n",
        "            threshold = trial.suggest_loguniform(\"threshold\", 1e-4, 1e-2)\n",
        "            scheduler = optim.lr_scheduler.ReduceLROnPlateau(\n",
        "                optimizer, mode=\"min\", factor=factor, patience=patience, threshold=threshold\n",
        "            )\n",
        "        elif scheduler_name == \"CyclicLR\":\n",
        "            base_lr = trial.suggest_loguniform(\"base_lr\", 1e-6, 1e-2)\n",
        "            max_lr = trial.suggest_loguniform(\"max_lr\", 1e-4, 1)\n",
        "            step_size_up = trial.suggest_int(\"step_size_up\", 200, 2000)\n",
        "            scheduler = optim.lr_scheduler.CyclicLR(optimizer, base_lr=base_lr, max_lr=max_lr, step_size_up=step_size_up)\n",
        "        else:\n",
        "            scheduler = None\n",
        "    else:\n",
        "        # Creating the optimizer from its name\n",
        "        if optimizer_name == \"SGD\":\n",
        "            optimizer = optim.SGD(net.parameters(), lr=lr)\n",
        "        elif optimizer_name == \"Adam\":\n",
        "            optimizer = optim.Adam(net.parameters(), lr=lr)\n",
        "        elif optimizer_name == \"RMSprop\":\n",
        "            optimizer = optim.RMSprop(net.parameters(), lr=lr)\n",
        "        else:\n",
        "            optimizer = optim.Adagrad(net.parameters(), lr=lr)\n",
        "\n",
        "        # Creating the learning rate scheduler from its name\n",
        "        if scheduler_name == \"StepLR\":\n",
        "            scheduler = optim.lr_scheduler.StepLR(optimizer, step_size=10, gamma=0.1)\n",
        "        elif scheduler_name == \"ExponentialLR\":\n",
        "            scheduler = optim.lr_scheduler.ExponentialLR(optimizer, gamma=0.9)\n",
        "        elif scheduler_name == \"CosineAnnealingLR\":\n",
        "            scheduler = optim.lr_scheduler.CosineAnnealingLR(optimizer)\n",
        "        elif scheduler_name == \"ReduceLROnPlateau\":\n",
        "            scheduler = optim.lr_scheduler.ReduceLROnPlateau(\n",
        "                        optimizer, mode=\"min\", factor=0.18979341786654758, patience=11, threshold=0.0017197466122611932 #, min_lr=1e-6\n",
        "                    )\n",
        "        elif scheduler_name == \"CyclicLR\":\n",
        "            # TODO: Change these appropriately.\n",
        "            base_lr = 1e-6\n",
        "            max_lr = 1e-4\n",
        "            step_size_up = 200\n",
        "            scheduler = optim.lr_scheduler.CyclicLR(optimizer, base_lr=base_lr, max_lr=max_lr, step_size_up=step_size_up)\n",
        "        else:\n",
        "            scheduler = None\n",
        "\n",
        "    # Returning all variables needed for saving and loading\n",
        "    return net, loss_fn, optimizer, batch_size, n_epochs, scheduler, loss_name, optimizer_name, scheduler_name, n_units, n_layers, hidden_activation, output_activation, lr, dropout_rate\n",
        "\n",
        "\n"
      ]
    },
    {
      "cell_type": "markdown",
      "metadata": {
        "id": "l-czA7VvUZiD"
      },
      "source": [
        " ## The training and evaluation loop\n",
        "\n",
        " We first define a couple of functions used in the training and evaluation."
      ]
    },
    {
      "cell_type": "code",
      "execution_count": 89,
      "metadata": {
        "id": "aD6FQNmxUZiD"
      },
      "outputs": [],
      "source": [
        "# Defining a function that computes loss and metrics for a given batch\n",
        "def compute_loss_and_metrics(y_pred, y_true, loss_fn):\n",
        "    \"\"\"Computes loss and metrics for a given batch.\n",
        "\n",
        "    Args:\n",
        "        y_pred (torch.Tensor): The predicted pressure tensor of shape (batch_size, 1).\n",
        "        y_true (torch.Tensor): The true pressure tensor of shape (batch_size,).\n",
        "        loss_fn (torch.nn.Module or function): The loss function to use.\n",
        "\n",
        "    Returns:\n",
        "        tuple: A tuple of (loss, l1_norm), where loss is a scalar tensor,\n",
        "            l1_norm is L1 norm for relative error of pressure,\n",
        "            each being a scalar tensor.\n",
        "            linf_norm is Linf norm for relative error of pressure.\n",
        "    \"\"\"\n",
        "    # Reshaping the target tensor to match the input tensor\n",
        "    y_true = y_true.view(-1, 1)\n",
        "\n",
        "    # Computing the loss using the loss function\n",
        "    loss = loss_fn(y_pred, y_true)\n",
        "\n",
        "    # Computing the relative error of pressure\n",
        "    rel_error = torch.abs((y_pred - y_true) / y_true)\n",
        "\n",
        "    # Computing the L1 norm for the relative error of pressure\n",
        "    l1_norm = torch.mean(rel_error) \n",
        "    # Computing the Linf norm for the relative error of pressure\n",
        "    linf_norm = torch.max(rel_error) \n",
        "\n",
        "    # Returning the loss and metrics\n",
        "    return loss, l1_norm, linf_norm\n",
        "\n",
        "\n",
        "# Defining a function that updates the learning rate scheduler with validation loss if applicable\n",
        "def update_scheduler(scheduler, test_loss):\n",
        "    \"\"\"Updates the learning rate scheduler with validation loss if applicable.\n",
        "\n",
        "    Args:\n",
        "        scheduler (torch.optim.lr_scheduler._LRScheduler or None): The learning rate scheduler to use.\n",
        "        test_loss (float): The validation loss to use.\n",
        "\n",
        "    Returns:\n",
        "        None\n",
        "    \"\"\"\n",
        "    # Checking if scheduler is not None\n",
        "    if scheduler is not None:\n",
        "        # Checking if scheduler is ReduceLROnPlateau\n",
        "        if isinstance(scheduler, optim.lr_scheduler.ReduceLROnPlateau):\n",
        "            # Updating the scheduler with test_loss\n",
        "            scheduler.step(test_loss)\n",
        "        else:\n",
        "            # Updating the scheduler without test_loss\n",
        "            scheduler.step()\n"
      ]
    },
    {
      "cell_type": "markdown",
      "metadata": {
        "id": "w1nE662UUZiE"
      },
      "source": [
        "Now for the actual training and evaluation loop,"
      ]
    },
    {
      "cell_type": "code",
      "execution_count": 90,
      "metadata": {
        "id": "YAOjgKW3UZiF"
      },
      "outputs": [],
      "source": [
        "# Defining a function to train and evaluate a network\n",
        "def train_and_eval(net, loss_fn, optimizer, batch_size, n_epochs, scheduler, train_loader, val_loader, test_loader, trial=None):\n",
        "    # Initializing lists to store the losses and metrics for each epoch\n",
        "    train_losses = []\n",
        "    val_losses = []\n",
        "    test_losses = []\n",
        "    train_metrics = []\n",
        "    val_metrics = []\n",
        "    test_metrics = []\n",
        "\n",
        "\n",
        "    # Creating a SummaryWriter object to log data for tensorboard\n",
        "    writer = tbx.SummaryWriter()\n",
        "\n",
        "    # Looping over the epochs\n",
        "    for epoch in range(n_epochs):\n",
        "\n",
        "        # Setting the network to training mode\n",
        "        net.train()\n",
        "\n",
        "        # Initializing variables to store the total loss and metrics for the train set\n",
        "        train_loss = 0.0\n",
        "        train_l1_norm = 0.0\n",
        "        train_linf_norm = 0.0\n",
        "\n",
        "        # Looping over the batches in the train set\n",
        "        for x_batch, y_batch in train_loader:\n",
        "\n",
        "            # Moving the batch tensors to the device\n",
        "            x_batch = x_batch.to(device)\n",
        "            y_batch = y_batch.to(device)\n",
        "\n",
        "            # Zeroing the gradients\n",
        "            optimizer.zero_grad()\n",
        "\n",
        "            # Performing a forward pass and computing the loss and metrics\n",
        "            y_pred = net(x_batch)\n",
        "            loss, l1_norm, linf_norm = compute_loss_and_metrics(y_pred, y_batch, loss_fn)\n",
        "\n",
        "\n",
        "            # Performing a backward pass and updating the weights\n",
        "            loss.backward()\n",
        "            optimizer.step()\n",
        "\n",
        "            # Updating the total loss and metrics for the train set\n",
        "            train_loss += loss.item() * x_batch.size(0)\n",
        "            train_l1_norm += l1_norm.item() * x_batch.size(0)\n",
        "            train_linf_norm += linf_norm.item() * x_batch.size(0)\n",
        "\n",
        "        # Computing the average loss and metrics for the train set\n",
        "        train_loss /= len(train_loader.dataset)\n",
        "        train_l1_norm /= len(train_loader.dataset)\n",
        "        train_linf_norm /= len(train_loader.dataset)\n",
        "\n",
        "        # Appending the average loss and metrics for the train set to the lists\n",
        "        train_losses.append(train_loss)\n",
        "        train_metrics.append(\n",
        "            {\n",
        "                \"l1_norm\": train_l1_norm,\n",
        "                \"linf_norm\": train_linf_norm,\n",
        "            }\n",
        "        )\n",
        "\n",
        "        # Logging the average loss and metrics for the train set to tensorboard\n",
        "        writer.add_scalar(\"Loss/train\", train_loss, epoch)\n",
        "        writer.add_scalar(\"L1 norm/train\", train_l1_norm, epoch)\n",
        "        writer.add_scalar(\"Linf norm/train\", train_linf_norm, epoch)\n",
        "\n",
        "        if val_loader is not None:\n",
        "            net.eval()\n",
        "            val_loss = 0.0\n",
        "            val_l1_norm = 0.0\n",
        "            val_linf_norm = 0.0\n",
        "\n",
        "            with torch.no_grad():\n",
        "                for x_batch, y_batch in val_loader:\n",
        "                    x_batch = x_batch.to(device)\n",
        "                    y_batch = y_batch.to(device)\n",
        "                    y_pred = net(x_batch)\n",
        "                    loss, l1_norm, linf_norm = compute_loss_and_metrics(y_pred, y_batch, loss_fn)\n",
        "\n",
        "                    val_loss += loss.item() * x_batch.size(0)\n",
        "                    val_l1_norm += l1_norm.item() * x_batch.size(0)\n",
        "                    val_linf_norm += linf_norm.item() * x_batch.size(0)\n",
        "\n",
        "            val_loss /= len(val_loader.dataset)\n",
        "            val_l1_norm /= len(val_loader.dataset)\n",
        "            val_linf_norm /= len(val_loader.dataset)\n",
        "\n",
        "            val_losses.append(val_loss)\n",
        "            val_metrics.append(\n",
        "                {\n",
        "                    \"l1_norm\": val_l1_norm,\n",
        "                    \"linf_norm\": val_linf_norm,\n",
        "                }\n",
        "            )\n",
        "\n",
        "            writer.add_scalar(\"Loss/val\", val_loss, epoch)\n",
        "            writer.add_scalar(\"L1 norm/val\", val_l1_norm, epoch)\n",
        "            writer.add_scalar(\"Linf norm/val\", val_linf_norm, epoch)\n",
        "            print(f\"Epoch {epoch+1}/{n_epochs}.. Train loss: {train_loss:.3f}.. Val loss: {val_loss:.3f}.. Train L1 norm: {train_l1_norm:.3f}.. Val L1 norm: {val_l1_norm:.3f}.. Train Linf norm: {train_linf_norm:.3f}.. Val Linf norm: {val_linf_norm:.3f}\")\n",
        "\n",
        "\n",
        "            update_scheduler(scheduler, val_loss)\n",
        "\n",
        "        if test_loader is not None:\n",
        "            net.eval()\n",
        "            test_loss = 0.0\n",
        "            test_l1_norm = 0.0\n",
        "            test_linf_norm = 0.0\n",
        "\n",
        "            with torch.no_grad():\n",
        "                for x_batch, y_batch in test_loader:\n",
        "                    x_batch = x_batch.to(device)\n",
        "                    y_batch = y_batch.to(device)\n",
        "                    y_pred = net(x_batch)\n",
        "                    loss, l1_norm, linf_norm = compute_loss_and_metrics(y_pred, y_batch, loss_fn)\n",
        "\n",
        "                    test_loss += loss.item() * x_batch.size(0)\n",
        "                    test_l1_norm += l1_norm.item() * x_batch.size(0)\n",
        "                    test_linf_norm += linf_norm.item() * x_batch.size(0)\n",
        "\n",
        "            test_loss /= len(test_loader.dataset)\n",
        "            test_l1_norm /= len(test_loader.dataset)\n",
        "            test_linf_norm /= len(test_loader.dataset)\n",
        "\n",
        "            test_losses.append(test_loss)\n",
        "            test_metrics.append(\n",
        "                {\n",
        "                    \"l1_norm\": test_l1_norm,\n",
        "                    \"linf_norm\": test_linf_norm,\n",
        "                }\n",
        "            )\n",
        "\n",
        "            writer.add_scalar(\"Loss/test\", test_loss, epoch)\n",
        "            writer.add_scalar(\"L1 norm/test\", test_l1_norm, epoch)\n",
        "            writer.add_scalar(\"Linf norm/test\", test_linf_norm, epoch)\n",
        "            print(f\"Epoch {epoch+1}/{n_epochs}.. Train loss: {train_loss:.3f}.. Test loss: {test_loss:.3f}.. Train L1 norm: {train_l1_norm:.3f}.. Test L1 norm: {test_l1_norm:.3f}.. Train Linf norm: {train_linf_norm:.3f}.. Test Linf norm: {test_linf_norm:.3f}\")\n",
        "\n",
        "\n",
        "        # Reporting the intermediate metric value to Optuna if trial is not None\n",
        "        if trial is not None:\n",
        "            trial.report(val_l1_norm, epoch)\n",
        "\n",
        "            if trial.should_prune():\n",
        "                raise optuna.TrialPruned()\n",
        "\n",
        "    # Closing the SummaryWriter object\n",
        "    writer.close()\n",
        "\n",
        "    # Returning the losses and metrics lists\n",
        "    return train_losses, val_losses, test_losses, train_metrics, val_metrics, test_metrics\n"
      ]
    },
    {
      "cell_type": "markdown",
      "metadata": {
        "id": "xg9jz0SvUZiQ"
      },
      "source": [
        "## The objective function and hyperparameter tuning"
      ]
    },
    {
      "cell_type": "code",
      "execution_count": 91,
      "metadata": {
        "id": "fmRncQPuUZiR"
      },
      "outputs": [],
      "source": [
        "# Defining an objective function for Optuna to minimize\n",
        "def objective(trial):\n",
        "    \"\"\"Defines an objective function for Optuna to minimize.\n",
        "\n",
        "    Args:\n",
        "        trial (optuna.trial.Trial): The trial object that contains the hyperparameters.\n",
        "\n",
        "    Returns:\n",
        "        float: The validation L1 norm to minimize.\n",
        "    \"\"\"\n",
        "    # Creating a trial network and optimizer using the create_model function\n",
        "    net, \\\n",
        "    loss_fn, \\\n",
        "    optimizer, \\\n",
        "    batch_size, \\\n",
        "    n_epochs, \\\n",
        "    scheduler, \\\n",
        "    loss_name, \\\n",
        "    optimizer_name, \\\n",
        "    scheduler_name, \\\n",
        "    n_units, \\\n",
        "    n_layers, \\\n",
        "    hidden_activation, \\\n",
        "    output_activation, \\\n",
        "    lr, \\\n",
        "    dropout_rate = create_model(trial, optimize=True)\n",
        "\n",
        "    # Create separate data loaders for training and validation\n",
        "    train_loader = torch.utils.data.DataLoader(\n",
        "        torch.utils.data.TensorDataset(x_train, y_train), batch_size=batch_size, shuffle=True\n",
        "    )\n",
        "    val_loader = torch.utils.data.DataLoader(\n",
        "        torch.utils.data.TensorDataset(x_val, y_val), batch_size=batch_size\n",
        "    )\n",
        "    \n",
        "    _, _, _, _, val_metrics, _ = train_and_eval(\n",
        "        net, loss_fn, optimizer, batch_size, n_epochs, scheduler, train_loader, val_loader, None, trial\n",
        "    )\n",
        "\n",
        "    # Returning the last validation L1 norm as the objective value to minimize\n",
        "    return val_metrics[-1][\"l1_norm\"]"
      ]
    },
    {
      "cell_type": "code",
      "execution_count": null,
      "metadata": {
        "id": "GyES4NAyUZiS",
        "colab": {
          "base_uri": "https://localhost:8080/"
        },
        "outputId": "a92f53a5-416d-4d23-f25e-3740df1b3d53"
      },
      "outputs": [
        {
          "output_type": "stream",
          "name": "stderr",
          "text": [
            "[I 2023-05-31 19:53:19,999] A new study created in RDB with name: no-name-b8e7fbdd-999e-431f-9e38-034ef9a7bdc8\n",
            "<ipython-input-88-5ce9a06c2c29>:44: FutureWarning: suggest_loguniform has been deprecated in v3.0.0. This feature will be removed in v6.0.0. See https://github.com/optuna/optuna/releases/tag/v3.0.0. Use suggest_float(..., log=True) instead.\n",
            "  lr = trial.suggest_loguniform(\"lr\", 1e-5, 1e-1)\n",
            "<ipython-input-88-5ce9a06c2c29>:73: FutureWarning: suggest_uniform has been deprecated in v3.0.0. This feature will be removed in v6.0.0. See https://github.com/optuna/optuna/releases/tag/v3.0.0. Use suggest_float instead.\n",
            "  beta = trial.suggest_uniform(\"softplus_beta\", 0.5, 1.5)\n",
            "<ipython-input-88-5ce9a06c2c29>:76: FutureWarning: suggest_uniform has been deprecated in v3.0.0. This feature will be removed in v6.0.0. See https://github.com/optuna/optuna/releases/tag/v3.0.0. Use suggest_float instead.\n",
            "  dropout_rate = trial.suggest_uniform(\"dropout_rate\", 0.0, 0.5)\n",
            "<ipython-input-88-5ce9a06c2c29>:178: FutureWarning: suggest_uniform has been deprecated in v3.0.0. This feature will be removed in v6.0.0. See https://github.com/optuna/optuna/releases/tag/v3.0.0. Use suggest_float instead.\n",
            "  factor = trial.suggest_uniform(\"factor\", 0.1, 0.5)\n",
            "<ipython-input-88-5ce9a06c2c29>:180: FutureWarning: suggest_loguniform has been deprecated in v3.0.0. This feature will be removed in v6.0.0. See https://github.com/optuna/optuna/releases/tag/v3.0.0. Use suggest_float(..., log=True) instead.\n",
            "  threshold = trial.suggest_loguniform(\"threshold\", 1e-4, 1e-2)\n"
          ]
        },
        {
          "output_type": "stream",
          "name": "stdout",
          "text": [
            "Epoch 1/81.. Train loss: 168754403.038.. Val loss: 4.449.. Train L1 norm: 166522563.371.. Val L1 norm: 2.385.. Train Linf norm: 100725144077.376.. Val Linf norm: 2115.465\n",
            "Epoch 2/81.. Train loss: 5.654.. Val loss: 4.304.. Train L1 norm: 2.776.. Val L1 norm: 4.410.. Train Linf norm: 1176.082.. Val Linf norm: 5043.643\n",
            "Epoch 3/81.. Train loss: 5.048.. Val loss: 4.237.. Train L1 norm: 3.064.. Val L1 norm: 3.920.. Train Linf norm: 1612.663.. Val Linf norm: 4427.557\n",
            "Epoch 4/81.. Train loss: 4.530.. Val loss: 4.176.. Train L1 norm: 3.216.. Val L1 norm: 4.117.. Train Linf norm: 1760.141.. Val Linf norm: 4754.327\n",
            "Epoch 5/81.. Train loss: 6.085.. Val loss: 4.233.. Train L1 norm: 3.829.. Val L1 norm: 3.787.. Train Linf norm: 3144.210.. Val Linf norm: 4357.659\n",
            "Epoch 6/81.. Train loss: 4.797.. Val loss: 4.181.. Train L1 norm: 3.181.. Val L1 norm: 4.282.. Train Linf norm: 1749.241.. Val Linf norm: 5095.775\n",
            "Epoch 7/81.. Train loss: 4.229.. Val loss: 4.111.. Train L1 norm: 2.954.. Val L1 norm: 4.905.. Train Linf norm: 1474.493.. Val Linf norm: 6004.399\n",
            "Epoch 8/81.. Train loss: 4.273.. Val loss: 4.046.. Train L1 norm: 3.473.. Val L1 norm: 5.920.. Train Linf norm: 2433.555.. Val Linf norm: 7435.990\n",
            "Epoch 9/81.. Train loss: 4.120.. Val loss: 4.023.. Train L1 norm: 3.967.. Val L1 norm: 6.184.. Train Linf norm: 3049.076.. Val Linf norm: 7827.954\n",
            "Epoch 10/81.. Train loss: 4.033.. Val loss: 4.003.. Train L1 norm: 3.744.. Val L1 norm: 6.984.. Train Linf norm: 2668.282.. Val Linf norm: 8941.104\n",
            "Epoch 11/81.. Train loss: 4.034.. Val loss: 4.013.. Train L1 norm: 4.051.. Val L1 norm: 7.946.. Train Linf norm: 2970.178.. Val Linf norm: 10258.783\n",
            "Epoch 12/81.. Train loss: 3.978.. Val loss: 3.983.. Train L1 norm: 4.026.. Val L1 norm: 7.803.. Train Linf norm: 2363.585.. Val Linf norm: 10093.113\n",
            "Epoch 13/81.. Train loss: 4.015.. Val loss: 3.963.. Train L1 norm: 3.833.. Val L1 norm: 7.888.. Train Linf norm: 2112.205.. Val Linf norm: 10235.222\n",
            "Epoch 14/81.. Train loss: 3.989.. Val loss: 3.949.. Train L1 norm: 4.382.. Val L1 norm: 8.023.. Train Linf norm: 3247.754.. Val Linf norm: 10438.195\n",
            "Epoch 15/81.. Train loss: 3.952.. Val loss: 3.940.. Train L1 norm: 4.217.. Val L1 norm: 8.261.. Train Linf norm: 2374.256.. Val Linf norm: 10776.910\n",
            "Epoch 16/81.. Train loss: 3.952.. Val loss: 3.926.. Train L1 norm: 4.248.. Val L1 norm: 8.345.. Train Linf norm: 2957.908.. Val Linf norm: 10910.781\n",
            "Epoch 17/81.. Train loss: 3.942.. Val loss: 3.920.. Train L1 norm: 4.505.. Val L1 norm: 8.567.. Train Linf norm: 3354.117.. Val Linf norm: 11225.813\n",
            "Epoch 18/81.. Train loss: 3.990.. Val loss: 3.909.. Train L1 norm: 4.528.. Val L1 norm: 8.627.. Train Linf norm: 3075.336.. Val Linf norm: 11323.383\n",
            "Epoch 19/81.. Train loss: 3.910.. Val loss: 3.902.. Train L1 norm: 4.547.. Val L1 norm: 8.802.. Train Linf norm: 3441.285.. Val Linf norm: 11574.774\n",
            "Epoch 20/81.. Train loss: 3.868.. Val loss: 3.896.. Train L1 norm: 4.654.. Val L1 norm: 8.914.. Train Linf norm: 2986.406.. Val Linf norm: 11737.813\n",
            "Epoch 21/81.. Train loss: 3.892.. Val loss: 3.912.. Train L1 norm: 4.693.. Val L1 norm: 9.452.. Train Linf norm: 3375.500.. Val Linf norm: 12465.491\n",
            "Epoch 22/81.. Train loss: 3.902.. Val loss: 3.893.. Train L1 norm: 4.685.. Val L1 norm: 9.383.. Train Linf norm: 3068.241.. Val Linf norm: 12391.638\n",
            "Epoch 23/81.. Train loss: 3.915.. Val loss: 3.874.. Train L1 norm: 4.968.. Val L1 norm: 9.519.. Train Linf norm: 3268.649.. Val Linf norm: 12588.780\n",
            "Epoch 24/81.. Train loss: 3.837.. Val loss: 3.893.. Train L1 norm: 4.743.. Val L1 norm: 10.004.. Train Linf norm: 2943.596.. Val Linf norm: 13232.263\n",
            "Epoch 25/81.. Train loss: 3.988.. Val loss: 3.853.. Train L1 norm: 4.986.. Val L1 norm: 9.339.. Train Linf norm: 3614.775.. Val Linf norm: 12377.736\n",
            "Epoch 26/81.. Train loss: 3.912.. Val loss: 3.849.. Train L1 norm: 4.690.. Val L1 norm: 9.511.. Train Linf norm: 3086.016.. Val Linf norm: 12621.353\n",
            "Epoch 27/81.. Train loss: 3.828.. Val loss: 3.868.. Train L1 norm: 4.862.. Val L1 norm: 10.141.. Train Linf norm: 3104.551.. Val Linf norm: 13466.726\n",
            "Epoch 28/81.. Train loss: 3.851.. Val loss: 3.864.. Train L1 norm: 4.903.. Val L1 norm: 10.197.. Train Linf norm: 3553.606.. Val Linf norm: 13546.610\n",
            "Epoch 29/81.. Train loss: 3.866.. Val loss: 3.837.. Train L1 norm: 5.030.. Val L1 norm: 9.609.. Train Linf norm: 3718.234.. Val Linf norm: 12769.891\n",
            "Epoch 30/81.. Train loss: 3.854.. Val loss: 3.853.. Train L1 norm: 4.947.. Val L1 norm: 10.195.. Train Linf norm: 3580.949.. Val Linf norm: 13567.306\n",
            "Epoch 31/81.. Train loss: 3.862.. Val loss: 3.838.. Train L1 norm: 5.230.. Val L1 norm: 10.131.. Train Linf norm: 3864.515.. Val Linf norm: 13489.583\n",
            "Epoch 32/81.. Train loss: 3.864.. Val loss: 3.827.. Train L1 norm: 5.136.. Val L1 norm: 10.006.. Train Linf norm: 3649.613.. Val Linf norm: 13328.862\n",
            "Epoch 33/81.. Train loss: 3.822.. Val loss: 3.828.. Train L1 norm: 5.046.. Val L1 norm: 10.059.. Train Linf norm: 3537.784.. Val Linf norm: 13397.466\n",
            "Epoch 34/81.. Train loss: 3.824.. Val loss: 3.831.. Train L1 norm: 5.130.. Val L1 norm: 10.154.. Train Linf norm: 3572.508.. Val Linf norm: 13522.132\n",
            "Epoch 35/81.. Train loss: 3.803.. Val loss: 3.832.. Train L1 norm: 5.081.. Val L1 norm: 10.227.. Train Linf norm: 3633.883.. Val Linf norm: 13618.442\n",
            "Epoch 36/81.. Train loss: 3.792.. Val loss: 3.836.. Train L1 norm: 5.175.. Val L1 norm: 10.316.. Train Linf norm: 3697.101.. Val Linf norm: 13736.438\n",
            "Epoch 37/81.. Train loss: 3.866.. Val loss: 3.832.. Train L1 norm: 5.165.. Val L1 norm: 10.186.. Train Linf norm: 3636.111.. Val Linf norm: 13564.828\n",
            "Epoch 38/81.. Train loss: 3.792.. Val loss: 3.836.. Train L1 norm: 5.229.. Val L1 norm: 10.329.. Train Linf norm: 3617.524.. Val Linf norm: 13753.133\n",
            "Epoch 39/81.. Train loss: 3.797.. Val loss: 3.837.. Train L1 norm: 5.130.. Val L1 norm: 10.372.. Train Linf norm: 3558.107.. Val Linf norm: 13812.611\n",
            "Epoch 40/81.. Train loss: 3.857.. Val loss: 3.836.. Train L1 norm: 5.218.. Val L1 norm: 10.349.. Train Linf norm: 3786.542.. Val Linf norm: 13781.848\n",
            "Epoch 41/81.. Train loss: 3.804.. Val loss: 3.836.. Train L1 norm: 5.240.. Val L1 norm: 10.350.. Train Linf norm: 3885.456.. Val Linf norm: 13783.191\n",
            "Epoch 42/81.. Train loss: 3.805.. Val loss: 3.837.. Train L1 norm: 5.184.. Val L1 norm: 10.385.. Train Linf norm: 3665.227.. Val Linf norm: 13829.860\n",
            "Epoch 43/81.. Train loss: 4.087.. Val loss: 3.834.. Train L1 norm: 5.179.. Val L1 norm: 10.319.. Train Linf norm: 3683.475.. Val Linf norm: 13744.654\n",
            "Epoch 44/81.. Train loss: 3.810.. Val loss: 3.835.. Train L1 norm: 5.196.. Val L1 norm: 10.330.. Train Linf norm: 3195.808.. Val Linf norm: 13759.316\n",
            "Epoch 45/81.. Train loss: 3.810.. Val loss: 3.835.. Train L1 norm: 5.233.. Val L1 norm: 10.338.. Train Linf norm: 3872.439.. Val Linf norm: 13769.395\n",
            "Epoch 46/81.. Train loss: 3.834.. Val loss: 3.834.. Train L1 norm: 5.183.. Val L1 norm: 10.322.. Train Linf norm: 3832.294.. Val Linf norm: 13748.234\n",
            "Epoch 47/81.. Train loss: 3.809.. Val loss: 3.834.. Train L1 norm: 5.156.. Val L1 norm: 10.324.. Train Linf norm: 3801.824.. Val Linf norm: 13750.606\n",
            "Epoch 48/81.. Train loss: 3.842.. Val loss: 3.833.. Train L1 norm: 5.125.. Val L1 norm: 10.318.. Train Linf norm: 3738.531.. Val Linf norm: 13743.653\n",
            "Epoch 49/81.. Train loss: 3.782.. Val loss: 3.834.. Train L1 norm: 5.145.. Val L1 norm: 10.328.. Train Linf norm: 3646.700.. Val Linf norm: 13755.836\n",
            "Epoch 50/81.. Train loss: 3.787.. Val loss: 3.834.. Train L1 norm: 5.102.. Val L1 norm: 10.339.. Train Linf norm: 3673.848.. Val Linf norm: 13770.383\n",
            "Epoch 51/81.. Train loss: 3.797.. Val loss: 3.834.. Train L1 norm: 5.211.. Val L1 norm: 10.341.. Train Linf norm: 3868.109.. Val Linf norm: 13773.834\n",
            "Epoch 52/81.. Train loss: 3.775.. Val loss: 3.834.. Train L1 norm: 5.248.. Val L1 norm: 10.351.. Train Linf norm: 3697.327.. Val Linf norm: 13786.301\n",
            "Epoch 53/81.. Train loss: 3.817.. Val loss: 3.834.. Train L1 norm: 5.228.. Val L1 norm: 10.349.. Train Linf norm: 3752.838.. Val Linf norm: 13784.544\n",
            "Epoch 54/81.. Train loss: 3.822.. Val loss: 3.834.. Train L1 norm: 5.200.. Val L1 norm: 10.351.. Train Linf norm: 3779.528.. Val Linf norm: 13786.908\n",
            "Epoch 55/81.. Train loss: 3.820.. Val loss: 3.834.. Train L1 norm: 5.218.. Val L1 norm: 10.351.. Train Linf norm: 3647.853.. Val Linf norm: 13786.642\n",
            "Epoch 56/81.. Train loss: 3.838.. Val loss: 3.834.. Train L1 norm: 5.213.. Val L1 norm: 10.351.. Train Linf norm: 3779.968.. Val Linf norm: 13786.496\n",
            "Epoch 57/81.. Train loss: 3.800.. Val loss: 3.834.. Train L1 norm: 5.126.. Val L1 norm: 10.350.. Train Linf norm: 3641.816.. Val Linf norm: 13785.419\n"
          ]
        }
      ],
      "source": [
        "# Visualize Optuna study while its running, alternative to tensorboard\n",
        "from IPython import display\n",
        "def callback(study, trial):\n",
        "    display.clear_output(wait=True)\n",
        "    optuna.visualization.plot_optimization_history(study).show()\n",
        "\n",
        "if OPTIMIZE:\n",
        "    # Include the path to the SQLite file in your create_study call.\n",
        "    study = optuna.create_study(direction=\"minimize\", \n",
        "                                sampler=optuna.samplers.TPESampler(), \n",
        "                                pruner=optuna.pruners.MedianPruner(), \n",
        "                                storage=f'sqlite:///{STUDY_NAME}.db')\n",
        "\n",
        "    #study.optimize(objective, n_trials=N_TRIALS, callbacks=[callback])\n",
        "    study.optimize(objective, n_trials=N_TRIALS)"
      ]
    },
    {
      "cell_type": "code",
      "source": [
        "if OPTIMIZE:\n",
        "# TODO: Plotting currently fails. Once resolved, use the callback version of the study too.\n",
        "#    # Optimization History\n",
        "#    ov.plot_optimization_history(study).show()\n",
        "#\n",
        "#    # Slice Plot\n",
        "#    ov.plot_slice(study).show()\n",
        "#\n",
        "#    # Contour Plot\n",
        "#    ov.plot_contour(study).show()\n",
        "#\n",
        "#    # Parallel Coordinate Plot\n",
        "#    ov.plot_parallel_coordinate(study).show()\n",
        "#\n",
        "#    # Hyperparameter Importance Plot\n",
        "#    ov.plot_param_importances(study).show()\n",
        "#\n",
        "    # Best trial information\n",
        "    print(\"Best trial:\")\n",
        "    trial = study.best_trial\n",
        "    print(\"  Value: \", trial.value)\n",
        "    print(\"  Params: \")\n",
        "    for key, value in trial.params.items():\n",
        "        print(f\"    {key}: {value}\")\n",
        "\n",
        "    # Saving the study to a pickle file\n",
        "    with open(f'{STUDY_NAME}.pkl', 'wb') as f:\n",
        "        pickle.dump(study, f)\n",
        "        save_file(f'{STUDY_NAME}.pkl')\n",
        "\n",
        "    # Save the best trial separately as well.\n",
        "    best_trial_params = study.best_trial.params\n",
        "    with open('best_trial_params.json', 'w') as f:\n",
        "        json.dump(best_trial_params, f)\n",
        "        save_file('best_trial_params.json')\n",
        "\n"
      ],
      "metadata": {
        "id": "gwbpts6-XYqy"
      },
      "execution_count": null,
      "outputs": []
    },
    {
      "cell_type": "markdown",
      "metadata": {
        "id": "jmMfE9_dUZiS"
      },
      "source": [
        "## Training the model"
      ]
    },
    {
      "cell_type": "code",
      "execution_count": null,
      "metadata": {
        "id": "phyiHlWEUZiT"
      },
      "outputs": [],
      "source": [
        "# Creating the best network and optimizer using the best hyperparameters\n",
        "if OPTIMIZE:\n",
        "    net, \\\n",
        "    loss_fn, \\\n",
        "    optimizer, \\\n",
        "    batch_size, \\\n",
        "    n_epochs, \\\n",
        "    scheduler, \\\n",
        "    loss_name, \\\n",
        "    optimizer_name, \\\n",
        "    scheduler_name, \\\n",
        "    n_units, \\\n",
        "    n_layers, \\\n",
        "    hidden_activation, \\\n",
        "    output_activation, \\\n",
        "    lr, \\\n",
        "    dropout_rate = create_model(trial, optimize=True)\n",
        "\n",
        "# Creating the network with predefined hyperparameters\n",
        "else:\n",
        "    net, \\\n",
        "    loss_fn, \\\n",
        "    optimizer, \\\n",
        "    batch_size, \\\n",
        "    n_epochs, \\\n",
        "    scheduler, \\\n",
        "    loss_name, \\\n",
        "    optimizer_name, \\\n",
        "    scheduler_name, \\\n",
        "    n_units, \\\n",
        "    n_layers, \\\n",
        "    hidden_activation, \\\n",
        "    output_activation, \\\n",
        "    lr, \\\n",
        "    dropout_rate = create_model(trial=None, optimize=True)"
      ]
    },
    {
      "cell_type": "code",
      "execution_count": null,
      "metadata": {
        "id": "_yq-oY81UZiU"
      },
      "outputs": [],
      "source": [
        "print(\"loss_fn:\", net)\n",
        "print(\"loss_fn:\", loss_fn)\n",
        "print(\"batch_size:\", batch_size)\n",
        "print(\"n_epochs:\", n_epochs)\n",
        "print(\"scheduler:\", scheduler)\n",
        "print(\"loss_name:\", loss_name)\n",
        "print(\"optimizer_name:\", optimizer_name)\n",
        "print(\"scheduler_name:\", scheduler_name)\n",
        "print(\"n_units:\", n_units)\n",
        "print(\"n_layers:\", n_layers)\n",
        "print(\"hidden_activation:\", hidden_activation)\n",
        "print(\"output_activation:\", output_activation)\n",
        "print(\"lr\", lr)\n",
        "print(\"dropout_rate\", dropout_rate)"
      ]
    },
    {
      "cell_type": "markdown",
      "metadata": {
        "id": "E7aLWdZyUZiW",
        "outputId": "8fb1e8c6-5aa3-43a1-a255-712cf9396d0c"
      },
      "source": [
        "After optimizing with Optuna and deciding on the best hyperparameters, we combine the training and validatin set, using that as the new training set for training the model, and then evaluate the model on the test set"
      ]
    },
    {
      "cell_type": "code",
      "execution_count": null,
      "metadata": {
        "id": "jIBboeQX4cno"
      },
      "outputs": [],
      "source": [
        "x_train_val = torch.cat((x_train, x_val), 0)\n",
        "y_train_val = torch.cat((y_train, y_val), 0)\n",
        "\n",
        "train_val_loader = torch.utils.data.DataLoader(\n",
        "    torch.utils.data.TensorDataset(x_train_val, y_train_val), batch_size=batch_size, shuffle=True\n",
        ")\n",
        "test_loader = torch.utils.data.DataLoader(\n",
        "    torch.utils.data.TensorDataset(x_test, y_test), batch_size=batch_size\n",
        ")\n",
        "\n",
        "train_losses, _, test_losses, train_metrics, _, test_metrics, = train_and_eval(\n",
        "    net, loss_fn, optimizer, batch_size, n_epochs, scheduler, train_val_loader, None, test_loader, None\n",
        ")"
      ]
    },
    {
      "cell_type": "markdown",
      "metadata": {
        "id": "akNucrgMUZiW"
      },
      "source": [
        "## Saving"
      ]
    },
    {
      "cell_type": "code",
      "execution_count": null,
      "metadata": {
        "id": "LHsrs2Y-UZic"
      },
      "outputs": [],
      "source": [
        "# create a dictionary to store the rest of the variables\n",
        "import json\n",
        "\n",
        "# save the network to a .pth file\n",
        "torch.save(net.state_dict(), \"net.pth\")\n",
        "save_file(\"net.pth\")\n",
        "\n",
        "# save the optimizer to a .pth file\n",
        "torch.save(optimizer.state_dict(), \"optimizer.pth\")\n",
        "save_file(\"optimizer.pth\")\n",
        "\n",
        "# save the scheduler to a .pth file if it is not None\n",
        "if scheduler is not None:\n",
        "  torch.save(scheduler.state_dict(), \"scheduler.pth\")\n",
        "  save_file(\"scheduler.pth\")\n",
        "\n",
        "# create a dictionary to store the rest of the variables\n",
        "if isinstance(hidden_activation.__class__.__name__, list):\n",
        "    hidden_activation_name = hidden_activation.__class__.__name__[0]\n",
        "else:\n",
        "    hidden_activation_name = hidden_activation.__class__.__name__\n",
        "\n",
        "if isinstance(output_activation.__class__.__name__, list):\n",
        "    output_activation_name = output_activation.__class__.__name__[0]\n",
        "else:\n",
        "    output_activation_name = output_activation.__class__.__name__\n",
        "\n",
        "var_dict = {\n",
        "  \"batch_size\": batch_size,\n",
        "  \"n_epochs\": n_epochs,\n",
        "  \"loss_name\": loss_name,\n",
        "  \"optimizer_name\": optimizer_name,\n",
        "  \"scheduler_name\": scheduler_name,\n",
        "  \"n_units\": n_units,\n",
        "  \"n_layers\": n_layers,\n",
        "  \"hidden_activation_name\": hidden_activation_name,\n",
        "  \"output_activation_name\": output_activation_name,\n",
        "  \"lr\": lr,\n",
        "  \"dropout_rate\": dropout_rate\n",
        "}\n",
        "\n",
        "# Adding the subparameters to the var_dict for saving\n",
        "if hidden_activation_name == \"LeakyReLU\":\n",
        "  var_dict[\"leakyrelu_slope\"] = hidden_activation.negative_slope\n",
        "elif hidden_activation_name == \"PReLU\":\n",
        "  var_dict[\"prelu_init\"] = hidden_activation.weight.item()  # .item() is needed because weight is a tensor\n",
        "elif hidden_activation_name == \"SoftPlus\":\n",
        "  var_dict[\"softplus_beta\"] = hidden_activation.beta\n",
        "\n",
        "# save the dictionary to a .json file\n",
        "with open(\"var_dict.json\", \"w\") as f:\n",
        "  json.dump(var_dict, f)\n",
        "save_file(\"var_dict.json\")\n",
        "\n",
        "# Saving the output of the training using pandas\n",
        "train_df = pd.DataFrame(\n",
        "    {\n",
        "        \"train_loss\": train_losses,\n",
        "        \"test_loss\": test_losses,\n",
        "        \"train_l1_norm\": [m[\"l1_norm\"] for m in train_metrics],\n",
        "        \"test_l1_norm\": [m[\"l1_norm\"] for m in test_metrics],\n",
        "        \"train_linf_norm\": [m[\"linf_norm\"] for m in train_metrics],\n",
        "        \"test_linf_norm\": [m[\"linf_norm\"] for m in test_metrics],\n",
        "    }\n",
        ")\n",
        "train_df.to_csv(\"train_output.csv\", index=False)\n",
        "save_file(\"train_output.csv\")"
      ]
    },
    {
      "cell_type": "code",
      "execution_count": null,
      "metadata": {
        "id": "WDNrony-4cnp"
      },
      "outputs": [],
      "source": [
        "[key for key in var_dict.keys()]"
      ]
    },
    {
      "cell_type": "code",
      "execution_count": null,
      "metadata": {
        "id": "G_Duv4pT4cnp"
      },
      "outputs": [],
      "source": [
        "#%%script echo skipping\n",
        "\n",
        "hidden_activation_name\n",
        "output_activation_name"
      ]
    },
    {
      "cell_type": "markdown",
      "metadata": {
        "id": "qU23l7dIUZie"
      },
      "source": [
        "## Visualizing the results"
      ]
    },
    {
      "cell_type": "code",
      "execution_count": null,
      "metadata": {
        "id": "cippWZS6UZie"
      },
      "outputs": [],
      "source": [
        "# First figure: Train and Test L1 Norm\n",
        "plt.figure(figsize=(6, 4))\n",
        "plt.plot([m[\"l1_norm\"] for m in train_metrics_loaded], label=\"Train L1 Norm\", color='blue')\n",
        "plt.plot([m[\"l1_norm\"] for m in test_metrics_loaded], label=\"Test L1 Norm\", color='red')\n",
        "plt.xlabel(\"Epoch\")\n",
        "plt.ylabel(\"L1 Norm\")\n",
        "plt.title(\"NNGRX Train and Test L1 Norm per Epoch\")\n",
        "plt.yscale(\"log\")\n",
        "plt.grid(True)\n",
        "plt.xlim(right=200)\n",
        "plt.ylim(1e-3, 1e2)\n",
        "plt.legend()\n",
        "plt.tight_layout()\n",
        "# plt.savefig(\"NNGRX_L1_norm_plot.png\", dpi=300)\n",
        "plt.savefig(\"NNGRX_L1_norm_plot.png\")\n",
        "\n",
        "# Second figure: Train and Test Linf Norm\n",
        "plt.figure(figsize=(6, 4))\n",
        "plt.plot([m[\"linf_norm\"] for m in train_metrics_loaded], label=\"Train Linf Norm\", color='blue')\n",
        "plt.plot([m[\"linf_norm\"] for m in test_metrics_loaded], label=\"Test Linf Norm\", color='red')\n",
        "plt.xlabel(\"Epoch\")\n",
        "plt.ylabel(\"Linf Norm\")\n",
        "plt.title(\"NNGRX Train and Test Linf Norm per Epoch\")\n",
        "plt.yscale(\"log\")\n",
        "plt.grid(True)\n",
        "plt.xlim(right=200)\n",
        "plt.ylim(1e-3, 1e2)\n",
        "plt.legend()\n",
        "plt.tight_layout()\n",
        "# plt.savefig(\"NNGRX_Linf_norm_plot.png\", dpi=300)\n",
        "plt.savefig(\"NNGRX_Linf_norm_plot.png\")\n",
        "\n",
        "# Third figure: MSE of training data and test data\n",
        "plt.figure(figsize=(6, 4))\n",
        "plt.plot(train_losses_loaded, label=\"Training Data\", color='blue')\n",
        "plt.plot(test_losses_loaded, label=\"Test Data\", color='red')\n",
        "plt.xlabel(\"Epoch\")\n",
        "plt.ylabel(\"MSE\")\n",
        "plt.title(\"NNGRX MSE of Training and Test Data per Epoch\")\n",
        "plt.yscale(\"log\")\n",
        "plt.grid(True)\n",
        "plt.xlim(right=200)\n",
        "plt.ylim(1e-7, 1e0)\n",
        "plt.legend()\n",
        "plt.tight_layout()\n",
        "# plt.savefig(\"NNGRX_MSE_plot.png\", dpi=300)\n",
        "plt.savefig(\"NNGRX_MSE_plot.png\")"
      ]
    },
    {
      "cell_type": "markdown",
      "metadata": {
        "id": "tiEDutxIUZig"
      },
      "source": [
        "## Loading"
      ]
    },
    {
      "cell_type": "code",
      "execution_count": null,
      "metadata": {
        "id": "p7Mj990wUZih"
      },
      "outputs": [],
      "source": [
        "# load the dictionary from the .json file\n",
        "with open(\"var_dict.json\", \"r\") as f:\n",
        "  var_dict_loaded = json.load(f)\n",
        "\n",
        "# extract the variables from the dictionary\n",
        "batch_size_loaded = var_dict_loaded[\"batch_size\"]\n",
        "n_epochs_loaded = var_dict_loaded[\"n_epochs\"]\n",
        "loss_name_loaded = var_dict_loaded[\"loss_name\"]\n",
        "optimizer_name_loaded = var_dict_loaded[\"optimizer_name\"]\n",
        "scheduler_name_loaded = var_dict_loaded[\"scheduler_name\"]\n",
        "n_units_loaded = var_dict_loaded[\"n_units\"]\n",
        "n_layers_loaded = var_dict_loaded[\"n_layers\"]\n",
        "hidden_activation_name_loaded = var_dict_loaded[\"hidden_activation_name\"]\n",
        "output_activation_name_loaded = var_dict_loaded[\"output_activation_name\"]\n",
        "lr_loaded = var_dict_loaded[\"lr\"]\n",
        "dropout_rate_loaded = var_dict_loaded[\"dropout_rate\"]\n",
        "\n",
        "# Loading the activation functions with subparameters\n",
        "if hidden_activation_name_loaded == \"ReLU\":\n",
        "  hidden_activation_loaded = nn.ReLU()\n",
        "elif hidden_activation_name_loaded == \"LeakyReLU\":\n",
        "  negative_slope_loaded = var_dict_loaded.get(\"leakyrelu_slope\", 0.01)  # For backwards compatibiltiy with earlier models; default to 0.01 if not present\n",
        "  hidden_activation_loaded = nn.LeakyReLU(negative_slope=negative_slope_loaded)\n",
        "elif hidden_activation_name_loaded == \"ELU\":\n",
        "  hidden_activation_loaded = nn.ELU()\n",
        "elif hidden_activation_name_loaded == \"PReLU\":\n",
        "  init_loaded = var_dict_loaded.get(\"prelu_init\", 0.25)  # Default to 0.25 if not present\n",
        "  hidden_activation_loaded = nn.PReLU(init=init_loaded)\n",
        "elif hidden_activation_name_loaded == \"Swish\":\n",
        "    class Swish(nn.Module):\n",
        "        def forward(self, x):\n",
        "            return x * torch.sigmoid(x)\n",
        "    hidden_activation_loaded = Swish()\n",
        "elif hidden_activation_name_loaded == \"GELU\":\n",
        "    hidden_activation_loaded = nn.GELU()\n",
        "elif hidden_activation_name_loaded == \"SoftPlus\":\n",
        "  beta_loaded = var_dict_loaded.get(\"softplus_beta\", 1)  # Default to 1 if not present\n",
        "  hidden_activation_loaded = nn.Softplus(beta=beta_loaded)\n",
        "\n",
        "\n",
        "\n",
        "# We used to have options here, but since we have a regression problem with continuous output, we only use Linear.\n",
        "output_activation_loaded = nn.Identity()\n",
        "\n",
        "# load the network from the .pth file\n",
        "net_loaded = Net(\n",
        "    n_layers_loaded, \n",
        "    n_units_loaded, \n",
        "    hidden_activation_loaded, \n",
        "    output_activation_loaded, \n",
        "    dropout_rate_loaded\n",
        ").to(device)\n",
        "\n",
        "if torch.cuda.is_available():\n",
        " net_loaded.load_state_dict(torch.load(\"net.pth\"))\n",
        "else: \n",
        "  net_loaded.load_state_dict(torch.load(\"net.pth\", map_location=torch.device('cpu')))\n",
        "\n",
        "\n",
        "# Creating the loss function from its name\n",
        "if loss_name_loaded == \"MSE\":\n",
        "    loss_fn_loaded = nn.MSELoss()\n",
        "elif loss_name_loaded == \"MAE\":\n",
        "    loss_fn_loaded = nn.L1Loss()\n",
        "elif loss_name_loaded == \"Huber\":\n",
        "    loss_fn_loaded = nn.SmoothL1Loss() \n",
        "elif loss_name_loaded == \"Quantile\":\n",
        "    def quantile_loss(y_pred, y_true, q=0.5):\n",
        "        e = y_pred - y_true\n",
        "        return torch.mean(torch.max(q*e, (q-1)*e))\n",
        "    loss_fn_loaded = quantile_loss\n",
        "\n",
        "# load the optimizer from the .pth file\n",
        "if torch.cuda.is_available():\n",
        "  optimizer_loaded_state_dict = torch.load(\"optimizer.pth\")\n",
        "else:\n",
        "  optimizer_loaded_state_dict = torch.load(\"optimizer.pth\", map_location=torch.device('cpu'))\n",
        "\n",
        "if optimizer_name_loaded == \"SGD\":\n",
        "  # Added getting the weight decay and momentum parameters from the state dict\n",
        "  weight_decay_loaded = optimizer_loaded_state_dict[\"param_groups\"][0][\"weight_decay\"]\n",
        "  momentum_loaded = optimizer_loaded_state_dict[\"param_groups\"][0][\"momentum\"]\n",
        "  optimizer_loaded = optim.SGD(net_loaded.parameters(), lr=lr_loaded, weight_decay=weight_decay_loaded, momentum=momentum_loaded)\n",
        "elif optimizer_name_loaded == \"Adam\":\n",
        "  # Added getting the weight decay and beta parameters from the state dict\n",
        "  weight_decay_loaded = optimizer_loaded_state_dict[\"param_groups\"][0][\"weight_decay\"]\n",
        "  beta1_loaded = optimizer_loaded_state_dict[\"param_groups\"][0][\"betas\"][0]\n",
        "  beta2_loaded = optimizer_loaded_state_dict[\"param_groups\"][0][\"betas\"][1]\n",
        "  optimizer_loaded = optim.Adam(net_loaded.parameters(), lr=lr_loaded, weight_decay=weight_decay_loaded, betas=(beta1_loaded, beta2_loaded))\n",
        "elif optimizer_name_loaded == \"RMSprop\":\n",
        "  optimizer_loaded = optim.RMSprop(net_loaded.parameters(), lr=lr_loaded)\n",
        "elif optimizer_name_loaded == \"Adagrad\":\n",
        "  # Added loading the Adagrad optimizer\n",
        "  optimizer_loaded = optim.Adagrad(net_loaded.parameters(), lr=lr_loaded)\n",
        "optimizer_loaded.load_state_dict(optimizer_loaded_state_dict)\n",
        "\n",
        "# load the scheduler from the .pth file\n",
        "if torch.cuda.is_available():\n",
        "  scheduler_loaded_state_dict = torch.load(\"scheduler.pth\")\n",
        "else: \n",
        "  scheduler_loaded_state_dict = torch.load(\"scheduler.pth\", map_location=torch.device('cpu'))\n",
        "\n",
        "if scheduler_name_loaded == \"StepLR\":\n",
        "  # Added getting the step_size and gamma parameters from the state dict\n",
        "  step_size_loaded = scheduler_loaded_state_dict[\"step_size\"]\n",
        "  gamma_loaded = scheduler_loaded_state_dict[\"gamma\"]\n",
        "  scheduler_loaded = optim.lr_scheduler.StepLR(optimizer_loaded, step_size=step_size_loaded, gamma=gamma_loaded)\n",
        "elif scheduler_name_loaded == \"ExponentialLR\":\n",
        "  # Added getting the gamma parameter from the state dict\n",
        "  gamma_loaded = scheduler_loaded_state_dict[\"gamma\"]\n",
        "  scheduler_loaded = optim.lr_scheduler.ExponentialLR(optimizer_loaded, gamma=gamma_loaded)\n",
        "elif scheduler_name_loaded == \"CosineAnnealingLR\":\n",
        "  # Added getting the T_max parameter from the state dict\n",
        "  T_max_loaded = scheduler_loaded_state_dict[\"T_max\"]\n",
        "  scheduler_loaded = optim.lr_scheduler.CosineAnnealingLR(optimizer_loaded, T_max=T_max_loaded)\n",
        "elif scheduler_name_loaded == \"ReduceLROnPlateau\":\n",
        "  # Added getting the mode, factor, patience, threshold and min_lr parameters from the state dict\n",
        "  mode_loaded = scheduler_loaded_state_dict[\"mode\"]\n",
        "  factor_loaded = scheduler_loaded_state_dict[\"factor\"]\n",
        "  patience_loaded = scheduler_loaded_state_dict[\"patience\"]\n",
        "  threshold_loaded = scheduler_loaded_state_dict[\"threshold\"]\n",
        "  min_lr_loaded = scheduler_loaded_state_dict[\"min_lrs\"][0]\n",
        "  scheduler_loaded = optim.lr_scheduler.ReduceLROnPlateau(\n",
        "                    optimizer_loaded, mode=mode_loaded, factor=factor_loaded, patience=patience_loaded, threshold=threshold_loaded, min_lr=min_lr_loaded\n",
        "                )\n",
        "elif scheduler_name_loaded == \"CyclicLR\":  # Added CyclicLR\n",
        "    base_lr_loaded = scheduler_loaded_state_dict[\"base_lr\"]\n",
        "    max_lr_loaded = scheduler_loaded_state_dict[\"max_lr\"]\n",
        "    step_size_up_loaded = scheduler_loaded_state_dict[\"step_size_up\"]\n",
        "    scheduler_loaded = optim.lr_scheduler.CyclicLR(\n",
        "                    optimizer, base_lr=base_lr_loaded, max_lr=max_lr_loaded, step_size_up=step_size_up_loaded\n",
        "                )\n",
        "else:\n",
        "  scheduler_loaded = None\n",
        "\n",
        "if scheduler_loaded is not None:\n",
        "  # Added loading the state dict to the scheduler_loaded\n",
        "  scheduler_loaded.load_state_dict(scheduler_loaded_state_dict)\n",
        "\n",
        "# Loading the output of the training using pandas\n",
        "train_df_loaded = pd.read_csv(\"train_output.csv\")\n",
        "train_losses_loaded = train_df_loaded[\"train_loss\"].tolist()\n",
        "test_losses_loaded = train_df_loaded[\"test_loss\"].tolist()\n",
        "train_metrics_loaded = [\n",
        "    {\n",
        "        \"l1_norm\": train_df_loaded[\"train_l1_norm\"][i],\n",
        "        \"linf_norm\": train_df_loaded[\"train_linf_norm\"][i],\n",
        "    }\n",
        "    for i in range(len(train_df_loaded))\n",
        "]\n",
        "test_metrics_loaded = [\n",
        "    {\n",
        "        \"l1_norm\": train_df_loaded[\"test_l1_norm\"][i],\n",
        "        \"linf_norm\": train_df_loaded[\"test_linf_norm\"][i],\n",
        "    }\n",
        "    for i in range(len(train_df_loaded))\n",
        "]\n",
        "\n",
        "if STUDY_NAME is not None:\n",
        "  # Loading the study from the SQLite file\n",
        "  # TODO: Fix this one, or we just use pickle\n",
        "  # study_loaded_db = optuna.load_study(study_name=f'{STUDY_NAME}', \n",
        "  #                           storage=f'sqlite:///{STUDY_NAME}.db')\n",
        "\n",
        "  # Loading the study from the pickle file\n",
        "  with open(f'{STUDY_NAME}.pkl', 'rb') as f:\n",
        "      study_loaded_pkl = pickle.load(f)\n",
        "\n",
        "  # To load the best trial's parameters.\n",
        "  with open('best_trial_params.json', 'r') as f:\n",
        "      best_trial_params_loaded = json.load(f)"
      ]
    },
    {
      "cell_type": "code",
      "execution_count": null,
      "metadata": {
        "id": "n-4pZ2s64cnr"
      },
      "outputs": [],
      "source": [
        "# %%script echo skipping\n",
        "\n",
        "var_dict_loaded[\"batch_size\"]\n",
        "var_dict_loaded[\"n_epochs\"]\n",
        "var_dict_loaded[\"loss_name\"]\n",
        "var_dict_loaded[\"optimizer_name\"]\n",
        "var_dict_loaded[\"scheduler_name\"]\n",
        "var_dict_loaded[\"n_units\"]\n",
        "var_dict_loaded[\"n_layers\"]\n",
        "var_dict_loaded[\"hidden_activation_name\"]\n",
        "var_dict_loaded[\"output_activation_name\"]\n",
        "var_dict_loaded[\"lr\"]\n",
        "var_dict_loaded[\"dropout_rate\"]"
      ]
    },
    {
      "cell_type": "code",
      "source": [
        "if STUDY_NAME is not None:\n",
        "    study_loaded_pkl\n",
        "    study_loaded_pkl.best_params"
      ],
      "metadata": {
        "id": "T-lWGuopXf1d"
      },
      "execution_count": null,
      "outputs": []
    },
    {
      "cell_type": "code",
      "execution_count": null,
      "metadata": {
        "id": "QQ0MKbI04cnr"
      },
      "outputs": [],
      "source": [
        "%%script echo skipping\n",
        "\n",
        "scheduler_loaded_state_dict[\"mode\"]\n",
        "scheduler_loaded_state_dict[\"factor\"]\n",
        "scheduler_loaded_state_dict[\"patience\"]\n",
        "scheduler_loaded_state_dict[\"threshold\"]\n",
        "scheduler_loaded_state_dict[\"min_lrs\"]\n",
        "\n",
        "\n",
        "scheduler_loaded_state_dict[\"base_lr\"]\n",
        "scheduler_loaded_state_dict[\"max_lr\"]\n",
        "scheduler_loaded_state_dict[\"step_size_up\"]"
      ]
    },
    {
      "cell_type": "code",
      "execution_count": null,
      "metadata": {
        "id": "bHMdkxsm4cnr"
      },
      "outputs": [],
      "source": [
        "# %%script echo skipping\n",
        "\n",
        "var_dict\n",
        "hidden_activation_name_loaded"
      ]
    },
    {
      "cell_type": "code",
      "execution_count": null,
      "metadata": {
        "id": "GQ_fcj7zUZii"
      },
      "outputs": [],
      "source": [
        "# %%script echo skipping\n",
        "\n",
        "if hidden_activation_name_loaded == \"LeakyReLU\":\n",
        "  var_dict_loaded[\"leakyrelu_slope\"]\n",
        "if hidden_activation_name_loaded == \"PReLU\":\n",
        "  var_dict_loaded[\"prelu_init\"]\n",
        "elif hidden_activation_name_loaded == \"SoftPlus\":\n",
        "  var_dict_loaded[\"softplus_beta\"]\n",
        "\n",
        "batch_size_loaded\n",
        "n_epochs_loaded\n",
        "loss_name_loaded\n",
        "optimizer_name_loaded\n",
        "scheduler_name_loaded\n",
        "n_units_loaded\n",
        "n_layers_loaded\n",
        "hidden_activation_name_loaded\n",
        "output_activation_name_loaded\n",
        "lr_loaded\n",
        "dropout_rate_loaded\n",
        "hidden_activation_loaded\n",
        "output_activation_loaded\n",
        "net_loaded\n",
        "net_loaded.__dict__ # print the subparameters of the network\n",
        "loss_fn_loaded\n",
        "optimizer_loaded\n",
        "optimizer_loaded.__dict__ # print the subparameters of the optimizer\n",
        "if scheduler_loaded is not None:\n",
        "  scheduler_loaded\n",
        "  scheduler_loaded.__dict__ # print the subparameters of the scheduler\n",
        "train_losses_loaded\n",
        "test_losses_loaded\n",
        "train_metrics_loaded\n",
        "test_metrics_loaded\n"
      ]
    },
    {
      "cell_type": "code",
      "execution_count": null,
      "metadata": {
        "id": "wIFp6xgs4cns"
      },
      "outputs": [],
      "source": [
        "train_losses_loaded[-1]\n",
        "test_losses_loaded[-1]\n",
        "test_metrics_loaded[-1]['l1_norm']\n",
        "test_metrics_loaded[-1]['linf_norm']\n",
        "# print(f'Error is {test_metrics_loaded[-1][\"l1_norm\"] / (3.84e-4)} times bigger than in Dieselhorst et al.')\n",
        "# print(f'Error is {test_metrics_loaded[-1][\"linf_norm\"] / (8.14e-3)} times bigger than in Dieselhorst et al.')"
      ]
    },
    {
      "cell_type": "markdown",
      "metadata": {
        "id": "OdOwEngu4cns"
      },
      "source": [
        "### Visualize loaded results"
      ]
    },
    {
      "cell_type": "markdown",
      "metadata": {
        "id": "vwLGR1aSUZik"
      },
      "source": [
        "Let us verify correct loading of the train and test metrics by visualizing them again but now through the loaded values. Likewise for the train and test losses."
      ]
    },
    {
      "cell_type": "code",
      "execution_count": null,
      "metadata": {
        "id": "sXiNgLsmUZil"
      },
      "outputs": [],
      "source": [
        "%config InteractiveShell.ast_node_interactivity = \"last_expr_or_assign\""
      ]
    },
    {
      "cell_type": "code",
      "execution_count": null,
      "metadata": {
        "id": "sgq4WfSiUZil"
      },
      "outputs": [],
      "source": [
        "# Plotting the losses and metrics for the best network plt.figure(figsize=(12, \n",
        "#plt.subplot(2, 2, 1)\n",
        "#plt.plot(train_losses_loaded, label=\"Train Loss\")\n",
        "#plt.plot(test_losses_loaded, label=\"Test Loss\")\n",
        "#plt.xlabel(\"Epoch\")\n",
        "#plt.ylabel(\"Loss\")\n",
        "#plt.legend()\n",
        "plt.subplot(2, 2, 2)\n",
        "plt.plot([m[\"l1_norm\"] for m in train_metrics_loaded], label=\"Train L1 Norm\")\n",
        "plt.plot([m[\"l1_norm\"] for m in test_metrics_loaded], label=\"Test L1 Norm\")\n",
        "plt.xlabel(\"Epoch\")\n",
        "plt.ylabel(\"L1 Norm\")\n",
        "# Added setting the vertical axis to be in powers of 10\n",
        "plt.yscale(\"log\")\n",
        "# Added setting the vertical axis limits to be from 10^-7 to 10^0\n",
        "plt.ylim(1e-3, 1e2)\n",
        "plt.legend()\n",
        "plt.subplot(2, 2, 3)\n",
        "plt.plot([m[\"linf_norm\"] for m in train_metrics_loaded], label=\"Train Linf Norm\")\n",
        "plt.plot([m[\"linf_norm\"] for m in test_metrics_loaded], label=\"Test Linf Norm\")\n",
        "plt.xlabel(\"Epoch\")\n",
        "plt.ylabel(\"Linf Norm\")\n",
        "# Added setting the vertical axis to be in powers of 10\n",
        "plt.yscale(\"log\")\n",
        "# Added setting the vertical axis limits to be from 10^-7 to 10^0\n",
        "plt.ylim(1e-3, 1e2)\n",
        "plt.legend()\n",
        "plt.tight_layout()\n",
        "plt.show()\n",
        "\n",
        "# Added plotting MSE of training data and MSE of test data in one plot \n",
        "plt.figure(figsize=(8, 6))\n",
        "plt.plot(train_losses_loaded,label=\"training data\")\n",
        "plt.plot(test_losses_loaded,label=\"test data\")\n",
        "#if scheduler is not None:\n",
        "#    plt.plot([scheduler.get_last_lr()[0] for _ in range(n_epochs)], label=\"Learning rate\") \n",
        "plt.xlabel(\"Epoch\")\n",
        "plt.ylabel(f\"{loss_name_loaded} Loss\")\n",
        "# Added setting the vertical axis to be in powers of 10\n",
        "plt.yscale(\"log\")\n",
        "# Added setting the vertical axis limits to be from 10^-7 to 10^0\n",
        "plt.ylim(1e-7, 1e0)\n",
        "plt.legend()\n",
        "plt.show()\n"
      ]
    },
    {
      "cell_type": "code",
      "execution_count": null,
      "metadata": {
        "id": "lkgLqJ_UUZim"
      },
      "outputs": [],
      "source": [
        "%config InteractiveShell.ast_node_interactivity = \"all\""
      ]
    },
    {
      "cell_type": "markdown",
      "metadata": {
        "id": "aotL4GJl4cnu"
      },
      "source": [
        "## Counting the number of parameters in the network."
      ]
    },
    {
      "cell_type": "code",
      "execution_count": null,
      "metadata": {
        "id": "_sQl2bTk4cnu"
      },
      "outputs": [],
      "source": [
        "net_loaded.eval()\n",
        "def count_parameters(model):\n",
        "    return sum(p.numel() for p in model.parameters() if p.requires_grad)\n",
        "print(f'The model has {count_parameters(net_loaded)} parameters.')"
      ]
    },
    {
      "cell_type": "markdown",
      "metadata": {
        "id": "SxuzVSnlUZin"
      },
      "source": [
        "## Evaluating the network on arbirary input\n",
        "### Comparing `net` and `net_loaded`\n",
        "\n",
        "We compare `net` and `net_loaded` to confirm correct loading of the network. Note that `net` is only available if we have trained the model in this session."
      ]
    },
    {
      "cell_type": "code",
      "execution_count": null,
      "metadata": {
        "id": "usq1X1KO4cnu"
      },
      "outputs": [],
      "source": [
        "#%%script echo skipping\n",
        "\n",
        "# Set the network to evaluation mode\n",
        "net.eval()"
      ]
    },
    {
      "cell_type": "code",
      "execution_count": null,
      "metadata": {
        "id": "-pwGJnzK4cnv"
      },
      "outputs": [],
      "source": [
        "# Set the network to evaluation mode\n",
        "net_loaded.eval"
      ]
    },
    {
      "cell_type": "code",
      "execution_count": null,
      "metadata": {
        "id": "vXaSZDzX4cnv"
      },
      "outputs": [],
      "source": [
        "for p1, p2 in zip(net.parameters(), net_loaded.parameters()):\n",
        "    if p1.data.ne(p2.data).sum() > 0:\n",
        "        print(\"Parameters are NOT the same.\")\n",
        "        break\n",
        "else:\n",
        "    print(\"Parameters are the same.\")\n",
        "\n",
        "print(\"Net device:\", next(net.parameters()).device)\n",
        "print(\"Net_loaded device:\", next(net_loaded.parameters()).device)"
      ]
    },
    {
      "cell_type": "code",
      "execution_count": null,
      "metadata": {
        "id": "C0PLAA0DUZin"
      },
      "outputs": [],
      "source": [
        "#%%script echo skipping\n",
        "\n",
        "print(list(net.parameters()))"
      ]
    },
    {
      "cell_type": "code",
      "execution_count": null,
      "metadata": {
        "id": "1NZ8iVA7UZio"
      },
      "outputs": [],
      "source": [
        "print(list(net_loaded.parameters()))"
      ]
    },
    {
      "cell_type": "code",
      "execution_count": null,
      "metadata": {
        "id": "InGW0Xq6UZip"
      },
      "outputs": [],
      "source": [
        "rho_example, epsilon_example, vx_example, vy_example, vz_example, Bx_example, By_example, Bz_example, gxx_example, gxy_example, gxz_example, gyy_example, gyz_example, gzz_example = generate_samples(20)\n",
        "\n",
        "inputs =  generate_input_data(rho_example, epsilon_example, vx_example, vy_example, vz_example, Bx_example, By_example, Bz_example, gxx_example, gxy_example, gxz_example, gyy_example, gyz_example, gzz_example)\n",
        "inputs\n"
      ]
    },
    {
      "cell_type": "code",
      "execution_count": null,
      "metadata": {
        "id": "QVa1upmFUZip"
      },
      "outputs": [],
      "source": [
        "#%%script echo skipping\n",
        "\n",
        "# Pass the inputs to the network and get the outputs\n",
        "outputs = [net(input.unsqueeze(0)) for input in inputs]\n",
        "# Print the outputs\n",
        "outputs"
      ]
    },
    {
      "cell_type": "code",
      "execution_count": null,
      "metadata": {
        "id": "E-Xjfo7VUZir"
      },
      "outputs": [],
      "source": [
        "\n",
        "# Pass the inputs to the network and get the outputs\n",
        "outputs = [net_loaded(input.unsqueeze(0)) for input in inputs]\n",
        "# Print the outputs\n",
        "outputs"
      ]
    },
    {
      "cell_type": "markdown",
      "metadata": {
        "id": "xjpIvdybUZis"
      },
      "source": [
        "## Porting the model to C++"
      ]
    },
    {
      "cell_type": "code",
      "execution_count": null,
      "metadata": {
        "id": "VMlEd4RoUZis"
      },
      "outputs": [],
      "source": [
        "import torch.jit\n",
        "\n",
        "# Creating a dummy input tensor of shape (1, 5) to trace the model\n",
        "dummy_input = torch.randn(1, N_INPUTS).to(device)\n",
        "\n",
        "# Ensure that net_loaded is in evaluation mode.\n",
        "net_loaded.eval()\n",
        "\n",
        "# Tracing the model using the torch.jit.trace function\n",
        "traced_model = torch.jit.trace(net_loaded, dummy_input)\n",
        "\n",
        "# Saving the traced model to a file named \"net.pt\"\n",
        "traced_model.save(\"net.pt\")\n",
        "save_file(\"net.pt\")\n",
        "\n",
        "example_input_to_validate_correct_export_and_import = generate_input_data(*generate_samples(1))\n",
        "print(\"input shape: \", example_input_to_validate_correct_export_and_import.shape)\n",
        "print(\"input: \", example_input_to_validate_correct_export_and_import)\n",
        "print(\"Output:\", net_loaded(example_input_to_validate_correct_export_and_import))"
      ]
    }
  ],
  "metadata": {
    "accelerator": "TPU",
    "colab": {
      "gpuType": "T4",
      "provenance": [],
      "toc_visible": true
    },
    "kernelspec": {
      "display_name": "Python 3",
      "name": "python3"
    },
    "language_info": {
      "codemirror_mode": {
        "name": "ipython",
        "version": 3
      },
      "file_extension": ".py",
      "mimetype": "text/x-python",
      "name": "python",
      "nbconvert_exporter": "python",
      "pygments_lexer": "ipython3",
      "version": "3.11.3"
    },
    "orig_nbformat": 4
  },
  "nbformat": 4,
  "nbformat_minor": 0
}