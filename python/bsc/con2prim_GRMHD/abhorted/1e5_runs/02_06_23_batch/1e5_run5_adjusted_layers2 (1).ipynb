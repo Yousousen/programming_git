{
  "cells": [
    {
      "cell_type": "markdown",
      "metadata": {
        "id": "TPvB1xoSUZhR"
      },
      "source": [
        "# Neural network to learn conservative-to-primitive conversion in relativistic hydrodynamics"
      ]
    },
    {
      "cell_type": "markdown",
      "metadata": {
        "id": "__fLZmSf4cm7"
      },
      "source": [
        "## How to use this notebook\n",
        "\n",
        "### Local installation\n",
        "\n",
        "1. Install required packages with `pip install -r requirements.txt` to your desired environment.\n",
        "2. If a script version of this notebook is desired, comment (not uncomment) the first line of `nbconvert` cell.\n",
        "\n",
        "### Colab installation\n",
        "\n",
        "1.  Comment (not uncomment) the first line of the drive mounting cell.\n",
        "2.  Comment (not uncomment) the first line of the `pip install` cell.\n",
        "\n",
        "<!-- - For colab we also want to set the runtime to GPU by clicking _Change runtime_ in the _Runtime_ menu, and -->\n",
        "<!-- - We want to wait for the google drive connection popup to appear and follow the instructions. -->\n",
        "\n",
        "### Loading / Generating data\n",
        "3. Set `LOAD_DATA_FROM_CSV` to `True` / `False` to load data from csv files / generate data in this notebook.\n",
        "\n",
        "### Training without optimization\n",
        "\n",
        "4. Set `OPTIMIZE = False` in section _Constants and flags to set_.\n",
        "5. Run the entire notebook.\n",
        "\n",
        "### Training with optimization\n",
        "\n",
        "4. Set `OPTIMIZE = True` in section _Constants and flags to set_.\n",
        "5. Run the entire notebook.\n",
        "\n",
        "### Loading an already trained model\n",
        "\n",
        "4. Run cells in section _Initialization_.\n",
        "5. Run cells with definitions in section _Input data and labels_.\n",
        "6. Run cell with the definition of _Net_ in section _Defining the neural network_.\n",
        "7. Make sure the `net.pth`, `optimizer.pth`, `scheduler.pth`, `var_dict.json` and `train_output.csv` files are in the directory containing this notebook.\n",
        "8. Run the cells in section _Loading_ and continue from there.\n",
        "\n",
        "### Generating the C++ model\n",
        "\n",
        "9. Run section _Porting the model to C++_, this requires a model to be loaded.\n",
        "10. Set the path to the `net.pt` file in the C++ source file.\n",
        "11. `mkdir build && cd build`,\n",
        "12. Configure a `CMakeLists.txt` file as is done [here](https://pytorch.org/cppdocs/installing.html).\n",
        "13. `cmake -DCMAKE_PREFIX_PATH=/path/to/libtorch/ ..`,\n",
        "14. Compile and run, e.g. `cmake --build . --config release && ./<executable name>`"
      ]
    },
    {
      "cell_type": "markdown",
      "metadata": {
        "id": "Ix44VuOJ4cm9"
      },
      "source": [
        "## Initialization"
      ]
    },
    {
      "cell_type": "markdown",
      "metadata": {
        "id": "pKLcdI-F4cm_"
      },
      "source": [
        "\n",
        "Use this first cell to **convert this notebook** to a python script."
      ]
    },
    {
      "cell_type": "code",
      "execution_count": 1,
      "metadata": {
        "colab": {
          "base_uri": "https://localhost:8080/"
        },
        "id": "eqdgdNLHUZhV",
        "outputId": "7b29ac24-19de-4046-f305-cd00ce5f6a1b"
      },
      "outputs": [
        {
          "output_type": "stream",
          "name": "stdout",
          "text": [
            "skipping\n"
          ]
        }
      ],
      "source": [
        "%%script echo skipping\n",
        "\n",
        "!jupyter nbconvert GRMHD_ML.ipynb --TagRemovePreprocessor.enabled=True --TagRemovePreprocessor.remove_cell_tags='{\"remove_cell\"}' --to script"
      ]
    },
    {
      "cell_type": "markdown",
      "metadata": {
        "id": "nzcUr0LnUZhw"
      },
      "source": [
        "Next some cells for working on **google colab**,"
      ]
    },
    {
      "cell_type": "code",
      "execution_count": 2,
      "metadata": {
        "id": "6VBGn-gc4cnD"
      },
      "outputs": [],
      "source": [
        "import os\n",
        "import shutil\n",
        "\n",
        "# check if the drive is mounted\n",
        "drive_mounted = os.path.exists(\"/content/drive\")\n",
        "# change this to your desired folder\n",
        "drive_folder = \"/content/drive/My Drive/bsc/con2prim_GRMHD/1e5_runs/adjusted_layers2\"\n",
        "\n",
        "# define a function to save a file to the drive or the current directory\n",
        "def save_file(file_name):\n",
        "  if drive_mounted:\n",
        "    # save the file to the drive folder\n",
        "    file_path = os.path.join(drive_folder, file_name)\n",
        "    # copy the file from the current directory to the drive folder\n",
        "    shutil.copyfile(file_name, file_path)\n",
        "  else:\n",
        "    # do nothing as the file is already in the current directory\n",
        "    pass\n"
      ]
    },
    {
      "cell_type": "code",
      "execution_count": 3,
      "metadata": {
        "colab": {
          "base_uri": "https://localhost:8080/"
        },
        "id": "ecHw2_xlUZhx",
        "outputId": "749790f4-a1da-4d9e-d13c-c45338a60f7a"
      },
      "outputs": [
        {
          "output_type": "stream",
          "name": "stdout",
          "text": [
            "Mounted at /content/drive\n"
          ]
        }
      ],
      "source": [
        "#%%script echo skipping\n",
        "\n",
        "from google.colab import drive\n",
        "drive.mount('/content/drive')"
      ]
    },
    {
      "cell_type": "code",
      "execution_count": 4,
      "metadata": {
        "colab": {
          "base_uri": "https://localhost:8080/"
        },
        "id": "T1rcStMLUZhy",
        "outputId": "10f32484-74d9-4e6e-a898-53435c3f95a3"
      },
      "outputs": [
        {
          "output_type": "stream",
          "name": "stdout",
          "text": [
            "Looking in indexes: https://pypi.org/simple, https://us-python.pkg.dev/colab-wheels/public/simple/\n",
            "Collecting optuna\n",
            "  Downloading optuna-3.2.0-py3-none-any.whl (390 kB)\n",
            "\u001b[2K     \u001b[90m━━━━━━━━━━━━━━━━━━━━━━━━━━━━━━━━━━━━━━━\u001b[0m \u001b[32m390.6/390.6 kB\u001b[0m \u001b[31m7.6 MB/s\u001b[0m eta \u001b[36m0:00:00\u001b[0m\n",
            "\u001b[?25hRequirement already satisfied: tensorboard in /usr/local/lib/python3.10/dist-packages (2.12.2)\n",
            "Collecting tensorboardX\n",
            "  Downloading tensorboardX-2.6-py2.py3-none-any.whl (114 kB)\n",
            "\u001b[2K     \u001b[90m━━━━━━━━━━━━━━━━━━━━━━━━━━━━━━━━━━━━━━\u001b[0m \u001b[32m114.5/114.5 kB\u001b[0m \u001b[31m16.0 MB/s\u001b[0m eta \u001b[36m0:00:00\u001b[0m\n",
            "\u001b[?25hRequirement already satisfied: plotly in /usr/local/lib/python3.10/dist-packages (5.13.1)\n",
            "Collecting alembic>=1.5.0 (from optuna)\n",
            "  Downloading alembic-1.11.1-py3-none-any.whl (224 kB)\n",
            "\u001b[2K     \u001b[90m━━━━━━━━━━━━━━━━━━━━━━━━━━━━━━━━━━━━━━\u001b[0m \u001b[32m224.5/224.5 kB\u001b[0m \u001b[31m27.9 MB/s\u001b[0m eta \u001b[36m0:00:00\u001b[0m\n",
            "\u001b[?25hCollecting cmaes>=0.9.1 (from optuna)\n",
            "  Downloading cmaes-0.9.1-py3-none-any.whl (21 kB)\n",
            "Collecting colorlog (from optuna)\n",
            "  Downloading colorlog-6.7.0-py2.py3-none-any.whl (11 kB)\n",
            "Requirement already satisfied: numpy in /usr/local/lib/python3.10/dist-packages (from optuna) (1.22.4)\n",
            "Requirement already satisfied: packaging>=20.0 in /usr/local/lib/python3.10/dist-packages (from optuna) (23.1)\n",
            "Requirement already satisfied: sqlalchemy>=1.3.0 in /usr/local/lib/python3.10/dist-packages (from optuna) (2.0.10)\n",
            "Requirement already satisfied: tqdm in /usr/local/lib/python3.10/dist-packages (from optuna) (4.65.0)\n",
            "Requirement already satisfied: PyYAML in /usr/local/lib/python3.10/dist-packages (from optuna) (6.0)\n",
            "\u001b[33mWARNING: optuna 3.2.0 does not provide the extra 'visualization'\u001b[0m\u001b[33m\n",
            "\u001b[0mRequirement already satisfied: absl-py>=0.4 in /usr/local/lib/python3.10/dist-packages (from tensorboard) (1.4.0)\n",
            "Requirement already satisfied: grpcio>=1.48.2 in /usr/local/lib/python3.10/dist-packages (from tensorboard) (1.54.0)\n",
            "Requirement already satisfied: google-auth<3,>=1.6.3 in /usr/local/lib/python3.10/dist-packages (from tensorboard) (2.17.3)\n",
            "Requirement already satisfied: google-auth-oauthlib<1.1,>=0.5 in /usr/local/lib/python3.10/dist-packages (from tensorboard) (1.0.0)\n",
            "Requirement already satisfied: markdown>=2.6.8 in /usr/local/lib/python3.10/dist-packages (from tensorboard) (3.4.3)\n",
            "Requirement already satisfied: protobuf>=3.19.6 in /usr/local/lib/python3.10/dist-packages (from tensorboard) (3.20.3)\n",
            "Requirement already satisfied: requests<3,>=2.21.0 in /usr/local/lib/python3.10/dist-packages (from tensorboard) (2.27.1)\n",
            "Requirement already satisfied: setuptools>=41.0.0 in /usr/local/lib/python3.10/dist-packages (from tensorboard) (67.7.2)\n",
            "Requirement already satisfied: tensorboard-data-server<0.8.0,>=0.7.0 in /usr/local/lib/python3.10/dist-packages (from tensorboard) (0.7.0)\n",
            "Requirement already satisfied: tensorboard-plugin-wit>=1.6.0 in /usr/local/lib/python3.10/dist-packages (from tensorboard) (1.8.1)\n",
            "Requirement already satisfied: werkzeug>=1.0.1 in /usr/local/lib/python3.10/dist-packages (from tensorboard) (2.3.0)\n",
            "Requirement already satisfied: wheel>=0.26 in /usr/local/lib/python3.10/dist-packages (from tensorboard) (0.40.0)\n",
            "Requirement already satisfied: tenacity>=6.2.0 in /usr/local/lib/python3.10/dist-packages (from plotly) (8.2.2)\n",
            "Collecting Mako (from alembic>=1.5.0->optuna)\n",
            "  Downloading Mako-1.2.4-py3-none-any.whl (78 kB)\n",
            "\u001b[2K     \u001b[90m━━━━━━━━━━━━━━━━━━━━━━━━━━━━━━━━━━━━━━━━\u001b[0m \u001b[32m78.7/78.7 kB\u001b[0m \u001b[31m10.4 MB/s\u001b[0m eta \u001b[36m0:00:00\u001b[0m\n",
            "\u001b[?25hRequirement already satisfied: typing-extensions>=4 in /usr/local/lib/python3.10/dist-packages (from alembic>=1.5.0->optuna) (4.5.0)\n",
            "Requirement already satisfied: cachetools<6.0,>=2.0.0 in /usr/local/lib/python3.10/dist-packages (from google-auth<3,>=1.6.3->tensorboard) (5.3.0)\n",
            "Requirement already satisfied: pyasn1-modules>=0.2.1 in /usr/local/lib/python3.10/dist-packages (from google-auth<3,>=1.6.3->tensorboard) (0.3.0)\n",
            "Requirement already satisfied: six>=1.9.0 in /usr/local/lib/python3.10/dist-packages (from google-auth<3,>=1.6.3->tensorboard) (1.16.0)\n",
            "Requirement already satisfied: rsa<5,>=3.1.4 in /usr/local/lib/python3.10/dist-packages (from google-auth<3,>=1.6.3->tensorboard) (4.9)\n",
            "Requirement already satisfied: requests-oauthlib>=0.7.0 in /usr/local/lib/python3.10/dist-packages (from google-auth-oauthlib<1.1,>=0.5->tensorboard) (1.3.1)\n",
            "Requirement already satisfied: urllib3<1.27,>=1.21.1 in /usr/local/lib/python3.10/dist-packages (from requests<3,>=2.21.0->tensorboard) (1.26.15)\n",
            "Requirement already satisfied: certifi>=2017.4.17 in /usr/local/lib/python3.10/dist-packages (from requests<3,>=2.21.0->tensorboard) (2022.12.7)\n",
            "Requirement already satisfied: charset-normalizer~=2.0.0 in /usr/local/lib/python3.10/dist-packages (from requests<3,>=2.21.0->tensorboard) (2.0.12)\n",
            "Requirement already satisfied: idna<4,>=2.5 in /usr/local/lib/python3.10/dist-packages (from requests<3,>=2.21.0->tensorboard) (3.4)\n",
            "Requirement already satisfied: greenlet!=0.4.17 in /usr/local/lib/python3.10/dist-packages (from sqlalchemy>=1.3.0->optuna) (2.0.2)\n",
            "Requirement already satisfied: MarkupSafe>=2.1.1 in /usr/local/lib/python3.10/dist-packages (from werkzeug>=1.0.1->tensorboard) (2.1.2)\n",
            "Requirement already satisfied: pyasn1<0.6.0,>=0.4.6 in /usr/local/lib/python3.10/dist-packages (from pyasn1-modules>=0.2.1->google-auth<3,>=1.6.3->tensorboard) (0.5.0)\n",
            "Requirement already satisfied: oauthlib>=3.0.0 in /usr/local/lib/python3.10/dist-packages (from requests-oauthlib>=0.7.0->google-auth-oauthlib<1.1,>=0.5->tensorboard) (3.2.2)\n",
            "Installing collected packages: tensorboardX, Mako, colorlog, cmaes, alembic, optuna\n",
            "Successfully installed Mako-1.2.4 alembic-1.11.1 cmaes-0.9.1 colorlog-6.7.0 optuna-3.2.0 tensorboardX-2.6\n"
          ]
        }
      ],
      "source": [
        "#%%script echo skipping\n",
        "\n",
        "!pip install optuna optuna[visualization] tensorboard tensorboardX plotly"
      ]
    },
    {
      "cell_type": "markdown",
      "metadata": {
        "id": "msDldnu_4cnF"
      },
      "source": [
        "Importing the **libraries**,"
      ]
    },
    {
      "cell_type": "code",
      "execution_count": 5,
      "metadata": {
        "id": "tREdWQUVUZhz"
      },
      "outputs": [],
      "source": [
        "import numpy as np\n",
        "import matplotlib.pyplot as plt\n",
        "import torch\n",
        "import torch.nn as nn\n",
        "import torch.optim as optim\n",
        "import torch.nn.functional as F\n",
        "import optuna\n",
        "import tensorboardX as tbx\n",
        "import pandas as pd\n",
        "import pickle\n",
        "import json"
      ]
    },
    {
      "cell_type": "markdown",
      "metadata": {
        "id": "38GvmerjUZhz"
      },
      "source": [
        "### Constants and flags to set\n",
        "Defining some constants and parameters for convenience.\n",
        "\n",
        "**NOTE**: Some **subparameters** still need to be adjusted in the `create_model` function itself as of (Tue May 16 07:42:45 AM CEST 2023) in the case the model is being trained without optimization."
      ]
    },
    {
      "cell_type": "code",
      "execution_count": 6,
      "metadata": {
        "id": "ei6VZDYKUZh0"
      },
      "outputs": [],
      "source": [
        "\n",
        "# Checking if GPU is available and setting the device accordingly\n",
        "device = torch.device(\"cuda\" if torch.cuda.is_available() else \"cpu\")\n",
        "\n",
        "N_TRIALS = 5000 # Number of trials for hyperparameter optimization # NOTE: Set this properly.\n",
        "OPTIMIZE = True # Whether to optimize the hyperparameters or to use predetermined values. # NOTE: Set this properly.\n",
        "ZSCORE_NORMALIZATION = False # Whether to z-score normalize the input data.\n",
        "LOAD_DATA_FROM_CSV = False  # If not true we generate the data in this file and save to {x_train,y_train,x_test,y_test}.csv, otherwise we load the data from files of the same name. # NOTE: Set this before properly.\n",
        "STUDY_NAME = '1e5_run5_adjusted_layers2'\n",
        "\n",
        "csv_filenames = { # File names to load input data and labels from if LOAD_DATA_FROM_CSV is True.\n",
        "    \"x_train\": \"x_train.csv\",\n",
        "    \"x_val\": \"x_val.csv\",\n",
        "    \"x_test\": \"x_test.csv\",\n",
        "    \"y_train\": \"y_train.csv\",\n",
        "    \"y_val\": \"y_val.csv\",\n",
        "    \"y_test\": \"y_test.csv\",\n",
        "}\n",
        "\n",
        "# Values to use for hyperparameters if OPTIMIZE is False; set these to the best parameters found by Optuna.\n",
        "# NOTE: TODO: Currently (Sat May 27 05:16:57 PM CEST 2023) there are still subparameters to be set in create_model function.\n",
        "N_LAYERS_NO_OPT = 3\n",
        "N_UNITS_NO_OPT = [555, 458, 115]\n",
        "HIDDEN_ACTIVATION_NAME_NO_OPT = \"LeakyReLU\"\n",
        "OUTPUT_ACTIVATION_NAME_NO_OPT = \"Linear\"\n",
        "LOSS_NAME_NO_OPT = \"Huber\"\n",
        "OPTIMIZER_NAME_NO_OPT = \"RMSprop\"\n",
        "LR_NO_OPT = 0.000122770896701404\n",
        "BATCH_SIZE_NO_OPT = 49\n",
        "N_EPOCHS_NO_OPT = 500 # NOTE: Set this properly.\n",
        "SCHEDULER_NAME_NO_OPT = \"ReduceLROnPlateau\"\n",
        "DROPOUT_RATE_NO_OPT = 0.2\n",
        "\n",
        "N_INPUTS = 14  # Number of input features.\n",
        "N_OUTPUTS = 1  # Number of outputs.\n",
        "Gamma = 5/3  # Adiabatic index\n",
        "\n",
        "n_samples = 1e5 # NOTE: Set this properly.\n",
        "train_frac = 0.7  # 70% of data for training\n",
        "val_frac = 0.15  # 15% of data for validation, rest for testing\n",
        "\n",
        "rho_interval = (0, 2) \n",
        "epsilon_interval = (1e-2, 2000)  # Will be sampled in log space\n",
        "vx_interval = (0, 0.999)  \n",
        "vy_interval = (0, 0.999)  \n",
        "vz_interval = (0, 0.999)  \n",
        "Bx_interval = (-10, 10)  \n",
        "By_interval = (-10, 10)  \n",
        "Bz_interval = (-10, 10)  \n",
        "gxx_interval = (0.9, 1.1)\n",
        "gxy_interval = (0, 0.1)\n",
        "gxz_interval = (0, 0.1)\n",
        "gyy_interval = (0.9, 1.1)\n",
        "gyz_interval = (0, 0.1)\n",
        "gzz_interval = (0.9, 1.1)\n",
        "\n",
        "np.random.seed(112) # Comment for true random data.\n"
      ]
    },
    {
      "cell_type": "markdown",
      "metadata": {
        "id": "dlaP5UL2UZh1"
      },
      "source": [
        "## Input data and labels\n",
        "\n",
        "We either generate the data or load the data. First the definitions for generating the data come below."
      ]
    },
    {
      "cell_type": "code",
      "execution_count": 7,
      "metadata": {
        "id": "s_EvGFZcUZh1"
      },
      "outputs": [],
      "source": [
        "# Defining an analytic equation of state (EOS) for an ideal gas\n",
        "def eos_analytic(rho, epsilon):\n",
        "    # Adding some assertions to check that the input tensors are valid and have \n",
        "    # the expected shape and type \n",
        "    assert isinstance(rho, torch.Tensor), \"rho must be a torch.Tensor\"\n",
        "    assert isinstance(epsilon, torch.Tensor), \"epsilon must be a torch.Tensor\"\n",
        "    print('rho.shape: ', rho.shape)\n",
        "    print('epsilon.shape: ', epsilon.shape)\n",
        "    assert rho.shape == epsilon.shape, \"rho and epsilon must have the same shape\"\n",
        "    assert rho.ndim == 1, \"rho and epsilon must be one-dimensional tensors\"\n",
        "    assert rho.dtype == torch.float32, \"rho and epsilon must have dtype torch.float32\"\n",
        "\n",
        "    return (Gamma - 1) * rho * epsilon\n",
        "\n",
        "def sample_primitive_variables_and_metric():\n",
        "    rho = np.random.uniform(*rho_interval)  \n",
        "    epsilon = np.random.uniform(*np.log10(epsilon_interval))\n",
        "    vx = np.random.uniform(*vx_interval)  \n",
        "    vy = np.random.uniform(*vy_interval)  \n",
        "    vz = np.random.uniform(*vz_interval)  \n",
        "    Bx = np.random.uniform(*Bx_interval)  \n",
        "    By = np.random.uniform(*By_interval)  \n",
        "    Bz = np.random.uniform(*Bz_interval)  \n",
        "    gxx = np.random.uniform(*gxx_interval)\n",
        "    gxy = np.random.uniform(*gxy_interval)\n",
        "    gxz = np.random.uniform(*gxz_interval)\n",
        "    gyy = np.random.uniform(*gyy_interval)\n",
        "    gyz = np.random.uniform(*gyz_interval)\n",
        "    gzz = np.random.uniform(*gzz_interval)\n",
        "\n",
        "    return rho, epsilon, vx, vy, vz, Bx, By, Bz, gxx, gxy, gxz, gyy, gyz, gzz\n",
        "\n",
        "def check_sample(rho, epsilon, vx, vy, vz, Bx, By, Bz, gxx, gxy, gxz, gyy, gyz, gzz):\n",
        "    wtemp_expr = 1 - (gxx * vx**2 + gyy * vy**2 + gzz * vz**2 + 2 * gxy * vx * vy + 2 * gxz * vx * vz + 2 * gyz * vy * vz)\n",
        "    sdet_expr = gxx * gyy * gzz + 2 * gxy * gxz * gyz - gxx * gyz ** 2 - gyy * gxz ** 2 - gzz * gxy ** 2\n",
        "    if vx**2 + vy**2 + vz**2 >= 1 or wtemp_expr < 0 or sdet_expr < 0:\n",
        "        # print(f\"Sample failed checks. vx^2+vy^2+vz^2: {vx**2 + vy**2 + vz**2}, wtemp_expr: {wtemp_expr}, sdet_expr: {sdet_expr}\")\n",
        "        return False\n",
        "    else:\n",
        "        # print(f\"Sample passed checks. vx^2+vy^2+vz^2: {vx**2 + vy**2 + vz**2}, wtemp_expr: {wtemp_expr}, sdet_expr: {sdet_expr}\")\n",
        "        return True\n",
        "\n",
        "def generate_samples(n_samples):\n",
        "    samples = []\n",
        "    while len(samples) < n_samples:\n",
        "        sample = sample_primitive_variables_and_metric()\n",
        "        if check_sample(*sample):\n",
        "            samples.append(sample)\n",
        "        # print(f\"Number of valid samples: {len(samples)}\")\n",
        "    return zip(*samples)\n",
        "def sdet(gxx, gxy, gxz, gyy, gyz, gzz):\n",
        "    # Determinant of the three metric.\n",
        "    return (gxx * gyy * gzz + 2 * gxy * gxz * gyz - gxx * gyz ** 2 - gyy * gxz ** 2 - gzz * gxy ** 2) ** 0.5\n",
        "\n",
        "# Defining a function that computes conserved variables from primitive variables and the metric\n",
        "# We follow the source code of GRaM-X: A new GPU-accelerated dynamical spacetime GRMHD code for Exascale\n",
        "# computing with the Einstein Toolkit of Shankar et al.\n",
        "def compute_conserved_variables(rho, epsilon, vx, vy, vz, Bx, By, Bz, gxx, gxy, gxz, gyy, gyz, gzz):\n",
        "    pres = eos_analytic(rho, epsilon)\n",
        "    wtemp = 1 / (1 - (gxx * vx**2 + gyy * vy**2 + gzz * vz**2 +\n",
        "        2 * gxy * vx * vy + 2 * gxz * vx * vz +\n",
        "        2 * gyz * vy * vz))**0.5\n",
        "\n",
        "    vlowx = gxx * vx + gxy * vy + gxz * vz\n",
        "    vlowy = gxy * vx + gyy * vy + gyz * vz\n",
        "    vlowz = gxz * vx + gyz * vy + gzz * vz\n",
        "\n",
        "    Bxlow = gxx * Bx + gxy * By + gxz * Bz\n",
        "    Bylow = gxy * Bx + gyy * By + gyz * Bz\n",
        "    Bzlow = gxz * Bx + gyz * By + gzz * Bz\n",
        "\n",
        "    B2 = Bxlow * Bx + Bylow * By + Bzlow * Bz\n",
        "\n",
        "    Bdotv = Bxlow * vx + Bylow * vy + Bzlow * vz\n",
        "    Bdotv2 = Bdotv * Bdotv\n",
        "    wtemp2 = wtemp * wtemp\n",
        "    b2 = B2 / wtemp2 + Bdotv2\n",
        "    ab0 = wtemp * Bdotv\n",
        "\n",
        "    blowx = (gxx * Bx + gxy * By + gxz * Bz) / wtemp + wtemp * Bdotv * vlowx\n",
        "    blowy = (gxy * Bx + gyy * By + gyz * Bz) / wtemp + wtemp * Bdotv * vlowy\n",
        "    blowz = (gxz * Bx + gyz * By + gzz * Bz) / wtemp + wtemp * Bdotv * vlowz\n",
        "\n",
        "    hrhow2 = (rho * (1 + epsilon) + pres + b2) * (wtemp) * (wtemp)\n",
        "\n",
        "    D = sdet(gxx, gxy, gxz, gyy, gyz, gzz) * rho * (wtemp)\n",
        "    Sx = sdet(gxx, gxy, gxz, gyy, gyz, gzz) * (hrhow2 * vlowx - ab0 * blowx)\n",
        "    Sy = sdet(gxx, gxy, gxz, gyy, gyz, gzz) * (hrhow2 * vlowy - ab0 * blowy)\n",
        "    Sz = sdet(gxx, gxy, gxz, gyy, gyz, gzz) * (hrhow2 * vlowz - ab0 * blowz)\n",
        "    tau = sdet(gxx, gxy, gxz, gyy, gyz, gzz) * (hrhow2 - pres - b2 / 2 - ab0 * ab0) - D\n",
        "    Bconsx = sdet(gxx, gxy, gxz, gyy, gyz, gzz) * Bx\n",
        "    Bconsy = sdet(gxx, gxy, gxz, gyy, gyz, gzz) * By\n",
        "    Bconsz = sdet(gxx, gxy, gxz, gyy, gyz, gzz) * Bz\n",
        "\n",
        "    return D, Sx, Sy, Sz, tau, Bconsx, Bconsy, Bconsz\n",
        "\n",
        "def generate_input_data(rho, epsilon, vx, vy, vz, Bx, By, Bz, gxx, gxy, gxz, gyy, gyz, gzz):\n",
        "    rho = torch.tensor(np.array(rho), dtype=torch.float32).to(device)\n",
        "    epsilon = torch.tensor(np.array(epsilon), dtype=torch.float32).to(device)\n",
        "    vx = torch.tensor(np.array(vx), dtype=torch.float32).to(device)\n",
        "    vy = torch.tensor(np.array(vy), dtype=torch.float32).to(device)\n",
        "    vz = torch.tensor(np.array(vz), dtype=torch.float32).to(device)\n",
        "    Bx = torch.tensor(np.array(Bx), dtype=torch.float32).to(device)\n",
        "    By = torch.tensor(np.array(By), dtype=torch.float32).to(device)\n",
        "    Bz = torch.tensor(np.array(Bz), dtype=torch.float32).to(device)\n",
        "    gxx = torch.tensor(np.array(gxx), dtype=torch.float32).to(device)\n",
        "    gxy = torch.tensor(np.array(gxy), dtype=torch.float32).to(device)\n",
        "    gxz = torch.tensor(np.array(gxz), dtype=torch.float32).to(device)\n",
        "    gyy = torch.tensor(np.array(gyy), dtype=torch.float32).to(device)\n",
        "    gyz = torch.tensor(np.array(gyz), dtype=torch.float32).to(device)\n",
        "    gzz = torch.tensor(np.array(gzz), dtype=torch.float32).to(device)\n",
        "\n",
        "    D, Sx, Sy, Sz, tau, Bscriptx, Bscripty, Bscriptz = compute_conserved_variables(\n",
        "        rho, epsilon, vx, vy, vz, Bx, By, Bz, gxx, gxy, gxz, gyy, gyz, gzz\n",
        "    ) \n",
        "\n",
        "    # Add gxx, gxy, gxz, gyy, gyz, gzz to the tensor\n",
        "    x = torch.stack([D, Sx, Sy, Sz, tau, Bscriptx, Bscripty, Bscriptz, gxx, gxy, gxz, gyy, gyz, gzz], axis=1)\n",
        "    return x\n",
        "\n",
        "# Defining a function that generates output data (labels) from given samples of primitive variables\n",
        "# We use the definitions as given in Recovery schemes for primitive variables in\n",
        "# general-relativistic magnetohydrodynamics of Siegel et al.\n",
        "def generate_labels(rho, epsilon, vx, vy, vz):\n",
        "    # Converting the numpy arrays to torch tensors and moving them to the device\n",
        "    rho = torch.tensor(np.array(rho), dtype=torch.float32).to(device)\n",
        "    epsilon = torch.tensor(np.array(epsilon), dtype=torch.float32).to(device)\n",
        "    vx = torch.tensor(np.array(vx), dtype=torch.float32).to(device)\n",
        "    vy = torch.tensor(np.array(vy), dtype=torch.float32).to(device)\n",
        "    vz = torch.tensor(np.array(vz), dtype=torch.float32).to(device)\n",
        "\n",
        "    # Computing the required quantities\n",
        "    pres = eos_analytic(rho, epsilon)\n",
        "    h = 1 + epsilon + pres / rho\n",
        "    W = 1 / torch.sqrt(1 - (vx * vx + vy * vy + vz * vz))\n",
        "\n",
        "    # Returning the output data tensor\n",
        "    return h * W"
      ]
    },
    {
      "cell_type": "markdown",
      "metadata": {
        "id": "SSJd2Ch74cnI"
      },
      "source": [
        "### Generating or loading input data and labels"
      ]
    },
    {
      "cell_type": "code",
      "execution_count": 8,
      "metadata": {
        "id": "Dbu0GvMz4cnI"
      },
      "outputs": [],
      "source": [
        "%config InteractiveShell.ast_node_interactivity = \"all\""
      ]
    },
    {
      "cell_type": "code",
      "execution_count": 9,
      "metadata": {
        "id": "cKubR6C8UZh4"
      },
      "outputs": [],
      "source": [
        "if LOAD_DATA_FROM_CSV:\n",
        "    # Load the data from CSV files\n",
        "    x_train = pd.read_csv(csv_filenames[\"x_train\"]).values\n",
        "    y_train = pd.read_csv(csv_filenames[\"y_train\"]).values.squeeze()  # reshape to 1D\n",
        "    x_val = pd.read_csv(csv_filenames[\"x_val\"]).values\n",
        "    y_val = pd.read_csv(csv_filenames[\"y_val\"]).values.squeeze()  # reshape to 1D\n",
        "    x_test = pd.read_csv(csv_filenames[\"x_test\"]).values\n",
        "    y_test = pd.read_csv(csv_filenames[\"y_test\"]).values.squeeze()  # reshape to 1D\n",
        "\n",
        "    # Convert numpy arrays to tensors\n",
        "    x_train = torch.from_numpy(x_train).float().to(device)\n",
        "    y_train = torch.from_numpy(y_train).float().to(device)\n",
        "    x_val = torch.from_numpy(x_val).float().to(device)\n",
        "    y_val = torch.from_numpy(y_val).float().to(device)\n",
        "    x_test = torch.from_numpy(x_test).float().to(device)\n",
        "    y_test = torch.from_numpy(y_test).float().to(device)\n",
        "\n",
        "    # This is an alternative to having if clauses around the cells that visualize these variables.\n",
        "    rho = epsilon = vx = vy = vz = Bx = By = Bz = gxx = gxy = gxz = gyy = gyz  = gzz = None"
      ]
    },
    {
      "cell_type": "code",
      "execution_count": 10,
      "metadata": {
        "id": "dImVa4W04cnJ"
      },
      "outputs": [],
      "source": [
        "if not LOAD_DATA_FROM_CSV:\n",
        "    # Sample primitive variables and metric\n",
        "    rho, epsilon, vx, vy, vz, Bx, By, Bz, gxx, gxy, gxz, gyy, gyz, gzz = generate_samples(n_samples)"
      ]
    },
    {
      "cell_type": "code",
      "execution_count": 11,
      "metadata": {
        "colab": {
          "base_uri": "https://localhost:8080/"
        },
        "id": "ESK3LQPg4cnJ",
        "outputId": "da5209ea-f999-4313-9964-2063d6151d5a"
      },
      "outputs": [
        {
          "output_type": "stream",
          "name": "stdout",
          "text": [
            "rho.shape:  torch.Size([100000])\n",
            "epsilon.shape:  torch.Size([100000])\n",
            "rho.shape:  torch.Size([100000])\n",
            "epsilon.shape:  torch.Size([100000])\n"
          ]
        }
      ],
      "source": [
        "if not LOAD_DATA_FROM_CSV:\n",
        "    # Generate data and labels.\n",
        "    x = generate_input_data(rho, epsilon, vx, vy, vz, Bx, By, Bz, gxx, gxy, gxz, gyy, gyz, gzz)\n",
        "    y = generate_labels(rho, epsilon, vx, vy, vz)\n",
        "\n",
        "    # Calculate the number of samples in each set\n",
        "    n_train_samples = int(n_samples * train_frac)\n",
        "    n_val_samples = int(n_samples * val_frac)\n",
        "\n",
        "    # Create the data sets\n",
        "    x_train = x[:n_train_samples]\n",
        "    y_train = y[:n_train_samples]\n",
        "    x_val = x[n_train_samples : n_train_samples + n_val_samples]\n",
        "    y_val = y[n_train_samples : n_train_samples + n_val_samples]\n",
        "    x_test = x[n_train_samples + n_val_samples :]\n",
        "    y_test = y[n_train_samples + n_val_samples :]\n",
        "\n",
        "    # Save the data to CSV files; tensors need to be converted numpy arrays for saving in CSV.\n",
        "    pd.DataFrame(x_train.cpu().numpy()).to_csv(csv_filenames[\"x_train\"], index=False)\n",
        "    save_file(csv_filenames[\"x_train\"])\n",
        "    pd.DataFrame(y_train.cpu().numpy()).to_csv(csv_filenames[\"y_train\"], index=False)\n",
        "    save_file(csv_filenames[\"y_train\"])\n",
        "\n",
        "    pd.DataFrame(x_val.cpu().numpy()).to_csv(csv_filenames[\"x_val\"], index=False)\n",
        "    save_file(csv_filenames[\"x_val\"])\n",
        "    pd.DataFrame(y_val.cpu().numpy()).to_csv(csv_filenames[\"y_val\"], index=False)\n",
        "    save_file(csv_filenames[\"y_val\"])\n",
        "\n",
        "    pd.DataFrame(x_test.cpu().numpy()).to_csv(csv_filenames[\"x_test\"], index=False)\n",
        "    save_file(csv_filenames[\"x_test\"])\n",
        "    pd.DataFrame(y_test.cpu().numpy()).to_csv(csv_filenames[\"y_test\"], index=False)\n",
        "    save_file(csv_filenames[\"y_test\"])"
      ]
    },
    {
      "cell_type": "code",
      "execution_count": 12,
      "metadata": {
        "colab": {
          "base_uri": "https://localhost:8080/"
        },
        "id": "Y-3DG_h24cnJ",
        "outputId": "3e88c00f-68f1-4d3e-ca11-0d5133a5230a"
      },
      "outputs": [
        {
          "output_type": "execute_result",
          "data": {
            "text/plain": [
              "torch.Size([70000, 14])"
            ]
          },
          "metadata": {},
          "execution_count": 12
        },
        {
          "output_type": "execute_result",
          "data": {
            "text/plain": [
              "torch.Size([70000])"
            ]
          },
          "metadata": {},
          "execution_count": 12
        },
        {
          "output_type": "execute_result",
          "data": {
            "text/plain": [
              "torch.Size([15000, 14])"
            ]
          },
          "metadata": {},
          "execution_count": 12
        },
        {
          "output_type": "execute_result",
          "data": {
            "text/plain": [
              "torch.Size([15000])"
            ]
          },
          "metadata": {},
          "execution_count": 12
        },
        {
          "output_type": "execute_result",
          "data": {
            "text/plain": [
              "torch.Size([15000, 14])"
            ]
          },
          "metadata": {},
          "execution_count": 12
        },
        {
          "output_type": "execute_result",
          "data": {
            "text/plain": [
              "torch.Size([15000])"
            ]
          },
          "metadata": {},
          "execution_count": 12
        },
        {
          "output_type": "execute_result",
          "data": {
            "text/plain": [
              "tensor([[ 1.5283e-01,  5.9289e+01,  3.3512e+00,  ...,  9.4904e-01,\n",
              "          9.3493e-02,  9.2118e-01],\n",
              "        [ 8.0323e-01,  3.2535e+01,  1.1260e+01,  ...,  1.0366e+00,\n",
              "          8.7833e-02,  9.9013e-01],\n",
              "        [ 9.0854e-01,  7.3158e+00,  3.5798e+01,  ...,  1.0918e+00,\n",
              "          9.4647e-02,  9.0286e-01],\n",
              "        ...,\n",
              "        [ 1.9644e-01,  1.6020e+01, -3.5754e+01,  ...,  9.8532e-01,\n",
              "          7.3791e-02,  1.0044e+00],\n",
              "        [ 2.6900e+00,  5.7521e+01,  5.1941e+01,  ...,  9.2982e-01,\n",
              "          4.8360e-02,  9.6233e-01],\n",
              "        [ 2.1516e+00,  2.6995e+01, -1.2347e+01,  ...,  1.0681e+00,\n",
              "          9.3100e-02,  1.0582e+00]], device='cuda:0')"
            ]
          },
          "metadata": {},
          "execution_count": 12
        },
        {
          "output_type": "execute_result",
          "data": {
            "text/plain": [
              "tensor([ 5.8919, -1.0256,  6.3541,  ..., -1.5655,  5.6056,  8.9497],\n",
              "       device='cuda:0')"
            ]
          },
          "metadata": {},
          "execution_count": 12
        },
        {
          "output_type": "execute_result",
          "data": {
            "text/plain": [
              "tensor([[6.2472e-01, 2.6304e+01, 2.6665e+00,  ..., 9.7395e-01, 8.7809e-02,\n",
              "         1.0500e+00],\n",
              "        [2.4699e-01, 2.1005e+01, 5.2221e+00,  ..., 9.2315e-01, 3.6575e-03,\n",
              "         1.0270e+00],\n",
              "        [9.3967e-01, 2.5519e+01, 1.9325e+01,  ..., 1.0028e+00, 6.2407e-02,\n",
              "         1.0456e+00],\n",
              "        ...,\n",
              "        [8.6212e-01, 7.4349e+00, 8.1547e-01,  ..., 1.0318e+00, 1.8661e-02,\n",
              "         1.0554e+00],\n",
              "        [3.2691e-01, 7.8971e+00, 1.2596e+01,  ..., 9.8448e-01, 8.7087e-02,\n",
              "         9.1674e-01],\n",
              "        [9.0826e-01, 1.4492e+01, 1.3934e+01,  ..., 9.7565e-01, 9.0367e-02,\n",
              "         9.8527e-01]], device='cuda:0')"
            ]
          },
          "metadata": {},
          "execution_count": 12
        },
        {
          "output_type": "execute_result",
          "data": {
            "text/plain": [
              "tensor([ 6.2080,  0.3851,  7.2896,  ...,  1.6748,  5.2100, -2.5477],\n",
              "       device='cuda:0')"
            ]
          },
          "metadata": {},
          "execution_count": 12
        },
        {
          "output_type": "execute_result",
          "data": {
            "text/plain": [
              "tensor([[ 2.1992e+00,  6.7625e+00,  1.8743e+01,  ...,  1.0070e+00,\n",
              "          5.6642e-02,  1.0873e+00],\n",
              "        [ 4.5131e-01,  2.9162e+00,  7.1127e+00,  ...,  9.0913e-01,\n",
              "          7.1611e-02,  1.0214e+00],\n",
              "        [ 3.9524e-01, -9.3332e+00, -8.1012e+00,  ...,  1.0670e+00,\n",
              "          1.3524e-02,  9.0305e-01],\n",
              "        ...,\n",
              "        [ 3.2749e+00,  8.1483e+01,  5.2435e+00,  ...,  9.8675e-01,\n",
              "          3.3987e-02,  9.8154e-01],\n",
              "        [ 1.1058e+00,  4.2546e+00,  3.0953e+01,  ...,  1.0800e+00,\n",
              "          4.9969e-02,  1.0496e+00],\n",
              "        [ 1.1931e+00,  5.3638e+00,  1.4256e+00,  ...,  1.0053e+00,\n",
              "          2.2048e-02,  1.0655e+00]], device='cuda:0')"
            ]
          },
          "metadata": {},
          "execution_count": 12
        },
        {
          "output_type": "execute_result",
          "data": {
            "text/plain": [
              "tensor([6.0338, 0.3227, 4.4588,  ..., 1.1229, 5.0290, 5.4773], device='cuda:0')"
            ]
          },
          "metadata": {},
          "execution_count": 12
        }
      ],
      "source": [
        "\n",
        "x_train.shape\n",
        "y_train.shape\n",
        "x_val.shape\n",
        "y_val.shape\n",
        "x_test.shape\n",
        "y_test.shape\n",
        "x_train\n",
        "y_train\n",
        "x_val\n",
        "y_val\n",
        "x_test\n",
        "y_test"
      ]
    },
    {
      "cell_type": "code",
      "execution_count": 13,
      "metadata": {
        "colab": {
          "base_uri": "https://localhost:8080/"
        },
        "id": "xdpjCNO94cnK",
        "outputId": "b5462006-f2c1-431c-b3f6-af902be0f1f7"
      },
      "outputs": [
        {
          "output_type": "execute_result",
          "data": {
            "text/plain": [
              "tensor(False, device='cuda:0')"
            ]
          },
          "metadata": {},
          "execution_count": 13
        },
        {
          "output_type": "execute_result",
          "data": {
            "text/plain": [
              "tensor(False, device='cuda:0')"
            ]
          },
          "metadata": {},
          "execution_count": 13
        },
        {
          "output_type": "execute_result",
          "data": {
            "text/plain": [
              "tensor(False, device='cuda:0')"
            ]
          },
          "metadata": {},
          "execution_count": 13
        },
        {
          "output_type": "execute_result",
          "data": {
            "text/plain": [
              "tensor(False, device='cuda:0')"
            ]
          },
          "metadata": {},
          "execution_count": 13
        },
        {
          "output_type": "execute_result",
          "data": {
            "text/plain": [
              "tensor(False, device='cuda:0')"
            ]
          },
          "metadata": {},
          "execution_count": 13
        },
        {
          "output_type": "execute_result",
          "data": {
            "text/plain": [
              "tensor(False, device='cuda:0')"
            ]
          },
          "metadata": {},
          "execution_count": 13
        }
      ],
      "source": [
        "torch.isnan(x_train).any()\n",
        "torch.isnan(x_val).any()\n",
        "torch.isnan(x_test).any()\n",
        "torch.isnan(y_train).any()\n",
        "torch.isnan(y_val).any()\n",
        "torch.isnan(y_test).any()"
      ]
    },
    {
      "cell_type": "code",
      "execution_count": 14,
      "metadata": {
        "colab": {
          "base_uri": "https://localhost:8080/"
        },
        "id": "X1uRb5P04cnK",
        "outputId": "23488c7d-ade1-4b30-cb60-496cd5967718"
      },
      "outputs": [
        {
          "output_type": "execute_result",
          "data": {
            "text/plain": [
              "(tensor([], device='cuda:0', dtype=torch.int64),\n",
              " tensor([], device='cuda:0', dtype=torch.int64))"
            ]
          },
          "metadata": {},
          "execution_count": 14
        },
        {
          "output_type": "execute_result",
          "data": {
            "text/plain": [
              "(tensor([], device='cuda:0', dtype=torch.int64),\n",
              " tensor([], device='cuda:0', dtype=torch.int64))"
            ]
          },
          "metadata": {},
          "execution_count": 14
        },
        {
          "output_type": "execute_result",
          "data": {
            "text/plain": [
              "(tensor([], device='cuda:0', dtype=torch.int64),\n",
              " tensor([], device='cuda:0', dtype=torch.int64))"
            ]
          },
          "metadata": {},
          "execution_count": 14
        }
      ],
      "source": [
        "nan_mask_train = torch.isnan(x_train)     # get a boolean mask indicating NaN values\n",
        "nan_indices_train = torch.where(nan_mask_train)  # get the indices of the NaN values\n",
        "nan_indices_train\n",
        "# len(nan_indices_train)\n",
        "\n",
        "nan_mask_val = torch.isnan(x_val)     # get a boolean mask indicating NaN values\n",
        "nan_indices_val = torch.where(nan_mask_val)  # get the indices of the NaN values\n",
        "nan_indices_val\n",
        "# len(nan_indices_test)\n",
        "\n",
        "nan_mask_test = torch.isnan(x_test)     # get a boolean mask indicating NaN values\n",
        "nan_indices_test = torch.where(nan_mask_test)  # get the indices of the NaN values\n",
        "nan_indices_test\n",
        "# len(nan_indices_test)"
      ]
    },
    {
      "cell_type": "markdown",
      "metadata": {
        "id": "HC0o0Myn4cnK"
      },
      "source": [
        "## Visualizing the data"
      ]
    },
    {
      "cell_type": "code",
      "execution_count": 14,
      "metadata": {
        "id": "Yepq1endo_Dq"
      },
      "outputs": [],
      "source": []
    },
    {
      "cell_type": "markdown",
      "metadata": {
        "id": "BVjHjCp2JKhb"
      },
      "source": []
    },
    {
      "cell_type": "code",
      "execution_count": 14,
      "metadata": {
        "id": "2wPw8uejJVp9"
      },
      "outputs": [],
      "source": []
    },
    {
      "cell_type": "code",
      "execution_count": 14,
      "metadata": {
        "id": "qDMtjY3Po_BS"
      },
      "outputs": [],
      "source": []
    },
    {
      "cell_type": "code",
      "execution_count": 14,
      "metadata": {
        "id": "_Ot-jRvGo-7B"
      },
      "outputs": [],
      "source": []
    },
    {
      "cell_type": "code",
      "execution_count": 15,
      "metadata": {
        "colab": {
          "base_uri": "https://localhost:8080/"
        },
        "id": "5CXNfzzz4cnL",
        "outputId": "8b112d14-35cf-462c-c253-5000e6f8bc0d"
      },
      "outputs": [
        {
          "output_type": "stream",
          "name": "stdout",
          "text": [
            "skipping\n"
          ]
        }
      ],
      "source": [
        "%%script echo skipping\n",
        "\n",
        "if not LOAD_DATA_FROM_CSV:\n",
        "    rho\n",
        "    epsilon\n",
        "    vx\n",
        "    vy\n",
        "    vz \n",
        "    Bx\n",
        "    By\n",
        "    Bz\n",
        "    gxx\n",
        "    gxy\n",
        "    gxz\n",
        "    gyy\n",
        "    gyz\n",
        "    gzz "
      ]
    },
    {
      "cell_type": "markdown",
      "metadata": {
        "id": "Myrn0owg4cnL"
      },
      "source": [
        "### Visualizing sampled data"
      ]
    },
    {
      "cell_type": "code",
      "execution_count": 16,
      "metadata": {
        "colab": {
          "base_uri": "https://localhost:8080/"
        },
        "id": "jEj1uLoV4cnL",
        "outputId": "d6368c0c-8ee9-404d-f329-86a45a1e47e6"
      },
      "outputs": [
        {
          "output_type": "stream",
          "name": "stdout",
          "text": [
            "100000\n",
            "100000\n",
            "100000\n",
            "100000\n",
            "100000\n",
            "100000\n",
            "100000\n",
            "100000\n",
            "\n",
            "100000\n",
            "100000\n",
            "100000\n",
            "100000\n",
            "100000\n",
            "100000\n"
          ]
        }
      ],
      "source": [
        "if not LOAD_DATA_FROM_CSV:\n",
        "    print(len(rho))\n",
        "    print(len(epsilon))\n",
        "    print(len(vx))\n",
        "    print(len(vy))\n",
        "    print(len(vz))\n",
        "    print(len(Bx))\n",
        "    print(len(By))\n",
        "    print(len(Bz))\n",
        "    print()\n",
        "    print(len(gxx))\n",
        "    print(len(gxy))\n",
        "    print(len(gxz))\n",
        "    print(len(gyy))\n",
        "    print(len(gyz))\n",
        "    print(len(gzz))"
      ]
    },
    {
      "cell_type": "code",
      "execution_count": 17,
      "metadata": {
        "id": "VMp6XJ6RUZh4"
      },
      "outputs": [],
      "source": [
        "%config InteractiveShell.ast_node_interactivity = \"last_expr_or_assign\""
      ]
    },
    {
      "cell_type": "code",
      "execution_count": 18,
      "metadata": {
        "colab": {
          "base_uri": "https://localhost:8080/"
        },
        "id": "F6urnHAr4cnM",
        "outputId": "50327c0c-bbcc-472b-8381-868e983d56d7"
      },
      "outputs": [
        {
          "output_type": "stream",
          "name": "stdout",
          "text": [
            "skipping\n"
          ]
        }
      ],
      "source": [
        "%%script echo skipping\n",
        "\n",
        "plt.hist([np.random.uniform(0, 0.999) for _ in range(n_train_samples)], bins=20)"
      ]
    },
    {
      "cell_type": "code",
      "execution_count": 19,
      "metadata": {
        "colab": {
          "base_uri": "https://localhost:8080/"
        },
        "id": "2iNL6ULb4cnM",
        "outputId": "ee2285d9-1eaf-4c15-f1a4-03fc7d215bc9"
      },
      "outputs": [
        {
          "output_type": "stream",
          "name": "stdout",
          "text": [
            "skipping\n"
          ]
        }
      ],
      "source": [
        "%%script echo skipping\n",
        "\n",
        "epsilon"
      ]
    },
    {
      "cell_type": "markdown",
      "metadata": {
        "id": "hydjma5V4cnM"
      },
      "source": [
        "The reason the sampling is not uniformly distributed in the following plots is due to the resampling and the fact that we certain values of e.g. velocity are more likely to violate the speed of light constraint than others."
      ]
    },
    {
      "cell_type": "code",
      "execution_count": 20,
      "metadata": {
        "colab": {
          "base_uri": "https://localhost:8080/",
          "height": 827
        },
        "id": "E5YFdqKjUZh5",
        "outputId": "8dbea57b-b0ca-4d2c-9825-1e5e0c8e63f1"
      },
      "outputs": [
        {
          "output_type": "display_data",
          "data": {
            "text/plain": [
              "<Figure size 2000x1600 with 14 Axes>"
            ],
            "image/png": "[encoded data removed]"
          },
          "metadata": {}
        }
      ],
      "source": [
        "#%%script echo skipping\n",
        "\n",
        "if not LOAD_DATA_FROM_CSV:\n",
        "    def plot_histogram(data, xlabel, ylabel, position, bins=20, xlog_scale=False, ylog_scale=False):\n",
        "        plt.subplot(4, 5, position)\n",
        "        plt.hist(data, bins=bins)\n",
        "        plt.xlabel(xlabel)\n",
        "        plt.ylabel(ylabel)\n",
        "        if xlog_scale: # Setting does not work expected for epsilon.\n",
        "            plt.xscale(\"log\")\n",
        "        if ylog_scale: # Setting does not work expected for epsilon.\n",
        "            plt.yscale(\"log\")\n",
        "\n",
        "    # Plotting the histograms of rho, vx, epsilon, b0, b1, b2, and b3\n",
        "    bins = 20\n",
        "    plt.figure(figsize=(20, 16))\n",
        "\n",
        "    plot_histogram(rho, \"rho\", \"Frequency\", 1, bins=bins)\n",
        "    plot_histogram(epsilon, \"epsilon\", \"Frequency\", 2, bins=bins)\n",
        "    plot_histogram(vx, \"vx\", \"Frequency\", 3, bins=bins)\n",
        "    plot_histogram(vy, \"vy\", \"Frequency\", 4, bins=bins)\n",
        "    plot_histogram(vz, \"vz\", \"Frequency\", 5, bins=bins)\n",
        "    plot_histogram(Bx, \"Bx\", \"Frequency\", 6, bins=bins)\n",
        "    plot_histogram(By, \"By\", \"Frequency\", 7, bins=bins)\n",
        "    plot_histogram(Bz, \"Bz\", \"Frequency\", 8, bins=bins)\n",
        "\n",
        "    # Plot these\n",
        "    plot_histogram(gxx, \"gxx\", \"Frequency\", 9, bins=bins)\n",
        "    plot_histogram(gxy, \"gxy\", \"Frequency\", 10, bins=bins)\n",
        "    plot_histogram(gxz, \"gxz\", \"Frequency\", 11, bins=bins)\n",
        "    plot_histogram(gyy, \"gyy\", \"Frequency\", 12, bins=bins)\n",
        "    plot_histogram(gyz, \"gyz\", \"Frequency\", 13, bins=bins)\n",
        "    plot_histogram(gzz, \"gzz\", \"Frequency\", 14, bins=bins)\n",
        "\n",
        "\n",
        "    plt.suptitle(\"Primitive variables and metric\")\n",
        "    plt.tight_layout()\n",
        "    plt.show()\n"
      ]
    },
    {
      "cell_type": "code",
      "execution_count": 21,
      "metadata": {
        "id": "sUNNNX5e4cnN"
      },
      "outputs": [],
      "source": [
        "%config InteractiveShell.ast_node_interactivity = \"last_expr_or_assign\""
      ]
    },
    {
      "cell_type": "code",
      "execution_count": 22,
      "metadata": {
        "colab": {
          "base_uri": "https://localhost:8080/",
          "height": 1000
        },
        "id": "et4AFTXb4cnN",
        "outputId": "04e43cec-4da1-4f7c-bf16-4a0dee84acb2"
      },
      "outputs": [
        {
          "output_type": "display_data",
          "data": {
            "text/plain": [
              "<Figure size 1600x1600 with 14 Axes>"
            ],
            "image/png": "[encoded data removed]"
          },
          "metadata": {}
        }
      ],
      "source": [
        "#%%script echo skipping\n",
        "\n",
        "# Variable names\n",
        "variable_names = [\"D\", \"Sx\", \"Sy\", \"Sz\", \"tau\", \"Bconsx\", \"Bconsy\", \"Bconsz\", \"gxx\", \"gxy\", \"gxz\", \"gyy\", \"gyz\", \"gzz\"]\n",
        "\n",
        "# Plotting histograms of the input variables before z-score normalization\n",
        "plt.figure(figsize=(16, 16))\n",
        "plt.suptitle('Histograms of input variables before (or without at all) z-score normalization', y=1.03)\n",
        "\n",
        "for i in range(N_INPUTS):\n",
        "    plt.subplot(7, 2, i+1)\n",
        "    data = x_train[:, i].cpu().numpy() # Convert tensor to numpy array for percentile calculation\n",
        "    lower_bound, upper_bound = np.percentile(data, [1, 100]) # NOTE: Use this instead to visualize all the data.\n",
        "    # lower_bound, upper_bound = np.percentile(data, [1, 90]) # Calculate 1st and 99th percentile\n",
        "\n",
        "    plt.hist(data, bins=50, range=(lower_bound, upper_bound)) # Set range to the calculated percentile range\n",
        "    plt.xlabel(variable_names[i])\n",
        "    plt.xlim(lower_bound, upper_bound) # Set the x limit to match the range of the histogram\n",
        "\n",
        "plt.subplots_adjust(hspace=0.4, wspace=0.4)\n",
        "plt.show()\n",
        "\n",
        "# Same plotting but for the test data. Adjust the percentile range as needed to zoom in.\n",
        "# plt.figure(figsize=(16, 16))\n",
        "# plt.suptitle('Histograms of input variables before (or without at all) z-score normalization (test data)', y=1.03)\n",
        "\n",
        "# for i in range(14):\n",
        "#     plt.subplot(7, 2, i+1)\n",
        "#     data = x_test[:, i].cpu().numpy() # Convert tensor to numpy array for percentile calculation\n",
        "#     #lower_bound, upper_bound = np.percentile(data, [1, 100]) # NOTE: Use this instead to visualize all the data.\n",
        "#     lower_bound, upper_bound = np.percentile(data, [1, 99]) # Use this to zoom in.\n",
        "\n",
        "#     plt.hist(data, bins=50, range=(lower_bound, upper_bound)) # Set range to the calculated percentile range\n",
        "#     plt.xlabel(variable_names[i])\n",
        "#     plt.xlim(lower_bound, upper_bound) # Set the x limit to match the range of the histogram\n",
        "\n",
        "# plt.subplots_adjust(hspace=0.4, wspace=0.4)\n",
        "# plt.show()\n",
        "\n"
      ]
    },
    {
      "cell_type": "markdown",
      "metadata": {
        "id": "oQ8r4X8b4cnO"
      },
      "source": [
        "### Data normalization"
      ]
    },
    {
      "cell_type": "code",
      "execution_count": 23,
      "metadata": {
        "colab": {
          "base_uri": "https://localhost:8080/"
        },
        "id": "QBlz2cHo4cnO",
        "outputId": "ae44b403-094d-4fd1-df58-68da86048173"
      },
      "outputs": [
        {
          "output_type": "stream",
          "name": "stdout",
          "text": [
            "Summary statistics of input variables before z-score normalization\n",
            "tensor([[ 1.8657e-05,  2.9177e+02,  2.2673e+00,  1.6638e+00,  4.0196e+00],\n",
            "        [-1.9666e+04,  1.4927e+05,  4.4767e+01,  2.1899e+01,  9.3664e+02],\n",
            "        [-2.4230e+04,  1.0277e+05,  4.1637e+01,  2.1884e+01,  6.7975e+02],\n",
            "        [-2.1294e+04,  1.3714e+05,  4.3941e+01,  2.1883e+01,  9.0876e+02],\n",
            "        [-3.0293e+04,  2.0135e+05,  1.0096e+02,  6.9821e+01,  1.3991e+03],\n",
            "        [-1.1082e+01,  1.1279e+01,  5.1517e-02,  6.2129e-02,  5.7482e+00],\n",
            "        [-1.1187e+01,  1.1139e+01, -1.5309e-02, -2.7105e-02,  5.7294e+00],\n",
            "        [-1.1230e+01,  1.1034e+01,  2.1167e-03,  3.4158e-03,  5.7422e+00],\n",
            "        [ 9.0000e-01,  1.1000e+00,  9.9839e-01,  9.9741e-01,  5.7820e-02],\n",
            "        [ 1.1170e-06,  9.9999e-02,  4.9434e-02,  4.9297e-02,  2.8861e-02],\n",
            "        [ 2.3676e-06,  9.9994e-02,  4.9552e-02,  4.9411e-02,  2.8948e-02],\n",
            "        [ 9.0000e-01,  1.1000e+00,  9.9862e-01,  9.9765e-01,  5.7621e-02],\n",
            "        [ 8.8819e-07,  1.0000e-01,  4.9585e-02,  4.9432e-02,  2.8835e-02],\n",
            "        [ 9.0000e-01,  1.1000e+00,  9.9908e-01,  9.9874e-01,  5.7703e-02]],\n",
            "       device='cuda:0')\n"
          ]
        }
      ],
      "source": [
        "# Computing summary statistics of the input variables before and after z-score normalization\n",
        "print('Summary statistics of input variables before z-score normalization')\n",
        "print(torch.stack([torch.min(x_train, dim=0).values, torch.max(x_train, dim=0).values, torch.nanmean(x_train, dim=0), torch.median(x_train, dim=0).values, torch.std(x_train, dim=0)], dim=1))"
      ]
    },
    {
      "cell_type": "markdown",
      "metadata": {
        "id": "xTEmkR1SUZh7"
      },
      "source": [
        "Perform z-score normalization"
      ]
    },
    {
      "cell_type": "code",
      "execution_count": 24,
      "metadata": {
        "id": "skDi8Xbh4cnO"
      },
      "outputs": [],
      "source": [
        "%config InteractiveShell.ast_node_interactivity = \"all\""
      ]
    },
    {
      "cell_type": "code",
      "execution_count": 25,
      "metadata": {
        "id": "yPOv6DxhUZh7"
      },
      "outputs": [],
      "source": [
        "if ZSCORE_NORMALIZATION:\n",
        "    \n",
        "    # TODO: Add magnetic field variables to the normalization if I decide to use the old code that is commented out here.\n",
        "    # # Computing the median of each input variable from the training set using torch.nanmedian function\n",
        "    # D_median = torch.nanmedian(x_train[:, 0])\n",
        "    # Sx_median = torch.nanmedian(x_train[:, 1])\n",
        "    # Sy_median = torch.nanmedian(x_train[:, 2])\n",
        "    # Sz_median = torch.nanmedian(x_train[:, 3])\n",
        "    # tau_median = torch.nanmedian(x_train[:, 4])\n",
        "\n",
        "    # # Computing the standard deviation of each input variable from the training set using torch.std function with a boolean mask to ignore nan values\n",
        "    # D_std = torch.std(x_train[~torch.isnan(x_train[:, 0]), 0])\n",
        "    # Sx_std = torch.std(x_train[~torch.isnan(x_train[:, 1]), 1])\n",
        "    # Sy_std = torch.std(x_train[~torch.isnan(x_train[:, 2]), 2])\n",
        "    # Sz_std = torch.std(x_train[~torch.isnan(x_train[:, 3]), 3])\n",
        "    # tau_std = torch.std(x_train[~torch.isnan(x_train[:, 4]), 4])\n",
        "\n",
        "\n",
        "    # # Applying z-score normalization to both train and test sets using the statistics from the training set\n",
        "    # x_train[:, 0] = torch.sub(x_train[:, 0], D_median).div(D_std)\n",
        "    # x_train[:, 1] = torch.sub(x_train[:, 1], Sx_median).div(Sx_std)\n",
        "    # x_train[:, 2] = torch.sub(x_train[:, 2], Sy_median).div(Sy_std)\n",
        "    # x_train[:, 3] = torch.sub(x_train[:, 3], Sz_median).div(Sz_std)\n",
        "    # x_train[:, 4] = torch.sub(x_train[:, 4], tau_median).div(tau_std)\n",
        "\n",
        "    # x_test[:, 0] = torch.sub(x_test[:, 0], D_median).div(D_std)\n",
        "    # x_test[:, 1] = torch.sub(x_test[:, 1], Sx_median).div(Sx_std)\n",
        "    # x_test[:, 2] = torch.sub(x_test[:, 2], Sy_median).div(Sy_std)\n",
        "    # x_test[:, 3] = torch.sub(x_test[:, 3], Sz_median).div(Sz_std)\n",
        "    # x_test[:, 4] = torch.sub(x_test[:, 4], tau_median).div(tau_std)\n",
        "\n",
        "    # Computing the mean and standard deviation of each column\n",
        "    mean = x_train.mean(dim=0)\n",
        "    std = x_train.std(dim=0)\n",
        "\n",
        "    # Applying z-score normalization\n",
        "    x_train = (x_train - mean) / std\n",
        "    # Use the same mean and std from the training data as we don't want test data leakage.\n",
        "    x_test = (x_test - mean) / std\n",
        "\n"
      ]
    },
    {
      "cell_type": "markdown",
      "metadata": {
        "id": "5xqeJJH34cnc"
      },
      "source": [
        "Plotting the histograms of the input data after normalization if z-score normalization was performed."
      ]
    },
    {
      "cell_type": "code",
      "execution_count": 26,
      "metadata": {
        "id": "IknQpxd94cnc"
      },
      "outputs": [],
      "source": [
        "%config InteractiveShell.ast_node_interactivity = \"last_expr_or_assign\""
      ]
    },
    {
      "cell_type": "code",
      "execution_count": 27,
      "metadata": {
        "id": "u30TMn0q4cnc"
      },
      "outputs": [],
      "source": [
        "if not LOAD_DATA_FROM_CSV:\n",
        "    if ZSCORE_NORMALIZATION:\n",
        "        # Variable names\n",
        "        variable_names = [\"D\", \"Sx\", \"Sy\", \"Sz\", \"tau\", \"Bconsx\", \"Bconsy\", \"Bconsz\", \"gxx\", \"gxy\", \"gxz\", \"gyy\", \"gyz\", \"gzz\"]\n",
        "\n",
        "        # Plotting histograms of the input variables before z-score normalization\n",
        "        plt.figure(figsize=(16, 16))\n",
        "        plt.suptitle('Histograms of input variables before (or without at all) z-score normalization', y=1.03)\n",
        "\n",
        "        for i in range(N_INPUTS):\n",
        "            plt.subplot(7, 2, i+1)\n",
        "            data = x_train[:, i].cpu().numpy() # Convert tensor to numpy array for percentile calculation\n",
        "            lower_bound, upper_bound = np.percentile(data, [1, 100]) # NOTE: Use this instead to visualize all the data.\n",
        "            # lower_bound, upper_bound = np.percentile(data, [1, 90]) # Calculate 1st and 99th percentile\n",
        "\n",
        "            plt.hist(data, bins=50, range=(lower_bound, upper_bound)) # Set range to the calculated percentile range\n",
        "            plt.xlabel(variable_names[i])\n",
        "            plt.xlim(lower_bound, upper_bound) # Set the x limit to match the range of the histogram\n",
        "\n",
        "        plt.subplots_adjust(hspace=0.4, wspace=0.4)\n",
        "        plt.show()"
      ]
    },
    {
      "cell_type": "code",
      "execution_count": 28,
      "metadata": {
        "id": "U_SBKnoX4cnd"
      },
      "outputs": [],
      "source": [
        "if ZSCORE_NORMALIZATION:\n",
        "    # Computing summary statistics of the input variables after z-score normalization\n",
        "    print('Summary statistics of input variables after z-score normalization')\n",
        "    print(torch.stack([torch.min(x_train, dim=0).values, torch.max(x_train, dim=0).values, torch.mean(x_train, dim=0), torch.median(x_train, dim=0).values, torch.std(x_train, dim=0)], dim=1))\n"
      ]
    },
    {
      "cell_type": "markdown",
      "metadata": {
        "id": "34JFkBNc4cnd"
      },
      "source": [
        "### Visualizing input data and labels"
      ]
    },
    {
      "cell_type": "code",
      "execution_count": 29,
      "metadata": {
        "colab": {
          "base_uri": "https://localhost:8080/"
        },
        "id": "8TkfblGD4cnd",
        "outputId": "5266f82f-22bb-418b-d5b5-df8e5ecce5ab"
      },
      "outputs": [
        {
          "output_type": "execute_result",
          "data": {
            "text/plain": [
              "tensor([6.0338, 0.3227, 4.4588,  ..., 1.1229, 5.0290, 5.4773], device='cuda:0')"
            ]
          },
          "metadata": {},
          "execution_count": 29
        }
      ],
      "source": [
        "x_train\n",
        "y_train\n",
        "x_val\n",
        "y_val\n",
        "x_test\n",
        "y_test"
      ]
    },
    {
      "cell_type": "markdown",
      "metadata": {
        "id": "E96p_MsOUZh9",
        "outputId": "4b95bad0-8f3a-4364-eed1-008e0ce2a5e3"
      },
      "source": [
        "Checking if our output is always positive ~~by plotting a histogram of y_train and y_test tensors~~"
      ]
    },
    {
      "cell_type": "code",
      "execution_count": 30,
      "metadata": {
        "colab": {
          "base_uri": "https://localhost:8080/"
        },
        "id": "oRXf8ib_4cne",
        "outputId": "87d445ca-e07e-4d2a-894b-06fc2734d74f"
      },
      "outputs": [
        {
          "output_type": "stream",
          "name": "stdout",
          "text": [
            "tensor(True)\n"
          ]
        }
      ],
      "source": [
        "import torch\n",
        "\n",
        "# Create a sample tensor\n",
        "tensor = torch.randn(80000, 14)  # Assuming a tensor of shape [80000, 14]\n",
        "tensor\n",
        "\n",
        "\n",
        "# Check if any element is negative\n",
        "any_negative = torch.any(tensor < 0)\n",
        "\n",
        "# Print the result\n",
        "print(any_negative)\n"
      ]
    },
    {
      "cell_type": "code",
      "execution_count": 31,
      "metadata": {
        "colab": {
          "base_uri": "https://localhost:8080/"
        },
        "id": "1pWymsnT4cne",
        "outputId": "07630eeb-09be-44b6-c842-ef3f1f99f53a"
      },
      "outputs": [
        {
          "output_type": "execute_result",
          "data": {
            "text/plain": [
              "tensor(True, device='cuda:0')"
            ]
          },
          "metadata": {},
          "execution_count": 31
        }
      ],
      "source": [
        "y_train.shape\n",
        "any_negative = torch.any(y_train < 0)\n",
        "any_negative\n",
        "\n",
        "y_test.shape\n",
        "any_negative = torch.any(y_test < 0)\n",
        "any_negative\n",
        "\n",
        "x_train.shape\n",
        "any_negative = torch.any(x_train < 0)\n",
        "any_negative"
      ]
    },
    {
      "cell_type": "code",
      "execution_count": 32,
      "metadata": {
        "colab": {
          "base_uri": "https://localhost:8080/",
          "height": 407
        },
        "id": "I8j5uTN94cne",
        "outputId": "df83f581-e21b-4c4a-cd85-29435c7e9a78"
      },
      "outputs": [
        {
          "output_type": "display_data",
          "data": {
            "text/plain": [
              "<Figure size 800x400 with 3 Axes>"
            ],
            "image/png": "[encoded data removed]"
          },
          "metadata": {}
        }
      ],
      "source": [
        "#%%script echo skipping\n",
        "\n",
        "plt.figure(figsize=(8, 4))\n",
        "plt.subplot(1, 3, 1)\n",
        "plt.hist(y_train.cpu().numpy(), bins=100) # must be cpu here.\n",
        "plt.xlabel(\"y_train\")\n",
        "plt.ylabel(\"Frequency\")\n",
        "plt.xscale(\"log\")\n",
        "plt.subplot(1, 3, 2)\n",
        "plt.hist(y_val.cpu().numpy(), bins=100) # must be cpu here\n",
        "plt.xlabel(\"y_val\")\n",
        "plt.ylabel(\"Frequency\")\n",
        "plt.xscale(\"log\")\n",
        "plt.tight_layout()\n",
        "plt.subplot(1, 3, 3)\n",
        "plt.hist(y_test.cpu().numpy(), bins=100) # must be cpu here\n",
        "plt.xlabel(\"y_test\")\n",
        "plt.ylabel(\"Frequency\")\n",
        "plt.xscale(\"log\")\n",
        "plt.tight_layout()\n",
        "plt.show()\n"
      ]
    },
    {
      "cell_type": "code",
      "execution_count": 33,
      "metadata": {
        "id": "FEgjk--AUZh9"
      },
      "outputs": [],
      "source": [
        "%config InteractiveShell.ast_node_interactivity = \"all\""
      ]
    },
    {
      "cell_type": "markdown",
      "metadata": {
        "id": "r2b9GecHUZh9"
      },
      "source": [
        "## Defining the neural network"
      ]
    },
    {
      "cell_type": "code",
      "execution_count": 34,
      "metadata": {
        "id": "Iv8HA-ZXUZh-"
      },
      "outputs": [],
      "source": [
        "# Defining a class for the network\n",
        "class Net(nn.Module):\n",
        "    \"\"\"A class for creating a network with a\n",
        "    variable number of hidden layers and units.\n",
        "\n",
        "    Attributes:\n",
        "        n_layers (int): The number of hidden layers in the network.\n",
        "        n_units (list): A list of integers representing the number of units in each hidden layer.\n",
        "        hidden_activation (torch.nn.Module): The activation function for the hidden layers.\n",
        "        output_activation (torch.nn.Module): The activation function for the output layer.\n",
        "        layers (torch.nn.ModuleList): A list of linear layers in the network.\n",
        "    \"\"\"\n",
        "\n",
        "    def __init__(self, n_layers, n_units, hidden_activation, output_activation, dropout_rate):\n",
        "        \"\"\"Initializes the network with the given hyperparameters.\n",
        "\n",
        "        Args:\n",
        "            n_layers (int): The number of hidden layers in the network.\n",
        "            n_units (list): A list of integers representing the number of units in each hidden layer.\n",
        "            hidden_activation (torch.nn.Module): The activation function for the hidden layers.\n",
        "            output_activation (torch.nn.Module): The activation function for the output layer.\n",
        "            TODO: [ver. Copilot description] dropout_rate (float): The dropout rate to use for all layers.\n",
        "        \"\"\"\n",
        "        super().__init__()\n",
        "        self.n_layers = n_layers\n",
        "        self.n_units = n_units\n",
        "        self.hidden_activation = hidden_activation\n",
        "        self.output_activation = output_activation\n",
        "        self.dropout_rate = dropout_rate\n",
        "\n",
        "        # Creating a list of linear layers with different numbers of units for each layer\n",
        "        self.layers = nn.ModuleList()\n",
        "        self.dropouts = nn.ModuleList()\n",
        "\n",
        "        self.layers.append(nn.Linear(N_INPUTS, n_units[0]))\n",
        "        self.dropouts.append(nn.Dropout(p=dropout_rate))\n",
        "\n",
        "        for i in range(1, n_layers):\n",
        "            self.layers.append(nn.Linear(n_units[i - 1], n_units[i]))\n",
        "            self.dropouts.append(nn.Dropout(p=dropout_rate))\n",
        "\n",
        "        self.layers.append(nn.Linear(n_units[-1], N_OUTPUTS))\n",
        "\n",
        "        # Adding some assertions to check that the input arguments are valid\n",
        "        assert isinstance(n_layers, int) and n_layers > 0, \"n_layers must be a positive integer\"\n",
        "        assert isinstance(n_units, list) and len(n_units) == n_layers, \"n_units must be a list of length n_layers\"\n",
        "        assert all(isinstance(n, int) and n > 0 for n in n_units), \"n_units must contain positive integers\"\n",
        "        assert isinstance(hidden_activation, nn.Module), \"hidden_activation must be a torch.nn.Module\"\n",
        "        assert isinstance(output_activation, nn.Module), \"output_activation must be a torch.nn.Module\"\n",
        "\n",
        "    def forward(self, x):\n",
        "        \"\"\"Performs a forward pass on the input tensor.\n",
        "\n",
        "        Args:\n",
        "            x (torch.Tensor): The input tensor of shape (batch_size, N_INPUTS).\n",
        "\n",
        "        Returns:\n",
        "            torch.Tensor: The output tensor of shape (batch_size, N_OUTPUTS).\n",
        "        \"\"\"\n",
        "        # Adding an assertion to check that the input tensor has the expected shape and type\n",
        "        assert isinstance(x, torch.Tensor), \"x must be a torch.Tensor\"\n",
        "        assert x.shape[1] == N_INPUTS, f\"x must have shape (batch_size, {N_INPUTS})\"\n",
        "\n",
        "        for layer, dropout in zip(self.layers[:-1], self.dropouts):\n",
        "            x = dropout(self.hidden_activation(layer(x)))\n",
        "        # Applying the linear transformation and the activation function on the output layer\n",
        "        x = self.output_activation(self.layers[-1](x)) # No dropout at output layer\n",
        "\n",
        "        return x # Returning the output tensor\n"
      ]
    },
    {
      "cell_type": "code",
      "execution_count": 35,
      "metadata": {
        "colab": {
          "base_uri": "https://localhost:8080/"
        },
        "id": "4zShBNVG4cnf",
        "outputId": "3c19a5b8-c9f5-4364-b61a-231bbe275b16"
      },
      "outputs": [
        {
          "output_type": "stream",
          "name": "stdout",
          "text": [
            "skipping\n"
          ]
        }
      ],
      "source": [
        "%%script echo skipping\n",
        "\n",
        "[1,2,3]\n",
        "[1,2,3][:-1]"
      ]
    },
    {
      "cell_type": "code",
      "execution_count": 36,
      "metadata": {
        "colab": {
          "base_uri": "https://localhost:8080/"
        },
        "id": "3c3WaPyv4cng",
        "outputId": "7d20e9bc-3382-470f-9298-4a77cd659182"
      },
      "outputs": [
        {
          "output_type": "stream",
          "name": "stdout",
          "text": [
            "1\n",
            "2\n"
          ]
        }
      ],
      "source": [
        "for x in [1,2,3][:-1]:\n",
        "    print(x)\n",
        "\n"
      ]
    },
    {
      "cell_type": "markdown",
      "metadata": {
        "id": "6GNvp55PUZh_"
      },
      "source": [
        "## Defining the model and search space"
      ]
    },
    {
      "cell_type": "code",
      "execution_count": 37,
      "metadata": {
        "id": "9a1opluOUZh_"
      },
      "outputs": [],
      "source": [
        "# Defining a function to create a trial network and optimizer\n",
        "def create_model(trial, optimize):\n",
        "    \"\"\"Creates a trial network and optimizer based on the sampled hyperparameters.\n",
        "\n",
        "    Args:\n",
        "        trial (optuna.trial.Trial): The trial object that contains the hyperparameters.\n",
        "        optimize (boolean): Whether to optimize the hyperparameters or to use predefined values.\n",
        "\n",
        "    Returns:\n",
        "        tuple: A tuple of (net, loss_fn, optimizer, batch_size, n_epochs,\n",
        "            scheduler, loss_name, optimizer_name, scheduler_name,\n",
        "            n_units, n_layers, hidden_activation, output_activation),\n",
        "            where net is the trial network,\n",
        "            loss_fn is the loss function,\n",
        "            optimizer is the optimizer,\n",
        "            batch_size is the batch size,\n",
        "            n_epochs is the number of epochs,\n",
        "            scheduler is the learning rate scheduler,\n",
        "            loss_name is the name of the loss function,\n",
        "            optimizer_name is the name of the optimizer,\n",
        "            scheduler_name is the name of the scheduler,\n",
        "            n_units is a list of integers representing\n",
        "            the number of units in each hidden layer,\n",
        "            n_layers is an integer representing the number of hidden layers in the network,\n",
        "            hidden_activation is a torch.nn.Module representing the activation function for the hidden layers,\n",
        "            output_activation is a torch.nn.Module representing the activation function for the output layer,\n",
        "            lr is the (initial) learning rate.\n",
        "            dropout_rate is the dropout rate.\n",
        "    \"\"\"\n",
        "    # If optimize is True, sample the hyperparameters from the search space\n",
        "    if OPTIMIZE:\n",
        "        n_layers = trial.suggest_int(\"n_layers\", 5, 10)\n",
        "        n_units = [trial.suggest_int(f\"n_units_{i}\", 16, 4096) for i in range(n_layers)]\n",
        "\n",
        "        hidden_activation_name = trial.suggest_categorical(\n",
        "            \"hidden_activation\", [\"ReLU\", \"LeakyReLU\", \"ELU\", \"PReLU\", \"Swish\", \"GELU\", \"SoftPlus\"]\n",
        "        )\n",
        "        output_activation_name = trial.suggest_categorical( \"output_activation\", [\"Linear\"])\n",
        "\n",
        "        loss_name = trial.suggest_categorical( \"loss\", [\"MSE\", \"MAE\", \"Huber\", \"Quantile\"]) \n",
        "\n",
        "        optimizer_name = trial.suggest_categorical( \"optimizer\", [\"Adam\", \"SGD\", \"RMSprop\", \"Adagrad\"] )\n",
        "\n",
        "        lr = trial.suggest_loguniform(\"lr\", 1e-5, 1e-1)\n",
        "\n",
        "        batch_size_list = [32, 64, 128, 256, 512, 1024, 2048]\n",
        "        batch_size = trial.suggest_categorical(\"batch_size\", batch_size_list)\n",
        "        \n",
        "        n_epochs = trial.suggest_int(\"n_epochs\", 50, 150)\n",
        "\n",
        "        # scheduler_name = trial.suggest_categorical(\"scheduler\", [\"CosineAnnealingLR\", \"ReduceLROnPlateau\", \"StepLR\", \"CyclicLR\"])\n",
        "        scheduler_name = trial.suggest_categorical(\"scheduler\", [\"CosineAnnealingLR\", \"ReduceLROnPlateau\", \"StepLR\"])\n",
        "\n",
        "        # Creating the activation functions from their names\n",
        "        if hidden_activation_name == \"ReLU\":\n",
        "            hidden_activation = nn.ReLU()\n",
        "        elif hidden_activation_name == \"LeakyReLU\":\n",
        "            negative_slope = trial.suggest_uniform(\"leakyrelu_slope\", 0.01, 0.3)\n",
        "            hidden_activation = nn.LeakyReLU(negative_slope=negative_slope)\n",
        "        elif hidden_activation_name == \"ELU\":\n",
        "            hidden_activation = nn.ELU() \n",
        "        elif hidden_activation_name == \"PReLU\":\n",
        "            init = trial.suggest_uniform(\"prelu_init\", 0.1, 0.3)\n",
        "            hidden_activation = nn.PReLU(init=init)\n",
        "        elif hidden_activation_name == \"Swish\":\n",
        "            class Swish(nn.Module):\n",
        "                def forward(self, x):\n",
        "                    return x * torch.sigmoid(x)\n",
        "            hidden_activation = Swish()\n",
        "        elif hidden_activation_name == \"GELU\":\n",
        "            hidden_activation = nn.GELU()\n",
        "        elif hidden_activation_name == \"SoftPlus\":\n",
        "            beta = trial.suggest_uniform(\"softplus_beta\", 0.5, 1.5)\n",
        "            hidden_activation = nn.Softplus(beta=beta) # We don't optimize thresshold subparameters, as it's mainly for numerical stability.\n",
        "\n",
        "        dropout_rate = trial.suggest_uniform(\"dropout_rate\", 0.0, 0.5)\n",
        "\n",
        "\n",
        "    # If optimize is False, use the predefined values\n",
        "    else:\n",
        "        # Setting the hyperparameters to the predefined values\n",
        "        n_layers = N_LAYERS_NO_OPT\n",
        "        n_units = N_UNITS_NO_OPT\n",
        "        hidden_activation_name = HIDDEN_ACTIVATION_NAME_NO_OPT\n",
        "        output_activation_name = OUTPUT_ACTIVATION_NAME_NO_OPT\n",
        "        loss_name = LOSS_NAME_NO_OPT\n",
        "        optimizer_name = OPTIMIZER_NAME_NO_OPT\n",
        "        lr = LR_NO_OPT\n",
        "        batch_size = BATCH_SIZE_NO_OPT\n",
        "        n_epochs = N_EPOCHS_NO_OPT\n",
        "        scheduler_name = SCHEDULER_NAME_NO_OPT\n",
        "\n",
        "        # Creating the activation functions from their names\n",
        "        if hidden_activation_name == \"ReLU\":\n",
        "            hidden_activation = nn.ReLU()\n",
        "        elif hidden_activation_name == \"LeakyReLU\":\n",
        "            negative_slope = 0.01\n",
        "            hidden_activation = nn.LeakyReLU(negative_slope=negative_slope)\n",
        "        elif hidden_activation_name == \"ELU\":\n",
        "            hidden_activation = nn.ELU() \n",
        "        elif hidden_activation_name == \"PReLU\":\n",
        "            init = 0.25\n",
        "            hidden_activation = nn.PReLU(init=init)\n",
        "        elif hidden_activation_name == \"Swish\":\n",
        "            class Swish(nn.Module):\n",
        "                def forward(self, x):\n",
        "                    return x * torch.sigmoid(x)\n",
        "            hidden_activation = Swish()\n",
        "        elif hidden_activation_name == \"GELU\":\n",
        "            hidden_activation = nn.GELU()\n",
        "        elif hidden_activation_name == \"SoftPlus\":\n",
        "            beta = 1\n",
        "            hidden_activation = nn.Softplus(beta=beta) # We don't optimize threshold subparameter, as it's mainly for numerical stability.\n",
        "\n",
        "        dropout_rate = DROPOUT_RATE_NO_OPT\n",
        "\n",
        "\n",
        "    # We used to have options here, but since we have a regression problem with continuous output, we only use Linear.\n",
        "    output_activation = nn.Identity()\n",
        "\n",
        "    # Creating the loss function from its name\n",
        "    if loss_name == \"MSE\":\n",
        "        loss_fn = nn.MSELoss()\n",
        "    elif loss_name == \"MAE\":\n",
        "        loss_fn = nn.L1Loss()\n",
        "    elif loss_name == \"Huber\":\n",
        "        loss_fn = nn.SmoothL1Loss() \n",
        "    elif loss_name == \"Quantile\":\n",
        "        def quantile_loss(y_pred, y_true, q=0.5):\n",
        "            e = y_pred - y_true\n",
        "            return torch.mean(torch.max(q*e, (q-1)*e))\n",
        "        loss_fn = quantile_loss\n",
        "    else:\n",
        "        def log_cosh_loss(y_pred, y_true):\n",
        "            return torch.mean(torch.log(torch.cosh(y_pred - y_true)))\n",
        "        loss_fn = log_cosh_loss\n",
        "\n",
        "    # Creating the network with the sampled hyperparameters\n",
        "    net = Net(n_layers, n_units, hidden_activation, output_activation, dropout_rate).to(device)\n",
        "\n",
        "\n",
        "    if OPTIMIZE:\n",
        "        # Creating the optimizer from its name\n",
        "        if optimizer_name == \"SGD\":\n",
        "            weight_decay = trial.suggest_loguniform(\"weight_decay\", 1e-5, 1e-2)\n",
        "            momentum = trial.suggest_uniform(\"momentum\", 0.0, 0.99)\n",
        "            optimizer = optim.SGD(net.parameters(), lr=lr, weight_decay=weight_decay, momentum=momentum)\n",
        "        elif optimizer_name == \"Adam\":\n",
        "            weight_decay = trial.suggest_loguniform(\"weight_decay\", 1e-5, 1e-2)\n",
        "            beta1 = trial.suggest_uniform(\"beta1\", 0.9, 0.999)\n",
        "            beta2 = trial.suggest_uniform(\"beta2\", 0.999, 0.9999)\n",
        "            optimizer = optim.Adam(net.parameters(), lr=lr, weight_decay=weight_decay, betas=(beta1, beta2))\n",
        "        elif optimizer_name == \"RMSprop\":\n",
        "            optimizer = optim.RMSprop(net.parameters(), lr=lr)\n",
        "        else:\n",
        "            optimizer = optim.Adagrad(net.parameters(), lr=lr)\n",
        "\n",
        "        # Creating the learning rate scheduler from its name\n",
        "        if scheduler_name == \"StepLR\":\n",
        "            step_size = trial.suggest_int(\"step_size\", 5, 15)\n",
        "            gamma = trial.suggest_uniform(\"gamma\", 0.1, 0.5)\n",
        "            scheduler = optim.lr_scheduler.StepLR(optimizer, step_size=step_size, gamma=gamma)\n",
        "        elif scheduler_name == \"ExponentialLR\":\n",
        "            gamma = trial.suggest_uniform(\"gamma\", 0.8, 0.99)\n",
        "            scheduler = optim.lr_scheduler.ExponentialLR(optimizer, gamma=gamma)\n",
        "        elif scheduler_name == \"CosineAnnealingLR\":\n",
        "            if n_epochs < 150:\n",
        "                t_max_fraction = trial.suggest_uniform('t_max_fraction', 0.1, 0.3)\n",
        "            elif n_epochs > 250:\n",
        "                t_max_fraction = trial.suggest_uniform('t_max_fraction', 0.05, 0.1)\n",
        "            else:\n",
        "                t_max_fraction = trial.suggest_uniform('t_max_fraction', 0.1, 0.2)\n",
        "\n",
        "            T_max = int(n_epochs * t_max_fraction)\n",
        "            eta_min = trial.suggest_loguniform(\"eta_min\", 1e-7, 1e-2)\n",
        "            scheduler = optim.lr_scheduler.CosineAnnealingLR(optimizer, T_max=T_max, eta_min=eta_min)\n",
        "        elif scheduler_name == \"ReduceLROnPlateau\":\n",
        "            factor = trial.suggest_uniform(\"factor\", 0.1, 0.5)\n",
        "            patience = trial.suggest_int(\"patience\", 5, 10)\n",
        "            threshold = trial.suggest_loguniform(\"threshold\", 1e-4, 1e-2)\n",
        "            scheduler = optim.lr_scheduler.ReduceLROnPlateau(\n",
        "                optimizer, mode=\"min\", factor=factor, patience=patience, threshold=threshold\n",
        "            )\n",
        "        elif scheduler_name == \"CyclicLR\":\n",
        "            base_lr = trial.suggest_loguniform(\"base_lr\", 1e-6, 1e-2)\n",
        "            max_lr = trial.suggest_loguniform(\"max_lr\", 1e-4, 1)\n",
        "            step_size_up = trial.suggest_int(\"step_size_up\", 200, 2000)\n",
        "            scheduler = optim.lr_scheduler.CyclicLR(optimizer, base_lr=base_lr, max_lr=max_lr, step_size_up=step_size_up)\n",
        "        else:\n",
        "            scheduler = None\n",
        "    else:\n",
        "        # Creating the optimizer from its name\n",
        "        if optimizer_name == \"SGD\":\n",
        "            optimizer = optim.SGD(net.parameters(), lr=lr)\n",
        "        elif optimizer_name == \"Adam\":\n",
        "            optimizer = optim.Adam(net.parameters(), lr=lr)\n",
        "        elif optimizer_name == \"RMSprop\":\n",
        "            optimizer = optim.RMSprop(net.parameters(), lr=lr)\n",
        "        else:\n",
        "            optimizer = optim.Adagrad(net.parameters(), lr=lr)\n",
        "\n",
        "        # Creating the learning rate scheduler from its name\n",
        "        if scheduler_name == \"StepLR\":\n",
        "            scheduler = optim.lr_scheduler.StepLR(optimizer, step_size=10, gamma=0.1)\n",
        "        elif scheduler_name == \"ExponentialLR\":\n",
        "            scheduler = optim.lr_scheduler.ExponentialLR(optimizer, gamma=0.9)\n",
        "        elif scheduler_name == \"CosineAnnealingLR\":\n",
        "            scheduler = optim.lr_scheduler.CosineAnnealingLR(optimizer)\n",
        "        elif scheduler_name == \"ReduceLROnPlateau\":\n",
        "            scheduler = optim.lr_scheduler.ReduceLROnPlateau(\n",
        "                        optimizer, mode=\"min\", factor=0.18979341786654758, patience=11, threshold=0.0017197466122611932 #, min_lr=1e-6\n",
        "                    )\n",
        "        elif scheduler_name == \"CyclicLR\":\n",
        "            # TODO: Change these appropriately.\n",
        "            base_lr = 1e-6\n",
        "            max_lr = 1e-4\n",
        "            step_size_up = 200\n",
        "            scheduler = optim.lr_scheduler.CyclicLR(optimizer, base_lr=base_lr, max_lr=max_lr, step_size_up=step_size_up)\n",
        "        else:\n",
        "            scheduler = None\n",
        "\n",
        "    # Returning all variables needed for saving and loading\n",
        "    return net, loss_fn, optimizer, batch_size, n_epochs, scheduler, loss_name, optimizer_name, scheduler_name, n_units, n_layers, hidden_activation, output_activation, lr, dropout_rate\n",
        "\n",
        "\n"
      ]
    },
    {
      "cell_type": "markdown",
      "metadata": {
        "id": "l-czA7VvUZiD"
      },
      "source": [
        " ## The training and evaluation loop\n",
        "\n",
        " We first define a couple of functions used in the training and evaluation."
      ]
    },
    {
      "cell_type": "code",
      "execution_count": 38,
      "metadata": {
        "id": "aD6FQNmxUZiD"
      },
      "outputs": [],
      "source": [
        "# Defining a function that computes loss and metrics for a given batch\n",
        "def compute_loss_and_metrics(y_pred, y_true, loss_fn):\n",
        "    \"\"\"Computes loss and metrics for a given batch.\n",
        "\n",
        "    Args:\n",
        "        y_pred (torch.Tensor): The predicted pressure tensor of shape (batch_size, 1).\n",
        "        y_true (torch.Tensor): The true pressure tensor of shape (batch_size,).\n",
        "        loss_fn (torch.nn.Module or function): The loss function to use.\n",
        "\n",
        "    Returns:\n",
        "        tuple: A tuple of (loss, l1_norm), where loss is a scalar tensor,\n",
        "            l1_norm is L1 norm for relative error of pressure,\n",
        "            each being a scalar tensor.\n",
        "            linf_norm is Linf norm for relative error of pressure.\n",
        "    \"\"\"\n",
        "    # Reshaping the target tensor to match the input tensor\n",
        "    y_true = y_true.view(-1, 1)\n",
        "\n",
        "    # Computing the loss using the loss function\n",
        "    loss = loss_fn(y_pred, y_true)\n",
        "\n",
        "    # Computing the relative error of pressure\n",
        "    rel_error = torch.abs((y_pred - y_true) / y_true)\n",
        "\n",
        "    # Computing the L1 norm for the relative error of pressure\n",
        "    l1_norm = torch.mean(rel_error) \n",
        "    # Computing the Linf norm for the relative error of pressure\n",
        "    linf_norm = torch.max(rel_error) \n",
        "\n",
        "    # Returning the loss and metrics\n",
        "    return loss, l1_norm, linf_norm\n",
        "\n",
        "\n",
        "# Defining a function that updates the learning rate scheduler with validation loss if applicable\n",
        "def update_scheduler(scheduler, test_loss):\n",
        "    \"\"\"Updates the learning rate scheduler with validation loss if applicable.\n",
        "\n",
        "    Args:\n",
        "        scheduler (torch.optim.lr_scheduler._LRScheduler or None): The learning rate scheduler to use.\n",
        "        test_loss (float): The validation loss to use.\n",
        "\n",
        "    Returns:\n",
        "        None\n",
        "    \"\"\"\n",
        "    # Checking if scheduler is not None\n",
        "    if scheduler is not None:\n",
        "        # Checking if scheduler is ReduceLROnPlateau\n",
        "        if isinstance(scheduler, optim.lr_scheduler.ReduceLROnPlateau):\n",
        "            # Updating the scheduler with test_loss\n",
        "            scheduler.step(test_loss)\n",
        "        else:\n",
        "            # Updating the scheduler without test_loss\n",
        "            scheduler.step()\n"
      ]
    },
    {
      "cell_type": "markdown",
      "metadata": {
        "id": "w1nE662UUZiE"
      },
      "source": [
        "Now for the actual training and evaluation loop,"
      ]
    },
    {
      "cell_type": "code",
      "execution_count": 39,
      "metadata": {
        "id": "YAOjgKW3UZiF"
      },
      "outputs": [],
      "source": [
        "# Defining a function to train and evaluate a network\n",
        "def train_and_eval(net, loss_fn, optimizer, batch_size, n_epochs, scheduler, train_loader, val_loader, test_loader, trial=None):\n",
        "    # Initializing lists to store the losses and metrics for each epoch\n",
        "    train_losses = []\n",
        "    val_losses = []\n",
        "    test_losses = []\n",
        "    train_metrics = []\n",
        "    val_metrics = []\n",
        "    test_metrics = []\n",
        "\n",
        "\n",
        "    # Creating a SummaryWriter object to log data for tensorboard\n",
        "    writer = tbx.SummaryWriter()\n",
        "\n",
        "    # Looping over the epochs\n",
        "    for epoch in range(n_epochs):\n",
        "\n",
        "        # Setting the network to training mode\n",
        "        net.train()\n",
        "\n",
        "        # Initializing variables to store the total loss and metrics for the train set\n",
        "        train_loss = 0.0\n",
        "        train_l1_norm = 0.0\n",
        "        train_linf_norm = 0.0\n",
        "\n",
        "        # Looping over the batches in the train set\n",
        "        for x_batch, y_batch in train_loader:\n",
        "\n",
        "            # Moving the batch tensors to the device\n",
        "            x_batch = x_batch.to(device)\n",
        "            y_batch = y_batch.to(device)\n",
        "\n",
        "            # Zeroing the gradients\n",
        "            optimizer.zero_grad()\n",
        "\n",
        "            # Performing a forward pass and computing the loss and metrics\n",
        "            y_pred = net(x_batch)\n",
        "            loss, l1_norm, linf_norm = compute_loss_and_metrics(y_pred, y_batch, loss_fn)\n",
        "\n",
        "\n",
        "            # Performing a backward pass and updating the weights\n",
        "            loss.backward()\n",
        "            optimizer.step()\n",
        "\n",
        "            # Updating the total loss and metrics for the train set\n",
        "            train_loss += loss.item() * x_batch.size(0)\n",
        "            train_l1_norm += l1_norm.item() * x_batch.size(0)\n",
        "            train_linf_norm += linf_norm.item() * x_batch.size(0)\n",
        "\n",
        "        # Computing the average loss and metrics for the train set\n",
        "        train_loss /= len(train_loader.dataset)\n",
        "        train_l1_norm /= len(train_loader.dataset)\n",
        "        train_linf_norm /= len(train_loader.dataset)\n",
        "\n",
        "        # Appending the average loss and metrics for the train set to the lists\n",
        "        train_losses.append(train_loss)\n",
        "        train_metrics.append(\n",
        "            {\n",
        "                \"l1_norm\": train_l1_norm,\n",
        "                \"linf_norm\": train_linf_norm,\n",
        "            }\n",
        "        )\n",
        "\n",
        "        # Logging the average loss and metrics for the train set to tensorboard\n",
        "        writer.add_scalar(\"Loss/train\", train_loss, epoch)\n",
        "        writer.add_scalar(\"L1 norm/train\", train_l1_norm, epoch)\n",
        "        writer.add_scalar(\"Linf norm/train\", train_linf_norm, epoch)\n",
        "\n",
        "        if val_loader is not None:\n",
        "            net.eval()\n",
        "            val_loss = 0.0\n",
        "            val_l1_norm = 0.0\n",
        "            val_linf_norm = 0.0\n",
        "\n",
        "            with torch.no_grad():\n",
        "                for x_batch, y_batch in val_loader:\n",
        "                    x_batch = x_batch.to(device)\n",
        "                    y_batch = y_batch.to(device)\n",
        "                    y_pred = net(x_batch)\n",
        "                    loss, l1_norm, linf_norm = compute_loss_and_metrics(y_pred, y_batch, loss_fn)\n",
        "\n",
        "                    val_loss += loss.item() * x_batch.size(0)\n",
        "                    val_l1_norm += l1_norm.item() * x_batch.size(0)\n",
        "                    val_linf_norm += linf_norm.item() * x_batch.size(0)\n",
        "\n",
        "            val_loss /= len(val_loader.dataset)\n",
        "            val_l1_norm /= len(val_loader.dataset)\n",
        "            val_linf_norm /= len(val_loader.dataset)\n",
        "\n",
        "            val_losses.append(val_loss)\n",
        "            val_metrics.append(\n",
        "                {\n",
        "                    \"l1_norm\": val_l1_norm,\n",
        "                    \"linf_norm\": val_linf_norm,\n",
        "                }\n",
        "            )\n",
        "\n",
        "            writer.add_scalar(\"Loss/val\", val_loss, epoch)\n",
        "            writer.add_scalar(\"L1 norm/val\", val_l1_norm, epoch)\n",
        "            writer.add_scalar(\"Linf norm/val\", val_linf_norm, epoch)\n",
        "            print(f\"Epoch {epoch+1}/{n_epochs}.. Train loss: {train_loss:.3f}.. Val loss: {val_loss:.3f}.. Train L1 norm: {train_l1_norm:.3f}.. Val L1 norm: {val_l1_norm:.3f}.. Train Linf norm: {train_linf_norm:.3f}.. Val Linf norm: {val_linf_norm:.3f}\")\n",
        "\n",
        "\n",
        "            update_scheduler(scheduler, val_loss)\n",
        "\n",
        "        if test_loader is not None:\n",
        "            net.eval()\n",
        "            test_loss = 0.0\n",
        "            test_l1_norm = 0.0\n",
        "            test_linf_norm = 0.0\n",
        "\n",
        "            with torch.no_grad():\n",
        "                for x_batch, y_batch in test_loader:\n",
        "                    x_batch = x_batch.to(device)\n",
        "                    y_batch = y_batch.to(device)\n",
        "                    y_pred = net(x_batch)\n",
        "                    loss, l1_norm, linf_norm = compute_loss_and_metrics(y_pred, y_batch, loss_fn)\n",
        "\n",
        "                    test_loss += loss.item() * x_batch.size(0)\n",
        "                    test_l1_norm += l1_norm.item() * x_batch.size(0)\n",
        "                    test_linf_norm += linf_norm.item() * x_batch.size(0)\n",
        "\n",
        "            test_loss /= len(test_loader.dataset)\n",
        "            test_l1_norm /= len(test_loader.dataset)\n",
        "            test_linf_norm /= len(test_loader.dataset)\n",
        "\n",
        "            test_losses.append(test_loss)\n",
        "            test_metrics.append(\n",
        "                {\n",
        "                    \"l1_norm\": test_l1_norm,\n",
        "                    \"linf_norm\": test_linf_norm,\n",
        "                }\n",
        "            )\n",
        "\n",
        "            writer.add_scalar(\"Loss/test\", test_loss, epoch)\n",
        "            writer.add_scalar(\"L1 norm/test\", test_l1_norm, epoch)\n",
        "            writer.add_scalar(\"Linf norm/test\", test_linf_norm, epoch)\n",
        "            print(f\"Epoch {epoch+1}/{n_epochs}.. Train loss: {train_loss:.3f}.. Test loss: {test_loss:.3f}.. Train L1 norm: {train_l1_norm:.3f}.. Test L1 norm: {test_l1_norm:.3f}.. Train Linf norm: {train_linf_norm:.3f}.. Test Linf norm: {test_linf_norm:.3f}\")\n",
        "\n",
        "\n",
        "        # Reporting the intermediate metric value to Optuna if trial is not None\n",
        "        if trial is not None:\n",
        "            trial.report(val_l1_norm, epoch)\n",
        "\n",
        "            if trial.should_prune():\n",
        "                raise optuna.TrialPruned()\n",
        "\n",
        "    # Closing the SummaryWriter object\n",
        "    writer.close()\n",
        "\n",
        "    # Returning the losses and metrics lists\n",
        "    return train_losses, val_losses, test_losses, train_metrics, val_metrics, test_metrics\n"
      ]
    },
    {
      "cell_type": "markdown",
      "metadata": {
        "id": "xg9jz0SvUZiQ"
      },
      "source": [
        "## The objective function and hyperparameter tuning"
      ]
    },
    {
      "cell_type": "code",
      "execution_count": 40,
      "metadata": {
        "id": "fmRncQPuUZiR"
      },
      "outputs": [],
      "source": [
        "# Defining an objective function for Optuna to minimize\n",
        "def objective(trial):\n",
        "    \"\"\"Defines an objective function for Optuna to minimize.\n",
        "\n",
        "    Args:\n",
        "        trial (optuna.trial.Trial): The trial object that contains the hyperparameters.\n",
        "\n",
        "    Returns:\n",
        "        float: The validation L1 norm to minimize.\n",
        "    \"\"\"\n",
        "    # Creating a trial network and optimizer using the create_model function\n",
        "    net, \\\n",
        "    loss_fn, \\\n",
        "    optimizer, \\\n",
        "    batch_size, \\\n",
        "    n_epochs, \\\n",
        "    scheduler, \\\n",
        "    loss_name, \\\n",
        "    optimizer_name, \\\n",
        "    scheduler_name, \\\n",
        "    n_units, \\\n",
        "    n_layers, \\\n",
        "    hidden_activation, \\\n",
        "    output_activation, \\\n",
        "    lr, \\\n",
        "    dropout_rate = create_model(trial, optimize=True)\n",
        "\n",
        "    # Create separate data loaders for training and validation\n",
        "    train_loader = torch.utils.data.DataLoader(\n",
        "        torch.utils.data.TensorDataset(x_train, y_train), batch_size=batch_size, shuffle=True\n",
        "    )\n",
        "    val_loader = torch.utils.data.DataLoader(\n",
        "        torch.utils.data.TensorDataset(x_val, y_val), batch_size=batch_size\n",
        "    )\n",
        "    \n",
        "    _, _, _, _, val_metrics, _ = train_and_eval(\n",
        "        net, loss_fn, optimizer, batch_size, n_epochs, scheduler, train_loader, val_loader, None, trial\n",
        "    )\n",
        "\n",
        "    # Returning the last validation L1 norm as the objective value to minimize\n",
        "    return val_metrics[-1][\"l1_norm\"]"
      ]
    },
    {
      "cell_type": "code",
      "execution_count": null,
      "metadata": {
        "colab": {
          "base_uri": "https://localhost:8080/",
          "height": 1000
        },
        "id": "GyES4NAyUZiS",
        "outputId": "7b2ca4ce-5921-4246-aed5-2978e85d5d4f"
      },
      "outputs": [
        {
          "output_type": "stream",
          "name": "stderr",
          "text": [
            "[I 2023-06-02 09:29:00,387] A new study created in memory with name: no-name-283bfb96-9a15-45d0-80d3-2d2f5e8cf2dd\n",
            "<ipython-input-37-0c79a7da1449>:44: FutureWarning: suggest_loguniform has been deprecated in v3.0.0. This feature will be removed in v6.0.0. See https://github.com/optuna/optuna/releases/tag/v3.0.0. Use suggest_float(..., log=True) instead.\n",
            "  lr = trial.suggest_loguniform(\"lr\", 1e-5, 1e-1)\n",
            "<ipython-input-37-0c79a7da1449>:58: FutureWarning: suggest_uniform has been deprecated in v3.0.0. This feature will be removed in v6.0.0. See https://github.com/optuna/optuna/releases/tag/v3.0.0. Use suggest_float instead.\n",
            "  negative_slope = trial.suggest_uniform(\"leakyrelu_slope\", 0.01, 0.3)\n",
            "<ipython-input-37-0c79a7da1449>:76: FutureWarning: suggest_uniform has been deprecated in v3.0.0. This feature will be removed in v6.0.0. See https://github.com/optuna/optuna/releases/tag/v3.0.0. Use suggest_float instead.\n",
            "  dropout_rate = trial.suggest_uniform(\"dropout_rate\", 0.0, 0.5)\n",
            "<ipython-input-37-0c79a7da1449>:149: FutureWarning: suggest_loguniform has been deprecated in v3.0.0. This feature will be removed in v6.0.0. See https://github.com/optuna/optuna/releases/tag/v3.0.0. Use suggest_float(..., log=True) instead.\n",
            "  weight_decay = trial.suggest_loguniform(\"weight_decay\", 1e-5, 1e-2)\n",
            "<ipython-input-37-0c79a7da1449>:150: FutureWarning: suggest_uniform has been deprecated in v3.0.0. This feature will be removed in v6.0.0. See https://github.com/optuna/optuna/releases/tag/v3.0.0. Use suggest_float instead.\n",
            "  beta1 = trial.suggest_uniform(\"beta1\", 0.9, 0.999)\n",
            "<ipython-input-37-0c79a7da1449>:151: FutureWarning: suggest_uniform has been deprecated in v3.0.0. This feature will be removed in v6.0.0. See https://github.com/optuna/optuna/releases/tag/v3.0.0. Use suggest_float instead.\n",
            "  beta2 = trial.suggest_uniform(\"beta2\", 0.999, 0.9999)\n",
            "<ipython-input-37-0c79a7da1449>:161: FutureWarning: suggest_uniform has been deprecated in v3.0.0. This feature will be removed in v6.0.0. See https://github.com/optuna/optuna/releases/tag/v3.0.0. Use suggest_float instead.\n",
            "  gamma = trial.suggest_uniform(\"gamma\", 0.1, 0.5)\n"
          ]
        },
        {
          "output_type": "stream",
          "name": "stdout",
          "text": [
            "Epoch 1/126.. Train loss: 60999876231210196992.000.. Val loss: 10224321805364023296.000.. Train L1 norm: 32970998588559962112.000.. Val L1 norm: 6509734905978056704.000.. Train Linf norm: 3193354828741048532992.000.. Val Linf norm: 495046720960020676608.000\n",
            "Epoch 2/126.. Train loss: 38246189450808827904.000.. Val loss: 296362155692500992.000.. Train L1 norm: 42061300474082451456.000.. Val L1 norm: 223053807950951520.000.. Train Linf norm: 5405931082101759672320.000.. Val Linf norm: 18200373420536381440.000\n",
            "Epoch 3/126.. Train loss: 3304601312125490176.000.. Val loss: 186777723592587360.000.. Train L1 norm: 4046952778798930944.000.. Val L1 norm: 141562100873910784.000.. Train Linf norm: 632377725372856270848.000.. Val Linf norm: 10730597932429314048.000\n",
            "Epoch 4/126.. Train loss: 353542486908211136.000.. Val loss: 49622644676055776.000.. Train L1 norm: 276782536569873184.000.. Val L1 norm: 37640497600315240.000.. Train Linf norm: 31719844738518925312.000.. Val Linf norm: 2848104540118648832.000\n",
            "Epoch 5/126.. Train loss: 379472232955376320.000.. Val loss: 1598430377878431744.000.. Train L1 norm: 317693170356379456.000.. Val L1 norm: 595370302444992640.000.. Train Linf norm: 39512571242915643392.000.. Val Linf norm: 77948200594978832384.000\n",
            "Epoch 6/126.. Train loss: 915622073531862528.000.. Val loss: 193538887397441056.000.. Train L1 norm: 706568475001422464.000.. Val L1 norm: 142409063476879648.000.. Train Linf norm: 85778409975976968192.000.. Val Linf norm: 10689854745036984320.000\n",
            "Epoch 7/126.. Train loss: 140912941541087168.000.. Val loss: 35582688534402068.000.. Train L1 norm: 120673418923069952.000.. Val L1 norm: 24738540053585444.000.. Train Linf norm: 15296570967053297664.000.. Val Linf norm: 1934657032272966400.000\n",
            "Epoch 8/126.. Train loss: 110048361606213872.000.. Val loss: 10665703412985408.000.. Train L1 norm: 93311611411723840.000.. Val L1 norm: 7182443084336420.000.. Train Linf norm: 11673628190046386176.000.. Val Linf norm: 571837286044115328.000\n",
            "Epoch 9/126.. Train loss: 168938217332719040.000.. Val loss: 45543514538535832.000.. Train L1 norm: 126837686734910720.000.. Val L1 norm: 29495197421160120.000.. Train Linf norm: 14199471047601250304.000.. Val Linf norm: 2311472167899302400.000\n",
            "Epoch 10/126.. Train loss: 76549574892281504.000.. Val loss: 6740275162976459.000.. Train L1 norm: 57827259939516008.000.. Val L1 norm: 4303397472697809.000.. Train Linf norm: 7151941151143886848.000.. Val Linf norm: 342443164843298368.000\n",
            "Epoch 11/126.. Train loss: 115732103377011280.000.. Val loss: 16131493972862094.000.. Train L1 norm: 99511637685034032.000.. Val L1 norm: 13954470356416656.000.. Train Linf norm: 12725921620883863552.000.. Val Linf norm: 1077749014431744384.000\n",
            "Epoch 12/126.. Train loss: 198776949196245088.000.. Val loss: 66209182950378056.000.. Train L1 norm: 133399361362915904.000.. Val L1 norm: 45384426691311856.000.. Train Linf norm: 17025399701694062592.000.. Val Linf norm: 3455260614501001728.000\n",
            "Epoch 13/126.. Train loss: 86723958096294336.000.. Val loss: 45435563659996416.000.. Train L1 norm: 79750132646891120.000.. Val L1 norm: 31163171469186792.000.. Train Linf norm: 11067053808387440640.000.. Val Linf norm: 2386237170342359040.000\n",
            "Epoch 14/126.. Train loss: 53464828641677920.000.. Val loss: 7681128183132708.000.. Train L1 norm: 47387944244031016.000.. Val L1 norm: 5364970576884112.000.. Train Linf norm: 5753292563284830208.000.. Val Linf norm: 426843327886613760.000\n",
            "Epoch 15/126.. Train loss: 113074159292468880.000.. Val loss: 3119578509375456.500.. Train L1 norm: 99549033935829104.000.. Val L1 norm: 2016544176195240.000.. Train Linf norm: 13318106290058749952.000.. Val Linf norm: 148587229777038656.000\n",
            "Epoch 16/126.. Train loss: 84943332072124528.000.. Val loss: 9717122010637874.000.. Train L1 norm: 69530158620765880.000.. Val L1 norm: 7053770381022200.000.. Train Linf norm: 8511836851270093824.000.. Val Linf norm: 509938447978402048.000\n",
            "Epoch 17/126.. Train loss: 58313190945584440.000.. Val loss: 4691900535183315.000.. Train L1 norm: 49515088026919648.000.. Val L1 norm: 3122226994802415.000.. Train Linf norm: 5480364898959192064.000.. Val Linf norm: 242537355590599200.000\n",
            "Epoch 18/126.. Train loss: 46395012385796640.000.. Val loss: 15243978940946754.000.. Train L1 norm: 42893320425840000.000.. Val L1 norm: 10883422437728672.000.. Train Linf norm: 6166192308302697472.000.. Val Linf norm: 801842931661273088.000\n",
            "Epoch 19/126.. Train loss: 41322511516703736.000.. Val loss: 645911586593256.250.. Train L1 norm: 40436372616443664.000.. Val L1 norm: 560579138990112.750.. Train Linf norm: 5288232392365061120.000.. Val Linf norm: 45241317666326576.000\n",
            "Epoch 20/126.. Train loss: 33788021149376972.000.. Val loss: 1955094865333610.000.. Train L1 norm: 27532872726096596.000.. Val L1 norm: 1244253756451437.500.. Train Linf norm: 3349521910094813696.000.. Val Linf norm: 104547591424092912.000\n",
            "Epoch 21/126.. Train loss: 28491514743733308.000.. Val loss: 5165591793211872.000.. Train L1 norm: 26270758111849960.000.. Val L1 norm: 3533682739472708.500.. Train Linf norm: 3619644171943327232.000.. Val Linf norm: 265633783732568224.000\n",
            "Epoch 22/126.. Train loss: 36467123139608632.000.. Val loss: 10066843651750756.000.. Train L1 norm: 36113928703781608.000.. Val L1 norm: 6897395401787109.000.. Train Linf norm: 4895885240400069632.000.. Val Linf norm: 519770044045869632.000\n",
            "Epoch 23/126.. Train loss: 25421362426596916.000.. Val loss: 7599320419482049.000.. Train L1 norm: 23408590466613376.000.. Val L1 norm: 5125790851257213.000.. Train Linf norm: 2903890867323088896.000.. Val Linf norm: 389249248412210688.000\n",
            "Epoch 24/126.. Train loss: 28851581990154220.000.. Val loss: 3982848031286572.000.. Train L1 norm: 22573638374492832.000.. Val L1 norm: 2673199614531591.500.. Train Linf norm: 2788135826810181632.000.. Val Linf norm: 197578117094076000.000\n",
            "Epoch 25/126.. Train loss: 29137871198652084.000.. Val loss: 671774376804920.000.. Train L1 norm: 28577200353182804.000.. Val L1 norm: 501603684265405.125.. Train Linf norm: 3669398575347220992.000.. Val Linf norm: 42583891039444008.000\n",
            "Epoch 26/126.. Train loss: 24003255000695936.000.. Val loss: 6651540974573348.000.. Train L1 norm: 19053514151050248.000.. Val L1 norm: 4492623766576448.500.. Train Linf norm: 2102984563332005632.000.. Val Linf norm: 338159638900370240.000\n",
            "Epoch 27/126.. Train loss: 22082876721272184.000.. Val loss: 4422859665890397.500.. Train L1 norm: 21684323253514208.000.. Val L1 norm: 3112009031954692.000.. Train Linf norm: 2999474942803408896.000.. Val Linf norm: 238079244729228128.000\n",
            "Epoch 28/126.. Train loss: 24949185189391928.000.. Val loss: 3798138192874578.500.. Train L1 norm: 25136781746763188.000.. Val L1 norm: 2395035657315199.500.. Train Linf norm: 3432247226729948160.000.. Val Linf norm: 177615668359694848.000\n",
            "Epoch 29/126.. Train loss: 21154949423763868.000.. Val loss: 2758081370457357.000.. Train L1 norm: 18426033224294176.000.. Val L1 norm: 1822916347146727.250.. Train Linf norm: 2019990949563360768.000.. Val Linf norm: 136856918062886096.000\n",
            "Epoch 30/126.. Train loss: 25237433700368124.000.. Val loss: 567993342122524.625.. Train L1 norm: 23138416837839536.000.. Val L1 norm: 543785164385637.688.. Train Linf norm: 3311177690394871808.000.. Val Linf norm: 42570125252362168.000\n",
            "Epoch 31/126.. Train loss: 18374033120902048.000.. Val loss: 1572446915367971.500.. Train L1 norm: 17894156634514372.000.. Val L1 norm: 1229741805631840.750.. Train Linf norm: 2325545706162651136.000.. Val Linf norm: 92027213154926240.000\n",
            "Epoch 32/126.. Train loss: 18664700701524824.000.. Val loss: 5880883088434380.000.. Train L1 norm: 16864654603787332.000.. Val L1 norm: 4231360213039378.000.. Train Linf norm: 2142434042074026240.000.. Val Linf norm: 315498979642919232.000\n",
            "Epoch 33/126.. Train loss: 17322514105372620.000.. Val loss: 1305237475570937.500.. Train L1 norm: 14904821535502664.000.. Val L1 norm: 804536082938497.125.. Train Linf norm: 1753972998795347200.000.. Val Linf norm: 68299341706528728.000\n",
            "Epoch 34/126.. Train loss: 18903876147728120.000.. Val loss: 754129733467102.625.. Train L1 norm: 19513606286587164.000.. Val L1 norm: 638781892527722.750.. Train Linf norm: 2913902920882412544.000.. Val Linf norm: 46756174308612048.000\n",
            "Epoch 35/126.. Train loss: 17625533503659992.000.. Val loss: 1109836391284823.375.. Train L1 norm: 18079055729821724.000.. Val L1 norm: 624865173924234.250.. Train Linf norm: 2447840750445757952.000.. Val Linf norm: 56979727391278216.000\n",
            "Epoch 36/126.. Train loss: 17187565865037674.000.. Val loss: 3058714739422562.500.. Train L1 norm: 18906954091004996.000.. Val L1 norm: 2320952018397910.500.. Train Linf norm: 2835710963419329024.000.. Val Linf norm: 171831932944400512.000\n",
            "Epoch 37/126.. Train loss: 16840912863688940.000.. Val loss: 1162065989448936.000.. Train L1 norm: 16744548413217694.000.. Val L1 norm: 970857706747470.375.. Train Linf norm: 2311181008881649664.000.. Val Linf norm: 73070129430607904.000\n",
            "Epoch 38/126.. Train loss: 17005423044376688.000.. Val loss: 529056557555725.125.. Train L1 norm: 15094844879595028.000.. Val L1 norm: 322736763529470.500.. Train Linf norm: 1916605591856817408.000.. Val Linf norm: 29295091063728652.000\n",
            "Epoch 39/126.. Train loss: 18153049521377344.000.. Val loss: 924954166772629.500.. Train L1 norm: 16803809484995800.000.. Val L1 norm: 740313094294601.750.. Train Linf norm: 2317016046672427520.000.. Val Linf norm: 55384285954945792.000\n",
            "Epoch 40/126.. Train loss: 16713583256982242.000.. Val loss: 266045638342834.031.. Train L1 norm: 15315741388840738.000.. Val L1 norm: 238068233688929.625.. Train Linf norm: 2028597253228963072.000.. Val Linf norm: 22197154586245568.000\n",
            "Epoch 41/126.. Train loss: 15474736369627368.000.. Val loss: 1286291795329819.250.. Train L1 norm: 14858211756205662.000.. Val L1 norm: 888031322739922.250.. Train Linf norm: 1846067853810061312.000.. Val Linf norm: 67534133180691976.000\n",
            "Epoch 42/126.. Train loss: 15453891480050212.000.. Val loss: 1777951968235775.500.. Train L1 norm: 16096164830433330.000.. Val L1 norm: 1256739841778140.250.. Train Linf norm: 2157071761751673088.000.. Val Linf norm: 93053296129733552.000\n",
            "Epoch 43/126.. Train loss: 15826568134063016.000.. Val loss: 1935654426227454.750.. Train L1 norm: 16199332224161036.000.. Val L1 norm: 1358736233135044.500.. Train Linf norm: 2204214649704798976.000.. Val Linf norm: 104037174308308656.000\n",
            "Epoch 44/126.. Train loss: 20589208527211032.000.. Val loss: 336346159443555.125.. Train L1 norm: 18502753201918700.000.. Val L1 norm: 211738507356685.375.. Train Linf norm: 2796164524448608256.000.. Val Linf norm: 19221340486376968.000\n",
            "Epoch 45/126.. Train loss: 16828241301907320.000.. Val loss: 325841379315102.500.. Train L1 norm: 14550482756933802.000.. Val L1 norm: 242148403675398.156.. Train Linf norm: 1746934740752148224.000.. Val Linf norm: 20353441255116504.000\n",
            "Epoch 46/126.. Train loss: 17752286070220844.000.. Val loss: 1221945208264563.000.. Train L1 norm: 14744044002658694.000.. Val L1 norm: 896381648407922.875.. Train Linf norm: 1864800293265181952.000.. Val Linf norm: 67937007355075912.000\n",
            "Epoch 47/126.. Train loss: 17916745611280758.000.. Val loss: 154018876435901.094.. Train L1 norm: 55295691363655864.000.. Val L1 norm: 131850306082937.234.. Train Linf norm: 12309525834224629760.000.. Val Linf norm: 12100559377921510.000\n",
            "Epoch 48/126.. Train loss: 15663869258643380.000.. Val loss: 988553283571076.250.. Train L1 norm: 13040068507964802.000.. Val L1 norm: 716791885535064.875.. Train Linf norm: 1435685310642810880.000.. Val Linf norm: 54226064492764768.000\n",
            "Epoch 49/126.. Train loss: 15316950782666388.000.. Val loss: 178277201029820.156.. Train L1 norm: 12780627251948810.000.. Val L1 norm: 151993732206707.781.. Train Linf norm: 1547986485472760320.000.. Val Linf norm: 13915302750339466.000\n",
            "Epoch 50/126.. Train loss: 15977300558617682.000.. Val loss: 1244204208634969.000.. Train L1 norm: 15561073148272110.000.. Val L1 norm: 925392691165571.750.. Train Linf norm: 2250187897790396160.000.. Val Linf norm: 69443613889171784.000\n",
            "Epoch 51/126.. Train loss: 15609848765084928.000.. Val loss: 1058367766192036.250.. Train L1 norm: 14768073234246698.000.. Val L1 norm: 777387959661118.500.. Train Linf norm: 1994352724210344448.000.. Val Linf norm: 58856114137501112.000\n",
            "Epoch 52/126.. Train loss: 15663358669004404.000.. Val loss: 1450683963098914.250.. Train L1 norm: 12825989994854220.000.. Val L1 norm: 1075244533306255.000.. Train Linf norm: 1403738637812356608.000.. Val Linf norm: 81983649305101920.000\n",
            "Epoch 53/126.. Train loss: 15438012751942540.000.. Val loss: 634903268015525.125.. Train L1 norm: 14778235006732662.000.. Val L1 norm: 475004406966779.875.. Train Linf norm: 2022540772506388480.000.. Val Linf norm: 36497276354937840.000\n",
            "Epoch 54/126.. Train loss: 15428849522170748.000.. Val loss: 346927864333223.000.. Train L1 norm: 13633205415687750.000.. Val L1 norm: 238022145620731.500.. Train Linf norm: 1687417485030551040.000.. Val Linf norm: 18357005510353912.000\n",
            "Epoch 55/126.. Train loss: 15384152755912550.000.. Val loss: 774002269690807.375.. Train L1 norm: 15201097215923746.000.. Val L1 norm: 549571815592095.500.. Train Linf norm: 1997006328956406528.000.. Val Linf norm: 40575409383158264.000\n",
            "Epoch 56/126.. Train loss: 15042398875520636.000.. Val loss: 858589259040362.750.. Train L1 norm: 12586930373120124.000.. Val L1 norm: 615458175902862.500.. Train Linf norm: 1420855928378451968.000.. Val Linf norm: 45096132969546488.000\n",
            "Epoch 57/126.. Train loss: 14309937589947952.000.. Val loss: 568515916537947.750.. Train L1 norm: 15566418315694654.000.. Val L1 norm: 422524240929593.750.. Train Linf norm: 2263329738269730816.000.. Val Linf norm: 31475543127510204.000\n",
            "Epoch 58/126.. Train loss: 17931189193614482.000.. Val loss: 676887758852273.000.. Train L1 norm: 13914103759292746.000.. Val L1 norm: 413843674420897.375.. Train Linf norm: 1840041924302137088.000.. Val Linf norm: 36638026491971848.000\n",
            "Epoch 59/126.. Train loss: 15909698126793094.000.. Val loss: 264651369390923.219.. Train L1 norm: 12774137202950102.000.. Val L1 norm: 196980846558358.188.. Train Linf norm: 1519136866516061184.000.. Val Linf norm: 17577648300528222.000\n",
            "Epoch 60/126.. Train loss: 15621599837083896.000.. Val loss: 1833294926595769.500.. Train L1 norm: 14128591093221722.000.. Val L1 norm: 1289719311874933.750.. Train Linf norm: 1858877022592743168.000.. Val Linf norm: 98357830508103696.000\n",
            "Epoch 61/126.. Train loss: 14879431006790106.000.. Val loss: 934786206479295.000.. Train L1 norm: 13237128017559900.000.. Val L1 norm: 620625393665179.625.. Train Linf norm: 1622965039030258944.000.. Val Linf norm: 48596353144508504.000\n",
            "Epoch 62/126.. Train loss: 15202513684357486.000.. Val loss: 1449895830479769.750.. Train L1 norm: 14185065246804868.000.. Val L1 norm: 990078510710827.750.. Train Linf norm: 1654550577419716608.000.. Val Linf norm: 75745486551809504.000\n",
            "Epoch 63/126.. Train loss: 15052006725706296.000.. Val loss: 1172257021241100.500.. Train L1 norm: 12578428108627704.000.. Val L1 norm: 790073944469563.000.. Train Linf norm: 1536332909146983936.000.. Val Linf norm: 60276895329681480.000\n",
            "Epoch 64/126.. Train loss: 15163045674605526.000.. Val loss: 1492561110569652.500.. Train L1 norm: 13312603443492770.000.. Val L1 norm: 1025450442589820.250.. Train Linf norm: 1735163300050921472.000.. Val Linf norm: 77592774986227968.000\n",
            "Epoch 65/126.. Train loss: 14201568795955988.000.. Val loss: 1442989174173291.750.. Train L1 norm: 17698375861728198.000.. Val L1 norm: 990053296031574.750.. Train Linf norm: 2805996376989597696.000.. Val Linf norm: 74828507332424352.000\n",
            "Epoch 66/126.. Train loss: 14571158148817168.000.. Val loss: 1269730684582162.250.. Train L1 norm: 14423204636208922.000.. Val L1 norm: 866858862372856.375.. Train Linf norm: 1986761484444062464.000.. Val Linf norm: 65556374847967688.000\n",
            "Epoch 67/126.. Train loss: 14085307070862980.000.. Val loss: 1193502126076557.250.. Train L1 norm: 14069324243853610.000.. Val L1 norm: 816965852940345.875.. Train Linf norm: 1927120732566975744.000.. Val Linf norm: 61664969709102320.000\n",
            "Epoch 68/126.. Train loss: 14573433542236056.000.. Val loss: 1157749427987948.000.. Train L1 norm: 12741958226986560.000.. Val L1 norm: 789633332865680.500.. Train Linf norm: 1503629538391593984.000.. Val Linf norm: 59612702077568592.000\n",
            "Epoch 69/126.. Train loss: 14308844942905050.000.. Val loss: 726646875005771.250.. Train L1 norm: 12756167409148550.000.. Val L1 norm: 484319091913881.438.. Train Linf norm: 1553988208992662528.000.. Val Linf norm: 37159273398430408.000\n",
            "Epoch 70/126.. Train loss: 13736952477958574.000.. Val loss: 645110529630107.500.. Train L1 norm: 13524741949081526.000.. Val L1 norm: 423077651921711.938.. Train Linf norm: 1810737964471267072.000.. Val Linf norm: 33031289527764220.000\n",
            "Epoch 71/126.. Train loss: 16492343159556354.000.. Val loss: 938796118979134.500.. Train L1 norm: 12665283399776236.000.. Val L1 norm: 627318262265771.875.. Train Linf norm: 1616805826080779520.000.. Val Linf norm: 48340566132403680.000\n",
            "Epoch 72/126.. Train loss: 14374889707405342.000.. Val loss: 1005161078000469.000.. Train L1 norm: 12250400005140738.000.. Val L1 norm: 670254594431001.125.. Train Linf norm: 1455827697835257856.000.. Val Linf norm: 51601012571154552.000\n",
            "Epoch 73/126.. Train loss: 14016455007750272.000.. Val loss: 648796899988681.500.. Train L1 norm: 12063778944854920.000.. Val L1 norm: 413619311145455.875.. Train Linf norm: 1359713591518027520.000.. Val Linf norm: 33037595545922420.000\n",
            "Epoch 74/126.. Train loss: 13547339029101352.000.. Val loss: 1033382151360418.125.. Train L1 norm: 12832888463582732.000.. Val L1 norm: 693911159836490.625.. Train Linf norm: 1607123803689886208.000.. Val Linf norm: 53286953050350624.000\n",
            "Epoch 75/126.. Train loss: 34224796710254644.000.. Val loss: 550993360700187.188.. Train L1 norm: 18902752791669048.000.. Val L1 norm: 402732555443022.500.. Train Linf norm: 2835283872495780352.000.. Val Linf norm: 32001695235658464.000\n",
            "Epoch 76/126.. Train loss: 18549024868382548.000.. Val loss: 160328463157157.344.. Train L1 norm: 17262835693094924.000.. Val L1 norm: 124154871051067.938.. Train Linf norm: 2394665300331996160.000.. Val Linf norm: 10978157969617924.000\n",
            "Epoch 77/126.. Train loss: 16807096377572634.000.. Val loss: 719036887006078.625.. Train L1 norm: 15344892659146296.000.. Val L1 norm: 521360542041130.062.. Train Linf norm: 1935756756108450048.000.. Val Linf norm: 38690315046581928.000\n",
            "Epoch 78/126.. Train loss: 14735911072221124.000.. Val loss: 880320122601096.250.. Train L1 norm: 15381709529161056.000.. Val L1 norm: 639298674338649.375.. Train Linf norm: 1986713922976585984.000.. Val Linf norm: 47505081717291552.000\n",
            "Epoch 79/126.. Train loss: 16031379124551658.000.. Val loss: 1021651550494750.625.. Train L1 norm: 13102114894749286.000.. Val L1 norm: 741438696560210.750.. Train Linf norm: 1464921898762590720.000.. Val Linf norm: 55182446953876856.000\n",
            "Epoch 80/126.. Train loss: 17573909794267242.000.. Val loss: 1045601309122555.625.. Train L1 norm: 15255063561725078.000.. Val L1 norm: 759734006224571.625.. Train Linf norm: 1990837834630703872.000.. Val Linf norm: 56675056938597360.000\n",
            "Epoch 81/126.. Train loss: 14200014532945484.000.. Val loss: 1038012236378791.375.. Train L1 norm: 15091769266276550.000.. Val L1 norm: 753960541677245.750.. Train Linf norm: 1945460590058314240.000.. Val Linf norm: 56262628076887528.000\n",
            "Epoch 82/126.. Train loss: 16829909439471868.000.. Val loss: 994207292157207.125.. Train L1 norm: 14091751645975090.000.. Val L1 norm: 723279570179841.500.. Train Linf norm: 1727838449880335360.000.. Val Linf norm: 53892674127496832.000\n",
            "Epoch 83/126.. Train loss: 15089222876005880.000.. Val loss: 1284788300617211.250.. Train L1 norm: 13171784182150674.000.. Val L1 norm: 933914447196175.250.. Train Linf norm: 1531276516082988032.000.. Val Linf norm: 69509663916602288.000\n",
            "Epoch 84/126.. Train loss: 16953835504007958.000.. Val loss: 1140110928309020.250.. Train L1 norm: 14128457296707300.000.. Val L1 norm: 828486534022404.500.. Train Linf norm: 1831739945106284288.000.. Val Linf norm: 61575242580667608.000\n",
            "Epoch 85/126.. Train loss: 15832368458681340.000.. Val loss: 643139381286841.000.. Train L1 norm: 12862706911899212.000.. Val L1 norm: 471247871481269.438.. Train Linf norm: 1470386554008155904.000.. Val Linf norm: 35070714695695468.000\n",
            "Epoch 86/126.. Train loss: 14017855279248770.000.. Val loss: 413238257441465.938.. Train L1 norm: 12050611571435084.000.. Val L1 norm: 306040170758607.125.. Train Linf norm: 1326880558902299136.000.. Val Linf norm: 23239319121772624.000\n",
            "Epoch 87/126.. Train loss: 14215655526636956.000.. Val loss: 564135972061297.625.. Train L1 norm: 12938393429093586.000.. Val L1 norm: 413277607627605.062.. Train Linf norm: 1542679277194025984.000.. Val Linf norm: 30823360333969760.000\n",
            "Epoch 88/126.. Train loss: 15136025425706462.000.. Val loss: 553009616239547.750.. Train L1 norm: 13103712164985310.000.. Val L1 norm: 405189811262910.188.. Train Linf norm: 1554268893301726464.000.. Val Linf norm: 30249205240369916.000\n",
            "Epoch 89/126.. Train loss: 13793724115640888.000.. Val loss: 554071835221059.188.. Train L1 norm: 14111273582300436.000.. Val L1 norm: 406162328044979.250.. Train Linf norm: 1792912312841965312.000.. Val Linf norm: 30338869538587044.000\n",
            "Epoch 90/126.. Train loss: 15159534438216098.000.. Val loss: 457710655525914.750.. Train L1 norm: 14479148563255832.000.. Val L1 norm: 334739386041455.938.. Train Linf norm: 1976529172032721664.000.. Val Linf norm: 25167294974759272.000\n",
            "Epoch 91/126.. Train loss: 13407981674983572.000.. Val loss: 454494230145156.188.. Train L1 norm: 11700230712726382.000.. Val L1 norm: 332024436863533.062.. Train Linf norm: 1284648972018963200.000.. Val Linf norm: 24955333260332340.000\n",
            "Epoch 92/126.. Train loss: 15038257731373922.000.. Val loss: 482611258047629.438.. Train L1 norm: 12012810880626908.000.. Val L1 norm: 351726249398868.375.. Train Linf norm: 1332856059998573568.000.. Val Linf norm: 26384930223357080.000\n",
            "Epoch 93/126.. Train loss: 19352544287260404.000.. Val loss: 491537220376094.312.. Train L1 norm: 13509825713450532.000.. Val L1 norm: 359248099640956.250.. Train Linf norm: 1743095417108268800.000.. Val Linf norm: 26961480242260780.000\n",
            "Epoch 94/126.. Train loss: 15779012156536262.000.. Val loss: 478801343169534.375.. Train L1 norm: 14581742073638656.000.. Val L1 norm: 351108697454630.250.. Train Linf norm: 1913264874563304448.000.. Val Linf norm: 26386425123947500.000\n",
            "Epoch 95/126.. Train loss: 14155183867768572.000.. Val loss: 535600524794125.812.. Train L1 norm: 12141868558589790.000.. Val L1 norm: 390352523542589.188.. Train Linf norm: 1377596368362304256.000.. Val Linf norm: 29163288750889824.000\n",
            "Epoch 96/126.. Train loss: 17171303467624162.000.. Val loss: 463108700471558.125.. Train L1 norm: 15909370741561110.000.. Val L1 norm: 337331446067127.938.. Train Linf norm: 2349338398605690880.000.. Val Linf norm: 25346377935714588.000\n",
            "Epoch 97/126.. Train loss: 14424063652370092.000.. Val loss: 461263200483855.562.. Train L1 norm: 13263233105994448.000.. Val L1 norm: 334927120082018.875.. Train Linf norm: 1693035138984096000.000.. Val Linf norm: 25146849904219460.000\n",
            "Epoch 98/126.. Train loss: 13688985714175036.000.. Val loss: 452377347065398.312.. Train L1 norm: 15100474735734240.000.. Val L1 norm: 329334880704432.250.. Train Linf norm: 2202687992769862144.000.. Val Linf norm: 24724182405120996.000\n",
            "Epoch 99/126.. Train loss: 13874534741849766.000.. Val loss: 486864932722739.312.. Train L1 norm: 12008157064150220.000.. Val L1 norm: 352033836595622.688.. Train Linf norm: 1392770967331800320.000.. Val Linf norm: 26240381280234712.000\n",
            "Epoch 100/126.. Train loss: 13235107107825246.000.. Val loss: 472740160749471.875.. Train L1 norm: 11657202025007610.000.. Val L1 norm: 342008692976054.000.. Train Linf norm: 1300161806002881792.000.. Val Linf norm: 25533685355887476.000\n",
            "Epoch 101/126.. Train loss: 14554901539792438.000.. Val loss: 530589918504541.688.. Train L1 norm: 12519439647381952.000.. Val L1 norm: 382940148115614.375.. Train Linf norm: 1540074625434777600.000.. Val Linf norm: 28461808708127624.000\n",
            "Epoch 102/126.. Train loss: 14454069692586726.000.. Val loss: 549675201521551.500.. Train L1 norm: 13143810661088006.000.. Val L1 norm: 396652042860503.562.. Train Linf norm: 1672748221742619648.000.. Val Linf norm: 29457480340071252.000\n",
            "Epoch 103/126.. Train loss: 14469906055259706.000.. Val loss: 486233440746314.125.. Train L1 norm: 11976732664487102.000.. Val L1 norm: 350801641276894.938.. Train Linf norm: 1361538291215461632.000.. Val Linf norm: 26138395749346864.000\n",
            "Epoch 104/126.. Train loss: 13873144727346738.000.. Val loss: 531539591339826.625.. Train L1 norm: 13089685292527266.000.. Val L1 norm: 383616018664827.562.. Train Linf norm: 1653759749990221056.000.. Val Linf norm: 28510605186496496.000\n",
            "Epoch 105/126.. Train loss: 14795776117025994.000.. Val loss: 549832784963279.250.. Train L1 norm: 13872934639757734.000.. Val L1 norm: 397329764701682.625.. Train Linf norm: 1831915981543693824.000.. Val Linf norm: 29514393368608708.000\n",
            "Epoch 106/126.. Train loss: 14707852072473906.000.. Val loss: 510976624609879.625.. Train L1 norm: 13036028699890036.000.. Val L1 norm: 370709198824992.500.. Train Linf norm: 1647153734973936896.000.. Val Linf norm: 27604732616245180.000\n",
            "Epoch 107/126.. Train loss: 14794968712995968.000.. Val loss: 454749561691727.438.. Train L1 norm: 12672383533540172.000.. Val L1 norm: 330616278211083.188.. Train Linf norm: 1537030266637490176.000.. Val Linf norm: 24762828841541296.000\n",
            "Epoch 108/126.. Train loss: 14593448386310874.000.. Val loss: 456079195036555.688.. Train L1 norm: 13704701390598552.000.. Val L1 norm: 331956244146640.188.. Train Linf norm: 1744617492199581952.000.. Val Linf norm: 24857322975939004.000\n",
            "Epoch 109/126.. Train loss: 13129184886732440.000.. Val loss: 492797968905841.312.. Train L1 norm: 11800526188095292.000.. Val L1 norm: 358561036174325.625.. Train Linf norm: 1312637201264381696.000.. Val Linf norm: 26730929986113512.000\n",
            "Epoch 110/126.. Train loss: 13533887894186930.000.. Val loss: 509581556847738.875.. Train L1 norm: 14389841127653852.000.. Val L1 norm: 370732356787573.000.. Train Linf norm: 2017993593759212032.000.. Val Linf norm: 27584986934743872.000\n",
            "Epoch 111/126.. Train loss: 14813833579086426.000.. Val loss: 516462023767927.438.. Train L1 norm: 13894516984913966.000.. Val L1 norm: 375627654497444.375.. Train Linf norm: 1850894548581203200.000.. Val Linf norm: 27932982961649100.000\n",
            "Epoch 112/126.. Train loss: 15068160574938774.000.. Val loss: 514569161941048.812.. Train L1 norm: 15370200420893942.000.. Val L1 norm: 374371754484695.062.. Train Linf norm: 2225285401581952256.000.. Val Linf norm: 27844351605357308.000\n",
            "Epoch 113/126.. Train loss: 16378939769804000.000.. Val loss: 529333901078123.875.. Train L1 norm: 12677571300473812.000.. Val L1 norm: 384800476460010.688.. Train Linf norm: 1556062834201623296.000.. Val Linf norm: 28606440523502960.000\n",
            "Epoch 114/126.. Train loss: 18265898754569608.000.. Val loss: 548517741318128.688.. Train L1 norm: 12858973348122980.000.. Val L1 norm: 398602177038324.000.. Train Linf norm: 1637386314868688128.000.. Val Linf norm: 29632569899991624.000\n",
            "Epoch 115/126.. Train loss: 14834618973181324.000.. Val loss: 558379461557354.500.. Train L1 norm: 13713343255026560.000.. Val L1 norm: 405777047305759.375.. Train Linf norm: 1800666147725110784.000.. Val Linf norm: 30166464460357700.000\n",
            "Epoch 116/126.. Train loss: 13242536672575446.000.. Val loss: 555711044296708.375.. Train L1 norm: 13276848805035084.000.. Val L1 norm: 403860981059070.625.. Train Linf norm: 1756989438434077184.000.. Val Linf norm: 30022633019582588.000\n",
            "Epoch 117/126.. Train loss: 14281085552959026.000.. Val loss: 539051062149198.625.. Train L1 norm: 16653658811061682.000.. Val L1 norm: 392004940269022.938.. Train Linf norm: 2540372186064685568.000.. Val Linf norm: 29143355331214048.000\n",
            "Epoch 118/126.. Train loss: 14177876071987792.000.. Val loss: 545321035492299.000.. Train L1 norm: 12830280612636840.000.. Val L1 norm: 396124086511040.375.. Train Linf norm: 1612663894063301376.000.. Val Linf norm: 29433695141039492.000\n",
            "Epoch 119/126.. Train loss: 13984911004905730.000.. Val loss: 535265896340110.250.. Train L1 norm: 12514823754177996.000.. Val L1 norm: 388852529514658.750.. Train Linf norm: 1553788390452524800.000.. Val Linf norm: 28892264273714576.000\n",
            "Epoch 120/126.. Train loss: 15513615539608470.000.. Val loss: 516428971435500.062.. Train L1 norm: 13781692717139462.000.. Val L1 norm: 374594672521537.125.. Train Linf norm: 1770292394243715840.000.. Val Linf norm: 27817092822319132.000\n",
            "Epoch 121/126.. Train loss: 14894744105007478.000.. Val loss: 496327941824219.250.. Train L1 norm: 13742106139784050.000.. Val L1 norm: 360009774867851.938.. Train Linf norm: 1763721996379077632.000.. Val Linf norm: 26769073390237480.000\n",
            "Epoch 122/126.. Train loss: 13886368178068432.000.. Val loss: 502765007505579.500.. Train L1 norm: 12322077387137430.000.. Val L1 norm: 364525399974154.500.. Train Linf norm: 1415465444530175488.000.. Val Linf norm: 27090070223645888.000\n",
            "Epoch 123/126.. Train loss: 14808207798257612.000.. Val loss: 499912976062270.688.. Train L1 norm: 12587137392016352.000.. Val L1 norm: 362473760543578.500.. Train Linf norm: 1443279912954205440.000.. Val Linf norm: 26942311643445952.000\n",
            "Epoch 124/126.. Train loss: 14115592832482534.000.. Val loss: 501947505935856.438.. Train L1 norm: 14101032483977354.000.. Val L1 norm: 363878794258354.438.. Train Linf norm: 1901452590582445312.000.. Val Linf norm: 27040955706957384.000\n",
            "Epoch 125/126.. Train loss: 13737538135894944.000.. Val loss: 505031224969710.812.. Train L1 norm: 12823800808055482.000.. Val L1 norm: 366096565618815.812.. Train Linf norm: 1628622353183034624.000.. Val Linf norm: 27197760998393196.000\n"
          ]
        },
        {
          "output_type": "stream",
          "name": "stderr",
          "text": [
            "[I 2023-06-02 10:02:12,484] Trial 0 finished with value: 361840040821304.0 and parameters: {'n_layers': 10, 'n_units_0': 2845, 'n_units_1': 2650, 'n_units_2': 3549, 'n_units_3': 3921, 'n_units_4': 4070, 'n_units_5': 1346, 'n_units_6': 290, 'n_units_7': 472, 'n_units_8': 1760, 'n_units_9': 3302, 'hidden_activation': 'LeakyReLU', 'output_activation': 'Linear', 'loss': 'MAE', 'optimizer': 'Adam', 'lr': 0.03808190465560902, 'batch_size': 256, 'n_epochs': 126, 'scheduler': 'StepLR', 'leakyrelu_slope': 0.16284402278960836, 'dropout_rate': 0.2178916540583931, 'weight_decay': 0.0004947255319488172, 'beta1': 0.9590616144208315, 'beta2': 0.9998794502543598, 'step_size': 11, 'gamma': 0.38537986535274726}. Best is trial 0 with value: 361840040821304.0.\n"
          ]
        },
        {
          "output_type": "stream",
          "name": "stdout",
          "text": [
            "Epoch 126/126.. Train loss: 13595666469390094.000.. Val loss: 499121242166735.688.. Train L1 norm: 12937522542379090.000.. Val L1 norm: 361840040821304.000.. Train Linf norm: 1652364842369862912.000.. Val Linf norm: 26892811992458716.000\n"
          ]
        },
        {
          "output_type": "display_data",
          "data": {
            "text/html": [
              "<html>\n",
              "<head><meta charset=\"utf-8\" /></head>\n",
              "<body>\n",
              "    <div>            <script src=\"https://cdnjs.cloudflare.com/ajax/libs/mathjax/2.7.5/MathJax.js?config=TeX-AMS-MML_SVG\"></script><script type=\"text/javascript\">if (window.MathJax && window.MathJax.Hub && window.MathJax.Hub.Config) {window.MathJax.Hub.Config({SVG: {font: \"STIX-Web\"}});}</script>                <script type=\"text/javascript\">window.PlotlyConfig = {MathJaxConfig: 'local'};</script>\n",
              "        <script src=\"https://cdn.plot.ly/plotly-2.18.2.min.js\"></script>                <div id=\"a7e70d42-8d2b-4fa3-9674-c2a5e9829f28\" class=\"plotly-graph-div\" style=\"height:525px; width:100%;\"></div>            <script type=\"text/javascript\">                                    window.PLOTLYENV=window.PLOTLYENV || {};                                    if (document.getElementById(\"a7e70d42-8d2b-4fa3-9674-c2a5e9829f28\")) {                    Plotly.newPlot(                        \"a7e70d42-8d2b-4fa3-9674-c2a5e9829f28\",                        [{\"mode\":\"markers\",\"name\":\"Objective Value\",\"x\":[0],\"y\":[361840040821304.0],\"type\":\"scatter\"},{\"name\":\"Best Value\",\"x\":[0],\"y\":[361840040821304.0],\"type\":\"scatter\"}],                        {\"title\":{\"text\":\"Optimization History Plot\"},\"xaxis\":{\"title\":{\"text\":\"Trial\"}},\"yaxis\":{\"title\":{\"text\":\"Objective Value\"}},\"template\":{\"data\":{\"histogram2dcontour\":[{\"type\":\"histogram2dcontour\",\"colorbar\":{\"outlinewidth\":0,\"ticks\":\"\"},\"colorscale\":[[0.0,\"#0d0887\"],[0.1111111111111111,\"#46039f\"],[0.2222222222222222,\"#7201a8\"],[0.3333333333333333,\"#9c179e\"],[0.4444444444444444,\"#bd3786\"],[0.5555555555555556,\"#d8576b\"],[0.6666666666666666,\"#ed7953\"],[0.7777777777777778,\"#fb9f3a\"],[0.8888888888888888,\"#fdca26\"],[1.0,\"#f0f921\"]]}],\"choropleth\":[{\"type\":\"choropleth\",\"colorbar\":{\"outlinewidth\":0,\"ticks\":\"\"}}],\"histogram2d\":[{\"type\":\"histogram2d\",\"colorbar\":{\"outlinewidth\":0,\"ticks\":\"\"},\"colorscale\":[[0.0,\"#0d0887\"],[0.1111111111111111,\"#46039f\"],[0.2222222222222222,\"#7201a8\"],[0.3333333333333333,\"#9c179e\"],[0.4444444444444444,\"#bd3786\"],[0.5555555555555556,\"#d8576b\"],[0.6666666666666666,\"#ed7953\"],[0.7777777777777778,\"#fb9f3a\"],[0.8888888888888888,\"#fdca26\"],[1.0,\"#f0f921\"]]}],\"heatmap\":[{\"type\":\"heatmap\",\"colorbar\":{\"outlinewidth\":0,\"ticks\":\"\"},\"colorscale\":[[0.0,\"#0d0887\"],[0.1111111111111111,\"#46039f\"],[0.2222222222222222,\"#7201a8\"],[0.3333333333333333,\"#9c179e\"],[0.4444444444444444,\"#bd3786\"],[0.5555555555555556,\"#d8576b\"],[0.6666666666666666,\"#ed7953\"],[0.7777777777777778,\"#fb9f3a\"],[0.8888888888888888,\"#fdca26\"],[1.0,\"#f0f921\"]]}],\"heatmapgl\":[{\"type\":\"heatmapgl\",\"colorbar\":{\"outlinewidth\":0,\"ticks\":\"\"},\"colorscale\":[[0.0,\"#0d0887\"],[0.1111111111111111,\"#46039f\"],[0.2222222222222222,\"#7201a8\"],[0.3333333333333333,\"#9c179e\"],[0.4444444444444444,\"#bd3786\"],[0.5555555555555556,\"#d8576b\"],[0.6666666666666666,\"#ed7953\"],[0.7777777777777778,\"#fb9f3a\"],[0.8888888888888888,\"#fdca26\"],[1.0,\"#f0f921\"]]}],\"contourcarpet\":[{\"type\":\"contourcarpet\",\"colorbar\":{\"outlinewidth\":0,\"ticks\":\"\"}}],\"contour\":[{\"type\":\"contour\",\"colorbar\":{\"outlinewidth\":0,\"ticks\":\"\"},\"colorscale\":[[0.0,\"#0d0887\"],[0.1111111111111111,\"#46039f\"],[0.2222222222222222,\"#7201a8\"],[0.3333333333333333,\"#9c179e\"],[0.4444444444444444,\"#bd3786\"],[0.5555555555555556,\"#d8576b\"],[0.6666666666666666,\"#ed7953\"],[0.7777777777777778,\"#fb9f3a\"],[0.8888888888888888,\"#fdca26\"],[1.0,\"#f0f921\"]]}],\"surface\":[{\"type\":\"surface\",\"colorbar\":{\"outlinewidth\":0,\"ticks\":\"\"},\"colorscale\":[[0.0,\"#0d0887\"],[0.1111111111111111,\"#46039f\"],[0.2222222222222222,\"#7201a8\"],[0.3333333333333333,\"#9c179e\"],[0.4444444444444444,\"#bd3786\"],[0.5555555555555556,\"#d8576b\"],[0.6666666666666666,\"#ed7953\"],[0.7777777777777778,\"#fb9f3a\"],[0.8888888888888888,\"#fdca26\"],[1.0,\"#f0f921\"]]}],\"mesh3d\":[{\"type\":\"mesh3d\",\"colorbar\":{\"outlinewidth\":0,\"ticks\":\"\"}}],\"scatter\":[{\"fillpattern\":{\"fillmode\":\"overlay\",\"size\":10,\"solidity\":0.2},\"type\":\"scatter\"}],\"parcoords\":[{\"type\":\"parcoords\",\"line\":{\"colorbar\":{\"outlinewidth\":0,\"ticks\":\"\"}}}],\"scatterpolargl\":[{\"type\":\"scatterpolargl\",\"marker\":{\"colorbar\":{\"outlinewidth\":0,\"ticks\":\"\"}}}],\"bar\":[{\"error_x\":{\"color\":\"#2a3f5f\"},\"error_y\":{\"color\":\"#2a3f5f\"},\"marker\":{\"line\":{\"color\":\"#E5ECF6\",\"width\":0.5},\"pattern\":{\"fillmode\":\"overlay\",\"size\":10,\"solidity\":0.2}},\"type\":\"bar\"}],\"scattergeo\":[{\"type\":\"scattergeo\",\"marker\":{\"colorbar\":{\"outlinewidth\":0,\"ticks\":\"\"}}}],\"scatterpolar\":[{\"type\":\"scatterpolar\",\"marker\":{\"colorbar\":{\"outlinewidth\":0,\"ticks\":\"\"}}}],\"histogram\":[{\"marker\":{\"pattern\":{\"fillmode\":\"overlay\",\"size\":10,\"solidity\":0.2}},\"type\":\"histogram\"}],\"scattergl\":[{\"type\":\"scattergl\",\"marker\":{\"colorbar\":{\"outlinewidth\":0,\"ticks\":\"\"}}}],\"scatter3d\":[{\"type\":\"scatter3d\",\"line\":{\"colorbar\":{\"outlinewidth\":0,\"ticks\":\"\"}},\"marker\":{\"colorbar\":{\"outlinewidth\":0,\"ticks\":\"\"}}}],\"scattermapbox\":[{\"type\":\"scattermapbox\",\"marker\":{\"colorbar\":{\"outlinewidth\":0,\"ticks\":\"\"}}}],\"scatterternary\":[{\"type\":\"scatterternary\",\"marker\":{\"colorbar\":{\"outlinewidth\":0,\"ticks\":\"\"}}}],\"scattercarpet\":[{\"type\":\"scattercarpet\",\"marker\":{\"colorbar\":{\"outlinewidth\":0,\"ticks\":\"\"}}}],\"carpet\":[{\"aaxis\":{\"endlinecolor\":\"#2a3f5f\",\"gridcolor\":\"white\",\"linecolor\":\"white\",\"minorgridcolor\":\"white\",\"startlinecolor\":\"#2a3f5f\"},\"baxis\":{\"endlinecolor\":\"#2a3f5f\",\"gridcolor\":\"white\",\"linecolor\":\"white\",\"minorgridcolor\":\"white\",\"startlinecolor\":\"#2a3f5f\"},\"type\":\"carpet\"}],\"table\":[{\"cells\":{\"fill\":{\"color\":\"#EBF0F8\"},\"line\":{\"color\":\"white\"}},\"header\":{\"fill\":{\"color\":\"#C8D4E3\"},\"line\":{\"color\":\"white\"}},\"type\":\"table\"}],\"barpolar\":[{\"marker\":{\"line\":{\"color\":\"#E5ECF6\",\"width\":0.5},\"pattern\":{\"fillmode\":\"overlay\",\"size\":10,\"solidity\":0.2}},\"type\":\"barpolar\"}],\"pie\":[{\"automargin\":true,\"type\":\"pie\"}]},\"layout\":{\"autotypenumbers\":\"strict\",\"colorway\":[\"#636efa\",\"#EF553B\",\"#00cc96\",\"#ab63fa\",\"#FFA15A\",\"#19d3f3\",\"#FF6692\",\"#B6E880\",\"#FF97FF\",\"#FECB52\"],\"font\":{\"color\":\"#2a3f5f\"},\"hovermode\":\"closest\",\"hoverlabel\":{\"align\":\"left\"},\"paper_bgcolor\":\"white\",\"plot_bgcolor\":\"#E5ECF6\",\"polar\":{\"bgcolor\":\"#E5ECF6\",\"angularaxis\":{\"gridcolor\":\"white\",\"linecolor\":\"white\",\"ticks\":\"\"},\"radialaxis\":{\"gridcolor\":\"white\",\"linecolor\":\"white\",\"ticks\":\"\"}},\"ternary\":{\"bgcolor\":\"#E5ECF6\",\"aaxis\":{\"gridcolor\":\"white\",\"linecolor\":\"white\",\"ticks\":\"\"},\"baxis\":{\"gridcolor\":\"white\",\"linecolor\":\"white\",\"ticks\":\"\"},\"caxis\":{\"gridcolor\":\"white\",\"linecolor\":\"white\",\"ticks\":\"\"}},\"coloraxis\":{\"colorbar\":{\"outlinewidth\":0,\"ticks\":\"\"}},\"colorscale\":{\"sequential\":[[0.0,\"#0d0887\"],[0.1111111111111111,\"#46039f\"],[0.2222222222222222,\"#7201a8\"],[0.3333333333333333,\"#9c179e\"],[0.4444444444444444,\"#bd3786\"],[0.5555555555555556,\"#d8576b\"],[0.6666666666666666,\"#ed7953\"],[0.7777777777777778,\"#fb9f3a\"],[0.8888888888888888,\"#fdca26\"],[1.0,\"#f0f921\"]],\"sequentialminus\":[[0.0,\"#0d0887\"],[0.1111111111111111,\"#46039f\"],[0.2222222222222222,\"#7201a8\"],[0.3333333333333333,\"#9c179e\"],[0.4444444444444444,\"#bd3786\"],[0.5555555555555556,\"#d8576b\"],[0.6666666666666666,\"#ed7953\"],[0.7777777777777778,\"#fb9f3a\"],[0.8888888888888888,\"#fdca26\"],[1.0,\"#f0f921\"]],\"diverging\":[[0,\"#8e0152\"],[0.1,\"#c51b7d\"],[0.2,\"#de77ae\"],[0.3,\"#f1b6da\"],[0.4,\"#fde0ef\"],[0.5,\"#f7f7f7\"],[0.6,\"#e6f5d0\"],[0.7,\"#b8e186\"],[0.8,\"#7fbc41\"],[0.9,\"#4d9221\"],[1,\"#276419\"]]},\"xaxis\":{\"gridcolor\":\"white\",\"linecolor\":\"white\",\"ticks\":\"\",\"title\":{\"standoff\":15},\"zerolinecolor\":\"white\",\"automargin\":true,\"zerolinewidth\":2},\"yaxis\":{\"gridcolor\":\"white\",\"linecolor\":\"white\",\"ticks\":\"\",\"title\":{\"standoff\":15},\"zerolinecolor\":\"white\",\"automargin\":true,\"zerolinewidth\":2},\"scene\":{\"xaxis\":{\"backgroundcolor\":\"#E5ECF6\",\"gridcolor\":\"white\",\"linecolor\":\"white\",\"showbackground\":true,\"ticks\":\"\",\"zerolinecolor\":\"white\",\"gridwidth\":2},\"yaxis\":{\"backgroundcolor\":\"#E5ECF6\",\"gridcolor\":\"white\",\"linecolor\":\"white\",\"showbackground\":true,\"ticks\":\"\",\"zerolinecolor\":\"white\",\"gridwidth\":2},\"zaxis\":{\"backgroundcolor\":\"#E5ECF6\",\"gridcolor\":\"white\",\"linecolor\":\"white\",\"showbackground\":true,\"ticks\":\"\",\"zerolinecolor\":\"white\",\"gridwidth\":2}},\"shapedefaults\":{\"line\":{\"color\":\"#2a3f5f\"}},\"annotationdefaults\":{\"arrowcolor\":\"#2a3f5f\",\"arrowhead\":0,\"arrowwidth\":1},\"geo\":{\"bgcolor\":\"white\",\"landcolor\":\"#E5ECF6\",\"subunitcolor\":\"white\",\"showland\":true,\"showlakes\":true,\"lakecolor\":\"white\"},\"title\":{\"x\":0.05},\"mapbox\":{\"style\":\"light\"}}}},                        {\"responsive\": true}                    ).then(function(){\n",
              "                            \n",
              "var gd = document.getElementById('a7e70d42-8d2b-4fa3-9674-c2a5e9829f28');\n",
              "var x = new MutationObserver(function (mutations, observer) {{\n",
              "        var display = window.getComputedStyle(gd).display;\n",
              "        if (!display || display === 'none') {{\n",
              "            console.log([gd, 'removed!']);\n",
              "            Plotly.purge(gd);\n",
              "            observer.disconnect();\n",
              "        }}\n",
              "}});\n",
              "\n",
              "// Listen for the removal of the full notebook cells\n",
              "var notebookContainer = gd.closest('#notebook-container');\n",
              "if (notebookContainer) {{\n",
              "    x.observe(notebookContainer, {childList: true});\n",
              "}}\n",
              "\n",
              "// Listen for the clearing of the current output cell\n",
              "var outputEl = gd.closest('.output');\n",
              "if (outputEl) {{\n",
              "    x.observe(outputEl, {childList: true});\n",
              "}}\n",
              "\n",
              "                        })                };                            </script>        </div>\n",
              "</body>\n",
              "</html>"
            ]
          },
          "metadata": {}
        },
        {
          "output_type": "stream",
          "name": "stderr",
          "text": [
            "<ipython-input-37-0c79a7da1449>:44: FutureWarning:\n",
            "\n",
            "suggest_loguniform has been deprecated in v3.0.0. This feature will be removed in v6.0.0. See https://github.com/optuna/optuna/releases/tag/v3.0.0. Use suggest_float(..., log=True) instead.\n",
            "\n",
            "<ipython-input-37-0c79a7da1449>:76: FutureWarning:\n",
            "\n",
            "suggest_uniform has been deprecated in v3.0.0. This feature will be removed in v6.0.0. See https://github.com/optuna/optuna/releases/tag/v3.0.0. Use suggest_float instead.\n",
            "\n",
            "<ipython-input-37-0c79a7da1449>:145: FutureWarning:\n",
            "\n",
            "suggest_loguniform has been deprecated in v3.0.0. This feature will be removed in v6.0.0. See https://github.com/optuna/optuna/releases/tag/v3.0.0. Use suggest_float(..., log=True) instead.\n",
            "\n",
            "<ipython-input-37-0c79a7da1449>:146: FutureWarning:\n",
            "\n",
            "suggest_uniform has been deprecated in v3.0.0. This feature will be removed in v6.0.0. See https://github.com/optuna/optuna/releases/tag/v3.0.0. Use suggest_float instead.\n",
            "\n",
            "<ipython-input-37-0c79a7da1449>:178: FutureWarning:\n",
            "\n",
            "suggest_uniform has been deprecated in v3.0.0. This feature will be removed in v6.0.0. See https://github.com/optuna/optuna/releases/tag/v3.0.0. Use suggest_float instead.\n",
            "\n",
            "<ipython-input-37-0c79a7da1449>:180: FutureWarning:\n",
            "\n",
            "suggest_loguniform has been deprecated in v3.0.0. This feature will be removed in v6.0.0. See https://github.com/optuna/optuna/releases/tag/v3.0.0. Use suggest_float(..., log=True) instead.\n",
            "\n"
          ]
        },
        {
          "output_type": "stream",
          "name": "stdout",
          "text": [
            "Epoch 1/143.. Train loss: 4.471.. Val loss: 4.425.. Train L1 norm: 1.132.. Val L1 norm: 1.182.. Train Linf norm: 52.001.. Val Linf norm: 44.363\n",
            "Epoch 2/143.. Train loss: 4.157.. Val loss: 4.123.. Train L1 norm: 2.210.. Val L1 norm: 2.455.. Train Linf norm: 354.223.. Val Linf norm: 246.354\n",
            "Epoch 3/143.. Train loss: 3.970.. Val loss: 4.092.. Train L1 norm: 2.922.. Val L1 norm: 3.189.. Train Linf norm: 531.167.. Val Linf norm: 349.796\n",
            "Epoch 4/143.. Train loss: 3.924.. Val loss: 3.933.. Train L1 norm: 3.409.. Val L1 norm: 2.197.. Train Linf norm: 715.076.. Val Linf norm: 209.535\n",
            "Epoch 5/143.. Train loss: 3.809.. Val loss: 3.936.. Train L1 norm: 3.681.. Val L1 norm: 3.787.. Train Linf norm: 772.260.. Val Linf norm: 431.140\n",
            "Epoch 6/143.. Train loss: 3.717.. Val loss: 3.693.. Train L1 norm: 3.950.. Val L1 norm: 3.371.. Train Linf norm: 827.772.. Val Linf norm: 376.626\n",
            "Epoch 7/143.. Train loss: 3.741.. Val loss: 3.674.. Train L1 norm: 3.937.. Val L1 norm: 3.658.. Train Linf norm: 795.853.. Val Linf norm: 416.184\n",
            "Epoch 8/143.. Train loss: 3.586.. Val loss: 3.593.. Train L1 norm: 4.255.. Val L1 norm: 3.110.. Train Linf norm: 862.788.. Val Linf norm: 340.544\n",
            "Epoch 9/143.. Train loss: 3.563.. Val loss: 3.672.. Train L1 norm: 4.306.. Val L1 norm: 3.564.. Train Linf norm: 863.841.. Val Linf norm: 403.189\n",
            "Epoch 10/143.. Train loss: 3.588.. Val loss: 3.551.. Train L1 norm: 4.221.. Val L1 norm: 3.304.. Train Linf norm: 858.481.. Val Linf norm: 368.298\n",
            "Epoch 11/143.. Train loss: 3.521.. Val loss: 3.855.. Train L1 norm: 4.334.. Val L1 norm: 2.146.. Train Linf norm: 924.423.. Val Linf norm: 206.504\n",
            "Epoch 12/143.. Train loss: 3.531.. Val loss: 3.593.. Train L1 norm: 4.361.. Val L1 norm: 3.890.. Train Linf norm: 910.259.. Val Linf norm: 448.371\n",
            "Epoch 13/143.. Train loss: 3.514.. Val loss: 3.502.. Train L1 norm: 4.471.. Val L1 norm: 3.628.. Train Linf norm: 953.708.. Val Linf norm: 416.565\n",
            "Epoch 14/143.. Train loss: 3.480.. Val loss: 3.499.. Train L1 norm: 4.438.. Val L1 norm: 3.741.. Train Linf norm: 887.196.. Val Linf norm: 430.091\n",
            "Epoch 15/143.. Train loss: 3.470.. Val loss: 3.528.. Train L1 norm: 4.407.. Val L1 norm: 3.717.. Train Linf norm: 889.604.. Val Linf norm: 427.848\n",
            "Epoch 16/143.. Train loss: 3.448.. Val loss: 3.476.. Train L1 norm: 4.440.. Val L1 norm: 3.640.. Train Linf norm: 917.489.. Val Linf norm: 419.682\n",
            "Epoch 17/143.. Train loss: 3.455.. Val loss: 3.474.. Train L1 norm: 4.314.. Val L1 norm: 3.827.. Train Linf norm: 868.978.. Val Linf norm: 447.193\n",
            "Epoch 18/143.. Train loss: 3.434.. Val loss: 3.492.. Train L1 norm: 4.372.. Val L1 norm: 3.574.. Train Linf norm: 872.495.. Val Linf norm: 412.664\n",
            "Epoch 19/143.. Train loss: 3.480.. Val loss: 3.458.. Train L1 norm: 4.521.. Val L1 norm: 3.428.. Train Linf norm: 981.296.. Val Linf norm: 390.868\n",
            "Epoch 20/143.. Train loss: 3.456.. Val loss: 3.460.. Train L1 norm: 4.486.. Val L1 norm: 3.226.. Train Linf norm: 971.498.. Val Linf norm: 363.247\n",
            "Epoch 21/143.. Train loss: 3.429.. Val loss: 3.491.. Train L1 norm: 4.529.. Val L1 norm: 3.799.. Train Linf norm: 960.633.. Val Linf norm: 440.560\n",
            "Epoch 22/143.. Train loss: 3.411.. Val loss: 3.434.. Train L1 norm: 4.527.. Val L1 norm: 3.659.. Train Linf norm: 981.920.. Val Linf norm: 420.102\n",
            "Epoch 23/143.. Train loss: 3.416.. Val loss: 3.431.. Train L1 norm: 4.441.. Val L1 norm: 3.743.. Train Linf norm: 891.212.. Val Linf norm: 432.010\n",
            "Epoch 24/143.. Train loss: 3.405.. Val loss: 3.443.. Train L1 norm: 4.504.. Val L1 norm: 3.838.. Train Linf norm: 942.564.. Val Linf norm: 443.372\n",
            "Epoch 25/143.. Train loss: 3.400.. Val loss: 3.460.. Train L1 norm: 4.566.. Val L1 norm: 3.733.. Train Linf norm: 985.816.. Val Linf norm: 430.237\n",
            "Epoch 26/143.. Train loss: 3.406.. Val loss: 3.401.. Train L1 norm: 4.750.. Val L1 norm: 3.838.. Train Linf norm: 1047.930.. Val Linf norm: 444.960\n",
            "Epoch 27/143.. Train loss: 3.388.. Val loss: 3.426.. Train L1 norm: 4.709.. Val L1 norm: 3.813.. Train Linf norm: 1014.258.. Val Linf norm: 439.003\n",
            "Epoch 28/143.. Train loss: 3.391.. Val loss: 3.447.. Train L1 norm: 4.381.. Val L1 norm: 3.888.. Train Linf norm: 852.226.. Val Linf norm: 449.117\n",
            "Epoch 29/143.. Train loss: 3.373.. Val loss: 3.449.. Train L1 norm: 4.645.. Val L1 norm: 3.421.. Train Linf norm: 1020.849.. Val Linf norm: 387.230\n",
            "Epoch 30/143.. Train loss: 3.371.. Val loss: 3.417.. Train L1 norm: 4.684.. Val L1 norm: 3.752.. Train Linf norm: 1048.127.. Val Linf norm: 432.566\n",
            "Epoch 31/143.. Train loss: 3.360.. Val loss: 3.427.. Train L1 norm: 4.645.. Val L1 norm: 3.514.. Train Linf norm: 1034.127.. Val Linf norm: 401.142\n",
            "Epoch 32/143.. Train loss: 3.372.. Val loss: 3.393.. Train L1 norm: 4.373.. Val L1 norm: 3.738.. Train Linf norm: 896.059.. Val Linf norm: 432.153\n",
            "Epoch 33/143.. Train loss: 3.363.. Val loss: 3.388.. Train L1 norm: 4.513.. Val L1 norm: 3.957.. Train Linf norm: 976.338.. Val Linf norm: 458.081\n",
            "Epoch 34/143.. Train loss: 3.361.. Val loss: 3.407.. Train L1 norm: 4.701.. Val L1 norm: 3.574.. Train Linf norm: 992.038.. Val Linf norm: 408.126\n",
            "Epoch 35/143.. Train loss: 3.359.. Val loss: 3.374.. Train L1 norm: 4.440.. Val L1 norm: 3.617.. Train Linf norm: 894.559.. Val Linf norm: 413.444\n",
            "Epoch 36/143.. Train loss: 3.359.. Val loss: 3.395.. Train L1 norm: 4.626.. Val L1 norm: 3.732.. Train Linf norm: 1019.769.. Val Linf norm: 432.149\n",
            "Epoch 37/143.. Train loss: 3.349.. Val loss: 3.361.. Train L1 norm: 4.650.. Val L1 norm: 3.640.. Train Linf norm: 1027.561.. Val Linf norm: 417.313\n",
            "Epoch 38/143.. Train loss: 3.346.. Val loss: 3.410.. Train L1 norm: 4.424.. Val L1 norm: 3.647.. Train Linf norm: 919.255.. Val Linf norm: 416.029\n",
            "Epoch 39/143.. Train loss: 3.348.. Val loss: 3.526.. Train L1 norm: 4.566.. Val L1 norm: 2.755.. Train Linf norm: 1003.528.. Val Linf norm: 296.129\n",
            "Epoch 40/143.. Train loss: 3.336.. Val loss: 3.389.. Train L1 norm: 4.714.. Val L1 norm: 3.907.. Train Linf norm: 1072.434.. Val Linf norm: 451.890\n",
            "Epoch 41/143.. Train loss: 3.338.. Val loss: 3.365.. Train L1 norm: 4.541.. Val L1 norm: 3.403.. Train Linf norm: 962.263.. Val Linf norm: 390.636\n",
            "Epoch 42/143.. Train loss: 3.327.. Val loss: 3.380.. Train L1 norm: 4.504.. Val L1 norm: 3.890.. Train Linf norm: 966.957.. Val Linf norm: 452.227\n",
            "Epoch 43/143.. Train loss: 3.342.. Val loss: 3.376.. Train L1 norm: 4.540.. Val L1 norm: 4.239.. Train Linf norm: 967.585.. Val Linf norm: 498.652\n",
            "Epoch 44/143.. Train loss: 3.317.. Val loss: 3.336.. Train L1 norm: 4.543.. Val L1 norm: 3.899.. Train Linf norm: 976.813.. Val Linf norm: 451.333\n",
            "Epoch 45/143.. Train loss: 3.306.. Val loss: 3.379.. Train L1 norm: 4.643.. Val L1 norm: 4.055.. Train Linf norm: 1046.430.. Val Linf norm: 473.647\n",
            "Epoch 46/143.. Train loss: 3.308.. Val loss: 3.382.. Train L1 norm: 4.623.. Val L1 norm: 4.206.. Train Linf norm: 876.601.. Val Linf norm: 494.931\n",
            "Epoch 47/143.. Train loss: 3.303.. Val loss: 3.358.. Train L1 norm: 4.663.. Val L1 norm: 3.911.. Train Linf norm: 981.364.. Val Linf norm: 455.283\n",
            "Epoch 48/143.. Train loss: 3.312.. Val loss: 3.364.. Train L1 norm: 4.621.. Val L1 norm: 4.150.. Train Linf norm: 1009.468.. Val Linf norm: 484.531\n",
            "Epoch 49/143.. Train loss: 3.306.. Val loss: 3.340.. Train L1 norm: 4.535.. Val L1 norm: 3.903.. Train Linf norm: 985.245.. Val Linf norm: 453.202\n",
            "Epoch 50/143.. Train loss: 3.305.. Val loss: 3.338.. Train L1 norm: 4.524.. Val L1 norm: 4.016.. Train Linf norm: 957.084.. Val Linf norm: 468.140\n",
            "Epoch 51/143.. Train loss: 3.294.. Val loss: 3.332.. Train L1 norm: 4.397.. Val L1 norm: 3.958.. Train Linf norm: 880.539.. Val Linf norm: 461.331\n",
            "Epoch 52/143.. Train loss: 3.295.. Val loss: 3.345.. Train L1 norm: 4.557.. Val L1 norm: 4.041.. Train Linf norm: 985.331.. Val Linf norm: 473.019\n",
            "Epoch 53/143.. Train loss: 3.291.. Val loss: 3.366.. Train L1 norm: 4.611.. Val L1 norm: 4.062.. Train Linf norm: 985.120.. Val Linf norm: 474.355\n",
            "Epoch 54/143.. Train loss: 3.290.. Val loss: 3.370.. Train L1 norm: 4.738.. Val L1 norm: 4.077.. Train Linf norm: 1061.906.. Val Linf norm: 476.001\n",
            "Epoch 55/143.. Train loss: 3.288.. Val loss: 3.364.. Train L1 norm: 4.675.. Val L1 norm: 4.196.. Train Linf norm: 1046.845.. Val Linf norm: 493.221\n",
            "Epoch 56/143.. Train loss: 3.290.. Val loss: 3.339.. Train L1 norm: 4.519.. Val L1 norm: 4.070.. Train Linf norm: 960.604.. Val Linf norm: 475.161\n",
            "Epoch 57/143.. Train loss: 3.286.. Val loss: 3.365.. Train L1 norm: 4.545.. Val L1 norm: 4.124.. Train Linf norm: 918.929.. Val Linf norm: 483.205\n",
            "Epoch 58/143.. Train loss: 3.292.. Val loss: 3.360.. Train L1 norm: 4.594.. Val L1 norm: 4.158.. Train Linf norm: 990.538.. Val Linf norm: 487.756\n",
            "Epoch 59/143.. Train loss: 3.282.. Val loss: 3.356.. Train L1 norm: 4.731.. Val L1 norm: 4.095.. Train Linf norm: 1026.060.. Val Linf norm: 478.660\n",
            "Epoch 60/143.. Train loss: 3.283.. Val loss: 3.369.. Train L1 norm: 4.756.. Val L1 norm: 4.195.. Train Linf norm: 1101.955.. Val Linf norm: 491.934\n",
            "Epoch 61/143.. Train loss: 3.273.. Val loss: 3.362.. Train L1 norm: 4.710.. Val L1 norm: 4.134.. Train Linf norm: 1032.572.. Val Linf norm: 484.904\n",
            "Epoch 62/143.. Train loss: 3.282.. Val loss: 3.366.. Train L1 norm: 4.470.. Val L1 norm: 4.225.. Train Linf norm: 947.329.. Val Linf norm: 497.408\n",
            "Epoch 63/143.. Train loss: 3.282.. Val loss: 3.353.. Train L1 norm: 4.694.. Val L1 norm: 4.137.. Train Linf norm: 1028.813.. Val Linf norm: 485.050\n",
            "Epoch 64/143.. Train loss: 3.285.. Val loss: 3.345.. Train L1 norm: 4.604.. Val L1 norm: 4.118.. Train Linf norm: 993.263.. Val Linf norm: 482.933\n",
            "Epoch 65/143.. Train loss: 3.281.. Val loss: 3.340.. Train L1 norm: 4.551.. Val L1 norm: 4.095.. Train Linf norm: 998.596.. Val Linf norm: 479.529\n",
            "Epoch 66/143.. Train loss: 3.276.. Val loss: 3.351.. Train L1 norm: 4.581.. Val L1 norm: 4.184.. Train Linf norm: 963.939.. Val Linf norm: 491.243\n",
            "Epoch 67/143.. Train loss: 3.279.. Val loss: 3.350.. Train L1 norm: 4.567.. Val L1 norm: 4.192.. Train Linf norm: 1004.991.. Val Linf norm: 491.724\n",
            "Epoch 68/143.. Train loss: 3.276.. Val loss: 3.344.. Train L1 norm: 4.546.. Val L1 norm: 4.151.. Train Linf norm: 914.952.. Val Linf norm: 486.656\n",
            "Epoch 69/143.. Train loss: 3.280.. Val loss: 3.347.. Train L1 norm: 4.505.. Val L1 norm: 4.143.. Train Linf norm: 917.219.. Val Linf norm: 486.030\n",
            "Epoch 70/143.. Train loss: 3.281.. Val loss: 3.347.. Train L1 norm: 4.608.. Val L1 norm: 4.144.. Train Linf norm: 997.133.. Val Linf norm: 486.237\n",
            "Epoch 71/143.. Train loss: 3.286.. Val loss: 3.343.. Train L1 norm: 4.711.. Val L1 norm: 4.132.. Train Linf norm: 1080.150.. Val Linf norm: 484.637\n",
            "Epoch 72/143.. Train loss: 3.282.. Val loss: 3.342.. Train L1 norm: 4.701.. Val L1 norm: 4.121.. Train Linf norm: 1065.258.. Val Linf norm: 483.089\n",
            "Epoch 73/143.. Train loss: 3.272.. Val loss: 3.349.. Train L1 norm: 4.570.. Val L1 norm: 4.172.. Train Linf norm: 1020.570.. Val Linf norm: 489.697\n",
            "Epoch 74/143.. Train loss: 3.278.. Val loss: 3.350.. Train L1 norm: 4.600.. Val L1 norm: 4.173.. Train Linf norm: 990.189.. Val Linf norm: 489.512\n",
            "Epoch 75/143.. Train loss: 3.282.. Val loss: 3.344.. Train L1 norm: 4.756.. Val L1 norm: 4.121.. Train Linf norm: 1094.691.. Val Linf norm: 482.666\n",
            "Epoch 76/143.. Train loss: 3.283.. Val loss: 3.345.. Train L1 norm: 4.518.. Val L1 norm: 4.136.. Train Linf norm: 984.933.. Val Linf norm: 484.634\n",
            "Epoch 77/143.. Train loss: 3.283.. Val loss: 3.346.. Train L1 norm: 4.576.. Val L1 norm: 4.141.. Train Linf norm: 989.509.. Val Linf norm: 485.329\n",
            "Epoch 78/143.. Train loss: 3.284.. Val loss: 3.341.. Train L1 norm: 4.472.. Val L1 norm: 4.108.. Train Linf norm: 961.830.. Val Linf norm: 481.089\n",
            "Epoch 79/143.. Train loss: 3.278.. Val loss: 3.342.. Train L1 norm: 4.631.. Val L1 norm: 4.119.. Train Linf norm: 1022.606.. Val Linf norm: 482.688\n",
            "Epoch 80/143.. Train loss: 3.282.. Val loss: 3.344.. Train L1 norm: 4.655.. Val L1 norm: 4.137.. Train Linf norm: 1000.571.. Val Linf norm: 485.026\n",
            "Epoch 81/143.. Train loss: 3.278.. Val loss: 3.347.. Train L1 norm: 4.413.. Val L1 norm: 4.154.. Train Linf norm: 942.240.. Val Linf norm: 487.176\n",
            "Epoch 82/143.. Train loss: 3.278.. Val loss: 3.347.. Train L1 norm: 4.523.. Val L1 norm: 4.157.. Train Linf norm: 977.959.. Val Linf norm: 487.537\n",
            "Epoch 83/143.. Train loss: 3.275.. Val loss: 3.347.. Train L1 norm: 4.622.. Val L1 norm: 4.155.. Train Linf norm: 925.431.. Val Linf norm: 487.364\n",
            "Epoch 84/143.. Train loss: 3.278.. Val loss: 3.346.. Train L1 norm: 4.576.. Val L1 norm: 4.150.. Train Linf norm: 983.083.. Val Linf norm: 486.657\n",
            "Epoch 85/143.. Train loss: 3.280.. Val loss: 3.346.. Train L1 norm: 4.490.. Val L1 norm: 4.147.. Train Linf norm: 966.885.. Val Linf norm: 486.246\n",
            "Epoch 86/143.. Train loss: 3.276.. Val loss: 3.346.. Train L1 norm: 4.627.. Val L1 norm: 4.147.. Train Linf norm: 1043.939.. Val Linf norm: 486.248\n",
            "Epoch 87/143.. Train loss: 3.279.. Val loss: 3.346.. Train L1 norm: 4.729.. Val L1 norm: 4.148.. Train Linf norm: 996.354.. Val Linf norm: 486.493\n",
            "Epoch 88/143.. Train loss: 3.291.. Val loss: 3.346.. Train L1 norm: 4.607.. Val L1 norm: 4.146.. Train Linf norm: 1021.837.. Val Linf norm: 486.162\n",
            "Epoch 89/143.. Train loss: 3.280.. Val loss: 3.345.. Train L1 norm: 4.466.. Val L1 norm: 4.144.. Train Linf norm: 950.776.. Val Linf norm: 485.955\n",
            "Epoch 90/143.. Train loss: 3.279.. Val loss: 3.345.. Train L1 norm: 4.514.. Val L1 norm: 4.144.. Train Linf norm: 1004.557.. Val Linf norm: 486.025\n",
            "Epoch 91/143.. Train loss: 3.282.. Val loss: 3.346.. Train L1 norm: 4.518.. Val L1 norm: 4.148.. Train Linf norm: 970.874.. Val Linf norm: 486.556\n",
            "Epoch 92/143.. Train loss: 3.272.. Val loss: 3.346.. Train L1 norm: 4.494.. Val L1 norm: 4.149.. Train Linf norm: 976.050.. Val Linf norm: 486.625\n",
            "Epoch 93/143.. Train loss: 3.280.. Val loss: 3.346.. Train L1 norm: 4.605.. Val L1 norm: 4.149.. Train Linf norm: 1006.162.. Val Linf norm: 486.561\n",
            "Epoch 94/143.. Train loss: 3.276.. Val loss: 3.346.. Train L1 norm: 4.575.. Val L1 norm: 4.148.. Train Linf norm: 998.233.. Val Linf norm: 486.513\n",
            "Epoch 95/143.. Train loss: 3.282.. Val loss: 3.346.. Train L1 norm: 4.587.. Val L1 norm: 4.149.. Train Linf norm: 964.980.. Val Linf norm: 486.571\n",
            "Epoch 96/143.. Train loss: 3.280.. Val loss: 3.346.. Train L1 norm: 4.632.. Val L1 norm: 4.150.. Train Linf norm: 1006.902.. Val Linf norm: 486.749\n",
            "Epoch 97/143.. Train loss: 3.280.. Val loss: 3.347.. Train L1 norm: 4.685.. Val L1 norm: 4.152.. Train Linf norm: 1024.349.. Val Linf norm: 486.925\n",
            "Epoch 98/143.. Train loss: 3.277.. Val loss: 3.347.. Train L1 norm: 4.504.. Val L1 norm: 4.152.. Train Linf norm: 958.936.. Val Linf norm: 486.924\n",
            "Epoch 99/143.. Train loss: 3.275.. Val loss: 3.346.. Train L1 norm: 4.660.. Val L1 norm: 4.151.. Train Linf norm: 1020.685.. Val Linf norm: 486.792\n",
            "Epoch 100/143.. Train loss: 3.280.. Val loss: 3.346.. Train L1 norm: 4.633.. Val L1 norm: 4.150.. Train Linf norm: 1005.246.. Val Linf norm: 486.726\n",
            "Epoch 101/143.. Train loss: 3.278.. Val loss: 3.346.. Train L1 norm: 4.518.. Val L1 norm: 4.150.. Train Linf norm: 997.621.. Val Linf norm: 486.715\n",
            "Epoch 102/143.. Train loss: 3.283.. Val loss: 3.346.. Train L1 norm: 4.710.. Val L1 norm: 4.149.. Train Linf norm: 1074.573.. Val Linf norm: 486.649\n",
            "Epoch 103/143.. Train loss: 3.279.. Val loss: 3.346.. Train L1 norm: 4.600.. Val L1 norm: 4.149.. Train Linf norm: 1020.199.. Val Linf norm: 486.614\n",
            "Epoch 104/143.. Train loss: 3.272.. Val loss: 3.346.. Train L1 norm: 4.659.. Val L1 norm: 4.149.. Train Linf norm: 977.426.. Val Linf norm: 486.629\n",
            "Epoch 105/143.. Train loss: 3.280.. Val loss: 3.346.. Train L1 norm: 4.605.. Val L1 norm: 4.149.. Train Linf norm: 1003.602.. Val Linf norm: 486.628\n",
            "Epoch 106/143.. Train loss: 3.273.. Val loss: 3.346.. Train L1 norm: 4.665.. Val L1 norm: 4.149.. Train Linf norm: 1035.870.. Val Linf norm: 486.643\n",
            "Epoch 107/143.. Train loss: 3.283.. Val loss: 3.346.. Train L1 norm: 4.548.. Val L1 norm: 4.149.. Train Linf norm: 978.463.. Val Linf norm: 486.620\n",
            "Epoch 108/143.. Train loss: 3.283.. Val loss: 3.346.. Train L1 norm: 4.650.. Val L1 norm: 4.149.. Train Linf norm: 1029.133.. Val Linf norm: 486.593\n",
            "Epoch 109/143.. Train loss: 3.273.. Val loss: 3.346.. Train L1 norm: 4.704.. Val L1 norm: 4.149.. Train Linf norm: 1070.896.. Val Linf norm: 486.632\n",
            "Epoch 110/143.. Train loss: 3.285.. Val loss: 3.346.. Train L1 norm: 4.750.. Val L1 norm: 4.149.. Train Linf norm: 1066.176.. Val Linf norm: 486.602\n",
            "Epoch 111/143.. Train loss: 3.275.. Val loss: 3.346.. Train L1 norm: 4.710.. Val L1 norm: 4.149.. Train Linf norm: 1014.761.. Val Linf norm: 486.597\n",
            "Epoch 112/143.. Train loss: 3.283.. Val loss: 3.346.. Train L1 norm: 4.626.. Val L1 norm: 4.149.. Train Linf norm: 997.037.. Val Linf norm: 486.605\n",
            "Epoch 113/143.. Train loss: 3.270.. Val loss: 3.346.. Train L1 norm: 4.518.. Val L1 norm: 4.149.. Train Linf norm: 944.119.. Val Linf norm: 486.617\n",
            "Epoch 114/143.. Train loss: 3.276.. Val loss: 3.346.. Train L1 norm: 4.692.. Val L1 norm: 4.149.. Train Linf norm: 1045.510.. Val Linf norm: 486.626\n",
            "Epoch 115/143.. Train loss: 3.278.. Val loss: 3.346.. Train L1 norm: 4.608.. Val L1 norm: 4.149.. Train Linf norm: 1035.874.. Val Linf norm: 486.617\n",
            "Epoch 116/143.. Train loss: 3.281.. Val loss: 3.346.. Train L1 norm: 4.444.. Val L1 norm: 4.149.. Train Linf norm: 917.318.. Val Linf norm: 486.614\n",
            "Epoch 117/143.. Train loss: 3.283.. Val loss: 3.346.. Train L1 norm: 4.598.. Val L1 norm: 4.149.. Train Linf norm: 978.398.. Val Linf norm: 486.604\n",
            "Epoch 118/143.. Train loss: 3.275.. Val loss: 3.346.. Train L1 norm: 4.577.. Val L1 norm: 4.149.. Train Linf norm: 998.515.. Val Linf norm: 486.602\n",
            "Epoch 119/143.. Train loss: 3.288.. Val loss: 3.346.. Train L1 norm: 4.704.. Val L1 norm: 4.149.. Train Linf norm: 1072.564.. Val Linf norm: 486.597\n",
            "Epoch 120/143.. Train loss: 3.278.. Val loss: 3.346.. Train L1 norm: 4.610.. Val L1 norm: 4.149.. Train Linf norm: 1012.747.. Val Linf norm: 486.599\n",
            "Epoch 121/143.. Train loss: 3.273.. Val loss: 3.346.. Train L1 norm: 4.772.. Val L1 norm: 4.149.. Train Linf norm: 1098.259.. Val Linf norm: 486.598\n",
            "Epoch 122/143.. Train loss: 3.280.. Val loss: 3.346.. Train L1 norm: 4.516.. Val L1 norm: 4.149.. Train Linf norm: 955.270.. Val Linf norm: 486.587\n",
            "Epoch 123/143.. Train loss: 3.275.. Val loss: 3.346.. Train L1 norm: 4.574.. Val L1 norm: 4.149.. Train Linf norm: 979.512.. Val Linf norm: 486.587\n",
            "Epoch 124/143.. Train loss: 3.276.. Val loss: 3.346.. Train L1 norm: 4.728.. Val L1 norm: 4.149.. Train Linf norm: 987.996.. Val Linf norm: 486.588\n",
            "Epoch 125/143.. Train loss: 3.279.. Val loss: 3.346.. Train L1 norm: 4.678.. Val L1 norm: 4.149.. Train Linf norm: 1079.224.. Val Linf norm: 486.588\n",
            "Epoch 126/143.. Train loss: 3.274.. Val loss: 3.346.. Train L1 norm: 4.633.. Val L1 norm: 4.149.. Train Linf norm: 985.354.. Val Linf norm: 486.588\n",
            "Epoch 127/143.. Train loss: 3.279.. Val loss: 3.346.. Train L1 norm: 4.616.. Val L1 norm: 4.149.. Train Linf norm: 985.914.. Val Linf norm: 486.587\n",
            "Epoch 128/143.. Train loss: 3.280.. Val loss: 3.346.. Train L1 norm: 4.702.. Val L1 norm: 4.149.. Train Linf norm: 1049.578.. Val Linf norm: 486.582\n",
            "Epoch 129/143.. Train loss: 3.279.. Val loss: 3.346.. Train L1 norm: 4.642.. Val L1 norm: 4.149.. Train Linf norm: 1012.963.. Val Linf norm: 486.579\n",
            "Epoch 130/143.. Train loss: 3.279.. Val loss: 3.346.. Train L1 norm: 4.646.. Val L1 norm: 4.149.. Train Linf norm: 977.894.. Val Linf norm: 486.580\n",
            "Epoch 131/143.. Train loss: 3.284.. Val loss: 3.346.. Train L1 norm: 4.553.. Val L1 norm: 4.149.. Train Linf norm: 974.473.. Val Linf norm: 486.579\n",
            "Epoch 132/143.. Train loss: 3.277.. Val loss: 3.346.. Train L1 norm: 4.651.. Val L1 norm: 4.149.. Train Linf norm: 1028.422.. Val Linf norm: 486.579\n",
            "Epoch 133/143.. Train loss: 3.280.. Val loss: 3.346.. Train L1 norm: 4.530.. Val L1 norm: 4.149.. Train Linf norm: 975.923.. Val Linf norm: 486.579\n",
            "Epoch 134/143.. Train loss: 3.277.. Val loss: 3.346.. Train L1 norm: 4.581.. Val L1 norm: 4.149.. Train Linf norm: 1005.490.. Val Linf norm: 486.578\n",
            "Epoch 135/143.. Train loss: 3.274.. Val loss: 3.346.. Train L1 norm: 4.387.. Val L1 norm: 4.149.. Train Linf norm: 852.881.. Val Linf norm: 486.578\n",
            "Epoch 136/143.. Train loss: 3.279.. Val loss: 3.346.. Train L1 norm: 4.657.. Val L1 norm: 4.149.. Train Linf norm: 1069.420.. Val Linf norm: 486.577\n",
            "Epoch 137/143.. Train loss: 3.272.. Val loss: 3.346.. Train L1 norm: 4.632.. Val L1 norm: 4.149.. Train Linf norm: 1050.818.. Val Linf norm: 486.577\n",
            "Epoch 138/143.. Train loss: 3.278.. Val loss: 3.346.. Train L1 norm: 4.842.. Val L1 norm: 4.149.. Train Linf norm: 1104.150.. Val Linf norm: 486.577\n",
            "Epoch 139/143.. Train loss: 3.281.. Val loss: 3.346.. Train L1 norm: 4.701.. Val L1 norm: 4.149.. Train Linf norm: 1091.007.. Val Linf norm: 486.576\n",
            "Epoch 140/143.. Train loss: 3.276.. Val loss: 3.346.. Train L1 norm: 4.764.. Val L1 norm: 4.149.. Train Linf norm: 1038.241.. Val Linf norm: 486.576\n",
            "Epoch 141/143.. Train loss: 3.279.. Val loss: 3.346.. Train L1 norm: 4.757.. Val L1 norm: 4.149.. Train Linf norm: 1088.222.. Val Linf norm: 486.575\n",
            "Epoch 142/143.. Train loss: 3.277.. Val loss: 3.346.. Train L1 norm: 4.681.. Val L1 norm: 4.149.. Train Linf norm: 1074.373.. Val Linf norm: 486.575\n"
          ]
        },
        {
          "output_type": "stream",
          "name": "stderr",
          "text": [
            "[I 2023-06-02 10:12:47,934] Trial 1 finished with value: 4.148916990661621 and parameters: {'n_layers': 8, 'n_units_0': 2510, 'n_units_1': 2232, 'n_units_2': 3850, 'n_units_3': 863, 'n_units_4': 2223, 'n_units_5': 848, 'n_units_6': 3787, 'n_units_7': 29, 'hidden_activation': 'GELU', 'output_activation': 'Linear', 'loss': 'Huber', 'optimizer': 'SGD', 'lr': 0.00226381352018235, 'batch_size': 512, 'n_epochs': 143, 'scheduler': 'ReduceLROnPlateau', 'dropout_rate': 0.14995720849483257, 'weight_decay': 0.000895066535262381, 'momentum': 0.1483795110406407, 'factor': 0.43286688009993446, 'patience': 5, 'threshold': 0.00031613327133562087}. Best is trial 1 with value: 4.148916990661621.\n"
          ]
        },
        {
          "output_type": "stream",
          "name": "stdout",
          "text": [
            "Epoch 143/143.. Train loss: 3.277.. Val loss: 3.346.. Train L1 norm: 4.759.. Val L1 norm: 4.149.. Train Linf norm: 1038.966.. Val Linf norm: 486.575\n"
          ]
        },
        {
          "output_type": "display_data",
          "data": {
            "text/html": [
              "<html>\n",
              "<head><meta charset=\"utf-8\" /></head>\n",
              "<body>\n",
              "    <div>            <script src=\"https://cdnjs.cloudflare.com/ajax/libs/mathjax/2.7.5/MathJax.js?config=TeX-AMS-MML_SVG\"></script><script type=\"text/javascript\">if (window.MathJax && window.MathJax.Hub && window.MathJax.Hub.Config) {window.MathJax.Hub.Config({SVG: {font: \"STIX-Web\"}});}</script>                <script type=\"text/javascript\">window.PlotlyConfig = {MathJaxConfig: 'local'};</script>\n",
              "        <script src=\"https://cdn.plot.ly/plotly-2.18.2.min.js\"></script>                <div id=\"e53f3228-8b86-4c8a-8643-222bbfeff532\" class=\"plotly-graph-div\" style=\"height:525px; width:100%;\"></div>            <script type=\"text/javascript\">                                    window.PLOTLYENV=window.PLOTLYENV || {};                                    if (document.getElementById(\"e53f3228-8b86-4c8a-8643-222bbfeff532\")) {                    Plotly.newPlot(                        \"e53f3228-8b86-4c8a-8643-222bbfeff532\",                        [{\"mode\":\"markers\",\"name\":\"Objective Value\",\"x\":[0,1],\"y\":[361840040821304.0,4.148916990661621],\"type\":\"scatter\"},{\"name\":\"Best Value\",\"x\":[0,1],\"y\":[361840040821304.0,4.148916990661621],\"type\":\"scatter\"}],                        {\"title\":{\"text\":\"Optimization History Plot\"},\"xaxis\":{\"title\":{\"text\":\"Trial\"}},\"yaxis\":{\"title\":{\"text\":\"Objective Value\"}},\"template\":{\"data\":{\"histogram2dcontour\":[{\"type\":\"histogram2dcontour\",\"colorbar\":{\"outlinewidth\":0,\"ticks\":\"\"},\"colorscale\":[[0.0,\"#0d0887\"],[0.1111111111111111,\"#46039f\"],[0.2222222222222222,\"#7201a8\"],[0.3333333333333333,\"#9c179e\"],[0.4444444444444444,\"#bd3786\"],[0.5555555555555556,\"#d8576b\"],[0.6666666666666666,\"#ed7953\"],[0.7777777777777778,\"#fb9f3a\"],[0.8888888888888888,\"#fdca26\"],[1.0,\"#f0f921\"]]}],\"choropleth\":[{\"type\":\"choropleth\",\"colorbar\":{\"outlinewidth\":0,\"ticks\":\"\"}}],\"histogram2d\":[{\"type\":\"histogram2d\",\"colorbar\":{\"outlinewidth\":0,\"ticks\":\"\"},\"colorscale\":[[0.0,\"#0d0887\"],[0.1111111111111111,\"#46039f\"],[0.2222222222222222,\"#7201a8\"],[0.3333333333333333,\"#9c179e\"],[0.4444444444444444,\"#bd3786\"],[0.5555555555555556,\"#d8576b\"],[0.6666666666666666,\"#ed7953\"],[0.7777777777777778,\"#fb9f3a\"],[0.8888888888888888,\"#fdca26\"],[1.0,\"#f0f921\"]]}],\"heatmap\":[{\"type\":\"heatmap\",\"colorbar\":{\"outlinewidth\":0,\"ticks\":\"\"},\"colorscale\":[[0.0,\"#0d0887\"],[0.1111111111111111,\"#46039f\"],[0.2222222222222222,\"#7201a8\"],[0.3333333333333333,\"#9c179e\"],[0.4444444444444444,\"#bd3786\"],[0.5555555555555556,\"#d8576b\"],[0.6666666666666666,\"#ed7953\"],[0.7777777777777778,\"#fb9f3a\"],[0.8888888888888888,\"#fdca26\"],[1.0,\"#f0f921\"]]}],\"heatmapgl\":[{\"type\":\"heatmapgl\",\"colorbar\":{\"outlinewidth\":0,\"ticks\":\"\"},\"colorscale\":[[0.0,\"#0d0887\"],[0.1111111111111111,\"#46039f\"],[0.2222222222222222,\"#7201a8\"],[0.3333333333333333,\"#9c179e\"],[0.4444444444444444,\"#bd3786\"],[0.5555555555555556,\"#d8576b\"],[0.6666666666666666,\"#ed7953\"],[0.7777777777777778,\"#fb9f3a\"],[0.8888888888888888,\"#fdca26\"],[1.0,\"#f0f921\"]]}],\"contourcarpet\":[{\"type\":\"contourcarpet\",\"colorbar\":{\"outlinewidth\":0,\"ticks\":\"\"}}],\"contour\":[{\"type\":\"contour\",\"colorbar\":{\"outlinewidth\":0,\"ticks\":\"\"},\"colorscale\":[[0.0,\"#0d0887\"],[0.1111111111111111,\"#46039f\"],[0.2222222222222222,\"#7201a8\"],[0.3333333333333333,\"#9c179e\"],[0.4444444444444444,\"#bd3786\"],[0.5555555555555556,\"#d8576b\"],[0.6666666666666666,\"#ed7953\"],[0.7777777777777778,\"#fb9f3a\"],[0.8888888888888888,\"#fdca26\"],[1.0,\"#f0f921\"]]}],\"surface\":[{\"type\":\"surface\",\"colorbar\":{\"outlinewidth\":0,\"ticks\":\"\"},\"colorscale\":[[0.0,\"#0d0887\"],[0.1111111111111111,\"#46039f\"],[0.2222222222222222,\"#7201a8\"],[0.3333333333333333,\"#9c179e\"],[0.4444444444444444,\"#bd3786\"],[0.5555555555555556,\"#d8576b\"],[0.6666666666666666,\"#ed7953\"],[0.7777777777777778,\"#fb9f3a\"],[0.8888888888888888,\"#fdca26\"],[1.0,\"#f0f921\"]]}],\"mesh3d\":[{\"type\":\"mesh3d\",\"colorbar\":{\"outlinewidth\":0,\"ticks\":\"\"}}],\"scatter\":[{\"fillpattern\":{\"fillmode\":\"overlay\",\"size\":10,\"solidity\":0.2},\"type\":\"scatter\"}],\"parcoords\":[{\"type\":\"parcoords\",\"line\":{\"colorbar\":{\"outlinewidth\":0,\"ticks\":\"\"}}}],\"scatterpolargl\":[{\"type\":\"scatterpolargl\",\"marker\":{\"colorbar\":{\"outlinewidth\":0,\"ticks\":\"\"}}}],\"bar\":[{\"error_x\":{\"color\":\"#2a3f5f\"},\"error_y\":{\"color\":\"#2a3f5f\"},\"marker\":{\"line\":{\"color\":\"#E5ECF6\",\"width\":0.5},\"pattern\":{\"fillmode\":\"overlay\",\"size\":10,\"solidity\":0.2}},\"type\":\"bar\"}],\"scattergeo\":[{\"type\":\"scattergeo\",\"marker\":{\"colorbar\":{\"outlinewidth\":0,\"ticks\":\"\"}}}],\"scatterpolar\":[{\"type\":\"scatterpolar\",\"marker\":{\"colorbar\":{\"outlinewidth\":0,\"ticks\":\"\"}}}],\"histogram\":[{\"marker\":{\"pattern\":{\"fillmode\":\"overlay\",\"size\":10,\"solidity\":0.2}},\"type\":\"histogram\"}],\"scattergl\":[{\"type\":\"scattergl\",\"marker\":{\"colorbar\":{\"outlinewidth\":0,\"ticks\":\"\"}}}],\"scatter3d\":[{\"type\":\"scatter3d\",\"line\":{\"colorbar\":{\"outlinewidth\":0,\"ticks\":\"\"}},\"marker\":{\"colorbar\":{\"outlinewidth\":0,\"ticks\":\"\"}}}],\"scattermapbox\":[{\"type\":\"scattermapbox\",\"marker\":{\"colorbar\":{\"outlinewidth\":0,\"ticks\":\"\"}}}],\"scatterternary\":[{\"type\":\"scatterternary\",\"marker\":{\"colorbar\":{\"outlinewidth\":0,\"ticks\":\"\"}}}],\"scattercarpet\":[{\"type\":\"scattercarpet\",\"marker\":{\"colorbar\":{\"outlinewidth\":0,\"ticks\":\"\"}}}],\"carpet\":[{\"aaxis\":{\"endlinecolor\":\"#2a3f5f\",\"gridcolor\":\"white\",\"linecolor\":\"white\",\"minorgridcolor\":\"white\",\"startlinecolor\":\"#2a3f5f\"},\"baxis\":{\"endlinecolor\":\"#2a3f5f\",\"gridcolor\":\"white\",\"linecolor\":\"white\",\"minorgridcolor\":\"white\",\"startlinecolor\":\"#2a3f5f\"},\"type\":\"carpet\"}],\"table\":[{\"cells\":{\"fill\":{\"color\":\"#EBF0F8\"},\"line\":{\"color\":\"white\"}},\"header\":{\"fill\":{\"color\":\"#C8D4E3\"},\"line\":{\"color\":\"white\"}},\"type\":\"table\"}],\"barpolar\":[{\"marker\":{\"line\":{\"color\":\"#E5ECF6\",\"width\":0.5},\"pattern\":{\"fillmode\":\"overlay\",\"size\":10,\"solidity\":0.2}},\"type\":\"barpolar\"}],\"pie\":[{\"automargin\":true,\"type\":\"pie\"}]},\"layout\":{\"autotypenumbers\":\"strict\",\"colorway\":[\"#636efa\",\"#EF553B\",\"#00cc96\",\"#ab63fa\",\"#FFA15A\",\"#19d3f3\",\"#FF6692\",\"#B6E880\",\"#FF97FF\",\"#FECB52\"],\"font\":{\"color\":\"#2a3f5f\"},\"hovermode\":\"closest\",\"hoverlabel\":{\"align\":\"left\"},\"paper_bgcolor\":\"white\",\"plot_bgcolor\":\"#E5ECF6\",\"polar\":{\"bgcolor\":\"#E5ECF6\",\"angularaxis\":{\"gridcolor\":\"white\",\"linecolor\":\"white\",\"ticks\":\"\"},\"radialaxis\":{\"gridcolor\":\"white\",\"linecolor\":\"white\",\"ticks\":\"\"}},\"ternary\":{\"bgcolor\":\"#E5ECF6\",\"aaxis\":{\"gridcolor\":\"white\",\"linecolor\":\"white\",\"ticks\":\"\"},\"baxis\":{\"gridcolor\":\"white\",\"linecolor\":\"white\",\"ticks\":\"\"},\"caxis\":{\"gridcolor\":\"white\",\"linecolor\":\"white\",\"ticks\":\"\"}},\"coloraxis\":{\"colorbar\":{\"outlinewidth\":0,\"ticks\":\"\"}},\"colorscale\":{\"sequential\":[[0.0,\"#0d0887\"],[0.1111111111111111,\"#46039f\"],[0.2222222222222222,\"#7201a8\"],[0.3333333333333333,\"#9c179e\"],[0.4444444444444444,\"#bd3786\"],[0.5555555555555556,\"#d8576b\"],[0.6666666666666666,\"#ed7953\"],[0.7777777777777778,\"#fb9f3a\"],[0.8888888888888888,\"#fdca26\"],[1.0,\"#f0f921\"]],\"sequentialminus\":[[0.0,\"#0d0887\"],[0.1111111111111111,\"#46039f\"],[0.2222222222222222,\"#7201a8\"],[0.3333333333333333,\"#9c179e\"],[0.4444444444444444,\"#bd3786\"],[0.5555555555555556,\"#d8576b\"],[0.6666666666666666,\"#ed7953\"],[0.7777777777777778,\"#fb9f3a\"],[0.8888888888888888,\"#fdca26\"],[1.0,\"#f0f921\"]],\"diverging\":[[0,\"#8e0152\"],[0.1,\"#c51b7d\"],[0.2,\"#de77ae\"],[0.3,\"#f1b6da\"],[0.4,\"#fde0ef\"],[0.5,\"#f7f7f7\"],[0.6,\"#e6f5d0\"],[0.7,\"#b8e186\"],[0.8,\"#7fbc41\"],[0.9,\"#4d9221\"],[1,\"#276419\"]]},\"xaxis\":{\"gridcolor\":\"white\",\"linecolor\":\"white\",\"ticks\":\"\",\"title\":{\"standoff\":15},\"zerolinecolor\":\"white\",\"automargin\":true,\"zerolinewidth\":2},\"yaxis\":{\"gridcolor\":\"white\",\"linecolor\":\"white\",\"ticks\":\"\",\"title\":{\"standoff\":15},\"zerolinecolor\":\"white\",\"automargin\":true,\"zerolinewidth\":2},\"scene\":{\"xaxis\":{\"backgroundcolor\":\"#E5ECF6\",\"gridcolor\":\"white\",\"linecolor\":\"white\",\"showbackground\":true,\"ticks\":\"\",\"zerolinecolor\":\"white\",\"gridwidth\":2},\"yaxis\":{\"backgroundcolor\":\"#E5ECF6\",\"gridcolor\":\"white\",\"linecolor\":\"white\",\"showbackground\":true,\"ticks\":\"\",\"zerolinecolor\":\"white\",\"gridwidth\":2},\"zaxis\":{\"backgroundcolor\":\"#E5ECF6\",\"gridcolor\":\"white\",\"linecolor\":\"white\",\"showbackground\":true,\"ticks\":\"\",\"zerolinecolor\":\"white\",\"gridwidth\":2}},\"shapedefaults\":{\"line\":{\"color\":\"#2a3f5f\"}},\"annotationdefaults\":{\"arrowcolor\":\"#2a3f5f\",\"arrowhead\":0,\"arrowwidth\":1},\"geo\":{\"bgcolor\":\"white\",\"landcolor\":\"#E5ECF6\",\"subunitcolor\":\"white\",\"showland\":true,\"showlakes\":true,\"lakecolor\":\"white\"},\"title\":{\"x\":0.05},\"mapbox\":{\"style\":\"light\"}}}},                        {\"responsive\": true}                    ).then(function(){\n",
              "                            \n",
              "var gd = document.getElementById('e53f3228-8b86-4c8a-8643-222bbfeff532');\n",
              "var x = new MutationObserver(function (mutations, observer) {{\n",
              "        var display = window.getComputedStyle(gd).display;\n",
              "        if (!display || display === 'none') {{\n",
              "            console.log([gd, 'removed!']);\n",
              "            Plotly.purge(gd);\n",
              "            observer.disconnect();\n",
              "        }}\n",
              "}});\n",
              "\n",
              "// Listen for the removal of the full notebook cells\n",
              "var notebookContainer = gd.closest('#notebook-container');\n",
              "if (notebookContainer) {{\n",
              "    x.observe(notebookContainer, {childList: true});\n",
              "}}\n",
              "\n",
              "// Listen for the clearing of the current output cell\n",
              "var outputEl = gd.closest('.output');\n",
              "if (outputEl) {{\n",
              "    x.observe(outputEl, {childList: true});\n",
              "}}\n",
              "\n",
              "                        })                };                            </script>        </div>\n",
              "</body>\n",
              "</html>"
            ]
          },
          "metadata": {}
        },
        {
          "output_type": "stream",
          "name": "stderr",
          "text": [
            "[W 2023-06-02 10:12:48,335] Your study has only completed trials with missing parameters.\n",
            "<ipython-input-37-0c79a7da1449>:161: FutureWarning:\n",
            "\n",
            "suggest_uniform has been deprecated in v3.0.0. This feature will be removed in v6.0.0. See https://github.com/optuna/optuna/releases/tag/v3.0.0. Use suggest_float instead.\n",
            "\n"
          ]
        },
        {
          "output_type": "stream",
          "name": "stdout",
          "text": [
            "Epoch 1/79.. Train loss: 186.084.. Val loss: 70.163.. Train L1 norm: 3.670.. Val L1 norm: 3.528.. Train Linf norm: 1220.571.. Val Linf norm: 566.046\n",
            "Epoch 2/79.. Train loss: 53.254.. Val loss: 64.209.. Train L1 norm: 4.721.. Val L1 norm: 3.900.. Train Linf norm: 1685.514.. Val Linf norm: 616.736\n",
            "Epoch 3/79.. Train loss: 38.091.. Val loss: 61.189.. Train L1 norm: 4.776.. Val L1 norm: 3.750.. Train Linf norm: 1624.693.. Val Linf norm: 610.803\n",
            "Epoch 4/79.. Train loss: 43.281.. Val loss: 61.060.. Train L1 norm: 5.114.. Val L1 norm: 3.339.. Train Linf norm: 1876.425.. Val Linf norm: 543.314\n",
            "Epoch 5/79.. Train loss: 35.772.. Val loss: 59.955.. Train L1 norm: 5.127.. Val L1 norm: 3.826.. Train Linf norm: 1842.173.. Val Linf norm: 624.490\n",
            "Epoch 6/79.. Train loss: 35.264.. Val loss: 59.601.. Train L1 norm: 5.086.. Val L1 norm: 3.270.. Train Linf norm: 1969.173.. Val Linf norm: 539.509\n",
            "Epoch 7/79.. Train loss: 34.865.. Val loss: 59.388.. Train L1 norm: 5.264.. Val L1 norm: 3.299.. Train Linf norm: 2065.876.. Val Linf norm: 549.034\n",
            "Epoch 8/79.. Train loss: 34.376.. Val loss: 59.142.. Train L1 norm: 5.211.. Val L1 norm: 3.215.. Train Linf norm: 2020.986.. Val Linf norm: 541.695\n",
            "Epoch 9/79.. Train loss: 35.318.. Val loss: 59.104.. Train L1 norm: 5.303.. Val L1 norm: 3.111.. Train Linf norm: 2003.628.. Val Linf norm: 512.075\n",
            "Epoch 10/79.. Train loss: 33.521.. Val loss: 58.230.. Train L1 norm: 5.111.. Val L1 norm: 3.669.. Train Linf norm: 1852.666.. Val Linf norm: 614.812\n",
            "Epoch 11/79.. Train loss: 33.121.. Val loss: 57.872.. Train L1 norm: 5.000.. Val L1 norm: 3.714.. Train Linf norm: 1731.470.. Val Linf norm: 633.234\n",
            "Epoch 12/79.. Train loss: 32.974.. Val loss: 58.904.. Train L1 norm: 5.203.. Val L1 norm: 3.015.. Train Linf norm: 2053.847.. Val Linf norm: 507.729\n",
            "Epoch 13/79.. Train loss: 32.452.. Val loss: 57.947.. Train L1 norm: 5.089.. Val L1 norm: 3.459.. Train Linf norm: 1939.564.. Val Linf norm: 591.880\n",
            "Epoch 14/79.. Train loss: 32.427.. Val loss: 57.345.. Train L1 norm: 5.252.. Val L1 norm: 3.601.. Train Linf norm: 2075.542.. Val Linf norm: 605.886\n",
            "Epoch 15/79.. Train loss: 32.698.. Val loss: 57.409.. Train L1 norm: 5.228.. Val L1 norm: 3.340.. Train Linf norm: 2021.919.. Val Linf norm: 569.387\n",
            "Epoch 16/79.. Train loss: 31.925.. Val loss: 57.418.. Train L1 norm: 5.173.. Val L1 norm: 3.385.. Train Linf norm: 2045.695.. Val Linf norm: 569.835\n",
            "Epoch 17/79.. Train loss: 31.757.. Val loss: 57.137.. Train L1 norm: 5.038.. Val L1 norm: 3.355.. Train Linf norm: 1943.167.. Val Linf norm: 573.275\n",
            "Epoch 18/79.. Train loss: 31.675.. Val loss: 57.288.. Train L1 norm: 5.110.. Val L1 norm: 3.254.. Train Linf norm: 1883.196.. Val Linf norm: 558.167\n",
            "Epoch 19/79.. Train loss: 31.556.. Val loss: 56.985.. Train L1 norm: 5.125.. Val L1 norm: 3.436.. Train Linf norm: 2054.300.. Val Linf norm: 588.886\n",
            "Epoch 20/79.. Train loss: 31.440.. Val loss: 56.702.. Train L1 norm: 5.076.. Val L1 norm: 3.482.. Train Linf norm: 2027.706.. Val Linf norm: 593.074\n",
            "Epoch 21/79.. Train loss: 31.230.. Val loss: 56.615.. Train L1 norm: 5.016.. Val L1 norm: 3.366.. Train Linf norm: 1702.693.. Val Linf norm: 586.568\n",
            "Epoch 22/79.. Train loss: 31.094.. Val loss: 56.697.. Train L1 norm: 5.135.. Val L1 norm: 3.329.. Train Linf norm: 2107.964.. Val Linf norm: 570.630\n",
            "Epoch 23/79.. Train loss: 31.060.. Val loss: 56.383.. Train L1 norm: 4.942.. Val L1 norm: 3.405.. Train Linf norm: 1914.473.. Val Linf norm: 588.699\n",
            "Epoch 24/79.. Train loss: 30.943.. Val loss: 56.330.. Train L1 norm: 5.206.. Val L1 norm: 3.471.. Train Linf norm: 2223.035.. Val Linf norm: 589.142\n",
            "Epoch 25/79.. Train loss: 31.160.. Val loss: 56.160.. Train L1 norm: 4.966.. Val L1 norm: 3.529.. Train Linf norm: 1920.814.. Val Linf norm: 601.585\n",
            "Epoch 26/79.. Train loss: 31.084.. Val loss: 56.012.. Train L1 norm: 5.149.. Val L1 norm: 3.446.. Train Linf norm: 2070.556.. Val Linf norm: 586.147\n",
            "Epoch 27/79.. Train loss: 30.749.. Val loss: 55.884.. Train L1 norm: 4.987.. Val L1 norm: 3.459.. Train Linf norm: 1948.148.. Val Linf norm: 582.872\n",
            "Epoch 28/79.. Train loss: 30.589.. Val loss: 55.506.. Train L1 norm: 5.198.. Val L1 norm: 3.461.. Train Linf norm: 2123.062.. Val Linf norm: 585.926\n",
            "Epoch 29/79.. Train loss: 30.550.. Val loss: 55.612.. Train L1 norm: 5.056.. Val L1 norm: 3.417.. Train Linf norm: 2030.013.. Val Linf norm: 577.563\n",
            "Epoch 30/79.. Train loss: 30.463.. Val loss: 55.280.. Train L1 norm: 4.871.. Val L1 norm: 3.573.. Train Linf norm: 1663.651.. Val Linf norm: 605.699\n",
            "Epoch 31/79.. Train loss: 30.473.. Val loss: 55.268.. Train L1 norm: 4.806.. Val L1 norm: 3.597.. Train Linf norm: 1856.133.. Val Linf norm: 606.369\n",
            "Epoch 32/79.. Train loss: 30.457.. Val loss: 55.297.. Train L1 norm: 4.889.. Val L1 norm: 3.641.. Train Linf norm: 1873.028.. Val Linf norm: 608.268\n",
            "Epoch 33/79.. Train loss: 30.326.. Val loss: 55.223.. Train L1 norm: 4.922.. Val L1 norm: 3.546.. Train Linf norm: 1926.401.. Val Linf norm: 594.225\n",
            "Epoch 34/79.. Train loss: 30.211.. Val loss: 55.081.. Train L1 norm: 5.206.. Val L1 norm: 3.554.. Train Linf norm: 2220.105.. Val Linf norm: 598.163\n",
            "Epoch 35/79.. Train loss: 30.270.. Val loss: 55.071.. Train L1 norm: 5.103.. Val L1 norm: 3.488.. Train Linf norm: 2030.723.. Val Linf norm: 586.500\n",
            "Epoch 36/79.. Train loss: 30.238.. Val loss: 54.946.. Train L1 norm: 4.922.. Val L1 norm: 3.505.. Train Linf norm: 1903.152.. Val Linf norm: 590.313\n",
            "Epoch 37/79.. Train loss: 30.360.. Val loss: 54.909.. Train L1 norm: 4.926.. Val L1 norm: 3.676.. Train Linf norm: 1970.093.. Val Linf norm: 619.495\n",
            "Epoch 38/79.. Train loss: 30.120.. Val loss: 54.905.. Train L1 norm: 5.002.. Val L1 norm: 3.504.. Train Linf norm: 2020.887.. Val Linf norm: 589.162\n",
            "Epoch 39/79.. Train loss: 30.210.. Val loss: 54.881.. Train L1 norm: 5.012.. Val L1 norm: 3.561.. Train Linf norm: 2073.324.. Val Linf norm: 598.325\n",
            "Epoch 40/79.. Train loss: 30.083.. Val loss: 54.787.. Train L1 norm: 4.839.. Val L1 norm: 3.508.. Train Linf norm: 1870.188.. Val Linf norm: 592.229\n",
            "Epoch 41/79.. Train loss: 30.133.. Val loss: 54.690.. Train L1 norm: 4.972.. Val L1 norm: 3.574.. Train Linf norm: 1957.605.. Val Linf norm: 601.057\n",
            "Epoch 42/79.. Train loss: 29.989.. Val loss: 54.609.. Train L1 norm: 4.959.. Val L1 norm: 3.716.. Train Linf norm: 1861.244.. Val Linf norm: 628.432\n",
            "Epoch 43/79.. Train loss: 30.087.. Val loss: 54.632.. Train L1 norm: 4.944.. Val L1 norm: 3.550.. Train Linf norm: 1984.669.. Val Linf norm: 597.783\n",
            "Epoch 44/79.. Train loss: 30.024.. Val loss: 54.589.. Train L1 norm: 4.700.. Val L1 norm: 3.582.. Train Linf norm: 1782.972.. Val Linf norm: 599.189\n",
            "Epoch 45/79.. Train loss: 30.008.. Val loss: 54.544.. Train L1 norm: 5.109.. Val L1 norm: 3.534.. Train Linf norm: 2127.969.. Val Linf norm: 593.016\n",
            "Epoch 46/79.. Train loss: 29.951.. Val loss: 54.530.. Train L1 norm: 4.944.. Val L1 norm: 3.550.. Train Linf norm: 1964.826.. Val Linf norm: 595.521\n",
            "Epoch 47/79.. Train loss: 30.022.. Val loss: 54.500.. Train L1 norm: 5.184.. Val L1 norm: 3.573.. Train Linf norm: 1998.356.. Val Linf norm: 599.795\n",
            "Epoch 48/79.. Train loss: 29.940.. Val loss: 54.466.. Train L1 norm: 5.165.. Val L1 norm: 3.595.. Train Linf norm: 2100.183.. Val Linf norm: 604.574\n",
            "Epoch 49/79.. Train loss: 29.932.. Val loss: 54.440.. Train L1 norm: 4.915.. Val L1 norm: 3.575.. Train Linf norm: 2002.902.. Val Linf norm: 600.275\n",
            "Epoch 50/79.. Train loss: 29.848.. Val loss: 54.423.. Train L1 norm: 5.195.. Val L1 norm: 3.561.. Train Linf norm: 2181.648.. Val Linf norm: 596.679\n",
            "Epoch 51/79.. Train loss: 29.836.. Val loss: 54.391.. Train L1 norm: 4.888.. Val L1 norm: 3.603.. Train Linf norm: 1991.004.. Val Linf norm: 605.474\n",
            "Epoch 52/79.. Train loss: 29.952.. Val loss: 54.360.. Train L1 norm: 4.809.. Val L1 norm: 3.613.. Train Linf norm: 1769.787.. Val Linf norm: 607.380\n",
            "Epoch 53/79.. Train loss: 29.905.. Val loss: 54.337.. Train L1 norm: 5.105.. Val L1 norm: 3.610.. Train Linf norm: 2079.956.. Val Linf norm: 606.962\n",
            "Epoch 54/79.. Train loss: 29.778.. Val loss: 54.311.. Train L1 norm: 5.116.. Val L1 norm: 3.555.. Train Linf norm: 2190.378.. Val Linf norm: 597.571\n",
            "Epoch 55/79.. Train loss: 29.816.. Val loss: 54.274.. Train L1 norm: 5.025.. Val L1 norm: 3.618.. Train Linf norm: 2042.461.. Val Linf norm: 609.667\n",
            "Epoch 56/79.. Train loss: 29.909.. Val loss: 54.259.. Train L1 norm: 5.229.. Val L1 norm: 3.653.. Train Linf norm: 2268.264.. Val Linf norm: 615.335\n",
            "Epoch 57/79.. Train loss: 29.853.. Val loss: 54.247.. Train L1 norm: 4.953.. Val L1 norm: 3.617.. Train Linf norm: 2019.980.. Val Linf norm: 608.611\n",
            "Epoch 58/79.. Train loss: 29.704.. Val loss: 54.221.. Train L1 norm: 4.958.. Val L1 norm: 3.613.. Train Linf norm: 2032.564.. Val Linf norm: 607.871\n",
            "Epoch 59/79.. Train loss: 29.815.. Val loss: 54.245.. Train L1 norm: 4.907.. Val L1 norm: 3.601.. Train Linf norm: 1951.096.. Val Linf norm: 603.957\n",
            "Epoch 60/79.. Train loss: 29.775.. Val loss: 54.226.. Train L1 norm: 4.887.. Val L1 norm: 3.621.. Train Linf norm: 1981.088.. Val Linf norm: 607.287\n",
            "Epoch 61/79.. Train loss: 29.692.. Val loss: 54.212.. Train L1 norm: 4.930.. Val L1 norm: 3.606.. Train Linf norm: 1982.762.. Val Linf norm: 604.833\n",
            "Epoch 62/79.. Train loss: 29.886.. Val loss: 54.211.. Train L1 norm: 4.836.. Val L1 norm: 3.604.. Train Linf norm: 1912.755.. Val Linf norm: 604.379\n",
            "Epoch 63/79.. Train loss: 29.626.. Val loss: 54.194.. Train L1 norm: 4.638.. Val L1 norm: 3.604.. Train Linf norm: 1672.119.. Val Linf norm: 605.002\n",
            "Epoch 64/79.. Train loss: 29.746.. Val loss: 54.185.. Train L1 norm: 4.836.. Val L1 norm: 3.605.. Train Linf norm: 1778.543.. Val Linf norm: 605.408\n",
            "Epoch 65/79.. Train loss: 29.806.. Val loss: 54.181.. Train L1 norm: 4.765.. Val L1 norm: 3.614.. Train Linf norm: 1753.761.. Val Linf norm: 607.292\n",
            "Epoch 66/79.. Train loss: 29.743.. Val loss: 54.176.. Train L1 norm: 4.761.. Val L1 norm: 3.612.. Train Linf norm: 1797.713.. Val Linf norm: 607.230\n",
            "Epoch 67/79.. Train loss: 29.772.. Val loss: 54.173.. Train L1 norm: 5.070.. Val L1 norm: 3.611.. Train Linf norm: 2096.302.. Val Linf norm: 606.998\n",
            "Epoch 68/79.. Train loss: 29.824.. Val loss: 54.165.. Train L1 norm: 5.119.. Val L1 norm: 3.617.. Train Linf norm: 1933.507.. Val Linf norm: 608.153\n",
            "Epoch 69/79.. Train loss: 29.746.. Val loss: 54.157.. Train L1 norm: 4.762.. Val L1 norm: 3.608.. Train Linf norm: 1823.168.. Val Linf norm: 606.662\n",
            "Epoch 70/79.. Train loss: 29.723.. Val loss: 54.152.. Train L1 norm: 4.801.. Val L1 norm: 3.606.. Train Linf norm: 1900.608.. Val Linf norm: 606.503\n",
            "Epoch 71/79.. Train loss: 29.740.. Val loss: 54.150.. Train L1 norm: 4.848.. Val L1 norm: 3.608.. Train Linf norm: 1869.685.. Val Linf norm: 606.761\n",
            "Epoch 72/79.. Train loss: 29.681.. Val loss: 54.144.. Train L1 norm: 5.039.. Val L1 norm: 3.616.. Train Linf norm: 2090.446.. Val Linf norm: 608.405\n",
            "Epoch 73/79.. Train loss: 29.894.. Val loss: 54.147.. Train L1 norm: 4.892.. Val L1 norm: 3.619.. Train Linf norm: 1924.915.. Val Linf norm: 608.791\n",
            "Epoch 74/79.. Train loss: 29.689.. Val loss: 54.140.. Train L1 norm: 4.921.. Val L1 norm: 3.621.. Train Linf norm: 1943.890.. Val Linf norm: 609.289\n",
            "Epoch 75/79.. Train loss: 29.793.. Val loss: 54.136.. Train L1 norm: 4.884.. Val L1 norm: 3.614.. Train Linf norm: 1905.908.. Val Linf norm: 607.987\n",
            "Epoch 76/79.. Train loss: 29.726.. Val loss: 54.136.. Train L1 norm: 4.983.. Val L1 norm: 3.616.. Train Linf norm: 2034.858.. Val Linf norm: 608.325\n",
            "Epoch 77/79.. Train loss: 29.798.. Val loss: 54.133.. Train L1 norm: 4.910.. Val L1 norm: 3.613.. Train Linf norm: 1998.262.. Val Linf norm: 607.832\n",
            "Epoch 78/79.. Train loss: 29.704.. Val loss: 54.132.. Train L1 norm: 4.834.. Val L1 norm: 3.617.. Train Linf norm: 1934.150.. Val Linf norm: 608.601\n"
          ]
        },
        {
          "output_type": "stream",
          "name": "stderr",
          "text": [
            "[I 2023-06-02 10:17:28,369] Trial 2 finished with value: 3.616880493545532 and parameters: {'n_layers': 7, 'n_units_0': 3758, 'n_units_1': 882, 'n_units_2': 2519, 'n_units_3': 3586, 'n_units_4': 1101, 'n_units_5': 737, 'n_units_6': 1458, 'hidden_activation': 'GELU', 'output_activation': 'Linear', 'loss': 'MSE', 'optimizer': 'Adagrad', 'lr': 0.0006653983054496346, 'batch_size': 1024, 'n_epochs': 79, 'scheduler': 'StepLR', 'dropout_rate': 0.1610833705037879, 'step_size': 15, 'gamma': 0.34304960930513784}. Best is trial 2 with value: 3.616880493545532.\n"
          ]
        },
        {
          "output_type": "stream",
          "name": "stdout",
          "text": [
            "Epoch 79/79.. Train loss: 29.838.. Val loss: 54.132.. Train L1 norm: 4.864.. Val L1 norm: 3.617.. Train Linf norm: 1853.264.. Val Linf norm: 608.565\n"
          ]
        },
        {
          "output_type": "display_data",
          "data": {
            "text/html": [
              "<html>\n",
              "<head><meta charset=\"utf-8\" /></head>\n",
              "<body>\n",
              "    <div>            <script src=\"https://cdnjs.cloudflare.com/ajax/libs/mathjax/2.7.5/MathJax.js?config=TeX-AMS-MML_SVG\"></script><script type=\"text/javascript\">if (window.MathJax && window.MathJax.Hub && window.MathJax.Hub.Config) {window.MathJax.Hub.Config({SVG: {font: \"STIX-Web\"}});}</script>                <script type=\"text/javascript\">window.PlotlyConfig = {MathJaxConfig: 'local'};</script>\n",
              "        <script src=\"https://cdn.plot.ly/plotly-2.18.2.min.js\"></script>                <div id=\"d6ec8381-259f-4ec7-bd6a-29a801f2d96f\" class=\"plotly-graph-div\" style=\"height:525px; width:100%;\"></div>            <script type=\"text/javascript\">                                    window.PLOTLYENV=window.PLOTLYENV || {};                                    if (document.getElementById(\"d6ec8381-259f-4ec7-bd6a-29a801f2d96f\")) {                    Plotly.newPlot(                        \"d6ec8381-259f-4ec7-bd6a-29a801f2d96f\",                        [{\"mode\":\"markers\",\"name\":\"Objective Value\",\"x\":[0,1,2],\"y\":[361840040821304.0,4.148916990661621,3.616880493545532],\"type\":\"scatter\"},{\"name\":\"Best Value\",\"x\":[0,1,2],\"y\":[361840040821304.0,4.148916990661621,3.616880493545532],\"type\":\"scatter\"}],                        {\"title\":{\"text\":\"Optimization History Plot\"},\"xaxis\":{\"title\":{\"text\":\"Trial\"}},\"yaxis\":{\"title\":{\"text\":\"Objective Value\"}},\"template\":{\"data\":{\"histogram2dcontour\":[{\"type\":\"histogram2dcontour\",\"colorbar\":{\"outlinewidth\":0,\"ticks\":\"\"},\"colorscale\":[[0.0,\"#0d0887\"],[0.1111111111111111,\"#46039f\"],[0.2222222222222222,\"#7201a8\"],[0.3333333333333333,\"#9c179e\"],[0.4444444444444444,\"#bd3786\"],[0.5555555555555556,\"#d8576b\"],[0.6666666666666666,\"#ed7953\"],[0.7777777777777778,\"#fb9f3a\"],[0.8888888888888888,\"#fdca26\"],[1.0,\"#f0f921\"]]}],\"choropleth\":[{\"type\":\"choropleth\",\"colorbar\":{\"outlinewidth\":0,\"ticks\":\"\"}}],\"histogram2d\":[{\"type\":\"histogram2d\",\"colorbar\":{\"outlinewidth\":0,\"ticks\":\"\"},\"colorscale\":[[0.0,\"#0d0887\"],[0.1111111111111111,\"#46039f\"],[0.2222222222222222,\"#7201a8\"],[0.3333333333333333,\"#9c179e\"],[0.4444444444444444,\"#bd3786\"],[0.5555555555555556,\"#d8576b\"],[0.6666666666666666,\"#ed7953\"],[0.7777777777777778,\"#fb9f3a\"],[0.8888888888888888,\"#fdca26\"],[1.0,\"#f0f921\"]]}],\"heatmap\":[{\"type\":\"heatmap\",\"colorbar\":{\"outlinewidth\":0,\"ticks\":\"\"},\"colorscale\":[[0.0,\"#0d0887\"],[0.1111111111111111,\"#46039f\"],[0.2222222222222222,\"#7201a8\"],[0.3333333333333333,\"#9c179e\"],[0.4444444444444444,\"#bd3786\"],[0.5555555555555556,\"#d8576b\"],[0.6666666666666666,\"#ed7953\"],[0.7777777777777778,\"#fb9f3a\"],[0.8888888888888888,\"#fdca26\"],[1.0,\"#f0f921\"]]}],\"heatmapgl\":[{\"type\":\"heatmapgl\",\"colorbar\":{\"outlinewidth\":0,\"ticks\":\"\"},\"colorscale\":[[0.0,\"#0d0887\"],[0.1111111111111111,\"#46039f\"],[0.2222222222222222,\"#7201a8\"],[0.3333333333333333,\"#9c179e\"],[0.4444444444444444,\"#bd3786\"],[0.5555555555555556,\"#d8576b\"],[0.6666666666666666,\"#ed7953\"],[0.7777777777777778,\"#fb9f3a\"],[0.8888888888888888,\"#fdca26\"],[1.0,\"#f0f921\"]]}],\"contourcarpet\":[{\"type\":\"contourcarpet\",\"colorbar\":{\"outlinewidth\":0,\"ticks\":\"\"}}],\"contour\":[{\"type\":\"contour\",\"colorbar\":{\"outlinewidth\":0,\"ticks\":\"\"},\"colorscale\":[[0.0,\"#0d0887\"],[0.1111111111111111,\"#46039f\"],[0.2222222222222222,\"#7201a8\"],[0.3333333333333333,\"#9c179e\"],[0.4444444444444444,\"#bd3786\"],[0.5555555555555556,\"#d8576b\"],[0.6666666666666666,\"#ed7953\"],[0.7777777777777778,\"#fb9f3a\"],[0.8888888888888888,\"#fdca26\"],[1.0,\"#f0f921\"]]}],\"surface\":[{\"type\":\"surface\",\"colorbar\":{\"outlinewidth\":0,\"ticks\":\"\"},\"colorscale\":[[0.0,\"#0d0887\"],[0.1111111111111111,\"#46039f\"],[0.2222222222222222,\"#7201a8\"],[0.3333333333333333,\"#9c179e\"],[0.4444444444444444,\"#bd3786\"],[0.5555555555555556,\"#d8576b\"],[0.6666666666666666,\"#ed7953\"],[0.7777777777777778,\"#fb9f3a\"],[0.8888888888888888,\"#fdca26\"],[1.0,\"#f0f921\"]]}],\"mesh3d\":[{\"type\":\"mesh3d\",\"colorbar\":{\"outlinewidth\":0,\"ticks\":\"\"}}],\"scatter\":[{\"fillpattern\":{\"fillmode\":\"overlay\",\"size\":10,\"solidity\":0.2},\"type\":\"scatter\"}],\"parcoords\":[{\"type\":\"parcoords\",\"line\":{\"colorbar\":{\"outlinewidth\":0,\"ticks\":\"\"}}}],\"scatterpolargl\":[{\"type\":\"scatterpolargl\",\"marker\":{\"colorbar\":{\"outlinewidth\":0,\"ticks\":\"\"}}}],\"bar\":[{\"error_x\":{\"color\":\"#2a3f5f\"},\"error_y\":{\"color\":\"#2a3f5f\"},\"marker\":{\"line\":{\"color\":\"#E5ECF6\",\"width\":0.5},\"pattern\":{\"fillmode\":\"overlay\",\"size\":10,\"solidity\":0.2}},\"type\":\"bar\"}],\"scattergeo\":[{\"type\":\"scattergeo\",\"marker\":{\"colorbar\":{\"outlinewidth\":0,\"ticks\":\"\"}}}],\"scatterpolar\":[{\"type\":\"scatterpolar\",\"marker\":{\"colorbar\":{\"outlinewidth\":0,\"ticks\":\"\"}}}],\"histogram\":[{\"marker\":{\"pattern\":{\"fillmode\":\"overlay\",\"size\":10,\"solidity\":0.2}},\"type\":\"histogram\"}],\"scattergl\":[{\"type\":\"scattergl\",\"marker\":{\"colorbar\":{\"outlinewidth\":0,\"ticks\":\"\"}}}],\"scatter3d\":[{\"type\":\"scatter3d\",\"line\":{\"colorbar\":{\"outlinewidth\":0,\"ticks\":\"\"}},\"marker\":{\"colorbar\":{\"outlinewidth\":0,\"ticks\":\"\"}}}],\"scattermapbox\":[{\"type\":\"scattermapbox\",\"marker\":{\"colorbar\":{\"outlinewidth\":0,\"ticks\":\"\"}}}],\"scatterternary\":[{\"type\":\"scatterternary\",\"marker\":{\"colorbar\":{\"outlinewidth\":0,\"ticks\":\"\"}}}],\"scattercarpet\":[{\"type\":\"scattercarpet\",\"marker\":{\"colorbar\":{\"outlinewidth\":0,\"ticks\":\"\"}}}],\"carpet\":[{\"aaxis\":{\"endlinecolor\":\"#2a3f5f\",\"gridcolor\":\"white\",\"linecolor\":\"white\",\"minorgridcolor\":\"white\",\"startlinecolor\":\"#2a3f5f\"},\"baxis\":{\"endlinecolor\":\"#2a3f5f\",\"gridcolor\":\"white\",\"linecolor\":\"white\",\"minorgridcolor\":\"white\",\"startlinecolor\":\"#2a3f5f\"},\"type\":\"carpet\"}],\"table\":[{\"cells\":{\"fill\":{\"color\":\"#EBF0F8\"},\"line\":{\"color\":\"white\"}},\"header\":{\"fill\":{\"color\":\"#C8D4E3\"},\"line\":{\"color\":\"white\"}},\"type\":\"table\"}],\"barpolar\":[{\"marker\":{\"line\":{\"color\":\"#E5ECF6\",\"width\":0.5},\"pattern\":{\"fillmode\":\"overlay\",\"size\":10,\"solidity\":0.2}},\"type\":\"barpolar\"}],\"pie\":[{\"automargin\":true,\"type\":\"pie\"}]},\"layout\":{\"autotypenumbers\":\"strict\",\"colorway\":[\"#636efa\",\"#EF553B\",\"#00cc96\",\"#ab63fa\",\"#FFA15A\",\"#19d3f3\",\"#FF6692\",\"#B6E880\",\"#FF97FF\",\"#FECB52\"],\"font\":{\"color\":\"#2a3f5f\"},\"hovermode\":\"closest\",\"hoverlabel\":{\"align\":\"left\"},\"paper_bgcolor\":\"white\",\"plot_bgcolor\":\"#E5ECF6\",\"polar\":{\"bgcolor\":\"#E5ECF6\",\"angularaxis\":{\"gridcolor\":\"white\",\"linecolor\":\"white\",\"ticks\":\"\"},\"radialaxis\":{\"gridcolor\":\"white\",\"linecolor\":\"white\",\"ticks\":\"\"}},\"ternary\":{\"bgcolor\":\"#E5ECF6\",\"aaxis\":{\"gridcolor\":\"white\",\"linecolor\":\"white\",\"ticks\":\"\"},\"baxis\":{\"gridcolor\":\"white\",\"linecolor\":\"white\",\"ticks\":\"\"},\"caxis\":{\"gridcolor\":\"white\",\"linecolor\":\"white\",\"ticks\":\"\"}},\"coloraxis\":{\"colorbar\":{\"outlinewidth\":0,\"ticks\":\"\"}},\"colorscale\":{\"sequential\":[[0.0,\"#0d0887\"],[0.1111111111111111,\"#46039f\"],[0.2222222222222222,\"#7201a8\"],[0.3333333333333333,\"#9c179e\"],[0.4444444444444444,\"#bd3786\"],[0.5555555555555556,\"#d8576b\"],[0.6666666666666666,\"#ed7953\"],[0.7777777777777778,\"#fb9f3a\"],[0.8888888888888888,\"#fdca26\"],[1.0,\"#f0f921\"]],\"sequentialminus\":[[0.0,\"#0d0887\"],[0.1111111111111111,\"#46039f\"],[0.2222222222222222,\"#7201a8\"],[0.3333333333333333,\"#9c179e\"],[0.4444444444444444,\"#bd3786\"],[0.5555555555555556,\"#d8576b\"],[0.6666666666666666,\"#ed7953\"],[0.7777777777777778,\"#fb9f3a\"],[0.8888888888888888,\"#fdca26\"],[1.0,\"#f0f921\"]],\"diverging\":[[0,\"#8e0152\"],[0.1,\"#c51b7d\"],[0.2,\"#de77ae\"],[0.3,\"#f1b6da\"],[0.4,\"#fde0ef\"],[0.5,\"#f7f7f7\"],[0.6,\"#e6f5d0\"],[0.7,\"#b8e186\"],[0.8,\"#7fbc41\"],[0.9,\"#4d9221\"],[1,\"#276419\"]]},\"xaxis\":{\"gridcolor\":\"white\",\"linecolor\":\"white\",\"ticks\":\"\",\"title\":{\"standoff\":15},\"zerolinecolor\":\"white\",\"automargin\":true,\"zerolinewidth\":2},\"yaxis\":{\"gridcolor\":\"white\",\"linecolor\":\"white\",\"ticks\":\"\",\"title\":{\"standoff\":15},\"zerolinecolor\":\"white\",\"automargin\":true,\"zerolinewidth\":2},\"scene\":{\"xaxis\":{\"backgroundcolor\":\"#E5ECF6\",\"gridcolor\":\"white\",\"linecolor\":\"white\",\"showbackground\":true,\"ticks\":\"\",\"zerolinecolor\":\"white\",\"gridwidth\":2},\"yaxis\":{\"backgroundcolor\":\"#E5ECF6\",\"gridcolor\":\"white\",\"linecolor\":\"white\",\"showbackground\":true,\"ticks\":\"\",\"zerolinecolor\":\"white\",\"gridwidth\":2},\"zaxis\":{\"backgroundcolor\":\"#E5ECF6\",\"gridcolor\":\"white\",\"linecolor\":\"white\",\"showbackground\":true,\"ticks\":\"\",\"zerolinecolor\":\"white\",\"gridwidth\":2}},\"shapedefaults\":{\"line\":{\"color\":\"#2a3f5f\"}},\"annotationdefaults\":{\"arrowcolor\":\"#2a3f5f\",\"arrowhead\":0,\"arrowwidth\":1},\"geo\":{\"bgcolor\":\"white\",\"landcolor\":\"#E5ECF6\",\"subunitcolor\":\"white\",\"showland\":true,\"showlakes\":true,\"lakecolor\":\"white\"},\"title\":{\"x\":0.05},\"mapbox\":{\"style\":\"light\"}}}},                        {\"responsive\": true}                    ).then(function(){\n",
              "                            \n",
              "var gd = document.getElementById('d6ec8381-259f-4ec7-bd6a-29a801f2d96f');\n",
              "var x = new MutationObserver(function (mutations, observer) {{\n",
              "        var display = window.getComputedStyle(gd).display;\n",
              "        if (!display || display === 'none') {{\n",
              "            console.log([gd, 'removed!']);\n",
              "            Plotly.purge(gd);\n",
              "            observer.disconnect();\n",
              "        }}\n",
              "}});\n",
              "\n",
              "// Listen for the removal of the full notebook cells\n",
              "var notebookContainer = gd.closest('#notebook-container');\n",
              "if (notebookContainer) {{\n",
              "    x.observe(notebookContainer, {childList: true});\n",
              "}}\n",
              "\n",
              "// Listen for the clearing of the current output cell\n",
              "var outputEl = gd.closest('.output');\n",
              "if (outputEl) {{\n",
              "    x.observe(outputEl, {childList: true});\n",
              "}}\n",
              "\n",
              "                        })                };                            </script>        </div>\n",
              "</body>\n",
              "</html>"
            ]
          },
          "metadata": {}
        },
        {
          "output_type": "stream",
          "name": "stderr",
          "text": [
            "[W 2023-06-02 10:17:28,768] Your study has only completed trials with missing parameters.\n",
            "<ipython-input-37-0c79a7da1449>:44: FutureWarning:\n",
            "\n",
            "suggest_loguniform has been deprecated in v3.0.0. This feature will be removed in v6.0.0. See https://github.com/optuna/optuna/releases/tag/v3.0.0. Use suggest_float(..., log=True) instead.\n",
            "\n",
            "<ipython-input-37-0c79a7da1449>:73: FutureWarning:\n",
            "\n",
            "suggest_uniform has been deprecated in v3.0.0. This feature will be removed in v6.0.0. See https://github.com/optuna/optuna/releases/tag/v3.0.0. Use suggest_float instead.\n",
            "\n",
            "<ipython-input-37-0c79a7da1449>:76: FutureWarning:\n",
            "\n",
            "suggest_uniform has been deprecated in v3.0.0. This feature will be removed in v6.0.0. See https://github.com/optuna/optuna/releases/tag/v3.0.0. Use suggest_float instead.\n",
            "\n",
            "<ipython-input-37-0c79a7da1449>:161: FutureWarning:\n",
            "\n",
            "suggest_uniform has been deprecated in v3.0.0. This feature will be removed in v6.0.0. See https://github.com/optuna/optuna/releases/tag/v3.0.0. Use suggest_float instead.\n",
            "\n"
          ]
        },
        {
          "output_type": "stream",
          "name": "stdout",
          "text": [
            "Epoch 1/101.. Train loss: 5.156.. Val loss: 3.700.. Train L1 norm: 5.967.. Val L1 norm: 3.252.. Train Linf norm: 624.738.. Val Linf norm: 235.294\n",
            "Epoch 2/101.. Train loss: 3.563.. Val loss: 3.971.. Train L1 norm: 4.709.. Val L1 norm: 1.868.. Train Linf norm: 557.501.. Val Linf norm: 106.110\n",
            "Epoch 3/101.. Train loss: 3.536.. Val loss: 3.885.. Train L1 norm: 5.059.. Val L1 norm: 1.831.. Train Linf norm: 647.903.. Val Linf norm: 106.381\n",
            "Epoch 4/101.. Train loss: 3.488.. Val loss: 3.664.. Train L1 norm: 4.973.. Val L1 norm: 2.642.. Train Linf norm: 622.951.. Val Linf norm: 183.053\n",
            "Epoch 5/101.. Train loss: 3.459.. Val loss: 3.647.. Train L1 norm: 4.878.. Val L1 norm: 2.662.. Train Linf norm: 589.087.. Val Linf norm: 185.760\n",
            "Epoch 6/101.. Train loss: 3.410.. Val loss: 3.601.. Train L1 norm: 4.813.. Val L1 norm: 2.744.. Train Linf norm: 579.509.. Val Linf norm: 192.939\n",
            "Epoch 7/101.. Train loss: 3.394.. Val loss: 3.576.. Train L1 norm: 4.992.. Val L1 norm: 2.656.. Train Linf norm: 618.674.. Val Linf norm: 187.169\n",
            "Epoch 8/101.. Train loss: 3.366.. Val loss: 3.589.. Train L1 norm: 4.731.. Val L1 norm: 2.520.. Train Linf norm: 552.754.. Val Linf norm: 173.023\n",
            "Epoch 9/101.. Train loss: 3.370.. Val loss: 3.513.. Train L1 norm: 4.862.. Val L1 norm: 2.636.. Train Linf norm: 597.223.. Val Linf norm: 183.137\n",
            "Epoch 10/101.. Train loss: 3.357.. Val loss: 3.507.. Train L1 norm: 4.791.. Val L1 norm: 3.274.. Train Linf norm: 568.785.. Val Linf norm: 240.616\n",
            "Epoch 11/101.. Train loss: 3.350.. Val loss: 3.536.. Train L1 norm: 4.838.. Val L1 norm: 2.903.. Train Linf norm: 565.949.. Val Linf norm: 208.828\n",
            "Epoch 12/101.. Train loss: 3.326.. Val loss: 3.556.. Train L1 norm: 5.129.. Val L1 norm: 2.405.. Train Linf norm: 664.907.. Val Linf norm: 162.127\n",
            "Epoch 13/101.. Train loss: 3.321.. Val loss: 3.553.. Train L1 norm: 4.920.. Val L1 norm: 3.045.. Train Linf norm: 607.617.. Val Linf norm: 221.249\n",
            "Epoch 14/101.. Train loss: 3.327.. Val loss: 3.448.. Train L1 norm: 4.904.. Val L1 norm: 3.290.. Train Linf norm: 608.824.. Val Linf norm: 243.869\n",
            "Epoch 15/101.. Train loss: 3.299.. Val loss: 3.561.. Train L1 norm: 4.811.. Val L1 norm: 2.664.. Train Linf norm: 579.182.. Val Linf norm: 188.705\n",
            "Epoch 16/101.. Train loss: 3.286.. Val loss: 3.544.. Train L1 norm: 4.725.. Val L1 norm: 2.701.. Train Linf norm: 521.706.. Val Linf norm: 193.195\n",
            "Epoch 17/101.. Train loss: 3.279.. Val loss: 3.525.. Train L1 norm: 4.810.. Val L1 norm: 2.832.. Train Linf norm: 584.468.. Val Linf norm: 203.921\n",
            "Epoch 18/101.. Train loss: 3.280.. Val loss: 3.532.. Train L1 norm: 4.767.. Val L1 norm: 2.743.. Train Linf norm: 540.032.. Val Linf norm: 197.755\n",
            "Epoch 19/101.. Train loss: 3.279.. Val loss: 3.562.. Train L1 norm: 4.939.. Val L1 norm: 2.583.. Train Linf norm: 610.967.. Val Linf norm: 184.018\n",
            "Epoch 20/101.. Train loss: 3.271.. Val loss: 3.559.. Train L1 norm: 4.847.. Val L1 norm: 2.638.. Train Linf norm: 598.975.. Val Linf norm: 187.067\n",
            "Epoch 21/101.. Train loss: 3.273.. Val loss: 3.590.. Train L1 norm: 4.893.. Val L1 norm: 2.562.. Train Linf norm: 600.144.. Val Linf norm: 181.034\n",
            "Epoch 22/101.. Train loss: 3.277.. Val loss: 3.597.. Train L1 norm: 4.757.. Val L1 norm: 2.595.. Train Linf norm: 562.257.. Val Linf norm: 183.825\n",
            "Epoch 23/101.. Train loss: 3.264.. Val loss: 3.585.. Train L1 norm: 4.981.. Val L1 norm: 2.641.. Train Linf norm: 635.788.. Val Linf norm: 187.675\n",
            "Epoch 24/101.. Train loss: 3.269.. Val loss: 3.596.. Train L1 norm: 4.684.. Val L1 norm: 2.580.. Train Linf norm: 559.508.. Val Linf norm: 183.848\n",
            "Epoch 25/101.. Train loss: 3.261.. Val loss: 3.557.. Train L1 norm: 4.893.. Val L1 norm: 2.755.. Train Linf norm: 604.705.. Val Linf norm: 197.239\n",
            "Epoch 26/101.. Train loss: 3.262.. Val loss: 3.596.. Train L1 norm: 4.790.. Val L1 norm: 2.560.. Train Linf norm: 579.903.. Val Linf norm: 182.462\n",
            "Epoch 27/101.. Train loss: 3.262.. Val loss: 3.511.. Train L1 norm: 4.924.. Val L1 norm: 2.936.. Train Linf norm: 607.979.. Val Linf norm: 214.945\n",
            "Epoch 28/101.. Train loss: 3.260.. Val loss: 3.592.. Train L1 norm: 4.868.. Val L1 norm: 2.607.. Train Linf norm: 600.486.. Val Linf norm: 186.798\n",
            "Epoch 29/101.. Train loss: 3.259.. Val loss: 3.566.. Train L1 norm: 4.783.. Val L1 norm: 2.673.. Train Linf norm: 582.140.. Val Linf norm: 192.236\n",
            "Epoch 30/101.. Train loss: 3.265.. Val loss: 3.571.. Train L1 norm: 4.888.. Val L1 norm: 2.662.. Train Linf norm: 608.008.. Val Linf norm: 192.004\n",
            "Epoch 31/101.. Train loss: 3.254.. Val loss: 3.574.. Train L1 norm: 4.928.. Val L1 norm: 2.628.. Train Linf norm: 619.156.. Val Linf norm: 189.083\n",
            "Epoch 32/101.. Train loss: 3.258.. Val loss: 3.570.. Train L1 norm: 4.761.. Val L1 norm: 2.666.. Train Linf norm: 543.298.. Val Linf norm: 192.069\n",
            "Epoch 33/101.. Train loss: 3.264.. Val loss: 3.558.. Train L1 norm: 4.850.. Val L1 norm: 2.733.. Train Linf norm: 596.748.. Val Linf norm: 197.194\n",
            "Epoch 34/101.. Train loss: 3.251.. Val loss: 3.571.. Train L1 norm: 4.761.. Val L1 norm: 2.652.. Train Linf norm: 580.382.. Val Linf norm: 191.093\n",
            "Epoch 35/101.. Train loss: 3.254.. Val loss: 3.572.. Train L1 norm: 5.024.. Val L1 norm: 2.646.. Train Linf norm: 640.512.. Val Linf norm: 190.276\n",
            "Epoch 36/101.. Train loss: 3.253.. Val loss: 3.564.. Train L1 norm: 5.084.. Val L1 norm: 2.677.. Train Linf norm: 642.567.. Val Linf norm: 193.156\n",
            "Epoch 37/101.. Train loss: 3.260.. Val loss: 3.551.. Train L1 norm: 4.882.. Val L1 norm: 2.708.. Train Linf norm: 609.350.. Val Linf norm: 195.536\n",
            "Epoch 38/101.. Train loss: 3.260.. Val loss: 3.565.. Train L1 norm: 4.778.. Val L1 norm: 2.651.. Train Linf norm: 572.661.. Val Linf norm: 190.800\n",
            "Epoch 39/101.. Train loss: 3.261.. Val loss: 3.562.. Train L1 norm: 4.767.. Val L1 norm: 2.680.. Train Linf norm: 581.944.. Val Linf norm: 193.443\n",
            "Epoch 40/101.. Train loss: 3.255.. Val loss: 3.569.. Train L1 norm: 5.032.. Val L1 norm: 2.659.. Train Linf norm: 648.603.. Val Linf norm: 191.257\n",
            "Epoch 41/101.. Train loss: 3.260.. Val loss: 3.570.. Train L1 norm: 4.891.. Val L1 norm: 2.668.. Train Linf norm: 580.953.. Val Linf norm: 192.565\n",
            "Epoch 42/101.. Train loss: 3.253.. Val loss: 3.559.. Train L1 norm: 4.888.. Val L1 norm: 2.701.. Train Linf norm: 616.943.. Val Linf norm: 195.286\n",
            "Epoch 43/101.. Train loss: 3.260.. Val loss: 3.564.. Train L1 norm: 4.984.. Val L1 norm: 2.691.. Train Linf norm: 629.213.. Val Linf norm: 194.162\n",
            "Epoch 44/101.. Train loss: 3.260.. Val loss: 3.565.. Train L1 norm: 5.000.. Val L1 norm: 2.692.. Train Linf norm: 629.350.. Val Linf norm: 194.172\n",
            "Epoch 45/101.. Train loss: 3.259.. Val loss: 3.570.. Train L1 norm: 5.107.. Val L1 norm: 2.674.. Train Linf norm: 654.967.. Val Linf norm: 192.733\n",
            "Epoch 46/101.. Train loss: 3.253.. Val loss: 3.566.. Train L1 norm: 4.845.. Val L1 norm: 2.686.. Train Linf norm: 607.605.. Val Linf norm: 193.828\n",
            "Epoch 47/101.. Train loss: 3.252.. Val loss: 3.565.. Train L1 norm: 4.860.. Val L1 norm: 2.682.. Train Linf norm: 601.095.. Val Linf norm: 193.452\n",
            "Epoch 48/101.. Train loss: 3.255.. Val loss: 3.565.. Train L1 norm: 4.866.. Val L1 norm: 2.689.. Train Linf norm: 584.282.. Val Linf norm: 194.092\n",
            "Epoch 49/101.. Train loss: 3.252.. Val loss: 3.568.. Train L1 norm: 4.791.. Val L1 norm: 2.679.. Train Linf norm: 564.867.. Val Linf norm: 193.241\n",
            "Epoch 50/101.. Train loss: 3.248.. Val loss: 3.569.. Train L1 norm: 4.903.. Val L1 norm: 2.674.. Train Linf norm: 614.774.. Val Linf norm: 192.692\n",
            "Epoch 51/101.. Train loss: 3.251.. Val loss: 3.566.. Train L1 norm: 4.819.. Val L1 norm: 2.685.. Train Linf norm: 577.772.. Val Linf norm: 193.632\n",
            "Epoch 52/101.. Train loss: 3.254.. Val loss: 3.569.. Train L1 norm: 5.021.. Val L1 norm: 2.674.. Train Linf norm: 575.875.. Val Linf norm: 192.828\n",
            "Epoch 53/101.. Train loss: 3.250.. Val loss: 3.569.. Train L1 norm: 4.889.. Val L1 norm: 2.675.. Train Linf norm: 609.859.. Val Linf norm: 193.080\n",
            "Epoch 54/101.. Train loss: 3.247.. Val loss: 3.568.. Train L1 norm: 4.774.. Val L1 norm: 2.676.. Train Linf norm: 561.348.. Val Linf norm: 193.258\n",
            "Epoch 55/101.. Train loss: 3.245.. Val loss: 3.568.. Train L1 norm: 4.650.. Val L1 norm: 2.674.. Train Linf norm: 528.507.. Val Linf norm: 193.195\n",
            "Epoch 56/101.. Train loss: 3.255.. Val loss: 3.568.. Train L1 norm: 4.687.. Val L1 norm: 2.679.. Train Linf norm: 553.376.. Val Linf norm: 193.490\n",
            "Epoch 57/101.. Train loss: 3.250.. Val loss: 3.568.. Train L1 norm: 4.769.. Val L1 norm: 2.679.. Train Linf norm: 569.019.. Val Linf norm: 193.520\n",
            "Epoch 58/101.. Train loss: 3.253.. Val loss: 3.568.. Train L1 norm: 4.871.. Val L1 norm: 2.679.. Train Linf norm: 611.067.. Val Linf norm: 193.490\n",
            "Epoch 59/101.. Train loss: 3.249.. Val loss: 3.567.. Train L1 norm: 5.017.. Val L1 norm: 2.680.. Train Linf norm: 602.570.. Val Linf norm: 193.510\n",
            "Epoch 60/101.. Train loss: 3.259.. Val loss: 3.568.. Train L1 norm: 4.888.. Val L1 norm: 2.679.. Train Linf norm: 603.480.. Val Linf norm: 193.455\n",
            "Epoch 61/101.. Train loss: 3.254.. Val loss: 3.568.. Train L1 norm: 4.732.. Val L1 norm: 2.681.. Train Linf norm: 559.236.. Val Linf norm: 193.580\n",
            "Epoch 62/101.. Train loss: 3.254.. Val loss: 3.568.. Train L1 norm: 4.770.. Val L1 norm: 2.682.. Train Linf norm: 563.814.. Val Linf norm: 193.688\n",
            "Epoch 63/101.. Train loss: 3.250.. Val loss: 3.567.. Train L1 norm: 4.704.. Val L1 norm: 2.683.. Train Linf norm: 562.892.. Val Linf norm: 193.760\n",
            "Epoch 64/101.. Train loss: 3.251.. Val loss: 3.568.. Train L1 norm: 5.020.. Val L1 norm: 2.682.. Train Linf norm: 639.690.. Val Linf norm: 193.661\n",
            "Epoch 65/101.. Train loss: 3.248.. Val loss: 3.568.. Train L1 norm: 4.846.. Val L1 norm: 2.680.. Train Linf norm: 592.948.. Val Linf norm: 193.522\n",
            "Epoch 66/101.. Train loss: 3.256.. Val loss: 3.568.. Train L1 norm: 4.711.. Val L1 norm: 2.680.. Train Linf norm: 558.464.. Val Linf norm: 193.513\n",
            "Epoch 67/101.. Train loss: 3.256.. Val loss: 3.568.. Train L1 norm: 4.785.. Val L1 norm: 2.680.. Train Linf norm: 579.091.. Val Linf norm: 193.528\n",
            "Epoch 68/101.. Train loss: 3.257.. Val loss: 3.568.. Train L1 norm: 4.797.. Val L1 norm: 2.681.. Train Linf norm: 565.310.. Val Linf norm: 193.552\n",
            "Epoch 69/101.. Train loss: 3.255.. Val loss: 3.568.. Train L1 norm: 4.585.. Val L1 norm: 2.680.. Train Linf norm: 523.449.. Val Linf norm: 193.497\n",
            "Epoch 70/101.. Train loss: 3.254.. Val loss: 3.567.. Train L1 norm: 4.971.. Val L1 norm: 2.683.. Train Linf norm: 602.814.. Val Linf norm: 193.703\n",
            "Epoch 71/101.. Train loss: 3.249.. Val loss: 3.567.. Train L1 norm: 5.014.. Val L1 norm: 2.682.. Train Linf norm: 639.804.. Val Linf norm: 193.686\n",
            "Epoch 72/101.. Train loss: 3.249.. Val loss: 3.567.. Train L1 norm: 4.837.. Val L1 norm: 2.682.. Train Linf norm: 583.751.. Val Linf norm: 193.684\n",
            "Epoch 73/101.. Train loss: 3.251.. Val loss: 3.567.. Train L1 norm: 4.789.. Val L1 norm: 2.682.. Train Linf norm: 559.838.. Val Linf norm: 193.671\n",
            "Epoch 74/101.. Train loss: 3.252.. Val loss: 3.567.. Train L1 norm: 4.829.. Val L1 norm: 2.682.. Train Linf norm: 592.699.. Val Linf norm: 193.620\n",
            "Epoch 75/101.. Train loss: 3.250.. Val loss: 3.567.. Train L1 norm: 4.983.. Val L1 norm: 2.682.. Train Linf norm: 627.447.. Val Linf norm: 193.641\n",
            "Epoch 76/101.. Train loss: 3.255.. Val loss: 3.567.. Train L1 norm: 4.705.. Val L1 norm: 2.682.. Train Linf norm: 547.061.. Val Linf norm: 193.617\n",
            "Epoch 77/101.. Train loss: 3.254.. Val loss: 3.567.. Train L1 norm: 4.868.. Val L1 norm: 2.681.. Train Linf norm: 606.439.. Val Linf norm: 193.592\n",
            "Epoch 78/101.. Train loss: 3.253.. Val loss: 3.567.. Train L1 norm: 5.018.. Val L1 norm: 2.682.. Train Linf norm: 630.102.. Val Linf norm: 193.614\n",
            "Epoch 79/101.. Train loss: 3.251.. Val loss: 3.567.. Train L1 norm: 4.665.. Val L1 norm: 2.682.. Train Linf norm: 555.042.. Val Linf norm: 193.609\n",
            "Epoch 80/101.. Train loss: 3.254.. Val loss: 3.567.. Train L1 norm: 4.895.. Val L1 norm: 2.682.. Train Linf norm: 614.868.. Val Linf norm: 193.612\n",
            "Epoch 81/101.. Train loss: 3.252.. Val loss: 3.567.. Train L1 norm: 4.839.. Val L1 norm: 2.682.. Train Linf norm: 598.608.. Val Linf norm: 193.636\n",
            "Epoch 82/101.. Train loss: 3.252.. Val loss: 3.567.. Train L1 norm: 4.737.. Val L1 norm: 2.683.. Train Linf norm: 561.863.. Val Linf norm: 193.673\n",
            "Epoch 83/101.. Train loss: 3.254.. Val loss: 3.567.. Train L1 norm: 4.804.. Val L1 norm: 2.683.. Train Linf norm: 588.948.. Val Linf norm: 193.695\n",
            "Epoch 84/101.. Train loss: 3.247.. Val loss: 3.567.. Train L1 norm: 4.592.. Val L1 norm: 2.683.. Train Linf norm: 533.567.. Val Linf norm: 193.698\n",
            "Epoch 85/101.. Train loss: 3.256.. Val loss: 3.567.. Train L1 norm: 4.866.. Val L1 norm: 2.683.. Train Linf norm: 595.593.. Val Linf norm: 193.692\n",
            "Epoch 86/101.. Train loss: 3.253.. Val loss: 3.567.. Train L1 norm: 4.663.. Val L1 norm: 2.683.. Train Linf norm: 557.264.. Val Linf norm: 193.693\n",
            "Epoch 87/101.. Train loss: 3.248.. Val loss: 3.567.. Train L1 norm: 4.895.. Val L1 norm: 2.683.. Train Linf norm: 609.134.. Val Linf norm: 193.689\n",
            "Epoch 88/101.. Train loss: 3.257.. Val loss: 3.567.. Train L1 norm: 4.721.. Val L1 norm: 2.683.. Train Linf norm: 555.029.. Val Linf norm: 193.683\n",
            "Epoch 89/101.. Train loss: 3.251.. Val loss: 3.567.. Train L1 norm: 4.805.. Val L1 norm: 2.683.. Train Linf norm: 575.423.. Val Linf norm: 193.677\n",
            "Epoch 90/101.. Train loss: 3.250.. Val loss: 3.567.. Train L1 norm: 4.627.. Val L1 norm: 2.683.. Train Linf norm: 545.513.. Val Linf norm: 193.674\n",
            "Epoch 91/101.. Train loss: 3.249.. Val loss: 3.567.. Train L1 norm: 4.801.. Val L1 norm: 2.683.. Train Linf norm: 571.779.. Val Linf norm: 193.678\n",
            "Epoch 92/101.. Train loss: 3.254.. Val loss: 3.567.. Train L1 norm: 4.778.. Val L1 norm: 2.683.. Train Linf norm: 550.736.. Val Linf norm: 193.685\n",
            "Epoch 93/101.. Train loss: 3.252.. Val loss: 3.567.. Train L1 norm: 4.825.. Val L1 norm: 2.683.. Train Linf norm: 594.476.. Val Linf norm: 193.684\n",
            "Epoch 94/101.. Train loss: 3.252.. Val loss: 3.567.. Train L1 norm: 4.833.. Val L1 norm: 2.683.. Train Linf norm: 571.125.. Val Linf norm: 193.689\n",
            "Epoch 95/101.. Train loss: 3.248.. Val loss: 3.567.. Train L1 norm: 4.743.. Val L1 norm: 2.683.. Train Linf norm: 574.894.. Val Linf norm: 193.688\n",
            "Epoch 96/101.. Train loss: 3.252.. Val loss: 3.567.. Train L1 norm: 4.971.. Val L1 norm: 2.683.. Train Linf norm: 605.020.. Val Linf norm: 193.691\n",
            "Epoch 97/101.. Train loss: 3.256.. Val loss: 3.567.. Train L1 norm: 4.900.. Val L1 norm: 2.683.. Train Linf norm: 614.266.. Val Linf norm: 193.695\n",
            "Epoch 98/101.. Train loss: 3.250.. Val loss: 3.567.. Train L1 norm: 4.945.. Val L1 norm: 2.683.. Train Linf norm: 619.361.. Val Linf norm: 193.693\n",
            "Epoch 99/101.. Train loss: 3.251.. Val loss: 3.567.. Train L1 norm: 4.658.. Val L1 norm: 2.683.. Train Linf norm: 515.978.. Val Linf norm: 193.693\n",
            "Epoch 100/101.. Train loss: 3.256.. Val loss: 3.567.. Train L1 norm: 4.782.. Val L1 norm: 2.683.. Train Linf norm: 583.634.. Val Linf norm: 193.694\n"
          ]
        },
        {
          "output_type": "stream",
          "name": "stderr",
          "text": [
            "[I 2023-06-02 10:31:16,498] Trial 3 finished with value: 2.6828094604492185 and parameters: {'n_layers': 9, 'n_units_0': 21, 'n_units_1': 542, 'n_units_2': 2848, 'n_units_3': 3339, 'n_units_4': 400, 'n_units_5': 3616, 'n_units_6': 3503, 'n_units_7': 1718, 'n_units_8': 3061, 'hidden_activation': 'SoftPlus', 'output_activation': 'Linear', 'loss': 'Huber', 'optimizer': 'RMSprop', 'lr': 0.00013779480960689826, 'batch_size': 256, 'n_epochs': 101, 'scheduler': 'StepLR', 'softplus_beta': 1.37115322949634, 'dropout_rate': 0.39064287729177366, 'step_size': 14, 'gamma': 0.17428971294513476}. Best is trial 3 with value: 2.6828094604492185.\n"
          ]
        },
        {
          "output_type": "stream",
          "name": "stdout",
          "text": [
            "Epoch 101/101.. Train loss: 3.254.. Val loss: 3.567.. Train L1 norm: 4.981.. Val L1 norm: 2.683.. Train Linf norm: 614.665.. Val Linf norm: 193.693\n"
          ]
        },
        {
          "output_type": "display_data",
          "data": {
            "text/html": [
              "<html>\n",
              "<head><meta charset=\"utf-8\" /></head>\n",
              "<body>\n",
              "    <div>            <script src=\"https://cdnjs.cloudflare.com/ajax/libs/mathjax/2.7.5/MathJax.js?config=TeX-AMS-MML_SVG\"></script><script type=\"text/javascript\">if (window.MathJax && window.MathJax.Hub && window.MathJax.Hub.Config) {window.MathJax.Hub.Config({SVG: {font: \"STIX-Web\"}});}</script>                <script type=\"text/javascript\">window.PlotlyConfig = {MathJaxConfig: 'local'};</script>\n",
              "        <script src=\"https://cdn.plot.ly/plotly-2.18.2.min.js\"></script>                <div id=\"0f9bdbc1-85bc-413d-85d7-b3b47e7078b1\" class=\"plotly-graph-div\" style=\"height:525px; width:100%;\"></div>            <script type=\"text/javascript\">                                    window.PLOTLYENV=window.PLOTLYENV || {};                                    if (document.getElementById(\"0f9bdbc1-85bc-413d-85d7-b3b47e7078b1\")) {                    Plotly.newPlot(                        \"0f9bdbc1-85bc-413d-85d7-b3b47e7078b1\",                        [{\"mode\":\"markers\",\"name\":\"Objective Value\",\"x\":[0,1,2,3],\"y\":[361840040821304.0,4.148916990661621,3.616880493545532,2.6828094604492185],\"type\":\"scatter\"},{\"name\":\"Best Value\",\"x\":[0,1,2,3],\"y\":[361840040821304.0,4.148916990661621,3.616880493545532,2.6828094604492185],\"type\":\"scatter\"}],                        {\"title\":{\"text\":\"Optimization History Plot\"},\"xaxis\":{\"title\":{\"text\":\"Trial\"}},\"yaxis\":{\"title\":{\"text\":\"Objective Value\"}},\"template\":{\"data\":{\"histogram2dcontour\":[{\"type\":\"histogram2dcontour\",\"colorbar\":{\"outlinewidth\":0,\"ticks\":\"\"},\"colorscale\":[[0.0,\"#0d0887\"],[0.1111111111111111,\"#46039f\"],[0.2222222222222222,\"#7201a8\"],[0.3333333333333333,\"#9c179e\"],[0.4444444444444444,\"#bd3786\"],[0.5555555555555556,\"#d8576b\"],[0.6666666666666666,\"#ed7953\"],[0.7777777777777778,\"#fb9f3a\"],[0.8888888888888888,\"#fdca26\"],[1.0,\"#f0f921\"]]}],\"choropleth\":[{\"type\":\"choropleth\",\"colorbar\":{\"outlinewidth\":0,\"ticks\":\"\"}}],\"histogram2d\":[{\"type\":\"histogram2d\",\"colorbar\":{\"outlinewidth\":0,\"ticks\":\"\"},\"colorscale\":[[0.0,\"#0d0887\"],[0.1111111111111111,\"#46039f\"],[0.2222222222222222,\"#7201a8\"],[0.3333333333333333,\"#9c179e\"],[0.4444444444444444,\"#bd3786\"],[0.5555555555555556,\"#d8576b\"],[0.6666666666666666,\"#ed7953\"],[0.7777777777777778,\"#fb9f3a\"],[0.8888888888888888,\"#fdca26\"],[1.0,\"#f0f921\"]]}],\"heatmap\":[{\"type\":\"heatmap\",\"colorbar\":{\"outlinewidth\":0,\"ticks\":\"\"},\"colorscale\":[[0.0,\"#0d0887\"],[0.1111111111111111,\"#46039f\"],[0.2222222222222222,\"#7201a8\"],[0.3333333333333333,\"#9c179e\"],[0.4444444444444444,\"#bd3786\"],[0.5555555555555556,\"#d8576b\"],[0.6666666666666666,\"#ed7953\"],[0.7777777777777778,\"#fb9f3a\"],[0.8888888888888888,\"#fdca26\"],[1.0,\"#f0f921\"]]}],\"heatmapgl\":[{\"type\":\"heatmapgl\",\"colorbar\":{\"outlinewidth\":0,\"ticks\":\"\"},\"colorscale\":[[0.0,\"#0d0887\"],[0.1111111111111111,\"#46039f\"],[0.2222222222222222,\"#7201a8\"],[0.3333333333333333,\"#9c179e\"],[0.4444444444444444,\"#bd3786\"],[0.5555555555555556,\"#d8576b\"],[0.6666666666666666,\"#ed7953\"],[0.7777777777777778,\"#fb9f3a\"],[0.8888888888888888,\"#fdca26\"],[1.0,\"#f0f921\"]]}],\"contourcarpet\":[{\"type\":\"contourcarpet\",\"colorbar\":{\"outlinewidth\":0,\"ticks\":\"\"}}],\"contour\":[{\"type\":\"contour\",\"colorbar\":{\"outlinewidth\":0,\"ticks\":\"\"},\"colorscale\":[[0.0,\"#0d0887\"],[0.1111111111111111,\"#46039f\"],[0.2222222222222222,\"#7201a8\"],[0.3333333333333333,\"#9c179e\"],[0.4444444444444444,\"#bd3786\"],[0.5555555555555556,\"#d8576b\"],[0.6666666666666666,\"#ed7953\"],[0.7777777777777778,\"#fb9f3a\"],[0.8888888888888888,\"#fdca26\"],[1.0,\"#f0f921\"]]}],\"surface\":[{\"type\":\"surface\",\"colorbar\":{\"outlinewidth\":0,\"ticks\":\"\"},\"colorscale\":[[0.0,\"#0d0887\"],[0.1111111111111111,\"#46039f\"],[0.2222222222222222,\"#7201a8\"],[0.3333333333333333,\"#9c179e\"],[0.4444444444444444,\"#bd3786\"],[0.5555555555555556,\"#d8576b\"],[0.6666666666666666,\"#ed7953\"],[0.7777777777777778,\"#fb9f3a\"],[0.8888888888888888,\"#fdca26\"],[1.0,\"#f0f921\"]]}],\"mesh3d\":[{\"type\":\"mesh3d\",\"colorbar\":{\"outlinewidth\":0,\"ticks\":\"\"}}],\"scatter\":[{\"fillpattern\":{\"fillmode\":\"overlay\",\"size\":10,\"solidity\":0.2},\"type\":\"scatter\"}],\"parcoords\":[{\"type\":\"parcoords\",\"line\":{\"colorbar\":{\"outlinewidth\":0,\"ticks\":\"\"}}}],\"scatterpolargl\":[{\"type\":\"scatterpolargl\",\"marker\":{\"colorbar\":{\"outlinewidth\":0,\"ticks\":\"\"}}}],\"bar\":[{\"error_x\":{\"color\":\"#2a3f5f\"},\"error_y\":{\"color\":\"#2a3f5f\"},\"marker\":{\"line\":{\"color\":\"#E5ECF6\",\"width\":0.5},\"pattern\":{\"fillmode\":\"overlay\",\"size\":10,\"solidity\":0.2}},\"type\":\"bar\"}],\"scattergeo\":[{\"type\":\"scattergeo\",\"marker\":{\"colorbar\":{\"outlinewidth\":0,\"ticks\":\"\"}}}],\"scatterpolar\":[{\"type\":\"scatterpolar\",\"marker\":{\"colorbar\":{\"outlinewidth\":0,\"ticks\":\"\"}}}],\"histogram\":[{\"marker\":{\"pattern\":{\"fillmode\":\"overlay\",\"size\":10,\"solidity\":0.2}},\"type\":\"histogram\"}],\"scattergl\":[{\"type\":\"scattergl\",\"marker\":{\"colorbar\":{\"outlinewidth\":0,\"ticks\":\"\"}}}],\"scatter3d\":[{\"type\":\"scatter3d\",\"line\":{\"colorbar\":{\"outlinewidth\":0,\"ticks\":\"\"}},\"marker\":{\"colorbar\":{\"outlinewidth\":0,\"ticks\":\"\"}}}],\"scattermapbox\":[{\"type\":\"scattermapbox\",\"marker\":{\"colorbar\":{\"outlinewidth\":0,\"ticks\":\"\"}}}],\"scatterternary\":[{\"type\":\"scatterternary\",\"marker\":{\"colorbar\":{\"outlinewidth\":0,\"ticks\":\"\"}}}],\"scattercarpet\":[{\"type\":\"scattercarpet\",\"marker\":{\"colorbar\":{\"outlinewidth\":0,\"ticks\":\"\"}}}],\"carpet\":[{\"aaxis\":{\"endlinecolor\":\"#2a3f5f\",\"gridcolor\":\"white\",\"linecolor\":\"white\",\"minorgridcolor\":\"white\",\"startlinecolor\":\"#2a3f5f\"},\"baxis\":{\"endlinecolor\":\"#2a3f5f\",\"gridcolor\":\"white\",\"linecolor\":\"white\",\"minorgridcolor\":\"white\",\"startlinecolor\":\"#2a3f5f\"},\"type\":\"carpet\"}],\"table\":[{\"cells\":{\"fill\":{\"color\":\"#EBF0F8\"},\"line\":{\"color\":\"white\"}},\"header\":{\"fill\":{\"color\":\"#C8D4E3\"},\"line\":{\"color\":\"white\"}},\"type\":\"table\"}],\"barpolar\":[{\"marker\":{\"line\":{\"color\":\"#E5ECF6\",\"width\":0.5},\"pattern\":{\"fillmode\":\"overlay\",\"size\":10,\"solidity\":0.2}},\"type\":\"barpolar\"}],\"pie\":[{\"automargin\":true,\"type\":\"pie\"}]},\"layout\":{\"autotypenumbers\":\"strict\",\"colorway\":[\"#636efa\",\"#EF553B\",\"#00cc96\",\"#ab63fa\",\"#FFA15A\",\"#19d3f3\",\"#FF6692\",\"#B6E880\",\"#FF97FF\",\"#FECB52\"],\"font\":{\"color\":\"#2a3f5f\"},\"hovermode\":\"closest\",\"hoverlabel\":{\"align\":\"left\"},\"paper_bgcolor\":\"white\",\"plot_bgcolor\":\"#E5ECF6\",\"polar\":{\"bgcolor\":\"#E5ECF6\",\"angularaxis\":{\"gridcolor\":\"white\",\"linecolor\":\"white\",\"ticks\":\"\"},\"radialaxis\":{\"gridcolor\":\"white\",\"linecolor\":\"white\",\"ticks\":\"\"}},\"ternary\":{\"bgcolor\":\"#E5ECF6\",\"aaxis\":{\"gridcolor\":\"white\",\"linecolor\":\"white\",\"ticks\":\"\"},\"baxis\":{\"gridcolor\":\"white\",\"linecolor\":\"white\",\"ticks\":\"\"},\"caxis\":{\"gridcolor\":\"white\",\"linecolor\":\"white\",\"ticks\":\"\"}},\"coloraxis\":{\"colorbar\":{\"outlinewidth\":0,\"ticks\":\"\"}},\"colorscale\":{\"sequential\":[[0.0,\"#0d0887\"],[0.1111111111111111,\"#46039f\"],[0.2222222222222222,\"#7201a8\"],[0.3333333333333333,\"#9c179e\"],[0.4444444444444444,\"#bd3786\"],[0.5555555555555556,\"#d8576b\"],[0.6666666666666666,\"#ed7953\"],[0.7777777777777778,\"#fb9f3a\"],[0.8888888888888888,\"#fdca26\"],[1.0,\"#f0f921\"]],\"sequentialminus\":[[0.0,\"#0d0887\"],[0.1111111111111111,\"#46039f\"],[0.2222222222222222,\"#7201a8\"],[0.3333333333333333,\"#9c179e\"],[0.4444444444444444,\"#bd3786\"],[0.5555555555555556,\"#d8576b\"],[0.6666666666666666,\"#ed7953\"],[0.7777777777777778,\"#fb9f3a\"],[0.8888888888888888,\"#fdca26\"],[1.0,\"#f0f921\"]],\"diverging\":[[0,\"#8e0152\"],[0.1,\"#c51b7d\"],[0.2,\"#de77ae\"],[0.3,\"#f1b6da\"],[0.4,\"#fde0ef\"],[0.5,\"#f7f7f7\"],[0.6,\"#e6f5d0\"],[0.7,\"#b8e186\"],[0.8,\"#7fbc41\"],[0.9,\"#4d9221\"],[1,\"#276419\"]]},\"xaxis\":{\"gridcolor\":\"white\",\"linecolor\":\"white\",\"ticks\":\"\",\"title\":{\"standoff\":15},\"zerolinecolor\":\"white\",\"automargin\":true,\"zerolinewidth\":2},\"yaxis\":{\"gridcolor\":\"white\",\"linecolor\":\"white\",\"ticks\":\"\",\"title\":{\"standoff\":15},\"zerolinecolor\":\"white\",\"automargin\":true,\"zerolinewidth\":2},\"scene\":{\"xaxis\":{\"backgroundcolor\":\"#E5ECF6\",\"gridcolor\":\"white\",\"linecolor\":\"white\",\"showbackground\":true,\"ticks\":\"\",\"zerolinecolor\":\"white\",\"gridwidth\":2},\"yaxis\":{\"backgroundcolor\":\"#E5ECF6\",\"gridcolor\":\"white\",\"linecolor\":\"white\",\"showbackground\":true,\"ticks\":\"\",\"zerolinecolor\":\"white\",\"gridwidth\":2},\"zaxis\":{\"backgroundcolor\":\"#E5ECF6\",\"gridcolor\":\"white\",\"linecolor\":\"white\",\"showbackground\":true,\"ticks\":\"\",\"zerolinecolor\":\"white\",\"gridwidth\":2}},\"shapedefaults\":{\"line\":{\"color\":\"#2a3f5f\"}},\"annotationdefaults\":{\"arrowcolor\":\"#2a3f5f\",\"arrowhead\":0,\"arrowwidth\":1},\"geo\":{\"bgcolor\":\"white\",\"landcolor\":\"#E5ECF6\",\"subunitcolor\":\"white\",\"showland\":true,\"showlakes\":true,\"lakecolor\":\"white\"},\"title\":{\"x\":0.05},\"mapbox\":{\"style\":\"light\"}}}},                        {\"responsive\": true}                    ).then(function(){\n",
              "                            \n",
              "var gd = document.getElementById('0f9bdbc1-85bc-413d-85d7-b3b47e7078b1');\n",
              "var x = new MutationObserver(function (mutations, observer) {{\n",
              "        var display = window.getComputedStyle(gd).display;\n",
              "        if (!display || display === 'none') {{\n",
              "            console.log([gd, 'removed!']);\n",
              "            Plotly.purge(gd);\n",
              "            observer.disconnect();\n",
              "        }}\n",
              "}});\n",
              "\n",
              "// Listen for the removal of the full notebook cells\n",
              "var notebookContainer = gd.closest('#notebook-container');\n",
              "if (notebookContainer) {{\n",
              "    x.observe(notebookContainer, {childList: true});\n",
              "}}\n",
              "\n",
              "// Listen for the clearing of the current output cell\n",
              "var outputEl = gd.closest('.output');\n",
              "if (outputEl) {{\n",
              "    x.observe(outputEl, {childList: true});\n",
              "}}\n",
              "\n",
              "                        })                };                            </script>        </div>\n",
              "</body>\n",
              "</html>"
            ]
          },
          "metadata": {}
        },
        {
          "output_type": "stream",
          "name": "stderr",
          "text": [
            "[W 2023-06-02 10:31:16,914] Your study has only completed trials with missing parameters.\n",
            "<ipython-input-37-0c79a7da1449>:44: FutureWarning:\n",
            "\n",
            "suggest_loguniform has been deprecated in v3.0.0. This feature will be removed in v6.0.0. See https://github.com/optuna/optuna/releases/tag/v3.0.0. Use suggest_float(..., log=True) instead.\n",
            "\n",
            "<ipython-input-37-0c79a7da1449>:73: FutureWarning:\n",
            "\n",
            "suggest_uniform has been deprecated in v3.0.0. This feature will be removed in v6.0.0. See https://github.com/optuna/optuna/releases/tag/v3.0.0. Use suggest_float instead.\n",
            "\n",
            "<ipython-input-37-0c79a7da1449>:76: FutureWarning:\n",
            "\n",
            "suggest_uniform has been deprecated in v3.0.0. This feature will be removed in v6.0.0. See https://github.com/optuna/optuna/releases/tag/v3.0.0. Use suggest_float instead.\n",
            "\n",
            "<ipython-input-37-0c79a7da1449>:149: FutureWarning:\n",
            "\n",
            "suggest_loguniform has been deprecated in v3.0.0. This feature will be removed in v6.0.0. See https://github.com/optuna/optuna/releases/tag/v3.0.0. Use suggest_float(..., log=True) instead.\n",
            "\n",
            "<ipython-input-37-0c79a7da1449>:150: FutureWarning:\n",
            "\n",
            "suggest_uniform has been deprecated in v3.0.0. This feature will be removed in v6.0.0. See https://github.com/optuna/optuna/releases/tag/v3.0.0. Use suggest_float instead.\n",
            "\n",
            "<ipython-input-37-0c79a7da1449>:151: FutureWarning:\n",
            "\n",
            "suggest_uniform has been deprecated in v3.0.0. This feature will be removed in v6.0.0. See https://github.com/optuna/optuna/releases/tag/v3.0.0. Use suggest_float instead.\n",
            "\n",
            "<ipython-input-37-0c79a7da1449>:161: FutureWarning:\n",
            "\n",
            "suggest_uniform has been deprecated in v3.0.0. This feature will be removed in v6.0.0. See https://github.com/optuna/optuna/releases/tag/v3.0.0. Use suggest_float instead.\n",
            "\n"
          ]
        },
        {
          "output_type": "stream",
          "name": "stdout",
          "text": [
            "Epoch 1/55.. Train loss: 356392702.760.. Val loss: 2.484.. Train L1 norm: 643072913.146.. Val L1 norm: 1.135.. Train Linf norm: 96272737104.689.. Val Linf norm: 45.694\n",
            "Epoch 2/55.. Train loss: 109.857.. Val loss: 2.357.. Train L1 norm: 218.952.. Val L1 norm: 1.640.. Train Linf norm: 134728.070.. Val Linf norm: 161.079\n",
            "Epoch 3/55.. Train loss: 681.608.. Val loss: 2.275.. Train L1 norm: 973.352.. Val L1 norm: 2.121.. Train Linf norm: 156629.371.. Val Linf norm: 257.340\n",
            "Epoch 4/55.. Train loss: 206.359.. Val loss: 2.243.. Train L1 norm: 377.536.. Val L1 norm: 2.364.. Train Linf norm: 252983.715.. Val Linf norm: 303.661\n",
            "Epoch 5/55.. Train loss: 2.167.. Val loss: 2.170.. Train L1 norm: 4.545.. Val L1 norm: 3.217.. Train Linf norm: 1765.293.. Val Linf norm: 459.252\n",
            "Epoch 6/55.. Train loss: 2.140.. Val loss: 2.154.. Train L1 norm: 4.846.. Val L1 norm: 3.711.. Train Linf norm: 1830.336.. Val Linf norm: 545.716\n",
            "Epoch 7/55.. Train loss: 2.140.. Val loss: 2.154.. Train L1 norm: 4.707.. Val L1 norm: 3.702.. Train Linf norm: 1772.119.. Val Linf norm: 544.257\n",
            "Epoch 8/55.. Train loss: 2.133.. Val loss: 2.170.. Train L1 norm: 4.649.. Val L1 norm: 3.209.. Train Linf norm: 1587.468.. Val Linf norm: 457.815\n",
            "Epoch 9/55.. Train loss: 2.132.. Val loss: 2.155.. Train L1 norm: 4.710.. Val L1 norm: 3.634.. Train Linf norm: 1702.083.. Val Linf norm: 532.418\n",
            "Epoch 10/55.. Train loss: 2.139.. Val loss: 2.154.. Train L1 norm: 4.391.. Val L1 norm: 3.699.. Train Linf norm: 1401.949.. Val Linf norm: 543.691\n",
            "Epoch 11/55.. Train loss: 3.390.. Val loss: 2.155.. Train L1 norm: 4.983.. Val L1 norm: 3.646.. Train Linf norm: 1990.491.. Val Linf norm: 534.415\n",
            "Epoch 12/55.. Train loss: 2.126.. Val loss: 2.163.. Train L1 norm: 4.782.. Val L1 norm: 3.379.. Train Linf norm: 1773.826.. Val Linf norm: 487.899\n",
            "Epoch 13/55.. Train loss: 2.124.. Val loss: 2.152.. Train L1 norm: 4.732.. Val L1 norm: 3.867.. Train Linf norm: 1740.813.. Val Linf norm: 572.657\n",
            "Epoch 14/55.. Train loss: 14.809.. Val loss: 2.164.. Train L1 norm: 24.887.. Val L1 norm: 3.355.. Train Linf norm: 13740.474.. Val Linf norm: 483.667\n",
            "Epoch 15/55.. Train loss: 230.737.. Val loss: 2.159.. Train L1 norm: 375.821.. Val L1 norm: 3.470.. Train Linf norm: 381758.416.. Val Linf norm: 503.841\n",
            "Epoch 16/55.. Train loss: 2.123.. Val loss: 2.156.. Train L1 norm: 4.627.. Val L1 norm: 3.585.. Train Linf norm: 1629.510.. Val Linf norm: 523.871\n",
            "Epoch 17/55.. Train loss: 2.141.. Val loss: 2.154.. Train L1 norm: 4.807.. Val L1 norm: 3.665.. Train Linf norm: 1780.371.. Val Linf norm: 537.835\n",
            "Epoch 18/55.. Train loss: 2.123.. Val loss: 2.153.. Train L1 norm: 4.870.. Val L1 norm: 3.734.. Train Linf norm: 1794.262.. Val Linf norm: 549.669\n",
            "Epoch 19/55.. Train loss: 2.120.. Val loss: 2.153.. Train L1 norm: 4.919.. Val L1 norm: 3.755.. Train Linf norm: 1839.308.. Val Linf norm: 553.385\n",
            "Epoch 20/55.. Train loss: 2.117.. Val loss: 2.153.. Train L1 norm: 4.948.. Val L1 norm: 3.777.. Train Linf norm: 1741.354.. Val Linf norm: 557.158\n",
            "Epoch 21/55.. Train loss: 2.322.. Val loss: 2.153.. Train L1 norm: 5.012.. Val L1 norm: 3.796.. Train Linf norm: 1844.214.. Val Linf norm: 560.417\n",
            "Epoch 22/55.. Train loss: 2.116.. Val loss: 2.152.. Train L1 norm: 5.009.. Val L1 norm: 3.813.. Train Linf norm: 1787.282.. Val Linf norm: 563.378\n",
            "Epoch 23/55.. Train loss: 2.116.. Val loss: 2.152.. Train L1 norm: 5.023.. Val L1 norm: 3.829.. Train Linf norm: 1900.711.. Val Linf norm: 566.132\n",
            "Epoch 24/55.. Train loss: 2.119.. Val loss: 2.152.. Train L1 norm: 5.076.. Val L1 norm: 3.837.. Train Linf norm: 1932.080.. Val Linf norm: 567.551\n",
            "Epoch 25/55.. Train loss: 2.116.. Val loss: 2.152.. Train L1 norm: 5.050.. Val L1 norm: 3.848.. Train Linf norm: 1867.362.. Val Linf norm: 569.421\n",
            "Epoch 26/55.. Train loss: 2.117.. Val loss: 2.152.. Train L1 norm: 5.072.. Val L1 norm: 3.860.. Train Linf norm: 1884.321.. Val Linf norm: 571.471\n",
            "Epoch 27/55.. Train loss: 2.116.. Val loss: 2.152.. Train L1 norm: 5.083.. Val L1 norm: 3.869.. Train Linf norm: 1779.015.. Val Linf norm: 573.033\n",
            "Epoch 28/55.. Train loss: 2.116.. Val loss: 2.152.. Train L1 norm: 5.081.. Val L1 norm: 3.873.. Train Linf norm: 1861.731.. Val Linf norm: 573.622\n",
            "Epoch 29/55.. Train loss: 2.116.. Val loss: 2.152.. Train L1 norm: 5.096.. Val L1 norm: 3.876.. Train Linf norm: 1945.097.. Val Linf norm: 574.185\n",
            "Epoch 30/55.. Train loss: 2.115.. Val loss: 2.152.. Train L1 norm: 5.105.. Val L1 norm: 3.879.. Train Linf norm: 1828.084.. Val Linf norm: 574.661\n",
            "Epoch 31/55.. Train loss: 2.116.. Val loss: 2.152.. Train L1 norm: 5.121.. Val L1 norm: 3.880.. Train Linf norm: 1974.631.. Val Linf norm: 574.975\n",
            "Epoch 32/55.. Train loss: 2.115.. Val loss: 2.152.. Train L1 norm: 5.102.. Val L1 norm: 3.885.. Train Linf norm: 1769.889.. Val Linf norm: 575.807\n",
            "Epoch 33/55.. Train loss: 2.116.. Val loss: 2.152.. Train L1 norm: 5.116.. Val L1 norm: 3.887.. Train Linf norm: 1868.650.. Val Linf norm: 576.089\n",
            "Epoch 34/55.. Train loss: 2.115.. Val loss: 2.152.. Train L1 norm: 5.116.. Val L1 norm: 3.890.. Train Linf norm: 1877.464.. Val Linf norm: 576.694\n",
            "Epoch 35/55.. Train loss: 2.115.. Val loss: 2.152.. Train L1 norm: 5.118.. Val L1 norm: 3.893.. Train Linf norm: 1917.170.. Val Linf norm: 577.155\n",
            "Epoch 36/55.. Train loss: 2.116.. Val loss: 2.152.. Train L1 norm: 5.122.. Val L1 norm: 3.894.. Train Linf norm: 1920.681.. Val Linf norm: 577.350\n",
            "Epoch 37/55.. Train loss: 2.116.. Val loss: 2.152.. Train L1 norm: 5.132.. Val L1 norm: 3.895.. Train Linf norm: 1980.383.. Val Linf norm: 577.534\n",
            "Epoch 38/55.. Train loss: 2.116.. Val loss: 2.152.. Train L1 norm: 5.126.. Val L1 norm: 3.896.. Train Linf norm: 1850.719.. Val Linf norm: 577.730\n",
            "Epoch 39/55.. Train loss: 2.115.. Val loss: 2.152.. Train L1 norm: 5.125.. Val L1 norm: 3.897.. Train Linf norm: 1917.529.. Val Linf norm: 577.857\n",
            "Epoch 40/55.. Train loss: 2.115.. Val loss: 2.152.. Train L1 norm: 5.125.. Val L1 norm: 3.898.. Train Linf norm: 1884.408.. Val Linf norm: 578.069\n",
            "Epoch 41/55.. Train loss: 2.116.. Val loss: 2.152.. Train L1 norm: 5.129.. Val L1 norm: 3.900.. Train Linf norm: 1765.937.. Val Linf norm: 578.300\n",
            "Epoch 42/55.. Train loss: 2.116.. Val loss: 2.152.. Train L1 norm: 5.129.. Val L1 norm: 3.900.. Train Linf norm: 1866.140.. Val Linf norm: 578.310\n",
            "Epoch 43/55.. Train loss: 2.115.. Val loss: 2.152.. Train L1 norm: 5.129.. Val L1 norm: 3.900.. Train Linf norm: 1775.509.. Val Linf norm: 578.405\n",
            "Epoch 44/55.. Train loss: 2.116.. Val loss: 2.152.. Train L1 norm: 5.131.. Val L1 norm: 3.902.. Train Linf norm: 1937.347.. Val Linf norm: 578.595\n",
            "Epoch 45/55.. Train loss: 2.115.. Val loss: 2.152.. Train L1 norm: 5.132.. Val L1 norm: 3.902.. Train Linf norm: 1734.534.. Val Linf norm: 578.676\n",
            "Epoch 46/55.. Train loss: 2.115.. Val loss: 2.152.. Train L1 norm: 5.133.. Val L1 norm: 3.903.. Train Linf norm: 1892.128.. Val Linf norm: 578.783\n",
            "Epoch 47/55.. Train loss: 2.115.. Val loss: 2.152.. Train L1 norm: 5.132.. Val L1 norm: 3.903.. Train Linf norm: 1932.266.. Val Linf norm: 578.780\n",
            "Epoch 48/55.. Train loss: 2.116.. Val loss: 2.152.. Train L1 norm: 5.132.. Val L1 norm: 3.903.. Train Linf norm: 1830.632.. Val Linf norm: 578.865\n",
            "Epoch 49/55.. Train loss: 2.115.. Val loss: 2.152.. Train L1 norm: 5.129.. Val L1 norm: 3.904.. Train Linf norm: 1787.993.. Val Linf norm: 578.954\n",
            "Epoch 50/55.. Train loss: 2.115.. Val loss: 2.152.. Train L1 norm: 5.133.. Val L1 norm: 3.904.. Train Linf norm: 1916.349.. Val Linf norm: 579.023\n",
            "Epoch 51/55.. Train loss: 2.115.. Val loss: 2.152.. Train L1 norm: 5.134.. Val L1 norm: 3.904.. Train Linf norm: 1958.997.. Val Linf norm: 579.074\n",
            "Epoch 52/55.. Train loss: 2.115.. Val loss: 2.152.. Train L1 norm: 5.135.. Val L1 norm: 3.905.. Train Linf norm: 1832.274.. Val Linf norm: 579.165\n",
            "Epoch 53/55.. Train loss: 2.115.. Val loss: 2.152.. Train L1 norm: 5.135.. Val L1 norm: 3.905.. Train Linf norm: 1786.353.. Val Linf norm: 579.197\n",
            "Epoch 54/55.. Train loss: 2.115.. Val loss: 2.152.. Train L1 norm: 5.136.. Val L1 norm: 3.906.. Train Linf norm: 1893.097.. Val Linf norm: 579.292\n"
          ]
        },
        {
          "output_type": "stream",
          "name": "stderr",
          "text": [
            "[I 2023-06-02 10:35:29,976] Trial 4 finished with value: 3.90576324412028 and parameters: {'n_layers': 10, 'n_units_0': 3128, 'n_units_1': 464, 'n_units_2': 2045, 'n_units_3': 1589, 'n_units_4': 2193, 'n_units_5': 2563, 'n_units_6': 887, 'n_units_7': 3664, 'n_units_8': 1140, 'n_units_9': 3228, 'hidden_activation': 'SoftPlus', 'output_activation': 'Linear', 'loss': 'Quantile', 'optimizer': 'Adam', 'lr': 0.01412241421309683, 'batch_size': 1024, 'n_epochs': 55, 'scheduler': 'StepLR', 'softplus_beta': 0.9505199270989396, 'dropout_rate': 0.17952299619396483, 'weight_decay': 0.0001893013994689413, 'beta1': 0.9141869850004095, 'beta2': 0.9992774416000054, 'step_size': 9, 'gamma': 0.4093260882405977}. Best is trial 3 with value: 2.6828094604492185.\n"
          ]
        },
        {
          "output_type": "stream",
          "name": "stdout",
          "text": [
            "Epoch 55/55.. Train loss: 2.115.. Val loss: 2.152.. Train L1 norm: 5.137.. Val L1 norm: 3.906.. Train Linf norm: 1922.612.. Val Linf norm: 579.323\n"
          ]
        },
        {
          "output_type": "display_data",
          "data": {
            "text/html": [
              "<html>\n",
              "<head><meta charset=\"utf-8\" /></head>\n",
              "<body>\n",
              "    <div>            <script src=\"https://cdnjs.cloudflare.com/ajax/libs/mathjax/2.7.5/MathJax.js?config=TeX-AMS-MML_SVG\"></script><script type=\"text/javascript\">if (window.MathJax && window.MathJax.Hub && window.MathJax.Hub.Config) {window.MathJax.Hub.Config({SVG: {font: \"STIX-Web\"}});}</script>                <script type=\"text/javascript\">window.PlotlyConfig = {MathJaxConfig: 'local'};</script>\n",
              "        <script src=\"https://cdn.plot.ly/plotly-2.18.2.min.js\"></script>                <div id=\"affa84da-d4ef-4542-97e5-20e4cfd8d817\" class=\"plotly-graph-div\" style=\"height:525px; width:100%;\"></div>            <script type=\"text/javascript\">                                    window.PLOTLYENV=window.PLOTLYENV || {};                                    if (document.getElementById(\"affa84da-d4ef-4542-97e5-20e4cfd8d817\")) {                    Plotly.newPlot(                        \"affa84da-d4ef-4542-97e5-20e4cfd8d817\",                        [{\"mode\":\"markers\",\"name\":\"Objective Value\",\"x\":[0,1,2,3,4],\"y\":[361840040821304.0,4.148916990661621,3.616880493545532,2.6828094604492185,3.90576324412028],\"type\":\"scatter\"},{\"name\":\"Best Value\",\"x\":[0,1,2,3,4],\"y\":[361840040821304.0,4.148916990661621,3.616880493545532,2.6828094604492185,2.6828094604492185],\"type\":\"scatter\"}],                        {\"title\":{\"text\":\"Optimization History Plot\"},\"xaxis\":{\"title\":{\"text\":\"Trial\"}},\"yaxis\":{\"title\":{\"text\":\"Objective Value\"}},\"template\":{\"data\":{\"histogram2dcontour\":[{\"type\":\"histogram2dcontour\",\"colorbar\":{\"outlinewidth\":0,\"ticks\":\"\"},\"colorscale\":[[0.0,\"#0d0887\"],[0.1111111111111111,\"#46039f\"],[0.2222222222222222,\"#7201a8\"],[0.3333333333333333,\"#9c179e\"],[0.4444444444444444,\"#bd3786\"],[0.5555555555555556,\"#d8576b\"],[0.6666666666666666,\"#ed7953\"],[0.7777777777777778,\"#fb9f3a\"],[0.8888888888888888,\"#fdca26\"],[1.0,\"#f0f921\"]]}],\"choropleth\":[{\"type\":\"choropleth\",\"colorbar\":{\"outlinewidth\":0,\"ticks\":\"\"}}],\"histogram2d\":[{\"type\":\"histogram2d\",\"colorbar\":{\"outlinewidth\":0,\"ticks\":\"\"},\"colorscale\":[[0.0,\"#0d0887\"],[0.1111111111111111,\"#46039f\"],[0.2222222222222222,\"#7201a8\"],[0.3333333333333333,\"#9c179e\"],[0.4444444444444444,\"#bd3786\"],[0.5555555555555556,\"#d8576b\"],[0.6666666666666666,\"#ed7953\"],[0.7777777777777778,\"#fb9f3a\"],[0.8888888888888888,\"#fdca26\"],[1.0,\"#f0f921\"]]}],\"heatmap\":[{\"type\":\"heatmap\",\"colorbar\":{\"outlinewidth\":0,\"ticks\":\"\"},\"colorscale\":[[0.0,\"#0d0887\"],[0.1111111111111111,\"#46039f\"],[0.2222222222222222,\"#7201a8\"],[0.3333333333333333,\"#9c179e\"],[0.4444444444444444,\"#bd3786\"],[0.5555555555555556,\"#d8576b\"],[0.6666666666666666,\"#ed7953\"],[0.7777777777777778,\"#fb9f3a\"],[0.8888888888888888,\"#fdca26\"],[1.0,\"#f0f921\"]]}],\"heatmapgl\":[{\"type\":\"heatmapgl\",\"colorbar\":{\"outlinewidth\":0,\"ticks\":\"\"},\"colorscale\":[[0.0,\"#0d0887\"],[0.1111111111111111,\"#46039f\"],[0.2222222222222222,\"#7201a8\"],[0.3333333333333333,\"#9c179e\"],[0.4444444444444444,\"#bd3786\"],[0.5555555555555556,\"#d8576b\"],[0.6666666666666666,\"#ed7953\"],[0.7777777777777778,\"#fb9f3a\"],[0.8888888888888888,\"#fdca26\"],[1.0,\"#f0f921\"]]}],\"contourcarpet\":[{\"type\":\"contourcarpet\",\"colorbar\":{\"outlinewidth\":0,\"ticks\":\"\"}}],\"contour\":[{\"type\":\"contour\",\"colorbar\":{\"outlinewidth\":0,\"ticks\":\"\"},\"colorscale\":[[0.0,\"#0d0887\"],[0.1111111111111111,\"#46039f\"],[0.2222222222222222,\"#7201a8\"],[0.3333333333333333,\"#9c179e\"],[0.4444444444444444,\"#bd3786\"],[0.5555555555555556,\"#d8576b\"],[0.6666666666666666,\"#ed7953\"],[0.7777777777777778,\"#fb9f3a\"],[0.8888888888888888,\"#fdca26\"],[1.0,\"#f0f921\"]]}],\"surface\":[{\"type\":\"surface\",\"colorbar\":{\"outlinewidth\":0,\"ticks\":\"\"},\"colorscale\":[[0.0,\"#0d0887\"],[0.1111111111111111,\"#46039f\"],[0.2222222222222222,\"#7201a8\"],[0.3333333333333333,\"#9c179e\"],[0.4444444444444444,\"#bd3786\"],[0.5555555555555556,\"#d8576b\"],[0.6666666666666666,\"#ed7953\"],[0.7777777777777778,\"#fb9f3a\"],[0.8888888888888888,\"#fdca26\"],[1.0,\"#f0f921\"]]}],\"mesh3d\":[{\"type\":\"mesh3d\",\"colorbar\":{\"outlinewidth\":0,\"ticks\":\"\"}}],\"scatter\":[{\"fillpattern\":{\"fillmode\":\"overlay\",\"size\":10,\"solidity\":0.2},\"type\":\"scatter\"}],\"parcoords\":[{\"type\":\"parcoords\",\"line\":{\"colorbar\":{\"outlinewidth\":0,\"ticks\":\"\"}}}],\"scatterpolargl\":[{\"type\":\"scatterpolargl\",\"marker\":{\"colorbar\":{\"outlinewidth\":0,\"ticks\":\"\"}}}],\"bar\":[{\"error_x\":{\"color\":\"#2a3f5f\"},\"error_y\":{\"color\":\"#2a3f5f\"},\"marker\":{\"line\":{\"color\":\"#E5ECF6\",\"width\":0.5},\"pattern\":{\"fillmode\":\"overlay\",\"size\":10,\"solidity\":0.2}},\"type\":\"bar\"}],\"scattergeo\":[{\"type\":\"scattergeo\",\"marker\":{\"colorbar\":{\"outlinewidth\":0,\"ticks\":\"\"}}}],\"scatterpolar\":[{\"type\":\"scatterpolar\",\"marker\":{\"colorbar\":{\"outlinewidth\":0,\"ticks\":\"\"}}}],\"histogram\":[{\"marker\":{\"pattern\":{\"fillmode\":\"overlay\",\"size\":10,\"solidity\":0.2}},\"type\":\"histogram\"}],\"scattergl\":[{\"type\":\"scattergl\",\"marker\":{\"colorbar\":{\"outlinewidth\":0,\"ticks\":\"\"}}}],\"scatter3d\":[{\"type\":\"scatter3d\",\"line\":{\"colorbar\":{\"outlinewidth\":0,\"ticks\":\"\"}},\"marker\":{\"colorbar\":{\"outlinewidth\":0,\"ticks\":\"\"}}}],\"scattermapbox\":[{\"type\":\"scattermapbox\",\"marker\":{\"colorbar\":{\"outlinewidth\":0,\"ticks\":\"\"}}}],\"scatterternary\":[{\"type\":\"scatterternary\",\"marker\":{\"colorbar\":{\"outlinewidth\":0,\"ticks\":\"\"}}}],\"scattercarpet\":[{\"type\":\"scattercarpet\",\"marker\":{\"colorbar\":{\"outlinewidth\":0,\"ticks\":\"\"}}}],\"carpet\":[{\"aaxis\":{\"endlinecolor\":\"#2a3f5f\",\"gridcolor\":\"white\",\"linecolor\":\"white\",\"minorgridcolor\":\"white\",\"startlinecolor\":\"#2a3f5f\"},\"baxis\":{\"endlinecolor\":\"#2a3f5f\",\"gridcolor\":\"white\",\"linecolor\":\"white\",\"minorgridcolor\":\"white\",\"startlinecolor\":\"#2a3f5f\"},\"type\":\"carpet\"}],\"table\":[{\"cells\":{\"fill\":{\"color\":\"#EBF0F8\"},\"line\":{\"color\":\"white\"}},\"header\":{\"fill\":{\"color\":\"#C8D4E3\"},\"line\":{\"color\":\"white\"}},\"type\":\"table\"}],\"barpolar\":[{\"marker\":{\"line\":{\"color\":\"#E5ECF6\",\"width\":0.5},\"pattern\":{\"fillmode\":\"overlay\",\"size\":10,\"solidity\":0.2}},\"type\":\"barpolar\"}],\"pie\":[{\"automargin\":true,\"type\":\"pie\"}]},\"layout\":{\"autotypenumbers\":\"strict\",\"colorway\":[\"#636efa\",\"#EF553B\",\"#00cc96\",\"#ab63fa\",\"#FFA15A\",\"#19d3f3\",\"#FF6692\",\"#B6E880\",\"#FF97FF\",\"#FECB52\"],\"font\":{\"color\":\"#2a3f5f\"},\"hovermode\":\"closest\",\"hoverlabel\":{\"align\":\"left\"},\"paper_bgcolor\":\"white\",\"plot_bgcolor\":\"#E5ECF6\",\"polar\":{\"bgcolor\":\"#E5ECF6\",\"angularaxis\":{\"gridcolor\":\"white\",\"linecolor\":\"white\",\"ticks\":\"\"},\"radialaxis\":{\"gridcolor\":\"white\",\"linecolor\":\"white\",\"ticks\":\"\"}},\"ternary\":{\"bgcolor\":\"#E5ECF6\",\"aaxis\":{\"gridcolor\":\"white\",\"linecolor\":\"white\",\"ticks\":\"\"},\"baxis\":{\"gridcolor\":\"white\",\"linecolor\":\"white\",\"ticks\":\"\"},\"caxis\":{\"gridcolor\":\"white\",\"linecolor\":\"white\",\"ticks\":\"\"}},\"coloraxis\":{\"colorbar\":{\"outlinewidth\":0,\"ticks\":\"\"}},\"colorscale\":{\"sequential\":[[0.0,\"#0d0887\"],[0.1111111111111111,\"#46039f\"],[0.2222222222222222,\"#7201a8\"],[0.3333333333333333,\"#9c179e\"],[0.4444444444444444,\"#bd3786\"],[0.5555555555555556,\"#d8576b\"],[0.6666666666666666,\"#ed7953\"],[0.7777777777777778,\"#fb9f3a\"],[0.8888888888888888,\"#fdca26\"],[1.0,\"#f0f921\"]],\"sequentialminus\":[[0.0,\"#0d0887\"],[0.1111111111111111,\"#46039f\"],[0.2222222222222222,\"#7201a8\"],[0.3333333333333333,\"#9c179e\"],[0.4444444444444444,\"#bd3786\"],[0.5555555555555556,\"#d8576b\"],[0.6666666666666666,\"#ed7953\"],[0.7777777777777778,\"#fb9f3a\"],[0.8888888888888888,\"#fdca26\"],[1.0,\"#f0f921\"]],\"diverging\":[[0,\"#8e0152\"],[0.1,\"#c51b7d\"],[0.2,\"#de77ae\"],[0.3,\"#f1b6da\"],[0.4,\"#fde0ef\"],[0.5,\"#f7f7f7\"],[0.6,\"#e6f5d0\"],[0.7,\"#b8e186\"],[0.8,\"#7fbc41\"],[0.9,\"#4d9221\"],[1,\"#276419\"]]},\"xaxis\":{\"gridcolor\":\"white\",\"linecolor\":\"white\",\"ticks\":\"\",\"title\":{\"standoff\":15},\"zerolinecolor\":\"white\",\"automargin\":true,\"zerolinewidth\":2},\"yaxis\":{\"gridcolor\":\"white\",\"linecolor\":\"white\",\"ticks\":\"\",\"title\":{\"standoff\":15},\"zerolinecolor\":\"white\",\"automargin\":true,\"zerolinewidth\":2},\"scene\":{\"xaxis\":{\"backgroundcolor\":\"#E5ECF6\",\"gridcolor\":\"white\",\"linecolor\":\"white\",\"showbackground\":true,\"ticks\":\"\",\"zerolinecolor\":\"white\",\"gridwidth\":2},\"yaxis\":{\"backgroundcolor\":\"#E5ECF6\",\"gridcolor\":\"white\",\"linecolor\":\"white\",\"showbackground\":true,\"ticks\":\"\",\"zerolinecolor\":\"white\",\"gridwidth\":2},\"zaxis\":{\"backgroundcolor\":\"#E5ECF6\",\"gridcolor\":\"white\",\"linecolor\":\"white\",\"showbackground\":true,\"ticks\":\"\",\"zerolinecolor\":\"white\",\"gridwidth\":2}},\"shapedefaults\":{\"line\":{\"color\":\"#2a3f5f\"}},\"annotationdefaults\":{\"arrowcolor\":\"#2a3f5f\",\"arrowhead\":0,\"arrowwidth\":1},\"geo\":{\"bgcolor\":\"white\",\"landcolor\":\"#E5ECF6\",\"subunitcolor\":\"white\",\"showland\":true,\"showlakes\":true,\"lakecolor\":\"white\"},\"title\":{\"x\":0.05},\"mapbox\":{\"style\":\"light\"}}}},                        {\"responsive\": true}                    ).then(function(){\n",
              "                            \n",
              "var gd = document.getElementById('affa84da-d4ef-4542-97e5-20e4cfd8d817');\n",
              "var x = new MutationObserver(function (mutations, observer) {{\n",
              "        var display = window.getComputedStyle(gd).display;\n",
              "        if (!display || display === 'none') {{\n",
              "            console.log([gd, 'removed!']);\n",
              "            Plotly.purge(gd);\n",
              "            observer.disconnect();\n",
              "        }}\n",
              "}});\n",
              "\n",
              "// Listen for the removal of the full notebook cells\n",
              "var notebookContainer = gd.closest('#notebook-container');\n",
              "if (notebookContainer) {{\n",
              "    x.observe(notebookContainer, {childList: true});\n",
              "}}\n",
              "\n",
              "// Listen for the clearing of the current output cell\n",
              "var outputEl = gd.closest('.output');\n",
              "if (outputEl) {{\n",
              "    x.observe(outputEl, {childList: true});\n",
              "}}\n",
              "\n",
              "                        })                };                            </script>        </div>\n",
              "</body>\n",
              "</html>"
            ]
          },
          "metadata": {}
        },
        {
          "output_type": "stream",
          "name": "stderr",
          "text": [
            "[W 2023-06-02 10:35:30,403] Your study has only completed trials with missing parameters.\n",
            "<ipython-input-37-0c79a7da1449>:44: FutureWarning:\n",
            "\n",
            "suggest_loguniform has been deprecated in v3.0.0. This feature will be removed in v6.0.0. See https://github.com/optuna/optuna/releases/tag/v3.0.0. Use suggest_float(..., log=True) instead.\n",
            "\n",
            "<ipython-input-37-0c79a7da1449>:73: FutureWarning:\n",
            "\n",
            "suggest_uniform has been deprecated in v3.0.0. This feature will be removed in v6.0.0. See https://github.com/optuna/optuna/releases/tag/v3.0.0. Use suggest_float instead.\n",
            "\n",
            "<ipython-input-37-0c79a7da1449>:76: FutureWarning:\n",
            "\n",
            "suggest_uniform has been deprecated in v3.0.0. This feature will be removed in v6.0.0. See https://github.com/optuna/optuna/releases/tag/v3.0.0. Use suggest_float instead.\n",
            "\n",
            "<ipython-input-37-0c79a7da1449>:149: FutureWarning:\n",
            "\n",
            "suggest_loguniform has been deprecated in v3.0.0. This feature will be removed in v6.0.0. See https://github.com/optuna/optuna/releases/tag/v3.0.0. Use suggest_float(..., log=True) instead.\n",
            "\n",
            "<ipython-input-37-0c79a7da1449>:150: FutureWarning:\n",
            "\n",
            "suggest_uniform has been deprecated in v3.0.0. This feature will be removed in v6.0.0. See https://github.com/optuna/optuna/releases/tag/v3.0.0. Use suggest_float instead.\n",
            "\n",
            "<ipython-input-37-0c79a7da1449>:151: FutureWarning:\n",
            "\n",
            "suggest_uniform has been deprecated in v3.0.0. This feature will be removed in v6.0.0. See https://github.com/optuna/optuna/releases/tag/v3.0.0. Use suggest_float instead.\n",
            "\n",
            "<ipython-input-37-0c79a7da1449>:178: FutureWarning:\n",
            "\n",
            "suggest_uniform has been deprecated in v3.0.0. This feature will be removed in v6.0.0. See https://github.com/optuna/optuna/releases/tag/v3.0.0. Use suggest_float instead.\n",
            "\n",
            "<ipython-input-37-0c79a7da1449>:180: FutureWarning:\n",
            "\n",
            "suggest_loguniform has been deprecated in v3.0.0. This feature will be removed in v6.0.0. See https://github.com/optuna/optuna/releases/tag/v3.0.0. Use suggest_float(..., log=True) instead.\n",
            "\n",
            "[I 2023-06-02 10:35:38,624] Trial 5 pruned. \n"
          ]
        },
        {
          "output_type": "stream",
          "name": "stdout",
          "text": [
            "Epoch 1/87.. Train loss: 8.305.. Val loss: 3.868.. Train L1 norm: 13.061.. Val L1 norm: 4.744.. Train Linf norm: 561.395.. Val Linf norm: 142.742\n"
          ]
        },
        {
          "output_type": "display_data",
          "data": {
            "text/html": [
              "<html>\n",
              "<head><meta charset=\"utf-8\" /></head>\n",
              "<body>\n",
              "    <div>            <script src=\"https://cdnjs.cloudflare.com/ajax/libs/mathjax/2.7.5/MathJax.js?config=TeX-AMS-MML_SVG\"></script><script type=\"text/javascript\">if (window.MathJax && window.MathJax.Hub && window.MathJax.Hub.Config) {window.MathJax.Hub.Config({SVG: {font: \"STIX-Web\"}});}</script>                <script type=\"text/javascript\">window.PlotlyConfig = {MathJaxConfig: 'local'};</script>\n",
              "        <script src=\"https://cdn.plot.ly/plotly-2.18.2.min.js\"></script>                <div id=\"7d78ffda-639f-45b8-a894-52064e1df3d7\" class=\"plotly-graph-div\" style=\"height:525px; width:100%;\"></div>            <script type=\"text/javascript\">                                    window.PLOTLYENV=window.PLOTLYENV || {};                                    if (document.getElementById(\"7d78ffda-639f-45b8-a894-52064e1df3d7\")) {                    Plotly.newPlot(                        \"7d78ffda-639f-45b8-a894-52064e1df3d7\",                        [{\"mode\":\"markers\",\"name\":\"Objective Value\",\"x\":[0,1,2,3,4],\"y\":[361840040821304.0,4.148916990661621,3.616880493545532,2.6828094604492185,3.90576324412028],\"type\":\"scatter\"},{\"name\":\"Best Value\",\"x\":[0,1,2,3,4],\"y\":[361840040821304.0,4.148916990661621,3.616880493545532,2.6828094604492185,2.6828094604492185],\"type\":\"scatter\"}],                        {\"title\":{\"text\":\"Optimization History Plot\"},\"xaxis\":{\"title\":{\"text\":\"Trial\"}},\"yaxis\":{\"title\":{\"text\":\"Objective Value\"}},\"template\":{\"data\":{\"histogram2dcontour\":[{\"type\":\"histogram2dcontour\",\"colorbar\":{\"outlinewidth\":0,\"ticks\":\"\"},\"colorscale\":[[0.0,\"#0d0887\"],[0.1111111111111111,\"#46039f\"],[0.2222222222222222,\"#7201a8\"],[0.3333333333333333,\"#9c179e\"],[0.4444444444444444,\"#bd3786\"],[0.5555555555555556,\"#d8576b\"],[0.6666666666666666,\"#ed7953\"],[0.7777777777777778,\"#fb9f3a\"],[0.8888888888888888,\"#fdca26\"],[1.0,\"#f0f921\"]]}],\"choropleth\":[{\"type\":\"choropleth\",\"colorbar\":{\"outlinewidth\":0,\"ticks\":\"\"}}],\"histogram2d\":[{\"type\":\"histogram2d\",\"colorbar\":{\"outlinewidth\":0,\"ticks\":\"\"},\"colorscale\":[[0.0,\"#0d0887\"],[0.1111111111111111,\"#46039f\"],[0.2222222222222222,\"#7201a8\"],[0.3333333333333333,\"#9c179e\"],[0.4444444444444444,\"#bd3786\"],[0.5555555555555556,\"#d8576b\"],[0.6666666666666666,\"#ed7953\"],[0.7777777777777778,\"#fb9f3a\"],[0.8888888888888888,\"#fdca26\"],[1.0,\"#f0f921\"]]}],\"heatmap\":[{\"type\":\"heatmap\",\"colorbar\":{\"outlinewidth\":0,\"ticks\":\"\"},\"colorscale\":[[0.0,\"#0d0887\"],[0.1111111111111111,\"#46039f\"],[0.2222222222222222,\"#7201a8\"],[0.3333333333333333,\"#9c179e\"],[0.4444444444444444,\"#bd3786\"],[0.5555555555555556,\"#d8576b\"],[0.6666666666666666,\"#ed7953\"],[0.7777777777777778,\"#fb9f3a\"],[0.8888888888888888,\"#fdca26\"],[1.0,\"#f0f921\"]]}],\"heatmapgl\":[{\"type\":\"heatmapgl\",\"colorbar\":{\"outlinewidth\":0,\"ticks\":\"\"},\"colorscale\":[[0.0,\"#0d0887\"],[0.1111111111111111,\"#46039f\"],[0.2222222222222222,\"#7201a8\"],[0.3333333333333333,\"#9c179e\"],[0.4444444444444444,\"#bd3786\"],[0.5555555555555556,\"#d8576b\"],[0.6666666666666666,\"#ed7953\"],[0.7777777777777778,\"#fb9f3a\"],[0.8888888888888888,\"#fdca26\"],[1.0,\"#f0f921\"]]}],\"contourcarpet\":[{\"type\":\"contourcarpet\",\"colorbar\":{\"outlinewidth\":0,\"ticks\":\"\"}}],\"contour\":[{\"type\":\"contour\",\"colorbar\":{\"outlinewidth\":0,\"ticks\":\"\"},\"colorscale\":[[0.0,\"#0d0887\"],[0.1111111111111111,\"#46039f\"],[0.2222222222222222,\"#7201a8\"],[0.3333333333333333,\"#9c179e\"],[0.4444444444444444,\"#bd3786\"],[0.5555555555555556,\"#d8576b\"],[0.6666666666666666,\"#ed7953\"],[0.7777777777777778,\"#fb9f3a\"],[0.8888888888888888,\"#fdca26\"],[1.0,\"#f0f921\"]]}],\"surface\":[{\"type\":\"surface\",\"colorbar\":{\"outlinewidth\":0,\"ticks\":\"\"},\"colorscale\":[[0.0,\"#0d0887\"],[0.1111111111111111,\"#46039f\"],[0.2222222222222222,\"#7201a8\"],[0.3333333333333333,\"#9c179e\"],[0.4444444444444444,\"#bd3786\"],[0.5555555555555556,\"#d8576b\"],[0.6666666666666666,\"#ed7953\"],[0.7777777777777778,\"#fb9f3a\"],[0.8888888888888888,\"#fdca26\"],[1.0,\"#f0f921\"]]}],\"mesh3d\":[{\"type\":\"mesh3d\",\"colorbar\":{\"outlinewidth\":0,\"ticks\":\"\"}}],\"scatter\":[{\"fillpattern\":{\"fillmode\":\"overlay\",\"size\":10,\"solidity\":0.2},\"type\":\"scatter\"}],\"parcoords\":[{\"type\":\"parcoords\",\"line\":{\"colorbar\":{\"outlinewidth\":0,\"ticks\":\"\"}}}],\"scatterpolargl\":[{\"type\":\"scatterpolargl\",\"marker\":{\"colorbar\":{\"outlinewidth\":0,\"ticks\":\"\"}}}],\"bar\":[{\"error_x\":{\"color\":\"#2a3f5f\"},\"error_y\":{\"color\":\"#2a3f5f\"},\"marker\":{\"line\":{\"color\":\"#E5ECF6\",\"width\":0.5},\"pattern\":{\"fillmode\":\"overlay\",\"size\":10,\"solidity\":0.2}},\"type\":\"bar\"}],\"scattergeo\":[{\"type\":\"scattergeo\",\"marker\":{\"colorbar\":{\"outlinewidth\":0,\"ticks\":\"\"}}}],\"scatterpolar\":[{\"type\":\"scatterpolar\",\"marker\":{\"colorbar\":{\"outlinewidth\":0,\"ticks\":\"\"}}}],\"histogram\":[{\"marker\":{\"pattern\":{\"fillmode\":\"overlay\",\"size\":10,\"solidity\":0.2}},\"type\":\"histogram\"}],\"scattergl\":[{\"type\":\"scattergl\",\"marker\":{\"colorbar\":{\"outlinewidth\":0,\"ticks\":\"\"}}}],\"scatter3d\":[{\"type\":\"scatter3d\",\"line\":{\"colorbar\":{\"outlinewidth\":0,\"ticks\":\"\"}},\"marker\":{\"colorbar\":{\"outlinewidth\":0,\"ticks\":\"\"}}}],\"scattermapbox\":[{\"type\":\"scattermapbox\",\"marker\":{\"colorbar\":{\"outlinewidth\":0,\"ticks\":\"\"}}}],\"scatterternary\":[{\"type\":\"scatterternary\",\"marker\":{\"colorbar\":{\"outlinewidth\":0,\"ticks\":\"\"}}}],\"scattercarpet\":[{\"type\":\"scattercarpet\",\"marker\":{\"colorbar\":{\"outlinewidth\":0,\"ticks\":\"\"}}}],\"carpet\":[{\"aaxis\":{\"endlinecolor\":\"#2a3f5f\",\"gridcolor\":\"white\",\"linecolor\":\"white\",\"minorgridcolor\":\"white\",\"startlinecolor\":\"#2a3f5f\"},\"baxis\":{\"endlinecolor\":\"#2a3f5f\",\"gridcolor\":\"white\",\"linecolor\":\"white\",\"minorgridcolor\":\"white\",\"startlinecolor\":\"#2a3f5f\"},\"type\":\"carpet\"}],\"table\":[{\"cells\":{\"fill\":{\"color\":\"#EBF0F8\"},\"line\":{\"color\":\"white\"}},\"header\":{\"fill\":{\"color\":\"#C8D4E3\"},\"line\":{\"color\":\"white\"}},\"type\":\"table\"}],\"barpolar\":[{\"marker\":{\"line\":{\"color\":\"#E5ECF6\",\"width\":0.5},\"pattern\":{\"fillmode\":\"overlay\",\"size\":10,\"solidity\":0.2}},\"type\":\"barpolar\"}],\"pie\":[{\"automargin\":true,\"type\":\"pie\"}]},\"layout\":{\"autotypenumbers\":\"strict\",\"colorway\":[\"#636efa\",\"#EF553B\",\"#00cc96\",\"#ab63fa\",\"#FFA15A\",\"#19d3f3\",\"#FF6692\",\"#B6E880\",\"#FF97FF\",\"#FECB52\"],\"font\":{\"color\":\"#2a3f5f\"},\"hovermode\":\"closest\",\"hoverlabel\":{\"align\":\"left\"},\"paper_bgcolor\":\"white\",\"plot_bgcolor\":\"#E5ECF6\",\"polar\":{\"bgcolor\":\"#E5ECF6\",\"angularaxis\":{\"gridcolor\":\"white\",\"linecolor\":\"white\",\"ticks\":\"\"},\"radialaxis\":{\"gridcolor\":\"white\",\"linecolor\":\"white\",\"ticks\":\"\"}},\"ternary\":{\"bgcolor\":\"#E5ECF6\",\"aaxis\":{\"gridcolor\":\"white\",\"linecolor\":\"white\",\"ticks\":\"\"},\"baxis\":{\"gridcolor\":\"white\",\"linecolor\":\"white\",\"ticks\":\"\"},\"caxis\":{\"gridcolor\":\"white\",\"linecolor\":\"white\",\"ticks\":\"\"}},\"coloraxis\":{\"colorbar\":{\"outlinewidth\":0,\"ticks\":\"\"}},\"colorscale\":{\"sequential\":[[0.0,\"#0d0887\"],[0.1111111111111111,\"#46039f\"],[0.2222222222222222,\"#7201a8\"],[0.3333333333333333,\"#9c179e\"],[0.4444444444444444,\"#bd3786\"],[0.5555555555555556,\"#d8576b\"],[0.6666666666666666,\"#ed7953\"],[0.7777777777777778,\"#fb9f3a\"],[0.8888888888888888,\"#fdca26\"],[1.0,\"#f0f921\"]],\"sequentialminus\":[[0.0,\"#0d0887\"],[0.1111111111111111,\"#46039f\"],[0.2222222222222222,\"#7201a8\"],[0.3333333333333333,\"#9c179e\"],[0.4444444444444444,\"#bd3786\"],[0.5555555555555556,\"#d8576b\"],[0.6666666666666666,\"#ed7953\"],[0.7777777777777778,\"#fb9f3a\"],[0.8888888888888888,\"#fdca26\"],[1.0,\"#f0f921\"]],\"diverging\":[[0,\"#8e0152\"],[0.1,\"#c51b7d\"],[0.2,\"#de77ae\"],[0.3,\"#f1b6da\"],[0.4,\"#fde0ef\"],[0.5,\"#f7f7f7\"],[0.6,\"#e6f5d0\"],[0.7,\"#b8e186\"],[0.8,\"#7fbc41\"],[0.9,\"#4d9221\"],[1,\"#276419\"]]},\"xaxis\":{\"gridcolor\":\"white\",\"linecolor\":\"white\",\"ticks\":\"\",\"title\":{\"standoff\":15},\"zerolinecolor\":\"white\",\"automargin\":true,\"zerolinewidth\":2},\"yaxis\":{\"gridcolor\":\"white\",\"linecolor\":\"white\",\"ticks\":\"\",\"title\":{\"standoff\":15},\"zerolinecolor\":\"white\",\"automargin\":true,\"zerolinewidth\":2},\"scene\":{\"xaxis\":{\"backgroundcolor\":\"#E5ECF6\",\"gridcolor\":\"white\",\"linecolor\":\"white\",\"showbackground\":true,\"ticks\":\"\",\"zerolinecolor\":\"white\",\"gridwidth\":2},\"yaxis\":{\"backgroundcolor\":\"#E5ECF6\",\"gridcolor\":\"white\",\"linecolor\":\"white\",\"showbackground\":true,\"ticks\":\"\",\"zerolinecolor\":\"white\",\"gridwidth\":2},\"zaxis\":{\"backgroundcolor\":\"#E5ECF6\",\"gridcolor\":\"white\",\"linecolor\":\"white\",\"showbackground\":true,\"ticks\":\"\",\"zerolinecolor\":\"white\",\"gridwidth\":2}},\"shapedefaults\":{\"line\":{\"color\":\"#2a3f5f\"}},\"annotationdefaults\":{\"arrowcolor\":\"#2a3f5f\",\"arrowhead\":0,\"arrowwidth\":1},\"geo\":{\"bgcolor\":\"white\",\"landcolor\":\"#E5ECF6\",\"subunitcolor\":\"white\",\"showland\":true,\"showlakes\":true,\"lakecolor\":\"white\"},\"title\":{\"x\":0.05},\"mapbox\":{\"style\":\"light\"}}}},                        {\"responsive\": true}                    ).then(function(){\n",
              "                            \n",
              "var gd = document.getElementById('7d78ffda-639f-45b8-a894-52064e1df3d7');\n",
              "var x = new MutationObserver(function (mutations, observer) {{\n",
              "        var display = window.getComputedStyle(gd).display;\n",
              "        if (!display || display === 'none') {{\n",
              "            console.log([gd, 'removed!']);\n",
              "            Plotly.purge(gd);\n",
              "            observer.disconnect();\n",
              "        }}\n",
              "}});\n",
              "\n",
              "// Listen for the removal of the full notebook cells\n",
              "var notebookContainer = gd.closest('#notebook-container');\n",
              "if (notebookContainer) {{\n",
              "    x.observe(notebookContainer, {childList: true});\n",
              "}}\n",
              "\n",
              "// Listen for the clearing of the current output cell\n",
              "var outputEl = gd.closest('.output');\n",
              "if (outputEl) {{\n",
              "    x.observe(outputEl, {childList: true});\n",
              "}}\n",
              "\n",
              "                        })                };                            </script>        </div>\n",
              "</body>\n",
              "</html>"
            ]
          },
          "metadata": {}
        },
        {
          "output_type": "stream",
          "name": "stderr",
          "text": [
            "[W 2023-06-02 10:35:39,038] Your study has only completed trials with missing parameters.\n",
            "<ipython-input-37-0c79a7da1449>:44: FutureWarning:\n",
            "\n",
            "suggest_loguniform has been deprecated in v3.0.0. This feature will be removed in v6.0.0. See https://github.com/optuna/optuna/releases/tag/v3.0.0. Use suggest_float(..., log=True) instead.\n",
            "\n",
            "<ipython-input-37-0c79a7da1449>:76: FutureWarning:\n",
            "\n",
            "suggest_uniform has been deprecated in v3.0.0. This feature will be removed in v6.0.0. See https://github.com/optuna/optuna/releases/tag/v3.0.0. Use suggest_float instead.\n",
            "\n",
            "<ipython-input-37-0c79a7da1449>:178: FutureWarning:\n",
            "\n",
            "suggest_uniform has been deprecated in v3.0.0. This feature will be removed in v6.0.0. See https://github.com/optuna/optuna/releases/tag/v3.0.0. Use suggest_float instead.\n",
            "\n",
            "<ipython-input-37-0c79a7da1449>:180: FutureWarning:\n",
            "\n",
            "suggest_loguniform has been deprecated in v3.0.0. This feature will be removed in v6.0.0. See https://github.com/optuna/optuna/releases/tag/v3.0.0. Use suggest_float(..., log=True) instead.\n",
            "\n",
            "[I 2023-06-02 10:35:44,613] Trial 6 pruned. \n"
          ]
        },
        {
          "output_type": "stream",
          "name": "stdout",
          "text": [
            "Epoch 1/132.. Train loss: 77524576403046384.000.. Val loss: 2.153.. Train L1 norm: 95941166388950000.000.. Val L1 norm: 4.121.. Train Linf norm: 4948821833649870848.000.. Val Linf norm: 308.805\n"
          ]
        },
        {
          "output_type": "display_data",
          "data": {
            "text/html": [
              "<html>\n",
              "<head><meta charset=\"utf-8\" /></head>\n",
              "<body>\n",
              "    <div>            <script src=\"https://cdnjs.cloudflare.com/ajax/libs/mathjax/2.7.5/MathJax.js?config=TeX-AMS-MML_SVG\"></script><script type=\"text/javascript\">if (window.MathJax && window.MathJax.Hub && window.MathJax.Hub.Config) {window.MathJax.Hub.Config({SVG: {font: \"STIX-Web\"}});}</script>                <script type=\"text/javascript\">window.PlotlyConfig = {MathJaxConfig: 'local'};</script>\n",
              "        <script src=\"https://cdn.plot.ly/plotly-2.18.2.min.js\"></script>                <div id=\"69f13605-926f-4cb0-bd3b-efa8f229c31b\" class=\"plotly-graph-div\" style=\"height:525px; width:100%;\"></div>            <script type=\"text/javascript\">                                    window.PLOTLYENV=window.PLOTLYENV || {};                                    if (document.getElementById(\"69f13605-926f-4cb0-bd3b-efa8f229c31b\")) {                    Plotly.newPlot(                        \"69f13605-926f-4cb0-bd3b-efa8f229c31b\",                        [{\"mode\":\"markers\",\"name\":\"Objective Value\",\"x\":[0,1,2,3,4],\"y\":[361840040821304.0,4.148916990661621,3.616880493545532,2.6828094604492185,3.90576324412028],\"type\":\"scatter\"},{\"name\":\"Best Value\",\"x\":[0,1,2,3,4],\"y\":[361840040821304.0,4.148916990661621,3.616880493545532,2.6828094604492185,2.6828094604492185],\"type\":\"scatter\"}],                        {\"title\":{\"text\":\"Optimization History Plot\"},\"xaxis\":{\"title\":{\"text\":\"Trial\"}},\"yaxis\":{\"title\":{\"text\":\"Objective Value\"}},\"template\":{\"data\":{\"histogram2dcontour\":[{\"type\":\"histogram2dcontour\",\"colorbar\":{\"outlinewidth\":0,\"ticks\":\"\"},\"colorscale\":[[0.0,\"#0d0887\"],[0.1111111111111111,\"#46039f\"],[0.2222222222222222,\"#7201a8\"],[0.3333333333333333,\"#9c179e\"],[0.4444444444444444,\"#bd3786\"],[0.5555555555555556,\"#d8576b\"],[0.6666666666666666,\"#ed7953\"],[0.7777777777777778,\"#fb9f3a\"],[0.8888888888888888,\"#fdca26\"],[1.0,\"#f0f921\"]]}],\"choropleth\":[{\"type\":\"choropleth\",\"colorbar\":{\"outlinewidth\":0,\"ticks\":\"\"}}],\"histogram2d\":[{\"type\":\"histogram2d\",\"colorbar\":{\"outlinewidth\":0,\"ticks\":\"\"},\"colorscale\":[[0.0,\"#0d0887\"],[0.1111111111111111,\"#46039f\"],[0.2222222222222222,\"#7201a8\"],[0.3333333333333333,\"#9c179e\"],[0.4444444444444444,\"#bd3786\"],[0.5555555555555556,\"#d8576b\"],[0.6666666666666666,\"#ed7953\"],[0.7777777777777778,\"#fb9f3a\"],[0.8888888888888888,\"#fdca26\"],[1.0,\"#f0f921\"]]}],\"heatmap\":[{\"type\":\"heatmap\",\"colorbar\":{\"outlinewidth\":0,\"ticks\":\"\"},\"colorscale\":[[0.0,\"#0d0887\"],[0.1111111111111111,\"#46039f\"],[0.2222222222222222,\"#7201a8\"],[0.3333333333333333,\"#9c179e\"],[0.4444444444444444,\"#bd3786\"],[0.5555555555555556,\"#d8576b\"],[0.6666666666666666,\"#ed7953\"],[0.7777777777777778,\"#fb9f3a\"],[0.8888888888888888,\"#fdca26\"],[1.0,\"#f0f921\"]]}],\"heatmapgl\":[{\"type\":\"heatmapgl\",\"colorbar\":{\"outlinewidth\":0,\"ticks\":\"\"},\"colorscale\":[[0.0,\"#0d0887\"],[0.1111111111111111,\"#46039f\"],[0.2222222222222222,\"#7201a8\"],[0.3333333333333333,\"#9c179e\"],[0.4444444444444444,\"#bd3786\"],[0.5555555555555556,\"#d8576b\"],[0.6666666666666666,\"#ed7953\"],[0.7777777777777778,\"#fb9f3a\"],[0.8888888888888888,\"#fdca26\"],[1.0,\"#f0f921\"]]}],\"contourcarpet\":[{\"type\":\"contourcarpet\",\"colorbar\":{\"outlinewidth\":0,\"ticks\":\"\"}}],\"contour\":[{\"type\":\"contour\",\"colorbar\":{\"outlinewidth\":0,\"ticks\":\"\"},\"colorscale\":[[0.0,\"#0d0887\"],[0.1111111111111111,\"#46039f\"],[0.2222222222222222,\"#7201a8\"],[0.3333333333333333,\"#9c179e\"],[0.4444444444444444,\"#bd3786\"],[0.5555555555555556,\"#d8576b\"],[0.6666666666666666,\"#ed7953\"],[0.7777777777777778,\"#fb9f3a\"],[0.8888888888888888,\"#fdca26\"],[1.0,\"#f0f921\"]]}],\"surface\":[{\"type\":\"surface\",\"colorbar\":{\"outlinewidth\":0,\"ticks\":\"\"},\"colorscale\":[[0.0,\"#0d0887\"],[0.1111111111111111,\"#46039f\"],[0.2222222222222222,\"#7201a8\"],[0.3333333333333333,\"#9c179e\"],[0.4444444444444444,\"#bd3786\"],[0.5555555555555556,\"#d8576b\"],[0.6666666666666666,\"#ed7953\"],[0.7777777777777778,\"#fb9f3a\"],[0.8888888888888888,\"#fdca26\"],[1.0,\"#f0f921\"]]}],\"mesh3d\":[{\"type\":\"mesh3d\",\"colorbar\":{\"outlinewidth\":0,\"ticks\":\"\"}}],\"scatter\":[{\"fillpattern\":{\"fillmode\":\"overlay\",\"size\":10,\"solidity\":0.2},\"type\":\"scatter\"}],\"parcoords\":[{\"type\":\"parcoords\",\"line\":{\"colorbar\":{\"outlinewidth\":0,\"ticks\":\"\"}}}],\"scatterpolargl\":[{\"type\":\"scatterpolargl\",\"marker\":{\"colorbar\":{\"outlinewidth\":0,\"ticks\":\"\"}}}],\"bar\":[{\"error_x\":{\"color\":\"#2a3f5f\"},\"error_y\":{\"color\":\"#2a3f5f\"},\"marker\":{\"line\":{\"color\":\"#E5ECF6\",\"width\":0.5},\"pattern\":{\"fillmode\":\"overlay\",\"size\":10,\"solidity\":0.2}},\"type\":\"bar\"}],\"scattergeo\":[{\"type\":\"scattergeo\",\"marker\":{\"colorbar\":{\"outlinewidth\":0,\"ticks\":\"\"}}}],\"scatterpolar\":[{\"type\":\"scatterpolar\",\"marker\":{\"colorbar\":{\"outlinewidth\":0,\"ticks\":\"\"}}}],\"histogram\":[{\"marker\":{\"pattern\":{\"fillmode\":\"overlay\",\"size\":10,\"solidity\":0.2}},\"type\":\"histogram\"}],\"scattergl\":[{\"type\":\"scattergl\",\"marker\":{\"colorbar\":{\"outlinewidth\":0,\"ticks\":\"\"}}}],\"scatter3d\":[{\"type\":\"scatter3d\",\"line\":{\"colorbar\":{\"outlinewidth\":0,\"ticks\":\"\"}},\"marker\":{\"colorbar\":{\"outlinewidth\":0,\"ticks\":\"\"}}}],\"scattermapbox\":[{\"type\":\"scattermapbox\",\"marker\":{\"colorbar\":{\"outlinewidth\":0,\"ticks\":\"\"}}}],\"scatterternary\":[{\"type\":\"scatterternary\",\"marker\":{\"colorbar\":{\"outlinewidth\":0,\"ticks\":\"\"}}}],\"scattercarpet\":[{\"type\":\"scattercarpet\",\"marker\":{\"colorbar\":{\"outlinewidth\":0,\"ticks\":\"\"}}}],\"carpet\":[{\"aaxis\":{\"endlinecolor\":\"#2a3f5f\",\"gridcolor\":\"white\",\"linecolor\":\"white\",\"minorgridcolor\":\"white\",\"startlinecolor\":\"#2a3f5f\"},\"baxis\":{\"endlinecolor\":\"#2a3f5f\",\"gridcolor\":\"white\",\"linecolor\":\"white\",\"minorgridcolor\":\"white\",\"startlinecolor\":\"#2a3f5f\"},\"type\":\"carpet\"}],\"table\":[{\"cells\":{\"fill\":{\"color\":\"#EBF0F8\"},\"line\":{\"color\":\"white\"}},\"header\":{\"fill\":{\"color\":\"#C8D4E3\"},\"line\":{\"color\":\"white\"}},\"type\":\"table\"}],\"barpolar\":[{\"marker\":{\"line\":{\"color\":\"#E5ECF6\",\"width\":0.5},\"pattern\":{\"fillmode\":\"overlay\",\"size\":10,\"solidity\":0.2}},\"type\":\"barpolar\"}],\"pie\":[{\"automargin\":true,\"type\":\"pie\"}]},\"layout\":{\"autotypenumbers\":\"strict\",\"colorway\":[\"#636efa\",\"#EF553B\",\"#00cc96\",\"#ab63fa\",\"#FFA15A\",\"#19d3f3\",\"#FF6692\",\"#B6E880\",\"#FF97FF\",\"#FECB52\"],\"font\":{\"color\":\"#2a3f5f\"},\"hovermode\":\"closest\",\"hoverlabel\":{\"align\":\"left\"},\"paper_bgcolor\":\"white\",\"plot_bgcolor\":\"#E5ECF6\",\"polar\":{\"bgcolor\":\"#E5ECF6\",\"angularaxis\":{\"gridcolor\":\"white\",\"linecolor\":\"white\",\"ticks\":\"\"},\"radialaxis\":{\"gridcolor\":\"white\",\"linecolor\":\"white\",\"ticks\":\"\"}},\"ternary\":{\"bgcolor\":\"#E5ECF6\",\"aaxis\":{\"gridcolor\":\"white\",\"linecolor\":\"white\",\"ticks\":\"\"},\"baxis\":{\"gridcolor\":\"white\",\"linecolor\":\"white\",\"ticks\":\"\"},\"caxis\":{\"gridcolor\":\"white\",\"linecolor\":\"white\",\"ticks\":\"\"}},\"coloraxis\":{\"colorbar\":{\"outlinewidth\":0,\"ticks\":\"\"}},\"colorscale\":{\"sequential\":[[0.0,\"#0d0887\"],[0.1111111111111111,\"#46039f\"],[0.2222222222222222,\"#7201a8\"],[0.3333333333333333,\"#9c179e\"],[0.4444444444444444,\"#bd3786\"],[0.5555555555555556,\"#d8576b\"],[0.6666666666666666,\"#ed7953\"],[0.7777777777777778,\"#fb9f3a\"],[0.8888888888888888,\"#fdca26\"],[1.0,\"#f0f921\"]],\"sequentialminus\":[[0.0,\"#0d0887\"],[0.1111111111111111,\"#46039f\"],[0.2222222222222222,\"#7201a8\"],[0.3333333333333333,\"#9c179e\"],[0.4444444444444444,\"#bd3786\"],[0.5555555555555556,\"#d8576b\"],[0.6666666666666666,\"#ed7953\"],[0.7777777777777778,\"#fb9f3a\"],[0.8888888888888888,\"#fdca26\"],[1.0,\"#f0f921\"]],\"diverging\":[[0,\"#8e0152\"],[0.1,\"#c51b7d\"],[0.2,\"#de77ae\"],[0.3,\"#f1b6da\"],[0.4,\"#fde0ef\"],[0.5,\"#f7f7f7\"],[0.6,\"#e6f5d0\"],[0.7,\"#b8e186\"],[0.8,\"#7fbc41\"],[0.9,\"#4d9221\"],[1,\"#276419\"]]},\"xaxis\":{\"gridcolor\":\"white\",\"linecolor\":\"white\",\"ticks\":\"\",\"title\":{\"standoff\":15},\"zerolinecolor\":\"white\",\"automargin\":true,\"zerolinewidth\":2},\"yaxis\":{\"gridcolor\":\"white\",\"linecolor\":\"white\",\"ticks\":\"\",\"title\":{\"standoff\":15},\"zerolinecolor\":\"white\",\"automargin\":true,\"zerolinewidth\":2},\"scene\":{\"xaxis\":{\"backgroundcolor\":\"#E5ECF6\",\"gridcolor\":\"white\",\"linecolor\":\"white\",\"showbackground\":true,\"ticks\":\"\",\"zerolinecolor\":\"white\",\"gridwidth\":2},\"yaxis\":{\"backgroundcolor\":\"#E5ECF6\",\"gridcolor\":\"white\",\"linecolor\":\"white\",\"showbackground\":true,\"ticks\":\"\",\"zerolinecolor\":\"white\",\"gridwidth\":2},\"zaxis\":{\"backgroundcolor\":\"#E5ECF6\",\"gridcolor\":\"white\",\"linecolor\":\"white\",\"showbackground\":true,\"ticks\":\"\",\"zerolinecolor\":\"white\",\"gridwidth\":2}},\"shapedefaults\":{\"line\":{\"color\":\"#2a3f5f\"}},\"annotationdefaults\":{\"arrowcolor\":\"#2a3f5f\",\"arrowhead\":0,\"arrowwidth\":1},\"geo\":{\"bgcolor\":\"white\",\"landcolor\":\"#E5ECF6\",\"subunitcolor\":\"white\",\"showland\":true,\"showlakes\":true,\"lakecolor\":\"white\"},\"title\":{\"x\":0.05},\"mapbox\":{\"style\":\"light\"}}}},                        {\"responsive\": true}                    ).then(function(){\n",
              "                            \n",
              "var gd = document.getElementById('69f13605-926f-4cb0-bd3b-efa8f229c31b');\n",
              "var x = new MutationObserver(function (mutations, observer) {{\n",
              "        var display = window.getComputedStyle(gd).display;\n",
              "        if (!display || display === 'none') {{\n",
              "            console.log([gd, 'removed!']);\n",
              "            Plotly.purge(gd);\n",
              "            observer.disconnect();\n",
              "        }}\n",
              "}});\n",
              "\n",
              "// Listen for the removal of the full notebook cells\n",
              "var notebookContainer = gd.closest('#notebook-container');\n",
              "if (notebookContainer) {{\n",
              "    x.observe(notebookContainer, {childList: true});\n",
              "}}\n",
              "\n",
              "// Listen for the clearing of the current output cell\n",
              "var outputEl = gd.closest('.output');\n",
              "if (outputEl) {{\n",
              "    x.observe(outputEl, {childList: true});\n",
              "}}\n",
              "\n",
              "                        })                };                            </script>        </div>\n",
              "</body>\n",
              "</html>"
            ]
          },
          "metadata": {}
        },
        {
          "output_type": "stream",
          "name": "stderr",
          "text": [
            "[W 2023-06-02 10:35:45,030] Your study has only completed trials with missing parameters.\n",
            "<ipython-input-37-0c79a7da1449>:44: FutureWarning:\n",
            "\n",
            "suggest_loguniform has been deprecated in v3.0.0. This feature will be removed in v6.0.0. See https://github.com/optuna/optuna/releases/tag/v3.0.0. Use suggest_float(..., log=True) instead.\n",
            "\n",
            "<ipython-input-37-0c79a7da1449>:76: FutureWarning:\n",
            "\n",
            "suggest_uniform has been deprecated in v3.0.0. This feature will be removed in v6.0.0. See https://github.com/optuna/optuna/releases/tag/v3.0.0. Use suggest_float instead.\n",
            "\n",
            "<ipython-input-37-0c79a7da1449>:178: FutureWarning:\n",
            "\n",
            "suggest_uniform has been deprecated in v3.0.0. This feature will be removed in v6.0.0. See https://github.com/optuna/optuna/releases/tag/v3.0.0. Use suggest_float instead.\n",
            "\n",
            "<ipython-input-37-0c79a7da1449>:180: FutureWarning:\n",
            "\n",
            "suggest_loguniform has been deprecated in v3.0.0. This feature will be removed in v6.0.0. See https://github.com/optuna/optuna/releases/tag/v3.0.0. Use suggest_float(..., log=True) instead.\n",
            "\n"
          ]
        },
        {
          "output_type": "stream",
          "name": "stdout",
          "text": [
            "Epoch 1/52.. Train loss: 12190.000.. Val loss: 4.780.. Train L1 norm: 7192.575.. Val L1 norm: 2.589.. Train Linf norm: 248140.648.. Val Linf norm: 179.694\n",
            "Epoch 2/52.. Train loss: 7.101.. Val loss: 4.856.. Train L1 norm: 5.065.. Val L1 norm: 1.262.. Train Linf norm: 504.413.. Val Linf norm: 40.820\n",
            "Epoch 3/52.. Train loss: 4.667.. Val loss: 4.682.. Train L1 norm: 3.003.. Val L1 norm: 2.172.. Train Linf norm: 283.653.. Val Linf norm: 139.343\n",
            "Epoch 4/52.. Train loss: 8.924.. Val loss: 8.047.. Train L1 norm: 5.492.. Val L1 norm: 2.430.. Train Linf norm: 511.861.. Val Linf norm: 135.195\n",
            "Epoch 5/52.. Train loss: 4.518.. Val loss: 3.987.. Train L1 norm: 4.479.. Val L1 norm: 3.610.. Train Linf norm: 541.432.. Val Linf norm: 275.324\n",
            "Epoch 6/52.. Train loss: 4.701.. Val loss: 4.101.. Train L1 norm: 4.856.. Val L1 norm: 3.460.. Train Linf norm: 517.140.. Val Linf norm: 259.280\n",
            "Epoch 7/52.. Train loss: 3.887.. Val loss: 3.881.. Train L1 norm: 4.799.. Val L1 norm: 2.821.. Train Linf norm: 591.881.. Val Linf norm: 215.462\n",
            "Epoch 8/52.. Train loss: 4.385.. Val loss: 3.736.. Train L1 norm: 4.796.. Val L1 norm: 3.522.. Train Linf norm: 605.480.. Val Linf norm: 276.223\n",
            "Epoch 9/52.. Train loss: 3.660.. Val loss: 3.421.. Train L1 norm: 4.320.. Val L1 norm: 4.011.. Train Linf norm: 501.457.. Val Linf norm: 320.201\n",
            "Epoch 10/52.. Train loss: 3.383.. Val loss: 3.141.. Train L1 norm: 3.944.. Val L1 norm: 2.872.. Train Linf norm: 469.281.. Val Linf norm: 227.866\n",
            "Epoch 11/52.. Train loss: 3.123.. Val loss: 2.947.. Train L1 norm: 3.623.. Val L1 norm: 2.547.. Train Linf norm: 434.916.. Val Linf norm: 200.294\n",
            "Epoch 12/52.. Train loss: 2.943.. Val loss: 2.974.. Train L1 norm: 3.300.. Val L1 norm: 1.805.. Train Linf norm: 384.062.. Val Linf norm: 129.516\n",
            "Epoch 13/52.. Train loss: 2.789.. Val loss: 2.850.. Train L1 norm: 3.283.. Val L1 norm: 3.604.. Train Linf norm: 406.493.. Val Linf norm: 297.333\n",
            "Epoch 14/52.. Train loss: 2.636.. Val loss: 2.775.. Train L1 norm: 3.634.. Val L1 norm: 3.422.. Train Linf norm: 516.534.. Val Linf norm: 278.336\n",
            "Epoch 15/52.. Train loss: 2.572.. Val loss: 2.563.. Train L1 norm: 3.096.. Val L1 norm: 2.948.. Train Linf norm: 388.758.. Val Linf norm: 246.773\n",
            "Epoch 16/52.. Train loss: 2.532.. Val loss: 2.488.. Train L1 norm: 3.042.. Val L1 norm: 2.132.. Train Linf norm: 385.213.. Val Linf norm: 199.053\n",
            "Epoch 17/52.. Train loss: 2.468.. Val loss: 2.615.. Train L1 norm: 2.718.. Val L1 norm: 1.631.. Train Linf norm: 313.936.. Val Linf norm: 120.336\n",
            "Epoch 18/52.. Train loss: 2.393.. Val loss: 2.392.. Train L1 norm: 2.892.. Val L1 norm: 2.198.. Train Linf norm: 364.810.. Val Linf norm: 198.606\n",
            "Epoch 19/52.. Train loss: 2.403.. Val loss: 2.255.. Train L1 norm: 2.905.. Val L1 norm: 2.427.. Train Linf norm: 368.660.. Val Linf norm: 206.425\n",
            "Epoch 20/52.. Train loss: 2.320.. Val loss: 2.528.. Train L1 norm: 3.008.. Val L1 norm: 2.899.. Train Linf norm: 398.528.. Val Linf norm: 252.054\n",
            "Epoch 21/52.. Train loss: 2.307.. Val loss: 2.511.. Train L1 norm: 2.892.. Val L1 norm: 1.708.. Train Linf norm: 380.179.. Val Linf norm: 130.226\n",
            "Epoch 22/52.. Train loss: 2.270.. Val loss: 2.470.. Train L1 norm: 2.738.. Val L1 norm: 2.318.. Train Linf norm: 357.170.. Val Linf norm: 209.498\n",
            "Epoch 23/52.. Train loss: 2.358.. Val loss: 2.226.. Train L1 norm: 3.168.. Val L1 norm: 2.109.. Train Linf norm: 464.437.. Val Linf norm: 177.613\n",
            "Epoch 24/52.. Train loss: 2.209.. Val loss: 2.546.. Train L1 norm: 2.571.. Val L1 norm: 1.461.. Train Linf norm: 310.858.. Val Linf norm: 105.003\n",
            "Epoch 25/52.. Train loss: 2.335.. Val loss: 2.383.. Train L1 norm: 2.669.. Val L1 norm: 2.263.. Train Linf norm: 337.771.. Val Linf norm: 205.797\n",
            "Epoch 26/52.. Train loss: 2.186.. Val loss: 2.660.. Train L1 norm: 2.639.. Val L1 norm: 1.653.. Train Linf norm: 325.072.. Val Linf norm: 132.475\n",
            "Epoch 27/52.. Train loss: 2.187.. Val loss: 2.529.. Train L1 norm: 2.608.. Val L1 norm: 2.028.. Train Linf norm: 328.997.. Val Linf norm: 158.736\n",
            "Epoch 28/52.. Train loss: 2.197.. Val loss: 2.713.. Train L1 norm: 2.730.. Val L1 norm: 3.357.. Train Linf norm: 365.322.. Val Linf norm: 315.538\n",
            "Epoch 29/52.. Train loss: 2.150.. Val loss: 2.148.. Train L1 norm: 2.798.. Val L1 norm: 2.101.. Train Linf norm: 386.946.. Val Linf norm: 201.105\n",
            "Epoch 30/52.. Train loss: 2.148.. Val loss: 2.196.. Train L1 norm: 2.626.. Val L1 norm: 2.057.. Train Linf norm: 342.834.. Val Linf norm: 174.122\n",
            "Epoch 31/52.. Train loss: 2.167.. Val loss: 2.360.. Train L1 norm: 2.495.. Val L1 norm: 2.067.. Train Linf norm: 313.565.. Val Linf norm: 192.483\n",
            "Epoch 32/52.. Train loss: 2.131.. Val loss: 2.166.. Train L1 norm: 2.580.. Val L1 norm: 2.281.. Train Linf norm: 339.343.. Val Linf norm: 196.606\n",
            "Epoch 33/52.. Train loss: 2.080.. Val loss: 2.181.. Train L1 norm: 2.608.. Val L1 norm: 2.149.. Train Linf norm: 348.776.. Val Linf norm: 203.833\n",
            "Epoch 34/52.. Train loss: 2.111.. Val loss: 8.400.. Train L1 norm: 2.671.. Val L1 norm: 5.975.. Train Linf norm: 365.168.. Val Linf norm: 1104.234\n",
            "Epoch 35/52.. Train loss: 2.091.. Val loss: 2.134.. Train L1 norm: 2.776.. Val L1 norm: 2.121.. Train Linf norm: 382.258.. Val Linf norm: 208.775\n",
            "Epoch 36/52.. Train loss: 2.315.. Val loss: 2.456.. Train L1 norm: 2.648.. Val L1 norm: 2.884.. Train Linf norm: 341.218.. Val Linf norm: 295.038\n",
            "Epoch 37/52.. Train loss: 2.042.. Val loss: 2.278.. Train L1 norm: 2.574.. Val L1 norm: 2.494.. Train Linf norm: 350.760.. Val Linf norm: 228.497\n",
            "Epoch 38/52.. Train loss: 2.042.. Val loss: 2.096.. Train L1 norm: 2.540.. Val L1 norm: 2.204.. Train Linf norm: 333.209.. Val Linf norm: 197.080\n",
            "Epoch 39/52.. Train loss: 2.041.. Val loss: 2.187.. Train L1 norm: 2.555.. Val L1 norm: 2.106.. Train Linf norm: 347.642.. Val Linf norm: 180.459\n",
            "Epoch 40/52.. Train loss: 2.032.. Val loss: 2.188.. Train L1 norm: 2.571.. Val L1 norm: 2.590.. Train Linf norm: 351.327.. Val Linf norm: 250.861\n",
            "Epoch 41/52.. Train loss: 2.167.. Val loss: 2.059.. Train L1 norm: 2.208.. Val L1 norm: 2.214.. Train Linf norm: 261.540.. Val Linf norm: 210.194\n",
            "Epoch 42/52.. Train loss: 2.026.. Val loss: 2.144.. Train L1 norm: 2.554.. Val L1 norm: 2.307.. Train Linf norm: 337.744.. Val Linf norm: 215.437\n",
            "Epoch 43/52.. Train loss: 1.985.. Val loss: 2.133.. Train L1 norm: 2.541.. Val L1 norm: 2.403.. Train Linf norm: 346.141.. Val Linf norm: 237.262\n",
            "Epoch 44/52.. Train loss: 1.997.. Val loss: 2.090.. Train L1 norm: 2.618.. Val L1 norm: 1.790.. Train Linf norm: 361.764.. Val Linf norm: 143.371\n",
            "Epoch 45/52.. Train loss: 1.985.. Val loss: 2.068.. Train L1 norm: 2.502.. Val L1 norm: 1.825.. Train Linf norm: 338.586.. Val Linf norm: 161.444\n",
            "Epoch 46/52.. Train loss: 1.986.. Val loss: 2.271.. Train L1 norm: 2.221.. Val L1 norm: 2.487.. Train Linf norm: 270.957.. Val Linf norm: 227.743\n",
            "Epoch 47/52.. Train loss: 2.874.. Val loss: 2.334.. Train L1 norm: 3.190.. Val L1 norm: 2.714.. Train Linf norm: 450.247.. Val Linf norm: 254.711\n",
            "Epoch 48/52.. Train loss: 2.126.. Val loss: 2.040.. Train L1 norm: 2.534.. Val L1 norm: 1.944.. Train Linf norm: 321.776.. Val Linf norm: 185.264\n",
            "Epoch 49/52.. Train loss: 2.015.. Val loss: 1.973.. Train L1 norm: 2.358.. Val L1 norm: 1.830.. Train Linf norm: 294.782.. Val Linf norm: 169.319\n",
            "Epoch 50/52.. Train loss: 1.936.. Val loss: 2.036.. Train L1 norm: 2.333.. Val L1 norm: 2.131.. Train Linf norm: 305.791.. Val Linf norm: 199.281\n",
            "Epoch 51/52.. Train loss: 1.893.. Val loss: 1.937.. Train L1 norm: 2.263.. Val L1 norm: 1.808.. Train Linf norm: 300.739.. Val Linf norm: 162.150\n"
          ]
        },
        {
          "output_type": "stream",
          "name": "stderr",
          "text": [
            "[I 2023-06-02 10:40:52,452] Trial 7 finished with value: 1.858821445719401 and parameters: {'n_layers': 8, 'n_units_0': 1448, 'n_units_1': 550, 'n_units_2': 2377, 'n_units_3': 1794, 'n_units_4': 2769, 'n_units_5': 709, 'n_units_6': 3447, 'n_units_7': 2659, 'hidden_activation': 'Swish', 'output_activation': 'Linear', 'loss': 'MAE', 'optimizer': 'RMSprop', 'lr': 0.0006188581663147707, 'batch_size': 256, 'n_epochs': 52, 'scheduler': 'ReduceLROnPlateau', 'dropout_rate': 0.04899654413494414, 'factor': 0.21181567521030706, 'patience': 5, 'threshold': 0.0014122931099189806}. Best is trial 7 with value: 1.858821445719401.\n"
          ]
        },
        {
          "output_type": "stream",
          "name": "stdout",
          "text": [
            "Epoch 52/52.. Train loss: 1.846.. Val loss: 1.916.. Train L1 norm: 2.254.. Val L1 norm: 1.859.. Train Linf norm: 304.082.. Val Linf norm: 173.111\n"
          ]
        },
        {
          "output_type": "display_data",
          "data": {
            "text/html": [
              "<html>\n",
              "<head><meta charset=\"utf-8\" /></head>\n",
              "<body>\n",
              "    <div>            <script src=\"https://cdnjs.cloudflare.com/ajax/libs/mathjax/2.7.5/MathJax.js?config=TeX-AMS-MML_SVG\"></script><script type=\"text/javascript\">if (window.MathJax && window.MathJax.Hub && window.MathJax.Hub.Config) {window.MathJax.Hub.Config({SVG: {font: \"STIX-Web\"}});}</script>                <script type=\"text/javascript\">window.PlotlyConfig = {MathJaxConfig: 'local'};</script>\n",
              "        <script src=\"https://cdn.plot.ly/plotly-2.18.2.min.js\"></script>                <div id=\"33c7cdd4-b852-4d32-be6d-42281f7c1d22\" class=\"plotly-graph-div\" style=\"height:525px; width:100%;\"></div>            <script type=\"text/javascript\">                                    window.PLOTLYENV=window.PLOTLYENV || {};                                    if (document.getElementById(\"33c7cdd4-b852-4d32-be6d-42281f7c1d22\")) {                    Plotly.newPlot(                        \"33c7cdd4-b852-4d32-be6d-42281f7c1d22\",                        [{\"mode\":\"markers\",\"name\":\"Objective Value\",\"x\":[0,1,2,3,4,7],\"y\":[361840040821304.0,4.148916990661621,3.616880493545532,2.6828094604492185,3.90576324412028,1.858821445719401],\"type\":\"scatter\"},{\"name\":\"Best Value\",\"x\":[0,1,2,3,4,7],\"y\":[361840040821304.0,4.148916990661621,3.616880493545532,2.6828094604492185,2.6828094604492185,1.858821445719401],\"type\":\"scatter\"}],                        {\"title\":{\"text\":\"Optimization History Plot\"},\"xaxis\":{\"title\":{\"text\":\"Trial\"}},\"yaxis\":{\"title\":{\"text\":\"Objective Value\"}},\"template\":{\"data\":{\"histogram2dcontour\":[{\"type\":\"histogram2dcontour\",\"colorbar\":{\"outlinewidth\":0,\"ticks\":\"\"},\"colorscale\":[[0.0,\"#0d0887\"],[0.1111111111111111,\"#46039f\"],[0.2222222222222222,\"#7201a8\"],[0.3333333333333333,\"#9c179e\"],[0.4444444444444444,\"#bd3786\"],[0.5555555555555556,\"#d8576b\"],[0.6666666666666666,\"#ed7953\"],[0.7777777777777778,\"#fb9f3a\"],[0.8888888888888888,\"#fdca26\"],[1.0,\"#f0f921\"]]}],\"choropleth\":[{\"type\":\"choropleth\",\"colorbar\":{\"outlinewidth\":0,\"ticks\":\"\"}}],\"histogram2d\":[{\"type\":\"histogram2d\",\"colorbar\":{\"outlinewidth\":0,\"ticks\":\"\"},\"colorscale\":[[0.0,\"#0d0887\"],[0.1111111111111111,\"#46039f\"],[0.2222222222222222,\"#7201a8\"],[0.3333333333333333,\"#9c179e\"],[0.4444444444444444,\"#bd3786\"],[0.5555555555555556,\"#d8576b\"],[0.6666666666666666,\"#ed7953\"],[0.7777777777777778,\"#fb9f3a\"],[0.8888888888888888,\"#fdca26\"],[1.0,\"#f0f921\"]]}],\"heatmap\":[{\"type\":\"heatmap\",\"colorbar\":{\"outlinewidth\":0,\"ticks\":\"\"},\"colorscale\":[[0.0,\"#0d0887\"],[0.1111111111111111,\"#46039f\"],[0.2222222222222222,\"#7201a8\"],[0.3333333333333333,\"#9c179e\"],[0.4444444444444444,\"#bd3786\"],[0.5555555555555556,\"#d8576b\"],[0.6666666666666666,\"#ed7953\"],[0.7777777777777778,\"#fb9f3a\"],[0.8888888888888888,\"#fdca26\"],[1.0,\"#f0f921\"]]}],\"heatmapgl\":[{\"type\":\"heatmapgl\",\"colorbar\":{\"outlinewidth\":0,\"ticks\":\"\"},\"colorscale\":[[0.0,\"#0d0887\"],[0.1111111111111111,\"#46039f\"],[0.2222222222222222,\"#7201a8\"],[0.3333333333333333,\"#9c179e\"],[0.4444444444444444,\"#bd3786\"],[0.5555555555555556,\"#d8576b\"],[0.6666666666666666,\"#ed7953\"],[0.7777777777777778,\"#fb9f3a\"],[0.8888888888888888,\"#fdca26\"],[1.0,\"#f0f921\"]]}],\"contourcarpet\":[{\"type\":\"contourcarpet\",\"colorbar\":{\"outlinewidth\":0,\"ticks\":\"\"}}],\"contour\":[{\"type\":\"contour\",\"colorbar\":{\"outlinewidth\":0,\"ticks\":\"\"},\"colorscale\":[[0.0,\"#0d0887\"],[0.1111111111111111,\"#46039f\"],[0.2222222222222222,\"#7201a8\"],[0.3333333333333333,\"#9c179e\"],[0.4444444444444444,\"#bd3786\"],[0.5555555555555556,\"#d8576b\"],[0.6666666666666666,\"#ed7953\"],[0.7777777777777778,\"#fb9f3a\"],[0.8888888888888888,\"#fdca26\"],[1.0,\"#f0f921\"]]}],\"surface\":[{\"type\":\"surface\",\"colorbar\":{\"outlinewidth\":0,\"ticks\":\"\"},\"colorscale\":[[0.0,\"#0d0887\"],[0.1111111111111111,\"#46039f\"],[0.2222222222222222,\"#7201a8\"],[0.3333333333333333,\"#9c179e\"],[0.4444444444444444,\"#bd3786\"],[0.5555555555555556,\"#d8576b\"],[0.6666666666666666,\"#ed7953\"],[0.7777777777777778,\"#fb9f3a\"],[0.8888888888888888,\"#fdca26\"],[1.0,\"#f0f921\"]]}],\"mesh3d\":[{\"type\":\"mesh3d\",\"colorbar\":{\"outlinewidth\":0,\"ticks\":\"\"}}],\"scatter\":[{\"fillpattern\":{\"fillmode\":\"overlay\",\"size\":10,\"solidity\":0.2},\"type\":\"scatter\"}],\"parcoords\":[{\"type\":\"parcoords\",\"line\":{\"colorbar\":{\"outlinewidth\":0,\"ticks\":\"\"}}}],\"scatterpolargl\":[{\"type\":\"scatterpolargl\",\"marker\":{\"colorbar\":{\"outlinewidth\":0,\"ticks\":\"\"}}}],\"bar\":[{\"error_x\":{\"color\":\"#2a3f5f\"},\"error_y\":{\"color\":\"#2a3f5f\"},\"marker\":{\"line\":{\"color\":\"#E5ECF6\",\"width\":0.5},\"pattern\":{\"fillmode\":\"overlay\",\"size\":10,\"solidity\":0.2}},\"type\":\"bar\"}],\"scattergeo\":[{\"type\":\"scattergeo\",\"marker\":{\"colorbar\":{\"outlinewidth\":0,\"ticks\":\"\"}}}],\"scatterpolar\":[{\"type\":\"scatterpolar\",\"marker\":{\"colorbar\":{\"outlinewidth\":0,\"ticks\":\"\"}}}],\"histogram\":[{\"marker\":{\"pattern\":{\"fillmode\":\"overlay\",\"size\":10,\"solidity\":0.2}},\"type\":\"histogram\"}],\"scattergl\":[{\"type\":\"scattergl\",\"marker\":{\"colorbar\":{\"outlinewidth\":0,\"ticks\":\"\"}}}],\"scatter3d\":[{\"type\":\"scatter3d\",\"line\":{\"colorbar\":{\"outlinewidth\":0,\"ticks\":\"\"}},\"marker\":{\"colorbar\":{\"outlinewidth\":0,\"ticks\":\"\"}}}],\"scattermapbox\":[{\"type\":\"scattermapbox\",\"marker\":{\"colorbar\":{\"outlinewidth\":0,\"ticks\":\"\"}}}],\"scatterternary\":[{\"type\":\"scatterternary\",\"marker\":{\"colorbar\":{\"outlinewidth\":0,\"ticks\":\"\"}}}],\"scattercarpet\":[{\"type\":\"scattercarpet\",\"marker\":{\"colorbar\":{\"outlinewidth\":0,\"ticks\":\"\"}}}],\"carpet\":[{\"aaxis\":{\"endlinecolor\":\"#2a3f5f\",\"gridcolor\":\"white\",\"linecolor\":\"white\",\"minorgridcolor\":\"white\",\"startlinecolor\":\"#2a3f5f\"},\"baxis\":{\"endlinecolor\":\"#2a3f5f\",\"gridcolor\":\"white\",\"linecolor\":\"white\",\"minorgridcolor\":\"white\",\"startlinecolor\":\"#2a3f5f\"},\"type\":\"carpet\"}],\"table\":[{\"cells\":{\"fill\":{\"color\":\"#EBF0F8\"},\"line\":{\"color\":\"white\"}},\"header\":{\"fill\":{\"color\":\"#C8D4E3\"},\"line\":{\"color\":\"white\"}},\"type\":\"table\"}],\"barpolar\":[{\"marker\":{\"line\":{\"color\":\"#E5ECF6\",\"width\":0.5},\"pattern\":{\"fillmode\":\"overlay\",\"size\":10,\"solidity\":0.2}},\"type\":\"barpolar\"}],\"pie\":[{\"automargin\":true,\"type\":\"pie\"}]},\"layout\":{\"autotypenumbers\":\"strict\",\"colorway\":[\"#636efa\",\"#EF553B\",\"#00cc96\",\"#ab63fa\",\"#FFA15A\",\"#19d3f3\",\"#FF6692\",\"#B6E880\",\"#FF97FF\",\"#FECB52\"],\"font\":{\"color\":\"#2a3f5f\"},\"hovermode\":\"closest\",\"hoverlabel\":{\"align\":\"left\"},\"paper_bgcolor\":\"white\",\"plot_bgcolor\":\"#E5ECF6\",\"polar\":{\"bgcolor\":\"#E5ECF6\",\"angularaxis\":{\"gridcolor\":\"white\",\"linecolor\":\"white\",\"ticks\":\"\"},\"radialaxis\":{\"gridcolor\":\"white\",\"linecolor\":\"white\",\"ticks\":\"\"}},\"ternary\":{\"bgcolor\":\"#E5ECF6\",\"aaxis\":{\"gridcolor\":\"white\",\"linecolor\":\"white\",\"ticks\":\"\"},\"baxis\":{\"gridcolor\":\"white\",\"linecolor\":\"white\",\"ticks\":\"\"},\"caxis\":{\"gridcolor\":\"white\",\"linecolor\":\"white\",\"ticks\":\"\"}},\"coloraxis\":{\"colorbar\":{\"outlinewidth\":0,\"ticks\":\"\"}},\"colorscale\":{\"sequential\":[[0.0,\"#0d0887\"],[0.1111111111111111,\"#46039f\"],[0.2222222222222222,\"#7201a8\"],[0.3333333333333333,\"#9c179e\"],[0.4444444444444444,\"#bd3786\"],[0.5555555555555556,\"#d8576b\"],[0.6666666666666666,\"#ed7953\"],[0.7777777777777778,\"#fb9f3a\"],[0.8888888888888888,\"#fdca26\"],[1.0,\"#f0f921\"]],\"sequentialminus\":[[0.0,\"#0d0887\"],[0.1111111111111111,\"#46039f\"],[0.2222222222222222,\"#7201a8\"],[0.3333333333333333,\"#9c179e\"],[0.4444444444444444,\"#bd3786\"],[0.5555555555555556,\"#d8576b\"],[0.6666666666666666,\"#ed7953\"],[0.7777777777777778,\"#fb9f3a\"],[0.8888888888888888,\"#fdca26\"],[1.0,\"#f0f921\"]],\"diverging\":[[0,\"#8e0152\"],[0.1,\"#c51b7d\"],[0.2,\"#de77ae\"],[0.3,\"#f1b6da\"],[0.4,\"#fde0ef\"],[0.5,\"#f7f7f7\"],[0.6,\"#e6f5d0\"],[0.7,\"#b8e186\"],[0.8,\"#7fbc41\"],[0.9,\"#4d9221\"],[1,\"#276419\"]]},\"xaxis\":{\"gridcolor\":\"white\",\"linecolor\":\"white\",\"ticks\":\"\",\"title\":{\"standoff\":15},\"zerolinecolor\":\"white\",\"automargin\":true,\"zerolinewidth\":2},\"yaxis\":{\"gridcolor\":\"white\",\"linecolor\":\"white\",\"ticks\":\"\",\"title\":{\"standoff\":15},\"zerolinecolor\":\"white\",\"automargin\":true,\"zerolinewidth\":2},\"scene\":{\"xaxis\":{\"backgroundcolor\":\"#E5ECF6\",\"gridcolor\":\"white\",\"linecolor\":\"white\",\"showbackground\":true,\"ticks\":\"\",\"zerolinecolor\":\"white\",\"gridwidth\":2},\"yaxis\":{\"backgroundcolor\":\"#E5ECF6\",\"gridcolor\":\"white\",\"linecolor\":\"white\",\"showbackground\":true,\"ticks\":\"\",\"zerolinecolor\":\"white\",\"gridwidth\":2},\"zaxis\":{\"backgroundcolor\":\"#E5ECF6\",\"gridcolor\":\"white\",\"linecolor\":\"white\",\"showbackground\":true,\"ticks\":\"\",\"zerolinecolor\":\"white\",\"gridwidth\":2}},\"shapedefaults\":{\"line\":{\"color\":\"#2a3f5f\"}},\"annotationdefaults\":{\"arrowcolor\":\"#2a3f5f\",\"arrowhead\":0,\"arrowwidth\":1},\"geo\":{\"bgcolor\":\"white\",\"landcolor\":\"#E5ECF6\",\"subunitcolor\":\"white\",\"showland\":true,\"showlakes\":true,\"lakecolor\":\"white\"},\"title\":{\"x\":0.05},\"mapbox\":{\"style\":\"light\"}}}},                        {\"responsive\": true}                    ).then(function(){\n",
              "                            \n",
              "var gd = document.getElementById('33c7cdd4-b852-4d32-be6d-42281f7c1d22');\n",
              "var x = new MutationObserver(function (mutations, observer) {{\n",
              "        var display = window.getComputedStyle(gd).display;\n",
              "        if (!display || display === 'none') {{\n",
              "            console.log([gd, 'removed!']);\n",
              "            Plotly.purge(gd);\n",
              "            observer.disconnect();\n",
              "        }}\n",
              "}});\n",
              "\n",
              "// Listen for the removal of the full notebook cells\n",
              "var notebookContainer = gd.closest('#notebook-container');\n",
              "if (notebookContainer) {{\n",
              "    x.observe(notebookContainer, {childList: true});\n",
              "}}\n",
              "\n",
              "// Listen for the clearing of the current output cell\n",
              "var outputEl = gd.closest('.output');\n",
              "if (outputEl) {{\n",
              "    x.observe(outputEl, {childList: true});\n",
              "}}\n",
              "\n",
              "                        })                };                            </script>        </div>\n",
              "</body>\n",
              "</html>"
            ]
          },
          "metadata": {}
        },
        {
          "output_type": "stream",
          "name": "stderr",
          "text": [
            "[W 2023-06-02 10:40:52,869] Your study has only completed trials with missing parameters.\n",
            "<ipython-input-37-0c79a7da1449>:44: FutureWarning:\n",
            "\n",
            "suggest_loguniform has been deprecated in v3.0.0. This feature will be removed in v6.0.0. See https://github.com/optuna/optuna/releases/tag/v3.0.0. Use suggest_float(..., log=True) instead.\n",
            "\n",
            "<ipython-input-37-0c79a7da1449>:76: FutureWarning:\n",
            "\n",
            "suggest_uniform has been deprecated in v3.0.0. This feature will be removed in v6.0.0. See https://github.com/optuna/optuna/releases/tag/v3.0.0. Use suggest_float instead.\n",
            "\n",
            "<ipython-input-37-0c79a7da1449>:161: FutureWarning:\n",
            "\n",
            "suggest_uniform has been deprecated in v3.0.0. This feature will be removed in v6.0.0. See https://github.com/optuna/optuna/releases/tag/v3.0.0. Use suggest_float instead.\n",
            "\n",
            "[I 2023-06-02 10:41:08,436] Trial 8 pruned. \n"
          ]
        },
        {
          "output_type": "stream",
          "name": "stdout",
          "text": [
            "Epoch 1/71.. Train loss: 2.240.. Val loss: 2.060.. Train L1 norm: 4.500.. Val L1 norm: 3.290.. Train Linf norm: 309.410.. Val Linf norm: 153.566\n"
          ]
        },
        {
          "output_type": "display_data",
          "data": {
            "text/html": [
              "<html>\n",
              "<head><meta charset=\"utf-8\" /></head>\n",
              "<body>\n",
              "    <div>            <script src=\"https://cdnjs.cloudflare.com/ajax/libs/mathjax/2.7.5/MathJax.js?config=TeX-AMS-MML_SVG\"></script><script type=\"text/javascript\">if (window.MathJax && window.MathJax.Hub && window.MathJax.Hub.Config) {window.MathJax.Hub.Config({SVG: {font: \"STIX-Web\"}});}</script>                <script type=\"text/javascript\">window.PlotlyConfig = {MathJaxConfig: 'local'};</script>\n",
              "        <script src=\"https://cdn.plot.ly/plotly-2.18.2.min.js\"></script>                <div id=\"8407e32d-55fa-43a0-a002-6a80065ebb19\" class=\"plotly-graph-div\" style=\"height:525px; width:100%;\"></div>            <script type=\"text/javascript\">                                    window.PLOTLYENV=window.PLOTLYENV || {};                                    if (document.getElementById(\"8407e32d-55fa-43a0-a002-6a80065ebb19\")) {                    Plotly.newPlot(                        \"8407e32d-55fa-43a0-a002-6a80065ebb19\",                        [{\"mode\":\"markers\",\"name\":\"Objective Value\",\"x\":[0,1,2,3,4,7],\"y\":[361840040821304.0,4.148916990661621,3.616880493545532,2.6828094604492185,3.90576324412028,1.858821445719401],\"type\":\"scatter\"},{\"name\":\"Best Value\",\"x\":[0,1,2,3,4,7],\"y\":[361840040821304.0,4.148916990661621,3.616880493545532,2.6828094604492185,2.6828094604492185,1.858821445719401],\"type\":\"scatter\"}],                        {\"title\":{\"text\":\"Optimization History Plot\"},\"xaxis\":{\"title\":{\"text\":\"Trial\"}},\"yaxis\":{\"title\":{\"text\":\"Objective Value\"}},\"template\":{\"data\":{\"histogram2dcontour\":[{\"type\":\"histogram2dcontour\",\"colorbar\":{\"outlinewidth\":0,\"ticks\":\"\"},\"colorscale\":[[0.0,\"#0d0887\"],[0.1111111111111111,\"#46039f\"],[0.2222222222222222,\"#7201a8\"],[0.3333333333333333,\"#9c179e\"],[0.4444444444444444,\"#bd3786\"],[0.5555555555555556,\"#d8576b\"],[0.6666666666666666,\"#ed7953\"],[0.7777777777777778,\"#fb9f3a\"],[0.8888888888888888,\"#fdca26\"],[1.0,\"#f0f921\"]]}],\"choropleth\":[{\"type\":\"choropleth\",\"colorbar\":{\"outlinewidth\":0,\"ticks\":\"\"}}],\"histogram2d\":[{\"type\":\"histogram2d\",\"colorbar\":{\"outlinewidth\":0,\"ticks\":\"\"},\"colorscale\":[[0.0,\"#0d0887\"],[0.1111111111111111,\"#46039f\"],[0.2222222222222222,\"#7201a8\"],[0.3333333333333333,\"#9c179e\"],[0.4444444444444444,\"#bd3786\"],[0.5555555555555556,\"#d8576b\"],[0.6666666666666666,\"#ed7953\"],[0.7777777777777778,\"#fb9f3a\"],[0.8888888888888888,\"#fdca26\"],[1.0,\"#f0f921\"]]}],\"heatmap\":[{\"type\":\"heatmap\",\"colorbar\":{\"outlinewidth\":0,\"ticks\":\"\"},\"colorscale\":[[0.0,\"#0d0887\"],[0.1111111111111111,\"#46039f\"],[0.2222222222222222,\"#7201a8\"],[0.3333333333333333,\"#9c179e\"],[0.4444444444444444,\"#bd3786\"],[0.5555555555555556,\"#d8576b\"],[0.6666666666666666,\"#ed7953\"],[0.7777777777777778,\"#fb9f3a\"],[0.8888888888888888,\"#fdca26\"],[1.0,\"#f0f921\"]]}],\"heatmapgl\":[{\"type\":\"heatmapgl\",\"colorbar\":{\"outlinewidth\":0,\"ticks\":\"\"},\"colorscale\":[[0.0,\"#0d0887\"],[0.1111111111111111,\"#46039f\"],[0.2222222222222222,\"#7201a8\"],[0.3333333333333333,\"#9c179e\"],[0.4444444444444444,\"#bd3786\"],[0.5555555555555556,\"#d8576b\"],[0.6666666666666666,\"#ed7953\"],[0.7777777777777778,\"#fb9f3a\"],[0.8888888888888888,\"#fdca26\"],[1.0,\"#f0f921\"]]}],\"contourcarpet\":[{\"type\":\"contourcarpet\",\"colorbar\":{\"outlinewidth\":0,\"ticks\":\"\"}}],\"contour\":[{\"type\":\"contour\",\"colorbar\":{\"outlinewidth\":0,\"ticks\":\"\"},\"colorscale\":[[0.0,\"#0d0887\"],[0.1111111111111111,\"#46039f\"],[0.2222222222222222,\"#7201a8\"],[0.3333333333333333,\"#9c179e\"],[0.4444444444444444,\"#bd3786\"],[0.5555555555555556,\"#d8576b\"],[0.6666666666666666,\"#ed7953\"],[0.7777777777777778,\"#fb9f3a\"],[0.8888888888888888,\"#fdca26\"],[1.0,\"#f0f921\"]]}],\"surface\":[{\"type\":\"surface\",\"colorbar\":{\"outlinewidth\":0,\"ticks\":\"\"},\"colorscale\":[[0.0,\"#0d0887\"],[0.1111111111111111,\"#46039f\"],[0.2222222222222222,\"#7201a8\"],[0.3333333333333333,\"#9c179e\"],[0.4444444444444444,\"#bd3786\"],[0.5555555555555556,\"#d8576b\"],[0.6666666666666666,\"#ed7953\"],[0.7777777777777778,\"#fb9f3a\"],[0.8888888888888888,\"#fdca26\"],[1.0,\"#f0f921\"]]}],\"mesh3d\":[{\"type\":\"mesh3d\",\"colorbar\":{\"outlinewidth\":0,\"ticks\":\"\"}}],\"scatter\":[{\"fillpattern\":{\"fillmode\":\"overlay\",\"size\":10,\"solidity\":0.2},\"type\":\"scatter\"}],\"parcoords\":[{\"type\":\"parcoords\",\"line\":{\"colorbar\":{\"outlinewidth\":0,\"ticks\":\"\"}}}],\"scatterpolargl\":[{\"type\":\"scatterpolargl\",\"marker\":{\"colorbar\":{\"outlinewidth\":0,\"ticks\":\"\"}}}],\"bar\":[{\"error_x\":{\"color\":\"#2a3f5f\"},\"error_y\":{\"color\":\"#2a3f5f\"},\"marker\":{\"line\":{\"color\":\"#E5ECF6\",\"width\":0.5},\"pattern\":{\"fillmode\":\"overlay\",\"size\":10,\"solidity\":0.2}},\"type\":\"bar\"}],\"scattergeo\":[{\"type\":\"scattergeo\",\"marker\":{\"colorbar\":{\"outlinewidth\":0,\"ticks\":\"\"}}}],\"scatterpolar\":[{\"type\":\"scatterpolar\",\"marker\":{\"colorbar\":{\"outlinewidth\":0,\"ticks\":\"\"}}}],\"histogram\":[{\"marker\":{\"pattern\":{\"fillmode\":\"overlay\",\"size\":10,\"solidity\":0.2}},\"type\":\"histogram\"}],\"scattergl\":[{\"type\":\"scattergl\",\"marker\":{\"colorbar\":{\"outlinewidth\":0,\"ticks\":\"\"}}}],\"scatter3d\":[{\"type\":\"scatter3d\",\"line\":{\"colorbar\":{\"outlinewidth\":0,\"ticks\":\"\"}},\"marker\":{\"colorbar\":{\"outlinewidth\":0,\"ticks\":\"\"}}}],\"scattermapbox\":[{\"type\":\"scattermapbox\",\"marker\":{\"colorbar\":{\"outlinewidth\":0,\"ticks\":\"\"}}}],\"scatterternary\":[{\"type\":\"scatterternary\",\"marker\":{\"colorbar\":{\"outlinewidth\":0,\"ticks\":\"\"}}}],\"scattercarpet\":[{\"type\":\"scattercarpet\",\"marker\":{\"colorbar\":{\"outlinewidth\":0,\"ticks\":\"\"}}}],\"carpet\":[{\"aaxis\":{\"endlinecolor\":\"#2a3f5f\",\"gridcolor\":\"white\",\"linecolor\":\"white\",\"minorgridcolor\":\"white\",\"startlinecolor\":\"#2a3f5f\"},\"baxis\":{\"endlinecolor\":\"#2a3f5f\",\"gridcolor\":\"white\",\"linecolor\":\"white\",\"minorgridcolor\":\"white\",\"startlinecolor\":\"#2a3f5f\"},\"type\":\"carpet\"}],\"table\":[{\"cells\":{\"fill\":{\"color\":\"#EBF0F8\"},\"line\":{\"color\":\"white\"}},\"header\":{\"fill\":{\"color\":\"#C8D4E3\"},\"line\":{\"color\":\"white\"}},\"type\":\"table\"}],\"barpolar\":[{\"marker\":{\"line\":{\"color\":\"#E5ECF6\",\"width\":0.5},\"pattern\":{\"fillmode\":\"overlay\",\"size\":10,\"solidity\":0.2}},\"type\":\"barpolar\"}],\"pie\":[{\"automargin\":true,\"type\":\"pie\"}]},\"layout\":{\"autotypenumbers\":\"strict\",\"colorway\":[\"#636efa\",\"#EF553B\",\"#00cc96\",\"#ab63fa\",\"#FFA15A\",\"#19d3f3\",\"#FF6692\",\"#B6E880\",\"#FF97FF\",\"#FECB52\"],\"font\":{\"color\":\"#2a3f5f\"},\"hovermode\":\"closest\",\"hoverlabel\":{\"align\":\"left\"},\"paper_bgcolor\":\"white\",\"plot_bgcolor\":\"#E5ECF6\",\"polar\":{\"bgcolor\":\"#E5ECF6\",\"angularaxis\":{\"gridcolor\":\"white\",\"linecolor\":\"white\",\"ticks\":\"\"},\"radialaxis\":{\"gridcolor\":\"white\",\"linecolor\":\"white\",\"ticks\":\"\"}},\"ternary\":{\"bgcolor\":\"#E5ECF6\",\"aaxis\":{\"gridcolor\":\"white\",\"linecolor\":\"white\",\"ticks\":\"\"},\"baxis\":{\"gridcolor\":\"white\",\"linecolor\":\"white\",\"ticks\":\"\"},\"caxis\":{\"gridcolor\":\"white\",\"linecolor\":\"white\",\"ticks\":\"\"}},\"coloraxis\":{\"colorbar\":{\"outlinewidth\":0,\"ticks\":\"\"}},\"colorscale\":{\"sequential\":[[0.0,\"#0d0887\"],[0.1111111111111111,\"#46039f\"],[0.2222222222222222,\"#7201a8\"],[0.3333333333333333,\"#9c179e\"],[0.4444444444444444,\"#bd3786\"],[0.5555555555555556,\"#d8576b\"],[0.6666666666666666,\"#ed7953\"],[0.7777777777777778,\"#fb9f3a\"],[0.8888888888888888,\"#fdca26\"],[1.0,\"#f0f921\"]],\"sequentialminus\":[[0.0,\"#0d0887\"],[0.1111111111111111,\"#46039f\"],[0.2222222222222222,\"#7201a8\"],[0.3333333333333333,\"#9c179e\"],[0.4444444444444444,\"#bd3786\"],[0.5555555555555556,\"#d8576b\"],[0.6666666666666666,\"#ed7953\"],[0.7777777777777778,\"#fb9f3a\"],[0.8888888888888888,\"#fdca26\"],[1.0,\"#f0f921\"]],\"diverging\":[[0,\"#8e0152\"],[0.1,\"#c51b7d\"],[0.2,\"#de77ae\"],[0.3,\"#f1b6da\"],[0.4,\"#fde0ef\"],[0.5,\"#f7f7f7\"],[0.6,\"#e6f5d0\"],[0.7,\"#b8e186\"],[0.8,\"#7fbc41\"],[0.9,\"#4d9221\"],[1,\"#276419\"]]},\"xaxis\":{\"gridcolor\":\"white\",\"linecolor\":\"white\",\"ticks\":\"\",\"title\":{\"standoff\":15},\"zerolinecolor\":\"white\",\"automargin\":true,\"zerolinewidth\":2},\"yaxis\":{\"gridcolor\":\"white\",\"linecolor\":\"white\",\"ticks\":\"\",\"title\":{\"standoff\":15},\"zerolinecolor\":\"white\",\"automargin\":true,\"zerolinewidth\":2},\"scene\":{\"xaxis\":{\"backgroundcolor\":\"#E5ECF6\",\"gridcolor\":\"white\",\"linecolor\":\"white\",\"showbackground\":true,\"ticks\":\"\",\"zerolinecolor\":\"white\",\"gridwidth\":2},\"yaxis\":{\"backgroundcolor\":\"#E5ECF6\",\"gridcolor\":\"white\",\"linecolor\":\"white\",\"showbackground\":true,\"ticks\":\"\",\"zerolinecolor\":\"white\",\"gridwidth\":2},\"zaxis\":{\"backgroundcolor\":\"#E5ECF6\",\"gridcolor\":\"white\",\"linecolor\":\"white\",\"showbackground\":true,\"ticks\":\"\",\"zerolinecolor\":\"white\",\"gridwidth\":2}},\"shapedefaults\":{\"line\":{\"color\":\"#2a3f5f\"}},\"annotationdefaults\":{\"arrowcolor\":\"#2a3f5f\",\"arrowhead\":0,\"arrowwidth\":1},\"geo\":{\"bgcolor\":\"white\",\"landcolor\":\"#E5ECF6\",\"subunitcolor\":\"white\",\"showland\":true,\"showlakes\":true,\"lakecolor\":\"white\"},\"title\":{\"x\":0.05},\"mapbox\":{\"style\":\"light\"}}}},                        {\"responsive\": true}                    ).then(function(){\n",
              "                            \n",
              "var gd = document.getElementById('8407e32d-55fa-43a0-a002-6a80065ebb19');\n",
              "var x = new MutationObserver(function (mutations, observer) {{\n",
              "        var display = window.getComputedStyle(gd).display;\n",
              "        if (!display || display === 'none') {{\n",
              "            console.log([gd, 'removed!']);\n",
              "            Plotly.purge(gd);\n",
              "            observer.disconnect();\n",
              "        }}\n",
              "}});\n",
              "\n",
              "// Listen for the removal of the full notebook cells\n",
              "var notebookContainer = gd.closest('#notebook-container');\n",
              "if (notebookContainer) {{\n",
              "    x.observe(notebookContainer, {childList: true});\n",
              "}}\n",
              "\n",
              "// Listen for the clearing of the current output cell\n",
              "var outputEl = gd.closest('.output');\n",
              "if (outputEl) {{\n",
              "    x.observe(outputEl, {childList: true});\n",
              "}}\n",
              "\n",
              "                        })                };                            </script>        </div>\n",
              "</body>\n",
              "</html>"
            ]
          },
          "metadata": {}
        },
        {
          "output_type": "stream",
          "name": "stderr",
          "text": [
            "[W 2023-06-02 10:41:08,897] Your study has only completed trials with missing parameters.\n",
            "<ipython-input-37-0c79a7da1449>:44: FutureWarning:\n",
            "\n",
            "suggest_loguniform has been deprecated in v3.0.0. This feature will be removed in v6.0.0. See https://github.com/optuna/optuna/releases/tag/v3.0.0. Use suggest_float(..., log=True) instead.\n",
            "\n",
            "<ipython-input-37-0c79a7da1449>:76: FutureWarning:\n",
            "\n",
            "suggest_uniform has been deprecated in v3.0.0. This feature will be removed in v6.0.0. See https://github.com/optuna/optuna/releases/tag/v3.0.0. Use suggest_float instead.\n",
            "\n",
            "<ipython-input-37-0c79a7da1449>:145: FutureWarning:\n",
            "\n",
            "suggest_loguniform has been deprecated in v3.0.0. This feature will be removed in v6.0.0. See https://github.com/optuna/optuna/releases/tag/v3.0.0. Use suggest_float(..., log=True) instead.\n",
            "\n",
            "<ipython-input-37-0c79a7da1449>:146: FutureWarning:\n",
            "\n",
            "suggest_uniform has been deprecated in v3.0.0. This feature will be removed in v6.0.0. See https://github.com/optuna/optuna/releases/tag/v3.0.0. Use suggest_float instead.\n",
            "\n",
            "<ipython-input-37-0c79a7da1449>:178: FutureWarning:\n",
            "\n",
            "suggest_uniform has been deprecated in v3.0.0. This feature will be removed in v6.0.0. See https://github.com/optuna/optuna/releases/tag/v3.0.0. Use suggest_float instead.\n",
            "\n",
            "<ipython-input-37-0c79a7da1449>:180: FutureWarning:\n",
            "\n",
            "suggest_loguniform has been deprecated in v3.0.0. This feature will be removed in v6.0.0. See https://github.com/optuna/optuna/releases/tag/v3.0.0. Use suggest_float(..., log=True) instead.\n",
            "\n"
          ]
        },
        {
          "output_type": "stream",
          "name": "stdout",
          "text": [
            "Epoch 1/113.. Train loss: 158.017.. Val loss: 81.678.. Train L1 norm: 1.126.. Val L1 norm: 1.012.. Train Linf norm: 75.472.. Val Linf norm: 8.194\n",
            "Epoch 2/113.. Train loss: 62.112.. Val loss: 78.924.. Train L1 norm: 1.048.. Val L1 norm: 1.031.. Train Linf norm: 38.920.. Val Linf norm: 15.206\n",
            "Epoch 3/113.. Train loss: 53.192.. Val loss: 78.385.. Train L1 norm: 1.086.. Val L1 norm: 1.057.. Train Linf norm: 60.932.. Val Linf norm: 24.054\n",
            "Epoch 4/113.. Train loss: 52.788.. Val loss: 77.830.. Train L1 norm: 1.140.. Val L1 norm: 1.087.. Train Linf norm: 97.274.. Val Linf norm: 33.227\n",
            "Epoch 5/113.. Train loss: 52.855.. Val loss: 77.433.. Train L1 norm: 1.193.. Val L1 norm: 1.116.. Train Linf norm: 124.125.. Val Linf norm: 41.631\n",
            "Epoch 6/113.. Train loss: 51.350.. Val loss: 77.548.. Train L1 norm: 1.248.. Val L1 norm: 1.155.. Train Linf norm: 163.687.. Val Linf norm: 52.731\n",
            "Epoch 7/113.. Train loss: 51.049.. Val loss: 81.619.. Train L1 norm: 1.317.. Val L1 norm: 1.205.. Train Linf norm: 202.422.. Val Linf norm: 66.356\n",
            "Epoch 8/113.. Train loss: 53.086.. Val loss: 75.985.. Train L1 norm: 1.357.. Val L1 norm: 1.207.. Train Linf norm: 205.901.. Val Linf norm: 66.286\n",
            "Epoch 9/113.. Train loss: 49.934.. Val loss: 75.291.. Train L1 norm: 1.408.. Val L1 norm: 1.255.. Train Linf norm: 247.811.. Val Linf norm: 78.674\n",
            "Epoch 10/113.. Train loss: 48.989.. Val loss: 75.181.. Train L1 norm: 1.509.. Val L1 norm: 1.313.. Train Linf norm: 303.924.. Val Linf norm: 93.537\n",
            "Epoch 11/113.. Train loss: 52.283.. Val loss: 77.972.. Train L1 norm: 1.603.. Val L1 norm: 1.294.. Train Linf norm: 355.722.. Val Linf norm: 87.431\n",
            "Epoch 12/113.. Train loss: 49.107.. Val loss: 74.101.. Train L1 norm: 1.577.. Val L1 norm: 1.369.. Train Linf norm: 317.839.. Val Linf norm: 106.674\n",
            "Epoch 13/113.. Train loss: 48.278.. Val loss: 76.416.. Train L1 norm: 1.691.. Val L1 norm: 1.449.. Train Linf norm: 405.717.. Val Linf norm: 126.321\n",
            "Epoch 14/113.. Train loss: 49.784.. Val loss: 75.352.. Train L1 norm: 1.773.. Val L1 norm: 1.435.. Train Linf norm: 410.307.. Val Linf norm: 121.574\n",
            "Epoch 15/113.. Train loss: 46.725.. Val loss: 72.354.. Train L1 norm: 1.858.. Val L1 norm: 1.565.. Train Linf norm: 487.559.. Val Linf norm: 153.300\n",
            "Epoch 16/113.. Train loss: 46.402.. Val loss: 77.317.. Train L1 norm: 2.040.. Val L1 norm: 1.616.. Train Linf norm: 527.119.. Val Linf norm: 163.899\n",
            "Epoch 17/113.. Train loss: 45.317.. Val loss: 69.307.. Train L1 norm: 2.219.. Val L1 norm: 1.770.. Train Linf norm: 672.080.. Val Linf norm: 200.808\n",
            "Epoch 18/113.. Train loss: 43.995.. Val loss: 154.787.. Train L1 norm: 2.528.. Val L1 norm: 2.026.. Train Linf norm: 828.723.. Val Linf norm: 257.157\n",
            "Epoch 19/113.. Train loss: 55.616.. Val loss: 72.989.. Train L1 norm: 1.999.. Val L1 norm: 1.682.. Train Linf norm: 539.831.. Val Linf norm: 176.865\n",
            "Epoch 20/113.. Train loss: 43.680.. Val loss: 70.002.. Train L1 norm: 2.315.. Val L1 norm: 1.861.. Train Linf norm: 725.309.. Val Linf norm: 218.324\n",
            "Epoch 21/113.. Train loss: 42.098.. Val loss: 78.250.. Train L1 norm: 2.642.. Val L1 norm: 2.011.. Train Linf norm: 749.848.. Val Linf norm: 250.877\n",
            "Epoch 22/113.. Train loss: 44.485.. Val loss: 67.565.. Train L1 norm: 2.800.. Val L1 norm: 2.077.. Train Linf norm: 904.733.. Val Linf norm: 265.594\n",
            "Epoch 23/113.. Train loss: 39.992.. Val loss: 79.501.. Train L1 norm: 2.982.. Val L1 norm: 2.461.. Train Linf norm: 1025.371.. Val Linf norm: 348.871\n",
            "Epoch 24/113.. Train loss: 40.716.. Val loss: 63.983.. Train L1 norm: 3.314.. Val L1 norm: 2.541.. Train Linf norm: 1150.627.. Val Linf norm: 365.583\n",
            "Epoch 25/113.. Train loss: 46.302.. Val loss: 73.231.. Train L1 norm: 3.015.. Val L1 norm: 2.285.. Train Linf norm: 1039.054.. Val Linf norm: 307.433\n",
            "Epoch 26/113.. Train loss: 39.427.. Val loss: 69.773.. Train L1 norm: 3.220.. Val L1 norm: 2.582.. Train Linf norm: 1013.731.. Val Linf norm: 370.344\n",
            "Epoch 27/113.. Train loss: 47.607.. Val loss: 68.138.. Train L1 norm: 3.473.. Val L1 norm: 2.004.. Train Linf norm: 1300.847.. Val Linf norm: 243.705\n",
            "Epoch 28/113.. Train loss: 41.980.. Val loss: 75.557.. Train L1 norm: 3.045.. Val L1 norm: 2.167.. Train Linf norm: 1028.114.. Val Linf norm: 277.758\n",
            "Epoch 29/113.. Train loss: 41.006.. Val loss: 65.585.. Train L1 norm: 3.162.. Val L1 norm: 2.553.. Train Linf norm: 1119.937.. Val Linf norm: 360.964\n",
            "Epoch 30/113.. Train loss: 39.045.. Val loss: 64.146.. Train L1 norm: 3.654.. Val L1 norm: 2.788.. Train Linf norm: 1300.068.. Val Linf norm: 409.860\n",
            "Epoch 31/113.. Train loss: 37.489.. Val loss: 62.533.. Train L1 norm: 4.077.. Val L1 norm: 3.091.. Train Linf norm: 1380.796.. Val Linf norm: 471.583\n",
            "Epoch 32/113.. Train loss: 45.304.. Val loss: 69.448.. Train L1 norm: 4.349.. Val L1 norm: 2.209.. Train Linf norm: 1585.972.. Val Linf norm: 286.896\n",
            "Epoch 33/113.. Train loss: 40.344.. Val loss: 65.114.. Train L1 norm: 3.200.. Val L1 norm: 2.630.. Train Linf norm: 1054.773.. Val Linf norm: 377.683\n",
            "Epoch 34/113.. Train loss: 37.895.. Val loss: 62.799.. Train L1 norm: 3.800.. Val L1 norm: 2.960.. Train Linf norm: 1326.850.. Val Linf norm: 447.026\n",
            "Epoch 35/113.. Train loss: 36.993.. Val loss: 62.487.. Train L1 norm: 4.359.. Val L1 norm: 3.242.. Train Linf norm: 1680.227.. Val Linf norm: 504.999\n",
            "Epoch 36/113.. Train loss: 36.662.. Val loss: 63.448.. Train L1 norm: 4.550.. Val L1 norm: 3.451.. Train Linf norm: 1518.609.. Val Linf norm: 547.476\n",
            "Epoch 37/113.. Train loss: 37.597.. Val loss: 62.029.. Train L1 norm: 4.663.. Val L1 norm: 3.353.. Train Linf norm: 1782.827.. Val Linf norm: 526.740\n",
            "Epoch 38/113.. Train loss: 35.934.. Val loss: 61.398.. Train L1 norm: 4.786.. Val L1 norm: 3.494.. Train Linf norm: 1744.062.. Val Linf norm: 555.208\n",
            "Epoch 39/113.. Train loss: 35.891.. Val loss: 62.698.. Train L1 norm: 4.948.. Val L1 norm: 3.553.. Train Linf norm: 1604.035.. Val Linf norm: 566.753\n",
            "Epoch 40/113.. Train loss: 39.142.. Val loss: 61.835.. Train L1 norm: 4.696.. Val L1 norm: 3.009.. Train Linf norm: 1852.367.. Val Linf norm: 455.891\n",
            "Epoch 41/113.. Train loss: 35.975.. Val loss: 60.956.. Train L1 norm: 4.352.. Val L1 norm: 3.435.. Train Linf norm: 1506.358.. Val Linf norm: 542.556\n",
            "Epoch 42/113.. Train loss: 35.666.. Val loss: 65.078.. Train L1 norm: 4.760.. Val L1 norm: 3.628.. Train Linf norm: 1801.376.. Val Linf norm: 581.137\n",
            "Epoch 43/113.. Train loss: 37.499.. Val loss: 63.807.. Train L1 norm: 4.668.. Val L1 norm: 3.264.. Train Linf norm: 1652.650.. Val Linf norm: 505.651\n",
            "Epoch 44/113.. Train loss: 35.805.. Val loss: 62.147.. Train L1 norm: 4.692.. Val L1 norm: 3.611.. Train Linf norm: 1791.902.. Val Linf norm: 575.703\n",
            "Epoch 45/113.. Train loss: 35.616.. Val loss: 60.933.. Train L1 norm: 4.771.. Val L1 norm: 3.645.. Train Linf norm: 1563.677.. Val Linf norm: 583.766\n",
            "Epoch 46/113.. Train loss: 35.731.. Val loss: 61.212.. Train L1 norm: 4.761.. Val L1 norm: 3.654.. Train Linf norm: 1607.698.. Val Linf norm: 586.073\n",
            "Epoch 47/113.. Train loss: 34.718.. Val loss: 61.029.. Train L1 norm: 5.054.. Val L1 norm: 3.676.. Train Linf norm: 2026.923.. Val Linf norm: 590.766\n",
            "Epoch 48/113.. Train loss: 34.792.. Val loss: 60.651.. Train L1 norm: 4.984.. Val L1 norm: 3.697.. Train Linf norm: 1889.062.. Val Linf norm: 594.953\n",
            "Epoch 49/113.. Train loss: 34.903.. Val loss: 59.889.. Train L1 norm: 5.024.. Val L1 norm: 3.688.. Train Linf norm: 1960.738.. Val Linf norm: 593.622\n",
            "Epoch 50/113.. Train loss: 34.725.. Val loss: 59.879.. Train L1 norm: 5.059.. Val L1 norm: 3.709.. Train Linf norm: 1805.045.. Val Linf norm: 597.705\n",
            "Epoch 51/113.. Train loss: 34.734.. Val loss: 59.722.. Train L1 norm: 4.964.. Val L1 norm: 3.724.. Train Linf norm: 1841.020.. Val Linf norm: 600.833\n",
            "Epoch 52/113.. Train loss: 34.749.. Val loss: 59.599.. Train L1 norm: 4.847.. Val L1 norm: 3.726.. Train Linf norm: 1636.775.. Val Linf norm: 601.443\n",
            "Epoch 53/113.. Train loss: 34.828.. Val loss: 59.572.. Train L1 norm: 5.097.. Val L1 norm: 3.731.. Train Linf norm: 1921.158.. Val Linf norm: 602.579\n",
            "Epoch 54/113.. Train loss: 34.636.. Val loss: 59.662.. Train L1 norm: 4.907.. Val L1 norm: 3.752.. Train Linf norm: 1617.861.. Val Linf norm: 606.917\n",
            "Epoch 55/113.. Train loss: 34.518.. Val loss: 59.783.. Train L1 norm: 5.177.. Val L1 norm: 3.769.. Train Linf norm: 1937.516.. Val Linf norm: 610.283\n",
            "Epoch 56/113.. Train loss: 34.743.. Val loss: 59.516.. Train L1 norm: 5.066.. Val L1 norm: 3.753.. Train Linf norm: 1658.672.. Val Linf norm: 607.244\n",
            "Epoch 57/113.. Train loss: 34.832.. Val loss: 59.417.. Train L1 norm: 5.082.. Val L1 norm: 3.751.. Train Linf norm: 1839.452.. Val Linf norm: 607.010\n",
            "Epoch 58/113.. Train loss: 34.586.. Val loss: 59.434.. Train L1 norm: 5.020.. Val L1 norm: 3.756.. Train Linf norm: 1852.989.. Val Linf norm: 608.070\n",
            "Epoch 59/113.. Train loss: 34.742.. Val loss: 59.405.. Train L1 norm: 5.113.. Val L1 norm: 3.754.. Train Linf norm: 1834.441.. Val Linf norm: 607.700\n",
            "Epoch 60/113.. Train loss: 34.639.. Val loss: 59.468.. Train L1 norm: 5.084.. Val L1 norm: 3.760.. Train Linf norm: 1914.516.. Val Linf norm: 608.934\n",
            "Epoch 61/113.. Train loss: 35.173.. Val loss: 59.408.. Train L1 norm: 4.984.. Val L1 norm: 3.753.. Train Linf norm: 1889.187.. Val Linf norm: 607.399\n",
            "Epoch 62/113.. Train loss: 34.531.. Val loss: 59.469.. Train L1 norm: 5.143.. Val L1 norm: 3.760.. Train Linf norm: 1943.300.. Val Linf norm: 608.858\n",
            "Epoch 63/113.. Train loss: 34.508.. Val loss: 59.438.. Train L1 norm: 5.141.. Val L1 norm: 3.761.. Train Linf norm: 1945.576.. Val Linf norm: 609.136\n",
            "Epoch 64/113.. Train loss: 34.621.. Val loss: 59.419.. Train L1 norm: 5.111.. Val L1 norm: 3.760.. Train Linf norm: 1945.208.. Val Linf norm: 609.053\n",
            "Epoch 65/113.. Train loss: 34.637.. Val loss: 59.440.. Train L1 norm: 5.069.. Val L1 norm: 3.763.. Train Linf norm: 1851.159.. Val Linf norm: 609.675\n",
            "Epoch 66/113.. Train loss: 34.551.. Val loss: 59.450.. Train L1 norm: 5.107.. Val L1 norm: 3.764.. Train Linf norm: 1813.544.. Val Linf norm: 609.885\n",
            "Epoch 67/113.. Train loss: 34.645.. Val loss: 59.438.. Train L1 norm: 5.153.. Val L1 norm: 3.764.. Train Linf norm: 1902.024.. Val Linf norm: 609.716\n",
            "Epoch 68/113.. Train loss: 34.628.. Val loss: 59.428.. Train L1 norm: 5.024.. Val L1 norm: 3.763.. Train Linf norm: 1840.270.. Val Linf norm: 609.578\n",
            "Epoch 69/113.. Train loss: 34.481.. Val loss: 59.434.. Train L1 norm: 5.044.. Val L1 norm: 3.764.. Train Linf norm: 1900.664.. Val Linf norm: 609.787\n",
            "Epoch 70/113.. Train loss: 34.574.. Val loss: 59.434.. Train L1 norm: 5.065.. Val L1 norm: 3.764.. Train Linf norm: 1832.299.. Val Linf norm: 609.868\n",
            "Epoch 71/113.. Train loss: 34.890.. Val loss: 59.413.. Train L1 norm: 5.021.. Val L1 norm: 3.762.. Train Linf norm: 1808.366.. Val Linf norm: 609.475\n",
            "Epoch 72/113.. Train loss: 34.535.. Val loss: 59.416.. Train L1 norm: 5.024.. Val L1 norm: 3.763.. Train Linf norm: 1834.286.. Val Linf norm: 609.612\n",
            "Epoch 73/113.. Train loss: 34.555.. Val loss: 59.412.. Train L1 norm: 5.070.. Val L1 norm: 3.763.. Train Linf norm: 1908.593.. Val Linf norm: 609.677\n",
            "Epoch 74/113.. Train loss: 34.547.. Val loss: 59.413.. Train L1 norm: 4.988.. Val L1 norm: 3.763.. Train Linf norm: 1727.157.. Val Linf norm: 609.713\n",
            "Epoch 75/113.. Train loss: 34.457.. Val loss: 59.413.. Train L1 norm: 5.186.. Val L1 norm: 3.763.. Train Linf norm: 2090.551.. Val Linf norm: 609.731\n",
            "Epoch 76/113.. Train loss: 34.586.. Val loss: 59.415.. Train L1 norm: 5.121.. Val L1 norm: 3.763.. Train Linf norm: 1875.516.. Val Linf norm: 609.750\n",
            "Epoch 77/113.. Train loss: 34.590.. Val loss: 59.413.. Train L1 norm: 5.048.. Val L1 norm: 3.763.. Train Linf norm: 1758.427.. Val Linf norm: 609.745\n",
            "Epoch 78/113.. Train loss: 34.472.. Val loss: 59.413.. Train L1 norm: 5.105.. Val L1 norm: 3.764.. Train Linf norm: 1934.051.. Val Linf norm: 609.763\n",
            "Epoch 79/113.. Train loss: 34.553.. Val loss: 59.414.. Train L1 norm: 5.063.. Val L1 norm: 3.764.. Train Linf norm: 1855.980.. Val Linf norm: 609.786\n",
            "Epoch 80/113.. Train loss: 34.781.. Val loss: 59.411.. Train L1 norm: 5.120.. Val L1 norm: 3.763.. Train Linf norm: 1826.221.. Val Linf norm: 609.736\n",
            "Epoch 81/113.. Train loss: 34.442.. Val loss: 59.413.. Train L1 norm: 5.092.. Val L1 norm: 3.764.. Train Linf norm: 1846.421.. Val Linf norm: 609.790\n",
            "Epoch 82/113.. Train loss: 34.562.. Val loss: 59.413.. Train L1 norm: 5.128.. Val L1 norm: 3.764.. Train Linf norm: 1914.363.. Val Linf norm: 609.793\n",
            "Epoch 83/113.. Train loss: 34.543.. Val loss: 59.413.. Train L1 norm: 5.042.. Val L1 norm: 3.764.. Train Linf norm: 1814.705.. Val Linf norm: 609.797\n",
            "Epoch 84/113.. Train loss: 34.607.. Val loss: 59.414.. Train L1 norm: 5.126.. Val L1 norm: 3.764.. Train Linf norm: 1858.215.. Val Linf norm: 609.809\n",
            "Epoch 85/113.. Train loss: 34.593.. Val loss: 59.414.. Train L1 norm: 5.075.. Val L1 norm: 3.764.. Train Linf norm: 1934.409.. Val Linf norm: 609.811\n",
            "Epoch 86/113.. Train loss: 34.622.. Val loss: 59.414.. Train L1 norm: 5.017.. Val L1 norm: 3.764.. Train Linf norm: 1819.314.. Val Linf norm: 609.816\n",
            "Epoch 87/113.. Train loss: 34.566.. Val loss: 59.414.. Train L1 norm: 5.230.. Val L1 norm: 3.764.. Train Linf norm: 1950.106.. Val Linf norm: 609.817\n",
            "Epoch 88/113.. Train loss: 34.517.. Val loss: 59.414.. Train L1 norm: 5.062.. Val L1 norm: 3.764.. Train Linf norm: 1949.056.. Val Linf norm: 609.818\n",
            "Epoch 89/113.. Train loss: 34.442.. Val loss: 59.414.. Train L1 norm: 5.083.. Val L1 norm: 3.764.. Train Linf norm: 1910.116.. Val Linf norm: 609.825\n",
            "Epoch 90/113.. Train loss: 34.572.. Val loss: 59.414.. Train L1 norm: 5.018.. Val L1 norm: 3.764.. Train Linf norm: 1840.095.. Val Linf norm: 609.824\n",
            "Epoch 91/113.. Train loss: 34.516.. Val loss: 59.415.. Train L1 norm: 5.054.. Val L1 norm: 3.764.. Train Linf norm: 1895.626.. Val Linf norm: 609.826\n",
            "Epoch 92/113.. Train loss: 34.572.. Val loss: 59.414.. Train L1 norm: 5.072.. Val L1 norm: 3.764.. Train Linf norm: 1804.322.. Val Linf norm: 609.825\n",
            "Epoch 93/113.. Train loss: 34.474.. Val loss: 59.415.. Train L1 norm: 4.982.. Val L1 norm: 3.764.. Train Linf norm: 1712.785.. Val Linf norm: 609.826\n",
            "Epoch 94/113.. Train loss: 34.548.. Val loss: 59.415.. Train L1 norm: 5.194.. Val L1 norm: 3.764.. Train Linf norm: 2034.537.. Val Linf norm: 609.827\n",
            "Epoch 95/113.. Train loss: 34.728.. Val loss: 59.414.. Train L1 norm: 5.166.. Val L1 norm: 3.764.. Train Linf norm: 2010.029.. Val Linf norm: 609.824\n",
            "Epoch 96/113.. Train loss: 34.761.. Val loss: 59.414.. Train L1 norm: 5.063.. Val L1 norm: 3.764.. Train Linf norm: 1596.293.. Val Linf norm: 609.821\n",
            "Epoch 97/113.. Train loss: 34.538.. Val loss: 59.414.. Train L1 norm: 5.053.. Val L1 norm: 3.764.. Train Linf norm: 1789.116.. Val Linf norm: 609.820\n",
            "Epoch 98/113.. Train loss: 34.521.. Val loss: 59.414.. Train L1 norm: 5.009.. Val L1 norm: 3.764.. Train Linf norm: 1868.995.. Val Linf norm: 609.820\n",
            "Epoch 99/113.. Train loss: 34.537.. Val loss: 59.414.. Train L1 norm: 5.076.. Val L1 norm: 3.764.. Train Linf norm: 1925.456.. Val Linf norm: 609.820\n",
            "Epoch 100/113.. Train loss: 34.507.. Val loss: 59.414.. Train L1 norm: 5.033.. Val L1 norm: 3.764.. Train Linf norm: 1801.915.. Val Linf norm: 609.820\n",
            "Epoch 101/113.. Train loss: 34.574.. Val loss: 59.414.. Train L1 norm: 5.037.. Val L1 norm: 3.764.. Train Linf norm: 1742.161.. Val Linf norm: 609.820\n",
            "Epoch 102/113.. Train loss: 34.531.. Val loss: 59.414.. Train L1 norm: 5.251.. Val L1 norm: 3.764.. Train Linf norm: 2213.141.. Val Linf norm: 609.819\n",
            "Epoch 103/113.. Train loss: 34.516.. Val loss: 59.414.. Train L1 norm: 4.969.. Val L1 norm: 3.764.. Train Linf norm: 1884.595.. Val Linf norm: 609.819\n",
            "Epoch 104/113.. Train loss: 34.549.. Val loss: 59.414.. Train L1 norm: 5.203.. Val L1 norm: 3.764.. Train Linf norm: 1993.277.. Val Linf norm: 609.818\n",
            "Epoch 105/113.. Train loss: 34.423.. Val loss: 59.414.. Train L1 norm: 5.041.. Val L1 norm: 3.764.. Train Linf norm: 1907.519.. Val Linf norm: 609.817\n",
            "Epoch 106/113.. Train loss: 34.801.. Val loss: 59.414.. Train L1 norm: 4.996.. Val L1 norm: 3.764.. Train Linf norm: 1877.142.. Val Linf norm: 609.814\n",
            "Epoch 107/113.. Train loss: 34.491.. Val loss: 59.414.. Train L1 norm: 5.120.. Val L1 norm: 3.764.. Train Linf norm: 1967.415.. Val Linf norm: 609.814\n",
            "Epoch 108/113.. Train loss: 34.565.. Val loss: 59.414.. Train L1 norm: 5.157.. Val L1 norm: 3.764.. Train Linf norm: 1891.771.. Val Linf norm: 609.813\n",
            "Epoch 109/113.. Train loss: 34.822.. Val loss: 59.414.. Train L1 norm: 5.108.. Val L1 norm: 3.764.. Train Linf norm: 1893.137.. Val Linf norm: 609.811\n",
            "Epoch 110/113.. Train loss: 34.557.. Val loss: 59.414.. Train L1 norm: 4.999.. Val L1 norm: 3.764.. Train Linf norm: 1758.345.. Val Linf norm: 609.810\n",
            "Epoch 111/113.. Train loss: 34.417.. Val loss: 59.414.. Train L1 norm: 5.154.. Val L1 norm: 3.764.. Train Linf norm: 1993.721.. Val Linf norm: 609.811\n",
            "Epoch 112/113.. Train loss: 34.425.. Val loss: 59.414.. Train L1 norm: 4.916.. Val L1 norm: 3.764.. Train Linf norm: 1514.458.. Val Linf norm: 609.811\n"
          ]
        },
        {
          "output_type": "stream",
          "name": "stderr",
          "text": [
            "[I 2023-06-02 10:50:54,659] Trial 9 finished with value: 3.7637235135396323 and parameters: {'n_layers': 7, 'n_units_0': 137, 'n_units_1': 2348, 'n_units_2': 1537, 'n_units_3': 1219, 'n_units_4': 3930, 'n_units_5': 2836, 'n_units_6': 2831, 'hidden_activation': 'Swish', 'output_activation': 'Linear', 'loss': 'MSE', 'optimizer': 'SGD', 'lr': 3.663710005000093e-05, 'batch_size': 1024, 'n_epochs': 113, 'scheduler': 'ReduceLROnPlateau', 'dropout_rate': 0.26428764801249494, 'weight_decay': 0.0033318109911066817, 'momentum': 0.24035372073445488, 'factor': 0.2123700186296222, 'patience': 7, 'threshold': 0.008156466764092006}. Best is trial 7 with value: 1.858821445719401.\n"
          ]
        },
        {
          "output_type": "stream",
          "name": "stdout",
          "text": [
            "Epoch 113/113.. Train loss: 34.529.. Val loss: 59.414.. Train L1 norm: 5.071.. Val L1 norm: 3.764.. Train Linf norm: 1869.599.. Val Linf norm: 609.812\n"
          ]
        },
        {
          "output_type": "display_data",
          "data": {
            "text/html": [
              "<html>\n",
              "<head><meta charset=\"utf-8\" /></head>\n",
              "<body>\n",
              "    <div>            <script src=\"https://cdnjs.cloudflare.com/ajax/libs/mathjax/2.7.5/MathJax.js?config=TeX-AMS-MML_SVG\"></script><script type=\"text/javascript\">if (window.MathJax && window.MathJax.Hub && window.MathJax.Hub.Config) {window.MathJax.Hub.Config({SVG: {font: \"STIX-Web\"}});}</script>                <script type=\"text/javascript\">window.PlotlyConfig = {MathJaxConfig: 'local'};</script>\n",
              "        <script src=\"https://cdn.plot.ly/plotly-2.18.2.min.js\"></script>                <div id=\"4c2724e6-988e-47cf-b119-dd915665acd6\" class=\"plotly-graph-div\" style=\"height:525px; width:100%;\"></div>            <script type=\"text/javascript\">                                    window.PLOTLYENV=window.PLOTLYENV || {};                                    if (document.getElementById(\"4c2724e6-988e-47cf-b119-dd915665acd6\")) {                    Plotly.newPlot(                        \"4c2724e6-988e-47cf-b119-dd915665acd6\",                        [{\"mode\":\"markers\",\"name\":\"Objective Value\",\"x\":[0,1,2,3,4,7,9],\"y\":[361840040821304.0,4.148916990661621,3.616880493545532,2.6828094604492185,3.90576324412028,1.858821445719401,3.7637235135396323],\"type\":\"scatter\"},{\"name\":\"Best Value\",\"x\":[0,1,2,3,4,7,9],\"y\":[361840040821304.0,4.148916990661621,3.616880493545532,2.6828094604492185,2.6828094604492185,1.858821445719401,1.858821445719401],\"type\":\"scatter\"}],                        {\"title\":{\"text\":\"Optimization History Plot\"},\"xaxis\":{\"title\":{\"text\":\"Trial\"}},\"yaxis\":{\"title\":{\"text\":\"Objective Value\"}},\"template\":{\"data\":{\"histogram2dcontour\":[{\"type\":\"histogram2dcontour\",\"colorbar\":{\"outlinewidth\":0,\"ticks\":\"\"},\"colorscale\":[[0.0,\"#0d0887\"],[0.1111111111111111,\"#46039f\"],[0.2222222222222222,\"#7201a8\"],[0.3333333333333333,\"#9c179e\"],[0.4444444444444444,\"#bd3786\"],[0.5555555555555556,\"#d8576b\"],[0.6666666666666666,\"#ed7953\"],[0.7777777777777778,\"#fb9f3a\"],[0.8888888888888888,\"#fdca26\"],[1.0,\"#f0f921\"]]}],\"choropleth\":[{\"type\":\"choropleth\",\"colorbar\":{\"outlinewidth\":0,\"ticks\":\"\"}}],\"histogram2d\":[{\"type\":\"histogram2d\",\"colorbar\":{\"outlinewidth\":0,\"ticks\":\"\"},\"colorscale\":[[0.0,\"#0d0887\"],[0.1111111111111111,\"#46039f\"],[0.2222222222222222,\"#7201a8\"],[0.3333333333333333,\"#9c179e\"],[0.4444444444444444,\"#bd3786\"],[0.5555555555555556,\"#d8576b\"],[0.6666666666666666,\"#ed7953\"],[0.7777777777777778,\"#fb9f3a\"],[0.8888888888888888,\"#fdca26\"],[1.0,\"#f0f921\"]]}],\"heatmap\":[{\"type\":\"heatmap\",\"colorbar\":{\"outlinewidth\":0,\"ticks\":\"\"},\"colorscale\":[[0.0,\"#0d0887\"],[0.1111111111111111,\"#46039f\"],[0.2222222222222222,\"#7201a8\"],[0.3333333333333333,\"#9c179e\"],[0.4444444444444444,\"#bd3786\"],[0.5555555555555556,\"#d8576b\"],[0.6666666666666666,\"#ed7953\"],[0.7777777777777778,\"#fb9f3a\"],[0.8888888888888888,\"#fdca26\"],[1.0,\"#f0f921\"]]}],\"heatmapgl\":[{\"type\":\"heatmapgl\",\"colorbar\":{\"outlinewidth\":0,\"ticks\":\"\"},\"colorscale\":[[0.0,\"#0d0887\"],[0.1111111111111111,\"#46039f\"],[0.2222222222222222,\"#7201a8\"],[0.3333333333333333,\"#9c179e\"],[0.4444444444444444,\"#bd3786\"],[0.5555555555555556,\"#d8576b\"],[0.6666666666666666,\"#ed7953\"],[0.7777777777777778,\"#fb9f3a\"],[0.8888888888888888,\"#fdca26\"],[1.0,\"#f0f921\"]]}],\"contourcarpet\":[{\"type\":\"contourcarpet\",\"colorbar\":{\"outlinewidth\":0,\"ticks\":\"\"}}],\"contour\":[{\"type\":\"contour\",\"colorbar\":{\"outlinewidth\":0,\"ticks\":\"\"},\"colorscale\":[[0.0,\"#0d0887\"],[0.1111111111111111,\"#46039f\"],[0.2222222222222222,\"#7201a8\"],[0.3333333333333333,\"#9c179e\"],[0.4444444444444444,\"#bd3786\"],[0.5555555555555556,\"#d8576b\"],[0.6666666666666666,\"#ed7953\"],[0.7777777777777778,\"#fb9f3a\"],[0.8888888888888888,\"#fdca26\"],[1.0,\"#f0f921\"]]}],\"surface\":[{\"type\":\"surface\",\"colorbar\":{\"outlinewidth\":0,\"ticks\":\"\"},\"colorscale\":[[0.0,\"#0d0887\"],[0.1111111111111111,\"#46039f\"],[0.2222222222222222,\"#7201a8\"],[0.3333333333333333,\"#9c179e\"],[0.4444444444444444,\"#bd3786\"],[0.5555555555555556,\"#d8576b\"],[0.6666666666666666,\"#ed7953\"],[0.7777777777777778,\"#fb9f3a\"],[0.8888888888888888,\"#fdca26\"],[1.0,\"#f0f921\"]]}],\"mesh3d\":[{\"type\":\"mesh3d\",\"colorbar\":{\"outlinewidth\":0,\"ticks\":\"\"}}],\"scatter\":[{\"fillpattern\":{\"fillmode\":\"overlay\",\"size\":10,\"solidity\":0.2},\"type\":\"scatter\"}],\"parcoords\":[{\"type\":\"parcoords\",\"line\":{\"colorbar\":{\"outlinewidth\":0,\"ticks\":\"\"}}}],\"scatterpolargl\":[{\"type\":\"scatterpolargl\",\"marker\":{\"colorbar\":{\"outlinewidth\":0,\"ticks\":\"\"}}}],\"bar\":[{\"error_x\":{\"color\":\"#2a3f5f\"},\"error_y\":{\"color\":\"#2a3f5f\"},\"marker\":{\"line\":{\"color\":\"#E5ECF6\",\"width\":0.5},\"pattern\":{\"fillmode\":\"overlay\",\"size\":10,\"solidity\":0.2}},\"type\":\"bar\"}],\"scattergeo\":[{\"type\":\"scattergeo\",\"marker\":{\"colorbar\":{\"outlinewidth\":0,\"ticks\":\"\"}}}],\"scatterpolar\":[{\"type\":\"scatterpolar\",\"marker\":{\"colorbar\":{\"outlinewidth\":0,\"ticks\":\"\"}}}],\"histogram\":[{\"marker\":{\"pattern\":{\"fillmode\":\"overlay\",\"size\":10,\"solidity\":0.2}},\"type\":\"histogram\"}],\"scattergl\":[{\"type\":\"scattergl\",\"marker\":{\"colorbar\":{\"outlinewidth\":0,\"ticks\":\"\"}}}],\"scatter3d\":[{\"type\":\"scatter3d\",\"line\":{\"colorbar\":{\"outlinewidth\":0,\"ticks\":\"\"}},\"marker\":{\"colorbar\":{\"outlinewidth\":0,\"ticks\":\"\"}}}],\"scattermapbox\":[{\"type\":\"scattermapbox\",\"marker\":{\"colorbar\":{\"outlinewidth\":0,\"ticks\":\"\"}}}],\"scatterternary\":[{\"type\":\"scatterternary\",\"marker\":{\"colorbar\":{\"outlinewidth\":0,\"ticks\":\"\"}}}],\"scattercarpet\":[{\"type\":\"scattercarpet\",\"marker\":{\"colorbar\":{\"outlinewidth\":0,\"ticks\":\"\"}}}],\"carpet\":[{\"aaxis\":{\"endlinecolor\":\"#2a3f5f\",\"gridcolor\":\"white\",\"linecolor\":\"white\",\"minorgridcolor\":\"white\",\"startlinecolor\":\"#2a3f5f\"},\"baxis\":{\"endlinecolor\":\"#2a3f5f\",\"gridcolor\":\"white\",\"linecolor\":\"white\",\"minorgridcolor\":\"white\",\"startlinecolor\":\"#2a3f5f\"},\"type\":\"carpet\"}],\"table\":[{\"cells\":{\"fill\":{\"color\":\"#EBF0F8\"},\"line\":{\"color\":\"white\"}},\"header\":{\"fill\":{\"color\":\"#C8D4E3\"},\"line\":{\"color\":\"white\"}},\"type\":\"table\"}],\"barpolar\":[{\"marker\":{\"line\":{\"color\":\"#E5ECF6\",\"width\":0.5},\"pattern\":{\"fillmode\":\"overlay\",\"size\":10,\"solidity\":0.2}},\"type\":\"barpolar\"}],\"pie\":[{\"automargin\":true,\"type\":\"pie\"}]},\"layout\":{\"autotypenumbers\":\"strict\",\"colorway\":[\"#636efa\",\"#EF553B\",\"#00cc96\",\"#ab63fa\",\"#FFA15A\",\"#19d3f3\",\"#FF6692\",\"#B6E880\",\"#FF97FF\",\"#FECB52\"],\"font\":{\"color\":\"#2a3f5f\"},\"hovermode\":\"closest\",\"hoverlabel\":{\"align\":\"left\"},\"paper_bgcolor\":\"white\",\"plot_bgcolor\":\"#E5ECF6\",\"polar\":{\"bgcolor\":\"#E5ECF6\",\"angularaxis\":{\"gridcolor\":\"white\",\"linecolor\":\"white\",\"ticks\":\"\"},\"radialaxis\":{\"gridcolor\":\"white\",\"linecolor\":\"white\",\"ticks\":\"\"}},\"ternary\":{\"bgcolor\":\"#E5ECF6\",\"aaxis\":{\"gridcolor\":\"white\",\"linecolor\":\"white\",\"ticks\":\"\"},\"baxis\":{\"gridcolor\":\"white\",\"linecolor\":\"white\",\"ticks\":\"\"},\"caxis\":{\"gridcolor\":\"white\",\"linecolor\":\"white\",\"ticks\":\"\"}},\"coloraxis\":{\"colorbar\":{\"outlinewidth\":0,\"ticks\":\"\"}},\"colorscale\":{\"sequential\":[[0.0,\"#0d0887\"],[0.1111111111111111,\"#46039f\"],[0.2222222222222222,\"#7201a8\"],[0.3333333333333333,\"#9c179e\"],[0.4444444444444444,\"#bd3786\"],[0.5555555555555556,\"#d8576b\"],[0.6666666666666666,\"#ed7953\"],[0.7777777777777778,\"#fb9f3a\"],[0.8888888888888888,\"#fdca26\"],[1.0,\"#f0f921\"]],\"sequentialminus\":[[0.0,\"#0d0887\"],[0.1111111111111111,\"#46039f\"],[0.2222222222222222,\"#7201a8\"],[0.3333333333333333,\"#9c179e\"],[0.4444444444444444,\"#bd3786\"],[0.5555555555555556,\"#d8576b\"],[0.6666666666666666,\"#ed7953\"],[0.7777777777777778,\"#fb9f3a\"],[0.8888888888888888,\"#fdca26\"],[1.0,\"#f0f921\"]],\"diverging\":[[0,\"#8e0152\"],[0.1,\"#c51b7d\"],[0.2,\"#de77ae\"],[0.3,\"#f1b6da\"],[0.4,\"#fde0ef\"],[0.5,\"#f7f7f7\"],[0.6,\"#e6f5d0\"],[0.7,\"#b8e186\"],[0.8,\"#7fbc41\"],[0.9,\"#4d9221\"],[1,\"#276419\"]]},\"xaxis\":{\"gridcolor\":\"white\",\"linecolor\":\"white\",\"ticks\":\"\",\"title\":{\"standoff\":15},\"zerolinecolor\":\"white\",\"automargin\":true,\"zerolinewidth\":2},\"yaxis\":{\"gridcolor\":\"white\",\"linecolor\":\"white\",\"ticks\":\"\",\"title\":{\"standoff\":15},\"zerolinecolor\":\"white\",\"automargin\":true,\"zerolinewidth\":2},\"scene\":{\"xaxis\":{\"backgroundcolor\":\"#E5ECF6\",\"gridcolor\":\"white\",\"linecolor\":\"white\",\"showbackground\":true,\"ticks\":\"\",\"zerolinecolor\":\"white\",\"gridwidth\":2},\"yaxis\":{\"backgroundcolor\":\"#E5ECF6\",\"gridcolor\":\"white\",\"linecolor\":\"white\",\"showbackground\":true,\"ticks\":\"\",\"zerolinecolor\":\"white\",\"gridwidth\":2},\"zaxis\":{\"backgroundcolor\":\"#E5ECF6\",\"gridcolor\":\"white\",\"linecolor\":\"white\",\"showbackground\":true,\"ticks\":\"\",\"zerolinecolor\":\"white\",\"gridwidth\":2}},\"shapedefaults\":{\"line\":{\"color\":\"#2a3f5f\"}},\"annotationdefaults\":{\"arrowcolor\":\"#2a3f5f\",\"arrowhead\":0,\"arrowwidth\":1},\"geo\":{\"bgcolor\":\"white\",\"landcolor\":\"#E5ECF6\",\"subunitcolor\":\"white\",\"showland\":true,\"showlakes\":true,\"lakecolor\":\"white\"},\"title\":{\"x\":0.05},\"mapbox\":{\"style\":\"light\"}}}},                        {\"responsive\": true}                    ).then(function(){\n",
              "                            \n",
              "var gd = document.getElementById('4c2724e6-988e-47cf-b119-dd915665acd6');\n",
              "var x = new MutationObserver(function (mutations, observer) {{\n",
              "        var display = window.getComputedStyle(gd).display;\n",
              "        if (!display || display === 'none') {{\n",
              "            console.log([gd, 'removed!']);\n",
              "            Plotly.purge(gd);\n",
              "            observer.disconnect();\n",
              "        }}\n",
              "}});\n",
              "\n",
              "// Listen for the removal of the full notebook cells\n",
              "var notebookContainer = gd.closest('#notebook-container');\n",
              "if (notebookContainer) {{\n",
              "    x.observe(notebookContainer, {childList: true});\n",
              "}}\n",
              "\n",
              "// Listen for the clearing of the current output cell\n",
              "var outputEl = gd.closest('.output');\n",
              "if (outputEl) {{\n",
              "    x.observe(outputEl, {childList: true});\n",
              "}}\n",
              "\n",
              "                        })                };                            </script>        </div>\n",
              "</body>\n",
              "</html>"
            ]
          },
          "metadata": {}
        },
        {
          "output_type": "stream",
          "name": "stderr",
          "text": [
            "[W 2023-06-02 10:50:55,079] Your study has only completed trials with missing parameters.\n",
            "<ipython-input-37-0c79a7da1449>:44: FutureWarning:\n",
            "\n",
            "suggest_loguniform has been deprecated in v3.0.0. This feature will be removed in v6.0.0. See https://github.com/optuna/optuna/releases/tag/v3.0.0. Use suggest_float(..., log=True) instead.\n",
            "\n",
            "<ipython-input-37-0c79a7da1449>:76: FutureWarning:\n",
            "\n",
            "suggest_uniform has been deprecated in v3.0.0. This feature will be removed in v6.0.0. See https://github.com/optuna/optuna/releases/tag/v3.0.0. Use suggest_float instead.\n",
            "\n",
            "<ipython-input-37-0c79a7da1449>:168: FutureWarning:\n",
            "\n",
            "suggest_uniform has been deprecated in v3.0.0. This feature will be removed in v6.0.0. See https://github.com/optuna/optuna/releases/tag/v3.0.0. Use suggest_float instead.\n",
            "\n",
            "<ipython-input-37-0c79a7da1449>:175: FutureWarning:\n",
            "\n",
            "suggest_loguniform has been deprecated in v3.0.0. This feature will be removed in v6.0.0. See https://github.com/optuna/optuna/releases/tag/v3.0.0. Use suggest_float(..., log=True) instead.\n",
            "\n",
            "[I 2023-06-02 10:51:02,368] Trial 10 pruned. \n"
          ]
        },
        {
          "output_type": "stream",
          "name": "stdout",
          "text": [
            "Epoch 1/55.. Train loss: 3.897.. Val loss: 3.757.. Train L1 norm: 4.708.. Val L1 norm: 3.400.. Train Linf norm: 98.277.. Val Linf norm: 59.391\n"
          ]
        },
        {
          "output_type": "display_data",
          "data": {
            "text/html": [
              "<html>\n",
              "<head><meta charset=\"utf-8\" /></head>\n",
              "<body>\n",
              "    <div>            <script src=\"https://cdnjs.cloudflare.com/ajax/libs/mathjax/2.7.5/MathJax.js?config=TeX-AMS-MML_SVG\"></script><script type=\"text/javascript\">if (window.MathJax && window.MathJax.Hub && window.MathJax.Hub.Config) {window.MathJax.Hub.Config({SVG: {font: \"STIX-Web\"}});}</script>                <script type=\"text/javascript\">window.PlotlyConfig = {MathJaxConfig: 'local'};</script>\n",
              "        <script src=\"https://cdn.plot.ly/plotly-2.18.2.min.js\"></script>                <div id=\"cc8f5609-5c51-4379-8895-bf86c4430588\" class=\"plotly-graph-div\" style=\"height:525px; width:100%;\"></div>            <script type=\"text/javascript\">                                    window.PLOTLYENV=window.PLOTLYENV || {};                                    if (document.getElementById(\"cc8f5609-5c51-4379-8895-bf86c4430588\")) {                    Plotly.newPlot(                        \"cc8f5609-5c51-4379-8895-bf86c4430588\",                        [{\"mode\":\"markers\",\"name\":\"Objective Value\",\"x\":[0,1,2,3,4,7,9],\"y\":[361840040821304.0,4.148916990661621,3.616880493545532,2.6828094604492185,3.90576324412028,1.858821445719401,3.7637235135396323],\"type\":\"scatter\"},{\"name\":\"Best Value\",\"x\":[0,1,2,3,4,7,9],\"y\":[361840040821304.0,4.148916990661621,3.616880493545532,2.6828094604492185,2.6828094604492185,1.858821445719401,1.858821445719401],\"type\":\"scatter\"}],                        {\"title\":{\"text\":\"Optimization History Plot\"},\"xaxis\":{\"title\":{\"text\":\"Trial\"}},\"yaxis\":{\"title\":{\"text\":\"Objective Value\"}},\"template\":{\"data\":{\"histogram2dcontour\":[{\"type\":\"histogram2dcontour\",\"colorbar\":{\"outlinewidth\":0,\"ticks\":\"\"},\"colorscale\":[[0.0,\"#0d0887\"],[0.1111111111111111,\"#46039f\"],[0.2222222222222222,\"#7201a8\"],[0.3333333333333333,\"#9c179e\"],[0.4444444444444444,\"#bd3786\"],[0.5555555555555556,\"#d8576b\"],[0.6666666666666666,\"#ed7953\"],[0.7777777777777778,\"#fb9f3a\"],[0.8888888888888888,\"#fdca26\"],[1.0,\"#f0f921\"]]}],\"choropleth\":[{\"type\":\"choropleth\",\"colorbar\":{\"outlinewidth\":0,\"ticks\":\"\"}}],\"histogram2d\":[{\"type\":\"histogram2d\",\"colorbar\":{\"outlinewidth\":0,\"ticks\":\"\"},\"colorscale\":[[0.0,\"#0d0887\"],[0.1111111111111111,\"#46039f\"],[0.2222222222222222,\"#7201a8\"],[0.3333333333333333,\"#9c179e\"],[0.4444444444444444,\"#bd3786\"],[0.5555555555555556,\"#d8576b\"],[0.6666666666666666,\"#ed7953\"],[0.7777777777777778,\"#fb9f3a\"],[0.8888888888888888,\"#fdca26\"],[1.0,\"#f0f921\"]]}],\"heatmap\":[{\"type\":\"heatmap\",\"colorbar\":{\"outlinewidth\":0,\"ticks\":\"\"},\"colorscale\":[[0.0,\"#0d0887\"],[0.1111111111111111,\"#46039f\"],[0.2222222222222222,\"#7201a8\"],[0.3333333333333333,\"#9c179e\"],[0.4444444444444444,\"#bd3786\"],[0.5555555555555556,\"#d8576b\"],[0.6666666666666666,\"#ed7953\"],[0.7777777777777778,\"#fb9f3a\"],[0.8888888888888888,\"#fdca26\"],[1.0,\"#f0f921\"]]}],\"heatmapgl\":[{\"type\":\"heatmapgl\",\"colorbar\":{\"outlinewidth\":0,\"ticks\":\"\"},\"colorscale\":[[0.0,\"#0d0887\"],[0.1111111111111111,\"#46039f\"],[0.2222222222222222,\"#7201a8\"],[0.3333333333333333,\"#9c179e\"],[0.4444444444444444,\"#bd3786\"],[0.5555555555555556,\"#d8576b\"],[0.6666666666666666,\"#ed7953\"],[0.7777777777777778,\"#fb9f3a\"],[0.8888888888888888,\"#fdca26\"],[1.0,\"#f0f921\"]]}],\"contourcarpet\":[{\"type\":\"contourcarpet\",\"colorbar\":{\"outlinewidth\":0,\"ticks\":\"\"}}],\"contour\":[{\"type\":\"contour\",\"colorbar\":{\"outlinewidth\":0,\"ticks\":\"\"},\"colorscale\":[[0.0,\"#0d0887\"],[0.1111111111111111,\"#46039f\"],[0.2222222222222222,\"#7201a8\"],[0.3333333333333333,\"#9c179e\"],[0.4444444444444444,\"#bd3786\"],[0.5555555555555556,\"#d8576b\"],[0.6666666666666666,\"#ed7953\"],[0.7777777777777778,\"#fb9f3a\"],[0.8888888888888888,\"#fdca26\"],[1.0,\"#f0f921\"]]}],\"surface\":[{\"type\":\"surface\",\"colorbar\":{\"outlinewidth\":0,\"ticks\":\"\"},\"colorscale\":[[0.0,\"#0d0887\"],[0.1111111111111111,\"#46039f\"],[0.2222222222222222,\"#7201a8\"],[0.3333333333333333,\"#9c179e\"],[0.4444444444444444,\"#bd3786\"],[0.5555555555555556,\"#d8576b\"],[0.6666666666666666,\"#ed7953\"],[0.7777777777777778,\"#fb9f3a\"],[0.8888888888888888,\"#fdca26\"],[1.0,\"#f0f921\"]]}],\"mesh3d\":[{\"type\":\"mesh3d\",\"colorbar\":{\"outlinewidth\":0,\"ticks\":\"\"}}],\"scatter\":[{\"fillpattern\":{\"fillmode\":\"overlay\",\"size\":10,\"solidity\":0.2},\"type\":\"scatter\"}],\"parcoords\":[{\"type\":\"parcoords\",\"line\":{\"colorbar\":{\"outlinewidth\":0,\"ticks\":\"\"}}}],\"scatterpolargl\":[{\"type\":\"scatterpolargl\",\"marker\":{\"colorbar\":{\"outlinewidth\":0,\"ticks\":\"\"}}}],\"bar\":[{\"error_x\":{\"color\":\"#2a3f5f\"},\"error_y\":{\"color\":\"#2a3f5f\"},\"marker\":{\"line\":{\"color\":\"#E5ECF6\",\"width\":0.5},\"pattern\":{\"fillmode\":\"overlay\",\"size\":10,\"solidity\":0.2}},\"type\":\"bar\"}],\"scattergeo\":[{\"type\":\"scattergeo\",\"marker\":{\"colorbar\":{\"outlinewidth\":0,\"ticks\":\"\"}}}],\"scatterpolar\":[{\"type\":\"scatterpolar\",\"marker\":{\"colorbar\":{\"outlinewidth\":0,\"ticks\":\"\"}}}],\"histogram\":[{\"marker\":{\"pattern\":{\"fillmode\":\"overlay\",\"size\":10,\"solidity\":0.2}},\"type\":\"histogram\"}],\"scattergl\":[{\"type\":\"scattergl\",\"marker\":{\"colorbar\":{\"outlinewidth\":0,\"ticks\":\"\"}}}],\"scatter3d\":[{\"type\":\"scatter3d\",\"line\":{\"colorbar\":{\"outlinewidth\":0,\"ticks\":\"\"}},\"marker\":{\"colorbar\":{\"outlinewidth\":0,\"ticks\":\"\"}}}],\"scattermapbox\":[{\"type\":\"scattermapbox\",\"marker\":{\"colorbar\":{\"outlinewidth\":0,\"ticks\":\"\"}}}],\"scatterternary\":[{\"type\":\"scatterternary\",\"marker\":{\"colorbar\":{\"outlinewidth\":0,\"ticks\":\"\"}}}],\"scattercarpet\":[{\"type\":\"scattercarpet\",\"marker\":{\"colorbar\":{\"outlinewidth\":0,\"ticks\":\"\"}}}],\"carpet\":[{\"aaxis\":{\"endlinecolor\":\"#2a3f5f\",\"gridcolor\":\"white\",\"linecolor\":\"white\",\"minorgridcolor\":\"white\",\"startlinecolor\":\"#2a3f5f\"},\"baxis\":{\"endlinecolor\":\"#2a3f5f\",\"gridcolor\":\"white\",\"linecolor\":\"white\",\"minorgridcolor\":\"white\",\"startlinecolor\":\"#2a3f5f\"},\"type\":\"carpet\"}],\"table\":[{\"cells\":{\"fill\":{\"color\":\"#EBF0F8\"},\"line\":{\"color\":\"white\"}},\"header\":{\"fill\":{\"color\":\"#C8D4E3\"},\"line\":{\"color\":\"white\"}},\"type\":\"table\"}],\"barpolar\":[{\"marker\":{\"line\":{\"color\":\"#E5ECF6\",\"width\":0.5},\"pattern\":{\"fillmode\":\"overlay\",\"size\":10,\"solidity\":0.2}},\"type\":\"barpolar\"}],\"pie\":[{\"automargin\":true,\"type\":\"pie\"}]},\"layout\":{\"autotypenumbers\":\"strict\",\"colorway\":[\"#636efa\",\"#EF553B\",\"#00cc96\",\"#ab63fa\",\"#FFA15A\",\"#19d3f3\",\"#FF6692\",\"#B6E880\",\"#FF97FF\",\"#FECB52\"],\"font\":{\"color\":\"#2a3f5f\"},\"hovermode\":\"closest\",\"hoverlabel\":{\"align\":\"left\"},\"paper_bgcolor\":\"white\",\"plot_bgcolor\":\"#E5ECF6\",\"polar\":{\"bgcolor\":\"#E5ECF6\",\"angularaxis\":{\"gridcolor\":\"white\",\"linecolor\":\"white\",\"ticks\":\"\"},\"radialaxis\":{\"gridcolor\":\"white\",\"linecolor\":\"white\",\"ticks\":\"\"}},\"ternary\":{\"bgcolor\":\"#E5ECF6\",\"aaxis\":{\"gridcolor\":\"white\",\"linecolor\":\"white\",\"ticks\":\"\"},\"baxis\":{\"gridcolor\":\"white\",\"linecolor\":\"white\",\"ticks\":\"\"},\"caxis\":{\"gridcolor\":\"white\",\"linecolor\":\"white\",\"ticks\":\"\"}},\"coloraxis\":{\"colorbar\":{\"outlinewidth\":0,\"ticks\":\"\"}},\"colorscale\":{\"sequential\":[[0.0,\"#0d0887\"],[0.1111111111111111,\"#46039f\"],[0.2222222222222222,\"#7201a8\"],[0.3333333333333333,\"#9c179e\"],[0.4444444444444444,\"#bd3786\"],[0.5555555555555556,\"#d8576b\"],[0.6666666666666666,\"#ed7953\"],[0.7777777777777778,\"#fb9f3a\"],[0.8888888888888888,\"#fdca26\"],[1.0,\"#f0f921\"]],\"sequentialminus\":[[0.0,\"#0d0887\"],[0.1111111111111111,\"#46039f\"],[0.2222222222222222,\"#7201a8\"],[0.3333333333333333,\"#9c179e\"],[0.4444444444444444,\"#bd3786\"],[0.5555555555555556,\"#d8576b\"],[0.6666666666666666,\"#ed7953\"],[0.7777777777777778,\"#fb9f3a\"],[0.8888888888888888,\"#fdca26\"],[1.0,\"#f0f921\"]],\"diverging\":[[0,\"#8e0152\"],[0.1,\"#c51b7d\"],[0.2,\"#de77ae\"],[0.3,\"#f1b6da\"],[0.4,\"#fde0ef\"],[0.5,\"#f7f7f7\"],[0.6,\"#e6f5d0\"],[0.7,\"#b8e186\"],[0.8,\"#7fbc41\"],[0.9,\"#4d9221\"],[1,\"#276419\"]]},\"xaxis\":{\"gridcolor\":\"white\",\"linecolor\":\"white\",\"ticks\":\"\",\"title\":{\"standoff\":15},\"zerolinecolor\":\"white\",\"automargin\":true,\"zerolinewidth\":2},\"yaxis\":{\"gridcolor\":\"white\",\"linecolor\":\"white\",\"ticks\":\"\",\"title\":{\"standoff\":15},\"zerolinecolor\":\"white\",\"automargin\":true,\"zerolinewidth\":2},\"scene\":{\"xaxis\":{\"backgroundcolor\":\"#E5ECF6\",\"gridcolor\":\"white\",\"linecolor\":\"white\",\"showbackground\":true,\"ticks\":\"\",\"zerolinecolor\":\"white\",\"gridwidth\":2},\"yaxis\":{\"backgroundcolor\":\"#E5ECF6\",\"gridcolor\":\"white\",\"linecolor\":\"white\",\"showbackground\":true,\"ticks\":\"\",\"zerolinecolor\":\"white\",\"gridwidth\":2},\"zaxis\":{\"backgroundcolor\":\"#E5ECF6\",\"gridcolor\":\"white\",\"linecolor\":\"white\",\"showbackground\":true,\"ticks\":\"\",\"zerolinecolor\":\"white\",\"gridwidth\":2}},\"shapedefaults\":{\"line\":{\"color\":\"#2a3f5f\"}},\"annotationdefaults\":{\"arrowcolor\":\"#2a3f5f\",\"arrowhead\":0,\"arrowwidth\":1},\"geo\":{\"bgcolor\":\"white\",\"landcolor\":\"#E5ECF6\",\"subunitcolor\":\"white\",\"showland\":true,\"showlakes\":true,\"lakecolor\":\"white\"},\"title\":{\"x\":0.05},\"mapbox\":{\"style\":\"light\"}}}},                        {\"responsive\": true}                    ).then(function(){\n",
              "                            \n",
              "var gd = document.getElementById('cc8f5609-5c51-4379-8895-bf86c4430588');\n",
              "var x = new MutationObserver(function (mutations, observer) {{\n",
              "        var display = window.getComputedStyle(gd).display;\n",
              "        if (!display || display === 'none') {{\n",
              "            console.log([gd, 'removed!']);\n",
              "            Plotly.purge(gd);\n",
              "            observer.disconnect();\n",
              "        }}\n",
              "}});\n",
              "\n",
              "// Listen for the removal of the full notebook cells\n",
              "var notebookContainer = gd.closest('#notebook-container');\n",
              "if (notebookContainer) {{\n",
              "    x.observe(notebookContainer, {childList: true});\n",
              "}}\n",
              "\n",
              "// Listen for the clearing of the current output cell\n",
              "var outputEl = gd.closest('.output');\n",
              "if (outputEl) {{\n",
              "    x.observe(outputEl, {childList: true});\n",
              "}}\n",
              "\n",
              "                        })                };                            </script>        </div>\n",
              "</body>\n",
              "</html>"
            ]
          },
          "metadata": {}
        },
        {
          "output_type": "stream",
          "name": "stderr",
          "text": [
            "[W 2023-06-02 10:51:02,972] Your study has only completed trials with missing parameters.\n",
            "<ipython-input-37-0c79a7da1449>:44: FutureWarning:\n",
            "\n",
            "suggest_loguniform has been deprecated in v3.0.0. This feature will be removed in v6.0.0. See https://github.com/optuna/optuna/releases/tag/v3.0.0. Use suggest_float(..., log=True) instead.\n",
            "\n",
            "<ipython-input-37-0c79a7da1449>:63: FutureWarning:\n",
            "\n",
            "suggest_uniform has been deprecated in v3.0.0. This feature will be removed in v6.0.0. See https://github.com/optuna/optuna/releases/tag/v3.0.0. Use suggest_float instead.\n",
            "\n",
            "<ipython-input-37-0c79a7da1449>:76: FutureWarning:\n",
            "\n",
            "suggest_uniform has been deprecated in v3.0.0. This feature will be removed in v6.0.0. See https://github.com/optuna/optuna/releases/tag/v3.0.0. Use suggest_float instead.\n",
            "\n",
            "<ipython-input-37-0c79a7da1449>:168: FutureWarning:\n",
            "\n",
            "suggest_uniform has been deprecated in v3.0.0. This feature will be removed in v6.0.0. See https://github.com/optuna/optuna/releases/tag/v3.0.0. Use suggest_float instead.\n",
            "\n",
            "<ipython-input-37-0c79a7da1449>:175: FutureWarning:\n",
            "\n",
            "suggest_loguniform has been deprecated in v3.0.0. This feature will be removed in v6.0.0. See https://github.com/optuna/optuna/releases/tag/v3.0.0. Use suggest_float(..., log=True) instead.\n",
            "\n"
          ]
        },
        {
          "output_type": "stream",
          "name": "stdout",
          "text": [
            "Epoch 1/101.. Train loss: 901.685.. Val loss: 4.626.. Train L1 norm: 888.738.. Val L1 norm: 1.887.. Train Linf norm: 253771.364.. Val Linf norm: 311.971\n"
          ]
        },
        {
          "output_type": "stream",
          "name": "stderr",
          "text": [
            "[I 2023-06-02 10:51:15,592] Trial 11 pruned. \n"
          ]
        },
        {
          "output_type": "stream",
          "name": "stdout",
          "text": [
            "Epoch 2/101.. Train loss: 5.333.. Val loss: 4.696.. Train L1 norm: 3.903.. Val L1 norm: 3.689.. Train Linf norm: 2239.662.. Val Linf norm: 846.350\n"
          ]
        },
        {
          "output_type": "display_data",
          "data": {
            "text/html": [
              "<html>\n",
              "<head><meta charset=\"utf-8\" /></head>\n",
              "<body>\n",
              "    <div>            <script src=\"https://cdnjs.cloudflare.com/ajax/libs/mathjax/2.7.5/MathJax.js?config=TeX-AMS-MML_SVG\"></script><script type=\"text/javascript\">if (window.MathJax && window.MathJax.Hub && window.MathJax.Hub.Config) {window.MathJax.Hub.Config({SVG: {font: \"STIX-Web\"}});}</script>                <script type=\"text/javascript\">window.PlotlyConfig = {MathJaxConfig: 'local'};</script>\n",
              "        <script src=\"https://cdn.plot.ly/plotly-2.18.2.min.js\"></script>                <div id=\"ad05d345-28bb-425a-b7ad-865b48407842\" class=\"plotly-graph-div\" style=\"height:525px; width:100%;\"></div>            <script type=\"text/javascript\">                                    window.PLOTLYENV=window.PLOTLYENV || {};                                    if (document.getElementById(\"ad05d345-28bb-425a-b7ad-865b48407842\")) {                    Plotly.newPlot(                        \"ad05d345-28bb-425a-b7ad-865b48407842\",                        [{\"mode\":\"markers\",\"name\":\"Objective Value\",\"x\":[0,1,2,3,4,7,9],\"y\":[361840040821304.0,4.148916990661621,3.616880493545532,2.6828094604492185,3.90576324412028,1.858821445719401,3.7637235135396323],\"type\":\"scatter\"},{\"name\":\"Best Value\",\"x\":[0,1,2,3,4,7,9],\"y\":[361840040821304.0,4.148916990661621,3.616880493545532,2.6828094604492185,2.6828094604492185,1.858821445719401,1.858821445719401],\"type\":\"scatter\"}],                        {\"title\":{\"text\":\"Optimization History Plot\"},\"xaxis\":{\"title\":{\"text\":\"Trial\"}},\"yaxis\":{\"title\":{\"text\":\"Objective Value\"}},\"template\":{\"data\":{\"histogram2dcontour\":[{\"type\":\"histogram2dcontour\",\"colorbar\":{\"outlinewidth\":0,\"ticks\":\"\"},\"colorscale\":[[0.0,\"#0d0887\"],[0.1111111111111111,\"#46039f\"],[0.2222222222222222,\"#7201a8\"],[0.3333333333333333,\"#9c179e\"],[0.4444444444444444,\"#bd3786\"],[0.5555555555555556,\"#d8576b\"],[0.6666666666666666,\"#ed7953\"],[0.7777777777777778,\"#fb9f3a\"],[0.8888888888888888,\"#fdca26\"],[1.0,\"#f0f921\"]]}],\"choropleth\":[{\"type\":\"choropleth\",\"colorbar\":{\"outlinewidth\":0,\"ticks\":\"\"}}],\"histogram2d\":[{\"type\":\"histogram2d\",\"colorbar\":{\"outlinewidth\":0,\"ticks\":\"\"},\"colorscale\":[[0.0,\"#0d0887\"],[0.1111111111111111,\"#46039f\"],[0.2222222222222222,\"#7201a8\"],[0.3333333333333333,\"#9c179e\"],[0.4444444444444444,\"#bd3786\"],[0.5555555555555556,\"#d8576b\"],[0.6666666666666666,\"#ed7953\"],[0.7777777777777778,\"#fb9f3a\"],[0.8888888888888888,\"#fdca26\"],[1.0,\"#f0f921\"]]}],\"heatmap\":[{\"type\":\"heatmap\",\"colorbar\":{\"outlinewidth\":0,\"ticks\":\"\"},\"colorscale\":[[0.0,\"#0d0887\"],[0.1111111111111111,\"#46039f\"],[0.2222222222222222,\"#7201a8\"],[0.3333333333333333,\"#9c179e\"],[0.4444444444444444,\"#bd3786\"],[0.5555555555555556,\"#d8576b\"],[0.6666666666666666,\"#ed7953\"],[0.7777777777777778,\"#fb9f3a\"],[0.8888888888888888,\"#fdca26\"],[1.0,\"#f0f921\"]]}],\"heatmapgl\":[{\"type\":\"heatmapgl\",\"colorbar\":{\"outlinewidth\":0,\"ticks\":\"\"},\"colorscale\":[[0.0,\"#0d0887\"],[0.1111111111111111,\"#46039f\"],[0.2222222222222222,\"#7201a8\"],[0.3333333333333333,\"#9c179e\"],[0.4444444444444444,\"#bd3786\"],[0.5555555555555556,\"#d8576b\"],[0.6666666666666666,\"#ed7953\"],[0.7777777777777778,\"#fb9f3a\"],[0.8888888888888888,\"#fdca26\"],[1.0,\"#f0f921\"]]}],\"contourcarpet\":[{\"type\":\"contourcarpet\",\"colorbar\":{\"outlinewidth\":0,\"ticks\":\"\"}}],\"contour\":[{\"type\":\"contour\",\"colorbar\":{\"outlinewidth\":0,\"ticks\":\"\"},\"colorscale\":[[0.0,\"#0d0887\"],[0.1111111111111111,\"#46039f\"],[0.2222222222222222,\"#7201a8\"],[0.3333333333333333,\"#9c179e\"],[0.4444444444444444,\"#bd3786\"],[0.5555555555555556,\"#d8576b\"],[0.6666666666666666,\"#ed7953\"],[0.7777777777777778,\"#fb9f3a\"],[0.8888888888888888,\"#fdca26\"],[1.0,\"#f0f921\"]]}],\"surface\":[{\"type\":\"surface\",\"colorbar\":{\"outlinewidth\":0,\"ticks\":\"\"},\"colorscale\":[[0.0,\"#0d0887\"],[0.1111111111111111,\"#46039f\"],[0.2222222222222222,\"#7201a8\"],[0.3333333333333333,\"#9c179e\"],[0.4444444444444444,\"#bd3786\"],[0.5555555555555556,\"#d8576b\"],[0.6666666666666666,\"#ed7953\"],[0.7777777777777778,\"#fb9f3a\"],[0.8888888888888888,\"#fdca26\"],[1.0,\"#f0f921\"]]}],\"mesh3d\":[{\"type\":\"mesh3d\",\"colorbar\":{\"outlinewidth\":0,\"ticks\":\"\"}}],\"scatter\":[{\"fillpattern\":{\"fillmode\":\"overlay\",\"size\":10,\"solidity\":0.2},\"type\":\"scatter\"}],\"parcoords\":[{\"type\":\"parcoords\",\"line\":{\"colorbar\":{\"outlinewidth\":0,\"ticks\":\"\"}}}],\"scatterpolargl\":[{\"type\":\"scatterpolargl\",\"marker\":{\"colorbar\":{\"outlinewidth\":0,\"ticks\":\"\"}}}],\"bar\":[{\"error_x\":{\"color\":\"#2a3f5f\"},\"error_y\":{\"color\":\"#2a3f5f\"},\"marker\":{\"line\":{\"color\":\"#E5ECF6\",\"width\":0.5},\"pattern\":{\"fillmode\":\"overlay\",\"size\":10,\"solidity\":0.2}},\"type\":\"bar\"}],\"scattergeo\":[{\"type\":\"scattergeo\",\"marker\":{\"colorbar\":{\"outlinewidth\":0,\"ticks\":\"\"}}}],\"scatterpolar\":[{\"type\":\"scatterpolar\",\"marker\":{\"colorbar\":{\"outlinewidth\":0,\"ticks\":\"\"}}}],\"histogram\":[{\"marker\":{\"pattern\":{\"fillmode\":\"overlay\",\"size\":10,\"solidity\":0.2}},\"type\":\"histogram\"}],\"scattergl\":[{\"type\":\"scattergl\",\"marker\":{\"colorbar\":{\"outlinewidth\":0,\"ticks\":\"\"}}}],\"scatter3d\":[{\"type\":\"scatter3d\",\"line\":{\"colorbar\":{\"outlinewidth\":0,\"ticks\":\"\"}},\"marker\":{\"colorbar\":{\"outlinewidth\":0,\"ticks\":\"\"}}}],\"scattermapbox\":[{\"type\":\"scattermapbox\",\"marker\":{\"colorbar\":{\"outlinewidth\":0,\"ticks\":\"\"}}}],\"scatterternary\":[{\"type\":\"scatterternary\",\"marker\":{\"colorbar\":{\"outlinewidth\":0,\"ticks\":\"\"}}}],\"scattercarpet\":[{\"type\":\"scattercarpet\",\"marker\":{\"colorbar\":{\"outlinewidth\":0,\"ticks\":\"\"}}}],\"carpet\":[{\"aaxis\":{\"endlinecolor\":\"#2a3f5f\",\"gridcolor\":\"white\",\"linecolor\":\"white\",\"minorgridcolor\":\"white\",\"startlinecolor\":\"#2a3f5f\"},\"baxis\":{\"endlinecolor\":\"#2a3f5f\",\"gridcolor\":\"white\",\"linecolor\":\"white\",\"minorgridcolor\":\"white\",\"startlinecolor\":\"#2a3f5f\"},\"type\":\"carpet\"}],\"table\":[{\"cells\":{\"fill\":{\"color\":\"#EBF0F8\"},\"line\":{\"color\":\"white\"}},\"header\":{\"fill\":{\"color\":\"#C8D4E3\"},\"line\":{\"color\":\"white\"}},\"type\":\"table\"}],\"barpolar\":[{\"marker\":{\"line\":{\"color\":\"#E5ECF6\",\"width\":0.5},\"pattern\":{\"fillmode\":\"overlay\",\"size\":10,\"solidity\":0.2}},\"type\":\"barpolar\"}],\"pie\":[{\"automargin\":true,\"type\":\"pie\"}]},\"layout\":{\"autotypenumbers\":\"strict\",\"colorway\":[\"#636efa\",\"#EF553B\",\"#00cc96\",\"#ab63fa\",\"#FFA15A\",\"#19d3f3\",\"#FF6692\",\"#B6E880\",\"#FF97FF\",\"#FECB52\"],\"font\":{\"color\":\"#2a3f5f\"},\"hovermode\":\"closest\",\"hoverlabel\":{\"align\":\"left\"},\"paper_bgcolor\":\"white\",\"plot_bgcolor\":\"#E5ECF6\",\"polar\":{\"bgcolor\":\"#E5ECF6\",\"angularaxis\":{\"gridcolor\":\"white\",\"linecolor\":\"white\",\"ticks\":\"\"},\"radialaxis\":{\"gridcolor\":\"white\",\"linecolor\":\"white\",\"ticks\":\"\"}},\"ternary\":{\"bgcolor\":\"#E5ECF6\",\"aaxis\":{\"gridcolor\":\"white\",\"linecolor\":\"white\",\"ticks\":\"\"},\"baxis\":{\"gridcolor\":\"white\",\"linecolor\":\"white\",\"ticks\":\"\"},\"caxis\":{\"gridcolor\":\"white\",\"linecolor\":\"white\",\"ticks\":\"\"}},\"coloraxis\":{\"colorbar\":{\"outlinewidth\":0,\"ticks\":\"\"}},\"colorscale\":{\"sequential\":[[0.0,\"#0d0887\"],[0.1111111111111111,\"#46039f\"],[0.2222222222222222,\"#7201a8\"],[0.3333333333333333,\"#9c179e\"],[0.4444444444444444,\"#bd3786\"],[0.5555555555555556,\"#d8576b\"],[0.6666666666666666,\"#ed7953\"],[0.7777777777777778,\"#fb9f3a\"],[0.8888888888888888,\"#fdca26\"],[1.0,\"#f0f921\"]],\"sequentialminus\":[[0.0,\"#0d0887\"],[0.1111111111111111,\"#46039f\"],[0.2222222222222222,\"#7201a8\"],[0.3333333333333333,\"#9c179e\"],[0.4444444444444444,\"#bd3786\"],[0.5555555555555556,\"#d8576b\"],[0.6666666666666666,\"#ed7953\"],[0.7777777777777778,\"#fb9f3a\"],[0.8888888888888888,\"#fdca26\"],[1.0,\"#f0f921\"]],\"diverging\":[[0,\"#8e0152\"],[0.1,\"#c51b7d\"],[0.2,\"#de77ae\"],[0.3,\"#f1b6da\"],[0.4,\"#fde0ef\"],[0.5,\"#f7f7f7\"],[0.6,\"#e6f5d0\"],[0.7,\"#b8e186\"],[0.8,\"#7fbc41\"],[0.9,\"#4d9221\"],[1,\"#276419\"]]},\"xaxis\":{\"gridcolor\":\"white\",\"linecolor\":\"white\",\"ticks\":\"\",\"title\":{\"standoff\":15},\"zerolinecolor\":\"white\",\"automargin\":true,\"zerolinewidth\":2},\"yaxis\":{\"gridcolor\":\"white\",\"linecolor\":\"white\",\"ticks\":\"\",\"title\":{\"standoff\":15},\"zerolinecolor\":\"white\",\"automargin\":true,\"zerolinewidth\":2},\"scene\":{\"xaxis\":{\"backgroundcolor\":\"#E5ECF6\",\"gridcolor\":\"white\",\"linecolor\":\"white\",\"showbackground\":true,\"ticks\":\"\",\"zerolinecolor\":\"white\",\"gridwidth\":2},\"yaxis\":{\"backgroundcolor\":\"#E5ECF6\",\"gridcolor\":\"white\",\"linecolor\":\"white\",\"showbackground\":true,\"ticks\":\"\",\"zerolinecolor\":\"white\",\"gridwidth\":2},\"zaxis\":{\"backgroundcolor\":\"#E5ECF6\",\"gridcolor\":\"white\",\"linecolor\":\"white\",\"showbackground\":true,\"ticks\":\"\",\"zerolinecolor\":\"white\",\"gridwidth\":2}},\"shapedefaults\":{\"line\":{\"color\":\"#2a3f5f\"}},\"annotationdefaults\":{\"arrowcolor\":\"#2a3f5f\",\"arrowhead\":0,\"arrowwidth\":1},\"geo\":{\"bgcolor\":\"white\",\"landcolor\":\"#E5ECF6\",\"subunitcolor\":\"white\",\"showland\":true,\"showlakes\":true,\"lakecolor\":\"white\"},\"title\":{\"x\":0.05},\"mapbox\":{\"style\":\"light\"}}}},                        {\"responsive\": true}                    ).then(function(){\n",
              "                            \n",
              "var gd = document.getElementById('ad05d345-28bb-425a-b7ad-865b48407842');\n",
              "var x = new MutationObserver(function (mutations, observer) {{\n",
              "        var display = window.getComputedStyle(gd).display;\n",
              "        if (!display || display === 'none') {{\n",
              "            console.log([gd, 'removed!']);\n",
              "            Plotly.purge(gd);\n",
              "            observer.disconnect();\n",
              "        }}\n",
              "}});\n",
              "\n",
              "// Listen for the removal of the full notebook cells\n",
              "var notebookContainer = gd.closest('#notebook-container');\n",
              "if (notebookContainer) {{\n",
              "    x.observe(notebookContainer, {childList: true});\n",
              "}}\n",
              "\n",
              "// Listen for the clearing of the current output cell\n",
              "var outputEl = gd.closest('.output');\n",
              "if (outputEl) {{\n",
              "    x.observe(outputEl, {childList: true});\n",
              "}}\n",
              "\n",
              "                        })                };                            </script>        </div>\n",
              "</body>\n",
              "</html>"
            ]
          },
          "metadata": {}
        },
        {
          "output_type": "stream",
          "name": "stderr",
          "text": [
            "[W 2023-06-02 10:51:16,029] Your study has only completed trials with missing parameters.\n",
            "<ipython-input-37-0c79a7da1449>:44: FutureWarning:\n",
            "\n",
            "suggest_loguniform has been deprecated in v3.0.0. This feature will be removed in v6.0.0. See https://github.com/optuna/optuna/releases/tag/v3.0.0. Use suggest_float(..., log=True) instead.\n",
            "\n",
            "<ipython-input-37-0c79a7da1449>:76: FutureWarning:\n",
            "\n",
            "suggest_uniform has been deprecated in v3.0.0. This feature will be removed in v6.0.0. See https://github.com/optuna/optuna/releases/tag/v3.0.0. Use suggest_float instead.\n",
            "\n",
            "<ipython-input-37-0c79a7da1449>:161: FutureWarning:\n",
            "\n",
            "suggest_uniform has been deprecated in v3.0.0. This feature will be removed in v6.0.0. See https://github.com/optuna/optuna/releases/tag/v3.0.0. Use suggest_float instead.\n",
            "\n",
            "[I 2023-06-02 10:51:27,372] Trial 12 pruned. \n"
          ]
        },
        {
          "output_type": "stream",
          "name": "stdout",
          "text": [
            "Epoch 1/100.. Train loss: 4.422.. Val loss: 4.103.. Train L1 norm: 5.649.. Val L1 norm: 2.898.. Train Linf norm: 734.900.. Val Linf norm: 207.884\n"
          ]
        },
        {
          "output_type": "display_data",
          "data": {
            "text/html": [
              "<html>\n",
              "<head><meta charset=\"utf-8\" /></head>\n",
              "<body>\n",
              "    <div>            <script src=\"https://cdnjs.cloudflare.com/ajax/libs/mathjax/2.7.5/MathJax.js?config=TeX-AMS-MML_SVG\"></script><script type=\"text/javascript\">if (window.MathJax && window.MathJax.Hub && window.MathJax.Hub.Config) {window.MathJax.Hub.Config({SVG: {font: \"STIX-Web\"}});}</script>                <script type=\"text/javascript\">window.PlotlyConfig = {MathJaxConfig: 'local'};</script>\n",
              "        <script src=\"https://cdn.plot.ly/plotly-2.18.2.min.js\"></script>                <div id=\"3be84482-1ee6-48a1-94e0-d3412a8b7f86\" class=\"plotly-graph-div\" style=\"height:525px; width:100%;\"></div>            <script type=\"text/javascript\">                                    window.PLOTLYENV=window.PLOTLYENV || {};                                    if (document.getElementById(\"3be84482-1ee6-48a1-94e0-d3412a8b7f86\")) {                    Plotly.newPlot(                        \"3be84482-1ee6-48a1-94e0-d3412a8b7f86\",                        [{\"mode\":\"markers\",\"name\":\"Objective Value\",\"x\":[0,1,2,3,4,7,9],\"y\":[361840040821304.0,4.148916990661621,3.616880493545532,2.6828094604492185,3.90576324412028,1.858821445719401,3.7637235135396323],\"type\":\"scatter\"},{\"name\":\"Best Value\",\"x\":[0,1,2,3,4,7,9],\"y\":[361840040821304.0,4.148916990661621,3.616880493545532,2.6828094604492185,2.6828094604492185,1.858821445719401,1.858821445719401],\"type\":\"scatter\"}],                        {\"title\":{\"text\":\"Optimization History Plot\"},\"xaxis\":{\"title\":{\"text\":\"Trial\"}},\"yaxis\":{\"title\":{\"text\":\"Objective Value\"}},\"template\":{\"data\":{\"histogram2dcontour\":[{\"type\":\"histogram2dcontour\",\"colorbar\":{\"outlinewidth\":0,\"ticks\":\"\"},\"colorscale\":[[0.0,\"#0d0887\"],[0.1111111111111111,\"#46039f\"],[0.2222222222222222,\"#7201a8\"],[0.3333333333333333,\"#9c179e\"],[0.4444444444444444,\"#bd3786\"],[0.5555555555555556,\"#d8576b\"],[0.6666666666666666,\"#ed7953\"],[0.7777777777777778,\"#fb9f3a\"],[0.8888888888888888,\"#fdca26\"],[1.0,\"#f0f921\"]]}],\"choropleth\":[{\"type\":\"choropleth\",\"colorbar\":{\"outlinewidth\":0,\"ticks\":\"\"}}],\"histogram2d\":[{\"type\":\"histogram2d\",\"colorbar\":{\"outlinewidth\":0,\"ticks\":\"\"},\"colorscale\":[[0.0,\"#0d0887\"],[0.1111111111111111,\"#46039f\"],[0.2222222222222222,\"#7201a8\"],[0.3333333333333333,\"#9c179e\"],[0.4444444444444444,\"#bd3786\"],[0.5555555555555556,\"#d8576b\"],[0.6666666666666666,\"#ed7953\"],[0.7777777777777778,\"#fb9f3a\"],[0.8888888888888888,\"#fdca26\"],[1.0,\"#f0f921\"]]}],\"heatmap\":[{\"type\":\"heatmap\",\"colorbar\":{\"outlinewidth\":0,\"ticks\":\"\"},\"colorscale\":[[0.0,\"#0d0887\"],[0.1111111111111111,\"#46039f\"],[0.2222222222222222,\"#7201a8\"],[0.3333333333333333,\"#9c179e\"],[0.4444444444444444,\"#bd3786\"],[0.5555555555555556,\"#d8576b\"],[0.6666666666666666,\"#ed7953\"],[0.7777777777777778,\"#fb9f3a\"],[0.8888888888888888,\"#fdca26\"],[1.0,\"#f0f921\"]]}],\"heatmapgl\":[{\"type\":\"heatmapgl\",\"colorbar\":{\"outlinewidth\":0,\"ticks\":\"\"},\"colorscale\":[[0.0,\"#0d0887\"],[0.1111111111111111,\"#46039f\"],[0.2222222222222222,\"#7201a8\"],[0.3333333333333333,\"#9c179e\"],[0.4444444444444444,\"#bd3786\"],[0.5555555555555556,\"#d8576b\"],[0.6666666666666666,\"#ed7953\"],[0.7777777777777778,\"#fb9f3a\"],[0.8888888888888888,\"#fdca26\"],[1.0,\"#f0f921\"]]}],\"contourcarpet\":[{\"type\":\"contourcarpet\",\"colorbar\":{\"outlinewidth\":0,\"ticks\":\"\"}}],\"contour\":[{\"type\":\"contour\",\"colorbar\":{\"outlinewidth\":0,\"ticks\":\"\"},\"colorscale\":[[0.0,\"#0d0887\"],[0.1111111111111111,\"#46039f\"],[0.2222222222222222,\"#7201a8\"],[0.3333333333333333,\"#9c179e\"],[0.4444444444444444,\"#bd3786\"],[0.5555555555555556,\"#d8576b\"],[0.6666666666666666,\"#ed7953\"],[0.7777777777777778,\"#fb9f3a\"],[0.8888888888888888,\"#fdca26\"],[1.0,\"#f0f921\"]]}],\"surface\":[{\"type\":\"surface\",\"colorbar\":{\"outlinewidth\":0,\"ticks\":\"\"},\"colorscale\":[[0.0,\"#0d0887\"],[0.1111111111111111,\"#46039f\"],[0.2222222222222222,\"#7201a8\"],[0.3333333333333333,\"#9c179e\"],[0.4444444444444444,\"#bd3786\"],[0.5555555555555556,\"#d8576b\"],[0.6666666666666666,\"#ed7953\"],[0.7777777777777778,\"#fb9f3a\"],[0.8888888888888888,\"#fdca26\"],[1.0,\"#f0f921\"]]}],\"mesh3d\":[{\"type\":\"mesh3d\",\"colorbar\":{\"outlinewidth\":0,\"ticks\":\"\"}}],\"scatter\":[{\"fillpattern\":{\"fillmode\":\"overlay\",\"size\":10,\"solidity\":0.2},\"type\":\"scatter\"}],\"parcoords\":[{\"type\":\"parcoords\",\"line\":{\"colorbar\":{\"outlinewidth\":0,\"ticks\":\"\"}}}],\"scatterpolargl\":[{\"type\":\"scatterpolargl\",\"marker\":{\"colorbar\":{\"outlinewidth\":0,\"ticks\":\"\"}}}],\"bar\":[{\"error_x\":{\"color\":\"#2a3f5f\"},\"error_y\":{\"color\":\"#2a3f5f\"},\"marker\":{\"line\":{\"color\":\"#E5ECF6\",\"width\":0.5},\"pattern\":{\"fillmode\":\"overlay\",\"size\":10,\"solidity\":0.2}},\"type\":\"bar\"}],\"scattergeo\":[{\"type\":\"scattergeo\",\"marker\":{\"colorbar\":{\"outlinewidth\":0,\"ticks\":\"\"}}}],\"scatterpolar\":[{\"type\":\"scatterpolar\",\"marker\":{\"colorbar\":{\"outlinewidth\":0,\"ticks\":\"\"}}}],\"histogram\":[{\"marker\":{\"pattern\":{\"fillmode\":\"overlay\",\"size\":10,\"solidity\":0.2}},\"type\":\"histogram\"}],\"scattergl\":[{\"type\":\"scattergl\",\"marker\":{\"colorbar\":{\"outlinewidth\":0,\"ticks\":\"\"}}}],\"scatter3d\":[{\"type\":\"scatter3d\",\"line\":{\"colorbar\":{\"outlinewidth\":0,\"ticks\":\"\"}},\"marker\":{\"colorbar\":{\"outlinewidth\":0,\"ticks\":\"\"}}}],\"scattermapbox\":[{\"type\":\"scattermapbox\",\"marker\":{\"colorbar\":{\"outlinewidth\":0,\"ticks\":\"\"}}}],\"scatterternary\":[{\"type\":\"scatterternary\",\"marker\":{\"colorbar\":{\"outlinewidth\":0,\"ticks\":\"\"}}}],\"scattercarpet\":[{\"type\":\"scattercarpet\",\"marker\":{\"colorbar\":{\"outlinewidth\":0,\"ticks\":\"\"}}}],\"carpet\":[{\"aaxis\":{\"endlinecolor\":\"#2a3f5f\",\"gridcolor\":\"white\",\"linecolor\":\"white\",\"minorgridcolor\":\"white\",\"startlinecolor\":\"#2a3f5f\"},\"baxis\":{\"endlinecolor\":\"#2a3f5f\",\"gridcolor\":\"white\",\"linecolor\":\"white\",\"minorgridcolor\":\"white\",\"startlinecolor\":\"#2a3f5f\"},\"type\":\"carpet\"}],\"table\":[{\"cells\":{\"fill\":{\"color\":\"#EBF0F8\"},\"line\":{\"color\":\"white\"}},\"header\":{\"fill\":{\"color\":\"#C8D4E3\"},\"line\":{\"color\":\"white\"}},\"type\":\"table\"}],\"barpolar\":[{\"marker\":{\"line\":{\"color\":\"#E5ECF6\",\"width\":0.5},\"pattern\":{\"fillmode\":\"overlay\",\"size\":10,\"solidity\":0.2}},\"type\":\"barpolar\"}],\"pie\":[{\"automargin\":true,\"type\":\"pie\"}]},\"layout\":{\"autotypenumbers\":\"strict\",\"colorway\":[\"#636efa\",\"#EF553B\",\"#00cc96\",\"#ab63fa\",\"#FFA15A\",\"#19d3f3\",\"#FF6692\",\"#B6E880\",\"#FF97FF\",\"#FECB52\"],\"font\":{\"color\":\"#2a3f5f\"},\"hovermode\":\"closest\",\"hoverlabel\":{\"align\":\"left\"},\"paper_bgcolor\":\"white\",\"plot_bgcolor\":\"#E5ECF6\",\"polar\":{\"bgcolor\":\"#E5ECF6\",\"angularaxis\":{\"gridcolor\":\"white\",\"linecolor\":\"white\",\"ticks\":\"\"},\"radialaxis\":{\"gridcolor\":\"white\",\"linecolor\":\"white\",\"ticks\":\"\"}},\"ternary\":{\"bgcolor\":\"#E5ECF6\",\"aaxis\":{\"gridcolor\":\"white\",\"linecolor\":\"white\",\"ticks\":\"\"},\"baxis\":{\"gridcolor\":\"white\",\"linecolor\":\"white\",\"ticks\":\"\"},\"caxis\":{\"gridcolor\":\"white\",\"linecolor\":\"white\",\"ticks\":\"\"}},\"coloraxis\":{\"colorbar\":{\"outlinewidth\":0,\"ticks\":\"\"}},\"colorscale\":{\"sequential\":[[0.0,\"#0d0887\"],[0.1111111111111111,\"#46039f\"],[0.2222222222222222,\"#7201a8\"],[0.3333333333333333,\"#9c179e\"],[0.4444444444444444,\"#bd3786\"],[0.5555555555555556,\"#d8576b\"],[0.6666666666666666,\"#ed7953\"],[0.7777777777777778,\"#fb9f3a\"],[0.8888888888888888,\"#fdca26\"],[1.0,\"#f0f921\"]],\"sequentialminus\":[[0.0,\"#0d0887\"],[0.1111111111111111,\"#46039f\"],[0.2222222222222222,\"#7201a8\"],[0.3333333333333333,\"#9c179e\"],[0.4444444444444444,\"#bd3786\"],[0.5555555555555556,\"#d8576b\"],[0.6666666666666666,\"#ed7953\"],[0.7777777777777778,\"#fb9f3a\"],[0.8888888888888888,\"#fdca26\"],[1.0,\"#f0f921\"]],\"diverging\":[[0,\"#8e0152\"],[0.1,\"#c51b7d\"],[0.2,\"#de77ae\"],[0.3,\"#f1b6da\"],[0.4,\"#fde0ef\"],[0.5,\"#f7f7f7\"],[0.6,\"#e6f5d0\"],[0.7,\"#b8e186\"],[0.8,\"#7fbc41\"],[0.9,\"#4d9221\"],[1,\"#276419\"]]},\"xaxis\":{\"gridcolor\":\"white\",\"linecolor\":\"white\",\"ticks\":\"\",\"title\":{\"standoff\":15},\"zerolinecolor\":\"white\",\"automargin\":true,\"zerolinewidth\":2},\"yaxis\":{\"gridcolor\":\"white\",\"linecolor\":\"white\",\"ticks\":\"\",\"title\":{\"standoff\":15},\"zerolinecolor\":\"white\",\"automargin\":true,\"zerolinewidth\":2},\"scene\":{\"xaxis\":{\"backgroundcolor\":\"#E5ECF6\",\"gridcolor\":\"white\",\"linecolor\":\"white\",\"showbackground\":true,\"ticks\":\"\",\"zerolinecolor\":\"white\",\"gridwidth\":2},\"yaxis\":{\"backgroundcolor\":\"#E5ECF6\",\"gridcolor\":\"white\",\"linecolor\":\"white\",\"showbackground\":true,\"ticks\":\"\",\"zerolinecolor\":\"white\",\"gridwidth\":2},\"zaxis\":{\"backgroundcolor\":\"#E5ECF6\",\"gridcolor\":\"white\",\"linecolor\":\"white\",\"showbackground\":true,\"ticks\":\"\",\"zerolinecolor\":\"white\",\"gridwidth\":2}},\"shapedefaults\":{\"line\":{\"color\":\"#2a3f5f\"}},\"annotationdefaults\":{\"arrowcolor\":\"#2a3f5f\",\"arrowhead\":0,\"arrowwidth\":1},\"geo\":{\"bgcolor\":\"white\",\"landcolor\":\"#E5ECF6\",\"subunitcolor\":\"white\",\"showland\":true,\"showlakes\":true,\"lakecolor\":\"white\"},\"title\":{\"x\":0.05},\"mapbox\":{\"style\":\"light\"}}}},                        {\"responsive\": true}                    ).then(function(){\n",
              "                            \n",
              "var gd = document.getElementById('3be84482-1ee6-48a1-94e0-d3412a8b7f86');\n",
              "var x = new MutationObserver(function (mutations, observer) {{\n",
              "        var display = window.getComputedStyle(gd).display;\n",
              "        if (!display || display === 'none') {{\n",
              "            console.log([gd, 'removed!']);\n",
              "            Plotly.purge(gd);\n",
              "            observer.disconnect();\n",
              "        }}\n",
              "}});\n",
              "\n",
              "// Listen for the removal of the full notebook cells\n",
              "var notebookContainer = gd.closest('#notebook-container');\n",
              "if (notebookContainer) {{\n",
              "    x.observe(notebookContainer, {childList: true});\n",
              "}}\n",
              "\n",
              "// Listen for the clearing of the current output cell\n",
              "var outputEl = gd.closest('.output');\n",
              "if (outputEl) {{\n",
              "    x.observe(outputEl, {childList: true});\n",
              "}}\n",
              "\n",
              "                        })                };                            </script>        </div>\n",
              "</body>\n",
              "</html>"
            ]
          },
          "metadata": {}
        },
        {
          "output_type": "stream",
          "name": "stderr",
          "text": [
            "[W 2023-06-02 10:51:27,798] Your study has only completed trials with missing parameters.\n",
            "<ipython-input-37-0c79a7da1449>:44: FutureWarning:\n",
            "\n",
            "suggest_loguniform has been deprecated in v3.0.0. This feature will be removed in v6.0.0. See https://github.com/optuna/optuna/releases/tag/v3.0.0. Use suggest_float(..., log=True) instead.\n",
            "\n",
            "<ipython-input-37-0c79a7da1449>:73: FutureWarning:\n",
            "\n",
            "suggest_uniform has been deprecated in v3.0.0. This feature will be removed in v6.0.0. See https://github.com/optuna/optuna/releases/tag/v3.0.0. Use suggest_float instead.\n",
            "\n",
            "<ipython-input-37-0c79a7da1449>:76: FutureWarning:\n",
            "\n",
            "suggest_uniform has been deprecated in v3.0.0. This feature will be removed in v6.0.0. See https://github.com/optuna/optuna/releases/tag/v3.0.0. Use suggest_float instead.\n",
            "\n",
            "<ipython-input-37-0c79a7da1449>:178: FutureWarning:\n",
            "\n",
            "suggest_uniform has been deprecated in v3.0.0. This feature will be removed in v6.0.0. See https://github.com/optuna/optuna/releases/tag/v3.0.0. Use suggest_float instead.\n",
            "\n",
            "<ipython-input-37-0c79a7da1449>:180: FutureWarning:\n",
            "\n",
            "suggest_loguniform has been deprecated in v3.0.0. This feature will be removed in v6.0.0. See https://github.com/optuna/optuna/releases/tag/v3.0.0. Use suggest_float(..., log=True) instead.\n",
            "\n",
            "[I 2023-06-02 10:51:34,424] Trial 13 pruned. \n"
          ]
        },
        {
          "output_type": "stream",
          "name": "stdout",
          "text": [
            "Epoch 1/95.. Train loss: 3729.289.. Val loss: 3.827.. Train L1 norm: 19006.693.. Val L1 norm: 4.021.. Train Linf norm: 3403730.438.. Val Linf norm: 300.273\n"
          ]
        },
        {
          "output_type": "display_data",
          "data": {
            "text/html": [
              "<html>\n",
              "<head><meta charset=\"utf-8\" /></head>\n",
              "<body>\n",
              "    <div>            <script src=\"https://cdnjs.cloudflare.com/ajax/libs/mathjax/2.7.5/MathJax.js?config=TeX-AMS-MML_SVG\"></script><script type=\"text/javascript\">if (window.MathJax && window.MathJax.Hub && window.MathJax.Hub.Config) {window.MathJax.Hub.Config({SVG: {font: \"STIX-Web\"}});}</script>                <script type=\"text/javascript\">window.PlotlyConfig = {MathJaxConfig: 'local'};</script>\n",
              "        <script src=\"https://cdn.plot.ly/plotly-2.18.2.min.js\"></script>                <div id=\"3e353653-34b0-4603-9f9d-f32b6862207c\" class=\"plotly-graph-div\" style=\"height:525px; width:100%;\"></div>            <script type=\"text/javascript\">                                    window.PLOTLYENV=window.PLOTLYENV || {};                                    if (document.getElementById(\"3e353653-34b0-4603-9f9d-f32b6862207c\")) {                    Plotly.newPlot(                        \"3e353653-34b0-4603-9f9d-f32b6862207c\",                        [{\"mode\":\"markers\",\"name\":\"Objective Value\",\"x\":[0,1,2,3,4,7,9],\"y\":[361840040821304.0,4.148916990661621,3.616880493545532,2.6828094604492185,3.90576324412028,1.858821445719401,3.7637235135396323],\"type\":\"scatter\"},{\"name\":\"Best Value\",\"x\":[0,1,2,3,4,7,9],\"y\":[361840040821304.0,4.148916990661621,3.616880493545532,2.6828094604492185,2.6828094604492185,1.858821445719401,1.858821445719401],\"type\":\"scatter\"}],                        {\"title\":{\"text\":\"Optimization History Plot\"},\"xaxis\":{\"title\":{\"text\":\"Trial\"}},\"yaxis\":{\"title\":{\"text\":\"Objective Value\"}},\"template\":{\"data\":{\"histogram2dcontour\":[{\"type\":\"histogram2dcontour\",\"colorbar\":{\"outlinewidth\":0,\"ticks\":\"\"},\"colorscale\":[[0.0,\"#0d0887\"],[0.1111111111111111,\"#46039f\"],[0.2222222222222222,\"#7201a8\"],[0.3333333333333333,\"#9c179e\"],[0.4444444444444444,\"#bd3786\"],[0.5555555555555556,\"#d8576b\"],[0.6666666666666666,\"#ed7953\"],[0.7777777777777778,\"#fb9f3a\"],[0.8888888888888888,\"#fdca26\"],[1.0,\"#f0f921\"]]}],\"choropleth\":[{\"type\":\"choropleth\",\"colorbar\":{\"outlinewidth\":0,\"ticks\":\"\"}}],\"histogram2d\":[{\"type\":\"histogram2d\",\"colorbar\":{\"outlinewidth\":0,\"ticks\":\"\"},\"colorscale\":[[0.0,\"#0d0887\"],[0.1111111111111111,\"#46039f\"],[0.2222222222222222,\"#7201a8\"],[0.3333333333333333,\"#9c179e\"],[0.4444444444444444,\"#bd3786\"],[0.5555555555555556,\"#d8576b\"],[0.6666666666666666,\"#ed7953\"],[0.7777777777777778,\"#fb9f3a\"],[0.8888888888888888,\"#fdca26\"],[1.0,\"#f0f921\"]]}],\"heatmap\":[{\"type\":\"heatmap\",\"colorbar\":{\"outlinewidth\":0,\"ticks\":\"\"},\"colorscale\":[[0.0,\"#0d0887\"],[0.1111111111111111,\"#46039f\"],[0.2222222222222222,\"#7201a8\"],[0.3333333333333333,\"#9c179e\"],[0.4444444444444444,\"#bd3786\"],[0.5555555555555556,\"#d8576b\"],[0.6666666666666666,\"#ed7953\"],[0.7777777777777778,\"#fb9f3a\"],[0.8888888888888888,\"#fdca26\"],[1.0,\"#f0f921\"]]}],\"heatmapgl\":[{\"type\":\"heatmapgl\",\"colorbar\":{\"outlinewidth\":0,\"ticks\":\"\"},\"colorscale\":[[0.0,\"#0d0887\"],[0.1111111111111111,\"#46039f\"],[0.2222222222222222,\"#7201a8\"],[0.3333333333333333,\"#9c179e\"],[0.4444444444444444,\"#bd3786\"],[0.5555555555555556,\"#d8576b\"],[0.6666666666666666,\"#ed7953\"],[0.7777777777777778,\"#fb9f3a\"],[0.8888888888888888,\"#fdca26\"],[1.0,\"#f0f921\"]]}],\"contourcarpet\":[{\"type\":\"contourcarpet\",\"colorbar\":{\"outlinewidth\":0,\"ticks\":\"\"}}],\"contour\":[{\"type\":\"contour\",\"colorbar\":{\"outlinewidth\":0,\"ticks\":\"\"},\"colorscale\":[[0.0,\"#0d0887\"],[0.1111111111111111,\"#46039f\"],[0.2222222222222222,\"#7201a8\"],[0.3333333333333333,\"#9c179e\"],[0.4444444444444444,\"#bd3786\"],[0.5555555555555556,\"#d8576b\"],[0.6666666666666666,\"#ed7953\"],[0.7777777777777778,\"#fb9f3a\"],[0.8888888888888888,\"#fdca26\"],[1.0,\"#f0f921\"]]}],\"surface\":[{\"type\":\"surface\",\"colorbar\":{\"outlinewidth\":0,\"ticks\":\"\"},\"colorscale\":[[0.0,\"#0d0887\"],[0.1111111111111111,\"#46039f\"],[0.2222222222222222,\"#7201a8\"],[0.3333333333333333,\"#9c179e\"],[0.4444444444444444,\"#bd3786\"],[0.5555555555555556,\"#d8576b\"],[0.6666666666666666,\"#ed7953\"],[0.7777777777777778,\"#fb9f3a\"],[0.8888888888888888,\"#fdca26\"],[1.0,\"#f0f921\"]]}],\"mesh3d\":[{\"type\":\"mesh3d\",\"colorbar\":{\"outlinewidth\":0,\"ticks\":\"\"}}],\"scatter\":[{\"fillpattern\":{\"fillmode\":\"overlay\",\"size\":10,\"solidity\":0.2},\"type\":\"scatter\"}],\"parcoords\":[{\"type\":\"parcoords\",\"line\":{\"colorbar\":{\"outlinewidth\":0,\"ticks\":\"\"}}}],\"scatterpolargl\":[{\"type\":\"scatterpolargl\",\"marker\":{\"colorbar\":{\"outlinewidth\":0,\"ticks\":\"\"}}}],\"bar\":[{\"error_x\":{\"color\":\"#2a3f5f\"},\"error_y\":{\"color\":\"#2a3f5f\"},\"marker\":{\"line\":{\"color\":\"#E5ECF6\",\"width\":0.5},\"pattern\":{\"fillmode\":\"overlay\",\"size\":10,\"solidity\":0.2}},\"type\":\"bar\"}],\"scattergeo\":[{\"type\":\"scattergeo\",\"marker\":{\"colorbar\":{\"outlinewidth\":0,\"ticks\":\"\"}}}],\"scatterpolar\":[{\"type\":\"scatterpolar\",\"marker\":{\"colorbar\":{\"outlinewidth\":0,\"ticks\":\"\"}}}],\"histogram\":[{\"marker\":{\"pattern\":{\"fillmode\":\"overlay\",\"size\":10,\"solidity\":0.2}},\"type\":\"histogram\"}],\"scattergl\":[{\"type\":\"scattergl\",\"marker\":{\"colorbar\":{\"outlinewidth\":0,\"ticks\":\"\"}}}],\"scatter3d\":[{\"type\":\"scatter3d\",\"line\":{\"colorbar\":{\"outlinewidth\":0,\"ticks\":\"\"}},\"marker\":{\"colorbar\":{\"outlinewidth\":0,\"ticks\":\"\"}}}],\"scattermapbox\":[{\"type\":\"scattermapbox\",\"marker\":{\"colorbar\":{\"outlinewidth\":0,\"ticks\":\"\"}}}],\"scatterternary\":[{\"type\":\"scatterternary\",\"marker\":{\"colorbar\":{\"outlinewidth\":0,\"ticks\":\"\"}}}],\"scattercarpet\":[{\"type\":\"scattercarpet\",\"marker\":{\"colorbar\":{\"outlinewidth\":0,\"ticks\":\"\"}}}],\"carpet\":[{\"aaxis\":{\"endlinecolor\":\"#2a3f5f\",\"gridcolor\":\"white\",\"linecolor\":\"white\",\"minorgridcolor\":\"white\",\"startlinecolor\":\"#2a3f5f\"},\"baxis\":{\"endlinecolor\":\"#2a3f5f\",\"gridcolor\":\"white\",\"linecolor\":\"white\",\"minorgridcolor\":\"white\",\"startlinecolor\":\"#2a3f5f\"},\"type\":\"carpet\"}],\"table\":[{\"cells\":{\"fill\":{\"color\":\"#EBF0F8\"},\"line\":{\"color\":\"white\"}},\"header\":{\"fill\":{\"color\":\"#C8D4E3\"},\"line\":{\"color\":\"white\"}},\"type\":\"table\"}],\"barpolar\":[{\"marker\":{\"line\":{\"color\":\"#E5ECF6\",\"width\":0.5},\"pattern\":{\"fillmode\":\"overlay\",\"size\":10,\"solidity\":0.2}},\"type\":\"barpolar\"}],\"pie\":[{\"automargin\":true,\"type\":\"pie\"}]},\"layout\":{\"autotypenumbers\":\"strict\",\"colorway\":[\"#636efa\",\"#EF553B\",\"#00cc96\",\"#ab63fa\",\"#FFA15A\",\"#19d3f3\",\"#FF6692\",\"#B6E880\",\"#FF97FF\",\"#FECB52\"],\"font\":{\"color\":\"#2a3f5f\"},\"hovermode\":\"closest\",\"hoverlabel\":{\"align\":\"left\"},\"paper_bgcolor\":\"white\",\"plot_bgcolor\":\"#E5ECF6\",\"polar\":{\"bgcolor\":\"#E5ECF6\",\"angularaxis\":{\"gridcolor\":\"white\",\"linecolor\":\"white\",\"ticks\":\"\"},\"radialaxis\":{\"gridcolor\":\"white\",\"linecolor\":\"white\",\"ticks\":\"\"}},\"ternary\":{\"bgcolor\":\"#E5ECF6\",\"aaxis\":{\"gridcolor\":\"white\",\"linecolor\":\"white\",\"ticks\":\"\"},\"baxis\":{\"gridcolor\":\"white\",\"linecolor\":\"white\",\"ticks\":\"\"},\"caxis\":{\"gridcolor\":\"white\",\"linecolor\":\"white\",\"ticks\":\"\"}},\"coloraxis\":{\"colorbar\":{\"outlinewidth\":0,\"ticks\":\"\"}},\"colorscale\":{\"sequential\":[[0.0,\"#0d0887\"],[0.1111111111111111,\"#46039f\"],[0.2222222222222222,\"#7201a8\"],[0.3333333333333333,\"#9c179e\"],[0.4444444444444444,\"#bd3786\"],[0.5555555555555556,\"#d8576b\"],[0.6666666666666666,\"#ed7953\"],[0.7777777777777778,\"#fb9f3a\"],[0.8888888888888888,\"#fdca26\"],[1.0,\"#f0f921\"]],\"sequentialminus\":[[0.0,\"#0d0887\"],[0.1111111111111111,\"#46039f\"],[0.2222222222222222,\"#7201a8\"],[0.3333333333333333,\"#9c179e\"],[0.4444444444444444,\"#bd3786\"],[0.5555555555555556,\"#d8576b\"],[0.6666666666666666,\"#ed7953\"],[0.7777777777777778,\"#fb9f3a\"],[0.8888888888888888,\"#fdca26\"],[1.0,\"#f0f921\"]],\"diverging\":[[0,\"#8e0152\"],[0.1,\"#c51b7d\"],[0.2,\"#de77ae\"],[0.3,\"#f1b6da\"],[0.4,\"#fde0ef\"],[0.5,\"#f7f7f7\"],[0.6,\"#e6f5d0\"],[0.7,\"#b8e186\"],[0.8,\"#7fbc41\"],[0.9,\"#4d9221\"],[1,\"#276419\"]]},\"xaxis\":{\"gridcolor\":\"white\",\"linecolor\":\"white\",\"ticks\":\"\",\"title\":{\"standoff\":15},\"zerolinecolor\":\"white\",\"automargin\":true,\"zerolinewidth\":2},\"yaxis\":{\"gridcolor\":\"white\",\"linecolor\":\"white\",\"ticks\":\"\",\"title\":{\"standoff\":15},\"zerolinecolor\":\"white\",\"automargin\":true,\"zerolinewidth\":2},\"scene\":{\"xaxis\":{\"backgroundcolor\":\"#E5ECF6\",\"gridcolor\":\"white\",\"linecolor\":\"white\",\"showbackground\":true,\"ticks\":\"\",\"zerolinecolor\":\"white\",\"gridwidth\":2},\"yaxis\":{\"backgroundcolor\":\"#E5ECF6\",\"gridcolor\":\"white\",\"linecolor\":\"white\",\"showbackground\":true,\"ticks\":\"\",\"zerolinecolor\":\"white\",\"gridwidth\":2},\"zaxis\":{\"backgroundcolor\":\"#E5ECF6\",\"gridcolor\":\"white\",\"linecolor\":\"white\",\"showbackground\":true,\"ticks\":\"\",\"zerolinecolor\":\"white\",\"gridwidth\":2}},\"shapedefaults\":{\"line\":{\"color\":\"#2a3f5f\"}},\"annotationdefaults\":{\"arrowcolor\":\"#2a3f5f\",\"arrowhead\":0,\"arrowwidth\":1},\"geo\":{\"bgcolor\":\"white\",\"landcolor\":\"#E5ECF6\",\"subunitcolor\":\"white\",\"showland\":true,\"showlakes\":true,\"lakecolor\":\"white\"},\"title\":{\"x\":0.05},\"mapbox\":{\"style\":\"light\"}}}},                        {\"responsive\": true}                    ).then(function(){\n",
              "                            \n",
              "var gd = document.getElementById('3e353653-34b0-4603-9f9d-f32b6862207c');\n",
              "var x = new MutationObserver(function (mutations, observer) {{\n",
              "        var display = window.getComputedStyle(gd).display;\n",
              "        if (!display || display === 'none') {{\n",
              "            console.log([gd, 'removed!']);\n",
              "            Plotly.purge(gd);\n",
              "            observer.disconnect();\n",
              "        }}\n",
              "}});\n",
              "\n",
              "// Listen for the removal of the full notebook cells\n",
              "var notebookContainer = gd.closest('#notebook-container');\n",
              "if (notebookContainer) {{\n",
              "    x.observe(notebookContainer, {childList: true});\n",
              "}}\n",
              "\n",
              "// Listen for the clearing of the current output cell\n",
              "var outputEl = gd.closest('.output');\n",
              "if (outputEl) {{\n",
              "    x.observe(outputEl, {childList: true});\n",
              "}}\n",
              "\n",
              "                        })                };                            </script>        </div>\n",
              "</body>\n",
              "</html>"
            ]
          },
          "metadata": {}
        },
        {
          "output_type": "stream",
          "name": "stderr",
          "text": [
            "[W 2023-06-02 10:51:34,845] Your study has only completed trials with missing parameters.\n",
            "<ipython-input-37-0c79a7da1449>:44: FutureWarning:\n",
            "\n",
            "suggest_loguniform has been deprecated in v3.0.0. This feature will be removed in v6.0.0. See https://github.com/optuna/optuna/releases/tag/v3.0.0. Use suggest_float(..., log=True) instead.\n",
            "\n",
            "<ipython-input-37-0c79a7da1449>:63: FutureWarning:\n",
            "\n",
            "suggest_uniform has been deprecated in v3.0.0. This feature will be removed in v6.0.0. See https://github.com/optuna/optuna/releases/tag/v3.0.0. Use suggest_float instead.\n",
            "\n",
            "<ipython-input-37-0c79a7da1449>:76: FutureWarning:\n",
            "\n",
            "suggest_uniform has been deprecated in v3.0.0. This feature will be removed in v6.0.0. See https://github.com/optuna/optuna/releases/tag/v3.0.0. Use suggest_float instead.\n",
            "\n",
            "<ipython-input-37-0c79a7da1449>:168: FutureWarning:\n",
            "\n",
            "suggest_uniform has been deprecated in v3.0.0. This feature will be removed in v6.0.0. See https://github.com/optuna/optuna/releases/tag/v3.0.0. Use suggest_float instead.\n",
            "\n"
          ]
        },
        {
          "output_type": "stream",
          "name": "stdout",
          "text": [
            "Epoch 1/70.. Train loss: 4.769.. Val loss: 4.730.. Train L1 norm: 3.362.. Val L1 norm: 1.721.. Train Linf norm: 361.981.. Val Linf norm: 93.518\n",
            "Epoch 2/70.. Train loss: 4.752.. Val loss: 4.665.. Train L1 norm: 3.245.. Val L1 norm: 1.733.. Train Linf norm: 366.019.. Val Linf norm: 91.953\n",
            "Epoch 3/70.. Train loss: 153012.979.. Val loss: 7.320.. Train L1 norm: 77551.045.. Val L1 norm: 3.646.. Train Linf norm: 6102791.204.. Val Linf norm: 292.763\n",
            "Epoch 4/70.. Train loss: 55.650.. Val loss: 5.209.. Train L1 norm: 44.392.. Val L1 norm: 4.026.. Train Linf norm: 5325.422.. Val Linf norm: 312.461\n",
            "Epoch 5/70.. Train loss: 8.419.. Val loss: 12.688.. Train L1 norm: 9.405.. Val L1 norm: 11.910.. Train Linf norm: 1470.370.. Val Linf norm: 943.739\n",
            "Epoch 6/70.. Train loss: 347462241.760.. Val loss: 78421.669.. Train L1 norm: 233510102.652.. Val L1 norm: 53811.794.. Train Linf norm: 10836710387.621.. Val Linf norm: 4072255.910\n",
            "Epoch 7/70.. Train loss: 137993.215.. Val loss: 18434.974.. Train L1 norm: 123969.058.. Val L1 norm: 13140.802.. Train Linf norm: 14784731.130.. Val Linf norm: 1006857.856\n",
            "Epoch 8/70.. Train loss: 59991.020.. Val loss: 863.894.. Train L1 norm: 57427.879.. Val L1 norm: 749.003.. Train Linf norm: 7803024.699.. Val Linf norm: 61520.386\n",
            "Epoch 9/70.. Train loss: 22194.867.. Val loss: 69.199.. Train L1 norm: 15665.138.. Val L1 norm: 48.493.. Train Linf norm: 1422583.722.. Val Linf norm: 3885.790\n",
            "Epoch 10/70.. Train loss: 1613.505.. Val loss: 15.940.. Train L1 norm: 1374.706.. Val L1 norm: 9.352.. Train Linf norm: 155484.955.. Val Linf norm: 701.434\n",
            "Epoch 11/70.. Train loss: 2030.955.. Val loss: 177.761.. Train L1 norm: 1655.511.. Val L1 norm: 129.542.. Train Linf norm: 209198.942.. Val Linf norm: 9928.761\n",
            "Epoch 12/70.. Train loss: 1137.356.. Val loss: 32.639.. Train L1 norm: 7851.229.. Val L1 norm: 20.540.. Train Linf norm: 1842308.225.. Val Linf norm: 1600.983\n",
            "Epoch 13/70.. Train loss: 285.152.. Val loss: 29.501.. Train L1 norm: 273.460.. Val L1 norm: 19.301.. Train Linf norm: 32714.769.. Val Linf norm: 1525.993\n",
            "Epoch 14/70.. Train loss: 113.534.. Val loss: 16.403.. Train L1 norm: 113.708.. Val L1 norm: 8.633.. Train Linf norm: 14477.699.. Val Linf norm: 683.314\n",
            "Epoch 15/70.. Train loss: 81.499.. Val loss: 10.645.. Train L1 norm: 85.558.. Val L1 norm: 4.611.. Train Linf norm: 12063.947.. Val Linf norm: 344.974\n",
            "Epoch 16/70.. Train loss: 64.500.. Val loss: 30.336.. Train L1 norm: 58.554.. Val L1 norm: 20.499.. Train Linf norm: 7157.686.. Val Linf norm: 1691.080\n",
            "Epoch 17/70.. Train loss: 924.841.. Val loss: 13.615.. Train L1 norm: 556.404.. Val L1 norm: 12.626.. Train Linf norm: 43768.434.. Val Linf norm: 1050.463\n",
            "Epoch 18/70.. Train loss: 46.812.. Val loss: 6.283.. Train L1 norm: 36.565.. Val L1 norm: 2.203.. Train Linf norm: 4460.422.. Val Linf norm: 134.569\n",
            "Epoch 19/70.. Train loss: 11.303.. Val loss: 4.498.. Train L1 norm: 8.967.. Val L1 norm: 2.923.. Train Linf norm: 960.337.. Val Linf norm: 201.115\n",
            "Epoch 20/70.. Train loss: 17032073.648.. Val loss: 2146.689.. Train L1 norm: 15130636.895.. Val L1 norm: 1382.527.. Train Linf norm: 958600078.739.. Val Linf norm: 106898.159\n",
            "Epoch 21/70.. Train loss: 2555.164.. Val loss: 117.875.. Train L1 norm: 2125.522.. Val L1 norm: 72.838.. Train Linf norm: 257059.751.. Val Linf norm: 5748.785\n",
            "Epoch 22/70.. Train loss: 459.276.. Val loss: 5.187.. Train L1 norm: 312.854.. Val L1 norm: 1.731.. Train Linf norm: 36410.774.. Val Linf norm: 92.221\n",
            "Epoch 23/70.. Train loss: 191.412.. Val loss: 6.661.. Train L1 norm: 137.307.. Val L1 norm: 4.386.. Train Linf norm: 18814.510.. Val Linf norm: 335.716\n",
            "Epoch 24/70.. Train loss: 65.011.. Val loss: 5.116.. Train L1 norm: 43.927.. Val L1 norm: 2.413.. Train Linf norm: 5474.572.. Val Linf norm: 154.811\n",
            "Epoch 25/70.. Train loss: 10686.741.. Val loss: 9.518.. Train L1 norm: 5949.461.. Val L1 norm: 3.023.. Train Linf norm: 212724.180.. Val Linf norm: 223.453\n",
            "Epoch 26/70.. Train loss: 47.660.. Val loss: 5.947.. Train L1 norm: 27.215.. Val L1 norm: 2.038.. Train Linf norm: 3420.783.. Val Linf norm: 127.820\n",
            "Epoch 27/70.. Train loss: 12.258.. Val loss: 4.498.. Train L1 norm: 8.135.. Val L1 norm: 2.590.. Train Linf norm: 943.034.. Val Linf norm: 174.444\n",
            "Epoch 28/70.. Train loss: 7.788.. Val loss: 4.518.. Train L1 norm: 6.203.. Val L1 norm: 2.650.. Train Linf norm: 818.619.. Val Linf norm: 180.114\n",
            "Epoch 29/70.. Train loss: 7.252.. Val loss: 4.609.. Train L1 norm: 6.416.. Val L1 norm: 2.586.. Train Linf norm: 858.653.. Val Linf norm: 174.757\n",
            "Epoch 30/70.. Train loss: 11.610.. Val loss: 5.178.. Train L1 norm: 5.406.. Val L1 norm: 2.236.. Train Linf norm: 711.720.. Val Linf norm: 147.086\n",
            "Epoch 31/70.. Train loss: 10.393.. Val loss: 4.371.. Train L1 norm: 8.335.. Val L1 norm: 3.084.. Train Linf norm: 963.551.. Val Linf norm: 217.868\n",
            "Epoch 32/70.. Train loss: 6.047.. Val loss: 4.352.. Train L1 norm: 5.714.. Val L1 norm: 3.718.. Train Linf norm: 656.967.. Val Linf norm: 276.601\n",
            "Epoch 33/70.. Train loss: 5541686.158.. Val loss: 878.198.. Train L1 norm: 4446044.082.. Val L1 norm: 298.347.. Train Linf norm: 257319420.048.. Val Linf norm: 37115.167\n",
            "Epoch 34/70.. Train loss: 2698.076.. Val loss: 31.497.. Train L1 norm: 1239.884.. Val L1 norm: 18.522.. Train Linf norm: 180267.815.. Val Linf norm: 1856.851\n",
            "Epoch 35/70.. Train loss: 193.820.. Val loss: 8.171.. Train L1 norm: 107.772.. Val L1 norm: 6.924.. Train Linf norm: 13625.469.. Val Linf norm: 661.619\n",
            "Epoch 36/70.. Train loss: 54.247.. Val loss: 5.043.. Train L1 norm: 43.314.. Val L1 norm: 3.642.. Train Linf norm: 6634.878.. Val Linf norm: 278.047\n",
            "Epoch 37/70.. Train loss: 23.227.. Val loss: 36.861.. Train L1 norm: 12.833.. Val L1 norm: 24.224.. Train Linf norm: 1623.886.. Val Linf norm: 1963.047\n",
            "Epoch 38/70.. Train loss: 21.330.. Val loss: 4.972.. Train L1 norm: 14.916.. Val L1 norm: 3.005.. Train Linf norm: 1859.756.. Val Linf norm: 208.813\n",
            "Epoch 39/70.. Train loss: 6.774.. Val loss: 4.431.. Train L1 norm: 17.135.. Val L1 norm: 2.855.. Train Linf norm: 3680.625.. Val Linf norm: 196.975\n",
            "Epoch 40/70.. Train loss: 7.366.. Val loss: 4.583.. Train L1 norm: 5.889.. Val L1 norm: 3.227.. Train Linf norm: 703.967.. Val Linf norm: 228.144\n",
            "Epoch 41/70.. Train loss: 5.306.. Val loss: 4.386.. Train L1 norm: 4.607.. Val L1 norm: 2.987.. Train Linf norm: 533.553.. Val Linf norm: 208.907\n",
            "Epoch 42/70.. Train loss: 4.596.. Val loss: 4.368.. Train L1 norm: 4.502.. Val L1 norm: 3.025.. Train Linf norm: 541.183.. Val Linf norm: 212.730\n",
            "Epoch 43/70.. Train loss: 4.483.. Val loss: 4.371.. Train L1 norm: 4.135.. Val L1 norm: 3.033.. Train Linf norm: 474.420.. Val Linf norm: 213.394\n",
            "Epoch 44/70.. Train loss: 5.233.. Val loss: 4.473.. Train L1 norm: 5.126.. Val L1 norm: 2.997.. Train Linf norm: 594.085.. Val Linf norm: 209.718\n",
            "Epoch 45/70.. Train loss: 12.381.. Val loss: 4.526.. Train L1 norm: 7.663.. Val L1 norm: 4.567.. Train Linf norm: 741.989.. Val Linf norm: 344.778\n",
            "Epoch 46/70.. Train loss: 6.159.. Val loss: 4.345.. Train L1 norm: 5.901.. Val L1 norm: 3.112.. Train Linf norm: 707.350.. Val Linf norm: 220.918\n",
            "Epoch 47/70.. Train loss: 154006.710.. Val loss: 18.409.. Train L1 norm: 217216.994.. Val L1 norm: 20.025.. Train Linf norm: 33436890.105.. Val Linf norm: 1528.093\n",
            "Epoch 48/70.. Train loss: 71.350.. Val loss: 5.775.. Train L1 norm: 48.346.. Val L1 norm: 7.189.. Train Linf norm: 5964.264.. Val Linf norm: 560.517\n",
            "Epoch 49/70.. Train loss: 78.287.. Val loss: 6.870.. Train L1 norm: 53.225.. Val L1 norm: 5.976.. Train Linf norm: 8413.877.. Val Linf norm: 482.760\n",
            "Epoch 50/70.. Train loss: 11.068.. Val loss: 4.774.. Train L1 norm: 8.603.. Val L1 norm: 2.800.. Train Linf norm: 1059.929.. Val Linf norm: 192.511\n",
            "Epoch 51/70.. Train loss: 7.115.. Val loss: 4.298.. Train L1 norm: 6.180.. Val L1 norm: 3.038.. Train Linf norm: 744.676.. Val Linf norm: 216.157\n",
            "Epoch 52/70.. Train loss: 6.211.. Val loss: 4.336.. Train L1 norm: 5.503.. Val L1 norm: 2.799.. Train Linf norm: 653.704.. Val Linf norm: 194.987\n",
            "Epoch 53/70.. Train loss: 1398209.082.. Val loss: 508.120.. Train L1 norm: 3122057.556.. Val L1 norm: 305.475.. Train Linf norm: 358894862.316.. Val Linf norm: 25468.824\n",
            "Epoch 54/70.. Train loss: 2066.252.. Val loss: 46.444.. Train L1 norm: 2802.013.. Val L1 norm: 22.758.. Train Linf norm: 484370.494.. Val Linf norm: 1942.995\n",
            "Epoch 55/70.. Train loss: 462.837.. Val loss: 7.791.. Train L1 norm: 345.959.. Val L1 norm: 3.090.. Train Linf norm: 45528.218.. Val Linf norm: 223.499\n",
            "Epoch 56/70.. Train loss: 256.400.. Val loss: 18.555.. Train L1 norm: 205.053.. Val L1 norm: 14.002.. Train Linf norm: 30611.886.. Val Linf norm: 1150.475\n",
            "Epoch 57/70.. Train loss: 177.880.. Val loss: 12.688.. Train L1 norm: 144.183.. Val L1 norm: 10.257.. Train Linf norm: 18945.364.. Val Linf norm: 846.428\n",
            "Epoch 58/70.. Train loss: 128.695.. Val loss: 19.046.. Train L1 norm: 112.046.. Val L1 norm: 7.908.. Train Linf norm: 16013.285.. Val Linf norm: 638.241\n",
            "Epoch 59/70.. Train loss: 54.208.. Val loss: 4.586.. Train L1 norm: 35.645.. Val L1 norm: 3.852.. Train Linf norm: 4479.677.. Val Linf norm: 287.174\n",
            "Epoch 60/70.. Train loss: 628.568.. Val loss: 5.044.. Train L1 norm: 3792.256.. Val L1 norm: 4.942.. Train Linf norm: 855855.352.. Val Linf norm: 372.921\n",
            "Epoch 61/70.. Train loss: 16.534.. Val loss: 5.406.. Train L1 norm: 14.955.. Val L1 norm: 4.881.. Train Linf norm: 2372.006.. Val Linf norm: 362.892\n",
            "Epoch 62/70.. Train loss: 6.143.. Val loss: 4.425.. Train L1 norm: 5.646.. Val L1 norm: 3.458.. Train Linf norm: 682.363.. Val Linf norm: 248.587\n",
            "Epoch 63/70.. Train loss: 5.090.. Val loss: 4.330.. Train L1 norm: 5.392.. Val L1 norm: 3.582.. Train Linf norm: 647.728.. Val Linf norm: 258.593\n",
            "Epoch 64/70.. Train loss: 4.784.. Val loss: 4.304.. Train L1 norm: 4.890.. Val L1 norm: 3.595.. Train Linf norm: 569.758.. Val Linf norm: 262.200\n",
            "Epoch 65/70.. Train loss: 21953486.247.. Val loss: 10179.504.. Train L1 norm: 15427682.475.. Val L1 norm: 2914.062.. Train Linf norm: 761998248.991.. Val Linf norm: 448944.849\n",
            "Epoch 66/70.. Train loss: 17836.078.. Val loss: 2483.835.. Train L1 norm: 6082.035.. Val L1 norm: 920.467.. Train Linf norm: 1147799.688.. Val Linf norm: 107815.110\n",
            "Epoch 67/70.. Train loss: 10075.661.. Val loss: 444.939.. Train L1 norm: 3294.994.. Val L1 norm: 226.326.. Train Linf norm: 362716.804.. Val Linf norm: 19804.153\n",
            "Epoch 68/70.. Train loss: 1922.024.. Val loss: 494.752.. Train L1 norm: 1364.793.. Val L1 norm: 243.431.. Train Linf norm: 179823.700.. Val Linf norm: 21296.863\n",
            "Epoch 69/70.. Train loss: 607.368.. Val loss: 11.409.. Train L1 norm: 420.130.. Val L1 norm: 8.905.. Train Linf norm: 61429.004.. Val Linf norm: 729.143\n"
          ]
        },
        {
          "output_type": "stream",
          "name": "stderr",
          "text": [
            "<ipython-input-37-0c79a7da1449>:175: FutureWarning:\n",
            "\n",
            "suggest_loguniform has been deprecated in v3.0.0. This feature will be removed in v6.0.0. See https://github.com/optuna/optuna/releases/tag/v3.0.0. Use suggest_float(..., log=True) instead.\n",
            "\n",
            "[I 2023-06-02 10:57:40,548] Trial 14 finished with value: 3.3926135823567707 and parameters: {'n_layers': 9, 'n_units_0': 84, 'n_units_1': 4087, 'n_units_2': 1001, 'n_units_3': 1823, 'n_units_4': 1076, 'n_units_5': 1719, 'n_units_6': 3228, 'n_units_7': 1269, 'n_units_8': 2838, 'hidden_activation': 'PReLU', 'output_activation': 'Linear', 'loss': 'MAE', 'optimizer': 'RMSprop', 'lr': 1.0348889636399082e-05, 'batch_size': 256, 'n_epochs': 70, 'scheduler': 'CosineAnnealingLR', 'prelu_init': 0.1179546924463858, 'dropout_rate': 0.3465422331240774, 't_max_fraction': 0.10513199431961075, 'eta_min': 0.00420338237443174}. Best is trial 7 with value: 1.858821445719401.\n"
          ]
        },
        {
          "output_type": "stream",
          "name": "stdout",
          "text": [
            "Epoch 70/70.. Train loss: 311.314.. Val loss: 7.756.. Train L1 norm: 186.779.. Val L1 norm: 3.393.. Train Linf norm: 25800.010.. Val Linf norm: 265.083\n"
          ]
        },
        {
          "output_type": "display_data",
          "data": {
            "text/html": [
              "<html>\n",
              "<head><meta charset=\"utf-8\" /></head>\n",
              "<body>\n",
              "    <div>            <script src=\"https://cdnjs.cloudflare.com/ajax/libs/mathjax/2.7.5/MathJax.js?config=TeX-AMS-MML_SVG\"></script><script type=\"text/javascript\">if (window.MathJax && window.MathJax.Hub && window.MathJax.Hub.Config) {window.MathJax.Hub.Config({SVG: {font: \"STIX-Web\"}});}</script>                <script type=\"text/javascript\">window.PlotlyConfig = {MathJaxConfig: 'local'};</script>\n",
              "        <script src=\"https://cdn.plot.ly/plotly-2.18.2.min.js\"></script>                <div id=\"82c0a0a1-767e-49f6-ae01-c8e4d248c4bb\" class=\"plotly-graph-div\" style=\"height:525px; width:100%;\"></div>            <script type=\"text/javascript\">                                    window.PLOTLYENV=window.PLOTLYENV || {};                                    if (document.getElementById(\"82c0a0a1-767e-49f6-ae01-c8e4d248c4bb\")) {                    Plotly.newPlot(                        \"82c0a0a1-767e-49f6-ae01-c8e4d248c4bb\",                        [{\"mode\":\"markers\",\"name\":\"Objective Value\",\"x\":[0,1,2,3,4,7,9,14],\"y\":[361840040821304.0,4.148916990661621,3.616880493545532,2.6828094604492185,3.90576324412028,1.858821445719401,3.7637235135396323,3.3926135823567707],\"type\":\"scatter\"},{\"name\":\"Best Value\",\"x\":[0,1,2,3,4,7,9,14],\"y\":[361840040821304.0,4.148916990661621,3.616880493545532,2.6828094604492185,2.6828094604492185,1.858821445719401,1.858821445719401,1.858821445719401],\"type\":\"scatter\"}],                        {\"title\":{\"text\":\"Optimization History Plot\"},\"xaxis\":{\"title\":{\"text\":\"Trial\"}},\"yaxis\":{\"title\":{\"text\":\"Objective Value\"}},\"template\":{\"data\":{\"histogram2dcontour\":[{\"type\":\"histogram2dcontour\",\"colorbar\":{\"outlinewidth\":0,\"ticks\":\"\"},\"colorscale\":[[0.0,\"#0d0887\"],[0.1111111111111111,\"#46039f\"],[0.2222222222222222,\"#7201a8\"],[0.3333333333333333,\"#9c179e\"],[0.4444444444444444,\"#bd3786\"],[0.5555555555555556,\"#d8576b\"],[0.6666666666666666,\"#ed7953\"],[0.7777777777777778,\"#fb9f3a\"],[0.8888888888888888,\"#fdca26\"],[1.0,\"#f0f921\"]]}],\"choropleth\":[{\"type\":\"choropleth\",\"colorbar\":{\"outlinewidth\":0,\"ticks\":\"\"}}],\"histogram2d\":[{\"type\":\"histogram2d\",\"colorbar\":{\"outlinewidth\":0,\"ticks\":\"\"},\"colorscale\":[[0.0,\"#0d0887\"],[0.1111111111111111,\"#46039f\"],[0.2222222222222222,\"#7201a8\"],[0.3333333333333333,\"#9c179e\"],[0.4444444444444444,\"#bd3786\"],[0.5555555555555556,\"#d8576b\"],[0.6666666666666666,\"#ed7953\"],[0.7777777777777778,\"#fb9f3a\"],[0.8888888888888888,\"#fdca26\"],[1.0,\"#f0f921\"]]}],\"heatmap\":[{\"type\":\"heatmap\",\"colorbar\":{\"outlinewidth\":0,\"ticks\":\"\"},\"colorscale\":[[0.0,\"#0d0887\"],[0.1111111111111111,\"#46039f\"],[0.2222222222222222,\"#7201a8\"],[0.3333333333333333,\"#9c179e\"],[0.4444444444444444,\"#bd3786\"],[0.5555555555555556,\"#d8576b\"],[0.6666666666666666,\"#ed7953\"],[0.7777777777777778,\"#fb9f3a\"],[0.8888888888888888,\"#fdca26\"],[1.0,\"#f0f921\"]]}],\"heatmapgl\":[{\"type\":\"heatmapgl\",\"colorbar\":{\"outlinewidth\":0,\"ticks\":\"\"},\"colorscale\":[[0.0,\"#0d0887\"],[0.1111111111111111,\"#46039f\"],[0.2222222222222222,\"#7201a8\"],[0.3333333333333333,\"#9c179e\"],[0.4444444444444444,\"#bd3786\"],[0.5555555555555556,\"#d8576b\"],[0.6666666666666666,\"#ed7953\"],[0.7777777777777778,\"#fb9f3a\"],[0.8888888888888888,\"#fdca26\"],[1.0,\"#f0f921\"]]}],\"contourcarpet\":[{\"type\":\"contourcarpet\",\"colorbar\":{\"outlinewidth\":0,\"ticks\":\"\"}}],\"contour\":[{\"type\":\"contour\",\"colorbar\":{\"outlinewidth\":0,\"ticks\":\"\"},\"colorscale\":[[0.0,\"#0d0887\"],[0.1111111111111111,\"#46039f\"],[0.2222222222222222,\"#7201a8\"],[0.3333333333333333,\"#9c179e\"],[0.4444444444444444,\"#bd3786\"],[0.5555555555555556,\"#d8576b\"],[0.6666666666666666,\"#ed7953\"],[0.7777777777777778,\"#fb9f3a\"],[0.8888888888888888,\"#fdca26\"],[1.0,\"#f0f921\"]]}],\"surface\":[{\"type\":\"surface\",\"colorbar\":{\"outlinewidth\":0,\"ticks\":\"\"},\"colorscale\":[[0.0,\"#0d0887\"],[0.1111111111111111,\"#46039f\"],[0.2222222222222222,\"#7201a8\"],[0.3333333333333333,\"#9c179e\"],[0.4444444444444444,\"#bd3786\"],[0.5555555555555556,\"#d8576b\"],[0.6666666666666666,\"#ed7953\"],[0.7777777777777778,\"#fb9f3a\"],[0.8888888888888888,\"#fdca26\"],[1.0,\"#f0f921\"]]}],\"mesh3d\":[{\"type\":\"mesh3d\",\"colorbar\":{\"outlinewidth\":0,\"ticks\":\"\"}}],\"scatter\":[{\"fillpattern\":{\"fillmode\":\"overlay\",\"size\":10,\"solidity\":0.2},\"type\":\"scatter\"}],\"parcoords\":[{\"type\":\"parcoords\",\"line\":{\"colorbar\":{\"outlinewidth\":0,\"ticks\":\"\"}}}],\"scatterpolargl\":[{\"type\":\"scatterpolargl\",\"marker\":{\"colorbar\":{\"outlinewidth\":0,\"ticks\":\"\"}}}],\"bar\":[{\"error_x\":{\"color\":\"#2a3f5f\"},\"error_y\":{\"color\":\"#2a3f5f\"},\"marker\":{\"line\":{\"color\":\"#E5ECF6\",\"width\":0.5},\"pattern\":{\"fillmode\":\"overlay\",\"size\":10,\"solidity\":0.2}},\"type\":\"bar\"}],\"scattergeo\":[{\"type\":\"scattergeo\",\"marker\":{\"colorbar\":{\"outlinewidth\":0,\"ticks\":\"\"}}}],\"scatterpolar\":[{\"type\":\"scatterpolar\",\"marker\":{\"colorbar\":{\"outlinewidth\":0,\"ticks\":\"\"}}}],\"histogram\":[{\"marker\":{\"pattern\":{\"fillmode\":\"overlay\",\"size\":10,\"solidity\":0.2}},\"type\":\"histogram\"}],\"scattergl\":[{\"type\":\"scattergl\",\"marker\":{\"colorbar\":{\"outlinewidth\":0,\"ticks\":\"\"}}}],\"scatter3d\":[{\"type\":\"scatter3d\",\"line\":{\"colorbar\":{\"outlinewidth\":0,\"ticks\":\"\"}},\"marker\":{\"colorbar\":{\"outlinewidth\":0,\"ticks\":\"\"}}}],\"scattermapbox\":[{\"type\":\"scattermapbox\",\"marker\":{\"colorbar\":{\"outlinewidth\":0,\"ticks\":\"\"}}}],\"scatterternary\":[{\"type\":\"scatterternary\",\"marker\":{\"colorbar\":{\"outlinewidth\":0,\"ticks\":\"\"}}}],\"scattercarpet\":[{\"type\":\"scattercarpet\",\"marker\":{\"colorbar\":{\"outlinewidth\":0,\"ticks\":\"\"}}}],\"carpet\":[{\"aaxis\":{\"endlinecolor\":\"#2a3f5f\",\"gridcolor\":\"white\",\"linecolor\":\"white\",\"minorgridcolor\":\"white\",\"startlinecolor\":\"#2a3f5f\"},\"baxis\":{\"endlinecolor\":\"#2a3f5f\",\"gridcolor\":\"white\",\"linecolor\":\"white\",\"minorgridcolor\":\"white\",\"startlinecolor\":\"#2a3f5f\"},\"type\":\"carpet\"}],\"table\":[{\"cells\":{\"fill\":{\"color\":\"#EBF0F8\"},\"line\":{\"color\":\"white\"}},\"header\":{\"fill\":{\"color\":\"#C8D4E3\"},\"line\":{\"color\":\"white\"}},\"type\":\"table\"}],\"barpolar\":[{\"marker\":{\"line\":{\"color\":\"#E5ECF6\",\"width\":0.5},\"pattern\":{\"fillmode\":\"overlay\",\"size\":10,\"solidity\":0.2}},\"type\":\"barpolar\"}],\"pie\":[{\"automargin\":true,\"type\":\"pie\"}]},\"layout\":{\"autotypenumbers\":\"strict\",\"colorway\":[\"#636efa\",\"#EF553B\",\"#00cc96\",\"#ab63fa\",\"#FFA15A\",\"#19d3f3\",\"#FF6692\",\"#B6E880\",\"#FF97FF\",\"#FECB52\"],\"font\":{\"color\":\"#2a3f5f\"},\"hovermode\":\"closest\",\"hoverlabel\":{\"align\":\"left\"},\"paper_bgcolor\":\"white\",\"plot_bgcolor\":\"#E5ECF6\",\"polar\":{\"bgcolor\":\"#E5ECF6\",\"angularaxis\":{\"gridcolor\":\"white\",\"linecolor\":\"white\",\"ticks\":\"\"},\"radialaxis\":{\"gridcolor\":\"white\",\"linecolor\":\"white\",\"ticks\":\"\"}},\"ternary\":{\"bgcolor\":\"#E5ECF6\",\"aaxis\":{\"gridcolor\":\"white\",\"linecolor\":\"white\",\"ticks\":\"\"},\"baxis\":{\"gridcolor\":\"white\",\"linecolor\":\"white\",\"ticks\":\"\"},\"caxis\":{\"gridcolor\":\"white\",\"linecolor\":\"white\",\"ticks\":\"\"}},\"coloraxis\":{\"colorbar\":{\"outlinewidth\":0,\"ticks\":\"\"}},\"colorscale\":{\"sequential\":[[0.0,\"#0d0887\"],[0.1111111111111111,\"#46039f\"],[0.2222222222222222,\"#7201a8\"],[0.3333333333333333,\"#9c179e\"],[0.4444444444444444,\"#bd3786\"],[0.5555555555555556,\"#d8576b\"],[0.6666666666666666,\"#ed7953\"],[0.7777777777777778,\"#fb9f3a\"],[0.8888888888888888,\"#fdca26\"],[1.0,\"#f0f921\"]],\"sequentialminus\":[[0.0,\"#0d0887\"],[0.1111111111111111,\"#46039f\"],[0.2222222222222222,\"#7201a8\"],[0.3333333333333333,\"#9c179e\"],[0.4444444444444444,\"#bd3786\"],[0.5555555555555556,\"#d8576b\"],[0.6666666666666666,\"#ed7953\"],[0.7777777777777778,\"#fb9f3a\"],[0.8888888888888888,\"#fdca26\"],[1.0,\"#f0f921\"]],\"diverging\":[[0,\"#8e0152\"],[0.1,\"#c51b7d\"],[0.2,\"#de77ae\"],[0.3,\"#f1b6da\"],[0.4,\"#fde0ef\"],[0.5,\"#f7f7f7\"],[0.6,\"#e6f5d0\"],[0.7,\"#b8e186\"],[0.8,\"#7fbc41\"],[0.9,\"#4d9221\"],[1,\"#276419\"]]},\"xaxis\":{\"gridcolor\":\"white\",\"linecolor\":\"white\",\"ticks\":\"\",\"title\":{\"standoff\":15},\"zerolinecolor\":\"white\",\"automargin\":true,\"zerolinewidth\":2},\"yaxis\":{\"gridcolor\":\"white\",\"linecolor\":\"white\",\"ticks\":\"\",\"title\":{\"standoff\":15},\"zerolinecolor\":\"white\",\"automargin\":true,\"zerolinewidth\":2},\"scene\":{\"xaxis\":{\"backgroundcolor\":\"#E5ECF6\",\"gridcolor\":\"white\",\"linecolor\":\"white\",\"showbackground\":true,\"ticks\":\"\",\"zerolinecolor\":\"white\",\"gridwidth\":2},\"yaxis\":{\"backgroundcolor\":\"#E5ECF6\",\"gridcolor\":\"white\",\"linecolor\":\"white\",\"showbackground\":true,\"ticks\":\"\",\"zerolinecolor\":\"white\",\"gridwidth\":2},\"zaxis\":{\"backgroundcolor\":\"#E5ECF6\",\"gridcolor\":\"white\",\"linecolor\":\"white\",\"showbackground\":true,\"ticks\":\"\",\"zerolinecolor\":\"white\",\"gridwidth\":2}},\"shapedefaults\":{\"line\":{\"color\":\"#2a3f5f\"}},\"annotationdefaults\":{\"arrowcolor\":\"#2a3f5f\",\"arrowhead\":0,\"arrowwidth\":1},\"geo\":{\"bgcolor\":\"white\",\"landcolor\":\"#E5ECF6\",\"subunitcolor\":\"white\",\"showland\":true,\"showlakes\":true,\"lakecolor\":\"white\"},\"title\":{\"x\":0.05},\"mapbox\":{\"style\":\"light\"}}}},                        {\"responsive\": true}                    ).then(function(){\n",
              "                            \n",
              "var gd = document.getElementById('82c0a0a1-767e-49f6-ae01-c8e4d248c4bb');\n",
              "var x = new MutationObserver(function (mutations, observer) {{\n",
              "        var display = window.getComputedStyle(gd).display;\n",
              "        if (!display || display === 'none') {{\n",
              "            console.log([gd, 'removed!']);\n",
              "            Plotly.purge(gd);\n",
              "            observer.disconnect();\n",
              "        }}\n",
              "}});\n",
              "\n",
              "// Listen for the removal of the full notebook cells\n",
              "var notebookContainer = gd.closest('#notebook-container');\n",
              "if (notebookContainer) {{\n",
              "    x.observe(notebookContainer, {childList: true});\n",
              "}}\n",
              "\n",
              "// Listen for the clearing of the current output cell\n",
              "var outputEl = gd.closest('.output');\n",
              "if (outputEl) {{\n",
              "    x.observe(outputEl, {childList: true});\n",
              "}}\n",
              "\n",
              "                        })                };                            </script>        </div>\n",
              "</body>\n",
              "</html>"
            ]
          },
          "metadata": {}
        },
        {
          "output_type": "stream",
          "name": "stderr",
          "text": [
            "[W 2023-06-02 10:57:41,037] Your study has only completed trials with missing parameters.\n",
            "<ipython-input-37-0c79a7da1449>:44: FutureWarning:\n",
            "\n",
            "suggest_loguniform has been deprecated in v3.0.0. This feature will be removed in v6.0.0. See https://github.com/optuna/optuna/releases/tag/v3.0.0. Use suggest_float(..., log=True) instead.\n",
            "\n",
            "<ipython-input-37-0c79a7da1449>:76: FutureWarning:\n",
            "\n",
            "suggest_uniform has been deprecated in v3.0.0. This feature will be removed in v6.0.0. See https://github.com/optuna/optuna/releases/tag/v3.0.0. Use suggest_float instead.\n",
            "\n",
            "<ipython-input-37-0c79a7da1449>:178: FutureWarning:\n",
            "\n",
            "suggest_uniform has been deprecated in v3.0.0. This feature will be removed in v6.0.0. See https://github.com/optuna/optuna/releases/tag/v3.0.0. Use suggest_float instead.\n",
            "\n",
            "<ipython-input-37-0c79a7da1449>:180: FutureWarning:\n",
            "\n",
            "suggest_loguniform has been deprecated in v3.0.0. This feature will be removed in v6.0.0. See https://github.com/optuna/optuna/releases/tag/v3.0.0. Use suggest_float(..., log=True) instead.\n",
            "\n"
          ]
        },
        {
          "output_type": "stream",
          "name": "stdout",
          "text": [
            "Epoch 1/121.. Train loss: 4.272.. Val loss: 4.141.. Train L1 norm: 3.900.. Val L1 norm: 1.916.. Train Linf norm: 139.971.. Val Linf norm: 44.562\n",
            "Epoch 2/121.. Train loss: 4.241.. Val loss: 4.174.. Train L1 norm: 4.169.. Val L1 norm: 1.669.. Train Linf norm: 155.331.. Val Linf norm: 35.092\n",
            "Epoch 3/121.. Train loss: 4.144.. Val loss: 4.236.. Train L1 norm: 4.158.. Val L1 norm: 1.499.. Train Linf norm: 153.259.. Val Linf norm: 27.124\n",
            "Epoch 4/121.. Train loss: 4.124.. Val loss: 4.183.. Train L1 norm: 4.092.. Val L1 norm: 1.561.. Train Linf norm: 151.981.. Val Linf norm: 30.246\n",
            "Epoch 5/121.. Train loss: 4.041.. Val loss: 4.108.. Train L1 norm: 4.116.. Val L1 norm: 1.624.. Train Linf norm: 153.011.. Val Linf norm: 34.147\n",
            "Epoch 6/121.. Train loss: 4.025.. Val loss: 4.065.. Train L1 norm: 4.216.. Val L1 norm: 1.706.. Train Linf norm: 157.846.. Val Linf norm: 37.072\n",
            "Epoch 7/121.. Train loss: 3.954.. Val loss: 4.126.. Train L1 norm: 3.960.. Val L1 norm: 1.573.. Train Linf norm: 141.102.. Val Linf norm: 31.272\n",
            "Epoch 8/121.. Train loss: 3.914.. Val loss: 3.979.. Train L1 norm: 4.325.. Val L1 norm: 1.830.. Train Linf norm: 165.642.. Val Linf norm: 42.752\n",
            "Epoch 9/121.. Train loss: 3.934.. Val loss: 4.204.. Train L1 norm: 4.421.. Val L1 norm: 1.478.. Train Linf norm: 171.004.. Val Linf norm: 27.211\n",
            "Epoch 10/121.. Train loss: 3.889.. Val loss: 4.249.. Train L1 norm: 4.368.. Val L1 norm: 1.481.. Train Linf norm: 167.298.. Val Linf norm: 27.453\n",
            "Epoch 11/121.. Train loss: 4.036.. Val loss: 4.087.. Train L1 norm: 4.427.. Val L1 norm: 1.602.. Train Linf norm: 171.928.. Val Linf norm: 32.999\n",
            "Epoch 12/121.. Train loss: 3.804.. Val loss: 4.045.. Train L1 norm: 4.185.. Val L1 norm: 1.647.. Train Linf norm: 154.649.. Val Linf norm: 34.847\n",
            "Epoch 13/121.. Train loss: 3.914.. Val loss: 4.120.. Train L1 norm: 4.326.. Val L1 norm: 1.519.. Train Linf norm: 163.463.. Val Linf norm: 29.006\n",
            "Epoch 14/121.. Train loss: 3.832.. Val loss: 4.133.. Train L1 norm: 4.599.. Val L1 norm: 1.496.. Train Linf norm: 177.402.. Val Linf norm: 28.171\n",
            "Epoch 15/121.. Train loss: 3.905.. Val loss: 4.219.. Train L1 norm: 4.658.. Val L1 norm: 1.386.. Train Linf norm: 183.444.. Val Linf norm: 22.540\n",
            "Epoch 16/121.. Train loss: 3.843.. Val loss: 4.059.. Train L1 norm: 4.390.. Val L1 norm: 1.564.. Train Linf norm: 161.667.. Val Linf norm: 30.871\n",
            "Epoch 17/121.. Train loss: 3.720.. Val loss: 4.004.. Train L1 norm: 4.574.. Val L1 norm: 1.627.. Train Linf norm: 178.255.. Val Linf norm: 34.331\n",
            "Epoch 18/121.. Train loss: 3.700.. Val loss: 4.049.. Train L1 norm: 4.233.. Val L1 norm: 1.538.. Train Linf norm: 154.755.. Val Linf norm: 29.869\n",
            "Epoch 19/121.. Train loss: 3.649.. Val loss: 4.112.. Train L1 norm: 4.580.. Val L1 norm: 1.442.. Train Linf norm: 179.642.. Val Linf norm: 25.640\n",
            "Epoch 20/121.. Train loss: 3.660.. Val loss: 4.199.. Train L1 norm: 4.747.. Val L1 norm: 1.386.. Train Linf norm: 190.328.. Val Linf norm: 22.722\n",
            "Epoch 21/121.. Train loss: 3.658.. Val loss: 4.184.. Train L1 norm: 4.352.. Val L1 norm: 1.371.. Train Linf norm: 164.234.. Val Linf norm: 21.970\n",
            "Epoch 22/121.. Train loss: 3.651.. Val loss: 4.264.. Train L1 norm: 4.434.. Val L1 norm: 1.334.. Train Linf norm: 169.734.. Val Linf norm: 20.231\n",
            "Epoch 23/121.. Train loss: 3.580.. Val loss: 4.197.. Train L1 norm: 4.403.. Val L1 norm: 1.375.. Train Linf norm: 168.321.. Val Linf norm: 22.632\n",
            "Epoch 24/121.. Train loss: 3.563.. Val loss: 4.254.. Train L1 norm: 4.661.. Val L1 norm: 1.329.. Train Linf norm: 183.041.. Val Linf norm: 20.306\n",
            "Epoch 25/121.. Train loss: 3.658.. Val loss: 4.203.. Train L1 norm: 4.115.. Val L1 norm: 1.349.. Train Linf norm: 150.761.. Val Linf norm: 21.333\n",
            "Epoch 26/121.. Train loss: 3.567.. Val loss: 4.189.. Train L1 norm: 4.739.. Val L1 norm: 1.377.. Train Linf norm: 187.703.. Val Linf norm: 22.707\n",
            "Epoch 27/121.. Train loss: 3.540.. Val loss: 4.199.. Train L1 norm: 4.386.. Val L1 norm: 1.350.. Train Linf norm: 167.753.. Val Linf norm: 21.538\n",
            "Epoch 28/121.. Train loss: 3.584.. Val loss: 4.208.. Train L1 norm: 4.299.. Val L1 norm: 1.357.. Train Linf norm: 160.246.. Val Linf norm: 21.778\n",
            "Epoch 29/121.. Train loss: 3.553.. Val loss: 4.188.. Train L1 norm: 4.383.. Val L1 norm: 1.355.. Train Linf norm: 165.646.. Val Linf norm: 21.623\n",
            "Epoch 30/121.. Train loss: 3.537.. Val loss: 4.192.. Train L1 norm: 4.764.. Val L1 norm: 1.366.. Train Linf norm: 192.761.. Val Linf norm: 22.157\n",
            "Epoch 31/121.. Train loss: 3.524.. Val loss: 4.188.. Train L1 norm: 4.317.. Val L1 norm: 1.362.. Train Linf norm: 163.593.. Val Linf norm: 22.107\n",
            "Epoch 32/121.. Train loss: 3.491.. Val loss: 4.188.. Train L1 norm: 4.510.. Val L1 norm: 1.362.. Train Linf norm: 176.424.. Val Linf norm: 22.041\n",
            "Epoch 33/121.. Train loss: 3.623.. Val loss: 4.195.. Train L1 norm: 4.339.. Val L1 norm: 1.356.. Train Linf norm: 165.218.. Val Linf norm: 21.928\n",
            "Epoch 34/121.. Train loss: 3.622.. Val loss: 4.204.. Train L1 norm: 4.500.. Val L1 norm: 1.341.. Train Linf norm: 176.192.. Val Linf norm: 21.246\n",
            "Epoch 35/121.. Train loss: 3.556.. Val loss: 4.209.. Train L1 norm: 4.511.. Val L1 norm: 1.346.. Train Linf norm: 176.394.. Val Linf norm: 21.447\n",
            "Epoch 36/121.. Train loss: 3.495.. Val loss: 4.224.. Train L1 norm: 4.434.. Val L1 norm: 1.346.. Train Linf norm: 168.695.. Val Linf norm: 21.403\n",
            "Epoch 37/121.. Train loss: 3.570.. Val loss: 4.218.. Train L1 norm: 4.202.. Val L1 norm: 1.338.. Train Linf norm: 153.557.. Val Linf norm: 21.086\n",
            "Epoch 38/121.. Train loss: 3.546.. Val loss: 4.205.. Train L1 norm: 4.306.. Val L1 norm: 1.344.. Train Linf norm: 163.756.. Val Linf norm: 21.443\n",
            "Epoch 39/121.. Train loss: 3.550.. Val loss: 4.211.. Train L1 norm: 4.312.. Val L1 norm: 1.339.. Train Linf norm: 164.044.. Val Linf norm: 21.167\n",
            "Epoch 40/121.. Train loss: 3.570.. Val loss: 4.210.. Train L1 norm: 4.476.. Val L1 norm: 1.338.. Train Linf norm: 175.458.. Val Linf norm: 21.101\n",
            "Epoch 41/121.. Train loss: 3.538.. Val loss: 4.200.. Train L1 norm: 4.628.. Val L1 norm: 1.344.. Train Linf norm: 186.234.. Val Linf norm: 21.444\n",
            "Epoch 42/121.. Train loss: 3.483.. Val loss: 4.204.. Train L1 norm: 4.295.. Val L1 norm: 1.340.. Train Linf norm: 162.544.. Val Linf norm: 21.251\n",
            "Epoch 43/121.. Train loss: 3.506.. Val loss: 4.211.. Train L1 norm: 4.558.. Val L1 norm: 1.342.. Train Linf norm: 178.800.. Val Linf norm: 21.384\n",
            "Epoch 44/121.. Train loss: 3.511.. Val loss: 4.207.. Train L1 norm: 4.184.. Val L1 norm: 1.339.. Train Linf norm: 155.346.. Val Linf norm: 21.174\n",
            "Epoch 45/121.. Train loss: 3.554.. Val loss: 4.207.. Train L1 norm: 4.530.. Val L1 norm: 1.342.. Train Linf norm: 177.167.. Val Linf norm: 21.342\n",
            "Epoch 46/121.. Train loss: 3.554.. Val loss: 4.215.. Train L1 norm: 4.770.. Val L1 norm: 1.336.. Train Linf norm: 193.562.. Val Linf norm: 21.060\n",
            "Epoch 47/121.. Train loss: 3.516.. Val loss: 4.202.. Train L1 norm: 4.525.. Val L1 norm: 1.340.. Train Linf norm: 178.618.. Val Linf norm: 21.245\n",
            "Epoch 48/121.. Train loss: 3.643.. Val loss: 4.205.. Train L1 norm: 4.338.. Val L1 norm: 1.344.. Train Linf norm: 165.978.. Val Linf norm: 21.490\n",
            "Epoch 49/121.. Train loss: 3.556.. Val loss: 4.207.. Train L1 norm: 4.391.. Val L1 norm: 1.347.. Train Linf norm: 168.708.. Val Linf norm: 21.571\n",
            "Epoch 50/121.. Train loss: 3.519.. Val loss: 4.207.. Train L1 norm: 4.589.. Val L1 norm: 1.345.. Train Linf norm: 180.983.. Val Linf norm: 21.517\n",
            "Epoch 51/121.. Train loss: 3.485.. Val loss: 4.207.. Train L1 norm: 4.557.. Val L1 norm: 1.343.. Train Linf norm: 179.174.. Val Linf norm: 21.441\n",
            "Epoch 52/121.. Train loss: 3.585.. Val loss: 4.208.. Train L1 norm: 4.552.. Val L1 norm: 1.343.. Train Linf norm: 180.021.. Val Linf norm: 21.438\n",
            "Epoch 53/121.. Train loss: 3.480.. Val loss: 4.206.. Train L1 norm: 4.301.. Val L1 norm: 1.345.. Train Linf norm: 163.731.. Val Linf norm: 21.532\n",
            "Epoch 54/121.. Train loss: 3.549.. Val loss: 4.208.. Train L1 norm: 4.446.. Val L1 norm: 1.345.. Train Linf norm: 170.850.. Val Linf norm: 21.517\n",
            "Epoch 55/121.. Train loss: 3.471.. Val loss: 4.209.. Train L1 norm: 4.407.. Val L1 norm: 1.342.. Train Linf norm: 170.030.. Val Linf norm: 21.403\n",
            "Epoch 56/121.. Train loss: 3.503.. Val loss: 4.210.. Train L1 norm: 4.181.. Val L1 norm: 1.343.. Train Linf norm: 155.171.. Val Linf norm: 21.429\n",
            "Epoch 57/121.. Train loss: 3.556.. Val loss: 4.207.. Train L1 norm: 4.556.. Val L1 norm: 1.343.. Train Linf norm: 179.875.. Val Linf norm: 21.451\n",
            "Epoch 58/121.. Train loss: 3.524.. Val loss: 4.206.. Train L1 norm: 4.535.. Val L1 norm: 1.344.. Train Linf norm: 176.461.. Val Linf norm: 21.473\n",
            "Epoch 59/121.. Train loss: 3.514.. Val loss: 4.206.. Train L1 norm: 4.386.. Val L1 norm: 1.345.. Train Linf norm: 168.465.. Val Linf norm: 21.519\n",
            "Epoch 60/121.. Train loss: 3.540.. Val loss: 4.206.. Train L1 norm: 4.563.. Val L1 norm: 1.345.. Train Linf norm: 180.759.. Val Linf norm: 21.550\n",
            "Epoch 61/121.. Train loss: 3.548.. Val loss: 4.206.. Train L1 norm: 4.370.. Val L1 norm: 1.345.. Train Linf norm: 164.316.. Val Linf norm: 21.532\n",
            "Epoch 62/121.. Train loss: 3.530.. Val loss: 4.206.. Train L1 norm: 4.533.. Val L1 norm: 1.345.. Train Linf norm: 177.537.. Val Linf norm: 21.549\n",
            "Epoch 63/121.. Train loss: 3.533.. Val loss: 4.206.. Train L1 norm: 4.311.. Val L1 norm: 1.345.. Train Linf norm: 163.797.. Val Linf norm: 21.549\n",
            "Epoch 64/121.. Train loss: 3.467.. Val loss: 4.206.. Train L1 norm: 4.587.. Val L1 norm: 1.346.. Train Linf norm: 179.177.. Val Linf norm: 21.566\n",
            "Epoch 65/121.. Train loss: 3.538.. Val loss: 4.206.. Train L1 norm: 4.317.. Val L1 norm: 1.346.. Train Linf norm: 164.299.. Val Linf norm: 21.603\n",
            "Epoch 66/121.. Train loss: 3.514.. Val loss: 4.207.. Train L1 norm: 4.733.. Val L1 norm: 1.346.. Train Linf norm: 190.853.. Val Linf norm: 21.598\n",
            "Epoch 67/121.. Train loss: 3.545.. Val loss: 4.207.. Train L1 norm: 4.353.. Val L1 norm: 1.346.. Train Linf norm: 167.958.. Val Linf norm: 21.598\n",
            "Epoch 68/121.. Train loss: 3.510.. Val loss: 4.206.. Train L1 norm: 4.147.. Val L1 norm: 1.347.. Train Linf norm: 154.684.. Val Linf norm: 21.635\n",
            "Epoch 69/121.. Train loss: 3.529.. Val loss: 4.206.. Train L1 norm: 4.732.. Val L1 norm: 1.347.. Train Linf norm: 191.898.. Val Linf norm: 21.628\n",
            "Epoch 70/121.. Train loss: 3.534.. Val loss: 4.206.. Train L1 norm: 4.455.. Val L1 norm: 1.347.. Train Linf norm: 170.885.. Val Linf norm: 21.622\n",
            "Epoch 71/121.. Train loss: 3.570.. Val loss: 4.206.. Train L1 norm: 4.325.. Val L1 norm: 1.347.. Train Linf norm: 166.154.. Val Linf norm: 21.625\n",
            "Epoch 72/121.. Train loss: 3.490.. Val loss: 4.206.. Train L1 norm: 4.432.. Val L1 norm: 1.347.. Train Linf norm: 170.521.. Val Linf norm: 21.620\n",
            "Epoch 73/121.. Train loss: 3.549.. Val loss: 4.207.. Train L1 norm: 4.441.. Val L1 norm: 1.347.. Train Linf norm: 172.706.. Val Linf norm: 21.612\n",
            "Epoch 74/121.. Train loss: 3.611.. Val loss: 4.207.. Train L1 norm: 4.104.. Val L1 norm: 1.346.. Train Linf norm: 152.561.. Val Linf norm: 21.601\n",
            "Epoch 75/121.. Train loss: 3.516.. Val loss: 4.207.. Train L1 norm: 4.225.. Val L1 norm: 1.346.. Train Linf norm: 159.212.. Val Linf norm: 21.588\n",
            "Epoch 76/121.. Train loss: 3.498.. Val loss: 4.207.. Train L1 norm: 4.332.. Val L1 norm: 1.346.. Train Linf norm: 165.844.. Val Linf norm: 21.583\n",
            "Epoch 77/121.. Train loss: 3.508.. Val loss: 4.207.. Train L1 norm: 4.719.. Val L1 norm: 1.346.. Train Linf norm: 188.792.. Val Linf norm: 21.576\n",
            "Epoch 78/121.. Train loss: 3.537.. Val loss: 4.207.. Train L1 norm: 4.356.. Val L1 norm: 1.346.. Train Linf norm: 163.921.. Val Linf norm: 21.568\n",
            "Epoch 79/121.. Train loss: 3.509.. Val loss: 4.207.. Train L1 norm: 4.416.. Val L1 norm: 1.346.. Train Linf norm: 170.281.. Val Linf norm: 21.566\n",
            "Epoch 80/121.. Train loss: 3.474.. Val loss: 4.207.. Train L1 norm: 4.413.. Val L1 norm: 1.346.. Train Linf norm: 167.091.. Val Linf norm: 21.568\n",
            "Epoch 81/121.. Train loss: 3.454.. Val loss: 4.207.. Train L1 norm: 4.391.. Val L1 norm: 1.346.. Train Linf norm: 170.223.. Val Linf norm: 21.568\n",
            "Epoch 82/121.. Train loss: 3.551.. Val loss: 4.207.. Train L1 norm: 4.540.. Val L1 norm: 1.346.. Train Linf norm: 173.904.. Val Linf norm: 21.567\n",
            "Epoch 83/121.. Train loss: 3.519.. Val loss: 4.207.. Train L1 norm: 4.871.. Val L1 norm: 1.346.. Train Linf norm: 198.729.. Val Linf norm: 21.568\n",
            "Epoch 84/121.. Train loss: 3.493.. Val loss: 4.207.. Train L1 norm: 4.339.. Val L1 norm: 1.346.. Train Linf norm: 164.893.. Val Linf norm: 21.570\n",
            "Epoch 85/121.. Train loss: 3.538.. Val loss: 4.207.. Train L1 norm: 4.255.. Val L1 norm: 1.346.. Train Linf norm: 154.239.. Val Linf norm: 21.569\n",
            "Epoch 86/121.. Train loss: 3.545.. Val loss: 4.207.. Train L1 norm: 4.455.. Val L1 norm: 1.346.. Train Linf norm: 173.917.. Val Linf norm: 21.566\n",
            "Epoch 87/121.. Train loss: 3.504.. Val loss: 4.207.. Train L1 norm: 4.660.. Val L1 norm: 1.346.. Train Linf norm: 186.385.. Val Linf norm: 21.567\n",
            "Epoch 88/121.. Train loss: 3.500.. Val loss: 4.207.. Train L1 norm: 4.292.. Val L1 norm: 1.346.. Train Linf norm: 164.082.. Val Linf norm: 21.564\n",
            "Epoch 89/121.. Train loss: 3.535.. Val loss: 4.207.. Train L1 norm: 4.353.. Val L1 norm: 1.346.. Train Linf norm: 166.682.. Val Linf norm: 21.563\n",
            "Epoch 90/121.. Train loss: 3.488.. Val loss: 4.207.. Train L1 norm: 4.495.. Val L1 norm: 1.346.. Train Linf norm: 176.290.. Val Linf norm: 21.565\n",
            "Epoch 91/121.. Train loss: 3.492.. Val loss: 4.207.. Train L1 norm: 4.664.. Val L1 norm: 1.346.. Train Linf norm: 186.165.. Val Linf norm: 21.564\n",
            "Epoch 92/121.. Train loss: 3.495.. Val loss: 4.207.. Train L1 norm: 4.262.. Val L1 norm: 1.346.. Train Linf norm: 158.547.. Val Linf norm: 21.563\n",
            "Epoch 93/121.. Train loss: 3.601.. Val loss: 4.207.. Train L1 norm: 4.609.. Val L1 norm: 1.346.. Train Linf norm: 182.394.. Val Linf norm: 21.562\n",
            "Epoch 94/121.. Train loss: 3.481.. Val loss: 4.207.. Train L1 norm: 4.357.. Val L1 norm: 1.346.. Train Linf norm: 165.898.. Val Linf norm: 21.560\n",
            "Epoch 95/121.. Train loss: 3.541.. Val loss: 4.207.. Train L1 norm: 4.244.. Val L1 norm: 1.345.. Train Linf norm: 158.019.. Val Linf norm: 21.557\n",
            "Epoch 96/121.. Train loss: 3.535.. Val loss: 4.207.. Train L1 norm: 4.119.. Val L1 norm: 1.345.. Train Linf norm: 152.243.. Val Linf norm: 21.557\n",
            "Epoch 97/121.. Train loss: 3.496.. Val loss: 4.207.. Train L1 norm: 4.606.. Val L1 norm: 1.345.. Train Linf norm: 182.359.. Val Linf norm: 21.555\n",
            "Epoch 98/121.. Train loss: 3.475.. Val loss: 4.207.. Train L1 norm: 4.775.. Val L1 norm: 1.345.. Train Linf norm: 194.446.. Val Linf norm: 21.556\n",
            "Epoch 99/121.. Train loss: 3.584.. Val loss: 4.207.. Train L1 norm: 4.446.. Val L1 norm: 1.345.. Train Linf norm: 173.641.. Val Linf norm: 21.553\n",
            "Epoch 100/121.. Train loss: 3.512.. Val loss: 4.207.. Train L1 norm: 4.575.. Val L1 norm: 1.345.. Train Linf norm: 179.620.. Val Linf norm: 21.551\n",
            "Epoch 101/121.. Train loss: 3.493.. Val loss: 4.207.. Train L1 norm: 4.335.. Val L1 norm: 1.345.. Train Linf norm: 159.851.. Val Linf norm: 21.551\n",
            "Epoch 102/121.. Train loss: 3.539.. Val loss: 4.207.. Train L1 norm: 4.472.. Val L1 norm: 1.345.. Train Linf norm: 173.375.. Val Linf norm: 21.549\n",
            "Epoch 103/121.. Train loss: 3.535.. Val loss: 4.207.. Train L1 norm: 4.672.. Val L1 norm: 1.345.. Train Linf norm: 187.092.. Val Linf norm: 21.549\n",
            "Epoch 104/121.. Train loss: 3.495.. Val loss: 4.207.. Train L1 norm: 4.558.. Val L1 norm: 1.345.. Train Linf norm: 181.608.. Val Linf norm: 21.549\n",
            "Epoch 105/121.. Train loss: 3.560.. Val loss: 4.207.. Train L1 norm: 4.398.. Val L1 norm: 1.345.. Train Linf norm: 166.745.. Val Linf norm: 21.548\n",
            "Epoch 106/121.. Train loss: 3.493.. Val loss: 4.207.. Train L1 norm: 4.449.. Val L1 norm: 1.345.. Train Linf norm: 173.219.. Val Linf norm: 21.547\n",
            "Epoch 107/121.. Train loss: 3.555.. Val loss: 4.207.. Train L1 norm: 4.419.. Val L1 norm: 1.345.. Train Linf norm: 171.241.. Val Linf norm: 21.547\n",
            "Epoch 108/121.. Train loss: 3.535.. Val loss: 4.207.. Train L1 norm: 4.615.. Val L1 norm: 1.345.. Train Linf norm: 182.938.. Val Linf norm: 21.547\n",
            "Epoch 109/121.. Train loss: 3.516.. Val loss: 4.207.. Train L1 norm: 4.226.. Val L1 norm: 1.345.. Train Linf norm: 153.408.. Val Linf norm: 21.545\n",
            "Epoch 110/121.. Train loss: 3.560.. Val loss: 4.207.. Train L1 norm: 4.459.. Val L1 norm: 1.345.. Train Linf norm: 171.927.. Val Linf norm: 21.546\n",
            "Epoch 111/121.. Train loss: 3.509.. Val loss: 4.207.. Train L1 norm: 4.299.. Val L1 norm: 1.345.. Train Linf norm: 161.010.. Val Linf norm: 21.546\n",
            "Epoch 112/121.. Train loss: 3.531.. Val loss: 4.207.. Train L1 norm: 4.520.. Val L1 norm: 1.345.. Train Linf norm: 177.364.. Val Linf norm: 21.544\n",
            "Epoch 113/121.. Train loss: 3.539.. Val loss: 4.207.. Train L1 norm: 4.497.. Val L1 norm: 1.345.. Train Linf norm: 175.085.. Val Linf norm: 21.545\n",
            "Epoch 114/121.. Train loss: 3.562.. Val loss: 4.207.. Train L1 norm: 4.401.. Val L1 norm: 1.345.. Train Linf norm: 166.678.. Val Linf norm: 21.546\n",
            "Epoch 115/121.. Train loss: 3.512.. Val loss: 4.207.. Train L1 norm: 4.714.. Val L1 norm: 1.345.. Train Linf norm: 187.956.. Val Linf norm: 21.545\n",
            "Epoch 116/121.. Train loss: 3.554.. Val loss: 4.207.. Train L1 norm: 4.416.. Val L1 norm: 1.345.. Train Linf norm: 170.638.. Val Linf norm: 21.545\n",
            "Epoch 117/121.. Train loss: 3.548.. Val loss: 4.207.. Train L1 norm: 4.274.. Val L1 norm: 1.345.. Train Linf norm: 161.962.. Val Linf norm: 21.545\n",
            "Epoch 118/121.. Train loss: 3.495.. Val loss: 4.207.. Train L1 norm: 4.488.. Val L1 norm: 1.345.. Train Linf norm: 172.231.. Val Linf norm: 21.547\n",
            "Epoch 119/121.. Train loss: 3.577.. Val loss: 4.207.. Train L1 norm: 4.268.. Val L1 norm: 1.345.. Train Linf norm: 160.836.. Val Linf norm: 21.546\n",
            "Epoch 120/121.. Train loss: 3.495.. Val loss: 4.207.. Train L1 norm: 4.262.. Val L1 norm: 1.345.. Train Linf norm: 160.392.. Val Linf norm: 21.547\n"
          ]
        },
        {
          "output_type": "stream",
          "name": "stderr",
          "text": [
            "[I 2023-06-02 11:13:45,991] Trial 15 finished with value: 1.3452199674288432 and parameters: {'n_layers': 6, 'n_units_0': 875, 'n_units_1': 1033, 'n_units_2': 3157, 'n_units_3': 2660, 'n_units_4': 623, 'n_units_5': 3260, 'hidden_activation': 'ReLU', 'output_activation': 'Linear', 'loss': 'Huber', 'optimizer': 'RMSprop', 'lr': 6.206502476625354e-05, 'batch_size': 64, 'n_epochs': 121, 'scheduler': 'ReduceLROnPlateau', 'dropout_rate': 0.4832152006630831, 'factor': 0.27056045393535005, 'patience': 9, 'threshold': 0.00011801830297307417}. Best is trial 15 with value: 1.3452199674288432.\n"
          ]
        },
        {
          "output_type": "stream",
          "name": "stdout",
          "text": [
            "Epoch 121/121.. Train loss: 3.516.. Val loss: 4.207.. Train L1 norm: 4.275.. Val L1 norm: 1.345.. Train Linf norm: 160.416.. Val Linf norm: 21.547\n"
          ]
        },
        {
          "output_type": "display_data",
          "data": {
            "text/html": [
              "<html>\n",
              "<head><meta charset=\"utf-8\" /></head>\n",
              "<body>\n",
              "    <div>            <script src=\"https://cdnjs.cloudflare.com/ajax/libs/mathjax/2.7.5/MathJax.js?config=TeX-AMS-MML_SVG\"></script><script type=\"text/javascript\">if (window.MathJax && window.MathJax.Hub && window.MathJax.Hub.Config) {window.MathJax.Hub.Config({SVG: {font: \"STIX-Web\"}});}</script>                <script type=\"text/javascript\">window.PlotlyConfig = {MathJaxConfig: 'local'};</script>\n",
              "        <script src=\"https://cdn.plot.ly/plotly-2.18.2.min.js\"></script>                <div id=\"bb815fe3-8a5a-43bc-ba31-a0bbac63a0b6\" class=\"plotly-graph-div\" style=\"height:525px; width:100%;\"></div>            <script type=\"text/javascript\">                                    window.PLOTLYENV=window.PLOTLYENV || {};                                    if (document.getElementById(\"bb815fe3-8a5a-43bc-ba31-a0bbac63a0b6\")) {                    Plotly.newPlot(                        \"bb815fe3-8a5a-43bc-ba31-a0bbac63a0b6\",                        [{\"mode\":\"markers\",\"name\":\"Objective Value\",\"x\":[0,1,2,3,4,7,9,14,15],\"y\":[361840040821304.0,4.148916990661621,3.616880493545532,2.6828094604492185,3.90576324412028,1.858821445719401,3.7637235135396323,3.3926135823567707,1.3452199674288432],\"type\":\"scatter\"},{\"name\":\"Best Value\",\"x\":[0,1,2,3,4,7,9,14,15],\"y\":[361840040821304.0,4.148916990661621,3.616880493545532,2.6828094604492185,2.6828094604492185,1.858821445719401,1.858821445719401,1.858821445719401,1.3452199674288432],\"type\":\"scatter\"}],                        {\"title\":{\"text\":\"Optimization History Plot\"},\"xaxis\":{\"title\":{\"text\":\"Trial\"}},\"yaxis\":{\"title\":{\"text\":\"Objective Value\"}},\"template\":{\"data\":{\"histogram2dcontour\":[{\"type\":\"histogram2dcontour\",\"colorbar\":{\"outlinewidth\":0,\"ticks\":\"\"},\"colorscale\":[[0.0,\"#0d0887\"],[0.1111111111111111,\"#46039f\"],[0.2222222222222222,\"#7201a8\"],[0.3333333333333333,\"#9c179e\"],[0.4444444444444444,\"#bd3786\"],[0.5555555555555556,\"#d8576b\"],[0.6666666666666666,\"#ed7953\"],[0.7777777777777778,\"#fb9f3a\"],[0.8888888888888888,\"#fdca26\"],[1.0,\"#f0f921\"]]}],\"choropleth\":[{\"type\":\"choropleth\",\"colorbar\":{\"outlinewidth\":0,\"ticks\":\"\"}}],\"histogram2d\":[{\"type\":\"histogram2d\",\"colorbar\":{\"outlinewidth\":0,\"ticks\":\"\"},\"colorscale\":[[0.0,\"#0d0887\"],[0.1111111111111111,\"#46039f\"],[0.2222222222222222,\"#7201a8\"],[0.3333333333333333,\"#9c179e\"],[0.4444444444444444,\"#bd3786\"],[0.5555555555555556,\"#d8576b\"],[0.6666666666666666,\"#ed7953\"],[0.7777777777777778,\"#fb9f3a\"],[0.8888888888888888,\"#fdca26\"],[1.0,\"#f0f921\"]]}],\"heatmap\":[{\"type\":\"heatmap\",\"colorbar\":{\"outlinewidth\":0,\"ticks\":\"\"},\"colorscale\":[[0.0,\"#0d0887\"],[0.1111111111111111,\"#46039f\"],[0.2222222222222222,\"#7201a8\"],[0.3333333333333333,\"#9c179e\"],[0.4444444444444444,\"#bd3786\"],[0.5555555555555556,\"#d8576b\"],[0.6666666666666666,\"#ed7953\"],[0.7777777777777778,\"#fb9f3a\"],[0.8888888888888888,\"#fdca26\"],[1.0,\"#f0f921\"]]}],\"heatmapgl\":[{\"type\":\"heatmapgl\",\"colorbar\":{\"outlinewidth\":0,\"ticks\":\"\"},\"colorscale\":[[0.0,\"#0d0887\"],[0.1111111111111111,\"#46039f\"],[0.2222222222222222,\"#7201a8\"],[0.3333333333333333,\"#9c179e\"],[0.4444444444444444,\"#bd3786\"],[0.5555555555555556,\"#d8576b\"],[0.6666666666666666,\"#ed7953\"],[0.7777777777777778,\"#fb9f3a\"],[0.8888888888888888,\"#fdca26\"],[1.0,\"#f0f921\"]]}],\"contourcarpet\":[{\"type\":\"contourcarpet\",\"colorbar\":{\"outlinewidth\":0,\"ticks\":\"\"}}],\"contour\":[{\"type\":\"contour\",\"colorbar\":{\"outlinewidth\":0,\"ticks\":\"\"},\"colorscale\":[[0.0,\"#0d0887\"],[0.1111111111111111,\"#46039f\"],[0.2222222222222222,\"#7201a8\"],[0.3333333333333333,\"#9c179e\"],[0.4444444444444444,\"#bd3786\"],[0.5555555555555556,\"#d8576b\"],[0.6666666666666666,\"#ed7953\"],[0.7777777777777778,\"#fb9f3a\"],[0.8888888888888888,\"#fdca26\"],[1.0,\"#f0f921\"]]}],\"surface\":[{\"type\":\"surface\",\"colorbar\":{\"outlinewidth\":0,\"ticks\":\"\"},\"colorscale\":[[0.0,\"#0d0887\"],[0.1111111111111111,\"#46039f\"],[0.2222222222222222,\"#7201a8\"],[0.3333333333333333,\"#9c179e\"],[0.4444444444444444,\"#bd3786\"],[0.5555555555555556,\"#d8576b\"],[0.6666666666666666,\"#ed7953\"],[0.7777777777777778,\"#fb9f3a\"],[0.8888888888888888,\"#fdca26\"],[1.0,\"#f0f921\"]]}],\"mesh3d\":[{\"type\":\"mesh3d\",\"colorbar\":{\"outlinewidth\":0,\"ticks\":\"\"}}],\"scatter\":[{\"fillpattern\":{\"fillmode\":\"overlay\",\"size\":10,\"solidity\":0.2},\"type\":\"scatter\"}],\"parcoords\":[{\"type\":\"parcoords\",\"line\":{\"colorbar\":{\"outlinewidth\":0,\"ticks\":\"\"}}}],\"scatterpolargl\":[{\"type\":\"scatterpolargl\",\"marker\":{\"colorbar\":{\"outlinewidth\":0,\"ticks\":\"\"}}}],\"bar\":[{\"error_x\":{\"color\":\"#2a3f5f\"},\"error_y\":{\"color\":\"#2a3f5f\"},\"marker\":{\"line\":{\"color\":\"#E5ECF6\",\"width\":0.5},\"pattern\":{\"fillmode\":\"overlay\",\"size\":10,\"solidity\":0.2}},\"type\":\"bar\"}],\"scattergeo\":[{\"type\":\"scattergeo\",\"marker\":{\"colorbar\":{\"outlinewidth\":0,\"ticks\":\"\"}}}],\"scatterpolar\":[{\"type\":\"scatterpolar\",\"marker\":{\"colorbar\":{\"outlinewidth\":0,\"ticks\":\"\"}}}],\"histogram\":[{\"marker\":{\"pattern\":{\"fillmode\":\"overlay\",\"size\":10,\"solidity\":0.2}},\"type\":\"histogram\"}],\"scattergl\":[{\"type\":\"scattergl\",\"marker\":{\"colorbar\":{\"outlinewidth\":0,\"ticks\":\"\"}}}],\"scatter3d\":[{\"type\":\"scatter3d\",\"line\":{\"colorbar\":{\"outlinewidth\":0,\"ticks\":\"\"}},\"marker\":{\"colorbar\":{\"outlinewidth\":0,\"ticks\":\"\"}}}],\"scattermapbox\":[{\"type\":\"scattermapbox\",\"marker\":{\"colorbar\":{\"outlinewidth\":0,\"ticks\":\"\"}}}],\"scatterternary\":[{\"type\":\"scatterternary\",\"marker\":{\"colorbar\":{\"outlinewidth\":0,\"ticks\":\"\"}}}],\"scattercarpet\":[{\"type\":\"scattercarpet\",\"marker\":{\"colorbar\":{\"outlinewidth\":0,\"ticks\":\"\"}}}],\"carpet\":[{\"aaxis\":{\"endlinecolor\":\"#2a3f5f\",\"gridcolor\":\"white\",\"linecolor\":\"white\",\"minorgridcolor\":\"white\",\"startlinecolor\":\"#2a3f5f\"},\"baxis\":{\"endlinecolor\":\"#2a3f5f\",\"gridcolor\":\"white\",\"linecolor\":\"white\",\"minorgridcolor\":\"white\",\"startlinecolor\":\"#2a3f5f\"},\"type\":\"carpet\"}],\"table\":[{\"cells\":{\"fill\":{\"color\":\"#EBF0F8\"},\"line\":{\"color\":\"white\"}},\"header\":{\"fill\":{\"color\":\"#C8D4E3\"},\"line\":{\"color\":\"white\"}},\"type\":\"table\"}],\"barpolar\":[{\"marker\":{\"line\":{\"color\":\"#E5ECF6\",\"width\":0.5},\"pattern\":{\"fillmode\":\"overlay\",\"size\":10,\"solidity\":0.2}},\"type\":\"barpolar\"}],\"pie\":[{\"automargin\":true,\"type\":\"pie\"}]},\"layout\":{\"autotypenumbers\":\"strict\",\"colorway\":[\"#636efa\",\"#EF553B\",\"#00cc96\",\"#ab63fa\",\"#FFA15A\",\"#19d3f3\",\"#FF6692\",\"#B6E880\",\"#FF97FF\",\"#FECB52\"],\"font\":{\"color\":\"#2a3f5f\"},\"hovermode\":\"closest\",\"hoverlabel\":{\"align\":\"left\"},\"paper_bgcolor\":\"white\",\"plot_bgcolor\":\"#E5ECF6\",\"polar\":{\"bgcolor\":\"#E5ECF6\",\"angularaxis\":{\"gridcolor\":\"white\",\"linecolor\":\"white\",\"ticks\":\"\"},\"radialaxis\":{\"gridcolor\":\"white\",\"linecolor\":\"white\",\"ticks\":\"\"}},\"ternary\":{\"bgcolor\":\"#E5ECF6\",\"aaxis\":{\"gridcolor\":\"white\",\"linecolor\":\"white\",\"ticks\":\"\"},\"baxis\":{\"gridcolor\":\"white\",\"linecolor\":\"white\",\"ticks\":\"\"},\"caxis\":{\"gridcolor\":\"white\",\"linecolor\":\"white\",\"ticks\":\"\"}},\"coloraxis\":{\"colorbar\":{\"outlinewidth\":0,\"ticks\":\"\"}},\"colorscale\":{\"sequential\":[[0.0,\"#0d0887\"],[0.1111111111111111,\"#46039f\"],[0.2222222222222222,\"#7201a8\"],[0.3333333333333333,\"#9c179e\"],[0.4444444444444444,\"#bd3786\"],[0.5555555555555556,\"#d8576b\"],[0.6666666666666666,\"#ed7953\"],[0.7777777777777778,\"#fb9f3a\"],[0.8888888888888888,\"#fdca26\"],[1.0,\"#f0f921\"]],\"sequentialminus\":[[0.0,\"#0d0887\"],[0.1111111111111111,\"#46039f\"],[0.2222222222222222,\"#7201a8\"],[0.3333333333333333,\"#9c179e\"],[0.4444444444444444,\"#bd3786\"],[0.5555555555555556,\"#d8576b\"],[0.6666666666666666,\"#ed7953\"],[0.7777777777777778,\"#fb9f3a\"],[0.8888888888888888,\"#fdca26\"],[1.0,\"#f0f921\"]],\"diverging\":[[0,\"#8e0152\"],[0.1,\"#c51b7d\"],[0.2,\"#de77ae\"],[0.3,\"#f1b6da\"],[0.4,\"#fde0ef\"],[0.5,\"#f7f7f7\"],[0.6,\"#e6f5d0\"],[0.7,\"#b8e186\"],[0.8,\"#7fbc41\"],[0.9,\"#4d9221\"],[1,\"#276419\"]]},\"xaxis\":{\"gridcolor\":\"white\",\"linecolor\":\"white\",\"ticks\":\"\",\"title\":{\"standoff\":15},\"zerolinecolor\":\"white\",\"automargin\":true,\"zerolinewidth\":2},\"yaxis\":{\"gridcolor\":\"white\",\"linecolor\":\"white\",\"ticks\":\"\",\"title\":{\"standoff\":15},\"zerolinecolor\":\"white\",\"automargin\":true,\"zerolinewidth\":2},\"scene\":{\"xaxis\":{\"backgroundcolor\":\"#E5ECF6\",\"gridcolor\":\"white\",\"linecolor\":\"white\",\"showbackground\":true,\"ticks\":\"\",\"zerolinecolor\":\"white\",\"gridwidth\":2},\"yaxis\":{\"backgroundcolor\":\"#E5ECF6\",\"gridcolor\":\"white\",\"linecolor\":\"white\",\"showbackground\":true,\"ticks\":\"\",\"zerolinecolor\":\"white\",\"gridwidth\":2},\"zaxis\":{\"backgroundcolor\":\"#E5ECF6\",\"gridcolor\":\"white\",\"linecolor\":\"white\",\"showbackground\":true,\"ticks\":\"\",\"zerolinecolor\":\"white\",\"gridwidth\":2}},\"shapedefaults\":{\"line\":{\"color\":\"#2a3f5f\"}},\"annotationdefaults\":{\"arrowcolor\":\"#2a3f5f\",\"arrowhead\":0,\"arrowwidth\":1},\"geo\":{\"bgcolor\":\"white\",\"landcolor\":\"#E5ECF6\",\"subunitcolor\":\"white\",\"showland\":true,\"showlakes\":true,\"lakecolor\":\"white\"},\"title\":{\"x\":0.05},\"mapbox\":{\"style\":\"light\"}}}},                        {\"responsive\": true}                    ).then(function(){\n",
              "                            \n",
              "var gd = document.getElementById('bb815fe3-8a5a-43bc-ba31-a0bbac63a0b6');\n",
              "var x = new MutationObserver(function (mutations, observer) {{\n",
              "        var display = window.getComputedStyle(gd).display;\n",
              "        if (!display || display === 'none') {{\n",
              "            console.log([gd, 'removed!']);\n",
              "            Plotly.purge(gd);\n",
              "            observer.disconnect();\n",
              "        }}\n",
              "}});\n",
              "\n",
              "// Listen for the removal of the full notebook cells\n",
              "var notebookContainer = gd.closest('#notebook-container');\n",
              "if (notebookContainer) {{\n",
              "    x.observe(notebookContainer, {childList: true});\n",
              "}}\n",
              "\n",
              "// Listen for the clearing of the current output cell\n",
              "var outputEl = gd.closest('.output');\n",
              "if (outputEl) {{\n",
              "    x.observe(outputEl, {childList: true});\n",
              "}}\n",
              "\n",
              "                        })                };                            </script>        </div>\n",
              "</body>\n",
              "</html>"
            ]
          },
          "metadata": {}
        },
        {
          "output_type": "stream",
          "name": "stderr",
          "text": [
            "[W 2023-06-02 11:13:46,484] Your study has only completed trials with missing parameters.\n",
            "<ipython-input-37-0c79a7da1449>:44: FutureWarning:\n",
            "\n",
            "suggest_loguniform has been deprecated in v3.0.0. This feature will be removed in v6.0.0. See https://github.com/optuna/optuna/releases/tag/v3.0.0. Use suggest_float(..., log=True) instead.\n",
            "\n",
            "<ipython-input-37-0c79a7da1449>:76: FutureWarning:\n",
            "\n",
            "suggest_uniform has been deprecated in v3.0.0. This feature will be removed in v6.0.0. See https://github.com/optuna/optuna/releases/tag/v3.0.0. Use suggest_float instead.\n",
            "\n",
            "<ipython-input-37-0c79a7da1449>:178: FutureWarning:\n",
            "\n",
            "suggest_uniform has been deprecated in v3.0.0. This feature will be removed in v6.0.0. See https://github.com/optuna/optuna/releases/tag/v3.0.0. Use suggest_float instead.\n",
            "\n",
            "<ipython-input-37-0c79a7da1449>:180: FutureWarning:\n",
            "\n",
            "suggest_loguniform has been deprecated in v3.0.0. This feature will be removed in v6.0.0. See https://github.com/optuna/optuna/releases/tag/v3.0.0. Use suggest_float(..., log=True) instead.\n",
            "\n"
          ]
        },
        {
          "output_type": "stream",
          "name": "stdout",
          "text": [
            "Epoch 1/117.. Train loss: 4.845.. Val loss: 4.708.. Train L1 norm: 3.938.. Val L1 norm: 1.520.. Train Linf norm: 143.500.. Val Linf norm: 28.692\n",
            "Epoch 2/117.. Train loss: 4.610.. Val loss: 4.689.. Train L1 norm: 3.982.. Val L1 norm: 1.555.. Train Linf norm: 144.771.. Val Linf norm: 30.812\n",
            "Epoch 3/117.. Train loss: 4.592.. Val loss: 4.801.. Train L1 norm: 4.178.. Val L1 norm: 1.345.. Train Linf norm: 155.154.. Val Linf norm: 20.559\n",
            "Epoch 4/117.. Train loss: 4.624.. Val loss: 4.647.. Train L1 norm: 3.981.. Val L1 norm: 1.622.. Train Linf norm: 142.005.. Val Linf norm: 33.145\n",
            "Epoch 5/117.. Train loss: 4.574.. Val loss: 4.667.. Train L1 norm: 4.079.. Val L1 norm: 1.599.. Train Linf norm: 147.331.. Val Linf norm: 31.842\n",
            "Epoch 6/117.. Train loss: 4.540.. Val loss: 4.557.. Train L1 norm: 4.309.. Val L1 norm: 1.779.. Train Linf norm: 162.698.. Val Linf norm: 39.809\n",
            "Epoch 7/117.. Train loss: 4.495.. Val loss: 4.743.. Train L1 norm: 4.234.. Val L1 norm: 1.614.. Train Linf norm: 160.859.. Val Linf norm: 33.256\n",
            "Epoch 8/117.. Train loss: 4.499.. Val loss: 4.873.. Train L1 norm: 4.195.. Val L1 norm: 1.487.. Train Linf norm: 149.575.. Val Linf norm: 28.028\n",
            "Epoch 9/117.. Train loss: 4.436.. Val loss: 4.489.. Train L1 norm: 4.559.. Val L1 norm: 1.799.. Train Linf norm: 180.983.. Val Linf norm: 42.299\n",
            "Epoch 10/117.. Train loss: 4.465.. Val loss: 4.567.. Train L1 norm: 4.200.. Val L1 norm: 1.783.. Train Linf norm: 158.814.. Val Linf norm: 41.649\n",
            "Epoch 11/117.. Train loss: 4.426.. Val loss: 4.547.. Train L1 norm: 4.100.. Val L1 norm: 1.678.. Train Linf norm: 151.890.. Val Linf norm: 36.714\n",
            "Epoch 12/117.. Train loss: 4.364.. Val loss: 4.582.. Train L1 norm: 4.375.. Val L1 norm: 1.624.. Train Linf norm: 166.942.. Val Linf norm: 34.713\n",
            "Epoch 13/117.. Train loss: 4.443.. Val loss: 4.467.. Train L1 norm: 4.446.. Val L1 norm: 1.724.. Train Linf norm: 174.408.. Val Linf norm: 38.667\n",
            "Epoch 14/117.. Train loss: 4.295.. Val loss: 4.487.. Train L1 norm: 4.179.. Val L1 norm: 1.791.. Train Linf norm: 156.522.. Val Linf norm: 41.596\n",
            "Epoch 15/117.. Train loss: 4.306.. Val loss: 4.374.. Train L1 norm: 3.913.. Val L1 norm: 1.889.. Train Linf norm: 139.767.. Val Linf norm: 46.249\n",
            "Epoch 16/117.. Train loss: 4.256.. Val loss: 4.589.. Train L1 norm: 4.362.. Val L1 norm: 1.524.. Train Linf norm: 167.663.. Val Linf norm: 29.932\n",
            "Epoch 17/117.. Train loss: 4.239.. Val loss: 4.364.. Train L1 norm: 4.260.. Val L1 norm: 1.859.. Train Linf norm: 160.834.. Val Linf norm: 44.685\n",
            "Epoch 18/117.. Train loss: 4.220.. Val loss: 4.373.. Train L1 norm: 4.371.. Val L1 norm: 1.862.. Train Linf norm: 167.566.. Val Linf norm: 45.723\n",
            "Epoch 19/117.. Train loss: 4.246.. Val loss: 4.279.. Train L1 norm: 4.173.. Val L1 norm: 2.001.. Train Linf norm: 154.845.. Val Linf norm: 51.357\n",
            "Epoch 20/117.. Train loss: 4.211.. Val loss: 4.391.. Train L1 norm: 4.505.. Val L1 norm: 1.703.. Train Linf norm: 175.183.. Val Linf norm: 38.421\n",
            "Epoch 21/117.. Train loss: 4.224.. Val loss: 4.438.. Train L1 norm: 4.278.. Val L1 norm: 1.655.. Train Linf norm: 160.607.. Val Linf norm: 36.214\n",
            "Epoch 22/117.. Train loss: 4.113.. Val loss: 4.520.. Train L1 norm: 4.100.. Val L1 norm: 1.493.. Train Linf norm: 149.208.. Val Linf norm: 28.764\n",
            "Epoch 23/117.. Train loss: 4.188.. Val loss: 4.414.. Train L1 norm: 4.343.. Val L1 norm: 1.665.. Train Linf norm: 166.120.. Val Linf norm: 36.281\n",
            "Epoch 24/117.. Train loss: 4.236.. Val loss: 4.464.. Train L1 norm: 4.446.. Val L1 norm: 1.563.. Train Linf norm: 171.526.. Val Linf norm: 32.085\n",
            "Epoch 25/117.. Train loss: 4.079.. Val loss: 4.288.. Train L1 norm: 4.346.. Val L1 norm: 1.738.. Train Linf norm: 167.103.. Val Linf norm: 40.128\n",
            "Epoch 26/117.. Train loss: 4.151.. Val loss: 4.311.. Train L1 norm: 4.211.. Val L1 norm: 1.636.. Train Linf norm: 158.691.. Val Linf norm: 36.558\n",
            "Epoch 27/117.. Train loss: 4.061.. Val loss: 4.333.. Train L1 norm: 4.446.. Val L1 norm: 1.591.. Train Linf norm: 173.350.. Val Linf norm: 34.435\n",
            "Epoch 28/117.. Train loss: 4.031.. Val loss: 4.366.. Train L1 norm: 4.213.. Val L1 norm: 1.570.. Train Linf norm: 160.045.. Val Linf norm: 32.948\n",
            "Epoch 29/117.. Train loss: 4.050.. Val loss: 4.387.. Train L1 norm: 4.467.. Val L1 norm: 1.490.. Train Linf norm: 177.498.. Val Linf norm: 28.926\n",
            "Epoch 30/117.. Train loss: 3.888.. Val loss: 4.318.. Train L1 norm: 4.368.. Val L1 norm: 1.515.. Train Linf norm: 171.025.. Val Linf norm: 31.417\n",
            "Epoch 31/117.. Train loss: 3.906.. Val loss: 4.336.. Train L1 norm: 4.303.. Val L1 norm: 1.534.. Train Linf norm: 167.313.. Val Linf norm: 32.225\n",
            "Epoch 32/117.. Train loss: 3.859.. Val loss: 4.284.. Train L1 norm: 4.254.. Val L1 norm: 1.550.. Train Linf norm: 162.548.. Val Linf norm: 33.114\n",
            "Epoch 33/117.. Train loss: 3.937.. Val loss: 4.330.. Train L1 norm: 4.048.. Val L1 norm: 1.519.. Train Linf norm: 150.410.. Val Linf norm: 31.618\n",
            "Epoch 34/117.. Train loss: 4.027.. Val loss: 4.295.. Train L1 norm: 4.110.. Val L1 norm: 1.514.. Train Linf norm: 155.195.. Val Linf norm: 31.608\n",
            "Epoch 35/117.. Train loss: 3.942.. Val loss: 4.367.. Train L1 norm: 4.261.. Val L1 norm: 1.467.. Train Linf norm: 164.845.. Val Linf norm: 29.115\n",
            "Epoch 36/117.. Train loss: 3.885.. Val loss: 4.285.. Train L1 norm: 4.308.. Val L1 norm: 1.527.. Train Linf norm: 166.723.. Val Linf norm: 32.094\n",
            "Epoch 37/117.. Train loss: 3.827.. Val loss: 4.296.. Train L1 norm: 4.580.. Val L1 norm: 1.510.. Train Linf norm: 184.423.. Val Linf norm: 31.026\n",
            "Epoch 38/117.. Train loss: 3.968.. Val loss: 4.229.. Train L1 norm: 4.312.. Val L1 norm: 1.538.. Train Linf norm: 167.278.. Val Linf norm: 32.781\n",
            "Epoch 39/117.. Train loss: 3.865.. Val loss: 4.254.. Train L1 norm: 4.230.. Val L1 norm: 1.507.. Train Linf norm: 164.345.. Val Linf norm: 31.544\n",
            "Epoch 40/117.. Train loss: 3.872.. Val loss: 4.231.. Train L1 norm: 4.580.. Val L1 norm: 1.542.. Train Linf norm: 186.165.. Val Linf norm: 33.370\n",
            "Epoch 41/117.. Train loss: 3.837.. Val loss: 4.255.. Train L1 norm: 4.171.. Val L1 norm: 1.523.. Train Linf norm: 159.425.. Val Linf norm: 32.166\n",
            "Epoch 42/117.. Train loss: 3.955.. Val loss: 4.202.. Train L1 norm: 4.231.. Val L1 norm: 1.545.. Train Linf norm: 164.806.. Val Linf norm: 33.368\n",
            "Epoch 43/117.. Train loss: 3.789.. Val loss: 4.259.. Train L1 norm: 4.008.. Val L1 norm: 1.484.. Train Linf norm: 151.956.. Val Linf norm: 30.753\n",
            "Epoch 44/117.. Train loss: 3.805.. Val loss: 4.204.. Train L1 norm: 4.405.. Val L1 norm: 1.558.. Train Linf norm: 173.248.. Val Linf norm: 33.721\n",
            "Epoch 45/117.. Train loss: 3.833.. Val loss: 4.226.. Train L1 norm: 4.414.. Val L1 norm: 1.516.. Train Linf norm: 176.066.. Val Linf norm: 32.415\n",
            "Epoch 46/117.. Train loss: 3.791.. Val loss: 4.175.. Train L1 norm: 4.152.. Val L1 norm: 1.517.. Train Linf norm: 160.433.. Val Linf norm: 32.618\n",
            "Epoch 47/117.. Train loss: 3.837.. Val loss: 4.168.. Train L1 norm: 4.056.. Val L1 norm: 1.546.. Train Linf norm: 152.624.. Val Linf norm: 33.821\n",
            "Epoch 48/117.. Train loss: 3.874.. Val loss: 4.207.. Train L1 norm: 4.519.. Val L1 norm: 1.513.. Train Linf norm: 182.897.. Val Linf norm: 32.007\n",
            "Epoch 49/117.. Train loss: 3.838.. Val loss: 4.128.. Train L1 norm: 4.001.. Val L1 norm: 1.554.. Train Linf norm: 145.553.. Val Linf norm: 33.793\n",
            "Epoch 50/117.. Train loss: 3.758.. Val loss: 4.134.. Train L1 norm: 4.246.. Val L1 norm: 1.540.. Train Linf norm: 164.217.. Val Linf norm: 33.287\n",
            "Epoch 51/117.. Train loss: 3.835.. Val loss: 4.232.. Train L1 norm: 4.059.. Val L1 norm: 1.462.. Train Linf norm: 153.050.. Val Linf norm: 29.696\n",
            "Epoch 52/117.. Train loss: 3.797.. Val loss: 4.126.. Train L1 norm: 4.465.. Val L1 norm: 1.534.. Train Linf norm: 180.285.. Val Linf norm: 33.159\n",
            "Epoch 53/117.. Train loss: 3.802.. Val loss: 4.199.. Train L1 norm: 4.007.. Val L1 norm: 1.491.. Train Linf norm: 151.880.. Val Linf norm: 31.172\n",
            "Epoch 54/117.. Train loss: 3.733.. Val loss: 4.090.. Train L1 norm: 4.108.. Val L1 norm: 1.501.. Train Linf norm: 157.422.. Val Linf norm: 32.353\n",
            "Epoch 55/117.. Train loss: 3.732.. Val loss: 4.085.. Train L1 norm: 4.451.. Val L1 norm: 1.550.. Train Linf norm: 180.122.. Val Linf norm: 33.979\n",
            "Epoch 56/117.. Train loss: 3.818.. Val loss: 4.124.. Train L1 norm: 3.925.. Val L1 norm: 1.555.. Train Linf norm: 145.119.. Val Linf norm: 33.989\n",
            "Epoch 57/117.. Train loss: 3.820.. Val loss: 4.177.. Train L1 norm: 3.916.. Val L1 norm: 1.484.. Train Linf norm: 144.556.. Val Linf norm: 30.836\n",
            "Epoch 58/117.. Train loss: 3.740.. Val loss: 4.152.. Train L1 norm: 3.946.. Val L1 norm: 1.488.. Train Linf norm: 148.449.. Val Linf norm: 31.202\n",
            "Epoch 59/117.. Train loss: 3.790.. Val loss: 4.159.. Train L1 norm: 4.271.. Val L1 norm: 1.509.. Train Linf norm: 168.782.. Val Linf norm: 31.930\n",
            "Epoch 60/117.. Train loss: 3.730.. Val loss: 4.215.. Train L1 norm: 4.204.. Val L1 norm: 1.466.. Train Linf norm: 163.702.. Val Linf norm: 29.775\n",
            "Epoch 61/117.. Train loss: 3.729.. Val loss: 4.175.. Train L1 norm: 3.799.. Val L1 norm: 1.469.. Train Linf norm: 140.211.. Val Linf norm: 30.213\n",
            "Epoch 62/117.. Train loss: 3.725.. Val loss: 4.187.. Train L1 norm: 3.829.. Val L1 norm: 1.483.. Train Linf norm: 141.353.. Val Linf norm: 30.761\n",
            "Epoch 63/117.. Train loss: 3.684.. Val loss: 4.209.. Train L1 norm: 4.109.. Val L1 norm: 1.443.. Train Linf norm: 159.524.. Val Linf norm: 28.983\n",
            "Epoch 64/117.. Train loss: 3.656.. Val loss: 4.014.. Train L1 norm: 3.830.. Val L1 norm: 1.551.. Train Linf norm: 143.109.. Val Linf norm: 34.570\n",
            "Epoch 65/117.. Train loss: 3.685.. Val loss: 4.178.. Train L1 norm: 3.971.. Val L1 norm: 1.470.. Train Linf norm: 150.996.. Val Linf norm: 30.425\n",
            "Epoch 66/117.. Train loss: 3.633.. Val loss: 4.031.. Train L1 norm: 3.959.. Val L1 norm: 1.515.. Train Linf norm: 149.449.. Val Linf norm: 33.068\n",
            "Epoch 67/117.. Train loss: 3.685.. Val loss: 4.053.. Train L1 norm: 4.245.. Val L1 norm: 1.510.. Train Linf norm: 168.555.. Val Linf norm: 32.962\n",
            "Epoch 68/117.. Train loss: 3.669.. Val loss: 4.126.. Train L1 norm: 4.079.. Val L1 norm: 1.477.. Train Linf norm: 158.422.. Val Linf norm: 31.048\n",
            "Epoch 69/117.. Train loss: 3.693.. Val loss: 4.163.. Train L1 norm: 4.141.. Val L1 norm: 1.464.. Train Linf norm: 162.967.. Val Linf norm: 30.313\n",
            "Epoch 70/117.. Train loss: 3.658.. Val loss: 4.268.. Train L1 norm: 4.136.. Val L1 norm: 1.442.. Train Linf norm: 161.495.. Val Linf norm: 28.609\n",
            "Epoch 71/117.. Train loss: 3.693.. Val loss: 4.084.. Train L1 norm: 3.831.. Val L1 norm: 1.489.. Train Linf norm: 141.393.. Val Linf norm: 31.551\n",
            "Epoch 72/117.. Train loss: 3.677.. Val loss: 4.039.. Train L1 norm: 3.984.. Val L1 norm: 1.499.. Train Linf norm: 152.699.. Val Linf norm: 32.426\n",
            "Epoch 73/117.. Train loss: 3.638.. Val loss: 4.105.. Train L1 norm: 4.188.. Val L1 norm: 1.454.. Train Linf norm: 165.183.. Val Linf norm: 29.946\n",
            "Epoch 74/117.. Train loss: 3.642.. Val loss: 4.174.. Train L1 norm: 4.255.. Val L1 norm: 1.452.. Train Linf norm: 169.733.. Val Linf norm: 29.551\n",
            "Epoch 75/117.. Train loss: 3.636.. Val loss: 4.104.. Train L1 norm: 4.428.. Val L1 norm: 1.461.. Train Linf norm: 180.345.. Val Linf norm: 30.388\n",
            "Epoch 76/117.. Train loss: 3.606.. Val loss: 4.133.. Train L1 norm: 4.018.. Val L1 norm: 1.462.. Train Linf norm: 154.982.. Val Linf norm: 30.297\n",
            "Epoch 77/117.. Train loss: 3.590.. Val loss: 4.122.. Train L1 norm: 4.226.. Val L1 norm: 1.457.. Train Linf norm: 167.664.. Val Linf norm: 30.142\n",
            "Epoch 78/117.. Train loss: 3.586.. Val loss: 4.072.. Train L1 norm: 3.993.. Val L1 norm: 1.465.. Train Linf norm: 153.965.. Val Linf norm: 30.856\n",
            "Epoch 79/117.. Train loss: 3.611.. Val loss: 4.074.. Train L1 norm: 3.880.. Val L1 norm: 1.478.. Train Linf norm: 145.453.. Val Linf norm: 31.473\n",
            "Epoch 80/117.. Train loss: 3.588.. Val loss: 4.043.. Train L1 norm: 3.871.. Val L1 norm: 1.497.. Train Linf norm: 144.333.. Val Linf norm: 32.341\n",
            "Epoch 81/117.. Train loss: 3.608.. Val loss: 4.108.. Train L1 norm: 3.964.. Val L1 norm: 1.461.. Train Linf norm: 147.965.. Val Linf norm: 30.624\n",
            "Epoch 82/117.. Train loss: 3.633.. Val loss: 4.111.. Train L1 norm: 3.808.. Val L1 norm: 1.471.. Train Linf norm: 140.390.. Val Linf norm: 30.965\n",
            "Epoch 83/117.. Train loss: 3.602.. Val loss: 4.083.. Train L1 norm: 3.902.. Val L1 norm: 1.464.. Train Linf norm: 146.770.. Val Linf norm: 30.868\n",
            "Epoch 84/117.. Train loss: 3.617.. Val loss: 4.057.. Train L1 norm: 3.865.. Val L1 norm: 1.475.. Train Linf norm: 143.847.. Val Linf norm: 31.395\n",
            "Epoch 85/117.. Train loss: 3.649.. Val loss: 4.036.. Train L1 norm: 4.318.. Val L1 norm: 1.486.. Train Linf norm: 173.966.. Val Linf norm: 31.893\n",
            "Epoch 86/117.. Train loss: 3.594.. Val loss: 4.035.. Train L1 norm: 4.130.. Val L1 norm: 1.486.. Train Linf norm: 163.300.. Val Linf norm: 31.954\n",
            "Epoch 87/117.. Train loss: 3.519.. Val loss: 4.039.. Train L1 norm: 3.750.. Val L1 norm: 1.481.. Train Linf norm: 137.898.. Val Linf norm: 31.701\n",
            "Epoch 88/117.. Train loss: 3.630.. Val loss: 4.046.. Train L1 norm: 3.913.. Val L1 norm: 1.482.. Train Linf norm: 147.566.. Val Linf norm: 31.692\n",
            "Epoch 89/117.. Train loss: 3.636.. Val loss: 4.028.. Train L1 norm: 4.069.. Val L1 norm: 1.494.. Train Linf norm: 159.049.. Val Linf norm: 32.228\n",
            "Epoch 90/117.. Train loss: 3.541.. Val loss: 4.041.. Train L1 norm: 4.087.. Val L1 norm: 1.481.. Train Linf norm: 159.769.. Val Linf norm: 31.674\n",
            "Epoch 91/117.. Train loss: 3.632.. Val loss: 4.065.. Train L1 norm: 4.118.. Val L1 norm: 1.478.. Train Linf norm: 160.254.. Val Linf norm: 31.429\n",
            "Epoch 92/117.. Train loss: 3.644.. Val loss: 4.072.. Train L1 norm: 3.434.. Val L1 norm: 1.477.. Train Linf norm: 118.628.. Val Linf norm: 31.385\n",
            "Epoch 93/117.. Train loss: 3.634.. Val loss: 4.016.. Train L1 norm: 4.004.. Val L1 norm: 1.496.. Train Linf norm: 152.593.. Val Linf norm: 32.493\n",
            "Epoch 94/117.. Train loss: 3.625.. Val loss: 4.056.. Train L1 norm: 3.865.. Val L1 norm: 1.478.. Train Linf norm: 144.099.. Val Linf norm: 31.508\n",
            "Epoch 95/117.. Train loss: 3.596.. Val loss: 4.034.. Train L1 norm: 4.389.. Val L1 norm: 1.486.. Train Linf norm: 178.530.. Val Linf norm: 31.988\n",
            "Epoch 96/117.. Train loss: 3.657.. Val loss: 4.045.. Train L1 norm: 4.041.. Val L1 norm: 1.482.. Train Linf norm: 156.396.. Val Linf norm: 31.767\n",
            "Epoch 97/117.. Train loss: 3.601.. Val loss: 4.040.. Train L1 norm: 4.099.. Val L1 norm: 1.482.. Train Linf norm: 161.387.. Val Linf norm: 31.784\n",
            "Epoch 98/117.. Train loss: 3.664.. Val loss: 4.042.. Train L1 norm: 3.963.. Val L1 norm: 1.484.. Train Linf norm: 152.155.. Val Linf norm: 31.837\n",
            "Epoch 99/117.. Train loss: 3.565.. Val loss: 4.039.. Train L1 norm: 4.187.. Val L1 norm: 1.482.. Train Linf norm: 167.393.. Val Linf norm: 31.801\n",
            "Epoch 100/117.. Train loss: 3.568.. Val loss: 4.035.. Train L1 norm: 4.299.. Val L1 norm: 1.484.. Train Linf norm: 172.499.. Val Linf norm: 31.887\n",
            "Epoch 101/117.. Train loss: 3.589.. Val loss: 4.023.. Train L1 norm: 4.013.. Val L1 norm: 1.489.. Train Linf norm: 154.348.. Val Linf norm: 32.135\n",
            "Epoch 102/117.. Train loss: 3.590.. Val loss: 4.027.. Train L1 norm: 3.895.. Val L1 norm: 1.487.. Train Linf norm: 146.136.. Val Linf norm: 32.036\n",
            "Epoch 103/117.. Train loss: 3.619.. Val loss: 4.026.. Train L1 norm: 3.730.. Val L1 norm: 1.492.. Train Linf norm: 135.895.. Val Linf norm: 32.190\n",
            "Epoch 104/117.. Train loss: 3.665.. Val loss: 4.028.. Train L1 norm: 3.913.. Val L1 norm: 1.490.. Train Linf norm: 146.936.. Val Linf norm: 32.110\n",
            "Epoch 105/117.. Train loss: 3.587.. Val loss: 4.030.. Train L1 norm: 4.119.. Val L1 norm: 1.489.. Train Linf norm: 159.332.. Val Linf norm: 32.056\n",
            "Epoch 106/117.. Train loss: 3.540.. Val loss: 4.032.. Train L1 norm: 4.387.. Val L1 norm: 1.488.. Train Linf norm: 177.085.. Val Linf norm: 32.014\n",
            "Epoch 107/117.. Train loss: 3.589.. Val loss: 4.030.. Train L1 norm: 4.072.. Val L1 norm: 1.488.. Train Linf norm: 159.667.. Val Linf norm: 32.040\n",
            "Epoch 108/117.. Train loss: 3.567.. Val loss: 4.029.. Train L1 norm: 4.195.. Val L1 norm: 1.488.. Train Linf norm: 166.620.. Val Linf norm: 32.028\n",
            "Epoch 109/117.. Train loss: 3.593.. Val loss: 4.031.. Train L1 norm: 4.151.. Val L1 norm: 1.486.. Train Linf norm: 163.267.. Val Linf norm: 31.970\n",
            "Epoch 110/117.. Train loss: 3.636.. Val loss: 4.029.. Train L1 norm: 4.275.. Val L1 norm: 1.487.. Train Linf norm: 171.914.. Val Linf norm: 32.008\n",
            "Epoch 111/117.. Train loss: 3.633.. Val loss: 4.035.. Train L1 norm: 3.692.. Val L1 norm: 1.485.. Train Linf norm: 131.064.. Val Linf norm: 31.889\n",
            "Epoch 112/117.. Train loss: 3.574.. Val loss: 4.031.. Train L1 norm: 3.997.. Val L1 norm: 1.486.. Train Linf norm: 154.314.. Val Linf norm: 31.949\n",
            "Epoch 113/117.. Train loss: 3.634.. Val loss: 4.034.. Train L1 norm: 4.125.. Val L1 norm: 1.485.. Train Linf norm: 160.732.. Val Linf norm: 31.905\n",
            "Epoch 114/117.. Train loss: 3.567.. Val loss: 4.036.. Train L1 norm: 4.226.. Val L1 norm: 1.484.. Train Linf norm: 167.590.. Val Linf norm: 31.860\n",
            "Epoch 115/117.. Train loss: 3.603.. Val loss: 4.035.. Train L1 norm: 4.079.. Val L1 norm: 1.485.. Train Linf norm: 158.807.. Val Linf norm: 31.886\n",
            "Epoch 116/117.. Train loss: 3.596.. Val loss: 4.035.. Train L1 norm: 3.789.. Val L1 norm: 1.484.. Train Linf norm: 139.264.. Val Linf norm: 31.879\n"
          ]
        },
        {
          "output_type": "stream",
          "name": "stderr",
          "text": [
            "[I 2023-06-02 11:33:28,773] Trial 16 finished with value: 1.4832775833129883 and parameters: {'n_layers': 6, 'n_units_0': 1101, 'n_units_1': 1035, 'n_units_2': 2331, 'n_units_3': 2493, 'n_units_4': 2560, 'n_units_5': 2485, 'hidden_activation': 'ReLU', 'output_activation': 'Linear', 'loss': 'MAE', 'optimizer': 'RMSprop', 'lr': 4.8872562751271976e-05, 'batch_size': 64, 'n_epochs': 117, 'scheduler': 'ReduceLROnPlateau', 'dropout_rate': 0.48980643813012714, 'factor': 0.2759021387600782, 'patience': 9, 'threshold': 0.0001102931032818699}. Best is trial 15 with value: 1.3452199674288432.\n"
          ]
        },
        {
          "output_type": "stream",
          "name": "stdout",
          "text": [
            "Epoch 117/117.. Train loss: 3.575.. Val loss: 4.037.. Train L1 norm: 3.886.. Val L1 norm: 1.483.. Train Linf norm: 147.869.. Val Linf norm: 31.823\n"
          ]
        },
        {
          "output_type": "display_data",
          "data": {
            "text/html": [
              "<html>\n",
              "<head><meta charset=\"utf-8\" /></head>\n",
              "<body>\n",
              "    <div>            <script src=\"https://cdnjs.cloudflare.com/ajax/libs/mathjax/2.7.5/MathJax.js?config=TeX-AMS-MML_SVG\"></script><script type=\"text/javascript\">if (window.MathJax && window.MathJax.Hub && window.MathJax.Hub.Config) {window.MathJax.Hub.Config({SVG: {font: \"STIX-Web\"}});}</script>                <script type=\"text/javascript\">window.PlotlyConfig = {MathJaxConfig: 'local'};</script>\n",
              "        <script src=\"https://cdn.plot.ly/plotly-2.18.2.min.js\"></script>                <div id=\"e7922e1e-e642-4a5e-8b0f-cb32bb683cb9\" class=\"plotly-graph-div\" style=\"height:525px; width:100%;\"></div>            <script type=\"text/javascript\">                                    window.PLOTLYENV=window.PLOTLYENV || {};                                    if (document.getElementById(\"e7922e1e-e642-4a5e-8b0f-cb32bb683cb9\")) {                    Plotly.newPlot(                        \"e7922e1e-e642-4a5e-8b0f-cb32bb683cb9\",                        [{\"mode\":\"markers\",\"name\":\"Objective Value\",\"x\":[0,1,2,3,4,7,9,14,15,16],\"y\":[361840040821304.0,4.148916990661621,3.616880493545532,2.6828094604492185,3.90576324412028,1.858821445719401,3.7637235135396323,3.3926135823567707,1.3452199674288432,1.4832775833129883],\"type\":\"scatter\"},{\"name\":\"Best Value\",\"x\":[0,1,2,3,4,7,9,14,15,16],\"y\":[361840040821304.0,4.148916990661621,3.616880493545532,2.6828094604492185,2.6828094604492185,1.858821445719401,1.858821445719401,1.858821445719401,1.3452199674288432,1.3452199674288432],\"type\":\"scatter\"}],                        {\"title\":{\"text\":\"Optimization History Plot\"},\"xaxis\":{\"title\":{\"text\":\"Trial\"}},\"yaxis\":{\"title\":{\"text\":\"Objective Value\"}},\"template\":{\"data\":{\"histogram2dcontour\":[{\"type\":\"histogram2dcontour\",\"colorbar\":{\"outlinewidth\":0,\"ticks\":\"\"},\"colorscale\":[[0.0,\"#0d0887\"],[0.1111111111111111,\"#46039f\"],[0.2222222222222222,\"#7201a8\"],[0.3333333333333333,\"#9c179e\"],[0.4444444444444444,\"#bd3786\"],[0.5555555555555556,\"#d8576b\"],[0.6666666666666666,\"#ed7953\"],[0.7777777777777778,\"#fb9f3a\"],[0.8888888888888888,\"#fdca26\"],[1.0,\"#f0f921\"]]}],\"choropleth\":[{\"type\":\"choropleth\",\"colorbar\":{\"outlinewidth\":0,\"ticks\":\"\"}}],\"histogram2d\":[{\"type\":\"histogram2d\",\"colorbar\":{\"outlinewidth\":0,\"ticks\":\"\"},\"colorscale\":[[0.0,\"#0d0887\"],[0.1111111111111111,\"#46039f\"],[0.2222222222222222,\"#7201a8\"],[0.3333333333333333,\"#9c179e\"],[0.4444444444444444,\"#bd3786\"],[0.5555555555555556,\"#d8576b\"],[0.6666666666666666,\"#ed7953\"],[0.7777777777777778,\"#fb9f3a\"],[0.8888888888888888,\"#fdca26\"],[1.0,\"#f0f921\"]]}],\"heatmap\":[{\"type\":\"heatmap\",\"colorbar\":{\"outlinewidth\":0,\"ticks\":\"\"},\"colorscale\":[[0.0,\"#0d0887\"],[0.1111111111111111,\"#46039f\"],[0.2222222222222222,\"#7201a8\"],[0.3333333333333333,\"#9c179e\"],[0.4444444444444444,\"#bd3786\"],[0.5555555555555556,\"#d8576b\"],[0.6666666666666666,\"#ed7953\"],[0.7777777777777778,\"#fb9f3a\"],[0.8888888888888888,\"#fdca26\"],[1.0,\"#f0f921\"]]}],\"heatmapgl\":[{\"type\":\"heatmapgl\",\"colorbar\":{\"outlinewidth\":0,\"ticks\":\"\"},\"colorscale\":[[0.0,\"#0d0887\"],[0.1111111111111111,\"#46039f\"],[0.2222222222222222,\"#7201a8\"],[0.3333333333333333,\"#9c179e\"],[0.4444444444444444,\"#bd3786\"],[0.5555555555555556,\"#d8576b\"],[0.6666666666666666,\"#ed7953\"],[0.7777777777777778,\"#fb9f3a\"],[0.8888888888888888,\"#fdca26\"],[1.0,\"#f0f921\"]]}],\"contourcarpet\":[{\"type\":\"contourcarpet\",\"colorbar\":{\"outlinewidth\":0,\"ticks\":\"\"}}],\"contour\":[{\"type\":\"contour\",\"colorbar\":{\"outlinewidth\":0,\"ticks\":\"\"},\"colorscale\":[[0.0,\"#0d0887\"],[0.1111111111111111,\"#46039f\"],[0.2222222222222222,\"#7201a8\"],[0.3333333333333333,\"#9c179e\"],[0.4444444444444444,\"#bd3786\"],[0.5555555555555556,\"#d8576b\"],[0.6666666666666666,\"#ed7953\"],[0.7777777777777778,\"#fb9f3a\"],[0.8888888888888888,\"#fdca26\"],[1.0,\"#f0f921\"]]}],\"surface\":[{\"type\":\"surface\",\"colorbar\":{\"outlinewidth\":0,\"ticks\":\"\"},\"colorscale\":[[0.0,\"#0d0887\"],[0.1111111111111111,\"#46039f\"],[0.2222222222222222,\"#7201a8\"],[0.3333333333333333,\"#9c179e\"],[0.4444444444444444,\"#bd3786\"],[0.5555555555555556,\"#d8576b\"],[0.6666666666666666,\"#ed7953\"],[0.7777777777777778,\"#fb9f3a\"],[0.8888888888888888,\"#fdca26\"],[1.0,\"#f0f921\"]]}],\"mesh3d\":[{\"type\":\"mesh3d\",\"colorbar\":{\"outlinewidth\":0,\"ticks\":\"\"}}],\"scatter\":[{\"fillpattern\":{\"fillmode\":\"overlay\",\"size\":10,\"solidity\":0.2},\"type\":\"scatter\"}],\"parcoords\":[{\"type\":\"parcoords\",\"line\":{\"colorbar\":{\"outlinewidth\":0,\"ticks\":\"\"}}}],\"scatterpolargl\":[{\"type\":\"scatterpolargl\",\"marker\":{\"colorbar\":{\"outlinewidth\":0,\"ticks\":\"\"}}}],\"bar\":[{\"error_x\":{\"color\":\"#2a3f5f\"},\"error_y\":{\"color\":\"#2a3f5f\"},\"marker\":{\"line\":{\"color\":\"#E5ECF6\",\"width\":0.5},\"pattern\":{\"fillmode\":\"overlay\",\"size\":10,\"solidity\":0.2}},\"type\":\"bar\"}],\"scattergeo\":[{\"type\":\"scattergeo\",\"marker\":{\"colorbar\":{\"outlinewidth\":0,\"ticks\":\"\"}}}],\"scatterpolar\":[{\"type\":\"scatterpolar\",\"marker\":{\"colorbar\":{\"outlinewidth\":0,\"ticks\":\"\"}}}],\"histogram\":[{\"marker\":{\"pattern\":{\"fillmode\":\"overlay\",\"size\":10,\"solidity\":0.2}},\"type\":\"histogram\"}],\"scattergl\":[{\"type\":\"scattergl\",\"marker\":{\"colorbar\":{\"outlinewidth\":0,\"ticks\":\"\"}}}],\"scatter3d\":[{\"type\":\"scatter3d\",\"line\":{\"colorbar\":{\"outlinewidth\":0,\"ticks\":\"\"}},\"marker\":{\"colorbar\":{\"outlinewidth\":0,\"ticks\":\"\"}}}],\"scattermapbox\":[{\"type\":\"scattermapbox\",\"marker\":{\"colorbar\":{\"outlinewidth\":0,\"ticks\":\"\"}}}],\"scatterternary\":[{\"type\":\"scatterternary\",\"marker\":{\"colorbar\":{\"outlinewidth\":0,\"ticks\":\"\"}}}],\"scattercarpet\":[{\"type\":\"scattercarpet\",\"marker\":{\"colorbar\":{\"outlinewidth\":0,\"ticks\":\"\"}}}],\"carpet\":[{\"aaxis\":{\"endlinecolor\":\"#2a3f5f\",\"gridcolor\":\"white\",\"linecolor\":\"white\",\"minorgridcolor\":\"white\",\"startlinecolor\":\"#2a3f5f\"},\"baxis\":{\"endlinecolor\":\"#2a3f5f\",\"gridcolor\":\"white\",\"linecolor\":\"white\",\"minorgridcolor\":\"white\",\"startlinecolor\":\"#2a3f5f\"},\"type\":\"carpet\"}],\"table\":[{\"cells\":{\"fill\":{\"color\":\"#EBF0F8\"},\"line\":{\"color\":\"white\"}},\"header\":{\"fill\":{\"color\":\"#C8D4E3\"},\"line\":{\"color\":\"white\"}},\"type\":\"table\"}],\"barpolar\":[{\"marker\":{\"line\":{\"color\":\"#E5ECF6\",\"width\":0.5},\"pattern\":{\"fillmode\":\"overlay\",\"size\":10,\"solidity\":0.2}},\"type\":\"barpolar\"}],\"pie\":[{\"automargin\":true,\"type\":\"pie\"}]},\"layout\":{\"autotypenumbers\":\"strict\",\"colorway\":[\"#636efa\",\"#EF553B\",\"#00cc96\",\"#ab63fa\",\"#FFA15A\",\"#19d3f3\",\"#FF6692\",\"#B6E880\",\"#FF97FF\",\"#FECB52\"],\"font\":{\"color\":\"#2a3f5f\"},\"hovermode\":\"closest\",\"hoverlabel\":{\"align\":\"left\"},\"paper_bgcolor\":\"white\",\"plot_bgcolor\":\"#E5ECF6\",\"polar\":{\"bgcolor\":\"#E5ECF6\",\"angularaxis\":{\"gridcolor\":\"white\",\"linecolor\":\"white\",\"ticks\":\"\"},\"radialaxis\":{\"gridcolor\":\"white\",\"linecolor\":\"white\",\"ticks\":\"\"}},\"ternary\":{\"bgcolor\":\"#E5ECF6\",\"aaxis\":{\"gridcolor\":\"white\",\"linecolor\":\"white\",\"ticks\":\"\"},\"baxis\":{\"gridcolor\":\"white\",\"linecolor\":\"white\",\"ticks\":\"\"},\"caxis\":{\"gridcolor\":\"white\",\"linecolor\":\"white\",\"ticks\":\"\"}},\"coloraxis\":{\"colorbar\":{\"outlinewidth\":0,\"ticks\":\"\"}},\"colorscale\":{\"sequential\":[[0.0,\"#0d0887\"],[0.1111111111111111,\"#46039f\"],[0.2222222222222222,\"#7201a8\"],[0.3333333333333333,\"#9c179e\"],[0.4444444444444444,\"#bd3786\"],[0.5555555555555556,\"#d8576b\"],[0.6666666666666666,\"#ed7953\"],[0.7777777777777778,\"#fb9f3a\"],[0.8888888888888888,\"#fdca26\"],[1.0,\"#f0f921\"]],\"sequentialminus\":[[0.0,\"#0d0887\"],[0.1111111111111111,\"#46039f\"],[0.2222222222222222,\"#7201a8\"],[0.3333333333333333,\"#9c179e\"],[0.4444444444444444,\"#bd3786\"],[0.5555555555555556,\"#d8576b\"],[0.6666666666666666,\"#ed7953\"],[0.7777777777777778,\"#fb9f3a\"],[0.8888888888888888,\"#fdca26\"],[1.0,\"#f0f921\"]],\"diverging\":[[0,\"#8e0152\"],[0.1,\"#c51b7d\"],[0.2,\"#de77ae\"],[0.3,\"#f1b6da\"],[0.4,\"#fde0ef\"],[0.5,\"#f7f7f7\"],[0.6,\"#e6f5d0\"],[0.7,\"#b8e186\"],[0.8,\"#7fbc41\"],[0.9,\"#4d9221\"],[1,\"#276419\"]]},\"xaxis\":{\"gridcolor\":\"white\",\"linecolor\":\"white\",\"ticks\":\"\",\"title\":{\"standoff\":15},\"zerolinecolor\":\"white\",\"automargin\":true,\"zerolinewidth\":2},\"yaxis\":{\"gridcolor\":\"white\",\"linecolor\":\"white\",\"ticks\":\"\",\"title\":{\"standoff\":15},\"zerolinecolor\":\"white\",\"automargin\":true,\"zerolinewidth\":2},\"scene\":{\"xaxis\":{\"backgroundcolor\":\"#E5ECF6\",\"gridcolor\":\"white\",\"linecolor\":\"white\",\"showbackground\":true,\"ticks\":\"\",\"zerolinecolor\":\"white\",\"gridwidth\":2},\"yaxis\":{\"backgroundcolor\":\"#E5ECF6\",\"gridcolor\":\"white\",\"linecolor\":\"white\",\"showbackground\":true,\"ticks\":\"\",\"zerolinecolor\":\"white\",\"gridwidth\":2},\"zaxis\":{\"backgroundcolor\":\"#E5ECF6\",\"gridcolor\":\"white\",\"linecolor\":\"white\",\"showbackground\":true,\"ticks\":\"\",\"zerolinecolor\":\"white\",\"gridwidth\":2}},\"shapedefaults\":{\"line\":{\"color\":\"#2a3f5f\"}},\"annotationdefaults\":{\"arrowcolor\":\"#2a3f5f\",\"arrowhead\":0,\"arrowwidth\":1},\"geo\":{\"bgcolor\":\"white\",\"landcolor\":\"#E5ECF6\",\"subunitcolor\":\"white\",\"showland\":true,\"showlakes\":true,\"lakecolor\":\"white\"},\"title\":{\"x\":0.05},\"mapbox\":{\"style\":\"light\"}}}},                        {\"responsive\": true}                    ).then(function(){\n",
              "                            \n",
              "var gd = document.getElementById('e7922e1e-e642-4a5e-8b0f-cb32bb683cb9');\n",
              "var x = new MutationObserver(function (mutations, observer) {{\n",
              "        var display = window.getComputedStyle(gd).display;\n",
              "        if (!display || display === 'none') {{\n",
              "            console.log([gd, 'removed!']);\n",
              "            Plotly.purge(gd);\n",
              "            observer.disconnect();\n",
              "        }}\n",
              "}});\n",
              "\n",
              "// Listen for the removal of the full notebook cells\n",
              "var notebookContainer = gd.closest('#notebook-container');\n",
              "if (notebookContainer) {{\n",
              "    x.observe(notebookContainer, {childList: true});\n",
              "}}\n",
              "\n",
              "// Listen for the clearing of the current output cell\n",
              "var outputEl = gd.closest('.output');\n",
              "if (outputEl) {{\n",
              "    x.observe(outputEl, {childList: true});\n",
              "}}\n",
              "\n",
              "                        })                };                            </script>        </div>\n",
              "</body>\n",
              "</html>"
            ]
          },
          "metadata": {}
        },
        {
          "output_type": "stream",
          "name": "stderr",
          "text": [
            "[W 2023-06-02 11:33:29,271] Your study has only completed trials with missing parameters.\n",
            "<ipython-input-37-0c79a7da1449>:44: FutureWarning:\n",
            "\n",
            "suggest_loguniform has been deprecated in v3.0.0. This feature will be removed in v6.0.0. See https://github.com/optuna/optuna/releases/tag/v3.0.0. Use suggest_float(..., log=True) instead.\n",
            "\n",
            "<ipython-input-37-0c79a7da1449>:76: FutureWarning:\n",
            "\n",
            "suggest_uniform has been deprecated in v3.0.0. This feature will be removed in v6.0.0. See https://github.com/optuna/optuna/releases/tag/v3.0.0. Use suggest_float instead.\n",
            "\n",
            "<ipython-input-37-0c79a7da1449>:178: FutureWarning:\n",
            "\n",
            "suggest_uniform has been deprecated in v3.0.0. This feature will be removed in v6.0.0. See https://github.com/optuna/optuna/releases/tag/v3.0.0. Use suggest_float instead.\n",
            "\n",
            "<ipython-input-37-0c79a7da1449>:180: FutureWarning:\n",
            "\n",
            "suggest_loguniform has been deprecated in v3.0.0. This feature will be removed in v6.0.0. See https://github.com/optuna/optuna/releases/tag/v3.0.0. Use suggest_float(..., log=True) instead.\n",
            "\n"
          ]
        },
        {
          "output_type": "stream",
          "name": "stdout",
          "text": [
            "Epoch 1/118.. Train loss: 908.655.. Val loss: 133.681.. Train L1 norm: 2.609.. Val L1 norm: 1.156.. Train Linf norm: 82.613.. Val Linf norm: 10.682\n",
            "Epoch 2/118.. Train loss: 516.552.. Val loss: 88.513.. Train L1 norm: 2.040.. Val L1 norm: 1.066.. Train Linf norm: 56.804.. Val Linf norm: 5.737\n",
            "Epoch 3/118.. Train loss: 203.253.. Val loss: 79.597.. Train L1 norm: 1.549.. Val L1 norm: 1.027.. Train Linf norm: 32.564.. Val Linf norm: 3.234\n",
            "Epoch 4/118.. Train loss: 168.609.. Val loss: 79.661.. Train L1 norm: 1.421.. Val L1 norm: 1.008.. Train Linf norm: 26.050.. Val Linf norm: 1.862\n",
            "Epoch 5/118.. Train loss: 116.743.. Val loss: 80.913.. Train L1 norm: 1.364.. Val L1 norm: 1.007.. Train Linf norm: 21.915.. Val Linf norm: 1.679\n",
            "Epoch 6/118.. Train loss: 175.661.. Val loss: 82.628.. Train L1 norm: 1.407.. Val L1 norm: 1.009.. Train Linf norm: 25.129.. Val Linf norm: 1.703\n",
            "Epoch 7/118.. Train loss: 188.915.. Val loss: 85.022.. Train L1 norm: 1.341.. Val L1 norm: 1.014.. Train Linf norm: 20.798.. Val Linf norm: 1.919\n",
            "Epoch 8/118.. Train loss: 111.953.. Val loss: 86.068.. Train L1 norm: 1.309.. Val L1 norm: 1.017.. Train Linf norm: 18.822.. Val Linf norm: 2.029\n",
            "Epoch 9/118.. Train loss: 127.867.. Val loss: 84.809.. Train L1 norm: 1.300.. Val L1 norm: 1.014.. Train Linf norm: 18.269.. Val Linf norm: 1.969\n",
            "Epoch 10/118.. Train loss: 132.733.. Val loss: 84.283.. Train L1 norm: 1.374.. Val L1 norm: 1.013.. Train Linf norm: 23.237.. Val Linf norm: 1.984\n",
            "Epoch 11/118.. Train loss: 99.492.. Val loss: 84.633.. Train L1 norm: 1.357.. Val L1 norm: 1.014.. Train Linf norm: 22.025.. Val Linf norm: 2.040\n",
            "Epoch 12/118.. Train loss: 89.608.. Val loss: 83.758.. Train L1 norm: 1.341.. Val L1 norm: 1.014.. Train Linf norm: 21.165.. Val Linf norm: 2.090\n",
            "Epoch 13/118.. Train loss: 164.415.. Val loss: 84.864.. Train L1 norm: 1.353.. Val L1 norm: 1.016.. Train Linf norm: 21.712.. Val Linf norm: 2.138\n",
            "Epoch 14/118.. Train loss: 272.399.. Val loss: 85.919.. Train L1 norm: 1.342.. Val L1 norm: 1.017.. Train Linf norm: 20.807.. Val Linf norm: 2.184\n",
            "Epoch 15/118.. Train loss: 131.086.. Val loss: 86.253.. Train L1 norm: 1.325.. Val L1 norm: 1.018.. Train Linf norm: 19.632.. Val Linf norm: 2.209\n",
            "Epoch 16/118.. Train loss: 143.515.. Val loss: 86.631.. Train L1 norm: 1.295.. Val L1 norm: 1.018.. Train Linf norm: 17.714.. Val Linf norm: 2.234\n",
            "Epoch 17/118.. Train loss: 102.734.. Val loss: 86.648.. Train L1 norm: 1.305.. Val L1 norm: 1.018.. Train Linf norm: 18.350.. Val Linf norm: 2.244\n",
            "Epoch 18/118.. Train loss: 135.828.. Val loss: 86.364.. Train L1 norm: 1.367.. Val L1 norm: 1.018.. Train Linf norm: 21.778.. Val Linf norm: 2.246\n",
            "Epoch 19/118.. Train loss: 113.927.. Val loss: 86.640.. Train L1 norm: 1.396.. Val L1 norm: 1.018.. Train Linf norm: 24.683.. Val Linf norm: 2.265\n",
            "Epoch 20/118.. Train loss: 180.553.. Val loss: 86.408.. Train L1 norm: 1.369.. Val L1 norm: 1.018.. Train Linf norm: 22.759.. Val Linf norm: 2.269\n",
            "Epoch 21/118.. Train loss: 151.068.. Val loss: 86.753.. Train L1 norm: 1.415.. Val L1 norm: 1.019.. Train Linf norm: 25.448.. Val Linf norm: 2.288\n",
            "Epoch 22/118.. Train loss: 108.276.. Val loss: 87.074.. Train L1 norm: 1.358.. Val L1 norm: 1.019.. Train Linf norm: 21.781.. Val Linf norm: 2.309\n",
            "Epoch 23/118.. Train loss: 134.819.. Val loss: 87.086.. Train L1 norm: 1.316.. Val L1 norm: 1.019.. Train Linf norm: 19.183.. Val Linf norm: 2.323\n",
            "Epoch 24/118.. Train loss: 85.582.. Val loss: 86.891.. Train L1 norm: 1.377.. Val L1 norm: 1.019.. Train Linf norm: 23.200.. Val Linf norm: 2.321\n",
            "Epoch 25/118.. Train loss: 141.740.. Val loss: 86.711.. Train L1 norm: 1.323.. Val L1 norm: 1.019.. Train Linf norm: 19.487.. Val Linf norm: 2.321\n",
            "Epoch 26/118.. Train loss: 163.215.. Val loss: 86.583.. Train L1 norm: 1.385.. Val L1 norm: 1.019.. Train Linf norm: 23.670.. Val Linf norm: 2.322\n",
            "Epoch 27/118.. Train loss: 242.782.. Val loss: 86.719.. Train L1 norm: 1.351.. Val L1 norm: 1.019.. Train Linf norm: 21.418.. Val Linf norm: 2.328\n",
            "Epoch 28/118.. Train loss: 148.963.. Val loss: 86.991.. Train L1 norm: 1.401.. Val L1 norm: 1.019.. Train Linf norm: 24.673.. Val Linf norm: 2.337\n",
            "Epoch 29/118.. Train loss: 89.312.. Val loss: 87.073.. Train L1 norm: 1.257.. Val L1 norm: 1.020.. Train Linf norm: 15.593.. Val Linf norm: 2.343\n",
            "Epoch 30/118.. Train loss: 148.130.. Val loss: 86.915.. Train L1 norm: 1.303.. Val L1 norm: 1.019.. Train Linf norm: 18.281.. Val Linf norm: 2.343\n",
            "Epoch 31/118.. Train loss: 304.585.. Val loss: 87.091.. Train L1 norm: 1.305.. Val L1 norm: 1.020.. Train Linf norm: 18.592.. Val Linf norm: 2.350\n",
            "Epoch 32/118.. Train loss: 88.006.. Val loss: 86.983.. Train L1 norm: 1.328.. Val L1 norm: 1.020.. Train Linf norm: 20.156.. Val Linf norm: 2.351\n",
            "Epoch 33/118.. Train loss: 179.831.. Val loss: 86.874.. Train L1 norm: 1.366.. Val L1 norm: 1.019.. Train Linf norm: 22.228.. Val Linf norm: 2.352\n",
            "Epoch 34/118.. Train loss: 97.551.. Val loss: 86.919.. Train L1 norm: 1.364.. Val L1 norm: 1.020.. Train Linf norm: 22.419.. Val Linf norm: 2.354\n",
            "Epoch 35/118.. Train loss: 171.969.. Val loss: 86.951.. Train L1 norm: 1.326.. Val L1 norm: 1.020.. Train Linf norm: 19.936.. Val Linf norm: 2.355\n",
            "Epoch 36/118.. Train loss: 72.561.. Val loss: 86.972.. Train L1 norm: 1.360.. Val L1 norm: 1.020.. Train Linf norm: 21.866.. Val Linf norm: 2.357\n",
            "Epoch 37/118.. Train loss: 79.615.. Val loss: 87.007.. Train L1 norm: 1.351.. Val L1 norm: 1.020.. Train Linf norm: 21.305.. Val Linf norm: 2.358\n",
            "Epoch 38/118.. Train loss: 172.081.. Val loss: 86.974.. Train L1 norm: 1.343.. Val L1 norm: 1.020.. Train Linf norm: 20.911.. Val Linf norm: 2.359\n",
            "Epoch 39/118.. Train loss: 249.098.. Val loss: 86.948.. Train L1 norm: 1.348.. Val L1 norm: 1.020.. Train Linf norm: 21.441.. Val Linf norm: 2.359\n",
            "Epoch 40/118.. Train loss: 281.046.. Val loss: 87.026.. Train L1 norm: 1.345.. Val L1 norm: 1.020.. Train Linf norm: 21.230.. Val Linf norm: 2.362\n",
            "Epoch 41/118.. Train loss: 92.307.. Val loss: 87.042.. Train L1 norm: 1.298.. Val L1 norm: 1.020.. Train Linf norm: 17.799.. Val Linf norm: 2.363\n",
            "Epoch 42/118.. Train loss: 157.106.. Val loss: 87.068.. Train L1 norm: 1.300.. Val L1 norm: 1.020.. Train Linf norm: 18.130.. Val Linf norm: 2.364\n",
            "Epoch 43/118.. Train loss: 140.480.. Val loss: 87.003.. Train L1 norm: 1.329.. Val L1 norm: 1.020.. Train Linf norm: 20.002.. Val Linf norm: 2.364\n",
            "Epoch 44/118.. Train loss: 224.348.. Val loss: 87.012.. Train L1 norm: 1.364.. Val L1 norm: 1.020.. Train Linf norm: 22.189.. Val Linf norm: 2.364\n",
            "Epoch 45/118.. Train loss: 184.224.. Val loss: 87.035.. Train L1 norm: 1.389.. Val L1 norm: 1.020.. Train Linf norm: 23.793.. Val Linf norm: 2.365\n",
            "Epoch 46/118.. Train loss: 103.836.. Val loss: 87.047.. Train L1 norm: 1.340.. Val L1 norm: 1.020.. Train Linf norm: 20.751.. Val Linf norm: 2.365\n",
            "Epoch 47/118.. Train loss: 141.414.. Val loss: 87.052.. Train L1 norm: 1.283.. Val L1 norm: 1.020.. Train Linf norm: 17.240.. Val Linf norm: 2.366\n",
            "Epoch 48/118.. Train loss: 167.730.. Val loss: 87.075.. Train L1 norm: 1.337.. Val L1 norm: 1.020.. Train Linf norm: 20.713.. Val Linf norm: 2.367\n",
            "Epoch 49/118.. Train loss: 189.499.. Val loss: 87.066.. Train L1 norm: 1.336.. Val L1 norm: 1.020.. Train Linf norm: 20.480.. Val Linf norm: 2.367\n",
            "Epoch 50/118.. Train loss: 216.275.. Val loss: 87.046.. Train L1 norm: 1.346.. Val L1 norm: 1.020.. Train Linf norm: 20.816.. Val Linf norm: 2.367\n",
            "Epoch 51/118.. Train loss: 127.369.. Val loss: 87.041.. Train L1 norm: 1.329.. Val L1 norm: 1.020.. Train Linf norm: 20.046.. Val Linf norm: 2.367\n",
            "Epoch 52/118.. Train loss: 79.730.. Val loss: 87.046.. Train L1 norm: 1.390.. Val L1 norm: 1.020.. Train Linf norm: 23.999.. Val Linf norm: 2.367\n",
            "Epoch 53/118.. Train loss: 125.704.. Val loss: 87.065.. Train L1 norm: 1.328.. Val L1 norm: 1.020.. Train Linf norm: 20.243.. Val Linf norm: 2.368\n",
            "Epoch 54/118.. Train loss: 88.467.. Val loss: 87.066.. Train L1 norm: 1.326.. Val L1 norm: 1.020.. Train Linf norm: 19.992.. Val Linf norm: 2.368\n",
            "Epoch 55/118.. Train loss: 105.526.. Val loss: 87.066.. Train L1 norm: 1.336.. Val L1 norm: 1.020.. Train Linf norm: 20.229.. Val Linf norm: 2.368\n",
            "Epoch 56/118.. Train loss: 172.658.. Val loss: 87.068.. Train L1 norm: 1.296.. Val L1 norm: 1.020.. Train Linf norm: 17.961.. Val Linf norm: 2.368\n",
            "Epoch 57/118.. Train loss: 104.927.. Val loss: 87.067.. Train L1 norm: 1.316.. Val L1 norm: 1.020.. Train Linf norm: 19.316.. Val Linf norm: 2.368\n",
            "Epoch 58/118.. Train loss: 115.742.. Val loss: 87.063.. Train L1 norm: 1.327.. Val L1 norm: 1.020.. Train Linf norm: 19.602.. Val Linf norm: 2.368\n",
            "Epoch 59/118.. Train loss: 96.642.. Val loss: 87.063.. Train L1 norm: 1.388.. Val L1 norm: 1.020.. Train Linf norm: 23.831.. Val Linf norm: 2.368\n",
            "Epoch 60/118.. Train loss: 105.551.. Val loss: 87.063.. Train L1 norm: 1.288.. Val L1 norm: 1.020.. Train Linf norm: 17.441.. Val Linf norm: 2.368\n",
            "Epoch 61/118.. Train loss: 86.223.. Val loss: 87.064.. Train L1 norm: 1.324.. Val L1 norm: 1.020.. Train Linf norm: 19.772.. Val Linf norm: 2.368\n",
            "Epoch 62/118.. Train loss: 80.366.. Val loss: 87.064.. Train L1 norm: 1.314.. Val L1 norm: 1.020.. Train Linf norm: 19.070.. Val Linf norm: 2.368\n",
            "Epoch 63/118.. Train loss: 93.308.. Val loss: 87.061.. Train L1 norm: 1.281.. Val L1 norm: 1.020.. Train Linf norm: 16.803.. Val Linf norm: 2.368\n",
            "Epoch 64/118.. Train loss: 107.169.. Val loss: 87.061.. Train L1 norm: 1.305.. Val L1 norm: 1.020.. Train Linf norm: 18.653.. Val Linf norm: 2.368\n",
            "Epoch 65/118.. Train loss: 91.186.. Val loss: 87.061.. Train L1 norm: 1.347.. Val L1 norm: 1.020.. Train Linf norm: 21.151.. Val Linf norm: 2.368\n",
            "Epoch 66/118.. Train loss: 90.624.. Val loss: 87.063.. Train L1 norm: 1.324.. Val L1 norm: 1.020.. Train Linf norm: 19.476.. Val Linf norm: 2.368\n",
            "Epoch 67/118.. Train loss: 176.762.. Val loss: 87.061.. Train L1 norm: 1.267.. Val L1 norm: 1.020.. Train Linf norm: 16.047.. Val Linf norm: 2.368\n",
            "Epoch 68/118.. Train loss: 131.153.. Val loss: 87.062.. Train L1 norm: 1.349.. Val L1 norm: 1.020.. Train Linf norm: 20.995.. Val Linf norm: 2.368\n",
            "Epoch 69/118.. Train loss: 85.182.. Val loss: 87.062.. Train L1 norm: 1.396.. Val L1 norm: 1.020.. Train Linf norm: 24.317.. Val Linf norm: 2.368\n",
            "Epoch 70/118.. Train loss: 134.846.. Val loss: 87.062.. Train L1 norm: 1.301.. Val L1 norm: 1.020.. Train Linf norm: 18.436.. Val Linf norm: 2.368\n",
            "Epoch 71/118.. Train loss: 141.681.. Val loss: 87.064.. Train L1 norm: 1.307.. Val L1 norm: 1.020.. Train Linf norm: 18.578.. Val Linf norm: 2.368\n",
            "Epoch 72/118.. Train loss: 103.629.. Val loss: 87.064.. Train L1 norm: 1.345.. Val L1 norm: 1.020.. Train Linf norm: 21.234.. Val Linf norm: 2.368\n",
            "Epoch 73/118.. Train loss: 153.449.. Val loss: 87.064.. Train L1 norm: 1.363.. Val L1 norm: 1.020.. Train Linf norm: 22.096.. Val Linf norm: 2.368\n",
            "Epoch 74/118.. Train loss: 97.177.. Val loss: 87.065.. Train L1 norm: 1.355.. Val L1 norm: 1.020.. Train Linf norm: 21.816.. Val Linf norm: 2.368\n",
            "Epoch 75/118.. Train loss: 106.296.. Val loss: 87.065.. Train L1 norm: 1.355.. Val L1 norm: 1.020.. Train Linf norm: 21.394.. Val Linf norm: 2.368\n",
            "Epoch 76/118.. Train loss: 108.483.. Val loss: 87.065.. Train L1 norm: 1.346.. Val L1 norm: 1.020.. Train Linf norm: 21.184.. Val Linf norm: 2.368\n",
            "Epoch 77/118.. Train loss: 168.239.. Val loss: 87.065.. Train L1 norm: 1.314.. Val L1 norm: 1.020.. Train Linf norm: 18.907.. Val Linf norm: 2.368\n",
            "Epoch 78/118.. Train loss: 119.337.. Val loss: 87.065.. Train L1 norm: 1.318.. Val L1 norm: 1.020.. Train Linf norm: 19.370.. Val Linf norm: 2.368\n",
            "Epoch 79/118.. Train loss: 170.801.. Val loss: 87.064.. Train L1 norm: 1.389.. Val L1 norm: 1.020.. Train Linf norm: 23.811.. Val Linf norm: 2.368\n",
            "Epoch 80/118.. Train loss: 143.786.. Val loss: 87.065.. Train L1 norm: 1.381.. Val L1 norm: 1.020.. Train Linf norm: 23.710.. Val Linf norm: 2.368\n",
            "Epoch 81/118.. Train loss: 146.119.. Val loss: 87.064.. Train L1 norm: 1.352.. Val L1 norm: 1.020.. Train Linf norm: 21.746.. Val Linf norm: 2.368\n",
            "Epoch 82/118.. Train loss: 150.259.. Val loss: 87.064.. Train L1 norm: 1.333.. Val L1 norm: 1.020.. Train Linf norm: 20.251.. Val Linf norm: 2.368\n",
            "Epoch 83/118.. Train loss: 150.208.. Val loss: 87.064.. Train L1 norm: 1.327.. Val L1 norm: 1.020.. Train Linf norm: 19.927.. Val Linf norm: 2.368\n",
            "Epoch 84/118.. Train loss: 116.927.. Val loss: 87.064.. Train L1 norm: 1.334.. Val L1 norm: 1.020.. Train Linf norm: 20.533.. Val Linf norm: 2.368\n",
            "Epoch 85/118.. Train loss: 135.705.. Val loss: 87.064.. Train L1 norm: 1.355.. Val L1 norm: 1.020.. Train Linf norm: 21.733.. Val Linf norm: 2.368\n",
            "Epoch 86/118.. Train loss: 84.701.. Val loss: 87.064.. Train L1 norm: 1.312.. Val L1 norm: 1.020.. Train Linf norm: 18.798.. Val Linf norm: 2.368\n",
            "Epoch 87/118.. Train loss: 165.797.. Val loss: 87.064.. Train L1 norm: 1.355.. Val L1 norm: 1.020.. Train Linf norm: 21.820.. Val Linf norm: 2.368\n",
            "Epoch 88/118.. Train loss: 161.005.. Val loss: 87.064.. Train L1 norm: 1.360.. Val L1 norm: 1.020.. Train Linf norm: 22.088.. Val Linf norm: 2.368\n",
            "Epoch 89/118.. Train loss: 183.819.. Val loss: 87.064.. Train L1 norm: 1.316.. Val L1 norm: 1.020.. Train Linf norm: 19.189.. Val Linf norm: 2.368\n",
            "Epoch 90/118.. Train loss: 108.295.. Val loss: 87.064.. Train L1 norm: 1.386.. Val L1 norm: 1.020.. Train Linf norm: 23.626.. Val Linf norm: 2.368\n",
            "Epoch 91/118.. Train loss: 226.849.. Val loss: 87.064.. Train L1 norm: 1.381.. Val L1 norm: 1.020.. Train Linf norm: 23.361.. Val Linf norm: 2.368\n",
            "Epoch 92/118.. Train loss: 143.328.. Val loss: 87.065.. Train L1 norm: 1.432.. Val L1 norm: 1.020.. Train Linf norm: 26.642.. Val Linf norm: 2.368\n",
            "Epoch 93/118.. Train loss: 293.342.. Val loss: 87.065.. Train L1 norm: 1.331.. Val L1 norm: 1.020.. Train Linf norm: 20.201.. Val Linf norm: 2.368\n",
            "Epoch 94/118.. Train loss: 108.282.. Val loss: 87.065.. Train L1 norm: 1.324.. Val L1 norm: 1.020.. Train Linf norm: 19.236.. Val Linf norm: 2.368\n",
            "Epoch 95/118.. Train loss: 110.445.. Val loss: 87.065.. Train L1 norm: 1.368.. Val L1 norm: 1.020.. Train Linf norm: 22.622.. Val Linf norm: 2.368\n",
            "Epoch 96/118.. Train loss: 193.698.. Val loss: 87.064.. Train L1 norm: 1.349.. Val L1 norm: 1.020.. Train Linf norm: 21.206.. Val Linf norm: 2.368\n",
            "Epoch 97/118.. Train loss: 116.618.. Val loss: 87.064.. Train L1 norm: 1.338.. Val L1 norm: 1.020.. Train Linf norm: 20.125.. Val Linf norm: 2.368\n",
            "Epoch 98/118.. Train loss: 91.589.. Val loss: 87.065.. Train L1 norm: 1.337.. Val L1 norm: 1.020.. Train Linf norm: 20.320.. Val Linf norm: 2.368\n",
            "Epoch 99/118.. Train loss: 183.369.. Val loss: 87.064.. Train L1 norm: 1.330.. Val L1 norm: 1.020.. Train Linf norm: 20.256.. Val Linf norm: 2.368\n",
            "Epoch 100/118.. Train loss: 113.821.. Val loss: 87.064.. Train L1 norm: 1.347.. Val L1 norm: 1.020.. Train Linf norm: 21.041.. Val Linf norm: 2.368\n",
            "Epoch 101/118.. Train loss: 78.686.. Val loss: 87.064.. Train L1 norm: 1.308.. Val L1 norm: 1.020.. Train Linf norm: 18.298.. Val Linf norm: 2.368\n",
            "Epoch 102/118.. Train loss: 115.686.. Val loss: 87.064.. Train L1 norm: 1.353.. Val L1 norm: 1.020.. Train Linf norm: 21.508.. Val Linf norm: 2.368\n",
            "Epoch 103/118.. Train loss: 71.806.. Val loss: 87.064.. Train L1 norm: 1.289.. Val L1 norm: 1.020.. Train Linf norm: 17.211.. Val Linf norm: 2.368\n",
            "Epoch 104/118.. Train loss: 168.170.. Val loss: 87.065.. Train L1 norm: 1.353.. Val L1 norm: 1.020.. Train Linf norm: 21.611.. Val Linf norm: 2.368\n",
            "Epoch 105/118.. Train loss: 77.933.. Val loss: 87.065.. Train L1 norm: 1.338.. Val L1 norm: 1.020.. Train Linf norm: 20.564.. Val Linf norm: 2.368\n",
            "Epoch 106/118.. Train loss: 117.771.. Val loss: 87.065.. Train L1 norm: 1.328.. Val L1 norm: 1.020.. Train Linf norm: 19.776.. Val Linf norm: 2.368\n",
            "Epoch 107/118.. Train loss: 87.763.. Val loss: 87.065.. Train L1 norm: 1.342.. Val L1 norm: 1.020.. Train Linf norm: 20.702.. Val Linf norm: 2.368\n",
            "Epoch 108/118.. Train loss: 109.634.. Val loss: 87.065.. Train L1 norm: 1.371.. Val L1 norm: 1.020.. Train Linf norm: 22.828.. Val Linf norm: 2.368\n",
            "Epoch 109/118.. Train loss: 174.837.. Val loss: 87.065.. Train L1 norm: 1.364.. Val L1 norm: 1.020.. Train Linf norm: 22.452.. Val Linf norm: 2.368\n",
            "Epoch 110/118.. Train loss: 91.535.. Val loss: 87.065.. Train L1 norm: 1.325.. Val L1 norm: 1.020.. Train Linf norm: 19.900.. Val Linf norm: 2.368\n",
            "Epoch 111/118.. Train loss: 84.292.. Val loss: 87.065.. Train L1 norm: 1.351.. Val L1 norm: 1.020.. Train Linf norm: 21.447.. Val Linf norm: 2.368\n",
            "Epoch 112/118.. Train loss: 94.329.. Val loss: 87.065.. Train L1 norm: 1.322.. Val L1 norm: 1.020.. Train Linf norm: 19.613.. Val Linf norm: 2.368\n",
            "Epoch 113/118.. Train loss: 141.830.. Val loss: 87.065.. Train L1 norm: 1.290.. Val L1 norm: 1.020.. Train Linf norm: 17.545.. Val Linf norm: 2.368\n",
            "Epoch 114/118.. Train loss: 150.803.. Val loss: 87.065.. Train L1 norm: 1.404.. Val L1 norm: 1.020.. Train Linf norm: 24.665.. Val Linf norm: 2.368\n",
            "Epoch 115/118.. Train loss: 188.848.. Val loss: 87.065.. Train L1 norm: 1.374.. Val L1 norm: 1.020.. Train Linf norm: 22.620.. Val Linf norm: 2.368\n",
            "Epoch 116/118.. Train loss: 205.288.. Val loss: 87.065.. Train L1 norm: 1.302.. Val L1 norm: 1.020.. Train Linf norm: 18.242.. Val Linf norm: 2.368\n",
            "Epoch 117/118.. Train loss: 239.225.. Val loss: 87.065.. Train L1 norm: 1.390.. Val L1 norm: 1.020.. Train Linf norm: 24.044.. Val Linf norm: 2.368\n"
          ]
        },
        {
          "output_type": "stream",
          "name": "stderr",
          "text": [
            "[I 2023-06-02 11:53:37,047] Trial 17 finished with value: 1.0198234608332315 and parameters: {'n_layers': 6, 'n_units_0': 815, 'n_units_1': 1044, 'n_units_2': 3356, 'n_units_3': 2502, 'n_units_4': 1550, 'n_units_5': 2780, 'hidden_activation': 'ReLU', 'output_activation': 'Linear', 'loss': 'MSE', 'optimizer': 'Adagrad', 'lr': 3.672458304075376e-05, 'batch_size': 64, 'n_epochs': 118, 'scheduler': 'ReduceLROnPlateau', 'dropout_rate': 0.49817683325345063, 'factor': 0.319727490456511, 'patience': 9, 'threshold': 0.00011105742972878891}. Best is trial 17 with value: 1.0198234608332315.\n"
          ]
        },
        {
          "output_type": "stream",
          "name": "stdout",
          "text": [
            "Epoch 118/118.. Train loss: 73.351.. Val loss: 87.065.. Train L1 norm: 1.288.. Val L1 norm: 1.020.. Train Linf norm: 17.434.. Val Linf norm: 2.368\n"
          ]
        },
        {
          "output_type": "display_data",
          "data": {
            "text/html": [
              "<html>\n",
              "<head><meta charset=\"utf-8\" /></head>\n",
              "<body>\n",
              "    <div>            <script src=\"https://cdnjs.cloudflare.com/ajax/libs/mathjax/2.7.5/MathJax.js?config=TeX-AMS-MML_SVG\"></script><script type=\"text/javascript\">if (window.MathJax && window.MathJax.Hub && window.MathJax.Hub.Config) {window.MathJax.Hub.Config({SVG: {font: \"STIX-Web\"}});}</script>                <script type=\"text/javascript\">window.PlotlyConfig = {MathJaxConfig: 'local'};</script>\n",
              "        <script src=\"https://cdn.plot.ly/plotly-2.18.2.min.js\"></script>                <div id=\"f25c9142-c953-49d3-a1e4-eefa249410a7\" class=\"plotly-graph-div\" style=\"height:525px; width:100%;\"></div>            <script type=\"text/javascript\">                                    window.PLOTLYENV=window.PLOTLYENV || {};                                    if (document.getElementById(\"f25c9142-c953-49d3-a1e4-eefa249410a7\")) {                    Plotly.newPlot(                        \"f25c9142-c953-49d3-a1e4-eefa249410a7\",                        [{\"mode\":\"markers\",\"name\":\"Objective Value\",\"x\":[0,1,2,3,4,7,9,14,15,16,17],\"y\":[361840040821304.0,4.148916990661621,3.616880493545532,2.6828094604492185,3.90576324412028,1.858821445719401,3.7637235135396323,3.3926135823567707,1.3452199674288432,1.4832775833129883,1.0198234608332315],\"type\":\"scatter\"},{\"name\":\"Best Value\",\"x\":[0,1,2,3,4,7,9,14,15,16,17],\"y\":[361840040821304.0,4.148916990661621,3.616880493545532,2.6828094604492185,2.6828094604492185,1.858821445719401,1.858821445719401,1.858821445719401,1.3452199674288432,1.3452199674288432,1.0198234608332315],\"type\":\"scatter\"}],                        {\"title\":{\"text\":\"Optimization History Plot\"},\"xaxis\":{\"title\":{\"text\":\"Trial\"}},\"yaxis\":{\"title\":{\"text\":\"Objective Value\"}},\"template\":{\"data\":{\"histogram2dcontour\":[{\"type\":\"histogram2dcontour\",\"colorbar\":{\"outlinewidth\":0,\"ticks\":\"\"},\"colorscale\":[[0.0,\"#0d0887\"],[0.1111111111111111,\"#46039f\"],[0.2222222222222222,\"#7201a8\"],[0.3333333333333333,\"#9c179e\"],[0.4444444444444444,\"#bd3786\"],[0.5555555555555556,\"#d8576b\"],[0.6666666666666666,\"#ed7953\"],[0.7777777777777778,\"#fb9f3a\"],[0.8888888888888888,\"#fdca26\"],[1.0,\"#f0f921\"]]}],\"choropleth\":[{\"type\":\"choropleth\",\"colorbar\":{\"outlinewidth\":0,\"ticks\":\"\"}}],\"histogram2d\":[{\"type\":\"histogram2d\",\"colorbar\":{\"outlinewidth\":0,\"ticks\":\"\"},\"colorscale\":[[0.0,\"#0d0887\"],[0.1111111111111111,\"#46039f\"],[0.2222222222222222,\"#7201a8\"],[0.3333333333333333,\"#9c179e\"],[0.4444444444444444,\"#bd3786\"],[0.5555555555555556,\"#d8576b\"],[0.6666666666666666,\"#ed7953\"],[0.7777777777777778,\"#fb9f3a\"],[0.8888888888888888,\"#fdca26\"],[1.0,\"#f0f921\"]]}],\"heatmap\":[{\"type\":\"heatmap\",\"colorbar\":{\"outlinewidth\":0,\"ticks\":\"\"},\"colorscale\":[[0.0,\"#0d0887\"],[0.1111111111111111,\"#46039f\"],[0.2222222222222222,\"#7201a8\"],[0.3333333333333333,\"#9c179e\"],[0.4444444444444444,\"#bd3786\"],[0.5555555555555556,\"#d8576b\"],[0.6666666666666666,\"#ed7953\"],[0.7777777777777778,\"#fb9f3a\"],[0.8888888888888888,\"#fdca26\"],[1.0,\"#f0f921\"]]}],\"heatmapgl\":[{\"type\":\"heatmapgl\",\"colorbar\":{\"outlinewidth\":0,\"ticks\":\"\"},\"colorscale\":[[0.0,\"#0d0887\"],[0.1111111111111111,\"#46039f\"],[0.2222222222222222,\"#7201a8\"],[0.3333333333333333,\"#9c179e\"],[0.4444444444444444,\"#bd3786\"],[0.5555555555555556,\"#d8576b\"],[0.6666666666666666,\"#ed7953\"],[0.7777777777777778,\"#fb9f3a\"],[0.8888888888888888,\"#fdca26\"],[1.0,\"#f0f921\"]]}],\"contourcarpet\":[{\"type\":\"contourcarpet\",\"colorbar\":{\"outlinewidth\":0,\"ticks\":\"\"}}],\"contour\":[{\"type\":\"contour\",\"colorbar\":{\"outlinewidth\":0,\"ticks\":\"\"},\"colorscale\":[[0.0,\"#0d0887\"],[0.1111111111111111,\"#46039f\"],[0.2222222222222222,\"#7201a8\"],[0.3333333333333333,\"#9c179e\"],[0.4444444444444444,\"#bd3786\"],[0.5555555555555556,\"#d8576b\"],[0.6666666666666666,\"#ed7953\"],[0.7777777777777778,\"#fb9f3a\"],[0.8888888888888888,\"#fdca26\"],[1.0,\"#f0f921\"]]}],\"surface\":[{\"type\":\"surface\",\"colorbar\":{\"outlinewidth\":0,\"ticks\":\"\"},\"colorscale\":[[0.0,\"#0d0887\"],[0.1111111111111111,\"#46039f\"],[0.2222222222222222,\"#7201a8\"],[0.3333333333333333,\"#9c179e\"],[0.4444444444444444,\"#bd3786\"],[0.5555555555555556,\"#d8576b\"],[0.6666666666666666,\"#ed7953\"],[0.7777777777777778,\"#fb9f3a\"],[0.8888888888888888,\"#fdca26\"],[1.0,\"#f0f921\"]]}],\"mesh3d\":[{\"type\":\"mesh3d\",\"colorbar\":{\"outlinewidth\":0,\"ticks\":\"\"}}],\"scatter\":[{\"fillpattern\":{\"fillmode\":\"overlay\",\"size\":10,\"solidity\":0.2},\"type\":\"scatter\"}],\"parcoords\":[{\"type\":\"parcoords\",\"line\":{\"colorbar\":{\"outlinewidth\":0,\"ticks\":\"\"}}}],\"scatterpolargl\":[{\"type\":\"scatterpolargl\",\"marker\":{\"colorbar\":{\"outlinewidth\":0,\"ticks\":\"\"}}}],\"bar\":[{\"error_x\":{\"color\":\"#2a3f5f\"},\"error_y\":{\"color\":\"#2a3f5f\"},\"marker\":{\"line\":{\"color\":\"#E5ECF6\",\"width\":0.5},\"pattern\":{\"fillmode\":\"overlay\",\"size\":10,\"solidity\":0.2}},\"type\":\"bar\"}],\"scattergeo\":[{\"type\":\"scattergeo\",\"marker\":{\"colorbar\":{\"outlinewidth\":0,\"ticks\":\"\"}}}],\"scatterpolar\":[{\"type\":\"scatterpolar\",\"marker\":{\"colorbar\":{\"outlinewidth\":0,\"ticks\":\"\"}}}],\"histogram\":[{\"marker\":{\"pattern\":{\"fillmode\":\"overlay\",\"size\":10,\"solidity\":0.2}},\"type\":\"histogram\"}],\"scattergl\":[{\"type\":\"scattergl\",\"marker\":{\"colorbar\":{\"outlinewidth\":0,\"ticks\":\"\"}}}],\"scatter3d\":[{\"type\":\"scatter3d\",\"line\":{\"colorbar\":{\"outlinewidth\":0,\"ticks\":\"\"}},\"marker\":{\"colorbar\":{\"outlinewidth\":0,\"ticks\":\"\"}}}],\"scattermapbox\":[{\"type\":\"scattermapbox\",\"marker\":{\"colorbar\":{\"outlinewidth\":0,\"ticks\":\"\"}}}],\"scatterternary\":[{\"type\":\"scatterternary\",\"marker\":{\"colorbar\":{\"outlinewidth\":0,\"ticks\":\"\"}}}],\"scattercarpet\":[{\"type\":\"scattercarpet\",\"marker\":{\"colorbar\":{\"outlinewidth\":0,\"ticks\":\"\"}}}],\"carpet\":[{\"aaxis\":{\"endlinecolor\":\"#2a3f5f\",\"gridcolor\":\"white\",\"linecolor\":\"white\",\"minorgridcolor\":\"white\",\"startlinecolor\":\"#2a3f5f\"},\"baxis\":{\"endlinecolor\":\"#2a3f5f\",\"gridcolor\":\"white\",\"linecolor\":\"white\",\"minorgridcolor\":\"white\",\"startlinecolor\":\"#2a3f5f\"},\"type\":\"carpet\"}],\"table\":[{\"cells\":{\"fill\":{\"color\":\"#EBF0F8\"},\"line\":{\"color\":\"white\"}},\"header\":{\"fill\":{\"color\":\"#C8D4E3\"},\"line\":{\"color\":\"white\"}},\"type\":\"table\"}],\"barpolar\":[{\"marker\":{\"line\":{\"color\":\"#E5ECF6\",\"width\":0.5},\"pattern\":{\"fillmode\":\"overlay\",\"size\":10,\"solidity\":0.2}},\"type\":\"barpolar\"}],\"pie\":[{\"automargin\":true,\"type\":\"pie\"}]},\"layout\":{\"autotypenumbers\":\"strict\",\"colorway\":[\"#636efa\",\"#EF553B\",\"#00cc96\",\"#ab63fa\",\"#FFA15A\",\"#19d3f3\",\"#FF6692\",\"#B6E880\",\"#FF97FF\",\"#FECB52\"],\"font\":{\"color\":\"#2a3f5f\"},\"hovermode\":\"closest\",\"hoverlabel\":{\"align\":\"left\"},\"paper_bgcolor\":\"white\",\"plot_bgcolor\":\"#E5ECF6\",\"polar\":{\"bgcolor\":\"#E5ECF6\",\"angularaxis\":{\"gridcolor\":\"white\",\"linecolor\":\"white\",\"ticks\":\"\"},\"radialaxis\":{\"gridcolor\":\"white\",\"linecolor\":\"white\",\"ticks\":\"\"}},\"ternary\":{\"bgcolor\":\"#E5ECF6\",\"aaxis\":{\"gridcolor\":\"white\",\"linecolor\":\"white\",\"ticks\":\"\"},\"baxis\":{\"gridcolor\":\"white\",\"linecolor\":\"white\",\"ticks\":\"\"},\"caxis\":{\"gridcolor\":\"white\",\"linecolor\":\"white\",\"ticks\":\"\"}},\"coloraxis\":{\"colorbar\":{\"outlinewidth\":0,\"ticks\":\"\"}},\"colorscale\":{\"sequential\":[[0.0,\"#0d0887\"],[0.1111111111111111,\"#46039f\"],[0.2222222222222222,\"#7201a8\"],[0.3333333333333333,\"#9c179e\"],[0.4444444444444444,\"#bd3786\"],[0.5555555555555556,\"#d8576b\"],[0.6666666666666666,\"#ed7953\"],[0.7777777777777778,\"#fb9f3a\"],[0.8888888888888888,\"#fdca26\"],[1.0,\"#f0f921\"]],\"sequentialminus\":[[0.0,\"#0d0887\"],[0.1111111111111111,\"#46039f\"],[0.2222222222222222,\"#7201a8\"],[0.3333333333333333,\"#9c179e\"],[0.4444444444444444,\"#bd3786\"],[0.5555555555555556,\"#d8576b\"],[0.6666666666666666,\"#ed7953\"],[0.7777777777777778,\"#fb9f3a\"],[0.8888888888888888,\"#fdca26\"],[1.0,\"#f0f921\"]],\"diverging\":[[0,\"#8e0152\"],[0.1,\"#c51b7d\"],[0.2,\"#de77ae\"],[0.3,\"#f1b6da\"],[0.4,\"#fde0ef\"],[0.5,\"#f7f7f7\"],[0.6,\"#e6f5d0\"],[0.7,\"#b8e186\"],[0.8,\"#7fbc41\"],[0.9,\"#4d9221\"],[1,\"#276419\"]]},\"xaxis\":{\"gridcolor\":\"white\",\"linecolor\":\"white\",\"ticks\":\"\",\"title\":{\"standoff\":15},\"zerolinecolor\":\"white\",\"automargin\":true,\"zerolinewidth\":2},\"yaxis\":{\"gridcolor\":\"white\",\"linecolor\":\"white\",\"ticks\":\"\",\"title\":{\"standoff\":15},\"zerolinecolor\":\"white\",\"automargin\":true,\"zerolinewidth\":2},\"scene\":{\"xaxis\":{\"backgroundcolor\":\"#E5ECF6\",\"gridcolor\":\"white\",\"linecolor\":\"white\",\"showbackground\":true,\"ticks\":\"\",\"zerolinecolor\":\"white\",\"gridwidth\":2},\"yaxis\":{\"backgroundcolor\":\"#E5ECF6\",\"gridcolor\":\"white\",\"linecolor\":\"white\",\"showbackground\":true,\"ticks\":\"\",\"zerolinecolor\":\"white\",\"gridwidth\":2},\"zaxis\":{\"backgroundcolor\":\"#E5ECF6\",\"gridcolor\":\"white\",\"linecolor\":\"white\",\"showbackground\":true,\"ticks\":\"\",\"zerolinecolor\":\"white\",\"gridwidth\":2}},\"shapedefaults\":{\"line\":{\"color\":\"#2a3f5f\"}},\"annotationdefaults\":{\"arrowcolor\":\"#2a3f5f\",\"arrowhead\":0,\"arrowwidth\":1},\"geo\":{\"bgcolor\":\"white\",\"landcolor\":\"#E5ECF6\",\"subunitcolor\":\"white\",\"showland\":true,\"showlakes\":true,\"lakecolor\":\"white\"},\"title\":{\"x\":0.05},\"mapbox\":{\"style\":\"light\"}}}},                        {\"responsive\": true}                    ).then(function(){\n",
              "                            \n",
              "var gd = document.getElementById('f25c9142-c953-49d3-a1e4-eefa249410a7');\n",
              "var x = new MutationObserver(function (mutations, observer) {{\n",
              "        var display = window.getComputedStyle(gd).display;\n",
              "        if (!display || display === 'none') {{\n",
              "            console.log([gd, 'removed!']);\n",
              "            Plotly.purge(gd);\n",
              "            observer.disconnect();\n",
              "        }}\n",
              "}});\n",
              "\n",
              "// Listen for the removal of the full notebook cells\n",
              "var notebookContainer = gd.closest('#notebook-container');\n",
              "if (notebookContainer) {{\n",
              "    x.observe(notebookContainer, {childList: true});\n",
              "}}\n",
              "\n",
              "// Listen for the clearing of the current output cell\n",
              "var outputEl = gd.closest('.output');\n",
              "if (outputEl) {{\n",
              "    x.observe(outputEl, {childList: true});\n",
              "}}\n",
              "\n",
              "                        })                };                            </script>        </div>\n",
              "</body>\n",
              "</html>"
            ]
          },
          "metadata": {}
        },
        {
          "output_type": "stream",
          "name": "stderr",
          "text": [
            "[W 2023-06-02 11:53:37,514] Your study has only completed trials with missing parameters.\n",
            "<ipython-input-37-0c79a7da1449>:44: FutureWarning:\n",
            "\n",
            "suggest_loguniform has been deprecated in v3.0.0. This feature will be removed in v6.0.0. See https://github.com/optuna/optuna/releases/tag/v3.0.0. Use suggest_float(..., log=True) instead.\n",
            "\n",
            "<ipython-input-37-0c79a7da1449>:76: FutureWarning:\n",
            "\n",
            "suggest_uniform has been deprecated in v3.0.0. This feature will be removed in v6.0.0. See https://github.com/optuna/optuna/releases/tag/v3.0.0. Use suggest_float instead.\n",
            "\n",
            "<ipython-input-37-0c79a7da1449>:178: FutureWarning:\n",
            "\n",
            "suggest_uniform has been deprecated in v3.0.0. This feature will be removed in v6.0.0. See https://github.com/optuna/optuna/releases/tag/v3.0.0. Use suggest_float instead.\n",
            "\n",
            "<ipython-input-37-0c79a7da1449>:180: FutureWarning:\n",
            "\n",
            "suggest_loguniform has been deprecated in v3.0.0. This feature will be removed in v6.0.0. See https://github.com/optuna/optuna/releases/tag/v3.0.0. Use suggest_float(..., log=True) instead.\n",
            "\n"
          ]
        },
        {
          "output_type": "stream",
          "name": "stdout",
          "text": [
            "Epoch 1/146.. Train loss: 811.562.. Val loss: 282.379.. Train L1 norm: 2.679.. Val L1 norm: 1.326.. Train Linf norm: 84.933.. Val Linf norm: 19.042\n",
            "Epoch 2/146.. Train loss: 500.045.. Val loss: 191.369.. Train L1 norm: 2.113.. Val L1 norm: 1.233.. Train Linf norm: 60.938.. Val Linf norm: 14.599\n",
            "Epoch 3/146.. Train loss: 211.992.. Val loss: 169.327.. Train L1 norm: 1.882.. Val L1 norm: 1.209.. Train Linf norm: 50.333.. Val Linf norm: 13.396\n",
            "Epoch 4/146.. Train loss: 302.730.. Val loss: 145.091.. Train L1 norm: 1.773.. Val L1 norm: 1.177.. Train Linf norm: 44.557.. Val Linf norm: 11.810\n",
            "Epoch 5/146.. Train loss: 443.362.. Val loss: 125.886.. Train L1 norm: 1.630.. Val L1 norm: 1.149.. Train Linf norm: 37.840.. Val Linf norm: 10.335\n",
            "Epoch 6/146.. Train loss: 259.168.. Val loss: 110.589.. Train L1 norm: 1.575.. Val L1 norm: 1.122.. Train Linf norm: 34.620.. Val Linf norm: 8.900\n",
            "Epoch 7/146.. Train loss: 436.208.. Val loss: 99.079.. Train L1 norm: 1.480.. Val L1 norm: 1.100.. Train Linf norm: 28.463.. Val Linf norm: 7.656\n",
            "Epoch 8/146.. Train loss: 119.846.. Val loss: 95.290.. Train L1 norm: 1.513.. Val L1 norm: 1.093.. Train Linf norm: 31.611.. Val Linf norm: 7.280\n",
            "Epoch 9/146.. Train loss: 558.859.. Val loss: 89.745.. Train L1 norm: 1.400.. Val L1 norm: 1.079.. Train Linf norm: 24.518.. Val Linf norm: 6.443\n",
            "Epoch 10/146.. Train loss: 117.349.. Val loss: 88.937.. Train L1 norm: 1.437.. Val L1 norm: 1.078.. Train Linf norm: 24.947.. Val Linf norm: 6.419\n",
            "Epoch 11/146.. Train loss: 256.218.. Val loss: 87.452.. Train L1 norm: 1.411.. Val L1 norm: 1.075.. Train Linf norm: 25.624.. Val Linf norm: 6.254\n",
            "Epoch 12/146.. Train loss: 369.281.. Val loss: 83.554.. Train L1 norm: 1.379.. Val L1 norm: 1.062.. Train Linf norm: 23.119.. Val Linf norm: 5.432\n",
            "Epoch 13/146.. Train loss: 134.587.. Val loss: 84.840.. Train L1 norm: 1.401.. Val L1 norm: 1.069.. Train Linf norm: 24.669.. Val Linf norm: 5.858\n",
            "Epoch 14/146.. Train loss: 141.411.. Val loss: 83.073.. Train L1 norm: 1.385.. Val L1 norm: 1.063.. Train Linf norm: 23.568.. Val Linf norm: 5.520\n",
            "Epoch 15/146.. Train loss: 135.093.. Val loss: 83.173.. Train L1 norm: 1.367.. Val L1 norm: 1.065.. Train Linf norm: 22.215.. Val Linf norm: 5.643\n",
            "Epoch 16/146.. Train loss: 101.635.. Val loss: 82.735.. Train L1 norm: 1.344.. Val L1 norm: 1.065.. Train Linf norm: 20.116.. Val Linf norm: 5.616\n",
            "Epoch 17/146.. Train loss: 215.997.. Val loss: 80.807.. Train L1 norm: 1.334.. Val L1 norm: 1.056.. Train Linf norm: 20.007.. Val Linf norm: 5.075\n",
            "Epoch 18/146.. Train loss: 133.415.. Val loss: 80.637.. Train L1 norm: 1.404.. Val L1 norm: 1.056.. Train Linf norm: 24.614.. Val Linf norm: 5.062\n",
            "Epoch 19/146.. Train loss: 122.286.. Val loss: 80.161.. Train L1 norm: 1.318.. Val L1 norm: 1.054.. Train Linf norm: 19.022.. Val Linf norm: 4.906\n",
            "Epoch 20/146.. Train loss: 115.053.. Val loss: 80.164.. Train L1 norm: 1.356.. Val L1 norm: 1.056.. Train Linf norm: 21.831.. Val Linf norm: 5.030\n",
            "Epoch 21/146.. Train loss: 129.034.. Val loss: 80.233.. Train L1 norm: 1.361.. Val L1 norm: 1.058.. Train Linf norm: 21.856.. Val Linf norm: 5.163\n",
            "Epoch 22/146.. Train loss: 182.635.. Val loss: 80.257.. Train L1 norm: 1.350.. Val L1 norm: 1.060.. Train Linf norm: 21.481.. Val Linf norm: 5.265\n",
            "Epoch 23/146.. Train loss: 115.790.. Val loss: 80.161.. Train L1 norm: 1.343.. Val L1 norm: 1.060.. Train Linf norm: 20.833.. Val Linf norm: 5.307\n",
            "Epoch 24/146.. Train loss: 155.652.. Val loss: 80.269.. Train L1 norm: 1.378.. Val L1 norm: 1.063.. Train Linf norm: 23.148.. Val Linf norm: 5.450\n",
            "Epoch 25/146.. Train loss: 259.474.. Val loss: 80.360.. Train L1 norm: 1.315.. Val L1 norm: 1.065.. Train Linf norm: 19.315.. Val Linf norm: 5.603\n",
            "Epoch 26/146.. Train loss: 112.374.. Val loss: 80.126.. Train L1 norm: 1.338.. Val L1 norm: 1.065.. Train Linf norm: 20.531.. Val Linf norm: 5.592\n",
            "Epoch 27/146.. Train loss: 164.318.. Val loss: 80.179.. Train L1 norm: 1.347.. Val L1 norm: 1.068.. Train Linf norm: 21.319.. Val Linf norm: 5.748\n",
            "Epoch 28/146.. Train loss: 135.559.. Val loss: 79.722.. Train L1 norm: 1.322.. Val L1 norm: 1.065.. Train Linf norm: 19.251.. Val Linf norm: 5.559\n",
            "Epoch 29/146.. Train loss: 113.860.. Val loss: 79.402.. Train L1 norm: 1.292.. Val L1 norm: 1.063.. Train Linf norm: 17.713.. Val Linf norm: 5.450\n",
            "Epoch 30/146.. Train loss: 109.449.. Val loss: 79.427.. Train L1 norm: 1.292.. Val L1 norm: 1.065.. Train Linf norm: 17.520.. Val Linf norm: 5.536\n",
            "Epoch 31/146.. Train loss: 221.687.. Val loss: 79.164.. Train L1 norm: 1.453.. Val L1 norm: 1.063.. Train Linf norm: 27.671.. Val Linf norm: 5.445\n",
            "Epoch 32/146.. Train loss: 242.120.. Val loss: 78.732.. Train L1 norm: 1.356.. Val L1 norm: 1.059.. Train Linf norm: 21.653.. Val Linf norm: 5.177\n",
            "Epoch 33/146.. Train loss: 142.956.. Val loss: 78.883.. Train L1 norm: 1.316.. Val L1 norm: 1.063.. Train Linf norm: 18.718.. Val Linf norm: 5.422\n",
            "Epoch 34/146.. Train loss: 138.687.. Val loss: 78.807.. Train L1 norm: 1.365.. Val L1 norm: 1.063.. Train Linf norm: 22.137.. Val Linf norm: 5.439\n",
            "Epoch 35/146.. Train loss: 162.490.. Val loss: 78.568.. Train L1 norm: 1.315.. Val L1 norm: 1.059.. Train Linf norm: 18.874.. Val Linf norm: 5.194\n",
            "Epoch 36/146.. Train loss: 125.694.. Val loss: 78.554.. Train L1 norm: 1.307.. Val L1 norm: 1.061.. Train Linf norm: 18.495.. Val Linf norm: 5.289\n",
            "Epoch 37/146.. Train loss: 204.283.. Val loss: 78.573.. Train L1 norm: 1.350.. Val L1 norm: 1.063.. Train Linf norm: 21.340.. Val Linf norm: 5.432\n",
            "Epoch 38/146.. Train loss: 259.565.. Val loss: 78.913.. Train L1 norm: 1.333.. Val L1 norm: 1.070.. Train Linf norm: 20.073.. Val Linf norm: 5.841\n",
            "Epoch 39/146.. Train loss: 165.060.. Val loss: 78.807.. Train L1 norm: 1.394.. Val L1 norm: 1.070.. Train Linf norm: 24.316.. Val Linf norm: 5.813\n",
            "Epoch 40/146.. Train loss: 120.633.. Val loss: 78.646.. Train L1 norm: 1.369.. Val L1 norm: 1.068.. Train Linf norm: 22.062.. Val Linf norm: 5.703\n",
            "Epoch 41/146.. Train loss: 156.090.. Val loss: 78.540.. Train L1 norm: 1.305.. Val L1 norm: 1.067.. Train Linf norm: 18.513.. Val Linf norm: 5.614\n",
            "Epoch 42/146.. Train loss: 162.249.. Val loss: 78.588.. Train L1 norm: 1.302.. Val L1 norm: 1.069.. Train Linf norm: 18.030.. Val Linf norm: 5.754\n",
            "Epoch 43/146.. Train loss: 162.556.. Val loss: 78.546.. Train L1 norm: 1.308.. Val L1 norm: 1.070.. Train Linf norm: 18.806.. Val Linf norm: 5.827\n",
            "Epoch 44/146.. Train loss: 219.134.. Val loss: 78.472.. Train L1 norm: 1.372.. Val L1 norm: 1.070.. Train Linf norm: 22.691.. Val Linf norm: 5.806\n",
            "Epoch 45/146.. Train loss: 106.788.. Val loss: 78.466.. Train L1 norm: 1.300.. Val L1 norm: 1.071.. Train Linf norm: 18.091.. Val Linf norm: 5.895\n",
            "Epoch 46/146.. Train loss: 195.120.. Val loss: 78.448.. Train L1 norm: 1.348.. Val L1 norm: 1.073.. Train Linf norm: 21.012.. Val Linf norm: 5.982\n",
            "Epoch 47/146.. Train loss: 100.260.. Val loss: 78.359.. Train L1 norm: 1.371.. Val L1 norm: 1.072.. Train Linf norm: 22.380.. Val Linf norm: 5.907\n",
            "Epoch 48/146.. Train loss: 101.179.. Val loss: 78.362.. Train L1 norm: 1.412.. Val L1 norm: 1.073.. Train Linf norm: 25.145.. Val Linf norm: 5.988\n",
            "Epoch 49/146.. Train loss: 108.558.. Val loss: 78.309.. Train L1 norm: 1.395.. Val L1 norm: 1.073.. Train Linf norm: 23.942.. Val Linf norm: 5.982\n",
            "Epoch 50/146.. Train loss: 166.258.. Val loss: 78.433.. Train L1 norm: 1.341.. Val L1 norm: 1.079.. Train Linf norm: 20.544.. Val Linf norm: 6.319\n",
            "Epoch 51/146.. Train loss: 102.037.. Val loss: 78.474.. Train L1 norm: 1.342.. Val L1 norm: 1.081.. Train Linf norm: 20.670.. Val Linf norm: 6.430\n",
            "Epoch 52/146.. Train loss: 82.718.. Val loss: 78.424.. Train L1 norm: 1.324.. Val L1 norm: 1.081.. Train Linf norm: 19.352.. Val Linf norm: 6.443\n",
            "Epoch 53/146.. Train loss: 176.787.. Val loss: 78.378.. Train L1 norm: 1.305.. Val L1 norm: 1.081.. Train Linf norm: 18.499.. Val Linf norm: 6.441\n",
            "Epoch 54/146.. Train loss: 129.326.. Val loss: 78.528.. Train L1 norm: 1.358.. Val L1 norm: 1.085.. Train Linf norm: 21.870.. Val Linf norm: 6.682\n",
            "Epoch 55/146.. Train loss: 131.412.. Val loss: 78.677.. Train L1 norm: 1.317.. Val L1 norm: 1.088.. Train Linf norm: 18.853.. Val Linf norm: 6.863\n",
            "Epoch 56/146.. Train loss: 162.330.. Val loss: 78.561.. Train L1 norm: 1.365.. Val L1 norm: 1.087.. Train Linf norm: 22.031.. Val Linf norm: 6.806\n",
            "Epoch 57/146.. Train loss: 89.359.. Val loss: 78.531.. Train L1 norm: 1.298.. Val L1 norm: 1.088.. Train Linf norm: 17.123.. Val Linf norm: 6.846\n",
            "Epoch 58/146.. Train loss: 103.140.. Val loss: 78.428.. Train L1 norm: 1.352.. Val L1 norm: 1.087.. Train Linf norm: 21.371.. Val Linf norm: 6.788\n",
            "Epoch 59/146.. Train loss: 88.780.. Val loss: 78.540.. Train L1 norm: 1.280.. Val L1 norm: 1.090.. Train Linf norm: 16.855.. Val Linf norm: 6.960\n",
            "Epoch 60/146.. Train loss: 90.613.. Val loss: 78.537.. Train L1 norm: 1.281.. Val L1 norm: 1.091.. Train Linf norm: 16.810.. Val Linf norm: 6.978\n",
            "Epoch 61/146.. Train loss: 108.730.. Val loss: 78.511.. Train L1 norm: 1.340.. Val L1 norm: 1.091.. Train Linf norm: 20.788.. Val Linf norm: 6.972\n",
            "Epoch 62/146.. Train loss: 107.599.. Val loss: 78.472.. Train L1 norm: 1.353.. Val L1 norm: 1.090.. Train Linf norm: 21.423.. Val Linf norm: 6.951\n",
            "Epoch 63/146.. Train loss: 133.351.. Val loss: 78.430.. Train L1 norm: 1.339.. Val L1 norm: 1.090.. Train Linf norm: 20.587.. Val Linf norm: 6.923\n",
            "Epoch 64/146.. Train loss: 128.775.. Val loss: 78.396.. Train L1 norm: 1.332.. Val L1 norm: 1.089.. Train Linf norm: 19.865.. Val Linf norm: 6.901\n",
            "Epoch 65/146.. Train loss: 234.845.. Val loss: 78.309.. Train L1 norm: 1.378.. Val L1 norm: 1.088.. Train Linf norm: 23.069.. Val Linf norm: 6.807\n",
            "Epoch 66/146.. Train loss: 167.166.. Val loss: 78.364.. Train L1 norm: 1.365.. Val L1 norm: 1.089.. Train Linf norm: 22.259.. Val Linf norm: 6.900\n",
            "Epoch 67/146.. Train loss: 217.076.. Val loss: 78.370.. Train L1 norm: 1.379.. Val L1 norm: 1.090.. Train Linf norm: 23.153.. Val Linf norm: 6.927\n",
            "Epoch 68/146.. Train loss: 160.457.. Val loss: 78.419.. Train L1 norm: 1.330.. Val L1 norm: 1.091.. Train Linf norm: 20.050.. Val Linf norm: 7.018\n",
            "Epoch 69/146.. Train loss: 104.202.. Val loss: 78.413.. Train L1 norm: 1.408.. Val L1 norm: 1.092.. Train Linf norm: 24.929.. Val Linf norm: 7.039\n",
            "Epoch 70/146.. Train loss: 150.349.. Val loss: 78.409.. Train L1 norm: 1.414.. Val L1 norm: 1.092.. Train Linf norm: 25.589.. Val Linf norm: 7.040\n",
            "Epoch 71/146.. Train loss: 98.906.. Val loss: 78.420.. Train L1 norm: 1.304.. Val L1 norm: 1.092.. Train Linf norm: 18.430.. Val Linf norm: 7.057\n",
            "Epoch 72/146.. Train loss: 68.590.. Val loss: 78.411.. Train L1 norm: 1.308.. Val L1 norm: 1.092.. Train Linf norm: 18.377.. Val Linf norm: 7.054\n",
            "Epoch 73/146.. Train loss: 126.659.. Val loss: 78.423.. Train L1 norm: 1.376.. Val L1 norm: 1.092.. Train Linf norm: 22.797.. Val Linf norm: 7.075\n",
            "Epoch 74/146.. Train loss: 145.473.. Val loss: 78.426.. Train L1 norm: 1.392.. Val L1 norm: 1.093.. Train Linf norm: 23.966.. Val Linf norm: 7.084\n",
            "Epoch 75/146.. Train loss: 128.020.. Val loss: 78.431.. Train L1 norm: 1.327.. Val L1 norm: 1.093.. Train Linf norm: 19.752.. Val Linf norm: 7.095\n",
            "Epoch 76/146.. Train loss: 151.187.. Val loss: 78.438.. Train L1 norm: 1.331.. Val L1 norm: 1.093.. Train Linf norm: 19.838.. Val Linf norm: 7.108\n",
            "Epoch 77/146.. Train loss: 126.197.. Val loss: 78.440.. Train L1 norm: 1.379.. Val L1 norm: 1.093.. Train Linf norm: 21.977.. Val Linf norm: 7.118\n",
            "Epoch 78/146.. Train loss: 129.421.. Val loss: 78.448.. Train L1 norm: 1.331.. Val L1 norm: 1.093.. Train Linf norm: 20.086.. Val Linf norm: 7.131\n",
            "Epoch 79/146.. Train loss: 161.504.. Val loss: 78.440.. Train L1 norm: 1.391.. Val L1 norm: 1.093.. Train Linf norm: 23.699.. Val Linf norm: 7.130\n",
            "Epoch 80/146.. Train loss: 98.200.. Val loss: 78.439.. Train L1 norm: 1.343.. Val L1 norm: 1.093.. Train Linf norm: 20.898.. Val Linf norm: 7.131\n",
            "Epoch 81/146.. Train loss: 137.372.. Val loss: 78.436.. Train L1 norm: 1.345.. Val L1 norm: 1.093.. Train Linf norm: 20.920.. Val Linf norm: 7.130\n",
            "Epoch 82/146.. Train loss: 243.473.. Val loss: 78.438.. Train L1 norm: 1.374.. Val L1 norm: 1.093.. Train Linf norm: 22.333.. Val Linf norm: 7.135\n",
            "Epoch 83/146.. Train loss: 231.787.. Val loss: 78.430.. Train L1 norm: 1.347.. Val L1 norm: 1.093.. Train Linf norm: 20.850.. Val Linf norm: 7.129\n",
            "Epoch 84/146.. Train loss: 93.610.. Val loss: 78.428.. Train L1 norm: 1.379.. Val L1 norm: 1.093.. Train Linf norm: 23.186.. Val Linf norm: 7.129\n",
            "Epoch 85/146.. Train loss: 102.535.. Val loss: 78.429.. Train L1 norm: 1.365.. Val L1 norm: 1.093.. Train Linf norm: 22.265.. Val Linf norm: 7.132\n",
            "Epoch 86/146.. Train loss: 210.937.. Val loss: 78.436.. Train L1 norm: 1.337.. Val L1 norm: 1.094.. Train Linf norm: 20.551.. Val Linf norm: 7.142\n",
            "Epoch 87/146.. Train loss: 127.468.. Val loss: 78.442.. Train L1 norm: 1.448.. Val L1 norm: 1.094.. Train Linf norm: 27.608.. Val Linf norm: 7.150\n",
            "Epoch 88/146.. Train loss: 100.436.. Val loss: 78.437.. Train L1 norm: 1.308.. Val L1 norm: 1.094.. Train Linf norm: 18.590.. Val Linf norm: 7.147\n",
            "Epoch 89/146.. Train loss: 71.143.. Val loss: 78.435.. Train L1 norm: 1.363.. Val L1 norm: 1.094.. Train Linf norm: 21.884.. Val Linf norm: 7.147\n",
            "Epoch 90/146.. Train loss: 133.114.. Val loss: 78.434.. Train L1 norm: 1.373.. Val L1 norm: 1.094.. Train Linf norm: 22.403.. Val Linf norm: 7.146\n",
            "Epoch 91/146.. Train loss: 105.608.. Val loss: 78.434.. Train L1 norm: 1.334.. Val L1 norm: 1.094.. Train Linf norm: 20.224.. Val Linf norm: 7.147\n",
            "Epoch 92/146.. Train loss: 130.524.. Val loss: 78.434.. Train L1 norm: 1.307.. Val L1 norm: 1.094.. Train Linf norm: 18.508.. Val Linf norm: 7.147\n",
            "Epoch 93/146.. Train loss: 188.649.. Val loss: 78.433.. Train L1 norm: 1.337.. Val L1 norm: 1.094.. Train Linf norm: 20.544.. Val Linf norm: 7.146\n",
            "Epoch 94/146.. Train loss: 91.258.. Val loss: 78.432.. Train L1 norm: 1.394.. Val L1 norm: 1.094.. Train Linf norm: 23.916.. Val Linf norm: 7.146\n",
            "Epoch 95/146.. Train loss: 79.362.. Val loss: 78.433.. Train L1 norm: 1.362.. Val L1 norm: 1.094.. Train Linf norm: 22.028.. Val Linf norm: 7.147\n",
            "Epoch 96/146.. Train loss: 162.646.. Val loss: 78.433.. Train L1 norm: 1.364.. Val L1 norm: 1.094.. Train Linf norm: 22.351.. Val Linf norm: 7.148\n",
            "Epoch 97/146.. Train loss: 101.803.. Val loss: 78.434.. Train L1 norm: 1.328.. Val L1 norm: 1.094.. Train Linf norm: 19.933.. Val Linf norm: 7.150\n",
            "Epoch 98/146.. Train loss: 135.495.. Val loss: 78.435.. Train L1 norm: 1.392.. Val L1 norm: 1.094.. Train Linf norm: 23.928.. Val Linf norm: 7.150\n",
            "Epoch 99/146.. Train loss: 96.489.. Val loss: 78.434.. Train L1 norm: 1.318.. Val L1 norm: 1.094.. Train Linf norm: 19.177.. Val Linf norm: 7.150\n",
            "Epoch 100/146.. Train loss: 245.324.. Val loss: 78.433.. Train L1 norm: 1.407.. Val L1 norm: 1.094.. Train Linf norm: 24.842.. Val Linf norm: 7.149\n",
            "Epoch 101/146.. Train loss: 319.578.. Val loss: 78.434.. Train L1 norm: 1.399.. Val L1 norm: 1.094.. Train Linf norm: 24.220.. Val Linf norm: 7.150\n",
            "Epoch 102/146.. Train loss: 138.047.. Val loss: 78.433.. Train L1 norm: 1.334.. Val L1 norm: 1.094.. Train Linf norm: 19.965.. Val Linf norm: 7.150\n",
            "Epoch 103/146.. Train loss: 111.390.. Val loss: 78.433.. Train L1 norm: 1.412.. Val L1 norm: 1.094.. Train Linf norm: 25.159.. Val Linf norm: 7.149\n",
            "Epoch 104/146.. Train loss: 85.488.. Val loss: 78.433.. Train L1 norm: 1.306.. Val L1 norm: 1.094.. Train Linf norm: 18.487.. Val Linf norm: 7.150\n",
            "Epoch 105/146.. Train loss: 99.191.. Val loss: 78.433.. Train L1 norm: 1.385.. Val L1 norm: 1.094.. Train Linf norm: 23.413.. Val Linf norm: 7.150\n",
            "Epoch 106/146.. Train loss: 113.444.. Val loss: 78.434.. Train L1 norm: 1.365.. Val L1 norm: 1.094.. Train Linf norm: 22.022.. Val Linf norm: 7.150\n",
            "Epoch 107/146.. Train loss: 117.042.. Val loss: 78.433.. Train L1 norm: 1.337.. Val L1 norm: 1.094.. Train Linf norm: 20.146.. Val Linf norm: 7.150\n",
            "Epoch 108/146.. Train loss: 168.770.. Val loss: 78.433.. Train L1 norm: 1.396.. Val L1 norm: 1.094.. Train Linf norm: 23.973.. Val Linf norm: 7.150\n",
            "Epoch 109/146.. Train loss: 91.916.. Val loss: 78.433.. Train L1 norm: 1.353.. Val L1 norm: 1.094.. Train Linf norm: 21.533.. Val Linf norm: 7.150\n",
            "Epoch 110/146.. Train loss: 143.980.. Val loss: 78.433.. Train L1 norm: 1.369.. Val L1 norm: 1.094.. Train Linf norm: 22.330.. Val Linf norm: 7.150\n",
            "Epoch 111/146.. Train loss: 273.288.. Val loss: 78.433.. Train L1 norm: 1.324.. Val L1 norm: 1.094.. Train Linf norm: 19.647.. Val Linf norm: 7.150\n",
            "Epoch 112/146.. Train loss: 142.120.. Val loss: 78.433.. Train L1 norm: 1.376.. Val L1 norm: 1.094.. Train Linf norm: 22.914.. Val Linf norm: 7.150\n",
            "Epoch 113/146.. Train loss: 138.384.. Val loss: 78.433.. Train L1 norm: 1.401.. Val L1 norm: 1.094.. Train Linf norm: 24.318.. Val Linf norm: 7.149\n",
            "Epoch 114/146.. Train loss: 107.761.. Val loss: 78.433.. Train L1 norm: 1.358.. Val L1 norm: 1.094.. Train Linf norm: 21.501.. Val Linf norm: 7.149\n",
            "Epoch 115/146.. Train loss: 73.657.. Val loss: 78.433.. Train L1 norm: 1.386.. Val L1 norm: 1.094.. Train Linf norm: 23.458.. Val Linf norm: 7.149\n",
            "Epoch 116/146.. Train loss: 239.366.. Val loss: 78.433.. Train L1 norm: 1.377.. Val L1 norm: 1.094.. Train Linf norm: 22.468.. Val Linf norm: 7.149\n",
            "Epoch 117/146.. Train loss: 121.870.. Val loss: 78.433.. Train L1 norm: 1.374.. Val L1 norm: 1.094.. Train Linf norm: 22.935.. Val Linf norm: 7.149\n",
            "Epoch 118/146.. Train loss: 101.538.. Val loss: 78.433.. Train L1 norm: 1.367.. Val L1 norm: 1.094.. Train Linf norm: 22.216.. Val Linf norm: 7.149\n",
            "Epoch 119/146.. Train loss: 102.574.. Val loss: 78.433.. Train L1 norm: 1.420.. Val L1 norm: 1.094.. Train Linf norm: 25.781.. Val Linf norm: 7.149\n",
            "Epoch 120/146.. Train loss: 262.543.. Val loss: 78.433.. Train L1 norm: 1.332.. Val L1 norm: 1.094.. Train Linf norm: 20.190.. Val Linf norm: 7.149\n",
            "Epoch 121/146.. Train loss: 287.103.. Val loss: 78.433.. Train L1 norm: 1.419.. Val L1 norm: 1.094.. Train Linf norm: 25.560.. Val Linf norm: 7.149\n",
            "Epoch 122/146.. Train loss: 103.921.. Val loss: 78.433.. Train L1 norm: 1.330.. Val L1 norm: 1.094.. Train Linf norm: 20.052.. Val Linf norm: 7.149\n",
            "Epoch 123/146.. Train loss: 164.125.. Val loss: 78.433.. Train L1 norm: 1.393.. Val L1 norm: 1.094.. Train Linf norm: 24.030.. Val Linf norm: 7.149\n",
            "Epoch 124/146.. Train loss: 81.389.. Val loss: 78.433.. Train L1 norm: 1.329.. Val L1 norm: 1.094.. Train Linf norm: 20.136.. Val Linf norm: 7.149\n",
            "Epoch 125/146.. Train loss: 149.779.. Val loss: 78.433.. Train L1 norm: 1.407.. Val L1 norm: 1.094.. Train Linf norm: 24.667.. Val Linf norm: 7.149\n",
            "Epoch 126/146.. Train loss: 88.294.. Val loss: 78.433.. Train L1 norm: 1.373.. Val L1 norm: 1.094.. Train Linf norm: 22.756.. Val Linf norm: 7.149\n",
            "Epoch 127/146.. Train loss: 131.225.. Val loss: 78.433.. Train L1 norm: 1.422.. Val L1 norm: 1.094.. Train Linf norm: 25.902.. Val Linf norm: 7.149\n",
            "Epoch 128/146.. Train loss: 126.462.. Val loss: 78.433.. Train L1 norm: 1.372.. Val L1 norm: 1.094.. Train Linf norm: 23.077.. Val Linf norm: 7.149\n",
            "Epoch 129/146.. Train loss: 100.566.. Val loss: 78.433.. Train L1 norm: 1.359.. Val L1 norm: 1.094.. Train Linf norm: 21.845.. Val Linf norm: 7.149\n",
            "Epoch 130/146.. Train loss: 279.741.. Val loss: 78.433.. Train L1 norm: 1.339.. Val L1 norm: 1.094.. Train Linf norm: 20.053.. Val Linf norm: 7.149\n",
            "Epoch 131/146.. Train loss: 163.189.. Val loss: 78.433.. Train L1 norm: 1.413.. Val L1 norm: 1.094.. Train Linf norm: 25.415.. Val Linf norm: 7.149\n",
            "Epoch 132/146.. Train loss: 133.110.. Val loss: 78.433.. Train L1 norm: 1.322.. Val L1 norm: 1.094.. Train Linf norm: 19.332.. Val Linf norm: 7.149\n",
            "Epoch 133/146.. Train loss: 199.545.. Val loss: 78.433.. Train L1 norm: 1.294.. Val L1 norm: 1.094.. Train Linf norm: 17.647.. Val Linf norm: 7.149\n",
            "Epoch 134/146.. Train loss: 117.388.. Val loss: 78.433.. Train L1 norm: 1.425.. Val L1 norm: 1.094.. Train Linf norm: 26.086.. Val Linf norm: 7.149\n",
            "Epoch 135/146.. Train loss: 145.765.. Val loss: 78.433.. Train L1 norm: 1.393.. Val L1 norm: 1.094.. Train Linf norm: 23.668.. Val Linf norm: 7.149\n",
            "Epoch 136/146.. Train loss: 83.789.. Val loss: 78.433.. Train L1 norm: 1.421.. Val L1 norm: 1.094.. Train Linf norm: 25.863.. Val Linf norm: 7.149\n",
            "Epoch 137/146.. Train loss: 110.655.. Val loss: 78.433.. Train L1 norm: 1.336.. Val L1 norm: 1.094.. Train Linf norm: 20.191.. Val Linf norm: 7.149\n",
            "Epoch 138/146.. Train loss: 165.106.. Val loss: 78.433.. Train L1 norm: 1.361.. Val L1 norm: 1.094.. Train Linf norm: 21.797.. Val Linf norm: 7.149\n",
            "Epoch 139/146.. Train loss: 161.450.. Val loss: 78.433.. Train L1 norm: 1.404.. Val L1 norm: 1.094.. Train Linf norm: 24.589.. Val Linf norm: 7.149\n",
            "Epoch 140/146.. Train loss: 119.355.. Val loss: 78.433.. Train L1 norm: 1.334.. Val L1 norm: 1.094.. Train Linf norm: 20.263.. Val Linf norm: 7.149\n",
            "Epoch 141/146.. Train loss: 158.727.. Val loss: 78.433.. Train L1 norm: 1.389.. Val L1 norm: 1.094.. Train Linf norm: 23.656.. Val Linf norm: 7.149\n",
            "Epoch 142/146.. Train loss: 84.611.. Val loss: 78.433.. Train L1 norm: 1.421.. Val L1 norm: 1.094.. Train Linf norm: 25.867.. Val Linf norm: 7.149\n",
            "Epoch 143/146.. Train loss: 227.424.. Val loss: 78.432.. Train L1 norm: 1.370.. Val L1 norm: 1.094.. Train Linf norm: 22.317.. Val Linf norm: 7.149\n",
            "Epoch 144/146.. Train loss: 85.203.. Val loss: 78.432.. Train L1 norm: 1.389.. Val L1 norm: 1.094.. Train Linf norm: 23.819.. Val Linf norm: 7.149\n",
            "Epoch 145/146.. Train loss: 164.953.. Val loss: 78.432.. Train L1 norm: 1.450.. Val L1 norm: 1.094.. Train Linf norm: 27.549.. Val Linf norm: 7.149\n"
          ]
        },
        {
          "output_type": "stream",
          "name": "stderr",
          "text": [
            "[I 2023-06-02 12:18:58,406] Trial 18 finished with value: 1.0937617930730184 and parameters: {'n_layers': 6, 'n_units_0': 727, 'n_units_1': 1815, 'n_units_2': 3320, 'n_units_3': 2741, 'n_units_4': 767, 'n_units_5': 3356, 'hidden_activation': 'ReLU', 'output_activation': 'Linear', 'loss': 'MSE', 'optimizer': 'Adagrad', 'lr': 2.6213698271029395e-05, 'batch_size': 64, 'n_epochs': 146, 'scheduler': 'ReduceLROnPlateau', 'dropout_rate': 0.4887787746822634, 'factor': 0.32725540907970246, 'patience': 9, 'threshold': 0.00011534640244721312}. Best is trial 17 with value: 1.0198234608332315.\n"
          ]
        },
        {
          "output_type": "stream",
          "name": "stdout",
          "text": [
            "Epoch 146/146.. Train loss: 102.157.. Val loss: 78.432.. Train L1 norm: 1.307.. Val L1 norm: 1.094.. Train Linf norm: 18.391.. Val Linf norm: 7.149\n"
          ]
        },
        {
          "output_type": "display_data",
          "data": {
            "text/html": [
              "<html>\n",
              "<head><meta charset=\"utf-8\" /></head>\n",
              "<body>\n",
              "    <div>            <script src=\"https://cdnjs.cloudflare.com/ajax/libs/mathjax/2.7.5/MathJax.js?config=TeX-AMS-MML_SVG\"></script><script type=\"text/javascript\">if (window.MathJax && window.MathJax.Hub && window.MathJax.Hub.Config) {window.MathJax.Hub.Config({SVG: {font: \"STIX-Web\"}});}</script>                <script type=\"text/javascript\">window.PlotlyConfig = {MathJaxConfig: 'local'};</script>\n",
              "        <script src=\"https://cdn.plot.ly/plotly-2.18.2.min.js\"></script>                <div id=\"4a086956-0331-43d9-9bf4-9dba32f9140e\" class=\"plotly-graph-div\" style=\"height:525px; width:100%;\"></div>            <script type=\"text/javascript\">                                    window.PLOTLYENV=window.PLOTLYENV || {};                                    if (document.getElementById(\"4a086956-0331-43d9-9bf4-9dba32f9140e\")) {                    Plotly.newPlot(                        \"4a086956-0331-43d9-9bf4-9dba32f9140e\",                        [{\"mode\":\"markers\",\"name\":\"Objective Value\",\"x\":[0,1,2,3,4,7,9,14,15,16,17,18],\"y\":[361840040821304.0,4.148916990661621,3.616880493545532,2.6828094604492185,3.90576324412028,1.858821445719401,3.7637235135396323,3.3926135823567707,1.3452199674288432,1.4832775833129883,1.0198234608332315,1.0937617930730184],\"type\":\"scatter\"},{\"name\":\"Best Value\",\"x\":[0,1,2,3,4,7,9,14,15,16,17,18],\"y\":[361840040821304.0,4.148916990661621,3.616880493545532,2.6828094604492185,2.6828094604492185,1.858821445719401,1.858821445719401,1.858821445719401,1.3452199674288432,1.3452199674288432,1.0198234608332315,1.0198234608332315],\"type\":\"scatter\"}],                        {\"title\":{\"text\":\"Optimization History Plot\"},\"xaxis\":{\"title\":{\"text\":\"Trial\"}},\"yaxis\":{\"title\":{\"text\":\"Objective Value\"}},\"template\":{\"data\":{\"histogram2dcontour\":[{\"type\":\"histogram2dcontour\",\"colorbar\":{\"outlinewidth\":0,\"ticks\":\"\"},\"colorscale\":[[0.0,\"#0d0887\"],[0.1111111111111111,\"#46039f\"],[0.2222222222222222,\"#7201a8\"],[0.3333333333333333,\"#9c179e\"],[0.4444444444444444,\"#bd3786\"],[0.5555555555555556,\"#d8576b\"],[0.6666666666666666,\"#ed7953\"],[0.7777777777777778,\"#fb9f3a\"],[0.8888888888888888,\"#fdca26\"],[1.0,\"#f0f921\"]]}],\"choropleth\":[{\"type\":\"choropleth\",\"colorbar\":{\"outlinewidth\":0,\"ticks\":\"\"}}],\"histogram2d\":[{\"type\":\"histogram2d\",\"colorbar\":{\"outlinewidth\":0,\"ticks\":\"\"},\"colorscale\":[[0.0,\"#0d0887\"],[0.1111111111111111,\"#46039f\"],[0.2222222222222222,\"#7201a8\"],[0.3333333333333333,\"#9c179e\"],[0.4444444444444444,\"#bd3786\"],[0.5555555555555556,\"#d8576b\"],[0.6666666666666666,\"#ed7953\"],[0.7777777777777778,\"#fb9f3a\"],[0.8888888888888888,\"#fdca26\"],[1.0,\"#f0f921\"]]}],\"heatmap\":[{\"type\":\"heatmap\",\"colorbar\":{\"outlinewidth\":0,\"ticks\":\"\"},\"colorscale\":[[0.0,\"#0d0887\"],[0.1111111111111111,\"#46039f\"],[0.2222222222222222,\"#7201a8\"],[0.3333333333333333,\"#9c179e\"],[0.4444444444444444,\"#bd3786\"],[0.5555555555555556,\"#d8576b\"],[0.6666666666666666,\"#ed7953\"],[0.7777777777777778,\"#fb9f3a\"],[0.8888888888888888,\"#fdca26\"],[1.0,\"#f0f921\"]]}],\"heatmapgl\":[{\"type\":\"heatmapgl\",\"colorbar\":{\"outlinewidth\":0,\"ticks\":\"\"},\"colorscale\":[[0.0,\"#0d0887\"],[0.1111111111111111,\"#46039f\"],[0.2222222222222222,\"#7201a8\"],[0.3333333333333333,\"#9c179e\"],[0.4444444444444444,\"#bd3786\"],[0.5555555555555556,\"#d8576b\"],[0.6666666666666666,\"#ed7953\"],[0.7777777777777778,\"#fb9f3a\"],[0.8888888888888888,\"#fdca26\"],[1.0,\"#f0f921\"]]}],\"contourcarpet\":[{\"type\":\"contourcarpet\",\"colorbar\":{\"outlinewidth\":0,\"ticks\":\"\"}}],\"contour\":[{\"type\":\"contour\",\"colorbar\":{\"outlinewidth\":0,\"ticks\":\"\"},\"colorscale\":[[0.0,\"#0d0887\"],[0.1111111111111111,\"#46039f\"],[0.2222222222222222,\"#7201a8\"],[0.3333333333333333,\"#9c179e\"],[0.4444444444444444,\"#bd3786\"],[0.5555555555555556,\"#d8576b\"],[0.6666666666666666,\"#ed7953\"],[0.7777777777777778,\"#fb9f3a\"],[0.8888888888888888,\"#fdca26\"],[1.0,\"#f0f921\"]]}],\"surface\":[{\"type\":\"surface\",\"colorbar\":{\"outlinewidth\":0,\"ticks\":\"\"},\"colorscale\":[[0.0,\"#0d0887\"],[0.1111111111111111,\"#46039f\"],[0.2222222222222222,\"#7201a8\"],[0.3333333333333333,\"#9c179e\"],[0.4444444444444444,\"#bd3786\"],[0.5555555555555556,\"#d8576b\"],[0.6666666666666666,\"#ed7953\"],[0.7777777777777778,\"#fb9f3a\"],[0.8888888888888888,\"#fdca26\"],[1.0,\"#f0f921\"]]}],\"mesh3d\":[{\"type\":\"mesh3d\",\"colorbar\":{\"outlinewidth\":0,\"ticks\":\"\"}}],\"scatter\":[{\"fillpattern\":{\"fillmode\":\"overlay\",\"size\":10,\"solidity\":0.2},\"type\":\"scatter\"}],\"parcoords\":[{\"type\":\"parcoords\",\"line\":{\"colorbar\":{\"outlinewidth\":0,\"ticks\":\"\"}}}],\"scatterpolargl\":[{\"type\":\"scatterpolargl\",\"marker\":{\"colorbar\":{\"outlinewidth\":0,\"ticks\":\"\"}}}],\"bar\":[{\"error_x\":{\"color\":\"#2a3f5f\"},\"error_y\":{\"color\":\"#2a3f5f\"},\"marker\":{\"line\":{\"color\":\"#E5ECF6\",\"width\":0.5},\"pattern\":{\"fillmode\":\"overlay\",\"size\":10,\"solidity\":0.2}},\"type\":\"bar\"}],\"scattergeo\":[{\"type\":\"scattergeo\",\"marker\":{\"colorbar\":{\"outlinewidth\":0,\"ticks\":\"\"}}}],\"scatterpolar\":[{\"type\":\"scatterpolar\",\"marker\":{\"colorbar\":{\"outlinewidth\":0,\"ticks\":\"\"}}}],\"histogram\":[{\"marker\":{\"pattern\":{\"fillmode\":\"overlay\",\"size\":10,\"solidity\":0.2}},\"type\":\"histogram\"}],\"scattergl\":[{\"type\":\"scattergl\",\"marker\":{\"colorbar\":{\"outlinewidth\":0,\"ticks\":\"\"}}}],\"scatter3d\":[{\"type\":\"scatter3d\",\"line\":{\"colorbar\":{\"outlinewidth\":0,\"ticks\":\"\"}},\"marker\":{\"colorbar\":{\"outlinewidth\":0,\"ticks\":\"\"}}}],\"scattermapbox\":[{\"type\":\"scattermapbox\",\"marker\":{\"colorbar\":{\"outlinewidth\":0,\"ticks\":\"\"}}}],\"scatterternary\":[{\"type\":\"scatterternary\",\"marker\":{\"colorbar\":{\"outlinewidth\":0,\"ticks\":\"\"}}}],\"scattercarpet\":[{\"type\":\"scattercarpet\",\"marker\":{\"colorbar\":{\"outlinewidth\":0,\"ticks\":\"\"}}}],\"carpet\":[{\"aaxis\":{\"endlinecolor\":\"#2a3f5f\",\"gridcolor\":\"white\",\"linecolor\":\"white\",\"minorgridcolor\":\"white\",\"startlinecolor\":\"#2a3f5f\"},\"baxis\":{\"endlinecolor\":\"#2a3f5f\",\"gridcolor\":\"white\",\"linecolor\":\"white\",\"minorgridcolor\":\"white\",\"startlinecolor\":\"#2a3f5f\"},\"type\":\"carpet\"}],\"table\":[{\"cells\":{\"fill\":{\"color\":\"#EBF0F8\"},\"line\":{\"color\":\"white\"}},\"header\":{\"fill\":{\"color\":\"#C8D4E3\"},\"line\":{\"color\":\"white\"}},\"type\":\"table\"}],\"barpolar\":[{\"marker\":{\"line\":{\"color\":\"#E5ECF6\",\"width\":0.5},\"pattern\":{\"fillmode\":\"overlay\",\"size\":10,\"solidity\":0.2}},\"type\":\"barpolar\"}],\"pie\":[{\"automargin\":true,\"type\":\"pie\"}]},\"layout\":{\"autotypenumbers\":\"strict\",\"colorway\":[\"#636efa\",\"#EF553B\",\"#00cc96\",\"#ab63fa\",\"#FFA15A\",\"#19d3f3\",\"#FF6692\",\"#B6E880\",\"#FF97FF\",\"#FECB52\"],\"font\":{\"color\":\"#2a3f5f\"},\"hovermode\":\"closest\",\"hoverlabel\":{\"align\":\"left\"},\"paper_bgcolor\":\"white\",\"plot_bgcolor\":\"#E5ECF6\",\"polar\":{\"bgcolor\":\"#E5ECF6\",\"angularaxis\":{\"gridcolor\":\"white\",\"linecolor\":\"white\",\"ticks\":\"\"},\"radialaxis\":{\"gridcolor\":\"white\",\"linecolor\":\"white\",\"ticks\":\"\"}},\"ternary\":{\"bgcolor\":\"#E5ECF6\",\"aaxis\":{\"gridcolor\":\"white\",\"linecolor\":\"white\",\"ticks\":\"\"},\"baxis\":{\"gridcolor\":\"white\",\"linecolor\":\"white\",\"ticks\":\"\"},\"caxis\":{\"gridcolor\":\"white\",\"linecolor\":\"white\",\"ticks\":\"\"}},\"coloraxis\":{\"colorbar\":{\"outlinewidth\":0,\"ticks\":\"\"}},\"colorscale\":{\"sequential\":[[0.0,\"#0d0887\"],[0.1111111111111111,\"#46039f\"],[0.2222222222222222,\"#7201a8\"],[0.3333333333333333,\"#9c179e\"],[0.4444444444444444,\"#bd3786\"],[0.5555555555555556,\"#d8576b\"],[0.6666666666666666,\"#ed7953\"],[0.7777777777777778,\"#fb9f3a\"],[0.8888888888888888,\"#fdca26\"],[1.0,\"#f0f921\"]],\"sequentialminus\":[[0.0,\"#0d0887\"],[0.1111111111111111,\"#46039f\"],[0.2222222222222222,\"#7201a8\"],[0.3333333333333333,\"#9c179e\"],[0.4444444444444444,\"#bd3786\"],[0.5555555555555556,\"#d8576b\"],[0.6666666666666666,\"#ed7953\"],[0.7777777777777778,\"#fb9f3a\"],[0.8888888888888888,\"#fdca26\"],[1.0,\"#f0f921\"]],\"diverging\":[[0,\"#8e0152\"],[0.1,\"#c51b7d\"],[0.2,\"#de77ae\"],[0.3,\"#f1b6da\"],[0.4,\"#fde0ef\"],[0.5,\"#f7f7f7\"],[0.6,\"#e6f5d0\"],[0.7,\"#b8e186\"],[0.8,\"#7fbc41\"],[0.9,\"#4d9221\"],[1,\"#276419\"]]},\"xaxis\":{\"gridcolor\":\"white\",\"linecolor\":\"white\",\"ticks\":\"\",\"title\":{\"standoff\":15},\"zerolinecolor\":\"white\",\"automargin\":true,\"zerolinewidth\":2},\"yaxis\":{\"gridcolor\":\"white\",\"linecolor\":\"white\",\"ticks\":\"\",\"title\":{\"standoff\":15},\"zerolinecolor\":\"white\",\"automargin\":true,\"zerolinewidth\":2},\"scene\":{\"xaxis\":{\"backgroundcolor\":\"#E5ECF6\",\"gridcolor\":\"white\",\"linecolor\":\"white\",\"showbackground\":true,\"ticks\":\"\",\"zerolinecolor\":\"white\",\"gridwidth\":2},\"yaxis\":{\"backgroundcolor\":\"#E5ECF6\",\"gridcolor\":\"white\",\"linecolor\":\"white\",\"showbackground\":true,\"ticks\":\"\",\"zerolinecolor\":\"white\",\"gridwidth\":2},\"zaxis\":{\"backgroundcolor\":\"#E5ECF6\",\"gridcolor\":\"white\",\"linecolor\":\"white\",\"showbackground\":true,\"ticks\":\"\",\"zerolinecolor\":\"white\",\"gridwidth\":2}},\"shapedefaults\":{\"line\":{\"color\":\"#2a3f5f\"}},\"annotationdefaults\":{\"arrowcolor\":\"#2a3f5f\",\"arrowhead\":0,\"arrowwidth\":1},\"geo\":{\"bgcolor\":\"white\",\"landcolor\":\"#E5ECF6\",\"subunitcolor\":\"white\",\"showland\":true,\"showlakes\":true,\"lakecolor\":\"white\"},\"title\":{\"x\":0.05},\"mapbox\":{\"style\":\"light\"}}}},                        {\"responsive\": true}                    ).then(function(){\n",
              "                            \n",
              "var gd = document.getElementById('4a086956-0331-43d9-9bf4-9dba32f9140e');\n",
              "var x = new MutationObserver(function (mutations, observer) {{\n",
              "        var display = window.getComputedStyle(gd).display;\n",
              "        if (!display || display === 'none') {{\n",
              "            console.log([gd, 'removed!']);\n",
              "            Plotly.purge(gd);\n",
              "            observer.disconnect();\n",
              "        }}\n",
              "}});\n",
              "\n",
              "// Listen for the removal of the full notebook cells\n",
              "var notebookContainer = gd.closest('#notebook-container');\n",
              "if (notebookContainer) {{\n",
              "    x.observe(notebookContainer, {childList: true});\n",
              "}}\n",
              "\n",
              "// Listen for the clearing of the current output cell\n",
              "var outputEl = gd.closest('.output');\n",
              "if (outputEl) {{\n",
              "    x.observe(outputEl, {childList: true});\n",
              "}}\n",
              "\n",
              "                        })                };                            </script>        </div>\n",
              "</body>\n",
              "</html>"
            ]
          },
          "metadata": {}
        },
        {
          "output_type": "stream",
          "name": "stderr",
          "text": [
            "[W 2023-06-02 12:18:58,885] Your study has only completed trials with missing parameters.\n",
            "<ipython-input-37-0c79a7da1449>:44: FutureWarning:\n",
            "\n",
            "suggest_loguniform has been deprecated in v3.0.0. This feature will be removed in v6.0.0. See https://github.com/optuna/optuna/releases/tag/v3.0.0. Use suggest_float(..., log=True) instead.\n",
            "\n",
            "<ipython-input-37-0c79a7da1449>:76: FutureWarning:\n",
            "\n",
            "suggest_uniform has been deprecated in v3.0.0. This feature will be removed in v6.0.0. See https://github.com/optuna/optuna/releases/tag/v3.0.0. Use suggest_float instead.\n",
            "\n",
            "<ipython-input-37-0c79a7da1449>:178: FutureWarning:\n",
            "\n",
            "suggest_uniform has been deprecated in v3.0.0. This feature will be removed in v6.0.0. See https://github.com/optuna/optuna/releases/tag/v3.0.0. Use suggest_float instead.\n",
            "\n",
            "<ipython-input-37-0c79a7da1449>:180: FutureWarning:\n",
            "\n",
            "suggest_loguniform has been deprecated in v3.0.0. This feature will be removed in v6.0.0. See https://github.com/optuna/optuna/releases/tag/v3.0.0. Use suggest_float(..., log=True) instead.\n",
            "\n"
          ]
        },
        {
          "output_type": "stream",
          "name": "stdout",
          "text": [
            "Epoch 1/149.. Train loss: 1523.146.. Val loss: 314.729.. Train L1 norm: 2.677.. Val L1 norm: 1.352.. Train Linf norm: 86.968.. Val Linf norm: 20.310\n",
            "Epoch 2/149.. Train loss: 716.032.. Val loss: 206.424.. Train L1 norm: 1.962.. Val L1 norm: 1.243.. Train Linf norm: 51.630.. Val Linf norm: 15.138\n",
            "Epoch 3/149.. Train loss: 345.391.. Val loss: 167.142.. Train L1 norm: 1.844.. Val L1 norm: 1.197.. Train Linf norm: 47.181.. Val Linf norm: 12.886\n",
            "Epoch 4/149.. Train loss: 340.725.. Val loss: 136.023.. Train L1 norm: 1.813.. Val L1 norm: 1.156.. Train Linf norm: 47.157.. Val Linf norm: 10.755\n",
            "Epoch 5/149.. Train loss: 197.751.. Val loss: 117.685.. Train L1 norm: 1.584.. Val L1 norm: 1.127.. Train Linf norm: 34.860.. Val Linf norm: 9.219\n",
            "Epoch 6/149.. Train loss: 171.773.. Val loss: 106.331.. Train L1 norm: 1.496.. Val L1 norm: 1.105.. Train Linf norm: 29.873.. Val Linf norm: 8.034\n",
            "Epoch 7/149.. Train loss: 148.003.. Val loss: 98.508.. Train L1 norm: 1.443.. Val L1 norm: 1.089.. Train Linf norm: 27.255.. Val Linf norm: 7.119\n",
            "Epoch 8/149.. Train loss: 253.462.. Val loss: 91.074.. Train L1 norm: 1.428.. Val L1 norm: 1.071.. Train Linf norm: 26.931.. Val Linf norm: 6.075\n",
            "Epoch 9/149.. Train loss: 180.270.. Val loss: 86.519.. Train L1 norm: 1.335.. Val L1 norm: 1.059.. Train Linf norm: 21.287.. Val Linf norm: 5.327\n",
            "Epoch 10/149.. Train loss: 74.868.. Val loss: 85.515.. Train L1 norm: 1.351.. Val L1 norm: 1.057.. Train Linf norm: 22.405.. Val Linf norm: 5.215\n",
            "Epoch 11/149.. Train loss: 239.619.. Val loss: 83.292.. Train L1 norm: 1.416.. Val L1 norm: 1.050.. Train Linf norm: 26.601.. Val Linf norm: 4.769\n",
            "Epoch 12/149.. Train loss: 97.967.. Val loss: 81.897.. Train L1 norm: 1.346.. Val L1 norm: 1.045.. Train Linf norm: 21.944.. Val Linf norm: 4.445\n",
            "Epoch 13/149.. Train loss: 136.168.. Val loss: 81.350.. Train L1 norm: 1.327.. Val L1 norm: 1.043.. Train Linf norm: 21.406.. Val Linf norm: 4.348\n",
            "Epoch 14/149.. Train loss: 77.492.. Val loss: 80.858.. Train L1 norm: 1.403.. Val L1 norm: 1.042.. Train Linf norm: 25.762.. Val Linf norm: 4.283\n",
            "Epoch 15/149.. Train loss: 153.585.. Val loss: 80.779.. Train L1 norm: 1.304.. Val L1 norm: 1.043.. Train Linf norm: 19.437.. Val Linf norm: 4.322\n",
            "Epoch 16/149.. Train loss: 128.143.. Val loss: 79.999.. Train L1 norm: 1.285.. Val L1 norm: 1.037.. Train Linf norm: 18.264.. Val Linf norm: 3.942\n",
            "Epoch 17/149.. Train loss: 70.547.. Val loss: 80.013.. Train L1 norm: 1.235.. Val L1 norm: 1.039.. Train Linf norm: 15.287.. Val Linf norm: 4.051\n",
            "Epoch 18/149.. Train loss: 82.789.. Val loss: 79.529.. Train L1 norm: 1.283.. Val L1 norm: 1.035.. Train Linf norm: 18.086.. Val Linf norm: 3.784\n",
            "Epoch 19/149.. Train loss: 121.682.. Val loss: 79.201.. Train L1 norm: 1.258.. Val L1 norm: 1.030.. Train Linf norm: 16.365.. Val Linf norm: 3.478\n",
            "Epoch 20/149.. Train loss: 114.085.. Val loss: 79.125.. Train L1 norm: 1.246.. Val L1 norm: 1.026.. Train Linf norm: 15.642.. Val Linf norm: 3.184\n",
            "Epoch 21/149.. Train loss: 81.386.. Val loss: 79.130.. Train L1 norm: 1.273.. Val L1 norm: 1.026.. Train Linf norm: 17.395.. Val Linf norm: 3.194\n",
            "Epoch 22/149.. Train loss: 97.867.. Val loss: 79.314.. Train L1 norm: 1.285.. Val L1 norm: 1.023.. Train Linf norm: 17.910.. Val Linf norm: 2.954\n",
            "Epoch 23/149.. Train loss: 107.100.. Val loss: 79.394.. Train L1 norm: 1.277.. Val L1 norm: 1.023.. Train Linf norm: 17.421.. Val Linf norm: 2.934\n",
            "Epoch 24/149.. Train loss: 82.226.. Val loss: 79.319.. Train L1 norm: 1.260.. Val L1 norm: 1.024.. Train Linf norm: 16.662.. Val Linf norm: 3.056\n",
            "Epoch 25/149.. Train loss: 116.614.. Val loss: 79.560.. Train L1 norm: 1.255.. Val L1 norm: 1.023.. Train Linf norm: 15.914.. Val Linf norm: 2.947\n",
            "Epoch 26/149.. Train loss: 82.792.. Val loss: 79.528.. Train L1 norm: 1.244.. Val L1 norm: 1.024.. Train Linf norm: 15.182.. Val Linf norm: 3.028\n",
            "Epoch 27/149.. Train loss: 121.686.. Val loss: 79.256.. Train L1 norm: 1.272.. Val L1 norm: 1.028.. Train Linf norm: 17.192.. Val Linf norm: 3.287\n",
            "Epoch 28/149.. Train loss: 93.824.. Val loss: 79.094.. Train L1 norm: 1.267.. Val L1 norm: 1.032.. Train Linf norm: 17.063.. Val Linf norm: 3.529\n",
            "Epoch 29/149.. Train loss: 88.281.. Val loss: 79.144.. Train L1 norm: 1.222.. Val L1 norm: 1.031.. Train Linf norm: 14.072.. Val Linf norm: 3.505\n",
            "Epoch 30/149.. Train loss: 126.857.. Val loss: 79.166.. Train L1 norm: 1.208.. Val L1 norm: 1.032.. Train Linf norm: 13.096.. Val Linf norm: 3.531\n",
            "Epoch 31/149.. Train loss: 93.162.. Val loss: 79.145.. Train L1 norm: 1.258.. Val L1 norm: 1.033.. Train Linf norm: 16.474.. Val Linf norm: 3.594\n",
            "Epoch 32/149.. Train loss: 79.151.. Val loss: 79.112.. Train L1 norm: 1.234.. Val L1 norm: 1.034.. Train Linf norm: 14.845.. Val Linf norm: 3.681\n",
            "Epoch 33/149.. Train loss: 107.413.. Val loss: 79.177.. Train L1 norm: 1.249.. Val L1 norm: 1.034.. Train Linf norm: 15.891.. Val Linf norm: 3.651\n",
            "Epoch 34/149.. Train loss: 74.206.. Val loss: 79.250.. Train L1 norm: 1.245.. Val L1 norm: 1.034.. Train Linf norm: 15.574.. Val Linf norm: 3.629\n",
            "Epoch 35/149.. Train loss: 159.376.. Val loss: 79.269.. Train L1 norm: 1.269.. Val L1 norm: 1.034.. Train Linf norm: 16.672.. Val Linf norm: 3.653\n",
            "Epoch 36/149.. Train loss: 112.301.. Val loss: 79.056.. Train L1 norm: 1.258.. Val L1 norm: 1.038.. Train Linf norm: 16.360.. Val Linf norm: 3.913\n",
            "Epoch 37/149.. Train loss: 92.742.. Val loss: 79.250.. Train L1 norm: 1.236.. Val L1 norm: 1.036.. Train Linf norm: 14.787.. Val Linf norm: 3.776\n",
            "Epoch 38/149.. Train loss: 106.441.. Val loss: 79.147.. Train L1 norm: 1.293.. Val L1 norm: 1.038.. Train Linf norm: 18.707.. Val Linf norm: 3.927\n",
            "Epoch 39/149.. Train loss: 74.932.. Val loss: 79.135.. Train L1 norm: 1.275.. Val L1 norm: 1.039.. Train Linf norm: 17.452.. Val Linf norm: 3.982\n",
            "Epoch 40/149.. Train loss: 141.495.. Val loss: 78.924.. Train L1 norm: 1.280.. Val L1 norm: 1.044.. Train Linf norm: 17.641.. Val Linf norm: 4.287\n",
            "Epoch 41/149.. Train loss: 106.046.. Val loss: 78.995.. Train L1 norm: 1.246.. Val L1 norm: 1.043.. Train Linf norm: 15.648.. Val Linf norm: 4.229\n",
            "Epoch 42/149.. Train loss: 83.464.. Val loss: 79.021.. Train L1 norm: 1.264.. Val L1 norm: 1.043.. Train Linf norm: 16.610.. Val Linf norm: 4.246\n",
            "Epoch 43/149.. Train loss: 177.678.. Val loss: 79.640.. Train L1 norm: 1.307.. Val L1 norm: 1.038.. Train Linf norm: 19.388.. Val Linf norm: 3.845\n",
            "Epoch 44/149.. Train loss: 119.382.. Val loss: 79.327.. Train L1 norm: 1.263.. Val L1 norm: 1.041.. Train Linf norm: 16.766.. Val Linf norm: 4.082\n",
            "Epoch 45/149.. Train loss: 97.520.. Val loss: 79.310.. Train L1 norm: 1.266.. Val L1 norm: 1.042.. Train Linf norm: 16.910.. Val Linf norm: 4.143\n",
            "Epoch 46/149.. Train loss: 106.674.. Val loss: 79.331.. Train L1 norm: 1.254.. Val L1 norm: 1.043.. Train Linf norm: 15.925.. Val Linf norm: 4.172\n",
            "Epoch 47/149.. Train loss: 89.498.. Val loss: 79.322.. Train L1 norm: 1.287.. Val L1 norm: 1.044.. Train Linf norm: 18.070.. Val Linf norm: 4.227\n",
            "Epoch 48/149.. Train loss: 80.243.. Val loss: 79.202.. Train L1 norm: 1.244.. Val L1 norm: 1.046.. Train Linf norm: 15.475.. Val Linf norm: 4.357\n",
            "Epoch 49/149.. Train loss: 120.103.. Val loss: 78.880.. Train L1 norm: 1.243.. Val L1 norm: 1.051.. Train Linf norm: 15.602.. Val Linf norm: 4.684\n",
            "Epoch 50/149.. Train loss: 198.846.. Val loss: 78.902.. Train L1 norm: 1.263.. Val L1 norm: 1.051.. Train Linf norm: 16.757.. Val Linf norm: 4.683\n",
            "Epoch 51/149.. Train loss: 61.258.. Val loss: 78.900.. Train L1 norm: 1.273.. Val L1 norm: 1.052.. Train Linf norm: 17.327.. Val Linf norm: 4.725\n",
            "Epoch 52/149.. Train loss: 173.669.. Val loss: 78.672.. Train L1 norm: 1.282.. Val L1 norm: 1.058.. Train Linf norm: 17.947.. Val Linf norm: 5.119\n",
            "Epoch 53/149.. Train loss: 113.968.. Val loss: 78.634.. Train L1 norm: 1.255.. Val L1 norm: 1.061.. Train Linf norm: 16.258.. Val Linf norm: 5.331\n",
            "Epoch 54/149.. Train loss: 94.412.. Val loss: 78.635.. Train L1 norm: 1.264.. Val L1 norm: 1.061.. Train Linf norm: 16.920.. Val Linf norm: 5.321\n",
            "Epoch 55/149.. Train loss: 74.150.. Val loss: 78.617.. Train L1 norm: 1.244.. Val L1 norm: 1.065.. Train Linf norm: 15.460.. Val Linf norm: 5.543\n",
            "Epoch 56/149.. Train loss: 65.887.. Val loss: 78.621.. Train L1 norm: 1.337.. Val L1 norm: 1.067.. Train Linf norm: 21.482.. Val Linf norm: 5.674\n",
            "Epoch 57/149.. Train loss: 78.701.. Val loss: 78.596.. Train L1 norm: 1.318.. Val L1 norm: 1.068.. Train Linf norm: 20.161.. Val Linf norm: 5.686\n",
            "Epoch 58/149.. Train loss: 85.126.. Val loss: 78.621.. Train L1 norm: 1.300.. Val L1 norm: 1.071.. Train Linf norm: 18.703.. Val Linf norm: 5.866\n",
            "Epoch 59/149.. Train loss: 114.485.. Val loss: 78.591.. Train L1 norm: 1.338.. Val L1 norm: 1.071.. Train Linf norm: 20.929.. Val Linf norm: 5.889\n",
            "Epoch 60/149.. Train loss: 87.088.. Val loss: 78.617.. Train L1 norm: 1.320.. Val L1 norm: 1.073.. Train Linf norm: 20.089.. Val Linf norm: 6.017\n",
            "Epoch 61/149.. Train loss: 212.314.. Val loss: 78.892.. Train L1 norm: 1.294.. Val L1 norm: 1.081.. Train Linf norm: 18.797.. Val Linf norm: 6.450\n",
            "Epoch 62/149.. Train loss: 119.782.. Val loss: 78.624.. Train L1 norm: 1.282.. Val L1 norm: 1.077.. Train Linf norm: 17.768.. Val Linf norm: 6.234\n",
            "Epoch 63/149.. Train loss: 168.412.. Val loss: 78.687.. Train L1 norm: 1.332.. Val L1 norm: 1.079.. Train Linf norm: 21.103.. Val Linf norm: 6.386\n",
            "Epoch 64/149.. Train loss: 85.389.. Val loss: 78.756.. Train L1 norm: 1.316.. Val L1 norm: 1.082.. Train Linf norm: 20.111.. Val Linf norm: 6.557\n",
            "Epoch 65/149.. Train loss: 68.229.. Val loss: 78.678.. Train L1 norm: 1.293.. Val L1 norm: 1.082.. Train Linf norm: 18.595.. Val Linf norm: 6.529\n",
            "Epoch 66/149.. Train loss: 114.661.. Val loss: 78.539.. Train L1 norm: 1.286.. Val L1 norm: 1.080.. Train Linf norm: 17.907.. Val Linf norm: 6.414\n",
            "Epoch 67/149.. Train loss: 138.487.. Val loss: 78.486.. Train L1 norm: 1.285.. Val L1 norm: 1.079.. Train Linf norm: 18.017.. Val Linf norm: 6.373\n",
            "Epoch 68/149.. Train loss: 91.068.. Val loss: 78.411.. Train L1 norm: 1.260.. Val L1 norm: 1.077.. Train Linf norm: 16.189.. Val Linf norm: 6.232\n",
            "Epoch 69/149.. Train loss: 86.624.. Val loss: 78.419.. Train L1 norm: 1.309.. Val L1 norm: 1.079.. Train Linf norm: 19.573.. Val Linf norm: 6.337\n",
            "Epoch 70/149.. Train loss: 119.194.. Val loss: 78.393.. Train L1 norm: 1.316.. Val L1 norm: 1.078.. Train Linf norm: 19.776.. Val Linf norm: 6.274\n",
            "Epoch 71/149.. Train loss: 119.343.. Val loss: 78.365.. Train L1 norm: 1.268.. Val L1 norm: 1.078.. Train Linf norm: 17.121.. Val Linf norm: 6.285\n",
            "Epoch 72/149.. Train loss: 153.257.. Val loss: 78.393.. Train L1 norm: 1.288.. Val L1 norm: 1.075.. Train Linf norm: 18.011.. Val Linf norm: 6.076\n",
            "Epoch 73/149.. Train loss: 101.838.. Val loss: 78.378.. Train L1 norm: 1.284.. Val L1 norm: 1.076.. Train Linf norm: 18.040.. Val Linf norm: 6.127\n",
            "Epoch 74/149.. Train loss: 88.992.. Val loss: 78.347.. Train L1 norm: 1.273.. Val L1 norm: 1.077.. Train Linf norm: 17.318.. Val Linf norm: 6.234\n",
            "Epoch 75/149.. Train loss: 80.598.. Val loss: 78.313.. Train L1 norm: 1.292.. Val L1 norm: 1.079.. Train Linf norm: 18.767.. Val Linf norm: 6.351\n",
            "Epoch 76/149.. Train loss: 89.182.. Val loss: 78.308.. Train L1 norm: 1.285.. Val L1 norm: 1.081.. Train Linf norm: 17.926.. Val Linf norm: 6.467\n",
            "Epoch 77/149.. Train loss: 87.430.. Val loss: 78.312.. Train L1 norm: 1.256.. Val L1 norm: 1.081.. Train Linf norm: 16.343.. Val Linf norm: 6.410\n",
            "Epoch 78/149.. Train loss: 127.153.. Val loss: 78.300.. Train L1 norm: 1.299.. Val L1 norm: 1.081.. Train Linf norm: 19.223.. Val Linf norm: 6.413\n",
            "Epoch 79/149.. Train loss: 91.951.. Val loss: 78.274.. Train L1 norm: 1.235.. Val L1 norm: 1.083.. Train Linf norm: 14.864.. Val Linf norm: 6.537\n",
            "Epoch 80/149.. Train loss: 122.265.. Val loss: 78.383.. Train L1 norm: 1.299.. Val L1 norm: 1.078.. Train Linf norm: 19.034.. Val Linf norm: 6.261\n",
            "Epoch 81/149.. Train loss: 72.096.. Val loss: 78.324.. Train L1 norm: 1.301.. Val L1 norm: 1.080.. Train Linf norm: 19.128.. Val Linf norm: 6.386\n",
            "Epoch 82/149.. Train loss: 124.803.. Val loss: 78.371.. Train L1 norm: 1.248.. Val L1 norm: 1.079.. Train Linf norm: 15.587.. Val Linf norm: 6.329\n",
            "Epoch 83/149.. Train loss: 109.922.. Val loss: 78.361.. Train L1 norm: 1.323.. Val L1 norm: 1.080.. Train Linf norm: 20.424.. Val Linf norm: 6.369\n",
            "Epoch 84/149.. Train loss: 96.812.. Val loss: 78.425.. Train L1 norm: 1.269.. Val L1 norm: 1.079.. Train Linf norm: 17.034.. Val Linf norm: 6.306\n",
            "Epoch 85/149.. Train loss: 106.719.. Val loss: 78.342.. Train L1 norm: 1.270.. Val L1 norm: 1.081.. Train Linf norm: 17.207.. Val Linf norm: 6.442\n",
            "Epoch 86/149.. Train loss: 93.062.. Val loss: 78.374.. Train L1 norm: 1.351.. Val L1 norm: 1.081.. Train Linf norm: 22.077.. Val Linf norm: 6.428\n",
            "Epoch 87/149.. Train loss: 147.600.. Val loss: 78.668.. Train L1 norm: 1.301.. Val L1 norm: 1.077.. Train Linf norm: 19.094.. Val Linf norm: 6.160\n",
            "Epoch 88/149.. Train loss: 232.942.. Val loss: 79.222.. Train L1 norm: 1.227.. Val L1 norm: 1.072.. Train Linf norm: 14.085.. Val Linf norm: 5.852\n",
            "Epoch 89/149.. Train loss: 134.437.. Val loss: 79.016.. Train L1 norm: 1.320.. Val L1 norm: 1.074.. Train Linf norm: 20.049.. Val Linf norm: 6.002\n",
            "Epoch 90/149.. Train loss: 98.176.. Val loss: 79.034.. Train L1 norm: 1.270.. Val L1 norm: 1.074.. Train Linf norm: 17.198.. Val Linf norm: 6.004\n",
            "Epoch 91/149.. Train loss: 68.625.. Val loss: 79.012.. Train L1 norm: 1.258.. Val L1 norm: 1.075.. Train Linf norm: 16.187.. Val Linf norm: 6.029\n",
            "Epoch 92/149.. Train loss: 103.926.. Val loss: 78.993.. Train L1 norm: 1.245.. Val L1 norm: 1.075.. Train Linf norm: 15.408.. Val Linf norm: 6.047\n",
            "Epoch 93/149.. Train loss: 69.695.. Val loss: 78.954.. Train L1 norm: 1.256.. Val L1 norm: 1.076.. Train Linf norm: 16.173.. Val Linf norm: 6.083\n",
            "Epoch 94/149.. Train loss: 84.999.. Val loss: 78.966.. Train L1 norm: 1.291.. Val L1 norm: 1.076.. Train Linf norm: 18.393.. Val Linf norm: 6.087\n",
            "Epoch 95/149.. Train loss: 106.058.. Val loss: 78.978.. Train L1 norm: 1.211.. Val L1 norm: 1.076.. Train Linf norm: 13.231.. Val Linf norm: 6.096\n",
            "Epoch 96/149.. Train loss: 127.315.. Val loss: 78.823.. Train L1 norm: 1.283.. Val L1 norm: 1.078.. Train Linf norm: 17.666.. Val Linf norm: 6.199\n",
            "Epoch 97/149.. Train loss: 145.811.. Val loss: 78.759.. Train L1 norm: 1.254.. Val L1 norm: 1.078.. Train Linf norm: 16.093.. Val Linf norm: 6.246\n",
            "Epoch 98/149.. Train loss: 108.346.. Val loss: 78.693.. Train L1 norm: 1.245.. Val L1 norm: 1.079.. Train Linf norm: 15.775.. Val Linf norm: 6.304\n",
            "Epoch 99/149.. Train loss: 110.728.. Val loss: 78.645.. Train L1 norm: 1.276.. Val L1 norm: 1.080.. Train Linf norm: 17.552.. Val Linf norm: 6.350\n",
            "Epoch 100/149.. Train loss: 74.198.. Val loss: 78.641.. Train L1 norm: 1.290.. Val L1 norm: 1.080.. Train Linf norm: 18.261.. Val Linf norm: 6.357\n",
            "Epoch 101/149.. Train loss: 80.117.. Val loss: 78.626.. Train L1 norm: 1.288.. Val L1 norm: 1.081.. Train Linf norm: 18.047.. Val Linf norm: 6.373\n",
            "Epoch 102/149.. Train loss: 75.950.. Val loss: 78.640.. Train L1 norm: 1.260.. Val L1 norm: 1.080.. Train Linf norm: 16.119.. Val Linf norm: 6.367\n",
            "Epoch 103/149.. Train loss: 120.171.. Val loss: 78.618.. Train L1 norm: 1.274.. Val L1 norm: 1.081.. Train Linf norm: 17.197.. Val Linf norm: 6.387\n",
            "Epoch 104/149.. Train loss: 116.664.. Val loss: 78.619.. Train L1 norm: 1.280.. Val L1 norm: 1.081.. Train Linf norm: 17.927.. Val Linf norm: 6.391\n",
            "Epoch 105/149.. Train loss: 74.624.. Val loss: 78.634.. Train L1 norm: 1.272.. Val L1 norm: 1.081.. Train Linf norm: 17.302.. Val Linf norm: 6.383\n",
            "Epoch 106/149.. Train loss: 74.796.. Val loss: 78.632.. Train L1 norm: 1.287.. Val L1 norm: 1.081.. Train Linf norm: 18.276.. Val Linf norm: 6.389\n",
            "Epoch 107/149.. Train loss: 69.340.. Val loss: 78.627.. Train L1 norm: 1.271.. Val L1 norm: 1.081.. Train Linf norm: 16.915.. Val Linf norm: 6.398\n",
            "Epoch 108/149.. Train loss: 104.315.. Val loss: 78.656.. Train L1 norm: 1.344.. Val L1 norm: 1.081.. Train Linf norm: 21.748.. Val Linf norm: 6.379\n",
            "Epoch 109/149.. Train loss: 89.917.. Val loss: 78.654.. Train L1 norm: 1.235.. Val L1 norm: 1.081.. Train Linf norm: 14.458.. Val Linf norm: 6.384\n",
            "Epoch 110/149.. Train loss: 107.023.. Val loss: 78.646.. Train L1 norm: 1.257.. Val L1 norm: 1.081.. Train Linf norm: 16.125.. Val Linf norm: 6.392\n",
            "Epoch 111/149.. Train loss: 74.341.. Val loss: 78.639.. Train L1 norm: 1.276.. Val L1 norm: 1.081.. Train Linf norm: 17.428.. Val Linf norm: 6.398\n",
            "Epoch 112/149.. Train loss: 121.773.. Val loss: 78.650.. Train L1 norm: 1.311.. Val L1 norm: 1.081.. Train Linf norm: 19.459.. Val Linf norm: 6.392\n",
            "Epoch 113/149.. Train loss: 75.747.. Val loss: 78.647.. Train L1 norm: 1.256.. Val L1 norm: 1.081.. Train Linf norm: 16.147.. Val Linf norm: 6.395\n"
          ]
        }
      ],
      "source": [
        "# Visualize Optuna study while its running, alternative to tensorboard\n",
        "#from IPython import display\n",
        "import optuna.visualization as ov\n",
        "\n",
        "def callback(study, trial):\n",
        "    with open('all_trials.json', 'a') as f:\n",
        "        # Save the trial number, value, and parameters to a JSON file.\n",
        "        json.dump({\n",
        "            'number': trial.number,\n",
        "            'value': trial.value,\n",
        "            'params': trial.params\n",
        "        }, f)\n",
        "        # Write a newline character after each trial, so that each trial is on a separate line\n",
        "        f.write('\\n')\n",
        "        save_file('all_trials.json')\n",
        "\n",
        "    # Saving the study to a pickle file\n",
        "    with open(f'{STUDY_NAME}.pkl', 'wb') as f:\n",
        "        pickle.dump(study, f)\n",
        "        save_file(f'{STUDY_NAME}.pkl')\n",
        "\n",
        "    # Save the best trial separately as well.\n",
        "    best_trial_params = study.best_trial.params\n",
        "    with open('best_trial_params.json', 'w') as f:\n",
        "        json.dump(best_trial_params, f)\n",
        "        save_file('best_trial_params.json')\n",
        "\n",
        "    # Visualize the optimization history, and save it as an HTML file.\n",
        "    fig1 = ov.plot_optimization_history(study)\n",
        "    fig1.write_html(f\"optimization_history_{STUDY_NAME}.html\")\n",
        "    save_file(f\"optimization_history_{STUDY_NAME}.html\")\n",
        "    fig1.show()\n",
        "\n",
        "    # Do the same for the other visualizations.\n",
        "    fig2 = ov.plot_slice(study)\n",
        "    fig2.write_html(f\"slice_plot_{STUDY_NAME}.html\")\n",
        "    save_file(f\"slice_plot_{STUDY_NAME}.html\")\n",
        "\n",
        "    # if trial.number % 10 == 0:\n",
        "    #     fig3 = ov.plot_contour(study)\n",
        "    #     fig3.write_html(f\"contour_plot_{STUDY_NAME}.html\")\n",
        "    #     save_file(f\"contour_plot_{STUDY_NAME}.html\")\n",
        "\n",
        "    fig4 = ov.plot_parallel_coordinate(study)\n",
        "    fig4.write_html(f\"parallel_coordinate_plot_{STUDY_NAME}.html\")\n",
        "    save_file(f\"parallel_coordinate_plot_{STUDY_NAME}.html\")\n",
        "\n",
        "    if trial.number > 1: # Required\n",
        "      fig5 = ov.plot_param_importances(study)\n",
        "      fig5.write_html(f\"param_importances_plot_{STUDY_NAME}.html\")\n",
        "      save_file(f\"param_importances_plot_{STUDY_NAME}.html\")\n",
        "\n",
        "        \n",
        "if OPTIMIZE:\n",
        "    # Gave an error in my run on arch bsc_physics_env. It doesn't matter anyway, since we use pickle for saving.\n",
        "    # Include the path to the SQLite file in your create_study call.\n",
        "    # study = optuna.create_study(direction=\"minimize\", \n",
        "                                # sampler=optuna.samplers.TPESampler(), \n",
        "                                # pruner=optuna.pruners.MedianPruner(), \n",
        "                                # storage=f'sqlite:///{STUDY_NAME}.db')\n",
        "    study = optuna.create_study(direction=\"minimize\", sampler=optuna.samplers.TPESampler(), pruner=optuna.pruners.MedianPruner())\n",
        "\n",
        "    study.optimize(objective, n_trials=N_TRIALS, callbacks=[callback])\n",
        "    #study.optimize(objective, n_trials=N_TRIALS)"
      ]
    },
    {
      "cell_type": "markdown",
      "metadata": {
        "id": "jmMfE9_dUZiS"
      },
      "source": [
        "## Training the model"
      ]
    },
    {
      "cell_type": "code",
      "execution_count": null,
      "metadata": {
        "id": "phyiHlWEUZiT"
      },
      "outputs": [],
      "source": [
        "if OPTIMIZE:\n",
        "    # Optimization History\n",
        "    ov.plot_optimization_history(study).show()\n",
        " \n",
        "    # Slice Plot\n",
        "    ov.plot_slice(study).show()\n",
        " \n",
        "    # Contour Plot\n",
        "    # ov.plot_contour(study).show()\n",
        " \n",
        "    # Parallel Coordinate Plot\n",
        "    ov.plot_parallel_coordinate(study).show()\n",
        " \n",
        "    # Hyperparameter Importance Plot\n",
        "    ov.plot_param_importances(study).show()\n",
        "\n",
        "    # Best trial information\n",
        "    print(\"Best trial:\")\n",
        "    trial = study.best_trial\n",
        "    print(\"  Value: \", trial.value)\n",
        "    print(\"  Params: \")\n",
        "    for key, value in trial.params.items():\n",
        "        print(f\"    {key}: {value}\")\n",
        "\n",
        "    # Saving the study to a pickle file\n",
        "    with open(f'{STUDY_NAME}.pkl', 'wb') as f:\n",
        "        pickle.dump(study, f)\n",
        "        save_file(f'{STUDY_NAME}.pkl')\n",
        "\n",
        "    # Save the best trial separately as well.\n",
        "    best_trial_params = study.best_trial.params\n",
        "    with open('best_trial_params.json', 'w') as f:\n",
        "        json.dump(best_trial_params, f)\n",
        "        save_file('best_trial_params.json')"
      ]
    },
    {
      "cell_type": "code",
      "execution_count": null,
      "metadata": {
        "id": "_yq-oY81UZiU"
      },
      "outputs": [],
      "source": [
        "print(\"loss_fn:\", net)\n",
        "print(\"loss_fn:\", loss_fn)\n",
        "print(\"batch_size:\", batch_size)\n",
        "print(\"n_epochs:\", n_epochs)\n",
        "print(\"scheduler:\", scheduler)\n",
        "print(\"loss_name:\", loss_name)\n",
        "print(\"optimizer_name:\", optimizer_name)\n",
        "print(\"scheduler_name:\", scheduler_name)\n",
        "print(\"n_units:\", n_units)\n",
        "print(\"n_layers:\", n_layers)\n",
        "print(\"hidden_activation:\", hidden_activation)\n",
        "print(\"output_activation:\", output_activation)\n",
        "print(\"lr\", lr)\n",
        "print(\"dropout_rate\", dropout_rate)"
      ]
    },
    {
      "cell_type": "markdown",
      "metadata": {
        "id": "E7aLWdZyUZiW",
        "outputId": "8fb1e8c6-5aa3-43a1-a255-712cf9396d0c"
      },
      "source": [
        "After optimizing with Optuna and deciding on the best hyperparameters, we combine the training and validatin set, using that as the new training set for training the model, and then evaluate the model on the test set"
      ]
    },
    {
      "cell_type": "code",
      "execution_count": null,
      "metadata": {
        "id": "jIBboeQX4cno"
      },
      "outputs": [],
      "source": [
        "x_train_val = torch.cat((x_train, x_val), 0)\n",
        "y_train_val = torch.cat((y_train, y_val), 0)\n",
        "\n",
        "train_val_loader = torch.utils.data.DataLoader(\n",
        "    torch.utils.data.TensorDataset(x_train_val, y_train_val), batch_size=batch_size, shuffle=True\n",
        ")\n",
        "test_loader = torch.utils.data.DataLoader(\n",
        "    torch.utils.data.TensorDataset(x_test, y_test), batch_size=batch_size\n",
        ")\n",
        "\n",
        "train_losses, _, test_losses, train_metrics, _, test_metrics, = train_and_eval(\n",
        "    net, loss_fn, optimizer, batch_size, n_epochs, scheduler, train_val_loader, None, test_loader, None\n",
        ")"
      ]
    },
    {
      "cell_type": "markdown",
      "metadata": {
        "id": "akNucrgMUZiW"
      },
      "source": [
        "## Saving"
      ]
    },
    {
      "cell_type": "code",
      "execution_count": null,
      "metadata": {
        "id": "LHsrs2Y-UZic"
      },
      "outputs": [],
      "source": [
        "# create a dictionary to store the rest of the variables\n",
        "import json\n",
        "\n",
        "# save the network to a .pth file\n",
        "torch.save(net.state_dict(), \"net.pth\")\n",
        "save_file(\"net.pth\")\n",
        "\n",
        "# save the optimizer to a .pth file\n",
        "torch.save(optimizer.state_dict(), \"optimizer.pth\")\n",
        "save_file(\"optimizer.pth\")\n",
        "\n",
        "# save the scheduler to a .pth file if it is not None\n",
        "if scheduler is not None:\n",
        "  torch.save(scheduler.state_dict(), \"scheduler.pth\")\n",
        "  save_file(\"scheduler.pth\")\n",
        "\n",
        "# create a dictionary to store the rest of the variables\n",
        "if isinstance(hidden_activation.__class__.__name__, list):\n",
        "    hidden_activation_name = hidden_activation.__class__.__name__[0]\n",
        "else:\n",
        "    hidden_activation_name = hidden_activation.__class__.__name__\n",
        "\n",
        "if isinstance(output_activation.__class__.__name__, list):\n",
        "    output_activation_name = output_activation.__class__.__name__[0]\n",
        "else:\n",
        "    output_activation_name = output_activation.__class__.__name__\n",
        "\n",
        "var_dict = {\n",
        "  \"batch_size\": batch_size,\n",
        "  \"n_epochs\": n_epochs,\n",
        "  \"loss_name\": loss_name,\n",
        "  \"optimizer_name\": optimizer_name,\n",
        "  \"scheduler_name\": scheduler_name,\n",
        "  \"n_units\": n_units,\n",
        "  \"n_layers\": n_layers,\n",
        "  \"hidden_activation_name\": hidden_activation_name,\n",
        "  \"output_activation_name\": output_activation_name,\n",
        "  \"lr\": lr,\n",
        "  \"dropout_rate\": dropout_rate\n",
        "}\n",
        "\n",
        "# Adding the subparameters to the var_dict for saving\n",
        "if hidden_activation_name == \"LeakyReLU\":\n",
        "  var_dict[\"leakyrelu_slope\"] = hidden_activation.negative_slope\n",
        "elif hidden_activation_name == \"PReLU\":\n",
        "  var_dict[\"prelu_init\"] = hidden_activation.weight.item()  # .item() is needed because weight is a tensor\n",
        "elif hidden_activation_name == \"SoftPlus\":\n",
        "  var_dict[\"softplus_beta\"] = hidden_activation.beta\n",
        "\n",
        "# save the dictionary to a .json file\n",
        "with open(\"var_dict.json\", \"w\") as f:\n",
        "  json.dump(var_dict, f)\n",
        "save_file(\"var_dict.json\")\n",
        "\n",
        "# Saving the output of the training using pandas\n",
        "train_df = pd.DataFrame(\n",
        "    {\n",
        "        \"train_loss\": train_losses,\n",
        "        \"test_loss\": test_losses,\n",
        "        \"train_l1_norm\": [m[\"l1_norm\"] for m in train_metrics],\n",
        "        \"test_l1_norm\": [m[\"l1_norm\"] for m in test_metrics],\n",
        "        \"train_linf_norm\": [m[\"linf_norm\"] for m in train_metrics],\n",
        "        \"test_linf_norm\": [m[\"linf_norm\"] for m in test_metrics],\n",
        "    }\n",
        ")\n",
        "train_df.to_csv(\"train_output.csv\", index=False)\n",
        "save_file(\"train_output.csv\")"
      ]
    },
    {
      "cell_type": "code",
      "execution_count": null,
      "metadata": {
        "id": "WDNrony-4cnp"
      },
      "outputs": [],
      "source": [
        "[key for key in var_dict.keys()]"
      ]
    },
    {
      "cell_type": "code",
      "execution_count": null,
      "metadata": {
        "id": "G_Duv4pT4cnp"
      },
      "outputs": [],
      "source": [
        "#%%script echo skipping\n",
        "\n",
        "hidden_activation_name\n",
        "output_activation_name"
      ]
    },
    {
      "cell_type": "markdown",
      "metadata": {
        "id": "qU23l7dIUZie"
      },
      "source": [
        "## Visualizing the results"
      ]
    },
    {
      "cell_type": "code",
      "execution_count": null,
      "metadata": {
        "id": "cippWZS6UZie"
      },
      "outputs": [],
      "source": [
        "# First figure: Train and Test L1 Norm\n",
        "plt.figure(figsize=(6, 4))\n",
        "plt.plot([m[\"l1_norm\"] for m in train_metrics], label=\"Train L1 Norm\", color='blue')\n",
        "plt.plot([m[\"l1_norm\"] for m in test_metrics], label=\"Test L1 Norm\", color='red')\n",
        "plt.xlabel(\"Epoch\")\n",
        "plt.ylabel(\"L1 Norm\")\n",
        "plt.title(\"NNGRX Train and Test L1 Norm per Epoch\")\n",
        "plt.yscale(\"log\")\n",
        "plt.grid(True)\n",
        "plt.xlim(right=200)\n",
        "plt.ylim(1e-3, 1e2)\n",
        "plt.legend()\n",
        "plt.tight_layout()\n",
        "# plt.savefig(\"NNGRX_L1_norm_plot.png\", dpi=300)\n",
        "plt.savefig(\"NNGRX_L1_norm_plot.png\")\n",
        "\n",
        "# Second figure: Train and Test Linf Norm\n",
        "plt.figure(figsize=(6, 4))\n",
        "plt.plot([m[\"linf_norm\"] for m in train_metrics], label=\"Train Linf Norm\", color='blue')\n",
        "plt.plot([m[\"linf_norm\"] for m in test_metrics], label=\"Test Linf Norm\", color='red')\n",
        "plt.xlabel(\"Epoch\")\n",
        "plt.ylabel(\"Linf Norm\")\n",
        "plt.title(\"NNGRX Train and Test Linf Norm per Epoch\")\n",
        "plt.yscale(\"log\")\n",
        "plt.grid(True)\n",
        "plt.xlim(right=200)\n",
        "plt.ylim(1e-3, 1e2)\n",
        "plt.legend()\n",
        "plt.tight_layout()\n",
        "# plt.savefig(\"NNGRX_Linf_norm_plot.png\", dpi=300)\n",
        "plt.savefig(\"NNGRX_Linf_norm_plot.png\")\n",
        "\n",
        "# Third figure: MSE of training data and test data\n",
        "plt.figure(figsize=(6, 4))\n",
        "plt.plot(train_losses, label=\"Training Data\", color='blue')\n",
        "plt.plot(test_losses, label=\"Test Data\", color='red')\n",
        "plt.xlabel(\"Epoch\")\n",
        "plt.ylabel(\"MSE\")\n",
        "plt.title(\"NNGRX MSE of Training and Test Data per Epoch\")\n",
        "plt.yscale(\"log\")\n",
        "plt.grid(True)\n",
        "plt.xlim(right=200)\n",
        "plt.ylim(1e-7, 1e0)\n",
        "plt.legend()\n",
        "plt.tight_layout()\n",
        "# plt.savefig(\"NNGRX_MSE_plot.png\", dpi=300)\n",
        "plt.savefig(\"NNGRX_MSE_plot.png\")"
      ]
    },
    {
      "cell_type": "markdown",
      "metadata": {
        "id": "tiEDutxIUZig"
      },
      "source": [
        "## Loading"
      ]
    },
    {
      "cell_type": "code",
      "execution_count": null,
      "metadata": {
        "id": "p7Mj990wUZih"
      },
      "outputs": [],
      "source": [
        "# load the dictionary from the .json file\n",
        "with open(\"var_dict.json\", \"r\") as f:\n",
        "  var_dict_loaded = json.load(f)\n",
        "\n",
        "# extract the variables from the dictionary\n",
        "batch_size_loaded = var_dict_loaded[\"batch_size\"]\n",
        "n_epochs_loaded = var_dict_loaded[\"n_epochs\"]\n",
        "loss_name_loaded = var_dict_loaded[\"loss_name\"]\n",
        "optimizer_name_loaded = var_dict_loaded[\"optimizer_name\"]\n",
        "scheduler_name_loaded = var_dict_loaded[\"scheduler_name\"]\n",
        "n_units_loaded = var_dict_loaded[\"n_units\"]\n",
        "n_layers_loaded = var_dict_loaded[\"n_layers\"]\n",
        "hidden_activation_name_loaded = var_dict_loaded[\"hidden_activation_name\"]\n",
        "output_activation_name_loaded = var_dict_loaded[\"output_activation_name\"]\n",
        "lr_loaded = var_dict_loaded[\"lr\"]\n",
        "dropout_rate_loaded = var_dict_loaded[\"dropout_rate\"]\n",
        "\n",
        "# Loading the activation functions with subparameters\n",
        "if hidden_activation_name_loaded == \"ReLU\":\n",
        "  hidden_activation_loaded = nn.ReLU()\n",
        "elif hidden_activation_name_loaded == \"LeakyReLU\":\n",
        "  negative_slope_loaded = var_dict_loaded.get(\"leakyrelu_slope\", 0.01)  # For backwards compatibiltiy with earlier models; default to 0.01 if not present\n",
        "  hidden_activation_loaded = nn.LeakyReLU(negative_slope=negative_slope_loaded)\n",
        "elif hidden_activation_name_loaded == \"ELU\":\n",
        "  hidden_activation_loaded = nn.ELU()\n",
        "elif hidden_activation_name_loaded == \"PReLU\":\n",
        "  init_loaded = var_dict_loaded.get(\"prelu_init\", 0.25)  # Default to 0.25 if not present\n",
        "  hidden_activation_loaded = nn.PReLU(init=init_loaded)\n",
        "elif hidden_activation_name_loaded == \"Swish\":\n",
        "    class Swish(nn.Module):\n",
        "        def forward(self, x):\n",
        "            return x * torch.sigmoid(x)\n",
        "    hidden_activation_loaded = Swish()\n",
        "elif hidden_activation_name_loaded == \"GELU\":\n",
        "    hidden_activation_loaded = nn.GELU()\n",
        "elif hidden_activation_name_loaded == \"SoftPlus\":\n",
        "  beta_loaded = var_dict_loaded.get(\"softplus_beta\", 1)  # Default to 1 if not present\n",
        "  hidden_activation_loaded = nn.Softplus(beta=beta_loaded)\n",
        "\n",
        "\n",
        "\n",
        "# We used to have options here, but since we have a regression problem with continuous output, we only use Linear.\n",
        "output_activation_loaded = nn.Identity()\n",
        "\n",
        "# load the network from the .pth file\n",
        "net_loaded = Net(\n",
        "    n_layers_loaded, \n",
        "    n_units_loaded, \n",
        "    hidden_activation_loaded, \n",
        "    output_activation_loaded, \n",
        "    dropout_rate_loaded\n",
        ").to(device)\n",
        "\n",
        "if torch.cuda.is_available():\n",
        " net_loaded.load_state_dict(torch.load(\"net.pth\"))\n",
        "else: \n",
        "  net_loaded.load_state_dict(torch.load(\"net.pth\", map_location=torch.device('cpu')))\n",
        "\n",
        "\n",
        "# Creating the loss function from its name\n",
        "if loss_name_loaded == \"MSE\":\n",
        "    loss_fn_loaded = nn.MSELoss()\n",
        "elif loss_name_loaded == \"MAE\":\n",
        "    loss_fn_loaded = nn.L1Loss()\n",
        "elif loss_name_loaded == \"Huber\":\n",
        "    loss_fn_loaded = nn.SmoothL1Loss() \n",
        "elif loss_name_loaded == \"Quantile\":\n",
        "    def quantile_loss(y_pred, y_true, q=0.5):\n",
        "        e = y_pred - y_true\n",
        "        return torch.mean(torch.max(q*e, (q-1)*e))\n",
        "    loss_fn_loaded = quantile_loss\n",
        "\n",
        "# load the optimizer from the .pth file\n",
        "if torch.cuda.is_available():\n",
        "  optimizer_loaded_state_dict = torch.load(\"optimizer.pth\")\n",
        "else:\n",
        "  optimizer_loaded_state_dict = torch.load(\"optimizer.pth\", map_location=torch.device('cpu'))\n",
        "\n",
        "if optimizer_name_loaded == \"SGD\":\n",
        "  # Added getting the weight decay and momentum parameters from the state dict\n",
        "  weight_decay_loaded = optimizer_loaded_state_dict[\"param_groups\"][0][\"weight_decay\"]\n",
        "  momentum_loaded = optimizer_loaded_state_dict[\"param_groups\"][0][\"momentum\"]\n",
        "  optimizer_loaded = optim.SGD(net_loaded.parameters(), lr=lr_loaded, weight_decay=weight_decay_loaded, momentum=momentum_loaded)\n",
        "elif optimizer_name_loaded == \"Adam\":\n",
        "  # Added getting the weight decay and beta parameters from the state dict\n",
        "  weight_decay_loaded = optimizer_loaded_state_dict[\"param_groups\"][0][\"weight_decay\"]\n",
        "  beta1_loaded = optimizer_loaded_state_dict[\"param_groups\"][0][\"betas\"][0]\n",
        "  beta2_loaded = optimizer_loaded_state_dict[\"param_groups\"][0][\"betas\"][1]\n",
        "  optimizer_loaded = optim.Adam(net_loaded.parameters(), lr=lr_loaded, weight_decay=weight_decay_loaded, betas=(beta1_loaded, beta2_loaded))\n",
        "elif optimizer_name_loaded == \"RMSprop\":\n",
        "  optimizer_loaded = optim.RMSprop(net_loaded.parameters(), lr=lr_loaded)\n",
        "elif optimizer_name_loaded == \"Adagrad\":\n",
        "  # Added loading the Adagrad optimizer\n",
        "  optimizer_loaded = optim.Adagrad(net_loaded.parameters(), lr=lr_loaded)\n",
        "optimizer_loaded.load_state_dict(optimizer_loaded_state_dict)\n",
        "\n",
        "# load the scheduler from the .pth file\n",
        "if torch.cuda.is_available():\n",
        "  scheduler_loaded_state_dict = torch.load(\"scheduler.pth\")\n",
        "else: \n",
        "  scheduler_loaded_state_dict = torch.load(\"scheduler.pth\", map_location=torch.device('cpu'))\n",
        "\n",
        "if scheduler_name_loaded == \"StepLR\":\n",
        "  # Added getting the step_size and gamma parameters from the state dict\n",
        "  step_size_loaded = scheduler_loaded_state_dict[\"step_size\"]\n",
        "  gamma_loaded = scheduler_loaded_state_dict[\"gamma\"]\n",
        "  scheduler_loaded = optim.lr_scheduler.StepLR(optimizer_loaded, step_size=step_size_loaded, gamma=gamma_loaded)\n",
        "elif scheduler_name_loaded == \"ExponentialLR\":\n",
        "  # Added getting the gamma parameter from the state dict\n",
        "  gamma_loaded = scheduler_loaded_state_dict[\"gamma\"]\n",
        "  scheduler_loaded = optim.lr_scheduler.ExponentialLR(optimizer_loaded, gamma=gamma_loaded)\n",
        "elif scheduler_name_loaded == \"CosineAnnealingLR\":\n",
        "  # Added getting the T_max parameter from the state dict\n",
        "  T_max_loaded = scheduler_loaded_state_dict[\"T_max\"]\n",
        "  scheduler_loaded = optim.lr_scheduler.CosineAnnealingLR(optimizer_loaded, T_max=T_max_loaded)\n",
        "elif scheduler_name_loaded == \"ReduceLROnPlateau\":\n",
        "  # Added getting the mode, factor, patience, threshold and min_lr parameters from the state dict\n",
        "  mode_loaded = scheduler_loaded_state_dict[\"mode\"]\n",
        "  factor_loaded = scheduler_loaded_state_dict[\"factor\"]\n",
        "  patience_loaded = scheduler_loaded_state_dict[\"patience\"]\n",
        "  threshold_loaded = scheduler_loaded_state_dict[\"threshold\"]\n",
        "  min_lr_loaded = scheduler_loaded_state_dict[\"min_lrs\"][0]\n",
        "  scheduler_loaded = optim.lr_scheduler.ReduceLROnPlateau(\n",
        "                    optimizer_loaded, mode=mode_loaded, factor=factor_loaded, patience=patience_loaded, threshold=threshold_loaded, min_lr=min_lr_loaded\n",
        "                )\n",
        "elif scheduler_name_loaded == \"CyclicLR\":  # Added CyclicLR\n",
        "    base_lr_loaded = scheduler_loaded_state_dict[\"base_lr\"]\n",
        "    max_lr_loaded = scheduler_loaded_state_dict[\"max_lr\"]\n",
        "    step_size_up_loaded = scheduler_loaded_state_dict[\"step_size_up\"]\n",
        "    scheduler_loaded = optim.lr_scheduler.CyclicLR(\n",
        "                    optimizer, base_lr=base_lr_loaded, max_lr=max_lr_loaded, step_size_up=step_size_up_loaded\n",
        "                )\n",
        "else:\n",
        "  scheduler_loaded = None\n",
        "\n",
        "if scheduler_loaded is not None:\n",
        "  # Added loading the state dict to the scheduler_loaded\n",
        "  scheduler_loaded.load_state_dict(scheduler_loaded_state_dict)\n",
        "\n",
        "# Loading the output of the training using pandas\n",
        "train_df_loaded = pd.read_csv(\"train_output.csv\")\n",
        "train_losses_loaded = train_df_loaded[\"train_loss\"].tolist()\n",
        "test_losses_loaded = train_df_loaded[\"test_loss\"].tolist()\n",
        "train_metrics_loaded = [\n",
        "    {\n",
        "        \"l1_norm\": train_df_loaded[\"train_l1_norm\"][i],\n",
        "        \"linf_norm\": train_df_loaded[\"train_linf_norm\"][i],\n",
        "    }\n",
        "    for i in range(len(train_df_loaded))\n",
        "]\n",
        "test_metrics_loaded = [\n",
        "    {\n",
        "        \"l1_norm\": train_df_loaded[\"test_l1_norm\"][i],\n",
        "        \"linf_norm\": train_df_loaded[\"test_linf_norm\"][i],\n",
        "    }\n",
        "    for i in range(len(train_df_loaded))\n",
        "]\n",
        "\n",
        "if STUDY_NAME is not None:\n",
        "  # Loading the study from the SQLite file\n",
        "  # TODO: Fix this one, or we just use pickle\n",
        "  # study_loaded_db = optuna.load_study(study_name=f'{STUDY_NAME}', \n",
        "  #                           storage=f'sqlite:///{STUDY_NAME}.db')\n",
        "\n",
        "  # Loading the study from the pickle file\n",
        "  with open(f'{STUDY_NAME}.pkl', 'rb') as f:\n",
        "      study_loaded_pkl = pickle.load(f)\n",
        "\n",
        "  # To load the best trial's parameters.\n",
        "  with open('best_trial_params.json', 'r') as f:\n",
        "      best_trial_params_loaded = json.load(f)"
      ]
    },
    {
      "cell_type": "code",
      "execution_count": null,
      "metadata": {
        "id": "n-4pZ2s64cnr"
      },
      "outputs": [],
      "source": [
        "# %%script echo skipping\n",
        "\n",
        "var_dict_loaded[\"batch_size\"]\n",
        "var_dict_loaded[\"n_epochs\"]\n",
        "var_dict_loaded[\"loss_name\"]\n",
        "var_dict_loaded[\"optimizer_name\"]\n",
        "var_dict_loaded[\"scheduler_name\"]\n",
        "var_dict_loaded[\"n_units\"]\n",
        "var_dict_loaded[\"n_layers\"]\n",
        "var_dict_loaded[\"hidden_activation_name\"]\n",
        "var_dict_loaded[\"output_activation_name\"]\n",
        "var_dict_loaded[\"lr\"]\n",
        "var_dict_loaded[\"dropout_rate\"]"
      ]
    },
    {
      "cell_type": "code",
      "execution_count": null,
      "metadata": {
        "id": "-ftGHQjBWUa5"
      },
      "outputs": [],
      "source": [
        "if STUDY_NAME is not None:\n",
        "    study_loaded_pkl\n",
        "    study_loaded_pkl.best_params"
      ]
    },
    {
      "cell_type": "code",
      "execution_count": null,
      "metadata": {
        "id": "QQ0MKbI04cnr"
      },
      "outputs": [],
      "source": [
        "%%script echo skipping\n",
        "\n",
        "scheduler_loaded_state_dict[\"mode\"]\n",
        "scheduler_loaded_state_dict[\"factor\"]\n",
        "scheduler_loaded_state_dict[\"patience\"]\n",
        "scheduler_loaded_state_dict[\"threshold\"]\n",
        "scheduler_loaded_state_dict[\"min_lrs\"]\n",
        "\n",
        "\n",
        "scheduler_loaded_state_dict[\"base_lr\"]\n",
        "scheduler_loaded_state_dict[\"max_lr\"]\n",
        "scheduler_loaded_state_dict[\"step_size_up\"]"
      ]
    },
    {
      "cell_type": "code",
      "execution_count": null,
      "metadata": {
        "id": "bHMdkxsm4cnr"
      },
      "outputs": [],
      "source": [
        "# %%script echo skipping\n",
        "\n",
        "var_dict\n",
        "hidden_activation_name_loaded"
      ]
    },
    {
      "cell_type": "code",
      "execution_count": null,
      "metadata": {
        "id": "GQ_fcj7zUZii"
      },
      "outputs": [],
      "source": [
        "# %%script echo skipping\n",
        "\n",
        "if hidden_activation_name_loaded == \"LeakyReLU\":\n",
        "  var_dict_loaded[\"leakyrelu_slope\"]\n",
        "if hidden_activation_name_loaded == \"PReLU\":\n",
        "  var_dict_loaded[\"prelu_init\"]\n",
        "elif hidden_activation_name_loaded == \"SoftPlus\":\n",
        "  var_dict_loaded[\"softplus_beta\"]\n",
        "\n",
        "batch_size_loaded\n",
        "n_epochs_loaded\n",
        "loss_name_loaded\n",
        "optimizer_name_loaded\n",
        "scheduler_name_loaded\n",
        "n_units_loaded\n",
        "n_layers_loaded\n",
        "hidden_activation_name_loaded\n",
        "output_activation_name_loaded\n",
        "lr_loaded\n",
        "dropout_rate_loaded\n",
        "hidden_activation_loaded\n",
        "output_activation_loaded\n",
        "net_loaded\n",
        "net_loaded.__dict__ # print the subparameters of the network\n",
        "loss_fn_loaded\n",
        "optimizer_loaded\n",
        "optimizer_loaded.__dict__ # print the subparameters of the optimizer\n",
        "if scheduler_loaded is not None:\n",
        "  scheduler_loaded\n",
        "  scheduler_loaded.__dict__ # print the subparameters of the scheduler\n",
        "train_losses_loaded\n",
        "test_losses_loaded\n",
        "train_metrics_loaded\n",
        "test_metrics_loaded\n"
      ]
    },
    {
      "cell_type": "code",
      "execution_count": null,
      "metadata": {
        "id": "wIFp6xgs4cns"
      },
      "outputs": [],
      "source": [
        "train_losses_loaded[-1]\n",
        "test_losses_loaded[-1]\n",
        "test_metrics_loaded[-1]['l1_norm']\n",
        "test_metrics_loaded[-1]['linf_norm']\n",
        "# print(f'Error is {test_metrics_loaded[-1][\"l1_norm\"] / (3.84e-4)} times bigger than in Dieselhorst et al.')\n",
        "# print(f'Error is {test_metrics_loaded[-1][\"linf_norm\"] / (8.14e-3)} times bigger than in Dieselhorst et al.')"
      ]
    },
    {
      "cell_type": "markdown",
      "metadata": {
        "id": "OdOwEngu4cns"
      },
      "source": [
        "### Visualize loaded results"
      ]
    },
    {
      "cell_type": "markdown",
      "metadata": {
        "id": "vwLGR1aSUZik"
      },
      "source": [
        "Let us verify correct loading of the train and test metrics by visualizing them again but now through the loaded values. Likewise for the train and test losses."
      ]
    },
    {
      "cell_type": "code",
      "execution_count": null,
      "metadata": {
        "id": "sXiNgLsmUZil"
      },
      "outputs": [],
      "source": [
        "%config InteractiveShell.ast_node_interactivity = \"last_expr_or_assign\""
      ]
    },
    {
      "cell_type": "code",
      "execution_count": null,
      "metadata": {
        "id": "sgq4WfSiUZil"
      },
      "outputs": [],
      "source": [
        "# Plotting the losses and metrics for the best network plt.figure(figsize=(12, \n",
        "#plt.subplot(2, 2, 1)\n",
        "#plt.plot(train_losses_loaded, label=\"Train Loss\")\n",
        "#plt.plot(test_losses_loaded, label=\"Test Loss\")\n",
        "#plt.xlabel(\"Epoch\")\n",
        "#plt.ylabel(\"Loss\")\n",
        "#plt.legend()\n",
        "plt.subplot(2, 2, 2)\n",
        "plt.plot([m[\"l1_norm\"] for m in train_metrics_loaded], label=\"Train L1 Norm\")\n",
        "plt.plot([m[\"l1_norm\"] for m in test_metrics_loaded], label=\"Test L1 Norm\")\n",
        "plt.xlabel(\"Epoch\")\n",
        "plt.ylabel(\"L1 Norm\")\n",
        "# Added setting the vertical axis to be in powers of 10\n",
        "plt.yscale(\"log\")\n",
        "# Added setting the vertical axis limits to be from 10^-7 to 10^0\n",
        "plt.ylim(1e-3, 1e2)\n",
        "plt.legend()\n",
        "plt.subplot(2, 2, 3)\n",
        "plt.plot([m[\"linf_norm\"] for m in train_metrics_loaded], label=\"Train Linf Norm\")\n",
        "plt.plot([m[\"linf_norm\"] for m in test_metrics_loaded], label=\"Test Linf Norm\")\n",
        "plt.xlabel(\"Epoch\")\n",
        "plt.ylabel(\"Linf Norm\")\n",
        "# Added setting the vertical axis to be in powers of 10\n",
        "plt.yscale(\"log\")\n",
        "# Added setting the vertical axis limits to be from 10^-7 to 10^0\n",
        "plt.ylim(1e-3, 1e2)\n",
        "plt.legend()\n",
        "plt.tight_layout()\n",
        "plt.show()\n",
        "\n",
        "# Added plotting MSE of training data and MSE of test data in one plot \n",
        "plt.figure(figsize=(8, 6))\n",
        "plt.plot(train_losses_loaded,label=\"training data\")\n",
        "plt.plot(test_losses_loaded,label=\"test data\")\n",
        "#if scheduler is not None:\n",
        "#    plt.plot([scheduler.get_last_lr()[0] for _ in range(n_epochs)], label=\"Learning rate\") \n",
        "plt.xlabel(\"Epoch\")\n",
        "plt.ylabel(f\"{loss_name_loaded} Loss\")\n",
        "# Added setting the vertical axis to be in powers of 10\n",
        "plt.yscale(\"log\")\n",
        "# Added setting the vertical axis limits to be from 10^-7 to 10^0\n",
        "plt.ylim(1e-7, 1e0)\n",
        "plt.legend()\n",
        "plt.show()\n"
      ]
    },
    {
      "cell_type": "code",
      "execution_count": null,
      "metadata": {
        "id": "lkgLqJ_UUZim"
      },
      "outputs": [],
      "source": [
        "%config InteractiveShell.ast_node_interactivity = \"all\""
      ]
    },
    {
      "cell_type": "markdown",
      "metadata": {
        "id": "aotL4GJl4cnu"
      },
      "source": [
        "## Counting the number of parameters in the network."
      ]
    },
    {
      "cell_type": "code",
      "execution_count": null,
      "metadata": {
        "id": "_sQl2bTk4cnu"
      },
      "outputs": [],
      "source": [
        "net_loaded.eval()\n",
        "def count_parameters(model):\n",
        "    return sum(p.numel() for p in model.parameters() if p.requires_grad)\n",
        "print(f'The model has {count_parameters(net_loaded)} parameters.')"
      ]
    },
    {
      "cell_type": "markdown",
      "metadata": {
        "id": "SxuzVSnlUZin"
      },
      "source": [
        "## Evaluating the network on arbirary input\n",
        "### Comparing `net` and `net_loaded`\n",
        "\n",
        "We compare `net` and `net_loaded` to confirm correct loading of the network. Note that `net` is only available if we have trained the model in this session."
      ]
    },
    {
      "cell_type": "code",
      "execution_count": null,
      "metadata": {
        "id": "usq1X1KO4cnu"
      },
      "outputs": [],
      "source": [
        "#%%script echo skipping\n",
        "\n",
        "# Set the network to evaluation mode\n",
        "net.eval()"
      ]
    },
    {
      "cell_type": "code",
      "execution_count": null,
      "metadata": {
        "id": "-pwGJnzK4cnv"
      },
      "outputs": [],
      "source": [
        "# Set the network to evaluation mode\n",
        "net_loaded.eval"
      ]
    },
    {
      "cell_type": "code",
      "execution_count": null,
      "metadata": {
        "id": "vXaSZDzX4cnv"
      },
      "outputs": [],
      "source": [
        "for p1, p2 in zip(net.parameters(), net_loaded.parameters()):\n",
        "    if p1.data.ne(p2.data).sum() > 0:\n",
        "        print(\"Parameters are NOT the same.\")\n",
        "        break\n",
        "else:\n",
        "    print(\"Parameters are the same.\")\n",
        "\n",
        "print(\"Net device:\", next(net.parameters()).device)\n",
        "print(\"Net_loaded device:\", next(net_loaded.parameters()).device)"
      ]
    },
    {
      "cell_type": "code",
      "execution_count": null,
      "metadata": {
        "id": "C0PLAA0DUZin"
      },
      "outputs": [],
      "source": [
        "#%%script echo skipping\n",
        "\n",
        "print(list(net.parameters()))"
      ]
    },
    {
      "cell_type": "code",
      "execution_count": null,
      "metadata": {
        "id": "1NZ8iVA7UZio"
      },
      "outputs": [],
      "source": [
        "print(list(net_loaded.parameters()))"
      ]
    },
    {
      "cell_type": "code",
      "execution_count": null,
      "metadata": {
        "id": "InGW0Xq6UZip"
      },
      "outputs": [],
      "source": [
        "rho_example, epsilon_example, vx_example, vy_example, vz_example, Bx_example, By_example, Bz_example, gxx_example, gxy_example, gxz_example, gyy_example, gyz_example, gzz_example = generate_samples(20)\n",
        "\n",
        "inputs =  generate_input_data(rho_example, epsilon_example, vx_example, vy_example, vz_example, Bx_example, By_example, Bz_example, gxx_example, gxy_example, gxz_example, gyy_example, gyz_example, gzz_example)\n",
        "inputs\n"
      ]
    },
    {
      "cell_type": "code",
      "execution_count": null,
      "metadata": {
        "id": "QVa1upmFUZip"
      },
      "outputs": [],
      "source": [
        "#%%script echo skipping\n",
        "\n",
        "# Pass the inputs to the network and get the outputs\n",
        "outputs = [net(input.unsqueeze(0)) for input in inputs]\n",
        "# Print the outputs\n",
        "outputs"
      ]
    },
    {
      "cell_type": "code",
      "execution_count": null,
      "metadata": {
        "id": "E-Xjfo7VUZir"
      },
      "outputs": [],
      "source": [
        "\n",
        "# Pass the inputs to the network and get the outputs\n",
        "outputs = [net_loaded(input.unsqueeze(0)) for input in inputs]\n",
        "# Print the outputs\n",
        "outputs"
      ]
    },
    {
      "cell_type": "markdown",
      "metadata": {
        "id": "xjpIvdybUZis"
      },
      "source": [
        "## Porting the model to C++"
      ]
    },
    {
      "cell_type": "code",
      "execution_count": null,
      "metadata": {
        "id": "VMlEd4RoUZis"
      },
      "outputs": [],
      "source": [
        "import torch.jit\n",
        "\n",
        "# Creating a dummy input tensor of shape (1, 5) to trace the model\n",
        "dummy_input = torch.randn(1, N_INPUTS).to(device)\n",
        "\n",
        "# Ensure that net_loaded is in evaluation mode.\n",
        "net_loaded.eval()\n",
        "\n",
        "# Tracing the model using the torch.jit.trace function\n",
        "traced_model = torch.jit.trace(net_loaded, dummy_input)\n",
        "\n",
        "# Saving the traced model to a file named \"net.pt\"\n",
        "traced_model.save(\"net.pt\")\n",
        "save_file(\"net.pt\")\n",
        "\n",
        "example_input_to_validate_correct_export_and_import = generate_input_data(*generate_samples(1))\n",
        "print(\"input shape: \", example_input_to_validate_correct_export_and_import.shape)\n",
        "print(\"input: \", example_input_to_validate_correct_export_and_import)\n",
        "print(\"Output:\", net_loaded(example_input_to_validate_correct_export_and_import))"
      ]
    }
  ],
  "metadata": {
    "accelerator": "GPU",
    "colab": {
      "machine_shape": "hm",
      "provenance": [],
      "toc_visible": true
    },
    "kernelspec": {
      "display_name": "Python 3",
      "name": "python3"
    },
    "language_info": {
      "codemirror_mode": {
        "name": "ipython",
        "version": 3
      },
      "file_extension": ".py",
      "mimetype": "text/x-python",
      "name": "python",
      "nbconvert_exporter": "python",
      "pygments_lexer": "ipython3",
      "version": "3.11.3"
    }
  },
  "nbformat": 4,
  "nbformat_minor": 0
}