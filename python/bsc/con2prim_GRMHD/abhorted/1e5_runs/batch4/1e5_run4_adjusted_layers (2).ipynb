{
  "cells": [
    {
      "cell_type": "markdown",
      "metadata": {
        "id": "TPvB1xoSUZhR"
      },
      "source": [
        "# Neural network to learn conservative-to-primitive conversion in relativistic hydrodynamics"
      ]
    },
    {
      "cell_type": "markdown",
      "metadata": {
        "id": "__fLZmSf4cm7"
      },
      "source": [
        "## How to use this notebook\n",
        "\n",
        "### Local installation\n",
        "\n",
        "1. Install required packages with `pip install -r requirements.txt` to your desired environment.\n",
        "2. If a script version of this notebook is desired, comment (not uncomment) the first line of `nbconvert` cell.\n",
        "\n",
        "### Colab installation\n",
        "\n",
        "1.  Comment (not uncomment) the first line of the drive mounting cell.\n",
        "2.  Comment (not uncomment) the first line of the `pip install` cell.\n",
        "\n",
        "<!-- - For colab we also want to set the runtime to GPU by clicking _Change runtime_ in the _Runtime_ menu, and -->\n",
        "<!-- - We want to wait for the google drive connection popup to appear and follow the instructions. -->\n",
        "\n",
        "### Loading / Generating data\n",
        "3. Set `LOAD_DATA_FROM_CSV` to `True` / `False` to load data from csv files / generate data in this notebook.\n",
        "\n",
        "### Training without optimization\n",
        "\n",
        "4. Set `OPTIMIZE = False` in section _Constants and flags to set_.\n",
        "5. Run the entire notebook.\n",
        "\n",
        "### Training with optimization\n",
        "\n",
        "4. Set `OPTIMIZE = True` in section _Constants and flags to set_.\n",
        "5. Run the entire notebook.\n",
        "\n",
        "### Loading an already trained model\n",
        "\n",
        "4. Run cells in section _Initialization_.\n",
        "5. Run cells with definitions in section _Input data and labels_.\n",
        "6. Run cell with the definition of _Net_ in section _Defining the neural network_.\n",
        "7. Make sure the `net.pth`, `optimizer.pth`, `scheduler.pth`, `var_dict.json` and `train_output.csv` files are in the directory containing this notebook.\n",
        "8. Run the cells in section _Loading_ and continue from there.\n",
        "\n",
        "### Generating the C++ model\n",
        "\n",
        "9. Run section _Porting the model to C++_, this requires a model to be loaded.\n",
        "10. Set the path to the `net.pt` file in the C++ source file.\n",
        "11. `mkdir build && cd build`,\n",
        "12. Configure a `CMakeLists.txt` file as is done [here](https://pytorch.org/cppdocs/installing.html).\n",
        "13. `cmake -DCMAKE_PREFIX_PATH=/path/to/libtorch/ ..`,\n",
        "14. Compile and run, e.g. `cmake --build . --config release && ./<executable name>`"
      ]
    },
    {
      "cell_type": "markdown",
      "metadata": {
        "id": "Ix44VuOJ4cm9"
      },
      "source": [
        "## Initialization"
      ]
    },
    {
      "cell_type": "markdown",
      "metadata": {
        "id": "pKLcdI-F4cm_"
      },
      "source": [
        "\n",
        "Use this first cell to **convert this notebook** to a python script."
      ]
    },
    {
      "cell_type": "code",
      "execution_count": 83,
      "metadata": {
        "colab": {
          "base_uri": "https://localhost:8080/"
        },
        "id": "eqdgdNLHUZhV",
        "outputId": "e9d43168-d302-480c-c002-b34b830616bc"
      },
      "outputs": [
        {
          "output_type": "stream",
          "name": "stdout",
          "text": [
            "skipping\n"
          ]
        }
      ],
      "source": [
        "%%script echo skipping\n",
        "\n",
        "!jupyter nbconvert GRMHD_ML.ipynb --TagRemovePreprocessor.enabled=True --TagRemovePreprocessor.remove_cell_tags='{\"remove_cell\"}' --to script"
      ]
    },
    {
      "cell_type": "markdown",
      "metadata": {
        "id": "nzcUr0LnUZhw"
      },
      "source": [
        "Next some cells for working on **google colab**,"
      ]
    },
    {
      "cell_type": "code",
      "execution_count": 84,
      "metadata": {
        "id": "6VBGn-gc4cnD"
      },
      "outputs": [],
      "source": [
        "import os\n",
        "import shutil\n",
        "\n",
        "# check if the drive is mounted\n",
        "drive_mounted = os.path.exists(\"/content/drive\")\n",
        "# change this to your desired folder\n",
        "drive_folder = \"/content/drive/My Drive/bsc/con2prim_GRMHD/1e5_runs/adjusted_layers_01_06_23_18_15\"\n",
        "\n",
        "# define a function to save a file to the drive or the current directory\n",
        "def save_file(file_name):\n",
        "  if drive_mounted:\n",
        "    # save the file to the drive folder\n",
        "    file_path = os.path.join(drive_folder, file_name)\n",
        "    # copy the file from the current directory to the drive folder\n",
        "    shutil.copyfile(file_name, file_path)\n",
        "  else:\n",
        "    # do nothing as the file is already in the current directory\n",
        "    pass\n"
      ]
    },
    {
      "cell_type": "code",
      "execution_count": 85,
      "metadata": {
        "colab": {
          "base_uri": "https://localhost:8080/"
        },
        "id": "ecHw2_xlUZhx",
        "outputId": "7e84951e-6556-44c1-81e5-af2d58b6a6fb"
      },
      "outputs": [
        {
          "output_type": "stream",
          "name": "stdout",
          "text": [
            "Drive already mounted at /content/drive; to attempt to forcibly remount, call drive.mount(\"/content/drive\", force_remount=True).\n"
          ]
        }
      ],
      "source": [
        "#%%script echo skipping\n",
        "\n",
        "from google.colab import drive\n",
        "drive.mount('/content/drive')"
      ]
    },
    {
      "cell_type": "code",
      "execution_count": 86,
      "metadata": {
        "colab": {
          "base_uri": "https://localhost:8080/"
        },
        "id": "T1rcStMLUZhy",
        "outputId": "80f15e6c-9826-4caa-8b32-06b1eb86a584"
      },
      "outputs": [
        {
          "output_type": "stream",
          "name": "stdout",
          "text": [
            "Looking in indexes: https://pypi.org/simple, https://us-python.pkg.dev/colab-wheels/public/simple/\n",
            "Requirement already satisfied: optuna in /usr/local/lib/python3.10/dist-packages (3.2.0)\n",
            "Requirement already satisfied: tensorboard in /usr/local/lib/python3.10/dist-packages (2.12.2)\n",
            "Requirement already satisfied: tensorboardX in /usr/local/lib/python3.10/dist-packages (2.6)\n",
            "Requirement already satisfied: plotly in /usr/local/lib/python3.10/dist-packages (5.13.1)\n",
            "Requirement already satisfied: alembic>=1.5.0 in /usr/local/lib/python3.10/dist-packages (from optuna) (1.11.1)\n",
            "Requirement already satisfied: cmaes>=0.9.1 in /usr/local/lib/python3.10/dist-packages (from optuna) (0.9.1)\n",
            "Requirement already satisfied: colorlog in /usr/local/lib/python3.10/dist-packages (from optuna) (6.7.0)\n",
            "Requirement already satisfied: numpy in /usr/local/lib/python3.10/dist-packages (from optuna) (1.22.4)\n",
            "Requirement already satisfied: packaging>=20.0 in /usr/local/lib/python3.10/dist-packages (from optuna) (23.1)\n",
            "Requirement already satisfied: sqlalchemy>=1.3.0 in /usr/local/lib/python3.10/dist-packages (from optuna) (2.0.10)\n",
            "Requirement already satisfied: tqdm in /usr/local/lib/python3.10/dist-packages (from optuna) (4.65.0)\n",
            "Requirement already satisfied: PyYAML in /usr/local/lib/python3.10/dist-packages (from optuna) (6.0)\n",
            "\u001b[33mWARNING: optuna 3.2.0 does not provide the extra 'visualization'\u001b[0m\u001b[33m\n",
            "\u001b[0mRequirement already satisfied: absl-py>=0.4 in /usr/local/lib/python3.10/dist-packages (from tensorboard) (1.4.0)\n",
            "Requirement already satisfied: grpcio>=1.48.2 in /usr/local/lib/python3.10/dist-packages (from tensorboard) (1.54.0)\n",
            "Requirement already satisfied: google-auth<3,>=1.6.3 in /usr/local/lib/python3.10/dist-packages (from tensorboard) (2.17.3)\n",
            "Requirement already satisfied: google-auth-oauthlib<1.1,>=0.5 in /usr/local/lib/python3.10/dist-packages (from tensorboard) (1.0.0)\n",
            "Requirement already satisfied: markdown>=2.6.8 in /usr/local/lib/python3.10/dist-packages (from tensorboard) (3.4.3)\n",
            "Requirement already satisfied: protobuf>=3.19.6 in /usr/local/lib/python3.10/dist-packages (from tensorboard) (3.20.3)\n",
            "Requirement already satisfied: requests<3,>=2.21.0 in /usr/local/lib/python3.10/dist-packages (from tensorboard) (2.27.1)\n",
            "Requirement already satisfied: setuptools>=41.0.0 in /usr/local/lib/python3.10/dist-packages (from tensorboard) (67.7.2)\n",
            "Requirement already satisfied: tensorboard-data-server<0.8.0,>=0.7.0 in /usr/local/lib/python3.10/dist-packages (from tensorboard) (0.7.0)\n",
            "Requirement already satisfied: tensorboard-plugin-wit>=1.6.0 in /usr/local/lib/python3.10/dist-packages (from tensorboard) (1.8.1)\n",
            "Requirement already satisfied: werkzeug>=1.0.1 in /usr/local/lib/python3.10/dist-packages (from tensorboard) (2.3.0)\n",
            "Requirement already satisfied: wheel>=0.26 in /usr/local/lib/python3.10/dist-packages (from tensorboard) (0.40.0)\n",
            "Requirement already satisfied: tenacity>=6.2.0 in /usr/local/lib/python3.10/dist-packages (from plotly) (8.2.2)\n",
            "Requirement already satisfied: Mako in /usr/local/lib/python3.10/dist-packages (from alembic>=1.5.0->optuna) (1.2.4)\n",
            "Requirement already satisfied: typing-extensions>=4 in /usr/local/lib/python3.10/dist-packages (from alembic>=1.5.0->optuna) (4.5.0)\n",
            "Requirement already satisfied: cachetools<6.0,>=2.0.0 in /usr/local/lib/python3.10/dist-packages (from google-auth<3,>=1.6.3->tensorboard) (5.3.0)\n",
            "Requirement already satisfied: pyasn1-modules>=0.2.1 in /usr/local/lib/python3.10/dist-packages (from google-auth<3,>=1.6.3->tensorboard) (0.3.0)\n",
            "Requirement already satisfied: six>=1.9.0 in /usr/local/lib/python3.10/dist-packages (from google-auth<3,>=1.6.3->tensorboard) (1.16.0)\n",
            "Requirement already satisfied: rsa<5,>=3.1.4 in /usr/local/lib/python3.10/dist-packages (from google-auth<3,>=1.6.3->tensorboard) (4.9)\n",
            "Requirement already satisfied: requests-oauthlib>=0.7.0 in /usr/local/lib/python3.10/dist-packages (from google-auth-oauthlib<1.1,>=0.5->tensorboard) (1.3.1)\n",
            "Requirement already satisfied: urllib3<1.27,>=1.21.1 in /usr/local/lib/python3.10/dist-packages (from requests<3,>=2.21.0->tensorboard) (1.26.15)\n",
            "Requirement already satisfied: certifi>=2017.4.17 in /usr/local/lib/python3.10/dist-packages (from requests<3,>=2.21.0->tensorboard) (2022.12.7)\n",
            "Requirement already satisfied: charset-normalizer~=2.0.0 in /usr/local/lib/python3.10/dist-packages (from requests<3,>=2.21.0->tensorboard) (2.0.12)\n",
            "Requirement already satisfied: idna<4,>=2.5 in /usr/local/lib/python3.10/dist-packages (from requests<3,>=2.21.0->tensorboard) (3.4)\n",
            "Requirement already satisfied: greenlet!=0.4.17 in /usr/local/lib/python3.10/dist-packages (from sqlalchemy>=1.3.0->optuna) (2.0.2)\n",
            "Requirement already satisfied: MarkupSafe>=2.1.1 in /usr/local/lib/python3.10/dist-packages (from werkzeug>=1.0.1->tensorboard) (2.1.2)\n",
            "Requirement already satisfied: pyasn1<0.6.0,>=0.4.6 in /usr/local/lib/python3.10/dist-packages (from pyasn1-modules>=0.2.1->google-auth<3,>=1.6.3->tensorboard) (0.5.0)\n",
            "Requirement already satisfied: oauthlib>=3.0.0 in /usr/local/lib/python3.10/dist-packages (from requests-oauthlib>=0.7.0->google-auth-oauthlib<1.1,>=0.5->tensorboard) (3.2.2)\n"
          ]
        }
      ],
      "source": [
        "#%%script echo skipping\n",
        "\n",
        "!pip install optuna optuna[visualization] tensorboard tensorboardX plotly"
      ]
    },
    {
      "cell_type": "markdown",
      "metadata": {
        "id": "msDldnu_4cnF"
      },
      "source": [
        "Importing the **libraries**,"
      ]
    },
    {
      "cell_type": "code",
      "execution_count": 87,
      "metadata": {
        "id": "tREdWQUVUZhz"
      },
      "outputs": [],
      "source": [
        "import numpy as np\n",
        "import matplotlib.pyplot as plt\n",
        "import torch\n",
        "import torch.nn as nn\n",
        "import torch.optim as optim\n",
        "import torch.nn.functional as F\n",
        "import optuna\n",
        "import tensorboardX as tbx\n",
        "import pandas as pd\n",
        "import json\n",
        "import pickle"
      ]
    },
    {
      "cell_type": "markdown",
      "metadata": {
        "id": "38GvmerjUZhz"
      },
      "source": [
        "### Constants and flags to set\n",
        "Defining some constants and parameters for convenience.\n",
        "\n",
        "**NOTE**: Some **subparameters** still need to be adjusted in the `create_model` function itself as of (Tue May 16 07:42:45 AM CEST 2023) in the case the model is being trained without optimization."
      ]
    },
    {
      "cell_type": "code",
      "execution_count": 88,
      "metadata": {
        "id": "ei6VZDYKUZh0"
      },
      "outputs": [],
      "source": [
        "\n",
        "# Checking if GPU is available and setting the device accordingly\n",
        "device = torch.device(\"cuda\" if torch.cuda.is_available() else \"cpu\")\n",
        "\n",
        "N_TRIALS = 5000 # Number of trials for hyperparameter optimization # NOTE: Set this properly.\n",
        "OPTIMIZE = True # Whether to optimize the hyperparameters or to use predetermined values. # NOTE: Set this properly.\n",
        "ZSCORE_NORMALIZATION = False # Whether to z-score normalize the input data.\n",
        "LOAD_DATA_FROM_CSV = False  # If not true we generate the data in this file and save to {x_train,y_train,x_test,y_test}.csv, otherwise we load the data from files of the same name. # NOTE: Set this before properly.\n",
        "STUDY_NAME='1e5_run4_adjusted_layers'\n",
        "\n",
        "csv_filenames = { # File names to load input data and labels from if LOAD_DATA_FROM_CSV is True.\n",
        "    \"x_train\": \"x_train.csv\",\n",
        "    \"x_val\": \"x_val.csv\",\n",
        "    \"x_test\": \"x_test.csv\",\n",
        "    \"y_train\": \"y_train.csv\",\n",
        "    \"y_val\": \"y_val.csv\",\n",
        "    \"y_test\": \"y_test.csv\",\n",
        "}\n",
        "\n",
        "# Values to use for hyperparameters if OPTIMIZE is False; set these to the best parameters found by Optuna.\n",
        "# NOTE: TODO: Currently (Sat May 27 05:16:57 PM CEST 2023) there are still subparameters to be set in create_model function.\n",
        "N_LAYERS_NO_OPT = 3\n",
        "N_UNITS_NO_OPT = [555, 458, 115]\n",
        "HIDDEN_ACTIVATION_NAME_NO_OPT = \"LeakyReLU\"\n",
        "OUTPUT_ACTIVATION_NAME_NO_OPT = \"Linear\"\n",
        "LOSS_NAME_NO_OPT = \"Huber\"\n",
        "OPTIMIZER_NAME_NO_OPT = \"RMSprop\"\n",
        "LR_NO_OPT = 0.000122770896701404\n",
        "BATCH_SIZE_NO_OPT = 49\n",
        "N_EPOCHS_NO_OPT = 500 # NOTE: Set this properly.\n",
        "SCHEDULER_NAME_NO_OPT = \"ReduceLROnPlateau\"\n",
        "DROPOUT_RATE_NO_OPT = 0.2\n",
        "\n",
        "N_INPUTS = 14  # Number of input features.\n",
        "N_OUTPUTS = 1  # Number of outputs.\n",
        "Gamma = 5/3  # Adiabatic index\n",
        "\n",
        "n_samples = 1e5 # NOTE: Set this properly.\n",
        "train_frac = 0.7  # 70% of data for training\n",
        "val_frac = 0.15  # 15% of data for validation, rest for testing\n",
        "\n",
        "rho_interval = (0, 2) \n",
        "epsilon_interval = (1e-2, 2000)  # Will be sampled in log space\n",
        "vx_interval = (0, 0.999)  \n",
        "vy_interval = (0, 0.999)  \n",
        "vz_interval = (0, 0.999)  \n",
        "Bx_interval = (-10, 10)  \n",
        "By_interval = (-10, 10)  \n",
        "Bz_interval = (-10, 10)  \n",
        "gxx_interval = (0.9, 1.1)\n",
        "gxy_interval = (0, 0.1)\n",
        "gxz_interval = (0, 0.1)\n",
        "gyy_interval = (0.9, 1.1)\n",
        "gyz_interval = (0, 0.1)\n",
        "gzz_interval = (0.9, 1.1)\n",
        "\n",
        "np.random.seed(115) # Comment for true random data.\n"
      ]
    },
    {
      "cell_type": "markdown",
      "metadata": {
        "id": "dlaP5UL2UZh1"
      },
      "source": [
        "## Input data and labels\n",
        "\n",
        "We either generate the data or load the data. First the definitions for generating the data come below."
      ]
    },
    {
      "cell_type": "code",
      "execution_count": 89,
      "metadata": {
        "id": "s_EvGFZcUZh1"
      },
      "outputs": [],
      "source": [
        "# Defining an analytic equation of state (EOS) for an ideal gas\n",
        "def eos_analytic(rho, epsilon):\n",
        "    # Adding some assertions to check that the input tensors are valid and have \n",
        "    # the expected shape and type \n",
        "    assert isinstance(rho, torch.Tensor), \"rho must be a torch.Tensor\"\n",
        "    assert isinstance(epsilon, torch.Tensor), \"epsilon must be a torch.Tensor\"\n",
        "    print('rho.shape: ', rho.shape)\n",
        "    print('epsilon.shape: ', epsilon.shape)\n",
        "    assert rho.shape == epsilon.shape, \"rho and epsilon must have the same shape\"\n",
        "    assert rho.ndim == 1, \"rho and epsilon must be one-dimensional tensors\"\n",
        "    assert rho.dtype == torch.float32, \"rho and epsilon must have dtype torch.float32\"\n",
        "\n",
        "    return (Gamma - 1) * rho * epsilon\n",
        "\n",
        "def sample_primitive_variables_and_metric():\n",
        "    rho = np.random.uniform(*rho_interval)  \n",
        "    epsilon = np.random.uniform(*np.log10(epsilon_interval))\n",
        "    vx = np.random.uniform(*vx_interval)  \n",
        "    vy = np.random.uniform(*vy_interval)  \n",
        "    vz = np.random.uniform(*vz_interval)  \n",
        "    Bx = np.random.uniform(*Bx_interval)  \n",
        "    By = np.random.uniform(*By_interval)  \n",
        "    Bz = np.random.uniform(*Bz_interval)  \n",
        "    gxx = np.random.uniform(*gxx_interval)\n",
        "    gxy = np.random.uniform(*gxy_interval)\n",
        "    gxz = np.random.uniform(*gxz_interval)\n",
        "    gyy = np.random.uniform(*gyy_interval)\n",
        "    gyz = np.random.uniform(*gyz_interval)\n",
        "    gzz = np.random.uniform(*gzz_interval)\n",
        "\n",
        "    return rho, epsilon, vx, vy, vz, Bx, By, Bz, gxx, gxy, gxz, gyy, gyz, gzz\n",
        "\n",
        "def check_sample(rho, epsilon, vx, vy, vz, Bx, By, Bz, gxx, gxy, gxz, gyy, gyz, gzz):\n",
        "    wtemp_expr = 1 - (gxx * vx**2 + gyy * vy**2 + gzz * vz**2 + 2 * gxy * vx * vy + 2 * gxz * vx * vz + 2 * gyz * vy * vz)\n",
        "    sdet_expr = gxx * gyy * gzz + 2 * gxy * gxz * gyz - gxx * gyz ** 2 - gyy * gxz ** 2 - gzz * gxy ** 2\n",
        "    if vx**2 + vy**2 + vz**2 >= 1 or wtemp_expr < 0 or sdet_expr < 0:\n",
        "        # print(f\"Sample failed checks. vx^2+vy^2+vz^2: {vx**2 + vy**2 + vz**2}, wtemp_expr: {wtemp_expr}, sdet_expr: {sdet_expr}\")\n",
        "        return False\n",
        "    else:\n",
        "        # print(f\"Sample passed checks. vx^2+vy^2+vz^2: {vx**2 + vy**2 + vz**2}, wtemp_expr: {wtemp_expr}, sdet_expr: {sdet_expr}\")\n",
        "        return True\n",
        "\n",
        "def generate_samples(n_samples):\n",
        "    samples = []\n",
        "    while len(samples) < n_samples:\n",
        "        sample = sample_primitive_variables_and_metric()\n",
        "        if check_sample(*sample):\n",
        "            samples.append(sample)\n",
        "        # print(f\"Number of valid samples: {len(samples)}\")\n",
        "    return zip(*samples)\n",
        "def sdet(gxx, gxy, gxz, gyy, gyz, gzz):\n",
        "    # Determinant of the three metric.\n",
        "    return (gxx * gyy * gzz + 2 * gxy * gxz * gyz - gxx * gyz ** 2 - gyy * gxz ** 2 - gzz * gxy ** 2) ** 0.5\n",
        "\n",
        "# Defining a function that computes conserved variables from primitive variables and the metric\n",
        "# We follow the source code of GRaM-X: A new GPU-accelerated dynamical spacetime GRMHD code for Exascale\n",
        "# computing with the Einstein Toolkit of Shankar et al.\n",
        "def compute_conserved_variables(rho, epsilon, vx, vy, vz, Bx, By, Bz, gxx, gxy, gxz, gyy, gyz, gzz):\n",
        "    pres = eos_analytic(rho, epsilon)\n",
        "    wtemp = 1 / (1 - (gxx * vx**2 + gyy * vy**2 + gzz * vz**2 +\n",
        "        2 * gxy * vx * vy + 2 * gxz * vx * vz +\n",
        "        2 * gyz * vy * vz))**0.5\n",
        "\n",
        "    vlowx = gxx * vx + gxy * vy + gxz * vz\n",
        "    vlowy = gxy * vx + gyy * vy + gyz * vz\n",
        "    vlowz = gxz * vx + gyz * vy + gzz * vz\n",
        "\n",
        "    Bxlow = gxx * Bx + gxy * By + gxz * Bz\n",
        "    Bylow = gxy * Bx + gyy * By + gyz * Bz\n",
        "    Bzlow = gxz * Bx + gyz * By + gzz * Bz\n",
        "\n",
        "    B2 = Bxlow * Bx + Bylow * By + Bzlow * Bz\n",
        "\n",
        "    Bdotv = Bxlow * vx + Bylow * vy + Bzlow * vz\n",
        "    Bdotv2 = Bdotv * Bdotv\n",
        "    wtemp2 = wtemp * wtemp\n",
        "    b2 = B2 / wtemp2 + Bdotv2\n",
        "    ab0 = wtemp * Bdotv\n",
        "\n",
        "    blowx = (gxx * Bx + gxy * By + gxz * Bz) / wtemp + wtemp * Bdotv * vlowx\n",
        "    blowy = (gxy * Bx + gyy * By + gyz * Bz) / wtemp + wtemp * Bdotv * vlowy\n",
        "    blowz = (gxz * Bx + gyz * By + gzz * Bz) / wtemp + wtemp * Bdotv * vlowz\n",
        "\n",
        "    hrhow2 = (rho * (1 + epsilon) + pres + b2) * (wtemp) * (wtemp)\n",
        "\n",
        "    D = sdet(gxx, gxy, gxz, gyy, gyz, gzz) * rho * (wtemp)\n",
        "    Sx = sdet(gxx, gxy, gxz, gyy, gyz, gzz) * (hrhow2 * vlowx - ab0 * blowx)\n",
        "    Sy = sdet(gxx, gxy, gxz, gyy, gyz, gzz) * (hrhow2 * vlowy - ab0 * blowy)\n",
        "    Sz = sdet(gxx, gxy, gxz, gyy, gyz, gzz) * (hrhow2 * vlowz - ab0 * blowz)\n",
        "    tau = sdet(gxx, gxy, gxz, gyy, gyz, gzz) * (hrhow2 - pres - b2 / 2 - ab0 * ab0) - D\n",
        "    Bconsx = sdet(gxx, gxy, gxz, gyy, gyz, gzz) * Bx\n",
        "    Bconsy = sdet(gxx, gxy, gxz, gyy, gyz, gzz) * By\n",
        "    Bconsz = sdet(gxx, gxy, gxz, gyy, gyz, gzz) * Bz\n",
        "\n",
        "    return D, Sx, Sy, Sz, tau, Bconsx, Bconsy, Bconsz\n",
        "\n",
        "def generate_input_data(rho, epsilon, vx, vy, vz, Bx, By, Bz, gxx, gxy, gxz, gyy, gyz, gzz):\n",
        "    rho = torch.tensor(np.array(rho), dtype=torch.float32).to(device)\n",
        "    epsilon = torch.tensor(np.array(epsilon), dtype=torch.float32).to(device)\n",
        "    vx = torch.tensor(np.array(vx), dtype=torch.float32).to(device)\n",
        "    vy = torch.tensor(np.array(vy), dtype=torch.float32).to(device)\n",
        "    vz = torch.tensor(np.array(vz), dtype=torch.float32).to(device)\n",
        "    Bx = torch.tensor(np.array(Bx), dtype=torch.float32).to(device)\n",
        "    By = torch.tensor(np.array(By), dtype=torch.float32).to(device)\n",
        "    Bz = torch.tensor(np.array(Bz), dtype=torch.float32).to(device)\n",
        "    gxx = torch.tensor(np.array(gxx), dtype=torch.float32).to(device)\n",
        "    gxy = torch.tensor(np.array(gxy), dtype=torch.float32).to(device)\n",
        "    gxz = torch.tensor(np.array(gxz), dtype=torch.float32).to(device)\n",
        "    gyy = torch.tensor(np.array(gyy), dtype=torch.float32).to(device)\n",
        "    gyz = torch.tensor(np.array(gyz), dtype=torch.float32).to(device)\n",
        "    gzz = torch.tensor(np.array(gzz), dtype=torch.float32).to(device)\n",
        "\n",
        "    D, Sx, Sy, Sz, tau, Bscriptx, Bscripty, Bscriptz = compute_conserved_variables(\n",
        "        rho, epsilon, vx, vy, vz, Bx, By, Bz, gxx, gxy, gxz, gyy, gyz, gzz\n",
        "    ) \n",
        "\n",
        "    # Add gxx, gxy, gxz, gyy, gyz, gzz to the tensor\n",
        "    x = torch.stack([D, Sx, Sy, Sz, tau, Bscriptx, Bscripty, Bscriptz, gxx, gxy, gxz, gyy, gyz, gzz], axis=1)\n",
        "    return x\n",
        "\n",
        "# Defining a function that generates output data (labels) from given samples of primitive variables\n",
        "# We use the definitions as given in Recovery schemes for primitive variables in\n",
        "# general-relativistic magnetohydrodynamics of Siegel et al.\n",
        "def generate_labels(rho, epsilon, vx, vy, vz):\n",
        "    # Converting the numpy arrays to torch tensors and moving them to the device\n",
        "    rho = torch.tensor(np.array(rho), dtype=torch.float32).to(device)\n",
        "    epsilon = torch.tensor(np.array(epsilon), dtype=torch.float32).to(device)\n",
        "    vx = torch.tensor(np.array(vx), dtype=torch.float32).to(device)\n",
        "    vy = torch.tensor(np.array(vy), dtype=torch.float32).to(device)\n",
        "    vz = torch.tensor(np.array(vz), dtype=torch.float32).to(device)\n",
        "\n",
        "    # Computing the required quantities\n",
        "    pres = eos_analytic(rho, epsilon)\n",
        "    h = 1 + epsilon + pres / rho\n",
        "    W = 1 / torch.sqrt(1 - (vx * vx + vy * vy + vz * vz))\n",
        "\n",
        "    # Returning the output data tensor\n",
        "    return h * W"
      ]
    },
    {
      "cell_type": "markdown",
      "metadata": {
        "id": "SSJd2Ch74cnI"
      },
      "source": [
        "### Generating or loading input data and labels"
      ]
    },
    {
      "cell_type": "code",
      "execution_count": 90,
      "metadata": {
        "id": "Dbu0GvMz4cnI"
      },
      "outputs": [],
      "source": [
        "%config InteractiveShell.ast_node_interactivity = \"all\""
      ]
    },
    {
      "cell_type": "code",
      "execution_count": 91,
      "metadata": {
        "id": "cKubR6C8UZh4"
      },
      "outputs": [],
      "source": [
        "if LOAD_DATA_FROM_CSV:\n",
        "    # Load the data from CSV files\n",
        "    x_train = pd.read_csv(csv_filenames[\"x_train\"]).values\n",
        "    y_train = pd.read_csv(csv_filenames[\"y_train\"]).values.squeeze()  # reshape to 1D\n",
        "    x_val = pd.read_csv(csv_filenames[\"x_val\"]).values\n",
        "    y_val = pd.read_csv(csv_filenames[\"y_val\"]).values.squeeze()  # reshape to 1D\n",
        "    x_test = pd.read_csv(csv_filenames[\"x_test\"]).values\n",
        "    y_test = pd.read_csv(csv_filenames[\"y_test\"]).values.squeeze()  # reshape to 1D\n",
        "\n",
        "    # Convert numpy arrays to tensors\n",
        "    x_train = torch.from_numpy(x_train).float().to(device)\n",
        "    y_train = torch.from_numpy(y_train).float().to(device)\n",
        "    x_val = torch.from_numpy(x_val).float().to(device)\n",
        "    y_val = torch.from_numpy(y_val).float().to(device)\n",
        "    x_test = torch.from_numpy(x_test).float().to(device)\n",
        "    y_test = torch.from_numpy(y_test).float().to(device)\n",
        "\n",
        "    # This is an alternative to having if clauses around the cells that visualize these variables.\n",
        "    rho = epsilon = vx = vy = vz = Bx = By = Bz = gxx = gxy = gxz = gyy = gyz  = gzz = None"
      ]
    },
    {
      "cell_type": "code",
      "execution_count": 92,
      "metadata": {
        "id": "dImVa4W04cnJ"
      },
      "outputs": [],
      "source": [
        "if not LOAD_DATA_FROM_CSV:\n",
        "    # Sample primitive variables and metric\n",
        "    rho, epsilon, vx, vy, vz, Bx, By, Bz, gxx, gxy, gxz, gyy, gyz, gzz = generate_samples(n_samples)"
      ]
    },
    {
      "cell_type": "code",
      "execution_count": 93,
      "metadata": {
        "colab": {
          "base_uri": "https://localhost:8080/"
        },
        "id": "ESK3LQPg4cnJ",
        "outputId": "2760bf69-85dc-4b49-abc1-0da174fb5515"
      },
      "outputs": [
        {
          "output_type": "stream",
          "name": "stdout",
          "text": [
            "rho.shape:  torch.Size([100000])\n",
            "epsilon.shape:  torch.Size([100000])\n",
            "rho.shape:  torch.Size([100000])\n",
            "epsilon.shape:  torch.Size([100000])\n"
          ]
        }
      ],
      "source": [
        "if not LOAD_DATA_FROM_CSV:\n",
        "    # Generate data and labels.\n",
        "    x = generate_input_data(rho, epsilon, vx, vy, vz, Bx, By, Bz, gxx, gxy, gxz, gyy, gyz, gzz)\n",
        "    y = generate_labels(rho, epsilon, vx, vy, vz)\n",
        "\n",
        "    # Calculate the number of samples in each set\n",
        "    n_train_samples = int(n_samples * train_frac)\n",
        "    n_val_samples = int(n_samples * val_frac)\n",
        "\n",
        "    # Create the data sets\n",
        "    x_train = x[:n_train_samples]\n",
        "    y_train = y[:n_train_samples]\n",
        "    x_val = x[n_train_samples : n_train_samples + n_val_samples]\n",
        "    y_val = y[n_train_samples : n_train_samples + n_val_samples]\n",
        "    x_test = x[n_train_samples + n_val_samples :]\n",
        "    y_test = y[n_train_samples + n_val_samples :]\n",
        "\n",
        "    # Save the data to CSV files; tensors need to be converted numpy arrays for saving in CSV.\n",
        "    pd.DataFrame(x_train.cpu().numpy()).to_csv(csv_filenames[\"x_train\"], index=False)\n",
        "    save_file(csv_filenames[\"x_train\"])\n",
        "    pd.DataFrame(y_train.cpu().numpy()).to_csv(csv_filenames[\"y_train\"], index=False)\n",
        "    save_file(csv_filenames[\"y_train\"])\n",
        "\n",
        "    pd.DataFrame(x_val.cpu().numpy()).to_csv(csv_filenames[\"x_val\"], index=False)\n",
        "    save_file(csv_filenames[\"x_val\"])\n",
        "    pd.DataFrame(y_val.cpu().numpy()).to_csv(csv_filenames[\"y_val\"], index=False)\n",
        "    save_file(csv_filenames[\"y_val\"])\n",
        "\n",
        "    pd.DataFrame(x_test.cpu().numpy()).to_csv(csv_filenames[\"x_test\"], index=False)\n",
        "    save_file(csv_filenames[\"x_test\"])\n",
        "    pd.DataFrame(y_test.cpu().numpy()).to_csv(csv_filenames[\"y_test\"], index=False)\n",
        "    save_file(csv_filenames[\"y_test\"])"
      ]
    },
    {
      "cell_type": "code",
      "execution_count": 94,
      "metadata": {
        "colab": {
          "base_uri": "https://localhost:8080/"
        },
        "id": "Y-3DG_h24cnJ",
        "outputId": "d3b6bbcd-8d17-48b9-878d-68e9ce9b5b3d"
      },
      "outputs": [
        {
          "output_type": "execute_result",
          "data": {
            "text/plain": [
              "torch.Size([70000, 14])"
            ]
          },
          "metadata": {},
          "execution_count": 94
        },
        {
          "output_type": "execute_result",
          "data": {
            "text/plain": [
              "torch.Size([70000])"
            ]
          },
          "metadata": {},
          "execution_count": 94
        },
        {
          "output_type": "execute_result",
          "data": {
            "text/plain": [
              "torch.Size([15000, 14])"
            ]
          },
          "metadata": {},
          "execution_count": 94
        },
        {
          "output_type": "execute_result",
          "data": {
            "text/plain": [
              "torch.Size([15000])"
            ]
          },
          "metadata": {},
          "execution_count": 94
        },
        {
          "output_type": "execute_result",
          "data": {
            "text/plain": [
              "torch.Size([15000, 14])"
            ]
          },
          "metadata": {},
          "execution_count": 94
        },
        {
          "output_type": "execute_result",
          "data": {
            "text/plain": [
              "torch.Size([15000])"
            ]
          },
          "metadata": {},
          "execution_count": 94
        },
        {
          "output_type": "execute_result",
          "data": {
            "text/plain": [
              "tensor([[1.5045e+00, 3.2385e+01, 1.9055e+01,  ..., 9.7732e-01, 4.6190e-02,\n",
              "         9.1937e-01],\n",
              "        [2.7141e+00, 1.3692e+02, 6.1492e+01,  ..., 1.0720e+00, 8.3413e-02,\n",
              "         9.4300e-01],\n",
              "        [6.7168e-01, 4.1030e+01, 3.1855e+01,  ..., 1.1000e+00, 5.4461e-02,\n",
              "         1.0701e+00],\n",
              "        ...,\n",
              "        [4.6261e-01, 3.5479e+01, 6.5492e+00,  ..., 9.0237e-01, 5.3224e-02,\n",
              "         9.3470e-01],\n",
              "        [2.9709e-01, 6.8603e+01, 8.2226e+01,  ..., 9.5977e-01, 7.6813e-02,\n",
              "         1.0064e+00],\n",
              "        [6.7134e-01, 4.9644e+01, 4.5094e+01,  ..., 9.8908e-01, 2.7402e-02,\n",
              "         9.0366e-01]], device='cuda:0')"
            ]
          },
          "metadata": {},
          "execution_count": 94
        },
        {
          "output_type": "execute_result",
          "data": {
            "text/plain": [
              "tensor([-0.0554,  8.3401,  8.0351,  ...,  1.0210, 18.6787,  1.8504],\n",
              "       device='cuda:0')"
            ]
          },
          "metadata": {},
          "execution_count": 94
        },
        {
          "output_type": "execute_result",
          "data": {
            "text/plain": [
              "tensor([[ 1.4078e+00,  2.6004e+01,  1.1290e+01,  ...,  1.0749e+00,\n",
              "          4.5125e-02,  1.0333e+00],\n",
              "        [ 2.1945e+00, -2.0650e+01, -1.4870e+00,  ...,  1.0131e+00,\n",
              "          1.7517e-02,  9.8039e-01],\n",
              "        [ 2.0771e+00,  1.5500e+01,  6.3878e+00,  ...,  1.0640e+00,\n",
              "          9.1723e-02,  1.0824e+00],\n",
              "        ...,\n",
              "        [ 2.5963e+00,  1.1594e+01,  4.6718e+00,  ...,  1.0073e+00,\n",
              "          4.9477e-02,  1.0684e+00],\n",
              "        [ 6.3314e-01,  5.3795e+01,  2.6129e+01,  ...,  9.8436e-01,\n",
              "          4.5260e-02,  9.6421e-01],\n",
              "        [ 5.3413e-01,  2.2151e+01,  4.9855e+01,  ...,  1.0447e+00,\n",
              "          3.0640e-02,  9.6789e-01]], device='cuda:0')"
            ]
          },
          "metadata": {},
          "execution_count": 94
        },
        {
          "output_type": "execute_result",
          "data": {
            "text/plain": [
              "tensor([ 1.5822, 14.1786, -2.3643,  ...,  2.4786,  2.9464,  4.5571],\n",
              "       device='cuda:0')"
            ]
          },
          "metadata": {},
          "execution_count": 94
        },
        {
          "output_type": "execute_result",
          "data": {
            "text/plain": [
              "tensor([[3.7573e-01, 2.5625e+00, 1.5614e-01,  ..., 9.8082e-01, 6.5013e-02,\n",
              "         9.4280e-01],\n",
              "        [3.5581e+00, 6.2257e+01, 6.4933e+01,  ..., 1.0757e+00, 5.6995e-03,\n",
              "         1.0619e+00],\n",
              "        [3.7663e+00, 1.4809e+02, 1.5831e+01,  ..., 9.7278e-01, 6.2563e-02,\n",
              "         9.7305e-01],\n",
              "        ...,\n",
              "        [2.9896e+00, 2.6442e+00, 2.5723e+01,  ..., 9.5384e-01, 8.8227e-02,\n",
              "         1.0165e+00],\n",
              "        [6.1485e-01, 7.3721e+01, 2.3413e+01,  ..., 9.6764e-01, 3.5499e-03,\n",
              "         9.4087e-01],\n",
              "        [2.3738e+00, 5.5604e+01, 1.6758e+01,  ..., 9.2474e-01, 9.1332e-02,\n",
              "         1.0281e+00]], device='cuda:0')"
            ]
          },
          "metadata": {},
          "execution_count": 94
        },
        {
          "output_type": "execute_result",
          "data": {
            "text/plain": [
              "tensor([-2.9374,  7.6339, 70.5768,  ...,  7.6756, -2.9413,  7.2076],\n",
              "       device='cuda:0')"
            ]
          },
          "metadata": {},
          "execution_count": 94
        }
      ],
      "source": [
        "\n",
        "x_train.shape\n",
        "y_train.shape\n",
        "x_val.shape\n",
        "y_val.shape\n",
        "x_test.shape\n",
        "y_test.shape\n",
        "x_train\n",
        "y_train\n",
        "x_val\n",
        "y_val\n",
        "x_test\n",
        "y_test"
      ]
    },
    {
      "cell_type": "code",
      "execution_count": 95,
      "metadata": {
        "colab": {
          "base_uri": "https://localhost:8080/"
        },
        "id": "xdpjCNO94cnK",
        "outputId": "5f632bf6-ec51-4b6f-a8b4-c2085226a841"
      },
      "outputs": [
        {
          "output_type": "execute_result",
          "data": {
            "text/plain": [
              "tensor(False, device='cuda:0')"
            ]
          },
          "metadata": {},
          "execution_count": 95
        },
        {
          "output_type": "execute_result",
          "data": {
            "text/plain": [
              "tensor(False, device='cuda:0')"
            ]
          },
          "metadata": {},
          "execution_count": 95
        },
        {
          "output_type": "execute_result",
          "data": {
            "text/plain": [
              "tensor(False, device='cuda:0')"
            ]
          },
          "metadata": {},
          "execution_count": 95
        },
        {
          "output_type": "execute_result",
          "data": {
            "text/plain": [
              "tensor(False, device='cuda:0')"
            ]
          },
          "metadata": {},
          "execution_count": 95
        },
        {
          "output_type": "execute_result",
          "data": {
            "text/plain": [
              "tensor(False, device='cuda:0')"
            ]
          },
          "metadata": {},
          "execution_count": 95
        },
        {
          "output_type": "execute_result",
          "data": {
            "text/plain": [
              "tensor(False, device='cuda:0')"
            ]
          },
          "metadata": {},
          "execution_count": 95
        }
      ],
      "source": [
        "torch.isnan(x_train).any()\n",
        "torch.isnan(x_val).any()\n",
        "torch.isnan(x_test).any()\n",
        "torch.isnan(y_train).any()\n",
        "torch.isnan(y_val).any()\n",
        "torch.isnan(y_test).any()"
      ]
    },
    {
      "cell_type": "code",
      "execution_count": 96,
      "metadata": {
        "colab": {
          "base_uri": "https://localhost:8080/"
        },
        "id": "X1uRb5P04cnK",
        "outputId": "f3255f93-19a7-4d45-dc48-49a634228e60"
      },
      "outputs": [
        {
          "output_type": "execute_result",
          "data": {
            "text/plain": [
              "(tensor([], device='cuda:0', dtype=torch.int64),\n",
              " tensor([], device='cuda:0', dtype=torch.int64))"
            ]
          },
          "metadata": {},
          "execution_count": 96
        },
        {
          "output_type": "execute_result",
          "data": {
            "text/plain": [
              "(tensor([], device='cuda:0', dtype=torch.int64),\n",
              " tensor([], device='cuda:0', dtype=torch.int64))"
            ]
          },
          "metadata": {},
          "execution_count": 96
        },
        {
          "output_type": "execute_result",
          "data": {
            "text/plain": [
              "(tensor([], device='cuda:0', dtype=torch.int64),\n",
              " tensor([], device='cuda:0', dtype=torch.int64))"
            ]
          },
          "metadata": {},
          "execution_count": 96
        }
      ],
      "source": [
        "nan_mask_train = torch.isnan(x_train)     # get a boolean mask indicating NaN values\n",
        "nan_indices_train = torch.where(nan_mask_train)  # get the indices of the NaN values\n",
        "nan_indices_train\n",
        "# len(nan_indices_train)\n",
        "\n",
        "nan_mask_val = torch.isnan(x_val)     # get a boolean mask indicating NaN values\n",
        "nan_indices_val = torch.where(nan_mask_val)  # get the indices of the NaN values\n",
        "nan_indices_val\n",
        "# len(nan_indices_test)\n",
        "\n",
        "nan_mask_test = torch.isnan(x_test)     # get a boolean mask indicating NaN values\n",
        "nan_indices_test = torch.where(nan_mask_test)  # get the indices of the NaN values\n",
        "nan_indices_test\n",
        "# len(nan_indices_test)"
      ]
    },
    {
      "cell_type": "markdown",
      "metadata": {
        "id": "HC0o0Myn4cnK"
      },
      "source": [
        "## Visualizing the data"
      ]
    },
    {
      "cell_type": "markdown",
      "metadata": {
        "id": "Myrn0owg4cnL"
      },
      "source": [
        "### Visualizing sampled data"
      ]
    },
    {
      "cell_type": "code",
      "execution_count": 97,
      "metadata": {
        "colab": {
          "base_uri": "https://localhost:8080/"
        },
        "id": "5CXNfzzz4cnL",
        "outputId": "d5d6a259-62ca-4cd8-d7eb-8b60a76afcd3"
      },
      "outputs": [
        {
          "output_type": "stream",
          "name": "stdout",
          "text": [
            "skipping\n"
          ]
        }
      ],
      "source": [
        "%%script echo skipping\n",
        "\n",
        "if not LOAD_DATA_FROM_CSV:\n",
        "    rho\n",
        "    epsilon\n",
        "    vx\n",
        "    vy\n",
        "    vz \n",
        "    Bx\n",
        "    By\n",
        "    Bz\n",
        "    gxx\n",
        "    gxy\n",
        "    gxz\n",
        "    gyy\n",
        "    gyz\n",
        "    gzz "
      ]
    },
    {
      "cell_type": "code",
      "execution_count": 98,
      "metadata": {
        "colab": {
          "base_uri": "https://localhost:8080/"
        },
        "id": "jEj1uLoV4cnL",
        "outputId": "efdaf618-268e-45eb-cfd9-92225cbdda8d"
      },
      "outputs": [
        {
          "output_type": "stream",
          "name": "stdout",
          "text": [
            "100000\n",
            "100000\n",
            "100000\n",
            "100000\n",
            "100000\n",
            "100000\n",
            "100000\n",
            "100000\n",
            "\n",
            "100000\n",
            "100000\n",
            "100000\n",
            "100000\n",
            "100000\n",
            "100000\n"
          ]
        }
      ],
      "source": [
        "if not LOAD_DATA_FROM_CSV:\n",
        "    print(len(rho))\n",
        "    print(len(epsilon))\n",
        "    print(len(vx))\n",
        "    print(len(vy))\n",
        "    print(len(vz))\n",
        "    print(len(Bx))\n",
        "    print(len(By))\n",
        "    print(len(Bz))\n",
        "    print()\n",
        "    print(len(gxx))\n",
        "    print(len(gxy))\n",
        "    print(len(gxz))\n",
        "    print(len(gyy))\n",
        "    print(len(gyz))\n",
        "    print(len(gzz))"
      ]
    },
    {
      "cell_type": "code",
      "execution_count": 99,
      "metadata": {
        "id": "VMp6XJ6RUZh4"
      },
      "outputs": [],
      "source": [
        "%config InteractiveShell.ast_node_interactivity = \"last_expr_or_assign\""
      ]
    },
    {
      "cell_type": "code",
      "execution_count": 100,
      "metadata": {
        "colab": {
          "base_uri": "https://localhost:8080/"
        },
        "id": "F6urnHAr4cnM",
        "outputId": "184bf99c-0647-407f-8bfa-05b6cf40c232"
      },
      "outputs": [
        {
          "output_type": "stream",
          "name": "stdout",
          "text": [
            "skipping\n"
          ]
        }
      ],
      "source": [
        "%%script echo skipping\n",
        "\n",
        "plt.hist([np.random.uniform(0, 0.999) for _ in range(n_train_samples)], bins=20)"
      ]
    },
    {
      "cell_type": "code",
      "execution_count": 101,
      "metadata": {
        "colab": {
          "base_uri": "https://localhost:8080/"
        },
        "id": "2iNL6ULb4cnM",
        "outputId": "f7b509ab-1074-4945-93c6-60fe3f4ea4e5"
      },
      "outputs": [
        {
          "output_type": "stream",
          "name": "stdout",
          "text": [
            "skipping\n"
          ]
        }
      ],
      "source": [
        "%%script echo skipping\n",
        "\n",
        "epsilon"
      ]
    },
    {
      "cell_type": "markdown",
      "metadata": {
        "id": "hydjma5V4cnM"
      },
      "source": [
        "The reason the sampling is not uniformly distributed in the following plots is due to the resampling and the fact that we certain values of e.g. velocity are more likely to violate the speed of light constraint than others."
      ]
    },
    {
      "cell_type": "code",
      "execution_count": 102,
      "metadata": {
        "colab": {
          "base_uri": "https://localhost:8080/",
          "height": 1000
        },
        "id": "E5YFdqKjUZh5",
        "outputId": "d60206e9-aafd-4486-b560-24e844ac73e2"
      },
      "outputs": [
        {
          "output_type": "display_data",
          "data": {
            "text/plain": [
              "<Figure size 2000x1600 with 14 Axes>"
            ],
            "image/png": "[encoded data removed]"
          },
          "metadata": {}
        }
      ],
      "source": [
        "#%%script echo skipping\n",
        "\n",
        "if not LOAD_DATA_FROM_CSV:\n",
        "    def plot_histogram(data, xlabel, ylabel, position, bins=20, xlog_scale=False, ylog_scale=False):\n",
        "        plt.subplot(4, 5, position)\n",
        "        plt.hist(data, bins=bins)\n",
        "        plt.xlabel(xlabel)\n",
        "        plt.ylabel(ylabel)\n",
        "        if xlog_scale: # Setting does not work expected for epsilon.\n",
        "            plt.xscale(\"log\")\n",
        "        if ylog_scale: # Setting does not work expected for epsilon.\n",
        "            plt.yscale(\"log\")\n",
        "\n",
        "    # Plotting the histograms of rho, vx, epsilon, b0, b1, b2, and b3\n",
        "    bins = 20\n",
        "    plt.figure(figsize=(20, 16))\n",
        "\n",
        "    plot_histogram(rho, \"rho\", \"Frequency\", 1, bins=bins)\n",
        "    plot_histogram(epsilon, \"epsilon\", \"Frequency\", 2, bins=bins)\n",
        "    plot_histogram(vx, \"vx\", \"Frequency\", 3, bins=bins)\n",
        "    plot_histogram(vy, \"vy\", \"Frequency\", 4, bins=bins)\n",
        "    plot_histogram(vz, \"vz\", \"Frequency\", 5, bins=bins)\n",
        "    plot_histogram(Bx, \"Bx\", \"Frequency\", 6, bins=bins)\n",
        "    plot_histogram(By, \"By\", \"Frequency\", 7, bins=bins)\n",
        "    plot_histogram(Bz, \"Bz\", \"Frequency\", 8, bins=bins)\n",
        "\n",
        "    # Plot these\n",
        "    plot_histogram(gxx, \"gxx\", \"Frequency\", 9, bins=bins)\n",
        "    plot_histogram(gxy, \"gxy\", \"Frequency\", 10, bins=bins)\n",
        "    plot_histogram(gxz, \"gxz\", \"Frequency\", 11, bins=bins)\n",
        "    plot_histogram(gyy, \"gyy\", \"Frequency\", 12, bins=bins)\n",
        "    plot_histogram(gyz, \"gyz\", \"Frequency\", 13, bins=bins)\n",
        "    plot_histogram(gzz, \"gzz\", \"Frequency\", 14, bins=bins)\n",
        "\n",
        "\n",
        "    plt.suptitle(\"Primitive variables and metric\")\n",
        "    plt.tight_layout()\n",
        "    plt.show()\n"
      ]
    },
    {
      "cell_type": "code",
      "execution_count": 103,
      "metadata": {
        "id": "sUNNNX5e4cnN"
      },
      "outputs": [],
      "source": [
        "%config InteractiveShell.ast_node_interactivity = \"last_expr_or_assign\""
      ]
    },
    {
      "cell_type": "code",
      "execution_count": 104,
      "metadata": {
        "colab": {
          "base_uri": "https://localhost:8080/",
          "height": 1000
        },
        "id": "et4AFTXb4cnN",
        "outputId": "789fee75-67e0-4407-b579-6a89fe95f7e8"
      },
      "outputs": [
        {
          "output_type": "display_data",
          "data": {
            "text/plain": [
              "<Figure size 1600x1600 with 14 Axes>"
            ],
            "image/png": "[encoded data removed]"
          },
          "metadata": {}
        }
      ],
      "source": [
        "#%%script echo skipping\n",
        "\n",
        "# Variable names\n",
        "variable_names = [\"D\", \"Sx\", \"Sy\", \"Sz\", \"tau\", \"Bconsx\", \"Bconsy\", \"Bconsz\", \"gxx\", \"gxy\", \"gxz\", \"gyy\", \"gyz\", \"gzz\"]\n",
        "\n",
        "# Plotting histograms of the input variables before z-score normalization\n",
        "plt.figure(figsize=(16, 16))\n",
        "plt.suptitle('Histograms of input variables before (or without at all) z-score normalization', y=1.03)\n",
        "\n",
        "for i in range(N_INPUTS):\n",
        "    plt.subplot(7, 2, i+1)\n",
        "    data = x_train[:, i].cpu().numpy() # Convert tensor to numpy array for percentile calculation\n",
        "    lower_bound, upper_bound = np.percentile(data, [1, 100]) # NOTE: Use this instead to visualize all the data.\n",
        "    # lower_bound, upper_bound = np.percentile(data, [1, 90]) # Calculate 1st and 99th percentile\n",
        "\n",
        "    plt.hist(data, bins=50, range=(lower_bound, upper_bound)) # Set range to the calculated percentile range\n",
        "    plt.xlabel(variable_names[i])\n",
        "    plt.xlim(lower_bound, upper_bound) # Set the x limit to match the range of the histogram\n",
        "\n",
        "plt.subplots_adjust(hspace=0.4, wspace=0.4)\n",
        "plt.show()\n",
        "\n",
        "# Same plotting but for the test data. Adjust the percentile range as needed to zoom in.\n",
        "# plt.figure(figsize=(16, 16))\n",
        "# plt.suptitle('Histograms of input variables before (or without at all) z-score normalization (test data)', y=1.03)\n",
        "\n",
        "# for i in range(14):\n",
        "#     plt.subplot(7, 2, i+1)\n",
        "#     data = x_test[:, i].cpu().numpy() # Convert tensor to numpy array for percentile calculation\n",
        "#     #lower_bound, upper_bound = np.percentile(data, [1, 100]) # NOTE: Use this instead to visualize all the data.\n",
        "#     lower_bound, upper_bound = np.percentile(data, [1, 99]) # Use this to zoom in.\n",
        "\n",
        "#     plt.hist(data, bins=50, range=(lower_bound, upper_bound)) # Set range to the calculated percentile range\n",
        "#     plt.xlabel(variable_names[i])\n",
        "#     plt.xlim(lower_bound, upper_bound) # Set the x limit to match the range of the histogram\n",
        "\n",
        "# plt.subplots_adjust(hspace=0.4, wspace=0.4)\n",
        "# plt.show()\n",
        "\n"
      ]
    },
    {
      "cell_type": "markdown",
      "metadata": {
        "id": "oQ8r4X8b4cnO"
      },
      "source": [
        "### Data normalization"
      ]
    },
    {
      "cell_type": "code",
      "execution_count": 105,
      "metadata": {
        "colab": {
          "base_uri": "https://localhost:8080/"
        },
        "id": "QBlz2cHo4cnO",
        "outputId": "f526e1e6-9275-4b2e-a4bf-6b0ac73ed81a"
      },
      "outputs": [
        {
          "output_type": "stream",
          "name": "stdout",
          "text": [
            "Summary statistics of input variables before z-score normalization\n",
            "tensor([[ 3.9407e-05,  4.7379e+02,  2.3048e+00,  1.6828e+00,  4.3000e+00],\n",
            "        [-1.0990e+04,  1.5585e+05,  4.4897e+01,  2.2008e+01,  9.4364e+02],\n",
            "        [-1.3150e+04,  8.6435e+04,  4.5342e+01,  2.2022e+01,  7.0652e+02],\n",
            "        [-1.1055e+04,  1.1851e+05,  4.4537e+01,  2.1854e+01,  7.4570e+02],\n",
            "        [-1.8386e+04,  1.8779e+05,  1.0428e+02,  6.9950e+01,  1.3477e+03],\n",
            "        [-1.1080e+01,  1.1293e+01,  6.1377e-03, -1.3971e-02,  5.7344e+00],\n",
            "        [-1.1241e+01,  1.1300e+01, -1.4717e-02, -5.2160e-03,  5.7396e+00],\n",
            "        [-1.1271e+01,  1.1189e+01, -1.8065e-02, -4.3525e-02,  5.7254e+00],\n",
            "        [ 9.0000e-01,  1.1000e+00,  9.9888e-01,  9.9807e-01,  5.7456e-02],\n",
            "        [ 1.9544e-06,  1.0000e-01,  4.9703e-02,  4.9521e-02,  2.8927e-02],\n",
            "        [ 2.8540e-06,  9.9998e-02,  4.9523e-02,  4.9201e-02,  2.8768e-02],\n",
            "        [ 9.0000e-01,  1.1000e+00,  9.9871e-01,  9.9786e-01,  5.7754e-02],\n",
            "        [ 4.3515e-08,  9.9999e-02,  4.9475e-02,  4.9226e-02,  2.8927e-02],\n",
            "        [ 9.0000e-01,  1.1000e+00,  9.9874e-01,  9.9812e-01,  5.7716e-02]],\n",
            "       device='cuda:0')\n"
          ]
        }
      ],
      "source": [
        "# Computing summary statistics of the input variables before and after z-score normalization\n",
        "print('Summary statistics of input variables before z-score normalization')\n",
        "print(torch.stack([torch.min(x_train, dim=0).values, torch.max(x_train, dim=0).values, torch.nanmean(x_train, dim=0), torch.median(x_train, dim=0).values, torch.std(x_train, dim=0)], dim=1))"
      ]
    },
    {
      "cell_type": "markdown",
      "metadata": {
        "id": "xTEmkR1SUZh7"
      },
      "source": [
        "Perform z-score normalization"
      ]
    },
    {
      "cell_type": "code",
      "execution_count": 106,
      "metadata": {
        "id": "skDi8Xbh4cnO"
      },
      "outputs": [],
      "source": [
        "%config InteractiveShell.ast_node_interactivity = \"all\""
      ]
    },
    {
      "cell_type": "code",
      "execution_count": 107,
      "metadata": {
        "id": "yPOv6DxhUZh7"
      },
      "outputs": [],
      "source": [
        "if ZSCORE_NORMALIZATION:\n",
        "    \n",
        "    # TODO: Add magnetic field variables to the normalization if I decide to use the old code that is commented out here.\n",
        "    # # Computing the median of each input variable from the training set using torch.nanmedian function\n",
        "    # D_median = torch.nanmedian(x_train[:, 0])\n",
        "    # Sx_median = torch.nanmedian(x_train[:, 1])\n",
        "    # Sy_median = torch.nanmedian(x_train[:, 2])\n",
        "    # Sz_median = torch.nanmedian(x_train[:, 3])\n",
        "    # tau_median = torch.nanmedian(x_train[:, 4])\n",
        "\n",
        "    # # Computing the standard deviation of each input variable from the training set using torch.std function with a boolean mask to ignore nan values\n",
        "    # D_std = torch.std(x_train[~torch.isnan(x_train[:, 0]), 0])\n",
        "    # Sx_std = torch.std(x_train[~torch.isnan(x_train[:, 1]), 1])\n",
        "    # Sy_std = torch.std(x_train[~torch.isnan(x_train[:, 2]), 2])\n",
        "    # Sz_std = torch.std(x_train[~torch.isnan(x_train[:, 3]), 3])\n",
        "    # tau_std = torch.std(x_train[~torch.isnan(x_train[:, 4]), 4])\n",
        "\n",
        "\n",
        "    # # Applying z-score normalization to both train and test sets using the statistics from the training set\n",
        "    # x_train[:, 0] = torch.sub(x_train[:, 0], D_median).div(D_std)\n",
        "    # x_train[:, 1] = torch.sub(x_train[:, 1], Sx_median).div(Sx_std)\n",
        "    # x_train[:, 2] = torch.sub(x_train[:, 2], Sy_median).div(Sy_std)\n",
        "    # x_train[:, 3] = torch.sub(x_train[:, 3], Sz_median).div(Sz_std)\n",
        "    # x_train[:, 4] = torch.sub(x_train[:, 4], tau_median).div(tau_std)\n",
        "\n",
        "    # x_test[:, 0] = torch.sub(x_test[:, 0], D_median).div(D_std)\n",
        "    # x_test[:, 1] = torch.sub(x_test[:, 1], Sx_median).div(Sx_std)\n",
        "    # x_test[:, 2] = torch.sub(x_test[:, 2], Sy_median).div(Sy_std)\n",
        "    # x_test[:, 3] = torch.sub(x_test[:, 3], Sz_median).div(Sz_std)\n",
        "    # x_test[:, 4] = torch.sub(x_test[:, 4], tau_median).div(tau_std)\n",
        "\n",
        "    # Computing the mean and standard deviation of each column\n",
        "    mean = x_train.mean(dim=0)\n",
        "    std = x_train.std(dim=0)\n",
        "\n",
        "    # Applying z-score normalization\n",
        "    x_train = (x_train - mean) / std\n",
        "    # Use the same mean and std from the training data as we don't want test data leakage.\n",
        "    x_test = (x_test - mean) / std\n",
        "\n"
      ]
    },
    {
      "cell_type": "markdown",
      "metadata": {
        "id": "5xqeJJH34cnc"
      },
      "source": [
        "Plotting the histograms of the input data after normalization if z-score normalization was performed."
      ]
    },
    {
      "cell_type": "code",
      "execution_count": 108,
      "metadata": {
        "id": "IknQpxd94cnc"
      },
      "outputs": [],
      "source": [
        "%config InteractiveShell.ast_node_interactivity = \"last_expr_or_assign\""
      ]
    },
    {
      "cell_type": "code",
      "execution_count": 109,
      "metadata": {
        "id": "u30TMn0q4cnc"
      },
      "outputs": [],
      "source": [
        "if not LOAD_DATA_FROM_CSV:\n",
        "    if ZSCORE_NORMALIZATION:\n",
        "        # Variable names\n",
        "        variable_names = [\"D\", \"Sx\", \"Sy\", \"Sz\", \"tau\", \"Bconsx\", \"Bconsy\", \"Bconsz\", \"gxx\", \"gxy\", \"gxz\", \"gyy\", \"gyz\", \"gzz\"]\n",
        "\n",
        "        # Plotting histograms of the input variables before z-score normalization\n",
        "        plt.figure(figsize=(16, 16))\n",
        "        plt.suptitle('Histograms of input variables before (or without at all) z-score normalization', y=1.03)\n",
        "\n",
        "        for i in range(N_INPUTS):\n",
        "            plt.subplot(7, 2, i+1)\n",
        "            data = x_train[:, i].cpu().numpy() # Convert tensor to numpy array for percentile calculation\n",
        "            lower_bound, upper_bound = np.percentile(data, [1, 100]) # NOTE: Use this instead to visualize all the data.\n",
        "            # lower_bound, upper_bound = np.percentile(data, [1, 90]) # Calculate 1st and 99th percentile\n",
        "\n",
        "            plt.hist(data, bins=50, range=(lower_bound, upper_bound)) # Set range to the calculated percentile range\n",
        "            plt.xlabel(variable_names[i])\n",
        "            plt.xlim(lower_bound, upper_bound) # Set the x limit to match the range of the histogram\n",
        "\n",
        "        plt.subplots_adjust(hspace=0.4, wspace=0.4)\n",
        "        plt.show()"
      ]
    },
    {
      "cell_type": "code",
      "execution_count": 110,
      "metadata": {
        "id": "U_SBKnoX4cnd"
      },
      "outputs": [],
      "source": [
        "if ZSCORE_NORMALIZATION:\n",
        "    # Computing summary statistics of the input variables after z-score normalization\n",
        "    print('Summary statistics of input variables after z-score normalization')\n",
        "    print(torch.stack([torch.min(x_train, dim=0).values, torch.max(x_train, dim=0).values, torch.mean(x_train, dim=0), torch.median(x_train, dim=0).values, torch.std(x_train, dim=0)], dim=1))\n"
      ]
    },
    {
      "cell_type": "markdown",
      "metadata": {
        "id": "34JFkBNc4cnd"
      },
      "source": [
        "### Visualizing input data and labels"
      ]
    },
    {
      "cell_type": "code",
      "execution_count": 111,
      "metadata": {
        "colab": {
          "base_uri": "https://localhost:8080/"
        },
        "id": "8TkfblGD4cnd",
        "outputId": "48ad0b04-2b44-4ecb-b788-52b9d7655307"
      },
      "outputs": [
        {
          "output_type": "execute_result",
          "data": {
            "text/plain": [
              "tensor([-2.9374,  7.6339, 70.5768,  ...,  7.6756, -2.9413,  7.2076],\n",
              "       device='cuda:0')"
            ]
          },
          "metadata": {},
          "execution_count": 111
        }
      ],
      "source": [
        "x_train\n",
        "y_train\n",
        "x_val\n",
        "y_val\n",
        "x_test\n",
        "y_test"
      ]
    },
    {
      "cell_type": "markdown",
      "metadata": {
        "id": "E96p_MsOUZh9",
        "outputId": "4b95bad0-8f3a-4364-eed1-008e0ce2a5e3"
      },
      "source": [
        "Checking if our output is always positive ~~by plotting a histogram of y_train and y_test tensors~~"
      ]
    },
    {
      "cell_type": "code",
      "execution_count": 112,
      "metadata": {
        "colab": {
          "base_uri": "https://localhost:8080/"
        },
        "id": "oRXf8ib_4cne",
        "outputId": "20696ff8-255e-4681-9a1e-0350b1f77638"
      },
      "outputs": [
        {
          "output_type": "stream",
          "name": "stdout",
          "text": [
            "tensor(True)\n"
          ]
        }
      ],
      "source": [
        "import torch\n",
        "\n",
        "# Create a sample tensor\n",
        "tensor = torch.randn(80000, 14)  # Assuming a tensor of shape [80000, 14]\n",
        "tensor\n",
        "\n",
        "\n",
        "# Check if any element is negative\n",
        "any_negative = torch.any(tensor < 0)\n",
        "\n",
        "# Print the result\n",
        "print(any_negative)\n"
      ]
    },
    {
      "cell_type": "code",
      "execution_count": 113,
      "metadata": {
        "colab": {
          "base_uri": "https://localhost:8080/"
        },
        "id": "1pWymsnT4cne",
        "outputId": "9e1720ba-d5ca-46a5-fc88-1c44cb094ad9"
      },
      "outputs": [
        {
          "output_type": "execute_result",
          "data": {
            "text/plain": [
              "tensor(True, device='cuda:0')"
            ]
          },
          "metadata": {},
          "execution_count": 113
        }
      ],
      "source": [
        "y_train.shape\n",
        "any_negative = torch.any(y_train < 0)\n",
        "any_negative\n",
        "\n",
        "y_test.shape\n",
        "any_negative = torch.any(y_test < 0)\n",
        "any_negative\n",
        "\n",
        "x_train.shape\n",
        "any_negative = torch.any(x_train < 0)\n",
        "any_negative"
      ]
    },
    {
      "cell_type": "code",
      "execution_count": 114,
      "metadata": {
        "colab": {
          "base_uri": "https://localhost:8080/",
          "height": 407
        },
        "id": "I8j5uTN94cne",
        "outputId": "80671a05-5e83-41a1-bb8e-d77668b4d74f"
      },
      "outputs": [
        {
          "output_type": "display_data",
          "data": {
            "text/plain": [
              "<Figure size 800x400 with 3 Axes>"
            ],
            "image/png": "[encoded data removed]"
          },
          "metadata": {}
        }
      ],
      "source": [
        "#%%script echo skipping\n",
        "\n",
        "plt.figure(figsize=(8, 4))\n",
        "plt.subplot(1, 3, 1)\n",
        "plt.hist(y_train.cpu().numpy(), bins=100) # must be cpu here.\n",
        "plt.xlabel(\"y_train\")\n",
        "plt.ylabel(\"Frequency\")\n",
        "plt.xscale(\"log\")\n",
        "plt.subplot(1, 3, 2)\n",
        "plt.hist(y_val.cpu().numpy(), bins=100) # must be cpu here\n",
        "plt.xlabel(\"y_val\")\n",
        "plt.ylabel(\"Frequency\")\n",
        "plt.xscale(\"log\")\n",
        "plt.tight_layout()\n",
        "plt.subplot(1, 3, 3)\n",
        "plt.hist(y_test.cpu().numpy(), bins=100) # must be cpu here\n",
        "plt.xlabel(\"y_test\")\n",
        "plt.ylabel(\"Frequency\")\n",
        "plt.xscale(\"log\")\n",
        "plt.tight_layout()\n",
        "plt.show()\n"
      ]
    },
    {
      "cell_type": "code",
      "execution_count": 115,
      "metadata": {
        "id": "FEgjk--AUZh9"
      },
      "outputs": [],
      "source": [
        "%config InteractiveShell.ast_node_interactivity = \"all\""
      ]
    },
    {
      "cell_type": "markdown",
      "metadata": {
        "id": "r2b9GecHUZh9"
      },
      "source": [
        "## Defining the neural network"
      ]
    },
    {
      "cell_type": "code",
      "execution_count": 116,
      "metadata": {
        "id": "Iv8HA-ZXUZh-"
      },
      "outputs": [],
      "source": [
        "# Defining a class for the network\n",
        "class Net(nn.Module):\n",
        "    \"\"\"A class for creating a network with a\n",
        "    variable number of hidden layers and units.\n",
        "\n",
        "    Attributes:\n",
        "        n_layers (int): The number of hidden layers in the network.\n",
        "        n_units (list): A list of integers representing the number of units in each hidden layer.\n",
        "        hidden_activation (torch.nn.Module): The activation function for the hidden layers.\n",
        "        output_activation (torch.nn.Module): The activation function for the output layer.\n",
        "        layers (torch.nn.ModuleList): A list of linear layers in the network.\n",
        "    \"\"\"\n",
        "\n",
        "    def __init__(self, n_layers, n_units, hidden_activation, output_activation, dropout_rate):\n",
        "        \"\"\"Initializes the network with the given hyperparameters.\n",
        "\n",
        "        Args:\n",
        "            n_layers (int): The number of hidden layers in the network.\n",
        "            n_units (list): A list of integers representing the number of units in each hidden layer.\n",
        "            hidden_activation (torch.nn.Module): The activation function for the hidden layers.\n",
        "            output_activation (torch.nn.Module): The activation function for the output layer.\n",
        "            TODO: [ver. Copilot description] dropout_rate (float): The dropout rate to use for all layers.\n",
        "        \"\"\"\n",
        "        super().__init__()\n",
        "        self.n_layers = n_layers\n",
        "        self.n_units = n_units\n",
        "        self.hidden_activation = hidden_activation\n",
        "        self.output_activation = output_activation\n",
        "        self.dropout_rate = dropout_rate\n",
        "\n",
        "        # Creating a list of linear layers with different numbers of units for each layer\n",
        "        self.layers = nn.ModuleList()\n",
        "        self.dropouts = nn.ModuleList()\n",
        "\n",
        "        self.layers.append(nn.Linear(N_INPUTS, n_units[0]))\n",
        "        self.dropouts.append(nn.Dropout(p=dropout_rate))\n",
        "\n",
        "        for i in range(1, n_layers):\n",
        "            self.layers.append(nn.Linear(n_units[i - 1], n_units[i]))\n",
        "            self.dropouts.append(nn.Dropout(p=dropout_rate))\n",
        "\n",
        "        self.layers.append(nn.Linear(n_units[-1], N_OUTPUTS))\n",
        "\n",
        "        # Adding some assertions to check that the input arguments are valid\n",
        "        assert isinstance(n_layers, int) and n_layers > 0, \"n_layers must be a positive integer\"\n",
        "        assert isinstance(n_units, list) and len(n_units) == n_layers, \"n_units must be a list of length n_layers\"\n",
        "        assert all(isinstance(n, int) and n > 0 for n in n_units), \"n_units must contain positive integers\"\n",
        "        assert isinstance(hidden_activation, nn.Module), \"hidden_activation must be a torch.nn.Module\"\n",
        "        assert isinstance(output_activation, nn.Module), \"output_activation must be a torch.nn.Module\"\n",
        "\n",
        "    def forward(self, x):\n",
        "        \"\"\"Performs a forward pass on the input tensor.\n",
        "\n",
        "        Args:\n",
        "            x (torch.Tensor): The input tensor of shape (batch_size, N_INPUTS).\n",
        "\n",
        "        Returns:\n",
        "            torch.Tensor: The output tensor of shape (batch_size, N_OUTPUTS).\n",
        "        \"\"\"\n",
        "        # Adding an assertion to check that the input tensor has the expected shape and type\n",
        "        assert isinstance(x, torch.Tensor), \"x must be a torch.Tensor\"\n",
        "        assert x.shape[1] == N_INPUTS, f\"x must have shape (batch_size, {N_INPUTS})\"\n",
        "\n",
        "        for layer, dropout in zip(self.layers[:-1], self.dropouts):\n",
        "            x = dropout(self.hidden_activation(layer(x)))\n",
        "        # Applying the linear transformation and the activation function on the output layer\n",
        "        x = self.output_activation(self.layers[-1](x)) # No dropout at output layer\n",
        "\n",
        "        return x # Returning the output tensor\n"
      ]
    },
    {
      "cell_type": "code",
      "execution_count": 117,
      "metadata": {
        "colab": {
          "base_uri": "https://localhost:8080/"
        },
        "id": "4zShBNVG4cnf",
        "outputId": "ac65ff33-fae9-40ef-b61c-6575ec2b438d"
      },
      "outputs": [
        {
          "output_type": "stream",
          "name": "stdout",
          "text": [
            "skipping\n"
          ]
        }
      ],
      "source": [
        "%%script echo skipping\n",
        "\n",
        "[1,2,3]\n",
        "[1,2,3][:-1]"
      ]
    },
    {
      "cell_type": "code",
      "execution_count": 118,
      "metadata": {
        "colab": {
          "base_uri": "https://localhost:8080/"
        },
        "id": "3c3WaPyv4cng",
        "outputId": "5d151588-46ff-4541-d934-873cd8e38aeb"
      },
      "outputs": [
        {
          "output_type": "stream",
          "name": "stdout",
          "text": [
            "1\n",
            "2\n"
          ]
        }
      ],
      "source": [
        "for x in [1,2,3][:-1]:\n",
        "    print(x)\n",
        "\n"
      ]
    },
    {
      "cell_type": "markdown",
      "metadata": {
        "id": "6GNvp55PUZh_"
      },
      "source": [
        "## Defining the model and search space"
      ]
    },
    {
      "cell_type": "code",
      "execution_count": 119,
      "metadata": {
        "id": "9a1opluOUZh_"
      },
      "outputs": [],
      "source": [
        "# Defining a function to create a trial network and optimizer\n",
        "def create_model(trial, optimize):\n",
        "    \"\"\"Creates a trial network and optimizer based on the sampled hyperparameters.\n",
        "\n",
        "    Args:\n",
        "        trial (optuna.trial.Trial): The trial object that contains the hyperparameters.\n",
        "        optimize (boolean): Whether to optimize the hyperparameters or to use predefined values.\n",
        "\n",
        "    Returns:\n",
        "        tuple: A tuple of (net, loss_fn, optimizer, batch_size, n_epochs,\n",
        "            scheduler, loss_name, optimizer_name, scheduler_name,\n",
        "            n_units, n_layers, hidden_activation, output_activation),\n",
        "            where net is the trial network,\n",
        "            loss_fn is the loss function,\n",
        "            optimizer is the optimizer,\n",
        "            batch_size is the batch size,\n",
        "            n_epochs is the number of epochs,\n",
        "            scheduler is the learning rate scheduler,\n",
        "            loss_name is the name of the loss function,\n",
        "            optimizer_name is the name of the optimizer,\n",
        "            scheduler_name is the name of the scheduler,\n",
        "            n_units is a list of integers representing\n",
        "            the number of units in each hidden layer,\n",
        "            n_layers is an integer representing the number of hidden layers in the network,\n",
        "            hidden_activation is a torch.nn.Module representing the activation function for the hidden layers,\n",
        "            output_activation is a torch.nn.Module representing the activation function for the output layer,\n",
        "            lr is the (initial) learning rate.\n",
        "            dropout_rate is the dropout rate.\n",
        "    \"\"\"\n",
        "    # If optimize is True, sample the hyperparameters from the search space\n",
        "    if OPTIMIZE:\n",
        "        n_layers = trial.suggest_int(\"n_layers\", 1, 10)\n",
        "        n_units = [trial.suggest_int(f\"n_units_{i}\", 16, 4096) for i in range(n_layers)]\n",
        "\n",
        "        hidden_activation_name = trial.suggest_categorical(\n",
        "            \"hidden_activation\", [\"ReLU\", \"LeakyReLU\", \"ELU\", \"PReLU\", \"Swish\", \"GELU\", \"SoftPlus\"]\n",
        "        )\n",
        "        output_activation_name = trial.suggest_categorical( \"output_activation\", [\"Linear\"])\n",
        "\n",
        "        loss_name = trial.suggest_categorical( \"loss\", [\"MSE\", \"MAE\", \"Huber\", \"Quantile\"]) \n",
        "\n",
        "        optimizer_name = trial.suggest_categorical( \"optimizer\", [\"Adam\", \"SGD\", \"RMSprop\", \"Adagrad\"] )\n",
        "\n",
        "        lr = trial.suggest_loguniform(\"lr\", 1e-4, 1e-2)\n",
        "\n",
        "        batch_size_list = [32, 64, 128, 256, 512, 1024, 2048]\n",
        "        batch_size = trial.suggest_categorical(\"batch_size\", batch_size_list)\n",
        "        \n",
        "        n_epochs = trial.suggest_int(\"n_epochs\", 50, 150)\n",
        "\n",
        "        # scheduler_name = trial.suggest_categorical(\"scheduler\", [\"CosineAnnealingLR\", \"ReduceLROnPlateau\", \"StepLR\", \"CyclicLR\"])\n",
        "        scheduler_name = trial.suggest_categorical(\"scheduler\", [\"CosineAnnealingLR\", \"ReduceLROnPlateau\", \"StepLR\"])\n",
        "\n",
        "        # Creating the activation functions from their names\n",
        "        if hidden_activation_name == \"ReLU\":\n",
        "            hidden_activation = nn.ReLU()\n",
        "        elif hidden_activation_name == \"LeakyReLU\":\n",
        "            negative_slope = trial.suggest_uniform(\"leakyrelu_slope\", 0.01, 0.3)\n",
        "            hidden_activation = nn.LeakyReLU(negative_slope=negative_slope)\n",
        "        elif hidden_activation_name == \"ELU\":\n",
        "            hidden_activation = nn.ELU() \n",
        "        elif hidden_activation_name == \"PReLU\":\n",
        "            init = trial.suggest_uniform(\"prelu_init\", 0.1, 0.3)\n",
        "            hidden_activation = nn.PReLU(init=init)\n",
        "        elif hidden_activation_name == \"Swish\":\n",
        "            class Swish(nn.Module):\n",
        "                def forward(self, x):\n",
        "                    return x * torch.sigmoid(x)\n",
        "            hidden_activation = Swish()\n",
        "        elif hidden_activation_name == \"GELU\":\n",
        "            hidden_activation = nn.GELU()\n",
        "        elif hidden_activation_name == \"SoftPlus\":\n",
        "            beta = trial.suggest_uniform(\"softplus_beta\", 0.5, 1.5)\n",
        "            hidden_activation = nn.Softplus(beta=beta) # We don't optimize thresshold subparameters, as it's mainly for numerical stability.\n",
        "\n",
        "        dropout_rate = trial.suggest_uniform(\"dropout_rate\", 0.0, 0.5)\n",
        "\n",
        "\n",
        "    # If optimize is False, use the predefined values\n",
        "    else:\n",
        "        # Setting the hyperparameters to the predefined values\n",
        "        n_layers = N_LAYERS_NO_OPT\n",
        "        n_units = N_UNITS_NO_OPT\n",
        "        hidden_activation_name = HIDDEN_ACTIVATION_NAME_NO_OPT\n",
        "        output_activation_name = OUTPUT_ACTIVATION_NAME_NO_OPT\n",
        "        loss_name = LOSS_NAME_NO_OPT\n",
        "        optimizer_name = OPTIMIZER_NAME_NO_OPT\n",
        "        lr = LR_NO_OPT\n",
        "        batch_size = BATCH_SIZE_NO_OPT\n",
        "        n_epochs = N_EPOCHS_NO_OPT\n",
        "        scheduler_name = SCHEDULER_NAME_NO_OPT\n",
        "\n",
        "        # Creating the activation functions from their names\n",
        "        if hidden_activation_name == \"ReLU\":\n",
        "            hidden_activation = nn.ReLU()\n",
        "        elif hidden_activation_name == \"LeakyReLU\":\n",
        "            negative_slope = 0.01\n",
        "            hidden_activation = nn.LeakyReLU(negative_slope=negative_slope)\n",
        "        elif hidden_activation_name == \"ELU\":\n",
        "            hidden_activation = nn.ELU() \n",
        "        elif hidden_activation_name == \"PReLU\":\n",
        "            init = 0.25\n",
        "            hidden_activation = nn.PReLU(init=init)\n",
        "        elif hidden_activation_name == \"Swish\":\n",
        "            class Swish(nn.Module):\n",
        "                def forward(self, x):\n",
        "                    return x * torch.sigmoid(x)\n",
        "            hidden_activation = Swish()\n",
        "        elif hidden_activation_name == \"GELU\":\n",
        "            hidden_activation = nn.GELU()\n",
        "        elif hidden_activation_name == \"SoftPlus\":\n",
        "            beta = 1\n",
        "            hidden_activation = nn.Softplus(beta=beta) # We don't optimize threshold subparameter, as it's mainly for numerical stability.\n",
        "\n",
        "        dropout_rate = DROPOUT_RATE_NO_OPT\n",
        "\n",
        "\n",
        "    # We used to have options here, but since we have a regression problem with continuous output, we only use Linear.\n",
        "    output_activation = nn.Identity()\n",
        "\n",
        "    # Creating the loss function from its name\n",
        "    if loss_name == \"MSE\":\n",
        "        loss_fn = nn.MSELoss()\n",
        "    elif loss_name == \"MAE\":\n",
        "        loss_fn = nn.L1Loss()\n",
        "    elif loss_name == \"Huber\":\n",
        "        loss_fn = nn.SmoothL1Loss() \n",
        "    elif loss_name == \"Quantile\":\n",
        "        def quantile_loss(y_pred, y_true, q=0.5):\n",
        "            e = y_pred - y_true\n",
        "            return torch.mean(torch.max(q*e, (q-1)*e))\n",
        "        loss_fn = quantile_loss\n",
        "    else:\n",
        "        def log_cosh_loss(y_pred, y_true):\n",
        "            return torch.mean(torch.log(torch.cosh(y_pred - y_true)))\n",
        "        loss_fn = log_cosh_loss\n",
        "\n",
        "    # Creating the network with the sampled hyperparameters\n",
        "    net = Net(n_layers, n_units, hidden_activation, output_activation, dropout_rate).to(device)\n",
        "\n",
        "\n",
        "    if OPTIMIZE:\n",
        "        # Creating the optimizer from its name\n",
        "        if optimizer_name == \"SGD\":\n",
        "            weight_decay = trial.suggest_loguniform(\"weight_decay\", 1e-5, 1e-2)\n",
        "            momentum = trial.suggest_uniform(\"momentum\", 0.0, 0.99)\n",
        "            optimizer = optim.SGD(net.parameters(), lr=lr, weight_decay=weight_decay, momentum=momentum)\n",
        "        elif optimizer_name == \"Adam\":\n",
        "            weight_decay = trial.suggest_loguniform(\"weight_decay\", 1e-5, 1e-2)\n",
        "            beta1 = trial.suggest_uniform(\"beta1\", 0.9, 0.999)\n",
        "            beta2 = trial.suggest_uniform(\"beta2\", 0.999, 0.9999)\n",
        "            optimizer = optim.Adam(net.parameters(), lr=lr, weight_decay=weight_decay, betas=(beta1, beta2))\n",
        "        elif optimizer_name == \"RMSprop\":\n",
        "            optimizer = optim.RMSprop(net.parameters(), lr=lr)\n",
        "        else:\n",
        "            optimizer = optim.Adagrad(net.parameters(), lr=lr)\n",
        "\n",
        "        # Creating the learning rate scheduler from its name\n",
        "        if scheduler_name == \"StepLR\":\n",
        "            step_size = trial.suggest_int(\"step_size\", 5, 15)\n",
        "            gamma = trial.suggest_uniform(\"gamma\", 0.1, 0.5)\n",
        "            scheduler = optim.lr_scheduler.StepLR(optimizer, step_size=step_size, gamma=gamma)\n",
        "        elif scheduler_name == \"ExponentialLR\":\n",
        "            gamma = trial.suggest_uniform(\"gamma\", 0.8, 0.99)\n",
        "            scheduler = optim.lr_scheduler.ExponentialLR(optimizer, gamma=gamma)\n",
        "        elif scheduler_name == \"CosineAnnealingLR\":\n",
        "            if n_epochs < 150:\n",
        "                t_max_fraction = trial.suggest_uniform('t_max_fraction', 0.1, 0.3)\n",
        "            elif n_epochs > 250:\n",
        "                t_max_fraction = trial.suggest_uniform('t_max_fraction', 0.05, 0.1)\n",
        "            else:\n",
        "                t_max_fraction = trial.suggest_uniform('t_max_fraction', 0.1, 0.2)\n",
        "\n",
        "            T_max = int(n_epochs * t_max_fraction)\n",
        "            eta_min = trial.suggest_loguniform(\"eta_min\", 1e-7, 1e-2)\n",
        "            scheduler = optim.lr_scheduler.CosineAnnealingLR(optimizer, T_max=T_max, eta_min=eta_min)\n",
        "        elif scheduler_name == \"ReduceLROnPlateau\":\n",
        "            factor = trial.suggest_uniform(\"factor\", 0.1, 0.5)\n",
        "            patience = trial.suggest_int(\"patience\", 5, 10)\n",
        "            threshold = trial.suggest_loguniform(\"threshold\", 1e-4, 1e-2)\n",
        "            scheduler = optim.lr_scheduler.ReduceLROnPlateau(\n",
        "                optimizer, mode=\"min\", factor=factor, patience=patience, threshold=threshold\n",
        "            )\n",
        "        elif scheduler_name == \"CyclicLR\":\n",
        "            base_lr = trial.suggest_loguniform(\"base_lr\", 1e-6, 1e-2)\n",
        "            max_lr = trial.suggest_loguniform(\"max_lr\", 1e-4, 1)\n",
        "            step_size_up = trial.suggest_int(\"step_size_up\", 200, 2000)\n",
        "            scheduler = optim.lr_scheduler.CyclicLR(optimizer, base_lr=base_lr, max_lr=max_lr, step_size_up=step_size_up)\n",
        "        else:\n",
        "            scheduler = None\n",
        "    else:\n",
        "        # Creating the optimizer from its name\n",
        "        if optimizer_name == \"SGD\":\n",
        "            optimizer = optim.SGD(net.parameters(), lr=lr)\n",
        "        elif optimizer_name == \"Adam\":\n",
        "            optimizer = optim.Adam(net.parameters(), lr=lr)\n",
        "        elif optimizer_name == \"RMSprop\":\n",
        "            optimizer = optim.RMSprop(net.parameters(), lr=lr)\n",
        "        else:\n",
        "            optimizer = optim.Adagrad(net.parameters(), lr=lr)\n",
        "\n",
        "        # Creating the learning rate scheduler from its name\n",
        "        if scheduler_name == \"StepLR\":\n",
        "            scheduler = optim.lr_scheduler.StepLR(optimizer, step_size=10, gamma=0.1)\n",
        "        elif scheduler_name == \"ExponentialLR\":\n",
        "            scheduler = optim.lr_scheduler.ExponentialLR(optimizer, gamma=0.9)\n",
        "        elif scheduler_name == \"CosineAnnealingLR\":\n",
        "            scheduler = optim.lr_scheduler.CosineAnnealingLR(optimizer)\n",
        "        elif scheduler_name == \"ReduceLROnPlateau\":\n",
        "            scheduler = optim.lr_scheduler.ReduceLROnPlateau(\n",
        "                        optimizer, mode=\"min\", factor=0.18979341786654758, patience=11, threshold=0.0017197466122611932 #, min_lr=1e-6\n",
        "                    )\n",
        "        elif scheduler_name == \"CyclicLR\":\n",
        "            # TODO: Change these appropriately.\n",
        "            base_lr = 1e-6\n",
        "            max_lr = 1e-4\n",
        "            step_size_up = 200\n",
        "            scheduler = optim.lr_scheduler.CyclicLR(optimizer, base_lr=base_lr, max_lr=max_lr, step_size_up=step_size_up)\n",
        "        else:\n",
        "            scheduler = None\n",
        "\n",
        "    # Returning all variables needed for saving and loading\n",
        "    return net, loss_fn, optimizer, batch_size, n_epochs, scheduler, loss_name, optimizer_name, scheduler_name, n_units, n_layers, hidden_activation, output_activation, lr, dropout_rate\n",
        "\n",
        "\n"
      ]
    },
    {
      "cell_type": "markdown",
      "metadata": {
        "id": "l-czA7VvUZiD"
      },
      "source": [
        " ## The training and evaluation loop\n",
        "\n",
        " We first define a couple of functions used in the training and evaluation."
      ]
    },
    {
      "cell_type": "code",
      "execution_count": 120,
      "metadata": {
        "id": "aD6FQNmxUZiD"
      },
      "outputs": [],
      "source": [
        "# Defining a function that computes loss and metrics for a given batch\n",
        "def compute_loss_and_metrics(y_pred, y_true, loss_fn):\n",
        "    \"\"\"Computes loss and metrics for a given batch.\n",
        "\n",
        "    Args:\n",
        "        y_pred (torch.Tensor): The predicted pressure tensor of shape (batch_size, 1).\n",
        "        y_true (torch.Tensor): The true pressure tensor of shape (batch_size,).\n",
        "        loss_fn (torch.nn.Module or function): The loss function to use.\n",
        "\n",
        "    Returns:\n",
        "        tuple: A tuple of (loss, l1_norm), where loss is a scalar tensor,\n",
        "            l1_norm is L1 norm for relative error of pressure,\n",
        "            each being a scalar tensor.\n",
        "            linf_norm is Linf norm for relative error of pressure.\n",
        "    \"\"\"\n",
        "    # Reshaping the target tensor to match the input tensor\n",
        "    y_true = y_true.view(-1, 1)\n",
        "\n",
        "    # Computing the loss using the loss function\n",
        "    loss = loss_fn(y_pred, y_true)\n",
        "\n",
        "    # Computing the relative error of pressure\n",
        "    rel_error = torch.abs((y_pred - y_true) / y_true)\n",
        "\n",
        "    # Computing the L1 norm for the relative error of pressure\n",
        "    l1_norm = torch.mean(rel_error) \n",
        "    # Computing the Linf norm for the relative error of pressure\n",
        "    linf_norm = torch.max(rel_error) \n",
        "\n",
        "    # Returning the loss and metrics\n",
        "    return loss, l1_norm, linf_norm\n",
        "\n",
        "\n",
        "# Defining a function that updates the learning rate scheduler with validation loss if applicable\n",
        "def update_scheduler(scheduler, test_loss):\n",
        "    \"\"\"Updates the learning rate scheduler with validation loss if applicable.\n",
        "\n",
        "    Args:\n",
        "        scheduler (torch.optim.lr_scheduler._LRScheduler or None): The learning rate scheduler to use.\n",
        "        test_loss (float): The validation loss to use.\n",
        "\n",
        "    Returns:\n",
        "        None\n",
        "    \"\"\"\n",
        "    # Checking if scheduler is not None\n",
        "    if scheduler is not None:\n",
        "        # Checking if scheduler is ReduceLROnPlateau\n",
        "        if isinstance(scheduler, optim.lr_scheduler.ReduceLROnPlateau):\n",
        "            # Updating the scheduler with test_loss\n",
        "            scheduler.step(test_loss)\n",
        "        else:\n",
        "            # Updating the scheduler without test_loss\n",
        "            scheduler.step()\n"
      ]
    },
    {
      "cell_type": "markdown",
      "metadata": {
        "id": "w1nE662UUZiE"
      },
      "source": [
        "Now for the actual training and evaluation loop,"
      ]
    },
    {
      "cell_type": "code",
      "execution_count": 121,
      "metadata": {
        "id": "YAOjgKW3UZiF"
      },
      "outputs": [],
      "source": [
        "# Defining a function to train and evaluate a network\n",
        "def train_and_eval(net, loss_fn, optimizer, batch_size, n_epochs, scheduler, train_loader, val_loader, test_loader, trial=None):\n",
        "    # Initializing lists to store the losses and metrics for each epoch\n",
        "    train_losses = []\n",
        "    val_losses = []\n",
        "    test_losses = []\n",
        "    train_metrics = []\n",
        "    val_metrics = []\n",
        "    test_metrics = []\n",
        "\n",
        "\n",
        "    # Creating a SummaryWriter object to log data for tensorboard\n",
        "    writer = tbx.SummaryWriter()\n",
        "\n",
        "    # Looping over the epochs\n",
        "    for epoch in range(n_epochs):\n",
        "\n",
        "        # Setting the network to training mode\n",
        "        net.train()\n",
        "\n",
        "        # Initializing variables to store the total loss and metrics for the train set\n",
        "        train_loss = 0.0\n",
        "        train_l1_norm = 0.0\n",
        "        train_linf_norm = 0.0\n",
        "\n",
        "        # Looping over the batches in the train set\n",
        "        for x_batch, y_batch in train_loader:\n",
        "\n",
        "            # Moving the batch tensors to the device\n",
        "            x_batch = x_batch.to(device)\n",
        "            y_batch = y_batch.to(device)\n",
        "\n",
        "            # Zeroing the gradients\n",
        "            optimizer.zero_grad()\n",
        "\n",
        "            # Performing a forward pass and computing the loss and metrics\n",
        "            y_pred = net(x_batch)\n",
        "            loss, l1_norm, linf_norm = compute_loss_and_metrics(y_pred, y_batch, loss_fn)\n",
        "\n",
        "\n",
        "            # Performing a backward pass and updating the weights\n",
        "            loss.backward()\n",
        "            optimizer.step()\n",
        "\n",
        "            # Updating the total loss and metrics for the train set\n",
        "            train_loss += loss.item() * x_batch.size(0)\n",
        "            train_l1_norm += l1_norm.item() * x_batch.size(0)\n",
        "            train_linf_norm += linf_norm.item() * x_batch.size(0)\n",
        "\n",
        "        # Computing the average loss and metrics for the train set\n",
        "        train_loss /= len(train_loader.dataset)\n",
        "        train_l1_norm /= len(train_loader.dataset)\n",
        "        train_linf_norm /= len(train_loader.dataset)\n",
        "\n",
        "        # Appending the average loss and metrics for the train set to the lists\n",
        "        train_losses.append(train_loss)\n",
        "        train_metrics.append(\n",
        "            {\n",
        "                \"l1_norm\": train_l1_norm,\n",
        "                \"linf_norm\": train_linf_norm,\n",
        "            }\n",
        "        )\n",
        "\n",
        "        # Logging the average loss and metrics for the train set to tensorboard\n",
        "        writer.add_scalar(\"Loss/train\", train_loss, epoch)\n",
        "        writer.add_scalar(\"L1 norm/train\", train_l1_norm, epoch)\n",
        "        writer.add_scalar(\"Linf norm/train\", train_linf_norm, epoch)\n",
        "\n",
        "        if val_loader is not None:\n",
        "            net.eval()\n",
        "            val_loss = 0.0\n",
        "            val_l1_norm = 0.0\n",
        "            val_linf_norm = 0.0\n",
        "\n",
        "            with torch.no_grad():\n",
        "                for x_batch, y_batch in val_loader:\n",
        "                    x_batch = x_batch.to(device)\n",
        "                    y_batch = y_batch.to(device)\n",
        "                    y_pred = net(x_batch)\n",
        "                    loss, l1_norm, linf_norm = compute_loss_and_metrics(y_pred, y_batch, loss_fn)\n",
        "\n",
        "                    val_loss += loss.item() * x_batch.size(0)\n",
        "                    val_l1_norm += l1_norm.item() * x_batch.size(0)\n",
        "                    val_linf_norm += linf_norm.item() * x_batch.size(0)\n",
        "\n",
        "            val_loss /= len(val_loader.dataset)\n",
        "            val_l1_norm /= len(val_loader.dataset)\n",
        "            val_linf_norm /= len(val_loader.dataset)\n",
        "\n",
        "            val_losses.append(val_loss)\n",
        "            val_metrics.append(\n",
        "                {\n",
        "                    \"l1_norm\": val_l1_norm,\n",
        "                    \"linf_norm\": val_linf_norm,\n",
        "                }\n",
        "            )\n",
        "\n",
        "            writer.add_scalar(\"Loss/val\", val_loss, epoch)\n",
        "            writer.add_scalar(\"L1 norm/val\", val_l1_norm, epoch)\n",
        "            writer.add_scalar(\"Linf norm/val\", val_linf_norm, epoch)\n",
        "            print(f\"Epoch {epoch+1}/{n_epochs}.. Train loss: {train_loss:.3f}.. Val loss: {val_loss:.3f}.. Train L1 norm: {train_l1_norm:.3f}.. Val L1 norm: {val_l1_norm:.3f}.. Train Linf norm: {train_linf_norm:.3f}.. Val Linf norm: {val_linf_norm:.3f}\")\n",
        "\n",
        "\n",
        "            update_scheduler(scheduler, val_loss)\n",
        "\n",
        "        if test_loader is not None:\n",
        "            net.eval()\n",
        "            test_loss = 0.0\n",
        "            test_l1_norm = 0.0\n",
        "            test_linf_norm = 0.0\n",
        "\n",
        "            with torch.no_grad():\n",
        "                for x_batch, y_batch in test_loader:\n",
        "                    x_batch = x_batch.to(device)\n",
        "                    y_batch = y_batch.to(device)\n",
        "                    y_pred = net(x_batch)\n",
        "                    loss, l1_norm, linf_norm = compute_loss_and_metrics(y_pred, y_batch, loss_fn)\n",
        "\n",
        "                    test_loss += loss.item() * x_batch.size(0)\n",
        "                    test_l1_norm += l1_norm.item() * x_batch.size(0)\n",
        "                    test_linf_norm += linf_norm.item() * x_batch.size(0)\n",
        "\n",
        "            test_loss /= len(test_loader.dataset)\n",
        "            test_l1_norm /= len(test_loader.dataset)\n",
        "            test_linf_norm /= len(test_loader.dataset)\n",
        "\n",
        "            test_losses.append(test_loss)\n",
        "            test_metrics.append(\n",
        "                {\n",
        "                    \"l1_norm\": test_l1_norm,\n",
        "                    \"linf_norm\": test_linf_norm,\n",
        "                }\n",
        "            )\n",
        "\n",
        "            writer.add_scalar(\"Loss/test\", test_loss, epoch)\n",
        "            writer.add_scalar(\"L1 norm/test\", test_l1_norm, epoch)\n",
        "            writer.add_scalar(\"Linf norm/test\", test_linf_norm, epoch)\n",
        "            print(f\"Epoch {epoch+1}/{n_epochs}.. Train loss: {train_loss:.3f}.. Test loss: {test_loss:.3f}.. Train L1 norm: {train_l1_norm:.3f}.. Test L1 norm: {test_l1_norm:.3f}.. Train Linf norm: {train_linf_norm:.3f}.. Test Linf norm: {test_linf_norm:.3f}\")\n",
        "\n",
        "\n",
        "        # Reporting the intermediate metric value to Optuna if trial is not None\n",
        "        if trial is not None:\n",
        "            trial.report(val_l1_norm, epoch)\n",
        "\n",
        "            if trial.should_prune():\n",
        "                raise optuna.TrialPruned()\n",
        "\n",
        "    # Closing the SummaryWriter object\n",
        "    writer.close()\n",
        "\n",
        "    # Returning the losses and metrics lists\n",
        "    return train_losses, val_losses, test_losses, train_metrics, val_metrics, test_metrics\n"
      ]
    },
    {
      "cell_type": "markdown",
      "metadata": {
        "id": "xg9jz0SvUZiQ"
      },
      "source": [
        "## The objective function and hyperparameter tuning"
      ]
    },
    {
      "cell_type": "code",
      "execution_count": 122,
      "metadata": {
        "id": "fmRncQPuUZiR"
      },
      "outputs": [],
      "source": [
        "# Defining an objective function for Optuna to minimize\n",
        "def objective(trial):\n",
        "    \"\"\"Defines an objective function for Optuna to minimize.\n",
        "\n",
        "    Args:\n",
        "        trial (optuna.trial.Trial): The trial object that contains the hyperparameters.\n",
        "\n",
        "    Returns:\n",
        "        float: The validation L1 norm to minimize.\n",
        "    \"\"\"\n",
        "    # Creating a trial network and optimizer using the create_model function\n",
        "    net, \\\n",
        "    loss_fn, \\\n",
        "    optimizer, \\\n",
        "    batch_size, \\\n",
        "    n_epochs, \\\n",
        "    scheduler, \\\n",
        "    loss_name, \\\n",
        "    optimizer_name, \\\n",
        "    scheduler_name, \\\n",
        "    n_units, \\\n",
        "    n_layers, \\\n",
        "    hidden_activation, \\\n",
        "    output_activation, \\\n",
        "    lr, \\\n",
        "    dropout_rate = create_model(trial, optimize=True)\n",
        "\n",
        "    # Create separate data loaders for training and validation\n",
        "    train_loader = torch.utils.data.DataLoader(\n",
        "        torch.utils.data.TensorDataset(x_train, y_train), batch_size=batch_size, shuffle=True\n",
        "    )\n",
        "    val_loader = torch.utils.data.DataLoader(\n",
        "        torch.utils.data.TensorDataset(x_val, y_val), batch_size=batch_size\n",
        "    )\n",
        "    \n",
        "    _, _, _, _, val_metrics, _ = train_and_eval(\n",
        "        net, loss_fn, optimizer, batch_size, n_epochs, scheduler, train_loader, val_loader, None, trial\n",
        "    )\n",
        "\n",
        "    # Returning the last validation L1 norm as the objective value to minimize\n",
        "    return val_metrics[-1][\"l1_norm\"]"
      ]
    },
    {
      "cell_type": "code",
      "execution_count": null,
      "metadata": {
        "colab": {
          "base_uri": "https://localhost:8080/",
          "height": 1000
        },
        "id": "GyES4NAyUZiS",
        "outputId": "6338c979-c073-4650-8703-9c23470dbd28"
      },
      "outputs": [
        {
          "output_type": "stream",
          "name": "stderr",
          "text": [
            "[I 2023-06-03 10:04:13,779] A new study created in memory with name: no-name-6827023a-c232-4b29-aac7-64eaaf53d4c8\n",
            "<ipython-input-119-ca043aa389dc>:44: FutureWarning:\n",
            "\n",
            "suggest_loguniform has been deprecated in v3.0.0. This feature will be removed in v6.0.0. See https://github.com/optuna/optuna/releases/tag/v3.0.0. Use suggest_float(..., log=True) instead.\n",
            "\n",
            "<ipython-input-119-ca043aa389dc>:63: FutureWarning:\n",
            "\n",
            "suggest_uniform has been deprecated in v3.0.0. This feature will be removed in v6.0.0. See https://github.com/optuna/optuna/releases/tag/v3.0.0. Use suggest_float instead.\n",
            "\n",
            "<ipython-input-119-ca043aa389dc>:76: FutureWarning:\n",
            "\n",
            "suggest_uniform has been deprecated in v3.0.0. This feature will be removed in v6.0.0. See https://github.com/optuna/optuna/releases/tag/v3.0.0. Use suggest_float instead.\n",
            "\n",
            "<ipython-input-119-ca043aa389dc>:168: FutureWarning:\n",
            "\n",
            "suggest_uniform has been deprecated in v3.0.0. This feature will be removed in v6.0.0. See https://github.com/optuna/optuna/releases/tag/v3.0.0. Use suggest_float instead.\n",
            "\n",
            "<ipython-input-119-ca043aa389dc>:175: FutureWarning:\n",
            "\n",
            "suggest_loguniform has been deprecated in v3.0.0. This feature will be removed in v6.0.0. See https://github.com/optuna/optuna/releases/tag/v3.0.0. Use suggest_float(..., log=True) instead.\n",
            "\n"
          ]
        },
        {
          "output_type": "stream",
          "name": "stdout",
          "text": [
            "Epoch 1/115.. Train loss: 5.504.. Val loss: 4.402.. Train L1 norm: 4.168.. Val L1 norm: 2.997.. Train Linf norm: 494.468.. Val Linf norm: 322.328\n",
            "Epoch 2/115.. Train loss: 4.790.. Val loss: 4.515.. Train L1 norm: 3.334.. Val L1 norm: 2.367.. Train Linf norm: 368.197.. Val Linf norm: 212.189\n",
            "Epoch 3/115.. Train loss: 4.663.. Val loss: 4.564.. Train L1 norm: 3.701.. Val L1 norm: 2.154.. Train Linf norm: 444.300.. Val Linf norm: 179.916\n",
            "Epoch 4/115.. Train loss: 4.606.. Val loss: 4.533.. Train L1 norm: 3.721.. Val L1 norm: 2.128.. Train Linf norm: 442.514.. Val Linf norm: 187.945\n",
            "Epoch 5/115.. Train loss: 4.650.. Val loss: 4.765.. Train L1 norm: 4.013.. Val L1 norm: 1.650.. Train Linf norm: 532.620.. Val Linf norm: 103.205\n",
            "Epoch 6/115.. Train loss: 4.611.. Val loss: 4.584.. Train L1 norm: 3.457.. Val L1 norm: 2.045.. Train Linf norm: 351.283.. Val Linf norm: 172.273\n",
            "Epoch 7/115.. Train loss: 4.583.. Val loss: 4.529.. Train L1 norm: 3.703.. Val L1 norm: 2.215.. Train Linf norm: 445.365.. Val Linf norm: 192.045\n",
            "Epoch 8/115.. Train loss: 4.499.. Val loss: 4.289.. Train L1 norm: 3.870.. Val L1 norm: 3.113.. Train Linf norm: 469.686.. Val Linf norm: 328.077\n",
            "Epoch 9/115.. Train loss: 4.502.. Val loss: 4.276.. Train L1 norm: 3.897.. Val L1 norm: 3.298.. Train Linf norm: 492.793.. Val Linf norm: 339.072\n",
            "Epoch 10/115.. Train loss: 4.415.. Val loss: 4.258.. Train L1 norm: 3.902.. Val L1 norm: 3.338.. Train Linf norm: 475.116.. Val Linf norm: 359.057\n",
            "Epoch 11/115.. Train loss: 4.390.. Val loss: 4.213.. Train L1 norm: 4.131.. Val L1 norm: 3.554.. Train Linf norm: 502.548.. Val Linf norm: 396.841\n",
            "Epoch 12/115.. Train loss: 4.446.. Val loss: 4.269.. Train L1 norm: 4.023.. Val L1 norm: 3.302.. Train Linf norm: 502.877.. Val Linf norm: 357.384\n",
            "Epoch 13/115.. Train loss: 4.403.. Val loss: 4.316.. Train L1 norm: 3.767.. Val L1 norm: 3.207.. Train Linf norm: 423.393.. Val Linf norm: 345.056\n",
            "Epoch 14/115.. Train loss: 4.370.. Val loss: 4.321.. Train L1 norm: 4.196.. Val L1 norm: 3.296.. Train Linf norm: 519.667.. Val Linf norm: 357.016\n",
            "Epoch 15/115.. Train loss: 4.393.. Val loss: 4.334.. Train L1 norm: 4.167.. Val L1 norm: 3.268.. Train Linf norm: 516.601.. Val Linf norm: 348.885\n",
            "Epoch 16/115.. Train loss: 4.369.. Val loss: 4.254.. Train L1 norm: 4.150.. Val L1 norm: 3.565.. Train Linf norm: 499.968.. Val Linf norm: 398.361\n",
            "Epoch 17/115.. Train loss: 4.385.. Val loss: 4.301.. Train L1 norm: 4.498.. Val L1 norm: 3.327.. Train Linf norm: 594.951.. Val Linf norm: 361.070\n",
            "Epoch 18/115.. Train loss: 4.343.. Val loss: 4.296.. Train L1 norm: 4.118.. Val L1 norm: 3.318.. Train Linf norm: 500.001.. Val Linf norm: 361.033\n",
            "Epoch 19/115.. Train loss: 4.363.. Val loss: 4.314.. Train L1 norm: 4.200.. Val L1 norm: 3.258.. Train Linf norm: 526.431.. Val Linf norm: 350.186\n",
            "Epoch 20/115.. Train loss: 4.319.. Val loss: 4.288.. Train L1 norm: 4.336.. Val L1 norm: 3.365.. Train Linf norm: 533.476.. Val Linf norm: 365.597\n",
            "Epoch 21/115.. Train loss: 4.431.. Val loss: 4.325.. Train L1 norm: 4.221.. Val L1 norm: 3.233.. Train Linf norm: 536.463.. Val Linf norm: 346.152\n",
            "Epoch 22/115.. Train loss: 4.385.. Val loss: 4.338.. Train L1 norm: 4.285.. Val L1 norm: 3.209.. Train Linf norm: 553.184.. Val Linf norm: 341.407\n",
            "Epoch 23/115.. Train loss: 4.342.. Val loss: 4.310.. Train L1 norm: 4.072.. Val L1 norm: 3.321.. Train Linf norm: 493.810.. Val Linf norm: 357.557\n",
            "Epoch 24/115.. Train loss: 4.350.. Val loss: 4.304.. Train L1 norm: 4.228.. Val L1 norm: 3.338.. Train Linf norm: 540.491.. Val Linf norm: 360.489\n",
            "Epoch 25/115.. Train loss: 4.317.. Val loss: 4.303.. Train L1 norm: 4.147.. Val L1 norm: 3.347.. Train Linf norm: 501.588.. Val Linf norm: 361.703\n",
            "Epoch 26/115.. Train loss: 4.307.. Val loss: 4.303.. Train L1 norm: 4.277.. Val L1 norm: 3.349.. Train Linf norm: 533.387.. Val Linf norm: 361.976\n",
            "Epoch 27/115.. Train loss: 4.379.. Val loss: 4.303.. Train L1 norm: 4.346.. Val L1 norm: 3.348.. Train Linf norm: 537.019.. Val Linf norm: 361.919\n",
            "Epoch 28/115.. Train loss: 4.321.. Val loss: 4.303.. Train L1 norm: 4.009.. Val L1 norm: 3.349.. Train Linf norm: 467.558.. Val Linf norm: 361.983\n",
            "Epoch 29/115.. Train loss: 4.310.. Val loss: 4.301.. Train L1 norm: 4.290.. Val L1 norm: 3.360.. Train Linf norm: 541.076.. Val Linf norm: 363.570\n",
            "Epoch 30/115.. Train loss: 4.315.. Val loss: 4.295.. Train L1 norm: 4.207.. Val L1 norm: 3.384.. Train Linf norm: 529.862.. Val Linf norm: 367.411\n",
            "Epoch 31/115.. Train loss: 4.329.. Val loss: 4.293.. Train L1 norm: 4.095.. Val L1 norm: 3.401.. Train Linf norm: 495.040.. Val Linf norm: 369.832\n",
            "Epoch 32/115.. Train loss: 4.324.. Val loss: 4.292.. Train L1 norm: 4.478.. Val L1 norm: 3.401.. Train Linf norm: 562.323.. Val Linf norm: 370.888\n",
            "Epoch 33/115.. Train loss: 4.406.. Val loss: 4.306.. Train L1 norm: 4.121.. Val L1 norm: 3.313.. Train Linf norm: 489.777.. Val Linf norm: 359.273\n",
            "Epoch 34/115.. Train loss: 4.307.. Val loss: 4.280.. Train L1 norm: 4.300.. Val L1 norm: 3.452.. Train Linf norm: 543.454.. Val Linf norm: 380.362\n",
            "Epoch 35/115.. Train loss: 4.364.. Val loss: 4.261.. Train L1 norm: 4.374.. Val L1 norm: 3.583.. Train Linf norm: 573.776.. Val Linf norm: 397.482\n",
            "Epoch 36/115.. Train loss: 4.285.. Val loss: 4.241.. Train L1 norm: 4.531.. Val L1 norm: 3.634.. Train Linf norm: 594.107.. Val Linf norm: 407.092\n",
            "Epoch 37/115.. Train loss: 4.258.. Val loss: 4.275.. Train L1 norm: 4.635.. Val L1 norm: 3.471.. Train Linf norm: 612.389.. Val Linf norm: 384.488\n",
            "Epoch 38/115.. Train loss: 4.359.. Val loss: 4.250.. Train L1 norm: 4.441.. Val L1 norm: 3.653.. Train Linf norm: 573.575.. Val Linf norm: 407.923\n",
            "Epoch 39/115.. Train loss: 4.289.. Val loss: 4.251.. Train L1 norm: 4.720.. Val L1 norm: 3.560.. Train Linf norm: 647.057.. Val Linf norm: 396.456\n",
            "Epoch 40/115.. Train loss: 4.325.. Val loss: 4.238.. Train L1 norm: 4.279.. Val L1 norm: 3.733.. Train Linf norm: 543.511.. Val Linf norm: 417.249\n",
            "Epoch 41/115.. Train loss: 4.394.. Val loss: 4.266.. Train L1 norm: 4.341.. Val L1 norm: 3.565.. Train Linf norm: 539.847.. Val Linf norm: 389.590\n",
            "Epoch 42/115.. Train loss: 4.282.. Val loss: 4.224.. Train L1 norm: 4.523.. Val L1 norm: 3.790.. Train Linf norm: 579.907.. Val Linf norm: 427.183\n",
            "Epoch 43/115.. Train loss: 4.338.. Val loss: 4.288.. Train L1 norm: 4.394.. Val L1 norm: 3.448.. Train Linf norm: 551.620.. Val Linf norm: 377.134\n",
            "Epoch 44/115.. Train loss: 4.339.. Val loss: 4.306.. Train L1 norm: 4.242.. Val L1 norm: 3.430.. Train Linf norm: 524.595.. Val Linf norm: 374.207\n",
            "Epoch 45/115.. Train loss: 4.238.. Val loss: 4.245.. Train L1 norm: 4.683.. Val L1 norm: 3.717.. Train Linf norm: 600.668.. Val Linf norm: 426.992\n",
            "Epoch 46/115.. Train loss: 4.373.. Val loss: 4.258.. Train L1 norm: 4.435.. Val L1 norm: 3.730.. Train Linf norm: 571.118.. Val Linf norm: 417.317\n",
            "Epoch 47/115.. Train loss: 4.308.. Val loss: 4.147.. Train L1 norm: 4.418.. Val L1 norm: 4.298.. Train Linf norm: 527.612.. Val Linf norm: 506.007\n",
            "Epoch 48/115.. Train loss: 4.288.. Val loss: 4.267.. Train L1 norm: 4.626.. Val L1 norm: 3.864.. Train Linf norm: 578.975.. Val Linf norm: 436.579\n",
            "Epoch 49/115.. Train loss: 4.342.. Val loss: 4.245.. Train L1 norm: 4.728.. Val L1 norm: 3.721.. Train Linf norm: 537.718.. Val Linf norm: 423.977\n",
            "Epoch 50/115.. Train loss: 4.273.. Val loss: 4.164.. Train L1 norm: 4.386.. Val L1 norm: 4.220.. Train Linf norm: 529.057.. Val Linf norm: 495.891\n",
            "Epoch 51/115.. Train loss: 4.350.. Val loss: 4.177.. Train L1 norm: 4.338.. Val L1 norm: 4.146.. Train Linf norm: 534.919.. Val Linf norm: 477.638\n",
            "Epoch 52/115.. Train loss: 4.329.. Val loss: 4.177.. Train L1 norm: 4.468.. Val L1 norm: 4.172.. Train Linf norm: 575.068.. Val Linf norm: 484.007\n",
            "Epoch 53/115.. Train loss: 4.284.. Val loss: 4.231.. Train L1 norm: 4.568.. Val L1 norm: 3.776.. Train Linf norm: 568.829.. Val Linf norm: 426.371\n",
            "Epoch 54/115.. Train loss: 4.255.. Val loss: 4.172.. Train L1 norm: 4.865.. Val L1 norm: 4.129.. Train Linf norm: 657.451.. Val Linf norm: 486.087\n",
            "Epoch 55/115.. Train loss: 4.287.. Val loss: 4.211.. Train L1 norm: 4.753.. Val L1 norm: 4.026.. Train Linf norm: 627.406.. Val Linf norm: 462.237\n",
            "Epoch 56/115.. Train loss: 4.208.. Val loss: 4.162.. Train L1 norm: 5.030.. Val L1 norm: 4.246.. Train Linf norm: 680.268.. Val Linf norm: 504.938\n",
            "Epoch 57/115.. Train loss: 4.288.. Val loss: 4.201.. Train L1 norm: 4.679.. Val L1 norm: 4.226.. Train Linf norm: 614.407.. Val Linf norm: 495.635\n",
            "Epoch 58/115.. Train loss: 4.275.. Val loss: 4.145.. Train L1 norm: 4.793.. Val L1 norm: 4.278.. Train Linf norm: 618.833.. Val Linf norm: 512.292\n",
            "Epoch 59/115.. Train loss: 4.311.. Val loss: 4.234.. Train L1 norm: 4.663.. Val L1 norm: 3.828.. Train Linf norm: 610.519.. Val Linf norm: 439.543\n",
            "Epoch 60/115.. Train loss: 4.229.. Val loss: 4.147.. Train L1 norm: 4.922.. Val L1 norm: 4.186.. Train Linf norm: 663.478.. Val Linf norm: 493.512\n",
            "Epoch 61/115.. Train loss: 4.283.. Val loss: 4.121.. Train L1 norm: 4.790.. Val L1 norm: 4.571.. Train Linf norm: 639.245.. Val Linf norm: 547.092\n",
            "Epoch 62/115.. Train loss: 4.294.. Val loss: 4.128.. Train L1 norm: 4.746.. Val L1 norm: 4.585.. Train Linf norm: 607.910.. Val Linf norm: 547.254\n",
            "Epoch 63/115.. Train loss: 4.273.. Val loss: 4.224.. Train L1 norm: 4.583.. Val L1 norm: 4.065.. Train Linf norm: 581.129.. Val Linf norm: 468.467\n",
            "Epoch 64/115.. Train loss: 4.240.. Val loss: 4.185.. Train L1 norm: 4.915.. Val L1 norm: 4.203.. Train Linf norm: 647.279.. Val Linf norm: 499.546\n",
            "Epoch 65/115.. Train loss: 4.240.. Val loss: 4.172.. Train L1 norm: 4.912.. Val L1 norm: 4.252.. Train Linf norm: 661.388.. Val Linf norm: 510.914\n",
            "Epoch 66/115.. Train loss: 4.211.. Val loss: 4.183.. Train L1 norm: 4.932.. Val L1 norm: 4.099.. Train Linf norm: 662.491.. Val Linf norm: 485.458\n",
            "Epoch 67/115.. Train loss: 4.169.. Val loss: 4.127.. Train L1 norm: 5.005.. Val L1 norm: 4.479.. Train Linf norm: 665.827.. Val Linf norm: 540.418\n",
            "Epoch 68/115.. Train loss: 4.284.. Val loss: 4.159.. Train L1 norm: 4.844.. Val L1 norm: 4.282.. Train Linf norm: 641.062.. Val Linf norm: 510.763\n",
            "Epoch 69/115.. Train loss: 4.210.. Val loss: 4.129.. Train L1 norm: 4.870.. Val L1 norm: 4.523.. Train Linf norm: 646.299.. Val Linf norm: 542.561\n",
            "Epoch 70/115.. Train loss: 4.207.. Val loss: 4.131.. Train L1 norm: 5.112.. Val L1 norm: 4.426.. Train Linf norm: 690.658.. Val Linf norm: 532.036\n",
            "Epoch 71/115.. Train loss: 4.203.. Val loss: 4.156.. Train L1 norm: 4.980.. Val L1 norm: 4.283.. Train Linf norm: 640.869.. Val Linf norm: 511.432\n",
            "Epoch 72/115.. Train loss: 4.195.. Val loss: 4.180.. Train L1 norm: 4.847.. Val L1 norm: 4.227.. Train Linf norm: 633.831.. Val Linf norm: 501.667\n",
            "Epoch 73/115.. Train loss: 4.276.. Val loss: 4.164.. Train L1 norm: 4.851.. Val L1 norm: 4.288.. Train Linf norm: 649.882.. Val Linf norm: 509.474\n",
            "Epoch 74/115.. Train loss: 4.247.. Val loss: 4.160.. Train L1 norm: 4.727.. Val L1 norm: 4.324.. Train Linf norm: 609.731.. Val Linf norm: 514.676\n",
            "Epoch 75/115.. Train loss: 4.199.. Val loss: 4.156.. Train L1 norm: 4.901.. Val L1 norm: 4.354.. Train Linf norm: 655.121.. Val Linf norm: 518.696\n",
            "Epoch 76/115.. Train loss: 4.172.. Val loss: 4.155.. Train L1 norm: 4.906.. Val L1 norm: 4.372.. Train Linf norm: 654.058.. Val Linf norm: 521.175\n",
            "Epoch 77/115.. Train loss: 4.275.. Val loss: 4.157.. Train L1 norm: 4.833.. Val L1 norm: 4.353.. Train Linf norm: 618.536.. Val Linf norm: 518.701\n",
            "Epoch 78/115.. Train loss: 4.231.. Val loss: 4.157.. Train L1 norm: 4.893.. Val L1 norm: 4.354.. Train Linf norm: 645.063.. Val Linf norm: 518.804\n",
            "Epoch 79/115.. Train loss: 4.229.. Val loss: 4.157.. Train L1 norm: 4.782.. Val L1 norm: 4.353.. Train Linf norm: 587.033.. Val Linf norm: 518.703\n",
            "Epoch 80/115.. Train loss: 4.202.. Val loss: 4.157.. Train L1 norm: 4.945.. Val L1 norm: 4.356.. Train Linf norm: 660.084.. Val Linf norm: 519.027\n",
            "Epoch 81/115.. Train loss: 4.218.. Val loss: 4.154.. Train L1 norm: 4.937.. Val L1 norm: 4.371.. Train Linf norm: 648.627.. Val Linf norm: 521.256\n",
            "Epoch 82/115.. Train loss: 4.162.. Val loss: 4.146.. Train L1 norm: 4.905.. Val L1 norm: 4.430.. Train Linf norm: 637.662.. Val Linf norm: 529.580\n",
            "Epoch 83/115.. Train loss: 4.213.. Val loss: 4.150.. Train L1 norm: 4.873.. Val L1 norm: 4.387.. Train Linf norm: 648.872.. Val Linf norm: 524.131\n",
            "Epoch 84/115.. Train loss: 4.225.. Val loss: 4.148.. Train L1 norm: 4.987.. Val L1 norm: 4.412.. Train Linf norm: 667.305.. Val Linf norm: 527.223\n",
            "Epoch 85/115.. Train loss: 4.176.. Val loss: 4.159.. Train L1 norm: 4.902.. Val L1 norm: 4.353.. Train Linf norm: 643.397.. Val Linf norm: 519.349\n",
            "Epoch 86/115.. Train loss: 4.230.. Val loss: 4.153.. Train L1 norm: 4.854.. Val L1 norm: 4.349.. Train Linf norm: 619.824.. Val Linf norm: 519.564\n",
            "Epoch 87/115.. Train loss: 4.244.. Val loss: 4.144.. Train L1 norm: 4.783.. Val L1 norm: 4.460.. Train Linf norm: 639.481.. Val Linf norm: 532.986\n",
            "Epoch 88/115.. Train loss: 4.206.. Val loss: 4.149.. Train L1 norm: 4.928.. Val L1 norm: 4.325.. Train Linf norm: 652.596.. Val Linf norm: 515.122\n",
            "Epoch 89/115.. Train loss: 4.213.. Val loss: 4.135.. Train L1 norm: 4.801.. Val L1 norm: 4.544.. Train Linf norm: 615.532.. Val Linf norm: 544.453\n",
            "Epoch 90/115.. Train loss: 4.215.. Val loss: 4.135.. Train L1 norm: 5.072.. Val L1 norm: 4.488.. Train Linf norm: 696.018.. Val Linf norm: 537.902\n",
            "Epoch 91/115.. Train loss: 4.185.. Val loss: 4.174.. Train L1 norm: 5.028.. Val L1 norm: 4.196.. Train Linf norm: 651.469.. Val Linf norm: 500.943\n",
            "Epoch 92/115.. Train loss: 4.155.. Val loss: 4.128.. Train L1 norm: 4.946.. Val L1 norm: 4.696.. Train Linf norm: 660.553.. Val Linf norm: 570.871\n",
            "Epoch 93/115.. Train loss: 4.170.. Val loss: 4.164.. Train L1 norm: 5.127.. Val L1 norm: 4.479.. Train Linf norm: 668.240.. Val Linf norm: 540.681\n",
            "Epoch 94/115.. Train loss: 4.162.. Val loss: 4.086.. Train L1 norm: 5.167.. Val L1 norm: 4.997.. Train Linf norm: 697.426.. Val Linf norm: 616.532\n",
            "Epoch 95/115.. Train loss: 4.179.. Val loss: 4.161.. Train L1 norm: 4.940.. Val L1 norm: 4.516.. Train Linf norm: 645.439.. Val Linf norm: 545.685\n",
            "Epoch 96/115.. Train loss: 4.153.. Val loss: 4.208.. Train L1 norm: 4.892.. Val L1 norm: 4.361.. Train Linf norm: 632.252.. Val Linf norm: 520.806\n",
            "Epoch 97/115.. Train loss: 4.167.. Val loss: 4.125.. Train L1 norm: 5.098.. Val L1 norm: 4.623.. Train Linf norm: 659.712.. Val Linf norm: 562.455\n",
            "Epoch 98/115.. Train loss: 4.206.. Val loss: 4.102.. Train L1 norm: 4.973.. Val L1 norm: 4.802.. Train Linf norm: 656.340.. Val Linf norm: 587.574\n",
            "Epoch 99/115.. Train loss: 4.174.. Val loss: 4.140.. Train L1 norm: 5.028.. Val L1 norm: 4.659.. Train Linf norm: 650.649.. Val Linf norm: 569.977\n",
            "Epoch 100/115.. Train loss: 4.199.. Val loss: 4.115.. Train L1 norm: 4.978.. Val L1 norm: 4.578.. Train Linf norm: 614.516.. Val Linf norm: 554.477\n",
            "Epoch 101/115.. Train loss: 4.211.. Val loss: 4.094.. Train L1 norm: 4.999.. Val L1 norm: 4.775.. Train Linf norm: 662.367.. Val Linf norm: 582.404\n",
            "Epoch 102/115.. Train loss: 4.214.. Val loss: 4.096.. Train L1 norm: 5.081.. Val L1 norm: 4.733.. Train Linf norm: 694.744.. Val Linf norm: 578.426\n",
            "Epoch 103/115.. Train loss: 4.181.. Val loss: 4.124.. Train L1 norm: 5.259.. Val L1 norm: 4.605.. Train Linf norm: 731.092.. Val Linf norm: 558.253\n",
            "Epoch 104/115.. Train loss: 4.214.. Val loss: 4.185.. Train L1 norm: 5.123.. Val L1 norm: 4.318.. Train Linf norm: 675.278.. Val Linf norm: 511.811\n",
            "Epoch 105/115.. Train loss: 4.232.. Val loss: 4.151.. Train L1 norm: 4.962.. Val L1 norm: 4.297.. Train Linf norm: 636.348.. Val Linf norm: 515.652\n",
            "Epoch 106/115.. Train loss: 4.187.. Val loss: 4.118.. Train L1 norm: 5.240.. Val L1 norm: 4.911.. Train Linf norm: 736.296.. Val Linf norm: 598.686\n",
            "Epoch 107/115.. Train loss: 4.174.. Val loss: 4.084.. Train L1 norm: 5.074.. Val L1 norm: 4.967.. Train Linf norm: 665.544.. Val Linf norm: 612.432\n",
            "Epoch 108/115.. Train loss: 4.191.. Val loss: 4.092.. Train L1 norm: 5.122.. Val L1 norm: 4.565.. Train Linf norm: 693.185.. Val Linf norm: 551.852\n",
            "Epoch 109/115.. Train loss: 4.204.. Val loss: 4.127.. Train L1 norm: 4.812.. Val L1 norm: 4.575.. Train Linf norm: 626.107.. Val Linf norm: 551.196\n",
            "Epoch 110/115.. Train loss: 4.164.. Val loss: 4.171.. Train L1 norm: 5.124.. Val L1 norm: 4.488.. Train Linf norm: 662.293.. Val Linf norm: 531.606\n",
            "Epoch 111/115.. Train loss: 4.170.. Val loss: 4.109.. Train L1 norm: 5.277.. Val L1 norm: 4.633.. Train Linf norm: 710.174.. Val Linf norm: 563.967\n",
            "Epoch 112/115.. Train loss: 4.161.. Val loss: 4.094.. Train L1 norm: 5.205.. Val L1 norm: 4.727.. Train Linf norm: 713.780.. Val Linf norm: 573.628\n",
            "Epoch 113/115.. Train loss: 4.223.. Val loss: 4.085.. Train L1 norm: 4.939.. Val L1 norm: 4.609.. Train Linf norm: 637.990.. Val Linf norm: 559.101\n",
            "Epoch 114/115.. Train loss: 4.136.. Val loss: 4.075.. Train L1 norm: 5.124.. Val L1 norm: 4.967.. Train Linf norm: 689.874.. Val Linf norm: 604.033\n"
          ]
        },
        {
          "output_type": "stream",
          "name": "stderr",
          "text": [
            "[I 2023-06-03 10:14:33,782] Trial 0 finished with value: 4.711850512695312 and parameters: {'n_layers': 5, 'n_units_0': 284, 'n_units_1': 1082, 'n_units_2': 2409, 'n_units_3': 3811, 'n_units_4': 2948, 'hidden_activation': 'PReLU', 'output_activation': 'Linear', 'loss': 'MAE', 'optimizer': 'Adagrad', 'lr': 0.0009397412296461619, 'batch_size': 256, 'n_epochs': 115, 'scheduler': 'CosineAnnealingLR', 'prelu_init': 0.1818491756106992, 'dropout_rate': 0.2570425702550039, 't_max_fraction': 0.2281901705404512, 'eta_min': 6.913797596310503e-07}. Best is trial 0 with value: 4.711850512695312.\n"
          ]
        },
        {
          "output_type": "stream",
          "name": "stdout",
          "text": [
            "Epoch 115/115.. Train loss: 4.146.. Val loss: 4.096.. Train L1 norm: 5.318.. Val L1 norm: 4.712.. Train Linf norm: 717.297.. Val Linf norm: 568.386\n"
          ]
        },
        {
          "output_type": "display_data",
          "data": {
            "text/html": [
              "<html>\n",
              "<head><meta charset=\"utf-8\" /></head>\n",
              "<body>\n",
              "    <div>            <script src=\"https://cdnjs.cloudflare.com/ajax/libs/mathjax/2.7.5/MathJax.js?config=TeX-AMS-MML_SVG\"></script><script type=\"text/javascript\">if (window.MathJax && window.MathJax.Hub && window.MathJax.Hub.Config) {window.MathJax.Hub.Config({SVG: {font: \"STIX-Web\"}});}</script>                <script type=\"text/javascript\">window.PlotlyConfig = {MathJaxConfig: 'local'};</script>\n",
              "        <script src=\"https://cdn.plot.ly/plotly-2.18.2.min.js\"></script>                <div id=\"5815d9a4-fbca-4c5b-b744-15e2338e7799\" class=\"plotly-graph-div\" style=\"height:525px; width:100%;\"></div>            <script type=\"text/javascript\">                                    window.PLOTLYENV=window.PLOTLYENV || {};                                    if (document.getElementById(\"5815d9a4-fbca-4c5b-b744-15e2338e7799\")) {                    Plotly.newPlot(                        \"5815d9a4-fbca-4c5b-b744-15e2338e7799\",                        [{\"mode\":\"markers\",\"name\":\"Objective Value\",\"x\":[0],\"y\":[4.711850512695312],\"type\":\"scatter\"},{\"name\":\"Best Value\",\"x\":[0],\"y\":[4.711850512695312],\"type\":\"scatter\"}],                        {\"title\":{\"text\":\"Optimization History Plot\"},\"xaxis\":{\"title\":{\"text\":\"Trial\"}},\"yaxis\":{\"title\":{\"text\":\"Objective Value\"}},\"template\":{\"data\":{\"histogram2dcontour\":[{\"type\":\"histogram2dcontour\",\"colorbar\":{\"outlinewidth\":0,\"ticks\":\"\"},\"colorscale\":[[0.0,\"#0d0887\"],[0.1111111111111111,\"#46039f\"],[0.2222222222222222,\"#7201a8\"],[0.3333333333333333,\"#9c179e\"],[0.4444444444444444,\"#bd3786\"],[0.5555555555555556,\"#d8576b\"],[0.6666666666666666,\"#ed7953\"],[0.7777777777777778,\"#fb9f3a\"],[0.8888888888888888,\"#fdca26\"],[1.0,\"#f0f921\"]]}],\"choropleth\":[{\"type\":\"choropleth\",\"colorbar\":{\"outlinewidth\":0,\"ticks\":\"\"}}],\"histogram2d\":[{\"type\":\"histogram2d\",\"colorbar\":{\"outlinewidth\":0,\"ticks\":\"\"},\"colorscale\":[[0.0,\"#0d0887\"],[0.1111111111111111,\"#46039f\"],[0.2222222222222222,\"#7201a8\"],[0.3333333333333333,\"#9c179e\"],[0.4444444444444444,\"#bd3786\"],[0.5555555555555556,\"#d8576b\"],[0.6666666666666666,\"#ed7953\"],[0.7777777777777778,\"#fb9f3a\"],[0.8888888888888888,\"#fdca26\"],[1.0,\"#f0f921\"]]}],\"heatmap\":[{\"type\":\"heatmap\",\"colorbar\":{\"outlinewidth\":0,\"ticks\":\"\"},\"colorscale\":[[0.0,\"#0d0887\"],[0.1111111111111111,\"#46039f\"],[0.2222222222222222,\"#7201a8\"],[0.3333333333333333,\"#9c179e\"],[0.4444444444444444,\"#bd3786\"],[0.5555555555555556,\"#d8576b\"],[0.6666666666666666,\"#ed7953\"],[0.7777777777777778,\"#fb9f3a\"],[0.8888888888888888,\"#fdca26\"],[1.0,\"#f0f921\"]]}],\"heatmapgl\":[{\"type\":\"heatmapgl\",\"colorbar\":{\"outlinewidth\":0,\"ticks\":\"\"},\"colorscale\":[[0.0,\"#0d0887\"],[0.1111111111111111,\"#46039f\"],[0.2222222222222222,\"#7201a8\"],[0.3333333333333333,\"#9c179e\"],[0.4444444444444444,\"#bd3786\"],[0.5555555555555556,\"#d8576b\"],[0.6666666666666666,\"#ed7953\"],[0.7777777777777778,\"#fb9f3a\"],[0.8888888888888888,\"#fdca26\"],[1.0,\"#f0f921\"]]}],\"contourcarpet\":[{\"type\":\"contourcarpet\",\"colorbar\":{\"outlinewidth\":0,\"ticks\":\"\"}}],\"contour\":[{\"type\":\"contour\",\"colorbar\":{\"outlinewidth\":0,\"ticks\":\"\"},\"colorscale\":[[0.0,\"#0d0887\"],[0.1111111111111111,\"#46039f\"],[0.2222222222222222,\"#7201a8\"],[0.3333333333333333,\"#9c179e\"],[0.4444444444444444,\"#bd3786\"],[0.5555555555555556,\"#d8576b\"],[0.6666666666666666,\"#ed7953\"],[0.7777777777777778,\"#fb9f3a\"],[0.8888888888888888,\"#fdca26\"],[1.0,\"#f0f921\"]]}],\"surface\":[{\"type\":\"surface\",\"colorbar\":{\"outlinewidth\":0,\"ticks\":\"\"},\"colorscale\":[[0.0,\"#0d0887\"],[0.1111111111111111,\"#46039f\"],[0.2222222222222222,\"#7201a8\"],[0.3333333333333333,\"#9c179e\"],[0.4444444444444444,\"#bd3786\"],[0.5555555555555556,\"#d8576b\"],[0.6666666666666666,\"#ed7953\"],[0.7777777777777778,\"#fb9f3a\"],[0.8888888888888888,\"#fdca26\"],[1.0,\"#f0f921\"]]}],\"mesh3d\":[{\"type\":\"mesh3d\",\"colorbar\":{\"outlinewidth\":0,\"ticks\":\"\"}}],\"scatter\":[{\"fillpattern\":{\"fillmode\":\"overlay\",\"size\":10,\"solidity\":0.2},\"type\":\"scatter\"}],\"parcoords\":[{\"type\":\"parcoords\",\"line\":{\"colorbar\":{\"outlinewidth\":0,\"ticks\":\"\"}}}],\"scatterpolargl\":[{\"type\":\"scatterpolargl\",\"marker\":{\"colorbar\":{\"outlinewidth\":0,\"ticks\":\"\"}}}],\"bar\":[{\"error_x\":{\"color\":\"#2a3f5f\"},\"error_y\":{\"color\":\"#2a3f5f\"},\"marker\":{\"line\":{\"color\":\"#E5ECF6\",\"width\":0.5},\"pattern\":{\"fillmode\":\"overlay\",\"size\":10,\"solidity\":0.2}},\"type\":\"bar\"}],\"scattergeo\":[{\"type\":\"scattergeo\",\"marker\":{\"colorbar\":{\"outlinewidth\":0,\"ticks\":\"\"}}}],\"scatterpolar\":[{\"type\":\"scatterpolar\",\"marker\":{\"colorbar\":{\"outlinewidth\":0,\"ticks\":\"\"}}}],\"histogram\":[{\"marker\":{\"pattern\":{\"fillmode\":\"overlay\",\"size\":10,\"solidity\":0.2}},\"type\":\"histogram\"}],\"scattergl\":[{\"type\":\"scattergl\",\"marker\":{\"colorbar\":{\"outlinewidth\":0,\"ticks\":\"\"}}}],\"scatter3d\":[{\"type\":\"scatter3d\",\"line\":{\"colorbar\":{\"outlinewidth\":0,\"ticks\":\"\"}},\"marker\":{\"colorbar\":{\"outlinewidth\":0,\"ticks\":\"\"}}}],\"scattermapbox\":[{\"type\":\"scattermapbox\",\"marker\":{\"colorbar\":{\"outlinewidth\":0,\"ticks\":\"\"}}}],\"scatterternary\":[{\"type\":\"scatterternary\",\"marker\":{\"colorbar\":{\"outlinewidth\":0,\"ticks\":\"\"}}}],\"scattercarpet\":[{\"type\":\"scattercarpet\",\"marker\":{\"colorbar\":{\"outlinewidth\":0,\"ticks\":\"\"}}}],\"carpet\":[{\"aaxis\":{\"endlinecolor\":\"#2a3f5f\",\"gridcolor\":\"white\",\"linecolor\":\"white\",\"minorgridcolor\":\"white\",\"startlinecolor\":\"#2a3f5f\"},\"baxis\":{\"endlinecolor\":\"#2a3f5f\",\"gridcolor\":\"white\",\"linecolor\":\"white\",\"minorgridcolor\":\"white\",\"startlinecolor\":\"#2a3f5f\"},\"type\":\"carpet\"}],\"table\":[{\"cells\":{\"fill\":{\"color\":\"#EBF0F8\"},\"line\":{\"color\":\"white\"}},\"header\":{\"fill\":{\"color\":\"#C8D4E3\"},\"line\":{\"color\":\"white\"}},\"type\":\"table\"}],\"barpolar\":[{\"marker\":{\"line\":{\"color\":\"#E5ECF6\",\"width\":0.5},\"pattern\":{\"fillmode\":\"overlay\",\"size\":10,\"solidity\":0.2}},\"type\":\"barpolar\"}],\"pie\":[{\"automargin\":true,\"type\":\"pie\"}]},\"layout\":{\"autotypenumbers\":\"strict\",\"colorway\":[\"#636efa\",\"#EF553B\",\"#00cc96\",\"#ab63fa\",\"#FFA15A\",\"#19d3f3\",\"#FF6692\",\"#B6E880\",\"#FF97FF\",\"#FECB52\"],\"font\":{\"color\":\"#2a3f5f\"},\"hovermode\":\"closest\",\"hoverlabel\":{\"align\":\"left\"},\"paper_bgcolor\":\"white\",\"plot_bgcolor\":\"#E5ECF6\",\"polar\":{\"bgcolor\":\"#E5ECF6\",\"angularaxis\":{\"gridcolor\":\"white\",\"linecolor\":\"white\",\"ticks\":\"\"},\"radialaxis\":{\"gridcolor\":\"white\",\"linecolor\":\"white\",\"ticks\":\"\"}},\"ternary\":{\"bgcolor\":\"#E5ECF6\",\"aaxis\":{\"gridcolor\":\"white\",\"linecolor\":\"white\",\"ticks\":\"\"},\"baxis\":{\"gridcolor\":\"white\",\"linecolor\":\"white\",\"ticks\":\"\"},\"caxis\":{\"gridcolor\":\"white\",\"linecolor\":\"white\",\"ticks\":\"\"}},\"coloraxis\":{\"colorbar\":{\"outlinewidth\":0,\"ticks\":\"\"}},\"colorscale\":{\"sequential\":[[0.0,\"#0d0887\"],[0.1111111111111111,\"#46039f\"],[0.2222222222222222,\"#7201a8\"],[0.3333333333333333,\"#9c179e\"],[0.4444444444444444,\"#bd3786\"],[0.5555555555555556,\"#d8576b\"],[0.6666666666666666,\"#ed7953\"],[0.7777777777777778,\"#fb9f3a\"],[0.8888888888888888,\"#fdca26\"],[1.0,\"#f0f921\"]],\"sequentialminus\":[[0.0,\"#0d0887\"],[0.1111111111111111,\"#46039f\"],[0.2222222222222222,\"#7201a8\"],[0.3333333333333333,\"#9c179e\"],[0.4444444444444444,\"#bd3786\"],[0.5555555555555556,\"#d8576b\"],[0.6666666666666666,\"#ed7953\"],[0.7777777777777778,\"#fb9f3a\"],[0.8888888888888888,\"#fdca26\"],[1.0,\"#f0f921\"]],\"diverging\":[[0,\"#8e0152\"],[0.1,\"#c51b7d\"],[0.2,\"#de77ae\"],[0.3,\"#f1b6da\"],[0.4,\"#fde0ef\"],[0.5,\"#f7f7f7\"],[0.6,\"#e6f5d0\"],[0.7,\"#b8e186\"],[0.8,\"#7fbc41\"],[0.9,\"#4d9221\"],[1,\"#276419\"]]},\"xaxis\":{\"gridcolor\":\"white\",\"linecolor\":\"white\",\"ticks\":\"\",\"title\":{\"standoff\":15},\"zerolinecolor\":\"white\",\"automargin\":true,\"zerolinewidth\":2},\"yaxis\":{\"gridcolor\":\"white\",\"linecolor\":\"white\",\"ticks\":\"\",\"title\":{\"standoff\":15},\"zerolinecolor\":\"white\",\"automargin\":true,\"zerolinewidth\":2},\"scene\":{\"xaxis\":{\"backgroundcolor\":\"#E5ECF6\",\"gridcolor\":\"white\",\"linecolor\":\"white\",\"showbackground\":true,\"ticks\":\"\",\"zerolinecolor\":\"white\",\"gridwidth\":2},\"yaxis\":{\"backgroundcolor\":\"#E5ECF6\",\"gridcolor\":\"white\",\"linecolor\":\"white\",\"showbackground\":true,\"ticks\":\"\",\"zerolinecolor\":\"white\",\"gridwidth\":2},\"zaxis\":{\"backgroundcolor\":\"#E5ECF6\",\"gridcolor\":\"white\",\"linecolor\":\"white\",\"showbackground\":true,\"ticks\":\"\",\"zerolinecolor\":\"white\",\"gridwidth\":2}},\"shapedefaults\":{\"line\":{\"color\":\"#2a3f5f\"}},\"annotationdefaults\":{\"arrowcolor\":\"#2a3f5f\",\"arrowhead\":0,\"arrowwidth\":1},\"geo\":{\"bgcolor\":\"white\",\"landcolor\":\"#E5ECF6\",\"subunitcolor\":\"white\",\"showland\":true,\"showlakes\":true,\"lakecolor\":\"white\"},\"title\":{\"x\":0.05},\"mapbox\":{\"style\":\"light\"}}}},                        {\"responsive\": true}                    ).then(function(){\n",
              "                            \n",
              "var gd = document.getElementById('5815d9a4-fbca-4c5b-b744-15e2338e7799');\n",
              "var x = new MutationObserver(function (mutations, observer) {{\n",
              "        var display = window.getComputedStyle(gd).display;\n",
              "        if (!display || display === 'none') {{\n",
              "            console.log([gd, 'removed!']);\n",
              "            Plotly.purge(gd);\n",
              "            observer.disconnect();\n",
              "        }}\n",
              "}});\n",
              "\n",
              "// Listen for the removal of the full notebook cells\n",
              "var notebookContainer = gd.closest('#notebook-container');\n",
              "if (notebookContainer) {{\n",
              "    x.observe(notebookContainer, {childList: true});\n",
              "}}\n",
              "\n",
              "// Listen for the clearing of the current output cell\n",
              "var outputEl = gd.closest('.output');\n",
              "if (outputEl) {{\n",
              "    x.observe(outputEl, {childList: true});\n",
              "}}\n",
              "\n",
              "                        })                };                            </script>        </div>\n",
              "</body>\n",
              "</html>"
            ]
          },
          "metadata": {}
        },
        {
          "output_type": "stream",
          "name": "stderr",
          "text": [
            "<ipython-input-119-ca043aa389dc>:145: FutureWarning:\n",
            "\n",
            "suggest_loguniform has been deprecated in v3.0.0. This feature will be removed in v6.0.0. See https://github.com/optuna/optuna/releases/tag/v3.0.0. Use suggest_float(..., log=True) instead.\n",
            "\n",
            "<ipython-input-119-ca043aa389dc>:146: FutureWarning:\n",
            "\n",
            "suggest_uniform has been deprecated in v3.0.0. This feature will be removed in v6.0.0. See https://github.com/optuna/optuna/releases/tag/v3.0.0. Use suggest_float instead.\n",
            "\n",
            "<ipython-input-119-ca043aa389dc>:178: FutureWarning:\n",
            "\n",
            "suggest_uniform has been deprecated in v3.0.0. This feature will be removed in v6.0.0. See https://github.com/optuna/optuna/releases/tag/v3.0.0. Use suggest_float instead.\n",
            "\n",
            "<ipython-input-119-ca043aa389dc>:180: FutureWarning:\n",
            "\n",
            "suggest_loguniform has been deprecated in v3.0.0. This feature will be removed in v6.0.0. See https://github.com/optuna/optuna/releases/tag/v3.0.0. Use suggest_float(..., log=True) instead.\n",
            "\n",
            "WARNING:tensorboardX.x2num:NaN or Inf found in input tensor.\n",
            "WARNING:tensorboardX.x2num:NaN or Inf found in input tensor.\n",
            "WARNING:tensorboardX.x2num:NaN or Inf found in input tensor.\n",
            "WARNING:tensorboardX.x2num:NaN or Inf found in input tensor.\n",
            "WARNING:tensorboardX.x2num:NaN or Inf found in input tensor.\n",
            "WARNING:tensorboardX.x2num:NaN or Inf found in input tensor.\n"
          ]
        },
        {
          "output_type": "stream",
          "name": "stdout",
          "text": [
            "Epoch 1/55.. Train loss: nan.. Val loss: nan.. Train L1 norm: nan.. Val L1 norm: nan.. Train Linf norm: nan.. Val Linf norm: nan\n"
          ]
        },
        {
          "output_type": "stream",
          "name": "stderr",
          "text": [
            "WARNING:tensorboardX.x2num:NaN or Inf found in input tensor.\n",
            "WARNING:tensorboardX.x2num:NaN or Inf found in input tensor.\n",
            "WARNING:tensorboardX.x2num:NaN or Inf found in input tensor.\n",
            "WARNING:tensorboardX.x2num:NaN or Inf found in input tensor.\n",
            "WARNING:tensorboardX.x2num:NaN or Inf found in input tensor.\n",
            "WARNING:tensorboardX.x2num:NaN or Inf found in input tensor.\n"
          ]
        },
        {
          "output_type": "stream",
          "name": "stdout",
          "text": [
            "Epoch 2/55.. Train loss: nan.. Val loss: nan.. Train L1 norm: nan.. Val L1 norm: nan.. Train Linf norm: nan.. Val Linf norm: nan\n"
          ]
        },
        {
          "output_type": "stream",
          "name": "stderr",
          "text": [
            "WARNING:tensorboardX.x2num:NaN or Inf found in input tensor.\n",
            "WARNING:tensorboardX.x2num:NaN or Inf found in input tensor.\n",
            "WARNING:tensorboardX.x2num:NaN or Inf found in input tensor.\n",
            "WARNING:tensorboardX.x2num:NaN or Inf found in input tensor.\n",
            "WARNING:tensorboardX.x2num:NaN or Inf found in input tensor.\n",
            "WARNING:tensorboardX.x2num:NaN or Inf found in input tensor.\n"
          ]
        },
        {
          "output_type": "stream",
          "name": "stdout",
          "text": [
            "Epoch 3/55.. Train loss: nan.. Val loss: nan.. Train L1 norm: nan.. Val L1 norm: nan.. Train Linf norm: nan.. Val Linf norm: nan\n"
          ]
        },
        {
          "output_type": "stream",
          "name": "stderr",
          "text": [
            "WARNING:tensorboardX.x2num:NaN or Inf found in input tensor.\n",
            "WARNING:tensorboardX.x2num:NaN or Inf found in input tensor.\n",
            "WARNING:tensorboardX.x2num:NaN or Inf found in input tensor.\n",
            "WARNING:tensorboardX.x2num:NaN or Inf found in input tensor.\n",
            "WARNING:tensorboardX.x2num:NaN or Inf found in input tensor.\n",
            "WARNING:tensorboardX.x2num:NaN or Inf found in input tensor.\n"
          ]
        },
        {
          "output_type": "stream",
          "name": "stdout",
          "text": [
            "Epoch 4/55.. Train loss: nan.. Val loss: nan.. Train L1 norm: nan.. Val L1 norm: nan.. Train Linf norm: nan.. Val Linf norm: nan\n"
          ]
        },
        {
          "output_type": "stream",
          "name": "stderr",
          "text": [
            "WARNING:tensorboardX.x2num:NaN or Inf found in input tensor.\n",
            "WARNING:tensorboardX.x2num:NaN or Inf found in input tensor.\n",
            "WARNING:tensorboardX.x2num:NaN or Inf found in input tensor.\n",
            "WARNING:tensorboardX.x2num:NaN or Inf found in input tensor.\n",
            "WARNING:tensorboardX.x2num:NaN or Inf found in input tensor.\n",
            "WARNING:tensorboardX.x2num:NaN or Inf found in input tensor.\n"
          ]
        },
        {
          "output_type": "stream",
          "name": "stdout",
          "text": [
            "Epoch 5/55.. Train loss: nan.. Val loss: nan.. Train L1 norm: nan.. Val L1 norm: nan.. Train Linf norm: nan.. Val Linf norm: nan\n"
          ]
        },
        {
          "output_type": "stream",
          "name": "stderr",
          "text": [
            "WARNING:tensorboardX.x2num:NaN or Inf found in input tensor.\n",
            "WARNING:tensorboardX.x2num:NaN or Inf found in input tensor.\n",
            "WARNING:tensorboardX.x2num:NaN or Inf found in input tensor.\n",
            "WARNING:tensorboardX.x2num:NaN or Inf found in input tensor.\n",
            "WARNING:tensorboardX.x2num:NaN or Inf found in input tensor.\n",
            "WARNING:tensorboardX.x2num:NaN or Inf found in input tensor.\n"
          ]
        },
        {
          "output_type": "stream",
          "name": "stdout",
          "text": [
            "Epoch 6/55.. Train loss: nan.. Val loss: nan.. Train L1 norm: nan.. Val L1 norm: nan.. Train Linf norm: nan.. Val Linf norm: nan\n"
          ]
        },
        {
          "output_type": "stream",
          "name": "stderr",
          "text": [
            "WARNING:tensorboardX.x2num:NaN or Inf found in input tensor.\n",
            "WARNING:tensorboardX.x2num:NaN or Inf found in input tensor.\n",
            "WARNING:tensorboardX.x2num:NaN or Inf found in input tensor.\n",
            "WARNING:tensorboardX.x2num:NaN or Inf found in input tensor.\n",
            "WARNING:tensorboardX.x2num:NaN or Inf found in input tensor.\n",
            "WARNING:tensorboardX.x2num:NaN or Inf found in input tensor.\n"
          ]
        },
        {
          "output_type": "stream",
          "name": "stdout",
          "text": [
            "Epoch 7/55.. Train loss: nan.. Val loss: nan.. Train L1 norm: nan.. Val L1 norm: nan.. Train Linf norm: nan.. Val Linf norm: nan\n"
          ]
        },
        {
          "output_type": "stream",
          "name": "stderr",
          "text": [
            "WARNING:tensorboardX.x2num:NaN or Inf found in input tensor.\n",
            "WARNING:tensorboardX.x2num:NaN or Inf found in input tensor.\n",
            "WARNING:tensorboardX.x2num:NaN or Inf found in input tensor.\n",
            "WARNING:tensorboardX.x2num:NaN or Inf found in input tensor.\n",
            "WARNING:tensorboardX.x2num:NaN or Inf found in input tensor.\n",
            "WARNING:tensorboardX.x2num:NaN or Inf found in input tensor.\n"
          ]
        },
        {
          "output_type": "stream",
          "name": "stdout",
          "text": [
            "Epoch 8/55.. Train loss: nan.. Val loss: nan.. Train L1 norm: nan.. Val L1 norm: nan.. Train Linf norm: nan.. Val Linf norm: nan\n"
          ]
        },
        {
          "output_type": "stream",
          "name": "stderr",
          "text": [
            "WARNING:tensorboardX.x2num:NaN or Inf found in input tensor.\n",
            "WARNING:tensorboardX.x2num:NaN or Inf found in input tensor.\n",
            "WARNING:tensorboardX.x2num:NaN or Inf found in input tensor.\n",
            "WARNING:tensorboardX.x2num:NaN or Inf found in input tensor.\n",
            "WARNING:tensorboardX.x2num:NaN or Inf found in input tensor.\n",
            "WARNING:tensorboardX.x2num:NaN or Inf found in input tensor.\n"
          ]
        },
        {
          "output_type": "stream",
          "name": "stdout",
          "text": [
            "Epoch 9/55.. Train loss: nan.. Val loss: nan.. Train L1 norm: nan.. Val L1 norm: nan.. Train Linf norm: nan.. Val Linf norm: nan\n"
          ]
        },
        {
          "output_type": "stream",
          "name": "stderr",
          "text": [
            "WARNING:tensorboardX.x2num:NaN or Inf found in input tensor.\n",
            "WARNING:tensorboardX.x2num:NaN or Inf found in input tensor.\n",
            "WARNING:tensorboardX.x2num:NaN or Inf found in input tensor.\n",
            "WARNING:tensorboardX.x2num:NaN or Inf found in input tensor.\n",
            "WARNING:tensorboardX.x2num:NaN or Inf found in input tensor.\n",
            "WARNING:tensorboardX.x2num:NaN or Inf found in input tensor.\n"
          ]
        },
        {
          "output_type": "stream",
          "name": "stdout",
          "text": [
            "Epoch 10/55.. Train loss: nan.. Val loss: nan.. Train L1 norm: nan.. Val L1 norm: nan.. Train Linf norm: nan.. Val Linf norm: nan\n"
          ]
        },
        {
          "output_type": "stream",
          "name": "stderr",
          "text": [
            "WARNING:tensorboardX.x2num:NaN or Inf found in input tensor.\n",
            "WARNING:tensorboardX.x2num:NaN or Inf found in input tensor.\n",
            "WARNING:tensorboardX.x2num:NaN or Inf found in input tensor.\n",
            "WARNING:tensorboardX.x2num:NaN or Inf found in input tensor.\n",
            "WARNING:tensorboardX.x2num:NaN or Inf found in input tensor.\n",
            "WARNING:tensorboardX.x2num:NaN or Inf found in input tensor.\n"
          ]
        },
        {
          "output_type": "stream",
          "name": "stdout",
          "text": [
            "Epoch 11/55.. Train loss: nan.. Val loss: nan.. Train L1 norm: nan.. Val L1 norm: nan.. Train Linf norm: nan.. Val Linf norm: nan\n"
          ]
        },
        {
          "output_type": "stream",
          "name": "stderr",
          "text": [
            "WARNING:tensorboardX.x2num:NaN or Inf found in input tensor.\n",
            "WARNING:tensorboardX.x2num:NaN or Inf found in input tensor.\n",
            "WARNING:tensorboardX.x2num:NaN or Inf found in input tensor.\n",
            "WARNING:tensorboardX.x2num:NaN or Inf found in input tensor.\n",
            "WARNING:tensorboardX.x2num:NaN or Inf found in input tensor.\n",
            "WARNING:tensorboardX.x2num:NaN or Inf found in input tensor.\n"
          ]
        },
        {
          "output_type": "stream",
          "name": "stdout",
          "text": [
            "Epoch 12/55.. Train loss: nan.. Val loss: nan.. Train L1 norm: nan.. Val L1 norm: nan.. Train Linf norm: nan.. Val Linf norm: nan\n"
          ]
        },
        {
          "output_type": "stream",
          "name": "stderr",
          "text": [
            "WARNING:tensorboardX.x2num:NaN or Inf found in input tensor.\n",
            "WARNING:tensorboardX.x2num:NaN or Inf found in input tensor.\n",
            "WARNING:tensorboardX.x2num:NaN or Inf found in input tensor.\n",
            "WARNING:tensorboardX.x2num:NaN or Inf found in input tensor.\n",
            "WARNING:tensorboardX.x2num:NaN or Inf found in input tensor.\n",
            "WARNING:tensorboardX.x2num:NaN or Inf found in input tensor.\n"
          ]
        },
        {
          "output_type": "stream",
          "name": "stdout",
          "text": [
            "Epoch 13/55.. Train loss: nan.. Val loss: nan.. Train L1 norm: nan.. Val L1 norm: nan.. Train Linf norm: nan.. Val Linf norm: nan\n"
          ]
        },
        {
          "output_type": "stream",
          "name": "stderr",
          "text": [
            "WARNING:tensorboardX.x2num:NaN or Inf found in input tensor.\n",
            "WARNING:tensorboardX.x2num:NaN or Inf found in input tensor.\n",
            "WARNING:tensorboardX.x2num:NaN or Inf found in input tensor.\n",
            "WARNING:tensorboardX.x2num:NaN or Inf found in input tensor.\n",
            "WARNING:tensorboardX.x2num:NaN or Inf found in input tensor.\n",
            "WARNING:tensorboardX.x2num:NaN or Inf found in input tensor.\n"
          ]
        },
        {
          "output_type": "stream",
          "name": "stdout",
          "text": [
            "Epoch 14/55.. Train loss: nan.. Val loss: nan.. Train L1 norm: nan.. Val L1 norm: nan.. Train Linf norm: nan.. Val Linf norm: nan\n"
          ]
        },
        {
          "output_type": "stream",
          "name": "stderr",
          "text": [
            "WARNING:tensorboardX.x2num:NaN or Inf found in input tensor.\n",
            "WARNING:tensorboardX.x2num:NaN or Inf found in input tensor.\n",
            "WARNING:tensorboardX.x2num:NaN or Inf found in input tensor.\n",
            "WARNING:tensorboardX.x2num:NaN or Inf found in input tensor.\n",
            "WARNING:tensorboardX.x2num:NaN or Inf found in input tensor.\n",
            "WARNING:tensorboardX.x2num:NaN or Inf found in input tensor.\n"
          ]
        },
        {
          "output_type": "stream",
          "name": "stdout",
          "text": [
            "Epoch 15/55.. Train loss: nan.. Val loss: nan.. Train L1 norm: nan.. Val L1 norm: nan.. Train Linf norm: nan.. Val Linf norm: nan\n"
          ]
        },
        {
          "output_type": "stream",
          "name": "stderr",
          "text": [
            "WARNING:tensorboardX.x2num:NaN or Inf found in input tensor.\n",
            "WARNING:tensorboardX.x2num:NaN or Inf found in input tensor.\n",
            "WARNING:tensorboardX.x2num:NaN or Inf found in input tensor.\n",
            "WARNING:tensorboardX.x2num:NaN or Inf found in input tensor.\n",
            "WARNING:tensorboardX.x2num:NaN or Inf found in input tensor.\n",
            "WARNING:tensorboardX.x2num:NaN or Inf found in input tensor.\n"
          ]
        },
        {
          "output_type": "stream",
          "name": "stdout",
          "text": [
            "Epoch 16/55.. Train loss: nan.. Val loss: nan.. Train L1 norm: nan.. Val L1 norm: nan.. Train Linf norm: nan.. Val Linf norm: nan\n"
          ]
        },
        {
          "output_type": "stream",
          "name": "stderr",
          "text": [
            "WARNING:tensorboardX.x2num:NaN or Inf found in input tensor.\n",
            "WARNING:tensorboardX.x2num:NaN or Inf found in input tensor.\n",
            "WARNING:tensorboardX.x2num:NaN or Inf found in input tensor.\n",
            "WARNING:tensorboardX.x2num:NaN or Inf found in input tensor.\n",
            "WARNING:tensorboardX.x2num:NaN or Inf found in input tensor.\n",
            "WARNING:tensorboardX.x2num:NaN or Inf found in input tensor.\n"
          ]
        },
        {
          "output_type": "stream",
          "name": "stdout",
          "text": [
            "Epoch 17/55.. Train loss: nan.. Val loss: nan.. Train L1 norm: nan.. Val L1 norm: nan.. Train Linf norm: nan.. Val Linf norm: nan\n"
          ]
        },
        {
          "output_type": "stream",
          "name": "stderr",
          "text": [
            "WARNING:tensorboardX.x2num:NaN or Inf found in input tensor.\n",
            "WARNING:tensorboardX.x2num:NaN or Inf found in input tensor.\n",
            "WARNING:tensorboardX.x2num:NaN or Inf found in input tensor.\n",
            "WARNING:tensorboardX.x2num:NaN or Inf found in input tensor.\n",
            "WARNING:tensorboardX.x2num:NaN or Inf found in input tensor.\n",
            "WARNING:tensorboardX.x2num:NaN or Inf found in input tensor.\n"
          ]
        },
        {
          "output_type": "stream",
          "name": "stdout",
          "text": [
            "Epoch 18/55.. Train loss: nan.. Val loss: nan.. Train L1 norm: nan.. Val L1 norm: nan.. Train Linf norm: nan.. Val Linf norm: nan\n"
          ]
        },
        {
          "output_type": "stream",
          "name": "stderr",
          "text": [
            "WARNING:tensorboardX.x2num:NaN or Inf found in input tensor.\n",
            "WARNING:tensorboardX.x2num:NaN or Inf found in input tensor.\n",
            "WARNING:tensorboardX.x2num:NaN or Inf found in input tensor.\n",
            "WARNING:tensorboardX.x2num:NaN or Inf found in input tensor.\n",
            "WARNING:tensorboardX.x2num:NaN or Inf found in input tensor.\n",
            "WARNING:tensorboardX.x2num:NaN or Inf found in input tensor.\n"
          ]
        },
        {
          "output_type": "stream",
          "name": "stdout",
          "text": [
            "Epoch 19/55.. Train loss: nan.. Val loss: nan.. Train L1 norm: nan.. Val L1 norm: nan.. Train Linf norm: nan.. Val Linf norm: nan\n"
          ]
        },
        {
          "output_type": "stream",
          "name": "stderr",
          "text": [
            "WARNING:tensorboardX.x2num:NaN or Inf found in input tensor.\n",
            "WARNING:tensorboardX.x2num:NaN or Inf found in input tensor.\n",
            "WARNING:tensorboardX.x2num:NaN or Inf found in input tensor.\n",
            "WARNING:tensorboardX.x2num:NaN or Inf found in input tensor.\n",
            "WARNING:tensorboardX.x2num:NaN or Inf found in input tensor.\n",
            "WARNING:tensorboardX.x2num:NaN or Inf found in input tensor.\n"
          ]
        },
        {
          "output_type": "stream",
          "name": "stdout",
          "text": [
            "Epoch 20/55.. Train loss: nan.. Val loss: nan.. Train L1 norm: nan.. Val L1 norm: nan.. Train Linf norm: nan.. Val Linf norm: nan\n"
          ]
        },
        {
          "output_type": "stream",
          "name": "stderr",
          "text": [
            "WARNING:tensorboardX.x2num:NaN or Inf found in input tensor.\n",
            "WARNING:tensorboardX.x2num:NaN or Inf found in input tensor.\n",
            "WARNING:tensorboardX.x2num:NaN or Inf found in input tensor.\n",
            "WARNING:tensorboardX.x2num:NaN or Inf found in input tensor.\n",
            "WARNING:tensorboardX.x2num:NaN or Inf found in input tensor.\n",
            "WARNING:tensorboardX.x2num:NaN or Inf found in input tensor.\n"
          ]
        },
        {
          "output_type": "stream",
          "name": "stdout",
          "text": [
            "Epoch 21/55.. Train loss: nan.. Val loss: nan.. Train L1 norm: nan.. Val L1 norm: nan.. Train Linf norm: nan.. Val Linf norm: nan\n"
          ]
        },
        {
          "output_type": "stream",
          "name": "stderr",
          "text": [
            "WARNING:tensorboardX.x2num:NaN or Inf found in input tensor.\n",
            "WARNING:tensorboardX.x2num:NaN or Inf found in input tensor.\n",
            "WARNING:tensorboardX.x2num:NaN or Inf found in input tensor.\n",
            "WARNING:tensorboardX.x2num:NaN or Inf found in input tensor.\n",
            "WARNING:tensorboardX.x2num:NaN or Inf found in input tensor.\n",
            "WARNING:tensorboardX.x2num:NaN or Inf found in input tensor.\n"
          ]
        },
        {
          "output_type": "stream",
          "name": "stdout",
          "text": [
            "Epoch 22/55.. Train loss: nan.. Val loss: nan.. Train L1 norm: nan.. Val L1 norm: nan.. Train Linf norm: nan.. Val Linf norm: nan\n"
          ]
        },
        {
          "output_type": "stream",
          "name": "stderr",
          "text": [
            "WARNING:tensorboardX.x2num:NaN or Inf found in input tensor.\n",
            "WARNING:tensorboardX.x2num:NaN or Inf found in input tensor.\n",
            "WARNING:tensorboardX.x2num:NaN or Inf found in input tensor.\n",
            "WARNING:tensorboardX.x2num:NaN or Inf found in input tensor.\n",
            "WARNING:tensorboardX.x2num:NaN or Inf found in input tensor.\n",
            "WARNING:tensorboardX.x2num:NaN or Inf found in input tensor.\n"
          ]
        },
        {
          "output_type": "stream",
          "name": "stdout",
          "text": [
            "Epoch 23/55.. Train loss: nan.. Val loss: nan.. Train L1 norm: nan.. Val L1 norm: nan.. Train Linf norm: nan.. Val Linf norm: nan\n"
          ]
        },
        {
          "output_type": "stream",
          "name": "stderr",
          "text": [
            "WARNING:tensorboardX.x2num:NaN or Inf found in input tensor.\n",
            "WARNING:tensorboardX.x2num:NaN or Inf found in input tensor.\n",
            "WARNING:tensorboardX.x2num:NaN or Inf found in input tensor.\n",
            "WARNING:tensorboardX.x2num:NaN or Inf found in input tensor.\n",
            "WARNING:tensorboardX.x2num:NaN or Inf found in input tensor.\n",
            "WARNING:tensorboardX.x2num:NaN or Inf found in input tensor.\n"
          ]
        },
        {
          "output_type": "stream",
          "name": "stdout",
          "text": [
            "Epoch 24/55.. Train loss: nan.. Val loss: nan.. Train L1 norm: nan.. Val L1 norm: nan.. Train Linf norm: nan.. Val Linf norm: nan\n"
          ]
        },
        {
          "output_type": "stream",
          "name": "stderr",
          "text": [
            "WARNING:tensorboardX.x2num:NaN or Inf found in input tensor.\n",
            "WARNING:tensorboardX.x2num:NaN or Inf found in input tensor.\n",
            "WARNING:tensorboardX.x2num:NaN or Inf found in input tensor.\n",
            "WARNING:tensorboardX.x2num:NaN or Inf found in input tensor.\n",
            "WARNING:tensorboardX.x2num:NaN or Inf found in input tensor.\n",
            "WARNING:tensorboardX.x2num:NaN or Inf found in input tensor.\n"
          ]
        },
        {
          "output_type": "stream",
          "name": "stdout",
          "text": [
            "Epoch 25/55.. Train loss: nan.. Val loss: nan.. Train L1 norm: nan.. Val L1 norm: nan.. Train Linf norm: nan.. Val Linf norm: nan\n"
          ]
        },
        {
          "output_type": "stream",
          "name": "stderr",
          "text": [
            "WARNING:tensorboardX.x2num:NaN or Inf found in input tensor.\n",
            "WARNING:tensorboardX.x2num:NaN or Inf found in input tensor.\n",
            "WARNING:tensorboardX.x2num:NaN or Inf found in input tensor.\n",
            "WARNING:tensorboardX.x2num:NaN or Inf found in input tensor.\n",
            "WARNING:tensorboardX.x2num:NaN or Inf found in input tensor.\n",
            "WARNING:tensorboardX.x2num:NaN or Inf found in input tensor.\n"
          ]
        },
        {
          "output_type": "stream",
          "name": "stdout",
          "text": [
            "Epoch 26/55.. Train loss: nan.. Val loss: nan.. Train L1 norm: nan.. Val L1 norm: nan.. Train Linf norm: nan.. Val Linf norm: nan\n"
          ]
        },
        {
          "output_type": "stream",
          "name": "stderr",
          "text": [
            "WARNING:tensorboardX.x2num:NaN or Inf found in input tensor.\n",
            "WARNING:tensorboardX.x2num:NaN or Inf found in input tensor.\n",
            "WARNING:tensorboardX.x2num:NaN or Inf found in input tensor.\n",
            "WARNING:tensorboardX.x2num:NaN or Inf found in input tensor.\n",
            "WARNING:tensorboardX.x2num:NaN or Inf found in input tensor.\n",
            "WARNING:tensorboardX.x2num:NaN or Inf found in input tensor.\n"
          ]
        },
        {
          "output_type": "stream",
          "name": "stdout",
          "text": [
            "Epoch 27/55.. Train loss: nan.. Val loss: nan.. Train L1 norm: nan.. Val L1 norm: nan.. Train Linf norm: nan.. Val Linf norm: nan\n"
          ]
        },
        {
          "output_type": "stream",
          "name": "stderr",
          "text": [
            "WARNING:tensorboardX.x2num:NaN or Inf found in input tensor.\n",
            "WARNING:tensorboardX.x2num:NaN or Inf found in input tensor.\n",
            "WARNING:tensorboardX.x2num:NaN or Inf found in input tensor.\n",
            "WARNING:tensorboardX.x2num:NaN or Inf found in input tensor.\n",
            "WARNING:tensorboardX.x2num:NaN or Inf found in input tensor.\n",
            "WARNING:tensorboardX.x2num:NaN or Inf found in input tensor.\n"
          ]
        },
        {
          "output_type": "stream",
          "name": "stdout",
          "text": [
            "Epoch 28/55.. Train loss: nan.. Val loss: nan.. Train L1 norm: nan.. Val L1 norm: nan.. Train Linf norm: nan.. Val Linf norm: nan\n"
          ]
        },
        {
          "output_type": "stream",
          "name": "stderr",
          "text": [
            "WARNING:tensorboardX.x2num:NaN or Inf found in input tensor.\n",
            "WARNING:tensorboardX.x2num:NaN or Inf found in input tensor.\n",
            "WARNING:tensorboardX.x2num:NaN or Inf found in input tensor.\n",
            "WARNING:tensorboardX.x2num:NaN or Inf found in input tensor.\n",
            "WARNING:tensorboardX.x2num:NaN or Inf found in input tensor.\n",
            "WARNING:tensorboardX.x2num:NaN or Inf found in input tensor.\n"
          ]
        },
        {
          "output_type": "stream",
          "name": "stdout",
          "text": [
            "Epoch 29/55.. Train loss: nan.. Val loss: nan.. Train L1 norm: nan.. Val L1 norm: nan.. Train Linf norm: nan.. Val Linf norm: nan\n"
          ]
        },
        {
          "output_type": "stream",
          "name": "stderr",
          "text": [
            "WARNING:tensorboardX.x2num:NaN or Inf found in input tensor.\n",
            "WARNING:tensorboardX.x2num:NaN or Inf found in input tensor.\n",
            "WARNING:tensorboardX.x2num:NaN or Inf found in input tensor.\n",
            "WARNING:tensorboardX.x2num:NaN or Inf found in input tensor.\n",
            "WARNING:tensorboardX.x2num:NaN or Inf found in input tensor.\n",
            "WARNING:tensorboardX.x2num:NaN or Inf found in input tensor.\n"
          ]
        },
        {
          "output_type": "stream",
          "name": "stdout",
          "text": [
            "Epoch 30/55.. Train loss: nan.. Val loss: nan.. Train L1 norm: nan.. Val L1 norm: nan.. Train Linf norm: nan.. Val Linf norm: nan\n"
          ]
        },
        {
          "output_type": "stream",
          "name": "stderr",
          "text": [
            "WARNING:tensorboardX.x2num:NaN or Inf found in input tensor.\n",
            "WARNING:tensorboardX.x2num:NaN or Inf found in input tensor.\n",
            "WARNING:tensorboardX.x2num:NaN or Inf found in input tensor.\n",
            "WARNING:tensorboardX.x2num:NaN or Inf found in input tensor.\n",
            "WARNING:tensorboardX.x2num:NaN or Inf found in input tensor.\n",
            "WARNING:tensorboardX.x2num:NaN or Inf found in input tensor.\n"
          ]
        },
        {
          "output_type": "stream",
          "name": "stdout",
          "text": [
            "Epoch 31/55.. Train loss: nan.. Val loss: nan.. Train L1 norm: nan.. Val L1 norm: nan.. Train Linf norm: nan.. Val Linf norm: nan\n"
          ]
        },
        {
          "output_type": "stream",
          "name": "stderr",
          "text": [
            "WARNING:tensorboardX.x2num:NaN or Inf found in input tensor.\n",
            "WARNING:tensorboardX.x2num:NaN or Inf found in input tensor.\n",
            "WARNING:tensorboardX.x2num:NaN or Inf found in input tensor.\n",
            "WARNING:tensorboardX.x2num:NaN or Inf found in input tensor.\n",
            "WARNING:tensorboardX.x2num:NaN or Inf found in input tensor.\n",
            "WARNING:tensorboardX.x2num:NaN or Inf found in input tensor.\n"
          ]
        },
        {
          "output_type": "stream",
          "name": "stdout",
          "text": [
            "Epoch 32/55.. Train loss: nan.. Val loss: nan.. Train L1 norm: nan.. Val L1 norm: nan.. Train Linf norm: nan.. Val Linf norm: nan\n"
          ]
        },
        {
          "output_type": "stream",
          "name": "stderr",
          "text": [
            "WARNING:tensorboardX.x2num:NaN or Inf found in input tensor.\n",
            "WARNING:tensorboardX.x2num:NaN or Inf found in input tensor.\n",
            "WARNING:tensorboardX.x2num:NaN or Inf found in input tensor.\n",
            "WARNING:tensorboardX.x2num:NaN or Inf found in input tensor.\n",
            "WARNING:tensorboardX.x2num:NaN or Inf found in input tensor.\n",
            "WARNING:tensorboardX.x2num:NaN or Inf found in input tensor.\n"
          ]
        },
        {
          "output_type": "stream",
          "name": "stdout",
          "text": [
            "Epoch 33/55.. Train loss: nan.. Val loss: nan.. Train L1 norm: nan.. Val L1 norm: nan.. Train Linf norm: nan.. Val Linf norm: nan\n"
          ]
        },
        {
          "output_type": "stream",
          "name": "stderr",
          "text": [
            "WARNING:tensorboardX.x2num:NaN or Inf found in input tensor.\n",
            "WARNING:tensorboardX.x2num:NaN or Inf found in input tensor.\n",
            "WARNING:tensorboardX.x2num:NaN or Inf found in input tensor.\n",
            "WARNING:tensorboardX.x2num:NaN or Inf found in input tensor.\n",
            "WARNING:tensorboardX.x2num:NaN or Inf found in input tensor.\n",
            "WARNING:tensorboardX.x2num:NaN or Inf found in input tensor.\n"
          ]
        },
        {
          "output_type": "stream",
          "name": "stdout",
          "text": [
            "Epoch 34/55.. Train loss: nan.. Val loss: nan.. Train L1 norm: nan.. Val L1 norm: nan.. Train Linf norm: nan.. Val Linf norm: nan\n"
          ]
        },
        {
          "output_type": "stream",
          "name": "stderr",
          "text": [
            "WARNING:tensorboardX.x2num:NaN or Inf found in input tensor.\n",
            "WARNING:tensorboardX.x2num:NaN or Inf found in input tensor.\n",
            "WARNING:tensorboardX.x2num:NaN or Inf found in input tensor.\n",
            "WARNING:tensorboardX.x2num:NaN or Inf found in input tensor.\n",
            "WARNING:tensorboardX.x2num:NaN or Inf found in input tensor.\n",
            "WARNING:tensorboardX.x2num:NaN or Inf found in input tensor.\n"
          ]
        },
        {
          "output_type": "stream",
          "name": "stdout",
          "text": [
            "Epoch 35/55.. Train loss: nan.. Val loss: nan.. Train L1 norm: nan.. Val L1 norm: nan.. Train Linf norm: nan.. Val Linf norm: nan\n"
          ]
        },
        {
          "output_type": "stream",
          "name": "stderr",
          "text": [
            "WARNING:tensorboardX.x2num:NaN or Inf found in input tensor.\n",
            "WARNING:tensorboardX.x2num:NaN or Inf found in input tensor.\n",
            "WARNING:tensorboardX.x2num:NaN or Inf found in input tensor.\n",
            "WARNING:tensorboardX.x2num:NaN or Inf found in input tensor.\n",
            "WARNING:tensorboardX.x2num:NaN or Inf found in input tensor.\n",
            "WARNING:tensorboardX.x2num:NaN or Inf found in input tensor.\n"
          ]
        },
        {
          "output_type": "stream",
          "name": "stdout",
          "text": [
            "Epoch 36/55.. Train loss: nan.. Val loss: nan.. Train L1 norm: nan.. Val L1 norm: nan.. Train Linf norm: nan.. Val Linf norm: nan\n"
          ]
        },
        {
          "output_type": "stream",
          "name": "stderr",
          "text": [
            "WARNING:tensorboardX.x2num:NaN or Inf found in input tensor.\n",
            "WARNING:tensorboardX.x2num:NaN or Inf found in input tensor.\n",
            "WARNING:tensorboardX.x2num:NaN or Inf found in input tensor.\n",
            "WARNING:tensorboardX.x2num:NaN or Inf found in input tensor.\n",
            "WARNING:tensorboardX.x2num:NaN or Inf found in input tensor.\n",
            "WARNING:tensorboardX.x2num:NaN or Inf found in input tensor.\n"
          ]
        },
        {
          "output_type": "stream",
          "name": "stdout",
          "text": [
            "Epoch 37/55.. Train loss: nan.. Val loss: nan.. Train L1 norm: nan.. Val L1 norm: nan.. Train Linf norm: nan.. Val Linf norm: nan\n"
          ]
        },
        {
          "output_type": "stream",
          "name": "stderr",
          "text": [
            "WARNING:tensorboardX.x2num:NaN or Inf found in input tensor.\n",
            "WARNING:tensorboardX.x2num:NaN or Inf found in input tensor.\n",
            "WARNING:tensorboardX.x2num:NaN or Inf found in input tensor.\n",
            "WARNING:tensorboardX.x2num:NaN or Inf found in input tensor.\n",
            "WARNING:tensorboardX.x2num:NaN or Inf found in input tensor.\n",
            "WARNING:tensorboardX.x2num:NaN or Inf found in input tensor.\n"
          ]
        },
        {
          "output_type": "stream",
          "name": "stdout",
          "text": [
            "Epoch 38/55.. Train loss: nan.. Val loss: nan.. Train L1 norm: nan.. Val L1 norm: nan.. Train Linf norm: nan.. Val Linf norm: nan\n"
          ]
        },
        {
          "output_type": "stream",
          "name": "stderr",
          "text": [
            "WARNING:tensorboardX.x2num:NaN or Inf found in input tensor.\n",
            "WARNING:tensorboardX.x2num:NaN or Inf found in input tensor.\n",
            "WARNING:tensorboardX.x2num:NaN or Inf found in input tensor.\n",
            "WARNING:tensorboardX.x2num:NaN or Inf found in input tensor.\n",
            "WARNING:tensorboardX.x2num:NaN or Inf found in input tensor.\n",
            "WARNING:tensorboardX.x2num:NaN or Inf found in input tensor.\n"
          ]
        },
        {
          "output_type": "stream",
          "name": "stdout",
          "text": [
            "Epoch 39/55.. Train loss: nan.. Val loss: nan.. Train L1 norm: nan.. Val L1 norm: nan.. Train Linf norm: nan.. Val Linf norm: nan\n"
          ]
        },
        {
          "output_type": "stream",
          "name": "stderr",
          "text": [
            "WARNING:tensorboardX.x2num:NaN or Inf found in input tensor.\n",
            "WARNING:tensorboardX.x2num:NaN or Inf found in input tensor.\n",
            "WARNING:tensorboardX.x2num:NaN or Inf found in input tensor.\n",
            "WARNING:tensorboardX.x2num:NaN or Inf found in input tensor.\n",
            "WARNING:tensorboardX.x2num:NaN or Inf found in input tensor.\n",
            "WARNING:tensorboardX.x2num:NaN or Inf found in input tensor.\n"
          ]
        },
        {
          "output_type": "stream",
          "name": "stdout",
          "text": [
            "Epoch 40/55.. Train loss: nan.. Val loss: nan.. Train L1 norm: nan.. Val L1 norm: nan.. Train Linf norm: nan.. Val Linf norm: nan\n"
          ]
        },
        {
          "output_type": "stream",
          "name": "stderr",
          "text": [
            "WARNING:tensorboardX.x2num:NaN or Inf found in input tensor.\n",
            "WARNING:tensorboardX.x2num:NaN or Inf found in input tensor.\n",
            "WARNING:tensorboardX.x2num:NaN or Inf found in input tensor.\n",
            "WARNING:tensorboardX.x2num:NaN or Inf found in input tensor.\n",
            "WARNING:tensorboardX.x2num:NaN or Inf found in input tensor.\n",
            "WARNING:tensorboardX.x2num:NaN or Inf found in input tensor.\n"
          ]
        },
        {
          "output_type": "stream",
          "name": "stdout",
          "text": [
            "Epoch 41/55.. Train loss: nan.. Val loss: nan.. Train L1 norm: nan.. Val L1 norm: nan.. Train Linf norm: nan.. Val Linf norm: nan\n"
          ]
        },
        {
          "output_type": "stream",
          "name": "stderr",
          "text": [
            "WARNING:tensorboardX.x2num:NaN or Inf found in input tensor.\n",
            "WARNING:tensorboardX.x2num:NaN or Inf found in input tensor.\n",
            "WARNING:tensorboardX.x2num:NaN or Inf found in input tensor.\n",
            "WARNING:tensorboardX.x2num:NaN or Inf found in input tensor.\n",
            "WARNING:tensorboardX.x2num:NaN or Inf found in input tensor.\n",
            "WARNING:tensorboardX.x2num:NaN or Inf found in input tensor.\n"
          ]
        },
        {
          "output_type": "stream",
          "name": "stdout",
          "text": [
            "Epoch 42/55.. Train loss: nan.. Val loss: nan.. Train L1 norm: nan.. Val L1 norm: nan.. Train Linf norm: nan.. Val Linf norm: nan\n"
          ]
        },
        {
          "output_type": "stream",
          "name": "stderr",
          "text": [
            "WARNING:tensorboardX.x2num:NaN or Inf found in input tensor.\n",
            "WARNING:tensorboardX.x2num:NaN or Inf found in input tensor.\n",
            "WARNING:tensorboardX.x2num:NaN or Inf found in input tensor.\n",
            "WARNING:tensorboardX.x2num:NaN or Inf found in input tensor.\n",
            "WARNING:tensorboardX.x2num:NaN or Inf found in input tensor.\n",
            "WARNING:tensorboardX.x2num:NaN or Inf found in input tensor.\n"
          ]
        },
        {
          "output_type": "stream",
          "name": "stdout",
          "text": [
            "Epoch 43/55.. Train loss: nan.. Val loss: nan.. Train L1 norm: nan.. Val L1 norm: nan.. Train Linf norm: nan.. Val Linf norm: nan\n"
          ]
        },
        {
          "output_type": "stream",
          "name": "stderr",
          "text": [
            "WARNING:tensorboardX.x2num:NaN or Inf found in input tensor.\n",
            "WARNING:tensorboardX.x2num:NaN or Inf found in input tensor.\n",
            "WARNING:tensorboardX.x2num:NaN or Inf found in input tensor.\n",
            "WARNING:tensorboardX.x2num:NaN or Inf found in input tensor.\n",
            "WARNING:tensorboardX.x2num:NaN or Inf found in input tensor.\n",
            "WARNING:tensorboardX.x2num:NaN or Inf found in input tensor.\n"
          ]
        },
        {
          "output_type": "stream",
          "name": "stdout",
          "text": [
            "Epoch 44/55.. Train loss: nan.. Val loss: nan.. Train L1 norm: nan.. Val L1 norm: nan.. Train Linf norm: nan.. Val Linf norm: nan\n"
          ]
        },
        {
          "output_type": "stream",
          "name": "stderr",
          "text": [
            "WARNING:tensorboardX.x2num:NaN or Inf found in input tensor.\n",
            "WARNING:tensorboardX.x2num:NaN or Inf found in input tensor.\n",
            "WARNING:tensorboardX.x2num:NaN or Inf found in input tensor.\n",
            "WARNING:tensorboardX.x2num:NaN or Inf found in input tensor.\n",
            "WARNING:tensorboardX.x2num:NaN or Inf found in input tensor.\n",
            "WARNING:tensorboardX.x2num:NaN or Inf found in input tensor.\n"
          ]
        },
        {
          "output_type": "stream",
          "name": "stdout",
          "text": [
            "Epoch 45/55.. Train loss: nan.. Val loss: nan.. Train L1 norm: nan.. Val L1 norm: nan.. Train Linf norm: nan.. Val Linf norm: nan\n"
          ]
        },
        {
          "output_type": "stream",
          "name": "stderr",
          "text": [
            "WARNING:tensorboardX.x2num:NaN or Inf found in input tensor.\n",
            "WARNING:tensorboardX.x2num:NaN or Inf found in input tensor.\n",
            "WARNING:tensorboardX.x2num:NaN or Inf found in input tensor.\n",
            "WARNING:tensorboardX.x2num:NaN or Inf found in input tensor.\n",
            "WARNING:tensorboardX.x2num:NaN or Inf found in input tensor.\n",
            "WARNING:tensorboardX.x2num:NaN or Inf found in input tensor.\n"
          ]
        },
        {
          "output_type": "stream",
          "name": "stdout",
          "text": [
            "Epoch 46/55.. Train loss: nan.. Val loss: nan.. Train L1 norm: nan.. Val L1 norm: nan.. Train Linf norm: nan.. Val Linf norm: nan\n"
          ]
        },
        {
          "output_type": "stream",
          "name": "stderr",
          "text": [
            "WARNING:tensorboardX.x2num:NaN or Inf found in input tensor.\n",
            "WARNING:tensorboardX.x2num:NaN or Inf found in input tensor.\n",
            "WARNING:tensorboardX.x2num:NaN or Inf found in input tensor.\n",
            "WARNING:tensorboardX.x2num:NaN or Inf found in input tensor.\n",
            "WARNING:tensorboardX.x2num:NaN or Inf found in input tensor.\n",
            "WARNING:tensorboardX.x2num:NaN or Inf found in input tensor.\n"
          ]
        },
        {
          "output_type": "stream",
          "name": "stdout",
          "text": [
            "Epoch 47/55.. Train loss: nan.. Val loss: nan.. Train L1 norm: nan.. Val L1 norm: nan.. Train Linf norm: nan.. Val Linf norm: nan\n"
          ]
        },
        {
          "output_type": "stream",
          "name": "stderr",
          "text": [
            "WARNING:tensorboardX.x2num:NaN or Inf found in input tensor.\n",
            "WARNING:tensorboardX.x2num:NaN or Inf found in input tensor.\n",
            "WARNING:tensorboardX.x2num:NaN or Inf found in input tensor.\n",
            "WARNING:tensorboardX.x2num:NaN or Inf found in input tensor.\n",
            "WARNING:tensorboardX.x2num:NaN or Inf found in input tensor.\n",
            "WARNING:tensorboardX.x2num:NaN or Inf found in input tensor.\n"
          ]
        },
        {
          "output_type": "stream",
          "name": "stdout",
          "text": [
            "Epoch 48/55.. Train loss: nan.. Val loss: nan.. Train L1 norm: nan.. Val L1 norm: nan.. Train Linf norm: nan.. Val Linf norm: nan\n"
          ]
        },
        {
          "output_type": "stream",
          "name": "stderr",
          "text": [
            "WARNING:tensorboardX.x2num:NaN or Inf found in input tensor.\n",
            "WARNING:tensorboardX.x2num:NaN or Inf found in input tensor.\n",
            "WARNING:tensorboardX.x2num:NaN or Inf found in input tensor.\n",
            "WARNING:tensorboardX.x2num:NaN or Inf found in input tensor.\n",
            "WARNING:tensorboardX.x2num:NaN or Inf found in input tensor.\n",
            "WARNING:tensorboardX.x2num:NaN or Inf found in input tensor.\n"
          ]
        },
        {
          "output_type": "stream",
          "name": "stdout",
          "text": [
            "Epoch 49/55.. Train loss: nan.. Val loss: nan.. Train L1 norm: nan.. Val L1 norm: nan.. Train Linf norm: nan.. Val Linf norm: nan\n"
          ]
        },
        {
          "output_type": "stream",
          "name": "stderr",
          "text": [
            "WARNING:tensorboardX.x2num:NaN or Inf found in input tensor.\n",
            "WARNING:tensorboardX.x2num:NaN or Inf found in input tensor.\n",
            "WARNING:tensorboardX.x2num:NaN or Inf found in input tensor.\n",
            "WARNING:tensorboardX.x2num:NaN or Inf found in input tensor.\n",
            "WARNING:tensorboardX.x2num:NaN or Inf found in input tensor.\n",
            "WARNING:tensorboardX.x2num:NaN or Inf found in input tensor.\n"
          ]
        },
        {
          "output_type": "stream",
          "name": "stdout",
          "text": [
            "Epoch 50/55.. Train loss: nan.. Val loss: nan.. Train L1 norm: nan.. Val L1 norm: nan.. Train Linf norm: nan.. Val Linf norm: nan\n"
          ]
        },
        {
          "output_type": "stream",
          "name": "stderr",
          "text": [
            "WARNING:tensorboardX.x2num:NaN or Inf found in input tensor.\n",
            "WARNING:tensorboardX.x2num:NaN or Inf found in input tensor.\n",
            "WARNING:tensorboardX.x2num:NaN or Inf found in input tensor.\n",
            "WARNING:tensorboardX.x2num:NaN or Inf found in input tensor.\n",
            "WARNING:tensorboardX.x2num:NaN or Inf found in input tensor.\n",
            "WARNING:tensorboardX.x2num:NaN or Inf found in input tensor.\n"
          ]
        },
        {
          "output_type": "stream",
          "name": "stdout",
          "text": [
            "Epoch 51/55.. Train loss: nan.. Val loss: nan.. Train L1 norm: nan.. Val L1 norm: nan.. Train Linf norm: nan.. Val Linf norm: nan\n"
          ]
        },
        {
          "output_type": "stream",
          "name": "stderr",
          "text": [
            "WARNING:tensorboardX.x2num:NaN or Inf found in input tensor.\n",
            "WARNING:tensorboardX.x2num:NaN or Inf found in input tensor.\n",
            "WARNING:tensorboardX.x2num:NaN or Inf found in input tensor.\n",
            "WARNING:tensorboardX.x2num:NaN or Inf found in input tensor.\n",
            "WARNING:tensorboardX.x2num:NaN or Inf found in input tensor.\n",
            "WARNING:tensorboardX.x2num:NaN or Inf found in input tensor.\n"
          ]
        },
        {
          "output_type": "stream",
          "name": "stdout",
          "text": [
            "Epoch 52/55.. Train loss: nan.. Val loss: nan.. Train L1 norm: nan.. Val L1 norm: nan.. Train Linf norm: nan.. Val Linf norm: nan\n"
          ]
        },
        {
          "output_type": "stream",
          "name": "stderr",
          "text": [
            "WARNING:tensorboardX.x2num:NaN or Inf found in input tensor.\n",
            "WARNING:tensorboardX.x2num:NaN or Inf found in input tensor.\n",
            "WARNING:tensorboardX.x2num:NaN or Inf found in input tensor.\n",
            "WARNING:tensorboardX.x2num:NaN or Inf found in input tensor.\n",
            "WARNING:tensorboardX.x2num:NaN or Inf found in input tensor.\n",
            "WARNING:tensorboardX.x2num:NaN or Inf found in input tensor.\n"
          ]
        },
        {
          "output_type": "stream",
          "name": "stdout",
          "text": [
            "Epoch 53/55.. Train loss: nan.. Val loss: nan.. Train L1 norm: nan.. Val L1 norm: nan.. Train Linf norm: nan.. Val Linf norm: nan\n"
          ]
        },
        {
          "output_type": "stream",
          "name": "stderr",
          "text": [
            "WARNING:tensorboardX.x2num:NaN or Inf found in input tensor.\n",
            "WARNING:tensorboardX.x2num:NaN or Inf found in input tensor.\n",
            "WARNING:tensorboardX.x2num:NaN or Inf found in input tensor.\n",
            "WARNING:tensorboardX.x2num:NaN or Inf found in input tensor.\n",
            "WARNING:tensorboardX.x2num:NaN or Inf found in input tensor.\n",
            "WARNING:tensorboardX.x2num:NaN or Inf found in input tensor.\n"
          ]
        },
        {
          "output_type": "stream",
          "name": "stdout",
          "text": [
            "Epoch 54/55.. Train loss: nan.. Val loss: nan.. Train L1 norm: nan.. Val L1 norm: nan.. Train Linf norm: nan.. Val Linf norm: nan\n"
          ]
        },
        {
          "output_type": "stream",
          "name": "stderr",
          "text": [
            "WARNING:tensorboardX.x2num:NaN or Inf found in input tensor.\n",
            "WARNING:tensorboardX.x2num:NaN or Inf found in input tensor.\n",
            "WARNING:tensorboardX.x2num:NaN or Inf found in input tensor.\n",
            "WARNING:tensorboardX.x2num:NaN or Inf found in input tensor.\n",
            "WARNING:tensorboardX.x2num:NaN or Inf found in input tensor.\n",
            "WARNING:tensorboardX.x2num:NaN or Inf found in input tensor.\n",
            "[W 2023-06-03 10:16:41,924] Trial 1 failed with parameters: {'n_layers': 2, 'n_units_0': 3435, 'n_units_1': 3798, 'hidden_activation': 'Swish', 'output_activation': 'Linear', 'loss': 'MSE', 'optimizer': 'SGD', 'lr': 0.00294906527649876, 'batch_size': 512, 'n_epochs': 55, 'scheduler': 'ReduceLROnPlateau', 'dropout_rate': 0.36123917599801547, 'weight_decay': 0.0006232592557876899, 'momentum': 0.9321498483460335, 'factor': 0.4086383396140828, 'patience': 8, 'threshold': 0.00011641504110886072} because of the following error: The value nan is not acceptable..\n",
            "[W 2023-06-03 10:16:41,925] Trial 1 failed with value nan.\n"
          ]
        },
        {
          "output_type": "stream",
          "name": "stdout",
          "text": [
            "Epoch 55/55.. Train loss: nan.. Val loss: nan.. Train L1 norm: nan.. Val L1 norm: nan.. Train Linf norm: nan.. Val Linf norm: nan\n"
          ]
        },
        {
          "output_type": "display_data",
          "data": {
            "text/html": [
              "<html>\n",
              "<head><meta charset=\"utf-8\" /></head>\n",
              "<body>\n",
              "    <div>            <script src=\"https://cdnjs.cloudflare.com/ajax/libs/mathjax/2.7.5/MathJax.js?config=TeX-AMS-MML_SVG\"></script><script type=\"text/javascript\">if (window.MathJax && window.MathJax.Hub && window.MathJax.Hub.Config) {window.MathJax.Hub.Config({SVG: {font: \"STIX-Web\"}});}</script>                <script type=\"text/javascript\">window.PlotlyConfig = {MathJaxConfig: 'local'};</script>\n",
              "        <script src=\"https://cdn.plot.ly/plotly-2.18.2.min.js\"></script>                <div id=\"257b1d9d-32da-4498-bfbd-6a6e24dee158\" class=\"plotly-graph-div\" style=\"height:525px; width:100%;\"></div>            <script type=\"text/javascript\">                                    window.PLOTLYENV=window.PLOTLYENV || {};                                    if (document.getElementById(\"257b1d9d-32da-4498-bfbd-6a6e24dee158\")) {                    Plotly.newPlot(                        \"257b1d9d-32da-4498-bfbd-6a6e24dee158\",                        [{\"mode\":\"markers\",\"name\":\"Objective Value\",\"x\":[0],\"y\":[4.711850512695312],\"type\":\"scatter\"},{\"name\":\"Best Value\",\"x\":[0],\"y\":[4.711850512695312],\"type\":\"scatter\"}],                        {\"title\":{\"text\":\"Optimization History Plot\"},\"xaxis\":{\"title\":{\"text\":\"Trial\"}},\"yaxis\":{\"title\":{\"text\":\"Objective Value\"}},\"template\":{\"data\":{\"histogram2dcontour\":[{\"type\":\"histogram2dcontour\",\"colorbar\":{\"outlinewidth\":0,\"ticks\":\"\"},\"colorscale\":[[0.0,\"#0d0887\"],[0.1111111111111111,\"#46039f\"],[0.2222222222222222,\"#7201a8\"],[0.3333333333333333,\"#9c179e\"],[0.4444444444444444,\"#bd3786\"],[0.5555555555555556,\"#d8576b\"],[0.6666666666666666,\"#ed7953\"],[0.7777777777777778,\"#fb9f3a\"],[0.8888888888888888,\"#fdca26\"],[1.0,\"#f0f921\"]]}],\"choropleth\":[{\"type\":\"choropleth\",\"colorbar\":{\"outlinewidth\":0,\"ticks\":\"\"}}],\"histogram2d\":[{\"type\":\"histogram2d\",\"colorbar\":{\"outlinewidth\":0,\"ticks\":\"\"},\"colorscale\":[[0.0,\"#0d0887\"],[0.1111111111111111,\"#46039f\"],[0.2222222222222222,\"#7201a8\"],[0.3333333333333333,\"#9c179e\"],[0.4444444444444444,\"#bd3786\"],[0.5555555555555556,\"#d8576b\"],[0.6666666666666666,\"#ed7953\"],[0.7777777777777778,\"#fb9f3a\"],[0.8888888888888888,\"#fdca26\"],[1.0,\"#f0f921\"]]}],\"heatmap\":[{\"type\":\"heatmap\",\"colorbar\":{\"outlinewidth\":0,\"ticks\":\"\"},\"colorscale\":[[0.0,\"#0d0887\"],[0.1111111111111111,\"#46039f\"],[0.2222222222222222,\"#7201a8\"],[0.3333333333333333,\"#9c179e\"],[0.4444444444444444,\"#bd3786\"],[0.5555555555555556,\"#d8576b\"],[0.6666666666666666,\"#ed7953\"],[0.7777777777777778,\"#fb9f3a\"],[0.8888888888888888,\"#fdca26\"],[1.0,\"#f0f921\"]]}],\"heatmapgl\":[{\"type\":\"heatmapgl\",\"colorbar\":{\"outlinewidth\":0,\"ticks\":\"\"},\"colorscale\":[[0.0,\"#0d0887\"],[0.1111111111111111,\"#46039f\"],[0.2222222222222222,\"#7201a8\"],[0.3333333333333333,\"#9c179e\"],[0.4444444444444444,\"#bd3786\"],[0.5555555555555556,\"#d8576b\"],[0.6666666666666666,\"#ed7953\"],[0.7777777777777778,\"#fb9f3a\"],[0.8888888888888888,\"#fdca26\"],[1.0,\"#f0f921\"]]}],\"contourcarpet\":[{\"type\":\"contourcarpet\",\"colorbar\":{\"outlinewidth\":0,\"ticks\":\"\"}}],\"contour\":[{\"type\":\"contour\",\"colorbar\":{\"outlinewidth\":0,\"ticks\":\"\"},\"colorscale\":[[0.0,\"#0d0887\"],[0.1111111111111111,\"#46039f\"],[0.2222222222222222,\"#7201a8\"],[0.3333333333333333,\"#9c179e\"],[0.4444444444444444,\"#bd3786\"],[0.5555555555555556,\"#d8576b\"],[0.6666666666666666,\"#ed7953\"],[0.7777777777777778,\"#fb9f3a\"],[0.8888888888888888,\"#fdca26\"],[1.0,\"#f0f921\"]]}],\"surface\":[{\"type\":\"surface\",\"colorbar\":{\"outlinewidth\":0,\"ticks\":\"\"},\"colorscale\":[[0.0,\"#0d0887\"],[0.1111111111111111,\"#46039f\"],[0.2222222222222222,\"#7201a8\"],[0.3333333333333333,\"#9c179e\"],[0.4444444444444444,\"#bd3786\"],[0.5555555555555556,\"#d8576b\"],[0.6666666666666666,\"#ed7953\"],[0.7777777777777778,\"#fb9f3a\"],[0.8888888888888888,\"#fdca26\"],[1.0,\"#f0f921\"]]}],\"mesh3d\":[{\"type\":\"mesh3d\",\"colorbar\":{\"outlinewidth\":0,\"ticks\":\"\"}}],\"scatter\":[{\"fillpattern\":{\"fillmode\":\"overlay\",\"size\":10,\"solidity\":0.2},\"type\":\"scatter\"}],\"parcoords\":[{\"type\":\"parcoords\",\"line\":{\"colorbar\":{\"outlinewidth\":0,\"ticks\":\"\"}}}],\"scatterpolargl\":[{\"type\":\"scatterpolargl\",\"marker\":{\"colorbar\":{\"outlinewidth\":0,\"ticks\":\"\"}}}],\"bar\":[{\"error_x\":{\"color\":\"#2a3f5f\"},\"error_y\":{\"color\":\"#2a3f5f\"},\"marker\":{\"line\":{\"color\":\"#E5ECF6\",\"width\":0.5},\"pattern\":{\"fillmode\":\"overlay\",\"size\":10,\"solidity\":0.2}},\"type\":\"bar\"}],\"scattergeo\":[{\"type\":\"scattergeo\",\"marker\":{\"colorbar\":{\"outlinewidth\":0,\"ticks\":\"\"}}}],\"scatterpolar\":[{\"type\":\"scatterpolar\",\"marker\":{\"colorbar\":{\"outlinewidth\":0,\"ticks\":\"\"}}}],\"histogram\":[{\"marker\":{\"pattern\":{\"fillmode\":\"overlay\",\"size\":10,\"solidity\":0.2}},\"type\":\"histogram\"}],\"scattergl\":[{\"type\":\"scattergl\",\"marker\":{\"colorbar\":{\"outlinewidth\":0,\"ticks\":\"\"}}}],\"scatter3d\":[{\"type\":\"scatter3d\",\"line\":{\"colorbar\":{\"outlinewidth\":0,\"ticks\":\"\"}},\"marker\":{\"colorbar\":{\"outlinewidth\":0,\"ticks\":\"\"}}}],\"scattermapbox\":[{\"type\":\"scattermapbox\",\"marker\":{\"colorbar\":{\"outlinewidth\":0,\"ticks\":\"\"}}}],\"scatterternary\":[{\"type\":\"scatterternary\",\"marker\":{\"colorbar\":{\"outlinewidth\":0,\"ticks\":\"\"}}}],\"scattercarpet\":[{\"type\":\"scattercarpet\",\"marker\":{\"colorbar\":{\"outlinewidth\":0,\"ticks\":\"\"}}}],\"carpet\":[{\"aaxis\":{\"endlinecolor\":\"#2a3f5f\",\"gridcolor\":\"white\",\"linecolor\":\"white\",\"minorgridcolor\":\"white\",\"startlinecolor\":\"#2a3f5f\"},\"baxis\":{\"endlinecolor\":\"#2a3f5f\",\"gridcolor\":\"white\",\"linecolor\":\"white\",\"minorgridcolor\":\"white\",\"startlinecolor\":\"#2a3f5f\"},\"type\":\"carpet\"}],\"table\":[{\"cells\":{\"fill\":{\"color\":\"#EBF0F8\"},\"line\":{\"color\":\"white\"}},\"header\":{\"fill\":{\"color\":\"#C8D4E3\"},\"line\":{\"color\":\"white\"}},\"type\":\"table\"}],\"barpolar\":[{\"marker\":{\"line\":{\"color\":\"#E5ECF6\",\"width\":0.5},\"pattern\":{\"fillmode\":\"overlay\",\"size\":10,\"solidity\":0.2}},\"type\":\"barpolar\"}],\"pie\":[{\"automargin\":true,\"type\":\"pie\"}]},\"layout\":{\"autotypenumbers\":\"strict\",\"colorway\":[\"#636efa\",\"#EF553B\",\"#00cc96\",\"#ab63fa\",\"#FFA15A\",\"#19d3f3\",\"#FF6692\",\"#B6E880\",\"#FF97FF\",\"#FECB52\"],\"font\":{\"color\":\"#2a3f5f\"},\"hovermode\":\"closest\",\"hoverlabel\":{\"align\":\"left\"},\"paper_bgcolor\":\"white\",\"plot_bgcolor\":\"#E5ECF6\",\"polar\":{\"bgcolor\":\"#E5ECF6\",\"angularaxis\":{\"gridcolor\":\"white\",\"linecolor\":\"white\",\"ticks\":\"\"},\"radialaxis\":{\"gridcolor\":\"white\",\"linecolor\":\"white\",\"ticks\":\"\"}},\"ternary\":{\"bgcolor\":\"#E5ECF6\",\"aaxis\":{\"gridcolor\":\"white\",\"linecolor\":\"white\",\"ticks\":\"\"},\"baxis\":{\"gridcolor\":\"white\",\"linecolor\":\"white\",\"ticks\":\"\"},\"caxis\":{\"gridcolor\":\"white\",\"linecolor\":\"white\",\"ticks\":\"\"}},\"coloraxis\":{\"colorbar\":{\"outlinewidth\":0,\"ticks\":\"\"}},\"colorscale\":{\"sequential\":[[0.0,\"#0d0887\"],[0.1111111111111111,\"#46039f\"],[0.2222222222222222,\"#7201a8\"],[0.3333333333333333,\"#9c179e\"],[0.4444444444444444,\"#bd3786\"],[0.5555555555555556,\"#d8576b\"],[0.6666666666666666,\"#ed7953\"],[0.7777777777777778,\"#fb9f3a\"],[0.8888888888888888,\"#fdca26\"],[1.0,\"#f0f921\"]],\"sequentialminus\":[[0.0,\"#0d0887\"],[0.1111111111111111,\"#46039f\"],[0.2222222222222222,\"#7201a8\"],[0.3333333333333333,\"#9c179e\"],[0.4444444444444444,\"#bd3786\"],[0.5555555555555556,\"#d8576b\"],[0.6666666666666666,\"#ed7953\"],[0.7777777777777778,\"#fb9f3a\"],[0.8888888888888888,\"#fdca26\"],[1.0,\"#f0f921\"]],\"diverging\":[[0,\"#8e0152\"],[0.1,\"#c51b7d\"],[0.2,\"#de77ae\"],[0.3,\"#f1b6da\"],[0.4,\"#fde0ef\"],[0.5,\"#f7f7f7\"],[0.6,\"#e6f5d0\"],[0.7,\"#b8e186\"],[0.8,\"#7fbc41\"],[0.9,\"#4d9221\"],[1,\"#276419\"]]},\"xaxis\":{\"gridcolor\":\"white\",\"linecolor\":\"white\",\"ticks\":\"\",\"title\":{\"standoff\":15},\"zerolinecolor\":\"white\",\"automargin\":true,\"zerolinewidth\":2},\"yaxis\":{\"gridcolor\":\"white\",\"linecolor\":\"white\",\"ticks\":\"\",\"title\":{\"standoff\":15},\"zerolinecolor\":\"white\",\"automargin\":true,\"zerolinewidth\":2},\"scene\":{\"xaxis\":{\"backgroundcolor\":\"#E5ECF6\",\"gridcolor\":\"white\",\"linecolor\":\"white\",\"showbackground\":true,\"ticks\":\"\",\"zerolinecolor\":\"white\",\"gridwidth\":2},\"yaxis\":{\"backgroundcolor\":\"#E5ECF6\",\"gridcolor\":\"white\",\"linecolor\":\"white\",\"showbackground\":true,\"ticks\":\"\",\"zerolinecolor\":\"white\",\"gridwidth\":2},\"zaxis\":{\"backgroundcolor\":\"#E5ECF6\",\"gridcolor\":\"white\",\"linecolor\":\"white\",\"showbackground\":true,\"ticks\":\"\",\"zerolinecolor\":\"white\",\"gridwidth\":2}},\"shapedefaults\":{\"line\":{\"color\":\"#2a3f5f\"}},\"annotationdefaults\":{\"arrowcolor\":\"#2a3f5f\",\"arrowhead\":0,\"arrowwidth\":1},\"geo\":{\"bgcolor\":\"white\",\"landcolor\":\"#E5ECF6\",\"subunitcolor\":\"white\",\"showland\":true,\"showlakes\":true,\"lakecolor\":\"white\"},\"title\":{\"x\":0.05},\"mapbox\":{\"style\":\"light\"}}}},                        {\"responsive\": true}                    ).then(function(){\n",
              "                            \n",
              "var gd = document.getElementById('257b1d9d-32da-4498-bfbd-6a6e24dee158');\n",
              "var x = new MutationObserver(function (mutations, observer) {{\n",
              "        var display = window.getComputedStyle(gd).display;\n",
              "        if (!display || display === 'none') {{\n",
              "            console.log([gd, 'removed!']);\n",
              "            Plotly.purge(gd);\n",
              "            observer.disconnect();\n",
              "        }}\n",
              "}});\n",
              "\n",
              "// Listen for the removal of the full notebook cells\n",
              "var notebookContainer = gd.closest('#notebook-container');\n",
              "if (notebookContainer) {{\n",
              "    x.observe(notebookContainer, {childList: true});\n",
              "}}\n",
              "\n",
              "// Listen for the clearing of the current output cell\n",
              "var outputEl = gd.closest('.output');\n",
              "if (outputEl) {{\n",
              "    x.observe(outputEl, {childList: true});\n",
              "}}\n",
              "\n",
              "                        })                };                            </script>        </div>\n",
              "</body>\n",
              "</html>"
            ]
          },
          "metadata": {}
        },
        {
          "output_type": "stream",
          "name": "stderr",
          "text": [
            "<ipython-input-119-ca043aa389dc>:73: FutureWarning:\n",
            "\n",
            "suggest_uniform has been deprecated in v3.0.0. This feature will be removed in v6.0.0. See https://github.com/optuna/optuna/releases/tag/v3.0.0. Use suggest_float instead.\n",
            "\n",
            "<ipython-input-119-ca043aa389dc>:161: FutureWarning:\n",
            "\n",
            "suggest_uniform has been deprecated in v3.0.0. This feature will be removed in v6.0.0. See https://github.com/optuna/optuna/releases/tag/v3.0.0. Use suggest_float instead.\n",
            "\n"
          ]
        },
        {
          "output_type": "stream",
          "name": "stdout",
          "text": [
            "Epoch 1/73.. Train loss: 2.429.. Val loss: 2.115.. Train L1 norm: 5.258.. Val L1 norm: 3.870.. Train Linf norm: 205.745.. Val Linf norm: 143.708\n",
            "Epoch 2/73.. Train loss: 2.304.. Val loss: 2.132.. Train L1 norm: 4.623.. Val L1 norm: 2.997.. Train Linf norm: 182.544.. Val Linf norm: 104.731\n",
            "Epoch 3/73.. Train loss: 2.260.. Val loss: 2.081.. Train L1 norm: 5.531.. Val L1 norm: 2.949.. Train Linf norm: 242.175.. Val Linf norm: 97.738\n",
            "Epoch 4/73.. Train loss: 2.242.. Val loss: 2.043.. Train L1 norm: 4.362.. Val L1 norm: 3.373.. Train Linf norm: 167.331.. Val Linf norm: 118.109\n",
            "Epoch 5/73.. Train loss: 2.216.. Val loss: 2.096.. Train L1 norm: 4.430.. Val L1 norm: 2.589.. Train Linf norm: 174.722.. Val Linf norm: 81.615\n",
            "Epoch 6/73.. Train loss: 2.192.. Val loss: 2.020.. Train L1 norm: 4.564.. Val L1 norm: 3.073.. Train Linf norm: 184.427.. Val Linf norm: 104.913\n",
            "Epoch 7/73.. Train loss: 2.159.. Val loss: 1.942.. Train L1 norm: 4.176.. Val L1 norm: 3.424.. Train Linf norm: 160.684.. Val Linf norm: 118.549\n",
            "Epoch 8/73.. Train loss: 2.099.. Val loss: 1.872.. Train L1 norm: 4.175.. Val L1 norm: 3.525.. Train Linf norm: 158.965.. Val Linf norm: 124.333\n",
            "Epoch 9/73.. Train loss: 1.925.. Val loss: 1.832.. Train L1 norm: 4.101.. Val L1 norm: 2.577.. Train Linf norm: 159.267.. Val Linf norm: 82.654\n",
            "Epoch 10/73.. Train loss: 1.841.. Val loss: 1.902.. Train L1 norm: 4.022.. Val L1 norm: 1.947.. Train Linf norm: 154.938.. Val Linf norm: 53.339\n",
            "Epoch 11/73.. Train loss: 1.822.. Val loss: 1.709.. Train L1 norm: 4.270.. Val L1 norm: 2.655.. Train Linf norm: 174.887.. Val Linf norm: 86.824\n",
            "Epoch 12/73.. Train loss: 1.861.. Val loss: 1.792.. Train L1 norm: 4.108.. Val L1 norm: 2.085.. Train Linf norm: 162.852.. Val Linf norm: 59.822\n",
            "Epoch 13/73.. Train loss: 1.821.. Val loss: 1.769.. Train L1 norm: 4.033.. Val L1 norm: 2.125.. Train Linf norm: 161.728.. Val Linf norm: 62.593\n",
            "Epoch 14/73.. Train loss: 1.792.. Val loss: 1.832.. Train L1 norm: 4.783.. Val L1 norm: 1.810.. Train Linf norm: 211.323.. Val Linf norm: 48.302\n",
            "Epoch 15/73.. Train loss: 1.772.. Val loss: 1.621.. Train L1 norm: 4.542.. Val L1 norm: 2.500.. Train Linf norm: 194.792.. Val Linf norm: 83.634\n",
            "Epoch 16/73.. Train loss: 1.737.. Val loss: 1.535.. Train L1 norm: 4.859.. Val L1 norm: 2.844.. Train Linf norm: 216.944.. Val Linf norm: 103.994\n",
            "Epoch 17/73.. Train loss: 1.671.. Val loss: 1.733.. Train L1 norm: 4.804.. Val L1 norm: 2.077.. Train Linf norm: 215.283.. Val Linf norm: 65.323\n",
            "Epoch 18/73.. Train loss: 1.656.. Val loss: 1.572.. Train L1 norm: 4.074.. Val L1 norm: 2.795.. Train Linf norm: 166.736.. Val Linf norm: 98.956\n",
            "Epoch 19/73.. Train loss: 1.634.. Val loss: 1.587.. Train L1 norm: 4.035.. Val L1 norm: 2.620.. Train Linf norm: 163.597.. Val Linf norm: 95.830\n",
            "Epoch 20/73.. Train loss: 1.645.. Val loss: 1.678.. Train L1 norm: 5.173.. Val L1 norm: 2.241.. Train Linf norm: 240.946.. Val Linf norm: 78.776\n",
            "Epoch 21/73.. Train loss: 1.629.. Val loss: 1.626.. Train L1 norm: 3.820.. Val L1 norm: 2.330.. Train Linf norm: 153.285.. Val Linf norm: 82.656\n",
            "Epoch 22/73.. Train loss: 1.629.. Val loss: 1.626.. Train L1 norm: 3.475.. Val L1 norm: 2.244.. Train Linf norm: 130.758.. Val Linf norm: 77.373\n",
            "Epoch 23/73.. Train loss: 1.579.. Val loss: 1.525.. Train L1 norm: 4.225.. Val L1 norm: 2.838.. Train Linf norm: 179.517.. Val Linf norm: 107.652\n",
            "Epoch 24/73.. Train loss: 1.602.. Val loss: 1.539.. Train L1 norm: 3.935.. Val L1 norm: 2.604.. Train Linf norm: 160.555.. Val Linf norm: 97.282\n",
            "Epoch 25/73.. Train loss: 1.588.. Val loss: 1.555.. Train L1 norm: 4.523.. Val L1 norm: 2.546.. Train Linf norm: 190.077.. Val Linf norm: 94.403\n",
            "Epoch 26/73.. Train loss: 1.550.. Val loss: 1.526.. Train L1 norm: 4.158.. Val L1 norm: 2.672.. Train Linf norm: 176.055.. Val Linf norm: 101.203\n",
            "Epoch 27/73.. Train loss: 1.592.. Val loss: 1.520.. Train L1 norm: 4.403.. Val L1 norm: 2.697.. Train Linf norm: 193.171.. Val Linf norm: 105.613\n",
            "Epoch 28/73.. Train loss: 1.595.. Val loss: 1.530.. Train L1 norm: 4.759.. Val L1 norm: 2.679.. Train Linf norm: 215.055.. Val Linf norm: 103.769\n",
            "Epoch 29/73.. Train loss: 1.584.. Val loss: 1.573.. Train L1 norm: 4.844.. Val L1 norm: 2.455.. Train Linf norm: 223.104.. Val Linf norm: 91.931\n",
            "Epoch 30/73.. Train loss: 1.577.. Val loss: 1.512.. Train L1 norm: 3.923.. Val L1 norm: 2.687.. Train Linf norm: 161.212.. Val Linf norm: 103.977\n",
            "Epoch 31/73.. Train loss: 1.559.. Val loss: 1.492.. Train L1 norm: 4.127.. Val L1 norm: 2.705.. Train Linf norm: 176.556.. Val Linf norm: 103.354\n",
            "Epoch 32/73.. Train loss: 1.559.. Val loss: 1.554.. Train L1 norm: 3.520.. Val L1 norm: 2.422.. Train Linf norm: 136.296.. Val Linf norm: 88.493\n",
            "Epoch 33/73.. Train loss: 1.593.. Val loss: 1.521.. Train L1 norm: 3.811.. Val L1 norm: 2.606.. Train Linf norm: 154.971.. Val Linf norm: 98.077\n",
            "Epoch 34/73.. Train loss: 1.534.. Val loss: 1.511.. Train L1 norm: 3.813.. Val L1 norm: 2.660.. Train Linf norm: 155.774.. Val Linf norm: 102.052\n",
            "Epoch 35/73.. Train loss: 1.543.. Val loss: 1.505.. Train L1 norm: 4.316.. Val L1 norm: 2.655.. Train Linf norm: 188.087.. Val Linf norm: 101.597\n",
            "Epoch 36/73.. Train loss: 1.538.. Val loss: 1.507.. Train L1 norm: 4.662.. Val L1 norm: 2.690.. Train Linf norm: 209.140.. Val Linf norm: 104.621\n",
            "Epoch 37/73.. Train loss: 1.512.. Val loss: 1.508.. Train L1 norm: 4.688.. Val L1 norm: 2.621.. Train Linf norm: 210.486.. Val Linf norm: 101.560\n",
            "Epoch 38/73.. Train loss: 1.538.. Val loss: 1.517.. Train L1 norm: 3.979.. Val L1 norm: 2.677.. Train Linf norm: 167.021.. Val Linf norm: 103.693\n",
            "Epoch 39/73.. Train loss: 1.537.. Val loss: 1.501.. Train L1 norm: 4.299.. Val L1 norm: 2.699.. Train Linf norm: 185.726.. Val Linf norm: 105.115\n",
            "Epoch 40/73.. Train loss: 1.527.. Val loss: 1.503.. Train L1 norm: 4.255.. Val L1 norm: 2.680.. Train Linf norm: 183.296.. Val Linf norm: 103.851\n",
            "Epoch 41/73.. Train loss: 1.530.. Val loss: 1.507.. Train L1 norm: 4.281.. Val L1 norm: 2.662.. Train Linf norm: 187.013.. Val Linf norm: 103.449\n",
            "Epoch 42/73.. Train loss: 1.524.. Val loss: 1.507.. Train L1 norm: 4.462.. Val L1 norm: 2.650.. Train Linf norm: 195.921.. Val Linf norm: 102.895\n",
            "Epoch 43/73.. Train loss: 1.508.. Val loss: 1.502.. Train L1 norm: 3.678.. Val L1 norm: 2.683.. Train Linf norm: 148.356.. Val Linf norm: 104.527\n",
            "Epoch 44/73.. Train loss: 1.541.. Val loss: 1.508.. Train L1 norm: 3.544.. Val L1 norm: 2.644.. Train Linf norm: 139.195.. Val Linf norm: 102.462\n",
            "Epoch 45/73.. Train loss: 1.538.. Val loss: 1.505.. Train L1 norm: 3.863.. Val L1 norm: 2.660.. Train Linf norm: 157.513.. Val Linf norm: 102.659\n",
            "Epoch 46/73.. Train loss: 1.564.. Val loss: 1.507.. Train L1 norm: 4.386.. Val L1 norm: 2.658.. Train Linf norm: 191.611.. Val Linf norm: 102.880\n",
            "Epoch 47/73.. Train loss: 1.508.. Val loss: 1.486.. Train L1 norm: 3.767.. Val L1 norm: 2.733.. Train Linf norm: 153.355.. Val Linf norm: 106.788\n",
            "Epoch 48/73.. Train loss: 1.526.. Val loss: 1.499.. Train L1 norm: 3.571.. Val L1 norm: 2.662.. Train Linf norm: 139.834.. Val Linf norm: 103.095\n",
            "Epoch 49/73.. Train loss: 1.543.. Val loss: 1.503.. Train L1 norm: 3.330.. Val L1 norm: 2.643.. Train Linf norm: 126.110.. Val Linf norm: 102.240\n",
            "Epoch 50/73.. Train loss: 1.562.. Val loss: 1.502.. Train L1 norm: 4.290.. Val L1 norm: 2.654.. Train Linf norm: 185.684.. Val Linf norm: 102.806\n",
            "Epoch 51/73.. Train loss: 1.514.. Val loss: 1.502.. Train L1 norm: 3.982.. Val L1 norm: 2.651.. Train Linf norm: 165.808.. Val Linf norm: 102.638\n",
            "Epoch 52/73.. Train loss: 1.541.. Val loss: 1.499.. Train L1 norm: 3.711.. Val L1 norm: 2.664.. Train Linf norm: 148.153.. Val Linf norm: 103.325\n",
            "Epoch 53/73.. Train loss: 1.540.. Val loss: 1.503.. Train L1 norm: 3.909.. Val L1 norm: 2.643.. Train Linf norm: 157.033.. Val Linf norm: 102.275\n",
            "Epoch 54/73.. Train loss: 1.544.. Val loss: 1.501.. Train L1 norm: 4.424.. Val L1 norm: 2.658.. Train Linf norm: 193.783.. Val Linf norm: 103.114\n",
            "Epoch 55/73.. Train loss: 1.523.. Val loss: 1.501.. Train L1 norm: 4.878.. Val L1 norm: 2.658.. Train Linf norm: 224.272.. Val Linf norm: 102.957\n",
            "Epoch 56/73.. Train loss: 1.527.. Val loss: 1.500.. Train L1 norm: 4.367.. Val L1 norm: 2.659.. Train Linf norm: 191.011.. Val Linf norm: 103.049\n",
            "Epoch 57/73.. Train loss: 1.546.. Val loss: 1.502.. Train L1 norm: 4.341.. Val L1 norm: 2.652.. Train Linf norm: 190.775.. Val Linf norm: 102.721\n",
            "Epoch 58/73.. Train loss: 1.515.. Val loss: 1.500.. Train L1 norm: 4.382.. Val L1 norm: 2.659.. Train Linf norm: 193.285.. Val Linf norm: 103.129\n",
            "Epoch 59/73.. Train loss: 1.525.. Val loss: 1.500.. Train L1 norm: 4.147.. Val L1 norm: 2.661.. Train Linf norm: 177.520.. Val Linf norm: 103.254\n",
            "Epoch 60/73.. Train loss: 1.551.. Val loss: 1.501.. Train L1 norm: 4.226.. Val L1 norm: 2.656.. Train Linf norm: 182.460.. Val Linf norm: 103.008\n",
            "Epoch 61/73.. Train loss: 1.566.. Val loss: 1.501.. Train L1 norm: 3.549.. Val L1 norm: 2.653.. Train Linf norm: 139.014.. Val Linf norm: 102.825\n",
            "Epoch 62/73.. Train loss: 1.549.. Val loss: 1.501.. Train L1 norm: 3.949.. Val L1 norm: 2.656.. Train Linf norm: 164.940.. Val Linf norm: 102.979\n",
            "Epoch 63/73.. Train loss: 1.526.. Val loss: 1.501.. Train L1 norm: 4.243.. Val L1 norm: 2.652.. Train Linf norm: 183.971.. Val Linf norm: 102.781\n",
            "Epoch 64/73.. Train loss: 1.496.. Val loss: 1.499.. Train L1 norm: 3.956.. Val L1 norm: 2.662.. Train Linf norm: 165.853.. Val Linf norm: 103.248\n",
            "Epoch 65/73.. Train loss: 1.537.. Val loss: 1.500.. Train L1 norm: 3.837.. Val L1 norm: 2.660.. Train Linf norm: 155.515.. Val Linf norm: 103.147\n",
            "Epoch 66/73.. Train loss: 1.512.. Val loss: 1.499.. Train L1 norm: 4.045.. Val L1 norm: 2.661.. Train Linf norm: 171.277.. Val Linf norm: 103.210\n",
            "Epoch 67/73.. Train loss: 1.526.. Val loss: 1.499.. Train L1 norm: 4.150.. Val L1 norm: 2.661.. Train Linf norm: 177.438.. Val Linf norm: 103.195\n",
            "Epoch 68/73.. Train loss: 1.520.. Val loss: 1.500.. Train L1 norm: 4.464.. Val L1 norm: 2.660.. Train Linf norm: 197.887.. Val Linf norm: 103.123\n",
            "Epoch 69/73.. Train loss: 1.528.. Val loss: 1.500.. Train L1 norm: 4.269.. Val L1 norm: 2.659.. Train Linf norm: 185.016.. Val Linf norm: 103.099\n",
            "Epoch 70/73.. Train loss: 1.524.. Val loss: 1.499.. Train L1 norm: 3.849.. Val L1 norm: 2.662.. Train Linf norm: 157.974.. Val Linf norm: 103.229\n",
            "Epoch 71/73.. Train loss: 1.516.. Val loss: 1.499.. Train L1 norm: 4.826.. Val L1 norm: 2.662.. Train Linf norm: 221.222.. Val Linf norm: 103.278\n",
            "Epoch 72/73.. Train loss: 1.537.. Val loss: 1.500.. Train L1 norm: 4.863.. Val L1 norm: 2.660.. Train Linf norm: 220.408.. Val Linf norm: 103.156\n"
          ]
        },
        {
          "output_type": "stream",
          "name": "stderr",
          "text": [
            "[I 2023-06-03 10:24:21,096] Trial 2 finished with value: 2.659428728802999 and parameters: {'n_layers': 5, 'n_units_0': 2819, 'n_units_1': 556, 'n_units_2': 3128, 'n_units_3': 1735, 'n_units_4': 888, 'hidden_activation': 'SoftPlus', 'output_activation': 'Linear', 'loss': 'Quantile', 'optimizer': 'RMSprop', 'lr': 0.0001273932749286135, 'batch_size': 64, 'n_epochs': 73, 'scheduler': 'StepLR', 'softplus_beta': 1.4696981810693655, 'dropout_rate': 0.20451557661516634, 'step_size': 8, 'gamma': 0.30002958128370505}. Best is trial 2 with value: 2.659428728802999.\n"
          ]
        },
        {
          "output_type": "stream",
          "name": "stdout",
          "text": [
            "Epoch 73/73.. Train loss: 1.511.. Val loss: 1.500.. Train L1 norm: 3.854.. Val L1 norm: 2.659.. Train Linf norm: 158.675.. Val Linf norm: 103.141\n"
          ]
        },
        {
          "output_type": "display_data",
          "data": {
            "text/html": [
              "<html>\n",
              "<head><meta charset=\"utf-8\" /></head>\n",
              "<body>\n",
              "    <div>            <script src=\"https://cdnjs.cloudflare.com/ajax/libs/mathjax/2.7.5/MathJax.js?config=TeX-AMS-MML_SVG\"></script><script type=\"text/javascript\">if (window.MathJax && window.MathJax.Hub && window.MathJax.Hub.Config) {window.MathJax.Hub.Config({SVG: {font: \"STIX-Web\"}});}</script>                <script type=\"text/javascript\">window.PlotlyConfig = {MathJaxConfig: 'local'};</script>\n",
              "        <script src=\"https://cdn.plot.ly/plotly-2.18.2.min.js\"></script>                <div id=\"d6204cc6-dbd4-4762-ac4d-6d61c191b0ef\" class=\"plotly-graph-div\" style=\"height:525px; width:100%;\"></div>            <script type=\"text/javascript\">                                    window.PLOTLYENV=window.PLOTLYENV || {};                                    if (document.getElementById(\"d6204cc6-dbd4-4762-ac4d-6d61c191b0ef\")) {                    Plotly.newPlot(                        \"d6204cc6-dbd4-4762-ac4d-6d61c191b0ef\",                        [{\"mode\":\"markers\",\"name\":\"Objective Value\",\"x\":[0,2],\"y\":[4.711850512695312,2.659428728802999],\"type\":\"scatter\"},{\"name\":\"Best Value\",\"x\":[0,2],\"y\":[4.711850512695312,2.659428728802999],\"type\":\"scatter\"}],                        {\"title\":{\"text\":\"Optimization History Plot\"},\"xaxis\":{\"title\":{\"text\":\"Trial\"}},\"yaxis\":{\"title\":{\"text\":\"Objective Value\"}},\"template\":{\"data\":{\"histogram2dcontour\":[{\"type\":\"histogram2dcontour\",\"colorbar\":{\"outlinewidth\":0,\"ticks\":\"\"},\"colorscale\":[[0.0,\"#0d0887\"],[0.1111111111111111,\"#46039f\"],[0.2222222222222222,\"#7201a8\"],[0.3333333333333333,\"#9c179e\"],[0.4444444444444444,\"#bd3786\"],[0.5555555555555556,\"#d8576b\"],[0.6666666666666666,\"#ed7953\"],[0.7777777777777778,\"#fb9f3a\"],[0.8888888888888888,\"#fdca26\"],[1.0,\"#f0f921\"]]}],\"choropleth\":[{\"type\":\"choropleth\",\"colorbar\":{\"outlinewidth\":0,\"ticks\":\"\"}}],\"histogram2d\":[{\"type\":\"histogram2d\",\"colorbar\":{\"outlinewidth\":0,\"ticks\":\"\"},\"colorscale\":[[0.0,\"#0d0887\"],[0.1111111111111111,\"#46039f\"],[0.2222222222222222,\"#7201a8\"],[0.3333333333333333,\"#9c179e\"],[0.4444444444444444,\"#bd3786\"],[0.5555555555555556,\"#d8576b\"],[0.6666666666666666,\"#ed7953\"],[0.7777777777777778,\"#fb9f3a\"],[0.8888888888888888,\"#fdca26\"],[1.0,\"#f0f921\"]]}],\"heatmap\":[{\"type\":\"heatmap\",\"colorbar\":{\"outlinewidth\":0,\"ticks\":\"\"},\"colorscale\":[[0.0,\"#0d0887\"],[0.1111111111111111,\"#46039f\"],[0.2222222222222222,\"#7201a8\"],[0.3333333333333333,\"#9c179e\"],[0.4444444444444444,\"#bd3786\"],[0.5555555555555556,\"#d8576b\"],[0.6666666666666666,\"#ed7953\"],[0.7777777777777778,\"#fb9f3a\"],[0.8888888888888888,\"#fdca26\"],[1.0,\"#f0f921\"]]}],\"heatmapgl\":[{\"type\":\"heatmapgl\",\"colorbar\":{\"outlinewidth\":0,\"ticks\":\"\"},\"colorscale\":[[0.0,\"#0d0887\"],[0.1111111111111111,\"#46039f\"],[0.2222222222222222,\"#7201a8\"],[0.3333333333333333,\"#9c179e\"],[0.4444444444444444,\"#bd3786\"],[0.5555555555555556,\"#d8576b\"],[0.6666666666666666,\"#ed7953\"],[0.7777777777777778,\"#fb9f3a\"],[0.8888888888888888,\"#fdca26\"],[1.0,\"#f0f921\"]]}],\"contourcarpet\":[{\"type\":\"contourcarpet\",\"colorbar\":{\"outlinewidth\":0,\"ticks\":\"\"}}],\"contour\":[{\"type\":\"contour\",\"colorbar\":{\"outlinewidth\":0,\"ticks\":\"\"},\"colorscale\":[[0.0,\"#0d0887\"],[0.1111111111111111,\"#46039f\"],[0.2222222222222222,\"#7201a8\"],[0.3333333333333333,\"#9c179e\"],[0.4444444444444444,\"#bd3786\"],[0.5555555555555556,\"#d8576b\"],[0.6666666666666666,\"#ed7953\"],[0.7777777777777778,\"#fb9f3a\"],[0.8888888888888888,\"#fdca26\"],[1.0,\"#f0f921\"]]}],\"surface\":[{\"type\":\"surface\",\"colorbar\":{\"outlinewidth\":0,\"ticks\":\"\"},\"colorscale\":[[0.0,\"#0d0887\"],[0.1111111111111111,\"#46039f\"],[0.2222222222222222,\"#7201a8\"],[0.3333333333333333,\"#9c179e\"],[0.4444444444444444,\"#bd3786\"],[0.5555555555555556,\"#d8576b\"],[0.6666666666666666,\"#ed7953\"],[0.7777777777777778,\"#fb9f3a\"],[0.8888888888888888,\"#fdca26\"],[1.0,\"#f0f921\"]]}],\"mesh3d\":[{\"type\":\"mesh3d\",\"colorbar\":{\"outlinewidth\":0,\"ticks\":\"\"}}],\"scatter\":[{\"fillpattern\":{\"fillmode\":\"overlay\",\"size\":10,\"solidity\":0.2},\"type\":\"scatter\"}],\"parcoords\":[{\"type\":\"parcoords\",\"line\":{\"colorbar\":{\"outlinewidth\":0,\"ticks\":\"\"}}}],\"scatterpolargl\":[{\"type\":\"scatterpolargl\",\"marker\":{\"colorbar\":{\"outlinewidth\":0,\"ticks\":\"\"}}}],\"bar\":[{\"error_x\":{\"color\":\"#2a3f5f\"},\"error_y\":{\"color\":\"#2a3f5f\"},\"marker\":{\"line\":{\"color\":\"#E5ECF6\",\"width\":0.5},\"pattern\":{\"fillmode\":\"overlay\",\"size\":10,\"solidity\":0.2}},\"type\":\"bar\"}],\"scattergeo\":[{\"type\":\"scattergeo\",\"marker\":{\"colorbar\":{\"outlinewidth\":0,\"ticks\":\"\"}}}],\"scatterpolar\":[{\"type\":\"scatterpolar\",\"marker\":{\"colorbar\":{\"outlinewidth\":0,\"ticks\":\"\"}}}],\"histogram\":[{\"marker\":{\"pattern\":{\"fillmode\":\"overlay\",\"size\":10,\"solidity\":0.2}},\"type\":\"histogram\"}],\"scattergl\":[{\"type\":\"scattergl\",\"marker\":{\"colorbar\":{\"outlinewidth\":0,\"ticks\":\"\"}}}],\"scatter3d\":[{\"type\":\"scatter3d\",\"line\":{\"colorbar\":{\"outlinewidth\":0,\"ticks\":\"\"}},\"marker\":{\"colorbar\":{\"outlinewidth\":0,\"ticks\":\"\"}}}],\"scattermapbox\":[{\"type\":\"scattermapbox\",\"marker\":{\"colorbar\":{\"outlinewidth\":0,\"ticks\":\"\"}}}],\"scatterternary\":[{\"type\":\"scatterternary\",\"marker\":{\"colorbar\":{\"outlinewidth\":0,\"ticks\":\"\"}}}],\"scattercarpet\":[{\"type\":\"scattercarpet\",\"marker\":{\"colorbar\":{\"outlinewidth\":0,\"ticks\":\"\"}}}],\"carpet\":[{\"aaxis\":{\"endlinecolor\":\"#2a3f5f\",\"gridcolor\":\"white\",\"linecolor\":\"white\",\"minorgridcolor\":\"white\",\"startlinecolor\":\"#2a3f5f\"},\"baxis\":{\"endlinecolor\":\"#2a3f5f\",\"gridcolor\":\"white\",\"linecolor\":\"white\",\"minorgridcolor\":\"white\",\"startlinecolor\":\"#2a3f5f\"},\"type\":\"carpet\"}],\"table\":[{\"cells\":{\"fill\":{\"color\":\"#EBF0F8\"},\"line\":{\"color\":\"white\"}},\"header\":{\"fill\":{\"color\":\"#C8D4E3\"},\"line\":{\"color\":\"white\"}},\"type\":\"table\"}],\"barpolar\":[{\"marker\":{\"line\":{\"color\":\"#E5ECF6\",\"width\":0.5},\"pattern\":{\"fillmode\":\"overlay\",\"size\":10,\"solidity\":0.2}},\"type\":\"barpolar\"}],\"pie\":[{\"automargin\":true,\"type\":\"pie\"}]},\"layout\":{\"autotypenumbers\":\"strict\",\"colorway\":[\"#636efa\",\"#EF553B\",\"#00cc96\",\"#ab63fa\",\"#FFA15A\",\"#19d3f3\",\"#FF6692\",\"#B6E880\",\"#FF97FF\",\"#FECB52\"],\"font\":{\"color\":\"#2a3f5f\"},\"hovermode\":\"closest\",\"hoverlabel\":{\"align\":\"left\"},\"paper_bgcolor\":\"white\",\"plot_bgcolor\":\"#E5ECF6\",\"polar\":{\"bgcolor\":\"#E5ECF6\",\"angularaxis\":{\"gridcolor\":\"white\",\"linecolor\":\"white\",\"ticks\":\"\"},\"radialaxis\":{\"gridcolor\":\"white\",\"linecolor\":\"white\",\"ticks\":\"\"}},\"ternary\":{\"bgcolor\":\"#E5ECF6\",\"aaxis\":{\"gridcolor\":\"white\",\"linecolor\":\"white\",\"ticks\":\"\"},\"baxis\":{\"gridcolor\":\"white\",\"linecolor\":\"white\",\"ticks\":\"\"},\"caxis\":{\"gridcolor\":\"white\",\"linecolor\":\"white\",\"ticks\":\"\"}},\"coloraxis\":{\"colorbar\":{\"outlinewidth\":0,\"ticks\":\"\"}},\"colorscale\":{\"sequential\":[[0.0,\"#0d0887\"],[0.1111111111111111,\"#46039f\"],[0.2222222222222222,\"#7201a8\"],[0.3333333333333333,\"#9c179e\"],[0.4444444444444444,\"#bd3786\"],[0.5555555555555556,\"#d8576b\"],[0.6666666666666666,\"#ed7953\"],[0.7777777777777778,\"#fb9f3a\"],[0.8888888888888888,\"#fdca26\"],[1.0,\"#f0f921\"]],\"sequentialminus\":[[0.0,\"#0d0887\"],[0.1111111111111111,\"#46039f\"],[0.2222222222222222,\"#7201a8\"],[0.3333333333333333,\"#9c179e\"],[0.4444444444444444,\"#bd3786\"],[0.5555555555555556,\"#d8576b\"],[0.6666666666666666,\"#ed7953\"],[0.7777777777777778,\"#fb9f3a\"],[0.8888888888888888,\"#fdca26\"],[1.0,\"#f0f921\"]],\"diverging\":[[0,\"#8e0152\"],[0.1,\"#c51b7d\"],[0.2,\"#de77ae\"],[0.3,\"#f1b6da\"],[0.4,\"#fde0ef\"],[0.5,\"#f7f7f7\"],[0.6,\"#e6f5d0\"],[0.7,\"#b8e186\"],[0.8,\"#7fbc41\"],[0.9,\"#4d9221\"],[1,\"#276419\"]]},\"xaxis\":{\"gridcolor\":\"white\",\"linecolor\":\"white\",\"ticks\":\"\",\"title\":{\"standoff\":15},\"zerolinecolor\":\"white\",\"automargin\":true,\"zerolinewidth\":2},\"yaxis\":{\"gridcolor\":\"white\",\"linecolor\":\"white\",\"ticks\":\"\",\"title\":{\"standoff\":15},\"zerolinecolor\":\"white\",\"automargin\":true,\"zerolinewidth\":2},\"scene\":{\"xaxis\":{\"backgroundcolor\":\"#E5ECF6\",\"gridcolor\":\"white\",\"linecolor\":\"white\",\"showbackground\":true,\"ticks\":\"\",\"zerolinecolor\":\"white\",\"gridwidth\":2},\"yaxis\":{\"backgroundcolor\":\"#E5ECF6\",\"gridcolor\":\"white\",\"linecolor\":\"white\",\"showbackground\":true,\"ticks\":\"\",\"zerolinecolor\":\"white\",\"gridwidth\":2},\"zaxis\":{\"backgroundcolor\":\"#E5ECF6\",\"gridcolor\":\"white\",\"linecolor\":\"white\",\"showbackground\":true,\"ticks\":\"\",\"zerolinecolor\":\"white\",\"gridwidth\":2}},\"shapedefaults\":{\"line\":{\"color\":\"#2a3f5f\"}},\"annotationdefaults\":{\"arrowcolor\":\"#2a3f5f\",\"arrowhead\":0,\"arrowwidth\":1},\"geo\":{\"bgcolor\":\"white\",\"landcolor\":\"#E5ECF6\",\"subunitcolor\":\"white\",\"showland\":true,\"showlakes\":true,\"lakecolor\":\"white\"},\"title\":{\"x\":0.05},\"mapbox\":{\"style\":\"light\"}}}},                        {\"responsive\": true}                    ).then(function(){\n",
              "                            \n",
              "var gd = document.getElementById('d6204cc6-dbd4-4762-ac4d-6d61c191b0ef');\n",
              "var x = new MutationObserver(function (mutations, observer) {{\n",
              "        var display = window.getComputedStyle(gd).display;\n",
              "        if (!display || display === 'none') {{\n",
              "            console.log([gd, 'removed!']);\n",
              "            Plotly.purge(gd);\n",
              "            observer.disconnect();\n",
              "        }}\n",
              "}});\n",
              "\n",
              "// Listen for the removal of the full notebook cells\n",
              "var notebookContainer = gd.closest('#notebook-container');\n",
              "if (notebookContainer) {{\n",
              "    x.observe(notebookContainer, {childList: true});\n",
              "}}\n",
              "\n",
              "// Listen for the clearing of the current output cell\n",
              "var outputEl = gd.closest('.output');\n",
              "if (outputEl) {{\n",
              "    x.observe(outputEl, {childList: true});\n",
              "}}\n",
              "\n",
              "                        })                };                            </script>        </div>\n",
              "</body>\n",
              "</html>"
            ]
          },
          "metadata": {}
        },
        {
          "output_type": "stream",
          "name": "stderr",
          "text": [
            "[W 2023-06-03 10:24:21,476] Your study has only completed trials with missing parameters.\n",
            "<ipython-input-119-ca043aa389dc>:44: FutureWarning:\n",
            "\n",
            "suggest_loguniform has been deprecated in v3.0.0. This feature will be removed in v6.0.0. See https://github.com/optuna/optuna/releases/tag/v3.0.0. Use suggest_float(..., log=True) instead.\n",
            "\n",
            "<ipython-input-119-ca043aa389dc>:63: FutureWarning:\n",
            "\n",
            "suggest_uniform has been deprecated in v3.0.0. This feature will be removed in v6.0.0. See https://github.com/optuna/optuna/releases/tag/v3.0.0. Use suggest_float instead.\n",
            "\n",
            "<ipython-input-119-ca043aa389dc>:76: FutureWarning:\n",
            "\n",
            "suggest_uniform has been deprecated in v3.0.0. This feature will be removed in v6.0.0. See https://github.com/optuna/optuna/releases/tag/v3.0.0. Use suggest_float instead.\n",
            "\n",
            "<ipython-input-119-ca043aa389dc>:145: FutureWarning:\n",
            "\n",
            "suggest_loguniform has been deprecated in v3.0.0. This feature will be removed in v6.0.0. See https://github.com/optuna/optuna/releases/tag/v3.0.0. Use suggest_float(..., log=True) instead.\n",
            "\n",
            "<ipython-input-119-ca043aa389dc>:146: FutureWarning:\n",
            "\n",
            "suggest_uniform has been deprecated in v3.0.0. This feature will be removed in v6.0.0. See https://github.com/optuna/optuna/releases/tag/v3.0.0. Use suggest_float instead.\n",
            "\n",
            "<ipython-input-119-ca043aa389dc>:161: FutureWarning:\n",
            "\n",
            "suggest_uniform has been deprecated in v3.0.0. This feature will be removed in v6.0.0. See https://github.com/optuna/optuna/releases/tag/v3.0.0. Use suggest_float instead.\n",
            "\n",
            "WARNING:tensorboardX.x2num:NaN or Inf found in input tensor.\n",
            "WARNING:tensorboardX.x2num:NaN or Inf found in input tensor.\n",
            "WARNING:tensorboardX.x2num:NaN or Inf found in input tensor.\n",
            "WARNING:tensorboardX.x2num:NaN or Inf found in input tensor.\n",
            "WARNING:tensorboardX.x2num:NaN or Inf found in input tensor.\n",
            "WARNING:tensorboardX.x2num:NaN or Inf found in input tensor.\n"
          ]
        },
        {
          "output_type": "stream",
          "name": "stdout",
          "text": [
            "Epoch 1/72.. Train loss: nan.. Val loss: nan.. Train L1 norm: nan.. Val L1 norm: nan.. Train Linf norm: nan.. Val Linf norm: nan\n"
          ]
        },
        {
          "output_type": "stream",
          "name": "stderr",
          "text": [
            "WARNING:tensorboardX.x2num:NaN or Inf found in input tensor.\n",
            "WARNING:tensorboardX.x2num:NaN or Inf found in input tensor.\n",
            "WARNING:tensorboardX.x2num:NaN or Inf found in input tensor.\n",
            "WARNING:tensorboardX.x2num:NaN or Inf found in input tensor.\n",
            "WARNING:tensorboardX.x2num:NaN or Inf found in input tensor.\n",
            "WARNING:tensorboardX.x2num:NaN or Inf found in input tensor.\n"
          ]
        },
        {
          "output_type": "stream",
          "name": "stdout",
          "text": [
            "Epoch 2/72.. Train loss: nan.. Val loss: nan.. Train L1 norm: nan.. Val L1 norm: nan.. Train Linf norm: nan.. Val Linf norm: nan\n"
          ]
        },
        {
          "output_type": "stream",
          "name": "stderr",
          "text": [
            "WARNING:tensorboardX.x2num:NaN or Inf found in input tensor.\n",
            "WARNING:tensorboardX.x2num:NaN or Inf found in input tensor.\n",
            "WARNING:tensorboardX.x2num:NaN or Inf found in input tensor.\n",
            "WARNING:tensorboardX.x2num:NaN or Inf found in input tensor.\n",
            "WARNING:tensorboardX.x2num:NaN or Inf found in input tensor.\n",
            "WARNING:tensorboardX.x2num:NaN or Inf found in input tensor.\n"
          ]
        },
        {
          "output_type": "stream",
          "name": "stdout",
          "text": [
            "Epoch 3/72.. Train loss: nan.. Val loss: nan.. Train L1 norm: nan.. Val L1 norm: nan.. Train Linf norm: nan.. Val Linf norm: nan\n"
          ]
        },
        {
          "output_type": "stream",
          "name": "stderr",
          "text": [
            "WARNING:tensorboardX.x2num:NaN or Inf found in input tensor.\n",
            "WARNING:tensorboardX.x2num:NaN or Inf found in input tensor.\n",
            "WARNING:tensorboardX.x2num:NaN or Inf found in input tensor.\n",
            "WARNING:tensorboardX.x2num:NaN or Inf found in input tensor.\n",
            "WARNING:tensorboardX.x2num:NaN or Inf found in input tensor.\n",
            "WARNING:tensorboardX.x2num:NaN or Inf found in input tensor.\n"
          ]
        },
        {
          "output_type": "stream",
          "name": "stdout",
          "text": [
            "Epoch 4/72.. Train loss: nan.. Val loss: nan.. Train L1 norm: nan.. Val L1 norm: nan.. Train Linf norm: nan.. Val Linf norm: nan\n"
          ]
        },
        {
          "output_type": "stream",
          "name": "stderr",
          "text": [
            "WARNING:tensorboardX.x2num:NaN or Inf found in input tensor.\n",
            "WARNING:tensorboardX.x2num:NaN or Inf found in input tensor.\n",
            "WARNING:tensorboardX.x2num:NaN or Inf found in input tensor.\n",
            "WARNING:tensorboardX.x2num:NaN or Inf found in input tensor.\n",
            "WARNING:tensorboardX.x2num:NaN or Inf found in input tensor.\n",
            "WARNING:tensorboardX.x2num:NaN or Inf found in input tensor.\n"
          ]
        },
        {
          "output_type": "stream",
          "name": "stdout",
          "text": [
            "Epoch 5/72.. Train loss: nan.. Val loss: nan.. Train L1 norm: nan.. Val L1 norm: nan.. Train Linf norm: nan.. Val Linf norm: nan\n"
          ]
        },
        {
          "output_type": "stream",
          "name": "stderr",
          "text": [
            "WARNING:tensorboardX.x2num:NaN or Inf found in input tensor.\n",
            "WARNING:tensorboardX.x2num:NaN or Inf found in input tensor.\n",
            "WARNING:tensorboardX.x2num:NaN or Inf found in input tensor.\n",
            "WARNING:tensorboardX.x2num:NaN or Inf found in input tensor.\n",
            "WARNING:tensorboardX.x2num:NaN or Inf found in input tensor.\n",
            "WARNING:tensorboardX.x2num:NaN or Inf found in input tensor.\n"
          ]
        },
        {
          "output_type": "stream",
          "name": "stdout",
          "text": [
            "Epoch 6/72.. Train loss: nan.. Val loss: nan.. Train L1 norm: nan.. Val L1 norm: nan.. Train Linf norm: nan.. Val Linf norm: nan\n"
          ]
        },
        {
          "output_type": "stream",
          "name": "stderr",
          "text": [
            "WARNING:tensorboardX.x2num:NaN or Inf found in input tensor.\n",
            "WARNING:tensorboardX.x2num:NaN or Inf found in input tensor.\n",
            "WARNING:tensorboardX.x2num:NaN or Inf found in input tensor.\n",
            "WARNING:tensorboardX.x2num:NaN or Inf found in input tensor.\n",
            "WARNING:tensorboardX.x2num:NaN or Inf found in input tensor.\n",
            "WARNING:tensorboardX.x2num:NaN or Inf found in input tensor.\n"
          ]
        },
        {
          "output_type": "stream",
          "name": "stdout",
          "text": [
            "Epoch 7/72.. Train loss: nan.. Val loss: nan.. Train L1 norm: nan.. Val L1 norm: nan.. Train Linf norm: nan.. Val Linf norm: nan\n"
          ]
        },
        {
          "output_type": "stream",
          "name": "stderr",
          "text": [
            "WARNING:tensorboardX.x2num:NaN or Inf found in input tensor.\n",
            "WARNING:tensorboardX.x2num:NaN or Inf found in input tensor.\n",
            "WARNING:tensorboardX.x2num:NaN or Inf found in input tensor.\n",
            "WARNING:tensorboardX.x2num:NaN or Inf found in input tensor.\n",
            "WARNING:tensorboardX.x2num:NaN or Inf found in input tensor.\n",
            "WARNING:tensorboardX.x2num:NaN or Inf found in input tensor.\n"
          ]
        },
        {
          "output_type": "stream",
          "name": "stdout",
          "text": [
            "Epoch 8/72.. Train loss: nan.. Val loss: nan.. Train L1 norm: nan.. Val L1 norm: nan.. Train Linf norm: nan.. Val Linf norm: nan\n"
          ]
        },
        {
          "output_type": "stream",
          "name": "stderr",
          "text": [
            "WARNING:tensorboardX.x2num:NaN or Inf found in input tensor.\n",
            "WARNING:tensorboardX.x2num:NaN or Inf found in input tensor.\n",
            "WARNING:tensorboardX.x2num:NaN or Inf found in input tensor.\n",
            "WARNING:tensorboardX.x2num:NaN or Inf found in input tensor.\n",
            "WARNING:tensorboardX.x2num:NaN or Inf found in input tensor.\n",
            "WARNING:tensorboardX.x2num:NaN or Inf found in input tensor.\n"
          ]
        },
        {
          "output_type": "stream",
          "name": "stdout",
          "text": [
            "Epoch 9/72.. Train loss: nan.. Val loss: nan.. Train L1 norm: nan.. Val L1 norm: nan.. Train Linf norm: nan.. Val Linf norm: nan\n"
          ]
        },
        {
          "output_type": "stream",
          "name": "stderr",
          "text": [
            "WARNING:tensorboardX.x2num:NaN or Inf found in input tensor.\n",
            "WARNING:tensorboardX.x2num:NaN or Inf found in input tensor.\n",
            "WARNING:tensorboardX.x2num:NaN or Inf found in input tensor.\n",
            "WARNING:tensorboardX.x2num:NaN or Inf found in input tensor.\n",
            "WARNING:tensorboardX.x2num:NaN or Inf found in input tensor.\n",
            "WARNING:tensorboardX.x2num:NaN or Inf found in input tensor.\n"
          ]
        },
        {
          "output_type": "stream",
          "name": "stdout",
          "text": [
            "Epoch 10/72.. Train loss: nan.. Val loss: nan.. Train L1 norm: nan.. Val L1 norm: nan.. Train Linf norm: nan.. Val Linf norm: nan\n"
          ]
        },
        {
          "output_type": "stream",
          "name": "stderr",
          "text": [
            "WARNING:tensorboardX.x2num:NaN or Inf found in input tensor.\n",
            "WARNING:tensorboardX.x2num:NaN or Inf found in input tensor.\n",
            "WARNING:tensorboardX.x2num:NaN or Inf found in input tensor.\n",
            "WARNING:tensorboardX.x2num:NaN or Inf found in input tensor.\n",
            "WARNING:tensorboardX.x2num:NaN or Inf found in input tensor.\n",
            "WARNING:tensorboardX.x2num:NaN or Inf found in input tensor.\n"
          ]
        },
        {
          "output_type": "stream",
          "name": "stdout",
          "text": [
            "Epoch 11/72.. Train loss: nan.. Val loss: nan.. Train L1 norm: nan.. Val L1 norm: nan.. Train Linf norm: nan.. Val Linf norm: nan\n"
          ]
        },
        {
          "output_type": "stream",
          "name": "stderr",
          "text": [
            "WARNING:tensorboardX.x2num:NaN or Inf found in input tensor.\n",
            "WARNING:tensorboardX.x2num:NaN or Inf found in input tensor.\n",
            "WARNING:tensorboardX.x2num:NaN or Inf found in input tensor.\n",
            "WARNING:tensorboardX.x2num:NaN or Inf found in input tensor.\n",
            "WARNING:tensorboardX.x2num:NaN or Inf found in input tensor.\n",
            "WARNING:tensorboardX.x2num:NaN or Inf found in input tensor.\n"
          ]
        },
        {
          "output_type": "stream",
          "name": "stdout",
          "text": [
            "Epoch 12/72.. Train loss: nan.. Val loss: nan.. Train L1 norm: nan.. Val L1 norm: nan.. Train Linf norm: nan.. Val Linf norm: nan\n"
          ]
        },
        {
          "output_type": "stream",
          "name": "stderr",
          "text": [
            "WARNING:tensorboardX.x2num:NaN or Inf found in input tensor.\n",
            "WARNING:tensorboardX.x2num:NaN or Inf found in input tensor.\n",
            "WARNING:tensorboardX.x2num:NaN or Inf found in input tensor.\n",
            "WARNING:tensorboardX.x2num:NaN or Inf found in input tensor.\n",
            "WARNING:tensorboardX.x2num:NaN or Inf found in input tensor.\n",
            "WARNING:tensorboardX.x2num:NaN or Inf found in input tensor.\n"
          ]
        },
        {
          "output_type": "stream",
          "name": "stdout",
          "text": [
            "Epoch 13/72.. Train loss: nan.. Val loss: nan.. Train L1 norm: nan.. Val L1 norm: nan.. Train Linf norm: nan.. Val Linf norm: nan\n"
          ]
        },
        {
          "output_type": "stream",
          "name": "stderr",
          "text": [
            "WARNING:tensorboardX.x2num:NaN or Inf found in input tensor.\n",
            "WARNING:tensorboardX.x2num:NaN or Inf found in input tensor.\n",
            "WARNING:tensorboardX.x2num:NaN or Inf found in input tensor.\n",
            "WARNING:tensorboardX.x2num:NaN or Inf found in input tensor.\n",
            "WARNING:tensorboardX.x2num:NaN or Inf found in input tensor.\n",
            "WARNING:tensorboardX.x2num:NaN or Inf found in input tensor.\n"
          ]
        },
        {
          "output_type": "stream",
          "name": "stdout",
          "text": [
            "Epoch 14/72.. Train loss: nan.. Val loss: nan.. Train L1 norm: nan.. Val L1 norm: nan.. Train Linf norm: nan.. Val Linf norm: nan\n"
          ]
        },
        {
          "output_type": "stream",
          "name": "stderr",
          "text": [
            "WARNING:tensorboardX.x2num:NaN or Inf found in input tensor.\n",
            "WARNING:tensorboardX.x2num:NaN or Inf found in input tensor.\n",
            "WARNING:tensorboardX.x2num:NaN or Inf found in input tensor.\n",
            "WARNING:tensorboardX.x2num:NaN or Inf found in input tensor.\n",
            "WARNING:tensorboardX.x2num:NaN or Inf found in input tensor.\n",
            "WARNING:tensorboardX.x2num:NaN or Inf found in input tensor.\n"
          ]
        },
        {
          "output_type": "stream",
          "name": "stdout",
          "text": [
            "Epoch 15/72.. Train loss: nan.. Val loss: nan.. Train L1 norm: nan.. Val L1 norm: nan.. Train Linf norm: nan.. Val Linf norm: nan\n"
          ]
        },
        {
          "output_type": "stream",
          "name": "stderr",
          "text": [
            "WARNING:tensorboardX.x2num:NaN or Inf found in input tensor.\n",
            "WARNING:tensorboardX.x2num:NaN or Inf found in input tensor.\n",
            "WARNING:tensorboardX.x2num:NaN or Inf found in input tensor.\n",
            "WARNING:tensorboardX.x2num:NaN or Inf found in input tensor.\n",
            "WARNING:tensorboardX.x2num:NaN or Inf found in input tensor.\n",
            "WARNING:tensorboardX.x2num:NaN or Inf found in input tensor.\n"
          ]
        },
        {
          "output_type": "stream",
          "name": "stdout",
          "text": [
            "Epoch 16/72.. Train loss: nan.. Val loss: nan.. Train L1 norm: nan.. Val L1 norm: nan.. Train Linf norm: nan.. Val Linf norm: nan\n"
          ]
        },
        {
          "output_type": "stream",
          "name": "stderr",
          "text": [
            "WARNING:tensorboardX.x2num:NaN or Inf found in input tensor.\n",
            "WARNING:tensorboardX.x2num:NaN or Inf found in input tensor.\n",
            "WARNING:tensorboardX.x2num:NaN or Inf found in input tensor.\n",
            "WARNING:tensorboardX.x2num:NaN or Inf found in input tensor.\n",
            "WARNING:tensorboardX.x2num:NaN or Inf found in input tensor.\n",
            "WARNING:tensorboardX.x2num:NaN or Inf found in input tensor.\n"
          ]
        },
        {
          "output_type": "stream",
          "name": "stdout",
          "text": [
            "Epoch 17/72.. Train loss: nan.. Val loss: nan.. Train L1 norm: nan.. Val L1 norm: nan.. Train Linf norm: nan.. Val Linf norm: nan\n"
          ]
        },
        {
          "output_type": "stream",
          "name": "stderr",
          "text": [
            "WARNING:tensorboardX.x2num:NaN or Inf found in input tensor.\n",
            "WARNING:tensorboardX.x2num:NaN or Inf found in input tensor.\n",
            "WARNING:tensorboardX.x2num:NaN or Inf found in input tensor.\n",
            "WARNING:tensorboardX.x2num:NaN or Inf found in input tensor.\n",
            "WARNING:tensorboardX.x2num:NaN or Inf found in input tensor.\n",
            "WARNING:tensorboardX.x2num:NaN or Inf found in input tensor.\n"
          ]
        },
        {
          "output_type": "stream",
          "name": "stdout",
          "text": [
            "Epoch 18/72.. Train loss: nan.. Val loss: nan.. Train L1 norm: nan.. Val L1 norm: nan.. Train Linf norm: nan.. Val Linf norm: nan\n"
          ]
        },
        {
          "output_type": "stream",
          "name": "stderr",
          "text": [
            "WARNING:tensorboardX.x2num:NaN or Inf found in input tensor.\n",
            "WARNING:tensorboardX.x2num:NaN or Inf found in input tensor.\n",
            "WARNING:tensorboardX.x2num:NaN or Inf found in input tensor.\n",
            "WARNING:tensorboardX.x2num:NaN or Inf found in input tensor.\n",
            "WARNING:tensorboardX.x2num:NaN or Inf found in input tensor.\n",
            "WARNING:tensorboardX.x2num:NaN or Inf found in input tensor.\n"
          ]
        },
        {
          "output_type": "stream",
          "name": "stdout",
          "text": [
            "Epoch 19/72.. Train loss: nan.. Val loss: nan.. Train L1 norm: nan.. Val L1 norm: nan.. Train Linf norm: nan.. Val Linf norm: nan\n"
          ]
        },
        {
          "output_type": "stream",
          "name": "stderr",
          "text": [
            "WARNING:tensorboardX.x2num:NaN or Inf found in input tensor.\n",
            "WARNING:tensorboardX.x2num:NaN or Inf found in input tensor.\n",
            "WARNING:tensorboardX.x2num:NaN or Inf found in input tensor.\n",
            "WARNING:tensorboardX.x2num:NaN or Inf found in input tensor.\n",
            "WARNING:tensorboardX.x2num:NaN or Inf found in input tensor.\n",
            "WARNING:tensorboardX.x2num:NaN or Inf found in input tensor.\n"
          ]
        },
        {
          "output_type": "stream",
          "name": "stdout",
          "text": [
            "Epoch 20/72.. Train loss: nan.. Val loss: nan.. Train L1 norm: nan.. Val L1 norm: nan.. Train Linf norm: nan.. Val Linf norm: nan\n"
          ]
        },
        {
          "output_type": "stream",
          "name": "stderr",
          "text": [
            "WARNING:tensorboardX.x2num:NaN or Inf found in input tensor.\n",
            "WARNING:tensorboardX.x2num:NaN or Inf found in input tensor.\n",
            "WARNING:tensorboardX.x2num:NaN or Inf found in input tensor.\n",
            "WARNING:tensorboardX.x2num:NaN or Inf found in input tensor.\n",
            "WARNING:tensorboardX.x2num:NaN or Inf found in input tensor.\n",
            "WARNING:tensorboardX.x2num:NaN or Inf found in input tensor.\n"
          ]
        },
        {
          "output_type": "stream",
          "name": "stdout",
          "text": [
            "Epoch 21/72.. Train loss: nan.. Val loss: nan.. Train L1 norm: nan.. Val L1 norm: nan.. Train Linf norm: nan.. Val Linf norm: nan\n"
          ]
        },
        {
          "output_type": "stream",
          "name": "stderr",
          "text": [
            "WARNING:tensorboardX.x2num:NaN or Inf found in input tensor.\n",
            "WARNING:tensorboardX.x2num:NaN or Inf found in input tensor.\n",
            "WARNING:tensorboardX.x2num:NaN or Inf found in input tensor.\n",
            "WARNING:tensorboardX.x2num:NaN or Inf found in input tensor.\n",
            "WARNING:tensorboardX.x2num:NaN or Inf found in input tensor.\n",
            "WARNING:tensorboardX.x2num:NaN or Inf found in input tensor.\n"
          ]
        },
        {
          "output_type": "stream",
          "name": "stdout",
          "text": [
            "Epoch 22/72.. Train loss: nan.. Val loss: nan.. Train L1 norm: nan.. Val L1 norm: nan.. Train Linf norm: nan.. Val Linf norm: nan\n"
          ]
        },
        {
          "output_type": "stream",
          "name": "stderr",
          "text": [
            "WARNING:tensorboardX.x2num:NaN or Inf found in input tensor.\n",
            "WARNING:tensorboardX.x2num:NaN or Inf found in input tensor.\n",
            "WARNING:tensorboardX.x2num:NaN or Inf found in input tensor.\n",
            "WARNING:tensorboardX.x2num:NaN or Inf found in input tensor.\n",
            "WARNING:tensorboardX.x2num:NaN or Inf found in input tensor.\n",
            "WARNING:tensorboardX.x2num:NaN or Inf found in input tensor.\n"
          ]
        },
        {
          "output_type": "stream",
          "name": "stdout",
          "text": [
            "Epoch 23/72.. Train loss: nan.. Val loss: nan.. Train L1 norm: nan.. Val L1 norm: nan.. Train Linf norm: nan.. Val Linf norm: nan\n"
          ]
        },
        {
          "output_type": "stream",
          "name": "stderr",
          "text": [
            "WARNING:tensorboardX.x2num:NaN or Inf found in input tensor.\n",
            "WARNING:tensorboardX.x2num:NaN or Inf found in input tensor.\n",
            "WARNING:tensorboardX.x2num:NaN or Inf found in input tensor.\n",
            "WARNING:tensorboardX.x2num:NaN or Inf found in input tensor.\n",
            "WARNING:tensorboardX.x2num:NaN or Inf found in input tensor.\n",
            "WARNING:tensorboardX.x2num:NaN or Inf found in input tensor.\n"
          ]
        },
        {
          "output_type": "stream",
          "name": "stdout",
          "text": [
            "Epoch 24/72.. Train loss: nan.. Val loss: nan.. Train L1 norm: nan.. Val L1 norm: nan.. Train Linf norm: nan.. Val Linf norm: nan\n"
          ]
        },
        {
          "output_type": "stream",
          "name": "stderr",
          "text": [
            "WARNING:tensorboardX.x2num:NaN or Inf found in input tensor.\n",
            "WARNING:tensorboardX.x2num:NaN or Inf found in input tensor.\n",
            "WARNING:tensorboardX.x2num:NaN or Inf found in input tensor.\n",
            "WARNING:tensorboardX.x2num:NaN or Inf found in input tensor.\n",
            "WARNING:tensorboardX.x2num:NaN or Inf found in input tensor.\n",
            "WARNING:tensorboardX.x2num:NaN or Inf found in input tensor.\n"
          ]
        },
        {
          "output_type": "stream",
          "name": "stdout",
          "text": [
            "Epoch 25/72.. Train loss: nan.. Val loss: nan.. Train L1 norm: nan.. Val L1 norm: nan.. Train Linf norm: nan.. Val Linf norm: nan\n"
          ]
        },
        {
          "output_type": "stream",
          "name": "stderr",
          "text": [
            "WARNING:tensorboardX.x2num:NaN or Inf found in input tensor.\n",
            "WARNING:tensorboardX.x2num:NaN or Inf found in input tensor.\n",
            "WARNING:tensorboardX.x2num:NaN or Inf found in input tensor.\n",
            "WARNING:tensorboardX.x2num:NaN or Inf found in input tensor.\n",
            "WARNING:tensorboardX.x2num:NaN or Inf found in input tensor.\n",
            "WARNING:tensorboardX.x2num:NaN or Inf found in input tensor.\n"
          ]
        },
        {
          "output_type": "stream",
          "name": "stdout",
          "text": [
            "Epoch 26/72.. Train loss: nan.. Val loss: nan.. Train L1 norm: nan.. Val L1 norm: nan.. Train Linf norm: nan.. Val Linf norm: nan\n"
          ]
        },
        {
          "output_type": "stream",
          "name": "stderr",
          "text": [
            "WARNING:tensorboardX.x2num:NaN or Inf found in input tensor.\n",
            "WARNING:tensorboardX.x2num:NaN or Inf found in input tensor.\n",
            "WARNING:tensorboardX.x2num:NaN or Inf found in input tensor.\n",
            "WARNING:tensorboardX.x2num:NaN or Inf found in input tensor.\n",
            "WARNING:tensorboardX.x2num:NaN or Inf found in input tensor.\n",
            "WARNING:tensorboardX.x2num:NaN or Inf found in input tensor.\n"
          ]
        },
        {
          "output_type": "stream",
          "name": "stdout",
          "text": [
            "Epoch 27/72.. Train loss: nan.. Val loss: nan.. Train L1 norm: nan.. Val L1 norm: nan.. Train Linf norm: nan.. Val Linf norm: nan\n"
          ]
        },
        {
          "output_type": "stream",
          "name": "stderr",
          "text": [
            "WARNING:tensorboardX.x2num:NaN or Inf found in input tensor.\n",
            "WARNING:tensorboardX.x2num:NaN or Inf found in input tensor.\n",
            "WARNING:tensorboardX.x2num:NaN or Inf found in input tensor.\n",
            "WARNING:tensorboardX.x2num:NaN or Inf found in input tensor.\n",
            "WARNING:tensorboardX.x2num:NaN or Inf found in input tensor.\n",
            "WARNING:tensorboardX.x2num:NaN or Inf found in input tensor.\n"
          ]
        },
        {
          "output_type": "stream",
          "name": "stdout",
          "text": [
            "Epoch 28/72.. Train loss: nan.. Val loss: nan.. Train L1 norm: nan.. Val L1 norm: nan.. Train Linf norm: nan.. Val Linf norm: nan\n"
          ]
        },
        {
          "output_type": "stream",
          "name": "stderr",
          "text": [
            "WARNING:tensorboardX.x2num:NaN or Inf found in input tensor.\n",
            "WARNING:tensorboardX.x2num:NaN or Inf found in input tensor.\n",
            "WARNING:tensorboardX.x2num:NaN or Inf found in input tensor.\n",
            "WARNING:tensorboardX.x2num:NaN or Inf found in input tensor.\n",
            "WARNING:tensorboardX.x2num:NaN or Inf found in input tensor.\n",
            "WARNING:tensorboardX.x2num:NaN or Inf found in input tensor.\n"
          ]
        },
        {
          "output_type": "stream",
          "name": "stdout",
          "text": [
            "Epoch 29/72.. Train loss: nan.. Val loss: nan.. Train L1 norm: nan.. Val L1 norm: nan.. Train Linf norm: nan.. Val Linf norm: nan\n"
          ]
        },
        {
          "output_type": "stream",
          "name": "stderr",
          "text": [
            "WARNING:tensorboardX.x2num:NaN or Inf found in input tensor.\n",
            "WARNING:tensorboardX.x2num:NaN or Inf found in input tensor.\n",
            "WARNING:tensorboardX.x2num:NaN or Inf found in input tensor.\n",
            "WARNING:tensorboardX.x2num:NaN or Inf found in input tensor.\n",
            "WARNING:tensorboardX.x2num:NaN or Inf found in input tensor.\n",
            "WARNING:tensorboardX.x2num:NaN or Inf found in input tensor.\n"
          ]
        },
        {
          "output_type": "stream",
          "name": "stdout",
          "text": [
            "Epoch 30/72.. Train loss: nan.. Val loss: nan.. Train L1 norm: nan.. Val L1 norm: nan.. Train Linf norm: nan.. Val Linf norm: nan\n"
          ]
        },
        {
          "output_type": "stream",
          "name": "stderr",
          "text": [
            "WARNING:tensorboardX.x2num:NaN or Inf found in input tensor.\n",
            "WARNING:tensorboardX.x2num:NaN or Inf found in input tensor.\n",
            "WARNING:tensorboardX.x2num:NaN or Inf found in input tensor.\n",
            "WARNING:tensorboardX.x2num:NaN or Inf found in input tensor.\n",
            "WARNING:tensorboardX.x2num:NaN or Inf found in input tensor.\n",
            "WARNING:tensorboardX.x2num:NaN or Inf found in input tensor.\n"
          ]
        },
        {
          "output_type": "stream",
          "name": "stdout",
          "text": [
            "Epoch 31/72.. Train loss: nan.. Val loss: nan.. Train L1 norm: nan.. Val L1 norm: nan.. Train Linf norm: nan.. Val Linf norm: nan\n"
          ]
        },
        {
          "output_type": "stream",
          "name": "stderr",
          "text": [
            "WARNING:tensorboardX.x2num:NaN or Inf found in input tensor.\n",
            "WARNING:tensorboardX.x2num:NaN or Inf found in input tensor.\n",
            "WARNING:tensorboardX.x2num:NaN or Inf found in input tensor.\n",
            "WARNING:tensorboardX.x2num:NaN or Inf found in input tensor.\n",
            "WARNING:tensorboardX.x2num:NaN or Inf found in input tensor.\n",
            "WARNING:tensorboardX.x2num:NaN or Inf found in input tensor.\n"
          ]
        },
        {
          "output_type": "stream",
          "name": "stdout",
          "text": [
            "Epoch 32/72.. Train loss: nan.. Val loss: nan.. Train L1 norm: nan.. Val L1 norm: nan.. Train Linf norm: nan.. Val Linf norm: nan\n"
          ]
        },
        {
          "output_type": "stream",
          "name": "stderr",
          "text": [
            "WARNING:tensorboardX.x2num:NaN or Inf found in input tensor.\n",
            "WARNING:tensorboardX.x2num:NaN or Inf found in input tensor.\n",
            "WARNING:tensorboardX.x2num:NaN or Inf found in input tensor.\n",
            "WARNING:tensorboardX.x2num:NaN or Inf found in input tensor.\n",
            "WARNING:tensorboardX.x2num:NaN or Inf found in input tensor.\n",
            "WARNING:tensorboardX.x2num:NaN or Inf found in input tensor.\n"
          ]
        },
        {
          "output_type": "stream",
          "name": "stdout",
          "text": [
            "Epoch 33/72.. Train loss: nan.. Val loss: nan.. Train L1 norm: nan.. Val L1 norm: nan.. Train Linf norm: nan.. Val Linf norm: nan\n"
          ]
        },
        {
          "output_type": "stream",
          "name": "stderr",
          "text": [
            "WARNING:tensorboardX.x2num:NaN or Inf found in input tensor.\n",
            "WARNING:tensorboardX.x2num:NaN or Inf found in input tensor.\n",
            "WARNING:tensorboardX.x2num:NaN or Inf found in input tensor.\n",
            "WARNING:tensorboardX.x2num:NaN or Inf found in input tensor.\n",
            "WARNING:tensorboardX.x2num:NaN or Inf found in input tensor.\n",
            "WARNING:tensorboardX.x2num:NaN or Inf found in input tensor.\n"
          ]
        },
        {
          "output_type": "stream",
          "name": "stdout",
          "text": [
            "Epoch 34/72.. Train loss: nan.. Val loss: nan.. Train L1 norm: nan.. Val L1 norm: nan.. Train Linf norm: nan.. Val Linf norm: nan\n"
          ]
        },
        {
          "output_type": "stream",
          "name": "stderr",
          "text": [
            "WARNING:tensorboardX.x2num:NaN or Inf found in input tensor.\n",
            "WARNING:tensorboardX.x2num:NaN or Inf found in input tensor.\n",
            "WARNING:tensorboardX.x2num:NaN or Inf found in input tensor.\n",
            "WARNING:tensorboardX.x2num:NaN or Inf found in input tensor.\n",
            "WARNING:tensorboardX.x2num:NaN or Inf found in input tensor.\n",
            "WARNING:tensorboardX.x2num:NaN or Inf found in input tensor.\n"
          ]
        },
        {
          "output_type": "stream",
          "name": "stdout",
          "text": [
            "Epoch 35/72.. Train loss: nan.. Val loss: nan.. Train L1 norm: nan.. Val L1 norm: nan.. Train Linf norm: nan.. Val Linf norm: nan\n"
          ]
        },
        {
          "output_type": "stream",
          "name": "stderr",
          "text": [
            "WARNING:tensorboardX.x2num:NaN or Inf found in input tensor.\n",
            "WARNING:tensorboardX.x2num:NaN or Inf found in input tensor.\n",
            "WARNING:tensorboardX.x2num:NaN or Inf found in input tensor.\n",
            "WARNING:tensorboardX.x2num:NaN or Inf found in input tensor.\n",
            "WARNING:tensorboardX.x2num:NaN or Inf found in input tensor.\n",
            "WARNING:tensorboardX.x2num:NaN or Inf found in input tensor.\n"
          ]
        },
        {
          "output_type": "stream",
          "name": "stdout",
          "text": [
            "Epoch 36/72.. Train loss: nan.. Val loss: nan.. Train L1 norm: nan.. Val L1 norm: nan.. Train Linf norm: nan.. Val Linf norm: nan\n"
          ]
        },
        {
          "output_type": "stream",
          "name": "stderr",
          "text": [
            "WARNING:tensorboardX.x2num:NaN or Inf found in input tensor.\n",
            "WARNING:tensorboardX.x2num:NaN or Inf found in input tensor.\n",
            "WARNING:tensorboardX.x2num:NaN or Inf found in input tensor.\n",
            "WARNING:tensorboardX.x2num:NaN or Inf found in input tensor.\n",
            "WARNING:tensorboardX.x2num:NaN or Inf found in input tensor.\n",
            "WARNING:tensorboardX.x2num:NaN or Inf found in input tensor.\n"
          ]
        },
        {
          "output_type": "stream",
          "name": "stdout",
          "text": [
            "Epoch 37/72.. Train loss: nan.. Val loss: nan.. Train L1 norm: nan.. Val L1 norm: nan.. Train Linf norm: nan.. Val Linf norm: nan\n"
          ]
        },
        {
          "output_type": "stream",
          "name": "stderr",
          "text": [
            "WARNING:tensorboardX.x2num:NaN or Inf found in input tensor.\n",
            "WARNING:tensorboardX.x2num:NaN or Inf found in input tensor.\n",
            "WARNING:tensorboardX.x2num:NaN or Inf found in input tensor.\n",
            "WARNING:tensorboardX.x2num:NaN or Inf found in input tensor.\n",
            "WARNING:tensorboardX.x2num:NaN or Inf found in input tensor.\n",
            "WARNING:tensorboardX.x2num:NaN or Inf found in input tensor.\n"
          ]
        },
        {
          "output_type": "stream",
          "name": "stdout",
          "text": [
            "Epoch 38/72.. Train loss: nan.. Val loss: nan.. Train L1 norm: nan.. Val L1 norm: nan.. Train Linf norm: nan.. Val Linf norm: nan\n"
          ]
        },
        {
          "output_type": "stream",
          "name": "stderr",
          "text": [
            "WARNING:tensorboardX.x2num:NaN or Inf found in input tensor.\n",
            "WARNING:tensorboardX.x2num:NaN or Inf found in input tensor.\n",
            "WARNING:tensorboardX.x2num:NaN or Inf found in input tensor.\n",
            "WARNING:tensorboardX.x2num:NaN or Inf found in input tensor.\n",
            "WARNING:tensorboardX.x2num:NaN or Inf found in input tensor.\n",
            "WARNING:tensorboardX.x2num:NaN or Inf found in input tensor.\n"
          ]
        },
        {
          "output_type": "stream",
          "name": "stdout",
          "text": [
            "Epoch 39/72.. Train loss: nan.. Val loss: nan.. Train L1 norm: nan.. Val L1 norm: nan.. Train Linf norm: nan.. Val Linf norm: nan\n"
          ]
        },
        {
          "output_type": "stream",
          "name": "stderr",
          "text": [
            "WARNING:tensorboardX.x2num:NaN or Inf found in input tensor.\n",
            "WARNING:tensorboardX.x2num:NaN or Inf found in input tensor.\n",
            "WARNING:tensorboardX.x2num:NaN or Inf found in input tensor.\n",
            "WARNING:tensorboardX.x2num:NaN or Inf found in input tensor.\n",
            "WARNING:tensorboardX.x2num:NaN or Inf found in input tensor.\n",
            "WARNING:tensorboardX.x2num:NaN or Inf found in input tensor.\n"
          ]
        },
        {
          "output_type": "stream",
          "name": "stdout",
          "text": [
            "Epoch 40/72.. Train loss: nan.. Val loss: nan.. Train L1 norm: nan.. Val L1 norm: nan.. Train Linf norm: nan.. Val Linf norm: nan\n"
          ]
        },
        {
          "output_type": "stream",
          "name": "stderr",
          "text": [
            "WARNING:tensorboardX.x2num:NaN or Inf found in input tensor.\n",
            "WARNING:tensorboardX.x2num:NaN or Inf found in input tensor.\n",
            "WARNING:tensorboardX.x2num:NaN or Inf found in input tensor.\n",
            "WARNING:tensorboardX.x2num:NaN or Inf found in input tensor.\n",
            "WARNING:tensorboardX.x2num:NaN or Inf found in input tensor.\n",
            "WARNING:tensorboardX.x2num:NaN or Inf found in input tensor.\n"
          ]
        },
        {
          "output_type": "stream",
          "name": "stdout",
          "text": [
            "Epoch 41/72.. Train loss: nan.. Val loss: nan.. Train L1 norm: nan.. Val L1 norm: nan.. Train Linf norm: nan.. Val Linf norm: nan\n"
          ]
        },
        {
          "output_type": "stream",
          "name": "stderr",
          "text": [
            "WARNING:tensorboardX.x2num:NaN or Inf found in input tensor.\n",
            "WARNING:tensorboardX.x2num:NaN or Inf found in input tensor.\n",
            "WARNING:tensorboardX.x2num:NaN or Inf found in input tensor.\n",
            "WARNING:tensorboardX.x2num:NaN or Inf found in input tensor.\n",
            "WARNING:tensorboardX.x2num:NaN or Inf found in input tensor.\n",
            "WARNING:tensorboardX.x2num:NaN or Inf found in input tensor.\n"
          ]
        },
        {
          "output_type": "stream",
          "name": "stdout",
          "text": [
            "Epoch 42/72.. Train loss: nan.. Val loss: nan.. Train L1 norm: nan.. Val L1 norm: nan.. Train Linf norm: nan.. Val Linf norm: nan\n"
          ]
        },
        {
          "output_type": "stream",
          "name": "stderr",
          "text": [
            "WARNING:tensorboardX.x2num:NaN or Inf found in input tensor.\n",
            "WARNING:tensorboardX.x2num:NaN or Inf found in input tensor.\n",
            "WARNING:tensorboardX.x2num:NaN or Inf found in input tensor.\n",
            "WARNING:tensorboardX.x2num:NaN or Inf found in input tensor.\n",
            "WARNING:tensorboardX.x2num:NaN or Inf found in input tensor.\n",
            "WARNING:tensorboardX.x2num:NaN or Inf found in input tensor.\n"
          ]
        },
        {
          "output_type": "stream",
          "name": "stdout",
          "text": [
            "Epoch 43/72.. Train loss: nan.. Val loss: nan.. Train L1 norm: nan.. Val L1 norm: nan.. Train Linf norm: nan.. Val Linf norm: nan\n"
          ]
        },
        {
          "output_type": "stream",
          "name": "stderr",
          "text": [
            "WARNING:tensorboardX.x2num:NaN or Inf found in input tensor.\n",
            "WARNING:tensorboardX.x2num:NaN or Inf found in input tensor.\n",
            "WARNING:tensorboardX.x2num:NaN or Inf found in input tensor.\n",
            "WARNING:tensorboardX.x2num:NaN or Inf found in input tensor.\n",
            "WARNING:tensorboardX.x2num:NaN or Inf found in input tensor.\n",
            "WARNING:tensorboardX.x2num:NaN or Inf found in input tensor.\n"
          ]
        },
        {
          "output_type": "stream",
          "name": "stdout",
          "text": [
            "Epoch 44/72.. Train loss: nan.. Val loss: nan.. Train L1 norm: nan.. Val L1 norm: nan.. Train Linf norm: nan.. Val Linf norm: nan\n"
          ]
        },
        {
          "output_type": "stream",
          "name": "stderr",
          "text": [
            "WARNING:tensorboardX.x2num:NaN or Inf found in input tensor.\n",
            "WARNING:tensorboardX.x2num:NaN or Inf found in input tensor.\n",
            "WARNING:tensorboardX.x2num:NaN or Inf found in input tensor.\n",
            "WARNING:tensorboardX.x2num:NaN or Inf found in input tensor.\n",
            "WARNING:tensorboardX.x2num:NaN or Inf found in input tensor.\n",
            "WARNING:tensorboardX.x2num:NaN or Inf found in input tensor.\n"
          ]
        },
        {
          "output_type": "stream",
          "name": "stdout",
          "text": [
            "Epoch 45/72.. Train loss: nan.. Val loss: nan.. Train L1 norm: nan.. Val L1 norm: nan.. Train Linf norm: nan.. Val Linf norm: nan\n"
          ]
        },
        {
          "output_type": "stream",
          "name": "stderr",
          "text": [
            "WARNING:tensorboardX.x2num:NaN or Inf found in input tensor.\n",
            "WARNING:tensorboardX.x2num:NaN or Inf found in input tensor.\n",
            "WARNING:tensorboardX.x2num:NaN or Inf found in input tensor.\n",
            "WARNING:tensorboardX.x2num:NaN or Inf found in input tensor.\n",
            "WARNING:tensorboardX.x2num:NaN or Inf found in input tensor.\n",
            "WARNING:tensorboardX.x2num:NaN or Inf found in input tensor.\n"
          ]
        },
        {
          "output_type": "stream",
          "name": "stdout",
          "text": [
            "Epoch 46/72.. Train loss: nan.. Val loss: nan.. Train L1 norm: nan.. Val L1 norm: nan.. Train Linf norm: nan.. Val Linf norm: nan\n"
          ]
        },
        {
          "output_type": "stream",
          "name": "stderr",
          "text": [
            "WARNING:tensorboardX.x2num:NaN or Inf found in input tensor.\n",
            "WARNING:tensorboardX.x2num:NaN or Inf found in input tensor.\n",
            "WARNING:tensorboardX.x2num:NaN or Inf found in input tensor.\n",
            "WARNING:tensorboardX.x2num:NaN or Inf found in input tensor.\n",
            "WARNING:tensorboardX.x2num:NaN or Inf found in input tensor.\n",
            "WARNING:tensorboardX.x2num:NaN or Inf found in input tensor.\n"
          ]
        },
        {
          "output_type": "stream",
          "name": "stdout",
          "text": [
            "Epoch 47/72.. Train loss: nan.. Val loss: nan.. Train L1 norm: nan.. Val L1 norm: nan.. Train Linf norm: nan.. Val Linf norm: nan\n"
          ]
        },
        {
          "output_type": "stream",
          "name": "stderr",
          "text": [
            "WARNING:tensorboardX.x2num:NaN or Inf found in input tensor.\n",
            "WARNING:tensorboardX.x2num:NaN or Inf found in input tensor.\n",
            "WARNING:tensorboardX.x2num:NaN or Inf found in input tensor.\n",
            "WARNING:tensorboardX.x2num:NaN or Inf found in input tensor.\n",
            "WARNING:tensorboardX.x2num:NaN or Inf found in input tensor.\n",
            "WARNING:tensorboardX.x2num:NaN or Inf found in input tensor.\n"
          ]
        },
        {
          "output_type": "stream",
          "name": "stdout",
          "text": [
            "Epoch 48/72.. Train loss: nan.. Val loss: nan.. Train L1 norm: nan.. Val L1 norm: nan.. Train Linf norm: nan.. Val Linf norm: nan\n"
          ]
        },
        {
          "output_type": "stream",
          "name": "stderr",
          "text": [
            "WARNING:tensorboardX.x2num:NaN or Inf found in input tensor.\n",
            "WARNING:tensorboardX.x2num:NaN or Inf found in input tensor.\n",
            "WARNING:tensorboardX.x2num:NaN or Inf found in input tensor.\n",
            "WARNING:tensorboardX.x2num:NaN or Inf found in input tensor.\n",
            "WARNING:tensorboardX.x2num:NaN or Inf found in input tensor.\n",
            "WARNING:tensorboardX.x2num:NaN or Inf found in input tensor.\n"
          ]
        },
        {
          "output_type": "stream",
          "name": "stdout",
          "text": [
            "Epoch 49/72.. Train loss: nan.. Val loss: nan.. Train L1 norm: nan.. Val L1 norm: nan.. Train Linf norm: nan.. Val Linf norm: nan\n"
          ]
        },
        {
          "output_type": "stream",
          "name": "stderr",
          "text": [
            "WARNING:tensorboardX.x2num:NaN or Inf found in input tensor.\n",
            "WARNING:tensorboardX.x2num:NaN or Inf found in input tensor.\n",
            "WARNING:tensorboardX.x2num:NaN or Inf found in input tensor.\n",
            "WARNING:tensorboardX.x2num:NaN or Inf found in input tensor.\n",
            "WARNING:tensorboardX.x2num:NaN or Inf found in input tensor.\n",
            "WARNING:tensorboardX.x2num:NaN or Inf found in input tensor.\n"
          ]
        },
        {
          "output_type": "stream",
          "name": "stdout",
          "text": [
            "Epoch 50/72.. Train loss: nan.. Val loss: nan.. Train L1 norm: nan.. Val L1 norm: nan.. Train Linf norm: nan.. Val Linf norm: nan\n"
          ]
        },
        {
          "output_type": "stream",
          "name": "stderr",
          "text": [
            "WARNING:tensorboardX.x2num:NaN or Inf found in input tensor.\n",
            "WARNING:tensorboardX.x2num:NaN or Inf found in input tensor.\n",
            "WARNING:tensorboardX.x2num:NaN or Inf found in input tensor.\n",
            "WARNING:tensorboardX.x2num:NaN or Inf found in input tensor.\n",
            "WARNING:tensorboardX.x2num:NaN or Inf found in input tensor.\n",
            "WARNING:tensorboardX.x2num:NaN or Inf found in input tensor.\n"
          ]
        },
        {
          "output_type": "stream",
          "name": "stdout",
          "text": [
            "Epoch 51/72.. Train loss: nan.. Val loss: nan.. Train L1 norm: nan.. Val L1 norm: nan.. Train Linf norm: nan.. Val Linf norm: nan\n"
          ]
        },
        {
          "output_type": "stream",
          "name": "stderr",
          "text": [
            "WARNING:tensorboardX.x2num:NaN or Inf found in input tensor.\n",
            "WARNING:tensorboardX.x2num:NaN or Inf found in input tensor.\n",
            "WARNING:tensorboardX.x2num:NaN or Inf found in input tensor.\n",
            "WARNING:tensorboardX.x2num:NaN or Inf found in input tensor.\n",
            "WARNING:tensorboardX.x2num:NaN or Inf found in input tensor.\n",
            "WARNING:tensorboardX.x2num:NaN or Inf found in input tensor.\n"
          ]
        },
        {
          "output_type": "stream",
          "name": "stdout",
          "text": [
            "Epoch 52/72.. Train loss: nan.. Val loss: nan.. Train L1 norm: nan.. Val L1 norm: nan.. Train Linf norm: nan.. Val Linf norm: nan\n"
          ]
        },
        {
          "output_type": "stream",
          "name": "stderr",
          "text": [
            "WARNING:tensorboardX.x2num:NaN or Inf found in input tensor.\n",
            "WARNING:tensorboardX.x2num:NaN or Inf found in input tensor.\n",
            "WARNING:tensorboardX.x2num:NaN or Inf found in input tensor.\n",
            "WARNING:tensorboardX.x2num:NaN or Inf found in input tensor.\n",
            "WARNING:tensorboardX.x2num:NaN or Inf found in input tensor.\n",
            "WARNING:tensorboardX.x2num:NaN or Inf found in input tensor.\n"
          ]
        },
        {
          "output_type": "stream",
          "name": "stdout",
          "text": [
            "Epoch 53/72.. Train loss: nan.. Val loss: nan.. Train L1 norm: nan.. Val L1 norm: nan.. Train Linf norm: nan.. Val Linf norm: nan\n"
          ]
        },
        {
          "output_type": "stream",
          "name": "stderr",
          "text": [
            "WARNING:tensorboardX.x2num:NaN or Inf found in input tensor.\n",
            "WARNING:tensorboardX.x2num:NaN or Inf found in input tensor.\n",
            "WARNING:tensorboardX.x2num:NaN or Inf found in input tensor.\n",
            "WARNING:tensorboardX.x2num:NaN or Inf found in input tensor.\n",
            "WARNING:tensorboardX.x2num:NaN or Inf found in input tensor.\n",
            "WARNING:tensorboardX.x2num:NaN or Inf found in input tensor.\n"
          ]
        },
        {
          "output_type": "stream",
          "name": "stdout",
          "text": [
            "Epoch 54/72.. Train loss: nan.. Val loss: nan.. Train L1 norm: nan.. Val L1 norm: nan.. Train Linf norm: nan.. Val Linf norm: nan\n"
          ]
        },
        {
          "output_type": "stream",
          "name": "stderr",
          "text": [
            "WARNING:tensorboardX.x2num:NaN or Inf found in input tensor.\n",
            "WARNING:tensorboardX.x2num:NaN or Inf found in input tensor.\n",
            "WARNING:tensorboardX.x2num:NaN or Inf found in input tensor.\n",
            "WARNING:tensorboardX.x2num:NaN or Inf found in input tensor.\n",
            "WARNING:tensorboardX.x2num:NaN or Inf found in input tensor.\n",
            "WARNING:tensorboardX.x2num:NaN or Inf found in input tensor.\n"
          ]
        },
        {
          "output_type": "stream",
          "name": "stdout",
          "text": [
            "Epoch 55/72.. Train loss: nan.. Val loss: nan.. Train L1 norm: nan.. Val L1 norm: nan.. Train Linf norm: nan.. Val Linf norm: nan\n"
          ]
        },
        {
          "output_type": "stream",
          "name": "stderr",
          "text": [
            "WARNING:tensorboardX.x2num:NaN or Inf found in input tensor.\n",
            "WARNING:tensorboardX.x2num:NaN or Inf found in input tensor.\n",
            "WARNING:tensorboardX.x2num:NaN or Inf found in input tensor.\n",
            "WARNING:tensorboardX.x2num:NaN or Inf found in input tensor.\n",
            "WARNING:tensorboardX.x2num:NaN or Inf found in input tensor.\n",
            "WARNING:tensorboardX.x2num:NaN or Inf found in input tensor.\n"
          ]
        },
        {
          "output_type": "stream",
          "name": "stdout",
          "text": [
            "Epoch 56/72.. Train loss: nan.. Val loss: nan.. Train L1 norm: nan.. Val L1 norm: nan.. Train Linf norm: nan.. Val Linf norm: nan\n"
          ]
        },
        {
          "output_type": "stream",
          "name": "stderr",
          "text": [
            "WARNING:tensorboardX.x2num:NaN or Inf found in input tensor.\n",
            "WARNING:tensorboardX.x2num:NaN or Inf found in input tensor.\n",
            "WARNING:tensorboardX.x2num:NaN or Inf found in input tensor.\n",
            "WARNING:tensorboardX.x2num:NaN or Inf found in input tensor.\n",
            "WARNING:tensorboardX.x2num:NaN or Inf found in input tensor.\n",
            "WARNING:tensorboardX.x2num:NaN or Inf found in input tensor.\n"
          ]
        },
        {
          "output_type": "stream",
          "name": "stdout",
          "text": [
            "Epoch 57/72.. Train loss: nan.. Val loss: nan.. Train L1 norm: nan.. Val L1 norm: nan.. Train Linf norm: nan.. Val Linf norm: nan\n"
          ]
        },
        {
          "output_type": "stream",
          "name": "stderr",
          "text": [
            "WARNING:tensorboardX.x2num:NaN or Inf found in input tensor.\n",
            "WARNING:tensorboardX.x2num:NaN or Inf found in input tensor.\n",
            "WARNING:tensorboardX.x2num:NaN or Inf found in input tensor.\n",
            "WARNING:tensorboardX.x2num:NaN or Inf found in input tensor.\n",
            "WARNING:tensorboardX.x2num:NaN or Inf found in input tensor.\n",
            "WARNING:tensorboardX.x2num:NaN or Inf found in input tensor.\n"
          ]
        },
        {
          "output_type": "stream",
          "name": "stdout",
          "text": [
            "Epoch 58/72.. Train loss: nan.. Val loss: nan.. Train L1 norm: nan.. Val L1 norm: nan.. Train Linf norm: nan.. Val Linf norm: nan\n"
          ]
        },
        {
          "output_type": "stream",
          "name": "stderr",
          "text": [
            "WARNING:tensorboardX.x2num:NaN or Inf found in input tensor.\n",
            "WARNING:tensorboardX.x2num:NaN or Inf found in input tensor.\n",
            "WARNING:tensorboardX.x2num:NaN or Inf found in input tensor.\n",
            "WARNING:tensorboardX.x2num:NaN or Inf found in input tensor.\n",
            "WARNING:tensorboardX.x2num:NaN or Inf found in input tensor.\n",
            "WARNING:tensorboardX.x2num:NaN or Inf found in input tensor.\n"
          ]
        },
        {
          "output_type": "stream",
          "name": "stdout",
          "text": [
            "Epoch 59/72.. Train loss: nan.. Val loss: nan.. Train L1 norm: nan.. Val L1 norm: nan.. Train Linf norm: nan.. Val Linf norm: nan\n"
          ]
        },
        {
          "output_type": "stream",
          "name": "stderr",
          "text": [
            "WARNING:tensorboardX.x2num:NaN or Inf found in input tensor.\n",
            "WARNING:tensorboardX.x2num:NaN or Inf found in input tensor.\n",
            "WARNING:tensorboardX.x2num:NaN or Inf found in input tensor.\n",
            "WARNING:tensorboardX.x2num:NaN or Inf found in input tensor.\n",
            "WARNING:tensorboardX.x2num:NaN or Inf found in input tensor.\n",
            "WARNING:tensorboardX.x2num:NaN or Inf found in input tensor.\n"
          ]
        },
        {
          "output_type": "stream",
          "name": "stdout",
          "text": [
            "Epoch 60/72.. Train loss: nan.. Val loss: nan.. Train L1 norm: nan.. Val L1 norm: nan.. Train Linf norm: nan.. Val Linf norm: nan\n"
          ]
        },
        {
          "output_type": "stream",
          "name": "stderr",
          "text": [
            "WARNING:tensorboardX.x2num:NaN or Inf found in input tensor.\n",
            "WARNING:tensorboardX.x2num:NaN or Inf found in input tensor.\n",
            "WARNING:tensorboardX.x2num:NaN or Inf found in input tensor.\n",
            "WARNING:tensorboardX.x2num:NaN or Inf found in input tensor.\n",
            "WARNING:tensorboardX.x2num:NaN or Inf found in input tensor.\n",
            "WARNING:tensorboardX.x2num:NaN or Inf found in input tensor.\n"
          ]
        },
        {
          "output_type": "stream",
          "name": "stdout",
          "text": [
            "Epoch 61/72.. Train loss: nan.. Val loss: nan.. Train L1 norm: nan.. Val L1 norm: nan.. Train Linf norm: nan.. Val Linf norm: nan\n"
          ]
        },
        {
          "output_type": "stream",
          "name": "stderr",
          "text": [
            "WARNING:tensorboardX.x2num:NaN or Inf found in input tensor.\n",
            "WARNING:tensorboardX.x2num:NaN or Inf found in input tensor.\n",
            "WARNING:tensorboardX.x2num:NaN or Inf found in input tensor.\n",
            "WARNING:tensorboardX.x2num:NaN or Inf found in input tensor.\n",
            "WARNING:tensorboardX.x2num:NaN or Inf found in input tensor.\n",
            "WARNING:tensorboardX.x2num:NaN or Inf found in input tensor.\n"
          ]
        },
        {
          "output_type": "stream",
          "name": "stdout",
          "text": [
            "Epoch 62/72.. Train loss: nan.. Val loss: nan.. Train L1 norm: nan.. Val L1 norm: nan.. Train Linf norm: nan.. Val Linf norm: nan\n"
          ]
        },
        {
          "output_type": "stream",
          "name": "stderr",
          "text": [
            "WARNING:tensorboardX.x2num:NaN or Inf found in input tensor.\n",
            "WARNING:tensorboardX.x2num:NaN or Inf found in input tensor.\n",
            "WARNING:tensorboardX.x2num:NaN or Inf found in input tensor.\n",
            "WARNING:tensorboardX.x2num:NaN or Inf found in input tensor.\n",
            "WARNING:tensorboardX.x2num:NaN or Inf found in input tensor.\n",
            "WARNING:tensorboardX.x2num:NaN or Inf found in input tensor.\n"
          ]
        },
        {
          "output_type": "stream",
          "name": "stdout",
          "text": [
            "Epoch 63/72.. Train loss: nan.. Val loss: nan.. Train L1 norm: nan.. Val L1 norm: nan.. Train Linf norm: nan.. Val Linf norm: nan\n"
          ]
        },
        {
          "output_type": "stream",
          "name": "stderr",
          "text": [
            "WARNING:tensorboardX.x2num:NaN or Inf found in input tensor.\n",
            "WARNING:tensorboardX.x2num:NaN or Inf found in input tensor.\n",
            "WARNING:tensorboardX.x2num:NaN or Inf found in input tensor.\n",
            "WARNING:tensorboardX.x2num:NaN or Inf found in input tensor.\n",
            "WARNING:tensorboardX.x2num:NaN or Inf found in input tensor.\n",
            "WARNING:tensorboardX.x2num:NaN or Inf found in input tensor.\n"
          ]
        },
        {
          "output_type": "stream",
          "name": "stdout",
          "text": [
            "Epoch 64/72.. Train loss: nan.. Val loss: nan.. Train L1 norm: nan.. Val L1 norm: nan.. Train Linf norm: nan.. Val Linf norm: nan\n"
          ]
        },
        {
          "output_type": "stream",
          "name": "stderr",
          "text": [
            "WARNING:tensorboardX.x2num:NaN or Inf found in input tensor.\n",
            "WARNING:tensorboardX.x2num:NaN or Inf found in input tensor.\n",
            "WARNING:tensorboardX.x2num:NaN or Inf found in input tensor.\n",
            "WARNING:tensorboardX.x2num:NaN or Inf found in input tensor.\n",
            "WARNING:tensorboardX.x2num:NaN or Inf found in input tensor.\n",
            "WARNING:tensorboardX.x2num:NaN or Inf found in input tensor.\n"
          ]
        },
        {
          "output_type": "stream",
          "name": "stdout",
          "text": [
            "Epoch 65/72.. Train loss: nan.. Val loss: nan.. Train L1 norm: nan.. Val L1 norm: nan.. Train Linf norm: nan.. Val Linf norm: nan\n"
          ]
        },
        {
          "output_type": "stream",
          "name": "stderr",
          "text": [
            "WARNING:tensorboardX.x2num:NaN or Inf found in input tensor.\n",
            "WARNING:tensorboardX.x2num:NaN or Inf found in input tensor.\n",
            "WARNING:tensorboardX.x2num:NaN or Inf found in input tensor.\n",
            "WARNING:tensorboardX.x2num:NaN or Inf found in input tensor.\n",
            "WARNING:tensorboardX.x2num:NaN or Inf found in input tensor.\n",
            "WARNING:tensorboardX.x2num:NaN or Inf found in input tensor.\n"
          ]
        },
        {
          "output_type": "stream",
          "name": "stdout",
          "text": [
            "Epoch 66/72.. Train loss: nan.. Val loss: nan.. Train L1 norm: nan.. Val L1 norm: nan.. Train Linf norm: nan.. Val Linf norm: nan\n"
          ]
        },
        {
          "output_type": "stream",
          "name": "stderr",
          "text": [
            "WARNING:tensorboardX.x2num:NaN or Inf found in input tensor.\n",
            "WARNING:tensorboardX.x2num:NaN or Inf found in input tensor.\n",
            "WARNING:tensorboardX.x2num:NaN or Inf found in input tensor.\n",
            "WARNING:tensorboardX.x2num:NaN or Inf found in input tensor.\n",
            "WARNING:tensorboardX.x2num:NaN or Inf found in input tensor.\n",
            "WARNING:tensorboardX.x2num:NaN or Inf found in input tensor.\n"
          ]
        },
        {
          "output_type": "stream",
          "name": "stdout",
          "text": [
            "Epoch 67/72.. Train loss: nan.. Val loss: nan.. Train L1 norm: nan.. Val L1 norm: nan.. Train Linf norm: nan.. Val Linf norm: nan\n"
          ]
        },
        {
          "output_type": "stream",
          "name": "stderr",
          "text": [
            "WARNING:tensorboardX.x2num:NaN or Inf found in input tensor.\n",
            "WARNING:tensorboardX.x2num:NaN or Inf found in input tensor.\n",
            "WARNING:tensorboardX.x2num:NaN or Inf found in input tensor.\n",
            "WARNING:tensorboardX.x2num:NaN or Inf found in input tensor.\n",
            "WARNING:tensorboardX.x2num:NaN or Inf found in input tensor.\n",
            "WARNING:tensorboardX.x2num:NaN or Inf found in input tensor.\n"
          ]
        },
        {
          "output_type": "stream",
          "name": "stdout",
          "text": [
            "Epoch 68/72.. Train loss: nan.. Val loss: nan.. Train L1 norm: nan.. Val L1 norm: nan.. Train Linf norm: nan.. Val Linf norm: nan\n"
          ]
        },
        {
          "output_type": "stream",
          "name": "stderr",
          "text": [
            "WARNING:tensorboardX.x2num:NaN or Inf found in input tensor.\n",
            "WARNING:tensorboardX.x2num:NaN or Inf found in input tensor.\n",
            "WARNING:tensorboardX.x2num:NaN or Inf found in input tensor.\n",
            "WARNING:tensorboardX.x2num:NaN or Inf found in input tensor.\n",
            "WARNING:tensorboardX.x2num:NaN or Inf found in input tensor.\n",
            "WARNING:tensorboardX.x2num:NaN or Inf found in input tensor.\n"
          ]
        },
        {
          "output_type": "stream",
          "name": "stdout",
          "text": [
            "Epoch 69/72.. Train loss: nan.. Val loss: nan.. Train L1 norm: nan.. Val L1 norm: nan.. Train Linf norm: nan.. Val Linf norm: nan\n"
          ]
        },
        {
          "output_type": "stream",
          "name": "stderr",
          "text": [
            "WARNING:tensorboardX.x2num:NaN or Inf found in input tensor.\n",
            "WARNING:tensorboardX.x2num:NaN or Inf found in input tensor.\n",
            "WARNING:tensorboardX.x2num:NaN or Inf found in input tensor.\n",
            "WARNING:tensorboardX.x2num:NaN or Inf found in input tensor.\n",
            "WARNING:tensorboardX.x2num:NaN or Inf found in input tensor.\n",
            "WARNING:tensorboardX.x2num:NaN or Inf found in input tensor.\n"
          ]
        },
        {
          "output_type": "stream",
          "name": "stdout",
          "text": [
            "Epoch 70/72.. Train loss: nan.. Val loss: nan.. Train L1 norm: nan.. Val L1 norm: nan.. Train Linf norm: nan.. Val Linf norm: nan\n"
          ]
        },
        {
          "output_type": "stream",
          "name": "stderr",
          "text": [
            "WARNING:tensorboardX.x2num:NaN or Inf found in input tensor.\n",
            "WARNING:tensorboardX.x2num:NaN or Inf found in input tensor.\n",
            "WARNING:tensorboardX.x2num:NaN or Inf found in input tensor.\n",
            "WARNING:tensorboardX.x2num:NaN or Inf found in input tensor.\n",
            "WARNING:tensorboardX.x2num:NaN or Inf found in input tensor.\n",
            "WARNING:tensorboardX.x2num:NaN or Inf found in input tensor.\n"
          ]
        },
        {
          "output_type": "stream",
          "name": "stdout",
          "text": [
            "Epoch 71/72.. Train loss: nan.. Val loss: nan.. Train L1 norm: nan.. Val L1 norm: nan.. Train Linf norm: nan.. Val Linf norm: nan\n"
          ]
        },
        {
          "output_type": "stream",
          "name": "stderr",
          "text": [
            "WARNING:tensorboardX.x2num:NaN or Inf found in input tensor.\n",
            "WARNING:tensorboardX.x2num:NaN or Inf found in input tensor.\n",
            "WARNING:tensorboardX.x2num:NaN or Inf found in input tensor.\n",
            "WARNING:tensorboardX.x2num:NaN or Inf found in input tensor.\n",
            "WARNING:tensorboardX.x2num:NaN or Inf found in input tensor.\n",
            "WARNING:tensorboardX.x2num:NaN or Inf found in input tensor.\n",
            "[W 2023-06-03 10:29:21,498] Trial 3 failed with parameters: {'n_layers': 10, 'n_units_0': 2134, 'n_units_1': 3094, 'n_units_2': 697, 'n_units_3': 2962, 'n_units_4': 3468, 'n_units_5': 356, 'n_units_6': 1254, 'n_units_7': 249, 'n_units_8': 1864, 'n_units_9': 3689, 'hidden_activation': 'PReLU', 'output_activation': 'Linear', 'loss': 'MSE', 'optimizer': 'SGD', 'lr': 0.0034078000737626972, 'batch_size': 2048, 'n_epochs': 72, 'scheduler': 'StepLR', 'prelu_init': 0.2024412446815746, 'dropout_rate': 0.07628674814580311, 'weight_decay': 3.0397081148921076e-05, 'momentum': 0.8651151876629064, 'step_size': 9, 'gamma': 0.4919583421345929} because of the following error: The value nan is not acceptable..\n",
            "[W 2023-06-03 10:29:21,499] Trial 3 failed with value nan.\n"
          ]
        },
        {
          "output_type": "stream",
          "name": "stdout",
          "text": [
            "Epoch 72/72.. Train loss: nan.. Val loss: nan.. Train L1 norm: nan.. Val L1 norm: nan.. Train Linf norm: nan.. Val Linf norm: nan\n"
          ]
        },
        {
          "output_type": "display_data",
          "data": {
            "text/html": [
              "<html>\n",
              "<head><meta charset=\"utf-8\" /></head>\n",
              "<body>\n",
              "    <div>            <script src=\"https://cdnjs.cloudflare.com/ajax/libs/mathjax/2.7.5/MathJax.js?config=TeX-AMS-MML_SVG\"></script><script type=\"text/javascript\">if (window.MathJax && window.MathJax.Hub && window.MathJax.Hub.Config) {window.MathJax.Hub.Config({SVG: {font: \"STIX-Web\"}});}</script>                <script type=\"text/javascript\">window.PlotlyConfig = {MathJaxConfig: 'local'};</script>\n",
              "        <script src=\"https://cdn.plot.ly/plotly-2.18.2.min.js\"></script>                <div id=\"719d8a8e-1d50-4f02-9001-e9ef54f094ee\" class=\"plotly-graph-div\" style=\"height:525px; width:100%;\"></div>            <script type=\"text/javascript\">                                    window.PLOTLYENV=window.PLOTLYENV || {};                                    if (document.getElementById(\"719d8a8e-1d50-4f02-9001-e9ef54f094ee\")) {                    Plotly.newPlot(                        \"719d8a8e-1d50-4f02-9001-e9ef54f094ee\",                        [{\"mode\":\"markers\",\"name\":\"Objective Value\",\"x\":[0,2],\"y\":[4.711850512695312,2.659428728802999],\"type\":\"scatter\"},{\"name\":\"Best Value\",\"x\":[0,2],\"y\":[4.711850512695312,2.659428728802999],\"type\":\"scatter\"}],                        {\"title\":{\"text\":\"Optimization History Plot\"},\"xaxis\":{\"title\":{\"text\":\"Trial\"}},\"yaxis\":{\"title\":{\"text\":\"Objective Value\"}},\"template\":{\"data\":{\"histogram2dcontour\":[{\"type\":\"histogram2dcontour\",\"colorbar\":{\"outlinewidth\":0,\"ticks\":\"\"},\"colorscale\":[[0.0,\"#0d0887\"],[0.1111111111111111,\"#46039f\"],[0.2222222222222222,\"#7201a8\"],[0.3333333333333333,\"#9c179e\"],[0.4444444444444444,\"#bd3786\"],[0.5555555555555556,\"#d8576b\"],[0.6666666666666666,\"#ed7953\"],[0.7777777777777778,\"#fb9f3a\"],[0.8888888888888888,\"#fdca26\"],[1.0,\"#f0f921\"]]}],\"choropleth\":[{\"type\":\"choropleth\",\"colorbar\":{\"outlinewidth\":0,\"ticks\":\"\"}}],\"histogram2d\":[{\"type\":\"histogram2d\",\"colorbar\":{\"outlinewidth\":0,\"ticks\":\"\"},\"colorscale\":[[0.0,\"#0d0887\"],[0.1111111111111111,\"#46039f\"],[0.2222222222222222,\"#7201a8\"],[0.3333333333333333,\"#9c179e\"],[0.4444444444444444,\"#bd3786\"],[0.5555555555555556,\"#d8576b\"],[0.6666666666666666,\"#ed7953\"],[0.7777777777777778,\"#fb9f3a\"],[0.8888888888888888,\"#fdca26\"],[1.0,\"#f0f921\"]]}],\"heatmap\":[{\"type\":\"heatmap\",\"colorbar\":{\"outlinewidth\":0,\"ticks\":\"\"},\"colorscale\":[[0.0,\"#0d0887\"],[0.1111111111111111,\"#46039f\"],[0.2222222222222222,\"#7201a8\"],[0.3333333333333333,\"#9c179e\"],[0.4444444444444444,\"#bd3786\"],[0.5555555555555556,\"#d8576b\"],[0.6666666666666666,\"#ed7953\"],[0.7777777777777778,\"#fb9f3a\"],[0.8888888888888888,\"#fdca26\"],[1.0,\"#f0f921\"]]}],\"heatmapgl\":[{\"type\":\"heatmapgl\",\"colorbar\":{\"outlinewidth\":0,\"ticks\":\"\"},\"colorscale\":[[0.0,\"#0d0887\"],[0.1111111111111111,\"#46039f\"],[0.2222222222222222,\"#7201a8\"],[0.3333333333333333,\"#9c179e\"],[0.4444444444444444,\"#bd3786\"],[0.5555555555555556,\"#d8576b\"],[0.6666666666666666,\"#ed7953\"],[0.7777777777777778,\"#fb9f3a\"],[0.8888888888888888,\"#fdca26\"],[1.0,\"#f0f921\"]]}],\"contourcarpet\":[{\"type\":\"contourcarpet\",\"colorbar\":{\"outlinewidth\":0,\"ticks\":\"\"}}],\"contour\":[{\"type\":\"contour\",\"colorbar\":{\"outlinewidth\":0,\"ticks\":\"\"},\"colorscale\":[[0.0,\"#0d0887\"],[0.1111111111111111,\"#46039f\"],[0.2222222222222222,\"#7201a8\"],[0.3333333333333333,\"#9c179e\"],[0.4444444444444444,\"#bd3786\"],[0.5555555555555556,\"#d8576b\"],[0.6666666666666666,\"#ed7953\"],[0.7777777777777778,\"#fb9f3a\"],[0.8888888888888888,\"#fdca26\"],[1.0,\"#f0f921\"]]}],\"surface\":[{\"type\":\"surface\",\"colorbar\":{\"outlinewidth\":0,\"ticks\":\"\"},\"colorscale\":[[0.0,\"#0d0887\"],[0.1111111111111111,\"#46039f\"],[0.2222222222222222,\"#7201a8\"],[0.3333333333333333,\"#9c179e\"],[0.4444444444444444,\"#bd3786\"],[0.5555555555555556,\"#d8576b\"],[0.6666666666666666,\"#ed7953\"],[0.7777777777777778,\"#fb9f3a\"],[0.8888888888888888,\"#fdca26\"],[1.0,\"#f0f921\"]]}],\"mesh3d\":[{\"type\":\"mesh3d\",\"colorbar\":{\"outlinewidth\":0,\"ticks\":\"\"}}],\"scatter\":[{\"fillpattern\":{\"fillmode\":\"overlay\",\"size\":10,\"solidity\":0.2},\"type\":\"scatter\"}],\"parcoords\":[{\"type\":\"parcoords\",\"line\":{\"colorbar\":{\"outlinewidth\":0,\"ticks\":\"\"}}}],\"scatterpolargl\":[{\"type\":\"scatterpolargl\",\"marker\":{\"colorbar\":{\"outlinewidth\":0,\"ticks\":\"\"}}}],\"bar\":[{\"error_x\":{\"color\":\"#2a3f5f\"},\"error_y\":{\"color\":\"#2a3f5f\"},\"marker\":{\"line\":{\"color\":\"#E5ECF6\",\"width\":0.5},\"pattern\":{\"fillmode\":\"overlay\",\"size\":10,\"solidity\":0.2}},\"type\":\"bar\"}],\"scattergeo\":[{\"type\":\"scattergeo\",\"marker\":{\"colorbar\":{\"outlinewidth\":0,\"ticks\":\"\"}}}],\"scatterpolar\":[{\"type\":\"scatterpolar\",\"marker\":{\"colorbar\":{\"outlinewidth\":0,\"ticks\":\"\"}}}],\"histogram\":[{\"marker\":{\"pattern\":{\"fillmode\":\"overlay\",\"size\":10,\"solidity\":0.2}},\"type\":\"histogram\"}],\"scattergl\":[{\"type\":\"scattergl\",\"marker\":{\"colorbar\":{\"outlinewidth\":0,\"ticks\":\"\"}}}],\"scatter3d\":[{\"type\":\"scatter3d\",\"line\":{\"colorbar\":{\"outlinewidth\":0,\"ticks\":\"\"}},\"marker\":{\"colorbar\":{\"outlinewidth\":0,\"ticks\":\"\"}}}],\"scattermapbox\":[{\"type\":\"scattermapbox\",\"marker\":{\"colorbar\":{\"outlinewidth\":0,\"ticks\":\"\"}}}],\"scatterternary\":[{\"type\":\"scatterternary\",\"marker\":{\"colorbar\":{\"outlinewidth\":0,\"ticks\":\"\"}}}],\"scattercarpet\":[{\"type\":\"scattercarpet\",\"marker\":{\"colorbar\":{\"outlinewidth\":0,\"ticks\":\"\"}}}],\"carpet\":[{\"aaxis\":{\"endlinecolor\":\"#2a3f5f\",\"gridcolor\":\"white\",\"linecolor\":\"white\",\"minorgridcolor\":\"white\",\"startlinecolor\":\"#2a3f5f\"},\"baxis\":{\"endlinecolor\":\"#2a3f5f\",\"gridcolor\":\"white\",\"linecolor\":\"white\",\"minorgridcolor\":\"white\",\"startlinecolor\":\"#2a3f5f\"},\"type\":\"carpet\"}],\"table\":[{\"cells\":{\"fill\":{\"color\":\"#EBF0F8\"},\"line\":{\"color\":\"white\"}},\"header\":{\"fill\":{\"color\":\"#C8D4E3\"},\"line\":{\"color\":\"white\"}},\"type\":\"table\"}],\"barpolar\":[{\"marker\":{\"line\":{\"color\":\"#E5ECF6\",\"width\":0.5},\"pattern\":{\"fillmode\":\"overlay\",\"size\":10,\"solidity\":0.2}},\"type\":\"barpolar\"}],\"pie\":[{\"automargin\":true,\"type\":\"pie\"}]},\"layout\":{\"autotypenumbers\":\"strict\",\"colorway\":[\"#636efa\",\"#EF553B\",\"#00cc96\",\"#ab63fa\",\"#FFA15A\",\"#19d3f3\",\"#FF6692\",\"#B6E880\",\"#FF97FF\",\"#FECB52\"],\"font\":{\"color\":\"#2a3f5f\"},\"hovermode\":\"closest\",\"hoverlabel\":{\"align\":\"left\"},\"paper_bgcolor\":\"white\",\"plot_bgcolor\":\"#E5ECF6\",\"polar\":{\"bgcolor\":\"#E5ECF6\",\"angularaxis\":{\"gridcolor\":\"white\",\"linecolor\":\"white\",\"ticks\":\"\"},\"radialaxis\":{\"gridcolor\":\"white\",\"linecolor\":\"white\",\"ticks\":\"\"}},\"ternary\":{\"bgcolor\":\"#E5ECF6\",\"aaxis\":{\"gridcolor\":\"white\",\"linecolor\":\"white\",\"ticks\":\"\"},\"baxis\":{\"gridcolor\":\"white\",\"linecolor\":\"white\",\"ticks\":\"\"},\"caxis\":{\"gridcolor\":\"white\",\"linecolor\":\"white\",\"ticks\":\"\"}},\"coloraxis\":{\"colorbar\":{\"outlinewidth\":0,\"ticks\":\"\"}},\"colorscale\":{\"sequential\":[[0.0,\"#0d0887\"],[0.1111111111111111,\"#46039f\"],[0.2222222222222222,\"#7201a8\"],[0.3333333333333333,\"#9c179e\"],[0.4444444444444444,\"#bd3786\"],[0.5555555555555556,\"#d8576b\"],[0.6666666666666666,\"#ed7953\"],[0.7777777777777778,\"#fb9f3a\"],[0.8888888888888888,\"#fdca26\"],[1.0,\"#f0f921\"]],\"sequentialminus\":[[0.0,\"#0d0887\"],[0.1111111111111111,\"#46039f\"],[0.2222222222222222,\"#7201a8\"],[0.3333333333333333,\"#9c179e\"],[0.4444444444444444,\"#bd3786\"],[0.5555555555555556,\"#d8576b\"],[0.6666666666666666,\"#ed7953\"],[0.7777777777777778,\"#fb9f3a\"],[0.8888888888888888,\"#fdca26\"],[1.0,\"#f0f921\"]],\"diverging\":[[0,\"#8e0152\"],[0.1,\"#c51b7d\"],[0.2,\"#de77ae\"],[0.3,\"#f1b6da\"],[0.4,\"#fde0ef\"],[0.5,\"#f7f7f7\"],[0.6,\"#e6f5d0\"],[0.7,\"#b8e186\"],[0.8,\"#7fbc41\"],[0.9,\"#4d9221\"],[1,\"#276419\"]]},\"xaxis\":{\"gridcolor\":\"white\",\"linecolor\":\"white\",\"ticks\":\"\",\"title\":{\"standoff\":15},\"zerolinecolor\":\"white\",\"automargin\":true,\"zerolinewidth\":2},\"yaxis\":{\"gridcolor\":\"white\",\"linecolor\":\"white\",\"ticks\":\"\",\"title\":{\"standoff\":15},\"zerolinecolor\":\"white\",\"automargin\":true,\"zerolinewidth\":2},\"scene\":{\"xaxis\":{\"backgroundcolor\":\"#E5ECF6\",\"gridcolor\":\"white\",\"linecolor\":\"white\",\"showbackground\":true,\"ticks\":\"\",\"zerolinecolor\":\"white\",\"gridwidth\":2},\"yaxis\":{\"backgroundcolor\":\"#E5ECF6\",\"gridcolor\":\"white\",\"linecolor\":\"white\",\"showbackground\":true,\"ticks\":\"\",\"zerolinecolor\":\"white\",\"gridwidth\":2},\"zaxis\":{\"backgroundcolor\":\"#E5ECF6\",\"gridcolor\":\"white\",\"linecolor\":\"white\",\"showbackground\":true,\"ticks\":\"\",\"zerolinecolor\":\"white\",\"gridwidth\":2}},\"shapedefaults\":{\"line\":{\"color\":\"#2a3f5f\"}},\"annotationdefaults\":{\"arrowcolor\":\"#2a3f5f\",\"arrowhead\":0,\"arrowwidth\":1},\"geo\":{\"bgcolor\":\"white\",\"landcolor\":\"#E5ECF6\",\"subunitcolor\":\"white\",\"showland\":true,\"showlakes\":true,\"lakecolor\":\"white\"},\"title\":{\"x\":0.05},\"mapbox\":{\"style\":\"light\"}}}},                        {\"responsive\": true}                    ).then(function(){\n",
              "                            \n",
              "var gd = document.getElementById('719d8a8e-1d50-4f02-9001-e9ef54f094ee');\n",
              "var x = new MutationObserver(function (mutations, observer) {{\n",
              "        var display = window.getComputedStyle(gd).display;\n",
              "        if (!display || display === 'none') {{\n",
              "            console.log([gd, 'removed!']);\n",
              "            Plotly.purge(gd);\n",
              "            observer.disconnect();\n",
              "        }}\n",
              "}});\n",
              "\n",
              "// Listen for the removal of the full notebook cells\n",
              "var notebookContainer = gd.closest('#notebook-container');\n",
              "if (notebookContainer) {{\n",
              "    x.observe(notebookContainer, {childList: true});\n",
              "}}\n",
              "\n",
              "// Listen for the clearing of the current output cell\n",
              "var outputEl = gd.closest('.output');\n",
              "if (outputEl) {{\n",
              "    x.observe(outputEl, {childList: true});\n",
              "}}\n",
              "\n",
              "                        })                };                            </script>        </div>\n",
              "</body>\n",
              "</html>"
            ]
          },
          "metadata": {}
        },
        {
          "output_type": "stream",
          "name": "stderr",
          "text": [
            "[W 2023-06-03 10:29:21,879] Your study has only completed trials with missing parameters.\n",
            "<ipython-input-119-ca043aa389dc>:44: FutureWarning:\n",
            "\n",
            "suggest_loguniform has been deprecated in v3.0.0. This feature will be removed in v6.0.0. See https://github.com/optuna/optuna/releases/tag/v3.0.0. Use suggest_float(..., log=True) instead.\n",
            "\n",
            "<ipython-input-119-ca043aa389dc>:76: FutureWarning:\n",
            "\n",
            "suggest_uniform has been deprecated in v3.0.0. This feature will be removed in v6.0.0. See https://github.com/optuna/optuna/releases/tag/v3.0.0. Use suggest_float instead.\n",
            "\n",
            "<ipython-input-119-ca043aa389dc>:149: FutureWarning:\n",
            "\n",
            "suggest_loguniform has been deprecated in v3.0.0. This feature will be removed in v6.0.0. See https://github.com/optuna/optuna/releases/tag/v3.0.0. Use suggest_float(..., log=True) instead.\n",
            "\n",
            "<ipython-input-119-ca043aa389dc>:150: FutureWarning:\n",
            "\n",
            "suggest_uniform has been deprecated in v3.0.0. This feature will be removed in v6.0.0. See https://github.com/optuna/optuna/releases/tag/v3.0.0. Use suggest_float instead.\n",
            "\n",
            "<ipython-input-119-ca043aa389dc>:151: FutureWarning:\n",
            "\n",
            "suggest_uniform has been deprecated in v3.0.0. This feature will be removed in v6.0.0. See https://github.com/optuna/optuna/releases/tag/v3.0.0. Use suggest_float instead.\n",
            "\n",
            "<ipython-input-119-ca043aa389dc>:161: FutureWarning:\n",
            "\n",
            "suggest_uniform has been deprecated in v3.0.0. This feature will be removed in v6.0.0. See https://github.com/optuna/optuna/releases/tag/v3.0.0. Use suggest_float instead.\n",
            "\n"
          ]
        },
        {
          "output_type": "stream",
          "name": "stdout",
          "text": [
            "Epoch 1/120.. Train loss: 28.380.. Val loss: 3.861.. Train L1 norm: 56.102.. Val L1 norm: 3.839.. Train Linf norm: 14015.570.. Val Linf norm: 813.708\n",
            "Epoch 2/120.. Train loss: 4.518.. Val loss: 3.946.. Train L1 norm: 4.219.. Val L1 norm: 5.011.. Train Linf norm: 971.496.. Val Linf norm: 1105.083\n",
            "Epoch 3/120.. Train loss: 4.740.. Val loss: 4.204.. Train L1 norm: 4.411.. Val L1 norm: 4.059.. Train Linf norm: 945.538.. Val Linf norm: 901.803\n",
            "Epoch 4/120.. Train loss: 4.473.. Val loss: 3.766.. Train L1 norm: 5.048.. Val L1 norm: 4.384.. Train Linf norm: 1226.904.. Val Linf norm: 984.815\n",
            "Epoch 5/120.. Train loss: 4.407.. Val loss: 3.895.. Train L1 norm: 5.554.. Val L1 norm: 5.176.. Train Linf norm: 1345.552.. Val Linf norm: 1171.075\n",
            "Epoch 6/120.. Train loss: 4.327.. Val loss: 5.194.. Train L1 norm: 5.715.. Val L1 norm: 5.233.. Train Linf norm: 1418.644.. Val Linf norm: 1166.525\n",
            "Epoch 7/120.. Train loss: 5.608.. Val loss: 3.957.. Train L1 norm: 5.946.. Val L1 norm: 5.041.. Train Linf norm: 1420.427.. Val Linf norm: 1142.896\n",
            "Epoch 8/120.. Train loss: 4.994.. Val loss: 3.970.. Train L1 norm: 5.989.. Val L1 norm: 4.531.. Train Linf norm: 1480.089.. Val Linf norm: 1014.884\n",
            "Epoch 9/120.. Train loss: 4.598.. Val loss: 3.967.. Train L1 norm: 5.828.. Val L1 norm: 4.696.. Train Linf norm: 1439.581.. Val Linf norm: 1042.659\n",
            "Epoch 10/120.. Train loss: 4.151.. Val loss: 3.806.. Train L1 norm: 5.882.. Val L1 norm: 5.271.. Train Linf norm: 1334.853.. Val Linf norm: 1203.039\n",
            "Epoch 11/120.. Train loss: 4.011.. Val loss: 3.748.. Train L1 norm: 5.876.. Val L1 norm: 5.480.. Train Linf norm: 1466.255.. Val Linf norm: 1268.938\n",
            "Epoch 12/120.. Train loss: 3.871.. Val loss: 3.839.. Train L1 norm: 6.138.. Val L1 norm: 4.725.. Train Linf norm: 1481.244.. Val Linf norm: 1073.059\n",
            "Epoch 13/120.. Train loss: 3.961.. Val loss: 3.736.. Train L1 norm: 5.943.. Val L1 norm: 5.374.. Train Linf norm: 1474.843.. Val Linf norm: 1264.183\n",
            "Epoch 14/120.. Train loss: 4.021.. Val loss: 3.720.. Train L1 norm: 5.882.. Val L1 norm: 5.119.. Train Linf norm: 1401.740.. Val Linf norm: 1188.744\n",
            "Epoch 15/120.. Train loss: 4.046.. Val loss: 3.724.. Train L1 norm: 6.124.. Val L1 norm: 5.042.. Train Linf norm: 1398.858.. Val Linf norm: 1163.914\n",
            "Epoch 16/120.. Train loss: 4.162.. Val loss: 3.849.. Train L1 norm: 5.868.. Val L1 norm: 4.831.. Train Linf norm: 1369.648.. Val Linf norm: 1092.835\n",
            "Epoch 17/120.. Train loss: 3.966.. Val loss: 3.694.. Train L1 norm: 6.064.. Val L1 norm: 5.330.. Train Linf norm: 1250.718.. Val Linf norm: 1232.204\n",
            "Epoch 18/120.. Train loss: 3.933.. Val loss: 3.730.. Train L1 norm: 6.142.. Val L1 norm: 4.722.. Train Linf norm: 1535.710.. Val Linf norm: 1075.113\n",
            "Epoch 19/120.. Train loss: 3.915.. Val loss: 3.742.. Train L1 norm: 5.977.. Val L1 norm: 4.839.. Train Linf norm: 1453.915.. Val Linf norm: 1130.904\n",
            "Epoch 20/120.. Train loss: 3.893.. Val loss: 3.730.. Train L1 norm: 5.613.. Val L1 norm: 4.695.. Train Linf norm: 1405.783.. Val Linf norm: 1082.460\n",
            "Epoch 21/120.. Train loss: 3.807.. Val loss: 3.717.. Train L1 norm: 6.153.. Val L1 norm: 4.679.. Train Linf norm: 1555.787.. Val Linf norm: 1088.955\n",
            "Epoch 22/120.. Train loss: 3.923.. Val loss: 3.625.. Train L1 norm: 6.051.. Val L1 norm: 5.458.. Train Linf norm: 1534.680.. Val Linf norm: 1299.899\n",
            "Epoch 23/120.. Train loss: 3.796.. Val loss: 3.632.. Train L1 norm: 6.062.. Val L1 norm: 5.190.. Train Linf norm: 1552.874.. Val Linf norm: 1215.910\n",
            "Epoch 24/120.. Train loss: 3.944.. Val loss: 3.670.. Train L1 norm: 5.999.. Val L1 norm: 4.856.. Train Linf norm: 1521.156.. Val Linf norm: 1133.249\n",
            "Epoch 25/120.. Train loss: 3.724.. Val loss: 3.637.. Train L1 norm: 5.965.. Val L1 norm: 4.843.. Train Linf norm: 1530.860.. Val Linf norm: 1135.347\n",
            "Epoch 26/120.. Train loss: 3.725.. Val loss: 3.587.. Train L1 norm: 5.995.. Val L1 norm: 5.060.. Train Linf norm: 1508.270.. Val Linf norm: 1196.353\n",
            "Epoch 27/120.. Train loss: 3.741.. Val loss: 3.677.. Train L1 norm: 6.048.. Val L1 norm: 4.860.. Train Linf norm: 1576.956.. Val Linf norm: 1131.161\n",
            "Epoch 28/120.. Train loss: 3.773.. Val loss: 3.584.. Train L1 norm: 6.027.. Val L1 norm: 5.295.. Train Linf norm: 1515.974.. Val Linf norm: 1249.581\n",
            "Epoch 29/120.. Train loss: 3.728.. Val loss: 3.579.. Train L1 norm: 5.837.. Val L1 norm: 5.170.. Train Linf norm: 1462.335.. Val Linf norm: 1221.054\n",
            "Epoch 30/120.. Train loss: 3.716.. Val loss: 3.601.. Train L1 norm: 5.921.. Val L1 norm: 5.777.. Train Linf norm: 1525.409.. Val Linf norm: 1400.371\n",
            "Epoch 31/120.. Train loss: 3.728.. Val loss: 3.557.. Train L1 norm: 6.237.. Val L1 norm: 5.061.. Train Linf norm: 1538.067.. Val Linf norm: 1201.126\n",
            "Epoch 32/120.. Train loss: 3.788.. Val loss: 3.571.. Train L1 norm: 6.075.. Val L1 norm: 5.535.. Train Linf norm: 1503.687.. Val Linf norm: 1340.890\n",
            "Epoch 33/120.. Train loss: 3.648.. Val loss: 3.565.. Train L1 norm: 6.348.. Val L1 norm: 5.047.. Train Linf norm: 1659.492.. Val Linf norm: 1204.545\n",
            "Epoch 34/120.. Train loss: 3.671.. Val loss: 3.575.. Train L1 norm: 5.920.. Val L1 norm: 4.955.. Train Linf norm: 1477.669.. Val Linf norm: 1171.832\n",
            "Epoch 35/120.. Train loss: 3.682.. Val loss: 3.576.. Train L1 norm: 5.873.. Val L1 norm: 4.955.. Train Linf norm: 1451.235.. Val Linf norm: 1178.158\n",
            "Epoch 36/120.. Train loss: 3.650.. Val loss: 3.553.. Train L1 norm: 5.957.. Val L1 norm: 5.025.. Train Linf norm: 1476.325.. Val Linf norm: 1192.279\n",
            "Epoch 37/120.. Train loss: 3.652.. Val loss: 3.534.. Train L1 norm: 5.992.. Val L1 norm: 5.026.. Train Linf norm: 1498.086.. Val Linf norm: 1204.622\n",
            "Epoch 38/120.. Train loss: 3.738.. Val loss: 3.588.. Train L1 norm: 6.002.. Val L1 norm: 4.788.. Train Linf norm: 1506.830.. Val Linf norm: 1136.173\n",
            "Epoch 39/120.. Train loss: 3.725.. Val loss: 3.548.. Train L1 norm: 5.931.. Val L1 norm: 4.941.. Train Linf norm: 1491.719.. Val Linf norm: 1180.499\n",
            "Epoch 40/120.. Train loss: 3.648.. Val loss: 3.573.. Train L1 norm: 6.112.. Val L1 norm: 4.909.. Train Linf norm: 1599.222.. Val Linf norm: 1170.664\n",
            "Epoch 41/120.. Train loss: 3.669.. Val loss: 3.525.. Train L1 norm: 5.885.. Val L1 norm: 4.968.. Train Linf norm: 1487.438.. Val Linf norm: 1200.484\n",
            "Epoch 42/120.. Train loss: 3.660.. Val loss: 3.552.. Train L1 norm: 5.791.. Val L1 norm: 4.848.. Train Linf norm: 1390.513.. Val Linf norm: 1157.603\n",
            "Epoch 43/120.. Train loss: 3.650.. Val loss: 3.564.. Train L1 norm: 5.712.. Val L1 norm: 4.779.. Train Linf norm: 1384.796.. Val Linf norm: 1134.118\n",
            "Epoch 44/120.. Train loss: 3.657.. Val loss: 3.525.. Train L1 norm: 5.969.. Val L1 norm: 4.924.. Train Linf norm: 1466.741.. Val Linf norm: 1185.371\n",
            "Epoch 45/120.. Train loss: 3.671.. Val loss: 3.531.. Train L1 norm: 5.758.. Val L1 norm: 4.907.. Train Linf norm: 1441.528.. Val Linf norm: 1177.473\n",
            "Epoch 46/120.. Train loss: 3.648.. Val loss: 3.545.. Train L1 norm: 5.798.. Val L1 norm: 4.803.. Train Linf norm: 1411.972.. Val Linf norm: 1148.953\n",
            "Epoch 47/120.. Train loss: 3.628.. Val loss: 3.563.. Train L1 norm: 5.896.. Val L1 norm: 4.769.. Train Linf norm: 1499.505.. Val Linf norm: 1136.377\n",
            "Epoch 48/120.. Train loss: 3.676.. Val loss: 3.533.. Train L1 norm: 5.627.. Val L1 norm: 4.837.. Train Linf norm: 1365.087.. Val Linf norm: 1162.484\n",
            "Epoch 49/120.. Train loss: 3.602.. Val loss: 3.537.. Train L1 norm: 5.679.. Val L1 norm: 4.872.. Train Linf norm: 1390.633.. Val Linf norm: 1168.741\n",
            "Epoch 50/120.. Train loss: 3.625.. Val loss: 3.539.. Train L1 norm: 5.531.. Val L1 norm: 4.837.. Train Linf norm: 1316.887.. Val Linf norm: 1162.571\n",
            "Epoch 51/120.. Train loss: 3.623.. Val loss: 3.538.. Train L1 norm: 5.507.. Val L1 norm: 4.842.. Train Linf norm: 1315.055.. Val Linf norm: 1161.955\n",
            "Epoch 52/120.. Train loss: 3.555.. Val loss: 3.514.. Train L1 norm: 5.978.. Val L1 norm: 4.842.. Train Linf norm: 1516.943.. Val Linf norm: 1164.557\n",
            "Epoch 53/120.. Train loss: 3.571.. Val loss: 3.533.. Train L1 norm: 5.603.. Val L1 norm: 4.734.. Train Linf norm: 1369.217.. Val Linf norm: 1135.390\n",
            "Epoch 54/120.. Train loss: 3.591.. Val loss: 3.540.. Train L1 norm: 5.617.. Val L1 norm: 4.771.. Train Linf norm: 1418.968.. Val Linf norm: 1146.096\n",
            "Epoch 55/120.. Train loss: 3.591.. Val loss: 3.534.. Train L1 norm: 5.374.. Val L1 norm: 4.803.. Train Linf norm: 1225.945.. Val Linf norm: 1155.471\n",
            "Epoch 56/120.. Train loss: 3.623.. Val loss: 3.494.. Train L1 norm: 5.614.. Val L1 norm: 4.886.. Train Linf norm: 1359.572.. Val Linf norm: 1179.391\n",
            "Epoch 57/120.. Train loss: 3.586.. Val loss: 3.512.. Train L1 norm: 5.746.. Val L1 norm: 4.821.. Train Linf norm: 1460.383.. Val Linf norm: 1160.355\n",
            "Epoch 58/120.. Train loss: 3.638.. Val loss: 3.517.. Train L1 norm: 5.668.. Val L1 norm: 4.799.. Train Linf norm: 1375.591.. Val Linf norm: 1153.153\n",
            "Epoch 59/120.. Train loss: 3.557.. Val loss: 3.516.. Train L1 norm: 5.777.. Val L1 norm: 4.813.. Train Linf norm: 1465.661.. Val Linf norm: 1156.037\n",
            "Epoch 60/120.. Train loss: 3.545.. Val loss: 3.520.. Train L1 norm: 5.586.. Val L1 norm: 4.768.. Train Linf norm: 1373.070.. Val Linf norm: 1143.995\n",
            "Epoch 61/120.. Train loss: 3.608.. Val loss: 3.520.. Train L1 norm: 5.412.. Val L1 norm: 4.762.. Train Linf norm: 1254.424.. Val Linf norm: 1143.858\n",
            "Epoch 62/120.. Train loss: 3.591.. Val loss: 3.520.. Train L1 norm: 5.503.. Val L1 norm: 4.796.. Train Linf norm: 1336.299.. Val Linf norm: 1148.894\n",
            "Epoch 63/120.. Train loss: 3.568.. Val loss: 3.516.. Train L1 norm: 5.746.. Val L1 norm: 4.787.. Train Linf norm: 1435.444.. Val Linf norm: 1148.810\n",
            "Epoch 64/120.. Train loss: 3.576.. Val loss: 3.515.. Train L1 norm: 5.412.. Val L1 norm: 4.768.. Train Linf norm: 1303.146.. Val Linf norm: 1142.661\n",
            "Epoch 65/120.. Train loss: 3.585.. Val loss: 3.514.. Train L1 norm: 5.496.. Val L1 norm: 4.780.. Train Linf norm: 1343.519.. Val Linf norm: 1145.357\n",
            "Epoch 66/120.. Train loss: 3.556.. Val loss: 3.515.. Train L1 norm: 5.726.. Val L1 norm: 4.770.. Train Linf norm: 1459.985.. Val Linf norm: 1142.423\n",
            "Epoch 67/120.. Train loss: 3.508.. Val loss: 3.512.. Train L1 norm: 5.693.. Val L1 norm: 4.776.. Train Linf norm: 1452.488.. Val Linf norm: 1142.655\n",
            "Epoch 68/120.. Train loss: 3.534.. Val loss: 3.510.. Train L1 norm: 5.398.. Val L1 norm: 4.778.. Train Linf norm: 1240.515.. Val Linf norm: 1142.458\n",
            "Epoch 69/120.. Train loss: 3.569.. Val loss: 3.510.. Train L1 norm: 5.115.. Val L1 norm: 4.770.. Train Linf norm: 1107.437.. Val Linf norm: 1140.533\n",
            "Epoch 70/120.. Train loss: 3.533.. Val loss: 3.508.. Train L1 norm: 5.448.. Val L1 norm: 4.771.. Train Linf norm: 1305.565.. Val Linf norm: 1141.328\n",
            "Epoch 71/120.. Train loss: 3.575.. Val loss: 3.507.. Train L1 norm: 5.447.. Val L1 norm: 4.775.. Train Linf norm: 1312.770.. Val Linf norm: 1142.346\n",
            "Epoch 72/120.. Train loss: 3.541.. Val loss: 3.509.. Train L1 norm: 5.459.. Val L1 norm: 4.770.. Train Linf norm: 1315.210.. Val Linf norm: 1140.787\n",
            "Epoch 73/120.. Train loss: 3.551.. Val loss: 3.509.. Train L1 norm: 5.803.. Val L1 norm: 4.771.. Train Linf norm: 1455.999.. Val Linf norm: 1141.010\n",
            "Epoch 74/120.. Train loss: 3.557.. Val loss: 3.509.. Train L1 norm: 5.796.. Val L1 norm: 4.779.. Train Linf norm: 1231.350.. Val Linf norm: 1142.870\n",
            "Epoch 75/120.. Train loss: 3.564.. Val loss: 3.508.. Train L1 norm: 5.620.. Val L1 norm: 4.776.. Train Linf norm: 1374.528.. Val Linf norm: 1142.548\n",
            "Epoch 76/120.. Train loss: 3.564.. Val loss: 3.508.. Train L1 norm: 5.640.. Val L1 norm: 4.777.. Train Linf norm: 1400.729.. Val Linf norm: 1142.843\n",
            "Epoch 77/120.. Train loss: 3.589.. Val loss: 3.507.. Train L1 norm: 5.379.. Val L1 norm: 4.773.. Train Linf norm: 1189.113.. Val Linf norm: 1141.862\n",
            "Epoch 78/120.. Train loss: 3.545.. Val loss: 3.507.. Train L1 norm: 5.577.. Val L1 norm: 4.772.. Train Linf norm: 1386.577.. Val Linf norm: 1141.664\n",
            "Epoch 79/120.. Train loss: 3.545.. Val loss: 3.507.. Train L1 norm: 5.429.. Val L1 norm: 4.766.. Train Linf norm: 1319.196.. Val Linf norm: 1140.294\n",
            "Epoch 80/120.. Train loss: 3.594.. Val loss: 3.507.. Train L1 norm: 5.479.. Val L1 norm: 4.769.. Train Linf norm: 1285.156.. Val Linf norm: 1140.887\n",
            "Epoch 81/120.. Train loss: 3.540.. Val loss: 3.507.. Train L1 norm: 5.832.. Val L1 norm: 4.770.. Train Linf norm: 1538.660.. Val Linf norm: 1141.314\n",
            "Epoch 82/120.. Train loss: 3.545.. Val loss: 3.506.. Train L1 norm: 5.850.. Val L1 norm: 4.768.. Train Linf norm: 1446.762.. Val Linf norm: 1140.911\n",
            "Epoch 83/120.. Train loss: 3.570.. Val loss: 3.507.. Train L1 norm: 5.784.. Val L1 norm: 4.768.. Train Linf norm: 1505.565.. Val Linf norm: 1140.852\n",
            "Epoch 84/120.. Train loss: 3.534.. Val loss: 3.507.. Train L1 norm: 5.446.. Val L1 norm: 4.767.. Train Linf norm: 1310.544.. Val Linf norm: 1140.622\n",
            "Epoch 85/120.. Train loss: 3.593.. Val loss: 3.507.. Train L1 norm: 5.649.. Val L1 norm: 4.767.. Train Linf norm: 1390.026.. Val Linf norm: 1140.587\n",
            "Epoch 86/120.. Train loss: 3.534.. Val loss: 3.507.. Train L1 norm: 5.844.. Val L1 norm: 4.764.. Train Linf norm: 1501.682.. Val Linf norm: 1139.882\n",
            "Epoch 87/120.. Train loss: 3.581.. Val loss: 3.507.. Train L1 norm: 5.677.. Val L1 norm: 4.764.. Train Linf norm: 1439.201.. Val Linf norm: 1139.794\n",
            "Epoch 88/120.. Train loss: 3.571.. Val loss: 3.507.. Train L1 norm: 5.601.. Val L1 norm: 4.762.. Train Linf norm: 1371.137.. Val Linf norm: 1139.463\n",
            "Epoch 89/120.. Train loss: 3.544.. Val loss: 3.507.. Train L1 norm: 5.690.. Val L1 norm: 4.763.. Train Linf norm: 1432.233.. Val Linf norm: 1139.656\n",
            "Epoch 90/120.. Train loss: 3.590.. Val loss: 3.507.. Train L1 norm: 5.476.. Val L1 norm: 4.763.. Train Linf norm: 1336.045.. Val Linf norm: 1139.589\n",
            "Epoch 91/120.. Train loss: 3.542.. Val loss: 3.507.. Train L1 norm: 5.691.. Val L1 norm: 4.764.. Train Linf norm: 1420.152.. Val Linf norm: 1139.804\n",
            "Epoch 92/120.. Train loss: 3.578.. Val loss: 3.507.. Train L1 norm: 5.361.. Val L1 norm: 4.764.. Train Linf norm: 1249.401.. Val Linf norm: 1139.831\n",
            "Epoch 93/120.. Train loss: 3.540.. Val loss: 3.506.. Train L1 norm: 5.420.. Val L1 norm: 4.763.. Train Linf norm: 1289.324.. Val Linf norm: 1139.701\n",
            "Epoch 94/120.. Train loss: 3.577.. Val loss: 3.507.. Train L1 norm: 5.424.. Val L1 norm: 4.764.. Train Linf norm: 1286.410.. Val Linf norm: 1139.937\n",
            "Epoch 95/120.. Train loss: 3.550.. Val loss: 3.506.. Train L1 norm: 5.221.. Val L1 norm: 4.765.. Train Linf norm: 1153.346.. Val Linf norm: 1140.050\n",
            "Epoch 96/120.. Train loss: 3.537.. Val loss: 3.506.. Train L1 norm: 5.555.. Val L1 norm: 4.765.. Train Linf norm: 1344.639.. Val Linf norm: 1140.012\n",
            "Epoch 97/120.. Train loss: 3.568.. Val loss: 3.506.. Train L1 norm: 5.604.. Val L1 norm: 4.764.. Train Linf norm: 1359.548.. Val Linf norm: 1139.867\n",
            "Epoch 98/120.. Train loss: 3.568.. Val loss: 3.506.. Train L1 norm: 5.578.. Val L1 norm: 4.763.. Train Linf norm: 1375.002.. Val Linf norm: 1139.692\n",
            "Epoch 99/120.. Train loss: 3.561.. Val loss: 3.506.. Train L1 norm: 5.264.. Val L1 norm: 4.763.. Train Linf norm: 1226.723.. Val Linf norm: 1139.637\n",
            "Epoch 100/120.. Train loss: 3.545.. Val loss: 3.506.. Train L1 norm: 5.650.. Val L1 norm: 4.763.. Train Linf norm: 1399.178.. Val Linf norm: 1139.690\n",
            "Epoch 101/120.. Train loss: 3.629.. Val loss: 3.506.. Train L1 norm: 5.552.. Val L1 norm: 4.763.. Train Linf norm: 1381.685.. Val Linf norm: 1139.618\n",
            "Epoch 102/120.. Train loss: 3.565.. Val loss: 3.506.. Train L1 norm: 5.623.. Val L1 norm: 4.763.. Train Linf norm: 1433.904.. Val Linf norm: 1139.591\n",
            "Epoch 103/120.. Train loss: 3.525.. Val loss: 3.506.. Train L1 norm: 5.578.. Val L1 norm: 4.763.. Train Linf norm: 1357.764.. Val Linf norm: 1139.639\n",
            "Epoch 104/120.. Train loss: 3.580.. Val loss: 3.506.. Train L1 norm: 5.709.. Val L1 norm: 4.763.. Train Linf norm: 1485.357.. Val Linf norm: 1139.520\n",
            "Epoch 105/120.. Train loss: 3.561.. Val loss: 3.506.. Train L1 norm: 5.271.. Val L1 norm: 4.762.. Train Linf norm: 1226.242.. Val Linf norm: 1139.494\n",
            "Epoch 106/120.. Train loss: 3.534.. Val loss: 3.506.. Train L1 norm: 5.332.. Val L1 norm: 4.762.. Train Linf norm: 1222.541.. Val Linf norm: 1139.513\n",
            "Epoch 107/120.. Train loss: 3.541.. Val loss: 3.506.. Train L1 norm: 5.588.. Val L1 norm: 4.762.. Train Linf norm: 1371.483.. Val Linf norm: 1139.516\n",
            "Epoch 108/120.. Train loss: 3.550.. Val loss: 3.506.. Train L1 norm: 5.701.. Val L1 norm: 4.762.. Train Linf norm: 1429.207.. Val Linf norm: 1139.542\n",
            "Epoch 109/120.. Train loss: 3.526.. Val loss: 3.506.. Train L1 norm: 5.572.. Val L1 norm: 4.762.. Train Linf norm: 1394.053.. Val Linf norm: 1139.535\n",
            "Epoch 110/120.. Train loss: 3.586.. Val loss: 3.506.. Train L1 norm: 5.572.. Val L1 norm: 4.762.. Train Linf norm: 1395.227.. Val Linf norm: 1139.507\n",
            "Epoch 111/120.. Train loss: 3.539.. Val loss: 3.506.. Train L1 norm: 5.311.. Val L1 norm: 4.762.. Train Linf norm: 1256.725.. Val Linf norm: 1139.484\n",
            "Epoch 112/120.. Train loss: 3.563.. Val loss: 3.506.. Train L1 norm: 5.704.. Val L1 norm: 4.762.. Train Linf norm: 1445.267.. Val Linf norm: 1139.446\n",
            "Epoch 113/120.. Train loss: 3.562.. Val loss: 3.506.. Train L1 norm: 5.498.. Val L1 norm: 4.762.. Train Linf norm: 1325.084.. Val Linf norm: 1139.445\n",
            "Epoch 114/120.. Train loss: 3.559.. Val loss: 3.506.. Train L1 norm: 5.305.. Val L1 norm: 4.762.. Train Linf norm: 1254.323.. Val Linf norm: 1139.442\n",
            "Epoch 115/120.. Train loss: 3.558.. Val loss: 3.506.. Train L1 norm: 5.231.. Val L1 norm: 4.762.. Train Linf norm: 1194.080.. Val Linf norm: 1139.434\n",
            "Epoch 116/120.. Train loss: 3.610.. Val loss: 3.506.. Train L1 norm: 5.648.. Val L1 norm: 4.762.. Train Linf norm: 1337.204.. Val Linf norm: 1139.407\n",
            "Epoch 117/120.. Train loss: 3.558.. Val loss: 3.506.. Train L1 norm: 5.793.. Val L1 norm: 4.762.. Train Linf norm: 1500.244.. Val Linf norm: 1139.376\n",
            "Epoch 118/120.. Train loss: 3.529.. Val loss: 3.506.. Train L1 norm: 5.463.. Val L1 norm: 4.762.. Train Linf norm: 1334.636.. Val Linf norm: 1139.372\n",
            "Epoch 119/120.. Train loss: 3.563.. Val loss: 3.506.. Train L1 norm: 5.372.. Val L1 norm: 4.762.. Train Linf norm: 1218.658.. Val Linf norm: 1139.387\n"
          ]
        },
        {
          "output_type": "stream",
          "name": "stderr",
          "text": [
            "[I 2023-06-03 10:31:56,245] Trial 4 finished with value: 4.761943043263753 and parameters: {'n_layers': 2, 'n_units_0': 1751, 'n_units_1': 1938, 'hidden_activation': 'GELU', 'output_activation': 'Linear', 'loss': 'Huber', 'optimizer': 'Adam', 'lr': 0.008339549830459493, 'batch_size': 512, 'n_epochs': 120, 'scheduler': 'StepLR', 'dropout_rate': 0.4784501963587081, 'weight_decay': 0.0025909569604856617, 'beta1': 0.9711228946057815, 'beta2': 0.9990726037663683, 'step_size': 8, 'gamma': 0.4178589549196099}. Best is trial 2 with value: 2.659428728802999.\n"
          ]
        },
        {
          "output_type": "stream",
          "name": "stdout",
          "text": [
            "Epoch 120/120.. Train loss: 3.526.. Val loss: 3.506.. Train L1 norm: 5.605.. Val L1 norm: 4.762.. Train Linf norm: 1455.223.. Val Linf norm: 1139.399\n"
          ]
        },
        {
          "output_type": "display_data",
          "data": {
            "text/html": [
              "<html>\n",
              "<head><meta charset=\"utf-8\" /></head>\n",
              "<body>\n",
              "    <div>            <script src=\"https://cdnjs.cloudflare.com/ajax/libs/mathjax/2.7.5/MathJax.js?config=TeX-AMS-MML_SVG\"></script><script type=\"text/javascript\">if (window.MathJax && window.MathJax.Hub && window.MathJax.Hub.Config) {window.MathJax.Hub.Config({SVG: {font: \"STIX-Web\"}});}</script>                <script type=\"text/javascript\">window.PlotlyConfig = {MathJaxConfig: 'local'};</script>\n",
              "        <script src=\"https://cdn.plot.ly/plotly-2.18.2.min.js\"></script>                <div id=\"5fbfe5fb-680a-40c3-a543-f805334698a5\" class=\"plotly-graph-div\" style=\"height:525px; width:100%;\"></div>            <script type=\"text/javascript\">                                    window.PLOTLYENV=window.PLOTLYENV || {};                                    if (document.getElementById(\"5fbfe5fb-680a-40c3-a543-f805334698a5\")) {                    Plotly.newPlot(                        \"5fbfe5fb-680a-40c3-a543-f805334698a5\",                        [{\"mode\":\"markers\",\"name\":\"Objective Value\",\"x\":[0,2,4],\"y\":[4.711850512695312,2.659428728802999,4.761943043263753],\"type\":\"scatter\"},{\"name\":\"Best Value\",\"x\":[0,2,4],\"y\":[4.711850512695312,2.659428728802999,2.659428728802999],\"type\":\"scatter\"}],                        {\"title\":{\"text\":\"Optimization History Plot\"},\"xaxis\":{\"title\":{\"text\":\"Trial\"}},\"yaxis\":{\"title\":{\"text\":\"Objective Value\"}},\"template\":{\"data\":{\"histogram2dcontour\":[{\"type\":\"histogram2dcontour\",\"colorbar\":{\"outlinewidth\":0,\"ticks\":\"\"},\"colorscale\":[[0.0,\"#0d0887\"],[0.1111111111111111,\"#46039f\"],[0.2222222222222222,\"#7201a8\"],[0.3333333333333333,\"#9c179e\"],[0.4444444444444444,\"#bd3786\"],[0.5555555555555556,\"#d8576b\"],[0.6666666666666666,\"#ed7953\"],[0.7777777777777778,\"#fb9f3a\"],[0.8888888888888888,\"#fdca26\"],[1.0,\"#f0f921\"]]}],\"choropleth\":[{\"type\":\"choropleth\",\"colorbar\":{\"outlinewidth\":0,\"ticks\":\"\"}}],\"histogram2d\":[{\"type\":\"histogram2d\",\"colorbar\":{\"outlinewidth\":0,\"ticks\":\"\"},\"colorscale\":[[0.0,\"#0d0887\"],[0.1111111111111111,\"#46039f\"],[0.2222222222222222,\"#7201a8\"],[0.3333333333333333,\"#9c179e\"],[0.4444444444444444,\"#bd3786\"],[0.5555555555555556,\"#d8576b\"],[0.6666666666666666,\"#ed7953\"],[0.7777777777777778,\"#fb9f3a\"],[0.8888888888888888,\"#fdca26\"],[1.0,\"#f0f921\"]]}],\"heatmap\":[{\"type\":\"heatmap\",\"colorbar\":{\"outlinewidth\":0,\"ticks\":\"\"},\"colorscale\":[[0.0,\"#0d0887\"],[0.1111111111111111,\"#46039f\"],[0.2222222222222222,\"#7201a8\"],[0.3333333333333333,\"#9c179e\"],[0.4444444444444444,\"#bd3786\"],[0.5555555555555556,\"#d8576b\"],[0.6666666666666666,\"#ed7953\"],[0.7777777777777778,\"#fb9f3a\"],[0.8888888888888888,\"#fdca26\"],[1.0,\"#f0f921\"]]}],\"heatmapgl\":[{\"type\":\"heatmapgl\",\"colorbar\":{\"outlinewidth\":0,\"ticks\":\"\"},\"colorscale\":[[0.0,\"#0d0887\"],[0.1111111111111111,\"#46039f\"],[0.2222222222222222,\"#7201a8\"],[0.3333333333333333,\"#9c179e\"],[0.4444444444444444,\"#bd3786\"],[0.5555555555555556,\"#d8576b\"],[0.6666666666666666,\"#ed7953\"],[0.7777777777777778,\"#fb9f3a\"],[0.8888888888888888,\"#fdca26\"],[1.0,\"#f0f921\"]]}],\"contourcarpet\":[{\"type\":\"contourcarpet\",\"colorbar\":{\"outlinewidth\":0,\"ticks\":\"\"}}],\"contour\":[{\"type\":\"contour\",\"colorbar\":{\"outlinewidth\":0,\"ticks\":\"\"},\"colorscale\":[[0.0,\"#0d0887\"],[0.1111111111111111,\"#46039f\"],[0.2222222222222222,\"#7201a8\"],[0.3333333333333333,\"#9c179e\"],[0.4444444444444444,\"#bd3786\"],[0.5555555555555556,\"#d8576b\"],[0.6666666666666666,\"#ed7953\"],[0.7777777777777778,\"#fb9f3a\"],[0.8888888888888888,\"#fdca26\"],[1.0,\"#f0f921\"]]}],\"surface\":[{\"type\":\"surface\",\"colorbar\":{\"outlinewidth\":0,\"ticks\":\"\"},\"colorscale\":[[0.0,\"#0d0887\"],[0.1111111111111111,\"#46039f\"],[0.2222222222222222,\"#7201a8\"],[0.3333333333333333,\"#9c179e\"],[0.4444444444444444,\"#bd3786\"],[0.5555555555555556,\"#d8576b\"],[0.6666666666666666,\"#ed7953\"],[0.7777777777777778,\"#fb9f3a\"],[0.8888888888888888,\"#fdca26\"],[1.0,\"#f0f921\"]]}],\"mesh3d\":[{\"type\":\"mesh3d\",\"colorbar\":{\"outlinewidth\":0,\"ticks\":\"\"}}],\"scatter\":[{\"fillpattern\":{\"fillmode\":\"overlay\",\"size\":10,\"solidity\":0.2},\"type\":\"scatter\"}],\"parcoords\":[{\"type\":\"parcoords\",\"line\":{\"colorbar\":{\"outlinewidth\":0,\"ticks\":\"\"}}}],\"scatterpolargl\":[{\"type\":\"scatterpolargl\",\"marker\":{\"colorbar\":{\"outlinewidth\":0,\"ticks\":\"\"}}}],\"bar\":[{\"error_x\":{\"color\":\"#2a3f5f\"},\"error_y\":{\"color\":\"#2a3f5f\"},\"marker\":{\"line\":{\"color\":\"#E5ECF6\",\"width\":0.5},\"pattern\":{\"fillmode\":\"overlay\",\"size\":10,\"solidity\":0.2}},\"type\":\"bar\"}],\"scattergeo\":[{\"type\":\"scattergeo\",\"marker\":{\"colorbar\":{\"outlinewidth\":0,\"ticks\":\"\"}}}],\"scatterpolar\":[{\"type\":\"scatterpolar\",\"marker\":{\"colorbar\":{\"outlinewidth\":0,\"ticks\":\"\"}}}],\"histogram\":[{\"marker\":{\"pattern\":{\"fillmode\":\"overlay\",\"size\":10,\"solidity\":0.2}},\"type\":\"histogram\"}],\"scattergl\":[{\"type\":\"scattergl\",\"marker\":{\"colorbar\":{\"outlinewidth\":0,\"ticks\":\"\"}}}],\"scatter3d\":[{\"type\":\"scatter3d\",\"line\":{\"colorbar\":{\"outlinewidth\":0,\"ticks\":\"\"}},\"marker\":{\"colorbar\":{\"outlinewidth\":0,\"ticks\":\"\"}}}],\"scattermapbox\":[{\"type\":\"scattermapbox\",\"marker\":{\"colorbar\":{\"outlinewidth\":0,\"ticks\":\"\"}}}],\"scatterternary\":[{\"type\":\"scatterternary\",\"marker\":{\"colorbar\":{\"outlinewidth\":0,\"ticks\":\"\"}}}],\"scattercarpet\":[{\"type\":\"scattercarpet\",\"marker\":{\"colorbar\":{\"outlinewidth\":0,\"ticks\":\"\"}}}],\"carpet\":[{\"aaxis\":{\"endlinecolor\":\"#2a3f5f\",\"gridcolor\":\"white\",\"linecolor\":\"white\",\"minorgridcolor\":\"white\",\"startlinecolor\":\"#2a3f5f\"},\"baxis\":{\"endlinecolor\":\"#2a3f5f\",\"gridcolor\":\"white\",\"linecolor\":\"white\",\"minorgridcolor\":\"white\",\"startlinecolor\":\"#2a3f5f\"},\"type\":\"carpet\"}],\"table\":[{\"cells\":{\"fill\":{\"color\":\"#EBF0F8\"},\"line\":{\"color\":\"white\"}},\"header\":{\"fill\":{\"color\":\"#C8D4E3\"},\"line\":{\"color\":\"white\"}},\"type\":\"table\"}],\"barpolar\":[{\"marker\":{\"line\":{\"color\":\"#E5ECF6\",\"width\":0.5},\"pattern\":{\"fillmode\":\"overlay\",\"size\":10,\"solidity\":0.2}},\"type\":\"barpolar\"}],\"pie\":[{\"automargin\":true,\"type\":\"pie\"}]},\"layout\":{\"autotypenumbers\":\"strict\",\"colorway\":[\"#636efa\",\"#EF553B\",\"#00cc96\",\"#ab63fa\",\"#FFA15A\",\"#19d3f3\",\"#FF6692\",\"#B6E880\",\"#FF97FF\",\"#FECB52\"],\"font\":{\"color\":\"#2a3f5f\"},\"hovermode\":\"closest\",\"hoverlabel\":{\"align\":\"left\"},\"paper_bgcolor\":\"white\",\"plot_bgcolor\":\"#E5ECF6\",\"polar\":{\"bgcolor\":\"#E5ECF6\",\"angularaxis\":{\"gridcolor\":\"white\",\"linecolor\":\"white\",\"ticks\":\"\"},\"radialaxis\":{\"gridcolor\":\"white\",\"linecolor\":\"white\",\"ticks\":\"\"}},\"ternary\":{\"bgcolor\":\"#E5ECF6\",\"aaxis\":{\"gridcolor\":\"white\",\"linecolor\":\"white\",\"ticks\":\"\"},\"baxis\":{\"gridcolor\":\"white\",\"linecolor\":\"white\",\"ticks\":\"\"},\"caxis\":{\"gridcolor\":\"white\",\"linecolor\":\"white\",\"ticks\":\"\"}},\"coloraxis\":{\"colorbar\":{\"outlinewidth\":0,\"ticks\":\"\"}},\"colorscale\":{\"sequential\":[[0.0,\"#0d0887\"],[0.1111111111111111,\"#46039f\"],[0.2222222222222222,\"#7201a8\"],[0.3333333333333333,\"#9c179e\"],[0.4444444444444444,\"#bd3786\"],[0.5555555555555556,\"#d8576b\"],[0.6666666666666666,\"#ed7953\"],[0.7777777777777778,\"#fb9f3a\"],[0.8888888888888888,\"#fdca26\"],[1.0,\"#f0f921\"]],\"sequentialminus\":[[0.0,\"#0d0887\"],[0.1111111111111111,\"#46039f\"],[0.2222222222222222,\"#7201a8\"],[0.3333333333333333,\"#9c179e\"],[0.4444444444444444,\"#bd3786\"],[0.5555555555555556,\"#d8576b\"],[0.6666666666666666,\"#ed7953\"],[0.7777777777777778,\"#fb9f3a\"],[0.8888888888888888,\"#fdca26\"],[1.0,\"#f0f921\"]],\"diverging\":[[0,\"#8e0152\"],[0.1,\"#c51b7d\"],[0.2,\"#de77ae\"],[0.3,\"#f1b6da\"],[0.4,\"#fde0ef\"],[0.5,\"#f7f7f7\"],[0.6,\"#e6f5d0\"],[0.7,\"#b8e186\"],[0.8,\"#7fbc41\"],[0.9,\"#4d9221\"],[1,\"#276419\"]]},\"xaxis\":{\"gridcolor\":\"white\",\"linecolor\":\"white\",\"ticks\":\"\",\"title\":{\"standoff\":15},\"zerolinecolor\":\"white\",\"automargin\":true,\"zerolinewidth\":2},\"yaxis\":{\"gridcolor\":\"white\",\"linecolor\":\"white\",\"ticks\":\"\",\"title\":{\"standoff\":15},\"zerolinecolor\":\"white\",\"automargin\":true,\"zerolinewidth\":2},\"scene\":{\"xaxis\":{\"backgroundcolor\":\"#E5ECF6\",\"gridcolor\":\"white\",\"linecolor\":\"white\",\"showbackground\":true,\"ticks\":\"\",\"zerolinecolor\":\"white\",\"gridwidth\":2},\"yaxis\":{\"backgroundcolor\":\"#E5ECF6\",\"gridcolor\":\"white\",\"linecolor\":\"white\",\"showbackground\":true,\"ticks\":\"\",\"zerolinecolor\":\"white\",\"gridwidth\":2},\"zaxis\":{\"backgroundcolor\":\"#E5ECF6\",\"gridcolor\":\"white\",\"linecolor\":\"white\",\"showbackground\":true,\"ticks\":\"\",\"zerolinecolor\":\"white\",\"gridwidth\":2}},\"shapedefaults\":{\"line\":{\"color\":\"#2a3f5f\"}},\"annotationdefaults\":{\"arrowcolor\":\"#2a3f5f\",\"arrowhead\":0,\"arrowwidth\":1},\"geo\":{\"bgcolor\":\"white\",\"landcolor\":\"#E5ECF6\",\"subunitcolor\":\"white\",\"showland\":true,\"showlakes\":true,\"lakecolor\":\"white\"},\"title\":{\"x\":0.05},\"mapbox\":{\"style\":\"light\"}}}},                        {\"responsive\": true}                    ).then(function(){\n",
              "                            \n",
              "var gd = document.getElementById('5fbfe5fb-680a-40c3-a543-f805334698a5');\n",
              "var x = new MutationObserver(function (mutations, observer) {{\n",
              "        var display = window.getComputedStyle(gd).display;\n",
              "        if (!display || display === 'none') {{\n",
              "            console.log([gd, 'removed!']);\n",
              "            Plotly.purge(gd);\n",
              "            observer.disconnect();\n",
              "        }}\n",
              "}});\n",
              "\n",
              "// Listen for the removal of the full notebook cells\n",
              "var notebookContainer = gd.closest('#notebook-container');\n",
              "if (notebookContainer) {{\n",
              "    x.observe(notebookContainer, {childList: true});\n",
              "}}\n",
              "\n",
              "// Listen for the clearing of the current output cell\n",
              "var outputEl = gd.closest('.output');\n",
              "if (outputEl) {{\n",
              "    x.observe(outputEl, {childList: true});\n",
              "}}\n",
              "\n",
              "                        })                };                            </script>        </div>\n",
              "</body>\n",
              "</html>"
            ]
          },
          "metadata": {}
        },
        {
          "output_type": "stream",
          "name": "stderr",
          "text": [
            "[W 2023-06-03 10:31:56,636] Your study has only completed trials with missing parameters.\n",
            "<ipython-input-119-ca043aa389dc>:44: FutureWarning:\n",
            "\n",
            "suggest_loguniform has been deprecated in v3.0.0. This feature will be removed in v6.0.0. See https://github.com/optuna/optuna/releases/tag/v3.0.0. Use suggest_float(..., log=True) instead.\n",
            "\n",
            "<ipython-input-119-ca043aa389dc>:76: FutureWarning:\n",
            "\n",
            "suggest_uniform has been deprecated in v3.0.0. This feature will be removed in v6.0.0. See https://github.com/optuna/optuna/releases/tag/v3.0.0. Use suggest_float instead.\n",
            "\n",
            "<ipython-input-119-ca043aa389dc>:161: FutureWarning:\n",
            "\n",
            "suggest_uniform has been deprecated in v3.0.0. This feature will be removed in v6.0.0. See https://github.com/optuna/optuna/releases/tag/v3.0.0. Use suggest_float instead.\n",
            "\n"
          ]
        },
        {
          "output_type": "stream",
          "name": "stdout",
          "text": [
            "Epoch 1/102.. Train loss: 3718465.591.. Val loss: 78.953.. Train L1 norm: 22.191.. Val L1 norm: 5.532.. Train Linf norm: 219.338.. Val Linf norm: 120.050\n",
            "Epoch 2/102.. Train loss: 229.110.. Val loss: 71.174.. Train L1 norm: 6.073.. Val L1 norm: 6.818.. Train Linf norm: 137.016.. Val Linf norm: 147.223\n",
            "Epoch 3/102.. Train loss: 66.540.. Val loss: 71.152.. Train L1 norm: 6.879.. Val L1 norm: 6.593.. Train Linf norm: 157.134.. Val Linf norm: 141.927\n",
            "Epoch 4/102.. Train loss: 44.038.. Val loss: 70.970.. Train L1 norm: 7.044.. Val L1 norm: 6.605.. Train Linf norm: 160.891.. Val Linf norm: 142.488\n",
            "Epoch 5/102.. Train loss: 48.059.. Val loss: 70.957.. Train L1 norm: 7.207.. Val L1 norm: 6.754.. Train Linf norm: 164.755.. Val Linf norm: 145.858\n",
            "Epoch 6/102.. Train loss: 41.597.. Val loss: 71.005.. Train L1 norm: 6.883.. Val L1 norm: 6.775.. Train Linf norm: 154.583.. Val Linf norm: 146.306\n",
            "Epoch 7/102.. Train loss: 44.951.. Val loss: 71.224.. Train L1 norm: 6.952.. Val L1 norm: 6.918.. Train Linf norm: 155.535.. Val Linf norm: 149.478\n",
            "Epoch 8/102.. Train loss: 42.741.. Val loss: 71.127.. Train L1 norm: 7.080.. Val L1 norm: 6.699.. Train Linf norm: 145.944.. Val Linf norm: 144.495\n",
            "Epoch 9/102.. Train loss: 41.574.. Val loss: 71.106.. Train L1 norm: 6.901.. Val L1 norm: 6.874.. Train Linf norm: 155.028.. Val Linf norm: 148.551\n",
            "Epoch 10/102.. Train loss: 42.749.. Val loss: 71.336.. Train L1 norm: 7.297.. Val L1 norm: 6.858.. Train Linf norm: 168.147.. Val Linf norm: 148.079\n",
            "Epoch 11/102.. Train loss: 41.364.. Val loss: 71.295.. Train L1 norm: 7.228.. Val L1 norm: 6.791.. Train Linf norm: 164.550.. Val Linf norm: 146.562\n",
            "Epoch 12/102.. Train loss: 44.734.. Val loss: 71.269.. Train L1 norm: 7.013.. Val L1 norm: 6.764.. Train Linf norm: 159.205.. Val Linf norm: 145.946\n",
            "Epoch 13/102.. Train loss: 41.509.. Val loss: 71.280.. Train L1 norm: 7.326.. Val L1 norm: 6.760.. Train Linf norm: 167.331.. Val Linf norm: 145.833\n",
            "Epoch 14/102.. Train loss: 41.309.. Val loss: 71.283.. Train L1 norm: 7.033.. Val L1 norm: 6.781.. Train Linf norm: 160.130.. Val Linf norm: 146.341\n",
            "Epoch 15/102.. Train loss: 41.557.. Val loss: 71.284.. Train L1 norm: 6.584.. Val L1 norm: 6.775.. Train Linf norm: 145.336.. Val Linf norm: 146.182\n",
            "Epoch 16/102.. Train loss: 41.197.. Val loss: 71.279.. Train L1 norm: 7.114.. Val L1 norm: 6.772.. Train Linf norm: 162.367.. Val Linf norm: 146.117\n",
            "Epoch 17/102.. Train loss: 51.688.. Val loss: 71.279.. Train L1 norm: 7.161.. Val L1 norm: 6.773.. Train Linf norm: 162.857.. Val Linf norm: 146.154\n",
            "Epoch 18/102.. Train loss: 41.160.. Val loss: 71.281.. Train L1 norm: 7.155.. Val L1 norm: 6.778.. Train Linf norm: 163.679.. Val Linf norm: 146.263\n",
            "Epoch 19/102.. Train loss: 41.222.. Val loss: 71.282.. Train L1 norm: 7.155.. Val L1 norm: 6.784.. Train Linf norm: 164.339.. Val Linf norm: 146.398\n",
            "Epoch 20/102.. Train loss: 44.337.. Val loss: 71.286.. Train L1 norm: 7.198.. Val L1 norm: 6.783.. Train Linf norm: 165.061.. Val Linf norm: 146.388\n",
            "Epoch 21/102.. Train loss: 41.645.. Val loss: 71.285.. Train L1 norm: 6.469.. Val L1 norm: 6.783.. Train Linf norm: 141.203.. Val Linf norm: 146.377\n",
            "Epoch 22/102.. Train loss: 41.178.. Val loss: 71.285.. Train L1 norm: 7.273.. Val L1 norm: 6.783.. Train Linf norm: 167.680.. Val Linf norm: 146.393\n",
            "Epoch 23/102.. Train loss: 41.165.. Val loss: 71.286.. Train L1 norm: 7.198.. Val L1 norm: 6.784.. Train Linf norm: 162.834.. Val Linf norm: 146.395\n",
            "Epoch 24/102.. Train loss: 41.530.. Val loss: 71.285.. Train L1 norm: 7.104.. Val L1 norm: 6.783.. Train Linf norm: 161.747.. Val Linf norm: 146.385\n",
            "Epoch 25/102.. Train loss: 41.860.. Val loss: 71.285.. Train L1 norm: 6.611.. Val L1 norm: 6.783.. Train Linf norm: 145.812.. Val Linf norm: 146.384\n",
            "Epoch 26/102.. Train loss: 41.657.. Val loss: 71.285.. Train L1 norm: 7.187.. Val L1 norm: 6.783.. Train Linf norm: 163.583.. Val Linf norm: 146.385\n",
            "Epoch 27/102.. Train loss: 42.091.. Val loss: 71.285.. Train L1 norm: 7.408.. Val L1 norm: 6.783.. Train Linf norm: 171.233.. Val Linf norm: 146.378\n",
            "Epoch 28/102.. Train loss: 42.170.. Val loss: 71.285.. Train L1 norm: 6.870.. Val L1 norm: 6.783.. Train Linf norm: 153.502.. Val Linf norm: 146.376\n",
            "Epoch 29/102.. Train loss: 41.323.. Val loss: 71.285.. Train L1 norm: 6.817.. Val L1 norm: 6.783.. Train Linf norm: 152.111.. Val Linf norm: 146.376\n",
            "Epoch 30/102.. Train loss: 41.442.. Val loss: 71.285.. Train L1 norm: 7.126.. Val L1 norm: 6.782.. Train Linf norm: 163.393.. Val Linf norm: 146.372\n",
            "Epoch 31/102.. Train loss: 41.827.. Val loss: 71.285.. Train L1 norm: 7.162.. Val L1 norm: 6.782.. Train Linf norm: 164.586.. Val Linf norm: 146.371\n",
            "Epoch 32/102.. Train loss: 41.262.. Val loss: 71.285.. Train L1 norm: 7.108.. Val L1 norm: 6.782.. Train Linf norm: 162.086.. Val Linf norm: 146.370\n",
            "Epoch 33/102.. Train loss: 41.420.. Val loss: 71.285.. Train L1 norm: 7.105.. Val L1 norm: 6.782.. Train Linf norm: 162.418.. Val Linf norm: 146.371\n",
            "Epoch 34/102.. Train loss: 41.172.. Val loss: 71.285.. Train L1 norm: 7.067.. Val L1 norm: 6.782.. Train Linf norm: 160.354.. Val Linf norm: 146.371\n",
            "Epoch 35/102.. Train loss: 41.169.. Val loss: 71.285.. Train L1 norm: 6.953.. Val L1 norm: 6.783.. Train Linf norm: 157.282.. Val Linf norm: 146.373\n",
            "Epoch 36/102.. Train loss: 41.183.. Val loss: 71.285.. Train L1 norm: 7.091.. Val L1 norm: 6.783.. Train Linf norm: 161.735.. Val Linf norm: 146.374\n",
            "Epoch 37/102.. Train loss: 41.239.. Val loss: 71.285.. Train L1 norm: 7.195.. Val L1 norm: 6.783.. Train Linf norm: 163.516.. Val Linf norm: 146.376\n",
            "Epoch 38/102.. Train loss: 41.264.. Val loss: 71.285.. Train L1 norm: 7.028.. Val L1 norm: 6.783.. Train Linf norm: 158.982.. Val Linf norm: 146.377\n",
            "Epoch 39/102.. Train loss: 41.415.. Val loss: 71.285.. Train L1 norm: 7.158.. Val L1 norm: 6.783.. Train Linf norm: 162.996.. Val Linf norm: 146.379\n",
            "Epoch 40/102.. Train loss: 41.697.. Val loss: 71.285.. Train L1 norm: 7.106.. Val L1 norm: 6.783.. Train Linf norm: 162.054.. Val Linf norm: 146.380\n",
            "Epoch 41/102.. Train loss: 42.105.. Val loss: 71.285.. Train L1 norm: 7.135.. Val L1 norm: 6.783.. Train Linf norm: 163.925.. Val Linf norm: 146.380\n",
            "Epoch 42/102.. Train loss: 41.474.. Val loss: 71.285.. Train L1 norm: 7.070.. Val L1 norm: 6.783.. Train Linf norm: 161.374.. Val Linf norm: 146.380\n",
            "Epoch 43/102.. Train loss: 42.909.. Val loss: 71.285.. Train L1 norm: 6.984.. Val L1 norm: 6.783.. Train Linf norm: 157.965.. Val Linf norm: 146.381\n",
            "Epoch 44/102.. Train loss: 41.373.. Val loss: 71.285.. Train L1 norm: 7.235.. Val L1 norm: 6.783.. Train Linf norm: 166.503.. Val Linf norm: 146.381\n",
            "Epoch 45/102.. Train loss: 41.152.. Val loss: 71.285.. Train L1 norm: 7.103.. Val L1 norm: 6.783.. Train Linf norm: 161.126.. Val Linf norm: 146.381\n",
            "Epoch 46/102.. Train loss: 41.481.. Val loss: 71.285.. Train L1 norm: 7.126.. Val L1 norm: 6.783.. Train Linf norm: 162.664.. Val Linf norm: 146.381\n",
            "Epoch 47/102.. Train loss: 41.817.. Val loss: 71.285.. Train L1 norm: 7.241.. Val L1 norm: 6.783.. Train Linf norm: 166.994.. Val Linf norm: 146.381\n",
            "Epoch 48/102.. Train loss: 41.590.. Val loss: 71.285.. Train L1 norm: 7.238.. Val L1 norm: 6.783.. Train Linf norm: 166.094.. Val Linf norm: 146.381\n",
            "Epoch 49/102.. Train loss: 41.258.. Val loss: 71.285.. Train L1 norm: 7.090.. Val L1 norm: 6.783.. Train Linf norm: 161.633.. Val Linf norm: 146.381\n",
            "Epoch 50/102.. Train loss: 41.117.. Val loss: 71.285.. Train L1 norm: 6.999.. Val L1 norm: 6.783.. Train Linf norm: 157.929.. Val Linf norm: 146.381\n",
            "Epoch 51/102.. Train loss: 41.475.. Val loss: 71.285.. Train L1 norm: 7.199.. Val L1 norm: 6.783.. Train Linf norm: 165.598.. Val Linf norm: 146.381\n",
            "Epoch 52/102.. Train loss: 41.443.. Val loss: 71.285.. Train L1 norm: 7.315.. Val L1 norm: 6.783.. Train Linf norm: 168.267.. Val Linf norm: 146.381\n",
            "Epoch 53/102.. Train loss: 41.447.. Val loss: 71.285.. Train L1 norm: 7.030.. Val L1 norm: 6.783.. Train Linf norm: 159.701.. Val Linf norm: 146.381\n",
            "Epoch 54/102.. Train loss: 41.322.. Val loss: 71.285.. Train L1 norm: 7.231.. Val L1 norm: 6.783.. Train Linf norm: 166.064.. Val Linf norm: 146.381\n",
            "Epoch 55/102.. Train loss: 41.887.. Val loss: 71.285.. Train L1 norm: 6.743.. Val L1 norm: 6.783.. Train Linf norm: 149.863.. Val Linf norm: 146.381\n",
            "Epoch 56/102.. Train loss: 41.926.. Val loss: 71.285.. Train L1 norm: 7.314.. Val L1 norm: 6.783.. Train Linf norm: 169.220.. Val Linf norm: 146.381\n",
            "Epoch 57/102.. Train loss: 41.207.. Val loss: 71.285.. Train L1 norm: 7.206.. Val L1 norm: 6.783.. Train Linf norm: 165.648.. Val Linf norm: 146.381\n",
            "Epoch 58/102.. Train loss: 41.525.. Val loss: 71.285.. Train L1 norm: 6.994.. Val L1 norm: 6.783.. Train Linf norm: 158.024.. Val Linf norm: 146.381\n",
            "Epoch 59/102.. Train loss: 42.892.. Val loss: 71.285.. Train L1 norm: 7.261.. Val L1 norm: 6.783.. Train Linf norm: 166.024.. Val Linf norm: 146.381\n",
            "Epoch 60/102.. Train loss: 43.139.. Val loss: 71.285.. Train L1 norm: 7.066.. Val L1 norm: 6.783.. Train Linf norm: 161.338.. Val Linf norm: 146.381\n",
            "Epoch 61/102.. Train loss: 41.204.. Val loss: 71.285.. Train L1 norm: 7.216.. Val L1 norm: 6.783.. Train Linf norm: 166.066.. Val Linf norm: 146.381\n",
            "Epoch 62/102.. Train loss: 41.503.. Val loss: 71.285.. Train L1 norm: 7.106.. Val L1 norm: 6.783.. Train Linf norm: 160.368.. Val Linf norm: 146.381\n",
            "Epoch 63/102.. Train loss: 41.686.. Val loss: 71.285.. Train L1 norm: 7.157.. Val L1 norm: 6.783.. Train Linf norm: 163.154.. Val Linf norm: 146.381\n",
            "Epoch 64/102.. Train loss: 41.283.. Val loss: 71.285.. Train L1 norm: 7.049.. Val L1 norm: 6.783.. Train Linf norm: 159.962.. Val Linf norm: 146.381\n",
            "Epoch 65/102.. Train loss: 41.268.. Val loss: 71.285.. Train L1 norm: 6.995.. Val L1 norm: 6.783.. Train Linf norm: 157.822.. Val Linf norm: 146.381\n",
            "Epoch 66/102.. Train loss: 41.329.. Val loss: 71.285.. Train L1 norm: 7.339.. Val L1 norm: 6.783.. Train Linf norm: 170.331.. Val Linf norm: 146.381\n",
            "Epoch 67/102.. Train loss: 41.070.. Val loss: 71.285.. Train L1 norm: 7.137.. Val L1 norm: 6.783.. Train Linf norm: 162.715.. Val Linf norm: 146.381\n",
            "Epoch 68/102.. Train loss: 41.282.. Val loss: 71.285.. Train L1 norm: 7.304.. Val L1 norm: 6.783.. Train Linf norm: 167.738.. Val Linf norm: 146.381\n",
            "Epoch 69/102.. Train loss: 52.133.. Val loss: 71.285.. Train L1 norm: 6.999.. Val L1 norm: 6.783.. Train Linf norm: 159.421.. Val Linf norm: 146.381\n",
            "Epoch 70/102.. Train loss: 41.365.. Val loss: 71.285.. Train L1 norm: 7.312.. Val L1 norm: 6.783.. Train Linf norm: 168.334.. Val Linf norm: 146.381\n",
            "Epoch 71/102.. Train loss: 45.167.. Val loss: 71.285.. Train L1 norm: 7.323.. Val L1 norm: 6.783.. Train Linf norm: 168.355.. Val Linf norm: 146.381\n",
            "Epoch 72/102.. Train loss: 43.548.. Val loss: 71.285.. Train L1 norm: 7.157.. Val L1 norm: 6.783.. Train Linf norm: 163.529.. Val Linf norm: 146.381\n",
            "Epoch 73/102.. Train loss: 41.391.. Val loss: 71.285.. Train L1 norm: 6.894.. Val L1 norm: 6.783.. Train Linf norm: 155.514.. Val Linf norm: 146.381\n",
            "Epoch 74/102.. Train loss: 42.046.. Val loss: 71.285.. Train L1 norm: 7.330.. Val L1 norm: 6.783.. Train Linf norm: 169.558.. Val Linf norm: 146.381\n",
            "Epoch 75/102.. Train loss: 43.577.. Val loss: 71.285.. Train L1 norm: 7.132.. Val L1 norm: 6.783.. Train Linf norm: 163.078.. Val Linf norm: 146.381\n",
            "Epoch 76/102.. Train loss: 41.626.. Val loss: 71.285.. Train L1 norm: 7.155.. Val L1 norm: 6.783.. Train Linf norm: 164.163.. Val Linf norm: 146.381\n",
            "Epoch 77/102.. Train loss: 42.073.. Val loss: 71.285.. Train L1 norm: 7.111.. Val L1 norm: 6.783.. Train Linf norm: 161.837.. Val Linf norm: 146.381\n",
            "Epoch 78/102.. Train loss: 42.261.. Val loss: 71.285.. Train L1 norm: 7.123.. Val L1 norm: 6.783.. Train Linf norm: 162.704.. Val Linf norm: 146.381\n",
            "Epoch 79/102.. Train loss: 41.356.. Val loss: 71.285.. Train L1 norm: 6.706.. Val L1 norm: 6.783.. Train Linf norm: 148.979.. Val Linf norm: 146.381\n",
            "Epoch 80/102.. Train loss: 41.199.. Val loss: 71.285.. Train L1 norm: 7.125.. Val L1 norm: 6.783.. Train Linf norm: 161.113.. Val Linf norm: 146.381\n",
            "Epoch 81/102.. Train loss: 45.100.. Val loss: 71.285.. Train L1 norm: 7.127.. Val L1 norm: 6.783.. Train Linf norm: 161.831.. Val Linf norm: 146.381\n",
            "Epoch 82/102.. Train loss: 41.280.. Val loss: 71.285.. Train L1 norm: 7.115.. Val L1 norm: 6.783.. Train Linf norm: 162.289.. Val Linf norm: 146.381\n",
            "Epoch 83/102.. Train loss: 41.684.. Val loss: 71.285.. Train L1 norm: 7.280.. Val L1 norm: 6.783.. Train Linf norm: 168.104.. Val Linf norm: 146.381\n",
            "Epoch 84/102.. Train loss: 41.696.. Val loss: 71.285.. Train L1 norm: 7.060.. Val L1 norm: 6.783.. Train Linf norm: 160.112.. Val Linf norm: 146.381\n",
            "Epoch 85/102.. Train loss: 41.259.. Val loss: 71.285.. Train L1 norm: 7.184.. Val L1 norm: 6.783.. Train Linf norm: 164.218.. Val Linf norm: 146.381\n",
            "Epoch 86/102.. Train loss: 41.684.. Val loss: 71.285.. Train L1 norm: 7.269.. Val L1 norm: 6.783.. Train Linf norm: 166.621.. Val Linf norm: 146.381\n",
            "Epoch 87/102.. Train loss: 41.964.. Val loss: 71.285.. Train L1 norm: 7.150.. Val L1 norm: 6.783.. Train Linf norm: 163.738.. Val Linf norm: 146.381\n",
            "Epoch 88/102.. Train loss: 65.455.. Val loss: 71.285.. Train L1 norm: 7.154.. Val L1 norm: 6.783.. Train Linf norm: 162.671.. Val Linf norm: 146.381\n",
            "Epoch 89/102.. Train loss: 41.341.. Val loss: 71.285.. Train L1 norm: 7.069.. Val L1 norm: 6.783.. Train Linf norm: 159.986.. Val Linf norm: 146.381\n",
            "Epoch 90/102.. Train loss: 41.974.. Val loss: 71.285.. Train L1 norm: 7.167.. Val L1 norm: 6.783.. Train Linf norm: 164.802.. Val Linf norm: 146.381\n",
            "Epoch 91/102.. Train loss: 45.365.. Val loss: 71.285.. Train L1 norm: 7.040.. Val L1 norm: 6.783.. Train Linf norm: 160.414.. Val Linf norm: 146.381\n",
            "Epoch 92/102.. Train loss: 41.503.. Val loss: 71.285.. Train L1 norm: 6.825.. Val L1 norm: 6.783.. Train Linf norm: 152.525.. Val Linf norm: 146.381\n",
            "Epoch 93/102.. Train loss: 43.073.. Val loss: 71.285.. Train L1 norm: 7.130.. Val L1 norm: 6.783.. Train Linf norm: 163.618.. Val Linf norm: 146.381\n",
            "Epoch 94/102.. Train loss: 41.126.. Val loss: 71.285.. Train L1 norm: 7.106.. Val L1 norm: 6.783.. Train Linf norm: 162.047.. Val Linf norm: 146.381\n",
            "Epoch 95/102.. Train loss: 41.178.. Val loss: 71.285.. Train L1 norm: 7.112.. Val L1 norm: 6.783.. Train Linf norm: 159.519.. Val Linf norm: 146.381\n",
            "Epoch 96/102.. Train loss: 41.916.. Val loss: 71.285.. Train L1 norm: 7.246.. Val L1 norm: 6.783.. Train Linf norm: 166.192.. Val Linf norm: 146.381\n",
            "Epoch 97/102.. Train loss: 41.316.. Val loss: 71.285.. Train L1 norm: 7.162.. Val L1 norm: 6.783.. Train Linf norm: 163.254.. Val Linf norm: 146.381\n",
            "Epoch 98/102.. Train loss: 41.216.. Val loss: 71.285.. Train L1 norm: 6.960.. Val L1 norm: 6.783.. Train Linf norm: 157.421.. Val Linf norm: 146.381\n",
            "Epoch 99/102.. Train loss: 79.691.. Val loss: 71.285.. Train L1 norm: 7.188.. Val L1 norm: 6.783.. Train Linf norm: 165.101.. Val Linf norm: 146.381\n",
            "Epoch 100/102.. Train loss: 41.824.. Val loss: 71.285.. Train L1 norm: 7.254.. Val L1 norm: 6.783.. Train Linf norm: 166.377.. Val Linf norm: 146.381\n",
            "Epoch 101/102.. Train loss: 41.523.. Val loss: 71.285.. Train L1 norm: 7.273.. Val L1 norm: 6.783.. Train Linf norm: 166.811.. Val Linf norm: 146.381\n"
          ]
        },
        {
          "output_type": "stream",
          "name": "stderr",
          "text": [
            "[I 2023-06-03 11:16:51,994] Trial 5 finished with value: 6.782888791402181 and parameters: {'n_layers': 9, 'n_units_0': 1866, 'n_units_1': 2624, 'n_units_2': 196, 'n_units_3': 2872, 'n_units_4': 3107, 'n_units_5': 1673, 'n_units_6': 1761, 'n_units_7': 1160, 'n_units_8': 2959, 'hidden_activation': 'GELU', 'output_activation': 'Linear', 'loss': 'MSE', 'optimizer': 'Adagrad', 'lr': 0.007786314743186405, 'batch_size': 32, 'n_epochs': 102, 'scheduler': 'StepLR', 'dropout_rate': 0.4687943093823286, 'step_size': 5, 'gamma': 0.23013942873371282}. Best is trial 2 with value: 2.659428728802999.\n"
          ]
        },
        {
          "output_type": "stream",
          "name": "stdout",
          "text": [
            "Epoch 102/102.. Train loss: 42.193.. Val loss: 71.285.. Train L1 norm: 7.267.. Val L1 norm: 6.783.. Train Linf norm: 167.630.. Val Linf norm: 146.381\n"
          ]
        },
        {
          "output_type": "display_data",
          "data": {
            "text/html": [
              "<html>\n",
              "<head><meta charset=\"utf-8\" /></head>\n",
              "<body>\n",
              "    <div>            <script src=\"https://cdnjs.cloudflare.com/ajax/libs/mathjax/2.7.5/MathJax.js?config=TeX-AMS-MML_SVG\"></script><script type=\"text/javascript\">if (window.MathJax && window.MathJax.Hub && window.MathJax.Hub.Config) {window.MathJax.Hub.Config({SVG: {font: \"STIX-Web\"}});}</script>                <script type=\"text/javascript\">window.PlotlyConfig = {MathJaxConfig: 'local'};</script>\n",
              "        <script src=\"https://cdn.plot.ly/plotly-2.18.2.min.js\"></script>                <div id=\"33ce7c7a-371b-46b2-a809-7d90c25694ae\" class=\"plotly-graph-div\" style=\"height:525px; width:100%;\"></div>            <script type=\"text/javascript\">                                    window.PLOTLYENV=window.PLOTLYENV || {};                                    if (document.getElementById(\"33ce7c7a-371b-46b2-a809-7d90c25694ae\")) {                    Plotly.newPlot(                        \"33ce7c7a-371b-46b2-a809-7d90c25694ae\",                        [{\"mode\":\"markers\",\"name\":\"Objective Value\",\"x\":[0,2,4,5],\"y\":[4.711850512695312,2.659428728802999,4.761943043263753,6.782888791402181],\"type\":\"scatter\"},{\"name\":\"Best Value\",\"x\":[0,2,4,5],\"y\":[4.711850512695312,2.659428728802999,2.659428728802999,2.659428728802999],\"type\":\"scatter\"}],                        {\"title\":{\"text\":\"Optimization History Plot\"},\"xaxis\":{\"title\":{\"text\":\"Trial\"}},\"yaxis\":{\"title\":{\"text\":\"Objective Value\"}},\"template\":{\"data\":{\"histogram2dcontour\":[{\"type\":\"histogram2dcontour\",\"colorbar\":{\"outlinewidth\":0,\"ticks\":\"\"},\"colorscale\":[[0.0,\"#0d0887\"],[0.1111111111111111,\"#46039f\"],[0.2222222222222222,\"#7201a8\"],[0.3333333333333333,\"#9c179e\"],[0.4444444444444444,\"#bd3786\"],[0.5555555555555556,\"#d8576b\"],[0.6666666666666666,\"#ed7953\"],[0.7777777777777778,\"#fb9f3a\"],[0.8888888888888888,\"#fdca26\"],[1.0,\"#f0f921\"]]}],\"choropleth\":[{\"type\":\"choropleth\",\"colorbar\":{\"outlinewidth\":0,\"ticks\":\"\"}}],\"histogram2d\":[{\"type\":\"histogram2d\",\"colorbar\":{\"outlinewidth\":0,\"ticks\":\"\"},\"colorscale\":[[0.0,\"#0d0887\"],[0.1111111111111111,\"#46039f\"],[0.2222222222222222,\"#7201a8\"],[0.3333333333333333,\"#9c179e\"],[0.4444444444444444,\"#bd3786\"],[0.5555555555555556,\"#d8576b\"],[0.6666666666666666,\"#ed7953\"],[0.7777777777777778,\"#fb9f3a\"],[0.8888888888888888,\"#fdca26\"],[1.0,\"#f0f921\"]]}],\"heatmap\":[{\"type\":\"heatmap\",\"colorbar\":{\"outlinewidth\":0,\"ticks\":\"\"},\"colorscale\":[[0.0,\"#0d0887\"],[0.1111111111111111,\"#46039f\"],[0.2222222222222222,\"#7201a8\"],[0.3333333333333333,\"#9c179e\"],[0.4444444444444444,\"#bd3786\"],[0.5555555555555556,\"#d8576b\"],[0.6666666666666666,\"#ed7953\"],[0.7777777777777778,\"#fb9f3a\"],[0.8888888888888888,\"#fdca26\"],[1.0,\"#f0f921\"]]}],\"heatmapgl\":[{\"type\":\"heatmapgl\",\"colorbar\":{\"outlinewidth\":0,\"ticks\":\"\"},\"colorscale\":[[0.0,\"#0d0887\"],[0.1111111111111111,\"#46039f\"],[0.2222222222222222,\"#7201a8\"],[0.3333333333333333,\"#9c179e\"],[0.4444444444444444,\"#bd3786\"],[0.5555555555555556,\"#d8576b\"],[0.6666666666666666,\"#ed7953\"],[0.7777777777777778,\"#fb9f3a\"],[0.8888888888888888,\"#fdca26\"],[1.0,\"#f0f921\"]]}],\"contourcarpet\":[{\"type\":\"contourcarpet\",\"colorbar\":{\"outlinewidth\":0,\"ticks\":\"\"}}],\"contour\":[{\"type\":\"contour\",\"colorbar\":{\"outlinewidth\":0,\"ticks\":\"\"},\"colorscale\":[[0.0,\"#0d0887\"],[0.1111111111111111,\"#46039f\"],[0.2222222222222222,\"#7201a8\"],[0.3333333333333333,\"#9c179e\"],[0.4444444444444444,\"#bd3786\"],[0.5555555555555556,\"#d8576b\"],[0.6666666666666666,\"#ed7953\"],[0.7777777777777778,\"#fb9f3a\"],[0.8888888888888888,\"#fdca26\"],[1.0,\"#f0f921\"]]}],\"surface\":[{\"type\":\"surface\",\"colorbar\":{\"outlinewidth\":0,\"ticks\":\"\"},\"colorscale\":[[0.0,\"#0d0887\"],[0.1111111111111111,\"#46039f\"],[0.2222222222222222,\"#7201a8\"],[0.3333333333333333,\"#9c179e\"],[0.4444444444444444,\"#bd3786\"],[0.5555555555555556,\"#d8576b\"],[0.6666666666666666,\"#ed7953\"],[0.7777777777777778,\"#fb9f3a\"],[0.8888888888888888,\"#fdca26\"],[1.0,\"#f0f921\"]]}],\"mesh3d\":[{\"type\":\"mesh3d\",\"colorbar\":{\"outlinewidth\":0,\"ticks\":\"\"}}],\"scatter\":[{\"fillpattern\":{\"fillmode\":\"overlay\",\"size\":10,\"solidity\":0.2},\"type\":\"scatter\"}],\"parcoords\":[{\"type\":\"parcoords\",\"line\":{\"colorbar\":{\"outlinewidth\":0,\"ticks\":\"\"}}}],\"scatterpolargl\":[{\"type\":\"scatterpolargl\",\"marker\":{\"colorbar\":{\"outlinewidth\":0,\"ticks\":\"\"}}}],\"bar\":[{\"error_x\":{\"color\":\"#2a3f5f\"},\"error_y\":{\"color\":\"#2a3f5f\"},\"marker\":{\"line\":{\"color\":\"#E5ECF6\",\"width\":0.5},\"pattern\":{\"fillmode\":\"overlay\",\"size\":10,\"solidity\":0.2}},\"type\":\"bar\"}],\"scattergeo\":[{\"type\":\"scattergeo\",\"marker\":{\"colorbar\":{\"outlinewidth\":0,\"ticks\":\"\"}}}],\"scatterpolar\":[{\"type\":\"scatterpolar\",\"marker\":{\"colorbar\":{\"outlinewidth\":0,\"ticks\":\"\"}}}],\"histogram\":[{\"marker\":{\"pattern\":{\"fillmode\":\"overlay\",\"size\":10,\"solidity\":0.2}},\"type\":\"histogram\"}],\"scattergl\":[{\"type\":\"scattergl\",\"marker\":{\"colorbar\":{\"outlinewidth\":0,\"ticks\":\"\"}}}],\"scatter3d\":[{\"type\":\"scatter3d\",\"line\":{\"colorbar\":{\"outlinewidth\":0,\"ticks\":\"\"}},\"marker\":{\"colorbar\":{\"outlinewidth\":0,\"ticks\":\"\"}}}],\"scattermapbox\":[{\"type\":\"scattermapbox\",\"marker\":{\"colorbar\":{\"outlinewidth\":0,\"ticks\":\"\"}}}],\"scatterternary\":[{\"type\":\"scatterternary\",\"marker\":{\"colorbar\":{\"outlinewidth\":0,\"ticks\":\"\"}}}],\"scattercarpet\":[{\"type\":\"scattercarpet\",\"marker\":{\"colorbar\":{\"outlinewidth\":0,\"ticks\":\"\"}}}],\"carpet\":[{\"aaxis\":{\"endlinecolor\":\"#2a3f5f\",\"gridcolor\":\"white\",\"linecolor\":\"white\",\"minorgridcolor\":\"white\",\"startlinecolor\":\"#2a3f5f\"},\"baxis\":{\"endlinecolor\":\"#2a3f5f\",\"gridcolor\":\"white\",\"linecolor\":\"white\",\"minorgridcolor\":\"white\",\"startlinecolor\":\"#2a3f5f\"},\"type\":\"carpet\"}],\"table\":[{\"cells\":{\"fill\":{\"color\":\"#EBF0F8\"},\"line\":{\"color\":\"white\"}},\"header\":{\"fill\":{\"color\":\"#C8D4E3\"},\"line\":{\"color\":\"white\"}},\"type\":\"table\"}],\"barpolar\":[{\"marker\":{\"line\":{\"color\":\"#E5ECF6\",\"width\":0.5},\"pattern\":{\"fillmode\":\"overlay\",\"size\":10,\"solidity\":0.2}},\"type\":\"barpolar\"}],\"pie\":[{\"automargin\":true,\"type\":\"pie\"}]},\"layout\":{\"autotypenumbers\":\"strict\",\"colorway\":[\"#636efa\",\"#EF553B\",\"#00cc96\",\"#ab63fa\",\"#FFA15A\",\"#19d3f3\",\"#FF6692\",\"#B6E880\",\"#FF97FF\",\"#FECB52\"],\"font\":{\"color\":\"#2a3f5f\"},\"hovermode\":\"closest\",\"hoverlabel\":{\"align\":\"left\"},\"paper_bgcolor\":\"white\",\"plot_bgcolor\":\"#E5ECF6\",\"polar\":{\"bgcolor\":\"#E5ECF6\",\"angularaxis\":{\"gridcolor\":\"white\",\"linecolor\":\"white\",\"ticks\":\"\"},\"radialaxis\":{\"gridcolor\":\"white\",\"linecolor\":\"white\",\"ticks\":\"\"}},\"ternary\":{\"bgcolor\":\"#E5ECF6\",\"aaxis\":{\"gridcolor\":\"white\",\"linecolor\":\"white\",\"ticks\":\"\"},\"baxis\":{\"gridcolor\":\"white\",\"linecolor\":\"white\",\"ticks\":\"\"},\"caxis\":{\"gridcolor\":\"white\",\"linecolor\":\"white\",\"ticks\":\"\"}},\"coloraxis\":{\"colorbar\":{\"outlinewidth\":0,\"ticks\":\"\"}},\"colorscale\":{\"sequential\":[[0.0,\"#0d0887\"],[0.1111111111111111,\"#46039f\"],[0.2222222222222222,\"#7201a8\"],[0.3333333333333333,\"#9c179e\"],[0.4444444444444444,\"#bd3786\"],[0.5555555555555556,\"#d8576b\"],[0.6666666666666666,\"#ed7953\"],[0.7777777777777778,\"#fb9f3a\"],[0.8888888888888888,\"#fdca26\"],[1.0,\"#f0f921\"]],\"sequentialminus\":[[0.0,\"#0d0887\"],[0.1111111111111111,\"#46039f\"],[0.2222222222222222,\"#7201a8\"],[0.3333333333333333,\"#9c179e\"],[0.4444444444444444,\"#bd3786\"],[0.5555555555555556,\"#d8576b\"],[0.6666666666666666,\"#ed7953\"],[0.7777777777777778,\"#fb9f3a\"],[0.8888888888888888,\"#fdca26\"],[1.0,\"#f0f921\"]],\"diverging\":[[0,\"#8e0152\"],[0.1,\"#c51b7d\"],[0.2,\"#de77ae\"],[0.3,\"#f1b6da\"],[0.4,\"#fde0ef\"],[0.5,\"#f7f7f7\"],[0.6,\"#e6f5d0\"],[0.7,\"#b8e186\"],[0.8,\"#7fbc41\"],[0.9,\"#4d9221\"],[1,\"#276419\"]]},\"xaxis\":{\"gridcolor\":\"white\",\"linecolor\":\"white\",\"ticks\":\"\",\"title\":{\"standoff\":15},\"zerolinecolor\":\"white\",\"automargin\":true,\"zerolinewidth\":2},\"yaxis\":{\"gridcolor\":\"white\",\"linecolor\":\"white\",\"ticks\":\"\",\"title\":{\"standoff\":15},\"zerolinecolor\":\"white\",\"automargin\":true,\"zerolinewidth\":2},\"scene\":{\"xaxis\":{\"backgroundcolor\":\"#E5ECF6\",\"gridcolor\":\"white\",\"linecolor\":\"white\",\"showbackground\":true,\"ticks\":\"\",\"zerolinecolor\":\"white\",\"gridwidth\":2},\"yaxis\":{\"backgroundcolor\":\"#E5ECF6\",\"gridcolor\":\"white\",\"linecolor\":\"white\",\"showbackground\":true,\"ticks\":\"\",\"zerolinecolor\":\"white\",\"gridwidth\":2},\"zaxis\":{\"backgroundcolor\":\"#E5ECF6\",\"gridcolor\":\"white\",\"linecolor\":\"white\",\"showbackground\":true,\"ticks\":\"\",\"zerolinecolor\":\"white\",\"gridwidth\":2}},\"shapedefaults\":{\"line\":{\"color\":\"#2a3f5f\"}},\"annotationdefaults\":{\"arrowcolor\":\"#2a3f5f\",\"arrowhead\":0,\"arrowwidth\":1},\"geo\":{\"bgcolor\":\"white\",\"landcolor\":\"#E5ECF6\",\"subunitcolor\":\"white\",\"showland\":true,\"showlakes\":true,\"lakecolor\":\"white\"},\"title\":{\"x\":0.05},\"mapbox\":{\"style\":\"light\"}}}},                        {\"responsive\": true}                    ).then(function(){\n",
              "                            \n",
              "var gd = document.getElementById('33ce7c7a-371b-46b2-a809-7d90c25694ae');\n",
              "var x = new MutationObserver(function (mutations, observer) {{\n",
              "        var display = window.getComputedStyle(gd).display;\n",
              "        if (!display || display === 'none') {{\n",
              "            console.log([gd, 'removed!']);\n",
              "            Plotly.purge(gd);\n",
              "            observer.disconnect();\n",
              "        }}\n",
              "}});\n",
              "\n",
              "// Listen for the removal of the full notebook cells\n",
              "var notebookContainer = gd.closest('#notebook-container');\n",
              "if (notebookContainer) {{\n",
              "    x.observe(notebookContainer, {childList: true});\n",
              "}}\n",
              "\n",
              "// Listen for the clearing of the current output cell\n",
              "var outputEl = gd.closest('.output');\n",
              "if (outputEl) {{\n",
              "    x.observe(outputEl, {childList: true});\n",
              "}}\n",
              "\n",
              "                        })                };                            </script>        </div>\n",
              "</body>\n",
              "</html>"
            ]
          },
          "metadata": {}
        },
        {
          "output_type": "stream",
          "name": "stderr",
          "text": [
            "[W 2023-06-03 11:16:52,467] Your study has only completed trials with missing parameters.\n",
            "<ipython-input-119-ca043aa389dc>:44: FutureWarning:\n",
            "\n",
            "suggest_loguniform has been deprecated in v3.0.0. This feature will be removed in v6.0.0. See https://github.com/optuna/optuna/releases/tag/v3.0.0. Use suggest_float(..., log=True) instead.\n",
            "\n",
            "<ipython-input-119-ca043aa389dc>:58: FutureWarning:\n",
            "\n",
            "suggest_uniform has been deprecated in v3.0.0. This feature will be removed in v6.0.0. See https://github.com/optuna/optuna/releases/tag/v3.0.0. Use suggest_float instead.\n",
            "\n",
            "<ipython-input-119-ca043aa389dc>:76: FutureWarning:\n",
            "\n",
            "suggest_uniform has been deprecated in v3.0.0. This feature will be removed in v6.0.0. See https://github.com/optuna/optuna/releases/tag/v3.0.0. Use suggest_float instead.\n",
            "\n",
            "<ipython-input-119-ca043aa389dc>:149: FutureWarning:\n",
            "\n",
            "suggest_loguniform has been deprecated in v3.0.0. This feature will be removed in v6.0.0. See https://github.com/optuna/optuna/releases/tag/v3.0.0. Use suggest_float(..., log=True) instead.\n",
            "\n",
            "<ipython-input-119-ca043aa389dc>:150: FutureWarning:\n",
            "\n",
            "suggest_uniform has been deprecated in v3.0.0. This feature will be removed in v6.0.0. See https://github.com/optuna/optuna/releases/tag/v3.0.0. Use suggest_float instead.\n",
            "\n",
            "<ipython-input-119-ca043aa389dc>:151: FutureWarning:\n",
            "\n",
            "suggest_uniform has been deprecated in v3.0.0. This feature will be removed in v6.0.0. See https://github.com/optuna/optuna/releases/tag/v3.0.0. Use suggest_float instead.\n",
            "\n",
            "<ipython-input-119-ca043aa389dc>:178: FutureWarning:\n",
            "\n",
            "suggest_uniform has been deprecated in v3.0.0. This feature will be removed in v6.0.0. See https://github.com/optuna/optuna/releases/tag/v3.0.0. Use suggest_float instead.\n",
            "\n",
            "<ipython-input-119-ca043aa389dc>:180: FutureWarning:\n",
            "\n",
            "suggest_loguniform has been deprecated in v3.0.0. This feature will be removed in v6.0.0. See https://github.com/optuna/optuna/releases/tag/v3.0.0. Use suggest_float(..., log=True) instead.\n",
            "\n"
          ]
        },
        {
          "output_type": "stream",
          "name": "stdout",
          "text": [
            "Epoch 1/103.. Train loss: 7.477.. Val loss: 4.169.. Train L1 norm: 6.579.. Val L1 norm: 4.670.. Train Linf norm: 4681.335.. Val Linf norm: 2678.296\n",
            "Epoch 2/103.. Train loss: 6.889.. Val loss: 4.196.. Train L1 norm: 5.895.. Val L1 norm: 3.272.. Train Linf norm: 4403.351.. Val Linf norm: 1502.359\n",
            "Epoch 3/103.. Train loss: 6.637.. Val loss: 5.560.. Train L1 norm: 6.516.. Val L1 norm: 3.013.. Train Linf norm: 4257.243.. Val Linf norm: 1867.076\n",
            "Epoch 4/103.. Train loss: 6.950.. Val loss: 4.405.. Train L1 norm: 6.010.. Val L1 norm: 5.543.. Train Linf norm: 3694.677.. Val Linf norm: 2903.951\n",
            "Epoch 5/103.. Train loss: 5.894.. Val loss: 5.775.. Train L1 norm: 5.940.. Val L1 norm: 8.550.. Train Linf norm: 3454.466.. Val Linf norm: 4657.108\n",
            "Epoch 6/103.. Train loss: 6.535.. Val loss: 4.047.. Train L1 norm: 6.056.. Val L1 norm: 2.874.. Train Linf norm: 3502.421.. Val Linf norm: 1669.413\n",
            "Epoch 7/103.. Train loss: 5.364.. Val loss: 4.091.. Train L1 norm: 5.275.. Val L1 norm: 3.006.. Train Linf norm: 3406.956.. Val Linf norm: 1760.459\n",
            "Epoch 8/103.. Train loss: 4.795.. Val loss: 3.989.. Train L1 norm: 5.062.. Val L1 norm: 3.762.. Train Linf norm: 2999.926.. Val Linf norm: 2426.032\n",
            "Epoch 9/103.. Train loss: 4.876.. Val loss: 3.807.. Train L1 norm: 5.348.. Val L1 norm: 5.094.. Train Linf norm: 3726.730.. Val Linf norm: 3168.660\n",
            "Epoch 10/103.. Train loss: 4.464.. Val loss: 3.933.. Train L1 norm: 5.057.. Val L1 norm: 3.440.. Train Linf norm: 3679.658.. Val Linf norm: 1904.177\n",
            "Epoch 11/103.. Train loss: 4.497.. Val loss: 3.936.. Train L1 norm: 5.102.. Val L1 norm: 3.626.. Train Linf norm: 3356.793.. Val Linf norm: 2024.455\n",
            "Epoch 12/103.. Train loss: 4.719.. Val loss: 4.260.. Train L1 norm: 5.412.. Val L1 norm: 2.948.. Train Linf norm: 4111.008.. Val Linf norm: 1856.474\n",
            "Epoch 13/103.. Train loss: 4.625.. Val loss: 3.881.. Train L1 norm: 5.166.. Val L1 norm: 3.771.. Train Linf norm: 3165.345.. Val Linf norm: 2412.609\n",
            "Epoch 14/103.. Train loss: 4.700.. Val loss: 3.758.. Train L1 norm: 4.882.. Val L1 norm: 4.610.. Train Linf norm: 3582.220.. Val Linf norm: 2798.555\n",
            "Epoch 15/103.. Train loss: 4.247.. Val loss: 3.916.. Train L1 norm: 6.317.. Val L1 norm: 5.744.. Train Linf norm: 4724.440.. Val Linf norm: 3317.479\n",
            "Epoch 16/103.. Train loss: 4.704.. Val loss: 3.745.. Train L1 norm: 5.804.. Val L1 norm: 5.253.. Train Linf norm: 3926.755.. Val Linf norm: 3104.845\n",
            "Epoch 17/103.. Train loss: 4.469.. Val loss: 3.816.. Train L1 norm: 4.964.. Val L1 norm: 5.546.. Train Linf norm: 3476.700.. Val Linf norm: 3343.605\n",
            "Epoch 18/103.. Train loss: 4.558.. Val loss: 3.858.. Train L1 norm: 5.533.. Val L1 norm: 4.106.. Train Linf norm: 3887.935.. Val Linf norm: 2463.310\n",
            "Epoch 19/103.. Train loss: 4.261.. Val loss: 4.031.. Train L1 norm: 5.191.. Val L1 norm: 3.496.. Train Linf norm: 4025.010.. Val Linf norm: 2189.266\n",
            "Epoch 20/103.. Train loss: 4.384.. Val loss: 4.028.. Train L1 norm: 5.828.. Val L1 norm: 3.578.. Train Linf norm: 4328.050.. Val Linf norm: 2166.931\n",
            "Epoch 21/103.. Train loss: 4.381.. Val loss: 3.822.. Train L1 norm: 5.759.. Val L1 norm: 4.045.. Train Linf norm: 4280.045.. Val Linf norm: 2540.342\n",
            "Epoch 22/103.. Train loss: 4.203.. Val loss: 3.792.. Train L1 norm: 4.834.. Val L1 norm: 5.288.. Train Linf norm: 3461.475.. Val Linf norm: 2917.283\n",
            "Epoch 23/103.. Train loss: 4.296.. Val loss: 3.983.. Train L1 norm: 5.482.. Val L1 norm: 6.723.. Train Linf norm: 3893.957.. Val Linf norm: 4363.719\n",
            "Epoch 24/103.. Train loss: 4.467.. Val loss: 3.789.. Train L1 norm: 5.745.. Val L1 norm: 4.727.. Train Linf norm: 4277.367.. Val Linf norm: 2919.840\n",
            "Epoch 25/103.. Train loss: 4.472.. Val loss: 3.933.. Train L1 norm: 6.123.. Val L1 norm: 3.503.. Train Linf norm: 4311.894.. Val Linf norm: 2230.768\n",
            "Epoch 26/103.. Train loss: 4.758.. Val loss: 3.997.. Train L1 norm: 5.487.. Val L1 norm: 4.933.. Train Linf norm: 3276.736.. Val Linf norm: 3266.940\n",
            "Epoch 27/103.. Train loss: 4.875.. Val loss: 3.747.. Train L1 norm: 5.554.. Val L1 norm: 4.912.. Train Linf norm: 4157.095.. Val Linf norm: 2972.315\n",
            "Epoch 28/103.. Train loss: 4.545.. Val loss: 3.732.. Train L1 norm: 5.474.. Val L1 norm: 5.178.. Train Linf norm: 3632.157.. Val Linf norm: 3015.491\n",
            "Epoch 29/103.. Train loss: 4.449.. Val loss: 3.747.. Train L1 norm: 5.626.. Val L1 norm: 4.680.. Train Linf norm: 4171.803.. Val Linf norm: 2609.020\n",
            "Epoch 30/103.. Train loss: 4.195.. Val loss: 3.782.. Train L1 norm: 5.993.. Val L1 norm: 5.451.. Train Linf norm: 4135.610.. Val Linf norm: 3197.891\n",
            "Epoch 31/103.. Train loss: 4.127.. Val loss: 3.760.. Train L1 norm: 5.916.. Val L1 norm: 5.223.. Train Linf norm: 4116.700.. Val Linf norm: 3191.956\n",
            "Epoch 32/103.. Train loss: 4.132.. Val loss: 3.728.. Train L1 norm: 5.352.. Val L1 norm: 4.899.. Train Linf norm: 3671.506.. Val Linf norm: 3024.358\n",
            "Epoch 33/103.. Train loss: 4.086.. Val loss: 3.705.. Train L1 norm: 5.746.. Val L1 norm: 4.897.. Train Linf norm: 4159.411.. Val Linf norm: 2969.249\n",
            "Epoch 34/103.. Train loss: 4.065.. Val loss: 3.712.. Train L1 norm: 5.265.. Val L1 norm: 4.312.. Train Linf norm: 3761.684.. Val Linf norm: 2581.882\n",
            "Epoch 35/103.. Train loss: 4.045.. Val loss: 3.723.. Train L1 norm: 4.738.. Val L1 norm: 4.082.. Train Linf norm: 3837.176.. Val Linf norm: 2408.431\n",
            "Epoch 36/103.. Train loss: 4.062.. Val loss: 3.682.. Train L1 norm: 5.100.. Val L1 norm: 4.701.. Train Linf norm: 3790.591.. Val Linf norm: 2782.992\n",
            "Epoch 37/103.. Train loss: 3.967.. Val loss: 3.696.. Train L1 norm: 5.320.. Val L1 norm: 4.321.. Train Linf norm: 3841.195.. Val Linf norm: 2590.791\n",
            "Epoch 38/103.. Train loss: 3.945.. Val loss: 3.716.. Train L1 norm: 4.832.. Val L1 norm: 4.166.. Train Linf norm: 3124.726.. Val Linf norm: 2516.650\n",
            "Epoch 39/103.. Train loss: 3.880.. Val loss: 3.694.. Train L1 norm: 4.730.. Val L1 norm: 4.413.. Train Linf norm: 3326.377.. Val Linf norm: 2650.940\n",
            "Epoch 40/103.. Train loss: 3.883.. Val loss: 3.684.. Train L1 norm: 5.315.. Val L1 norm: 4.853.. Train Linf norm: 3517.952.. Val Linf norm: 2885.309\n",
            "Epoch 41/103.. Train loss: 3.830.. Val loss: 3.693.. Train L1 norm: 5.340.. Val L1 norm: 4.322.. Train Linf norm: 3925.809.. Val Linf norm: 2558.372\n",
            "Epoch 42/103.. Train loss: 3.814.. Val loss: 3.678.. Train L1 norm: 5.139.. Val L1 norm: 4.368.. Train Linf norm: 3985.404.. Val Linf norm: 2537.017\n",
            "Epoch 43/103.. Train loss: 3.827.. Val loss: 3.641.. Train L1 norm: 5.439.. Val L1 norm: 4.728.. Train Linf norm: 3657.713.. Val Linf norm: 2695.805\n",
            "Epoch 44/103.. Train loss: 3.749.. Val loss: 3.641.. Train L1 norm: 5.610.. Val L1 norm: 4.479.. Train Linf norm: 4189.760.. Val Linf norm: 2561.984\n",
            "Epoch 45/103.. Train loss: 3.871.. Val loss: 3.651.. Train L1 norm: 5.351.. Val L1 norm: 4.305.. Train Linf norm: 4034.376.. Val Linf norm: 2510.310\n",
            "Epoch 46/103.. Train loss: 3.760.. Val loss: 3.623.. Train L1 norm: 5.027.. Val L1 norm: 4.495.. Train Linf norm: 3676.300.. Val Linf norm: 2666.167\n",
            "Epoch 47/103.. Train loss: 3.736.. Val loss: 3.597.. Train L1 norm: 5.541.. Val L1 norm: 4.784.. Train Linf norm: 4219.260.. Val Linf norm: 2844.297\n",
            "Epoch 48/103.. Train loss: 3.806.. Val loss: 3.582.. Train L1 norm: 5.343.. Val L1 norm: 4.803.. Train Linf norm: 3823.143.. Val Linf norm: 2872.422\n",
            "Epoch 49/103.. Train loss: 3.764.. Val loss: 3.604.. Train L1 norm: 5.305.. Val L1 norm: 4.435.. Train Linf norm: 4137.046.. Val Linf norm: 2648.045\n",
            "Epoch 50/103.. Train loss: 3.790.. Val loss: 3.589.. Train L1 norm: 5.102.. Val L1 norm: 4.672.. Train Linf norm: 3898.232.. Val Linf norm: 2754.012\n",
            "Epoch 51/103.. Train loss: 3.766.. Val loss: 3.580.. Train L1 norm: 5.836.. Val L1 norm: 5.011.. Train Linf norm: 4655.582.. Val Linf norm: 2989.071\n",
            "Epoch 52/103.. Train loss: 3.758.. Val loss: 3.593.. Train L1 norm: 5.529.. Val L1 norm: 4.654.. Train Linf norm: 3969.639.. Val Linf norm: 2840.454\n",
            "Epoch 53/103.. Train loss: 3.761.. Val loss: 3.621.. Train L1 norm: 5.046.. Val L1 norm: 4.399.. Train Linf norm: 3625.615.. Val Linf norm: 2690.821\n",
            "Epoch 54/103.. Train loss: 3.731.. Val loss: 3.591.. Train L1 norm: 5.095.. Val L1 norm: 4.583.. Train Linf norm: 3243.524.. Val Linf norm: 2734.775\n",
            "Epoch 55/103.. Train loss: 3.720.. Val loss: 3.574.. Train L1 norm: 5.489.. Val L1 norm: 4.739.. Train Linf norm: 4053.595.. Val Linf norm: 2751.720\n",
            "Epoch 56/103.. Train loss: 3.721.. Val loss: 3.570.. Train L1 norm: 5.610.. Val L1 norm: 4.657.. Train Linf norm: 4018.850.. Val Linf norm: 2706.287\n",
            "Epoch 57/103.. Train loss: 3.692.. Val loss: 3.543.. Train L1 norm: 5.533.. Val L1 norm: 4.770.. Train Linf norm: 4250.356.. Val Linf norm: 2869.233\n",
            "Epoch 58/103.. Train loss: 3.724.. Val loss: 3.545.. Train L1 norm: 5.662.. Val L1 norm: 4.931.. Train Linf norm: 4008.721.. Val Linf norm: 2982.100\n",
            "Epoch 59/103.. Train loss: 3.695.. Val loss: 3.551.. Train L1 norm: 5.460.. Val L1 norm: 4.712.. Train Linf norm: 3789.698.. Val Linf norm: 2822.494\n",
            "Epoch 60/103.. Train loss: 3.695.. Val loss: 3.563.. Train L1 norm: 5.396.. Val L1 norm: 4.582.. Train Linf norm: 4074.695.. Val Linf norm: 2706.903\n",
            "Epoch 61/103.. Train loss: 3.703.. Val loss: 3.550.. Train L1 norm: 5.267.. Val L1 norm: 4.690.. Train Linf norm: 3689.744.. Val Linf norm: 2733.983\n",
            "Epoch 62/103.. Train loss: 3.670.. Val loss: 3.541.. Train L1 norm: 5.639.. Val L1 norm: 4.803.. Train Linf norm: 4255.256.. Val Linf norm: 2772.986\n",
            "Epoch 63/103.. Train loss: 3.705.. Val loss: 3.563.. Train L1 norm: 5.312.. Val L1 norm: 4.490.. Train Linf norm: 4061.570.. Val Linf norm: 2662.193\n",
            "Epoch 64/103.. Train loss: 3.765.. Val loss: 3.578.. Train L1 norm: 5.176.. Val L1 norm: 4.432.. Train Linf norm: 3965.883.. Val Linf norm: 2659.936\n",
            "Epoch 65/103.. Train loss: 3.662.. Val loss: 3.534.. Train L1 norm: 5.249.. Val L1 norm: 4.833.. Train Linf norm: 3236.520.. Val Linf norm: 2853.646\n",
            "Epoch 66/103.. Train loss: 3.739.. Val loss: 3.520.. Train L1 norm: 5.797.. Val L1 norm: 4.964.. Train Linf norm: 4423.391.. Val Linf norm: 2952.686\n",
            "Epoch 67/103.. Train loss: 3.657.. Val loss: 3.530.. Train L1 norm: 5.441.. Val L1 norm: 4.626.. Train Linf norm: 3876.186.. Val Linf norm: 2775.984\n",
            "Epoch 68/103.. Train loss: 3.687.. Val loss: 3.519.. Train L1 norm: 5.448.. Val L1 norm: 4.745.. Train Linf norm: 4324.913.. Val Linf norm: 2818.824\n",
            "Epoch 69/103.. Train loss: 3.689.. Val loss: 3.510.. Train L1 norm: 5.692.. Val L1 norm: 4.960.. Train Linf norm: 4474.610.. Val Linf norm: 2941.221\n",
            "Epoch 70/103.. Train loss: 3.657.. Val loss: 3.523.. Train L1 norm: 5.783.. Val L1 norm: 4.707.. Train Linf norm: 4371.935.. Val Linf norm: 2828.551\n",
            "Epoch 71/103.. Train loss: 3.632.. Val loss: 3.517.. Train L1 norm: 5.400.. Val L1 norm: 4.790.. Train Linf norm: 3227.167.. Val Linf norm: 2903.387\n",
            "Epoch 72/103.. Train loss: 3.618.. Val loss: 3.497.. Train L1 norm: 5.792.. Val L1 norm: 4.984.. Train Linf norm: 4343.592.. Val Linf norm: 3020.306\n",
            "Epoch 73/103.. Train loss: 3.645.. Val loss: 3.493.. Train L1 norm: 5.429.. Val L1 norm: 4.803.. Train Linf norm: 3805.203.. Val Linf norm: 2900.589\n",
            "Epoch 74/103.. Train loss: 3.660.. Val loss: 3.492.. Train L1 norm: 5.286.. Val L1 norm: 4.708.. Train Linf norm: 3728.058.. Val Linf norm: 2807.274\n",
            "Epoch 75/103.. Train loss: 3.655.. Val loss: 3.512.. Train L1 norm: 5.417.. Val L1 norm: 4.549.. Train Linf norm: 3911.864.. Val Linf norm: 2676.953\n",
            "Epoch 76/103.. Train loss: 3.641.. Val loss: 3.501.. Train L1 norm: 5.589.. Val L1 norm: 4.738.. Train Linf norm: 4154.580.. Val Linf norm: 2799.951\n",
            "Epoch 77/103.. Train loss: 3.666.. Val loss: 3.498.. Train L1 norm: 5.614.. Val L1 norm: 4.785.. Train Linf norm: 4338.558.. Val Linf norm: 2881.938\n",
            "Epoch 78/103.. Train loss: 3.656.. Val loss: 3.518.. Train L1 norm: 5.545.. Val L1 norm: 4.711.. Train Linf norm: 4605.203.. Val Linf norm: 2882.829\n",
            "Epoch 79/103.. Train loss: 3.623.. Val loss: 3.504.. Train L1 norm: 5.563.. Val L1 norm: 5.214.. Train Linf norm: 3791.824.. Val Linf norm: 3174.615\n",
            "Epoch 80/103.. Train loss: 3.624.. Val loss: 3.484.. Train L1 norm: 5.786.. Val L1 norm: 4.775.. Train Linf norm: 4449.446.. Val Linf norm: 2890.301\n",
            "Epoch 81/103.. Train loss: 3.627.. Val loss: 3.513.. Train L1 norm: 5.365.. Val L1 norm: 4.587.. Train Linf norm: 4074.165.. Val Linf norm: 2707.475\n",
            "Epoch 82/103.. Train loss: 3.655.. Val loss: 3.482.. Train L1 norm: 5.625.. Val L1 norm: 4.775.. Train Linf norm: 4485.388.. Val Linf norm: 2754.366\n",
            "Epoch 83/103.. Train loss: 3.678.. Val loss: 3.467.. Train L1 norm: 5.748.. Val L1 norm: 4.755.. Train Linf norm: 4519.372.. Val Linf norm: 2814.508\n",
            "Epoch 84/103.. Train loss: 3.616.. Val loss: 3.490.. Train L1 norm: 5.501.. Val L1 norm: 4.592.. Train Linf norm: 4269.131.. Val Linf norm: 2816.999\n",
            "Epoch 85/103.. Train loss: 3.643.. Val loss: 3.510.. Train L1 norm: 5.535.. Val L1 norm: 4.645.. Train Linf norm: 4319.715.. Val Linf norm: 2826.103\n",
            "Epoch 86/103.. Train loss: 3.633.. Val loss: 3.458.. Train L1 norm: 5.471.. Val L1 norm: 4.839.. Train Linf norm: 4087.822.. Val Linf norm: 2921.290\n",
            "Epoch 87/103.. Train loss: 3.603.. Val loss: 3.441.. Train L1 norm: 5.502.. Val L1 norm: 4.922.. Train Linf norm: 3717.748.. Val Linf norm: 2982.902\n",
            "Epoch 88/103.. Train loss: 3.751.. Val loss: 3.470.. Train L1 norm: 5.474.. Val L1 norm: 4.518.. Train Linf norm: 4187.974.. Val Linf norm: 2726.938\n",
            "Epoch 89/103.. Train loss: 3.619.. Val loss: 3.502.. Train L1 norm: 5.264.. Val L1 norm: 4.523.. Train Linf norm: 4039.199.. Val Linf norm: 2670.080\n",
            "Epoch 90/103.. Train loss: 3.612.. Val loss: 3.424.. Train L1 norm: 5.670.. Val L1 norm: 4.987.. Train Linf norm: 4353.599.. Val Linf norm: 2950.257\n",
            "Epoch 91/103.. Train loss: 3.627.. Val loss: 3.425.. Train L1 norm: 5.703.. Val L1 norm: 4.612.. Train Linf norm: 4250.150.. Val Linf norm: 2786.391\n",
            "Epoch 92/103.. Train loss: 3.583.. Val loss: 3.483.. Train L1 norm: 5.331.. Val L1 norm: 4.487.. Train Linf norm: 3968.165.. Val Linf norm: 2671.797\n",
            "Epoch 93/103.. Train loss: 3.584.. Val loss: 3.428.. Train L1 norm: 5.561.. Val L1 norm: 4.864.. Train Linf norm: 4292.217.. Val Linf norm: 2925.505\n",
            "Epoch 94/103.. Train loss: 3.583.. Val loss: 3.403.. Train L1 norm: 5.663.. Val L1 norm: 4.817.. Train Linf norm: 4086.980.. Val Linf norm: 2886.371\n",
            "Epoch 95/103.. Train loss: 3.600.. Val loss: 3.488.. Train L1 norm: 5.251.. Val L1 norm: 4.389.. Train Linf norm: 3759.580.. Val Linf norm: 2622.495\n",
            "Epoch 96/103.. Train loss: 3.601.. Val loss: 3.448.. Train L1 norm: 5.298.. Val L1 norm: 4.784.. Train Linf norm: 4076.785.. Val Linf norm: 2861.232\n",
            "Epoch 97/103.. Train loss: 3.612.. Val loss: 3.404.. Train L1 norm: 5.721.. Val L1 norm: 4.847.. Train Linf norm: 4449.114.. Val Linf norm: 2996.316\n",
            "Epoch 98/103.. Train loss: 3.556.. Val loss: 3.418.. Train L1 norm: 5.696.. Val L1 norm: 4.796.. Train Linf norm: 4472.334.. Val Linf norm: 2961.432\n",
            "Epoch 99/103.. Train loss: 3.556.. Val loss: 3.441.. Train L1 norm: 5.296.. Val L1 norm: 4.582.. Train Linf norm: 3743.728.. Val Linf norm: 2712.707\n",
            "Epoch 100/103.. Train loss: 3.544.. Val loss: 3.392.. Train L1 norm: 5.263.. Val L1 norm: 4.511.. Train Linf norm: 3551.560.. Val Linf norm: 2500.094\n",
            "Epoch 101/103.. Train loss: 3.555.. Val loss: 3.398.. Train L1 norm: 5.480.. Val L1 norm: 4.386.. Train Linf norm: 4191.701.. Val Linf norm: 2402.667\n",
            "Epoch 102/103.. Train loss: 3.566.. Val loss: 3.378.. Train L1 norm: 5.282.. Val L1 norm: 4.764.. Train Linf norm: 3764.023.. Val Linf norm: 2793.770\n"
          ]
        },
        {
          "output_type": "stream",
          "name": "stderr",
          "text": [
            "[I 2023-06-03 11:18:39,963] Trial 6 finished with value: 4.507622990544637 and parameters: {'n_layers': 3, 'n_units_0': 2482, 'n_units_1': 18, 'n_units_2': 1665, 'hidden_activation': 'LeakyReLU', 'output_activation': 'Linear', 'loss': 'Huber', 'optimizer': 'Adam', 'lr': 0.0014058166682214288, 'batch_size': 2048, 'n_epochs': 103, 'scheduler': 'ReduceLROnPlateau', 'leakyrelu_slope': 0.25607986895225276, 'dropout_rate': 0.30904317328909986, 'weight_decay': 0.0004084660548947025, 'beta1': 0.9885745192872044, 'beta2': 0.9992258717128459, 'factor': 0.12052376790134747, 'patience': 10, 'threshold': 0.0004533014174841959}. Best is trial 2 with value: 2.659428728802999.\n"
          ]
        },
        {
          "output_type": "stream",
          "name": "stdout",
          "text": [
            "Epoch 103/103.. Train loss: 3.553.. Val loss: 3.383.. Train L1 norm: 5.490.. Val L1 norm: 4.508.. Train Linf norm: 4117.671.. Val Linf norm: 2767.187\n"
          ]
        },
        {
          "output_type": "display_data",
          "data": {
            "text/html": [
              "<html>\n",
              "<head><meta charset=\"utf-8\" /></head>\n",
              "<body>\n",
              "    <div>            <script src=\"https://cdnjs.cloudflare.com/ajax/libs/mathjax/2.7.5/MathJax.js?config=TeX-AMS-MML_SVG\"></script><script type=\"text/javascript\">if (window.MathJax && window.MathJax.Hub && window.MathJax.Hub.Config) {window.MathJax.Hub.Config({SVG: {font: \"STIX-Web\"}});}</script>                <script type=\"text/javascript\">window.PlotlyConfig = {MathJaxConfig: 'local'};</script>\n",
              "        <script src=\"https://cdn.plot.ly/plotly-2.18.2.min.js\"></script>                <div id=\"627453e1-5180-4c77-9338-bc2d6d430f88\" class=\"plotly-graph-div\" style=\"height:525px; width:100%;\"></div>            <script type=\"text/javascript\">                                    window.PLOTLYENV=window.PLOTLYENV || {};                                    if (document.getElementById(\"627453e1-5180-4c77-9338-bc2d6d430f88\")) {                    Plotly.newPlot(                        \"627453e1-5180-4c77-9338-bc2d6d430f88\",                        [{\"mode\":\"markers\",\"name\":\"Objective Value\",\"x\":[0,2,4,5,6],\"y\":[4.711850512695312,2.659428728802999,4.761943043263753,6.782888791402181,4.507622990544637],\"type\":\"scatter\"},{\"name\":\"Best Value\",\"x\":[0,2,4,5,6],\"y\":[4.711850512695312,2.659428728802999,2.659428728802999,2.659428728802999,2.659428728802999],\"type\":\"scatter\"}],                        {\"title\":{\"text\":\"Optimization History Plot\"},\"xaxis\":{\"title\":{\"text\":\"Trial\"}},\"yaxis\":{\"title\":{\"text\":\"Objective Value\"}},\"template\":{\"data\":{\"histogram2dcontour\":[{\"type\":\"histogram2dcontour\",\"colorbar\":{\"outlinewidth\":0,\"ticks\":\"\"},\"colorscale\":[[0.0,\"#0d0887\"],[0.1111111111111111,\"#46039f\"],[0.2222222222222222,\"#7201a8\"],[0.3333333333333333,\"#9c179e\"],[0.4444444444444444,\"#bd3786\"],[0.5555555555555556,\"#d8576b\"],[0.6666666666666666,\"#ed7953\"],[0.7777777777777778,\"#fb9f3a\"],[0.8888888888888888,\"#fdca26\"],[1.0,\"#f0f921\"]]}],\"choropleth\":[{\"type\":\"choropleth\",\"colorbar\":{\"outlinewidth\":0,\"ticks\":\"\"}}],\"histogram2d\":[{\"type\":\"histogram2d\",\"colorbar\":{\"outlinewidth\":0,\"ticks\":\"\"},\"colorscale\":[[0.0,\"#0d0887\"],[0.1111111111111111,\"#46039f\"],[0.2222222222222222,\"#7201a8\"],[0.3333333333333333,\"#9c179e\"],[0.4444444444444444,\"#bd3786\"],[0.5555555555555556,\"#d8576b\"],[0.6666666666666666,\"#ed7953\"],[0.7777777777777778,\"#fb9f3a\"],[0.8888888888888888,\"#fdca26\"],[1.0,\"#f0f921\"]]}],\"heatmap\":[{\"type\":\"heatmap\",\"colorbar\":{\"outlinewidth\":0,\"ticks\":\"\"},\"colorscale\":[[0.0,\"#0d0887\"],[0.1111111111111111,\"#46039f\"],[0.2222222222222222,\"#7201a8\"],[0.3333333333333333,\"#9c179e\"],[0.4444444444444444,\"#bd3786\"],[0.5555555555555556,\"#d8576b\"],[0.6666666666666666,\"#ed7953\"],[0.7777777777777778,\"#fb9f3a\"],[0.8888888888888888,\"#fdca26\"],[1.0,\"#f0f921\"]]}],\"heatmapgl\":[{\"type\":\"heatmapgl\",\"colorbar\":{\"outlinewidth\":0,\"ticks\":\"\"},\"colorscale\":[[0.0,\"#0d0887\"],[0.1111111111111111,\"#46039f\"],[0.2222222222222222,\"#7201a8\"],[0.3333333333333333,\"#9c179e\"],[0.4444444444444444,\"#bd3786\"],[0.5555555555555556,\"#d8576b\"],[0.6666666666666666,\"#ed7953\"],[0.7777777777777778,\"#fb9f3a\"],[0.8888888888888888,\"#fdca26\"],[1.0,\"#f0f921\"]]}],\"contourcarpet\":[{\"type\":\"contourcarpet\",\"colorbar\":{\"outlinewidth\":0,\"ticks\":\"\"}}],\"contour\":[{\"type\":\"contour\",\"colorbar\":{\"outlinewidth\":0,\"ticks\":\"\"},\"colorscale\":[[0.0,\"#0d0887\"],[0.1111111111111111,\"#46039f\"],[0.2222222222222222,\"#7201a8\"],[0.3333333333333333,\"#9c179e\"],[0.4444444444444444,\"#bd3786\"],[0.5555555555555556,\"#d8576b\"],[0.6666666666666666,\"#ed7953\"],[0.7777777777777778,\"#fb9f3a\"],[0.8888888888888888,\"#fdca26\"],[1.0,\"#f0f921\"]]}],\"surface\":[{\"type\":\"surface\",\"colorbar\":{\"outlinewidth\":0,\"ticks\":\"\"},\"colorscale\":[[0.0,\"#0d0887\"],[0.1111111111111111,\"#46039f\"],[0.2222222222222222,\"#7201a8\"],[0.3333333333333333,\"#9c179e\"],[0.4444444444444444,\"#bd3786\"],[0.5555555555555556,\"#d8576b\"],[0.6666666666666666,\"#ed7953\"],[0.7777777777777778,\"#fb9f3a\"],[0.8888888888888888,\"#fdca26\"],[1.0,\"#f0f921\"]]}],\"mesh3d\":[{\"type\":\"mesh3d\",\"colorbar\":{\"outlinewidth\":0,\"ticks\":\"\"}}],\"scatter\":[{\"fillpattern\":{\"fillmode\":\"overlay\",\"size\":10,\"solidity\":0.2},\"type\":\"scatter\"}],\"parcoords\":[{\"type\":\"parcoords\",\"line\":{\"colorbar\":{\"outlinewidth\":0,\"ticks\":\"\"}}}],\"scatterpolargl\":[{\"type\":\"scatterpolargl\",\"marker\":{\"colorbar\":{\"outlinewidth\":0,\"ticks\":\"\"}}}],\"bar\":[{\"error_x\":{\"color\":\"#2a3f5f\"},\"error_y\":{\"color\":\"#2a3f5f\"},\"marker\":{\"line\":{\"color\":\"#E5ECF6\",\"width\":0.5},\"pattern\":{\"fillmode\":\"overlay\",\"size\":10,\"solidity\":0.2}},\"type\":\"bar\"}],\"scattergeo\":[{\"type\":\"scattergeo\",\"marker\":{\"colorbar\":{\"outlinewidth\":0,\"ticks\":\"\"}}}],\"scatterpolar\":[{\"type\":\"scatterpolar\",\"marker\":{\"colorbar\":{\"outlinewidth\":0,\"ticks\":\"\"}}}],\"histogram\":[{\"marker\":{\"pattern\":{\"fillmode\":\"overlay\",\"size\":10,\"solidity\":0.2}},\"type\":\"histogram\"}],\"scattergl\":[{\"type\":\"scattergl\",\"marker\":{\"colorbar\":{\"outlinewidth\":0,\"ticks\":\"\"}}}],\"scatter3d\":[{\"type\":\"scatter3d\",\"line\":{\"colorbar\":{\"outlinewidth\":0,\"ticks\":\"\"}},\"marker\":{\"colorbar\":{\"outlinewidth\":0,\"ticks\":\"\"}}}],\"scattermapbox\":[{\"type\":\"scattermapbox\",\"marker\":{\"colorbar\":{\"outlinewidth\":0,\"ticks\":\"\"}}}],\"scatterternary\":[{\"type\":\"scatterternary\",\"marker\":{\"colorbar\":{\"outlinewidth\":0,\"ticks\":\"\"}}}],\"scattercarpet\":[{\"type\":\"scattercarpet\",\"marker\":{\"colorbar\":{\"outlinewidth\":0,\"ticks\":\"\"}}}],\"carpet\":[{\"aaxis\":{\"endlinecolor\":\"#2a3f5f\",\"gridcolor\":\"white\",\"linecolor\":\"white\",\"minorgridcolor\":\"white\",\"startlinecolor\":\"#2a3f5f\"},\"baxis\":{\"endlinecolor\":\"#2a3f5f\",\"gridcolor\":\"white\",\"linecolor\":\"white\",\"minorgridcolor\":\"white\",\"startlinecolor\":\"#2a3f5f\"},\"type\":\"carpet\"}],\"table\":[{\"cells\":{\"fill\":{\"color\":\"#EBF0F8\"},\"line\":{\"color\":\"white\"}},\"header\":{\"fill\":{\"color\":\"#C8D4E3\"},\"line\":{\"color\":\"white\"}},\"type\":\"table\"}],\"barpolar\":[{\"marker\":{\"line\":{\"color\":\"#E5ECF6\",\"width\":0.5},\"pattern\":{\"fillmode\":\"overlay\",\"size\":10,\"solidity\":0.2}},\"type\":\"barpolar\"}],\"pie\":[{\"automargin\":true,\"type\":\"pie\"}]},\"layout\":{\"autotypenumbers\":\"strict\",\"colorway\":[\"#636efa\",\"#EF553B\",\"#00cc96\",\"#ab63fa\",\"#FFA15A\",\"#19d3f3\",\"#FF6692\",\"#B6E880\",\"#FF97FF\",\"#FECB52\"],\"font\":{\"color\":\"#2a3f5f\"},\"hovermode\":\"closest\",\"hoverlabel\":{\"align\":\"left\"},\"paper_bgcolor\":\"white\",\"plot_bgcolor\":\"#E5ECF6\",\"polar\":{\"bgcolor\":\"#E5ECF6\",\"angularaxis\":{\"gridcolor\":\"white\",\"linecolor\":\"white\",\"ticks\":\"\"},\"radialaxis\":{\"gridcolor\":\"white\",\"linecolor\":\"white\",\"ticks\":\"\"}},\"ternary\":{\"bgcolor\":\"#E5ECF6\",\"aaxis\":{\"gridcolor\":\"white\",\"linecolor\":\"white\",\"ticks\":\"\"},\"baxis\":{\"gridcolor\":\"white\",\"linecolor\":\"white\",\"ticks\":\"\"},\"caxis\":{\"gridcolor\":\"white\",\"linecolor\":\"white\",\"ticks\":\"\"}},\"coloraxis\":{\"colorbar\":{\"outlinewidth\":0,\"ticks\":\"\"}},\"colorscale\":{\"sequential\":[[0.0,\"#0d0887\"],[0.1111111111111111,\"#46039f\"],[0.2222222222222222,\"#7201a8\"],[0.3333333333333333,\"#9c179e\"],[0.4444444444444444,\"#bd3786\"],[0.5555555555555556,\"#d8576b\"],[0.6666666666666666,\"#ed7953\"],[0.7777777777777778,\"#fb9f3a\"],[0.8888888888888888,\"#fdca26\"],[1.0,\"#f0f921\"]],\"sequentialminus\":[[0.0,\"#0d0887\"],[0.1111111111111111,\"#46039f\"],[0.2222222222222222,\"#7201a8\"],[0.3333333333333333,\"#9c179e\"],[0.4444444444444444,\"#bd3786\"],[0.5555555555555556,\"#d8576b\"],[0.6666666666666666,\"#ed7953\"],[0.7777777777777778,\"#fb9f3a\"],[0.8888888888888888,\"#fdca26\"],[1.0,\"#f0f921\"]],\"diverging\":[[0,\"#8e0152\"],[0.1,\"#c51b7d\"],[0.2,\"#de77ae\"],[0.3,\"#f1b6da\"],[0.4,\"#fde0ef\"],[0.5,\"#f7f7f7\"],[0.6,\"#e6f5d0\"],[0.7,\"#b8e186\"],[0.8,\"#7fbc41\"],[0.9,\"#4d9221\"],[1,\"#276419\"]]},\"xaxis\":{\"gridcolor\":\"white\",\"linecolor\":\"white\",\"ticks\":\"\",\"title\":{\"standoff\":15},\"zerolinecolor\":\"white\",\"automargin\":true,\"zerolinewidth\":2},\"yaxis\":{\"gridcolor\":\"white\",\"linecolor\":\"white\",\"ticks\":\"\",\"title\":{\"standoff\":15},\"zerolinecolor\":\"white\",\"automargin\":true,\"zerolinewidth\":2},\"scene\":{\"xaxis\":{\"backgroundcolor\":\"#E5ECF6\",\"gridcolor\":\"white\",\"linecolor\":\"white\",\"showbackground\":true,\"ticks\":\"\",\"zerolinecolor\":\"white\",\"gridwidth\":2},\"yaxis\":{\"backgroundcolor\":\"#E5ECF6\",\"gridcolor\":\"white\",\"linecolor\":\"white\",\"showbackground\":true,\"ticks\":\"\",\"zerolinecolor\":\"white\",\"gridwidth\":2},\"zaxis\":{\"backgroundcolor\":\"#E5ECF6\",\"gridcolor\":\"white\",\"linecolor\":\"white\",\"showbackground\":true,\"ticks\":\"\",\"zerolinecolor\":\"white\",\"gridwidth\":2}},\"shapedefaults\":{\"line\":{\"color\":\"#2a3f5f\"}},\"annotationdefaults\":{\"arrowcolor\":\"#2a3f5f\",\"arrowhead\":0,\"arrowwidth\":1},\"geo\":{\"bgcolor\":\"white\",\"landcolor\":\"#E5ECF6\",\"subunitcolor\":\"white\",\"showland\":true,\"showlakes\":true,\"lakecolor\":\"white\"},\"title\":{\"x\":0.05},\"mapbox\":{\"style\":\"light\"}}}},                        {\"responsive\": true}                    ).then(function(){\n",
              "                            \n",
              "var gd = document.getElementById('627453e1-5180-4c77-9338-bc2d6d430f88');\n",
              "var x = new MutationObserver(function (mutations, observer) {{\n",
              "        var display = window.getComputedStyle(gd).display;\n",
              "        if (!display || display === 'none') {{\n",
              "            console.log([gd, 'removed!']);\n",
              "            Plotly.purge(gd);\n",
              "            observer.disconnect();\n",
              "        }}\n",
              "}});\n",
              "\n",
              "// Listen for the removal of the full notebook cells\n",
              "var notebookContainer = gd.closest('#notebook-container');\n",
              "if (notebookContainer) {{\n",
              "    x.observe(notebookContainer, {childList: true});\n",
              "}}\n",
              "\n",
              "// Listen for the clearing of the current output cell\n",
              "var outputEl = gd.closest('.output');\n",
              "if (outputEl) {{\n",
              "    x.observe(outputEl, {childList: true});\n",
              "}}\n",
              "\n",
              "                        })                };                            </script>        </div>\n",
              "</body>\n",
              "</html>"
            ]
          },
          "metadata": {}
        },
        {
          "output_type": "stream",
          "name": "stderr",
          "text": [
            "[W 2023-06-03 11:18:40,473] Your study has only completed trials with missing parameters.\n",
            "<ipython-input-119-ca043aa389dc>:44: FutureWarning:\n",
            "\n",
            "suggest_loguniform has been deprecated in v3.0.0. This feature will be removed in v6.0.0. See https://github.com/optuna/optuna/releases/tag/v3.0.0. Use suggest_float(..., log=True) instead.\n",
            "\n",
            "<ipython-input-119-ca043aa389dc>:76: FutureWarning:\n",
            "\n",
            "suggest_uniform has been deprecated in v3.0.0. This feature will be removed in v6.0.0. See https://github.com/optuna/optuna/releases/tag/v3.0.0. Use suggest_float instead.\n",
            "\n",
            "<ipython-input-119-ca043aa389dc>:145: FutureWarning:\n",
            "\n",
            "suggest_loguniform has been deprecated in v3.0.0. This feature will be removed in v6.0.0. See https://github.com/optuna/optuna/releases/tag/v3.0.0. Use suggest_float(..., log=True) instead.\n",
            "\n",
            "<ipython-input-119-ca043aa389dc>:146: FutureWarning:\n",
            "\n",
            "suggest_uniform has been deprecated in v3.0.0. This feature will be removed in v6.0.0. See https://github.com/optuna/optuna/releases/tag/v3.0.0. Use suggest_float instead.\n",
            "\n",
            "<ipython-input-119-ca043aa389dc>:178: FutureWarning:\n",
            "\n",
            "suggest_uniform has been deprecated in v3.0.0. This feature will be removed in v6.0.0. See https://github.com/optuna/optuna/releases/tag/v3.0.0. Use suggest_float instead.\n",
            "\n",
            "<ipython-input-119-ca043aa389dc>:180: FutureWarning:\n",
            "\n",
            "suggest_loguniform has been deprecated in v3.0.0. This feature will be removed in v6.0.0. See https://github.com/optuna/optuna/releases/tag/v3.0.0. Use suggest_float(..., log=True) instead.\n",
            "\n",
            "[I 2023-06-03 11:18:43,136] Trial 7 pruned. \n"
          ]
        },
        {
          "output_type": "stream",
          "name": "stdout",
          "text": [
            "Epoch 1/98.. Train loss: 6.720.. Val loss: 2.975.. Train L1 norm: 21.893.. Val L1 norm: 12.597.. Train Linf norm: 3795.765.. Val Linf norm: 1638.561\n"
          ]
        },
        {
          "output_type": "display_data",
          "data": {
            "text/html": [
              "<html>\n",
              "<head><meta charset=\"utf-8\" /></head>\n",
              "<body>\n",
              "    <div>            <script src=\"https://cdnjs.cloudflare.com/ajax/libs/mathjax/2.7.5/MathJax.js?config=TeX-AMS-MML_SVG\"></script><script type=\"text/javascript\">if (window.MathJax && window.MathJax.Hub && window.MathJax.Hub.Config) {window.MathJax.Hub.Config({SVG: {font: \"STIX-Web\"}});}</script>                <script type=\"text/javascript\">window.PlotlyConfig = {MathJaxConfig: 'local'};</script>\n",
              "        <script src=\"https://cdn.plot.ly/plotly-2.18.2.min.js\"></script>                <div id=\"b7a6bbaf-7add-4a9d-afcd-1feef4d1dd54\" class=\"plotly-graph-div\" style=\"height:525px; width:100%;\"></div>            <script type=\"text/javascript\">                                    window.PLOTLYENV=window.PLOTLYENV || {};                                    if (document.getElementById(\"b7a6bbaf-7add-4a9d-afcd-1feef4d1dd54\")) {                    Plotly.newPlot(                        \"b7a6bbaf-7add-4a9d-afcd-1feef4d1dd54\",                        [{\"mode\":\"markers\",\"name\":\"Objective Value\",\"x\":[0,2,4,5,6],\"y\":[4.711850512695312,2.659428728802999,4.761943043263753,6.782888791402181,4.507622990544637],\"type\":\"scatter\"},{\"name\":\"Best Value\",\"x\":[0,2,4,5,6],\"y\":[4.711850512695312,2.659428728802999,2.659428728802999,2.659428728802999,2.659428728802999],\"type\":\"scatter\"}],                        {\"title\":{\"text\":\"Optimization History Plot\"},\"xaxis\":{\"title\":{\"text\":\"Trial\"}},\"yaxis\":{\"title\":{\"text\":\"Objective Value\"}},\"template\":{\"data\":{\"histogram2dcontour\":[{\"type\":\"histogram2dcontour\",\"colorbar\":{\"outlinewidth\":0,\"ticks\":\"\"},\"colorscale\":[[0.0,\"#0d0887\"],[0.1111111111111111,\"#46039f\"],[0.2222222222222222,\"#7201a8\"],[0.3333333333333333,\"#9c179e\"],[0.4444444444444444,\"#bd3786\"],[0.5555555555555556,\"#d8576b\"],[0.6666666666666666,\"#ed7953\"],[0.7777777777777778,\"#fb9f3a\"],[0.8888888888888888,\"#fdca26\"],[1.0,\"#f0f921\"]]}],\"choropleth\":[{\"type\":\"choropleth\",\"colorbar\":{\"outlinewidth\":0,\"ticks\":\"\"}}],\"histogram2d\":[{\"type\":\"histogram2d\",\"colorbar\":{\"outlinewidth\":0,\"ticks\":\"\"},\"colorscale\":[[0.0,\"#0d0887\"],[0.1111111111111111,\"#46039f\"],[0.2222222222222222,\"#7201a8\"],[0.3333333333333333,\"#9c179e\"],[0.4444444444444444,\"#bd3786\"],[0.5555555555555556,\"#d8576b\"],[0.6666666666666666,\"#ed7953\"],[0.7777777777777778,\"#fb9f3a\"],[0.8888888888888888,\"#fdca26\"],[1.0,\"#f0f921\"]]}],\"heatmap\":[{\"type\":\"heatmap\",\"colorbar\":{\"outlinewidth\":0,\"ticks\":\"\"},\"colorscale\":[[0.0,\"#0d0887\"],[0.1111111111111111,\"#46039f\"],[0.2222222222222222,\"#7201a8\"],[0.3333333333333333,\"#9c179e\"],[0.4444444444444444,\"#bd3786\"],[0.5555555555555556,\"#d8576b\"],[0.6666666666666666,\"#ed7953\"],[0.7777777777777778,\"#fb9f3a\"],[0.8888888888888888,\"#fdca26\"],[1.0,\"#f0f921\"]]}],\"heatmapgl\":[{\"type\":\"heatmapgl\",\"colorbar\":{\"outlinewidth\":0,\"ticks\":\"\"},\"colorscale\":[[0.0,\"#0d0887\"],[0.1111111111111111,\"#46039f\"],[0.2222222222222222,\"#7201a8\"],[0.3333333333333333,\"#9c179e\"],[0.4444444444444444,\"#bd3786\"],[0.5555555555555556,\"#d8576b\"],[0.6666666666666666,\"#ed7953\"],[0.7777777777777778,\"#fb9f3a\"],[0.8888888888888888,\"#fdca26\"],[1.0,\"#f0f921\"]]}],\"contourcarpet\":[{\"type\":\"contourcarpet\",\"colorbar\":{\"outlinewidth\":0,\"ticks\":\"\"}}],\"contour\":[{\"type\":\"contour\",\"colorbar\":{\"outlinewidth\":0,\"ticks\":\"\"},\"colorscale\":[[0.0,\"#0d0887\"],[0.1111111111111111,\"#46039f\"],[0.2222222222222222,\"#7201a8\"],[0.3333333333333333,\"#9c179e\"],[0.4444444444444444,\"#bd3786\"],[0.5555555555555556,\"#d8576b\"],[0.6666666666666666,\"#ed7953\"],[0.7777777777777778,\"#fb9f3a\"],[0.8888888888888888,\"#fdca26\"],[1.0,\"#f0f921\"]]}],\"surface\":[{\"type\":\"surface\",\"colorbar\":{\"outlinewidth\":0,\"ticks\":\"\"},\"colorscale\":[[0.0,\"#0d0887\"],[0.1111111111111111,\"#46039f\"],[0.2222222222222222,\"#7201a8\"],[0.3333333333333333,\"#9c179e\"],[0.4444444444444444,\"#bd3786\"],[0.5555555555555556,\"#d8576b\"],[0.6666666666666666,\"#ed7953\"],[0.7777777777777778,\"#fb9f3a\"],[0.8888888888888888,\"#fdca26\"],[1.0,\"#f0f921\"]]}],\"mesh3d\":[{\"type\":\"mesh3d\",\"colorbar\":{\"outlinewidth\":0,\"ticks\":\"\"}}],\"scatter\":[{\"fillpattern\":{\"fillmode\":\"overlay\",\"size\":10,\"solidity\":0.2},\"type\":\"scatter\"}],\"parcoords\":[{\"type\":\"parcoords\",\"line\":{\"colorbar\":{\"outlinewidth\":0,\"ticks\":\"\"}}}],\"scatterpolargl\":[{\"type\":\"scatterpolargl\",\"marker\":{\"colorbar\":{\"outlinewidth\":0,\"ticks\":\"\"}}}],\"bar\":[{\"error_x\":{\"color\":\"#2a3f5f\"},\"error_y\":{\"color\":\"#2a3f5f\"},\"marker\":{\"line\":{\"color\":\"#E5ECF6\",\"width\":0.5},\"pattern\":{\"fillmode\":\"overlay\",\"size\":10,\"solidity\":0.2}},\"type\":\"bar\"}],\"scattergeo\":[{\"type\":\"scattergeo\",\"marker\":{\"colorbar\":{\"outlinewidth\":0,\"ticks\":\"\"}}}],\"scatterpolar\":[{\"type\":\"scatterpolar\",\"marker\":{\"colorbar\":{\"outlinewidth\":0,\"ticks\":\"\"}}}],\"histogram\":[{\"marker\":{\"pattern\":{\"fillmode\":\"overlay\",\"size\":10,\"solidity\":0.2}},\"type\":\"histogram\"}],\"scattergl\":[{\"type\":\"scattergl\",\"marker\":{\"colorbar\":{\"outlinewidth\":0,\"ticks\":\"\"}}}],\"scatter3d\":[{\"type\":\"scatter3d\",\"line\":{\"colorbar\":{\"outlinewidth\":0,\"ticks\":\"\"}},\"marker\":{\"colorbar\":{\"outlinewidth\":0,\"ticks\":\"\"}}}],\"scattermapbox\":[{\"type\":\"scattermapbox\",\"marker\":{\"colorbar\":{\"outlinewidth\":0,\"ticks\":\"\"}}}],\"scatterternary\":[{\"type\":\"scatterternary\",\"marker\":{\"colorbar\":{\"outlinewidth\":0,\"ticks\":\"\"}}}],\"scattercarpet\":[{\"type\":\"scattercarpet\",\"marker\":{\"colorbar\":{\"outlinewidth\":0,\"ticks\":\"\"}}}],\"carpet\":[{\"aaxis\":{\"endlinecolor\":\"#2a3f5f\",\"gridcolor\":\"white\",\"linecolor\":\"white\",\"minorgridcolor\":\"white\",\"startlinecolor\":\"#2a3f5f\"},\"baxis\":{\"endlinecolor\":\"#2a3f5f\",\"gridcolor\":\"white\",\"linecolor\":\"white\",\"minorgridcolor\":\"white\",\"startlinecolor\":\"#2a3f5f\"},\"type\":\"carpet\"}],\"table\":[{\"cells\":{\"fill\":{\"color\":\"#EBF0F8\"},\"line\":{\"color\":\"white\"}},\"header\":{\"fill\":{\"color\":\"#C8D4E3\"},\"line\":{\"color\":\"white\"}},\"type\":\"table\"}],\"barpolar\":[{\"marker\":{\"line\":{\"color\":\"#E5ECF6\",\"width\":0.5},\"pattern\":{\"fillmode\":\"overlay\",\"size\":10,\"solidity\":0.2}},\"type\":\"barpolar\"}],\"pie\":[{\"automargin\":true,\"type\":\"pie\"}]},\"layout\":{\"autotypenumbers\":\"strict\",\"colorway\":[\"#636efa\",\"#EF553B\",\"#00cc96\",\"#ab63fa\",\"#FFA15A\",\"#19d3f3\",\"#FF6692\",\"#B6E880\",\"#FF97FF\",\"#FECB52\"],\"font\":{\"color\":\"#2a3f5f\"},\"hovermode\":\"closest\",\"hoverlabel\":{\"align\":\"left\"},\"paper_bgcolor\":\"white\",\"plot_bgcolor\":\"#E5ECF6\",\"polar\":{\"bgcolor\":\"#E5ECF6\",\"angularaxis\":{\"gridcolor\":\"white\",\"linecolor\":\"white\",\"ticks\":\"\"},\"radialaxis\":{\"gridcolor\":\"white\",\"linecolor\":\"white\",\"ticks\":\"\"}},\"ternary\":{\"bgcolor\":\"#E5ECF6\",\"aaxis\":{\"gridcolor\":\"white\",\"linecolor\":\"white\",\"ticks\":\"\"},\"baxis\":{\"gridcolor\":\"white\",\"linecolor\":\"white\",\"ticks\":\"\"},\"caxis\":{\"gridcolor\":\"white\",\"linecolor\":\"white\",\"ticks\":\"\"}},\"coloraxis\":{\"colorbar\":{\"outlinewidth\":0,\"ticks\":\"\"}},\"colorscale\":{\"sequential\":[[0.0,\"#0d0887\"],[0.1111111111111111,\"#46039f\"],[0.2222222222222222,\"#7201a8\"],[0.3333333333333333,\"#9c179e\"],[0.4444444444444444,\"#bd3786\"],[0.5555555555555556,\"#d8576b\"],[0.6666666666666666,\"#ed7953\"],[0.7777777777777778,\"#fb9f3a\"],[0.8888888888888888,\"#fdca26\"],[1.0,\"#f0f921\"]],\"sequentialminus\":[[0.0,\"#0d0887\"],[0.1111111111111111,\"#46039f\"],[0.2222222222222222,\"#7201a8\"],[0.3333333333333333,\"#9c179e\"],[0.4444444444444444,\"#bd3786\"],[0.5555555555555556,\"#d8576b\"],[0.6666666666666666,\"#ed7953\"],[0.7777777777777778,\"#fb9f3a\"],[0.8888888888888888,\"#fdca26\"],[1.0,\"#f0f921\"]],\"diverging\":[[0,\"#8e0152\"],[0.1,\"#c51b7d\"],[0.2,\"#de77ae\"],[0.3,\"#f1b6da\"],[0.4,\"#fde0ef\"],[0.5,\"#f7f7f7\"],[0.6,\"#e6f5d0\"],[0.7,\"#b8e186\"],[0.8,\"#7fbc41\"],[0.9,\"#4d9221\"],[1,\"#276419\"]]},\"xaxis\":{\"gridcolor\":\"white\",\"linecolor\":\"white\",\"ticks\":\"\",\"title\":{\"standoff\":15},\"zerolinecolor\":\"white\",\"automargin\":true,\"zerolinewidth\":2},\"yaxis\":{\"gridcolor\":\"white\",\"linecolor\":\"white\",\"ticks\":\"\",\"title\":{\"standoff\":15},\"zerolinecolor\":\"white\",\"automargin\":true,\"zerolinewidth\":2},\"scene\":{\"xaxis\":{\"backgroundcolor\":\"#E5ECF6\",\"gridcolor\":\"white\",\"linecolor\":\"white\",\"showbackground\":true,\"ticks\":\"\",\"zerolinecolor\":\"white\",\"gridwidth\":2},\"yaxis\":{\"backgroundcolor\":\"#E5ECF6\",\"gridcolor\":\"white\",\"linecolor\":\"white\",\"showbackground\":true,\"ticks\":\"\",\"zerolinecolor\":\"white\",\"gridwidth\":2},\"zaxis\":{\"backgroundcolor\":\"#E5ECF6\",\"gridcolor\":\"white\",\"linecolor\":\"white\",\"showbackground\":true,\"ticks\":\"\",\"zerolinecolor\":\"white\",\"gridwidth\":2}},\"shapedefaults\":{\"line\":{\"color\":\"#2a3f5f\"}},\"annotationdefaults\":{\"arrowcolor\":\"#2a3f5f\",\"arrowhead\":0,\"arrowwidth\":1},\"geo\":{\"bgcolor\":\"white\",\"landcolor\":\"#E5ECF6\",\"subunitcolor\":\"white\",\"showland\":true,\"showlakes\":true,\"lakecolor\":\"white\"},\"title\":{\"x\":0.05},\"mapbox\":{\"style\":\"light\"}}}},                        {\"responsive\": true}                    ).then(function(){\n",
              "                            \n",
              "var gd = document.getElementById('b7a6bbaf-7add-4a9d-afcd-1feef4d1dd54');\n",
              "var x = new MutationObserver(function (mutations, observer) {{\n",
              "        var display = window.getComputedStyle(gd).display;\n",
              "        if (!display || display === 'none') {{\n",
              "            console.log([gd, 'removed!']);\n",
              "            Plotly.purge(gd);\n",
              "            observer.disconnect();\n",
              "        }}\n",
              "}});\n",
              "\n",
              "// Listen for the removal of the full notebook cells\n",
              "var notebookContainer = gd.closest('#notebook-container');\n",
              "if (notebookContainer) {{\n",
              "    x.observe(notebookContainer, {childList: true});\n",
              "}}\n",
              "\n",
              "// Listen for the clearing of the current output cell\n",
              "var outputEl = gd.closest('.output');\n",
              "if (outputEl) {{\n",
              "    x.observe(outputEl, {childList: true});\n",
              "}}\n",
              "\n",
              "                        })                };                            </script>        </div>\n",
              "</body>\n",
              "</html>"
            ]
          },
          "metadata": {}
        },
        {
          "output_type": "stream",
          "name": "stderr",
          "text": [
            "[W 2023-06-03 11:18:44,002] Your study has only completed trials with missing parameters.\n",
            "<ipython-input-119-ca043aa389dc>:44: FutureWarning:\n",
            "\n",
            "suggest_loguniform has been deprecated in v3.0.0. This feature will be removed in v6.0.0. See https://github.com/optuna/optuna/releases/tag/v3.0.0. Use suggest_float(..., log=True) instead.\n",
            "\n",
            "<ipython-input-119-ca043aa389dc>:58: FutureWarning:\n",
            "\n",
            "suggest_uniform has been deprecated in v3.0.0. This feature will be removed in v6.0.0. See https://github.com/optuna/optuna/releases/tag/v3.0.0. Use suggest_float instead.\n",
            "\n",
            "<ipython-input-119-ca043aa389dc>:76: FutureWarning:\n",
            "\n",
            "suggest_uniform has been deprecated in v3.0.0. This feature will be removed in v6.0.0. See https://github.com/optuna/optuna/releases/tag/v3.0.0. Use suggest_float instead.\n",
            "\n",
            "<ipython-input-119-ca043aa389dc>:145: FutureWarning:\n",
            "\n",
            "suggest_loguniform has been deprecated in v3.0.0. This feature will be removed in v6.0.0. See https://github.com/optuna/optuna/releases/tag/v3.0.0. Use suggest_float(..., log=True) instead.\n",
            "\n",
            "<ipython-input-119-ca043aa389dc>:146: FutureWarning:\n",
            "\n",
            "suggest_uniform has been deprecated in v3.0.0. This feature will be removed in v6.0.0. See https://github.com/optuna/optuna/releases/tag/v3.0.0. Use suggest_float instead.\n",
            "\n",
            "<ipython-input-119-ca043aa389dc>:178: FutureWarning:\n",
            "\n",
            "suggest_uniform has been deprecated in v3.0.0. This feature will be removed in v6.0.0. See https://github.com/optuna/optuna/releases/tag/v3.0.0. Use suggest_float instead.\n",
            "\n",
            "<ipython-input-119-ca043aa389dc>:180: FutureWarning:\n",
            "\n",
            "suggest_loguniform has been deprecated in v3.0.0. This feature will be removed in v6.0.0. See https://github.com/optuna/optuna/releases/tag/v3.0.0. Use suggest_float(..., log=True) instead.\n",
            "\n"
          ]
        },
        {
          "output_type": "stream",
          "name": "stdout",
          "text": [
            "Epoch 1/90.. Train loss: 4.535.. Val loss: 4.114.. Train L1 norm: 2.953.. Val L1 norm: 2.117.. Train Linf norm: 171.476.. Val Linf norm: 111.600\n",
            "Epoch 2/90.. Train loss: 4.224.. Val loss: 4.128.. Train L1 norm: 3.339.. Val L1 norm: 2.368.. Train Linf norm: 226.546.. Val Linf norm: 133.442\n",
            "Epoch 3/90.. Train loss: 4.024.. Val loss: 3.930.. Train L1 norm: 3.570.. Val L1 norm: 3.194.. Train Linf norm: 240.952.. Val Linf norm: 202.799\n",
            "Epoch 4/90.. Train loss: 3.911.. Val loss: 3.781.. Train L1 norm: 4.277.. Val L1 norm: 4.617.. Train Linf norm: 308.092.. Val Linf norm: 314.404\n",
            "Epoch 5/90.. Train loss: 3.885.. Val loss: 3.780.. Train L1 norm: 4.681.. Val L1 norm: 4.221.. Train Linf norm: 340.314.. Val Linf norm: 287.262\n",
            "Epoch 6/90.. Train loss: 3.829.. Val loss: 3.759.. Train L1 norm: 5.069.. Val L1 norm: 4.319.. Train Linf norm: 375.355.. Val Linf norm: 297.324\n",
            "Epoch 7/90.. Train loss: 3.773.. Val loss: 3.737.. Train L1 norm: 5.555.. Val L1 norm: 4.385.. Train Linf norm: 419.581.. Val Linf norm: 304.873\n",
            "Epoch 8/90.. Train loss: 3.782.. Val loss: 3.723.. Train L1 norm: 5.504.. Val L1 norm: 4.469.. Train Linf norm: 416.697.. Val Linf norm: 308.498\n",
            "Epoch 9/90.. Train loss: 3.722.. Val loss: 3.689.. Train L1 norm: 5.449.. Val L1 norm: 4.504.. Train Linf norm: 407.118.. Val Linf norm: 323.926\n",
            "Epoch 10/90.. Train loss: 3.702.. Val loss: 3.615.. Train L1 norm: 5.584.. Val L1 norm: 4.863.. Train Linf norm: 427.717.. Val Linf norm: 347.080\n",
            "Epoch 11/90.. Train loss: 3.630.. Val loss: 3.622.. Train L1 norm: 5.584.. Val L1 norm: 5.060.. Train Linf norm: 427.591.. Val Linf norm: 362.254\n",
            "Epoch 12/90.. Train loss: 3.674.. Val loss: 3.678.. Train L1 norm: 5.913.. Val L1 norm: 5.107.. Train Linf norm: 459.528.. Val Linf norm: 362.571\n",
            "Epoch 13/90.. Train loss: 3.624.. Val loss: 3.601.. Train L1 norm: 5.994.. Val L1 norm: 5.328.. Train Linf norm: 470.245.. Val Linf norm: 382.374\n",
            "Epoch 14/90.. Train loss: 3.576.. Val loss: 3.562.. Train L1 norm: 5.807.. Val L1 norm: 5.199.. Train Linf norm: 456.642.. Val Linf norm: 382.650\n",
            "Epoch 15/90.. Train loss: 3.557.. Val loss: 3.656.. Train L1 norm: 6.018.. Val L1 norm: 6.130.. Train Linf norm: 475.316.. Val Linf norm: 440.806\n",
            "Epoch 16/90.. Train loss: 3.613.. Val loss: 3.536.. Train L1 norm: 6.330.. Val L1 norm: 5.382.. Train Linf norm: 482.455.. Val Linf norm: 392.799\n",
            "Epoch 17/90.. Train loss: 3.548.. Val loss: 3.529.. Train L1 norm: 5.924.. Val L1 norm: 4.652.. Train Linf norm: 469.869.. Val Linf norm: 335.191\n",
            "Epoch 18/90.. Train loss: 3.512.. Val loss: 3.473.. Train L1 norm: 5.844.. Val L1 norm: 4.706.. Train Linf norm: 458.868.. Val Linf norm: 343.413\n",
            "Epoch 19/90.. Train loss: 3.517.. Val loss: 3.686.. Train L1 norm: 5.458.. Val L1 norm: 5.853.. Train Linf norm: 406.412.. Val Linf norm: 422.863\n",
            "Epoch 20/90.. Train loss: 4.441.. Val loss: 4.090.. Train L1 norm: 6.886.. Val L1 norm: 4.786.. Train Linf norm: 517.045.. Val Linf norm: 336.386\n",
            "Epoch 21/90.. Train loss: 3.919.. Val loss: 3.568.. Train L1 norm: 6.241.. Val L1 norm: 5.240.. Train Linf norm: 469.679.. Val Linf norm: 387.478\n",
            "Epoch 22/90.. Train loss: 3.706.. Val loss: 3.556.. Train L1 norm: 5.987.. Val L1 norm: 5.088.. Train Linf norm: 460.891.. Val Linf norm: 372.522\n",
            "Epoch 23/90.. Train loss: 3.521.. Val loss: 3.405.. Train L1 norm: 5.331.. Val L1 norm: 4.913.. Train Linf norm: 408.406.. Val Linf norm: 355.675\n",
            "Epoch 24/90.. Train loss: 3.528.. Val loss: 3.397.. Train L1 norm: 5.543.. Val L1 norm: 4.020.. Train Linf norm: 427.442.. Val Linf norm: 278.300\n",
            "Epoch 25/90.. Train loss: 3.526.. Val loss: 3.724.. Train L1 norm: 5.700.. Val L1 norm: 6.221.. Train Linf norm: 435.450.. Val Linf norm: 447.888\n",
            "Epoch 26/90.. Train loss: 3.884.. Val loss: 3.926.. Train L1 norm: 6.230.. Val L1 norm: 5.671.. Train Linf norm: 479.523.. Val Linf norm: 402.049\n",
            "Epoch 27/90.. Train loss: 3.918.. Val loss: 3.831.. Train L1 norm: 6.836.. Val L1 norm: 5.282.. Train Linf norm: 518.579.. Val Linf norm: 378.510\n",
            "Epoch 28/90.. Train loss: 3.766.. Val loss: 3.690.. Train L1 norm: 6.403.. Val L1 norm: 5.422.. Train Linf norm: 492.346.. Val Linf norm: 391.392\n",
            "Epoch 29/90.. Train loss: 3.657.. Val loss: 3.704.. Train L1 norm: 6.037.. Val L1 norm: 4.582.. Train Linf norm: 466.555.. Val Linf norm: 323.780\n",
            "Epoch 30/90.. Train loss: 3.634.. Val loss: 3.552.. Train L1 norm: 5.887.. Val L1 norm: 5.414.. Train Linf norm: 449.897.. Val Linf norm: 385.391\n",
            "Epoch 31/90.. Train loss: 3.627.. Val loss: 3.637.. Train L1 norm: 6.006.. Val L1 norm: 6.111.. Train Linf norm: 467.881.. Val Linf norm: 450.336\n",
            "Epoch 32/90.. Train loss: 3.632.. Val loss: 3.554.. Train L1 norm: 6.121.. Val L1 norm: 5.219.. Train Linf norm: 477.891.. Val Linf norm: 378.523\n",
            "Epoch 33/90.. Train loss: 3.527.. Val loss: 3.493.. Train L1 norm: 5.974.. Val L1 norm: 4.990.. Train Linf norm: 468.634.. Val Linf norm: 354.049\n",
            "Epoch 34/90.. Train loss: 3.498.. Val loss: 3.452.. Train L1 norm: 5.756.. Val L1 norm: 4.209.. Train Linf norm: 457.437.. Val Linf norm: 277.640\n",
            "Epoch 35/90.. Train loss: 3.461.. Val loss: 3.414.. Train L1 norm: 5.465.. Val L1 norm: 4.356.. Train Linf norm: 427.616.. Val Linf norm: 295.418\n",
            "Epoch 36/90.. Train loss: 3.446.. Val loss: 3.421.. Train L1 norm: 5.382.. Val L1 norm: 5.068.. Train Linf norm: 415.178.. Val Linf norm: 360.434\n",
            "Epoch 37/90.. Train loss: 3.390.. Val loss: 3.333.. Train L1 norm: 5.028.. Val L1 norm: 4.744.. Train Linf norm: 386.669.. Val Linf norm: 333.713\n",
            "Epoch 38/90.. Train loss: 3.352.. Val loss: 3.242.. Train L1 norm: 4.758.. Val L1 norm: 3.779.. Train Linf norm: 353.278.. Val Linf norm: 248.230\n",
            "Epoch 39/90.. Train loss: 3.298.. Val loss: 3.307.. Train L1 norm: 4.577.. Val L1 norm: 3.081.. Train Linf norm: 337.687.. Val Linf norm: 195.772\n",
            "Epoch 40/90.. Train loss: 3.395.. Val loss: 3.361.. Train L1 norm: 4.963.. Val L1 norm: 4.570.. Train Linf norm: 377.330.. Val Linf norm: 339.425\n",
            "Epoch 41/90.. Train loss: 3.284.. Val loss: 3.388.. Train L1 norm: 4.433.. Val L1 norm: 4.540.. Train Linf norm: 326.915.. Val Linf norm: 318.912\n",
            "Epoch 42/90.. Train loss: 3.222.. Val loss: 3.174.. Train L1 norm: 4.462.. Val L1 norm: 3.628.. Train Linf norm: 340.653.. Val Linf norm: 250.950\n",
            "Epoch 43/90.. Train loss: 3.180.. Val loss: 3.106.. Train L1 norm: 4.207.. Val L1 norm: 3.623.. Train Linf norm: 306.804.. Val Linf norm: 232.443\n",
            "Epoch 44/90.. Train loss: 3.150.. Val loss: 3.115.. Train L1 norm: 4.050.. Val L1 norm: 2.646.. Train Linf norm: 291.228.. Val Linf norm: 171.378\n",
            "Epoch 45/90.. Train loss: 3.097.. Val loss: 3.128.. Train L1 norm: 3.964.. Val L1 norm: 3.920.. Train Linf norm: 280.721.. Val Linf norm: 257.456\n",
            "Epoch 46/90.. Train loss: 3.111.. Val loss: 3.157.. Train L1 norm: 4.189.. Val L1 norm: 2.302.. Train Linf norm: 306.888.. Val Linf norm: 128.564\n",
            "Epoch 47/90.. Train loss: 3.081.. Val loss: 4.084.. Train L1 norm: 4.201.. Val L1 norm: 7.096.. Train Linf norm: 313.820.. Val Linf norm: 510.244\n",
            "Epoch 48/90.. Train loss: 3.118.. Val loss: 3.376.. Train L1 norm: 4.158.. Val L1 norm: 6.065.. Train Linf norm: 302.577.. Val Linf norm: 493.089\n",
            "Epoch 49/90.. Train loss: 3.019.. Val loss: 2.896.. Train L1 norm: 3.957.. Val L1 norm: 3.363.. Train Linf norm: 284.511.. Val Linf norm: 226.521\n",
            "Epoch 50/90.. Train loss: 2.988.. Val loss: 2.872.. Train L1 norm: 3.946.. Val L1 norm: 3.107.. Train Linf norm: 290.207.. Val Linf norm: 205.443\n",
            "Epoch 51/90.. Train loss: 2.987.. Val loss: 2.889.. Train L1 norm: 4.169.. Val L1 norm: 2.341.. Train Linf norm: 312.885.. Val Linf norm: 130.339\n",
            "Epoch 52/90.. Train loss: 2.938.. Val loss: 2.956.. Train L1 norm: 3.837.. Val L1 norm: 3.802.. Train Linf norm: 270.249.. Val Linf norm: 264.423\n",
            "Epoch 53/90.. Train loss: 2.947.. Val loss: 2.858.. Train L1 norm: 3.972.. Val L1 norm: 3.302.. Train Linf norm: 265.862.. Val Linf norm: 206.761\n",
            "Epoch 54/90.. Train loss: 2.915.. Val loss: 3.057.. Train L1 norm: 3.802.. Val L1 norm: 4.068.. Train Linf norm: 269.313.. Val Linf norm: 308.385\n",
            "Epoch 55/90.. Train loss: 2.919.. Val loss: 2.769.. Train L1 norm: 3.760.. Val L1 norm: 2.640.. Train Linf norm: 267.637.. Val Linf norm: 160.080\n",
            "Epoch 56/90.. Train loss: 2.843.. Val loss: 2.804.. Train L1 norm: 3.489.. Val L1 norm: 2.202.. Train Linf norm: 235.731.. Val Linf norm: 132.688\n",
            "Epoch 57/90.. Train loss: 2.835.. Val loss: 2.761.. Train L1 norm: 3.628.. Val L1 norm: 2.284.. Train Linf norm: 254.337.. Val Linf norm: 143.965\n",
            "Epoch 58/90.. Train loss: 2.797.. Val loss: 2.944.. Train L1 norm: 3.513.. Val L1 norm: 2.291.. Train Linf norm: 240.254.. Val Linf norm: 146.841\n",
            "Epoch 59/90.. Train loss: 2.767.. Val loss: 2.737.. Train L1 norm: 3.927.. Val L1 norm: 4.269.. Train Linf norm: 290.701.. Val Linf norm: 293.839\n",
            "Epoch 60/90.. Train loss: 2.763.. Val loss: 2.812.. Train L1 norm: 3.750.. Val L1 norm: 2.555.. Train Linf norm: 274.814.. Val Linf norm: 162.195\n",
            "Epoch 61/90.. Train loss: 2.738.. Val loss: 2.692.. Train L1 norm: 3.550.. Val L1 norm: 3.009.. Train Linf norm: 247.964.. Val Linf norm: 182.010\n",
            "Epoch 62/90.. Train loss: 2.747.. Val loss: 2.667.. Train L1 norm: 3.605.. Val L1 norm: 3.475.. Train Linf norm: 247.581.. Val Linf norm: 228.478\n",
            "Epoch 63/90.. Train loss: 2.658.. Val loss: 2.502.. Train L1 norm: 3.969.. Val L1 norm: 2.755.. Train Linf norm: 302.750.. Val Linf norm: 175.165\n",
            "Epoch 64/90.. Train loss: 2.642.. Val loss: 2.494.. Train L1 norm: 3.490.. Val L1 norm: 3.761.. Train Linf norm: 239.436.. Val Linf norm: 269.649\n",
            "Epoch 65/90.. Train loss: 2.601.. Val loss: 2.557.. Train L1 norm: 3.699.. Val L1 norm: 2.752.. Train Linf norm: 263.379.. Val Linf norm: 172.174\n",
            "Epoch 66/90.. Train loss: 2.579.. Val loss: 2.605.. Train L1 norm: 4.319.. Val L1 norm: 4.639.. Train Linf norm: 345.081.. Val Linf norm: 352.056\n",
            "Epoch 67/90.. Train loss: 2.679.. Val loss: 2.448.. Train L1 norm: 4.089.. Val L1 norm: 2.660.. Train Linf norm: 306.213.. Val Linf norm: 179.098\n",
            "Epoch 68/90.. Train loss: 2.668.. Val loss: 2.605.. Train L1 norm: 4.647.. Val L1 norm: 2.960.. Train Linf norm: 371.772.. Val Linf norm: 211.934\n",
            "Epoch 69/90.. Train loss: 2.571.. Val loss: 2.398.. Train L1 norm: 3.716.. Val L1 norm: 3.967.. Train Linf norm: 269.605.. Val Linf norm: 300.565\n",
            "Epoch 70/90.. Train loss: 2.540.. Val loss: 2.444.. Train L1 norm: 3.742.. Val L1 norm: 3.624.. Train Linf norm: 275.724.. Val Linf norm: 283.398\n",
            "Epoch 71/90.. Train loss: 2.563.. Val loss: 2.341.. Train L1 norm: 3.594.. Val L1 norm: 2.937.. Train Linf norm: 250.557.. Val Linf norm: 199.750\n",
            "Epoch 72/90.. Train loss: 2.497.. Val loss: 2.803.. Train L1 norm: 3.941.. Val L1 norm: 5.404.. Train Linf norm: 305.694.. Val Linf norm: 384.259\n",
            "Epoch 73/90.. Train loss: 2.484.. Val loss: 2.538.. Train L1 norm: 3.909.. Val L1 norm: 3.055.. Train Linf norm: 284.548.. Val Linf norm: 217.852\n",
            "Epoch 74/90.. Train loss: 2.557.. Val loss: 2.458.. Train L1 norm: 4.128.. Val L1 norm: 2.580.. Train Linf norm: 320.390.. Val Linf norm: 173.132\n",
            "Epoch 75/90.. Train loss: 2.498.. Val loss: 2.508.. Train L1 norm: 3.718.. Val L1 norm: 2.712.. Train Linf norm: 266.810.. Val Linf norm: 194.409\n",
            "Epoch 76/90.. Train loss: 2.573.. Val loss: 2.311.. Train L1 norm: 3.747.. Val L1 norm: 2.794.. Train Linf norm: 274.311.. Val Linf norm: 192.869\n",
            "Epoch 77/90.. Train loss: 2.397.. Val loss: 2.253.. Train L1 norm: 3.624.. Val L1 norm: 3.526.. Train Linf norm: 271.922.. Val Linf norm: 260.282\n",
            "Epoch 78/90.. Train loss: 2.344.. Val loss: 2.264.. Train L1 norm: 3.964.. Val L1 norm: 2.578.. Train Linf norm: 309.860.. Val Linf norm: 169.417\n",
            "Epoch 79/90.. Train loss: 2.367.. Val loss: 2.535.. Train L1 norm: 3.761.. Val L1 norm: 4.159.. Train Linf norm: 283.578.. Val Linf norm: 300.200\n",
            "Epoch 80/90.. Train loss: 2.338.. Val loss: 2.497.. Train L1 norm: 3.267.. Val L1 norm: 4.472.. Train Linf norm: 225.364.. Val Linf norm: 301.517\n",
            "Epoch 81/90.. Train loss: 2.306.. Val loss: 2.290.. Train L1 norm: 3.070.. Val L1 norm: 3.643.. Train Linf norm: 199.975.. Val Linf norm: 257.731\n",
            "Epoch 82/90.. Train loss: 2.296.. Val loss: 2.298.. Train L1 norm: 4.190.. Val L1 norm: 4.085.. Train Linf norm: 346.808.. Val Linf norm: 296.673\n",
            "Epoch 83/90.. Train loss: 2.297.. Val loss: 2.361.. Train L1 norm: 4.153.. Val L1 norm: 4.364.. Train Linf norm: 339.562.. Val Linf norm: 312.932\n",
            "Epoch 84/90.. Train loss: 2.248.. Val loss: 2.211.. Train L1 norm: 3.799.. Val L1 norm: 3.007.. Train Linf norm: 291.635.. Val Linf norm: 227.742\n",
            "Epoch 85/90.. Train loss: 2.273.. Val loss: 2.684.. Train L1 norm: 3.914.. Val L1 norm: 4.546.. Train Linf norm: 309.177.. Val Linf norm: 309.029\n",
            "Epoch 86/90.. Train loss: 2.249.. Val loss: 2.264.. Train L1 norm: 3.869.. Val L1 norm: 4.865.. Train Linf norm: 309.267.. Val Linf norm: 403.089\n",
            "Epoch 87/90.. Train loss: 2.216.. Val loss: 2.046.. Train L1 norm: 3.370.. Val L1 norm: 2.812.. Train Linf norm: 243.296.. Val Linf norm: 188.752\n",
            "Epoch 88/90.. Train loss: 2.177.. Val loss: 2.328.. Train L1 norm: 3.602.. Val L1 norm: 3.268.. Train Linf norm: 275.028.. Val Linf norm: 254.441\n",
            "Epoch 89/90.. Train loss: 2.152.. Val loss: 2.098.. Train L1 norm: 3.532.. Val L1 norm: 3.770.. Train Linf norm: 269.203.. Val Linf norm: 291.521\n"
          ]
        },
        {
          "output_type": "stream",
          "name": "stderr",
          "text": [
            "[I 2023-06-03 11:29:38,152] Trial 8 finished with value: 4.0549357006073 and parameters: {'n_layers': 6, 'n_units_0': 3328, 'n_units_1': 2342, 'n_units_2': 182, 'n_units_3': 1967, 'n_units_4': 3976, 'n_units_5': 2951, 'hidden_activation': 'LeakyReLU', 'output_activation': 'Linear', 'loss': 'Huber', 'optimizer': 'SGD', 'lr': 0.004169255125496534, 'batch_size': 128, 'n_epochs': 90, 'scheduler': 'ReduceLROnPlateau', 'leakyrelu_slope': 0.22283405283099847, 'dropout_rate': 0.014470583887389199, 'weight_decay': 3.7013408613241305e-05, 'momentum': 0.024488321694557037, 'factor': 0.28843839052175274, 'patience': 6, 'threshold': 0.000659848279942454}. Best is trial 2 with value: 2.659428728802999.\n"
          ]
        },
        {
          "output_type": "stream",
          "name": "stdout",
          "text": [
            "Epoch 90/90.. Train loss: 2.157.. Val loss: 2.261.. Train L1 norm: 3.806.. Val L1 norm: 4.055.. Train Linf norm: 306.959.. Val Linf norm: 282.997\n"
          ]
        },
        {
          "output_type": "display_data",
          "data": {
            "text/html": [
              "<html>\n",
              "<head><meta charset=\"utf-8\" /></head>\n",
              "<body>\n",
              "    <div>            <script src=\"https://cdnjs.cloudflare.com/ajax/libs/mathjax/2.7.5/MathJax.js?config=TeX-AMS-MML_SVG\"></script><script type=\"text/javascript\">if (window.MathJax && window.MathJax.Hub && window.MathJax.Hub.Config) {window.MathJax.Hub.Config({SVG: {font: \"STIX-Web\"}});}</script>                <script type=\"text/javascript\">window.PlotlyConfig = {MathJaxConfig: 'local'};</script>\n",
              "        <script src=\"https://cdn.plot.ly/plotly-2.18.2.min.js\"></script>                <div id=\"c8e3c527-7175-4f2d-82ca-d7ac46dfd175\" class=\"plotly-graph-div\" style=\"height:525px; width:100%;\"></div>            <script type=\"text/javascript\">                                    window.PLOTLYENV=window.PLOTLYENV || {};                                    if (document.getElementById(\"c8e3c527-7175-4f2d-82ca-d7ac46dfd175\")) {                    Plotly.newPlot(                        \"c8e3c527-7175-4f2d-82ca-d7ac46dfd175\",                        [{\"mode\":\"markers\",\"name\":\"Objective Value\",\"x\":[0,2,4,5,6,8],\"y\":[4.711850512695312,2.659428728802999,4.761943043263753,6.782888791402181,4.507622990544637,4.0549357006073],\"type\":\"scatter\"},{\"name\":\"Best Value\",\"x\":[0,2,4,5,6,8],\"y\":[4.711850512695312,2.659428728802999,2.659428728802999,2.659428728802999,2.659428728802999,2.659428728802999],\"type\":\"scatter\"}],                        {\"title\":{\"text\":\"Optimization History Plot\"},\"xaxis\":{\"title\":{\"text\":\"Trial\"}},\"yaxis\":{\"title\":{\"text\":\"Objective Value\"}},\"template\":{\"data\":{\"histogram2dcontour\":[{\"type\":\"histogram2dcontour\",\"colorbar\":{\"outlinewidth\":0,\"ticks\":\"\"},\"colorscale\":[[0.0,\"#0d0887\"],[0.1111111111111111,\"#46039f\"],[0.2222222222222222,\"#7201a8\"],[0.3333333333333333,\"#9c179e\"],[0.4444444444444444,\"#bd3786\"],[0.5555555555555556,\"#d8576b\"],[0.6666666666666666,\"#ed7953\"],[0.7777777777777778,\"#fb9f3a\"],[0.8888888888888888,\"#fdca26\"],[1.0,\"#f0f921\"]]}],\"choropleth\":[{\"type\":\"choropleth\",\"colorbar\":{\"outlinewidth\":0,\"ticks\":\"\"}}],\"histogram2d\":[{\"type\":\"histogram2d\",\"colorbar\":{\"outlinewidth\":0,\"ticks\":\"\"},\"colorscale\":[[0.0,\"#0d0887\"],[0.1111111111111111,\"#46039f\"],[0.2222222222222222,\"#7201a8\"],[0.3333333333333333,\"#9c179e\"],[0.4444444444444444,\"#bd3786\"],[0.5555555555555556,\"#d8576b\"],[0.6666666666666666,\"#ed7953\"],[0.7777777777777778,\"#fb9f3a\"],[0.8888888888888888,\"#fdca26\"],[1.0,\"#f0f921\"]]}],\"heatmap\":[{\"type\":\"heatmap\",\"colorbar\":{\"outlinewidth\":0,\"ticks\":\"\"},\"colorscale\":[[0.0,\"#0d0887\"],[0.1111111111111111,\"#46039f\"],[0.2222222222222222,\"#7201a8\"],[0.3333333333333333,\"#9c179e\"],[0.4444444444444444,\"#bd3786\"],[0.5555555555555556,\"#d8576b\"],[0.6666666666666666,\"#ed7953\"],[0.7777777777777778,\"#fb9f3a\"],[0.8888888888888888,\"#fdca26\"],[1.0,\"#f0f921\"]]}],\"heatmapgl\":[{\"type\":\"heatmapgl\",\"colorbar\":{\"outlinewidth\":0,\"ticks\":\"\"},\"colorscale\":[[0.0,\"#0d0887\"],[0.1111111111111111,\"#46039f\"],[0.2222222222222222,\"#7201a8\"],[0.3333333333333333,\"#9c179e\"],[0.4444444444444444,\"#bd3786\"],[0.5555555555555556,\"#d8576b\"],[0.6666666666666666,\"#ed7953\"],[0.7777777777777778,\"#fb9f3a\"],[0.8888888888888888,\"#fdca26\"],[1.0,\"#f0f921\"]]}],\"contourcarpet\":[{\"type\":\"contourcarpet\",\"colorbar\":{\"outlinewidth\":0,\"ticks\":\"\"}}],\"contour\":[{\"type\":\"contour\",\"colorbar\":{\"outlinewidth\":0,\"ticks\":\"\"},\"colorscale\":[[0.0,\"#0d0887\"],[0.1111111111111111,\"#46039f\"],[0.2222222222222222,\"#7201a8\"],[0.3333333333333333,\"#9c179e\"],[0.4444444444444444,\"#bd3786\"],[0.5555555555555556,\"#d8576b\"],[0.6666666666666666,\"#ed7953\"],[0.7777777777777778,\"#fb9f3a\"],[0.8888888888888888,\"#fdca26\"],[1.0,\"#f0f921\"]]}],\"surface\":[{\"type\":\"surface\",\"colorbar\":{\"outlinewidth\":0,\"ticks\":\"\"},\"colorscale\":[[0.0,\"#0d0887\"],[0.1111111111111111,\"#46039f\"],[0.2222222222222222,\"#7201a8\"],[0.3333333333333333,\"#9c179e\"],[0.4444444444444444,\"#bd3786\"],[0.5555555555555556,\"#d8576b\"],[0.6666666666666666,\"#ed7953\"],[0.7777777777777778,\"#fb9f3a\"],[0.8888888888888888,\"#fdca26\"],[1.0,\"#f0f921\"]]}],\"mesh3d\":[{\"type\":\"mesh3d\",\"colorbar\":{\"outlinewidth\":0,\"ticks\":\"\"}}],\"scatter\":[{\"fillpattern\":{\"fillmode\":\"overlay\",\"size\":10,\"solidity\":0.2},\"type\":\"scatter\"}],\"parcoords\":[{\"type\":\"parcoords\",\"line\":{\"colorbar\":{\"outlinewidth\":0,\"ticks\":\"\"}}}],\"scatterpolargl\":[{\"type\":\"scatterpolargl\",\"marker\":{\"colorbar\":{\"outlinewidth\":0,\"ticks\":\"\"}}}],\"bar\":[{\"error_x\":{\"color\":\"#2a3f5f\"},\"error_y\":{\"color\":\"#2a3f5f\"},\"marker\":{\"line\":{\"color\":\"#E5ECF6\",\"width\":0.5},\"pattern\":{\"fillmode\":\"overlay\",\"size\":10,\"solidity\":0.2}},\"type\":\"bar\"}],\"scattergeo\":[{\"type\":\"scattergeo\",\"marker\":{\"colorbar\":{\"outlinewidth\":0,\"ticks\":\"\"}}}],\"scatterpolar\":[{\"type\":\"scatterpolar\",\"marker\":{\"colorbar\":{\"outlinewidth\":0,\"ticks\":\"\"}}}],\"histogram\":[{\"marker\":{\"pattern\":{\"fillmode\":\"overlay\",\"size\":10,\"solidity\":0.2}},\"type\":\"histogram\"}],\"scattergl\":[{\"type\":\"scattergl\",\"marker\":{\"colorbar\":{\"outlinewidth\":0,\"ticks\":\"\"}}}],\"scatter3d\":[{\"type\":\"scatter3d\",\"line\":{\"colorbar\":{\"outlinewidth\":0,\"ticks\":\"\"}},\"marker\":{\"colorbar\":{\"outlinewidth\":0,\"ticks\":\"\"}}}],\"scattermapbox\":[{\"type\":\"scattermapbox\",\"marker\":{\"colorbar\":{\"outlinewidth\":0,\"ticks\":\"\"}}}],\"scatterternary\":[{\"type\":\"scatterternary\",\"marker\":{\"colorbar\":{\"outlinewidth\":0,\"ticks\":\"\"}}}],\"scattercarpet\":[{\"type\":\"scattercarpet\",\"marker\":{\"colorbar\":{\"outlinewidth\":0,\"ticks\":\"\"}}}],\"carpet\":[{\"aaxis\":{\"endlinecolor\":\"#2a3f5f\",\"gridcolor\":\"white\",\"linecolor\":\"white\",\"minorgridcolor\":\"white\",\"startlinecolor\":\"#2a3f5f\"},\"baxis\":{\"endlinecolor\":\"#2a3f5f\",\"gridcolor\":\"white\",\"linecolor\":\"white\",\"minorgridcolor\":\"white\",\"startlinecolor\":\"#2a3f5f\"},\"type\":\"carpet\"}],\"table\":[{\"cells\":{\"fill\":{\"color\":\"#EBF0F8\"},\"line\":{\"color\":\"white\"}},\"header\":{\"fill\":{\"color\":\"#C8D4E3\"},\"line\":{\"color\":\"white\"}},\"type\":\"table\"}],\"barpolar\":[{\"marker\":{\"line\":{\"color\":\"#E5ECF6\",\"width\":0.5},\"pattern\":{\"fillmode\":\"overlay\",\"size\":10,\"solidity\":0.2}},\"type\":\"barpolar\"}],\"pie\":[{\"automargin\":true,\"type\":\"pie\"}]},\"layout\":{\"autotypenumbers\":\"strict\",\"colorway\":[\"#636efa\",\"#EF553B\",\"#00cc96\",\"#ab63fa\",\"#FFA15A\",\"#19d3f3\",\"#FF6692\",\"#B6E880\",\"#FF97FF\",\"#FECB52\"],\"font\":{\"color\":\"#2a3f5f\"},\"hovermode\":\"closest\",\"hoverlabel\":{\"align\":\"left\"},\"paper_bgcolor\":\"white\",\"plot_bgcolor\":\"#E5ECF6\",\"polar\":{\"bgcolor\":\"#E5ECF6\",\"angularaxis\":{\"gridcolor\":\"white\",\"linecolor\":\"white\",\"ticks\":\"\"},\"radialaxis\":{\"gridcolor\":\"white\",\"linecolor\":\"white\",\"ticks\":\"\"}},\"ternary\":{\"bgcolor\":\"#E5ECF6\",\"aaxis\":{\"gridcolor\":\"white\",\"linecolor\":\"white\",\"ticks\":\"\"},\"baxis\":{\"gridcolor\":\"white\",\"linecolor\":\"white\",\"ticks\":\"\"},\"caxis\":{\"gridcolor\":\"white\",\"linecolor\":\"white\",\"ticks\":\"\"}},\"coloraxis\":{\"colorbar\":{\"outlinewidth\":0,\"ticks\":\"\"}},\"colorscale\":{\"sequential\":[[0.0,\"#0d0887\"],[0.1111111111111111,\"#46039f\"],[0.2222222222222222,\"#7201a8\"],[0.3333333333333333,\"#9c179e\"],[0.4444444444444444,\"#bd3786\"],[0.5555555555555556,\"#d8576b\"],[0.6666666666666666,\"#ed7953\"],[0.7777777777777778,\"#fb9f3a\"],[0.8888888888888888,\"#fdca26\"],[1.0,\"#f0f921\"]],\"sequentialminus\":[[0.0,\"#0d0887\"],[0.1111111111111111,\"#46039f\"],[0.2222222222222222,\"#7201a8\"],[0.3333333333333333,\"#9c179e\"],[0.4444444444444444,\"#bd3786\"],[0.5555555555555556,\"#d8576b\"],[0.6666666666666666,\"#ed7953\"],[0.7777777777777778,\"#fb9f3a\"],[0.8888888888888888,\"#fdca26\"],[1.0,\"#f0f921\"]],\"diverging\":[[0,\"#8e0152\"],[0.1,\"#c51b7d\"],[0.2,\"#de77ae\"],[0.3,\"#f1b6da\"],[0.4,\"#fde0ef\"],[0.5,\"#f7f7f7\"],[0.6,\"#e6f5d0\"],[0.7,\"#b8e186\"],[0.8,\"#7fbc41\"],[0.9,\"#4d9221\"],[1,\"#276419\"]]},\"xaxis\":{\"gridcolor\":\"white\",\"linecolor\":\"white\",\"ticks\":\"\",\"title\":{\"standoff\":15},\"zerolinecolor\":\"white\",\"automargin\":true,\"zerolinewidth\":2},\"yaxis\":{\"gridcolor\":\"white\",\"linecolor\":\"white\",\"ticks\":\"\",\"title\":{\"standoff\":15},\"zerolinecolor\":\"white\",\"automargin\":true,\"zerolinewidth\":2},\"scene\":{\"xaxis\":{\"backgroundcolor\":\"#E5ECF6\",\"gridcolor\":\"white\",\"linecolor\":\"white\",\"showbackground\":true,\"ticks\":\"\",\"zerolinecolor\":\"white\",\"gridwidth\":2},\"yaxis\":{\"backgroundcolor\":\"#E5ECF6\",\"gridcolor\":\"white\",\"linecolor\":\"white\",\"showbackground\":true,\"ticks\":\"\",\"zerolinecolor\":\"white\",\"gridwidth\":2},\"zaxis\":{\"backgroundcolor\":\"#E5ECF6\",\"gridcolor\":\"white\",\"linecolor\":\"white\",\"showbackground\":true,\"ticks\":\"\",\"zerolinecolor\":\"white\",\"gridwidth\":2}},\"shapedefaults\":{\"line\":{\"color\":\"#2a3f5f\"}},\"annotationdefaults\":{\"arrowcolor\":\"#2a3f5f\",\"arrowhead\":0,\"arrowwidth\":1},\"geo\":{\"bgcolor\":\"white\",\"landcolor\":\"#E5ECF6\",\"subunitcolor\":\"white\",\"showland\":true,\"showlakes\":true,\"lakecolor\":\"white\"},\"title\":{\"x\":0.05},\"mapbox\":{\"style\":\"light\"}}}},                        {\"responsive\": true}                    ).then(function(){\n",
              "                            \n",
              "var gd = document.getElementById('c8e3c527-7175-4f2d-82ca-d7ac46dfd175');\n",
              "var x = new MutationObserver(function (mutations, observer) {{\n",
              "        var display = window.getComputedStyle(gd).display;\n",
              "        if (!display || display === 'none') {{\n",
              "            console.log([gd, 'removed!']);\n",
              "            Plotly.purge(gd);\n",
              "            observer.disconnect();\n",
              "        }}\n",
              "}});\n",
              "\n",
              "// Listen for the removal of the full notebook cells\n",
              "var notebookContainer = gd.closest('#notebook-container');\n",
              "if (notebookContainer) {{\n",
              "    x.observe(notebookContainer, {childList: true});\n",
              "}}\n",
              "\n",
              "// Listen for the clearing of the current output cell\n",
              "var outputEl = gd.closest('.output');\n",
              "if (outputEl) {{\n",
              "    x.observe(outputEl, {childList: true});\n",
              "}}\n",
              "\n",
              "                        })                };                            </script>        </div>\n",
              "</body>\n",
              "</html>"
            ]
          },
          "metadata": {}
        },
        {
          "output_type": "stream",
          "name": "stderr",
          "text": [
            "[W 2023-06-03 11:29:38,678] Your study has only completed trials with missing parameters.\n",
            "<ipython-input-119-ca043aa389dc>:44: FutureWarning:\n",
            "\n",
            "suggest_loguniform has been deprecated in v3.0.0. This feature will be removed in v6.0.0. See https://github.com/optuna/optuna/releases/tag/v3.0.0. Use suggest_float(..., log=True) instead.\n",
            "\n",
            "<ipython-input-119-ca043aa389dc>:76: FutureWarning:\n",
            "\n",
            "suggest_uniform has been deprecated in v3.0.0. This feature will be removed in v6.0.0. See https://github.com/optuna/optuna/releases/tag/v3.0.0. Use suggest_float instead.\n",
            "\n",
            "<ipython-input-119-ca043aa389dc>:145: FutureWarning:\n",
            "\n",
            "suggest_loguniform has been deprecated in v3.0.0. This feature will be removed in v6.0.0. See https://github.com/optuna/optuna/releases/tag/v3.0.0. Use suggest_float(..., log=True) instead.\n",
            "\n",
            "<ipython-input-119-ca043aa389dc>:146: FutureWarning:\n",
            "\n",
            "suggest_uniform has been deprecated in v3.0.0. This feature will be removed in v6.0.0. See https://github.com/optuna/optuna/releases/tag/v3.0.0. Use suggest_float instead.\n",
            "\n",
            "<ipython-input-119-ca043aa389dc>:178: FutureWarning:\n",
            "\n",
            "suggest_uniform has been deprecated in v3.0.0. This feature will be removed in v6.0.0. See https://github.com/optuna/optuna/releases/tag/v3.0.0. Use suggest_float instead.\n",
            "\n",
            "<ipython-input-119-ca043aa389dc>:180: FutureWarning:\n",
            "\n",
            "suggest_loguniform has been deprecated in v3.0.0. This feature will be removed in v6.0.0. See https://github.com/optuna/optuna/releases/tag/v3.0.0. Use suggest_float(..., log=True) instead.\n",
            "\n"
          ]
        },
        {
          "output_type": "stream",
          "name": "stdout",
          "text": [
            "Epoch 1/70.. Train loss: 4.827.. Val loss: 4.319.. Train L1 norm: 2.081.. Val L1 norm: 3.452.. Train Linf norm: 173.966.. Val Linf norm: 394.347\n"
          ]
        },
        {
          "output_type": "stream",
          "name": "stderr",
          "text": [
            "[I 2023-06-03 11:29:47,444] Trial 9 pruned. \n"
          ]
        },
        {
          "output_type": "stream",
          "name": "stdout",
          "text": [
            "Epoch 2/70.. Train loss: 4.513.. Val loss: 4.220.. Train L1 norm: 3.432.. Val L1 norm: 3.210.. Train Linf norm: 398.912.. Val Linf norm: 360.568\n"
          ]
        },
        {
          "output_type": "display_data",
          "data": {
            "text/html": [
              "<html>\n",
              "<head><meta charset=\"utf-8\" /></head>\n",
              "<body>\n",
              "    <div>            <script src=\"https://cdnjs.cloudflare.com/ajax/libs/mathjax/2.7.5/MathJax.js?config=TeX-AMS-MML_SVG\"></script><script type=\"text/javascript\">if (window.MathJax && window.MathJax.Hub && window.MathJax.Hub.Config) {window.MathJax.Hub.Config({SVG: {font: \"STIX-Web\"}});}</script>                <script type=\"text/javascript\">window.PlotlyConfig = {MathJaxConfig: 'local'};</script>\n",
              "        <script src=\"https://cdn.plot.ly/plotly-2.18.2.min.js\"></script>                <div id=\"27ab0198-7aea-48fb-931c-f7d659745f65\" class=\"plotly-graph-div\" style=\"height:525px; width:100%;\"></div>            <script type=\"text/javascript\">                                    window.PLOTLYENV=window.PLOTLYENV || {};                                    if (document.getElementById(\"27ab0198-7aea-48fb-931c-f7d659745f65\")) {                    Plotly.newPlot(                        \"27ab0198-7aea-48fb-931c-f7d659745f65\",                        [{\"mode\":\"markers\",\"name\":\"Objective Value\",\"x\":[0,2,4,5,6,8],\"y\":[4.711850512695312,2.659428728802999,4.761943043263753,6.782888791402181,4.507622990544637,4.0549357006073],\"type\":\"scatter\"},{\"name\":\"Best Value\",\"x\":[0,2,4,5,6,8],\"y\":[4.711850512695312,2.659428728802999,2.659428728802999,2.659428728802999,2.659428728802999,2.659428728802999],\"type\":\"scatter\"}],                        {\"title\":{\"text\":\"Optimization History Plot\"},\"xaxis\":{\"title\":{\"text\":\"Trial\"}},\"yaxis\":{\"title\":{\"text\":\"Objective Value\"}},\"template\":{\"data\":{\"histogram2dcontour\":[{\"type\":\"histogram2dcontour\",\"colorbar\":{\"outlinewidth\":0,\"ticks\":\"\"},\"colorscale\":[[0.0,\"#0d0887\"],[0.1111111111111111,\"#46039f\"],[0.2222222222222222,\"#7201a8\"],[0.3333333333333333,\"#9c179e\"],[0.4444444444444444,\"#bd3786\"],[0.5555555555555556,\"#d8576b\"],[0.6666666666666666,\"#ed7953\"],[0.7777777777777778,\"#fb9f3a\"],[0.8888888888888888,\"#fdca26\"],[1.0,\"#f0f921\"]]}],\"choropleth\":[{\"type\":\"choropleth\",\"colorbar\":{\"outlinewidth\":0,\"ticks\":\"\"}}],\"histogram2d\":[{\"type\":\"histogram2d\",\"colorbar\":{\"outlinewidth\":0,\"ticks\":\"\"},\"colorscale\":[[0.0,\"#0d0887\"],[0.1111111111111111,\"#46039f\"],[0.2222222222222222,\"#7201a8\"],[0.3333333333333333,\"#9c179e\"],[0.4444444444444444,\"#bd3786\"],[0.5555555555555556,\"#d8576b\"],[0.6666666666666666,\"#ed7953\"],[0.7777777777777778,\"#fb9f3a\"],[0.8888888888888888,\"#fdca26\"],[1.0,\"#f0f921\"]]}],\"heatmap\":[{\"type\":\"heatmap\",\"colorbar\":{\"outlinewidth\":0,\"ticks\":\"\"},\"colorscale\":[[0.0,\"#0d0887\"],[0.1111111111111111,\"#46039f\"],[0.2222222222222222,\"#7201a8\"],[0.3333333333333333,\"#9c179e\"],[0.4444444444444444,\"#bd3786\"],[0.5555555555555556,\"#d8576b\"],[0.6666666666666666,\"#ed7953\"],[0.7777777777777778,\"#fb9f3a\"],[0.8888888888888888,\"#fdca26\"],[1.0,\"#f0f921\"]]}],\"heatmapgl\":[{\"type\":\"heatmapgl\",\"colorbar\":{\"outlinewidth\":0,\"ticks\":\"\"},\"colorscale\":[[0.0,\"#0d0887\"],[0.1111111111111111,\"#46039f\"],[0.2222222222222222,\"#7201a8\"],[0.3333333333333333,\"#9c179e\"],[0.4444444444444444,\"#bd3786\"],[0.5555555555555556,\"#d8576b\"],[0.6666666666666666,\"#ed7953\"],[0.7777777777777778,\"#fb9f3a\"],[0.8888888888888888,\"#fdca26\"],[1.0,\"#f0f921\"]]}],\"contourcarpet\":[{\"type\":\"contourcarpet\",\"colorbar\":{\"outlinewidth\":0,\"ticks\":\"\"}}],\"contour\":[{\"type\":\"contour\",\"colorbar\":{\"outlinewidth\":0,\"ticks\":\"\"},\"colorscale\":[[0.0,\"#0d0887\"],[0.1111111111111111,\"#46039f\"],[0.2222222222222222,\"#7201a8\"],[0.3333333333333333,\"#9c179e\"],[0.4444444444444444,\"#bd3786\"],[0.5555555555555556,\"#d8576b\"],[0.6666666666666666,\"#ed7953\"],[0.7777777777777778,\"#fb9f3a\"],[0.8888888888888888,\"#fdca26\"],[1.0,\"#f0f921\"]]}],\"surface\":[{\"type\":\"surface\",\"colorbar\":{\"outlinewidth\":0,\"ticks\":\"\"},\"colorscale\":[[0.0,\"#0d0887\"],[0.1111111111111111,\"#46039f\"],[0.2222222222222222,\"#7201a8\"],[0.3333333333333333,\"#9c179e\"],[0.4444444444444444,\"#bd3786\"],[0.5555555555555556,\"#d8576b\"],[0.6666666666666666,\"#ed7953\"],[0.7777777777777778,\"#fb9f3a\"],[0.8888888888888888,\"#fdca26\"],[1.0,\"#f0f921\"]]}],\"mesh3d\":[{\"type\":\"mesh3d\",\"colorbar\":{\"outlinewidth\":0,\"ticks\":\"\"}}],\"scatter\":[{\"fillpattern\":{\"fillmode\":\"overlay\",\"size\":10,\"solidity\":0.2},\"type\":\"scatter\"}],\"parcoords\":[{\"type\":\"parcoords\",\"line\":{\"colorbar\":{\"outlinewidth\":0,\"ticks\":\"\"}}}],\"scatterpolargl\":[{\"type\":\"scatterpolargl\",\"marker\":{\"colorbar\":{\"outlinewidth\":0,\"ticks\":\"\"}}}],\"bar\":[{\"error_x\":{\"color\":\"#2a3f5f\"},\"error_y\":{\"color\":\"#2a3f5f\"},\"marker\":{\"line\":{\"color\":\"#E5ECF6\",\"width\":0.5},\"pattern\":{\"fillmode\":\"overlay\",\"size\":10,\"solidity\":0.2}},\"type\":\"bar\"}],\"scattergeo\":[{\"type\":\"scattergeo\",\"marker\":{\"colorbar\":{\"outlinewidth\":0,\"ticks\":\"\"}}}],\"scatterpolar\":[{\"type\":\"scatterpolar\",\"marker\":{\"colorbar\":{\"outlinewidth\":0,\"ticks\":\"\"}}}],\"histogram\":[{\"marker\":{\"pattern\":{\"fillmode\":\"overlay\",\"size\":10,\"solidity\":0.2}},\"type\":\"histogram\"}],\"scattergl\":[{\"type\":\"scattergl\",\"marker\":{\"colorbar\":{\"outlinewidth\":0,\"ticks\":\"\"}}}],\"scatter3d\":[{\"type\":\"scatter3d\",\"line\":{\"colorbar\":{\"outlinewidth\":0,\"ticks\":\"\"}},\"marker\":{\"colorbar\":{\"outlinewidth\":0,\"ticks\":\"\"}}}],\"scattermapbox\":[{\"type\":\"scattermapbox\",\"marker\":{\"colorbar\":{\"outlinewidth\":0,\"ticks\":\"\"}}}],\"scatterternary\":[{\"type\":\"scatterternary\",\"marker\":{\"colorbar\":{\"outlinewidth\":0,\"ticks\":\"\"}}}],\"scattercarpet\":[{\"type\":\"scattercarpet\",\"marker\":{\"colorbar\":{\"outlinewidth\":0,\"ticks\":\"\"}}}],\"carpet\":[{\"aaxis\":{\"endlinecolor\":\"#2a3f5f\",\"gridcolor\":\"white\",\"linecolor\":\"white\",\"minorgridcolor\":\"white\",\"startlinecolor\":\"#2a3f5f\"},\"baxis\":{\"endlinecolor\":\"#2a3f5f\",\"gridcolor\":\"white\",\"linecolor\":\"white\",\"minorgridcolor\":\"white\",\"startlinecolor\":\"#2a3f5f\"},\"type\":\"carpet\"}],\"table\":[{\"cells\":{\"fill\":{\"color\":\"#EBF0F8\"},\"line\":{\"color\":\"white\"}},\"header\":{\"fill\":{\"color\":\"#C8D4E3\"},\"line\":{\"color\":\"white\"}},\"type\":\"table\"}],\"barpolar\":[{\"marker\":{\"line\":{\"color\":\"#E5ECF6\",\"width\":0.5},\"pattern\":{\"fillmode\":\"overlay\",\"size\":10,\"solidity\":0.2}},\"type\":\"barpolar\"}],\"pie\":[{\"automargin\":true,\"type\":\"pie\"}]},\"layout\":{\"autotypenumbers\":\"strict\",\"colorway\":[\"#636efa\",\"#EF553B\",\"#00cc96\",\"#ab63fa\",\"#FFA15A\",\"#19d3f3\",\"#FF6692\",\"#B6E880\",\"#FF97FF\",\"#FECB52\"],\"font\":{\"color\":\"#2a3f5f\"},\"hovermode\":\"closest\",\"hoverlabel\":{\"align\":\"left\"},\"paper_bgcolor\":\"white\",\"plot_bgcolor\":\"#E5ECF6\",\"polar\":{\"bgcolor\":\"#E5ECF6\",\"angularaxis\":{\"gridcolor\":\"white\",\"linecolor\":\"white\",\"ticks\":\"\"},\"radialaxis\":{\"gridcolor\":\"white\",\"linecolor\":\"white\",\"ticks\":\"\"}},\"ternary\":{\"bgcolor\":\"#E5ECF6\",\"aaxis\":{\"gridcolor\":\"white\",\"linecolor\":\"white\",\"ticks\":\"\"},\"baxis\":{\"gridcolor\":\"white\",\"linecolor\":\"white\",\"ticks\":\"\"},\"caxis\":{\"gridcolor\":\"white\",\"linecolor\":\"white\",\"ticks\":\"\"}},\"coloraxis\":{\"colorbar\":{\"outlinewidth\":0,\"ticks\":\"\"}},\"colorscale\":{\"sequential\":[[0.0,\"#0d0887\"],[0.1111111111111111,\"#46039f\"],[0.2222222222222222,\"#7201a8\"],[0.3333333333333333,\"#9c179e\"],[0.4444444444444444,\"#bd3786\"],[0.5555555555555556,\"#d8576b\"],[0.6666666666666666,\"#ed7953\"],[0.7777777777777778,\"#fb9f3a\"],[0.8888888888888888,\"#fdca26\"],[1.0,\"#f0f921\"]],\"sequentialminus\":[[0.0,\"#0d0887\"],[0.1111111111111111,\"#46039f\"],[0.2222222222222222,\"#7201a8\"],[0.3333333333333333,\"#9c179e\"],[0.4444444444444444,\"#bd3786\"],[0.5555555555555556,\"#d8576b\"],[0.6666666666666666,\"#ed7953\"],[0.7777777777777778,\"#fb9f3a\"],[0.8888888888888888,\"#fdca26\"],[1.0,\"#f0f921\"]],\"diverging\":[[0,\"#8e0152\"],[0.1,\"#c51b7d\"],[0.2,\"#de77ae\"],[0.3,\"#f1b6da\"],[0.4,\"#fde0ef\"],[0.5,\"#f7f7f7\"],[0.6,\"#e6f5d0\"],[0.7,\"#b8e186\"],[0.8,\"#7fbc41\"],[0.9,\"#4d9221\"],[1,\"#276419\"]]},\"xaxis\":{\"gridcolor\":\"white\",\"linecolor\":\"white\",\"ticks\":\"\",\"title\":{\"standoff\":15},\"zerolinecolor\":\"white\",\"automargin\":true,\"zerolinewidth\":2},\"yaxis\":{\"gridcolor\":\"white\",\"linecolor\":\"white\",\"ticks\":\"\",\"title\":{\"standoff\":15},\"zerolinecolor\":\"white\",\"automargin\":true,\"zerolinewidth\":2},\"scene\":{\"xaxis\":{\"backgroundcolor\":\"#E5ECF6\",\"gridcolor\":\"white\",\"linecolor\":\"white\",\"showbackground\":true,\"ticks\":\"\",\"zerolinecolor\":\"white\",\"gridwidth\":2},\"yaxis\":{\"backgroundcolor\":\"#E5ECF6\",\"gridcolor\":\"white\",\"linecolor\":\"white\",\"showbackground\":true,\"ticks\":\"\",\"zerolinecolor\":\"white\",\"gridwidth\":2},\"zaxis\":{\"backgroundcolor\":\"#E5ECF6\",\"gridcolor\":\"white\",\"linecolor\":\"white\",\"showbackground\":true,\"ticks\":\"\",\"zerolinecolor\":\"white\",\"gridwidth\":2}},\"shapedefaults\":{\"line\":{\"color\":\"#2a3f5f\"}},\"annotationdefaults\":{\"arrowcolor\":\"#2a3f5f\",\"arrowhead\":0,\"arrowwidth\":1},\"geo\":{\"bgcolor\":\"white\",\"landcolor\":\"#E5ECF6\",\"subunitcolor\":\"white\",\"showland\":true,\"showlakes\":true,\"lakecolor\":\"white\"},\"title\":{\"x\":0.05},\"mapbox\":{\"style\":\"light\"}}}},                        {\"responsive\": true}                    ).then(function(){\n",
              "                            \n",
              "var gd = document.getElementById('27ab0198-7aea-48fb-931c-f7d659745f65');\n",
              "var x = new MutationObserver(function (mutations, observer) {{\n",
              "        var display = window.getComputedStyle(gd).display;\n",
              "        if (!display || display === 'none') {{\n",
              "            console.log([gd, 'removed!']);\n",
              "            Plotly.purge(gd);\n",
              "            observer.disconnect();\n",
              "        }}\n",
              "}});\n",
              "\n",
              "// Listen for the removal of the full notebook cells\n",
              "var notebookContainer = gd.closest('#notebook-container');\n",
              "if (notebookContainer) {{\n",
              "    x.observe(notebookContainer, {childList: true});\n",
              "}}\n",
              "\n",
              "// Listen for the clearing of the current output cell\n",
              "var outputEl = gd.closest('.output');\n",
              "if (outputEl) {{\n",
              "    x.observe(outputEl, {childList: true});\n",
              "}}\n",
              "\n",
              "                        })                };                            </script>        </div>\n",
              "</body>\n",
              "</html>"
            ]
          },
          "metadata": {}
        },
        {
          "output_type": "stream",
          "name": "stderr",
          "text": [
            "[W 2023-06-03 11:29:48,400] Your study has only completed trials with missing parameters.\n",
            "<ipython-input-119-ca043aa389dc>:44: FutureWarning:\n",
            "\n",
            "suggest_loguniform has been deprecated in v3.0.0. This feature will be removed in v6.0.0. See https://github.com/optuna/optuna/releases/tag/v3.0.0. Use suggest_float(..., log=True) instead.\n",
            "\n",
            "<ipython-input-119-ca043aa389dc>:73: FutureWarning:\n",
            "\n",
            "suggest_uniform has been deprecated in v3.0.0. This feature will be removed in v6.0.0. See https://github.com/optuna/optuna/releases/tag/v3.0.0. Use suggest_float instead.\n",
            "\n",
            "<ipython-input-119-ca043aa389dc>:76: FutureWarning:\n",
            "\n",
            "suggest_uniform has been deprecated in v3.0.0. This feature will be removed in v6.0.0. See https://github.com/optuna/optuna/releases/tag/v3.0.0. Use suggest_float instead.\n",
            "\n",
            "<ipython-input-119-ca043aa389dc>:161: FutureWarning:\n",
            "\n",
            "suggest_uniform has been deprecated in v3.0.0. This feature will be removed in v6.0.0. See https://github.com/optuna/optuna/releases/tag/v3.0.0. Use suggest_float instead.\n",
            "\n",
            "[I 2023-06-03 11:29:50,383] Trial 10 pruned. \n"
          ]
        },
        {
          "output_type": "stream",
          "name": "stdout",
          "text": [
            "Epoch 1/53.. Train loss: 35.880.. Val loss: 5.280.. Train L1 norm: 30.527.. Val L1 norm: 7.473.. Train Linf norm: 3650.505.. Val Linf norm: 916.834\n"
          ]
        },
        {
          "output_type": "display_data",
          "data": {
            "text/html": [
              "<html>\n",
              "<head><meta charset=\"utf-8\" /></head>\n",
              "<body>\n",
              "    <div>            <script src=\"https://cdnjs.cloudflare.com/ajax/libs/mathjax/2.7.5/MathJax.js?config=TeX-AMS-MML_SVG\"></script><script type=\"text/javascript\">if (window.MathJax && window.MathJax.Hub && window.MathJax.Hub.Config) {window.MathJax.Hub.Config({SVG: {font: \"STIX-Web\"}});}</script>                <script type=\"text/javascript\">window.PlotlyConfig = {MathJaxConfig: 'local'};</script>\n",
              "        <script src=\"https://cdn.plot.ly/plotly-2.18.2.min.js\"></script>                <div id=\"2707886e-02eb-4f10-8e7c-29d2f9a328aa\" class=\"plotly-graph-div\" style=\"height:525px; width:100%;\"></div>            <script type=\"text/javascript\">                                    window.PLOTLYENV=window.PLOTLYENV || {};                                    if (document.getElementById(\"2707886e-02eb-4f10-8e7c-29d2f9a328aa\")) {                    Plotly.newPlot(                        \"2707886e-02eb-4f10-8e7c-29d2f9a328aa\",                        [{\"mode\":\"markers\",\"name\":\"Objective Value\",\"x\":[0,2,4,5,6,8],\"y\":[4.711850512695312,2.659428728802999,4.761943043263753,6.782888791402181,4.507622990544637,4.0549357006073],\"type\":\"scatter\"},{\"name\":\"Best Value\",\"x\":[0,2,4,5,6,8],\"y\":[4.711850512695312,2.659428728802999,2.659428728802999,2.659428728802999,2.659428728802999,2.659428728802999],\"type\":\"scatter\"}],                        {\"title\":{\"text\":\"Optimization History Plot\"},\"xaxis\":{\"title\":{\"text\":\"Trial\"}},\"yaxis\":{\"title\":{\"text\":\"Objective Value\"}},\"template\":{\"data\":{\"histogram2dcontour\":[{\"type\":\"histogram2dcontour\",\"colorbar\":{\"outlinewidth\":0,\"ticks\":\"\"},\"colorscale\":[[0.0,\"#0d0887\"],[0.1111111111111111,\"#46039f\"],[0.2222222222222222,\"#7201a8\"],[0.3333333333333333,\"#9c179e\"],[0.4444444444444444,\"#bd3786\"],[0.5555555555555556,\"#d8576b\"],[0.6666666666666666,\"#ed7953\"],[0.7777777777777778,\"#fb9f3a\"],[0.8888888888888888,\"#fdca26\"],[1.0,\"#f0f921\"]]}],\"choropleth\":[{\"type\":\"choropleth\",\"colorbar\":{\"outlinewidth\":0,\"ticks\":\"\"}}],\"histogram2d\":[{\"type\":\"histogram2d\",\"colorbar\":{\"outlinewidth\":0,\"ticks\":\"\"},\"colorscale\":[[0.0,\"#0d0887\"],[0.1111111111111111,\"#46039f\"],[0.2222222222222222,\"#7201a8\"],[0.3333333333333333,\"#9c179e\"],[0.4444444444444444,\"#bd3786\"],[0.5555555555555556,\"#d8576b\"],[0.6666666666666666,\"#ed7953\"],[0.7777777777777778,\"#fb9f3a\"],[0.8888888888888888,\"#fdca26\"],[1.0,\"#f0f921\"]]}],\"heatmap\":[{\"type\":\"heatmap\",\"colorbar\":{\"outlinewidth\":0,\"ticks\":\"\"},\"colorscale\":[[0.0,\"#0d0887\"],[0.1111111111111111,\"#46039f\"],[0.2222222222222222,\"#7201a8\"],[0.3333333333333333,\"#9c179e\"],[0.4444444444444444,\"#bd3786\"],[0.5555555555555556,\"#d8576b\"],[0.6666666666666666,\"#ed7953\"],[0.7777777777777778,\"#fb9f3a\"],[0.8888888888888888,\"#fdca26\"],[1.0,\"#f0f921\"]]}],\"heatmapgl\":[{\"type\":\"heatmapgl\",\"colorbar\":{\"outlinewidth\":0,\"ticks\":\"\"},\"colorscale\":[[0.0,\"#0d0887\"],[0.1111111111111111,\"#46039f\"],[0.2222222222222222,\"#7201a8\"],[0.3333333333333333,\"#9c179e\"],[0.4444444444444444,\"#bd3786\"],[0.5555555555555556,\"#d8576b\"],[0.6666666666666666,\"#ed7953\"],[0.7777777777777778,\"#fb9f3a\"],[0.8888888888888888,\"#fdca26\"],[1.0,\"#f0f921\"]]}],\"contourcarpet\":[{\"type\":\"contourcarpet\",\"colorbar\":{\"outlinewidth\":0,\"ticks\":\"\"}}],\"contour\":[{\"type\":\"contour\",\"colorbar\":{\"outlinewidth\":0,\"ticks\":\"\"},\"colorscale\":[[0.0,\"#0d0887\"],[0.1111111111111111,\"#46039f\"],[0.2222222222222222,\"#7201a8\"],[0.3333333333333333,\"#9c179e\"],[0.4444444444444444,\"#bd3786\"],[0.5555555555555556,\"#d8576b\"],[0.6666666666666666,\"#ed7953\"],[0.7777777777777778,\"#fb9f3a\"],[0.8888888888888888,\"#fdca26\"],[1.0,\"#f0f921\"]]}],\"surface\":[{\"type\":\"surface\",\"colorbar\":{\"outlinewidth\":0,\"ticks\":\"\"},\"colorscale\":[[0.0,\"#0d0887\"],[0.1111111111111111,\"#46039f\"],[0.2222222222222222,\"#7201a8\"],[0.3333333333333333,\"#9c179e\"],[0.4444444444444444,\"#bd3786\"],[0.5555555555555556,\"#d8576b\"],[0.6666666666666666,\"#ed7953\"],[0.7777777777777778,\"#fb9f3a\"],[0.8888888888888888,\"#fdca26\"],[1.0,\"#f0f921\"]]}],\"mesh3d\":[{\"type\":\"mesh3d\",\"colorbar\":{\"outlinewidth\":0,\"ticks\":\"\"}}],\"scatter\":[{\"fillpattern\":{\"fillmode\":\"overlay\",\"size\":10,\"solidity\":0.2},\"type\":\"scatter\"}],\"parcoords\":[{\"type\":\"parcoords\",\"line\":{\"colorbar\":{\"outlinewidth\":0,\"ticks\":\"\"}}}],\"scatterpolargl\":[{\"type\":\"scatterpolargl\",\"marker\":{\"colorbar\":{\"outlinewidth\":0,\"ticks\":\"\"}}}],\"bar\":[{\"error_x\":{\"color\":\"#2a3f5f\"},\"error_y\":{\"color\":\"#2a3f5f\"},\"marker\":{\"line\":{\"color\":\"#E5ECF6\",\"width\":0.5},\"pattern\":{\"fillmode\":\"overlay\",\"size\":10,\"solidity\":0.2}},\"type\":\"bar\"}],\"scattergeo\":[{\"type\":\"scattergeo\",\"marker\":{\"colorbar\":{\"outlinewidth\":0,\"ticks\":\"\"}}}],\"scatterpolar\":[{\"type\":\"scatterpolar\",\"marker\":{\"colorbar\":{\"outlinewidth\":0,\"ticks\":\"\"}}}],\"histogram\":[{\"marker\":{\"pattern\":{\"fillmode\":\"overlay\",\"size\":10,\"solidity\":0.2}},\"type\":\"histogram\"}],\"scattergl\":[{\"type\":\"scattergl\",\"marker\":{\"colorbar\":{\"outlinewidth\":0,\"ticks\":\"\"}}}],\"scatter3d\":[{\"type\":\"scatter3d\",\"line\":{\"colorbar\":{\"outlinewidth\":0,\"ticks\":\"\"}},\"marker\":{\"colorbar\":{\"outlinewidth\":0,\"ticks\":\"\"}}}],\"scattermapbox\":[{\"type\":\"scattermapbox\",\"marker\":{\"colorbar\":{\"outlinewidth\":0,\"ticks\":\"\"}}}],\"scatterternary\":[{\"type\":\"scatterternary\",\"marker\":{\"colorbar\":{\"outlinewidth\":0,\"ticks\":\"\"}}}],\"scattercarpet\":[{\"type\":\"scattercarpet\",\"marker\":{\"colorbar\":{\"outlinewidth\":0,\"ticks\":\"\"}}}],\"carpet\":[{\"aaxis\":{\"endlinecolor\":\"#2a3f5f\",\"gridcolor\":\"white\",\"linecolor\":\"white\",\"minorgridcolor\":\"white\",\"startlinecolor\":\"#2a3f5f\"},\"baxis\":{\"endlinecolor\":\"#2a3f5f\",\"gridcolor\":\"white\",\"linecolor\":\"white\",\"minorgridcolor\":\"white\",\"startlinecolor\":\"#2a3f5f\"},\"type\":\"carpet\"}],\"table\":[{\"cells\":{\"fill\":{\"color\":\"#EBF0F8\"},\"line\":{\"color\":\"white\"}},\"header\":{\"fill\":{\"color\":\"#C8D4E3\"},\"line\":{\"color\":\"white\"}},\"type\":\"table\"}],\"barpolar\":[{\"marker\":{\"line\":{\"color\":\"#E5ECF6\",\"width\":0.5},\"pattern\":{\"fillmode\":\"overlay\",\"size\":10,\"solidity\":0.2}},\"type\":\"barpolar\"}],\"pie\":[{\"automargin\":true,\"type\":\"pie\"}]},\"layout\":{\"autotypenumbers\":\"strict\",\"colorway\":[\"#636efa\",\"#EF553B\",\"#00cc96\",\"#ab63fa\",\"#FFA15A\",\"#19d3f3\",\"#FF6692\",\"#B6E880\",\"#FF97FF\",\"#FECB52\"],\"font\":{\"color\":\"#2a3f5f\"},\"hovermode\":\"closest\",\"hoverlabel\":{\"align\":\"left\"},\"paper_bgcolor\":\"white\",\"plot_bgcolor\":\"#E5ECF6\",\"polar\":{\"bgcolor\":\"#E5ECF6\",\"angularaxis\":{\"gridcolor\":\"white\",\"linecolor\":\"white\",\"ticks\":\"\"},\"radialaxis\":{\"gridcolor\":\"white\",\"linecolor\":\"white\",\"ticks\":\"\"}},\"ternary\":{\"bgcolor\":\"#E5ECF6\",\"aaxis\":{\"gridcolor\":\"white\",\"linecolor\":\"white\",\"ticks\":\"\"},\"baxis\":{\"gridcolor\":\"white\",\"linecolor\":\"white\",\"ticks\":\"\"},\"caxis\":{\"gridcolor\":\"white\",\"linecolor\":\"white\",\"ticks\":\"\"}},\"coloraxis\":{\"colorbar\":{\"outlinewidth\":0,\"ticks\":\"\"}},\"colorscale\":{\"sequential\":[[0.0,\"#0d0887\"],[0.1111111111111111,\"#46039f\"],[0.2222222222222222,\"#7201a8\"],[0.3333333333333333,\"#9c179e\"],[0.4444444444444444,\"#bd3786\"],[0.5555555555555556,\"#d8576b\"],[0.6666666666666666,\"#ed7953\"],[0.7777777777777778,\"#fb9f3a\"],[0.8888888888888888,\"#fdca26\"],[1.0,\"#f0f921\"]],\"sequentialminus\":[[0.0,\"#0d0887\"],[0.1111111111111111,\"#46039f\"],[0.2222222222222222,\"#7201a8\"],[0.3333333333333333,\"#9c179e\"],[0.4444444444444444,\"#bd3786\"],[0.5555555555555556,\"#d8576b\"],[0.6666666666666666,\"#ed7953\"],[0.7777777777777778,\"#fb9f3a\"],[0.8888888888888888,\"#fdca26\"],[1.0,\"#f0f921\"]],\"diverging\":[[0,\"#8e0152\"],[0.1,\"#c51b7d\"],[0.2,\"#de77ae\"],[0.3,\"#f1b6da\"],[0.4,\"#fde0ef\"],[0.5,\"#f7f7f7\"],[0.6,\"#e6f5d0\"],[0.7,\"#b8e186\"],[0.8,\"#7fbc41\"],[0.9,\"#4d9221\"],[1,\"#276419\"]]},\"xaxis\":{\"gridcolor\":\"white\",\"linecolor\":\"white\",\"ticks\":\"\",\"title\":{\"standoff\":15},\"zerolinecolor\":\"white\",\"automargin\":true,\"zerolinewidth\":2},\"yaxis\":{\"gridcolor\":\"white\",\"linecolor\":\"white\",\"ticks\":\"\",\"title\":{\"standoff\":15},\"zerolinecolor\":\"white\",\"automargin\":true,\"zerolinewidth\":2},\"scene\":{\"xaxis\":{\"backgroundcolor\":\"#E5ECF6\",\"gridcolor\":\"white\",\"linecolor\":\"white\",\"showbackground\":true,\"ticks\":\"\",\"zerolinecolor\":\"white\",\"gridwidth\":2},\"yaxis\":{\"backgroundcolor\":\"#E5ECF6\",\"gridcolor\":\"white\",\"linecolor\":\"white\",\"showbackground\":true,\"ticks\":\"\",\"zerolinecolor\":\"white\",\"gridwidth\":2},\"zaxis\":{\"backgroundcolor\":\"#E5ECF6\",\"gridcolor\":\"white\",\"linecolor\":\"white\",\"showbackground\":true,\"ticks\":\"\",\"zerolinecolor\":\"white\",\"gridwidth\":2}},\"shapedefaults\":{\"line\":{\"color\":\"#2a3f5f\"}},\"annotationdefaults\":{\"arrowcolor\":\"#2a3f5f\",\"arrowhead\":0,\"arrowwidth\":1},\"geo\":{\"bgcolor\":\"white\",\"landcolor\":\"#E5ECF6\",\"subunitcolor\":\"white\",\"showland\":true,\"showlakes\":true,\"lakecolor\":\"white\"},\"title\":{\"x\":0.05},\"mapbox\":{\"style\":\"light\"}}}},                        {\"responsive\": true}                    ).then(function(){\n",
              "                            \n",
              "var gd = document.getElementById('2707886e-02eb-4f10-8e7c-29d2f9a328aa');\n",
              "var x = new MutationObserver(function (mutations, observer) {{\n",
              "        var display = window.getComputedStyle(gd).display;\n",
              "        if (!display || display === 'none') {{\n",
              "            console.log([gd, 'removed!']);\n",
              "            Plotly.purge(gd);\n",
              "            observer.disconnect();\n",
              "        }}\n",
              "}});\n",
              "\n",
              "// Listen for the removal of the full notebook cells\n",
              "var notebookContainer = gd.closest('#notebook-container');\n",
              "if (notebookContainer) {{\n",
              "    x.observe(notebookContainer, {childList: true});\n",
              "}}\n",
              "\n",
              "// Listen for the clearing of the current output cell\n",
              "var outputEl = gd.closest('.output');\n",
              "if (outputEl) {{\n",
              "    x.observe(outputEl, {childList: true});\n",
              "}}\n",
              "\n",
              "                        })                };                            </script>        </div>\n",
              "</body>\n",
              "</html>"
            ]
          },
          "metadata": {}
        },
        {
          "output_type": "stream",
          "name": "stderr",
          "text": [
            "[W 2023-06-03 11:29:51,245] Your study has only completed trials with missing parameters.\n",
            "<ipython-input-119-ca043aa389dc>:44: FutureWarning:\n",
            "\n",
            "suggest_loguniform has been deprecated in v3.0.0. This feature will be removed in v6.0.0. See https://github.com/optuna/optuna/releases/tag/v3.0.0. Use suggest_float(..., log=True) instead.\n",
            "\n",
            "<ipython-input-119-ca043aa389dc>:76: FutureWarning:\n",
            "\n",
            "suggest_uniform has been deprecated in v3.0.0. This feature will be removed in v6.0.0. See https://github.com/optuna/optuna/releases/tag/v3.0.0. Use suggest_float instead.\n",
            "\n",
            "<ipython-input-119-ca043aa389dc>:161: FutureWarning:\n",
            "\n",
            "suggest_uniform has been deprecated in v3.0.0. This feature will be removed in v6.0.0. See https://github.com/optuna/optuna/releases/tag/v3.0.0. Use suggest_float instead.\n",
            "\n"
          ]
        },
        {
          "output_type": "stream",
          "name": "stdout",
          "text": [
            "Epoch 1/92.. Train loss: 45.329.. Val loss: 3.682.. Train L1 norm: 338.518.. Val L1 norm: 3.452.. Train Linf norm: 151136.191.. Val Linf norm: 743.198\n"
          ]
        },
        {
          "output_type": "stream",
          "name": "stderr",
          "text": [
            "[I 2023-06-03 11:29:56,879] Trial 11 pruned. \n"
          ]
        },
        {
          "output_type": "stream",
          "name": "stdout",
          "text": [
            "Epoch 2/92.. Train loss: 3.518.. Val loss: 3.643.. Train L1 norm: 5.841.. Val L1 norm: 4.064.. Train Linf norm: 1470.877.. Val Linf norm: 939.242\n"
          ]
        },
        {
          "output_type": "display_data",
          "data": {
            "text/html": [
              "<html>\n",
              "<head><meta charset=\"utf-8\" /></head>\n",
              "<body>\n",
              "    <div>            <script src=\"https://cdnjs.cloudflare.com/ajax/libs/mathjax/2.7.5/MathJax.js?config=TeX-AMS-MML_SVG\"></script><script type=\"text/javascript\">if (window.MathJax && window.MathJax.Hub && window.MathJax.Hub.Config) {window.MathJax.Hub.Config({SVG: {font: \"STIX-Web\"}});}</script>                <script type=\"text/javascript\">window.PlotlyConfig = {MathJaxConfig: 'local'};</script>\n",
              "        <script src=\"https://cdn.plot.ly/plotly-2.18.2.min.js\"></script>                <div id=\"cf2dd23b-568e-412b-b092-e667616e096e\" class=\"plotly-graph-div\" style=\"height:525px; width:100%;\"></div>            <script type=\"text/javascript\">                                    window.PLOTLYENV=window.PLOTLYENV || {};                                    if (document.getElementById(\"cf2dd23b-568e-412b-b092-e667616e096e\")) {                    Plotly.newPlot(                        \"cf2dd23b-568e-412b-b092-e667616e096e\",                        [{\"mode\":\"markers\",\"name\":\"Objective Value\",\"x\":[0,2,4,5,6,8],\"y\":[4.711850512695312,2.659428728802999,4.761943043263753,6.782888791402181,4.507622990544637,4.0549357006073],\"type\":\"scatter\"},{\"name\":\"Best Value\",\"x\":[0,2,4,5,6,8],\"y\":[4.711850512695312,2.659428728802999,2.659428728802999,2.659428728802999,2.659428728802999,2.659428728802999],\"type\":\"scatter\"}],                        {\"title\":{\"text\":\"Optimization History Plot\"},\"xaxis\":{\"title\":{\"text\":\"Trial\"}},\"yaxis\":{\"title\":{\"text\":\"Objective Value\"}},\"template\":{\"data\":{\"histogram2dcontour\":[{\"type\":\"histogram2dcontour\",\"colorbar\":{\"outlinewidth\":0,\"ticks\":\"\"},\"colorscale\":[[0.0,\"#0d0887\"],[0.1111111111111111,\"#46039f\"],[0.2222222222222222,\"#7201a8\"],[0.3333333333333333,\"#9c179e\"],[0.4444444444444444,\"#bd3786\"],[0.5555555555555556,\"#d8576b\"],[0.6666666666666666,\"#ed7953\"],[0.7777777777777778,\"#fb9f3a\"],[0.8888888888888888,\"#fdca26\"],[1.0,\"#f0f921\"]]}],\"choropleth\":[{\"type\":\"choropleth\",\"colorbar\":{\"outlinewidth\":0,\"ticks\":\"\"}}],\"histogram2d\":[{\"type\":\"histogram2d\",\"colorbar\":{\"outlinewidth\":0,\"ticks\":\"\"},\"colorscale\":[[0.0,\"#0d0887\"],[0.1111111111111111,\"#46039f\"],[0.2222222222222222,\"#7201a8\"],[0.3333333333333333,\"#9c179e\"],[0.4444444444444444,\"#bd3786\"],[0.5555555555555556,\"#d8576b\"],[0.6666666666666666,\"#ed7953\"],[0.7777777777777778,\"#fb9f3a\"],[0.8888888888888888,\"#fdca26\"],[1.0,\"#f0f921\"]]}],\"heatmap\":[{\"type\":\"heatmap\",\"colorbar\":{\"outlinewidth\":0,\"ticks\":\"\"},\"colorscale\":[[0.0,\"#0d0887\"],[0.1111111111111111,\"#46039f\"],[0.2222222222222222,\"#7201a8\"],[0.3333333333333333,\"#9c179e\"],[0.4444444444444444,\"#bd3786\"],[0.5555555555555556,\"#d8576b\"],[0.6666666666666666,\"#ed7953\"],[0.7777777777777778,\"#fb9f3a\"],[0.8888888888888888,\"#fdca26\"],[1.0,\"#f0f921\"]]}],\"heatmapgl\":[{\"type\":\"heatmapgl\",\"colorbar\":{\"outlinewidth\":0,\"ticks\":\"\"},\"colorscale\":[[0.0,\"#0d0887\"],[0.1111111111111111,\"#46039f\"],[0.2222222222222222,\"#7201a8\"],[0.3333333333333333,\"#9c179e\"],[0.4444444444444444,\"#bd3786\"],[0.5555555555555556,\"#d8576b\"],[0.6666666666666666,\"#ed7953\"],[0.7777777777777778,\"#fb9f3a\"],[0.8888888888888888,\"#fdca26\"],[1.0,\"#f0f921\"]]}],\"contourcarpet\":[{\"type\":\"contourcarpet\",\"colorbar\":{\"outlinewidth\":0,\"ticks\":\"\"}}],\"contour\":[{\"type\":\"contour\",\"colorbar\":{\"outlinewidth\":0,\"ticks\":\"\"},\"colorscale\":[[0.0,\"#0d0887\"],[0.1111111111111111,\"#46039f\"],[0.2222222222222222,\"#7201a8\"],[0.3333333333333333,\"#9c179e\"],[0.4444444444444444,\"#bd3786\"],[0.5555555555555556,\"#d8576b\"],[0.6666666666666666,\"#ed7953\"],[0.7777777777777778,\"#fb9f3a\"],[0.8888888888888888,\"#fdca26\"],[1.0,\"#f0f921\"]]}],\"surface\":[{\"type\":\"surface\",\"colorbar\":{\"outlinewidth\":0,\"ticks\":\"\"},\"colorscale\":[[0.0,\"#0d0887\"],[0.1111111111111111,\"#46039f\"],[0.2222222222222222,\"#7201a8\"],[0.3333333333333333,\"#9c179e\"],[0.4444444444444444,\"#bd3786\"],[0.5555555555555556,\"#d8576b\"],[0.6666666666666666,\"#ed7953\"],[0.7777777777777778,\"#fb9f3a\"],[0.8888888888888888,\"#fdca26\"],[1.0,\"#f0f921\"]]}],\"mesh3d\":[{\"type\":\"mesh3d\",\"colorbar\":{\"outlinewidth\":0,\"ticks\":\"\"}}],\"scatter\":[{\"fillpattern\":{\"fillmode\":\"overlay\",\"size\":10,\"solidity\":0.2},\"type\":\"scatter\"}],\"parcoords\":[{\"type\":\"parcoords\",\"line\":{\"colorbar\":{\"outlinewidth\":0,\"ticks\":\"\"}}}],\"scatterpolargl\":[{\"type\":\"scatterpolargl\",\"marker\":{\"colorbar\":{\"outlinewidth\":0,\"ticks\":\"\"}}}],\"bar\":[{\"error_x\":{\"color\":\"#2a3f5f\"},\"error_y\":{\"color\":\"#2a3f5f\"},\"marker\":{\"line\":{\"color\":\"#E5ECF6\",\"width\":0.5},\"pattern\":{\"fillmode\":\"overlay\",\"size\":10,\"solidity\":0.2}},\"type\":\"bar\"}],\"scattergeo\":[{\"type\":\"scattergeo\",\"marker\":{\"colorbar\":{\"outlinewidth\":0,\"ticks\":\"\"}}}],\"scatterpolar\":[{\"type\":\"scatterpolar\",\"marker\":{\"colorbar\":{\"outlinewidth\":0,\"ticks\":\"\"}}}],\"histogram\":[{\"marker\":{\"pattern\":{\"fillmode\":\"overlay\",\"size\":10,\"solidity\":0.2}},\"type\":\"histogram\"}],\"scattergl\":[{\"type\":\"scattergl\",\"marker\":{\"colorbar\":{\"outlinewidth\":0,\"ticks\":\"\"}}}],\"scatter3d\":[{\"type\":\"scatter3d\",\"line\":{\"colorbar\":{\"outlinewidth\":0,\"ticks\":\"\"}},\"marker\":{\"colorbar\":{\"outlinewidth\":0,\"ticks\":\"\"}}}],\"scattermapbox\":[{\"type\":\"scattermapbox\",\"marker\":{\"colorbar\":{\"outlinewidth\":0,\"ticks\":\"\"}}}],\"scatterternary\":[{\"type\":\"scatterternary\",\"marker\":{\"colorbar\":{\"outlinewidth\":0,\"ticks\":\"\"}}}],\"scattercarpet\":[{\"type\":\"scattercarpet\",\"marker\":{\"colorbar\":{\"outlinewidth\":0,\"ticks\":\"\"}}}],\"carpet\":[{\"aaxis\":{\"endlinecolor\":\"#2a3f5f\",\"gridcolor\":\"white\",\"linecolor\":\"white\",\"minorgridcolor\":\"white\",\"startlinecolor\":\"#2a3f5f\"},\"baxis\":{\"endlinecolor\":\"#2a3f5f\",\"gridcolor\":\"white\",\"linecolor\":\"white\",\"minorgridcolor\":\"white\",\"startlinecolor\":\"#2a3f5f\"},\"type\":\"carpet\"}],\"table\":[{\"cells\":{\"fill\":{\"color\":\"#EBF0F8\"},\"line\":{\"color\":\"white\"}},\"header\":{\"fill\":{\"color\":\"#C8D4E3\"},\"line\":{\"color\":\"white\"}},\"type\":\"table\"}],\"barpolar\":[{\"marker\":{\"line\":{\"color\":\"#E5ECF6\",\"width\":0.5},\"pattern\":{\"fillmode\":\"overlay\",\"size\":10,\"solidity\":0.2}},\"type\":\"barpolar\"}],\"pie\":[{\"automargin\":true,\"type\":\"pie\"}]},\"layout\":{\"autotypenumbers\":\"strict\",\"colorway\":[\"#636efa\",\"#EF553B\",\"#00cc96\",\"#ab63fa\",\"#FFA15A\",\"#19d3f3\",\"#FF6692\",\"#B6E880\",\"#FF97FF\",\"#FECB52\"],\"font\":{\"color\":\"#2a3f5f\"},\"hovermode\":\"closest\",\"hoverlabel\":{\"align\":\"left\"},\"paper_bgcolor\":\"white\",\"plot_bgcolor\":\"#E5ECF6\",\"polar\":{\"bgcolor\":\"#E5ECF6\",\"angularaxis\":{\"gridcolor\":\"white\",\"linecolor\":\"white\",\"ticks\":\"\"},\"radialaxis\":{\"gridcolor\":\"white\",\"linecolor\":\"white\",\"ticks\":\"\"}},\"ternary\":{\"bgcolor\":\"#E5ECF6\",\"aaxis\":{\"gridcolor\":\"white\",\"linecolor\":\"white\",\"ticks\":\"\"},\"baxis\":{\"gridcolor\":\"white\",\"linecolor\":\"white\",\"ticks\":\"\"},\"caxis\":{\"gridcolor\":\"white\",\"linecolor\":\"white\",\"ticks\":\"\"}},\"coloraxis\":{\"colorbar\":{\"outlinewidth\":0,\"ticks\":\"\"}},\"colorscale\":{\"sequential\":[[0.0,\"#0d0887\"],[0.1111111111111111,\"#46039f\"],[0.2222222222222222,\"#7201a8\"],[0.3333333333333333,\"#9c179e\"],[0.4444444444444444,\"#bd3786\"],[0.5555555555555556,\"#d8576b\"],[0.6666666666666666,\"#ed7953\"],[0.7777777777777778,\"#fb9f3a\"],[0.8888888888888888,\"#fdca26\"],[1.0,\"#f0f921\"]],\"sequentialminus\":[[0.0,\"#0d0887\"],[0.1111111111111111,\"#46039f\"],[0.2222222222222222,\"#7201a8\"],[0.3333333333333333,\"#9c179e\"],[0.4444444444444444,\"#bd3786\"],[0.5555555555555556,\"#d8576b\"],[0.6666666666666666,\"#ed7953\"],[0.7777777777777778,\"#fb9f3a\"],[0.8888888888888888,\"#fdca26\"],[1.0,\"#f0f921\"]],\"diverging\":[[0,\"#8e0152\"],[0.1,\"#c51b7d\"],[0.2,\"#de77ae\"],[0.3,\"#f1b6da\"],[0.4,\"#fde0ef\"],[0.5,\"#f7f7f7\"],[0.6,\"#e6f5d0\"],[0.7,\"#b8e186\"],[0.8,\"#7fbc41\"],[0.9,\"#4d9221\"],[1,\"#276419\"]]},\"xaxis\":{\"gridcolor\":\"white\",\"linecolor\":\"white\",\"ticks\":\"\",\"title\":{\"standoff\":15},\"zerolinecolor\":\"white\",\"automargin\":true,\"zerolinewidth\":2},\"yaxis\":{\"gridcolor\":\"white\",\"linecolor\":\"white\",\"ticks\":\"\",\"title\":{\"standoff\":15},\"zerolinecolor\":\"white\",\"automargin\":true,\"zerolinewidth\":2},\"scene\":{\"xaxis\":{\"backgroundcolor\":\"#E5ECF6\",\"gridcolor\":\"white\",\"linecolor\":\"white\",\"showbackground\":true,\"ticks\":\"\",\"zerolinecolor\":\"white\",\"gridwidth\":2},\"yaxis\":{\"backgroundcolor\":\"#E5ECF6\",\"gridcolor\":\"white\",\"linecolor\":\"white\",\"showbackground\":true,\"ticks\":\"\",\"zerolinecolor\":\"white\",\"gridwidth\":2},\"zaxis\":{\"backgroundcolor\":\"#E5ECF6\",\"gridcolor\":\"white\",\"linecolor\":\"white\",\"showbackground\":true,\"ticks\":\"\",\"zerolinecolor\":\"white\",\"gridwidth\":2}},\"shapedefaults\":{\"line\":{\"color\":\"#2a3f5f\"}},\"annotationdefaults\":{\"arrowcolor\":\"#2a3f5f\",\"arrowhead\":0,\"arrowwidth\":1},\"geo\":{\"bgcolor\":\"white\",\"landcolor\":\"#E5ECF6\",\"subunitcolor\":\"white\",\"showland\":true,\"showlakes\":true,\"lakecolor\":\"white\"},\"title\":{\"x\":0.05},\"mapbox\":{\"style\":\"light\"}}}},                        {\"responsive\": true}                    ).then(function(){\n",
              "                            \n",
              "var gd = document.getElementById('cf2dd23b-568e-412b-b092-e667616e096e');\n",
              "var x = new MutationObserver(function (mutations, observer) {{\n",
              "        var display = window.getComputedStyle(gd).display;\n",
              "        if (!display || display === 'none') {{\n",
              "            console.log([gd, 'removed!']);\n",
              "            Plotly.purge(gd);\n",
              "            observer.disconnect();\n",
              "        }}\n",
              "}});\n",
              "\n",
              "// Listen for the removal of the full notebook cells\n",
              "var notebookContainer = gd.closest('#notebook-container');\n",
              "if (notebookContainer) {{\n",
              "    x.observe(notebookContainer, {childList: true});\n",
              "}}\n",
              "\n",
              "// Listen for the clearing of the current output cell\n",
              "var outputEl = gd.closest('.output');\n",
              "if (outputEl) {{\n",
              "    x.observe(outputEl, {childList: true});\n",
              "}}\n",
              "\n",
              "                        })                };                            </script>        </div>\n",
              "</body>\n",
              "</html>"
            ]
          },
          "metadata": {}
        },
        {
          "output_type": "stream",
          "name": "stderr",
          "text": [
            "[W 2023-06-03 11:29:57,447] Your study has only completed trials with missing parameters.\n",
            "<ipython-input-119-ca043aa389dc>:44: FutureWarning:\n",
            "\n",
            "suggest_loguniform has been deprecated in v3.0.0. This feature will be removed in v6.0.0. See https://github.com/optuna/optuna/releases/tag/v3.0.0. Use suggest_float(..., log=True) instead.\n",
            "\n",
            "<ipython-input-119-ca043aa389dc>:73: FutureWarning:\n",
            "\n",
            "suggest_uniform has been deprecated in v3.0.0. This feature will be removed in v6.0.0. See https://github.com/optuna/optuna/releases/tag/v3.0.0. Use suggest_float instead.\n",
            "\n",
            "<ipython-input-119-ca043aa389dc>:76: FutureWarning:\n",
            "\n",
            "suggest_uniform has been deprecated in v3.0.0. This feature will be removed in v6.0.0. See https://github.com/optuna/optuna/releases/tag/v3.0.0. Use suggest_float instead.\n",
            "\n",
            "<ipython-input-119-ca043aa389dc>:168: FutureWarning:\n",
            "\n",
            "suggest_uniform has been deprecated in v3.0.0. This feature will be removed in v6.0.0. See https://github.com/optuna/optuna/releases/tag/v3.0.0. Use suggest_float instead.\n",
            "\n",
            "<ipython-input-119-ca043aa389dc>:175: FutureWarning:\n",
            "\n",
            "suggest_loguniform has been deprecated in v3.0.0. This feature will be removed in v6.0.0. See https://github.com/optuna/optuna/releases/tag/v3.0.0. Use suggest_float(..., log=True) instead.\n",
            "\n",
            "[I 2023-06-03 11:30:22,233] Trial 12 pruned. \n"
          ]
        },
        {
          "output_type": "stream",
          "name": "stdout",
          "text": [
            "Epoch 1/142.. Train loss: 2.154.. Val loss: 1.918.. Train L1 norm: 5.432.. Val L1 norm: 5.623.. Train Linf norm: 212.193.. Val Linf norm: 221.686\n"
          ]
        },
        {
          "output_type": "display_data",
          "data": {
            "text/html": [
              "<html>\n",
              "<head><meta charset=\"utf-8\" /></head>\n",
              "<body>\n",
              "    <div>            <script src=\"https://cdnjs.cloudflare.com/ajax/libs/mathjax/2.7.5/MathJax.js?config=TeX-AMS-MML_SVG\"></script><script type=\"text/javascript\">if (window.MathJax && window.MathJax.Hub && window.MathJax.Hub.Config) {window.MathJax.Hub.Config({SVG: {font: \"STIX-Web\"}});}</script>                <script type=\"text/javascript\">window.PlotlyConfig = {MathJaxConfig: 'local'};</script>\n",
              "        <script src=\"https://cdn.plot.ly/plotly-2.18.2.min.js\"></script>                <div id=\"ccd62da7-e224-46c1-9cc0-a4ae87da4937\" class=\"plotly-graph-div\" style=\"height:525px; width:100%;\"></div>            <script type=\"text/javascript\">                                    window.PLOTLYENV=window.PLOTLYENV || {};                                    if (document.getElementById(\"ccd62da7-e224-46c1-9cc0-a4ae87da4937\")) {                    Plotly.newPlot(                        \"ccd62da7-e224-46c1-9cc0-a4ae87da4937\",                        [{\"mode\":\"markers\",\"name\":\"Objective Value\",\"x\":[0,2,4,5,6,8],\"y\":[4.711850512695312,2.659428728802999,4.761943043263753,6.782888791402181,4.507622990544637,4.0549357006073],\"type\":\"scatter\"},{\"name\":\"Best Value\",\"x\":[0,2,4,5,6,8],\"y\":[4.711850512695312,2.659428728802999,2.659428728802999,2.659428728802999,2.659428728802999,2.659428728802999],\"type\":\"scatter\"}],                        {\"title\":{\"text\":\"Optimization History Plot\"},\"xaxis\":{\"title\":{\"text\":\"Trial\"}},\"yaxis\":{\"title\":{\"text\":\"Objective Value\"}},\"template\":{\"data\":{\"histogram2dcontour\":[{\"type\":\"histogram2dcontour\",\"colorbar\":{\"outlinewidth\":0,\"ticks\":\"\"},\"colorscale\":[[0.0,\"#0d0887\"],[0.1111111111111111,\"#46039f\"],[0.2222222222222222,\"#7201a8\"],[0.3333333333333333,\"#9c179e\"],[0.4444444444444444,\"#bd3786\"],[0.5555555555555556,\"#d8576b\"],[0.6666666666666666,\"#ed7953\"],[0.7777777777777778,\"#fb9f3a\"],[0.8888888888888888,\"#fdca26\"],[1.0,\"#f0f921\"]]}],\"choropleth\":[{\"type\":\"choropleth\",\"colorbar\":{\"outlinewidth\":0,\"ticks\":\"\"}}],\"histogram2d\":[{\"type\":\"histogram2d\",\"colorbar\":{\"outlinewidth\":0,\"ticks\":\"\"},\"colorscale\":[[0.0,\"#0d0887\"],[0.1111111111111111,\"#46039f\"],[0.2222222222222222,\"#7201a8\"],[0.3333333333333333,\"#9c179e\"],[0.4444444444444444,\"#bd3786\"],[0.5555555555555556,\"#d8576b\"],[0.6666666666666666,\"#ed7953\"],[0.7777777777777778,\"#fb9f3a\"],[0.8888888888888888,\"#fdca26\"],[1.0,\"#f0f921\"]]}],\"heatmap\":[{\"type\":\"heatmap\",\"colorbar\":{\"outlinewidth\":0,\"ticks\":\"\"},\"colorscale\":[[0.0,\"#0d0887\"],[0.1111111111111111,\"#46039f\"],[0.2222222222222222,\"#7201a8\"],[0.3333333333333333,\"#9c179e\"],[0.4444444444444444,\"#bd3786\"],[0.5555555555555556,\"#d8576b\"],[0.6666666666666666,\"#ed7953\"],[0.7777777777777778,\"#fb9f3a\"],[0.8888888888888888,\"#fdca26\"],[1.0,\"#f0f921\"]]}],\"heatmapgl\":[{\"type\":\"heatmapgl\",\"colorbar\":{\"outlinewidth\":0,\"ticks\":\"\"},\"colorscale\":[[0.0,\"#0d0887\"],[0.1111111111111111,\"#46039f\"],[0.2222222222222222,\"#7201a8\"],[0.3333333333333333,\"#9c179e\"],[0.4444444444444444,\"#bd3786\"],[0.5555555555555556,\"#d8576b\"],[0.6666666666666666,\"#ed7953\"],[0.7777777777777778,\"#fb9f3a\"],[0.8888888888888888,\"#fdca26\"],[1.0,\"#f0f921\"]]}],\"contourcarpet\":[{\"type\":\"contourcarpet\",\"colorbar\":{\"outlinewidth\":0,\"ticks\":\"\"}}],\"contour\":[{\"type\":\"contour\",\"colorbar\":{\"outlinewidth\":0,\"ticks\":\"\"},\"colorscale\":[[0.0,\"#0d0887\"],[0.1111111111111111,\"#46039f\"],[0.2222222222222222,\"#7201a8\"],[0.3333333333333333,\"#9c179e\"],[0.4444444444444444,\"#bd3786\"],[0.5555555555555556,\"#d8576b\"],[0.6666666666666666,\"#ed7953\"],[0.7777777777777778,\"#fb9f3a\"],[0.8888888888888888,\"#fdca26\"],[1.0,\"#f0f921\"]]}],\"surface\":[{\"type\":\"surface\",\"colorbar\":{\"outlinewidth\":0,\"ticks\":\"\"},\"colorscale\":[[0.0,\"#0d0887\"],[0.1111111111111111,\"#46039f\"],[0.2222222222222222,\"#7201a8\"],[0.3333333333333333,\"#9c179e\"],[0.4444444444444444,\"#bd3786\"],[0.5555555555555556,\"#d8576b\"],[0.6666666666666666,\"#ed7953\"],[0.7777777777777778,\"#fb9f3a\"],[0.8888888888888888,\"#fdca26\"],[1.0,\"#f0f921\"]]}],\"mesh3d\":[{\"type\":\"mesh3d\",\"colorbar\":{\"outlinewidth\":0,\"ticks\":\"\"}}],\"scatter\":[{\"fillpattern\":{\"fillmode\":\"overlay\",\"size\":10,\"solidity\":0.2},\"type\":\"scatter\"}],\"parcoords\":[{\"type\":\"parcoords\",\"line\":{\"colorbar\":{\"outlinewidth\":0,\"ticks\":\"\"}}}],\"scatterpolargl\":[{\"type\":\"scatterpolargl\",\"marker\":{\"colorbar\":{\"outlinewidth\":0,\"ticks\":\"\"}}}],\"bar\":[{\"error_x\":{\"color\":\"#2a3f5f\"},\"error_y\":{\"color\":\"#2a3f5f\"},\"marker\":{\"line\":{\"color\":\"#E5ECF6\",\"width\":0.5},\"pattern\":{\"fillmode\":\"overlay\",\"size\":10,\"solidity\":0.2}},\"type\":\"bar\"}],\"scattergeo\":[{\"type\":\"scattergeo\",\"marker\":{\"colorbar\":{\"outlinewidth\":0,\"ticks\":\"\"}}}],\"scatterpolar\":[{\"type\":\"scatterpolar\",\"marker\":{\"colorbar\":{\"outlinewidth\":0,\"ticks\":\"\"}}}],\"histogram\":[{\"marker\":{\"pattern\":{\"fillmode\":\"overlay\",\"size\":10,\"solidity\":0.2}},\"type\":\"histogram\"}],\"scattergl\":[{\"type\":\"scattergl\",\"marker\":{\"colorbar\":{\"outlinewidth\":0,\"ticks\":\"\"}}}],\"scatter3d\":[{\"type\":\"scatter3d\",\"line\":{\"colorbar\":{\"outlinewidth\":0,\"ticks\":\"\"}},\"marker\":{\"colorbar\":{\"outlinewidth\":0,\"ticks\":\"\"}}}],\"scattermapbox\":[{\"type\":\"scattermapbox\",\"marker\":{\"colorbar\":{\"outlinewidth\":0,\"ticks\":\"\"}}}],\"scatterternary\":[{\"type\":\"scatterternary\",\"marker\":{\"colorbar\":{\"outlinewidth\":0,\"ticks\":\"\"}}}],\"scattercarpet\":[{\"type\":\"scattercarpet\",\"marker\":{\"colorbar\":{\"outlinewidth\":0,\"ticks\":\"\"}}}],\"carpet\":[{\"aaxis\":{\"endlinecolor\":\"#2a3f5f\",\"gridcolor\":\"white\",\"linecolor\":\"white\",\"minorgridcolor\":\"white\",\"startlinecolor\":\"#2a3f5f\"},\"baxis\":{\"endlinecolor\":\"#2a3f5f\",\"gridcolor\":\"white\",\"linecolor\":\"white\",\"minorgridcolor\":\"white\",\"startlinecolor\":\"#2a3f5f\"},\"type\":\"carpet\"}],\"table\":[{\"cells\":{\"fill\":{\"color\":\"#EBF0F8\"},\"line\":{\"color\":\"white\"}},\"header\":{\"fill\":{\"color\":\"#C8D4E3\"},\"line\":{\"color\":\"white\"}},\"type\":\"table\"}],\"barpolar\":[{\"marker\":{\"line\":{\"color\":\"#E5ECF6\",\"width\":0.5},\"pattern\":{\"fillmode\":\"overlay\",\"size\":10,\"solidity\":0.2}},\"type\":\"barpolar\"}],\"pie\":[{\"automargin\":true,\"type\":\"pie\"}]},\"layout\":{\"autotypenumbers\":\"strict\",\"colorway\":[\"#636efa\",\"#EF553B\",\"#00cc96\",\"#ab63fa\",\"#FFA15A\",\"#19d3f3\",\"#FF6692\",\"#B6E880\",\"#FF97FF\",\"#FECB52\"],\"font\":{\"color\":\"#2a3f5f\"},\"hovermode\":\"closest\",\"hoverlabel\":{\"align\":\"left\"},\"paper_bgcolor\":\"white\",\"plot_bgcolor\":\"#E5ECF6\",\"polar\":{\"bgcolor\":\"#E5ECF6\",\"angularaxis\":{\"gridcolor\":\"white\",\"linecolor\":\"white\",\"ticks\":\"\"},\"radialaxis\":{\"gridcolor\":\"white\",\"linecolor\":\"white\",\"ticks\":\"\"}},\"ternary\":{\"bgcolor\":\"#E5ECF6\",\"aaxis\":{\"gridcolor\":\"white\",\"linecolor\":\"white\",\"ticks\":\"\"},\"baxis\":{\"gridcolor\":\"white\",\"linecolor\":\"white\",\"ticks\":\"\"},\"caxis\":{\"gridcolor\":\"white\",\"linecolor\":\"white\",\"ticks\":\"\"}},\"coloraxis\":{\"colorbar\":{\"outlinewidth\":0,\"ticks\":\"\"}},\"colorscale\":{\"sequential\":[[0.0,\"#0d0887\"],[0.1111111111111111,\"#46039f\"],[0.2222222222222222,\"#7201a8\"],[0.3333333333333333,\"#9c179e\"],[0.4444444444444444,\"#bd3786\"],[0.5555555555555556,\"#d8576b\"],[0.6666666666666666,\"#ed7953\"],[0.7777777777777778,\"#fb9f3a\"],[0.8888888888888888,\"#fdca26\"],[1.0,\"#f0f921\"]],\"sequentialminus\":[[0.0,\"#0d0887\"],[0.1111111111111111,\"#46039f\"],[0.2222222222222222,\"#7201a8\"],[0.3333333333333333,\"#9c179e\"],[0.4444444444444444,\"#bd3786\"],[0.5555555555555556,\"#d8576b\"],[0.6666666666666666,\"#ed7953\"],[0.7777777777777778,\"#fb9f3a\"],[0.8888888888888888,\"#fdca26\"],[1.0,\"#f0f921\"]],\"diverging\":[[0,\"#8e0152\"],[0.1,\"#c51b7d\"],[0.2,\"#de77ae\"],[0.3,\"#f1b6da\"],[0.4,\"#fde0ef\"],[0.5,\"#f7f7f7\"],[0.6,\"#e6f5d0\"],[0.7,\"#b8e186\"],[0.8,\"#7fbc41\"],[0.9,\"#4d9221\"],[1,\"#276419\"]]},\"xaxis\":{\"gridcolor\":\"white\",\"linecolor\":\"white\",\"ticks\":\"\",\"title\":{\"standoff\":15},\"zerolinecolor\":\"white\",\"automargin\":true,\"zerolinewidth\":2},\"yaxis\":{\"gridcolor\":\"white\",\"linecolor\":\"white\",\"ticks\":\"\",\"title\":{\"standoff\":15},\"zerolinecolor\":\"white\",\"automargin\":true,\"zerolinewidth\":2},\"scene\":{\"xaxis\":{\"backgroundcolor\":\"#E5ECF6\",\"gridcolor\":\"white\",\"linecolor\":\"white\",\"showbackground\":true,\"ticks\":\"\",\"zerolinecolor\":\"white\",\"gridwidth\":2},\"yaxis\":{\"backgroundcolor\":\"#E5ECF6\",\"gridcolor\":\"white\",\"linecolor\":\"white\",\"showbackground\":true,\"ticks\":\"\",\"zerolinecolor\":\"white\",\"gridwidth\":2},\"zaxis\":{\"backgroundcolor\":\"#E5ECF6\",\"gridcolor\":\"white\",\"linecolor\":\"white\",\"showbackground\":true,\"ticks\":\"\",\"zerolinecolor\":\"white\",\"gridwidth\":2}},\"shapedefaults\":{\"line\":{\"color\":\"#2a3f5f\"}},\"annotationdefaults\":{\"arrowcolor\":\"#2a3f5f\",\"arrowhead\":0,\"arrowwidth\":1},\"geo\":{\"bgcolor\":\"white\",\"landcolor\":\"#E5ECF6\",\"subunitcolor\":\"white\",\"showland\":true,\"showlakes\":true,\"lakecolor\":\"white\"},\"title\":{\"x\":0.05},\"mapbox\":{\"style\":\"light\"}}}},                        {\"responsive\": true}                    ).then(function(){\n",
              "                            \n",
              "var gd = document.getElementById('ccd62da7-e224-46c1-9cc0-a4ae87da4937');\n",
              "var x = new MutationObserver(function (mutations, observer) {{\n",
              "        var display = window.getComputedStyle(gd).display;\n",
              "        if (!display || display === 'none') {{\n",
              "            console.log([gd, 'removed!']);\n",
              "            Plotly.purge(gd);\n",
              "            observer.disconnect();\n",
              "        }}\n",
              "}});\n",
              "\n",
              "// Listen for the removal of the full notebook cells\n",
              "var notebookContainer = gd.closest('#notebook-container');\n",
              "if (notebookContainer) {{\n",
              "    x.observe(notebookContainer, {childList: true});\n",
              "}}\n",
              "\n",
              "// Listen for the clearing of the current output cell\n",
              "var outputEl = gd.closest('.output');\n",
              "if (outputEl) {{\n",
              "    x.observe(outputEl, {childList: true});\n",
              "}}\n",
              "\n",
              "                        })                };                            </script>        </div>\n",
              "</body>\n",
              "</html>"
            ]
          },
          "metadata": {}
        },
        {
          "output_type": "stream",
          "name": "stderr",
          "text": [
            "[W 2023-06-03 11:30:22,762] Your study has only completed trials with missing parameters.\n",
            "<ipython-input-119-ca043aa389dc>:44: FutureWarning:\n",
            "\n",
            "suggest_loguniform has been deprecated in v3.0.0. This feature will be removed in v6.0.0. See https://github.com/optuna/optuna/releases/tag/v3.0.0. Use suggest_float(..., log=True) instead.\n",
            "\n",
            "<ipython-input-119-ca043aa389dc>:58: FutureWarning:\n",
            "\n",
            "suggest_uniform has been deprecated in v3.0.0. This feature will be removed in v6.0.0. See https://github.com/optuna/optuna/releases/tag/v3.0.0. Use suggest_float instead.\n",
            "\n",
            "<ipython-input-119-ca043aa389dc>:76: FutureWarning:\n",
            "\n",
            "suggest_uniform has been deprecated in v3.0.0. This feature will be removed in v6.0.0. See https://github.com/optuna/optuna/releases/tag/v3.0.0. Use suggest_float instead.\n",
            "\n",
            "<ipython-input-119-ca043aa389dc>:145: FutureWarning:\n",
            "\n",
            "suggest_loguniform has been deprecated in v3.0.0. This feature will be removed in v6.0.0. See https://github.com/optuna/optuna/releases/tag/v3.0.0. Use suggest_float(..., log=True) instead.\n",
            "\n",
            "<ipython-input-119-ca043aa389dc>:146: FutureWarning:\n",
            "\n",
            "suggest_uniform has been deprecated in v3.0.0. This feature will be removed in v6.0.0. See https://github.com/optuna/optuna/releases/tag/v3.0.0. Use suggest_float instead.\n",
            "\n",
            "<ipython-input-119-ca043aa389dc>:178: FutureWarning:\n",
            "\n",
            "suggest_uniform has been deprecated in v3.0.0. This feature will be removed in v6.0.0. See https://github.com/optuna/optuna/releases/tag/v3.0.0. Use suggest_float instead.\n",
            "\n",
            "<ipython-input-119-ca043aa389dc>:180: FutureWarning:\n",
            "\n",
            "suggest_loguniform has been deprecated in v3.0.0. This feature will be removed in v6.0.0. See https://github.com/optuna/optuna/releases/tag/v3.0.0. Use suggest_float(..., log=True) instead.\n",
            "\n"
          ]
        },
        {
          "output_type": "stream",
          "name": "stdout",
          "text": [
            "Epoch 1/76.. Train loss: 2.407.. Val loss: 2.219.. Train L1 norm: 2.370.. Val L1 norm: 2.682.. Train Linf norm: 134.748.. Val Linf norm: 158.121\n",
            "Epoch 2/76.. Train loss: 2.360.. Val loss: 2.214.. Train L1 norm: 2.800.. Val L1 norm: 2.633.. Train Linf norm: 166.545.. Val Linf norm: 152.007\n",
            "Epoch 3/76.. Train loss: 2.355.. Val loss: 2.189.. Train L1 norm: 2.863.. Val L1 norm: 2.905.. Train Linf norm: 177.992.. Val Linf norm: 171.522\n",
            "Epoch 4/76.. Train loss: 2.341.. Val loss: 2.300.. Train L1 norm: 2.968.. Val L1 norm: 2.010.. Train Linf norm: 180.582.. Val Linf norm: 95.276\n",
            "Epoch 5/76.. Train loss: 2.298.. Val loss: 2.191.. Train L1 norm: 2.991.. Val L1 norm: 2.827.. Train Linf norm: 179.197.. Val Linf norm: 163.020\n",
            "Epoch 6/76.. Train loss: 2.300.. Val loss: 2.212.. Train L1 norm: 3.382.. Val L1 norm: 2.580.. Train Linf norm: 225.554.. Val Linf norm: 140.964\n",
            "Epoch 7/76.. Train loss: 2.292.. Val loss: 2.209.. Train L1 norm: 2.977.. Val L1 norm: 2.641.. Train Linf norm: 172.331.. Val Linf norm: 146.713\n",
            "Epoch 8/76.. Train loss: 2.286.. Val loss: 2.186.. Train L1 norm: 3.414.. Val L1 norm: 2.853.. Train Linf norm: 226.837.. Val Linf norm: 163.121\n",
            "Epoch 9/76.. Train loss: 2.264.. Val loss: 2.163.. Train L1 norm: 3.324.. Val L1 norm: 3.277.. Train Linf norm: 204.052.. Val Linf norm: 197.572\n",
            "Epoch 10/76.. Train loss: 2.296.. Val loss: 2.326.. Train L1 norm: 3.286.. Val L1 norm: 1.999.. Train Linf norm: 206.913.. Val Linf norm: 90.666\n",
            "Epoch 11/76.. Train loss: 2.267.. Val loss: 2.202.. Train L1 norm: 3.301.. Val L1 norm: 2.677.. Train Linf norm: 206.876.. Val Linf norm: 148.420\n",
            "Epoch 12/76.. Train loss: 2.275.. Val loss: 2.150.. Train L1 norm: 3.281.. Val L1 norm: 3.640.. Train Linf norm: 203.390.. Val Linf norm: 226.202\n",
            "Epoch 13/76.. Train loss: 2.244.. Val loss: 2.150.. Train L1 norm: 3.595.. Val L1 norm: 3.861.. Train Linf norm: 237.577.. Val Linf norm: 244.916\n",
            "Epoch 14/76.. Train loss: 2.280.. Val loss: 2.201.. Train L1 norm: 3.402.. Val L1 norm: 2.766.. Train Linf norm: 217.589.. Val Linf norm: 156.160\n",
            "Epoch 15/76.. Train loss: 2.254.. Val loss: 2.144.. Train L1 norm: 3.388.. Val L1 norm: 3.856.. Train Linf norm: 221.998.. Val Linf norm: 245.121\n",
            "Epoch 16/76.. Train loss: 2.281.. Val loss: 2.234.. Train L1 norm: 3.443.. Val L1 norm: 2.432.. Train Linf norm: 221.164.. Val Linf norm: 128.022\n",
            "Epoch 17/76.. Train loss: 2.257.. Val loss: 2.143.. Train L1 norm: 3.300.. Val L1 norm: 3.347.. Train Linf norm: 211.971.. Val Linf norm: 202.732\n",
            "Epoch 18/76.. Train loss: 2.238.. Val loss: 2.151.. Train L1 norm: 3.595.. Val L1 norm: 3.157.. Train Linf norm: 236.156.. Val Linf norm: 189.696\n",
            "Epoch 19/76.. Train loss: 2.246.. Val loss: 2.160.. Train L1 norm: 3.464.. Val L1 norm: 3.044.. Train Linf norm: 226.160.. Val Linf norm: 178.486\n",
            "Epoch 20/76.. Train loss: 2.200.. Val loss: 2.128.. Train L1 norm: 3.555.. Val L1 norm: 3.532.. Train Linf norm: 227.253.. Val Linf norm: 218.100\n",
            "Epoch 21/76.. Train loss: 2.227.. Val loss: 2.122.. Train L1 norm: 3.413.. Val L1 norm: 3.799.. Train Linf norm: 211.825.. Val Linf norm: 238.440\n",
            "Epoch 22/76.. Train loss: 2.210.. Val loss: 2.202.. Train L1 norm: 3.791.. Val L1 norm: 2.632.. Train Linf norm: 253.165.. Val Linf norm: 143.538\n",
            "Epoch 23/76.. Train loss: 2.212.. Val loss: 2.207.. Train L1 norm: 3.605.. Val L1 norm: 2.712.. Train Linf norm: 230.871.. Val Linf norm: 149.286\n",
            "Epoch 24/76.. Train loss: 2.220.. Val loss: 2.120.. Train L1 norm: 3.466.. Val L1 norm: 3.482.. Train Linf norm: 218.840.. Val Linf norm: 210.742\n",
            "Epoch 25/76.. Train loss: 2.228.. Val loss: 2.126.. Train L1 norm: 3.527.. Val L1 norm: 3.206.. Train Linf norm: 228.920.. Val Linf norm: 190.120\n",
            "Epoch 26/76.. Train loss: 2.193.. Val loss: 2.119.. Train L1 norm: 3.614.. Val L1 norm: 3.343.. Train Linf norm: 233.572.. Val Linf norm: 200.326\n",
            "Epoch 27/76.. Train loss: 2.223.. Val loss: 2.126.. Train L1 norm: 3.515.. Val L1 norm: 3.277.. Train Linf norm: 228.462.. Val Linf norm: 193.184\n",
            "Epoch 28/76.. Train loss: 2.183.. Val loss: 2.111.. Train L1 norm: 3.611.. Val L1 norm: 3.966.. Train Linf norm: 230.805.. Val Linf norm: 248.524\n",
            "Epoch 29/76.. Train loss: 2.151.. Val loss: 2.121.. Train L1 norm: 3.934.. Val L1 norm: 3.516.. Train Linf norm: 265.849.. Val Linf norm: 217.955\n",
            "Epoch 30/76.. Train loss: 2.182.. Val loss: 2.115.. Train L1 norm: 3.631.. Val L1 norm: 4.202.. Train Linf norm: 237.527.. Val Linf norm: 266.370\n",
            "Epoch 31/76.. Train loss: 2.158.. Val loss: 2.107.. Train L1 norm: 3.960.. Val L1 norm: 4.035.. Train Linf norm: 271.264.. Val Linf norm: 260.970\n",
            "Epoch 32/76.. Train loss: 2.184.. Val loss: 2.141.. Train L1 norm: 3.714.. Val L1 norm: 3.137.. Train Linf norm: 249.073.. Val Linf norm: 183.773\n",
            "Epoch 33/76.. Train loss: 2.176.. Val loss: 2.274.. Train L1 norm: 3.819.. Val L1 norm: 2.004.. Train Linf norm: 248.022.. Val Linf norm: 92.308\n",
            "Epoch 34/76.. Train loss: 2.181.. Val loss: 2.221.. Train L1 norm: 3.697.. Val L1 norm: 2.333.. Train Linf norm: 245.605.. Val Linf norm: 116.970\n",
            "Epoch 35/76.. Train loss: 2.171.. Val loss: 2.101.. Train L1 norm: 3.737.. Val L1 norm: 3.815.. Train Linf norm: 248.326.. Val Linf norm: 236.698\n",
            "Epoch 36/76.. Train loss: 2.162.. Val loss: 2.171.. Train L1 norm: 3.828.. Val L1 norm: 2.891.. Train Linf norm: 252.887.. Val Linf norm: 164.732\n",
            "Epoch 37/76.. Train loss: 2.174.. Val loss: 2.096.. Train L1 norm: 3.670.. Val L1 norm: 4.064.. Train Linf norm: 242.232.. Val Linf norm: 257.293\n",
            "Epoch 38/76.. Train loss: 2.158.. Val loss: 2.090.. Train L1 norm: 3.856.. Val L1 norm: 3.847.. Train Linf norm: 253.007.. Val Linf norm: 242.917\n",
            "Epoch 39/76.. Train loss: 2.175.. Val loss: 2.105.. Train L1 norm: 3.456.. Val L1 norm: 3.760.. Train Linf norm: 217.278.. Val Linf norm: 228.878\n",
            "Epoch 40/76.. Train loss: 2.152.. Val loss: 2.092.. Train L1 norm: 3.911.. Val L1 norm: 3.874.. Train Linf norm: 262.818.. Val Linf norm: 242.616\n",
            "Epoch 41/76.. Train loss: 2.161.. Val loss: 2.096.. Train L1 norm: 3.888.. Val L1 norm: 4.164.. Train Linf norm: 266.017.. Val Linf norm: 267.062\n",
            "Epoch 42/76.. Train loss: 2.140.. Val loss: 2.108.. Train L1 norm: 3.820.. Val L1 norm: 3.550.. Train Linf norm: 253.712.. Val Linf norm: 217.836\n",
            "Epoch 43/76.. Train loss: 2.152.. Val loss: 2.174.. Train L1 norm: 3.805.. Val L1 norm: 3.049.. Train Linf norm: 247.473.. Val Linf norm: 175.290\n",
            "Epoch 44/76.. Train loss: 2.149.. Val loss: 2.137.. Train L1 norm: 3.810.. Val L1 norm: 3.149.. Train Linf norm: 252.155.. Val Linf norm: 188.150\n",
            "Epoch 45/76.. Train loss: 2.111.. Val loss: 2.100.. Train L1 norm: 3.952.. Val L1 norm: 3.692.. Train Linf norm: 264.895.. Val Linf norm: 227.973\n",
            "Epoch 46/76.. Train loss: 2.114.. Val loss: 2.109.. Train L1 norm: 4.147.. Val L1 norm: 3.568.. Train Linf norm: 287.071.. Val Linf norm: 217.168\n",
            "Epoch 47/76.. Train loss: 2.102.. Val loss: 2.089.. Train L1 norm: 4.093.. Val L1 norm: 4.306.. Train Linf norm: 272.594.. Val Linf norm: 275.592\n",
            "Epoch 48/76.. Train loss: 2.089.. Val loss: 2.109.. Train L1 norm: 4.200.. Val L1 norm: 3.499.. Train Linf norm: 277.885.. Val Linf norm: 211.883\n",
            "Epoch 49/76.. Train loss: 2.089.. Val loss: 2.092.. Train L1 norm: 4.158.. Val L1 norm: 3.810.. Train Linf norm: 277.153.. Val Linf norm: 237.080\n",
            "Epoch 50/76.. Train loss: 2.112.. Val loss: 2.084.. Train L1 norm: 4.123.. Val L1 norm: 4.083.. Train Linf norm: 278.269.. Val Linf norm: 257.251\n",
            "Epoch 51/76.. Train loss: 2.102.. Val loss: 2.088.. Train L1 norm: 4.071.. Val L1 norm: 3.937.. Train Linf norm: 280.692.. Val Linf norm: 244.699\n",
            "Epoch 52/76.. Train loss: 2.099.. Val loss: 2.082.. Train L1 norm: 4.232.. Val L1 norm: 4.000.. Train Linf norm: 288.719.. Val Linf norm: 250.945\n",
            "Epoch 53/76.. Train loss: 2.094.. Val loss: 2.087.. Train L1 norm: 4.266.. Val L1 norm: 3.678.. Train Linf norm: 295.422.. Val Linf norm: 226.670\n",
            "Epoch 54/76.. Train loss: 2.099.. Val loss: 2.108.. Train L1 norm: 4.135.. Val L1 norm: 3.404.. Train Linf norm: 281.354.. Val Linf norm: 202.417\n",
            "Epoch 55/76.. Train loss: 2.110.. Val loss: 2.113.. Train L1 norm: 4.086.. Val L1 norm: 3.414.. Train Linf norm: 283.388.. Val Linf norm: 201.665\n",
            "Epoch 56/76.. Train loss: 2.109.. Val loss: 2.082.. Train L1 norm: 4.139.. Val L1 norm: 3.887.. Train Linf norm: 283.696.. Val Linf norm: 241.065\n",
            "Epoch 57/76.. Train loss: 2.100.. Val loss: 2.096.. Train L1 norm: 4.237.. Val L1 norm: 3.563.. Train Linf norm: 295.196.. Val Linf norm: 215.085\n",
            "Epoch 58/76.. Train loss: 2.092.. Val loss: 2.076.. Train L1 norm: 4.130.. Val L1 norm: 4.147.. Train Linf norm: 283.381.. Val Linf norm: 262.399\n",
            "Epoch 59/76.. Train loss: 2.086.. Val loss: 2.079.. Train L1 norm: 4.214.. Val L1 norm: 4.371.. Train Linf norm: 289.656.. Val Linf norm: 282.141\n",
            "Epoch 60/76.. Train loss: 2.103.. Val loss: 2.079.. Train L1 norm: 4.320.. Val L1 norm: 3.859.. Train Linf norm: 304.028.. Val Linf norm: 238.146\n",
            "Epoch 61/76.. Train loss: 2.090.. Val loss: 2.074.. Train L1 norm: 4.066.. Val L1 norm: 4.061.. Train Linf norm: 270.824.. Val Linf norm: 254.785\n",
            "Epoch 62/76.. Train loss: 2.101.. Val loss: 2.076.. Train L1 norm: 4.104.. Val L1 norm: 4.266.. Train Linf norm: 280.966.. Val Linf norm: 271.138\n",
            "Epoch 63/76.. Train loss: 2.091.. Val loss: 2.078.. Train L1 norm: 4.224.. Val L1 norm: 3.892.. Train Linf norm: 295.054.. Val Linf norm: 238.999\n",
            "Epoch 64/76.. Train loss: 2.096.. Val loss: 2.081.. Train L1 norm: 4.170.. Val L1 norm: 3.745.. Train Linf norm: 292.192.. Val Linf norm: 227.612\n",
            "Epoch 65/76.. Train loss: 2.093.. Val loss: 2.125.. Train L1 norm: 4.270.. Val L1 norm: 3.256.. Train Linf norm: 299.286.. Val Linf norm: 188.319\n",
            "Epoch 66/76.. Train loss: 2.087.. Val loss: 2.094.. Train L1 norm: 4.461.. Val L1 norm: 3.463.. Train Linf norm: 309.888.. Val Linf norm: 207.343\n",
            "Epoch 67/76.. Train loss: 2.088.. Val loss: 2.073.. Train L1 norm: 4.048.. Val L1 norm: 4.004.. Train Linf norm: 278.860.. Val Linf norm: 249.250\n",
            "Epoch 68/76.. Train loss: 2.087.. Val loss: 2.074.. Train L1 norm: 4.263.. Val L1 norm: 3.779.. Train Linf norm: 291.170.. Val Linf norm: 230.641\n",
            "Epoch 69/76.. Train loss: 2.079.. Val loss: 2.070.. Train L1 norm: 4.269.. Val L1 norm: 3.894.. Train Linf norm: 296.832.. Val Linf norm: 240.100\n",
            "Epoch 70/76.. Train loss: 2.080.. Val loss: 2.070.. Train L1 norm: 4.188.. Val L1 norm: 4.142.. Train Linf norm: 289.790.. Val Linf norm: 259.689\n",
            "Epoch 71/76.. Train loss: 2.093.. Val loss: 2.076.. Train L1 norm: 4.243.. Val L1 norm: 3.897.. Train Linf norm: 295.508.. Val Linf norm: 238.137\n",
            "Epoch 72/76.. Train loss: 2.075.. Val loss: 2.071.. Train L1 norm: 4.382.. Val L1 norm: 4.262.. Train Linf norm: 308.096.. Val Linf norm: 269.893\n",
            "Epoch 73/76.. Train loss: 2.088.. Val loss: 2.080.. Train L1 norm: 4.400.. Val L1 norm: 3.661.. Train Linf norm: 312.766.. Val Linf norm: 220.682\n",
            "Epoch 74/76.. Train loss: 2.091.. Val loss: 2.082.. Train L1 norm: 4.110.. Val L1 norm: 3.658.. Train Linf norm: 279.806.. Val Linf norm: 219.757\n",
            "Epoch 75/76.. Train loss: 2.073.. Val loss: 2.070.. Train L1 norm: 4.392.. Val L1 norm: 4.274.. Train Linf norm: 311.498.. Val Linf norm: 270.897\n"
          ]
        },
        {
          "output_type": "stream",
          "name": "stderr",
          "text": [
            "[I 2023-06-03 11:39:27,247] Trial 13 finished with value: 4.114479799524943 and parameters: {'n_layers': 5, 'n_units_0': 4059, 'n_units_1': 3056, 'n_units_2': 3136, 'n_units_3': 1516, 'n_units_4': 904, 'hidden_activation': 'LeakyReLU', 'output_activation': 'Linear', 'loss': 'Quantile', 'optimizer': 'SGD', 'lr': 0.00017478668454467823, 'batch_size': 128, 'n_epochs': 76, 'scheduler': 'ReduceLROnPlateau', 'leakyrelu_slope': 0.11346757325497342, 'dropout_rate': 0.04485782973252653, 'weight_decay': 1.2193359609646148e-05, 'momentum': 0.010896433761491464, 'factor': 0.24535404841086944, 'patience': 5, 'threshold': 0.00010095045286097001}. Best is trial 2 with value: 2.659428728802999.\n"
          ]
        },
        {
          "output_type": "stream",
          "name": "stdout",
          "text": [
            "Epoch 76/76.. Train loss: 2.057.. Val loss: 2.065.. Train L1 norm: 4.513.. Val L1 norm: 4.114.. Train Linf norm: 315.508.. Val Linf norm: 258.994\n"
          ]
        },
        {
          "output_type": "display_data",
          "data": {
            "text/html": [
              "<html>\n",
              "<head><meta charset=\"utf-8\" /></head>\n",
              "<body>\n",
              "    <div>            <script src=\"https://cdnjs.cloudflare.com/ajax/libs/mathjax/2.7.5/MathJax.js?config=TeX-AMS-MML_SVG\"></script><script type=\"text/javascript\">if (window.MathJax && window.MathJax.Hub && window.MathJax.Hub.Config) {window.MathJax.Hub.Config({SVG: {font: \"STIX-Web\"}});}</script>                <script type=\"text/javascript\">window.PlotlyConfig = {MathJaxConfig: 'local'};</script>\n",
              "        <script src=\"https://cdn.plot.ly/plotly-2.18.2.min.js\"></script>                <div id=\"43f69bbd-619c-4833-a675-8e88c86eeff7\" class=\"plotly-graph-div\" style=\"height:525px; width:100%;\"></div>            <script type=\"text/javascript\">                                    window.PLOTLYENV=window.PLOTLYENV || {};                                    if (document.getElementById(\"43f69bbd-619c-4833-a675-8e88c86eeff7\")) {                    Plotly.newPlot(                        \"43f69bbd-619c-4833-a675-8e88c86eeff7\",                        [{\"mode\":\"markers\",\"name\":\"Objective Value\",\"x\":[0,2,4,5,6,8,13],\"y\":[4.711850512695312,2.659428728802999,4.761943043263753,6.782888791402181,4.507622990544637,4.0549357006073,4.114479799524943],\"type\":\"scatter\"},{\"name\":\"Best Value\",\"x\":[0,2,4,5,6,8,13],\"y\":[4.711850512695312,2.659428728802999,2.659428728802999,2.659428728802999,2.659428728802999,2.659428728802999,2.659428728802999],\"type\":\"scatter\"}],                        {\"title\":{\"text\":\"Optimization History Plot\"},\"xaxis\":{\"title\":{\"text\":\"Trial\"}},\"yaxis\":{\"title\":{\"text\":\"Objective Value\"}},\"template\":{\"data\":{\"histogram2dcontour\":[{\"type\":\"histogram2dcontour\",\"colorbar\":{\"outlinewidth\":0,\"ticks\":\"\"},\"colorscale\":[[0.0,\"#0d0887\"],[0.1111111111111111,\"#46039f\"],[0.2222222222222222,\"#7201a8\"],[0.3333333333333333,\"#9c179e\"],[0.4444444444444444,\"#bd3786\"],[0.5555555555555556,\"#d8576b\"],[0.6666666666666666,\"#ed7953\"],[0.7777777777777778,\"#fb9f3a\"],[0.8888888888888888,\"#fdca26\"],[1.0,\"#f0f921\"]]}],\"choropleth\":[{\"type\":\"choropleth\",\"colorbar\":{\"outlinewidth\":0,\"ticks\":\"\"}}],\"histogram2d\":[{\"type\":\"histogram2d\",\"colorbar\":{\"outlinewidth\":0,\"ticks\":\"\"},\"colorscale\":[[0.0,\"#0d0887\"],[0.1111111111111111,\"#46039f\"],[0.2222222222222222,\"#7201a8\"],[0.3333333333333333,\"#9c179e\"],[0.4444444444444444,\"#bd3786\"],[0.5555555555555556,\"#d8576b\"],[0.6666666666666666,\"#ed7953\"],[0.7777777777777778,\"#fb9f3a\"],[0.8888888888888888,\"#fdca26\"],[1.0,\"#f0f921\"]]}],\"heatmap\":[{\"type\":\"heatmap\",\"colorbar\":{\"outlinewidth\":0,\"ticks\":\"\"},\"colorscale\":[[0.0,\"#0d0887\"],[0.1111111111111111,\"#46039f\"],[0.2222222222222222,\"#7201a8\"],[0.3333333333333333,\"#9c179e\"],[0.4444444444444444,\"#bd3786\"],[0.5555555555555556,\"#d8576b\"],[0.6666666666666666,\"#ed7953\"],[0.7777777777777778,\"#fb9f3a\"],[0.8888888888888888,\"#fdca26\"],[1.0,\"#f0f921\"]]}],\"heatmapgl\":[{\"type\":\"heatmapgl\",\"colorbar\":{\"outlinewidth\":0,\"ticks\":\"\"},\"colorscale\":[[0.0,\"#0d0887\"],[0.1111111111111111,\"#46039f\"],[0.2222222222222222,\"#7201a8\"],[0.3333333333333333,\"#9c179e\"],[0.4444444444444444,\"#bd3786\"],[0.5555555555555556,\"#d8576b\"],[0.6666666666666666,\"#ed7953\"],[0.7777777777777778,\"#fb9f3a\"],[0.8888888888888888,\"#fdca26\"],[1.0,\"#f0f921\"]]}],\"contourcarpet\":[{\"type\":\"contourcarpet\",\"colorbar\":{\"outlinewidth\":0,\"ticks\":\"\"}}],\"contour\":[{\"type\":\"contour\",\"colorbar\":{\"outlinewidth\":0,\"ticks\":\"\"},\"colorscale\":[[0.0,\"#0d0887\"],[0.1111111111111111,\"#46039f\"],[0.2222222222222222,\"#7201a8\"],[0.3333333333333333,\"#9c179e\"],[0.4444444444444444,\"#bd3786\"],[0.5555555555555556,\"#d8576b\"],[0.6666666666666666,\"#ed7953\"],[0.7777777777777778,\"#fb9f3a\"],[0.8888888888888888,\"#fdca26\"],[1.0,\"#f0f921\"]]}],\"surface\":[{\"type\":\"surface\",\"colorbar\":{\"outlinewidth\":0,\"ticks\":\"\"},\"colorscale\":[[0.0,\"#0d0887\"],[0.1111111111111111,\"#46039f\"],[0.2222222222222222,\"#7201a8\"],[0.3333333333333333,\"#9c179e\"],[0.4444444444444444,\"#bd3786\"],[0.5555555555555556,\"#d8576b\"],[0.6666666666666666,\"#ed7953\"],[0.7777777777777778,\"#fb9f3a\"],[0.8888888888888888,\"#fdca26\"],[1.0,\"#f0f921\"]]}],\"mesh3d\":[{\"type\":\"mesh3d\",\"colorbar\":{\"outlinewidth\":0,\"ticks\":\"\"}}],\"scatter\":[{\"fillpattern\":{\"fillmode\":\"overlay\",\"size\":10,\"solidity\":0.2},\"type\":\"scatter\"}],\"parcoords\":[{\"type\":\"parcoords\",\"line\":{\"colorbar\":{\"outlinewidth\":0,\"ticks\":\"\"}}}],\"scatterpolargl\":[{\"type\":\"scatterpolargl\",\"marker\":{\"colorbar\":{\"outlinewidth\":0,\"ticks\":\"\"}}}],\"bar\":[{\"error_x\":{\"color\":\"#2a3f5f\"},\"error_y\":{\"color\":\"#2a3f5f\"},\"marker\":{\"line\":{\"color\":\"#E5ECF6\",\"width\":0.5},\"pattern\":{\"fillmode\":\"overlay\",\"size\":10,\"solidity\":0.2}},\"type\":\"bar\"}],\"scattergeo\":[{\"type\":\"scattergeo\",\"marker\":{\"colorbar\":{\"outlinewidth\":0,\"ticks\":\"\"}}}],\"scatterpolar\":[{\"type\":\"scatterpolar\",\"marker\":{\"colorbar\":{\"outlinewidth\":0,\"ticks\":\"\"}}}],\"histogram\":[{\"marker\":{\"pattern\":{\"fillmode\":\"overlay\",\"size\":10,\"solidity\":0.2}},\"type\":\"histogram\"}],\"scattergl\":[{\"type\":\"scattergl\",\"marker\":{\"colorbar\":{\"outlinewidth\":0,\"ticks\":\"\"}}}],\"scatter3d\":[{\"type\":\"scatter3d\",\"line\":{\"colorbar\":{\"outlinewidth\":0,\"ticks\":\"\"}},\"marker\":{\"colorbar\":{\"outlinewidth\":0,\"ticks\":\"\"}}}],\"scattermapbox\":[{\"type\":\"scattermapbox\",\"marker\":{\"colorbar\":{\"outlinewidth\":0,\"ticks\":\"\"}}}],\"scatterternary\":[{\"type\":\"scatterternary\",\"marker\":{\"colorbar\":{\"outlinewidth\":0,\"ticks\":\"\"}}}],\"scattercarpet\":[{\"type\":\"scattercarpet\",\"marker\":{\"colorbar\":{\"outlinewidth\":0,\"ticks\":\"\"}}}],\"carpet\":[{\"aaxis\":{\"endlinecolor\":\"#2a3f5f\",\"gridcolor\":\"white\",\"linecolor\":\"white\",\"minorgridcolor\":\"white\",\"startlinecolor\":\"#2a3f5f\"},\"baxis\":{\"endlinecolor\":\"#2a3f5f\",\"gridcolor\":\"white\",\"linecolor\":\"white\",\"minorgridcolor\":\"white\",\"startlinecolor\":\"#2a3f5f\"},\"type\":\"carpet\"}],\"table\":[{\"cells\":{\"fill\":{\"color\":\"#EBF0F8\"},\"line\":{\"color\":\"white\"}},\"header\":{\"fill\":{\"color\":\"#C8D4E3\"},\"line\":{\"color\":\"white\"}},\"type\":\"table\"}],\"barpolar\":[{\"marker\":{\"line\":{\"color\":\"#E5ECF6\",\"width\":0.5},\"pattern\":{\"fillmode\":\"overlay\",\"size\":10,\"solidity\":0.2}},\"type\":\"barpolar\"}],\"pie\":[{\"automargin\":true,\"type\":\"pie\"}]},\"layout\":{\"autotypenumbers\":\"strict\",\"colorway\":[\"#636efa\",\"#EF553B\",\"#00cc96\",\"#ab63fa\",\"#FFA15A\",\"#19d3f3\",\"#FF6692\",\"#B6E880\",\"#FF97FF\",\"#FECB52\"],\"font\":{\"color\":\"#2a3f5f\"},\"hovermode\":\"closest\",\"hoverlabel\":{\"align\":\"left\"},\"paper_bgcolor\":\"white\",\"plot_bgcolor\":\"#E5ECF6\",\"polar\":{\"bgcolor\":\"#E5ECF6\",\"angularaxis\":{\"gridcolor\":\"white\",\"linecolor\":\"white\",\"ticks\":\"\"},\"radialaxis\":{\"gridcolor\":\"white\",\"linecolor\":\"white\",\"ticks\":\"\"}},\"ternary\":{\"bgcolor\":\"#E5ECF6\",\"aaxis\":{\"gridcolor\":\"white\",\"linecolor\":\"white\",\"ticks\":\"\"},\"baxis\":{\"gridcolor\":\"white\",\"linecolor\":\"white\",\"ticks\":\"\"},\"caxis\":{\"gridcolor\":\"white\",\"linecolor\":\"white\",\"ticks\":\"\"}},\"coloraxis\":{\"colorbar\":{\"outlinewidth\":0,\"ticks\":\"\"}},\"colorscale\":{\"sequential\":[[0.0,\"#0d0887\"],[0.1111111111111111,\"#46039f\"],[0.2222222222222222,\"#7201a8\"],[0.3333333333333333,\"#9c179e\"],[0.4444444444444444,\"#bd3786\"],[0.5555555555555556,\"#d8576b\"],[0.6666666666666666,\"#ed7953\"],[0.7777777777777778,\"#fb9f3a\"],[0.8888888888888888,\"#fdca26\"],[1.0,\"#f0f921\"]],\"sequentialminus\":[[0.0,\"#0d0887\"],[0.1111111111111111,\"#46039f\"],[0.2222222222222222,\"#7201a8\"],[0.3333333333333333,\"#9c179e\"],[0.4444444444444444,\"#bd3786\"],[0.5555555555555556,\"#d8576b\"],[0.6666666666666666,\"#ed7953\"],[0.7777777777777778,\"#fb9f3a\"],[0.8888888888888888,\"#fdca26\"],[1.0,\"#f0f921\"]],\"diverging\":[[0,\"#8e0152\"],[0.1,\"#c51b7d\"],[0.2,\"#de77ae\"],[0.3,\"#f1b6da\"],[0.4,\"#fde0ef\"],[0.5,\"#f7f7f7\"],[0.6,\"#e6f5d0\"],[0.7,\"#b8e186\"],[0.8,\"#7fbc41\"],[0.9,\"#4d9221\"],[1,\"#276419\"]]},\"xaxis\":{\"gridcolor\":\"white\",\"linecolor\":\"white\",\"ticks\":\"\",\"title\":{\"standoff\":15},\"zerolinecolor\":\"white\",\"automargin\":true,\"zerolinewidth\":2},\"yaxis\":{\"gridcolor\":\"white\",\"linecolor\":\"white\",\"ticks\":\"\",\"title\":{\"standoff\":15},\"zerolinecolor\":\"white\",\"automargin\":true,\"zerolinewidth\":2},\"scene\":{\"xaxis\":{\"backgroundcolor\":\"#E5ECF6\",\"gridcolor\":\"white\",\"linecolor\":\"white\",\"showbackground\":true,\"ticks\":\"\",\"zerolinecolor\":\"white\",\"gridwidth\":2},\"yaxis\":{\"backgroundcolor\":\"#E5ECF6\",\"gridcolor\":\"white\",\"linecolor\":\"white\",\"showbackground\":true,\"ticks\":\"\",\"zerolinecolor\":\"white\",\"gridwidth\":2},\"zaxis\":{\"backgroundcolor\":\"#E5ECF6\",\"gridcolor\":\"white\",\"linecolor\":\"white\",\"showbackground\":true,\"ticks\":\"\",\"zerolinecolor\":\"white\",\"gridwidth\":2}},\"shapedefaults\":{\"line\":{\"color\":\"#2a3f5f\"}},\"annotationdefaults\":{\"arrowcolor\":\"#2a3f5f\",\"arrowhead\":0,\"arrowwidth\":1},\"geo\":{\"bgcolor\":\"white\",\"landcolor\":\"#E5ECF6\",\"subunitcolor\":\"white\",\"showland\":true,\"showlakes\":true,\"lakecolor\":\"white\"},\"title\":{\"x\":0.05},\"mapbox\":{\"style\":\"light\"}}}},                        {\"responsive\": true}                    ).then(function(){\n",
              "                            \n",
              "var gd = document.getElementById('43f69bbd-619c-4833-a675-8e88c86eeff7');\n",
              "var x = new MutationObserver(function (mutations, observer) {{\n",
              "        var display = window.getComputedStyle(gd).display;\n",
              "        if (!display || display === 'none') {{\n",
              "            console.log([gd, 'removed!']);\n",
              "            Plotly.purge(gd);\n",
              "            observer.disconnect();\n",
              "        }}\n",
              "}});\n",
              "\n",
              "// Listen for the removal of the full notebook cells\n",
              "var notebookContainer = gd.closest('#notebook-container');\n",
              "if (notebookContainer) {{\n",
              "    x.observe(notebookContainer, {childList: true});\n",
              "}}\n",
              "\n",
              "// Listen for the clearing of the current output cell\n",
              "var outputEl = gd.closest('.output');\n",
              "if (outputEl) {{\n",
              "    x.observe(outputEl, {childList: true});\n",
              "}}\n",
              "\n",
              "                        })                };                            </script>        </div>\n",
              "</body>\n",
              "</html>"
            ]
          },
          "metadata": {}
        },
        {
          "output_type": "stream",
          "name": "stderr",
          "text": [
            "[W 2023-06-03 11:39:27,800] Your study has only completed trials with missing parameters.\n",
            "<ipython-input-119-ca043aa389dc>:44: FutureWarning:\n",
            "\n",
            "suggest_loguniform has been deprecated in v3.0.0. This feature will be removed in v6.0.0. See https://github.com/optuna/optuna/releases/tag/v3.0.0. Use suggest_float(..., log=True) instead.\n",
            "\n",
            "<ipython-input-119-ca043aa389dc>:76: FutureWarning:\n",
            "\n",
            "suggest_uniform has been deprecated in v3.0.0. This feature will be removed in v6.0.0. See https://github.com/optuna/optuna/releases/tag/v3.0.0. Use suggest_float instead.\n",
            "\n",
            "<ipython-input-119-ca043aa389dc>:145: FutureWarning:\n",
            "\n",
            "suggest_loguniform has been deprecated in v3.0.0. This feature will be removed in v6.0.0. See https://github.com/optuna/optuna/releases/tag/v3.0.0. Use suggest_float(..., log=True) instead.\n",
            "\n",
            "<ipython-input-119-ca043aa389dc>:146: FutureWarning:\n",
            "\n",
            "suggest_uniform has been deprecated in v3.0.0. This feature will be removed in v6.0.0. See https://github.com/optuna/optuna/releases/tag/v3.0.0. Use suggest_float instead.\n",
            "\n",
            "<ipython-input-119-ca043aa389dc>:161: FutureWarning:\n",
            "\n",
            "suggest_uniform has been deprecated in v3.0.0. This feature will be removed in v6.0.0. See https://github.com/optuna/optuna/releases/tag/v3.0.0. Use suggest_float instead.\n",
            "\n",
            "WARNING:tensorboardX.x2num:NaN or Inf found in input tensor.\n",
            "WARNING:tensorboardX.x2num:NaN or Inf found in input tensor.\n",
            "WARNING:tensorboardX.x2num:NaN or Inf found in input tensor.\n",
            "WARNING:tensorboardX.x2num:NaN or Inf found in input tensor.\n",
            "WARNING:tensorboardX.x2num:NaN or Inf found in input tensor.\n",
            "WARNING:tensorboardX.x2num:NaN or Inf found in input tensor.\n",
            "/usr/local/lib/python3.10/dist-packages/optuna/pruners/_percentile.py:20: RuntimeWarning:\n",
            "\n",
            "All-NaN slice encountered\n",
            "\n",
            "[I 2023-06-03 11:39:42,506] Trial 14 pruned. \n"
          ]
        },
        {
          "output_type": "stream",
          "name": "stdout",
          "text": [
            "Epoch 1/71.. Train loss: nan.. Val loss: nan.. Train L1 norm: nan.. Val L1 norm: nan.. Train Linf norm: nan.. Val Linf norm: nan\n"
          ]
        },
        {
          "output_type": "display_data",
          "data": {
            "text/html": [
              "<html>\n",
              "<head><meta charset=\"utf-8\" /></head>\n",
              "<body>\n",
              "    <div>            <script src=\"https://cdnjs.cloudflare.com/ajax/libs/mathjax/2.7.5/MathJax.js?config=TeX-AMS-MML_SVG\"></script><script type=\"text/javascript\">if (window.MathJax && window.MathJax.Hub && window.MathJax.Hub.Config) {window.MathJax.Hub.Config({SVG: {font: \"STIX-Web\"}});}</script>                <script type=\"text/javascript\">window.PlotlyConfig = {MathJaxConfig: 'local'};</script>\n",
              "        <script src=\"https://cdn.plot.ly/plotly-2.18.2.min.js\"></script>                <div id=\"c4740ced-e4d8-4be1-91b7-1f047e893ece\" class=\"plotly-graph-div\" style=\"height:525px; width:100%;\"></div>            <script type=\"text/javascript\">                                    window.PLOTLYENV=window.PLOTLYENV || {};                                    if (document.getElementById(\"c4740ced-e4d8-4be1-91b7-1f047e893ece\")) {                    Plotly.newPlot(                        \"c4740ced-e4d8-4be1-91b7-1f047e893ece\",                        [{\"mode\":\"markers\",\"name\":\"Objective Value\",\"x\":[0,2,4,5,6,8,13],\"y\":[4.711850512695312,2.659428728802999,4.761943043263753,6.782888791402181,4.507622990544637,4.0549357006073,4.114479799524943],\"type\":\"scatter\"},{\"name\":\"Best Value\",\"x\":[0,2,4,5,6,8,13],\"y\":[4.711850512695312,2.659428728802999,2.659428728802999,2.659428728802999,2.659428728802999,2.659428728802999,2.659428728802999],\"type\":\"scatter\"}],                        {\"title\":{\"text\":\"Optimization History Plot\"},\"xaxis\":{\"title\":{\"text\":\"Trial\"}},\"yaxis\":{\"title\":{\"text\":\"Objective Value\"}},\"template\":{\"data\":{\"histogram2dcontour\":[{\"type\":\"histogram2dcontour\",\"colorbar\":{\"outlinewidth\":0,\"ticks\":\"\"},\"colorscale\":[[0.0,\"#0d0887\"],[0.1111111111111111,\"#46039f\"],[0.2222222222222222,\"#7201a8\"],[0.3333333333333333,\"#9c179e\"],[0.4444444444444444,\"#bd3786\"],[0.5555555555555556,\"#d8576b\"],[0.6666666666666666,\"#ed7953\"],[0.7777777777777778,\"#fb9f3a\"],[0.8888888888888888,\"#fdca26\"],[1.0,\"#f0f921\"]]}],\"choropleth\":[{\"type\":\"choropleth\",\"colorbar\":{\"outlinewidth\":0,\"ticks\":\"\"}}],\"histogram2d\":[{\"type\":\"histogram2d\",\"colorbar\":{\"outlinewidth\":0,\"ticks\":\"\"},\"colorscale\":[[0.0,\"#0d0887\"],[0.1111111111111111,\"#46039f\"],[0.2222222222222222,\"#7201a8\"],[0.3333333333333333,\"#9c179e\"],[0.4444444444444444,\"#bd3786\"],[0.5555555555555556,\"#d8576b\"],[0.6666666666666666,\"#ed7953\"],[0.7777777777777778,\"#fb9f3a\"],[0.8888888888888888,\"#fdca26\"],[1.0,\"#f0f921\"]]}],\"heatmap\":[{\"type\":\"heatmap\",\"colorbar\":{\"outlinewidth\":0,\"ticks\":\"\"},\"colorscale\":[[0.0,\"#0d0887\"],[0.1111111111111111,\"#46039f\"],[0.2222222222222222,\"#7201a8\"],[0.3333333333333333,\"#9c179e\"],[0.4444444444444444,\"#bd3786\"],[0.5555555555555556,\"#d8576b\"],[0.6666666666666666,\"#ed7953\"],[0.7777777777777778,\"#fb9f3a\"],[0.8888888888888888,\"#fdca26\"],[1.0,\"#f0f921\"]]}],\"heatmapgl\":[{\"type\":\"heatmapgl\",\"colorbar\":{\"outlinewidth\":0,\"ticks\":\"\"},\"colorscale\":[[0.0,\"#0d0887\"],[0.1111111111111111,\"#46039f\"],[0.2222222222222222,\"#7201a8\"],[0.3333333333333333,\"#9c179e\"],[0.4444444444444444,\"#bd3786\"],[0.5555555555555556,\"#d8576b\"],[0.6666666666666666,\"#ed7953\"],[0.7777777777777778,\"#fb9f3a\"],[0.8888888888888888,\"#fdca26\"],[1.0,\"#f0f921\"]]}],\"contourcarpet\":[{\"type\":\"contourcarpet\",\"colorbar\":{\"outlinewidth\":0,\"ticks\":\"\"}}],\"contour\":[{\"type\":\"contour\",\"colorbar\":{\"outlinewidth\":0,\"ticks\":\"\"},\"colorscale\":[[0.0,\"#0d0887\"],[0.1111111111111111,\"#46039f\"],[0.2222222222222222,\"#7201a8\"],[0.3333333333333333,\"#9c179e\"],[0.4444444444444444,\"#bd3786\"],[0.5555555555555556,\"#d8576b\"],[0.6666666666666666,\"#ed7953\"],[0.7777777777777778,\"#fb9f3a\"],[0.8888888888888888,\"#fdca26\"],[1.0,\"#f0f921\"]]}],\"surface\":[{\"type\":\"surface\",\"colorbar\":{\"outlinewidth\":0,\"ticks\":\"\"},\"colorscale\":[[0.0,\"#0d0887\"],[0.1111111111111111,\"#46039f\"],[0.2222222222222222,\"#7201a8\"],[0.3333333333333333,\"#9c179e\"],[0.4444444444444444,\"#bd3786\"],[0.5555555555555556,\"#d8576b\"],[0.6666666666666666,\"#ed7953\"],[0.7777777777777778,\"#fb9f3a\"],[0.8888888888888888,\"#fdca26\"],[1.0,\"#f0f921\"]]}],\"mesh3d\":[{\"type\":\"mesh3d\",\"colorbar\":{\"outlinewidth\":0,\"ticks\":\"\"}}],\"scatter\":[{\"fillpattern\":{\"fillmode\":\"overlay\",\"size\":10,\"solidity\":0.2},\"type\":\"scatter\"}],\"parcoords\":[{\"type\":\"parcoords\",\"line\":{\"colorbar\":{\"outlinewidth\":0,\"ticks\":\"\"}}}],\"scatterpolargl\":[{\"type\":\"scatterpolargl\",\"marker\":{\"colorbar\":{\"outlinewidth\":0,\"ticks\":\"\"}}}],\"bar\":[{\"error_x\":{\"color\":\"#2a3f5f\"},\"error_y\":{\"color\":\"#2a3f5f\"},\"marker\":{\"line\":{\"color\":\"#E5ECF6\",\"width\":0.5},\"pattern\":{\"fillmode\":\"overlay\",\"size\":10,\"solidity\":0.2}},\"type\":\"bar\"}],\"scattergeo\":[{\"type\":\"scattergeo\",\"marker\":{\"colorbar\":{\"outlinewidth\":0,\"ticks\":\"\"}}}],\"scatterpolar\":[{\"type\":\"scatterpolar\",\"marker\":{\"colorbar\":{\"outlinewidth\":0,\"ticks\":\"\"}}}],\"histogram\":[{\"marker\":{\"pattern\":{\"fillmode\":\"overlay\",\"size\":10,\"solidity\":0.2}},\"type\":\"histogram\"}],\"scattergl\":[{\"type\":\"scattergl\",\"marker\":{\"colorbar\":{\"outlinewidth\":0,\"ticks\":\"\"}}}],\"scatter3d\":[{\"type\":\"scatter3d\",\"line\":{\"colorbar\":{\"outlinewidth\":0,\"ticks\":\"\"}},\"marker\":{\"colorbar\":{\"outlinewidth\":0,\"ticks\":\"\"}}}],\"scattermapbox\":[{\"type\":\"scattermapbox\",\"marker\":{\"colorbar\":{\"outlinewidth\":0,\"ticks\":\"\"}}}],\"scatterternary\":[{\"type\":\"scatterternary\",\"marker\":{\"colorbar\":{\"outlinewidth\":0,\"ticks\":\"\"}}}],\"scattercarpet\":[{\"type\":\"scattercarpet\",\"marker\":{\"colorbar\":{\"outlinewidth\":0,\"ticks\":\"\"}}}],\"carpet\":[{\"aaxis\":{\"endlinecolor\":\"#2a3f5f\",\"gridcolor\":\"white\",\"linecolor\":\"white\",\"minorgridcolor\":\"white\",\"startlinecolor\":\"#2a3f5f\"},\"baxis\":{\"endlinecolor\":\"#2a3f5f\",\"gridcolor\":\"white\",\"linecolor\":\"white\",\"minorgridcolor\":\"white\",\"startlinecolor\":\"#2a3f5f\"},\"type\":\"carpet\"}],\"table\":[{\"cells\":{\"fill\":{\"color\":\"#EBF0F8\"},\"line\":{\"color\":\"white\"}},\"header\":{\"fill\":{\"color\":\"#C8D4E3\"},\"line\":{\"color\":\"white\"}},\"type\":\"table\"}],\"barpolar\":[{\"marker\":{\"line\":{\"color\":\"#E5ECF6\",\"width\":0.5},\"pattern\":{\"fillmode\":\"overlay\",\"size\":10,\"solidity\":0.2}},\"type\":\"barpolar\"}],\"pie\":[{\"automargin\":true,\"type\":\"pie\"}]},\"layout\":{\"autotypenumbers\":\"strict\",\"colorway\":[\"#636efa\",\"#EF553B\",\"#00cc96\",\"#ab63fa\",\"#FFA15A\",\"#19d3f3\",\"#FF6692\",\"#B6E880\",\"#FF97FF\",\"#FECB52\"],\"font\":{\"color\":\"#2a3f5f\"},\"hovermode\":\"closest\",\"hoverlabel\":{\"align\":\"left\"},\"paper_bgcolor\":\"white\",\"plot_bgcolor\":\"#E5ECF6\",\"polar\":{\"bgcolor\":\"#E5ECF6\",\"angularaxis\":{\"gridcolor\":\"white\",\"linecolor\":\"white\",\"ticks\":\"\"},\"radialaxis\":{\"gridcolor\":\"white\",\"linecolor\":\"white\",\"ticks\":\"\"}},\"ternary\":{\"bgcolor\":\"#E5ECF6\",\"aaxis\":{\"gridcolor\":\"white\",\"linecolor\":\"white\",\"ticks\":\"\"},\"baxis\":{\"gridcolor\":\"white\",\"linecolor\":\"white\",\"ticks\":\"\"},\"caxis\":{\"gridcolor\":\"white\",\"linecolor\":\"white\",\"ticks\":\"\"}},\"coloraxis\":{\"colorbar\":{\"outlinewidth\":0,\"ticks\":\"\"}},\"colorscale\":{\"sequential\":[[0.0,\"#0d0887\"],[0.1111111111111111,\"#46039f\"],[0.2222222222222222,\"#7201a8\"],[0.3333333333333333,\"#9c179e\"],[0.4444444444444444,\"#bd3786\"],[0.5555555555555556,\"#d8576b\"],[0.6666666666666666,\"#ed7953\"],[0.7777777777777778,\"#fb9f3a\"],[0.8888888888888888,\"#fdca26\"],[1.0,\"#f0f921\"]],\"sequentialminus\":[[0.0,\"#0d0887\"],[0.1111111111111111,\"#46039f\"],[0.2222222222222222,\"#7201a8\"],[0.3333333333333333,\"#9c179e\"],[0.4444444444444444,\"#bd3786\"],[0.5555555555555556,\"#d8576b\"],[0.6666666666666666,\"#ed7953\"],[0.7777777777777778,\"#fb9f3a\"],[0.8888888888888888,\"#fdca26\"],[1.0,\"#f0f921\"]],\"diverging\":[[0,\"#8e0152\"],[0.1,\"#c51b7d\"],[0.2,\"#de77ae\"],[0.3,\"#f1b6da\"],[0.4,\"#fde0ef\"],[0.5,\"#f7f7f7\"],[0.6,\"#e6f5d0\"],[0.7,\"#b8e186\"],[0.8,\"#7fbc41\"],[0.9,\"#4d9221\"],[1,\"#276419\"]]},\"xaxis\":{\"gridcolor\":\"white\",\"linecolor\":\"white\",\"ticks\":\"\",\"title\":{\"standoff\":15},\"zerolinecolor\":\"white\",\"automargin\":true,\"zerolinewidth\":2},\"yaxis\":{\"gridcolor\":\"white\",\"linecolor\":\"white\",\"ticks\":\"\",\"title\":{\"standoff\":15},\"zerolinecolor\":\"white\",\"automargin\":true,\"zerolinewidth\":2},\"scene\":{\"xaxis\":{\"backgroundcolor\":\"#E5ECF6\",\"gridcolor\":\"white\",\"linecolor\":\"white\",\"showbackground\":true,\"ticks\":\"\",\"zerolinecolor\":\"white\",\"gridwidth\":2},\"yaxis\":{\"backgroundcolor\":\"#E5ECF6\",\"gridcolor\":\"white\",\"linecolor\":\"white\",\"showbackground\":true,\"ticks\":\"\",\"zerolinecolor\":\"white\",\"gridwidth\":2},\"zaxis\":{\"backgroundcolor\":\"#E5ECF6\",\"gridcolor\":\"white\",\"linecolor\":\"white\",\"showbackground\":true,\"ticks\":\"\",\"zerolinecolor\":\"white\",\"gridwidth\":2}},\"shapedefaults\":{\"line\":{\"color\":\"#2a3f5f\"}},\"annotationdefaults\":{\"arrowcolor\":\"#2a3f5f\",\"arrowhead\":0,\"arrowwidth\":1},\"geo\":{\"bgcolor\":\"white\",\"landcolor\":\"#E5ECF6\",\"subunitcolor\":\"white\",\"showland\":true,\"showlakes\":true,\"lakecolor\":\"white\"},\"title\":{\"x\":0.05},\"mapbox\":{\"style\":\"light\"}}}},                        {\"responsive\": true}                    ).then(function(){\n",
              "                            \n",
              "var gd = document.getElementById('c4740ced-e4d8-4be1-91b7-1f047e893ece');\n",
              "var x = new MutationObserver(function (mutations, observer) {{\n",
              "        var display = window.getComputedStyle(gd).display;\n",
              "        if (!display || display === 'none') {{\n",
              "            console.log([gd, 'removed!']);\n",
              "            Plotly.purge(gd);\n",
              "            observer.disconnect();\n",
              "        }}\n",
              "}});\n",
              "\n",
              "// Listen for the removal of the full notebook cells\n",
              "var notebookContainer = gd.closest('#notebook-container');\n",
              "if (notebookContainer) {{\n",
              "    x.observe(notebookContainer, {childList: true});\n",
              "}}\n",
              "\n",
              "// Listen for the clearing of the current output cell\n",
              "var outputEl = gd.closest('.output');\n",
              "if (outputEl) {{\n",
              "    x.observe(outputEl, {childList: true});\n",
              "}}\n",
              "\n",
              "                        })                };                            </script>        </div>\n",
              "</body>\n",
              "</html>"
            ]
          },
          "metadata": {}
        },
        {
          "output_type": "stream",
          "name": "stderr",
          "text": [
            "[W 2023-06-03 11:39:43,054] Your study has only completed trials with missing parameters.\n",
            "<ipython-input-119-ca043aa389dc>:44: FutureWarning:\n",
            "\n",
            "suggest_loguniform has been deprecated in v3.0.0. This feature will be removed in v6.0.0. See https://github.com/optuna/optuna/releases/tag/v3.0.0. Use suggest_float(..., log=True) instead.\n",
            "\n",
            "<ipython-input-119-ca043aa389dc>:58: FutureWarning:\n",
            "\n",
            "suggest_uniform has been deprecated in v3.0.0. This feature will be removed in v6.0.0. See https://github.com/optuna/optuna/releases/tag/v3.0.0. Use suggest_float instead.\n",
            "\n",
            "<ipython-input-119-ca043aa389dc>:76: FutureWarning:\n",
            "\n",
            "suggest_uniform has been deprecated in v3.0.0. This feature will be removed in v6.0.0. See https://github.com/optuna/optuna/releases/tag/v3.0.0. Use suggest_float instead.\n",
            "\n",
            "<ipython-input-119-ca043aa389dc>:178: FutureWarning:\n",
            "\n",
            "suggest_uniform has been deprecated in v3.0.0. This feature will be removed in v6.0.0. See https://github.com/optuna/optuna/releases/tag/v3.0.0. Use suggest_float instead.\n",
            "\n",
            "<ipython-input-119-ca043aa389dc>:180: FutureWarning:\n",
            "\n",
            "suggest_loguniform has been deprecated in v3.0.0. This feature will be removed in v6.0.0. See https://github.com/optuna/optuna/releases/tag/v3.0.0. Use suggest_float(..., log=True) instead.\n",
            "\n"
          ]
        },
        {
          "output_type": "stream",
          "name": "stdout",
          "text": [
            "Epoch 1/50.. Train loss: 2.935.. Val loss: 2.221.. Train L1 norm: 4.855.. Val L1 norm: 2.764.. Train Linf norm: 1775.005.. Val Linf norm: 866.657\n",
            "Epoch 2/50.. Train loss: 2.351.. Val loss: 2.175.. Train L1 norm: 3.475.. Val L1 norm: 3.961.. Train Linf norm: 1250.133.. Val Linf norm: 1298.653\n",
            "Epoch 3/50.. Train loss: 2.372.. Val loss: 2.146.. Train L1 norm: 3.184.. Val L1 norm: 3.495.. Train Linf norm: 1033.840.. Val Linf norm: 1102.896\n",
            "Epoch 4/50.. Train loss: 2.344.. Val loss: 2.153.. Train L1 norm: 3.264.. Val L1 norm: 2.963.. Train Linf norm: 1022.458.. Val Linf norm: 871.542\n",
            "Epoch 5/50.. Train loss: 2.336.. Val loss: 2.125.. Train L1 norm: 3.514.. Val L1 norm: 3.711.. Train Linf norm: 1282.282.. Val Linf norm: 1161.674\n",
            "Epoch 6/50.. Train loss: 2.290.. Val loss: 2.115.. Train L1 norm: 3.952.. Val L1 norm: 3.408.. Train Linf norm: 1532.395.. Val Linf norm: 1067.653\n",
            "Epoch 7/50.. Train loss: 2.255.. Val loss: 2.112.. Train L1 norm: 3.914.. Val L1 norm: 3.212.. Train Linf norm: 1394.881.. Val Linf norm: 1014.016\n",
            "Epoch 8/50.. Train loss: 2.219.. Val loss: 2.077.. Train L1 norm: 4.141.. Val L1 norm: 4.047.. Train Linf norm: 1586.334.. Val Linf norm: 1330.510\n",
            "Epoch 9/50.. Train loss: 2.218.. Val loss: 2.091.. Train L1 norm: 4.268.. Val L1 norm: 3.923.. Train Linf norm: 1601.917.. Val Linf norm: 1270.146\n",
            "Epoch 10/50.. Train loss: 2.211.. Val loss: 2.089.. Train L1 norm: 4.229.. Val L1 norm: 4.171.. Train Linf norm: 1602.362.. Val Linf norm: 1415.532\n",
            "Epoch 11/50.. Train loss: 2.237.. Val loss: 2.086.. Train L1 norm: 4.199.. Val L1 norm: 4.250.. Train Linf norm: 1651.172.. Val Linf norm: 1389.444\n",
            "Epoch 12/50.. Train loss: 2.181.. Val loss: 2.047.. Train L1 norm: 4.712.. Val L1 norm: 4.672.. Train Linf norm: 2008.526.. Val Linf norm: 1618.850\n",
            "Epoch 13/50.. Train loss: 2.170.. Val loss: 2.046.. Train L1 norm: 4.710.. Val L1 norm: 4.704.. Train Linf norm: 2045.295.. Val Linf norm: 1645.194\n",
            "Epoch 14/50.. Train loss: 2.196.. Val loss: 2.051.. Train L1 norm: 4.723.. Val L1 norm: 5.033.. Train Linf norm: 1848.273.. Val Linf norm: 1787.040\n",
            "Epoch 15/50.. Train loss: 2.183.. Val loss: 2.057.. Train L1 norm: 4.248.. Val L1 norm: 4.560.. Train Linf norm: 1474.069.. Val Linf norm: 1551.872\n",
            "Epoch 16/50.. Train loss: 2.156.. Val loss: 2.159.. Train L1 norm: 4.812.. Val L1 norm: 3.027.. Train Linf norm: 1869.142.. Val Linf norm: 986.845\n",
            "Epoch 17/50.. Train loss: 2.140.. Val loss: 2.039.. Train L1 norm: 4.920.. Val L1 norm: 4.534.. Train Linf norm: 2121.970.. Val Linf norm: 1628.465\n",
            "Epoch 18/50.. Train loss: 2.162.. Val loss: 2.035.. Train L1 norm: 4.903.. Val L1 norm: 4.963.. Train Linf norm: 1927.549.. Val Linf norm: 1762.895\n",
            "Epoch 19/50.. Train loss: 2.127.. Val loss: 2.050.. Train L1 norm: 5.093.. Val L1 norm: 4.089.. Train Linf norm: 2139.697.. Val Linf norm: 1441.783\n",
            "Epoch 20/50.. Train loss: 2.143.. Val loss: 2.097.. Train L1 norm: 4.983.. Val L1 norm: 3.789.. Train Linf norm: 2028.178.. Val Linf norm: 1347.222\n",
            "Epoch 21/50.. Train loss: 2.119.. Val loss: 4.227.. Train L1 norm: 5.128.. Val L1 norm: 4.368.. Train Linf norm: 2167.702.. Val Linf norm: 1133.135\n",
            "Epoch 22/50.. Train loss: 2.197.. Val loss: 1.993.. Train L1 norm: 5.254.. Val L1 norm: 4.854.. Train Linf norm: 2178.689.. Val Linf norm: 1795.306\n",
            "Epoch 23/50.. Train loss: 2.073.. Val loss: 2.018.. Train L1 norm: 5.278.. Val L1 norm: 4.373.. Train Linf norm: 2281.149.. Val Linf norm: 1665.758\n",
            "Epoch 24/50.. Train loss: 2.118.. Val loss: 2.010.. Train L1 norm: 5.010.. Val L1 norm: 5.286.. Train Linf norm: 1994.801.. Val Linf norm: 1898.803\n",
            "Epoch 25/50.. Train loss: 2.085.. Val loss: 1.998.. Train L1 norm: 5.414.. Val L1 norm: 4.533.. Train Linf norm: 2436.175.. Val Linf norm: 1689.247\n",
            "Epoch 26/50.. Train loss: 2.081.. Val loss: 1.976.. Train L1 norm: 5.405.. Val L1 norm: 4.929.. Train Linf norm: 2395.560.. Val Linf norm: 1839.233\n",
            "Epoch 27/50.. Train loss: 2.074.. Val loss: 2.159.. Train L1 norm: 5.591.. Val L1 norm: 3.739.. Train Linf norm: 2454.809.. Val Linf norm: 1294.174\n",
            "Epoch 28/50.. Train loss: 2.101.. Val loss: 2.292.. Train L1 norm: 5.250.. Val L1 norm: 3.524.. Train Linf norm: 2179.871.. Val Linf norm: 1201.335\n",
            "Epoch 29/50.. Train loss: 2.075.. Val loss: 1.995.. Train L1 norm: 5.650.. Val L1 norm: 5.454.. Train Linf norm: 2450.511.. Val Linf norm: 2033.830\n",
            "Epoch 30/50.. Train loss: 2.058.. Val loss: 1.996.. Train L1 norm: 5.332.. Val L1 norm: 4.920.. Train Linf norm: 2181.419.. Val Linf norm: 1827.950\n",
            "Epoch 31/50.. Train loss: 2.069.. Val loss: 1.984.. Train L1 norm: 5.427.. Val L1 norm: 4.884.. Train Linf norm: 2388.214.. Val Linf norm: 1785.579\n",
            "Epoch 32/50.. Train loss: 2.087.. Val loss: 2.044.. Train L1 norm: 5.709.. Val L1 norm: 4.526.. Train Linf norm: 2487.187.. Val Linf norm: 1754.101\n",
            "Epoch 33/50.. Train loss: 2.086.. Val loss: 1.973.. Train L1 norm: 5.547.. Val L1 norm: 5.284.. Train Linf norm: 2326.658.. Val Linf norm: 2044.285\n",
            "Epoch 34/50.. Train loss: 1.989.. Val loss: 1.965.. Train L1 norm: 5.773.. Val L1 norm: 5.377.. Train Linf norm: 2522.195.. Val Linf norm: 2078.383\n",
            "Epoch 35/50.. Train loss: 1.988.. Val loss: 1.954.. Train L1 norm: 5.768.. Val L1 norm: 5.244.. Train Linf norm: 2664.011.. Val Linf norm: 2023.268\n",
            "Epoch 36/50.. Train loss: 1.988.. Val loss: 1.953.. Train L1 norm: 5.688.. Val L1 norm: 4.868.. Train Linf norm: 2244.506.. Val Linf norm: 1881.711\n",
            "Epoch 37/50.. Train loss: 1.968.. Val loss: 1.952.. Train L1 norm: 5.865.. Val L1 norm: 5.030.. Train Linf norm: 2599.359.. Val Linf norm: 1965.508\n",
            "Epoch 38/50.. Train loss: 1.988.. Val loss: 1.955.. Train L1 norm: 5.638.. Val L1 norm: 4.804.. Train Linf norm: 2524.939.. Val Linf norm: 1844.404\n",
            "Epoch 39/50.. Train loss: 1.980.. Val loss: 1.946.. Train L1 norm: 5.851.. Val L1 norm: 4.919.. Train Linf norm: 2696.615.. Val Linf norm: 1863.713\n",
            "Epoch 40/50.. Train loss: 1.970.. Val loss: 1.939.. Train L1 norm: 5.657.. Val L1 norm: 4.975.. Train Linf norm: 2473.630.. Val Linf norm: 1887.940\n",
            "Epoch 41/50.. Train loss: 1.983.. Val loss: 1.940.. Train L1 norm: 5.622.. Val L1 norm: 5.327.. Train Linf norm: 2337.016.. Val Linf norm: 2021.953\n",
            "Epoch 42/50.. Train loss: 1.959.. Val loss: 1.948.. Train L1 norm: 5.793.. Val L1 norm: 4.789.. Train Linf norm: 2600.438.. Val Linf norm: 1827.849\n",
            "Epoch 43/50.. Train loss: 1.965.. Val loss: 1.926.. Train L1 norm: 5.816.. Val L1 norm: 4.996.. Train Linf norm: 2676.320.. Val Linf norm: 1935.308\n",
            "Epoch 44/50.. Train loss: 1.977.. Val loss: 1.920.. Train L1 norm: 5.574.. Val L1 norm: 4.897.. Train Linf norm: 2459.778.. Val Linf norm: 1857.161\n",
            "Epoch 45/50.. Train loss: 1.953.. Val loss: 1.925.. Train L1 norm: 5.558.. Val L1 norm: 4.841.. Train Linf norm: 2429.440.. Val Linf norm: 1823.554\n",
            "Epoch 46/50.. Train loss: 1.962.. Val loss: 1.917.. Train L1 norm: 5.680.. Val L1 norm: 5.125.. Train Linf norm: 2473.906.. Val Linf norm: 1933.892\n",
            "Epoch 47/50.. Train loss: 1.948.. Val loss: 1.917.. Train L1 norm: 5.723.. Val L1 norm: 5.071.. Train Linf norm: 2638.289.. Val Linf norm: 1889.980\n",
            "Epoch 48/50.. Train loss: 1.943.. Val loss: 1.911.. Train L1 norm: 5.592.. Val L1 norm: 5.063.. Train Linf norm: 2481.643.. Val Linf norm: 1889.149\n",
            "Epoch 49/50.. Train loss: 1.932.. Val loss: 1.924.. Train L1 norm: 5.465.. Val L1 norm: 5.091.. Train Linf norm: 2309.574.. Val Linf norm: 1921.800\n"
          ]
        },
        {
          "output_type": "stream",
          "name": "stderr",
          "text": [
            "[I 2023-06-03 11:40:37,711] Trial 15 finished with value: 4.713225469970703 and parameters: {'n_layers': 4, 'n_units_0': 2525, 'n_units_1': 722, 'n_units_2': 39, 'n_units_3': 2363, 'hidden_activation': 'LeakyReLU', 'output_activation': 'Linear', 'loss': 'Quantile', 'optimizer': 'RMSprop', 'lr': 0.00010456352312443348, 'batch_size': 1024, 'n_epochs': 50, 'scheduler': 'ReduceLROnPlateau', 'leakyrelu_slope': 0.24570096403442168, 'dropout_rate': 0.08885373716867284, 'factor': 0.2894983804653441, 'patience': 6, 'threshold': 0.0019264645981472838}. Best is trial 2 with value: 2.659428728802999.\n"
          ]
        },
        {
          "output_type": "stream",
          "name": "stdout",
          "text": [
            "Epoch 50/50.. Train loss: 1.958.. Val loss: 1.902.. Train L1 norm: 5.498.. Val L1 norm: 4.713.. Train Linf norm: 2356.252.. Val Linf norm: 1759.633\n"
          ]
        },
        {
          "output_type": "display_data",
          "data": {
            "text/html": [
              "<html>\n",
              "<head><meta charset=\"utf-8\" /></head>\n",
              "<body>\n",
              "    <div>            <script src=\"https://cdnjs.cloudflare.com/ajax/libs/mathjax/2.7.5/MathJax.js?config=TeX-AMS-MML_SVG\"></script><script type=\"text/javascript\">if (window.MathJax && window.MathJax.Hub && window.MathJax.Hub.Config) {window.MathJax.Hub.Config({SVG: {font: \"STIX-Web\"}});}</script>                <script type=\"text/javascript\">window.PlotlyConfig = {MathJaxConfig: 'local'};</script>\n",
              "        <script src=\"https://cdn.plot.ly/plotly-2.18.2.min.js\"></script>                <div id=\"ff702867-23b4-4c12-a294-4ecfb2115983\" class=\"plotly-graph-div\" style=\"height:525px; width:100%;\"></div>            <script type=\"text/javascript\">                                    window.PLOTLYENV=window.PLOTLYENV || {};                                    if (document.getElementById(\"ff702867-23b4-4c12-a294-4ecfb2115983\")) {                    Plotly.newPlot(                        \"ff702867-23b4-4c12-a294-4ecfb2115983\",                        [{\"mode\":\"markers\",\"name\":\"Objective Value\",\"x\":[0,2,4,5,6,8,13,15],\"y\":[4.711850512695312,2.659428728802999,4.761943043263753,6.782888791402181,4.507622990544637,4.0549357006073,4.114479799524943,4.713225469970703],\"type\":\"scatter\"},{\"name\":\"Best Value\",\"x\":[0,2,4,5,6,8,13,15],\"y\":[4.711850512695312,2.659428728802999,2.659428728802999,2.659428728802999,2.659428728802999,2.659428728802999,2.659428728802999,2.659428728802999],\"type\":\"scatter\"}],                        {\"title\":{\"text\":\"Optimization History Plot\"},\"xaxis\":{\"title\":{\"text\":\"Trial\"}},\"yaxis\":{\"title\":{\"text\":\"Objective Value\"}},\"template\":{\"data\":{\"histogram2dcontour\":[{\"type\":\"histogram2dcontour\",\"colorbar\":{\"outlinewidth\":0,\"ticks\":\"\"},\"colorscale\":[[0.0,\"#0d0887\"],[0.1111111111111111,\"#46039f\"],[0.2222222222222222,\"#7201a8\"],[0.3333333333333333,\"#9c179e\"],[0.4444444444444444,\"#bd3786\"],[0.5555555555555556,\"#d8576b\"],[0.6666666666666666,\"#ed7953\"],[0.7777777777777778,\"#fb9f3a\"],[0.8888888888888888,\"#fdca26\"],[1.0,\"#f0f921\"]]}],\"choropleth\":[{\"type\":\"choropleth\",\"colorbar\":{\"outlinewidth\":0,\"ticks\":\"\"}}],\"histogram2d\":[{\"type\":\"histogram2d\",\"colorbar\":{\"outlinewidth\":0,\"ticks\":\"\"},\"colorscale\":[[0.0,\"#0d0887\"],[0.1111111111111111,\"#46039f\"],[0.2222222222222222,\"#7201a8\"],[0.3333333333333333,\"#9c179e\"],[0.4444444444444444,\"#bd3786\"],[0.5555555555555556,\"#d8576b\"],[0.6666666666666666,\"#ed7953\"],[0.7777777777777778,\"#fb9f3a\"],[0.8888888888888888,\"#fdca26\"],[1.0,\"#f0f921\"]]}],\"heatmap\":[{\"type\":\"heatmap\",\"colorbar\":{\"outlinewidth\":0,\"ticks\":\"\"},\"colorscale\":[[0.0,\"#0d0887\"],[0.1111111111111111,\"#46039f\"],[0.2222222222222222,\"#7201a8\"],[0.3333333333333333,\"#9c179e\"],[0.4444444444444444,\"#bd3786\"],[0.5555555555555556,\"#d8576b\"],[0.6666666666666666,\"#ed7953\"],[0.7777777777777778,\"#fb9f3a\"],[0.8888888888888888,\"#fdca26\"],[1.0,\"#f0f921\"]]}],\"heatmapgl\":[{\"type\":\"heatmapgl\",\"colorbar\":{\"outlinewidth\":0,\"ticks\":\"\"},\"colorscale\":[[0.0,\"#0d0887\"],[0.1111111111111111,\"#46039f\"],[0.2222222222222222,\"#7201a8\"],[0.3333333333333333,\"#9c179e\"],[0.4444444444444444,\"#bd3786\"],[0.5555555555555556,\"#d8576b\"],[0.6666666666666666,\"#ed7953\"],[0.7777777777777778,\"#fb9f3a\"],[0.8888888888888888,\"#fdca26\"],[1.0,\"#f0f921\"]]}],\"contourcarpet\":[{\"type\":\"contourcarpet\",\"colorbar\":{\"outlinewidth\":0,\"ticks\":\"\"}}],\"contour\":[{\"type\":\"contour\",\"colorbar\":{\"outlinewidth\":0,\"ticks\":\"\"},\"colorscale\":[[0.0,\"#0d0887\"],[0.1111111111111111,\"#46039f\"],[0.2222222222222222,\"#7201a8\"],[0.3333333333333333,\"#9c179e\"],[0.4444444444444444,\"#bd3786\"],[0.5555555555555556,\"#d8576b\"],[0.6666666666666666,\"#ed7953\"],[0.7777777777777778,\"#fb9f3a\"],[0.8888888888888888,\"#fdca26\"],[1.0,\"#f0f921\"]]}],\"surface\":[{\"type\":\"surface\",\"colorbar\":{\"outlinewidth\":0,\"ticks\":\"\"},\"colorscale\":[[0.0,\"#0d0887\"],[0.1111111111111111,\"#46039f\"],[0.2222222222222222,\"#7201a8\"],[0.3333333333333333,\"#9c179e\"],[0.4444444444444444,\"#bd3786\"],[0.5555555555555556,\"#d8576b\"],[0.6666666666666666,\"#ed7953\"],[0.7777777777777778,\"#fb9f3a\"],[0.8888888888888888,\"#fdca26\"],[1.0,\"#f0f921\"]]}],\"mesh3d\":[{\"type\":\"mesh3d\",\"colorbar\":{\"outlinewidth\":0,\"ticks\":\"\"}}],\"scatter\":[{\"fillpattern\":{\"fillmode\":\"overlay\",\"size\":10,\"solidity\":0.2},\"type\":\"scatter\"}],\"parcoords\":[{\"type\":\"parcoords\",\"line\":{\"colorbar\":{\"outlinewidth\":0,\"ticks\":\"\"}}}],\"scatterpolargl\":[{\"type\":\"scatterpolargl\",\"marker\":{\"colorbar\":{\"outlinewidth\":0,\"ticks\":\"\"}}}],\"bar\":[{\"error_x\":{\"color\":\"#2a3f5f\"},\"error_y\":{\"color\":\"#2a3f5f\"},\"marker\":{\"line\":{\"color\":\"#E5ECF6\",\"width\":0.5},\"pattern\":{\"fillmode\":\"overlay\",\"size\":10,\"solidity\":0.2}},\"type\":\"bar\"}],\"scattergeo\":[{\"type\":\"scattergeo\",\"marker\":{\"colorbar\":{\"outlinewidth\":0,\"ticks\":\"\"}}}],\"scatterpolar\":[{\"type\":\"scatterpolar\",\"marker\":{\"colorbar\":{\"outlinewidth\":0,\"ticks\":\"\"}}}],\"histogram\":[{\"marker\":{\"pattern\":{\"fillmode\":\"overlay\",\"size\":10,\"solidity\":0.2}},\"type\":\"histogram\"}],\"scattergl\":[{\"type\":\"scattergl\",\"marker\":{\"colorbar\":{\"outlinewidth\":0,\"ticks\":\"\"}}}],\"scatter3d\":[{\"type\":\"scatter3d\",\"line\":{\"colorbar\":{\"outlinewidth\":0,\"ticks\":\"\"}},\"marker\":{\"colorbar\":{\"outlinewidth\":0,\"ticks\":\"\"}}}],\"scattermapbox\":[{\"type\":\"scattermapbox\",\"marker\":{\"colorbar\":{\"outlinewidth\":0,\"ticks\":\"\"}}}],\"scatterternary\":[{\"type\":\"scatterternary\",\"marker\":{\"colorbar\":{\"outlinewidth\":0,\"ticks\":\"\"}}}],\"scattercarpet\":[{\"type\":\"scattercarpet\",\"marker\":{\"colorbar\":{\"outlinewidth\":0,\"ticks\":\"\"}}}],\"carpet\":[{\"aaxis\":{\"endlinecolor\":\"#2a3f5f\",\"gridcolor\":\"white\",\"linecolor\":\"white\",\"minorgridcolor\":\"white\",\"startlinecolor\":\"#2a3f5f\"},\"baxis\":{\"endlinecolor\":\"#2a3f5f\",\"gridcolor\":\"white\",\"linecolor\":\"white\",\"minorgridcolor\":\"white\",\"startlinecolor\":\"#2a3f5f\"},\"type\":\"carpet\"}],\"table\":[{\"cells\":{\"fill\":{\"color\":\"#EBF0F8\"},\"line\":{\"color\":\"white\"}},\"header\":{\"fill\":{\"color\":\"#C8D4E3\"},\"line\":{\"color\":\"white\"}},\"type\":\"table\"}],\"barpolar\":[{\"marker\":{\"line\":{\"color\":\"#E5ECF6\",\"width\":0.5},\"pattern\":{\"fillmode\":\"overlay\",\"size\":10,\"solidity\":0.2}},\"type\":\"barpolar\"}],\"pie\":[{\"automargin\":true,\"type\":\"pie\"}]},\"layout\":{\"autotypenumbers\":\"strict\",\"colorway\":[\"#636efa\",\"#EF553B\",\"#00cc96\",\"#ab63fa\",\"#FFA15A\",\"#19d3f3\",\"#FF6692\",\"#B6E880\",\"#FF97FF\",\"#FECB52\"],\"font\":{\"color\":\"#2a3f5f\"},\"hovermode\":\"closest\",\"hoverlabel\":{\"align\":\"left\"},\"paper_bgcolor\":\"white\",\"plot_bgcolor\":\"#E5ECF6\",\"polar\":{\"bgcolor\":\"#E5ECF6\",\"angularaxis\":{\"gridcolor\":\"white\",\"linecolor\":\"white\",\"ticks\":\"\"},\"radialaxis\":{\"gridcolor\":\"white\",\"linecolor\":\"white\",\"ticks\":\"\"}},\"ternary\":{\"bgcolor\":\"#E5ECF6\",\"aaxis\":{\"gridcolor\":\"white\",\"linecolor\":\"white\",\"ticks\":\"\"},\"baxis\":{\"gridcolor\":\"white\",\"linecolor\":\"white\",\"ticks\":\"\"},\"caxis\":{\"gridcolor\":\"white\",\"linecolor\":\"white\",\"ticks\":\"\"}},\"coloraxis\":{\"colorbar\":{\"outlinewidth\":0,\"ticks\":\"\"}},\"colorscale\":{\"sequential\":[[0.0,\"#0d0887\"],[0.1111111111111111,\"#46039f\"],[0.2222222222222222,\"#7201a8\"],[0.3333333333333333,\"#9c179e\"],[0.4444444444444444,\"#bd3786\"],[0.5555555555555556,\"#d8576b\"],[0.6666666666666666,\"#ed7953\"],[0.7777777777777778,\"#fb9f3a\"],[0.8888888888888888,\"#fdca26\"],[1.0,\"#f0f921\"]],\"sequentialminus\":[[0.0,\"#0d0887\"],[0.1111111111111111,\"#46039f\"],[0.2222222222222222,\"#7201a8\"],[0.3333333333333333,\"#9c179e\"],[0.4444444444444444,\"#bd3786\"],[0.5555555555555556,\"#d8576b\"],[0.6666666666666666,\"#ed7953\"],[0.7777777777777778,\"#fb9f3a\"],[0.8888888888888888,\"#fdca26\"],[1.0,\"#f0f921\"]],\"diverging\":[[0,\"#8e0152\"],[0.1,\"#c51b7d\"],[0.2,\"#de77ae\"],[0.3,\"#f1b6da\"],[0.4,\"#fde0ef\"],[0.5,\"#f7f7f7\"],[0.6,\"#e6f5d0\"],[0.7,\"#b8e186\"],[0.8,\"#7fbc41\"],[0.9,\"#4d9221\"],[1,\"#276419\"]]},\"xaxis\":{\"gridcolor\":\"white\",\"linecolor\":\"white\",\"ticks\":\"\",\"title\":{\"standoff\":15},\"zerolinecolor\":\"white\",\"automargin\":true,\"zerolinewidth\":2},\"yaxis\":{\"gridcolor\":\"white\",\"linecolor\":\"white\",\"ticks\":\"\",\"title\":{\"standoff\":15},\"zerolinecolor\":\"white\",\"automargin\":true,\"zerolinewidth\":2},\"scene\":{\"xaxis\":{\"backgroundcolor\":\"#E5ECF6\",\"gridcolor\":\"white\",\"linecolor\":\"white\",\"showbackground\":true,\"ticks\":\"\",\"zerolinecolor\":\"white\",\"gridwidth\":2},\"yaxis\":{\"backgroundcolor\":\"#E5ECF6\",\"gridcolor\":\"white\",\"linecolor\":\"white\",\"showbackground\":true,\"ticks\":\"\",\"zerolinecolor\":\"white\",\"gridwidth\":2},\"zaxis\":{\"backgroundcolor\":\"#E5ECF6\",\"gridcolor\":\"white\",\"linecolor\":\"white\",\"showbackground\":true,\"ticks\":\"\",\"zerolinecolor\":\"white\",\"gridwidth\":2}},\"shapedefaults\":{\"line\":{\"color\":\"#2a3f5f\"}},\"annotationdefaults\":{\"arrowcolor\":\"#2a3f5f\",\"arrowhead\":0,\"arrowwidth\":1},\"geo\":{\"bgcolor\":\"white\",\"landcolor\":\"#E5ECF6\",\"subunitcolor\":\"white\",\"showland\":true,\"showlakes\":true,\"lakecolor\":\"white\"},\"title\":{\"x\":0.05},\"mapbox\":{\"style\":\"light\"}}}},                        {\"responsive\": true}                    ).then(function(){\n",
              "                            \n",
              "var gd = document.getElementById('ff702867-23b4-4c12-a294-4ecfb2115983');\n",
              "var x = new MutationObserver(function (mutations, observer) {{\n",
              "        var display = window.getComputedStyle(gd).display;\n",
              "        if (!display || display === 'none') {{\n",
              "            console.log([gd, 'removed!']);\n",
              "            Plotly.purge(gd);\n",
              "            observer.disconnect();\n",
              "        }}\n",
              "}});\n",
              "\n",
              "// Listen for the removal of the full notebook cells\n",
              "var notebookContainer = gd.closest('#notebook-container');\n",
              "if (notebookContainer) {{\n",
              "    x.observe(notebookContainer, {childList: true});\n",
              "}}\n",
              "\n",
              "// Listen for the clearing of the current output cell\n",
              "var outputEl = gd.closest('.output');\n",
              "if (outputEl) {{\n",
              "    x.observe(outputEl, {childList: true});\n",
              "}}\n",
              "\n",
              "                        })                };                            </script>        </div>\n",
              "</body>\n",
              "</html>"
            ]
          },
          "metadata": {}
        },
        {
          "output_type": "stream",
          "name": "stderr",
          "text": [
            "[W 2023-06-03 11:40:38,233] Your study has only completed trials with missing parameters.\n",
            "<ipython-input-119-ca043aa389dc>:44: FutureWarning:\n",
            "\n",
            "suggest_loguniform has been deprecated in v3.0.0. This feature will be removed in v6.0.0. See https://github.com/optuna/optuna/releases/tag/v3.0.0. Use suggest_float(..., log=True) instead.\n",
            "\n",
            "<ipython-input-119-ca043aa389dc>:73: FutureWarning:\n",
            "\n",
            "suggest_uniform has been deprecated in v3.0.0. This feature will be removed in v6.0.0. See https://github.com/optuna/optuna/releases/tag/v3.0.0. Use suggest_float instead.\n",
            "\n",
            "<ipython-input-119-ca043aa389dc>:76: FutureWarning:\n",
            "\n",
            "suggest_uniform has been deprecated in v3.0.0. This feature will be removed in v6.0.0. See https://github.com/optuna/optuna/releases/tag/v3.0.0. Use suggest_float instead.\n",
            "\n",
            "<ipython-input-119-ca043aa389dc>:168: FutureWarning:\n",
            "\n",
            "suggest_uniform has been deprecated in v3.0.0. This feature will be removed in v6.0.0. See https://github.com/optuna/optuna/releases/tag/v3.0.0. Use suggest_float instead.\n",
            "\n",
            "<ipython-input-119-ca043aa389dc>:175: FutureWarning:\n",
            "\n",
            "suggest_loguniform has been deprecated in v3.0.0. This feature will be removed in v6.0.0. See https://github.com/optuna/optuna/releases/tag/v3.0.0. Use suggest_float(..., log=True) instead.\n",
            "\n",
            "[I 2023-06-03 11:40:48,531] Trial 16 pruned. \n"
          ]
        },
        {
          "output_type": "stream",
          "name": "stdout",
          "text": [
            "Epoch 1/82.. Train loss: 35531967.949.. Val loss: 3.807.. Train L1 norm: 17172231.696.. Val L1 norm: 4.088.. Train Linf norm: 237213200.064.. Val Linf norm: 296.756\n"
          ]
        },
        {
          "output_type": "display_data",
          "data": {
            "text/html": [
              "<html>\n",
              "<head><meta charset=\"utf-8\" /></head>\n",
              "<body>\n",
              "    <div>            <script src=\"https://cdnjs.cloudflare.com/ajax/libs/mathjax/2.7.5/MathJax.js?config=TeX-AMS-MML_SVG\"></script><script type=\"text/javascript\">if (window.MathJax && window.MathJax.Hub && window.MathJax.Hub.Config) {window.MathJax.Hub.Config({SVG: {font: \"STIX-Web\"}});}</script>                <script type=\"text/javascript\">window.PlotlyConfig = {MathJaxConfig: 'local'};</script>\n",
              "        <script src=\"https://cdn.plot.ly/plotly-2.18.2.min.js\"></script>                <div id=\"e895d49b-996e-4eed-ab28-db32328186d9\" class=\"plotly-graph-div\" style=\"height:525px; width:100%;\"></div>            <script type=\"text/javascript\">                                    window.PLOTLYENV=window.PLOTLYENV || {};                                    if (document.getElementById(\"e895d49b-996e-4eed-ab28-db32328186d9\")) {                    Plotly.newPlot(                        \"e895d49b-996e-4eed-ab28-db32328186d9\",                        [{\"mode\":\"markers\",\"name\":\"Objective Value\",\"x\":[0,2,4,5,6,8,13,15],\"y\":[4.711850512695312,2.659428728802999,4.761943043263753,6.782888791402181,4.507622990544637,4.0549357006073,4.114479799524943,4.713225469970703],\"type\":\"scatter\"},{\"name\":\"Best Value\",\"x\":[0,2,4,5,6,8,13,15],\"y\":[4.711850512695312,2.659428728802999,2.659428728802999,2.659428728802999,2.659428728802999,2.659428728802999,2.659428728802999,2.659428728802999],\"type\":\"scatter\"}],                        {\"title\":{\"text\":\"Optimization History Plot\"},\"xaxis\":{\"title\":{\"text\":\"Trial\"}},\"yaxis\":{\"title\":{\"text\":\"Objective Value\"}},\"template\":{\"data\":{\"histogram2dcontour\":[{\"type\":\"histogram2dcontour\",\"colorbar\":{\"outlinewidth\":0,\"ticks\":\"\"},\"colorscale\":[[0.0,\"#0d0887\"],[0.1111111111111111,\"#46039f\"],[0.2222222222222222,\"#7201a8\"],[0.3333333333333333,\"#9c179e\"],[0.4444444444444444,\"#bd3786\"],[0.5555555555555556,\"#d8576b\"],[0.6666666666666666,\"#ed7953\"],[0.7777777777777778,\"#fb9f3a\"],[0.8888888888888888,\"#fdca26\"],[1.0,\"#f0f921\"]]}],\"choropleth\":[{\"type\":\"choropleth\",\"colorbar\":{\"outlinewidth\":0,\"ticks\":\"\"}}],\"histogram2d\":[{\"type\":\"histogram2d\",\"colorbar\":{\"outlinewidth\":0,\"ticks\":\"\"},\"colorscale\":[[0.0,\"#0d0887\"],[0.1111111111111111,\"#46039f\"],[0.2222222222222222,\"#7201a8\"],[0.3333333333333333,\"#9c179e\"],[0.4444444444444444,\"#bd3786\"],[0.5555555555555556,\"#d8576b\"],[0.6666666666666666,\"#ed7953\"],[0.7777777777777778,\"#fb9f3a\"],[0.8888888888888888,\"#fdca26\"],[1.0,\"#f0f921\"]]}],\"heatmap\":[{\"type\":\"heatmap\",\"colorbar\":{\"outlinewidth\":0,\"ticks\":\"\"},\"colorscale\":[[0.0,\"#0d0887\"],[0.1111111111111111,\"#46039f\"],[0.2222222222222222,\"#7201a8\"],[0.3333333333333333,\"#9c179e\"],[0.4444444444444444,\"#bd3786\"],[0.5555555555555556,\"#d8576b\"],[0.6666666666666666,\"#ed7953\"],[0.7777777777777778,\"#fb9f3a\"],[0.8888888888888888,\"#fdca26\"],[1.0,\"#f0f921\"]]}],\"heatmapgl\":[{\"type\":\"heatmapgl\",\"colorbar\":{\"outlinewidth\":0,\"ticks\":\"\"},\"colorscale\":[[0.0,\"#0d0887\"],[0.1111111111111111,\"#46039f\"],[0.2222222222222222,\"#7201a8\"],[0.3333333333333333,\"#9c179e\"],[0.4444444444444444,\"#bd3786\"],[0.5555555555555556,\"#d8576b\"],[0.6666666666666666,\"#ed7953\"],[0.7777777777777778,\"#fb9f3a\"],[0.8888888888888888,\"#fdca26\"],[1.0,\"#f0f921\"]]}],\"contourcarpet\":[{\"type\":\"contourcarpet\",\"colorbar\":{\"outlinewidth\":0,\"ticks\":\"\"}}],\"contour\":[{\"type\":\"contour\",\"colorbar\":{\"outlinewidth\":0,\"ticks\":\"\"},\"colorscale\":[[0.0,\"#0d0887\"],[0.1111111111111111,\"#46039f\"],[0.2222222222222222,\"#7201a8\"],[0.3333333333333333,\"#9c179e\"],[0.4444444444444444,\"#bd3786\"],[0.5555555555555556,\"#d8576b\"],[0.6666666666666666,\"#ed7953\"],[0.7777777777777778,\"#fb9f3a\"],[0.8888888888888888,\"#fdca26\"],[1.0,\"#f0f921\"]]}],\"surface\":[{\"type\":\"surface\",\"colorbar\":{\"outlinewidth\":0,\"ticks\":\"\"},\"colorscale\":[[0.0,\"#0d0887\"],[0.1111111111111111,\"#46039f\"],[0.2222222222222222,\"#7201a8\"],[0.3333333333333333,\"#9c179e\"],[0.4444444444444444,\"#bd3786\"],[0.5555555555555556,\"#d8576b\"],[0.6666666666666666,\"#ed7953\"],[0.7777777777777778,\"#fb9f3a\"],[0.8888888888888888,\"#fdca26\"],[1.0,\"#f0f921\"]]}],\"mesh3d\":[{\"type\":\"mesh3d\",\"colorbar\":{\"outlinewidth\":0,\"ticks\":\"\"}}],\"scatter\":[{\"fillpattern\":{\"fillmode\":\"overlay\",\"size\":10,\"solidity\":0.2},\"type\":\"scatter\"}],\"parcoords\":[{\"type\":\"parcoords\",\"line\":{\"colorbar\":{\"outlinewidth\":0,\"ticks\":\"\"}}}],\"scatterpolargl\":[{\"type\":\"scatterpolargl\",\"marker\":{\"colorbar\":{\"outlinewidth\":0,\"ticks\":\"\"}}}],\"bar\":[{\"error_x\":{\"color\":\"#2a3f5f\"},\"error_y\":{\"color\":\"#2a3f5f\"},\"marker\":{\"line\":{\"color\":\"#E5ECF6\",\"width\":0.5},\"pattern\":{\"fillmode\":\"overlay\",\"size\":10,\"solidity\":0.2}},\"type\":\"bar\"}],\"scattergeo\":[{\"type\":\"scattergeo\",\"marker\":{\"colorbar\":{\"outlinewidth\":0,\"ticks\":\"\"}}}],\"scatterpolar\":[{\"type\":\"scatterpolar\",\"marker\":{\"colorbar\":{\"outlinewidth\":0,\"ticks\":\"\"}}}],\"histogram\":[{\"marker\":{\"pattern\":{\"fillmode\":\"overlay\",\"size\":10,\"solidity\":0.2}},\"type\":\"histogram\"}],\"scattergl\":[{\"type\":\"scattergl\",\"marker\":{\"colorbar\":{\"outlinewidth\":0,\"ticks\":\"\"}}}],\"scatter3d\":[{\"type\":\"scatter3d\",\"line\":{\"colorbar\":{\"outlinewidth\":0,\"ticks\":\"\"}},\"marker\":{\"colorbar\":{\"outlinewidth\":0,\"ticks\":\"\"}}}],\"scattermapbox\":[{\"type\":\"scattermapbox\",\"marker\":{\"colorbar\":{\"outlinewidth\":0,\"ticks\":\"\"}}}],\"scatterternary\":[{\"type\":\"scatterternary\",\"marker\":{\"colorbar\":{\"outlinewidth\":0,\"ticks\":\"\"}}}],\"scattercarpet\":[{\"type\":\"scattercarpet\",\"marker\":{\"colorbar\":{\"outlinewidth\":0,\"ticks\":\"\"}}}],\"carpet\":[{\"aaxis\":{\"endlinecolor\":\"#2a3f5f\",\"gridcolor\":\"white\",\"linecolor\":\"white\",\"minorgridcolor\":\"white\",\"startlinecolor\":\"#2a3f5f\"},\"baxis\":{\"endlinecolor\":\"#2a3f5f\",\"gridcolor\":\"white\",\"linecolor\":\"white\",\"minorgridcolor\":\"white\",\"startlinecolor\":\"#2a3f5f\"},\"type\":\"carpet\"}],\"table\":[{\"cells\":{\"fill\":{\"color\":\"#EBF0F8\"},\"line\":{\"color\":\"white\"}},\"header\":{\"fill\":{\"color\":\"#C8D4E3\"},\"line\":{\"color\":\"white\"}},\"type\":\"table\"}],\"barpolar\":[{\"marker\":{\"line\":{\"color\":\"#E5ECF6\",\"width\":0.5},\"pattern\":{\"fillmode\":\"overlay\",\"size\":10,\"solidity\":0.2}},\"type\":\"barpolar\"}],\"pie\":[{\"automargin\":true,\"type\":\"pie\"}]},\"layout\":{\"autotypenumbers\":\"strict\",\"colorway\":[\"#636efa\",\"#EF553B\",\"#00cc96\",\"#ab63fa\",\"#FFA15A\",\"#19d3f3\",\"#FF6692\",\"#B6E880\",\"#FF97FF\",\"#FECB52\"],\"font\":{\"color\":\"#2a3f5f\"},\"hovermode\":\"closest\",\"hoverlabel\":{\"align\":\"left\"},\"paper_bgcolor\":\"white\",\"plot_bgcolor\":\"#E5ECF6\",\"polar\":{\"bgcolor\":\"#E5ECF6\",\"angularaxis\":{\"gridcolor\":\"white\",\"linecolor\":\"white\",\"ticks\":\"\"},\"radialaxis\":{\"gridcolor\":\"white\",\"linecolor\":\"white\",\"ticks\":\"\"}},\"ternary\":{\"bgcolor\":\"#E5ECF6\",\"aaxis\":{\"gridcolor\":\"white\",\"linecolor\":\"white\",\"ticks\":\"\"},\"baxis\":{\"gridcolor\":\"white\",\"linecolor\":\"white\",\"ticks\":\"\"},\"caxis\":{\"gridcolor\":\"white\",\"linecolor\":\"white\",\"ticks\":\"\"}},\"coloraxis\":{\"colorbar\":{\"outlinewidth\":0,\"ticks\":\"\"}},\"colorscale\":{\"sequential\":[[0.0,\"#0d0887\"],[0.1111111111111111,\"#46039f\"],[0.2222222222222222,\"#7201a8\"],[0.3333333333333333,\"#9c179e\"],[0.4444444444444444,\"#bd3786\"],[0.5555555555555556,\"#d8576b\"],[0.6666666666666666,\"#ed7953\"],[0.7777777777777778,\"#fb9f3a\"],[0.8888888888888888,\"#fdca26\"],[1.0,\"#f0f921\"]],\"sequentialminus\":[[0.0,\"#0d0887\"],[0.1111111111111111,\"#46039f\"],[0.2222222222222222,\"#7201a8\"],[0.3333333333333333,\"#9c179e\"],[0.4444444444444444,\"#bd3786\"],[0.5555555555555556,\"#d8576b\"],[0.6666666666666666,\"#ed7953\"],[0.7777777777777778,\"#fb9f3a\"],[0.8888888888888888,\"#fdca26\"],[1.0,\"#f0f921\"]],\"diverging\":[[0,\"#8e0152\"],[0.1,\"#c51b7d\"],[0.2,\"#de77ae\"],[0.3,\"#f1b6da\"],[0.4,\"#fde0ef\"],[0.5,\"#f7f7f7\"],[0.6,\"#e6f5d0\"],[0.7,\"#b8e186\"],[0.8,\"#7fbc41\"],[0.9,\"#4d9221\"],[1,\"#276419\"]]},\"xaxis\":{\"gridcolor\":\"white\",\"linecolor\":\"white\",\"ticks\":\"\",\"title\":{\"standoff\":15},\"zerolinecolor\":\"white\",\"automargin\":true,\"zerolinewidth\":2},\"yaxis\":{\"gridcolor\":\"white\",\"linecolor\":\"white\",\"ticks\":\"\",\"title\":{\"standoff\":15},\"zerolinecolor\":\"white\",\"automargin\":true,\"zerolinewidth\":2},\"scene\":{\"xaxis\":{\"backgroundcolor\":\"#E5ECF6\",\"gridcolor\":\"white\",\"linecolor\":\"white\",\"showbackground\":true,\"ticks\":\"\",\"zerolinecolor\":\"white\",\"gridwidth\":2},\"yaxis\":{\"backgroundcolor\":\"#E5ECF6\",\"gridcolor\":\"white\",\"linecolor\":\"white\",\"showbackground\":true,\"ticks\":\"\",\"zerolinecolor\":\"white\",\"gridwidth\":2},\"zaxis\":{\"backgroundcolor\":\"#E5ECF6\",\"gridcolor\":\"white\",\"linecolor\":\"white\",\"showbackground\":true,\"ticks\":\"\",\"zerolinecolor\":\"white\",\"gridwidth\":2}},\"shapedefaults\":{\"line\":{\"color\":\"#2a3f5f\"}},\"annotationdefaults\":{\"arrowcolor\":\"#2a3f5f\",\"arrowhead\":0,\"arrowwidth\":1},\"geo\":{\"bgcolor\":\"white\",\"landcolor\":\"#E5ECF6\",\"subunitcolor\":\"white\",\"showland\":true,\"showlakes\":true,\"lakecolor\":\"white\"},\"title\":{\"x\":0.05},\"mapbox\":{\"style\":\"light\"}}}},                        {\"responsive\": true}                    ).then(function(){\n",
              "                            \n",
              "var gd = document.getElementById('e895d49b-996e-4eed-ab28-db32328186d9');\n",
              "var x = new MutationObserver(function (mutations, observer) {{\n",
              "        var display = window.getComputedStyle(gd).display;\n",
              "        if (!display || display === 'none') {{\n",
              "            console.log([gd, 'removed!']);\n",
              "            Plotly.purge(gd);\n",
              "            observer.disconnect();\n",
              "        }}\n",
              "}});\n",
              "\n",
              "// Listen for the removal of the full notebook cells\n",
              "var notebookContainer = gd.closest('#notebook-container');\n",
              "if (notebookContainer) {{\n",
              "    x.observe(notebookContainer, {childList: true});\n",
              "}}\n",
              "\n",
              "// Listen for the clearing of the current output cell\n",
              "var outputEl = gd.closest('.output');\n",
              "if (outputEl) {{\n",
              "    x.observe(outputEl, {childList: true});\n",
              "}}\n",
              "\n",
              "                        })                };                            </script>        </div>\n",
              "</body>\n",
              "</html>"
            ]
          },
          "metadata": {}
        },
        {
          "output_type": "stream",
          "name": "stderr",
          "text": [
            "[W 2023-06-03 11:40:49,049] Your study has only completed trials with missing parameters.\n",
            "<ipython-input-119-ca043aa389dc>:44: FutureWarning:\n",
            "\n",
            "suggest_loguniform has been deprecated in v3.0.0. This feature will be removed in v6.0.0. See https://github.com/optuna/optuna/releases/tag/v3.0.0. Use suggest_float(..., log=True) instead.\n",
            "\n",
            "<ipython-input-119-ca043aa389dc>:76: FutureWarning:\n",
            "\n",
            "suggest_uniform has been deprecated in v3.0.0. This feature will be removed in v6.0.0. See https://github.com/optuna/optuna/releases/tag/v3.0.0. Use suggest_float instead.\n",
            "\n",
            "<ipython-input-119-ca043aa389dc>:145: FutureWarning:\n",
            "\n",
            "suggest_loguniform has been deprecated in v3.0.0. This feature will be removed in v6.0.0. See https://github.com/optuna/optuna/releases/tag/v3.0.0. Use suggest_float(..., log=True) instead.\n",
            "\n",
            "<ipython-input-119-ca043aa389dc>:146: FutureWarning:\n",
            "\n",
            "suggest_uniform has been deprecated in v3.0.0. This feature will be removed in v6.0.0. See https://github.com/optuna/optuna/releases/tag/v3.0.0. Use suggest_float instead.\n",
            "\n",
            "<ipython-input-119-ca043aa389dc>:161: FutureWarning:\n",
            "\n",
            "suggest_uniform has been deprecated in v3.0.0. This feature will be removed in v6.0.0. See https://github.com/optuna/optuna/releases/tag/v3.0.0. Use suggest_float instead.\n",
            "\n"
          ]
        },
        {
          "output_type": "stream",
          "name": "stdout",
          "text": [
            "Epoch 1/62.. Train loss: 2.494.. Val loss: 2.413.. Train L1 norm: 1.177.. Val L1 norm: 1.334.. Train Linf norm: 22.623.. Val Linf norm: 39.209\n",
            "Epoch 2/62.. Train loss: 2.229.. Val loss: 2.054.. Train L1 norm: 3.209.. Val L1 norm: 4.092.. Train Linf norm: 215.752.. Val Linf norm: 278.181\n",
            "Epoch 3/62.. Train loss: 2.127.. Val loss: 2.019.. Train L1 norm: 4.193.. Val L1 norm: 4.169.. Train Linf norm: 297.372.. Val Linf norm: 283.711\n",
            "Epoch 4/62.. Train loss: 2.074.. Val loss: 2.007.. Train L1 norm: 4.412.. Val L1 norm: 4.343.. Train Linf norm: 302.492.. Val Linf norm: 295.967\n",
            "Epoch 5/62.. Train loss: 2.045.. Val loss: 2.074.. Train L1 norm: 4.620.. Val L1 norm: 3.688.. Train Linf norm: 327.054.. Val Linf norm: 243.851\n",
            "Epoch 6/62.. Train loss: 2.026.. Val loss: 1.985.. Train L1 norm: 4.667.. Val L1 norm: 4.396.. Train Linf norm: 324.923.. Val Linf norm: 300.370\n",
            "Epoch 7/62.. Train loss: 2.008.. Val loss: 1.977.. Train L1 norm: 4.802.. Val L1 norm: 4.656.. Train Linf norm: 344.941.. Val Linf norm: 321.180\n",
            "Epoch 8/62.. Train loss: 2.002.. Val loss: 1.969.. Train L1 norm: 4.807.. Val L1 norm: 4.607.. Train Linf norm: 342.942.. Val Linf norm: 317.627\n",
            "Epoch 9/62.. Train loss: 1.992.. Val loss: 1.963.. Train L1 norm: 4.895.. Val L1 norm: 4.660.. Train Linf norm: 354.342.. Val Linf norm: 321.551\n",
            "Epoch 10/62.. Train loss: 1.986.. Val loss: 1.959.. Train L1 norm: 4.939.. Val L1 norm: 4.589.. Train Linf norm: 342.389.. Val Linf norm: 315.875\n",
            "Epoch 11/62.. Train loss: 1.980.. Val loss: 1.959.. Train L1 norm: 4.968.. Val L1 norm: 4.378.. Train Linf norm: 352.775.. Val Linf norm: 299.040\n",
            "Epoch 12/62.. Train loss: 1.969.. Val loss: 1.946.. Train L1 norm: 4.997.. Val L1 norm: 4.775.. Train Linf norm: 355.659.. Val Linf norm: 329.055\n",
            "Epoch 13/62.. Train loss: 1.957.. Val loss: 1.946.. Train L1 norm: 5.003.. Val L1 norm: 4.615.. Train Linf norm: 364.211.. Val Linf norm: 316.406\n",
            "Epoch 14/62.. Train loss: 1.950.. Val loss: 1.943.. Train L1 norm: 5.075.. Val L1 norm: 4.523.. Train Linf norm: 365.816.. Val Linf norm: 309.034\n",
            "Epoch 15/62.. Train loss: 1.950.. Val loss: 1.941.. Train L1 norm: 5.005.. Val L1 norm: 4.729.. Train Linf norm: 362.054.. Val Linf norm: 324.589\n",
            "Epoch 16/62.. Train loss: 1.948.. Val loss: 1.937.. Train L1 norm: 5.088.. Val L1 norm: 4.673.. Train Linf norm: 368.147.. Val Linf norm: 319.684\n",
            "Epoch 17/62.. Train loss: 1.945.. Val loss: 1.935.. Train L1 norm: 5.054.. Val L1 norm: 4.569.. Train Linf norm: 366.227.. Val Linf norm: 311.176\n",
            "Epoch 18/62.. Train loss: 1.944.. Val loss: 1.936.. Train L1 norm: 5.025.. Val L1 norm: 4.612.. Train Linf norm: 366.509.. Val Linf norm: 314.423\n",
            "Epoch 19/62.. Train loss: 1.945.. Val loss: 1.935.. Train L1 norm: 5.036.. Val L1 norm: 4.425.. Train Linf norm: 367.072.. Val Linf norm: 299.690\n",
            "Epoch 20/62.. Train loss: 1.941.. Val loss: 1.935.. Train L1 norm: 5.037.. Val L1 norm: 4.484.. Train Linf norm: 365.823.. Val Linf norm: 303.963\n",
            "Epoch 21/62.. Train loss: 1.938.. Val loss: 1.931.. Train L1 norm: 5.092.. Val L1 norm: 4.508.. Train Linf norm: 369.214.. Val Linf norm: 305.724\n",
            "Epoch 22/62.. Train loss: 1.936.. Val loss: 1.927.. Train L1 norm: 5.079.. Val L1 norm: 4.739.. Train Linf norm: 367.340.. Val Linf norm: 323.070\n",
            "Epoch 23/62.. Train loss: 1.935.. Val loss: 1.927.. Train L1 norm: 5.067.. Val L1 norm: 4.497.. Train Linf norm: 372.393.. Val Linf norm: 303.925\n",
            "Epoch 24/62.. Train loss: 1.935.. Val loss: 1.926.. Train L1 norm: 5.100.. Val L1 norm: 4.584.. Train Linf norm: 373.601.. Val Linf norm: 310.706\n",
            "Epoch 25/62.. Train loss: 1.930.. Val loss: 1.927.. Train L1 norm: 5.023.. Val L1 norm: 4.457.. Train Linf norm: 362.475.. Val Linf norm: 300.839\n",
            "Epoch 26/62.. Train loss: 1.929.. Val loss: 1.924.. Train L1 norm: 5.078.. Val L1 norm: 4.618.. Train Linf norm: 366.679.. Val Linf norm: 312.937\n",
            "Epoch 27/62.. Train loss: 1.927.. Val loss: 1.929.. Train L1 norm: 5.063.. Val L1 norm: 4.537.. Train Linf norm: 367.408.. Val Linf norm: 306.597\n",
            "Epoch 28/62.. Train loss: 1.929.. Val loss: 1.926.. Train L1 norm: 5.081.. Val L1 norm: 4.513.. Train Linf norm: 369.705.. Val Linf norm: 304.554\n",
            "Epoch 29/62.. Train loss: 1.929.. Val loss: 1.924.. Train L1 norm: 5.068.. Val L1 norm: 4.520.. Train Linf norm: 367.429.. Val Linf norm: 304.991\n",
            "Epoch 30/62.. Train loss: 1.928.. Val loss: 1.924.. Train L1 norm: 5.072.. Val L1 norm: 4.434.. Train Linf norm: 371.736.. Val Linf norm: 298.290\n",
            "Epoch 31/62.. Train loss: 1.926.. Val loss: 1.925.. Train L1 norm: 5.112.. Val L1 norm: 4.492.. Train Linf norm: 376.780.. Val Linf norm: 302.553\n",
            "Epoch 32/62.. Train loss: 1.927.. Val loss: 1.928.. Train L1 norm: 5.087.. Val L1 norm: 4.657.. Train Linf norm: 370.793.. Val Linf norm: 315.085\n",
            "Epoch 33/62.. Train loss: 1.926.. Val loss: 1.923.. Train L1 norm: 5.084.. Val L1 norm: 4.577.. Train Linf norm: 373.037.. Val Linf norm: 309.054\n",
            "Epoch 34/62.. Train loss: 1.926.. Val loss: 1.923.. Train L1 norm: 5.058.. Val L1 norm: 4.474.. Train Linf norm: 364.716.. Val Linf norm: 301.054\n",
            "Epoch 35/62.. Train loss: 1.925.. Val loss: 1.920.. Train L1 norm: 5.086.. Val L1 norm: 4.442.. Train Linf norm: 368.657.. Val Linf norm: 298.444\n",
            "Epoch 36/62.. Train loss: 1.925.. Val loss: 1.920.. Train L1 norm: 5.072.. Val L1 norm: 4.635.. Train Linf norm: 372.292.. Val Linf norm: 313.138\n",
            "Epoch 37/62.. Train loss: 1.924.. Val loss: 1.921.. Train L1 norm: 5.108.. Val L1 norm: 4.487.. Train Linf norm: 371.264.. Val Linf norm: 301.851\n",
            "Epoch 38/62.. Train loss: 1.922.. Val loss: 1.923.. Train L1 norm: 5.123.. Val L1 norm: 4.450.. Train Linf norm: 368.927.. Val Linf norm: 298.907\n",
            "Epoch 39/62.. Train loss: 1.922.. Val loss: 1.922.. Train L1 norm: 5.109.. Val L1 norm: 4.534.. Train Linf norm: 365.182.. Val Linf norm: 305.395\n",
            "Epoch 40/62.. Train loss: 1.921.. Val loss: 1.921.. Train L1 norm: 5.097.. Val L1 norm: 4.518.. Train Linf norm: 374.083.. Val Linf norm: 304.105\n",
            "Epoch 41/62.. Train loss: 1.922.. Val loss: 1.921.. Train L1 norm: 5.122.. Val L1 norm: 4.497.. Train Linf norm: 376.567.. Val Linf norm: 302.483\n",
            "Epoch 42/62.. Train loss: 1.922.. Val loss: 1.922.. Train L1 norm: 5.125.. Val L1 norm: 4.429.. Train Linf norm: 370.637.. Val Linf norm: 297.202\n",
            "Epoch 43/62.. Train loss: 1.920.. Val loss: 1.921.. Train L1 norm: 5.074.. Val L1 norm: 4.546.. Train Linf norm: 372.102.. Val Linf norm: 306.066\n",
            "Epoch 44/62.. Train loss: 1.921.. Val loss: 1.919.. Train L1 norm: 5.095.. Val L1 norm: 4.576.. Train Linf norm: 373.670.. Val Linf norm: 308.413\n",
            "Epoch 45/62.. Train loss: 1.921.. Val loss: 1.919.. Train L1 norm: 5.022.. Val L1 norm: 4.517.. Train Linf norm: 361.202.. Val Linf norm: 303.848\n",
            "Epoch 46/62.. Train loss: 1.922.. Val loss: 1.921.. Train L1 norm: 5.061.. Val L1 norm: 4.484.. Train Linf norm: 370.418.. Val Linf norm: 301.288\n",
            "Epoch 47/62.. Train loss: 1.920.. Val loss: 1.919.. Train L1 norm: 5.090.. Val L1 norm: 4.566.. Train Linf norm: 356.043.. Val Linf norm: 307.499\n",
            "Epoch 48/62.. Train loss: 1.921.. Val loss: 1.921.. Train L1 norm: 5.043.. Val L1 norm: 4.506.. Train Linf norm: 363.802.. Val Linf norm: 302.803\n",
            "Epoch 49/62.. Train loss: 1.920.. Val loss: 1.920.. Train L1 norm: 5.091.. Val L1 norm: 4.511.. Train Linf norm: 375.195.. Val Linf norm: 303.230\n",
            "Epoch 50/62.. Train loss: 1.920.. Val loss: 1.919.. Train L1 norm: 5.107.. Val L1 norm: 4.485.. Train Linf norm: 372.674.. Val Linf norm: 301.201\n",
            "Epoch 51/62.. Train loss: 1.920.. Val loss: 1.919.. Train L1 norm: 5.068.. Val L1 norm: 4.528.. Train Linf norm: 365.592.. Val Linf norm: 304.492\n",
            "Epoch 52/62.. Train loss: 1.921.. Val loss: 1.920.. Train L1 norm: 5.042.. Val L1 norm: 4.517.. Train Linf norm: 370.806.. Val Linf norm: 303.660\n",
            "Epoch 53/62.. Train loss: 1.919.. Val loss: 1.919.. Train L1 norm: 5.065.. Val L1 norm: 4.489.. Train Linf norm: 362.317.. Val Linf norm: 301.513\n",
            "Epoch 54/62.. Train loss: 1.919.. Val loss: 1.919.. Train L1 norm: 5.059.. Val L1 norm: 4.524.. Train Linf norm: 369.986.. Val Linf norm: 304.141\n",
            "Epoch 55/62.. Train loss: 1.920.. Val loss: 1.919.. Train L1 norm: 5.116.. Val L1 norm: 4.493.. Train Linf norm: 374.602.. Val Linf norm: 301.787\n",
            "Epoch 56/62.. Train loss: 1.919.. Val loss: 1.919.. Train L1 norm: 5.098.. Val L1 norm: 4.499.. Train Linf norm: 373.383.. Val Linf norm: 302.224\n",
            "Epoch 57/62.. Train loss: 1.920.. Val loss: 1.919.. Train L1 norm: 5.087.. Val L1 norm: 4.488.. Train Linf norm: 366.465.. Val Linf norm: 301.417\n",
            "Epoch 58/62.. Train loss: 1.921.. Val loss: 1.920.. Train L1 norm: 5.054.. Val L1 norm: 4.477.. Train Linf norm: 360.642.. Val Linf norm: 300.574\n",
            "Epoch 59/62.. Train loss: 1.919.. Val loss: 1.920.. Train L1 norm: 5.064.. Val L1 norm: 4.441.. Train Linf norm: 358.995.. Val Linf norm: 297.819\n",
            "Epoch 60/62.. Train loss: 1.920.. Val loss: 1.919.. Train L1 norm: 5.063.. Val L1 norm: 4.518.. Train Linf norm: 363.325.. Val Linf norm: 303.720\n",
            "Epoch 61/62.. Train loss: 1.919.. Val loss: 1.919.. Train L1 norm: 5.082.. Val L1 norm: 4.490.. Train Linf norm: 365.507.. Val Linf norm: 301.556\n"
          ]
        },
        {
          "output_type": "stream",
          "name": "stderr",
          "text": [
            "[I 2023-06-03 11:48:38,147] Trial 17 finished with value: 4.483583658981323 and parameters: {'n_layers': 8, 'n_units_0': 2498, 'n_units_1': 2261, 'n_units_2': 2880, 'n_units_3': 2095, 'n_units_4': 586, 'n_units_5': 86, 'n_units_6': 2498, 'n_units_7': 3230, 'hidden_activation': 'Swish', 'output_activation': 'Linear', 'loss': 'Quantile', 'optimizer': 'SGD', 'lr': 0.0006140170502031195, 'batch_size': 128, 'n_epochs': 62, 'scheduler': 'StepLR', 'dropout_rate': 0.01173760213494196, 'weight_decay': 7.046961200650832e-05, 'momentum': 0.285235748025386, 'step_size': 12, 'gamma': 0.32131325527542803}. Best is trial 2 with value: 2.659428728802999.\n"
          ]
        },
        {
          "output_type": "stream",
          "name": "stdout",
          "text": [
            "Epoch 62/62.. Train loss: 1.920.. Val loss: 1.919.. Train L1 norm: 5.023.. Val L1 norm: 4.484.. Train Linf norm: 365.817.. Val Linf norm: 301.045\n"
          ]
        },
        {
          "output_type": "display_data",
          "data": {
            "text/html": [
              "<html>\n",
              "<head><meta charset=\"utf-8\" /></head>\n",
              "<body>\n",
              "    <div>            <script src=\"https://cdnjs.cloudflare.com/ajax/libs/mathjax/2.7.5/MathJax.js?config=TeX-AMS-MML_SVG\"></script><script type=\"text/javascript\">if (window.MathJax && window.MathJax.Hub && window.MathJax.Hub.Config) {window.MathJax.Hub.Config({SVG: {font: \"STIX-Web\"}});}</script>                <script type=\"text/javascript\">window.PlotlyConfig = {MathJaxConfig: 'local'};</script>\n",
              "        <script src=\"https://cdn.plot.ly/plotly-2.18.2.min.js\"></script>                <div id=\"d2ab8059-dd73-4695-b5d9-3ad564e4d474\" class=\"plotly-graph-div\" style=\"height:525px; width:100%;\"></div>            <script type=\"text/javascript\">                                    window.PLOTLYENV=window.PLOTLYENV || {};                                    if (document.getElementById(\"d2ab8059-dd73-4695-b5d9-3ad564e4d474\")) {                    Plotly.newPlot(                        \"d2ab8059-dd73-4695-b5d9-3ad564e4d474\",                        [{\"mode\":\"markers\",\"name\":\"Objective Value\",\"x\":[0,2,4,5,6,8,13,15,17],\"y\":[4.711850512695312,2.659428728802999,4.761943043263753,6.782888791402181,4.507622990544637,4.0549357006073,4.114479799524943,4.713225469970703,4.483583658981323],\"type\":\"scatter\"},{\"name\":\"Best Value\",\"x\":[0,2,4,5,6,8,13,15,17],\"y\":[4.711850512695312,2.659428728802999,2.659428728802999,2.659428728802999,2.659428728802999,2.659428728802999,2.659428728802999,2.659428728802999,2.659428728802999],\"type\":\"scatter\"}],                        {\"title\":{\"text\":\"Optimization History Plot\"},\"xaxis\":{\"title\":{\"text\":\"Trial\"}},\"yaxis\":{\"title\":{\"text\":\"Objective Value\"}},\"template\":{\"data\":{\"histogram2dcontour\":[{\"type\":\"histogram2dcontour\",\"colorbar\":{\"outlinewidth\":0,\"ticks\":\"\"},\"colorscale\":[[0.0,\"#0d0887\"],[0.1111111111111111,\"#46039f\"],[0.2222222222222222,\"#7201a8\"],[0.3333333333333333,\"#9c179e\"],[0.4444444444444444,\"#bd3786\"],[0.5555555555555556,\"#d8576b\"],[0.6666666666666666,\"#ed7953\"],[0.7777777777777778,\"#fb9f3a\"],[0.8888888888888888,\"#fdca26\"],[1.0,\"#f0f921\"]]}],\"choropleth\":[{\"type\":\"choropleth\",\"colorbar\":{\"outlinewidth\":0,\"ticks\":\"\"}}],\"histogram2d\":[{\"type\":\"histogram2d\",\"colorbar\":{\"outlinewidth\":0,\"ticks\":\"\"},\"colorscale\":[[0.0,\"#0d0887\"],[0.1111111111111111,\"#46039f\"],[0.2222222222222222,\"#7201a8\"],[0.3333333333333333,\"#9c179e\"],[0.4444444444444444,\"#bd3786\"],[0.5555555555555556,\"#d8576b\"],[0.6666666666666666,\"#ed7953\"],[0.7777777777777778,\"#fb9f3a\"],[0.8888888888888888,\"#fdca26\"],[1.0,\"#f0f921\"]]}],\"heatmap\":[{\"type\":\"heatmap\",\"colorbar\":{\"outlinewidth\":0,\"ticks\":\"\"},\"colorscale\":[[0.0,\"#0d0887\"],[0.1111111111111111,\"#46039f\"],[0.2222222222222222,\"#7201a8\"],[0.3333333333333333,\"#9c179e\"],[0.4444444444444444,\"#bd3786\"],[0.5555555555555556,\"#d8576b\"],[0.6666666666666666,\"#ed7953\"],[0.7777777777777778,\"#fb9f3a\"],[0.8888888888888888,\"#fdca26\"],[1.0,\"#f0f921\"]]}],\"heatmapgl\":[{\"type\":\"heatmapgl\",\"colorbar\":{\"outlinewidth\":0,\"ticks\":\"\"},\"colorscale\":[[0.0,\"#0d0887\"],[0.1111111111111111,\"#46039f\"],[0.2222222222222222,\"#7201a8\"],[0.3333333333333333,\"#9c179e\"],[0.4444444444444444,\"#bd3786\"],[0.5555555555555556,\"#d8576b\"],[0.6666666666666666,\"#ed7953\"],[0.7777777777777778,\"#fb9f3a\"],[0.8888888888888888,\"#fdca26\"],[1.0,\"#f0f921\"]]}],\"contourcarpet\":[{\"type\":\"contourcarpet\",\"colorbar\":{\"outlinewidth\":0,\"ticks\":\"\"}}],\"contour\":[{\"type\":\"contour\",\"colorbar\":{\"outlinewidth\":0,\"ticks\":\"\"},\"colorscale\":[[0.0,\"#0d0887\"],[0.1111111111111111,\"#46039f\"],[0.2222222222222222,\"#7201a8\"],[0.3333333333333333,\"#9c179e\"],[0.4444444444444444,\"#bd3786\"],[0.5555555555555556,\"#d8576b\"],[0.6666666666666666,\"#ed7953\"],[0.7777777777777778,\"#fb9f3a\"],[0.8888888888888888,\"#fdca26\"],[1.0,\"#f0f921\"]]}],\"surface\":[{\"type\":\"surface\",\"colorbar\":{\"outlinewidth\":0,\"ticks\":\"\"},\"colorscale\":[[0.0,\"#0d0887\"],[0.1111111111111111,\"#46039f\"],[0.2222222222222222,\"#7201a8\"],[0.3333333333333333,\"#9c179e\"],[0.4444444444444444,\"#bd3786\"],[0.5555555555555556,\"#d8576b\"],[0.6666666666666666,\"#ed7953\"],[0.7777777777777778,\"#fb9f3a\"],[0.8888888888888888,\"#fdca26\"],[1.0,\"#f0f921\"]]}],\"mesh3d\":[{\"type\":\"mesh3d\",\"colorbar\":{\"outlinewidth\":0,\"ticks\":\"\"}}],\"scatter\":[{\"fillpattern\":{\"fillmode\":\"overlay\",\"size\":10,\"solidity\":0.2},\"type\":\"scatter\"}],\"parcoords\":[{\"type\":\"parcoords\",\"line\":{\"colorbar\":{\"outlinewidth\":0,\"ticks\":\"\"}}}],\"scatterpolargl\":[{\"type\":\"scatterpolargl\",\"marker\":{\"colorbar\":{\"outlinewidth\":0,\"ticks\":\"\"}}}],\"bar\":[{\"error_x\":{\"color\":\"#2a3f5f\"},\"error_y\":{\"color\":\"#2a3f5f\"},\"marker\":{\"line\":{\"color\":\"#E5ECF6\",\"width\":0.5},\"pattern\":{\"fillmode\":\"overlay\",\"size\":10,\"solidity\":0.2}},\"type\":\"bar\"}],\"scattergeo\":[{\"type\":\"scattergeo\",\"marker\":{\"colorbar\":{\"outlinewidth\":0,\"ticks\":\"\"}}}],\"scatterpolar\":[{\"type\":\"scatterpolar\",\"marker\":{\"colorbar\":{\"outlinewidth\":0,\"ticks\":\"\"}}}],\"histogram\":[{\"marker\":{\"pattern\":{\"fillmode\":\"overlay\",\"size\":10,\"solidity\":0.2}},\"type\":\"histogram\"}],\"scattergl\":[{\"type\":\"scattergl\",\"marker\":{\"colorbar\":{\"outlinewidth\":0,\"ticks\":\"\"}}}],\"scatter3d\":[{\"type\":\"scatter3d\",\"line\":{\"colorbar\":{\"outlinewidth\":0,\"ticks\":\"\"}},\"marker\":{\"colorbar\":{\"outlinewidth\":0,\"ticks\":\"\"}}}],\"scattermapbox\":[{\"type\":\"scattermapbox\",\"marker\":{\"colorbar\":{\"outlinewidth\":0,\"ticks\":\"\"}}}],\"scatterternary\":[{\"type\":\"scatterternary\",\"marker\":{\"colorbar\":{\"outlinewidth\":0,\"ticks\":\"\"}}}],\"scattercarpet\":[{\"type\":\"scattercarpet\",\"marker\":{\"colorbar\":{\"outlinewidth\":0,\"ticks\":\"\"}}}],\"carpet\":[{\"aaxis\":{\"endlinecolor\":\"#2a3f5f\",\"gridcolor\":\"white\",\"linecolor\":\"white\",\"minorgridcolor\":\"white\",\"startlinecolor\":\"#2a3f5f\"},\"baxis\":{\"endlinecolor\":\"#2a3f5f\",\"gridcolor\":\"white\",\"linecolor\":\"white\",\"minorgridcolor\":\"white\",\"startlinecolor\":\"#2a3f5f\"},\"type\":\"carpet\"}],\"table\":[{\"cells\":{\"fill\":{\"color\":\"#EBF0F8\"},\"line\":{\"color\":\"white\"}},\"header\":{\"fill\":{\"color\":\"#C8D4E3\"},\"line\":{\"color\":\"white\"}},\"type\":\"table\"}],\"barpolar\":[{\"marker\":{\"line\":{\"color\":\"#E5ECF6\",\"width\":0.5},\"pattern\":{\"fillmode\":\"overlay\",\"size\":10,\"solidity\":0.2}},\"type\":\"barpolar\"}],\"pie\":[{\"automargin\":true,\"type\":\"pie\"}]},\"layout\":{\"autotypenumbers\":\"strict\",\"colorway\":[\"#636efa\",\"#EF553B\",\"#00cc96\",\"#ab63fa\",\"#FFA15A\",\"#19d3f3\",\"#FF6692\",\"#B6E880\",\"#FF97FF\",\"#FECB52\"],\"font\":{\"color\":\"#2a3f5f\"},\"hovermode\":\"closest\",\"hoverlabel\":{\"align\":\"left\"},\"paper_bgcolor\":\"white\",\"plot_bgcolor\":\"#E5ECF6\",\"polar\":{\"bgcolor\":\"#E5ECF6\",\"angularaxis\":{\"gridcolor\":\"white\",\"linecolor\":\"white\",\"ticks\":\"\"},\"radialaxis\":{\"gridcolor\":\"white\",\"linecolor\":\"white\",\"ticks\":\"\"}},\"ternary\":{\"bgcolor\":\"#E5ECF6\",\"aaxis\":{\"gridcolor\":\"white\",\"linecolor\":\"white\",\"ticks\":\"\"},\"baxis\":{\"gridcolor\":\"white\",\"linecolor\":\"white\",\"ticks\":\"\"},\"caxis\":{\"gridcolor\":\"white\",\"linecolor\":\"white\",\"ticks\":\"\"}},\"coloraxis\":{\"colorbar\":{\"outlinewidth\":0,\"ticks\":\"\"}},\"colorscale\":{\"sequential\":[[0.0,\"#0d0887\"],[0.1111111111111111,\"#46039f\"],[0.2222222222222222,\"#7201a8\"],[0.3333333333333333,\"#9c179e\"],[0.4444444444444444,\"#bd3786\"],[0.5555555555555556,\"#d8576b\"],[0.6666666666666666,\"#ed7953\"],[0.7777777777777778,\"#fb9f3a\"],[0.8888888888888888,\"#fdca26\"],[1.0,\"#f0f921\"]],\"sequentialminus\":[[0.0,\"#0d0887\"],[0.1111111111111111,\"#46039f\"],[0.2222222222222222,\"#7201a8\"],[0.3333333333333333,\"#9c179e\"],[0.4444444444444444,\"#bd3786\"],[0.5555555555555556,\"#d8576b\"],[0.6666666666666666,\"#ed7953\"],[0.7777777777777778,\"#fb9f3a\"],[0.8888888888888888,\"#fdca26\"],[1.0,\"#f0f921\"]],\"diverging\":[[0,\"#8e0152\"],[0.1,\"#c51b7d\"],[0.2,\"#de77ae\"],[0.3,\"#f1b6da\"],[0.4,\"#fde0ef\"],[0.5,\"#f7f7f7\"],[0.6,\"#e6f5d0\"],[0.7,\"#b8e186\"],[0.8,\"#7fbc41\"],[0.9,\"#4d9221\"],[1,\"#276419\"]]},\"xaxis\":{\"gridcolor\":\"white\",\"linecolor\":\"white\",\"ticks\":\"\",\"title\":{\"standoff\":15},\"zerolinecolor\":\"white\",\"automargin\":true,\"zerolinewidth\":2},\"yaxis\":{\"gridcolor\":\"white\",\"linecolor\":\"white\",\"ticks\":\"\",\"title\":{\"standoff\":15},\"zerolinecolor\":\"white\",\"automargin\":true,\"zerolinewidth\":2},\"scene\":{\"xaxis\":{\"backgroundcolor\":\"#E5ECF6\",\"gridcolor\":\"white\",\"linecolor\":\"white\",\"showbackground\":true,\"ticks\":\"\",\"zerolinecolor\":\"white\",\"gridwidth\":2},\"yaxis\":{\"backgroundcolor\":\"#E5ECF6\",\"gridcolor\":\"white\",\"linecolor\":\"white\",\"showbackground\":true,\"ticks\":\"\",\"zerolinecolor\":\"white\",\"gridwidth\":2},\"zaxis\":{\"backgroundcolor\":\"#E5ECF6\",\"gridcolor\":\"white\",\"linecolor\":\"white\",\"showbackground\":true,\"ticks\":\"\",\"zerolinecolor\":\"white\",\"gridwidth\":2}},\"shapedefaults\":{\"line\":{\"color\":\"#2a3f5f\"}},\"annotationdefaults\":{\"arrowcolor\":\"#2a3f5f\",\"arrowhead\":0,\"arrowwidth\":1},\"geo\":{\"bgcolor\":\"white\",\"landcolor\":\"#E5ECF6\",\"subunitcolor\":\"white\",\"showland\":true,\"showlakes\":true,\"lakecolor\":\"white\"},\"title\":{\"x\":0.05},\"mapbox\":{\"style\":\"light\"}}}},                        {\"responsive\": true}                    ).then(function(){\n",
              "                            \n",
              "var gd = document.getElementById('d2ab8059-dd73-4695-b5d9-3ad564e4d474');\n",
              "var x = new MutationObserver(function (mutations, observer) {{\n",
              "        var display = window.getComputedStyle(gd).display;\n",
              "        if (!display || display === 'none') {{\n",
              "            console.log([gd, 'removed!']);\n",
              "            Plotly.purge(gd);\n",
              "            observer.disconnect();\n",
              "        }}\n",
              "}});\n",
              "\n",
              "// Listen for the removal of the full notebook cells\n",
              "var notebookContainer = gd.closest('#notebook-container');\n",
              "if (notebookContainer) {{\n",
              "    x.observe(notebookContainer, {childList: true});\n",
              "}}\n",
              "\n",
              "// Listen for the clearing of the current output cell\n",
              "var outputEl = gd.closest('.output');\n",
              "if (outputEl) {{\n",
              "    x.observe(outputEl, {childList: true});\n",
              "}}\n",
              "\n",
              "                        })                };                            </script>        </div>\n",
              "</body>\n",
              "</html>"
            ]
          },
          "metadata": {}
        },
        {
          "output_type": "stream",
          "name": "stderr",
          "text": [
            "[W 2023-06-03 11:48:38,713] Your study has only completed trials with missing parameters.\n",
            "<ipython-input-119-ca043aa389dc>:44: FutureWarning:\n",
            "\n",
            "suggest_loguniform has been deprecated in v3.0.0. This feature will be removed in v6.0.0. See https://github.com/optuna/optuna/releases/tag/v3.0.0. Use suggest_float(..., log=True) instead.\n",
            "\n",
            "<ipython-input-119-ca043aa389dc>:76: FutureWarning:\n",
            "\n",
            "suggest_uniform has been deprecated in v3.0.0. This feature will be removed in v6.0.0. See https://github.com/optuna/optuna/releases/tag/v3.0.0. Use suggest_float instead.\n",
            "\n",
            "<ipython-input-119-ca043aa389dc>:149: FutureWarning:\n",
            "\n",
            "suggest_loguniform has been deprecated in v3.0.0. This feature will be removed in v6.0.0. See https://github.com/optuna/optuna/releases/tag/v3.0.0. Use suggest_float(..., log=True) instead.\n",
            "\n",
            "<ipython-input-119-ca043aa389dc>:150: FutureWarning:\n",
            "\n",
            "suggest_uniform has been deprecated in v3.0.0. This feature will be removed in v6.0.0. See https://github.com/optuna/optuna/releases/tag/v3.0.0. Use suggest_float instead.\n",
            "\n",
            "<ipython-input-119-ca043aa389dc>:151: FutureWarning:\n",
            "\n",
            "suggest_uniform has been deprecated in v3.0.0. This feature will be removed in v6.0.0. See https://github.com/optuna/optuna/releases/tag/v3.0.0. Use suggest_float instead.\n",
            "\n",
            "<ipython-input-119-ca043aa389dc>:178: FutureWarning:\n",
            "\n",
            "suggest_uniform has been deprecated in v3.0.0. This feature will be removed in v6.0.0. See https://github.com/optuna/optuna/releases/tag/v3.0.0. Use suggest_float instead.\n",
            "\n",
            "<ipython-input-119-ca043aa389dc>:180: FutureWarning:\n",
            "\n",
            "suggest_loguniform has been deprecated in v3.0.0. This feature will be removed in v6.0.0. See https://github.com/optuna/optuna/releases/tag/v3.0.0. Use suggest_float(..., log=True) instead.\n",
            "\n",
            "[I 2023-06-03 11:48:44,058] Trial 18 pruned. \n"
          ]
        },
        {
          "output_type": "stream",
          "name": "stdout",
          "text": [
            "Epoch 1/84.. Train loss: 4.309.. Val loss: 3.901.. Train L1 norm: 5.235.. Val L1 norm: 4.472.. Train Linf norm: 207.496.. Val Linf norm: 170.161\n"
          ]
        },
        {
          "output_type": "display_data",
          "data": {
            "text/html": [
              "<html>\n",
              "<head><meta charset=\"utf-8\" /></head>\n",
              "<body>\n",
              "    <div>            <script src=\"https://cdnjs.cloudflare.com/ajax/libs/mathjax/2.7.5/MathJax.js?config=TeX-AMS-MML_SVG\"></script><script type=\"text/javascript\">if (window.MathJax && window.MathJax.Hub && window.MathJax.Hub.Config) {window.MathJax.Hub.Config({SVG: {font: \"STIX-Web\"}});}</script>                <script type=\"text/javascript\">window.PlotlyConfig = {MathJaxConfig: 'local'};</script>\n",
              "        <script src=\"https://cdn.plot.ly/plotly-2.18.2.min.js\"></script>                <div id=\"5dfe1904-90e4-4ccf-94d6-b3193f38d6d9\" class=\"plotly-graph-div\" style=\"height:525px; width:100%;\"></div>            <script type=\"text/javascript\">                                    window.PLOTLYENV=window.PLOTLYENV || {};                                    if (document.getElementById(\"5dfe1904-90e4-4ccf-94d6-b3193f38d6d9\")) {                    Plotly.newPlot(                        \"5dfe1904-90e4-4ccf-94d6-b3193f38d6d9\",                        [{\"mode\":\"markers\",\"name\":\"Objective Value\",\"x\":[0,2,4,5,6,8,13,15,17],\"y\":[4.711850512695312,2.659428728802999,4.761943043263753,6.782888791402181,4.507622990544637,4.0549357006073,4.114479799524943,4.713225469970703,4.483583658981323],\"type\":\"scatter\"},{\"name\":\"Best Value\",\"x\":[0,2,4,5,6,8,13,15,17],\"y\":[4.711850512695312,2.659428728802999,2.659428728802999,2.659428728802999,2.659428728802999,2.659428728802999,2.659428728802999,2.659428728802999,2.659428728802999],\"type\":\"scatter\"}],                        {\"title\":{\"text\":\"Optimization History Plot\"},\"xaxis\":{\"title\":{\"text\":\"Trial\"}},\"yaxis\":{\"title\":{\"text\":\"Objective Value\"}},\"template\":{\"data\":{\"histogram2dcontour\":[{\"type\":\"histogram2dcontour\",\"colorbar\":{\"outlinewidth\":0,\"ticks\":\"\"},\"colorscale\":[[0.0,\"#0d0887\"],[0.1111111111111111,\"#46039f\"],[0.2222222222222222,\"#7201a8\"],[0.3333333333333333,\"#9c179e\"],[0.4444444444444444,\"#bd3786\"],[0.5555555555555556,\"#d8576b\"],[0.6666666666666666,\"#ed7953\"],[0.7777777777777778,\"#fb9f3a\"],[0.8888888888888888,\"#fdca26\"],[1.0,\"#f0f921\"]]}],\"choropleth\":[{\"type\":\"choropleth\",\"colorbar\":{\"outlinewidth\":0,\"ticks\":\"\"}}],\"histogram2d\":[{\"type\":\"histogram2d\",\"colorbar\":{\"outlinewidth\":0,\"ticks\":\"\"},\"colorscale\":[[0.0,\"#0d0887\"],[0.1111111111111111,\"#46039f\"],[0.2222222222222222,\"#7201a8\"],[0.3333333333333333,\"#9c179e\"],[0.4444444444444444,\"#bd3786\"],[0.5555555555555556,\"#d8576b\"],[0.6666666666666666,\"#ed7953\"],[0.7777777777777778,\"#fb9f3a\"],[0.8888888888888888,\"#fdca26\"],[1.0,\"#f0f921\"]]}],\"heatmap\":[{\"type\":\"heatmap\",\"colorbar\":{\"outlinewidth\":0,\"ticks\":\"\"},\"colorscale\":[[0.0,\"#0d0887\"],[0.1111111111111111,\"#46039f\"],[0.2222222222222222,\"#7201a8\"],[0.3333333333333333,\"#9c179e\"],[0.4444444444444444,\"#bd3786\"],[0.5555555555555556,\"#d8576b\"],[0.6666666666666666,\"#ed7953\"],[0.7777777777777778,\"#fb9f3a\"],[0.8888888888888888,\"#fdca26\"],[1.0,\"#f0f921\"]]}],\"heatmapgl\":[{\"type\":\"heatmapgl\",\"colorbar\":{\"outlinewidth\":0,\"ticks\":\"\"},\"colorscale\":[[0.0,\"#0d0887\"],[0.1111111111111111,\"#46039f\"],[0.2222222222222222,\"#7201a8\"],[0.3333333333333333,\"#9c179e\"],[0.4444444444444444,\"#bd3786\"],[0.5555555555555556,\"#d8576b\"],[0.6666666666666666,\"#ed7953\"],[0.7777777777777778,\"#fb9f3a\"],[0.8888888888888888,\"#fdca26\"],[1.0,\"#f0f921\"]]}],\"contourcarpet\":[{\"type\":\"contourcarpet\",\"colorbar\":{\"outlinewidth\":0,\"ticks\":\"\"}}],\"contour\":[{\"type\":\"contour\",\"colorbar\":{\"outlinewidth\":0,\"ticks\":\"\"},\"colorscale\":[[0.0,\"#0d0887\"],[0.1111111111111111,\"#46039f\"],[0.2222222222222222,\"#7201a8\"],[0.3333333333333333,\"#9c179e\"],[0.4444444444444444,\"#bd3786\"],[0.5555555555555556,\"#d8576b\"],[0.6666666666666666,\"#ed7953\"],[0.7777777777777778,\"#fb9f3a\"],[0.8888888888888888,\"#fdca26\"],[1.0,\"#f0f921\"]]}],\"surface\":[{\"type\":\"surface\",\"colorbar\":{\"outlinewidth\":0,\"ticks\":\"\"},\"colorscale\":[[0.0,\"#0d0887\"],[0.1111111111111111,\"#46039f\"],[0.2222222222222222,\"#7201a8\"],[0.3333333333333333,\"#9c179e\"],[0.4444444444444444,\"#bd3786\"],[0.5555555555555556,\"#d8576b\"],[0.6666666666666666,\"#ed7953\"],[0.7777777777777778,\"#fb9f3a\"],[0.8888888888888888,\"#fdca26\"],[1.0,\"#f0f921\"]]}],\"mesh3d\":[{\"type\":\"mesh3d\",\"colorbar\":{\"outlinewidth\":0,\"ticks\":\"\"}}],\"scatter\":[{\"fillpattern\":{\"fillmode\":\"overlay\",\"size\":10,\"solidity\":0.2},\"type\":\"scatter\"}],\"parcoords\":[{\"type\":\"parcoords\",\"line\":{\"colorbar\":{\"outlinewidth\":0,\"ticks\":\"\"}}}],\"scatterpolargl\":[{\"type\":\"scatterpolargl\",\"marker\":{\"colorbar\":{\"outlinewidth\":0,\"ticks\":\"\"}}}],\"bar\":[{\"error_x\":{\"color\":\"#2a3f5f\"},\"error_y\":{\"color\":\"#2a3f5f\"},\"marker\":{\"line\":{\"color\":\"#E5ECF6\",\"width\":0.5},\"pattern\":{\"fillmode\":\"overlay\",\"size\":10,\"solidity\":0.2}},\"type\":\"bar\"}],\"scattergeo\":[{\"type\":\"scattergeo\",\"marker\":{\"colorbar\":{\"outlinewidth\":0,\"ticks\":\"\"}}}],\"scatterpolar\":[{\"type\":\"scatterpolar\",\"marker\":{\"colorbar\":{\"outlinewidth\":0,\"ticks\":\"\"}}}],\"histogram\":[{\"marker\":{\"pattern\":{\"fillmode\":\"overlay\",\"size\":10,\"solidity\":0.2}},\"type\":\"histogram\"}],\"scattergl\":[{\"type\":\"scattergl\",\"marker\":{\"colorbar\":{\"outlinewidth\":0,\"ticks\":\"\"}}}],\"scatter3d\":[{\"type\":\"scatter3d\",\"line\":{\"colorbar\":{\"outlinewidth\":0,\"ticks\":\"\"}},\"marker\":{\"colorbar\":{\"outlinewidth\":0,\"ticks\":\"\"}}}],\"scattermapbox\":[{\"type\":\"scattermapbox\",\"marker\":{\"colorbar\":{\"outlinewidth\":0,\"ticks\":\"\"}}}],\"scatterternary\":[{\"type\":\"scatterternary\",\"marker\":{\"colorbar\":{\"outlinewidth\":0,\"ticks\":\"\"}}}],\"scattercarpet\":[{\"type\":\"scattercarpet\",\"marker\":{\"colorbar\":{\"outlinewidth\":0,\"ticks\":\"\"}}}],\"carpet\":[{\"aaxis\":{\"endlinecolor\":\"#2a3f5f\",\"gridcolor\":\"white\",\"linecolor\":\"white\",\"minorgridcolor\":\"white\",\"startlinecolor\":\"#2a3f5f\"},\"baxis\":{\"endlinecolor\":\"#2a3f5f\",\"gridcolor\":\"white\",\"linecolor\":\"white\",\"minorgridcolor\":\"white\",\"startlinecolor\":\"#2a3f5f\"},\"type\":\"carpet\"}],\"table\":[{\"cells\":{\"fill\":{\"color\":\"#EBF0F8\"},\"line\":{\"color\":\"white\"}},\"header\":{\"fill\":{\"color\":\"#C8D4E3\"},\"line\":{\"color\":\"white\"}},\"type\":\"table\"}],\"barpolar\":[{\"marker\":{\"line\":{\"color\":\"#E5ECF6\",\"width\":0.5},\"pattern\":{\"fillmode\":\"overlay\",\"size\":10,\"solidity\":0.2}},\"type\":\"barpolar\"}],\"pie\":[{\"automargin\":true,\"type\":\"pie\"}]},\"layout\":{\"autotypenumbers\":\"strict\",\"colorway\":[\"#636efa\",\"#EF553B\",\"#00cc96\",\"#ab63fa\",\"#FFA15A\",\"#19d3f3\",\"#FF6692\",\"#B6E880\",\"#FF97FF\",\"#FECB52\"],\"font\":{\"color\":\"#2a3f5f\"},\"hovermode\":\"closest\",\"hoverlabel\":{\"align\":\"left\"},\"paper_bgcolor\":\"white\",\"plot_bgcolor\":\"#E5ECF6\",\"polar\":{\"bgcolor\":\"#E5ECF6\",\"angularaxis\":{\"gridcolor\":\"white\",\"linecolor\":\"white\",\"ticks\":\"\"},\"radialaxis\":{\"gridcolor\":\"white\",\"linecolor\":\"white\",\"ticks\":\"\"}},\"ternary\":{\"bgcolor\":\"#E5ECF6\",\"aaxis\":{\"gridcolor\":\"white\",\"linecolor\":\"white\",\"ticks\":\"\"},\"baxis\":{\"gridcolor\":\"white\",\"linecolor\":\"white\",\"ticks\":\"\"},\"caxis\":{\"gridcolor\":\"white\",\"linecolor\":\"white\",\"ticks\":\"\"}},\"coloraxis\":{\"colorbar\":{\"outlinewidth\":0,\"ticks\":\"\"}},\"colorscale\":{\"sequential\":[[0.0,\"#0d0887\"],[0.1111111111111111,\"#46039f\"],[0.2222222222222222,\"#7201a8\"],[0.3333333333333333,\"#9c179e\"],[0.4444444444444444,\"#bd3786\"],[0.5555555555555556,\"#d8576b\"],[0.6666666666666666,\"#ed7953\"],[0.7777777777777778,\"#fb9f3a\"],[0.8888888888888888,\"#fdca26\"],[1.0,\"#f0f921\"]],\"sequentialminus\":[[0.0,\"#0d0887\"],[0.1111111111111111,\"#46039f\"],[0.2222222222222222,\"#7201a8\"],[0.3333333333333333,\"#9c179e\"],[0.4444444444444444,\"#bd3786\"],[0.5555555555555556,\"#d8576b\"],[0.6666666666666666,\"#ed7953\"],[0.7777777777777778,\"#fb9f3a\"],[0.8888888888888888,\"#fdca26\"],[1.0,\"#f0f921\"]],\"diverging\":[[0,\"#8e0152\"],[0.1,\"#c51b7d\"],[0.2,\"#de77ae\"],[0.3,\"#f1b6da\"],[0.4,\"#fde0ef\"],[0.5,\"#f7f7f7\"],[0.6,\"#e6f5d0\"],[0.7,\"#b8e186\"],[0.8,\"#7fbc41\"],[0.9,\"#4d9221\"],[1,\"#276419\"]]},\"xaxis\":{\"gridcolor\":\"white\",\"linecolor\":\"white\",\"ticks\":\"\",\"title\":{\"standoff\":15},\"zerolinecolor\":\"white\",\"automargin\":true,\"zerolinewidth\":2},\"yaxis\":{\"gridcolor\":\"white\",\"linecolor\":\"white\",\"ticks\":\"\",\"title\":{\"standoff\":15},\"zerolinecolor\":\"white\",\"automargin\":true,\"zerolinewidth\":2},\"scene\":{\"xaxis\":{\"backgroundcolor\":\"#E5ECF6\",\"gridcolor\":\"white\",\"linecolor\":\"white\",\"showbackground\":true,\"ticks\":\"\",\"zerolinecolor\":\"white\",\"gridwidth\":2},\"yaxis\":{\"backgroundcolor\":\"#E5ECF6\",\"gridcolor\":\"white\",\"linecolor\":\"white\",\"showbackground\":true,\"ticks\":\"\",\"zerolinecolor\":\"white\",\"gridwidth\":2},\"zaxis\":{\"backgroundcolor\":\"#E5ECF6\",\"gridcolor\":\"white\",\"linecolor\":\"white\",\"showbackground\":true,\"ticks\":\"\",\"zerolinecolor\":\"white\",\"gridwidth\":2}},\"shapedefaults\":{\"line\":{\"color\":\"#2a3f5f\"}},\"annotationdefaults\":{\"arrowcolor\":\"#2a3f5f\",\"arrowhead\":0,\"arrowwidth\":1},\"geo\":{\"bgcolor\":\"white\",\"landcolor\":\"#E5ECF6\",\"subunitcolor\":\"white\",\"showland\":true,\"showlakes\":true,\"lakecolor\":\"white\"},\"title\":{\"x\":0.05},\"mapbox\":{\"style\":\"light\"}}}},                        {\"responsive\": true}                    ).then(function(){\n",
              "                            \n",
              "var gd = document.getElementById('5dfe1904-90e4-4ccf-94d6-b3193f38d6d9');\n",
              "var x = new MutationObserver(function (mutations, observer) {{\n",
              "        var display = window.getComputedStyle(gd).display;\n",
              "        if (!display || display === 'none') {{\n",
              "            console.log([gd, 'removed!']);\n",
              "            Plotly.purge(gd);\n",
              "            observer.disconnect();\n",
              "        }}\n",
              "}});\n",
              "\n",
              "// Listen for the removal of the full notebook cells\n",
              "var notebookContainer = gd.closest('#notebook-container');\n",
              "if (notebookContainer) {{\n",
              "    x.observe(notebookContainer, {childList: true});\n",
              "}}\n",
              "\n",
              "// Listen for the clearing of the current output cell\n",
              "var outputEl = gd.closest('.output');\n",
              "if (outputEl) {{\n",
              "    x.observe(outputEl, {childList: true});\n",
              "}}\n",
              "\n",
              "                        })                };                            </script>        </div>\n",
              "</body>\n",
              "</html>"
            ]
          },
          "metadata": {}
        },
        {
          "output_type": "stream",
          "name": "stderr",
          "text": [
            "[W 2023-06-03 11:48:45,014] Your study has only completed trials with missing parameters.\n",
            "<ipython-input-119-ca043aa389dc>:44: FutureWarning:\n",
            "\n",
            "suggest_loguniform has been deprecated in v3.0.0. This feature will be removed in v6.0.0. See https://github.com/optuna/optuna/releases/tag/v3.0.0. Use suggest_float(..., log=True) instead.\n",
            "\n",
            "<ipython-input-119-ca043aa389dc>:76: FutureWarning:\n",
            "\n",
            "suggest_uniform has been deprecated in v3.0.0. This feature will be removed in v6.0.0. See https://github.com/optuna/optuna/releases/tag/v3.0.0. Use suggest_float instead.\n",
            "\n",
            "<ipython-input-119-ca043aa389dc>:178: FutureWarning:\n",
            "\n",
            "suggest_uniform has been deprecated in v3.0.0. This feature will be removed in v6.0.0. See https://github.com/optuna/optuna/releases/tag/v3.0.0. Use suggest_float instead.\n",
            "\n",
            "<ipython-input-119-ca043aa389dc>:180: FutureWarning:\n",
            "\n",
            "suggest_loguniform has been deprecated in v3.0.0. This feature will be removed in v6.0.0. See https://github.com/optuna/optuna/releases/tag/v3.0.0. Use suggest_float(..., log=True) instead.\n",
            "\n"
          ]
        },
        {
          "output_type": "stream",
          "name": "stdout",
          "text": [
            "Epoch 1/119.. Train loss: 1105.452.. Val loss: 89.085.. Train L1 norm: 1.874.. Val L1 norm: 1.077.. Train Linf norm: 703.729.. Val Linf norm: 80.808\n",
            "Epoch 2/119.. Train loss: 99.441.. Val loss: 100.526.. Train L1 norm: 1.482.. Val L1 norm: 1.771.. Train Linf norm: 478.544.. Val Linf norm: 596.250\n",
            "Epoch 3/119.. Train loss: 67.251.. Val loss: 85.080.. Train L1 norm: 1.560.. Val L1 norm: 1.777.. Train Linf norm: 443.739.. Val Linf norm: 442.892\n",
            "Epoch 4/119.. Train loss: 101.878.. Val loss: 95.503.. Train L1 norm: 1.803.. Val L1 norm: 2.028.. Train Linf norm: 763.641.. Val Linf norm: 595.186\n",
            "Epoch 5/119.. Train loss: 82.785.. Val loss: 85.163.. Train L1 norm: 1.900.. Val L1 norm: 1.383.. Train Linf norm: 763.499.. Val Linf norm: 196.839\n",
            "Epoch 6/119.. Train loss: 61.533.. Val loss: 83.911.. Train L1 norm: 1.930.. Val L1 norm: 1.519.. Train Linf norm: 802.905.. Val Linf norm: 221.832\n",
            "Epoch 7/119.. Train loss: 57.083.. Val loss: 83.056.. Train L1 norm: 2.128.. Val L1 norm: 1.620.. Train Linf norm: 1053.532.. Val Linf norm: 306.725\n",
            "Epoch 8/119.. Train loss: 56.529.. Val loss: 83.302.. Train L1 norm: 2.176.. Val L1 norm: 1.556.. Train Linf norm: 1113.917.. Val Linf norm: 255.157\n",
            "Epoch 9/119.. Train loss: 53.048.. Val loss: 83.794.. Train L1 norm: 2.218.. Val L1 norm: 1.666.. Train Linf norm: 1056.445.. Val Linf norm: 277.840\n",
            "Epoch 10/119.. Train loss: 52.814.. Val loss: 83.773.. Train L1 norm: 2.400.. Val L1 norm: 1.748.. Train Linf norm: 1195.835.. Val Linf norm: 373.038\n",
            "Epoch 11/119.. Train loss: 63.108.. Val loss: 82.133.. Train L1 norm: 2.413.. Val L1 norm: 1.516.. Train Linf norm: 1166.771.. Val Linf norm: 236.331\n",
            "Epoch 12/119.. Train loss: 51.316.. Val loss: 80.570.. Train L1 norm: 2.315.. Val L1 norm: 1.819.. Train Linf norm: 1236.577.. Val Linf norm: 412.191\n",
            "Epoch 13/119.. Train loss: 55.590.. Val loss: 83.749.. Train L1 norm: 2.197.. Val L1 norm: 1.553.. Train Linf norm: 1071.720.. Val Linf norm: 240.016\n",
            "Epoch 14/119.. Train loss: 54.416.. Val loss: 82.313.. Train L1 norm: 2.342.. Val L1 norm: 1.779.. Train Linf norm: 1217.764.. Val Linf norm: 315.945\n",
            "Epoch 15/119.. Train loss: 51.829.. Val loss: 81.403.. Train L1 norm: 2.458.. Val L1 norm: 1.820.. Train Linf norm: 1260.759.. Val Linf norm: 358.509\n",
            "Epoch 16/119.. Train loss: 51.574.. Val loss: 83.019.. Train L1 norm: 2.492.. Val L1 norm: 1.971.. Train Linf norm: 1393.796.. Val Linf norm: 469.283\n",
            "Epoch 17/119.. Train loss: 52.473.. Val loss: 82.070.. Train L1 norm: 2.570.. Val L1 norm: 1.804.. Train Linf norm: 1349.959.. Val Linf norm: 399.206\n",
            "Epoch 18/119.. Train loss: 51.810.. Val loss: 82.907.. Train L1 norm: 2.469.. Val L1 norm: 2.158.. Train Linf norm: 1346.526.. Val Linf norm: 530.025\n",
            "Epoch 19/119.. Train loss: 51.094.. Val loss: 82.781.. Train L1 norm: 2.588.. Val L1 norm: 2.028.. Train Linf norm: 1268.004.. Val Linf norm: 509.831\n",
            "Epoch 20/119.. Train loss: 50.820.. Val loss: 83.206.. Train L1 norm: 2.509.. Val L1 norm: 2.020.. Train Linf norm: 1082.683.. Val Linf norm: 514.210\n",
            "Epoch 21/119.. Train loss: 50.516.. Val loss: 83.559.. Train L1 norm: 2.538.. Val L1 norm: 2.076.. Train Linf norm: 1300.577.. Val Linf norm: 542.154\n",
            "Epoch 22/119.. Train loss: 52.178.. Val loss: 82.521.. Train L1 norm: 2.526.. Val L1 norm: 2.025.. Train Linf norm: 1285.946.. Val Linf norm: 527.034\n",
            "Epoch 23/119.. Train loss: 50.500.. Val loss: 82.921.. Train L1 norm: 2.549.. Val L1 norm: 2.021.. Train Linf norm: 1345.351.. Val Linf norm: 531.011\n",
            "Epoch 24/119.. Train loss: 50.993.. Val loss: 82.258.. Train L1 norm: 2.500.. Val L1 norm: 1.970.. Train Linf norm: 1348.275.. Val Linf norm: 505.386\n",
            "Epoch 25/119.. Train loss: 51.981.. Val loss: 82.242.. Train L1 norm: 2.432.. Val L1 norm: 1.972.. Train Linf norm: 1191.584.. Val Linf norm: 507.151\n",
            "Epoch 26/119.. Train loss: 50.184.. Val loss: 82.376.. Train L1 norm: 2.485.. Val L1 norm: 1.995.. Train Linf norm: 1259.843.. Val Linf norm: 515.842\n",
            "Epoch 27/119.. Train loss: 50.502.. Val loss: 82.518.. Train L1 norm: 2.466.. Val L1 norm: 2.003.. Train Linf norm: 1214.896.. Val Linf norm: 520.565\n",
            "Epoch 28/119.. Train loss: 50.278.. Val loss: 82.596.. Train L1 norm: 2.586.. Val L1 norm: 2.008.. Train Linf norm: 1506.882.. Val Linf norm: 523.237\n",
            "Epoch 29/119.. Train loss: 50.364.. Val loss: 82.606.. Train L1 norm: 2.503.. Val L1 norm: 2.012.. Train Linf norm: 1308.711.. Val Linf norm: 525.764\n",
            "Epoch 30/119.. Train loss: 50.598.. Val loss: 82.630.. Train L1 norm: 2.586.. Val L1 norm: 2.017.. Train Linf norm: 1414.271.. Val Linf norm: 528.343\n",
            "Epoch 31/119.. Train loss: 50.514.. Val loss: 82.635.. Train L1 norm: 2.484.. Val L1 norm: 2.018.. Train Linf norm: 1216.340.. Val Linf norm: 529.039\n",
            "Epoch 32/119.. Train loss: 49.893.. Val loss: 82.667.. Train L1 norm: 2.556.. Val L1 norm: 2.020.. Train Linf norm: 1384.859.. Val Linf norm: 530.126\n",
            "Epoch 33/119.. Train loss: 50.078.. Val loss: 82.679.. Train L1 norm: 2.424.. Val L1 norm: 2.021.. Train Linf norm: 1106.316.. Val Linf norm: 530.736\n",
            "Epoch 34/119.. Train loss: 50.844.. Val loss: 82.695.. Train L1 norm: 2.473.. Val L1 norm: 2.021.. Train Linf norm: 1264.550.. Val Linf norm: 530.711\n",
            "Epoch 35/119.. Train loss: 49.906.. Val loss: 82.718.. Train L1 norm: 2.547.. Val L1 norm: 2.023.. Train Linf norm: 1338.693.. Val Linf norm: 531.480\n",
            "Epoch 36/119.. Train loss: 50.600.. Val loss: 82.724.. Train L1 norm: 2.535.. Val L1 norm: 2.024.. Train Linf norm: 1325.597.. Val Linf norm: 531.963\n",
            "Epoch 37/119.. Train loss: 49.921.. Val loss: 82.727.. Train L1 norm: 2.522.. Val L1 norm: 2.024.. Train Linf norm: 1254.043.. Val Linf norm: 532.039\n",
            "Epoch 38/119.. Train loss: 50.969.. Val loss: 82.722.. Train L1 norm: 2.534.. Val L1 norm: 2.024.. Train Linf norm: 1332.787.. Val Linf norm: 531.984\n",
            "Epoch 39/119.. Train loss: 50.459.. Val loss: 82.722.. Train L1 norm: 2.484.. Val L1 norm: 2.024.. Train Linf norm: 1214.083.. Val Linf norm: 531.996\n",
            "Epoch 40/119.. Train loss: 50.173.. Val loss: 82.725.. Train L1 norm: 2.528.. Val L1 norm: 2.024.. Train Linf norm: 1299.243.. Val Linf norm: 532.154\n",
            "Epoch 41/119.. Train loss: 50.966.. Val loss: 82.724.. Train L1 norm: 2.492.. Val L1 norm: 2.024.. Train Linf norm: 1160.631.. Val Linf norm: 532.113\n",
            "Epoch 42/119.. Train loss: 49.947.. Val loss: 82.726.. Train L1 norm: 2.482.. Val L1 norm: 2.024.. Train Linf norm: 1200.473.. Val Linf norm: 532.229\n",
            "Epoch 43/119.. Train loss: 50.130.. Val loss: 82.726.. Train L1 norm: 2.538.. Val L1 norm: 2.024.. Train Linf norm: 1221.960.. Val Linf norm: 532.241\n",
            "Epoch 44/119.. Train loss: 49.672.. Val loss: 82.726.. Train L1 norm: 2.499.. Val L1 norm: 2.024.. Train Linf norm: 1206.087.. Val Linf norm: 532.243\n",
            "Epoch 45/119.. Train loss: 50.087.. Val loss: 82.727.. Train L1 norm: 2.495.. Val L1 norm: 2.024.. Train Linf norm: 1285.391.. Val Linf norm: 532.237\n",
            "Epoch 46/119.. Train loss: 50.205.. Val loss: 82.726.. Train L1 norm: 2.446.. Val L1 norm: 2.024.. Train Linf norm: 1144.559.. Val Linf norm: 532.227\n",
            "Epoch 47/119.. Train loss: 49.692.. Val loss: 82.726.. Train L1 norm: 2.588.. Val L1 norm: 2.024.. Train Linf norm: 1406.555.. Val Linf norm: 532.231\n",
            "Epoch 48/119.. Train loss: 49.686.. Val loss: 82.726.. Train L1 norm: 2.530.. Val L1 norm: 2.024.. Train Linf norm: 1305.923.. Val Linf norm: 532.232\n",
            "Epoch 49/119.. Train loss: 50.627.. Val loss: 82.726.. Train L1 norm: 2.533.. Val L1 norm: 2.024.. Train Linf norm: 1324.080.. Val Linf norm: 532.226\n",
            "Epoch 50/119.. Train loss: 50.636.. Val loss: 82.726.. Train L1 norm: 2.552.. Val L1 norm: 2.024.. Train Linf norm: 1288.982.. Val Linf norm: 532.219\n",
            "Epoch 51/119.. Train loss: 50.489.. Val loss: 82.726.. Train L1 norm: 2.505.. Val L1 norm: 2.024.. Train Linf norm: 1173.916.. Val Linf norm: 532.211\n",
            "Epoch 52/119.. Train loss: 50.006.. Val loss: 82.726.. Train L1 norm: 2.546.. Val L1 norm: 2.024.. Train Linf norm: 1238.654.. Val Linf norm: 532.212\n",
            "Epoch 53/119.. Train loss: 49.978.. Val loss: 82.726.. Train L1 norm: 2.472.. Val L1 norm: 2.024.. Train Linf norm: 1169.073.. Val Linf norm: 532.209\n",
            "Epoch 54/119.. Train loss: 51.217.. Val loss: 82.726.. Train L1 norm: 2.490.. Val L1 norm: 2.024.. Train Linf norm: 1223.769.. Val Linf norm: 532.200\n",
            "Epoch 55/119.. Train loss: 50.253.. Val loss: 82.726.. Train L1 norm: 2.533.. Val L1 norm: 2.024.. Train Linf norm: 1227.350.. Val Linf norm: 532.199\n",
            "Epoch 56/119.. Train loss: 50.001.. Val loss: 82.726.. Train L1 norm: 2.506.. Val L1 norm: 2.024.. Train Linf norm: 1207.875.. Val Linf norm: 532.198\n",
            "Epoch 57/119.. Train loss: 50.004.. Val loss: 82.726.. Train L1 norm: 2.503.. Val L1 norm: 2.024.. Train Linf norm: 1254.098.. Val Linf norm: 532.195\n",
            "Epoch 58/119.. Train loss: 51.024.. Val loss: 82.725.. Train L1 norm: 2.509.. Val L1 norm: 2.024.. Train Linf norm: 1158.399.. Val Linf norm: 532.189\n",
            "Epoch 59/119.. Train loss: 50.527.. Val loss: 82.725.. Train L1 norm: 2.502.. Val L1 norm: 2.024.. Train Linf norm: 1088.519.. Val Linf norm: 532.187\n",
            "Epoch 60/119.. Train loss: 51.442.. Val loss: 82.725.. Train L1 norm: 2.513.. Val L1 norm: 2.024.. Train Linf norm: 1224.791.. Val Linf norm: 532.177\n",
            "Epoch 61/119.. Train loss: 50.728.. Val loss: 82.725.. Train L1 norm: 2.509.. Val L1 norm: 2.024.. Train Linf norm: 1274.647.. Val Linf norm: 532.172\n",
            "Epoch 62/119.. Train loss: 51.692.. Val loss: 82.725.. Train L1 norm: 2.542.. Val L1 norm: 2.024.. Train Linf norm: 1302.617.. Val Linf norm: 532.163\n",
            "Epoch 63/119.. Train loss: 50.063.. Val loss: 82.725.. Train L1 norm: 2.533.. Val L1 norm: 2.024.. Train Linf norm: 1312.684.. Val Linf norm: 532.163\n",
            "Epoch 64/119.. Train loss: 50.347.. Val loss: 82.724.. Train L1 norm: 2.574.. Val L1 norm: 2.024.. Train Linf norm: 1387.366.. Val Linf norm: 532.162\n",
            "Epoch 65/119.. Train loss: 50.265.. Val loss: 82.724.. Train L1 norm: 2.557.. Val L1 norm: 2.024.. Train Linf norm: 1377.866.. Val Linf norm: 532.160\n",
            "Epoch 66/119.. Train loss: 49.890.. Val loss: 82.724.. Train L1 norm: 2.516.. Val L1 norm: 2.024.. Train Linf norm: 1243.305.. Val Linf norm: 532.158\n",
            "Epoch 67/119.. Train loss: 50.325.. Val loss: 82.724.. Train L1 norm: 2.501.. Val L1 norm: 2.024.. Train Linf norm: 1245.980.. Val Linf norm: 532.154\n",
            "Epoch 68/119.. Train loss: 50.898.. Val loss: 82.724.. Train L1 norm: 2.567.. Val L1 norm: 2.024.. Train Linf norm: 1376.158.. Val Linf norm: 532.151\n",
            "Epoch 69/119.. Train loss: 49.839.. Val loss: 82.724.. Train L1 norm: 2.490.. Val L1 norm: 2.024.. Train Linf norm: 1282.828.. Val Linf norm: 532.151\n",
            "Epoch 70/119.. Train loss: 49.837.. Val loss: 82.724.. Train L1 norm: 2.551.. Val L1 norm: 2.024.. Train Linf norm: 1359.091.. Val Linf norm: 532.150\n",
            "Epoch 71/119.. Train loss: 50.615.. Val loss: 82.724.. Train L1 norm: 2.609.. Val L1 norm: 2.024.. Train Linf norm: 1424.125.. Val Linf norm: 532.148\n",
            "Epoch 72/119.. Train loss: 50.511.. Val loss: 82.724.. Train L1 norm: 2.513.. Val L1 norm: 2.024.. Train Linf norm: 1239.349.. Val Linf norm: 532.143\n",
            "Epoch 73/119.. Train loss: 50.069.. Val loss: 82.724.. Train L1 norm: 2.501.. Val L1 norm: 2.024.. Train Linf norm: 1187.229.. Val Linf norm: 532.141\n",
            "Epoch 74/119.. Train loss: 50.394.. Val loss: 82.724.. Train L1 norm: 2.482.. Val L1 norm: 2.024.. Train Linf norm: 1188.228.. Val Linf norm: 532.138\n",
            "Epoch 75/119.. Train loss: 50.007.. Val loss: 82.724.. Train L1 norm: 2.438.. Val L1 norm: 2.024.. Train Linf norm: 1118.985.. Val Linf norm: 532.137\n",
            "Epoch 76/119.. Train loss: 50.181.. Val loss: 82.724.. Train L1 norm: 2.534.. Val L1 norm: 2.024.. Train Linf norm: 1098.932.. Val Linf norm: 532.135\n",
            "Epoch 77/119.. Train loss: 49.933.. Val loss: 82.724.. Train L1 norm: 2.550.. Val L1 norm: 2.024.. Train Linf norm: 1233.987.. Val Linf norm: 532.135\n",
            "Epoch 78/119.. Train loss: 49.825.. Val loss: 82.724.. Train L1 norm: 2.530.. Val L1 norm: 2.024.. Train Linf norm: 1109.507.. Val Linf norm: 532.134\n",
            "Epoch 79/119.. Train loss: 51.279.. Val loss: 82.724.. Train L1 norm: 2.467.. Val L1 norm: 2.024.. Train Linf norm: 1238.490.. Val Linf norm: 532.129\n",
            "Epoch 80/119.. Train loss: 50.436.. Val loss: 82.723.. Train L1 norm: 2.557.. Val L1 norm: 2.024.. Train Linf norm: 1440.819.. Val Linf norm: 532.127\n",
            "Epoch 81/119.. Train loss: 49.992.. Val loss: 82.723.. Train L1 norm: 2.483.. Val L1 norm: 2.024.. Train Linf norm: 1136.070.. Val Linf norm: 532.126\n",
            "Epoch 82/119.. Train loss: 50.513.. Val loss: 82.723.. Train L1 norm: 2.545.. Val L1 norm: 2.024.. Train Linf norm: 1113.886.. Val Linf norm: 532.124\n",
            "Epoch 83/119.. Train loss: 50.291.. Val loss: 82.723.. Train L1 norm: 2.557.. Val L1 norm: 2.024.. Train Linf norm: 1284.803.. Val Linf norm: 532.120\n",
            "Epoch 84/119.. Train loss: 50.121.. Val loss: 82.723.. Train L1 norm: 2.464.. Val L1 norm: 2.024.. Train Linf norm: 1200.462.. Val Linf norm: 532.119\n",
            "Epoch 85/119.. Train loss: 51.061.. Val loss: 82.723.. Train L1 norm: 2.479.. Val L1 norm: 2.024.. Train Linf norm: 1190.559.. Val Linf norm: 532.111\n",
            "Epoch 86/119.. Train loss: 51.217.. Val loss: 82.723.. Train L1 norm: 2.516.. Val L1 norm: 2.024.. Train Linf norm: 1352.085.. Val Linf norm: 532.106\n",
            "Epoch 87/119.. Train loss: 49.923.. Val loss: 82.723.. Train L1 norm: 2.583.. Val L1 norm: 2.024.. Train Linf norm: 1433.353.. Val Linf norm: 532.106\n",
            "Epoch 88/119.. Train loss: 50.831.. Val loss: 82.723.. Train L1 norm: 2.534.. Val L1 norm: 2.024.. Train Linf norm: 1306.794.. Val Linf norm: 532.104\n",
            "Epoch 89/119.. Train loss: 49.607.. Val loss: 82.723.. Train L1 norm: 2.492.. Val L1 norm: 2.024.. Train Linf norm: 1237.479.. Val Linf norm: 532.104\n",
            "Epoch 90/119.. Train loss: 50.410.. Val loss: 82.723.. Train L1 norm: 2.529.. Val L1 norm: 2.024.. Train Linf norm: 1359.589.. Val Linf norm: 532.102\n",
            "Epoch 91/119.. Train loss: 50.912.. Val loss: 82.723.. Train L1 norm: 2.482.. Val L1 norm: 2.024.. Train Linf norm: 1288.147.. Val Linf norm: 532.097\n",
            "Epoch 92/119.. Train loss: 49.771.. Val loss: 82.723.. Train L1 norm: 2.523.. Val L1 norm: 2.024.. Train Linf norm: 1269.648.. Val Linf norm: 532.096\n",
            "Epoch 93/119.. Train loss: 50.131.. Val loss: 82.723.. Train L1 norm: 2.533.. Val L1 norm: 2.024.. Train Linf norm: 1329.976.. Val Linf norm: 532.095\n",
            "Epoch 94/119.. Train loss: 49.943.. Val loss: 82.723.. Train L1 norm: 2.547.. Val L1 norm: 2.024.. Train Linf norm: 1382.133.. Val Linf norm: 532.094\n",
            "Epoch 95/119.. Train loss: 50.891.. Val loss: 82.722.. Train L1 norm: 2.489.. Val L1 norm: 2.024.. Train Linf norm: 1160.498.. Val Linf norm: 532.091\n",
            "Epoch 96/119.. Train loss: 49.829.. Val loss: 82.722.. Train L1 norm: 2.519.. Val L1 norm: 2.024.. Train Linf norm: 1218.189.. Val Linf norm: 532.090\n",
            "Epoch 97/119.. Train loss: 51.075.. Val loss: 82.722.. Train L1 norm: 2.575.. Val L1 norm: 2.024.. Train Linf norm: 1487.221.. Val Linf norm: 532.085\n",
            "Epoch 98/119.. Train loss: 50.221.. Val loss: 82.722.. Train L1 norm: 2.451.. Val L1 norm: 2.024.. Train Linf norm: 1152.068.. Val Linf norm: 532.085\n",
            "Epoch 99/119.. Train loss: 50.650.. Val loss: 82.722.. Train L1 norm: 2.531.. Val L1 norm: 2.024.. Train Linf norm: 1264.734.. Val Linf norm: 532.078\n",
            "Epoch 100/119.. Train loss: 49.679.. Val loss: 82.722.. Train L1 norm: 2.508.. Val L1 norm: 2.024.. Train Linf norm: 1275.001.. Val Linf norm: 532.077\n",
            "Epoch 101/119.. Train loss: 50.545.. Val loss: 82.722.. Train L1 norm: 2.518.. Val L1 norm: 2.024.. Train Linf norm: 1151.319.. Val Linf norm: 532.076\n",
            "Epoch 102/119.. Train loss: 50.685.. Val loss: 82.722.. Train L1 norm: 2.592.. Val L1 norm: 2.024.. Train Linf norm: 1390.242.. Val Linf norm: 532.071\n",
            "Epoch 103/119.. Train loss: 50.067.. Val loss: 82.722.. Train L1 norm: 2.508.. Val L1 norm: 2.024.. Train Linf norm: 1279.690.. Val Linf norm: 532.067\n",
            "Epoch 104/119.. Train loss: 51.553.. Val loss: 82.722.. Train L1 norm: 2.554.. Val L1 norm: 2.024.. Train Linf norm: 1373.042.. Val Linf norm: 532.063\n",
            "Epoch 105/119.. Train loss: 50.100.. Val loss: 82.722.. Train L1 norm: 2.500.. Val L1 norm: 2.024.. Train Linf norm: 1220.372.. Val Linf norm: 532.061\n",
            "Epoch 106/119.. Train loss: 50.738.. Val loss: 82.722.. Train L1 norm: 2.588.. Val L1 norm: 2.024.. Train Linf norm: 1370.713.. Val Linf norm: 532.058\n",
            "Epoch 107/119.. Train loss: 50.083.. Val loss: 82.722.. Train L1 norm: 2.471.. Val L1 norm: 2.024.. Train Linf norm: 1115.595.. Val Linf norm: 532.058\n",
            "Epoch 108/119.. Train loss: 50.559.. Val loss: 82.722.. Train L1 norm: 2.452.. Val L1 norm: 2.024.. Train Linf norm: 1230.961.. Val Linf norm: 532.056\n",
            "Epoch 109/119.. Train loss: 50.657.. Val loss: 82.721.. Train L1 norm: 2.499.. Val L1 norm: 2.024.. Train Linf norm: 1226.551.. Val Linf norm: 532.052\n",
            "Epoch 110/119.. Train loss: 50.335.. Val loss: 82.721.. Train L1 norm: 2.571.. Val L1 norm: 2.024.. Train Linf norm: 1457.559.. Val Linf norm: 532.047\n",
            "Epoch 111/119.. Train loss: 50.522.. Val loss: 82.721.. Train L1 norm: 2.528.. Val L1 norm: 2.024.. Train Linf norm: 1255.660.. Val Linf norm: 532.044\n",
            "Epoch 112/119.. Train loss: 49.661.. Val loss: 82.721.. Train L1 norm: 2.433.. Val L1 norm: 2.024.. Train Linf norm: 1117.233.. Val Linf norm: 532.044\n",
            "Epoch 113/119.. Train loss: 50.066.. Val loss: 82.721.. Train L1 norm: 2.511.. Val L1 norm: 2.024.. Train Linf norm: 1145.614.. Val Linf norm: 532.043\n",
            "Epoch 114/119.. Train loss: 50.039.. Val loss: 82.721.. Train L1 norm: 2.531.. Val L1 norm: 2.024.. Train Linf norm: 1339.544.. Val Linf norm: 532.042\n",
            "Epoch 115/119.. Train loss: 50.240.. Val loss: 82.721.. Train L1 norm: 2.463.. Val L1 norm: 2.024.. Train Linf norm: 1230.841.. Val Linf norm: 532.041\n",
            "Epoch 116/119.. Train loss: 50.057.. Val loss: 82.721.. Train L1 norm: 2.451.. Val L1 norm: 2.024.. Train Linf norm: 1149.460.. Val Linf norm: 532.039\n",
            "Epoch 117/119.. Train loss: 49.882.. Val loss: 82.721.. Train L1 norm: 2.542.. Val L1 norm: 2.024.. Train Linf norm: 1385.154.. Val Linf norm: 532.039\n",
            "Epoch 118/119.. Train loss: 50.648.. Val loss: 82.721.. Train L1 norm: 2.548.. Val L1 norm: 2.024.. Train Linf norm: 1252.621.. Val Linf norm: 532.040\n"
          ]
        },
        {
          "output_type": "stream",
          "name": "stderr",
          "text": [
            "[I 2023-06-03 12:00:58,618] Trial 19 finished with value: 2.023785203997294 and parameters: {'n_layers': 6, 'n_units_0': 3537, 'n_units_1': 2974, 'n_units_2': 649, 'n_units_3': 3444, 'n_units_4': 4086, 'n_units_5': 2717, 'hidden_activation': 'ReLU', 'output_activation': 'Linear', 'loss': 'MSE', 'optimizer': 'Adagrad', 'lr': 0.00021961918664620942, 'batch_size': 2048, 'n_epochs': 119, 'scheduler': 'ReduceLROnPlateau', 'dropout_rate': 0.08833772570718236, 'factor': 0.18481061567290286, 'patience': 5, 'threshold': 0.004397245925026009}. Best is trial 19 with value: 2.023785203997294.\n"
          ]
        },
        {
          "output_type": "stream",
          "name": "stdout",
          "text": [
            "Epoch 119/119.. Train loss: 50.631.. Val loss: 82.721.. Train L1 norm: 2.513.. Val L1 norm: 2.024.. Train Linf norm: 1332.755.. Val Linf norm: 532.040\n"
          ]
        },
        {
          "output_type": "display_data",
          "data": {
            "text/html": [
              "<html>\n",
              "<head><meta charset=\"utf-8\" /></head>\n",
              "<body>\n",
              "    <div>            <script src=\"https://cdnjs.cloudflare.com/ajax/libs/mathjax/2.7.5/MathJax.js?config=TeX-AMS-MML_SVG\"></script><script type=\"text/javascript\">if (window.MathJax && window.MathJax.Hub && window.MathJax.Hub.Config) {window.MathJax.Hub.Config({SVG: {font: \"STIX-Web\"}});}</script>                <script type=\"text/javascript\">window.PlotlyConfig = {MathJaxConfig: 'local'};</script>\n",
              "        <script src=\"https://cdn.plot.ly/plotly-2.18.2.min.js\"></script>                <div id=\"62872262-6782-4844-9efd-6a7953f6d75d\" class=\"plotly-graph-div\" style=\"height:525px; width:100%;\"></div>            <script type=\"text/javascript\">                                    window.PLOTLYENV=window.PLOTLYENV || {};                                    if (document.getElementById(\"62872262-6782-4844-9efd-6a7953f6d75d\")) {                    Plotly.newPlot(                        \"62872262-6782-4844-9efd-6a7953f6d75d\",                        [{\"mode\":\"markers\",\"name\":\"Objective Value\",\"x\":[0,2,4,5,6,8,13,15,17,19],\"y\":[4.711850512695312,2.659428728802999,4.761943043263753,6.782888791402181,4.507622990544637,4.0549357006073,4.114479799524943,4.713225469970703,4.483583658981323,2.023785203997294],\"type\":\"scatter\"},{\"name\":\"Best Value\",\"x\":[0,2,4,5,6,8,13,15,17,19],\"y\":[4.711850512695312,2.659428728802999,2.659428728802999,2.659428728802999,2.659428728802999,2.659428728802999,2.659428728802999,2.659428728802999,2.659428728802999,2.023785203997294],\"type\":\"scatter\"}],                        {\"title\":{\"text\":\"Optimization History Plot\"},\"xaxis\":{\"title\":{\"text\":\"Trial\"}},\"yaxis\":{\"title\":{\"text\":\"Objective Value\"}},\"template\":{\"data\":{\"histogram2dcontour\":[{\"type\":\"histogram2dcontour\",\"colorbar\":{\"outlinewidth\":0,\"ticks\":\"\"},\"colorscale\":[[0.0,\"#0d0887\"],[0.1111111111111111,\"#46039f\"],[0.2222222222222222,\"#7201a8\"],[0.3333333333333333,\"#9c179e\"],[0.4444444444444444,\"#bd3786\"],[0.5555555555555556,\"#d8576b\"],[0.6666666666666666,\"#ed7953\"],[0.7777777777777778,\"#fb9f3a\"],[0.8888888888888888,\"#fdca26\"],[1.0,\"#f0f921\"]]}],\"choropleth\":[{\"type\":\"choropleth\",\"colorbar\":{\"outlinewidth\":0,\"ticks\":\"\"}}],\"histogram2d\":[{\"type\":\"histogram2d\",\"colorbar\":{\"outlinewidth\":0,\"ticks\":\"\"},\"colorscale\":[[0.0,\"#0d0887\"],[0.1111111111111111,\"#46039f\"],[0.2222222222222222,\"#7201a8\"],[0.3333333333333333,\"#9c179e\"],[0.4444444444444444,\"#bd3786\"],[0.5555555555555556,\"#d8576b\"],[0.6666666666666666,\"#ed7953\"],[0.7777777777777778,\"#fb9f3a\"],[0.8888888888888888,\"#fdca26\"],[1.0,\"#f0f921\"]]}],\"heatmap\":[{\"type\":\"heatmap\",\"colorbar\":{\"outlinewidth\":0,\"ticks\":\"\"},\"colorscale\":[[0.0,\"#0d0887\"],[0.1111111111111111,\"#46039f\"],[0.2222222222222222,\"#7201a8\"],[0.3333333333333333,\"#9c179e\"],[0.4444444444444444,\"#bd3786\"],[0.5555555555555556,\"#d8576b\"],[0.6666666666666666,\"#ed7953\"],[0.7777777777777778,\"#fb9f3a\"],[0.8888888888888888,\"#fdca26\"],[1.0,\"#f0f921\"]]}],\"heatmapgl\":[{\"type\":\"heatmapgl\",\"colorbar\":{\"outlinewidth\":0,\"ticks\":\"\"},\"colorscale\":[[0.0,\"#0d0887\"],[0.1111111111111111,\"#46039f\"],[0.2222222222222222,\"#7201a8\"],[0.3333333333333333,\"#9c179e\"],[0.4444444444444444,\"#bd3786\"],[0.5555555555555556,\"#d8576b\"],[0.6666666666666666,\"#ed7953\"],[0.7777777777777778,\"#fb9f3a\"],[0.8888888888888888,\"#fdca26\"],[1.0,\"#f0f921\"]]}],\"contourcarpet\":[{\"type\":\"contourcarpet\",\"colorbar\":{\"outlinewidth\":0,\"ticks\":\"\"}}],\"contour\":[{\"type\":\"contour\",\"colorbar\":{\"outlinewidth\":0,\"ticks\":\"\"},\"colorscale\":[[0.0,\"#0d0887\"],[0.1111111111111111,\"#46039f\"],[0.2222222222222222,\"#7201a8\"],[0.3333333333333333,\"#9c179e\"],[0.4444444444444444,\"#bd3786\"],[0.5555555555555556,\"#d8576b\"],[0.6666666666666666,\"#ed7953\"],[0.7777777777777778,\"#fb9f3a\"],[0.8888888888888888,\"#fdca26\"],[1.0,\"#f0f921\"]]}],\"surface\":[{\"type\":\"surface\",\"colorbar\":{\"outlinewidth\":0,\"ticks\":\"\"},\"colorscale\":[[0.0,\"#0d0887\"],[0.1111111111111111,\"#46039f\"],[0.2222222222222222,\"#7201a8\"],[0.3333333333333333,\"#9c179e\"],[0.4444444444444444,\"#bd3786\"],[0.5555555555555556,\"#d8576b\"],[0.6666666666666666,\"#ed7953\"],[0.7777777777777778,\"#fb9f3a\"],[0.8888888888888888,\"#fdca26\"],[1.0,\"#f0f921\"]]}],\"mesh3d\":[{\"type\":\"mesh3d\",\"colorbar\":{\"outlinewidth\":0,\"ticks\":\"\"}}],\"scatter\":[{\"fillpattern\":{\"fillmode\":\"overlay\",\"size\":10,\"solidity\":0.2},\"type\":\"scatter\"}],\"parcoords\":[{\"type\":\"parcoords\",\"line\":{\"colorbar\":{\"outlinewidth\":0,\"ticks\":\"\"}}}],\"scatterpolargl\":[{\"type\":\"scatterpolargl\",\"marker\":{\"colorbar\":{\"outlinewidth\":0,\"ticks\":\"\"}}}],\"bar\":[{\"error_x\":{\"color\":\"#2a3f5f\"},\"error_y\":{\"color\":\"#2a3f5f\"},\"marker\":{\"line\":{\"color\":\"#E5ECF6\",\"width\":0.5},\"pattern\":{\"fillmode\":\"overlay\",\"size\":10,\"solidity\":0.2}},\"type\":\"bar\"}],\"scattergeo\":[{\"type\":\"scattergeo\",\"marker\":{\"colorbar\":{\"outlinewidth\":0,\"ticks\":\"\"}}}],\"scatterpolar\":[{\"type\":\"scatterpolar\",\"marker\":{\"colorbar\":{\"outlinewidth\":0,\"ticks\":\"\"}}}],\"histogram\":[{\"marker\":{\"pattern\":{\"fillmode\":\"overlay\",\"size\":10,\"solidity\":0.2}},\"type\":\"histogram\"}],\"scattergl\":[{\"type\":\"scattergl\",\"marker\":{\"colorbar\":{\"outlinewidth\":0,\"ticks\":\"\"}}}],\"scatter3d\":[{\"type\":\"scatter3d\",\"line\":{\"colorbar\":{\"outlinewidth\":0,\"ticks\":\"\"}},\"marker\":{\"colorbar\":{\"outlinewidth\":0,\"ticks\":\"\"}}}],\"scattermapbox\":[{\"type\":\"scattermapbox\",\"marker\":{\"colorbar\":{\"outlinewidth\":0,\"ticks\":\"\"}}}],\"scatterternary\":[{\"type\":\"scatterternary\",\"marker\":{\"colorbar\":{\"outlinewidth\":0,\"ticks\":\"\"}}}],\"scattercarpet\":[{\"type\":\"scattercarpet\",\"marker\":{\"colorbar\":{\"outlinewidth\":0,\"ticks\":\"\"}}}],\"carpet\":[{\"aaxis\":{\"endlinecolor\":\"#2a3f5f\",\"gridcolor\":\"white\",\"linecolor\":\"white\",\"minorgridcolor\":\"white\",\"startlinecolor\":\"#2a3f5f\"},\"baxis\":{\"endlinecolor\":\"#2a3f5f\",\"gridcolor\":\"white\",\"linecolor\":\"white\",\"minorgridcolor\":\"white\",\"startlinecolor\":\"#2a3f5f\"},\"type\":\"carpet\"}],\"table\":[{\"cells\":{\"fill\":{\"color\":\"#EBF0F8\"},\"line\":{\"color\":\"white\"}},\"header\":{\"fill\":{\"color\":\"#C8D4E3\"},\"line\":{\"color\":\"white\"}},\"type\":\"table\"}],\"barpolar\":[{\"marker\":{\"line\":{\"color\":\"#E5ECF6\",\"width\":0.5},\"pattern\":{\"fillmode\":\"overlay\",\"size\":10,\"solidity\":0.2}},\"type\":\"barpolar\"}],\"pie\":[{\"automargin\":true,\"type\":\"pie\"}]},\"layout\":{\"autotypenumbers\":\"strict\",\"colorway\":[\"#636efa\",\"#EF553B\",\"#00cc96\",\"#ab63fa\",\"#FFA15A\",\"#19d3f3\",\"#FF6692\",\"#B6E880\",\"#FF97FF\",\"#FECB52\"],\"font\":{\"color\":\"#2a3f5f\"},\"hovermode\":\"closest\",\"hoverlabel\":{\"align\":\"left\"},\"paper_bgcolor\":\"white\",\"plot_bgcolor\":\"#E5ECF6\",\"polar\":{\"bgcolor\":\"#E5ECF6\",\"angularaxis\":{\"gridcolor\":\"white\",\"linecolor\":\"white\",\"ticks\":\"\"},\"radialaxis\":{\"gridcolor\":\"white\",\"linecolor\":\"white\",\"ticks\":\"\"}},\"ternary\":{\"bgcolor\":\"#E5ECF6\",\"aaxis\":{\"gridcolor\":\"white\",\"linecolor\":\"white\",\"ticks\":\"\"},\"baxis\":{\"gridcolor\":\"white\",\"linecolor\":\"white\",\"ticks\":\"\"},\"caxis\":{\"gridcolor\":\"white\",\"linecolor\":\"white\",\"ticks\":\"\"}},\"coloraxis\":{\"colorbar\":{\"outlinewidth\":0,\"ticks\":\"\"}},\"colorscale\":{\"sequential\":[[0.0,\"#0d0887\"],[0.1111111111111111,\"#46039f\"],[0.2222222222222222,\"#7201a8\"],[0.3333333333333333,\"#9c179e\"],[0.4444444444444444,\"#bd3786\"],[0.5555555555555556,\"#d8576b\"],[0.6666666666666666,\"#ed7953\"],[0.7777777777777778,\"#fb9f3a\"],[0.8888888888888888,\"#fdca26\"],[1.0,\"#f0f921\"]],\"sequentialminus\":[[0.0,\"#0d0887\"],[0.1111111111111111,\"#46039f\"],[0.2222222222222222,\"#7201a8\"],[0.3333333333333333,\"#9c179e\"],[0.4444444444444444,\"#bd3786\"],[0.5555555555555556,\"#d8576b\"],[0.6666666666666666,\"#ed7953\"],[0.7777777777777778,\"#fb9f3a\"],[0.8888888888888888,\"#fdca26\"],[1.0,\"#f0f921\"]],\"diverging\":[[0,\"#8e0152\"],[0.1,\"#c51b7d\"],[0.2,\"#de77ae\"],[0.3,\"#f1b6da\"],[0.4,\"#fde0ef\"],[0.5,\"#f7f7f7\"],[0.6,\"#e6f5d0\"],[0.7,\"#b8e186\"],[0.8,\"#7fbc41\"],[0.9,\"#4d9221\"],[1,\"#276419\"]]},\"xaxis\":{\"gridcolor\":\"white\",\"linecolor\":\"white\",\"ticks\":\"\",\"title\":{\"standoff\":15},\"zerolinecolor\":\"white\",\"automargin\":true,\"zerolinewidth\":2},\"yaxis\":{\"gridcolor\":\"white\",\"linecolor\":\"white\",\"ticks\":\"\",\"title\":{\"standoff\":15},\"zerolinecolor\":\"white\",\"automargin\":true,\"zerolinewidth\":2},\"scene\":{\"xaxis\":{\"backgroundcolor\":\"#E5ECF6\",\"gridcolor\":\"white\",\"linecolor\":\"white\",\"showbackground\":true,\"ticks\":\"\",\"zerolinecolor\":\"white\",\"gridwidth\":2},\"yaxis\":{\"backgroundcolor\":\"#E5ECF6\",\"gridcolor\":\"white\",\"linecolor\":\"white\",\"showbackground\":true,\"ticks\":\"\",\"zerolinecolor\":\"white\",\"gridwidth\":2},\"zaxis\":{\"backgroundcolor\":\"#E5ECF6\",\"gridcolor\":\"white\",\"linecolor\":\"white\",\"showbackground\":true,\"ticks\":\"\",\"zerolinecolor\":\"white\",\"gridwidth\":2}},\"shapedefaults\":{\"line\":{\"color\":\"#2a3f5f\"}},\"annotationdefaults\":{\"arrowcolor\":\"#2a3f5f\",\"arrowhead\":0,\"arrowwidth\":1},\"geo\":{\"bgcolor\":\"white\",\"landcolor\":\"#E5ECF6\",\"subunitcolor\":\"white\",\"showland\":true,\"showlakes\":true,\"lakecolor\":\"white\"},\"title\":{\"x\":0.05},\"mapbox\":{\"style\":\"light\"}}}},                        {\"responsive\": true}                    ).then(function(){\n",
              "                            \n",
              "var gd = document.getElementById('62872262-6782-4844-9efd-6a7953f6d75d');\n",
              "var x = new MutationObserver(function (mutations, observer) {{\n",
              "        var display = window.getComputedStyle(gd).display;\n",
              "        if (!display || display === 'none') {{\n",
              "            console.log([gd, 'removed!']);\n",
              "            Plotly.purge(gd);\n",
              "            observer.disconnect();\n",
              "        }}\n",
              "}});\n",
              "\n",
              "// Listen for the removal of the full notebook cells\n",
              "var notebookContainer = gd.closest('#notebook-container');\n",
              "if (notebookContainer) {{\n",
              "    x.observe(notebookContainer, {childList: true});\n",
              "}}\n",
              "\n",
              "// Listen for the clearing of the current output cell\n",
              "var outputEl = gd.closest('.output');\n",
              "if (outputEl) {{\n",
              "    x.observe(outputEl, {childList: true});\n",
              "}}\n",
              "\n",
              "                        })                };                            </script>        </div>\n",
              "</body>\n",
              "</html>"
            ]
          },
          "metadata": {}
        },
        {
          "output_type": "stream",
          "name": "stderr",
          "text": [
            "[W 2023-06-03 12:00:59,173] Your study has only completed trials with missing parameters.\n",
            "<ipython-input-119-ca043aa389dc>:44: FutureWarning:\n",
            "\n",
            "suggest_loguniform has been deprecated in v3.0.0. This feature will be removed in v6.0.0. See https://github.com/optuna/optuna/releases/tag/v3.0.0. Use suggest_float(..., log=True) instead.\n",
            "\n",
            "<ipython-input-119-ca043aa389dc>:76: FutureWarning:\n",
            "\n",
            "suggest_uniform has been deprecated in v3.0.0. This feature will be removed in v6.0.0. See https://github.com/optuna/optuna/releases/tag/v3.0.0. Use suggest_float instead.\n",
            "\n",
            "<ipython-input-119-ca043aa389dc>:161: FutureWarning:\n",
            "\n",
            "suggest_uniform has been deprecated in v3.0.0. This feature will be removed in v6.0.0. See https://github.com/optuna/optuna/releases/tag/v3.0.0. Use suggest_float instead.\n",
            "\n"
          ]
        },
        {
          "output_type": "stream",
          "name": "stdout",
          "text": [
            "Epoch 1/141.. Train loss: 1494.461.. Val loss: 159.431.. Train L1 norm: 4.244.. Val L1 norm: 2.319.. Train Linf norm: 3855.180.. Val Linf norm: 1018.263\n",
            "Epoch 2/141.. Train loss: 477.370.. Val loss: 148.602.. Train L1 norm: 2.668.. Val L1 norm: 2.325.. Train Linf norm: 1458.566.. Val Linf norm: 1115.297\n",
            "Epoch 3/141.. Train loss: 273.193.. Val loss: 89.487.. Train L1 norm: 1.840.. Val L1 norm: 1.381.. Train Linf norm: 681.934.. Val Linf norm: 248.599\n",
            "Epoch 4/141.. Train loss: 244.136.. Val loss: 101.242.. Train L1 norm: 1.925.. Val L1 norm: 1.419.. Train Linf norm: 823.274.. Val Linf norm: 238.052\n",
            "Epoch 5/141.. Train loss: 198.156.. Val loss: 121.632.. Train L1 norm: 2.090.. Val L1 norm: 1.568.. Train Linf norm: 841.790.. Val Linf norm: 343.466\n",
            "Epoch 6/141.. Train loss: 410.664.. Val loss: 88.221.. Train L1 norm: 2.055.. Val L1 norm: 1.312.. Train Linf norm: 936.572.. Val Linf norm: 176.047\n",
            "Epoch 7/141.. Train loss: 144.852.. Val loss: 88.620.. Train L1 norm: 1.906.. Val L1 norm: 1.404.. Train Linf norm: 795.488.. Val Linf norm: 248.325\n",
            "Epoch 8/141.. Train loss: 158.051.. Val loss: 97.455.. Train L1 norm: 1.883.. Val L1 norm: 1.445.. Train Linf norm: 714.296.. Val Linf norm: 289.177\n",
            "Epoch 9/141.. Train loss: 192.386.. Val loss: 90.168.. Train L1 norm: 1.968.. Val L1 norm: 1.396.. Train Linf norm: 747.422.. Val Linf norm: 246.648\n",
            "Epoch 10/141.. Train loss: 202.276.. Val loss: 93.501.. Train L1 norm: 2.122.. Val L1 norm: 1.351.. Train Linf norm: 1010.221.. Val Linf norm: 271.661\n",
            "Epoch 11/141.. Train loss: 120.237.. Val loss: 91.984.. Train L1 norm: 2.045.. Val L1 norm: 1.374.. Train Linf norm: 987.703.. Val Linf norm: 285.916\n",
            "Epoch 12/141.. Train loss: 101.485.. Val loss: 91.768.. Train L1 norm: 1.885.. Val L1 norm: 1.405.. Train Linf norm: 690.106.. Val Linf norm: 306.113\n",
            "Epoch 13/141.. Train loss: 210.806.. Val loss: 92.727.. Train L1 norm: 1.983.. Val L1 norm: 1.355.. Train Linf norm: 1017.836.. Val Linf norm: 277.323\n",
            "Epoch 14/141.. Train loss: 115.511.. Val loss: 94.203.. Train L1 norm: 1.935.. Val L1 norm: 1.364.. Train Linf norm: 1009.780.. Val Linf norm: 269.963\n",
            "Epoch 15/141.. Train loss: 137.600.. Val loss: 91.966.. Train L1 norm: 1.929.. Val L1 norm: 1.355.. Train Linf norm: 871.926.. Val Linf norm: 265.927\n",
            "Epoch 16/141.. Train loss: 97.041.. Val loss: 93.375.. Train L1 norm: 1.916.. Val L1 norm: 1.361.. Train Linf norm: 950.949.. Val Linf norm: 267.661\n",
            "Epoch 17/141.. Train loss: 103.015.. Val loss: 91.097.. Train L1 norm: 1.889.. Val L1 norm: 1.362.. Train Linf norm: 675.406.. Val Linf norm: 262.404\n",
            "Epoch 18/141.. Train loss: 136.042.. Val loss: 92.530.. Train L1 norm: 1.769.. Val L1 norm: 1.357.. Train Linf norm: 595.849.. Val Linf norm: 261.121\n",
            "Epoch 19/141.. Train loss: 94.961.. Val loss: 90.310.. Train L1 norm: 1.828.. Val L1 norm: 1.352.. Train Linf norm: 778.183.. Val Linf norm: 250.088\n",
            "Epoch 20/141.. Train loss: 114.661.. Val loss: 89.818.. Train L1 norm: 1.911.. Val L1 norm: 1.415.. Train Linf norm: 804.644.. Val Linf norm: 302.679\n",
            "Epoch 21/141.. Train loss: 111.943.. Val loss: 89.837.. Train L1 norm: 1.954.. Val L1 norm: 1.413.. Train Linf norm: 838.111.. Val Linf norm: 300.246\n",
            "Epoch 22/141.. Train loss: 150.144.. Val loss: 89.871.. Train L1 norm: 1.984.. Val L1 norm: 1.395.. Train Linf norm: 915.349.. Val Linf norm: 282.162\n"
          ]
        }
      ],
      "source": [
        "# Visualize Optuna study while its running, alternative to tensorboard\n",
        "#from IPython import display\n",
        "import optuna.visualization as ov\n",
        "\n",
        "def callback(study, trial):\n",
        "    with open('all_trials.json', 'a') as f:\n",
        "        # Save the trial number, value, and parameters to a JSON file.\n",
        "        json.dump({\n",
        "            'number': trial.number,\n",
        "            'value': trial.value,\n",
        "            'params': trial.params\n",
        "        }, f)\n",
        "        # Write a newline character after each trial, so that each trial is on a separate line\n",
        "        f.write('\\n')\n",
        "        save_file('all_trials.json')\n",
        "\n",
        "    # Saving the study to a pickle file\n",
        "    with open(f'{STUDY_NAME}.pkl', 'wb') as f:\n",
        "        pickle.dump(study, f)\n",
        "        save_file(f'{STUDY_NAME}.pkl')\n",
        "\n",
        "    # Save the best trial separately as well.\n",
        "    best_trial_params = study.best_trial.params\n",
        "    with open('best_trial_params.json', 'w') as f:\n",
        "        json.dump(best_trial_params, f)\n",
        "        save_file('best_trial_params.json')\n",
        "\n",
        "    # Visualize the optimization history, and save it as an HTML file.\n",
        "    fig1 = ov.plot_optimization_history(study)\n",
        "    fig1.write_html(f\"optimization_history_{STUDY_NAME}.html\")\n",
        "    save_file(f\"optimization_history_{STUDY_NAME}.html\")\n",
        "    fig1.show()\n",
        "\n",
        "    # Do the same for the other visualizations.\n",
        "    fig2 = ov.plot_slice(study)\n",
        "    fig2.write_html(f\"slice_plot_{STUDY_NAME}.html\")\n",
        "    save_file(f\"slice_plot_{STUDY_NAME}.html\")\n",
        "\n",
        "    # if trial.number % 10 == 0:\n",
        "    #     fig3 = ov.plot_contour(study)\n",
        "    #     fig3.write_html(f\"contour_plot_{STUDY_NAME}.html\")\n",
        "    #     save_file(f\"contour_plot_{STUDY_NAME}.html\")\n",
        "\n",
        "    fig4 = ov.plot_parallel_coordinate(study)\n",
        "    fig4.write_html(f\"parallel_coordinate_plot_{STUDY_NAME}.html\")\n",
        "    save_file(f\"parallel_coordinate_plot_{STUDY_NAME}.html\")\n",
        "\n",
        "    if trial.number > 1: # Required\n",
        "      fig5 = ov.plot_param_importances(study)\n",
        "      fig5.write_html(f\"param_importances_plot_{STUDY_NAME}.html\")\n",
        "      save_file(f\"param_importances_plot_{STUDY_NAME}.html\")\n",
        "\n",
        "        \n",
        "if OPTIMIZE:\n",
        "    # Gave an error in my run on arch bsc_physics_env. It doesn't matter anyway, since we use pickle for saving.\n",
        "    # Include the path to the SQLite file in your create_study call.\n",
        "    # study = optuna.create_study(direction=\"minimize\", \n",
        "                                # sampler=optuna.samplers.TPESampler(), \n",
        "                                # pruner=optuna.pruners.MedianPruner(), \n",
        "                                # storage=f'sqlite:///{STUDY_NAME}.db')\n",
        "    study = optuna.create_study(direction=\"minimize\", sampler=optuna.samplers.TPESampler(), pruner=optuna.pruners.MedianPruner())\n",
        "\n",
        "    study.optimize(objective, n_trials=N_TRIALS, callbacks=[callback])\n",
        "    #study.optimize(objective, n_trials=N_TRIALS)"
      ]
    },
    {
      "cell_type": "code",
      "execution_count": null,
      "metadata": {
        "id": "-ttNpb1nVnQJ"
      },
      "outputs": [],
      "source": [
        "if OPTIMIZE:\n",
        "    # Optimization History\n",
        "    ov.plot_optimization_history(study).show()\n",
        " \n",
        "    # Slice Plot\n",
        "    ov.plot_slice(study).show()\n",
        " \n",
        "    # Contour Plot\n",
        "    # ov.plot_contour(study).show()\n",
        " \n",
        "    # Parallel Coordinate Plot\n",
        "    ov.plot_parallel_coordinate(study).show()\n",
        " \n",
        "    # Hyperparameter Importance Plot\n",
        "    ov.plot_param_importances(study).show()\n",
        "\n",
        "    # Best trial information\n",
        "    print(\"Best trial:\")\n",
        "    trial = study.best_trial\n",
        "    print(\"  Value: \", trial.value)\n",
        "    print(\"  Params: \")\n",
        "    for key, value in trial.params.items():\n",
        "        print(f\"    {key}: {value}\")\n",
        "\n",
        "    # Saving the study to a pickle file\n",
        "    with open(f'{STUDY_NAME}.pkl', 'wb') as f:\n",
        "        pickle.dump(study, f)\n",
        "        save_file(f'{STUDY_NAME}.pkl')\n",
        "\n",
        "    # Save the best trial separately as well.\n",
        "    best_trial_params = study.best_trial.params\n",
        "    with open('best_trial_params.json', 'w') as f:\n",
        "        json.dump(best_trial_params, f)\n",
        "        save_file('best_trial_params.json')"
      ]
    },
    {
      "cell_type": "markdown",
      "metadata": {
        "id": "jmMfE9_dUZiS"
      },
      "source": [
        "## Training the model"
      ]
    },
    {
      "cell_type": "code",
      "execution_count": null,
      "metadata": {
        "id": "phyiHlWEUZiT"
      },
      "outputs": [],
      "source": [
        "# Creating the best network and optimizer using the best hyperparameters\n",
        "if OPTIMIZE:\n",
        "    net, \\\n",
        "    loss_fn, \\\n",
        "    optimizer, \\\n",
        "    batch_size, \\\n",
        "    n_epochs, \\\n",
        "    scheduler, \\\n",
        "    loss_name, \\\n",
        "    optimizer_name, \\\n",
        "    scheduler_name, \\\n",
        "    n_units, \\\n",
        "    n_layers, \\\n",
        "    hidden_activation, \\\n",
        "    output_activation, \\\n",
        "    lr, \\\n",
        "    dropout_rate = create_model(trial, optimize=True)\n",
        "\n",
        "# Creating the network with predefined hyperparameters\n",
        "else:\n",
        "    net, \\\n",
        "    loss_fn, \\\n",
        "    optimizer, \\\n",
        "    batch_size, \\\n",
        "    n_epochs, \\\n",
        "    scheduler, \\\n",
        "    loss_name, \\\n",
        "    optimizer_name, \\\n",
        "    scheduler_name, \\\n",
        "    n_units, \\\n",
        "    n_layers, \\\n",
        "    hidden_activation, \\\n",
        "    output_activation, \\\n",
        "    lr, \\\n",
        "    dropout_rate = create_model(trial=None, optimize=True)"
      ]
    },
    {
      "cell_type": "code",
      "execution_count": null,
      "metadata": {
        "id": "_yq-oY81UZiU"
      },
      "outputs": [],
      "source": [
        "print(\"loss_fn:\", net)\n",
        "print(\"loss_fn:\", loss_fn)\n",
        "print(\"batch_size:\", batch_size)\n",
        "print(\"n_epochs:\", n_epochs)\n",
        "print(\"scheduler:\", scheduler)\n",
        "print(\"loss_name:\", loss_name)\n",
        "print(\"optimizer_name:\", optimizer_name)\n",
        "print(\"scheduler_name:\", scheduler_name)\n",
        "print(\"n_units:\", n_units)\n",
        "print(\"n_layers:\", n_layers)\n",
        "print(\"hidden_activation:\", hidden_activation)\n",
        "print(\"output_activation:\", output_activation)\n",
        "print(\"lr\", lr)\n",
        "print(\"dropout_rate\", dropout_rate)"
      ]
    },
    {
      "cell_type": "markdown",
      "metadata": {
        "id": "E7aLWdZyUZiW",
        "outputId": "8fb1e8c6-5aa3-43a1-a255-712cf9396d0c"
      },
      "source": [
        "After optimizing with Optuna and deciding on the best hyperparameters, we combine the training and validatin set, using that as the new training set for training the model, and then evaluate the model on the test set"
      ]
    },
    {
      "cell_type": "code",
      "execution_count": null,
      "metadata": {
        "id": "jIBboeQX4cno"
      },
      "outputs": [],
      "source": [
        "x_train_val = torch.cat((x_train, x_val), 0)\n",
        "y_train_val = torch.cat((y_train, y_val), 0)\n",
        "\n",
        "train_val_loader = torch.utils.data.DataLoader(\n",
        "    torch.utils.data.TensorDataset(x_train_val, y_train_val), batch_size=batch_size, shuffle=True\n",
        ")\n",
        "test_loader = torch.utils.data.DataLoader(\n",
        "    torch.utils.data.TensorDataset(x_test, y_test), batch_size=batch_size\n",
        ")\n",
        "\n",
        "train_losses, _, test_losses, train_metrics, _, test_metrics, = train_and_eval(\n",
        "    net, loss_fn, optimizer, batch_size, n_epochs, scheduler, train_val_loader, None, test_loader, None\n",
        ")"
      ]
    },
    {
      "cell_type": "markdown",
      "metadata": {
        "id": "akNucrgMUZiW"
      },
      "source": [
        "## Saving"
      ]
    },
    {
      "cell_type": "code",
      "execution_count": null,
      "metadata": {
        "id": "LHsrs2Y-UZic"
      },
      "outputs": [],
      "source": [
        "# create a dictionary to store the rest of the variables\n",
        "import json\n",
        "\n",
        "# save the network to a .pth file\n",
        "torch.save(net.state_dict(), \"net.pth\")\n",
        "save_file(\"net.pth\")\n",
        "\n",
        "# save the optimizer to a .pth file\n",
        "torch.save(optimizer.state_dict(), \"optimizer.pth\")\n",
        "save_file(\"optimizer.pth\")\n",
        "\n",
        "# save the scheduler to a .pth file if it is not None\n",
        "if scheduler is not None:\n",
        "  torch.save(scheduler.state_dict(), \"scheduler.pth\")\n",
        "  save_file(\"scheduler.pth\")\n",
        "\n",
        "# create a dictionary to store the rest of the variables\n",
        "if isinstance(hidden_activation.__class__.__name__, list):\n",
        "    hidden_activation_name = hidden_activation.__class__.__name__[0]\n",
        "else:\n",
        "    hidden_activation_name = hidden_activation.__class__.__name__\n",
        "\n",
        "if isinstance(output_activation.__class__.__name__, list):\n",
        "    output_activation_name = output_activation.__class__.__name__[0]\n",
        "else:\n",
        "    output_activation_name = output_activation.__class__.__name__\n",
        "\n",
        "var_dict = {\n",
        "  \"batch_size\": batch_size,\n",
        "  \"n_epochs\": n_epochs,\n",
        "  \"loss_name\": loss_name,\n",
        "  \"optimizer_name\": optimizer_name,\n",
        "  \"scheduler_name\": scheduler_name,\n",
        "  \"n_units\": n_units,\n",
        "  \"n_layers\": n_layers,\n",
        "  \"hidden_activation_name\": hidden_activation_name,\n",
        "  \"output_activation_name\": output_activation_name,\n",
        "  \"lr\": lr,\n",
        "  \"dropout_rate\": dropout_rate\n",
        "}\n",
        "\n",
        "# Adding the subparameters to the var_dict for saving\n",
        "if hidden_activation_name == \"LeakyReLU\":\n",
        "  var_dict[\"leakyrelu_slope\"] = hidden_activation.negative_slope\n",
        "elif hidden_activation_name == \"PReLU\":\n",
        "  var_dict[\"prelu_init\"] = hidden_activation.weight.item()  # .item() is needed because weight is a tensor\n",
        "elif hidden_activation_name == \"SoftPlus\":\n",
        "  var_dict[\"softplus_beta\"] = hidden_activation.beta\n",
        "\n",
        "# save the dictionary to a .json file\n",
        "with open(\"var_dict.json\", \"w\") as f:\n",
        "  json.dump(var_dict, f)\n",
        "save_file(\"var_dict.json\")\n",
        "\n",
        "# Saving the output of the training using pandas\n",
        "train_df = pd.DataFrame(\n",
        "    {\n",
        "        \"train_loss\": train_losses,\n",
        "        \"test_loss\": test_losses,\n",
        "        \"train_l1_norm\": [m[\"l1_norm\"] for m in train_metrics],\n",
        "        \"test_l1_norm\": [m[\"l1_norm\"] for m in test_metrics],\n",
        "        \"train_linf_norm\": [m[\"linf_norm\"] for m in train_metrics],\n",
        "        \"test_linf_norm\": [m[\"linf_norm\"] for m in test_metrics],\n",
        "    }\n",
        ")\n",
        "train_df.to_csv(\"train_output.csv\", index=False)\n",
        "save_file(\"train_output.csv\")"
      ]
    },
    {
      "cell_type": "code",
      "execution_count": null,
      "metadata": {
        "id": "WDNrony-4cnp"
      },
      "outputs": [],
      "source": [
        "[key for key in var_dict.keys()]"
      ]
    },
    {
      "cell_type": "code",
      "execution_count": null,
      "metadata": {
        "id": "G_Duv4pT4cnp"
      },
      "outputs": [],
      "source": [
        "#%%script echo skipping\n",
        "\n",
        "hidden_activation_name\n",
        "output_activation_name"
      ]
    },
    {
      "cell_type": "markdown",
      "metadata": {
        "id": "qU23l7dIUZie"
      },
      "source": [
        "## Visualizing the results"
      ]
    },
    {
      "cell_type": "code",
      "execution_count": null,
      "metadata": {
        "id": "cippWZS6UZie"
      },
      "outputs": [],
      "source": [
        "# First figure: Train and Test L1 Norm\n",
        "plt.figure(figsize=(6, 4))\n",
        "plt.plot([m[\"l1_norm\"] for m in train_metrics], label=\"Train L1 Norm\", color='blue')\n",
        "plt.plot([m[\"l1_norm\"] for m in test_metrics], label=\"Test L1 Norm\", color='red')\n",
        "plt.xlabel(\"Epoch\")\n",
        "plt.ylabel(\"L1 Norm\")\n",
        "plt.title(\"NNGRX Train and Test L1 Norm per Epoch\")\n",
        "plt.yscale(\"log\")\n",
        "plt.grid(True)\n",
        "plt.xlim(right=200)\n",
        "plt.ylim(1e-3, 1e2)\n",
        "plt.legend()\n",
        "plt.tight_layout()\n",
        "# plt.savefig(\"NNGRX_L1_norm_plot.png\", dpi=300)\n",
        "plt.savefig(\"NNGRX_L1_norm_plot.png\")\n",
        "\n",
        "# Second figure: Train and Test Linf Norm\n",
        "plt.figure(figsize=(6, 4))\n",
        "plt.plot([m[\"linf_norm\"] for m in train_metrics], label=\"Train Linf Norm\", color='blue')\n",
        "plt.plot([m[\"linf_norm\"] for m in test_metrics], label=\"Test Linf Norm\", color='red')\n",
        "plt.xlabel(\"Epoch\")\n",
        "plt.ylabel(\"Linf Norm\")\n",
        "plt.title(\"NNGRX Train and Test Linf Norm per Epoch\")\n",
        "plt.yscale(\"log\")\n",
        "plt.grid(True)\n",
        "plt.xlim(right=200)\n",
        "plt.ylim(1e-3, 1e2)\n",
        "plt.legend()\n",
        "plt.tight_layout()\n",
        "# plt.savefig(\"NNGRX_Linf_norm_plot.png\", dpi=300)\n",
        "plt.savefig(\"NNGRX_Linf_norm_plot.png\")\n",
        "\n",
        "# Third figure: MSE of training data and test data\n",
        "plt.figure(figsize=(6, 4))\n",
        "plt.plot(train_losses, label=\"Training Data\", color='blue')\n",
        "plt.plot(test_losses, label=\"Test Data\", color='red')\n",
        "plt.xlabel(\"Epoch\")\n",
        "plt.ylabel(\"MSE\")\n",
        "plt.title(\"NNGRX MSE of Training and Test Data per Epoch\")\n",
        "plt.yscale(\"log\")\n",
        "plt.grid(True)\n",
        "plt.xlim(right=200)\n",
        "plt.ylim(1e-7, 1e0)\n",
        "plt.legend()\n",
        "plt.tight_layout()\n",
        "# plt.savefig(\"NNGRX_MSE_plot.png\", dpi=300)\n",
        "plt.savefig(\"NNGRX_MSE_plot.png\")"
      ]
    },
    {
      "cell_type": "markdown",
      "metadata": {
        "id": "tiEDutxIUZig"
      },
      "source": [
        "## Loading"
      ]
    },
    {
      "cell_type": "code",
      "execution_count": null,
      "metadata": {
        "id": "p7Mj990wUZih"
      },
      "outputs": [],
      "source": [
        "# load the dictionary from the .json file\n",
        "with open(\"var_dict.json\", \"r\") as f:\n",
        "  var_dict_loaded = json.load(f)\n",
        "\n",
        "# extract the variables from the dictionary\n",
        "batch_size_loaded = var_dict_loaded[\"batch_size\"]\n",
        "n_epochs_loaded = var_dict_loaded[\"n_epochs\"]\n",
        "loss_name_loaded = var_dict_loaded[\"loss_name\"]\n",
        "optimizer_name_loaded = var_dict_loaded[\"optimizer_name\"]\n",
        "scheduler_name_loaded = var_dict_loaded[\"scheduler_name\"]\n",
        "n_units_loaded = var_dict_loaded[\"n_units\"]\n",
        "n_layers_loaded = var_dict_loaded[\"n_layers\"]\n",
        "hidden_activation_name_loaded = var_dict_loaded[\"hidden_activation_name\"]\n",
        "output_activation_name_loaded = var_dict_loaded[\"output_activation_name\"]\n",
        "lr_loaded = var_dict_loaded[\"lr\"]\n",
        "dropout_rate_loaded = var_dict_loaded[\"dropout_rate\"]\n",
        "\n",
        "# Loading the activation functions with subparameters\n",
        "if hidden_activation_name_loaded == \"ReLU\":\n",
        "  hidden_activation_loaded = nn.ReLU()\n",
        "elif hidden_activation_name_loaded == \"LeakyReLU\":\n",
        "  negative_slope_loaded = var_dict_loaded.get(\"leakyrelu_slope\", 0.01)  # For backwards compatibiltiy with earlier models; default to 0.01 if not present\n",
        "  hidden_activation_loaded = nn.LeakyReLU(negative_slope=negative_slope_loaded)\n",
        "elif hidden_activation_name_loaded == \"ELU\":\n",
        "  hidden_activation_loaded = nn.ELU()\n",
        "elif hidden_activation_name_loaded == \"PReLU\":\n",
        "  init_loaded = var_dict_loaded.get(\"prelu_init\", 0.25)  # Default to 0.25 if not present\n",
        "  hidden_activation_loaded = nn.PReLU(init=init_loaded)\n",
        "elif hidden_activation_name_loaded == \"Swish\":\n",
        "    class Swish(nn.Module):\n",
        "        def forward(self, x):\n",
        "            return x * torch.sigmoid(x)\n",
        "    hidden_activation_loaded = Swish()\n",
        "elif hidden_activation_name_loaded == \"GELU\":\n",
        "    hidden_activation_loaded = nn.GELU()\n",
        "elif hidden_activation_name_loaded == \"SoftPlus\":\n",
        "  beta_loaded = var_dict_loaded.get(\"softplus_beta\", 1)  # Default to 1 if not present\n",
        "  hidden_activation_loaded = nn.Softplus(beta=beta_loaded)\n",
        "\n",
        "\n",
        "\n",
        "# We used to have options here, but since we have a regression problem with continuous output, we only use Linear.\n",
        "output_activation_loaded = nn.Identity()\n",
        "\n",
        "# load the network from the .pth file\n",
        "net_loaded = Net(\n",
        "    n_layers_loaded, \n",
        "    n_units_loaded, \n",
        "    hidden_activation_loaded, \n",
        "    output_activation_loaded, \n",
        "    dropout_rate_loaded\n",
        ").to(device)\n",
        "\n",
        "if torch.cuda.is_available():\n",
        " net_loaded.load_state_dict(torch.load(\"net.pth\"))\n",
        "else: \n",
        "  net_loaded.load_state_dict(torch.load(\"net.pth\", map_location=torch.device('cpu')))\n",
        "\n",
        "\n",
        "# Creating the loss function from its name\n",
        "if loss_name_loaded == \"MSE\":\n",
        "    loss_fn_loaded = nn.MSELoss()\n",
        "elif loss_name_loaded == \"MAE\":\n",
        "    loss_fn_loaded = nn.L1Loss()\n",
        "elif loss_name_loaded == \"Huber\":\n",
        "    loss_fn_loaded = nn.SmoothL1Loss() \n",
        "elif loss_name_loaded == \"Quantile\":\n",
        "    def quantile_loss(y_pred, y_true, q=0.5):\n",
        "        e = y_pred - y_true\n",
        "        return torch.mean(torch.max(q*e, (q-1)*e))\n",
        "    loss_fn_loaded = quantile_loss\n",
        "\n",
        "# load the optimizer from the .pth file\n",
        "if torch.cuda.is_available():\n",
        "  optimizer_loaded_state_dict = torch.load(\"optimizer.pth\")\n",
        "else:\n",
        "  optimizer_loaded_state_dict = torch.load(\"optimizer.pth\", map_location=torch.device('cpu'))\n",
        "\n",
        "if optimizer_name_loaded == \"SGD\":\n",
        "  # Added getting the weight decay and momentum parameters from the state dict\n",
        "  weight_decay_loaded = optimizer_loaded_state_dict[\"param_groups\"][0][\"weight_decay\"]\n",
        "  momentum_loaded = optimizer_loaded_state_dict[\"param_groups\"][0][\"momentum\"]\n",
        "  optimizer_loaded = optim.SGD(net_loaded.parameters(), lr=lr_loaded, weight_decay=weight_decay_loaded, momentum=momentum_loaded)\n",
        "elif optimizer_name_loaded == \"Adam\":\n",
        "  # Added getting the weight decay and beta parameters from the state dict\n",
        "  weight_decay_loaded = optimizer_loaded_state_dict[\"param_groups\"][0][\"weight_decay\"]\n",
        "  beta1_loaded = optimizer_loaded_state_dict[\"param_groups\"][0][\"betas\"][0]\n",
        "  beta2_loaded = optimizer_loaded_state_dict[\"param_groups\"][0][\"betas\"][1]\n",
        "  optimizer_loaded = optim.Adam(net_loaded.parameters(), lr=lr_loaded, weight_decay=weight_decay_loaded, betas=(beta1_loaded, beta2_loaded))\n",
        "elif optimizer_name_loaded == \"RMSprop\":\n",
        "  optimizer_loaded = optim.RMSprop(net_loaded.parameters(), lr=lr_loaded)\n",
        "elif optimizer_name_loaded == \"Adagrad\":\n",
        "  # Added loading the Adagrad optimizer\n",
        "  optimizer_loaded = optim.Adagrad(net_loaded.parameters(), lr=lr_loaded)\n",
        "optimizer_loaded.load_state_dict(optimizer_loaded_state_dict)\n",
        "\n",
        "# load the scheduler from the .pth file\n",
        "if torch.cuda.is_available():\n",
        "  scheduler_loaded_state_dict = torch.load(\"scheduler.pth\")\n",
        "else: \n",
        "  scheduler_loaded_state_dict = torch.load(\"scheduler.pth\", map_location=torch.device('cpu'))\n",
        "\n",
        "if scheduler_name_loaded == \"StepLR\":\n",
        "  # Added getting the step_size and gamma parameters from the state dict\n",
        "  step_size_loaded = scheduler_loaded_state_dict[\"step_size\"]\n",
        "  gamma_loaded = scheduler_loaded_state_dict[\"gamma\"]\n",
        "  scheduler_loaded = optim.lr_scheduler.StepLR(optimizer_loaded, step_size=step_size_loaded, gamma=gamma_loaded)\n",
        "elif scheduler_name_loaded == \"ExponentialLR\":\n",
        "  # Added getting the gamma parameter from the state dict\n",
        "  gamma_loaded = scheduler_loaded_state_dict[\"gamma\"]\n",
        "  scheduler_loaded = optim.lr_scheduler.ExponentialLR(optimizer_loaded, gamma=gamma_loaded)\n",
        "elif scheduler_name_loaded == \"CosineAnnealingLR\":\n",
        "  # Added getting the T_max parameter from the state dict\n",
        "  T_max_loaded = scheduler_loaded_state_dict[\"T_max\"]\n",
        "  scheduler_loaded = optim.lr_scheduler.CosineAnnealingLR(optimizer_loaded, T_max=T_max_loaded)\n",
        "elif scheduler_name_loaded == \"ReduceLROnPlateau\":\n",
        "  # Added getting the mode, factor, patience, threshold and min_lr parameters from the state dict\n",
        "  mode_loaded = scheduler_loaded_state_dict[\"mode\"]\n",
        "  factor_loaded = scheduler_loaded_state_dict[\"factor\"]\n",
        "  patience_loaded = scheduler_loaded_state_dict[\"patience\"]\n",
        "  threshold_loaded = scheduler_loaded_state_dict[\"threshold\"]\n",
        "  min_lr_loaded = scheduler_loaded_state_dict[\"min_lrs\"][0]\n",
        "  scheduler_loaded = optim.lr_scheduler.ReduceLROnPlateau(\n",
        "                    optimizer_loaded, mode=mode_loaded, factor=factor_loaded, patience=patience_loaded, threshold=threshold_loaded, min_lr=min_lr_loaded\n",
        "                )\n",
        "elif scheduler_name_loaded == \"CyclicLR\":  # Added CyclicLR\n",
        "    base_lr_loaded = scheduler_loaded_state_dict[\"base_lr\"]\n",
        "    max_lr_loaded = scheduler_loaded_state_dict[\"max_lr\"]\n",
        "    step_size_up_loaded = scheduler_loaded_state_dict[\"step_size_up\"]\n",
        "    scheduler_loaded = optim.lr_scheduler.CyclicLR(\n",
        "                    optimizer, base_lr=base_lr_loaded, max_lr=max_lr_loaded, step_size_up=step_size_up_loaded\n",
        "                )\n",
        "else:\n",
        "  scheduler_loaded = None\n",
        "\n",
        "if scheduler_loaded is not None:\n",
        "  # Added loading the state dict to the scheduler_loaded\n",
        "  scheduler_loaded.load_state_dict(scheduler_loaded_state_dict)\n",
        "\n",
        "# Loading the output of the training using pandas\n",
        "train_df_loaded = pd.read_csv(\"train_output.csv\")\n",
        "train_losses_loaded = train_df_loaded[\"train_loss\"].tolist()\n",
        "test_losses_loaded = train_df_loaded[\"test_loss\"].tolist()\n",
        "train_metrics_loaded = [\n",
        "    {\n",
        "        \"l1_norm\": train_df_loaded[\"train_l1_norm\"][i],\n",
        "        \"linf_norm\": train_df_loaded[\"train_linf_norm\"][i],\n",
        "    }\n",
        "    for i in range(len(train_df_loaded))\n",
        "]\n",
        "test_metrics_loaded = [\n",
        "    {\n",
        "        \"l1_norm\": train_df_loaded[\"test_l1_norm\"][i],\n",
        "        \"linf_norm\": train_df_loaded[\"test_linf_norm\"][i],\n",
        "    }\n",
        "    for i in range(len(train_df_loaded))\n",
        "]\n",
        "\n",
        "if STUDY_NAME is not None:\n",
        "  # Loading the study from the SQLite file\n",
        "  # TODO: Fix this one, or we just use pickle\n",
        "  # study_loaded_db = optuna.load_study(study_name=f'{STUDY_NAME}', \n",
        "  #                           storage=f'sqlite:///{STUDY_NAME}.db')\n",
        "\n",
        "  # Loading the study from the pickle file\n",
        "  with open(f'{STUDY_NAME}.pkl', 'rb') as f:\n",
        "      study_loaded_pkl = pickle.load(f)\n",
        "\n",
        "  # To load the best trial's parameters.\n",
        "  with open('best_trial_params.json', 'r') as f:\n",
        "      best_trial_params_loaded = json.load(f)"
      ]
    },
    {
      "cell_type": "code",
      "execution_count": null,
      "metadata": {
        "id": "n-4pZ2s64cnr"
      },
      "outputs": [],
      "source": [
        "# %%script echo skipping\n",
        "\n",
        "var_dict_loaded[\"batch_size\"]\n",
        "var_dict_loaded[\"n_epochs\"]\n",
        "var_dict_loaded[\"loss_name\"]\n",
        "var_dict_loaded[\"optimizer_name\"]\n",
        "var_dict_loaded[\"scheduler_name\"]\n",
        "var_dict_loaded[\"n_units\"]\n",
        "var_dict_loaded[\"n_layers\"]\n",
        "var_dict_loaded[\"hidden_activation_name\"]\n",
        "var_dict_loaded[\"output_activation_name\"]\n",
        "var_dict_loaded[\"lr\"]\n",
        "var_dict_loaded[\"dropout_rate\"]"
      ]
    },
    {
      "cell_type": "code",
      "execution_count": null,
      "metadata": {
        "id": "ArYc1-uuVtnT"
      },
      "outputs": [],
      "source": [
        "if STUDY_NAME is not None:\n",
        "    study_loaded_pkl\n",
        "    study_loaded_pkl.best_params"
      ]
    },
    {
      "cell_type": "code",
      "execution_count": null,
      "metadata": {
        "id": "QQ0MKbI04cnr"
      },
      "outputs": [],
      "source": [
        "%%script echo skipping\n",
        "\n",
        "scheduler_loaded_state_dict[\"mode\"]\n",
        "scheduler_loaded_state_dict[\"factor\"]\n",
        "scheduler_loaded_state_dict[\"patience\"]\n",
        "scheduler_loaded_state_dict[\"threshold\"]\n",
        "scheduler_loaded_state_dict[\"min_lrs\"]\n",
        "\n",
        "\n",
        "scheduler_loaded_state_dict[\"base_lr\"]\n",
        "scheduler_loaded_state_dict[\"max_lr\"]\n",
        "scheduler_loaded_state_dict[\"step_size_up\"]"
      ]
    },
    {
      "cell_type": "code",
      "execution_count": null,
      "metadata": {
        "id": "bHMdkxsm4cnr"
      },
      "outputs": [],
      "source": [
        "# %%script echo skipping\n",
        "\n",
        "var_dict\n",
        "hidden_activation_name_loaded"
      ]
    },
    {
      "cell_type": "code",
      "execution_count": null,
      "metadata": {
        "id": "GQ_fcj7zUZii"
      },
      "outputs": [],
      "source": [
        "# %%script echo skipping\n",
        "\n",
        "if hidden_activation_name_loaded == \"LeakyReLU\":\n",
        "  var_dict_loaded[\"leakyrelu_slope\"]\n",
        "if hidden_activation_name_loaded == \"PReLU\":\n",
        "  var_dict_loaded[\"prelu_init\"]\n",
        "elif hidden_activation_name_loaded == \"SoftPlus\":\n",
        "  var_dict_loaded[\"softplus_beta\"]\n",
        "\n",
        "batch_size_loaded\n",
        "n_epochs_loaded\n",
        "loss_name_loaded\n",
        "optimizer_name_loaded\n",
        "scheduler_name_loaded\n",
        "n_units_loaded\n",
        "n_layers_loaded\n",
        "hidden_activation_name_loaded\n",
        "output_activation_name_loaded\n",
        "lr_loaded\n",
        "dropout_rate_loaded\n",
        "hidden_activation_loaded\n",
        "output_activation_loaded\n",
        "net_loaded\n",
        "net_loaded.__dict__ # print the subparameters of the network\n",
        "loss_fn_loaded\n",
        "optimizer_loaded\n",
        "optimizer_loaded.__dict__ # print the subparameters of the optimizer\n",
        "if scheduler_loaded is not None:\n",
        "  scheduler_loaded\n",
        "  scheduler_loaded.__dict__ # print the subparameters of the scheduler\n",
        "train_losses_loaded\n",
        "test_losses_loaded\n",
        "train_metrics_loaded\n",
        "test_metrics_loaded\n"
      ]
    },
    {
      "cell_type": "code",
      "execution_count": null,
      "metadata": {
        "id": "wIFp6xgs4cns"
      },
      "outputs": [],
      "source": [
        "train_losses_loaded[-1]\n",
        "test_losses_loaded[-1]\n",
        "test_metrics_loaded[-1]['l1_norm']\n",
        "test_metrics_loaded[-1]['linf_norm']\n",
        "# print(f'Error is {test_metrics_loaded[-1][\"l1_norm\"] / (3.84e-4)} times bigger than in Dieselhorst et al.')\n",
        "# print(f'Error is {test_metrics_loaded[-1][\"linf_norm\"] / (8.14e-3)} times bigger than in Dieselhorst et al.')"
      ]
    },
    {
      "cell_type": "markdown",
      "metadata": {
        "id": "OdOwEngu4cns"
      },
      "source": [
        "### Visualize loaded results"
      ]
    },
    {
      "cell_type": "markdown",
      "metadata": {
        "id": "vwLGR1aSUZik"
      },
      "source": [
        "Let us verify correct loading of the train and test metrics by visualizing them again but now through the loaded values. Likewise for the train and test losses."
      ]
    },
    {
      "cell_type": "code",
      "execution_count": null,
      "metadata": {
        "id": "sXiNgLsmUZil"
      },
      "outputs": [],
      "source": [
        "%config InteractiveShell.ast_node_interactivity = \"last_expr_or_assign\""
      ]
    },
    {
      "cell_type": "code",
      "execution_count": null,
      "metadata": {
        "id": "sgq4WfSiUZil"
      },
      "outputs": [],
      "source": [
        "# Plotting the losses and metrics for the best network plt.figure(figsize=(12, \n",
        "#plt.subplot(2, 2, 1)\n",
        "#plt.plot(train_losses_loaded, label=\"Train Loss\")\n",
        "#plt.plot(test_losses_loaded, label=\"Test Loss\")\n",
        "#plt.xlabel(\"Epoch\")\n",
        "#plt.ylabel(\"Loss\")\n",
        "#plt.legend()\n",
        "plt.subplot(2, 2, 2)\n",
        "plt.plot([m[\"l1_norm\"] for m in train_metrics_loaded], label=\"Train L1 Norm\")\n",
        "plt.plot([m[\"l1_norm\"] for m in test_metrics_loaded], label=\"Test L1 Norm\")\n",
        "plt.xlabel(\"Epoch\")\n",
        "plt.ylabel(\"L1 Norm\")\n",
        "# Added setting the vertical axis to be in powers of 10\n",
        "plt.yscale(\"log\")\n",
        "# Added setting the vertical axis limits to be from 10^-7 to 10^0\n",
        "plt.ylim(1e-3, 1e2)\n",
        "plt.legend()\n",
        "plt.subplot(2, 2, 3)\n",
        "plt.plot([m[\"linf_norm\"] for m in train_metrics_loaded], label=\"Train Linf Norm\")\n",
        "plt.plot([m[\"linf_norm\"] for m in test_metrics_loaded], label=\"Test Linf Norm\")\n",
        "plt.xlabel(\"Epoch\")\n",
        "plt.ylabel(\"Linf Norm\")\n",
        "# Added setting the vertical axis to be in powers of 10\n",
        "plt.yscale(\"log\")\n",
        "# Added setting the vertical axis limits to be from 10^-7 to 10^0\n",
        "plt.ylim(1e-3, 1e2)\n",
        "plt.legend()\n",
        "plt.tight_layout()\n",
        "plt.show()\n",
        "\n",
        "# Added plotting MSE of training data and MSE of test data in one plot \n",
        "plt.figure(figsize=(8, 6))\n",
        "plt.plot(train_losses_loaded,label=\"training data\")\n",
        "plt.plot(test_losses_loaded,label=\"test data\")\n",
        "#if scheduler is not None:\n",
        "#    plt.plot([scheduler.get_last_lr()[0] for _ in range(n_epochs)], label=\"Learning rate\") \n",
        "plt.xlabel(\"Epoch\")\n",
        "plt.ylabel(f\"{loss_name_loaded} Loss\")\n",
        "# Added setting the vertical axis to be in powers of 10\n",
        "plt.yscale(\"log\")\n",
        "# Added setting the vertical axis limits to be from 10^-7 to 10^0\n",
        "plt.ylim(1e-7, 1e0)\n",
        "plt.legend()\n",
        "plt.show()\n"
      ]
    },
    {
      "cell_type": "code",
      "execution_count": null,
      "metadata": {
        "id": "lkgLqJ_UUZim"
      },
      "outputs": [],
      "source": [
        "%config InteractiveShell.ast_node_interactivity = \"all\""
      ]
    },
    {
      "cell_type": "markdown",
      "metadata": {
        "id": "aotL4GJl4cnu"
      },
      "source": [
        "## Counting the number of parameters in the network."
      ]
    },
    {
      "cell_type": "code",
      "execution_count": null,
      "metadata": {
        "id": "_sQl2bTk4cnu"
      },
      "outputs": [],
      "source": [
        "net_loaded.eval()\n",
        "def count_parameters(model):\n",
        "    return sum(p.numel() for p in model.parameters() if p.requires_grad)\n",
        "print(f'The model has {count_parameters(net_loaded)} parameters.')"
      ]
    },
    {
      "cell_type": "markdown",
      "metadata": {
        "id": "SxuzVSnlUZin"
      },
      "source": [
        "## Evaluating the network on arbirary input\n",
        "### Comparing `net` and `net_loaded`\n",
        "\n",
        "We compare `net` and `net_loaded` to confirm correct loading of the network. Note that `net` is only available if we have trained the model in this session."
      ]
    },
    {
      "cell_type": "code",
      "execution_count": null,
      "metadata": {
        "id": "usq1X1KO4cnu"
      },
      "outputs": [],
      "source": [
        "#%%script echo skipping\n",
        "\n",
        "# Set the network to evaluation mode\n",
        "net.eval()"
      ]
    },
    {
      "cell_type": "code",
      "execution_count": null,
      "metadata": {
        "id": "-pwGJnzK4cnv"
      },
      "outputs": [],
      "source": [
        "# Set the network to evaluation mode\n",
        "net_loaded.eval"
      ]
    },
    {
      "cell_type": "code",
      "execution_count": null,
      "metadata": {
        "id": "vXaSZDzX4cnv"
      },
      "outputs": [],
      "source": [
        "for p1, p2 in zip(net.parameters(), net_loaded.parameters()):\n",
        "    if p1.data.ne(p2.data).sum() > 0:\n",
        "        print(\"Parameters are NOT the same.\")\n",
        "        break\n",
        "else:\n",
        "    print(\"Parameters are the same.\")\n",
        "\n",
        "print(\"Net device:\", next(net.parameters()).device)\n",
        "print(\"Net_loaded device:\", next(net_loaded.parameters()).device)"
      ]
    },
    {
      "cell_type": "code",
      "execution_count": null,
      "metadata": {
        "id": "C0PLAA0DUZin"
      },
      "outputs": [],
      "source": [
        "#%%script echo skipping\n",
        "\n",
        "print(list(net.parameters()))"
      ]
    },
    {
      "cell_type": "code",
      "execution_count": null,
      "metadata": {
        "id": "1NZ8iVA7UZio"
      },
      "outputs": [],
      "source": [
        "print(list(net_loaded.parameters()))"
      ]
    },
    {
      "cell_type": "code",
      "execution_count": null,
      "metadata": {
        "id": "InGW0Xq6UZip"
      },
      "outputs": [],
      "source": [
        "rho_example, epsilon_example, vx_example, vy_example, vz_example, Bx_example, By_example, Bz_example, gxx_example, gxy_example, gxz_example, gyy_example, gyz_example, gzz_example = generate_samples(20)\n",
        "\n",
        "inputs =  generate_input_data(rho_example, epsilon_example, vx_example, vy_example, vz_example, Bx_example, By_example, Bz_example, gxx_example, gxy_example, gxz_example, gyy_example, gyz_example, gzz_example)\n",
        "inputs\n"
      ]
    },
    {
      "cell_type": "code",
      "execution_count": null,
      "metadata": {
        "id": "QVa1upmFUZip"
      },
      "outputs": [],
      "source": [
        "#%%script echo skipping\n",
        "\n",
        "# Pass the inputs to the network and get the outputs\n",
        "outputs = [net(input.unsqueeze(0)) for input in inputs]\n",
        "# Print the outputs\n",
        "outputs"
      ]
    },
    {
      "cell_type": "code",
      "execution_count": null,
      "metadata": {
        "id": "E-Xjfo7VUZir"
      },
      "outputs": [],
      "source": [
        "\n",
        "# Pass the inputs to the network and get the outputs\n",
        "outputs = [net_loaded(input.unsqueeze(0)) for input in inputs]\n",
        "# Print the outputs\n",
        "outputs"
      ]
    },
    {
      "cell_type": "markdown",
      "metadata": {
        "id": "xjpIvdybUZis"
      },
      "source": [
        "## Porting the model to C++"
      ]
    },
    {
      "cell_type": "code",
      "execution_count": null,
      "metadata": {
        "id": "VMlEd4RoUZis"
      },
      "outputs": [],
      "source": [
        "import torch.jit\n",
        "\n",
        "# Creating a dummy input tensor of shape (1, 5) to trace the model\n",
        "dummy_input = torch.randn(1, N_INPUTS).to(device)\n",
        "\n",
        "# Ensure that net_loaded is in evaluation mode.\n",
        "net_loaded.eval()\n",
        "\n",
        "# Tracing the model using the torch.jit.trace function\n",
        "traced_model = torch.jit.trace(net_loaded, dummy_input)\n",
        "\n",
        "# Saving the traced model to a file named \"net.pt\"\n",
        "traced_model.save(\"net.pt\")\n",
        "save_file(\"net.pt\")\n",
        "\n",
        "example_input_to_validate_correct_export_and_import = generate_input_data(*generate_samples(1))\n",
        "print(\"input shape: \", example_input_to_validate_correct_export_and_import.shape)\n",
        "print(\"input: \", example_input_to_validate_correct_export_and_import)\n",
        "print(\"Output:\", net_loaded(example_input_to_validate_correct_export_and_import))"
      ]
    }
  ],
  "metadata": {
    "accelerator": "GPU",
    "colab": {
      "provenance": [],
      "gpuType": "T4"
    },
    "kernelspec": {
      "display_name": "Python 3",
      "name": "python3"
    },
    "language_info": {
      "codemirror_mode": {
        "name": "ipython",
        "version": 3
      },
      "file_extension": ".py",
      "mimetype": "text/x-python",
      "name": "python",
      "nbconvert_exporter": "python",
      "pygments_lexer": "ipython3",
      "version": "3.11.3"
    }
  },
  "nbformat": 4,
  "nbformat_minor": 0
}