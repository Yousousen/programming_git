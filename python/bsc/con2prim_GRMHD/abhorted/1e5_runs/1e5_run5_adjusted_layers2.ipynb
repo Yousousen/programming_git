{
  "cells": [
    {
      "cell_type": "markdown",
      "metadata": {
        "id": "TPvB1xoSUZhR"
      },
      "source": [
        "# Neural network to learn conservative-to-primitive conversion in relativistic hydrodynamics"
      ]
    },
    {
      "cell_type": "markdown",
      "metadata": {
        "id": "__fLZmSf4cm7"
      },
      "source": [
        "## How to use this notebook\n",
        "\n",
        "### Local installation\n",
        "\n",
        "1. Install required packages with `pip install -r requirements.txt` to your desired environment.\n",
        "2. If a script version of this notebook is desired, comment (not uncomment) the first line of `nbconvert` cell.\n",
        "\n",
        "### Colab installation\n",
        "\n",
        "1.  Comment (not uncomment) the first line of the drive mounting cell.\n",
        "2.  Comment (not uncomment) the first line of the `pip install` cell.\n",
        "\n",
        "<!-- - For colab we also want to set the runtime to GPU by clicking _Change runtime_ in the _Runtime_ menu, and -->\n",
        "<!-- - We want to wait for the google drive connection popup to appear and follow the instructions. -->\n",
        "\n",
        "### Loading / Generating data\n",
        "3. Set `LOAD_DATA_FROM_CSV` to `True` / `False` to load data from csv files / generate data in this notebook.\n",
        "\n",
        "### Training without optimization\n",
        "\n",
        "4. Set `OPTIMIZE = False` in section _Constants and flags to set_.\n",
        "5. Run the entire notebook.\n",
        "\n",
        "### Training with optimization\n",
        "\n",
        "4. Set `OPTIMIZE = True` in section _Constants and flags to set_.\n",
        "5. Run the entire notebook.\n",
        "\n",
        "### Loading an already trained model\n",
        "\n",
        "4. Run cells in section _Initialization_.\n",
        "5. Run cells with definitions in section _Input data and labels_.\n",
        "6. Run cell with the definition of _Net_ in section _Defining the neural network_.\n",
        "7. Make sure the `net.pth`, `optimizer.pth`, `scheduler.pth`, `var_dict.json` and `train_output.csv` files are in the directory containing this notebook.\n",
        "8. Run the cells in section _Loading_ and continue from there.\n",
        "\n",
        "### Generating the C++ model\n",
        "\n",
        "9. Run section _Porting the model to C++_, this requires a model to be loaded.\n",
        "10. Set the path to the `net.pt` file in the C++ source file.\n",
        "11. `mkdir build && cd build`,\n",
        "12. Configure a `CMakeLists.txt` file as is done [here](https://pytorch.org/cppdocs/installing.html).\n",
        "13. `cmake -DCMAKE_PREFIX_PATH=/path/to/libtorch/ ..`,\n",
        "14. Compile and run, e.g. `cmake --build . --config release && ./<executable name>`"
      ]
    },
    {
      "cell_type": "markdown",
      "metadata": {
        "id": "Ix44VuOJ4cm9"
      },
      "source": [
        "## Initialization"
      ]
    },
    {
      "cell_type": "markdown",
      "metadata": {
        "id": "pKLcdI-F4cm_"
      },
      "source": [
        "\n",
        "Use this first cell to **convert this notebook** to a python script."
      ]
    },
    {
      "cell_type": "code",
      "execution_count": 53,
      "metadata": {
        "colab": {
          "base_uri": "https://localhost:8080/"
        },
        "id": "eqdgdNLHUZhV",
        "outputId": "6a5e3aad-7506-4bde-f37c-b0e4a4d012df",
        "tags": [
          "remove_cell"
        ]
      },
      "outputs": [
        {
          "output_type": "stream",
          "name": "stdout",
          "text": [
            "skipping\n"
          ]
        }
      ],
      "source": [
        "%%script echo skipping\n",
        "\n",
        "!jupyter nbconvert GRMHD_ML.ipynb --TagRemovePreprocessor.enabled=True --TagRemovePreprocessor.remove_cell_tags='{\"remove_cell\"}' --to script"
      ]
    },
    {
      "cell_type": "markdown",
      "metadata": {
        "id": "nzcUr0LnUZhw"
      },
      "source": [
        "Next some cells for working on **google colab**,"
      ]
    },
    {
      "cell_type": "code",
      "execution_count": 54,
      "metadata": {
        "id": "6VBGn-gc4cnD"
      },
      "outputs": [],
      "source": [
        "import os\n",
        "import shutil\n",
        "\n",
        "# check if the drive is mounted\n",
        "drive_mounted = os.path.exists(\"/content/drive\")\n",
        "# change this to your desired folder\n",
        "drive_folder = \"/content/drive/My Drive/bsc/con2prim_GRMHD/1e5_runs/adjusted_layers2\"\n",
        "\n",
        "# define a function to save a file to the drive or the current directory\n",
        "def save_file(file_name):\n",
        "  if drive_mounted:\n",
        "    # save the file to the drive folder\n",
        "    file_path = os.path.join(drive_folder, file_name)\n",
        "    # copy the file from the current directory to the drive folder\n",
        "    shutil.copyfile(file_name, file_path)\n",
        "  else:\n",
        "    # do nothing as the file is already in the current directory\n",
        "    pass\n"
      ]
    },
    {
      "cell_type": "code",
      "execution_count": 55,
      "metadata": {
        "id": "ecHw2_xlUZhx",
        "colab": {
          "base_uri": "https://localhost:8080/"
        },
        "outputId": "f53ce942-61be-4864-df98-f6466df9c828"
      },
      "outputs": [
        {
          "output_type": "stream",
          "name": "stdout",
          "text": [
            "Drive already mounted at /content/drive; to attempt to forcibly remount, call drive.mount(\"/content/drive\", force_remount=True).\n"
          ]
        }
      ],
      "source": [
        "#%%script echo skipping\n",
        "\n",
        "from google.colab import drive\n",
        "drive.mount('/content/drive')"
      ]
    },
    {
      "cell_type": "code",
      "execution_count": 56,
      "metadata": {
        "id": "T1rcStMLUZhy",
        "colab": {
          "base_uri": "https://localhost:8080/"
        },
        "outputId": "8bfe376c-7aef-415d-de93-33e9345e3626"
      },
      "outputs": [
        {
          "output_type": "stream",
          "name": "stdout",
          "text": [
            "Looking in indexes: https://pypi.org/simple, https://us-python.pkg.dev/colab-wheels/public/simple/\n",
            "Requirement already satisfied: optuna in /usr/local/lib/python3.10/dist-packages (3.2.0)\n",
            "Requirement already satisfied: tensorboard in /usr/local/lib/python3.10/dist-packages (2.12.2)\n",
            "Requirement already satisfied: tensorboardX in /usr/local/lib/python3.10/dist-packages (2.6)\n",
            "Requirement already satisfied: alembic>=1.5.0 in /usr/local/lib/python3.10/dist-packages (from optuna) (1.11.1)\n",
            "Requirement already satisfied: cmaes>=0.9.1 in /usr/local/lib/python3.10/dist-packages (from optuna) (0.9.1)\n",
            "Requirement already satisfied: colorlog in /usr/local/lib/python3.10/dist-packages (from optuna) (6.7.0)\n",
            "Requirement already satisfied: numpy in /usr/local/lib/python3.10/dist-packages (from optuna) (1.22.4)\n",
            "Requirement already satisfied: packaging>=20.0 in /usr/local/lib/python3.10/dist-packages (from optuna) (23.1)\n",
            "Requirement already satisfied: sqlalchemy>=1.3.0 in /usr/local/lib/python3.10/dist-packages (from optuna) (2.0.10)\n",
            "Requirement already satisfied: tqdm in /usr/local/lib/python3.10/dist-packages (from optuna) (4.65.0)\n",
            "Requirement already satisfied: PyYAML in /usr/local/lib/python3.10/dist-packages (from optuna) (6.0)\n",
            "Requirement already satisfied: absl-py>=0.4 in /usr/local/lib/python3.10/dist-packages (from tensorboard) (1.4.0)\n",
            "Requirement already satisfied: grpcio>=1.48.2 in /usr/local/lib/python3.10/dist-packages (from tensorboard) (1.54.0)\n",
            "Requirement already satisfied: google-auth<3,>=1.6.3 in /usr/local/lib/python3.10/dist-packages (from tensorboard) (2.17.3)\n",
            "Requirement already satisfied: google-auth-oauthlib<1.1,>=0.5 in /usr/local/lib/python3.10/dist-packages (from tensorboard) (1.0.0)\n",
            "Requirement already satisfied: markdown>=2.6.8 in /usr/local/lib/python3.10/dist-packages (from tensorboard) (3.4.3)\n",
            "Requirement already satisfied: protobuf>=3.19.6 in /usr/local/lib/python3.10/dist-packages (from tensorboard) (3.20.3)\n",
            "Requirement already satisfied: requests<3,>=2.21.0 in /usr/local/lib/python3.10/dist-packages (from tensorboard) (2.27.1)\n",
            "Requirement already satisfied: setuptools>=41.0.0 in /usr/local/lib/python3.10/dist-packages (from tensorboard) (67.7.2)\n",
            "Requirement already satisfied: tensorboard-data-server<0.8.0,>=0.7.0 in /usr/local/lib/python3.10/dist-packages (from tensorboard) (0.7.0)\n",
            "Requirement already satisfied: tensorboard-plugin-wit>=1.6.0 in /usr/local/lib/python3.10/dist-packages (from tensorboard) (1.8.1)\n",
            "Requirement already satisfied: werkzeug>=1.0.1 in /usr/local/lib/python3.10/dist-packages (from tensorboard) (2.3.0)\n",
            "Requirement already satisfied: wheel>=0.26 in /usr/local/lib/python3.10/dist-packages (from tensorboard) (0.40.0)\n",
            "Requirement already satisfied: Mako in /usr/local/lib/python3.10/dist-packages (from alembic>=1.5.0->optuna) (1.2.4)\n",
            "Requirement already satisfied: typing-extensions>=4 in /usr/local/lib/python3.10/dist-packages (from alembic>=1.5.0->optuna) (4.5.0)\n",
            "Requirement already satisfied: cachetools<6.0,>=2.0.0 in /usr/local/lib/python3.10/dist-packages (from google-auth<3,>=1.6.3->tensorboard) (5.3.0)\n",
            "Requirement already satisfied: pyasn1-modules>=0.2.1 in /usr/local/lib/python3.10/dist-packages (from google-auth<3,>=1.6.3->tensorboard) (0.3.0)\n",
            "Requirement already satisfied: six>=1.9.0 in /usr/local/lib/python3.10/dist-packages (from google-auth<3,>=1.6.3->tensorboard) (1.16.0)\n",
            "Requirement already satisfied: rsa<5,>=3.1.4 in /usr/local/lib/python3.10/dist-packages (from google-auth<3,>=1.6.3->tensorboard) (4.9)\n",
            "Requirement already satisfied: requests-oauthlib>=0.7.0 in /usr/local/lib/python3.10/dist-packages (from google-auth-oauthlib<1.1,>=0.5->tensorboard) (1.3.1)\n",
            "Requirement already satisfied: urllib3<1.27,>=1.21.1 in /usr/local/lib/python3.10/dist-packages (from requests<3,>=2.21.0->tensorboard) (1.26.15)\n",
            "Requirement already satisfied: certifi>=2017.4.17 in /usr/local/lib/python3.10/dist-packages (from requests<3,>=2.21.0->tensorboard) (2022.12.7)\n",
            "Requirement already satisfied: charset-normalizer~=2.0.0 in /usr/local/lib/python3.10/dist-packages (from requests<3,>=2.21.0->tensorboard) (2.0.12)\n",
            "Requirement already satisfied: idna<4,>=2.5 in /usr/local/lib/python3.10/dist-packages (from requests<3,>=2.21.0->tensorboard) (3.4)\n",
            "Requirement already satisfied: greenlet!=0.4.17 in /usr/local/lib/python3.10/dist-packages (from sqlalchemy>=1.3.0->optuna) (2.0.2)\n",
            "Requirement already satisfied: MarkupSafe>=2.1.1 in /usr/local/lib/python3.10/dist-packages (from werkzeug>=1.0.1->tensorboard) (2.1.2)\n",
            "Requirement already satisfied: pyasn1<0.6.0,>=0.4.6 in /usr/local/lib/python3.10/dist-packages (from pyasn1-modules>=0.2.1->google-auth<3,>=1.6.3->tensorboard) (0.5.0)\n",
            "Requirement already satisfied: oauthlib>=3.0.0 in /usr/local/lib/python3.10/dist-packages (from requests-oauthlib>=0.7.0->google-auth-oauthlib<1.1,>=0.5->tensorboard) (3.2.2)\n"
          ]
        }
      ],
      "source": [
        "#%%script echo skipping\n",
        "\n",
        "!pip install optuna tensorboard tensorboardX"
      ]
    },
    {
      "cell_type": "markdown",
      "metadata": {
        "id": "msDldnu_4cnF"
      },
      "source": [
        "Importing the **libraries**,"
      ]
    },
    {
      "cell_type": "code",
      "execution_count": 57,
      "metadata": {
        "id": "tREdWQUVUZhz"
      },
      "outputs": [],
      "source": [
        "import numpy as np\n",
        "import matplotlib.pyplot as plt\n",
        "import torch\n",
        "import torch.nn as nn\n",
        "import torch.optim as optim\n",
        "import torch.nn.functional as F\n",
        "import optuna\n",
        "import tensorboardX as tbx\n",
        "import pandas as pd"
      ]
    },
    {
      "cell_type": "markdown",
      "metadata": {
        "id": "38GvmerjUZhz"
      },
      "source": [
        "### Constants and flags to set\n",
        "Defining some constants and parameters for convenience.\n",
        "\n",
        "**NOTE**: Some **subparameters** still need to be adjusted in the `create_model` function itself as of (Tue May 16 07:42:45 AM CEST 2023) in the case the model is being trained without optimization."
      ]
    },
    {
      "cell_type": "code",
      "execution_count": 58,
      "metadata": {
        "id": "ei6VZDYKUZh0"
      },
      "outputs": [],
      "source": [
        "\n",
        "# Checking if GPU is available and setting the device accordingly\n",
        "device = torch.device(\"cuda\" if torch.cuda.is_available() else \"cpu\")\n",
        "\n",
        "N_TRIALS = 300 # Number of trials for hyperparameter optimization # NOTE: Set this properly.\n",
        "OPTIMIZE = True # Whether to optimize the hyperparameters or to use predetermined values. # NOTE: Set this properly.\n",
        "ZSCORE_NORMALIZATION = False # Whether to z-score normalize the input data.\n",
        "LOAD_DATA_FROM_CSV = False  # If not true we generate the data in this file and save to {x_train,y_train,x_test,y_test}.csv, otherwise we load the data from files of the same name. # NOTE: Set this before properly.\n",
        "\n",
        "csv_filenames = { # File names to load input data and labels from if LOAD_DATA_FROM_CSV is True.\n",
        "    \"x_train\": \"x_train.csv\",\n",
        "    \"x_val\": \"x_val.csv\",\n",
        "    \"x_test\": \"x_test.csv\",\n",
        "    \"y_train\": \"y_train.csv\",\n",
        "    \"y_val\": \"y_val.csv\",\n",
        "    \"y_test\": \"y_test.csv\",\n",
        "}\n",
        "\n",
        "# Values to use for hyperparameters if OPTIMIZE is False; set these to the best parameters found by Optuna.\n",
        "# NOTE: TODO: Currently (Sat May 27 05:16:57 PM CEST 2023) there are still subparameters to be set in create_model function.\n",
        "N_LAYERS_NO_OPT = 3\n",
        "N_UNITS_NO_OPT = [555, 458, 115]\n",
        "HIDDEN_ACTIVATION_NAME_NO_OPT = \"LeakyReLU\"\n",
        "OUTPUT_ACTIVATION_NAME_NO_OPT = \"Linear\"\n",
        "LOSS_NAME_NO_OPT = \"Huber\"\n",
        "OPTIMIZER_NAME_NO_OPT = \"RMSprop\"\n",
        "LR_NO_OPT = 0.000122770896701404\n",
        "BATCH_SIZE_NO_OPT = 49\n",
        "N_EPOCHS_NO_OPT = 500 # NOTE: Set this properly.\n",
        "SCHEDULER_NAME_NO_OPT = \"ReduceLROnPlateau\"\n",
        "DROPOUT_RATE_NO_OPT = 0.2\n",
        "\n",
        "N_INPUTS = 14  # Number of input features.\n",
        "N_OUTPUTS = 1  # Number of outputs.\n",
        "Gamma = 5/3  # Adiabatic index\n",
        "\n",
        "n_samples = 1e5 # NOTE: Set this properly.\n",
        "train_frac = 0.7  # 70% of data for training\n",
        "val_frac = 0.15  # 15% of data for validation, rest for testing\n",
        "\n",
        "rho_interval = (0, 2) \n",
        "epsilon_interval = (1e-2, 2000)  # Will be sampled in log space\n",
        "vx_interval = (0, 0.999)  \n",
        "vy_interval = (0, 0.999)  \n",
        "vz_interval = (0, 0.999)  \n",
        "Bx_interval = (-10, 10)  \n",
        "By_interval = (-10, 10)  \n",
        "Bz_interval = (-10, 10)  \n",
        "gxx_interval = (0.9, 1.1)\n",
        "gxy_interval = (0, 0.1)\n",
        "gxz_interval = (0, 0.1)\n",
        "gyy_interval = (0.9, 1.1)\n",
        "gyz_interval = (0, 0.1)\n",
        "gzz_interval = (0.9, 1.1)\n",
        "\n",
        "np.random.seed(70) # Comment for true random data.\n"
      ]
    },
    {
      "cell_type": "markdown",
      "metadata": {
        "id": "dlaP5UL2UZh1"
      },
      "source": [
        "## Input data and labels\n",
        "\n",
        "We either generate the data or load the data. First the definitions for generating the data come below."
      ]
    },
    {
      "cell_type": "code",
      "execution_count": 59,
      "metadata": {
        "id": "s_EvGFZcUZh1"
      },
      "outputs": [],
      "source": [
        "# Defining an analytic equation of state (EOS) for an ideal gas\n",
        "def eos_analytic(rho, epsilon):\n",
        "    # Adding some assertions to check that the input tensors are valid and have \n",
        "    # the expected shape and type \n",
        "    assert isinstance(rho, torch.Tensor), \"rho must be a torch.Tensor\"\n",
        "    assert isinstance(epsilon, torch.Tensor), \"epsilon must be a torch.Tensor\"\n",
        "    print('rho.shape: ', rho.shape)\n",
        "    print('epsilon.shape: ', epsilon.shape)\n",
        "    assert rho.shape == epsilon.shape, \"rho and epsilon must have the same shape\"\n",
        "    assert rho.ndim == 1, \"rho and epsilon must be one-dimensional tensors\"\n",
        "    assert rho.dtype == torch.float32, \"rho and epsilon must have dtype torch.float32\"\n",
        "\n",
        "    return (Gamma - 1) * rho * epsilon\n",
        "\n",
        "def sample_primitive_variables_and_metric():\n",
        "    rho = np.random.uniform(*rho_interval)  \n",
        "    epsilon = np.random.uniform(*np.log10(epsilon_interval))\n",
        "    vx = np.random.uniform(*vx_interval)  \n",
        "    vy = np.random.uniform(*vy_interval)  \n",
        "    vz = np.random.uniform(*vz_interval)  \n",
        "    Bx = np.random.uniform(*Bx_interval)  \n",
        "    By = np.random.uniform(*By_interval)  \n",
        "    Bz = np.random.uniform(*Bz_interval)  \n",
        "    gxx = np.random.uniform(*gxx_interval)\n",
        "    gxy = np.random.uniform(*gxy_interval)\n",
        "    gxz = np.random.uniform(*gxz_interval)\n",
        "    gyy = np.random.uniform(*gyy_interval)\n",
        "    gyz = np.random.uniform(*gyz_interval)\n",
        "    gzz = np.random.uniform(*gzz_interval)\n",
        "\n",
        "    return rho, epsilon, vx, vy, vz, Bx, By, Bz, gxx, gxy, gxz, gyy, gyz, gzz\n",
        "\n",
        "def check_sample(rho, epsilon, vx, vy, vz, Bx, By, Bz, gxx, gxy, gxz, gyy, gyz, gzz):\n",
        "    wtemp_expr = 1 - (gxx * vx**2 + gyy * vy**2 + gzz * vz**2 + 2 * gxy * vx * vy + 2 * gxz * vx * vz + 2 * gyz * vy * vz)\n",
        "    sdet_expr = gxx * gyy * gzz + 2 * gxy * gxz * gyz - gxx * gyz ** 2 - gyy * gxz ** 2 - gzz * gxy ** 2\n",
        "    if vx**2 + vy**2 + vz**2 >= 1 or wtemp_expr < 0 or sdet_expr < 0:\n",
        "        # print(f\"Sample failed checks. vx^2+vy^2+vz^2: {vx**2 + vy**2 + vz**2}, wtemp_expr: {wtemp_expr}, sdet_expr: {sdet_expr}\")\n",
        "        return False\n",
        "    else:\n",
        "        # print(f\"Sample passed checks. vx^2+vy^2+vz^2: {vx**2 + vy**2 + vz**2}, wtemp_expr: {wtemp_expr}, sdet_expr: {sdet_expr}\")\n",
        "        return True\n",
        "\n",
        "def generate_samples(n_samples):\n",
        "    samples = []\n",
        "    while len(samples) < n_samples:\n",
        "        sample = sample_primitive_variables_and_metric()\n",
        "        if check_sample(*sample):\n",
        "            samples.append(sample)\n",
        "        # print(f\"Number of valid samples: {len(samples)}\")\n",
        "    return zip(*samples)\n",
        "def sdet(gxx, gxy, gxz, gyy, gyz, gzz):\n",
        "    # Determinant of the three metric.\n",
        "    return (gxx * gyy * gzz + 2 * gxy * gxz * gyz - gxx * gyz ** 2 - gyy * gxz ** 2 - gzz * gxy ** 2) ** 0.5\n",
        "\n",
        "# Defining a function that computes conserved variables from primitive variables and the metric\n",
        "# We follow the source code of GRaM-X: A new GPU-accelerated dynamical spacetime GRMHD code for Exascale\n",
        "# computing with the Einstein Toolkit of Shankar et al.\n",
        "def compute_conserved_variables(rho, epsilon, vx, vy, vz, Bx, By, Bz, gxx, gxy, gxz, gyy, gyz, gzz):\n",
        "    pres = eos_analytic(rho, epsilon)\n",
        "    wtemp = 1 / (1 - (gxx * vx**2 + gyy * vy**2 + gzz * vz**2 +\n",
        "        2 * gxy * vx * vy + 2 * gxz * vx * vz +\n",
        "        2 * gyz * vy * vz))**0.5\n",
        "\n",
        "    vlowx = gxx * vx + gxy * vy + gxz * vz\n",
        "    vlowy = gxy * vx + gyy * vy + gyz * vz\n",
        "    vlowz = gxz * vx + gyz * vy + gzz * vz\n",
        "\n",
        "    Bxlow = gxx * Bx + gxy * By + gxz * Bz\n",
        "    Bylow = gxy * Bx + gyy * By + gyz * Bz\n",
        "    Bzlow = gxz * Bx + gyz * By + gzz * Bz\n",
        "\n",
        "    B2 = Bxlow * Bx + Bylow * By + Bzlow * Bz\n",
        "\n",
        "    Bdotv = Bxlow * vx + Bylow * vy + Bzlow * vz\n",
        "    Bdotv2 = Bdotv * Bdotv\n",
        "    wtemp2 = wtemp * wtemp\n",
        "    b2 = B2 / wtemp2 + Bdotv2\n",
        "    ab0 = wtemp * Bdotv\n",
        "\n",
        "    blowx = (gxx * Bx + gxy * By + gxz * Bz) / wtemp + wtemp * Bdotv * vlowx\n",
        "    blowy = (gxy * Bx + gyy * By + gyz * Bz) / wtemp + wtemp * Bdotv * vlowy\n",
        "    blowz = (gxz * Bx + gyz * By + gzz * Bz) / wtemp + wtemp * Bdotv * vlowz\n",
        "\n",
        "    hrhow2 = (rho * (1 + epsilon) + pres + b2) * (wtemp) * (wtemp)\n",
        "\n",
        "    D = sdet(gxx, gxy, gxz, gyy, gyz, gzz) * rho * (wtemp)\n",
        "    Sx = sdet(gxx, gxy, gxz, gyy, gyz, gzz) * (hrhow2 * vlowx - ab0 * blowx)\n",
        "    Sy = sdet(gxx, gxy, gxz, gyy, gyz, gzz) * (hrhow2 * vlowy - ab0 * blowy)\n",
        "    Sz = sdet(gxx, gxy, gxz, gyy, gyz, gzz) * (hrhow2 * vlowz - ab0 * blowz)\n",
        "    tau = sdet(gxx, gxy, gxz, gyy, gyz, gzz) * (hrhow2 - pres - b2 / 2 - ab0 * ab0) - D\n",
        "    Bconsx = sdet(gxx, gxy, gxz, gyy, gyz, gzz) * Bx\n",
        "    Bconsy = sdet(gxx, gxy, gxz, gyy, gyz, gzz) * By\n",
        "    Bconsz = sdet(gxx, gxy, gxz, gyy, gyz, gzz) * Bz\n",
        "\n",
        "    return D, Sx, Sy, Sz, tau, Bconsx, Bconsy, Bconsz\n",
        "\n",
        "def generate_input_data(rho, epsilon, vx, vy, vz, Bx, By, Bz, gxx, gxy, gxz, gyy, gyz, gzz):\n",
        "    rho = torch.tensor(np.array(rho), dtype=torch.float32).to(device)\n",
        "    epsilon = torch.tensor(np.array(epsilon), dtype=torch.float32).to(device)\n",
        "    vx = torch.tensor(np.array(vx), dtype=torch.float32).to(device)\n",
        "    vy = torch.tensor(np.array(vy), dtype=torch.float32).to(device)\n",
        "    vz = torch.tensor(np.array(vz), dtype=torch.float32).to(device)\n",
        "    Bx = torch.tensor(np.array(Bx), dtype=torch.float32).to(device)\n",
        "    By = torch.tensor(np.array(By), dtype=torch.float32).to(device)\n",
        "    Bz = torch.tensor(np.array(Bz), dtype=torch.float32).to(device)\n",
        "    gxx = torch.tensor(np.array(gxx), dtype=torch.float32).to(device)\n",
        "    gxy = torch.tensor(np.array(gxy), dtype=torch.float32).to(device)\n",
        "    gxz = torch.tensor(np.array(gxz), dtype=torch.float32).to(device)\n",
        "    gyy = torch.tensor(np.array(gyy), dtype=torch.float32).to(device)\n",
        "    gyz = torch.tensor(np.array(gyz), dtype=torch.float32).to(device)\n",
        "    gzz = torch.tensor(np.array(gzz), dtype=torch.float32).to(device)\n",
        "\n",
        "    D, Sx, Sy, Sz, tau, Bscriptx, Bscripty, Bscriptz = compute_conserved_variables(\n",
        "        rho, epsilon, vx, vy, vz, Bx, By, Bz, gxx, gxy, gxz, gyy, gyz, gzz\n",
        "    ) \n",
        "\n",
        "    # Add gxx, gxy, gxz, gyy, gyz, gzz to the tensor\n",
        "    x = torch.stack([D, Sx, Sy, Sz, tau, Bscriptx, Bscripty, Bscriptz, gxx, gxy, gxz, gyy, gyz, gzz], axis=1)\n",
        "    return x\n",
        "\n",
        "# Defining a function that generates output data (labels) from given samples of primitive variables\n",
        "# We use the definitions as given in Recovery schemes for primitive variables in\n",
        "# general-relativistic magnetohydrodynamics of Siegel et al.\n",
        "def generate_labels(rho, epsilon, vx, vy, vz):\n",
        "    # Converting the numpy arrays to torch tensors and moving them to the device\n",
        "    rho = torch.tensor(np.array(rho), dtype=torch.float32).to(device)\n",
        "    epsilon = torch.tensor(np.array(epsilon), dtype=torch.float32).to(device)\n",
        "    vx = torch.tensor(np.array(vx), dtype=torch.float32).to(device)\n",
        "    vy = torch.tensor(np.array(vy), dtype=torch.float32).to(device)\n",
        "    vz = torch.tensor(np.array(vz), dtype=torch.float32).to(device)\n",
        "\n",
        "    # Computing the required quantities\n",
        "    pres = eos_analytic(rho, epsilon)\n",
        "    h = 1 + epsilon + pres / rho\n",
        "    W = 1 / torch.sqrt(1 - (vx * vx + vy * vy + vz * vz))\n",
        "\n",
        "    # Returning the output data tensor\n",
        "    return h * W"
      ]
    },
    {
      "cell_type": "markdown",
      "metadata": {
        "id": "SSJd2Ch74cnI"
      },
      "source": [
        "### Generating or loading input data and labels"
      ]
    },
    {
      "cell_type": "code",
      "execution_count": 60,
      "metadata": {
        "id": "Dbu0GvMz4cnI"
      },
      "outputs": [],
      "source": [
        "%config InteractiveShell.ast_node_interactivity = \"all\""
      ]
    },
    {
      "cell_type": "code",
      "execution_count": 61,
      "metadata": {
        "id": "cKubR6C8UZh4"
      },
      "outputs": [],
      "source": [
        "if LOAD_DATA_FROM_CSV:\n",
        "    # Load the data from CSV files\n",
        "    x_train = pd.read_csv(csv_filenames[\"x_train\"]).values\n",
        "    y_train = pd.read_csv(csv_filenames[\"y_train\"]).values.squeeze()  # reshape to 1D\n",
        "    x_val = pd.read_csv(csv_filenames[\"x_val\"]).values\n",
        "    y_val = pd.read_csv(csv_filenames[\"y_val\"]).values.squeeze()  # reshape to 1D\n",
        "    x_test = pd.read_csv(csv_filenames[\"x_test\"]).values\n",
        "    y_test = pd.read_csv(csv_filenames[\"y_test\"]).values.squeeze()  # reshape to 1D\n",
        "\n",
        "    # Convert numpy arrays to tensors\n",
        "    x_train = torch.from_numpy(x_train).float().to(device)\n",
        "    y_train = torch.from_numpy(y_train).float().to(device)\n",
        "    x_val = torch.from_numpy(x_val).float().to(device)\n",
        "    y_val = torch.from_numpy(y_val).float().to(device)\n",
        "    x_test = torch.from_numpy(x_test).float().to(device)\n",
        "    y_test = torch.from_numpy(y_test).float().to(device)\n",
        "\n",
        "    # This is an alternative to having if clauses around the cells that visualize these variables.\n",
        "    rho = epsilon = vx = vy = vz = Bx = By = Bz = gxx = gxy = gxz = gyy = gyz  = gzz = None"
      ]
    },
    {
      "cell_type": "code",
      "execution_count": 62,
      "metadata": {
        "id": "dImVa4W04cnJ"
      },
      "outputs": [],
      "source": [
        "if not LOAD_DATA_FROM_CSV:\n",
        "    # Sample primitive variables and metric\n",
        "    rho, epsilon, vx, vy, vz, Bx, By, Bz, gxx, gxy, gxz, gyy, gyz, gzz = generate_samples(n_samples)"
      ]
    },
    {
      "cell_type": "code",
      "execution_count": 63,
      "metadata": {
        "id": "ESK3LQPg4cnJ",
        "colab": {
          "base_uri": "https://localhost:8080/"
        },
        "outputId": "c3d783aa-99f0-4b2b-a415-c1a1ea1dc0f2"
      },
      "outputs": [
        {
          "output_type": "stream",
          "name": "stdout",
          "text": [
            "rho.shape:  torch.Size([100000])\n",
            "epsilon.shape:  torch.Size([100000])\n",
            "rho.shape:  torch.Size([100000])\n",
            "epsilon.shape:  torch.Size([100000])\n"
          ]
        }
      ],
      "source": [
        "if not LOAD_DATA_FROM_CSV:\n",
        "    # Generate data and labels.\n",
        "    x = generate_input_data(rho, epsilon, vx, vy, vz, Bx, By, Bz, gxx, gxy, gxz, gyy, gyz, gzz)\n",
        "    y = generate_labels(rho, epsilon, vx, vy, vz)\n",
        "\n",
        "    # Calculate the number of samples in each set\n",
        "    n_train_samples = int(n_samples * train_frac)\n",
        "    n_val_samples = int(n_samples * val_frac)\n",
        "\n",
        "    # Create the data sets\n",
        "    x_train = x[:n_train_samples]\n",
        "    y_train = y[:n_train_samples]\n",
        "    x_val = x[n_train_samples : n_train_samples + n_val_samples]\n",
        "    y_val = y[n_train_samples : n_train_samples + n_val_samples]\n",
        "    x_test = x[n_train_samples + n_val_samples :]\n",
        "    y_test = y[n_train_samples + n_val_samples :]\n",
        "\n",
        "    # Save the data to CSV files; tensors need to be converted numpy arrays for saving in CSV.\n",
        "    pd.DataFrame(x_train.cpu().numpy()).to_csv(csv_filenames[\"x_train\"], index=False)\n",
        "    save_file(csv_filenames[\"x_train\"])\n",
        "    pd.DataFrame(y_train.cpu().numpy()).to_csv(csv_filenames[\"y_train\"], index=False)\n",
        "    save_file(csv_filenames[\"y_train\"])\n",
        "\n",
        "    pd.DataFrame(x_val.cpu().numpy()).to_csv(csv_filenames[\"x_val\"], index=False)\n",
        "    save_file(csv_filenames[\"x_val\"])\n",
        "    pd.DataFrame(y_val.cpu().numpy()).to_csv(csv_filenames[\"y_val\"], index=False)\n",
        "    save_file(csv_filenames[\"y_val\"])\n",
        "\n",
        "    pd.DataFrame(x_test.cpu().numpy()).to_csv(csv_filenames[\"x_test\"], index=False)\n",
        "    save_file(csv_filenames[\"x_test\"])\n",
        "    pd.DataFrame(y_test.cpu().numpy()).to_csv(csv_filenames[\"y_test\"], index=False)\n",
        "    save_file(csv_filenames[\"y_test\"])"
      ]
    },
    {
      "cell_type": "code",
      "execution_count": 64,
      "metadata": {
        "id": "Y-3DG_h24cnJ",
        "colab": {
          "base_uri": "https://localhost:8080/"
        },
        "outputId": "01a40849-69f6-446c-df4f-ff24c3f3f41a"
      },
      "outputs": [
        {
          "output_type": "execute_result",
          "data": {
            "text/plain": [
              "torch.Size([70000, 14])"
            ]
          },
          "metadata": {},
          "execution_count": 64
        },
        {
          "output_type": "execute_result",
          "data": {
            "text/plain": [
              "torch.Size([70000])"
            ]
          },
          "metadata": {},
          "execution_count": 64
        },
        {
          "output_type": "execute_result",
          "data": {
            "text/plain": [
              "torch.Size([15000, 14])"
            ]
          },
          "metadata": {},
          "execution_count": 64
        },
        {
          "output_type": "execute_result",
          "data": {
            "text/plain": [
              "torch.Size([15000])"
            ]
          },
          "metadata": {},
          "execution_count": 64
        },
        {
          "output_type": "execute_result",
          "data": {
            "text/plain": [
              "torch.Size([15000, 14])"
            ]
          },
          "metadata": {},
          "execution_count": 64
        },
        {
          "output_type": "execute_result",
          "data": {
            "text/plain": [
              "torch.Size([15000])"
            ]
          },
          "metadata": {},
          "execution_count": 64
        },
        {
          "output_type": "execute_result",
          "data": {
            "text/plain": [
              "tensor([[ 1.5052e-01,  6.9911e+01,  5.2254e+01,  ...,  9.0098e-01,\n",
              "          7.8799e-02,  1.0349e+00],\n",
              "        [ 1.6257e+00, -1.2595e+00,  8.2978e+00,  ...,  1.0485e+00,\n",
              "          9.2982e-02,  9.0812e-01],\n",
              "        [ 1.3144e+00,  1.9456e+01,  2.0009e+01,  ...,  1.0516e+00,\n",
              "          5.2514e-02,  9.3525e-01],\n",
              "        ...,\n",
              "        [ 4.8502e+00,  3.0509e+01,  2.1219e+00,  ...,  1.0638e+00,\n",
              "          2.5240e-02,  9.7035e-01],\n",
              "        [ 2.0783e-01,  3.4716e+01,  1.7203e+01,  ...,  1.0622e+00,\n",
              "          3.9270e-02,  9.8392e-01],\n",
              "        [ 2.8773e+00, -3.8148e+00,  3.9378e+01,  ...,  1.0583e+00,\n",
              "          3.7270e-02,  9.6673e-01]], device='cuda:0')"
            ]
          },
          "metadata": {},
          "execution_count": 64
        },
        {
          "output_type": "execute_result",
          "data": {
            "text/plain": [
              "tensor([ 6.2784, -0.7416,  2.3403,  ..., -4.3545,  2.3844,  7.8899],\n",
              "       device='cuda:0')"
            ]
          },
          "metadata": {},
          "execution_count": 64
        },
        {
          "output_type": "execute_result",
          "data": {
            "text/plain": [
              "tensor([[ 1.7930e+00,  4.8936e+01,  5.1299e+01,  ...,  9.0994e-01,\n",
              "          9.5550e-02,  9.1821e-01],\n",
              "        [ 1.7003e+00, -7.2934e+00,  5.1039e+00,  ...,  9.1014e-01,\n",
              "          9.0360e-02,  1.0498e+00],\n",
              "        [ 1.2915e+00,  1.1420e+01, -1.5463e+01,  ...,  1.0101e+00,\n",
              "          2.3252e-02,  9.8472e-01],\n",
              "        ...,\n",
              "        [ 1.5920e+00,  2.5180e+01,  1.4149e+01,  ...,  9.3743e-01,\n",
              "          4.7283e-02,  1.0395e+00],\n",
              "        [ 8.3691e-01, -7.8790e+00,  3.0667e+01,  ...,  9.9888e-01,\n",
              "          9.2545e-02,  9.2777e-01],\n",
              "        [ 1.7245e+00, -1.1318e+01,  1.3903e+01,  ...,  9.3182e-01,\n",
              "          5.8519e-02,  9.6224e-01]], device='cuda:0')"
            ]
          },
          "metadata": {},
          "execution_count": 64
        },
        {
          "output_type": "execute_result",
          "data": {
            "text/plain": [
              "tensor([ 7.8535, -0.0869,  0.9857,  ...,  1.4526,  9.4270,  7.3892],\n",
              "       device='cuda:0')"
            ]
          },
          "metadata": {},
          "execution_count": 64
        },
        {
          "output_type": "execute_result",
          "data": {
            "text/plain": [
              "tensor([[ 2.7066e+00,  7.2318e+01, -2.8853e+01,  ...,  9.8857e-01,\n",
              "          4.1255e-02,  1.0451e+00],\n",
              "        [ 2.1383e+00,  2.8131e+01,  6.9616e+01,  ...,  1.0613e+00,\n",
              "          8.2385e-02,  1.0892e+00],\n",
              "        [ 7.4486e-01,  8.1011e+01, -2.6955e+01,  ...,  9.1635e-01,\n",
              "          1.1930e-02,  1.0935e+00],\n",
              "        ...,\n",
              "        [ 1.2719e+00,  4.0807e+00, -5.5112e-01,  ...,  1.0575e+00,\n",
              "          3.0295e-02,  9.0798e-01],\n",
              "        [ 1.7500e+00, -1.1416e+01,  2.5838e+01,  ...,  1.0783e+00,\n",
              "          1.3951e-02,  9.5195e-01],\n",
              "        [ 2.1329e+00, -8.5996e+00,  2.4396e+01,  ...,  9.2411e-01,\n",
              "          4.0945e-02,  9.7228e-01]], device='cuda:0')"
            ]
          },
          "metadata": {},
          "execution_count": 64
        },
        {
          "output_type": "execute_result",
          "data": {
            "text/plain": [
              "tensor([ 8.9882,  4.2383, 10.0341,  ...,  3.0453,  0.9038, -2.2624],\n",
              "       device='cuda:0')"
            ]
          },
          "metadata": {},
          "execution_count": 64
        }
      ],
      "source": [
        "\n",
        "x_train.shape\n",
        "y_train.shape\n",
        "x_val.shape\n",
        "y_val.shape\n",
        "x_test.shape\n",
        "y_test.shape\n",
        "x_train\n",
        "y_train\n",
        "x_val\n",
        "y_val\n",
        "x_test\n",
        "y_test"
      ]
    },
    {
      "cell_type": "code",
      "execution_count": 65,
      "metadata": {
        "id": "xdpjCNO94cnK",
        "colab": {
          "base_uri": "https://localhost:8080/"
        },
        "outputId": "99383c42-7c44-455f-82d0-0ad84b4da2e3"
      },
      "outputs": [
        {
          "output_type": "execute_result",
          "data": {
            "text/plain": [
              "tensor(False, device='cuda:0')"
            ]
          },
          "metadata": {},
          "execution_count": 65
        },
        {
          "output_type": "execute_result",
          "data": {
            "text/plain": [
              "tensor(False, device='cuda:0')"
            ]
          },
          "metadata": {},
          "execution_count": 65
        },
        {
          "output_type": "execute_result",
          "data": {
            "text/plain": [
              "tensor(False, device='cuda:0')"
            ]
          },
          "metadata": {},
          "execution_count": 65
        },
        {
          "output_type": "execute_result",
          "data": {
            "text/plain": [
              "tensor(False, device='cuda:0')"
            ]
          },
          "metadata": {},
          "execution_count": 65
        },
        {
          "output_type": "execute_result",
          "data": {
            "text/plain": [
              "tensor(False, device='cuda:0')"
            ]
          },
          "metadata": {},
          "execution_count": 65
        },
        {
          "output_type": "execute_result",
          "data": {
            "text/plain": [
              "tensor(False, device='cuda:0')"
            ]
          },
          "metadata": {},
          "execution_count": 65
        }
      ],
      "source": [
        "torch.isnan(x_train).any()\n",
        "torch.isnan(x_val).any()\n",
        "torch.isnan(x_test).any()\n",
        "torch.isnan(y_train).any()\n",
        "torch.isnan(y_val).any()\n",
        "torch.isnan(y_test).any()"
      ]
    },
    {
      "cell_type": "code",
      "execution_count": 66,
      "metadata": {
        "id": "X1uRb5P04cnK",
        "colab": {
          "base_uri": "https://localhost:8080/"
        },
        "outputId": "5af9e88f-4ba4-4007-9ef8-696a762cbb16"
      },
      "outputs": [
        {
          "output_type": "execute_result",
          "data": {
            "text/plain": [
              "(tensor([], device='cuda:0', dtype=torch.int64),\n",
              " tensor([], device='cuda:0', dtype=torch.int64))"
            ]
          },
          "metadata": {},
          "execution_count": 66
        },
        {
          "output_type": "execute_result",
          "data": {
            "text/plain": [
              "(tensor([], device='cuda:0', dtype=torch.int64),\n",
              " tensor([], device='cuda:0', dtype=torch.int64))"
            ]
          },
          "metadata": {},
          "execution_count": 66
        },
        {
          "output_type": "execute_result",
          "data": {
            "text/plain": [
              "(tensor([], device='cuda:0', dtype=torch.int64),\n",
              " tensor([], device='cuda:0', dtype=torch.int64))"
            ]
          },
          "metadata": {},
          "execution_count": 66
        }
      ],
      "source": [
        "nan_mask_train = torch.isnan(x_train)     # get a boolean mask indicating NaN values\n",
        "nan_indices_train = torch.where(nan_mask_train)  # get the indices of the NaN values\n",
        "nan_indices_train\n",
        "# len(nan_indices_train)\n",
        "\n",
        "nan_mask_val = torch.isnan(x_val)     # get a boolean mask indicating NaN values\n",
        "nan_indices_val = torch.where(nan_mask_val)  # get the indices of the NaN values\n",
        "nan_indices_val\n",
        "# len(nan_indices_test)\n",
        "\n",
        "nan_mask_test = torch.isnan(x_test)     # get a boolean mask indicating NaN values\n",
        "nan_indices_test = torch.where(nan_mask_test)  # get the indices of the NaN values\n",
        "nan_indices_test\n",
        "# len(nan_indices_test)"
      ]
    },
    {
      "cell_type": "markdown",
      "metadata": {
        "id": "HC0o0Myn4cnK"
      },
      "source": [
        "## Visualizing the data"
      ]
    },
    {
      "cell_type": "markdown",
      "metadata": {
        "id": "Myrn0owg4cnL"
      },
      "source": [
        "### Visualizing sampled data"
      ]
    },
    {
      "cell_type": "code",
      "execution_count": 67,
      "metadata": {
        "id": "5CXNfzzz4cnL",
        "colab": {
          "base_uri": "https://localhost:8080/"
        },
        "outputId": "73e82289-fb6d-4a25-f74f-78dc3bb0cf0b"
      },
      "outputs": [
        {
          "output_type": "stream",
          "name": "stdout",
          "text": [
            "skipping\n"
          ]
        }
      ],
      "source": [
        "%%script echo skipping\n",
        "\n",
        "if not LOAD_DATA_FROM_CSV:\n",
        "    rho\n",
        "    epsilon\n",
        "    vx\n",
        "    vy\n",
        "    vz \n",
        "    Bx\n",
        "    By\n",
        "    Bz\n",
        "    gxx\n",
        "    gxy\n",
        "    gxz\n",
        "    gyy\n",
        "    gyz\n",
        "    gzz "
      ]
    },
    {
      "cell_type": "code",
      "execution_count": 68,
      "metadata": {
        "id": "jEj1uLoV4cnL",
        "colab": {
          "base_uri": "https://localhost:8080/"
        },
        "outputId": "08821079-d0f7-404e-af08-0783c587adf7"
      },
      "outputs": [
        {
          "output_type": "stream",
          "name": "stdout",
          "text": [
            "100000\n",
            "100000\n",
            "100000\n",
            "100000\n",
            "100000\n",
            "100000\n",
            "100000\n",
            "100000\n",
            "\n",
            "100000\n",
            "100000\n",
            "100000\n",
            "100000\n",
            "100000\n",
            "100000\n"
          ]
        }
      ],
      "source": [
        "if not LOAD_DATA_FROM_CSV:\n",
        "    print(len(rho))\n",
        "    print(len(epsilon))\n",
        "    print(len(vx))\n",
        "    print(len(vy))\n",
        "    print(len(vz))\n",
        "    print(len(Bx))\n",
        "    print(len(By))\n",
        "    print(len(Bz))\n",
        "    print()\n",
        "    print(len(gxx))\n",
        "    print(len(gxy))\n",
        "    print(len(gxz))\n",
        "    print(len(gyy))\n",
        "    print(len(gyz))\n",
        "    print(len(gzz))"
      ]
    },
    {
      "cell_type": "code",
      "execution_count": 69,
      "metadata": {
        "id": "VMp6XJ6RUZh4"
      },
      "outputs": [],
      "source": [
        "%config InteractiveShell.ast_node_interactivity = \"last_expr_or_assign\""
      ]
    },
    {
      "cell_type": "code",
      "execution_count": 70,
      "metadata": {
        "id": "F6urnHAr4cnM",
        "colab": {
          "base_uri": "https://localhost:8080/"
        },
        "outputId": "a37dc5f1-f9c0-4c09-ac10-7faf012c4548"
      },
      "outputs": [
        {
          "output_type": "stream",
          "name": "stdout",
          "text": [
            "skipping\n"
          ]
        }
      ],
      "source": [
        "%%script echo skipping\n",
        "\n",
        "plt.hist([np.random.uniform(0, 0.999) for _ in range(n_train_samples)], bins=20)"
      ]
    },
    {
      "cell_type": "code",
      "execution_count": 71,
      "metadata": {
        "id": "2iNL6ULb4cnM",
        "colab": {
          "base_uri": "https://localhost:8080/"
        },
        "outputId": "4d1a36a8-1394-4f99-c4b3-867d2f444766"
      },
      "outputs": [
        {
          "output_type": "stream",
          "name": "stdout",
          "text": [
            "skipping\n"
          ]
        }
      ],
      "source": [
        "%%script echo skipping\n",
        "\n",
        "epsilon"
      ]
    },
    {
      "cell_type": "markdown",
      "metadata": {
        "id": "hydjma5V4cnM"
      },
      "source": [
        "The reason the sampling is not uniformly distributed in the following plots is due to the resampling and the fact that we certain values of e.g. velocity are more likely to violate the speed of light constraint than others."
      ]
    },
    {
      "cell_type": "code",
      "execution_count": 72,
      "metadata": {
        "id": "E5YFdqKjUZh5",
        "colab": {
          "base_uri": "https://localhost:8080/",
          "height": 827
        },
        "outputId": "a116c693-532f-45d4-ecdb-0ce20b0507c6"
      },
      "outputs": [
        {
          "output_type": "display_data",
          "data": {
            "text/plain": [
              "<Figure size 2000x1600 with 14 Axes>"
            ],
            "image/png": "[encoded data removed]"
          },
          "metadata": {}
        }
      ],
      "source": [
        "#%%script echo skipping\n",
        "\n",
        "if not LOAD_DATA_FROM_CSV:\n",
        "    def plot_histogram(data, xlabel, ylabel, position, bins=20, xlog_scale=False, ylog_scale=False):\n",
        "        plt.subplot(4, 5, position)\n",
        "        plt.hist(data, bins=bins)\n",
        "        plt.xlabel(xlabel)\n",
        "        plt.ylabel(ylabel)\n",
        "        if xlog_scale: # Setting does not work expected for epsilon.\n",
        "            plt.xscale(\"log\")\n",
        "        if ylog_scale: # Setting does not work expected for epsilon.\n",
        "            plt.yscale(\"log\")\n",
        "\n",
        "    # Plotting the histograms of rho, vx, epsilon, b0, b1, b2, and b3\n",
        "    bins = 20\n",
        "    plt.figure(figsize=(20, 16))\n",
        "\n",
        "    plot_histogram(rho, \"rho\", \"Frequency\", 1, bins=bins)\n",
        "    plot_histogram(epsilon, \"epsilon\", \"Frequency\", 2, bins=bins)\n",
        "    plot_histogram(vx, \"vx\", \"Frequency\", 3, bins=bins)\n",
        "    plot_histogram(vy, \"vy\", \"Frequency\", 4, bins=bins)\n",
        "    plot_histogram(vz, \"vz\", \"Frequency\", 5, bins=bins)\n",
        "    plot_histogram(Bx, \"Bx\", \"Frequency\", 6, bins=bins)\n",
        "    plot_histogram(By, \"By\", \"Frequency\", 7, bins=bins)\n",
        "    plot_histogram(Bz, \"Bz\", \"Frequency\", 8, bins=bins)\n",
        "\n",
        "    # Plot these\n",
        "    plot_histogram(gxx, \"gxx\", \"Frequency\", 9, bins=bins)\n",
        "    plot_histogram(gxy, \"gxy\", \"Frequency\", 10, bins=bins)\n",
        "    plot_histogram(gxz, \"gxz\", \"Frequency\", 11, bins=bins)\n",
        "    plot_histogram(gyy, \"gyy\", \"Frequency\", 12, bins=bins)\n",
        "    plot_histogram(gyz, \"gyz\", \"Frequency\", 13, bins=bins)\n",
        "    plot_histogram(gzz, \"gzz\", \"Frequency\", 14, bins=bins)\n",
        "\n",
        "\n",
        "    plt.suptitle(\"Primitive variables and metric\")\n",
        "    plt.tight_layout()\n",
        "    plt.show()\n"
      ]
    },
    {
      "cell_type": "code",
      "execution_count": 73,
      "metadata": {
        "id": "sUNNNX5e4cnN"
      },
      "outputs": [],
      "source": [
        "%config InteractiveShell.ast_node_interactivity = \"last_expr_or_assign\""
      ]
    },
    {
      "cell_type": "code",
      "execution_count": 74,
      "metadata": {
        "id": "et4AFTXb4cnN",
        "colab": {
          "base_uri": "https://localhost:8080/",
          "height": 1000
        },
        "outputId": "f31973bf-dea9-4f3e-b508-fd7c05dbf6be"
      },
      "outputs": [
        {
          "output_type": "display_data",
          "data": {
            "text/plain": [
              "<Figure size 1600x1600 with 14 Axes>"
            ],
            "image/png": "[encoded data removed]"
          },
          "metadata": {}
        }
      ],
      "source": [
        "#%%script echo skipping\n",
        "\n",
        "# Variable names\n",
        "variable_names = [\"D\", \"Sx\", \"Sy\", \"Sz\", \"tau\", \"Bconsx\", \"Bconsy\", \"Bconsz\", \"gxx\", \"gxy\", \"gxz\", \"gyy\", \"gyz\", \"gzz\"]\n",
        "\n",
        "# Plotting histograms of the input variables before z-score normalization\n",
        "plt.figure(figsize=(16, 16))\n",
        "plt.suptitle('Histograms of input variables before (or without at all) z-score normalization', y=1.03)\n",
        "\n",
        "for i in range(N_INPUTS):\n",
        "    plt.subplot(7, 2, i+1)\n",
        "    data = x_train[:, i].cpu().numpy() # Convert tensor to numpy array for percentile calculation\n",
        "    lower_bound, upper_bound = np.percentile(data, [1, 100]) # NOTE: Use this instead to visualize all the data.\n",
        "    # lower_bound, upper_bound = np.percentile(data, [1, 90]) # Calculate 1st and 99th percentile\n",
        "\n",
        "    plt.hist(data, bins=50, range=(lower_bound, upper_bound)) # Set range to the calculated percentile range\n",
        "    plt.xlabel(variable_names[i])\n",
        "    plt.xlim(lower_bound, upper_bound) # Set the x limit to match the range of the histogram\n",
        "\n",
        "plt.subplots_adjust(hspace=0.4, wspace=0.4)\n",
        "plt.show()\n",
        "\n",
        "# Same plotting but for the test data. Adjust the percentile range as needed to zoom in.\n",
        "# plt.figure(figsize=(16, 16))\n",
        "# plt.suptitle('Histograms of input variables before (or without at all) z-score normalization (test data)', y=1.03)\n",
        "\n",
        "# for i in range(14):\n",
        "#     plt.subplot(7, 2, i+1)\n",
        "#     data = x_test[:, i].cpu().numpy() # Convert tensor to numpy array for percentile calculation\n",
        "#     #lower_bound, upper_bound = np.percentile(data, [1, 100]) # NOTE: Use this instead to visualize all the data.\n",
        "#     lower_bound, upper_bound = np.percentile(data, [1, 99]) # Use this to zoom in.\n",
        "\n",
        "#     plt.hist(data, bins=50, range=(lower_bound, upper_bound)) # Set range to the calculated percentile range\n",
        "#     plt.xlabel(variable_names[i])\n",
        "#     plt.xlim(lower_bound, upper_bound) # Set the x limit to match the range of the histogram\n",
        "\n",
        "# plt.subplots_adjust(hspace=0.4, wspace=0.4)\n",
        "# plt.show()\n",
        "\n"
      ]
    },
    {
      "cell_type": "markdown",
      "metadata": {
        "id": "oQ8r4X8b4cnO"
      },
      "source": [
        "### Data normalization"
      ]
    },
    {
      "cell_type": "code",
      "execution_count": 75,
      "metadata": {
        "id": "QBlz2cHo4cnO",
        "colab": {
          "base_uri": "https://localhost:8080/"
        },
        "outputId": "7711762c-eb71-472a-a039-c4aa63b3f199"
      },
      "outputs": [
        {
          "output_type": "stream",
          "name": "stdout",
          "text": [
            "Summary statistics of input variables before z-score normalization\n",
            "tensor([[ 2.0024e-05,  9.9682e+02,  2.3061e+00,  1.6714e+00,  5.8270e+00],\n",
            "        [-5.1120e+03,  1.3142e+06,  6.3277e+01,  2.1865e+01,  5.1805e+03],\n",
            "        [-1.5425e+04,  8.3010e+05,  5.5830e+01,  2.1914e+01,  3.3563e+03],\n",
            "        [-1.7470e+04,  5.6085e+05,  5.0029e+01,  2.1745e+01,  2.2571e+03],\n",
            "        [-2.3578e+04,  1.5822e+06,  1.2388e+02,  6.9362e+01,  6.2928e+03],\n",
            "        [-1.1311e+01,  1.1307e+01,  1.0330e-02, -2.1675e-02,  5.7146e+00],\n",
            "        [-1.1104e+01,  1.1247e+01, -6.2518e-03, -4.1105e-02,  5.7258e+00],\n",
            "        [-1.1193e+01,  1.1151e+01,  9.4145e-03,  2.7754e-02,  5.7318e+00],\n",
            "        [ 9.0000e-01,  1.1000e+00,  9.9834e-01,  9.9754e-01,  5.7876e-02],\n",
            "        [ 9.5162e-07,  1.0000e-01,  4.9569e-02,  4.9252e-02,  2.8891e-02],\n",
            "        [ 2.1062e-06,  1.0000e-01,  4.9584e-02,  4.9342e-02,  2.8787e-02],\n",
            "        [ 9.0000e-01,  1.1000e+00,  9.9848e-01,  9.9727e-01,  5.7751e-02],\n",
            "        [ 1.5818e-06,  9.9998e-02,  4.9683e-02,  4.9569e-02,  2.8909e-02],\n",
            "        [ 9.0001e-01,  1.1000e+00,  9.9857e-01,  9.9770e-01,  5.7644e-02]],\n",
            "       device='cuda:0')\n"
          ]
        }
      ],
      "source": [
        "# Computing summary statistics of the input variables before and after z-score normalization\n",
        "print('Summary statistics of input variables before z-score normalization')\n",
        "print(torch.stack([torch.min(x_train, dim=0).values, torch.max(x_train, dim=0).values, torch.nanmean(x_train, dim=0), torch.median(x_train, dim=0).values, torch.std(x_train, dim=0)], dim=1))"
      ]
    },
    {
      "cell_type": "markdown",
      "metadata": {
        "id": "xTEmkR1SUZh7"
      },
      "source": [
        "Perform z-score normalization"
      ]
    },
    {
      "cell_type": "code",
      "execution_count": 76,
      "metadata": {
        "id": "skDi8Xbh4cnO"
      },
      "outputs": [],
      "source": [
        "%config InteractiveShell.ast_node_interactivity = \"all\""
      ]
    },
    {
      "cell_type": "code",
      "execution_count": 77,
      "metadata": {
        "id": "yPOv6DxhUZh7"
      },
      "outputs": [],
      "source": [
        "if ZSCORE_NORMALIZATION:\n",
        "    \n",
        "    # TODO: Add magnetic field variables to the normalization if I decide to use the old code that is commented out here.\n",
        "    # # Computing the median of each input variable from the training set using torch.nanmedian function\n",
        "    # D_median = torch.nanmedian(x_train[:, 0])\n",
        "    # Sx_median = torch.nanmedian(x_train[:, 1])\n",
        "    # Sy_median = torch.nanmedian(x_train[:, 2])\n",
        "    # Sz_median = torch.nanmedian(x_train[:, 3])\n",
        "    # tau_median = torch.nanmedian(x_train[:, 4])\n",
        "\n",
        "    # # Computing the standard deviation of each input variable from the training set using torch.std function with a boolean mask to ignore nan values\n",
        "    # D_std = torch.std(x_train[~torch.isnan(x_train[:, 0]), 0])\n",
        "    # Sx_std = torch.std(x_train[~torch.isnan(x_train[:, 1]), 1])\n",
        "    # Sy_std = torch.std(x_train[~torch.isnan(x_train[:, 2]), 2])\n",
        "    # Sz_std = torch.std(x_train[~torch.isnan(x_train[:, 3]), 3])\n",
        "    # tau_std = torch.std(x_train[~torch.isnan(x_train[:, 4]), 4])\n",
        "\n",
        "\n",
        "    # # Applying z-score normalization to both train and test sets using the statistics from the training set\n",
        "    # x_train[:, 0] = torch.sub(x_train[:, 0], D_median).div(D_std)\n",
        "    # x_train[:, 1] = torch.sub(x_train[:, 1], Sx_median).div(Sx_std)\n",
        "    # x_train[:, 2] = torch.sub(x_train[:, 2], Sy_median).div(Sy_std)\n",
        "    # x_train[:, 3] = torch.sub(x_train[:, 3], Sz_median).div(Sz_std)\n",
        "    # x_train[:, 4] = torch.sub(x_train[:, 4], tau_median).div(tau_std)\n",
        "\n",
        "    # x_test[:, 0] = torch.sub(x_test[:, 0], D_median).div(D_std)\n",
        "    # x_test[:, 1] = torch.sub(x_test[:, 1], Sx_median).div(Sx_std)\n",
        "    # x_test[:, 2] = torch.sub(x_test[:, 2], Sy_median).div(Sy_std)\n",
        "    # x_test[:, 3] = torch.sub(x_test[:, 3], Sz_median).div(Sz_std)\n",
        "    # x_test[:, 4] = torch.sub(x_test[:, 4], tau_median).div(tau_std)\n",
        "\n",
        "    # Computing the mean and standard deviation of each column\n",
        "    mean = x_train.mean(dim=0)\n",
        "    std = x_train.std(dim=0)\n",
        "\n",
        "    # Applying z-score normalization\n",
        "    x_train = (x_train - mean) / std\n",
        "    # Use the same mean and std from the training data as we don't want test data leakage.\n",
        "    x_test = (x_test - mean) / std\n",
        "\n"
      ]
    },
    {
      "cell_type": "markdown",
      "metadata": {
        "id": "5xqeJJH34cnc"
      },
      "source": [
        "Plotting the histograms of the input data after normalization if z-score normalization was performed."
      ]
    },
    {
      "cell_type": "code",
      "execution_count": 78,
      "metadata": {
        "id": "IknQpxd94cnc"
      },
      "outputs": [],
      "source": [
        "%config InteractiveShell.ast_node_interactivity = \"last_expr_or_assign\""
      ]
    },
    {
      "cell_type": "code",
      "execution_count": 79,
      "metadata": {
        "id": "u30TMn0q4cnc"
      },
      "outputs": [],
      "source": [
        "if not LOAD_DATA_FROM_CSV:\n",
        "    if ZSCORE_NORMALIZATION:\n",
        "        # Variable names\n",
        "        variable_names = [\"D\", \"Sx\", \"Sy\", \"Sz\", \"tau\", \"Bconsx\", \"Bconsy\", \"Bconsz\", \"gxx\", \"gxy\", \"gxz\", \"gyy\", \"gyz\", \"gzz\"]\n",
        "\n",
        "        # Plotting histograms of the input variables before z-score normalization\n",
        "        plt.figure(figsize=(16, 16))\n",
        "        plt.suptitle('Histograms of input variables before (or without at all) z-score normalization', y=1.03)\n",
        "\n",
        "        for i in range(N_INPUTS):\n",
        "            plt.subplot(7, 2, i+1)\n",
        "            data = x_train[:, i].cpu().numpy() # Convert tensor to numpy array for percentile calculation\n",
        "            lower_bound, upper_bound = np.percentile(data, [1, 100]) # NOTE: Use this instead to visualize all the data.\n",
        "            # lower_bound, upper_bound = np.percentile(data, [1, 90]) # Calculate 1st and 99th percentile\n",
        "\n",
        "            plt.hist(data, bins=50, range=(lower_bound, upper_bound)) # Set range to the calculated percentile range\n",
        "            plt.xlabel(variable_names[i])\n",
        "            plt.xlim(lower_bound, upper_bound) # Set the x limit to match the range of the histogram\n",
        "\n",
        "        plt.subplots_adjust(hspace=0.4, wspace=0.4)\n",
        "        plt.show()"
      ]
    },
    {
      "cell_type": "code",
      "execution_count": 80,
      "metadata": {
        "id": "U_SBKnoX4cnd"
      },
      "outputs": [],
      "source": [
        "if ZSCORE_NORMALIZATION:\n",
        "    # Computing summary statistics of the input variables after z-score normalization\n",
        "    print('Summary statistics of input variables after z-score normalization')\n",
        "    print(torch.stack([torch.min(x_train, dim=0).values, torch.max(x_train, dim=0).values, torch.mean(x_train, dim=0), torch.median(x_train, dim=0).values, torch.std(x_train, dim=0)], dim=1))\n"
      ]
    },
    {
      "cell_type": "markdown",
      "metadata": {
        "id": "34JFkBNc4cnd"
      },
      "source": [
        "### Visualizing input data and labels"
      ]
    },
    {
      "cell_type": "code",
      "execution_count": 81,
      "metadata": {
        "id": "8TkfblGD4cnd",
        "colab": {
          "base_uri": "https://localhost:8080/"
        },
        "outputId": "fad7b17b-659e-4a1d-cbc6-287b533a1823"
      },
      "outputs": [
        {
          "output_type": "execute_result",
          "data": {
            "text/plain": [
              "tensor([ 8.9882,  4.2383, 10.0341,  ...,  3.0453,  0.9038, -2.2624],\n",
              "       device='cuda:0')"
            ]
          },
          "metadata": {},
          "execution_count": 81
        }
      ],
      "source": [
        "x_train\n",
        "y_train\n",
        "x_val\n",
        "y_val\n",
        "x_test\n",
        "y_test"
      ]
    },
    {
      "cell_type": "markdown",
      "metadata": {
        "id": "E96p_MsOUZh9",
        "outputId": "4b95bad0-8f3a-4364-eed1-008e0ce2a5e3"
      },
      "source": [
        "Checking if our output is always positive ~~by plotting a histogram of y_train and y_test tensors~~"
      ]
    },
    {
      "cell_type": "code",
      "execution_count": 82,
      "metadata": {
        "id": "oRXf8ib_4cne",
        "colab": {
          "base_uri": "https://localhost:8080/"
        },
        "outputId": "c8793798-82b6-4929-e3f0-2aa0068ba23c"
      },
      "outputs": [
        {
          "output_type": "stream",
          "name": "stdout",
          "text": [
            "tensor(True)\n"
          ]
        }
      ],
      "source": [
        "import torch\n",
        "\n",
        "# Create a sample tensor\n",
        "tensor = torch.randn(80000, 14)  # Assuming a tensor of shape [80000, 14]\n",
        "tensor\n",
        "\n",
        "\n",
        "# Check if any element is negative\n",
        "any_negative = torch.any(tensor < 0)\n",
        "\n",
        "# Print the result\n",
        "print(any_negative)\n"
      ]
    },
    {
      "cell_type": "code",
      "execution_count": 83,
      "metadata": {
        "id": "1pWymsnT4cne",
        "colab": {
          "base_uri": "https://localhost:8080/"
        },
        "outputId": "b704fb40-77bf-493a-bac5-00ac190dadbd"
      },
      "outputs": [
        {
          "output_type": "execute_result",
          "data": {
            "text/plain": [
              "tensor(True, device='cuda:0')"
            ]
          },
          "metadata": {},
          "execution_count": 83
        }
      ],
      "source": [
        "y_train.shape\n",
        "any_negative = torch.any(y_train < 0)\n",
        "any_negative\n",
        "\n",
        "y_test.shape\n",
        "any_negative = torch.any(y_test < 0)\n",
        "any_negative\n",
        "\n",
        "x_train.shape\n",
        "any_negative = torch.any(x_train < 0)\n",
        "any_negative"
      ]
    },
    {
      "cell_type": "code",
      "execution_count": 84,
      "metadata": {
        "id": "I8j5uTN94cne",
        "colab": {
          "base_uri": "https://localhost:8080/",
          "height": 407
        },
        "outputId": "c7514efd-b387-4e0a-f4b9-ce7de2889cb2"
      },
      "outputs": [
        {
          "output_type": "display_data",
          "data": {
            "text/plain": [
              "<Figure size 800x400 with 3 Axes>"
            ],
            "image/png": "[encoded data removed]"
          },
          "metadata": {}
        }
      ],
      "source": [
        "#%%script echo skipping\n",
        "\n",
        "plt.figure(figsize=(8, 4))\n",
        "plt.subplot(1, 3, 1)\n",
        "plt.hist(y_train.cpu().numpy(), bins=100) # must be cpu here.\n",
        "plt.xlabel(\"y_train\")\n",
        "plt.ylabel(\"Frequency\")\n",
        "plt.xscale(\"log\")\n",
        "plt.subplot(1, 3, 2)\n",
        "plt.hist(y_val.cpu().numpy(), bins=100) # must be cpu here\n",
        "plt.xlabel(\"y_val\")\n",
        "plt.ylabel(\"Frequency\")\n",
        "plt.xscale(\"log\")\n",
        "plt.tight_layout()\n",
        "plt.subplot(1, 3, 3)\n",
        "plt.hist(y_test.cpu().numpy(), bins=100) # must be cpu here\n",
        "plt.xlabel(\"y_test\")\n",
        "plt.ylabel(\"Frequency\")\n",
        "plt.xscale(\"log\")\n",
        "plt.tight_layout()\n",
        "plt.show()\n"
      ]
    },
    {
      "cell_type": "code",
      "execution_count": 85,
      "metadata": {
        "id": "FEgjk--AUZh9"
      },
      "outputs": [],
      "source": [
        "%config InteractiveShell.ast_node_interactivity = \"all\""
      ]
    },
    {
      "cell_type": "markdown",
      "metadata": {
        "id": "r2b9GecHUZh9"
      },
      "source": [
        "## Defining the neural network"
      ]
    },
    {
      "cell_type": "code",
      "execution_count": 86,
      "metadata": {
        "id": "Iv8HA-ZXUZh-"
      },
      "outputs": [],
      "source": [
        "# Defining a class for the network\n",
        "class Net(nn.Module):\n",
        "    \"\"\"A class for creating a network with a\n",
        "    variable number of hidden layers and units.\n",
        "\n",
        "    Attributes:\n",
        "        n_layers (int): The number of hidden layers in the network.\n",
        "        n_units (list): A list of integers representing the number of units in each hidden layer.\n",
        "        hidden_activation (torch.nn.Module): The activation function for the hidden layers.\n",
        "        output_activation (torch.nn.Module): The activation function for the output layer.\n",
        "        layers (torch.nn.ModuleList): A list of linear layers in the network.\n",
        "    \"\"\"\n",
        "\n",
        "    def __init__(self, n_layers, n_units, hidden_activation, output_activation, dropout_rate):\n",
        "        \"\"\"Initializes the network with the given hyperparameters.\n",
        "\n",
        "        Args:\n",
        "            n_layers (int): The number of hidden layers in the network.\n",
        "            n_units (list): A list of integers representing the number of units in each hidden layer.\n",
        "            hidden_activation (torch.nn.Module): The activation function for the hidden layers.\n",
        "            output_activation (torch.nn.Module): The activation function for the output layer.\n",
        "            TODO: [ver. Copilot description] dropout_rate (float): The dropout rate to use for all layers.\n",
        "        \"\"\"\n",
        "        super().__init__()\n",
        "        self.n_layers = n_layers\n",
        "        self.n_units = n_units\n",
        "        self.hidden_activation = hidden_activation\n",
        "        self.output_activation = output_activation\n",
        "        self.dropout_rate = dropout_rate\n",
        "\n",
        "        # Creating a list of linear layers with different numbers of units for each layer\n",
        "        self.layers = nn.ModuleList()\n",
        "        self.dropouts = nn.ModuleList()\n",
        "\n",
        "        self.layers.append(nn.Linear(N_INPUTS, n_units[0]))\n",
        "        self.dropouts.append(nn.Dropout(p=dropout_rate))\n",
        "\n",
        "        for i in range(1, n_layers):\n",
        "            self.layers.append(nn.Linear(n_units[i - 1], n_units[i]))\n",
        "            self.dropouts.append(nn.Dropout(p=dropout_rate))\n",
        "\n",
        "        self.layers.append(nn.Linear(n_units[-1], N_OUTPUTS))\n",
        "\n",
        "        # Adding some assertions to check that the input arguments are valid\n",
        "        assert isinstance(n_layers, int) and n_layers > 0, \"n_layers must be a positive integer\"\n",
        "        assert isinstance(n_units, list) and len(n_units) == n_layers, \"n_units must be a list of length n_layers\"\n",
        "        assert all(isinstance(n, int) and n > 0 for n in n_units), \"n_units must contain positive integers\"\n",
        "        assert isinstance(hidden_activation, nn.Module), \"hidden_activation must be a torch.nn.Module\"\n",
        "        assert isinstance(output_activation, nn.Module), \"output_activation must be a torch.nn.Module\"\n",
        "\n",
        "    def forward(self, x):\n",
        "        \"\"\"Performs a forward pass on the input tensor.\n",
        "\n",
        "        Args:\n",
        "            x (torch.Tensor): The input tensor of shape (batch_size, N_INPUTS).\n",
        "\n",
        "        Returns:\n",
        "            torch.Tensor: The output tensor of shape (batch_size, N_OUTPUTS).\n",
        "        \"\"\"\n",
        "        # Adding an assertion to check that the input tensor has the expected shape and type\n",
        "        assert isinstance(x, torch.Tensor), \"x must be a torch.Tensor\"\n",
        "        assert x.shape[1] == N_INPUTS, f\"x must have shape (batch_size, {N_INPUTS})\"\n",
        "\n",
        "        for layer, dropout in zip(self.layers[:-1], self.dropouts):\n",
        "            x = dropout(self.hidden_activation(layer(x)))\n",
        "        # Applying the linear transformation and the activation function on the output layer\n",
        "        x = self.output_activation(self.layers[-1](x)) # No dropout at output layer\n",
        "\n",
        "        return x # Returning the output tensor\n"
      ]
    },
    {
      "cell_type": "code",
      "execution_count": 87,
      "metadata": {
        "id": "4zShBNVG4cnf",
        "colab": {
          "base_uri": "https://localhost:8080/"
        },
        "outputId": "e485e02a-7171-4e74-cda9-3f670076c4dc"
      },
      "outputs": [
        {
          "output_type": "stream",
          "name": "stdout",
          "text": [
            "skipping\n"
          ]
        }
      ],
      "source": [
        "%%script echo skipping\n",
        "\n",
        "[1,2,3]\n",
        "[1,2,3][:-1]"
      ]
    },
    {
      "cell_type": "code",
      "execution_count": 88,
      "metadata": {
        "id": "3c3WaPyv4cng",
        "colab": {
          "base_uri": "https://localhost:8080/"
        },
        "outputId": "e6c16187-94d4-46ee-cf70-1e0bf5d3894f"
      },
      "outputs": [
        {
          "output_type": "stream",
          "name": "stdout",
          "text": [
            "1\n",
            "2\n"
          ]
        }
      ],
      "source": [
        "for x in [1,2,3][:-1]:\n",
        "    print(x)\n",
        "\n"
      ]
    },
    {
      "cell_type": "markdown",
      "metadata": {
        "id": "6GNvp55PUZh_"
      },
      "source": [
        "## Defining the model and search space"
      ]
    },
    {
      "cell_type": "code",
      "execution_count": 89,
      "metadata": {
        "id": "9a1opluOUZh_"
      },
      "outputs": [],
      "source": [
        "# Defining a function to create a trial network and optimizer\n",
        "def create_model(trial, optimize):\n",
        "    \"\"\"Creates a trial network and optimizer based on the sampled hyperparameters.\n",
        "\n",
        "    Args:\n",
        "        trial (optuna.trial.Trial): The trial object that contains the hyperparameters.\n",
        "        optimize (boolean): Whether to optimize the hyperparameters or to use predefined values.\n",
        "\n",
        "    Returns:\n",
        "        tuple: A tuple of (net, loss_fn, optimizer, batch_size, n_epochs,\n",
        "            scheduler, loss_name, optimizer_name, scheduler_name,\n",
        "            n_units, n_layers, hidden_activation, output_activation),\n",
        "            where net is the trial network,\n",
        "            loss_fn is the loss function,\n",
        "            optimizer is the optimizer,\n",
        "            batch_size is the batch size,\n",
        "            n_epochs is the number of epochs,\n",
        "            scheduler is the learning rate scheduler,\n",
        "            loss_name is the name of the loss function,\n",
        "            optimizer_name is the name of the optimizer,\n",
        "            scheduler_name is the name of the scheduler,\n",
        "            n_units is a list of integers representing\n",
        "            the number of units in each hidden layer,\n",
        "            n_layers is an integer representing the number of hidden layers in the network,\n",
        "            hidden_activation is a torch.nn.Module representing the activation function for the hidden layers,\n",
        "            output_activation is a torch.nn.Module representing the activation function for the output layer,\n",
        "            lr is the (initial) learning rate.\n",
        "            dropout_rate is the dropout rate.\n",
        "    \"\"\"\n",
        "    # If optimize is True, sample the hyperparameters from the search space\n",
        "    if OPTIMIZE:\n",
        "        n_layers = trial.suggest_int(\"n_layers\", 5, 10)\n",
        "        n_units = [trial.suggest_int(f\"n_units_{i}\", 16, 4096) for i in range(n_layers)]\n",
        "\n",
        "        hidden_activation_name = trial.suggest_categorical(\n",
        "            \"hidden_activation\", [\"ReLU\", \"LeakyReLU\", \"ELU\", \"PReLU\", \"Swish\", \"GELU\", \"SoftPlus\"]\n",
        "        )\n",
        "        output_activation_name = trial.suggest_categorical( \"output_activation\", [\"Linear\"])\n",
        "\n",
        "        loss_name = trial.suggest_categorical( \"loss\", [\"MSE\", \"MAE\", \"Huber\", \"Quantile\"]) \n",
        "\n",
        "        optimizer_name = trial.suggest_categorical( \"optimizer\", [\"Adam\", \"SGD\", \"RMSprop\", \"Adagrad\"] )\n",
        "\n",
        "        lr = trial.suggest_loguniform(\"lr\", 1e-5, 1e-1)\n",
        "\n",
        "        batch_size_list = [32, 64, 128, 256, 512, 1024, 2048]\n",
        "        batch_size = trial.suggest_categorical(\"batch_size\", batch_size_list)\n",
        "        \n",
        "        n_epochs = trial.suggest_int(\"n_epochs\", 50, 150)\n",
        "\n",
        "        # scheduler_name = trial.suggest_categorical(\"scheduler\", [\"CosineAnnealingLR\", \"ReduceLROnPlateau\", \"StepLR\", \"CyclicLR\"])\n",
        "        scheduler_name = trial.suggest_categorical(\"scheduler\", [\"CosineAnnealingLR\", \"ReduceLROnPlateau\", \"StepLR\"])\n",
        "\n",
        "        # Creating the activation functions from their names\n",
        "        if hidden_activation_name == \"ReLU\":\n",
        "            hidden_activation = nn.ReLU()\n",
        "        elif hidden_activation_name == \"LeakyReLU\":\n",
        "            negative_slope = trial.suggest_uniform(\"leakyrelu_slope\", 0.01, 0.3)\n",
        "            hidden_activation = nn.LeakyReLU(negative_slope=negative_slope)\n",
        "        elif hidden_activation_name == \"ELU\":\n",
        "            hidden_activation = nn.ELU() \n",
        "        elif hidden_activation_name == \"PReLU\":\n",
        "            init = trial.suggest_uniform(\"prelu_init\", 0.1, 0.3)\n",
        "            hidden_activation = nn.PReLU(init=init)\n",
        "        elif hidden_activation_name == \"Swish\":\n",
        "            class Swish(nn.Module):\n",
        "                def forward(self, x):\n",
        "                    return x * torch.sigmoid(x)\n",
        "            hidden_activation = Swish()\n",
        "        elif hidden_activation_name == \"GELU\":\n",
        "            hidden_activation = nn.GELU()\n",
        "        elif hidden_activation_name == \"SoftPlus\":\n",
        "            beta = trial.suggest_uniform(\"softplus_beta\", 0.5, 1.5)\n",
        "            hidden_activation = nn.Softplus(beta=beta) # We don't optimize thresshold subparameters, as it's mainly for numerical stability.\n",
        "\n",
        "        dropout_rate = trial.suggest_uniform(\"dropout_rate\", 0.0, 0.5)\n",
        "\n",
        "\n",
        "    # If optimize is False, use the predefined values\n",
        "    else:\n",
        "        # Setting the hyperparameters to the predefined values\n",
        "        n_layers = N_LAYERS_NO_OPT\n",
        "        n_units = N_UNITS_NO_OPT\n",
        "        hidden_activation_name = HIDDEN_ACTIVATION_NAME_NO_OPT\n",
        "        output_activation_name = OUTPUT_ACTIVATION_NAME_NO_OPT\n",
        "        loss_name = LOSS_NAME_NO_OPT\n",
        "        optimizer_name = OPTIMIZER_NAME_NO_OPT\n",
        "        lr = LR_NO_OPT\n",
        "        batch_size = BATCH_SIZE_NO_OPT\n",
        "        n_epochs = N_EPOCHS_NO_OPT\n",
        "        scheduler_name = SCHEDULER_NAME_NO_OPT\n",
        "\n",
        "        # Creating the activation functions from their names\n",
        "        if hidden_activation_name == \"ReLU\":\n",
        "            hidden_activation = nn.ReLU()\n",
        "        elif hidden_activation_name == \"LeakyReLU\":\n",
        "            negative_slope = 0.01\n",
        "            hidden_activation = nn.LeakyReLU(negative_slope=negative_slope)\n",
        "        elif hidden_activation_name == \"ELU\":\n",
        "            hidden_activation = nn.ELU() \n",
        "        elif hidden_activation_name == \"PReLU\":\n",
        "            init = 0.25\n",
        "            hidden_activation = nn.PReLU(init=init)\n",
        "        elif hidden_activation_name == \"Swish\":\n",
        "            class Swish(nn.Module):\n",
        "                def forward(self, x):\n",
        "                    return x * torch.sigmoid(x)\n",
        "            hidden_activation = Swish()\n",
        "        elif hidden_activation_name == \"GELU\":\n",
        "            hidden_activation = nn.GELU()\n",
        "        elif hidden_activation_name == \"SoftPlus\":\n",
        "            beta = 1\n",
        "            hidden_activation = nn.Softplus(beta=beta) # We don't optimize threshold subparameter, as it's mainly for numerical stability.\n",
        "\n",
        "        dropout_rate = DROPOUT_RATE_NO_OPT\n",
        "\n",
        "\n",
        "    # We used to have options here, but since we have a regression problem with continuous output, we only use Linear.\n",
        "    output_activation = nn.Identity()\n",
        "\n",
        "    # Creating the loss function from its name\n",
        "    if loss_name == \"MSE\":\n",
        "        loss_fn = nn.MSELoss()\n",
        "    elif loss_name == \"MAE\":\n",
        "        loss_fn = nn.L1Loss()\n",
        "    elif loss_name == \"Huber\":\n",
        "        loss_fn = nn.SmoothL1Loss() \n",
        "    elif loss_name == \"Quantile\":\n",
        "        def quantile_loss(y_pred, y_true, q=0.5):\n",
        "            e = y_pred - y_true\n",
        "            return torch.mean(torch.max(q*e, (q-1)*e))\n",
        "        loss_fn = quantile_loss\n",
        "    else:\n",
        "        def log_cosh_loss(y_pred, y_true):\n",
        "            return torch.mean(torch.log(torch.cosh(y_pred - y_true)))\n",
        "        loss_fn = log_cosh_loss\n",
        "\n",
        "    # Creating the network with the sampled hyperparameters\n",
        "    net = Net(n_layers, n_units, hidden_activation, output_activation, dropout_rate).to(device)\n",
        "\n",
        "\n",
        "    if OPTIMIZE:\n",
        "        # Creating the optimizer from its name\n",
        "        if optimizer_name == \"SGD\":\n",
        "            weight_decay = trial.suggest_loguniform(\"weight_decay\", 1e-5, 1e-2)\n",
        "            momentum = trial.suggest_uniform(\"momentum\", 0.0, 0.99)\n",
        "            optimizer = optim.SGD(net.parameters(), lr=lr, weight_decay=weight_decay, momentum=momentum)\n",
        "        elif optimizer_name == \"Adam\":\n",
        "            weight_decay = trial.suggest_loguniform(\"weight_decay\", 1e-5, 1e-2)\n",
        "            beta1 = trial.suggest_uniform(\"beta1\", 0.9, 0.999)\n",
        "            beta2 = trial.suggest_uniform(\"beta2\", 0.999, 0.9999)\n",
        "            optimizer = optim.Adam(net.parameters(), lr=lr, weight_decay=weight_decay, betas=(beta1, beta2))\n",
        "        elif optimizer_name == \"RMSprop\":\n",
        "            optimizer = optim.RMSprop(net.parameters(), lr=lr)\n",
        "        else:\n",
        "            optimizer = optim.Adagrad(net.parameters(), lr=lr)\n",
        "\n",
        "        # Creating the learning rate scheduler from its name\n",
        "        if scheduler_name == \"StepLR\":\n",
        "            step_size = trial.suggest_int(\"step_size\", 5, 15)\n",
        "            gamma = trial.suggest_uniform(\"gamma\", 0.1, 0.5)\n",
        "            scheduler = optim.lr_scheduler.StepLR(optimizer, step_size=step_size, gamma=gamma)\n",
        "        elif scheduler_name == \"ExponentialLR\":\n",
        "            gamma = trial.suggest_uniform(\"gamma\", 0.8, 0.99)\n",
        "            scheduler = optim.lr_scheduler.ExponentialLR(optimizer, gamma=gamma)\n",
        "        elif scheduler_name == \"CosineAnnealingLR\":\n",
        "            if n_epochs < 150:\n",
        "                t_max_fraction = trial.suggest_uniform('t_max_fraction', 0.1, 0.3)\n",
        "            elif n_epochs > 250:\n",
        "                t_max_fraction = trial.suggest_uniform('t_max_fraction', 0.05, 0.1)\n",
        "            else:\n",
        "                t_max_fraction = trial.suggest_uniform('t_max_fraction', 0.1, 0.2)\n",
        "\n",
        "            T_max = int(n_epochs * t_max_fraction)\n",
        "            eta_min = trial.suggest_loguniform(\"eta_min\", 1e-7, 1e-2)\n",
        "            scheduler = optim.lr_scheduler.CosineAnnealingLR(optimizer, T_max=T_max, eta_min=eta_min)\n",
        "        elif scheduler_name == \"ReduceLROnPlateau\":\n",
        "            factor = trial.suggest_uniform(\"factor\", 0.1, 0.5)\n",
        "            patience = trial.suggest_int(\"patience\", 5, 10)\n",
        "            threshold = trial.suggest_loguniform(\"threshold\", 1e-4, 1e-2)\n",
        "            scheduler = optim.lr_scheduler.ReduceLROnPlateau(\n",
        "                optimizer, mode=\"min\", factor=factor, patience=patience, threshold=threshold\n",
        "            )\n",
        "        elif scheduler_name == \"CyclicLR\":\n",
        "            base_lr = trial.suggest_loguniform(\"base_lr\", 1e-6, 1e-2)\n",
        "            max_lr = trial.suggest_loguniform(\"max_lr\", 1e-4, 1)\n",
        "            step_size_up = trial.suggest_int(\"step_size_up\", 200, 2000)\n",
        "            scheduler = optim.lr_scheduler.CyclicLR(optimizer, base_lr=base_lr, max_lr=max_lr, step_size_up=step_size_up)\n",
        "        else:\n",
        "            scheduler = None\n",
        "    else:\n",
        "        # Creating the optimizer from its name\n",
        "        if optimizer_name == \"SGD\":\n",
        "            optimizer = optim.SGD(net.parameters(), lr=lr)\n",
        "        elif optimizer_name == \"Adam\":\n",
        "            optimizer = optim.Adam(net.parameters(), lr=lr)\n",
        "        elif optimizer_name == \"RMSprop\":\n",
        "            optimizer = optim.RMSprop(net.parameters(), lr=lr)\n",
        "        else:\n",
        "            optimizer = optim.Adagrad(net.parameters(), lr=lr)\n",
        "\n",
        "        # Creating the learning rate scheduler from its name\n",
        "        if scheduler_name == \"StepLR\":\n",
        "            scheduler = optim.lr_scheduler.StepLR(optimizer, step_size=10, gamma=0.1)\n",
        "        elif scheduler_name == \"ExponentialLR\":\n",
        "            scheduler = optim.lr_scheduler.ExponentialLR(optimizer, gamma=0.9)\n",
        "        elif scheduler_name == \"CosineAnnealingLR\":\n",
        "            scheduler = optim.lr_scheduler.CosineAnnealingLR(optimizer)\n",
        "        elif scheduler_name == \"ReduceLROnPlateau\":\n",
        "            scheduler = optim.lr_scheduler.ReduceLROnPlateau(\n",
        "                        optimizer, mode=\"min\", factor=0.18979341786654758, patience=11, threshold=0.0017197466122611932 #, min_lr=1e-6\n",
        "                    )\n",
        "        elif scheduler_name == \"CyclicLR\":\n",
        "            # TODO: Change these appropriately.\n",
        "            base_lr = 1e-6\n",
        "            max_lr = 1e-4\n",
        "            step_size_up = 200\n",
        "            scheduler = optim.lr_scheduler.CyclicLR(optimizer, base_lr=base_lr, max_lr=max_lr, step_size_up=step_size_up)\n",
        "        else:\n",
        "            scheduler = None\n",
        "\n",
        "    # Returning all variables needed for saving and loading\n",
        "    return net, loss_fn, optimizer, batch_size, n_epochs, scheduler, loss_name, optimizer_name, scheduler_name, n_units, n_layers, hidden_activation, output_activation, lr, dropout_rate\n",
        "\n",
        "\n"
      ]
    },
    {
      "cell_type": "markdown",
      "metadata": {
        "id": "l-czA7VvUZiD"
      },
      "source": [
        " ## The training and evaluation loop\n",
        "\n",
        " We first define a couple of functions used in the training and evaluation."
      ]
    },
    {
      "cell_type": "code",
      "execution_count": 90,
      "metadata": {
        "id": "aD6FQNmxUZiD"
      },
      "outputs": [],
      "source": [
        "# Defining a function that computes loss and metrics for a given batch\n",
        "def compute_loss_and_metrics(y_pred, y_true, loss_fn):\n",
        "    \"\"\"Computes loss and metrics for a given batch.\n",
        "\n",
        "    Args:\n",
        "        y_pred (torch.Tensor): The predicted pressure tensor of shape (batch_size, 1).\n",
        "        y_true (torch.Tensor): The true pressure tensor of shape (batch_size,).\n",
        "        loss_fn (torch.nn.Module or function): The loss function to use.\n",
        "\n",
        "    Returns:\n",
        "        tuple: A tuple of (loss, l1_norm), where loss is a scalar tensor,\n",
        "            l1_norm is L1 norm for relative error of pressure,\n",
        "            each being a scalar tensor.\n",
        "            linf_norm is Linf norm for relative error of pressure.\n",
        "    \"\"\"\n",
        "    # Reshaping the target tensor to match the input tensor\n",
        "    y_true = y_true.view(-1, 1)\n",
        "\n",
        "    # Computing the loss using the loss function\n",
        "    loss = loss_fn(y_pred, y_true)\n",
        "\n",
        "    # Computing the relative error of pressure\n",
        "    rel_error = torch.abs((y_pred - y_true) / y_true)\n",
        "\n",
        "    # Computing the L1 norm for the relative error of pressure\n",
        "    l1_norm = torch.mean(rel_error) \n",
        "    # Computing the Linf norm for the relative error of pressure\n",
        "    linf_norm = torch.max(rel_error) \n",
        "\n",
        "    # Returning the loss and metrics\n",
        "    return loss, l1_norm, linf_norm\n",
        "\n",
        "\n",
        "# Defining a function that updates the learning rate scheduler with validation loss if applicable\n",
        "def update_scheduler(scheduler, test_loss):\n",
        "    \"\"\"Updates the learning rate scheduler with validation loss if applicable.\n",
        "\n",
        "    Args:\n",
        "        scheduler (torch.optim.lr_scheduler._LRScheduler or None): The learning rate scheduler to use.\n",
        "        test_loss (float): The validation loss to use.\n",
        "\n",
        "    Returns:\n",
        "        None\n",
        "    \"\"\"\n",
        "    # Checking if scheduler is not None\n",
        "    if scheduler is not None:\n",
        "        # Checking if scheduler is ReduceLROnPlateau\n",
        "        if isinstance(scheduler, optim.lr_scheduler.ReduceLROnPlateau):\n",
        "            # Updating the scheduler with test_loss\n",
        "            scheduler.step(test_loss)\n",
        "        else:\n",
        "            # Updating the scheduler without test_loss\n",
        "            scheduler.step()\n"
      ]
    },
    {
      "cell_type": "markdown",
      "metadata": {
        "id": "w1nE662UUZiE"
      },
      "source": [
        "Now for the actual training and evaluation loop,"
      ]
    },
    {
      "cell_type": "code",
      "execution_count": 91,
      "metadata": {
        "id": "YAOjgKW3UZiF"
      },
      "outputs": [],
      "source": [
        "# Defining a function to train and evaluate a network\n",
        "def train_and_eval(net, loss_fn, optimizer, batch_size, n_epochs, scheduler, train_loader, val_loader, test_loader, trial=None):\n",
        "    # Initializing lists to store the losses and metrics for each epoch\n",
        "    train_losses = []\n",
        "    val_losses = []\n",
        "    test_losses = []\n",
        "    train_metrics = []\n",
        "    val_metrics = []\n",
        "    test_metrics = []\n",
        "\n",
        "\n",
        "    # Creating a SummaryWriter object to log data for tensorboard\n",
        "    writer = tbx.SummaryWriter()\n",
        "\n",
        "    # Looping over the epochs\n",
        "    for epoch in range(n_epochs):\n",
        "\n",
        "        # Setting the network to training mode\n",
        "        net.train()\n",
        "\n",
        "        # Initializing variables to store the total loss and metrics for the train set\n",
        "        train_loss = 0.0\n",
        "        train_l1_norm = 0.0\n",
        "        train_linf_norm = 0.0\n",
        "\n",
        "        # Looping over the batches in the train set\n",
        "        for x_batch, y_batch in train_loader:\n",
        "\n",
        "            # Moving the batch tensors to the device\n",
        "            x_batch = x_batch.to(device)\n",
        "            y_batch = y_batch.to(device)\n",
        "\n",
        "            # Zeroing the gradients\n",
        "            optimizer.zero_grad()\n",
        "\n",
        "            # Performing a forward pass and computing the loss and metrics\n",
        "            y_pred = net(x_batch)\n",
        "            loss, l1_norm, linf_norm = compute_loss_and_metrics(y_pred, y_batch, loss_fn)\n",
        "\n",
        "\n",
        "            # Performing a backward pass and updating the weights\n",
        "            loss.backward()\n",
        "            optimizer.step()\n",
        "\n",
        "            # Updating the total loss and metrics for the train set\n",
        "            train_loss += loss.item() * x_batch.size(0)\n",
        "            train_l1_norm += l1_norm.item() * x_batch.size(0)\n",
        "            train_linf_norm += linf_norm.item() * x_batch.size(0)\n",
        "\n",
        "        # Computing the average loss and metrics for the train set\n",
        "        train_loss /= len(train_loader.dataset)\n",
        "        train_l1_norm /= len(train_loader.dataset)\n",
        "        train_linf_norm /= len(train_loader.dataset)\n",
        "\n",
        "        # Appending the average loss and metrics for the train set to the lists\n",
        "        train_losses.append(train_loss)\n",
        "        train_metrics.append(\n",
        "            {\n",
        "                \"l1_norm\": train_l1_norm,\n",
        "                \"linf_norm\": train_linf_norm,\n",
        "            }\n",
        "        )\n",
        "\n",
        "        # Logging the average loss and metrics for the train set to tensorboard\n",
        "        writer.add_scalar(\"Loss/train\", train_loss, epoch)\n",
        "        writer.add_scalar(\"L1 norm/train\", train_l1_norm, epoch)\n",
        "        writer.add_scalar(\"Linf norm/train\", train_linf_norm, epoch)\n",
        "\n",
        "        if val_loader is not None:\n",
        "            net.eval()\n",
        "            val_loss = 0.0\n",
        "            val_l1_norm = 0.0\n",
        "            val_linf_norm = 0.0\n",
        "\n",
        "            with torch.no_grad():\n",
        "                for x_batch, y_batch in val_loader:\n",
        "                    x_batch = x_batch.to(device)\n",
        "                    y_batch = y_batch.to(device)\n",
        "                    y_pred = net(x_batch)\n",
        "                    loss, l1_norm, linf_norm = compute_loss_and_metrics(y_pred, y_batch, loss_fn)\n",
        "\n",
        "                    val_loss += loss.item() * x_batch.size(0)\n",
        "                    val_l1_norm += l1_norm.item() * x_batch.size(0)\n",
        "                    val_linf_norm += linf_norm.item() * x_batch.size(0)\n",
        "\n",
        "            val_loss /= len(val_loader.dataset)\n",
        "            val_l1_norm /= len(val_loader.dataset)\n",
        "            val_linf_norm /= len(val_loader.dataset)\n",
        "\n",
        "            val_losses.append(val_loss)\n",
        "            val_metrics.append(\n",
        "                {\n",
        "                    \"l1_norm\": val_l1_norm,\n",
        "                    \"linf_norm\": val_linf_norm,\n",
        "                }\n",
        "            )\n",
        "\n",
        "            writer.add_scalar(\"Loss/val\", val_loss, epoch)\n",
        "            writer.add_scalar(\"L1 norm/val\", val_l1_norm, epoch)\n",
        "            writer.add_scalar(\"Linf norm/val\", val_linf_norm, epoch)\n",
        "            print(f\"Epoch {epoch+1}/{n_epochs}.. Train loss: {train_loss:.3f}.. Val loss: {val_loss:.3f}.. Train L1 norm: {train_l1_norm:.3f}.. Val L1 norm: {val_l1_norm:.3f}.. Train Linf norm: {train_linf_norm:.3f}.. Val Linf norm: {val_linf_norm:.3f}\")\n",
        "\n",
        "\n",
        "            update_scheduler(scheduler, val_loss)\n",
        "\n",
        "        if test_loader is not None:\n",
        "            net.eval()\n",
        "            test_loss = 0.0\n",
        "            test_l1_norm = 0.0\n",
        "            test_linf_norm = 0.0\n",
        "\n",
        "            with torch.no_grad():\n",
        "                for x_batch, y_batch in test_loader:\n",
        "                    x_batch = x_batch.to(device)\n",
        "                    y_batch = y_batch.to(device)\n",
        "                    y_pred = net(x_batch)\n",
        "                    loss, l1_norm, linf_norm = compute_loss_and_metrics(y_pred, y_batch, loss_fn)\n",
        "\n",
        "                    test_loss += loss.item() * x_batch.size(0)\n",
        "                    test_l1_norm += l1_norm.item() * x_batch.size(0)\n",
        "                    test_linf_norm += linf_norm.item() * x_batch.size(0)\n",
        "\n",
        "            test_loss /= len(test_loader.dataset)\n",
        "            test_l1_norm /= len(test_loader.dataset)\n",
        "            test_linf_norm /= len(test_loader.dataset)\n",
        "\n",
        "            test_losses.append(test_loss)\n",
        "            test_metrics.append(\n",
        "                {\n",
        "                    \"l1_norm\": test_l1_norm,\n",
        "                    \"linf_norm\": test_linf_norm,\n",
        "                }\n",
        "            )\n",
        "\n",
        "            writer.add_scalar(\"Loss/test\", test_loss, epoch)\n",
        "            writer.add_scalar(\"L1 norm/test\", test_l1_norm, epoch)\n",
        "            writer.add_scalar(\"Linf norm/test\", test_linf_norm, epoch)\n",
        "            print(f\"Epoch {epoch+1}/{n_epochs}.. Train loss: {train_loss:.3f}.. Test loss: {test_loss:.3f}.. Train L1 norm: {train_l1_norm:.3f}.. Test L1 norm: {test_l1_norm:.3f}.. Train Linf norm: {train_linf_norm:.3f}.. Test Linf norm: {test_linf_norm:.3f}\")\n",
        "\n",
        "\n",
        "        # Reporting the intermediate metric value to Optuna if trial is not None\n",
        "        if trial is not None:\n",
        "            trial.report(val_l1_norm, epoch)\n",
        "\n",
        "            if trial.should_prune():\n",
        "                raise optuna.TrialPruned()\n",
        "\n",
        "    # Closing the SummaryWriter object\n",
        "    writer.close()\n",
        "\n",
        "    # Returning the losses and metrics lists\n",
        "    return train_losses, val_losses, test_losses, train_metrics, val_metrics, test_metrics\n"
      ]
    },
    {
      "cell_type": "markdown",
      "metadata": {
        "id": "xg9jz0SvUZiQ"
      },
      "source": [
        "## The objective function and hyperparameter tuning"
      ]
    },
    {
      "cell_type": "code",
      "execution_count": 92,
      "metadata": {
        "id": "fmRncQPuUZiR"
      },
      "outputs": [],
      "source": [
        "# Defining an objective function for Optuna to minimize\n",
        "def objective(trial):\n",
        "    \"\"\"Defines an objective function for Optuna to minimize.\n",
        "\n",
        "    Args:\n",
        "        trial (optuna.trial.Trial): The trial object that contains the hyperparameters.\n",
        "\n",
        "    Returns:\n",
        "        float: The validation L1 norm to minimize.\n",
        "    \"\"\"\n",
        "    # Creating a trial network and optimizer using the create_model function\n",
        "    net, \\\n",
        "    loss_fn, \\\n",
        "    optimizer, \\\n",
        "    batch_size, \\\n",
        "    n_epochs, \\\n",
        "    scheduler, \\\n",
        "    loss_name, \\\n",
        "    optimizer_name, \\\n",
        "    scheduler_name, \\\n",
        "    n_units, \\\n",
        "    n_layers, \\\n",
        "    hidden_activation, \\\n",
        "    output_activation, \\\n",
        "    lr, \\\n",
        "    dropout_rate = create_model(trial, optimize=True)\n",
        "\n",
        "    # Create separate data loaders for training and validation\n",
        "    train_loader = torch.utils.data.DataLoader(\n",
        "        torch.utils.data.TensorDataset(x_train, y_train), batch_size=batch_size, shuffle=True\n",
        "    )\n",
        "    val_loader = torch.utils.data.DataLoader(\n",
        "        torch.utils.data.TensorDataset(x_val, y_val), batch_size=batch_size\n",
        "    )\n",
        "    \n",
        "    _, _, _, _, val_metrics, _ = train_and_eval(\n",
        "        net, loss_fn, optimizer, batch_size, n_epochs, scheduler, train_loader, val_loader, None, trial\n",
        "    )\n",
        "\n",
        "    # Returning the last validation L1 norm as the objective value to minimize\n",
        "    return val_metrics[-1][\"l1_norm\"]"
      ]
    },
    {
      "cell_type": "code",
      "execution_count": null,
      "metadata": {
        "id": "GyES4NAyUZiS",
        "colab": {
          "base_uri": "https://localhost:8080/"
        },
        "outputId": "f39c9b10-d2d0-4ed4-cdd5-421add96d15a"
      },
      "outputs": [
        {
          "output_type": "stream",
          "name": "stderr",
          "text": [
            "[I 2023-05-30 09:12:53,981] A new study created in memory with name: no-name-194f8e85-df9e-43cc-9beb-2fad13d61a50\n",
            "<ipython-input-89-0c79a7da1449>:44: FutureWarning: suggest_loguniform has been deprecated in v3.0.0. This feature will be removed in v6.0.0. See https://github.com/optuna/optuna/releases/tag/v3.0.0. Use suggest_float(..., log=True) instead.\n",
            "  lr = trial.suggest_loguniform(\"lr\", 1e-5, 1e-1)\n",
            "<ipython-input-89-0c79a7da1449>:76: FutureWarning: suggest_uniform has been deprecated in v3.0.0. This feature will be removed in v6.0.0. See https://github.com/optuna/optuna/releases/tag/v3.0.0. Use suggest_float instead.\n",
            "  dropout_rate = trial.suggest_uniform(\"dropout_rate\", 0.0, 0.5)\n",
            "<ipython-input-89-0c79a7da1449>:161: FutureWarning: suggest_uniform has been deprecated in v3.0.0. This feature will be removed in v6.0.0. See https://github.com/optuna/optuna/releases/tag/v3.0.0. Use suggest_float instead.\n",
            "  gamma = trial.suggest_uniform(\"gamma\", 0.1, 0.5)\n"
          ]
        },
        {
          "output_type": "stream",
          "name": "stdout",
          "text": [
            "Epoch 1/131.. Train loss: 4.586.. Val loss: 4.146.. Train L1 norm: 3.610.. Val L1 norm: 5.121.. Train Linf norm: 213.330.. Val Linf norm: 387.402\n",
            "Epoch 2/131.. Train loss: 4.261.. Val loss: 4.102.. Train L1 norm: 4.013.. Val L1 norm: 5.964.. Train Linf norm: 242.812.. Val Linf norm: 457.181\n",
            "Epoch 3/131.. Train loss: 4.189.. Val loss: 4.102.. Train L1 norm: 4.275.. Val L1 norm: 5.767.. Train Linf norm: 259.776.. Val Linf norm: 438.529\n",
            "Epoch 4/131.. Train loss: 4.205.. Val loss: 4.101.. Train L1 norm: 4.166.. Val L1 norm: 5.908.. Train Linf norm: 255.664.. Val Linf norm: 448.827\n",
            "Epoch 5/131.. Train loss: 4.129.. Val loss: 4.102.. Train L1 norm: 4.199.. Val L1 norm: 5.921.. Train Linf norm: 259.649.. Val Linf norm: 448.300\n",
            "Epoch 6/131.. Train loss: 4.121.. Val loss: 4.099.. Train L1 norm: 4.253.. Val L1 norm: 5.868.. Train Linf norm: 257.980.. Val Linf norm: 442.669\n",
            "Epoch 7/131.. Train loss: 4.110.. Val loss: 4.082.. Train L1 norm: 4.265.. Val L1 norm: 5.940.. Train Linf norm: 262.529.. Val Linf norm: 447.975\n",
            "Epoch 8/131.. Train loss: 4.093.. Val loss: 4.054.. Train L1 norm: 4.307.. Val L1 norm: 5.914.. Train Linf norm: 266.071.. Val Linf norm: 445.088\n",
            "Epoch 9/131.. Train loss: 4.075.. Val loss: 4.062.. Train L1 norm: 4.230.. Val L1 norm: 5.861.. Train Linf norm: 246.330.. Val Linf norm: 439.825\n",
            "Epoch 10/131.. Train loss: 4.094.. Val loss: 4.058.. Train L1 norm: 4.284.. Val L1 norm: 5.856.. Train Linf norm: 261.036.. Val Linf norm: 438.605\n",
            "Epoch 11/131.. Train loss: 4.070.. Val loss: 4.058.. Train L1 norm: 4.324.. Val L1 norm: 5.875.. Train Linf norm: 267.379.. Val Linf norm: 439.931\n",
            "Epoch 12/131.. Train loss: 4.062.. Val loss: 4.050.. Train L1 norm: 4.334.. Val L1 norm: 5.837.. Train Linf norm: 264.766.. Val Linf norm: 436.545\n",
            "Epoch 13/131.. Train loss: 4.088.. Val loss: 4.051.. Train L1 norm: 4.264.. Val L1 norm: 5.824.. Train Linf norm: 260.425.. Val Linf norm: 434.776\n",
            "Epoch 14/131.. Train loss: 4.049.. Val loss: 4.041.. Train L1 norm: 4.237.. Val L1 norm: 5.848.. Train Linf norm: 253.764.. Val Linf norm: 436.892\n",
            "Epoch 15/131.. Train loss: 4.043.. Val loss: 4.034.. Train L1 norm: 4.331.. Val L1 norm: 5.849.. Train Linf norm: 261.561.. Val Linf norm: 436.926\n",
            "Epoch 16/131.. Train loss: 4.040.. Val loss: 4.033.. Train L1 norm: 4.359.. Val L1 norm: 5.849.. Train Linf norm: 269.903.. Val Linf norm: 436.842\n",
            "Epoch 17/131.. Train loss: 4.040.. Val loss: 4.033.. Train L1 norm: 4.321.. Val L1 norm: 5.847.. Train Linf norm: 267.881.. Val Linf norm: 436.570\n",
            "Epoch 18/131.. Train loss: 4.044.. Val loss: 4.031.. Train L1 norm: 4.344.. Val L1 norm: 5.842.. Train Linf norm: 268.936.. Val Linf norm: 436.110\n",
            "Epoch 19/131.. Train loss: 4.040.. Val loss: 4.029.. Train L1 norm: 4.245.. Val L1 norm: 5.841.. Train Linf norm: 250.796.. Val Linf norm: 436.016\n",
            "Epoch 20/131.. Train loss: 4.067.. Val loss: 4.029.. Train L1 norm: 4.270.. Val L1 norm: 5.830.. Train Linf norm: 260.963.. Val Linf norm: 435.027\n",
            "Epoch 21/131.. Train loss: 4.046.. Val loss: 4.028.. Train L1 norm: 4.248.. Val L1 norm: 5.839.. Train Linf norm: 253.613.. Val Linf norm: 435.698\n",
            "Epoch 22/131.. Train loss: 4.038.. Val loss: 4.023.. Train L1 norm: 4.242.. Val L1 norm: 5.847.. Train Linf norm: 254.767.. Val Linf norm: 436.406\n",
            "Epoch 23/131.. Train loss: 4.035.. Val loss: 4.022.. Train L1 norm: 4.262.. Val L1 norm: 5.840.. Train Linf norm: 257.860.. Val Linf norm: 435.808\n",
            "Epoch 24/131.. Train loss: 4.052.. Val loss: 4.022.. Train L1 norm: 4.256.. Val L1 norm: 5.839.. Train Linf norm: 259.765.. Val Linf norm: 435.648\n",
            "Epoch 25/131.. Train loss: 4.029.. Val loss: 4.021.. Train L1 norm: 4.273.. Val L1 norm: 5.839.. Train Linf norm: 258.769.. Val Linf norm: 435.639\n",
            "Epoch 26/131.. Train loss: 4.070.. Val loss: 4.022.. Train L1 norm: 4.230.. Val L1 norm: 5.818.. Train Linf norm: 254.907.. Val Linf norm: 433.867\n",
            "Epoch 27/131.. Train loss: 4.064.. Val loss: 4.022.. Train L1 norm: 4.294.. Val L1 norm: 5.814.. Train Linf norm: 262.383.. Val Linf norm: 433.507\n",
            "Epoch 28/131.. Train loss: 4.022.. Val loss: 4.020.. Train L1 norm: 4.217.. Val L1 norm: 5.822.. Train Linf norm: 251.691.. Val Linf norm: 434.164\n",
            "Epoch 29/131.. Train loss: 4.035.. Val loss: 4.018.. Train L1 norm: 4.341.. Val L1 norm: 5.826.. Train Linf norm: 263.302.. Val Linf norm: 434.550\n",
            "Epoch 30/131.. Train loss: 4.021.. Val loss: 4.019.. Train L1 norm: 4.300.. Val L1 norm: 5.826.. Train Linf norm: 263.195.. Val Linf norm: 434.465\n",
            "Epoch 31/131.. Train loss: 4.056.. Val loss: 4.018.. Train L1 norm: 4.247.. Val L1 norm: 5.823.. Train Linf norm: 249.944.. Val Linf norm: 434.229\n",
            "Epoch 32/131.. Train loss: 4.030.. Val loss: 4.019.. Train L1 norm: 4.259.. Val L1 norm: 5.820.. Train Linf norm: 256.638.. Val Linf norm: 433.995\n",
            "Epoch 33/131.. Train loss: 4.025.. Val loss: 4.019.. Train L1 norm: 4.326.. Val L1 norm: 5.819.. Train Linf norm: 260.241.. Val Linf norm: 433.893\n",
            "Epoch 34/131.. Train loss: 4.022.. Val loss: 4.019.. Train L1 norm: 4.329.. Val L1 norm: 5.818.. Train Linf norm: 267.091.. Val Linf norm: 433.853\n",
            "Epoch 35/131.. Train loss: 4.029.. Val loss: 4.016.. Train L1 norm: 4.301.. Val L1 norm: 5.822.. Train Linf norm: 263.485.. Val Linf norm: 434.196\n",
            "Epoch 36/131.. Train loss: 4.042.. Val loss: 4.016.. Train L1 norm: 4.337.. Val L1 norm: 5.825.. Train Linf norm: 268.269.. Val Linf norm: 434.415\n",
            "Epoch 37/131.. Train loss: 4.053.. Val loss: 4.016.. Train L1 norm: 4.291.. Val L1 norm: 5.822.. Train Linf norm: 255.110.. Val Linf norm: 434.145\n",
            "Epoch 38/131.. Train loss: 4.023.. Val loss: 4.016.. Train L1 norm: 4.251.. Val L1 norm: 5.820.. Train Linf norm: 256.998.. Val Linf norm: 434.022\n",
            "Epoch 39/131.. Train loss: 4.024.. Val loss: 4.016.. Train L1 norm: 4.308.. Val L1 norm: 5.822.. Train Linf norm: 263.128.. Val Linf norm: 434.129\n",
            "Epoch 40/131.. Train loss: 4.042.. Val loss: 4.016.. Train L1 norm: 4.320.. Val L1 norm: 5.820.. Train Linf norm: 265.204.. Val Linf norm: 433.997\n",
            "Epoch 41/131.. Train loss: 4.035.. Val loss: 4.016.. Train L1 norm: 4.161.. Val L1 norm: 5.821.. Train Linf norm: 244.199.. Val Linf norm: 434.076\n",
            "Epoch 42/131.. Train loss: 4.055.. Val loss: 4.015.. Train L1 norm: 4.291.. Val L1 norm: 5.821.. Train Linf norm: 264.349.. Val Linf norm: 434.103\n",
            "Epoch 43/131.. Train loss: 4.035.. Val loss: 4.015.. Train L1 norm: 4.287.. Val L1 norm: 5.821.. Train Linf norm: 259.331.. Val Linf norm: 434.072\n",
            "Epoch 44/131.. Train loss: 4.045.. Val loss: 4.015.. Train L1 norm: 4.346.. Val L1 norm: 5.820.. Train Linf norm: 264.580.. Val Linf norm: 433.943\n",
            "Epoch 45/131.. Train loss: 4.038.. Val loss: 4.015.. Train L1 norm: 4.243.. Val L1 norm: 5.819.. Train Linf norm: 250.988.. Val Linf norm: 433.885\n",
            "Epoch 46/131.. Train loss: 4.046.. Val loss: 4.016.. Train L1 norm: 4.318.. Val L1 norm: 5.818.. Train Linf norm: 261.962.. Val Linf norm: 433.810\n",
            "Epoch 47/131.. Train loss: 4.056.. Val loss: 4.016.. Train L1 norm: 4.304.. Val L1 norm: 5.818.. Train Linf norm: 262.635.. Val Linf norm: 433.782\n",
            "Epoch 48/131.. Train loss: 4.053.. Val loss: 4.016.. Train L1 norm: 4.299.. Val L1 norm: 5.816.. Train Linf norm: 266.007.. Val Linf norm: 433.657\n",
            "Epoch 49/131.. Train loss: 4.044.. Val loss: 4.016.. Train L1 norm: 4.287.. Val L1 norm: 5.816.. Train Linf norm: 261.464.. Val Linf norm: 433.641\n",
            "Epoch 50/131.. Train loss: 4.055.. Val loss: 4.015.. Train L1 norm: 4.278.. Val L1 norm: 5.817.. Train Linf norm: 261.873.. Val Linf norm: 433.743\n",
            "Epoch 51/131.. Train loss: 4.040.. Val loss: 4.015.. Train L1 norm: 4.365.. Val L1 norm: 5.818.. Train Linf norm: 272.512.. Val Linf norm: 433.844\n",
            "Epoch 52/131.. Train loss: 4.051.. Val loss: 4.014.. Train L1 norm: 4.307.. Val L1 norm: 5.820.. Train Linf norm: 263.491.. Val Linf norm: 433.986\n",
            "Epoch 53/131.. Train loss: 4.029.. Val loss: 4.014.. Train L1 norm: 4.315.. Val L1 norm: 5.821.. Train Linf norm: 268.562.. Val Linf norm: 434.030\n",
            "Epoch 54/131.. Train loss: 4.019.. Val loss: 4.014.. Train L1 norm: 4.275.. Val L1 norm: 5.821.. Train Linf norm: 257.050.. Val Linf norm: 434.064\n",
            "Epoch 55/131.. Train loss: 4.039.. Val loss: 4.014.. Train L1 norm: 4.272.. Val L1 norm: 5.821.. Train Linf norm: 258.864.. Val Linf norm: 434.041\n",
            "Epoch 56/131.. Train loss: 4.065.. Val loss: 4.014.. Train L1 norm: 4.259.. Val L1 norm: 5.821.. Train Linf norm: 262.815.. Val Linf norm: 434.028\n",
            "Epoch 57/131.. Train loss: 4.024.. Val loss: 4.014.. Train L1 norm: 4.256.. Val L1 norm: 5.820.. Train Linf norm: 254.622.. Val Linf norm: 434.010\n",
            "Epoch 58/131.. Train loss: 4.023.. Val loss: 4.014.. Train L1 norm: 4.298.. Val L1 norm: 5.820.. Train Linf norm: 261.172.. Val Linf norm: 433.998\n",
            "Epoch 59/131.. Train loss: 4.036.. Val loss: 4.014.. Train L1 norm: 4.308.. Val L1 norm: 5.820.. Train Linf norm: 262.936.. Val Linf norm: 434.017\n",
            "Epoch 60/131.. Train loss: 4.020.. Val loss: 4.014.. Train L1 norm: 4.282.. Val L1 norm: 5.820.. Train Linf norm: 263.201.. Val Linf norm: 434.015\n",
            "Epoch 61/131.. Train loss: 4.038.. Val loss: 4.014.. Train L1 norm: 4.293.. Val L1 norm: 5.821.. Train Linf norm: 259.312.. Val Linf norm: 434.059\n",
            "Epoch 62/131.. Train loss: 4.047.. Val loss: 4.014.. Train L1 norm: 4.278.. Val L1 norm: 5.821.. Train Linf norm: 258.054.. Val Linf norm: 434.034\n",
            "Epoch 63/131.. Train loss: 4.031.. Val loss: 4.014.. Train L1 norm: 4.215.. Val L1 norm: 5.821.. Train Linf norm: 252.882.. Val Linf norm: 434.072\n",
            "Epoch 64/131.. Train loss: 4.018.. Val loss: 4.014.. Train L1 norm: 4.315.. Val L1 norm: 5.822.. Train Linf norm: 267.383.. Val Linf norm: 434.108\n",
            "Epoch 65/131.. Train loss: 4.035.. Val loss: 4.014.. Train L1 norm: 4.245.. Val L1 norm: 5.821.. Train Linf norm: 244.282.. Val Linf norm: 434.093\n",
            "Epoch 66/131.. Train loss: 4.071.. Val loss: 4.014.. Train L1 norm: 4.283.. Val L1 norm: 5.821.. Train Linf norm: 260.813.. Val Linf norm: 434.091\n",
            "Epoch 67/131.. Train loss: 4.027.. Val loss: 4.014.. Train L1 norm: 4.326.. Val L1 norm: 5.821.. Train Linf norm: 269.454.. Val Linf norm: 434.099\n",
            "Epoch 68/131.. Train loss: 4.040.. Val loss: 4.014.. Train L1 norm: 4.236.. Val L1 norm: 5.821.. Train Linf norm: 254.950.. Val Linf norm: 434.097\n",
            "Epoch 69/131.. Train loss: 4.040.. Val loss: 4.014.. Train L1 norm: 4.288.. Val L1 norm: 5.822.. Train Linf norm: 264.335.. Val Linf norm: 434.102\n",
            "Epoch 70/131.. Train loss: 4.023.. Val loss: 4.014.. Train L1 norm: 4.285.. Val L1 norm: 5.822.. Train Linf norm: 261.134.. Val Linf norm: 434.102\n",
            "Epoch 71/131.. Train loss: 4.047.. Val loss: 4.014.. Train L1 norm: 4.285.. Val L1 norm: 5.822.. Train Linf norm: 262.783.. Val Linf norm: 434.108\n",
            "Epoch 72/131.. Train loss: 4.048.. Val loss: 4.014.. Train L1 norm: 4.351.. Val L1 norm: 5.821.. Train Linf norm: 271.724.. Val Linf norm: 434.101\n",
            "Epoch 73/131.. Train loss: 4.041.. Val loss: 4.014.. Train L1 norm: 4.318.. Val L1 norm: 5.821.. Train Linf norm: 261.270.. Val Linf norm: 434.095\n",
            "Epoch 74/131.. Train loss: 4.031.. Val loss: 4.014.. Train L1 norm: 4.305.. Val L1 norm: 5.822.. Train Linf norm: 262.854.. Val Linf norm: 434.107\n",
            "Epoch 75/131.. Train loss: 4.035.. Val loss: 4.014.. Train L1 norm: 4.289.. Val L1 norm: 5.821.. Train Linf norm: 262.555.. Val Linf norm: 434.101\n",
            "Epoch 76/131.. Train loss: 4.028.. Val loss: 4.014.. Train L1 norm: 4.329.. Val L1 norm: 5.821.. Train Linf norm: 261.671.. Val Linf norm: 434.101\n",
            "Epoch 77/131.. Train loss: 4.043.. Val loss: 4.014.. Train L1 norm: 4.256.. Val L1 norm: 5.821.. Train Linf norm: 260.292.. Val Linf norm: 434.097\n",
            "Epoch 78/131.. Train loss: 4.028.. Val loss: 4.014.. Train L1 norm: 4.314.. Val L1 norm: 5.822.. Train Linf norm: 263.778.. Val Linf norm: 434.113\n",
            "Epoch 79/131.. Train loss: 4.022.. Val loss: 4.014.. Train L1 norm: 4.325.. Val L1 norm: 5.822.. Train Linf norm: 261.600.. Val Linf norm: 434.112\n",
            "Epoch 80/131.. Train loss: 4.052.. Val loss: 4.014.. Train L1 norm: 4.344.. Val L1 norm: 5.822.. Train Linf norm: 268.866.. Val Linf norm: 434.112\n",
            "Epoch 81/131.. Train loss: 4.041.. Val loss: 4.014.. Train L1 norm: 4.369.. Val L1 norm: 5.822.. Train Linf norm: 278.709.. Val Linf norm: 434.113\n",
            "Epoch 82/131.. Train loss: 4.070.. Val loss: 4.014.. Train L1 norm: 4.286.. Val L1 norm: 5.822.. Train Linf norm: 260.326.. Val Linf norm: 434.110\n",
            "Epoch 83/131.. Train loss: 4.018.. Val loss: 4.014.. Train L1 norm: 4.274.. Val L1 norm: 5.822.. Train Linf norm: 259.341.. Val Linf norm: 434.108\n",
            "Epoch 84/131.. Train loss: 4.052.. Val loss: 4.014.. Train L1 norm: 4.292.. Val L1 norm: 5.822.. Train Linf norm: 259.589.. Val Linf norm: 434.106\n",
            "Epoch 85/131.. Train loss: 4.029.. Val loss: 4.014.. Train L1 norm: 4.274.. Val L1 norm: 5.822.. Train Linf norm: 256.534.. Val Linf norm: 434.108\n",
            "Epoch 86/131.. Train loss: 4.038.. Val loss: 4.014.. Train L1 norm: 4.291.. Val L1 norm: 5.822.. Train Linf norm: 264.370.. Val Linf norm: 434.104\n",
            "Epoch 87/131.. Train loss: 4.019.. Val loss: 4.014.. Train L1 norm: 4.259.. Val L1 norm: 5.822.. Train Linf norm: 250.445.. Val Linf norm: 434.107\n",
            "Epoch 88/131.. Train loss: 4.025.. Val loss: 4.014.. Train L1 norm: 4.212.. Val L1 norm: 5.822.. Train Linf norm: 247.377.. Val Linf norm: 434.107\n",
            "Epoch 89/131.. Train loss: 4.029.. Val loss: 4.014.. Train L1 norm: 4.328.. Val L1 norm: 5.822.. Train Linf norm: 266.304.. Val Linf norm: 434.104\n",
            "Epoch 90/131.. Train loss: 4.073.. Val loss: 4.014.. Train L1 norm: 4.363.. Val L1 norm: 5.821.. Train Linf norm: 269.502.. Val Linf norm: 434.101\n",
            "Epoch 91/131.. Train loss: 4.062.. Val loss: 4.014.. Train L1 norm: 4.283.. Val L1 norm: 5.821.. Train Linf norm: 259.586.. Val Linf norm: 434.095\n",
            "Epoch 92/131.. Train loss: 4.064.. Val loss: 4.014.. Train L1 norm: 4.325.. Val L1 norm: 5.821.. Train Linf norm: 261.374.. Val Linf norm: 434.094\n",
            "Epoch 93/131.. Train loss: 4.049.. Val loss: 4.014.. Train L1 norm: 4.237.. Val L1 norm: 5.821.. Train Linf norm: 254.216.. Val Linf norm: 434.092\n",
            "Epoch 94/131.. Train loss: 4.042.. Val loss: 4.014.. Train L1 norm: 4.406.. Val L1 norm: 5.821.. Train Linf norm: 273.430.. Val Linf norm: 434.090\n",
            "Epoch 95/131.. Train loss: 4.030.. Val loss: 4.014.. Train L1 norm: 4.273.. Val L1 norm: 5.821.. Train Linf norm: 256.623.. Val Linf norm: 434.091\n",
            "Epoch 96/131.. Train loss: 4.046.. Val loss: 4.014.. Train L1 norm: 4.333.. Val L1 norm: 5.821.. Train Linf norm: 269.764.. Val Linf norm: 434.090\n",
            "Epoch 97/131.. Train loss: 4.026.. Val loss: 4.014.. Train L1 norm: 4.201.. Val L1 norm: 5.821.. Train Linf norm: 256.643.. Val Linf norm: 434.089\n",
            "Epoch 98/131.. Train loss: 4.057.. Val loss: 4.014.. Train L1 norm: 4.294.. Val L1 norm: 5.821.. Train Linf norm: 261.730.. Val Linf norm: 434.088\n",
            "Epoch 99/131.. Train loss: 4.022.. Val loss: 4.014.. Train L1 norm: 4.287.. Val L1 norm: 5.821.. Train Linf norm: 256.991.. Val Linf norm: 434.087\n",
            "Epoch 100/131.. Train loss: 4.022.. Val loss: 4.014.. Train L1 norm: 4.223.. Val L1 norm: 5.821.. Train Linf norm: 249.801.. Val Linf norm: 434.086\n",
            "Epoch 101/131.. Train loss: 4.025.. Val loss: 4.014.. Train L1 norm: 4.316.. Val L1 norm: 5.821.. Train Linf norm: 265.590.. Val Linf norm: 434.085\n",
            "Epoch 102/131.. Train loss: 4.035.. Val loss: 4.014.. Train L1 norm: 4.271.. Val L1 norm: 5.821.. Train Linf norm: 254.852.. Val Linf norm: 434.084\n",
            "Epoch 103/131.. Train loss: 4.043.. Val loss: 4.014.. Train L1 norm: 4.316.. Val L1 norm: 5.821.. Train Linf norm: 265.196.. Val Linf norm: 434.083\n",
            "Epoch 104/131.. Train loss: 4.048.. Val loss: 4.014.. Train L1 norm: 4.306.. Val L1 norm: 5.821.. Train Linf norm: 259.485.. Val Linf norm: 434.081\n",
            "Epoch 105/131.. Train loss: 4.030.. Val loss: 4.014.. Train L1 norm: 4.373.. Val L1 norm: 5.821.. Train Linf norm: 275.376.. Val Linf norm: 434.082\n",
            "Epoch 106/131.. Train loss: 4.036.. Val loss: 4.014.. Train L1 norm: 4.287.. Val L1 norm: 5.821.. Train Linf norm: 261.706.. Val Linf norm: 434.082\n",
            "Epoch 107/131.. Train loss: 4.064.. Val loss: 4.014.. Train L1 norm: 4.337.. Val L1 norm: 5.821.. Train Linf norm: 260.096.. Val Linf norm: 434.082\n",
            "Epoch 108/131.. Train loss: 4.020.. Val loss: 4.014.. Train L1 norm: 4.300.. Val L1 norm: 5.821.. Train Linf norm: 260.492.. Val Linf norm: 434.081\n",
            "Epoch 109/131.. Train loss: 4.029.. Val loss: 4.014.. Train L1 norm: 4.352.. Val L1 norm: 5.821.. Train Linf norm: 268.769.. Val Linf norm: 434.081\n",
            "Epoch 110/131.. Train loss: 4.037.. Val loss: 4.014.. Train L1 norm: 4.188.. Val L1 norm: 5.821.. Train Linf norm: 240.523.. Val Linf norm: 434.081\n",
            "Epoch 111/131.. Train loss: 4.035.. Val loss: 4.014.. Train L1 norm: 4.276.. Val L1 norm: 5.821.. Train Linf norm: 258.035.. Val Linf norm: 434.081\n",
            "Epoch 112/131.. Train loss: 4.042.. Val loss: 4.014.. Train L1 norm: 4.312.. Val L1 norm: 5.821.. Train Linf norm: 261.884.. Val Linf norm: 434.081\n",
            "Epoch 113/131.. Train loss: 4.028.. Val loss: 4.014.. Train L1 norm: 4.322.. Val L1 norm: 5.821.. Train Linf norm: 265.957.. Val Linf norm: 434.081\n",
            "Epoch 114/131.. Train loss: 4.028.. Val loss: 4.014.. Train L1 norm: 4.273.. Val L1 norm: 5.821.. Train Linf norm: 256.813.. Val Linf norm: 434.081\n",
            "Epoch 115/131.. Train loss: 4.035.. Val loss: 4.014.. Train L1 norm: 4.214.. Val L1 norm: 5.821.. Train Linf norm: 252.928.. Val Linf norm: 434.081\n",
            "Epoch 116/131.. Train loss: 4.036.. Val loss: 4.014.. Train L1 norm: 4.235.. Val L1 norm: 5.821.. Train Linf norm: 255.003.. Val Linf norm: 434.081\n",
            "Epoch 117/131.. Train loss: 4.057.. Val loss: 4.014.. Train L1 norm: 4.291.. Val L1 norm: 5.821.. Train Linf norm: 260.464.. Val Linf norm: 434.080\n",
            "Epoch 118/131.. Train loss: 4.027.. Val loss: 4.014.. Train L1 norm: 4.272.. Val L1 norm: 5.821.. Train Linf norm: 258.476.. Val Linf norm: 434.080\n",
            "Epoch 119/131.. Train loss: 4.032.. Val loss: 4.014.. Train L1 norm: 4.265.. Val L1 norm: 5.821.. Train Linf norm: 253.127.. Val Linf norm: 434.080\n",
            "Epoch 120/131.. Train loss: 4.023.. Val loss: 4.014.. Train L1 norm: 4.252.. Val L1 norm: 5.821.. Train Linf norm: 254.093.. Val Linf norm: 434.080\n",
            "Epoch 121/131.. Train loss: 4.045.. Val loss: 4.014.. Train L1 norm: 4.250.. Val L1 norm: 5.821.. Train Linf norm: 261.566.. Val Linf norm: 434.080\n",
            "Epoch 122/131.. Train loss: 4.057.. Val loss: 4.014.. Train L1 norm: 4.281.. Val L1 norm: 5.821.. Train Linf norm: 255.161.. Val Linf norm: 434.080\n",
            "Epoch 123/131.. Train loss: 4.048.. Val loss: 4.014.. Train L1 norm: 4.254.. Val L1 norm: 5.821.. Train Linf norm: 251.527.. Val Linf norm: 434.080\n",
            "Epoch 124/131.. Train loss: 4.037.. Val loss: 4.014.. Train L1 norm: 4.354.. Val L1 norm: 5.821.. Train Linf norm: 259.431.. Val Linf norm: 434.080\n",
            "Epoch 125/131.. Train loss: 4.026.. Val loss: 4.014.. Train L1 norm: 4.241.. Val L1 norm: 5.821.. Train Linf norm: 256.954.. Val Linf norm: 434.080\n",
            "Epoch 126/131.. Train loss: 4.038.. Val loss: 4.014.. Train L1 norm: 4.246.. Val L1 norm: 5.821.. Train Linf norm: 259.691.. Val Linf norm: 434.080\n",
            "Epoch 127/131.. Train loss: 4.051.. Val loss: 4.014.. Train L1 norm: 4.314.. Val L1 norm: 5.821.. Train Linf norm: 261.156.. Val Linf norm: 434.080\n",
            "Epoch 128/131.. Train loss: 4.041.. Val loss: 4.014.. Train L1 norm: 4.288.. Val L1 norm: 5.821.. Train Linf norm: 262.185.. Val Linf norm: 434.080\n",
            "Epoch 129/131.. Train loss: 4.029.. Val loss: 4.014.. Train L1 norm: 4.297.. Val L1 norm: 5.821.. Train Linf norm: 263.928.. Val Linf norm: 434.080\n",
            "Epoch 130/131.. Train loss: 4.070.. Val loss: 4.014.. Train L1 norm: 4.347.. Val L1 norm: 5.821.. Train Linf norm: 263.794.. Val Linf norm: 434.080\n"
          ]
        },
        {
          "output_type": "stream",
          "name": "stderr",
          "text": [
            "[I 2023-05-30 09:26:47,557] Trial 0 finished with value: 5.821234536997477 and parameters: {'n_layers': 7, 'n_units_0': 2254, 'n_units_1': 29, 'n_units_2': 2687, 'n_units_3': 2518, 'n_units_4': 799, 'n_units_5': 2319, 'n_units_6': 3569, 'hidden_activation': 'Swish', 'output_activation': 'Linear', 'loss': 'MAE', 'optimizer': 'Adagrad', 'lr': 3.036683938312886e-05, 'batch_size': 128, 'n_epochs': 131, 'scheduler': 'StepLR', 'dropout_rate': 0.14057041990254904, 'step_size': 13, 'gamma': 0.3556902360912966}. Best is trial 0 with value: 5.821234536997477.\n"
          ]
        },
        {
          "output_type": "stream",
          "name": "stdout",
          "text": [
            "Epoch 131/131.. Train loss: 4.023.. Val loss: 4.014.. Train L1 norm: 4.308.. Val L1 norm: 5.821.. Train Linf norm: 264.995.. Val Linf norm: 434.080\n",
            "Epoch 1/107.. Train loss: 5.536.. Val loss: 3.906.. Train L1 norm: 4.255.. Val L1 norm: 4.989.. Train Linf norm: 395.592.. Val Linf norm: 666.416\n",
            "Epoch 2/107.. Train loss: 4.023.. Val loss: 3.868.. Train L1 norm: 4.341.. Val L1 norm: 5.403.. Train Linf norm: 440.088.. Val Linf norm: 769.830\n",
            "Epoch 3/107.. Train loss: 3.852.. Val loss: 3.771.. Train L1 norm: 4.557.. Val L1 norm: 6.258.. Train Linf norm: 509.311.. Val Linf norm: 898.959\n",
            "Epoch 4/107.. Train loss: 3.841.. Val loss: 3.660.. Train L1 norm: 4.221.. Val L1 norm: 5.178.. Train Linf norm: 417.148.. Val Linf norm: 736.184\n",
            "Epoch 5/107.. Train loss: 3.706.. Val loss: 3.546.. Train L1 norm: 4.245.. Val L1 norm: 6.791.. Train Linf norm: 442.327.. Val Linf norm: 972.955\n",
            "Epoch 6/107.. Train loss: 3.582.. Val loss: 3.360.. Train L1 norm: 4.147.. Val L1 norm: 5.020.. Train Linf norm: 422.941.. Val Linf norm: 718.050\n",
            "Epoch 7/107.. Train loss: 3.451.. Val loss: 3.465.. Train L1 norm: 3.967.. Val L1 norm: 4.676.. Train Linf norm: 436.733.. Val Linf norm: 669.529\n",
            "Epoch 8/107.. Train loss: 3.346.. Val loss: 3.003.. Train L1 norm: 3.740.. Val L1 norm: 4.071.. Train Linf norm: 401.553.. Val Linf norm: 526.263\n",
            "Epoch 9/107.. Train loss: 3.255.. Val loss: 2.851.. Train L1 norm: 3.588.. Val L1 norm: 4.891.. Train Linf norm: 379.198.. Val Linf norm: 717.944\n",
            "Epoch 10/107.. Train loss: 3.020.. Val loss: 2.748.. Train L1 norm: 3.365.. Val L1 norm: 5.151.. Train Linf norm: 369.500.. Val Linf norm: 734.726\n",
            "Epoch 11/107.. Train loss: 2.979.. Val loss: 2.712.. Train L1 norm: 3.343.. Val L1 norm: 4.845.. Train Linf norm: 352.744.. Val Linf norm: 703.005\n",
            "Epoch 12/107.. Train loss: 2.925.. Val loss: 2.671.. Train L1 norm: 3.053.. Val L1 norm: 4.504.. Train Linf norm: 304.752.. Val Linf norm: 621.857\n",
            "Epoch 13/107.. Train loss: 2.908.. Val loss: 2.684.. Train L1 norm: 3.392.. Val L1 norm: 5.031.. Train Linf norm: 392.056.. Val Linf norm: 712.300\n",
            "Epoch 14/107.. Train loss: 2.899.. Val loss: 2.792.. Train L1 norm: 3.188.. Val L1 norm: 5.668.. Train Linf norm: 350.201.. Val Linf norm: 846.413\n",
            "Epoch 15/107.. Train loss: 2.876.. Val loss: 2.608.. Train L1 norm: 3.049.. Val L1 norm: 4.015.. Train Linf norm: 323.480.. Val Linf norm: 517.349\n",
            "Epoch 16/107.. Train loss: 2.846.. Val loss: 2.686.. Train L1 norm: 3.285.. Val L1 norm: 5.252.. Train Linf norm: 378.613.. Val Linf norm: 773.172\n",
            "Epoch 17/107.. Train loss: 2.824.. Val loss: 2.492.. Train L1 norm: 3.060.. Val L1 norm: 3.795.. Train Linf norm: 317.100.. Val Linf norm: 581.304\n",
            "Epoch 18/107.. Train loss: 2.806.. Val loss: 2.579.. Train L1 norm: 3.065.. Val L1 norm: 4.548.. Train Linf norm: 340.256.. Val Linf norm: 682.811\n",
            "Epoch 19/107.. Train loss: 2.758.. Val loss: 2.575.. Train L1 norm: 2.963.. Val L1 norm: 5.127.. Train Linf norm: 307.993.. Val Linf norm: 762.007\n",
            "Epoch 20/107.. Train loss: 2.745.. Val loss: 2.619.. Train L1 norm: 3.106.. Val L1 norm: 5.008.. Train Linf norm: 343.355.. Val Linf norm: 707.017\n",
            "Epoch 21/107.. Train loss: 2.730.. Val loss: 2.617.. Train L1 norm: 2.845.. Val L1 norm: 4.661.. Train Linf norm: 267.728.. Val Linf norm: 623.653\n",
            "Epoch 22/107.. Train loss: 2.745.. Val loss: 2.694.. Train L1 norm: 3.037.. Val L1 norm: 5.193.. Train Linf norm: 338.430.. Val Linf norm: 721.329\n",
            "Epoch 23/107.. Train loss: 2.722.. Val loss: 2.632.. Train L1 norm: 2.868.. Val L1 norm: 4.877.. Train Linf norm: 294.368.. Val Linf norm: 671.677\n",
            "Epoch 24/107.. Train loss: 2.698.. Val loss: 2.517.. Train L1 norm: 2.974.. Val L1 norm: 5.189.. Train Linf norm: 329.340.. Val Linf norm: 778.457\n",
            "Epoch 25/107.. Train loss: 2.704.. Val loss: 2.757.. Train L1 norm: 3.146.. Val L1 norm: 5.920.. Train Linf norm: 369.587.. Val Linf norm: 867.737\n",
            "Epoch 26/107.. Train loss: 2.682.. Val loss: 2.723.. Train L1 norm: 2.968.. Val L1 norm: 5.732.. Train Linf norm: 316.870.. Val Linf norm: 840.616\n",
            "Epoch 27/107.. Train loss: 2.703.. Val loss: 2.591.. Train L1 norm: 3.097.. Val L1 norm: 5.170.. Train Linf norm: 366.574.. Val Linf norm: 754.052\n",
            "Epoch 28/107.. Train loss: 2.684.. Val loss: 2.697.. Train L1 norm: 2.925.. Val L1 norm: 5.811.. Train Linf norm: 311.702.. Val Linf norm: 852.591\n",
            "Epoch 29/107.. Train loss: 2.670.. Val loss: 2.777.. Train L1 norm: 2.826.. Val L1 norm: 5.986.. Train Linf norm: 303.529.. Val Linf norm: 879.517\n",
            "Epoch 30/107.. Train loss: 2.678.. Val loss: 2.702.. Train L1 norm: 2.899.. Val L1 norm: 5.743.. Train Linf norm: 319.355.. Val Linf norm: 842.053\n",
            "Epoch 31/107.. Train loss: 2.651.. Val loss: 2.750.. Train L1 norm: 3.116.. Val L1 norm: 5.639.. Train Linf norm: 369.255.. Val Linf norm: 800.273\n",
            "Epoch 32/107.. Train loss: 2.665.. Val loss: 2.714.. Train L1 norm: 2.783.. Val L1 norm: 5.785.. Train Linf norm: 288.985.. Val Linf norm: 852.722\n",
            "Epoch 33/107.. Train loss: 2.653.. Val loss: 2.669.. Train L1 norm: 2.862.. Val L1 norm: 5.759.. Train Linf norm: 310.540.. Val Linf norm: 856.717\n",
            "Epoch 34/107.. Train loss: 2.654.. Val loss: 2.689.. Train L1 norm: 2.944.. Val L1 norm: 5.674.. Train Linf norm: 322.584.. Val Linf norm: 832.817\n",
            "Epoch 35/107.. Train loss: 2.648.. Val loss: 2.758.. Train L1 norm: 2.944.. Val L1 norm: 5.832.. Train Linf norm: 326.348.. Val Linf norm: 842.519\n",
            "Epoch 36/107.. Train loss: 2.660.. Val loss: 2.709.. Train L1 norm: 2.759.. Val L1 norm: 5.766.. Train Linf norm: 284.667.. Val Linf norm: 839.081\n",
            "Epoch 37/107.. Train loss: 2.641.. Val loss: 2.702.. Train L1 norm: 2.935.. Val L1 norm: 5.643.. Train Linf norm: 325.606.. Val Linf norm: 815.901\n",
            "Epoch 38/107.. Train loss: 2.631.. Val loss: 2.727.. Train L1 norm: 2.846.. Val L1 norm: 5.852.. Train Linf norm: 303.894.. Val Linf norm: 859.021\n",
            "Epoch 39/107.. Train loss: 2.630.. Val loss: 2.745.. Train L1 norm: 2.887.. Val L1 norm: 5.890.. Train Linf norm: 313.135.. Val Linf norm: 860.381\n",
            "Epoch 40/107.. Train loss: 2.635.. Val loss: 2.758.. Train L1 norm: 2.858.. Val L1 norm: 5.943.. Train Linf norm: 319.481.. Val Linf norm: 872.023\n",
            "Epoch 41/107.. Train loss: 2.629.. Val loss: 2.728.. Train L1 norm: 2.770.. Val L1 norm: 5.886.. Train Linf norm: 287.844.. Val Linf norm: 870.988\n",
            "Epoch 42/107.. Train loss: 2.641.. Val loss: 2.735.. Train L1 norm: 3.032.. Val L1 norm: 5.919.. Train Linf norm: 353.500.. Val Linf norm: 871.872\n",
            "Epoch 43/107.. Train loss: 2.628.. Val loss: 2.775.. Train L1 norm: 2.739.. Val L1 norm: 5.890.. Train Linf norm: 286.903.. Val Linf norm: 852.291\n",
            "Epoch 44/107.. Train loss: 2.637.. Val loss: 2.735.. Train L1 norm: 2.989.. Val L1 norm: 5.898.. Train Linf norm: 346.283.. Val Linf norm: 864.577\n",
            "Epoch 45/107.. Train loss: 2.633.. Val loss: 2.753.. Train L1 norm: 2.647.. Val L1 norm: 5.916.. Train Linf norm: 255.731.. Val Linf norm: 863.298\n",
            "Epoch 46/107.. Train loss: 2.644.. Val loss: 2.765.. Train L1 norm: 2.796.. Val L1 norm: 5.929.. Train Linf norm: 293.763.. Val Linf norm: 864.922\n",
            "Epoch 47/107.. Train loss: 2.637.. Val loss: 2.752.. Train L1 norm: 2.985.. Val L1 norm: 5.964.. Train Linf norm: 342.766.. Val Linf norm: 876.461\n",
            "Epoch 48/107.. Train loss: 2.644.. Val loss: 2.761.. Train L1 norm: 2.835.. Val L1 norm: 5.940.. Train Linf norm: 304.572.. Val Linf norm: 868.023\n",
            "Epoch 49/107.. Train loss: 2.631.. Val loss: 2.754.. Train L1 norm: 2.916.. Val L1 norm: 5.912.. Train Linf norm: 321.546.. Val Linf norm: 865.092\n",
            "Epoch 50/107.. Train loss: 2.622.. Val loss: 2.753.. Train L1 norm: 2.863.. Val L1 norm: 5.904.. Train Linf norm: 315.276.. Val Linf norm: 864.569\n",
            "Epoch 51/107.. Train loss: 2.633.. Val loss: 2.770.. Train L1 norm: 2.930.. Val L1 norm: 5.964.. Train Linf norm: 326.824.. Val Linf norm: 873.015\n",
            "Epoch 52/107.. Train loss: 2.627.. Val loss: 2.746.. Train L1 norm: 2.918.. Val L1 norm: 5.863.. Train Linf norm: 330.720.. Val Linf norm: 856.196\n",
            "Epoch 53/107.. Train loss: 2.618.. Val loss: 2.744.. Train L1 norm: 2.968.. Val L1 norm: 5.893.. Train Linf norm: 353.977.. Val Linf norm: 863.770\n",
            "Epoch 54/107.. Train loss: 2.627.. Val loss: 2.747.. Train L1 norm: 2.772.. Val L1 norm: 5.957.. Train Linf norm: 291.451.. Val Linf norm: 876.081\n",
            "Epoch 55/107.. Train loss: 2.620.. Val loss: 2.764.. Train L1 norm: 2.830.. Val L1 norm: 6.003.. Train Linf norm: 305.217.. Val Linf norm: 882.127\n",
            "Epoch 56/107.. Train loss: 2.627.. Val loss: 2.767.. Train L1 norm: 2.866.. Val L1 norm: 5.992.. Train Linf norm: 313.149.. Val Linf norm: 879.604\n",
            "Epoch 57/107.. Train loss: 2.627.. Val loss: 2.765.. Train L1 norm: 2.929.. Val L1 norm: 5.990.. Train Linf norm: 322.988.. Val Linf norm: 878.430\n",
            "Epoch 58/107.. Train loss: 2.626.. Val loss: 2.760.. Train L1 norm: 2.785.. Val L1 norm: 5.956.. Train Linf norm: 291.445.. Val Linf norm: 871.974\n",
            "Epoch 59/107.. Train loss: 2.619.. Val loss: 2.761.. Train L1 norm: 2.831.. Val L1 norm: 5.952.. Train Linf norm: 307.834.. Val Linf norm: 870.939\n",
            "Epoch 60/107.. Train loss: 2.627.. Val loss: 2.754.. Train L1 norm: 2.880.. Val L1 norm: 5.934.. Train Linf norm: 315.298.. Val Linf norm: 868.831\n",
            "Epoch 61/107.. Train loss: 2.624.. Val loss: 2.757.. Train L1 norm: 2.899.. Val L1 norm: 5.949.. Train Linf norm: 311.201.. Val Linf norm: 870.789\n",
            "Epoch 62/107.. Train loss: 2.640.. Val loss: 2.763.. Train L1 norm: 2.911.. Val L1 norm: 5.963.. Train Linf norm: 315.441.. Val Linf norm: 873.199\n",
            "Epoch 63/107.. Train loss: 2.626.. Val loss: 2.774.. Train L1 norm: 2.751.. Val L1 norm: 6.002.. Train Linf norm: 279.355.. Val Linf norm: 879.212\n",
            "Epoch 64/107.. Train loss: 2.632.. Val loss: 2.768.. Train L1 norm: 2.911.. Val L1 norm: 5.979.. Train Linf norm: 326.323.. Val Linf norm: 875.275\n",
            "Epoch 65/107.. Train loss: 2.638.. Val loss: 2.759.. Train L1 norm: 2.880.. Val L1 norm: 5.941.. Train Linf norm: 310.230.. Val Linf norm: 868.970\n",
            "Epoch 66/107.. Train loss: 2.623.. Val loss: 2.765.. Train L1 norm: 2.870.. Val L1 norm: 5.955.. Train Linf norm: 310.467.. Val Linf norm: 871.280\n",
            "Epoch 67/107.. Train loss: 2.620.. Val loss: 2.766.. Train L1 norm: 2.964.. Val L1 norm: 5.963.. Train Linf norm: 335.602.. Val Linf norm: 872.879\n",
            "Epoch 68/107.. Train loss: 2.621.. Val loss: 2.761.. Train L1 norm: 2.776.. Val L1 norm: 5.945.. Train Linf norm: 292.414.. Val Linf norm: 870.298\n",
            "Epoch 69/107.. Train loss: 2.618.. Val loss: 2.762.. Train L1 norm: 2.676.. Val L1 norm: 5.946.. Train Linf norm: 263.225.. Val Linf norm: 870.444\n",
            "Epoch 70/107.. Train loss: 2.631.. Val loss: 2.767.. Train L1 norm: 2.827.. Val L1 norm: 5.966.. Train Linf norm: 296.909.. Val Linf norm: 873.777\n",
            "Epoch 71/107.. Train loss: 2.638.. Val loss: 2.765.. Train L1 norm: 2.662.. Val L1 norm: 5.950.. Train Linf norm: 262.251.. Val Linf norm: 870.373\n",
            "Epoch 72/107.. Train loss: 2.635.. Val loss: 2.761.. Train L1 norm: 2.734.. Val L1 norm: 5.941.. Train Linf norm: 274.670.. Val Linf norm: 869.601\n",
            "Epoch 73/107.. Train loss: 2.624.. Val loss: 2.762.. Train L1 norm: 3.003.. Val L1 norm: 5.945.. Train Linf norm: 345.597.. Val Linf norm: 870.535\n",
            "Epoch 74/107.. Train loss: 2.621.. Val loss: 2.761.. Train L1 norm: 2.975.. Val L1 norm: 5.939.. Train Linf norm: 334.995.. Val Linf norm: 869.228\n",
            "Epoch 75/107.. Train loss: 2.638.. Val loss: 2.762.. Train L1 norm: 2.860.. Val L1 norm: 5.942.. Train Linf norm: 311.122.. Val Linf norm: 869.916\n",
            "Epoch 76/107.. Train loss: 2.623.. Val loss: 2.762.. Train L1 norm: 2.663.. Val L1 norm: 5.944.. Train Linf norm: 265.334.. Val Linf norm: 870.188\n",
            "Epoch 77/107.. Train loss: 2.629.. Val loss: 2.764.. Train L1 norm: 2.877.. Val L1 norm: 5.952.. Train Linf norm: 308.215.. Val Linf norm: 871.345\n",
            "Epoch 78/107.. Train loss: 2.629.. Val loss: 2.765.. Train L1 norm: 2.694.. Val L1 norm: 5.955.. Train Linf norm: 270.366.. Val Linf norm: 871.859\n",
            "Epoch 79/107.. Train loss: 2.622.. Val loss: 2.767.. Train L1 norm: 2.811.. Val L1 norm: 5.963.. Train Linf norm: 303.812.. Val Linf norm: 873.006\n",
            "Epoch 80/107.. Train loss: 2.621.. Val loss: 2.767.. Train L1 norm: 2.799.. Val L1 norm: 5.961.. Train Linf norm: 296.403.. Val Linf norm: 872.574\n",
            "Epoch 81/107.. Train loss: 2.632.. Val loss: 2.766.. Train L1 norm: 2.895.. Val L1 norm: 5.958.. Train Linf norm: 321.076.. Val Linf norm: 872.248\n",
            "Epoch 82/107.. Train loss: 2.619.. Val loss: 2.766.. Train L1 norm: 2.710.. Val L1 norm: 5.959.. Train Linf norm: 281.741.. Val Linf norm: 872.259\n",
            "Epoch 83/107.. Train loss: 2.627.. Val loss: 2.765.. Train L1 norm: 2.958.. Val L1 norm: 5.957.. Train Linf norm: 330.208.. Val Linf norm: 871.927\n",
            "Epoch 84/107.. Train loss: 2.617.. Val loss: 2.766.. Train L1 norm: 2.720.. Val L1 norm: 5.958.. Train Linf norm: 274.703.. Val Linf norm: 871.995\n",
            "Epoch 85/107.. Train loss: 2.636.. Val loss: 2.765.. Train L1 norm: 2.985.. Val L1 norm: 5.957.. Train Linf norm: 341.375.. Val Linf norm: 871.818\n",
            "Epoch 86/107.. Train loss: 2.616.. Val loss: 2.765.. Train L1 norm: 2.796.. Val L1 norm: 5.955.. Train Linf norm: 301.585.. Val Linf norm: 871.505\n",
            "Epoch 87/107.. Train loss: 2.621.. Val loss: 2.765.. Train L1 norm: 2.894.. Val L1 norm: 5.955.. Train Linf norm: 318.125.. Val Linf norm: 871.478\n",
            "Epoch 88/107.. Train loss: 2.628.. Val loss: 2.764.. Train L1 norm: 2.889.. Val L1 norm: 5.953.. Train Linf norm: 317.991.. Val Linf norm: 871.261\n",
            "Epoch 89/107.. Train loss: 2.633.. Val loss: 2.765.. Train L1 norm: 2.909.. Val L1 norm: 5.955.. Train Linf norm: 324.605.. Val Linf norm: 871.487\n",
            "Epoch 90/107.. Train loss: 2.629.. Val loss: 2.765.. Train L1 norm: 2.814.. Val L1 norm: 5.955.. Train Linf norm: 295.843.. Val Linf norm: 871.466\n",
            "Epoch 91/107.. Train loss: 2.634.. Val loss: 2.765.. Train L1 norm: 2.830.. Val L1 norm: 5.955.. Train Linf norm: 314.487.. Val Linf norm: 871.412\n",
            "Epoch 92/107.. Train loss: 2.620.. Val loss: 2.765.. Train L1 norm: 2.851.. Val L1 norm: 5.955.. Train Linf norm: 322.751.. Val Linf norm: 871.519\n",
            "Epoch 93/107.. Train loss: 2.621.. Val loss: 2.765.. Train L1 norm: 2.959.. Val L1 norm: 5.955.. Train Linf norm: 336.653.. Val Linf norm: 871.494\n",
            "Epoch 94/107.. Train loss: 2.630.. Val loss: 2.765.. Train L1 norm: 2.778.. Val L1 norm: 5.956.. Train Linf norm: 280.020.. Val Linf norm: 871.654\n",
            "Epoch 95/107.. Train loss: 2.638.. Val loss: 2.765.. Train L1 norm: 2.727.. Val L1 norm: 5.956.. Train Linf norm: 278.499.. Val Linf norm: 871.600\n",
            "Epoch 96/107.. Train loss: 2.631.. Val loss: 2.765.. Train L1 norm: 2.792.. Val L1 norm: 5.955.. Train Linf norm: 299.010.. Val Linf norm: 871.539\n",
            "Epoch 97/107.. Train loss: 2.617.. Val loss: 2.765.. Train L1 norm: 2.784.. Val L1 norm: 5.956.. Train Linf norm: 291.636.. Val Linf norm: 871.559\n",
            "Epoch 98/107.. Train loss: 2.628.. Val loss: 2.765.. Train L1 norm: 2.851.. Val L1 norm: 5.955.. Train Linf norm: 313.513.. Val Linf norm: 871.520\n",
            "Epoch 99/107.. Train loss: 2.647.. Val loss: 2.765.. Train L1 norm: 2.775.. Val L1 norm: 5.956.. Train Linf norm: 281.801.. Val Linf norm: 871.599\n",
            "Epoch 100/107.. Train loss: 2.633.. Val loss: 2.765.. Train L1 norm: 2.892.. Val L1 norm: 5.956.. Train Linf norm: 314.877.. Val Linf norm: 871.569\n",
            "Epoch 101/107.. Train loss: 2.623.. Val loss: 2.765.. Train L1 norm: 2.744.. Val L1 norm: 5.955.. Train Linf norm: 288.484.. Val Linf norm: 871.540\n",
            "Epoch 102/107.. Train loss: 2.630.. Val loss: 2.765.. Train L1 norm: 2.807.. Val L1 norm: 5.956.. Train Linf norm: 299.388.. Val Linf norm: 871.534\n",
            "Epoch 103/107.. Train loss: 2.633.. Val loss: 2.765.. Train L1 norm: 2.676.. Val L1 norm: 5.955.. Train Linf norm: 276.569.. Val Linf norm: 871.535\n",
            "Epoch 104/107.. Train loss: 2.617.. Val loss: 2.765.. Train L1 norm: 2.906.. Val L1 norm: 5.956.. Train Linf norm: 324.996.. Val Linf norm: 871.580\n",
            "Epoch 105/107.. Train loss: 2.650.. Val loss: 2.765.. Train L1 norm: 2.822.. Val L1 norm: 5.956.. Train Linf norm: 303.689.. Val Linf norm: 871.582\n",
            "Epoch 106/107.. Train loss: 2.634.. Val loss: 2.765.. Train L1 norm: 2.784.. Val L1 norm: 5.956.. Train Linf norm: 300.656.. Val Linf norm: 871.586\n"
          ]
        },
        {
          "output_type": "stream",
          "name": "stderr",
          "text": [
            "[I 2023-05-30 09:36:49,007] Trial 1 finished with value: 5.955898877398173 and parameters: {'n_layers': 10, 'n_units_0': 3289, 'n_units_1': 2829, 'n_units_2': 1393, 'n_units_3': 949, 'n_units_4': 3449, 'n_units_5': 1509, 'n_units_6': 410, 'n_units_7': 962, 'n_units_8': 253, 'n_units_9': 396, 'hidden_activation': 'Swish', 'output_activation': 'Linear', 'loss': 'MAE', 'optimizer': 'RMSprop', 'lr': 0.00017406672660067834, 'batch_size': 256, 'n_epochs': 107, 'scheduler': 'StepLR', 'dropout_rate': 0.37355407924507705, 'step_size': 9, 'gamma': 0.346481168144793}. Best is trial 0 with value: 5.821234536997477.\n"
          ]
        },
        {
          "output_type": "stream",
          "name": "stdout",
          "text": [
            "Epoch 107/107.. Train loss: 2.626.. Val loss: 2.765.. Train L1 norm: 2.885.. Val L1 norm: 5.956.. Train Linf norm: 317.428.. Val Linf norm: 871.615\n"
          ]
        },
        {
          "output_type": "stream",
          "name": "stderr",
          "text": [
            "<ipython-input-89-0c79a7da1449>:73: FutureWarning: suggest_uniform has been deprecated in v3.0.0. This feature will be removed in v6.0.0. See https://github.com/optuna/optuna/releases/tag/v3.0.0. Use suggest_float instead.\n",
            "  beta = trial.suggest_uniform(\"softplus_beta\", 0.5, 1.5)\n",
            "<ipython-input-89-0c79a7da1449>:149: FutureWarning: suggest_loguniform has been deprecated in v3.0.0. This feature will be removed in v6.0.0. See https://github.com/optuna/optuna/releases/tag/v3.0.0. Use suggest_float(..., log=True) instead.\n",
            "  weight_decay = trial.suggest_loguniform(\"weight_decay\", 1e-5, 1e-2)\n",
            "<ipython-input-89-0c79a7da1449>:150: FutureWarning: suggest_uniform has been deprecated in v3.0.0. This feature will be removed in v6.0.0. See https://github.com/optuna/optuna/releases/tag/v3.0.0. Use suggest_float instead.\n",
            "  beta1 = trial.suggest_uniform(\"beta1\", 0.9, 0.999)\n",
            "<ipython-input-89-0c79a7da1449>:151: FutureWarning: suggest_uniform has been deprecated in v3.0.0. This feature will be removed in v6.0.0. See https://github.com/optuna/optuna/releases/tag/v3.0.0. Use suggest_float instead.\n",
            "  beta2 = trial.suggest_uniform(\"beta2\", 0.999, 0.9999)\n"
          ]
        },
        {
          "output_type": "stream",
          "name": "stdout",
          "text": [
            "Epoch 1/67.. Train loss: 2.259.. Val loss: 2.214.. Train L1 norm: 4.839.. Val L1 norm: 3.919.. Train Linf norm: 2468.916.. Val Linf norm: 2775.580\n",
            "Epoch 2/67.. Train loss: 2.199.. Val loss: 2.161.. Train L1 norm: 4.543.. Val L1 norm: 7.084.. Train Linf norm: 2076.390.. Val Linf norm: 5440.570\n",
            "Epoch 3/67.. Train loss: 2.195.. Val loss: 2.159.. Train L1 norm: 4.967.. Val L1 norm: 5.434.. Train Linf norm: 2369.391.. Val Linf norm: 4070.043\n",
            "Epoch 4/67.. Train loss: 2.165.. Val loss: 2.155.. Train L1 norm: 4.266.. Val L1 norm: 5.771.. Train Linf norm: 1991.515.. Val Linf norm: 4352.208\n",
            "Epoch 5/67.. Train loss: 2.164.. Val loss: 2.154.. Train L1 norm: 4.878.. Val L1 norm: 6.435.. Train Linf norm: 2106.714.. Val Linf norm: 4904.677\n",
            "Epoch 6/67.. Train loss: 2.154.. Val loss: 2.153.. Train L1 norm: 4.824.. Val L1 norm: 5.903.. Train Linf norm: 2158.804.. Val Linf norm: 4462.313\n",
            "Epoch 7/67.. Train loss: 2.151.. Val loss: 2.154.. Train L1 norm: 4.458.. Val L1 norm: 5.786.. Train Linf norm: 2018.293.. Val Linf norm: 4364.108\n",
            "Epoch 8/67.. Train loss: 2.159.. Val loss: 2.152.. Train L1 norm: 4.744.. Val L1 norm: 6.210.. Train Linf norm: 2198.065.. Val Linf norm: 4717.014\n",
            "Epoch 9/67.. Train loss: 2.154.. Val loss: 2.153.. Train L1 norm: 4.670.. Val L1 norm: 5.906.. Train Linf norm: 2041.722.. Val Linf norm: 4463.823\n",
            "Epoch 10/67.. Train loss: 2.149.. Val loss: 2.152.. Train L1 norm: 4.672.. Val L1 norm: 6.092.. Train Linf norm: 2175.333.. Val Linf norm: 4618.495\n",
            "Epoch 11/67.. Train loss: 2.152.. Val loss: 2.151.. Train L1 norm: 4.790.. Val L1 norm: 6.065.. Train Linf norm: 2217.434.. Val Linf norm: 4595.989\n",
            "Epoch 12/67.. Train loss: 2.152.. Val loss: 2.152.. Train L1 norm: 4.728.. Val L1 norm: 5.958.. Train Linf norm: 2038.495.. Val Linf norm: 4506.185\n",
            "Epoch 13/67.. Train loss: 2.151.. Val loss: 2.152.. Train L1 norm: 4.685.. Val L1 norm: 5.914.. Train Linf norm: 2150.397.. Val Linf norm: 4469.796\n",
            "Epoch 14/67.. Train loss: 2.150.. Val loss: 2.151.. Train L1 norm: 4.673.. Val L1 norm: 6.026.. Train Linf norm: 2066.668.. Val Linf norm: 4562.720\n",
            "Epoch 15/67.. Train loss: 2.149.. Val loss: 2.151.. Train L1 norm: 4.730.. Val L1 norm: 6.092.. Train Linf norm: 2122.868.. Val Linf norm: 4617.303\n",
            "Epoch 16/67.. Train loss: 2.148.. Val loss: 2.151.. Train L1 norm: 4.748.. Val L1 norm: 6.034.. Train Linf norm: 2170.607.. Val Linf norm: 4568.519\n",
            "Epoch 17/67.. Train loss: 2.149.. Val loss: 2.151.. Train L1 norm: 4.674.. Val L1 norm: 5.972.. Train Linf norm: 2151.650.. Val Linf norm: 4517.212\n",
            "Epoch 18/67.. Train loss: 2.150.. Val loss: 2.151.. Train L1 norm: 4.661.. Val L1 norm: 5.988.. Train Linf norm: 2051.916.. Val Linf norm: 4529.617\n",
            "Epoch 19/67.. Train loss: 2.147.. Val loss: 2.150.. Train L1 norm: 4.699.. Val L1 norm: 6.027.. Train Linf norm: 2156.177.. Val Linf norm: 4561.507\n",
            "Epoch 20/67.. Train loss: 2.143.. Val loss: 2.150.. Train L1 norm: 4.717.. Val L1 norm: 6.067.. Train Linf norm: 2150.927.. Val Linf norm: 4594.024\n",
            "Epoch 21/67.. Train loss: 2.145.. Val loss: 2.149.. Train L1 norm: 4.766.. Val L1 norm: 6.062.. Train Linf norm: 2134.843.. Val Linf norm: 4589.579\n",
            "Epoch 22/67.. Train loss: 2.143.. Val loss: 2.149.. Train L1 norm: 4.694.. Val L1 norm: 6.048.. Train Linf norm: 1935.955.. Val Linf norm: 4577.904\n",
            "Epoch 23/67.. Train loss: 2.145.. Val loss: 2.149.. Train L1 norm: 4.745.. Val L1 norm: 6.053.. Train Linf norm: 2091.798.. Val Linf norm: 4581.502\n",
            "Epoch 24/67.. Train loss: 2.148.. Val loss: 2.149.. Train L1 norm: 4.774.. Val L1 norm: 6.034.. Train Linf norm: 2152.430.. Val Linf norm: 4565.330\n",
            "Epoch 25/67.. Train loss: 2.148.. Val loss: 2.149.. Train L1 norm: 4.717.. Val L1 norm: 5.989.. Train Linf norm: 2047.056.. Val Linf norm: 4527.612\n",
            "Epoch 26/67.. Train loss: 2.144.. Val loss: 2.148.. Train L1 norm: 4.632.. Val L1 norm: 5.953.. Train Linf norm: 2080.230.. Val Linf norm: 4497.374\n",
            "Epoch 27/67.. Train loss: 2.143.. Val loss: 2.148.. Train L1 norm: 4.670.. Val L1 norm: 5.965.. Train Linf norm: 2111.267.. Val Linf norm: 4506.852\n",
            "Epoch 28/67.. Train loss: 2.144.. Val loss: 2.148.. Train L1 norm: 4.667.. Val L1 norm: 5.969.. Train Linf norm: 2198.294.. Val Linf norm: 4509.809\n",
            "Epoch 29/67.. Train loss: 2.141.. Val loss: 2.147.. Train L1 norm: 4.702.. Val L1 norm: 5.993.. Train Linf norm: 2153.713.. Val Linf norm: 4529.528\n",
            "Epoch 30/67.. Train loss: 2.142.. Val loss: 2.147.. Train L1 norm: 4.691.. Val L1 norm: 6.036.. Train Linf norm: 2030.939.. Val Linf norm: 4564.603\n",
            "Epoch 31/67.. Train loss: 2.142.. Val loss: 2.147.. Train L1 norm: 4.752.. Val L1 norm: 6.043.. Train Linf norm: 2160.926.. Val Linf norm: 4570.498\n",
            "Epoch 32/67.. Train loss: 2.145.. Val loss: 2.147.. Train L1 norm: 4.691.. Val L1 norm: 6.035.. Train Linf norm: 2058.409.. Val Linf norm: 4563.918\n",
            "Epoch 33/67.. Train loss: 2.144.. Val loss: 2.147.. Train L1 norm: 4.737.. Val L1 norm: 6.029.. Train Linf norm: 2078.979.. Val Linf norm: 4558.198\n",
            "Epoch 34/67.. Train loss: 2.142.. Val loss: 2.146.. Train L1 norm: 4.683.. Val L1 norm: 6.018.. Train Linf norm: 2086.486.. Val Linf norm: 4549.337\n",
            "Epoch 35/67.. Train loss: 2.142.. Val loss: 2.146.. Train L1 norm: 4.700.. Val L1 norm: 6.021.. Train Linf norm: 2080.814.. Val Linf norm: 4551.614\n",
            "Epoch 36/67.. Train loss: 2.140.. Val loss: 2.146.. Train L1 norm: 4.700.. Val L1 norm: 6.014.. Train Linf norm: 2005.872.. Val Linf norm: 4545.504\n",
            "Epoch 37/67.. Train loss: 2.141.. Val loss: 2.146.. Train L1 norm: 4.681.. Val L1 norm: 6.015.. Train Linf norm: 2006.772.. Val Linf norm: 4545.984\n",
            "Epoch 38/67.. Train loss: 2.142.. Val loss: 2.146.. Train L1 norm: 4.712.. Val L1 norm: 6.021.. Train Linf norm: 2187.754.. Val Linf norm: 4550.237\n",
            "Epoch 39/67.. Train loss: 2.141.. Val loss: 2.146.. Train L1 norm: 4.755.. Val L1 norm: 6.019.. Train Linf norm: 2028.303.. Val Linf norm: 4548.417\n",
            "Epoch 40/67.. Train loss: 2.141.. Val loss: 2.146.. Train L1 norm: 4.673.. Val L1 norm: 6.015.. Train Linf norm: 2038.237.. Val Linf norm: 4544.822\n",
            "Epoch 41/67.. Train loss: 2.145.. Val loss: 2.146.. Train L1 norm: 4.737.. Val L1 norm: 6.012.. Train Linf norm: 2108.923.. Val Linf norm: 4542.921\n",
            "Epoch 42/67.. Train loss: 2.142.. Val loss: 2.146.. Train L1 norm: 4.700.. Val L1 norm: 6.009.. Train Linf norm: 2203.691.. Val Linf norm: 4540.420\n",
            "Epoch 43/67.. Train loss: 2.144.. Val loss: 2.145.. Train L1 norm: 4.692.. Val L1 norm: 6.008.. Train Linf norm: 2137.263.. Val Linf norm: 4538.789\n",
            "Epoch 44/67.. Train loss: 2.140.. Val loss: 2.145.. Train L1 norm: 4.685.. Val L1 norm: 6.003.. Train Linf norm: 2188.260.. Val Linf norm: 4534.797\n",
            "Epoch 45/67.. Train loss: 2.143.. Val loss: 2.145.. Train L1 norm: 4.701.. Val L1 norm: 6.000.. Train Linf norm: 2058.562.. Val Linf norm: 4532.082\n",
            "Epoch 46/67.. Train loss: 2.141.. Val loss: 2.145.. Train L1 norm: 4.723.. Val L1 norm: 5.998.. Train Linf norm: 2089.080.. Val Linf norm: 4530.591\n",
            "Epoch 47/67.. Train loss: 2.139.. Val loss: 2.145.. Train L1 norm: 4.721.. Val L1 norm: 5.994.. Train Linf norm: 2104.567.. Val Linf norm: 4527.003\n",
            "Epoch 48/67.. Train loss: 2.141.. Val loss: 2.145.. Train L1 norm: 4.768.. Val L1 norm: 5.991.. Train Linf norm: 2202.845.. Val Linf norm: 4524.925\n",
            "Epoch 49/67.. Train loss: 2.140.. Val loss: 2.145.. Train L1 norm: 4.690.. Val L1 norm: 5.989.. Train Linf norm: 1974.999.. Val Linf norm: 4523.279\n",
            "Epoch 50/67.. Train loss: 2.144.. Val loss: 2.145.. Train L1 norm: 4.713.. Val L1 norm: 5.990.. Train Linf norm: 2231.363.. Val Linf norm: 4523.857\n",
            "Epoch 51/67.. Train loss: 2.140.. Val loss: 2.145.. Train L1 norm: 4.732.. Val L1 norm: 5.990.. Train Linf norm: 2069.297.. Val Linf norm: 4523.738\n",
            "Epoch 52/67.. Train loss: 2.140.. Val loss: 2.145.. Train L1 norm: 4.674.. Val L1 norm: 5.990.. Train Linf norm: 2128.496.. Val Linf norm: 4523.341\n",
            "Epoch 53/67.. Train loss: 2.141.. Val loss: 2.145.. Train L1 norm: 4.673.. Val L1 norm: 5.989.. Train Linf norm: 2192.670.. Val Linf norm: 4522.944\n",
            "Epoch 54/67.. Train loss: 2.138.. Val loss: 2.145.. Train L1 norm: 4.708.. Val L1 norm: 5.989.. Train Linf norm: 1989.723.. Val Linf norm: 4522.566\n",
            "Epoch 55/67.. Train loss: 2.139.. Val loss: 2.145.. Train L1 norm: 4.716.. Val L1 norm: 5.989.. Train Linf norm: 2080.923.. Val Linf norm: 4522.489\n",
            "Epoch 56/67.. Train loss: 2.141.. Val loss: 2.145.. Train L1 norm: 4.705.. Val L1 norm: 5.988.. Train Linf norm: 2143.244.. Val Linf norm: 4522.202\n",
            "Epoch 57/67.. Train loss: 2.139.. Val loss: 2.145.. Train L1 norm: 4.687.. Val L1 norm: 5.988.. Train Linf norm: 2223.688.. Val Linf norm: 4522.092\n",
            "Epoch 58/67.. Train loss: 2.142.. Val loss: 2.145.. Train L1 norm: 4.707.. Val L1 norm: 5.988.. Train Linf norm: 2169.932.. Val Linf norm: 4521.603\n",
            "Epoch 59/67.. Train loss: 2.145.. Val loss: 2.145.. Train L1 norm: 4.701.. Val L1 norm: 5.987.. Train Linf norm: 2082.936.. Val Linf norm: 4520.828\n",
            "Epoch 60/67.. Train loss: 2.140.. Val loss: 2.145.. Train L1 norm: 4.708.. Val L1 norm: 5.987.. Train Linf norm: 2034.544.. Val Linf norm: 4520.897\n",
            "Epoch 61/67.. Train loss: 2.144.. Val loss: 2.145.. Train L1 norm: 4.701.. Val L1 norm: 5.987.. Train Linf norm: 2122.178.. Val Linf norm: 4520.917\n",
            "Epoch 62/67.. Train loss: 2.138.. Val loss: 2.145.. Train L1 norm: 4.708.. Val L1 norm: 5.987.. Train Linf norm: 2108.050.. Val Linf norm: 4520.919\n",
            "Epoch 63/67.. Train loss: 2.143.. Val loss: 2.145.. Train L1 norm: 4.690.. Val L1 norm: 5.987.. Train Linf norm: 2036.741.. Val Linf norm: 4520.835\n",
            "Epoch 64/67.. Train loss: 2.140.. Val loss: 2.145.. Train L1 norm: 4.715.. Val L1 norm: 5.987.. Train Linf norm: 2020.842.. Val Linf norm: 4520.706\n",
            "Epoch 65/67.. Train loss: 2.140.. Val loss: 2.145.. Train L1 norm: 4.683.. Val L1 norm: 5.987.. Train Linf norm: 2161.589.. Val Linf norm: 4520.913\n",
            "Epoch 66/67.. Train loss: 2.141.. Val loss: 2.145.. Train L1 norm: 4.724.. Val L1 norm: 5.987.. Train Linf norm: 2195.770.. Val Linf norm: 4520.960\n"
          ]
        },
        {
          "output_type": "stream",
          "name": "stderr",
          "text": [
            "[I 2023-05-30 09:40:57,196] Trial 2 finished with value: 5.987422829182942 and parameters: {'n_layers': 9, 'n_units_0': 1253, 'n_units_1': 236, 'n_units_2': 2820, 'n_units_3': 1495, 'n_units_4': 2555, 'n_units_5': 389, 'n_units_6': 2562, 'n_units_7': 3501, 'n_units_8': 426, 'hidden_activation': 'SoftPlus', 'output_activation': 'Linear', 'loss': 'Quantile', 'optimizer': 'Adam', 'lr': 2.6624338211021666e-05, 'batch_size': 2048, 'n_epochs': 67, 'scheduler': 'StepLR', 'softplus_beta': 0.7781429449461149, 'dropout_rate': 0.3724490518695611, 'weight_decay': 0.0014962468566288214, 'beta1': 0.984768391272684, 'beta2': 0.9998742289586127, 'step_size': 10, 'gamma': 0.3029835962868265}. Best is trial 0 with value: 5.821234536997477.\n"
          ]
        },
        {
          "output_type": "stream",
          "name": "stdout",
          "text": [
            "Epoch 67/67.. Train loss: 2.141.. Val loss: 2.145.. Train L1 norm: 4.706.. Val L1 norm: 5.987.. Train Linf norm: 2067.922.. Val Linf norm: 4521.230\n"
          ]
        },
        {
          "output_type": "stream",
          "name": "stderr",
          "text": [
            "<ipython-input-89-0c79a7da1449>:58: FutureWarning: suggest_uniform has been deprecated in v3.0.0. This feature will be removed in v6.0.0. See https://github.com/optuna/optuna/releases/tag/v3.0.0. Use suggest_float instead.\n",
            "  negative_slope = trial.suggest_uniform(\"leakyrelu_slope\", 0.01, 0.3)\n",
            "<ipython-input-89-0c79a7da1449>:145: FutureWarning: suggest_loguniform has been deprecated in v3.0.0. This feature will be removed in v6.0.0. See https://github.com/optuna/optuna/releases/tag/v3.0.0. Use suggest_float(..., log=True) instead.\n",
            "  weight_decay = trial.suggest_loguniform(\"weight_decay\", 1e-5, 1e-2)\n",
            "<ipython-input-89-0c79a7da1449>:146: FutureWarning: suggest_uniform has been deprecated in v3.0.0. This feature will be removed in v6.0.0. See https://github.com/optuna/optuna/releases/tag/v3.0.0. Use suggest_float instead.\n",
            "  momentum = trial.suggest_uniform(\"momentum\", 0.0, 0.99)\n",
            "<ipython-input-89-0c79a7da1449>:178: FutureWarning: suggest_uniform has been deprecated in v3.0.0. This feature will be removed in v6.0.0. See https://github.com/optuna/optuna/releases/tag/v3.0.0. Use suggest_float instead.\n",
            "  factor = trial.suggest_uniform(\"factor\", 0.1, 0.5)\n",
            "<ipython-input-89-0c79a7da1449>:180: FutureWarning: suggest_loguniform has been deprecated in v3.0.0. This feature will be removed in v6.0.0. See https://github.com/optuna/optuna/releases/tag/v3.0.0. Use suggest_float(..., log=True) instead.\n",
            "  threshold = trial.suggest_loguniform(\"threshold\", 1e-4, 1e-2)\n"
          ]
        },
        {
          "output_type": "stream",
          "name": "stdout",
          "text": [
            "Epoch 1/71.. Train loss: 150.575.. Val loss: 4.340.. Train L1 norm: 127.672.. Val L1 norm: 4.922.. Train Linf norm: 12763.073.. Val Linf norm: 659.785\n",
            "Epoch 2/71.. Train loss: 77.081.. Val loss: 3.877.. Train L1 norm: 64.174.. Val L1 norm: 4.475.. Train Linf norm: 6694.962.. Val Linf norm: 619.216\n",
            "Epoch 3/71.. Train loss: 115.844.. Val loss: 104.586.. Train L1 norm: 110.589.. Val L1 norm: 71.180.. Train Linf norm: 8955.236.. Val Linf norm: 10068.862\n"
          ]
        },
        {
          "output_type": "stream",
          "name": "stderr",
          "text": [
            "WARNING:tensorboardX.x2num:NaN or Inf found in input tensor.\n",
            "WARNING:tensorboardX.x2num:NaN or Inf found in input tensor.\n",
            "WARNING:tensorboardX.x2num:NaN or Inf found in input tensor.\n",
            "WARNING:tensorboardX.x2num:NaN or Inf found in input tensor.\n",
            "WARNING:tensorboardX.x2num:NaN or Inf found in input tensor.\n",
            "WARNING:tensorboardX.x2num:NaN or Inf found in input tensor.\n"
          ]
        },
        {
          "output_type": "stream",
          "name": "stdout",
          "text": [
            "Epoch 4/71.. Train loss: nan.. Val loss: nan.. Train L1 norm: nan.. Val L1 norm: nan.. Train Linf norm: nan.. Val Linf norm: nan\n"
          ]
        },
        {
          "output_type": "stream",
          "name": "stderr",
          "text": [
            "WARNING:tensorboardX.x2num:NaN or Inf found in input tensor.\n",
            "WARNING:tensorboardX.x2num:NaN or Inf found in input tensor.\n",
            "WARNING:tensorboardX.x2num:NaN or Inf found in input tensor.\n",
            "WARNING:tensorboardX.x2num:NaN or Inf found in input tensor.\n",
            "WARNING:tensorboardX.x2num:NaN or Inf found in input tensor.\n",
            "WARNING:tensorboardX.x2num:NaN or Inf found in input tensor.\n"
          ]
        },
        {
          "output_type": "stream",
          "name": "stdout",
          "text": [
            "Epoch 5/71.. Train loss: nan.. Val loss: nan.. Train L1 norm: nan.. Val L1 norm: nan.. Train Linf norm: nan.. Val Linf norm: nan\n"
          ]
        },
        {
          "output_type": "stream",
          "name": "stderr",
          "text": [
            "WARNING:tensorboardX.x2num:NaN or Inf found in input tensor.\n",
            "WARNING:tensorboardX.x2num:NaN or Inf found in input tensor.\n",
            "WARNING:tensorboardX.x2num:NaN or Inf found in input tensor.\n",
            "WARNING:tensorboardX.x2num:NaN or Inf found in input tensor.\n",
            "WARNING:tensorboardX.x2num:NaN or Inf found in input tensor.\n",
            "WARNING:tensorboardX.x2num:NaN or Inf found in input tensor.\n"
          ]
        },
        {
          "output_type": "stream",
          "name": "stdout",
          "text": [
            "Epoch 6/71.. Train loss: nan.. Val loss: nan.. Train L1 norm: nan.. Val L1 norm: nan.. Train Linf norm: nan.. Val Linf norm: nan\n"
          ]
        },
        {
          "output_type": "stream",
          "name": "stderr",
          "text": [
            "WARNING:tensorboardX.x2num:NaN or Inf found in input tensor.\n",
            "WARNING:tensorboardX.x2num:NaN or Inf found in input tensor.\n",
            "WARNING:tensorboardX.x2num:NaN or Inf found in input tensor.\n",
            "WARNING:tensorboardX.x2num:NaN or Inf found in input tensor.\n",
            "WARNING:tensorboardX.x2num:NaN or Inf found in input tensor.\n",
            "WARNING:tensorboardX.x2num:NaN or Inf found in input tensor.\n"
          ]
        },
        {
          "output_type": "stream",
          "name": "stdout",
          "text": [
            "Epoch 7/71.. Train loss: nan.. Val loss: nan.. Train L1 norm: nan.. Val L1 norm: nan.. Train Linf norm: nan.. Val Linf norm: nan\n"
          ]
        },
        {
          "output_type": "stream",
          "name": "stderr",
          "text": [
            "WARNING:tensorboardX.x2num:NaN or Inf found in input tensor.\n",
            "WARNING:tensorboardX.x2num:NaN or Inf found in input tensor.\n",
            "WARNING:tensorboardX.x2num:NaN or Inf found in input tensor.\n",
            "WARNING:tensorboardX.x2num:NaN or Inf found in input tensor.\n",
            "WARNING:tensorboardX.x2num:NaN or Inf found in input tensor.\n",
            "WARNING:tensorboardX.x2num:NaN or Inf found in input tensor.\n"
          ]
        },
        {
          "output_type": "stream",
          "name": "stdout",
          "text": [
            "Epoch 8/71.. Train loss: nan.. Val loss: nan.. Train L1 norm: nan.. Val L1 norm: nan.. Train Linf norm: nan.. Val Linf norm: nan\n"
          ]
        },
        {
          "output_type": "stream",
          "name": "stderr",
          "text": [
            "WARNING:tensorboardX.x2num:NaN or Inf found in input tensor.\n",
            "WARNING:tensorboardX.x2num:NaN or Inf found in input tensor.\n",
            "WARNING:tensorboardX.x2num:NaN or Inf found in input tensor.\n",
            "WARNING:tensorboardX.x2num:NaN or Inf found in input tensor.\n",
            "WARNING:tensorboardX.x2num:NaN or Inf found in input tensor.\n",
            "WARNING:tensorboardX.x2num:NaN or Inf found in input tensor.\n"
          ]
        },
        {
          "output_type": "stream",
          "name": "stdout",
          "text": [
            "Epoch 9/71.. Train loss: nan.. Val loss: nan.. Train L1 norm: nan.. Val L1 norm: nan.. Train Linf norm: nan.. Val Linf norm: nan\n"
          ]
        },
        {
          "output_type": "stream",
          "name": "stderr",
          "text": [
            "WARNING:tensorboardX.x2num:NaN or Inf found in input tensor.\n",
            "WARNING:tensorboardX.x2num:NaN or Inf found in input tensor.\n",
            "WARNING:tensorboardX.x2num:NaN or Inf found in input tensor.\n",
            "WARNING:tensorboardX.x2num:NaN or Inf found in input tensor.\n",
            "WARNING:tensorboardX.x2num:NaN or Inf found in input tensor.\n",
            "WARNING:tensorboardX.x2num:NaN or Inf found in input tensor.\n"
          ]
        },
        {
          "output_type": "stream",
          "name": "stdout",
          "text": [
            "Epoch 10/71.. Train loss: nan.. Val loss: nan.. Train L1 norm: nan.. Val L1 norm: nan.. Train Linf norm: nan.. Val Linf norm: nan\n"
          ]
        },
        {
          "output_type": "stream",
          "name": "stderr",
          "text": [
            "WARNING:tensorboardX.x2num:NaN or Inf found in input tensor.\n",
            "WARNING:tensorboardX.x2num:NaN or Inf found in input tensor.\n",
            "WARNING:tensorboardX.x2num:NaN or Inf found in input tensor.\n",
            "WARNING:tensorboardX.x2num:NaN or Inf found in input tensor.\n",
            "WARNING:tensorboardX.x2num:NaN or Inf found in input tensor.\n",
            "WARNING:tensorboardX.x2num:NaN or Inf found in input tensor.\n"
          ]
        },
        {
          "output_type": "stream",
          "name": "stdout",
          "text": [
            "Epoch 11/71.. Train loss: nan.. Val loss: nan.. Train L1 norm: nan.. Val L1 norm: nan.. Train Linf norm: nan.. Val Linf norm: nan\n"
          ]
        },
        {
          "output_type": "stream",
          "name": "stderr",
          "text": [
            "WARNING:tensorboardX.x2num:NaN or Inf found in input tensor.\n",
            "WARNING:tensorboardX.x2num:NaN or Inf found in input tensor.\n",
            "WARNING:tensorboardX.x2num:NaN or Inf found in input tensor.\n",
            "WARNING:tensorboardX.x2num:NaN or Inf found in input tensor.\n",
            "WARNING:tensorboardX.x2num:NaN or Inf found in input tensor.\n",
            "WARNING:tensorboardX.x2num:NaN or Inf found in input tensor.\n"
          ]
        },
        {
          "output_type": "stream",
          "name": "stdout",
          "text": [
            "Epoch 12/71.. Train loss: nan.. Val loss: nan.. Train L1 norm: nan.. Val L1 norm: nan.. Train Linf norm: nan.. Val Linf norm: nan\n"
          ]
        },
        {
          "output_type": "stream",
          "name": "stderr",
          "text": [
            "WARNING:tensorboardX.x2num:NaN or Inf found in input tensor.\n",
            "WARNING:tensorboardX.x2num:NaN or Inf found in input tensor.\n",
            "WARNING:tensorboardX.x2num:NaN or Inf found in input tensor.\n",
            "WARNING:tensorboardX.x2num:NaN or Inf found in input tensor.\n",
            "WARNING:tensorboardX.x2num:NaN or Inf found in input tensor.\n",
            "WARNING:tensorboardX.x2num:NaN or Inf found in input tensor.\n"
          ]
        },
        {
          "output_type": "stream",
          "name": "stdout",
          "text": [
            "Epoch 13/71.. Train loss: nan.. Val loss: nan.. Train L1 norm: nan.. Val L1 norm: nan.. Train Linf norm: nan.. Val Linf norm: nan\n"
          ]
        },
        {
          "output_type": "stream",
          "name": "stderr",
          "text": [
            "WARNING:tensorboardX.x2num:NaN or Inf found in input tensor.\n",
            "WARNING:tensorboardX.x2num:NaN or Inf found in input tensor.\n",
            "WARNING:tensorboardX.x2num:NaN or Inf found in input tensor.\n",
            "WARNING:tensorboardX.x2num:NaN or Inf found in input tensor.\n",
            "WARNING:tensorboardX.x2num:NaN or Inf found in input tensor.\n",
            "WARNING:tensorboardX.x2num:NaN or Inf found in input tensor.\n"
          ]
        },
        {
          "output_type": "stream",
          "name": "stdout",
          "text": [
            "Epoch 14/71.. Train loss: nan.. Val loss: nan.. Train L1 norm: nan.. Val L1 norm: nan.. Train Linf norm: nan.. Val Linf norm: nan\n"
          ]
        },
        {
          "output_type": "stream",
          "name": "stderr",
          "text": [
            "WARNING:tensorboardX.x2num:NaN or Inf found in input tensor.\n",
            "WARNING:tensorboardX.x2num:NaN or Inf found in input tensor.\n",
            "WARNING:tensorboardX.x2num:NaN or Inf found in input tensor.\n",
            "WARNING:tensorboardX.x2num:NaN or Inf found in input tensor.\n",
            "WARNING:tensorboardX.x2num:NaN or Inf found in input tensor.\n",
            "WARNING:tensorboardX.x2num:NaN or Inf found in input tensor.\n"
          ]
        },
        {
          "output_type": "stream",
          "name": "stdout",
          "text": [
            "Epoch 15/71.. Train loss: nan.. Val loss: nan.. Train L1 norm: nan.. Val L1 norm: nan.. Train Linf norm: nan.. Val Linf norm: nan\n"
          ]
        },
        {
          "output_type": "stream",
          "name": "stderr",
          "text": [
            "WARNING:tensorboardX.x2num:NaN or Inf found in input tensor.\n",
            "WARNING:tensorboardX.x2num:NaN or Inf found in input tensor.\n",
            "WARNING:tensorboardX.x2num:NaN or Inf found in input tensor.\n",
            "WARNING:tensorboardX.x2num:NaN or Inf found in input tensor.\n",
            "WARNING:tensorboardX.x2num:NaN or Inf found in input tensor.\n",
            "WARNING:tensorboardX.x2num:NaN or Inf found in input tensor.\n"
          ]
        },
        {
          "output_type": "stream",
          "name": "stdout",
          "text": [
            "Epoch 16/71.. Train loss: nan.. Val loss: nan.. Train L1 norm: nan.. Val L1 norm: nan.. Train Linf norm: nan.. Val Linf norm: nan\n"
          ]
        },
        {
          "output_type": "stream",
          "name": "stderr",
          "text": [
            "WARNING:tensorboardX.x2num:NaN or Inf found in input tensor.\n",
            "WARNING:tensorboardX.x2num:NaN or Inf found in input tensor.\n",
            "WARNING:tensorboardX.x2num:NaN or Inf found in input tensor.\n",
            "WARNING:tensorboardX.x2num:NaN or Inf found in input tensor.\n",
            "WARNING:tensorboardX.x2num:NaN or Inf found in input tensor.\n",
            "WARNING:tensorboardX.x2num:NaN or Inf found in input tensor.\n"
          ]
        },
        {
          "output_type": "stream",
          "name": "stdout",
          "text": [
            "Epoch 17/71.. Train loss: nan.. Val loss: nan.. Train L1 norm: nan.. Val L1 norm: nan.. Train Linf norm: nan.. Val Linf norm: nan\n"
          ]
        },
        {
          "output_type": "stream",
          "name": "stderr",
          "text": [
            "WARNING:tensorboardX.x2num:NaN or Inf found in input tensor.\n",
            "WARNING:tensorboardX.x2num:NaN or Inf found in input tensor.\n",
            "WARNING:tensorboardX.x2num:NaN or Inf found in input tensor.\n",
            "WARNING:tensorboardX.x2num:NaN or Inf found in input tensor.\n",
            "WARNING:tensorboardX.x2num:NaN or Inf found in input tensor.\n",
            "WARNING:tensorboardX.x2num:NaN or Inf found in input tensor.\n"
          ]
        },
        {
          "output_type": "stream",
          "name": "stdout",
          "text": [
            "Epoch 18/71.. Train loss: nan.. Val loss: nan.. Train L1 norm: nan.. Val L1 norm: nan.. Train Linf norm: nan.. Val Linf norm: nan\n"
          ]
        },
        {
          "output_type": "stream",
          "name": "stderr",
          "text": [
            "WARNING:tensorboardX.x2num:NaN or Inf found in input tensor.\n",
            "WARNING:tensorboardX.x2num:NaN or Inf found in input tensor.\n",
            "WARNING:tensorboardX.x2num:NaN or Inf found in input tensor.\n",
            "WARNING:tensorboardX.x2num:NaN or Inf found in input tensor.\n",
            "WARNING:tensorboardX.x2num:NaN or Inf found in input tensor.\n",
            "WARNING:tensorboardX.x2num:NaN or Inf found in input tensor.\n"
          ]
        },
        {
          "output_type": "stream",
          "name": "stdout",
          "text": [
            "Epoch 19/71.. Train loss: nan.. Val loss: nan.. Train L1 norm: nan.. Val L1 norm: nan.. Train Linf norm: nan.. Val Linf norm: nan\n"
          ]
        },
        {
          "output_type": "stream",
          "name": "stderr",
          "text": [
            "WARNING:tensorboardX.x2num:NaN or Inf found in input tensor.\n",
            "WARNING:tensorboardX.x2num:NaN or Inf found in input tensor.\n",
            "WARNING:tensorboardX.x2num:NaN or Inf found in input tensor.\n",
            "WARNING:tensorboardX.x2num:NaN or Inf found in input tensor.\n",
            "WARNING:tensorboardX.x2num:NaN or Inf found in input tensor.\n",
            "WARNING:tensorboardX.x2num:NaN or Inf found in input tensor.\n"
          ]
        },
        {
          "output_type": "stream",
          "name": "stdout",
          "text": [
            "Epoch 20/71.. Train loss: nan.. Val loss: nan.. Train L1 norm: nan.. Val L1 norm: nan.. Train Linf norm: nan.. Val Linf norm: nan\n"
          ]
        },
        {
          "output_type": "stream",
          "name": "stderr",
          "text": [
            "WARNING:tensorboardX.x2num:NaN or Inf found in input tensor.\n",
            "WARNING:tensorboardX.x2num:NaN or Inf found in input tensor.\n",
            "WARNING:tensorboardX.x2num:NaN or Inf found in input tensor.\n",
            "WARNING:tensorboardX.x2num:NaN or Inf found in input tensor.\n",
            "WARNING:tensorboardX.x2num:NaN or Inf found in input tensor.\n",
            "WARNING:tensorboardX.x2num:NaN or Inf found in input tensor.\n"
          ]
        },
        {
          "output_type": "stream",
          "name": "stdout",
          "text": [
            "Epoch 21/71.. Train loss: nan.. Val loss: nan.. Train L1 norm: nan.. Val L1 norm: nan.. Train Linf norm: nan.. Val Linf norm: nan\n"
          ]
        },
        {
          "output_type": "stream",
          "name": "stderr",
          "text": [
            "WARNING:tensorboardX.x2num:NaN or Inf found in input tensor.\n",
            "WARNING:tensorboardX.x2num:NaN or Inf found in input tensor.\n",
            "WARNING:tensorboardX.x2num:NaN or Inf found in input tensor.\n",
            "WARNING:tensorboardX.x2num:NaN or Inf found in input tensor.\n",
            "WARNING:tensorboardX.x2num:NaN or Inf found in input tensor.\n",
            "WARNING:tensorboardX.x2num:NaN or Inf found in input tensor.\n"
          ]
        },
        {
          "output_type": "stream",
          "name": "stdout",
          "text": [
            "Epoch 22/71.. Train loss: nan.. Val loss: nan.. Train L1 norm: nan.. Val L1 norm: nan.. Train Linf norm: nan.. Val Linf norm: nan\n"
          ]
        },
        {
          "output_type": "stream",
          "name": "stderr",
          "text": [
            "WARNING:tensorboardX.x2num:NaN or Inf found in input tensor.\n",
            "WARNING:tensorboardX.x2num:NaN or Inf found in input tensor.\n",
            "WARNING:tensorboardX.x2num:NaN or Inf found in input tensor.\n",
            "WARNING:tensorboardX.x2num:NaN or Inf found in input tensor.\n",
            "WARNING:tensorboardX.x2num:NaN or Inf found in input tensor.\n",
            "WARNING:tensorboardX.x2num:NaN or Inf found in input tensor.\n"
          ]
        },
        {
          "output_type": "stream",
          "name": "stdout",
          "text": [
            "Epoch 23/71.. Train loss: nan.. Val loss: nan.. Train L1 norm: nan.. Val L1 norm: nan.. Train Linf norm: nan.. Val Linf norm: nan\n"
          ]
        },
        {
          "output_type": "stream",
          "name": "stderr",
          "text": [
            "WARNING:tensorboardX.x2num:NaN or Inf found in input tensor.\n",
            "WARNING:tensorboardX.x2num:NaN or Inf found in input tensor.\n",
            "WARNING:tensorboardX.x2num:NaN or Inf found in input tensor.\n",
            "WARNING:tensorboardX.x2num:NaN or Inf found in input tensor.\n",
            "WARNING:tensorboardX.x2num:NaN or Inf found in input tensor.\n",
            "WARNING:tensorboardX.x2num:NaN or Inf found in input tensor.\n"
          ]
        },
        {
          "output_type": "stream",
          "name": "stdout",
          "text": [
            "Epoch 24/71.. Train loss: nan.. Val loss: nan.. Train L1 norm: nan.. Val L1 norm: nan.. Train Linf norm: nan.. Val Linf norm: nan\n"
          ]
        },
        {
          "output_type": "stream",
          "name": "stderr",
          "text": [
            "WARNING:tensorboardX.x2num:NaN or Inf found in input tensor.\n",
            "WARNING:tensorboardX.x2num:NaN or Inf found in input tensor.\n",
            "WARNING:tensorboardX.x2num:NaN or Inf found in input tensor.\n",
            "WARNING:tensorboardX.x2num:NaN or Inf found in input tensor.\n",
            "WARNING:tensorboardX.x2num:NaN or Inf found in input tensor.\n",
            "WARNING:tensorboardX.x2num:NaN or Inf found in input tensor.\n"
          ]
        },
        {
          "output_type": "stream",
          "name": "stdout",
          "text": [
            "Epoch 25/71.. Train loss: nan.. Val loss: nan.. Train L1 norm: nan.. Val L1 norm: nan.. Train Linf norm: nan.. Val Linf norm: nan\n"
          ]
        },
        {
          "output_type": "stream",
          "name": "stderr",
          "text": [
            "WARNING:tensorboardX.x2num:NaN or Inf found in input tensor.\n",
            "WARNING:tensorboardX.x2num:NaN or Inf found in input tensor.\n",
            "WARNING:tensorboardX.x2num:NaN or Inf found in input tensor.\n",
            "WARNING:tensorboardX.x2num:NaN or Inf found in input tensor.\n",
            "WARNING:tensorboardX.x2num:NaN or Inf found in input tensor.\n",
            "WARNING:tensorboardX.x2num:NaN or Inf found in input tensor.\n"
          ]
        },
        {
          "output_type": "stream",
          "name": "stdout",
          "text": [
            "Epoch 26/71.. Train loss: nan.. Val loss: nan.. Train L1 norm: nan.. Val L1 norm: nan.. Train Linf norm: nan.. Val Linf norm: nan\n"
          ]
        },
        {
          "output_type": "stream",
          "name": "stderr",
          "text": [
            "WARNING:tensorboardX.x2num:NaN or Inf found in input tensor.\n",
            "WARNING:tensorboardX.x2num:NaN or Inf found in input tensor.\n",
            "WARNING:tensorboardX.x2num:NaN or Inf found in input tensor.\n",
            "WARNING:tensorboardX.x2num:NaN or Inf found in input tensor.\n",
            "WARNING:tensorboardX.x2num:NaN or Inf found in input tensor.\n",
            "WARNING:tensorboardX.x2num:NaN or Inf found in input tensor.\n"
          ]
        },
        {
          "output_type": "stream",
          "name": "stdout",
          "text": [
            "Epoch 27/71.. Train loss: nan.. Val loss: nan.. Train L1 norm: nan.. Val L1 norm: nan.. Train Linf norm: nan.. Val Linf norm: nan\n"
          ]
        },
        {
          "output_type": "stream",
          "name": "stderr",
          "text": [
            "WARNING:tensorboardX.x2num:NaN or Inf found in input tensor.\n",
            "WARNING:tensorboardX.x2num:NaN or Inf found in input tensor.\n",
            "WARNING:tensorboardX.x2num:NaN or Inf found in input tensor.\n",
            "WARNING:tensorboardX.x2num:NaN or Inf found in input tensor.\n",
            "WARNING:tensorboardX.x2num:NaN or Inf found in input tensor.\n",
            "WARNING:tensorboardX.x2num:NaN or Inf found in input tensor.\n"
          ]
        },
        {
          "output_type": "stream",
          "name": "stdout",
          "text": [
            "Epoch 28/71.. Train loss: nan.. Val loss: nan.. Train L1 norm: nan.. Val L1 norm: nan.. Train Linf norm: nan.. Val Linf norm: nan\n"
          ]
        },
        {
          "output_type": "stream",
          "name": "stderr",
          "text": [
            "WARNING:tensorboardX.x2num:NaN or Inf found in input tensor.\n",
            "WARNING:tensorboardX.x2num:NaN or Inf found in input tensor.\n",
            "WARNING:tensorboardX.x2num:NaN or Inf found in input tensor.\n",
            "WARNING:tensorboardX.x2num:NaN or Inf found in input tensor.\n",
            "WARNING:tensorboardX.x2num:NaN or Inf found in input tensor.\n",
            "WARNING:tensorboardX.x2num:NaN or Inf found in input tensor.\n"
          ]
        },
        {
          "output_type": "stream",
          "name": "stdout",
          "text": [
            "Epoch 29/71.. Train loss: nan.. Val loss: nan.. Train L1 norm: nan.. Val L1 norm: nan.. Train Linf norm: nan.. Val Linf norm: nan\n"
          ]
        },
        {
          "output_type": "stream",
          "name": "stderr",
          "text": [
            "WARNING:tensorboardX.x2num:NaN or Inf found in input tensor.\n",
            "WARNING:tensorboardX.x2num:NaN or Inf found in input tensor.\n",
            "WARNING:tensorboardX.x2num:NaN or Inf found in input tensor.\n",
            "WARNING:tensorboardX.x2num:NaN or Inf found in input tensor.\n",
            "WARNING:tensorboardX.x2num:NaN or Inf found in input tensor.\n",
            "WARNING:tensorboardX.x2num:NaN or Inf found in input tensor.\n"
          ]
        },
        {
          "output_type": "stream",
          "name": "stdout",
          "text": [
            "Epoch 30/71.. Train loss: nan.. Val loss: nan.. Train L1 norm: nan.. Val L1 norm: nan.. Train Linf norm: nan.. Val Linf norm: nan\n"
          ]
        },
        {
          "output_type": "stream",
          "name": "stderr",
          "text": [
            "WARNING:tensorboardX.x2num:NaN or Inf found in input tensor.\n",
            "WARNING:tensorboardX.x2num:NaN or Inf found in input tensor.\n",
            "WARNING:tensorboardX.x2num:NaN or Inf found in input tensor.\n",
            "WARNING:tensorboardX.x2num:NaN or Inf found in input tensor.\n",
            "WARNING:tensorboardX.x2num:NaN or Inf found in input tensor.\n",
            "WARNING:tensorboardX.x2num:NaN or Inf found in input tensor.\n"
          ]
        },
        {
          "output_type": "stream",
          "name": "stdout",
          "text": [
            "Epoch 31/71.. Train loss: nan.. Val loss: nan.. Train L1 norm: nan.. Val L1 norm: nan.. Train Linf norm: nan.. Val Linf norm: nan\n"
          ]
        },
        {
          "output_type": "stream",
          "name": "stderr",
          "text": [
            "WARNING:tensorboardX.x2num:NaN or Inf found in input tensor.\n",
            "WARNING:tensorboardX.x2num:NaN or Inf found in input tensor.\n",
            "WARNING:tensorboardX.x2num:NaN or Inf found in input tensor.\n",
            "WARNING:tensorboardX.x2num:NaN or Inf found in input tensor.\n",
            "WARNING:tensorboardX.x2num:NaN or Inf found in input tensor.\n",
            "WARNING:tensorboardX.x2num:NaN or Inf found in input tensor.\n"
          ]
        },
        {
          "output_type": "stream",
          "name": "stdout",
          "text": [
            "Epoch 32/71.. Train loss: nan.. Val loss: nan.. Train L1 norm: nan.. Val L1 norm: nan.. Train Linf norm: nan.. Val Linf norm: nan\n"
          ]
        },
        {
          "output_type": "stream",
          "name": "stderr",
          "text": [
            "WARNING:tensorboardX.x2num:NaN or Inf found in input tensor.\n",
            "WARNING:tensorboardX.x2num:NaN or Inf found in input tensor.\n",
            "WARNING:tensorboardX.x2num:NaN or Inf found in input tensor.\n",
            "WARNING:tensorboardX.x2num:NaN or Inf found in input tensor.\n",
            "WARNING:tensorboardX.x2num:NaN or Inf found in input tensor.\n",
            "WARNING:tensorboardX.x2num:NaN or Inf found in input tensor.\n"
          ]
        },
        {
          "output_type": "stream",
          "name": "stdout",
          "text": [
            "Epoch 33/71.. Train loss: nan.. Val loss: nan.. Train L1 norm: nan.. Val L1 norm: nan.. Train Linf norm: nan.. Val Linf norm: nan\n"
          ]
        },
        {
          "output_type": "stream",
          "name": "stderr",
          "text": [
            "WARNING:tensorboardX.x2num:NaN or Inf found in input tensor.\n",
            "WARNING:tensorboardX.x2num:NaN or Inf found in input tensor.\n",
            "WARNING:tensorboardX.x2num:NaN or Inf found in input tensor.\n",
            "WARNING:tensorboardX.x2num:NaN or Inf found in input tensor.\n",
            "WARNING:tensorboardX.x2num:NaN or Inf found in input tensor.\n",
            "WARNING:tensorboardX.x2num:NaN or Inf found in input tensor.\n"
          ]
        },
        {
          "output_type": "stream",
          "name": "stdout",
          "text": [
            "Epoch 34/71.. Train loss: nan.. Val loss: nan.. Train L1 norm: nan.. Val L1 norm: nan.. Train Linf norm: nan.. Val Linf norm: nan\n"
          ]
        },
        {
          "output_type": "stream",
          "name": "stderr",
          "text": [
            "WARNING:tensorboardX.x2num:NaN or Inf found in input tensor.\n",
            "WARNING:tensorboardX.x2num:NaN or Inf found in input tensor.\n",
            "WARNING:tensorboardX.x2num:NaN or Inf found in input tensor.\n",
            "WARNING:tensorboardX.x2num:NaN or Inf found in input tensor.\n",
            "WARNING:tensorboardX.x2num:NaN or Inf found in input tensor.\n",
            "WARNING:tensorboardX.x2num:NaN or Inf found in input tensor.\n"
          ]
        },
        {
          "output_type": "stream",
          "name": "stdout",
          "text": [
            "Epoch 35/71.. Train loss: nan.. Val loss: nan.. Train L1 norm: nan.. Val L1 norm: nan.. Train Linf norm: nan.. Val Linf norm: nan\n"
          ]
        },
        {
          "output_type": "stream",
          "name": "stderr",
          "text": [
            "WARNING:tensorboardX.x2num:NaN or Inf found in input tensor.\n",
            "WARNING:tensorboardX.x2num:NaN or Inf found in input tensor.\n",
            "WARNING:tensorboardX.x2num:NaN or Inf found in input tensor.\n",
            "WARNING:tensorboardX.x2num:NaN or Inf found in input tensor.\n",
            "WARNING:tensorboardX.x2num:NaN or Inf found in input tensor.\n",
            "WARNING:tensorboardX.x2num:NaN or Inf found in input tensor.\n"
          ]
        },
        {
          "output_type": "stream",
          "name": "stdout",
          "text": [
            "Epoch 36/71.. Train loss: nan.. Val loss: nan.. Train L1 norm: nan.. Val L1 norm: nan.. Train Linf norm: nan.. Val Linf norm: nan\n"
          ]
        },
        {
          "output_type": "stream",
          "name": "stderr",
          "text": [
            "WARNING:tensorboardX.x2num:NaN or Inf found in input tensor.\n",
            "WARNING:tensorboardX.x2num:NaN or Inf found in input tensor.\n",
            "WARNING:tensorboardX.x2num:NaN or Inf found in input tensor.\n",
            "WARNING:tensorboardX.x2num:NaN or Inf found in input tensor.\n",
            "WARNING:tensorboardX.x2num:NaN or Inf found in input tensor.\n",
            "WARNING:tensorboardX.x2num:NaN or Inf found in input tensor.\n"
          ]
        },
        {
          "output_type": "stream",
          "name": "stdout",
          "text": [
            "Epoch 37/71.. Train loss: nan.. Val loss: nan.. Train L1 norm: nan.. Val L1 norm: nan.. Train Linf norm: nan.. Val Linf norm: nan\n"
          ]
        },
        {
          "output_type": "stream",
          "name": "stderr",
          "text": [
            "WARNING:tensorboardX.x2num:NaN or Inf found in input tensor.\n",
            "WARNING:tensorboardX.x2num:NaN or Inf found in input tensor.\n",
            "WARNING:tensorboardX.x2num:NaN or Inf found in input tensor.\n",
            "WARNING:tensorboardX.x2num:NaN or Inf found in input tensor.\n",
            "WARNING:tensorboardX.x2num:NaN or Inf found in input tensor.\n",
            "WARNING:tensorboardX.x2num:NaN or Inf found in input tensor.\n"
          ]
        },
        {
          "output_type": "stream",
          "name": "stdout",
          "text": [
            "Epoch 38/71.. Train loss: nan.. Val loss: nan.. Train L1 norm: nan.. Val L1 norm: nan.. Train Linf norm: nan.. Val Linf norm: nan\n"
          ]
        },
        {
          "output_type": "stream",
          "name": "stderr",
          "text": [
            "WARNING:tensorboardX.x2num:NaN or Inf found in input tensor.\n",
            "WARNING:tensorboardX.x2num:NaN or Inf found in input tensor.\n",
            "WARNING:tensorboardX.x2num:NaN or Inf found in input tensor.\n",
            "WARNING:tensorboardX.x2num:NaN or Inf found in input tensor.\n",
            "WARNING:tensorboardX.x2num:NaN or Inf found in input tensor.\n",
            "WARNING:tensorboardX.x2num:NaN or Inf found in input tensor.\n"
          ]
        },
        {
          "output_type": "stream",
          "name": "stdout",
          "text": [
            "Epoch 39/71.. Train loss: nan.. Val loss: nan.. Train L1 norm: nan.. Val L1 norm: nan.. Train Linf norm: nan.. Val Linf norm: nan\n"
          ]
        },
        {
          "output_type": "stream",
          "name": "stderr",
          "text": [
            "WARNING:tensorboardX.x2num:NaN or Inf found in input tensor.\n",
            "WARNING:tensorboardX.x2num:NaN or Inf found in input tensor.\n",
            "WARNING:tensorboardX.x2num:NaN or Inf found in input tensor.\n",
            "WARNING:tensorboardX.x2num:NaN or Inf found in input tensor.\n",
            "WARNING:tensorboardX.x2num:NaN or Inf found in input tensor.\n",
            "WARNING:tensorboardX.x2num:NaN or Inf found in input tensor.\n"
          ]
        },
        {
          "output_type": "stream",
          "name": "stdout",
          "text": [
            "Epoch 40/71.. Train loss: nan.. Val loss: nan.. Train L1 norm: nan.. Val L1 norm: nan.. Train Linf norm: nan.. Val Linf norm: nan\n"
          ]
        },
        {
          "output_type": "stream",
          "name": "stderr",
          "text": [
            "WARNING:tensorboardX.x2num:NaN or Inf found in input tensor.\n",
            "WARNING:tensorboardX.x2num:NaN or Inf found in input tensor.\n",
            "WARNING:tensorboardX.x2num:NaN or Inf found in input tensor.\n",
            "WARNING:tensorboardX.x2num:NaN or Inf found in input tensor.\n",
            "WARNING:tensorboardX.x2num:NaN or Inf found in input tensor.\n",
            "WARNING:tensorboardX.x2num:NaN or Inf found in input tensor.\n"
          ]
        },
        {
          "output_type": "stream",
          "name": "stdout",
          "text": [
            "Epoch 41/71.. Train loss: nan.. Val loss: nan.. Train L1 norm: nan.. Val L1 norm: nan.. Train Linf norm: nan.. Val Linf norm: nan\n"
          ]
        },
        {
          "output_type": "stream",
          "name": "stderr",
          "text": [
            "WARNING:tensorboardX.x2num:NaN or Inf found in input tensor.\n",
            "WARNING:tensorboardX.x2num:NaN or Inf found in input tensor.\n",
            "WARNING:tensorboardX.x2num:NaN or Inf found in input tensor.\n",
            "WARNING:tensorboardX.x2num:NaN or Inf found in input tensor.\n",
            "WARNING:tensorboardX.x2num:NaN or Inf found in input tensor.\n",
            "WARNING:tensorboardX.x2num:NaN or Inf found in input tensor.\n"
          ]
        },
        {
          "output_type": "stream",
          "name": "stdout",
          "text": [
            "Epoch 42/71.. Train loss: nan.. Val loss: nan.. Train L1 norm: nan.. Val L1 norm: nan.. Train Linf norm: nan.. Val Linf norm: nan\n"
          ]
        },
        {
          "output_type": "stream",
          "name": "stderr",
          "text": [
            "WARNING:tensorboardX.x2num:NaN or Inf found in input tensor.\n",
            "WARNING:tensorboardX.x2num:NaN or Inf found in input tensor.\n",
            "WARNING:tensorboardX.x2num:NaN or Inf found in input tensor.\n",
            "WARNING:tensorboardX.x2num:NaN or Inf found in input tensor.\n",
            "WARNING:tensorboardX.x2num:NaN or Inf found in input tensor.\n",
            "WARNING:tensorboardX.x2num:NaN or Inf found in input tensor.\n"
          ]
        },
        {
          "output_type": "stream",
          "name": "stdout",
          "text": [
            "Epoch 43/71.. Train loss: nan.. Val loss: nan.. Train L1 norm: nan.. Val L1 norm: nan.. Train Linf norm: nan.. Val Linf norm: nan\n"
          ]
        },
        {
          "output_type": "stream",
          "name": "stderr",
          "text": [
            "WARNING:tensorboardX.x2num:NaN or Inf found in input tensor.\n",
            "WARNING:tensorboardX.x2num:NaN or Inf found in input tensor.\n",
            "WARNING:tensorboardX.x2num:NaN or Inf found in input tensor.\n",
            "WARNING:tensorboardX.x2num:NaN or Inf found in input tensor.\n",
            "WARNING:tensorboardX.x2num:NaN or Inf found in input tensor.\n",
            "WARNING:tensorboardX.x2num:NaN or Inf found in input tensor.\n"
          ]
        },
        {
          "output_type": "stream",
          "name": "stdout",
          "text": [
            "Epoch 44/71.. Train loss: nan.. Val loss: nan.. Train L1 norm: nan.. Val L1 norm: nan.. Train Linf norm: nan.. Val Linf norm: nan\n"
          ]
        },
        {
          "output_type": "stream",
          "name": "stderr",
          "text": [
            "WARNING:tensorboardX.x2num:NaN or Inf found in input tensor.\n",
            "WARNING:tensorboardX.x2num:NaN or Inf found in input tensor.\n",
            "WARNING:tensorboardX.x2num:NaN or Inf found in input tensor.\n",
            "WARNING:tensorboardX.x2num:NaN or Inf found in input tensor.\n",
            "WARNING:tensorboardX.x2num:NaN or Inf found in input tensor.\n",
            "WARNING:tensorboardX.x2num:NaN or Inf found in input tensor.\n"
          ]
        },
        {
          "output_type": "stream",
          "name": "stdout",
          "text": [
            "Epoch 45/71.. Train loss: nan.. Val loss: nan.. Train L1 norm: nan.. Val L1 norm: nan.. Train Linf norm: nan.. Val Linf norm: nan\n"
          ]
        },
        {
          "output_type": "stream",
          "name": "stderr",
          "text": [
            "WARNING:tensorboardX.x2num:NaN or Inf found in input tensor.\n",
            "WARNING:tensorboardX.x2num:NaN or Inf found in input tensor.\n",
            "WARNING:tensorboardX.x2num:NaN or Inf found in input tensor.\n",
            "WARNING:tensorboardX.x2num:NaN or Inf found in input tensor.\n",
            "WARNING:tensorboardX.x2num:NaN or Inf found in input tensor.\n",
            "WARNING:tensorboardX.x2num:NaN or Inf found in input tensor.\n"
          ]
        },
        {
          "output_type": "stream",
          "name": "stdout",
          "text": [
            "Epoch 46/71.. Train loss: nan.. Val loss: nan.. Train L1 norm: nan.. Val L1 norm: nan.. Train Linf norm: nan.. Val Linf norm: nan\n"
          ]
        },
        {
          "output_type": "stream",
          "name": "stderr",
          "text": [
            "WARNING:tensorboardX.x2num:NaN or Inf found in input tensor.\n",
            "WARNING:tensorboardX.x2num:NaN or Inf found in input tensor.\n",
            "WARNING:tensorboardX.x2num:NaN or Inf found in input tensor.\n",
            "WARNING:tensorboardX.x2num:NaN or Inf found in input tensor.\n",
            "WARNING:tensorboardX.x2num:NaN or Inf found in input tensor.\n",
            "WARNING:tensorboardX.x2num:NaN or Inf found in input tensor.\n"
          ]
        },
        {
          "output_type": "stream",
          "name": "stdout",
          "text": [
            "Epoch 47/71.. Train loss: nan.. Val loss: nan.. Train L1 norm: nan.. Val L1 norm: nan.. Train Linf norm: nan.. Val Linf norm: nan\n"
          ]
        },
        {
          "output_type": "stream",
          "name": "stderr",
          "text": [
            "WARNING:tensorboardX.x2num:NaN or Inf found in input tensor.\n",
            "WARNING:tensorboardX.x2num:NaN or Inf found in input tensor.\n",
            "WARNING:tensorboardX.x2num:NaN or Inf found in input tensor.\n",
            "WARNING:tensorboardX.x2num:NaN or Inf found in input tensor.\n",
            "WARNING:tensorboardX.x2num:NaN or Inf found in input tensor.\n",
            "WARNING:tensorboardX.x2num:NaN or Inf found in input tensor.\n"
          ]
        },
        {
          "output_type": "stream",
          "name": "stdout",
          "text": [
            "Epoch 48/71.. Train loss: nan.. Val loss: nan.. Train L1 norm: nan.. Val L1 norm: nan.. Train Linf norm: nan.. Val Linf norm: nan\n"
          ]
        },
        {
          "output_type": "stream",
          "name": "stderr",
          "text": [
            "WARNING:tensorboardX.x2num:NaN or Inf found in input tensor.\n",
            "WARNING:tensorboardX.x2num:NaN or Inf found in input tensor.\n",
            "WARNING:tensorboardX.x2num:NaN or Inf found in input tensor.\n",
            "WARNING:tensorboardX.x2num:NaN or Inf found in input tensor.\n",
            "WARNING:tensorboardX.x2num:NaN or Inf found in input tensor.\n",
            "WARNING:tensorboardX.x2num:NaN or Inf found in input tensor.\n"
          ]
        },
        {
          "output_type": "stream",
          "name": "stdout",
          "text": [
            "Epoch 49/71.. Train loss: nan.. Val loss: nan.. Train L1 norm: nan.. Val L1 norm: nan.. Train Linf norm: nan.. Val Linf norm: nan\n"
          ]
        },
        {
          "output_type": "stream",
          "name": "stderr",
          "text": [
            "WARNING:tensorboardX.x2num:NaN or Inf found in input tensor.\n",
            "WARNING:tensorboardX.x2num:NaN or Inf found in input tensor.\n",
            "WARNING:tensorboardX.x2num:NaN or Inf found in input tensor.\n",
            "WARNING:tensorboardX.x2num:NaN or Inf found in input tensor.\n",
            "WARNING:tensorboardX.x2num:NaN or Inf found in input tensor.\n",
            "WARNING:tensorboardX.x2num:NaN or Inf found in input tensor.\n"
          ]
        },
        {
          "output_type": "stream",
          "name": "stdout",
          "text": [
            "Epoch 50/71.. Train loss: nan.. Val loss: nan.. Train L1 norm: nan.. Val L1 norm: nan.. Train Linf norm: nan.. Val Linf norm: nan\n"
          ]
        },
        {
          "output_type": "stream",
          "name": "stderr",
          "text": [
            "WARNING:tensorboardX.x2num:NaN or Inf found in input tensor.\n",
            "WARNING:tensorboardX.x2num:NaN or Inf found in input tensor.\n",
            "WARNING:tensorboardX.x2num:NaN or Inf found in input tensor.\n",
            "WARNING:tensorboardX.x2num:NaN or Inf found in input tensor.\n",
            "WARNING:tensorboardX.x2num:NaN or Inf found in input tensor.\n",
            "WARNING:tensorboardX.x2num:NaN or Inf found in input tensor.\n"
          ]
        },
        {
          "output_type": "stream",
          "name": "stdout",
          "text": [
            "Epoch 51/71.. Train loss: nan.. Val loss: nan.. Train L1 norm: nan.. Val L1 norm: nan.. Train Linf norm: nan.. Val Linf norm: nan\n"
          ]
        },
        {
          "output_type": "stream",
          "name": "stderr",
          "text": [
            "WARNING:tensorboardX.x2num:NaN or Inf found in input tensor.\n",
            "WARNING:tensorboardX.x2num:NaN or Inf found in input tensor.\n",
            "WARNING:tensorboardX.x2num:NaN or Inf found in input tensor.\n",
            "WARNING:tensorboardX.x2num:NaN or Inf found in input tensor.\n",
            "WARNING:tensorboardX.x2num:NaN or Inf found in input tensor.\n",
            "WARNING:tensorboardX.x2num:NaN or Inf found in input tensor.\n"
          ]
        },
        {
          "output_type": "stream",
          "name": "stdout",
          "text": [
            "Epoch 52/71.. Train loss: nan.. Val loss: nan.. Train L1 norm: nan.. Val L1 norm: nan.. Train Linf norm: nan.. Val Linf norm: nan\n"
          ]
        },
        {
          "output_type": "stream",
          "name": "stderr",
          "text": [
            "WARNING:tensorboardX.x2num:NaN or Inf found in input tensor.\n",
            "WARNING:tensorboardX.x2num:NaN or Inf found in input tensor.\n",
            "WARNING:tensorboardX.x2num:NaN or Inf found in input tensor.\n",
            "WARNING:tensorboardX.x2num:NaN or Inf found in input tensor.\n",
            "WARNING:tensorboardX.x2num:NaN or Inf found in input tensor.\n",
            "WARNING:tensorboardX.x2num:NaN or Inf found in input tensor.\n"
          ]
        },
        {
          "output_type": "stream",
          "name": "stdout",
          "text": [
            "Epoch 53/71.. Train loss: nan.. Val loss: nan.. Train L1 norm: nan.. Val L1 norm: nan.. Train Linf norm: nan.. Val Linf norm: nan\n"
          ]
        },
        {
          "output_type": "stream",
          "name": "stderr",
          "text": [
            "WARNING:tensorboardX.x2num:NaN or Inf found in input tensor.\n",
            "WARNING:tensorboardX.x2num:NaN or Inf found in input tensor.\n",
            "WARNING:tensorboardX.x2num:NaN or Inf found in input tensor.\n",
            "WARNING:tensorboardX.x2num:NaN or Inf found in input tensor.\n",
            "WARNING:tensorboardX.x2num:NaN or Inf found in input tensor.\n",
            "WARNING:tensorboardX.x2num:NaN or Inf found in input tensor.\n"
          ]
        },
        {
          "output_type": "stream",
          "name": "stdout",
          "text": [
            "Epoch 54/71.. Train loss: nan.. Val loss: nan.. Train L1 norm: nan.. Val L1 norm: nan.. Train Linf norm: nan.. Val Linf norm: nan\n"
          ]
        },
        {
          "output_type": "stream",
          "name": "stderr",
          "text": [
            "WARNING:tensorboardX.x2num:NaN or Inf found in input tensor.\n",
            "WARNING:tensorboardX.x2num:NaN or Inf found in input tensor.\n",
            "WARNING:tensorboardX.x2num:NaN or Inf found in input tensor.\n",
            "WARNING:tensorboardX.x2num:NaN or Inf found in input tensor.\n",
            "WARNING:tensorboardX.x2num:NaN or Inf found in input tensor.\n",
            "WARNING:tensorboardX.x2num:NaN or Inf found in input tensor.\n"
          ]
        },
        {
          "output_type": "stream",
          "name": "stdout",
          "text": [
            "Epoch 55/71.. Train loss: nan.. Val loss: nan.. Train L1 norm: nan.. Val L1 norm: nan.. Train Linf norm: nan.. Val Linf norm: nan\n"
          ]
        },
        {
          "output_type": "stream",
          "name": "stderr",
          "text": [
            "WARNING:tensorboardX.x2num:NaN or Inf found in input tensor.\n",
            "WARNING:tensorboardX.x2num:NaN or Inf found in input tensor.\n",
            "WARNING:tensorboardX.x2num:NaN or Inf found in input tensor.\n",
            "WARNING:tensorboardX.x2num:NaN or Inf found in input tensor.\n",
            "WARNING:tensorboardX.x2num:NaN or Inf found in input tensor.\n",
            "WARNING:tensorboardX.x2num:NaN or Inf found in input tensor.\n"
          ]
        },
        {
          "output_type": "stream",
          "name": "stdout",
          "text": [
            "Epoch 56/71.. Train loss: nan.. Val loss: nan.. Train L1 norm: nan.. Val L1 norm: nan.. Train Linf norm: nan.. Val Linf norm: nan\n"
          ]
        },
        {
          "output_type": "stream",
          "name": "stderr",
          "text": [
            "WARNING:tensorboardX.x2num:NaN or Inf found in input tensor.\n",
            "WARNING:tensorboardX.x2num:NaN or Inf found in input tensor.\n",
            "WARNING:tensorboardX.x2num:NaN or Inf found in input tensor.\n",
            "WARNING:tensorboardX.x2num:NaN or Inf found in input tensor.\n",
            "WARNING:tensorboardX.x2num:NaN or Inf found in input tensor.\n",
            "WARNING:tensorboardX.x2num:NaN or Inf found in input tensor.\n"
          ]
        },
        {
          "output_type": "stream",
          "name": "stdout",
          "text": [
            "Epoch 57/71.. Train loss: nan.. Val loss: nan.. Train L1 norm: nan.. Val L1 norm: nan.. Train Linf norm: nan.. Val Linf norm: nan\n"
          ]
        },
        {
          "output_type": "stream",
          "name": "stderr",
          "text": [
            "WARNING:tensorboardX.x2num:NaN or Inf found in input tensor.\n",
            "WARNING:tensorboardX.x2num:NaN or Inf found in input tensor.\n",
            "WARNING:tensorboardX.x2num:NaN or Inf found in input tensor.\n",
            "WARNING:tensorboardX.x2num:NaN or Inf found in input tensor.\n",
            "WARNING:tensorboardX.x2num:NaN or Inf found in input tensor.\n",
            "WARNING:tensorboardX.x2num:NaN or Inf found in input tensor.\n"
          ]
        },
        {
          "output_type": "stream",
          "name": "stdout",
          "text": [
            "Epoch 58/71.. Train loss: nan.. Val loss: nan.. Train L1 norm: nan.. Val L1 norm: nan.. Train Linf norm: nan.. Val Linf norm: nan\n"
          ]
        },
        {
          "output_type": "stream",
          "name": "stderr",
          "text": [
            "WARNING:tensorboardX.x2num:NaN or Inf found in input tensor.\n",
            "WARNING:tensorboardX.x2num:NaN or Inf found in input tensor.\n",
            "WARNING:tensorboardX.x2num:NaN or Inf found in input tensor.\n",
            "WARNING:tensorboardX.x2num:NaN or Inf found in input tensor.\n",
            "WARNING:tensorboardX.x2num:NaN or Inf found in input tensor.\n",
            "WARNING:tensorboardX.x2num:NaN or Inf found in input tensor.\n"
          ]
        },
        {
          "output_type": "stream",
          "name": "stdout",
          "text": [
            "Epoch 59/71.. Train loss: nan.. Val loss: nan.. Train L1 norm: nan.. Val L1 norm: nan.. Train Linf norm: nan.. Val Linf norm: nan\n"
          ]
        },
        {
          "output_type": "stream",
          "name": "stderr",
          "text": [
            "WARNING:tensorboardX.x2num:NaN or Inf found in input tensor.\n",
            "WARNING:tensorboardX.x2num:NaN or Inf found in input tensor.\n",
            "WARNING:tensorboardX.x2num:NaN or Inf found in input tensor.\n",
            "WARNING:tensorboardX.x2num:NaN or Inf found in input tensor.\n",
            "WARNING:tensorboardX.x2num:NaN or Inf found in input tensor.\n",
            "WARNING:tensorboardX.x2num:NaN or Inf found in input tensor.\n"
          ]
        },
        {
          "output_type": "stream",
          "name": "stdout",
          "text": [
            "Epoch 60/71.. Train loss: nan.. Val loss: nan.. Train L1 norm: nan.. Val L1 norm: nan.. Train Linf norm: nan.. Val Linf norm: nan\n"
          ]
        },
        {
          "output_type": "stream",
          "name": "stderr",
          "text": [
            "WARNING:tensorboardX.x2num:NaN or Inf found in input tensor.\n",
            "WARNING:tensorboardX.x2num:NaN or Inf found in input tensor.\n",
            "WARNING:tensorboardX.x2num:NaN or Inf found in input tensor.\n",
            "WARNING:tensorboardX.x2num:NaN or Inf found in input tensor.\n",
            "WARNING:tensorboardX.x2num:NaN or Inf found in input tensor.\n",
            "WARNING:tensorboardX.x2num:NaN or Inf found in input tensor.\n"
          ]
        },
        {
          "output_type": "stream",
          "name": "stdout",
          "text": [
            "Epoch 61/71.. Train loss: nan.. Val loss: nan.. Train L1 norm: nan.. Val L1 norm: nan.. Train Linf norm: nan.. Val Linf norm: nan\n"
          ]
        },
        {
          "output_type": "stream",
          "name": "stderr",
          "text": [
            "WARNING:tensorboardX.x2num:NaN or Inf found in input tensor.\n",
            "WARNING:tensorboardX.x2num:NaN or Inf found in input tensor.\n",
            "WARNING:tensorboardX.x2num:NaN or Inf found in input tensor.\n",
            "WARNING:tensorboardX.x2num:NaN or Inf found in input tensor.\n",
            "WARNING:tensorboardX.x2num:NaN or Inf found in input tensor.\n",
            "WARNING:tensorboardX.x2num:NaN or Inf found in input tensor.\n"
          ]
        },
        {
          "output_type": "stream",
          "name": "stdout",
          "text": [
            "Epoch 62/71.. Train loss: nan.. Val loss: nan.. Train L1 norm: nan.. Val L1 norm: nan.. Train Linf norm: nan.. Val Linf norm: nan\n"
          ]
        },
        {
          "output_type": "stream",
          "name": "stderr",
          "text": [
            "WARNING:tensorboardX.x2num:NaN or Inf found in input tensor.\n",
            "WARNING:tensorboardX.x2num:NaN or Inf found in input tensor.\n",
            "WARNING:tensorboardX.x2num:NaN or Inf found in input tensor.\n",
            "WARNING:tensorboardX.x2num:NaN or Inf found in input tensor.\n",
            "WARNING:tensorboardX.x2num:NaN or Inf found in input tensor.\n",
            "WARNING:tensorboardX.x2num:NaN or Inf found in input tensor.\n"
          ]
        },
        {
          "output_type": "stream",
          "name": "stdout",
          "text": [
            "Epoch 63/71.. Train loss: nan.. Val loss: nan.. Train L1 norm: nan.. Val L1 norm: nan.. Train Linf norm: nan.. Val Linf norm: nan\n"
          ]
        },
        {
          "output_type": "stream",
          "name": "stderr",
          "text": [
            "WARNING:tensorboardX.x2num:NaN or Inf found in input tensor.\n",
            "WARNING:tensorboardX.x2num:NaN or Inf found in input tensor.\n",
            "WARNING:tensorboardX.x2num:NaN or Inf found in input tensor.\n",
            "WARNING:tensorboardX.x2num:NaN or Inf found in input tensor.\n",
            "WARNING:tensorboardX.x2num:NaN or Inf found in input tensor.\n",
            "WARNING:tensorboardX.x2num:NaN or Inf found in input tensor.\n"
          ]
        },
        {
          "output_type": "stream",
          "name": "stdout",
          "text": [
            "Epoch 64/71.. Train loss: nan.. Val loss: nan.. Train L1 norm: nan.. Val L1 norm: nan.. Train Linf norm: nan.. Val Linf norm: nan\n"
          ]
        },
        {
          "output_type": "stream",
          "name": "stderr",
          "text": [
            "WARNING:tensorboardX.x2num:NaN or Inf found in input tensor.\n",
            "WARNING:tensorboardX.x2num:NaN or Inf found in input tensor.\n",
            "WARNING:tensorboardX.x2num:NaN or Inf found in input tensor.\n",
            "WARNING:tensorboardX.x2num:NaN or Inf found in input tensor.\n",
            "WARNING:tensorboardX.x2num:NaN or Inf found in input tensor.\n",
            "WARNING:tensorboardX.x2num:NaN or Inf found in input tensor.\n"
          ]
        },
        {
          "output_type": "stream",
          "name": "stdout",
          "text": [
            "Epoch 65/71.. Train loss: nan.. Val loss: nan.. Train L1 norm: nan.. Val L1 norm: nan.. Train Linf norm: nan.. Val Linf norm: nan\n"
          ]
        },
        {
          "output_type": "stream",
          "name": "stderr",
          "text": [
            "WARNING:tensorboardX.x2num:NaN or Inf found in input tensor.\n",
            "WARNING:tensorboardX.x2num:NaN or Inf found in input tensor.\n",
            "WARNING:tensorboardX.x2num:NaN or Inf found in input tensor.\n",
            "WARNING:tensorboardX.x2num:NaN or Inf found in input tensor.\n",
            "WARNING:tensorboardX.x2num:NaN or Inf found in input tensor.\n",
            "WARNING:tensorboardX.x2num:NaN or Inf found in input tensor.\n"
          ]
        },
        {
          "output_type": "stream",
          "name": "stdout",
          "text": [
            "Epoch 66/71.. Train loss: nan.. Val loss: nan.. Train L1 norm: nan.. Val L1 norm: nan.. Train Linf norm: nan.. Val Linf norm: nan\n"
          ]
        },
        {
          "output_type": "stream",
          "name": "stderr",
          "text": [
            "WARNING:tensorboardX.x2num:NaN or Inf found in input tensor.\n",
            "WARNING:tensorboardX.x2num:NaN or Inf found in input tensor.\n",
            "WARNING:tensorboardX.x2num:NaN or Inf found in input tensor.\n",
            "WARNING:tensorboardX.x2num:NaN or Inf found in input tensor.\n",
            "WARNING:tensorboardX.x2num:NaN or Inf found in input tensor.\n",
            "WARNING:tensorboardX.x2num:NaN or Inf found in input tensor.\n"
          ]
        },
        {
          "output_type": "stream",
          "name": "stdout",
          "text": [
            "Epoch 67/71.. Train loss: nan.. Val loss: nan.. Train L1 norm: nan.. Val L1 norm: nan.. Train Linf norm: nan.. Val Linf norm: nan\n"
          ]
        },
        {
          "output_type": "stream",
          "name": "stderr",
          "text": [
            "WARNING:tensorboardX.x2num:NaN or Inf found in input tensor.\n",
            "WARNING:tensorboardX.x2num:NaN or Inf found in input tensor.\n",
            "WARNING:tensorboardX.x2num:NaN or Inf found in input tensor.\n",
            "WARNING:tensorboardX.x2num:NaN or Inf found in input tensor.\n",
            "WARNING:tensorboardX.x2num:NaN or Inf found in input tensor.\n",
            "WARNING:tensorboardX.x2num:NaN or Inf found in input tensor.\n"
          ]
        },
        {
          "output_type": "stream",
          "name": "stdout",
          "text": [
            "Epoch 68/71.. Train loss: nan.. Val loss: nan.. Train L1 norm: nan.. Val L1 norm: nan.. Train Linf norm: nan.. Val Linf norm: nan\n"
          ]
        },
        {
          "output_type": "stream",
          "name": "stderr",
          "text": [
            "WARNING:tensorboardX.x2num:NaN or Inf found in input tensor.\n",
            "WARNING:tensorboardX.x2num:NaN or Inf found in input tensor.\n",
            "WARNING:tensorboardX.x2num:NaN or Inf found in input tensor.\n",
            "WARNING:tensorboardX.x2num:NaN or Inf found in input tensor.\n",
            "WARNING:tensorboardX.x2num:NaN or Inf found in input tensor.\n",
            "WARNING:tensorboardX.x2num:NaN or Inf found in input tensor.\n"
          ]
        },
        {
          "output_type": "stream",
          "name": "stdout",
          "text": [
            "Epoch 69/71.. Train loss: nan.. Val loss: nan.. Train L1 norm: nan.. Val L1 norm: nan.. Train Linf norm: nan.. Val Linf norm: nan\n"
          ]
        },
        {
          "output_type": "stream",
          "name": "stderr",
          "text": [
            "WARNING:tensorboardX.x2num:NaN or Inf found in input tensor.\n",
            "WARNING:tensorboardX.x2num:NaN or Inf found in input tensor.\n",
            "WARNING:tensorboardX.x2num:NaN or Inf found in input tensor.\n",
            "WARNING:tensorboardX.x2num:NaN or Inf found in input tensor.\n",
            "WARNING:tensorboardX.x2num:NaN or Inf found in input tensor.\n",
            "WARNING:tensorboardX.x2num:NaN or Inf found in input tensor.\n"
          ]
        },
        {
          "output_type": "stream",
          "name": "stdout",
          "text": [
            "Epoch 70/71.. Train loss: nan.. Val loss: nan.. Train L1 norm: nan.. Val L1 norm: nan.. Train Linf norm: nan.. Val Linf norm: nan\n"
          ]
        },
        {
          "output_type": "stream",
          "name": "stderr",
          "text": [
            "WARNING:tensorboardX.x2num:NaN or Inf found in input tensor.\n",
            "WARNING:tensorboardX.x2num:NaN or Inf found in input tensor.\n",
            "WARNING:tensorboardX.x2num:NaN or Inf found in input tensor.\n",
            "WARNING:tensorboardX.x2num:NaN or Inf found in input tensor.\n",
            "WARNING:tensorboardX.x2num:NaN or Inf found in input tensor.\n",
            "WARNING:tensorboardX.x2num:NaN or Inf found in input tensor.\n",
            "[W 2023-05-30 09:44:04,824] Trial 3 failed with parameters: {'n_layers': 5, 'n_units_0': 2683, 'n_units_1': 2137, 'n_units_2': 1384, 'n_units_3': 1288, 'n_units_4': 1665, 'hidden_activation': 'LeakyReLU', 'output_activation': 'Linear', 'loss': 'Huber', 'optimizer': 'SGD', 'lr': 0.0004939778646804021, 'batch_size': 256, 'n_epochs': 71, 'scheduler': 'ReduceLROnPlateau', 'leakyrelu_slope': 0.21718422190036413, 'dropout_rate': 0.19259242007699617, 'weight_decay': 0.0001660190556399668, 'momentum': 0.8384743416263656, 'factor': 0.4562490331542244, 'patience': 10, 'threshold': 0.0008784371684862382} because of the following error: The value nan is not acceptable..\n",
            "[W 2023-05-30 09:44:04,826] Trial 3 failed with value nan.\n",
            "<ipython-input-89-0c79a7da1449>:63: FutureWarning: suggest_uniform has been deprecated in v3.0.0. This feature will be removed in v6.0.0. See https://github.com/optuna/optuna/releases/tag/v3.0.0. Use suggest_float instead.\n",
            "  init = trial.suggest_uniform(\"prelu_init\", 0.1, 0.3)\n"
          ]
        },
        {
          "output_type": "stream",
          "name": "stdout",
          "text": [
            "Epoch 71/71.. Train loss: nan.. Val loss: nan.. Train L1 norm: nan.. Val L1 norm: nan.. Train Linf norm: nan.. Val Linf norm: nan\n"
          ]
        },
        {
          "output_type": "stream",
          "name": "stderr",
          "text": [
            "<ipython-input-89-0c79a7da1449>:168: FutureWarning: suggest_uniform has been deprecated in v3.0.0. This feature will be removed in v6.0.0. See https://github.com/optuna/optuna/releases/tag/v3.0.0. Use suggest_float instead.\n",
            "  t_max_fraction = trial.suggest_uniform('t_max_fraction', 0.1, 0.3)\n",
            "<ipython-input-89-0c79a7da1449>:175: FutureWarning: suggest_loguniform has been deprecated in v3.0.0. This feature will be removed in v6.0.0. See https://github.com/optuna/optuna/releases/tag/v3.0.0. Use suggest_float(..., log=True) instead.\n",
            "  eta_min = trial.suggest_loguniform(\"eta_min\", 1e-7, 1e-2)\n"
          ]
        },
        {
          "output_type": "stream",
          "name": "stdout",
          "text": [
            "Epoch 1/110.. Train loss: 2.554.. Val loss: 2.541.. Train L1 norm: 1.021.. Val L1 norm: 1.034.. Train Linf norm: 8.796.. Val Linf norm: 15.544\n",
            "Epoch 2/110.. Train loss: 2.555.. Val loss: 2.541.. Train L1 norm: 1.021.. Val L1 norm: 1.032.. Train Linf norm: 8.665.. Val Linf norm: 14.705\n",
            "Epoch 3/110.. Train loss: 2.552.. Val loss: 2.539.. Train L1 norm: 1.018.. Val L1 norm: 1.027.. Train Linf norm: 7.514.. Val Linf norm: 12.999\n",
            "Epoch 4/110.. Train loss: 2.552.. Val loss: 2.538.. Train L1 norm: 1.014.. Val L1 norm: 1.022.. Train Linf norm: 6.501.. Val Linf norm: 10.725\n",
            "Epoch 5/110.. Train loss: 2.549.. Val loss: 2.536.. Train L1 norm: 1.011.. Val L1 norm: 1.014.. Train Linf norm: 5.554.. Val Linf norm: 7.334\n",
            "Epoch 6/110.. Train loss: 2.548.. Val loss: 2.534.. Train L1 norm: 1.005.. Val L1 norm: 1.002.. Train Linf norm: 3.298.. Val Linf norm: 2.477\n",
            "Epoch 7/110.. Train loss: 2.544.. Val loss: 2.530.. Train L1 norm: 1.002.. Val L1 norm: 1.009.. Train Linf norm: 2.339.. Val Linf norm: 6.168\n",
            "Epoch 8/110.. Train loss: 2.541.. Val loss: 2.525.. Train L1 norm: 1.009.. Val L1 norm: 1.026.. Train Linf norm: 6.149.. Val Linf norm: 14.492\n",
            "Epoch 9/110.. Train loss: 2.538.. Val loss: 2.520.. Train L1 norm: 1.022.. Val L1 norm: 1.051.. Train Linf norm: 11.428.. Val Linf norm: 25.119\n",
            "Epoch 10/110.. Train loss: 2.529.. Val loss: 2.512.. Train L1 norm: 1.042.. Val L1 norm: 1.086.. Train Linf norm: 18.838.. Val Linf norm: 39.394\n",
            "Epoch 11/110.. Train loss: 2.523.. Val loss: 2.502.. Train L1 norm: 1.069.. Val L1 norm: 1.128.. Train Linf norm: 27.764.. Val Linf norm: 56.153\n",
            "Epoch 12/110.. Train loss: 2.509.. Val loss: 2.484.. Train L1 norm: 1.099.. Val L1 norm: 1.201.. Train Linf norm: 37.213.. Val Linf norm: 83.710\n",
            "Epoch 13/110.. Train loss: 2.505.. Val loss: 2.473.. Train L1 norm: 1.179.. Val L1 norm: 1.261.. Train Linf norm: 59.070.. Val Linf norm: 105.477\n",
            "Epoch 14/110.. Train loss: 2.488.. Val loss: 2.440.. Train L1 norm: 1.227.. Val L1 norm: 1.408.. Train Linf norm: 74.806.. Val Linf norm: 157.461\n",
            "Epoch 15/110.. Train loss: 2.465.. Val loss: 2.390.. Train L1 norm: 1.376.. Val L1 norm: 1.656.. Train Linf norm: 116.716.. Val Linf norm: 242.696\n",
            "Epoch 16/110.. Train loss: 2.479.. Val loss: 2.382.. Train L1 norm: 1.558.. Val L1 norm: 1.719.. Train Linf norm: 162.627.. Val Linf norm: 262.627\n",
            "Epoch 17/110.. Train loss: 2.585.. Val loss: 2.456.. Train L1 norm: 1.426.. Val L1 norm: 1.427.. Train Linf norm: 133.368.. Val Linf norm: 162.108\n",
            "Epoch 18/110.. Train loss: 2.461.. Val loss: 2.440.. Train L1 norm: 1.310.. Val L1 norm: 1.526.. Train Linf norm: 95.639.. Val Linf norm: 195.142\n",
            "Epoch 19/110.. Train loss: 2.445.. Val loss: 2.419.. Train L1 norm: 1.385.. Val L1 norm: 1.646.. Train Linf norm: 117.766.. Val Linf norm: 234.890\n",
            "Epoch 20/110.. Train loss: 2.439.. Val loss: 2.405.. Train L1 norm: 1.440.. Val L1 norm: 1.749.. Train Linf norm: 127.016.. Val Linf norm: 268.780\n",
            "Epoch 21/110.. Train loss: 2.402.. Val loss: 2.350.. Train L1 norm: 1.572.. Val L1 norm: 2.043.. Train Linf norm: 165.882.. Val Linf norm: 362.630\n",
            "Epoch 22/110.. Train loss: 2.389.. Val loss: 2.271.. Train L1 norm: 1.834.. Val L1 norm: 2.551.. Train Linf norm: 217.627.. Val Linf norm: 522.250\n",
            "Epoch 23/110.. Train loss: 2.534.. Val loss: 2.394.. Train L1 norm: 2.015.. Val L1 norm: 1.905.. Train Linf norm: 270.581.. Val Linf norm: 318.091\n",
            "Epoch 24/110.. Train loss: 2.393.. Val loss: 2.378.. Train L1 norm: 1.644.. Val L1 norm: 2.029.. Train Linf norm: 179.746.. Val Linf norm: 357.113\n",
            "Epoch 25/110.. Train loss: 2.376.. Val loss: 2.363.. Train L1 norm: 1.738.. Val L1 norm: 2.157.. Train Linf norm: 189.577.. Val Linf norm: 397.290\n",
            "Epoch 26/110.. Train loss: 2.358.. Val loss: 2.343.. Train L1 norm: 1.836.. Val L1 norm: 2.312.. Train Linf norm: 226.170.. Val Linf norm: 446.307\n",
            "Epoch 27/110.. Train loss: 2.341.. Val loss: 2.318.. Train L1 norm: 1.968.. Val L1 norm: 2.496.. Train Linf norm: 246.859.. Val Linf norm: 503.824\n",
            "Epoch 28/110.. Train loss: 2.359.. Val loss: 2.321.. Train L1 norm: 2.157.. Val L1 norm: 2.519.. Train Linf norm: 297.854.. Val Linf norm: 508.123\n",
            "Epoch 29/110.. Train loss: 2.333.. Val loss: 2.313.. Train L1 norm: 2.130.. Val L1 norm: 2.619.. Train Linf norm: 290.575.. Val Linf norm: 538.532\n",
            "Epoch 30/110.. Train loss: 2.312.. Val loss: 2.296.. Train L1 norm: 2.167.. Val L1 norm: 2.777.. Train Linf norm: 294.187.. Val Linf norm: 586.670\n",
            "Epoch 31/110.. Train loss: 2.299.. Val loss: 2.279.. Train L1 norm: 2.279.. Val L1 norm: 2.937.. Train Linf norm: 324.010.. Val Linf norm: 635.679\n",
            "Epoch 32/110.. Train loss: 2.286.. Val loss: 2.250.. Train L1 norm: 2.460.. Val L1 norm: 3.176.. Train Linf norm: 360.984.. Val Linf norm: 710.183\n",
            "Epoch 33/110.. Train loss: 2.337.. Val loss: 2.276.. Train L1 norm: 2.738.. Val L1 norm: 3.028.. Train Linf norm: 427.823.. Val Linf norm: 661.758\n",
            "Epoch 34/110.. Train loss: 2.279.. Val loss: 2.256.. Train L1 norm: 2.443.. Val L1 norm: 3.192.. Train Linf norm: 360.850.. Val Linf norm: 711.407\n",
            "Epoch 35/110.. Train loss: 2.276.. Val loss: 2.249.. Train L1 norm: 2.533.. Val L1 norm: 3.286.. Train Linf norm: 388.257.. Val Linf norm: 739.797\n",
            "Epoch 36/110.. Train loss: 2.264.. Val loss: 2.242.. Train L1 norm: 2.592.. Val L1 norm: 3.379.. Train Linf norm: 395.507.. Val Linf norm: 767.682\n",
            "Epoch 37/110.. Train loss: 2.261.. Val loss: 2.244.. Train L1 norm: 2.728.. Val L1 norm: 3.418.. Train Linf norm: 414.494.. Val Linf norm: 778.504\n",
            "Epoch 38/110.. Train loss: 2.245.. Val loss: 2.234.. Train L1 norm: 2.730.. Val L1 norm: 3.528.. Train Linf norm: 414.977.. Val Linf norm: 811.891\n",
            "Epoch 39/110.. Train loss: 2.237.. Val loss: 2.224.. Train L1 norm: 2.834.. Val L1 norm: 3.635.. Train Linf norm: 465.568.. Val Linf norm: 842.747\n",
            "Epoch 40/110.. Train loss: 2.223.. Val loss: 2.207.. Train L1 norm: 2.868.. Val L1 norm: 3.794.. Train Linf norm: 439.519.. Val Linf norm: 889.986\n",
            "Epoch 41/110.. Train loss: 2.228.. Val loss: 2.215.. Train L1 norm: 3.003.. Val L1 norm: 3.780.. Train Linf norm: 471.331.. Val Linf norm: 886.017\n",
            "Epoch 42/110.. Train loss: 2.211.. Val loss: 2.196.. Train L1 norm: 3.037.. Val L1 norm: 3.946.. Train Linf norm: 501.382.. Val Linf norm: 935.821\n",
            "Epoch 43/110.. Train loss: 2.221.. Val loss: 2.194.. Train L1 norm: 3.029.. Val L1 norm: 3.999.. Train Linf norm: 494.738.. Val Linf norm: 952.779\n",
            "Epoch 44/110.. Train loss: 2.207.. Val loss: 2.188.. Train L1 norm: 3.143.. Val L1 norm: 4.074.. Train Linf norm: 480.278.. Val Linf norm: 975.881\n",
            "Epoch 45/110.. Train loss: 2.207.. Val loss: 2.186.. Train L1 norm: 3.150.. Val L1 norm: 4.112.. Train Linf norm: 514.770.. Val Linf norm: 988.307\n",
            "Epoch 46/110.. Train loss: 2.208.. Val loss: 2.187.. Train L1 norm: 3.195.. Val L1 norm: 4.115.. Train Linf norm: 522.415.. Val Linf norm: 989.121\n",
            "Epoch 47/110.. Train loss: 2.203.. Val loss: 2.186.. Train L1 norm: 3.210.. Val L1 norm: 4.137.. Train Linf norm: 509.877.. Val Linf norm: 996.406\n",
            "Epoch 48/110.. Train loss: 2.196.. Val loss: 2.183.. Train L1 norm: 3.203.. Val L1 norm: 4.176.. Train Linf norm: 521.557.. Val Linf norm: 1008.465\n",
            "Epoch 49/110.. Train loss: 2.199.. Val loss: 2.179.. Train L1 norm: 3.234.. Val L1 norm: 4.220.. Train Linf norm: 530.097.. Val Linf norm: 1021.542\n",
            "Epoch 50/110.. Train loss: 2.186.. Val loss: 2.176.. Train L1 norm: 3.256.. Val L1 norm: 4.260.. Train Linf norm: 519.176.. Val Linf norm: 1033.376\n",
            "Epoch 51/110.. Train loss: 2.189.. Val loss: 2.175.. Train L1 norm: 3.269.. Val L1 norm: 4.272.. Train Linf norm: 533.600.. Val Linf norm: 1037.170\n",
            "Epoch 52/110.. Train loss: 2.188.. Val loss: 2.174.. Train L1 norm: 3.272.. Val L1 norm: 4.279.. Train Linf norm: 554.543.. Val Linf norm: 1039.361\n",
            "Epoch 53/110.. Train loss: 2.186.. Val loss: 2.174.. Train L1 norm: 3.285.. Val L1 norm: 4.289.. Train Linf norm: 532.335.. Val Linf norm: 1042.360\n",
            "Epoch 54/110.. Train loss: 2.188.. Val loss: 2.173.. Train L1 norm: 3.305.. Val L1 norm: 4.298.. Train Linf norm: 521.059.. Val Linf norm: 1044.985\n",
            "Epoch 55/110.. Train loss: 2.188.. Val loss: 2.171.. Train L1 norm: 3.286.. Val L1 norm: 4.317.. Train Linf norm: 528.725.. Val Linf norm: 1050.639\n",
            "Epoch 56/110.. Train loss: 2.186.. Val loss: 2.170.. Train L1 norm: 3.295.. Val L1 norm: 4.335.. Train Linf norm: 547.589.. Val Linf norm: 1056.311\n",
            "Epoch 57/110.. Train loss: 2.190.. Val loss: 2.171.. Train L1 norm: 3.317.. Val L1 norm: 4.335.. Train Linf norm: 545.045.. Val Linf norm: 1056.686\n",
            "Epoch 58/110.. Train loss: 2.183.. Val loss: 2.166.. Train L1 norm: 3.327.. Val L1 norm: 4.400.. Train Linf norm: 561.282.. Val Linf norm: 1076.192\n",
            "Epoch 59/110.. Train loss: 2.178.. Val loss: 2.159.. Train L1 norm: 3.365.. Val L1 norm: 4.492.. Train Linf norm: 549.199.. Val Linf norm: 1103.556\n",
            "Epoch 60/110.. Train loss: 2.196.. Val loss: 2.167.. Train L1 norm: 3.436.. Val L1 norm: 4.423.. Train Linf norm: 565.510.. Val Linf norm: 1084.491\n",
            "Epoch 61/110.. Train loss: 2.181.. Val loss: 2.162.. Train L1 norm: 3.406.. Val L1 norm: 4.513.. Train Linf norm: 569.995.. Val Linf norm: 1112.223\n",
            "Epoch 62/110.. Train loss: 2.187.. Val loss: 2.173.. Train L1 norm: 3.463.. Val L1 norm: 4.454.. Train Linf norm: 578.108.. Val Linf norm: 1098.263\n",
            "Epoch 63/110.. Train loss: 2.188.. Val loss: 2.162.. Train L1 norm: 3.463.. Val L1 norm: 4.595.. Train Linf norm: 584.428.. Val Linf norm: 1139.336\n",
            "Epoch 64/110.. Train loss: 2.180.. Val loss: 2.150.. Train L1 norm: 3.467.. Val L1 norm: 4.811.. Train Linf norm: 567.994.. Val Linf norm: 1205.708\n",
            "Epoch 65/110.. Train loss: 2.182.. Val loss: 2.160.. Train L1 norm: 3.713.. Val L1 norm: 4.663.. Train Linf norm: 634.436.. Val Linf norm: 1156.246\n",
            "Epoch 66/110.. Train loss: 2.161.. Val loss: 2.126.. Train L1 norm: 3.625.. Val L1 norm: 5.294.. Train Linf norm: 626.601.. Val Linf norm: 1341.250\n",
            "Epoch 67/110.. Train loss: 2.193.. Val loss: 2.177.. Train L1 norm: 3.810.. Val L1 norm: 4.516.. Train Linf norm: 654.883.. Val Linf norm: 1107.180\n",
            "Epoch 68/110.. Train loss: 2.186.. Val loss: 2.165.. Train L1 norm: 3.456.. Val L1 norm: 4.734.. Train Linf norm: 575.550.. Val Linf norm: 1178.198\n",
            "Epoch 69/110.. Train loss: 2.171.. Val loss: 2.145.. Train L1 norm: 3.825.. Val L1 norm: 4.993.. Train Linf norm: 646.828.. Val Linf norm: 1254.983\n",
            "Epoch 70/110.. Train loss: 2.179.. Val loss: 2.168.. Train L1 norm: 3.989.. Val L1 norm: 4.666.. Train Linf norm: 672.619.. Val Linf norm: 1152.745\n",
            "Epoch 71/110.. Train loss: 2.191.. Val loss: 2.150.. Train L1 norm: 3.653.. Val L1 norm: 4.916.. Train Linf norm: 601.819.. Val Linf norm: 1227.289\n",
            "Epoch 72/110.. Train loss: 2.195.. Val loss: 2.164.. Train L1 norm: 3.682.. Val L1 norm: 4.777.. Train Linf norm: 635.089.. Val Linf norm: 1183.726\n",
            "Epoch 73/110.. Train loss: 2.167.. Val loss: 2.148.. Train L1 norm: 3.712.. Val L1 norm: 5.126.. Train Linf norm: 637.045.. Val Linf norm: 1293.720\n",
            "Epoch 74/110.. Train loss: 2.167.. Val loss: 2.175.. Train L1 norm: 3.904.. Val L1 norm: 4.877.. Train Linf norm: 669.506.. Val Linf norm: 1213.322\n",
            "Epoch 75/110.. Train loss: 2.162.. Val loss: 2.144.. Train L1 norm: 3.865.. Val L1 norm: 5.368.. Train Linf norm: 667.394.. Val Linf norm: 1368.160\n",
            "Epoch 76/110.. Train loss: 2.157.. Val loss: 2.145.. Train L1 norm: 3.974.. Val L1 norm: 5.493.. Train Linf norm: 661.307.. Val Linf norm: 1408.215\n",
            "Epoch 77/110.. Train loss: 2.142.. Val loss: 2.129.. Train L1 norm: 4.357.. Val L1 norm: 5.584.. Train Linf norm: 764.958.. Val Linf norm: 1423.818\n",
            "Epoch 78/110.. Train loss: 2.161.. Val loss: 2.126.. Train L1 norm: 3.997.. Val L1 norm: 5.937.. Train Linf norm: 671.397.. Val Linf norm: 1538.755\n",
            "Epoch 79/110.. Train loss: 2.160.. Val loss: 2.150.. Train L1 norm: 4.157.. Val L1 norm: 5.388.. Train Linf norm: 734.474.. Val Linf norm: 1370.873\n",
            "Epoch 80/110.. Train loss: 2.157.. Val loss: 2.136.. Train L1 norm: 4.218.. Val L1 norm: 5.505.. Train Linf norm: 760.429.. Val Linf norm: 1398.797\n",
            "Epoch 81/110.. Train loss: 2.157.. Val loss: 2.135.. Train L1 norm: 4.212.. Val L1 norm: 5.552.. Train Linf norm: 747.722.. Val Linf norm: 1412.384\n",
            "Epoch 82/110.. Train loss: 2.144.. Val loss: 2.122.. Train L1 norm: 4.159.. Val L1 norm: 6.074.. Train Linf norm: 721.824.. Val Linf norm: 1564.198\n",
            "Epoch 83/110.. Train loss: 2.147.. Val loss: 2.129.. Train L1 norm: 4.272.. Val L1 norm: 5.818.. Train Linf norm: 731.474.. Val Linf norm: 1491.283\n",
            "Epoch 84/110.. Train loss: 2.140.. Val loss: 2.120.. Train L1 norm: 4.321.. Val L1 norm: 6.276.. Train Linf norm: 757.027.. Val Linf norm: 1622.867\n",
            "Epoch 85/110.. Train loss: 2.180.. Val loss: 2.163.. Train L1 norm: 4.003.. Val L1 norm: 5.210.. Train Linf norm: 688.480.. Val Linf norm: 1290.283\n",
            "Epoch 86/110.. Train loss: 2.151.. Val loss: 2.146.. Train L1 norm: 4.098.. Val L1 norm: 5.457.. Train Linf norm: 707.836.. Val Linf norm: 1362.152\n",
            "Epoch 87/110.. Train loss: 2.142.. Val loss: 2.128.. Train L1 norm: 4.307.. Val L1 norm: 5.739.. Train Linf norm: 744.684.. Val Linf norm: 1442.548\n",
            "Epoch 88/110.. Train loss: 2.157.. Val loss: 2.142.. Train L1 norm: 4.391.. Val L1 norm: 5.518.. Train Linf norm: 742.412.. Val Linf norm: 1379.816\n",
            "Epoch 89/110.. Train loss: 2.149.. Val loss: 2.144.. Train L1 norm: 4.242.. Val L1 norm: 5.533.. Train Linf norm: 733.889.. Val Linf norm: 1383.671\n",
            "Epoch 90/110.. Train loss: 2.150.. Val loss: 2.146.. Train L1 norm: 4.246.. Val L1 norm: 5.586.. Train Linf norm: 739.466.. Val Linf norm: 1403.085\n",
            "Epoch 91/110.. Train loss: 2.137.. Val loss: 2.130.. Train L1 norm: 4.395.. Val L1 norm: 5.799.. Train Linf norm: 764.560.. Val Linf norm: 1464.217\n",
            "Epoch 92/110.. Train loss: 2.145.. Val loss: 2.129.. Train L1 norm: 4.364.. Val L1 norm: 5.856.. Train Linf norm: 785.735.. Val Linf norm: 1484.058\n",
            "Epoch 93/110.. Train loss: 2.149.. Val loss: 2.142.. Train L1 norm: 4.486.. Val L1 norm: 5.682.. Train Linf norm: 789.449.. Val Linf norm: 1434.563\n",
            "Epoch 94/110.. Train loss: 2.141.. Val loss: 2.137.. Train L1 norm: 4.400.. Val L1 norm: 5.768.. Train Linf norm: 745.487.. Val Linf norm: 1460.155\n",
            "Epoch 95/110.. Train loss: 2.143.. Val loss: 2.141.. Train L1 norm: 4.409.. Val L1 norm: 5.726.. Train Linf norm: 762.357.. Val Linf norm: 1446.825\n",
            "Epoch 96/110.. Train loss: 2.139.. Val loss: 2.137.. Train L1 norm: 4.367.. Val L1 norm: 5.797.. Train Linf norm: 754.564.. Val Linf norm: 1468.278\n",
            "Epoch 97/110.. Train loss: 2.137.. Val loss: 2.132.. Train L1 norm: 4.451.. Val L1 norm: 5.878.. Train Linf norm: 768.215.. Val Linf norm: 1491.049\n",
            "Epoch 98/110.. Train loss: 2.130.. Val loss: 2.129.. Train L1 norm: 4.504.. Val L1 norm: 5.936.. Train Linf norm: 784.736.. Val Linf norm: 1509.051\n",
            "Epoch 99/110.. Train loss: 2.138.. Val loss: 2.130.. Train L1 norm: 4.469.. Val L1 norm: 5.920.. Train Linf norm: 810.528.. Val Linf norm: 1503.829\n",
            "Epoch 100/110.. Train loss: 2.132.. Val loss: 2.128.. Train L1 norm: 4.517.. Val L1 norm: 5.974.. Train Linf norm: 809.732.. Val Linf norm: 1519.398\n",
            "Epoch 101/110.. Train loss: 2.136.. Val loss: 2.129.. Train L1 norm: 4.542.. Val L1 norm: 5.962.. Train Linf norm: 811.424.. Val Linf norm: 1516.990\n",
            "Epoch 102/110.. Train loss: 2.131.. Val loss: 2.129.. Train L1 norm: 4.529.. Val L1 norm: 5.968.. Train Linf norm: 808.753.. Val Linf norm: 1518.431\n",
            "Epoch 103/110.. Train loss: 2.128.. Val loss: 2.128.. Train L1 norm: 4.528.. Val L1 norm: 5.974.. Train Linf norm: 788.907.. Val Linf norm: 1520.548\n",
            "Epoch 104/110.. Train loss: 2.132.. Val loss: 2.129.. Train L1 norm: 4.524.. Val L1 norm: 5.973.. Train Linf norm: 817.982.. Val Linf norm: 1520.283\n",
            "Epoch 105/110.. Train loss: 2.129.. Val loss: 2.128.. Train L1 norm: 4.546.. Val L1 norm: 5.974.. Train Linf norm: 814.643.. Val Linf norm: 1520.569\n",
            "Epoch 106/110.. Train loss: 2.134.. Val loss: 2.128.. Train L1 norm: 4.526.. Val L1 norm: 5.976.. Train Linf norm: 810.815.. Val Linf norm: 1521.051\n",
            "Epoch 107/110.. Train loss: 2.129.. Val loss: 2.128.. Train L1 norm: 4.517.. Val L1 norm: 5.979.. Train Linf norm: 778.974.. Val Linf norm: 1522.116\n",
            "Epoch 108/110.. Train loss: 2.135.. Val loss: 2.129.. Train L1 norm: 4.516.. Val L1 norm: 5.964.. Train Linf norm: 757.748.. Val Linf norm: 1517.760\n",
            "Epoch 109/110.. Train loss: 2.134.. Val loss: 2.131.. Train L1 norm: 4.562.. Val L1 norm: 5.939.. Train Linf norm: 815.968.. Val Linf norm: 1510.887\n"
          ]
        },
        {
          "output_type": "stream",
          "name": "stderr",
          "text": [
            "[I 2023-05-30 09:54:27,674] Trial 4 finished with value: 5.964684108988444 and parameters: {'n_layers': 10, 'n_units_0': 3834, 'n_units_1': 35, 'n_units_2': 154, 'n_units_3': 2532, 'n_units_4': 2589, 'n_units_5': 1909, 'n_units_6': 3796, 'n_units_7': 1815, 'n_units_8': 2585, 'n_units_9': 941, 'hidden_activation': 'PReLU', 'output_activation': 'Linear', 'loss': 'Quantile', 'optimizer': 'SGD', 'lr': 1.832517763331495e-05, 'batch_size': 512, 'n_epochs': 110, 'scheduler': 'CosineAnnealingLR', 'prelu_init': 0.20560371458771715, 'dropout_rate': 0.19526487547135768, 'weight_decay': 0.0005449684506699381, 'momentum': 0.38196088792577265, 't_max_fraction': 0.24106360340378133, 'eta_min': 0.0013166311340777415}. Best is trial 0 with value: 5.821234536997477.\n"
          ]
        },
        {
          "output_type": "stream",
          "name": "stdout",
          "text": [
            "Epoch 110/110.. Train loss: 2.134.. Val loss: 2.130.. Train L1 norm: 4.492.. Val L1 norm: 5.965.. Train Linf norm: 769.549.. Val Linf norm: 1518.772\n"
          ]
        },
        {
          "output_type": "stream",
          "name": "stderr",
          "text": [
            "WARNING:tensorboardX.x2num:NaN or Inf found in input tensor.\n",
            "WARNING:tensorboardX.x2num:NaN or Inf found in input tensor.\n",
            "WARNING:tensorboardX.x2num:NaN or Inf found in input tensor.\n",
            "WARNING:tensorboardX.x2num:NaN or Inf found in input tensor.\n",
            "WARNING:tensorboardX.x2num:NaN or Inf found in input tensor.\n",
            "WARNING:tensorboardX.x2num:NaN or Inf found in input tensor.\n"
          ]
        },
        {
          "output_type": "stream",
          "name": "stdout",
          "text": [
            "Epoch 1/77.. Train loss: nan.. Val loss: nan.. Train L1 norm: nan.. Val L1 norm: nan.. Train Linf norm: nan.. Val Linf norm: nan\n"
          ]
        },
        {
          "output_type": "stream",
          "name": "stderr",
          "text": [
            "WARNING:tensorboardX.x2num:NaN or Inf found in input tensor.\n",
            "WARNING:tensorboardX.x2num:NaN or Inf found in input tensor.\n",
            "WARNING:tensorboardX.x2num:NaN or Inf found in input tensor.\n",
            "WARNING:tensorboardX.x2num:NaN or Inf found in input tensor.\n",
            "WARNING:tensorboardX.x2num:NaN or Inf found in input tensor.\n",
            "WARNING:tensorboardX.x2num:NaN or Inf found in input tensor.\n"
          ]
        },
        {
          "output_type": "stream",
          "name": "stdout",
          "text": [
            "Epoch 2/77.. Train loss: nan.. Val loss: nan.. Train L1 norm: nan.. Val L1 norm: nan.. Train Linf norm: nan.. Val Linf norm: nan\n"
          ]
        },
        {
          "output_type": "stream",
          "name": "stderr",
          "text": [
            "WARNING:tensorboardX.x2num:NaN or Inf found in input tensor.\n",
            "WARNING:tensorboardX.x2num:NaN or Inf found in input tensor.\n",
            "WARNING:tensorboardX.x2num:NaN or Inf found in input tensor.\n",
            "WARNING:tensorboardX.x2num:NaN or Inf found in input tensor.\n",
            "WARNING:tensorboardX.x2num:NaN or Inf found in input tensor.\n",
            "WARNING:tensorboardX.x2num:NaN or Inf found in input tensor.\n"
          ]
        },
        {
          "output_type": "stream",
          "name": "stdout",
          "text": [
            "Epoch 3/77.. Train loss: nan.. Val loss: nan.. Train L1 norm: nan.. Val L1 norm: nan.. Train Linf norm: nan.. Val Linf norm: nan\n"
          ]
        },
        {
          "output_type": "stream",
          "name": "stderr",
          "text": [
            "WARNING:tensorboardX.x2num:NaN or Inf found in input tensor.\n",
            "WARNING:tensorboardX.x2num:NaN or Inf found in input tensor.\n",
            "WARNING:tensorboardX.x2num:NaN or Inf found in input tensor.\n",
            "WARNING:tensorboardX.x2num:NaN or Inf found in input tensor.\n",
            "WARNING:tensorboardX.x2num:NaN or Inf found in input tensor.\n",
            "WARNING:tensorboardX.x2num:NaN or Inf found in input tensor.\n"
          ]
        },
        {
          "output_type": "stream",
          "name": "stdout",
          "text": [
            "Epoch 4/77.. Train loss: nan.. Val loss: nan.. Train L1 norm: nan.. Val L1 norm: nan.. Train Linf norm: nan.. Val Linf norm: nan\n"
          ]
        },
        {
          "output_type": "stream",
          "name": "stderr",
          "text": [
            "WARNING:tensorboardX.x2num:NaN or Inf found in input tensor.\n",
            "WARNING:tensorboardX.x2num:NaN or Inf found in input tensor.\n",
            "WARNING:tensorboardX.x2num:NaN or Inf found in input tensor.\n",
            "WARNING:tensorboardX.x2num:NaN or Inf found in input tensor.\n",
            "WARNING:tensorboardX.x2num:NaN or Inf found in input tensor.\n",
            "WARNING:tensorboardX.x2num:NaN or Inf found in input tensor.\n"
          ]
        },
        {
          "output_type": "stream",
          "name": "stdout",
          "text": [
            "Epoch 5/77.. Train loss: nan.. Val loss: nan.. Train L1 norm: nan.. Val L1 norm: nan.. Train Linf norm: nan.. Val Linf norm: nan\n"
          ]
        },
        {
          "output_type": "stream",
          "name": "stderr",
          "text": [
            "WARNING:tensorboardX.x2num:NaN or Inf found in input tensor.\n",
            "WARNING:tensorboardX.x2num:NaN or Inf found in input tensor.\n",
            "WARNING:tensorboardX.x2num:NaN or Inf found in input tensor.\n",
            "WARNING:tensorboardX.x2num:NaN or Inf found in input tensor.\n",
            "WARNING:tensorboardX.x2num:NaN or Inf found in input tensor.\n",
            "WARNING:tensorboardX.x2num:NaN or Inf found in input tensor.\n"
          ]
        },
        {
          "output_type": "stream",
          "name": "stdout",
          "text": [
            "Epoch 6/77.. Train loss: nan.. Val loss: nan.. Train L1 norm: nan.. Val L1 norm: nan.. Train Linf norm: nan.. Val Linf norm: nan\n"
          ]
        },
        {
          "output_type": "stream",
          "name": "stderr",
          "text": [
            "WARNING:tensorboardX.x2num:NaN or Inf found in input tensor.\n",
            "WARNING:tensorboardX.x2num:NaN or Inf found in input tensor.\n",
            "WARNING:tensorboardX.x2num:NaN or Inf found in input tensor.\n",
            "WARNING:tensorboardX.x2num:NaN or Inf found in input tensor.\n",
            "WARNING:tensorboardX.x2num:NaN or Inf found in input tensor.\n",
            "WARNING:tensorboardX.x2num:NaN or Inf found in input tensor.\n"
          ]
        },
        {
          "output_type": "stream",
          "name": "stdout",
          "text": [
            "Epoch 7/77.. Train loss: nan.. Val loss: nan.. Train L1 norm: nan.. Val L1 norm: nan.. Train Linf norm: nan.. Val Linf norm: nan\n"
          ]
        },
        {
          "output_type": "stream",
          "name": "stderr",
          "text": [
            "WARNING:tensorboardX.x2num:NaN or Inf found in input tensor.\n",
            "WARNING:tensorboardX.x2num:NaN or Inf found in input tensor.\n",
            "WARNING:tensorboardX.x2num:NaN or Inf found in input tensor.\n",
            "WARNING:tensorboardX.x2num:NaN or Inf found in input tensor.\n",
            "WARNING:tensorboardX.x2num:NaN or Inf found in input tensor.\n",
            "WARNING:tensorboardX.x2num:NaN or Inf found in input tensor.\n"
          ]
        },
        {
          "output_type": "stream",
          "name": "stdout",
          "text": [
            "Epoch 8/77.. Train loss: nan.. Val loss: nan.. Train L1 norm: nan.. Val L1 norm: nan.. Train Linf norm: nan.. Val Linf norm: nan\n"
          ]
        },
        {
          "output_type": "stream",
          "name": "stderr",
          "text": [
            "WARNING:tensorboardX.x2num:NaN or Inf found in input tensor.\n",
            "WARNING:tensorboardX.x2num:NaN or Inf found in input tensor.\n",
            "WARNING:tensorboardX.x2num:NaN or Inf found in input tensor.\n",
            "WARNING:tensorboardX.x2num:NaN or Inf found in input tensor.\n",
            "WARNING:tensorboardX.x2num:NaN or Inf found in input tensor.\n",
            "WARNING:tensorboardX.x2num:NaN or Inf found in input tensor.\n"
          ]
        },
        {
          "output_type": "stream",
          "name": "stdout",
          "text": [
            "Epoch 9/77.. Train loss: nan.. Val loss: nan.. Train L1 norm: nan.. Val L1 norm: nan.. Train Linf norm: nan.. Val Linf norm: nan\n"
          ]
        },
        {
          "output_type": "stream",
          "name": "stderr",
          "text": [
            "WARNING:tensorboardX.x2num:NaN or Inf found in input tensor.\n",
            "WARNING:tensorboardX.x2num:NaN or Inf found in input tensor.\n",
            "WARNING:tensorboardX.x2num:NaN or Inf found in input tensor.\n",
            "WARNING:tensorboardX.x2num:NaN or Inf found in input tensor.\n",
            "WARNING:tensorboardX.x2num:NaN or Inf found in input tensor.\n",
            "WARNING:tensorboardX.x2num:NaN or Inf found in input tensor.\n"
          ]
        },
        {
          "output_type": "stream",
          "name": "stdout",
          "text": [
            "Epoch 10/77.. Train loss: nan.. Val loss: nan.. Train L1 norm: nan.. Val L1 norm: nan.. Train Linf norm: nan.. Val Linf norm: nan\n"
          ]
        },
        {
          "output_type": "stream",
          "name": "stderr",
          "text": [
            "WARNING:tensorboardX.x2num:NaN or Inf found in input tensor.\n",
            "WARNING:tensorboardX.x2num:NaN or Inf found in input tensor.\n",
            "WARNING:tensorboardX.x2num:NaN or Inf found in input tensor.\n",
            "WARNING:tensorboardX.x2num:NaN or Inf found in input tensor.\n",
            "WARNING:tensorboardX.x2num:NaN or Inf found in input tensor.\n",
            "WARNING:tensorboardX.x2num:NaN or Inf found in input tensor.\n"
          ]
        },
        {
          "output_type": "stream",
          "name": "stdout",
          "text": [
            "Epoch 11/77.. Train loss: nan.. Val loss: nan.. Train L1 norm: nan.. Val L1 norm: nan.. Train Linf norm: nan.. Val Linf norm: nan\n"
          ]
        },
        {
          "output_type": "stream",
          "name": "stderr",
          "text": [
            "WARNING:tensorboardX.x2num:NaN or Inf found in input tensor.\n",
            "WARNING:tensorboardX.x2num:NaN or Inf found in input tensor.\n",
            "WARNING:tensorboardX.x2num:NaN or Inf found in input tensor.\n",
            "WARNING:tensorboardX.x2num:NaN or Inf found in input tensor.\n",
            "WARNING:tensorboardX.x2num:NaN or Inf found in input tensor.\n",
            "WARNING:tensorboardX.x2num:NaN or Inf found in input tensor.\n"
          ]
        },
        {
          "output_type": "stream",
          "name": "stdout",
          "text": [
            "Epoch 12/77.. Train loss: nan.. Val loss: nan.. Train L1 norm: nan.. Val L1 norm: nan.. Train Linf norm: nan.. Val Linf norm: nan\n"
          ]
        },
        {
          "output_type": "stream",
          "name": "stderr",
          "text": [
            "WARNING:tensorboardX.x2num:NaN or Inf found in input tensor.\n",
            "WARNING:tensorboardX.x2num:NaN or Inf found in input tensor.\n",
            "WARNING:tensorboardX.x2num:NaN or Inf found in input tensor.\n",
            "WARNING:tensorboardX.x2num:NaN or Inf found in input tensor.\n",
            "WARNING:tensorboardX.x2num:NaN or Inf found in input tensor.\n",
            "WARNING:tensorboardX.x2num:NaN or Inf found in input tensor.\n"
          ]
        },
        {
          "output_type": "stream",
          "name": "stdout",
          "text": [
            "Epoch 13/77.. Train loss: nan.. Val loss: nan.. Train L1 norm: nan.. Val L1 norm: nan.. Train Linf norm: nan.. Val Linf norm: nan\n"
          ]
        },
        {
          "output_type": "stream",
          "name": "stderr",
          "text": [
            "WARNING:tensorboardX.x2num:NaN or Inf found in input tensor.\n",
            "WARNING:tensorboardX.x2num:NaN or Inf found in input tensor.\n",
            "WARNING:tensorboardX.x2num:NaN or Inf found in input tensor.\n",
            "WARNING:tensorboardX.x2num:NaN or Inf found in input tensor.\n",
            "WARNING:tensorboardX.x2num:NaN or Inf found in input tensor.\n",
            "WARNING:tensorboardX.x2num:NaN or Inf found in input tensor.\n"
          ]
        },
        {
          "output_type": "stream",
          "name": "stdout",
          "text": [
            "Epoch 14/77.. Train loss: nan.. Val loss: nan.. Train L1 norm: nan.. Val L1 norm: nan.. Train Linf norm: nan.. Val Linf norm: nan\n"
          ]
        },
        {
          "output_type": "stream",
          "name": "stderr",
          "text": [
            "WARNING:tensorboardX.x2num:NaN or Inf found in input tensor.\n",
            "WARNING:tensorboardX.x2num:NaN or Inf found in input tensor.\n",
            "WARNING:tensorboardX.x2num:NaN or Inf found in input tensor.\n",
            "WARNING:tensorboardX.x2num:NaN or Inf found in input tensor.\n",
            "WARNING:tensorboardX.x2num:NaN or Inf found in input tensor.\n",
            "WARNING:tensorboardX.x2num:NaN or Inf found in input tensor.\n"
          ]
        },
        {
          "output_type": "stream",
          "name": "stdout",
          "text": [
            "Epoch 15/77.. Train loss: nan.. Val loss: nan.. Train L1 norm: nan.. Val L1 norm: nan.. Train Linf norm: nan.. Val Linf norm: nan\n"
          ]
        },
        {
          "output_type": "stream",
          "name": "stderr",
          "text": [
            "WARNING:tensorboardX.x2num:NaN or Inf found in input tensor.\n",
            "WARNING:tensorboardX.x2num:NaN or Inf found in input tensor.\n",
            "WARNING:tensorboardX.x2num:NaN or Inf found in input tensor.\n",
            "WARNING:tensorboardX.x2num:NaN or Inf found in input tensor.\n",
            "WARNING:tensorboardX.x2num:NaN or Inf found in input tensor.\n",
            "WARNING:tensorboardX.x2num:NaN or Inf found in input tensor.\n"
          ]
        },
        {
          "output_type": "stream",
          "name": "stdout",
          "text": [
            "Epoch 16/77.. Train loss: nan.. Val loss: nan.. Train L1 norm: nan.. Val L1 norm: nan.. Train Linf norm: nan.. Val Linf norm: nan\n"
          ]
        },
        {
          "output_type": "stream",
          "name": "stderr",
          "text": [
            "WARNING:tensorboardX.x2num:NaN or Inf found in input tensor.\n",
            "WARNING:tensorboardX.x2num:NaN or Inf found in input tensor.\n",
            "WARNING:tensorboardX.x2num:NaN or Inf found in input tensor.\n",
            "WARNING:tensorboardX.x2num:NaN or Inf found in input tensor.\n",
            "WARNING:tensorboardX.x2num:NaN or Inf found in input tensor.\n",
            "WARNING:tensorboardX.x2num:NaN or Inf found in input tensor.\n"
          ]
        },
        {
          "output_type": "stream",
          "name": "stdout",
          "text": [
            "Epoch 17/77.. Train loss: nan.. Val loss: nan.. Train L1 norm: nan.. Val L1 norm: nan.. Train Linf norm: nan.. Val Linf norm: nan\n"
          ]
        },
        {
          "output_type": "stream",
          "name": "stderr",
          "text": [
            "WARNING:tensorboardX.x2num:NaN or Inf found in input tensor.\n",
            "WARNING:tensorboardX.x2num:NaN or Inf found in input tensor.\n",
            "WARNING:tensorboardX.x2num:NaN or Inf found in input tensor.\n",
            "WARNING:tensorboardX.x2num:NaN or Inf found in input tensor.\n",
            "WARNING:tensorboardX.x2num:NaN or Inf found in input tensor.\n",
            "WARNING:tensorboardX.x2num:NaN or Inf found in input tensor.\n"
          ]
        },
        {
          "output_type": "stream",
          "name": "stdout",
          "text": [
            "Epoch 18/77.. Train loss: nan.. Val loss: nan.. Train L1 norm: nan.. Val L1 norm: nan.. Train Linf norm: nan.. Val Linf norm: nan\n"
          ]
        },
        {
          "output_type": "stream",
          "name": "stderr",
          "text": [
            "WARNING:tensorboardX.x2num:NaN or Inf found in input tensor.\n",
            "WARNING:tensorboardX.x2num:NaN or Inf found in input tensor.\n",
            "WARNING:tensorboardX.x2num:NaN or Inf found in input tensor.\n",
            "WARNING:tensorboardX.x2num:NaN or Inf found in input tensor.\n",
            "WARNING:tensorboardX.x2num:NaN or Inf found in input tensor.\n",
            "WARNING:tensorboardX.x2num:NaN or Inf found in input tensor.\n"
          ]
        },
        {
          "output_type": "stream",
          "name": "stdout",
          "text": [
            "Epoch 19/77.. Train loss: nan.. Val loss: nan.. Train L1 norm: nan.. Val L1 norm: nan.. Train Linf norm: nan.. Val Linf norm: nan\n"
          ]
        },
        {
          "output_type": "stream",
          "name": "stderr",
          "text": [
            "WARNING:tensorboardX.x2num:NaN or Inf found in input tensor.\n",
            "WARNING:tensorboardX.x2num:NaN or Inf found in input tensor.\n",
            "WARNING:tensorboardX.x2num:NaN or Inf found in input tensor.\n",
            "WARNING:tensorboardX.x2num:NaN or Inf found in input tensor.\n",
            "WARNING:tensorboardX.x2num:NaN or Inf found in input tensor.\n",
            "WARNING:tensorboardX.x2num:NaN or Inf found in input tensor.\n"
          ]
        },
        {
          "output_type": "stream",
          "name": "stdout",
          "text": [
            "Epoch 20/77.. Train loss: nan.. Val loss: nan.. Train L1 norm: nan.. Val L1 norm: nan.. Train Linf norm: nan.. Val Linf norm: nan\n"
          ]
        },
        {
          "output_type": "stream",
          "name": "stderr",
          "text": [
            "WARNING:tensorboardX.x2num:NaN or Inf found in input tensor.\n",
            "WARNING:tensorboardX.x2num:NaN or Inf found in input tensor.\n",
            "WARNING:tensorboardX.x2num:NaN or Inf found in input tensor.\n",
            "WARNING:tensorboardX.x2num:NaN or Inf found in input tensor.\n",
            "WARNING:tensorboardX.x2num:NaN or Inf found in input tensor.\n",
            "WARNING:tensorboardX.x2num:NaN or Inf found in input tensor.\n"
          ]
        },
        {
          "output_type": "stream",
          "name": "stdout",
          "text": [
            "Epoch 21/77.. Train loss: nan.. Val loss: nan.. Train L1 norm: nan.. Val L1 norm: nan.. Train Linf norm: nan.. Val Linf norm: nan\n"
          ]
        },
        {
          "output_type": "stream",
          "name": "stderr",
          "text": [
            "WARNING:tensorboardX.x2num:NaN or Inf found in input tensor.\n",
            "WARNING:tensorboardX.x2num:NaN or Inf found in input tensor.\n",
            "WARNING:tensorboardX.x2num:NaN or Inf found in input tensor.\n",
            "WARNING:tensorboardX.x2num:NaN or Inf found in input tensor.\n",
            "WARNING:tensorboardX.x2num:NaN or Inf found in input tensor.\n",
            "WARNING:tensorboardX.x2num:NaN or Inf found in input tensor.\n"
          ]
        },
        {
          "output_type": "stream",
          "name": "stdout",
          "text": [
            "Epoch 22/77.. Train loss: nan.. Val loss: nan.. Train L1 norm: nan.. Val L1 norm: nan.. Train Linf norm: nan.. Val Linf norm: nan\n"
          ]
        },
        {
          "output_type": "stream",
          "name": "stderr",
          "text": [
            "WARNING:tensorboardX.x2num:NaN or Inf found in input tensor.\n",
            "WARNING:tensorboardX.x2num:NaN or Inf found in input tensor.\n",
            "WARNING:tensorboardX.x2num:NaN or Inf found in input tensor.\n",
            "WARNING:tensorboardX.x2num:NaN or Inf found in input tensor.\n",
            "WARNING:tensorboardX.x2num:NaN or Inf found in input tensor.\n",
            "WARNING:tensorboardX.x2num:NaN or Inf found in input tensor.\n"
          ]
        },
        {
          "output_type": "stream",
          "name": "stdout",
          "text": [
            "Epoch 23/77.. Train loss: nan.. Val loss: nan.. Train L1 norm: nan.. Val L1 norm: nan.. Train Linf norm: nan.. Val Linf norm: nan\n"
          ]
        },
        {
          "output_type": "stream",
          "name": "stderr",
          "text": [
            "WARNING:tensorboardX.x2num:NaN or Inf found in input tensor.\n",
            "WARNING:tensorboardX.x2num:NaN or Inf found in input tensor.\n",
            "WARNING:tensorboardX.x2num:NaN or Inf found in input tensor.\n",
            "WARNING:tensorboardX.x2num:NaN or Inf found in input tensor.\n",
            "WARNING:tensorboardX.x2num:NaN or Inf found in input tensor.\n",
            "WARNING:tensorboardX.x2num:NaN or Inf found in input tensor.\n"
          ]
        },
        {
          "output_type": "stream",
          "name": "stdout",
          "text": [
            "Epoch 24/77.. Train loss: nan.. Val loss: nan.. Train L1 norm: nan.. Val L1 norm: nan.. Train Linf norm: nan.. Val Linf norm: nan\n"
          ]
        },
        {
          "output_type": "stream",
          "name": "stderr",
          "text": [
            "WARNING:tensorboardX.x2num:NaN or Inf found in input tensor.\n",
            "WARNING:tensorboardX.x2num:NaN or Inf found in input tensor.\n",
            "WARNING:tensorboardX.x2num:NaN or Inf found in input tensor.\n",
            "WARNING:tensorboardX.x2num:NaN or Inf found in input tensor.\n",
            "WARNING:tensorboardX.x2num:NaN or Inf found in input tensor.\n",
            "WARNING:tensorboardX.x2num:NaN or Inf found in input tensor.\n"
          ]
        },
        {
          "output_type": "stream",
          "name": "stdout",
          "text": [
            "Epoch 25/77.. Train loss: nan.. Val loss: nan.. Train L1 norm: nan.. Val L1 norm: nan.. Train Linf norm: nan.. Val Linf norm: nan\n"
          ]
        },
        {
          "output_type": "stream",
          "name": "stderr",
          "text": [
            "WARNING:tensorboardX.x2num:NaN or Inf found in input tensor.\n",
            "WARNING:tensorboardX.x2num:NaN or Inf found in input tensor.\n",
            "WARNING:tensorboardX.x2num:NaN or Inf found in input tensor.\n",
            "WARNING:tensorboardX.x2num:NaN or Inf found in input tensor.\n",
            "WARNING:tensorboardX.x2num:NaN or Inf found in input tensor.\n",
            "WARNING:tensorboardX.x2num:NaN or Inf found in input tensor.\n"
          ]
        },
        {
          "output_type": "stream",
          "name": "stdout",
          "text": [
            "Epoch 26/77.. Train loss: nan.. Val loss: nan.. Train L1 norm: nan.. Val L1 norm: nan.. Train Linf norm: nan.. Val Linf norm: nan\n"
          ]
        },
        {
          "output_type": "stream",
          "name": "stderr",
          "text": [
            "WARNING:tensorboardX.x2num:NaN or Inf found in input tensor.\n",
            "WARNING:tensorboardX.x2num:NaN or Inf found in input tensor.\n",
            "WARNING:tensorboardX.x2num:NaN or Inf found in input tensor.\n",
            "WARNING:tensorboardX.x2num:NaN or Inf found in input tensor.\n",
            "WARNING:tensorboardX.x2num:NaN or Inf found in input tensor.\n",
            "WARNING:tensorboardX.x2num:NaN or Inf found in input tensor.\n"
          ]
        },
        {
          "output_type": "stream",
          "name": "stdout",
          "text": [
            "Epoch 27/77.. Train loss: nan.. Val loss: nan.. Train L1 norm: nan.. Val L1 norm: nan.. Train Linf norm: nan.. Val Linf norm: nan\n"
          ]
        },
        {
          "output_type": "stream",
          "name": "stderr",
          "text": [
            "WARNING:tensorboardX.x2num:NaN or Inf found in input tensor.\n",
            "WARNING:tensorboardX.x2num:NaN or Inf found in input tensor.\n",
            "WARNING:tensorboardX.x2num:NaN or Inf found in input tensor.\n",
            "WARNING:tensorboardX.x2num:NaN or Inf found in input tensor.\n",
            "WARNING:tensorboardX.x2num:NaN or Inf found in input tensor.\n",
            "WARNING:tensorboardX.x2num:NaN or Inf found in input tensor.\n"
          ]
        },
        {
          "output_type": "stream",
          "name": "stdout",
          "text": [
            "Epoch 28/77.. Train loss: nan.. Val loss: nan.. Train L1 norm: nan.. Val L1 norm: nan.. Train Linf norm: nan.. Val Linf norm: nan\n"
          ]
        },
        {
          "output_type": "stream",
          "name": "stderr",
          "text": [
            "WARNING:tensorboardX.x2num:NaN or Inf found in input tensor.\n",
            "WARNING:tensorboardX.x2num:NaN or Inf found in input tensor.\n",
            "WARNING:tensorboardX.x2num:NaN or Inf found in input tensor.\n",
            "WARNING:tensorboardX.x2num:NaN or Inf found in input tensor.\n",
            "WARNING:tensorboardX.x2num:NaN or Inf found in input tensor.\n",
            "WARNING:tensorboardX.x2num:NaN or Inf found in input tensor.\n"
          ]
        },
        {
          "output_type": "stream",
          "name": "stdout",
          "text": [
            "Epoch 29/77.. Train loss: nan.. Val loss: nan.. Train L1 norm: nan.. Val L1 norm: nan.. Train Linf norm: nan.. Val Linf norm: nan\n"
          ]
        },
        {
          "output_type": "stream",
          "name": "stderr",
          "text": [
            "WARNING:tensorboardX.x2num:NaN or Inf found in input tensor.\n",
            "WARNING:tensorboardX.x2num:NaN or Inf found in input tensor.\n",
            "WARNING:tensorboardX.x2num:NaN or Inf found in input tensor.\n",
            "WARNING:tensorboardX.x2num:NaN or Inf found in input tensor.\n",
            "WARNING:tensorboardX.x2num:NaN or Inf found in input tensor.\n",
            "WARNING:tensorboardX.x2num:NaN or Inf found in input tensor.\n"
          ]
        },
        {
          "output_type": "stream",
          "name": "stdout",
          "text": [
            "Epoch 30/77.. Train loss: nan.. Val loss: nan.. Train L1 norm: nan.. Val L1 norm: nan.. Train Linf norm: nan.. Val Linf norm: nan\n"
          ]
        },
        {
          "output_type": "stream",
          "name": "stderr",
          "text": [
            "WARNING:tensorboardX.x2num:NaN or Inf found in input tensor.\n",
            "WARNING:tensorboardX.x2num:NaN or Inf found in input tensor.\n",
            "WARNING:tensorboardX.x2num:NaN or Inf found in input tensor.\n",
            "WARNING:tensorboardX.x2num:NaN or Inf found in input tensor.\n",
            "WARNING:tensorboardX.x2num:NaN or Inf found in input tensor.\n",
            "WARNING:tensorboardX.x2num:NaN or Inf found in input tensor.\n"
          ]
        },
        {
          "output_type": "stream",
          "name": "stdout",
          "text": [
            "Epoch 31/77.. Train loss: nan.. Val loss: nan.. Train L1 norm: nan.. Val L1 norm: nan.. Train Linf norm: nan.. Val Linf norm: nan\n"
          ]
        },
        {
          "output_type": "stream",
          "name": "stderr",
          "text": [
            "WARNING:tensorboardX.x2num:NaN or Inf found in input tensor.\n",
            "WARNING:tensorboardX.x2num:NaN or Inf found in input tensor.\n",
            "WARNING:tensorboardX.x2num:NaN or Inf found in input tensor.\n",
            "WARNING:tensorboardX.x2num:NaN or Inf found in input tensor.\n",
            "WARNING:tensorboardX.x2num:NaN or Inf found in input tensor.\n",
            "WARNING:tensorboardX.x2num:NaN or Inf found in input tensor.\n"
          ]
        },
        {
          "output_type": "stream",
          "name": "stdout",
          "text": [
            "Epoch 32/77.. Train loss: nan.. Val loss: nan.. Train L1 norm: nan.. Val L1 norm: nan.. Train Linf norm: nan.. Val Linf norm: nan\n"
          ]
        },
        {
          "output_type": "stream",
          "name": "stderr",
          "text": [
            "WARNING:tensorboardX.x2num:NaN or Inf found in input tensor.\n",
            "WARNING:tensorboardX.x2num:NaN or Inf found in input tensor.\n",
            "WARNING:tensorboardX.x2num:NaN or Inf found in input tensor.\n",
            "WARNING:tensorboardX.x2num:NaN or Inf found in input tensor.\n",
            "WARNING:tensorboardX.x2num:NaN or Inf found in input tensor.\n",
            "WARNING:tensorboardX.x2num:NaN or Inf found in input tensor.\n"
          ]
        },
        {
          "output_type": "stream",
          "name": "stdout",
          "text": [
            "Epoch 33/77.. Train loss: nan.. Val loss: nan.. Train L1 norm: nan.. Val L1 norm: nan.. Train Linf norm: nan.. Val Linf norm: nan\n"
          ]
        },
        {
          "output_type": "stream",
          "name": "stderr",
          "text": [
            "WARNING:tensorboardX.x2num:NaN or Inf found in input tensor.\n",
            "WARNING:tensorboardX.x2num:NaN or Inf found in input tensor.\n",
            "WARNING:tensorboardX.x2num:NaN or Inf found in input tensor.\n",
            "WARNING:tensorboardX.x2num:NaN or Inf found in input tensor.\n",
            "WARNING:tensorboardX.x2num:NaN or Inf found in input tensor.\n",
            "WARNING:tensorboardX.x2num:NaN or Inf found in input tensor.\n"
          ]
        },
        {
          "output_type": "stream",
          "name": "stdout",
          "text": [
            "Epoch 34/77.. Train loss: nan.. Val loss: nan.. Train L1 norm: nan.. Val L1 norm: nan.. Train Linf norm: nan.. Val Linf norm: nan\n"
          ]
        },
        {
          "output_type": "stream",
          "name": "stderr",
          "text": [
            "WARNING:tensorboardX.x2num:NaN or Inf found in input tensor.\n",
            "WARNING:tensorboardX.x2num:NaN or Inf found in input tensor.\n",
            "WARNING:tensorboardX.x2num:NaN or Inf found in input tensor.\n",
            "WARNING:tensorboardX.x2num:NaN or Inf found in input tensor.\n",
            "WARNING:tensorboardX.x2num:NaN or Inf found in input tensor.\n",
            "WARNING:tensorboardX.x2num:NaN or Inf found in input tensor.\n"
          ]
        },
        {
          "output_type": "stream",
          "name": "stdout",
          "text": [
            "Epoch 35/77.. Train loss: nan.. Val loss: nan.. Train L1 norm: nan.. Val L1 norm: nan.. Train Linf norm: nan.. Val Linf norm: nan\n"
          ]
        },
        {
          "output_type": "stream",
          "name": "stderr",
          "text": [
            "WARNING:tensorboardX.x2num:NaN or Inf found in input tensor.\n",
            "WARNING:tensorboardX.x2num:NaN or Inf found in input tensor.\n",
            "WARNING:tensorboardX.x2num:NaN or Inf found in input tensor.\n",
            "WARNING:tensorboardX.x2num:NaN or Inf found in input tensor.\n",
            "WARNING:tensorboardX.x2num:NaN or Inf found in input tensor.\n",
            "WARNING:tensorboardX.x2num:NaN or Inf found in input tensor.\n"
          ]
        },
        {
          "output_type": "stream",
          "name": "stdout",
          "text": [
            "Epoch 36/77.. Train loss: nan.. Val loss: nan.. Train L1 norm: nan.. Val L1 norm: nan.. Train Linf norm: nan.. Val Linf norm: nan\n"
          ]
        },
        {
          "output_type": "stream",
          "name": "stderr",
          "text": [
            "WARNING:tensorboardX.x2num:NaN or Inf found in input tensor.\n",
            "WARNING:tensorboardX.x2num:NaN or Inf found in input tensor.\n",
            "WARNING:tensorboardX.x2num:NaN or Inf found in input tensor.\n",
            "WARNING:tensorboardX.x2num:NaN or Inf found in input tensor.\n",
            "WARNING:tensorboardX.x2num:NaN or Inf found in input tensor.\n",
            "WARNING:tensorboardX.x2num:NaN or Inf found in input tensor.\n"
          ]
        },
        {
          "output_type": "stream",
          "name": "stdout",
          "text": [
            "Epoch 37/77.. Train loss: nan.. Val loss: nan.. Train L1 norm: nan.. Val L1 norm: nan.. Train Linf norm: nan.. Val Linf norm: nan\n"
          ]
        },
        {
          "output_type": "stream",
          "name": "stderr",
          "text": [
            "WARNING:tensorboardX.x2num:NaN or Inf found in input tensor.\n",
            "WARNING:tensorboardX.x2num:NaN or Inf found in input tensor.\n",
            "WARNING:tensorboardX.x2num:NaN or Inf found in input tensor.\n",
            "WARNING:tensorboardX.x2num:NaN or Inf found in input tensor.\n",
            "WARNING:tensorboardX.x2num:NaN or Inf found in input tensor.\n",
            "WARNING:tensorboardX.x2num:NaN or Inf found in input tensor.\n"
          ]
        },
        {
          "output_type": "stream",
          "name": "stdout",
          "text": [
            "Epoch 38/77.. Train loss: nan.. Val loss: nan.. Train L1 norm: nan.. Val L1 norm: nan.. Train Linf norm: nan.. Val Linf norm: nan\n"
          ]
        },
        {
          "output_type": "stream",
          "name": "stderr",
          "text": [
            "WARNING:tensorboardX.x2num:NaN or Inf found in input tensor.\n",
            "WARNING:tensorboardX.x2num:NaN or Inf found in input tensor.\n",
            "WARNING:tensorboardX.x2num:NaN or Inf found in input tensor.\n",
            "WARNING:tensorboardX.x2num:NaN or Inf found in input tensor.\n",
            "WARNING:tensorboardX.x2num:NaN or Inf found in input tensor.\n",
            "WARNING:tensorboardX.x2num:NaN or Inf found in input tensor.\n"
          ]
        },
        {
          "output_type": "stream",
          "name": "stdout",
          "text": [
            "Epoch 39/77.. Train loss: nan.. Val loss: nan.. Train L1 norm: nan.. Val L1 norm: nan.. Train Linf norm: nan.. Val Linf norm: nan\n"
          ]
        },
        {
          "output_type": "stream",
          "name": "stderr",
          "text": [
            "WARNING:tensorboardX.x2num:NaN or Inf found in input tensor.\n",
            "WARNING:tensorboardX.x2num:NaN or Inf found in input tensor.\n",
            "WARNING:tensorboardX.x2num:NaN or Inf found in input tensor.\n",
            "WARNING:tensorboardX.x2num:NaN or Inf found in input tensor.\n",
            "WARNING:tensorboardX.x2num:NaN or Inf found in input tensor.\n",
            "WARNING:tensorboardX.x2num:NaN or Inf found in input tensor.\n"
          ]
        },
        {
          "output_type": "stream",
          "name": "stdout",
          "text": [
            "Epoch 40/77.. Train loss: nan.. Val loss: nan.. Train L1 norm: nan.. Val L1 norm: nan.. Train Linf norm: nan.. Val Linf norm: nan\n"
          ]
        },
        {
          "output_type": "stream",
          "name": "stderr",
          "text": [
            "WARNING:tensorboardX.x2num:NaN or Inf found in input tensor.\n",
            "WARNING:tensorboardX.x2num:NaN or Inf found in input tensor.\n",
            "WARNING:tensorboardX.x2num:NaN or Inf found in input tensor.\n",
            "WARNING:tensorboardX.x2num:NaN or Inf found in input tensor.\n",
            "WARNING:tensorboardX.x2num:NaN or Inf found in input tensor.\n",
            "WARNING:tensorboardX.x2num:NaN or Inf found in input tensor.\n"
          ]
        },
        {
          "output_type": "stream",
          "name": "stdout",
          "text": [
            "Epoch 41/77.. Train loss: nan.. Val loss: nan.. Train L1 norm: nan.. Val L1 norm: nan.. Train Linf norm: nan.. Val Linf norm: nan\n"
          ]
        },
        {
          "output_type": "stream",
          "name": "stderr",
          "text": [
            "WARNING:tensorboardX.x2num:NaN or Inf found in input tensor.\n",
            "WARNING:tensorboardX.x2num:NaN or Inf found in input tensor.\n",
            "WARNING:tensorboardX.x2num:NaN or Inf found in input tensor.\n",
            "WARNING:tensorboardX.x2num:NaN or Inf found in input tensor.\n",
            "WARNING:tensorboardX.x2num:NaN or Inf found in input tensor.\n",
            "WARNING:tensorboardX.x2num:NaN or Inf found in input tensor.\n"
          ]
        },
        {
          "output_type": "stream",
          "name": "stdout",
          "text": [
            "Epoch 42/77.. Train loss: nan.. Val loss: nan.. Train L1 norm: nan.. Val L1 norm: nan.. Train Linf norm: nan.. Val Linf norm: nan\n"
          ]
        },
        {
          "output_type": "stream",
          "name": "stderr",
          "text": [
            "WARNING:tensorboardX.x2num:NaN or Inf found in input tensor.\n",
            "WARNING:tensorboardX.x2num:NaN or Inf found in input tensor.\n",
            "WARNING:tensorboardX.x2num:NaN or Inf found in input tensor.\n",
            "WARNING:tensorboardX.x2num:NaN or Inf found in input tensor.\n",
            "WARNING:tensorboardX.x2num:NaN or Inf found in input tensor.\n",
            "WARNING:tensorboardX.x2num:NaN or Inf found in input tensor.\n"
          ]
        },
        {
          "output_type": "stream",
          "name": "stdout",
          "text": [
            "Epoch 43/77.. Train loss: nan.. Val loss: nan.. Train L1 norm: nan.. Val L1 norm: nan.. Train Linf norm: nan.. Val Linf norm: nan\n"
          ]
        },
        {
          "output_type": "stream",
          "name": "stderr",
          "text": [
            "WARNING:tensorboardX.x2num:NaN or Inf found in input tensor.\n",
            "WARNING:tensorboardX.x2num:NaN or Inf found in input tensor.\n",
            "WARNING:tensorboardX.x2num:NaN or Inf found in input tensor.\n",
            "WARNING:tensorboardX.x2num:NaN or Inf found in input tensor.\n",
            "WARNING:tensorboardX.x2num:NaN or Inf found in input tensor.\n",
            "WARNING:tensorboardX.x2num:NaN or Inf found in input tensor.\n"
          ]
        },
        {
          "output_type": "stream",
          "name": "stdout",
          "text": [
            "Epoch 44/77.. Train loss: nan.. Val loss: nan.. Train L1 norm: nan.. Val L1 norm: nan.. Train Linf norm: nan.. Val Linf norm: nan\n"
          ]
        },
        {
          "output_type": "stream",
          "name": "stderr",
          "text": [
            "WARNING:tensorboardX.x2num:NaN or Inf found in input tensor.\n",
            "WARNING:tensorboardX.x2num:NaN or Inf found in input tensor.\n",
            "WARNING:tensorboardX.x2num:NaN or Inf found in input tensor.\n",
            "WARNING:tensorboardX.x2num:NaN or Inf found in input tensor.\n",
            "WARNING:tensorboardX.x2num:NaN or Inf found in input tensor.\n",
            "WARNING:tensorboardX.x2num:NaN or Inf found in input tensor.\n"
          ]
        },
        {
          "output_type": "stream",
          "name": "stdout",
          "text": [
            "Epoch 45/77.. Train loss: nan.. Val loss: nan.. Train L1 norm: nan.. Val L1 norm: nan.. Train Linf norm: nan.. Val Linf norm: nan\n"
          ]
        },
        {
          "output_type": "stream",
          "name": "stderr",
          "text": [
            "WARNING:tensorboardX.x2num:NaN or Inf found in input tensor.\n",
            "WARNING:tensorboardX.x2num:NaN or Inf found in input tensor.\n",
            "WARNING:tensorboardX.x2num:NaN or Inf found in input tensor.\n",
            "WARNING:tensorboardX.x2num:NaN or Inf found in input tensor.\n",
            "WARNING:tensorboardX.x2num:NaN or Inf found in input tensor.\n",
            "WARNING:tensorboardX.x2num:NaN or Inf found in input tensor.\n"
          ]
        },
        {
          "output_type": "stream",
          "name": "stdout",
          "text": [
            "Epoch 46/77.. Train loss: nan.. Val loss: nan.. Train L1 norm: nan.. Val L1 norm: nan.. Train Linf norm: nan.. Val Linf norm: nan\n"
          ]
        },
        {
          "output_type": "stream",
          "name": "stderr",
          "text": [
            "WARNING:tensorboardX.x2num:NaN or Inf found in input tensor.\n",
            "WARNING:tensorboardX.x2num:NaN or Inf found in input tensor.\n",
            "WARNING:tensorboardX.x2num:NaN or Inf found in input tensor.\n",
            "WARNING:tensorboardX.x2num:NaN or Inf found in input tensor.\n",
            "WARNING:tensorboardX.x2num:NaN or Inf found in input tensor.\n",
            "WARNING:tensorboardX.x2num:NaN or Inf found in input tensor.\n"
          ]
        },
        {
          "output_type": "stream",
          "name": "stdout",
          "text": [
            "Epoch 47/77.. Train loss: nan.. Val loss: nan.. Train L1 norm: nan.. Val L1 norm: nan.. Train Linf norm: nan.. Val Linf norm: nan\n"
          ]
        },
        {
          "output_type": "stream",
          "name": "stderr",
          "text": [
            "WARNING:tensorboardX.x2num:NaN or Inf found in input tensor.\n",
            "WARNING:tensorboardX.x2num:NaN or Inf found in input tensor.\n",
            "WARNING:tensorboardX.x2num:NaN or Inf found in input tensor.\n",
            "WARNING:tensorboardX.x2num:NaN or Inf found in input tensor.\n",
            "WARNING:tensorboardX.x2num:NaN or Inf found in input tensor.\n",
            "WARNING:tensorboardX.x2num:NaN or Inf found in input tensor.\n"
          ]
        },
        {
          "output_type": "stream",
          "name": "stdout",
          "text": [
            "Epoch 48/77.. Train loss: nan.. Val loss: nan.. Train L1 norm: nan.. Val L1 norm: nan.. Train Linf norm: nan.. Val Linf norm: nan\n"
          ]
        },
        {
          "output_type": "stream",
          "name": "stderr",
          "text": [
            "WARNING:tensorboardX.x2num:NaN or Inf found in input tensor.\n",
            "WARNING:tensorboardX.x2num:NaN or Inf found in input tensor.\n",
            "WARNING:tensorboardX.x2num:NaN or Inf found in input tensor.\n",
            "WARNING:tensorboardX.x2num:NaN or Inf found in input tensor.\n",
            "WARNING:tensorboardX.x2num:NaN or Inf found in input tensor.\n",
            "WARNING:tensorboardX.x2num:NaN or Inf found in input tensor.\n"
          ]
        },
        {
          "output_type": "stream",
          "name": "stdout",
          "text": [
            "Epoch 49/77.. Train loss: nan.. Val loss: nan.. Train L1 norm: nan.. Val L1 norm: nan.. Train Linf norm: nan.. Val Linf norm: nan\n"
          ]
        },
        {
          "output_type": "stream",
          "name": "stderr",
          "text": [
            "WARNING:tensorboardX.x2num:NaN or Inf found in input tensor.\n",
            "WARNING:tensorboardX.x2num:NaN or Inf found in input tensor.\n",
            "WARNING:tensorboardX.x2num:NaN or Inf found in input tensor.\n",
            "WARNING:tensorboardX.x2num:NaN or Inf found in input tensor.\n",
            "WARNING:tensorboardX.x2num:NaN or Inf found in input tensor.\n",
            "WARNING:tensorboardX.x2num:NaN or Inf found in input tensor.\n"
          ]
        },
        {
          "output_type": "stream",
          "name": "stdout",
          "text": [
            "Epoch 50/77.. Train loss: nan.. Val loss: nan.. Train L1 norm: nan.. Val L1 norm: nan.. Train Linf norm: nan.. Val Linf norm: nan\n"
          ]
        },
        {
          "output_type": "stream",
          "name": "stderr",
          "text": [
            "WARNING:tensorboardX.x2num:NaN or Inf found in input tensor.\n",
            "WARNING:tensorboardX.x2num:NaN or Inf found in input tensor.\n",
            "WARNING:tensorboardX.x2num:NaN or Inf found in input tensor.\n",
            "WARNING:tensorboardX.x2num:NaN or Inf found in input tensor.\n",
            "WARNING:tensorboardX.x2num:NaN or Inf found in input tensor.\n",
            "WARNING:tensorboardX.x2num:NaN or Inf found in input tensor.\n"
          ]
        },
        {
          "output_type": "stream",
          "name": "stdout",
          "text": [
            "Epoch 51/77.. Train loss: nan.. Val loss: nan.. Train L1 norm: nan.. Val L1 norm: nan.. Train Linf norm: nan.. Val Linf norm: nan\n"
          ]
        },
        {
          "output_type": "stream",
          "name": "stderr",
          "text": [
            "WARNING:tensorboardX.x2num:NaN or Inf found in input tensor.\n",
            "WARNING:tensorboardX.x2num:NaN or Inf found in input tensor.\n",
            "WARNING:tensorboardX.x2num:NaN or Inf found in input tensor.\n",
            "WARNING:tensorboardX.x2num:NaN or Inf found in input tensor.\n",
            "WARNING:tensorboardX.x2num:NaN or Inf found in input tensor.\n",
            "WARNING:tensorboardX.x2num:NaN or Inf found in input tensor.\n"
          ]
        },
        {
          "output_type": "stream",
          "name": "stdout",
          "text": [
            "Epoch 52/77.. Train loss: nan.. Val loss: nan.. Train L1 norm: nan.. Val L1 norm: nan.. Train Linf norm: nan.. Val Linf norm: nan\n"
          ]
        },
        {
          "output_type": "stream",
          "name": "stderr",
          "text": [
            "WARNING:tensorboardX.x2num:NaN or Inf found in input tensor.\n",
            "WARNING:tensorboardX.x2num:NaN or Inf found in input tensor.\n",
            "WARNING:tensorboardX.x2num:NaN or Inf found in input tensor.\n",
            "WARNING:tensorboardX.x2num:NaN or Inf found in input tensor.\n",
            "WARNING:tensorboardX.x2num:NaN or Inf found in input tensor.\n",
            "WARNING:tensorboardX.x2num:NaN or Inf found in input tensor.\n"
          ]
        },
        {
          "output_type": "stream",
          "name": "stdout",
          "text": [
            "Epoch 53/77.. Train loss: nan.. Val loss: nan.. Train L1 norm: nan.. Val L1 norm: nan.. Train Linf norm: nan.. Val Linf norm: nan\n"
          ]
        },
        {
          "output_type": "stream",
          "name": "stderr",
          "text": [
            "WARNING:tensorboardX.x2num:NaN or Inf found in input tensor.\n",
            "WARNING:tensorboardX.x2num:NaN or Inf found in input tensor.\n",
            "WARNING:tensorboardX.x2num:NaN or Inf found in input tensor.\n",
            "WARNING:tensorboardX.x2num:NaN or Inf found in input tensor.\n",
            "WARNING:tensorboardX.x2num:NaN or Inf found in input tensor.\n",
            "WARNING:tensorboardX.x2num:NaN or Inf found in input tensor.\n"
          ]
        },
        {
          "output_type": "stream",
          "name": "stdout",
          "text": [
            "Epoch 54/77.. Train loss: nan.. Val loss: nan.. Train L1 norm: nan.. Val L1 norm: nan.. Train Linf norm: nan.. Val Linf norm: nan\n"
          ]
        },
        {
          "output_type": "stream",
          "name": "stderr",
          "text": [
            "WARNING:tensorboardX.x2num:NaN or Inf found in input tensor.\n",
            "WARNING:tensorboardX.x2num:NaN or Inf found in input tensor.\n",
            "WARNING:tensorboardX.x2num:NaN or Inf found in input tensor.\n",
            "WARNING:tensorboardX.x2num:NaN or Inf found in input tensor.\n",
            "WARNING:tensorboardX.x2num:NaN or Inf found in input tensor.\n",
            "WARNING:tensorboardX.x2num:NaN or Inf found in input tensor.\n"
          ]
        },
        {
          "output_type": "stream",
          "name": "stdout",
          "text": [
            "Epoch 55/77.. Train loss: nan.. Val loss: nan.. Train L1 norm: nan.. Val L1 norm: nan.. Train Linf norm: nan.. Val Linf norm: nan\n"
          ]
        },
        {
          "output_type": "stream",
          "name": "stderr",
          "text": [
            "WARNING:tensorboardX.x2num:NaN or Inf found in input tensor.\n",
            "WARNING:tensorboardX.x2num:NaN or Inf found in input tensor.\n",
            "WARNING:tensorboardX.x2num:NaN or Inf found in input tensor.\n",
            "WARNING:tensorboardX.x2num:NaN or Inf found in input tensor.\n",
            "WARNING:tensorboardX.x2num:NaN or Inf found in input tensor.\n",
            "WARNING:tensorboardX.x2num:NaN or Inf found in input tensor.\n"
          ]
        },
        {
          "output_type": "stream",
          "name": "stdout",
          "text": [
            "Epoch 56/77.. Train loss: nan.. Val loss: nan.. Train L1 norm: nan.. Val L1 norm: nan.. Train Linf norm: nan.. Val Linf norm: nan\n"
          ]
        },
        {
          "output_type": "stream",
          "name": "stderr",
          "text": [
            "WARNING:tensorboardX.x2num:NaN or Inf found in input tensor.\n",
            "WARNING:tensorboardX.x2num:NaN or Inf found in input tensor.\n",
            "WARNING:tensorboardX.x2num:NaN or Inf found in input tensor.\n",
            "WARNING:tensorboardX.x2num:NaN or Inf found in input tensor.\n",
            "WARNING:tensorboardX.x2num:NaN or Inf found in input tensor.\n",
            "WARNING:tensorboardX.x2num:NaN or Inf found in input tensor.\n"
          ]
        },
        {
          "output_type": "stream",
          "name": "stdout",
          "text": [
            "Epoch 57/77.. Train loss: nan.. Val loss: nan.. Train L1 norm: nan.. Val L1 norm: nan.. Train Linf norm: nan.. Val Linf norm: nan\n"
          ]
        },
        {
          "output_type": "stream",
          "name": "stderr",
          "text": [
            "WARNING:tensorboardX.x2num:NaN or Inf found in input tensor.\n",
            "WARNING:tensorboardX.x2num:NaN or Inf found in input tensor.\n",
            "WARNING:tensorboardX.x2num:NaN or Inf found in input tensor.\n",
            "WARNING:tensorboardX.x2num:NaN or Inf found in input tensor.\n",
            "WARNING:tensorboardX.x2num:NaN or Inf found in input tensor.\n",
            "WARNING:tensorboardX.x2num:NaN or Inf found in input tensor.\n"
          ]
        },
        {
          "output_type": "stream",
          "name": "stdout",
          "text": [
            "Epoch 58/77.. Train loss: nan.. Val loss: nan.. Train L1 norm: nan.. Val L1 norm: nan.. Train Linf norm: nan.. Val Linf norm: nan\n"
          ]
        },
        {
          "output_type": "stream",
          "name": "stderr",
          "text": [
            "WARNING:tensorboardX.x2num:NaN or Inf found in input tensor.\n",
            "WARNING:tensorboardX.x2num:NaN or Inf found in input tensor.\n",
            "WARNING:tensorboardX.x2num:NaN or Inf found in input tensor.\n",
            "WARNING:tensorboardX.x2num:NaN or Inf found in input tensor.\n",
            "WARNING:tensorboardX.x2num:NaN or Inf found in input tensor.\n",
            "WARNING:tensorboardX.x2num:NaN or Inf found in input tensor.\n"
          ]
        },
        {
          "output_type": "stream",
          "name": "stdout",
          "text": [
            "Epoch 59/77.. Train loss: nan.. Val loss: nan.. Train L1 norm: nan.. Val L1 norm: nan.. Train Linf norm: nan.. Val Linf norm: nan\n"
          ]
        },
        {
          "output_type": "stream",
          "name": "stderr",
          "text": [
            "WARNING:tensorboardX.x2num:NaN or Inf found in input tensor.\n",
            "WARNING:tensorboardX.x2num:NaN or Inf found in input tensor.\n",
            "WARNING:tensorboardX.x2num:NaN or Inf found in input tensor.\n",
            "WARNING:tensorboardX.x2num:NaN or Inf found in input tensor.\n",
            "WARNING:tensorboardX.x2num:NaN or Inf found in input tensor.\n",
            "WARNING:tensorboardX.x2num:NaN or Inf found in input tensor.\n"
          ]
        },
        {
          "output_type": "stream",
          "name": "stdout",
          "text": [
            "Epoch 60/77.. Train loss: nan.. Val loss: nan.. Train L1 norm: nan.. Val L1 norm: nan.. Train Linf norm: nan.. Val Linf norm: nan\n"
          ]
        },
        {
          "output_type": "stream",
          "name": "stderr",
          "text": [
            "WARNING:tensorboardX.x2num:NaN or Inf found in input tensor.\n",
            "WARNING:tensorboardX.x2num:NaN or Inf found in input tensor.\n",
            "WARNING:tensorboardX.x2num:NaN or Inf found in input tensor.\n",
            "WARNING:tensorboardX.x2num:NaN or Inf found in input tensor.\n",
            "WARNING:tensorboardX.x2num:NaN or Inf found in input tensor.\n",
            "WARNING:tensorboardX.x2num:NaN or Inf found in input tensor.\n"
          ]
        },
        {
          "output_type": "stream",
          "name": "stdout",
          "text": [
            "Epoch 61/77.. Train loss: nan.. Val loss: nan.. Train L1 norm: nan.. Val L1 norm: nan.. Train Linf norm: nan.. Val Linf norm: nan\n"
          ]
        },
        {
          "output_type": "stream",
          "name": "stderr",
          "text": [
            "WARNING:tensorboardX.x2num:NaN or Inf found in input tensor.\n",
            "WARNING:tensorboardX.x2num:NaN or Inf found in input tensor.\n",
            "WARNING:tensorboardX.x2num:NaN or Inf found in input tensor.\n",
            "WARNING:tensorboardX.x2num:NaN or Inf found in input tensor.\n",
            "WARNING:tensorboardX.x2num:NaN or Inf found in input tensor.\n",
            "WARNING:tensorboardX.x2num:NaN or Inf found in input tensor.\n"
          ]
        },
        {
          "output_type": "stream",
          "name": "stdout",
          "text": [
            "Epoch 62/77.. Train loss: nan.. Val loss: nan.. Train L1 norm: nan.. Val L1 norm: nan.. Train Linf norm: nan.. Val Linf norm: nan\n"
          ]
        },
        {
          "output_type": "stream",
          "name": "stderr",
          "text": [
            "WARNING:tensorboardX.x2num:NaN or Inf found in input tensor.\n",
            "WARNING:tensorboardX.x2num:NaN or Inf found in input tensor.\n",
            "WARNING:tensorboardX.x2num:NaN or Inf found in input tensor.\n",
            "WARNING:tensorboardX.x2num:NaN or Inf found in input tensor.\n",
            "WARNING:tensorboardX.x2num:NaN or Inf found in input tensor.\n",
            "WARNING:tensorboardX.x2num:NaN or Inf found in input tensor.\n"
          ]
        },
        {
          "output_type": "stream",
          "name": "stdout",
          "text": [
            "Epoch 63/77.. Train loss: nan.. Val loss: nan.. Train L1 norm: nan.. Val L1 norm: nan.. Train Linf norm: nan.. Val Linf norm: nan\n"
          ]
        },
        {
          "output_type": "stream",
          "name": "stderr",
          "text": [
            "WARNING:tensorboardX.x2num:NaN or Inf found in input tensor.\n",
            "WARNING:tensorboardX.x2num:NaN or Inf found in input tensor.\n",
            "WARNING:tensorboardX.x2num:NaN or Inf found in input tensor.\n",
            "WARNING:tensorboardX.x2num:NaN or Inf found in input tensor.\n",
            "WARNING:tensorboardX.x2num:NaN or Inf found in input tensor.\n",
            "WARNING:tensorboardX.x2num:NaN or Inf found in input tensor.\n"
          ]
        },
        {
          "output_type": "stream",
          "name": "stdout",
          "text": [
            "Epoch 64/77.. Train loss: nan.. Val loss: nan.. Train L1 norm: nan.. Val L1 norm: nan.. Train Linf norm: nan.. Val Linf norm: nan\n"
          ]
        },
        {
          "output_type": "stream",
          "name": "stderr",
          "text": [
            "WARNING:tensorboardX.x2num:NaN or Inf found in input tensor.\n",
            "WARNING:tensorboardX.x2num:NaN or Inf found in input tensor.\n",
            "WARNING:tensorboardX.x2num:NaN or Inf found in input tensor.\n",
            "WARNING:tensorboardX.x2num:NaN or Inf found in input tensor.\n",
            "WARNING:tensorboardX.x2num:NaN or Inf found in input tensor.\n",
            "WARNING:tensorboardX.x2num:NaN or Inf found in input tensor.\n"
          ]
        },
        {
          "output_type": "stream",
          "name": "stdout",
          "text": [
            "Epoch 65/77.. Train loss: nan.. Val loss: nan.. Train L1 norm: nan.. Val L1 norm: nan.. Train Linf norm: nan.. Val Linf norm: nan\n"
          ]
        },
        {
          "output_type": "stream",
          "name": "stderr",
          "text": [
            "WARNING:tensorboardX.x2num:NaN or Inf found in input tensor.\n",
            "WARNING:tensorboardX.x2num:NaN or Inf found in input tensor.\n",
            "WARNING:tensorboardX.x2num:NaN or Inf found in input tensor.\n",
            "WARNING:tensorboardX.x2num:NaN or Inf found in input tensor.\n",
            "WARNING:tensorboardX.x2num:NaN or Inf found in input tensor.\n",
            "WARNING:tensorboardX.x2num:NaN or Inf found in input tensor.\n"
          ]
        },
        {
          "output_type": "stream",
          "name": "stdout",
          "text": [
            "Epoch 66/77.. Train loss: nan.. Val loss: nan.. Train L1 norm: nan.. Val L1 norm: nan.. Train Linf norm: nan.. Val Linf norm: nan\n"
          ]
        },
        {
          "output_type": "stream",
          "name": "stderr",
          "text": [
            "WARNING:tensorboardX.x2num:NaN or Inf found in input tensor.\n",
            "WARNING:tensorboardX.x2num:NaN or Inf found in input tensor.\n",
            "WARNING:tensorboardX.x2num:NaN or Inf found in input tensor.\n",
            "WARNING:tensorboardX.x2num:NaN or Inf found in input tensor.\n",
            "WARNING:tensorboardX.x2num:NaN or Inf found in input tensor.\n",
            "WARNING:tensorboardX.x2num:NaN or Inf found in input tensor.\n"
          ]
        },
        {
          "output_type": "stream",
          "name": "stdout",
          "text": [
            "Epoch 67/77.. Train loss: nan.. Val loss: nan.. Train L1 norm: nan.. Val L1 norm: nan.. Train Linf norm: nan.. Val Linf norm: nan\n"
          ]
        },
        {
          "output_type": "stream",
          "name": "stderr",
          "text": [
            "WARNING:tensorboardX.x2num:NaN or Inf found in input tensor.\n",
            "WARNING:tensorboardX.x2num:NaN or Inf found in input tensor.\n",
            "WARNING:tensorboardX.x2num:NaN or Inf found in input tensor.\n",
            "WARNING:tensorboardX.x2num:NaN or Inf found in input tensor.\n",
            "WARNING:tensorboardX.x2num:NaN or Inf found in input tensor.\n",
            "WARNING:tensorboardX.x2num:NaN or Inf found in input tensor.\n"
          ]
        },
        {
          "output_type": "stream",
          "name": "stdout",
          "text": [
            "Epoch 68/77.. Train loss: nan.. Val loss: nan.. Train L1 norm: nan.. Val L1 norm: nan.. Train Linf norm: nan.. Val Linf norm: nan\n"
          ]
        },
        {
          "output_type": "stream",
          "name": "stderr",
          "text": [
            "WARNING:tensorboardX.x2num:NaN or Inf found in input tensor.\n",
            "WARNING:tensorboardX.x2num:NaN or Inf found in input tensor.\n",
            "WARNING:tensorboardX.x2num:NaN or Inf found in input tensor.\n",
            "WARNING:tensorboardX.x2num:NaN or Inf found in input tensor.\n",
            "WARNING:tensorboardX.x2num:NaN or Inf found in input tensor.\n",
            "WARNING:tensorboardX.x2num:NaN or Inf found in input tensor.\n"
          ]
        },
        {
          "output_type": "stream",
          "name": "stdout",
          "text": [
            "Epoch 69/77.. Train loss: nan.. Val loss: nan.. Train L1 norm: nan.. Val L1 norm: nan.. Train Linf norm: nan.. Val Linf norm: nan\n"
          ]
        },
        {
          "output_type": "stream",
          "name": "stderr",
          "text": [
            "WARNING:tensorboardX.x2num:NaN or Inf found in input tensor.\n",
            "WARNING:tensorboardX.x2num:NaN or Inf found in input tensor.\n",
            "WARNING:tensorboardX.x2num:NaN or Inf found in input tensor.\n",
            "WARNING:tensorboardX.x2num:NaN or Inf found in input tensor.\n",
            "WARNING:tensorboardX.x2num:NaN or Inf found in input tensor.\n",
            "WARNING:tensorboardX.x2num:NaN or Inf found in input tensor.\n"
          ]
        },
        {
          "output_type": "stream",
          "name": "stdout",
          "text": [
            "Epoch 70/77.. Train loss: nan.. Val loss: nan.. Train L1 norm: nan.. Val L1 norm: nan.. Train Linf norm: nan.. Val Linf norm: nan\n"
          ]
        },
        {
          "output_type": "stream",
          "name": "stderr",
          "text": [
            "WARNING:tensorboardX.x2num:NaN or Inf found in input tensor.\n",
            "WARNING:tensorboardX.x2num:NaN or Inf found in input tensor.\n",
            "WARNING:tensorboardX.x2num:NaN or Inf found in input tensor.\n",
            "WARNING:tensorboardX.x2num:NaN or Inf found in input tensor.\n",
            "WARNING:tensorboardX.x2num:NaN or Inf found in input tensor.\n",
            "WARNING:tensorboardX.x2num:NaN or Inf found in input tensor.\n"
          ]
        },
        {
          "output_type": "stream",
          "name": "stdout",
          "text": [
            "Epoch 71/77.. Train loss: nan.. Val loss: nan.. Train L1 norm: nan.. Val L1 norm: nan.. Train Linf norm: nan.. Val Linf norm: nan\n"
          ]
        },
        {
          "output_type": "stream",
          "name": "stderr",
          "text": [
            "WARNING:tensorboardX.x2num:NaN or Inf found in input tensor.\n",
            "WARNING:tensorboardX.x2num:NaN or Inf found in input tensor.\n",
            "WARNING:tensorboardX.x2num:NaN or Inf found in input tensor.\n",
            "WARNING:tensorboardX.x2num:NaN or Inf found in input tensor.\n",
            "WARNING:tensorboardX.x2num:NaN or Inf found in input tensor.\n",
            "WARNING:tensorboardX.x2num:NaN or Inf found in input tensor.\n"
          ]
        },
        {
          "output_type": "stream",
          "name": "stdout",
          "text": [
            "Epoch 72/77.. Train loss: nan.. Val loss: nan.. Train L1 norm: nan.. Val L1 norm: nan.. Train Linf norm: nan.. Val Linf norm: nan\n"
          ]
        },
        {
          "output_type": "stream",
          "name": "stderr",
          "text": [
            "WARNING:tensorboardX.x2num:NaN or Inf found in input tensor.\n",
            "WARNING:tensorboardX.x2num:NaN or Inf found in input tensor.\n",
            "WARNING:tensorboardX.x2num:NaN or Inf found in input tensor.\n",
            "WARNING:tensorboardX.x2num:NaN or Inf found in input tensor.\n",
            "WARNING:tensorboardX.x2num:NaN or Inf found in input tensor.\n",
            "WARNING:tensorboardX.x2num:NaN or Inf found in input tensor.\n"
          ]
        },
        {
          "output_type": "stream",
          "name": "stdout",
          "text": [
            "Epoch 73/77.. Train loss: nan.. Val loss: nan.. Train L1 norm: nan.. Val L1 norm: nan.. Train Linf norm: nan.. Val Linf norm: nan\n"
          ]
        },
        {
          "output_type": "stream",
          "name": "stderr",
          "text": [
            "WARNING:tensorboardX.x2num:NaN or Inf found in input tensor.\n",
            "WARNING:tensorboardX.x2num:NaN or Inf found in input tensor.\n",
            "WARNING:tensorboardX.x2num:NaN or Inf found in input tensor.\n",
            "WARNING:tensorboardX.x2num:NaN or Inf found in input tensor.\n",
            "WARNING:tensorboardX.x2num:NaN or Inf found in input tensor.\n",
            "WARNING:tensorboardX.x2num:NaN or Inf found in input tensor.\n"
          ]
        },
        {
          "output_type": "stream",
          "name": "stdout",
          "text": [
            "Epoch 74/77.. Train loss: nan.. Val loss: nan.. Train L1 norm: nan.. Val L1 norm: nan.. Train Linf norm: nan.. Val Linf norm: nan\n"
          ]
        },
        {
          "output_type": "stream",
          "name": "stderr",
          "text": [
            "WARNING:tensorboardX.x2num:NaN or Inf found in input tensor.\n",
            "WARNING:tensorboardX.x2num:NaN or Inf found in input tensor.\n",
            "WARNING:tensorboardX.x2num:NaN or Inf found in input tensor.\n",
            "WARNING:tensorboardX.x2num:NaN or Inf found in input tensor.\n",
            "WARNING:tensorboardX.x2num:NaN or Inf found in input tensor.\n",
            "WARNING:tensorboardX.x2num:NaN or Inf found in input tensor.\n"
          ]
        },
        {
          "output_type": "stream",
          "name": "stdout",
          "text": [
            "Epoch 75/77.. Train loss: nan.. Val loss: nan.. Train L1 norm: nan.. Val L1 norm: nan.. Train Linf norm: nan.. Val Linf norm: nan\n"
          ]
        },
        {
          "output_type": "stream",
          "name": "stderr",
          "text": [
            "WARNING:tensorboardX.x2num:NaN or Inf found in input tensor.\n",
            "WARNING:tensorboardX.x2num:NaN or Inf found in input tensor.\n",
            "WARNING:tensorboardX.x2num:NaN or Inf found in input tensor.\n",
            "WARNING:tensorboardX.x2num:NaN or Inf found in input tensor.\n",
            "WARNING:tensorboardX.x2num:NaN or Inf found in input tensor.\n",
            "WARNING:tensorboardX.x2num:NaN or Inf found in input tensor.\n"
          ]
        },
        {
          "output_type": "stream",
          "name": "stdout",
          "text": [
            "Epoch 76/77.. Train loss: nan.. Val loss: nan.. Train L1 norm: nan.. Val L1 norm: nan.. Train Linf norm: nan.. Val Linf norm: nan\n"
          ]
        },
        {
          "output_type": "stream",
          "name": "stderr",
          "text": [
            "WARNING:tensorboardX.x2num:NaN or Inf found in input tensor.\n",
            "WARNING:tensorboardX.x2num:NaN or Inf found in input tensor.\n",
            "WARNING:tensorboardX.x2num:NaN or Inf found in input tensor.\n",
            "WARNING:tensorboardX.x2num:NaN or Inf found in input tensor.\n",
            "WARNING:tensorboardX.x2num:NaN or Inf found in input tensor.\n",
            "WARNING:tensorboardX.x2num:NaN or Inf found in input tensor.\n",
            "[W 2023-05-30 10:08:42,679] Trial 5 failed with parameters: {'n_layers': 6, 'n_units_0': 2593, 'n_units_1': 1444, 'n_units_2': 3500, 'n_units_3': 2702, 'n_units_4': 3112, 'n_units_5': 851, 'hidden_activation': 'PReLU', 'output_activation': 'Linear', 'loss': 'Huber', 'optimizer': 'SGD', 'lr': 0.003524401276098533, 'batch_size': 64, 'n_epochs': 77, 'scheduler': 'StepLR', 'prelu_init': 0.1751249703442277, 'dropout_rate': 0.003173946411195394, 'weight_decay': 4.572033229416146e-05, 'momentum': 0.24579755502737122, 'step_size': 9, 'gamma': 0.13720008807111037} because of the following error: The value nan is not acceptable..\n",
            "[W 2023-05-30 10:08:42,680] Trial 5 failed with value nan.\n"
          ]
        },
        {
          "output_type": "stream",
          "name": "stdout",
          "text": [
            "Epoch 77/77.. Train loss: nan.. Val loss: nan.. Train L1 norm: nan.. Val L1 norm: nan.. Train Linf norm: nan.. Val Linf norm: nan\n",
            "Epoch 1/146.. Train loss: 198821634530072576.000.. Val loss: 67647305670459.391.. Train L1 norm: 12174266.815.. Val L1 norm: 2360548.313.. Train Linf norm: 888048974.762.. Val Linf norm: 329862279.469\n",
            "Epoch 2/146.. Train loss: 26816535298685236.000.. Val loss: 14917886546634588.000.. Train L1 norm: 5060138.087.. Val L1 norm: 31935691.625.. Train Linf norm: 492380348.584.. Val Linf norm: 4477315710.733\n",
            "Epoch 3/146.. Train loss: 98598986791785872.000.. Val loss: 607859486562346.625.. Train L1 norm: 4952670.567.. Val L1 norm: 3863571.868.. Train Linf norm: 564057038.941.. Val Linf norm: 534033624.190\n",
            "Epoch 4/146.. Train loss: 25169322795529516.000.. Val loss: 8233470510410.411.. Train L1 norm: 7585466.011.. Val L1 norm: 743125.778.. Train Linf norm: 948701361.452.. Val Linf norm: 91109565.093\n",
            "Epoch 5/146.. Train loss: 37937990677419280.000.. Val loss: 342808144236598.625.. Train L1 norm: 5906957.210.. Val L1 norm: 9709135.147.. Train Linf norm: 692472238.676.. Val Linf norm: 1615612972.881\n",
            "Epoch 6/146.. Train loss: 68701441510919912.000.. Val loss: 232245967081893.625.. Train L1 norm: 5929837.855.. Val L1 norm: 2652325.347.. Train Linf norm: 674018527.236.. Val Linf norm: 322737622.478\n",
            "Epoch 7/146.. Train loss: 2321886472486234624.000.. Val loss: 286410925904582.000.. Train L1 norm: 4129444.619.. Val L1 norm: 5035324.626.. Train Linf norm: 570327485.906.. Val Linf norm: 689101196.319\n",
            "Epoch 8/146.. Train loss: 71448835173629136.000.. Val loss: 857022097976232.125.. Train L1 norm: 4533233.991.. Val L1 norm: 3209517.373.. Train Linf norm: 529777377.196.. Val Linf norm: 525433415.271\n",
            "Epoch 9/146.. Train loss: 1983087455748242.000.. Val loss: 13239623223589.820.. Train L1 norm: 1500924.123.. Val L1 norm: 1201026.097.. Train Linf norm: 166382538.479.. Val Linf norm: 162344920.155\n",
            "Epoch 10/146.. Train loss: 159041180315441.094.. Val loss: 8352784852468.805.. Train L1 norm: 1272359.417.. Val L1 norm: 948987.020.. Train Linf norm: 169499529.727.. Val Linf norm: 126781902.826\n",
            "Epoch 11/146.. Train loss: 594432408152815.375.. Val loss: 2864230780615.612.. Train L1 norm: 1209709.035.. Val L1 norm: 292643.240.. Train Linf norm: 140388299.191.. Val Linf norm: 35089900.563\n",
            "Epoch 12/146.. Train loss: 962150345022920.625.. Val loss: 5099642238446.251.. Train L1 norm: 1067226.145.. Val L1 norm: 501927.359.. Train Linf norm: 118403032.744.. Val Linf norm: 61121044.063\n",
            "Epoch 13/146.. Train loss: 34298043952157552.000.. Val loss: 77955514234271.609.. Train L1 norm: 2556129.871.. Val L1 norm: 2876186.753.. Train Linf norm: 334717859.933.. Val Linf norm: 409319766.256\n",
            "Epoch 14/146.. Train loss: 16943489451877368.000.. Val loss: 2233110214519.467.. Train L1 norm: 1423624.369.. Val L1 norm: 683462.716.. Train Linf norm: 159823614.102.. Val Linf norm: 107222156.296\n",
            "Epoch 15/146.. Train loss: 21307848390741544.000.. Val loss: 27869644237657.430.. Train L1 norm: 1038178.332.. Val L1 norm: 678863.166.. Train Linf norm: 138964760.704.. Val Linf norm: 92563013.320\n",
            "Epoch 16/146.. Train loss: 11145769767639060.000.. Val loss: 37933220809723.086.. Train L1 norm: 1450651.250.. Val L1 norm: 1661375.120.. Train Linf norm: 171990048.905.. Val Linf norm: 221202111.194\n",
            "Epoch 17/146.. Train loss: 2917417470199363.000.. Val loss: 1835945941860.352.. Train L1 norm: 1224490.125.. Val L1 norm: 321285.248.. Train Linf norm: 139940332.143.. Val Linf norm: 50007422.844\n",
            "Epoch 18/146.. Train loss: 670588059044469.625.. Val loss: 6689368019217.066.. Train L1 norm: 959937.985.. Val L1 norm: 547018.924.. Train Linf norm: 103895169.217.. Val Linf norm: 64817038.501\n",
            "Epoch 19/146.. Train loss: 9352160750028628.000.. Val loss: 3877267484145.527.. Train L1 norm: 1089095.367.. Val L1 norm: 787057.436.. Train Linf norm: 135741134.828.. Val Linf norm: 125715849.819\n",
            "Epoch 20/146.. Train loss: 445235397555433.375.. Val loss: 8810037217171.865.. Train L1 norm: 1081088.733.. Val L1 norm: 1186337.088.. Train Linf norm: 129474470.832.. Val Linf norm: 184576926.577\n",
            "Epoch 21/146.. Train loss: 759048472177979.250.. Val loss: 5496046424966.212.. Train L1 norm: 1047116.813.. Val L1 norm: 936288.066.. Train Linf norm: 119089026.074.. Val Linf norm: 147593373.940\n",
            "Epoch 22/146.. Train loss: 3508750476574270.500.. Val loss: 1230409874359.364.. Train L1 norm: 914832.106.. Val L1 norm: 413673.119.. Train Linf norm: 105796328.918.. Val Linf norm: 72242480.047\n",
            "Epoch 23/146.. Train loss: 499874034761252.375.. Val loss: 789731633646.797.. Train L1 norm: 789459.287.. Val L1 norm: 260874.367.. Train Linf norm: 92728710.311.. Val Linf norm: 43988762.532\n",
            "Epoch 24/146.. Train loss: 15274830560734156.000.. Val loss: 2948268876785.254.. Train L1 norm: 882244.894.. Val L1 norm: 561722.473.. Train Linf norm: 112380954.127.. Val Linf norm: 75920946.324\n",
            "Epoch 25/146.. Train loss: 805758697656968.750.. Val loss: 2139539178739.029.. Train L1 norm: 962265.299.. Val L1 norm: 464802.972.. Train Linf norm: 120415870.793.. Val Linf norm: 62092499.942\n",
            "Epoch 26/146.. Train loss: 1545665028896767.500.. Val loss: 1538594110749.628.. Train L1 norm: 882191.935.. Val L1 norm: 373136.194.. Train Linf norm: 104888787.612.. Val Linf norm: 48923011.407\n",
            "Epoch 27/146.. Train loss: 505548342206278.625.. Val loss: 1670863171376.469.. Train L1 norm: 782489.610.. Val L1 norm: 394692.482.. Train Linf norm: 83657894.900.. Val Linf norm: 51970403.641\n",
            "Epoch 28/146.. Train loss: 601950056222518.750.. Val loss: 1548779447700.685.. Train L1 norm: 927492.302.. Val L1 norm: 380144.257.. Train Linf norm: 117778918.974.. Val Linf norm: 50036509.313\n",
            "Epoch 29/146.. Train loss: 2102241306720997.000.. Val loss: 1729062981940.019.. Train L1 norm: 922516.631.. Val L1 norm: 404516.063.. Train Linf norm: 111961845.708.. Val Linf norm: 53437091.801\n",
            "Epoch 30/146.. Train loss: 182795721401179.469.. Val loss: 1720982544563.132.. Train L1 norm: 873320.872.. Val L1 norm: 403776.176.. Train Linf norm: 99897013.582.. Val Linf norm: 53340268.853\n",
            "Epoch 31/146.. Train loss: 2770234599178577.000.. Val loss: 1700943998043.204.. Train L1 norm: 921863.752.. Val L1 norm: 400920.494.. Train Linf norm: 115881482.146.. Val Linf norm: 52939959.310\n",
            "Epoch 32/146.. Train loss: 260051764239902.781.. Val loss: 1688594459599.394.. Train L1 norm: 986064.102.. Val L1 norm: 399367.194.. Train Linf norm: 130996293.217.. Val Linf norm: 52723855.067\n",
            "Epoch 33/146.. Train loss: 742046498794489.250.. Val loss: 1638491849647.719.. Train L1 norm: 797497.332.. Val L1 norm: 393709.881.. Train Linf norm: 85476007.959.. Val Linf norm: 51945974.813\n",
            "Epoch 34/146.. Train loss: 1975549907821036.500.. Val loss: 1319398684937.421.. Train L1 norm: 784893.720.. Val L1 norm: 347630.098.. Train Linf norm: 76933433.625.. Val Linf norm: 45540625.115\n",
            "Epoch 35/146.. Train loss: 350480365332381.250.. Val loss: 1276530651422.174.. Train L1 norm: 893397.182.. Val L1 norm: 339835.247.. Train Linf norm: 111018096.205.. Val Linf norm: 44424316.906\n",
            "Epoch 36/146.. Train loss: 479255362853891.500.. Val loss: 1020213174276.369.. Train L1 norm: 843154.279.. Val L1 norm: 282236.772.. Train Linf norm: 99120764.240.. Val Linf norm: 36106133.458\n",
            "Epoch 37/146.. Train loss: 95535554566875.656.. Val loss: 901902637611.964.. Train L1 norm: 815210.094.. Val L1 norm: 256626.459.. Train Linf norm: 94796261.467.. Val Linf norm: 32544287.471\n",
            "Epoch 38/146.. Train loss: 1178591183430558.750.. Val loss: 334946522282.940.. Train L1 norm: 847675.781.. Val L1 norm: 112886.259.. Train Linf norm: 105897007.088.. Val Linf norm: 14379793.300\n",
            "Epoch 39/146.. Train loss: 2646666644120876.000.. Val loss: 854248140116.241.. Train L1 norm: 822467.618.. Val L1 norm: 224027.385.. Train Linf norm: 103365120.205.. Val Linf norm: 33561547.968\n",
            "Epoch 40/146.. Train loss: 4265225638021806.000.. Val loss: 3843441559041.912.. Train L1 norm: 804662.197.. Val L1 norm: 583514.120.. Train Linf norm: 93556738.924.. Val Linf norm: 84094603.950\n",
            "Epoch 41/146.. Train loss: 104511044198132.234.. Val loss: 4700346664808.175.. Train L1 norm: 724454.981.. Val L1 norm: 649146.758.. Train Linf norm: 78224896.607.. Val Linf norm: 93204834.571\n",
            "Epoch 42/146.. Train loss: 8935291475603691.000.. Val loss: 340735071256.576.. Train L1 norm: 742598.923.. Val L1 norm: 312027.115.. Train Linf norm: 89512367.375.. Val Linf norm: 48334580.838\n",
            "Epoch 43/146.. Train loss: 2098188359828294.750.. Val loss: 2391609665301.163.. Train L1 norm: 863298.236.. Val L1 norm: 712247.159.. Train Linf norm: 111313139.594.. Val Linf norm: 104878415.942\n",
            "Epoch 44/146.. Train loss: 1733106868710134.750.. Val loss: 5202460953332.940.. Train L1 norm: 816278.860.. Val L1 norm: 1078938.415.. Train Linf norm: 98001236.097.. Val Linf norm: 161060350.194\n",
            "Epoch 45/146.. Train loss: 2418003850758088.500.. Val loss: 3823046959422.942.. Train L1 norm: 972187.607.. Val L1 norm: 921770.842.. Train Linf norm: 111962461.644.. Val Linf norm: 139746014.285\n",
            "Epoch 46/146.. Train loss: 721532387427869.375.. Val loss: 844473785341.269.. Train L1 norm: 816895.133.. Val L1 norm: 527511.580.. Train Linf norm: 93705605.187.. Val Linf norm: 85035550.610\n",
            "Epoch 47/146.. Train loss: 202649731256968.812.. Val loss: 574932524959.880.. Train L1 norm: 788486.427.. Val L1 norm: 436341.662.. Train Linf norm: 94271477.404.. Val Linf norm: 71246559.268\n",
            "Epoch 48/146.. Train loss: 254719049822266.969.. Val loss: 613123881081.242.. Train L1 norm: 702720.075.. Val L1 norm: 461238.934.. Train Linf norm: 79426210.216.. Val Linf norm: 75706234.275\n",
            "Epoch 49/146.. Train loss: 195634298304511.531.. Val loss: 891640505827.328.. Train L1 norm: 729465.624.. Val L1 norm: 535737.727.. Train Linf norm: 74420469.157.. Val Linf norm: 85851894.131\n",
            "Epoch 50/146.. Train loss: 227860445855294.625.. Val loss: 386444535636.514.. Train L1 norm: 798951.868.. Val L1 norm: 308986.808.. Train Linf norm: 96516154.346.. Val Linf norm: 50925678.937\n",
            "Epoch 51/146.. Train loss: 1633000294299909.750.. Val loss: 2147370700985.685.. Train L1 norm: 897234.936.. Val L1 norm: 929120.762.. Train Linf norm: 125705795.094.. Val Linf norm: 152403999.065\n",
            "Epoch 52/146.. Train loss: 2982463319441617.500.. Val loss: 18659705174255.207.. Train L1 norm: 1384351.832.. Val L1 norm: 1851409.648.. Train Linf norm: 171797773.183.. Val Linf norm: 276059858.990\n",
            "Epoch 53/146.. Train loss: 6149338145894006.000.. Val loss: 2028789394999.433.. Train L1 norm: 1451247.692.. Val L1 norm: 481978.117.. Train Linf norm: 184833057.082.. Val Linf norm: 71815627.294\n",
            "Epoch 54/146.. Train loss: 1012616750089161.875.. Val loss: 751879730473.643.. Train L1 norm: 649875.548.. Val L1 norm: 293387.053.. Train Linf norm: 85136341.440.. Val Linf norm: 45092131.007\n",
            "Epoch 55/146.. Train loss: 405745227319318.938.. Val loss: 279904902433.451.. Train L1 norm: 567888.025.. Val L1 norm: 123441.105.. Train Linf norm: 71615952.478.. Val Linf norm: 19127362.279\n",
            "Epoch 56/146.. Train loss: 383151354796355.438.. Val loss: 1047675623326.788.. Train L1 norm: 586548.017.. Val L1 norm: 389761.457.. Train Linf norm: 72875525.110.. Val Linf norm: 59115771.808\n",
            "Epoch 57/146.. Train loss: 267526260440005.719.. Val loss: 388674266062.302.. Train L1 norm: 510687.524.. Val L1 norm: 237158.839.. Train Linf norm: 54833243.545.. Val Linf norm: 38519970.931\n",
            "Epoch 58/146.. Train loss: 313948587517167.938.. Val loss: 623252864095.573.. Train L1 norm: 564290.094.. Val L1 norm: 216855.367.. Train Linf norm: 66794762.882.. Val Linf norm: 33900824.509\n",
            "Epoch 59/146.. Train loss: 85294542084419.469.. Val loss: 529076533968.896.. Train L1 norm: 608619.186.. Val L1 norm: 207476.123.. Train Linf norm: 75634019.966.. Val Linf norm: 32536525.012\n",
            "Epoch 60/146.. Train loss: 555384974472133.250.. Val loss: 1575588137463.535.. Train L1 norm: 582287.543.. Val L1 norm: 518198.080.. Train Linf norm: 66421323.594.. Val Linf norm: 78783672.529\n",
            "Epoch 61/146.. Train loss: 39513736161476688.000.. Val loss: 31777593309667.875.. Train L1 norm: 1131124.422.. Val L1 norm: 660588.057.. Train Linf norm: 130242782.909.. Val Linf norm: 93621578.003\n",
            "Epoch 62/146.. Train loss: 45132340108381720.000.. Val loss: 45137920879196.023.. Train L1 norm: 3139621.774.. Val L1 norm: 1440221.787.. Train Linf norm: 362024257.582.. Val Linf norm: 184002537.474\n",
            "Epoch 63/146.. Train loss: 10042697881496338.000.. Val loss: 209607279900413.125.. Train L1 norm: 1981364.940.. Val L1 norm: 3868397.542.. Train Linf norm: 240316217.179.. Val Linf norm: 523943369.727\n",
            "Epoch 64/146.. Train loss: 25854733781331396.000.. Val loss: 94791158179159.516.. Train L1 norm: 2327774.615.. Val L1 norm: 2568732.046.. Train Linf norm: 285413147.928.. Val Linf norm: 341597931.489\n",
            "Epoch 65/146.. Train loss: 5861482367871083.000.. Val loss: 9422392869501.883.. Train L1 norm: 1448073.218.. Val L1 norm: 691580.548.. Train Linf norm: 166315234.520.. Val Linf norm: 84846578.638\n",
            "Epoch 66/146.. Train loss: 5966119613179536.000.. Val loss: 128326897895962.484.. Train L1 norm: 884378.381.. Val L1 norm: 2013371.136.. Train Linf norm: 103653906.343.. Val Linf norm: 294881165.176\n",
            "Epoch 67/146.. Train loss: 61765413156410904.000.. Val loss: 1595623861728.051.. Train L1 norm: 1468139.402.. Val L1 norm: 456592.987.. Train Linf norm: 169688038.602.. Val Linf norm: 72280514.965\n",
            "Epoch 68/146.. Train loss: 80547165834097216.000.. Val loss: 18930465253761.570.. Train L1 norm: 4644619.615.. Val L1 norm: 820435.713.. Train Linf norm: 519036177.365.. Val Linf norm: 90983119.820\n",
            "Epoch 69/146.. Train loss: 3825503087378226.000.. Val loss: 55682570798357.984.. Train L1 norm: 1373252.742.. Val L1 norm: 2057578.827.. Train Linf norm: 162747765.472.. Val Linf norm: 272919475.573\n",
            "Epoch 70/146.. Train loss: 22074644373467300.000.. Val loss: 5263363622113.553.. Train L1 norm: 1213343.829.. Val L1 norm: 518479.939.. Train Linf norm: 144383507.344.. Val Linf norm: 56572604.357\n",
            "Epoch 71/146.. Train loss: 1482662917388767.000.. Val loss: 1223535101109.862.. Train L1 norm: 730889.717.. Val L1 norm: 505743.757.. Train Linf norm: 83110321.318.. Val Linf norm: 93112538.212\n",
            "Epoch 72/146.. Train loss: 1665117831214916.250.. Val loss: 3494698913785.446.. Train L1 norm: 777092.195.. Val L1 norm: 491256.888.. Train Linf norm: 103256650.143.. Val Linf norm: 57223973.194\n",
            "Epoch 73/146.. Train loss: 4378029138108818.500.. Val loss: 53537398395292.875.. Train L1 norm: 1392432.125.. Val L1 norm: 1607924.833.. Train Linf norm: 160384341.973.. Val Linf norm: 213106443.258\n",
            "Epoch 74/146.. Train loss: 8704372028336130.000.. Val loss: 2132618441780.975.. Train L1 norm: 1196224.353.. Val L1 norm: 383700.025.. Train Linf norm: 136344001.980.. Val Linf norm: 64390059.514\n",
            "Epoch 75/146.. Train loss: 823361297208806.125.. Val loss: 3488613119007.129.. Train L1 norm: 854383.421.. Val L1 norm: 333159.482.. Train Linf norm: 113197612.839.. Val Linf norm: 52419723.183\n",
            "Epoch 76/146.. Train loss: 721307647724703.875.. Val loss: 10091538865402.676.. Train L1 norm: 714961.805.. Val L1 norm: 450436.140.. Train Linf norm: 73784656.042.. Val Linf norm: 52926026.853\n",
            "Epoch 77/146.. Train loss: 1806915278881850.250.. Val loss: 15001109430569.096.. Train L1 norm: 922796.816.. Val L1 norm: 606981.656.. Train Linf norm: 111384828.606.. Val Linf norm: 69783825.696\n",
            "Epoch 78/146.. Train loss: 2947493954341276.500.. Val loss: 3427973187388.484.. Train L1 norm: 818208.243.. Val L1 norm: 355143.027.. Train Linf norm: 97754671.799.. Val Linf norm: 53649168.854\n",
            "Epoch 79/146.. Train loss: 18169167199678624.000.. Val loss: 8098093675070.532.. Train L1 norm: 969130.305.. Val L1 norm: 1194319.771.. Train Linf norm: 131060726.987.. Val Linf norm: 179848177.043\n",
            "Epoch 80/146.. Train loss: 2106976458652441.500.. Val loss: 7687755368200.056.. Train L1 norm: 1088148.145.. Val L1 norm: 1173149.450.. Train Linf norm: 122494215.491.. Val Linf norm: 176914806.655\n",
            "Epoch 81/146.. Train loss: 5272855841511130.000.. Val loss: 1871949305173.333.. Train L1 norm: 1026840.496.. Val L1 norm: 681820.173.. Train Linf norm: 128412000.615.. Val Linf norm: 107696167.466\n",
            "Epoch 82/146.. Train loss: 1340091637816623.000.. Val loss: 1274993166000.674.. Train L1 norm: 681010.960.. Val L1 norm: 597963.990.. Train Linf norm: 72933767.285.. Val Linf norm: 96796985.046\n",
            "Epoch 83/146.. Train loss: 375813163475211.750.. Val loss: 732487776412.194.. Train L1 norm: 689895.464.. Val L1 norm: 475063.620.. Train Linf norm: 81702538.820.. Val Linf norm: 77920600.951\n",
            "Epoch 84/146.. Train loss: 17539646788296126.000.. Val loss: 307096347737.020.. Train L1 norm: 643929.301.. Val L1 norm: 257420.480.. Train Linf norm: 79363574.542.. Val Linf norm: 45535089.615\n",
            "Epoch 85/146.. Train loss: 61143448703048.086.. Val loss: 304987802003.046.. Train L1 norm: 601749.882.. Val L1 norm: 258161.233.. Train Linf norm: 68573513.433.. Val Linf norm: 45654503.878\n",
            "Epoch 86/146.. Train loss: 92843042059051.703.. Val loss: 306450102770.074.. Train L1 norm: 615889.648.. Val L1 norm: 255110.083.. Train Linf norm: 70976246.516.. Val Linf norm: 45154501.189\n",
            "Epoch 87/146.. Train loss: 23917017638798.250.. Val loss: 306913857935.770.. Train L1 norm: 572434.086.. Val L1 norm: 253758.498.. Train Linf norm: 62381521.622.. Val Linf norm: 44928487.009\n",
            "Epoch 88/146.. Train loss: 1041930441601918.125.. Val loss: 311363352111.787.. Train L1 norm: 733074.853.. Val L1 norm: 248307.813.. Train Linf norm: 104801889.696.. Val Linf norm: 43974969.695\n",
            "Epoch 89/146.. Train loss: 441778323764431.125.. Val loss: 314078928713.591.. Train L1 norm: 608462.203.. Val L1 norm: 245369.016.. Train Linf norm: 74013542.799.. Val Linf norm: 43382348.669\n",
            "Epoch 90/146.. Train loss: 147523851542848.188.. Val loss: 313497110623.027.. Train L1 norm: 635182.824.. Val L1 norm: 245420.904.. Train Linf norm: 79467460.805.. Val Linf norm: 43397182.683\n",
            "Epoch 91/146.. Train loss: 3820463588685037.000.. Val loss: 315789274183.543.. Train L1 norm: 641281.344.. Val L1 norm: 244665.802.. Train Linf norm: 79610429.602.. Val Linf norm: 43233098.846\n",
            "Epoch 92/146.. Train loss: 4628660777105595.000.. Val loss: 311165019825.766.. Train L1 norm: 543468.688.. Val L1 norm: 246185.363.. Train Linf norm: 56339462.504.. Val Linf norm: 43565955.345\n",
            "Epoch 93/146.. Train loss: 198516574495568.219.. Val loss: 312625716784.879.. Train L1 norm: 609336.857.. Val L1 norm: 245625.892.. Train Linf norm: 71581374.221.. Val Linf norm: 43444737.960\n",
            "Epoch 94/146.. Train loss: 242851475485502.438.. Val loss: 318214958875.716.. Train L1 norm: 613160.428.. Val L1 norm: 244965.909.. Train Linf norm: 73068486.107.. Val Linf norm: 43269471.951\n",
            "Epoch 95/146.. Train loss: 991198225242948.500.. Val loss: 296498230472.431.. Train L1 norm: 637391.489.. Val L1 norm: 252517.634.. Train Linf norm: 80422827.541.. Val Linf norm: 44711593.734\n",
            "Epoch 96/146.. Train loss: 271694076685170.406.. Val loss: 288526217490.159.. Train L1 norm: 601567.018.. Val L1 norm: 260960.256.. Train Linf norm: 72113636.490.. Val Linf norm: 46071611.176\n",
            "Epoch 97/146.. Train loss: 966118972091418.875.. Val loss: 355645904341.129.. Train L1 norm: 652397.238.. Val L1 norm: 223457.631.. Train Linf norm: 87360633.211.. Val Linf norm: 38509130.224\n",
            "Epoch 98/146.. Train loss: 83937056725289.250.. Val loss: 383309265492.378.. Train L1 norm: 578469.645.. Val L1 norm: 219252.926.. Train Linf norm: 67885698.329.. Val Linf norm: 37231917.222\n",
            "Epoch 99/146.. Train loss: 19338854073593420.000.. Val loss: 2783171448423.492.. Train L1 norm: 646622.078.. Val L1 norm: 414766.086.. Train Linf norm: 81446070.463.. Val Linf norm: 51792716.189\n",
            "Epoch 100/146.. Train loss: 88431084886204.656.. Val loss: 2839678435467.810.. Train L1 norm: 566562.947.. Val L1 norm: 424319.883.. Train Linf norm: 58481820.605.. Val Linf norm: 53229610.389\n",
            "Epoch 101/146.. Train loss: 1160777660960791.500.. Val loss: 2143630067804.843.. Train L1 norm: 750925.835.. Val L1 norm: 349238.141.. Train Linf norm: 106651887.586.. Val Linf norm: 42405554.553\n",
            "Epoch 102/146.. Train loss: 2694479864302613.500.. Val loss: 774901606700.373.. Train L1 norm: 602221.591.. Val L1 norm: 203694.232.. Train Linf norm: 76355591.184.. Val Linf norm: 26292319.412\n",
            "Epoch 103/146.. Train loss: 1149311624123956.750.. Val loss: 289856314599.014.. Train L1 norm: 553830.242.. Val L1 norm: 210726.249.. Train Linf norm: 66198001.773.. Val Linf norm: 36326187.836\n",
            "Epoch 104/146.. Train loss: 759704524205288.875.. Val loss: 588237064484.727.. Train L1 norm: 523996.363.. Val L1 norm: 171093.164.. Train Linf norm: 57892947.229.. Val Linf norm: 23203613.731\n",
            "Epoch 105/146.. Train loss: 215624295381894.062.. Val loss: 767870890986.701.. Train L1 norm: 620442.607.. Val L1 norm: 175446.636.. Train Linf norm: 81479722.956.. Val Linf norm: 21338443.549\n",
            "Epoch 106/146.. Train loss: 900916087338633.000.. Val loss: 1875219506637.483.. Train L1 norm: 657002.959.. Val L1 norm: 311277.573.. Train Linf norm: 89275094.671.. Val Linf norm: 38581696.756\n",
            "Epoch 107/146.. Train loss: 529028942257500.062.. Val loss: 861351654203.938.. Train L1 norm: 531453.020.. Val L1 norm: 175037.741.. Train Linf norm: 58886019.452.. Val Linf norm: 19128181.190\n",
            "Epoch 108/146.. Train loss: 197778319995680.469.. Val loss: 431178280879.172.. Train L1 norm: 557945.671.. Val L1 norm: 159259.306.. Train Linf norm: 68965385.534.. Val Linf norm: 22692662.911\n",
            "Epoch 109/146.. Train loss: 2960482900246857.500.. Val loss: 5541831308721.084.. Train L1 norm: 581027.482.. Val L1 norm: 712151.872.. Train Linf norm: 69254421.534.. Val Linf norm: 97966021.649\n",
            "Epoch 110/146.. Train loss: 3334211778361081.500.. Val loss: 874754674351.582.. Train L1 norm: 493349.837.. Val L1 norm: 175472.646.. Train Linf norm: 63463333.419.. Val Linf norm: 19852930.634\n",
            "Epoch 111/146.. Train loss: 689948076761213.500.. Val loss: 145954968185.242.. Train L1 norm: 460903.489.. Val L1 norm: 129755.739.. Train Linf norm: 57379658.703.. Val Linf norm: 22156414.475\n",
            "Epoch 112/146.. Train loss: 1134147466501531.750.. Val loss: 968040142108.536.. Train L1 norm: 515510.085.. Val L1 norm: 487655.272.. Train Linf norm: 66425288.488.. Val Linf norm: 75969994.097\n",
            "Epoch 113/146.. Train loss: 843304529124422.875.. Val loss: 240604444404.395.. Train L1 norm: 517315.495.. Val L1 norm: 307467.032.. Train Linf norm: 62690455.346.. Val Linf norm: 50699531.071\n",
            "Epoch 114/146.. Train loss: 1237610058123275.750.. Val loss: 613982502259.917.. Train L1 norm: 493023.913.. Val L1 norm: 122603.521.. Train Linf norm: 69845465.642.. Val Linf norm: 13648238.043\n",
            "Epoch 115/146.. Train loss: 401233977090274.562.. Val loss: 88403193042.534.. Train L1 norm: 400349.080.. Val L1 norm: 104672.113.. Train Linf norm: 47002814.173.. Val Linf norm: 17170659.557\n",
            "Epoch 116/146.. Train loss: 625265159928650.125.. Val loss: 111280277144.644.. Train L1 norm: 460851.110.. Val L1 norm: 181525.718.. Train Linf norm: 61455434.081.. Val Linf norm: 28224743.803\n",
            "Epoch 117/146.. Train loss: 1243360253327824.000.. Val loss: 888748561041.545.. Train L1 norm: 418563.382.. Val L1 norm: 439366.017.. Train Linf norm: 46555317.174.. Val Linf norm: 64969866.031\n",
            "Epoch 118/146.. Train loss: 246663111335529.688.. Val loss: 1895099555075.413.. Train L1 norm: 477890.358.. Val L1 norm: 585556.156.. Train Linf norm: 55805530.734.. Val Linf norm: 85036731.316\n",
            "Epoch 119/146.. Train loss: 653027646803856.625.. Val loss: 556558585150.396.. Train L1 norm: 469654.936.. Val L1 norm: 380251.926.. Train Linf norm: 56231806.589.. Val Linf norm: 57089306.723\n",
            "Epoch 120/146.. Train loss: 366843077542296.188.. Val loss: 305931579916.288.. Train L1 norm: 410496.341.. Val L1 norm: 316499.859.. Train Linf norm: 50340079.690.. Val Linf norm: 48706619.176\n",
            "Epoch 121/146.. Train loss: 529287102278656.688.. Val loss: 1117198885043.132.. Train L1 norm: 458742.316.. Val L1 norm: 507102.575.. Train Linf norm: 57008207.706.. Val Linf norm: 76889412.466\n",
            "Epoch 122/146.. Train loss: 256018505334192.312.. Val loss: 1699057265217.809.. Train L1 norm: 582015.681.. Val L1 norm: 582391.199.. Train Linf norm: 71839374.931.. Val Linf norm: 86773761.405\n",
            "Epoch 123/146.. Train loss: 616418990476043.375.. Val loss: 615329896084.275.. Train L1 norm: 587309.634.. Val L1 norm: 405307.053.. Train Linf norm: 74127718.223.. Val Linf norm: 61814303.036\n",
            "Epoch 124/146.. Train loss: 235589970530245.031.. Val loss: 238963287805.133.. Train L1 norm: 443888.784.. Val L1 norm: 297687.650.. Train Linf norm: 56215380.953.. Val Linf norm: 47980652.220\n",
            "Epoch 125/146.. Train loss: 1838030394706879.250.. Val loss: 474088052480.410.. Train L1 norm: 381627.048.. Val L1 norm: 114773.051.. Train Linf norm: 46853060.822.. Val Linf norm: 13777525.659\n",
            "Epoch 126/146.. Train loss: 29369474349130.430.. Val loss: 610934493751.979.. Train L1 norm: 392133.997.. Val L1 norm: 131261.714.. Train Linf norm: 48090054.104.. Val Linf norm: 14887206.561\n",
            "Epoch 127/146.. Train loss: 100737765756224.891.. Val loss: 366938413741.943.. Train L1 norm: 351956.117.. Val L1 norm: 101532.906.. Train Linf norm: 37574484.973.. Val Linf norm: 12056703.744\n",
            "Epoch 128/146.. Train loss: 94027988214443.453.. Val loss: 196970112561.971.. Train L1 norm: 388804.864.. Val L1 norm: 93408.926.. Train Linf norm: 49759606.695.. Val Linf norm: 13714825.447\n",
            "Epoch 129/146.. Train loss: 1527638740749981.250.. Val loss: 245261741881.207.. Train L1 norm: 413881.737.. Val L1 norm: 269614.813.. Train Linf norm: 54768585.835.. Val Linf norm: 41505224.835\n",
            "Epoch 130/146.. Train loss: 4392977107738457.500.. Val loss: 503145599198.822.. Train L1 norm: 509874.295.. Val L1 norm: 270508.998.. Train Linf norm: 67817249.885.. Val Linf norm: 43735029.033\n",
            "Epoch 131/146.. Train loss: 2254080046019858.500.. Val loss: 2101867283297.075.. Train L1 norm: 634185.564.. Val L1 norm: 499891.698.. Train Linf norm: 77612254.415.. Val Linf norm: 71962540.209\n",
            "Epoch 132/146.. Train loss: 131062602049100.188.. Val loss: 2795814990512.128.. Train L1 norm: 547911.835.. Val L1 norm: 575317.844.. Train Linf norm: 58220856.758.. Val Linf norm: 82438651.413\n",
            "Epoch 133/146.. Train loss: 384283022665142.375.. Val loss: 1336927934786.219.. Train L1 norm: 628593.021.. Val L1 norm: 402567.623.. Train Linf norm: 74826982.300.. Val Linf norm: 58963702.665\n",
            "Epoch 134/146.. Train loss: 122786968778579.266.. Val loss: 920360752344.815.. Train L1 norm: 549062.202.. Val L1 norm: 340922.307.. Train Linf norm: 65941452.986.. Val Linf norm: 50904424.977\n",
            "Epoch 135/146.. Train loss: 577847096545842.625.. Val loss: 513907711542.340.. Train L1 norm: 534942.914.. Val L1 norm: 236848.504.. Train Linf norm: 64167059.077.. Val Linf norm: 37153123.062\n",
            "Epoch 136/146.. Train loss: 134738211008765.719.. Val loss: 673385044569.839.. Train L1 norm: 528832.595.. Val L1 norm: 286418.876.. Train Linf norm: 61796957.243.. Val Linf norm: 43579379.171\n",
            "Epoch 137/146.. Train loss: 378402643644559.250.. Val loss: 387243010707.183.. Train L1 norm: 504100.516.. Val L1 norm: 160327.594.. Train Linf norm: 59747025.340.. Val Linf norm: 25362512.926\n",
            "Epoch 138/146.. Train loss: 1198034814174925.500.. Val loss: 577003187326.157.. Train L1 norm: 466741.770.. Val L1 norm: 125356.972.. Train Linf norm: 52274692.821.. Val Linf norm: 17300972.556\n",
            "Epoch 139/146.. Train loss: 2444916765562271.000.. Val loss: 998830359572.207.. Train L1 norm: 530721.193.. Val L1 norm: 430133.999.. Train Linf norm: 62485629.992.. Val Linf norm: 65320234.386\n",
            "Epoch 140/146.. Train loss: 1270189193547975.500.. Val loss: 2236816242289.323.. Train L1 norm: 613994.662.. Val L1 norm: 602390.185.. Train Linf norm: 76112673.699.. Val Linf norm: 88607667.431\n",
            "Epoch 141/146.. Train loss: 193653158303168.688.. Val loss: 2191341917735.049.. Train L1 norm: 593312.539.. Val L1 norm: 598694.311.. Train Linf norm: 62710567.123.. Val Linf norm: 88144777.390\n",
            "Epoch 142/146.. Train loss: 933799304348498.125.. Val loss: 1315513905778.961.. Train L1 norm: 720608.047.. Val L1 norm: 473061.587.. Train Linf norm: 100574208.173.. Val Linf norm: 70532270.179\n",
            "Epoch 143/146.. Train loss: 235270443268818.312.. Val loss: 1304698630329.685.. Train L1 norm: 610069.408.. Val L1 norm: 469772.698.. Train Linf norm: 75989649.349.. Val Linf norm: 69931699.934\n",
            "Epoch 144/146.. Train loss: 939033670584657.500.. Val loss: 1068367153231.735.. Train L1 norm: 551589.330.. Val L1 norm: 433964.597.. Train Linf norm: 62473404.558.. Val Linf norm: 65100473.650\n",
            "Epoch 145/146.. Train loss: 487587473730216.188.. Val loss: 1013043363931.750.. Train L1 norm: 582284.771.. Val L1 norm: 424259.773.. Train Linf norm: 75256410.603.. Val Linf norm: 63765307.025\n"
          ]
        },
        {
          "output_type": "stream",
          "name": "stderr",
          "text": [
            "[I 2023-05-30 10:26:33,542] Trial 6 finished with value: 440394.274525 and parameters: {'n_layers': 7, 'n_units_0': 1614, 'n_units_1': 1355, 'n_units_2': 3410, 'n_units_3': 3157, 'n_units_4': 3766, 'n_units_5': 597, 'n_units_6': 3573, 'hidden_activation': 'PReLU', 'output_activation': 'Linear', 'loss': 'MSE', 'optimizer': 'Adagrad', 'lr': 0.013700206035035292, 'batch_size': 256, 'n_epochs': 146, 'scheduler': 'CosineAnnealingLR', 'prelu_init': 0.2580673433713978, 'dropout_rate': 0.4949906467562203, 't_max_fraction': 0.21227748234699595, 'eta_min': 2.6941440795096592e-05}. Best is trial 0 with value: 5.821234536997477.\n"
          ]
        },
        {
          "output_type": "stream",
          "name": "stdout",
          "text": [
            "Epoch 146/146.. Train loss: 1113813474544698.750.. Val loss: 1103582463109.803.. Train L1 norm: 506678.553.. Val L1 norm: 440394.275.. Train Linf norm: 56805015.978.. Val Linf norm: 65900385.077\n"
          ]
        },
        {
          "output_type": "stream",
          "name": "stderr",
          "text": [
            "WARNING:tensorboardX.x2num:NaN or Inf found in input tensor.\n",
            "WARNING:tensorboardX.x2num:NaN or Inf found in input tensor.\n",
            "WARNING:tensorboardX.x2num:NaN or Inf found in input tensor.\n",
            "WARNING:tensorboardX.x2num:NaN or Inf found in input tensor.\n",
            "WARNING:tensorboardX.x2num:NaN or Inf found in input tensor.\n",
            "WARNING:tensorboardX.x2num:NaN or Inf found in input tensor.\n",
            "/usr/local/lib/python3.10/dist-packages/optuna/pruners/_percentile.py:20: RuntimeWarning: All-NaN slice encountered\n",
            "  return np.nanmin(values)\n",
            "[I 2023-05-30 10:26:54,501] Trial 7 pruned. \n"
          ]
        },
        {
          "output_type": "stream",
          "name": "stdout",
          "text": [
            "Epoch 1/111.. Train loss: nan.. Val loss: nan.. Train L1 norm: nan.. Val L1 norm: nan.. Train Linf norm: nan.. Val Linf norm: nan\n",
            "Epoch 1/109.. Train loss: 133.537.. Val loss: 4.915.. Train L1 norm: 126.859.. Val L1 norm: 1.612.. Train Linf norm: 16099.550.. Val Linf norm: 221.521\n",
            "Epoch 2/109.. Train loss: 6.678.. Val loss: 4.712.. Train L1 norm: 2.956.. Val L1 norm: 2.226.. Train Linf norm: 509.764.. Val Linf norm: 418.072\n",
            "Epoch 3/109.. Train loss: 40.794.. Val loss: 4.551.. Train L1 norm: 32.503.. Val L1 norm: 3.075.. Train Linf norm: 6591.193.. Val Linf norm: 674.284\n",
            "Epoch 4/109.. Train loss: 4.775.. Val loss: 4.443.. Train L1 norm: 3.203.. Val L1 norm: 3.854.. Train Linf norm: 596.644.. Val Linf norm: 901.606\n",
            "Epoch 5/109.. Train loss: 4.447.. Val loss: 4.375.. Train L1 norm: 3.296.. Val L1 norm: 4.518.. Train Linf norm: 535.444.. Val Linf norm: 1091.622\n",
            "Epoch 6/109.. Train loss: 4.384.. Val loss: 4.339.. Train L1 norm: 3.710.. Val L1 norm: 5.053.. Train Linf norm: 626.503.. Val Linf norm: 1242.644\n",
            "Epoch 7/109.. Train loss: 4.321.. Val loss: 4.330.. Train L1 norm: 3.962.. Val L1 norm: 5.237.. Train Linf norm: 686.514.. Val Linf norm: 1294.159\n",
            "Epoch 8/109.. Train loss: 32.759.. Val loss: 4.324.. Train L1 norm: 11.943.. Val L1 norm: 5.382.. Train Linf norm: 2157.655.. Val Linf norm: 1334.817\n",
            "Epoch 9/109.. Train loss: 4.306.. Val loss: 4.319.. Train L1 norm: 4.189.. Val L1 norm: 5.516.. Train Linf norm: 744.232.. Val Linf norm: 1372.228\n",
            "Epoch 10/109.. Train loss: 4.301.. Val loss: 4.316.. Train L1 norm: 4.280.. Val L1 norm: 5.635.. Train Linf norm: 740.427.. Val Linf norm: 1405.430\n",
            "Epoch 11/109.. Train loss: 4.297.. Val loss: 4.313.. Train L1 norm: 4.367.. Val L1 norm: 5.743.. Train Linf norm: 744.811.. Val Linf norm: 1435.474\n",
            "Epoch 12/109.. Train loss: 4.295.. Val loss: 4.311.. Train L1 norm: 4.440.. Val L1 norm: 5.836.. Train Linf norm: 773.521.. Val Linf norm: 1461.219\n",
            "Epoch 13/109.. Train loss: 4.293.. Val loss: 4.311.. Train L1 norm: 4.487.. Val L1 norm: 5.871.. Train Linf norm: 786.241.. Val Linf norm: 1470.858\n",
            "Epoch 14/109.. Train loss: 4.293.. Val loss: 4.310.. Train L1 norm: 4.511.. Val L1 norm: 5.903.. Train Linf norm: 776.351.. Val Linf norm: 1479.634\n",
            "Epoch 15/109.. Train loss: 4.293.. Val loss: 4.310.. Train L1 norm: 4.536.. Val L1 norm: 5.933.. Train Linf norm: 774.671.. Val Linf norm: 1487.953\n",
            "Epoch 16/109.. Train loss: 4.292.. Val loss: 4.310.. Train L1 norm: 4.557.. Val L1 norm: 5.961.. Train Linf norm: 794.776.. Val Linf norm: 1495.866\n",
            "Epoch 17/109.. Train loss: 4.291.. Val loss: 4.309.. Train L1 norm: 4.578.. Val L1 norm: 5.987.. Train Linf norm: 809.668.. Val Linf norm: 1502.893\n",
            "Epoch 18/109.. Train loss: 4.291.. Val loss: 4.309.. Train L1 norm: 4.596.. Val L1 norm: 6.011.. Train Linf norm: 801.085.. Val Linf norm: 1509.698\n",
            "Epoch 19/109.. Train loss: 4.293.. Val loss: 4.309.. Train L1 norm: 4.610.. Val L1 norm: 6.021.. Train Linf norm: 784.071.. Val Linf norm: 1512.297\n",
            "Epoch 20/109.. Train loss: 4.291.. Val loss: 4.309.. Train L1 norm: 4.616.. Val L1 norm: 6.031.. Train Linf norm: 829.276.. Val Linf norm: 1515.107\n",
            "Epoch 21/109.. Train loss: 4.291.. Val loss: 4.309.. Train L1 norm: 4.623.. Val L1 norm: 6.040.. Train Linf norm: 792.044.. Val Linf norm: 1517.652\n",
            "Epoch 22/109.. Train loss: 4.329.. Val loss: 4.309.. Train L1 norm: 4.647.. Val L1 norm: 6.049.. Train Linf norm: 819.104.. Val Linf norm: 1520.092\n",
            "Epoch 23/109.. Train loss: 4.291.. Val loss: 4.309.. Train L1 norm: 4.636.. Val L1 norm: 6.057.. Train Linf norm: 802.612.. Val Linf norm: 1522.330\n",
            "Epoch 24/109.. Train loss: 4.347.. Val loss: 4.309.. Train L1 norm: 4.658.. Val L1 norm: 6.066.. Train Linf norm: 810.883.. Val Linf norm: 1524.860\n",
            "Epoch 25/109.. Train loss: 4.290.. Val loss: 4.309.. Train L1 norm: 4.647.. Val L1 norm: 6.070.. Train Linf norm: 839.150.. Val Linf norm: 1525.852\n",
            "Epoch 26/109.. Train loss: 4.290.. Val loss: 4.309.. Train L1 norm: 4.650.. Val L1 norm: 6.073.. Train Linf norm: 833.345.. Val Linf norm: 1526.805\n",
            "Epoch 27/109.. Train loss: 4.290.. Val loss: 4.309.. Train L1 norm: 4.652.. Val L1 norm: 6.077.. Train Linf norm: 836.853.. Val Linf norm: 1527.712\n",
            "Epoch 28/109.. Train loss: 4.290.. Val loss: 4.309.. Train L1 norm: 4.655.. Val L1 norm: 6.080.. Train Linf norm: 783.872.. Val Linf norm: 1528.614\n",
            "Epoch 29/109.. Train loss: 4.290.. Val loss: 4.309.. Train L1 norm: 4.657.. Val L1 norm: 6.083.. Train Linf norm: 810.832.. Val Linf norm: 1529.578\n",
            "Epoch 30/109.. Train loss: 4.290.. Val loss: 4.309.. Train L1 norm: 4.660.. Val L1 norm: 6.087.. Train Linf norm: 815.126.. Val Linf norm: 1530.641\n",
            "Epoch 31/109.. Train loss: 4.290.. Val loss: 4.309.. Train L1 norm: 4.662.. Val L1 norm: 6.089.. Train Linf norm: 802.394.. Val Linf norm: 1531.028\n",
            "Epoch 32/109.. Train loss: 4.290.. Val loss: 4.309.. Train L1 norm: 4.663.. Val L1 norm: 6.090.. Train Linf norm: 844.006.. Val Linf norm: 1531.459\n",
            "Epoch 33/109.. Train loss: 4.290.. Val loss: 4.309.. Train L1 norm: 4.664.. Val L1 norm: 6.092.. Train Linf norm: 837.598.. Val Linf norm: 1531.884\n",
            "Epoch 34/109.. Train loss: 4.290.. Val loss: 4.309.. Train L1 norm: 4.665.. Val L1 norm: 6.093.. Train Linf norm: 801.954.. Val Linf norm: 1532.248\n",
            "Epoch 35/109.. Train loss: 4.290.. Val loss: 4.309.. Train L1 norm: 4.666.. Val L1 norm: 6.094.. Train Linf norm: 844.602.. Val Linf norm: 1532.596\n",
            "Epoch 36/109.. Train loss: 4.290.. Val loss: 4.309.. Train L1 norm: 4.667.. Val L1 norm: 6.096.. Train Linf norm: 836.482.. Val Linf norm: 1533.050\n",
            "Epoch 37/109.. Train loss: 4.290.. Val loss: 4.309.. Train L1 norm: 4.668.. Val L1 norm: 6.097.. Train Linf norm: 781.460.. Val Linf norm: 1533.249\n",
            "Epoch 38/109.. Train loss: 4.290.. Val loss: 4.309.. Train L1 norm: 4.669.. Val L1 norm: 6.097.. Train Linf norm: 814.699.. Val Linf norm: 1533.440\n",
            "Epoch 39/109.. Train loss: 4.290.. Val loss: 4.309.. Train L1 norm: 4.669.. Val L1 norm: 6.098.. Train Linf norm: 794.032.. Val Linf norm: 1533.647\n",
            "Epoch 40/109.. Train loss: 4.290.. Val loss: 4.309.. Train L1 norm: 4.670.. Val L1 norm: 6.099.. Train Linf norm: 821.551.. Val Linf norm: 1533.846\n",
            "Epoch 41/109.. Train loss: 4.290.. Val loss: 4.309.. Train L1 norm: 4.670.. Val L1 norm: 6.100.. Train Linf norm: 789.376.. Val Linf norm: 1534.087\n",
            "Epoch 42/109.. Train loss: 4.290.. Val loss: 4.309.. Train L1 norm: 4.671.. Val L1 norm: 6.100.. Train Linf norm: 818.004.. Val Linf norm: 1534.256\n",
            "Epoch 43/109.. Train loss: 4.290.. Val loss: 4.309.. Train L1 norm: 4.671.. Val L1 norm: 6.101.. Train Linf norm: 807.189.. Val Linf norm: 1534.342\n",
            "Epoch 44/109.. Train loss: 4.290.. Val loss: 4.309.. Train L1 norm: 4.671.. Val L1 norm: 6.101.. Train Linf norm: 830.160.. Val Linf norm: 1534.440\n",
            "Epoch 45/109.. Train loss: 4.290.. Val loss: 4.309.. Train L1 norm: 4.672.. Val L1 norm: 6.101.. Train Linf norm: 826.211.. Val Linf norm: 1534.507\n",
            "Epoch 46/109.. Train loss: 4.290.. Val loss: 4.309.. Train L1 norm: 4.672.. Val L1 norm: 6.102.. Train Linf norm: 793.291.. Val Linf norm: 1534.628\n",
            "Epoch 47/109.. Train loss: 4.290.. Val loss: 4.309.. Train L1 norm: 4.672.. Val L1 norm: 6.102.. Train Linf norm: 782.890.. Val Linf norm: 1534.724\n",
            "Epoch 48/109.. Train loss: 4.290.. Val loss: 4.309.. Train L1 norm: 4.672.. Val L1 norm: 6.102.. Train Linf norm: 806.233.. Val Linf norm: 1534.822\n",
            "Epoch 49/109.. Train loss: 4.290.. Val loss: 4.309.. Train L1 norm: 4.673.. Val L1 norm: 6.103.. Train Linf norm: 775.090.. Val Linf norm: 1534.862\n",
            "Epoch 50/109.. Train loss: 4.290.. Val loss: 4.309.. Train L1 norm: 4.673.. Val L1 norm: 6.103.. Train Linf norm: 832.495.. Val Linf norm: 1534.891\n",
            "Epoch 51/109.. Train loss: 4.290.. Val loss: 4.309.. Train L1 norm: 4.673.. Val L1 norm: 6.103.. Train Linf norm: 807.509.. Val Linf norm: 1534.954\n",
            "Epoch 52/109.. Train loss: 4.290.. Val loss: 4.309.. Train L1 norm: 4.673.. Val L1 norm: 6.103.. Train Linf norm: 820.036.. Val Linf norm: 1534.995\n",
            "Epoch 53/109.. Train loss: 4.290.. Val loss: 4.309.. Train L1 norm: 4.673.. Val L1 norm: 6.103.. Train Linf norm: 843.844.. Val Linf norm: 1535.041\n",
            "Epoch 54/109.. Train loss: 4.290.. Val loss: 4.309.. Train L1 norm: 4.673.. Val L1 norm: 6.103.. Train Linf norm: 778.007.. Val Linf norm: 1535.083\n",
            "Epoch 55/109.. Train loss: 4.290.. Val loss: 4.309.. Train L1 norm: 4.673.. Val L1 norm: 6.103.. Train Linf norm: 849.090.. Val Linf norm: 1535.100\n",
            "Epoch 56/109.. Train loss: 4.290.. Val loss: 4.309.. Train L1 norm: 4.673.. Val L1 norm: 6.103.. Train Linf norm: 845.641.. Val Linf norm: 1535.122\n",
            "Epoch 57/109.. Train loss: 4.290.. Val loss: 4.309.. Train L1 norm: 4.673.. Val L1 norm: 6.104.. Train Linf norm: 814.464.. Val Linf norm: 1535.141\n",
            "Epoch 58/109.. Train loss: 4.290.. Val loss: 4.309.. Train L1 norm: 4.673.. Val L1 norm: 6.104.. Train Linf norm: 805.263.. Val Linf norm: 1535.159\n",
            "Epoch 59/109.. Train loss: 4.290.. Val loss: 4.309.. Train L1 norm: 4.674.. Val L1 norm: 6.104.. Train Linf norm: 802.457.. Val Linf norm: 1535.186\n",
            "Epoch 60/109.. Train loss: 4.290.. Val loss: 4.309.. Train L1 norm: 4.674.. Val L1 norm: 6.104.. Train Linf norm: 834.585.. Val Linf norm: 1535.204\n",
            "Epoch 61/109.. Train loss: 4.290.. Val loss: 4.309.. Train L1 norm: 4.674.. Val L1 norm: 6.104.. Train Linf norm: 821.406.. Val Linf norm: 1535.217\n",
            "Epoch 62/109.. Train loss: 4.290.. Val loss: 4.309.. Train L1 norm: 4.674.. Val L1 norm: 6.104.. Train Linf norm: 814.696.. Val Linf norm: 1535.232\n",
            "Epoch 63/109.. Train loss: 4.290.. Val loss: 4.309.. Train L1 norm: 4.674.. Val L1 norm: 6.104.. Train Linf norm: 841.646.. Val Linf norm: 1535.242\n",
            "Epoch 64/109.. Train loss: 4.290.. Val loss: 4.309.. Train L1 norm: 4.674.. Val L1 norm: 6.104.. Train Linf norm: 799.915.. Val Linf norm: 1535.254\n",
            "Epoch 65/109.. Train loss: 4.290.. Val loss: 4.309.. Train L1 norm: 4.674.. Val L1 norm: 6.104.. Train Linf norm: 785.901.. Val Linf norm: 1535.268\n",
            "Epoch 66/109.. Train loss: 4.290.. Val loss: 4.309.. Train L1 norm: 4.674.. Val L1 norm: 6.104.. Train Linf norm: 797.267.. Val Linf norm: 1535.279\n",
            "Epoch 67/109.. Train loss: 4.290.. Val loss: 4.309.. Train L1 norm: 4.674.. Val L1 norm: 6.104.. Train Linf norm: 820.812.. Val Linf norm: 1535.279\n",
            "Epoch 68/109.. Train loss: 4.290.. Val loss: 4.309.. Train L1 norm: 4.674.. Val L1 norm: 6.104.. Train Linf norm: 816.403.. Val Linf norm: 1535.279\n",
            "Epoch 69/109.. Train loss: 4.290.. Val loss: 4.309.. Train L1 norm: 4.674.. Val L1 norm: 6.104.. Train Linf norm: 835.581.. Val Linf norm: 1535.279\n",
            "Epoch 70/109.. Train loss: 4.290.. Val loss: 4.309.. Train L1 norm: 4.674.. Val L1 norm: 6.104.. Train Linf norm: 789.859.. Val Linf norm: 1535.279\n",
            "Epoch 71/109.. Train loss: 4.290.. Val loss: 4.309.. Train L1 norm: 4.674.. Val L1 norm: 6.104.. Train Linf norm: 779.756.. Val Linf norm: 1535.279\n",
            "Epoch 72/109.. Train loss: 4.290.. Val loss: 4.309.. Train L1 norm: 4.674.. Val L1 norm: 6.104.. Train Linf norm: 792.512.. Val Linf norm: 1535.279\n",
            "Epoch 73/109.. Train loss: 4.290.. Val loss: 4.309.. Train L1 norm: 4.674.. Val L1 norm: 6.104.. Train Linf norm: 810.714.. Val Linf norm: 1535.279\n",
            "Epoch 74/109.. Train loss: 4.290.. Val loss: 4.309.. Train L1 norm: 4.674.. Val L1 norm: 6.104.. Train Linf norm: 767.396.. Val Linf norm: 1535.279\n",
            "Epoch 75/109.. Train loss: 4.290.. Val loss: 4.309.. Train L1 norm: 4.674.. Val L1 norm: 6.104.. Train Linf norm: 811.977.. Val Linf norm: 1535.279\n",
            "Epoch 76/109.. Train loss: 4.290.. Val loss: 4.309.. Train L1 norm: 4.674.. Val L1 norm: 6.104.. Train Linf norm: 839.403.. Val Linf norm: 1535.279\n",
            "Epoch 77/109.. Train loss: 4.290.. Val loss: 4.309.. Train L1 norm: 4.674.. Val L1 norm: 6.104.. Train Linf norm: 828.098.. Val Linf norm: 1535.279\n",
            "Epoch 78/109.. Train loss: 4.290.. Val loss: 4.309.. Train L1 norm: 4.674.. Val L1 norm: 6.104.. Train Linf norm: 837.488.. Val Linf norm: 1535.279\n",
            "Epoch 79/109.. Train loss: 4.290.. Val loss: 4.309.. Train L1 norm: 4.674.. Val L1 norm: 6.104.. Train Linf norm: 844.074.. Val Linf norm: 1535.279\n",
            "Epoch 80/109.. Train loss: 4.290.. Val loss: 4.309.. Train L1 norm: 4.674.. Val L1 norm: 6.104.. Train Linf norm: 796.712.. Val Linf norm: 1535.279\n",
            "Epoch 81/109.. Train loss: 4.290.. Val loss: 4.309.. Train L1 norm: 4.674.. Val L1 norm: 6.104.. Train Linf norm: 836.035.. Val Linf norm: 1535.279\n",
            "Epoch 82/109.. Train loss: 4.290.. Val loss: 4.309.. Train L1 norm: 4.674.. Val L1 norm: 6.104.. Train Linf norm: 810.443.. Val Linf norm: 1535.279\n",
            "Epoch 83/109.. Train loss: 4.290.. Val loss: 4.309.. Train L1 norm: 4.674.. Val L1 norm: 6.104.. Train Linf norm: 796.500.. Val Linf norm: 1535.279\n",
            "Epoch 84/109.. Train loss: 4.290.. Val loss: 4.309.. Train L1 norm: 4.674.. Val L1 norm: 6.104.. Train Linf norm: 783.177.. Val Linf norm: 1535.279\n",
            "Epoch 85/109.. Train loss: 4.290.. Val loss: 4.309.. Train L1 norm: 4.674.. Val L1 norm: 6.104.. Train Linf norm: 800.741.. Val Linf norm: 1535.279\n",
            "Epoch 86/109.. Train loss: 4.292.. Val loss: 4.309.. Train L1 norm: 4.675.. Val L1 norm: 6.104.. Train Linf norm: 846.873.. Val Linf norm: 1535.279\n",
            "Epoch 87/109.. Train loss: 4.290.. Val loss: 4.309.. Train L1 norm: 4.674.. Val L1 norm: 6.104.. Train Linf norm: 799.558.. Val Linf norm: 1535.279\n",
            "Epoch 88/109.. Train loss: 4.290.. Val loss: 4.309.. Train L1 norm: 4.674.. Val L1 norm: 6.104.. Train Linf norm: 775.592.. Val Linf norm: 1535.279\n",
            "Epoch 89/109.. Train loss: 4.290.. Val loss: 4.309.. Train L1 norm: 4.674.. Val L1 norm: 6.104.. Train Linf norm: 811.311.. Val Linf norm: 1535.279\n",
            "Epoch 90/109.. Train loss: 4.290.. Val loss: 4.309.. Train L1 norm: 4.674.. Val L1 norm: 6.104.. Train Linf norm: 828.951.. Val Linf norm: 1535.279\n",
            "Epoch 91/109.. Train loss: 4.290.. Val loss: 4.309.. Train L1 norm: 4.674.. Val L1 norm: 6.104.. Train Linf norm: 819.869.. Val Linf norm: 1535.279\n",
            "Epoch 92/109.. Train loss: 4.290.. Val loss: 4.309.. Train L1 norm: 4.674.. Val L1 norm: 6.104.. Train Linf norm: 811.943.. Val Linf norm: 1535.279\n",
            "Epoch 93/109.. Train loss: 4.290.. Val loss: 4.309.. Train L1 norm: 4.674.. Val L1 norm: 6.104.. Train Linf norm: 837.881.. Val Linf norm: 1535.279\n",
            "Epoch 94/109.. Train loss: 4.290.. Val loss: 4.309.. Train L1 norm: 4.674.. Val L1 norm: 6.104.. Train Linf norm: 840.172.. Val Linf norm: 1535.279\n",
            "Epoch 95/109.. Train loss: 4.290.. Val loss: 4.309.. Train L1 norm: 4.674.. Val L1 norm: 6.104.. Train Linf norm: 817.407.. Val Linf norm: 1535.279\n",
            "Epoch 96/109.. Train loss: 4.290.. Val loss: 4.309.. Train L1 norm: 4.674.. Val L1 norm: 6.104.. Train Linf norm: 837.871.. Val Linf norm: 1535.279\n",
            "Epoch 97/109.. Train loss: 4.290.. Val loss: 4.309.. Train L1 norm: 4.674.. Val L1 norm: 6.104.. Train Linf norm: 817.582.. Val Linf norm: 1535.279\n",
            "Epoch 98/109.. Train loss: 4.290.. Val loss: 4.309.. Train L1 norm: 4.674.. Val L1 norm: 6.104.. Train Linf norm: 789.792.. Val Linf norm: 1535.279\n",
            "Epoch 99/109.. Train loss: 4.290.. Val loss: 4.309.. Train L1 norm: 4.674.. Val L1 norm: 6.104.. Train Linf norm: 802.426.. Val Linf norm: 1535.279\n",
            "Epoch 100/109.. Train loss: 4.290.. Val loss: 4.309.. Train L1 norm: 4.674.. Val L1 norm: 6.104.. Train Linf norm: 792.733.. Val Linf norm: 1535.279\n",
            "Epoch 101/109.. Train loss: 4.290.. Val loss: 4.309.. Train L1 norm: 4.674.. Val L1 norm: 6.104.. Train Linf norm: 837.550.. Val Linf norm: 1535.279\n",
            "Epoch 102/109.. Train loss: 4.290.. Val loss: 4.309.. Train L1 norm: 4.674.. Val L1 norm: 6.104.. Train Linf norm: 805.418.. Val Linf norm: 1535.279\n",
            "Epoch 103/109.. Train loss: 4.290.. Val loss: 4.309.. Train L1 norm: 4.674.. Val L1 norm: 6.104.. Train Linf norm: 815.216.. Val Linf norm: 1535.279\n",
            "Epoch 104/109.. Train loss: 4.290.. Val loss: 4.309.. Train L1 norm: 4.674.. Val L1 norm: 6.104.. Train Linf norm: 824.702.. Val Linf norm: 1535.279\n",
            "Epoch 105/109.. Train loss: 4.290.. Val loss: 4.309.. Train L1 norm: 4.674.. Val L1 norm: 6.104.. Train Linf norm: 823.303.. Val Linf norm: 1535.279\n",
            "Epoch 106/109.. Train loss: 4.290.. Val loss: 4.309.. Train L1 norm: 4.674.. Val L1 norm: 6.104.. Train Linf norm: 813.697.. Val Linf norm: 1535.279\n",
            "Epoch 107/109.. Train loss: 4.290.. Val loss: 4.309.. Train L1 norm: 4.674.. Val L1 norm: 6.104.. Train Linf norm: 790.006.. Val Linf norm: 1535.279\n",
            "Epoch 108/109.. Train loss: 4.290.. Val loss: 4.309.. Train L1 norm: 4.674.. Val L1 norm: 6.104.. Train Linf norm: 806.770.. Val Linf norm: 1535.279\n"
          ]
        },
        {
          "output_type": "stream",
          "name": "stderr",
          "text": [
            "[I 2023-05-30 10:38:14,202] Trial 8 finished with value: 6.104025189272563 and parameters: {'n_layers': 10, 'n_units_0': 1340, 'n_units_1': 1211, 'n_units_2': 1402, 'n_units_3': 265, 'n_units_4': 759, 'n_units_5': 3701, 'n_units_6': 1416, 'n_units_7': 2880, 'n_units_8': 3373, 'n_units_9': 2624, 'hidden_activation': 'Swish', 'output_activation': 'Linear', 'loss': 'MAE', 'optimizer': 'Adam', 'lr': 0.005054125489491157, 'batch_size': 512, 'n_epochs': 109, 'scheduler': 'StepLR', 'dropout_rate': 0.0999068702616362, 'weight_decay': 0.0009954538142855774, 'beta1': 0.9890953573568009, 'beta2': 0.9996774013051252, 'step_size': 6, 'gamma': 0.43389694416696656}. Best is trial 0 with value: 5.821234536997477.\n"
          ]
        },
        {
          "output_type": "stream",
          "name": "stdout",
          "text": [
            "Epoch 109/109.. Train loss: 4.290.. Val loss: 4.309.. Train L1 norm: 4.674.. Val L1 norm: 6.104.. Train Linf norm: 769.172.. Val Linf norm: 1535.279\n"
          ]
        },
        {
          "output_type": "stream",
          "name": "stderr",
          "text": [
            "[I 2023-05-30 10:38:19,437] Trial 9 pruned. \n"
          ]
        },
        {
          "output_type": "stream",
          "name": "stdout",
          "text": [
            "Epoch 1/69.. Train loss: 448230824.581.. Val loss: 681.351.. Train L1 norm: 504637935.970.. Val L1 norm: 2541.000.. Train Linf norm: 50447095810.772.. Val Linf norm: 342100.854\n",
            "Epoch 1/85.. Train loss: 2.764.. Val loss: 2.330.. Train L1 norm: 3.260.. Val L1 norm: 1.917.. Train Linf norm: 930.346.. Val Linf norm: 539.991\n",
            "Epoch 2/85.. Train loss: 2.693.. Val loss: 2.361.. Train L1 norm: 3.331.. Val L1 norm: 1.739.. Train Linf norm: 918.104.. Val Linf norm: 446.663\n",
            "Epoch 3/85.. Train loss: 2.647.. Val loss: 2.348.. Train L1 norm: 2.957.. Val L1 norm: 1.840.. Train Linf norm: 872.285.. Val Linf norm: 505.093\n",
            "Epoch 4/85.. Train loss: 2.601.. Val loss: 2.359.. Train L1 norm: 3.087.. Val L1 norm: 1.787.. Train Linf norm: 879.128.. Val Linf norm: 477.244\n",
            "Epoch 5/85.. Train loss: 2.507.. Val loss: 2.373.. Train L1 norm: 3.145.. Val L1 norm: 1.718.. Train Linf norm: 940.338.. Val Linf norm: 440.101\n",
            "Epoch 6/85.. Train loss: 2.603.. Val loss: 2.376.. Train L1 norm: 2.838.. Val L1 norm: 1.709.. Train Linf norm: 761.220.. Val Linf norm: 436.636\n",
            "Epoch 7/85.. Train loss: 2.483.. Val loss: 2.375.. Train L1 norm: 2.769.. Val L1 norm: 1.719.. Train Linf norm: 718.443.. Val Linf norm: 442.581\n",
            "Epoch 8/85.. Train loss: 2.490.. Val loss: 2.376.. Train L1 norm: 2.855.. Val L1 norm: 1.717.. Train Linf norm: 744.746.. Val Linf norm: 441.496\n",
            "Epoch 9/85.. Train loss: 2.480.. Val loss: 2.378.. Train L1 norm: 2.842.. Val L1 norm: 1.712.. Train Linf norm: 827.953.. Val Linf norm: 439.216\n",
            "Epoch 10/85.. Train loss: 2.574.. Val loss: 2.383.. Train L1 norm: 2.774.. Val L1 norm: 1.691.. Train Linf norm: 705.151.. Val Linf norm: 428.221\n",
            "Epoch 11/85.. Train loss: 2.493.. Val loss: 2.384.. Train L1 norm: 2.730.. Val L1 norm: 1.686.. Train Linf norm: 798.170.. Val Linf norm: 426.026\n",
            "Epoch 12/85.. Train loss: 2.508.. Val loss: 2.387.. Train L1 norm: 2.698.. Val L1 norm: 1.673.. Train Linf norm: 740.549.. Val Linf norm: 418.528\n",
            "Epoch 13/85.. Train loss: 2.587.. Val loss: 2.389.. Train L1 norm: 2.699.. Val L1 norm: 1.666.. Train Linf norm: 699.494.. Val Linf norm: 414.825\n",
            "Epoch 14/85.. Train loss: 2.489.. Val loss: 2.389.. Train L1 norm: 2.606.. Val L1 norm: 1.664.. Train Linf norm: 704.821.. Val Linf norm: 413.733\n",
            "Epoch 15/85.. Train loss: 2.556.. Val loss: 2.390.. Train L1 norm: 2.671.. Val L1 norm: 1.660.. Train Linf norm: 715.664.. Val Linf norm: 411.918\n",
            "Epoch 16/85.. Train loss: 2.513.. Val loss: 2.392.. Train L1 norm: 2.623.. Val L1 norm: 1.653.. Train Linf norm: 751.474.. Val Linf norm: 407.965\n",
            "Epoch 17/85.. Train loss: 2.438.. Val loss: 2.392.. Train L1 norm: 2.608.. Val L1 norm: 1.653.. Train Linf norm: 712.583.. Val Linf norm: 407.916\n",
            "Epoch 18/85.. Train loss: 2.507.. Val loss: 2.393.. Train L1 norm: 2.611.. Val L1 norm: 1.648.. Train Linf norm: 705.775.. Val Linf norm: 405.391\n",
            "Epoch 19/85.. Train loss: 2.579.. Val loss: 2.394.. Train L1 norm: 2.608.. Val L1 norm: 1.644.. Train Linf norm: 653.115.. Val Linf norm: 403.337\n",
            "Epoch 20/85.. Train loss: 2.449.. Val loss: 2.394.. Train L1 norm: 2.573.. Val L1 norm: 1.643.. Train Linf norm: 625.069.. Val Linf norm: 402.843\n",
            "Epoch 21/85.. Train loss: 2.489.. Val loss: 2.395.. Train L1 norm: 2.601.. Val L1 norm: 1.641.. Train Linf norm: 645.026.. Val Linf norm: 401.588\n",
            "Epoch 22/85.. Train loss: 2.477.. Val loss: 2.395.. Train L1 norm: 2.562.. Val L1 norm: 1.639.. Train Linf norm: 627.113.. Val Linf norm: 400.813\n",
            "Epoch 23/85.. Train loss: 2.517.. Val loss: 2.396.. Train L1 norm: 2.614.. Val L1 norm: 1.637.. Train Linf norm: 721.773.. Val Linf norm: 399.624\n",
            "Epoch 24/85.. Train loss: 2.489.. Val loss: 2.396.. Train L1 norm: 2.590.. Val L1 norm: 1.636.. Train Linf norm: 700.230.. Val Linf norm: 398.872\n",
            "Epoch 25/85.. Train loss: 2.460.. Val loss: 2.396.. Train L1 norm: 2.618.. Val L1 norm: 1.635.. Train Linf norm: 755.354.. Val Linf norm: 398.532\n",
            "Epoch 26/85.. Train loss: 2.473.. Val loss: 2.396.. Train L1 norm: 2.576.. Val L1 norm: 1.634.. Train Linf norm: 700.215.. Val Linf norm: 398.065\n",
            "Epoch 27/85.. Train loss: 2.463.. Val loss: 2.396.. Train L1 norm: 2.607.. Val L1 norm: 1.634.. Train Linf norm: 737.427.. Val Linf norm: 397.977\n",
            "Epoch 28/85.. Train loss: 2.496.. Val loss: 2.396.. Train L1 norm: 2.565.. Val L1 norm: 1.634.. Train Linf norm: 667.063.. Val Linf norm: 397.690\n",
            "Epoch 29/85.. Train loss: 2.512.. Val loss: 2.397.. Train L1 norm: 2.541.. Val L1 norm: 1.633.. Train Linf norm: 649.205.. Val Linf norm: 397.340\n",
            "Epoch 30/85.. Train loss: 2.470.. Val loss: 2.397.. Train L1 norm: 2.548.. Val L1 norm: 1.632.. Train Linf norm: 668.328.. Val Linf norm: 397.065\n",
            "Epoch 31/85.. Train loss: 2.494.. Val loss: 2.397.. Train L1 norm: 2.558.. Val L1 norm: 1.632.. Train Linf norm: 672.900.. Val Linf norm: 397.002\n",
            "Epoch 32/85.. Train loss: 2.469.. Val loss: 2.397.. Train L1 norm: 2.521.. Val L1 norm: 1.632.. Train Linf norm: 628.575.. Val Linf norm: 396.833\n",
            "Epoch 33/85.. Train loss: 2.471.. Val loss: 2.397.. Train L1 norm: 2.587.. Val L1 norm: 1.632.. Train Linf norm: 653.000.. Val Linf norm: 396.758\n",
            "Epoch 34/85.. Train loss: 2.485.. Val loss: 2.397.. Train L1 norm: 2.562.. Val L1 norm: 1.631.. Train Linf norm: 679.201.. Val Linf norm: 396.601\n",
            "Epoch 35/85.. Train loss: 2.473.. Val loss: 2.397.. Train L1 norm: 2.537.. Val L1 norm: 1.631.. Train Linf norm: 626.183.. Val Linf norm: 396.400\n",
            "Epoch 36/85.. Train loss: 2.505.. Val loss: 2.397.. Train L1 norm: 2.546.. Val L1 norm: 1.631.. Train Linf norm: 646.164.. Val Linf norm: 396.169\n",
            "Epoch 37/85.. Train loss: 2.478.. Val loss: 2.397.. Train L1 norm: 2.568.. Val L1 norm: 1.631.. Train Linf norm: 679.136.. Val Linf norm: 396.107\n",
            "Epoch 38/85.. Train loss: 2.501.. Val loss: 2.397.. Train L1 norm: 2.594.. Val L1 norm: 1.630.. Train Linf norm: 688.825.. Val Linf norm: 395.997\n",
            "Epoch 39/85.. Train loss: 2.447.. Val loss: 2.397.. Train L1 norm: 2.565.. Val L1 norm: 1.630.. Train Linf norm: 664.019.. Val Linf norm: 395.936\n",
            "Epoch 40/85.. Train loss: 2.476.. Val loss: 2.397.. Train L1 norm: 2.561.. Val L1 norm: 1.630.. Train Linf norm: 669.944.. Val Linf norm: 395.869\n",
            "Epoch 41/85.. Train loss: 2.455.. Val loss: 2.397.. Train L1 norm: 2.556.. Val L1 norm: 1.630.. Train Linf norm: 686.535.. Val Linf norm: 395.842\n",
            "Epoch 42/85.. Train loss: 2.515.. Val loss: 2.397.. Train L1 norm: 2.549.. Val L1 norm: 1.630.. Train Linf norm: 694.723.. Val Linf norm: 395.738\n",
            "Epoch 43/85.. Train loss: 2.501.. Val loss: 2.397.. Train L1 norm: 2.557.. Val L1 norm: 1.630.. Train Linf norm: 708.493.. Val Linf norm: 395.685\n",
            "Epoch 44/85.. Train loss: 2.566.. Val loss: 2.397.. Train L1 norm: 2.563.. Val L1 norm: 1.630.. Train Linf norm: 653.263.. Val Linf norm: 395.614\n",
            "Epoch 45/85.. Train loss: 2.499.. Val loss: 2.397.. Train L1 norm: 2.571.. Val L1 norm: 1.630.. Train Linf norm: 687.563.. Val Linf norm: 395.560\n",
            "Epoch 46/85.. Train loss: 2.511.. Val loss: 2.397.. Train L1 norm: 2.569.. Val L1 norm: 1.629.. Train Linf norm: 711.971.. Val Linf norm: 395.493\n",
            "Epoch 47/85.. Train loss: 2.446.. Val loss: 2.397.. Train L1 norm: 2.560.. Val L1 norm: 1.629.. Train Linf norm: 685.343.. Val Linf norm: 395.465\n",
            "Epoch 48/85.. Train loss: 2.530.. Val loss: 2.397.. Train L1 norm: 2.611.. Val L1 norm: 1.629.. Train Linf norm: 685.666.. Val Linf norm: 395.393\n",
            "Epoch 49/85.. Train loss: 2.535.. Val loss: 2.397.. Train L1 norm: 2.615.. Val L1 norm: 1.629.. Train Linf norm: 735.505.. Val Linf norm: 395.348\n",
            "Epoch 50/85.. Train loss: 2.494.. Val loss: 2.397.. Train L1 norm: 2.537.. Val L1 norm: 1.629.. Train Linf norm: 626.430.. Val Linf norm: 395.311\n",
            "Epoch 51/85.. Train loss: 2.460.. Val loss: 2.397.. Train L1 norm: 2.572.. Val L1 norm: 1.629.. Train Linf norm: 672.074.. Val Linf norm: 395.277\n",
            "Epoch 52/85.. Train loss: 2.444.. Val loss: 2.397.. Train L1 norm: 2.542.. Val L1 norm: 1.629.. Train Linf norm: 636.066.. Val Linf norm: 395.246\n",
            "Epoch 53/85.. Train loss: 2.463.. Val loss: 2.397.. Train L1 norm: 2.551.. Val L1 norm: 1.629.. Train Linf norm: 693.600.. Val Linf norm: 395.211\n",
            "Epoch 54/85.. Train loss: 2.429.. Val loss: 2.397.. Train L1 norm: 2.477.. Val L1 norm: 1.629.. Train Linf norm: 619.922.. Val Linf norm: 395.179\n",
            "Epoch 55/85.. Train loss: 2.493.. Val loss: 2.397.. Train L1 norm: 2.570.. Val L1 norm: 1.629.. Train Linf norm: 701.803.. Val Linf norm: 395.162\n",
            "Epoch 56/85.. Train loss: 2.482.. Val loss: 2.397.. Train L1 norm: 2.569.. Val L1 norm: 1.629.. Train Linf norm: 661.791.. Val Linf norm: 395.147\n",
            "Epoch 57/85.. Train loss: 2.497.. Val loss: 2.397.. Train L1 norm: 2.562.. Val L1 norm: 1.629.. Train Linf norm: 705.407.. Val Linf norm: 395.129\n",
            "Epoch 58/85.. Train loss: 2.452.. Val loss: 2.398.. Train L1 norm: 2.565.. Val L1 norm: 1.629.. Train Linf norm: 713.102.. Val Linf norm: 395.113\n",
            "Epoch 59/85.. Train loss: 2.451.. Val loss: 2.398.. Train L1 norm: 2.577.. Val L1 norm: 1.629.. Train Linf norm: 710.217.. Val Linf norm: 395.099\n",
            "Epoch 60/85.. Train loss: 2.489.. Val loss: 2.398.. Train L1 norm: 2.606.. Val L1 norm: 1.629.. Train Linf norm: 760.649.. Val Linf norm: 395.080\n",
            "Epoch 61/85.. Train loss: 2.464.. Val loss: 2.398.. Train L1 norm: 2.557.. Val L1 norm: 1.629.. Train Linf norm: 668.104.. Val Linf norm: 395.073\n",
            "Epoch 62/85.. Train loss: 2.562.. Val loss: 2.398.. Train L1 norm: 2.596.. Val L1 norm: 1.629.. Train Linf norm: 715.345.. Val Linf norm: 395.063\n",
            "Epoch 63/85.. Train loss: 2.459.. Val loss: 2.398.. Train L1 norm: 2.513.. Val L1 norm: 1.629.. Train Linf norm: 660.958.. Val Linf norm: 395.056\n",
            "Epoch 64/85.. Train loss: 2.517.. Val loss: 2.398.. Train L1 norm: 2.535.. Val L1 norm: 1.629.. Train Linf norm: 659.049.. Val Linf norm: 395.048\n",
            "Epoch 65/85.. Train loss: 2.437.. Val loss: 2.398.. Train L1 norm: 2.585.. Val L1 norm: 1.629.. Train Linf norm: 681.531.. Val Linf norm: 395.042\n",
            "Epoch 66/85.. Train loss: 2.503.. Val loss: 2.398.. Train L1 norm: 2.551.. Val L1 norm: 1.629.. Train Linf norm: 685.964.. Val Linf norm: 395.034\n",
            "Epoch 67/85.. Train loss: 2.499.. Val loss: 2.398.. Train L1 norm: 2.501.. Val L1 norm: 1.629.. Train Linf norm: 629.709.. Val Linf norm: 395.031\n",
            "Epoch 68/85.. Train loss: 2.481.. Val loss: 2.398.. Train L1 norm: 2.588.. Val L1 norm: 1.629.. Train Linf norm: 699.024.. Val Linf norm: 395.028\n",
            "Epoch 69/85.. Train loss: 2.553.. Val loss: 2.398.. Train L1 norm: 2.597.. Val L1 norm: 1.629.. Train Linf norm: 710.895.. Val Linf norm: 395.023\n",
            "Epoch 70/85.. Train loss: 2.476.. Val loss: 2.398.. Train L1 norm: 2.595.. Val L1 norm: 1.629.. Train Linf norm: 717.258.. Val Linf norm: 395.021\n",
            "Epoch 71/85.. Train loss: 2.496.. Val loss: 2.398.. Train L1 norm: 2.586.. Val L1 norm: 1.629.. Train Linf norm: 674.851.. Val Linf norm: 395.017\n",
            "Epoch 72/85.. Train loss: 2.473.. Val loss: 2.398.. Train L1 norm: 2.558.. Val L1 norm: 1.629.. Train Linf norm: 674.163.. Val Linf norm: 395.015\n",
            "Epoch 73/85.. Train loss: 2.579.. Val loss: 2.398.. Train L1 norm: 2.595.. Val L1 norm: 1.629.. Train Linf norm: 729.877.. Val Linf norm: 395.013\n",
            "Epoch 74/85.. Train loss: 2.492.. Val loss: 2.398.. Train L1 norm: 2.586.. Val L1 norm: 1.629.. Train Linf norm: 670.218.. Val Linf norm: 395.012\n",
            "Epoch 75/85.. Train loss: 2.440.. Val loss: 2.398.. Train L1 norm: 2.544.. Val L1 norm: 1.629.. Train Linf norm: 653.805.. Val Linf norm: 395.011\n",
            "Epoch 76/85.. Train loss: 2.458.. Val loss: 2.398.. Train L1 norm: 2.540.. Val L1 norm: 1.629.. Train Linf norm: 702.986.. Val Linf norm: 395.010\n",
            "Epoch 77/85.. Train loss: 2.498.. Val loss: 2.398.. Train L1 norm: 2.572.. Val L1 norm: 1.629.. Train Linf norm: 683.014.. Val Linf norm: 395.009\n",
            "Epoch 78/85.. Train loss: 2.503.. Val loss: 2.398.. Train L1 norm: 2.524.. Val L1 norm: 1.629.. Train Linf norm: 632.522.. Val Linf norm: 395.008\n",
            "Epoch 79/85.. Train loss: 2.465.. Val loss: 2.398.. Train L1 norm: 2.579.. Val L1 norm: 1.629.. Train Linf norm: 729.777.. Val Linf norm: 395.008\n",
            "Epoch 80/85.. Train loss: 2.467.. Val loss: 2.398.. Train L1 norm: 2.548.. Val L1 norm: 1.629.. Train Linf norm: 696.367.. Val Linf norm: 395.007\n",
            "Epoch 81/85.. Train loss: 2.472.. Val loss: 2.398.. Train L1 norm: 2.528.. Val L1 norm: 1.629.. Train Linf norm: 656.295.. Val Linf norm: 395.007\n",
            "Epoch 82/85.. Train loss: 2.462.. Val loss: 2.398.. Train L1 norm: 2.556.. Val L1 norm: 1.629.. Train Linf norm: 662.076.. Val Linf norm: 395.006\n",
            "Epoch 83/85.. Train loss: 2.465.. Val loss: 2.398.. Train L1 norm: 2.534.. Val L1 norm: 1.629.. Train Linf norm: 685.168.. Val Linf norm: 395.006\n",
            "Epoch 84/85.. Train loss: 2.486.. Val loss: 2.398.. Train L1 norm: 2.566.. Val L1 norm: 1.629.. Train Linf norm: 681.942.. Val Linf norm: 395.006\n"
          ]
        },
        {
          "output_type": "stream",
          "name": "stderr",
          "text": [
            "[I 2023-05-30 10:43:48,390] Trial 10 finished with value: 1.628590895907084 and parameters: {'n_layers': 10, 'n_units_0': 3398, 'n_units_1': 1505, 'n_units_2': 414, 'n_units_3': 1824, 'n_units_4': 1170, 'n_units_5': 1464, 'n_units_6': 2502, 'n_units_7': 1586, 'n_units_8': 2832, 'n_units_9': 388, 'hidden_activation': 'PReLU', 'output_activation': 'Linear', 'loss': 'Quantile', 'optimizer': 'Adagrad', 'lr': 0.00017122724931844046, 'batch_size': 1024, 'n_epochs': 85, 'scheduler': 'StepLR', 'prelu_init': 0.1326290896551685, 'dropout_rate': 0.47231563283135297, 'step_size': 6, 'gamma': 0.4299663461872939}. Best is trial 10 with value: 1.628590895907084.\n"
          ]
        },
        {
          "output_type": "stream",
          "name": "stdout",
          "text": [
            "Epoch 85/85.. Train loss: 2.433.. Val loss: 2.398.. Train L1 norm: 2.549.. Val L1 norm: 1.629.. Train Linf norm: 627.338.. Val Linf norm: 395.006\n",
            "Epoch 1/139.. Train loss: 2.543.. Val loss: 2.517.. Train L1 norm: 1.013.. Val L1 norm: 1.071.. Train Linf norm: 4.502.. Val Linf norm: 17.829\n",
            "Epoch 2/139.. Train loss: 2.522.. Val loss: 2.498.. Train L1 norm: 1.069.. Val L1 norm: 1.162.. Train Linf norm: 16.411.. Val Linf norm: 36.493\n",
            "Epoch 3/139.. Train loss: 2.505.. Val loss: 2.481.. Train L1 norm: 1.124.. Val L1 norm: 1.257.. Train Linf norm: 25.819.. Val Linf norm: 54.878\n",
            "Epoch 4/139.. Train loss: 2.487.. Val loss: 2.463.. Train L1 norm: 1.192.. Val L1 norm: 1.357.. Train Linf norm: 38.181.. Val Linf norm: 73.400\n",
            "Epoch 5/139.. Train loss: 2.472.. Val loss: 2.451.. Train L1 norm: 1.263.. Val L1 norm: 1.456.. Train Linf norm: 48.444.. Val Linf norm: 91.194\n",
            "Epoch 6/139.. Train loss: 2.457.. Val loss: 2.433.. Train L1 norm: 1.330.. Val L1 norm: 1.563.. Train Linf norm: 60.862.. Val Linf norm: 110.183\n",
            "Epoch 7/139.. Train loss: 2.427.. Val loss: 2.396.. Train L1 norm: 1.422.. Val L1 norm: 1.724.. Train Linf norm: 72.020.. Val Linf norm: 137.920\n",
            "Epoch 8/139.. Train loss: 2.424.. Val loss: 2.395.. Train L1 norm: 1.532.. Val L1 norm: 1.838.. Train Linf norm: 89.526.. Val Linf norm: 157.384\n",
            "Epoch 9/139.. Train loss: 2.384.. Val loss: 2.318.. Train L1 norm: 1.677.. Val L1 norm: 2.168.. Train Linf norm: 111.183.. Val Linf norm: 214.533\n",
            "Epoch 10/139.. Train loss: 2.375.. Val loss: 2.263.. Train L1 norm: 1.810.. Val L1 norm: 2.521.. Train Linf norm: 129.793.. Val Linf norm: 274.916\n",
            "Epoch 11/139.. Train loss: 2.310.. Val loss: 2.154.. Train L1 norm: 2.094.. Val L1 norm: 3.436.. Train Linf norm: 167.404.. Val Linf norm: 427.670\n",
            "Epoch 12/139.. Train loss: 2.395.. Val loss: 2.272.. Train L1 norm: 2.382.. Val L1 norm: 2.658.. Train Linf norm: 214.048.. Val Linf norm: 296.428\n",
            "Epoch 13/139.. Train loss: 2.242.. Val loss: 2.363.. Train L1 norm: 2.604.. Val L1 norm: 3.183.. Train Linf norm: 237.506.. Val Linf norm: 382.180\n",
            "Epoch 14/139.. Train loss: 2.259.. Val loss: 2.069.. Train L1 norm: 2.680.. Val L1 norm: 4.679.. Train Linf norm: 251.936.. Val Linf norm: 628.368\n",
            "Epoch 15/139.. Train loss: 2.258.. Val loss: 2.092.. Train L1 norm: 3.044.. Val L1 norm: 4.330.. Train Linf norm: 287.040.. Val Linf norm: 572.833\n",
            "Epoch 16/139.. Train loss: 2.092.. Val loss: 2.073.. Train L1 norm: 3.337.. Val L1 norm: 4.683.. Train Linf norm: 329.777.. Val Linf norm: 629.581\n",
            "Epoch 17/139.. Train loss: 2.097.. Val loss: 2.065.. Train L1 norm: 3.513.. Val L1 norm: 4.922.. Train Linf norm: 352.826.. Val Linf norm: 667.712\n",
            "Epoch 18/139.. Train loss: 2.095.. Val loss: 2.064.. Train L1 norm: 3.629.. Val L1 norm: 5.089.. Train Linf norm: 369.355.. Val Linf norm: 694.291\n",
            "Epoch 19/139.. Train loss: 2.080.. Val loss: 2.053.. Train L1 norm: 3.759.. Val L1 norm: 5.302.. Train Linf norm: 379.419.. Val Linf norm: 728.110\n",
            "Epoch 20/139.. Train loss: 2.088.. Val loss: 2.059.. Train L1 norm: 3.901.. Val L1 norm: 5.316.. Train Linf norm: 411.714.. Val Linf norm: 730.189\n",
            "Epoch 21/139.. Train loss: 2.073.. Val loss: 2.058.. Train L1 norm: 3.867.. Val L1 norm: 5.421.. Train Linf norm: 390.760.. Val Linf norm: 746.777\n",
            "Epoch 22/139.. Train loss: 2.078.. Val loss: 2.059.. Train L1 norm: 3.925.. Val L1 norm: 5.479.. Train Linf norm: 403.176.. Val Linf norm: 755.831\n",
            "Epoch 23/139.. Train loss: 2.067.. Val loss: 2.051.. Train L1 norm: 4.035.. Val L1 norm: 5.583.. Train Linf norm: 411.847.. Val Linf norm: 772.232\n",
            "Epoch 24/139.. Train loss: 2.076.. Val loss: 2.048.. Train L1 norm: 4.021.. Val L1 norm: 5.622.. Train Linf norm: 419.101.. Val Linf norm: 778.299\n",
            "Epoch 25/139.. Train loss: 2.048.. Val loss: 2.040.. Train L1 norm: 4.159.. Val L1 norm: 5.781.. Train Linf norm: 452.571.. Val Linf norm: 802.896\n",
            "Epoch 26/139.. Train loss: 2.092.. Val loss: 2.048.. Train L1 norm: 4.060.. Val L1 norm: 5.618.. Train Linf norm: 423.777.. Val Linf norm: 777.421\n",
            "Epoch 27/139.. Train loss: 2.063.. Val loss: 2.044.. Train L1 norm: 4.071.. Val L1 norm: 5.697.. Train Linf norm: 429.555.. Val Linf norm: 789.744\n",
            "Epoch 28/139.. Train loss: 2.070.. Val loss: 2.044.. Train L1 norm: 4.070.. Val L1 norm: 5.698.. Train Linf norm: 429.732.. Val Linf norm: 789.814\n",
            "Epoch 29/139.. Train loss: 2.036.. Val loss: 2.036.. Train L1 norm: 4.173.. Val L1 norm: 5.892.. Train Linf norm: 424.153.. Val Linf norm: 819.871\n",
            "Epoch 30/139.. Train loss: 2.084.. Val loss: 2.043.. Train L1 norm: 4.158.. Val L1 norm: 5.674.. Train Linf norm: 431.003.. Val Linf norm: 785.834\n",
            "Epoch 31/139.. Train loss: 2.060.. Val loss: 2.044.. Train L1 norm: 4.090.. Val L1 norm: 5.666.. Train Linf norm: 420.737.. Val Linf norm: 784.690\n",
            "Epoch 32/139.. Train loss: 2.051.. Val loss: 2.041.. Train L1 norm: 4.120.. Val L1 norm: 5.699.. Train Linf norm: 441.065.. Val Linf norm: 789.766\n",
            "Epoch 33/139.. Train loss: 2.054.. Val loss: 2.042.. Train L1 norm: 4.117.. Val L1 norm: 5.700.. Train Linf norm: 417.925.. Val Linf norm: 789.883\n",
            "Epoch 34/139.. Train loss: 2.059.. Val loss: 2.043.. Train L1 norm: 4.101.. Val L1 norm: 5.689.. Train Linf norm: 427.790.. Val Linf norm: 788.194\n",
            "Epoch 35/139.. Train loss: 2.050.. Val loss: 2.041.. Train L1 norm: 4.122.. Val L1 norm: 5.717.. Train Linf norm: 423.647.. Val Linf norm: 792.520\n",
            "Epoch 36/139.. Train loss: 2.052.. Val loss: 2.043.. Train L1 norm: 4.124.. Val L1 norm: 5.708.. Train Linf norm: 427.937.. Val Linf norm: 791.186\n",
            "Epoch 37/139.. Train loss: 2.052.. Val loss: 2.042.. Train L1 norm: 4.126.. Val L1 norm: 5.717.. Train Linf norm: 423.149.. Val Linf norm: 792.635\n",
            "Epoch 38/139.. Train loss: 2.057.. Val loss: 2.044.. Train L1 norm: 4.115.. Val L1 norm: 5.714.. Train Linf norm: 424.534.. Val Linf norm: 792.109\n",
            "Epoch 39/139.. Train loss: 2.056.. Val loss: 2.044.. Train L1 norm: 4.128.. Val L1 norm: 5.712.. Train Linf norm: 432.745.. Val Linf norm: 791.683\n",
            "Epoch 40/139.. Train loss: 2.056.. Val loss: 2.044.. Train L1 norm: 4.121.. Val L1 norm: 5.721.. Train Linf norm: 426.631.. Val Linf norm: 793.143\n",
            "Epoch 41/139.. Train loss: 2.050.. Val loss: 2.045.. Train L1 norm: 4.149.. Val L1 norm: 5.721.. Train Linf norm: 424.648.. Val Linf norm: 793.198\n",
            "Epoch 42/139.. Train loss: 2.055.. Val loss: 2.042.. Train L1 norm: 4.141.. Val L1 norm: 5.746.. Train Linf norm: 430.840.. Val Linf norm: 797.083\n",
            "Epoch 43/139.. Train loss: 2.048.. Val loss: 2.039.. Train L1 norm: 4.124.. Val L1 norm: 5.774.. Train Linf norm: 423.427.. Val Linf norm: 801.443\n",
            "Epoch 44/139.. Train loss: 2.046.. Val loss: 2.040.. Train L1 norm: 4.168.. Val L1 norm: 5.775.. Train Linf norm: 437.223.. Val Linf norm: 801.550\n",
            "Epoch 45/139.. Train loss: 2.056.. Val loss: 2.041.. Train L1 norm: 4.176.. Val L1 norm: 5.761.. Train Linf norm: 442.000.. Val Linf norm: 799.415\n",
            "Epoch 46/139.. Train loss: 2.051.. Val loss: 2.041.. Train L1 norm: 4.127.. Val L1 norm: 5.760.. Train Linf norm: 427.377.. Val Linf norm: 799.171\n",
            "Epoch 47/139.. Train loss: 2.045.. Val loss: 2.041.. Train L1 norm: 4.150.. Val L1 norm: 5.764.. Train Linf norm: 428.950.. Val Linf norm: 799.789\n",
            "Epoch 48/139.. Train loss: 2.053.. Val loss: 2.041.. Train L1 norm: 4.192.. Val L1 norm: 5.762.. Train Linf norm: 440.051.. Val Linf norm: 799.513\n",
            "Epoch 49/139.. Train loss: 2.045.. Val loss: 2.041.. Train L1 norm: 4.165.. Val L1 norm: 5.761.. Train Linf norm: 413.803.. Val Linf norm: 799.279\n",
            "Epoch 50/139.. Train loss: 2.052.. Val loss: 2.042.. Train L1 norm: 4.177.. Val L1 norm: 5.760.. Train Linf norm: 434.930.. Val Linf norm: 799.153\n",
            "Epoch 51/139.. Train loss: 2.053.. Val loss: 2.042.. Train L1 norm: 4.155.. Val L1 norm: 5.758.. Train Linf norm: 432.974.. Val Linf norm: 798.911\n",
            "Epoch 52/139.. Train loss: 2.050.. Val loss: 2.042.. Train L1 norm: 4.155.. Val L1 norm: 5.756.. Train Linf norm: 435.942.. Val Linf norm: 798.628\n",
            "Epoch 53/139.. Train loss: 2.053.. Val loss: 2.042.. Train L1 norm: 4.135.. Val L1 norm: 5.755.. Train Linf norm: 436.983.. Val Linf norm: 798.357\n",
            "Epoch 54/139.. Train loss: 2.041.. Val loss: 2.042.. Train L1 norm: 4.144.. Val L1 norm: 5.757.. Train Linf norm: 424.458.. Val Linf norm: 798.659\n",
            "Epoch 55/139.. Train loss: 2.053.. Val loss: 2.042.. Train L1 norm: 4.139.. Val L1 norm: 5.757.. Train Linf norm: 428.769.. Val Linf norm: 798.736\n",
            "Epoch 56/139.. Train loss: 2.063.. Val loss: 2.043.. Train L1 norm: 4.150.. Val L1 norm: 5.755.. Train Linf norm: 436.786.. Val Linf norm: 798.328\n",
            "Epoch 57/139.. Train loss: 2.044.. Val loss: 2.042.. Train L1 norm: 4.150.. Val L1 norm: 5.759.. Train Linf norm: 439.017.. Val Linf norm: 799.095\n",
            "Epoch 58/139.. Train loss: 2.049.. Val loss: 2.042.. Train L1 norm: 4.151.. Val L1 norm: 5.758.. Train Linf norm: 427.869.. Val Linf norm: 798.890\n",
            "Epoch 59/139.. Train loss: 2.050.. Val loss: 2.042.. Train L1 norm: 4.157.. Val L1 norm: 5.757.. Train Linf norm: 434.830.. Val Linf norm: 798.740\n",
            "Epoch 60/139.. Train loss: 2.050.. Val loss: 2.042.. Train L1 norm: 4.160.. Val L1 norm: 5.757.. Train Linf norm: 452.040.. Val Linf norm: 798.781\n",
            "Epoch 61/139.. Train loss: 2.050.. Val loss: 2.042.. Train L1 norm: 4.148.. Val L1 norm: 5.757.. Train Linf norm: 428.885.. Val Linf norm: 798.734\n",
            "Epoch 62/139.. Train loss: 2.049.. Val loss: 2.042.. Train L1 norm: 4.146.. Val L1 norm: 5.757.. Train Linf norm: 424.879.. Val Linf norm: 798.708\n",
            "Epoch 63/139.. Train loss: 2.046.. Val loss: 2.042.. Train L1 norm: 4.156.. Val L1 norm: 5.758.. Train Linf norm: 428.157.. Val Linf norm: 798.795\n",
            "Epoch 64/139.. Train loss: 2.042.. Val loss: 2.042.. Train L1 norm: 4.151.. Val L1 norm: 5.758.. Train Linf norm: 436.556.. Val Linf norm: 798.878\n",
            "Epoch 65/139.. Train loss: 2.050.. Val loss: 2.042.. Train L1 norm: 4.153.. Val L1 norm: 5.758.. Train Linf norm: 425.255.. Val Linf norm: 798.828\n",
            "Epoch 66/139.. Train loss: 2.054.. Val loss: 2.042.. Train L1 norm: 4.141.. Val L1 norm: 5.757.. Train Linf norm: 426.091.. Val Linf norm: 798.763\n",
            "Epoch 67/139.. Train loss: 2.048.. Val loss: 2.042.. Train L1 norm: 4.135.. Val L1 norm: 5.757.. Train Linf norm: 434.522.. Val Linf norm: 798.711\n",
            "Epoch 68/139.. Train loss: 2.053.. Val loss: 2.043.. Train L1 norm: 4.165.. Val L1 norm: 5.757.. Train Linf norm: 426.588.. Val Linf norm: 798.660\n",
            "Epoch 69/139.. Train loss: 2.048.. Val loss: 2.042.. Train L1 norm: 4.144.. Val L1 norm: 5.757.. Train Linf norm: 433.277.. Val Linf norm: 798.738\n",
            "Epoch 70/139.. Train loss: 2.056.. Val loss: 2.043.. Train L1 norm: 4.132.. Val L1 norm: 5.757.. Train Linf norm: 429.599.. Val Linf norm: 798.673\n",
            "Epoch 71/139.. Train loss: 2.043.. Val loss: 2.042.. Train L1 norm: 4.157.. Val L1 norm: 5.758.. Train Linf norm: 433.898.. Val Linf norm: 798.803\n",
            "Epoch 72/139.. Train loss: 2.047.. Val loss: 2.042.. Train L1 norm: 4.156.. Val L1 norm: 5.758.. Train Linf norm: 432.990.. Val Linf norm: 798.792\n",
            "Epoch 73/139.. Train loss: 2.050.. Val loss: 2.042.. Train L1 norm: 4.175.. Val L1 norm: 5.758.. Train Linf norm: 424.714.. Val Linf norm: 798.862\n",
            "Epoch 74/139.. Train loss: 2.047.. Val loss: 2.042.. Train L1 norm: 4.157.. Val L1 norm: 5.758.. Train Linf norm: 436.464.. Val Linf norm: 798.943\n",
            "Epoch 75/139.. Train loss: 2.048.. Val loss: 2.042.. Train L1 norm: 4.170.. Val L1 norm: 5.758.. Train Linf norm: 431.350.. Val Linf norm: 798.920\n",
            "Epoch 76/139.. Train loss: 2.049.. Val loss: 2.042.. Train L1 norm: 4.124.. Val L1 norm: 5.758.. Train Linf norm: 430.920.. Val Linf norm: 798.909\n",
            "Epoch 77/139.. Train loss: 2.044.. Val loss: 2.042.. Train L1 norm: 4.175.. Val L1 norm: 5.758.. Train Linf norm: 441.016.. Val Linf norm: 798.900\n",
            "Epoch 78/139.. Train loss: 2.048.. Val loss: 2.042.. Train L1 norm: 4.156.. Val L1 norm: 5.758.. Train Linf norm: 435.228.. Val Linf norm: 798.888\n",
            "Epoch 79/139.. Train loss: 2.054.. Val loss: 2.042.. Train L1 norm: 4.169.. Val L1 norm: 5.758.. Train Linf norm: 440.596.. Val Linf norm: 798.876\n",
            "Epoch 80/139.. Train loss: 2.050.. Val loss: 2.042.. Train L1 norm: 4.129.. Val L1 norm: 5.758.. Train Linf norm: 430.550.. Val Linf norm: 798.867\n",
            "Epoch 81/139.. Train loss: 2.044.. Val loss: 2.042.. Train L1 norm: 4.163.. Val L1 norm: 5.758.. Train Linf norm: 439.571.. Val Linf norm: 798.874\n",
            "Epoch 82/139.. Train loss: 2.051.. Val loss: 2.042.. Train L1 norm: 4.136.. Val L1 norm: 5.758.. Train Linf norm: 427.436.. Val Linf norm: 798.862\n",
            "Epoch 83/139.. Train loss: 2.068.. Val loss: 2.042.. Train L1 norm: 4.172.. Val L1 norm: 5.758.. Train Linf norm: 438.375.. Val Linf norm: 798.846\n",
            "Epoch 84/139.. Train loss: 2.047.. Val loss: 2.042.. Train L1 norm: 4.163.. Val L1 norm: 5.758.. Train Linf norm: 437.165.. Val Linf norm: 798.840\n",
            "Epoch 85/139.. Train loss: 2.053.. Val loss: 2.042.. Train L1 norm: 4.157.. Val L1 norm: 5.758.. Train Linf norm: 432.778.. Val Linf norm: 798.834\n",
            "Epoch 86/139.. Train loss: 2.061.. Val loss: 2.042.. Train L1 norm: 4.149.. Val L1 norm: 5.758.. Train Linf norm: 430.416.. Val Linf norm: 798.819\n",
            "Epoch 87/139.. Train loss: 2.059.. Val loss: 2.042.. Train L1 norm: 4.164.. Val L1 norm: 5.758.. Train Linf norm: 427.731.. Val Linf norm: 798.805\n",
            "Epoch 88/139.. Train loss: 2.053.. Val loss: 2.042.. Train L1 norm: 4.160.. Val L1 norm: 5.758.. Train Linf norm: 413.460.. Val Linf norm: 798.792\n",
            "Epoch 89/139.. Train loss: 2.044.. Val loss: 2.042.. Train L1 norm: 4.158.. Val L1 norm: 5.757.. Train Linf norm: 416.436.. Val Linf norm: 798.785\n",
            "Epoch 90/139.. Train loss: 2.054.. Val loss: 2.042.. Train L1 norm: 4.124.. Val L1 norm: 5.757.. Train Linf norm: 429.684.. Val Linf norm: 798.775\n",
            "Epoch 91/139.. Train loss: 2.047.. Val loss: 2.042.. Train L1 norm: 4.137.. Val L1 norm: 5.757.. Train Linf norm: 432.608.. Val Linf norm: 798.774\n",
            "Epoch 92/139.. Train loss: 2.055.. Val loss: 2.042.. Train L1 norm: 4.156.. Val L1 norm: 5.757.. Train Linf norm: 426.349.. Val Linf norm: 798.772\n",
            "Epoch 93/139.. Train loss: 2.053.. Val loss: 2.042.. Train L1 norm: 4.160.. Val L1 norm: 5.757.. Train Linf norm: 436.823.. Val Linf norm: 798.770\n",
            "Epoch 94/139.. Train loss: 2.047.. Val loss: 2.042.. Train L1 norm: 4.153.. Val L1 norm: 5.757.. Train Linf norm: 437.252.. Val Linf norm: 798.769\n",
            "Epoch 95/139.. Train loss: 2.052.. Val loss: 2.042.. Train L1 norm: 4.143.. Val L1 norm: 5.757.. Train Linf norm: 434.558.. Val Linf norm: 798.767\n",
            "Epoch 96/139.. Train loss: 2.053.. Val loss: 2.042.. Train L1 norm: 4.170.. Val L1 norm: 5.757.. Train Linf norm: 441.862.. Val Linf norm: 798.766\n",
            "Epoch 97/139.. Train loss: 2.051.. Val loss: 2.042.. Train L1 norm: 4.149.. Val L1 norm: 5.757.. Train Linf norm: 426.514.. Val Linf norm: 798.765\n",
            "Epoch 98/139.. Train loss: 2.045.. Val loss: 2.042.. Train L1 norm: 4.141.. Val L1 norm: 5.757.. Train Linf norm: 432.167.. Val Linf norm: 798.763\n",
            "Epoch 99/139.. Train loss: 2.047.. Val loss: 2.042.. Train L1 norm: 4.154.. Val L1 norm: 5.757.. Train Linf norm: 430.643.. Val Linf norm: 798.762\n",
            "Epoch 100/139.. Train loss: 2.054.. Val loss: 2.042.. Train L1 norm: 4.166.. Val L1 norm: 5.757.. Train Linf norm: 437.185.. Val Linf norm: 798.760\n",
            "Epoch 101/139.. Train loss: 2.060.. Val loss: 2.042.. Train L1 norm: 4.163.. Val L1 norm: 5.757.. Train Linf norm: 432.344.. Val Linf norm: 798.758\n",
            "Epoch 102/139.. Train loss: 2.056.. Val loss: 2.042.. Train L1 norm: 4.163.. Val L1 norm: 5.757.. Train Linf norm: 439.149.. Val Linf norm: 798.757\n",
            "Epoch 103/139.. Train loss: 2.045.. Val loss: 2.042.. Train L1 norm: 4.151.. Val L1 norm: 5.757.. Train Linf norm: 428.775.. Val Linf norm: 798.756\n",
            "Epoch 104/139.. Train loss: 2.051.. Val loss: 2.042.. Train L1 norm: 4.160.. Val L1 norm: 5.757.. Train Linf norm: 441.864.. Val Linf norm: 798.754\n",
            "Epoch 105/139.. Train loss: 2.046.. Val loss: 2.042.. Train L1 norm: 4.154.. Val L1 norm: 5.757.. Train Linf norm: 439.814.. Val Linf norm: 798.755\n",
            "Epoch 106/139.. Train loss: 2.045.. Val loss: 2.042.. Train L1 norm: 4.155.. Val L1 norm: 5.757.. Train Linf norm: 425.635.. Val Linf norm: 798.755\n",
            "Epoch 107/139.. Train loss: 2.045.. Val loss: 2.042.. Train L1 norm: 4.174.. Val L1 norm: 5.757.. Train Linf norm: 442.413.. Val Linf norm: 798.755\n",
            "Epoch 108/139.. Train loss: 2.052.. Val loss: 2.042.. Train L1 norm: 4.153.. Val L1 norm: 5.757.. Train Linf norm: 431.209.. Val Linf norm: 798.754\n",
            "Epoch 109/139.. Train loss: 2.053.. Val loss: 2.042.. Train L1 norm: 4.138.. Val L1 norm: 5.757.. Train Linf norm: 446.112.. Val Linf norm: 798.754\n",
            "Epoch 110/139.. Train loss: 2.050.. Val loss: 2.042.. Train L1 norm: 4.128.. Val L1 norm: 5.757.. Train Linf norm: 424.653.. Val Linf norm: 798.754\n",
            "Epoch 111/139.. Train loss: 2.050.. Val loss: 2.042.. Train L1 norm: 4.201.. Val L1 norm: 5.757.. Train Linf norm: 441.661.. Val Linf norm: 798.754\n",
            "Epoch 112/139.. Train loss: 2.048.. Val loss: 2.042.. Train L1 norm: 4.174.. Val L1 norm: 5.757.. Train Linf norm: 430.920.. Val Linf norm: 798.754\n",
            "Epoch 113/139.. Train loss: 2.049.. Val loss: 2.042.. Train L1 norm: 4.168.. Val L1 norm: 5.757.. Train Linf norm: 438.911.. Val Linf norm: 798.754\n",
            "Epoch 114/139.. Train loss: 2.053.. Val loss: 2.042.. Train L1 norm: 4.157.. Val L1 norm: 5.757.. Train Linf norm: 437.443.. Val Linf norm: 798.754\n",
            "Epoch 115/139.. Train loss: 2.058.. Val loss: 2.042.. Train L1 norm: 4.152.. Val L1 norm: 5.757.. Train Linf norm: 414.838.. Val Linf norm: 798.754\n",
            "Epoch 116/139.. Train loss: 2.049.. Val loss: 2.042.. Train L1 norm: 4.170.. Val L1 norm: 5.757.. Train Linf norm: 436.033.. Val Linf norm: 798.754\n",
            "Epoch 117/139.. Train loss: 2.048.. Val loss: 2.042.. Train L1 norm: 4.161.. Val L1 norm: 5.757.. Train Linf norm: 433.972.. Val Linf norm: 798.753\n",
            "Epoch 118/139.. Train loss: 2.042.. Val loss: 2.042.. Train L1 norm: 4.156.. Val L1 norm: 5.757.. Train Linf norm: 433.444.. Val Linf norm: 798.753\n",
            "Epoch 119/139.. Train loss: 2.047.. Val loss: 2.042.. Train L1 norm: 4.140.. Val L1 norm: 5.757.. Train Linf norm: 423.825.. Val Linf norm: 798.753\n",
            "Epoch 120/139.. Train loss: 2.054.. Val loss: 2.042.. Train L1 norm: 4.160.. Val L1 norm: 5.757.. Train Linf norm: 428.025.. Val Linf norm: 798.753\n",
            "Epoch 121/139.. Train loss: 2.051.. Val loss: 2.042.. Train L1 norm: 4.170.. Val L1 norm: 5.757.. Train Linf norm: 437.414.. Val Linf norm: 798.753\n",
            "Epoch 122/139.. Train loss: 2.048.. Val loss: 2.042.. Train L1 norm: 4.163.. Val L1 norm: 5.757.. Train Linf norm: 439.514.. Val Linf norm: 798.753\n",
            "Epoch 123/139.. Train loss: 2.048.. Val loss: 2.042.. Train L1 norm: 4.170.. Val L1 norm: 5.757.. Train Linf norm: 436.019.. Val Linf norm: 798.753\n",
            "Epoch 124/139.. Train loss: 2.053.. Val loss: 2.042.. Train L1 norm: 4.150.. Val L1 norm: 5.757.. Train Linf norm: 422.442.. Val Linf norm: 798.753\n",
            "Epoch 125/139.. Train loss: 2.058.. Val loss: 2.042.. Train L1 norm: 4.177.. Val L1 norm: 5.757.. Train Linf norm: 428.655.. Val Linf norm: 798.753\n",
            "Epoch 126/139.. Train loss: 2.044.. Val loss: 2.042.. Train L1 norm: 4.141.. Val L1 norm: 5.757.. Train Linf norm: 413.844.. Val Linf norm: 798.753\n",
            "Epoch 127/139.. Train loss: 2.044.. Val loss: 2.042.. Train L1 norm: 4.159.. Val L1 norm: 5.757.. Train Linf norm: 432.593.. Val Linf norm: 798.753\n",
            "Epoch 128/139.. Train loss: 2.060.. Val loss: 2.042.. Train L1 norm: 4.147.. Val L1 norm: 5.757.. Train Linf norm: 427.828.. Val Linf norm: 798.753\n",
            "Epoch 129/139.. Train loss: 2.048.. Val loss: 2.042.. Train L1 norm: 4.116.. Val L1 norm: 5.757.. Train Linf norm: 426.227.. Val Linf norm: 798.753\n",
            "Epoch 130/139.. Train loss: 2.046.. Val loss: 2.042.. Train L1 norm: 4.168.. Val L1 norm: 5.757.. Train Linf norm: 435.553.. Val Linf norm: 798.753\n",
            "Epoch 131/139.. Train loss: 2.055.. Val loss: 2.042.. Train L1 norm: 4.161.. Val L1 norm: 5.757.. Train Linf norm: 434.335.. Val Linf norm: 798.753\n",
            "Epoch 132/139.. Train loss: 2.049.. Val loss: 2.042.. Train L1 norm: 4.154.. Val L1 norm: 5.757.. Train Linf norm: 426.445.. Val Linf norm: 798.753\n",
            "Epoch 133/139.. Train loss: 2.047.. Val loss: 2.042.. Train L1 norm: 4.148.. Val L1 norm: 5.757.. Train Linf norm: 434.711.. Val Linf norm: 798.753\n",
            "Epoch 134/139.. Train loss: 2.057.. Val loss: 2.042.. Train L1 norm: 4.144.. Val L1 norm: 5.757.. Train Linf norm: 430.849.. Val Linf norm: 798.753\n",
            "Epoch 135/139.. Train loss: 2.058.. Val loss: 2.042.. Train L1 norm: 4.141.. Val L1 norm: 5.757.. Train Linf norm: 423.235.. Val Linf norm: 798.753\n",
            "Epoch 136/139.. Train loss: 2.053.. Val loss: 2.042.. Train L1 norm: 4.157.. Val L1 norm: 5.757.. Train Linf norm: 442.879.. Val Linf norm: 798.753\n",
            "Epoch 137/139.. Train loss: 2.053.. Val loss: 2.042.. Train L1 norm: 4.159.. Val L1 norm: 5.757.. Train Linf norm: 419.284.. Val Linf norm: 798.753\n",
            "Epoch 138/139.. Train loss: 2.056.. Val loss: 2.042.. Train L1 norm: 4.154.. Val L1 norm: 5.757.. Train Linf norm: 438.532.. Val Linf norm: 798.753\n"
          ]
        },
        {
          "output_type": "stream",
          "name": "stderr",
          "text": [
            "[I 2023-05-30 11:05:33,936] Trial 11 finished with value: 5.757262108421326 and parameters: {'n_layers': 9, 'n_units_0': 2612, 'n_units_1': 2593, 'n_units_2': 3609, 'n_units_3': 2633, 'n_units_4': 1030, 'n_units_5': 332, 'n_units_6': 1577, 'n_units_7': 3802, 'n_units_8': 3413, 'hidden_activation': 'GELU', 'output_activation': 'Linear', 'loss': 'Quantile', 'optimizer': 'SGD', 'lr': 0.0005029387432689943, 'batch_size': 256, 'n_epochs': 139, 'scheduler': 'StepLR', 'dropout_rate': 0.07269981133828929, 'weight_decay': 9.796101988387198e-05, 'momentum': 0.4582014424529553, 'step_size': 15, 'gamma': 0.14630373840075533}. Best is trial 10 with value: 1.628590895907084.\n"
          ]
        },
        {
          "output_type": "stream",
          "name": "stdout",
          "text": [
            "Epoch 139/139.. Train loss: 2.047.. Val loss: 2.042.. Train L1 norm: 4.165.. Val L1 norm: 5.757.. Train Linf norm: 442.637.. Val Linf norm: 798.753\n",
            "Epoch 1/87.. Train loss: 5.053.. Val loss: 4.249.. Train L1 norm: 3.332.. Val L1 norm: 1.698.. Train Linf norm: 878.663.. Val Linf norm: 424.670\n",
            "Epoch 2/87.. Train loss: 5.047.. Val loss: 4.192.. Train L1 norm: 3.179.. Val L1 norm: 1.962.. Train Linf norm: 932.634.. Val Linf norm: 580.859\n",
            "Epoch 3/87.. Train loss: 4.858.. Val loss: 4.316.. Train L1 norm: 3.152.. Val L1 norm: 1.712.. Train Linf norm: 859.389.. Val Linf norm: 445.349\n",
            "Epoch 4/87.. Train loss: 5.164.. Val loss: 4.516.. Train L1 norm: 3.038.. Val L1 norm: 1.461.. Train Linf norm: 845.504.. Val Linf norm: 298.921\n",
            "Epoch 5/87.. Train loss: 4.778.. Val loss: 4.548.. Train L1 norm: 3.306.. Val L1 norm: 1.450.. Train Linf norm: 1061.843.. Val Linf norm: 291.414\n",
            "Epoch 6/87.. Train loss: 4.418.. Val loss: 4.632.. Train L1 norm: 3.169.. Val L1 norm: 1.432.. Train Linf norm: 906.524.. Val Linf norm: 273.463\n",
            "Epoch 7/87.. Train loss: 4.890.. Val loss: 4.903.. Train L1 norm: 3.407.. Val L1 norm: 1.416.. Train Linf norm: 1080.640.. Val Linf norm: 190.328\n",
            "Epoch 8/87.. Train loss: 4.744.. Val loss: 4.804.. Train L1 norm: 3.233.. Val L1 norm: 1.391.. Train Linf norm: 988.909.. Val Linf norm: 194.969\n",
            "Epoch 9/87.. Train loss: 4.264.. Val loss: 5.054.. Train L1 norm: 3.194.. Val L1 norm: 1.472.. Train Linf norm: 850.327.. Val Linf norm: 177.308\n",
            "Epoch 10/87.. Train loss: 4.698.. Val loss: 4.998.. Train L1 norm: 2.977.. Val L1 norm: 1.529.. Train Linf norm: 877.416.. Val Linf norm: 239.045\n",
            "Epoch 11/87.. Train loss: 5.165.. Val loss: 5.234.. Train L1 norm: 3.054.. Val L1 norm: 1.678.. Train Linf norm: 857.512.. Val Linf norm: 265.254\n",
            "Epoch 12/87.. Train loss: 4.994.. Val loss: 5.215.. Train L1 norm: 2.984.. Val L1 norm: 1.656.. Train Linf norm: 831.585.. Val Linf norm: 246.482\n",
            "Epoch 13/87.. Train loss: 4.459.. Val loss: 5.198.. Train L1 norm: 3.223.. Val L1 norm: 1.663.. Train Linf norm: 928.017.. Val Linf norm: 258.520\n",
            "Epoch 14/87.. Train loss: 4.649.. Val loss: 5.273.. Train L1 norm: 3.127.. Val L1 norm: 1.731.. Train Linf norm: 878.078.. Val Linf norm: 277.401\n",
            "Epoch 15/87.. Train loss: 4.858.. Val loss: 5.268.. Train L1 norm: 3.086.. Val L1 norm: 1.730.. Train Linf norm: 955.897.. Val Linf norm: 278.467\n",
            "Epoch 16/87.. Train loss: 4.215.. Val loss: 5.286.. Train L1 norm: 3.078.. Val L1 norm: 1.745.. Train Linf norm: 932.469.. Val Linf norm: 281.817\n",
            "Epoch 17/87.. Train loss: 4.520.. Val loss: 5.321.. Train L1 norm: 2.900.. Val L1 norm: 1.776.. Train Linf norm: 760.545.. Val Linf norm: 289.970\n",
            "Epoch 18/87.. Train loss: 4.774.. Val loss: 5.345.. Train L1 norm: 2.789.. Val L1 norm: 1.801.. Train Linf norm: 780.757.. Val Linf norm: 299.059\n",
            "Epoch 19/87.. Train loss: 4.856.. Val loss: 5.363.. Train L1 norm: 3.032.. Val L1 norm: 1.814.. Train Linf norm: 883.210.. Val Linf norm: 301.272\n",
            "Epoch 20/87.. Train loss: 4.179.. Val loss: 5.392.. Train L1 norm: 2.904.. Val L1 norm: 1.849.. Train Linf norm: 916.276.. Val Linf norm: 315.462\n",
            "Epoch 21/87.. Train loss: 4.821.. Val loss: 5.442.. Train L1 norm: 2.859.. Val L1 norm: 1.884.. Train Linf norm: 797.396.. Val Linf norm: 324.807\n",
            "Epoch 22/87.. Train loss: 4.507.. Val loss: 5.482.. Train L1 norm: 2.917.. Val L1 norm: 1.935.. Train Linf norm: 863.468.. Val Linf norm: 347.583\n",
            "Epoch 23/87.. Train loss: 4.815.. Val loss: 5.456.. Train L1 norm: 2.812.. Val L1 norm: 1.904.. Train Linf norm: 838.892.. Val Linf norm: 328.213\n",
            "Epoch 24/87.. Train loss: 4.504.. Val loss: 5.440.. Train L1 norm: 2.873.. Val L1 norm: 1.907.. Train Linf norm: 793.424.. Val Linf norm: 336.104\n",
            "Epoch 25/87.. Train loss: 4.604.. Val loss: 5.468.. Train L1 norm: 2.996.. Val L1 norm: 1.924.. Train Linf norm: 888.681.. Val Linf norm: 335.158\n",
            "Epoch 26/87.. Train loss: 4.499.. Val loss: 5.437.. Train L1 norm: 2.958.. Val L1 norm: 1.910.. Train Linf norm: 768.791.. Val Linf norm: 338.552\n",
            "Epoch 27/87.. Train loss: 4.175.. Val loss: 5.418.. Train L1 norm: 2.877.. Val L1 norm: 1.907.. Train Linf norm: 747.106.. Val Linf norm: 344.519\n",
            "Epoch 28/87.. Train loss: 4.571.. Val loss: 5.439.. Train L1 norm: 3.119.. Val L1 norm: 1.920.. Train Linf norm: 865.009.. Val Linf norm: 345.323\n",
            "Epoch 29/87.. Train loss: 4.522.. Val loss: 5.469.. Train L1 norm: 2.840.. Val L1 norm: 1.935.. Train Linf norm: 706.328.. Val Linf norm: 343.406\n",
            "Epoch 30/87.. Train loss: 4.475.. Val loss: 5.492.. Train L1 norm: 3.062.. Val L1 norm: 1.950.. Train Linf norm: 949.494.. Val Linf norm: 344.361\n",
            "Epoch 31/87.. Train loss: 4.461.. Val loss: 5.509.. Train L1 norm: 3.074.. Val L1 norm: 1.963.. Train Linf norm: 956.716.. Val Linf norm: 346.576\n",
            "Epoch 32/87.. Train loss: 4.303.. Val loss: 5.525.. Train L1 norm: 2.887.. Val L1 norm: 1.973.. Train Linf norm: 831.279.. Val Linf norm: 351.908\n",
            "Epoch 33/87.. Train loss: 4.529.. Val loss: 5.544.. Train L1 norm: 2.899.. Val L1 norm: 1.993.. Train Linf norm: 854.949.. Val Linf norm: 358.898\n",
            "Epoch 34/87.. Train loss: 4.448.. Val loss: 5.396.. Train L1 norm: 3.028.. Val L1 norm: 1.908.. Train Linf norm: 821.180.. Val Linf norm: 355.933\n",
            "Epoch 35/87.. Train loss: 4.560.. Val loss: 5.423.. Train L1 norm: 3.319.. Val L1 norm: 1.921.. Train Linf norm: 1058.634.. Val Linf norm: 353.961\n",
            "Epoch 36/87.. Train loss: 4.667.. Val loss: 5.393.. Train L1 norm: 3.311.. Val L1 norm: 1.906.. Train Linf norm: 1057.939.. Val Linf norm: 354.692\n",
            "Epoch 37/87.. Train loss: 4.497.. Val loss: 5.358.. Train L1 norm: 3.171.. Val L1 norm: 1.885.. Train Linf norm: 842.509.. Val Linf norm: 356.003\n",
            "Epoch 38/87.. Train loss: 4.567.. Val loss: 5.380.. Train L1 norm: 3.248.. Val L1 norm: 1.895.. Train Linf norm: 927.556.. Val Linf norm: 353.050\n",
            "Epoch 39/87.. Train loss: 4.289.. Val loss: 5.403.. Train L1 norm: 3.104.. Val L1 norm: 1.907.. Train Linf norm: 924.507.. Val Linf norm: 352.024\n",
            "Epoch 40/87.. Train loss: 4.461.. Val loss: 5.419.. Train L1 norm: 3.018.. Val L1 norm: 1.913.. Train Linf norm: 877.909.. Val Linf norm: 349.540\n",
            "Epoch 41/87.. Train loss: 4.297.. Val loss: 5.427.. Train L1 norm: 2.983.. Val L1 norm: 1.918.. Train Linf norm: 793.237.. Val Linf norm: 350.266\n",
            "Epoch 42/87.. Train loss: 4.383.. Val loss: 5.446.. Train L1 norm: 3.192.. Val L1 norm: 1.928.. Train Linf norm: 1040.932.. Val Linf norm: 349.058\n",
            "Epoch 43/87.. Train loss: 4.652.. Val loss: 5.440.. Train L1 norm: 3.186.. Val L1 norm: 1.926.. Train Linf norm: 1039.961.. Val Linf norm: 350.274\n",
            "Epoch 44/87.. Train loss: 4.607.. Val loss: 5.451.. Train L1 norm: 3.031.. Val L1 norm: 1.931.. Train Linf norm: 820.581.. Val Linf norm: 348.462\n",
            "Epoch 45/87.. Train loss: 4.577.. Val loss: 5.460.. Train L1 norm: 2.996.. Val L1 norm: 1.935.. Train Linf norm: 892.133.. Val Linf norm: 347.636\n",
            "Epoch 46/87.. Train loss: 4.370.. Val loss: 5.459.. Train L1 norm: 3.028.. Val L1 norm: 1.934.. Train Linf norm: 852.951.. Val Linf norm: 347.801\n",
            "Epoch 47/87.. Train loss: 4.286.. Val loss: 5.464.. Train L1 norm: 2.931.. Val L1 norm: 1.937.. Train Linf norm: 815.325.. Val Linf norm: 347.429\n",
            "Epoch 48/87.. Train loss: 4.196.. Val loss: 5.449.. Train L1 norm: 3.007.. Val L1 norm: 1.930.. Train Linf norm: 898.867.. Val Linf norm: 348.938\n",
            "Epoch 49/87.. Train loss: 4.374.. Val loss: 5.448.. Train L1 norm: 2.989.. Val L1 norm: 1.930.. Train Linf norm: 828.358.. Val Linf norm: 349.402\n",
            "Epoch 50/87.. Train loss: 4.818.. Val loss: 5.457.. Train L1 norm: 3.144.. Val L1 norm: 1.934.. Train Linf norm: 1009.366.. Val Linf norm: 348.648\n",
            "Epoch 51/87.. Train loss: 4.668.. Val loss: 5.463.. Train L1 norm: 3.048.. Val L1 norm: 1.937.. Train Linf norm: 947.738.. Val Linf norm: 348.620\n",
            "Epoch 52/87.. Train loss: 4.708.. Val loss: 5.462.. Train L1 norm: 3.096.. Val L1 norm: 1.937.. Train Linf norm: 928.658.. Val Linf norm: 348.682\n",
            "Epoch 53/87.. Train loss: 4.435.. Val loss: 5.466.. Train L1 norm: 2.890.. Val L1 norm: 1.939.. Train Linf norm: 839.431.. Val Linf norm: 348.748\n",
            "Epoch 54/87.. Train loss: 4.870.. Val loss: 5.450.. Train L1 norm: 3.019.. Val L1 norm: 1.931.. Train Linf norm: 828.850.. Val Linf norm: 349.449\n",
            "Epoch 55/87.. Train loss: 4.632.. Val loss: 5.458.. Train L1 norm: 3.122.. Val L1 norm: 1.934.. Train Linf norm: 996.063.. Val Linf norm: 348.462\n",
            "Epoch 56/87.. Train loss: 4.647.. Val loss: 5.462.. Train L1 norm: 3.049.. Val L1 norm: 1.936.. Train Linf norm: 962.212.. Val Linf norm: 348.319\n",
            "Epoch 57/87.. Train loss: 4.492.. Val loss: 5.465.. Train L1 norm: 3.019.. Val L1 norm: 1.938.. Train Linf norm: 911.499.. Val Linf norm: 348.563\n",
            "Epoch 58/87.. Train loss: 4.259.. Val loss: 5.459.. Train L1 norm: 2.818.. Val L1 norm: 1.936.. Train Linf norm: 697.547.. Val Linf norm: 349.101\n",
            "Epoch 59/87.. Train loss: 4.857.. Val loss: 5.461.. Train L1 norm: 2.944.. Val L1 norm: 1.936.. Train Linf norm: 852.564.. Val Linf norm: 349.092\n",
            "Epoch 60/87.. Train loss: 4.960.. Val loss: 5.465.. Train L1 norm: 3.034.. Val L1 norm: 1.938.. Train Linf norm: 870.538.. Val Linf norm: 348.630\n",
            "Epoch 61/87.. Train loss: 4.494.. Val loss: 5.468.. Train L1 norm: 2.990.. Val L1 norm: 1.940.. Train Linf norm: 913.351.. Val Linf norm: 348.435\n",
            "Epoch 62/87.. Train loss: 4.388.. Val loss: 5.475.. Train L1 norm: 2.954.. Val L1 norm: 1.943.. Train Linf norm: 867.886.. Val Linf norm: 347.994\n",
            "Epoch 63/87.. Train loss: 4.696.. Val loss: 5.478.. Train L1 norm: 3.043.. Val L1 norm: 1.945.. Train Linf norm: 904.734.. Val Linf norm: 347.901\n",
            "Epoch 64/87.. Train loss: 4.480.. Val loss: 5.479.. Train L1 norm: 3.099.. Val L1 norm: 1.946.. Train Linf norm: 948.924.. Val Linf norm: 347.761\n",
            "Epoch 65/87.. Train loss: 4.809.. Val loss: 5.482.. Train L1 norm: 3.027.. Val L1 norm: 1.947.. Train Linf norm: 905.707.. Val Linf norm: 347.400\n",
            "Epoch 66/87.. Train loss: 4.315.. Val loss: 5.477.. Train L1 norm: 2.887.. Val L1 norm: 1.944.. Train Linf norm: 793.861.. Val Linf norm: 347.864\n",
            "Epoch 67/87.. Train loss: 4.189.. Val loss: 5.475.. Train L1 norm: 2.985.. Val L1 norm: 1.944.. Train Linf norm: 882.633.. Val Linf norm: 348.008\n",
            "Epoch 68/87.. Train loss: 4.632.. Val loss: 5.477.. Train L1 norm: 3.015.. Val L1 norm: 1.944.. Train Linf norm: 922.168.. Val Linf norm: 347.784\n",
            "Epoch 69/87.. Train loss: 4.806.. Val loss: 5.479.. Train L1 norm: 3.025.. Val L1 norm: 1.945.. Train Linf norm: 930.056.. Val Linf norm: 347.726\n",
            "Epoch 70/87.. Train loss: 4.518.. Val loss: 5.479.. Train L1 norm: 3.156.. Val L1 norm: 1.945.. Train Linf norm: 1063.685.. Val Linf norm: 347.791\n",
            "Epoch 71/87.. Train loss: 4.741.. Val loss: 5.473.. Train L1 norm: 2.873.. Val L1 norm: 1.942.. Train Linf norm: 792.141.. Val Linf norm: 348.106\n",
            "Epoch 72/87.. Train loss: 4.440.. Val loss: 5.474.. Train L1 norm: 2.999.. Val L1 norm: 1.943.. Train Linf norm: 851.183.. Val Linf norm: 348.130\n",
            "Epoch 73/87.. Train loss: 4.463.. Val loss: 5.471.. Train L1 norm: 2.946.. Val L1 norm: 1.941.. Train Linf norm: 891.651.. Val Linf norm: 348.416\n",
            "Epoch 74/87.. Train loss: 4.717.. Val loss: 5.470.. Train L1 norm: 3.011.. Val L1 norm: 1.941.. Train Linf norm: 894.873.. Val Linf norm: 348.357\n",
            "Epoch 75/87.. Train loss: 4.639.. Val loss: 5.471.. Train L1 norm: 2.800.. Val L1 norm: 1.941.. Train Linf norm: 729.391.. Val Linf norm: 348.328\n",
            "Epoch 76/87.. Train loss: 4.321.. Val loss: 5.472.. Train L1 norm: 2.976.. Val L1 norm: 1.942.. Train Linf norm: 819.730.. Val Linf norm: 348.215\n",
            "Epoch 77/87.. Train loss: 4.872.. Val loss: 5.473.. Train L1 norm: 3.076.. Val L1 norm: 1.942.. Train Linf norm: 958.668.. Val Linf norm: 348.080\n",
            "Epoch 78/87.. Train loss: 4.416.. Val loss: 5.471.. Train L1 norm: 2.935.. Val L1 norm: 1.941.. Train Linf norm: 741.170.. Val Linf norm: 348.166\n",
            "Epoch 79/87.. Train loss: 4.169.. Val loss: 5.472.. Train L1 norm: 2.985.. Val L1 norm: 1.942.. Train Linf norm: 912.248.. Val Linf norm: 348.120\n",
            "Epoch 80/87.. Train loss: 4.282.. Val loss: 5.472.. Train L1 norm: 2.980.. Val L1 norm: 1.942.. Train Linf norm: 882.530.. Val Linf norm: 348.134\n",
            "Epoch 81/87.. Train loss: 4.725.. Val loss: 5.472.. Train L1 norm: 3.128.. Val L1 norm: 1.942.. Train Linf norm: 1036.269.. Val Linf norm: 348.128\n",
            "Epoch 82/87.. Train loss: 4.472.. Val loss: 5.473.. Train L1 norm: 2.906.. Val L1 norm: 1.942.. Train Linf norm: 777.609.. Val Linf norm: 348.072\n",
            "Epoch 83/87.. Train loss: 4.392.. Val loss: 5.471.. Train L1 norm: 3.023.. Val L1 norm: 1.941.. Train Linf norm: 919.175.. Val Linf norm: 348.122\n",
            "Epoch 84/87.. Train loss: 4.938.. Val loss: 5.472.. Train L1 norm: 2.992.. Val L1 norm: 1.941.. Train Linf norm: 888.839.. Val Linf norm: 348.068\n",
            "Epoch 85/87.. Train loss: 4.614.. Val loss: 5.471.. Train L1 norm: 3.003.. Val L1 norm: 1.941.. Train Linf norm: 871.897.. Val Linf norm: 348.153\n",
            "Epoch 86/87.. Train loss: 4.283.. Val loss: 5.471.. Train L1 norm: 2.919.. Val L1 norm: 1.941.. Train Linf norm: 852.743.. Val Linf norm: 348.141\n"
          ]
        },
        {
          "output_type": "stream",
          "name": "stderr",
          "text": [
            "[I 2023-05-30 11:08:52,431] Trial 12 finished with value: 1.9413049796422324 and parameters: {'n_layers': 5, 'n_units_0': 232, 'n_units_1': 3281, 'n_units_2': 661, 'n_units_3': 4007, 'n_units_4': 1731, 'hidden_activation': 'ReLU', 'output_activation': 'Linear', 'loss': 'Huber', 'optimizer': 'Adagrad', 'lr': 0.00030663626430846666, 'batch_size': 1024, 'n_epochs': 87, 'scheduler': 'ReduceLROnPlateau', 'dropout_rate': 0.48146603252031406, 'factor': 0.4914213013573253, 'patience': 10, 'threshold': 0.0001012986421472589}. Best is trial 10 with value: 1.628590895907084.\n"
          ]
        },
        {
          "output_type": "stream",
          "name": "stdout",
          "text": [
            "Epoch 87/87.. Train loss: 4.532.. Val loss: 5.471.. Train L1 norm: 3.029.. Val L1 norm: 1.941.. Train Linf norm: 968.615.. Val Linf norm: 348.107\n",
            "Epoch 1/85.. Train loss: 5.378.. Val loss: 4.261.. Train L1 norm: 3.317.. Val L1 norm: 1.696.. Train Linf norm: 990.967.. Val Linf norm: 422.796\n",
            "Epoch 2/85.. Train loss: 5.178.. Val loss: 4.345.. Train L1 norm: 3.279.. Val L1 norm: 1.514.. Train Linf norm: 1012.334.. Val Linf norm: 326.106\n",
            "Epoch 3/85.. Train loss: 5.057.. Val loss: 4.355.. Train L1 norm: 3.109.. Val L1 norm: 1.489.. Train Linf norm: 838.696.. Val Linf norm: 310.069\n",
            "Epoch 4/85.. Train loss: 5.005.. Val loss: 4.426.. Train L1 norm: 3.109.. Val L1 norm: 1.378.. Train Linf norm: 805.462.. Val Linf norm: 255.736\n",
            "Epoch 5/85.. Train loss: 4.719.. Val loss: 4.419.. Train L1 norm: 2.958.. Val L1 norm: 1.438.. Train Linf norm: 840.782.. Val Linf norm: 301.628\n",
            "Epoch 6/85.. Train loss: 4.952.. Val loss: 4.430.. Train L1 norm: 3.173.. Val L1 norm: 1.367.. Train Linf norm: 922.682.. Val Linf norm: 244.410\n",
            "Epoch 7/85.. Train loss: 4.610.. Val loss: 4.473.. Train L1 norm: 2.931.. Val L1 norm: 1.330.. Train Linf norm: 790.016.. Val Linf norm: 235.809\n",
            "Epoch 8/85.. Train loss: 4.972.. Val loss: 4.456.. Train L1 norm: 2.798.. Val L1 norm: 1.365.. Train Linf norm: 836.207.. Val Linf norm: 250.703\n",
            "Epoch 9/85.. Train loss: 4.538.. Val loss: 4.484.. Train L1 norm: 2.963.. Val L1 norm: 1.359.. Train Linf norm: 824.143.. Val Linf norm: 256.095\n",
            "Epoch 10/85.. Train loss: 4.469.. Val loss: 4.384.. Train L1 norm: 2.579.. Val L1 norm: 1.577.. Train Linf norm: 615.712.. Val Linf norm: 388.574\n",
            "Epoch 11/85.. Train loss: 4.738.. Val loss: 4.459.. Train L1 norm: 2.904.. Val L1 norm: 1.460.. Train Linf norm: 790.948.. Val Linf norm: 318.713\n",
            "Epoch 12/85.. Train loss: 4.626.. Val loss: 4.414.. Train L1 norm: 2.829.. Val L1 norm: 1.523.. Train Linf norm: 789.323.. Val Linf norm: 347.952\n",
            "Epoch 13/85.. Train loss: 4.633.. Val loss: 4.416.. Train L1 norm: 2.778.. Val L1 norm: 1.546.. Train Linf norm: 801.438.. Val Linf norm: 366.455\n",
            "Epoch 14/85.. Train loss: 4.719.. Val loss: 4.470.. Train L1 norm: 2.816.. Val L1 norm: 1.480.. Train Linf norm: 669.863.. Val Linf norm: 335.273\n",
            "Epoch 15/85.. Train loss: 5.180.. Val loss: 4.487.. Train L1 norm: 2.654.. Val L1 norm: 1.457.. Train Linf norm: 729.223.. Val Linf norm: 321.388\n",
            "Epoch 16/85.. Train loss: 4.395.. Val loss: 4.429.. Train L1 norm: 3.016.. Val L1 norm: 1.549.. Train Linf norm: 868.713.. Val Linf norm: 373.853\n",
            "Epoch 17/85.. Train loss: 4.873.. Val loss: 4.453.. Train L1 norm: 3.041.. Val L1 norm: 1.502.. Train Linf norm: 873.210.. Val Linf norm: 346.331\n",
            "Epoch 18/85.. Train loss: 4.775.. Val loss: 4.507.. Train L1 norm: 2.903.. Val L1 norm: 1.442.. Train Linf norm: 850.416.. Val Linf norm: 315.417\n",
            "Epoch 19/85.. Train loss: 4.655.. Val loss: 4.516.. Train L1 norm: 2.750.. Val L1 norm: 1.436.. Train Linf norm: 823.949.. Val Linf norm: 310.611\n",
            "Epoch 20/85.. Train loss: 4.278.. Val loss: 4.455.. Train L1 norm: 2.828.. Val L1 norm: 1.545.. Train Linf norm: 779.589.. Val Linf norm: 376.979\n",
            "Epoch 21/85.. Train loss: 4.581.. Val loss: 4.477.. Train L1 norm: 2.785.. Val L1 norm: 1.505.. Train Linf norm: 764.184.. Val Linf norm: 353.144\n",
            "Epoch 22/85.. Train loss: 4.432.. Val loss: 4.499.. Train L1 norm: 2.902.. Val L1 norm: 1.474.. Train Linf norm: 933.373.. Val Linf norm: 337.303\n",
            "Epoch 23/85.. Train loss: 4.634.. Val loss: 4.517.. Train L1 norm: 2.748.. Val L1 norm: 1.461.. Train Linf norm: 760.233.. Val Linf norm: 330.523\n",
            "Epoch 24/85.. Train loss: 4.195.. Val loss: 4.499.. Train L1 norm: 2.554.. Val L1 norm: 1.493.. Train Linf norm: 626.602.. Val Linf norm: 351.674\n",
            "Epoch 25/85.. Train loss: 4.577.. Val loss: 4.501.. Train L1 norm: 2.609.. Val L1 norm: 1.486.. Train Linf norm: 648.936.. Val Linf norm: 347.071\n",
            "Epoch 26/85.. Train loss: 4.623.. Val loss: 4.515.. Train L1 norm: 2.708.. Val L1 norm: 1.462.. Train Linf norm: 755.876.. Val Linf norm: 331.982\n",
            "Epoch 27/85.. Train loss: 4.529.. Val loss: 4.529.. Train L1 norm: 2.692.. Val L1 norm: 1.446.. Train Linf norm: 772.182.. Val Linf norm: 321.372\n",
            "Epoch 28/85.. Train loss: 4.476.. Val loss: 4.537.. Train L1 norm: 2.530.. Val L1 norm: 1.437.. Train Linf norm: 680.282.. Val Linf norm: 316.652\n",
            "Epoch 29/85.. Train loss: 4.374.. Val loss: 4.542.. Train L1 norm: 2.515.. Val L1 norm: 1.434.. Train Linf norm: 561.777.. Val Linf norm: 314.022\n",
            "Epoch 30/85.. Train loss: 4.160.. Val loss: 4.543.. Train L1 norm: 2.638.. Val L1 norm: 1.435.. Train Linf norm: 732.931.. Val Linf norm: 314.216\n",
            "Epoch 31/85.. Train loss: 4.556.. Val loss: 4.549.. Train L1 norm: 2.625.. Val L1 norm: 1.431.. Train Linf norm: 744.016.. Val Linf norm: 310.962\n",
            "Epoch 32/85.. Train loss: 4.931.. Val loss: 4.552.. Train L1 norm: 2.753.. Val L1 norm: 1.426.. Train Linf norm: 857.430.. Val Linf norm: 307.130\n",
            "Epoch 33/85.. Train loss: 4.342.. Val loss: 4.531.. Train L1 norm: 2.537.. Val L1 norm: 1.450.. Train Linf norm: 636.517.. Val Linf norm: 326.195\n",
            "Epoch 34/85.. Train loss: 4.857.. Val loss: 4.544.. Train L1 norm: 2.685.. Val L1 norm: 1.434.. Train Linf norm: 704.330.. Val Linf norm: 313.800\n",
            "Epoch 35/85.. Train loss: 4.446.. Val loss: 4.545.. Train L1 norm: 2.538.. Val L1 norm: 1.435.. Train Linf norm: 642.184.. Val Linf norm: 314.810\n",
            "Epoch 36/85.. Train loss: 4.576.. Val loss: 4.551.. Train L1 norm: 2.639.. Val L1 norm: 1.430.. Train Linf norm: 789.394.. Val Linf norm: 310.270\n",
            "Epoch 37/85.. Train loss: 4.622.. Val loss: 4.554.. Train L1 norm: 2.534.. Val L1 norm: 1.427.. Train Linf norm: 685.026.. Val Linf norm: 307.368\n",
            "Epoch 38/85.. Train loss: 4.272.. Val loss: 4.557.. Train L1 norm: 2.482.. Val L1 norm: 1.426.. Train Linf norm: 628.746.. Val Linf norm: 306.626\n",
            "Epoch 39/85.. Train loss: 4.377.. Val loss: 4.560.. Train L1 norm: 2.537.. Val L1 norm: 1.422.. Train Linf norm: 703.182.. Val Linf norm: 302.672\n",
            "Epoch 40/85.. Train loss: 4.411.. Val loss: 4.559.. Train L1 norm: 2.451.. Val L1 norm: 1.425.. Train Linf norm: 581.763.. Val Linf norm: 304.964\n",
            "Epoch 41/85.. Train loss: 4.400.. Val loss: 4.563.. Train L1 norm: 2.473.. Val L1 norm: 1.422.. Train Linf norm: 612.810.. Val Linf norm: 302.718\n",
            "Epoch 42/85.. Train loss: 4.469.. Val loss: 4.565.. Train L1 norm: 2.544.. Val L1 norm: 1.421.. Train Linf norm: 721.104.. Val Linf norm: 301.538\n",
            "Epoch 43/85.. Train loss: 4.432.. Val loss: 4.569.. Train L1 norm: 2.564.. Val L1 norm: 1.417.. Train Linf norm: 709.139.. Val Linf norm: 298.246\n",
            "Epoch 44/85.. Train loss: 4.284.. Val loss: 4.568.. Train L1 norm: 2.514.. Val L1 norm: 1.419.. Train Linf norm: 694.587.. Val Linf norm: 299.375\n",
            "Epoch 45/85.. Train loss: 4.481.. Val loss: 4.567.. Train L1 norm: 2.476.. Val L1 norm: 1.420.. Train Linf norm: 608.765.. Val Linf norm: 300.117\n",
            "Epoch 46/85.. Train loss: 4.891.. Val loss: 4.567.. Train L1 norm: 2.452.. Val L1 norm: 1.420.. Train Linf norm: 599.054.. Val Linf norm: 299.706\n",
            "Epoch 47/85.. Train loss: 4.292.. Val loss: 4.567.. Train L1 norm: 2.554.. Val L1 norm: 1.419.. Train Linf norm: 640.364.. Val Linf norm: 299.347\n",
            "Epoch 48/85.. Train loss: 4.331.. Val loss: 4.569.. Train L1 norm: 2.396.. Val L1 norm: 1.418.. Train Linf norm: 573.461.. Val Linf norm: 297.833\n",
            "Epoch 49/85.. Train loss: 4.742.. Val loss: 4.569.. Train L1 norm: 2.596.. Val L1 norm: 1.418.. Train Linf norm: 720.016.. Val Linf norm: 297.867\n",
            "Epoch 50/85.. Train loss: 4.972.. Val loss: 4.570.. Train L1 norm: 2.550.. Val L1 norm: 1.415.. Train Linf norm: 711.361.. Val Linf norm: 296.087\n",
            "Epoch 51/85.. Train loss: 4.594.. Val loss: 4.570.. Train L1 norm: 2.441.. Val L1 norm: 1.416.. Train Linf norm: 605.379.. Val Linf norm: 296.475\n",
            "Epoch 52/85.. Train loss: 4.151.. Val loss: 4.571.. Train L1 norm: 2.389.. Val L1 norm: 1.415.. Train Linf norm: 612.022.. Val Linf norm: 296.007\n",
            "Epoch 53/85.. Train loss: 4.154.. Val loss: 4.575.. Train L1 norm: 2.455.. Val L1 norm: 1.412.. Train Linf norm: 638.980.. Val Linf norm: 292.835\n",
            "Epoch 54/85.. Train loss: 4.254.. Val loss: 4.572.. Train L1 norm: 2.374.. Val L1 norm: 1.415.. Train Linf norm: 578.238.. Val Linf norm: 295.100\n",
            "Epoch 55/85.. Train loss: 4.694.. Val loss: 4.573.. Train L1 norm: 2.460.. Val L1 norm: 1.414.. Train Linf norm: 641.754.. Val Linf norm: 294.525\n",
            "Epoch 56/85.. Train loss: 4.842.. Val loss: 4.575.. Train L1 norm: 2.523.. Val L1 norm: 1.411.. Train Linf norm: 720.769.. Val Linf norm: 292.031\n",
            "Epoch 57/85.. Train loss: 4.408.. Val loss: 4.575.. Train L1 norm: 2.421.. Val L1 norm: 1.411.. Train Linf norm: 610.531.. Val Linf norm: 291.663\n",
            "Epoch 58/85.. Train loss: 4.267.. Val loss: 4.576.. Train L1 norm: 2.556.. Val L1 norm: 1.410.. Train Linf norm: 782.878.. Val Linf norm: 291.151\n",
            "Epoch 59/85.. Train loss: 4.423.. Val loss: 4.577.. Train L1 norm: 2.473.. Val L1 norm: 1.408.. Train Linf norm: 659.167.. Val Linf norm: 289.537\n",
            "Epoch 60/85.. Train loss: 4.398.. Val loss: 4.579.. Train L1 norm: 2.437.. Val L1 norm: 1.407.. Train Linf norm: 627.253.. Val Linf norm: 288.410\n",
            "Epoch 61/85.. Train loss: 4.550.. Val loss: 4.579.. Train L1 norm: 2.550.. Val L1 norm: 1.406.. Train Linf norm: 766.185.. Val Linf norm: 287.957\n",
            "Epoch 62/85.. Train loss: 4.587.. Val loss: 4.580.. Train L1 norm: 2.393.. Val L1 norm: 1.406.. Train Linf norm: 587.454.. Val Linf norm: 287.750\n",
            "Epoch 63/85.. Train loss: 4.480.. Val loss: 4.580.. Train L1 norm: 2.435.. Val L1 norm: 1.406.. Train Linf norm: 621.629.. Val Linf norm: 287.375\n",
            "Epoch 64/85.. Train loss: 4.308.. Val loss: 4.580.. Train L1 norm: 2.400.. Val L1 norm: 1.406.. Train Linf norm: 583.157.. Val Linf norm: 287.629\n",
            "Epoch 65/85.. Train loss: 4.532.. Val loss: 4.581.. Train L1 norm: 2.420.. Val L1 norm: 1.406.. Train Linf norm: 630.266.. Val Linf norm: 287.189\n",
            "Epoch 66/85.. Train loss: 4.187.. Val loss: 4.580.. Train L1 norm: 2.435.. Val L1 norm: 1.407.. Train Linf norm: 630.064.. Val Linf norm: 287.917\n",
            "Epoch 67/85.. Train loss: 4.910.. Val loss: 4.580.. Train L1 norm: 2.394.. Val L1 norm: 1.407.. Train Linf norm: 616.829.. Val Linf norm: 288.185\n",
            "Epoch 68/85.. Train loss: 4.491.. Val loss: 4.580.. Train L1 norm: 2.435.. Val L1 norm: 1.407.. Train Linf norm: 618.588.. Val Linf norm: 287.990\n",
            "Epoch 69/85.. Train loss: 4.516.. Val loss: 4.580.. Train L1 norm: 2.448.. Val L1 norm: 1.407.. Train Linf norm: 664.109.. Val Linf norm: 288.068\n",
            "Epoch 70/85.. Train loss: 4.503.. Val loss: 4.580.. Train L1 norm: 2.405.. Val L1 norm: 1.406.. Train Linf norm: 606.860.. Val Linf norm: 287.779\n",
            "Epoch 71/85.. Train loss: 4.436.. Val loss: 4.580.. Train L1 norm: 2.530.. Val L1 norm: 1.406.. Train Linf norm: 696.113.. Val Linf norm: 287.746\n",
            "Epoch 72/85.. Train loss: 4.624.. Val loss: 4.580.. Train L1 norm: 2.372.. Val L1 norm: 1.407.. Train Linf norm: 559.977.. Val Linf norm: 288.125\n",
            "Epoch 73/85.. Train loss: 4.458.. Val loss: 4.580.. Train L1 norm: 2.478.. Val L1 norm: 1.407.. Train Linf norm: 711.003.. Val Linf norm: 288.145\n",
            "Epoch 74/85.. Train loss: 4.744.. Val loss: 4.580.. Train L1 norm: 2.521.. Val L1 norm: 1.407.. Train Linf norm: 703.262.. Val Linf norm: 288.051\n",
            "Epoch 75/85.. Train loss: 4.447.. Val loss: 4.581.. Train L1 norm: 2.390.. Val L1 norm: 1.407.. Train Linf norm: 584.276.. Val Linf norm: 287.934\n",
            "Epoch 76/85.. Train loss: 4.304.. Val loss: 4.581.. Train L1 norm: 2.440.. Val L1 norm: 1.406.. Train Linf norm: 661.018.. Val Linf norm: 287.684\n",
            "Epoch 77/85.. Train loss: 4.323.. Val loss: 4.581.. Train L1 norm: 2.461.. Val L1 norm: 1.407.. Train Linf norm: 674.339.. Val Linf norm: 287.750\n",
            "Epoch 78/85.. Train loss: 4.682.. Val loss: 4.581.. Train L1 norm: 2.401.. Val L1 norm: 1.407.. Train Linf norm: 612.931.. Val Linf norm: 287.814\n",
            "Epoch 79/85.. Train loss: 4.599.. Val loss: 4.581.. Train L1 norm: 2.469.. Val L1 norm: 1.406.. Train Linf norm: 635.814.. Val Linf norm: 287.605\n",
            "Epoch 80/85.. Train loss: 4.469.. Val loss: 4.581.. Train L1 norm: 2.525.. Val L1 norm: 1.406.. Train Linf norm: 732.117.. Val Linf norm: 287.368\n",
            "Epoch 81/85.. Train loss: 4.577.. Val loss: 4.581.. Train L1 norm: 2.393.. Val L1 norm: 1.406.. Train Linf norm: 610.096.. Val Linf norm: 287.255\n",
            "Epoch 82/85.. Train loss: 4.422.. Val loss: 4.581.. Train L1 norm: 2.517.. Val L1 norm: 1.406.. Train Linf norm: 663.650.. Val Linf norm: 287.302\n",
            "Epoch 83/85.. Train loss: 4.262.. Val loss: 4.581.. Train L1 norm: 2.428.. Val L1 norm: 1.406.. Train Linf norm: 591.105.. Val Linf norm: 287.307\n",
            "Epoch 84/85.. Train loss: 4.597.. Val loss: 4.581.. Train L1 norm: 2.468.. Val L1 norm: 1.406.. Train Linf norm: 676.422.. Val Linf norm: 287.299\n"
          ]
        },
        {
          "output_type": "stream",
          "name": "stderr",
          "text": [
            "[I 2023-05-30 11:11:16,347] Trial 13 finished with value: 1.4059733067830404 and parameters: {'n_layers': 5, 'n_units_0': 258, 'n_units_1': 4085, 'n_units_2': 120, 'n_units_3': 3958, 'n_units_4': 1644, 'hidden_activation': 'ReLU', 'output_activation': 'Linear', 'loss': 'Huber', 'optimizer': 'Adagrad', 'lr': 0.00021615910533315176, 'batch_size': 1024, 'n_epochs': 85, 'scheduler': 'ReduceLROnPlateau', 'dropout_rate': 0.49567195426211286, 'factor': 0.4853641282181307, 'patience': 10, 'threshold': 0.00011965035614931251}. Best is trial 13 with value: 1.4059733067830404.\n"
          ]
        },
        {
          "output_type": "stream",
          "name": "stdout",
          "text": [
            "Epoch 85/85.. Train loss: 4.308.. Val loss: 4.581.. Train L1 norm: 2.434.. Val L1 norm: 1.406.. Train Linf norm: 639.503.. Val Linf norm: 287.254\n"
          ]
        },
        {
          "output_type": "stream",
          "name": "stderr",
          "text": [
            "[I 2023-05-30 11:11:18,407] Trial 14 pruned. \n"
          ]
        },
        {
          "output_type": "stream",
          "name": "stdout",
          "text": [
            "Epoch 1/85.. Train loss: 4.308.. Val loss: 3.658.. Train L1 norm: 4.083.. Val L1 norm: 5.513.. Train Linf norm: 1069.185.. Val Linf norm: 2360.198\n"
          ]
        },
        {
          "output_type": "stream",
          "name": "stderr",
          "text": [
            "[I 2023-05-30 11:11:25,895] Trial 15 pruned. \n"
          ]
        },
        {
          "output_type": "stream",
          "name": "stdout",
          "text": [
            "Epoch 1/56.. Train loss: 4.746.. Val loss: 3.712.. Train L1 norm: 3.387.. Val L1 norm: 4.766.. Train Linf norm: 115.647.. Val Linf norm: 199.159\n"
          ]
        },
        {
          "output_type": "stream",
          "name": "stderr",
          "text": [
            "[I 2023-05-30 11:11:29,408] Trial 16 pruned. \n"
          ]
        },
        {
          "output_type": "stream",
          "name": "stdout",
          "text": [
            "Epoch 1/88.. Train loss: 73871.943.. Val loss: 222.431.. Train L1 norm: 73310.014.. Val L1 norm: 310.006.. Train Linf norm: 29654353.598.. Val Linf norm: 139581.258\n"
          ]
        },
        {
          "output_type": "stream",
          "name": "stderr",
          "text": [
            "[I 2023-05-30 11:11:32,285] Trial 17 pruned. \n"
          ]
        },
        {
          "output_type": "stream",
          "name": "stdout",
          "text": [
            "Epoch 1/78.. Train loss: 2.422.. Val loss: 2.303.. Train L1 norm: 2.865.. Val L1 norm: 2.133.. Train Linf norm: 771.152.. Val Linf norm: 668.781\n"
          ]
        },
        {
          "output_type": "stream",
          "name": "stderr",
          "text": [
            "[I 2023-05-30 11:11:34,264] Trial 18 pruned. \n"
          ]
        },
        {
          "output_type": "stream",
          "name": "stdout",
          "text": [
            "Epoch 1/96.. Train loss: 5.516.. Val loss: 3.919.. Train L1 norm: 3.095.. Val L1 norm: 3.354.. Train Linf norm: 912.359.. Val Linf norm: 1294.197\n"
          ]
        },
        {
          "output_type": "stream",
          "name": "stderr",
          "text": [
            "[I 2023-05-30 11:12:10,261] Trial 19 pruned. \n"
          ]
        },
        {
          "output_type": "stream",
          "name": "stdout",
          "text": [
            "Epoch 1/51.. Train loss: 1570.012.. Val loss: 40.271.. Train L1 norm: 3.035.. Val L1 norm: 4.893.. Train Linf norm: 56.136.. Val Linf norm: 107.504\n"
          ]
        },
        {
          "output_type": "stream",
          "name": "stderr",
          "text": [
            "[I 2023-05-30 11:12:13,272] Trial 20 pruned. \n"
          ]
        },
        {
          "output_type": "stream",
          "name": "stdout",
          "text": [
            "Epoch 1/68.. Train loss: 121.159.. Val loss: 2.066.. Train L1 norm: 243.253.. Val L1 norm: 5.363.. Train Linf norm: 108492.012.. Val Linf norm: 3918.253\n"
          ]
        },
        {
          "output_type": "stream",
          "name": "stderr",
          "text": [
            "[I 2023-05-30 11:12:18,716] Trial 21 pruned. \n"
          ]
        },
        {
          "output_type": "stream",
          "name": "stdout",
          "text": [
            "Epoch 1/125.. Train loss: 4.169.. Val loss: 3.546.. Train L1 norm: 3.384.. Val L1 norm: 5.927.. Train Linf norm: 196.049.. Val Linf norm: 459.313\n"
          ]
        },
        {
          "output_type": "stream",
          "name": "stderr",
          "text": [
            "[I 2023-05-30 11:12:28,850] Trial 22 pruned. \n"
          ]
        },
        {
          "output_type": "stream",
          "name": "stdout",
          "text": [
            "Epoch 1/97.. Train loss: 2.660.. Val loss: 2.148.. Train L1 norm: 3.441.. Val L1 norm: 4.687.. Train Linf norm: 117.391.. Val Linf norm: 194.011\n",
            "Epoch 1/80.. Train loss: 5.236.. Val loss: 4.373.. Train L1 norm: 3.983.. Val L1 norm: 1.433.. Train Linf norm: 1406.126.. Val Linf norm: 287.355\n",
            "Epoch 2/80.. Train loss: 5.157.. Val loss: 4.516.. Train L1 norm: 3.148.. Val L1 norm: 1.262.. Train Linf norm: 891.622.. Val Linf norm: 181.774\n",
            "Epoch 3/80.. Train loss: 5.035.. Val loss: 4.385.. Train L1 norm: 3.053.. Val L1 norm: 1.527.. Train Linf norm: 799.454.. Val Linf norm: 346.767\n",
            "Epoch 4/80.. Train loss: 4.588.. Val loss: 4.551.. Train L1 norm: 3.285.. Val L1 norm: 1.410.. Train Linf norm: 1008.130.. Val Linf norm: 263.205\n",
            "Epoch 5/80.. Train loss: 4.924.. Val loss: 4.463.. Train L1 norm: 3.127.. Val L1 norm: 1.495.. Train Linf norm: 926.847.. Val Linf norm: 324.822\n",
            "Epoch 6/80.. Train loss: 5.441.. Val loss: 4.529.. Train L1 norm: 3.386.. Val L1 norm: 1.406.. Train Linf norm: 1065.559.. Val Linf norm: 259.534\n",
            "Epoch 7/80.. Train loss: 4.705.. Val loss: 4.546.. Train L1 norm: 3.134.. Val L1 norm: 1.446.. Train Linf norm: 875.028.. Val Linf norm: 284.718\n",
            "Epoch 8/80.. Train loss: 5.101.. Val loss: 4.913.. Train L1 norm: 3.376.. Val L1 norm: 1.395.. Train Linf norm: 1054.148.. Val Linf norm: 186.810\n",
            "Epoch 9/80.. Train loss: 4.446.. Val loss: 4.897.. Train L1 norm: 2.763.. Val L1 norm: 1.501.. Train Linf norm: 718.238.. Val Linf norm: 269.911\n",
            "Epoch 10/80.. Train loss: 4.721.. Val loss: 4.806.. Train L1 norm: 3.126.. Val L1 norm: 1.518.. Train Linf norm: 884.453.. Val Linf norm: 304.249\n",
            "Epoch 11/80.. Train loss: 4.448.. Val loss: 4.921.. Train L1 norm: 3.137.. Val L1 norm: 1.547.. Train Linf norm: 865.470.. Val Linf norm: 290.011\n",
            "Epoch 12/80.. Train loss: 5.055.. Val loss: 5.138.. Train L1 norm: 3.404.. Val L1 norm: 1.604.. Train Linf norm: 1110.101.. Val Linf norm: 249.526\n",
            "Epoch 13/80.. Train loss: 4.676.. Val loss: 5.062.. Train L1 norm: 2.791.. Val L1 norm: 1.617.. Train Linf norm: 749.603.. Val Linf norm: 294.452\n",
            "Epoch 14/80.. Train loss: 4.771.. Val loss: 5.109.. Train L1 norm: 3.003.. Val L1 norm: 1.649.. Train Linf norm: 931.491.. Val Linf norm: 300.420\n",
            "Epoch 15/80.. Train loss: 4.204.. Val loss: 5.108.. Train L1 norm: 2.884.. Val L1 norm: 1.662.. Train Linf norm: 727.888.. Val Linf norm: 308.750\n",
            "Epoch 16/80.. Train loss: 4.703.. Val loss: 5.169.. Train L1 norm: 3.156.. Val L1 norm: 1.672.. Train Linf norm: 949.840.. Val Linf norm: 288.176\n",
            "Epoch 17/80.. Train loss: 4.294.. Val loss: 5.205.. Train L1 norm: 3.063.. Val L1 norm: 1.689.. Train Linf norm: 851.613.. Val Linf norm: 285.691\n",
            "Epoch 18/80.. Train loss: 4.372.. Val loss: 5.041.. Train L1 norm: 3.176.. Val L1 norm: 1.614.. Train Linf norm: 898.506.. Val Linf norm: 298.526\n",
            "Epoch 19/80.. Train loss: 4.764.. Val loss: 5.212.. Train L1 norm: 3.186.. Val L1 norm: 1.679.. Train Linf norm: 866.773.. Val Linf norm: 278.807\n",
            "Epoch 20/80.. Train loss: 4.391.. Val loss: 5.100.. Train L1 norm: 3.035.. Val L1 norm: 1.621.. Train Linf norm: 855.679.. Val Linf norm: 283.187\n",
            "Epoch 21/80.. Train loss: 4.619.. Val loss: 5.132.. Train L1 norm: 3.039.. Val L1 norm: 1.640.. Train Linf norm: 820.843.. Val Linf norm: 284.977\n",
            "Epoch 22/80.. Train loss: 4.990.. Val loss: 5.233.. Train L1 norm: 3.017.. Val L1 norm: 1.699.. Train Linf norm: 1022.488.. Val Linf norm: 284.038\n",
            "Epoch 23/80.. Train loss: 4.547.. Val loss: 5.345.. Train L1 norm: 2.979.. Val L1 norm: 1.803.. Train Linf norm: 864.623.. Val Linf norm: 327.582\n",
            "Epoch 24/80.. Train loss: 4.747.. Val loss: 5.271.. Train L1 norm: 2.832.. Val L1 norm: 1.713.. Train Linf norm: 800.949.. Val Linf norm: 277.868\n",
            "Epoch 25/80.. Train loss: 4.885.. Val loss: 5.285.. Train L1 norm: 2.762.. Val L1 norm: 1.722.. Train Linf norm: 736.746.. Val Linf norm: 281.155\n",
            "Epoch 26/80.. Train loss: 4.792.. Val loss: 5.317.. Train L1 norm: 2.823.. Val L1 norm: 1.756.. Train Linf norm: 801.338.. Val Linf norm: 293.527\n",
            "Epoch 27/80.. Train loss: 4.705.. Val loss: 5.325.. Train L1 norm: 2.912.. Val L1 norm: 1.767.. Train Linf norm: 913.246.. Val Linf norm: 299.173\n",
            "Epoch 28/80.. Train loss: 4.280.. Val loss: 5.349.. Train L1 norm: 2.690.. Val L1 norm: 1.800.. Train Linf norm: 663.267.. Val Linf norm: 317.299\n",
            "Epoch 29/80.. Train loss: 4.334.. Val loss: 5.319.. Train L1 norm: 2.733.. Val L1 norm: 1.752.. Train Linf norm: 708.883.. Val Linf norm: 291.631\n",
            "Epoch 30/80.. Train loss: 4.807.. Val loss: 5.345.. Train L1 norm: 2.881.. Val L1 norm: 1.787.. Train Linf norm: 790.254.. Val Linf norm: 306.594\n",
            "Epoch 31/80.. Train loss: 4.433.. Val loss: 5.339.. Train L1 norm: 2.762.. Val L1 norm: 1.779.. Train Linf norm: 784.055.. Val Linf norm: 301.755\n",
            "Epoch 32/80.. Train loss: 4.481.. Val loss: 5.350.. Train L1 norm: 2.753.. Val L1 norm: 1.797.. Train Linf norm: 738.607.. Val Linf norm: 313.018\n",
            "Epoch 33/80.. Train loss: 4.934.. Val loss: 5.373.. Train L1 norm: 2.850.. Val L1 norm: 1.827.. Train Linf norm: 843.446.. Val Linf norm: 329.054\n",
            "Epoch 34/80.. Train loss: 4.434.. Val loss: 5.358.. Train L1 norm: 2.865.. Val L1 norm: 1.803.. Train Linf norm: 846.549.. Val Linf norm: 313.207\n",
            "Epoch 35/80.. Train loss: 5.216.. Val loss: 5.365.. Train L1 norm: 2.876.. Val L1 norm: 1.813.. Train Linf norm: 847.134.. Val Linf norm: 319.968\n",
            "Epoch 36/80.. Train loss: 4.550.. Val loss: 5.384.. Train L1 norm: 2.857.. Val L1 norm: 1.839.. Train Linf norm: 881.359.. Val Linf norm: 335.461\n",
            "Epoch 37/80.. Train loss: 4.710.. Val loss: 5.397.. Train L1 norm: 2.778.. Val L1 norm: 1.862.. Train Linf norm: 808.846.. Val Linf norm: 350.007\n",
            "Epoch 38/80.. Train loss: 4.317.. Val loss: 5.420.. Train L1 norm: 2.703.. Val L1 norm: 1.895.. Train Linf norm: 751.974.. Val Linf norm: 368.831\n",
            "Epoch 39/80.. Train loss: 4.897.. Val loss: 5.430.. Train L1 norm: 2.730.. Val L1 norm: 1.909.. Train Linf norm: 812.293.. Val Linf norm: 376.177\n",
            "Epoch 40/80.. Train loss: 4.357.. Val loss: 5.415.. Train L1 norm: 2.663.. Val L1 norm: 1.888.. Train Linf norm: 710.868.. Val Linf norm: 364.015\n",
            "Epoch 41/80.. Train loss: 4.628.. Val loss: 5.418.. Train L1 norm: 2.709.. Val L1 norm: 1.895.. Train Linf norm: 785.909.. Val Linf norm: 368.586\n",
            "Epoch 42/80.. Train loss: 4.242.. Val loss: 5.382.. Train L1 norm: 2.791.. Val L1 norm: 1.845.. Train Linf norm: 833.825.. Val Linf norm: 340.350\n",
            "Epoch 43/80.. Train loss: 4.512.. Val loss: 5.389.. Train L1 norm: 3.006.. Val L1 norm: 1.855.. Train Linf norm: 1012.579.. Val Linf norm: 345.512\n",
            "Epoch 44/80.. Train loss: 4.712.. Val loss: 5.386.. Train L1 norm: 2.869.. Val L1 norm: 1.850.. Train Linf norm: 863.463.. Val Linf norm: 342.675\n",
            "Epoch 45/80.. Train loss: 4.326.. Val loss: 5.401.. Train L1 norm: 2.869.. Val L1 norm: 1.871.. Train Linf norm: 837.082.. Val Linf norm: 355.500\n",
            "Epoch 46/80.. Train loss: 4.957.. Val loss: 5.403.. Train L1 norm: 2.748.. Val L1 norm: 1.875.. Train Linf norm: 765.189.. Val Linf norm: 357.481\n",
            "Epoch 47/80.. Train loss: 4.334.. Val loss: 5.411.. Train L1 norm: 2.720.. Val L1 norm: 1.886.. Train Linf norm: 749.643.. Val Linf norm: 364.304\n",
            "Epoch 48/80.. Train loss: 4.537.. Val loss: 5.408.. Train L1 norm: 2.724.. Val L1 norm: 1.882.. Train Linf norm: 728.441.. Val Linf norm: 361.675\n",
            "Epoch 49/80.. Train loss: 4.653.. Val loss: 5.412.. Train L1 norm: 2.865.. Val L1 norm: 1.888.. Train Linf norm: 853.054.. Val Linf norm: 365.435\n",
            "Epoch 50/80.. Train loss: 4.466.. Val loss: 5.414.. Train L1 norm: 2.621.. Val L1 norm: 1.891.. Train Linf norm: 644.888.. Val Linf norm: 367.097\n",
            "Epoch 51/80.. Train loss: 4.887.. Val loss: 5.419.. Train L1 norm: 2.700.. Val L1 norm: 1.898.. Train Linf norm: 742.191.. Val Linf norm: 371.857\n",
            "Epoch 52/80.. Train loss: 4.735.. Val loss: 5.423.. Train L1 norm: 2.882.. Val L1 norm: 1.904.. Train Linf norm: 920.403.. Val Linf norm: 374.990\n",
            "Epoch 53/80.. Train loss: 4.339.. Val loss: 5.427.. Train L1 norm: 2.777.. Val L1 norm: 1.909.. Train Linf norm: 804.879.. Val Linf norm: 377.766\n",
            "Epoch 54/80.. Train loss: 4.313.. Val loss: 5.431.. Train L1 norm: 2.546.. Val L1 norm: 1.915.. Train Linf norm: 586.507.. Val Linf norm: 380.487\n",
            "Epoch 55/80.. Train loss: 4.349.. Val loss: 5.431.. Train L1 norm: 2.752.. Val L1 norm: 1.915.. Train Linf norm: 829.419.. Val Linf norm: 381.209\n",
            "Epoch 56/80.. Train loss: 4.517.. Val loss: 5.432.. Train L1 norm: 2.773.. Val L1 norm: 1.917.. Train Linf norm: 847.601.. Val Linf norm: 382.202\n",
            "Epoch 57/80.. Train loss: 4.624.. Val loss: 5.430.. Train L1 norm: 2.785.. Val L1 norm: 1.914.. Train Linf norm: 770.692.. Val Linf norm: 380.068\n",
            "Epoch 58/80.. Train loss: 4.596.. Val loss: 5.432.. Train L1 norm: 2.661.. Val L1 norm: 1.916.. Train Linf norm: 698.701.. Val Linf norm: 381.209\n",
            "Epoch 59/80.. Train loss: 4.424.. Val loss: 5.433.. Train L1 norm: 2.654.. Val L1 norm: 1.917.. Train Linf norm: 696.112.. Val Linf norm: 382.056\n",
            "Epoch 60/80.. Train loss: 4.791.. Val loss: 5.435.. Train L1 norm: 2.852.. Val L1 norm: 1.920.. Train Linf norm: 875.348.. Val Linf norm: 383.589\n",
            "Epoch 61/80.. Train loss: 4.702.. Val loss: 5.437.. Train L1 norm: 2.714.. Val L1 norm: 1.923.. Train Linf norm: 783.361.. Val Linf norm: 385.365\n",
            "Epoch 62/80.. Train loss: 4.883.. Val loss: 5.438.. Train L1 norm: 2.693.. Val L1 norm: 1.924.. Train Linf norm: 771.671.. Val Linf norm: 386.195\n",
            "Epoch 63/80.. Train loss: 4.480.. Val loss: 5.440.. Train L1 norm: 2.699.. Val L1 norm: 1.927.. Train Linf norm: 706.281.. Val Linf norm: 387.689\n",
            "Epoch 64/80.. Train loss: 4.921.. Val loss: 5.441.. Train L1 norm: 2.792.. Val L1 norm: 1.928.. Train Linf norm: 874.053.. Val Linf norm: 388.546\n",
            "Epoch 65/80.. Train loss: 4.965.. Val loss: 5.442.. Train L1 norm: 2.646.. Val L1 norm: 1.930.. Train Linf norm: 658.006.. Val Linf norm: 389.640\n",
            "Epoch 66/80.. Train loss: 4.356.. Val loss: 5.444.. Train L1 norm: 2.789.. Val L1 norm: 1.933.. Train Linf norm: 832.564.. Val Linf norm: 391.075\n",
            "Epoch 67/80.. Train loss: 4.229.. Val loss: 5.446.. Train L1 norm: 2.808.. Val L1 norm: 1.936.. Train Linf norm: 910.538.. Val Linf norm: 392.587\n",
            "Epoch 68/80.. Train loss: 4.270.. Val loss: 5.448.. Train L1 norm: 2.614.. Val L1 norm: 1.938.. Train Linf norm: 669.278.. Val Linf norm: 393.805\n",
            "Epoch 69/80.. Train loss: 4.755.. Val loss: 5.442.. Train L1 norm: 2.620.. Val L1 norm: 1.929.. Train Linf norm: 651.384.. Val Linf norm: 388.894\n",
            "Epoch 70/80.. Train loss: 4.258.. Val loss: 5.442.. Train L1 norm: 2.695.. Val L1 norm: 1.930.. Train Linf norm: 774.432.. Val Linf norm: 389.356\n",
            "Epoch 71/80.. Train loss: 4.695.. Val loss: 5.442.. Train L1 norm: 2.750.. Val L1 norm: 1.930.. Train Linf norm: 802.082.. Val Linf norm: 389.447\n",
            "Epoch 72/80.. Train loss: 4.754.. Val loss: 5.443.. Train L1 norm: 2.697.. Val L1 norm: 1.931.. Train Linf norm: 781.975.. Val Linf norm: 389.808\n",
            "Epoch 73/80.. Train loss: 4.419.. Val loss: 5.444.. Train L1 norm: 2.608.. Val L1 norm: 1.932.. Train Linf norm: 649.989.. Val Linf norm: 390.307\n",
            "Epoch 74/80.. Train loss: 4.427.. Val loss: 5.440.. Train L1 norm: 2.556.. Val L1 norm: 1.927.. Train Linf norm: 581.291.. Val Linf norm: 387.530\n",
            "Epoch 75/80.. Train loss: 4.460.. Val loss: 5.441.. Train L1 norm: 2.704.. Val L1 norm: 1.928.. Train Linf norm: 787.073.. Val Linf norm: 387.834\n",
            "Epoch 76/80.. Train loss: 4.340.. Val loss: 5.437.. Train L1 norm: 2.736.. Val L1 norm: 1.923.. Train Linf norm: 806.621.. Val Linf norm: 384.723\n",
            "Epoch 77/80.. Train loss: 4.218.. Val loss: 5.440.. Train L1 norm: 2.797.. Val L1 norm: 1.926.. Train Linf norm: 853.028.. Val Linf norm: 386.324\n",
            "Epoch 78/80.. Train loss: 4.373.. Val loss: 5.439.. Train L1 norm: 2.803.. Val L1 norm: 1.924.. Train Linf norm: 840.381.. Val Linf norm: 385.392\n",
            "Epoch 79/80.. Train loss: 4.309.. Val loss: 5.438.. Train L1 norm: 2.583.. Val L1 norm: 1.923.. Train Linf norm: 671.160.. Val Linf norm: 385.034\n"
          ]
        },
        {
          "output_type": "stream",
          "name": "stderr",
          "text": [
            "[I 2023-05-30 11:15:17,893] Trial 23 finished with value: 1.9214969084421794 and parameters: {'n_layers': 5, 'n_units_0': 89, 'n_units_1': 3172, 'n_units_2': 698, 'n_units_3': 3968, 'n_units_4': 1658, 'hidden_activation': 'ReLU', 'output_activation': 'Linear', 'loss': 'Huber', 'optimizer': 'Adagrad', 'lr': 0.000350557695664765, 'batch_size': 1024, 'n_epochs': 80, 'scheduler': 'ReduceLROnPlateau', 'dropout_rate': 0.49510741542479103, 'factor': 0.49793399852743414, 'patience': 10, 'threshold': 0.00010518969267967932}. Best is trial 13 with value: 1.4059733067830404.\n"
          ]
        },
        {
          "output_type": "stream",
          "name": "stdout",
          "text": [
            "Epoch 80/80.. Train loss: 4.410.. Val loss: 5.437.. Train L1 norm: 2.759.. Val L1 norm: 1.921.. Train Linf norm: 777.265.. Val Linf norm: 383.895\n"
          ]
        },
        {
          "output_type": "stream",
          "name": "stderr",
          "text": [
            "[I 2023-05-30 11:15:23,473] Trial 24 pruned. \n"
          ]
        },
        {
          "output_type": "stream",
          "name": "stdout",
          "text": [
            "Epoch 1/75.. Train loss: 5.223.. Val loss: 4.040.. Train L1 norm: 3.319.. Val L1 norm: 2.571.. Train Linf norm: 978.444.. Val Linf norm: 898.504\n"
          ]
        },
        {
          "output_type": "stream",
          "name": "stderr",
          "text": [
            "[I 2023-05-30 11:15:25,821] Trial 25 pruned. \n"
          ]
        },
        {
          "output_type": "stream",
          "name": "stdout",
          "text": [
            "Epoch 1/81.. Train loss: 5.503.. Val loss: 4.114.. Train L1 norm: 3.700.. Val L1 norm: 2.169.. Train Linf norm: 889.716.. Val Linf norm: 674.580\n"
          ]
        },
        {
          "output_type": "stream",
          "name": "stderr",
          "text": [
            "[I 2023-05-30 11:15:27,566] Trial 26 pruned. \n"
          ]
        },
        {
          "output_type": "stream",
          "name": "stdout",
          "text": [
            "Epoch 1/94.. Train loss: 4.989.. Val loss: 4.119.. Train L1 norm: 3.107.. Val L1 norm: 2.220.. Train Linf norm: 840.740.. Val Linf norm: 709.524\n"
          ]
        },
        {
          "output_type": "stream",
          "name": "stderr",
          "text": [
            "[I 2023-05-30 11:15:29,142] Trial 27 pruned. \n"
          ]
        },
        {
          "output_type": "stream",
          "name": "stdout",
          "text": [
            "Epoch 1/63.. Train loss: 5.214.. Val loss: 4.120.. Train L1 norm: 3.221.. Val L1 norm: 2.202.. Train Linf norm: 922.976.. Val Linf norm: 705.249\n"
          ]
        },
        {
          "output_type": "stream",
          "name": "stderr",
          "text": [
            "WARNING:tensorboardX.x2num:NaN or Inf found in input tensor.\n",
            "WARNING:tensorboardX.x2num:NaN or Inf found in input tensor.\n",
            "WARNING:tensorboardX.x2num:NaN or Inf found in input tensor.\n",
            "WARNING:tensorboardX.x2num:NaN or Inf found in input tensor.\n",
            "WARNING:tensorboardX.x2num:NaN or Inf found in input tensor.\n",
            "WARNING:tensorboardX.x2num:NaN or Inf found in input tensor.\n",
            "[I 2023-05-30 11:15:32,483] Trial 28 pruned. \n"
          ]
        },
        {
          "output_type": "stream",
          "name": "stdout",
          "text": [
            "Epoch 1/120.. Train loss: nan.. Val loss: nan.. Train L1 norm: nan.. Val L1 norm: nan.. Train Linf norm: nan.. Val Linf norm: nan\n",
            "Epoch 1/76.. Train loss: 14160.193.. Val loss: 69.930.. Train L1 norm: 4.695.. Val L1 norm: 1.373.. Train Linf norm: 748.194.. Val Linf norm: 223.001\n",
            "Epoch 2/76.. Train loss: 67385.773.. Val loss: 102.759.. Train L1 norm: 2.713.. Val L1 norm: 1.687.. Train Linf norm: 664.855.. Val Linf norm: 311.052\n",
            "Epoch 3/76.. Train loss: 29777.889.. Val loss: 53.664.. Train L1 norm: 2.704.. Val L1 norm: 1.832.. Train Linf norm: 906.563.. Val Linf norm: 543.691\n",
            "Epoch 4/76.. Train loss: 32797.504.. Val loss: 61.665.. Train L1 norm: 2.570.. Val L1 norm: 2.246.. Train Linf norm: 744.366.. Val Linf norm: 795.199\n",
            "Epoch 5/76.. Train loss: 1764.314.. Val loss: 68.275.. Train L1 norm: 2.076.. Val L1 norm: 3.177.. Train Linf norm: 414.229.. Val Linf norm: 1425.405\n",
            "Epoch 6/76.. Train loss: 5486.038.. Val loss: 110.737.. Train L1 norm: 2.358.. Val L1 norm: 1.780.. Train Linf norm: 578.395.. Val Linf norm: 320.281\n",
            "Epoch 7/76.. Train loss: 4856.665.. Val loss: 54.876.. Train L1 norm: 2.602.. Val L1 norm: 1.938.. Train Linf norm: 720.199.. Val Linf norm: 652.958\n",
            "Epoch 8/76.. Train loss: 20002.595.. Val loss: 143.917.. Train L1 norm: 2.434.. Val L1 norm: 1.996.. Train Linf norm: 632.374.. Val Linf norm: 349.946\n",
            "Epoch 9/76.. Train loss: 3198.092.. Val loss: 69.101.. Train L1 norm: 2.766.. Val L1 norm: 2.267.. Train Linf norm: 849.129.. Val Linf norm: 936.166\n",
            "Epoch 10/76.. Train loss: 523.737.. Val loss: 60.495.. Train L1 norm: 2.948.. Val L1 norm: 2.115.. Train Linf norm: 944.299.. Val Linf norm: 708.214\n",
            "Epoch 11/76.. Train loss: 1339.932.. Val loss: 52.884.. Train L1 norm: 2.418.. Val L1 norm: 2.051.. Train Linf norm: 634.271.. Val Linf norm: 765.219\n",
            "Epoch 12/76.. Train loss: 10285.484.. Val loss: 51.415.. Train L1 norm: 2.653.. Val L1 norm: 2.650.. Train Linf norm: 726.699.. Val Linf norm: 1163.680\n",
            "Epoch 13/76.. Train loss: 963.955.. Val loss: 54.607.. Train L1 norm: 2.779.. Val L1 norm: 2.466.. Train Linf norm: 804.152.. Val Linf norm: 1096.632\n",
            "Epoch 14/76.. Train loss: 455.748.. Val loss: 52.906.. Train L1 norm: 2.842.. Val L1 norm: 1.917.. Train Linf norm: 815.772.. Val Linf norm: 639.989\n",
            "Epoch 15/76.. Train loss: 13496.309.. Val loss: 60.473.. Train L1 norm: 3.061.. Val L1 norm: 3.443.. Train Linf norm: 982.955.. Val Linf norm: 1837.383\n",
            "Epoch 16/76.. Train loss: 5397.225.. Val loss: 317.470.. Train L1 norm: 3.250.. Val L1 norm: 3.395.. Train Linf norm: 1076.613.. Val Linf norm: 1194.782\n",
            "Epoch 17/76.. Train loss: 6760.886.. Val loss: 52.100.. Train L1 norm: 3.494.. Val L1 norm: 2.032.. Train Linf norm: 947.434.. Val Linf norm: 652.227\n",
            "Epoch 18/76.. Train loss: 87228.039.. Val loss: 86.773.. Train L1 norm: 3.558.. Val L1 norm: 1.780.. Train Linf norm: 1057.178.. Val Linf norm: 439.989\n",
            "Epoch 19/76.. Train loss: 3339.434.. Val loss: 86.873.. Train L1 norm: 3.071.. Val L1 norm: 2.073.. Train Linf norm: 965.848.. Val Linf norm: 660.229\n",
            "Epoch 20/76.. Train loss: 23586.957.. Val loss: 60.041.. Train L1 norm: 3.210.. Val L1 norm: 2.228.. Train Linf norm: 863.164.. Val Linf norm: 886.022\n",
            "Epoch 21/76.. Train loss: 3005.302.. Val loss: 68.285.. Train L1 norm: 3.045.. Val L1 norm: 1.760.. Train Linf norm: 829.130.. Val Linf norm: 536.399\n",
            "Epoch 22/76.. Train loss: 7886.665.. Val loss: 61.159.. Train L1 norm: 3.234.. Val L1 norm: 1.585.. Train Linf norm: 1043.223.. Val Linf norm: 415.116\n",
            "Epoch 23/76.. Train loss: 38261.840.. Val loss: 54.914.. Train L1 norm: 2.968.. Val L1 norm: 2.508.. Train Linf norm: 886.510.. Val Linf norm: 932.116\n",
            "Epoch 24/76.. Train loss: 18294.979.. Val loss: 50.400.. Train L1 norm: 2.831.. Val L1 norm: 2.786.. Train Linf norm: 827.697.. Val Linf norm: 1198.859\n",
            "Epoch 25/76.. Train loss: 4146.631.. Val loss: 59.931.. Train L1 norm: 2.996.. Val L1 norm: 2.345.. Train Linf norm: 911.174.. Val Linf norm: 1016.434\n",
            "Epoch 26/76.. Train loss: 11594.187.. Val loss: 84.822.. Train L1 norm: 3.171.. Val L1 norm: 2.428.. Train Linf norm: 998.919.. Val Linf norm: 1052.819\n",
            "Epoch 27/76.. Train loss: 42321.453.. Val loss: 52.943.. Train L1 norm: 3.315.. Val L1 norm: 2.001.. Train Linf norm: 947.671.. Val Linf norm: 640.769\n",
            "Epoch 28/76.. Train loss: 13871.003.. Val loss: 78.368.. Train L1 norm: 2.343.. Val L1 norm: 1.795.. Train Linf norm: 508.244.. Val Linf norm: 515.738\n",
            "Epoch 29/76.. Train loss: 19535.495.. Val loss: 78.182.. Train L1 norm: 3.289.. Val L1 norm: 2.127.. Train Linf norm: 1136.098.. Val Linf norm: 830.219\n",
            "Epoch 30/76.. Train loss: 32581.788.. Val loss: 89.207.. Train L1 norm: 3.152.. Val L1 norm: 2.455.. Train Linf norm: 966.885.. Val Linf norm: 1057.764\n",
            "Epoch 31/76.. Train loss: 31341.861.. Val loss: 83.926.. Train L1 norm: 3.142.. Val L1 norm: 2.522.. Train Linf norm: 971.629.. Val Linf norm: 1113.921\n",
            "Epoch 32/76.. Train loss: 3212.156.. Val loss: 65.507.. Train L1 norm: 3.491.. Val L1 norm: 2.558.. Train Linf norm: 1151.900.. Val Linf norm: 1160.458\n",
            "Epoch 33/76.. Train loss: 5375.542.. Val loss: 55.726.. Train L1 norm: 3.433.. Val L1 norm: 2.464.. Train Linf norm: 1041.513.. Val Linf norm: 1060.607\n",
            "Epoch 34/76.. Train loss: 6995.579.. Val loss: 96.525.. Train L1 norm: 3.340.. Val L1 norm: 2.040.. Train Linf norm: 1031.922.. Val Linf norm: 698.880\n",
            "Epoch 35/76.. Train loss: 10662.476.. Val loss: 118.238.. Train L1 norm: 2.783.. Val L1 norm: 2.241.. Train Linf norm: 799.651.. Val Linf norm: 791.557\n",
            "Epoch 36/76.. Train loss: 18291.027.. Val loss: 132.081.. Train L1 norm: 3.114.. Val L1 norm: 2.325.. Train Linf norm: 1052.321.. Val Linf norm: 841.899\n",
            "Epoch 37/76.. Train loss: 30006.376.. Val loss: 56.212.. Train L1 norm: 3.287.. Val L1 norm: 2.478.. Train Linf norm: 1016.386.. Val Linf norm: 1078.324\n",
            "Epoch 38/76.. Train loss: 2876.080.. Val loss: 56.368.. Train L1 norm: 3.225.. Val L1 norm: 2.409.. Train Linf norm: 978.786.. Val Linf norm: 1028.045\n",
            "Epoch 39/76.. Train loss: 13504.568.. Val loss: 66.626.. Train L1 norm: 3.525.. Val L1 norm: 2.252.. Train Linf norm: 1152.401.. Val Linf norm: 937.621\n",
            "Epoch 40/76.. Train loss: 6442.973.. Val loss: 142.497.. Train L1 norm: 3.209.. Val L1 norm: 2.313.. Train Linf norm: 1094.748.. Val Linf norm: 808.703\n",
            "Epoch 41/76.. Train loss: 6515.085.. Val loss: 119.428.. Train L1 norm: 2.709.. Val L1 norm: 2.265.. Train Linf norm: 708.644.. Val Linf norm: 808.338\n",
            "Epoch 42/76.. Train loss: 61583.984.. Val loss: 76.962.. Train L1 norm: 3.128.. Val L1 norm: 2.256.. Train Linf norm: 978.699.. Val Linf norm: 932.756\n",
            "Epoch 43/76.. Train loss: 1774.372.. Val loss: 103.278.. Train L1 norm: 2.819.. Val L1 norm: 2.217.. Train Linf norm: 703.700.. Val Linf norm: 818.052\n",
            "Epoch 44/76.. Train loss: 12259.796.. Val loss: 83.209.. Train L1 norm: 3.065.. Val L1 norm: 2.242.. Train Linf norm: 886.441.. Val Linf norm: 910.890\n",
            "Epoch 45/76.. Train loss: 1266.113.. Val loss: 72.053.. Train L1 norm: 3.300.. Val L1 norm: 2.191.. Train Linf norm: 1104.994.. Val Linf norm: 888.043\n",
            "Epoch 46/76.. Train loss: 919.861.. Val loss: 60.897.. Train L1 norm: 3.143.. Val L1 norm: 2.353.. Train Linf norm: 930.598.. Val Linf norm: 997.243\n",
            "Epoch 47/76.. Train loss: 1374.366.. Val loss: 70.931.. Train L1 norm: 3.136.. Val L1 norm: 2.256.. Train Linf norm: 932.596.. Val Linf norm: 926.896\n",
            "Epoch 48/76.. Train loss: 13292.687.. Val loss: 104.501.. Train L1 norm: 2.833.. Val L1 norm: 2.182.. Train Linf norm: 794.379.. Val Linf norm: 795.096\n",
            "Epoch 49/76.. Train loss: 7377.593.. Val loss: 123.394.. Train L1 norm: 2.835.. Val L1 norm: 2.216.. Train Linf norm: 816.820.. Val Linf norm: 758.844\n",
            "Epoch 50/76.. Train loss: 71135.544.. Val loss: 109.125.. Train L1 norm: 3.031.. Val L1 norm: 2.208.. Train Linf norm: 1051.060.. Val Linf norm: 797.762\n",
            "Epoch 51/76.. Train loss: 1369.589.. Val loss: 119.970.. Train L1 norm: 2.837.. Val L1 norm: 2.217.. Train Linf norm: 813.763.. Val Linf norm: 766.734\n",
            "Epoch 52/76.. Train loss: 16043.315.. Val loss: 111.465.. Train L1 norm: 2.813.. Val L1 norm: 2.238.. Train Linf norm: 743.025.. Val Linf norm: 816.608\n",
            "Epoch 53/76.. Train loss: 321.930.. Val loss: 105.805.. Train L1 norm: 2.984.. Val L1 norm: 2.237.. Train Linf norm: 935.045.. Val Linf norm: 845.412\n",
            "Epoch 54/76.. Train loss: 6511.950.. Val loss: 98.575.. Train L1 norm: 2.980.. Val L1 norm: 2.231.. Train Linf norm: 857.519.. Val Linf norm: 865.432\n",
            "Epoch 55/76.. Train loss: 1032.911.. Val loss: 96.761.. Train L1 norm: 3.060.. Val L1 norm: 2.227.. Train Linf norm: 922.669.. Val Linf norm: 869.057\n",
            "Epoch 56/76.. Train loss: 3698.200.. Val loss: 100.217.. Train L1 norm: 3.071.. Val L1 norm: 2.208.. Train Linf norm: 971.197.. Val Linf norm: 844.028\n",
            "Epoch 57/76.. Train loss: 1048.654.. Val loss: 97.809.. Train L1 norm: 3.018.. Val L1 norm: 2.204.. Train Linf norm: 910.187.. Val Linf norm: 848.696\n",
            "Epoch 58/76.. Train loss: 5255.883.. Val loss: 89.076.. Train L1 norm: 3.174.. Val L1 norm: 2.222.. Train Linf norm: 1037.304.. Val Linf norm: 880.979\n",
            "Epoch 59/76.. Train loss: 74374.748.. Val loss: 83.166.. Train L1 norm: 3.189.. Val L1 norm: 2.222.. Train Linf norm: 1047.794.. Val Linf norm: 888.234\n",
            "Epoch 60/76.. Train loss: 1776.303.. Val loss: 80.835.. Train L1 norm: 3.167.. Val L1 norm: 2.221.. Train Linf norm: 960.181.. Val Linf norm: 889.033\n",
            "Epoch 61/76.. Train loss: 15089.004.. Val loss: 76.188.. Train L1 norm: 3.395.. Val L1 norm: 2.230.. Train Linf norm: 1108.132.. Val Linf norm: 899.484\n",
            "Epoch 62/76.. Train loss: 20629.928.. Val loss: 80.574.. Train L1 norm: 3.120.. Val L1 norm: 2.185.. Train Linf norm: 932.702.. Val Linf norm: 860.284\n",
            "Epoch 63/76.. Train loss: 13168.427.. Val loss: 83.663.. Train L1 norm: 3.126.. Val L1 norm: 2.168.. Train Linf norm: 936.348.. Val Linf norm: 843.785\n",
            "Epoch 64/76.. Train loss: 4329.760.. Val loss: 81.550.. Train L1 norm: 3.062.. Val L1 norm: 2.179.. Train Linf norm: 890.902.. Val Linf norm: 854.809\n",
            "Epoch 65/76.. Train loss: 526.473.. Val loss: 82.788.. Train L1 norm: 3.033.. Val L1 norm: 2.167.. Train Linf norm: 887.592.. Val Linf norm: 844.646\n",
            "Epoch 66/76.. Train loss: 4965.469.. Val loss: 85.211.. Train L1 norm: 3.187.. Val L1 norm: 2.151.. Train Linf norm: 1035.826.. Val Linf norm: 829.803\n",
            "Epoch 67/76.. Train loss: 6662.588.. Val loss: 82.578.. Train L1 norm: 2.937.. Val L1 norm: 2.167.. Train Linf norm: 787.225.. Val Linf norm: 845.163\n",
            "Epoch 68/76.. Train loss: 2957.046.. Val loss: 84.600.. Train L1 norm: 3.169.. Val L1 norm: 2.153.. Train Linf norm: 978.307.. Val Linf norm: 831.352\n",
            "Epoch 69/76.. Train loss: 5274.589.. Val loss: 82.307.. Train L1 norm: 3.123.. Val L1 norm: 2.167.. Train Linf norm: 988.901.. Val Linf norm: 845.426\n",
            "Epoch 70/76.. Train loss: 24967.253.. Val loss: 82.902.. Train L1 norm: 3.107.. Val L1 norm: 2.155.. Train Linf norm: 935.888.. Val Linf norm: 835.671\n",
            "Epoch 71/76.. Train loss: 1208.155.. Val loss: 82.210.. Train L1 norm: 2.996.. Val L1 norm: 2.154.. Train Linf norm: 811.250.. Val Linf norm: 835.215\n",
            "Epoch 72/76.. Train loss: 2854.099.. Val loss: 82.786.. Train L1 norm: 3.187.. Val L1 norm: 2.146.. Train Linf norm: 1031.100.. Val Linf norm: 828.668\n",
            "Epoch 73/76.. Train loss: 2796.120.. Val loss: 83.776.. Train L1 norm: 3.205.. Val L1 norm: 2.137.. Train Linf norm: 1026.859.. Val Linf norm: 820.866\n",
            "Epoch 74/76.. Train loss: 2267.171.. Val loss: 83.614.. Train L1 norm: 2.966.. Val L1 norm: 2.141.. Train Linf norm: 881.600.. Val Linf norm: 823.616\n",
            "Epoch 75/76.. Train loss: 2184.592.. Val loss: 84.815.. Train L1 norm: 3.060.. Val L1 norm: 2.132.. Train Linf norm: 903.993.. Val Linf norm: 815.312\n"
          ]
        },
        {
          "output_type": "stream",
          "name": "stderr",
          "text": [
            "[I 2023-05-30 11:18:32,583] Trial 29 finished with value: 2.1323659821828205 and parameters: {'n_layers': 5, 'n_units_0': 3464, 'n_units_1': 2163, 'n_units_2': 602, 'n_units_3': 2270, 'n_units_4': 1856, 'hidden_activation': 'ReLU', 'output_activation': 'Linear', 'loss': 'MSE', 'optimizer': 'RMSprop', 'lr': 0.00012118650232555393, 'batch_size': 1024, 'n_epochs': 76, 'scheduler': 'ReduceLROnPlateau', 'dropout_rate': 0.3781818933323163, 'factor': 0.4481773714198488, 'patience': 7, 'threshold': 0.0012058977912333129}. Best is trial 13 with value: 1.4059733067830404.\n"
          ]
        },
        {
          "output_type": "stream",
          "name": "stdout",
          "text": [
            "Epoch 76/76.. Train loss: 9953.568.. Val loss: 84.554.. Train L1 norm: 3.083.. Val L1 norm: 2.132.. Train Linf norm: 961.793.. Val Linf norm: 816.468\n"
          ]
        },
        {
          "output_type": "stream",
          "name": "stderr",
          "text": [
            "[I 2023-05-30 11:18:40,643] Trial 30 pruned. \n"
          ]
        },
        {
          "output_type": "stream",
          "name": "stdout",
          "text": [
            "Epoch 1/103.. Train loss: 5.392.. Val loss: 3.688.. Train L1 norm: 3.754.. Val L1 norm: 4.723.. Train Linf norm: 1507.289.. Val Linf norm: 3566.956\n"
          ]
        },
        {
          "output_type": "stream",
          "name": "stderr",
          "text": [
            "[I 2023-05-30 11:18:49,756] Trial 31 pruned. \n"
          ]
        },
        {
          "output_type": "stream",
          "name": "stdout",
          "text": [
            "Epoch 1/93.. Train loss: 5.312.. Val loss: 4.391.. Train L1 norm: 3.464.. Val L1 norm: 3.199.. Train Linf norm: 204.854.. Val Linf norm: 210.313\n"
          ]
        },
        {
          "output_type": "stream",
          "name": "stderr",
          "text": [
            "[I 2023-05-30 11:19:01,477] Trial 32 pruned. \n"
          ]
        },
        {
          "output_type": "stream",
          "name": "stdout",
          "text": [
            "Epoch 1/60.. Train loss: 2.394.. Val loss: 2.152.. Train L1 norm: 4.563.. Val L1 norm: 5.518.. Train Linf norm: 159.507.. Val Linf norm: 225.968\n"
          ]
        },
        {
          "output_type": "stream",
          "name": "stderr",
          "text": [
            "[I 2023-05-30 11:19:04,072] Trial 33 pruned. \n"
          ]
        },
        {
          "output_type": "stream",
          "name": "stdout",
          "text": [
            "Epoch 1/89.. Train loss: 5.141.. Val loss: 4.195.. Train L1 norm: 3.551.. Val L1 norm: 1.894.. Train Linf norm: 1001.216.. Val Linf norm: 534.877\n"
          ]
        },
        {
          "output_type": "stream",
          "name": "stderr",
          "text": [
            "[I 2023-05-30 11:19:06,313] Trial 34 pruned. \n"
          ]
        },
        {
          "output_type": "stream",
          "name": "stdout",
          "text": [
            "Epoch 1/83.. Train loss: 4.649.. Val loss: 4.151.. Train L1 norm: 3.299.. Val L1 norm: 1.993.. Train Linf norm: 933.918.. Val Linf norm: 566.458\n"
          ]
        },
        {
          "output_type": "stream",
          "name": "stderr",
          "text": [
            "[I 2023-05-30 11:19:08,758] Trial 35 pruned. \n"
          ]
        },
        {
          "output_type": "stream",
          "name": "stdout",
          "text": [
            "Epoch 1/102.. Train loss: 5.548.. Val loss: 4.102.. Train L1 norm: 4.723.. Val L1 norm: 2.249.. Train Linf norm: 1238.201.. Val Linf norm: 726.026\n"
          ]
        },
        {
          "output_type": "stream",
          "name": "stderr",
          "text": [
            "[I 2023-05-30 11:19:13,691] Trial 36 pruned. \n"
          ]
        },
        {
          "output_type": "stream",
          "name": "stdout",
          "text": [
            "Epoch 1/74.. Train loss: 5.085.. Val loss: 4.109.. Train L1 norm: 3.287.. Val L1 norm: 2.245.. Train Linf norm: 580.081.. Val Linf norm: 443.271\n"
          ]
        },
        {
          "output_type": "stream",
          "name": "stderr",
          "text": [
            "[I 2023-05-30 11:19:34,525] Trial 37 pruned. \n"
          ]
        },
        {
          "output_type": "stream",
          "name": "stdout",
          "text": [
            "Epoch 1/86.. Train loss: 5.753.. Val loss: 4.440.. Train L1 norm: 4.160.. Val L1 norm: 2.980.. Train Linf norm: 76.968.. Val Linf norm: 58.007\n"
          ]
        },
        {
          "output_type": "stream",
          "name": "stderr",
          "text": [
            "[I 2023-05-30 11:19:37,056] Trial 38 pruned. \n"
          ]
        },
        {
          "output_type": "stream",
          "name": "stdout",
          "text": [
            "Epoch 1/71.. Train loss: 2.311.. Val loss: 2.039.. Train L1 norm: 4.145.. Val L1 norm: 7.153.. Train Linf norm: 1165.720.. Val Linf norm: 3121.389\n"
          ]
        },
        {
          "output_type": "stream",
          "name": "stderr",
          "text": [
            "[I 2023-05-30 11:19:42,100] Trial 39 pruned. \n"
          ]
        },
        {
          "output_type": "stream",
          "name": "stdout",
          "text": [
            "Epoch 1/116.. Train loss: 71750.599.. Val loss: 40.035.. Train L1 norm: 3.561.. Val L1 norm: 5.583.. Train Linf norm: 1633.602.. Val Linf norm: 4120.264\n"
          ]
        },
        {
          "output_type": "stream",
          "name": "stderr",
          "text": [
            "WARNING:tensorboardX.x2num:NaN or Inf found in input tensor.\n",
            "WARNING:tensorboardX.x2num:NaN or Inf found in input tensor.\n",
            "WARNING:tensorboardX.x2num:NaN or Inf found in input tensor.\n",
            "WARNING:tensorboardX.x2num:NaN or Inf found in input tensor.\n",
            "WARNING:tensorboardX.x2num:NaN or Inf found in input tensor.\n",
            "WARNING:tensorboardX.x2num:NaN or Inf found in input tensor.\n",
            "[I 2023-05-30 11:19:45,324] Trial 40 pruned. \n"
          ]
        },
        {
          "output_type": "stream",
          "name": "stdout",
          "text": [
            "Epoch 1/80.. Train loss: nan.. Val loss: nan.. Train L1 norm: nan.. Val L1 norm: nan.. Train Linf norm: nan.. Val Linf norm: nan\n"
          ]
        },
        {
          "output_type": "stream",
          "name": "stderr",
          "text": [
            "[I 2023-05-30 11:19:50,172] Trial 41 pruned. \n"
          ]
        },
        {
          "output_type": "stream",
          "name": "stdout",
          "text": [
            "Epoch 1/90.. Train loss: 2.433.. Val loss: 2.091.. Train L1 norm: 4.558.. Val L1 norm: 5.199.. Train Linf norm: 772.917.. Val Linf norm: 1276.368\n"
          ]
        },
        {
          "output_type": "stream",
          "name": "stderr",
          "text": [
            "[I 2023-05-30 11:19:59,963] Trial 42 pruned. \n"
          ]
        },
        {
          "output_type": "stream",
          "name": "stdout",
          "text": [
            "Epoch 1/64.. Train loss: 5.325.. Val loss: 4.147.. Train L1 norm: 3.350.. Val L1 norm: 1.988.. Train Linf norm: 343.105.. Val Linf norm: 190.448\n"
          ]
        },
        {
          "output_type": "stream",
          "name": "stderr",
          "text": [
            "[I 2023-05-30 11:20:02,655] Trial 43 pruned. \n"
          ]
        },
        {
          "output_type": "stream",
          "name": "stdout",
          "text": [
            "Epoch 1/75.. Train loss: 165420033.326.. Val loss: 57.920.. Train L1 norm: 8.727.. Val L1 norm: 2.126.. Train Linf norm: 5419.789.. Val Linf norm: 724.141\n"
          ]
        },
        {
          "output_type": "stream",
          "name": "stderr",
          "text": [
            "[I 2023-05-30 11:20:04,845] Trial 44 pruned. \n"
          ]
        },
        {
          "output_type": "stream",
          "name": "stdout",
          "text": [
            "Epoch 1/79.. Train loss: 74081.713.. Val loss: 77.944.. Train L1 norm: 3.950.. Val L1 norm: 2.747.. Train Linf norm: 915.962.. Val Linf norm: 1031.667\n"
          ]
        },
        {
          "output_type": "stream",
          "name": "stderr",
          "text": [
            "[I 2023-05-30 11:20:06,529] Trial 45 pruned. \n"
          ]
        },
        {
          "output_type": "stream",
          "name": "stdout",
          "text": [
            "Epoch 1/84.. Train loss: 14918.164.. Val loss: 53.247.. Train L1 norm: 2.461.. Val L1 norm: 2.078.. Train Linf norm: 646.179.. Val Linf norm: 663.400\n"
          ]
        },
        {
          "output_type": "stream",
          "name": "stderr",
          "text": [
            "[I 2023-05-30 11:20:10,533] Trial 46 pruned. \n"
          ]
        },
        {
          "output_type": "stream",
          "name": "stdout",
          "text": [
            "Epoch 1/106.. Train loss: 268996.589.. Val loss: 56.437.. Train L1 norm: 17.994.. Val L1 norm: 1.752.. Train Linf norm: 7976.610.. Val Linf norm: 497.848\n"
          ]
        },
        {
          "output_type": "stream",
          "name": "stderr",
          "text": [
            "WARNING:tensorboardX.x2num:NaN or Inf found in input tensor.\n",
            "WARNING:tensorboardX.x2num:NaN or Inf found in input tensor.\n",
            "WARNING:tensorboardX.x2num:NaN or Inf found in input tensor.\n",
            "WARNING:tensorboardX.x2num:NaN or Inf found in input tensor.\n",
            "WARNING:tensorboardX.x2num:NaN or Inf found in input tensor.\n",
            "WARNING:tensorboardX.x2num:NaN or Inf found in input tensor.\n",
            "[I 2023-05-30 11:20:15,557] Trial 47 pruned. \n"
          ]
        },
        {
          "output_type": "stream",
          "name": "stdout",
          "text": [
            "Epoch 1/72.. Train loss: nan.. Val loss: nan.. Train L1 norm: nan.. Val L1 norm: nan.. Train Linf norm: nan.. Val Linf norm: nan\n"
          ]
        },
        {
          "output_type": "stream",
          "name": "stderr",
          "text": [
            "[I 2023-05-30 11:20:30,004] Trial 48 pruned. \n"
          ]
        },
        {
          "output_type": "stream",
          "name": "stdout",
          "text": [
            "Epoch 1/100.. Train loss: 17.259.. Val loss: 4.460.. Train L1 norm: 11.320.. Val L1 norm: 5.730.. Train Linf norm: 211.810.. Val Linf norm: 128.622\n"
          ]
        },
        {
          "output_type": "stream",
          "name": "stderr",
          "text": [
            "[I 2023-05-30 11:20:31,726] Trial 49 pruned. \n"
          ]
        },
        {
          "output_type": "stream",
          "name": "stdout",
          "text": [
            "Epoch 1/92.. Train loss: 2.511.. Val loss: 2.201.. Train L1 norm: 2.909.. Val L1 norm: 3.182.. Train Linf norm: 298.319.. Val Linf norm: 385.636\n"
          ]
        },
        {
          "output_type": "stream",
          "name": "stderr",
          "text": [
            "[I 2023-05-30 11:20:35,529] Trial 50 pruned. \n"
          ]
        },
        {
          "output_type": "stream",
          "name": "stdout",
          "text": [
            "Epoch 1/148.. Train loss: 3.962.. Val loss: 3.478.. Train L1 norm: 4.468.. Val L1 norm: 5.389.. Train Linf norm: 1157.233.. Val Linf norm: 2294.109\n"
          ]
        },
        {
          "output_type": "stream",
          "name": "stderr",
          "text": [
            "[I 2023-05-30 11:20:38,866] Trial 51 pruned. \n"
          ]
        },
        {
          "output_type": "stream",
          "name": "stdout",
          "text": [
            "Epoch 1/87.. Train loss: 371866.784.. Val loss: 51.188.. Train L1 norm: 10.344.. Val L1 norm: 3.473.. Train Linf norm: 1483.121.. Val Linf norm: 1495.364\n"
          ]
        },
        {
          "output_type": "stream",
          "name": "stderr",
          "text": [
            "[I 2023-05-30 11:20:56,511] Trial 52 pruned. \n"
          ]
        },
        {
          "output_type": "stream",
          "name": "stdout",
          "text": [
            "Epoch 1/67.. Train loss: 2.813.. Val loss: 2.335.. Train L1 norm: 3.273.. Val L1 norm: 1.933.. Train Linf norm: 110.083.. Val Linf norm: 55.365\n",
            "Epoch 1/140.. Train loss: 2.566.. Val loss: 2.541.. Train L1 norm: 1.058.. Val L1 norm: 1.034.. Train Linf norm: 11.438.. Val Linf norm: 8.782\n",
            "Epoch 2/140.. Train loss: 2.544.. Val loss: 2.521.. Train L1 norm: 1.012.. Val L1 norm: 1.051.. Train Linf norm: 4.330.. Val Linf norm: 13.546\n",
            "Epoch 3/140.. Train loss: 2.523.. Val loss: 2.502.. Train L1 norm: 1.057.. Val L1 norm: 1.150.. Train Linf norm: 14.511.. Val Linf norm: 34.221\n",
            "Epoch 4/140.. Train loss: 2.505.. Val loss: 2.484.. Train L1 norm: 1.124.. Val L1 norm: 1.255.. Train Linf norm: 25.622.. Val Linf norm: 54.474\n",
            "Epoch 5/140.. Train loss: 2.487.. Val loss: 2.468.. Train L1 norm: 1.193.. Val L1 norm: 1.361.. Train Linf norm: 38.447.. Val Linf norm: 74.267\n",
            "Epoch 6/140.. Train loss: 2.469.. Val loss: 2.451.. Train L1 norm: 1.268.. Val L1 norm: 1.469.. Train Linf norm: 51.041.. Val Linf norm: 93.706\n",
            "Epoch 7/140.. Train loss: 2.452.. Val loss: 2.435.. Train L1 norm: 1.342.. Val L1 norm: 1.577.. Train Linf norm: 61.308.. Val Linf norm: 112.914\n",
            "Epoch 8/140.. Train loss: 2.436.. Val loss: 2.420.. Train L1 norm: 1.418.. Val L1 norm: 1.685.. Train Linf norm: 70.569.. Val Linf norm: 131.549\n",
            "Epoch 9/140.. Train loss: 2.423.. Val loss: 2.407.. Train L1 norm: 1.489.. Val L1 norm: 1.790.. Train Linf norm: 84.214.. Val Linf norm: 149.721\n",
            "Epoch 10/140.. Train loss: 2.407.. Val loss: 2.394.. Train L1 norm: 1.564.. Val L1 norm: 1.896.. Train Linf norm: 97.232.. Val Linf norm: 167.642\n",
            "Epoch 11/140.. Train loss: 2.393.. Val loss: 2.379.. Train L1 norm: 1.641.. Val L1 norm: 2.002.. Train Linf norm: 107.788.. Val Linf norm: 185.529\n",
            "Epoch 12/140.. Train loss: 2.382.. Val loss: 2.368.. Train L1 norm: 1.716.. Val L1 norm: 2.106.. Train Linf norm: 119.396.. Val Linf norm: 202.692\n",
            "Epoch 13/140.. Train loss: 2.368.. Val loss: 2.356.. Train L1 norm: 1.786.. Val L1 norm: 2.209.. Train Linf norm: 125.122.. Val Linf norm: 219.782\n",
            "Epoch 14/140.. Train loss: 2.355.. Val loss: 2.344.. Train L1 norm: 1.860.. Val L1 norm: 2.312.. Train Linf norm: 137.007.. Val Linf norm: 236.706\n",
            "Epoch 15/140.. Train loss: 2.343.. Val loss: 2.332.. Train L1 norm: 1.936.. Val L1 norm: 2.416.. Train Linf norm: 142.890.. Val Linf norm: 253.674\n",
            "Epoch 16/140.. Train loss: 2.334.. Val loss: 2.329.. Train L1 norm: 1.977.. Val L1 norm: 2.435.. Train Linf norm: 144.418.. Val Linf norm: 256.672\n",
            "Epoch 17/140.. Train loss: 2.334.. Val loss: 2.328.. Train L1 norm: 1.990.. Val L1 norm: 2.452.. Train Linf norm: 157.548.. Val Linf norm: 259.468\n",
            "Epoch 18/140.. Train loss: 2.332.. Val loss: 2.326.. Train L1 norm: 2.003.. Val L1 norm: 2.470.. Train Linf norm: 158.808.. Val Linf norm: 262.318\n",
            "Epoch 19/140.. Train loss: 2.328.. Val loss: 2.324.. Train L1 norm: 2.014.. Val L1 norm: 2.488.. Train Linf norm: 158.099.. Val Linf norm: 265.212\n",
            "Epoch 20/140.. Train loss: 2.326.. Val loss: 2.321.. Train L1 norm: 2.028.. Val L1 norm: 2.507.. Train Linf norm: 160.861.. Val Linf norm: 268.306\n",
            "Epoch 21/140.. Train loss: 2.324.. Val loss: 2.319.. Train L1 norm: 2.041.. Val L1 norm: 2.525.. Train Linf norm: 164.291.. Val Linf norm: 271.237\n",
            "Epoch 22/140.. Train loss: 2.324.. Val loss: 2.317.. Train L1 norm: 2.055.. Val L1 norm: 2.543.. Train Linf norm: 162.527.. Val Linf norm: 274.120\n",
            "Epoch 23/140.. Train loss: 2.323.. Val loss: 2.316.. Train L1 norm: 2.068.. Val L1 norm: 2.561.. Train Linf norm: 156.696.. Val Linf norm: 276.981\n",
            "Epoch 24/140.. Train loss: 2.318.. Val loss: 2.314.. Train L1 norm: 2.081.. Val L1 norm: 2.579.. Train Linf norm: 165.773.. Val Linf norm: 279.955\n",
            "Epoch 25/140.. Train loss: 2.319.. Val loss: 2.311.. Train L1 norm: 2.094.. Val L1 norm: 2.598.. Train Linf norm: 168.840.. Val Linf norm: 282.916\n",
            "Epoch 26/140.. Train loss: 2.317.. Val loss: 2.310.. Train L1 norm: 2.106.. Val L1 norm: 2.616.. Train Linf norm: 168.095.. Val Linf norm: 285.801\n",
            "Epoch 27/140.. Train loss: 2.312.. Val loss: 2.308.. Train L1 norm: 2.121.. Val L1 norm: 2.635.. Train Linf norm: 170.845.. Val Linf norm: 288.849\n",
            "Epoch 28/140.. Train loss: 2.310.. Val loss: 2.305.. Train L1 norm: 2.133.. Val L1 norm: 2.654.. Train Linf norm: 173.661.. Val Linf norm: 291.996\n",
            "Epoch 29/140.. Train loss: 2.306.. Val loss: 2.301.. Train L1 norm: 2.151.. Val L1 norm: 2.676.. Train Linf norm: 177.016.. Val Linf norm: 295.475\n",
            "Epoch 30/140.. Train loss: 2.305.. Val loss: 2.299.. Train L1 norm: 2.167.. Val L1 norm: 2.696.. Train Linf norm: 181.769.. Val Linf norm: 298.613\n",
            "Epoch 31/140.. Train loss: 2.302.. Val loss: 2.298.. Train L1 norm: 2.172.. Val L1 norm: 2.700.. Train Linf norm: 178.226.. Val Linf norm: 299.217\n",
            "Epoch 32/140.. Train loss: 2.304.. Val loss: 2.298.. Train L1 norm: 2.176.. Val L1 norm: 2.703.. Train Linf norm: 176.043.. Val Linf norm: 299.757\n",
            "Epoch 33/140.. Train loss: 2.306.. Val loss: 2.298.. Train L1 norm: 2.178.. Val L1 norm: 2.706.. Train Linf norm: 182.452.. Val Linf norm: 300.238\n",
            "Epoch 34/140.. Train loss: 2.302.. Val loss: 2.298.. Train L1 norm: 2.179.. Val L1 norm: 2.710.. Train Linf norm: 178.101.. Val Linf norm: 300.795\n",
            "Epoch 35/140.. Train loss: 2.301.. Val loss: 2.297.. Train L1 norm: 2.182.. Val L1 norm: 2.713.. Train Linf norm: 180.511.. Val Linf norm: 301.341\n",
            "Epoch 36/140.. Train loss: 2.301.. Val loss: 2.297.. Train L1 norm: 2.185.. Val L1 norm: 2.717.. Train Linf norm: 175.903.. Val Linf norm: 301.914\n",
            "Epoch 37/140.. Train loss: 2.303.. Val loss: 2.297.. Train L1 norm: 2.186.. Val L1 norm: 2.720.. Train Linf norm: 174.667.. Val Linf norm: 302.432\n",
            "Epoch 38/140.. Train loss: 2.302.. Val loss: 2.296.. Train L1 norm: 2.190.. Val L1 norm: 2.723.. Train Linf norm: 178.996.. Val Linf norm: 302.981\n",
            "Epoch 39/140.. Train loss: 2.303.. Val loss: 2.296.. Train L1 norm: 2.194.. Val L1 norm: 2.727.. Train Linf norm: 173.889.. Val Linf norm: 303.503\n",
            "Epoch 40/140.. Train loss: 2.299.. Val loss: 2.296.. Train L1 norm: 2.194.. Val L1 norm: 2.730.. Train Linf norm: 184.620.. Val Linf norm: 304.077\n",
            "Epoch 41/140.. Train loss: 2.300.. Val loss: 2.295.. Train L1 norm: 2.197.. Val L1 norm: 2.734.. Train Linf norm: 176.199.. Val Linf norm: 304.633\n",
            "Epoch 42/140.. Train loss: 2.299.. Val loss: 2.295.. Train L1 norm: 2.198.. Val L1 norm: 2.737.. Train Linf norm: 180.221.. Val Linf norm: 305.190\n",
            "Epoch 43/140.. Train loss: 2.299.. Val loss: 2.294.. Train L1 norm: 2.200.. Val L1 norm: 2.741.. Train Linf norm: 183.361.. Val Linf norm: 305.733\n",
            "Epoch 44/140.. Train loss: 2.300.. Val loss: 2.294.. Train L1 norm: 2.205.. Val L1 norm: 2.744.. Train Linf norm: 187.489.. Val Linf norm: 306.265\n",
            "Epoch 45/140.. Train loss: 2.297.. Val loss: 2.294.. Train L1 norm: 2.207.. Val L1 norm: 2.748.. Train Linf norm: 182.399.. Val Linf norm: 306.880\n",
            "Epoch 46/140.. Train loss: 2.298.. Val loss: 2.293.. Train L1 norm: 2.208.. Val L1 norm: 2.748.. Train Linf norm: 185.290.. Val Linf norm: 306.975\n",
            "Epoch 47/140.. Train loss: 2.297.. Val loss: 2.293.. Train L1 norm: 2.211.. Val L1 norm: 2.749.. Train Linf norm: 188.538.. Val Linf norm: 307.064\n",
            "Epoch 48/140.. Train loss: 2.300.. Val loss: 2.293.. Train L1 norm: 2.210.. Val L1 norm: 2.750.. Train Linf norm: 183.317.. Val Linf norm: 307.148\n",
            "Epoch 49/140.. Train loss: 2.298.. Val loss: 2.293.. Train L1 norm: 2.209.. Val L1 norm: 2.750.. Train Linf norm: 187.559.. Val Linf norm: 307.254\n",
            "Epoch 50/140.. Train loss: 2.297.. Val loss: 2.293.. Train L1 norm: 2.211.. Val L1 norm: 2.751.. Train Linf norm: 187.431.. Val Linf norm: 307.344\n",
            "Epoch 51/140.. Train loss: 2.296.. Val loss: 2.293.. Train L1 norm: 2.210.. Val L1 norm: 2.751.. Train Linf norm: 177.248.. Val Linf norm: 307.454\n",
            "Epoch 52/140.. Train loss: 2.296.. Val loss: 2.293.. Train L1 norm: 2.210.. Val L1 norm: 2.752.. Train Linf norm: 185.901.. Val Linf norm: 307.546\n",
            "Epoch 53/140.. Train loss: 2.296.. Val loss: 2.293.. Train L1 norm: 2.211.. Val L1 norm: 2.753.. Train Linf norm: 184.690.. Val Linf norm: 307.654\n",
            "Epoch 54/140.. Train loss: 2.298.. Val loss: 2.293.. Train L1 norm: 2.209.. Val L1 norm: 2.753.. Train Linf norm: 185.207.. Val Linf norm: 307.740\n",
            "Epoch 55/140.. Train loss: 2.298.. Val loss: 2.293.. Train L1 norm: 2.213.. Val L1 norm: 2.754.. Train Linf norm: 186.565.. Val Linf norm: 307.830\n",
            "Epoch 56/140.. Train loss: 2.296.. Val loss: 2.293.. Train L1 norm: 2.213.. Val L1 norm: 2.754.. Train Linf norm: 181.773.. Val Linf norm: 307.924\n",
            "Epoch 57/140.. Train loss: 2.300.. Val loss: 2.293.. Train L1 norm: 2.214.. Val L1 norm: 2.755.. Train Linf norm: 182.527.. Val Linf norm: 308.012\n",
            "Epoch 58/140.. Train loss: 2.296.. Val loss: 2.293.. Train L1 norm: 2.216.. Val L1 norm: 2.756.. Train Linf norm: 184.870.. Val Linf norm: 308.110\n",
            "Epoch 59/140.. Train loss: 2.297.. Val loss: 2.293.. Train L1 norm: 2.215.. Val L1 norm: 2.756.. Train Linf norm: 177.563.. Val Linf norm: 308.198\n",
            "Epoch 60/140.. Train loss: 2.295.. Val loss: 2.292.. Train L1 norm: 2.214.. Val L1 norm: 2.757.. Train Linf norm: 182.484.. Val Linf norm: 308.304\n",
            "Epoch 61/140.. Train loss: 2.299.. Val loss: 2.292.. Train L1 norm: 2.216.. Val L1 norm: 2.757.. Train Linf norm: 182.496.. Val Linf norm: 308.315\n",
            "Epoch 62/140.. Train loss: 2.296.. Val loss: 2.292.. Train L1 norm: 2.214.. Val L1 norm: 2.757.. Train Linf norm: 188.593.. Val Linf norm: 308.328\n",
            "Epoch 63/140.. Train loss: 2.296.. Val loss: 2.292.. Train L1 norm: 2.214.. Val L1 norm: 2.757.. Train Linf norm: 181.199.. Val Linf norm: 308.339\n",
            "Epoch 64/140.. Train loss: 2.296.. Val loss: 2.292.. Train L1 norm: 2.215.. Val L1 norm: 2.757.. Train Linf norm: 183.375.. Val Linf norm: 308.351\n",
            "Epoch 65/140.. Train loss: 2.295.. Val loss: 2.292.. Train L1 norm: 2.213.. Val L1 norm: 2.757.. Train Linf norm: 186.287.. Val Linf norm: 308.363\n",
            "Epoch 66/140.. Train loss: 2.298.. Val loss: 2.292.. Train L1 norm: 2.216.. Val L1 norm: 2.757.. Train Linf norm: 185.087.. Val Linf norm: 308.373\n",
            "Epoch 67/140.. Train loss: 2.298.. Val loss: 2.292.. Train L1 norm: 2.213.. Val L1 norm: 2.757.. Train Linf norm: 181.613.. Val Linf norm: 308.383\n",
            "Epoch 68/140.. Train loss: 2.299.. Val loss: 2.292.. Train L1 norm: 2.216.. Val L1 norm: 2.757.. Train Linf norm: 183.383.. Val Linf norm: 308.394\n",
            "Epoch 69/140.. Train loss: 2.296.. Val loss: 2.292.. Train L1 norm: 2.214.. Val L1 norm: 2.757.. Train Linf norm: 186.863.. Val Linf norm: 308.405\n",
            "Epoch 70/140.. Train loss: 2.297.. Val loss: 2.292.. Train L1 norm: 2.216.. Val L1 norm: 2.757.. Train Linf norm: 181.319.. Val Linf norm: 308.417\n",
            "Epoch 71/140.. Train loss: 2.299.. Val loss: 2.292.. Train L1 norm: 2.216.. Val L1 norm: 2.758.. Train Linf norm: 179.144.. Val Linf norm: 308.426\n",
            "Epoch 72/140.. Train loss: 2.295.. Val loss: 2.292.. Train L1 norm: 2.213.. Val L1 norm: 2.758.. Train Linf norm: 181.760.. Val Linf norm: 308.441\n",
            "Epoch 73/140.. Train loss: 2.297.. Val loss: 2.292.. Train L1 norm: 2.214.. Val L1 norm: 2.758.. Train Linf norm: 184.169.. Val Linf norm: 308.452\n",
            "Epoch 74/140.. Train loss: 2.295.. Val loss: 2.292.. Train L1 norm: 2.215.. Val L1 norm: 2.758.. Train Linf norm: 185.478.. Val Linf norm: 308.462\n",
            "Epoch 75/140.. Train loss: 2.297.. Val loss: 2.292.. Train L1 norm: 2.215.. Val L1 norm: 2.758.. Train Linf norm: 177.663.. Val Linf norm: 308.473\n",
            "Epoch 76/140.. Train loss: 2.296.. Val loss: 2.292.. Train L1 norm: 2.216.. Val L1 norm: 2.758.. Train Linf norm: 187.022.. Val Linf norm: 308.473\n",
            "Epoch 77/140.. Train loss: 2.297.. Val loss: 2.292.. Train L1 norm: 2.216.. Val L1 norm: 2.758.. Train Linf norm: 182.046.. Val Linf norm: 308.473\n",
            "Epoch 78/140.. Train loss: 2.295.. Val loss: 2.292.. Train L1 norm: 2.215.. Val L1 norm: 2.758.. Train Linf norm: 182.575.. Val Linf norm: 308.473\n",
            "Epoch 79/140.. Train loss: 2.295.. Val loss: 2.292.. Train L1 norm: 2.214.. Val L1 norm: 2.758.. Train Linf norm: 183.849.. Val Linf norm: 308.474\n",
            "Epoch 80/140.. Train loss: 2.295.. Val loss: 2.292.. Train L1 norm: 2.215.. Val L1 norm: 2.758.. Train Linf norm: 176.596.. Val Linf norm: 308.474\n",
            "Epoch 81/140.. Train loss: 2.296.. Val loss: 2.292.. Train L1 norm: 2.216.. Val L1 norm: 2.758.. Train Linf norm: 184.344.. Val Linf norm: 308.474\n",
            "Epoch 82/140.. Train loss: 2.297.. Val loss: 2.292.. Train L1 norm: 2.215.. Val L1 norm: 2.758.. Train Linf norm: 188.529.. Val Linf norm: 308.474\n",
            "Epoch 83/140.. Train loss: 2.296.. Val loss: 2.292.. Train L1 norm: 2.214.. Val L1 norm: 2.758.. Train Linf norm: 183.795.. Val Linf norm: 308.474\n",
            "Epoch 84/140.. Train loss: 2.297.. Val loss: 2.292.. Train L1 norm: 2.217.. Val L1 norm: 2.758.. Train Linf norm: 179.348.. Val Linf norm: 308.474\n",
            "Epoch 85/140.. Train loss: 2.296.. Val loss: 2.292.. Train L1 norm: 2.216.. Val L1 norm: 2.758.. Train Linf norm: 184.160.. Val Linf norm: 308.473\n",
            "Epoch 86/140.. Train loss: 2.295.. Val loss: 2.292.. Train L1 norm: 2.213.. Val L1 norm: 2.758.. Train Linf norm: 181.736.. Val Linf norm: 308.473\n",
            "Epoch 87/140.. Train loss: 2.295.. Val loss: 2.292.. Train L1 norm: 2.214.. Val L1 norm: 2.758.. Train Linf norm: 185.098.. Val Linf norm: 308.474\n",
            "Epoch 88/140.. Train loss: 2.297.. Val loss: 2.292.. Train L1 norm: 2.214.. Val L1 norm: 2.758.. Train Linf norm: 184.366.. Val Linf norm: 308.473\n",
            "Epoch 89/140.. Train loss: 2.299.. Val loss: 2.292.. Train L1 norm: 2.214.. Val L1 norm: 2.758.. Train Linf norm: 185.822.. Val Linf norm: 308.473\n",
            "Epoch 90/140.. Train loss: 2.295.. Val loss: 2.292.. Train L1 norm: 2.213.. Val L1 norm: 2.758.. Train Linf norm: 186.472.. Val Linf norm: 308.473\n",
            "Epoch 91/140.. Train loss: 2.296.. Val loss: 2.292.. Train L1 norm: 2.218.. Val L1 norm: 2.758.. Train Linf norm: 184.313.. Val Linf norm: 308.473\n",
            "Epoch 92/140.. Train loss: 2.295.. Val loss: 2.292.. Train L1 norm: 2.215.. Val L1 norm: 2.758.. Train Linf norm: 186.771.. Val Linf norm: 308.473\n",
            "Epoch 93/140.. Train loss: 2.295.. Val loss: 2.292.. Train L1 norm: 2.215.. Val L1 norm: 2.758.. Train Linf norm: 184.049.. Val Linf norm: 308.473\n",
            "Epoch 94/140.. Train loss: 2.297.. Val loss: 2.292.. Train L1 norm: 2.214.. Val L1 norm: 2.758.. Train Linf norm: 182.762.. Val Linf norm: 308.473\n",
            "Epoch 95/140.. Train loss: 2.297.. Val loss: 2.292.. Train L1 norm: 2.215.. Val L1 norm: 2.758.. Train Linf norm: 177.380.. Val Linf norm: 308.473\n",
            "Epoch 96/140.. Train loss: 2.299.. Val loss: 2.292.. Train L1 norm: 2.215.. Val L1 norm: 2.758.. Train Linf norm: 184.766.. Val Linf norm: 308.473\n",
            "Epoch 97/140.. Train loss: 2.295.. Val loss: 2.292.. Train L1 norm: 2.214.. Val L1 norm: 2.758.. Train Linf norm: 186.441.. Val Linf norm: 308.473\n",
            "Epoch 98/140.. Train loss: 2.297.. Val loss: 2.292.. Train L1 norm: 2.215.. Val L1 norm: 2.758.. Train Linf norm: 181.606.. Val Linf norm: 308.473\n",
            "Epoch 99/140.. Train loss: 2.296.. Val loss: 2.292.. Train L1 norm: 2.216.. Val L1 norm: 2.758.. Train Linf norm: 187.824.. Val Linf norm: 308.473\n",
            "Epoch 100/140.. Train loss: 2.298.. Val loss: 2.292.. Train L1 norm: 2.215.. Val L1 norm: 2.758.. Train Linf norm: 188.001.. Val Linf norm: 308.473\n",
            "Epoch 101/140.. Train loss: 2.296.. Val loss: 2.292.. Train L1 norm: 2.217.. Val L1 norm: 2.758.. Train Linf norm: 180.824.. Val Linf norm: 308.473\n",
            "Epoch 102/140.. Train loss: 2.296.. Val loss: 2.292.. Train L1 norm: 2.216.. Val L1 norm: 2.758.. Train Linf norm: 188.454.. Val Linf norm: 308.473\n",
            "Epoch 103/140.. Train loss: 2.297.. Val loss: 2.292.. Train L1 norm: 2.217.. Val L1 norm: 2.758.. Train Linf norm: 184.736.. Val Linf norm: 308.473\n",
            "Epoch 104/140.. Train loss: 2.298.. Val loss: 2.292.. Train L1 norm: 2.216.. Val L1 norm: 2.758.. Train Linf norm: 182.307.. Val Linf norm: 308.473\n",
            "Epoch 105/140.. Train loss: 2.297.. Val loss: 2.292.. Train L1 norm: 2.216.. Val L1 norm: 2.758.. Train Linf norm: 182.989.. Val Linf norm: 308.473\n",
            "Epoch 106/140.. Train loss: 2.296.. Val loss: 2.292.. Train L1 norm: 2.214.. Val L1 norm: 2.758.. Train Linf norm: 178.764.. Val Linf norm: 308.473\n",
            "Epoch 107/140.. Train loss: 2.296.. Val loss: 2.292.. Train L1 norm: 2.213.. Val L1 norm: 2.758.. Train Linf norm: 184.590.. Val Linf norm: 308.473\n",
            "Epoch 108/140.. Train loss: 2.300.. Val loss: 2.292.. Train L1 norm: 2.213.. Val L1 norm: 2.758.. Train Linf norm: 182.061.. Val Linf norm: 308.473\n",
            "Epoch 109/140.. Train loss: 2.297.. Val loss: 2.292.. Train L1 norm: 2.214.. Val L1 norm: 2.758.. Train Linf norm: 181.988.. Val Linf norm: 308.473\n",
            "Epoch 110/140.. Train loss: 2.298.. Val loss: 2.292.. Train L1 norm: 2.216.. Val L1 norm: 2.758.. Train Linf norm: 181.632.. Val Linf norm: 308.473\n",
            "Epoch 111/140.. Train loss: 2.296.. Val loss: 2.292.. Train L1 norm: 2.214.. Val L1 norm: 2.758.. Train Linf norm: 187.525.. Val Linf norm: 308.473\n",
            "Epoch 112/140.. Train loss: 2.297.. Val loss: 2.292.. Train L1 norm: 2.214.. Val L1 norm: 2.758.. Train Linf norm: 189.752.. Val Linf norm: 308.473\n",
            "Epoch 113/140.. Train loss: 2.296.. Val loss: 2.292.. Train L1 norm: 2.215.. Val L1 norm: 2.758.. Train Linf norm: 187.360.. Val Linf norm: 308.473\n",
            "Epoch 114/140.. Train loss: 2.296.. Val loss: 2.292.. Train L1 norm: 2.215.. Val L1 norm: 2.758.. Train Linf norm: 185.586.. Val Linf norm: 308.473\n",
            "Epoch 115/140.. Train loss: 2.298.. Val loss: 2.292.. Train L1 norm: 2.215.. Val L1 norm: 2.758.. Train Linf norm: 186.475.. Val Linf norm: 308.473\n",
            "Epoch 116/140.. Train loss: 2.295.. Val loss: 2.292.. Train L1 norm: 2.217.. Val L1 norm: 2.758.. Train Linf norm: 183.735.. Val Linf norm: 308.473\n",
            "Epoch 117/140.. Train loss: 2.297.. Val loss: 2.292.. Train L1 norm: 2.217.. Val L1 norm: 2.758.. Train Linf norm: 184.835.. Val Linf norm: 308.473\n",
            "Epoch 118/140.. Train loss: 2.296.. Val loss: 2.292.. Train L1 norm: 2.215.. Val L1 norm: 2.758.. Train Linf norm: 183.094.. Val Linf norm: 308.473\n",
            "Epoch 119/140.. Train loss: 2.298.. Val loss: 2.292.. Train L1 norm: 2.214.. Val L1 norm: 2.758.. Train Linf norm: 185.268.. Val Linf norm: 308.473\n",
            "Epoch 120/140.. Train loss: 2.301.. Val loss: 2.292.. Train L1 norm: 2.214.. Val L1 norm: 2.758.. Train Linf norm: 183.147.. Val Linf norm: 308.473\n",
            "Epoch 121/140.. Train loss: 2.298.. Val loss: 2.292.. Train L1 norm: 2.215.. Val L1 norm: 2.758.. Train Linf norm: 181.325.. Val Linf norm: 308.473\n",
            "Epoch 122/140.. Train loss: 2.298.. Val loss: 2.292.. Train L1 norm: 2.213.. Val L1 norm: 2.758.. Train Linf norm: 187.052.. Val Linf norm: 308.473\n",
            "Epoch 123/140.. Train loss: 2.296.. Val loss: 2.292.. Train L1 norm: 2.213.. Val L1 norm: 2.758.. Train Linf norm: 186.174.. Val Linf norm: 308.473\n",
            "Epoch 124/140.. Train loss: 2.301.. Val loss: 2.292.. Train L1 norm: 2.216.. Val L1 norm: 2.758.. Train Linf norm: 181.202.. Val Linf norm: 308.473\n",
            "Epoch 125/140.. Train loss: 2.297.. Val loss: 2.292.. Train L1 norm: 2.217.. Val L1 norm: 2.758.. Train Linf norm: 182.529.. Val Linf norm: 308.473\n",
            "Epoch 126/140.. Train loss: 2.297.. Val loss: 2.292.. Train L1 norm: 2.217.. Val L1 norm: 2.758.. Train Linf norm: 184.718.. Val Linf norm: 308.473\n",
            "Epoch 127/140.. Train loss: 2.297.. Val loss: 2.292.. Train L1 norm: 2.215.. Val L1 norm: 2.758.. Train Linf norm: 183.476.. Val Linf norm: 308.473\n",
            "Epoch 128/140.. Train loss: 2.299.. Val loss: 2.292.. Train L1 norm: 2.216.. Val L1 norm: 2.758.. Train Linf norm: 189.093.. Val Linf norm: 308.473\n",
            "Epoch 129/140.. Train loss: 2.296.. Val loss: 2.292.. Train L1 norm: 2.215.. Val L1 norm: 2.758.. Train Linf norm: 186.148.. Val Linf norm: 308.473\n",
            "Epoch 130/140.. Train loss: 2.297.. Val loss: 2.292.. Train L1 norm: 2.213.. Val L1 norm: 2.758.. Train Linf norm: 183.524.. Val Linf norm: 308.473\n",
            "Epoch 131/140.. Train loss: 2.298.. Val loss: 2.292.. Train L1 norm: 2.216.. Val L1 norm: 2.758.. Train Linf norm: 181.534.. Val Linf norm: 308.473\n",
            "Epoch 132/140.. Train loss: 2.295.. Val loss: 2.292.. Train L1 norm: 2.213.. Val L1 norm: 2.758.. Train Linf norm: 182.358.. Val Linf norm: 308.473\n",
            "Epoch 133/140.. Train loss: 2.296.. Val loss: 2.292.. Train L1 norm: 2.215.. Val L1 norm: 2.758.. Train Linf norm: 183.736.. Val Linf norm: 308.473\n",
            "Epoch 134/140.. Train loss: 2.296.. Val loss: 2.292.. Train L1 norm: 2.215.. Val L1 norm: 2.758.. Train Linf norm: 186.053.. Val Linf norm: 308.473\n",
            "Epoch 135/140.. Train loss: 2.296.. Val loss: 2.292.. Train L1 norm: 2.216.. Val L1 norm: 2.758.. Train Linf norm: 183.939.. Val Linf norm: 308.473\n",
            "Epoch 136/140.. Train loss: 2.296.. Val loss: 2.292.. Train L1 norm: 2.215.. Val L1 norm: 2.758.. Train Linf norm: 186.868.. Val Linf norm: 308.473\n",
            "Epoch 137/140.. Train loss: 2.296.. Val loss: 2.292.. Train L1 norm: 2.215.. Val L1 norm: 2.758.. Train Linf norm: 188.662.. Val Linf norm: 308.473\n",
            "Epoch 138/140.. Train loss: 2.299.. Val loss: 2.292.. Train L1 norm: 2.215.. Val L1 norm: 2.758.. Train Linf norm: 183.394.. Val Linf norm: 308.473\n",
            "Epoch 139/140.. Train loss: 2.297.. Val loss: 2.292.. Train L1 norm: 2.215.. Val L1 norm: 2.758.. Train Linf norm: 183.735.. Val Linf norm: 308.473\n"
          ]
        },
        {
          "output_type": "stream",
          "name": "stderr",
          "text": [
            "[I 2023-05-30 11:42:25,044] Trial 53 finished with value: 2.7578334679285685 and parameters: {'n_layers': 10, 'n_units_0': 2672, 'n_units_1': 2605, 'n_units_2': 3161, 'n_units_3': 1854, 'n_units_4': 1034, 'n_units_5': 415, 'n_units_6': 1650, 'n_units_7': 4055, 'n_units_8': 4038, 'n_units_9': 60, 'hidden_activation': 'GELU', 'output_activation': 'Linear', 'loss': 'Quantile', 'optimizer': 'SGD', 'lr': 0.00042150107733456964, 'batch_size': 256, 'n_epochs': 140, 'scheduler': 'StepLR', 'dropout_rate': 0.15740270407347506, 'weight_decay': 8.107241188791471e-05, 'momentum': 0.6449756454335318, 'step_size': 15, 'gamma': 0.16947953323923623}. Best is trial 13 with value: 1.4059733067830404.\n"
          ]
        },
        {
          "output_type": "stream",
          "name": "stdout",
          "text": [
            "Epoch 140/140.. Train loss: 2.296.. Val loss: 2.292.. Train L1 norm: 2.215.. Val L1 norm: 2.758.. Train Linf norm: 181.873.. Val Linf norm: 308.473\n",
            "Epoch 1/143.. Train loss: 2.526.. Val loss: 2.494.. Train L1 norm: 1.061.. Val L1 norm: 1.182.. Train Linf norm: 15.226.. Val Linf norm: 40.601\n",
            "Epoch 2/143.. Train loss: 2.493.. Val loss: 2.458.. Train L1 norm: 1.193.. Val L1 norm: 1.383.. Train Linf norm: 38.303.. Val Linf norm: 78.349\n",
            "Epoch 3/143.. Train loss: 2.459.. Val loss: 2.418.. Train L1 norm: 1.313.. Val L1 norm: 1.624.. Train Linf norm: 55.564.. Val Linf norm: 121.236\n",
            "Epoch 4/143.. Train loss: 2.468.. Val loss: 2.392.. Train L1 norm: 1.654.. Val L1 norm: 1.811.. Train Linf norm: 108.590.. Val Linf norm: 153.336\n",
            "Epoch 5/143.. Train loss: 2.429.. Val loss: 2.404.. Train L1 norm: 1.473.. Val L1 norm: 1.813.. Train Linf norm: 76.642.. Val Linf norm: 153.606\n",
            "Epoch 6/143.. Train loss: 2.400.. Val loss: 2.377.. Train L1 norm: 1.615.. Val L1 norm: 2.010.. Train Linf norm: 103.892.. Val Linf norm: 186.899\n",
            "Epoch 7/143.. Train loss: 2.380.. Val loss: 2.353.. Train L1 norm: 1.747.. Val L1 norm: 2.203.. Train Linf norm: 122.576.. Val Linf norm: 218.911\n",
            "Epoch 8/143.. Train loss: 2.349.. Val loss: 2.321.. Train L1 norm: 1.910.. Val L1 norm: 2.447.. Train Linf norm: 145.776.. Val Linf norm: 258.846\n",
            "Epoch 9/143.. Train loss: 2.332.. Val loss: 2.295.. Train L1 norm: 2.068.. Val L1 norm: 2.676.. Train Linf norm: 164.273.. Val Linf norm: 295.748\n",
            "Epoch 10/143.. Train loss: 2.353.. Val loss: 2.303.. Train L1 norm: 2.326.. Val L1 norm: 2.706.. Train Linf norm: 203.395.. Val Linf norm: 300.470\n",
            "Epoch 11/143.. Train loss: 2.299.. Val loss: 2.277.. Train L1 norm: 2.255.. Val L1 norm: 2.943.. Train Linf norm: 189.507.. Val Linf norm: 338.141\n",
            "Epoch 12/143.. Train loss: 2.279.. Val loss: 2.249.. Train L1 norm: 2.423.. Val L1 norm: 3.208.. Train Linf norm: 214.908.. Val Linf norm: 379.827\n",
            "Epoch 13/143.. Train loss: 2.266.. Val loss: 2.233.. Train L1 norm: 2.612.. Val L1 norm: 3.416.. Train Linf norm: 225.627.. Val Linf norm: 412.451\n",
            "Epoch 14/143.. Train loss: 2.259.. Val loss: 2.231.. Train L1 norm: 2.808.. Val L1 norm: 3.526.. Train Linf norm: 258.496.. Val Linf norm: 429.443\n",
            "Epoch 15/143.. Train loss: 2.247.. Val loss: 2.219.. Train L1 norm: 2.831.. Val L1 norm: 3.709.. Train Linf norm: 263.992.. Val Linf norm: 457.746\n",
            "Epoch 16/143.. Train loss: 2.225.. Val loss: 2.216.. Train L1 norm: 2.936.. Val L1 norm: 3.753.. Train Linf norm: 268.523.. Val Linf norm: 464.542\n",
            "Epoch 17/143.. Train loss: 2.223.. Val loss: 2.212.. Train L1 norm: 2.949.. Val L1 norm: 3.800.. Train Linf norm: 263.445.. Val Linf norm: 471.872\n",
            "Epoch 18/143.. Train loss: 2.220.. Val loss: 2.209.. Train L1 norm: 3.006.. Val L1 norm: 3.847.. Train Linf norm: 287.826.. Val Linf norm: 479.188\n",
            "Epoch 19/143.. Train loss: 2.220.. Val loss: 2.206.. Train L1 norm: 3.021.. Val L1 norm: 3.887.. Train Linf norm: 287.411.. Val Linf norm: 485.383\n",
            "Epoch 20/143.. Train loss: 2.212.. Val loss: 2.201.. Train L1 norm: 3.056.. Val L1 norm: 3.947.. Train Linf norm: 297.033.. Val Linf norm: 494.549\n",
            "Epoch 21/143.. Train loss: 2.209.. Val loss: 2.199.. Train L1 norm: 3.108.. Val L1 norm: 3.989.. Train Linf norm: 295.203.. Val Linf norm: 501.135\n",
            "Epoch 22/143.. Train loss: 2.210.. Val loss: 2.195.. Train L1 norm: 3.118.. Val L1 norm: 4.046.. Train Linf norm: 296.007.. Val Linf norm: 509.798\n",
            "Epoch 23/143.. Train loss: 2.201.. Val loss: 2.191.. Train L1 norm: 3.185.. Val L1 norm: 4.096.. Train Linf norm: 307.851.. Val Linf norm: 517.634\n",
            "Epoch 24/143.. Train loss: 2.204.. Val loss: 2.189.. Train L1 norm: 3.216.. Val L1 norm: 4.136.. Train Linf norm: 315.097.. Val Linf norm: 523.653\n",
            "Epoch 25/143.. Train loss: 2.194.. Val loss: 2.184.. Train L1 norm: 3.238.. Val L1 norm: 4.200.. Train Linf norm: 312.020.. Val Linf norm: 533.575\n",
            "Epoch 26/143.. Train loss: 2.200.. Val loss: 2.182.. Train L1 norm: 3.268.. Val L1 norm: 4.238.. Train Linf norm: 323.124.. Val Linf norm: 539.301\n",
            "Epoch 27/143.. Train loss: 2.195.. Val loss: 2.178.. Train L1 norm: 3.325.. Val L1 norm: 4.294.. Train Linf norm: 317.843.. Val Linf norm: 547.972\n",
            "Epoch 28/143.. Train loss: 2.191.. Val loss: 2.178.. Train L1 norm: 3.330.. Val L1 norm: 4.322.. Train Linf norm: 328.794.. Val Linf norm: 552.327\n",
            "Epoch 29/143.. Train loss: 2.187.. Val loss: 2.174.. Train L1 norm: 3.369.. Val L1 norm: 4.381.. Train Linf norm: 325.066.. Val Linf norm: 561.369\n",
            "Epoch 30/143.. Train loss: 2.197.. Val loss: 2.174.. Train L1 norm: 3.377.. Val L1 norm: 4.401.. Train Linf norm: 332.713.. Val Linf norm: 564.515\n",
            "Epoch 31/143.. Train loss: 2.178.. Val loss: 2.173.. Train L1 norm: 3.410.. Val L1 norm: 4.416.. Train Linf norm: 329.693.. Val Linf norm: 566.831\n",
            "Epoch 32/143.. Train loss: 2.185.. Val loss: 2.172.. Train L1 norm: 3.420.. Val L1 norm: 4.425.. Train Linf norm: 337.235.. Val Linf norm: 568.156\n",
            "Epoch 33/143.. Train loss: 2.182.. Val loss: 2.172.. Train L1 norm: 3.436.. Val L1 norm: 4.437.. Train Linf norm: 341.884.. Val Linf norm: 570.085\n",
            "Epoch 34/143.. Train loss: 2.182.. Val loss: 2.171.. Train L1 norm: 3.450.. Val L1 norm: 4.448.. Train Linf norm: 349.237.. Val Linf norm: 571.732\n",
            "Epoch 35/143.. Train loss: 2.180.. Val loss: 2.170.. Train L1 norm: 3.462.. Val L1 norm: 4.460.. Train Linf norm: 350.522.. Val Linf norm: 573.507\n",
            "Epoch 36/143.. Train loss: 2.182.. Val loss: 2.170.. Train L1 norm: 3.465.. Val L1 norm: 4.469.. Train Linf norm: 347.471.. Val Linf norm: 574.907\n",
            "Epoch 37/143.. Train loss: 2.180.. Val loss: 2.169.. Train L1 norm: 3.437.. Val L1 norm: 4.479.. Train Linf norm: 342.262.. Val Linf norm: 576.401\n",
            "Epoch 38/143.. Train loss: 2.183.. Val loss: 2.169.. Train L1 norm: 3.460.. Val L1 norm: 4.486.. Train Linf norm: 343.689.. Val Linf norm: 577.480\n",
            "Epoch 39/143.. Train loss: 2.183.. Val loss: 2.169.. Train L1 norm: 3.472.. Val L1 norm: 4.493.. Train Linf norm: 348.395.. Val Linf norm: 578.546\n",
            "Epoch 40/143.. Train loss: 2.185.. Val loss: 2.169.. Train L1 norm: 3.463.. Val L1 norm: 4.496.. Train Linf norm: 338.724.. Val Linf norm: 579.166\n",
            "Epoch 41/143.. Train loss: 2.181.. Val loss: 2.169.. Train L1 norm: 3.475.. Val L1 norm: 4.502.. Train Linf norm: 335.461.. Val Linf norm: 580.046\n",
            "Epoch 42/143.. Train loss: 2.185.. Val loss: 2.168.. Train L1 norm: 3.485.. Val L1 norm: 4.510.. Train Linf norm: 347.334.. Val Linf norm: 581.247\n",
            "Epoch 43/143.. Train loss: 2.174.. Val loss: 2.167.. Train L1 norm: 3.480.. Val L1 norm: 4.524.. Train Linf norm: 328.378.. Val Linf norm: 583.412\n",
            "Epoch 44/143.. Train loss: 2.177.. Val loss: 2.167.. Train L1 norm: 3.505.. Val L1 norm: 4.535.. Train Linf norm: 354.923.. Val Linf norm: 585.063\n",
            "Epoch 45/143.. Train loss: 2.173.. Val loss: 2.166.. Train L1 norm: 3.508.. Val L1 norm: 4.550.. Train Linf norm: 349.401.. Val Linf norm: 587.351\n",
            "Epoch 46/143.. Train loss: 2.170.. Val loss: 2.165.. Train L1 norm: 3.517.. Val L1 norm: 4.553.. Train Linf norm: 345.060.. Val Linf norm: 587.891\n",
            "Epoch 47/143.. Train loss: 2.174.. Val loss: 2.165.. Train L1 norm: 3.506.. Val L1 norm: 4.556.. Train Linf norm: 351.563.. Val Linf norm: 588.280\n",
            "Epoch 48/143.. Train loss: 2.178.. Val loss: 2.165.. Train L1 norm: 3.515.. Val L1 norm: 4.558.. Train Linf norm: 336.797.. Val Linf norm: 588.533\n",
            "Epoch 49/143.. Train loss: 2.176.. Val loss: 2.165.. Train L1 norm: 3.521.. Val L1 norm: 4.560.. Train Linf norm: 356.044.. Val Linf norm: 588.860\n",
            "Epoch 50/143.. Train loss: 2.180.. Val loss: 2.165.. Train L1 norm: 3.525.. Val L1 norm: 4.561.. Train Linf norm: 346.429.. Val Linf norm: 589.077\n",
            "Epoch 51/143.. Train loss: 2.177.. Val loss: 2.165.. Train L1 norm: 3.530.. Val L1 norm: 4.563.. Train Linf norm: 359.734.. Val Linf norm: 589.331\n",
            "Epoch 52/143.. Train loss: 2.174.. Val loss: 2.165.. Train L1 norm: 3.521.. Val L1 norm: 4.565.. Train Linf norm: 355.018.. Val Linf norm: 589.718\n",
            "Epoch 53/143.. Train loss: 2.183.. Val loss: 2.165.. Train L1 norm: 3.525.. Val L1 norm: 4.566.. Train Linf norm: 345.069.. Val Linf norm: 589.851\n",
            "Epoch 54/143.. Train loss: 2.169.. Val loss: 2.165.. Train L1 norm: 3.537.. Val L1 norm: 4.569.. Train Linf norm: 353.833.. Val Linf norm: 590.299\n",
            "Epoch 55/143.. Train loss: 2.178.. Val loss: 2.165.. Train L1 norm: 3.541.. Val L1 norm: 4.570.. Train Linf norm: 355.800.. Val Linf norm: 590.485\n",
            "Epoch 56/143.. Train loss: 2.175.. Val loss: 2.164.. Train L1 norm: 3.522.. Val L1 norm: 4.573.. Train Linf norm: 342.393.. Val Linf norm: 590.884\n",
            "Epoch 57/143.. Train loss: 2.168.. Val loss: 2.164.. Train L1 norm: 3.532.. Val L1 norm: 4.576.. Train Linf norm: 349.020.. Val Linf norm: 591.389\n",
            "Epoch 58/143.. Train loss: 2.172.. Val loss: 2.164.. Train L1 norm: 3.527.. Val L1 norm: 4.578.. Train Linf norm: 350.130.. Val Linf norm: 591.730\n",
            "Epoch 59/143.. Train loss: 2.178.. Val loss: 2.164.. Train L1 norm: 3.536.. Val L1 norm: 4.580.. Train Linf norm: 354.709.. Val Linf norm: 592.028\n",
            "Epoch 60/143.. Train loss: 2.176.. Val loss: 2.164.. Train L1 norm: 3.537.. Val L1 norm: 4.582.. Train Linf norm: 347.271.. Val Linf norm: 592.260\n",
            "Epoch 61/143.. Train loss: 2.176.. Val loss: 2.164.. Train L1 norm: 3.533.. Val L1 norm: 4.582.. Train Linf norm: 347.526.. Val Linf norm: 592.280\n",
            "Epoch 62/143.. Train loss: 2.184.. Val loss: 2.164.. Train L1 norm: 3.542.. Val L1 norm: 4.582.. Train Linf norm: 352.711.. Val Linf norm: 592.271\n",
            "Epoch 63/143.. Train loss: 2.181.. Val loss: 2.164.. Train L1 norm: 3.531.. Val L1 norm: 4.582.. Train Linf norm: 357.163.. Val Linf norm: 592.295\n",
            "Epoch 64/143.. Train loss: 2.168.. Val loss: 2.164.. Train L1 norm: 3.531.. Val L1 norm: 4.583.. Train Linf norm: 341.789.. Val Linf norm: 592.384\n",
            "Epoch 65/143.. Train loss: 2.172.. Val loss: 2.164.. Train L1 norm: 3.524.. Val L1 norm: 4.583.. Train Linf norm: 351.082.. Val Linf norm: 592.455\n",
            "Epoch 66/143.. Train loss: 2.176.. Val loss: 2.164.. Train L1 norm: 3.539.. Val L1 norm: 4.583.. Train Linf norm: 354.416.. Val Linf norm: 592.489\n",
            "Epoch 67/143.. Train loss: 2.173.. Val loss: 2.164.. Train L1 norm: 3.545.. Val L1 norm: 4.584.. Train Linf norm: 360.271.. Val Linf norm: 592.543\n",
            "Epoch 68/143.. Train loss: 2.176.. Val loss: 2.164.. Train L1 norm: 3.524.. Val L1 norm: 4.584.. Train Linf norm: 345.828.. Val Linf norm: 592.585\n",
            "Epoch 69/143.. Train loss: 2.172.. Val loss: 2.164.. Train L1 norm: 3.522.. Val L1 norm: 4.584.. Train Linf norm: 352.849.. Val Linf norm: 592.639\n",
            "Epoch 70/143.. Train loss: 2.168.. Val loss: 2.164.. Train L1 norm: 3.537.. Val L1 norm: 4.585.. Train Linf norm: 355.550.. Val Linf norm: 592.701\n",
            "Epoch 71/143.. Train loss: 2.176.. Val loss: 2.164.. Train L1 norm: 3.548.. Val L1 norm: 4.585.. Train Linf norm: 342.809.. Val Linf norm: 592.753\n",
            "Epoch 72/143.. Train loss: 2.173.. Val loss: 2.164.. Train L1 norm: 3.548.. Val L1 norm: 4.585.. Train Linf norm: 344.586.. Val Linf norm: 592.793\n",
            "Epoch 73/143.. Train loss: 2.171.. Val loss: 2.164.. Train L1 norm: 3.528.. Val L1 norm: 4.586.. Train Linf norm: 350.349.. Val Linf norm: 592.867\n",
            "Epoch 74/143.. Train loss: 2.175.. Val loss: 2.164.. Train L1 norm: 3.534.. Val L1 norm: 4.586.. Train Linf norm: 349.247.. Val Linf norm: 592.874\n",
            "Epoch 75/143.. Train loss: 2.170.. Val loss: 2.164.. Train L1 norm: 3.538.. Val L1 norm: 4.586.. Train Linf norm: 350.158.. Val Linf norm: 592.944\n",
            "Epoch 76/143.. Train loss: 2.172.. Val loss: 2.164.. Train L1 norm: 3.534.. Val L1 norm: 4.586.. Train Linf norm: 355.811.. Val Linf norm: 592.939\n",
            "Epoch 77/143.. Train loss: 2.173.. Val loss: 2.164.. Train L1 norm: 3.543.. Val L1 norm: 4.586.. Train Linf norm: 341.913.. Val Linf norm: 592.933\n",
            "Epoch 78/143.. Train loss: 2.175.. Val loss: 2.164.. Train L1 norm: 3.545.. Val L1 norm: 4.586.. Train Linf norm: 354.359.. Val Linf norm: 592.924\n",
            "Epoch 79/143.. Train loss: 2.168.. Val loss: 2.164.. Train L1 norm: 3.545.. Val L1 norm: 4.586.. Train Linf norm: 360.452.. Val Linf norm: 592.921\n",
            "Epoch 80/143.. Train loss: 2.171.. Val loss: 2.164.. Train L1 norm: 3.536.. Val L1 norm: 4.586.. Train Linf norm: 341.453.. Val Linf norm: 592.914\n",
            "Epoch 81/143.. Train loss: 2.176.. Val loss: 2.164.. Train L1 norm: 3.530.. Val L1 norm: 4.586.. Train Linf norm: 346.123.. Val Linf norm: 592.902\n",
            "Epoch 82/143.. Train loss: 2.171.. Val loss: 2.164.. Train L1 norm: 3.541.. Val L1 norm: 4.586.. Train Linf norm: 358.942.. Val Linf norm: 592.900\n",
            "Epoch 83/143.. Train loss: 2.178.. Val loss: 2.164.. Train L1 norm: 3.526.. Val L1 norm: 4.586.. Train Linf norm: 337.079.. Val Linf norm: 592.890\n",
            "Epoch 84/143.. Train loss: 2.180.. Val loss: 2.164.. Train L1 norm: 3.544.. Val L1 norm: 4.586.. Train Linf norm: 350.744.. Val Linf norm: 592.877\n",
            "Epoch 85/143.. Train loss: 2.175.. Val loss: 2.164.. Train L1 norm: 3.546.. Val L1 norm: 4.586.. Train Linf norm: 355.391.. Val Linf norm: 592.864\n",
            "Epoch 86/143.. Train loss: 2.175.. Val loss: 2.164.. Train L1 norm: 3.534.. Val L1 norm: 4.586.. Train Linf norm: 352.987.. Val Linf norm: 592.861\n",
            "Epoch 87/143.. Train loss: 2.178.. Val loss: 2.164.. Train L1 norm: 3.526.. Val L1 norm: 4.586.. Train Linf norm: 337.993.. Val Linf norm: 592.847\n",
            "Epoch 88/143.. Train loss: 2.165.. Val loss: 2.164.. Train L1 norm: 3.543.. Val L1 norm: 4.586.. Train Linf norm: 348.983.. Val Linf norm: 592.844\n",
            "Epoch 89/143.. Train loss: 2.174.. Val loss: 2.164.. Train L1 norm: 3.538.. Val L1 norm: 4.586.. Train Linf norm: 356.805.. Val Linf norm: 592.838\n",
            "Epoch 90/143.. Train loss: 2.176.. Val loss: 2.164.. Train L1 norm: 3.538.. Val L1 norm: 4.586.. Train Linf norm: 355.438.. Val Linf norm: 592.830\n",
            "Epoch 91/143.. Train loss: 2.180.. Val loss: 2.164.. Train L1 norm: 3.537.. Val L1 norm: 4.586.. Train Linf norm: 346.205.. Val Linf norm: 592.826\n",
            "Epoch 92/143.. Train loss: 2.174.. Val loss: 2.164.. Train L1 norm: 3.535.. Val L1 norm: 4.586.. Train Linf norm: 349.880.. Val Linf norm: 592.821\n",
            "Epoch 93/143.. Train loss: 2.176.. Val loss: 2.164.. Train L1 norm: 3.534.. Val L1 norm: 4.585.. Train Linf norm: 358.878.. Val Linf norm: 592.816\n",
            "Epoch 94/143.. Train loss: 2.174.. Val loss: 2.164.. Train L1 norm: 3.532.. Val L1 norm: 4.585.. Train Linf norm: 329.292.. Val Linf norm: 592.812\n",
            "Epoch 95/143.. Train loss: 2.178.. Val loss: 2.164.. Train L1 norm: 3.539.. Val L1 norm: 4.585.. Train Linf norm: 356.317.. Val Linf norm: 592.807\n",
            "Epoch 96/143.. Train loss: 2.175.. Val loss: 2.164.. Train L1 norm: 3.534.. Val L1 norm: 4.585.. Train Linf norm: 361.164.. Val Linf norm: 592.802\n",
            "Epoch 97/143.. Train loss: 2.174.. Val loss: 2.164.. Train L1 norm: 3.536.. Val L1 norm: 4.585.. Train Linf norm: 353.840.. Val Linf norm: 592.798\n",
            "Epoch 98/143.. Train loss: 2.173.. Val loss: 2.164.. Train L1 norm: 3.536.. Val L1 norm: 4.585.. Train Linf norm: 353.997.. Val Linf norm: 592.794\n",
            "Epoch 99/143.. Train loss: 2.170.. Val loss: 2.164.. Train L1 norm: 3.541.. Val L1 norm: 4.585.. Train Linf norm: 353.583.. Val Linf norm: 592.790\n",
            "Epoch 100/143.. Train loss: 2.177.. Val loss: 2.164.. Train L1 norm: 3.532.. Val L1 norm: 4.585.. Train Linf norm: 346.713.. Val Linf norm: 592.786\n",
            "Epoch 101/143.. Train loss: 2.180.. Val loss: 2.164.. Train L1 norm: 3.538.. Val L1 norm: 4.585.. Train Linf norm: 346.427.. Val Linf norm: 592.781\n",
            "Epoch 102/143.. Train loss: 2.177.. Val loss: 2.164.. Train L1 norm: 3.538.. Val L1 norm: 4.585.. Train Linf norm: 348.783.. Val Linf norm: 592.777\n",
            "Epoch 103/143.. Train loss: 2.175.. Val loss: 2.164.. Train L1 norm: 3.530.. Val L1 norm: 4.585.. Train Linf norm: 348.546.. Val Linf norm: 592.773\n",
            "Epoch 104/143.. Train loss: 2.171.. Val loss: 2.164.. Train L1 norm: 3.543.. Val L1 norm: 4.585.. Train Linf norm: 358.553.. Val Linf norm: 592.769\n",
            "Epoch 105/143.. Train loss: 2.177.. Val loss: 2.164.. Train L1 norm: 3.542.. Val L1 norm: 4.585.. Train Linf norm: 348.873.. Val Linf norm: 592.764\n",
            "Epoch 106/143.. Train loss: 2.173.. Val loss: 2.164.. Train L1 norm: 3.535.. Val L1 norm: 4.585.. Train Linf norm: 360.038.. Val Linf norm: 592.763\n",
            "Epoch 107/143.. Train loss: 2.171.. Val loss: 2.164.. Train L1 norm: 3.529.. Val L1 norm: 4.585.. Train Linf norm: 353.368.. Val Linf norm: 592.763\n",
            "Epoch 108/143.. Train loss: 2.180.. Val loss: 2.164.. Train L1 norm: 3.542.. Val L1 norm: 4.585.. Train Linf norm: 353.744.. Val Linf norm: 592.762\n",
            "Epoch 109/143.. Train loss: 2.173.. Val loss: 2.164.. Train L1 norm: 3.548.. Val L1 norm: 4.585.. Train Linf norm: 351.750.. Val Linf norm: 592.762\n",
            "Epoch 110/143.. Train loss: 2.174.. Val loss: 2.164.. Train L1 norm: 3.547.. Val L1 norm: 4.585.. Train Linf norm: 342.144.. Val Linf norm: 592.761\n",
            "Epoch 111/143.. Train loss: 2.174.. Val loss: 2.164.. Train L1 norm: 3.542.. Val L1 norm: 4.585.. Train Linf norm: 352.300.. Val Linf norm: 592.761\n",
            "Epoch 112/143.. Train loss: 2.176.. Val loss: 2.164.. Train L1 norm: 3.531.. Val L1 norm: 4.585.. Train Linf norm: 345.743.. Val Linf norm: 592.760\n",
            "Epoch 113/143.. Train loss: 2.184.. Val loss: 2.164.. Train L1 norm: 3.544.. Val L1 norm: 4.585.. Train Linf norm: 341.898.. Val Linf norm: 592.759\n",
            "Epoch 114/143.. Train loss: 2.172.. Val loss: 2.164.. Train L1 norm: 3.535.. Val L1 norm: 4.585.. Train Linf norm: 340.526.. Val Linf norm: 592.759\n",
            "Epoch 115/143.. Train loss: 2.168.. Val loss: 2.164.. Train L1 norm: 3.540.. Val L1 norm: 4.585.. Train Linf norm: 352.344.. Val Linf norm: 592.758\n",
            "Epoch 116/143.. Train loss: 2.165.. Val loss: 2.164.. Train L1 norm: 3.536.. Val L1 norm: 4.585.. Train Linf norm: 352.633.. Val Linf norm: 592.758\n",
            "Epoch 117/143.. Train loss: 2.171.. Val loss: 2.164.. Train L1 norm: 3.533.. Val L1 norm: 4.585.. Train Linf norm: 342.755.. Val Linf norm: 592.757\n",
            "Epoch 118/143.. Train loss: 2.172.. Val loss: 2.164.. Train L1 norm: 3.536.. Val L1 norm: 4.585.. Train Linf norm: 358.997.. Val Linf norm: 592.757\n",
            "Epoch 119/143.. Train loss: 2.183.. Val loss: 2.164.. Train L1 norm: 3.534.. Val L1 norm: 4.585.. Train Linf norm: 336.582.. Val Linf norm: 592.756\n",
            "Epoch 120/143.. Train loss: 2.171.. Val loss: 2.164.. Train L1 norm: 3.537.. Val L1 norm: 4.585.. Train Linf norm: 346.785.. Val Linf norm: 592.755\n",
            "Epoch 121/143.. Train loss: 2.175.. Val loss: 2.164.. Train L1 norm: 3.543.. Val L1 norm: 4.585.. Train Linf norm: 349.370.. Val Linf norm: 592.755\n",
            "Epoch 122/143.. Train loss: 2.177.. Val loss: 2.164.. Train L1 norm: 3.535.. Val L1 norm: 4.585.. Train Linf norm: 350.328.. Val Linf norm: 592.755\n",
            "Epoch 123/143.. Train loss: 2.177.. Val loss: 2.164.. Train L1 norm: 3.540.. Val L1 norm: 4.585.. Train Linf norm: 340.379.. Val Linf norm: 592.755\n",
            "Epoch 124/143.. Train loss: 2.170.. Val loss: 2.164.. Train L1 norm: 3.539.. Val L1 norm: 4.585.. Train Linf norm: 352.493.. Val Linf norm: 592.755\n",
            "Epoch 125/143.. Train loss: 2.173.. Val loss: 2.164.. Train L1 norm: 3.542.. Val L1 norm: 4.585.. Train Linf norm: 346.067.. Val Linf norm: 592.755\n",
            "Epoch 126/143.. Train loss: 2.175.. Val loss: 2.164.. Train L1 norm: 3.527.. Val L1 norm: 4.585.. Train Linf norm: 346.500.. Val Linf norm: 592.755\n",
            "Epoch 127/143.. Train loss: 2.176.. Val loss: 2.164.. Train L1 norm: 3.540.. Val L1 norm: 4.585.. Train Linf norm: 346.521.. Val Linf norm: 592.755\n",
            "Epoch 128/143.. Train loss: 2.175.. Val loss: 2.164.. Train L1 norm: 3.544.. Val L1 norm: 4.585.. Train Linf norm: 345.059.. Val Linf norm: 592.755\n",
            "Epoch 129/143.. Train loss: 2.175.. Val loss: 2.164.. Train L1 norm: 3.538.. Val L1 norm: 4.585.. Train Linf norm: 353.781.. Val Linf norm: 592.755\n",
            "Epoch 130/143.. Train loss: 2.171.. Val loss: 2.164.. Train L1 norm: 3.530.. Val L1 norm: 4.585.. Train Linf norm: 351.082.. Val Linf norm: 592.755\n",
            "Epoch 131/143.. Train loss: 2.172.. Val loss: 2.164.. Train L1 norm: 3.540.. Val L1 norm: 4.585.. Train Linf norm: 350.374.. Val Linf norm: 592.755\n",
            "Epoch 132/143.. Train loss: 2.170.. Val loss: 2.164.. Train L1 norm: 3.543.. Val L1 norm: 4.585.. Train Linf norm: 355.023.. Val Linf norm: 592.755\n",
            "Epoch 133/143.. Train loss: 2.171.. Val loss: 2.164.. Train L1 norm: 3.533.. Val L1 norm: 4.585.. Train Linf norm: 354.252.. Val Linf norm: 592.755\n",
            "Epoch 134/143.. Train loss: 2.175.. Val loss: 2.164.. Train L1 norm: 3.524.. Val L1 norm: 4.585.. Train Linf norm: 351.434.. Val Linf norm: 592.755\n",
            "Epoch 135/143.. Train loss: 2.175.. Val loss: 2.164.. Train L1 norm: 3.534.. Val L1 norm: 4.585.. Train Linf norm: 346.496.. Val Linf norm: 592.755\n",
            "Epoch 136/143.. Train loss: 2.175.. Val loss: 2.164.. Train L1 norm: 3.542.. Val L1 norm: 4.585.. Train Linf norm: 353.950.. Val Linf norm: 592.755\n",
            "Epoch 137/143.. Train loss: 2.177.. Val loss: 2.164.. Train L1 norm: 3.551.. Val L1 norm: 4.585.. Train Linf norm: 349.695.. Val Linf norm: 592.755\n",
            "Epoch 138/143.. Train loss: 2.176.. Val loss: 2.164.. Train L1 norm: 3.547.. Val L1 norm: 4.585.. Train Linf norm: 345.328.. Val Linf norm: 592.755\n",
            "Epoch 139/143.. Train loss: 2.184.. Val loss: 2.164.. Train L1 norm: 3.539.. Val L1 norm: 4.585.. Train Linf norm: 334.462.. Val Linf norm: 592.755\n",
            "Epoch 140/143.. Train loss: 2.174.. Val loss: 2.164.. Train L1 norm: 3.550.. Val L1 norm: 4.585.. Train Linf norm: 355.854.. Val Linf norm: 592.755\n",
            "Epoch 141/143.. Train loss: 2.174.. Val loss: 2.164.. Train L1 norm: 3.547.. Val L1 norm: 4.585.. Train Linf norm: 355.932.. Val Linf norm: 592.755\n",
            "Epoch 142/143.. Train loss: 2.175.. Val loss: 2.164.. Train L1 norm: 3.537.. Val L1 norm: 4.585.. Train Linf norm: 350.349.. Val Linf norm: 592.755\n"
          ]
        },
        {
          "output_type": "stream",
          "name": "stderr",
          "text": [
            "[I 2023-05-30 12:04:22,016] Trial 54 finished with value: 4.5850717046737675 and parameters: {'n_layers': 10, 'n_units_0': 2763, 'n_units_1': 2620, 'n_units_2': 3537, 'n_units_3': 1909, 'n_units_4': 767, 'n_units_5': 761, 'n_units_6': 1328, 'n_units_7': 4063, 'n_units_8': 4047, 'n_units_9': 285, 'hidden_activation': 'ReLU', 'output_activation': 'Linear', 'loss': 'Quantile', 'optimizer': 'SGD', 'lr': 0.000515130855314518, 'batch_size': 256, 'n_epochs': 143, 'scheduler': 'StepLR', 'dropout_rate': 0.1888198386430105, 'weight_decay': 6.036128477153989e-05, 'momentum': 0.7107912760961124, 'step_size': 15, 'gamma': 0.19789027382119978}. Best is trial 13 with value: 1.4059733067830404.\n"
          ]
        },
        {
          "output_type": "stream",
          "name": "stdout",
          "text": [
            "Epoch 143/143.. Train loss: 2.176.. Val loss: 2.164.. Train L1 norm: 3.533.. Val L1 norm: 4.585.. Train Linf norm: 348.091.. Val Linf norm: 592.755\n",
            "Epoch 1/138.. Train loss: 2.539.. Val loss: 2.518.. Train L1 norm: 1.014.. Val L1 norm: 1.067.. Train Linf norm: 4.718.. Val Linf norm: 16.943\n",
            "Epoch 2/138.. Train loss: 2.521.. Val loss: 2.500.. Train L1 norm: 1.065.. Val L1 norm: 1.162.. Train Linf norm: 15.506.. Val Linf norm: 36.625\n",
            "Epoch 3/138.. Train loss: 2.502.. Val loss: 2.483.. Train L1 norm: 1.129.. Val L1 norm: 1.263.. Train Linf norm: 26.169.. Val Linf norm: 55.982\n",
            "Epoch 4/138.. Train loss: 2.486.. Val loss: 2.467.. Train L1 norm: 1.201.. Val L1 norm: 1.365.. Train Linf norm: 39.145.. Val Linf norm: 74.944\n",
            "Epoch 5/138.. Train loss: 2.469.. Val loss: 2.452.. Train L1 norm: 1.271.. Val L1 norm: 1.468.. Train Linf norm: 50.978.. Val Linf norm: 93.499\n",
            "Epoch 6/138.. Train loss: 2.455.. Val loss: 2.437.. Train L1 norm: 1.342.. Val L1 norm: 1.570.. Train Linf norm: 62.667.. Val Linf norm: 111.683\n",
            "Epoch 7/138.. Train loss: 2.439.. Val loss: 2.423.. Train L1 norm: 1.411.. Val L1 norm: 1.673.. Train Linf norm: 69.582.. Val Linf norm: 129.517\n",
            "Epoch 8/138.. Train loss: 2.424.. Val loss: 2.409.. Train L1 norm: 1.481.. Val L1 norm: 1.775.. Train Linf norm: 83.911.. Val Linf norm: 146.984\n",
            "Epoch 9/138.. Train loss: 2.408.. Val loss: 2.396.. Train L1 norm: 1.552.. Val L1 norm: 1.875.. Train Linf norm: 94.142.. Val Linf norm: 164.087\n",
            "Epoch 10/138.. Train loss: 2.395.. Val loss: 2.382.. Train L1 norm: 1.620.. Val L1 norm: 1.976.. Train Linf norm: 103.330.. Val Linf norm: 181.052\n",
            "Epoch 11/138.. Train loss: 2.384.. Val loss: 2.371.. Train L1 norm: 1.694.. Val L1 norm: 2.074.. Train Linf norm: 111.776.. Val Linf norm: 197.448\n",
            "Epoch 12/138.. Train loss: 2.374.. Val loss: 2.360.. Train L1 norm: 1.763.. Val L1 norm: 2.170.. Train Linf norm: 119.328.. Val Linf norm: 213.373\n",
            "Epoch 13/138.. Train loss: 2.361.. Val loss: 2.349.. Train L1 norm: 1.834.. Val L1 norm: 2.267.. Train Linf norm: 133.357.. Val Linf norm: 229.324\n",
            "Epoch 14/138.. Train loss: 2.351.. Val loss: 2.346.. Train L1 norm: 1.876.. Val L1 norm: 2.293.. Train Linf norm: 139.620.. Val Linf norm: 233.476\n",
            "Epoch 15/138.. Train loss: 2.350.. Val loss: 2.343.. Train L1 norm: 1.894.. Val L1 norm: 2.318.. Train Linf norm: 139.886.. Val Linf norm: 237.575\n",
            "Epoch 16/138.. Train loss: 2.347.. Val loss: 2.340.. Train L1 norm: 1.911.. Val L1 norm: 2.343.. Train Linf norm: 141.100.. Val Linf norm: 241.666\n",
            "Epoch 17/138.. Train loss: 2.343.. Val loss: 2.337.. Train L1 norm: 1.932.. Val L1 norm: 2.368.. Train Linf norm: 146.761.. Val Linf norm: 245.804\n",
            "Epoch 18/138.. Train loss: 2.340.. Val loss: 2.335.. Train L1 norm: 1.949.. Val L1 norm: 2.394.. Train Linf norm: 152.676.. Val Linf norm: 249.904\n",
            "Epoch 19/138.. Train loss: 2.337.. Val loss: 2.332.. Train L1 norm: 1.968.. Val L1 norm: 2.419.. Train Linf norm: 144.447.. Val Linf norm: 254.041\n",
            "Epoch 20/138.. Train loss: 2.334.. Val loss: 2.328.. Train L1 norm: 1.986.. Val L1 norm: 2.445.. Train Linf norm: 154.430.. Val Linf norm: 258.282\n",
            "Epoch 21/138.. Train loss: 2.333.. Val loss: 2.326.. Train L1 norm: 2.006.. Val L1 norm: 2.470.. Train Linf norm: 157.848.. Val Linf norm: 262.306\n",
            "Epoch 22/138.. Train loss: 2.328.. Val loss: 2.323.. Train L1 norm: 2.025.. Val L1 norm: 2.496.. Train Linf norm: 161.436.. Val Linf norm: 266.462\n",
            "Epoch 23/138.. Train loss: 2.323.. Val loss: 2.319.. Train L1 norm: 2.040.. Val L1 norm: 2.522.. Train Linf norm: 159.458.. Val Linf norm: 270.753\n",
            "Epoch 24/138.. Train loss: 2.323.. Val loss: 2.316.. Train L1 norm: 2.059.. Val L1 norm: 2.548.. Train Linf norm: 167.883.. Val Linf norm: 274.884\n",
            "Epoch 25/138.. Train loss: 2.321.. Val loss: 2.313.. Train L1 norm: 2.081.. Val L1 norm: 2.574.. Train Linf norm: 161.839.. Val Linf norm: 279.020\n",
            "Epoch 26/138.. Train loss: 2.319.. Val loss: 2.310.. Train L1 norm: 2.101.. Val L1 norm: 2.599.. Train Linf norm: 167.899.. Val Linf norm: 283.093\n",
            "Epoch 27/138.. Train loss: 2.314.. Val loss: 2.310.. Train L1 norm: 2.106.. Val L1 norm: 2.606.. Train Linf norm: 171.138.. Val Linf norm: 284.183\n",
            "Epoch 28/138.. Train loss: 2.315.. Val loss: 2.309.. Train L1 norm: 2.115.. Val L1 norm: 2.613.. Train Linf norm: 171.808.. Val Linf norm: 285.277\n",
            "Epoch 29/138.. Train loss: 2.315.. Val loss: 2.308.. Train L1 norm: 2.118.. Val L1 norm: 2.620.. Train Linf norm: 169.120.. Val Linf norm: 286.349\n",
            "Epoch 30/138.. Train loss: 2.310.. Val loss: 2.307.. Train L1 norm: 2.124.. Val L1 norm: 2.627.. Train Linf norm: 172.700.. Val Linf norm: 287.477\n",
            "Epoch 31/138.. Train loss: 2.313.. Val loss: 2.307.. Train L1 norm: 2.129.. Val L1 norm: 2.634.. Train Linf norm: 169.920.. Val Linf norm: 288.588\n",
            "Epoch 32/138.. Train loss: 2.309.. Val loss: 2.306.. Train L1 norm: 2.138.. Val L1 norm: 2.641.. Train Linf norm: 178.226.. Val Linf norm: 289.687\n",
            "Epoch 33/138.. Train loss: 2.308.. Val loss: 2.305.. Train L1 norm: 2.142.. Val L1 norm: 2.648.. Train Linf norm: 173.789.. Val Linf norm: 290.885\n",
            "Epoch 34/138.. Train loss: 2.306.. Val loss: 2.303.. Train L1 norm: 2.149.. Val L1 norm: 2.656.. Train Linf norm: 172.595.. Val Linf norm: 292.122\n",
            "Epoch 35/138.. Train loss: 2.308.. Val loss: 2.302.. Train L1 norm: 2.155.. Val L1 norm: 2.663.. Train Linf norm: 178.345.. Val Linf norm: 293.240\n",
            "Epoch 36/138.. Train loss: 2.307.. Val loss: 2.302.. Train L1 norm: 2.159.. Val L1 norm: 2.670.. Train Linf norm: 178.521.. Val Linf norm: 294.371\n",
            "Epoch 37/138.. Train loss: 2.305.. Val loss: 2.301.. Train L1 norm: 2.162.. Val L1 norm: 2.678.. Train Linf norm: 177.377.. Val Linf norm: 295.542\n",
            "Epoch 38/138.. Train loss: 2.311.. Val loss: 2.300.. Train L1 norm: 2.171.. Val L1 norm: 2.684.. Train Linf norm: 183.210.. Val Linf norm: 296.592\n",
            "Epoch 39/138.. Train loss: 2.302.. Val loss: 2.299.. Train L1 norm: 2.173.. Val L1 norm: 2.692.. Train Linf norm: 176.925.. Val Linf norm: 297.811\n",
            "Epoch 40/138.. Train loss: 2.303.. Val loss: 2.299.. Train L1 norm: 2.177.. Val L1 norm: 2.694.. Train Linf norm: 181.345.. Val Linf norm: 298.110\n",
            "Epoch 41/138.. Train loss: 2.302.. Val loss: 2.299.. Train L1 norm: 2.178.. Val L1 norm: 2.696.. Train Linf norm: 180.663.. Val Linf norm: 298.421\n",
            "Epoch 42/138.. Train loss: 2.302.. Val loss: 2.298.. Train L1 norm: 2.180.. Val L1 norm: 2.698.. Train Linf norm: 181.844.. Val Linf norm: 298.718\n",
            "Epoch 43/138.. Train loss: 2.303.. Val loss: 2.298.. Train L1 norm: 2.180.. Val L1 norm: 2.700.. Train Linf norm: 178.308.. Val Linf norm: 299.024\n",
            "Epoch 44/138.. Train loss: 2.302.. Val loss: 2.298.. Train L1 norm: 2.182.. Val L1 norm: 2.702.. Train Linf norm: 182.620.. Val Linf norm: 299.325\n",
            "Epoch 45/138.. Train loss: 2.301.. Val loss: 2.298.. Train L1 norm: 2.185.. Val L1 norm: 2.703.. Train Linf norm: 176.593.. Val Linf norm: 299.639\n",
            "Epoch 46/138.. Train loss: 2.304.. Val loss: 2.298.. Train L1 norm: 2.185.. Val L1 norm: 2.705.. Train Linf norm: 179.991.. Val Linf norm: 299.925\n",
            "Epoch 47/138.. Train loss: 2.301.. Val loss: 2.297.. Train L1 norm: 2.187.. Val L1 norm: 2.707.. Train Linf norm: 177.077.. Val Linf norm: 300.218\n",
            "Epoch 48/138.. Train loss: 2.302.. Val loss: 2.297.. Train L1 norm: 2.185.. Val L1 norm: 2.709.. Train Linf norm: 181.655.. Val Linf norm: 300.540\n",
            "Epoch 49/138.. Train loss: 2.304.. Val loss: 2.297.. Train L1 norm: 2.193.. Val L1 norm: 2.711.. Train Linf norm: 176.650.. Val Linf norm: 300.828\n",
            "Epoch 50/138.. Train loss: 2.299.. Val loss: 2.297.. Train L1 norm: 2.191.. Val L1 norm: 2.713.. Train Linf norm: 182.260.. Val Linf norm: 301.142\n",
            "Epoch 51/138.. Train loss: 2.302.. Val loss: 2.296.. Train L1 norm: 2.194.. Val L1 norm: 2.715.. Train Linf norm: 174.845.. Val Linf norm: 301.445\n",
            "Epoch 52/138.. Train loss: 2.301.. Val loss: 2.296.. Train L1 norm: 2.192.. Val L1 norm: 2.717.. Train Linf norm: 178.218.. Val Linf norm: 301.752\n",
            "Epoch 53/138.. Train loss: 2.302.. Val loss: 2.296.. Train L1 norm: 2.195.. Val L1 norm: 2.717.. Train Linf norm: 174.348.. Val Linf norm: 301.827\n",
            "Epoch 54/138.. Train loss: 2.299.. Val loss: 2.296.. Train L1 norm: 2.195.. Val L1 norm: 2.718.. Train Linf norm: 183.809.. Val Linf norm: 301.905\n",
            "Epoch 55/138.. Train loss: 2.299.. Val loss: 2.296.. Train L1 norm: 2.192.. Val L1 norm: 2.718.. Train Linf norm: 177.217.. Val Linf norm: 301.988\n",
            "Epoch 56/138.. Train loss: 2.301.. Val loss: 2.296.. Train L1 norm: 2.195.. Val L1 norm: 2.719.. Train Linf norm: 176.885.. Val Linf norm: 302.062\n",
            "Epoch 57/138.. Train loss: 2.303.. Val loss: 2.296.. Train L1 norm: 2.198.. Val L1 norm: 2.719.. Train Linf norm: 172.479.. Val Linf norm: 302.135\n",
            "Epoch 58/138.. Train loss: 2.300.. Val loss: 2.296.. Train L1 norm: 2.198.. Val L1 norm: 2.720.. Train Linf norm: 186.765.. Val Linf norm: 302.211\n",
            "Epoch 59/138.. Train loss: 2.301.. Val loss: 2.296.. Train L1 norm: 2.199.. Val L1 norm: 2.720.. Train Linf norm: 180.611.. Val Linf norm: 302.289\n",
            "Epoch 60/138.. Train loss: 2.300.. Val loss: 2.296.. Train L1 norm: 2.198.. Val L1 norm: 2.721.. Train Linf norm: 184.271.. Val Linf norm: 302.366\n",
            "Epoch 61/138.. Train loss: 2.301.. Val loss: 2.296.. Train L1 norm: 2.199.. Val L1 norm: 2.721.. Train Linf norm: 186.434.. Val Linf norm: 302.440\n",
            "Epoch 62/138.. Train loss: 2.299.. Val loss: 2.296.. Train L1 norm: 2.200.. Val L1 norm: 2.722.. Train Linf norm: 188.744.. Val Linf norm: 302.518\n",
            "Epoch 63/138.. Train loss: 2.305.. Val loss: 2.296.. Train L1 norm: 2.199.. Val L1 norm: 2.722.. Train Linf norm: 183.929.. Val Linf norm: 302.589\n",
            "Epoch 64/138.. Train loss: 2.303.. Val loss: 2.296.. Train L1 norm: 2.199.. Val L1 norm: 2.723.. Train Linf norm: 183.415.. Val Linf norm: 302.662\n",
            "Epoch 65/138.. Train loss: 2.301.. Val loss: 2.295.. Train L1 norm: 2.199.. Val L1 norm: 2.723.. Train Linf norm: 181.655.. Val Linf norm: 302.737\n",
            "Epoch 66/138.. Train loss: 2.300.. Val loss: 2.295.. Train L1 norm: 2.194.. Val L1 norm: 2.723.. Train Linf norm: 183.217.. Val Linf norm: 302.756\n",
            "Epoch 67/138.. Train loss: 2.300.. Val loss: 2.295.. Train L1 norm: 2.197.. Val L1 norm: 2.723.. Train Linf norm: 177.413.. Val Linf norm: 302.776\n",
            "Epoch 68/138.. Train loss: 2.301.. Val loss: 2.295.. Train L1 norm: 2.200.. Val L1 norm: 2.723.. Train Linf norm: 188.535.. Val Linf norm: 302.795\n",
            "Epoch 69/138.. Train loss: 2.300.. Val loss: 2.295.. Train L1 norm: 2.199.. Val L1 norm: 2.724.. Train Linf norm: 178.870.. Val Linf norm: 302.815\n",
            "Epoch 70/138.. Train loss: 2.300.. Val loss: 2.295.. Train L1 norm: 2.198.. Val L1 norm: 2.724.. Train Linf norm: 184.703.. Val Linf norm: 302.834\n",
            "Epoch 71/138.. Train loss: 2.301.. Val loss: 2.295.. Train L1 norm: 2.204.. Val L1 norm: 2.724.. Train Linf norm: 186.652.. Val Linf norm: 302.852\n",
            "Epoch 72/138.. Train loss: 2.302.. Val loss: 2.295.. Train L1 norm: 2.197.. Val L1 norm: 2.724.. Train Linf norm: 176.532.. Val Linf norm: 302.871\n",
            "Epoch 73/138.. Train loss: 2.303.. Val loss: 2.295.. Train L1 norm: 2.197.. Val L1 norm: 2.724.. Train Linf norm: 181.638.. Val Linf norm: 302.889\n",
            "Epoch 74/138.. Train loss: 2.302.. Val loss: 2.295.. Train L1 norm: 2.199.. Val L1 norm: 2.724.. Train Linf norm: 174.714.. Val Linf norm: 302.908\n",
            "Epoch 75/138.. Train loss: 2.304.. Val loss: 2.295.. Train L1 norm: 2.202.. Val L1 norm: 2.724.. Train Linf norm: 168.313.. Val Linf norm: 302.927\n",
            "Epoch 76/138.. Train loss: 2.304.. Val loss: 2.295.. Train L1 norm: 2.198.. Val L1 norm: 2.724.. Train Linf norm: 183.473.. Val Linf norm: 302.944\n",
            "Epoch 77/138.. Train loss: 2.300.. Val loss: 2.295.. Train L1 norm: 2.202.. Val L1 norm: 2.724.. Train Linf norm: 186.965.. Val Linf norm: 302.964\n",
            "Epoch 78/138.. Train loss: 2.299.. Val loss: 2.295.. Train L1 norm: 2.200.. Val L1 norm: 2.725.. Train Linf norm: 182.276.. Val Linf norm: 302.985\n",
            "Epoch 79/138.. Train loss: 2.303.. Val loss: 2.295.. Train L1 norm: 2.201.. Val L1 norm: 2.725.. Train Linf norm: 185.341.. Val Linf norm: 302.987\n",
            "Epoch 80/138.. Train loss: 2.298.. Val loss: 2.295.. Train L1 norm: 2.204.. Val L1 norm: 2.725.. Train Linf norm: 185.507.. Val Linf norm: 302.989\n",
            "Epoch 81/138.. Train loss: 2.298.. Val loss: 2.295.. Train L1 norm: 2.199.. Val L1 norm: 2.725.. Train Linf norm: 181.451.. Val Linf norm: 302.991\n",
            "Epoch 82/138.. Train loss: 2.297.. Val loss: 2.295.. Train L1 norm: 2.198.. Val L1 norm: 2.725.. Train Linf norm: 180.236.. Val Linf norm: 302.994\n",
            "Epoch 83/138.. Train loss: 2.301.. Val loss: 2.295.. Train L1 norm: 2.199.. Val L1 norm: 2.725.. Train Linf norm: 184.124.. Val Linf norm: 302.996\n",
            "Epoch 84/138.. Train loss: 2.303.. Val loss: 2.295.. Train L1 norm: 2.202.. Val L1 norm: 2.725.. Train Linf norm: 180.326.. Val Linf norm: 302.997\n",
            "Epoch 85/138.. Train loss: 2.300.. Val loss: 2.295.. Train L1 norm: 2.197.. Val L1 norm: 2.725.. Train Linf norm: 178.913.. Val Linf norm: 303.000\n",
            "Epoch 86/138.. Train loss: 2.299.. Val loss: 2.295.. Train L1 norm: 2.197.. Val L1 norm: 2.725.. Train Linf norm: 183.040.. Val Linf norm: 303.002\n",
            "Epoch 87/138.. Train loss: 2.300.. Val loss: 2.295.. Train L1 norm: 2.201.. Val L1 norm: 2.725.. Train Linf norm: 185.386.. Val Linf norm: 303.004\n",
            "Epoch 88/138.. Train loss: 2.299.. Val loss: 2.295.. Train L1 norm: 2.202.. Val L1 norm: 2.725.. Train Linf norm: 181.053.. Val Linf norm: 303.006\n",
            "Epoch 89/138.. Train loss: 2.301.. Val loss: 2.295.. Train L1 norm: 2.197.. Val L1 norm: 2.725.. Train Linf norm: 180.583.. Val Linf norm: 303.009\n",
            "Epoch 90/138.. Train loss: 2.302.. Val loss: 2.295.. Train L1 norm: 2.201.. Val L1 norm: 2.725.. Train Linf norm: 186.847.. Val Linf norm: 303.011\n",
            "Epoch 91/138.. Train loss: 2.300.. Val loss: 2.295.. Train L1 norm: 2.203.. Val L1 norm: 2.725.. Train Linf norm: 173.917.. Val Linf norm: 303.013\n",
            "Epoch 92/138.. Train loss: 2.298.. Val loss: 2.295.. Train L1 norm: 2.202.. Val L1 norm: 2.725.. Train Linf norm: 182.955.. Val Linf norm: 303.013\n",
            "Epoch 93/138.. Train loss: 2.299.. Val loss: 2.295.. Train L1 norm: 2.200.. Val L1 norm: 2.725.. Train Linf norm: 185.156.. Val Linf norm: 303.013\n",
            "Epoch 94/138.. Train loss: 2.301.. Val loss: 2.295.. Train L1 norm: 2.200.. Val L1 norm: 2.725.. Train Linf norm: 181.542.. Val Linf norm: 303.013\n",
            "Epoch 95/138.. Train loss: 2.299.. Val loss: 2.295.. Train L1 norm: 2.197.. Val L1 norm: 2.725.. Train Linf norm: 177.689.. Val Linf norm: 303.013\n",
            "Epoch 96/138.. Train loss: 2.299.. Val loss: 2.295.. Train L1 norm: 2.202.. Val L1 norm: 2.725.. Train Linf norm: 181.579.. Val Linf norm: 303.013\n",
            "Epoch 97/138.. Train loss: 2.300.. Val loss: 2.295.. Train L1 norm: 2.201.. Val L1 norm: 2.725.. Train Linf norm: 173.038.. Val Linf norm: 303.013\n",
            "Epoch 98/138.. Train loss: 2.302.. Val loss: 2.295.. Train L1 norm: 2.203.. Val L1 norm: 2.725.. Train Linf norm: 185.753.. Val Linf norm: 303.012\n",
            "Epoch 99/138.. Train loss: 2.298.. Val loss: 2.295.. Train L1 norm: 2.199.. Val L1 norm: 2.725.. Train Linf norm: 186.758.. Val Linf norm: 303.012\n",
            "Epoch 100/138.. Train loss: 2.302.. Val loss: 2.295.. Train L1 norm: 2.203.. Val L1 norm: 2.725.. Train Linf norm: 182.414.. Val Linf norm: 303.012\n",
            "Epoch 101/138.. Train loss: 2.301.. Val loss: 2.295.. Train L1 norm: 2.198.. Val L1 norm: 2.725.. Train Linf norm: 180.853.. Val Linf norm: 303.012\n",
            "Epoch 102/138.. Train loss: 2.302.. Val loss: 2.295.. Train L1 norm: 2.200.. Val L1 norm: 2.725.. Train Linf norm: 180.537.. Val Linf norm: 303.012\n",
            "Epoch 103/138.. Train loss: 2.301.. Val loss: 2.295.. Train L1 norm: 2.201.. Val L1 norm: 2.725.. Train Linf norm: 186.789.. Val Linf norm: 303.012\n",
            "Epoch 104/138.. Train loss: 2.302.. Val loss: 2.295.. Train L1 norm: 2.202.. Val L1 norm: 2.725.. Train Linf norm: 185.844.. Val Linf norm: 303.012\n",
            "Epoch 105/138.. Train loss: 2.302.. Val loss: 2.295.. Train L1 norm: 2.199.. Val L1 norm: 2.725.. Train Linf norm: 176.106.. Val Linf norm: 303.012\n",
            "Epoch 106/138.. Train loss: 2.299.. Val loss: 2.295.. Train L1 norm: 2.200.. Val L1 norm: 2.725.. Train Linf norm: 183.997.. Val Linf norm: 303.012\n",
            "Epoch 107/138.. Train loss: 2.300.. Val loss: 2.295.. Train L1 norm: 2.202.. Val L1 norm: 2.725.. Train Linf norm: 182.313.. Val Linf norm: 303.012\n",
            "Epoch 108/138.. Train loss: 2.298.. Val loss: 2.295.. Train L1 norm: 2.199.. Val L1 norm: 2.725.. Train Linf norm: 179.146.. Val Linf norm: 303.011\n",
            "Epoch 109/138.. Train loss: 2.299.. Val loss: 2.295.. Train L1 norm: 2.199.. Val L1 norm: 2.725.. Train Linf norm: 181.173.. Val Linf norm: 303.011\n",
            "Epoch 110/138.. Train loss: 2.299.. Val loss: 2.295.. Train L1 norm: 2.197.. Val L1 norm: 2.725.. Train Linf norm: 179.046.. Val Linf norm: 303.011\n",
            "Epoch 111/138.. Train loss: 2.300.. Val loss: 2.295.. Train L1 norm: 2.201.. Val L1 norm: 2.725.. Train Linf norm: 177.060.. Val Linf norm: 303.011\n",
            "Epoch 112/138.. Train loss: 2.298.. Val loss: 2.295.. Train L1 norm: 2.201.. Val L1 norm: 2.725.. Train Linf norm: 183.055.. Val Linf norm: 303.011\n",
            "Epoch 113/138.. Train loss: 2.302.. Val loss: 2.295.. Train L1 norm: 2.203.. Val L1 norm: 2.725.. Train Linf norm: 183.283.. Val Linf norm: 303.011\n",
            "Epoch 114/138.. Train loss: 2.302.. Val loss: 2.295.. Train L1 norm: 2.199.. Val L1 norm: 2.725.. Train Linf norm: 181.216.. Val Linf norm: 303.011\n",
            "Epoch 115/138.. Train loss: 2.299.. Val loss: 2.295.. Train L1 norm: 2.196.. Val L1 norm: 2.725.. Train Linf norm: 173.928.. Val Linf norm: 303.011\n",
            "Epoch 116/138.. Train loss: 2.300.. Val loss: 2.295.. Train L1 norm: 2.195.. Val L1 norm: 2.725.. Train Linf norm: 179.897.. Val Linf norm: 303.011\n",
            "Epoch 117/138.. Train loss: 2.298.. Val loss: 2.295.. Train L1 norm: 2.202.. Val L1 norm: 2.725.. Train Linf norm: 184.981.. Val Linf norm: 303.011\n",
            "Epoch 118/138.. Train loss: 2.298.. Val loss: 2.295.. Train L1 norm: 2.199.. Val L1 norm: 2.725.. Train Linf norm: 183.517.. Val Linf norm: 303.011\n",
            "Epoch 119/138.. Train loss: 2.302.. Val loss: 2.295.. Train L1 norm: 2.198.. Val L1 norm: 2.725.. Train Linf norm: 184.232.. Val Linf norm: 303.011\n",
            "Epoch 120/138.. Train loss: 2.298.. Val loss: 2.295.. Train L1 norm: 2.199.. Val L1 norm: 2.725.. Train Linf norm: 180.450.. Val Linf norm: 303.011\n",
            "Epoch 121/138.. Train loss: 2.301.. Val loss: 2.295.. Train L1 norm: 2.201.. Val L1 norm: 2.725.. Train Linf norm: 185.690.. Val Linf norm: 303.011\n",
            "Epoch 122/138.. Train loss: 2.300.. Val loss: 2.295.. Train L1 norm: 2.198.. Val L1 norm: 2.725.. Train Linf norm: 184.029.. Val Linf norm: 303.011\n",
            "Epoch 123/138.. Train loss: 2.302.. Val loss: 2.295.. Train L1 norm: 2.201.. Val L1 norm: 2.725.. Train Linf norm: 179.539.. Val Linf norm: 303.011\n",
            "Epoch 124/138.. Train loss: 2.299.. Val loss: 2.295.. Train L1 norm: 2.201.. Val L1 norm: 2.725.. Train Linf norm: 172.459.. Val Linf norm: 303.011\n",
            "Epoch 125/138.. Train loss: 2.298.. Val loss: 2.295.. Train L1 norm: 2.201.. Val L1 norm: 2.725.. Train Linf norm: 184.375.. Val Linf norm: 303.011\n",
            "Epoch 126/138.. Train loss: 2.304.. Val loss: 2.295.. Train L1 norm: 2.198.. Val L1 norm: 2.725.. Train Linf norm: 182.426.. Val Linf norm: 303.011\n",
            "Epoch 127/138.. Train loss: 2.303.. Val loss: 2.295.. Train L1 norm: 2.202.. Val L1 norm: 2.725.. Train Linf norm: 187.105.. Val Linf norm: 303.011\n",
            "Epoch 128/138.. Train loss: 2.299.. Val loss: 2.295.. Train L1 norm: 2.200.. Val L1 norm: 2.725.. Train Linf norm: 181.309.. Val Linf norm: 303.011\n",
            "Epoch 129/138.. Train loss: 2.300.. Val loss: 2.295.. Train L1 norm: 2.201.. Val L1 norm: 2.725.. Train Linf norm: 184.858.. Val Linf norm: 303.011\n",
            "Epoch 130/138.. Train loss: 2.301.. Val loss: 2.295.. Train L1 norm: 2.200.. Val L1 norm: 2.725.. Train Linf norm: 183.789.. Val Linf norm: 303.011\n",
            "Epoch 131/138.. Train loss: 2.304.. Val loss: 2.295.. Train L1 norm: 2.203.. Val L1 norm: 2.725.. Train Linf norm: 185.502.. Val Linf norm: 303.011\n",
            "Epoch 132/138.. Train loss: 2.302.. Val loss: 2.295.. Train L1 norm: 2.199.. Val L1 norm: 2.725.. Train Linf norm: 177.252.. Val Linf norm: 303.011\n",
            "Epoch 133/138.. Train loss: 2.297.. Val loss: 2.295.. Train L1 norm: 2.199.. Val L1 norm: 2.725.. Train Linf norm: 182.574.. Val Linf norm: 303.011\n",
            "Epoch 134/138.. Train loss: 2.300.. Val loss: 2.295.. Train L1 norm: 2.200.. Val L1 norm: 2.725.. Train Linf norm: 186.706.. Val Linf norm: 303.011\n",
            "Epoch 135/138.. Train loss: 2.302.. Val loss: 2.295.. Train L1 norm: 2.201.. Val L1 norm: 2.725.. Train Linf norm: 186.643.. Val Linf norm: 303.011\n",
            "Epoch 136/138.. Train loss: 2.299.. Val loss: 2.295.. Train L1 norm: 2.202.. Val L1 norm: 2.725.. Train Linf norm: 183.264.. Val Linf norm: 303.011\n",
            "Epoch 137/138.. Train loss: 2.304.. Val loss: 2.295.. Train L1 norm: 2.202.. Val L1 norm: 2.725.. Train Linf norm: 185.651.. Val Linf norm: 303.011\n"
          ]
        },
        {
          "output_type": "stream",
          "name": "stderr",
          "text": [
            "[I 2023-05-30 12:19:27,123] Trial 55 finished with value: 2.72474657980601 and parameters: {'n_layers': 10, 'n_units_0': 2209, 'n_units_1': 2330, 'n_units_2': 3055, 'n_units_3': 1626, 'n_units_4': 1616, 'n_units_5': 369, 'n_units_6': 1740, 'n_units_7': 2728, 'n_units_8': 2830, 'n_units_9': 39, 'hidden_activation': 'GELU', 'output_activation': 'Linear', 'loss': 'Quantile', 'optimizer': 'SGD', 'lr': 0.0003668024752849421, 'batch_size': 256, 'n_epochs': 138, 'scheduler': 'StepLR', 'dropout_rate': 0.24884007477639825, 'weight_decay': 0.00014659920689774392, 'momentum': 0.6805813644701988, 'step_size': 13, 'gamma': 0.26167792713997823}. Best is trial 13 with value: 1.4059733067830404.\n"
          ]
        },
        {
          "output_type": "stream",
          "name": "stdout",
          "text": [
            "Epoch 138/138.. Train loss: 2.299.. Val loss: 2.295.. Train L1 norm: 2.200.. Val L1 norm: 2.725.. Train Linf norm: 178.207.. Val Linf norm: 303.011\n",
            "Epoch 1/78.. Train loss: 2.543.. Val loss: 2.522.. Train L1 norm: 1.009.. Val L1 norm: 1.047.. Train Linf norm: 3.741.. Val Linf norm: 12.619\n",
            "Epoch 2/78.. Train loss: 2.527.. Val loss: 2.505.. Train L1 norm: 1.050.. Val L1 norm: 1.133.. Train Linf norm: 12.424.. Val Linf norm: 30.704\n",
            "Epoch 3/78.. Train loss: 2.509.. Val loss: 2.490.. Train L1 norm: 1.110.. Val L1 norm: 1.223.. Train Linf norm: 24.062.. Val Linf norm: 48.515\n",
            "Epoch 4/78.. Train loss: 2.490.. Val loss: 2.473.. Train L1 norm: 1.170.. Val L1 norm: 1.318.. Train Linf norm: 34.133.. Val Linf norm: 66.252\n",
            "Epoch 5/78.. Train loss: 2.479.. Val loss: 2.459.. Train L1 norm: 1.236.. Val L1 norm: 1.412.. Train Linf norm: 45.696.. Val Linf norm: 83.396\n",
            "Epoch 6/78.. Train loss: 2.460.. Val loss: 2.444.. Train L1 norm: 1.299.. Val L1 norm: 1.506.. Train Linf norm: 55.862.. Val Linf norm: 100.382\n",
            "Epoch 7/78.. Train loss: 2.452.. Val loss: 2.431.. Train L1 norm: 1.362.. Val L1 norm: 1.600.. Train Linf norm: 64.000.. Val Linf norm: 116.842\n",
            "Epoch 8/78.. Train loss: 2.436.. Val loss: 2.419.. Train L1 norm: 1.426.. Val L1 norm: 1.694.. Train Linf norm: 74.062.. Val Linf norm: 133.067\n",
            "Epoch 9/78.. Train loss: 2.423.. Val loss: 2.407.. Train L1 norm: 1.498.. Val L1 norm: 1.786.. Train Linf norm: 84.821.. Val Linf norm: 148.963\n",
            "Epoch 10/78.. Train loss: 2.410.. Val loss: 2.395.. Train L1 norm: 1.559.. Val L1 norm: 1.878.. Train Linf norm: 93.875.. Val Linf norm: 164.591\n",
            "Epoch 11/78.. Train loss: 2.394.. Val loss: 2.381.. Train L1 norm: 1.624.. Val L1 norm: 1.973.. Train Linf norm: 103.437.. Val Linf norm: 180.576\n",
            "Epoch 12/78.. Train loss: 2.384.. Val loss: 2.370.. Train L1 norm: 1.696.. Val L1 norm: 2.065.. Train Linf norm: 110.847.. Val Linf norm: 195.930\n",
            "Epoch 13/78.. Train loss: 2.370.. Val loss: 2.360.. Train L1 norm: 1.755.. Val L1 norm: 2.157.. Train Linf norm: 121.629.. Val Linf norm: 211.067\n",
            "Epoch 14/78.. Train loss: 2.366.. Val loss: 2.357.. Train L1 norm: 1.797.. Val L1 norm: 2.179.. Train Linf norm: 127.104.. Val Linf norm: 214.775\n",
            "Epoch 15/78.. Train loss: 2.359.. Val loss: 2.353.. Train L1 norm: 1.814.. Val L1 norm: 2.203.. Train Linf norm: 129.833.. Val Linf norm: 218.807\n",
            "Epoch 16/78.. Train loss: 2.360.. Val loss: 2.351.. Train L1 norm: 1.832.. Val L1 norm: 2.226.. Train Linf norm: 135.650.. Val Linf norm: 222.551\n",
            "Epoch 17/78.. Train loss: 2.356.. Val loss: 2.348.. Train L1 norm: 1.847.. Val L1 norm: 2.249.. Train Linf norm: 133.436.. Val Linf norm: 226.331\n",
            "Epoch 18/78.. Train loss: 2.351.. Val loss: 2.345.. Train L1 norm: 1.865.. Val L1 norm: 2.272.. Train Linf norm: 136.749.. Val Linf norm: 230.103\n",
            "Epoch 19/78.. Train loss: 2.349.. Val loss: 2.343.. Train L1 norm: 1.881.. Val L1 norm: 2.295.. Train Linf norm: 136.737.. Val Linf norm: 233.851\n",
            "Epoch 20/78.. Train loss: 2.347.. Val loss: 2.340.. Train L1 norm: 1.898.. Val L1 norm: 2.318.. Train Linf norm: 144.777.. Val Linf norm: 237.568\n",
            "Epoch 21/78.. Train loss: 2.344.. Val loss: 2.337.. Train L1 norm: 1.916.. Val L1 norm: 2.342.. Train Linf norm: 146.224.. Val Linf norm: 241.470\n",
            "Epoch 22/78.. Train loss: 2.340.. Val loss: 2.334.. Train L1 norm: 1.932.. Val L1 norm: 2.366.. Train Linf norm: 148.681.. Val Linf norm: 245.351\n",
            "Epoch 23/78.. Train loss: 2.338.. Val loss: 2.332.. Train L1 norm: 1.949.. Val L1 norm: 2.389.. Train Linf norm: 149.038.. Val Linf norm: 249.173\n",
            "Epoch 24/78.. Train loss: 2.333.. Val loss: 2.327.. Train L1 norm: 1.967.. Val L1 norm: 2.416.. Train Linf norm: 153.328.. Val Linf norm: 253.528\n",
            "Epoch 25/78.. Train loss: 2.334.. Val loss: 2.324.. Train L1 norm: 1.987.. Val L1 norm: 2.439.. Train Linf norm: 155.966.. Val Linf norm: 257.301\n",
            "Epoch 26/78.. Train loss: 2.329.. Val loss: 2.322.. Train L1 norm: 2.003.. Val L1 norm: 2.464.. Train Linf norm: 156.716.. Val Linf norm: 261.281\n",
            "Epoch 27/78.. Train loss: 2.329.. Val loss: 2.321.. Train L1 norm: 2.014.. Val L1 norm: 2.470.. Train Linf norm: 158.251.. Val Linf norm: 262.211\n",
            "Epoch 28/78.. Train loss: 2.324.. Val loss: 2.320.. Train L1 norm: 2.018.. Val L1 norm: 2.477.. Train Linf norm: 158.702.. Val Linf norm: 263.337\n",
            "Epoch 29/78.. Train loss: 2.322.. Val loss: 2.319.. Train L1 norm: 2.022.. Val L1 norm: 2.483.. Train Linf norm: 158.643.. Val Linf norm: 264.390\n",
            "Epoch 30/78.. Train loss: 2.323.. Val loss: 2.317.. Train L1 norm: 2.029.. Val L1 norm: 2.490.. Train Linf norm: 155.482.. Val Linf norm: 265.542\n",
            "Epoch 31/78.. Train loss: 2.327.. Val loss: 2.317.. Train L1 norm: 2.036.. Val L1 norm: 2.496.. Train Linf norm: 156.076.. Val Linf norm: 266.484\n",
            "Epoch 32/78.. Train loss: 2.321.. Val loss: 2.316.. Train L1 norm: 2.040.. Val L1 norm: 2.503.. Train Linf norm: 160.399.. Val Linf norm: 267.521\n",
            "Epoch 33/78.. Train loss: 2.321.. Val loss: 2.315.. Train L1 norm: 2.044.. Val L1 norm: 2.509.. Train Linf norm: 161.828.. Val Linf norm: 268.582\n",
            "Epoch 34/78.. Train loss: 2.325.. Val loss: 2.314.. Train L1 norm: 2.049.. Val L1 norm: 2.515.. Train Linf norm: 152.536.. Val Linf norm: 269.555\n",
            "Epoch 35/78.. Train loss: 2.321.. Val loss: 2.314.. Train L1 norm: 2.052.. Val L1 norm: 2.521.. Train Linf norm: 156.474.. Val Linf norm: 270.533\n",
            "Epoch 36/78.. Train loss: 2.316.. Val loss: 2.313.. Train L1 norm: 2.057.. Val L1 norm: 2.528.. Train Linf norm: 163.766.. Val Linf norm: 271.567\n",
            "Epoch 37/78.. Train loss: 2.317.. Val loss: 2.311.. Train L1 norm: 2.062.. Val L1 norm: 2.536.. Train Linf norm: 162.619.. Val Linf norm: 272.792\n",
            "Epoch 38/78.. Train loss: 2.317.. Val loss: 2.311.. Train L1 norm: 2.067.. Val L1 norm: 2.542.. Train Linf norm: 165.923.. Val Linf norm: 273.770\n",
            "Epoch 39/78.. Train loss: 2.315.. Val loss: 2.310.. Train L1 norm: 2.073.. Val L1 norm: 2.548.. Train Linf norm: 167.973.. Val Linf norm: 274.815\n",
            "Epoch 40/78.. Train loss: 2.314.. Val loss: 2.310.. Train L1 norm: 2.075.. Val L1 norm: 2.550.. Train Linf norm: 161.700.. Val Linf norm: 275.134\n",
            "Epoch 41/78.. Train loss: 2.314.. Val loss: 2.309.. Train L1 norm: 2.077.. Val L1 norm: 2.552.. Train Linf norm: 169.086.. Val Linf norm: 275.437\n",
            "Epoch 42/78.. Train loss: 2.314.. Val loss: 2.309.. Train L1 norm: 2.079.. Val L1 norm: 2.554.. Train Linf norm: 164.097.. Val Linf norm: 275.733\n",
            "Epoch 43/78.. Train loss: 2.313.. Val loss: 2.309.. Train L1 norm: 2.081.. Val L1 norm: 2.556.. Train Linf norm: 170.983.. Val Linf norm: 275.993\n",
            "Epoch 44/78.. Train loss: 2.318.. Val loss: 2.309.. Train L1 norm: 2.081.. Val L1 norm: 2.557.. Train Linf norm: 167.074.. Val Linf norm: 276.230\n",
            "Epoch 45/78.. Train loss: 2.315.. Val loss: 2.308.. Train L1 norm: 2.083.. Val L1 norm: 2.559.. Train Linf norm: 167.848.. Val Linf norm: 276.480\n",
            "Epoch 46/78.. Train loss: 2.314.. Val loss: 2.308.. Train L1 norm: 2.082.. Val L1 norm: 2.560.. Train Linf norm: 163.312.. Val Linf norm: 276.734\n",
            "Epoch 47/78.. Train loss: 2.314.. Val loss: 2.308.. Train L1 norm: 2.084.. Val L1 norm: 2.562.. Train Linf norm: 168.604.. Val Linf norm: 276.988\n",
            "Epoch 48/78.. Train loss: 2.315.. Val loss: 2.308.. Train L1 norm: 2.085.. Val L1 norm: 2.563.. Train Linf norm: 167.102.. Val Linf norm: 277.240\n",
            "Epoch 49/78.. Train loss: 2.311.. Val loss: 2.308.. Train L1 norm: 2.086.. Val L1 norm: 2.565.. Train Linf norm: 168.724.. Val Linf norm: 277.502\n",
            "Epoch 50/78.. Train loss: 2.310.. Val loss: 2.307.. Train L1 norm: 2.086.. Val L1 norm: 2.567.. Train Linf norm: 163.387.. Val Linf norm: 277.846\n",
            "Epoch 51/78.. Train loss: 2.312.. Val loss: 2.307.. Train L1 norm: 2.088.. Val L1 norm: 2.569.. Train Linf norm: 167.496.. Val Linf norm: 278.107\n",
            "Epoch 52/78.. Train loss: 2.319.. Val loss: 2.307.. Train L1 norm: 2.090.. Val L1 norm: 2.570.. Train Linf norm: 168.695.. Val Linf norm: 278.356\n",
            "Epoch 53/78.. Train loss: 2.313.. Val loss: 2.307.. Train L1 norm: 2.089.. Val L1 norm: 2.571.. Train Linf norm: 170.135.. Val Linf norm: 278.415\n",
            "Epoch 54/78.. Train loss: 2.314.. Val loss: 2.307.. Train L1 norm: 2.091.. Val L1 norm: 2.571.. Train Linf norm: 171.882.. Val Linf norm: 278.469\n",
            "Epoch 55/78.. Train loss: 2.310.. Val loss: 2.307.. Train L1 norm: 2.091.. Val L1 norm: 2.571.. Train Linf norm: 168.948.. Val Linf norm: 278.528\n",
            "Epoch 56/78.. Train loss: 2.311.. Val loss: 2.307.. Train L1 norm: 2.092.. Val L1 norm: 2.572.. Train Linf norm: 165.239.. Val Linf norm: 278.591\n",
            "Epoch 57/78.. Train loss: 2.311.. Val loss: 2.307.. Train L1 norm: 2.092.. Val L1 norm: 2.572.. Train Linf norm: 169.044.. Val Linf norm: 278.649\n",
            "Epoch 58/78.. Train loss: 2.311.. Val loss: 2.307.. Train L1 norm: 2.092.. Val L1 norm: 2.573.. Train Linf norm: 172.205.. Val Linf norm: 278.722\n",
            "Epoch 59/78.. Train loss: 2.309.. Val loss: 2.307.. Train L1 norm: 2.091.. Val L1 norm: 2.573.. Train Linf norm: 170.303.. Val Linf norm: 278.783\n",
            "Epoch 60/78.. Train loss: 2.313.. Val loss: 2.307.. Train L1 norm: 2.093.. Val L1 norm: 2.573.. Train Linf norm: 161.722.. Val Linf norm: 278.840\n",
            "Epoch 61/78.. Train loss: 2.311.. Val loss: 2.306.. Train L1 norm: 2.091.. Val L1 norm: 2.574.. Train Linf norm: 170.663.. Val Linf norm: 278.901\n",
            "Epoch 62/78.. Train loss: 2.315.. Val loss: 2.306.. Train L1 norm: 2.093.. Val L1 norm: 2.574.. Train Linf norm: 170.164.. Val Linf norm: 278.956\n",
            "Epoch 63/78.. Train loss: 2.314.. Val loss: 2.306.. Train L1 norm: 2.094.. Val L1 norm: 2.574.. Train Linf norm: 170.244.. Val Linf norm: 279.014\n",
            "Epoch 64/78.. Train loss: 2.309.. Val loss: 2.306.. Train L1 norm: 2.093.. Val L1 norm: 2.575.. Train Linf norm: 167.441.. Val Linf norm: 279.080\n",
            "Epoch 65/78.. Train loss: 2.316.. Val loss: 2.306.. Train L1 norm: 2.096.. Val L1 norm: 2.575.. Train Linf norm: 166.844.. Val Linf norm: 279.135\n",
            "Epoch 66/78.. Train loss: 2.315.. Val loss: 2.306.. Train L1 norm: 2.092.. Val L1 norm: 2.575.. Train Linf norm: 170.158.. Val Linf norm: 279.145\n",
            "Epoch 67/78.. Train loss: 2.308.. Val loss: 2.306.. Train L1 norm: 2.094.. Val L1 norm: 2.575.. Train Linf norm: 168.809.. Val Linf norm: 279.159\n",
            "Epoch 68/78.. Train loss: 2.316.. Val loss: 2.306.. Train L1 norm: 2.093.. Val L1 norm: 2.575.. Train Linf norm: 170.177.. Val Linf norm: 279.170\n",
            "Epoch 69/78.. Train loss: 2.310.. Val loss: 2.306.. Train L1 norm: 2.094.. Val L1 norm: 2.575.. Train Linf norm: 170.048.. Val Linf norm: 279.187\n",
            "Epoch 70/78.. Train loss: 2.315.. Val loss: 2.306.. Train L1 norm: 2.094.. Val L1 norm: 2.576.. Train Linf norm: 166.886.. Val Linf norm: 279.198\n",
            "Epoch 71/78.. Train loss: 2.313.. Val loss: 2.306.. Train L1 norm: 2.094.. Val L1 norm: 2.576.. Train Linf norm: 167.897.. Val Linf norm: 279.210\n",
            "Epoch 72/78.. Train loss: 2.310.. Val loss: 2.306.. Train L1 norm: 2.093.. Val L1 norm: 2.576.. Train Linf norm: 168.031.. Val Linf norm: 279.223\n",
            "Epoch 73/78.. Train loss: 2.310.. Val loss: 2.306.. Train L1 norm: 2.093.. Val L1 norm: 2.576.. Train Linf norm: 169.836.. Val Linf norm: 279.239\n",
            "Epoch 74/78.. Train loss: 2.315.. Val loss: 2.306.. Train L1 norm: 2.095.. Val L1 norm: 2.576.. Train Linf norm: 169.606.. Val Linf norm: 279.250\n",
            "Epoch 75/78.. Train loss: 2.314.. Val loss: 2.306.. Train L1 norm: 2.094.. Val L1 norm: 2.576.. Train Linf norm: 168.371.. Val Linf norm: 279.262\n",
            "Epoch 76/78.. Train loss: 2.311.. Val loss: 2.306.. Train L1 norm: 2.094.. Val L1 norm: 2.576.. Train Linf norm: 163.119.. Val Linf norm: 279.274\n",
            "Epoch 77/78.. Train loss: 2.317.. Val loss: 2.306.. Train L1 norm: 2.095.. Val L1 norm: 2.576.. Train Linf norm: 162.631.. Val Linf norm: 279.285\n"
          ]
        },
        {
          "output_type": "stream",
          "name": "stderr",
          "text": [
            "[I 2023-05-30 12:30:15,031] Trial 56 finished with value: 2.576155301221212 and parameters: {'n_layers': 10, 'n_units_0': 3081, 'n_units_1': 1984, 'n_units_2': 3885, 'n_units_3': 1598, 'n_units_4': 1608, 'n_units_5': 1120, 'n_units_6': 2538, 'n_units_7': 2715, 'n_units_8': 2569, 'n_units_9': 914, 'hidden_activation': 'GELU', 'output_activation': 'Linear', 'loss': 'Quantile', 'optimizer': 'SGD', 'lr': 0.0002635229330314043, 'batch_size': 256, 'n_epochs': 78, 'scheduler': 'StepLR', 'dropout_rate': 0.24424977475994553, 'weight_decay': 0.0002593272347310432, 'momentum': 0.7382896665188767, 'step_size': 13, 'gamma': 0.24750233476657363}. Best is trial 13 with value: 1.4059733067830404.\n"
          ]
        },
        {
          "output_type": "stream",
          "name": "stdout",
          "text": [
            "Epoch 78/78.. Train loss: 2.311.. Val loss: 2.306.. Train L1 norm: 2.094.. Val L1 norm: 2.576.. Train Linf norm: 166.779.. Val Linf norm: 279.297\n",
            "Epoch 1/77.. Train loss: 4.612.. Val loss: 4.550.. Train L1 norm: 1.026.. Val L1 norm: 1.087.. Train Linf norm: 12.491.. Val Linf norm: 39.619\n",
            "Epoch 2/77.. Train loss: 4.565.. Val loss: 4.506.. Train L1 norm: 1.089.. Val L1 norm: 1.197.. Train Linf norm: 34.878.. Val Linf norm: 81.475\n",
            "Epoch 3/77.. Train loss: 4.528.. Val loss: 4.468.. Train L1 norm: 1.166.. Val L1 norm: 1.312.. Train Linf norm: 55.802.. Val Linf norm: 122.223\n",
            "Epoch 4/77.. Train loss: 4.481.. Val loss: 4.431.. Train L1 norm: 1.253.. Val L1 norm: 1.432.. Train Linf norm: 78.668.. Val Linf norm: 163.070\n",
            "Epoch 5/77.. Train loss: 4.431.. Val loss: 4.403.. Train L1 norm: 1.342.. Val L1 norm: 1.557.. Train Linf norm: 103.280.. Val Linf norm: 204.653\n",
            "Epoch 6/77.. Train loss: 4.390.. Val loss: 4.285.. Train L1 norm: 1.454.. Val L1 norm: 1.770.. Train Linf norm: 131.992.. Val Linf norm: 272.581\n",
            "Epoch 7/77.. Train loss: 4.363.. Val loss: 4.342.. Train L1 norm: 1.637.. Val L1 norm: 1.879.. Train Linf norm: 172.726.. Val Linf norm: 307.077\n",
            "Epoch 8/77.. Train loss: 4.407.. Val loss: 4.227.. Train L1 norm: 1.769.. Val L1 norm: 2.048.. Train Linf norm: 209.517.. Val Linf norm: 360.428\n",
            "Epoch 9/77.. Train loss: 4.229.. Val loss: 3.949.. Train L1 norm: 1.921.. Val L1 norm: 2.750.. Train Linf norm: 236.785.. Val Linf norm: 580.898\n",
            "Epoch 10/77.. Train loss: 4.179.. Val loss: 3.771.. Train L1 norm: 2.356.. Val L1 norm: 3.628.. Train Linf norm: 335.629.. Val Linf norm: 846.570\n",
            "Epoch 11/77.. Train loss: 4.408.. Val loss: 4.104.. Train L1 norm: 2.688.. Val L1 norm: 2.390.. Train Linf norm: 404.160.. Val Linf norm: 467.291\n",
            "Epoch 12/77.. Train loss: 4.077.. Val loss: 3.942.. Train L1 norm: 2.168.. Val L1 norm: 2.792.. Train Linf norm: 296.378.. Val Linf norm: 593.514\n",
            "Epoch 13/77.. Train loss: 3.943.. Val loss: 3.835.. Train L1 norm: 2.555.. Val L1 norm: 3.227.. Train Linf norm: 386.768.. Val Linf norm: 728.858\n",
            "Epoch 14/77.. Train loss: 3.957.. Val loss: 3.779.. Train L1 norm: 2.785.. Val L1 norm: 3.563.. Train Linf norm: 433.485.. Val Linf norm: 832.393\n",
            "Epoch 15/77.. Train loss: 3.817.. Val loss: 3.667.. Train L1 norm: 3.196.. Val L1 norm: 4.312.. Train Linf norm: 533.445.. Val Linf norm: 1056.437\n",
            "Epoch 16/77.. Train loss: 3.820.. Val loss: 3.645.. Train L1 norm: 3.365.. Val L1 norm: 4.532.. Train Linf norm: 571.688.. Val Linf norm: 1123.303\n",
            "Epoch 17/77.. Train loss: 3.907.. Val loss: 3.692.. Train L1 norm: 3.379.. Val L1 norm: 4.255.. Train Linf norm: 561.638.. Val Linf norm: 1041.794\n",
            "Epoch 18/77.. Train loss: 3.868.. Val loss: 3.800.. Train L1 norm: 3.502.. Val L1 norm: 4.103.. Train Linf norm: 598.624.. Val Linf norm: 996.082\n",
            "Epoch 19/77.. Train loss: 3.872.. Val loss: 3.631.. Train L1 norm: 3.428.. Val L1 norm: 4.694.. Train Linf norm: 600.758.. Val Linf norm: 1170.349\n",
            "Epoch 20/77.. Train loss: 3.850.. Val loss: 3.625.. Train L1 norm: 3.392.. Val L1 norm: 4.710.. Train Linf norm: 532.241.. Val Linf norm: 1176.499\n",
            "Epoch 21/77.. Train loss: 3.805.. Val loss: 3.659.. Train L1 norm: 3.648.. Val L1 norm: 4.424.. Train Linf norm: 585.705.. Val Linf norm: 1091.729\n",
            "Epoch 22/77.. Train loss: 3.737.. Val loss: 3.618.. Train L1 norm: 3.778.. Val L1 norm: 4.806.. Train Linf norm: 641.828.. Val Linf norm: 1203.253\n",
            "Epoch 23/77.. Train loss: 3.692.. Val loss: 3.618.. Train L1 norm: 3.721.. Val L1 norm: 4.795.. Train Linf norm: 644.502.. Val Linf norm: 1200.804\n",
            "Epoch 24/77.. Train loss: 3.704.. Val loss: 3.620.. Train L1 norm: 3.753.. Val L1 norm: 4.778.. Train Linf norm: 632.045.. Val Linf norm: 1196.513\n",
            "Epoch 25/77.. Train loss: 3.706.. Val loss: 3.617.. Train L1 norm: 3.665.. Val L1 norm: 4.840.. Train Linf norm: 606.625.. Val Linf norm: 1215.369\n",
            "Epoch 26/77.. Train loss: 3.711.. Val loss: 3.610.. Train L1 norm: 3.790.. Val L1 norm: 4.956.. Train Linf norm: 649.536.. Val Linf norm: 1249.294\n",
            "Epoch 27/77.. Train loss: 3.691.. Val loss: 3.610.. Train L1 norm: 3.859.. Val L1 norm: 4.980.. Train Linf norm: 638.636.. Val Linf norm: 1257.031\n",
            "Epoch 28/77.. Train loss: 3.686.. Val loss: 3.607.. Train L1 norm: 3.826.. Val L1 norm: 5.031.. Train Linf norm: 653.461.. Val Linf norm: 1272.240\n",
            "Epoch 29/77.. Train loss: 3.681.. Val loss: 3.617.. Train L1 norm: 3.913.. Val L1 norm: 4.969.. Train Linf norm: 667.458.. Val Linf norm: 1254.707\n",
            "Epoch 30/77.. Train loss: 3.740.. Val loss: 3.610.. Train L1 norm: 3.931.. Val L1 norm: 5.005.. Train Linf norm: 664.784.. Val Linf norm: 1264.830\n",
            "Epoch 31/77.. Train loss: 3.702.. Val loss: 3.600.. Train L1 norm: 3.935.. Val L1 norm: 5.158.. Train Linf norm: 690.601.. Val Linf norm: 1309.259\n",
            "Epoch 32/77.. Train loss: 3.785.. Val loss: 3.611.. Train L1 norm: 3.885.. Val L1 norm: 4.961.. Train Linf norm: 684.310.. Val Linf norm: 1251.470\n",
            "Epoch 33/77.. Train loss: 3.702.. Val loss: 3.606.. Train L1 norm: 3.849.. Val L1 norm: 5.032.. Train Linf norm: 673.989.. Val Linf norm: 1272.139\n",
            "Epoch 34/77.. Train loss: 3.676.. Val loss: 3.606.. Train L1 norm: 3.886.. Val L1 norm: 5.045.. Train Linf norm: 673.200.. Val Linf norm: 1276.018\n",
            "Epoch 35/77.. Train loss: 3.718.. Val loss: 3.605.. Train L1 norm: 3.939.. Val L1 norm: 5.051.. Train Linf norm: 705.756.. Val Linf norm: 1277.676\n",
            "Epoch 36/77.. Train loss: 3.696.. Val loss: 3.604.. Train L1 norm: 3.862.. Val L1 norm: 5.068.. Train Linf norm: 646.333.. Val Linf norm: 1282.728\n",
            "Epoch 37/77.. Train loss: 3.712.. Val loss: 3.605.. Train L1 norm: 3.899.. Val L1 norm: 5.055.. Train Linf norm: 668.226.. Val Linf norm: 1278.730\n",
            "Epoch 38/77.. Train loss: 3.739.. Val loss: 3.605.. Train L1 norm: 3.906.. Val L1 norm: 5.050.. Train Linf norm: 700.263.. Val Linf norm: 1277.378\n",
            "Epoch 39/77.. Train loss: 3.692.. Val loss: 3.603.. Train L1 norm: 3.902.. Val L1 norm: 5.076.. Train Linf norm: 656.665.. Val Linf norm: 1284.900\n",
            "Epoch 40/77.. Train loss: 3.676.. Val loss: 3.603.. Train L1 norm: 3.966.. Val L1 norm: 5.079.. Train Linf norm: 720.034.. Val Linf norm: 1285.805\n",
            "Epoch 41/77.. Train loss: 3.673.. Val loss: 3.601.. Train L1 norm: 3.878.. Val L1 norm: 5.108.. Train Linf norm: 647.215.. Val Linf norm: 1294.237\n",
            "Epoch 42/77.. Train loss: 3.659.. Val loss: 3.598.. Train L1 norm: 3.952.. Val L1 norm: 5.164.. Train Linf norm: 700.950.. Val Linf norm: 1310.458\n",
            "Epoch 43/77.. Train loss: 3.692.. Val loss: 3.598.. Train L1 norm: 3.983.. Val L1 norm: 5.155.. Train Linf norm: 706.116.. Val Linf norm: 1308.099\n",
            "Epoch 44/77.. Train loss: 3.713.. Val loss: 3.599.. Train L1 norm: 3.936.. Val L1 norm: 5.137.. Train Linf norm: 660.856.. Val Linf norm: 1302.767\n",
            "Epoch 45/77.. Train loss: 3.678.. Val loss: 3.599.. Train L1 norm: 3.970.. Val L1 norm: 5.138.. Train Linf norm: 704.983.. Val Linf norm: 1302.944\n",
            "Epoch 46/77.. Train loss: 3.683.. Val loss: 3.599.. Train L1 norm: 3.953.. Val L1 norm: 5.131.. Train Linf norm: 693.044.. Val Linf norm: 1301.039\n",
            "Epoch 47/77.. Train loss: 3.681.. Val loss: 3.600.. Train L1 norm: 3.897.. Val L1 norm: 5.130.. Train Linf norm: 679.282.. Val Linf norm: 1300.604\n",
            "Epoch 48/77.. Train loss: 3.741.. Val loss: 3.599.. Train L1 norm: 3.944.. Val L1 norm: 5.137.. Train Linf norm: 695.718.. Val Linf norm: 1302.616\n",
            "Epoch 49/77.. Train loss: 3.694.. Val loss: 3.599.. Train L1 norm: 3.992.. Val L1 norm: 5.130.. Train Linf norm: 693.046.. Val Linf norm: 1300.658\n",
            "Epoch 50/77.. Train loss: 3.682.. Val loss: 3.599.. Train L1 norm: 3.947.. Val L1 norm: 5.132.. Train Linf norm: 702.310.. Val Linf norm: 1301.290\n",
            "Epoch 51/77.. Train loss: 3.655.. Val loss: 3.599.. Train L1 norm: 3.965.. Val L1 norm: 5.147.. Train Linf norm: 672.151.. Val Linf norm: 1305.673\n",
            "Epoch 52/77.. Train loss: 3.685.. Val loss: 3.599.. Train L1 norm: 3.972.. Val L1 norm: 5.142.. Train Linf norm: 699.143.. Val Linf norm: 1304.144\n",
            "Epoch 53/77.. Train loss: 3.654.. Val loss: 3.598.. Train L1 norm: 3.984.. Val L1 norm: 5.157.. Train Linf norm: 683.302.. Val Linf norm: 1308.542\n",
            "Epoch 54/77.. Train loss: 3.637.. Val loss: 3.598.. Train L1 norm: 3.964.. Val L1 norm: 5.156.. Train Linf norm: 681.498.. Val Linf norm: 1308.229\n",
            "Epoch 55/77.. Train loss: 3.735.. Val loss: 3.599.. Train L1 norm: 3.953.. Val L1 norm: 5.144.. Train Linf norm: 698.732.. Val Linf norm: 1304.798\n",
            "Epoch 56/77.. Train loss: 3.637.. Val loss: 3.598.. Train L1 norm: 3.940.. Val L1 norm: 5.150.. Train Linf norm: 696.957.. Val Linf norm: 1306.567\n",
            "Epoch 57/77.. Train loss: 3.651.. Val loss: 3.598.. Train L1 norm: 4.007.. Val L1 norm: 5.156.. Train Linf norm: 690.325.. Val Linf norm: 1308.251\n",
            "Epoch 58/77.. Train loss: 3.700.. Val loss: 3.598.. Train L1 norm: 3.972.. Val L1 norm: 5.153.. Train Linf norm: 696.845.. Val Linf norm: 1307.555\n",
            "Epoch 59/77.. Train loss: 3.707.. Val loss: 3.598.. Train L1 norm: 3.980.. Val L1 norm: 5.153.. Train Linf norm: 686.876.. Val Linf norm: 1307.399\n",
            "Epoch 60/77.. Train loss: 3.655.. Val loss: 3.598.. Train L1 norm: 3.954.. Val L1 norm: 5.152.. Train Linf norm: 676.776.. Val Linf norm: 1307.259\n",
            "Epoch 61/77.. Train loss: 3.669.. Val loss: 3.598.. Train L1 norm: 3.967.. Val L1 norm: 5.152.. Train Linf norm: 676.057.. Val Linf norm: 1307.278\n",
            "Epoch 62/77.. Train loss: 3.662.. Val loss: 3.598.. Train L1 norm: 3.955.. Val L1 norm: 5.157.. Train Linf norm: 698.775.. Val Linf norm: 1308.576\n",
            "Epoch 63/77.. Train loss: 3.659.. Val loss: 3.598.. Train L1 norm: 3.960.. Val L1 norm: 5.156.. Train Linf norm: 693.997.. Val Linf norm: 1308.264\n",
            "Epoch 64/77.. Train loss: 3.664.. Val loss: 3.598.. Train L1 norm: 3.958.. Val L1 norm: 5.155.. Train Linf norm: 674.945.. Val Linf norm: 1308.018\n",
            "Epoch 65/77.. Train loss: 3.649.. Val loss: 3.598.. Train L1 norm: 3.969.. Val L1 norm: 5.155.. Train Linf norm: 702.653.. Val Linf norm: 1308.106\n",
            "Epoch 66/77.. Train loss: 3.715.. Val loss: 3.598.. Train L1 norm: 3.960.. Val L1 norm: 5.152.. Train Linf norm: 704.159.. Val Linf norm: 1307.272\n",
            "Epoch 67/77.. Train loss: 3.727.. Val loss: 3.598.. Train L1 norm: 3.937.. Val L1 norm: 5.152.. Train Linf norm: 660.355.. Val Linf norm: 1307.061\n",
            "Epoch 68/77.. Train loss: 3.695.. Val loss: 3.598.. Train L1 norm: 3.957.. Val L1 norm: 5.152.. Train Linf norm: 694.232.. Val Linf norm: 1307.316\n",
            "Epoch 69/77.. Train loss: 3.658.. Val loss: 3.598.. Train L1 norm: 3.981.. Val L1 norm: 5.152.. Train Linf norm: 715.672.. Val Linf norm: 1307.178\n",
            "Epoch 70/77.. Train loss: 3.672.. Val loss: 3.598.. Train L1 norm: 3.987.. Val L1 norm: 5.151.. Train Linf norm: 724.610.. Val Linf norm: 1307.044\n",
            "Epoch 71/77.. Train loss: 3.661.. Val loss: 3.598.. Train L1 norm: 3.960.. Val L1 norm: 5.151.. Train Linf norm: 683.682.. Val Linf norm: 1306.896\n",
            "Epoch 72/77.. Train loss: 3.670.. Val loss: 3.598.. Train L1 norm: 3.944.. Val L1 norm: 5.151.. Train Linf norm: 674.242.. Val Linf norm: 1306.872\n",
            "Epoch 73/77.. Train loss: 3.674.. Val loss: 3.598.. Train L1 norm: 3.950.. Val L1 norm: 5.151.. Train Linf norm: 673.625.. Val Linf norm: 1306.780\n",
            "Epoch 74/77.. Train loss: 3.723.. Val loss: 3.599.. Train L1 norm: 3.948.. Val L1 norm: 5.150.. Train Linf norm: 689.201.. Val Linf norm: 1306.519\n",
            "Epoch 75/77.. Train loss: 3.682.. Val loss: 3.598.. Train L1 norm: 3.924.. Val L1 norm: 5.151.. Train Linf norm: 685.017.. Val Linf norm: 1306.882\n",
            "Epoch 76/77.. Train loss: 3.685.. Val loss: 3.598.. Train L1 norm: 3.934.. Val L1 norm: 5.151.. Train Linf norm: 665.180.. Val Linf norm: 1306.881\n"
          ]
        },
        {
          "output_type": "stream",
          "name": "stderr",
          "text": [
            "[I 2023-05-30 12:36:13,563] Trial 57 finished with value: 5.150462761116028 and parameters: {'n_layers': 9, 'n_units_0': 3245, 'n_units_1': 2007, 'n_units_2': 2340, 'n_units_3': 909, 'n_units_4': 2013, 'n_units_5': 1144, 'n_units_6': 2396, 'n_units_7': 1642, 'n_units_8': 2190, 'hidden_activation': 'GELU', 'output_activation': 'Linear', 'loss': 'Huber', 'optimizer': 'SGD', 'lr': 0.00020032038557157842, 'batch_size': 512, 'n_epochs': 77, 'scheduler': 'StepLR', 'dropout_rate': 0.26805183225305235, 'weight_decay': 0.000402623701229009, 'momentum': 0.8190047897472026, 'step_size': 11, 'gamma': 0.2749144574706244}. Best is trial 13 with value: 1.4059733067830404.\n"
          ]
        },
        {
          "output_type": "stream",
          "name": "stdout",
          "text": [
            "Epoch 77/77.. Train loss: 3.660.. Val loss: 3.598.. Train L1 norm: 3.968.. Val L1 norm: 5.150.. Train Linf norm: 694.432.. Val Linf norm: 1306.747\n"
          ]
        },
        {
          "output_type": "stream",
          "name": "stderr",
          "text": [
            "[I 2023-05-30 12:36:17,185] Trial 58 pruned. \n"
          ]
        },
        {
          "output_type": "stream",
          "name": "stdout",
          "text": [
            "Epoch 1/83.. Train loss: 3.242.. Val loss: 2.226.. Train L1 norm: 3.953.. Val L1 norm: 3.082.. Train Linf norm: 1254.817.. Val Linf norm: 1207.385\n"
          ]
        },
        {
          "output_type": "stream",
          "name": "stderr",
          "text": [
            "[I 2023-05-30 12:36:22,734] Trial 59 pruned. \n"
          ]
        },
        {
          "output_type": "stream",
          "name": "stdout",
          "text": [
            "Epoch 1/97.. Train loss: 4.320.. Val loss: 3.689.. Train L1 norm: 3.750.. Val L1 norm: 3.742.. Train Linf norm: 1082.906.. Val Linf norm: 1480.281\n"
          ]
        },
        {
          "output_type": "stream",
          "name": "stderr",
          "text": [
            "[I 2023-05-30 12:36:33,373] Trial 60 pruned. \n"
          ]
        },
        {
          "output_type": "stream",
          "name": "stdout",
          "text": [
            "Epoch 1/78.. Train loss: 5.140.. Val loss: 4.174.. Train L1 norm: 3.512.. Val L1 norm: 2.006.. Train Linf norm: 212.141.. Val Linf norm: 105.161\n"
          ]
        },
        {
          "output_type": "stream",
          "name": "stderr",
          "text": [
            "[I 2023-05-30 12:36:35,277] Trial 61 pruned. \n"
          ]
        },
        {
          "output_type": "stream",
          "name": "stdout",
          "text": [
            "Epoch 1/70.. Train loss: 2.434.. Val loss: 2.243.. Train L1 norm: 2.017.. Val L1 norm: 3.467.. Train Linf norm: 641.491.. Val Linf norm: 2382.138\n"
          ]
        },
        {
          "output_type": "stream",
          "name": "stderr",
          "text": [
            "[I 2023-05-30 12:36:38,669] Trial 62 pruned. \n"
          ]
        },
        {
          "output_type": "stream",
          "name": "stdout",
          "text": [
            "Epoch 1/58.. Train loss: 4.962.. Val loss: 4.140.. Train L1 norm: 3.177.. Val L1 norm: 2.100.. Train Linf norm: 805.169.. Val Linf norm: 647.314\n",
            "Epoch 1/82.. Train loss: 2.532.. Val loss: 2.505.. Train L1 norm: 1.038.. Val L1 norm: 1.133.. Train Linf norm: 10.147.. Val Linf norm: 30.648\n",
            "Epoch 2/82.. Train loss: 2.504.. Val loss: 2.482.. Train L1 norm: 1.124.. Val L1 norm: 1.263.. Train Linf norm: 26.403.. Val Linf norm: 56.159\n",
            "Epoch 3/82.. Train loss: 2.486.. Val loss: 2.461.. Train L1 norm: 1.211.. Val L1 norm: 1.397.. Train Linf norm: 39.754.. Val Linf norm: 80.759\n",
            "Epoch 4/82.. Train loss: 2.461.. Val loss: 2.442.. Train L1 norm: 1.306.. Val L1 norm: 1.531.. Train Linf norm: 55.129.. Val Linf norm: 104.785\n",
            "Epoch 5/82.. Train loss: 2.442.. Val loss: 2.423.. Train L1 norm: 1.395.. Val L1 norm: 1.666.. Train Linf norm: 68.413.. Val Linf norm: 128.264\n",
            "Epoch 6/82.. Train loss: 2.424.. Val loss: 2.406.. Train L1 norm: 1.488.. Val L1 norm: 1.798.. Train Linf norm: 84.804.. Val Linf norm: 150.951\n",
            "Epoch 7/82.. Train loss: 2.406.. Val loss: 2.390.. Train L1 norm: 1.579.. Val L1 norm: 1.928.. Train Linf norm: 98.432.. Val Linf norm: 173.035\n",
            "Epoch 8/82.. Train loss: 2.391.. Val loss: 2.374.. Train L1 norm: 1.675.. Val L1 norm: 2.057.. Train Linf norm: 111.513.. Val Linf norm: 194.568\n",
            "Epoch 9/82.. Train loss: 2.374.. Val loss: 2.358.. Train L1 norm: 1.758.. Val L1 norm: 2.186.. Train Linf norm: 121.452.. Val Linf norm: 215.930\n",
            "Epoch 10/82.. Train loss: 2.358.. Val loss: 2.344.. Train L1 norm: 1.855.. Val L1 norm: 2.312.. Train Linf norm: 135.558.. Val Linf norm: 236.650\n",
            "Epoch 11/82.. Train loss: 2.338.. Val loss: 2.324.. Train L1 norm: 1.949.. Val L1 norm: 2.448.. Train Linf norm: 143.982.. Val Linf norm: 258.747\n",
            "Epoch 12/82.. Train loss: 2.330.. Val loss: 2.313.. Train L1 norm: 2.040.. Val L1 norm: 2.573.. Train Linf norm: 162.443.. Val Linf norm: 278.969\n",
            "Epoch 13/82.. Train loss: 2.312.. Val loss: 2.294.. Train L1 norm: 2.132.. Val L1 norm: 2.715.. Train Linf norm: 170.050.. Val Linf norm: 301.636\n",
            "Epoch 14/82.. Train loss: 2.303.. Val loss: 2.278.. Train L1 norm: 2.231.. Val L1 norm: 2.856.. Train Linf norm: 182.066.. Val Linf norm: 324.010\n",
            "Epoch 15/82.. Train loss: 2.295.. Val loss: 2.276.. Train L1 norm: 2.307.. Val L1 norm: 2.892.. Train Linf norm: 193.150.. Val Linf norm: 329.678\n",
            "Epoch 16/82.. Train loss: 2.281.. Val loss: 2.268.. Train L1 norm: 2.337.. Val L1 norm: 2.943.. Train Linf norm: 196.293.. Val Linf norm: 337.790\n",
            "Epoch 17/82.. Train loss: 2.264.. Val loss: 2.254.. Train L1 norm: 2.385.. Val L1 norm: 3.018.. Train Linf norm: 196.701.. Val Linf norm: 349.408\n",
            "Epoch 18/82.. Train loss: 2.271.. Val loss: 2.250.. Train L1 norm: 2.437.. Val L1 norm: 3.067.. Train Linf norm: 217.857.. Val Linf norm: 357.122\n",
            "Epoch 19/82.. Train loss: 2.257.. Val loss: 2.243.. Train L1 norm: 2.478.. Val L1 norm: 3.133.. Train Linf norm: 208.009.. Val Linf norm: 367.444\n",
            "Epoch 20/82.. Train loss: 2.256.. Val loss: 2.238.. Train L1 norm: 2.521.. Val L1 norm: 3.204.. Train Linf norm: 219.622.. Val Linf norm: 378.632\n",
            "Epoch 21/82.. Train loss: 2.230.. Val loss: 2.201.. Train L1 norm: 2.605.. Val L1 norm: 3.384.. Train Linf norm: 230.684.. Val Linf norm: 406.470\n",
            "Epoch 22/82.. Train loss: 2.241.. Val loss: 2.202.. Train L1 norm: 2.713.. Val L1 norm: 3.442.. Train Linf norm: 249.875.. Val Linf norm: 415.852\n",
            "Epoch 23/82.. Train loss: 2.243.. Val loss: 2.186.. Train L1 norm: 2.723.. Val L1 norm: 3.550.. Train Linf norm: 247.826.. Val Linf norm: 432.612\n",
            "Epoch 24/82.. Train loss: 2.226.. Val loss: 2.207.. Train L1 norm: 2.852.. Val L1 norm: 3.577.. Train Linf norm: 266.689.. Val Linf norm: 437.151\n",
            "Epoch 25/82.. Train loss: 2.188.. Val loss: 2.137.. Train L1 norm: 2.945.. Val L1 norm: 3.982.. Train Linf norm: 280.839.. Val Linf norm: 501.783\n",
            "Epoch 26/82.. Train loss: 2.279.. Val loss: 2.152.. Train L1 norm: 2.949.. Val L1 norm: 3.868.. Train Linf norm: 289.327.. Val Linf norm: 483.619\n",
            "Epoch 27/82.. Train loss: 2.213.. Val loss: 2.152.. Train L1 norm: 3.012.. Val L1 norm: 3.946.. Train Linf norm: 282.360.. Val Linf norm: 496.215\n",
            "Epoch 28/82.. Train loss: 2.192.. Val loss: 2.174.. Train L1 norm: 3.097.. Val L1 norm: 3.994.. Train Linf norm: 291.289.. Val Linf norm: 503.566\n",
            "Epoch 29/82.. Train loss: 2.213.. Val loss: 2.166.. Train L1 norm: 3.076.. Val L1 norm: 4.027.. Train Linf norm: 299.411.. Val Linf norm: 508.949\n",
            "Epoch 30/82.. Train loss: 2.177.. Val loss: 2.131.. Train L1 norm: 3.157.. Val L1 norm: 4.169.. Train Linf norm: 299.746.. Val Linf norm: 531.935\n",
            "Epoch 31/82.. Train loss: 2.182.. Val loss: 2.137.. Train L1 norm: 3.229.. Val L1 norm: 4.173.. Train Linf norm: 315.313.. Val Linf norm: 532.590\n",
            "Epoch 32/82.. Train loss: 2.140.. Val loss: 2.118.. Train L1 norm: 3.284.. Val L1 norm: 4.318.. Train Linf norm: 318.906.. Val Linf norm: 555.854\n",
            "Epoch 33/82.. Train loss: 2.177.. Val loss: 2.123.. Train L1 norm: 3.336.. Val L1 norm: 4.313.. Train Linf norm: 331.048.. Val Linf norm: 555.061\n",
            "Epoch 34/82.. Train loss: 2.154.. Val loss: 2.121.. Train L1 norm: 3.332.. Val L1 norm: 4.363.. Train Linf norm: 318.288.. Val Linf norm: 563.257\n",
            "Epoch 35/82.. Train loss: 2.152.. Val loss: 2.120.. Train L1 norm: 3.330.. Val L1 norm: 4.408.. Train Linf norm: 329.711.. Val Linf norm: 570.427\n",
            "Epoch 36/82.. Train loss: 2.150.. Val loss: 2.122.. Train L1 norm: 3.376.. Val L1 norm: 4.441.. Train Linf norm: 325.887.. Val Linf norm: 575.786\n",
            "Epoch 37/82.. Train loss: 2.173.. Val loss: 2.112.. Train L1 norm: 3.376.. Val L1 norm: 4.499.. Train Linf norm: 329.280.. Val Linf norm: 585.079\n",
            "Epoch 38/82.. Train loss: 2.143.. Val loss: 2.104.. Train L1 norm: 3.403.. Val L1 norm: 4.581.. Train Linf norm: 328.756.. Val Linf norm: 598.217\n",
            "Epoch 39/82.. Train loss: 2.140.. Val loss: 2.101.. Train L1 norm: 3.437.. Val L1 norm: 4.639.. Train Linf norm: 346.870.. Val Linf norm: 607.415\n",
            "Epoch 40/82.. Train loss: 2.199.. Val loss: 2.104.. Train L1 norm: 3.481.. Val L1 norm: 4.606.. Train Linf norm: 352.428.. Val Linf norm: 602.199\n",
            "Epoch 41/82.. Train loss: 2.189.. Val loss: 2.102.. Train L1 norm: 3.443.. Val L1 norm: 4.615.. Train Linf norm: 340.325.. Val Linf norm: 603.402\n",
            "Epoch 42/82.. Train loss: 2.166.. Val loss: 2.103.. Train L1 norm: 3.471.. Val L1 norm: 4.621.. Train Linf norm: 336.742.. Val Linf norm: 604.339\n",
            "Epoch 43/82.. Train loss: 2.183.. Val loss: 2.105.. Train L1 norm: 3.489.. Val L1 norm: 4.610.. Train Linf norm: 349.287.. Val Linf norm: 602.581\n",
            "Epoch 44/82.. Train loss: 2.145.. Val loss: 2.105.. Train L1 norm: 3.465.. Val L1 norm: 4.619.. Train Linf norm: 321.390.. Val Linf norm: 604.127\n",
            "Epoch 45/82.. Train loss: 2.152.. Val loss: 2.107.. Train L1 norm: 3.465.. Val L1 norm: 4.621.. Train Linf norm: 334.763.. Val Linf norm: 604.409\n",
            "Epoch 46/82.. Train loss: 2.159.. Val loss: 2.108.. Train L1 norm: 3.484.. Val L1 norm: 4.620.. Train Linf norm: 347.289.. Val Linf norm: 604.188\n",
            "Epoch 47/82.. Train loss: 2.149.. Val loss: 2.109.. Train L1 norm: 3.465.. Val L1 norm: 4.624.. Train Linf norm: 339.660.. Val Linf norm: 604.875\n",
            "Epoch 48/82.. Train loss: 2.139.. Val loss: 2.109.. Train L1 norm: 3.500.. Val L1 norm: 4.633.. Train Linf norm: 351.482.. Val Linf norm: 606.326\n",
            "Epoch 49/82.. Train loss: 2.136.. Val loss: 2.099.. Train L1 norm: 3.521.. Val L1 norm: 4.692.. Train Linf norm: 358.765.. Val Linf norm: 615.817\n",
            "Epoch 50/82.. Train loss: 2.126.. Val loss: 2.099.. Train L1 norm: 3.543.. Val L1 norm: 4.706.. Train Linf norm: 348.956.. Val Linf norm: 617.918\n",
            "Epoch 51/82.. Train loss: 2.144.. Val loss: 2.100.. Train L1 norm: 3.519.. Val L1 norm: 4.706.. Train Linf norm: 349.282.. Val Linf norm: 618.055\n",
            "Epoch 52/82.. Train loss: 2.133.. Val loss: 2.101.. Train L1 norm: 3.553.. Val L1 norm: 4.712.. Train Linf norm: 343.199.. Val Linf norm: 618.891\n",
            "Epoch 53/82.. Train loss: 2.146.. Val loss: 2.095.. Train L1 norm: 3.560.. Val L1 norm: 4.750.. Train Linf norm: 353.640.. Val Linf norm: 624.965\n",
            "Epoch 54/82.. Train loss: 2.140.. Val loss: 2.096.. Train L1 norm: 3.569.. Val L1 norm: 4.751.. Train Linf norm: 355.310.. Val Linf norm: 625.217\n",
            "Epoch 55/82.. Train loss: 2.139.. Val loss: 2.097.. Train L1 norm: 3.596.. Val L1 norm: 4.751.. Train Linf norm: 364.273.. Val Linf norm: 625.151\n",
            "Epoch 56/82.. Train loss: 2.123.. Val loss: 2.091.. Train L1 norm: 3.613.. Val L1 norm: 4.798.. Train Linf norm: 352.545.. Val Linf norm: 632.646\n",
            "Epoch 57/82.. Train loss: 2.127.. Val loss: 2.091.. Train L1 norm: 3.598.. Val L1 norm: 4.800.. Train Linf norm: 353.674.. Val Linf norm: 632.899\n",
            "Epoch 58/82.. Train loss: 2.127.. Val loss: 2.092.. Train L1 norm: 3.595.. Val L1 norm: 4.798.. Train Linf norm: 357.546.. Val Linf norm: 632.580\n",
            "Epoch 59/82.. Train loss: 2.120.. Val loss: 2.092.. Train L1 norm: 3.614.. Val L1 norm: 4.799.. Train Linf norm: 357.949.. Val Linf norm: 632.740\n",
            "Epoch 60/82.. Train loss: 2.117.. Val loss: 2.090.. Train L1 norm: 3.623.. Val L1 norm: 4.818.. Train Linf norm: 367.453.. Val Linf norm: 635.721\n",
            "Epoch 61/82.. Train loss: 2.112.. Val loss: 2.089.. Train L1 norm: 3.618.. Val L1 norm: 4.831.. Train Linf norm: 356.869.. Val Linf norm: 637.928\n",
            "Epoch 62/82.. Train loss: 2.129.. Val loss: 2.089.. Train L1 norm: 3.629.. Val L1 norm: 4.832.. Train Linf norm: 367.493.. Val Linf norm: 637.997\n",
            "Epoch 63/82.. Train loss: 2.148.. Val loss: 2.089.. Train L1 norm: 3.630.. Val L1 norm: 4.831.. Train Linf norm: 365.842.. Val Linf norm: 637.892\n",
            "Epoch 64/82.. Train loss: 2.137.. Val loss: 2.090.. Train L1 norm: 3.631.. Val L1 norm: 4.827.. Train Linf norm: 367.423.. Val Linf norm: 637.252\n",
            "Epoch 65/82.. Train loss: 2.123.. Val loss: 2.089.. Train L1 norm: 3.646.. Val L1 norm: 4.838.. Train Linf norm: 348.900.. Val Linf norm: 638.943\n",
            "Epoch 66/82.. Train loss: 2.120.. Val loss: 2.090.. Train L1 norm: 3.616.. Val L1 norm: 4.835.. Train Linf norm: 358.234.. Val Linf norm: 638.542\n",
            "Epoch 67/82.. Train loss: 2.135.. Val loss: 2.088.. Train L1 norm: 3.669.. Val L1 norm: 4.846.. Train Linf norm: 365.035.. Val Linf norm: 640.271\n",
            "Epoch 68/82.. Train loss: 2.152.. Val loss: 2.089.. Train L1 norm: 3.651.. Val L1 norm: 4.844.. Train Linf norm: 362.115.. Val Linf norm: 639.895\n",
            "Epoch 69/82.. Train loss: 2.116.. Val loss: 2.087.. Train L1 norm: 3.619.. Val L1 norm: 4.857.. Train Linf norm: 361.413.. Val Linf norm: 641.936\n",
            "Epoch 70/82.. Train loss: 2.151.. Val loss: 2.087.. Train L1 norm: 3.665.. Val L1 norm: 4.856.. Train Linf norm: 374.013.. Val Linf norm: 641.841\n",
            "Epoch 71/82.. Train loss: 2.139.. Val loss: 2.088.. Train L1 norm: 3.639.. Val L1 norm: 4.856.. Train Linf norm: 351.226.. Val Linf norm: 641.766\n",
            "Epoch 72/82.. Train loss: 2.151.. Val loss: 2.088.. Train L1 norm: 3.638.. Val L1 norm: 4.856.. Train Linf norm: 362.831.. Val Linf norm: 641.743\n",
            "Epoch 73/82.. Train loss: 2.136.. Val loss: 2.087.. Train L1 norm: 3.630.. Val L1 norm: 4.857.. Train Linf norm: 362.996.. Val Linf norm: 642.022\n",
            "Epoch 74/82.. Train loss: 2.109.. Val loss: 2.088.. Train L1 norm: 3.628.. Val L1 norm: 4.857.. Train Linf norm: 346.812.. Val Linf norm: 641.962\n",
            "Epoch 75/82.. Train loss: 2.148.. Val loss: 2.088.. Train L1 norm: 3.644.. Val L1 norm: 4.855.. Train Linf norm: 368.827.. Val Linf norm: 641.655\n",
            "Epoch 76/82.. Train loss: 2.134.. Val loss: 2.088.. Train L1 norm: 3.645.. Val L1 norm: 4.855.. Train Linf norm: 370.975.. Val Linf norm: 641.613\n",
            "Epoch 77/82.. Train loss: 2.149.. Val loss: 2.088.. Train L1 norm: 3.653.. Val L1 norm: 4.854.. Train Linf norm: 365.464.. Val Linf norm: 641.502\n",
            "Epoch 78/82.. Train loss: 2.133.. Val loss: 2.088.. Train L1 norm: 3.644.. Val L1 norm: 4.853.. Train Linf norm: 362.637.. Val Linf norm: 641.364\n",
            "Epoch 79/82.. Train loss: 2.119.. Val loss: 2.088.. Train L1 norm: 3.637.. Val L1 norm: 4.853.. Train Linf norm: 352.084.. Val Linf norm: 641.298\n",
            "Epoch 80/82.. Train loss: 2.164.. Val loss: 2.088.. Train L1 norm: 3.638.. Val L1 norm: 4.851.. Train Linf norm: 372.140.. Val Linf norm: 640.981\n",
            "Epoch 81/82.. Train loss: 2.147.. Val loss: 2.089.. Train L1 norm: 3.652.. Val L1 norm: 4.849.. Train Linf norm: 378.278.. Val Linf norm: 640.742\n"
          ]
        },
        {
          "output_type": "stream",
          "name": "stderr",
          "text": [
            "[I 2023-05-30 12:45:31,880] Trial 63 finished with value: 4.848515558433533 and parameters: {'n_layers': 10, 'n_units_0': 2191, 'n_units_1': 2282, 'n_units_2': 3059, 'n_units_3': 1044, 'n_units_4': 1630, 'n_units_5': 344, 'n_units_6': 1858, 'n_units_7': 2791, 'n_units_8': 2787, 'n_units_9': 728, 'hidden_activation': 'GELU', 'output_activation': 'Linear', 'loss': 'Quantile', 'optimizer': 'SGD', 'lr': 0.00034623419327599965, 'batch_size': 256, 'n_epochs': 82, 'scheduler': 'StepLR', 'dropout_rate': 0.24123082920450992, 'weight_decay': 0.00016696118849108524, 'momentum': 0.7624208500007327, 'step_size': 14, 'gamma': 0.26671467949583627}. Best is trial 13 with value: 1.4059733067830404.\n"
          ]
        },
        {
          "output_type": "stream",
          "name": "stdout",
          "text": [
            "Epoch 82/82.. Train loss: 2.125.. Val loss: 2.089.. Train L1 norm: 3.643.. Val L1 norm: 4.849.. Train Linf norm: 369.265.. Val Linf norm: 640.650\n",
            "Epoch 1/133.. Train loss: 2.538.. Val loss: 2.512.. Train L1 norm: 1.022.. Val L1 norm: 1.097.. Train Linf norm: 6.709.. Val Linf norm: 23.272\n",
            "Epoch 2/133.. Train loss: 2.512.. Val loss: 2.490.. Train L1 norm: 1.093.. Val L1 norm: 1.218.. Train Linf norm: 20.833.. Val Linf norm: 47.599\n",
            "Epoch 3/133.. Train loss: 2.494.. Val loss: 2.470.. Train L1 norm: 1.177.. Val L1 norm: 1.343.. Train Linf norm: 34.148.. Val Linf norm: 70.904\n",
            "Epoch 4/133.. Train loss: 2.472.. Val loss: 2.451.. Train L1 norm: 1.263.. Val L1 norm: 1.469.. Train Linf norm: 49.604.. Val Linf norm: 93.711\n",
            "Epoch 5/133.. Train loss: 2.451.. Val loss: 2.433.. Train L1 norm: 1.349.. Val L1 norm: 1.595.. Train Linf norm: 62.149.. Val Linf norm: 116.038\n",
            "Epoch 6/133.. Train loss: 2.431.. Val loss: 2.414.. Train L1 norm: 1.437.. Val L1 norm: 1.723.. Train Linf norm: 76.500.. Val Linf norm: 138.208\n",
            "Epoch 7/133.. Train loss: 2.418.. Val loss: 2.399.. Train L1 norm: 1.527.. Val L1 norm: 1.847.. Train Linf norm: 89.927.. Val Linf norm: 159.279\n",
            "Epoch 8/133.. Train loss: 2.401.. Val loss: 2.384.. Train L1 norm: 1.609.. Val L1 norm: 1.969.. Train Linf norm: 101.452.. Val Linf norm: 179.967\n",
            "Epoch 9/133.. Train loss: 2.385.. Val loss: 2.369.. Train L1 norm: 1.702.. Val L1 norm: 2.091.. Train Linf norm: 115.503.. Val Linf norm: 200.206\n",
            "Epoch 10/133.. Train loss: 2.367.. Val loss: 2.352.. Train L1 norm: 1.785.. Val L1 norm: 2.216.. Train Linf norm: 128.777.. Val Linf norm: 220.900\n",
            "Epoch 11/133.. Train loss: 2.361.. Val loss: 2.341.. Train L1 norm: 1.872.. Val L1 norm: 2.331.. Train Linf norm: 140.431.. Val Linf norm: 239.707\n",
            "Epoch 12/133.. Train loss: 2.342.. Val loss: 2.329.. Train L1 norm: 1.960.. Val L1 norm: 2.450.. Train Linf norm: 147.503.. Val Linf norm: 259.039\n",
            "Epoch 13/133.. Train loss: 2.323.. Val loss: 2.309.. Train L1 norm: 2.043.. Val L1 norm: 2.581.. Train Linf norm: 158.410.. Val Linf norm: 280.220\n",
            "Epoch 14/133.. Train loss: 2.322.. Val loss: 2.307.. Train L1 norm: 2.115.. Val L1 norm: 2.612.. Train Linf norm: 166.688.. Val Linf norm: 285.181\n",
            "Epoch 15/133.. Train loss: 2.318.. Val loss: 2.304.. Train L1 norm: 2.136.. Val L1 norm: 2.644.. Train Linf norm: 175.209.. Val Linf norm: 290.214\n",
            "Epoch 16/133.. Train loss: 2.309.. Val loss: 2.300.. Train L1 norm: 2.155.. Val L1 norm: 2.678.. Train Linf norm: 174.709.. Val Linf norm: 295.695\n",
            "Epoch 17/133.. Train loss: 2.303.. Val loss: 2.297.. Train L1 norm: 2.181.. Val L1 norm: 2.713.. Train Linf norm: 184.221.. Val Linf norm: 301.337\n",
            "Epoch 18/133.. Train loss: 2.297.. Val loss: 2.292.. Train L1 norm: 2.208.. Val L1 norm: 2.752.. Train Linf norm: 185.943.. Val Linf norm: 307.422\n",
            "Epoch 19/133.. Train loss: 2.302.. Val loss: 2.291.. Train L1 norm: 2.236.. Val L1 norm: 2.785.. Train Linf norm: 186.884.. Val Linf norm: 312.610\n",
            "Epoch 20/133.. Train loss: 2.295.. Val loss: 2.286.. Train L1 norm: 2.256.. Val L1 norm: 2.825.. Train Linf norm: 186.261.. Val Linf norm: 318.915\n",
            "Epoch 21/133.. Train loss: 2.288.. Val loss: 2.279.. Train L1 norm: 2.288.. Val L1 norm: 2.868.. Train Linf norm: 192.349.. Val Linf norm: 325.831\n",
            "Epoch 22/133.. Train loss: 2.286.. Val loss: 2.276.. Train L1 norm: 2.325.. Val L1 norm: 2.907.. Train Linf norm: 191.486.. Val Linf norm: 331.957\n",
            "Epoch 23/133.. Train loss: 2.274.. Val loss: 2.270.. Train L1 norm: 2.352.. Val L1 norm: 2.957.. Train Linf norm: 202.777.. Val Linf norm: 339.667\n",
            "Epoch 24/133.. Train loss: 2.283.. Val loss: 2.263.. Train L1 norm: 2.381.. Val L1 norm: 3.004.. Train Linf norm: 199.150.. Val Linf norm: 347.019\n",
            "Epoch 25/133.. Train loss: 2.272.. Val loss: 2.258.. Train L1 norm: 2.431.. Val L1 norm: 3.055.. Train Linf norm: 214.840.. Val Linf norm: 354.949\n",
            "Epoch 26/133.. Train loss: 2.260.. Val loss: 2.251.. Train L1 norm: 2.456.. Val L1 norm: 3.118.. Train Linf norm: 217.176.. Val Linf norm: 364.762\n",
            "Epoch 27/133.. Train loss: 2.253.. Val loss: 2.247.. Train L1 norm: 2.486.. Val L1 norm: 3.139.. Train Linf norm: 220.980.. Val Linf norm: 368.142\n",
            "Epoch 28/133.. Train loss: 2.251.. Val loss: 2.244.. Train L1 norm: 2.511.. Val L1 norm: 3.159.. Train Linf norm: 227.698.. Val Linf norm: 371.150\n",
            "Epoch 29/133.. Train loss: 2.253.. Val loss: 2.242.. Train L1 norm: 2.521.. Val L1 norm: 3.177.. Train Linf norm: 227.605.. Val Linf norm: 374.035\n",
            "Epoch 30/133.. Train loss: 2.247.. Val loss: 2.240.. Train L1 norm: 2.532.. Val L1 norm: 3.197.. Train Linf norm: 225.438.. Val Linf norm: 377.129\n",
            "Epoch 31/133.. Train loss: 2.254.. Val loss: 2.238.. Train L1 norm: 2.551.. Val L1 norm: 3.215.. Train Linf norm: 215.998.. Val Linf norm: 379.856\n",
            "Epoch 32/133.. Train loss: 2.237.. Val loss: 2.231.. Train L1 norm: 2.567.. Val L1 norm: 3.248.. Train Linf norm: 231.435.. Val Linf norm: 385.066\n",
            "Epoch 33/133.. Train loss: 2.239.. Val loss: 2.228.. Train L1 norm: 2.581.. Val L1 norm: 3.272.. Train Linf norm: 223.286.. Val Linf norm: 388.787\n",
            "Epoch 34/133.. Train loss: 2.238.. Val loss: 2.226.. Train L1 norm: 2.602.. Val L1 norm: 3.295.. Train Linf norm: 238.722.. Val Linf norm: 392.344\n",
            "Epoch 35/133.. Train loss: 2.247.. Val loss: 2.223.. Train L1 norm: 2.622.. Val L1 norm: 3.317.. Train Linf norm: 235.099.. Val Linf norm: 395.793\n",
            "Epoch 36/133.. Train loss: 2.230.. Val loss: 2.221.. Train L1 norm: 2.629.. Val L1 norm: 3.340.. Train Linf norm: 240.477.. Val Linf norm: 399.487\n",
            "Epoch 37/133.. Train loss: 2.235.. Val loss: 2.222.. Train L1 norm: 2.639.. Val L1 norm: 3.356.. Train Linf norm: 243.135.. Val Linf norm: 402.063\n",
            "Epoch 38/133.. Train loss: 2.243.. Val loss: 2.222.. Train L1 norm: 2.671.. Val L1 norm: 3.375.. Train Linf norm: 246.107.. Val Linf norm: 405.030\n",
            "Epoch 39/133.. Train loss: 2.232.. Val loss: 2.218.. Train L1 norm: 2.661.. Val L1 norm: 3.400.. Train Linf norm: 243.000.. Val Linf norm: 409.028\n",
            "Epoch 40/133.. Train loss: 2.233.. Val loss: 2.218.. Train L1 norm: 2.681.. Val L1 norm: 3.405.. Train Linf norm: 247.743.. Val Linf norm: 409.831\n",
            "Epoch 41/133.. Train loss: 2.227.. Val loss: 2.218.. Train L1 norm: 2.680.. Val L1 norm: 3.412.. Train Linf norm: 241.036.. Val Linf norm: 410.915\n",
            "Epoch 42/133.. Train loss: 2.233.. Val loss: 2.217.. Train L1 norm: 2.677.. Val L1 norm: 3.419.. Train Linf norm: 245.430.. Val Linf norm: 411.957\n",
            "Epoch 43/133.. Train loss: 2.228.. Val loss: 2.213.. Train L1 norm: 2.694.. Val L1 norm: 3.432.. Train Linf norm: 247.342.. Val Linf norm: 413.979\n",
            "Epoch 44/133.. Train loss: 2.222.. Val loss: 2.212.. Train L1 norm: 2.707.. Val L1 norm: 3.441.. Train Linf norm: 247.827.. Val Linf norm: 415.456\n",
            "Epoch 45/133.. Train loss: 2.232.. Val loss: 2.211.. Train L1 norm: 2.708.. Val L1 norm: 3.448.. Train Linf norm: 241.657.. Val Linf norm: 416.548\n",
            "Epoch 46/133.. Train loss: 2.226.. Val loss: 2.210.. Train L1 norm: 2.704.. Val L1 norm: 3.456.. Train Linf norm: 250.164.. Val Linf norm: 417.699\n",
            "Epoch 47/133.. Train loss: 2.215.. Val loss: 2.206.. Train L1 norm: 2.722.. Val L1 norm: 3.474.. Train Linf norm: 251.657.. Val Linf norm: 420.466\n",
            "Epoch 48/133.. Train loss: 2.223.. Val loss: 2.206.. Train L1 norm: 2.728.. Val L1 norm: 3.480.. Train Linf norm: 246.320.. Val Linf norm: 421.495\n",
            "Epoch 49/133.. Train loss: 2.229.. Val loss: 2.206.. Train L1 norm: 2.739.. Val L1 norm: 3.485.. Train Linf norm: 248.904.. Val Linf norm: 422.287\n",
            "Epoch 50/133.. Train loss: 2.216.. Val loss: 2.205.. Train L1 norm: 2.743.. Val L1 norm: 3.493.. Train Linf norm: 257.589.. Val Linf norm: 423.559\n",
            "Epoch 51/133.. Train loss: 2.222.. Val loss: 2.204.. Train L1 norm: 2.742.. Val L1 norm: 3.502.. Train Linf norm: 251.938.. Val Linf norm: 424.934\n",
            "Epoch 52/133.. Train loss: 2.214.. Val loss: 2.203.. Train L1 norm: 2.750.. Val L1 norm: 3.511.. Train Linf norm: 252.603.. Val Linf norm: 426.354\n",
            "Epoch 53/133.. Train loss: 2.221.. Val loss: 2.203.. Train L1 norm: 2.751.. Val L1 norm: 3.513.. Train Linf norm: 253.616.. Val Linf norm: 426.672\n",
            "Epoch 54/133.. Train loss: 2.211.. Val loss: 2.202.. Train L1 norm: 2.748.. Val L1 norm: 3.516.. Train Linf norm: 254.370.. Val Linf norm: 427.101\n",
            "Epoch 55/133.. Train loss: 2.224.. Val loss: 2.202.. Train L1 norm: 2.756.. Val L1 norm: 3.518.. Train Linf norm: 259.273.. Val Linf norm: 427.421\n",
            "Epoch 56/133.. Train loss: 2.220.. Val loss: 2.201.. Train L1 norm: 2.764.. Val L1 norm: 3.521.. Train Linf norm: 248.099.. Val Linf norm: 427.959\n",
            "Epoch 57/133.. Train loss: 2.224.. Val loss: 2.201.. Train L1 norm: 2.756.. Val L1 norm: 3.524.. Train Linf norm: 258.810.. Val Linf norm: 428.324\n",
            "Epoch 58/133.. Train loss: 2.224.. Val loss: 2.201.. Train L1 norm: 2.766.. Val L1 norm: 3.525.. Train Linf norm: 250.960.. Val Linf norm: 428.602\n",
            "Epoch 59/133.. Train loss: 2.215.. Val loss: 2.201.. Train L1 norm: 2.766.. Val L1 norm: 3.527.. Train Linf norm: 249.758.. Val Linf norm: 428.919\n",
            "Epoch 60/133.. Train loss: 2.211.. Val loss: 2.200.. Train L1 norm: 2.764.. Val L1 norm: 3.532.. Train Linf norm: 253.434.. Val Linf norm: 429.587\n",
            "Epoch 61/133.. Train loss: 2.222.. Val loss: 2.200.. Train L1 norm: 2.768.. Val L1 norm: 3.533.. Train Linf norm: 257.305.. Val Linf norm: 429.854\n",
            "Epoch 62/133.. Train loss: 2.211.. Val loss: 2.200.. Train L1 norm: 2.773.. Val L1 norm: 3.536.. Train Linf norm: 258.326.. Val Linf norm: 430.197\n",
            "Epoch 63/133.. Train loss: 2.207.. Val loss: 2.199.. Train L1 norm: 2.766.. Val L1 norm: 3.539.. Train Linf norm: 256.057.. Val Linf norm: 430.684\n",
            "Epoch 64/133.. Train loss: 2.211.. Val loss: 2.198.. Train L1 norm: 2.775.. Val L1 norm: 3.543.. Train Linf norm: 258.242.. Val Linf norm: 431.328\n",
            "Epoch 65/133.. Train loss: 2.211.. Val loss: 2.198.. Train L1 norm: 2.765.. Val L1 norm: 3.545.. Train Linf norm: 250.506.. Val Linf norm: 431.671\n",
            "Epoch 66/133.. Train loss: 2.207.. Val loss: 2.198.. Train L1 norm: 2.789.. Val L1 norm: 3.546.. Train Linf norm: 266.144.. Val Linf norm: 431.826\n",
            "Epoch 67/133.. Train loss: 2.211.. Val loss: 2.198.. Train L1 norm: 2.777.. Val L1 norm: 3.547.. Train Linf norm: 250.355.. Val Linf norm: 431.977\n",
            "Epoch 68/133.. Train loss: 2.219.. Val loss: 2.198.. Train L1 norm: 2.781.. Val L1 norm: 3.547.. Train Linf norm: 258.656.. Val Linf norm: 432.023\n",
            "Epoch 69/133.. Train loss: 2.218.. Val loss: 2.198.. Train L1 norm: 2.785.. Val L1 norm: 3.548.. Train Linf norm: 259.755.. Val Linf norm: 432.062\n",
            "Epoch 70/133.. Train loss: 2.213.. Val loss: 2.198.. Train L1 norm: 2.782.. Val L1 norm: 3.548.. Train Linf norm: 263.616.. Val Linf norm: 432.148\n",
            "Epoch 71/133.. Train loss: 2.217.. Val loss: 2.198.. Train L1 norm: 2.789.. Val L1 norm: 3.548.. Train Linf norm: 265.992.. Val Linf norm: 432.199\n",
            "Epoch 72/133.. Train loss: 2.214.. Val loss: 2.198.. Train L1 norm: 2.775.. Val L1 norm: 3.549.. Train Linf norm: 254.961.. Val Linf norm: 432.279\n",
            "Epoch 73/133.. Train loss: 2.213.. Val loss: 2.198.. Train L1 norm: 2.787.. Val L1 norm: 3.549.. Train Linf norm: 258.651.. Val Linf norm: 432.349\n",
            "Epoch 74/133.. Train loss: 2.220.. Val loss: 2.197.. Train L1 norm: 2.778.. Val L1 norm: 3.550.. Train Linf norm: 256.262.. Val Linf norm: 432.478\n",
            "Epoch 75/133.. Train loss: 2.208.. Val loss: 2.197.. Train L1 norm: 2.782.. Val L1 norm: 3.551.. Train Linf norm: 246.659.. Val Linf norm: 432.535\n",
            "Epoch 76/133.. Train loss: 2.217.. Val loss: 2.197.. Train L1 norm: 2.780.. Val L1 norm: 3.551.. Train Linf norm: 253.877.. Val Linf norm: 432.576\n",
            "Epoch 77/133.. Train loss: 2.210.. Val loss: 2.197.. Train L1 norm: 2.784.. Val L1 norm: 3.551.. Train Linf norm: 261.328.. Val Linf norm: 432.654\n",
            "Epoch 78/133.. Train loss: 2.221.. Val loss: 2.197.. Train L1 norm: 2.789.. Val L1 norm: 3.552.. Train Linf norm: 258.044.. Val Linf norm: 432.705\n",
            "Epoch 79/133.. Train loss: 2.209.. Val loss: 2.197.. Train L1 norm: 2.777.. Val L1 norm: 3.552.. Train Linf norm: 250.206.. Val Linf norm: 432.705\n",
            "Epoch 80/133.. Train loss: 2.226.. Val loss: 2.197.. Train L1 norm: 2.789.. Val L1 norm: 3.552.. Train Linf norm: 256.073.. Val Linf norm: 432.699\n",
            "Epoch 81/133.. Train loss: 2.223.. Val loss: 2.197.. Train L1 norm: 2.787.. Val L1 norm: 3.552.. Train Linf norm: 259.660.. Val Linf norm: 432.693\n",
            "Epoch 82/133.. Train loss: 2.215.. Val loss: 2.197.. Train L1 norm: 2.785.. Val L1 norm: 3.552.. Train Linf norm: 259.765.. Val Linf norm: 432.693\n",
            "Epoch 83/133.. Train loss: 2.233.. Val loss: 2.197.. Train L1 norm: 2.788.. Val L1 norm: 3.552.. Train Linf norm: 259.816.. Val Linf norm: 432.684\n",
            "Epoch 84/133.. Train loss: 2.228.. Val loss: 2.197.. Train L1 norm: 2.780.. Val L1 norm: 3.552.. Train Linf norm: 258.122.. Val Linf norm: 432.681\n",
            "Epoch 85/133.. Train loss: 2.223.. Val loss: 2.197.. Train L1 norm: 2.782.. Val L1 norm: 3.552.. Train Linf norm: 252.247.. Val Linf norm: 432.680\n",
            "Epoch 86/133.. Train loss: 2.216.. Val loss: 2.197.. Train L1 norm: 2.773.. Val L1 norm: 3.552.. Train Linf norm: 258.338.. Val Linf norm: 432.684\n",
            "Epoch 87/133.. Train loss: 2.209.. Val loss: 2.197.. Train L1 norm: 2.774.. Val L1 norm: 3.552.. Train Linf norm: 256.174.. Val Linf norm: 432.691\n",
            "Epoch 88/133.. Train loss: 2.216.. Val loss: 2.197.. Train L1 norm: 2.781.. Val L1 norm: 3.552.. Train Linf norm: 260.167.. Val Linf norm: 432.698\n",
            "Epoch 89/133.. Train loss: 2.211.. Val loss: 2.197.. Train L1 norm: 2.790.. Val L1 norm: 3.552.. Train Linf norm: 266.589.. Val Linf norm: 432.703\n",
            "Epoch 90/133.. Train loss: 2.224.. Val loss: 2.198.. Train L1 norm: 2.774.. Val L1 norm: 3.552.. Train Linf norm: 262.441.. Val Linf norm: 432.700\n",
            "Epoch 91/133.. Train loss: 2.215.. Val loss: 2.198.. Train L1 norm: 2.779.. Val L1 norm: 3.552.. Train Linf norm: 257.982.. Val Linf norm: 432.712\n",
            "Epoch 92/133.. Train loss: 2.218.. Val loss: 2.198.. Train L1 norm: 2.778.. Val L1 norm: 3.552.. Train Linf norm: 250.310.. Val Linf norm: 432.710\n",
            "Epoch 93/133.. Train loss: 2.220.. Val loss: 2.198.. Train L1 norm: 2.777.. Val L1 norm: 3.552.. Train Linf norm: 244.230.. Val Linf norm: 432.705\n",
            "Epoch 94/133.. Train loss: 2.215.. Val loss: 2.198.. Train L1 norm: 2.781.. Val L1 norm: 3.552.. Train Linf norm: 255.516.. Val Linf norm: 432.701\n",
            "Epoch 95/133.. Train loss: 2.224.. Val loss: 2.198.. Train L1 norm: 2.787.. Val L1 norm: 3.552.. Train Linf norm: 259.457.. Val Linf norm: 432.695\n",
            "Epoch 96/133.. Train loss: 2.217.. Val loss: 2.198.. Train L1 norm: 2.794.. Val L1 norm: 3.552.. Train Linf norm: 253.642.. Val Linf norm: 432.698\n",
            "Epoch 97/133.. Train loss: 2.224.. Val loss: 2.198.. Train L1 norm: 2.781.. Val L1 norm: 3.552.. Train Linf norm: 262.832.. Val Linf norm: 432.693\n",
            "Epoch 98/133.. Train loss: 2.223.. Val loss: 2.198.. Train L1 norm: 2.771.. Val L1 norm: 3.552.. Train Linf norm: 256.261.. Val Linf norm: 432.688\n",
            "Epoch 99/133.. Train loss: 2.208.. Val loss: 2.198.. Train L1 norm: 2.785.. Val L1 norm: 3.552.. Train Linf norm: 245.690.. Val Linf norm: 432.685\n",
            "Epoch 100/133.. Train loss: 2.215.. Val loss: 2.198.. Train L1 norm: 2.789.. Val L1 norm: 3.552.. Train Linf norm: 255.944.. Val Linf norm: 432.680\n",
            "Epoch 101/133.. Train loss: 2.220.. Val loss: 2.198.. Train L1 norm: 2.788.. Val L1 norm: 3.552.. Train Linf norm: 260.399.. Val Linf norm: 432.675\n",
            "Epoch 102/133.. Train loss: 2.214.. Val loss: 2.198.. Train L1 norm: 2.787.. Val L1 norm: 3.551.. Train Linf norm: 265.470.. Val Linf norm: 432.671\n",
            "Epoch 103/133.. Train loss: 2.215.. Val loss: 2.198.. Train L1 norm: 2.784.. Val L1 norm: 3.551.. Train Linf norm: 252.554.. Val Linf norm: 432.668\n",
            "Epoch 104/133.. Train loss: 2.225.. Val loss: 2.198.. Train L1 norm: 2.783.. Val L1 norm: 3.551.. Train Linf norm: 257.487.. Val Linf norm: 432.662\n",
            "Epoch 105/133.. Train loss: 2.215.. Val loss: 2.198.. Train L1 norm: 2.778.. Val L1 norm: 3.551.. Train Linf norm: 251.952.. Val Linf norm: 432.661\n",
            "Epoch 106/133.. Train loss: 2.219.. Val loss: 2.198.. Train L1 norm: 2.781.. Val L1 norm: 3.551.. Train Linf norm: 258.095.. Val Linf norm: 432.659\n",
            "Epoch 107/133.. Train loss: 2.213.. Val loss: 2.198.. Train L1 norm: 2.780.. Val L1 norm: 3.551.. Train Linf norm: 260.249.. Val Linf norm: 432.658\n",
            "Epoch 108/133.. Train loss: 2.226.. Val loss: 2.198.. Train L1 norm: 2.781.. Val L1 norm: 3.551.. Train Linf norm: 254.649.. Val Linf norm: 432.657\n",
            "Epoch 109/133.. Train loss: 2.220.. Val loss: 2.198.. Train L1 norm: 2.793.. Val L1 norm: 3.551.. Train Linf norm: 259.589.. Val Linf norm: 432.655\n",
            "Epoch 110/133.. Train loss: 2.208.. Val loss: 2.198.. Train L1 norm: 2.777.. Val L1 norm: 3.551.. Train Linf norm: 258.043.. Val Linf norm: 432.654\n",
            "Epoch 111/133.. Train loss: 2.218.. Val loss: 2.198.. Train L1 norm: 2.789.. Val L1 norm: 3.551.. Train Linf norm: 257.609.. Val Linf norm: 432.652\n",
            "Epoch 112/133.. Train loss: 2.209.. Val loss: 2.198.. Train L1 norm: 2.779.. Val L1 norm: 3.551.. Train Linf norm: 251.041.. Val Linf norm: 432.653\n",
            "Epoch 113/133.. Train loss: 2.229.. Val loss: 2.198.. Train L1 norm: 2.793.. Val L1 norm: 3.551.. Train Linf norm: 263.990.. Val Linf norm: 432.651\n",
            "Epoch 114/133.. Train loss: 2.212.. Val loss: 2.198.. Train L1 norm: 2.777.. Val L1 norm: 3.551.. Train Linf norm: 257.185.. Val Linf norm: 432.649\n",
            "Epoch 115/133.. Train loss: 2.222.. Val loss: 2.198.. Train L1 norm: 2.785.. Val L1 norm: 3.551.. Train Linf norm: 265.545.. Val Linf norm: 432.647\n",
            "Epoch 116/133.. Train loss: 2.211.. Val loss: 2.198.. Train L1 norm: 2.781.. Val L1 norm: 3.551.. Train Linf norm: 253.575.. Val Linf norm: 432.646\n",
            "Epoch 117/133.. Train loss: 2.220.. Val loss: 2.198.. Train L1 norm: 2.781.. Val L1 norm: 3.551.. Train Linf norm: 265.450.. Val Linf norm: 432.645\n",
            "Epoch 118/133.. Train loss: 2.220.. Val loss: 2.198.. Train L1 norm: 2.788.. Val L1 norm: 3.551.. Train Linf norm: 251.395.. Val Linf norm: 432.645\n",
            "Epoch 119/133.. Train loss: 2.211.. Val loss: 2.198.. Train L1 norm: 2.782.. Val L1 norm: 3.551.. Train Linf norm: 258.108.. Val Linf norm: 432.644\n",
            "Epoch 120/133.. Train loss: 2.217.. Val loss: 2.198.. Train L1 norm: 2.791.. Val L1 norm: 3.551.. Train Linf norm: 258.396.. Val Linf norm: 432.644\n",
            "Epoch 121/133.. Train loss: 2.211.. Val loss: 2.198.. Train L1 norm: 2.781.. Val L1 norm: 3.551.. Train Linf norm: 260.850.. Val Linf norm: 432.644\n",
            "Epoch 122/133.. Train loss: 2.222.. Val loss: 2.198.. Train L1 norm: 2.787.. Val L1 norm: 3.551.. Train Linf norm: 263.658.. Val Linf norm: 432.643\n",
            "Epoch 123/133.. Train loss: 2.211.. Val loss: 2.198.. Train L1 norm: 2.777.. Val L1 norm: 3.551.. Train Linf norm: 259.522.. Val Linf norm: 432.643\n",
            "Epoch 124/133.. Train loss: 2.216.. Val loss: 2.198.. Train L1 norm: 2.784.. Val L1 norm: 3.551.. Train Linf norm: 255.220.. Val Linf norm: 432.643\n",
            "Epoch 125/133.. Train loss: 2.209.. Val loss: 2.198.. Train L1 norm: 2.778.. Val L1 norm: 3.551.. Train Linf norm: 246.864.. Val Linf norm: 432.643\n",
            "Epoch 126/133.. Train loss: 2.210.. Val loss: 2.198.. Train L1 norm: 2.782.. Val L1 norm: 3.551.. Train Linf norm: 258.530.. Val Linf norm: 432.643\n",
            "Epoch 127/133.. Train loss: 2.208.. Val loss: 2.198.. Train L1 norm: 2.783.. Val L1 norm: 3.551.. Train Linf norm: 258.404.. Val Linf norm: 432.643\n",
            "Epoch 128/133.. Train loss: 2.209.. Val loss: 2.198.. Train L1 norm: 2.788.. Val L1 norm: 3.551.. Train Linf norm: 265.042.. Val Linf norm: 432.643\n",
            "Epoch 129/133.. Train loss: 2.224.. Val loss: 2.198.. Train L1 norm: 2.785.. Val L1 norm: 3.551.. Train Linf norm: 261.677.. Val Linf norm: 432.642\n",
            "Epoch 130/133.. Train loss: 2.215.. Val loss: 2.198.. Train L1 norm: 2.781.. Val L1 norm: 3.551.. Train Linf norm: 253.411.. Val Linf norm: 432.642\n",
            "Epoch 131/133.. Train loss: 2.220.. Val loss: 2.198.. Train L1 norm: 2.789.. Val L1 norm: 3.551.. Train Linf norm: 257.427.. Val Linf norm: 432.642\n",
            "Epoch 132/133.. Train loss: 2.214.. Val loss: 2.198.. Train L1 norm: 2.779.. Val L1 norm: 3.551.. Train Linf norm: 256.884.. Val Linf norm: 432.642\n"
          ]
        },
        {
          "output_type": "stream",
          "name": "stderr",
          "text": [
            "[I 2023-05-30 13:00:56,327] Trial 64 finished with value: 3.5512808118184407 and parameters: {'n_layers': 10, 'n_units_0': 3405, 'n_units_1': 2448, 'n_units_2': 3898, 'n_units_3': 1637, 'n_units_4': 1753, 'n_units_5': 598, 'n_units_6': 612, 'n_units_7': 2605, 'n_units_8': 2236, 'n_units_9': 192, 'hidden_activation': 'GELU', 'output_activation': 'Linear', 'loss': 'Quantile', 'optimizer': 'SGD', 'lr': 0.0006041789917407939, 'batch_size': 256, 'n_epochs': 133, 'scheduler': 'StepLR', 'dropout_rate': 0.25380948291095506, 'weight_decay': 0.0001527010739562725, 'momentum': 0.5583177484269686, 'step_size': 13, 'gamma': 0.26745106138316693}. Best is trial 13 with value: 1.4059733067830404.\n"
          ]
        },
        {
          "output_type": "stream",
          "name": "stdout",
          "text": [
            "Epoch 133/133.. Train loss: 2.216.. Val loss: 2.198.. Train L1 norm: 2.786.. Val L1 norm: 3.551.. Train Linf norm: 252.105.. Val Linf norm: 432.642\n"
          ]
        },
        {
          "output_type": "stream",
          "name": "stderr",
          "text": [
            "[I 2023-05-30 13:01:07,304] Trial 65 pruned. \n"
          ]
        },
        {
          "output_type": "stream",
          "name": "stdout",
          "text": [
            "Epoch 1/90.. Train loss: 2.483.. Val loss: 2.384.. Train L1 norm: 1.174.. Val L1 norm: 1.688.. Train Linf norm: 31.980.. Val Linf norm: 132.435\n",
            "Epoch 1/86.. Train loss: 2.544.. Val loss: 2.521.. Train L1 norm: 1.013.. Val L1 norm: 1.055.. Train Linf norm: 4.557.. Val Linf norm: 14.220\n",
            "Epoch 2/86.. Train loss: 2.521.. Val loss: 2.500.. Train L1 norm: 1.065.. Val L1 norm: 1.159.. Train Linf norm: 16.079.. Val Linf norm: 35.964\n",
            "Epoch 3/86.. Train loss: 2.505.. Val loss: 2.482.. Train L1 norm: 1.136.. Val L1 norm: 1.268.. Train Linf norm: 28.525.. Val Linf norm: 56.957\n",
            "Epoch 4/86.. Train loss: 2.483.. Val loss: 2.464.. Train L1 norm: 1.206.. Val L1 norm: 1.380.. Train Linf norm: 40.295.. Val Linf norm: 77.631\n",
            "Epoch 5/86.. Train loss: 2.464.. Val loss: 2.446.. Train L1 norm: 1.283.. Val L1 norm: 1.494.. Train Linf norm: 52.490.. Val Linf norm: 98.145\n",
            "Epoch 6/86.. Train loss: 2.450.. Val loss: 2.430.. Train L1 norm: 1.360.. Val L1 norm: 1.606.. Train Linf norm: 63.764.. Val Linf norm: 117.861\n",
            "Epoch 7/86.. Train loss: 2.432.. Val loss: 2.416.. Train L1 norm: 1.437.. Val L1 norm: 1.718.. Train Linf norm: 74.318.. Val Linf norm: 137.244\n",
            "Epoch 8/86.. Train loss: 2.416.. Val loss: 2.402.. Train L1 norm: 1.521.. Val L1 norm: 1.829.. Train Linf norm: 90.019.. Val Linf norm: 156.248\n",
            "Epoch 9/86.. Train loss: 2.403.. Val loss: 2.387.. Train L1 norm: 1.596.. Val L1 norm: 1.940.. Train Linf norm: 96.862.. Val Linf norm: 174.941\n",
            "Epoch 10/86.. Train loss: 2.387.. Val loss: 2.374.. Train L1 norm: 1.674.. Val L1 norm: 2.049.. Train Linf norm: 109.284.. Val Linf norm: 193.168\n",
            "Epoch 11/86.. Train loss: 2.375.. Val loss: 2.358.. Train L1 norm: 1.750.. Val L1 norm: 2.160.. Train Linf norm: 123.189.. Val Linf norm: 211.574\n",
            "Epoch 12/86.. Train loss: 2.366.. Val loss: 2.355.. Train L1 norm: 1.802.. Val L1 norm: 2.185.. Train Linf norm: 130.436.. Val Linf norm: 215.742\n",
            "Epoch 13/86.. Train loss: 2.364.. Val loss: 2.352.. Train L1 norm: 1.819.. Val L1 norm: 2.211.. Train Linf norm: 132.512.. Val Linf norm: 219.898\n",
            "Epoch 14/86.. Train loss: 2.356.. Val loss: 2.349.. Train L1 norm: 1.836.. Val L1 norm: 2.237.. Train Linf norm: 132.656.. Val Linf norm: 224.199\n",
            "Epoch 15/86.. Train loss: 2.353.. Val loss: 2.346.. Train L1 norm: 1.854.. Val L1 norm: 2.263.. Train Linf norm: 137.109.. Val Linf norm: 228.484\n",
            "Epoch 16/86.. Train loss: 2.350.. Val loss: 2.343.. Train L1 norm: 1.875.. Val L1 norm: 2.290.. Train Linf norm: 141.649.. Val Linf norm: 232.804\n",
            "Epoch 17/86.. Train loss: 2.345.. Val loss: 2.340.. Train L1 norm: 1.893.. Val L1 norm: 2.316.. Train Linf norm: 144.350.. Val Linf norm: 237.088\n",
            "Epoch 18/86.. Train loss: 2.342.. Val loss: 2.335.. Train L1 norm: 1.913.. Val L1 norm: 2.345.. Train Linf norm: 134.927.. Val Linf norm: 241.755\n",
            "Epoch 19/86.. Train loss: 2.343.. Val loss: 2.332.. Train L1 norm: 1.934.. Val L1 norm: 2.371.. Train Linf norm: 143.194.. Val Linf norm: 245.972\n",
            "Epoch 20/86.. Train loss: 2.343.. Val loss: 2.330.. Train L1 norm: 1.954.. Val L1 norm: 2.395.. Train Linf norm: 152.147.. Val Linf norm: 249.988\n",
            "Epoch 21/86.. Train loss: 2.333.. Val loss: 2.327.. Train L1 norm: 1.971.. Val L1 norm: 2.423.. Train Linf norm: 154.552.. Val Linf norm: 254.370\n",
            "Epoch 22/86.. Train loss: 2.332.. Val loss: 2.324.. Train L1 norm: 1.993.. Val L1 norm: 2.450.. Train Linf norm: 157.430.. Val Linf norm: 258.817\n",
            "Epoch 23/86.. Train loss: 2.334.. Val loss: 2.323.. Train L1 norm: 2.003.. Val L1 norm: 2.456.. Train Linf norm: 155.696.. Val Linf norm: 259.795\n",
            "Epoch 24/86.. Train loss: 2.327.. Val loss: 2.322.. Train L1 norm: 2.007.. Val L1 norm: 2.463.. Train Linf norm: 156.867.. Val Linf norm: 260.844\n",
            "Epoch 25/86.. Train loss: 2.328.. Val loss: 2.322.. Train L1 norm: 2.011.. Val L1 norm: 2.469.. Train Linf norm: 152.944.. Val Linf norm: 261.866\n",
            "Epoch 26/86.. Train loss: 2.327.. Val loss: 2.321.. Train L1 norm: 2.016.. Val L1 norm: 2.476.. Train Linf norm: 154.956.. Val Linf norm: 262.888\n",
            "Epoch 27/86.. Train loss: 2.327.. Val loss: 2.320.. Train L1 norm: 2.020.. Val L1 norm: 2.482.. Train Linf norm: 160.318.. Val Linf norm: 263.916\n",
            "Epoch 28/86.. Train loss: 2.326.. Val loss: 2.320.. Train L1 norm: 2.026.. Val L1 norm: 2.488.. Train Linf norm: 156.877.. Val Linf norm: 264.960\n",
            "Epoch 29/86.. Train loss: 2.324.. Val loss: 2.318.. Train L1 norm: 2.031.. Val L1 norm: 2.496.. Train Linf norm: 161.063.. Val Linf norm: 266.132\n",
            "Epoch 30/86.. Train loss: 2.322.. Val loss: 2.318.. Train L1 norm: 2.037.. Val L1 norm: 2.502.. Train Linf norm: 162.506.. Val Linf norm: 267.180\n",
            "Epoch 31/86.. Train loss: 2.322.. Val loss: 2.316.. Train L1 norm: 2.041.. Val L1 norm: 2.510.. Train Linf norm: 159.047.. Val Linf norm: 268.338\n",
            "Epoch 32/86.. Train loss: 2.321.. Val loss: 2.316.. Train L1 norm: 2.044.. Val L1 norm: 2.516.. Train Linf norm: 164.804.. Val Linf norm: 269.352\n",
            "Epoch 33/86.. Train loss: 2.318.. Val loss: 2.314.. Train L1 norm: 2.052.. Val L1 norm: 2.524.. Train Linf norm: 162.478.. Val Linf norm: 270.583\n",
            "Epoch 34/86.. Train loss: 2.321.. Val loss: 2.314.. Train L1 norm: 2.055.. Val L1 norm: 2.525.. Train Linf norm: 164.806.. Val Linf norm: 270.827\n",
            "Epoch 35/86.. Train loss: 2.316.. Val loss: 2.314.. Train L1 norm: 2.054.. Val L1 norm: 2.527.. Train Linf norm: 160.923.. Val Linf norm: 271.075\n",
            "Epoch 36/86.. Train loss: 2.321.. Val loss: 2.314.. Train L1 norm: 2.058.. Val L1 norm: 2.528.. Train Linf norm: 166.045.. Val Linf norm: 271.314\n",
            "Epoch 37/86.. Train loss: 2.319.. Val loss: 2.313.. Train L1 norm: 2.058.. Val L1 norm: 2.530.. Train Linf norm: 161.672.. Val Linf norm: 271.601\n",
            "Epoch 38/86.. Train loss: 2.317.. Val loss: 2.313.. Train L1 norm: 2.059.. Val L1 norm: 2.532.. Train Linf norm: 164.092.. Val Linf norm: 271.856\n",
            "Epoch 39/86.. Train loss: 2.319.. Val loss: 2.313.. Train L1 norm: 2.062.. Val L1 norm: 2.533.. Train Linf norm: 164.266.. Val Linf norm: 272.096\n",
            "Epoch 40/86.. Train loss: 2.323.. Val loss: 2.313.. Train L1 norm: 2.064.. Val L1 norm: 2.535.. Train Linf norm: 166.677.. Val Linf norm: 272.342\n",
            "Epoch 41/86.. Train loss: 2.318.. Val loss: 2.313.. Train L1 norm: 2.060.. Val L1 norm: 2.536.. Train Linf norm: 167.663.. Val Linf norm: 272.597\n",
            "Epoch 42/86.. Train loss: 2.324.. Val loss: 2.313.. Train L1 norm: 2.065.. Val L1 norm: 2.538.. Train Linf norm: 160.896.. Val Linf norm: 272.826\n",
            "Epoch 43/86.. Train loss: 2.317.. Val loss: 2.312.. Train L1 norm: 2.064.. Val L1 norm: 2.539.. Train Linf norm: 167.308.. Val Linf norm: 273.077\n",
            "Epoch 44/86.. Train loss: 2.319.. Val loss: 2.312.. Train L1 norm: 2.067.. Val L1 norm: 2.541.. Train Linf norm: 167.045.. Val Linf norm: 273.325\n",
            "Epoch 45/86.. Train loss: 2.320.. Val loss: 2.312.. Train L1 norm: 2.066.. Val L1 norm: 2.541.. Train Linf norm: 166.399.. Val Linf norm: 273.375\n",
            "Epoch 46/86.. Train loss: 2.319.. Val loss: 2.312.. Train L1 norm: 2.067.. Val L1 norm: 2.541.. Train Linf norm: 164.229.. Val Linf norm: 273.428\n",
            "Epoch 47/86.. Train loss: 2.319.. Val loss: 2.312.. Train L1 norm: 2.067.. Val L1 norm: 2.542.. Train Linf norm: 164.090.. Val Linf norm: 273.482\n",
            "Epoch 48/86.. Train loss: 2.316.. Val loss: 2.312.. Train L1 norm: 2.068.. Val L1 norm: 2.542.. Train Linf norm: 159.383.. Val Linf norm: 273.536\n",
            "Epoch 49/86.. Train loss: 2.318.. Val loss: 2.312.. Train L1 norm: 2.068.. Val L1 norm: 2.542.. Train Linf norm: 162.000.. Val Linf norm: 273.591\n",
            "Epoch 50/86.. Train loss: 2.319.. Val loss: 2.312.. Train L1 norm: 2.067.. Val L1 norm: 2.543.. Train Linf norm: 166.557.. Val Linf norm: 273.647\n",
            "Epoch 51/86.. Train loss: 2.316.. Val loss: 2.312.. Train L1 norm: 2.068.. Val L1 norm: 2.543.. Train Linf norm: 165.223.. Val Linf norm: 273.705\n",
            "Epoch 52/86.. Train loss: 2.315.. Val loss: 2.312.. Train L1 norm: 2.069.. Val L1 norm: 2.544.. Train Linf norm: 163.424.. Val Linf norm: 273.772\n",
            "Epoch 53/86.. Train loss: 2.320.. Val loss: 2.312.. Train L1 norm: 2.071.. Val L1 norm: 2.544.. Train Linf norm: 169.229.. Val Linf norm: 273.825\n",
            "Epoch 54/86.. Train loss: 2.317.. Val loss: 2.312.. Train L1 norm: 2.070.. Val L1 norm: 2.544.. Train Linf norm: 159.732.. Val Linf norm: 273.881\n",
            "Epoch 55/86.. Train loss: 2.319.. Val loss: 2.312.. Train L1 norm: 2.068.. Val L1 norm: 2.545.. Train Linf norm: 168.365.. Val Linf norm: 273.933\n",
            "Epoch 56/86.. Train loss: 2.323.. Val loss: 2.312.. Train L1 norm: 2.071.. Val L1 norm: 2.545.. Train Linf norm: 166.982.. Val Linf norm: 273.944\n",
            "Epoch 57/86.. Train loss: 2.317.. Val loss: 2.312.. Train L1 norm: 2.070.. Val L1 norm: 2.545.. Train Linf norm: 157.746.. Val Linf norm: 273.954\n",
            "Epoch 58/86.. Train loss: 2.316.. Val loss: 2.312.. Train L1 norm: 2.070.. Val L1 norm: 2.545.. Train Linf norm: 167.417.. Val Linf norm: 273.965\n",
            "Epoch 59/86.. Train loss: 2.317.. Val loss: 2.312.. Train L1 norm: 2.070.. Val L1 norm: 2.545.. Train Linf norm: 166.819.. Val Linf norm: 273.979\n",
            "Epoch 60/86.. Train loss: 2.318.. Val loss: 2.312.. Train L1 norm: 2.071.. Val L1 norm: 2.545.. Train Linf norm: 163.687.. Val Linf norm: 273.990\n",
            "Epoch 61/86.. Train loss: 2.317.. Val loss: 2.312.. Train L1 norm: 2.070.. Val L1 norm: 2.545.. Train Linf norm: 162.952.. Val Linf norm: 274.003\n",
            "Epoch 62/86.. Train loss: 2.317.. Val loss: 2.312.. Train L1 norm: 2.069.. Val L1 norm: 2.545.. Train Linf norm: 167.433.. Val Linf norm: 274.014\n",
            "Epoch 63/86.. Train loss: 2.320.. Val loss: 2.312.. Train L1 norm: 2.071.. Val L1 norm: 2.545.. Train Linf norm: 164.911.. Val Linf norm: 274.025\n",
            "Epoch 64/86.. Train loss: 2.316.. Val loss: 2.312.. Train L1 norm: 2.070.. Val L1 norm: 2.545.. Train Linf norm: 160.915.. Val Linf norm: 274.036\n",
            "Epoch 65/86.. Train loss: 2.316.. Val loss: 2.312.. Train L1 norm: 2.068.. Val L1 norm: 2.545.. Train Linf norm: 164.270.. Val Linf norm: 274.048\n",
            "Epoch 66/86.. Train loss: 2.321.. Val loss: 2.312.. Train L1 norm: 2.071.. Val L1 norm: 2.545.. Train Linf norm: 162.620.. Val Linf norm: 274.058\n",
            "Epoch 67/86.. Train loss: 2.316.. Val loss: 2.312.. Train L1 norm: 2.070.. Val L1 norm: 2.545.. Train Linf norm: 164.770.. Val Linf norm: 274.061\n",
            "Epoch 68/86.. Train loss: 2.317.. Val loss: 2.312.. Train L1 norm: 2.069.. Val L1 norm: 2.545.. Train Linf norm: 167.052.. Val Linf norm: 274.065\n",
            "Epoch 69/86.. Train loss: 2.319.. Val loss: 2.312.. Train L1 norm: 2.069.. Val L1 norm: 2.545.. Train Linf norm: 155.222.. Val Linf norm: 274.069\n",
            "Epoch 70/86.. Train loss: 2.317.. Val loss: 2.312.. Train L1 norm: 2.070.. Val L1 norm: 2.545.. Train Linf norm: 160.261.. Val Linf norm: 274.072\n",
            "Epoch 71/86.. Train loss: 2.315.. Val loss: 2.312.. Train L1 norm: 2.068.. Val L1 norm: 2.545.. Train Linf norm: 166.557.. Val Linf norm: 274.075\n",
            "Epoch 72/86.. Train loss: 2.318.. Val loss: 2.312.. Train L1 norm: 2.068.. Val L1 norm: 2.545.. Train Linf norm: 166.121.. Val Linf norm: 274.079\n",
            "Epoch 73/86.. Train loss: 2.317.. Val loss: 2.312.. Train L1 norm: 2.067.. Val L1 norm: 2.546.. Train Linf norm: 160.525.. Val Linf norm: 274.082\n",
            "Epoch 74/86.. Train loss: 2.318.. Val loss: 2.312.. Train L1 norm: 2.069.. Val L1 norm: 2.546.. Train Linf norm: 167.407.. Val Linf norm: 274.086\n",
            "Epoch 75/86.. Train loss: 2.317.. Val loss: 2.312.. Train L1 norm: 2.071.. Val L1 norm: 2.546.. Train Linf norm: 164.856.. Val Linf norm: 274.089\n",
            "Epoch 76/86.. Train loss: 2.315.. Val loss: 2.312.. Train L1 norm: 2.070.. Val L1 norm: 2.546.. Train Linf norm: 161.070.. Val Linf norm: 274.093\n",
            "Epoch 77/86.. Train loss: 2.320.. Val loss: 2.312.. Train L1 norm: 2.072.. Val L1 norm: 2.546.. Train Linf norm: 162.331.. Val Linf norm: 274.096\n",
            "Epoch 78/86.. Train loss: 2.318.. Val loss: 2.312.. Train L1 norm: 2.070.. Val L1 norm: 2.546.. Train Linf norm: 161.915.. Val Linf norm: 274.096\n",
            "Epoch 79/86.. Train loss: 2.316.. Val loss: 2.312.. Train L1 norm: 2.069.. Val L1 norm: 2.546.. Train Linf norm: 165.931.. Val Linf norm: 274.096\n",
            "Epoch 80/86.. Train loss: 2.323.. Val loss: 2.312.. Train L1 norm: 2.072.. Val L1 norm: 2.546.. Train Linf norm: 163.515.. Val Linf norm: 274.096\n",
            "Epoch 81/86.. Train loss: 2.314.. Val loss: 2.312.. Train L1 norm: 2.069.. Val L1 norm: 2.546.. Train Linf norm: 166.517.. Val Linf norm: 274.096\n",
            "Epoch 82/86.. Train loss: 2.320.. Val loss: 2.312.. Train L1 norm: 2.071.. Val L1 norm: 2.546.. Train Linf norm: 166.334.. Val Linf norm: 274.096\n",
            "Epoch 83/86.. Train loss: 2.315.. Val loss: 2.312.. Train L1 norm: 2.069.. Val L1 norm: 2.546.. Train Linf norm: 158.659.. Val Linf norm: 274.096\n",
            "Epoch 84/86.. Train loss: 2.316.. Val loss: 2.312.. Train L1 norm: 2.070.. Val L1 norm: 2.546.. Train Linf norm: 163.673.. Val Linf norm: 274.096\n",
            "Epoch 85/86.. Train loss: 2.317.. Val loss: 2.312.. Train L1 norm: 2.070.. Val L1 norm: 2.546.. Train Linf norm: 161.035.. Val Linf norm: 274.096\n"
          ]
        },
        {
          "output_type": "stream",
          "name": "stderr",
          "text": [
            "[I 2023-05-30 13:07:08,724] Trial 66 finished with value: 2.545604826482137 and parameters: {'n_layers': 10, 'n_units_0': 154, 'n_units_1': 2217, 'n_units_2': 2828, 'n_units_3': 1548, 'n_units_4': 1217, 'n_units_5': 224, 'n_units_6': 2340, 'n_units_7': 1186, 'n_units_8': 1801, 'n_units_9': 730, 'hidden_activation': 'GELU', 'output_activation': 'Linear', 'loss': 'Quantile', 'optimizer': 'SGD', 'lr': 0.00039442334531714324, 'batch_size': 256, 'n_epochs': 86, 'scheduler': 'StepLR', 'dropout_rate': 0.2100811834221746, 'weight_decay': 0.00041553344019460586, 'momentum': 0.6689818648798269, 'step_size': 11, 'gamma': 0.23594744214492022}. Best is trial 13 with value: 1.4059733067830404.\n"
          ]
        },
        {
          "output_type": "stream",
          "name": "stdout",
          "text": [
            "Epoch 86/86.. Train loss: 2.314.. Val loss: 2.312.. Train L1 norm: 2.071.. Val L1 norm: 2.546.. Train Linf norm: 157.180.. Val Linf norm: 274.096\n"
          ]
        },
        {
          "output_type": "stream",
          "name": "stderr",
          "text": [
            "[I 2023-05-30 13:07:29,353] Trial 67 pruned. \n"
          ]
        },
        {
          "output_type": "stream",
          "name": "stdout",
          "text": [
            "Epoch 1/86.. Train loss: 5.295.. Val loss: 4.400.. Train L1 norm: 3.471.. Val L1 norm: 3.469.. Train Linf norm: 67.269.. Val Linf norm: 71.634\n",
            "Epoch 1/94.. Train loss: 2.570.. Val loss: 2.484.. Train L1 norm: 1.192.. Val L1 norm: 1.220.. Train Linf norm: 12.977.. Val Linf norm: 15.236\n",
            "Epoch 2/94.. Train loss: 2.521.. Val loss: 2.451.. Train L1 norm: 1.396.. Val L1 norm: 1.434.. Train Linf norm: 23.801.. Val Linf norm: 27.395\n",
            "Epoch 3/94.. Train loss: 2.497.. Val loss: 2.411.. Train L1 norm: 1.479.. Val L1 norm: 1.688.. Train Linf norm: 28.112.. Val Linf norm: 41.216\n",
            "Epoch 4/94.. Train loss: 2.445.. Val loss: 2.394.. Train L1 norm: 1.559.. Val L1 norm: 1.869.. Train Linf norm: 31.318.. Val Linf norm: 50.650\n",
            "Epoch 5/94.. Train loss: 2.388.. Val loss: 2.351.. Train L1 norm: 1.732.. Val L1 norm: 2.182.. Train Linf norm: 39.143.. Val Linf norm: 66.888\n",
            "Epoch 6/94.. Train loss: 2.385.. Val loss: 2.347.. Train L1 norm: 2.067.. Val L1 norm: 2.303.. Train Linf norm: 55.682.. Val Linf norm: 72.879\n",
            "Epoch 7/94.. Train loss: 2.318.. Val loss: 2.260.. Train L1 norm: 2.061.. Val L1 norm: 2.923.. Train Linf norm: 54.612.. Val Linf norm: 104.195\n",
            "Epoch 8/94.. Train loss: 2.343.. Val loss: 2.287.. Train L1 norm: 2.469.. Val L1 norm: 2.844.. Train Linf norm: 72.842.. Val Linf norm: 99.899\n",
            "Epoch 9/94.. Train loss: 2.299.. Val loss: 2.264.. Train L1 norm: 2.351.. Val L1 norm: 3.108.. Train Linf norm: 68.198.. Val Linf norm: 112.811\n",
            "Epoch 10/94.. Train loss: 2.272.. Val loss: 2.242.. Train L1 norm: 2.550.. Val L1 norm: 3.390.. Train Linf norm: 75.022.. Val Linf norm: 126.457\n",
            "Epoch 11/94.. Train loss: 2.261.. Val loss: 2.244.. Train L1 norm: 2.832.. Val L1 norm: 3.512.. Train Linf norm: 87.503.. Val Linf norm: 132.193\n",
            "Epoch 12/94.. Train loss: 2.235.. Val loss: 2.220.. Train L1 norm: 2.862.. Val L1 norm: 3.825.. Train Linf norm: 88.594.. Val Linf norm: 147.243\n",
            "Epoch 13/94.. Train loss: 2.209.. Val loss: 2.187.. Train L1 norm: 3.099.. Val L1 norm: 4.219.. Train Linf norm: 99.763.. Val Linf norm: 166.133\n",
            "Epoch 14/94.. Train loss: 2.235.. Val loss: 2.181.. Train L1 norm: 3.437.. Val L1 norm: 4.346.. Train Linf norm: 111.386.. Val Linf norm: 172.094\n",
            "Epoch 15/94.. Train loss: 2.216.. Val loss: 2.183.. Train L1 norm: 3.453.. Val L1 norm: 4.433.. Train Linf norm: 115.168.. Val Linf norm: 175.863\n",
            "Epoch 16/94.. Train loss: 2.182.. Val loss: 2.167.. Train L1 norm: 3.545.. Val L1 norm: 4.712.. Train Linf norm: 118.462.. Val Linf norm: 188.982\n",
            "Epoch 17/94.. Train loss: 2.200.. Val loss: 2.176.. Train L1 norm: 3.603.. Val L1 norm: 4.752.. Train Linf norm: 120.597.. Val Linf norm: 190.680\n",
            "Epoch 18/94.. Train loss: 2.166.. Val loss: 2.158.. Train L1 norm: 3.780.. Val L1 norm: 5.068.. Train Linf norm: 127.473.. Val Linf norm: 205.457\n",
            "Epoch 19/94.. Train loss: 2.182.. Val loss: 2.169.. Train L1 norm: 3.992.. Val L1 norm: 5.044.. Train Linf norm: 135.769.. Val Linf norm: 204.181\n",
            "Epoch 20/94.. Train loss: 2.159.. Val loss: 2.157.. Train L1 norm: 3.975.. Val L1 norm: 5.309.. Train Linf norm: 133.834.. Val Linf norm: 216.556\n",
            "Epoch 21/94.. Train loss: 2.155.. Val loss: 2.153.. Train L1 norm: 4.153.. Val L1 norm: 5.466.. Train Linf norm: 143.097.. Val Linf norm: 223.811\n",
            "Epoch 22/94.. Train loss: 2.150.. Val loss: 2.147.. Train L1 norm: 4.308.. Val L1 norm: 5.612.. Train Linf norm: 147.477.. Val Linf norm: 230.527\n",
            "Epoch 23/94.. Train loss: 2.147.. Val loss: 2.142.. Train L1 norm: 4.335.. Val L1 norm: 5.734.. Train Linf norm: 149.149.. Val Linf norm: 236.131\n",
            "Epoch 24/94.. Train loss: 2.159.. Val loss: 2.153.. Train L1 norm: 4.290.. Val L1 norm: 5.685.. Train Linf norm: 145.649.. Val Linf norm: 233.770\n",
            "Epoch 25/94.. Train loss: 2.147.. Val loss: 2.149.. Train L1 norm: 4.414.. Val L1 norm: 5.799.. Train Linf norm: 154.271.. Val Linf norm: 238.991\n",
            "Epoch 26/94.. Train loss: 2.144.. Val loss: 2.145.. Train L1 norm: 4.490.. Val L1 norm: 5.922.. Train Linf norm: 156.831.. Val Linf norm: 244.753\n",
            "Epoch 27/94.. Train loss: 2.155.. Val loss: 2.154.. Train L1 norm: 4.469.. Val L1 norm: 5.879.. Train Linf norm: 154.690.. Val Linf norm: 242.657\n",
            "Epoch 28/94.. Train loss: 2.143.. Val loss: 2.146.. Train L1 norm: 4.596.. Val L1 norm: 6.035.. Train Linf norm: 159.729.. Val Linf norm: 249.922\n",
            "Epoch 29/94.. Train loss: 2.149.. Val loss: 2.152.. Train L1 norm: 4.613.. Val L1 norm: 5.982.. Train Linf norm: 160.734.. Val Linf norm: 247.530\n",
            "Epoch 30/94.. Train loss: 2.142.. Val loss: 2.151.. Train L1 norm: 4.604.. Val L1 norm: 6.007.. Train Linf norm: 162.508.. Val Linf norm: 248.675\n",
            "Epoch 31/94.. Train loss: 2.142.. Val loss: 2.145.. Train L1 norm: 4.634.. Val L1 norm: 6.090.. Train Linf norm: 160.908.. Val Linf norm: 252.623\n",
            "Epoch 32/94.. Train loss: 2.143.. Val loss: 2.145.. Train L1 norm: 4.680.. Val L1 norm: 6.096.. Train Linf norm: 164.802.. Val Linf norm: 252.880\n",
            "Epoch 33/94.. Train loss: 2.139.. Val loss: 2.144.. Train L1 norm: 4.664.. Val L1 norm: 6.115.. Train Linf norm: 161.810.. Val Linf norm: 253.805\n",
            "Epoch 34/94.. Train loss: 2.137.. Val loss: 2.140.. Train L1 norm: 4.701.. Val L1 norm: 6.174.. Train Linf norm: 165.208.. Val Linf norm: 256.561\n",
            "Epoch 35/94.. Train loss: 2.144.. Val loss: 2.142.. Train L1 norm: 4.700.. Val L1 norm: 6.159.. Train Linf norm: 164.561.. Val Linf norm: 255.919\n",
            "Epoch 36/94.. Train loss: 2.140.. Val loss: 2.143.. Train L1 norm: 4.702.. Val L1 norm: 6.168.. Train Linf norm: 165.289.. Val Linf norm: 256.353\n",
            "Epoch 37/94.. Train loss: 2.137.. Val loss: 2.138.. Train L1 norm: 4.732.. Val L1 norm: 6.236.. Train Linf norm: 164.973.. Val Linf norm: 259.563\n",
            "Epoch 38/94.. Train loss: 2.135.. Val loss: 2.137.. Train L1 norm: 4.766.. Val L1 norm: 6.245.. Train Linf norm: 166.194.. Val Linf norm: 259.996\n",
            "Epoch 39/94.. Train loss: 2.135.. Val loss: 2.134.. Train L1 norm: 4.789.. Val L1 norm: 6.287.. Train Linf norm: 170.155.. Val Linf norm: 261.976\n",
            "Epoch 40/94.. Train loss: 2.142.. Val loss: 2.140.. Train L1 norm: 4.759.. Val L1 norm: 6.203.. Train Linf norm: 165.329.. Val Linf norm: 258.070\n",
            "Epoch 41/94.. Train loss: 2.137.. Val loss: 2.137.. Train L1 norm: 4.719.. Val L1 norm: 6.242.. Train Linf norm: 161.283.. Val Linf norm: 259.893\n",
            "Epoch 42/94.. Train loss: 2.139.. Val loss: 2.137.. Train L1 norm: 4.764.. Val L1 norm: 6.228.. Train Linf norm: 167.460.. Val Linf norm: 259.282\n",
            "Epoch 43/94.. Train loss: 2.132.. Val loss: 2.132.. Train L1 norm: 4.788.. Val L1 norm: 6.322.. Train Linf norm: 165.870.. Val Linf norm: 263.681\n",
            "Epoch 44/94.. Train loss: 2.134.. Val loss: 2.131.. Train L1 norm: 4.814.. Val L1 norm: 6.319.. Train Linf norm: 169.809.. Val Linf norm: 263.496\n",
            "Epoch 45/94.. Train loss: 2.128.. Val loss: 2.128.. Train L1 norm: 4.797.. Val L1 norm: 6.396.. Train Linf norm: 166.632.. Val Linf norm: 267.112\n",
            "Epoch 46/94.. Train loss: 2.146.. Val loss: 2.134.. Train L1 norm: 4.813.. Val L1 norm: 6.243.. Train Linf norm: 167.998.. Val Linf norm: 259.981\n",
            "Epoch 47/94.. Train loss: 2.134.. Val loss: 2.129.. Train L1 norm: 4.758.. Val L1 norm: 6.347.. Train Linf norm: 165.868.. Val Linf norm: 264.875\n",
            "Epoch 48/94.. Train loss: 2.136.. Val loss: 2.131.. Train L1 norm: 4.773.. Val L1 norm: 6.290.. Train Linf norm: 167.937.. Val Linf norm: 262.175\n",
            "Epoch 49/94.. Train loss: 2.138.. Val loss: 2.138.. Train L1 norm: 4.725.. Val L1 norm: 6.203.. Train Linf norm: 164.435.. Val Linf norm: 258.293\n",
            "Epoch 50/94.. Train loss: 2.129.. Val loss: 2.130.. Train L1 norm: 4.772.. Val L1 norm: 6.334.. Train Linf norm: 167.179.. Val Linf norm: 264.452\n",
            "Epoch 51/94.. Train loss: 2.139.. Val loss: 2.131.. Train L1 norm: 4.808.. Val L1 norm: 6.301.. Train Linf norm: 166.024.. Val Linf norm: 262.881\n",
            "Epoch 52/94.. Train loss: 2.134.. Val loss: 2.130.. Train L1 norm: 4.808.. Val L1 norm: 6.313.. Train Linf norm: 168.847.. Val Linf norm: 263.429\n",
            "Epoch 53/94.. Train loss: 2.130.. Val loss: 2.129.. Train L1 norm: 4.811.. Val L1 norm: 6.343.. Train Linf norm: 167.942.. Val Linf norm: 264.841\n",
            "Epoch 54/94.. Train loss: 2.129.. Val loss: 2.130.. Train L1 norm: 4.816.. Val L1 norm: 6.319.. Train Linf norm: 168.860.. Val Linf norm: 263.719\n",
            "Epoch 55/94.. Train loss: 2.134.. Val loss: 2.130.. Train L1 norm: 4.799.. Val L1 norm: 6.311.. Train Linf norm: 166.783.. Val Linf norm: 263.379\n",
            "Epoch 56/94.. Train loss: 2.133.. Val loss: 2.131.. Train L1 norm: 4.761.. Val L1 norm: 6.306.. Train Linf norm: 164.929.. Val Linf norm: 263.160\n",
            "Epoch 57/94.. Train loss: 2.133.. Val loss: 2.130.. Train L1 norm: 4.791.. Val L1 norm: 6.317.. Train Linf norm: 168.264.. Val Linf norm: 263.640\n",
            "Epoch 58/94.. Train loss: 2.126.. Val loss: 2.129.. Train L1 norm: 4.791.. Val L1 norm: 6.325.. Train Linf norm: 167.448.. Val Linf norm: 264.023\n",
            "Epoch 59/94.. Train loss: 2.128.. Val loss: 2.129.. Train L1 norm: 4.796.. Val L1 norm: 6.331.. Train Linf norm: 166.905.. Val Linf norm: 264.322\n",
            "Epoch 60/94.. Train loss: 2.135.. Val loss: 2.129.. Train L1 norm: 4.787.. Val L1 norm: 6.332.. Train Linf norm: 169.245.. Val Linf norm: 264.365\n",
            "Epoch 61/94.. Train loss: 2.129.. Val loss: 2.129.. Train L1 norm: 4.791.. Val L1 norm: 6.338.. Train Linf norm: 169.728.. Val Linf norm: 264.639\n",
            "Epoch 62/94.. Train loss: 2.127.. Val loss: 2.129.. Train L1 norm: 4.797.. Val L1 norm: 6.338.. Train Linf norm: 165.858.. Val Linf norm: 264.633\n",
            "Epoch 63/94.. Train loss: 2.131.. Val loss: 2.129.. Train L1 norm: 4.794.. Val L1 norm: 6.339.. Train Linf norm: 167.684.. Val Linf norm: 264.659\n",
            "Epoch 64/94.. Train loss: 2.129.. Val loss: 2.129.. Train L1 norm: 4.804.. Val L1 norm: 6.337.. Train Linf norm: 167.681.. Val Linf norm: 264.602\n",
            "Epoch 65/94.. Train loss: 2.128.. Val loss: 2.129.. Train L1 norm: 4.789.. Val L1 norm: 6.339.. Train Linf norm: 166.726.. Val Linf norm: 264.675\n",
            "Epoch 66/94.. Train loss: 2.128.. Val loss: 2.129.. Train L1 norm: 4.806.. Val L1 norm: 6.340.. Train Linf norm: 169.856.. Val Linf norm: 264.722\n",
            "Epoch 67/94.. Train loss: 2.130.. Val loss: 2.129.. Train L1 norm: 4.811.. Val L1 norm: 6.340.. Train Linf norm: 167.560.. Val Linf norm: 264.738\n",
            "Epoch 68/94.. Train loss: 2.128.. Val loss: 2.129.. Train L1 norm: 4.794.. Val L1 norm: 6.342.. Train Linf norm: 165.887.. Val Linf norm: 264.811\n",
            "Epoch 69/94.. Train loss: 2.127.. Val loss: 2.129.. Train L1 norm: 4.841.. Val L1 norm: 6.342.. Train Linf norm: 170.092.. Val Linf norm: 264.835\n",
            "Epoch 70/94.. Train loss: 2.132.. Val loss: 2.129.. Train L1 norm: 4.827.. Val L1 norm: 6.342.. Train Linf norm: 168.994.. Val Linf norm: 264.813\n",
            "Epoch 71/94.. Train loss: 2.130.. Val loss: 2.129.. Train L1 norm: 4.801.. Val L1 norm: 6.341.. Train Linf norm: 166.657.. Val Linf norm: 264.767\n",
            "Epoch 72/94.. Train loss: 2.129.. Val loss: 2.129.. Train L1 norm: 4.815.. Val L1 norm: 6.341.. Train Linf norm: 168.823.. Val Linf norm: 264.765\n",
            "Epoch 73/94.. Train loss: 2.126.. Val loss: 2.129.. Train L1 norm: 4.812.. Val L1 norm: 6.341.. Train Linf norm: 169.191.. Val Linf norm: 264.768\n",
            "Epoch 74/94.. Train loss: 2.133.. Val loss: 2.129.. Train L1 norm: 4.801.. Val L1 norm: 6.340.. Train Linf norm: 169.975.. Val Linf norm: 264.728\n",
            "Epoch 75/94.. Train loss: 2.130.. Val loss: 2.129.. Train L1 norm: 4.825.. Val L1 norm: 6.340.. Train Linf norm: 170.749.. Val Linf norm: 264.729\n",
            "Epoch 76/94.. Train loss: 2.131.. Val loss: 2.129.. Train L1 norm: 4.800.. Val L1 norm: 6.340.. Train Linf norm: 169.489.. Val Linf norm: 264.732\n",
            "Epoch 77/94.. Train loss: 2.129.. Val loss: 2.129.. Train L1 norm: 4.784.. Val L1 norm: 6.340.. Train Linf norm: 167.215.. Val Linf norm: 264.723\n",
            "Epoch 78/94.. Train loss: 2.129.. Val loss: 2.129.. Train L1 norm: 4.798.. Val L1 norm: 6.340.. Train Linf norm: 168.027.. Val Linf norm: 264.716\n",
            "Epoch 79/94.. Train loss: 2.133.. Val loss: 2.129.. Train L1 norm: 4.831.. Val L1 norm: 6.339.. Train Linf norm: 170.912.. Val Linf norm: 264.700\n",
            "Epoch 80/94.. Train loss: 2.132.. Val loss: 2.129.. Train L1 norm: 4.817.. Val L1 norm: 6.339.. Train Linf norm: 168.374.. Val Linf norm: 264.692\n",
            "Epoch 81/94.. Train loss: 2.132.. Val loss: 2.129.. Train L1 norm: 4.812.. Val L1 norm: 6.339.. Train Linf norm: 168.271.. Val Linf norm: 264.688\n",
            "Epoch 82/94.. Train loss: 2.132.. Val loss: 2.129.. Train L1 norm: 4.811.. Val L1 norm: 6.339.. Train Linf norm: 170.041.. Val Linf norm: 264.689\n",
            "Epoch 83/94.. Train loss: 2.137.. Val loss: 2.129.. Train L1 norm: 4.805.. Val L1 norm: 6.339.. Train Linf norm: 170.095.. Val Linf norm: 264.684\n",
            "Epoch 84/94.. Train loss: 2.128.. Val loss: 2.129.. Train L1 norm: 4.812.. Val L1 norm: 6.339.. Train Linf norm: 166.990.. Val Linf norm: 264.681\n",
            "Epoch 85/94.. Train loss: 2.127.. Val loss: 2.129.. Train L1 norm: 4.780.. Val L1 norm: 6.339.. Train Linf norm: 166.754.. Val Linf norm: 264.682\n",
            "Epoch 86/94.. Train loss: 2.131.. Val loss: 2.129.. Train L1 norm: 4.817.. Val L1 norm: 6.339.. Train Linf norm: 168.237.. Val Linf norm: 264.678\n",
            "Epoch 87/94.. Train loss: 2.129.. Val loss: 2.129.. Train L1 norm: 4.792.. Val L1 norm: 6.339.. Train Linf norm: 167.114.. Val Linf norm: 264.676\n",
            "Epoch 88/94.. Train loss: 2.131.. Val loss: 2.129.. Train L1 norm: 4.805.. Val L1 norm: 6.339.. Train Linf norm: 169.048.. Val Linf norm: 264.676\n",
            "Epoch 89/94.. Train loss: 2.129.. Val loss: 2.129.. Train L1 norm: 4.815.. Val L1 norm: 6.339.. Train Linf norm: 170.090.. Val Linf norm: 264.675\n",
            "Epoch 90/94.. Train loss: 2.132.. Val loss: 2.129.. Train L1 norm: 4.816.. Val L1 norm: 6.339.. Train Linf norm: 168.276.. Val Linf norm: 264.675\n",
            "Epoch 91/94.. Train loss: 2.128.. Val loss: 2.129.. Train L1 norm: 4.807.. Val L1 norm: 6.339.. Train Linf norm: 171.141.. Val Linf norm: 264.675\n",
            "Epoch 92/94.. Train loss: 2.133.. Val loss: 2.129.. Train L1 norm: 4.776.. Val L1 norm: 6.339.. Train Linf norm: 166.992.. Val Linf norm: 264.674\n",
            "Epoch 93/94.. Train loss: 2.132.. Val loss: 2.129.. Train L1 norm: 4.796.. Val L1 norm: 6.339.. Train Linf norm: 165.023.. Val Linf norm: 264.673\n"
          ]
        },
        {
          "output_type": "stream",
          "name": "stderr",
          "text": [
            "[I 2023-05-30 13:19:17,290] Trial 68 finished with value: 6.338702332115173 and parameters: {'n_layers': 9, 'n_units_0': 656, 'n_units_1': 1762, 'n_units_2': 186, 'n_units_3': 1805, 'n_units_4': 1336, 'n_units_5': 1129, 'n_units_6': 2807, 'n_units_7': 1272, 'n_units_8': 1585, 'hidden_activation': 'ReLU', 'output_activation': 'Linear', 'loss': 'Quantile', 'optimizer': 'SGD', 'lr': 0.00027169743461276445, 'batch_size': 64, 'n_epochs': 94, 'scheduler': 'ReduceLROnPlateau', 'dropout_rate': 0.22252465290036524, 'weight_decay': 0.0005144602291962986, 'momentum': 0.5228353161277612, 'factor': 0.2746717926835033, 'patience': 5, 'threshold': 0.0001379409761101784}. Best is trial 13 with value: 1.4059733067830404.\n"
          ]
        },
        {
          "output_type": "stream",
          "name": "stdout",
          "text": [
            "Epoch 94/94.. Train loss: 2.128.. Val loss: 2.129.. Train L1 norm: 4.783.. Val L1 norm: 6.339.. Train Linf norm: 165.014.. Val Linf norm: 264.672\n"
          ]
        },
        {
          "output_type": "stream",
          "name": "stderr",
          "text": [
            "[I 2023-05-30 13:19:19,586] Trial 69 pruned. \n"
          ]
        },
        {
          "output_type": "stream",
          "name": "stdout",
          "text": [
            "Epoch 1/75.. Train loss: 5.193.. Val loss: 4.052.. Train L1 norm: 3.385.. Val L1 norm: 2.470.. Train Linf norm: 942.322.. Val Linf norm: 846.332\n"
          ]
        },
        {
          "output_type": "stream",
          "name": "stderr",
          "text": [
            "[I 2023-05-30 13:19:23,638] Trial 70 pruned. \n"
          ]
        },
        {
          "output_type": "stream",
          "name": "stdout",
          "text": [
            "Epoch 1/66.. Train loss: 470.639.. Val loss: 35.390.. Train L1 norm: 4.852.. Val L1 norm: 6.350.. Train Linf norm: 505.951.. Val Linf norm: 864.152\n"
          ]
        },
        {
          "output_type": "stream",
          "name": "stderr",
          "text": [
            "[I 2023-05-30 13:19:26,108] Trial 71 pruned. \n"
          ]
        },
        {
          "output_type": "stream",
          "name": "stdout",
          "text": [
            "Epoch 1/80.. Train loss: 4.855.. Val loss: 2.314.. Train L1 norm: 4.828.. Val L1 norm: 2.069.. Train Linf norm: 1459.905.. Val Linf norm: 645.063\n"
          ]
        },
        {
          "output_type": "stream",
          "name": "stderr",
          "text": [
            "[I 2023-05-30 13:19:29,226] Trial 72 pruned. \n"
          ]
        },
        {
          "output_type": "stream",
          "name": "stdout",
          "text": [
            "Epoch 1/88.. Train loss: 5.000.. Val loss: 4.268.. Train L1 norm: 3.373.. Val L1 norm: 1.676.. Train Linf norm: 1019.620.. Val Linf norm: 413.244\n",
            "Epoch 1/97.. Train loss: 2.539.. Val loss: 2.518.. Train L1 norm: 1.018.. Val L1 norm: 1.066.. Train Linf norm: 6.061.. Val Linf norm: 16.781\n",
            "Epoch 2/97.. Train loss: 2.524.. Val loss: 2.504.. Train L1 norm: 1.061.. Val L1 norm: 1.142.. Train Linf norm: 14.855.. Val Linf norm: 32.464\n",
            "Epoch 3/97.. Train loss: 2.512.. Val loss: 2.490.. Train L1 norm: 1.108.. Val L1 norm: 1.220.. Train Linf norm: 22.854.. Val Linf norm: 47.963\n",
            "Epoch 4/97.. Train loss: 2.494.. Val loss: 2.476.. Train L1 norm: 1.168.. Val L1 norm: 1.302.. Train Linf norm: 35.167.. Val Linf norm: 63.265\n",
            "Epoch 5/97.. Train loss: 2.482.. Val loss: 2.464.. Train L1 norm: 1.221.. Val L1 norm: 1.383.. Train Linf norm: 42.928.. Val Linf norm: 78.217\n",
            "Epoch 6/97.. Train loss: 2.469.. Val loss: 2.451.. Train L1 norm: 1.275.. Val L1 norm: 1.464.. Train Linf norm: 49.793.. Val Linf norm: 92.865\n",
            "Epoch 7/97.. Train loss: 2.451.. Val loss: 2.437.. Train L1 norm: 1.334.. Val L1 norm: 1.548.. Train Linf norm: 59.600.. Val Linf norm: 107.750\n",
            "Epoch 8/97.. Train loss: 2.448.. Val loss: 2.427.. Train L1 norm: 1.395.. Val L1 norm: 1.628.. Train Linf norm: 70.662.. Val Linf norm: 121.681\n",
            "Epoch 9/97.. Train loss: 2.433.. Val loss: 2.416.. Train L1 norm: 1.445.. Val L1 norm: 1.710.. Train Linf norm: 77.745.. Val Linf norm: 135.877\n",
            "Epoch 10/97.. Train loss: 2.424.. Val loss: 2.405.. Train L1 norm: 1.501.. Val L1 norm: 1.791.. Train Linf norm: 85.360.. Val Linf norm: 149.715\n",
            "Epoch 11/97.. Train loss: 2.408.. Val loss: 2.394.. Train L1 norm: 1.564.. Val L1 norm: 1.873.. Train Linf norm: 96.486.. Val Linf norm: 163.679\n",
            "Epoch 12/97.. Train loss: 2.394.. Val loss: 2.379.. Train L1 norm: 1.623.. Val L1 norm: 1.960.. Train Linf norm: 102.273.. Val Linf norm: 178.238\n",
            "Epoch 13/97.. Train loss: 2.389.. Val loss: 2.370.. Train L1 norm: 1.685.. Val L1 norm: 2.041.. Train Linf norm: 110.717.. Val Linf norm: 191.785\n",
            "Epoch 14/97.. Train loss: 2.378.. Val loss: 2.361.. Train L1 norm: 1.744.. Val L1 norm: 2.121.. Train Linf norm: 119.470.. Val Linf norm: 205.081\n",
            "Epoch 15/97.. Train loss: 2.366.. Val loss: 2.359.. Train L1 norm: 1.779.. Val L1 norm: 2.144.. Train Linf norm: 123.450.. Val Linf norm: 208.805\n",
            "Epoch 16/97.. Train loss: 2.367.. Val loss: 2.355.. Train L1 norm: 1.797.. Val L1 norm: 2.168.. Train Linf norm: 129.647.. Val Linf norm: 212.790\n",
            "Epoch 17/97.. Train loss: 2.361.. Val loss: 2.351.. Train L1 norm: 1.814.. Val L1 norm: 2.194.. Train Linf norm: 132.012.. Val Linf norm: 217.022\n",
            "Epoch 18/97.. Train loss: 2.358.. Val loss: 2.347.. Train L1 norm: 1.834.. Val L1 norm: 2.219.. Train Linf norm: 132.891.. Val Linf norm: 221.121\n",
            "Epoch 19/97.. Train loss: 2.350.. Val loss: 2.343.. Train L1 norm: 1.851.. Val L1 norm: 2.246.. Train Linf norm: 132.459.. Val Linf norm: 225.592\n",
            "Epoch 20/97.. Train loss: 2.349.. Val loss: 2.338.. Train L1 norm: 1.879.. Val L1 norm: 2.274.. Train Linf norm: 137.768.. Val Linf norm: 230.056\n",
            "Epoch 21/97.. Train loss: 2.343.. Val loss: 2.334.. Train L1 norm: 1.896.. Val L1 norm: 2.302.. Train Linf norm: 141.980.. Val Linf norm: 234.639\n",
            "Epoch 22/97.. Train loss: 2.345.. Val loss: 2.331.. Train L1 norm: 1.916.. Val L1 norm: 2.328.. Train Linf norm: 145.502.. Val Linf norm: 238.848\n",
            "Epoch 23/97.. Train loss: 2.341.. Val loss: 2.326.. Train L1 norm: 1.937.. Val L1 norm: 2.358.. Train Linf norm: 148.168.. Val Linf norm: 243.718\n",
            "Epoch 24/97.. Train loss: 2.337.. Val loss: 2.324.. Train L1 norm: 1.956.. Val L1 norm: 2.385.. Train Linf norm: 155.020.. Val Linf norm: 247.974\n",
            "Epoch 25/97.. Train loss: 2.331.. Val loss: 2.318.. Train L1 norm: 1.978.. Val L1 norm: 2.417.. Train Linf norm: 154.730.. Val Linf norm: 253.240\n",
            "Epoch 26/97.. Train loss: 2.328.. Val loss: 2.313.. Train L1 norm: 2.001.. Val L1 norm: 2.450.. Train Linf norm: 155.203.. Val Linf norm: 258.531\n",
            "Epoch 27/97.. Train loss: 2.315.. Val loss: 2.301.. Train L1 norm: 2.043.. Val L1 norm: 2.504.. Train Linf norm: 165.071.. Val Linf norm: 266.931\n",
            "Epoch 28/97.. Train loss: 2.307.. Val loss: 2.295.. Train L1 norm: 2.082.. Val L1 norm: 2.547.. Train Linf norm: 162.519.. Val Linf norm: 273.834\n",
            "Epoch 29/97.. Train loss: 2.302.. Val loss: 2.294.. Train L1 norm: 2.097.. Val L1 norm: 2.560.. Train Linf norm: 170.507.. Val Linf norm: 275.793\n",
            "Epoch 30/97.. Train loss: 2.301.. Val loss: 2.292.. Train L1 norm: 2.110.. Val L1 norm: 2.573.. Train Linf norm: 173.886.. Val Linf norm: 277.887\n",
            "Epoch 31/97.. Train loss: 2.301.. Val loss: 2.291.. Train L1 norm: 2.115.. Val L1 norm: 2.585.. Train Linf norm: 173.146.. Val Linf norm: 279.774\n",
            "Epoch 32/97.. Train loss: 2.313.. Val loss: 2.289.. Train L1 norm: 2.132.. Val L1 norm: 2.597.. Train Linf norm: 165.918.. Val Linf norm: 281.685\n",
            "Epoch 33/97.. Train loss: 2.303.. Val loss: 2.287.. Train L1 norm: 2.135.. Val L1 norm: 2.610.. Train Linf norm: 172.649.. Val Linf norm: 283.790\n",
            "Epoch 34/97.. Train loss: 2.304.. Val loss: 2.285.. Train L1 norm: 2.140.. Val L1 norm: 2.624.. Train Linf norm: 175.772.. Val Linf norm: 286.043\n",
            "Epoch 35/97.. Train loss: 2.308.. Val loss: 2.284.. Train L1 norm: 2.152.. Val L1 norm: 2.634.. Train Linf norm: 172.499.. Val Linf norm: 287.729\n",
            "Epoch 36/97.. Train loss: 2.303.. Val loss: 2.282.. Train L1 norm: 2.161.. Val L1 norm: 2.649.. Train Linf norm: 178.209.. Val Linf norm: 290.064\n",
            "Epoch 37/97.. Train loss: 2.296.. Val loss: 2.279.. Train L1 norm: 2.165.. Val L1 norm: 2.665.. Train Linf norm: 177.992.. Val Linf norm: 292.520\n",
            "Epoch 38/97.. Train loss: 2.302.. Val loss: 2.277.. Train L1 norm: 2.192.. Val L1 norm: 2.680.. Train Linf norm: 182.180.. Val Linf norm: 294.891\n",
            "Epoch 39/97.. Train loss: 2.284.. Val loss: 2.270.. Train L1 norm: 2.205.. Val L1 norm: 2.710.. Train Linf norm: 184.237.. Val Linf norm: 299.622\n",
            "Epoch 40/97.. Train loss: 2.278.. Val loss: 2.268.. Train L1 norm: 2.209.. Val L1 norm: 2.727.. Train Linf norm: 185.130.. Val Linf norm: 302.448\n",
            "Epoch 41/97.. Train loss: 2.273.. Val loss: 2.260.. Train L1 norm: 2.237.. Val L1 norm: 2.761.. Train Linf norm: 186.408.. Val Linf norm: 307.645\n",
            "Epoch 42/97.. Train loss: 2.278.. Val loss: 2.258.. Train L1 norm: 2.272.. Val L1 norm: 2.778.. Train Linf norm: 189.951.. Val Linf norm: 310.447\n",
            "Epoch 43/97.. Train loss: 2.276.. Val loss: 2.258.. Train L1 norm: 2.273.. Val L1 norm: 2.783.. Train Linf norm: 185.753.. Val Linf norm: 311.136\n",
            "Epoch 44/97.. Train loss: 2.277.. Val loss: 2.257.. Train L1 norm: 2.267.. Val L1 norm: 2.789.. Train Linf norm: 189.018.. Val Linf norm: 312.094\n",
            "Epoch 45/97.. Train loss: 2.288.. Val loss: 2.257.. Train L1 norm: 2.270.. Val L1 norm: 2.793.. Train Linf norm: 194.680.. Val Linf norm: 312.784\n",
            "Epoch 46/97.. Train loss: 2.275.. Val loss: 2.256.. Train L1 norm: 2.281.. Val L1 norm: 2.799.. Train Linf norm: 198.915.. Val Linf norm: 313.763\n",
            "Epoch 47/97.. Train loss: 2.286.. Val loss: 2.256.. Train L1 norm: 2.283.. Val L1 norm: 2.802.. Train Linf norm: 194.646.. Val Linf norm: 314.224\n",
            "Epoch 48/97.. Train loss: 2.270.. Val loss: 2.256.. Train L1 norm: 2.278.. Val L1 norm: 2.807.. Train Linf norm: 196.868.. Val Linf norm: 315.109\n",
            "Epoch 49/97.. Train loss: 2.278.. Val loss: 2.255.. Train L1 norm: 2.288.. Val L1 norm: 2.813.. Train Linf norm: 194.255.. Val Linf norm: 315.997\n",
            "Epoch 50/97.. Train loss: 2.288.. Val loss: 2.254.. Train L1 norm: 2.295.. Val L1 norm: 2.817.. Train Linf norm: 194.103.. Val Linf norm: 316.753\n",
            "Epoch 51/97.. Train loss: 2.265.. Val loss: 2.254.. Train L1 norm: 2.295.. Val L1 norm: 2.824.. Train Linf norm: 199.211.. Val Linf norm: 317.858\n",
            "Epoch 52/97.. Train loss: 2.279.. Val loss: 2.253.. Train L1 norm: 2.292.. Val L1 norm: 2.828.. Train Linf norm: 197.754.. Val Linf norm: 318.584\n",
            "Epoch 53/97.. Train loss: 2.270.. Val loss: 2.251.. Train L1 norm: 2.300.. Val L1 norm: 2.839.. Train Linf norm: 190.525.. Val Linf norm: 320.362\n",
            "Epoch 54/97.. Train loss: 2.279.. Val loss: 2.251.. Train L1 norm: 2.316.. Val L1 norm: 2.843.. Train Linf norm: 202.685.. Val Linf norm: 320.981\n",
            "Epoch 55/97.. Train loss: 2.266.. Val loss: 2.250.. Train L1 norm: 2.311.. Val L1 norm: 2.850.. Train Linf norm: 202.011.. Val Linf norm: 322.149\n",
            "Epoch 56/97.. Train loss: 2.293.. Val loss: 2.250.. Train L1 norm: 2.319.. Val L1 norm: 2.852.. Train Linf norm: 192.740.. Val Linf norm: 322.461\n",
            "Epoch 57/97.. Train loss: 2.275.. Val loss: 2.249.. Train L1 norm: 2.320.. Val L1 norm: 2.855.. Train Linf norm: 203.938.. Val Linf norm: 322.940\n",
            "Epoch 58/97.. Train loss: 2.266.. Val loss: 2.249.. Train L1 norm: 2.314.. Val L1 norm: 2.856.. Train Linf norm: 199.486.. Val Linf norm: 323.158\n",
            "Epoch 59/97.. Train loss: 2.277.. Val loss: 2.249.. Train L1 norm: 2.312.. Val L1 norm: 2.858.. Train Linf norm: 197.951.. Val Linf norm: 323.436\n",
            "Epoch 60/97.. Train loss: 2.270.. Val loss: 2.249.. Train L1 norm: 2.324.. Val L1 norm: 2.859.. Train Linf norm: 201.682.. Val Linf norm: 323.649\n",
            "Epoch 61/97.. Train loss: 2.263.. Val loss: 2.248.. Train L1 norm: 2.317.. Val L1 norm: 2.863.. Train Linf norm: 196.763.. Val Linf norm: 324.266\n",
            "Epoch 62/97.. Train loss: 2.272.. Val loss: 2.248.. Train L1 norm: 2.323.. Val L1 norm: 2.864.. Train Linf norm: 200.346.. Val Linf norm: 324.538\n",
            "Epoch 63/97.. Train loss: 2.262.. Val loss: 2.248.. Train L1 norm: 2.325.. Val L1 norm: 2.866.. Train Linf norm: 199.438.. Val Linf norm: 324.848\n",
            "Epoch 64/97.. Train loss: 2.266.. Val loss: 2.247.. Train L1 norm: 2.330.. Val L1 norm: 2.869.. Train Linf norm: 196.038.. Val Linf norm: 325.312\n",
            "Epoch 65/97.. Train loss: 2.273.. Val loss: 2.247.. Train L1 norm: 2.319.. Val L1 norm: 2.871.. Train Linf norm: 197.294.. Val Linf norm: 325.599\n",
            "Epoch 66/97.. Train loss: 2.275.. Val loss: 2.246.. Train L1 norm: 2.331.. Val L1 norm: 2.874.. Train Linf norm: 197.139.. Val Linf norm: 326.095\n",
            "Epoch 67/97.. Train loss: 2.260.. Val loss: 2.246.. Train L1 norm: 2.333.. Val L1 norm: 2.876.. Train Linf norm: 194.542.. Val Linf norm: 326.368\n",
            "Epoch 68/97.. Train loss: 2.262.. Val loss: 2.246.. Train L1 norm: 2.329.. Val L1 norm: 2.877.. Train Linf norm: 198.563.. Val Linf norm: 326.645\n",
            "Epoch 69/97.. Train loss: 2.256.. Val loss: 2.246.. Train L1 norm: 2.330.. Val L1 norm: 2.879.. Train Linf norm: 198.179.. Val Linf norm: 326.938\n",
            "Epoch 70/97.. Train loss: 2.275.. Val loss: 2.246.. Train L1 norm: 2.332.. Val L1 norm: 2.880.. Train Linf norm: 196.372.. Val Linf norm: 327.131\n",
            "Epoch 71/97.. Train loss: 2.273.. Val loss: 2.246.. Train L1 norm: 2.340.. Val L1 norm: 2.880.. Train Linf norm: 207.267.. Val Linf norm: 327.168\n",
            "Epoch 72/97.. Train loss: 2.269.. Val loss: 2.245.. Train L1 norm: 2.343.. Val L1 norm: 2.881.. Train Linf norm: 204.650.. Val Linf norm: 327.292\n",
            "Epoch 73/97.. Train loss: 2.283.. Val loss: 2.245.. Train L1 norm: 2.336.. Val L1 norm: 2.881.. Train Linf norm: 201.581.. Val Linf norm: 327.327\n",
            "Epoch 74/97.. Train loss: 2.258.. Val loss: 2.245.. Train L1 norm: 2.341.. Val L1 norm: 2.882.. Train Linf norm: 206.828.. Val Linf norm: 327.414\n",
            "Epoch 75/97.. Train loss: 2.273.. Val loss: 2.245.. Train L1 norm: 2.331.. Val L1 norm: 2.882.. Train Linf norm: 199.356.. Val Linf norm: 327.441\n",
            "Epoch 76/97.. Train loss: 2.267.. Val loss: 2.245.. Train L1 norm: 2.332.. Val L1 norm: 2.883.. Train Linf norm: 201.430.. Val Linf norm: 327.561\n",
            "Epoch 77/97.. Train loss: 2.276.. Val loss: 2.245.. Train L1 norm: 2.336.. Val L1 norm: 2.883.. Train Linf norm: 202.678.. Val Linf norm: 327.585\n",
            "Epoch 78/97.. Train loss: 2.262.. Val loss: 2.245.. Train L1 norm: 2.330.. Val L1 norm: 2.883.. Train Linf norm: 197.160.. Val Linf norm: 327.628\n",
            "Epoch 79/97.. Train loss: 2.280.. Val loss: 2.245.. Train L1 norm: 2.341.. Val L1 norm: 2.883.. Train Linf norm: 203.936.. Val Linf norm: 327.645\n",
            "Epoch 80/97.. Train loss: 2.267.. Val loss: 2.245.. Train L1 norm: 2.337.. Val L1 norm: 2.884.. Train Linf norm: 200.296.. Val Linf norm: 327.787\n",
            "Epoch 81/97.. Train loss: 2.266.. Val loss: 2.245.. Train L1 norm: 2.337.. Val L1 norm: 2.885.. Train Linf norm: 203.407.. Val Linf norm: 327.848\n",
            "Epoch 82/97.. Train loss: 2.268.. Val loss: 2.245.. Train L1 norm: 2.337.. Val L1 norm: 2.885.. Train Linf norm: 201.173.. Val Linf norm: 327.877\n",
            "Epoch 83/97.. Train loss: 2.261.. Val loss: 2.245.. Train L1 norm: 2.330.. Val L1 norm: 2.885.. Train Linf norm: 198.303.. Val Linf norm: 327.930\n",
            "Epoch 84/97.. Train loss: 2.280.. Val loss: 2.245.. Train L1 norm: 2.339.. Val L1 norm: 2.885.. Train Linf norm: 195.541.. Val Linf norm: 327.950\n",
            "Epoch 85/97.. Train loss: 2.264.. Val loss: 2.245.. Train L1 norm: 2.345.. Val L1 norm: 2.885.. Train Linf norm: 205.240.. Val Linf norm: 327.953\n",
            "Epoch 86/97.. Train loss: 2.264.. Val loss: 2.245.. Train L1 norm: 2.337.. Val L1 norm: 2.885.. Train Linf norm: 194.390.. Val Linf norm: 327.957\n",
            "Epoch 87/97.. Train loss: 2.256.. Val loss: 2.245.. Train L1 norm: 2.348.. Val L1 norm: 2.885.. Train Linf norm: 204.103.. Val Linf norm: 327.960\n",
            "Epoch 88/97.. Train loss: 2.269.. Val loss: 2.245.. Train L1 norm: 2.334.. Val L1 norm: 2.885.. Train Linf norm: 204.531.. Val Linf norm: 327.965\n",
            "Epoch 89/97.. Train loss: 2.263.. Val loss: 2.245.. Train L1 norm: 2.332.. Val L1 norm: 2.885.. Train Linf norm: 198.606.. Val Linf norm: 327.970\n",
            "Epoch 90/97.. Train loss: 2.259.. Val loss: 2.245.. Train L1 norm: 2.337.. Val L1 norm: 2.885.. Train Linf norm: 203.620.. Val Linf norm: 327.975\n",
            "Epoch 91/97.. Train loss: 2.273.. Val loss: 2.245.. Train L1 norm: 2.346.. Val L1 norm: 2.885.. Train Linf norm: 208.102.. Val Linf norm: 327.980\n",
            "Epoch 92/97.. Train loss: 2.265.. Val loss: 2.245.. Train L1 norm: 2.336.. Val L1 norm: 2.885.. Train Linf norm: 204.182.. Val Linf norm: 327.984\n",
            "Epoch 93/97.. Train loss: 2.281.. Val loss: 2.245.. Train L1 norm: 2.338.. Val L1 norm: 2.885.. Train Linf norm: 207.679.. Val Linf norm: 327.977\n",
            "Epoch 94/97.. Train loss: 2.274.. Val loss: 2.245.. Train L1 norm: 2.334.. Val L1 norm: 2.885.. Train Linf norm: 205.876.. Val Linf norm: 327.978\n",
            "Epoch 95/97.. Train loss: 2.266.. Val loss: 2.245.. Train L1 norm: 2.339.. Val L1 norm: 2.885.. Train Linf norm: 199.452.. Val Linf norm: 327.984\n",
            "Epoch 96/97.. Train loss: 2.257.. Val loss: 2.245.. Train L1 norm: 2.330.. Val L1 norm: 2.886.. Train Linf norm: 200.997.. Val Linf norm: 328.010\n"
          ]
        },
        {
          "output_type": "stream",
          "name": "stderr",
          "text": [
            "[I 2023-05-30 13:29:05,444] Trial 73 finished with value: 2.885627545483907 and parameters: {'n_layers': 10, 'n_units_0': 1897, 'n_units_1': 2472, 'n_units_2': 3742, 'n_units_3': 1634, 'n_units_4': 1567, 'n_units_5': 257, 'n_units_6': 2573, 'n_units_7': 1060, 'n_units_8': 2565, 'n_units_9': 720, 'hidden_activation': 'GELU', 'output_activation': 'Linear', 'loss': 'Quantile', 'optimizer': 'SGD', 'lr': 0.0002682699370750813, 'batch_size': 256, 'n_epochs': 97, 'scheduler': 'StepLR', 'dropout_rate': 0.294446486223072, 'weight_decay': 0.0001105125339451196, 'momentum': 0.6899299215987762, 'step_size': 14, 'gamma': 0.2779961552834835}. Best is trial 13 with value: 1.4059733067830404.\n"
          ]
        },
        {
          "output_type": "stream",
          "name": "stdout",
          "text": [
            "Epoch 97/97.. Train loss: 2.260.. Val loss: 2.245.. Train L1 norm: 2.335.. Val L1 norm: 2.886.. Train Linf norm: 204.702.. Val Linf norm: 328.013\n"
          ]
        },
        {
          "output_type": "stream",
          "name": "stderr",
          "text": [
            "[I 2023-05-30 13:29:10,616] Trial 74 pruned. \n"
          ]
        },
        {
          "output_type": "stream",
          "name": "stdout",
          "text": [
            "Epoch 1/73.. Train loss: 2.491.. Val loss: 2.474.. Train L1 norm: 1.174.. Val L1 norm: 1.324.. Train Linf norm: 35.282.. Val Linf norm: 67.409\n",
            "Epoch 1/84.. Train loss: 2.536.. Val loss: 2.499.. Train L1 norm: 1.041.. Val L1 norm: 1.171.. Train Linf norm: 10.348.. Val Linf norm: 38.316\n",
            "Epoch 2/84.. Train loss: 2.496.. Val loss: 2.463.. Train L1 norm: 1.172.. Val L1 norm: 1.373.. Train Linf norm: 34.727.. Val Linf norm: 76.497\n",
            "Epoch 3/84.. Train loss: 2.467.. Val loss: 2.432.. Train L1 norm: 1.314.. Val L1 norm: 1.579.. Train Linf norm: 57.981.. Val Linf norm: 113.129\n",
            "Epoch 4/84.. Train loss: 2.443.. Val loss: 2.408.. Train L1 norm: 1.464.. Val L1 norm: 1.779.. Train Linf norm: 79.424.. Val Linf norm: 147.640\n",
            "Epoch 5/84.. Train loss: 2.412.. Val loss: 2.376.. Train L1 norm: 1.608.. Val L1 norm: 1.982.. Train Linf norm: 101.845.. Val Linf norm: 182.014\n",
            "Epoch 6/84.. Train loss: 2.389.. Val loss: 2.352.. Train L1 norm: 1.789.. Val L1 norm: 2.197.. Train Linf norm: 129.535.. Val Linf norm: 217.306\n",
            "Epoch 7/84.. Train loss: 2.372.. Val loss: 2.324.. Train L1 norm: 1.942.. Val L1 norm: 2.398.. Train Linf norm: 144.368.. Val Linf norm: 249.995\n",
            "Epoch 8/84.. Train loss: 2.368.. Val loss: 2.343.. Train L1 norm: 2.156.. Val L1 norm: 2.528.. Train Linf norm: 175.464.. Val Linf norm: 270.970\n",
            "Epoch 9/84.. Train loss: 2.392.. Val loss: 2.305.. Train L1 norm: 2.123.. Val L1 norm: 2.666.. Train Linf norm: 172.257.. Val Linf norm: 293.844\n",
            "Epoch 10/84.. Train loss: 2.280.. Val loss: 2.255.. Train L1 norm: 2.289.. Val L1 norm: 2.963.. Train Linf norm: 185.708.. Val Linf norm: 340.050\n",
            "Epoch 11/84.. Train loss: 2.222.. Val loss: 2.323.. Train L1 norm: 2.894.. Val L1 norm: 3.339.. Train Linf norm: 279.227.. Val Linf norm: 398.337\n",
            "Epoch 12/84.. Train loss: 2.298.. Val loss: 2.168.. Train L1 norm: 2.678.. Val L1 norm: 3.619.. Train Linf norm: 244.402.. Val Linf norm: 441.976\n",
            "Epoch 13/84.. Train loss: 2.179.. Val loss: 2.138.. Train L1 norm: 3.556.. Val L1 norm: 3.848.. Train Linf norm: 358.897.. Val Linf norm: 477.333\n",
            "Epoch 14/84.. Train loss: 2.192.. Val loss: 2.136.. Train L1 norm: 3.374.. Val L1 norm: 3.913.. Train Linf norm: 332.558.. Val Linf norm: 488.029\n",
            "Epoch 15/84.. Train loss: 2.186.. Val loss: 2.151.. Train L1 norm: 3.394.. Val L1 norm: 3.949.. Train Linf norm: 329.660.. Val Linf norm: 493.751\n",
            "Epoch 16/84.. Train loss: 2.154.. Val loss: 2.103.. Train L1 norm: 3.376.. Val L1 norm: 4.375.. Train Linf norm: 332.956.. Val Linf norm: 561.571\n",
            "Epoch 17/84.. Train loss: 2.139.. Val loss: 2.097.. Train L1 norm: 3.865.. Val L1 norm: 4.373.. Train Linf norm: 402.546.. Val Linf norm: 560.807\n",
            "Epoch 18/84.. Train loss: 2.187.. Val loss: 2.101.. Train L1 norm: 3.479.. Val L1 norm: 4.403.. Train Linf norm: 348.626.. Val Linf norm: 565.582\n",
            "Epoch 19/84.. Train loss: 2.115.. Val loss: 2.072.. Train L1 norm: 3.789.. Val L1 norm: 4.805.. Train Linf norm: 384.731.. Val Linf norm: 628.867\n",
            "Epoch 20/84.. Train loss: 2.164.. Val loss: 2.105.. Train L1 norm: 3.776.. Val L1 norm: 4.462.. Train Linf norm: 387.158.. Val Linf norm: 574.648\n",
            "Epoch 21/84.. Train loss: 2.125.. Val loss: 2.092.. Train L1 norm: 3.747.. Val L1 norm: 4.702.. Train Linf norm: 377.577.. Val Linf norm: 612.733\n",
            "Epoch 22/84.. Train loss: 2.083.. Val loss: 2.061.. Train L1 norm: 4.082.. Val L1 norm: 5.079.. Train Linf norm: 424.041.. Val Linf norm: 671.681\n",
            "Epoch 23/84.. Train loss: 2.142.. Val loss: 2.076.. Train L1 norm: 3.813.. Val L1 norm: 4.894.. Train Linf norm: 381.369.. Val Linf norm: 642.631\n",
            "Epoch 24/84.. Train loss: 2.088.. Val loss: 2.063.. Train L1 norm: 4.210.. Val L1 norm: 4.967.. Train Linf norm: 431.965.. Val Linf norm: 653.551\n",
            "Epoch 25/84.. Train loss: 2.099.. Val loss: 2.082.. Train L1 norm: 4.085.. Val L1 norm: 4.819.. Train Linf norm: 431.987.. Val Linf norm: 630.151\n",
            "Epoch 26/84.. Train loss: 2.091.. Val loss: 2.067.. Train L1 norm: 4.069.. Val L1 norm: 5.011.. Train Linf norm: 417.452.. Val Linf norm: 660.274\n",
            "Epoch 27/84.. Train loss: 2.087.. Val loss: 2.065.. Train L1 norm: 4.124.. Val L1 norm: 5.058.. Train Linf norm: 425.385.. Val Linf norm: 667.631\n",
            "Epoch 28/84.. Train loss: 2.095.. Val loss: 2.070.. Train L1 norm: 4.141.. Val L1 norm: 4.996.. Train Linf norm: 423.277.. Val Linf norm: 657.791\n",
            "Epoch 29/84.. Train loss: 2.085.. Val loss: 2.063.. Train L1 norm: 4.092.. Val L1 norm: 5.087.. Train Linf norm: 422.713.. Val Linf norm: 672.027\n",
            "Epoch 30/84.. Train loss: 2.083.. Val loss: 2.064.. Train L1 norm: 4.167.. Val L1 norm: 5.094.. Train Linf norm: 434.283.. Val Linf norm: 673.107\n",
            "Epoch 31/84.. Train loss: 2.069.. Val loss: 2.054.. Train L1 norm: 4.213.. Val L1 norm: 5.208.. Train Linf norm: 443.800.. Val Linf norm: 690.897\n",
            "Epoch 32/84.. Train loss: 2.100.. Val loss: 2.062.. Train L1 norm: 4.223.. Val L1 norm: 5.070.. Train Linf norm: 444.345.. Val Linf norm: 669.140\n",
            "Epoch 33/84.. Train loss: 2.080.. Val loss: 2.060.. Train L1 norm: 4.175.. Val L1 norm: 5.140.. Train Linf norm: 434.666.. Val Linf norm: 679.971\n",
            "Epoch 34/84.. Train loss: 2.074.. Val loss: 2.062.. Train L1 norm: 4.260.. Val L1 norm: 5.124.. Train Linf norm: 443.722.. Val Linf norm: 677.551\n",
            "Epoch 35/84.. Train loss: 2.086.. Val loss: 2.054.. Train L1 norm: 4.200.. Val L1 norm: 5.172.. Train Linf norm: 438.740.. Val Linf norm: 684.867\n",
            "Epoch 36/84.. Train loss: 2.065.. Val loss: 2.052.. Train L1 norm: 4.216.. Val L1 norm: 5.224.. Train Linf norm: 428.339.. Val Linf norm: 692.873\n",
            "Epoch 37/84.. Train loss: 2.092.. Val loss: 2.056.. Train L1 norm: 4.175.. Val L1 norm: 5.161.. Train Linf norm: 430.687.. Val Linf norm: 683.028\n",
            "Epoch 38/84.. Train loss: 2.070.. Val loss: 2.057.. Train L1 norm: 4.287.. Val L1 norm: 5.163.. Train Linf norm: 426.966.. Val Linf norm: 683.301\n",
            "Epoch 39/84.. Train loss: 2.084.. Val loss: 2.056.. Train L1 norm: 4.216.. Val L1 norm: 5.158.. Train Linf norm: 435.981.. Val Linf norm: 682.514\n",
            "Epoch 40/84.. Train loss: 2.066.. Val loss: 2.052.. Train L1 norm: 4.276.. Val L1 norm: 5.201.. Train Linf norm: 454.245.. Val Linf norm: 689.086\n",
            "Epoch 41/84.. Train loss: 2.065.. Val loss: 2.050.. Train L1 norm: 4.299.. Val L1 norm: 5.236.. Train Linf norm: 447.245.. Val Linf norm: 694.549\n",
            "Epoch 42/84.. Train loss: 2.058.. Val loss: 2.047.. Train L1 norm: 4.283.. Val L1 norm: 5.273.. Train Linf norm: 429.127.. Val Linf norm: 700.245\n",
            "Epoch 43/84.. Train loss: 2.073.. Val loss: 2.049.. Train L1 norm: 4.287.. Val L1 norm: 5.242.. Train Linf norm: 452.348.. Val Linf norm: 695.457\n",
            "Epoch 44/84.. Train loss: 2.066.. Val loss: 2.052.. Train L1 norm: 4.316.. Val L1 norm: 5.213.. Train Linf norm: 459.276.. Val Linf norm: 690.924\n",
            "Epoch 45/84.. Train loss: 2.073.. Val loss: 2.054.. Train L1 norm: 4.264.. Val L1 norm: 5.199.. Train Linf norm: 429.806.. Val Linf norm: 688.611\n",
            "Epoch 46/84.. Train loss: 2.069.. Val loss: 2.053.. Train L1 norm: 4.226.. Val L1 norm: 5.215.. Train Linf norm: 437.651.. Val Linf norm: 691.223\n",
            "Epoch 47/84.. Train loss: 2.075.. Val loss: 2.054.. Train L1 norm: 4.293.. Val L1 norm: 5.202.. Train Linf norm: 445.239.. Val Linf norm: 689.115\n",
            "Epoch 48/84.. Train loss: 2.078.. Val loss: 2.053.. Train L1 norm: 4.271.. Val L1 norm: 5.206.. Train Linf norm: 439.186.. Val Linf norm: 689.673\n",
            "Epoch 49/84.. Train loss: 2.071.. Val loss: 2.053.. Train L1 norm: 4.258.. Val L1 norm: 5.199.. Train Linf norm: 436.914.. Val Linf norm: 688.619\n",
            "Epoch 50/84.. Train loss: 2.066.. Val loss: 2.052.. Train L1 norm: 4.269.. Val L1 norm: 5.223.. Train Linf norm: 446.797.. Val Linf norm: 692.265\n",
            "Epoch 51/84.. Train loss: 2.066.. Val loss: 2.051.. Train L1 norm: 4.292.. Val L1 norm: 5.232.. Train Linf norm: 449.487.. Val Linf norm: 693.701\n",
            "Epoch 52/84.. Train loss: 2.079.. Val loss: 2.053.. Train L1 norm: 4.362.. Val L1 norm: 5.195.. Train Linf norm: 465.767.. Val Linf norm: 687.770\n",
            "Epoch 53/84.. Train loss: 2.064.. Val loss: 2.053.. Train L1 norm: 4.236.. Val L1 norm: 5.202.. Train Linf norm: 431.495.. Val Linf norm: 688.958\n",
            "Epoch 54/84.. Train loss: 2.084.. Val loss: 2.054.. Train L1 norm: 4.281.. Val L1 norm: 5.189.. Train Linf norm: 448.275.. Val Linf norm: 686.843\n",
            "Epoch 55/84.. Train loss: 2.064.. Val loss: 2.054.. Train L1 norm: 4.252.. Val L1 norm: 5.193.. Train Linf norm: 440.665.. Val Linf norm: 687.499\n",
            "Epoch 56/84.. Train loss: 2.061.. Val loss: 2.053.. Train L1 norm: 4.305.. Val L1 norm: 5.205.. Train Linf norm: 451.180.. Val Linf norm: 689.407\n",
            "Epoch 57/84.. Train loss: 2.062.. Val loss: 2.051.. Train L1 norm: 4.282.. Val L1 norm: 5.224.. Train Linf norm: 442.176.. Val Linf norm: 692.304\n",
            "Epoch 58/84.. Train loss: 2.067.. Val loss: 2.050.. Train L1 norm: 4.303.. Val L1 norm: 5.234.. Train Linf norm: 448.890.. Val Linf norm: 693.845\n",
            "Epoch 59/84.. Train loss: 2.063.. Val loss: 2.050.. Train L1 norm: 4.292.. Val L1 norm: 5.232.. Train Linf norm: 451.537.. Val Linf norm: 693.569\n",
            "Epoch 60/84.. Train loss: 2.067.. Val loss: 2.051.. Train L1 norm: 4.274.. Val L1 norm: 5.230.. Train Linf norm: 433.118.. Val Linf norm: 693.244\n",
            "Epoch 61/84.. Train loss: 2.059.. Val loss: 2.049.. Train L1 norm: 4.311.. Val L1 norm: 5.250.. Train Linf norm: 456.866.. Val Linf norm: 696.337\n",
            "Epoch 62/84.. Train loss: 2.069.. Val loss: 2.050.. Train L1 norm: 4.311.. Val L1 norm: 5.239.. Train Linf norm: 450.169.. Val Linf norm: 694.620\n",
            "Epoch 63/84.. Train loss: 2.059.. Val loss: 2.050.. Train L1 norm: 4.304.. Val L1 norm: 5.241.. Train Linf norm: 457.280.. Val Linf norm: 694.855\n",
            "Epoch 64/84.. Train loss: 2.069.. Val loss: 2.049.. Train L1 norm: 4.328.. Val L1 norm: 5.244.. Train Linf norm: 457.359.. Val Linf norm: 695.324\n",
            "Epoch 65/84.. Train loss: 2.062.. Val loss: 2.048.. Train L1 norm: 4.338.. Val L1 norm: 5.260.. Train Linf norm: 452.004.. Val Linf norm: 697.879\n",
            "Epoch 66/84.. Train loss: 2.057.. Val loss: 2.048.. Train L1 norm: 4.326.. Val L1 norm: 5.261.. Train Linf norm: 444.451.. Val Linf norm: 698.002\n",
            "Epoch 67/84.. Train loss: 2.059.. Val loss: 2.048.. Train L1 norm: 4.305.. Val L1 norm: 5.260.. Train Linf norm: 447.987.. Val Linf norm: 697.774\n",
            "Epoch 68/84.. Train loss: 2.070.. Val loss: 2.048.. Train L1 norm: 4.337.. Val L1 norm: 5.257.. Train Linf norm: 449.007.. Val Linf norm: 697.319\n",
            "Epoch 69/84.. Train loss: 2.067.. Val loss: 2.048.. Train L1 norm: 4.276.. Val L1 norm: 5.255.. Train Linf norm: 434.198.. Val Linf norm: 697.020\n",
            "Epoch 70/84.. Train loss: 2.067.. Val loss: 2.048.. Train L1 norm: 4.320.. Val L1 norm: 5.253.. Train Linf norm: 443.574.. Val Linf norm: 696.809\n",
            "Epoch 71/84.. Train loss: 2.059.. Val loss: 2.048.. Train L1 norm: 4.330.. Val L1 norm: 5.255.. Train Linf norm: 437.554.. Val Linf norm: 697.076\n",
            "Epoch 72/84.. Train loss: 2.066.. Val loss: 2.048.. Train L1 norm: 4.326.. Val L1 norm: 5.255.. Train Linf norm: 445.673.. Val Linf norm: 697.082\n",
            "Epoch 73/84.. Train loss: 2.061.. Val loss: 2.048.. Train L1 norm: 4.305.. Val L1 norm: 5.261.. Train Linf norm: 448.178.. Val Linf norm: 697.976\n",
            "Epoch 74/84.. Train loss: 2.071.. Val loss: 2.048.. Train L1 norm: 4.358.. Val L1 norm: 5.259.. Train Linf norm: 456.556.. Val Linf norm: 697.583\n",
            "Epoch 75/84.. Train loss: 2.082.. Val loss: 2.048.. Train L1 norm: 4.307.. Val L1 norm: 5.253.. Train Linf norm: 442.390.. Val Linf norm: 696.691\n",
            "Epoch 76/84.. Train loss: 2.063.. Val loss: 2.048.. Train L1 norm: 4.331.. Val L1 norm: 5.251.. Train Linf norm: 449.462.. Val Linf norm: 696.422\n",
            "Epoch 77/84.. Train loss: 2.063.. Val loss: 2.049.. Train L1 norm: 4.334.. Val L1 norm: 5.251.. Train Linf norm: 456.778.. Val Linf norm: 696.387\n",
            "Epoch 78/84.. Train loss: 2.081.. Val loss: 2.049.. Train L1 norm: 4.327.. Val L1 norm: 5.245.. Train Linf norm: 436.654.. Val Linf norm: 695.475\n",
            "Epoch 79/84.. Train loss: 2.057.. Val loss: 2.049.. Train L1 norm: 4.346.. Val L1 norm: 5.246.. Train Linf norm: 453.241.. Val Linf norm: 695.547\n",
            "Epoch 80/84.. Train loss: 2.066.. Val loss: 2.049.. Train L1 norm: 4.313.. Val L1 norm: 5.245.. Train Linf norm: 451.565.. Val Linf norm: 695.427\n",
            "Epoch 81/84.. Train loss: 2.058.. Val loss: 2.049.. Train L1 norm: 4.301.. Val L1 norm: 5.247.. Train Linf norm: 433.535.. Val Linf norm: 695.831\n",
            "Epoch 82/84.. Train loss: 2.071.. Val loss: 2.049.. Train L1 norm: 4.326.. Val L1 norm: 5.247.. Train Linf norm: 447.478.. Val Linf norm: 695.726\n",
            "Epoch 83/84.. Train loss: 2.067.. Val loss: 2.049.. Train L1 norm: 4.304.. Val L1 norm: 5.248.. Train Linf norm: 451.514.. Val Linf norm: 695.960\n"
          ]
        },
        {
          "output_type": "stream",
          "name": "stderr",
          "text": [
            "[I 2023-05-30 13:40:13,435] Trial 75 finished with value: 5.24758711528778 and parameters: {'n_layers': 10, 'n_units_0': 3013, 'n_units_1': 2782, 'n_units_2': 508, 'n_units_3': 2172, 'n_units_4': 1405, 'n_units_5': 832, 'n_units_6': 3336, 'n_units_7': 3071, 'n_units_8': 3477, 'n_units_9': 559, 'hidden_activation': 'GELU', 'output_activation': 'Linear', 'loss': 'Quantile', 'optimizer': 'SGD', 'lr': 0.00036985693671692083, 'batch_size': 256, 'n_epochs': 84, 'scheduler': 'StepLR', 'dropout_rate': 0.33266041904146015, 'weight_decay': 0.00027353396899238905, 'momentum': 0.8308382791302609, 'step_size': 13, 'gamma': 0.3421826534864446}. Best is trial 13 with value: 1.4059733067830404.\n"
          ]
        },
        {
          "output_type": "stream",
          "name": "stdout",
          "text": [
            "Epoch 84/84.. Train loss: 2.066.. Val loss: 2.049.. Train L1 norm: 4.312.. Val L1 norm: 5.248.. Train Linf norm: 460.589.. Val Linf norm: 695.858\n",
            "Epoch 1/129.. Train loss: 2.556.. Val loss: 2.523.. Train L1 norm: 1.017.. Val L1 norm: 1.040.. Train Linf norm: 5.649.. Val Linf norm: 10.930\n",
            "Epoch 2/129.. Train loss: 2.530.. Val loss: 2.514.. Train L1 norm: 1.037.. Val L1 norm: 1.074.. Train Linf norm: 10.375.. Val Linf norm: 18.418\n",
            "Epoch 3/129.. Train loss: 2.547.. Val loss: 2.506.. Train L1 norm: 1.067.. Val L1 norm: 1.109.. Train Linf norm: 16.804.. Val Linf norm: 25.801\n",
            "Epoch 4/129.. Train loss: 2.524.. Val loss: 2.500.. Train L1 norm: 1.097.. Val L1 norm: 1.145.. Train Linf norm: 22.040.. Val Linf norm: 33.157\n",
            "Epoch 5/129.. Train loss: 2.519.. Val loss: 2.490.. Train L1 norm: 1.120.. Val L1 norm: 1.185.. Train Linf norm: 25.728.. Val Linf norm: 41.064\n",
            "Epoch 6/129.. Train loss: 2.494.. Val loss: 2.479.. Train L1 norm: 1.156.. Val L1 norm: 1.231.. Train Linf norm: 31.213.. Val Linf norm: 49.863\n",
            "Epoch 7/129.. Train loss: 2.490.. Val loss: 2.467.. Train L1 norm: 1.203.. Val L1 norm: 1.280.. Train Linf norm: 41.371.. Val Linf norm: 59.128\n",
            "Epoch 8/129.. Train loss: 2.500.. Val loss: 2.461.. Train L1 norm: 1.246.. Val L1 norm: 1.316.. Train Linf norm: 48.532.. Val Linf norm: 65.914\n",
            "Epoch 9/129.. Train loss: 2.477.. Val loss: 2.449.. Train L1 norm: 1.279.. Val L1 norm: 1.371.. Train Linf norm: 51.713.. Val Linf norm: 75.942\n",
            "Epoch 10/129.. Train loss: 2.480.. Val loss: 2.442.. Train L1 norm: 1.345.. Val L1 norm: 1.420.. Train Linf norm: 64.138.. Val Linf norm: 84.699\n",
            "Epoch 11/129.. Train loss: 2.474.. Val loss: 2.425.. Train L1 norm: 1.381.. Val L1 norm: 1.485.. Train Linf norm: 70.013.. Val Linf norm: 96.699\n",
            "Epoch 12/129.. Train loss: 2.431.. Val loss: 2.390.. Train L1 norm: 1.481.. Val L1 norm: 1.609.. Train Linf norm: 84.903.. Val Linf norm: 119.454\n",
            "Epoch 13/129.. Train loss: 2.410.. Val loss: 2.379.. Train L1 norm: 1.540.. Val L1 norm: 1.656.. Train Linf norm: 91.900.. Val Linf norm: 127.887\n",
            "Epoch 14/129.. Train loss: 2.404.. Val loss: 2.369.. Train L1 norm: 1.609.. Val L1 norm: 1.702.. Train Linf norm: 103.866.. Val Linf norm: 136.156\n",
            "Epoch 15/129.. Train loss: 2.388.. Val loss: 2.362.. Train L1 norm: 1.643.. Val L1 norm: 1.738.. Train Linf norm: 108.594.. Val Linf norm: 142.638\n",
            "Epoch 16/129.. Train loss: 2.395.. Val loss: 2.350.. Train L1 norm: 1.668.. Val L1 norm: 1.792.. Train Linf norm: 110.492.. Val Linf norm: 152.315\n",
            "Epoch 17/129.. Train loss: 2.338.. Val loss: 2.335.. Train L1 norm: 1.736.. Val L1 norm: 1.868.. Train Linf norm: 116.523.. Val Linf norm: 165.911\n",
            "Epoch 18/129.. Train loss: 2.355.. Val loss: 2.304.. Train L1 norm: 1.873.. Val L1 norm: 2.031.. Train Linf norm: 142.702.. Val Linf norm: 194.682\n",
            "Epoch 19/129.. Train loss: 2.396.. Val loss: 2.302.. Train L1 norm: 1.836.. Val L1 norm: 2.041.. Train Linf norm: 137.355.. Val Linf norm: 196.479\n",
            "Epoch 20/129.. Train loss: 2.312.. Val loss: 2.265.. Train L1 norm: 2.004.. Val L1 norm: 2.302.. Train Linf norm: 161.184.. Val Linf norm: 241.749\n",
            "Epoch 21/129.. Train loss: 2.428.. Val loss: 2.273.. Train L1 norm: 2.127.. Val L1 norm: 2.219.. Train Linf norm: 178.880.. Val Linf norm: 227.689\n",
            "Epoch 22/129.. Train loss: 2.315.. Val loss: 2.251.. Train L1 norm: 2.086.. Val L1 norm: 2.380.. Train Linf norm: 169.107.. Val Linf norm: 255.465\n",
            "Epoch 23/129.. Train loss: 2.369.. Val loss: 2.253.. Train L1 norm: 2.275.. Val L1 norm: 2.348.. Train Linf norm: 198.020.. Val Linf norm: 250.262\n",
            "Epoch 24/129.. Train loss: 2.336.. Val loss: 2.239.. Train L1 norm: 2.109.. Val L1 norm: 2.450.. Train Linf norm: 179.077.. Val Linf norm: 267.545\n",
            "Epoch 25/129.. Train loss: 2.294.. Val loss: 2.236.. Train L1 norm: 2.195.. Val L1 norm: 2.467.. Train Linf norm: 183.530.. Val Linf norm: 270.552\n",
            "Epoch 26/129.. Train loss: 2.356.. Val loss: 2.237.. Train L1 norm: 2.158.. Val L1 norm: 2.455.. Train Linf norm: 174.453.. Val Linf norm: 268.414\n",
            "Epoch 27/129.. Train loss: 2.297.. Val loss: 2.231.. Train L1 norm: 2.226.. Val L1 norm: 2.507.. Train Linf norm: 195.152.. Val Linf norm: 277.430\n",
            "Epoch 28/129.. Train loss: 2.273.. Val loss: 2.228.. Train L1 norm: 2.221.. Val L1 norm: 2.520.. Train Linf norm: 190.482.. Val Linf norm: 279.634\n",
            "Epoch 29/129.. Train loss: 2.276.. Val loss: 2.216.. Train L1 norm: 2.247.. Val L1 norm: 2.636.. Train Linf norm: 193.882.. Val Linf norm: 299.191\n",
            "Epoch 30/129.. Train loss: 2.376.. Val loss: 2.220.. Train L1 norm: 2.330.. Val L1 norm: 2.589.. Train Linf norm: 205.691.. Val Linf norm: 291.193\n",
            "Epoch 31/129.. Train loss: 2.315.. Val loss: 2.219.. Train L1 norm: 2.244.. Val L1 norm: 2.597.. Train Linf norm: 192.337.. Val Linf norm: 292.735\n",
            "Epoch 32/129.. Train loss: 2.274.. Val loss: 2.208.. Train L1 norm: 2.309.. Val L1 norm: 2.704.. Train Linf norm: 192.553.. Val Linf norm: 310.562\n",
            "Epoch 33/129.. Train loss: 2.289.. Val loss: 2.207.. Train L1 norm: 2.379.. Val L1 norm: 2.700.. Train Linf norm: 211.738.. Val Linf norm: 310.125\n",
            "Epoch 34/129.. Train loss: 2.301.. Val loss: 2.206.. Train L1 norm: 2.355.. Val L1 norm: 2.714.. Train Linf norm: 203.145.. Val Linf norm: 312.425\n",
            "Epoch 35/129.. Train loss: 2.268.. Val loss: 2.201.. Train L1 norm: 2.382.. Val L1 norm: 2.762.. Train Linf norm: 213.476.. Val Linf norm: 320.585\n",
            "Epoch 36/129.. Train loss: 2.247.. Val loss: 2.191.. Train L1 norm: 2.402.. Val L1 norm: 2.876.. Train Linf norm: 209.275.. Val Linf norm: 339.475\n",
            "Epoch 37/129.. Train loss: 2.288.. Val loss: 2.191.. Train L1 norm: 2.514.. Val L1 norm: 2.870.. Train Linf norm: 234.458.. Val Linf norm: 338.527\n",
            "Epoch 38/129.. Train loss: 2.333.. Val loss: 2.191.. Train L1 norm: 2.531.. Val L1 norm: 2.859.. Train Linf norm: 234.676.. Val Linf norm: 336.765\n",
            "Epoch 39/129.. Train loss: 2.250.. Val loss: 2.191.. Train L1 norm: 2.445.. Val L1 norm: 2.858.. Train Linf norm: 221.372.. Val Linf norm: 336.561\n",
            "Epoch 40/129.. Train loss: 2.314.. Val loss: 2.191.. Train L1 norm: 2.490.. Val L1 norm: 2.853.. Train Linf norm: 229.627.. Val Linf norm: 335.811\n",
            "Epoch 41/129.. Train loss: 2.268.. Val loss: 2.191.. Train L1 norm: 2.451.. Val L1 norm: 2.850.. Train Linf norm: 216.269.. Val Linf norm: 335.353\n",
            "Epoch 42/129.. Train loss: 2.275.. Val loss: 2.191.. Train L1 norm: 2.440.. Val L1 norm: 2.851.. Train Linf norm: 217.301.. Val Linf norm: 335.488\n",
            "Epoch 43/129.. Train loss: 2.380.. Val loss: 2.193.. Train L1 norm: 2.450.. Val L1 norm: 2.824.. Train Linf norm: 218.145.. Val Linf norm: 330.987\n",
            "Epoch 44/129.. Train loss: 2.251.. Val loss: 2.191.. Train L1 norm: 2.438.. Val L1 norm: 2.842.. Train Linf norm: 216.196.. Val Linf norm: 334.044\n",
            "Epoch 45/129.. Train loss: 2.258.. Val loss: 2.188.. Train L1 norm: 2.459.. Val L1 norm: 2.877.. Train Linf norm: 222.150.. Val Linf norm: 339.838\n",
            "Epoch 46/129.. Train loss: 2.239.. Val loss: 2.187.. Train L1 norm: 2.464.. Val L1 norm: 2.891.. Train Linf norm: 220.037.. Val Linf norm: 342.221\n",
            "Epoch 47/129.. Train loss: 2.331.. Val loss: 2.188.. Train L1 norm: 2.447.. Val L1 norm: 2.879.. Train Linf norm: 217.919.. Val Linf norm: 340.292\n",
            "Epoch 48/129.. Train loss: 2.269.. Val loss: 2.188.. Train L1 norm: 2.458.. Val L1 norm: 2.876.. Train Linf norm: 218.889.. Val Linf norm: 339.701\n",
            "Epoch 49/129.. Train loss: 2.279.. Val loss: 2.188.. Train L1 norm: 2.459.. Val L1 norm: 2.875.. Train Linf norm: 223.427.. Val Linf norm: 339.549\n",
            "Epoch 50/129.. Train loss: 2.226.. Val loss: 2.187.. Train L1 norm: 2.446.. Val L1 norm: 2.881.. Train Linf norm: 217.276.. Val Linf norm: 340.588\n",
            "Epoch 51/129.. Train loss: 2.252.. Val loss: 2.187.. Train L1 norm: 2.444.. Val L1 norm: 2.885.. Train Linf norm: 214.294.. Val Linf norm: 341.227\n",
            "Epoch 52/129.. Train loss: 2.286.. Val loss: 2.187.. Train L1 norm: 2.427.. Val L1 norm: 2.886.. Train Linf norm: 214.800.. Val Linf norm: 341.469\n",
            "Epoch 53/129.. Train loss: 2.236.. Val loss: 2.186.. Train L1 norm: 2.437.. Val L1 norm: 2.899.. Train Linf norm: 217.293.. Val Linf norm: 343.612\n",
            "Epoch 54/129.. Train loss: 2.272.. Val loss: 2.186.. Train L1 norm: 2.519.. Val L1 norm: 2.899.. Train Linf norm: 240.258.. Val Linf norm: 343.583\n",
            "Epoch 55/129.. Train loss: 2.317.. Val loss: 2.185.. Train L1 norm: 2.443.. Val L1 norm: 2.900.. Train Linf norm: 217.436.. Val Linf norm: 343.766\n",
            "Epoch 56/129.. Train loss: 2.325.. Val loss: 2.185.. Train L1 norm: 2.489.. Val L1 norm: 2.901.. Train Linf norm: 236.881.. Val Linf norm: 343.968\n",
            "Epoch 57/129.. Train loss: 2.245.. Val loss: 2.184.. Train L1 norm: 2.461.. Val L1 norm: 2.912.. Train Linf norm: 225.048.. Val Linf norm: 345.702\n",
            "Epoch 58/129.. Train loss: 2.238.. Val loss: 2.183.. Train L1 norm: 2.457.. Val L1 norm: 2.923.. Train Linf norm: 216.869.. Val Linf norm: 347.623\n",
            "Epoch 59/129.. Train loss: 2.296.. Val loss: 2.183.. Train L1 norm: 2.499.. Val L1 norm: 2.923.. Train Linf norm: 229.014.. Val Linf norm: 347.560\n",
            "Epoch 60/129.. Train loss: 2.263.. Val loss: 2.183.. Train L1 norm: 2.521.. Val L1 norm: 2.923.. Train Linf norm: 238.749.. Val Linf norm: 347.530\n",
            "Epoch 61/129.. Train loss: 2.323.. Val loss: 2.183.. Train L1 norm: 2.490.. Val L1 norm: 2.922.. Train Linf norm: 216.352.. Val Linf norm: 347.467\n",
            "Epoch 62/129.. Train loss: 2.275.. Val loss: 2.183.. Train L1 norm: 2.492.. Val L1 norm: 2.923.. Train Linf norm: 224.410.. Val Linf norm: 347.624\n"
          ]
        }
      ],
      "source": [
        "if OPTIMIZE:\n",
        "    # Creating a study object with Optuna with TPE sampler and median pruner \n",
        "    study = optuna.create_study(direction=\"minimize\", sampler=optuna.samplers.TPESampler(), pruner=optuna.pruners.MedianPruner())\n",
        "\n",
        "    # Running Optuna with 100 trials when we are optimizing.\n",
        "    study.optimize(objective, n_trials=N_TRIALS)\n",
        "\n",
        "    # Printing the best trial information\n",
        "    print(\"Best trial:\")\n",
        "    trial = study.best_trial\n",
        "    print(\"  Value: \", trial.value)\n",
        "    print(\"  Params: \")\n",
        "    for key, value in trial.params.items():\n",
        "        print(f\"    {key}: {value}\")\n"
      ]
    },
    {
      "cell_type": "markdown",
      "metadata": {
        "id": "jmMfE9_dUZiS"
      },
      "source": [
        "## Training the model"
      ]
    },
    {
      "cell_type": "code",
      "execution_count": null,
      "metadata": {
        "id": "phyiHlWEUZiT"
      },
      "outputs": [],
      "source": [
        "# Creating the best network and optimizer using the best hyperparameters\n",
        "if OPTIMIZE:\n",
        "    net, \\\n",
        "    loss_fn, \\\n",
        "    optimizer, \\\n",
        "    batch_size, \\\n",
        "    n_epochs, \\\n",
        "    scheduler, \\\n",
        "    loss_name, \\\n",
        "    optimizer_name, \\\n",
        "    scheduler_name, \\\n",
        "    n_units, \\\n",
        "    n_layers, \\\n",
        "    hidden_activation, \\\n",
        "    output_activation, \\\n",
        "    lr, \\\n",
        "    dropout_rate = create_model(trial, optimize=True)\n",
        "\n",
        "# Creating the network with predefined hyperparameters\n",
        "else:\n",
        "    net, \\\n",
        "    loss_fn, \\\n",
        "    optimizer, \\\n",
        "    batch_size, \\\n",
        "    n_epochs, \\\n",
        "    scheduler, \\\n",
        "    loss_name, \\\n",
        "    optimizer_name, \\\n",
        "    scheduler_name, \\\n",
        "    n_units, \\\n",
        "    n_layers, \\\n",
        "    hidden_activation, \\\n",
        "    output_activation, \\\n",
        "    lr, \\\n",
        "    dropout_rate = create_model(trial=None, optimize=True)"
      ]
    },
    {
      "cell_type": "code",
      "execution_count": null,
      "metadata": {
        "id": "_yq-oY81UZiU"
      },
      "outputs": [],
      "source": [
        "print(\"loss_fn:\", net)\n",
        "print(\"loss_fn:\", loss_fn)\n",
        "print(\"batch_size:\", batch_size)\n",
        "print(\"n_epochs:\", n_epochs)\n",
        "print(\"scheduler:\", scheduler)\n",
        "print(\"loss_name:\", loss_name)\n",
        "print(\"optimizer_name:\", optimizer_name)\n",
        "print(\"scheduler_name:\", scheduler_name)\n",
        "print(\"n_units:\", n_units)\n",
        "print(\"n_layers:\", n_layers)\n",
        "print(\"hidden_activation:\", hidden_activation)\n",
        "print(\"output_activation:\", output_activation)\n",
        "print(\"lr\", lr)\n",
        "print(\"dropout_rate\", dropout_rate)"
      ]
    },
    {
      "cell_type": "markdown",
      "metadata": {
        "id": "E7aLWdZyUZiW",
        "outputId": "8fb1e8c6-5aa3-43a1-a255-712cf9396d0c"
      },
      "source": [
        "After optimizing with Optuna and deciding on the best hyperparameters, we combine the training and validatin set, using that as the new training set for training the model, and then evaluate the model on the test set"
      ]
    },
    {
      "cell_type": "code",
      "execution_count": null,
      "metadata": {
        "id": "jIBboeQX4cno"
      },
      "outputs": [],
      "source": [
        "x_train_val = torch.cat((x_train, x_val), 0)\n",
        "y_train_val = torch.cat((y_train, y_val), 0)\n",
        "\n",
        "train_val_loader = torch.utils.data.DataLoader(\n",
        "    torch.utils.data.TensorDataset(x_train_val, y_train_val), batch_size=batch_size, shuffle=True\n",
        ")\n",
        "test_loader = torch.utils.data.DataLoader(\n",
        "    torch.utils.data.TensorDataset(x_test, y_test), batch_size=batch_size\n",
        ")\n",
        "\n",
        "train_losses, _, test_losses, train_metrics, _, test_metrics, = train_and_eval(\n",
        "    net, loss_fn, optimizer, batch_size, n_epochs, scheduler, train_val_loader, None, test_loader, None\n",
        ")"
      ]
    },
    {
      "cell_type": "markdown",
      "metadata": {
        "id": "akNucrgMUZiW"
      },
      "source": [
        "## Saving"
      ]
    },
    {
      "cell_type": "code",
      "execution_count": null,
      "metadata": {
        "id": "LHsrs2Y-UZic"
      },
      "outputs": [],
      "source": [
        "# create a dictionary to store the rest of the variables\n",
        "import json\n",
        "\n",
        "# save the network to a .pth file\n",
        "torch.save(net.state_dict(), \"net.pth\")\n",
        "save_file(\"net.pth\")\n",
        "\n",
        "# save the optimizer to a .pth file\n",
        "torch.save(optimizer.state_dict(), \"optimizer.pth\")\n",
        "save_file(\"optimizer.pth\")\n",
        "\n",
        "# save the scheduler to a .pth file if it is not None\n",
        "if scheduler is not None:\n",
        "  torch.save(scheduler.state_dict(), \"scheduler.pth\")\n",
        "  save_file(\"scheduler.pth\")\n",
        "\n",
        "# create a dictionary to store the rest of the variables\n",
        "if isinstance(hidden_activation.__class__.__name__, list):\n",
        "    hidden_activation_name = hidden_activation.__class__.__name__[0]\n",
        "else:\n",
        "    hidden_activation_name = hidden_activation.__class__.__name__\n",
        "\n",
        "if isinstance(output_activation.__class__.__name__, list):\n",
        "    output_activation_name = output_activation.__class__.__name__[0]\n",
        "else:\n",
        "    output_activation_name = output_activation.__class__.__name__\n",
        "\n",
        "var_dict = {\n",
        "  \"batch_size\": batch_size,\n",
        "  \"n_epochs\": n_epochs,\n",
        "  \"loss_name\": loss_name,\n",
        "  \"optimizer_name\": optimizer_name,\n",
        "  \"scheduler_name\": scheduler_name,\n",
        "  \"n_units\": n_units,\n",
        "  \"n_layers\": n_layers,\n",
        "  \"hidden_activation_name\": hidden_activation_name,\n",
        "  \"output_activation_name\": output_activation_name,\n",
        "  \"lr\": lr,\n",
        "  \"dropout_rate\": dropout_rate\n",
        "}\n",
        "\n",
        "# Adding the subparameters to the var_dict for saving\n",
        "if hidden_activation_name == \"LeakyReLU\":\n",
        "  var_dict[\"leakyrelu_slope\"] = hidden_activation.negative_slope\n",
        "elif hidden_activation_name == \"PReLU\":\n",
        "  var_dict[\"prelu_init\"] = hidden_activation.weight.item()  # .item() is needed because weight is a tensor\n",
        "elif hidden_activation_name == \"SoftPlus\":\n",
        "  var_dict[\"softplus_beta\"] = hidden_activation.beta\n",
        "\n",
        "# save the dictionary to a .json file\n",
        "with open(\"var_dict.json\", \"w\") as f:\n",
        "  json.dump(var_dict, f)\n",
        "save_file(\"var_dict.json\")\n",
        "\n",
        "# Saving the output of the training using pandas\n",
        "train_df = pd.DataFrame(\n",
        "    {\n",
        "        \"train_loss\": train_losses,\n",
        "        \"test_loss\": test_losses,\n",
        "        \"train_l1_norm\": [m[\"l1_norm\"] for m in train_metrics],\n",
        "        \"test_l1_norm\": [m[\"l1_norm\"] for m in test_metrics],\n",
        "        \"train_linf_norm\": [m[\"linf_norm\"] for m in train_metrics],\n",
        "        \"test_linf_norm\": [m[\"linf_norm\"] for m in test_metrics],\n",
        "    }\n",
        ")\n",
        "train_df.to_csv(\"train_output.csv\", index=False)\n",
        "save_file(\"train_output.csv\")"
      ]
    },
    {
      "cell_type": "code",
      "execution_count": null,
      "metadata": {
        "id": "WDNrony-4cnp"
      },
      "outputs": [],
      "source": [
        "[key for key in var_dict.keys()]"
      ]
    },
    {
      "cell_type": "code",
      "execution_count": null,
      "metadata": {
        "id": "G_Duv4pT4cnp"
      },
      "outputs": [],
      "source": [
        "#%%script echo skipping\n",
        "\n",
        "hidden_activation_name\n",
        "output_activation_name"
      ]
    },
    {
      "cell_type": "markdown",
      "metadata": {
        "id": "qU23l7dIUZie"
      },
      "source": [
        "## Visualizing the results"
      ]
    },
    {
      "cell_type": "code",
      "execution_count": null,
      "metadata": {
        "id": "cippWZS6UZie"
      },
      "outputs": [],
      "source": [
        "# First figure: Train and Test L1 Norm\n",
        "plt.figure(figsize=(6, 4))\n",
        "plt.plot([m[\"l1_norm\"] for m in train_metrics_loaded], label=\"Train L1 Norm\", color='blue')\n",
        "plt.plot([m[\"l1_norm\"] for m in test_metrics_loaded], label=\"Test L1 Norm\", color='red')\n",
        "plt.xlabel(\"Epoch\")\n",
        "plt.ylabel(\"L1 Norm\")\n",
        "plt.title(\"NNGRX Train and Test L1 Norm per Epoch\")\n",
        "plt.yscale(\"log\")\n",
        "plt.grid(True)\n",
        "plt.xlim(right=200)\n",
        "plt.ylim(1e-3, 1e2)\n",
        "plt.legend()\n",
        "plt.tight_layout()\n",
        "# plt.savefig(\"NNGRX_L1_norm_plot.png\", dpi=300)\n",
        "plt.savefig(\"NNGRX_L1_norm_plot.png\")\n",
        "\n",
        "# Second figure: Train and Test Linf Norm\n",
        "plt.figure(figsize=(6, 4))\n",
        "plt.plot([m[\"linf_norm\"] for m in train_metrics_loaded], label=\"Train Linf Norm\", color='blue')\n",
        "plt.plot([m[\"linf_norm\"] for m in test_metrics_loaded], label=\"Test Linf Norm\", color='red')\n",
        "plt.xlabel(\"Epoch\")\n",
        "plt.ylabel(\"Linf Norm\")\n",
        "plt.title(\"NNGRX Train and Test Linf Norm per Epoch\")\n",
        "plt.yscale(\"log\")\n",
        "plt.grid(True)\n",
        "plt.xlim(right=200)\n",
        "plt.ylim(1e-3, 1e2)\n",
        "plt.legend()\n",
        "plt.tight_layout()\n",
        "# plt.savefig(\"NNGRX_Linf_norm_plot.png\", dpi=300)\n",
        "plt.savefig(\"NNGRX_Linf_norm_plot.png\")\n",
        "\n",
        "# Third figure: MSE of training data and test data\n",
        "plt.figure(figsize=(6, 4))\n",
        "plt.plot(train_losses_loaded, label=\"Training Data\", color='blue')\n",
        "plt.plot(test_losses_loaded, label=\"Test Data\", color='red')\n",
        "plt.xlabel(\"Epoch\")\n",
        "plt.ylabel(\"MSE\")\n",
        "plt.title(\"NNGRX MSE of Training and Test Data per Epoch\")\n",
        "plt.yscale(\"log\")\n",
        "plt.grid(True)\n",
        "plt.xlim(right=200)\n",
        "plt.ylim(1e-7, 1e0)\n",
        "plt.legend()\n",
        "plt.tight_layout()\n",
        "# plt.savefig(\"NNGRX_MSE_plot.png\", dpi=300)\n",
        "plt.savefig(\"NNGRX_MSE_plot.png\")"
      ]
    },
    {
      "cell_type": "markdown",
      "metadata": {
        "id": "tiEDutxIUZig"
      },
      "source": [
        "## Loading"
      ]
    },
    {
      "cell_type": "code",
      "execution_count": null,
      "metadata": {
        "id": "p7Mj990wUZih"
      },
      "outputs": [],
      "source": [
        "import json\n",
        "import pandas as pd\n",
        "\n",
        "# load the dictionary from the .json file\n",
        "with open(\"var_dict.json\", \"r\") as f:\n",
        "  var_dict_loaded = json.load(f)\n",
        "\n",
        "# extract the variables from the dictionary\n",
        "batch_size_loaded = var_dict_loaded[\"batch_size\"]\n",
        "n_epochs_loaded = var_dict_loaded[\"n_epochs\"]\n",
        "loss_name_loaded = var_dict_loaded[\"loss_name\"]\n",
        "optimizer_name_loaded = var_dict_loaded[\"optimizer_name\"]\n",
        "scheduler_name_loaded = var_dict_loaded[\"scheduler_name\"]\n",
        "n_units_loaded = var_dict_loaded[\"n_units\"]\n",
        "n_layers_loaded = var_dict_loaded[\"n_layers\"]\n",
        "hidden_activation_name_loaded = var_dict_loaded[\"hidden_activation_name\"]\n",
        "output_activation_name_loaded = var_dict_loaded[\"output_activation_name\"]\n",
        "lr_loaded = var_dict_loaded[\"lr\"]\n",
        "dropout_rate_loaded = var_dict_loaded[\"dropout_rate\"]\n",
        "\n",
        "# Loading the activation functions with subparameters\n",
        "if hidden_activation_name_loaded == \"ReLU\":\n",
        "  hidden_activation_loaded = nn.ReLU()\n",
        "elif hidden_activation_name_loaded == \"LeakyReLU\":\n",
        "  negative_slope_loaded = var_dict_loaded.get(\"leakyrelu_slope\", 0.01)  # For backwards compatibiltiy with earlier models; default to 0.01 if not present\n",
        "  hidden_activation_loaded = nn.LeakyReLU(negative_slope=negative_slope_loaded)\n",
        "elif hidden_activation_name_loaded == \"ELU\":\n",
        "  hidden_activation_loaded = nn.ELU()\n",
        "elif hidden_activation_name_loaded == \"PReLU\":\n",
        "  init_loaded = var_dict_loaded.get(\"prelu_init\", 0.25)  # Default to 0.25 if not present\n",
        "  hidden_activation_loaded = nn.PReLU(init=init_loaded)\n",
        "elif hidden_activation_name_loaded == \"Swish\":\n",
        "    class Swish(nn.Module):\n",
        "        def forward(self, x):\n",
        "            return x * torch.sigmoid(x)\n",
        "    hidden_activation_loaded = Swish()\n",
        "elif hidden_activation_name_loaded == \"GELU\":\n",
        "    hidden_activation_loaded = nn.GELU()\n",
        "elif hidden_activation_name_loaded == \"SoftPlus\":\n",
        "  beta_loaded = var_dict_loaded.get(\"softplus_beta\", 1)  # Default to 1 if not present\n",
        "  hidden_activation_loaded = nn.Softplus(beta=beta_loaded)\n",
        "\n",
        "\n",
        "\n",
        "# We used to have options here, but since we have a regression problem with continuous output, we only use Linear.\n",
        "output_activation_loaded = nn.Identity()\n",
        "\n",
        "# load the network from the .pth file\n",
        "net_loaded = Net(\n",
        "    n_layers_loaded, \n",
        "    n_units_loaded, \n",
        "    hidden_activation_loaded, \n",
        "    output_activation_loaded, \n",
        "    dropout_rate_loaded\n",
        ").to(device)\n",
        "\n",
        "if torch.cuda.is_available():\n",
        " net_loaded.load_state_dict(torch.load(\"net.pth\"))\n",
        "else: \n",
        "  net_loaded.load_state_dict(torch.load(\"net.pth\", map_location=torch.device('cpu')))\n",
        "\n",
        "\n",
        "# Creating the loss function from its name\n",
        "if loss_name_loaded == \"MSE\":\n",
        "    loss_fn_loaded = nn.MSELoss()\n",
        "elif loss_name_loaded == \"MAE\":\n",
        "    loss_fn_loaded = nn.L1Loss()\n",
        "elif loss_name_loaded == \"Huber\":\n",
        "    loss_fn_loaded = nn.SmoothL1Loss() \n",
        "elif loss_name_loaded == \"Quantile\":\n",
        "    def quantile_loss(y_pred, y_true, q=0.5):\n",
        "        e = y_pred - y_true\n",
        "        return torch.mean(torch.max(q*e, (q-1)*e))\n",
        "    loss_fn_loaded = quantile_loss\n",
        "\n",
        "# load the optimizer from the .pth file\n",
        "if torch.cuda.is_available():\n",
        "  optimizer_loaded_state_dict = torch.load(\"optimizer.pth\")\n",
        "else:\n",
        "  optimizer_loaded_state_dict = torch.load(\"optimizer.pth\", map_location=torch.device('cpu'))\n",
        "\n",
        "if optimizer_name_loaded == \"SGD\":\n",
        "  # Added getting the weight decay and momentum parameters from the state dict\n",
        "  weight_decay_loaded = optimizer_loaded_state_dict[\"param_groups\"][0][\"weight_decay\"]\n",
        "  momentum_loaded = optimizer_loaded_state_dict[\"param_groups\"][0][\"momentum\"]\n",
        "  optimizer_loaded = optim.SGD(net_loaded.parameters(), lr=lr_loaded, weight_decay=weight_decay_loaded, momentum=momentum_loaded)\n",
        "elif optimizer_name_loaded == \"Adam\":\n",
        "  # Added getting the weight decay and beta parameters from the state dict\n",
        "  weight_decay_loaded = optimizer_loaded_state_dict[\"param_groups\"][0][\"weight_decay\"]\n",
        "  beta1_loaded = optimizer_loaded_state_dict[\"param_groups\"][0][\"betas\"][0]\n",
        "  beta2_loaded = optimizer_loaded_state_dict[\"param_groups\"][0][\"betas\"][1]\n",
        "  optimizer_loaded = optim.Adam(net_loaded.parameters(), lr=lr_loaded, weight_decay=weight_decay_loaded, betas=(beta1_loaded, beta2_loaded))\n",
        "elif optimizer_name_loaded == \"RMSprop\":\n",
        "  optimizer_loaded = optim.RMSprop(net_loaded.parameters(), lr=lr_loaded)\n",
        "elif optimizer_name_loaded == \"Adagrad\":\n",
        "  # Added loading the Adagrad optimizer\n",
        "  optimizer_loaded = optim.Adagrad(net_loaded.parameters(), lr=lr_loaded)\n",
        "optimizer_loaded.load_state_dict(optimizer_loaded_state_dict)\n",
        "\n",
        "# load the scheduler from the .pth file\n",
        "if torch.cuda.is_available():\n",
        "  scheduler_loaded_state_dict = torch.load(\"scheduler.pth\")\n",
        "else: \n",
        "  scheduler_loaded_state_dict = torch.load(\"scheduler.pth\", map_location=torch.device('cpu'))\n",
        "\n",
        "if scheduler_name_loaded == \"StepLR\":\n",
        "  # Added getting the step_size and gamma parameters from the state dict\n",
        "  step_size_loaded = scheduler_loaded_state_dict[\"step_size\"]\n",
        "  gamma_loaded = scheduler_loaded_state_dict[\"gamma\"]\n",
        "  scheduler_loaded = optim.lr_scheduler.StepLR(optimizer_loaded, step_size=step_size_loaded, gamma=gamma_loaded)\n",
        "elif scheduler_name_loaded == \"ExponentialLR\":\n",
        "  # Added getting the gamma parameter from the state dict\n",
        "  gamma_loaded = scheduler_loaded_state_dict[\"gamma\"]\n",
        "  scheduler_loaded = optim.lr_scheduler.ExponentialLR(optimizer_loaded, gamma=gamma_loaded)\n",
        "elif scheduler_name_loaded == \"CosineAnnealingLR\":\n",
        "  # Added getting the T_max parameter from the state dict\n",
        "  T_max_loaded = scheduler_loaded_state_dict[\"T_max\"]\n",
        "  scheduler_loaded = optim.lr_scheduler.CosineAnnealingLR(optimizer_loaded, T_max=T_max_loaded)\n",
        "elif scheduler_name_loaded == \"ReduceLROnPlateau\":\n",
        "  # Added getting the mode, factor, patience, threshold and min_lr parameters from the state dict\n",
        "  mode_loaded = scheduler_loaded_state_dict[\"mode\"]\n",
        "  factor_loaded = scheduler_loaded_state_dict[\"factor\"]\n",
        "  patience_loaded = scheduler_loaded_state_dict[\"patience\"]\n",
        "  threshold_loaded = scheduler_loaded_state_dict[\"threshold\"]\n",
        "  min_lr_loaded = scheduler_loaded_state_dict[\"min_lrs\"][0]\n",
        "  scheduler_loaded = optim.lr_scheduler.ReduceLROnPlateau(\n",
        "                    optimizer_loaded, mode=mode_loaded, factor=factor_loaded, patience=patience_loaded, threshold=threshold_loaded, min_lr=min_lr_loaded\n",
        "                )\n",
        "elif scheduler_name_loaded == \"CyclicLR\":  # Added CyclicLR\n",
        "    base_lr_loaded = scheduler_loaded_state_dict[\"base_lr\"]\n",
        "    max_lr_loaded = scheduler_loaded_state_dict[\"max_lr\"]\n",
        "    step_size_up_loaded = scheduler_loaded_state_dict[\"step_size_up\"]\n",
        "    scheduler_loaded = optim.lr_scheduler.CyclicLR(\n",
        "                    optimizer, base_lr=base_lr_loaded, max_lr=max_lr_loaded, step_size_up=step_size_up_loaded\n",
        "                )\n",
        "else:\n",
        "  scheduler_loaded = None\n",
        "\n",
        "if scheduler_loaded is not None:\n",
        "  # Added loading the state dict to the scheduler_loaded\n",
        "  scheduler_loaded.load_state_dict(scheduler_loaded_state_dict)\n",
        "\n",
        "# Loading the output of the training using pandas\n",
        "train_df_loaded = pd.read_csv(\"train_output.csv\")\n",
        "train_losses_loaded = train_df_loaded[\"train_loss\"].tolist()\n",
        "test_losses_loaded = train_df_loaded[\"test_loss\"].tolist()\n",
        "train_metrics_loaded = [\n",
        "    {\n",
        "        \"l1_norm\": train_df_loaded[\"train_l1_norm\"][i],\n",
        "        \"linf_norm\": train_df_loaded[\"train_linf_norm\"][i],\n",
        "    }\n",
        "    for i in range(len(train_df_loaded))\n",
        "]\n",
        "test_metrics_loaded = [\n",
        "    {\n",
        "        \"l1_norm\": train_df_loaded[\"test_l1_norm\"][i],\n",
        "        \"linf_norm\": train_df_loaded[\"test_linf_norm\"][i],\n",
        "    }\n",
        "    for i in range(len(train_df_loaded))\n",
        "]"
      ]
    },
    {
      "cell_type": "code",
      "execution_count": null,
      "metadata": {
        "id": "n-4pZ2s64cnr"
      },
      "outputs": [],
      "source": [
        "# %%script echo skipping\n",
        "\n",
        "var_dict_loaded[\"batch_size\"]\n",
        "var_dict_loaded[\"n_epochs\"]\n",
        "var_dict_loaded[\"loss_name\"]\n",
        "var_dict_loaded[\"optimizer_name\"]\n",
        "var_dict_loaded[\"scheduler_name\"]\n",
        "var_dict_loaded[\"n_units\"]\n",
        "var_dict_loaded[\"n_layers\"]\n",
        "var_dict_loaded[\"hidden_activation_name\"]\n",
        "var_dict_loaded[\"output_activation_name\"]\n",
        "var_dict_loaded[\"lr\"]\n",
        "var_dict_loaded[\"dropout_rate\"]"
      ]
    },
    {
      "cell_type": "code",
      "execution_count": null,
      "metadata": {
        "id": "QQ0MKbI04cnr"
      },
      "outputs": [],
      "source": [
        "%%script echo skipping\n",
        "\n",
        "scheduler_loaded_state_dict[\"mode\"]\n",
        "scheduler_loaded_state_dict[\"factor\"]\n",
        "scheduler_loaded_state_dict[\"patience\"]\n",
        "scheduler_loaded_state_dict[\"threshold\"]\n",
        "scheduler_loaded_state_dict[\"min_lrs\"]\n",
        "\n",
        "\n",
        "scheduler_loaded_state_dict[\"base_lr\"]\n",
        "scheduler_loaded_state_dict[\"max_lr\"]\n",
        "scheduler_loaded_state_dict[\"step_size_up\"]"
      ]
    },
    {
      "cell_type": "code",
      "execution_count": null,
      "metadata": {
        "id": "bHMdkxsm4cnr"
      },
      "outputs": [],
      "source": [
        "# %%script echo skipping\n",
        "\n",
        "var_dict\n",
        "hidden_activation_name_loaded"
      ]
    },
    {
      "cell_type": "code",
      "execution_count": null,
      "metadata": {
        "id": "GQ_fcj7zUZii"
      },
      "outputs": [],
      "source": [
        "# %%script echo skipping\n",
        "\n",
        "if hidden_activation_name_loaded == \"LeakyReLU\":\n",
        "  var_dict_loaded[\"leakyrelu_slope\"]\n",
        "if hidden_activation_name_loaded == \"PReLU\":\n",
        "  var_dict_loaded[\"prelu_init\"]\n",
        "elif hidden_activation_name_loaded == \"SoftPlus\":\n",
        "  var_dict_loaded[\"softplus_beta\"]\n",
        "\n",
        "batch_size_loaded\n",
        "n_epochs_loaded\n",
        "loss_name_loaded\n",
        "optimizer_name_loaded\n",
        "scheduler_name_loaded\n",
        "n_units_loaded\n",
        "n_layers_loaded\n",
        "hidden_activation_name_loaded\n",
        "output_activation_name_loaded\n",
        "lr_loaded\n",
        "dropout_rate_loaded\n",
        "hidden_activation_loaded\n",
        "output_activation_loaded\n",
        "net_loaded\n",
        "net_loaded.__dict__ # print the subparameters of the network\n",
        "loss_fn_loaded\n",
        "optimizer_loaded\n",
        "optimizer_loaded.__dict__ # print the subparameters of the optimizer\n",
        "if scheduler_loaded is not None:\n",
        "  scheduler_loaded\n",
        "  scheduler_loaded.__dict__ # print the subparameters of the scheduler\n",
        "train_losses_loaded\n",
        "test_losses_loaded\n",
        "train_metrics_loaded\n",
        "test_metrics_loaded\n"
      ]
    },
    {
      "cell_type": "code",
      "execution_count": null,
      "metadata": {
        "id": "wIFp6xgs4cns"
      },
      "outputs": [],
      "source": [
        "train_losses_loaded[-1]\n",
        "test_losses_loaded[-1]\n",
        "test_metrics_loaded[-1]['l1_norm']\n",
        "test_metrics_loaded[-1]['linf_norm']\n",
        "# print(f'Error is {test_metrics_loaded[-1][\"l1_norm\"] / (3.84e-4)} times bigger than in Dieselhorst et al.')\n",
        "# print(f'Error is {test_metrics_loaded[-1][\"linf_norm\"] / (8.14e-3)} times bigger than in Dieselhorst et al.')"
      ]
    },
    {
      "cell_type": "markdown",
      "metadata": {
        "id": "OdOwEngu4cns"
      },
      "source": [
        "### Visualize loaded results"
      ]
    },
    {
      "cell_type": "markdown",
      "metadata": {
        "id": "vwLGR1aSUZik"
      },
      "source": [
        "Let us verify correct loading of the train and test metrics by visualizing them again but now through the loaded values. Likewise for the train and test losses."
      ]
    },
    {
      "cell_type": "code",
      "execution_count": null,
      "metadata": {
        "id": "sXiNgLsmUZil"
      },
      "outputs": [],
      "source": [
        "%config InteractiveShell.ast_node_interactivity = \"last_expr_or_assign\""
      ]
    },
    {
      "cell_type": "code",
      "execution_count": null,
      "metadata": {
        "id": "sgq4WfSiUZil"
      },
      "outputs": [],
      "source": [
        "# Plotting the losses and metrics for the best network plt.figure(figsize=(12, \n",
        "#plt.subplot(2, 2, 1)\n",
        "#plt.plot(train_losses_loaded, label=\"Train Loss\")\n",
        "#plt.plot(test_losses_loaded, label=\"Test Loss\")\n",
        "#plt.xlabel(\"Epoch\")\n",
        "#plt.ylabel(\"Loss\")\n",
        "#plt.legend()\n",
        "plt.subplot(2, 2, 2)\n",
        "plt.plot([m[\"l1_norm\"] for m in train_metrics_loaded], label=\"Train L1 Norm\")\n",
        "plt.plot([m[\"l1_norm\"] for m in test_metrics_loaded], label=\"Test L1 Norm\")\n",
        "plt.xlabel(\"Epoch\")\n",
        "plt.ylabel(\"L1 Norm\")\n",
        "# Added setting the vertical axis to be in powers of 10\n",
        "plt.yscale(\"log\")\n",
        "# Added setting the vertical axis limits to be from 10^-7 to 10^0\n",
        "plt.ylim(1e-3, 1e2)\n",
        "plt.legend()\n",
        "plt.subplot(2, 2, 3)\n",
        "plt.plot([m[\"linf_norm\"] for m in train_metrics_loaded], label=\"Train Linf Norm\")\n",
        "plt.plot([m[\"linf_norm\"] for m in test_metrics_loaded], label=\"Test Linf Norm\")\n",
        "plt.xlabel(\"Epoch\")\n",
        "plt.ylabel(\"Linf Norm\")\n",
        "# Added setting the vertical axis to be in powers of 10\n",
        "plt.yscale(\"log\")\n",
        "# Added setting the vertical axis limits to be from 10^-7 to 10^0\n",
        "plt.ylim(1e-3, 1e2)\n",
        "plt.legend()\n",
        "plt.tight_layout()\n",
        "plt.show()\n",
        "\n",
        "# Added plotting MSE of training data and MSE of test data in one plot \n",
        "plt.figure(figsize=(8, 6))\n",
        "plt.plot(train_losses_loaded,label=\"training data\")\n",
        "plt.plot(test_losses_loaded,label=\"test data\")\n",
        "#if scheduler is not None:\n",
        "#    plt.plot([scheduler.get_last_lr()[0] for _ in range(n_epochs)], label=\"Learning rate\") \n",
        "plt.xlabel(\"Epoch\")\n",
        "plt.ylabel(f\"{loss_name_loaded} Loss\")\n",
        "# Added setting the vertical axis to be in powers of 10\n",
        "plt.yscale(\"log\")\n",
        "# Added setting the vertical axis limits to be from 10^-7 to 10^0\n",
        "plt.ylim(1e-7, 1e0)\n",
        "plt.legend()\n",
        "plt.show()\n"
      ]
    },
    {
      "cell_type": "code",
      "execution_count": null,
      "metadata": {
        "id": "lkgLqJ_UUZim"
      },
      "outputs": [],
      "source": [
        "%config InteractiveShell.ast_node_interactivity = \"all\""
      ]
    },
    {
      "cell_type": "markdown",
      "metadata": {
        "id": "aotL4GJl4cnu"
      },
      "source": [
        "## Counting the number of parameters in the network."
      ]
    },
    {
      "cell_type": "code",
      "execution_count": null,
      "metadata": {
        "id": "_sQl2bTk4cnu"
      },
      "outputs": [],
      "source": [
        "net_loaded.eval()\n",
        "def count_parameters(model):\n",
        "    return sum(p.numel() for p in model.parameters() if p.requires_grad)\n",
        "print(f'The model has {count_parameters(net_loaded)} parameters.')"
      ]
    },
    {
      "cell_type": "markdown",
      "metadata": {
        "id": "SxuzVSnlUZin"
      },
      "source": [
        "## Evaluating the network on arbirary input\n",
        "### Comparing `net` and `net_loaded`\n",
        "\n",
        "We compare `net` and `net_loaded` to confirm correct loading of the network. Note that `net` is only available if we have trained the model in this session."
      ]
    },
    {
      "cell_type": "code",
      "execution_count": null,
      "metadata": {
        "id": "usq1X1KO4cnu"
      },
      "outputs": [],
      "source": [
        "#%%script echo skipping\n",
        "\n",
        "# Set the network to evaluation mode\n",
        "net.eval()"
      ]
    },
    {
      "cell_type": "code",
      "execution_count": null,
      "metadata": {
        "id": "-pwGJnzK4cnv"
      },
      "outputs": [],
      "source": [
        "# Set the network to evaluation mode\n",
        "net_loaded.eval"
      ]
    },
    {
      "cell_type": "code",
      "execution_count": null,
      "metadata": {
        "id": "vXaSZDzX4cnv"
      },
      "outputs": [],
      "source": [
        "for p1, p2 in zip(net.parameters(), net_loaded.parameters()):\n",
        "    if p1.data.ne(p2.data).sum() > 0:\n",
        "        print(\"Parameters are NOT the same.\")\n",
        "        break\n",
        "else:\n",
        "    print(\"Parameters are the same.\")\n",
        "\n",
        "print(\"Net device:\", next(net.parameters()).device)\n",
        "print(\"Net_loaded device:\", next(net_loaded.parameters()).device)"
      ]
    },
    {
      "cell_type": "code",
      "execution_count": null,
      "metadata": {
        "id": "C0PLAA0DUZin"
      },
      "outputs": [],
      "source": [
        "#%%script echo skipping\n",
        "\n",
        "print(list(net.parameters()))"
      ]
    },
    {
      "cell_type": "code",
      "execution_count": null,
      "metadata": {
        "id": "1NZ8iVA7UZio"
      },
      "outputs": [],
      "source": [
        "print(list(net_loaded.parameters()))"
      ]
    },
    {
      "cell_type": "code",
      "execution_count": null,
      "metadata": {
        "id": "InGW0Xq6UZip"
      },
      "outputs": [],
      "source": [
        "rho_example, epsilon_example, vx_example, vy_example, vz_example, Bx_example, By_example, Bz_example, gxx_example, gxy_example, gxz_example, gyy_example, gyz_example, gzz_example = generate_samples(20)\n",
        "\n",
        "inputs =  generate_input_data(rho_example, epsilon_example, vx_example, vy_example, vz_example, Bx_example, By_example, Bz_example, gxx_example, gxy_example, gxz_example, gyy_example, gyz_example, gzz_example)\n",
        "inputs\n"
      ]
    },
    {
      "cell_type": "code",
      "execution_count": null,
      "metadata": {
        "id": "QVa1upmFUZip"
      },
      "outputs": [],
      "source": [
        "#%%script echo skipping\n",
        "\n",
        "# Pass the inputs to the network and get the outputs\n",
        "outputs = [net(input.unsqueeze(0)) for input in inputs]\n",
        "# Print the outputs\n",
        "outputs"
      ]
    },
    {
      "cell_type": "code",
      "execution_count": null,
      "metadata": {
        "id": "E-Xjfo7VUZir"
      },
      "outputs": [],
      "source": [
        "\n",
        "# Pass the inputs to the network and get the outputs\n",
        "outputs = [net_loaded(input.unsqueeze(0)) for input in inputs]\n",
        "# Print the outputs\n",
        "outputs"
      ]
    },
    {
      "cell_type": "markdown",
      "metadata": {
        "id": "xjpIvdybUZis"
      },
      "source": [
        "## Porting the model to C++"
      ]
    },
    {
      "cell_type": "code",
      "execution_count": null,
      "metadata": {
        "id": "VMlEd4RoUZis"
      },
      "outputs": [],
      "source": [
        "import torch.jit\n",
        "\n",
        "# Creating a dummy input tensor of shape (1, 5) to trace the model\n",
        "dummy_input = torch.randn(1, N_INPUTS).to(device)\n",
        "\n",
        "# Ensure that net_loaded is in evaluation mode.\n",
        "net_loaded.eval()\n",
        "\n",
        "# Tracing the model using the torch.jit.trace function\n",
        "traced_model = torch.jit.trace(net_loaded, dummy_input)\n",
        "\n",
        "# Saving the traced model to a file named \"net.pt\"\n",
        "traced_model.save(\"net.pt\")\n",
        "save_file(\"net.pt\")\n",
        "\n",
        "example_input_to_validate_correct_export_and_import = generate_input_data(*generate_samples(1))\n",
        "print(\"input shape: \", example_input_to_validate_correct_export_and_import.shape)\n",
        "print(\"input: \", example_input_to_validate_correct_export_and_import)\n",
        "print(\"Output:\", net_loaded(example_input_to_validate_correct_export_and_import))"
      ]
    }
  ],
  "metadata": {
    "accelerator": "GPU",
    "colab": {
      "gpuType": "T4",
      "provenance": [],
      "toc_visible": true,
      "machine_shape": "hm"
    },
    "kernelspec": {
      "display_name": "Python 3",
      "name": "python3"
    },
    "language_info": {
      "codemirror_mode": {
        "name": "ipython",
        "version": 3
      },
      "file_extension": ".py",
      "mimetype": "text/x-python",
      "name": "python",
      "nbconvert_exporter": "python",
      "pygments_lexer": "ipython3",
      "version": "3.11.3"
    },
    "orig_nbformat": 4
  },
  "nbformat": 4,
  "nbformat_minor": 0
}