{
  "cells": [
    {
      "attachments": {},
      "cell_type": "markdown",
      "metadata": {
        "id": "TPvB1xoSUZhR"
      },
      "source": [
        "# Neural network to learn conservative-to-primitive conversion in relativistic hydrodynamics"
      ]
    },
    {
      "attachments": {},
      "cell_type": "markdown",
      "metadata": {},
      "source": [
        "## How to use this notebook\n",
        "\n",
        "### Local installation\n",
        "\n",
        "1. Install required packages with `pip install -r requirements.txt` to your desired environment.\n",
        "2. If a script version of this notebook is desired, comment (not uncomment) the first line of `nbconvert` cell.\n",
        "\n",
        "### Colab installation\n",
        "\n",
        "1.  Comment (not uncomment) the first line of the drive mounting cell.\n",
        "2.  Comment (not uncomment) the first line of the `pip install` cell.\n",
        "\n",
        "<!-- - For colab we also want to set the runtime to GPU by clicking _Change runtime_ in the _Runtime_ menu, and -->\n",
        "<!-- - We want to wait for the google drive connection popup to appear and follow the instructions. -->\n",
        "\n",
        "### Loading / Generating data\n",
        "3. Set `LOAD_DATA_FROM_CSV` to `True` / `False` to load data from csv files / generate data in this notebook.\n",
        "\n",
        "### Training without optimization\n",
        "\n",
        "4. Set `OPTIMIZE = False` in section _Constants and flags to set_.\n",
        "5. Run the entire notebook.\n",
        "\n",
        "### Training with optimization\n",
        "\n",
        "4. Set `OPTIMIZE = True` in section _Constants and flags to set_.\n",
        "5. Run the entire notebook.\n",
        "\n",
        "### Loading an already trained model\n",
        "\n",
        "4. Run cells in section _Initialization_.\n",
        "5. Run cells with definitions in section _Input data and labels_.\n",
        "6. Run cell with the definition of _Net_ in section _Defining the neural network_.\n",
        "7. Make sure the `net.pth`, `optimizer.pth`, `scheduler.pth`, `var_dict.json` and `train_output.csv` files are in the directory containing this notebook.\n",
        "8. Run the cells in section _Loading_ and continue from there.\n",
        "\n",
        "### Generating the C++ model\n",
        "\n",
        "9. Run section _Porting the model to C++_, this requires a model to be loaded.\n",
        "10. Set the path to the `net.pt` file in the C++ source file.\n",
        "11. `mkdir build && cd build`,\n",
        "12. Configure a `CMakeLists.txt` file as is done [here](https://pytorch.org/cppdocs/installing.html).\n",
        "13. `cmake -DCMAKE_PREFIX_PATH=/path/to/libtorch/ ..`,\n",
        "14. Compile and run, e.g. `cmake --build . --config release && ./<executable name>`"
      ]
    },
    {
      "attachments": {},
      "cell_type": "markdown",
      "metadata": {},
      "source": [
        "## Initialization"
      ]
    },
    {
      "attachments": {},
      "cell_type": "markdown",
      "metadata": {},
      "source": [
        "\n",
        "Use this first cell to **convert this notebook** to a python script."
      ]
    },
    {
      "cell_type": "code",
      "execution_count": 1,
      "metadata": {
        "colab": {
          "base_uri": "https://localhost:8080/"
        },
        "id": "eqdgdNLHUZhV",
        "outputId": "30907b9d-56c3-44d7-cd43-6387a991a46a",
        "tags": [
          "remove_cell"
        ]
      },
      "outputs": [
        {
          "name": "stdout",
          "output_type": "stream",
          "text": [
            "Couldn't find program: 'echo'\n"
          ]
        }
      ],
      "source": [
        "%%script echo skipping\n",
        "\n",
        "!jupyter nbconvert pt1_before_restructuring.ipynb --TagRemovePreprocessor.enabled=True --TagRemovePreprocessor.remove_cell_tags='{\"remove_cell\"}' --to script"
      ]
    },
    {
      "attachments": {},
      "cell_type": "markdown",
      "metadata": {
        "id": "nzcUr0LnUZhw"
      },
      "source": [
        "Next some cells for working on **google colab**,"
      ]
    },
    {
      "cell_type": "code",
      "execution_count": 36,
      "metadata": {},
      "outputs": [],
      "source": [
        "import os\n",
        "import shutil\n",
        "\n",
        "# check if the drive is mounted\n",
        "drive_mounted = os.path.exists(\"/content/drive\")\n",
        "# change this to your desired folder\n",
        "drive_folder = \"/content/drive/My Drive/bsc/con2prim_GRMHD\"\n",
        "\n",
        "# define a function to save a file to the drive or the current directory\n",
        "def save_file(file_name):\n",
        "  if drive_mounted:\n",
        "    # save the file to the drive folder\n",
        "    file_path = os.path.join(drive_folder, file_name)\n",
        "    # copy the file from the current directory to the drive folder\n",
        "    shutil.copyfile(file_name, file_path)\n",
        "  else:\n",
        "    # do nothing as the file is already in the current directory\n",
        "    pass\n"
      ]
    },
    {
      "cell_type": "code",
      "execution_count": 37,
      "metadata": {
        "colab": {
          "base_uri": "https://localhost:8080/"
        },
        "id": "ecHw2_xlUZhx",
        "outputId": "462a57cd-ee19-4961-d3aa-ff2407b2bde0"
      },
      "outputs": [
        {
          "name": "stdout",
          "output_type": "stream",
          "text": [
            "Couldn't find program: 'echo'\n"
          ]
        }
      ],
      "source": [
        "%%script echo skipping\n",
        "\n",
        "from google.colab import drive\n",
        "drive.mount('/content/drive')"
      ]
    },
    {
      "cell_type": "code",
      "execution_count": 38,
      "metadata": {
        "colab": {
          "base_uri": "https://localhost:8080/"
        },
        "id": "T1rcStMLUZhy",
        "outputId": "7ea7311f-f054-4a29-d0ff-12849095ab6e"
      },
      "outputs": [
        {
          "name": "stdout",
          "output_type": "stream",
          "text": [
            "Couldn't find program: 'echo'\n"
          ]
        }
      ],
      "source": [
        "%%script echo skipping\n",
        "\n",
        "!pip install optuna tensorboard tensorboardX"
      ]
    },
    {
      "attachments": {},
      "cell_type": "markdown",
      "metadata": {},
      "source": [
        "Importing the **libraries**,"
      ]
    },
    {
      "cell_type": "code",
      "execution_count": 39,
      "metadata": {
        "id": "tREdWQUVUZhz"
      },
      "outputs": [],
      "source": [
        "import numpy as np\n",
        "import matplotlib.pyplot as plt\n",
        "import torch\n",
        "import torch.nn as nn\n",
        "import torch.optim as optim\n",
        "import torch.nn.functional as F\n",
        "import optuna\n",
        "import tensorboardX as tbx\n",
        "import pandas as pd"
      ]
    },
    {
      "attachments": {},
      "cell_type": "markdown",
      "metadata": {
        "id": "38GvmerjUZhz"
      },
      "source": [
        "### Constants and flags to set\n",
        "Defining some constants and parameters for convenience.\n",
        "\n",
        "**NOTE**: Some **subparameters** still need to be adjusted in the `create_model` function itself as of (Tue May 16 07:42:45 AM CEST 2023) in the case the model is being trained without optimization."
      ]
    },
    {
      "cell_type": "code",
      "execution_count": 48,
      "metadata": {
        "id": "ei6VZDYKUZh0"
      },
      "outputs": [],
      "source": [
        "\n",
        "# Checking if GPU is available and setting the device accordingly\n",
        "device = torch.device(\"cuda\" if torch.cuda.is_available() else \"cpu\")\n",
        "\n",
        "N_TRIALS = 250 # Number of trials for hyperparameter optimization\n",
        "OPTIMIZE = False # Whether to optimize the hyperparameters or to use predetermined values from Dieseldorst et al..\n",
        "ZSCORE_NORMALIZATION = False # Whether to z-score normalize the input data.\n",
        "LOAD_DATA_FROM_CSV = False  # If not true we generate the data in this file and save to {x_train,y_train,x_test,y_test}.csv, otherwise we load the data from files of the same name.\n",
        "\n",
        "csv_filenames = { # File names to load input data and labels from if LOAD_DATA_FROM_CSV is True.\n",
        "    \"x_train\": \"x_train.csv\",\n",
        "    \"y_train\": \"y_train.csv\",\n",
        "    \"x_test\": \"x_test.csv\",\n",
        "    \"y_test\": \"y_test.csv\",\n",
        "}\n",
        "\n",
        "# Values to use for hyperparameters if OPTIMIZE is False.\n",
        "N_LAYERS_NO_OPT = 3\n",
        "N_UNITS_NO_OPT = [555, 458, 115]\n",
        "HIDDEN_ACTIVATION_NAME_NO_OPT = \"ReLU\"\n",
        "OUTPUT_ACTIVATION_NAME_NO_OPT = \"ReLU\"\n",
        "LOSS_NAME_NO_OPT = \"Huber\"\n",
        "OPTIMIZER_NAME_NO_OPT = \"RMSprop\"\n",
        "LR_NO_OPT = 0.000122770896701404\n",
        "BATCH_SIZE_NO_OPT = 49\n",
        "N_EPOCHS_NO_OPT = 3\n",
        "SCHEDULER_NAME_NO_OPT = \"ReduceLROnPlateau\"\n",
        "\n",
        "N_INPUTS = 14  # Number of input features.\n",
        "Gamma = 5/3  # Adiabatic index\n",
        "\n",
        "n_train_samples = 8000 # Number of training samples\n",
        "n_test_samples = 2000 # Number of test samples\n",
        "\n",
        "rho_interval = (0, 2) \n",
        "epsilon_interval = (1e-2, 1)  # Will be sampled in log space\n",
        "vx_interval = (0, 0.999)  \n",
        "vy_interval = (0, 0.999)  \n",
        "vz_interval = (0, 0.999)  \n",
        "Bx_interval = (-10, 10)  \n",
        "By_interval = (-10, 10)  \n",
        "Bz_interval = (-10, 10)  \n",
        "gxx_interval = (0.9, 1.1)\n",
        "gxy_interval = (0, 0.1)\n",
        "gxz_interval = (0, 0.1)\n",
        "gyy_interval = (0.9, 1.1)\n",
        "gyz_interval = (0, 0.1)\n",
        "gzz_interval = (0.9, 1.1)\n",
        "\n",
        "np.random.seed(50) # Comment for true random data.\n"
      ]
    },
    {
      "attachments": {},
      "cell_type": "markdown",
      "metadata": {
        "id": "dlaP5UL2UZh1"
      },
      "source": [
        "## Input data and labels\n",
        "\n",
        "We either generate the data or load the data. First the definitions for generating the data come below."
      ]
    },
    {
      "cell_type": "code",
      "execution_count": 49,
      "metadata": {
        "id": "s_EvGFZcUZh1"
      },
      "outputs": [],
      "source": [
        "# Defining an analytic equation of state (EOS) for an ideal gas\n",
        "def eos_analytic(rho, epsilon):\n",
        "    # Adding some assertions to check that the input tensors are valid and have \n",
        "    # the expected shape and type \n",
        "    assert isinstance(rho, torch.Tensor), \"rho must be a torch.Tensor\"\n",
        "    assert isinstance(epsilon, torch.Tensor), \"epsilon must be a torch.Tensor\"\n",
        "    print('rho.shape: ', rho.shape)\n",
        "    print('epsilon.shape: ', epsilon.shape)\n",
        "    assert rho.shape == epsilon.shape, \"rho and epsilon must have the same shape\"\n",
        "    assert rho.ndim == 1, \"rho and epsilon must be one-dimensional tensors\"\n",
        "    assert rho.dtype == torch.float32, \"rho and epsilon must have dtype torch.float32\"\n",
        "\n",
        "    return (Gamma - 1) * rho * epsilon\n",
        "\n",
        "\n",
        "\n",
        "def sample_primitive_variables_and_metric():\n",
        "    rho = np.random.uniform(*rho_interval)  \n",
        "    epsilon = 10 ** np.random.uniform(*np.log10(epsilon_interval))\n",
        "    vx = np.random.uniform(*vx_interval)  \n",
        "    vy = np.random.uniform(*vy_interval)  \n",
        "    vz = np.random.uniform(*vz_interval)  \n",
        "    Bx = np.random.uniform(*Bx_interval)  \n",
        "    By = np.random.uniform(*By_interval)  \n",
        "    Bz = np.random.uniform(*Bz_interval)  \n",
        "    gxx = np.random.uniform(*gxx_interval)\n",
        "    gxy = np.random.uniform(*gxy_interval)\n",
        "    gxz = np.random.uniform(*gxz_interval)\n",
        "    gyy = np.random.uniform(*gyy_interval)\n",
        "    gyz = np.random.uniform(*gyz_interval)\n",
        "    gzz = np.random.uniform(*gzz_interval)\n",
        "\n",
        "    return rho, epsilon, vx, vy, vz, Bx, By, Bz, gxx, gxy, gxz, gyy, gyz, gzz\n",
        "\n",
        "def check_sample(rho, epsilon, vx, vy, vz, Bx, By, Bz, gxx, gxy, gxz, gyy, gyz, gzz):\n",
        "    wtemp_expr = 1 - (gxx * vx**2 + gyy * vy**2 + gzz * vz**2 + 2 * gxy * vx * vy + 2 * gxz * vx * vz + 2 * gyz * vy * vz)\n",
        "    sdet_expr = gxx * gyy * gzz + 2 * gxy * gxz * gyz - gxx * gyz ** 2 - gyy * gxz ** 2 - gzz * gxy ** 2\n",
        "    if vx**2 + vy**2 + vz**2 >= 1 or wtemp_expr < 0 or sdet_expr < 0:\n",
        "        # print(f\"Sample failed checks. vx^2+vy^2+vz^2: {vx**2 + vy**2 + vz**2}, wtemp_expr: {wtemp_expr}, sdet_expr: {sdet_expr}\")\n",
        "        return False\n",
        "    else:\n",
        "        # print(f\"Sample passed checks. vx^2+vy^2+vz^2: {vx**2 + vy**2 + vz**2}, wtemp_expr: {wtemp_expr}, sdet_expr: {sdet_expr}\")\n",
        "        return True\n",
        "\n",
        "def generate_samples(n_samples):\n",
        "    samples = []\n",
        "    while len(samples) < n_samples:\n",
        "        sample = sample_primitive_variables_and_metric()\n",
        "        if check_sample(*sample):\n",
        "            samples.append(sample)\n",
        "        # print(f\"Number of valid samples: {len(samples)}\")\n",
        "    return zip(*samples)\n",
        "\n",
        "\n",
        "def sdet(gxx, gxy, gxz, gyy, gyz, gzz):\n",
        "    # Determinant of the three metric.\n",
        "    return (gxx * gyy * gzz + 2 * gxy * gxz * gyz - gxx * gyz ** 2 - gyy * gxz ** 2 - gzz * gxy ** 2) ** 0.5\n",
        "\n",
        "# Defining a function that computes conserved variables from primitive variables and the metric\n",
        "# We follow the source code of GRaM-X: A new GPU-accelerated dynamical spacetime GRMHD code for Exascale\n",
        "# computing with the Einstein Toolkit of Shankar et al.\n",
        "def compute_conserved_variables(rho, epsilon, vx, vy, vz, Bx, By, Bz, gxx, gxy, gxz, gyy, gyz, gzz):\n",
        "    pres = eos_analytic(rho, epsilon)\n",
        "    wtemp = 1 / (1 - (gxx * vx**2 + gyy * vy**2 + gzz * vz**2 +\n",
        "        2 * gxy * vx * vy + 2 * gxz * vx * vz +\n",
        "        2 * gyz * vy * vz))**0.5\n",
        "\n",
        "    vlowx = gxx * vx + gxy * vy + gxz * vz\n",
        "    vlowy = gxy * vx + gyy * vy + gyz * vz\n",
        "    vlowz = gxz * vx + gyz * vy + gzz * vz\n",
        "\n",
        "    Bxlow = gxx * Bx + gxy * By + gxz * Bz\n",
        "    Bylow = gxy * Bx + gyy * By + gyz * Bz\n",
        "    Bzlow = gxz * Bx + gyz * By + gzz * Bz\n",
        "\n",
        "    B2 = Bxlow * Bx + Bylow * By + Bzlow * Bz\n",
        "\n",
        "    Bdotv = Bxlow * vx + Bylow * vy + Bzlow * vz\n",
        "    Bdotv2 = Bdotv * Bdotv\n",
        "    wtemp2 = wtemp * wtemp\n",
        "    b2 = B2 / wtemp2 + Bdotv2\n",
        "    ab0 = wtemp * Bdotv\n",
        "\n",
        "    blowx = (gxx * Bx + gxy * By + gxz * Bz) / wtemp + wtemp * Bdotv * vlowx\n",
        "    blowy = (gxy * Bx + gyy * By + gyz * Bz) / wtemp + wtemp * Bdotv * vlowy\n",
        "    blowz = (gxz * Bx + gyz * By + gzz * Bz) / wtemp + wtemp * Bdotv * vlowz\n",
        "\n",
        "    hrhow2 = (rho * (1 + epsilon) + pres + b2) * (wtemp) * (wtemp)\n",
        "\n",
        "    D = sdet(gxx, gxy, gxz, gyy, gyz, gzz) * rho * (wtemp)\n",
        "    Sx = sdet(gxx, gxy, gxz, gyy, gyz, gzz) * (hrhow2 * vlowx - ab0 * blowx)\n",
        "    Sy = sdet(gxx, gxy, gxz, gyy, gyz, gzz) * (hrhow2 * vlowy - ab0 * blowy)\n",
        "    Sz = sdet(gxx, gxy, gxz, gyy, gyz, gzz) * (hrhow2 * vlowz - ab0 * blowz)\n",
        "    tau = sdet(gxx, gxy, gxz, gyy, gyz, gzz) * (hrhow2 - pres - b2 / 2 - ab0 * ab0) - D\n",
        "    Bconsx = sdet(gxx, gxy, gxz, gyy, gyz, gzz) * Bx\n",
        "    Bconsy = sdet(gxx, gxy, gxz, gyy, gyz, gzz) * By\n",
        "    Bconsz = sdet(gxx, gxy, gxz, gyy, gyz, gzz) * Bz\n",
        "\n",
        "    return D, Sx, Sy, Sz, tau, Bconsx, Bconsy, Bconsz\n",
        "\n",
        "\n",
        "def generate_input_data(rho, epsilon, vx, vy, vz, Bx, By, Bz, gxx, gxy, gxz, gyy, gyz, gzz):\n",
        "    rho = torch.tensor(np.array(rho), dtype=torch.float32).to(device)\n",
        "    epsilon = torch.tensor(np.array(epsilon), dtype=torch.float32).to(device)\n",
        "    vx = torch.tensor(np.array(vx), dtype=torch.float32).to(device)\n",
        "    vy = torch.tensor(np.array(vy), dtype=torch.float32).to(device)\n",
        "    vz = torch.tensor(np.array(vz), dtype=torch.float32).to(device)\n",
        "    Bx = torch.tensor(np.array(Bx), dtype=torch.float32).to(device)\n",
        "    By = torch.tensor(np.array(By), dtype=torch.float32).to(device)\n",
        "    Bz = torch.tensor(np.array(Bz), dtype=torch.float32).to(device)\n",
        "    gxx = torch.tensor(np.array(gxx), dtype=torch.float32).to(device)\n",
        "    gxy = torch.tensor(np.array(gxy), dtype=torch.float32).to(device)\n",
        "    gxz = torch.tensor(np.array(gxz), dtype=torch.float32).to(device)\n",
        "    gyy = torch.tensor(np.array(gyy), dtype=torch.float32).to(device)\n",
        "    gyz = torch.tensor(np.array(gyz), dtype=torch.float32).to(device)\n",
        "    gzz = torch.tensor(np.array(gzz), dtype=torch.float32).to(device)\n",
        "\n",
        "\n",
        "    \n",
        "    D, Sx, Sy, Sz, tau, Bscriptx, Bscripty, Bscriptz = compute_conserved_variables(\n",
        "        rho, epsilon, vx, vy, vz, Bx, By, Bz, gxx, gxy, gxz, gyy, gyz, gzz\n",
        "    ) \n",
        "\n",
        "    # Add gxx, gxy, gxz, gyy, gyz, gzz to the tensor\n",
        "    x = torch.stack([D, Sx, Sy, Sz, tau, Bscriptx, Bscripty, Bscriptz, gxx, gxy, gxz, gyy, gyz, gzz], axis=1)\n",
        "    return x\n",
        "\n",
        "\n",
        "# Defining a function that generates output data (labels) from given samples of primitive variables\n",
        "# We use the definitions as given in Recovery schemes for primitive variables in\n",
        "# general-relativistic magnetohydrodynamics of Siegel et al.\n",
        "def generate_labels(rho, epsilon, vx, vy, vz):\n",
        "    # Converting the numpy arrays to torch tensors and moving them to the device\n",
        "    rho = torch.tensor(np.array(rho), dtype=torch.float32).to(device)\n",
        "    epsilon = torch.tensor(np.array(epsilon), dtype=torch.float32).to(device)\n",
        "    vx = torch.tensor(np.array(vx), dtype=torch.float32).to(device)\n",
        "    vy = torch.tensor(np.array(vy), dtype=torch.float32).to(device)\n",
        "    vz = torch.tensor(np.array(vz), dtype=torch.float32).to(device)\n",
        "\n",
        "    # Computing the required quantities\n",
        "    pres = eos_analytic(rho, epsilon)\n",
        "    h = 1 + epsilon + pres / rho\n",
        "    W = 1 / torch.sqrt(1 - (vx * vx + vy * vy + vz * vz))\n",
        "\n",
        "    # Returning the output data tensor\n",
        "    return h * W\n"
      ]
    },
    {
      "attachments": {},
      "cell_type": "markdown",
      "metadata": {},
      "source": [
        "### Generating or loading input data and labels"
      ]
    },
    {
      "cell_type": "code",
      "execution_count": 50,
      "metadata": {
        "id": "cKubR6C8UZh4"
      },
      "outputs": [],
      "source": [
        "if LOAD_DATA_FROM_CSV:\n",
        "    # Load the data from CSV files\n",
        "    x_train = pd.read_csv(csv_filenames[\"x_train\"]).values\n",
        "    y_train = pd.read_csv(csv_filenames[\"y_train\"]).values.squeeze()  # reshape to 1D\n",
        "    x_test = pd.read_csv(csv_filenames[\"x_test\"]).values\n",
        "    y_test = pd.read_csv(csv_filenames[\"y_test\"]).values.squeeze()  # reshape to 1D\n",
        "\n",
        "    # Convert numpy arrays to tensors\n",
        "    x_train = torch.from_numpy(x_train).float().to(device)\n",
        "    y_train = torch.from_numpy(y_train).float().to(device)\n",
        "    x_test = torch.from_numpy(x_test).float().to(device)\n",
        "    y_test = torch.from_numpy(y_test).float().to(device)\n",
        "\n",
        "    # This is an alternative to having if clauses  around the cells that visualize these variables.\n",
        "    rho_train = epsilon_train = vx_train = vy_train = vz_train = Bx_train = By_train = Bz_train = gxx_train = gxy_train = gxz_train = gyy_train = gyz_train = gzz_train = None\n",
        "    rho_test = epsilon_test = vx_test = vy_test = vz_test = Bx_test = By_test = Bz_test = gxx_test = gxy_test = gxz_test = gyy_test = gyz_test = gzz_test = None"
      ]
    },
    {
      "cell_type": "code",
      "execution_count": 51,
      "metadata": {},
      "outputs": [],
      "source": [
        "if not LOAD_DATA_FROM_CSV:\n",
        "    # Sample primitive variables and metric\n",
        "    rho_train, epsilon_train, vx_train, vy_train, vz_train, Bx_train, By_train, Bz_train, gxx_train, gxy_train, gxz_train, gyy_train, gyz_train, gzz_train = generate_samples(n_train_samples)\n",
        "    rho_test, epsilon_test, vx_test, vy_test, vz_test, Bx_test, By_test, Bz_test, gxx_test, gxy_test, gxz_test, gyy_test, gyz_test, gzz_test = generate_samples(n_test_samples)"
      ]
    },
    {
      "cell_type": "code",
      "execution_count": 52,
      "metadata": {},
      "outputs": [
        {
          "name": "stdout",
          "output_type": "stream",
          "text": [
            "rho.shape:  torch.Size([8000])\n",
            "epsilon.shape:  torch.Size([8000])\n",
            "rho.shape:  torch.Size([8000])\n",
            "epsilon.shape:  torch.Size([8000])\n",
            "rho.shape:  torch.Size([2000])\n",
            "epsilon.shape:  torch.Size([2000])\n",
            "rho.shape:  torch.Size([2000])\n",
            "epsilon.shape:  torch.Size([2000])\n"
          ]
        }
      ],
      "source": [
        "if not LOAD_DATA_FROM_CSV:\n",
        "    # Generate data and labels.\n",
        "    x_train = generate_input_data(rho_train, epsilon_train, vx_train, vy_train,\n",
        "                                vz_train, Bx_train, By_train, Bz_train,\n",
        "                                gxx_train,gxy_train,gxz_train,\n",
        "                                gyy_train,gyz_train,gzz_train)\n",
        "    y_train = generate_labels(rho_train, epsilon_train, vx_train, vy_train, vz_train)\n",
        "    x_test = generate_input_data(rho_test, epsilon_test,vx_test,\n",
        "                                vy_test,vz_test,Bx_test,\n",
        "                                By_test,Bz_test,gxx_test,\n",
        "                                gxy_test,gxz_test,\n",
        "                                gyy_test,\n",
        "                                gyz_test,gzz_test)\n",
        "    y_test = generate_labels(rho_test, epsilon_test, vx_test, vy_test, vz_test)\n",
        "\n",
        "\n",
        "    # Save the data to CSV files, tensors need to be converted numpy arrays for saving in CSV.\n",
        "    pd.DataFrame(x_train.cpu().numpy()).to_csv(csv_filenames[\"x_train\"], index=False)\n",
        "    save_file(csv_filenames[\"x_train\"])\n",
        "    pd.DataFrame(y_train.cpu().numpy()).to_csv(csv_filenames[\"y_train\"], index=False)\n",
        "    save_file(csv_filenames[\"y_train\"])\n",
        "    pd.DataFrame(x_test.cpu().numpy()).to_csv(csv_filenames[\"x_test\"], index=False)\n",
        "    save_file(csv_filenames[\"x_test\"])\n",
        "    pd.DataFrame(y_test.cpu().numpy()).to_csv(csv_filenames[\"y_test\"], index=False)\n",
        "    save_file(csv_filenames[\"y_test\"])"
      ]
    },
    {
      "cell_type": "code",
      "execution_count": 53,
      "metadata": {},
      "outputs": [
        {
          "data": {
            "text/plain": [
              "tensor([2.4915, 2.5886, 1.3280,  ..., 1.4632, 2.6006, 1.0754])"
            ]
          },
          "execution_count": 53,
          "metadata": {},
          "output_type": "execute_result"
        }
      ],
      "source": [
        "\n",
        "x_train.shape\n",
        "y_train.shape\n",
        "x_test.shape\n",
        "y_test.shape\n",
        "x_train\n",
        "y_train\n",
        "x_test\n",
        "y_test"
      ]
    },
    {
      "cell_type": "code",
      "execution_count": 54,
      "metadata": {},
      "outputs": [
        {
          "data": {
            "text/plain": [
              "tensor(False)"
            ]
          },
          "execution_count": 54,
          "metadata": {},
          "output_type": "execute_result"
        }
      ],
      "source": [
        "torch.isnan(x_train).any()\n",
        "torch.isnan(x_test).any()\n",
        "torch.isnan(y_train).any()\n",
        "torch.isnan(y_test).any()"
      ]
    },
    {
      "cell_type": "code",
      "execution_count": 55,
      "metadata": {},
      "outputs": [
        {
          "data": {
            "text/plain": [
              "(tensor([], dtype=torch.int64), tensor([], dtype=torch.int64))"
            ]
          },
          "execution_count": 55,
          "metadata": {},
          "output_type": "execute_result"
        }
      ],
      "source": [
        "nan_mask_train = torch.isnan(x_train)     # get a boolean mask indicating NaN values\n",
        "nan_indices_train = torch.where(nan_mask_train)  # get the indices of the NaN values\n",
        "nan_indices_train\n",
        "# len(nan_indices_train)\n",
        "\n",
        "nan_mask_test = torch.isnan(x_test)     # get a boolean mask indicating NaN values\n",
        "nan_indices_test = torch.where(nan_mask_train)  # get the indices of the NaN values\n",
        "nan_indices_test\n",
        "# len(nan_indices_test)"
      ]
    },
    {
      "attachments": {},
      "cell_type": "markdown",
      "metadata": {},
      "source": [
        "## Visualizing the data"
      ]
    },
    {
      "attachments": {},
      "cell_type": "markdown",
      "metadata": {},
      "source": [
        "### Visualizing sampled data"
      ]
    },
    {
      "cell_type": "code",
      "execution_count": 56,
      "metadata": {},
      "outputs": [
        {
          "name": "stdout",
          "output_type": "stream",
          "text": [
            "Couldn't find program: 'echo'\n"
          ]
        }
      ],
      "source": [
        "%%script echo skipping\n",
        "\n",
        "if not LOAD_DATA_FROM_CSV:\n",
        "    rho_train\n",
        "    epsilon_train\n",
        "    vx_train\n",
        "    vy_train\n",
        "    vz_train \n",
        "    Bx_train\n",
        "    By_train\n",
        "    Bz_train\n",
        "    rho_test\n",
        "    epsilon_test\n",
        "    vx_test \n",
        "    vy_test \n",
        "    vz_test \n",
        "    Bx_test\n",
        "    By_test\n",
        "    Bz_test"
      ]
    },
    {
      "cell_type": "code",
      "execution_count": 57,
      "metadata": {},
      "outputs": [
        {
          "name": "stdout",
          "output_type": "stream",
          "text": [
            "8000\n",
            "8000\n",
            "8000\n",
            "8000\n",
            "8000\n",
            "8000\n",
            "8000\n",
            "8000\n",
            "\n",
            "2000\n",
            "2000\n",
            "2000\n",
            "2000\n",
            "2000\n",
            "2000\n",
            "2000\n",
            "2000\n"
          ]
        }
      ],
      "source": [
        "print(len(rho_train))\n",
        "print(len(epsilon_train))\n",
        "print(len(vx_train))\n",
        "print(len(vy_train))\n",
        "print(len(vz_train))\n",
        "print(len(Bx_train))\n",
        "print(len(By_train))\n",
        "print(len(Bz_train))\n",
        "print()\n",
        "print(len(rho_test))\n",
        "print(len(epsilon_test))\n",
        "print(len(vx_test))\n",
        "print(len(vy_test))\n",
        "print(len(vz_test))\n",
        "print(len(Bx_test))\n",
        "print(len(By_test))\n",
        "print(len(Bz_test))"
      ]
    },
    {
      "cell_type": "code",
      "execution_count": 58,
      "metadata": {
        "id": "VMp6XJ6RUZh4"
      },
      "outputs": [],
      "source": [
        "%config InteractiveShell.ast_node_interactivity = \"last_expr_or_assign\""
      ]
    },
    {
      "cell_type": "code",
      "execution_count": 59,
      "metadata": {},
      "outputs": [
        {
          "name": "stdout",
          "output_type": "stream",
          "text": [
            "Couldn't find program: 'echo'\n"
          ]
        }
      ],
      "source": [
        "%%script echo skipping\n",
        "\n",
        "plt.hist([np.random.uniform(0, 0.999) for _ in range(n_train_samples)], bins=20)"
      ]
    },
    {
      "cell_type": "code",
      "execution_count": 60,
      "metadata": {},
      "outputs": [
        {
          "data": {
            "text/plain": [
              "(0.028586843815282856,\n",
              " 0.20881076865713505,\n",
              " 0.033554752782703146,\n",
              " 0.18944406010468812,\n",
              " 0.11659390992619441,\n",
              " 0.3080632251907686,\n",
              " 0.03359211080383502,\n",
              " 0.029985316030613718,\n",
              " 0.781711891324387,\n",
              " 0.21900066211836275,\n",
              " 0.18345058981979231,\n",
              " 0.011167366887592671,\n",
              " 0.047015702848158564,\n",
              " 0.6731771484619137,\n",
              " 0.03006778211153882,\n",
              " 0.049991044297786696,\n",
              " 0.14732442767546575,\n",
              " 0.36984574847614027,\n",
              " 0.16428894397566599,\n",
              " 0.18191579805136052,\n",
              " 0.02793812001967887,\n",
              " 0.18398227179522433,\n",
              " 0.3968332721691642,\n",
              " 0.014278771196040284,\n",
              " 0.06476564640942066,\n",
              " 0.3027594966448899,\n",
              " 0.8088699741064408,\n",
              " 0.07097278154276869,\n",
              " 0.01600949285963323,\n",
              " 0.15240159026391348,\n",
              " 0.018170150793053657,\n",
              " 0.03135607303825137,\n",
              " 0.08768651521901544,\n",
              " 0.11845000433715223,\n",
              " 0.05440058389172756,\n",
              " 0.020388887360781885,\n",
              " 0.040876507193535944,\n",
              " 0.10932805017798122,\n",
              " 0.3474702702755212,\n",
              " 0.08002511296981467,\n",
              " 0.38969027103177867,\n",
              " 0.05323472235254264,\n",
              " 0.43984724865474256,\n",
              " 0.021633414654514304,\n",
              " 0.016314580139020634,\n",
              " 0.014440267409182831,\n",
              " 0.20097368551500983,\n",
              " 0.034550570589892214,\n",
              " 0.3613719425077795,\n",
              " 0.6997753206326761,\n",
              " 0.6106055145180053,\n",
              " 0.2593440537182789,\n",
              " 0.3097478810813083,\n",
              " 0.04124409730862079,\n",
              " 0.08591213791516854,\n",
              " 0.09011631162729584,\n",
              " 0.3080924826063032,\n",
              " 0.024021865078997347,\n",
              " 0.1624811352797975,\n",
              " 0.021429026860924707,\n",
              " 0.4718225699030966,\n",
              " 0.1463990168972284,\n",
              " 0.06755672392032787,\n",
              " 0.023687567211414334,\n",
              " 0.012426486503538182,\n",
              " 0.6985283016388377,\n",
              " 0.515782881818347,\n",
              " 0.012240970947060925,\n",
              " 0.03614458194564567,\n",
              " 0.8034222340457221,\n",
              " 0.317856710675497,\n",
              " 0.6942828472187602,\n",
              " 0.3085800662703277,\n",
              " 0.03721565212804427,\n",
              " 0.5814742983624451,\n",
              " 0.6304701976980838,\n",
              " 0.05348944472952829,\n",
              " 0.7279087363320039,\n",
              " 0.04801060807156436,\n",
              " 0.8572578846287345,\n",
              " 0.04226486726336651,\n",
              " 0.03375373273913345,\n",
              " 0.013014131418424254,\n",
              " 0.47521025747334417,\n",
              " 0.6642413134935918,\n",
              " 0.017466458142233965,\n",
              " 0.7004199897695161,\n",
              " 0.02002252258516028,\n",
              " 0.07171719146281517,\n",
              " 0.04500586857825533,\n",
              " 0.06793738057606052,\n",
              " 0.256963174533509,\n",
              " 0.11445314041685652,\n",
              " 0.2600722115373605,\n",
              " 0.01379904352157331,\n",
              " 0.014734263367473712,\n",
              " 0.6484754155050133,\n",
              " 0.3251281321406973,\n",
              " 0.03915744624172213,\n",
              " 0.016639060703789624,\n",
              " 0.14720757291198833,\n",
              " 0.9011987986173854,\n",
              " 0.15929742159397717,\n",
              " 0.07002271269226794,\n",
              " 0.1990051824669999,\n",
              " 0.5019223620203258,\n",
              " 0.02942991275136581,\n",
              " 0.260996869776672,\n",
              " 0.41976535897202505,\n",
              " 0.9928321387212599,\n",
              " 0.03814937296994172,\n",
              " 0.010380841515242155,\n",
              " 0.14495368031122094,\n",
              " 0.013324250047261376,\n",
              " 0.748575375693995,\n",
              " 0.015014297755424936,\n",
              " 0.399971713669047,\n",
              " 0.01891271003853302,\n",
              " 0.3975076677251439,\n",
              " 0.6708971028335033,\n",
              " 0.6096016643626533,\n",
              " 0.019717191959455063,\n",
              " 0.04035104415311487,\n",
              " 0.11047468144166306,\n",
              " 0.23951126713500479,\n",
              " 0.21237026625039854,\n",
              " 0.5717068704335233,\n",
              " 0.4651534532320479,\n",
              " 0.29083549506235096,\n",
              " 0.015716680965867175,\n",
              " 0.011078527749913981,\n",
              " 0.7287207214351616,\n",
              " 0.13248929479494503,\n",
              " 0.1147153331543272,\n",
              " 0.044472132248168005,\n",
              " 0.03538805132740771,\n",
              " 0.8276881195787148,\n",
              " 0.04569763269057153,\n",
              " 0.014332329309878796,\n",
              " 0.3494034915596709,\n",
              " 0.07211633730390295,\n",
              " 0.01992667656000819,\n",
              " 0.08856882165483229,\n",
              " 0.3606535513525899,\n",
              " 0.013217385562750173,\n",
              " 0.049395550605824005,\n",
              " 0.5166781636434078,\n",
              " 0.010588429841581124,\n",
              " 0.03642148095415651,\n",
              " 0.14822884109001963,\n",
              " 0.015977545728481982,\n",
              " 0.6267111384893201,\n",
              " 0.06728352626057983,\n",
              " 0.7045848019081509,\n",
              " 0.1011660663568163,\n",
              " 0.5370839080369949,\n",
              " 0.019355105497218566,\n",
              " 0.022391726421140613,\n",
              " 0.26361780845784377,\n",
              " 0.09302812271233929,\n",
              " 0.37607868744540895,\n",
              " 0.012712562639677806,\n",
              " 0.014880716238574787,\n",
              " 0.011063971981399953,\n",
              " 0.08943198063704844,\n",
              " 0.16677590521924582,\n",
              " 0.05783025593513777,\n",
              " 0.048285561594945965,\n",
              " 0.059315633693990316,\n",
              " 0.13211419732140922,\n",
              " 0.5106055365795413,\n",
              " 0.025192929635257225,\n",
              " 0.05097381026598939,\n",
              " 0.04487087408071555,\n",
              " 0.27170181704194685,\n",
              " 0.7640368872469963,\n",
              " 0.08599153048545846,\n",
              " 0.17144009051184556,\n",
              " 0.1730737263159136,\n",
              " 0.020377233532201774,\n",
              " 0.2678585304261556,\n",
              " 0.10500469369688216,\n",
              " 0.02575374602005389,\n",
              " 0.9148400583494025,\n",
              " 0.8360919687528074,\n",
              " 0.19860729143428105,\n",
              " 0.053957856137455684,\n",
              " 0.11325090480418004,\n",
              " 0.017977228097064913,\n",
              " 0.0646193995010946,\n",
              " 0.05913830782302632,\n",
              " 0.010760321747617475,\n",
              " 0.050156942577516066,\n",
              " 0.8016897513457969,\n",
              " 0.11127442205086484,\n",
              " 0.028585024208546715,\n",
              " 0.03443494122439861,\n",
              " 0.1023749484810847,\n",
              " 0.410855222035847,\n",
              " 0.10953022773245519,\n",
              " 0.032809915287393666,\n",
              " 0.1938998457346871,\n",
              " 0.3044012679201972,\n",
              " 0.012264106557547163,\n",
              " 0.053013248679024225,\n",
              " 0.247722490238412,\n",
              " 0.01178167270392719,\n",
              " 0.013085806784415772,\n",
              " 0.045476641090188945,\n",
              " 0.4067044782217853,\n",
              " 0.24020960587477652,\n",
              " 0.03921182187322712,\n",
              " 0.317524240571568,\n",
              " 0.10960064208262675,\n",
              " 0.9531108794222738,\n",
              " 0.18040509184743894,\n",
              " 0.027253336394060843,\n",
              " 0.1254960624365523,\n",
              " 0.01128269959929503,\n",
              " 0.2348237864010832,\n",
              " 0.36867511339148124,\n",
              " 0.10164404669014475,\n",
              " 0.08596507926690448,\n",
              " 0.026206640162865218,\n",
              " 0.02504255720717193,\n",
              " 0.013030676072734986,\n",
              " 0.042886555713225014,\n",
              " 0.057367375324025666,\n",
              " 0.15665307808292087,\n",
              " 0.24876302688141555,\n",
              " 0.010770955937741846,\n",
              " 0.0552525241169354,\n",
              " 0.07728192003199964,\n",
              " 0.018855935831029343,\n",
              " 0.02000912370599208,\n",
              " 0.3753842184170526,\n",
              " 0.10534577905677706,\n",
              " 0.01872180613029038,\n",
              " 0.03339788143202015,\n",
              " 0.018537475737133286,\n",
              " 0.027299904654395624,\n",
              " 0.12139525250282557,\n",
              " 0.034360136958364124,\n",
              " 0.0747083205066743,\n",
              " 0.049225615955607586,\n",
              " 0.29868482955486686,\n",
              " 0.48787092703424323,\n",
              " 0.011645478274814446,\n",
              " 0.015766638138607274,\n",
              " 0.018261624112392662,\n",
              " 0.4484635368081784,\n",
              " 0.02930417350973521,\n",
              " 0.131876475360546,\n",
              " 0.08339012170628639,\n",
              " 0.010691941893075154,\n",
              " 0.1625973621186859,\n",
              " 0.3213668808067285,\n",
              " 0.20651571156448953,\n",
              " 0.01911613832030832,\n",
              " 0.03987354936971549,\n",
              " 0.06756277622207202,\n",
              " 0.6150996733230965,\n",
              " 0.027208611087341333,\n",
              " 0.10372708095985626,\n",
              " 0.041950709801816984,\n",
              " 0.33571612951077817,\n",
              " 0.08099554686662219,\n",
              " 0.7825257502459319,\n",
              " 0.6908818708589363,\n",
              " 0.04452357802422597,\n",
              " 0.11211513839020584,\n",
              " 0.7171203268905968,\n",
              " 0.03847519132607287,\n",
              " 0.783768523607133,\n",
              " 0.10292541474218565,\n",
              " 0.2179447651244807,\n",
              " 0.04195908469471422,\n",
              " 0.609639309195307,\n",
              " 0.24029297503431954,\n",
              " 0.020412003133491893,\n",
              " 0.1954863608324471,\n",
              " 0.013637476311232842,\n",
              " 0.03625255090550819,\n",
              " 0.20425422055972026,\n",
              " 0.034951607877383856,\n",
              " 0.1269917295998322,\n",
              " 0.20153410425784607,\n",
              " 0.04992893385845743,\n",
              " 0.24222192836199508,\n",
              " 0.06065634655131018,\n",
              " 0.03379155118050555,\n",
              " 0.12685362088769145,\n",
              " 0.31594883177907285,\n",
              " 0.019022099886310068,\n",
              " 0.8514655963384593,\n",
              " 0.08349147048199923,\n",
              " 0.012640077263388973,\n",
              " 0.055780041643579956,\n",
              " 0.5986337334349413,\n",
              " 0.1390983637302292,\n",
              " 0.099998288312021,\n",
              " 0.6701506309226062,\n",
              " 0.0138154423764281,\n",
              " 0.025790533584429568,\n",
              " 0.03860985042080937,\n",
              " 0.47675291546927956,\n",
              " 0.01387278073165207,\n",
              " 0.011821802529607515,\n",
              " 0.02117915966495551,\n",
              " 0.03083477877873867,\n",
              " 0.017850643704900786,\n",
              " 0.0782712843152269,\n",
              " 0.9421733830245806,\n",
              " 0.021181205620252736,\n",
              " 0.3856813290013067,\n",
              " 0.8705538551835702,\n",
              " 0.5320396608249278,\n",
              " 0.02286674566407556,\n",
              " 0.7129819333145784,\n",
              " 0.03327751206366244,\n",
              " 0.06838605144901305,\n",
              " 0.030202311556338294,\n",
              " 0.0497854391820609,\n",
              " 0.41839767109483167,\n",
              " 0.012744171728594723,\n",
              " 0.023109164412052005,\n",
              " 0.19351873174835618,\n",
              " 0.34869968705541815,\n",
              " 0.06450198820012235,\n",
              " 0.4283942573871446,\n",
              " 0.684250326810969,\n",
              " 0.5556178147671761,\n",
              " 0.03766630440000117,\n",
              " 0.10767689089868698,\n",
              " 0.020062050414198115,\n",
              " 0.8498578723950304,\n",
              " 0.020511424125956447,\n",
              " 0.7415817606063365,\n",
              " 0.01254695382307099,\n",
              " 0.2992930941724312,\n",
              " 0.023731960457398872,\n",
              " 0.023984866639346895,\n",
              " 0.011448554923418855,\n",
              " 0.1762663430449083,\n",
              " 0.07111014223415439,\n",
              " 0.8117528559796561,\n",
              " 0.011641671735976428,\n",
              " 0.056585305688786856,\n",
              " 0.16270445363609412,\n",
              " 0.09542176101654196,\n",
              " 0.23586164704218684,\n",
              " 0.019633323284031848,\n",
              " 0.018770242557605853,\n",
              " 0.10551607690198428,\n",
              " 0.02304739849628797,\n",
              " 0.07398766299310154,\n",
              " 0.01351580930297434,\n",
              " 0.4502129724906073,\n",
              " 0.16519981439661388,\n",
              " 0.020180294236152353,\n",
              " 0.0166035291132943,\n",
              " 0.14504894076231178,\n",
              " 0.1491888028363591,\n",
              " 0.6176544214202876,\n",
              " 0.9374999451227929,\n",
              " 0.2591809931725305,\n",
              " 0.14651755258039387,\n",
              " 0.4007482176141471,\n",
              " 0.020185086656809275,\n",
              " 0.9605262845467529,\n",
              " 0.19365637155268492,\n",
              " 0.020213558165481628,\n",
              " 0.3771945782722523,\n",
              " 0.021945830839758988,\n",
              " 0.05012984046648442,\n",
              " 0.13369376523379825,\n",
              " 0.10843920205534965,\n",
              " 0.04394168345076244,\n",
              " 0.1889513986379029,\n",
              " 0.5900868338093578,\n",
              " 0.4856644994511707,\n",
              " 0.027955967454526973,\n",
              " 0.026115584811710897,\n",
              " 0.1259937064540168,\n",
              " 0.08889291438926068,\n",
              " 0.025674890627729277,\n",
              " 0.07609370028173786,\n",
              " 0.05410675104759909,\n",
              " 0.02424265913910182,\n",
              " 0.02800195648417244,\n",
              " 0.014686630417432456,\n",
              " 0.18352137854171446,\n",
              " 0.7463089113072235,\n",
              " 0.021679095036863202,\n",
              " 0.10081093486390717,\n",
              " 0.12109725024517641,\n",
              " 0.13804683904674825,\n",
              " 0.475703091711741,\n",
              " 0.3294952445066736,\n",
              " 0.6301150823543196,\n",
              " 0.2666135349578474,\n",
              " 0.08206580893696418,\n",
              " 0.8328149058042138,\n",
              " 0.043615273231488956,\n",
              " 0.2557788116967595,\n",
              " 0.01625911418433087,\n",
              " 0.025607670847562214,\n",
              " 0.038631208643615376,\n",
              " 0.03392572585210701,\n",
              " 0.1612642910923592,\n",
              " 0.019333659453543265,\n",
              " 0.03859824645336802,\n",
              " 0.05881057353302635,\n",
              " 0.5191202493224207,\n",
              " 0.3173255893368841,\n",
              " 0.7780409785689123,\n",
              " 0.011400263132139874,\n",
              " 0.06988898421071361,\n",
              " 0.13573151184390805,\n",
              " 0.03733490878196289,\n",
              " 0.04851943770372232,\n",
              " 0.21325321811845876,\n",
              " 0.047229846889065445,\n",
              " 0.02626655821663197,\n",
              " 0.05476299823564469,\n",
              " 0.3951066142992036,\n",
              " 0.06022202443553665,\n",
              " 0.5604030843750399,\n",
              " 0.013570920769576958,\n",
              " 0.049710596175034885,\n",
              " 0.013263393356716162,\n",
              " 0.28556169307784696,\n",
              " 0.040443308329194606,\n",
              " 0.07542126528558164,\n",
              " 0.11750113875900071,\n",
              " 0.3381501630416771,\n",
              " 0.7715316082708824,\n",
              " 0.08799957262273264,\n",
              " 0.01203214575068982,\n",
              " 0.6395097203249839,\n",
              " 0.4683792757266941,\n",
              " 0.1446247343242853,\n",
              " 0.6984394087666811,\n",
              " 0.3839260978888614,\n",
              " 0.8042432829873374,\n",
              " 0.015479098979218725,\n",
              " 0.043554269503400016,\n",
              " 0.013882935368095777,\n",
              " 0.02760299746486527,\n",
              " 0.32361399994605666,\n",
              " 0.775323187479975,\n",
              " 0.07981910354619964,\n",
              " 0.5273903785446271,\n",
              " 0.23358014692035953,\n",
              " 0.11240680173407674,\n",
              " 0.28030955890096687,\n",
              " 0.04605012481797877,\n",
              " 0.7888725547351959,\n",
              " 0.010081749735552438,\n",
              " 0.7059354712947824,\n",
              " 0.3928884027019414,\n",
              " 0.05231029679288685,\n",
              " 0.18300739370311042,\n",
              " 0.04746878480112934,\n",
              " 0.04782018558613801,\n",
              " 0.044577619220353026,\n",
              " 0.21319750768044787,\n",
              " 0.07518342179228729,\n",
              " 0.07444196697104576,\n",
              " 0.42946327113298277,\n",
              " 0.28891425403418725,\n",
              " 0.13160260809322005,\n",
              " 0.011177193364343726,\n",
              " 0.12655383818566684,\n",
              " 0.019088271778152636,\n",
              " 0.11586936483387807,\n",
              " 0.07146720105852936,\n",
              " 0.014872486367245788,\n",
              " 0.48309251310829654,\n",
              " 0.07223458449524303,\n",
              " 0.7287639392285323,\n",
              " 0.024177582344650825,\n",
              " 0.045062976235841434,\n",
              " 0.01332764125106061,\n",
              " 0.27283380694558224,\n",
              " 0.1683934741650628,\n",
              " 0.2695720143769787,\n",
              " 0.9166011478434546,\n",
              " 0.31035957721014995,\n",
              " 0.06974914296564345,\n",
              " 0.2253557495440332,\n",
              " 0.9396355977096021,\n",
              " 0.016906171860879924,\n",
              " 0.04322054750432245,\n",
              " 0.1421137019826578,\n",
              " 0.07308040537301902,\n",
              " 0.5513361114559832,\n",
              " 0.010879563952621064,\n",
              " 0.6884113296438561,\n",
              " 0.011816308331481505,\n",
              " 0.40609383018365497,\n",
              " 0.08798361485315173,\n",
              " 0.10928341003754408,\n",
              " 0.5606843126256914,\n",
              " 0.04442796957114099,\n",
              " 0.5750379080006491,\n",
              " 0.2900642926485547,\n",
              " 0.5078861680117283,\n",
              " 0.01441258052805678,\n",
              " 0.018720964459398932,\n",
              " 0.15715325277300904,\n",
              " 0.621773458680243,\n",
              " 0.6424754099141292,\n",
              " 0.016746032671996328,\n",
              " 0.01814002631406701,\n",
              " 0.04778716740356403,\n",
              " 0.010095287087596501,\n",
              " 0.18403967036049235,\n",
              " 0.18397225485064103,\n",
              " 0.021653523802048404,\n",
              " 0.027916562017514416,\n",
              " 0.016888340396705843,\n",
              " 0.027308260365204336,\n",
              " 0.08635761002728108,\n",
              " 0.21813987597065523,\n",
              " 0.43750819702102867,\n",
              " 0.04118445667933566,\n",
              " 0.032517671595358774,\n",
              " 0.46533231475789283,\n",
              " 0.013439701958009751,\n",
              " 0.040549404918517315,\n",
              " 0.024730674361883923,\n",
              " 0.18584328802902278,\n",
              " 0.1185208435147381,\n",
              " 0.7312817643111349,\n",
              " 0.8628397627342359,\n",
              " 0.01735620326350201,\n",
              " 0.0682388856299735,\n",
              " 0.2539638388674234,\n",
              " 0.01770613204184857,\n",
              " 0.5404505566384883,\n",
              " 0.4767058944599804,\n",
              " 0.37777480079453574,\n",
              " 0.6803623009258978,\n",
              " 0.836057890975788,\n",
              " 0.07161495242764056,\n",
              " 0.037394441862894735,\n",
              " 0.3813716693883212,\n",
              " 0.11088423485533085,\n",
              " 0.599969249769085,\n",
              " 0.04921518516058957,\n",
              " 0.38487153943080765,\n",
              " 0.011173036686513949,\n",
              " 0.06072204374811024,\n",
              " 0.16231958632620228,\n",
              " 0.8944774523543949,\n",
              " 0.16449778791701117,\n",
              " 0.8945927322383515,\n",
              " 0.8997684257155065,\n",
              " 0.043897775660714664,\n",
              " 0.9948821790664761,\n",
              " 0.16953978266343428,\n",
              " 0.03224135759726627,\n",
              " 0.04794349604800257,\n",
              " 0.15804560221520372,\n",
              " 0.013359454725195726,\n",
              " 0.26520628040788696,\n",
              " 0.018196284671355686,\n",
              " 0.042548067418834,\n",
              " 0.41028394332591056,\n",
              " 0.0728226397977001,\n",
              " 0.05344204921695569,\n",
              " 0.13585432993898267,\n",
              " 0.1053398749786755,\n",
              " 0.04841788227421204,\n",
              " 0.014949448051582229,\n",
              " 0.7601710647228763,\n",
              " 0.18307342579108826,\n",
              " 0.27996038153922537,\n",
              " 0.24578289804531345,\n",
              " 0.785633939014163,\n",
              " 0.010634838783285007,\n",
              " 0.15940230572763098,\n",
              " 0.1901027541455167,\n",
              " 0.018703740595804864,\n",
              " 0.03681099009377072,\n",
              " 0.6014388400906272,\n",
              " 0.012195930739112869,\n",
              " 0.1134271921399348,\n",
              " 0.7395835967351693,\n",
              " 0.39352395628717823,\n",
              " 0.27125302599874995,\n",
              " 0.27704858132859783,\n",
              " 0.939760670586539,\n",
              " 0.11293779007567663,\n",
              " 0.20982996445525823,\n",
              " 0.16720372623934557,\n",
              " 0.0995025444494255,\n",
              " 0.8186122126145472,\n",
              " 0.7188516637799247,\n",
              " 0.10710367497884885,\n",
              " 0.28559429184962903,\n",
              " 0.06946044231098418,\n",
              " 0.4050586830757072,\n",
              " 0.07685376231992323,\n",
              " 0.011402601462706016,\n",
              " 0.3086986825965533,\n",
              " 0.04520716222865005,\n",
              " 0.05193485469367419,\n",
              " 0.19049042728370297,\n",
              " 0.15251861596684774,\n",
              " 0.018329698076230756,\n",
              " 0.01199700645723015,\n",
              " 0.06997080749299718,\n",
              " 0.5670593315609459,\n",
              " 0.04577550996313877,\n",
              " 0.39968774373421656,\n",
              " 0.09058062800259849,\n",
              " 0.19652778704327126,\n",
              " 0.0208952300091249,\n",
              " 0.012472928070599567,\n",
              " 0.12799810219238195,\n",
              " 0.15728250314516667,\n",
              " 0.19936890174078709,\n",
              " 0.05105475823387401,\n",
              " 0.019493783863588146,\n",
              " 0.9160928286934812,\n",
              " 0.09834326360622542,\n",
              " 0.136557707283269,\n",
              " 0.017122033679572764,\n",
              " 0.43542356032562657,\n",
              " 0.08931453472645712,\n",
              " 0.041490533944427185,\n",
              " 0.01326633423287306,\n",
              " 0.011753261122727343,\n",
              " 0.016340187590388716,\n",
              " 0.05552832326542854,\n",
              " 0.34744125054129044,\n",
              " 0.014005482463688247,\n",
              " 0.23163749216744678,\n",
              " 0.42512736694693537,\n",
              " 0.05203602537722248,\n",
              " 0.5046872417869338,\n",
              " 0.37028256455942576,\n",
              " 0.01212211738338548,\n",
              " 0.23319963838059962,\n",
              " 0.23234239277506025,\n",
              " 0.502093464189929,\n",
              " 0.9263636437971821,\n",
              " 0.024212507796331276,\n",
              " 0.03801330360933523,\n",
              " 0.01159787455490548,\n",
              " 0.47830614205528055,\n",
              " 0.016575823885018184,\n",
              " 0.030083777609144473,\n",
              " 0.10290652002920829,\n",
              " 0.3472405569509069,\n",
              " 0.11565046068729151,\n",
              " 0.037336930041614466,\n",
              " 0.023642459725136924,\n",
              " 0.04475655349509517,\n",
              " 0.010831142139079201,\n",
              " 0.10599110196231673,\n",
              " 0.659538083029719,\n",
              " 0.01625931387032103,\n",
              " 0.8760323195894419,\n",
              " 0.12187547163932298,\n",
              " 0.010499610905730922,\n",
              " 0.03595577926918172,\n",
              " 0.017610126040462543,\n",
              " 0.7493785905319729,\n",
              " 0.029720495417156018,\n",
              " 0.22209839004147744,\n",
              " 0.17557744200951633,\n",
              " 0.028026093791985125,\n",
              " 0.01911361424140562,\n",
              " 0.30647502036425583,\n",
              " 0.01023474273412545,\n",
              " 0.12765319190703148,\n",
              " 0.021542375163616442,\n",
              " 0.01295363872684725,\n",
              " 0.04281908821315482,\n",
              " 0.6334994066048971,\n",
              " 0.019737317235225087,\n",
              " 0.2117446386075557,\n",
              " 0.031216621521040322,\n",
              " 0.029081303292646778,\n",
              " 0.11559637970523524,\n",
              " 0.05046917512765805,\n",
              " 0.020037754476222466,\n",
              " 0.775048521921897,\n",
              " 0.10681948136166586,\n",
              " 0.018867823666823363,\n",
              " 0.09043054528949876,\n",
              " 0.9710590567077284,\n",
              " 0.45007815797170814,\n",
              " 0.05822178492380551,\n",
              " 0.020007315584681728,\n",
              " 0.11388596713091194,\n",
              " 0.010456895240105108,\n",
              " 0.03477408004389565,\n",
              " 0.0991656573063423,\n",
              " 0.013418546551068927,\n",
              " 0.14459497305837665,\n",
              " 0.10054402317140669,\n",
              " 0.40237563958963807,\n",
              " 0.5377341716917043,\n",
              " 0.09979461548818139,\n",
              " 0.09083895541332661,\n",
              " 0.5963971473040608,\n",
              " 0.14597428585902222,\n",
              " 0.07016116919918126,\n",
              " 0.02042001959650489,\n",
              " 0.29448971013314545,\n",
              " 0.01224715127305032,\n",
              " 0.3731210626668439,\n",
              " 0.27624677613144577,\n",
              " 0.10400469870437297,\n",
              " 0.44598048095461185,\n",
              " 0.5730242266848791,\n",
              " 0.6658303688106544,\n",
              " 0.020418954570323496,\n",
              " 0.019352145162369737,\n",
              " 0.032443054544397006,\n",
              " 0.1948644153406155,\n",
              " 0.025986085128958697,\n",
              " 0.08166090104970482,\n",
              " 0.07466223664885165,\n",
              " 0.04588039006122725,\n",
              " 0.03865164661224972,\n",
              " 0.012983738022432871,\n",
              " 0.2678574856678851,\n",
              " 0.013929337527506132,\n",
              " 0.6915291364598193,\n",
              " 0.06343439516132153,\n",
              " 0.02677924769128854,\n",
              " 0.05517876416268569,\n",
              " 0.037860183005010165,\n",
              " 0.05854816863911538,\n",
              " 0.47326370046001665,\n",
              " 0.17207844562649824,\n",
              " 0.011341466437079485,\n",
              " 0.018077646301661157,\n",
              " 0.016606454488694074,\n",
              " 0.06879370533504359,\n",
              " 0.011951453781413232,\n",
              " 0.5172939255791128,\n",
              " 0.8866954010565274,\n",
              " 0.04780202652781516,\n",
              " 0.02333509949794456,\n",
              " 0.010526092161331862,\n",
              " 0.01411170212875035,\n",
              " 0.18220227238341571,\n",
              " 0.13590781587514644,\n",
              " 0.12230688346352832,\n",
              " 0.04806687085641795,\n",
              " 0.21395705075201,\n",
              " 0.0848956744901425,\n",
              " 0.34604780115173894,\n",
              " 0.12051136896278702,\n",
              " 0.39057306363837535,\n",
              " 0.01807933966592048,\n",
              " 0.08362732424627155,\n",
              " 0.2705535185755433,\n",
              " 0.25239560808624684,\n",
              " 0.023913738683626933,\n",
              " 0.010411306537744401,\n",
              " 0.011303252908526046,\n",
              " 0.11482176126942777,\n",
              " 0.0317745677969629,\n",
              " 0.5131521249266956,\n",
              " 0.4370686406386694,\n",
              " 0.01316200580082863,\n",
              " 0.015674634440055818,\n",
              " 0.019303194882383967,\n",
              " 0.903166943969487,\n",
              " 0.017554481832114745,\n",
              " 0.3696551137929157,\n",
              " 0.06863881340195425,\n",
              " 0.052706471820204714,\n",
              " 0.15581380404656997,\n",
              " 0.018648453435370093,\n",
              " 0.13869042472752505,\n",
              " 0.04539999190062324,\n",
              " 0.01491280342720009,\n",
              " 0.3644435350577339,\n",
              " 0.16664768938075422,\n",
              " 0.0644949983772726,\n",
              " 0.33225335265655465,\n",
              " 0.05991862688153925,\n",
              " 0.04441436707000861,\n",
              " 0.2238088282140819,\n",
              " 0.022751527976416698,\n",
              " 0.01137625436456991,\n",
              " 0.10787034137370048,\n",
              " 0.19141885203566653,\n",
              " 0.19632841472836882,\n",
              " 0.1690425104413463,\n",
              " 0.010999826979426324,\n",
              " 0.014714263202960539,\n",
              " 0.07180126176637232,\n",
              " 0.021237447624822135,\n",
              " 0.18514643633636693,\n",
              " 0.06131977500181937,\n",
              " 0.013906279708664772,\n",
              " 0.6086273897545806,\n",
              " 0.3306474506924483,\n",
              " 0.20718396814212006,\n",
              " 0.2941416106147358,\n",
              " 0.12521585915816538,\n",
              " 0.054968089921528705,\n",
              " 0.020839702445063547,\n",
              " 0.018574274100942603,\n",
              " 0.0432074656394795,\n",
              " 0.46459545316369727,\n",
              " 0.9520424186496963,\n",
              " 0.5170339540697118,\n",
              " 0.14862307431371952,\n",
              " 0.19284662350171236,\n",
              " 0.04500217825719645,\n",
              " 0.060116923553525416,\n",
              " 0.1106476367440143,\n",
              " 0.05919932605628896,\n",
              " 0.037359895842459766,\n",
              " 0.10133623319597365,\n",
              " 0.011501530493703374,\n",
              " 0.020723818176011318,\n",
              " 0.16649873176199917,\n",
              " 0.031403257635966804,\n",
              " 0.440513103961287,\n",
              " 0.03867391538730486,\n",
              " 0.045532593247658786,\n",
              " 0.6451761008376921,\n",
              " 0.06907877204080909,\n",
              " 0.13111480369743778,\n",
              " 0.022188688947041613,\n",
              " 0.023905114378675797,\n",
              " 0.12637778092313243,\n",
              " 0.32982466270292193,\n",
              " 0.030918936431939187,\n",
              " 0.16672066299300056,\n",
              " 0.0775932565961686,\n",
              " 0.014747264622846297,\n",
              " 0.0407929514656675,\n",
              " 0.029077523751754195,\n",
              " 0.6703476971698817,\n",
              " 0.7819791027928454,\n",
              " 0.8055670960100082,\n",
              " 0.057092853732210784,\n",
              " 0.261685874867813,\n",
              " 0.2778762629445578,\n",
              " 0.013703566786452901,\n",
              " 0.40027034768023384,\n",
              " 0.08723059978464022,\n",
              " 0.032661285971933046,\n",
              " 0.018743467028697933,\n",
              " 0.26729646269573903,\n",
              " 0.04765378879523476,\n",
              " 0.018691320324396916,\n",
              " 0.17611038420413055,\n",
              " 0.14248598014727132,\n",
              " 0.45401287382637556,\n",
              " 0.018980610828585875,\n",
              " 0.6994914259178643,\n",
              " 0.7328161838156392,\n",
              " 0.011612002304320369,\n",
              " 0.013553059594847861,\n",
              " 0.05492400808756449,\n",
              " 0.16174227309650233,\n",
              " 0.011604557517920354,\n",
              " 0.5058026255399833,\n",
              " 0.07388504792970439,\n",
              " 0.27885221416662526,\n",
              " 0.7275515896914335,\n",
              " 0.06378711380998324,\n",
              " 0.12434945465063378,\n",
              " 0.029353253989211896,\n",
              " 0.01154145284265004,\n",
              " 0.899729034796843,\n",
              " 0.02211865734708759,\n",
              " 0.5128411756851249,\n",
              " 0.7474536881705883,\n",
              " 0.8637020183306867,\n",
              " 0.04076509595964626,\n",
              " 0.015179640800209419,\n",
              " 0.01828127444014766,\n",
              " 0.2985545056426124,\n",
              " 0.013792121069358164,\n",
              " 0.6749767176967625,\n",
              " 0.02796975522467033,\n",
              " 0.19082745867434425,\n",
              " 0.09039780522009151,\n",
              " 0.04172696163991948,\n",
              " 0.03525729373246593,\n",
              " 0.2704797856580778,\n",
              " 0.22467315755890419,\n",
              " 0.04881992433803006,\n",
              " 0.4083694363260794,\n",
              " 0.018313938278844998,\n",
              " 0.17279024997623088,\n",
              " 0.02738851016287959,\n",
              " 0.24555115606687689,\n",
              " 0.07606228632728809,\n",
              " 0.013484192778071379,\n",
              " 0.01881415450444681,\n",
              " 0.7290463459169856,\n",
              " 0.6329288514217761,\n",
              " 0.2559004449001075,\n",
              " 0.04641414037510374,\n",
              " 0.04796755236126808,\n",
              " 0.01623111797206748,\n",
              " 0.9556334432102366,\n",
              " 0.02564881327038205,\n",
              " 0.03044434285236961,\n",
              " 0.2320659381644837,\n",
              " 0.629863262909428,\n",
              " 0.01792527893234937,\n",
              " 0.05011907867108205,\n",
              " 0.2280328822140779,\n",
              " 0.4070160994567081,\n",
              " 0.06261730790716076,\n",
              " 0.011562639598403535,\n",
              " 0.7158509890801709,\n",
              " 0.6425077251588086,\n",
              " 0.018307455855514413,\n",
              " 0.019513265331199674,\n",
              " 0.060363197038039176,\n",
              " 0.014209958812758092,\n",
              " 0.06384529809072965,\n",
              " 0.35878389353545154,\n",
              " 0.045325448451302756,\n",
              " 0.025398611114534342,\n",
              " 0.7684587181216195,\n",
              " 0.88528738398317,\n",
              " 0.07112094748709541,\n",
              " 0.01241286111764266,\n",
              " 0.02202423966599016,\n",
              " 0.24034430708525972,\n",
              " 0.5059215540612287,\n",
              " 0.014145664558165124,\n",
              " 0.014916081415249067,\n",
              " 0.011664165134943104,\n",
              " 0.013133473725239974,\n",
              " 0.8948633146337396,\n",
              " 0.09407915630482659,\n",
              " 0.2858502406182498,\n",
              " 0.15049951300008577,\n",
              " 0.4047466199030947,\n",
              " 0.2881237525778127,\n",
              " 0.634301099786267,\n",
              " 0.9032529884117511,\n",
              " 0.3172691489406732,\n",
              " 0.4709550491608849,\n",
              " 0.9262237010533982,\n",
              " 0.01145487973130501,\n",
              " 0.9137573681641874,\n",
              " 0.19198048964188905,\n",
              " 0.015572014664202032,\n",
              " 0.24012781241145514,\n",
              " 0.33177661891303256,\n",
              " 0.4171400327404285,\n",
              " 0.11336328913507494,\n",
              " 0.5517255469587675,\n",
              " 0.7451441993577662,\n",
              " 0.2842585886520022,\n",
              " 0.022964796172149755,\n",
              " 0.4293898142903025,\n",
              " 0.2790598902985392,\n",
              " 0.5144062467209616,\n",
              " 0.03161681846675054,\n",
              " 0.3649447155990426,\n",
              " 0.03332844741614572,\n",
              " 0.5317881030561513,\n",
              " 0.24280125609470765,\n",
              " 0.2256759283785311,\n",
              " 0.03199154081166044,\n",
              " 0.13698243544908,\n",
              " 0.4547013200109917,\n",
              " 0.31360474925327264,\n",
              " 0.09520397469465147,\n",
              " 0.012060037359464454,\n",
              " 0.021295491037145012,\n",
              " 0.014000109208750167,\n",
              " 0.014772064397505669,\n",
              " 0.42234483486334473,\n",
              " 0.024068089667658492,\n",
              " 0.06200001280914236,\n",
              " 0.3188340952001272,\n",
              " 0.07545976599534192,\n",
              " 0.1435995113281046,\n",
              " 0.010354430855648255,\n",
              " 0.028310794205898163,\n",
              " 0.791563702392063,\n",
              " 0.5489134352515868,\n",
              " 0.773224473018661,\n",
              " 0.02001353277414764,\n",
              " 0.03310525698990408,\n",
              " 0.012868885341980472,\n",
              " 0.014090490378481155,\n",
              " 0.11236605005826375,\n",
              " ...)"
            ]
          },
          "execution_count": 60,
          "metadata": {},
          "output_type": "execute_result"
        }
      ],
      "source": [
        "epsilon_train"
      ]
    },
    {
      "cell_type": "code",
      "execution_count": 61,
      "metadata": {
        "colab": {
          "base_uri": "https://localhost:8080/",
          "height": 409
        },
        "id": "E5YFdqKjUZh5",
        "outputId": "fe67d113-f369-495f-9aba-201c71058eb7"
      },
      "outputs": [
        {
          "data": {
            "image/png": "[encoded data removed]",
            "text/plain": [
              "<Figure size 2000x1600 with 14 Axes>"
            ]
          },
          "metadata": {},
          "output_type": "display_data"
        }
      ],
      "source": [
        "if not LOAD_DATA_FROM_CSV:\n",
        "    def plot_histogram(data, xlabel, ylabel, position, bins=20, xlog_scale=False, ylog_scale=False):\n",
        "        plt.subplot(4, 5, position)\n",
        "        plt.hist(data, bins=bins)\n",
        "        plt.xlabel(xlabel)\n",
        "        plt.ylabel(ylabel)\n",
        "        if xlog_scale:\n",
        "            plt.xscale(\"log\")\n",
        "        if ylog_scale:\n",
        "            plt.yscale(\"log\")\n",
        "\n",
        "    # Plotting the histograms of rho, vx, epsilon, b0, b1, b2, and b3\n",
        "    bins = 100\n",
        "    plt.figure(figsize=(20, 16))\n",
        "\n",
        "    plot_histogram(rho_train, \"rho\", \"Frequency\", 1, bins=bins)\n",
        "    plot_histogram(epsilon_train, \"epsilon\", \"Frequency\", 2, xlog_scale=True, ylog_scale=False, bins=bins)\n",
        "    plot_histogram(vx_train, \"vx\", \"Frequency\", 3, bins=bins)\n",
        "    plot_histogram(vy_train, \"vy\", \"Frequency\", 4, bins=bins)\n",
        "    plot_histogram(vz_train, \"vz\", \"Frequency\", 5, bins=bins)\n",
        "    plot_histogram(Bx_train, \"Bx\", \"Frequency\", 6, bins=bins)\n",
        "    plot_histogram(By_train, \"By\", \"Frequency\", 7, bins=bins)\n",
        "    plot_histogram(Bz_train, \"Bz\", \"Frequency\", 8, bins=bins)\n",
        "\n",
        "    # Plot these\n",
        "    plot_histogram(gxx_train, \"gxx\", \"Frequency\", 9, bins=bins)\n",
        "    plot_histogram(gxy_train, \"gxy\", \"Frequency\", 10, bins=bins)\n",
        "    plot_histogram(gxz_train, \"gxz\", \"Frequency\", 11, bins=bins)\n",
        "    plot_histogram(gyy_train, \"gyy\", \"Frequency\", 12, bins=bins)\n",
        "    plot_histogram(gyz_train, \"gyz\", \"Frequency\", 13, bins=bins)\n",
        "    plot_histogram(gzz_train, \"gzz\", \"Frequency\", 14, bins=bins)\n",
        "\n",
        "\n",
        "    plt.suptitle(\"Primitive variables and metric\")\n",
        "    plt.tight_layout()\n",
        "    plt.show()\n"
      ]
    },
    {
      "cell_type": "code",
      "execution_count": 138,
      "metadata": {},
      "outputs": [],
      "source": [
        "%config InteractiveShell.ast_node_interactivity = \"last_expr_or_assign\""
      ]
    },
    {
      "cell_type": "code",
      "execution_count": 139,
      "metadata": {},
      "outputs": [
        {
          "data": {
            "image/png": "[encoded data removed]",
            "text/plain": [
              "<Figure size 1600x1600 with 8 Axes>"
            ]
          },
          "metadata": {},
          "output_type": "display_data"
        }
      ],
      "source": [
        "if not LOAD_DATA_FROM_CSV:\n",
        "    # List of variable names\n",
        "    variable_names = [\"D\", \"Sx\", \"Sy\", \"Sz\", \"tau\", \"Bconsx\", \"Bconsy\", \"Bconsz\"]\n",
        "\n",
        "    # Note how we are only plotting train and not test here. \n",
        "    # Plotting histograms of the input variables before z-score normalization\n",
        "    plt.figure(figsize=(16, 16))\n",
        "    plt.suptitle('Histograms of input variables before (or without at all) z-score normalization', y=1.03)\n",
        "    for i in range(8):\n",
        "        plt.subplot(4, 2, i+1)\n",
        "        plt.hist(x_train[:, i].cpu(), bins=50) # Must be converted to cpu() for plotting.\n",
        "        plt.xlabel(variable_names[i])\n",
        "    plt.subplots_adjust(hspace=0.4, wspace=0.4)\n",
        "    plt.show()\n"
      ]
    },
    {
      "attachments": {},
      "cell_type": "markdown",
      "metadata": {},
      "source": [
        "### Data normalization"
      ]
    },
    {
      "cell_type": "code",
      "execution_count": 78,
      "metadata": {},
      "outputs": [
        {
          "name": "stdout",
          "output_type": "stream",
          "text": [
            "Summary statistics of input variables before z-score normalization\n",
            "tensor([[ 1.0451e-04,  2.4847e+02,  2.2737e+00,  1.6314e+00,  4.5628e+00],\n",
            "        [-8.7928e+01,  7.3475e+06,  2.6235e+03,  4.7097e+01,  8.8023e+04],\n",
            "        [-7.9516e+01,  3.5567e+06,  2.1562e+03,  4.6260e+01,  5.2015e+04],\n",
            "        [-8.2198e+01,  8.1734e+06,  2.7635e+03,  4.7063e+01,  9.6574e+04],\n",
            "        [ 9.0013e-01,  1.0948e+07,  4.5464e+03,  1.1082e+02,  1.3295e+05],\n",
            "        [-1.0956e+01,  1.0789e+01, -1.3267e-03, -3.3347e-02,  5.7533e+00],\n",
            "        [-1.0745e+01,  1.1013e+01, -6.7509e-02, -3.1693e-02,  5.7352e+00],\n",
            "        [-1.1275e+01,  1.1053e+01,  3.8720e-02, -4.8480e-02,  5.6942e+00],\n",
            "        [ 9.0001e-01,  1.0999e+00,  9.9863e-01,  9.9794e-01,  5.7831e-02],\n",
            "        [ 6.2637e-06,  9.9986e-02,  4.8605e-02,  4.7792e-02,  2.9300e-02],\n",
            "        [ 1.4467e-05,  9.9995e-02,  4.9198e-02,  4.8726e-02,  2.8897e-02],\n",
            "        [ 9.0001e-01,  1.1000e+00,  9.9917e-01,  9.9987e-01,  5.7219e-02],\n",
            "        [ 3.8797e-06,  9.9982e-02,  4.9640e-02,  4.9822e-02,  2.8779e-02],\n",
            "        [ 9.0000e-01,  1.0999e+00,  9.9819e-01,  9.9739e-01,  5.7882e-02]])\n"
          ]
        }
      ],
      "source": [
        "# Computing summary statistics of the input variables before and after z-score normalization\n",
        "print('Summary statistics of input variables before z-score normalization')\n",
        "print(torch.stack([torch.min(x_train, dim=0).values, torch.max(x_train, dim=0).values, torch.nanmean(x_train, dim=0), torch.median(x_train, dim=0).values, torch.std(x_train, dim=0)], dim=1))"
      ]
    },
    {
      "attachments": {},
      "cell_type": "markdown",
      "metadata": {
        "id": "xTEmkR1SUZh7"
      },
      "source": [
        "Perform z-score normalization"
      ]
    },
    {
      "cell_type": "code",
      "execution_count": 79,
      "metadata": {},
      "outputs": [],
      "source": [
        "%config InteractiveShell.ast_node_interactivity = \"all\""
      ]
    },
    {
      "cell_type": "code",
      "execution_count": 80,
      "metadata": {
        "id": "yPOv6DxhUZh7"
      },
      "outputs": [],
      "source": [
        "if ZSCORE_NORMALIZATION:\n",
        "    \n",
        "    # TODO: Add magnetic field variables to the normalization if I decide to use the old code that is commented out here.\n",
        "    # # Computing the median of each input variable from the training set using torch.nanmedian function\n",
        "    # D_median = torch.nanmedian(x_train[:, 0])\n",
        "    # Sx_median = torch.nanmedian(x_train[:, 1])\n",
        "    # Sy_median = torch.nanmedian(x_train[:, 2])\n",
        "    # Sz_median = torch.nanmedian(x_train[:, 3])\n",
        "    # tau_median = torch.nanmedian(x_train[:, 4])\n",
        "\n",
        "    # # Computing the standard deviation of each input variable from the training set using torch.std function with a boolean mask to ignore nan values\n",
        "    # D_std = torch.std(x_train[~torch.isnan(x_train[:, 0]), 0])\n",
        "    # Sx_std = torch.std(x_train[~torch.isnan(x_train[:, 1]), 1])\n",
        "    # Sy_std = torch.std(x_train[~torch.isnan(x_train[:, 2]), 2])\n",
        "    # Sz_std = torch.std(x_train[~torch.isnan(x_train[:, 3]), 3])\n",
        "    # tau_std = torch.std(x_train[~torch.isnan(x_train[:, 4]), 4])\n",
        "\n",
        "\n",
        "    # # Applying z-score normalization to both train and test sets using the statistics from the training set\n",
        "    # x_train[:, 0] = torch.sub(x_train[:, 0], D_median).div(D_std)\n",
        "    # x_train[:, 1] = torch.sub(x_train[:, 1], Sx_median).div(Sx_std)\n",
        "    # x_train[:, 2] = torch.sub(x_train[:, 2], Sy_median).div(Sy_std)\n",
        "    # x_train[:, 3] = torch.sub(x_train[:, 3], Sz_median).div(Sz_std)\n",
        "    # x_train[:, 4] = torch.sub(x_train[:, 4], tau_median).div(tau_std)\n",
        "\n",
        "    # x_test[:, 0] = torch.sub(x_test[:, 0], D_median).div(D_std)\n",
        "    # x_test[:, 1] = torch.sub(x_test[:, 1], Sx_median).div(Sx_std)\n",
        "    # x_test[:, 2] = torch.sub(x_test[:, 2], Sy_median).div(Sy_std)\n",
        "    # x_test[:, 3] = torch.sub(x_test[:, 3], Sz_median).div(Sz_std)\n",
        "    # x_test[:, 4] = torch.sub(x_test[:, 4], tau_median).div(tau_std)\n",
        "\n",
        "    # Computing the mean and standard deviation of each column\n",
        "    mean = x_train.mean(dim=0)\n",
        "    std = x_train.std(dim=0)\n",
        "\n",
        "    # Applying z-score normalization\n",
        "    x_train = (x_train - mean) / std\n",
        "    # Use the same mean and std from the training data as we don't want test data leakage.\n",
        "    x_test = (x_test - mean) / std\n",
        "\n"
      ]
    },
    {
      "attachments": {},
      "cell_type": "markdown",
      "metadata": {},
      "source": [
        "Plotting the histograms of the input data after normalization if z-score normalization was performed."
      ]
    },
    {
      "cell_type": "code",
      "execution_count": 81,
      "metadata": {},
      "outputs": [],
      "source": [
        "%config InteractiveShell.ast_node_interactivity = \"last_expr_or_assign\""
      ]
    },
    {
      "cell_type": "code",
      "execution_count": 82,
      "metadata": {},
      "outputs": [],
      "source": [
        "if not LOAD_DATA_FROM_CSV:\n",
        "    if ZSCORE_NORMALIZATION:\n",
        "        # List of variable names\n",
        "        variable_names = [\"D\", \"Sx\", \"Sy\", \"Sz\", \"tau\", \"Bconsx\", \"Bconsy\", \"Bconsz\"]\n",
        "\n",
        "        # Note how we are only plotting train and not test here. \n",
        "        # Plotting histograms of the input variables before z-score normalization\n",
        "        plt.figure(figsize=(16, 16))\n",
        "        plt.suptitle('Histograms of input variables after z-score normalization', y=1.03)\n",
        "        for i in range(8):\n",
        "            plt.subplot(4, 2, i+1)\n",
        "            plt.hist(x_train[:, i].cpu(), bins=50) # Must be converted to cpu() for plotting.\n",
        "            plt.xlabel(variable_names[i])\n",
        "        plt.subplots_adjust(hspace=0.4, wspace=0.4)\n",
        "        plt.show()\n"
      ]
    },
    {
      "cell_type": "code",
      "execution_count": 83,
      "metadata": {},
      "outputs": [],
      "source": [
        "if ZSCORE_NORMALIZATION:\n",
        "    # Computing summary statistics of the input variables after z-score normalization\n",
        "    print('Summary statistics of input variables after z-score normalization')\n",
        "    print(torch.stack([torch.min(x_train, dim=0).values, torch.max(x_train, dim=0).values, torch.mean(x_train, dim=0), torch.median(x_train, dim=0).values, torch.std(x_train, dim=0)], dim=1))\n"
      ]
    },
    {
      "attachments": {},
      "cell_type": "markdown",
      "metadata": {},
      "source": [
        "### Visualizing input data and labels"
      ]
    },
    {
      "cell_type": "code",
      "execution_count": 84,
      "metadata": {},
      "outputs": [
        {
          "data": {
            "text/plain": [
              "tensor([7.1971e+02, 1.0540e+03, 2.8457e+01,  ..., 1.5028e+00, 1.4674e+03,\n",
              "        1.0841e+00])"
            ]
          },
          "execution_count": 84,
          "metadata": {},
          "output_type": "execute_result"
        }
      ],
      "source": [
        "x_train\n",
        "y_train\n",
        "x_test\n",
        "y_test"
      ]
    },
    {
      "attachments": {},
      "cell_type": "markdown",
      "metadata": {
        "colab": {
          "base_uri": "https://localhost:8080/",
          "height": 407
        },
        "id": "E96p_MsOUZh9",
        "outputId": "4b95bad0-8f3a-4364-eed1-008e0ce2a5e3"
      },
      "source": [
        "Checking if our output is always positive ~~by plotting a histogram of y_train and y_test tensors~~"
      ]
    },
    {
      "cell_type": "code",
      "execution_count": 85,
      "metadata": {},
      "outputs": [
        {
          "name": "stdout",
          "output_type": "stream",
          "text": [
            "tensor(True)\n"
          ]
        }
      ],
      "source": [
        "import torch\n",
        "\n",
        "# Create a sample tensor\n",
        "tensor = torch.randn(80000, 14)  # Assuming a tensor of shape [80000, 14]\n",
        "tensor\n",
        "\n",
        "\n",
        "# Check if any element is negative\n",
        "any_negative = torch.any(tensor < 0)\n",
        "\n",
        "# Print the result\n",
        "print(any_negative)\n"
      ]
    },
    {
      "cell_type": "code",
      "execution_count": 86,
      "metadata": {},
      "outputs": [
        {
          "data": {
            "text/plain": [
              "tensor(True)"
            ]
          },
          "execution_count": 86,
          "metadata": {},
          "output_type": "execute_result"
        }
      ],
      "source": [
        "y_train.shape\n",
        "any_negative = torch.any(y_train < 0)\n",
        "any_negative\n",
        "\n",
        "y_test.shape\n",
        "any_negative = torch.any(y_test < 0)\n",
        "any_negative\n",
        "\n",
        "x_train.shape\n",
        "any_negative = torch.any(x_train < 0)\n",
        "any_negative"
      ]
    },
    {
      "cell_type": "code",
      "execution_count": 87,
      "metadata": {},
      "outputs": [
        {
          "data": {
            "image/png": "[encoded data removed]",
            "text/plain": [
              "<Figure size 800x400 with 2 Axes>"
            ]
          },
          "metadata": {},
          "output_type": "display_data"
        }
      ],
      "source": [
        "plt.figure(figsize=(8, 4))\n",
        "plt.subplot(1, 2, 1)\n",
        "plt.hist(y_train.cpu().numpy(), bins=20) # must be cpu here.\n",
        "plt.xlabel(\"y_train\")\n",
        "plt.ylabel(\"Frequency\")\n",
        "plt.xscale(\"log\")\n",
        "plt.subplot(1, 2, 2)\n",
        "plt.hist(y_test.cpu().numpy(), bins=20) # must be cpu here\n",
        "plt.xlabel(\"y_test\")\n",
        "plt.ylabel(\"Frequency\")\n",
        "plt.xscale(\"log\")\n",
        "plt.tight_layout()\n",
        "plt.show()\n"
      ]
    },
    {
      "cell_type": "code",
      "execution_count": 88,
      "metadata": {
        "id": "FEgjk--AUZh9"
      },
      "outputs": [],
      "source": [
        "%config InteractiveShell.ast_node_interactivity = \"all\""
      ]
    },
    {
      "attachments": {},
      "cell_type": "markdown",
      "metadata": {
        "id": "r2b9GecHUZh9"
      },
      "source": [
        "## Defining the neural network"
      ]
    },
    {
      "cell_type": "code",
      "execution_count": 89,
      "metadata": {
        "id": "Iv8HA-ZXUZh-"
      },
      "outputs": [],
      "source": [
        "# Defining a class for the network\n",
        "class Net(nn.Module):\n",
        "    \"\"\"A class for creating a network with a\n",
        "    variable number of hidden layers and units.\n",
        "\n",
        "    Attributes:\n",
        "        n_layers (int): The number of hidden layers in the network.\n",
        "        n_units (list): A list of integers representing the number of units in each hidden layer.\n",
        "        hidden_activation (torch.nn.Module): The activation function for the hidden layers.\n",
        "        output_activation (torch.nn.Module): The activation function for the output layer.\n",
        "        layers (torch.nn.ModuleList): A list of linear layers in the network.\n",
        "    \"\"\"\n",
        "\n",
        "    def __init__(self, n_layers, n_units, hidden_activation, output_activation):\n",
        "        \"\"\"Initializes the network with the given hyperparameters.\n",
        "\n",
        "        Args:\n",
        "            n_layers (int): The number of hidden layers in the network.\n",
        "            n_units (list): A list of integers representing the number of units in each hidden layer.\n",
        "            hidden_activation (torch.nn.Module): The activation function for the hidden layers.\n",
        "            output_activation (torch.nn.Module): The activation function for the output layer.\n",
        "        \"\"\"\n",
        "        super().__init__()\n",
        "        self.n_layers = n_layers\n",
        "        self.n_units = n_units\n",
        "        self.hidden_activation = hidden_activation\n",
        "        self.output_activation = output_activation\n",
        "\n",
        "        # Creating a list of linear layers with different numbers of units for each layer\n",
        "        self.layers = nn.ModuleList([nn.Linear(N_INPUTS, n_units[0])])\n",
        "        for i in range(1, n_layers):\n",
        "            self.layers.append(nn.Linear(n_units[i - 1], n_units[i]))\n",
        "        self.layers.append(nn.Linear(n_units[-1], 1))\n",
        "\n",
        "        # Adding some assertions to check that the input arguments are valid\n",
        "        assert isinstance(n_layers, int) and n_layers > 0, \"n_layers must be a positive integer\"\n",
        "        assert isinstance(n_units, list) and len(n_units) == n_layers, \"n_units must be a list of length n_layers\"\n",
        "        assert all(isinstance(n, int) and n > 0 for n in n_units), \"n_units must contain positive integers\"\n",
        "        assert isinstance(hidden_activation, nn.Module), \"hidden_activation must be a torch.nn.Module\"\n",
        "        assert isinstance(output_activation, nn.Module), \"output_activation must be a torch.nn.Module\"\n",
        "\n",
        "    def forward(self, x):\n",
        "        \"\"\"Performs a forward pass on the input tensor.\n",
        "\n",
        "        Args:\n",
        "            x (torch.Tensor): The input tensor of shape (batch_size, N_INPUTS).\n",
        "\n",
        "        Returns:\n",
        "            torch.Tensor: The output tensor of shape (batch_size, 1).\n",
        "        \"\"\"\n",
        "        # Adding an assertion to check that the input tensor has the expected shape and type\n",
        "        assert isinstance(x, torch.Tensor), \"x must be a torch.Tensor\"\n",
        "        assert x.shape[1] == N_INPUTS, f\"x must have shape (batch_size, {N_INPUTS})\"\n",
        "\n",
        "        # Looping over the hidden layers and applying the linear transformation and the activation function\n",
        "        for layer in self.layers[:-1]:\n",
        "            x = self.hidden_activation(layer(x))\n",
        "        # Applying the linear transformation and the activation function on the output layer\n",
        "        x = self.output_activation(self.layers[-1](x))\n",
        "\n",
        "        # Returning the output tensor\n",
        "        return x\n"
      ]
    },
    {
      "attachments": {},
      "cell_type": "markdown",
      "metadata": {
        "id": "6GNvp55PUZh_"
      },
      "source": [
        "## Defining the model and search space"
      ]
    },
    {
      "cell_type": "code",
      "execution_count": 90,
      "metadata": {
        "id": "9a1opluOUZh_"
      },
      "outputs": [],
      "source": [
        "# Defining a function to create a trial network and optimizer\n",
        "def create_model(trial, optimize):\n",
        "    \"\"\"Creates a trial network and optimizer based on the sampled hyperparameters.\n",
        "\n",
        "    Args:\n",
        "        trial (optuna.trial.Trial): The trial object that contains the hyperparameters.\n",
        "        optimize (boolean): Whether to optimize the hyperparameters or to use predefined values.\n",
        "\n",
        "    Returns:\n",
        "        tuple: A tuple of (net, loss_fn, optimizer, batch_size, n_epochs,\n",
        "            scheduler, loss_name, optimizer_name, scheduler_name,\n",
        "            n_units, n_layers, hidden_activation, output_activation),\n",
        "            where net is the trial network,\n",
        "            loss_fn is the loss function,\n",
        "            optimizer is the optimizer,\n",
        "            batch_size is the batch size,\n",
        "            n_epochs is the number of epochs,\n",
        "            scheduler is the learning rate scheduler,\n",
        "            loss_name is the name of the loss function,\n",
        "            optimizer_name is the name of the optimizer,\n",
        "            scheduler_name is the name of the scheduler,\n",
        "            n_units is a list of integers representing\n",
        "            the number of units in each hidden layer,\n",
        "            n_layers is an integer representing the number of hidden layers in the network,\n",
        "            hidden_activation is a torch.nn.Module representing the activation function for the hidden layers,\n",
        "            output_activation is a torch.nn.Module representing the activation function for the output layer,\n",
        "            lr is the (initial) learning rate.\n",
        "    \"\"\"\n",
        "    # If optimize is True, sample the hyperparameters from the search space\n",
        "    if OPTIMIZE:\n",
        "        # Sampling the hyperparameters from the search space\n",
        "        n_layers = trial.suggest_int(\"n_layers\", 2, 6)\n",
        "        n_units = [trial.suggest_int(f\"n_units_{i}\", 16, 2048) for i in range(n_layers)] \n",
        "        hidden_activation_name = trial.suggest_categorical(\n",
        "            #\"hidden_activation\", [\"ReLU\", \"LeakyReLU\", \"ELU\", \"Tanh\", \"Sigmoid\"]\n",
        "            #\"hidden_activation\", [\"ReLU\", \"LeakyReLU\"]\n",
        "            \"hidden_activation\", [\"ReLU\", \"LeakyReLU\", \"ELU\"]\n",
        "        )\n",
        "        output_activation_name = trial.suggest_categorical(\n",
        "            #\"output_activation\", [\"Linear\", \"ReLU\", \"Softplus\"]\n",
        "            # Assuming pressure cannot be negative, linear output activation is not an option.\n",
        "            #\"output_activation\", [\"ReLU\", \"Softplus\", \"Linear\"]\n",
        "            \"output_activation\", [\"ReLU\", \"Linear\"]\n",
        "        ) \n",
        "        loss_name = trial.suggest_categorical(\n",
        "            #\"loss\", [\"MSE\", \"MAE\", \"Huber\", \"LogCosh\"] \n",
        "            \"loss\", [\"MSE\", \"MAE\", \"Huber\"] \n",
        "        )\n",
        "        optimizer_name = trial.suggest_categorical(\n",
        "            \"optimizer\", [\"Adam\", \"SGD\", \"RMSprop\", \"Adagrad\"] \n",
        "        )\n",
        "        lr = trial.suggest_loguniform(\"lr\", 1e-4, 1e-2) \n",
        "\n",
        "        batch_size_list = [32, 48, 64, 96, 128, 256, 512, 1048]\n",
        "        batch_size = trial.suggest_categorical(\"batch_size\", batch_size_list)\n",
        "        #batch_size = trial.suggest_int(\"batch_size\", 64, 1048)\n",
        "        n_epochs = trial.suggest_int(\"n_epochs\", 100, 300) \n",
        "        scheduler_name = trial.suggest_categorical(\n",
        "            \"scheduler\",\n",
        "            # [\"None\", \"CosineAnnealingLR\", \"ReduceLROnPlateau\", \"StepLR\", \"ExponentialLR\"],\n",
        "            [\"CosineAnnealingLR\", \"ReduceLROnPlateau\", \"StepLR\"],\n",
        "        )\n",
        "\n",
        "    # If optimize is False, use the predefined values\n",
        "    else:\n",
        "        # Setting the hyperparameters to the predefined values\n",
        "        n_layers = N_LAYERS_NO_OPT\n",
        "        n_units = N_UNITS_NO_OPT\n",
        "        hidden_activation_name = HIDDEN_ACTIVATION_NAME_NO_OPT\n",
        "        output_activation_name = OUTPUT_ACTIVATION_NAME_NO_OPT\n",
        "        loss_name = LOSS_NAME_NO_OPT\n",
        "        optimizer_name = OPTIMIZER_NAME_NO_OPT\n",
        "        lr = LR_NO_OPT\n",
        "        batch_size = BATCH_SIZE_NO_OPT\n",
        "        n_epochs = N_EPOCHS_NO_OPT\n",
        "        scheduler_name = SCHEDULER_NAME_NO_OPT\n",
        "\n",
        "\n",
        "    # Creating the activation functions from their names\n",
        "    if hidden_activation_name == \"ReLU\":\n",
        "        hidden_activation = nn.ReLU()\n",
        "    elif hidden_activation_name == \"LeakyReLU\":\n",
        "        hidden_activation = nn.LeakyReLU() \n",
        "    elif hidden_activation_name == \"ELU\":\n",
        "        hidden_activation = nn.ELU() \n",
        "    elif hidden_activation_name == \"Tanh\":\n",
        "        hidden_activation = nn.Tanh()\n",
        "    else:\n",
        "        hidden_activation = nn.Sigmoid()\n",
        "\n",
        "    if output_activation_name == \"ReLU\":\n",
        "        output_activation = nn.ReLU()\n",
        "    elif output_activation_name == \"Softplus\":\n",
        "        output_activation = nn.Softplus()\n",
        "    else:\n",
        "        output_activation = nn.Identity()\n",
        "\n",
        "    # Creating the loss function from its name\n",
        "    if loss_name == \"MSE\":\n",
        "        loss_fn = nn.MSELoss()\n",
        "    elif loss_name == \"MAE\":\n",
        "        loss_fn = nn.L1Loss()\n",
        "    elif loss_name == \"Huber\":\n",
        "        loss_fn = nn.SmoothL1Loss() \n",
        "    else:\n",
        "        # Creating the log-cosh loss function\n",
        "        def log_cosh_loss(y_pred, y_true):\n",
        "            return torch.mean(torch.log(torch.cosh(y_pred - y_true)))\n",
        "            \n",
        "        loss_fn = log_cosh_loss\n",
        "\n",
        "    # Creating the network with the sampled hyperparameters\n",
        "    net = Net(\n",
        "        n_layers, n_units, hidden_activation, output_activation\n",
        "    ).to(device)\n",
        "\n",
        "    if OPTIMIZE:\n",
        "        # Creating the optimizer from its name\n",
        "        if optimizer_name == \"SGD\":\n",
        "            # Added sampling the weight decay and momentum for SGD\n",
        "            weight_decay = trial.suggest_loguniform(\"weight_decay\", 1e-5, 1e-2)\n",
        "            momentum = trial.suggest_uniform(\"momentum\", 0.0, 0.99)\n",
        "            optimizer = optim.SGD(net.parameters(), lr=lr, weight_decay=weight_decay, momentum=momentum)\n",
        "        elif optimizer_name == \"Adam\":\n",
        "            # Added sampling the weight decay and beta parameters for Adam\n",
        "            weight_decay = trial.suggest_loguniform(\"weight_decay\", 1e-5, 1e-2)\n",
        "            beta1 = trial.suggest_uniform(\"beta1\", 0.9, 0.999)\n",
        "            beta2 = trial.suggest_uniform(\"beta2\", 0.999, 0.9999)\n",
        "            optimizer = optim.Adam(net.parameters(), lr=lr, weight_decay=weight_decay, betas=(beta1, beta2))\n",
        "        elif optimizer_name == \"RMSprop\":\n",
        "            optimizer = optim.RMSprop(net.parameters(), lr=lr)\n",
        "        else:\n",
        "            # Added creating the Adagrad optimizer\n",
        "            optimizer = optim.Adagrad(net.parameters(), lr=lr)\n",
        "\n",
        "        # Creating the learning rate scheduler from its name\n",
        "        if scheduler_name == \"StepLR\":\n",
        "            step_size = trial.suggest_int(\"step_size\", 5, 15)\n",
        "            gamma = trial.suggest_uniform(\"gamma\", 0.1, 0.5)\n",
        "            scheduler = optim.lr_scheduler.StepLR(optimizer, step_size=step_size, gamma=gamma)\n",
        "        elif scheduler_name == \"ExponentialLR\":\n",
        "            gamma = trial.suggest_uniform(\"gamma\", 0.8, 0.99)\n",
        "            scheduler = optim.lr_scheduler.ExponentialLR(optimizer, gamma=gamma)\n",
        "        elif scheduler_name == \"CosineAnnealingLR\":\n",
        "            if n_epochs < 150:\n",
        "                t_max_fraction = trial.suggest_uniform('t_max_fraction', 0.1, 0.3)\n",
        "            elif n_epochs > 250:\n",
        "                t_max_fraction = trial.suggest_uniform('t_max_fraction', 0.05, 0.1)\n",
        "            else:\n",
        "                t_max_fraction = trial.suggest_uniform('t_max_fraction', 0.1, 0.2)\n",
        "\n",
        "            T_max = int(n_epochs * t_max_fraction)\n",
        "            eta_min = trial.suggest_loguniform(\"eta_min\", 1e-7, 1e-2)\n",
        "            scheduler = optim.lr_scheduler.CosineAnnealingLR(optimizer, T_max=T_max, eta_min=eta_min)\n",
        "        elif scheduler_name == \"ReduceLROnPlateau\":\n",
        "            # Added sampling the factor, patience and threshold for ReduceLROnPlateau\n",
        "            factor = trial.suggest_uniform(\"factor\", 0.1, 0.5)\n",
        "            patience = trial.suggest_int(\"patience\", 5, 10)\n",
        "            threshold = trial.suggest_loguniform(\"threshold\", 1e-4, 1e-2)\n",
        "            scheduler = optim.lr_scheduler.ReduceLROnPlateau(\n",
        "                optimizer, mode=\"min\", factor=factor, patience=patience, threshold=threshold\n",
        "            )\n",
        "        # # Added using OneCycleLR scheduler as an option\n",
        "        # elif scheduler_name == \"OneCycleLR\":\n",
        "        #         # Added sampling the max_lr and pct_start for OneCycleLR\n",
        "        #         max_lr = trial.suggest_loguniform(\"max_lr\", lr, 10 * lr) \n",
        "        #         pct_start = trial.suggest_uniform(\"pct_start\", 0.1, 0.9)\n",
        "        #         scheduler = optim.lr_scheduler.OneCycleLR(\n",
        "        #             optimizer,\n",
        "        #             max_lr=max_lr,\n",
        "        #             epochs=n_epochs,\n",
        "        #             steps_per_epoch=len(train_loader),\n",
        "        #             pct_start=pct_start,\n",
        "        #         )\n",
        "        else:\n",
        "            scheduler = None\n",
        "    else:\n",
        "        # Creating the optimizer from its name\n",
        "        if optimizer_name == \"SGD\":\n",
        "            optimizer = optim.SGD(net.parameters(), lr=lr)\n",
        "        elif optimizer_name == \"Adam\":\n",
        "            optimizer = optim.Adam(net.parameters(), lr=lr)\n",
        "        elif optimizer_name == \"RMSprop\":\n",
        "            optimizer = optim.RMSprop(net.parameters(), lr=lr)\n",
        "        else:\n",
        "            optimizer = optim.Adagrad(net.parameters(), lr=lr)\n",
        "\n",
        "        # Creating the learning rate scheduler from its name\n",
        "        if scheduler_name == \"StepLR\":\n",
        "            scheduler = optim.lr_scheduler.StepLR(optimizer, step_size=10, gamma=0.1)\n",
        "        elif scheduler_name == \"ExponentialLR\":\n",
        "            scheduler = optim.lr_scheduler.ExponentialLR(optimizer, gamma=0.9)\n",
        "        elif scheduler_name == \"CosineAnnealingLR\":\n",
        "            scheduler = optim.lr_scheduler.CosineAnnealingLR(optimizer)\n",
        "        elif scheduler_name == \"ReduceLROnPlateau\":\n",
        "            # Creating the ReduceLROnPlateau scheduler with a threshold value of 0.01\n",
        "            #scheduler = optim.lr_scheduler.ReduceLROnPlateau(\n",
        "            #    optimizer, mode=\"min\", factor=0.1, patience=10, threshold=0.01\n",
        "            #)\n",
        "            # Use Dieseldorst et al. settings and add to that a minimum lr.\n",
        "            scheduler = optim.lr_scheduler.ReduceLROnPlateau(\n",
        "                        optimizer, mode=\"min\", factor=0.18979341786654758, patience=11, threshold=0.0017197466122611932 #, min_lr=1e-6\n",
        "                    )\n",
        "        else:\n",
        "            scheduler = None\n",
        "\n",
        "    # Returning all variables needed for saving and loading\n",
        "    return net, loss_fn, optimizer, batch_size, n_epochs, scheduler, loss_name, optimizer_name, scheduler_name, n_units, n_layers, hidden_activation, output_activation, lr\n",
        "\n"
      ]
    },
    {
      "attachments": {},
      "cell_type": "markdown",
      "metadata": {
        "id": "l-czA7VvUZiD"
      },
      "source": [
        " ## The training and evaluation loop\n",
        "\n",
        " We first define a couple of functions used in the training and evaluation."
      ]
    },
    {
      "cell_type": "code",
      "execution_count": 91,
      "metadata": {
        "id": "aD6FQNmxUZiD"
      },
      "outputs": [],
      "source": [
        "# Defining a function that computes loss and metrics for a given batch\n",
        "def compute_loss_and_metrics(y_pred, y_true, loss_fn):\n",
        "    \"\"\"Computes loss and metrics for a given batch.\n",
        "\n",
        "    Args:\n",
        "        y_pred (torch.Tensor): The predicted pressure tensor of shape (batch_size, 1).\n",
        "        y_true (torch.Tensor): The true pressure tensor of shape (batch_size,).\n",
        "        loss_fn (torch.nn.Module or function): The loss function to use.\n",
        "\n",
        "    Returns:\n",
        "        tuple: A tuple of (loss, l1_norm), where loss is a scalar tensor,\n",
        "            l1_norm is L1 norm for relative error of pressure,\n",
        "            each being a scalar tensor.\n",
        "            linf_norm is Linf norm for relative error of pressure.\n",
        "    \"\"\"\n",
        "    # Reshaping the target tensor to match the input tensor\n",
        "    y_true = y_true.view(-1, 1)\n",
        "\n",
        "    # Computing the loss using the loss function\n",
        "    loss = loss_fn(y_pred, y_true)\n",
        "\n",
        "    # Computing the relative error of pressure\n",
        "    rel_error = torch.abs((y_pred - y_true) / y_true)\n",
        "\n",
        "    # Computing the L1 norm for the relative error of pressure\n",
        "    l1_norm = torch.mean(rel_error) \n",
        "    # Computing the Linf norm for the relative error of pressure\n",
        "    linf_norm = torch.max(rel_error) \n",
        "\n",
        "    # Returning the loss and metrics\n",
        "    return loss, l1_norm, linf_norm\n",
        "\n",
        "\n",
        "# Defining a function that updates the learning rate scheduler with validation loss if applicable\n",
        "def update_scheduler(scheduler, test_loss):\n",
        "    \"\"\"Updates the learning rate scheduler with validation loss if applicable.\n",
        "\n",
        "    Args:\n",
        "        scheduler (torch.optim.lr_scheduler._LRScheduler or None): The learning rate scheduler to use.\n",
        "        test_loss (float): The validation loss to use.\n",
        "\n",
        "    Returns:\n",
        "        None\n",
        "    \"\"\"\n",
        "    # Checking if scheduler is not None\n",
        "    if scheduler is not None:\n",
        "        # Checking if scheduler is ReduceLROnPlateau\n",
        "        if isinstance(scheduler, optim.lr_scheduler.ReduceLROnPlateau):\n",
        "            # Updating the scheduler with test_loss\n",
        "            scheduler.step(test_loss)\n",
        "        else:\n",
        "            # Updating the scheduler without test_loss\n",
        "            scheduler.step()\n"
      ]
    },
    {
      "attachments": {},
      "cell_type": "markdown",
      "metadata": {
        "id": "w1nE662UUZiE"
      },
      "source": [
        "Now for the actual training and evaluation loop,"
      ]
    },
    {
      "cell_type": "code",
      "execution_count": 92,
      "metadata": {
        "id": "YAOjgKW3UZiF"
      },
      "outputs": [],
      "source": [
        "# Defining a function to train and evaluate a network\n",
        "def train_and_eval(net, loss_fn, optimizer, batch_size, n_epochs, scheduler, trial=None):\n",
        "    \"\"\"Trains and evaluates a network.\n",
        "\n",
        "    Args:\n",
        "        net (torch.nn.Module): The network to train and evaluate.\n",
        "        loss_fn (torch.nn.Module or function): The loss function.\n",
        "        optimizer (torch.optim.Optimizer): The optimizer.\n",
        "        batch_size (int): The batch size.\n",
        "        n_epochs (int): The number of epochs.\n",
        "        scheduler (torch.optim.lr_scheduler._LRScheduler or None): The learning rate scheduler.\n",
        "    Returns:\n",
        "        tuple: A tuple of (train_losses, test_losses, train_metrics, test_metrics), where\n",
        "            train_losses is a list of training losses for each epoch,\n",
        "            test_losses is a list of validation losses for each epoch,\n",
        "            train_metrics is a list of dictionaries containing training metrics for each epoch,\n",
        "            test_metrics is a list of dictionaries containing validation metrics for each epoch.\n",
        "    \"\"\"\n",
        "    # Creating data loaders for train and test sets\n",
        "    train_loader = torch.utils.data.DataLoader(\n",
        "        torch.utils.data.TensorDataset(x_train, y_train), batch_size=batch_size, shuffle=True\n",
        "    )\n",
        "    test_loader = torch.utils.data.DataLoader(\n",
        "        torch.utils.data.TensorDataset(x_test, y_test), batch_size=batch_size\n",
        "    )\n",
        "\n",
        "    # Initializing lists to store the losses and metrics for each epoch\n",
        "    train_losses = []\n",
        "    test_losses = []\n",
        "    train_metrics = []\n",
        "    test_metrics = []\n",
        "\n",
        "    # Creating a SummaryWriter object to log data for tensorboard\n",
        "    writer = tbx.SummaryWriter()\n",
        "\n",
        "    # Looping over the epochs\n",
        "    for epoch in range(n_epochs):\n",
        "\n",
        "        # Setting the network to training mode\n",
        "        net.train()\n",
        "\n",
        "        # Initializing variables to store the total loss and metrics for the train set\n",
        "        train_loss = 0.0\n",
        "        train_l1_norm = 0.0\n",
        "        train_linf_norm = 0.0\n",
        "\n",
        "        # Looping over the batches in the train set\n",
        "        for x_batch, y_batch in train_loader:\n",
        "\n",
        "            # Moving the batch tensors to the device\n",
        "            x_batch = x_batch.to(device)\n",
        "            y_batch = y_batch.to(device)\n",
        "\n",
        "            # Zeroing the gradients\n",
        "            optimizer.zero_grad()\n",
        "\n",
        "            # Performing a forward pass and computing the loss and metrics\n",
        "            y_pred = net(x_batch)\n",
        "            loss, l1_norm, linf_norm = compute_loss_and_metrics(\n",
        "                y_pred, y_batch, loss_fn\n",
        "            )\n",
        "\n",
        "\n",
        "            # Performing a backward pass and updating the weights\n",
        "            loss.backward()\n",
        "            optimizer.step()\n",
        "\n",
        "            # Updating the total loss and metrics for the train set\n",
        "            train_loss += loss.item() * x_batch.size(0)\n",
        "            train_l1_norm += l1_norm.item() * x_batch.size(0)\n",
        "            train_linf_norm += linf_norm.item() * x_batch.size(0)\n",
        "\n",
        "        # Computing the average loss and metrics for the train set\n",
        "        train_loss /= len(train_loader.dataset)\n",
        "        train_l1_norm /= len(train_loader.dataset)\n",
        "        train_linf_norm /= len(train_loader.dataset)\n",
        "\n",
        "        # Appending the average loss and metrics for the train set to the lists\n",
        "        train_losses.append(train_loss)\n",
        "        train_metrics.append(\n",
        "            {\n",
        "                \"l1_norm\": train_l1_norm,\n",
        "                \"linf_norm\": train_linf_norm,\n",
        "            }\n",
        "        )\n",
        "\n",
        "        # Logging the average loss and metrics for the train set to tensorboard\n",
        "        writer.add_scalar(\"Loss/train\", train_loss, epoch)\n",
        "        writer.add_scalar(\"L1 norm/train\", train_l1_norm, epoch)\n",
        "        writer.add_scalar(\"Linf norm/train\", train_linf_norm, epoch)\n",
        "\n",
        "        # Setting the network to evaluation mode\n",
        "        net.eval()\n",
        "\n",
        "        # Initializing variables to store the total loss and metrics for the test set\n",
        "        test_loss = 0.0\n",
        "        test_l1_norm = 0.0\n",
        "        test_linf_norm = 0.0\n",
        "\n",
        "        # Looping over the batches in the test set\n",
        "        with torch.no_grad():\n",
        "            for x_batch, y_batch in test_loader:\n",
        "\n",
        "                # Moving the batch tensors to the device\n",
        "                x_batch = x_batch.to(device)\n",
        "                y_batch = y_batch.to(device)\n",
        "\n",
        "                # Performing a forward pass and computing the loss and metrics\n",
        "                y_pred = net(x_batch)\n",
        "                loss, l1_norm, linf_norm = compute_loss_and_metrics(\n",
        "                    y_pred, y_batch, loss_fn\n",
        "                )\n",
        "\n",
        "\n",
        "                # Updating the total loss and metrics for the test set\n",
        "                test_loss += loss.item() * x_batch.size(0)\n",
        "                test_l1_norm += l1_norm.item() * x_batch.size(0)\n",
        "                test_linf_norm += linf_norm.item() * x_batch.size(0)\n",
        "\n",
        "        # Computing the average loss and metrics for the test set\n",
        "        test_loss /= len(test_loader.dataset)\n",
        "        test_l1_norm /= len(test_loader.dataset)\n",
        "        test_linf_norm /= len(test_loader.dataset)\n",
        "\n",
        "        # Appending the average loss and metrics for the test set to the lists\n",
        "        test_losses.append(test_loss)\n",
        "        test_metrics.append(\n",
        "            {\n",
        "                \"l1_norm\": test_l1_norm,\n",
        "                \"linf_norm\": test_linf_norm,\n",
        "            }\n",
        "        )\n",
        "\n",
        "        # Logging the average loss and metrics for the test set to tensorboard\n",
        "        writer.add_scalar(\"Loss/test\", test_loss, epoch)\n",
        "        writer.add_scalar(\"L1 norm/test\", test_l1_norm, epoch)\n",
        "        writer.add_scalar(\"Linf norm/test\", test_linf_norm, epoch)\n",
        "\n",
        "        # Printing the average loss and metrics for both sets for this epoch\n",
        "        print(\n",
        "            f\"Epoch {epoch + 1}: Train Loss: {train_loss:.4f}, Test Loss: {test_loss:.4f}, \"\n",
        "            f\"Train L1 Norm: {train_l1_norm:.4f}, Test L1 Norm: {test_l1_norm:.4f}, \"\n",
        "            f\"Train Linf Norm: {train_linf_norm:.4f}, Test Linf Norm: {test_linf_norm:.4f}\"\n",
        "        )\n",
        "\n",
        "        # Updating the learning rate scheduler with validation loss if applicable\n",
        "        update_scheduler(scheduler, test_loss)\n",
        "\n",
        "        # Reporting the intermediate metric value to Optuna if trial is not None\n",
        "        if trial is not None:\n",
        "            trial.report(test_metrics[-1][\"l1_norm\"], epoch)\n",
        "\n",
        "            # Checking if the trial should be pruned based on the intermediate value if trial is not None\n",
        "            if trial.should_prune():\n",
        "                raise optuna.TrialPruned()\n",
        "\n",
        "    # Closing the SummaryWriter object\n",
        "    writer.close()\n",
        "\n",
        "    # Returning the losses and metrics lists\n",
        "    return train_losses, test_losses, train_metrics, test_metrics"
      ]
    },
    {
      "attachments": {},
      "cell_type": "markdown",
      "metadata": {
        "id": "xg9jz0SvUZiQ"
      },
      "source": [
        "## The objective function and hyperparameter tuning"
      ]
    },
    {
      "cell_type": "code",
      "execution_count": 93,
      "metadata": {
        "id": "fmRncQPuUZiR"
      },
      "outputs": [],
      "source": [
        "# Defining an objective function for Optuna to minimize\n",
        "def objective(trial):\n",
        "    \"\"\"Defines an objective function for Optuna to minimize.\n",
        "\n",
        "    Args:\n",
        "        trial (optuna.trial.Trial): The trial object that contains the hyperparameters.\n",
        "\n",
        "    Returns:\n",
        "        float: The validation L1 norm to minimize.\n",
        "    \"\"\"\n",
        "    # Creating a trial network and optimizer using the create_model function\n",
        "    net, \\\n",
        "    loss_fn, \\\n",
        "    optimizer, \\\n",
        "    batch_size, \\\n",
        "    n_epochs, \\\n",
        "    scheduler, \\\n",
        "    loss_name, \\\n",
        "    optimizer_name, \\\n",
        "    scheduler_name, \\\n",
        "    n_units, \\\n",
        "    n_layers, \\\n",
        "    hidden_activation, \\\n",
        "    output_activation, \\\n",
        "    lr = create_model(trial, optimize=True)\n",
        "\n",
        "    # Training and evaluating the network using the train_and_eval function\n",
        "    _, _, _, test_metrics = train_and_eval(\n",
        "        net, loss_fn, optimizer, batch_size, n_epochs, scheduler, trial\n",
        "    )\n",
        "\n",
        "    # Returning the last validation L1 norm as the objective value to minimize\n",
        "    return test_metrics[-1][\"l1_norm\"]"
      ]
    },
    {
      "cell_type": "code",
      "execution_count": 94,
      "metadata": {
        "id": "GyES4NAyUZiS"
      },
      "outputs": [],
      "source": [
        "if OPTIMIZE:\n",
        "    # Creating a study object with Optuna with TPE sampler and median pruner \n",
        "    study = optuna.create_study(direction=\"minimize\", sampler=optuna.samplers.TPESampler(), pruner=optuna.pruners.MedianPruner())\n",
        "\n",
        "    # Running Optuna with 100 trials when we are optimizing.\n",
        "    study.optimize(objective, n_trials=N_TRIALS)\n",
        "\n",
        "    # Printing the best trial information\n",
        "    print(\"Best trial:\")\n",
        "    trial = study.best_trial\n",
        "    print(\"  Value: \", trial.value)\n",
        "    print(\"  Params: \")\n",
        "    for key, value in trial.params.items():\n",
        "        print(f\"    {key}: {value}\")\n"
      ]
    },
    {
      "attachments": {},
      "cell_type": "markdown",
      "metadata": {
        "id": "jmMfE9_dUZiS"
      },
      "source": [
        "## Training the model"
      ]
    },
    {
      "cell_type": "code",
      "execution_count": 95,
      "metadata": {
        "id": "phyiHlWEUZiT"
      },
      "outputs": [],
      "source": [
        "# Creating the best network and optimizer using the best hyperparameters\n",
        "if OPTIMIZE:\n",
        "    net, \\\n",
        "    loss_fn, \\\n",
        "    optimizer, \\\n",
        "    batch_size, \\\n",
        "    n_epochs, \\\n",
        "    scheduler, \\\n",
        "    loss_name, \\\n",
        "    optimizer_name, \\\n",
        "    scheduler_name, \\\n",
        "    n_units, \\\n",
        "    n_layers, \\\n",
        "    hidden_activation, \\\n",
        "    output_activation, \\\n",
        "    lr = create_model(trial, optimize=True)\n",
        "# Creating the network with predefined hyperparameters\n",
        "else:\n",
        "    net, \\\n",
        "    loss_fn, \\\n",
        "    optimizer, \\\n",
        "    batch_size, \\\n",
        "    n_epochs, \\\n",
        "    scheduler, \\\n",
        "    loss_name, \\\n",
        "    optimizer_name, \\\n",
        "    scheduler_name, \\\n",
        "    n_units, \\\n",
        "    n_layers, \\\n",
        "    hidden_activation, \\\n",
        "    output_activation, \\\n",
        "    lr = create_model(trial=None, optimize=False)"
      ]
    },
    {
      "cell_type": "code",
      "execution_count": 96,
      "metadata": {
        "colab": {
          "base_uri": "https://localhost:8080/"
        },
        "id": "_yq-oY81UZiU",
        "outputId": "dbf2f465-bd50-4a20-8926-616c3d2157d0"
      },
      "outputs": [
        {
          "name": "stdout",
          "output_type": "stream",
          "text": [
            "loss_fn: SmoothL1Loss()\n",
            "batch_size: 49\n",
            "n_epochs: 3\n",
            "scheduler: <torch.optim.lr_scheduler.ReduceLROnPlateau object at 0x7ff54db31e50>\n",
            "loss_name: Huber\n",
            "optimizer_name: RMSprop\n",
            "scheduler_name: ReduceLROnPlateau\n",
            "n_units: [555, 458, 115]\n",
            "n_layers: 3\n",
            "hidden_activation: ReLU()\n",
            "output_activation: ReLU()\n"
          ]
        }
      ],
      "source": [
        "print(\"loss_fn:\", loss_fn)\n",
        "print(\"batch_size:\", batch_size)\n",
        "print(\"n_epochs:\", n_epochs)\n",
        "print(\"scheduler:\", scheduler)\n",
        "print(\"loss_name:\", loss_name)\n",
        "print(\"optimizer_name:\", optimizer_name)\n",
        "print(\"scheduler_name:\", scheduler_name)\n",
        "print(\"n_units:\", n_units)\n",
        "print(\"n_layers:\", n_layers)\n",
        "print(\"hidden_activation:\", hidden_activation)\n",
        "print(\"output_activation:\", output_activation)"
      ]
    },
    {
      "cell_type": "code",
      "execution_count": 97,
      "metadata": {
        "colab": {
          "base_uri": "https://localhost:8080/"
        },
        "id": "E7aLWdZyUZiW",
        "outputId": "8fb1e8c6-5aa3-43a1-a255-712cf9396d0c"
      },
      "outputs": [
        {
          "name": "stdout",
          "output_type": "stream",
          "text": [
            "Epoch 1: Train Loss: 587.1329, Test Loss: 503.4606, Train L1 Norm: 1.3092, Test L1 Norm: 0.8929, Train Linf Norm: 8.2824, Test Linf Norm: 1.5577\n",
            "Epoch 2: Train Loss: 543.6591, Test Loss: 463.2865, Train L1 Norm: 1.1708, Test L1 Norm: 1.6629, Train Linf Norm: 9.8908, Test Linf Norm: 11.6901\n",
            "Epoch 3: Train Loss: 495.1259, Test Loss: 469.6029, Train L1 Norm: 1.0981, Test L1 Norm: 1.1119, Train Linf Norm: 8.5502, Test Linf Norm: 5.9888\n"
          ]
        }
      ],
      "source": [
        "# Training and evaluating the network using the train_and_eval function\n",
        "train_losses, test_losses, train_metrics, test_metrics = train_and_eval(\n",
        "    net, loss_fn, optimizer, batch_size, n_epochs, scheduler\n",
        ")"
      ]
    },
    {
      "attachments": {},
      "cell_type": "markdown",
      "metadata": {
        "id": "akNucrgMUZiW"
      },
      "source": [
        "## Saving"
      ]
    },
    {
      "cell_type": "code",
      "execution_count": 98,
      "metadata": {
        "id": "LHsrs2Y-UZic"
      },
      "outputs": [],
      "source": [
        "import json\n",
        "\n",
        "# save the network to a .pth file\n",
        "torch.save(net.state_dict(), \"net.pth\")\n",
        "save_file(\"net.pth\")\n",
        "\n",
        "# save the optimizer to a .pth file\n",
        "torch.save(optimizer.state_dict(), \"optimizer.pth\")\n",
        "save_file(\"optimizer.pth\")\n",
        "\n",
        "# save the scheduler to a .pth file if it is not None\n",
        "if scheduler is not None:\n",
        "  torch.save(scheduler.state_dict(), \"scheduler.pth\")\n",
        "  save_file(\"scheduler.pth\")\n",
        "\n",
        "# create a dictionary to store the rest of the variables\n",
        "var_dict = {\n",
        "  \"batch_size\": batch_size,\n",
        "  \"n_epochs\": n_epochs,\n",
        "  \"loss_name\": loss_name,\n",
        "  \"optimizer_name\": optimizer_name,\n",
        "  \"scheduler_name\": scheduler_name,\n",
        "  \"n_units\": n_units,\n",
        "  \"n_layers\": n_layers,\n",
        "  \"hidden_activation_name\": hidden_activation.__class__.__name__,\n",
        "  \"output_activation_name\": output_activation.__class__.__name__,\n",
        "  \"lr\": lr,\n",
        "}\n",
        "\n",
        "# save the dictionary to a .json file\n",
        "with open(\"var_dict.json\", \"w\") as f:\n",
        "  json.dump(var_dict, f)\n",
        "save_file(\"var_dict.json\")\n",
        "\n",
        "# Saving the output of the training using pandas\n",
        "train_df = pd.DataFrame(\n",
        "    {\n",
        "        \"train_loss\": train_losses,\n",
        "        \"test_loss\": test_losses,\n",
        "        \"train_l1_norm\": [m[\"l1_norm\"] for m in train_metrics],\n",
        "        \"test_l1_norm\": [m[\"l1_norm\"] for m in test_metrics],\n",
        "        \"train_linf_norm\": [m[\"linf_norm\"] for m in train_metrics],\n",
        "        \"test_linf_norm\": [m[\"linf_norm\"] for m in test_metrics],\n",
        "    }\n",
        ")\n",
        "train_df.to_csv(\"train_output.csv\", index=False)\n",
        "save_file(\"train_output.csv\")\n"
      ]
    },
    {
      "attachments": {},
      "cell_type": "markdown",
      "metadata": {
        "id": "qU23l7dIUZie"
      },
      "source": [
        "## Visualizing the results"
      ]
    },
    {
      "cell_type": "code",
      "execution_count": 99,
      "metadata": {
        "colab": {
          "base_uri": "https://localhost:8080/",
          "height": 1000
        },
        "id": "cippWZS6UZie",
        "outputId": "f0d6e5c3-945f-481b-a153-e54fed7fe9fa"
      },
      "outputs": [
        {
          "data": {
            "text/plain": [
              "<Figure size 1200x800 with 0 Axes>"
            ]
          },
          "execution_count": 99,
          "metadata": {},
          "output_type": "execute_result"
        },
        {
          "data": {
            "text/plain": [
              "<Axes: >"
            ]
          },
          "execution_count": 99,
          "metadata": {},
          "output_type": "execute_result"
        },
        {
          "data": {
            "text/plain": [
              "[<matplotlib.lines.Line2D at 0x7ff5526d22d0>]"
            ]
          },
          "execution_count": 99,
          "metadata": {},
          "output_type": "execute_result"
        },
        {
          "data": {
            "text/plain": [
              "[<matplotlib.lines.Line2D at 0x7ff54dbbd110>]"
            ]
          },
          "execution_count": 99,
          "metadata": {},
          "output_type": "execute_result"
        },
        {
          "data": {
            "text/plain": [
              "Text(0.5, 0, 'Epoch')"
            ]
          },
          "execution_count": 99,
          "metadata": {},
          "output_type": "execute_result"
        },
        {
          "data": {
            "text/plain": [
              "Text(0, 0.5, 'L1 Norm')"
            ]
          },
          "execution_count": 99,
          "metadata": {},
          "output_type": "execute_result"
        },
        {
          "data": {
            "text/plain": [
              "(0.001, 100.0)"
            ]
          },
          "execution_count": 99,
          "metadata": {},
          "output_type": "execute_result"
        },
        {
          "data": {
            "text/plain": [
              "<matplotlib.legend.Legend at 0x7ff552640dd0>"
            ]
          },
          "execution_count": 99,
          "metadata": {},
          "output_type": "execute_result"
        },
        {
          "data": {
            "text/plain": [
              "<Axes: >"
            ]
          },
          "execution_count": 99,
          "metadata": {},
          "output_type": "execute_result"
        },
        {
          "data": {
            "text/plain": [
              "[<matplotlib.lines.Line2D at 0x7ff54d8f9910>]"
            ]
          },
          "execution_count": 99,
          "metadata": {},
          "output_type": "execute_result"
        },
        {
          "data": {
            "text/plain": [
              "[<matplotlib.lines.Line2D at 0x7ff54d80d690>]"
            ]
          },
          "execution_count": 99,
          "metadata": {},
          "output_type": "execute_result"
        },
        {
          "data": {
            "text/plain": [
              "Text(0.5, 0, 'Epoch')"
            ]
          },
          "execution_count": 99,
          "metadata": {},
          "output_type": "execute_result"
        },
        {
          "data": {
            "text/plain": [
              "Text(0, 0.5, 'Linf Norm')"
            ]
          },
          "execution_count": 99,
          "metadata": {},
          "output_type": "execute_result"
        },
        {
          "data": {
            "text/plain": [
              "(0.001, 100.0)"
            ]
          },
          "execution_count": 99,
          "metadata": {},
          "output_type": "execute_result"
        },
        {
          "data": {
            "text/plain": [
              "<matplotlib.legend.Legend at 0x7ff54d7a5350>"
            ]
          },
          "execution_count": 99,
          "metadata": {},
          "output_type": "execute_result"
        },
        {
          "data": {
            "image/png": "[encoded data removed]",
            "text/plain": [
              "<Figure size 1200x800 with 2 Axes>"
            ]
          },
          "metadata": {},
          "output_type": "display_data"
        },
        {
          "data": {
            "text/plain": [
              "<Figure size 800x600 with 0 Axes>"
            ]
          },
          "execution_count": 99,
          "metadata": {},
          "output_type": "execute_result"
        },
        {
          "data": {
            "text/plain": [
              "[<matplotlib.lines.Line2D at 0x7ff54d6d2090>]"
            ]
          },
          "execution_count": 99,
          "metadata": {},
          "output_type": "execute_result"
        },
        {
          "data": {
            "text/plain": [
              "[<matplotlib.lines.Line2D at 0x7ff54d4d5d50>]"
            ]
          },
          "execution_count": 99,
          "metadata": {},
          "output_type": "execute_result"
        },
        {
          "data": {
            "text/plain": [
              "Text(0.5, 0, 'Epoch')"
            ]
          },
          "execution_count": 99,
          "metadata": {},
          "output_type": "execute_result"
        },
        {
          "data": {
            "text/plain": [
              "Text(0, 0.5, 'Huber Loss')"
            ]
          },
          "execution_count": 99,
          "metadata": {},
          "output_type": "execute_result"
        },
        {
          "data": {
            "text/plain": [
              "(1e-07, 1.0)"
            ]
          },
          "execution_count": 99,
          "metadata": {},
          "output_type": "execute_result"
        },
        {
          "data": {
            "text/plain": [
              "<matplotlib.legend.Legend at 0x7ff54d510550>"
            ]
          },
          "execution_count": 99,
          "metadata": {},
          "output_type": "execute_result"
        },
        {
          "data": {
            "image/png": "[encoded data removed]",
            "text/plain": [
              "<Figure size 800x600 with 1 Axes>"
            ]
          },
          "metadata": {},
          "output_type": "display_data"
        }
      ],
      "source": [
        "# Plotting the losses and metrics for the best network \n",
        "plt.figure(figsize=(12, 8))\n",
        "#plt.subplot(2, 2, 1)\n",
        "#plt.plot(train_losses, label=\"Train Loss\")\n",
        "#plt.plot(test_losses, label=\"Test Loss\")\n",
        "#plt.xlabel(\"Epoch\")\n",
        "#plt.ylabel(\"Loss\")\n",
        "#plt.legend()\n",
        "plt.subplot(2, 2, 2)\n",
        "plt.plot([m[\"l1_norm\"] for m in train_metrics], label=\"Train L1 Norm\")\n",
        "plt.plot([m[\"l1_norm\"] for m in test_metrics], label=\"Test L1 Norm\")\n",
        "plt.xlabel(\"Epoch\")\n",
        "plt.ylabel(\"L1 Norm\")\n",
        "# Added setting the vertical axis to be in powers of 10\n",
        "plt.yscale(\"log\")\n",
        "# Added setting the vertical axis limits to be from 10^-7 to 10^0\n",
        "plt.ylim(1e-3, 1e2)\n",
        "plt.legend()\n",
        "plt.subplot(2, 2, 3)\n",
        "plt.plot([m[\"linf_norm\"] for m in train_metrics], label=\"Train Linf Norm\")\n",
        "plt.plot([m[\"linf_norm\"] for m in test_metrics], label=\"Test Linf Norm\")\n",
        "plt.xlabel(\"Epoch\")\n",
        "plt.ylabel(\"Linf Norm\")\n",
        "# Added setting the vertical axis to be in powers of 10\n",
        "plt.yscale(\"log\")\n",
        "# Added setting the vertical axis limits to be from 10^-7 to 10^0\n",
        "plt.ylim(1e-3, 1e2)\n",
        "plt.legend()\n",
        "plt.tight_layout()\n",
        "plt.show()\n",
        "\n",
        "# Added plotting MSE of training data and MSE of test data in one plot \n",
        "plt.figure(figsize=(8, 6))\n",
        "plt.plot(train_losses,label=\"training data\")\n",
        "plt.plot(test_losses,label=\"test data\")\n",
        "#if scheduler is not None:\n",
        "#    plt.plot([scheduler.get_last_lr()[0] for _ in range(n_epochs)], label=\"Learning rate\") \n",
        "plt.xlabel(\"Epoch\")\n",
        "plt.ylabel(f\"{loss_name} Loss\")\n",
        "# Added setting the vertical axis to be in powers of 10\n",
        "plt.yscale(\"log\")\n",
        "# Added setting the vertical axis limits to be from 10^-7 to 10^0\n",
        "plt.ylim(1e-7, 1e0)\n",
        "plt.legend()\n",
        "plt.show()"
      ]
    },
    {
      "attachments": {},
      "cell_type": "markdown",
      "metadata": {
        "id": "tiEDutxIUZig"
      },
      "source": [
        "## Loading"
      ]
    },
    {
      "cell_type": "code",
      "execution_count": 100,
      "metadata": {
        "colab": {
          "base_uri": "https://localhost:8080/"
        },
        "id": "p7Mj990wUZih",
        "outputId": "a1132948-c3b1-4d75-becf-4efa93c9a7d0"
      },
      "outputs": [
        {
          "data": {
            "text/plain": [
              "<All keys matched successfully>"
            ]
          },
          "execution_count": 100,
          "metadata": {},
          "output_type": "execute_result"
        }
      ],
      "source": [
        "import json\n",
        "import pandas as pd\n",
        "\n",
        "# load the dictionary from the .json file\n",
        "with open(\"var_dict.json\", \"r\") as f:\n",
        "  var_dict_loaded = json.load(f)\n",
        "\n",
        "# extract the variables from the dictionary\n",
        "batch_size_loaded = var_dict_loaded[\"batch_size\"]\n",
        "n_epochs_loaded = var_dict_loaded[\"n_epochs\"]\n",
        "loss_name_loaded = var_dict_loaded[\"loss_name\"]\n",
        "optimizer_name_loaded = var_dict_loaded[\"optimizer_name\"]\n",
        "scheduler_name_loaded = var_dict_loaded[\"scheduler_name\"]\n",
        "n_units_loaded = var_dict_loaded[\"n_units\"]\n",
        "n_layers_loaded = var_dict_loaded[\"n_layers\"]\n",
        "hidden_activation_name_loaded = var_dict_loaded[\"hidden_activation_name\"]\n",
        "output_activation_name_loaded = var_dict_loaded[\"output_activation_name\"]\n",
        "lr_loaded = var_dict_loaded[\"lr\"]\n",
        "\n",
        "# create the activation functions from their names\n",
        "if hidden_activation_name_loaded == \"ReLU\":\n",
        "  hidden_activation_loaded = nn.ReLU()\n",
        "elif hidden_activation_name_loaded == \"LeakyReLU\":\n",
        "  hidden_activation_loaded = nn.LeakyReLU() \n",
        "elif hidden_activation_name_loaded == \"ELU\":\n",
        "  hidden_activation_loaded = nn.ELU() \n",
        "elif hidden_activation_name_loaded == \"Tanh\":\n",
        "  hidden_activation_loaded = nn.Tanh()\n",
        "else:\n",
        "  hidden_activation_loaded = nn.Sigmoid()\n",
        "\n",
        "if output_activation_name_loaded == \"ReLU\":\n",
        "    output_activation_loaded = nn.ReLU()\n",
        "elif output_activation_name_loaded == \"Softplus\":\n",
        "    output_activation_loaded = nn.Softplus()\n",
        "else:\n",
        "    output_activation_loaded = nn.Identity()\n",
        "\n",
        "\n",
        "\n",
        "# load the network from the .pth file\n",
        "net_loaded = Net(n_layers_loaded, n_units_loaded, hidden_activation_loaded, output_activation_loaded).to(device)\n",
        "if torch.cuda.is_available():\n",
        " net_loaded.load_state_dict(torch.load(\"net.pth\"))\n",
        "else: \n",
        "  net_loaded.load_state_dict(torch.load(\"net.pth\", map_location=torch.device('cpu')))\n",
        "\n",
        "# create the loss function from its name\n",
        "if loss_name_loaded == \"MSE\":\n",
        "  loss_fn_loaded = nn.MSELoss()\n",
        "elif loss_name_loaded == \"MAE\":\n",
        "  loss_fn_loaded = nn.L1Loss()\n",
        "elif loss_name_loaded == \"Huber\":\n",
        "  loss_fn_loaded = nn.SmoothL1Loss() \n",
        "else:\n",
        "  # create the log-cosh loss function\n",
        "  def log_cosh_loss_loaded(y_pred, y_true):\n",
        "    return torch.mean(torch.log(torch.cosh(y_pred - y_true)))\n",
        "  loss_fn_loaded = log_cosh_loss_loaded\n",
        "\n",
        "# load the optimizer from the .pth file\n",
        "if torch.cuda.is_available():\n",
        "  optimizer_loaded_state_dict = torch.load(\"optimizer.pth\")\n",
        "else:\n",
        "  optimizer_loaded_state_dict = torch.load(\"optimizer.pth\", map_location=torch.device('cpu'))\n",
        "\n",
        "if optimizer_name_loaded == \"SGD\":\n",
        "  # Added getting the weight decay and momentum parameters from the state dict\n",
        "  weight_decay_loaded = optimizer_loaded_state_dict[\"param_groups\"][0][\"weight_decay\"]\n",
        "  momentum_loaded = optimizer_loaded_state_dict[\"param_groups\"][0][\"momentum\"]\n",
        "  optimizer_loaded = optim.SGD(net_loaded.parameters(), lr=lr_loaded, weight_decay=weight_decay_loaded, momentum=momentum_loaded)\n",
        "elif optimizer_name_loaded == \"Adam\":\n",
        "  # Added getting the weight decay and beta parameters from the state dict\n",
        "  weight_decay_loaded = optimizer_loaded_state_dict[\"param_groups\"][0][\"weight_decay\"]\n",
        "  beta1_loaded = optimizer_loaded_state_dict[\"param_groups\"][0][\"betas\"][0]\n",
        "  beta2_loaded = optimizer_loaded_state_dict[\"param_groups\"][0][\"betas\"][1]\n",
        "  optimizer_loaded = optim.Adam(net_loaded.parameters(), lr=lr_loaded, weight_decay=weight_decay_loaded, betas=(beta1_loaded, beta2_loaded))\n",
        "elif optimizer_name_loaded == \"RMSprop\":\n",
        "  optimizer_loaded = optim.RMSprop(net_loaded.parameters(), lr=lr_loaded)\n",
        "else:\n",
        "  # Added loading the Adagrad optimizer\n",
        "  optimizer_loaded = optim.Adagrad(net_loaded.parameters(), lr=lr_loaded)\n",
        "optimizer_loaded.load_state_dict(optimizer_loaded_state_dict)\n",
        "\n",
        "# load the scheduler from the .pth file\n",
        "if torch.cuda.is_available():\n",
        "  scheduler_loaded_state_dict = torch.load(\"scheduler.pth\")\n",
        "else: \n",
        "  scheduler_loaded_state_dict = torch.load(\"scheduler.pth\", map_location=torch.device('cpu'))\n",
        "\n",
        "if scheduler_name_loaded == \"StepLR\":\n",
        "  # Added getting the step_size and gamma parameters from the state dict\n",
        "  step_size_loaded = scheduler_loaded_state_dict[\"step_size\"]\n",
        "  gamma_loaded = scheduler_loaded_state_dict[\"gamma\"]\n",
        "  scheduler_loaded = optim.lr_scheduler.StepLR(optimizer_loaded, step_size=step_size_loaded, gamma=gamma_loaded)\n",
        "elif scheduler_name_loaded == \"ExponentialLR\":\n",
        "  # Added getting the gamma parameter from the state dict\n",
        "  gamma_loaded = scheduler_loaded_state_dict[\"gamma\"]\n",
        "  scheduler_loaded = optim.lr_scheduler.ExponentialLR(optimizer_loaded, gamma=gamma_loaded)\n",
        "elif scheduler_name_loaded == \"CosineAnnealingLR\":\n",
        "  # Added getting the T_max parameter from the state dict\n",
        "  T_max_loaded = scheduler_loaded_state_dict[\"T_max\"]\n",
        "  scheduler_loaded = optim.lr_scheduler.CosineAnnealingLR(optimizer_loaded, T_max=T_max_loaded)\n",
        "elif scheduler_name_loaded == \"ReduceLROnPlateau\":\n",
        "  # Added getting the mode, factor, patience, threshold and min_lr parameters from the state dict\n",
        "  mode_loaded = scheduler_loaded_state_dict[\"mode\"]\n",
        "  factor_loaded = scheduler_loaded_state_dict[\"factor\"]\n",
        "  patience_loaded = scheduler_loaded_state_dict[\"patience\"]\n",
        "  threshold_loaded = scheduler_loaded_state_dict[\"threshold\"]\n",
        "  min_lr_loaded = scheduler_loaded_state_dict[\"min_lrs\"][0]\n",
        "  scheduler_loaded = optim.lr_scheduler.ReduceLROnPlateau(\n",
        "                    optimizer_loaded, mode=mode_loaded, factor=factor_loaded, patience=patience_loaded, threshold=threshold_loaded, min_lr=min_lr_loaded\n",
        "                )\n",
        "# elif scheduler_name_loaded == \"OneCycleLR\":\n",
        "#   max_lr_loaded = scheduler_loaded_state_dict[\"max_lr\"]\n",
        "#   epochs_loaded = scheduler_loaded_state_dict[\"epochs\"]\n",
        "#   steps_per_epoch_loaded = scheduler_loaded_state_dict[\"steps_per_epoch\"]\n",
        "#   pct_start_loaded = scheduler_loaded_state_dict[\"pct_start\"]\n",
        "#   max_lr_loaded = scheduler_loaded_state_dict[\"max_lr\"]\n",
        "#   scheduler_loaded = optim.lr_scheduler.OneCycleLR(\n",
        "#                     optimizer_loaded, max_lr=max_lr_loaded, epochs=epochs_loaded, steps_per_epoch=steps_per_epoch_loaded, pct_start=pct_start_loaded\n",
        "#                 )\n",
        "else:\n",
        "  scheduler_loaded = None\n",
        "\n",
        "if scheduler_loaded is not None:\n",
        "  # Added loading the state dict to the scheduler_loaded\n",
        "  scheduler_loaded.load_state_dict(scheduler_loaded_state_dict)\n",
        "\n",
        "# Loading the output of the training using pandas\n",
        "train_df_loaded = pd.read_csv(\"train_output.csv\")\n",
        "train_losses_loaded = train_df_loaded[\"train_loss\"].tolist()\n",
        "test_losses_loaded = train_df_loaded[\"test_loss\"].tolist()\n",
        "train_metrics_loaded = [\n",
        "    {\n",
        "        \"l1_norm\": train_df_loaded[\"train_l1_norm\"][i],\n",
        "        \"linf_norm\": train_df_loaded[\"train_linf_norm\"][i],\n",
        "    }\n",
        "    for i in range(len(train_df_loaded))\n",
        "]\n",
        "test_metrics_loaded = [\n",
        "    {\n",
        "        \"l1_norm\": train_df_loaded[\"test_l1_norm\"][i],\n",
        "        \"linf_norm\": train_df_loaded[\"test_linf_norm\"][i],\n",
        "    }\n",
        "    for i in range(len(train_df_loaded))\n",
        "]"
      ]
    },
    {
      "cell_type": "code",
      "execution_count": 101,
      "metadata": {
        "colab": {
          "base_uri": "https://localhost:8080/",
          "height": 1000
        },
        "id": "GQ_fcj7zUZii",
        "outputId": "c4979ef0-a99c-4754-e222-3af23a83c1cb"
      },
      "outputs": [
        {
          "name": "stdout",
          "output_type": "stream",
          "text": [
            "skipping\n"
          ]
        }
      ],
      "source": [
        "%%script echo skipping\n",
        "\n",
        "batch_size_loaded\n",
        "n_epochs_loaded\n",
        "loss_name_loaded\n",
        "optimizer_name_loaded\n",
        "scheduler_name_loaded\n",
        "n_units_loaded\n",
        "n_layers_loaded\n",
        "hidden_activation_name_loaded\n",
        "output_activation_name_loaded\n",
        "lr_loaded\n",
        "hidden_activation_loaded\n",
        "output_activation_loaded\n",
        "net_loaded\n",
        "net_loaded.__dict__ # print the subparameters of the network\n",
        "loss_fn_loaded\n",
        "optimizer_loaded\n",
        "optimizer_loaded.__dict__ # print the subparameters of the optimizer\n",
        "scheduler_loaded\n",
        "scheduler_loaded.__dict__ # print the subparameters of the scheduler\n",
        "train_losses_loaded\n",
        "test_losses_loaded\n",
        "train_metrics_loaded\n",
        "test_metrics_loaded"
      ]
    },
    {
      "cell_type": "code",
      "execution_count": 102,
      "metadata": {},
      "outputs": [
        {
          "data": {
            "text/plain": [
              "495.12587151145937"
            ]
          },
          "execution_count": 102,
          "metadata": {},
          "output_type": "execute_result"
        },
        {
          "data": {
            "text/plain": [
              "469.6029190444946"
            ]
          },
          "execution_count": 102,
          "metadata": {},
          "output_type": "execute_result"
        },
        {
          "data": {
            "text/plain": [
              "1.111884646266699"
            ]
          },
          "execution_count": 102,
          "metadata": {},
          "output_type": "execute_result"
        },
        {
          "data": {
            "text/plain": [
              "5.988756761193275"
            ]
          },
          "execution_count": 102,
          "metadata": {},
          "output_type": "execute_result"
        }
      ],
      "source": [
        "train_losses_loaded[-1]\n",
        "test_losses_loaded[-1]\n",
        "test_metrics_loaded[-1]['l1_norm']\n",
        "test_metrics_loaded[-1]['linf_norm']\n",
        "# print(f'Error is {test_metrics_loaded[-1][\"l1_norm\"] / (3.84e-4)} times bigger than in Dieselhorst et al.')\n",
        "# print(f'Error is {test_metrics_loaded[-1][\"linf_norm\"] / (8.14e-3)} times bigger than in Dieselhorst et al.')"
      ]
    },
    {
      "attachments": {},
      "cell_type": "markdown",
      "metadata": {},
      "source": [
        "### Visualize loaded results"
      ]
    },
    {
      "attachments": {},
      "cell_type": "markdown",
      "metadata": {
        "id": "vwLGR1aSUZik"
      },
      "source": [
        "Let us verify correct loading of the train and test metrics by visualizing them again but now through the loaded values. Likewise for the train and test losses."
      ]
    },
    {
      "cell_type": "code",
      "execution_count": 103,
      "metadata": {
        "id": "sXiNgLsmUZil"
      },
      "outputs": [],
      "source": [
        "%config InteractiveShell.ast_node_interactivity = \"last_expr_or_assign\""
      ]
    },
    {
      "cell_type": "code",
      "execution_count": 104,
      "metadata": {
        "colab": {
          "base_uri": "https://localhost:8080/",
          "height": 1000
        },
        "id": "sgq4WfSiUZil",
        "outputId": "9934bd08-6c78-4a92-c8c6-d8e835c351b3"
      },
      "outputs": [
        {
          "data": {
            "image/png": "[encoded data removed]",
            "text/plain": [
              "<Figure size 640x480 with 2 Axes>"
            ]
          },
          "metadata": {},
          "output_type": "display_data"
        },
        {
          "data": {
            "image/png": "[encoded data removed]",
            "text/plain": [
              "<Figure size 800x600 with 1 Axes>"
            ]
          },
          "metadata": {},
          "output_type": "display_data"
        }
      ],
      "source": [
        "# Plotting the losses and metrics for the best network plt.figure(figsize=(12, \n",
        "#plt.subplot(2, 2, 1)\n",
        "#plt.plot(train_losses_loaded, label=\"Train Loss\")\n",
        "#plt.plot(test_losses_loaded, label=\"Test Loss\")\n",
        "#plt.xlabel(\"Epoch\")\n",
        "#plt.ylabel(\"Loss\")\n",
        "#plt.legend()\n",
        "plt.subplot(2, 2, 2)\n",
        "plt.plot([m[\"l1_norm\"] for m in train_metrics_loaded], label=\"Train L1 Norm\")\n",
        "plt.plot([m[\"l1_norm\"] for m in test_metrics_loaded], label=\"Test L1 Norm\")\n",
        "plt.xlabel(\"Epoch\")\n",
        "plt.ylabel(\"L1 Norm\")\n",
        "# Added setting the vertical axis to be in powers of 10\n",
        "plt.yscale(\"log\")\n",
        "# Added setting the vertical axis limits to be from 10^-7 to 10^0\n",
        "plt.ylim(1e-3, 1e2)\n",
        "plt.legend()\n",
        "plt.subplot(2, 2, 3)\n",
        "plt.plot([m[\"linf_norm\"] for m in train_metrics_loaded], label=\"Train Linf Norm\")\n",
        "plt.plot([m[\"linf_norm\"] for m in test_metrics_loaded], label=\"Test Linf Norm\")\n",
        "plt.xlabel(\"Epoch\")\n",
        "plt.ylabel(\"Linf Norm\")\n",
        "# Added setting the vertical axis to be in powers of 10\n",
        "plt.yscale(\"log\")\n",
        "# Added setting the vertical axis limits to be from 10^-7 to 10^0\n",
        "plt.ylim(1e-3, 1e2)\n",
        "plt.legend()\n",
        "plt.tight_layout()\n",
        "plt.show()\n",
        "\n",
        "# Added plotting MSE of training data and MSE of test data in one plot \n",
        "plt.figure(figsize=(8, 6))\n",
        "plt.plot(train_losses_loaded,label=\"training data\")\n",
        "plt.plot(test_losses_loaded,label=\"test data\")\n",
        "#if scheduler is not None:\n",
        "#    plt.plot([scheduler.get_last_lr()[0] for _ in range(n_epochs)], label=\"Learning rate\") \n",
        "plt.xlabel(\"Epoch\")\n",
        "plt.ylabel(f\"{loss_name_loaded} Loss\")\n",
        "# Added setting the vertical axis to be in powers of 10\n",
        "plt.yscale(\"log\")\n",
        "# Added setting the vertical axis limits to be from 10^-7 to 10^0\n",
        "plt.ylim(1e-7, 1e0)\n",
        "plt.legend()\n",
        "plt.show()\n"
      ]
    },
    {
      "cell_type": "code",
      "execution_count": 105,
      "metadata": {
        "id": "lkgLqJ_UUZim"
      },
      "outputs": [],
      "source": [
        "%config InteractiveShell.ast_node_interactivity = \"all\""
      ]
    },
    {
      "attachments": {},
      "cell_type": "markdown",
      "metadata": {},
      "source": [
        "## Counting the number of parameters in the network."
      ]
    },
    {
      "cell_type": "code",
      "execution_count": 106,
      "metadata": {},
      "outputs": [
        {
          "data": {
            "text/plain": [
              "Net(\n",
              "  (hidden_activation): ReLU()\n",
              "  (output_activation): ReLU()\n",
              "  (layers): ModuleList(\n",
              "    (0): Linear(in_features=14, out_features=555, bias=True)\n",
              "    (1): Linear(in_features=555, out_features=458, bias=True)\n",
              "    (2): Linear(in_features=458, out_features=115, bias=True)\n",
              "    (3): Linear(in_features=115, out_features=1, bias=True)\n",
              "  )\n",
              ")"
            ]
          },
          "execution_count": 106,
          "metadata": {},
          "output_type": "execute_result"
        },
        {
          "name": "stdout",
          "output_type": "stream",
          "text": [
            "The model has 315874 parameters.\n"
          ]
        }
      ],
      "source": [
        "net_loaded.eval()\n",
        "def count_parameters(model):\n",
        "    return sum(p.numel() for p in model.parameters() if p.requires_grad)\n",
        "print(f'The model has {count_parameters(net_loaded)} parameters.')"
      ]
    },
    {
      "attachments": {},
      "cell_type": "markdown",
      "metadata": {
        "id": "SxuzVSnlUZin"
      },
      "source": [
        "## Evaluating the network on arbirary input\n",
        "### Comparing `net` and `net_loaded`\n",
        "\n",
        "We compare `net` and `net_loaded` to confirm correct loading of the network. Note that `net` is only available if we have trained the model in this session."
      ]
    },
    {
      "cell_type": "code",
      "execution_count": 107,
      "metadata": {},
      "outputs": [
        {
          "data": {
            "text/plain": [
              "Net(\n",
              "  (hidden_activation): ReLU()\n",
              "  (output_activation): ReLU()\n",
              "  (layers): ModuleList(\n",
              "    (0): Linear(in_features=14, out_features=555, bias=True)\n",
              "    (1): Linear(in_features=555, out_features=458, bias=True)\n",
              "    (2): Linear(in_features=458, out_features=115, bias=True)\n",
              "    (3): Linear(in_features=115, out_features=1, bias=True)\n",
              "  )\n",
              ")"
            ]
          },
          "execution_count": 107,
          "metadata": {},
          "output_type": "execute_result"
        }
      ],
      "source": [
        "#%%script echo skipping\n",
        "\n",
        "# Set the network to evaluation mode\n",
        "net.eval()"
      ]
    },
    {
      "cell_type": "code",
      "execution_count": 108,
      "metadata": {},
      "outputs": [
        {
          "data": {
            "text/plain": [
              "<bound method Module.eval of Net(\n",
              "  (hidden_activation): ReLU()\n",
              "  (output_activation): ReLU()\n",
              "  (layers): ModuleList(\n",
              "    (0): Linear(in_features=14, out_features=555, bias=True)\n",
              "    (1): Linear(in_features=555, out_features=458, bias=True)\n",
              "    (2): Linear(in_features=458, out_features=115, bias=True)\n",
              "    (3): Linear(in_features=115, out_features=1, bias=True)\n",
              "  )\n",
              ")>"
            ]
          },
          "execution_count": 108,
          "metadata": {},
          "output_type": "execute_result"
        }
      ],
      "source": [
        "# Set the network to evaluation mode\n",
        "net_loaded.eval"
      ]
    },
    {
      "cell_type": "code",
      "execution_count": 109,
      "metadata": {},
      "outputs": [
        {
          "name": "stdout",
          "output_type": "stream",
          "text": [
            "Parameters are the same.\n",
            "Net device: cpu\n",
            "Net_loaded device: cpu\n"
          ]
        }
      ],
      "source": [
        "for p1, p2 in zip(net.parameters(), net_loaded.parameters()):\n",
        "    if p1.data.ne(p2.data).sum() > 0:\n",
        "        print(\"Parameters are NOT the same.\")\n",
        "        break\n",
        "else:\n",
        "    print(\"Parameters are the same.\")\n",
        "\n",
        "print(\"Net device:\", next(net.parameters()).device)\n",
        "print(\"Net_loaded device:\", next(net_loaded.parameters()).device)"
      ]
    },
    {
      "cell_type": "code",
      "execution_count": 110,
      "metadata": {
        "colab": {
          "base_uri": "https://localhost:8080/"
        },
        "id": "C0PLAA0DUZin",
        "outputId": "c51e07dd-8b35-4ea4-cdf9-3118d7796e30"
      },
      "outputs": [
        {
          "name": "stdout",
          "output_type": "stream",
          "text": [
            "[Parameter containing:\n",
            "tensor([[-0.1313,  0.1755,  0.1541,  ...,  0.1621,  0.1914, -0.2157],\n",
            "        [ 0.2312,  0.1441, -0.1252,  ..., -0.1621, -0.3049,  0.0493],\n",
            "        [-0.1277,  0.0722,  0.2404,  ...,  0.1933, -0.2004,  0.2704],\n",
            "        ...,\n",
            "        [-0.2095,  0.2113,  0.2172,  ..., -0.0095, -0.1871, -0.2407],\n",
            "        [-0.1462, -0.2207,  0.2354,  ...,  0.1125,  0.0280,  0.0713],\n",
            "        [ 0.2079,  0.0366,  0.0141,  ..., -0.0435,  0.0360, -0.0708]],\n",
            "       requires_grad=True), Parameter containing:\n",
            "tensor([ 0.1421, -0.1806, -0.1864,  0.2023,  0.2126, -0.0733, -0.0991,  0.2231,\n",
            "         0.1183,  0.1199, -0.0404, -0.2010, -0.0164,  0.0068,  0.1999,  0.1600,\n",
            "         0.2274, -0.1873, -0.1880,  0.2417,  0.0835,  0.1736,  0.0583,  0.1939,\n",
            "         0.1249, -0.1534,  0.1629, -0.0301, -0.0113, -0.2219, -0.1936,  0.0128,\n",
            "        -0.0758,  0.2401, -0.1900, -0.0318,  0.0100,  0.2819,  0.1430,  0.1046,\n",
            "        -0.1251, -0.0355,  0.2114, -0.2563,  0.1733,  0.0592, -0.0230,  0.2040,\n",
            "         0.2118, -0.0198, -0.0031, -0.2091,  0.0923,  0.2150,  0.0190,  0.1106,\n",
            "         0.1706, -0.2522,  0.0750, -0.1437, -0.0874, -0.1168,  0.0880, -0.0545,\n",
            "         0.1948, -0.0526, -0.0429, -0.2300,  0.1567, -0.1144,  0.0078,  0.1876,\n",
            "        -0.1097,  0.0260,  0.2192, -0.1754, -0.1550,  0.1700, -0.2094,  0.2544,\n",
            "        -0.0260,  0.0684,  0.1427,  0.0158,  0.1314, -0.2672, -0.2252,  0.2458,\n",
            "         0.2234,  0.2224, -0.1836,  0.2973,  0.0710,  0.0132, -0.2280,  0.1465,\n",
            "         0.0642,  0.1139,  0.2777, -0.1232,  0.2369,  0.1857, -0.0295, -0.1165,\n",
            "         0.1203, -0.1455, -0.0419,  0.0351, -0.0389, -0.0898, -0.0302,  0.1982,\n",
            "         0.1552,  0.2872,  0.1562, -0.1365, -0.1131,  0.2847, -0.0986, -0.0726,\n",
            "         0.1040,  0.0694, -0.3266,  0.1960, -0.0791,  0.1494,  0.2204,  0.2534,\n",
            "        -0.1905, -0.1148,  0.0778, -0.0483,  0.0313,  0.2059, -0.1768,  0.0936,\n",
            "        -0.0604,  0.1116, -0.2058, -0.2121,  0.1676,  0.0079, -0.1568,  0.1982,\n",
            "        -0.1421,  0.1495,  0.0302,  0.0793, -0.2180,  0.0930, -0.1074, -0.1050,\n",
            "        -0.0607,  0.2285, -0.0775, -0.1913,  0.0351, -0.0623,  0.0142,  0.2411,\n",
            "         0.0799, -0.1951, -0.0412,  0.1492,  0.2774,  0.2168,  0.1094,  0.1511,\n",
            "        -0.1018, -0.2393,  0.0327, -0.0267,  0.2848,  0.0627,  0.2480,  0.0306,\n",
            "        -0.1554, -0.0581,  0.2056,  0.1125, -0.0251,  0.1695, -0.0330,  0.2497,\n",
            "        -0.1867,  0.1552,  0.1288, -0.0449,  0.1753,  0.1888,  0.1648,  0.1103,\n",
            "         0.2342, -0.3167,  0.0073, -0.0139,  0.0571,  0.1039, -0.1413,  0.1684,\n",
            "         0.0033, -0.1098,  0.2055, -0.1917, -0.0507,  0.0876, -0.0215,  0.1271,\n",
            "         0.0760,  0.1000, -0.0512, -0.0818,  0.1815,  0.0560,  0.1830, -0.1443,\n",
            "         0.1167,  0.1980, -0.0896, -0.0709,  0.0611,  0.2486,  0.0259,  0.0606,\n",
            "        -0.0962, -0.1036,  0.0286,  0.1000,  0.0220,  0.0975,  0.1672,  0.0718,\n",
            "         0.1864, -0.0133,  0.2009,  0.0767, -0.0405,  0.1201,  0.0462,  0.0559,\n",
            "        -0.0154, -0.1367, -0.1386, -0.0127,  0.0905, -0.1344, -0.0734,  0.0684,\n",
            "         0.1550,  0.0176,  0.2584,  0.1803,  0.1667, -0.0083,  0.2093,  0.3183,\n",
            "        -0.0441, -0.0311, -0.1635,  0.1805, -0.0003,  0.1766,  0.0824, -0.0399,\n",
            "         0.1885,  0.1990,  0.3122, -0.0582, -0.0884, -0.2101, -0.0853,  0.1650,\n",
            "        -0.1602, -0.1446, -0.2109,  0.0488,  0.1766,  0.2866, -0.1526, -0.0636,\n",
            "        -0.2247, -0.0308, -0.0495,  0.0047,  0.2250,  0.0522, -0.0250, -0.1288,\n",
            "         0.1274,  0.0595,  0.2109,  0.0216, -0.2873, -0.1684, -0.1675,  0.0855,\n",
            "        -0.2237, -0.1340,  0.2428,  0.1703, -0.2276,  0.2303,  0.1070, -0.2369,\n",
            "         0.0976,  0.1470, -0.1431, -0.2706, -0.1604,  0.0869, -0.0857, -0.0811,\n",
            "         0.2990, -0.1666,  0.1209, -0.2545,  0.0356, -0.1311, -0.0327,  0.1610,\n",
            "         0.0389,  0.0549, -0.0044,  0.1122,  0.1468, -0.0517, -0.0121, -0.0403,\n",
            "         0.1921,  0.2077,  0.1879,  0.1379, -0.1391,  0.1579, -0.1486,  0.0423,\n",
            "        -0.0504,  0.1401,  0.0055,  0.1320,  0.2224,  0.2297,  0.2799, -0.2085,\n",
            "        -0.1969,  0.0179, -0.1460, -0.0989, -0.2086, -0.0068, -0.1858, -0.1499,\n",
            "         0.0724,  0.0396,  0.0753, -0.1112, -0.1968,  0.1443, -0.1265, -0.2213,\n",
            "         0.0212,  0.0509, -0.2491, -0.0259, -0.1106, -0.1889,  0.2235,  0.2209,\n",
            "         0.2865, -0.0605,  0.1440, -0.2166,  0.1137,  0.0490,  0.0937, -0.0837,\n",
            "        -0.0939, -0.0768, -0.2172, -0.1261, -0.3069,  0.2263,  0.2180,  0.1298,\n",
            "         0.2126, -0.0314,  0.1467, -0.0669,  0.3035,  0.0745, -0.1429, -0.2783,\n",
            "         0.2384,  0.1774, -0.3121,  0.0882,  0.0518,  0.0484, -0.1460, -0.1840,\n",
            "         0.0276, -0.2085, -0.0606,  0.0975, -0.1923,  0.0921, -0.0619, -0.1094,\n",
            "        -0.2227, -0.1405, -0.1726,  0.1185,  0.2778,  0.2183, -0.1686,  0.0288,\n",
            "         0.2099, -0.0891, -0.2315,  0.2098, -0.0893, -0.2220,  0.1818,  0.0625,\n",
            "         0.1199, -0.3131,  0.1440,  0.2162,  0.2666, -0.0188,  0.1868, -0.2068,\n",
            "        -0.0909,  0.1326,  0.1834,  0.1138,  0.1745,  0.2433, -0.0317,  0.1999,\n",
            "         0.0253,  0.1136, -0.0624, -0.1325,  0.0369, -0.0294,  0.0092, -0.1718,\n",
            "         0.1790, -0.0028, -0.2725, -0.2739,  0.0398, -0.2183,  0.0225,  0.2521,\n",
            "         0.1353, -0.1752, -0.0456,  0.0852,  0.2494,  0.0943, -0.1290,  0.1485,\n",
            "        -0.0906, -0.0943,  0.0392, -0.1389,  0.0894,  0.0254,  0.0723,  0.2862,\n",
            "         0.2285, -0.0253, -0.2112,  0.2441,  0.1642,  0.2620, -0.0373,  0.0038,\n",
            "         0.1073,  0.0260, -0.1083, -0.0458,  0.0996, -0.2042,  0.2314,  0.0767,\n",
            "         0.0235,  0.1285, -0.0783, -0.2627,  0.2725,  0.1642, -0.0151,  0.1274,\n",
            "        -0.3221, -0.1317, -0.1307, -0.2082, -0.1986, -0.2864,  0.0517, -0.0422,\n",
            "        -0.2040,  0.0347,  0.2170,  0.2044,  0.1389,  0.1638,  0.1228, -0.0745,\n",
            "         0.1710,  0.0950,  0.2077,  0.0182, -0.0699,  0.1931, -0.1950, -0.1283,\n",
            "         0.0851,  0.0320,  0.0094, -0.1992, -0.1607, -0.1039,  0.0588,  0.2926,\n",
            "         0.2870,  0.0370,  0.0804,  0.0906,  0.0497, -0.2280,  0.0983, -0.0589,\n",
            "        -0.0066, -0.1819,  0.0933, -0.3086, -0.1304, -0.3038,  0.2092, -0.0362,\n",
            "        -0.0202, -0.1374,  0.0595,  0.2761,  0.1704,  0.1948,  0.0488,  0.1124,\n",
            "        -0.1063, -0.2860,  0.1719], requires_grad=True), Parameter containing:\n",
            "tensor([[ 0.0280,  0.0335,  0.0156,  ..., -0.0293, -0.0233, -0.0104],\n",
            "        [ 0.0179,  0.0159, -0.0127,  ..., -0.0256,  0.0257, -0.0147],\n",
            "        [ 0.0266, -0.0119,  0.0375,  ...,  0.0111, -0.0359, -0.0297],\n",
            "        ...,\n",
            "        [ 0.0401,  0.0152, -0.0147,  ..., -0.0146, -0.0251,  0.0233],\n",
            "        [ 0.0158,  0.0015, -0.0220,  ..., -0.0252, -0.0394,  0.0346],\n",
            "        [-0.0030,  0.0044,  0.0296,  ...,  0.0204,  0.0262, -0.0149]],\n",
            "       requires_grad=True), Parameter containing:\n",
            "tensor([-1.3084e-02, -1.6351e-02, -1.8115e-02, -1.8308e-02,  1.8701e-02,\n",
            "        -6.4020e-02, -1.2453e-02,  3.3499e-02, -5.5179e-02,  7.7381e-03,\n",
            "         6.4201e-02,  2.8405e-02,  3.3668e-03,  2.4089e-02,  6.2078e-02,\n",
            "         4.9850e-02, -2.7209e-02,  2.9486e-03,  3.4609e-03, -3.3985e-02,\n",
            "         2.0612e-03, -3.7169e-02, -6.8054e-02,  7.5370e-03, -2.1530e-02,\n",
            "        -1.7587e-02,  2.8642e-02,  1.7654e-02,  1.2166e-02,  2.9801e-02,\n",
            "         5.6833e-02, -1.0951e-02,  2.8536e-03, -7.5329e-02, -2.4755e-02,\n",
            "        -3.2904e-02, -3.1200e-02,  4.1863e-02, -2.1318e-02, -4.9234e-02,\n",
            "         1.8895e-02, -1.8612e-02,  2.0018e-02,  1.8670e-02, -7.1915e-02,\n",
            "        -3.3784e-02,  6.0273e-02, -1.1636e-02, -9.8558e-04, -7.4389e-03,\n",
            "        -3.8203e-03,  7.8962e-03,  3.2262e-02, -5.7483e-02,  2.4550e-02,\n",
            "        -2.3767e-02, -6.7727e-02,  1.4591e-02,  7.6855e-02, -2.8628e-03,\n",
            "         8.5898e-02,  3.4190e-02,  1.2021e-04, -3.9696e-02, -1.5883e-03,\n",
            "        -4.3629e-03,  4.5696e-02,  3.0338e-02, -1.8733e-05,  8.6345e-02,\n",
            "        -8.1844e-02, -1.7965e-02, -7.8074e-02,  2.9207e-02, -2.4251e-02,\n",
            "         4.6385e-02, -1.5531e-02, -9.2398e-02, -3.8303e-02,  4.5208e-02,\n",
            "         3.4717e-03,  3.6956e-02, -2.0687e-02,  4.1649e-02,  1.9665e-02,\n",
            "        -2.9344e-02, -9.5452e-03,  8.0105e-02,  3.2088e-02,  1.3577e-02,\n",
            "        -3.3206e-02,  3.1133e-02, -2.6640e-02, -9.6133e-02, -1.2709e-02,\n",
            "        -5.5717e-03,  4.3937e-02, -3.1494e-02,  5.6979e-02, -9.8705e-03,\n",
            "        -2.5648e-02,  1.0390e-02,  1.7622e-02,  2.6858e-02,  7.4811e-02,\n",
            "        -1.5795e-02,  4.0519e-04,  4.0775e-03, -1.9087e-02, -9.0565e-02,\n",
            "         1.1414e-02,  1.0572e-03, -2.9428e-02, -3.3625e-02,  3.4308e-02,\n",
            "         3.7195e-02,  3.1318e-02, -7.6953e-02, -2.6145e-02,  4.4538e-02,\n",
            "         1.4147e-02,  1.9062e-03,  3.2545e-03, -2.1980e-02, -3.8516e-03,\n",
            "         1.3023e-02,  2.0119e-02,  6.8183e-02,  4.6509e-03,  4.7121e-02,\n",
            "        -2.5011e-02, -7.1044e-04,  1.4480e-02,  1.7318e-02, -1.0512e-02,\n",
            "        -3.8402e-02,  1.7520e-02, -2.2473e-03,  1.1646e-02,  5.6760e-03,\n",
            "         3.4840e-02,  1.7580e-03, -5.6607e-03,  3.4351e-02,  1.2254e-02,\n",
            "         3.1275e-02,  1.6141e-02,  6.6686e-02, -3.1715e-03,  1.7418e-02,\n",
            "         1.0416e-02, -2.0252e-02,  3.5561e-02, -4.6502e-02,  5.6655e-02,\n",
            "         1.4047e-02,  5.6855e-02, -2.5348e-02,  5.3514e-02,  4.4482e-02,\n",
            "         2.6684e-04, -1.4866e-02,  1.7330e-02,  2.3707e-02,  9.1531e-02,\n",
            "         1.3882e-02,  3.3208e-02,  1.6811e-04,  4.8198e-02, -5.9166e-02,\n",
            "        -1.3212e-02, -8.4326e-02, -5.1793e-02, -9.0019e-02, -6.6980e-04,\n",
            "        -3.1284e-02, -3.9114e-02,  3.9663e-02,  1.0950e-02, -3.0121e-02,\n",
            "        -9.2052e-02, -2.3354e-02,  7.6897e-02,  4.6087e-02,  2.4919e-02,\n",
            "         5.3232e-02,  1.3370e-02,  2.9086e-02, -7.7039e-02,  5.8171e-02,\n",
            "        -4.6459e-04, -2.3158e-02,  4.3863e-02,  3.5482e-02, -4.7228e-02,\n",
            "        -9.4010e-03, -9.2694e-03, -1.4883e-02,  3.4161e-02,  1.1735e-02,\n",
            "        -3.2942e-02,  2.7979e-02, -2.3082e-02,  5.4121e-02,  5.5332e-04,\n",
            "         3.4885e-02,  1.7876e-03, -2.1459e-02,  7.6250e-02, -1.3115e-02,\n",
            "        -5.9501e-02,  4.5974e-02, -1.0483e-02,  3.9969e-03, -7.8517e-02,\n",
            "         3.1093e-02,  2.9006e-02, -5.7907e-02,  4.7781e-02,  5.5748e-02,\n",
            "        -3.0887e-02, -4.7564e-02, -4.8656e-02, -6.6568e-02,  1.5505e-02,\n",
            "         3.7883e-02, -3.7152e-02, -2.3465e-02, -8.6899e-03,  6.6274e-02,\n",
            "         2.3334e-02, -1.3313e-02, -4.9664e-03,  4.2609e-02,  9.4048e-03,\n",
            "         9.0227e-03, -1.3482e-02, -1.6699e-02, -8.6987e-02, -8.8403e-02,\n",
            "        -3.9142e-02, -1.9408e-02, -9.9940e-02, -1.4947e-02, -7.4637e-03,\n",
            "        -7.1219e-02,  1.7520e-02,  5.3496e-02,  6.1902e-02,  7.5047e-02,\n",
            "         4.0863e-02, -9.7928e-03,  5.4705e-02,  7.7502e-03, -1.8034e-02,\n",
            "        -6.8689e-04,  4.1307e-02, -2.4573e-02,  2.5267e-02, -2.3010e-02,\n",
            "        -4.2382e-02,  7.4503e-02,  6.6541e-02,  9.6525e-03, -2.9576e-03,\n",
            "         7.2966e-02, -3.7671e-02,  7.8803e-02, -4.0006e-02, -7.0381e-03,\n",
            "         1.4128e-02, -3.7660e-02, -3.4796e-02,  7.0267e-02, -3.4145e-02,\n",
            "         4.0266e-03,  5.1075e-02,  5.5735e-02, -6.7405e-02,  5.3983e-02,\n",
            "         1.3251e-02,  8.5610e-02,  8.1037e-02, -7.2253e-02, -8.1246e-03,\n",
            "        -3.1136e-02,  4.0679e-02, -9.4389e-03, -4.6909e-02,  8.8832e-02,\n",
            "        -2.7743e-02,  2.4501e-02, -1.0575e-02, -3.3780e-03,  3.5679e-02,\n",
            "        -2.2164e-02,  1.4882e-02,  4.7258e-02,  3.0764e-02,  1.1465e-02,\n",
            "        -3.6674e-02, -1.7506e-02,  6.3838e-03,  6.9340e-02,  4.4367e-02,\n",
            "         2.6313e-02,  4.0669e-03, -2.9247e-02,  2.0707e-02, -8.3876e-02,\n",
            "         2.9659e-02, -2.1796e-02, -3.5263e-02,  7.5614e-02, -5.6019e-02,\n",
            "        -6.1028e-02,  3.7095e-02, -5.8810e-02,  9.1194e-03,  2.0052e-02,\n",
            "         9.2578e-02,  7.6613e-02,  6.3305e-02, -1.9584e-02, -8.0126e-02,\n",
            "        -8.4714e-02,  2.1280e-02,  3.0216e-02,  3.5442e-02, -2.9600e-02,\n",
            "        -8.0263e-02,  1.9738e-02,  3.4594e-02,  4.4281e-03,  1.5661e-02,\n",
            "         1.5662e-02, -6.6922e-02, -2.7738e-02, -3.8778e-02, -3.7159e-02,\n",
            "         5.7976e-02, -4.1637e-02, -7.8079e-05, -6.8283e-03,  1.2782e-02,\n",
            "        -4.1816e-02,  9.6067e-03,  7.9898e-02,  2.6441e-03,  5.4703e-03,\n",
            "        -5.7163e-02,  1.2777e-02,  2.5451e-02, -3.0387e-03,  3.7904e-02,\n",
            "         4.6497e-02, -1.9526e-02,  6.7205e-02,  1.5743e-02,  5.2145e-02,\n",
            "        -3.0760e-02, -4.2509e-02,  6.5734e-02, -3.2679e-02, -1.8269e-02,\n",
            "         2.6541e-02,  2.9176e-02, -7.0556e-02, -2.1463e-02,  3.3423e-02,\n",
            "         1.1511e-04,  6.9511e-02,  1.3743e-02,  6.8940e-02,  9.3691e-03,\n",
            "        -8.1923e-02,  3.4683e-02,  2.1311e-02,  3.3131e-02,  1.0037e-02,\n",
            "         7.7730e-02,  3.6245e-02, -3.4179e-02, -7.4222e-02,  7.1699e-02,\n",
            "        -3.9335e-02, -1.4617e-02, -1.6827e-02,  8.2211e-03,  1.1108e-02,\n",
            "         4.3389e-02,  8.4778e-02, -1.6746e-02,  3.2339e-02, -1.3822e-03,\n",
            "         6.9160e-02,  1.1464e-02,  6.8375e-02,  2.5620e-02, -8.2329e-02,\n",
            "        -3.1637e-02,  8.6449e-02,  3.0597e-02,  2.1292e-02, -1.2945e-02,\n",
            "         1.9412e-02,  2.8568e-02,  4.8474e-02, -9.0360e-03, -3.6563e-02,\n",
            "        -7.8003e-03,  2.9480e-02,  2.1619e-02,  1.4555e-02,  2.3409e-02,\n",
            "        -3.5027e-02, -3.3922e-02,  2.7529e-02, -4.3218e-02, -2.1347e-02,\n",
            "         1.8972e-03,  2.9135e-02, -9.2513e-03, -3.5286e-02, -2.0758e-02,\n",
            "         5.3004e-02,  1.0609e-02,  3.2166e-02,  4.9139e-02, -1.5052e-02,\n",
            "         6.3859e-02,  2.7845e-03, -7.3584e-02,  5.9735e-02,  3.2816e-02,\n",
            "        -2.4292e-02,  2.3001e-02,  2.6806e-02,  5.7448e-02, -5.3999e-02,\n",
            "         2.8864e-02,  5.9328e-02,  2.1317e-02, -5.8440e-03, -4.1346e-02,\n",
            "        -3.1011e-03,  4.2508e-02, -3.5417e-02, -3.8036e-02,  8.4992e-03,\n",
            "         6.3962e-02, -1.4519e-02, -7.9336e-02,  1.7708e-03,  2.6853e-02,\n",
            "        -1.4581e-02, -1.8020e-02,  1.1917e-02], requires_grad=True), Parameter containing:\n",
            "tensor([[ 0.0285, -0.0215,  0.0317,  ..., -0.0277,  0.0334,  0.0225],\n",
            "        [-0.0377, -0.0068, -0.0369,  ..., -0.0351, -0.0150, -0.0007],\n",
            "        [-0.0321, -0.0120, -0.0371,  ...,  0.0131,  0.0234,  0.0010],\n",
            "        ...,\n",
            "        [ 0.0155, -0.0240, -0.0062,  ...,  0.0139,  0.0258,  0.0061],\n",
            "        [ 0.0319,  0.0380, -0.0381,  ...,  0.0051,  0.0108,  0.0565],\n",
            "        [-0.0375,  0.0290, -0.0483,  ..., -0.0178,  0.0037, -0.0060]],\n",
            "       requires_grad=True), Parameter containing:\n",
            "tensor([ 0.0003, -0.0480,  0.0150,  0.0542,  0.0630, -0.0026,  0.0185,  0.0879,\n",
            "         0.0328,  0.0236,  0.0044, -0.0385,  0.0088,  0.0578,  0.0380,  0.0198,\n",
            "        -0.0225,  0.0086,  0.0718,  0.0467,  0.0723,  0.0156,  0.0336,  0.0388,\n",
            "         0.0013,  0.0329, -0.0599,  0.0063,  0.0790, -0.0135,  0.0883, -0.0546,\n",
            "        -0.0191,  0.0553,  0.0666, -0.0409,  0.0612,  0.0199, -0.0180,  0.0071,\n",
            "        -0.0657, -0.0130,  0.0536,  0.0650,  0.1058, -0.1057,  0.0120,  0.0561,\n",
            "         0.0252, -0.0240,  0.0489,  0.0249, -0.0030,  0.0867, -0.0282, -0.0135,\n",
            "        -0.0494,  0.0360,  0.0170,  0.0535,  0.0047,  0.0447, -0.0090,  0.0006,\n",
            "         0.0122,  0.0217, -0.0153, -0.0059,  0.0350,  0.0003,  0.0119,  0.0031,\n",
            "         0.0364, -0.0463, -0.0251, -0.0302,  0.0326,  0.0534, -0.0027,  0.0328,\n",
            "         0.0638,  0.0068, -0.0146,  0.0627, -0.0121,  0.0118,  0.0333, -0.0230,\n",
            "         0.0280,  0.0789,  0.0300, -0.0537, -0.0046, -0.0238, -0.0298, -0.0224,\n",
            "         0.0461, -0.0273,  0.0428, -0.0237,  0.0089, -0.0319,  0.0438,  0.0193,\n",
            "         0.0110,  0.0037, -0.0646, -0.0964,  0.0489, -0.0280,  0.0047,  0.0363,\n",
            "         0.0378, -0.0364,  0.0397], requires_grad=True), Parameter containing:\n",
            "tensor([[ 0.0175, -0.0331, -0.0430,  0.0698, -0.0007, -0.0047, -0.0850,  0.0653,\n",
            "          0.0024,  0.0402, -0.0375, -0.0226,  0.0527, -0.0691,  0.0339, -0.0472,\n",
            "         -0.0639, -0.0471,  0.0127,  0.0590,  0.0306,  0.0750,  0.0767, -0.0534,\n",
            "          0.0879, -0.0768, -0.0541, -0.0253,  0.0664, -0.0653,  0.0776, -0.0118,\n",
            "          0.0176,  0.0771,  0.0796,  0.0346,  0.0181,  0.0784, -0.0004,  0.0715,\n",
            "         -0.0087,  0.0856,  0.0013,  0.0250,  0.0736, -0.0837,  0.0460,  0.0843,\n",
            "         -0.0732,  0.0611,  0.0371,  0.0442,  0.0860,  0.0058, -0.0652,  0.0383,\n",
            "         -0.0676, -0.0185, -0.0016,  0.0748, -0.0457,  0.0067, -0.0856, -0.0145,\n",
            "          0.0148, -0.0373,  0.0792,  0.0536, -0.0332,  0.0522, -0.0884, -0.0577,\n",
            "          0.0495, -0.0300,  0.0514, -0.0600,  0.0345,  0.0287,  0.0537,  0.0820,\n",
            "          0.0606, -0.0262, -0.0847,  0.0432, -0.0181, -0.0516, -0.0782,  0.0012,\n",
            "          0.0805,  0.0916, -0.0333, -0.0805,  0.0449, -0.0517, -0.0384, -0.0571,\n",
            "          0.0803, -0.0174,  0.0376,  0.0180,  0.0654,  0.0601,  0.0132,  0.0509,\n",
            "          0.0815, -0.0105, -0.0594, -0.0133,  0.0087, -0.0262, -0.0786,  0.0582,\n",
            "          0.0278, -0.0744, -0.0897]], requires_grad=True), Parameter containing:\n",
            "tensor([0.1323], requires_grad=True)]\n"
          ]
        }
      ],
      "source": [
        "#%%script echo skipping\n",
        "\n",
        "print(list(net.parameters()))"
      ]
    },
    {
      "cell_type": "code",
      "execution_count": 111,
      "metadata": {
        "colab": {
          "base_uri": "https://localhost:8080/"
        },
        "id": "1NZ8iVA7UZio",
        "outputId": "6341def7-b7e7-44eb-c91f-edbe1d22ca1d"
      },
      "outputs": [
        {
          "name": "stdout",
          "output_type": "stream",
          "text": [
            "[Parameter containing:\n",
            "tensor([[-0.1313,  0.1755,  0.1541,  ...,  0.1621,  0.1914, -0.2157],\n",
            "        [ 0.2312,  0.1441, -0.1252,  ..., -0.1621, -0.3049,  0.0493],\n",
            "        [-0.1277,  0.0722,  0.2404,  ...,  0.1933, -0.2004,  0.2704],\n",
            "        ...,\n",
            "        [-0.2095,  0.2113,  0.2172,  ..., -0.0095, -0.1871, -0.2407],\n",
            "        [-0.1462, -0.2207,  0.2354,  ...,  0.1125,  0.0280,  0.0713],\n",
            "        [ 0.2079,  0.0366,  0.0141,  ..., -0.0435,  0.0360, -0.0708]],\n",
            "       requires_grad=True), Parameter containing:\n",
            "tensor([ 0.1421, -0.1806, -0.1864,  0.2023,  0.2126, -0.0733, -0.0991,  0.2231,\n",
            "         0.1183,  0.1199, -0.0404, -0.2010, -0.0164,  0.0068,  0.1999,  0.1600,\n",
            "         0.2274, -0.1873, -0.1880,  0.2417,  0.0835,  0.1736,  0.0583,  0.1939,\n",
            "         0.1249, -0.1534,  0.1629, -0.0301, -0.0113, -0.2219, -0.1936,  0.0128,\n",
            "        -0.0758,  0.2401, -0.1900, -0.0318,  0.0100,  0.2819,  0.1430,  0.1046,\n",
            "        -0.1251, -0.0355,  0.2114, -0.2563,  0.1733,  0.0592, -0.0230,  0.2040,\n",
            "         0.2118, -0.0198, -0.0031, -0.2091,  0.0923,  0.2150,  0.0190,  0.1106,\n",
            "         0.1706, -0.2522,  0.0750, -0.1437, -0.0874, -0.1168,  0.0880, -0.0545,\n",
            "         0.1948, -0.0526, -0.0429, -0.2300,  0.1567, -0.1144,  0.0078,  0.1876,\n",
            "        -0.1097,  0.0260,  0.2192, -0.1754, -0.1550,  0.1700, -0.2094,  0.2544,\n",
            "        -0.0260,  0.0684,  0.1427,  0.0158,  0.1314, -0.2672, -0.2252,  0.2458,\n",
            "         0.2234,  0.2224, -0.1836,  0.2973,  0.0710,  0.0132, -0.2280,  0.1465,\n",
            "         0.0642,  0.1139,  0.2777, -0.1232,  0.2369,  0.1857, -0.0295, -0.1165,\n",
            "         0.1203, -0.1455, -0.0419,  0.0351, -0.0389, -0.0898, -0.0302,  0.1982,\n",
            "         0.1552,  0.2872,  0.1562, -0.1365, -0.1131,  0.2847, -0.0986, -0.0726,\n",
            "         0.1040,  0.0694, -0.3266,  0.1960, -0.0791,  0.1494,  0.2204,  0.2534,\n",
            "        -0.1905, -0.1148,  0.0778, -0.0483,  0.0313,  0.2059, -0.1768,  0.0936,\n",
            "        -0.0604,  0.1116, -0.2058, -0.2121,  0.1676,  0.0079, -0.1568,  0.1982,\n",
            "        -0.1421,  0.1495,  0.0302,  0.0793, -0.2180,  0.0930, -0.1074, -0.1050,\n",
            "        -0.0607,  0.2285, -0.0775, -0.1913,  0.0351, -0.0623,  0.0142,  0.2411,\n",
            "         0.0799, -0.1951, -0.0412,  0.1492,  0.2774,  0.2168,  0.1094,  0.1511,\n",
            "        -0.1018, -0.2393,  0.0327, -0.0267,  0.2848,  0.0627,  0.2480,  0.0306,\n",
            "        -0.1554, -0.0581,  0.2056,  0.1125, -0.0251,  0.1695, -0.0330,  0.2497,\n",
            "        -0.1867,  0.1552,  0.1288, -0.0449,  0.1753,  0.1888,  0.1648,  0.1103,\n",
            "         0.2342, -0.3167,  0.0073, -0.0139,  0.0571,  0.1039, -0.1413,  0.1684,\n",
            "         0.0033, -0.1098,  0.2055, -0.1917, -0.0507,  0.0876, -0.0215,  0.1271,\n",
            "         0.0760,  0.1000, -0.0512, -0.0818,  0.1815,  0.0560,  0.1830, -0.1443,\n",
            "         0.1167,  0.1980, -0.0896, -0.0709,  0.0611,  0.2486,  0.0259,  0.0606,\n",
            "        -0.0962, -0.1036,  0.0286,  0.1000,  0.0220,  0.0975,  0.1672,  0.0718,\n",
            "         0.1864, -0.0133,  0.2009,  0.0767, -0.0405,  0.1201,  0.0462,  0.0559,\n",
            "        -0.0154, -0.1367, -0.1386, -0.0127,  0.0905, -0.1344, -0.0734,  0.0684,\n",
            "         0.1550,  0.0176,  0.2584,  0.1803,  0.1667, -0.0083,  0.2093,  0.3183,\n",
            "        -0.0441, -0.0311, -0.1635,  0.1805, -0.0003,  0.1766,  0.0824, -0.0399,\n",
            "         0.1885,  0.1990,  0.3122, -0.0582, -0.0884, -0.2101, -0.0853,  0.1650,\n",
            "        -0.1602, -0.1446, -0.2109,  0.0488,  0.1766,  0.2866, -0.1526, -0.0636,\n",
            "        -0.2247, -0.0308, -0.0495,  0.0047,  0.2250,  0.0522, -0.0250, -0.1288,\n",
            "         0.1274,  0.0595,  0.2109,  0.0216, -0.2873, -0.1684, -0.1675,  0.0855,\n",
            "        -0.2237, -0.1340,  0.2428,  0.1703, -0.2276,  0.2303,  0.1070, -0.2369,\n",
            "         0.0976,  0.1470, -0.1431, -0.2706, -0.1604,  0.0869, -0.0857, -0.0811,\n",
            "         0.2990, -0.1666,  0.1209, -0.2545,  0.0356, -0.1311, -0.0327,  0.1610,\n",
            "         0.0389,  0.0549, -0.0044,  0.1122,  0.1468, -0.0517, -0.0121, -0.0403,\n",
            "         0.1921,  0.2077,  0.1879,  0.1379, -0.1391,  0.1579, -0.1486,  0.0423,\n",
            "        -0.0504,  0.1401,  0.0055,  0.1320,  0.2224,  0.2297,  0.2799, -0.2085,\n",
            "        -0.1969,  0.0179, -0.1460, -0.0989, -0.2086, -0.0068, -0.1858, -0.1499,\n",
            "         0.0724,  0.0396,  0.0753, -0.1112, -0.1968,  0.1443, -0.1265, -0.2213,\n",
            "         0.0212,  0.0509, -0.2491, -0.0259, -0.1106, -0.1889,  0.2235,  0.2209,\n",
            "         0.2865, -0.0605,  0.1440, -0.2166,  0.1137,  0.0490,  0.0937, -0.0837,\n",
            "        -0.0939, -0.0768, -0.2172, -0.1261, -0.3069,  0.2263,  0.2180,  0.1298,\n",
            "         0.2126, -0.0314,  0.1467, -0.0669,  0.3035,  0.0745, -0.1429, -0.2783,\n",
            "         0.2384,  0.1774, -0.3121,  0.0882,  0.0518,  0.0484, -0.1460, -0.1840,\n",
            "         0.0276, -0.2085, -0.0606,  0.0975, -0.1923,  0.0921, -0.0619, -0.1094,\n",
            "        -0.2227, -0.1405, -0.1726,  0.1185,  0.2778,  0.2183, -0.1686,  0.0288,\n",
            "         0.2099, -0.0891, -0.2315,  0.2098, -0.0893, -0.2220,  0.1818,  0.0625,\n",
            "         0.1199, -0.3131,  0.1440,  0.2162,  0.2666, -0.0188,  0.1868, -0.2068,\n",
            "        -0.0909,  0.1326,  0.1834,  0.1138,  0.1745,  0.2433, -0.0317,  0.1999,\n",
            "         0.0253,  0.1136, -0.0624, -0.1325,  0.0369, -0.0294,  0.0092, -0.1718,\n",
            "         0.1790, -0.0028, -0.2725, -0.2739,  0.0398, -0.2183,  0.0225,  0.2521,\n",
            "         0.1353, -0.1752, -0.0456,  0.0852,  0.2494,  0.0943, -0.1290,  0.1485,\n",
            "        -0.0906, -0.0943,  0.0392, -0.1389,  0.0894,  0.0254,  0.0723,  0.2862,\n",
            "         0.2285, -0.0253, -0.2112,  0.2441,  0.1642,  0.2620, -0.0373,  0.0038,\n",
            "         0.1073,  0.0260, -0.1083, -0.0458,  0.0996, -0.2042,  0.2314,  0.0767,\n",
            "         0.0235,  0.1285, -0.0783, -0.2627,  0.2725,  0.1642, -0.0151,  0.1274,\n",
            "        -0.3221, -0.1317, -0.1307, -0.2082, -0.1986, -0.2864,  0.0517, -0.0422,\n",
            "        -0.2040,  0.0347,  0.2170,  0.2044,  0.1389,  0.1638,  0.1228, -0.0745,\n",
            "         0.1710,  0.0950,  0.2077,  0.0182, -0.0699,  0.1931, -0.1950, -0.1283,\n",
            "         0.0851,  0.0320,  0.0094, -0.1992, -0.1607, -0.1039,  0.0588,  0.2926,\n",
            "         0.2870,  0.0370,  0.0804,  0.0906,  0.0497, -0.2280,  0.0983, -0.0589,\n",
            "        -0.0066, -0.1819,  0.0933, -0.3086, -0.1304, -0.3038,  0.2092, -0.0362,\n",
            "        -0.0202, -0.1374,  0.0595,  0.2761,  0.1704,  0.1948,  0.0488,  0.1124,\n",
            "        -0.1063, -0.2860,  0.1719], requires_grad=True), Parameter containing:\n",
            "tensor([[ 0.0280,  0.0335,  0.0156,  ..., -0.0293, -0.0233, -0.0104],\n",
            "        [ 0.0179,  0.0159, -0.0127,  ..., -0.0256,  0.0257, -0.0147],\n",
            "        [ 0.0266, -0.0119,  0.0375,  ...,  0.0111, -0.0359, -0.0297],\n",
            "        ...,\n",
            "        [ 0.0401,  0.0152, -0.0147,  ..., -0.0146, -0.0251,  0.0233],\n",
            "        [ 0.0158,  0.0015, -0.0220,  ..., -0.0252, -0.0394,  0.0346],\n",
            "        [-0.0030,  0.0044,  0.0296,  ...,  0.0204,  0.0262, -0.0149]],\n",
            "       requires_grad=True), Parameter containing:\n",
            "tensor([-1.3084e-02, -1.6351e-02, -1.8115e-02, -1.8308e-02,  1.8701e-02,\n",
            "        -6.4020e-02, -1.2453e-02,  3.3499e-02, -5.5179e-02,  7.7381e-03,\n",
            "         6.4201e-02,  2.8405e-02,  3.3668e-03,  2.4089e-02,  6.2078e-02,\n",
            "         4.9850e-02, -2.7209e-02,  2.9486e-03,  3.4609e-03, -3.3985e-02,\n",
            "         2.0612e-03, -3.7169e-02, -6.8054e-02,  7.5370e-03, -2.1530e-02,\n",
            "        -1.7587e-02,  2.8642e-02,  1.7654e-02,  1.2166e-02,  2.9801e-02,\n",
            "         5.6833e-02, -1.0951e-02,  2.8536e-03, -7.5329e-02, -2.4755e-02,\n",
            "        -3.2904e-02, -3.1200e-02,  4.1863e-02, -2.1318e-02, -4.9234e-02,\n",
            "         1.8895e-02, -1.8612e-02,  2.0018e-02,  1.8670e-02, -7.1915e-02,\n",
            "        -3.3784e-02,  6.0273e-02, -1.1636e-02, -9.8558e-04, -7.4389e-03,\n",
            "        -3.8203e-03,  7.8962e-03,  3.2262e-02, -5.7483e-02,  2.4550e-02,\n",
            "        -2.3767e-02, -6.7727e-02,  1.4591e-02,  7.6855e-02, -2.8628e-03,\n",
            "         8.5898e-02,  3.4190e-02,  1.2021e-04, -3.9696e-02, -1.5883e-03,\n",
            "        -4.3629e-03,  4.5696e-02,  3.0338e-02, -1.8733e-05,  8.6345e-02,\n",
            "        -8.1844e-02, -1.7965e-02, -7.8074e-02,  2.9207e-02, -2.4251e-02,\n",
            "         4.6385e-02, -1.5531e-02, -9.2398e-02, -3.8303e-02,  4.5208e-02,\n",
            "         3.4717e-03,  3.6956e-02, -2.0687e-02,  4.1649e-02,  1.9665e-02,\n",
            "        -2.9344e-02, -9.5452e-03,  8.0105e-02,  3.2088e-02,  1.3577e-02,\n",
            "        -3.3206e-02,  3.1133e-02, -2.6640e-02, -9.6133e-02, -1.2709e-02,\n",
            "        -5.5717e-03,  4.3937e-02, -3.1494e-02,  5.6979e-02, -9.8705e-03,\n",
            "        -2.5648e-02,  1.0390e-02,  1.7622e-02,  2.6858e-02,  7.4811e-02,\n",
            "        -1.5795e-02,  4.0519e-04,  4.0775e-03, -1.9087e-02, -9.0565e-02,\n",
            "         1.1414e-02,  1.0572e-03, -2.9428e-02, -3.3625e-02,  3.4308e-02,\n",
            "         3.7195e-02,  3.1318e-02, -7.6953e-02, -2.6145e-02,  4.4538e-02,\n",
            "         1.4147e-02,  1.9062e-03,  3.2545e-03, -2.1980e-02, -3.8516e-03,\n",
            "         1.3023e-02,  2.0119e-02,  6.8183e-02,  4.6509e-03,  4.7121e-02,\n",
            "        -2.5011e-02, -7.1044e-04,  1.4480e-02,  1.7318e-02, -1.0512e-02,\n",
            "        -3.8402e-02,  1.7520e-02, -2.2473e-03,  1.1646e-02,  5.6760e-03,\n",
            "         3.4840e-02,  1.7580e-03, -5.6607e-03,  3.4351e-02,  1.2254e-02,\n",
            "         3.1275e-02,  1.6141e-02,  6.6686e-02, -3.1715e-03,  1.7418e-02,\n",
            "         1.0416e-02, -2.0252e-02,  3.5561e-02, -4.6502e-02,  5.6655e-02,\n",
            "         1.4047e-02,  5.6855e-02, -2.5348e-02,  5.3514e-02,  4.4482e-02,\n",
            "         2.6684e-04, -1.4866e-02,  1.7330e-02,  2.3707e-02,  9.1531e-02,\n",
            "         1.3882e-02,  3.3208e-02,  1.6811e-04,  4.8198e-02, -5.9166e-02,\n",
            "        -1.3212e-02, -8.4326e-02, -5.1793e-02, -9.0019e-02, -6.6980e-04,\n",
            "        -3.1284e-02, -3.9114e-02,  3.9663e-02,  1.0950e-02, -3.0121e-02,\n",
            "        -9.2052e-02, -2.3354e-02,  7.6897e-02,  4.6087e-02,  2.4919e-02,\n",
            "         5.3232e-02,  1.3370e-02,  2.9086e-02, -7.7039e-02,  5.8171e-02,\n",
            "        -4.6459e-04, -2.3158e-02,  4.3863e-02,  3.5482e-02, -4.7228e-02,\n",
            "        -9.4010e-03, -9.2694e-03, -1.4883e-02,  3.4161e-02,  1.1735e-02,\n",
            "        -3.2942e-02,  2.7979e-02, -2.3082e-02,  5.4121e-02,  5.5332e-04,\n",
            "         3.4885e-02,  1.7876e-03, -2.1459e-02,  7.6250e-02, -1.3115e-02,\n",
            "        -5.9501e-02,  4.5974e-02, -1.0483e-02,  3.9969e-03, -7.8517e-02,\n",
            "         3.1093e-02,  2.9006e-02, -5.7907e-02,  4.7781e-02,  5.5748e-02,\n",
            "        -3.0887e-02, -4.7564e-02, -4.8656e-02, -6.6568e-02,  1.5505e-02,\n",
            "         3.7883e-02, -3.7152e-02, -2.3465e-02, -8.6899e-03,  6.6274e-02,\n",
            "         2.3334e-02, -1.3313e-02, -4.9664e-03,  4.2609e-02,  9.4048e-03,\n",
            "         9.0227e-03, -1.3482e-02, -1.6699e-02, -8.6987e-02, -8.8403e-02,\n",
            "        -3.9142e-02, -1.9408e-02, -9.9940e-02, -1.4947e-02, -7.4637e-03,\n",
            "        -7.1219e-02,  1.7520e-02,  5.3496e-02,  6.1902e-02,  7.5047e-02,\n",
            "         4.0863e-02, -9.7928e-03,  5.4705e-02,  7.7502e-03, -1.8034e-02,\n",
            "        -6.8689e-04,  4.1307e-02, -2.4573e-02,  2.5267e-02, -2.3010e-02,\n",
            "        -4.2382e-02,  7.4503e-02,  6.6541e-02,  9.6525e-03, -2.9576e-03,\n",
            "         7.2966e-02, -3.7671e-02,  7.8803e-02, -4.0006e-02, -7.0381e-03,\n",
            "         1.4128e-02, -3.7660e-02, -3.4796e-02,  7.0267e-02, -3.4145e-02,\n",
            "         4.0266e-03,  5.1075e-02,  5.5735e-02, -6.7405e-02,  5.3983e-02,\n",
            "         1.3251e-02,  8.5610e-02,  8.1037e-02, -7.2253e-02, -8.1246e-03,\n",
            "        -3.1136e-02,  4.0679e-02, -9.4389e-03, -4.6909e-02,  8.8832e-02,\n",
            "        -2.7743e-02,  2.4501e-02, -1.0575e-02, -3.3780e-03,  3.5679e-02,\n",
            "        -2.2164e-02,  1.4882e-02,  4.7258e-02,  3.0764e-02,  1.1465e-02,\n",
            "        -3.6674e-02, -1.7506e-02,  6.3838e-03,  6.9340e-02,  4.4367e-02,\n",
            "         2.6313e-02,  4.0669e-03, -2.9247e-02,  2.0707e-02, -8.3876e-02,\n",
            "         2.9659e-02, -2.1796e-02, -3.5263e-02,  7.5614e-02, -5.6019e-02,\n",
            "        -6.1028e-02,  3.7095e-02, -5.8810e-02,  9.1194e-03,  2.0052e-02,\n",
            "         9.2578e-02,  7.6613e-02,  6.3305e-02, -1.9584e-02, -8.0126e-02,\n",
            "        -8.4714e-02,  2.1280e-02,  3.0216e-02,  3.5442e-02, -2.9600e-02,\n",
            "        -8.0263e-02,  1.9738e-02,  3.4594e-02,  4.4281e-03,  1.5661e-02,\n",
            "         1.5662e-02, -6.6922e-02, -2.7738e-02, -3.8778e-02, -3.7159e-02,\n",
            "         5.7976e-02, -4.1637e-02, -7.8079e-05, -6.8283e-03,  1.2782e-02,\n",
            "        -4.1816e-02,  9.6067e-03,  7.9898e-02,  2.6441e-03,  5.4703e-03,\n",
            "        -5.7163e-02,  1.2777e-02,  2.5451e-02, -3.0387e-03,  3.7904e-02,\n",
            "         4.6497e-02, -1.9526e-02,  6.7205e-02,  1.5743e-02,  5.2145e-02,\n",
            "        -3.0760e-02, -4.2509e-02,  6.5734e-02, -3.2679e-02, -1.8269e-02,\n",
            "         2.6541e-02,  2.9176e-02, -7.0556e-02, -2.1463e-02,  3.3423e-02,\n",
            "         1.1511e-04,  6.9511e-02,  1.3743e-02,  6.8940e-02,  9.3691e-03,\n",
            "        -8.1923e-02,  3.4683e-02,  2.1311e-02,  3.3131e-02,  1.0037e-02,\n",
            "         7.7730e-02,  3.6245e-02, -3.4179e-02, -7.4222e-02,  7.1699e-02,\n",
            "        -3.9335e-02, -1.4617e-02, -1.6827e-02,  8.2211e-03,  1.1108e-02,\n",
            "         4.3389e-02,  8.4778e-02, -1.6746e-02,  3.2339e-02, -1.3822e-03,\n",
            "         6.9160e-02,  1.1464e-02,  6.8375e-02,  2.5620e-02, -8.2329e-02,\n",
            "        -3.1637e-02,  8.6449e-02,  3.0597e-02,  2.1292e-02, -1.2945e-02,\n",
            "         1.9412e-02,  2.8568e-02,  4.8474e-02, -9.0360e-03, -3.6563e-02,\n",
            "        -7.8003e-03,  2.9480e-02,  2.1619e-02,  1.4555e-02,  2.3409e-02,\n",
            "        -3.5027e-02, -3.3922e-02,  2.7529e-02, -4.3218e-02, -2.1347e-02,\n",
            "         1.8972e-03,  2.9135e-02, -9.2513e-03, -3.5286e-02, -2.0758e-02,\n",
            "         5.3004e-02,  1.0609e-02,  3.2166e-02,  4.9139e-02, -1.5052e-02,\n",
            "         6.3859e-02,  2.7845e-03, -7.3584e-02,  5.9735e-02,  3.2816e-02,\n",
            "        -2.4292e-02,  2.3001e-02,  2.6806e-02,  5.7448e-02, -5.3999e-02,\n",
            "         2.8864e-02,  5.9328e-02,  2.1317e-02, -5.8440e-03, -4.1346e-02,\n",
            "        -3.1011e-03,  4.2508e-02, -3.5417e-02, -3.8036e-02,  8.4992e-03,\n",
            "         6.3962e-02, -1.4519e-02, -7.9336e-02,  1.7708e-03,  2.6853e-02,\n",
            "        -1.4581e-02, -1.8020e-02,  1.1917e-02], requires_grad=True), Parameter containing:\n",
            "tensor([[ 0.0285, -0.0215,  0.0317,  ..., -0.0277,  0.0334,  0.0225],\n",
            "        [-0.0377, -0.0068, -0.0369,  ..., -0.0351, -0.0150, -0.0007],\n",
            "        [-0.0321, -0.0120, -0.0371,  ...,  0.0131,  0.0234,  0.0010],\n",
            "        ...,\n",
            "        [ 0.0155, -0.0240, -0.0062,  ...,  0.0139,  0.0258,  0.0061],\n",
            "        [ 0.0319,  0.0380, -0.0381,  ...,  0.0051,  0.0108,  0.0565],\n",
            "        [-0.0375,  0.0290, -0.0483,  ..., -0.0178,  0.0037, -0.0060]],\n",
            "       requires_grad=True), Parameter containing:\n",
            "tensor([ 0.0003, -0.0480,  0.0150,  0.0542,  0.0630, -0.0026,  0.0185,  0.0879,\n",
            "         0.0328,  0.0236,  0.0044, -0.0385,  0.0088,  0.0578,  0.0380,  0.0198,\n",
            "        -0.0225,  0.0086,  0.0718,  0.0467,  0.0723,  0.0156,  0.0336,  0.0388,\n",
            "         0.0013,  0.0329, -0.0599,  0.0063,  0.0790, -0.0135,  0.0883, -0.0546,\n",
            "        -0.0191,  0.0553,  0.0666, -0.0409,  0.0612,  0.0199, -0.0180,  0.0071,\n",
            "        -0.0657, -0.0130,  0.0536,  0.0650,  0.1058, -0.1057,  0.0120,  0.0561,\n",
            "         0.0252, -0.0240,  0.0489,  0.0249, -0.0030,  0.0867, -0.0282, -0.0135,\n",
            "        -0.0494,  0.0360,  0.0170,  0.0535,  0.0047,  0.0447, -0.0090,  0.0006,\n",
            "         0.0122,  0.0217, -0.0153, -0.0059,  0.0350,  0.0003,  0.0119,  0.0031,\n",
            "         0.0364, -0.0463, -0.0251, -0.0302,  0.0326,  0.0534, -0.0027,  0.0328,\n",
            "         0.0638,  0.0068, -0.0146,  0.0627, -0.0121,  0.0118,  0.0333, -0.0230,\n",
            "         0.0280,  0.0789,  0.0300, -0.0537, -0.0046, -0.0238, -0.0298, -0.0224,\n",
            "         0.0461, -0.0273,  0.0428, -0.0237,  0.0089, -0.0319,  0.0438,  0.0193,\n",
            "         0.0110,  0.0037, -0.0646, -0.0964,  0.0489, -0.0280,  0.0047,  0.0363,\n",
            "         0.0378, -0.0364,  0.0397], requires_grad=True), Parameter containing:\n",
            "tensor([[ 0.0175, -0.0331, -0.0430,  0.0698, -0.0007, -0.0047, -0.0850,  0.0653,\n",
            "          0.0024,  0.0402, -0.0375, -0.0226,  0.0527, -0.0691,  0.0339, -0.0472,\n",
            "         -0.0639, -0.0471,  0.0127,  0.0590,  0.0306,  0.0750,  0.0767, -0.0534,\n",
            "          0.0879, -0.0768, -0.0541, -0.0253,  0.0664, -0.0653,  0.0776, -0.0118,\n",
            "          0.0176,  0.0771,  0.0796,  0.0346,  0.0181,  0.0784, -0.0004,  0.0715,\n",
            "         -0.0087,  0.0856,  0.0013,  0.0250,  0.0736, -0.0837,  0.0460,  0.0843,\n",
            "         -0.0732,  0.0611,  0.0371,  0.0442,  0.0860,  0.0058, -0.0652,  0.0383,\n",
            "         -0.0676, -0.0185, -0.0016,  0.0748, -0.0457,  0.0067, -0.0856, -0.0145,\n",
            "          0.0148, -0.0373,  0.0792,  0.0536, -0.0332,  0.0522, -0.0884, -0.0577,\n",
            "          0.0495, -0.0300,  0.0514, -0.0600,  0.0345,  0.0287,  0.0537,  0.0820,\n",
            "          0.0606, -0.0262, -0.0847,  0.0432, -0.0181, -0.0516, -0.0782,  0.0012,\n",
            "          0.0805,  0.0916, -0.0333, -0.0805,  0.0449, -0.0517, -0.0384, -0.0571,\n",
            "          0.0803, -0.0174,  0.0376,  0.0180,  0.0654,  0.0601,  0.0132,  0.0509,\n",
            "          0.0815, -0.0105, -0.0594, -0.0133,  0.0087, -0.0262, -0.0786,  0.0582,\n",
            "          0.0278, -0.0744, -0.0897]], requires_grad=True), Parameter containing:\n",
            "tensor([0.1323], requires_grad=True)]\n"
          ]
        }
      ],
      "source": [
        "print(list(net_loaded.parameters()))"
      ]
    },
    {
      "cell_type": "code",
      "execution_count": 112,
      "metadata": {
        "colab": {
          "base_uri": "https://localhost:8080/"
        },
        "id": "InGW0Xq6UZip",
        "outputId": "6c4a0e2c-b485-4362-b99d-7364dcf9443a"
      },
      "outputs": [
        {
          "name": "stdout",
          "output_type": "stream",
          "text": [
            "rho.shape:  torch.Size([20])\n",
            "epsilon.shape:  torch.Size([20])\n"
          ]
        },
        {
          "data": {
            "text/plain": [
              "tensor([[ 2.3655e+00,  3.2910e+01,  8.7566e+01,  4.4806e+01,  1.2292e+02,\n",
              "         -2.1264e+00, -6.5512e+00,  3.1174e+00,  1.0165e+00,  2.2507e-02,\n",
              "          3.8898e-03,  9.9498e-01,  8.9837e-02,  9.7209e-01],\n",
              "        [ 9.9512e-01,  2.3790e+02,  1.5329e+02,  2.2067e+02,  3.6739e+02,\n",
              "         -9.2877e+00,  6.3931e+00,  8.6765e+00,  9.6976e-01,  6.3057e-02,\n",
              "          3.1786e-02,  9.6718e-01,  6.1210e-02,  9.8719e-01],\n",
              "        [ 9.2811e-01,  1.8487e+02,  1.3076e+02,  4.5866e+01,  2.1819e+02,\n",
              "         -6.8862e+00,  1.0391e+01,  1.4990e-01,  1.0531e+00,  6.0279e-02,\n",
              "          1.7051e-02,  1.0460e+00,  3.5774e-02,  9.9851e-01],\n",
              "        [ 2.4111e+00,  2.3590e+02,  4.3520e+02,  1.8763e+02,  5.8501e+02,\n",
              "         -7.4553e+00, -3.3915e+00, -3.0095e+00,  9.5620e-01,  2.5712e-02,\n",
              "          6.7996e-02,  9.6795e-01,  7.9197e-03,  1.0215e+00],\n",
              "        [ 1.9562e-01, -9.4073e-01,  3.6798e+00,  3.6840e+00,  2.8709e+01,\n",
              "         -6.7065e+00, -2.3047e+00, -1.3197e+00,  9.4043e-01,  7.1521e-02,\n",
              "          5.8074e-02,  1.0953e+00,  4.4727e-02,  9.2587e-01],\n",
              "        [ 4.1523e+00, -7.1450e+00,  2.7563e+00,  2.1973e+01,  2.5639e+01,\n",
              "          2.9519e+00,  2.3850e+00,  2.9440e+00,  1.0505e+00,  6.0115e-02,\n",
              "          9.5431e-03,  1.0221e+00,  2.8205e-02,  9.2390e-01],\n",
              "        [ 1.1433e+00,  2.7716e+01,  3.1001e+01,  2.1230e+01,  8.6551e+01,\n",
              "          4.1489e+00, -3.1639e+00, -7.6805e+00,  9.1263e-01,  3.8517e-02,\n",
              "          3.6828e-02,  9.9238e-01,  4.7776e-02,  9.1281e-01],\n",
              "        [ 2.3172e+00,  3.0853e+02,  2.0251e+03,  2.0945e+03,  3.6968e+03,\n",
              "          9.5672e+00, -8.9287e+00,  8.3639e+00,  1.0796e+00,  2.1082e-02,\n",
              "          4.3701e-02,  9.7162e-01,  6.6245e-02,  9.4774e-01],\n",
              "        [ 2.4701e-01,  8.9153e+02,  2.1605e+03,  8.4718e+02,  2.4768e+03,\n",
              "          3.5765e+00, -7.2632e+00,  8.1975e+00,  9.5713e-01,  6.1691e-02,\n",
              "          6.4279e-02,  9.6144e-01,  3.3108e-02,  9.7134e-01],\n",
              "        [ 1.1442e+00,  3.7673e+01,  6.5577e+01,  8.0558e+01,  1.1175e+02,\n",
              "          9.6838e+00,  2.3168e+00, -6.3702e+00,  1.0183e+00,  9.5187e-02,\n",
              "          4.5047e-02,  1.0372e+00,  2.0543e-02,  9.1047e-01],\n",
              "        [ 9.9056e-01,  3.8616e+01,  1.3702e+01,  1.5068e+01,  4.7239e+01,\n",
              "         -3.6139e+00,  3.7607e+00,  6.1244e+00,  9.2495e-01,  7.9450e-02,\n",
              "          7.5547e-02,  9.1612e-01,  4.1909e-02,  9.1625e-01],\n",
              "        [ 4.4263e+00,  4.6314e+01,  1.0403e+02,  1.0998e+02,  1.4115e+02,\n",
              "         -2.0309e+00, -8.4556e+00,  8.5242e+00,  9.7875e-01,  5.9661e-02,\n",
              "          7.4492e-02,  1.0713e+00,  9.7726e-02,  1.0679e+00],\n",
              "        [ 3.1091e-01,  3.5114e+01,  2.7977e+01,  5.6882e+01,  9.0995e+01,\n",
              "          3.6636e+00, -4.8485e+00, -3.7640e+00,  1.0094e+00,  9.9103e-02,\n",
              "          1.4712e-03,  1.0550e+00,  4.2496e-02,  9.4444e-01],\n",
              "        [ 6.8416e+01,  1.3731e+03,  2.4871e+03,  6.3978e+02,  2.7445e+03,\n",
              "         -6.6983e+00,  2.3197e+00,  9.7637e+00,  9.8406e-01,  8.1096e-02,\n",
              "          5.2061e-03,  1.0127e+00,  8.0790e-03,  9.7861e-01],\n",
              "        [ 3.6311e+00,  1.5765e+01,  1.0133e+01,  4.1230e+00,  5.1236e+01,\n",
              "          8.5632e+00,  1.3353e+00,  8.7841e-02,  9.2884e-01,  6.8032e-02,\n",
              "          5.2524e-02,  1.0701e+00,  8.0959e-02,  9.9295e-01],\n",
              "        [ 2.5409e+00,  9.1080e+01,  4.6122e+01,  5.4448e+01,  1.1401e+02,\n",
              "          1.1331e-01, -2.1270e+00, -4.5652e+00,  9.8247e-01,  4.3420e-02,\n",
              "          8.5452e-02,  1.0470e+00,  9.6825e-02,  9.7633e-01],\n",
              "        [ 1.1988e-01, -1.0060e+01,  1.4179e+01, -1.6634e+00,  4.5577e+01,\n",
              "         -5.7533e+00, -5.5150e+00, -2.6224e+00,  9.0952e-01,  8.5430e-02,\n",
              "          5.6937e-02,  1.0917e+00,  9.6739e-02,  9.2846e-01],\n",
              "        [ 2.2391e+00,  1.2179e+02,  1.5308e+02,  1.0453e+02,  2.1771e+02,\n",
              "          5.8796e+00,  4.3072e-01, -8.8743e+00,  9.4813e-01,  7.0035e-02,\n",
              "          9.6019e-02,  1.0347e+00,  4.8910e-02,  1.0736e+00],\n",
              "        [ 1.9589e+00,  1.5502e+00,  3.2889e+00, -2.7546e+00,  5.5792e+01,\n",
              "          7.8125e+00,  1.9686e+00,  5.8626e+00,  1.0628e+00,  8.8596e-02,\n",
              "          8.0259e-02,  1.0653e+00,  5.6900e-02,  9.0372e-01],\n",
              "        [ 2.4928e-01, -7.1138e+00, -7.6270e-01,  9.5348e+00,  2.7849e+01,\n",
              "         -5.5742e+00, -4.6321e-01, -4.3373e+00,  1.0455e+00,  6.8727e-02,\n",
              "          1.7947e-02,  9.8010e-01,  5.9725e-02,  9.8606e-01]])"
            ]
          },
          "execution_count": 112,
          "metadata": {},
          "output_type": "execute_result"
        }
      ],
      "source": [
        "rho_example, epsilon_example, vx_example, vy_example, vz_example, Bx_example, By_example, Bz_example, gxx_example, gxy_example, gxz_example, gyy_example, gyz_example, gzz_example = generate_samples(20)\n",
        "\n",
        "inputs =  generate_input_data(rho_example, epsilon_example, vx_example, vy_example, vz_example, Bx_example, By_example, Bz_example, gxx_example, gxy_example, gxz_example, gyy_example, gyz_example, gzz_example)\n",
        "inputs\n"
      ]
    },
    {
      "cell_type": "code",
      "execution_count": 113,
      "metadata": {
        "colab": {
          "base_uri": "https://localhost:8080/"
        },
        "id": "QVa1upmFUZip",
        "outputId": "95a297df-88d8-4614-ffd7-ecc0cda58cf9"
      },
      "outputs": [
        {
          "data": {
            "text/plain": [
              "[tensor([[3.8745]], grad_fn=<ReluBackward0>),\n",
              " tensor([[0.]], grad_fn=<ReluBackward0>),\n",
              " tensor([[3.3582]], grad_fn=<ReluBackward0>),\n",
              " tensor([[9.1731]], grad_fn=<ReluBackward0>),\n",
              " tensor([[3.2990]], grad_fn=<ReluBackward0>),\n",
              " tensor([[3.0789]], grad_fn=<ReluBackward0>),\n",
              " tensor([[5.8642]], grad_fn=<ReluBackward0>),\n",
              " tensor([[140.0683]], grad_fn=<ReluBackward0>),\n",
              " tensor([[51.1445]], grad_fn=<ReluBackward0>),\n",
              " tensor([[0.4652]], grad_fn=<ReluBackward0>),\n",
              " tensor([[1.4382]], grad_fn=<ReluBackward0>),\n",
              " tensor([[0.7044]], grad_fn=<ReluBackward0>),\n",
              " tensor([[1.8498]], grad_fn=<ReluBackward0>),\n",
              " tensor([[80.4784]], grad_fn=<ReluBackward0>),\n",
              " tensor([[7.0256]], grad_fn=<ReluBackward0>),\n",
              " tensor([[0.]], grad_fn=<ReluBackward0>),\n",
              " tensor([[3.3780]], grad_fn=<ReluBackward0>),\n",
              " tensor([[0.]], grad_fn=<ReluBackward0>),\n",
              " tensor([[5.6199]], grad_fn=<ReluBackward0>),\n",
              " tensor([[1.9888]], grad_fn=<ReluBackward0>)]"
            ]
          },
          "execution_count": 113,
          "metadata": {},
          "output_type": "execute_result"
        }
      ],
      "source": [
        "#%%script echo skipping\n",
        "\n",
        "# Pass the inputs to the network and get the outputs\n",
        "outputs = [net(input.unsqueeze(0)) for input in inputs]\n",
        "# Print the outputs\n",
        "outputs"
      ]
    },
    {
      "cell_type": "code",
      "execution_count": 114,
      "metadata": {
        "colab": {
          "base_uri": "https://localhost:8080/"
        },
        "id": "E-Xjfo7VUZir",
        "outputId": "fb0478cb-bee3-429f-fdec-d99f11baf40f"
      },
      "outputs": [
        {
          "data": {
            "text/plain": [
              "[tensor([[3.8745]], grad_fn=<ReluBackward0>),\n",
              " tensor([[0.]], grad_fn=<ReluBackward0>),\n",
              " tensor([[3.3582]], grad_fn=<ReluBackward0>),\n",
              " tensor([[9.1731]], grad_fn=<ReluBackward0>),\n",
              " tensor([[3.2990]], grad_fn=<ReluBackward0>),\n",
              " tensor([[3.0789]], grad_fn=<ReluBackward0>),\n",
              " tensor([[5.8642]], grad_fn=<ReluBackward0>),\n",
              " tensor([[140.0683]], grad_fn=<ReluBackward0>),\n",
              " tensor([[51.1445]], grad_fn=<ReluBackward0>),\n",
              " tensor([[0.4652]], grad_fn=<ReluBackward0>),\n",
              " tensor([[1.4382]], grad_fn=<ReluBackward0>),\n",
              " tensor([[0.7044]], grad_fn=<ReluBackward0>),\n",
              " tensor([[1.8498]], grad_fn=<ReluBackward0>),\n",
              " tensor([[80.4784]], grad_fn=<ReluBackward0>),\n",
              " tensor([[7.0256]], grad_fn=<ReluBackward0>),\n",
              " tensor([[0.]], grad_fn=<ReluBackward0>),\n",
              " tensor([[3.3780]], grad_fn=<ReluBackward0>),\n",
              " tensor([[0.]], grad_fn=<ReluBackward0>),\n",
              " tensor([[5.6199]], grad_fn=<ReluBackward0>),\n",
              " tensor([[1.9888]], grad_fn=<ReluBackward0>)]"
            ]
          },
          "execution_count": 114,
          "metadata": {},
          "output_type": "execute_result"
        }
      ],
      "source": [
        "\n",
        "# Pass the inputs to the network and get the outputs\n",
        "outputs = [net_loaded(input.unsqueeze(0)) for input in inputs]\n",
        "# Print the outputs\n",
        "outputs"
      ]
    },
    {
      "attachments": {},
      "cell_type": "markdown",
      "metadata": {
        "id": "xjpIvdybUZis"
      },
      "source": [
        "## Porting the model to C++"
      ]
    },
    {
      "cell_type": "code",
      "execution_count": 115,
      "metadata": {
        "colab": {
          "base_uri": "https://localhost:8080/"
        },
        "id": "VMlEd4RoUZis",
        "outputId": "d5bfc697-8c96-47bb-a08c-6fb26f463797"
      },
      "outputs": [
        {
          "data": {
            "text/plain": [
              "Net(\n",
              "  (hidden_activation): ReLU()\n",
              "  (output_activation): ReLU()\n",
              "  (layers): ModuleList(\n",
              "    (0): Linear(in_features=14, out_features=555, bias=True)\n",
              "    (1): Linear(in_features=555, out_features=458, bias=True)\n",
              "    (2): Linear(in_features=458, out_features=115, bias=True)\n",
              "    (3): Linear(in_features=115, out_features=1, bias=True)\n",
              "  )\n",
              ")"
            ]
          },
          "execution_count": 115,
          "metadata": {},
          "output_type": "execute_result"
        },
        {
          "name": "stdout",
          "output_type": "stream",
          "text": [
            "rho.shape:  torch.Size([1])\n",
            "epsilon.shape:  torch.Size([1])\n",
            "input shape:  torch.Size([1, 14])\n",
            "input:  tensor([[ 1.1526e+00,  2.2835e+01,  1.5369e+02,  5.9499e+01,  1.7197e+02,\n",
            "          7.9798e+00,  2.7620e+00, -8.8384e+00,  1.0678e+00,  8.6875e-02,\n",
            "          2.7193e-02,  9.9629e-01,  6.8212e-02,  9.7945e-01]])\n",
            "Output: tensor([[8.6450]], grad_fn=<ReluBackward0>)\n"
          ]
        },
        {
          "name": "stderr",
          "output_type": "stream",
          "text": [
            "/tmp/ipykernel_986771/439735149.py:53: TracerWarning: Converting a tensor to a Python boolean might cause the trace to be incorrect. We can't record the data flow of Python values, so this value will be treated as a constant in the future. This means that the trace might not generalize to other inputs!\n",
            "  assert x.shape[1] == N_INPUTS, f\"x must have shape (batch_size, {N_INPUTS})\"\n"
          ]
        }
      ],
      "source": [
        "import torch.jit\n",
        "\n",
        "# Creating a dummy input tensor of shape (1, 5) to trace the model\n",
        "dummy_input = torch.randn(1, N_INPUTS).to(device)\n",
        "\n",
        "# Ensure that net_loaded is in evaluation mode.\n",
        "net_loaded.eval()\n",
        "\n",
        "# Tracing the model using the torch.jit.trace function\n",
        "traced_model = torch.jit.trace(net_loaded, dummy_input)\n",
        "\n",
        "# Saving the traced model to a file named \"net.pt\"\n",
        "traced_model.save(\"net.pt\")\n",
        "save_file(\"net.pt\")\n",
        "\n",
        "example_input_to_validate_correct_export_and_import = generate_input_data(*generate_samples(1))\n",
        "print(\"input shape: \", example_input_to_validate_correct_export_and_import.shape)\n",
        "print(\"input: \", example_input_to_validate_correct_export_and_import)\n",
        "print(\"Output:\", net_loaded(example_input_to_validate_correct_export_and_import))"
      ]
    },
    {
      "cell_type": "code",
      "execution_count": null,
      "metadata": {},
      "outputs": [],
      "source": []
    }
  ],
  "metadata": {
    "accelerator": "GPU",
    "colab": {
      "gpuType": "T4",
      "provenance": [],
      "toc_visible": true
    },
    "gpuClass": "standard",
    "kernelspec": {
      "display_name": "bsc",
      "language": "python",
      "name": "python3"
    },
    "language_info": {
      "codemirror_mode": {
        "name": "ipython",
        "version": 3
      },
      "file_extension": ".py",
      "mimetype": "text/x-python",
      "name": "python",
      "nbconvert_exporter": "python",
      "pygments_lexer": "ipython3",
      "version": "3.11.3"
    },
    "orig_nbformat": 4
  },
  "nbformat": 4,
  "nbformat_minor": 0
}
