{
  "cells": [
    {
      "attachments": {},
      "cell_type": "markdown",
      "metadata": {
        "id": "TPvB1xoSUZhR"
      },
      "source": [
        "# Neural network to learn conservative-to-primitive conversion in relativistic hydrodynamics"
      ]
    },
    {
      "attachments": {},
      "cell_type": "markdown",
      "metadata": {},
      "source": [
        "## How to use this notebook\n",
        "\n",
        "### Local installation\n",
        "\n",
        "1. Install required packages with `pip install -r requirements.txt` to your desired environment.\n",
        "2. If a script version of this notebook is desired, comment (not uncomment) the first line of `nbconvert` cell.\n",
        "\n",
        "### Colab installation\n",
        "\n",
        "1.  Comment (not uncomment) the first line of the drive mounting cell.\n",
        "2.  Comment (not uncomment) the first line of the `pip install` cell.\n",
        "\n",
        "<!-- - For colab we also want to set the runtime to GPU by clicking _Change runtime_ in the _Runtime_ menu, and -->\n",
        "<!-- - We want to wait for the google drive connection popup to appear and follow the instructions. -->\n",
        "\n",
        "### Loading / Generating data\n",
        "3. Set `LOAD_DATA_FROM_CSV` to `True` / `False` to load data from csv files / generate data in this notebook.\n",
        "\n",
        "### Training without optimization\n",
        "\n",
        "4. Set `OPTIMIZE = False` in section _Constants and flags to set_.\n",
        "5. Run the entire notebook.\n",
        "\n",
        "### Training with optimization\n",
        "\n",
        "4. Set `OPTIMIZE = True` in section _Constants and flags to set_.\n",
        "5. Run the entire notebook.\n",
        "\n",
        "### Loading an already trained model\n",
        "\n",
        "4. Run cells in section _Initialization_.\n",
        "5. Run cells with definitions in section _Input data and labels_.\n",
        "6. Run cell with the definition of _Net_ in section _Defining the neural network_.\n",
        "7. Make sure the `net.pth`, `optimizer.pth`, `scheduler.pth`, `var_dict.json` and `train_output.csv` files are in the directory containing this notebook.\n",
        "8. Run the cells in section _Loading_ and continue from there.\n",
        "\n",
        "### Generating the C++ model\n",
        "\n",
        "9. Run section _Porting the model to C++_, this requires a model to be loaded.\n",
        "10. Set the path to the `net.pt` file in the C++ source file.\n",
        "11. `mkdir build && cd build`,\n",
        "12. Configure a `CMakeLists.txt` file as is done [here](https://pytorch.org/cppdocs/installing.html).\n",
        "13. `cmake -DCMAKE_PREFIX_PATH=/path/to/libtorch/ ..`,\n",
        "14. Compile and run, e.g. `cmake --build . --config release && ./<executable name>`"
      ]
    },
    {
      "attachments": {},
      "cell_type": "markdown",
      "metadata": {},
      "source": [
        "## Initialization"
      ]
    },
    {
      "attachments": {},
      "cell_type": "markdown",
      "metadata": {},
      "source": [
        "\n",
        "Use this first cell to **convert this notebook** to a python script."
      ]
    },
    {
      "cell_type": "code",
      "execution_count": 41,
      "metadata": {
        "colab": {
          "base_uri": "https://localhost:8080/"
        },
        "id": "eqdgdNLHUZhV",
        "outputId": "30907b9d-56c3-44d7-cd43-6387a991a46a",
        "tags": [
          "remove_cell"
        ]
      },
      "outputs": [
        {
          "name": "stdout",
          "output_type": "stream",
          "text": [
            "skipping\n"
          ]
        }
      ],
      "source": [
        "%%script echo skipping\n",
        "\n",
        "!jupyter nbconvert pt1_before_restructuring.ipynb --TagRemovePreprocessor.enabled=True --TagRemovePreprocessor.remove_cell_tags='{\"remove_cell\"}' --to script"
      ]
    },
    {
      "attachments": {},
      "cell_type": "markdown",
      "metadata": {
        "id": "nzcUr0LnUZhw"
      },
      "source": [
        "Next some cells for working on **google colab**,"
      ]
    },
    {
      "cell_type": "code",
      "execution_count": 42,
      "metadata": {},
      "outputs": [],
      "source": [
        "import os\n",
        "import shutil\n",
        "\n",
        "# check if the drive is mounted\n",
        "drive_mounted = os.path.exists(\"/content/drive\")\n",
        "# change this to your desired folder\n",
        "drive_folder = \"/content/drive/My Drive/bsc/con2prim_GRMHD\"\n",
        "\n",
        "# define a function to save a file to the drive or the current directory\n",
        "def save_file(file_name):\n",
        "  if drive_mounted:\n",
        "    # save the file to the drive folder\n",
        "    file_path = os.path.join(drive_folder, file_name)\n",
        "    # copy the file from the current directory to the drive folder\n",
        "    shutil.copyfile(file_name, file_path)\n",
        "  else:\n",
        "    # do nothing as the file is already in the current directory\n",
        "    pass\n"
      ]
    },
    {
      "cell_type": "code",
      "execution_count": 43,
      "metadata": {
        "colab": {
          "base_uri": "https://localhost:8080/"
        },
        "id": "ecHw2_xlUZhx",
        "outputId": "462a57cd-ee19-4961-d3aa-ff2407b2bde0"
      },
      "outputs": [
        {
          "name": "stdout",
          "output_type": "stream",
          "text": [
            "skipping\n"
          ]
        }
      ],
      "source": [
        "%%script echo skipping\n",
        "\n",
        "from google.colab import drive\n",
        "drive.mount('/content/drive')"
      ]
    },
    {
      "cell_type": "code",
      "execution_count": 44,
      "metadata": {
        "colab": {
          "base_uri": "https://localhost:8080/"
        },
        "id": "T1rcStMLUZhy",
        "outputId": "7ea7311f-f054-4a29-d0ff-12849095ab6e"
      },
      "outputs": [
        {
          "name": "stdout",
          "output_type": "stream",
          "text": [
            "skipping\n"
          ]
        }
      ],
      "source": [
        "%%script echo skipping\n",
        "\n",
        "!pip install optuna tensorboard tensorboardX"
      ]
    },
    {
      "attachments": {},
      "cell_type": "markdown",
      "metadata": {},
      "source": [
        "Importing the **libraries**,"
      ]
    },
    {
      "cell_type": "code",
      "execution_count": 45,
      "metadata": {
        "id": "tREdWQUVUZhz"
      },
      "outputs": [],
      "source": [
        "import numpy as np\n",
        "import matplotlib.pyplot as plt\n",
        "import torch\n",
        "import torch.nn as nn\n",
        "import torch.optim as optim\n",
        "import torch.nn.functional as F\n",
        "import optuna\n",
        "import tensorboardX as tbx\n",
        "import pandas as pd"
      ]
    },
    {
      "attachments": {},
      "cell_type": "markdown",
      "metadata": {
        "id": "38GvmerjUZhz"
      },
      "source": [
        "### Constants and flags to set\n",
        "Defining some constants and parameters for convenience.\n",
        "\n",
        "**NOTE**: Some **subparameters** still need to be adjusted in the `create_model` function itself as of (Tue May 16 07:42:45 AM CEST 2023) in the case the model is being trained without optimization."
      ]
    },
    {
      "cell_type": "code",
      "execution_count": 46,
      "metadata": {
        "id": "ei6VZDYKUZh0"
      },
      "outputs": [],
      "source": [
        "\n",
        "# Checking if GPU is available and setting the device accordingly\n",
        "device = torch.device(\"cuda\" if torch.cuda.is_available() else \"cpu\")\n",
        "\n",
        "N_TRIALS = 1 # Number of trials for hyperparameter optimization # NOTE: Set this properly.\n",
        "OPTIMIZE = False # Whether to optimize the hyperparameters or to use predetermined values. # NOTE: Set this properly.\n",
        "ZSCORE_NORMALIZATION = False # Whether to z-score normalize the input data.\n",
        "LOAD_DATA_FROM_CSV = False  # If not true we generate the data in this file and save to {x_train,y_train,x_test,y_test}.csv, otherwise we load the data from files of the same name. # NOTE: Set this before properly.\n",
        "\n",
        "csv_filenames = { # File names to load input data and labels from if LOAD_DATA_FROM_CSV is True.\n",
        "    \"x_train\": \"x_train.csv\",\n",
        "    \"x_val\": \"x_val.csv\",\n",
        "    \"x_test\": \"x_test.csv\",\n",
        "    \"y_train\": \"y_train.csv\",\n",
        "    \"y_val\": \"y_val.csv\",\n",
        "    \"y_test\": \"y_test.csv\",\n",
        "}\n",
        "\n",
        "# Values to use for hyperparameters if OPTIMIZE is False; set these to the best parameters found by Optuna.\n",
        "# NOTE: TODO: Currently (Sat May 27 05:16:57 PM CEST 2023) there are still subparameters to be set in create_model function.\n",
        "N_LAYERS_NO_OPT = 3\n",
        "N_UNITS_NO_OPT = [555, 458, 115]\n",
        "HIDDEN_ACTIVATION_NAME_NO_OPT = \"LeakyReLU\"\n",
        "OUTPUT_ACTIVATION_NAME_NO_OPT = \"Linear\"\n",
        "LOSS_NAME_NO_OPT = \"Huber\"\n",
        "OPTIMIZER_NAME_NO_OPT = \"RMSprop\"\n",
        "LR_NO_OPT = 0.000122770896701404\n",
        "BATCH_SIZE_NO_OPT = 49\n",
        "N_EPOCHS_NO_OPT = 5 # NOTE: Set this properly.\n",
        "SCHEDULER_NAME_NO_OPT = \"ReduceLROnPlateau\"\n",
        "DROPOUT_RATE_NO_OPT = 0.2\n",
        "\n",
        "N_INPUTS = 14  # Number of input features.\n",
        "N_OUTPUTS = 1  # Number of outputs.\n",
        "Gamma = 5/3  # Adiabatic index\n",
        "\n",
        "n_samples = 100000 # NOTE: Set this properly.\n",
        "train_frac = 0.7  # 70% of data for training\n",
        "val_frac = 0.1  # 10% of data for validation, rest for testing\n",
        "\n",
        "rho_interval = (0, 2) \n",
        "epsilon_interval = (1e-2, 2000)  # Will be sampled in log space\n",
        "vx_interval = (0, 0.999)  \n",
        "vy_interval = (0, 0.999)  \n",
        "vz_interval = (0, 0.999)  \n",
        "Bx_interval = (-10, 10)  \n",
        "By_interval = (-10, 10)  \n",
        "Bz_interval = (-10, 10)  \n",
        "gxx_interval = (0.9, 1.1)\n",
        "gxy_interval = (0, 0.1)\n",
        "gxz_interval = (0, 0.1)\n",
        "gyy_interval = (0.9, 1.1)\n",
        "gyz_interval = (0, 0.1)\n",
        "gzz_interval = (0.9, 1.1)\n",
        "\n",
        "np.random.seed(57) # Comment for true random data.\n"
      ]
    },
    {
      "attachments": {},
      "cell_type": "markdown",
      "metadata": {
        "id": "dlaP5UL2UZh1"
      },
      "source": [
        "## Input data and labels\n",
        "\n",
        "We either generate the data or load the data. First the definitions for generating the data come below."
      ]
    },
    {
      "cell_type": "code",
      "execution_count": 47,
      "metadata": {
        "id": "s_EvGFZcUZh1"
      },
      "outputs": [],
      "source": [
        "# Defining an analytic equation of state (EOS) for an ideal gas\n",
        "def eos_analytic(rho, epsilon):\n",
        "    # Adding some assertions to check that the input tensors are valid and have \n",
        "    # the expected shape and type \n",
        "    assert isinstance(rho, torch.Tensor), \"rho must be a torch.Tensor\"\n",
        "    assert isinstance(epsilon, torch.Tensor), \"epsilon must be a torch.Tensor\"\n",
        "    print('rho.shape: ', rho.shape)\n",
        "    print('epsilon.shape: ', epsilon.shape)\n",
        "    assert rho.shape == epsilon.shape, \"rho and epsilon must have the same shape\"\n",
        "    assert rho.ndim == 1, \"rho and epsilon must be one-dimensional tensors\"\n",
        "    assert rho.dtype == torch.float32, \"rho and epsilon must have dtype torch.float32\"\n",
        "\n",
        "    return (Gamma - 1) * rho * epsilon\n",
        "\n",
        "def sample_primitive_variables_and_metric():\n",
        "    rho = np.random.uniform(*rho_interval)  \n",
        "    epsilon = np.random.uniform(*np.log10(epsilon_interval))\n",
        "    vx = np.random.uniform(*vx_interval)  \n",
        "    vy = np.random.uniform(*vy_interval)  \n",
        "    vz = np.random.uniform(*vz_interval)  \n",
        "    Bx = np.random.uniform(*Bx_interval)  \n",
        "    By = np.random.uniform(*By_interval)  \n",
        "    Bz = np.random.uniform(*Bz_interval)  \n",
        "    gxx = np.random.uniform(*gxx_interval)\n",
        "    gxy = np.random.uniform(*gxy_interval)\n",
        "    gxz = np.random.uniform(*gxz_interval)\n",
        "    gyy = np.random.uniform(*gyy_interval)\n",
        "    gyz = np.random.uniform(*gyz_interval)\n",
        "    gzz = np.random.uniform(*gzz_interval)\n",
        "\n",
        "    return rho, epsilon, vx, vy, vz, Bx, By, Bz, gxx, gxy, gxz, gyy, gyz, gzz\n",
        "\n",
        "def check_sample(rho, epsilon, vx, vy, vz, Bx, By, Bz, gxx, gxy, gxz, gyy, gyz, gzz):\n",
        "    wtemp_expr = 1 - (gxx * vx**2 + gyy * vy**2 + gzz * vz**2 + 2 * gxy * vx * vy + 2 * gxz * vx * vz + 2 * gyz * vy * vz)\n",
        "    sdet_expr = gxx * gyy * gzz + 2 * gxy * gxz * gyz - gxx * gyz ** 2 - gyy * gxz ** 2 - gzz * gxy ** 2\n",
        "    if vx**2 + vy**2 + vz**2 >= 1 or wtemp_expr < 0 or sdet_expr < 0:\n",
        "        # print(f\"Sample failed checks. vx^2+vy^2+vz^2: {vx**2 + vy**2 + vz**2}, wtemp_expr: {wtemp_expr}, sdet_expr: {sdet_expr}\")\n",
        "        return False\n",
        "    else:\n",
        "        # print(f\"Sample passed checks. vx^2+vy^2+vz^2: {vx**2 + vy**2 + vz**2}, wtemp_expr: {wtemp_expr}, sdet_expr: {sdet_expr}\")\n",
        "        return True\n",
        "\n",
        "def generate_samples(n_samples):\n",
        "    samples = []\n",
        "    while len(samples) < n_samples:\n",
        "        sample = sample_primitive_variables_and_metric()\n",
        "        if check_sample(*sample):\n",
        "            samples.append(sample)\n",
        "        # print(f\"Number of valid samples: {len(samples)}\")\n",
        "    return zip(*samples)\n",
        "def sdet(gxx, gxy, gxz, gyy, gyz, gzz):\n",
        "    # Determinant of the three metric.\n",
        "    return (gxx * gyy * gzz + 2 * gxy * gxz * gyz - gxx * gyz ** 2 - gyy * gxz ** 2 - gzz * gxy ** 2) ** 0.5\n",
        "\n",
        "# Defining a function that computes conserved variables from primitive variables and the metric\n",
        "# We follow the source code of GRaM-X: A new GPU-accelerated dynamical spacetime GRMHD code for Exascale\n",
        "# computing with the Einstein Toolkit of Shankar et al.\n",
        "def compute_conserved_variables(rho, epsilon, vx, vy, vz, Bx, By, Bz, gxx, gxy, gxz, gyy, gyz, gzz):\n",
        "    pres = eos_analytic(rho, epsilon)\n",
        "    wtemp = 1 / (1 - (gxx * vx**2 + gyy * vy**2 + gzz * vz**2 +\n",
        "        2 * gxy * vx * vy + 2 * gxz * vx * vz +\n",
        "        2 * gyz * vy * vz))**0.5\n",
        "\n",
        "    vlowx = gxx * vx + gxy * vy + gxz * vz\n",
        "    vlowy = gxy * vx + gyy * vy + gyz * vz\n",
        "    vlowz = gxz * vx + gyz * vy + gzz * vz\n",
        "\n",
        "    Bxlow = gxx * Bx + gxy * By + gxz * Bz\n",
        "    Bylow = gxy * Bx + gyy * By + gyz * Bz\n",
        "    Bzlow = gxz * Bx + gyz * By + gzz * Bz\n",
        "\n",
        "    B2 = Bxlow * Bx + Bylow * By + Bzlow * Bz\n",
        "\n",
        "    Bdotv = Bxlow * vx + Bylow * vy + Bzlow * vz\n",
        "    Bdotv2 = Bdotv * Bdotv\n",
        "    wtemp2 = wtemp * wtemp\n",
        "    b2 = B2 / wtemp2 + Bdotv2\n",
        "    ab0 = wtemp * Bdotv\n",
        "\n",
        "    blowx = (gxx * Bx + gxy * By + gxz * Bz) / wtemp + wtemp * Bdotv * vlowx\n",
        "    blowy = (gxy * Bx + gyy * By + gyz * Bz) / wtemp + wtemp * Bdotv * vlowy\n",
        "    blowz = (gxz * Bx + gyz * By + gzz * Bz) / wtemp + wtemp * Bdotv * vlowz\n",
        "\n",
        "    hrhow2 = (rho * (1 + epsilon) + pres + b2) * (wtemp) * (wtemp)\n",
        "\n",
        "    D = sdet(gxx, gxy, gxz, gyy, gyz, gzz) * rho * (wtemp)\n",
        "    Sx = sdet(gxx, gxy, gxz, gyy, gyz, gzz) * (hrhow2 * vlowx - ab0 * blowx)\n",
        "    Sy = sdet(gxx, gxy, gxz, gyy, gyz, gzz) * (hrhow2 * vlowy - ab0 * blowy)\n",
        "    Sz = sdet(gxx, gxy, gxz, gyy, gyz, gzz) * (hrhow2 * vlowz - ab0 * blowz)\n",
        "    tau = sdet(gxx, gxy, gxz, gyy, gyz, gzz) * (hrhow2 - pres - b2 / 2 - ab0 * ab0) - D\n",
        "    Bconsx = sdet(gxx, gxy, gxz, gyy, gyz, gzz) * Bx\n",
        "    Bconsy = sdet(gxx, gxy, gxz, gyy, gyz, gzz) * By\n",
        "    Bconsz = sdet(gxx, gxy, gxz, gyy, gyz, gzz) * Bz\n",
        "\n",
        "    return D, Sx, Sy, Sz, tau, Bconsx, Bconsy, Bconsz\n",
        "\n",
        "def generate_input_data(rho, epsilon, vx, vy, vz, Bx, By, Bz, gxx, gxy, gxz, gyy, gyz, gzz):\n",
        "    rho = torch.tensor(np.array(rho), dtype=torch.float32).to(device)\n",
        "    epsilon = torch.tensor(np.array(epsilon), dtype=torch.float32).to(device)\n",
        "    vx = torch.tensor(np.array(vx), dtype=torch.float32).to(device)\n",
        "    vy = torch.tensor(np.array(vy), dtype=torch.float32).to(device)\n",
        "    vz = torch.tensor(np.array(vz), dtype=torch.float32).to(device)\n",
        "    Bx = torch.tensor(np.array(Bx), dtype=torch.float32).to(device)\n",
        "    By = torch.tensor(np.array(By), dtype=torch.float32).to(device)\n",
        "    Bz = torch.tensor(np.array(Bz), dtype=torch.float32).to(device)\n",
        "    gxx = torch.tensor(np.array(gxx), dtype=torch.float32).to(device)\n",
        "    gxy = torch.tensor(np.array(gxy), dtype=torch.float32).to(device)\n",
        "    gxz = torch.tensor(np.array(gxz), dtype=torch.float32).to(device)\n",
        "    gyy = torch.tensor(np.array(gyy), dtype=torch.float32).to(device)\n",
        "    gyz = torch.tensor(np.array(gyz), dtype=torch.float32).to(device)\n",
        "    gzz = torch.tensor(np.array(gzz), dtype=torch.float32).to(device)\n",
        "\n",
        "    D, Sx, Sy, Sz, tau, Bscriptx, Bscripty, Bscriptz = compute_conserved_variables(\n",
        "        rho, epsilon, vx, vy, vz, Bx, By, Bz, gxx, gxy, gxz, gyy, gyz, gzz\n",
        "    ) \n",
        "\n",
        "    # Add gxx, gxy, gxz, gyy, gyz, gzz to the tensor\n",
        "    x = torch.stack([D, Sx, Sy, Sz, tau, Bscriptx, Bscripty, Bscriptz, gxx, gxy, gxz, gyy, gyz, gzz], axis=1)\n",
        "    return x\n",
        "\n",
        "# Defining a function that generates output data (labels) from given samples of primitive variables\n",
        "# We use the definitions as given in Recovery schemes for primitive variables in\n",
        "# general-relativistic magnetohydrodynamics of Siegel et al.\n",
        "def generate_labels(rho, epsilon, vx, vy, vz):\n",
        "    # Converting the numpy arrays to torch tensors and moving them to the device\n",
        "    rho = torch.tensor(np.array(rho), dtype=torch.float32).to(device)\n",
        "    epsilon = torch.tensor(np.array(epsilon), dtype=torch.float32).to(device)\n",
        "    vx = torch.tensor(np.array(vx), dtype=torch.float32).to(device)\n",
        "    vy = torch.tensor(np.array(vy), dtype=torch.float32).to(device)\n",
        "    vz = torch.tensor(np.array(vz), dtype=torch.float32).to(device)\n",
        "\n",
        "    # Computing the required quantities\n",
        "    pres = eos_analytic(rho, epsilon)\n",
        "    h = 1 + epsilon + pres / rho\n",
        "    W = 1 / torch.sqrt(1 - (vx * vx + vy * vy + vz * vz))\n",
        "\n",
        "    # Returning the output data tensor\n",
        "    return h * W"
      ]
    },
    {
      "attachments": {},
      "cell_type": "markdown",
      "metadata": {},
      "source": [
        "### Generating or loading input data and labels"
      ]
    },
    {
      "cell_type": "code",
      "execution_count": null,
      "metadata": {},
      "outputs": [],
      "source": [
        "%config InteractiveShell.ast_node_interactivity = \"all\""
      ]
    },
    {
      "cell_type": "code",
      "execution_count": 48,
      "metadata": {
        "id": "cKubR6C8UZh4"
      },
      "outputs": [],
      "source": [
        "if LOAD_DATA_FROM_CSV:\n",
        "    # Load the data from CSV files\n",
        "    x_train = pd.read_csv(csv_filenames[\"x_train\"]).values\n",
        "    y_train = pd.read_csv(csv_filenames[\"y_train\"]).values.squeeze()  # reshape to 1D\n",
        "    x_val = pd.read_csv(csv_filenames[\"x_val\"]).values\n",
        "    y_val = pd.read_csv(csv_filenames[\"y_val\"]).values.squeeze()  # reshape to 1D\n",
        "    x_test = pd.read_csv(csv_filenames[\"x_test\"]).values\n",
        "    y_test = pd.read_csv(csv_filenames[\"y_test\"]).values.squeeze()  # reshape to 1D\n",
        "\n",
        "    # Convert numpy arrays to tensors\n",
        "    x_train = torch.from_numpy(x_train).float().to(device)\n",
        "    y_train = torch.from_numpy(y_train).float().to(device)\n",
        "    x_val = torch.from_numpy(x_val).float().to(device)\n",
        "    y_val = torch.from_numpy(y_val).float().to(device)\n",
        "    x_test = torch.from_numpy(x_test).float().to(device)\n",
        "    y_test = torch.from_numpy(y_test).float().to(device)\n",
        "\n",
        "    # This is an alternative to having if clauses around the cells that visualize these variables.\n",
        "    rho = epsilon = vx = vy = vz = Bx = By = Bz = gxx = gxy = gxz = gyy = gyz  = gzz = None"
      ]
    },
    {
      "cell_type": "code",
      "execution_count": 49,
      "metadata": {},
      "outputs": [],
      "source": [
        "if not LOAD_DATA_FROM_CSV:\n",
        "    # Sample primitive variables and metric\n",
        "    rho, epsilon, vx, vy, vz, Bx, By, Bz, gxx, gxy, gxz, gyy, gyz, gzz = generate_samples(n_samples)"
      ]
    },
    {
      "cell_type": "code",
      "execution_count": 50,
      "metadata": {},
      "outputs": [
        {
          "name": "stdout",
          "output_type": "stream",
          "text": [
            "rho.shape:  torch.Size([100000])\n",
            "epsilon.shape:  torch.Size([100000])\n",
            "rho.shape:  torch.Size([100000])\n",
            "epsilon.shape:  torch.Size([100000])\n"
          ]
        }
      ],
      "source": [
        "if not LOAD_DATA_FROM_CSV:\n",
        "    # Generate data and labels.\n",
        "    x = generate_input_data(rho, epsilon, vx, vy, vz, Bx, By, Bz, gxx, gxy, gxz, gyy, gyz, gzz)\n",
        "    y = generate_labels(rho, epsilon, vx, vy, vz)\n",
        "\n",
        "    # Calculate the number of samples in each set\n",
        "    n_train_samples = int(n_samples * train_frac)\n",
        "    n_val_samples = int(n_samples * val_frac)\n",
        "\n",
        "    # Create the data sets\n",
        "    x_train = x[:n_train_samples]\n",
        "    y_train = y[:n_train_samples]\n",
        "    x_val = x[n_train_samples : n_train_samples + n_val_samples]\n",
        "    y_val = y[n_train_samples : n_train_samples + n_val_samples]\n",
        "    x_test = x[n_train_samples + n_val_samples :]\n",
        "    y_test = y[n_train_samples + n_val_samples :]\n",
        "\n",
        "    # Save the data to CSV files; tensors need to be converted numpy arrays for saving in CSV.\n",
        "    pd.DataFrame(x_train.cpu().numpy()).to_csv(csv_filenames[\"x_train\"], index=False)\n",
        "    save_file(csv_filenames[\"x_train\"])\n",
        "    pd.DataFrame(y_train.cpu().numpy()).to_csv(csv_filenames[\"y_train\"], index=False)\n",
        "    save_file(csv_filenames[\"y_train\"])\n",
        "\n",
        "    pd.DataFrame(x_val.cpu().numpy()).to_csv(csv_filenames[\"x_val\"], index=False)\n",
        "    save_file(csv_filenames[\"x_val\"])\n",
        "    pd.DataFrame(y_val.cpu().numpy()).to_csv(csv_filenames[\"y_val\"], index=False)\n",
        "    save_file(csv_filenames[\"y_val\"])\n",
        "\n",
        "    pd.DataFrame(x_test.cpu().numpy()).to_csv(csv_filenames[\"x_test\"], index=False)\n",
        "    save_file(csv_filenames[\"x_test\"])\n",
        "    pd.DataFrame(y_test.cpu().numpy()).to_csv(csv_filenames[\"y_test\"], index=False)\n",
        "    save_file(csv_filenames[\"y_test\"])"
      ]
    },
    {
      "cell_type": "code",
      "execution_count": 51,
      "metadata": {},
      "outputs": [
        {
          "data": {
            "text/plain": [
              "torch.Size([70000, 14])"
            ]
          },
          "execution_count": 51,
          "metadata": {},
          "output_type": "execute_result"
        },
        {
          "data": {
            "text/plain": [
              "torch.Size([70000])"
            ]
          },
          "execution_count": 51,
          "metadata": {},
          "output_type": "execute_result"
        },
        {
          "data": {
            "text/plain": [
              "torch.Size([10000, 14])"
            ]
          },
          "execution_count": 51,
          "metadata": {},
          "output_type": "execute_result"
        },
        {
          "data": {
            "text/plain": [
              "torch.Size([10000])"
            ]
          },
          "execution_count": 51,
          "metadata": {},
          "output_type": "execute_result"
        },
        {
          "data": {
            "text/plain": [
              "torch.Size([20000, 14])"
            ]
          },
          "execution_count": 51,
          "metadata": {},
          "output_type": "execute_result"
        },
        {
          "data": {
            "text/plain": [
              "torch.Size([20000])"
            ]
          },
          "execution_count": 51,
          "metadata": {},
          "output_type": "execute_result"
        },
        {
          "data": {
            "text/plain": [
              "tensor([[ 3.2729e+00,  2.8203e+01,  2.8523e+01,  ...,  9.1802e-01,\n",
              "          8.3422e-02,  9.1924e-01],\n",
              "        [ 7.3703e+00,  9.5228e+01,  1.4343e+01,  ...,  1.0126e+00,\n",
              "          7.4572e-02,  1.0459e+00],\n",
              "        [ 9.2182e-01,  2.5809e+01,  1.9099e+01,  ...,  9.6548e-01,\n",
              "          8.4871e-02,  1.0747e+00],\n",
              "        ...,\n",
              "        [ 2.4129e+00,  6.8178e+01,  6.0398e+01,  ...,  9.7203e-01,\n",
              "          4.6175e-02,  9.2388e-01],\n",
              "        [ 1.4688e+00,  1.6873e+01, -2.0590e+00,  ...,  1.0835e+00,\n",
              "          5.6878e-02,  9.6335e-01],\n",
              "        [ 2.9655e-01, -1.1136e+01,  8.2929e+00,  ...,  9.7181e-01,\n",
              "          3.0024e-02,  9.7604e-01]])"
            ]
          },
          "execution_count": 51,
          "metadata": {},
          "output_type": "execute_result"
        },
        {
          "data": {
            "text/plain": [
              "tensor([ 0.9893, 20.4825, -4.6202,  ..., -6.2094,  9.4459, -1.9473])"
            ]
          },
          "execution_count": 51,
          "metadata": {},
          "output_type": "execute_result"
        },
        {
          "data": {
            "text/plain": [
              "tensor([[ 1.9624e+00,  1.5626e+01,  9.7768e+00,  ...,  1.0596e+00,\n",
              "          2.3751e-03,  1.0842e+00],\n",
              "        [ 1.8548e+00,  7.6641e+01,  1.7813e+01,  ...,  9.0092e-01,\n",
              "          6.6160e-02,  9.7113e-01],\n",
              "        [ 1.3489e+00,  6.8161e-01,  3.2145e+01,  ...,  9.1080e-01,\n",
              "          4.6946e-02,  9.7323e-01],\n",
              "        ...,\n",
              "        [ 1.1827e+00, -1.1503e+01,  4.7026e+01,  ...,  1.0666e+00,\n",
              "          8.6605e-02,  9.3473e-01],\n",
              "        [ 2.8824e+00,  9.9552e+01,  8.1456e+01,  ...,  9.8924e-01,\n",
              "          7.7395e-02,  1.0498e+00],\n",
              "        [ 1.5728e+00,  1.2926e+01,  1.3178e+01,  ...,  1.0487e+00,\n",
              "          9.1721e-02,  9.7512e-01]])"
            ]
          },
          "execution_count": 51,
          "metadata": {},
          "output_type": "execute_result"
        },
        {
          "data": {
            "text/plain": [
              "tensor([-1.5406,  0.4554,  6.1481,  ...,  4.5406,  2.5726, 14.6135])"
            ]
          },
          "execution_count": 51,
          "metadata": {},
          "output_type": "execute_result"
        },
        {
          "data": {
            "text/plain": [
              "tensor([[ 1.0361e+00, -1.0293e+01,  6.8639e+00,  ...,  1.0265e+00,\n",
              "          4.1090e-02,  9.5681e-01],\n",
              "        [ 1.4694e-01,  7.4018e+00,  3.2563e+00,  ...,  1.0563e+00,\n",
              "          4.6669e-02,  1.0304e+00],\n",
              "        [ 2.5266e+00,  1.8131e+00,  2.0599e+00,  ...,  9.0569e-01,\n",
              "          7.3311e-02,  9.2663e-01],\n",
              "        ...,\n",
              "        [ 2.3173e+00,  3.0939e+00,  3.2375e+01,  ...,  9.3800e-01,\n",
              "          2.3811e-02,  1.0052e+00],\n",
              "        [ 7.9819e+00,  1.7150e+02,  2.7628e+02,  ...,  1.0842e+00,\n",
              "          2.8221e-02,  1.0262e+00],\n",
              "        [ 1.5583e+00, -3.9590e+00,  1.3058e+01,  ...,  1.0567e+00,\n",
              "          4.2956e-02,  9.1756e-01]])"
            ]
          },
          "execution_count": 51,
          "metadata": {},
          "output_type": "execute_result"
        },
        {
          "data": {
            "text/plain": [
              "tensor([-2.0286,  8.8505, -0.9447,  ...,  7.4673, 14.3897, -0.9091])"
            ]
          },
          "execution_count": 51,
          "metadata": {},
          "output_type": "execute_result"
        }
      ],
      "source": [
        "\n",
        "x_train.shape\n",
        "y_train.shape\n",
        "x_val.shape\n",
        "y_val.shape\n",
        "x_test.shape\n",
        "y_test.shape\n",
        "x_train\n",
        "y_train\n",
        "x_val\n",
        "y_val\n",
        "x_test\n",
        "y_test"
      ]
    },
    {
      "cell_type": "code",
      "execution_count": 52,
      "metadata": {},
      "outputs": [
        {
          "data": {
            "text/plain": [
              "tensor(False)"
            ]
          },
          "execution_count": 52,
          "metadata": {},
          "output_type": "execute_result"
        },
        {
          "data": {
            "text/plain": [
              "tensor(False)"
            ]
          },
          "execution_count": 52,
          "metadata": {},
          "output_type": "execute_result"
        },
        {
          "data": {
            "text/plain": [
              "tensor(False)"
            ]
          },
          "execution_count": 52,
          "metadata": {},
          "output_type": "execute_result"
        },
        {
          "data": {
            "text/plain": [
              "tensor(False)"
            ]
          },
          "execution_count": 52,
          "metadata": {},
          "output_type": "execute_result"
        },
        {
          "data": {
            "text/plain": [
              "tensor(False)"
            ]
          },
          "execution_count": 52,
          "metadata": {},
          "output_type": "execute_result"
        },
        {
          "data": {
            "text/plain": [
              "tensor(False)"
            ]
          },
          "execution_count": 52,
          "metadata": {},
          "output_type": "execute_result"
        }
      ],
      "source": [
        "torch.isnan(x_train).any()\n",
        "torch.isnan(x_val).any()\n",
        "torch.isnan(x_test).any()\n",
        "torch.isnan(y_train).any()\n",
        "torch.isnan(y_val).any()\n",
        "torch.isnan(y_test).any()"
      ]
    },
    {
      "cell_type": "code",
      "execution_count": 53,
      "metadata": {},
      "outputs": [
        {
          "data": {
            "text/plain": [
              "(tensor([], dtype=torch.int64), tensor([], dtype=torch.int64))"
            ]
          },
          "execution_count": 53,
          "metadata": {},
          "output_type": "execute_result"
        },
        {
          "data": {
            "text/plain": [
              "(tensor([], dtype=torch.int64), tensor([], dtype=torch.int64))"
            ]
          },
          "execution_count": 53,
          "metadata": {},
          "output_type": "execute_result"
        },
        {
          "data": {
            "text/plain": [
              "(tensor([], dtype=torch.int64), tensor([], dtype=torch.int64))"
            ]
          },
          "execution_count": 53,
          "metadata": {},
          "output_type": "execute_result"
        }
      ],
      "source": [
        "nan_mask_train = torch.isnan(x_train)     # get a boolean mask indicating NaN values\n",
        "nan_indices_train = torch.where(nan_mask_train)  # get the indices of the NaN values\n",
        "nan_indices_train\n",
        "# len(nan_indices_train)\n",
        "\n",
        "nan_mask_val = torch.isnan(x_val)     # get a boolean mask indicating NaN values\n",
        "nan_indices_val = torch.where(nan_mask_val)  # get the indices of the NaN values\n",
        "nan_indices_val\n",
        "# len(nan_indices_test)\n",
        "\n",
        "nan_mask_test = torch.isnan(x_test)     # get a boolean mask indicating NaN values\n",
        "nan_indices_test = torch.where(nan_mask_test)  # get the indices of the NaN values\n",
        "nan_indices_test\n",
        "# len(nan_indices_test)"
      ]
    },
    {
      "attachments": {},
      "cell_type": "markdown",
      "metadata": {},
      "source": [
        "## Visualizing the data"
      ]
    },
    {
      "attachments": {},
      "cell_type": "markdown",
      "metadata": {},
      "source": [
        "### Visualizing sampled data"
      ]
    },
    {
      "cell_type": "code",
      "execution_count": 54,
      "metadata": {},
      "outputs": [
        {
          "name": "stdout",
          "output_type": "stream",
          "text": [
            "skipping\n"
          ]
        }
      ],
      "source": [
        "%%script echo skipping\n",
        "\n",
        "if not LOAD_DATA_FROM_CSV:\n",
        "    rho\n",
        "    epsilon\n",
        "    vx\n",
        "    vy\n",
        "    vz \n",
        "    Bx\n",
        "    By\n",
        "    Bz\n",
        "    gxx\n",
        "    gxy\n",
        "    gxz\n",
        "    gyy\n",
        "    gyz\n",
        "    gzz "
      ]
    },
    {
      "cell_type": "code",
      "execution_count": 55,
      "metadata": {},
      "outputs": [
        {
          "name": "stdout",
          "output_type": "stream",
          "text": [
            "100000\n",
            "100000\n",
            "100000\n",
            "100000\n",
            "100000\n",
            "100000\n",
            "100000\n",
            "100000\n",
            "\n",
            "100000\n",
            "100000\n",
            "100000\n",
            "100000\n",
            "100000\n",
            "100000\n"
          ]
        }
      ],
      "source": [
        "if not LOAD_DATA_FROM_CSV:\n",
        "    print(len(rho))\n",
        "    print(len(epsilon))\n",
        "    print(len(vx))\n",
        "    print(len(vy))\n",
        "    print(len(vz))\n",
        "    print(len(Bx))\n",
        "    print(len(By))\n",
        "    print(len(Bz))\n",
        "    print()\n",
        "    print(len(gxx))\n",
        "    print(len(gxy))\n",
        "    print(len(gxz))\n",
        "    print(len(gyy))\n",
        "    print(len(gyz))\n",
        "    print(len(gzz))"
      ]
    },
    {
      "cell_type": "code",
      "execution_count": 56,
      "metadata": {
        "id": "VMp6XJ6RUZh4"
      },
      "outputs": [],
      "source": [
        "%config InteractiveShell.ast_node_interactivity = \"last_expr_or_assign\""
      ]
    },
    {
      "cell_type": "code",
      "execution_count": 57,
      "metadata": {},
      "outputs": [
        {
          "name": "stdout",
          "output_type": "stream",
          "text": [
            "skipping\n"
          ]
        }
      ],
      "source": [
        "%%script echo skipping\n",
        "\n",
        "plt.hist([np.random.uniform(0, 0.999) for _ in range(n_train_samples)], bins=20)"
      ]
    },
    {
      "cell_type": "code",
      "execution_count": 58,
      "metadata": {},
      "outputs": [
        {
          "data": {
            "text/plain": [
              "(-0.23257157693402397,\n",
              " 0.9129371250722893,\n",
              " -1.991293396146662,\n",
              " -1.9076898419445532,\n",
              " 1.6196880693592295,\n",
              " 0.026477432945644086,\n",
              " 1.540288625114469,\n",
              " 0.1267101557440622,\n",
              " 2.5410331941940285,\n",
              " 2.770619404772032,\n",
              " -1.9498322289117167,\n",
              " 2.8010588064947415,\n",
              " -0.45538540603729194,\n",
              " 1.0777525632835143,\n",
              " 2.987336245603708,\n",
              " 0.6886981176026099,\n",
              " 2.7430047090931504,\n",
              " -0.9260578500892003,\n",
              " -1.8159406513368883,\n",
              " 1.498609001434133,\n",
              " 1.5976456199632056,\n",
              " 3.2076621831570087,\n",
              " 1.8635043008734304,\n",
              " -0.6235768452536699,\n",
              " 2.2548381328311864,\n",
              " -1.1821094598742548,\n",
              " 1.2418652652100564,\n",
              " 0.7019138551091917,\n",
              " -1.6747580181654946,\n",
              " 0.20170781069944743,\n",
              " 2.4944538769633224,\n",
              " 2.5460444695421813,\n",
              " -0.582978302102245,\n",
              " -0.7762313660131155,\n",
              " 2.715457666159087,\n",
              " -1.2234467940595146,\n",
              " -1.0687302424263034,\n",
              " -0.488897184645523,\n",
              " -1.033065914426249,\n",
              " -0.5788645120788314,\n",
              " 1.2658595459000677,\n",
              " -0.11592082747603816,\n",
              " 2.0421880184504415,\n",
              " -0.21604432489626824,\n",
              " -0.7738955039202875,\n",
              " 0.9224047286990014,\n",
              " 2.421123876268492,\n",
              " 0.6553553744400622,\n",
              " 0.41003738414212965,\n",
              " -1.3525027649631978,\n",
              " 0.7790936132897297,\n",
              " 1.088798460964556,\n",
              " 3.2552375838579897,\n",
              " -1.303507231357409,\n",
              " 1.8625174799387425,\n",
              " 0.1256069109389384,\n",
              " 3.1299951317708734,\n",
              " 3.18597960321645,\n",
              " 0.8371196099105958,\n",
              " 1.5131095706560371,\n",
              " -0.020144762677515526,\n",
              " 0.0590212580709788,\n",
              " 1.9586352762894985,\n",
              " 1.2901449233407125,\n",
              " -0.9832692666277767,\n",
              " 2.57772127485445,\n",
              " 3.044669854730067,\n",
              " 1.0436305137953519,\n",
              " 0.01828442142137021,\n",
              " 2.2836061869706343,\n",
              " 2.8652893711489016,\n",
              " 2.606191114866908,\n",
              " 0.2072939534401228,\n",
              " 1.494143207045501,\n",
              " -0.7498724764664848,\n",
              " -1.272404862611976,\n",
              " 2.0863001320912016,\n",
              " 1.4285632183841441,\n",
              " -1.9678671974305655,\n",
              " -0.9993884190474689,\n",
              " 2.800349449523903,\n",
              " -1.3317170793892692,\n",
              " 2.78628997476,\n",
              " -1.3433399122528678,\n",
              " 2.4000604297389607,\n",
              " 2.155021050377207,\n",
              " -0.5156438095830385,\n",
              " -0.7744503741512108,\n",
              " -1.5044693108720073,\n",
              " 2.8976138747603057,\n",
              " 1.4605637731120198,\n",
              " 1.5598638840742232,\n",
              " 2.2249231439692823,\n",
              " 0.9598869906975533,\n",
              " -0.9479215192863777,\n",
              " -0.6570007174196679,\n",
              " 0.5072668130063631,\n",
              " 0.8849539306765992,\n",
              " 2.3621773896978873,\n",
              " 2.969085995754666,\n",
              " 2.72311423154812,\n",
              " 1.480765233217174,\n",
              " -0.5076691031252047,\n",
              " -0.5820503785590778,\n",
              " 2.110878851015518,\n",
              " 2.6552296248692677,\n",
              " 0.47511902762513447,\n",
              " -1.0987403146075991,\n",
              " -0.5507853148470658,\n",
              " -0.6227602457663384,\n",
              " -0.3808479110783216,\n",
              " 1.5249576879282642,\n",
              " -0.5034320619561057,\n",
              " 1.8936260233934763,\n",
              " -0.5259971799971301,\n",
              " -1.569966112824477,\n",
              " 2.3826002503936765,\n",
              " 0.43465201925064223,\n",
              " -1.4383365905287246,\n",
              " 0.6548984662257267,\n",
              " 0.8454363187699863,\n",
              " 2.9655431070240663,\n",
              " 2.2437203795373852,\n",
              " 1.4611758636163663,\n",
              " 1.271795142857456,\n",
              " -1.0121764774710609,\n",
              " -0.9557249095994855,\n",
              " 3.1022940302434856,\n",
              " 1.233008270499234,\n",
              " 2.1709105215821385,\n",
              " -1.1226571602757947,\n",
              " 2.3871721835987776,\n",
              " 3.1386147619467915,\n",
              " 1.9352697193582689,\n",
              " 0.2477278225806998,\n",
              " 0.5578335302625552,\n",
              " 2.2287362897409624,\n",
              " -1.682647886223549,\n",
              " 1.8110469955574766,\n",
              " -1.7216753041518917,\n",
              " -1.3398821003812218,\n",
              " -0.07645279440969821,\n",
              " 0.19640716727432306,\n",
              " 0.7188198424956109,\n",
              " 2.8656629422556703,\n",
              " -0.18982778465719852,\n",
              " 0.845175749320703,\n",
              " 1.9520882994639668,\n",
              " 2.3861242183522897,\n",
              " 0.237058723153464,\n",
              " 2.8547757907693363,\n",
              " 2.8652349649805817,\n",
              " -0.3768294025913457,\n",
              " -1.696218641074907,\n",
              " 0.08518719684572673,\n",
              " 0.34779311906177,\n",
              " -1.6806000556062537,\n",
              " -0.10713372283277933,\n",
              " -0.06528682190795343,\n",
              " 2.915500637600009,\n",
              " -1.6579966766884857,\n",
              " -1.8475993440438825,\n",
              " -0.3609260692548746,\n",
              " 1.3954105346049297,\n",
              " -1.7381540816834387,\n",
              " 1.383486121885388,\n",
              " -1.5668139422415444,\n",
              " -1.3503283267155815,\n",
              " 2.0313785545611696,\n",
              " 3.2879759390072305,\n",
              " 0.1723737618374379,\n",
              " 1.378900927934847,\n",
              " 0.40674069733426377,\n",
              " 1.620540883752986,\n",
              " 0.628140723425016,\n",
              " 0.8753598595293526,\n",
              " -1.1383299099839879,\n",
              " 3.0932088523667653,\n",
              " -1.2979774750898603,\n",
              " -0.3697641125269169,\n",
              " 2.365657346883845,\n",
              " 0.05393937833481477,\n",
              " 0.8051099344149755,\n",
              " -1.291590330498067,\n",
              " -0.30196257982882324,\n",
              " 3.0750045275765086,\n",
              " 3.0980808431695515,\n",
              " 0.9219838456127225,\n",
              " 1.1279192535656684,\n",
              " 1.0168616966335846,\n",
              " 2.7331805315015822,\n",
              " 1.763418205956714,\n",
              " 3.2971603689013698,\n",
              " -1.4185745839190558,\n",
              " 1.3187876614048415,\n",
              " 1.4602753862456352,\n",
              " 1.105369481764635,\n",
              " 0.5138421203315793,\n",
              " 1.2636687831299045,\n",
              " 1.2279153719451288,\n",
              " 1.860480631364482,\n",
              " 0.4638909913674607,\n",
              " 2.2444486766249945,\n",
              " -0.9333864678789641,\n",
              " -0.34594546802003445,\n",
              " 2.8520278881919863,\n",
              " 1.096385786896842,\n",
              " -0.8779757339284773,\n",
              " -0.276479567054289,\n",
              " 0.9362628528209211,\n",
              " 0.28708098829361806,\n",
              " -1.5339562703029852,\n",
              " 2.3037988301282795,\n",
              " 2.8468441808784295,\n",
              " 1.2944168131248368,\n",
              " -1.84527010920557,\n",
              " 1.3468388198366874,\n",
              " -0.06532973735577063,\n",
              " -0.0757984751242804,\n",
              " -0.6064375332372993,\n",
              " -0.09085663810914912,\n",
              " 0.18521289848866296,\n",
              " 0.14389892513405433,\n",
              " 1.897971882360364,\n",
              " -1.0932427743700455,\n",
              " 1.3856142293299256,\n",
              " 1.490906579708795,\n",
              " 1.411146345551979,\n",
              " -1.8900833830859252,\n",
              " -1.0570915067400672,\n",
              " 0.6760437680346079,\n",
              " 1.5320350070632327,\n",
              " -0.20503614632254274,\n",
              " 0.14083099599252158,\n",
              " 1.0572887720738966,\n",
              " 2.908042176271544,\n",
              " 0.10700081296306996,\n",
              " 0.2900385668209813,\n",
              " -1.2743197614562711,\n",
              " -1.0843381563594763,\n",
              " -1.6106056202761685,\n",
              " -0.06197707745101666,\n",
              " 2.883275721814668,\n",
              " -1.2071136612104651,\n",
              " -1.9625783717422014,\n",
              " 0.5515690471830106,\n",
              " -1.3366980189065911,\n",
              " -0.8743813241909388,\n",
              " 1.1411684548472172,\n",
              " -1.9102487160328492,\n",
              " -0.1515761922072396,\n",
              " 0.6078525127866055,\n",
              " -0.9204766029695894,\n",
              " -1.4621705691955729,\n",
              " 2.1638197695141708,\n",
              " -0.8915162397554321,\n",
              " 1.0466734795123993,\n",
              " -0.42650091506054877,\n",
              " 2.672749470535429,\n",
              " 0.78201606991512,\n",
              " -1.2328725518423498,\n",
              " -0.5110434573195748,\n",
              " 1.221753151046721,\n",
              " 1.3094108649475777,\n",
              " 0.18310027516762917,\n",
              " 3.129703518847222,\n",
              " 1.1243369363296338,\n",
              " 2.7976694587612805,\n",
              " 0.751347054842622,\n",
              " 3.0143440174302185,\n",
              " 1.843483543365434,\n",
              " 1.9377883656868655,\n",
              " 1.4213229452107004,\n",
              " -1.9148276636535522,\n",
              " 2.7634437008255306,\n",
              " -1.6205458149009917,\n",
              " 2.2524687919166917,\n",
              " 1.717407000576118,\n",
              " -0.3569162828429613,\n",
              " 0.8266295259634977,\n",
              " 1.5316650774495777,\n",
              " -1.5770134551793995,\n",
              " -0.7491568902525378,\n",
              " 1.1047147439637777,\n",
              " 0.48690083834180076,\n",
              " -0.6535410384224793,\n",
              " -0.19005955568553445,\n",
              " -0.9840240145618679,\n",
              " -0.21467678514854316,\n",
              " 1.7979913915138797,\n",
              " 1.1585627349552907,\n",
              " -1.510475965917798,\n",
              " 0.7939738796457361,\n",
              " 1.5032670815680795,\n",
              " 0.4713554356335319,\n",
              " 0.36984239930308194,\n",
              " 0.4714160581487392,\n",
              " -1.0040015105614666,\n",
              " -1.2194433097327564,\n",
              " 2.8629921265986846,\n",
              " 0.7259520516636062,\n",
              " -0.8122316964084442,\n",
              " 0.27217594964012504,\n",
              " 1.7484912729595172,\n",
              " 1.9440778507202991,\n",
              " 2.9401989012325007,\n",
              " 1.7839227915348568,\n",
              " 0.11442470902295421,\n",
              " 0.09935775595028051,\n",
              " 2.7694300184013825,\n",
              " -0.9235699525583787,\n",
              " 2.1480016475485026,\n",
              " 2.81464183006882,\n",
              " 1.9268228008162231,\n",
              " -1.3246349840084193,\n",
              " 3.067072646016432,\n",
              " -1.688290895365462,\n",
              " -0.1869831328266809,\n",
              " 0.8210685581096708,\n",
              " -0.42213139706523983,\n",
              " 1.89603205678792,\n",
              " -1.015736690292095,\n",
              " -0.26066776838600814,\n",
              " 1.4114386270732506,\n",
              " 0.6879721796503113,\n",
              " -1.221725225280177,\n",
              " -0.8943664232859414,\n",
              " 0.6851171538761447,\n",
              " -1.574572039909522,\n",
              " 2.010471568645592,\n",
              " -0.9927665218674837,\n",
              " 0.83563043767619,\n",
              " 2.1426217042465954,\n",
              " -1.8310441981037384,\n",
              " 2.4946988619364507,\n",
              " 0.6330003556973809,\n",
              " 2.596732825665126,\n",
              " -0.8316574054448451,\n",
              " 3.0432789683738033,\n",
              " -0.8835194565436473,\n",
              " 2.578099790849622,\n",
              " 2.3803504824841015,\n",
              " -1.417079417489481,\n",
              " 1.1637549296344383,\n",
              " 0.18889529188925058,\n",
              " 0.4159647907904258,\n",
              " 1.070180601118405,\n",
              " 1.8391263177597033,\n",
              " 2.731235012273471,\n",
              " -0.6646390466777923,\n",
              " 1.7521793488252744,\n",
              " 2.385655275712395,\n",
              " -1.8659185335024457,\n",
              " 2.003612153225446,\n",
              " 0.10475367118007162,\n",
              " -1.8022844444231865,\n",
              " -1.376725381436514,\n",
              " 2.1111690291033094,\n",
              " 2.952904931665346,\n",
              " 2.255657009505149,\n",
              " -1.01131097726193,\n",
              " -1.1489501035958,\n",
              " 2.3169276754765686,\n",
              " -1.185788183542327,\n",
              " -1.416196992220939,\n",
              " 0.5338475480919724,\n",
              " 1.4678479913181977,\n",
              " 2.829835282600083,\n",
              " -1.1768669532257523,\n",
              " 1.0106676706487376,\n",
              " 1.8034736234567719,\n",
              " 3.0879006417942696,\n",
              " 3.0666184176268683,\n",
              " 1.616253236399718,\n",
              " 1.8678089292081803,\n",
              " 1.6676482484994994,\n",
              " 2.142680420233174,\n",
              " 0.07263386019011442,\n",
              " 1.8649335584706939,\n",
              " -1.609719668672053,\n",
              " 0.7894199613639619,\n",
              " -0.9173238906075438,\n",
              " -0.45804988095548715,\n",
              " 1.8689741406637452,\n",
              " 0.24365887942282383,\n",
              " 0.1123559633354545,\n",
              " 2.0835421688636195,\n",
              " -0.8861272202618451,\n",
              " 2.945786885921306,\n",
              " -1.0669882705019853,\n",
              " 1.1083200099049177,\n",
              " -1.980425393791336,\n",
              " -0.7400351220605894,\n",
              " 2.9101393854036663,\n",
              " 2.682360006229736,\n",
              " 2.5473959008066585,\n",
              " -1.293957579402536,\n",
              " 0.4647524742136948,\n",
              " 2.1885859372500747,\n",
              " -1.7272648437927967,\n",
              " 2.3886620080473753,\n",
              " -0.07070092440692743,\n",
              " -0.3097020638074668,\n",
              " -0.3295178650691526,\n",
              " -0.6574604009570397,\n",
              " 1.9695726978203827,\n",
              " -0.001611434844666526,\n",
              " 0.4222619171865345,\n",
              " 1.7760332527547726,\n",
              " 3.0304528524082004,\n",
              " 3.1215889909523113,\n",
              " 2.233643911220481,\n",
              " -1.2914410779312395,\n",
              " 3.052277573323747,\n",
              " 0.6972068135788629,\n",
              " 2.3829840912849543,\n",
              " -0.37511683236823257,\n",
              " 2.561964070087381,\n",
              " -1.553786273623928,\n",
              " -0.7820312943019445,\n",
              " -1.8290751045545375,\n",
              " 1.906503162173264,\n",
              " 2.2330712071874395,\n",
              " -1.3348697236202947,\n",
              " -0.7710799422378265,\n",
              " 1.9088782687161174,\n",
              " -1.0355675524084145,\n",
              " -1.2140232135452238,\n",
              " 0.2420879902403703,\n",
              " 3.2193207539656212,\n",
              " 0.32587638035234345,\n",
              " 2.730150688580509,\n",
              " 2.6625697996639266,\n",
              " 2.686870280334425,\n",
              " 0.3251196185161378,\n",
              " 0.6141724726599338,\n",
              " -0.19977219245921018,\n",
              " 0.5564070992921133,\n",
              " -0.7490303885341114,\n",
              " 1.7601720525453195,\n",
              " 0.01985509893979609,\n",
              " 0.3039165594562565,\n",
              " 0.11870388980947855,\n",
              " -1.323091590433708,\n",
              " 0.0796825581360956,\n",
              " -0.12091523065345022,\n",
              " -1.976475939576814,\n",
              " -1.445826819827373,\n",
              " 0.8431214638654851,\n",
              " -0.7951360637115659,\n",
              " 0.8647284064339846,\n",
              " 3.1761319810963347,\n",
              " 3.0150594958542083,\n",
              " 3.272217307749549,\n",
              " -1.454253714701765,\n",
              " 3.15861947760638,\n",
              " 0.38398622673344285,\n",
              " 1.9044896894998065,\n",
              " 2.491006254819511,\n",
              " -1.737938696562619,\n",
              " 0.8675423750133588,\n",
              " 1.3358442578738767,\n",
              " 2.322066850438401,\n",
              " 1.013581928454761,\n",
              " -1.0583304949835095,\n",
              " -0.5653722601169235,\n",
              " 1.4129842576000127,\n",
              " -0.8913690530771945,\n",
              " 3.140341178345726,\n",
              " -1.9174919925923537,\n",
              " -0.6181046619510984,\n",
              " 0.18793291594535244,\n",
              " 2.8264998484950565,\n",
              " -1.094686646959106,\n",
              " 1.2552869243752074,\n",
              " 2.6026037427522066,\n",
              " -0.48355613759814586,\n",
              " 2.409301704990857,\n",
              " 3.203473175829286,\n",
              " 0.789107957273468,\n",
              " 1.163815931108196,\n",
              " 2.9644403956704197,\n",
              " 2.3238775053974443,\n",
              " 2.955675837780201,\n",
              " -0.770069718170673,\n",
              " -1.6549725965409023,\n",
              " -0.6850740919263123,\n",
              " -0.25385666718236055,\n",
              " 1.551956605213947,\n",
              " 1.155017984909942,\n",
              " -1.7371774517261014,\n",
              " 0.8491966399271056,\n",
              " 2.6808548136035766,\n",
              " 1.2356475460429426,\n",
              " 3.0116744005890714,\n",
              " 2.588602243580092,\n",
              " 1.7020686215316965,\n",
              " -0.26392260236840936,\n",
              " 2.691997201667129,\n",
              " 0.8344009003946389,\n",
              " 0.4628812450174551,\n",
              " 2.535419639922469,\n",
              " -0.5088116733908117,\n",
              " 2.179166786361283,\n",
              " 0.1409385164009973,\n",
              " -1.8125689346252163,\n",
              " 2.179194152205419,\n",
              " -1.3822507245608555,\n",
              " 2.868799687778499,\n",
              " 1.5855280232118236,\n",
              " 0.1345058184154997,\n",
              " 2.275278316540259,\n",
              " 2.874518581043178,\n",
              " 1.7808194328065787,\n",
              " -0.9294605930764583,\n",
              " -0.3023254848753032,\n",
              " 0.34613250607533574,\n",
              " -0.34227648533164445,\n",
              " 0.6675937800711376,\n",
              " -0.4376080280590602,\n",
              " 0.6394528507591657,\n",
              " 2.5407242853153713,\n",
              " 0.3505386733449085,\n",
              " 1.7122209666069876,\n",
              " -1.3866534897199558,\n",
              " -1.1336523441606488,\n",
              " 0.8594204501491403,\n",
              " -0.6150653148686187,\n",
              " 0.1489030875276658,\n",
              " 0.5237104920309967,\n",
              " 2.157390558782314,\n",
              " 1.7814183296892052,\n",
              " -1.6031134604098671,\n",
              " 1.9829085146752385,\n",
              " 0.1531492825027807,\n",
              " -1.7793098601552861,\n",
              " -1.88748707324993,\n",
              " -0.7516244017057452,\n",
              " 0.9153819476548213,\n",
              " -0.11323801798005673,\n",
              " 2.064504398770576,\n",
              " 0.7854758209927266,\n",
              " 2.9733759121662953,\n",
              " -1.3757254955329574,\n",
              " 0.6885789895361851,\n",
              " 1.2705230907256855,\n",
              " 2.7149751839534737,\n",
              " 1.9317141142462373,\n",
              " -1.3132521769163543,\n",
              " -0.35880604634722,\n",
              " 0.6708955579538092,\n",
              " -1.576043713469634,\n",
              " 1.0408367403089134,\n",
              " -0.35980123841196043,\n",
              " 3.1026163624469074,\n",
              " 0.6338568394911404,\n",
              " -1.5355782603773132,\n",
              " 1.190388371797059,\n",
              " -1.1262606507523545,\n",
              " 0.8297483944623889,\n",
              " 2.399501023857316,\n",
              " 1.4590756706439483,\n",
              " -1.8134522762267937,\n",
              " -0.5059848751768914,\n",
              " 2.2066989940462385,\n",
              " 0.9756195441202733,\n",
              " 1.833232185345719,\n",
              " 1.7253186279250463,\n",
              " 0.7097920754931906,\n",
              " 0.35790487274067884,\n",
              " -1.4158864354961227,\n",
              " 0.4729067374790854,\n",
              " 0.44209177882255135,\n",
              " 1.2367688799066063,\n",
              " -0.253400938476249,\n",
              " 0.27451802577485074,\n",
              " 0.48529674126617817,\n",
              " -1.6783573765427806,\n",
              " 0.3287333153025602,\n",
              " -0.38102988726701836,\n",
              " -1.6407176610467742,\n",
              " 0.08862631523561992,\n",
              " 2.7547613813256984,\n",
              " -0.7923068216795524,\n",
              " 1.0774280375821026,\n",
              " -0.9704631958222734,\n",
              " 0.8608366274533719,\n",
              " -1.1025797677226308,\n",
              " 2.7252607614819278,\n",
              " -0.8835698220489936,\n",
              " 1.6434499671798921,\n",
              " 0.2965297791699766,\n",
              " 2.7970692294327746,\n",
              " 2.576213681016281,\n",
              " 2.358734695518578,\n",
              " -1.5936209258945189,\n",
              " 2.4191407493830885,\n",
              " -1.1914001703302262,\n",
              " 1.4548515606596393,\n",
              " 3.1284892066214622,\n",
              " 0.9963217033956737,\n",
              " -1.1934764321874356,\n",
              " 0.40992806727586295,\n",
              " 2.765509431985886,\n",
              " 2.2319969676298648,\n",
              " 1.2830727125573653,\n",
              " 0.3609068710697372,\n",
              " -0.7766816330478383,\n",
              " -0.9058734005960309,\n",
              " 3.1662901212925325,\n",
              " 0.03874400516877374,\n",
              " 1.0224084612899857,\n",
              " 2.7311961206947455,\n",
              " 1.2903609139738532,\n",
              " 2.859896406473678,\n",
              " 2.513602392190794,\n",
              " 1.2404974281916354,\n",
              " 2.833659905382598,\n",
              " 0.8457837873754515,\n",
              " 1.1030011707636853,\n",
              " 0.23124231105523352,\n",
              " 0.4579696826243862,\n",
              " -0.6172476760153907,\n",
              " 1.6948403587044147,\n",
              " 1.459751820229013,\n",
              " 1.904233254184641,\n",
              " 2.590095177189447,\n",
              " 1.4839652185515462,\n",
              " 2.1008503983992597,\n",
              " -1.6678139471848004,\n",
              " 1.219538228209272,\n",
              " 3.0947184103838428,\n",
              " -1.9015467724056714,\n",
              " -1.9161986179622104,\n",
              " 0.922376587867551,\n",
              " -0.2494632692631018,\n",
              " 0.10952213816494893,\n",
              " 2.6816580082674957,\n",
              " 3.0885607021264487,\n",
              " 1.3874801870812634,\n",
              " 2.6530885054713815,\n",
              " 1.2064454166967136,\n",
              " 2.878329598742792,\n",
              " 1.5028808992422586,\n",
              " -0.36743938119896735,\n",
              " -1.2114505500721129,\n",
              " -1.9207625537904935,\n",
              " 1.0872259757304144,\n",
              " 0.01863622901117079,\n",
              " 0.7688449679002831,\n",
              " -0.8695242680257442,\n",
              " 1.5305344455329286,\n",
              " -0.13927754527931002,\n",
              " -1.38446279890241,\n",
              " 1.8238172478813115,\n",
              " 1.549854268823465,\n",
              " -1.432979953307985,\n",
              " 0.8810262253544185,\n",
              " 2.733679131007352,\n",
              " -0.27040965529969396,\n",
              " -1.5759265729074785,\n",
              " 2.1985234295065066,\n",
              " -0.2646745680142051,\n",
              " 0.1455236216565834,\n",
              " -1.143022183807909,\n",
              " 0.7387100410585048,\n",
              " 1.0343933326380617,\n",
              " -0.9242946946943145,\n",
              " -0.08780436592327612,\n",
              " -0.7564633257063946,\n",
              " 1.9955320699448156,\n",
              " -0.5337379466705949,\n",
              " -1.2417060344651505,\n",
              " 2.2317932567789107,\n",
              " 2.186150429251053,\n",
              " -1.8480481082900377,\n",
              " -1.8513617097237094,\n",
              " 1.9204281884766354,\n",
              " 0.814905235534964,\n",
              " 2.5163537059587133,\n",
              " 0.21087547690944985,\n",
              " 3.2268908373265033,\n",
              " -0.13039613502327208,\n",
              " -0.9537633357015229,\n",
              " 0.2888901743711152,\n",
              " -0.6110427169979209,\n",
              " 1.721336378108218,\n",
              " -0.06684128149171165,\n",
              " 1.4394640382936226,\n",
              " 0.8864413759662635,\n",
              " 0.028244225676418377,\n",
              " 2.128615459778673,\n",
              " 1.483039395197622,\n",
              " -1.5239424398137909,\n",
              " 1.340771926875667,\n",
              " 0.6686164713532037,\n",
              " 0.6449225623036909,\n",
              " 1.5251183527431218,\n",
              " 2.0718573356944976,\n",
              " 0.4761302841338928,\n",
              " -0.864997493138357,\n",
              " 3.087932728726913,\n",
              " 2.4521551088389604,\n",
              " -0.16938612595149327,\n",
              " 1.4273436918516973,\n",
              " -1.1460682846430315,\n",
              " 0.6131460509152284,\n",
              " -1.7632075742819044,\n",
              " 1.9529126428414836,\n",
              " -1.570029909823938,\n",
              " 2.6494660855791627,\n",
              " 0.7990661369017884,\n",
              " -0.15230517820875877,\n",
              " -1.7751593495288829,\n",
              " 2.792412839521077,\n",
              " 0.9371782861366817,\n",
              " 2.89782602480215,\n",
              " 3.1953884266270496,\n",
              " -0.18200836321253266,\n",
              " 3.2488577424758267,\n",
              " 1.8620802107823762,\n",
              " 0.6583575403520978,\n",
              " 1.8629018766244627,\n",
              " 0.5757563781917066,\n",
              " -1.454277170033648,\n",
              " -1.8709244073374647,\n",
              " 0.38940656119789496,\n",
              " -0.36930067835783653,\n",
              " -0.73774684277252,\n",
              " 0.9841943359754106,\n",
              " 1.8065106813269476,\n",
              " -1.0272760075789158,\n",
              " -0.5075756752293794,\n",
              " 2.551348871743479,\n",
              " -0.2285514013855685,\n",
              " -1.4735421575467802,\n",
              " 1.673325857185953,\n",
              " -0.2995132258731985,\n",
              " 0.7721417883665449,\n",
              " 1.0905716409415391,\n",
              " -1.024860813396126,\n",
              " -0.39258193429452337,\n",
              " 2.06281599906065,\n",
              " 0.8438138320699684,\n",
              " -1.112546191620417,\n",
              " -0.44151956646059665,\n",
              " -1.0811955029528515,\n",
              " -0.4253333458849071,\n",
              " 2.0313118532068257,\n",
              " -1.6175601071184431,\n",
              " 0.6219232585692605,\n",
              " -0.9836773940072052,\n",
              " -1.9654771294157205,\n",
              " -1.5578855492381636,\n",
              " 2.824023322571141,\n",
              " 0.9191358104229042,\n",
              " 1.6532271116238983,\n",
              " 0.3521638272775687,\n",
              " -1.1716043444381,\n",
              " 1.7950291456850973,\n",
              " 1.3666287720856922,\n",
              " 0.13106452182498307,\n",
              " 2.679436813007885,\n",
              " 0.17088006207511963,\n",
              " 2.7711193238554337,\n",
              " -1.254041044362613,\n",
              " -0.010247707590338218,\n",
              " -1.8948352083842472,\n",
              " 0.8355952062025178,\n",
              " -1.784799115518663,\n",
              " 1.89244092678583,\n",
              " 0.3475583090200507,\n",
              " -1.142187188436432,\n",
              " 2.892818730256927,\n",
              " 1.3790092231158795,\n",
              " -0.3692844965121149,\n",
              " 1.0535633202083101,\n",
              " 2.7945984520388434,\n",
              " 1.1424732199792555,\n",
              " 1.7391627226236457,\n",
              " 2.9333938686928347,\n",
              " 0.5782860109400407,\n",
              " -1.490123785559494,\n",
              " 3.1290097082352046,\n",
              " 0.3544967449793379,\n",
              " 3.039418746601391,\n",
              " 0.9726970664063859,\n",
              " -1.7608517881914745,\n",
              " 0.625165175551949,\n",
              " -1.1295231184045527,\n",
              " -0.24504103702011637,\n",
              " -1.3534987886719867,\n",
              " -0.40226348799931966,\n",
              " 1.185294028656405,\n",
              " -0.623621756617373,\n",
              " -1.9810081787622047,\n",
              " 0.04903617907657987,\n",
              " 0.1295073807155025,\n",
              " 3.140016679082562,\n",
              " -0.12958820909664404,\n",
              " 1.1647691143671115,\n",
              " 1.27794247850203,\n",
              " -1.2887360703762694,\n",
              " -1.5148241685618924,\n",
              " 2.762851795779018,\n",
              " 2.288681987536786,\n",
              " -1.3875342469332297,\n",
              " 2.0135103476288654,\n",
              " -0.8943018536624088,\n",
              " 2.4769132520970514,\n",
              " -1.0957450693689317,\n",
              " -1.8105099726114808,\n",
              " 0.5105229158349727,\n",
              " 0.7232332655519418,\n",
              " 2.3479930525049397,\n",
              " 1.2125206322808846,\n",
              " -1.453143190379147,\n",
              " 0.134063006673657,\n",
              " 1.7613966658735865,\n",
              " 3.0322237765679985,\n",
              " 0.17804817977508414,\n",
              " 0.37853879748180397,\n",
              " 0.9866055221750489,\n",
              " 1.5100431199252804,\n",
              " -0.12689219252397232,\n",
              " 0.9764920670710495,\n",
              " -1.2190755925969832,\n",
              " 0.2259220529410344,\n",
              " 1.9858433475816337,\n",
              " -1.5360132952310432,\n",
              " -1.3145189590352775,\n",
              " -1.8458624636121561,\n",
              " -1.1108586608028954,\n",
              " -1.6385631486089984,\n",
              " 1.7709755420638769,\n",
              " 1.7067598178785435,\n",
              " -1.4393289559516211,\n",
              " 0.9405754482443007,\n",
              " 0.5810915035471003,\n",
              " 2.2502036576482434,\n",
              " 1.9832408029860602,\n",
              " -0.08896884412817663,\n",
              " -1.0902866802378839,\n",
              " 1.456390498612869,\n",
              " 1.6746276485916658,\n",
              " -0.2522046294718263,\n",
              " -0.26950836149373436,\n",
              " -0.34254049303410805,\n",
              " 0.12742592992205992,\n",
              " -0.6571061275525529,\n",
              " -0.6671483041900852,\n",
              " 0.6319426978382374,\n",
              " 0.8611145108264449,\n",
              " 2.2293077420338614,\n",
              " -0.1923471486480013,\n",
              " 1.9456990026426304,\n",
              " -0.08756684857073971,\n",
              " -1.1957840156910449,\n",
              " -0.6507406990614977,\n",
              " -1.5630623753074033,\n",
              " 3.28676974748425,\n",
              " -0.6421004443716403,\n",
              " -1.463048205123291,\n",
              " 0.5497932267112886,\n",
              " 2.9199992709549534,\n",
              " 1.2103991877248172,\n",
              " 1.4330500228745238,\n",
              " 0.6971419663850766,\n",
              " 1.115871411694842,\n",
              " 3.2495519573053073,\n",
              " 2.3584853303910336,\n",
              " 2.870281671204019,\n",
              " -1.6000246784331298,\n",
              " -0.36307262959376496,\n",
              " 0.025727750610250677,\n",
              " -1.9772776950630722,\n",
              " 0.6120875954707623,\n",
              " 2.7569208698889733,\n",
              " 2.6955904456179125,\n",
              " -1.9035742045501896,\n",
              " -1.0680397961613388,\n",
              " -1.1338647476621833,\n",
              " 0.33253840915270194,\n",
              " -0.8921423603597389,\n",
              " 2.019414911420286,\n",
              " 0.5394484574619978,\n",
              " 1.871687869795795,\n",
              " -1.0605412274562243,\n",
              " -0.6044366172738695,\n",
              " 0.30246453819271313,\n",
              " 0.8567329780133055,\n",
              " 2.115392441488468,\n",
              " 1.3057170628384838,\n",
              " 2.277407578257858,\n",
              " -0.6489221663385862,\n",
              " -1.9620286029840033,\n",
              " 2.643003816757189,\n",
              " -0.8165719445406121,\n",
              " 2.4390943871652784,\n",
              " 1.7092154121656522,\n",
              " -0.5387633700247778,\n",
              " 1.9945365852630124,\n",
              " 2.387532166055725,\n",
              " 3.27445753969075,\n",
              " 1.2355463043673334,\n",
              " 0.395534162388405,\n",
              " -0.5156062509810437,\n",
              " 1.8909369406348646,\n",
              " 3.043728322446113,\n",
              " 0.22877539415498127,\n",
              " 1.932745381696606,\n",
              " 3.2327815092941794,\n",
              " -1.225758816047593,\n",
              " -1.4847650807600332,\n",
              " 1.9552051643375767,\n",
              " -0.02779527566290696,\n",
              " 2.0277868825515455,\n",
              " -0.8377985019727645,\n",
              " 2.1614722213087676,\n",
              " 2.5644159191821077,\n",
              " -0.7719215823511718,\n",
              " -1.9804669219211297,\n",
              " -1.4691092856687271,\n",
              " -1.3300075297715017,\n",
              " -1.510186953739513,\n",
              " 0.027235817295927944,\n",
              " -1.852220038827572,\n",
              " 3.1072332338345543,\n",
              " -0.32025077239203603,\n",
              " -1.3915036243622243,\n",
              " -1.4399163164011592,\n",
              " 1.077414815358523,\n",
              " 1.6503198928206912,\n",
              " -0.9172990058014223,\n",
              " 0.11776236976880661,\n",
              " 2.1195929001910327,\n",
              " -1.1501819370620354,\n",
              " 0.9828389839686102,\n",
              " 2.4935697216419728,\n",
              " 2.2127877353023733,\n",
              " 2.1055845140364235,\n",
              " 1.2535204281619725,\n",
              " -1.9574268619262165,\n",
              " -1.114823319720784,\n",
              " -1.823214724184298,\n",
              " 2.680402818869559,\n",
              " 0.8580309602088896,\n",
              " -1.3383773289615046,\n",
              " 2.758017254597438,\n",
              " 0.4875500300204272,\n",
              " -0.5945546045154337,\n",
              " 1.803553521822241,\n",
              " -0.3765728755416111,\n",
              " -0.33894508100337983,\n",
              " 1.8591246632072242,\n",
              " -1.2648363985861009,\n",
              " 0.2363148773787076,\n",
              " 0.3790537439950592,\n",
              " -1.5148782594459955,\n",
              " 3.133266230825541,\n",
              " -1.491551175243893,\n",
              " -1.6080115189784037,\n",
              " -1.6252511985695457,\n",
              " -0.4690102531448157,\n",
              " 2.6780139044339304,\n",
              " -1.5543379523780392,\n",
              " -1.8791765925817563,\n",
              " 1.2746117712047664,\n",
              " -0.018058080955432265,\n",
              " -0.351171204866366,\n",
              " 0.3930305166440893,\n",
              " -0.9771861739374885,\n",
              " 1.1790088693471485,\n",
              " -0.08401624534305108,\n",
              " -0.13951139815353386,\n",
              " 1.2860255328411556,\n",
              " -0.8756247637823265,\n",
              " -0.46795087487859366,\n",
              " 2.974832345690655,\n",
              " -1.137598573515327,\n",
              " 1.8883352297616405,\n",
              " -1.2079678272875416,\n",
              " 1.9409505868255033,\n",
              " -0.3369136171226952,\n",
              " 1.4272012066304032,\n",
              " -0.8789292995956832,\n",
              " -0.8664154990389425,\n",
              " 1.0481062264722727,\n",
              " 0.3803683068774726,\n",
              " 0.48214730733441513,\n",
              " 3.2763218921053934,\n",
              " 0.08180162226757748,\n",
              " 3.1236747706633174,\n",
              " 1.0823252982208453,\n",
              " 1.2520708007058943,\n",
              " -1.6175862107516625,\n",
              " 2.8895850299008075,\n",
              " -0.6733613309817545,\n",
              " -0.6703318653814081,\n",
              " 2.5574232565517363,\n",
              " ...)"
            ]
          },
          "execution_count": 58,
          "metadata": {},
          "output_type": "execute_result"
        }
      ],
      "source": [
        "epsilon"
      ]
    },
    {
      "attachments": {},
      "cell_type": "markdown",
      "metadata": {},
      "source": [
        "The reason the sampling is not uniformly distributed in the following plots is due to the resampling and the fact that we certain values of e.g. velocity are more likely to violate the speed of light constraint than others."
      ]
    },
    {
      "cell_type": "code",
      "execution_count": 59,
      "metadata": {
        "colab": {
          "base_uri": "https://localhost:8080/",
          "height": 409
        },
        "id": "E5YFdqKjUZh5",
        "outputId": "fe67d113-f369-495f-9aba-201c71058eb7"
      },
      "outputs": [
        {
          "data": {
            "image/png": "[encoded data removed]",
            "text/plain": [
              "<Figure size 2000x1600 with 14 Axes>"
            ]
          },
          "metadata": {},
          "output_type": "display_data"
        }
      ],
      "source": [
        "if not LOAD_DATA_FROM_CSV:\n",
        "    def plot_histogram(data, xlabel, ylabel, position, bins=20, xlog_scale=False, ylog_scale=False):\n",
        "        plt.subplot(4, 5, position)\n",
        "        plt.hist(data, bins=bins)\n",
        "        plt.xlabel(xlabel)\n",
        "        plt.ylabel(ylabel)\n",
        "        if xlog_scale: # Setting does not work expected for epsilon.\n",
        "            plt.xscale(\"log\")\n",
        "        if ylog_scale: # Setting does not work expected for epsilon.\n",
        "            plt.yscale(\"log\")\n",
        "\n",
        "    # Plotting the histograms of rho, vx, epsilon, b0, b1, b2, and b3\n",
        "    bins = 20\n",
        "    plt.figure(figsize=(20, 16))\n",
        "\n",
        "    plot_histogram(rho, \"rho\", \"Frequency\", 1, bins=bins)\n",
        "    plot_histogram(epsilon, \"epsilon\", \"Frequency\", 2, bins=bins)\n",
        "    plot_histogram(vx, \"vx\", \"Frequency\", 3, bins=bins)\n",
        "    plot_histogram(vy, \"vy\", \"Frequency\", 4, bins=bins)\n",
        "    plot_histogram(vz, \"vz\", \"Frequency\", 5, bins=bins)\n",
        "    plot_histogram(Bx, \"Bx\", \"Frequency\", 6, bins=bins)\n",
        "    plot_histogram(By, \"By\", \"Frequency\", 7, bins=bins)\n",
        "    plot_histogram(Bz, \"Bz\", \"Frequency\", 8, bins=bins)\n",
        "\n",
        "    # Plot these\n",
        "    plot_histogram(gxx, \"gxx\", \"Frequency\", 9, bins=bins)\n",
        "    plot_histogram(gxy, \"gxy\", \"Frequency\", 10, bins=bins)\n",
        "    plot_histogram(gxz, \"gxz\", \"Frequency\", 11, bins=bins)\n",
        "    plot_histogram(gyy, \"gyy\", \"Frequency\", 12, bins=bins)\n",
        "    plot_histogram(gyz, \"gyz\", \"Frequency\", 13, bins=bins)\n",
        "    plot_histogram(gzz, \"gzz\", \"Frequency\", 14, bins=bins)\n",
        "\n",
        "\n",
        "    plt.suptitle(\"Primitive variables and metric\")\n",
        "    plt.tight_layout()\n",
        "    plt.show()\n"
      ]
    },
    {
      "cell_type": "code",
      "execution_count": 60,
      "metadata": {},
      "outputs": [],
      "source": [
        "%config InteractiveShell.ast_node_interactivity = \"last_expr_or_assign\""
      ]
    },
    {
      "cell_type": "code",
      "execution_count": 61,
      "metadata": {},
      "outputs": [
        {
          "data": {
            "image/png": "[encoded data removed]",
            "text/plain": [
              "<Figure size 1600x1600 with 14 Axes>"
            ]
          },
          "metadata": {},
          "output_type": "display_data"
        }
      ],
      "source": [
        "# Variable names\n",
        "variable_names = [\"D\", \"Sx\", \"Sy\", \"Sz\", \"tau\", \"Bconsx\", \"Bconsy\", \"Bconsz\", \"gxx\", \"gxy\", \"gxz\", \"gyy\", \"gyz\", \"gzz\"]\n",
        "\n",
        "# Plotting histograms of the input variables before z-score normalization\n",
        "plt.figure(figsize=(16, 16))\n",
        "plt.suptitle('Histograms of input variables before (or without at all) z-score normalization', y=1.03)\n",
        "\n",
        "for i in range(N_INPUTS):\n",
        "    plt.subplot(7, 2, i+1)\n",
        "    data = x_train[:, i].cpu().numpy() # Convert tensor to numpy array for percentile calculation\n",
        "    lower_bound, upper_bound = np.percentile(data, [1, 100]) # NOTE: Use this instead to visualize all the data.\n",
        "    # lower_bound, upper_bound = np.percentile(data, [1, 90]) # Calculate 1st and 99th percentile\n",
        "\n",
        "    plt.hist(data, bins=50, range=(lower_bound, upper_bound)) # Set range to the calculated percentile range\n",
        "    plt.xlabel(variable_names[i])\n",
        "    plt.xlim(lower_bound, upper_bound) # Set the x limit to match the range of the histogram\n",
        "\n",
        "plt.subplots_adjust(hspace=0.4, wspace=0.4)\n",
        "plt.show()\n",
        "\n",
        "# Same plotting but for the test data. Adjust the percentile range as needed to zoom in.\n",
        "# plt.figure(figsize=(16, 16))\n",
        "# plt.suptitle('Histograms of input variables before (or without at all) z-score normalization (test data)', y=1.03)\n",
        "\n",
        "# for i in range(14):\n",
        "#     plt.subplot(7, 2, i+1)\n",
        "#     data = x_test[:, i].cpu().numpy() # Convert tensor to numpy array for percentile calculation\n",
        "#     #lower_bound, upper_bound = np.percentile(data, [1, 100]) # NOTE: Use this instead to visualize all the data.\n",
        "#     lower_bound, upper_bound = np.percentile(data, [1, 99]) # Use this to zoom in.\n",
        "\n",
        "#     plt.hist(data, bins=50, range=(lower_bound, upper_bound)) # Set range to the calculated percentile range\n",
        "#     plt.xlabel(variable_names[i])\n",
        "#     plt.xlim(lower_bound, upper_bound) # Set the x limit to match the range of the histogram\n",
        "\n",
        "# plt.subplots_adjust(hspace=0.4, wspace=0.4)\n",
        "# plt.show()\n",
        "\n"
      ]
    },
    {
      "attachments": {},
      "cell_type": "markdown",
      "metadata": {},
      "source": [
        "### Data normalization"
      ]
    },
    {
      "cell_type": "code",
      "execution_count": 62,
      "metadata": {},
      "outputs": [
        {
          "name": "stdout",
          "output_type": "stream",
          "text": [
            "Summary statistics of input variables before z-score normalization\n",
            "tensor([[ 2.8423e-05,  4.0053e+02,  2.2703e+00,  1.6690e+00,  3.8112e+00],\n",
            "        [-6.5321e+03,  2.1230e+05,  4.1797e+01,  2.2123e+01,  9.1563e+02],\n",
            "        [-1.1401e+04,  2.1358e+05,  4.1538e+01,  2.1843e+01,  9.1166e+02],\n",
            "        [-7.0248e+03,  9.5709e+04,  3.9404e+01,  2.1967e+01,  4.9536e+02],\n",
            "        [-1.3200e+04,  2.8905e+05,  9.6425e+01,  6.9854e+01,  1.3098e+03],\n",
            "        [-1.1292e+01,  1.1231e+01, -1.9846e-02, -2.1222e-02,  5.7276e+00],\n",
            "        [-1.1208e+01,  1.1136e+01,  5.7243e-03, -5.7609e-03,  5.7463e+00],\n",
            "        [-1.1133e+01,  1.1257e+01, -5.0768e-02, -5.4215e-02,  5.7253e+00],\n",
            "        [ 9.0000e-01,  1.1000e+00,  9.9824e-01,  9.9717e-01,  5.7787e-02],\n",
            "        [ 5.1483e-06,  9.9998e-02,  4.9620e-02,  4.9524e-02,  2.8905e-02],\n",
            "        [ 3.9226e-06,  9.9998e-02,  4.9428e-02,  4.9174e-02,  2.8878e-02],\n",
            "        [ 9.0000e-01,  1.1000e+00,  9.9873e-01,  9.9792e-01,  5.7776e-02],\n",
            "        [ 1.6038e-06,  9.9997e-02,  4.9558e-02,  4.9315e-02,  2.8849e-02],\n",
            "        [ 9.0000e-01,  1.1000e+00,  9.9862e-01,  9.9782e-01,  5.7645e-02]])\n"
          ]
        }
      ],
      "source": [
        "# Computing summary statistics of the input variables before and after z-score normalization\n",
        "print('Summary statistics of input variables before z-score normalization')\n",
        "print(torch.stack([torch.min(x_train, dim=0).values, torch.max(x_train, dim=0).values, torch.nanmean(x_train, dim=0), torch.median(x_train, dim=0).values, torch.std(x_train, dim=0)], dim=1))"
      ]
    },
    {
      "attachments": {},
      "cell_type": "markdown",
      "metadata": {
        "id": "xTEmkR1SUZh7"
      },
      "source": [
        "Perform z-score normalization"
      ]
    },
    {
      "cell_type": "code",
      "execution_count": 63,
      "metadata": {},
      "outputs": [],
      "source": [
        "%config InteractiveShell.ast_node_interactivity = \"all\""
      ]
    },
    {
      "cell_type": "code",
      "execution_count": 64,
      "metadata": {
        "id": "yPOv6DxhUZh7"
      },
      "outputs": [],
      "source": [
        "if ZSCORE_NORMALIZATION:\n",
        "    \n",
        "    # TODO: Add magnetic field variables to the normalization if I decide to use the old code that is commented out here.\n",
        "    # # Computing the median of each input variable from the training set using torch.nanmedian function\n",
        "    # D_median = torch.nanmedian(x_train[:, 0])\n",
        "    # Sx_median = torch.nanmedian(x_train[:, 1])\n",
        "    # Sy_median = torch.nanmedian(x_train[:, 2])\n",
        "    # Sz_median = torch.nanmedian(x_train[:, 3])\n",
        "    # tau_median = torch.nanmedian(x_train[:, 4])\n",
        "\n",
        "    # # Computing the standard deviation of each input variable from the training set using torch.std function with a boolean mask to ignore nan values\n",
        "    # D_std = torch.std(x_train[~torch.isnan(x_train[:, 0]), 0])\n",
        "    # Sx_std = torch.std(x_train[~torch.isnan(x_train[:, 1]), 1])\n",
        "    # Sy_std = torch.std(x_train[~torch.isnan(x_train[:, 2]), 2])\n",
        "    # Sz_std = torch.std(x_train[~torch.isnan(x_train[:, 3]), 3])\n",
        "    # tau_std = torch.std(x_train[~torch.isnan(x_train[:, 4]), 4])\n",
        "\n",
        "\n",
        "    # # Applying z-score normalization to both train and test sets using the statistics from the training set\n",
        "    # x_train[:, 0] = torch.sub(x_train[:, 0], D_median).div(D_std)\n",
        "    # x_train[:, 1] = torch.sub(x_train[:, 1], Sx_median).div(Sx_std)\n",
        "    # x_train[:, 2] = torch.sub(x_train[:, 2], Sy_median).div(Sy_std)\n",
        "    # x_train[:, 3] = torch.sub(x_train[:, 3], Sz_median).div(Sz_std)\n",
        "    # x_train[:, 4] = torch.sub(x_train[:, 4], tau_median).div(tau_std)\n",
        "\n",
        "    # x_test[:, 0] = torch.sub(x_test[:, 0], D_median).div(D_std)\n",
        "    # x_test[:, 1] = torch.sub(x_test[:, 1], Sx_median).div(Sx_std)\n",
        "    # x_test[:, 2] = torch.sub(x_test[:, 2], Sy_median).div(Sy_std)\n",
        "    # x_test[:, 3] = torch.sub(x_test[:, 3], Sz_median).div(Sz_std)\n",
        "    # x_test[:, 4] = torch.sub(x_test[:, 4], tau_median).div(tau_std)\n",
        "\n",
        "    # Computing the mean and standard deviation of each column\n",
        "    mean = x_train.mean(dim=0)\n",
        "    std = x_train.std(dim=0)\n",
        "\n",
        "    # Applying z-score normalization\n",
        "    x_train = (x_train - mean) / std\n",
        "    # Use the same mean and std from the training data as we don't want test data leakage.\n",
        "    x_test = (x_test - mean) / std\n",
        "\n"
      ]
    },
    {
      "attachments": {},
      "cell_type": "markdown",
      "metadata": {},
      "source": [
        "Plotting the histograms of the input data after normalization if z-score normalization was performed."
      ]
    },
    {
      "cell_type": "code",
      "execution_count": 65,
      "metadata": {},
      "outputs": [],
      "source": [
        "%config InteractiveShell.ast_node_interactivity = \"last_expr_or_assign\""
      ]
    },
    {
      "cell_type": "code",
      "execution_count": 66,
      "metadata": {},
      "outputs": [],
      "source": [
        "if not LOAD_DATA_FROM_CSV:\n",
        "    if ZSCORE_NORMALIZATION:\n",
        "        # Variable names\n",
        "        variable_names = [\"D\", \"Sx\", \"Sy\", \"Sz\", \"tau\", \"Bconsx\", \"Bconsy\", \"Bconsz\", \"gxx\", \"gxy\", \"gxz\", \"gyy\", \"gyz\", \"gzz\"]\n",
        "\n",
        "        # Plotting histograms of the input variables before z-score normalization\n",
        "        plt.figure(figsize=(16, 16))\n",
        "        plt.suptitle('Histograms of input variables before (or without at all) z-score normalization', y=1.03)\n",
        "\n",
        "        for i in range(N_INPUTS):\n",
        "            plt.subplot(7, 2, i+1)\n",
        "            data = x_train[:, i].cpu().numpy() # Convert tensor to numpy array for percentile calculation\n",
        "            lower_bound, upper_bound = np.percentile(data, [1, 100]) # NOTE: Use this instead to visualize all the data.\n",
        "            # lower_bound, upper_bound = np.percentile(data, [1, 90]) # Calculate 1st and 99th percentile\n",
        "\n",
        "            plt.hist(data, bins=50, range=(lower_bound, upper_bound)) # Set range to the calculated percentile range\n",
        "            plt.xlabel(variable_names[i])\n",
        "            plt.xlim(lower_bound, upper_bound) # Set the x limit to match the range of the histogram\n",
        "\n",
        "        plt.subplots_adjust(hspace=0.4, wspace=0.4)\n",
        "        plt.show()"
      ]
    },
    {
      "cell_type": "code",
      "execution_count": 67,
      "metadata": {},
      "outputs": [],
      "source": [
        "if ZSCORE_NORMALIZATION:\n",
        "    # Computing summary statistics of the input variables after z-score normalization\n",
        "    print('Summary statistics of input variables after z-score normalization')\n",
        "    print(torch.stack([torch.min(x_train, dim=0).values, torch.max(x_train, dim=0).values, torch.mean(x_train, dim=0), torch.median(x_train, dim=0).values, torch.std(x_train, dim=0)], dim=1))\n"
      ]
    },
    {
      "attachments": {},
      "cell_type": "markdown",
      "metadata": {},
      "source": [
        "### Visualizing input data and labels"
      ]
    },
    {
      "cell_type": "code",
      "execution_count": 68,
      "metadata": {},
      "outputs": [
        {
          "data": {
            "text/plain": [
              "tensor([-2.0286,  8.8505, -0.9447,  ...,  7.4673, 14.3897, -0.9091])"
            ]
          },
          "execution_count": 68,
          "metadata": {},
          "output_type": "execute_result"
        }
      ],
      "source": [
        "x_train\n",
        "y_train\n",
        "x_val\n",
        "y_val\n",
        "x_test\n",
        "y_test"
      ]
    },
    {
      "attachments": {},
      "cell_type": "markdown",
      "metadata": {
        "colab": {
          "base_uri": "https://localhost:8080/",
          "height": 407
        },
        "id": "E96p_MsOUZh9",
        "outputId": "4b95bad0-8f3a-4364-eed1-008e0ce2a5e3"
      },
      "source": [
        "Checking if our output is always positive ~~by plotting a histogram of y_train and y_test tensors~~"
      ]
    },
    {
      "cell_type": "code",
      "execution_count": 69,
      "metadata": {},
      "outputs": [
        {
          "name": "stdout",
          "output_type": "stream",
          "text": [
            "tensor(True)\n"
          ]
        }
      ],
      "source": [
        "import torch\n",
        "\n",
        "# Create a sample tensor\n",
        "tensor = torch.randn(80000, 14)  # Assuming a tensor of shape [80000, 14]\n",
        "tensor\n",
        "\n",
        "\n",
        "# Check if any element is negative\n",
        "any_negative = torch.any(tensor < 0)\n",
        "\n",
        "# Print the result\n",
        "print(any_negative)\n"
      ]
    },
    {
      "cell_type": "code",
      "execution_count": 70,
      "metadata": {},
      "outputs": [
        {
          "data": {
            "text/plain": [
              "tensor(True)"
            ]
          },
          "execution_count": 70,
          "metadata": {},
          "output_type": "execute_result"
        }
      ],
      "source": [
        "y_train.shape\n",
        "any_negative = torch.any(y_train < 0)\n",
        "any_negative\n",
        "\n",
        "y_test.shape\n",
        "any_negative = torch.any(y_test < 0)\n",
        "any_negative\n",
        "\n",
        "x_train.shape\n",
        "any_negative = torch.any(x_train < 0)\n",
        "any_negative"
      ]
    },
    {
      "cell_type": "code",
      "execution_count": 71,
      "metadata": {},
      "outputs": [
        {
          "data": {
            "image/png": "[encoded data removed]",
            "text/plain": [
              "<Figure size 800x400 with 3 Axes>"
            ]
          },
          "metadata": {},
          "output_type": "display_data"
        }
      ],
      "source": [
        "plt.figure(figsize=(8, 4))\n",
        "plt.subplot(1, 3, 1)\n",
        "plt.hist(y_train.cpu().numpy(), bins=100) # must be cpu here.\n",
        "plt.xlabel(\"y_train\")\n",
        "plt.ylabel(\"Frequency\")\n",
        "plt.xscale(\"log\")\n",
        "plt.subplot(1, 3, 2)\n",
        "plt.hist(y_val.cpu().numpy(), bins=100) # must be cpu here\n",
        "plt.xlabel(\"y_val\")\n",
        "plt.ylabel(\"Frequency\")\n",
        "plt.xscale(\"log\")\n",
        "plt.tight_layout()\n",
        "plt.subplot(1, 3, 3)\n",
        "plt.hist(y_test.cpu().numpy(), bins=100) # must be cpu here\n",
        "plt.xlabel(\"y_test\")\n",
        "plt.ylabel(\"Frequency\")\n",
        "plt.xscale(\"log\")\n",
        "plt.tight_layout()\n",
        "plt.show()\n"
      ]
    },
    {
      "cell_type": "code",
      "execution_count": 72,
      "metadata": {
        "id": "FEgjk--AUZh9"
      },
      "outputs": [],
      "source": [
        "%config InteractiveShell.ast_node_interactivity = \"all\""
      ]
    },
    {
      "attachments": {},
      "cell_type": "markdown",
      "metadata": {
        "id": "r2b9GecHUZh9"
      },
      "source": [
        "## Defining the neural network"
      ]
    },
    {
      "cell_type": "code",
      "execution_count": 73,
      "metadata": {
        "id": "Iv8HA-ZXUZh-"
      },
      "outputs": [],
      "source": [
        "# Defining a class for the network\n",
        "class Net(nn.Module):\n",
        "    \"\"\"A class for creating a network with a\n",
        "    variable number of hidden layers and units.\n",
        "\n",
        "    Attributes:\n",
        "        n_layers (int): The number of hidden layers in the network.\n",
        "        n_units (list): A list of integers representing the number of units in each hidden layer.\n",
        "        hidden_activation (torch.nn.Module): The activation function for the hidden layers.\n",
        "        output_activation (torch.nn.Module): The activation function for the output layer.\n",
        "        layers (torch.nn.ModuleList): A list of linear layers in the network.\n",
        "    \"\"\"\n",
        "\n",
        "    def __init__(self, n_layers, n_units, hidden_activation, output_activation, dropout_rate):\n",
        "        \"\"\"Initializes the network with the given hyperparameters.\n",
        "\n",
        "        Args:\n",
        "            n_layers (int): The number of hidden layers in the network.\n",
        "            n_units (list): A list of integers representing the number of units in each hidden layer.\n",
        "            hidden_activation (torch.nn.Module): The activation function for the hidden layers.\n",
        "            output_activation (torch.nn.Module): The activation function for the output layer.\n",
        "            TODO: [ver. Copilot description] dropout_rate (float): The dropout rate to use for all layers.\n",
        "        \"\"\"\n",
        "        super().__init__()\n",
        "        self.n_layers = n_layers\n",
        "        self.n_units = n_units\n",
        "        self.hidden_activation = hidden_activation\n",
        "        self.output_activation = output_activation\n",
        "        self.dropout_rate = dropout_rate\n",
        "\n",
        "        # Creating a list of linear layers with different numbers of units for each layer\n",
        "        self.layers = nn.ModuleList()\n",
        "        self.dropouts = nn.ModuleList()\n",
        "\n",
        "        self.layers.append(nn.Linear(N_INPUTS, n_units[0]))\n",
        "        self.dropouts.append(nn.Dropout(p=dropout_rate))\n",
        "\n",
        "        for i in range(1, n_layers):\n",
        "            self.layers.append(nn.Linear(n_units[i - 1], n_units[i]))\n",
        "            self.dropouts.append(nn.Dropout(p=dropout_rate))\n",
        "\n",
        "        self.layers.append(nn.Linear(n_units[-1], N_OUTPUTS))\n",
        "\n",
        "        # Adding some assertions to check that the input arguments are valid\n",
        "        assert isinstance(n_layers, int) and n_layers > 0, \"n_layers must be a positive integer\"\n",
        "        assert isinstance(n_units, list) and len(n_units) == n_layers, \"n_units must be a list of length n_layers\"\n",
        "        assert all(isinstance(n, int) and n > 0 for n in n_units), \"n_units must contain positive integers\"\n",
        "        assert isinstance(hidden_activation, nn.Module), \"hidden_activation must be a torch.nn.Module\"\n",
        "        assert isinstance(output_activation, nn.Module), \"output_activation must be a torch.nn.Module\"\n",
        "\n",
        "    def forward(self, x):\n",
        "        \"\"\"Performs a forward pass on the input tensor.\n",
        "\n",
        "        Args:\n",
        "            x (torch.Tensor): The input tensor of shape (batch_size, N_INPUTS).\n",
        "\n",
        "        Returns:\n",
        "            torch.Tensor: The output tensor of shape (batch_size, N_OUTPUTS).\n",
        "        \"\"\"\n",
        "        # Adding an assertion to check that the input tensor has the expected shape and type\n",
        "        assert isinstance(x, torch.Tensor), \"x must be a torch.Tensor\"\n",
        "        assert x.shape[1] == N_INPUTS, f\"x must have shape (batch_size, {N_INPUTS})\"\n",
        "\n",
        "        for layer, dropout in zip(self.layers[:-1], self.dropouts):\n",
        "            x = dropout(self.hidden_activation(layer(x)))\n",
        "        # Applying the linear transformation and the activation function on the output layer\n",
        "        x = self.output_activation(self.layers[-1](x)) # No dropout at output layer\n",
        "\n",
        "        return x # Returning the output tensor\n"
      ]
    },
    {
      "cell_type": "code",
      "execution_count": 74,
      "metadata": {},
      "outputs": [
        {
          "name": "stdout",
          "output_type": "stream",
          "text": [
            "skipping\n"
          ]
        }
      ],
      "source": [
        "%%script echo skipping\n",
        "\n",
        "[1,2,3]\n",
        "[1,2,3][:-1]"
      ]
    },
    {
      "cell_type": "code",
      "execution_count": 75,
      "metadata": {},
      "outputs": [
        {
          "name": "stdout",
          "output_type": "stream",
          "text": [
            "1\n",
            "2\n"
          ]
        }
      ],
      "source": [
        "for x in [1,2,3][:-1]:\n",
        "    print(x)\n",
        "\n"
      ]
    },
    {
      "attachments": {},
      "cell_type": "markdown",
      "metadata": {
        "id": "6GNvp55PUZh_"
      },
      "source": [
        "## Defining the model and search space"
      ]
    },
    {
      "cell_type": "code",
      "execution_count": 76,
      "metadata": {
        "id": "9a1opluOUZh_"
      },
      "outputs": [],
      "source": [
        "# Defining a function to create a trial network and optimizer\n",
        "def create_model(trial, optimize):\n",
        "    \"\"\"Creates a trial network and optimizer based on the sampled hyperparameters.\n",
        "\n",
        "    Args:\n",
        "        trial (optuna.trial.Trial): The trial object that contains the hyperparameters.\n",
        "        optimize (boolean): Whether to optimize the hyperparameters or to use predefined values.\n",
        "\n",
        "    Returns:\n",
        "        tuple: A tuple of (net, loss_fn, optimizer, batch_size, n_epochs,\n",
        "            scheduler, loss_name, optimizer_name, scheduler_name,\n",
        "            n_units, n_layers, hidden_activation, output_activation),\n",
        "            where net is the trial network,\n",
        "            loss_fn is the loss function,\n",
        "            optimizer is the optimizer,\n",
        "            batch_size is the batch size,\n",
        "            n_epochs is the number of epochs,\n",
        "            scheduler is the learning rate scheduler,\n",
        "            loss_name is the name of the loss function,\n",
        "            optimizer_name is the name of the optimizer,\n",
        "            scheduler_name is the name of the scheduler,\n",
        "            n_units is a list of integers representing\n",
        "            the number of units in each hidden layer,\n",
        "            n_layers is an integer representing the number of hidden layers in the network,\n",
        "            hidden_activation is a torch.nn.Module representing the activation function for the hidden layers,\n",
        "            output_activation is a torch.nn.Module representing the activation function for the output layer,\n",
        "            lr is the (initial) learning rate.\n",
        "            dropout_rate is the dropout rate.\n",
        "    \"\"\"\n",
        "    # If optimize is True, sample the hyperparameters from the search space\n",
        "    if OPTIMIZE:\n",
        "        n_layers = trial.suggest_int(\"n_layers\", 2, 10)\n",
        "        n_units = [trial.suggest_int(f\"n_units_{i}\", 16, 4096) for i in range(n_layers)]\n",
        "\n",
        "        hidden_activation_name = trial.suggest_categorical(\n",
        "            \"hidden_activation\", [\"ReLU\", \"LeakyReLU\", \"ELU\", \"PReLU\", \"Swish\", \"GELU\", \"SoftPlus\"]\n",
        "        )\n",
        "        output_activation_name = trial.suggest_categorical( \"output_activation\", [\"Linear\"])\n",
        "\n",
        "        loss_name = trial.suggest_categorical( \"loss\", [\"MSE\", \"MAE\", \"Huber\", \"Quantile\"])  # Added Quantile loss\n",
        "\n",
        "        optimizer_name = trial.suggest_categorical( \"optimizer\", [\"Adam\", \"SGD\", \"RMSprop\", \"Adagrad\"] )\n",
        "\n",
        "        lr = trial.suggest_loguniform(\"lr\", 1e-6, 1)\n",
        "\n",
        "        batch_size_list = [32, 64, 128, 256, 512, 1024, 2048]\n",
        "        batch_size = trial.suggest_categorical(\"batch_size\", batch_size_list)\n",
        "        \n",
        "        n_epochs = trial.suggest_int(\"n_epochs\", 50, 150)\n",
        "\n",
        "        scheduler_name = trial.suggest_categorical(\"scheduler\", [\"CosineAnnealingLR\", \"ReduceLROnPlateau\", \"StepLR\", \"CyclicLR\"])  # Added CyclicLR\n",
        "\n",
        "        # Creating the activation functions from their names\n",
        "        if hidden_activation_name == \"ReLU\":\n",
        "            hidden_activation = nn.ReLU()\n",
        "        elif hidden_activation_name == \"LeakyReLU\":\n",
        "            negative_slope = trial.suggest_uniform(\"leakyrelu_slope\", 0.01, 0.3)\n",
        "            hidden_activation = nn.LeakyReLU(negative_slope=negative_slope)\n",
        "        elif hidden_activation_name == \"ELU\":\n",
        "            hidden_activation = nn.ELU() \n",
        "        elif hidden_activation_name == \"PReLU\":\n",
        "            init = trial.suggest_uniform(\"prelu_init\", 0.1, 0.3)\n",
        "            hidden_activation = nn.PReLU(init=init)\n",
        "        elif hidden_activation_name == \"Swish\":\n",
        "            class Swish(nn.Module):\n",
        "                def forward(self, x):\n",
        "                    return x * torch.sigmoid(x)\n",
        "            hidden_activation = Swish()\n",
        "        elif hidden_activation_name == \"GELU\":\n",
        "            hidden_activation = nn.GELU()\n",
        "        elif hidden_activation_name == \"SoftPlus\":\n",
        "            beta = trial.suggest_uniform(\"softplus_beta\", 0.5, 1.5)\n",
        "            hidden_activation = nn.Softplus(beta=beta) # We don't optimize thresshold subparameters, as it's mainly for numerical stability.\n",
        "\n",
        "        dropout_rate = trial.suggest_uniform(\"dropout_rate\", 0.0, 0.5)\n",
        "\n",
        "\n",
        "    # If optimize is False, use the predefined values\n",
        "    else:\n",
        "        # Setting the hyperparameters to the predefined values\n",
        "        n_layers = N_LAYERS_NO_OPT\n",
        "        n_units = N_UNITS_NO_OPT\n",
        "        hidden_activation_name = HIDDEN_ACTIVATION_NAME_NO_OPT\n",
        "        output_activation_name = OUTPUT_ACTIVATION_NAME_NO_OPT\n",
        "        loss_name = LOSS_NAME_NO_OPT\n",
        "        optimizer_name = OPTIMIZER_NAME_NO_OPT\n",
        "        lr = LR_NO_OPT\n",
        "        batch_size = BATCH_SIZE_NO_OPT\n",
        "        n_epochs = N_EPOCHS_NO_OPT\n",
        "        scheduler_name = SCHEDULER_NAME_NO_OPT\n",
        "\n",
        "        # Creating the activation functions from their names\n",
        "        if hidden_activation_name == \"ReLU\":\n",
        "            hidden_activation = nn.ReLU()\n",
        "        elif hidden_activation_name == \"LeakyReLU\":\n",
        "            negative_slope = 0.01\n",
        "            hidden_activation = nn.LeakyReLU(negative_slope=negative_slope)\n",
        "        elif hidden_activation_name == \"ELU\":\n",
        "            hidden_activation = nn.ELU() \n",
        "        elif hidden_activation_name == \"PReLU\":\n",
        "            init = 0.25\n",
        "            hidden_activation = nn.PReLU(init=init)\n",
        "        elif hidden_activation_name == \"Swish\":\n",
        "            class Swish(nn.Module):\n",
        "                def forward(self, x):\n",
        "                    return x * torch.sigmoid(x)\n",
        "            hidden_activation = Swish()\n",
        "        elif hidden_activation_name == \"GELU\":\n",
        "            hidden_activation = nn.GELU()\n",
        "        elif hidden_activation_name == \"SoftPlus\":\n",
        "            beta = 1\n",
        "            hidden_activation = nn.Softplus(beta=beta) # We don't optimize threshold subparameter, as it's mainly for numerical stability.\n",
        "\n",
        "        dropout_rate = DROPOUT_RATE_NO_OPT\n",
        "\n",
        "\n",
        "    # We used to have options here, but since we have a regression problem with continuous output, we only use Linear.\n",
        "    output_activation = nn.Identity()\n",
        "\n",
        "    # Creating the loss function from its name\n",
        "    if loss_name == \"MSE\":\n",
        "        loss_fn = nn.MSELoss()\n",
        "    elif loss_name == \"MAE\":\n",
        "        loss_fn = nn.L1Loss()\n",
        "    elif loss_name == \"Huber\":\n",
        "        loss_fn = nn.SmoothL1Loss() \n",
        "    elif loss_name == \"Quantile\":  # Added Quantile loss\n",
        "        def quantile_loss(y_pred, y_true, q=0.5):\n",
        "            e = y_pred - y_true\n",
        "            return torch.mean(torch.max(q*e, (q-1)*e))\n",
        "        loss_fn = quantile_loss\n",
        "    else:\n",
        "        def log_cosh_loss(y_pred, y_true):\n",
        "            return torch.mean(torch.log(torch.cosh(y_pred - y_true)))\n",
        "        loss_fn = log_cosh_loss\n",
        "\n",
        "    # Creating the network with the sampled hyperparameters\n",
        "    net = Net(n_layers, n_units, hidden_activation, output_activation, dropout_rate).to(device)\n",
        "\n",
        "\n",
        "    if OPTIMIZE:\n",
        "        # Creating the optimizer from its name\n",
        "        if optimizer_name == \"SGD\":\n",
        "            weight_decay = trial.suggest_loguniform(\"weight_decay\", 1e-5, 1e-2)\n",
        "            momentum = trial.suggest_uniform(\"momentum\", 0.0, 0.99)\n",
        "            optimizer = optim.SGD(net.parameters(), lr=lr, weight_decay=weight_decay, momentum=momentum)\n",
        "        elif optimizer_name == \"Adam\":\n",
        "            weight_decay = trial.suggest_loguniform(\"weight_decay\", 1e-5, 1e-2)\n",
        "            beta1 = trial.suggest_uniform(\"beta1\", 0.9, 0.999)\n",
        "            beta2 = trial.suggest_uniform(\"beta2\", 0.999, 0.9999)\n",
        "            optimizer = optim.Adam(net.parameters(), lr=lr, weight_decay=weight_decay, betas=(beta1, beta2))\n",
        "        elif optimizer_name == \"RMSprop\":\n",
        "            optimizer = optim.RMSprop(net.parameters(), lr=lr)\n",
        "        else:\n",
        "            optimizer = optim.Adagrad(net.parameters(), lr=lr)\n",
        "\n",
        "        # Creating the learning rate scheduler from its name\n",
        "        if scheduler_name == \"StepLR\":\n",
        "            step_size = trial.suggest_int(\"step_size\", 5, 15)\n",
        "            gamma = trial.suggest_uniform(\"gamma\", 0.1, 0.5)\n",
        "            scheduler = optim.lr_scheduler.StepLR(optimizer, step_size=step_size, gamma=gamma)\n",
        "        elif scheduler_name == \"ExponentialLR\":\n",
        "            gamma = trial.suggest_uniform(\"gamma\", 0.8, 0.99)\n",
        "            scheduler = optim.lr_scheduler.ExponentialLR(optimizer, gamma=gamma)\n",
        "        elif scheduler_name == \"CosineAnnealingLR\":\n",
        "            if n_epochs < 150:\n",
        "                t_max_fraction = trial.suggest_uniform('t_max_fraction', 0.1, 0.3)\n",
        "            elif n_epochs > 250:\n",
        "                t_max_fraction = trial.suggest_uniform('t_max_fraction', 0.05, 0.1)\n",
        "            else:\n",
        "                t_max_fraction = trial.suggest_uniform('t_max_fraction', 0.1, 0.2)\n",
        "\n",
        "            T_max = int(n_epochs * t_max_fraction)\n",
        "            eta_min = trial.suggest_loguniform(\"eta_min\", 1e-7, 1e-2)\n",
        "            scheduler = optim.lr_scheduler.CosineAnnealingLR(optimizer, T_max=T_max, eta_min=eta_min)\n",
        "        elif scheduler_name == \"ReduceLROnPlateau\":\n",
        "            factor = trial.suggest_uniform(\"factor\", 0.1, 0.5)\n",
        "            patience = trial.suggest_int(\"patience\", 5, 10)\n",
        "            threshold = trial.suggest_loguniform(\"threshold\", 1e-4, 1e-2)\n",
        "            scheduler = optim.lr_scheduler.ReduceLROnPlateau(\n",
        "                optimizer, mode=\"min\", factor=factor, patience=patience, threshold=threshold\n",
        "            )\n",
        "        elif scheduler_name == \"CyclicLR\":  # Added CyclicLR\n",
        "            base_lr = trial.suggest_loguniform(\"base_lr\", 1e-6, 1e-2)\n",
        "            max_lr = trial.suggest_loguniform(\"max_lr\", 1e-4, 1)\n",
        "            step_size_up = trial.suggest_int(\"step_size_up\", 200, 2000)\n",
        "            scheduler = optim.lr_scheduler.CyclicLR(optimizer, base_lr=base_lr, max_lr=max_lr, step_size_up=step_size_up)\n",
        "        else:\n",
        "            scheduler = None\n",
        "    else:\n",
        "        # Creating the optimizer from its name\n",
        "        if optimizer_name == \"SGD\":\n",
        "            optimizer = optim.SGD(net.parameters(), lr=lr)\n",
        "        elif optimizer_name == \"Adam\":\n",
        "            optimizer = optim.Adam(net.parameters(), lr=lr)\n",
        "        elif optimizer_name == \"RMSprop\":\n",
        "            optimizer = optim.RMSprop(net.parameters(), lr=lr)\n",
        "        else:\n",
        "            optimizer = optim.Adagrad(net.parameters(), lr=lr)\n",
        "\n",
        "        # Creating the learning rate scheduler from its name\n",
        "        if scheduler_name == \"StepLR\":\n",
        "            scheduler = optim.lr_scheduler.StepLR(optimizer, step_size=10, gamma=0.1)\n",
        "        elif scheduler_name == \"ExponentialLR\":\n",
        "            scheduler = optim.lr_scheduler.ExponentialLR(optimizer, gamma=0.9)\n",
        "        elif scheduler_name == \"CosineAnnealingLR\":\n",
        "            scheduler = optim.lr_scheduler.CosineAnnealingLR(optimizer)\n",
        "        elif scheduler_name == \"ReduceLROnPlateau\":\n",
        "            scheduler = optim.lr_scheduler.ReduceLROnPlateau(\n",
        "                        optimizer, mode=\"min\", factor=0.18979341786654758, patience=11, threshold=0.0017197466122611932 #, min_lr=1e-6\n",
        "                    )\n",
        "        elif scheduler_name == \"CyclicLR\":  # Added CyclicLR\n",
        "            # TODO: Change these appropriately.\n",
        "            base_lr = 1e-6\n",
        "            max_lr = 1e-4\n",
        "            step_size_up = 200\n",
        "            scheduler = optim.lr_scheduler.CyclicLR(optimizer, base_lr=base_lr, max_lr=max_lr, step_size_up=step_size_up)\n",
        "        else:\n",
        "            scheduler = None\n",
        "\n",
        "    # Returning all variables needed for saving and loading\n",
        "    return net, loss_fn, optimizer, batch_size, n_epochs, scheduler, loss_name, optimizer_name, scheduler_name, n_units, n_layers, hidden_activation, output_activation, lr, dropout_rate\n",
        "\n",
        "\n"
      ]
    },
    {
      "attachments": {},
      "cell_type": "markdown",
      "metadata": {
        "id": "l-czA7VvUZiD"
      },
      "source": [
        " ## The training and evaluation loop\n",
        "\n",
        " We first define a couple of functions used in the training and evaluation."
      ]
    },
    {
      "cell_type": "code",
      "execution_count": 77,
      "metadata": {
        "id": "aD6FQNmxUZiD"
      },
      "outputs": [],
      "source": [
        "# Defining a function that computes loss and metrics for a given batch\n",
        "def compute_loss_and_metrics(y_pred, y_true, loss_fn):\n",
        "    \"\"\"Computes loss and metrics for a given batch.\n",
        "\n",
        "    Args:\n",
        "        y_pred (torch.Tensor): The predicted pressure tensor of shape (batch_size, 1).\n",
        "        y_true (torch.Tensor): The true pressure tensor of shape (batch_size,).\n",
        "        loss_fn (torch.nn.Module or function): The loss function to use.\n",
        "\n",
        "    Returns:\n",
        "        tuple: A tuple of (loss, l1_norm), where loss is a scalar tensor,\n",
        "            l1_norm is L1 norm for relative error of pressure,\n",
        "            each being a scalar tensor.\n",
        "            linf_norm is Linf norm for relative error of pressure.\n",
        "    \"\"\"\n",
        "    # Reshaping the target tensor to match the input tensor\n",
        "    y_true = y_true.view(-1, 1)\n",
        "\n",
        "    # Computing the loss using the loss function\n",
        "    loss = loss_fn(y_pred, y_true)\n",
        "\n",
        "    # Computing the relative error of pressure\n",
        "    rel_error = torch.abs((y_pred - y_true) / y_true)\n",
        "\n",
        "    # Computing the L1 norm for the relative error of pressure\n",
        "    l1_norm = torch.mean(rel_error) \n",
        "    # Computing the Linf norm for the relative error of pressure\n",
        "    linf_norm = torch.max(rel_error) \n",
        "\n",
        "    # Returning the loss and metrics\n",
        "    return loss, l1_norm, linf_norm\n",
        "\n",
        "\n",
        "# Defining a function that updates the learning rate scheduler with validation loss if applicable\n",
        "def update_scheduler(scheduler, test_loss):\n",
        "    \"\"\"Updates the learning rate scheduler with validation loss if applicable.\n",
        "\n",
        "    Args:\n",
        "        scheduler (torch.optim.lr_scheduler._LRScheduler or None): The learning rate scheduler to use.\n",
        "        test_loss (float): The validation loss to use.\n",
        "\n",
        "    Returns:\n",
        "        None\n",
        "    \"\"\"\n",
        "    # Checking if scheduler is not None\n",
        "    if scheduler is not None:\n",
        "        # Checking if scheduler is ReduceLROnPlateau\n",
        "        if isinstance(scheduler, optim.lr_scheduler.ReduceLROnPlateau):\n",
        "            # Updating the scheduler with test_loss\n",
        "            scheduler.step(test_loss)\n",
        "        else:\n",
        "            # Updating the scheduler without test_loss\n",
        "            scheduler.step()\n"
      ]
    },
    {
      "attachments": {},
      "cell_type": "markdown",
      "metadata": {
        "id": "w1nE662UUZiE"
      },
      "source": [
        "Now for the actual training and evaluation loop,"
      ]
    },
    {
      "cell_type": "code",
      "execution_count": 78,
      "metadata": {
        "id": "YAOjgKW3UZiF"
      },
      "outputs": [],
      "source": [
        "# Defining a function to train and evaluate a network\n",
        "def train_and_eval(net, loss_fn, optimizer, batch_size, n_epochs, scheduler, train_loader, val_loader, test_loader, trial=None):\n",
        "    # Initializing lists to store the losses and metrics for each epoch\n",
        "    train_losses = []\n",
        "    val_losses = []\n",
        "    test_losses = []\n",
        "    train_metrics = []\n",
        "    val_metrics = []\n",
        "    test_metrics = []\n",
        "\n",
        "\n",
        "    # Creating a SummaryWriter object to log data for tensorboard\n",
        "    writer = tbx.SummaryWriter()\n",
        "\n",
        "    # Looping over the epochs\n",
        "    for epoch in range(n_epochs):\n",
        "\n",
        "        # Setting the network to training mode\n",
        "        net.train()\n",
        "\n",
        "        # Initializing variables to store the total loss and metrics for the train set\n",
        "        train_loss = 0.0\n",
        "        train_l1_norm = 0.0\n",
        "        train_linf_norm = 0.0\n",
        "\n",
        "        # Looping over the batches in the train set\n",
        "        for x_batch, y_batch in train_loader:\n",
        "\n",
        "            # Moving the batch tensors to the device\n",
        "            x_batch = x_batch.to(device)\n",
        "            y_batch = y_batch.to(device)\n",
        "\n",
        "            # Zeroing the gradients\n",
        "            optimizer.zero_grad()\n",
        "\n",
        "            # Performing a forward pass and computing the loss and metrics\n",
        "            y_pred = net(x_batch)\n",
        "            loss, l1_norm, linf_norm = compute_loss_and_metrics(y_pred, y_batch, loss_fn)\n",
        "\n",
        "\n",
        "            # Performing a backward pass and updating the weights\n",
        "            loss.backward()\n",
        "            optimizer.step()\n",
        "\n",
        "            # Updating the total loss and metrics for the train set\n",
        "            train_loss += loss.item() * x_batch.size(0)\n",
        "            train_l1_norm += l1_norm.item() * x_batch.size(0)\n",
        "            train_linf_norm += linf_norm.item() * x_batch.size(0)\n",
        "\n",
        "        # Computing the average loss and metrics for the train set\n",
        "        train_loss /= len(train_loader.dataset)\n",
        "        train_l1_norm /= len(train_loader.dataset)\n",
        "        train_linf_norm /= len(train_loader.dataset)\n",
        "\n",
        "        # Appending the average loss and metrics for the train set to the lists\n",
        "        train_losses.append(train_loss)\n",
        "        train_metrics.append(\n",
        "            {\n",
        "                \"l1_norm\": train_l1_norm,\n",
        "                \"linf_norm\": train_linf_norm,\n",
        "            }\n",
        "        )\n",
        "\n",
        "        # Logging the average loss and metrics for the train set to tensorboard\n",
        "        writer.add_scalar(\"Loss/train\", train_loss, epoch)\n",
        "        writer.add_scalar(\"L1 norm/train\", train_l1_norm, epoch)\n",
        "        writer.add_scalar(\"Linf norm/train\", train_linf_norm, epoch)\n",
        "\n",
        "        if val_loader is not None:\n",
        "            net.eval()\n",
        "            val_loss = 0.0\n",
        "            val_l1_norm = 0.0\n",
        "            val_linf_norm = 0.0\n",
        "\n",
        "            with torch.no_grad():\n",
        "                for x_batch, y_batch in val_loader:\n",
        "                    x_batch = x_batch.to(device)\n",
        "                    y_batch = y_batch.to(device)\n",
        "                    y_pred = net(x_batch)\n",
        "                    loss, l1_norm, linf_norm = compute_loss_and_metrics(y_pred, y_batch, loss_fn)\n",
        "\n",
        "                    val_loss += loss.item() * x_batch.size(0)\n",
        "                    val_l1_norm += l1_norm.item() * x_batch.size(0)\n",
        "                    val_linf_norm += linf_norm.item() * x_batch.size(0)\n",
        "\n",
        "            val_loss /= len(val_loader.dataset)\n",
        "            val_l1_norm /= len(val_loader.dataset)\n",
        "            val_linf_norm /= len(val_loader.dataset)\n",
        "\n",
        "            val_losses.append(val_loss)\n",
        "            val_metrics.append(\n",
        "                {\n",
        "                    \"l1_norm\": val_l1_norm,\n",
        "                    \"linf_norm\": val_linf_norm,\n",
        "                }\n",
        "            )\n",
        "\n",
        "            writer.add_scalar(\"Loss/val\", val_loss, epoch)\n",
        "            writer.add_scalar(\"L1 norm/val\", val_l1_norm, epoch)\n",
        "            writer.add_scalar(\"Linf norm/val\", val_linf_norm, epoch)\n",
        "            print(f\"Epoch {epoch+1}/{n_epochs}.. Train loss: {train_loss:.3f}.. Val loss: {val_loss:.3f}.. Train L1 norm: {train_l1_norm:.3f}.. Val L1 norm: {val_l1_norm:.3f}.. Train Linf norm: {train_linf_norm:.3f}.. Val Linf norm: {val_linf_norm:.3f}\")\n",
        "\n",
        "\n",
        "            update_scheduler(scheduler, val_loss)\n",
        "\n",
        "        if test_loader is not None:\n",
        "            net.eval()\n",
        "            test_loss = 0.0\n",
        "            test_l1_norm = 0.0\n",
        "            test_linf_norm = 0.0\n",
        "\n",
        "            with torch.no_grad():\n",
        "                for x_batch, y_batch in test_loader:\n",
        "                    x_batch = x_batch.to(device)\n",
        "                    y_batch = y_batch.to(device)\n",
        "                    y_pred = net(x_batch)\n",
        "                    loss, l1_norm, linf_norm = compute_loss_and_metrics(y_pred, y_batch, loss_fn)\n",
        "\n",
        "                    test_loss += loss.item() * x_batch.size(0)\n",
        "                    test_l1_norm += l1_norm.item() * x_batch.size(0)\n",
        "                    test_linf_norm += linf_norm.item() * x_batch.size(0)\n",
        "\n",
        "            test_loss /= len(test_loader.dataset)\n",
        "            test_l1_norm /= len(test_loader.dataset)\n",
        "            test_linf_norm /= len(test_loader.dataset)\n",
        "\n",
        "            test_losses.append(test_loss)\n",
        "            test_metrics.append(\n",
        "                {\n",
        "                    \"l1_norm\": test_l1_norm,\n",
        "                    \"linf_norm\": test_linf_norm,\n",
        "                }\n",
        "            )\n",
        "\n",
        "            writer.add_scalar(\"Loss/test\", test_loss, epoch)\n",
        "            writer.add_scalar(\"L1 norm/test\", test_l1_norm, epoch)\n",
        "            writer.add_scalar(\"Linf norm/test\", test_linf_norm, epoch)\n",
        "            print(f\"Epoch {epoch+1}/{n_epochs}.. Train loss: {train_loss:.3f}.. Test loss: {test_loss:.3f}.. Train L1 norm: {train_l1_norm:.3f}.. Test L1 norm: {test_l1_norm:.3f}.. Train Linf norm: {train_linf_norm:.3f}.. Test Linf norm: {test_linf_norm:.3f}\")\n",
        "\n",
        "\n",
        "        # Reporting the intermediate metric value to Optuna if trial is not None\n",
        "        if trial is not None:\n",
        "            trial.report(val_l1_norm, epoch)\n",
        "\n",
        "            if trial.should_prune():\n",
        "                raise optuna.TrialPruned()\n",
        "\n",
        "    # Closing the SummaryWriter object\n",
        "    writer.close()\n",
        "\n",
        "    # Returning the losses and metrics lists\n",
        "    return train_losses, val_losses, test_losses, train_metrics, val_metrics, test_metrics\n"
      ]
    },
    {
      "attachments": {},
      "cell_type": "markdown",
      "metadata": {
        "id": "xg9jz0SvUZiQ"
      },
      "source": [
        "## The objective function and hyperparameter tuning"
      ]
    },
    {
      "cell_type": "code",
      "execution_count": 79,
      "metadata": {
        "id": "fmRncQPuUZiR"
      },
      "outputs": [],
      "source": [
        "# Defining an objective function for Optuna to minimize\n",
        "def objective(trial):\n",
        "    \"\"\"Defines an objective function for Optuna to minimize.\n",
        "\n",
        "    Args:\n",
        "        trial (optuna.trial.Trial): The trial object that contains the hyperparameters.\n",
        "\n",
        "    Returns:\n",
        "        float: The validation L1 norm to minimize.\n",
        "    \"\"\"\n",
        "    # Creating a trial network and optimizer using the create_model function\n",
        "    net, \\\n",
        "    loss_fn, \\\n",
        "    optimizer, \\\n",
        "    batch_size, \\\n",
        "    n_epochs, \\\n",
        "    scheduler, \\\n",
        "    loss_name, \\\n",
        "    optimizer_name, \\\n",
        "    scheduler_name, \\\n",
        "    n_units, \\\n",
        "    n_layers, \\\n",
        "    hidden_activation, \\\n",
        "    output_activation, \\\n",
        "    lr, \\\n",
        "    dropout_rate = create_model(trial, optimize=True)\n",
        "\n",
        "    # Create separate data loaders for training and validation\n",
        "    train_loader = torch.utils.data.DataLoader(\n",
        "        torch.utils.data.TensorDataset(x_train, y_train), batch_size=batch_size, shuffle=True\n",
        "    )\n",
        "    val_loader = torch.utils.data.DataLoader(\n",
        "        torch.utils.data.TensorDataset(x_val, y_val), batch_size=batch_size\n",
        "    )\n",
        "    \n",
        "    _, _, _, _, val_metrics, _ = train_and_eval(\n",
        "        net, loss_fn, optimizer, batch_size, n_epochs, scheduler, train_loader, val_loader, None, trial\n",
        "    )\n",
        "\n",
        "    # Returning the last validation L1 norm as the objective value to minimize\n",
        "    return val_metrics[-1][\"l1_norm\"]"
      ]
    },
    {
      "cell_type": "code",
      "execution_count": 80,
      "metadata": {
        "id": "GyES4NAyUZiS"
      },
      "outputs": [
        {
          "name": "stderr",
          "output_type": "stream",
          "text": [
            "\u001b[32m[I 2023-05-27 17:58:16,219]\u001b[0m A new study created in memory with name: no-name-f1305234-7899-4e7d-9337-8b01aaaf66d3\u001b[0m\n",
            "/tmp/ipykernel_1121047/2530898322.py:44: FutureWarning: suggest_loguniform has been deprecated in v3.0.0. This feature will be removed in v6.0.0. See https://github.com/optuna/optuna/releases/tag/v3.0.0. Use :func:`~optuna.trial.Trial.suggest_float` instead.\n",
            "  lr = trial.suggest_loguniform(\"lr\", 1e-6, 1)\n",
            "/tmp/ipykernel_1121047/2530898322.py:62: FutureWarning: suggest_uniform has been deprecated in v3.0.0. This feature will be removed in v6.0.0. See https://github.com/optuna/optuna/releases/tag/v3.0.0. Use :func:`~optuna.trial.Trial.suggest_float` instead.\n",
            "  init = trial.suggest_uniform(\"prelu_init\", 0.1, 0.3)\n",
            "/tmp/ipykernel_1121047/2530898322.py:75: FutureWarning: suggest_uniform has been deprecated in v3.0.0. This feature will be removed in v6.0.0. See https://github.com/optuna/optuna/releases/tag/v3.0.0. Use :func:`~optuna.trial.Trial.suggest_float` instead.\n",
            "  dropout_rate = trial.suggest_uniform(\"dropout_rate\", 0.0, 0.5)\n",
            "/tmp/ipykernel_1121047/2530898322.py:144: FutureWarning: suggest_loguniform has been deprecated in v3.0.0. This feature will be removed in v6.0.0. See https://github.com/optuna/optuna/releases/tag/v3.0.0. Use :func:`~optuna.trial.Trial.suggest_float` instead.\n",
            "  weight_decay = trial.suggest_loguniform(\"weight_decay\", 1e-5, 1e-2)\n",
            "/tmp/ipykernel_1121047/2530898322.py:145: FutureWarning: suggest_uniform has been deprecated in v3.0.0. This feature will be removed in v6.0.0. See https://github.com/optuna/optuna/releases/tag/v3.0.0. Use :func:`~optuna.trial.Trial.suggest_float` instead.\n",
            "  momentum = trial.suggest_uniform(\"momentum\", 0.0, 0.99)\n",
            "/tmp/ipykernel_1121047/2530898322.py:160: FutureWarning: suggest_uniform has been deprecated in v3.0.0. This feature will be removed in v6.0.0. See https://github.com/optuna/optuna/releases/tag/v3.0.0. Use :func:`~optuna.trial.Trial.suggest_float` instead.\n",
            "  gamma = trial.suggest_uniform(\"gamma\", 0.1, 0.5)\n",
            "\u001b[33m[W 2023-05-27 17:58:54,248]\u001b[0m Trial 0 failed with parameters: {'n_layers': 4, 'n_units_0': 1620, 'n_units_1': 687, 'n_units_2': 3980, 'n_units_3': 1546, 'hidden_activation': 'PReLU', 'output_activation': 'Linear', 'loss': 'MAE', 'optimizer': 'SGD', 'lr': 0.11264840984194976, 'batch_size': 64, 'n_epochs': 61, 'scheduler': 'StepLR', 'prelu_init': 0.15051204746307628, 'dropout_rate': 0.18582117628694672, 'weight_decay': 2.647472158078747e-05, 'momentum': 0.5563229854132451, 'step_size': 12, 'gamma': 0.21447248076703074} because of the following error: KeyboardInterrupt().\u001b[0m\n",
            "Traceback (most recent call last):\n",
            "  File \"/home/yousousen/.local/lib/python3.11/site-packages/optuna/study/_optimize.py\", line 200, in _run_trial\n",
            "    value_or_values = func(trial)\n",
            "                      ^^^^^^^^^^^\n",
            "  File \"/tmp/ipykernel_1121047/2297744481.py\", line 36, in objective\n",
            "    _, _, _, _, val_metrics, _ = train_and_eval(\n",
            "                                 ^^^^^^^^^^^^^^^\n",
            "  File \"/tmp/ipykernel_1121047/3096729756.py\", line 37, in train_and_eval\n",
            "    y_pred = net(x_batch)\n",
            "             ^^^^^^^^^^^^\n",
            "  File \"/home/yousousen/.local/lib/python3.11/site-packages/torch/nn/modules/module.py\", line 1501, in _call_impl\n",
            "    return forward_call(*args, **kwargs)\n",
            "           ^^^^^^^^^^^^^^^^^^^^^^^^^^^^^\n",
            "  File \"/tmp/ipykernel_1121047/755242825.py\", line 65, in forward\n",
            "    x = dropout(self.hidden_activation(layer(x)))\n",
            "                                       ^^^^^^^^\n",
            "  File \"/home/yousousen/.local/lib/python3.11/site-packages/torch/nn/modules/module.py\", line 1501, in _call_impl\n",
            "    return forward_call(*args, **kwargs)\n",
            "           ^^^^^^^^^^^^^^^^^^^^^^^^^^^^^\n",
            "  File \"/home/yousousen/.local/lib/python3.11/site-packages/torch/nn/modules/linear.py\", line 114, in forward\n",
            "    return F.linear(input, self.weight, self.bias)\n",
            "           ^^^^^^^^^^^^^^^^^^^^^^^^^^^^^^^^^^^^^^^\n",
            "KeyboardInterrupt\n",
            "\u001b[33m[W 2023-05-27 17:58:54,256]\u001b[0m Trial 0 failed with value None.\u001b[0m\n"
          ]
        },
        {
          "ename": "KeyboardInterrupt",
          "evalue": "",
          "output_type": "error",
          "traceback": [
            "\u001b[0;31m---------------------------------------------------------------------------\u001b[0m",
            "\u001b[0;31mKeyboardInterrupt\u001b[0m                         Traceback (most recent call last)",
            "Cell \u001b[0;32mIn[80], line 6\u001b[0m\n\u001b[1;32m      3\u001b[0m study \u001b[39m=\u001b[39m optuna\u001b[39m.\u001b[39mcreate_study(direction\u001b[39m=\u001b[39m\u001b[39m\"\u001b[39m\u001b[39mminimize\u001b[39m\u001b[39m\"\u001b[39m, sampler\u001b[39m=\u001b[39moptuna\u001b[39m.\u001b[39msamplers\u001b[39m.\u001b[39mTPESampler(), pruner\u001b[39m=\u001b[39moptuna\u001b[39m.\u001b[39mpruners\u001b[39m.\u001b[39mMedianPruner())\n\u001b[1;32m      5\u001b[0m \u001b[39m# Running Optuna with 100 trials when we are optimizing.\u001b[39;00m\n\u001b[0;32m----> 6\u001b[0m study\u001b[39m.\u001b[39;49moptimize(objective, n_trials\u001b[39m=\u001b[39;49mN_TRIALS)\n\u001b[1;32m      8\u001b[0m \u001b[39m# Printing the best trial information\u001b[39;00m\n\u001b[1;32m      9\u001b[0m \u001b[39mprint\u001b[39m(\u001b[39m\"\u001b[39m\u001b[39mBest trial:\u001b[39m\u001b[39m\"\u001b[39m)\n",
            "File \u001b[0;32m~/.local/lib/python3.11/site-packages/optuna/study/study.py:425\u001b[0m, in \u001b[0;36mStudy.optimize\u001b[0;34m(self, func, n_trials, timeout, n_jobs, catch, callbacks, gc_after_trial, show_progress_bar)\u001b[0m\n\u001b[1;32m    321\u001b[0m \u001b[39mdef\u001b[39;00m \u001b[39moptimize\u001b[39m(\n\u001b[1;32m    322\u001b[0m     \u001b[39mself\u001b[39m,\n\u001b[1;32m    323\u001b[0m     func: ObjectiveFuncType,\n\u001b[0;32m   (...)\u001b[0m\n\u001b[1;32m    330\u001b[0m     show_progress_bar: \u001b[39mbool\u001b[39m \u001b[39m=\u001b[39m \u001b[39mFalse\u001b[39;00m,\n\u001b[1;32m    331\u001b[0m ) \u001b[39m-\u001b[39m\u001b[39m>\u001b[39m \u001b[39mNone\u001b[39;00m:\n\u001b[1;32m    332\u001b[0m \u001b[39m    \u001b[39m\u001b[39m\"\"\"Optimize an objective function.\u001b[39;00m\n\u001b[1;32m    333\u001b[0m \n\u001b[1;32m    334\u001b[0m \u001b[39m    Optimization is done by choosing a suitable set of hyperparameter values from a given\u001b[39;00m\n\u001b[0;32m   (...)\u001b[0m\n\u001b[1;32m    422\u001b[0m \u001b[39m            If nested invocation of this method occurs.\u001b[39;00m\n\u001b[1;32m    423\u001b[0m \u001b[39m    \"\"\"\u001b[39;00m\n\u001b[0;32m--> 425\u001b[0m     _optimize(\n\u001b[1;32m    426\u001b[0m         study\u001b[39m=\u001b[39;49m\u001b[39mself\u001b[39;49m,\n\u001b[1;32m    427\u001b[0m         func\u001b[39m=\u001b[39;49mfunc,\n\u001b[1;32m    428\u001b[0m         n_trials\u001b[39m=\u001b[39;49mn_trials,\n\u001b[1;32m    429\u001b[0m         timeout\u001b[39m=\u001b[39;49mtimeout,\n\u001b[1;32m    430\u001b[0m         n_jobs\u001b[39m=\u001b[39;49mn_jobs,\n\u001b[1;32m    431\u001b[0m         catch\u001b[39m=\u001b[39;49m\u001b[39mtuple\u001b[39;49m(catch) \u001b[39mif\u001b[39;49;00m \u001b[39misinstance\u001b[39;49m(catch, Iterable) \u001b[39melse\u001b[39;49;00m (catch,),\n\u001b[1;32m    432\u001b[0m         callbacks\u001b[39m=\u001b[39;49mcallbacks,\n\u001b[1;32m    433\u001b[0m         gc_after_trial\u001b[39m=\u001b[39;49mgc_after_trial,\n\u001b[1;32m    434\u001b[0m         show_progress_bar\u001b[39m=\u001b[39;49mshow_progress_bar,\n\u001b[1;32m    435\u001b[0m     )\n",
            "File \u001b[0;32m~/.local/lib/python3.11/site-packages/optuna/study/_optimize.py:66\u001b[0m, in \u001b[0;36m_optimize\u001b[0;34m(study, func, n_trials, timeout, n_jobs, catch, callbacks, gc_after_trial, show_progress_bar)\u001b[0m\n\u001b[1;32m     64\u001b[0m \u001b[39mtry\u001b[39;00m:\n\u001b[1;32m     65\u001b[0m     \u001b[39mif\u001b[39;00m n_jobs \u001b[39m==\u001b[39m \u001b[39m1\u001b[39m:\n\u001b[0;32m---> 66\u001b[0m         _optimize_sequential(\n\u001b[1;32m     67\u001b[0m             study,\n\u001b[1;32m     68\u001b[0m             func,\n\u001b[1;32m     69\u001b[0m             n_trials,\n\u001b[1;32m     70\u001b[0m             timeout,\n\u001b[1;32m     71\u001b[0m             catch,\n\u001b[1;32m     72\u001b[0m             callbacks,\n\u001b[1;32m     73\u001b[0m             gc_after_trial,\n\u001b[1;32m     74\u001b[0m             reseed_sampler_rng\u001b[39m=\u001b[39;49m\u001b[39mFalse\u001b[39;49;00m,\n\u001b[1;32m     75\u001b[0m             time_start\u001b[39m=\u001b[39;49m\u001b[39mNone\u001b[39;49;00m,\n\u001b[1;32m     76\u001b[0m             progress_bar\u001b[39m=\u001b[39;49mprogress_bar,\n\u001b[1;32m     77\u001b[0m         )\n\u001b[1;32m     78\u001b[0m     \u001b[39melse\u001b[39;00m:\n\u001b[1;32m     79\u001b[0m         \u001b[39mif\u001b[39;00m n_jobs \u001b[39m==\u001b[39m \u001b[39m-\u001b[39m\u001b[39m1\u001b[39m:\n",
            "File \u001b[0;32m~/.local/lib/python3.11/site-packages/optuna/study/_optimize.py:163\u001b[0m, in \u001b[0;36m_optimize_sequential\u001b[0;34m(study, func, n_trials, timeout, catch, callbacks, gc_after_trial, reseed_sampler_rng, time_start, progress_bar)\u001b[0m\n\u001b[1;32m    160\u001b[0m         \u001b[39mbreak\u001b[39;00m\n\u001b[1;32m    162\u001b[0m \u001b[39mtry\u001b[39;00m:\n\u001b[0;32m--> 163\u001b[0m     frozen_trial \u001b[39m=\u001b[39m _run_trial(study, func, catch)\n\u001b[1;32m    164\u001b[0m \u001b[39mfinally\u001b[39;00m:\n\u001b[1;32m    165\u001b[0m     \u001b[39m# The following line mitigates memory problems that can be occurred in some\u001b[39;00m\n\u001b[1;32m    166\u001b[0m     \u001b[39m# environments (e.g., services that use computing containers such as GitHub Actions).\u001b[39;00m\n\u001b[1;32m    167\u001b[0m     \u001b[39m# Please refer to the following PR for further details:\u001b[39;00m\n\u001b[1;32m    168\u001b[0m     \u001b[39m# https://github.com/optuna/optuna/pull/325.\u001b[39;00m\n\u001b[1;32m    169\u001b[0m     \u001b[39mif\u001b[39;00m gc_after_trial:\n",
            "File \u001b[0;32m~/.local/lib/python3.11/site-packages/optuna/study/_optimize.py:251\u001b[0m, in \u001b[0;36m_run_trial\u001b[0;34m(study, func, catch)\u001b[0m\n\u001b[1;32m    244\u001b[0m         \u001b[39massert\u001b[39;00m \u001b[39mFalse\u001b[39;00m, \u001b[39m\"\u001b[39m\u001b[39mShould not reach.\u001b[39m\u001b[39m\"\u001b[39m\n\u001b[1;32m    246\u001b[0m \u001b[39mif\u001b[39;00m (\n\u001b[1;32m    247\u001b[0m     frozen_trial\u001b[39m.\u001b[39mstate \u001b[39m==\u001b[39m TrialState\u001b[39m.\u001b[39mFAIL\n\u001b[1;32m    248\u001b[0m     \u001b[39mand\u001b[39;00m func_err \u001b[39mis\u001b[39;00m \u001b[39mnot\u001b[39;00m \u001b[39mNone\u001b[39;00m\n\u001b[1;32m    249\u001b[0m     \u001b[39mand\u001b[39;00m \u001b[39mnot\u001b[39;00m \u001b[39misinstance\u001b[39m(func_err, catch)\n\u001b[1;32m    250\u001b[0m ):\n\u001b[0;32m--> 251\u001b[0m     \u001b[39mraise\u001b[39;00m func_err\n\u001b[1;32m    252\u001b[0m \u001b[39mreturn\u001b[39;00m frozen_trial\n",
            "File \u001b[0;32m~/.local/lib/python3.11/site-packages/optuna/study/_optimize.py:200\u001b[0m, in \u001b[0;36m_run_trial\u001b[0;34m(study, func, catch)\u001b[0m\n\u001b[1;32m    198\u001b[0m \u001b[39mwith\u001b[39;00m get_heartbeat_thread(trial\u001b[39m.\u001b[39m_trial_id, study\u001b[39m.\u001b[39m_storage):\n\u001b[1;32m    199\u001b[0m     \u001b[39mtry\u001b[39;00m:\n\u001b[0;32m--> 200\u001b[0m         value_or_values \u001b[39m=\u001b[39m func(trial)\n\u001b[1;32m    201\u001b[0m     \u001b[39mexcept\u001b[39;00m exceptions\u001b[39m.\u001b[39mTrialPruned \u001b[39mas\u001b[39;00m e:\n\u001b[1;32m    202\u001b[0m         \u001b[39m# TODO(mamu): Handle multi-objective cases.\u001b[39;00m\n\u001b[1;32m    203\u001b[0m         state \u001b[39m=\u001b[39m TrialState\u001b[39m.\u001b[39mPRUNED\n",
            "Cell \u001b[0;32mIn[79], line 36\u001b[0m, in \u001b[0;36mobjective\u001b[0;34m(trial)\u001b[0m\n\u001b[1;32m     29\u001b[0m train_loader \u001b[39m=\u001b[39m torch\u001b[39m.\u001b[39mutils\u001b[39m.\u001b[39mdata\u001b[39m.\u001b[39mDataLoader(\n\u001b[1;32m     30\u001b[0m     torch\u001b[39m.\u001b[39mutils\u001b[39m.\u001b[39mdata\u001b[39m.\u001b[39mTensorDataset(x_train, y_train), batch_size\u001b[39m=\u001b[39mbatch_size, shuffle\u001b[39m=\u001b[39m\u001b[39mTrue\u001b[39;00m\n\u001b[1;32m     31\u001b[0m )\n\u001b[1;32m     32\u001b[0m val_loader \u001b[39m=\u001b[39m torch\u001b[39m.\u001b[39mutils\u001b[39m.\u001b[39mdata\u001b[39m.\u001b[39mDataLoader(\n\u001b[1;32m     33\u001b[0m     torch\u001b[39m.\u001b[39mutils\u001b[39m.\u001b[39mdata\u001b[39m.\u001b[39mTensorDataset(x_val, y_val), batch_size\u001b[39m=\u001b[39mbatch_size\n\u001b[1;32m     34\u001b[0m )\n\u001b[0;32m---> 36\u001b[0m _, _, _, _, val_metrics, _ \u001b[39m=\u001b[39m train_and_eval(\n\u001b[1;32m     37\u001b[0m     net, loss_fn, optimizer, batch_size, n_epochs, scheduler, train_loader, val_loader, \u001b[39mNone\u001b[39;49;00m, trial\n\u001b[1;32m     38\u001b[0m )\n\u001b[1;32m     40\u001b[0m \u001b[39m# Returning the last validation L1 norm as the objective value to minimize\u001b[39;00m\n\u001b[1;32m     41\u001b[0m \u001b[39mreturn\u001b[39;00m val_metrics[\u001b[39m-\u001b[39m\u001b[39m1\u001b[39m][\u001b[39m\"\u001b[39m\u001b[39ml1_norm\u001b[39m\u001b[39m\"\u001b[39m]\n",
            "Cell \u001b[0;32mIn[78], line 37\u001b[0m, in \u001b[0;36mtrain_and_eval\u001b[0;34m(net, loss_fn, optimizer, batch_size, n_epochs, scheduler, train_loader, val_loader, test_loader, trial)\u001b[0m\n\u001b[1;32m     34\u001b[0m optimizer\u001b[39m.\u001b[39mzero_grad()\n\u001b[1;32m     36\u001b[0m \u001b[39m# Performing a forward pass and computing the loss and metrics\u001b[39;00m\n\u001b[0;32m---> 37\u001b[0m y_pred \u001b[39m=\u001b[39m net(x_batch)\n\u001b[1;32m     38\u001b[0m loss, l1_norm, linf_norm \u001b[39m=\u001b[39m compute_loss_and_metrics(y_pred, y_batch, loss_fn)\n\u001b[1;32m     41\u001b[0m \u001b[39m# Performing a backward pass and updating the weights\u001b[39;00m\n",
            "File \u001b[0;32m~/.local/lib/python3.11/site-packages/torch/nn/modules/module.py:1501\u001b[0m, in \u001b[0;36mModule._call_impl\u001b[0;34m(self, *args, **kwargs)\u001b[0m\n\u001b[1;32m   1496\u001b[0m \u001b[39m# If we don't have any hooks, we want to skip the rest of the logic in\u001b[39;00m\n\u001b[1;32m   1497\u001b[0m \u001b[39m# this function, and just call forward.\u001b[39;00m\n\u001b[1;32m   1498\u001b[0m \u001b[39mif\u001b[39;00m \u001b[39mnot\u001b[39;00m (\u001b[39mself\u001b[39m\u001b[39m.\u001b[39m_backward_hooks \u001b[39mor\u001b[39;00m \u001b[39mself\u001b[39m\u001b[39m.\u001b[39m_backward_pre_hooks \u001b[39mor\u001b[39;00m \u001b[39mself\u001b[39m\u001b[39m.\u001b[39m_forward_hooks \u001b[39mor\u001b[39;00m \u001b[39mself\u001b[39m\u001b[39m.\u001b[39m_forward_pre_hooks\n\u001b[1;32m   1499\u001b[0m         \u001b[39mor\u001b[39;00m _global_backward_pre_hooks \u001b[39mor\u001b[39;00m _global_backward_hooks\n\u001b[1;32m   1500\u001b[0m         \u001b[39mor\u001b[39;00m _global_forward_hooks \u001b[39mor\u001b[39;00m _global_forward_pre_hooks):\n\u001b[0;32m-> 1501\u001b[0m     \u001b[39mreturn\u001b[39;00m forward_call(\u001b[39m*\u001b[39;49margs, \u001b[39m*\u001b[39;49m\u001b[39m*\u001b[39;49mkwargs)\n\u001b[1;32m   1502\u001b[0m \u001b[39m# Do not call functions when jit is used\u001b[39;00m\n\u001b[1;32m   1503\u001b[0m full_backward_hooks, non_full_backward_hooks \u001b[39m=\u001b[39m [], []\n",
            "Cell \u001b[0;32mIn[73], line 65\u001b[0m, in \u001b[0;36mNet.forward\u001b[0;34m(self, x)\u001b[0m\n\u001b[1;32m     62\u001b[0m \u001b[39massert\u001b[39;00m x\u001b[39m.\u001b[39mshape[\u001b[39m1\u001b[39m] \u001b[39m==\u001b[39m N_INPUTS, \u001b[39mf\u001b[39m\u001b[39m\"\u001b[39m\u001b[39mx must have shape (batch_size, \u001b[39m\u001b[39m{\u001b[39;00mN_INPUTS\u001b[39m}\u001b[39;00m\u001b[39m)\u001b[39m\u001b[39m\"\u001b[39m\n\u001b[1;32m     64\u001b[0m \u001b[39mfor\u001b[39;00m layer, dropout \u001b[39min\u001b[39;00m \u001b[39mzip\u001b[39m(\u001b[39mself\u001b[39m\u001b[39m.\u001b[39mlayers[:\u001b[39m-\u001b[39m\u001b[39m1\u001b[39m], \u001b[39mself\u001b[39m\u001b[39m.\u001b[39mdropouts):\n\u001b[0;32m---> 65\u001b[0m     x \u001b[39m=\u001b[39m dropout(\u001b[39mself\u001b[39m\u001b[39m.\u001b[39mhidden_activation(layer(x)))\n\u001b[1;32m     66\u001b[0m \u001b[39m# Applying the linear transformation and the activation function on the output layer\u001b[39;00m\n\u001b[1;32m     67\u001b[0m x \u001b[39m=\u001b[39m \u001b[39mself\u001b[39m\u001b[39m.\u001b[39moutput_activation(\u001b[39mself\u001b[39m\u001b[39m.\u001b[39mlayers[\u001b[39m-\u001b[39m\u001b[39m1\u001b[39m](x)) \u001b[39m# No dropout at output layer\u001b[39;00m\n",
            "File \u001b[0;32m~/.local/lib/python3.11/site-packages/torch/nn/modules/module.py:1501\u001b[0m, in \u001b[0;36mModule._call_impl\u001b[0;34m(self, *args, **kwargs)\u001b[0m\n\u001b[1;32m   1496\u001b[0m \u001b[39m# If we don't have any hooks, we want to skip the rest of the logic in\u001b[39;00m\n\u001b[1;32m   1497\u001b[0m \u001b[39m# this function, and just call forward.\u001b[39;00m\n\u001b[1;32m   1498\u001b[0m \u001b[39mif\u001b[39;00m \u001b[39mnot\u001b[39;00m (\u001b[39mself\u001b[39m\u001b[39m.\u001b[39m_backward_hooks \u001b[39mor\u001b[39;00m \u001b[39mself\u001b[39m\u001b[39m.\u001b[39m_backward_pre_hooks \u001b[39mor\u001b[39;00m \u001b[39mself\u001b[39m\u001b[39m.\u001b[39m_forward_hooks \u001b[39mor\u001b[39;00m \u001b[39mself\u001b[39m\u001b[39m.\u001b[39m_forward_pre_hooks\n\u001b[1;32m   1499\u001b[0m         \u001b[39mor\u001b[39;00m _global_backward_pre_hooks \u001b[39mor\u001b[39;00m _global_backward_hooks\n\u001b[1;32m   1500\u001b[0m         \u001b[39mor\u001b[39;00m _global_forward_hooks \u001b[39mor\u001b[39;00m _global_forward_pre_hooks):\n\u001b[0;32m-> 1501\u001b[0m     \u001b[39mreturn\u001b[39;00m forward_call(\u001b[39m*\u001b[39;49margs, \u001b[39m*\u001b[39;49m\u001b[39m*\u001b[39;49mkwargs)\n\u001b[1;32m   1502\u001b[0m \u001b[39m# Do not call functions when jit is used\u001b[39;00m\n\u001b[1;32m   1503\u001b[0m full_backward_hooks, non_full_backward_hooks \u001b[39m=\u001b[39m [], []\n",
            "File \u001b[0;32m~/.local/lib/python3.11/site-packages/torch/nn/modules/linear.py:114\u001b[0m, in \u001b[0;36mLinear.forward\u001b[0;34m(self, input)\u001b[0m\n\u001b[1;32m    113\u001b[0m \u001b[39mdef\u001b[39;00m \u001b[39mforward\u001b[39m(\u001b[39mself\u001b[39m, \u001b[39minput\u001b[39m: Tensor) \u001b[39m-\u001b[39m\u001b[39m>\u001b[39m Tensor:\n\u001b[0;32m--> 114\u001b[0m     \u001b[39mreturn\u001b[39;00m F\u001b[39m.\u001b[39;49mlinear(\u001b[39minput\u001b[39;49m, \u001b[39mself\u001b[39;49m\u001b[39m.\u001b[39;49mweight, \u001b[39mself\u001b[39;49m\u001b[39m.\u001b[39;49mbias)\n",
            "\u001b[0;31mKeyboardInterrupt\u001b[0m: "
          ]
        }
      ],
      "source": [
        "if OPTIMIZE:\n",
        "    # Creating a study object with Optuna with TPE sampler and median pruner \n",
        "    study = optuna.create_study(direction=\"minimize\", sampler=optuna.samplers.TPESampler(), pruner=optuna.pruners.MedianPruner())\n",
        "\n",
        "    # Running Optuna with 100 trials when we are optimizing.\n",
        "    study.optimize(objective, n_trials=N_TRIALS)\n",
        "\n",
        "    # Printing the best trial information\n",
        "    print(\"Best trial:\")\n",
        "    trial = study.best_trial\n",
        "    print(\"  Value: \", trial.value)\n",
        "    print(\"  Params: \")\n",
        "    for key, value in trial.params.items():\n",
        "        print(f\"    {key}: {value}\")\n"
      ]
    },
    {
      "attachments": {},
      "cell_type": "markdown",
      "metadata": {
        "id": "jmMfE9_dUZiS"
      },
      "source": [
        "## Training the model"
      ]
    },
    {
      "cell_type": "code",
      "execution_count": null,
      "metadata": {
        "id": "phyiHlWEUZiT"
      },
      "outputs": [],
      "source": [
        "# Creating the best network and optimizer using the best hyperparameters\n",
        "if OPTIMIZE:\n",
        "    net, \\\n",
        "    loss_fn, \\\n",
        "    optimizer, \\\n",
        "    batch_size, \\\n",
        "    n_epochs, \\\n",
        "    scheduler, \\\n",
        "    loss_name, \\\n",
        "    optimizer_name, \\\n",
        "    scheduler_name, \\\n",
        "    n_units, \\\n",
        "    n_layers, \\\n",
        "    hidden_activation, \\\n",
        "    output_activation, \\\n",
        "    lr, \\\n",
        "    dropout_rate = create_model(trial, optimize=True)\n",
        "\n",
        "# Creating the network with predefined hyperparameters\n",
        "else:\n",
        "    net, \\\n",
        "    loss_fn, \\\n",
        "    optimizer, \\\n",
        "    batch_size, \\\n",
        "    n_epochs, \\\n",
        "    scheduler, \\\n",
        "    loss_name, \\\n",
        "    optimizer_name, \\\n",
        "    scheduler_name, \\\n",
        "    n_units, \\\n",
        "    n_layers, \\\n",
        "    hidden_activation, \\\n",
        "    output_activation, \\\n",
        "    lr, \\\n",
        "    dropout_rate = create_model(trial=None, optimize=True)"
      ]
    },
    {
      "cell_type": "code",
      "execution_count": null,
      "metadata": {
        "colab": {
          "base_uri": "https://localhost:8080/"
        },
        "id": "_yq-oY81UZiU",
        "outputId": "dbf2f465-bd50-4a20-8926-616c3d2157d0"
      },
      "outputs": [
        {
          "name": "stdout",
          "output_type": "stream",
          "text": [
            "loss_fn: Net(\n",
            "  (hidden_activation): LeakyReLU(negative_slope=0.01)\n",
            "  (output_activation): Identity()\n",
            "  (layers): ModuleList(\n",
            "    (0): Linear(in_features=14, out_features=555, bias=True)\n",
            "    (1): Linear(in_features=555, out_features=458, bias=True)\n",
            "    (2): Linear(in_features=458, out_features=115, bias=True)\n",
            "    (3): Linear(in_features=115, out_features=1, bias=True)\n",
            "  )\n",
            "  (dropouts): ModuleList(\n",
            "    (0-2): 3 x Dropout(p=0.2, inplace=False)\n",
            "  )\n",
            ")\n",
            "loss_fn: SmoothL1Loss()\n",
            "batch_size: 49\n",
            "n_epochs: 5\n",
            "scheduler: <torch.optim.lr_scheduler.ReduceLROnPlateau object at 0x7fe3676c2790>\n",
            "loss_name: Huber\n",
            "optimizer_name: RMSprop\n",
            "scheduler_name: ReduceLROnPlateau\n",
            "n_units: [555, 458, 115]\n",
            "n_layers: 3\n",
            "hidden_activation: LeakyReLU(negative_slope=0.01)\n",
            "output_activation: Identity()\n",
            "lr 0.000122770896701404\n",
            "dropout_rate 0.2\n"
          ]
        }
      ],
      "source": [
        "print(\"loss_fn:\", net)\n",
        "print(\"loss_fn:\", loss_fn)\n",
        "print(\"batch_size:\", batch_size)\n",
        "print(\"n_epochs:\", n_epochs)\n",
        "print(\"scheduler:\", scheduler)\n",
        "print(\"loss_name:\", loss_name)\n",
        "print(\"optimizer_name:\", optimizer_name)\n",
        "print(\"scheduler_name:\", scheduler_name)\n",
        "print(\"n_units:\", n_units)\n",
        "print(\"n_layers:\", n_layers)\n",
        "print(\"hidden_activation:\", hidden_activation)\n",
        "print(\"output_activation:\", output_activation)\n",
        "print(\"lr\", lr)\n",
        "print(\"dropout_rate\", dropout_rate)"
      ]
    },
    {
      "attachments": {},
      "cell_type": "markdown",
      "metadata": {
        "colab": {
          "base_uri": "https://localhost:8080/"
        },
        "id": "E7aLWdZyUZiW",
        "outputId": "8fb1e8c6-5aa3-43a1-a255-712cf9396d0c"
      },
      "source": [
        "After optimizing with Optuna and deciding on the best hyperparameters, we combine the training and validatin set, using that as the new training set for training the model, and then evaluate the model on the test set"
      ]
    },
    {
      "cell_type": "code",
      "execution_count": null,
      "metadata": {},
      "outputs": [
        {
          "name": "stdout",
          "output_type": "stream",
          "text": [
            "Epoch 1/5.. Train loss: 3.929.. Test loss: 3.851.. Train L1 norm: 3.995.. Test L1 norm: 3.696.. Train Linf norm: 118.934.. Test Linf norm: 104.305\n",
            "Epoch 2/5.. Train loss: 3.818.. Test loss: 3.714.. Train L1 norm: 4.175.. Test L1 norm: 3.825.. Train Linf norm: 124.408.. Test Linf norm: 110.418\n",
            "Epoch 3/5.. Train loss: 3.690.. Test loss: 3.714.. Train L1 norm: 4.324.. Test L1 norm: 3.447.. Train Linf norm: 131.201.. Test Linf norm: 98.288\n",
            "Epoch 4/5.. Train loss: 3.654.. Test loss: 3.599.. Train L1 norm: 4.308.. Test L1 norm: 3.779.. Train Linf norm: 126.559.. Test Linf norm: 111.907\n",
            "Epoch 5/5.. Train loss: 3.589.. Test loss: 3.744.. Train L1 norm: 4.337.. Test L1 norm: 2.441.. Train Linf norm: 128.334.. Test Linf norm: 62.611\n"
          ]
        }
      ],
      "source": [
        "x_train_val = torch.cat((x_train, x_val), 0)\n",
        "y_train_val = torch.cat((y_train, y_val), 0)\n",
        "\n",
        "train_val_loader = torch.utils.data.DataLoader(\n",
        "    torch.utils.data.TensorDataset(x_train_val, y_train_val), batch_size=batch_size, shuffle=True\n",
        ")\n",
        "test_loader = torch.utils.data.DataLoader(\n",
        "    torch.utils.data.TensorDataset(x_test, y_test), batch_size=batch_size\n",
        ")\n",
        "\n",
        "train_losses, _, test_losses, train_metrics, _, test_metrics, = train_and_eval(\n",
        "    net, loss_fn, optimizer, batch_size, n_epochs, scheduler, train_val_loader, None, test_loader, None\n",
        ")"
      ]
    },
    {
      "attachments": {},
      "cell_type": "markdown",
      "metadata": {
        "id": "akNucrgMUZiW"
      },
      "source": [
        "## Saving"
      ]
    },
    {
      "cell_type": "code",
      "execution_count": null,
      "metadata": {
        "id": "LHsrs2Y-UZic"
      },
      "outputs": [],
      "source": [
        "# create a dictionary to store the rest of the variables\n",
        "import json\n",
        "\n",
        "# save the network to a .pth file\n",
        "torch.save(net.state_dict(), \"net.pth\")\n",
        "save_file(\"net.pth\")\n",
        "\n",
        "# save the optimizer to a .pth file\n",
        "torch.save(optimizer.state_dict(), \"optimizer.pth\")\n",
        "save_file(\"optimizer.pth\")\n",
        "\n",
        "# save the scheduler to a .pth file if it is not None\n",
        "if scheduler is not None:\n",
        "  torch.save(scheduler.state_dict(), \"scheduler.pth\")\n",
        "  save_file(\"scheduler.pth\")\n",
        "\n",
        "# create a dictionary to store the rest of the variables\n",
        "if isinstance(hidden_activation.__class__.__name__, list):\n",
        "    hidden_activation_name = hidden_activation.__class__.__name__[0]\n",
        "else:\n",
        "    hidden_activation_name = hidden_activation.__class__.__name__\n",
        "\n",
        "if isinstance(output_activation.__class__.__name__, list):\n",
        "    output_activation_name = output_activation.__class__.__name__[0]\n",
        "else:\n",
        "    output_activation_name = output_activation.__class__.__name__\n",
        "\n",
        "var_dict = {\n",
        "  \"batch_size\": batch_size,\n",
        "  \"n_epochs\": n_epochs,\n",
        "  \"loss_name\": loss_name,\n",
        "  \"optimizer_name\": optimizer_name,\n",
        "  \"scheduler_name\": scheduler_name,\n",
        "  \"n_units\": n_units,\n",
        "  \"n_layers\": n_layers,\n",
        "  \"hidden_activation_name\": hidden_activation_name,\n",
        "  \"output_activation_name\": output_activation_name,\n",
        "  \"lr\": lr,\n",
        "  \"dropout_rate\": dropout_rate\n",
        "}\n",
        "\n",
        "# Adding the subparameters to the var_dict for saving\n",
        "if hidden_activation_name == \"LeakyReLU\":\n",
        "  var_dict[\"leakyrelu_slope\"] = hidden_activation.negative_slope\n",
        "elif hidden_activation_name == \"PReLU\":\n",
        "  var_dict[\"prelu_init\"] = hidden_activation.weight.item()  # .item() is needed because weight is a tensor\n",
        "elif hidden_activation_name == \"SoftPlus\":\n",
        "  var_dict[\"softplus_beta\"] = hidden_activation.beta\n",
        "\n",
        "# save the dictionary to a .json file\n",
        "with open(\"var_dict.json\", \"w\") as f:\n",
        "  json.dump(var_dict, f)\n",
        "save_file(\"var_dict.json\")\n",
        "\n",
        "# Saving the output of the training using pandas\n",
        "train_df = pd.DataFrame(\n",
        "    {\n",
        "        \"train_loss\": train_losses,\n",
        "        \"test_loss\": test_losses,\n",
        "        \"train_l1_norm\": [m[\"l1_norm\"] for m in train_metrics],\n",
        "        \"test_l1_norm\": [m[\"l1_norm\"] for m in test_metrics],\n",
        "        \"train_linf_norm\": [m[\"linf_norm\"] for m in train_metrics],\n",
        "        \"test_linf_norm\": [m[\"linf_norm\"] for m in test_metrics],\n",
        "    }\n",
        ")\n",
        "train_df.to_csv(\"train_output.csv\", index=False)\n",
        "save_file(\"train_output.csv\")"
      ]
    },
    {
      "cell_type": "code",
      "execution_count": null,
      "metadata": {},
      "outputs": [
        {
          "data": {
            "text/plain": [
              "['batch_size',\n",
              " 'n_epochs',\n",
              " 'loss_name',\n",
              " 'optimizer_name',\n",
              " 'scheduler_name',\n",
              " 'n_units',\n",
              " 'n_layers',\n",
              " 'hidden_activation_name',\n",
              " 'output_activation_name',\n",
              " 'lr',\n",
              " 'leakyrelu_slope']"
            ]
          },
          "execution_count": 101,
          "metadata": {},
          "output_type": "execute_result"
        }
      ],
      "source": [
        "[key for key in var_dict.keys()]"
      ]
    },
    {
      "cell_type": "code",
      "execution_count": null,
      "metadata": {},
      "outputs": [
        {
          "data": {
            "text/plain": [
              "'LeakyReLU'"
            ]
          },
          "execution_count": 92,
          "metadata": {},
          "output_type": "execute_result"
        },
        {
          "data": {
            "text/plain": [
              "'Identity'"
            ]
          },
          "execution_count": 92,
          "metadata": {},
          "output_type": "execute_result"
        }
      ],
      "source": [
        "#%%script echo skipping\n",
        "\n",
        "hidden_activation_name\n",
        "output_activation_name"
      ]
    },
    {
      "attachments": {},
      "cell_type": "markdown",
      "metadata": {
        "id": "qU23l7dIUZie"
      },
      "source": [
        "## Visualizing the results"
      ]
    },
    {
      "cell_type": "code",
      "execution_count": null,
      "metadata": {
        "colab": {
          "base_uri": "https://localhost:8080/",
          "height": 1000
        },
        "id": "cippWZS6UZie",
        "outputId": "f0d6e5c3-945f-481b-a153-e54fed7fe9fa"
      },
      "outputs": [
        {
          "data": {
            "text/plain": [
              "<Figure size 1200x800 with 0 Axes>"
            ]
          },
          "execution_count": 93,
          "metadata": {},
          "output_type": "execute_result"
        },
        {
          "data": {
            "text/plain": [
              "<Axes: >"
            ]
          },
          "execution_count": 93,
          "metadata": {},
          "output_type": "execute_result"
        },
        {
          "data": {
            "text/plain": [
              "[<matplotlib.lines.Line2D at 0x7fe36762aed0>]"
            ]
          },
          "execution_count": 93,
          "metadata": {},
          "output_type": "execute_result"
        },
        {
          "data": {
            "text/plain": [
              "[<matplotlib.lines.Line2D at 0x7fe36729c310>]"
            ]
          },
          "execution_count": 93,
          "metadata": {},
          "output_type": "execute_result"
        },
        {
          "data": {
            "text/plain": [
              "Text(0.5, 0, 'Epoch')"
            ]
          },
          "execution_count": 93,
          "metadata": {},
          "output_type": "execute_result"
        },
        {
          "data": {
            "text/plain": [
              "Text(0, 0.5, 'L1 Norm')"
            ]
          },
          "execution_count": 93,
          "metadata": {},
          "output_type": "execute_result"
        },
        {
          "data": {
            "text/plain": [
              "(0.001, 100.0)"
            ]
          },
          "execution_count": 93,
          "metadata": {},
          "output_type": "execute_result"
        },
        {
          "data": {
            "text/plain": [
              "<matplotlib.legend.Legend at 0x7fe367fd8550>"
            ]
          },
          "execution_count": 93,
          "metadata": {},
          "output_type": "execute_result"
        },
        {
          "data": {
            "text/plain": [
              "<Axes: >"
            ]
          },
          "execution_count": 93,
          "metadata": {},
          "output_type": "execute_result"
        },
        {
          "data": {
            "text/plain": [
              "[<matplotlib.lines.Line2D at 0x7fe366c32190>]"
            ]
          },
          "execution_count": 93,
          "metadata": {},
          "output_type": "execute_result"
        },
        {
          "data": {
            "text/plain": [
              "[<matplotlib.lines.Line2D at 0x7fe3670dc950>]"
            ]
          },
          "execution_count": 93,
          "metadata": {},
          "output_type": "execute_result"
        },
        {
          "data": {
            "text/plain": [
              "Text(0.5, 0, 'Epoch')"
            ]
          },
          "execution_count": 93,
          "metadata": {},
          "output_type": "execute_result"
        },
        {
          "data": {
            "text/plain": [
              "Text(0, 0.5, 'Linf Norm')"
            ]
          },
          "execution_count": 93,
          "metadata": {},
          "output_type": "execute_result"
        },
        {
          "data": {
            "text/plain": [
              "(0.001, 100.0)"
            ]
          },
          "execution_count": 93,
          "metadata": {},
          "output_type": "execute_result"
        },
        {
          "data": {
            "text/plain": [
              "<matplotlib.legend.Legend at 0x7fe367458490>"
            ]
          },
          "execution_count": 93,
          "metadata": {},
          "output_type": "execute_result"
        },
        {
          "data": {
            "image/png": "[encoded data removed]",
            "text/plain": [
              "<Figure size 1200x800 with 2 Axes>"
            ]
          },
          "metadata": {},
          "output_type": "display_data"
        },
        {
          "data": {
            "text/plain": [
              "<Figure size 800x600 with 0 Axes>"
            ]
          },
          "execution_count": 93,
          "metadata": {},
          "output_type": "execute_result"
        },
        {
          "data": {
            "text/plain": [
              "[<matplotlib.lines.Line2D at 0x7fe374055bd0>]"
            ]
          },
          "execution_count": 93,
          "metadata": {},
          "output_type": "execute_result"
        },
        {
          "data": {
            "text/plain": [
              "[<matplotlib.lines.Line2D at 0x7fe374056f10>]"
            ]
          },
          "execution_count": 93,
          "metadata": {},
          "output_type": "execute_result"
        },
        {
          "data": {
            "text/plain": [
              "Text(0.5, 0, 'Epoch')"
            ]
          },
          "execution_count": 93,
          "metadata": {},
          "output_type": "execute_result"
        },
        {
          "data": {
            "text/plain": [
              "Text(0, 0.5, 'Huber Loss')"
            ]
          },
          "execution_count": 93,
          "metadata": {},
          "output_type": "execute_result"
        },
        {
          "data": {
            "text/plain": [
              "(1e-07, 1.0)"
            ]
          },
          "execution_count": 93,
          "metadata": {},
          "output_type": "execute_result"
        },
        {
          "data": {
            "text/plain": [
              "<matplotlib.legend.Legend at 0x7fe3658e91d0>"
            ]
          },
          "execution_count": 93,
          "metadata": {},
          "output_type": "execute_result"
        },
        {
          "data": {
            "image/png": "[encoded data removed]",
            "text/plain": [
              "<Figure size 800x600 with 1 Axes>"
            ]
          },
          "metadata": {},
          "output_type": "display_data"
        }
      ],
      "source": [
        "# Plotting the losses and metrics for the best network \n",
        "plt.figure(figsize=(12, 8))\n",
        "#plt.subplot(2, 2, 1)\n",
        "#plt.plot(train_losses, label=\"Train Loss\")\n",
        "#plt.plot(test_losses, label=\"Test Loss\")\n",
        "#plt.xlabel(\"Epoch\")\n",
        "#plt.ylabel(\"Loss\")\n",
        "#plt.legend()\n",
        "plt.subplot(2, 2, 2)\n",
        "plt.plot([m[\"l1_norm\"] for m in train_metrics], label=\"Train L1 Norm\")\n",
        "plt.plot([m[\"l1_norm\"] for m in test_metrics], label=\"Test L1 Norm\")\n",
        "plt.xlabel(\"Epoch\")\n",
        "plt.ylabel(\"L1 Norm\")\n",
        "# Added setting the vertical axis to be in powers of 10\n",
        "plt.yscale(\"log\")\n",
        "# Added setting the vertical axis limits to be from 10^-7 to 10^0\n",
        "plt.ylim(1e-3, 1e2)\n",
        "plt.legend()\n",
        "plt.subplot(2, 2, 3)\n",
        "plt.plot([m[\"linf_norm\"] for m in train_metrics], label=\"Train Linf Norm\")\n",
        "plt.plot([m[\"linf_norm\"] for m in test_metrics], label=\"Test Linf Norm\")\n",
        "plt.xlabel(\"Epoch\")\n",
        "plt.ylabel(\"Linf Norm\")\n",
        "# Added setting the vertical axis to be in powers of 10\n",
        "plt.yscale(\"log\")\n",
        "# Added setting the vertical axis limits to be from 10^-7 to 10^0\n",
        "plt.ylim(1e-3, 1e2)\n",
        "plt.legend()\n",
        "plt.tight_layout()\n",
        "plt.show()\n",
        "\n",
        "# Added plotting MSE of training data and MSE of test data in one plot \n",
        "plt.figure(figsize=(8, 6))\n",
        "plt.plot(train_losses,label=\"training data\")\n",
        "plt.plot(test_losses,label=\"test data\")\n",
        "#if scheduler is not None:\n",
        "#    plt.plot([scheduler.get_last_lr()[0] for _ in range(n_epochs)], label=\"Learning rate\") \n",
        "plt.xlabel(\"Epoch\")\n",
        "plt.ylabel(f\"{loss_name} Loss\")\n",
        "# Added setting the vertical axis to be in powers of 10\n",
        "plt.yscale(\"log\")\n",
        "# Added setting the vertical axis limits to be from 10^-7 to 10^0\n",
        "plt.ylim(1e-7, 1e0)\n",
        "plt.legend()\n",
        "plt.show()"
      ]
    },
    {
      "attachments": {},
      "cell_type": "markdown",
      "metadata": {
        "id": "tiEDutxIUZig"
      },
      "source": [
        "## Loading"
      ]
    },
    {
      "cell_type": "code",
      "execution_count": null,
      "metadata": {
        "colab": {
          "base_uri": "https://localhost:8080/"
        },
        "id": "p7Mj990wUZih",
        "outputId": "a1132948-c3b1-4d75-becf-4efa93c9a7d0"
      },
      "outputs": [
        {
          "data": {
            "text/plain": [
              "<All keys matched successfully>"
            ]
          },
          "execution_count": 103,
          "metadata": {},
          "output_type": "execute_result"
        }
      ],
      "source": [
        "import json\n",
        "import pandas as pd\n",
        "\n",
        "# load the dictionary from the .json file\n",
        "with open(\"var_dict.json\", \"r\") as f:\n",
        "  var_dict_loaded = json.load(f)\n",
        "\n",
        "# extract the variables from the dictionary\n",
        "batch_size_loaded = var_dict_loaded[\"batch_size\"]\n",
        "n_epochs_loaded = var_dict_loaded[\"n_epochs\"]\n",
        "loss_name_loaded = var_dict_loaded[\"loss_name\"]\n",
        "optimizer_name_loaded = var_dict_loaded[\"optimizer_name\"]\n",
        "scheduler_name_loaded = var_dict_loaded[\"scheduler_name\"]\n",
        "n_units_loaded = var_dict_loaded[\"n_units\"]\n",
        "n_layers_loaded = var_dict_loaded[\"n_layers\"]\n",
        "hidden_activation_name_loaded = var_dict_loaded[\"hidden_activation_name\"]\n",
        "output_activation_name_loaded = var_dict_loaded[\"output_activation_name\"]\n",
        "lr_loaded = var_dict_loaded[\"lr\"]\n",
        "dropout_rate_loaded = var_dict_loaded[\"dropout_rate\"]\n",
        "\n",
        "# Loading the activation functions with subparameters\n",
        "if hidden_activation_name_loaded == \"ReLU\":\n",
        "  hidden_activation_loaded = nn.ReLU()\n",
        "elif hidden_activation_name_loaded == \"LeakyReLU\":\n",
        "  negative_slope_loaded = var_dict_loaded.get(\"leakyrelu_slope\", 0.01)  # For backwards compatibiltiy with earlier models; default to 0.01 if not present\n",
        "  hidden_activation_loaded = nn.LeakyReLU(negative_slope=negative_slope_loaded)\n",
        "elif hidden_activation_name_loaded == \"PReLU\":\n",
        "  init_loaded = var_dict_loaded.get(\"prelu_init\", 0.25)  # Default to 0.25 if not present\n",
        "  hidden_activation_loaded = nn.PReLU(init=init_loaded)\n",
        "elif hidden_activation_name_loaded == \"ELU\":\n",
        "  hidden_activation_loaded = nn.ELU()\n",
        "elif hidden_activation_name_loaded == \"SoftPlus\":\n",
        "  beta_loaded = var_dict_loaded.get(\"softplus_beta\", 1)  # Default to 1 if not present\n",
        "  hidden_activation_loaded = nn.Softplus(beta=beta_loaded)\n",
        "\n",
        "# We used to have options here, but since we have a regression problem with continuous output, we only use Linear.\n",
        "output_activation_loaded = nn.Identity()\n",
        "\n",
        "# load the network from the .pth file\n",
        "net_loaded = Net(\n",
        "    n_layers_loaded, \n",
        "    n_units_loaded, \n",
        "    hidden_activation_loaded, \n",
        "    output_activation_loaded, \n",
        "    dropout_rate_loaded\n",
        ").to(device)\n",
        "\n",
        "if torch.cuda.is_available():\n",
        " net_loaded.load_state_dict(torch.load(\"net.pth\"))\n",
        "else: \n",
        "  net_loaded.load_state_dict(torch.load(\"net.pth\", map_location=torch.device('cpu')))\n",
        "\n",
        "\n",
        "# Creating the loss function from its name\n",
        "if loss_name_loaded == \"MSE\":\n",
        "    loss_fn_loaded = nn.MSELoss()\n",
        "elif loss_name_loaded == \"MAE\":\n",
        "    loss_fn_loaded = nn.L1Loss()\n",
        "elif loss_name_loaded == \"Huber\":\n",
        "    loss_fn_loaded = nn.SmoothL1Loss() \n",
        "elif loss_name_loaded == \"Quantile\":\n",
        "    def quantile_loss(y_pred, y_true, q=0.5):\n",
        "        e = y_pred - y_true\n",
        "        return torch.mean(torch.max(q*e, (q-1)*e))\n",
        "    loss_fn_loaded = quantile_loss\n",
        "\n",
        "# load the optimizer from the .pth file\n",
        "if torch.cuda.is_available():\n",
        "  optimizer_loaded_state_dict = torch.load(\"optimizer.pth\")\n",
        "else:\n",
        "  optimizer_loaded_state_dict = torch.load(\"optimizer.pth\", map_location=torch.device('cpu'))\n",
        "\n",
        "if optimizer_name_loaded == \"SGD\":\n",
        "  # Added getting the weight decay and momentum parameters from the state dict\n",
        "  weight_decay_loaded = optimizer_loaded_state_dict[\"param_groups\"][0][\"weight_decay\"]\n",
        "  momentum_loaded = optimizer_loaded_state_dict[\"param_groups\"][0][\"momentum\"]\n",
        "  optimizer_loaded = optim.SGD(net_loaded.parameters(), lr=lr_loaded, weight_decay=weight_decay_loaded, momentum=momentum_loaded)\n",
        "elif optimizer_name_loaded == \"Adam\":\n",
        "  # Added getting the weight decay and beta parameters from the state dict\n",
        "  weight_decay_loaded = optimizer_loaded_state_dict[\"param_groups\"][0][\"weight_decay\"]\n",
        "  beta1_loaded = optimizer_loaded_state_dict[\"param_groups\"][0][\"betas\"][0]\n",
        "  beta2_loaded = optimizer_loaded_state_dict[\"param_groups\"][0][\"betas\"][1]\n",
        "  optimizer_loaded = optim.Adam(net_loaded.parameters(), lr=lr_loaded, weight_decay=weight_decay_loaded, betas=(beta1_loaded, beta2_loaded))\n",
        "elif optimizer_name_loaded == \"RMSprop\":\n",
        "  optimizer_loaded = optim.RMSprop(net_loaded.parameters(), lr=lr_loaded)\n",
        "elif optimizer_name_loaded == \"Adagrad\":\n",
        "  # Added loading the Adagrad optimizer\n",
        "  optimizer_loaded = optim.Adagrad(net_loaded.parameters(), lr=lr_loaded)\n",
        "optimizer_loaded.load_state_dict(optimizer_loaded_state_dict)\n",
        "\n",
        "# load the scheduler from the .pth file\n",
        "if torch.cuda.is_available():\n",
        "  scheduler_loaded_state_dict = torch.load(\"scheduler.pth\")\n",
        "else: \n",
        "  scheduler_loaded_state_dict = torch.load(\"scheduler.pth\", map_location=torch.device('cpu'))\n",
        "\n",
        "if scheduler_name_loaded == \"StepLR\":\n",
        "  # Added getting the step_size and gamma parameters from the state dict\n",
        "  step_size_loaded = scheduler_loaded_state_dict[\"step_size\"]\n",
        "  gamma_loaded = scheduler_loaded_state_dict[\"gamma\"]\n",
        "  scheduler_loaded = optim.lr_scheduler.StepLR(optimizer_loaded, step_size=step_size_loaded, gamma=gamma_loaded)\n",
        "elif scheduler_name_loaded == \"ExponentialLR\":\n",
        "  # Added getting the gamma parameter from the state dict\n",
        "  gamma_loaded = scheduler_loaded_state_dict[\"gamma\"]\n",
        "  scheduler_loaded = optim.lr_scheduler.ExponentialLR(optimizer_loaded, gamma=gamma_loaded)\n",
        "elif scheduler_name_loaded == \"CosineAnnealingLR\":\n",
        "  # Added getting the T_max parameter from the state dict\n",
        "  T_max_loaded = scheduler_loaded_state_dict[\"T_max\"]\n",
        "  scheduler_loaded = optim.lr_scheduler.CosineAnnealingLR(optimizer_loaded, T_max=T_max_loaded)\n",
        "elif scheduler_name_loaded == \"ReduceLROnPlateau\":\n",
        "  # Added getting the mode, factor, patience, threshold and min_lr parameters from the state dict\n",
        "  mode_loaded = scheduler_loaded_state_dict[\"mode\"]\n",
        "  factor_loaded = scheduler_loaded_state_dict[\"factor\"]\n",
        "  patience_loaded = scheduler_loaded_state_dict[\"patience\"]\n",
        "  threshold_loaded = scheduler_loaded_state_dict[\"threshold\"]\n",
        "  min_lr_loaded = scheduler_loaded_state_dict[\"min_lrs\"][0]\n",
        "  scheduler_loaded = optim.lr_scheduler.ReduceLROnPlateau(\n",
        "                    optimizer_loaded, mode=mode_loaded, factor=factor_loaded, patience=patience_loaded, threshold=threshold_loaded, min_lr=min_lr_loaded\n",
        "                )\n",
        "elif scheduler_name_loaded == \"CyclicLR\":  # Added CyclicLR\n",
        "    base_lr_loaded = scheduler_loaded_state_dict[\"base_lr\"]\n",
        "    max_lr_loaded = scheduler_loaded_state_dict[\"max_lr\"]\n",
        "    step_size_up_loaded = scheduler_loaded_state_dict[\"step_size_up\"]\n",
        "    scheduler_loaded = optim.lr_scheduler.CyclicLR(\n",
        "                    optimizer, base_lr=base_lr_loaded, max_lr=max_lr_loaded, step_size_up=step_size_up_loaded\n",
        "                )\n",
        "else:\n",
        "  scheduler_loaded = None\n",
        "\n",
        "if scheduler_loaded is not None:\n",
        "  # Added loading the state dict to the scheduler_loaded\n",
        "  scheduler_loaded.load_state_dict(scheduler_loaded_state_dict)\n",
        "\n",
        "# Loading the output of the training using pandas\n",
        "train_df_loaded = pd.read_csv(\"train_output.csv\")\n",
        "train_losses_loaded = train_df_loaded[\"train_loss\"].tolist()\n",
        "test_losses_loaded = train_df_loaded[\"test_loss\"].tolist()\n",
        "train_metrics_loaded = [\n",
        "    {\n",
        "        \"l1_norm\": train_df_loaded[\"train_l1_norm\"][i],\n",
        "        \"linf_norm\": train_df_loaded[\"train_linf_norm\"][i],\n",
        "    }\n",
        "    for i in range(len(train_df_loaded))\n",
        "]\n",
        "test_metrics_loaded = [\n",
        "    {\n",
        "        \"l1_norm\": train_df_loaded[\"test_l1_norm\"][i],\n",
        "        \"linf_norm\": train_df_loaded[\"test_linf_norm\"][i],\n",
        "    }\n",
        "    for i in range(len(train_df_loaded))\n",
        "]"
      ]
    },
    {
      "cell_type": "code",
      "execution_count": null,
      "metadata": {},
      "outputs": [
        {
          "data": {
            "text/plain": [
              "49"
            ]
          },
          "execution_count": 104,
          "metadata": {},
          "output_type": "execute_result"
        },
        {
          "data": {
            "text/plain": [
              "5"
            ]
          },
          "execution_count": 104,
          "metadata": {},
          "output_type": "execute_result"
        },
        {
          "data": {
            "text/plain": [
              "'Huber'"
            ]
          },
          "execution_count": 104,
          "metadata": {},
          "output_type": "execute_result"
        },
        {
          "data": {
            "text/plain": [
              "'RMSprop'"
            ]
          },
          "execution_count": 104,
          "metadata": {},
          "output_type": "execute_result"
        },
        {
          "data": {
            "text/plain": [
              "'ReduceLROnPlateau'"
            ]
          },
          "execution_count": 104,
          "metadata": {},
          "output_type": "execute_result"
        },
        {
          "data": {
            "text/plain": [
              "[555, 458, 115]"
            ]
          },
          "execution_count": 104,
          "metadata": {},
          "output_type": "execute_result"
        },
        {
          "data": {
            "text/plain": [
              "3"
            ]
          },
          "execution_count": 104,
          "metadata": {},
          "output_type": "execute_result"
        },
        {
          "data": {
            "text/plain": [
              "'LeakyReLU'"
            ]
          },
          "execution_count": 104,
          "metadata": {},
          "output_type": "execute_result"
        },
        {
          "data": {
            "text/plain": [
              "'Identity'"
            ]
          },
          "execution_count": 104,
          "metadata": {},
          "output_type": "execute_result"
        },
        {
          "data": {
            "text/plain": [
              "0.000122770896701404"
            ]
          },
          "execution_count": 104,
          "metadata": {},
          "output_type": "execute_result"
        },
        {
          "data": {
            "text/plain": [
              "0.2"
            ]
          },
          "execution_count": 104,
          "metadata": {},
          "output_type": "execute_result"
        }
      ],
      "source": [
        "# %%script echo skipping\n",
        "\n",
        "var_dict_loaded[\"batch_size\"]\n",
        "var_dict_loaded[\"n_epochs\"]\n",
        "var_dict_loaded[\"loss_name\"]\n",
        "var_dict_loaded[\"optimizer_name\"]\n",
        "var_dict_loaded[\"scheduler_name\"]\n",
        "var_dict_loaded[\"n_units\"]\n",
        "var_dict_loaded[\"n_layers\"]\n",
        "var_dict_loaded[\"hidden_activation_name\"]\n",
        "var_dict_loaded[\"output_activation_name\"]\n",
        "var_dict_loaded[\"lr\"]\n",
        "var_dict_loaded[\"dropout_rate\"]"
      ]
    },
    {
      "cell_type": "code",
      "execution_count": null,
      "metadata": {},
      "outputs": [
        {
          "name": "stdout",
          "output_type": "stream",
          "text": [
            "skipping\n"
          ]
        }
      ],
      "source": [
        "%%script echo skipping\n",
        "\n",
        "scheduler_loaded_state_dict[\"mode\"]\n",
        "scheduler_loaded_state_dict[\"factor\"]\n",
        "scheduler_loaded_state_dict[\"patience\"]\n",
        "scheduler_loaded_state_dict[\"threshold\"]\n",
        "scheduler_loaded_state_dict[\"min_lrs\"]\n",
        "\n",
        "\n",
        "scheduler_loaded_state_dict[\"base_lr\"]\n",
        "scheduler_loaded_state_dict[\"max_lr\"]\n",
        "scheduler_loaded_state_dict[\"step_size_up\"]"
      ]
    },
    {
      "cell_type": "code",
      "execution_count": null,
      "metadata": {},
      "outputs": [
        {
          "data": {
            "text/plain": [
              "{'batch_size': 49,\n",
              " 'n_epochs': 5,\n",
              " 'loss_name': 'Huber',\n",
              " 'optimizer_name': 'RMSprop',\n",
              " 'scheduler_name': 'ReduceLROnPlateau',\n",
              " 'n_units': [555, 458, 115],\n",
              " 'n_layers': 3,\n",
              " 'hidden_activation_name': 'LeakyReLU',\n",
              " 'output_activation_name': 'Identity',\n",
              " 'lr': 0.000122770896701404,\n",
              " 'dropout_rate': 0.2,\n",
              " 'leakyrelu_slope': 0.01}"
            ]
          },
          "execution_count": 225,
          "metadata": {},
          "output_type": "execute_result"
        },
        {
          "data": {
            "text/plain": [
              "'LeakyReLU'"
            ]
          },
          "execution_count": 225,
          "metadata": {},
          "output_type": "execute_result"
        }
      ],
      "source": [
        "# %%script echo skipping\n",
        "\n",
        "var_dict\n",
        "hidden_activation_name_loaded"
      ]
    },
    {
      "cell_type": "code",
      "execution_count": null,
      "metadata": {
        "colab": {
          "base_uri": "https://localhost:8080/",
          "height": 1000
        },
        "id": "GQ_fcj7zUZii",
        "outputId": "c4979ef0-a99c-4754-e222-3af23a83c1cb"
      },
      "outputs": [
        {
          "data": {
            "text/plain": [
              "0.01"
            ]
          },
          "execution_count": 226,
          "metadata": {},
          "output_type": "execute_result"
        },
        {
          "data": {
            "text/plain": [
              "49"
            ]
          },
          "execution_count": 226,
          "metadata": {},
          "output_type": "execute_result"
        },
        {
          "data": {
            "text/plain": [
              "5"
            ]
          },
          "execution_count": 226,
          "metadata": {},
          "output_type": "execute_result"
        },
        {
          "data": {
            "text/plain": [
              "'Huber'"
            ]
          },
          "execution_count": 226,
          "metadata": {},
          "output_type": "execute_result"
        },
        {
          "data": {
            "text/plain": [
              "'RMSprop'"
            ]
          },
          "execution_count": 226,
          "metadata": {},
          "output_type": "execute_result"
        },
        {
          "data": {
            "text/plain": [
              "'ReduceLROnPlateau'"
            ]
          },
          "execution_count": 226,
          "metadata": {},
          "output_type": "execute_result"
        },
        {
          "data": {
            "text/plain": [
              "[555, 458, 115]"
            ]
          },
          "execution_count": 226,
          "metadata": {},
          "output_type": "execute_result"
        },
        {
          "data": {
            "text/plain": [
              "3"
            ]
          },
          "execution_count": 226,
          "metadata": {},
          "output_type": "execute_result"
        },
        {
          "data": {
            "text/plain": [
              "'LeakyReLU'"
            ]
          },
          "execution_count": 226,
          "metadata": {},
          "output_type": "execute_result"
        },
        {
          "data": {
            "text/plain": [
              "'Identity'"
            ]
          },
          "execution_count": 226,
          "metadata": {},
          "output_type": "execute_result"
        },
        {
          "data": {
            "text/plain": [
              "0.000122770896701404"
            ]
          },
          "execution_count": 226,
          "metadata": {},
          "output_type": "execute_result"
        },
        {
          "data": {
            "text/plain": [
              "0.2"
            ]
          },
          "execution_count": 107,
          "metadata": {},
          "output_type": "execute_result"
        },
        {
          "data": {
            "text/plain": [
              "LeakyReLU(negative_slope=0.01)"
            ]
          },
          "execution_count": 226,
          "metadata": {},
          "output_type": "execute_result"
        },
        {
          "data": {
            "text/plain": [
              "Identity()"
            ]
          },
          "execution_count": 226,
          "metadata": {},
          "output_type": "execute_result"
        },
        {
          "data": {
            "text/plain": [
              "Net(\n",
              "  (hidden_activation): LeakyReLU(negative_slope=0.01)\n",
              "  (output_activation): Identity()\n",
              "  (layers): ModuleList(\n",
              "    (0): Linear(in_features=14, out_features=555, bias=True)\n",
              "    (1): Linear(in_features=555, out_features=458, bias=True)\n",
              "    (2): Linear(in_features=458, out_features=115, bias=True)\n",
              "    (3): Linear(in_features=115, out_features=1, bias=True)\n",
              "  )\n",
              "  (dropouts): ModuleList(\n",
              "    (0-2): 3 x Dropout(p=0.2, inplace=False)\n",
              "  )\n",
              ")"
            ]
          },
          "execution_count": 107,
          "metadata": {},
          "output_type": "execute_result"
        },
        {
          "data": {
            "text/plain": [
              "{'training': True,\n",
              " '_parameters': OrderedDict(),\n",
              " '_buffers': OrderedDict(),\n",
              " '_non_persistent_buffers_set': set(),\n",
              " '_backward_pre_hooks': OrderedDict(),\n",
              " '_backward_hooks': OrderedDict(),\n",
              " '_is_full_backward_hook': None,\n",
              " '_forward_hooks': OrderedDict(),\n",
              " '_forward_hooks_with_kwargs': OrderedDict(),\n",
              " '_forward_pre_hooks': OrderedDict(),\n",
              " '_forward_pre_hooks_with_kwargs': OrderedDict(),\n",
              " '_state_dict_hooks': OrderedDict(),\n",
              " '_state_dict_pre_hooks': OrderedDict(),\n",
              " '_load_state_dict_pre_hooks': OrderedDict(),\n",
              " '_load_state_dict_post_hooks': OrderedDict(),\n",
              " '_modules': OrderedDict([('hidden_activation',\n",
              "               LeakyReLU(negative_slope=0.01)),\n",
              "              ('output_activation', Identity()),\n",
              "              ('layers',\n",
              "               ModuleList(\n",
              "                 (0): Linear(in_features=14, out_features=555, bias=True)\n",
              "                 (1): Linear(in_features=555, out_features=458, bias=True)\n",
              "                 (2): Linear(in_features=458, out_features=115, bias=True)\n",
              "                 (3): Linear(in_features=115, out_features=1, bias=True)\n",
              "               )),\n",
              "              ('dropouts',\n",
              "               ModuleList(\n",
              "                 (0-2): 3 x Dropout(p=0.2, inplace=False)\n",
              "               ))]),\n",
              " 'n_layers': 3,\n",
              " 'n_units': [555, 458, 115],\n",
              " 'dropout_rate': 0.2}"
            ]
          },
          "execution_count": 107,
          "metadata": {},
          "output_type": "execute_result"
        },
        {
          "data": {
            "text/plain": [
              "SmoothL1Loss()"
            ]
          },
          "execution_count": 226,
          "metadata": {},
          "output_type": "execute_result"
        },
        {
          "data": {
            "text/plain": [
              "RMSprop (\n",
              "Parameter Group 0\n",
              "    alpha: 0.99\n",
              "    centered: False\n",
              "    differentiable: False\n",
              "    eps: 1e-08\n",
              "    foreach: None\n",
              "    lr: 0.000122770896701404\n",
              "    maximize: False\n",
              "    momentum: 0\n",
              "    weight_decay: 0\n",
              ")"
            ]
          },
          "execution_count": 226,
          "metadata": {},
          "output_type": "execute_result"
        },
        {
          "data": {
            "text/plain": [
              "{'defaults': {'lr': 0.000122770896701404,\n",
              "  'momentum': 0,\n",
              "  'alpha': 0.99,\n",
              "  'eps': 1e-08,\n",
              "  'centered': False,\n",
              "  'weight_decay': 0,\n",
              "  'foreach': None,\n",
              "  'maximize': False,\n",
              "  'differentiable': False},\n",
              " '_optimizer_step_pre_hooks': OrderedDict(),\n",
              " '_optimizer_step_post_hooks': OrderedDict(),\n",
              " '_zero_grad_profile_name': 'Optimizer.zero_grad#RMSprop.zero_grad',\n",
              " 'state': defaultdict(dict,\n",
              "             {Parameter containing:\n",
              "              tensor([[-0.0877,  0.0544,  0.0706,  ...,  0.0281,  0.0910,  0.0639],\n",
              "                      [-0.2237,  0.2312, -0.0815,  ...,  0.0316,  0.1133,  0.2938],\n",
              "                      [ 0.4092,  0.0123, -0.1909,  ...,  0.1701,  0.0923,  0.5303],\n",
              "                      ...,\n",
              "                      [ 0.0791,  0.2196, -0.0660,  ...,  0.1746, -0.2019, -0.0498],\n",
              "                      [-0.0114,  0.0205, -0.2023,  ..., -0.1764,  0.0276, -0.1073],\n",
              "                      [ 0.1830,  0.1175,  0.0901,  ...,  0.3002,  0.3285,  0.1964]],\n",
              "                     requires_grad=True): {'step': 8165,\n",
              "               'square_avg': tensor([[7.3339e-07, 1.6680e-04, 4.8881e-04,  ..., 8.9990e-09, 1.8529e-11,\n",
              "                        8.0700e-09],\n",
              "                       [5.8096e-06, 9.1298e-02, 8.7219e-02,  ..., 7.5312e-07, 2.7520e-09,\n",
              "                        7.5011e-07],\n",
              "                       [6.5639e-05, 1.1232e+00, 3.8206e-01,  ..., 5.5602e-06, 1.9578e-08,\n",
              "                        5.4321e-06],\n",
              "                       ...,\n",
              "                       [3.7757e-05, 6.1685e-02, 2.3130e-02,  ..., 3.2576e-06, 1.0039e-08,\n",
              "                        3.2136e-06],\n",
              "                       [1.3245e-05, 1.0709e+00, 1.8429e-01,  ..., 1.8775e-07, 5.9682e-10,\n",
              "                        1.9055e-07],\n",
              "                       [2.4104e-05, 2.4191e-02, 2.3184e-02,  ..., 1.2188e-06, 3.5338e-09,\n",
              "                        1.1935e-06]])},\n",
              "              Parameter containing:\n",
              "              tensor([-2.2832e-01,  5.1003e-02,  4.7840e-02,  5.7017e-02,  6.6249e-02,\n",
              "                      -3.7406e-01,  7.2150e-03, -4.1425e-01, -9.7748e-02, -4.4647e-01,\n",
              "                      -1.1737e-02,  5.1845e-01,  2.4613e-01,  1.2681e-01, -6.6129e-02,\n",
              "                      -7.1715e-02,  2.5884e-01, -2.3750e-01,  3.4896e-01,  7.3263e-04,\n",
              "                      -1.3956e-01,  3.5456e-01, -7.3743e-02, -4.1134e-01, -1.0702e-01,\n",
              "                      -1.4125e-01, -1.2811e-01,  3.8215e-01,  8.8693e-02,  6.7092e-02,\n",
              "                       2.8465e-01, -6.1813e-03, -5.2848e-03, -9.6717e-03,  3.7236e-01,\n",
              "                      -5.0534e-01,  4.3277e-03,  1.5531e-01, -1.6110e-01, -1.6693e-01,\n",
              "                       1.6808e-01, -6.7653e-02,  1.6051e-01,  1.0435e-02,  1.8878e-01,\n",
              "                      -3.6160e-01,  1.5555e-01,  1.3916e-01, -2.6147e-01, -3.8848e-01,\n",
              "                      -3.9531e-01,  3.2312e-01,  1.5919e-01, -2.2777e-01,  1.1614e-01,\n",
              "                       1.2477e-01,  4.5661e-01, -5.1635e-02, -1.2464e-01, -5.1550e-02,\n",
              "                       1.1669e-01,  3.1403e-02,  3.3350e-01, -1.9863e-01,  2.4360e-01,\n",
              "                      -4.9425e-01, -3.9769e-01, -3.5378e-02,  2.6284e-01, -2.7368e-02,\n",
              "                       2.2852e-01,  1.3129e-01,  5.4011e-02,  1.5590e-01,  3.3769e-01,\n",
              "                      -3.8580e-01,  1.4485e-01, -2.0147e-01,  2.8757e-01,  2.4312e-01,\n",
              "                      -1.7414e-01,  1.4247e-01, -1.9451e-01,  2.2162e-01,  7.9929e-02,\n",
              "                       3.3906e-01, -8.1396e-02,  1.9345e-01, -5.1681e-01, -1.2201e-01,\n",
              "                      -7.9018e-02,  3.0992e-01, -1.2283e-01,  2.6732e-01,  4.3037e-02,\n",
              "                      -7.7530e-02, -3.1242e-01, -4.8474e-02, -5.4114e-02,  4.6498e-01,\n",
              "                       3.7730e-01, -1.6462e-01, -3.4207e-01,  4.9656e-01, -2.6550e-01,\n",
              "                       9.4184e-02,  1.2865e-01,  1.3800e-01,  6.8682e-02,  1.0843e-01,\n",
              "                       3.9593e-01, -1.0080e-01,  3.5910e-01,  4.7774e-01,  1.4436e-01,\n",
              "                       7.3410e-02, -2.0473e-02,  1.9658e-02,  1.0230e-02, -2.5897e-01,\n",
              "                      -4.2264e-01, -4.2310e-02,  2.3368e-01,  9.0779e-02,  3.3170e-02,\n",
              "                       1.8676e-02, -1.2576e-01,  1.5962e-01, -2.8173e-01, -4.2377e-01,\n",
              "                      -6.2272e-02,  2.2722e-02, -9.0613e-04, -2.2394e-01,  5.0120e-01,\n",
              "                       2.8383e-02, -1.6005e-01,  4.4006e-02,  3.3137e-01,  2.7822e-01,\n",
              "                       5.2303e-01, -1.2551e-01,  3.6700e-01,  1.3439e-01, -3.2926e-02,\n",
              "                       2.6523e-01, -2.1844e-01, -1.4904e-01, -3.0956e-01,  5.6917e-01,\n",
              "                      -9.0877e-02, -3.5380e-01, -5.0238e-03, -2.5003e-01,  1.9086e-02,\n",
              "                       2.7983e-01,  1.4587e-01,  1.2133e-01, -4.5847e-01, -1.2254e-02,\n",
              "                       3.1489e-01, -1.8829e-01, -3.3602e-01,  2.3110e-01, -3.6931e-01,\n",
              "                       3.4476e-01,  2.7694e-01,  1.6933e-01,  8.5906e-02, -4.0142e-01,\n",
              "                      -2.3494e-01,  1.1879e-01,  4.1066e-01, -4.2157e-01,  1.1766e-02,\n",
              "                      -3.5986e-02, -2.9087e-01,  4.0485e-02,  3.3350e-02,  1.0097e-01,\n",
              "                      -6.5778e-02, -1.9294e-01,  5.2835e-02,  1.4888e-01,  2.1947e-01,\n",
              "                      -1.3755e-02,  2.8095e-01,  4.4157e-01,  4.7751e-01, -4.5773e-01,\n",
              "                       1.7217e-01, -2.2697e-01, -8.3227e-02,  3.8579e-02,  1.6826e-01,\n",
              "                      -2.1151e-01, -7.6371e-02,  3.8029e-01,  1.0037e-01,  1.5207e-01,\n",
              "                       1.7047e-01,  1.1457e-01,  1.9289e-01,  6.8978e-02,  4.6285e-02,\n",
              "                      -4.0515e-01, -4.5465e-03, -1.3742e-01, -2.2670e-01, -8.6942e-02,\n",
              "                      -1.3465e-01, -3.3723e-02,  1.5901e-01,  2.2150e-01, -3.4495e-01,\n",
              "                       3.5361e-01, -2.3164e-02,  1.8948e-01, -3.8590e-01,  1.9825e-01,\n",
              "                      -2.6622e-01, -1.6167e-01,  1.8647e-01, -3.2161e-01, -1.8046e-02,\n",
              "                      -2.4630e-02, -2.1803e-01, -1.8381e-03, -1.0260e-01,  1.4079e-01,\n",
              "                      -1.7315e-01,  8.0950e-02,  1.5475e-01,  2.1216e-01, -3.2012e-01,\n",
              "                      -1.3185e-01,  2.6219e-01, -7.0029e-02, -8.3173e-02,  2.3922e-01,\n",
              "                       1.2877e-01,  2.4538e-01, -1.3536e-01, -3.1044e-02,  9.5752e-02,\n",
              "                      -1.2746e-01,  2.0306e-01,  3.5924e-01, -3.9758e-01,  1.1849e-01,\n",
              "                      -9.3816e-02,  8.4043e-02,  1.1274e-01,  1.4720e-01,  2.2847e-02,\n",
              "                      -1.7833e-01, -4.2520e-01,  1.2920e-02,  8.0487e-02,  2.6405e-01,\n",
              "                       1.1141e-01,  1.8189e-01, -4.1865e-01, -6.1867e-03, -3.5408e-01,\n",
              "                       2.7340e-01,  2.5847e-01,  2.8898e-01, -3.3597e-02,  6.9658e-02,\n",
              "                      -1.3548e-01,  3.7086e-02,  5.3017e-01,  4.6790e-02,  5.1048e-02,\n",
              "                       2.4731e-01,  3.0048e-01,  1.2759e-01, -3.2059e-01, -3.2363e-01,\n",
              "                      -3.4978e-01, -6.4427e-02, -4.3634e-03, -2.0569e-01, -3.0793e-01,\n",
              "                      -8.0593e-02, -1.5114e-01,  3.4702e-01,  8.5631e-02,  6.3201e-02,\n",
              "                      -3.6854e-02,  2.9282e-01, -3.0841e-02,  2.2251e-01, -8.5914e-02,\n",
              "                       1.1499e-01, -1.3427e-01, -4.5347e-01, -2.4538e-01, -3.3410e-02,\n",
              "                      -5.9901e-02,  6.7196e-02, -1.5161e-01,  2.7748e-01, -4.6827e-01,\n",
              "                      -3.3759e-01, -4.1269e-01, -5.7090e-02,  2.3011e-01,  5.2508e-01,\n",
              "                       4.5435e-01, -1.0216e-01, -3.4120e-02,  2.0720e-01,  4.2495e-02,\n",
              "                      -3.1907e-02, -2.6309e-01, -6.2306e-02,  1.7012e-01,  8.9726e-02,\n",
              "                      -2.1117e-01, -1.8509e-01, -4.5784e-01,  8.3494e-02, -6.8154e-02,\n",
              "                      -1.2590e-01,  3.5693e-01, -1.5651e-01,  2.1896e-01,  2.2649e-01,\n",
              "                      -3.6422e-01,  1.0651e-01,  7.4236e-02, -1.1688e-01,  2.1168e-01,\n",
              "                       1.8446e-02,  1.9113e-01, -4.1578e-01,  2.4215e-03, -1.1316e-01,\n",
              "                       3.3130e-02, -1.4292e-01, -2.2413e-01,  4.1672e-02,  1.0990e-01,\n",
              "                       2.1315e-02,  3.2500e-01, -1.7813e-04, -1.4609e-01,  1.6314e-01,\n",
              "                       3.2279e-01, -8.2160e-02,  6.7586e-02,  7.4442e-03, -2.4117e-01,\n",
              "                      -2.6661e-01, -1.9407e-02,  3.3140e-02,  2.1090e-01, -3.7728e-01,\n",
              "                       3.7757e-01, -3.5926e-02, -2.1272e-01,  1.6311e-01, -2.9521e-02,\n",
              "                       9.3313e-02, -8.9066e-02, -1.1659e-01, -2.5052e-01, -3.0353e-01,\n",
              "                       1.4338e-01, -4.4916e-01,  1.0998e-02, -2.0532e-02,  2.0188e-01,\n",
              "                       2.9218e-03, -9.1361e-03, -2.3773e-01, -3.4685e-01, -1.8259e-01,\n",
              "                       9.3993e-02, -1.4165e-01,  1.3609e-01, -2.1124e-01, -1.9726e-01,\n",
              "                       8.2911e-02, -3.4609e-01, -1.1805e-01,  2.8051e-01, -4.0719e-01,\n",
              "                      -3.3223e-01,  1.7858e-01,  3.2659e-01,  2.3486e-01,  4.3500e-01,\n",
              "                       1.6865e-01, -4.9513e-02, -1.7665e-01, -2.2890e-01,  9.6134e-03,\n",
              "                      -1.1377e-01,  4.3306e-02,  1.5983e-01, -1.7914e-01,  5.5511e-01,\n",
              "                       1.0649e-02, -1.9957e-01, -1.6441e-01,  3.6751e-01,  1.3733e-01,\n",
              "                      -3.6131e-01, -2.8687e-01,  2.0534e-01,  1.0745e-01, -3.2745e-02,\n",
              "                      -1.3781e-01,  1.8816e-01, -1.9422e-01, -5.4007e-01,  2.0246e-01,\n",
              "                       1.4065e-01, -1.0261e-01,  1.6458e-01, -3.1065e-02,  1.8380e-01,\n",
              "                      -1.4456e-01,  2.6257e-01, -2.0832e-01, -3.1831e-01, -3.3617e-01,\n",
              "                      -8.5683e-02, -4.0332e-02,  3.9607e-01, -1.5500e-01,  2.3838e-01,\n",
              "                       2.5525e-01,  2.2693e-01, -2.4440e-01, -8.0986e-02, -3.6036e-02,\n",
              "                       1.5695e-01, -5.6185e-02,  1.6416e-02,  2.1045e-01, -1.7026e-02,\n",
              "                      -2.5604e-01, -1.3943e-01, -1.9734e-01,  1.3527e-01, -2.8927e-01,\n",
              "                      -1.5750e-01, -2.1517e-01,  1.7020e-02, -1.1317e-02,  1.6039e-01,\n",
              "                       5.0363e-01, -4.5958e-01, -2.9975e-01, -2.0433e-01, -1.6142e-01,\n",
              "                       1.5067e-01, -2.1325e-01,  1.4348e-01, -5.6472e-01,  3.3006e-01,\n",
              "                      -3.0467e-01, -4.0721e-01,  1.6047e-01,  4.6948e-01, -3.4470e-01,\n",
              "                      -3.6532e-01,  3.4206e-01,  1.6779e-01, -1.6626e-01,  1.9302e-01,\n",
              "                      -5.8430e-02, -1.5025e-01, -1.0277e-01,  2.8207e-01, -1.0958e-01,\n",
              "                      -1.2020e-01,  6.6719e-02,  5.4909e-02,  4.2036e-01, -3.4917e-01,\n",
              "                       2.2742e-01,  1.4055e-01, -8.7328e-02,  3.1453e-01, -3.2150e-01,\n",
              "                      -8.7153e-02, -5.0247e-01, -1.2243e-01, -1.7651e-01, -3.9666e-01,\n",
              "                       3.2451e-01,  2.3078e-01, -1.1493e-01, -7.8878e-02,  1.3929e-01,\n",
              "                       3.7071e-02,  1.9534e-01,  2.1600e-01,  1.3360e-01,  3.7699e-01,\n",
              "                       1.1689e-01,  3.2871e-01,  2.2684e-01,  3.5271e-02,  2.9790e-01,\n",
              "                       6.1346e-02,  3.4313e-01, -3.1739e-01, -2.9167e-01, -2.6479e-01,\n",
              "                      -5.4257e-03,  7.0070e-02, -1.4633e-01, -3.7833e-01, -1.0964e-01,\n",
              "                      -1.0244e-01, -1.9448e-01, -3.7671e-01, -4.1314e-01, -2.5841e-01,\n",
              "                      -3.2312e-01, -2.0395e-01, -1.6129e-01, -1.4952e-01, -1.6148e-01,\n",
              "                      -3.8438e-01,  4.3679e-01, -5.3588e-02, -1.0800e-01, -1.7091e-01,\n",
              "                      -1.2304e-01,  2.2484e-01, -1.9312e-01,  3.2343e-02,  3.0253e-01,\n",
              "                       4.5371e-01, -1.7885e-01,  1.3599e-01,  2.9409e-01,  6.3150e-02,\n",
              "                       5.1962e-01, -1.6713e-01, -1.1603e-01, -2.2449e-01,  1.2591e-01,\n",
              "                       4.1417e-02,  2.2260e-01, -2.2840e-01,  4.1151e-02,  2.3718e-01],\n",
              "                     requires_grad=True): {'step': 8165,\n",
              "               'square_avg': tensor([8.7310e-09, 7.5536e-07, 5.5178e-06, 4.3407e-06, 4.5031e-07, 4.9693e-07,\n",
              "                       1.3529e-06, 1.2673e-06, 5.3772e-07, 1.0825e-06, 1.3325e-05, 9.3603e-07,\n",
              "                       4.9320e-05, 4.1116e-07, 4.3875e-06, 3.4522e-07, 8.2543e-08, 5.8353e-07,\n",
              "                       8.9434e-08, 9.2035e-07, 1.5619e-05, 1.2034e-05, 3.7717e-07, 1.0613e-06,\n",
              "                       2.9591e-05, 1.0824e-06, 1.4235e-06, 2.1635e-06, 4.1689e-07, 1.3038e-06,\n",
              "                       4.9807e-05, 4.5955e-07, 1.3474e-04, 7.9219e-07, 4.1751e-06, 1.1201e-06,\n",
              "                       9.5371e-09, 1.8552e-06, 5.9242e-07, 2.1945e-08, 1.3118e-06, 2.5107e-09,\n",
              "                       7.8424e-07, 1.1485e-06, 2.0444e-05, 4.5361e-07, 3.4637e-07, 2.2089e-07,\n",
              "                       5.8957e-07, 2.3638e-08, 1.7060e-08, 4.5824e-07, 3.4266e-08, 8.0577e-07,\n",
              "                       2.8068e-06, 9.5914e-06, 2.3471e-06, 3.1784e-05, 4.1060e-07, 1.0613e-06,\n",
              "                       3.3348e-08, 1.6166e-06, 2.5360e-06, 1.6035e-06, 3.0697e-07, 1.0105e-05,\n",
              "                       2.3872e-07, 9.7976e-07, 9.1447e-06, 3.2942e-07, 7.0336e-09, 1.2367e-06,\n",
              "                       6.5399e-07, 5.1191e-05, 1.4461e-05, 7.1622e-07, 3.3260e-07, 7.6467e-09,\n",
              "                       2.0552e-06, 4.9240e-06, 8.6905e-07, 6.2958e-06, 4.0103e-07, 1.7420e-07,\n",
              "                       4.1616e-06, 6.4218e-07, 7.3705e-06, 8.0831e-06, 2.1795e-06, 4.8321e-06,\n",
              "                       1.0304e-05, 1.1330e-06, 3.4308e-05, 5.1430e-07, 5.1296e-07, 7.2435e-05,\n",
              "                       5.0705e-07, 1.5466e-06, 4.1285e-07, 4.0600e-06, 1.9139e-05, 6.8173e-07,\n",
              "                       4.3475e-07, 1.2273e-05, 9.1582e-06, 1.9617e-06, 9.0626e-05, 3.2599e-07,\n",
              "                       7.9837e-07, 3.4258e-07, 4.4601e-06, 3.0000e-08, 2.1915e-06, 2.0734e-06,\n",
              "                       1.2696e-05, 2.5713e-05, 9.5939e-08, 1.6749e-06, 2.2369e-06, 1.8934e-06,\n",
              "                       2.6228e-06, 2.3138e-07, 9.1059e-07, 2.2106e-07, 2.1315e-05, 5.3535e-07,\n",
              "                       2.8427e-06, 5.8165e-06, 2.3312e-06, 7.8684e-07, 1.4080e-06, 1.1100e-06,\n",
              "                       8.5242e-07, 1.3246e-06, 8.7247e-06, 2.4169e-06, 3.0782e-07, 9.9404e-06,\n",
              "                       3.9988e-07, 2.5760e-06, 3.2446e-06, 1.6212e-06, 2.5288e-06, 3.3392e-06,\n",
              "                       8.3566e-07, 2.4647e-08, 6.5992e-06, 7.3251e-06, 6.4141e-07, 1.7012e-05,\n",
              "                       6.3098e-07, 6.3670e-07, 2.3319e-06, 3.8326e-07, 4.6549e-07, 4.1564e-07,\n",
              "                       1.2104e-05, 8.7703e-08, 7.0639e-06, 8.5151e-07, 6.9683e-07, 1.3053e-05,\n",
              "                       1.2751e-06, 1.2902e-06, 1.0700e-06, 6.4479e-07, 1.3533e-06, 3.2516e-07,\n",
              "                       5.3363e-05, 4.0851e-07, 8.3133e-09, 8.9972e-07, 7.2456e-07, 8.7910e-09,\n",
              "                       4.1759e-09, 9.8300e-06, 4.4873e-07, 1.4359e-06, 5.0851e-07, 1.1338e-05,\n",
              "                       7.4873e-07, 2.5824e-09, 2.7581e-06, 3.2345e-06, 1.1766e-06, 5.0681e-07,\n",
              "                       7.6878e-07, 5.7531e-06, 9.2238e-07, 1.0397e-06, 2.6357e-06, 1.2378e-05,\n",
              "                       4.8505e-06, 9.0368e-09, 4.8449e-07, 2.6176e-07, 5.4101e-07, 9.2441e-06,\n",
              "                       5.7196e-07, 1.3276e-05, 6.2310e-07, 1.3188e-06, 4.8564e-07, 4.0736e-05,\n",
              "                       6.4047e-07, 1.6882e-08, 3.9433e-08, 3.8531e-07, 5.9383e-05, 9.0021e-07,\n",
              "                       1.9583e-06, 5.4462e-07, 3.8281e-06, 2.5638e-07, 6.6013e-07, 3.1906e-08,\n",
              "                       3.4569e-06, 1.3185e-05, 7.5361e-06, 2.5487e-06, 1.6303e-06, 4.7846e-07,\n",
              "                       8.5896e-06, 2.5464e-08, 6.9524e-06, 7.1805e-07, 2.8965e-06, 5.5532e-07,\n",
              "                       8.9414e-06, 1.5966e-06, 9.4826e-05, 3.9512e-06, 1.1935e-06, 1.0236e-06,\n",
              "                       3.0924e-08, 7.4040e-07, 6.5447e-07, 2.1017e-05, 4.3472e-07, 2.3069e-06,\n",
              "                       1.1685e-06, 1.4066e-08, 5.1214e-07, 3.5402e-07, 2.5206e-06, 7.2266e-09,\n",
              "                       1.2909e-07, 2.8782e-07, 1.4471e-08, 6.8849e-06, 5.3969e-06, 8.1417e-07,\n",
              "                       2.8194e-06, 1.0103e-06, 9.9416e-07, 9.0670e-06, 6.5649e-09, 7.7589e-07,\n",
              "                       1.4944e-06, 3.1291e-05, 8.4362e-06, 1.5105e-06, 1.0544e-08, 4.5249e-07,\n",
              "                       5.8151e-07, 6.2683e-06, 5.7399e-09, 4.7326e-07, 1.5895e-05, 3.3924e-07,\n",
              "                       5.2592e-07, 4.3016e-07, 3.1307e-06, 1.2585e-06, 6.9312e-06, 4.0322e-07,\n",
              "                       3.1402e-08, 7.1414e-07, 5.7065e-09, 9.4230e-09, 9.4753e-07, 1.3952e-06,\n",
              "                       7.7606e-07, 7.6230e-07, 8.3346e-09, 4.2856e-07, 8.7442e-05, 9.9914e-07,\n",
              "                       4.6287e-07, 4.5725e-07, 9.6110e-07, 1.3068e-06, 5.0552e-07, 3.8668e-07,\n",
              "                       2.7357e-07, 3.3632e-08, 5.0395e-06, 2.9834e-08, 1.7814e-08, 1.7230e-08,\n",
              "                       5.1048e-08, 9.7916e-06, 2.4994e-06, 4.7754e-08, 2.0287e-06, 9.4128e-07,\n",
              "                       1.2061e-06, 1.1604e-06, 1.4716e-05, 1.8357e-06, 3.3966e-07, 2.1271e-07,\n",
              "                       3.1618e-06, 8.3589e-06, 9.0672e-07, 2.0027e-06, 6.8983e-09, 4.2690e-06,\n",
              "                       4.9809e-07, 2.2467e-08, 2.8654e-08, 2.3903e-05, 4.2663e-06, 1.1549e-06,\n",
              "                       1.6106e-06, 3.7959e-07, 2.1104e-06, 8.8600e-07, 7.9476e-07, 1.1135e-06,\n",
              "                       1.3890e-08, 1.2771e-05, 1.2930e-06, 3.1052e-07, 6.3750e-06, 1.8921e-06,\n",
              "                       9.3543e-07, 1.1099e-06, 4.8557e-06, 2.0628e-07, 2.9392e-09, 1.1251e-05,\n",
              "                       4.7279e-07, 5.8173e-07, 4.0708e-06, 1.9093e-05, 1.9096e-08, 6.7084e-05,\n",
              "                       4.5228e-07, 3.1354e-07, 7.0972e-06, 6.5965e-07, 7.5705e-07, 6.7464e-07,\n",
              "                       4.9113e-07, 9.4834e-07, 3.8170e-06, 2.2347e-07, 9.2516e-07, 1.4247e-06,\n",
              "                       2.2896e-06, 3.7335e-07, 5.7109e-05, 6.1318e-06, 7.3571e-09, 2.8608e-07,\n",
              "                       5.4990e-07, 1.0128e-08, 3.0792e-06, 3.4396e-09, 9.9417e-07, 1.2227e-06,\n",
              "                       3.8258e-05, 1.3461e-06, 6.3352e-07, 1.9505e-05, 8.7666e-07, 7.3626e-07,\n",
              "                       3.8562e-07, 8.3017e-09, 2.7087e-06, 1.9962e-07, 3.3278e-07, 2.1652e-06,\n",
              "                       6.3940e-06, 3.3110e-06, 1.8359e-08, 1.3798e-06, 2.1632e-06, 4.7849e-09,\n",
              "                       1.9470e-09, 6.8976e-07, 3.8491e-06, 8.3667e-05, 8.3748e-07, 2.4326e-09,\n",
              "                       8.8820e-06, 2.1393e-06, 1.1180e-05, 1.5028e-06, 8.2411e-07, 4.1520e-07,\n",
              "                       3.2700e-06, 9.3444e-07, 2.9760e-05, 1.4623e-05, 8.8468e-05, 7.2483e-07,\n",
              "                       7.0902e-07, 7.4610e-07, 4.9120e-06, 1.4035e-06, 1.8738e-06, 1.7926e-06,\n",
              "                       8.8083e-07, 1.2152e-06, 1.6851e-06, 9.5594e-07, 3.1129e-06, 4.1913e-07,\n",
              "                       1.0277e-06, 4.0681e-07, 4.6929e-07, 1.6303e-06, 5.6694e-07, 9.3371e-09,\n",
              "                       7.0226e-07, 1.6881e-06, 7.0151e-06, 1.2939e-08, 1.1570e-06, 1.3916e-05,\n",
              "                       6.8170e-06, 1.3669e-08, 2.9368e-06, 9.3029e-07, 1.4567e-06, 3.5302e-07,\n",
              "                       3.4513e-06, 2.5360e-07, 1.1777e-05, 2.7950e-07, 3.6666e-07, 6.2579e-05,\n",
              "                       1.6321e-08, 7.5114e-08, 1.3477e-06, 2.3331e-06, 2.3958e-06, 1.2660e-06,\n",
              "                       7.6621e-09, 1.1970e-06, 1.6137e-05, 2.4681e-07, 4.0825e-07, 3.9084e-05,\n",
              "                       1.2336e-06, 8.5287e-07, 1.8864e-06, 3.3194e-09, 3.3579e-07, 1.6322e-07,\n",
              "                       8.7866e-07, 2.3315e-06, 4.2680e-06, 1.7363e-08, 2.4173e-08, 2.2154e-07,\n",
              "                       1.0846e-05, 7.2099e-09, 1.0238e-06, 8.6929e-07, 4.5271e-07, 1.0949e-08,\n",
              "                       4.3672e-06, 4.8536e-07, 9.1321e-07, 3.8321e-08, 4.5073e-07, 3.6367e-07,\n",
              "                       3.8382e-07, 2.5217e-06, 1.2522e-06, 1.2204e-05, 2.6104e-06, 1.8446e-06,\n",
              "                       7.0923e-06, 4.1012e-07, 1.2914e-06, 6.5447e-07, 2.3617e-07, 2.8129e-06,\n",
              "                       3.6135e-06, 4.7122e-07, 1.3493e-06, 6.8082e-06, 3.3083e-06, 2.6852e-06,\n",
              "                       2.6646e-09, 2.3835e-06, 1.4905e-05, 4.3086e-08, 7.6793e-07, 6.7324e-07,\n",
              "                       7.0191e-06, 1.7254e-06, 3.5650e-07, 1.0613e-06, 3.5485e-07, 1.6811e-06,\n",
              "                       4.2570e-07, 1.2175e-06, 4.0921e-08, 1.9420e-08, 6.6541e-07, 2.9620e-08,\n",
              "                       3.1846e-06, 4.4199e-06, 5.4131e-08, 1.1717e-06, 2.2391e-09, 3.5196e-06,\n",
              "                       6.1695e-09, 5.3115e-07, 1.2440e-06, 2.2011e-08, 1.6020e-06, 2.6775e-06,\n",
              "                       1.7212e-06, 3.4992e-06, 8.4347e-06, 5.5106e-07, 1.2494e-07, 3.1006e-09,\n",
              "                       1.1736e-08, 1.8002e-06, 2.5706e-07, 9.7502e-07, 3.2833e-06, 9.2599e-07,\n",
              "                       2.8483e-06, 1.4644e-06, 1.2890e-06, 9.0243e-07, 9.9526e-09, 6.1607e-06,\n",
              "                       5.6128e-07, 4.5936e-07, 1.3389e-07, 5.0244e-05, 2.9239e-06, 1.1364e-06,\n",
              "                       3.2474e-06, 1.9155e-07, 1.2080e-06])},\n",
              "              Parameter containing:\n",
              "              tensor([[ 0.0165, -0.0128, -0.0315,  ...,  0.0269,  0.0294, -0.0081],\n",
              "                      [-0.0400,  0.0216,  0.0277,  ..., -0.0035, -0.0294, -0.0227],\n",
              "                      [ 0.0326,  0.0009, -0.0160,  ...,  0.0004,  0.0396,  0.0529],\n",
              "                      ...,\n",
              "                      [-0.0275,  0.0009,  0.0044,  ...,  0.0219, -0.0274,  0.0705],\n",
              "                      [ 0.0451,  0.0258,  0.0071,  ..., -0.0232,  0.0220, -0.0180],\n",
              "                      [-0.0198, -0.0357,  0.0098,  ...,  0.0213,  0.0058,  0.0139]],\n",
              "                     requires_grad=True): {'step': 8165,\n",
              "               'square_avg': tensor([[3.2821e-09, 1.2254e-06, 1.8460e-07,  ..., 2.3179e-09, 1.1936e-07,\n",
              "                        1.1048e-09],\n",
              "                       [2.7580e-05, 6.0824e-05, 1.7698e-05,  ..., 7.2256e-06, 2.7389e-05,\n",
              "                        8.6764e-06],\n",
              "                       [8.3464e-05, 3.7032e-02, 4.3443e-03,  ..., 4.4704e-05, 2.8035e-03,\n",
              "                        6.0151e-04],\n",
              "                       ...,\n",
              "                       [3.2628e-06, 5.9461e-02, 9.9699e-05,  ..., 5.7055e-06, 3.5657e-05,\n",
              "                        3.2023e-03],\n",
              "                       [9.1873e-05, 1.3673e-01, 1.9592e-02,  ..., 6.0819e-05, 1.2885e-02,\n",
              "                        2.5237e-05],\n",
              "                       [2.2139e-06, 4.7195e-01, 7.0079e-02,  ..., 2.9035e-05, 4.6296e-02,\n",
              "                        1.6355e-06]])},\n",
              "              Parameter containing:\n",
              "              tensor([ 1.8613e-01,  6.5138e-02,  9.6878e-02,  2.6441e-03, -2.7514e-02,\n",
              "                      -1.2949e-01,  4.4286e-02,  2.2272e-01,  1.7448e-01, -3.2339e-02,\n",
              "                       3.6417e-02,  7.5256e-02, -2.6625e-02,  9.2268e-02, -7.4213e-02,\n",
              "                      -6.0332e-02,  7.6988e-02,  1.6356e-01,  1.8638e-01,  8.8239e-02,\n",
              "                       2.3759e-01, -1.7608e-01,  5.0535e-02, -2.3096e-01,  5.9748e-02,\n",
              "                       2.7057e-01,  7.9128e-02,  2.3190e-01,  2.5033e-01,  2.3552e-01,\n",
              "                       1.6821e-01,  5.8569e-02,  1.3753e-01,  1.6333e-01,  1.7866e-01,\n",
              "                      -1.2810e-01,  1.4902e-02,  2.1253e-01,  1.8375e-01, -1.4751e-01,\n",
              "                       6.4784e-02,  1.0897e-01,  9.9193e-02,  1.6464e-01,  2.0552e-01,\n",
              "                      -1.7782e-02,  5.1764e-02,  1.3330e-01,  1.3726e-01,  2.1389e-01,\n",
              "                       3.2931e-02, -9.7862e-02,  4.3243e-02, -8.4777e-03,  1.4217e-01,\n",
              "                       1.5802e-01,  5.3992e-02,  4.6296e-02,  9.3746e-02,  1.4926e-01,\n",
              "                      -1.9181e-01,  1.9908e-01, -7.8666e-02,  2.4934e-02, -3.9359e-02,\n",
              "                       5.6990e-02, -3.4319e-01,  1.3193e-01,  3.0579e-01,  1.0204e-01,\n",
              "                       6.3015e-02,  2.0901e-02,  2.1217e-01,  8.4006e-02,  8.6613e-02,\n",
              "                       3.8839e-02,  1.1426e-01,  7.2845e-02, -3.4733e-01, -1.6393e-01,\n",
              "                       8.6462e-02,  4.9958e-02,  7.3150e-02, -8.9721e-03, -2.7583e-02,\n",
              "                       1.4349e-01,  3.0338e-01,  1.5376e-01,  1.5131e-03,  4.5421e-02,\n",
              "                      -2.6899e-01,  2.7962e-01, -3.9160e-02,  1.0859e-01,  1.0495e-01,\n",
              "                      -6.3056e-03, -9.9988e-02,  2.2898e-01,  8.0500e-02, -1.0409e-01,\n",
              "                       2.4065e-01, -3.6426e-02,  2.1687e-01, -1.0819e-01, -8.4467e-02,\n",
              "                       6.9781e-02,  1.3634e-01,  1.1266e-01,  2.0874e-01,  1.5419e-01,\n",
              "                       1.9270e-01,  1.6573e-01,  1.7047e-01, -8.3998e-02,  2.0484e-01,\n",
              "                       9.8558e-02,  4.8381e-02, -1.4639e-01, -2.2076e-01,  1.7464e-01,\n",
              "                       1.7752e-02,  1.9266e-01,  7.6624e-02, -3.2345e-02,  2.2416e-01,\n",
              "                       1.0377e-01,  8.6889e-02,  1.6437e-01,  7.7717e-02, -6.3270e-02,\n",
              "                      -3.7379e-01,  1.1868e-01, -2.5018e-01, -1.2582e-02, -9.7076e-02,\n",
              "                      -6.8332e-02, -3.4114e-02,  6.3781e-02, -1.2393e-02, -1.7274e-01,\n",
              "                       1.8979e-02,  2.1023e-01,  1.4125e-01,  8.9830e-02, -1.8208e-01,\n",
              "                       1.3501e-01,  2.7666e-01,  8.3876e-02, -1.7243e-01,  1.3321e-01,\n",
              "                       1.2815e-01, -7.7607e-02,  1.6196e-01,  1.6110e-01,  3.2816e-02,\n",
              "                       1.9561e-01, -5.2467e-02,  4.5857e-02,  8.4808e-02,  4.4865e-02,\n",
              "                      -4.4787e-02,  1.0214e-02,  4.6312e-02,  8.5743e-02,  2.3364e-01,\n",
              "                       7.8165e-02, -7.2700e-02,  2.3649e-01, -2.2548e-01,  1.0143e-02,\n",
              "                      -2.0373e-02,  4.3598e-03,  3.9746e-02,  1.5573e-01, -8.3360e-02,\n",
              "                      -1.8070e-02,  1.2264e-01, -3.9007e-03,  1.0198e-01,  1.8075e-01,\n",
              "                       1.7515e-02,  7.0709e-02,  1.4801e-01,  1.5547e-01,  1.0209e-01,\n",
              "                       1.2704e-01,  1.1579e-01,  2.2634e-02,  1.1352e-01,  1.8036e-01,\n",
              "                       1.0778e-01, -8.3198e-02,  1.6583e-01,  9.0643e-02, -2.9113e-01,\n",
              "                       3.2012e-02,  1.9189e-03,  1.4875e-01,  1.7455e-01,  1.4971e-01,\n",
              "                       1.0297e-02,  4.1535e-02, -1.7516e-01,  9.3071e-03,  7.7042e-02,\n",
              "                       1.7438e-01,  2.4900e-01,  9.8903e-02, -1.2011e-01,  2.2526e-01,\n",
              "                       1.3742e-01,  1.2581e-01, -2.3985e-02,  8.1828e-02, -4.0012e-02,\n",
              "                       1.8645e-01, -2.1958e-01,  7.7995e-02,  8.6101e-02, -7.2111e-02,\n",
              "                       1.8200e-02,  1.0424e-01, -3.5375e-02, -7.5904e-02, -7.7063e-02,\n",
              "                       2.7259e-02,  4.7044e-02,  1.3349e-01,  1.2483e-01,  3.0615e-02,\n",
              "                       2.8473e-02, -2.9689e-01,  5.2589e-02,  1.2006e-01,  2.3706e-01,\n",
              "                      -1.6405e-01,  1.2181e-01, -1.3776e-01, -1.7747e-01, -1.2685e-03,\n",
              "                       3.1421e-01,  1.8956e-01,  1.8080e-02,  7.2911e-02,  2.1697e-01,\n",
              "                       3.1036e-01,  1.1859e-01,  9.2061e-02,  1.6187e-01,  7.6563e-02,\n",
              "                      -2.1347e-01, -6.1119e-02, -2.0342e-02,  2.1047e-01, -3.7818e-02,\n",
              "                       7.4462e-02,  5.6325e-02,  1.3712e-01,  2.4613e-01,  9.7334e-02,\n",
              "                       1.2867e-01,  3.1655e-01,  1.3231e-01,  1.8959e-01,  1.8325e-01,\n",
              "                      -1.6328e-01,  2.7050e-01, -3.0234e-01, -6.1377e-02,  4.3550e-02,\n",
              "                       3.0188e-02, -4.6840e-02,  5.2421e-02,  9.4347e-02,  7.0573e-02,\n",
              "                       6.2693e-02, -2.0298e-01,  1.0222e-01, -6.2062e-02, -1.2145e-01,\n",
              "                       1.7040e-01,  1.5321e-02,  1.5135e-01,  1.4383e-02, -1.5881e-01,\n",
              "                       1.6969e-01, -6.7509e-02,  2.7109e-01,  2.4060e-01,  1.7781e-01,\n",
              "                       1.6051e-01,  2.7139e-02,  6.6327e-02,  1.4366e-01,  1.7205e-01,\n",
              "                       1.2896e-01, -2.8715e-01,  7.8581e-02,  1.4734e-01,  1.3365e-01,\n",
              "                       2.2486e-01,  7.1043e-02,  4.4753e-02, -5.9860e-02,  9.2931e-02,\n",
              "                       2.6568e-02, -1.0333e-01,  4.7776e-02,  1.7970e-01,  1.5952e-01,\n",
              "                       2.2401e-01, -3.3538e-01,  1.3694e-01,  6.6602e-02, -1.0078e-01,\n",
              "                       2.5345e-01,  2.8602e-02,  2.2656e-01,  1.0269e-01, -1.3137e-01,\n",
              "                      -4.9229e-02,  8.5044e-02, -1.5059e-01,  2.3876e-01,  1.6100e-01,\n",
              "                       2.0288e-01,  2.1521e-01,  1.7739e-01, -1.9242e-01,  5.4285e-02,\n",
              "                      -1.1235e-01,  1.9984e-01,  3.6235e-04,  9.3479e-02, -6.5211e-02,\n",
              "                      -5.4449e-02,  9.3171e-02,  1.1549e-01, -2.2990e-01,  1.3349e-01,\n",
              "                       1.3058e-01, -1.4416e-03,  2.3540e-02,  2.0286e-01, -1.2588e-01,\n",
              "                       1.5180e-01,  9.0877e-02, -8.6064e-02, -1.8525e-02,  1.7917e-01,\n",
              "                       1.7884e-01,  2.8132e-02,  1.1154e-01,  1.4224e-01,  2.6098e-02,\n",
              "                       2.3524e-01,  1.7264e-02, -5.3731e-02,  1.9351e-01,  1.1934e-01,\n",
              "                      -2.5493e-01, -2.1664e-01,  2.7405e-01,  1.8689e-01, -6.6453e-02,\n",
              "                       1.6117e-01, -2.0292e-01, -2.5753e-01,  7.3737e-02,  1.1023e-01,\n",
              "                      -2.5888e-01,  2.2465e-02, -3.2758e-02,  1.4690e-01,  3.3338e-02,\n",
              "                      -1.7516e-02,  2.1445e-01, -2.1070e-01, -1.6459e-01,  2.2752e-02,\n",
              "                       9.8110e-02,  1.6819e-02,  5.1538e-02,  9.5585e-02, -8.3692e-02,\n",
              "                       1.3847e-01,  1.1864e-01, -2.8258e-02,  1.0001e-01,  1.6798e-01,\n",
              "                       2.1205e-01,  4.5640e-02,  1.9375e-01,  5.7460e-02,  5.8559e-02,\n",
              "                       8.5409e-02,  1.4229e-01,  2.1034e-03, -1.8960e-01,  1.4766e-01,\n",
              "                       5.1821e-03, -2.5784e-01,  1.1183e-02,  2.1042e-01,  7.4748e-02,\n",
              "                      -3.4103e-01, -1.0890e-01,  6.5639e-03,  1.6899e-01, -9.1850e-03,\n",
              "                       9.3574e-02,  1.6826e-01,  2.3826e-01, -2.7632e-01,  1.3575e-01,\n",
              "                      -1.1244e-03, -4.4286e-02,  2.3831e-02,  6.7990e-02, -1.5583e-02,\n",
              "                       5.8217e-02, -7.1436e-02,  3.5820e-02, -9.7504e-02,  1.1331e-01,\n",
              "                      -2.6950e-01,  1.6016e-01,  2.3979e-01,  1.6438e-01, -1.3421e-01,\n",
              "                       1.0315e-01,  9.4746e-02,  1.0771e-01,  1.4334e-01,  1.0905e-01,\n",
              "                      -3.2446e-01,  2.4243e-01,  1.3714e-01,  2.9833e-01,  8.0382e-02,\n",
              "                      -1.1281e-01,  6.1971e-02, -1.5753e-02,  1.7180e-01,  2.1575e-01,\n",
              "                       1.0823e-01, -7.0072e-02,  7.6016e-02,  2.2093e-01,  1.9055e-01,\n",
              "                      -5.4779e-02,  1.8481e-01, -1.7390e-01,  9.3539e-02,  9.8405e-02,\n",
              "                       1.7841e-01, -2.3503e-02,  1.2225e-01], requires_grad=True): {'step': 8165,\n",
              "               'square_avg': tensor([6.4911e-11, 1.2299e-07, 2.5110e-06, 2.8962e-07, 4.4370e-06, 1.8108e-06,\n",
              "                       3.1331e-06, 5.1748e-06, 7.5437e-06, 1.1566e-09, 7.2590e-11, 5.8589e-09,\n",
              "                       1.3868e-09, 1.0083e-10, 1.4231e-07, 9.2210e-07, 2.1972e-09, 1.8431e-06,\n",
              "                       8.6899e-06, 8.5375e-08, 1.6751e-05, 1.1668e-06, 2.9799e-08, 2.3961e-07,\n",
              "                       5.9197e-07, 2.0927e-06, 3.1741e-06, 1.1041e-05, 1.3070e-05, 3.9647e-06,\n",
              "                       6.6927e-07, 4.0432e-07, 1.8211e-06, 2.3952e-10, 1.2344e-05, 2.5818e-07,\n",
              "                       1.7429e-06, 4.8022e-06, 1.2221e-05, 6.0182e-08, 1.2483e-06, 1.2332e-06,\n",
              "                       4.7782e-06, 1.3779e-05, 7.2656e-07, 6.5851e-07, 4.2448e-10, 5.5922e-08,\n",
              "                       1.2286e-09, 7.7641e-06, 1.4966e-06, 2.1788e-09, 3.2384e-06, 2.7312e-07,\n",
              "                       3.3056e-06, 1.1165e-09, 2.3436e-09, 2.2602e-06, 1.2364e-06, 7.4046e-07,\n",
              "                       3.0509e-06, 6.6085e-06, 9.9454e-09, 6.4921e-10, 4.7754e-08, 9.7696e-10,\n",
              "                       1.7247e-06, 1.2441e-09, 1.9517e-10, 2.3740e-10, 1.5097e-09, 8.8450e-07,\n",
              "                       5.1327e-06, 2.3975e-08, 9.5006e-07, 9.5566e-11, 3.7972e-10, 4.6699e-06,\n",
              "                       1.1513e-06, 7.2476e-09, 3.6390e-07, 1.6943e-10, 1.1470e-06, 4.7324e-07,\n",
              "                       4.8998e-07, 7.9365e-07, 3.3022e-06, 3.9179e-06, 2.1776e-10, 2.0758e-06,\n",
              "                       2.2459e-07, 1.3283e-06, 2.2549e-07, 1.5689e-06, 1.0403e-08, 5.0318e-07,\n",
              "                       9.9017e-10, 1.2854e-05, 3.7560e-06, 5.3617e-07, 1.3724e-05, 5.0655e-07,\n",
              "                       1.0445e-05, 6.7120e-08, 1.1935e-10, 1.1761e-08, 7.0440e-06, 5.6164e-07,\n",
              "                       5.8748e-06, 7.6668e-06, 5.0814e-07, 4.6338e-06, 1.4263e-05, 1.5789e-07,\n",
              "                       2.1138e-10, 2.4268e-06, 4.4558e-08, 6.2099e-08, 1.4340e-06, 1.2900e-06,\n",
              "                       6.7174e-10, 1.0834e-05, 1.9287e-06, 4.9081e-10, 2.8751e-06, 4.6213e-09,\n",
              "                       5.6846e-06, 2.3243e-07, 9.1094e-08, 1.6602e-07, 9.2424e-07, 6.7654e-07,\n",
              "                       1.0376e-06, 1.6103e-09, 1.1561e-06, 2.4477e-09, 1.5593e-06, 1.8630e-06,\n",
              "                       1.0467e-06, 4.2673e-09, 1.2728e-06, 1.4313e-06, 3.6498e-08, 7.9583e-07,\n",
              "                       5.1597e-09, 4.5133e-06, 3.1621e-05, 2.0652e-09, 4.1061e-07, 4.8610e-07,\n",
              "                       8.2360e-07, 8.4851e-08, 2.4755e-10, 2.1505e-05, 2.3060e-09, 8.2779e-11,\n",
              "                       8.8210e-07, 4.7081e-07, 1.3687e-06, 8.4679e-06, 5.7865e-09, 1.8818e-09,\n",
              "                       1.8269e-07, 5.8923e-09, 3.1304e-10, 3.0930e-10, 1.8931e-08, 1.3030e-06,\n",
              "                       2.6370e-07, 4.7165e-07, 4.3135e-07, 4.4533e-09, 4.3684e-10, 1.0614e-05,\n",
              "                       9.0523e-11, 1.2279e-08, 2.4983e-06, 7.8540e-09, 1.0430e-06, 5.4026e-08,\n",
              "                       1.7241e-06, 6.4671e-07, 2.4694e-07, 9.2607e-06, 6.4735e-10, 1.1033e-06,\n",
              "                       8.5335e-06, 6.1684e-07, 6.1305e-09, 2.7739e-07, 6.1776e-07, 4.0277e-09,\n",
              "                       3.5421e-10, 3.5055e-07, 8.6801e-07, 2.6217e-06, 4.6500e-07, 6.6916e-06,\n",
              "                       4.8085e-06, 2.2853e-06, 1.4966e-07, 1.2686e-10, 1.1536e-08, 2.7221e-09,\n",
              "                       5.5494e-10, 2.3986e-06, 2.5006e-05, 1.2091e-06, 1.7718e-09, 1.0891e-05,\n",
              "                       1.2793e-06, 3.0945e-07, 8.4010e-10, 2.2479e-07, 7.0014e-07, 5.9876e-07,\n",
              "                       3.3116e-09, 6.7089e-08, 1.8652e-10, 1.3843e-06, 2.8136e-06, 4.4693e-07,\n",
              "                       6.6698e-10, 6.3455e-11, 1.1130e-06, 1.0345e-09, 3.2571e-06, 2.7770e-06,\n",
              "                       4.6367e-06, 1.2817e-06, 1.3574e-10, 3.2939e-07, 7.3243e-07, 6.4548e-07,\n",
              "                       1.4522e-05, 1.0723e-08, 4.7785e-06, 6.7308e-07, 1.0374e-06, 2.5843e-10,\n",
              "                       3.3908e-10, 3.4376e-06, 5.9123e-07, 2.3142e-06, 2.2949e-06, 1.1388e-05,\n",
              "                       1.0558e-06, 4.9960e-07, 1.1693e-10, 4.7169e-06, 8.1954e-09, 1.6073e-06,\n",
              "                       3.2881e-10, 1.4685e-05, 8.1343e-08, 3.6441e-06, 4.9116e-07, 9.1015e-08,\n",
              "                       1.0218e-05, 1.3766e-07, 1.5288e-06, 2.1310e-06, 2.5206e-10, 4.4927e-07,\n",
              "                       4.1921e-06, 1.0059e-08, 1.1952e-05, 3.3790e-06, 4.1670e-06, 3.8259e-07,\n",
              "                       4.4665e-07, 6.3386e-09, 8.4049e-07, 4.2403e-07, 3.1850e-06, 1.4518e-06,\n",
              "                       7.0732e-08, 9.5273e-07, 6.1968e-07, 1.0265e-10, 3.9681e-10, 7.6883e-10,\n",
              "                       8.8761e-07, 2.2940e-09, 1.5353e-06, 1.3599e-05, 1.7916e-08, 1.1269e-06,\n",
              "                       1.3980e-06, 3.9219e-06, 2.3590e-10, 6.7146e-09, 1.3333e-08, 2.9500e-09,\n",
              "                       3.3535e-06, 1.9304e-06, 1.7228e-07, 1.4535e-10, 3.6281e-06, 2.8527e-06,\n",
              "                       4.8208e-07, 4.0442e-06, 1.0846e-06, 9.8792e-08, 7.9685e-11, 2.2335e-07,\n",
              "                       2.5956e-08, 3.0537e-06, 7.4166e-07, 3.7839e-10, 2.8161e-06, 9.2054e-07,\n",
              "                       1.5199e-06, 3.6560e-07, 2.6808e-07, 2.1337e-06, 2.8546e-07, 3.5404e-06,\n",
              "                       2.4091e-10, 8.9396e-07, 3.2223e-07, 4.7428e-06, 4.9890e-09, 5.5347e-06,\n",
              "                       3.2544e-10, 1.0237e-05, 4.0468e-06, 5.3744e-07, 4.1200e-07, 3.3350e-07,\n",
              "                       6.2378e-07, 2.3618e-06, 5.4148e-07, 2.2551e-06, 4.5415e-07, 9.5469e-08,\n",
              "                       1.0722e-06, 7.8732e-07, 2.0434e-06, 1.6384e-10, 4.6591e-06, 1.7460e-06,\n",
              "                       3.1828e-09, 2.3115e-06, 9.7320e-07, 5.9673e-07, 3.5950e-06, 1.2023e-06,\n",
              "                       1.5097e-06, 4.2444e-08, 1.3132e-05, 4.3698e-10, 1.0799e-07, 1.5064e-06,\n",
              "                       4.1558e-09, 6.7918e-07, 3.4610e-06, 8.4557e-08, 3.4916e-06, 2.6392e-07,\n",
              "                       1.9823e-06, 1.3145e-08, 9.0023e-07, 4.6414e-06, 1.2575e-10, 4.0019e-06,\n",
              "                       7.2079e-07, 3.8549e-06, 1.7528e-07, 1.8493e-10, 2.0989e-06, 6.5505e-07,\n",
              "                       4.7896e-09, 3.5407e-06, 5.8129e-08, 6.7176e-10, 1.7988e-06, 5.0079e-09,\n",
              "                       1.7165e-07, 5.5324e-07, 1.0693e-06, 5.4251e-07, 3.0207e-07, 2.0590e-07,\n",
              "                       2.1988e-09, 2.4762e-06, 5.2058e-06, 2.0719e-07, 1.5947e-07, 5.6418e-07,\n",
              "                       2.4006e-06, 7.4644e-06, 5.4455e-06, 1.7111e-10, 1.1681e-06, 2.3961e-06,\n",
              "                       2.9064e-06, 2.5331e-07, 1.1999e-08, 9.6157e-06, 9.7371e-09, 9.2331e-07,\n",
              "                       6.0018e-07, 2.5020e-10, 5.8734e-07, 1.2878e-06, 2.5634e-08, 4.2130e-07,\n",
              "                       1.1570e-10, 6.2091e-10, 6.9865e-06, 4.0921e-07, 2.4825e-06, 2.0005e-06,\n",
              "                       3.4898e-06, 4.3040e-07, 1.3703e-06, 2.4817e-07, 8.1470e-11, 6.0302e-08,\n",
              "                       9.6607e-09, 4.6093e-10, 6.3128e-06, 3.5650e-07, 1.1146e-06, 1.0513e-06,\n",
              "                       7.9204e-06, 2.3626e-05, 2.8046e-08, 2.1690e-07, 5.6477e-06, 1.3727e-06,\n",
              "                       3.1235e-06, 3.5053e-10, 2.2767e-10, 3.8151e-09, 2.2710e-05, 3.7163e-08,\n",
              "                       1.2705e-06, 2.0871e-10, 2.0794e-09, 8.1983e-07, 2.2690e-10, 2.0296e-06,\n",
              "                       6.2117e-06, 4.4278e-06, 7.1111e-07, 2.6560e-06, 3.3318e-07, 8.4809e-09,\n",
              "                       9.3792e-10, 1.2393e-06, 2.2432e-06, 9.0501e-07, 7.9747e-11, 2.5444e-06,\n",
              "                       3.5249e-06, 2.1867e-07])},\n",
              "              Parameter containing:\n",
              "              tensor([[-0.0380, -0.0151,  0.0193,  ..., -0.0047, -0.0400,  0.0444],\n",
              "                      [-0.0136, -0.0304, -0.0110,  ...,  0.0014,  0.0003,  0.0422],\n",
              "                      [-0.0422,  0.0360,  0.0330,  ...,  0.0057,  0.0160,  0.0675],\n",
              "                      ...,\n",
              "                      [-0.0164, -0.0516,  0.0003,  ..., -0.0045, -0.0051,  0.0147],\n",
              "                      [-0.0025, -0.0026, -0.0141,  ...,  0.0406,  0.0217, -0.0124],\n",
              "                      [ 0.0039, -0.0144,  0.0246,  ..., -0.0379,  0.0554,  0.0081]],\n",
              "                     requires_grad=True): {'step': 8165,\n",
              "               'square_avg': tensor([[2.4571e-04, 2.6904e-04, 9.7012e-01,  ..., 1.5868e-03, 7.8519e-02,\n",
              "                        4.6152e-01],\n",
              "                       [1.2011e-05, 1.3926e-03, 3.4673e-02,  ..., 1.4258e-04, 4.3120e-03,\n",
              "                        1.0572e-04],\n",
              "                       [2.5781e-06, 1.0595e-03, 1.3429e-02,  ..., 6.1948e-05, 3.6404e-03,\n",
              "                        9.8285e-04],\n",
              "                       ...,\n",
              "                       [3.7147e-05, 2.1237e-05, 7.8311e-02,  ..., 5.0173e-05, 1.7085e-03,\n",
              "                        6.7398e-03],\n",
              "                       [4.3198e-07, 2.4101e-07, 3.0886e-03,  ..., 7.5917e-06, 1.4688e-04,\n",
              "                        8.6704e-04],\n",
              "                       [5.9071e-08, 3.1990e-05, 3.0738e-04,  ..., 8.0933e-07, 9.6204e-05,\n",
              "                        1.3126e-05]])},\n",
              "              Parameter containing:\n",
              "              tensor([ 0.1650,  0.1871,  0.1026, -0.1582, -0.1055,  0.0424, -0.1165,  0.1208,\n",
              "                       0.1888,  0.1080,  0.1541,  0.1317,  0.0638,  0.2085,  0.1565, -0.2368,\n",
              "                       0.0817,  0.0379,  0.2484,  0.0929, -0.1012,  0.1416,  0.2623, -0.2218,\n",
              "                      -0.1520, -0.1453,  0.1137,  0.1309,  0.2214,  0.2463,  0.1311,  0.2730,\n",
              "                      -0.1798,  0.1100,  0.0764,  0.0539,  0.2594,  0.0593,  0.0763,  0.2177,\n",
              "                      -0.2036,  0.2786,  0.0455,  0.1431,  0.2273,  0.1313, -0.1845,  0.1632,\n",
              "                      -0.2192,  0.0975, -0.1945,  0.2846, -0.1738, -0.0266,  0.2290,  0.1976,\n",
              "                      -0.0957,  0.0739,  0.0234,  0.0945,  0.2594,  0.1404,  0.0613,  0.0119,\n",
              "                       0.2936,  0.1618,  0.2433,  0.1014,  0.1391,  0.2100,  0.2309, -0.1698,\n",
              "                       0.2916,  0.0866, -0.1935,  0.1638,  0.2849,  0.3179, -0.0972,  0.1214,\n",
              "                       0.1681,  0.0959,  0.0820,  0.0722,  0.0693,  0.2292,  0.1621,  0.0364,\n",
              "                       0.0720,  0.2970,  0.0532,  0.1467,  0.1377, -0.2233,  0.1199,  0.3258,\n",
              "                       0.0965, -0.0874,  0.1222,  0.0397,  0.0301,  0.0202,  0.1990,  0.1022,\n",
              "                       0.2709,  0.0103,  0.0762,  0.1224,  0.1209,  0.1828, -0.0566,  0.1501,\n",
              "                       0.3191,  0.1848,  0.1696], requires_grad=True): {'step': 8165,\n",
              "               'square_avg': tensor([3.6527e-06, 1.9036e-05, 1.3237e-05, 7.6213e-08, 4.3400e-10, 1.0683e-05,\n",
              "                       1.7011e-09, 1.3730e-05, 1.6253e-06, 5.6029e-05, 3.2093e-05, 1.2017e-05,\n",
              "                       4.7364e-06, 4.3954e-05, 6.3986e-07, 1.9032e-09, 3.8341e-05, 1.0820e-05,\n",
              "                       4.1905e-07, 6.4799e-06, 5.8315e-09, 1.0195e-05, 1.6230e-06, 1.0101e-08,\n",
              "                       2.9248e-09, 3.7541e-08, 1.3716e-06, 2.9769e-05, 4.2299e-06, 1.8681e-06,\n",
              "                       1.6712e-05, 2.9971e-05, 8.9561e-08, 3.2586e-06, 1.1230e-06, 2.3496e-07,\n",
              "                       2.8082e-05, 2.4996e-05, 7.6789e-07, 1.5617e-06, 6.9282e-06, 2.6303e-05,\n",
              "                       2.6466e-07, 1.5254e-05, 1.1030e-05, 5.0585e-06, 9.4519e-08, 2.9755e-05,\n",
              "                       1.2758e-08, 1.1037e-07, 2.6511e-09, 1.5416e-05, 2.3535e-09, 8.3753e-09,\n",
              "                       2.9865e-05, 2.6555e-07, 1.0519e-07, 1.7306e-07, 5.3598e-09, 4.1549e-05,\n",
              "                       2.7988e-08, 1.5677e-05, 1.5666e-05, 1.7054e-06, 1.3157e-08, 4.0755e-05,\n",
              "                       9.8643e-06, 1.2665e-05, 5.0699e-06, 1.5350e-05, 4.1721e-05, 1.5103e-07,\n",
              "                       2.8300e-05, 1.0609e-05, 6.1748e-07, 1.0871e-05, 2.4494e-07, 1.1130e-05,\n",
              "                       7.4847e-11, 4.3996e-06, 4.3647e-05, 7.6124e-06, 1.3190e-08, 1.4641e-05,\n",
              "                       2.1589e-05, 3.2919e-05, 1.3410e-05, 7.1813e-06, 6.1146e-08, 2.8006e-05,\n",
              "                       2.0079e-09, 7.8170e-06, 6.7492e-05, 2.5391e-08, 7.5574e-06, 2.1278e-06,\n",
              "                       2.2196e-08, 1.0386e-07, 1.1460e-06, 7.9212e-06, 1.6435e-06, 1.5590e-06,\n",
              "                       4.6698e-05, 1.7109e-07, 2.2655e-06, 2.4789e-09, 1.1856e-05, 1.9794e-06,\n",
              "                       1.4997e-06, 4.0900e-06, 2.6746e-09, 2.4613e-05, 5.6531e-06, 7.2204e-09,\n",
              "                       2.0572e-07])},\n",
              "              Parameter containing:\n",
              "              tensor([[ 1.0908e-02, -4.7433e-02, -4.6738e-02, -1.7819e-02, -2.1623e-03,\n",
              "                        9.3160e-02, -2.2240e-02, -4.7020e-02,  6.8234e-03,  8.7890e-02,\n",
              "                        5.5224e-02,  8.2860e-02, -2.8651e-02,  4.6330e-02, -1.1396e-02,\n",
              "                       -2.3135e-02,  5.3612e-02, -3.9887e-02,  4.8817e-03, -2.8461e-02,\n",
              "                       -1.2420e-02,  6.7224e-02,  6.5213e-03, -5.8602e-02, -2.8207e-02,\n",
              "                       -4.3938e-02,  2.4058e-02,  3.8812e-02,  1.2040e-02,  6.9816e-03,\n",
              "                       -5.4596e-02,  3.8944e-02, -5.8424e-02,  3.5878e-02,  8.6487e-02,\n",
              "                        2.1182e-02,  3.1427e-02, -5.6424e-02, -1.1205e-02,  7.4521e-03,\n",
              "                       -4.9326e-02,  3.3193e-02, -8.9150e-03,  1.0736e-01,  4.4795e-02,\n",
              "                       -2.3797e-02, -3.8246e-02, -6.2445e-02, -6.2106e-02,  9.1172e-02,\n",
              "                       -2.7819e-02,  2.2813e-02, -2.6056e-02, -5.0296e-02,  4.0616e-02,\n",
              "                        1.9544e-03, -5.7516e-02,  9.3943e-02,  4.1869e-03,  8.6872e-02,\n",
              "                        1.0183e-03,  1.1450e-01, -5.4717e-02, -5.9593e-02, -9.4581e-04,\n",
              "                        8.0107e-02,  1.8033e-02, -4.9996e-02, -2.6700e-02,  4.6509e-02,\n",
              "                        5.7606e-02, -5.6472e-02,  3.8204e-02,  9.1521e-02, -4.0561e-02,\n",
              "                        6.2816e-02,  3.4004e-03,  1.8003e-02,  1.3138e-03,  7.2241e-02,\n",
              "                        8.7878e-02, -4.1766e-02, -1.5206e-03,  6.7987e-02,  5.1657e-02,\n",
              "                        8.7303e-02, -4.3156e-02, -2.5524e-02, -1.5024e-02,  3.1126e-02,\n",
              "                        4.4082e-05,  4.9483e-02,  7.6376e-02, -7.0182e-02, -4.8469e-02,\n",
              "                        9.5152e-03, -6.8901e-04, -6.3191e-02,  9.1301e-02, -3.4441e-02,\n",
              "                        7.5622e-02, -4.4443e-02,  3.9826e-02, -1.1990e-02,  8.3732e-03,\n",
              "                       -8.7154e-03, -3.5854e-02,  6.7832e-03,  5.2373e-02,  1.3673e-02,\n",
              "                       -1.0918e-03, -7.1312e-02,  1.2947e-02, -7.7612e-04, -5.0621e-03]],\n",
              "                     requires_grad=True): {'step': 8165,\n",
              "               'square_avg': tensor([[3.2776e+02, 3.6561e-01, 2.4054e-01, 1.1265e+00, 1.3501e-01, 1.1870e-01,\n",
              "                        4.9861e-01, 2.3089e-01, 1.5061e+02, 2.1947e-01, 3.7607e+00, 6.1006e-01,\n",
              "                        1.1635e-01, 1.0571e+00, 1.4506e-01, 2.2041e-01, 3.2219e-01, 9.9316e-02,\n",
              "                        8.9024e+00, 1.5881e-01, 1.3030e-01, 4.1632e-01, 7.6344e+02, 4.2619e-01,\n",
              "                        2.6089e-01, 3.3083e-02, 3.4952e-01, 2.3171e+01, 4.3182e+01, 1.3675e+03,\n",
              "                        3.4585e-01, 4.0905e+00, 3.0818e-01, 2.4552e-01, 1.4125e-01, 2.2756e-01,\n",
              "                        1.3216e+01, 2.0830e-01, 2.3871e-01, 1.9055e+02, 4.6662e+00, 1.7082e+02,\n",
              "                        6.6822e-02, 3.6416e-01, 3.7204e-01, 3.2248e-01, 5.7016e-02, 1.4574e-01,\n",
              "                        8.4529e-01, 5.5447e-01, 4.7294e-01, 7.5820e+02, 3.2399e-01, 3.0429e-01,\n",
              "                        4.2237e-01, 6.3729e+01, 1.5952e-01, 9.2693e-01, 3.3807e-01, 1.6961e+01,\n",
              "                        1.1563e+02, 1.1474e-01, 9.6190e-02, 1.4590e-01, 8.4399e+01, 9.5121e+00,\n",
              "                        3.0118e+02, 1.1926e-01, 1.9944e-01, 3.2471e-01, 4.3283e+00, 6.6386e-02,\n",
              "                        7.7643e+01, 7.2841e-01, 1.1234e-01, 6.0285e-01, 1.1611e+01, 1.2509e+02,\n",
              "                        8.4086e-02, 5.1911e-01, 1.5425e-01, 2.3085e-01, 5.5355e-01, 6.2740e-01,\n",
              "                        4.7869e+01, 7.2700e-02, 2.3032e-01, 7.7596e-01, 4.2616e-01, 1.9177e+02,\n",
              "                        3.1005e+01, 5.6396e-01, 4.2721e+01, 2.3971e-01, 1.3954e-01, 4.8216e+00,\n",
              "                        2.7622e-01, 1.9555e-01, 4.9540e-01, 8.9136e-02, 6.7946e-02, 1.5638e-01,\n",
              "                        9.6931e+01, 1.3751e-01, 1.4020e+02, 1.8513e-01, 2.3269e-01, 1.0361e+03,\n",
              "                        5.1570e-01, 1.0008e+01, 2.5518e-01, 1.8718e-01, 2.7574e+02, 3.0590e+02,\n",
              "                        3.7641e-01]])},\n",
              "              Parameter containing:\n",
              "              tensor([0.3004], requires_grad=True): {'step': 8165,\n",
              "               'square_avg': tensor([0.0261])}}),\n",
              " 'param_groups': [{'lr': 0.000122770896701404,\n",
              "   'momentum': 0,\n",
              "   'alpha': 0.99,\n",
              "   'eps': 1e-08,\n",
              "   'centered': False,\n",
              "   'weight_decay': 0,\n",
              "   'foreach': None,\n",
              "   'maximize': False,\n",
              "   'differentiable': False,\n",
              "   'params': [Parameter containing:\n",
              "    tensor([[-0.0877,  0.0544,  0.0706,  ...,  0.0281,  0.0910,  0.0639],\n",
              "            [-0.2237,  0.2312, -0.0815,  ...,  0.0316,  0.1133,  0.2938],\n",
              "            [ 0.4092,  0.0123, -0.1909,  ...,  0.1701,  0.0923,  0.5303],\n",
              "            ...,\n",
              "            [ 0.0791,  0.2196, -0.0660,  ...,  0.1746, -0.2019, -0.0498],\n",
              "            [-0.0114,  0.0205, -0.2023,  ..., -0.1764,  0.0276, -0.1073],\n",
              "            [ 0.1830,  0.1175,  0.0901,  ...,  0.3002,  0.3285,  0.1964]],\n",
              "           requires_grad=True),\n",
              "    Parameter containing:\n",
              "    tensor([-2.2832e-01,  5.1003e-02,  4.7840e-02,  5.7017e-02,  6.6249e-02,\n",
              "            -3.7406e-01,  7.2150e-03, -4.1425e-01, -9.7748e-02, -4.4647e-01,\n",
              "            -1.1737e-02,  5.1845e-01,  2.4613e-01,  1.2681e-01, -6.6129e-02,\n",
              "            -7.1715e-02,  2.5884e-01, -2.3750e-01,  3.4896e-01,  7.3263e-04,\n",
              "            -1.3956e-01,  3.5456e-01, -7.3743e-02, -4.1134e-01, -1.0702e-01,\n",
              "            -1.4125e-01, -1.2811e-01,  3.8215e-01,  8.8693e-02,  6.7092e-02,\n",
              "             2.8465e-01, -6.1813e-03, -5.2848e-03, -9.6717e-03,  3.7236e-01,\n",
              "            -5.0534e-01,  4.3277e-03,  1.5531e-01, -1.6110e-01, -1.6693e-01,\n",
              "             1.6808e-01, -6.7653e-02,  1.6051e-01,  1.0435e-02,  1.8878e-01,\n",
              "            -3.6160e-01,  1.5555e-01,  1.3916e-01, -2.6147e-01, -3.8848e-01,\n",
              "            -3.9531e-01,  3.2312e-01,  1.5919e-01, -2.2777e-01,  1.1614e-01,\n",
              "             1.2477e-01,  4.5661e-01, -5.1635e-02, -1.2464e-01, -5.1550e-02,\n",
              "             1.1669e-01,  3.1403e-02,  3.3350e-01, -1.9863e-01,  2.4360e-01,\n",
              "            -4.9425e-01, -3.9769e-01, -3.5378e-02,  2.6284e-01, -2.7368e-02,\n",
              "             2.2852e-01,  1.3129e-01,  5.4011e-02,  1.5590e-01,  3.3769e-01,\n",
              "            -3.8580e-01,  1.4485e-01, -2.0147e-01,  2.8757e-01,  2.4312e-01,\n",
              "            -1.7414e-01,  1.4247e-01, -1.9451e-01,  2.2162e-01,  7.9929e-02,\n",
              "             3.3906e-01, -8.1396e-02,  1.9345e-01, -5.1681e-01, -1.2201e-01,\n",
              "            -7.9018e-02,  3.0992e-01, -1.2283e-01,  2.6732e-01,  4.3037e-02,\n",
              "            -7.7530e-02, -3.1242e-01, -4.8474e-02, -5.4114e-02,  4.6498e-01,\n",
              "             3.7730e-01, -1.6462e-01, -3.4207e-01,  4.9656e-01, -2.6550e-01,\n",
              "             9.4184e-02,  1.2865e-01,  1.3800e-01,  6.8682e-02,  1.0843e-01,\n",
              "             3.9593e-01, -1.0080e-01,  3.5910e-01,  4.7774e-01,  1.4436e-01,\n",
              "             7.3410e-02, -2.0473e-02,  1.9658e-02,  1.0230e-02, -2.5897e-01,\n",
              "            -4.2264e-01, -4.2310e-02,  2.3368e-01,  9.0779e-02,  3.3170e-02,\n",
              "             1.8676e-02, -1.2576e-01,  1.5962e-01, -2.8173e-01, -4.2377e-01,\n",
              "            -6.2272e-02,  2.2722e-02, -9.0613e-04, -2.2394e-01,  5.0120e-01,\n",
              "             2.8383e-02, -1.6005e-01,  4.4006e-02,  3.3137e-01,  2.7822e-01,\n",
              "             5.2303e-01, -1.2551e-01,  3.6700e-01,  1.3439e-01, -3.2926e-02,\n",
              "             2.6523e-01, -2.1844e-01, -1.4904e-01, -3.0956e-01,  5.6917e-01,\n",
              "            -9.0877e-02, -3.5380e-01, -5.0238e-03, -2.5003e-01,  1.9086e-02,\n",
              "             2.7983e-01,  1.4587e-01,  1.2133e-01, -4.5847e-01, -1.2254e-02,\n",
              "             3.1489e-01, -1.8829e-01, -3.3602e-01,  2.3110e-01, -3.6931e-01,\n",
              "             3.4476e-01,  2.7694e-01,  1.6933e-01,  8.5906e-02, -4.0142e-01,\n",
              "            -2.3494e-01,  1.1879e-01,  4.1066e-01, -4.2157e-01,  1.1766e-02,\n",
              "            -3.5986e-02, -2.9087e-01,  4.0485e-02,  3.3350e-02,  1.0097e-01,\n",
              "            -6.5778e-02, -1.9294e-01,  5.2835e-02,  1.4888e-01,  2.1947e-01,\n",
              "            -1.3755e-02,  2.8095e-01,  4.4157e-01,  4.7751e-01, -4.5773e-01,\n",
              "             1.7217e-01, -2.2697e-01, -8.3227e-02,  3.8579e-02,  1.6826e-01,\n",
              "            -2.1151e-01, -7.6371e-02,  3.8029e-01,  1.0037e-01,  1.5207e-01,\n",
              "             1.7047e-01,  1.1457e-01,  1.9289e-01,  6.8978e-02,  4.6285e-02,\n",
              "            -4.0515e-01, -4.5465e-03, -1.3742e-01, -2.2670e-01, -8.6942e-02,\n",
              "            -1.3465e-01, -3.3723e-02,  1.5901e-01,  2.2150e-01, -3.4495e-01,\n",
              "             3.5361e-01, -2.3164e-02,  1.8948e-01, -3.8590e-01,  1.9825e-01,\n",
              "            -2.6622e-01, -1.6167e-01,  1.8647e-01, -3.2161e-01, -1.8046e-02,\n",
              "            -2.4630e-02, -2.1803e-01, -1.8381e-03, -1.0260e-01,  1.4079e-01,\n",
              "            -1.7315e-01,  8.0950e-02,  1.5475e-01,  2.1216e-01, -3.2012e-01,\n",
              "            -1.3185e-01,  2.6219e-01, -7.0029e-02, -8.3173e-02,  2.3922e-01,\n",
              "             1.2877e-01,  2.4538e-01, -1.3536e-01, -3.1044e-02,  9.5752e-02,\n",
              "            -1.2746e-01,  2.0306e-01,  3.5924e-01, -3.9758e-01,  1.1849e-01,\n",
              "            -9.3816e-02,  8.4043e-02,  1.1274e-01,  1.4720e-01,  2.2847e-02,\n",
              "            -1.7833e-01, -4.2520e-01,  1.2920e-02,  8.0487e-02,  2.6405e-01,\n",
              "             1.1141e-01,  1.8189e-01, -4.1865e-01, -6.1867e-03, -3.5408e-01,\n",
              "             2.7340e-01,  2.5847e-01,  2.8898e-01, -3.3597e-02,  6.9658e-02,\n",
              "            -1.3548e-01,  3.7086e-02,  5.3017e-01,  4.6790e-02,  5.1048e-02,\n",
              "             2.4731e-01,  3.0048e-01,  1.2759e-01, -3.2059e-01, -3.2363e-01,\n",
              "            -3.4978e-01, -6.4427e-02, -4.3634e-03, -2.0569e-01, -3.0793e-01,\n",
              "            -8.0593e-02, -1.5114e-01,  3.4702e-01,  8.5631e-02,  6.3201e-02,\n",
              "            -3.6854e-02,  2.9282e-01, -3.0841e-02,  2.2251e-01, -8.5914e-02,\n",
              "             1.1499e-01, -1.3427e-01, -4.5347e-01, -2.4538e-01, -3.3410e-02,\n",
              "            -5.9901e-02,  6.7196e-02, -1.5161e-01,  2.7748e-01, -4.6827e-01,\n",
              "            -3.3759e-01, -4.1269e-01, -5.7090e-02,  2.3011e-01,  5.2508e-01,\n",
              "             4.5435e-01, -1.0216e-01, -3.4120e-02,  2.0720e-01,  4.2495e-02,\n",
              "            -3.1907e-02, -2.6309e-01, -6.2306e-02,  1.7012e-01,  8.9726e-02,\n",
              "            -2.1117e-01, -1.8509e-01, -4.5784e-01,  8.3494e-02, -6.8154e-02,\n",
              "            -1.2590e-01,  3.5693e-01, -1.5651e-01,  2.1896e-01,  2.2649e-01,\n",
              "            -3.6422e-01,  1.0651e-01,  7.4236e-02, -1.1688e-01,  2.1168e-01,\n",
              "             1.8446e-02,  1.9113e-01, -4.1578e-01,  2.4215e-03, -1.1316e-01,\n",
              "             3.3130e-02, -1.4292e-01, -2.2413e-01,  4.1672e-02,  1.0990e-01,\n",
              "             2.1315e-02,  3.2500e-01, -1.7813e-04, -1.4609e-01,  1.6314e-01,\n",
              "             3.2279e-01, -8.2160e-02,  6.7586e-02,  7.4442e-03, -2.4117e-01,\n",
              "            -2.6661e-01, -1.9407e-02,  3.3140e-02,  2.1090e-01, -3.7728e-01,\n",
              "             3.7757e-01, -3.5926e-02, -2.1272e-01,  1.6311e-01, -2.9521e-02,\n",
              "             9.3313e-02, -8.9066e-02, -1.1659e-01, -2.5052e-01, -3.0353e-01,\n",
              "             1.4338e-01, -4.4916e-01,  1.0998e-02, -2.0532e-02,  2.0188e-01,\n",
              "             2.9218e-03, -9.1361e-03, -2.3773e-01, -3.4685e-01, -1.8259e-01,\n",
              "             9.3993e-02, -1.4165e-01,  1.3609e-01, -2.1124e-01, -1.9726e-01,\n",
              "             8.2911e-02, -3.4609e-01, -1.1805e-01,  2.8051e-01, -4.0719e-01,\n",
              "            -3.3223e-01,  1.7858e-01,  3.2659e-01,  2.3486e-01,  4.3500e-01,\n",
              "             1.6865e-01, -4.9513e-02, -1.7665e-01, -2.2890e-01,  9.6134e-03,\n",
              "            -1.1377e-01,  4.3306e-02,  1.5983e-01, -1.7914e-01,  5.5511e-01,\n",
              "             1.0649e-02, -1.9957e-01, -1.6441e-01,  3.6751e-01,  1.3733e-01,\n",
              "            -3.6131e-01, -2.8687e-01,  2.0534e-01,  1.0745e-01, -3.2745e-02,\n",
              "            -1.3781e-01,  1.8816e-01, -1.9422e-01, -5.4007e-01,  2.0246e-01,\n",
              "             1.4065e-01, -1.0261e-01,  1.6458e-01, -3.1065e-02,  1.8380e-01,\n",
              "            -1.4456e-01,  2.6257e-01, -2.0832e-01, -3.1831e-01, -3.3617e-01,\n",
              "            -8.5683e-02, -4.0332e-02,  3.9607e-01, -1.5500e-01,  2.3838e-01,\n",
              "             2.5525e-01,  2.2693e-01, -2.4440e-01, -8.0986e-02, -3.6036e-02,\n",
              "             1.5695e-01, -5.6185e-02,  1.6416e-02,  2.1045e-01, -1.7026e-02,\n",
              "            -2.5604e-01, -1.3943e-01, -1.9734e-01,  1.3527e-01, -2.8927e-01,\n",
              "            -1.5750e-01, -2.1517e-01,  1.7020e-02, -1.1317e-02,  1.6039e-01,\n",
              "             5.0363e-01, -4.5958e-01, -2.9975e-01, -2.0433e-01, -1.6142e-01,\n",
              "             1.5067e-01, -2.1325e-01,  1.4348e-01, -5.6472e-01,  3.3006e-01,\n",
              "            -3.0467e-01, -4.0721e-01,  1.6047e-01,  4.6948e-01, -3.4470e-01,\n",
              "            -3.6532e-01,  3.4206e-01,  1.6779e-01, -1.6626e-01,  1.9302e-01,\n",
              "            -5.8430e-02, -1.5025e-01, -1.0277e-01,  2.8207e-01, -1.0958e-01,\n",
              "            -1.2020e-01,  6.6719e-02,  5.4909e-02,  4.2036e-01, -3.4917e-01,\n",
              "             2.2742e-01,  1.4055e-01, -8.7328e-02,  3.1453e-01, -3.2150e-01,\n",
              "            -8.7153e-02, -5.0247e-01, -1.2243e-01, -1.7651e-01, -3.9666e-01,\n",
              "             3.2451e-01,  2.3078e-01, -1.1493e-01, -7.8878e-02,  1.3929e-01,\n",
              "             3.7071e-02,  1.9534e-01,  2.1600e-01,  1.3360e-01,  3.7699e-01,\n",
              "             1.1689e-01,  3.2871e-01,  2.2684e-01,  3.5271e-02,  2.9790e-01,\n",
              "             6.1346e-02,  3.4313e-01, -3.1739e-01, -2.9167e-01, -2.6479e-01,\n",
              "            -5.4257e-03,  7.0070e-02, -1.4633e-01, -3.7833e-01, -1.0964e-01,\n",
              "            -1.0244e-01, -1.9448e-01, -3.7671e-01, -4.1314e-01, -2.5841e-01,\n",
              "            -3.2312e-01, -2.0395e-01, -1.6129e-01, -1.4952e-01, -1.6148e-01,\n",
              "            -3.8438e-01,  4.3679e-01, -5.3588e-02, -1.0800e-01, -1.7091e-01,\n",
              "            -1.2304e-01,  2.2484e-01, -1.9312e-01,  3.2343e-02,  3.0253e-01,\n",
              "             4.5371e-01, -1.7885e-01,  1.3599e-01,  2.9409e-01,  6.3150e-02,\n",
              "             5.1962e-01, -1.6713e-01, -1.1603e-01, -2.2449e-01,  1.2591e-01,\n",
              "             4.1417e-02,  2.2260e-01, -2.2840e-01,  4.1151e-02,  2.3718e-01],\n",
              "           requires_grad=True),\n",
              "    Parameter containing:\n",
              "    tensor([[ 0.0165, -0.0128, -0.0315,  ...,  0.0269,  0.0294, -0.0081],\n",
              "            [-0.0400,  0.0216,  0.0277,  ..., -0.0035, -0.0294, -0.0227],\n",
              "            [ 0.0326,  0.0009, -0.0160,  ...,  0.0004,  0.0396,  0.0529],\n",
              "            ...,\n",
              "            [-0.0275,  0.0009,  0.0044,  ...,  0.0219, -0.0274,  0.0705],\n",
              "            [ 0.0451,  0.0258,  0.0071,  ..., -0.0232,  0.0220, -0.0180],\n",
              "            [-0.0198, -0.0357,  0.0098,  ...,  0.0213,  0.0058,  0.0139]],\n",
              "           requires_grad=True),\n",
              "    Parameter containing:\n",
              "    tensor([ 1.8613e-01,  6.5138e-02,  9.6878e-02,  2.6441e-03, -2.7514e-02,\n",
              "            -1.2949e-01,  4.4286e-02,  2.2272e-01,  1.7448e-01, -3.2339e-02,\n",
              "             3.6417e-02,  7.5256e-02, -2.6625e-02,  9.2268e-02, -7.4213e-02,\n",
              "            -6.0332e-02,  7.6988e-02,  1.6356e-01,  1.8638e-01,  8.8239e-02,\n",
              "             2.3759e-01, -1.7608e-01,  5.0535e-02, -2.3096e-01,  5.9748e-02,\n",
              "             2.7057e-01,  7.9128e-02,  2.3190e-01,  2.5033e-01,  2.3552e-01,\n",
              "             1.6821e-01,  5.8569e-02,  1.3753e-01,  1.6333e-01,  1.7866e-01,\n",
              "            -1.2810e-01,  1.4902e-02,  2.1253e-01,  1.8375e-01, -1.4751e-01,\n",
              "             6.4784e-02,  1.0897e-01,  9.9193e-02,  1.6464e-01,  2.0552e-01,\n",
              "            -1.7782e-02,  5.1764e-02,  1.3330e-01,  1.3726e-01,  2.1389e-01,\n",
              "             3.2931e-02, -9.7862e-02,  4.3243e-02, -8.4777e-03,  1.4217e-01,\n",
              "             1.5802e-01,  5.3992e-02,  4.6296e-02,  9.3746e-02,  1.4926e-01,\n",
              "            -1.9181e-01,  1.9908e-01, -7.8666e-02,  2.4934e-02, -3.9359e-02,\n",
              "             5.6990e-02, -3.4319e-01,  1.3193e-01,  3.0579e-01,  1.0204e-01,\n",
              "             6.3015e-02,  2.0901e-02,  2.1217e-01,  8.4006e-02,  8.6613e-02,\n",
              "             3.8839e-02,  1.1426e-01,  7.2845e-02, -3.4733e-01, -1.6393e-01,\n",
              "             8.6462e-02,  4.9958e-02,  7.3150e-02, -8.9721e-03, -2.7583e-02,\n",
              "             1.4349e-01,  3.0338e-01,  1.5376e-01,  1.5131e-03,  4.5421e-02,\n",
              "            -2.6899e-01,  2.7962e-01, -3.9160e-02,  1.0859e-01,  1.0495e-01,\n",
              "            -6.3056e-03, -9.9988e-02,  2.2898e-01,  8.0500e-02, -1.0409e-01,\n",
              "             2.4065e-01, -3.6426e-02,  2.1687e-01, -1.0819e-01, -8.4467e-02,\n",
              "             6.9781e-02,  1.3634e-01,  1.1266e-01,  2.0874e-01,  1.5419e-01,\n",
              "             1.9270e-01,  1.6573e-01,  1.7047e-01, -8.3998e-02,  2.0484e-01,\n",
              "             9.8558e-02,  4.8381e-02, -1.4639e-01, -2.2076e-01,  1.7464e-01,\n",
              "             1.7752e-02,  1.9266e-01,  7.6624e-02, -3.2345e-02,  2.2416e-01,\n",
              "             1.0377e-01,  8.6889e-02,  1.6437e-01,  7.7717e-02, -6.3270e-02,\n",
              "            -3.7379e-01,  1.1868e-01, -2.5018e-01, -1.2582e-02, -9.7076e-02,\n",
              "            -6.8332e-02, -3.4114e-02,  6.3781e-02, -1.2393e-02, -1.7274e-01,\n",
              "             1.8979e-02,  2.1023e-01,  1.4125e-01,  8.9830e-02, -1.8208e-01,\n",
              "             1.3501e-01,  2.7666e-01,  8.3876e-02, -1.7243e-01,  1.3321e-01,\n",
              "             1.2815e-01, -7.7607e-02,  1.6196e-01,  1.6110e-01,  3.2816e-02,\n",
              "             1.9561e-01, -5.2467e-02,  4.5857e-02,  8.4808e-02,  4.4865e-02,\n",
              "            -4.4787e-02,  1.0214e-02,  4.6312e-02,  8.5743e-02,  2.3364e-01,\n",
              "             7.8165e-02, -7.2700e-02,  2.3649e-01, -2.2548e-01,  1.0143e-02,\n",
              "            -2.0373e-02,  4.3598e-03,  3.9746e-02,  1.5573e-01, -8.3360e-02,\n",
              "            -1.8070e-02,  1.2264e-01, -3.9007e-03,  1.0198e-01,  1.8075e-01,\n",
              "             1.7515e-02,  7.0709e-02,  1.4801e-01,  1.5547e-01,  1.0209e-01,\n",
              "             1.2704e-01,  1.1579e-01,  2.2634e-02,  1.1352e-01,  1.8036e-01,\n",
              "             1.0778e-01, -8.3198e-02,  1.6583e-01,  9.0643e-02, -2.9113e-01,\n",
              "             3.2012e-02,  1.9189e-03,  1.4875e-01,  1.7455e-01,  1.4971e-01,\n",
              "             1.0297e-02,  4.1535e-02, -1.7516e-01,  9.3071e-03,  7.7042e-02,\n",
              "             1.7438e-01,  2.4900e-01,  9.8903e-02, -1.2011e-01,  2.2526e-01,\n",
              "             1.3742e-01,  1.2581e-01, -2.3985e-02,  8.1828e-02, -4.0012e-02,\n",
              "             1.8645e-01, -2.1958e-01,  7.7995e-02,  8.6101e-02, -7.2111e-02,\n",
              "             1.8200e-02,  1.0424e-01, -3.5375e-02, -7.5904e-02, -7.7063e-02,\n",
              "             2.7259e-02,  4.7044e-02,  1.3349e-01,  1.2483e-01,  3.0615e-02,\n",
              "             2.8473e-02, -2.9689e-01,  5.2589e-02,  1.2006e-01,  2.3706e-01,\n",
              "            -1.6405e-01,  1.2181e-01, -1.3776e-01, -1.7747e-01, -1.2685e-03,\n",
              "             3.1421e-01,  1.8956e-01,  1.8080e-02,  7.2911e-02,  2.1697e-01,\n",
              "             3.1036e-01,  1.1859e-01,  9.2061e-02,  1.6187e-01,  7.6563e-02,\n",
              "            -2.1347e-01, -6.1119e-02, -2.0342e-02,  2.1047e-01, -3.7818e-02,\n",
              "             7.4462e-02,  5.6325e-02,  1.3712e-01,  2.4613e-01,  9.7334e-02,\n",
              "             1.2867e-01,  3.1655e-01,  1.3231e-01,  1.8959e-01,  1.8325e-01,\n",
              "            -1.6328e-01,  2.7050e-01, -3.0234e-01, -6.1377e-02,  4.3550e-02,\n",
              "             3.0188e-02, -4.6840e-02,  5.2421e-02,  9.4347e-02,  7.0573e-02,\n",
              "             6.2693e-02, -2.0298e-01,  1.0222e-01, -6.2062e-02, -1.2145e-01,\n",
              "             1.7040e-01,  1.5321e-02,  1.5135e-01,  1.4383e-02, -1.5881e-01,\n",
              "             1.6969e-01, -6.7509e-02,  2.7109e-01,  2.4060e-01,  1.7781e-01,\n",
              "             1.6051e-01,  2.7139e-02,  6.6327e-02,  1.4366e-01,  1.7205e-01,\n",
              "             1.2896e-01, -2.8715e-01,  7.8581e-02,  1.4734e-01,  1.3365e-01,\n",
              "             2.2486e-01,  7.1043e-02,  4.4753e-02, -5.9860e-02,  9.2931e-02,\n",
              "             2.6568e-02, -1.0333e-01,  4.7776e-02,  1.7970e-01,  1.5952e-01,\n",
              "             2.2401e-01, -3.3538e-01,  1.3694e-01,  6.6602e-02, -1.0078e-01,\n",
              "             2.5345e-01,  2.8602e-02,  2.2656e-01,  1.0269e-01, -1.3137e-01,\n",
              "            -4.9229e-02,  8.5044e-02, -1.5059e-01,  2.3876e-01,  1.6100e-01,\n",
              "             2.0288e-01,  2.1521e-01,  1.7739e-01, -1.9242e-01,  5.4285e-02,\n",
              "            -1.1235e-01,  1.9984e-01,  3.6235e-04,  9.3479e-02, -6.5211e-02,\n",
              "            -5.4449e-02,  9.3171e-02,  1.1549e-01, -2.2990e-01,  1.3349e-01,\n",
              "             1.3058e-01, -1.4416e-03,  2.3540e-02,  2.0286e-01, -1.2588e-01,\n",
              "             1.5180e-01,  9.0877e-02, -8.6064e-02, -1.8525e-02,  1.7917e-01,\n",
              "             1.7884e-01,  2.8132e-02,  1.1154e-01,  1.4224e-01,  2.6098e-02,\n",
              "             2.3524e-01,  1.7264e-02, -5.3731e-02,  1.9351e-01,  1.1934e-01,\n",
              "            -2.5493e-01, -2.1664e-01,  2.7405e-01,  1.8689e-01, -6.6453e-02,\n",
              "             1.6117e-01, -2.0292e-01, -2.5753e-01,  7.3737e-02,  1.1023e-01,\n",
              "            -2.5888e-01,  2.2465e-02, -3.2758e-02,  1.4690e-01,  3.3338e-02,\n",
              "            -1.7516e-02,  2.1445e-01, -2.1070e-01, -1.6459e-01,  2.2752e-02,\n",
              "             9.8110e-02,  1.6819e-02,  5.1538e-02,  9.5585e-02, -8.3692e-02,\n",
              "             1.3847e-01,  1.1864e-01, -2.8258e-02,  1.0001e-01,  1.6798e-01,\n",
              "             2.1205e-01,  4.5640e-02,  1.9375e-01,  5.7460e-02,  5.8559e-02,\n",
              "             8.5409e-02,  1.4229e-01,  2.1034e-03, -1.8960e-01,  1.4766e-01,\n",
              "             5.1821e-03, -2.5784e-01,  1.1183e-02,  2.1042e-01,  7.4748e-02,\n",
              "            -3.4103e-01, -1.0890e-01,  6.5639e-03,  1.6899e-01, -9.1850e-03,\n",
              "             9.3574e-02,  1.6826e-01,  2.3826e-01, -2.7632e-01,  1.3575e-01,\n",
              "            -1.1244e-03, -4.4286e-02,  2.3831e-02,  6.7990e-02, -1.5583e-02,\n",
              "             5.8217e-02, -7.1436e-02,  3.5820e-02, -9.7504e-02,  1.1331e-01,\n",
              "            -2.6950e-01,  1.6016e-01,  2.3979e-01,  1.6438e-01, -1.3421e-01,\n",
              "             1.0315e-01,  9.4746e-02,  1.0771e-01,  1.4334e-01,  1.0905e-01,\n",
              "            -3.2446e-01,  2.4243e-01,  1.3714e-01,  2.9833e-01,  8.0382e-02,\n",
              "            -1.1281e-01,  6.1971e-02, -1.5753e-02,  1.7180e-01,  2.1575e-01,\n",
              "             1.0823e-01, -7.0072e-02,  7.6016e-02,  2.2093e-01,  1.9055e-01,\n",
              "            -5.4779e-02,  1.8481e-01, -1.7390e-01,  9.3539e-02,  9.8405e-02,\n",
              "             1.7841e-01, -2.3503e-02,  1.2225e-01], requires_grad=True),\n",
              "    Parameter containing:\n",
              "    tensor([[-0.0380, -0.0151,  0.0193,  ..., -0.0047, -0.0400,  0.0444],\n",
              "            [-0.0136, -0.0304, -0.0110,  ...,  0.0014,  0.0003,  0.0422],\n",
              "            [-0.0422,  0.0360,  0.0330,  ...,  0.0057,  0.0160,  0.0675],\n",
              "            ...,\n",
              "            [-0.0164, -0.0516,  0.0003,  ..., -0.0045, -0.0051,  0.0147],\n",
              "            [-0.0025, -0.0026, -0.0141,  ...,  0.0406,  0.0217, -0.0124],\n",
              "            [ 0.0039, -0.0144,  0.0246,  ..., -0.0379,  0.0554,  0.0081]],\n",
              "           requires_grad=True),\n",
              "    Parameter containing:\n",
              "    tensor([ 0.1650,  0.1871,  0.1026, -0.1582, -0.1055,  0.0424, -0.1165,  0.1208,\n",
              "             0.1888,  0.1080,  0.1541,  0.1317,  0.0638,  0.2085,  0.1565, -0.2368,\n",
              "             0.0817,  0.0379,  0.2484,  0.0929, -0.1012,  0.1416,  0.2623, -0.2218,\n",
              "            -0.1520, -0.1453,  0.1137,  0.1309,  0.2214,  0.2463,  0.1311,  0.2730,\n",
              "            -0.1798,  0.1100,  0.0764,  0.0539,  0.2594,  0.0593,  0.0763,  0.2177,\n",
              "            -0.2036,  0.2786,  0.0455,  0.1431,  0.2273,  0.1313, -0.1845,  0.1632,\n",
              "            -0.2192,  0.0975, -0.1945,  0.2846, -0.1738, -0.0266,  0.2290,  0.1976,\n",
              "            -0.0957,  0.0739,  0.0234,  0.0945,  0.2594,  0.1404,  0.0613,  0.0119,\n",
              "             0.2936,  0.1618,  0.2433,  0.1014,  0.1391,  0.2100,  0.2309, -0.1698,\n",
              "             0.2916,  0.0866, -0.1935,  0.1638,  0.2849,  0.3179, -0.0972,  0.1214,\n",
              "             0.1681,  0.0959,  0.0820,  0.0722,  0.0693,  0.2292,  0.1621,  0.0364,\n",
              "             0.0720,  0.2970,  0.0532,  0.1467,  0.1377, -0.2233,  0.1199,  0.3258,\n",
              "             0.0965, -0.0874,  0.1222,  0.0397,  0.0301,  0.0202,  0.1990,  0.1022,\n",
              "             0.2709,  0.0103,  0.0762,  0.1224,  0.1209,  0.1828, -0.0566,  0.1501,\n",
              "             0.3191,  0.1848,  0.1696], requires_grad=True),\n",
              "    Parameter containing:\n",
              "    tensor([[ 1.0908e-02, -4.7433e-02, -4.6738e-02, -1.7819e-02, -2.1623e-03,\n",
              "              9.3160e-02, -2.2240e-02, -4.7020e-02,  6.8234e-03,  8.7890e-02,\n",
              "              5.5224e-02,  8.2860e-02, -2.8651e-02,  4.6330e-02, -1.1396e-02,\n",
              "             -2.3135e-02,  5.3612e-02, -3.9887e-02,  4.8817e-03, -2.8461e-02,\n",
              "             -1.2420e-02,  6.7224e-02,  6.5213e-03, -5.8602e-02, -2.8207e-02,\n",
              "             -4.3938e-02,  2.4058e-02,  3.8812e-02,  1.2040e-02,  6.9816e-03,\n",
              "             -5.4596e-02,  3.8944e-02, -5.8424e-02,  3.5878e-02,  8.6487e-02,\n",
              "              2.1182e-02,  3.1427e-02, -5.6424e-02, -1.1205e-02,  7.4521e-03,\n",
              "             -4.9326e-02,  3.3193e-02, -8.9150e-03,  1.0736e-01,  4.4795e-02,\n",
              "             -2.3797e-02, -3.8246e-02, -6.2445e-02, -6.2106e-02,  9.1172e-02,\n",
              "             -2.7819e-02,  2.2813e-02, -2.6056e-02, -5.0296e-02,  4.0616e-02,\n",
              "              1.9544e-03, -5.7516e-02,  9.3943e-02,  4.1869e-03,  8.6872e-02,\n",
              "              1.0183e-03,  1.1450e-01, -5.4717e-02, -5.9593e-02, -9.4581e-04,\n",
              "              8.0107e-02,  1.8033e-02, -4.9996e-02, -2.6700e-02,  4.6509e-02,\n",
              "              5.7606e-02, -5.6472e-02,  3.8204e-02,  9.1521e-02, -4.0561e-02,\n",
              "              6.2816e-02,  3.4004e-03,  1.8003e-02,  1.3138e-03,  7.2241e-02,\n",
              "              8.7878e-02, -4.1766e-02, -1.5206e-03,  6.7987e-02,  5.1657e-02,\n",
              "              8.7303e-02, -4.3156e-02, -2.5524e-02, -1.5024e-02,  3.1126e-02,\n",
              "              4.4082e-05,  4.9483e-02,  7.6376e-02, -7.0182e-02, -4.8469e-02,\n",
              "              9.5152e-03, -6.8901e-04, -6.3191e-02,  9.1301e-02, -3.4441e-02,\n",
              "              7.5622e-02, -4.4443e-02,  3.9826e-02, -1.1990e-02,  8.3732e-03,\n",
              "             -8.7154e-03, -3.5854e-02,  6.7832e-03,  5.2373e-02,  1.3673e-02,\n",
              "             -1.0918e-03, -7.1312e-02,  1.2947e-02, -7.7612e-04, -5.0621e-03]],\n",
              "           requires_grad=True),\n",
              "    Parameter containing:\n",
              "    tensor([0.3004], requires_grad=True)]}],\n",
              " '_warned_capturable_if_run_uncaptured': True}"
            ]
          },
          "execution_count": 107,
          "metadata": {},
          "output_type": "execute_result"
        },
        {
          "data": {
            "text/plain": [
              "<torch.optim.lr_scheduler.ReduceLROnPlateau at 0x7fe36741e110>"
            ]
          },
          "execution_count": 107,
          "metadata": {},
          "output_type": "execute_result"
        },
        {
          "data": {
            "text/plain": [
              "{'factor': 0.18979341786654758,\n",
              " 'optimizer': RMSprop (\n",
              " Parameter Group 0\n",
              "     alpha: 0.99\n",
              "     centered: False\n",
              "     differentiable: False\n",
              "     eps: 1e-08\n",
              "     foreach: None\n",
              "     lr: 0.000122770896701404\n",
              "     maximize: False\n",
              "     momentum: 0\n",
              "     weight_decay: 0\n",
              " ),\n",
              " 'min_lrs': [0],\n",
              " 'patience': 11,\n",
              " 'verbose': False,\n",
              " 'cooldown': 0,\n",
              " 'cooldown_counter': 0,\n",
              " 'mode': 'min',\n",
              " 'threshold': 0.0017197466122611932,\n",
              " 'threshold_mode': 'rel',\n",
              " 'best': inf,\n",
              " 'num_bad_epochs': 0,\n",
              " 'mode_worse': inf,\n",
              " 'eps': 1e-08,\n",
              " 'last_epoch': 0}"
            ]
          },
          "execution_count": 226,
          "metadata": {},
          "output_type": "execute_result"
        },
        {
          "data": {
            "text/plain": [
              "[3.928699871882796,\n",
              " 3.818184501168132,\n",
              " 3.6899645292282095,\n",
              " 3.653679960142076,\n",
              " 3.5891848728328943]"
            ]
          },
          "execution_count": 107,
          "metadata": {},
          "output_type": "execute_result"
        },
        {
          "data": {
            "text/plain": [
              "[3.851497606658936,\n",
              " 3.714066507220268,\n",
              " 3.713552722382545,\n",
              " 3.59900238597393,\n",
              " 3.7442530943751335]"
            ]
          },
          "execution_count": 107,
          "metadata": {},
          "output_type": "execute_result"
        },
        {
          "data": {
            "text/plain": [
              "[{'l1_norm': 3.995097927355021, 'linf_norm': 118.93379705909192},\n",
              " {'l1_norm': 4.174827810598165, 'linf_norm': 124.4080057183504},\n",
              " {'l1_norm': 4.323883734909445, 'linf_norm': 131.2005599626869},\n",
              " {'l1_norm': 4.307756382673234, 'linf_norm': 126.55863637458384},\n",
              " {'l1_norm': 4.336979526558518, 'linf_norm': 128.3338440661967}]"
            ]
          },
          "execution_count": 107,
          "metadata": {},
          "output_type": "execute_result"
        },
        {
          "data": {
            "text/plain": [
              "[{'l1_norm': 3.695524356454611, 'linf_norm': 104.3051818943262},\n",
              " {'l1_norm': 3.824842008978128, 'linf_norm': 110.41750745985507},\n",
              " {'l1_norm': 3.447140242993832, 'linf_norm': 98.28849546684027},\n",
              " {'l1_norm': 3.779016750937701, 'linf_norm': 111.90742960797547},\n",
              " {'l1_norm': 2.441320395085216, 'linf_norm': 62.61117192979455}]"
            ]
          },
          "execution_count": 107,
          "metadata": {},
          "output_type": "execute_result"
        }
      ],
      "source": [
        "# %%script echo skipping\n",
        "\n",
        "if hidden_activation_name_loaded == \"LeakyReLU\":\n",
        "  var_dict_loaded[\"leakyrelu_slope\"]\n",
        "if hidden_activation_name_loaded == \"PReLU\":\n",
        "  var_dict_loaded[\"prelu_init\"]\n",
        "elif hidden_activation_name_loaded == \"SoftPlus\":\n",
        "  var_dict_loaded[\"softplus_beta\"]\n",
        "\n",
        "batch_size_loaded\n",
        "n_epochs_loaded\n",
        "loss_name_loaded\n",
        "optimizer_name_loaded\n",
        "scheduler_name_loaded\n",
        "n_units_loaded\n",
        "n_layers_loaded\n",
        "hidden_activation_name_loaded\n",
        "output_activation_name_loaded\n",
        "lr_loaded\n",
        "dropout_rate_loaded\n",
        "hidden_activation_loaded\n",
        "output_activation_loaded\n",
        "net_loaded\n",
        "net_loaded.__dict__ # print the subparameters of the network\n",
        "loss_fn_loaded\n",
        "optimizer_loaded\n",
        "optimizer_loaded.__dict__ # print the subparameters of the optimizer\n",
        "scheduler_loaded\n",
        "scheduler_loaded.__dict__ # print the subparameters of the scheduler\n",
        "train_losses_loaded\n",
        "test_losses_loaded\n",
        "train_metrics_loaded\n",
        "test_metrics_loaded\n"
      ]
    },
    {
      "cell_type": "code",
      "execution_count": null,
      "metadata": {},
      "outputs": [
        {
          "data": {
            "text/plain": [
              "3.5891848728328943"
            ]
          },
          "execution_count": 227,
          "metadata": {},
          "output_type": "execute_result"
        },
        {
          "data": {
            "text/plain": [
              "3.7442530943751335"
            ]
          },
          "execution_count": 227,
          "metadata": {},
          "output_type": "execute_result"
        },
        {
          "data": {
            "text/plain": [
              "2.441320395085216"
            ]
          },
          "execution_count": 227,
          "metadata": {},
          "output_type": "execute_result"
        },
        {
          "data": {
            "text/plain": [
              "62.61117192979455"
            ]
          },
          "execution_count": 227,
          "metadata": {},
          "output_type": "execute_result"
        }
      ],
      "source": [
        "train_losses_loaded[-1]\n",
        "test_losses_loaded[-1]\n",
        "test_metrics_loaded[-1]['l1_norm']\n",
        "test_metrics_loaded[-1]['linf_norm']\n",
        "# print(f'Error is {test_metrics_loaded[-1][\"l1_norm\"] / (3.84e-4)} times bigger than in Dieselhorst et al.')\n",
        "# print(f'Error is {test_metrics_loaded[-1][\"linf_norm\"] / (8.14e-3)} times bigger than in Dieselhorst et al.')"
      ]
    },
    {
      "attachments": {},
      "cell_type": "markdown",
      "metadata": {},
      "source": [
        "### Visualize loaded results"
      ]
    },
    {
      "attachments": {},
      "cell_type": "markdown",
      "metadata": {
        "id": "vwLGR1aSUZik"
      },
      "source": [
        "Let us verify correct loading of the train and test metrics by visualizing them again but now through the loaded values. Likewise for the train and test losses."
      ]
    },
    {
      "cell_type": "code",
      "execution_count": null,
      "metadata": {
        "id": "sXiNgLsmUZil"
      },
      "outputs": [],
      "source": [
        "%config InteractiveShell.ast_node_interactivity = \"last_expr_or_assign\""
      ]
    },
    {
      "cell_type": "code",
      "execution_count": null,
      "metadata": {
        "colab": {
          "base_uri": "https://localhost:8080/",
          "height": 1000
        },
        "id": "sgq4WfSiUZil",
        "outputId": "9934bd08-6c78-4a92-c8c6-d8e835c351b3"
      },
      "outputs": [
        {
          "data": {
            "image/png": "[encoded data removed]",
            "text/plain": [
              "<Figure size 640x480 with 2 Axes>"
            ]
          },
          "metadata": {},
          "output_type": "display_data"
        },
        {
          "data": {
            "image/png": "[encoded data removed]",
            "text/plain": [
              "<Figure size 800x600 with 1 Axes>"
            ]
          },
          "metadata": {},
          "output_type": "display_data"
        }
      ],
      "source": [
        "# Plotting the losses and metrics for the best network plt.figure(figsize=(12, \n",
        "#plt.subplot(2, 2, 1)\n",
        "#plt.plot(train_losses_loaded, label=\"Train Loss\")\n",
        "#plt.plot(test_losses_loaded, label=\"Test Loss\")\n",
        "#plt.xlabel(\"Epoch\")\n",
        "#plt.ylabel(\"Loss\")\n",
        "#plt.legend()\n",
        "plt.subplot(2, 2, 2)\n",
        "plt.plot([m[\"l1_norm\"] for m in train_metrics_loaded], label=\"Train L1 Norm\")\n",
        "plt.plot([m[\"l1_norm\"] for m in test_metrics_loaded], label=\"Test L1 Norm\")\n",
        "plt.xlabel(\"Epoch\")\n",
        "plt.ylabel(\"L1 Norm\")\n",
        "# Added setting the vertical axis to be in powers of 10\n",
        "plt.yscale(\"log\")\n",
        "# Added setting the vertical axis limits to be from 10^-7 to 10^0\n",
        "plt.ylim(1e-3, 1e2)\n",
        "plt.legend()\n",
        "plt.subplot(2, 2, 3)\n",
        "plt.plot([m[\"linf_norm\"] for m in train_metrics_loaded], label=\"Train Linf Norm\")\n",
        "plt.plot([m[\"linf_norm\"] for m in test_metrics_loaded], label=\"Test Linf Norm\")\n",
        "plt.xlabel(\"Epoch\")\n",
        "plt.ylabel(\"Linf Norm\")\n",
        "# Added setting the vertical axis to be in powers of 10\n",
        "plt.yscale(\"log\")\n",
        "# Added setting the vertical axis limits to be from 10^-7 to 10^0\n",
        "plt.ylim(1e-3, 1e2)\n",
        "plt.legend()\n",
        "plt.tight_layout()\n",
        "plt.show()\n",
        "\n",
        "# Added plotting MSE of training data and MSE of test data in one plot \n",
        "plt.figure(figsize=(8, 6))\n",
        "plt.plot(train_losses_loaded,label=\"training data\")\n",
        "plt.plot(test_losses_loaded,label=\"test data\")\n",
        "#if scheduler is not None:\n",
        "#    plt.plot([scheduler.get_last_lr()[0] for _ in range(n_epochs)], label=\"Learning rate\") \n",
        "plt.xlabel(\"Epoch\")\n",
        "plt.ylabel(f\"{loss_name_loaded} Loss\")\n",
        "# Added setting the vertical axis to be in powers of 10\n",
        "plt.yscale(\"log\")\n",
        "# Added setting the vertical axis limits to be from 10^-7 to 10^0\n",
        "plt.ylim(1e-7, 1e0)\n",
        "plt.legend()\n",
        "plt.show()\n"
      ]
    },
    {
      "cell_type": "code",
      "execution_count": null,
      "metadata": {
        "id": "lkgLqJ_UUZim"
      },
      "outputs": [],
      "source": [
        "%config InteractiveShell.ast_node_interactivity = \"all\""
      ]
    },
    {
      "attachments": {},
      "cell_type": "markdown",
      "metadata": {},
      "source": [
        "## Counting the number of parameters in the network."
      ]
    },
    {
      "cell_type": "code",
      "execution_count": null,
      "metadata": {},
      "outputs": [
        {
          "data": {
            "text/plain": [
              "Net(\n",
              "  (hidden_activation): LeakyReLU(negative_slope=0.01)\n",
              "  (output_activation): Identity()\n",
              "  (layers): ModuleList(\n",
              "    (0): Linear(in_features=14, out_features=555, bias=True)\n",
              "    (1): Linear(in_features=555, out_features=458, bias=True)\n",
              "    (2): Linear(in_features=458, out_features=115, bias=True)\n",
              "    (3): Linear(in_features=115, out_features=1, bias=True)\n",
              "  )\n",
              "  (dropouts): ModuleList(\n",
              "    (0-2): 3 x Dropout(p=0.2, inplace=False)\n",
              "  )\n",
              ")"
            ]
          },
          "execution_count": 231,
          "metadata": {},
          "output_type": "execute_result"
        },
        {
          "name": "stdout",
          "output_type": "stream",
          "text": [
            "The model has 315874 parameters.\n"
          ]
        }
      ],
      "source": [
        "net_loaded.eval()\n",
        "def count_parameters(model):\n",
        "    return sum(p.numel() for p in model.parameters() if p.requires_grad)\n",
        "print(f'The model has {count_parameters(net_loaded)} parameters.')"
      ]
    },
    {
      "attachments": {},
      "cell_type": "markdown",
      "metadata": {
        "id": "SxuzVSnlUZin"
      },
      "source": [
        "## Evaluating the network on arbirary input\n",
        "### Comparing `net` and `net_loaded`\n",
        "\n",
        "We compare `net` and `net_loaded` to confirm correct loading of the network. Note that `net` is only available if we have trained the model in this session."
      ]
    },
    {
      "cell_type": "code",
      "execution_count": null,
      "metadata": {},
      "outputs": [
        {
          "data": {
            "text/plain": [
              "Net(\n",
              "  (hidden_activation): LeakyReLU(negative_slope=0.01)\n",
              "  (output_activation): Identity()\n",
              "  (layers): ModuleList(\n",
              "    (0): Linear(in_features=14, out_features=555, bias=True)\n",
              "    (1): Linear(in_features=555, out_features=458, bias=True)\n",
              "    (2): Linear(in_features=458, out_features=115, bias=True)\n",
              "    (3): Linear(in_features=115, out_features=1, bias=True)\n",
              "  )\n",
              "  (dropouts): ModuleList(\n",
              "    (0-2): 3 x Dropout(p=0.2, inplace=False)\n",
              "  )\n",
              ")"
            ]
          },
          "execution_count": 232,
          "metadata": {},
          "output_type": "execute_result"
        }
      ],
      "source": [
        "#%%script echo skipping\n",
        "\n",
        "# Set the network to evaluation mode\n",
        "net.eval()"
      ]
    },
    {
      "cell_type": "code",
      "execution_count": null,
      "metadata": {},
      "outputs": [
        {
          "data": {
            "text/plain": [
              "<bound method Module.eval of Net(\n",
              "  (hidden_activation): LeakyReLU(negative_slope=0.01)\n",
              "  (output_activation): Identity()\n",
              "  (layers): ModuleList(\n",
              "    (0): Linear(in_features=14, out_features=555, bias=True)\n",
              "    (1): Linear(in_features=555, out_features=458, bias=True)\n",
              "    (2): Linear(in_features=458, out_features=115, bias=True)\n",
              "    (3): Linear(in_features=115, out_features=1, bias=True)\n",
              "  )\n",
              "  (dropouts): ModuleList(\n",
              "    (0-2): 3 x Dropout(p=0.2, inplace=False)\n",
              "  )\n",
              ")>"
            ]
          },
          "execution_count": 233,
          "metadata": {},
          "output_type": "execute_result"
        }
      ],
      "source": [
        "# Set the network to evaluation mode\n",
        "net_loaded.eval"
      ]
    },
    {
      "cell_type": "code",
      "execution_count": null,
      "metadata": {},
      "outputs": [
        {
          "name": "stdout",
          "output_type": "stream",
          "text": [
            "Parameters are the same.\n",
            "Net device: cpu\n",
            "Net_loaded device: cpu\n"
          ]
        }
      ],
      "source": [
        "for p1, p2 in zip(net.parameters(), net_loaded.parameters()):\n",
        "    if p1.data.ne(p2.data).sum() > 0:\n",
        "        print(\"Parameters are NOT the same.\")\n",
        "        break\n",
        "else:\n",
        "    print(\"Parameters are the same.\")\n",
        "\n",
        "print(\"Net device:\", next(net.parameters()).device)\n",
        "print(\"Net_loaded device:\", next(net_loaded.parameters()).device)"
      ]
    },
    {
      "cell_type": "code",
      "execution_count": null,
      "metadata": {
        "colab": {
          "base_uri": "https://localhost:8080/"
        },
        "id": "C0PLAA0DUZin",
        "outputId": "c51e07dd-8b35-4ea4-cdf9-3118d7796e30"
      },
      "outputs": [
        {
          "name": "stdout",
          "output_type": "stream",
          "text": [
            "[Parameter containing:\n",
            "tensor([[-0.0877,  0.0544,  0.0706,  ...,  0.0281,  0.0910,  0.0639],\n",
            "        [-0.2237,  0.2312, -0.0815,  ...,  0.0316,  0.1133,  0.2938],\n",
            "        [ 0.4092,  0.0123, -0.1909,  ...,  0.1701,  0.0923,  0.5303],\n",
            "        ...,\n",
            "        [ 0.0791,  0.2196, -0.0660,  ...,  0.1746, -0.2019, -0.0498],\n",
            "        [-0.0114,  0.0205, -0.2023,  ..., -0.1764,  0.0276, -0.1073],\n",
            "        [ 0.1830,  0.1175,  0.0901,  ...,  0.3002,  0.3285,  0.1964]],\n",
            "       requires_grad=True), Parameter containing:\n",
            "tensor([-2.2832e-01,  5.1003e-02,  4.7840e-02,  5.7017e-02,  6.6249e-02,\n",
            "        -3.7406e-01,  7.2150e-03, -4.1425e-01, -9.7748e-02, -4.4647e-01,\n",
            "        -1.1737e-02,  5.1845e-01,  2.4613e-01,  1.2681e-01, -6.6129e-02,\n",
            "        -7.1715e-02,  2.5884e-01, -2.3750e-01,  3.4896e-01,  7.3263e-04,\n",
            "        -1.3956e-01,  3.5456e-01, -7.3743e-02, -4.1134e-01, -1.0702e-01,\n",
            "        -1.4125e-01, -1.2811e-01,  3.8215e-01,  8.8693e-02,  6.7092e-02,\n",
            "         2.8465e-01, -6.1813e-03, -5.2848e-03, -9.6717e-03,  3.7236e-01,\n",
            "        -5.0534e-01,  4.3277e-03,  1.5531e-01, -1.6110e-01, -1.6693e-01,\n",
            "         1.6808e-01, -6.7653e-02,  1.6051e-01,  1.0435e-02,  1.8878e-01,\n",
            "        -3.6160e-01,  1.5555e-01,  1.3916e-01, -2.6147e-01, -3.8848e-01,\n",
            "        -3.9531e-01,  3.2312e-01,  1.5919e-01, -2.2777e-01,  1.1614e-01,\n",
            "         1.2477e-01,  4.5661e-01, -5.1635e-02, -1.2464e-01, -5.1550e-02,\n",
            "         1.1669e-01,  3.1403e-02,  3.3350e-01, -1.9863e-01,  2.4360e-01,\n",
            "        -4.9425e-01, -3.9769e-01, -3.5378e-02,  2.6284e-01, -2.7368e-02,\n",
            "         2.2852e-01,  1.3129e-01,  5.4011e-02,  1.5590e-01,  3.3769e-01,\n",
            "        -3.8580e-01,  1.4485e-01, -2.0147e-01,  2.8757e-01,  2.4312e-01,\n",
            "        -1.7414e-01,  1.4247e-01, -1.9451e-01,  2.2162e-01,  7.9929e-02,\n",
            "         3.3906e-01, -8.1396e-02,  1.9345e-01, -5.1681e-01, -1.2201e-01,\n",
            "        -7.9018e-02,  3.0992e-01, -1.2283e-01,  2.6732e-01,  4.3037e-02,\n",
            "        -7.7530e-02, -3.1242e-01, -4.8474e-02, -5.4114e-02,  4.6498e-01,\n",
            "         3.7730e-01, -1.6462e-01, -3.4207e-01,  4.9656e-01, -2.6550e-01,\n",
            "         9.4184e-02,  1.2865e-01,  1.3800e-01,  6.8682e-02,  1.0843e-01,\n",
            "         3.9593e-01, -1.0080e-01,  3.5910e-01,  4.7774e-01,  1.4436e-01,\n",
            "         7.3410e-02, -2.0473e-02,  1.9658e-02,  1.0230e-02, -2.5897e-01,\n",
            "        -4.2264e-01, -4.2310e-02,  2.3368e-01,  9.0779e-02,  3.3170e-02,\n",
            "         1.8676e-02, -1.2576e-01,  1.5962e-01, -2.8173e-01, -4.2377e-01,\n",
            "        -6.2272e-02,  2.2722e-02, -9.0613e-04, -2.2394e-01,  5.0120e-01,\n",
            "         2.8383e-02, -1.6005e-01,  4.4006e-02,  3.3137e-01,  2.7822e-01,\n",
            "         5.2303e-01, -1.2551e-01,  3.6700e-01,  1.3439e-01, -3.2926e-02,\n",
            "         2.6523e-01, -2.1844e-01, -1.4904e-01, -3.0956e-01,  5.6917e-01,\n",
            "        -9.0877e-02, -3.5380e-01, -5.0238e-03, -2.5003e-01,  1.9086e-02,\n",
            "         2.7983e-01,  1.4587e-01,  1.2133e-01, -4.5847e-01, -1.2254e-02,\n",
            "         3.1489e-01, -1.8829e-01, -3.3602e-01,  2.3110e-01, -3.6931e-01,\n",
            "         3.4476e-01,  2.7694e-01,  1.6933e-01,  8.5906e-02, -4.0142e-01,\n",
            "        -2.3494e-01,  1.1879e-01,  4.1066e-01, -4.2157e-01,  1.1766e-02,\n",
            "        -3.5986e-02, -2.9087e-01,  4.0485e-02,  3.3350e-02,  1.0097e-01,\n",
            "        -6.5778e-02, -1.9294e-01,  5.2835e-02,  1.4888e-01,  2.1947e-01,\n",
            "        -1.3755e-02,  2.8095e-01,  4.4157e-01,  4.7751e-01, -4.5773e-01,\n",
            "         1.7217e-01, -2.2697e-01, -8.3227e-02,  3.8579e-02,  1.6826e-01,\n",
            "        -2.1151e-01, -7.6371e-02,  3.8029e-01,  1.0037e-01,  1.5207e-01,\n",
            "         1.7047e-01,  1.1457e-01,  1.9289e-01,  6.8978e-02,  4.6285e-02,\n",
            "        -4.0515e-01, -4.5465e-03, -1.3742e-01, -2.2670e-01, -8.6942e-02,\n",
            "        -1.3465e-01, -3.3723e-02,  1.5901e-01,  2.2150e-01, -3.4495e-01,\n",
            "         3.5361e-01, -2.3164e-02,  1.8948e-01, -3.8590e-01,  1.9825e-01,\n",
            "        -2.6622e-01, -1.6167e-01,  1.8647e-01, -3.2161e-01, -1.8046e-02,\n",
            "        -2.4630e-02, -2.1803e-01, -1.8381e-03, -1.0260e-01,  1.4079e-01,\n",
            "        -1.7315e-01,  8.0950e-02,  1.5475e-01,  2.1216e-01, -3.2012e-01,\n",
            "        -1.3185e-01,  2.6219e-01, -7.0029e-02, -8.3173e-02,  2.3922e-01,\n",
            "         1.2877e-01,  2.4538e-01, -1.3536e-01, -3.1044e-02,  9.5752e-02,\n",
            "        -1.2746e-01,  2.0306e-01,  3.5924e-01, -3.9758e-01,  1.1849e-01,\n",
            "        -9.3816e-02,  8.4043e-02,  1.1274e-01,  1.4720e-01,  2.2847e-02,\n",
            "        -1.7833e-01, -4.2520e-01,  1.2920e-02,  8.0487e-02,  2.6405e-01,\n",
            "         1.1141e-01,  1.8189e-01, -4.1865e-01, -6.1867e-03, -3.5408e-01,\n",
            "         2.7340e-01,  2.5847e-01,  2.8898e-01, -3.3597e-02,  6.9658e-02,\n",
            "        -1.3548e-01,  3.7086e-02,  5.3017e-01,  4.6790e-02,  5.1048e-02,\n",
            "         2.4731e-01,  3.0048e-01,  1.2759e-01, -3.2059e-01, -3.2363e-01,\n",
            "        -3.4978e-01, -6.4427e-02, -4.3634e-03, -2.0569e-01, -3.0793e-01,\n",
            "        -8.0593e-02, -1.5114e-01,  3.4702e-01,  8.5631e-02,  6.3201e-02,\n",
            "        -3.6854e-02,  2.9282e-01, -3.0841e-02,  2.2251e-01, -8.5914e-02,\n",
            "         1.1499e-01, -1.3427e-01, -4.5347e-01, -2.4538e-01, -3.3410e-02,\n",
            "        -5.9901e-02,  6.7196e-02, -1.5161e-01,  2.7748e-01, -4.6827e-01,\n",
            "        -3.3759e-01, -4.1269e-01, -5.7090e-02,  2.3011e-01,  5.2508e-01,\n",
            "         4.5435e-01, -1.0216e-01, -3.4120e-02,  2.0720e-01,  4.2495e-02,\n",
            "        -3.1907e-02, -2.6309e-01, -6.2306e-02,  1.7012e-01,  8.9726e-02,\n",
            "        -2.1117e-01, -1.8509e-01, -4.5784e-01,  8.3494e-02, -6.8154e-02,\n",
            "        -1.2590e-01,  3.5693e-01, -1.5651e-01,  2.1896e-01,  2.2649e-01,\n",
            "        -3.6422e-01,  1.0651e-01,  7.4236e-02, -1.1688e-01,  2.1168e-01,\n",
            "         1.8446e-02,  1.9113e-01, -4.1578e-01,  2.4215e-03, -1.1316e-01,\n",
            "         3.3130e-02, -1.4292e-01, -2.2413e-01,  4.1672e-02,  1.0990e-01,\n",
            "         2.1315e-02,  3.2500e-01, -1.7813e-04, -1.4609e-01,  1.6314e-01,\n",
            "         3.2279e-01, -8.2160e-02,  6.7586e-02,  7.4442e-03, -2.4117e-01,\n",
            "        -2.6661e-01, -1.9407e-02,  3.3140e-02,  2.1090e-01, -3.7728e-01,\n",
            "         3.7757e-01, -3.5926e-02, -2.1272e-01,  1.6311e-01, -2.9521e-02,\n",
            "         9.3313e-02, -8.9066e-02, -1.1659e-01, -2.5052e-01, -3.0353e-01,\n",
            "         1.4338e-01, -4.4916e-01,  1.0998e-02, -2.0532e-02,  2.0188e-01,\n",
            "         2.9218e-03, -9.1361e-03, -2.3773e-01, -3.4685e-01, -1.8259e-01,\n",
            "         9.3993e-02, -1.4165e-01,  1.3609e-01, -2.1124e-01, -1.9726e-01,\n",
            "         8.2911e-02, -3.4609e-01, -1.1805e-01,  2.8051e-01, -4.0719e-01,\n",
            "        -3.3223e-01,  1.7858e-01,  3.2659e-01,  2.3486e-01,  4.3500e-01,\n",
            "         1.6865e-01, -4.9513e-02, -1.7665e-01, -2.2890e-01,  9.6134e-03,\n",
            "        -1.1377e-01,  4.3306e-02,  1.5983e-01, -1.7914e-01,  5.5511e-01,\n",
            "         1.0649e-02, -1.9957e-01, -1.6441e-01,  3.6751e-01,  1.3733e-01,\n",
            "        -3.6131e-01, -2.8687e-01,  2.0534e-01,  1.0745e-01, -3.2745e-02,\n",
            "        -1.3781e-01,  1.8816e-01, -1.9422e-01, -5.4007e-01,  2.0246e-01,\n",
            "         1.4065e-01, -1.0261e-01,  1.6458e-01, -3.1065e-02,  1.8380e-01,\n",
            "        -1.4456e-01,  2.6257e-01, -2.0832e-01, -3.1831e-01, -3.3617e-01,\n",
            "        -8.5683e-02, -4.0332e-02,  3.9607e-01, -1.5500e-01,  2.3838e-01,\n",
            "         2.5525e-01,  2.2693e-01, -2.4440e-01, -8.0986e-02, -3.6036e-02,\n",
            "         1.5695e-01, -5.6185e-02,  1.6416e-02,  2.1045e-01, -1.7026e-02,\n",
            "        -2.5604e-01, -1.3943e-01, -1.9734e-01,  1.3527e-01, -2.8927e-01,\n",
            "        -1.5750e-01, -2.1517e-01,  1.7020e-02, -1.1317e-02,  1.6039e-01,\n",
            "         5.0363e-01, -4.5958e-01, -2.9975e-01, -2.0433e-01, -1.6142e-01,\n",
            "         1.5067e-01, -2.1325e-01,  1.4348e-01, -5.6472e-01,  3.3006e-01,\n",
            "        -3.0467e-01, -4.0721e-01,  1.6047e-01,  4.6948e-01, -3.4470e-01,\n",
            "        -3.6532e-01,  3.4206e-01,  1.6779e-01, -1.6626e-01,  1.9302e-01,\n",
            "        -5.8430e-02, -1.5025e-01, -1.0277e-01,  2.8207e-01, -1.0958e-01,\n",
            "        -1.2020e-01,  6.6719e-02,  5.4909e-02,  4.2036e-01, -3.4917e-01,\n",
            "         2.2742e-01,  1.4055e-01, -8.7328e-02,  3.1453e-01, -3.2150e-01,\n",
            "        -8.7153e-02, -5.0247e-01, -1.2243e-01, -1.7651e-01, -3.9666e-01,\n",
            "         3.2451e-01,  2.3078e-01, -1.1493e-01, -7.8878e-02,  1.3929e-01,\n",
            "         3.7071e-02,  1.9534e-01,  2.1600e-01,  1.3360e-01,  3.7699e-01,\n",
            "         1.1689e-01,  3.2871e-01,  2.2684e-01,  3.5271e-02,  2.9790e-01,\n",
            "         6.1346e-02,  3.4313e-01, -3.1739e-01, -2.9167e-01, -2.6479e-01,\n",
            "        -5.4257e-03,  7.0070e-02, -1.4633e-01, -3.7833e-01, -1.0964e-01,\n",
            "        -1.0244e-01, -1.9448e-01, -3.7671e-01, -4.1314e-01, -2.5841e-01,\n",
            "        -3.2312e-01, -2.0395e-01, -1.6129e-01, -1.4952e-01, -1.6148e-01,\n",
            "        -3.8438e-01,  4.3679e-01, -5.3588e-02, -1.0800e-01, -1.7091e-01,\n",
            "        -1.2304e-01,  2.2484e-01, -1.9312e-01,  3.2343e-02,  3.0253e-01,\n",
            "         4.5371e-01, -1.7885e-01,  1.3599e-01,  2.9409e-01,  6.3150e-02,\n",
            "         5.1962e-01, -1.6713e-01, -1.1603e-01, -2.2449e-01,  1.2591e-01,\n",
            "         4.1417e-02,  2.2260e-01, -2.2840e-01,  4.1151e-02,  2.3718e-01],\n",
            "       requires_grad=True), Parameter containing:\n",
            "tensor([[ 0.0165, -0.0128, -0.0315,  ...,  0.0269,  0.0294, -0.0081],\n",
            "        [-0.0400,  0.0216,  0.0277,  ..., -0.0035, -0.0294, -0.0227],\n",
            "        [ 0.0326,  0.0009, -0.0160,  ...,  0.0004,  0.0396,  0.0529],\n",
            "        ...,\n",
            "        [-0.0275,  0.0009,  0.0044,  ...,  0.0219, -0.0274,  0.0705],\n",
            "        [ 0.0451,  0.0258,  0.0071,  ..., -0.0232,  0.0220, -0.0180],\n",
            "        [-0.0198, -0.0357,  0.0098,  ...,  0.0213,  0.0058,  0.0139]],\n",
            "       requires_grad=True), Parameter containing:\n",
            "tensor([ 1.8613e-01,  6.5138e-02,  9.6878e-02,  2.6441e-03, -2.7514e-02,\n",
            "        -1.2949e-01,  4.4286e-02,  2.2272e-01,  1.7448e-01, -3.2339e-02,\n",
            "         3.6417e-02,  7.5256e-02, -2.6625e-02,  9.2268e-02, -7.4213e-02,\n",
            "        -6.0332e-02,  7.6988e-02,  1.6356e-01,  1.8638e-01,  8.8239e-02,\n",
            "         2.3759e-01, -1.7608e-01,  5.0535e-02, -2.3096e-01,  5.9748e-02,\n",
            "         2.7057e-01,  7.9128e-02,  2.3190e-01,  2.5033e-01,  2.3552e-01,\n",
            "         1.6821e-01,  5.8569e-02,  1.3753e-01,  1.6333e-01,  1.7866e-01,\n",
            "        -1.2810e-01,  1.4902e-02,  2.1253e-01,  1.8375e-01, -1.4751e-01,\n",
            "         6.4784e-02,  1.0897e-01,  9.9193e-02,  1.6464e-01,  2.0552e-01,\n",
            "        -1.7782e-02,  5.1764e-02,  1.3330e-01,  1.3726e-01,  2.1389e-01,\n",
            "         3.2931e-02, -9.7862e-02,  4.3243e-02, -8.4777e-03,  1.4217e-01,\n",
            "         1.5802e-01,  5.3992e-02,  4.6296e-02,  9.3746e-02,  1.4926e-01,\n",
            "        -1.9181e-01,  1.9908e-01, -7.8666e-02,  2.4934e-02, -3.9359e-02,\n",
            "         5.6990e-02, -3.4319e-01,  1.3193e-01,  3.0579e-01,  1.0204e-01,\n",
            "         6.3015e-02,  2.0901e-02,  2.1217e-01,  8.4006e-02,  8.6613e-02,\n",
            "         3.8839e-02,  1.1426e-01,  7.2845e-02, -3.4733e-01, -1.6393e-01,\n",
            "         8.6462e-02,  4.9958e-02,  7.3150e-02, -8.9721e-03, -2.7583e-02,\n",
            "         1.4349e-01,  3.0338e-01,  1.5376e-01,  1.5131e-03,  4.5421e-02,\n",
            "        -2.6899e-01,  2.7962e-01, -3.9160e-02,  1.0859e-01,  1.0495e-01,\n",
            "        -6.3056e-03, -9.9988e-02,  2.2898e-01,  8.0500e-02, -1.0409e-01,\n",
            "         2.4065e-01, -3.6426e-02,  2.1687e-01, -1.0819e-01, -8.4467e-02,\n",
            "         6.9781e-02,  1.3634e-01,  1.1266e-01,  2.0874e-01,  1.5419e-01,\n",
            "         1.9270e-01,  1.6573e-01,  1.7047e-01, -8.3998e-02,  2.0484e-01,\n",
            "         9.8558e-02,  4.8381e-02, -1.4639e-01, -2.2076e-01,  1.7464e-01,\n",
            "         1.7752e-02,  1.9266e-01,  7.6624e-02, -3.2345e-02,  2.2416e-01,\n",
            "         1.0377e-01,  8.6889e-02,  1.6437e-01,  7.7717e-02, -6.3270e-02,\n",
            "        -3.7379e-01,  1.1868e-01, -2.5018e-01, -1.2582e-02, -9.7076e-02,\n",
            "        -6.8332e-02, -3.4114e-02,  6.3781e-02, -1.2393e-02, -1.7274e-01,\n",
            "         1.8979e-02,  2.1023e-01,  1.4125e-01,  8.9830e-02, -1.8208e-01,\n",
            "         1.3501e-01,  2.7666e-01,  8.3876e-02, -1.7243e-01,  1.3321e-01,\n",
            "         1.2815e-01, -7.7607e-02,  1.6196e-01,  1.6110e-01,  3.2816e-02,\n",
            "         1.9561e-01, -5.2467e-02,  4.5857e-02,  8.4808e-02,  4.4865e-02,\n",
            "        -4.4787e-02,  1.0214e-02,  4.6312e-02,  8.5743e-02,  2.3364e-01,\n",
            "         7.8165e-02, -7.2700e-02,  2.3649e-01, -2.2548e-01,  1.0143e-02,\n",
            "        -2.0373e-02,  4.3598e-03,  3.9746e-02,  1.5573e-01, -8.3360e-02,\n",
            "        -1.8070e-02,  1.2264e-01, -3.9007e-03,  1.0198e-01,  1.8075e-01,\n",
            "         1.7515e-02,  7.0709e-02,  1.4801e-01,  1.5547e-01,  1.0209e-01,\n",
            "         1.2704e-01,  1.1579e-01,  2.2634e-02,  1.1352e-01,  1.8036e-01,\n",
            "         1.0778e-01, -8.3198e-02,  1.6583e-01,  9.0643e-02, -2.9113e-01,\n",
            "         3.2012e-02,  1.9189e-03,  1.4875e-01,  1.7455e-01,  1.4971e-01,\n",
            "         1.0297e-02,  4.1535e-02, -1.7516e-01,  9.3071e-03,  7.7042e-02,\n",
            "         1.7438e-01,  2.4900e-01,  9.8903e-02, -1.2011e-01,  2.2526e-01,\n",
            "         1.3742e-01,  1.2581e-01, -2.3985e-02,  8.1828e-02, -4.0012e-02,\n",
            "         1.8645e-01, -2.1958e-01,  7.7995e-02,  8.6101e-02, -7.2111e-02,\n",
            "         1.8200e-02,  1.0424e-01, -3.5375e-02, -7.5904e-02, -7.7063e-02,\n",
            "         2.7259e-02,  4.7044e-02,  1.3349e-01,  1.2483e-01,  3.0615e-02,\n",
            "         2.8473e-02, -2.9689e-01,  5.2589e-02,  1.2006e-01,  2.3706e-01,\n",
            "        -1.6405e-01,  1.2181e-01, -1.3776e-01, -1.7747e-01, -1.2685e-03,\n",
            "         3.1421e-01,  1.8956e-01,  1.8080e-02,  7.2911e-02,  2.1697e-01,\n",
            "         3.1036e-01,  1.1859e-01,  9.2061e-02,  1.6187e-01,  7.6563e-02,\n",
            "        -2.1347e-01, -6.1119e-02, -2.0342e-02,  2.1047e-01, -3.7818e-02,\n",
            "         7.4462e-02,  5.6325e-02,  1.3712e-01,  2.4613e-01,  9.7334e-02,\n",
            "         1.2867e-01,  3.1655e-01,  1.3231e-01,  1.8959e-01,  1.8325e-01,\n",
            "        -1.6328e-01,  2.7050e-01, -3.0234e-01, -6.1377e-02,  4.3550e-02,\n",
            "         3.0188e-02, -4.6840e-02,  5.2421e-02,  9.4347e-02,  7.0573e-02,\n",
            "         6.2693e-02, -2.0298e-01,  1.0222e-01, -6.2062e-02, -1.2145e-01,\n",
            "         1.7040e-01,  1.5321e-02,  1.5135e-01,  1.4383e-02, -1.5881e-01,\n",
            "         1.6969e-01, -6.7509e-02,  2.7109e-01,  2.4060e-01,  1.7781e-01,\n",
            "         1.6051e-01,  2.7139e-02,  6.6327e-02,  1.4366e-01,  1.7205e-01,\n",
            "         1.2896e-01, -2.8715e-01,  7.8581e-02,  1.4734e-01,  1.3365e-01,\n",
            "         2.2486e-01,  7.1043e-02,  4.4753e-02, -5.9860e-02,  9.2931e-02,\n",
            "         2.6568e-02, -1.0333e-01,  4.7776e-02,  1.7970e-01,  1.5952e-01,\n",
            "         2.2401e-01, -3.3538e-01,  1.3694e-01,  6.6602e-02, -1.0078e-01,\n",
            "         2.5345e-01,  2.8602e-02,  2.2656e-01,  1.0269e-01, -1.3137e-01,\n",
            "        -4.9229e-02,  8.5044e-02, -1.5059e-01,  2.3876e-01,  1.6100e-01,\n",
            "         2.0288e-01,  2.1521e-01,  1.7739e-01, -1.9242e-01,  5.4285e-02,\n",
            "        -1.1235e-01,  1.9984e-01,  3.6235e-04,  9.3479e-02, -6.5211e-02,\n",
            "        -5.4449e-02,  9.3171e-02,  1.1549e-01, -2.2990e-01,  1.3349e-01,\n",
            "         1.3058e-01, -1.4416e-03,  2.3540e-02,  2.0286e-01, -1.2588e-01,\n",
            "         1.5180e-01,  9.0877e-02, -8.6064e-02, -1.8525e-02,  1.7917e-01,\n",
            "         1.7884e-01,  2.8132e-02,  1.1154e-01,  1.4224e-01,  2.6098e-02,\n",
            "         2.3524e-01,  1.7264e-02, -5.3731e-02,  1.9351e-01,  1.1934e-01,\n",
            "        -2.5493e-01, -2.1664e-01,  2.7405e-01,  1.8689e-01, -6.6453e-02,\n",
            "         1.6117e-01, -2.0292e-01, -2.5753e-01,  7.3737e-02,  1.1023e-01,\n",
            "        -2.5888e-01,  2.2465e-02, -3.2758e-02,  1.4690e-01,  3.3338e-02,\n",
            "        -1.7516e-02,  2.1445e-01, -2.1070e-01, -1.6459e-01,  2.2752e-02,\n",
            "         9.8110e-02,  1.6819e-02,  5.1538e-02,  9.5585e-02, -8.3692e-02,\n",
            "         1.3847e-01,  1.1864e-01, -2.8258e-02,  1.0001e-01,  1.6798e-01,\n",
            "         2.1205e-01,  4.5640e-02,  1.9375e-01,  5.7460e-02,  5.8559e-02,\n",
            "         8.5409e-02,  1.4229e-01,  2.1034e-03, -1.8960e-01,  1.4766e-01,\n",
            "         5.1821e-03, -2.5784e-01,  1.1183e-02,  2.1042e-01,  7.4748e-02,\n",
            "        -3.4103e-01, -1.0890e-01,  6.5639e-03,  1.6899e-01, -9.1850e-03,\n",
            "         9.3574e-02,  1.6826e-01,  2.3826e-01, -2.7632e-01,  1.3575e-01,\n",
            "        -1.1244e-03, -4.4286e-02,  2.3831e-02,  6.7990e-02, -1.5583e-02,\n",
            "         5.8217e-02, -7.1436e-02,  3.5820e-02, -9.7504e-02,  1.1331e-01,\n",
            "        -2.6950e-01,  1.6016e-01,  2.3979e-01,  1.6438e-01, -1.3421e-01,\n",
            "         1.0315e-01,  9.4746e-02,  1.0771e-01,  1.4334e-01,  1.0905e-01,\n",
            "        -3.2446e-01,  2.4243e-01,  1.3714e-01,  2.9833e-01,  8.0382e-02,\n",
            "        -1.1281e-01,  6.1971e-02, -1.5753e-02,  1.7180e-01,  2.1575e-01,\n",
            "         1.0823e-01, -7.0072e-02,  7.6016e-02,  2.2093e-01,  1.9055e-01,\n",
            "        -5.4779e-02,  1.8481e-01, -1.7390e-01,  9.3539e-02,  9.8405e-02,\n",
            "         1.7841e-01, -2.3503e-02,  1.2225e-01], requires_grad=True), Parameter containing:\n",
            "tensor([[-0.0380, -0.0151,  0.0193,  ..., -0.0047, -0.0400,  0.0444],\n",
            "        [-0.0136, -0.0304, -0.0110,  ...,  0.0014,  0.0003,  0.0422],\n",
            "        [-0.0422,  0.0360,  0.0330,  ...,  0.0057,  0.0160,  0.0675],\n",
            "        ...,\n",
            "        [-0.0164, -0.0516,  0.0003,  ..., -0.0045, -0.0051,  0.0147],\n",
            "        [-0.0025, -0.0026, -0.0141,  ...,  0.0406,  0.0217, -0.0124],\n",
            "        [ 0.0039, -0.0144,  0.0246,  ..., -0.0379,  0.0554,  0.0081]],\n",
            "       requires_grad=True), Parameter containing:\n",
            "tensor([ 0.1650,  0.1871,  0.1026, -0.1582, -0.1055,  0.0424, -0.1165,  0.1208,\n",
            "         0.1888,  0.1080,  0.1541,  0.1317,  0.0638,  0.2085,  0.1565, -0.2368,\n",
            "         0.0817,  0.0379,  0.2484,  0.0929, -0.1012,  0.1416,  0.2623, -0.2218,\n",
            "        -0.1520, -0.1453,  0.1137,  0.1309,  0.2214,  0.2463,  0.1311,  0.2730,\n",
            "        -0.1798,  0.1100,  0.0764,  0.0539,  0.2594,  0.0593,  0.0763,  0.2177,\n",
            "        -0.2036,  0.2786,  0.0455,  0.1431,  0.2273,  0.1313, -0.1845,  0.1632,\n",
            "        -0.2192,  0.0975, -0.1945,  0.2846, -0.1738, -0.0266,  0.2290,  0.1976,\n",
            "        -0.0957,  0.0739,  0.0234,  0.0945,  0.2594,  0.1404,  0.0613,  0.0119,\n",
            "         0.2936,  0.1618,  0.2433,  0.1014,  0.1391,  0.2100,  0.2309, -0.1698,\n",
            "         0.2916,  0.0866, -0.1935,  0.1638,  0.2849,  0.3179, -0.0972,  0.1214,\n",
            "         0.1681,  0.0959,  0.0820,  0.0722,  0.0693,  0.2292,  0.1621,  0.0364,\n",
            "         0.0720,  0.2970,  0.0532,  0.1467,  0.1377, -0.2233,  0.1199,  0.3258,\n",
            "         0.0965, -0.0874,  0.1222,  0.0397,  0.0301,  0.0202,  0.1990,  0.1022,\n",
            "         0.2709,  0.0103,  0.0762,  0.1224,  0.1209,  0.1828, -0.0566,  0.1501,\n",
            "         0.3191,  0.1848,  0.1696], requires_grad=True), Parameter containing:\n",
            "tensor([[ 1.0908e-02, -4.7433e-02, -4.6738e-02, -1.7819e-02, -2.1623e-03,\n",
            "          9.3160e-02, -2.2240e-02, -4.7020e-02,  6.8234e-03,  8.7890e-02,\n",
            "          5.5224e-02,  8.2860e-02, -2.8651e-02,  4.6330e-02, -1.1396e-02,\n",
            "         -2.3135e-02,  5.3612e-02, -3.9887e-02,  4.8817e-03, -2.8461e-02,\n",
            "         -1.2420e-02,  6.7224e-02,  6.5213e-03, -5.8602e-02, -2.8207e-02,\n",
            "         -4.3938e-02,  2.4058e-02,  3.8812e-02,  1.2040e-02,  6.9816e-03,\n",
            "         -5.4596e-02,  3.8944e-02, -5.8424e-02,  3.5878e-02,  8.6487e-02,\n",
            "          2.1182e-02,  3.1427e-02, -5.6424e-02, -1.1205e-02,  7.4521e-03,\n",
            "         -4.9326e-02,  3.3193e-02, -8.9150e-03,  1.0736e-01,  4.4795e-02,\n",
            "         -2.3797e-02, -3.8246e-02, -6.2445e-02, -6.2106e-02,  9.1172e-02,\n",
            "         -2.7819e-02,  2.2813e-02, -2.6056e-02, -5.0296e-02,  4.0616e-02,\n",
            "          1.9544e-03, -5.7516e-02,  9.3943e-02,  4.1869e-03,  8.6872e-02,\n",
            "          1.0183e-03,  1.1450e-01, -5.4717e-02, -5.9593e-02, -9.4581e-04,\n",
            "          8.0107e-02,  1.8033e-02, -4.9996e-02, -2.6700e-02,  4.6509e-02,\n",
            "          5.7606e-02, -5.6472e-02,  3.8204e-02,  9.1521e-02, -4.0561e-02,\n",
            "          6.2816e-02,  3.4004e-03,  1.8003e-02,  1.3138e-03,  7.2241e-02,\n",
            "          8.7878e-02, -4.1766e-02, -1.5206e-03,  6.7987e-02,  5.1657e-02,\n",
            "          8.7303e-02, -4.3156e-02, -2.5524e-02, -1.5024e-02,  3.1126e-02,\n",
            "          4.4082e-05,  4.9483e-02,  7.6376e-02, -7.0182e-02, -4.8469e-02,\n",
            "          9.5152e-03, -6.8901e-04, -6.3191e-02,  9.1301e-02, -3.4441e-02,\n",
            "          7.5622e-02, -4.4443e-02,  3.9826e-02, -1.1990e-02,  8.3732e-03,\n",
            "         -8.7154e-03, -3.5854e-02,  6.7832e-03,  5.2373e-02,  1.3673e-02,\n",
            "         -1.0918e-03, -7.1312e-02,  1.2947e-02, -7.7612e-04, -5.0621e-03]],\n",
            "       requires_grad=True), Parameter containing:\n",
            "tensor([0.3004], requires_grad=True)]\n"
          ]
        }
      ],
      "source": [
        "#%%script echo skipping\n",
        "\n",
        "print(list(net.parameters()))"
      ]
    },
    {
      "cell_type": "code",
      "execution_count": null,
      "metadata": {
        "colab": {
          "base_uri": "https://localhost:8080/"
        },
        "id": "1NZ8iVA7UZio",
        "outputId": "6341def7-b7e7-44eb-c91f-edbe1d22ca1d"
      },
      "outputs": [
        {
          "name": "stdout",
          "output_type": "stream",
          "text": [
            "[Parameter containing:\n",
            "tensor([[-0.0877,  0.0544,  0.0706,  ...,  0.0281,  0.0910,  0.0639],\n",
            "        [-0.2237,  0.2312, -0.0815,  ...,  0.0316,  0.1133,  0.2938],\n",
            "        [ 0.4092,  0.0123, -0.1909,  ...,  0.1701,  0.0923,  0.5303],\n",
            "        ...,\n",
            "        [ 0.0791,  0.2196, -0.0660,  ...,  0.1746, -0.2019, -0.0498],\n",
            "        [-0.0114,  0.0205, -0.2023,  ..., -0.1764,  0.0276, -0.1073],\n",
            "        [ 0.1830,  0.1175,  0.0901,  ...,  0.3002,  0.3285,  0.1964]],\n",
            "       requires_grad=True), Parameter containing:\n",
            "tensor([-2.2832e-01,  5.1003e-02,  4.7840e-02,  5.7017e-02,  6.6249e-02,\n",
            "        -3.7406e-01,  7.2150e-03, -4.1425e-01, -9.7748e-02, -4.4647e-01,\n",
            "        -1.1737e-02,  5.1845e-01,  2.4613e-01,  1.2681e-01, -6.6129e-02,\n",
            "        -7.1715e-02,  2.5884e-01, -2.3750e-01,  3.4896e-01,  7.3263e-04,\n",
            "        -1.3956e-01,  3.5456e-01, -7.3743e-02, -4.1134e-01, -1.0702e-01,\n",
            "        -1.4125e-01, -1.2811e-01,  3.8215e-01,  8.8693e-02,  6.7092e-02,\n",
            "         2.8465e-01, -6.1813e-03, -5.2848e-03, -9.6717e-03,  3.7236e-01,\n",
            "        -5.0534e-01,  4.3277e-03,  1.5531e-01, -1.6110e-01, -1.6693e-01,\n",
            "         1.6808e-01, -6.7653e-02,  1.6051e-01,  1.0435e-02,  1.8878e-01,\n",
            "        -3.6160e-01,  1.5555e-01,  1.3916e-01, -2.6147e-01, -3.8848e-01,\n",
            "        -3.9531e-01,  3.2312e-01,  1.5919e-01, -2.2777e-01,  1.1614e-01,\n",
            "         1.2477e-01,  4.5661e-01, -5.1635e-02, -1.2464e-01, -5.1550e-02,\n",
            "         1.1669e-01,  3.1403e-02,  3.3350e-01, -1.9863e-01,  2.4360e-01,\n",
            "        -4.9425e-01, -3.9769e-01, -3.5378e-02,  2.6284e-01, -2.7368e-02,\n",
            "         2.2852e-01,  1.3129e-01,  5.4011e-02,  1.5590e-01,  3.3769e-01,\n",
            "        -3.8580e-01,  1.4485e-01, -2.0147e-01,  2.8757e-01,  2.4312e-01,\n",
            "        -1.7414e-01,  1.4247e-01, -1.9451e-01,  2.2162e-01,  7.9929e-02,\n",
            "         3.3906e-01, -8.1396e-02,  1.9345e-01, -5.1681e-01, -1.2201e-01,\n",
            "        -7.9018e-02,  3.0992e-01, -1.2283e-01,  2.6732e-01,  4.3037e-02,\n",
            "        -7.7530e-02, -3.1242e-01, -4.8474e-02, -5.4114e-02,  4.6498e-01,\n",
            "         3.7730e-01, -1.6462e-01, -3.4207e-01,  4.9656e-01, -2.6550e-01,\n",
            "         9.4184e-02,  1.2865e-01,  1.3800e-01,  6.8682e-02,  1.0843e-01,\n",
            "         3.9593e-01, -1.0080e-01,  3.5910e-01,  4.7774e-01,  1.4436e-01,\n",
            "         7.3410e-02, -2.0473e-02,  1.9658e-02,  1.0230e-02, -2.5897e-01,\n",
            "        -4.2264e-01, -4.2310e-02,  2.3368e-01,  9.0779e-02,  3.3170e-02,\n",
            "         1.8676e-02, -1.2576e-01,  1.5962e-01, -2.8173e-01, -4.2377e-01,\n",
            "        -6.2272e-02,  2.2722e-02, -9.0613e-04, -2.2394e-01,  5.0120e-01,\n",
            "         2.8383e-02, -1.6005e-01,  4.4006e-02,  3.3137e-01,  2.7822e-01,\n",
            "         5.2303e-01, -1.2551e-01,  3.6700e-01,  1.3439e-01, -3.2926e-02,\n",
            "         2.6523e-01, -2.1844e-01, -1.4904e-01, -3.0956e-01,  5.6917e-01,\n",
            "        -9.0877e-02, -3.5380e-01, -5.0238e-03, -2.5003e-01,  1.9086e-02,\n",
            "         2.7983e-01,  1.4587e-01,  1.2133e-01, -4.5847e-01, -1.2254e-02,\n",
            "         3.1489e-01, -1.8829e-01, -3.3602e-01,  2.3110e-01, -3.6931e-01,\n",
            "         3.4476e-01,  2.7694e-01,  1.6933e-01,  8.5906e-02, -4.0142e-01,\n",
            "        -2.3494e-01,  1.1879e-01,  4.1066e-01, -4.2157e-01,  1.1766e-02,\n",
            "        -3.5986e-02, -2.9087e-01,  4.0485e-02,  3.3350e-02,  1.0097e-01,\n",
            "        -6.5778e-02, -1.9294e-01,  5.2835e-02,  1.4888e-01,  2.1947e-01,\n",
            "        -1.3755e-02,  2.8095e-01,  4.4157e-01,  4.7751e-01, -4.5773e-01,\n",
            "         1.7217e-01, -2.2697e-01, -8.3227e-02,  3.8579e-02,  1.6826e-01,\n",
            "        -2.1151e-01, -7.6371e-02,  3.8029e-01,  1.0037e-01,  1.5207e-01,\n",
            "         1.7047e-01,  1.1457e-01,  1.9289e-01,  6.8978e-02,  4.6285e-02,\n",
            "        -4.0515e-01, -4.5465e-03, -1.3742e-01, -2.2670e-01, -8.6942e-02,\n",
            "        -1.3465e-01, -3.3723e-02,  1.5901e-01,  2.2150e-01, -3.4495e-01,\n",
            "         3.5361e-01, -2.3164e-02,  1.8948e-01, -3.8590e-01,  1.9825e-01,\n",
            "        -2.6622e-01, -1.6167e-01,  1.8647e-01, -3.2161e-01, -1.8046e-02,\n",
            "        -2.4630e-02, -2.1803e-01, -1.8381e-03, -1.0260e-01,  1.4079e-01,\n",
            "        -1.7315e-01,  8.0950e-02,  1.5475e-01,  2.1216e-01, -3.2012e-01,\n",
            "        -1.3185e-01,  2.6219e-01, -7.0029e-02, -8.3173e-02,  2.3922e-01,\n",
            "         1.2877e-01,  2.4538e-01, -1.3536e-01, -3.1044e-02,  9.5752e-02,\n",
            "        -1.2746e-01,  2.0306e-01,  3.5924e-01, -3.9758e-01,  1.1849e-01,\n",
            "        -9.3816e-02,  8.4043e-02,  1.1274e-01,  1.4720e-01,  2.2847e-02,\n",
            "        -1.7833e-01, -4.2520e-01,  1.2920e-02,  8.0487e-02,  2.6405e-01,\n",
            "         1.1141e-01,  1.8189e-01, -4.1865e-01, -6.1867e-03, -3.5408e-01,\n",
            "         2.7340e-01,  2.5847e-01,  2.8898e-01, -3.3597e-02,  6.9658e-02,\n",
            "        -1.3548e-01,  3.7086e-02,  5.3017e-01,  4.6790e-02,  5.1048e-02,\n",
            "         2.4731e-01,  3.0048e-01,  1.2759e-01, -3.2059e-01, -3.2363e-01,\n",
            "        -3.4978e-01, -6.4427e-02, -4.3634e-03, -2.0569e-01, -3.0793e-01,\n",
            "        -8.0593e-02, -1.5114e-01,  3.4702e-01,  8.5631e-02,  6.3201e-02,\n",
            "        -3.6854e-02,  2.9282e-01, -3.0841e-02,  2.2251e-01, -8.5914e-02,\n",
            "         1.1499e-01, -1.3427e-01, -4.5347e-01, -2.4538e-01, -3.3410e-02,\n",
            "        -5.9901e-02,  6.7196e-02, -1.5161e-01,  2.7748e-01, -4.6827e-01,\n",
            "        -3.3759e-01, -4.1269e-01, -5.7090e-02,  2.3011e-01,  5.2508e-01,\n",
            "         4.5435e-01, -1.0216e-01, -3.4120e-02,  2.0720e-01,  4.2495e-02,\n",
            "        -3.1907e-02, -2.6309e-01, -6.2306e-02,  1.7012e-01,  8.9726e-02,\n",
            "        -2.1117e-01, -1.8509e-01, -4.5784e-01,  8.3494e-02, -6.8154e-02,\n",
            "        -1.2590e-01,  3.5693e-01, -1.5651e-01,  2.1896e-01,  2.2649e-01,\n",
            "        -3.6422e-01,  1.0651e-01,  7.4236e-02, -1.1688e-01,  2.1168e-01,\n",
            "         1.8446e-02,  1.9113e-01, -4.1578e-01,  2.4215e-03, -1.1316e-01,\n",
            "         3.3130e-02, -1.4292e-01, -2.2413e-01,  4.1672e-02,  1.0990e-01,\n",
            "         2.1315e-02,  3.2500e-01, -1.7813e-04, -1.4609e-01,  1.6314e-01,\n",
            "         3.2279e-01, -8.2160e-02,  6.7586e-02,  7.4442e-03, -2.4117e-01,\n",
            "        -2.6661e-01, -1.9407e-02,  3.3140e-02,  2.1090e-01, -3.7728e-01,\n",
            "         3.7757e-01, -3.5926e-02, -2.1272e-01,  1.6311e-01, -2.9521e-02,\n",
            "         9.3313e-02, -8.9066e-02, -1.1659e-01, -2.5052e-01, -3.0353e-01,\n",
            "         1.4338e-01, -4.4916e-01,  1.0998e-02, -2.0532e-02,  2.0188e-01,\n",
            "         2.9218e-03, -9.1361e-03, -2.3773e-01, -3.4685e-01, -1.8259e-01,\n",
            "         9.3993e-02, -1.4165e-01,  1.3609e-01, -2.1124e-01, -1.9726e-01,\n",
            "         8.2911e-02, -3.4609e-01, -1.1805e-01,  2.8051e-01, -4.0719e-01,\n",
            "        -3.3223e-01,  1.7858e-01,  3.2659e-01,  2.3486e-01,  4.3500e-01,\n",
            "         1.6865e-01, -4.9513e-02, -1.7665e-01, -2.2890e-01,  9.6134e-03,\n",
            "        -1.1377e-01,  4.3306e-02,  1.5983e-01, -1.7914e-01,  5.5511e-01,\n",
            "         1.0649e-02, -1.9957e-01, -1.6441e-01,  3.6751e-01,  1.3733e-01,\n",
            "        -3.6131e-01, -2.8687e-01,  2.0534e-01,  1.0745e-01, -3.2745e-02,\n",
            "        -1.3781e-01,  1.8816e-01, -1.9422e-01, -5.4007e-01,  2.0246e-01,\n",
            "         1.4065e-01, -1.0261e-01,  1.6458e-01, -3.1065e-02,  1.8380e-01,\n",
            "        -1.4456e-01,  2.6257e-01, -2.0832e-01, -3.1831e-01, -3.3617e-01,\n",
            "        -8.5683e-02, -4.0332e-02,  3.9607e-01, -1.5500e-01,  2.3838e-01,\n",
            "         2.5525e-01,  2.2693e-01, -2.4440e-01, -8.0986e-02, -3.6036e-02,\n",
            "         1.5695e-01, -5.6185e-02,  1.6416e-02,  2.1045e-01, -1.7026e-02,\n",
            "        -2.5604e-01, -1.3943e-01, -1.9734e-01,  1.3527e-01, -2.8927e-01,\n",
            "        -1.5750e-01, -2.1517e-01,  1.7020e-02, -1.1317e-02,  1.6039e-01,\n",
            "         5.0363e-01, -4.5958e-01, -2.9975e-01, -2.0433e-01, -1.6142e-01,\n",
            "         1.5067e-01, -2.1325e-01,  1.4348e-01, -5.6472e-01,  3.3006e-01,\n",
            "        -3.0467e-01, -4.0721e-01,  1.6047e-01,  4.6948e-01, -3.4470e-01,\n",
            "        -3.6532e-01,  3.4206e-01,  1.6779e-01, -1.6626e-01,  1.9302e-01,\n",
            "        -5.8430e-02, -1.5025e-01, -1.0277e-01,  2.8207e-01, -1.0958e-01,\n",
            "        -1.2020e-01,  6.6719e-02,  5.4909e-02,  4.2036e-01, -3.4917e-01,\n",
            "         2.2742e-01,  1.4055e-01, -8.7328e-02,  3.1453e-01, -3.2150e-01,\n",
            "        -8.7153e-02, -5.0247e-01, -1.2243e-01, -1.7651e-01, -3.9666e-01,\n",
            "         3.2451e-01,  2.3078e-01, -1.1493e-01, -7.8878e-02,  1.3929e-01,\n",
            "         3.7071e-02,  1.9534e-01,  2.1600e-01,  1.3360e-01,  3.7699e-01,\n",
            "         1.1689e-01,  3.2871e-01,  2.2684e-01,  3.5271e-02,  2.9790e-01,\n",
            "         6.1346e-02,  3.4313e-01, -3.1739e-01, -2.9167e-01, -2.6479e-01,\n",
            "        -5.4257e-03,  7.0070e-02, -1.4633e-01, -3.7833e-01, -1.0964e-01,\n",
            "        -1.0244e-01, -1.9448e-01, -3.7671e-01, -4.1314e-01, -2.5841e-01,\n",
            "        -3.2312e-01, -2.0395e-01, -1.6129e-01, -1.4952e-01, -1.6148e-01,\n",
            "        -3.8438e-01,  4.3679e-01, -5.3588e-02, -1.0800e-01, -1.7091e-01,\n",
            "        -1.2304e-01,  2.2484e-01, -1.9312e-01,  3.2343e-02,  3.0253e-01,\n",
            "         4.5371e-01, -1.7885e-01,  1.3599e-01,  2.9409e-01,  6.3150e-02,\n",
            "         5.1962e-01, -1.6713e-01, -1.1603e-01, -2.2449e-01,  1.2591e-01,\n",
            "         4.1417e-02,  2.2260e-01, -2.2840e-01,  4.1151e-02,  2.3718e-01],\n",
            "       requires_grad=True), Parameter containing:\n",
            "tensor([[ 0.0165, -0.0128, -0.0315,  ...,  0.0269,  0.0294, -0.0081],\n",
            "        [-0.0400,  0.0216,  0.0277,  ..., -0.0035, -0.0294, -0.0227],\n",
            "        [ 0.0326,  0.0009, -0.0160,  ...,  0.0004,  0.0396,  0.0529],\n",
            "        ...,\n",
            "        [-0.0275,  0.0009,  0.0044,  ...,  0.0219, -0.0274,  0.0705],\n",
            "        [ 0.0451,  0.0258,  0.0071,  ..., -0.0232,  0.0220, -0.0180],\n",
            "        [-0.0198, -0.0357,  0.0098,  ...,  0.0213,  0.0058,  0.0139]],\n",
            "       requires_grad=True), Parameter containing:\n",
            "tensor([ 1.8613e-01,  6.5138e-02,  9.6878e-02,  2.6441e-03, -2.7514e-02,\n",
            "        -1.2949e-01,  4.4286e-02,  2.2272e-01,  1.7448e-01, -3.2339e-02,\n",
            "         3.6417e-02,  7.5256e-02, -2.6625e-02,  9.2268e-02, -7.4213e-02,\n",
            "        -6.0332e-02,  7.6988e-02,  1.6356e-01,  1.8638e-01,  8.8239e-02,\n",
            "         2.3759e-01, -1.7608e-01,  5.0535e-02, -2.3096e-01,  5.9748e-02,\n",
            "         2.7057e-01,  7.9128e-02,  2.3190e-01,  2.5033e-01,  2.3552e-01,\n",
            "         1.6821e-01,  5.8569e-02,  1.3753e-01,  1.6333e-01,  1.7866e-01,\n",
            "        -1.2810e-01,  1.4902e-02,  2.1253e-01,  1.8375e-01, -1.4751e-01,\n",
            "         6.4784e-02,  1.0897e-01,  9.9193e-02,  1.6464e-01,  2.0552e-01,\n",
            "        -1.7782e-02,  5.1764e-02,  1.3330e-01,  1.3726e-01,  2.1389e-01,\n",
            "         3.2931e-02, -9.7862e-02,  4.3243e-02, -8.4777e-03,  1.4217e-01,\n",
            "         1.5802e-01,  5.3992e-02,  4.6296e-02,  9.3746e-02,  1.4926e-01,\n",
            "        -1.9181e-01,  1.9908e-01, -7.8666e-02,  2.4934e-02, -3.9359e-02,\n",
            "         5.6990e-02, -3.4319e-01,  1.3193e-01,  3.0579e-01,  1.0204e-01,\n",
            "         6.3015e-02,  2.0901e-02,  2.1217e-01,  8.4006e-02,  8.6613e-02,\n",
            "         3.8839e-02,  1.1426e-01,  7.2845e-02, -3.4733e-01, -1.6393e-01,\n",
            "         8.6462e-02,  4.9958e-02,  7.3150e-02, -8.9721e-03, -2.7583e-02,\n",
            "         1.4349e-01,  3.0338e-01,  1.5376e-01,  1.5131e-03,  4.5421e-02,\n",
            "        -2.6899e-01,  2.7962e-01, -3.9160e-02,  1.0859e-01,  1.0495e-01,\n",
            "        -6.3056e-03, -9.9988e-02,  2.2898e-01,  8.0500e-02, -1.0409e-01,\n",
            "         2.4065e-01, -3.6426e-02,  2.1687e-01, -1.0819e-01, -8.4467e-02,\n",
            "         6.9781e-02,  1.3634e-01,  1.1266e-01,  2.0874e-01,  1.5419e-01,\n",
            "         1.9270e-01,  1.6573e-01,  1.7047e-01, -8.3998e-02,  2.0484e-01,\n",
            "         9.8558e-02,  4.8381e-02, -1.4639e-01, -2.2076e-01,  1.7464e-01,\n",
            "         1.7752e-02,  1.9266e-01,  7.6624e-02, -3.2345e-02,  2.2416e-01,\n",
            "         1.0377e-01,  8.6889e-02,  1.6437e-01,  7.7717e-02, -6.3270e-02,\n",
            "        -3.7379e-01,  1.1868e-01, -2.5018e-01, -1.2582e-02, -9.7076e-02,\n",
            "        -6.8332e-02, -3.4114e-02,  6.3781e-02, -1.2393e-02, -1.7274e-01,\n",
            "         1.8979e-02,  2.1023e-01,  1.4125e-01,  8.9830e-02, -1.8208e-01,\n",
            "         1.3501e-01,  2.7666e-01,  8.3876e-02, -1.7243e-01,  1.3321e-01,\n",
            "         1.2815e-01, -7.7607e-02,  1.6196e-01,  1.6110e-01,  3.2816e-02,\n",
            "         1.9561e-01, -5.2467e-02,  4.5857e-02,  8.4808e-02,  4.4865e-02,\n",
            "        -4.4787e-02,  1.0214e-02,  4.6312e-02,  8.5743e-02,  2.3364e-01,\n",
            "         7.8165e-02, -7.2700e-02,  2.3649e-01, -2.2548e-01,  1.0143e-02,\n",
            "        -2.0373e-02,  4.3598e-03,  3.9746e-02,  1.5573e-01, -8.3360e-02,\n",
            "        -1.8070e-02,  1.2264e-01, -3.9007e-03,  1.0198e-01,  1.8075e-01,\n",
            "         1.7515e-02,  7.0709e-02,  1.4801e-01,  1.5547e-01,  1.0209e-01,\n",
            "         1.2704e-01,  1.1579e-01,  2.2634e-02,  1.1352e-01,  1.8036e-01,\n",
            "         1.0778e-01, -8.3198e-02,  1.6583e-01,  9.0643e-02, -2.9113e-01,\n",
            "         3.2012e-02,  1.9189e-03,  1.4875e-01,  1.7455e-01,  1.4971e-01,\n",
            "         1.0297e-02,  4.1535e-02, -1.7516e-01,  9.3071e-03,  7.7042e-02,\n",
            "         1.7438e-01,  2.4900e-01,  9.8903e-02, -1.2011e-01,  2.2526e-01,\n",
            "         1.3742e-01,  1.2581e-01, -2.3985e-02,  8.1828e-02, -4.0012e-02,\n",
            "         1.8645e-01, -2.1958e-01,  7.7995e-02,  8.6101e-02, -7.2111e-02,\n",
            "         1.8200e-02,  1.0424e-01, -3.5375e-02, -7.5904e-02, -7.7063e-02,\n",
            "         2.7259e-02,  4.7044e-02,  1.3349e-01,  1.2483e-01,  3.0615e-02,\n",
            "         2.8473e-02, -2.9689e-01,  5.2589e-02,  1.2006e-01,  2.3706e-01,\n",
            "        -1.6405e-01,  1.2181e-01, -1.3776e-01, -1.7747e-01, -1.2685e-03,\n",
            "         3.1421e-01,  1.8956e-01,  1.8080e-02,  7.2911e-02,  2.1697e-01,\n",
            "         3.1036e-01,  1.1859e-01,  9.2061e-02,  1.6187e-01,  7.6563e-02,\n",
            "        -2.1347e-01, -6.1119e-02, -2.0342e-02,  2.1047e-01, -3.7818e-02,\n",
            "         7.4462e-02,  5.6325e-02,  1.3712e-01,  2.4613e-01,  9.7334e-02,\n",
            "         1.2867e-01,  3.1655e-01,  1.3231e-01,  1.8959e-01,  1.8325e-01,\n",
            "        -1.6328e-01,  2.7050e-01, -3.0234e-01, -6.1377e-02,  4.3550e-02,\n",
            "         3.0188e-02, -4.6840e-02,  5.2421e-02,  9.4347e-02,  7.0573e-02,\n",
            "         6.2693e-02, -2.0298e-01,  1.0222e-01, -6.2062e-02, -1.2145e-01,\n",
            "         1.7040e-01,  1.5321e-02,  1.5135e-01,  1.4383e-02, -1.5881e-01,\n",
            "         1.6969e-01, -6.7509e-02,  2.7109e-01,  2.4060e-01,  1.7781e-01,\n",
            "         1.6051e-01,  2.7139e-02,  6.6327e-02,  1.4366e-01,  1.7205e-01,\n",
            "         1.2896e-01, -2.8715e-01,  7.8581e-02,  1.4734e-01,  1.3365e-01,\n",
            "         2.2486e-01,  7.1043e-02,  4.4753e-02, -5.9860e-02,  9.2931e-02,\n",
            "         2.6568e-02, -1.0333e-01,  4.7776e-02,  1.7970e-01,  1.5952e-01,\n",
            "         2.2401e-01, -3.3538e-01,  1.3694e-01,  6.6602e-02, -1.0078e-01,\n",
            "         2.5345e-01,  2.8602e-02,  2.2656e-01,  1.0269e-01, -1.3137e-01,\n",
            "        -4.9229e-02,  8.5044e-02, -1.5059e-01,  2.3876e-01,  1.6100e-01,\n",
            "         2.0288e-01,  2.1521e-01,  1.7739e-01, -1.9242e-01,  5.4285e-02,\n",
            "        -1.1235e-01,  1.9984e-01,  3.6235e-04,  9.3479e-02, -6.5211e-02,\n",
            "        -5.4449e-02,  9.3171e-02,  1.1549e-01, -2.2990e-01,  1.3349e-01,\n",
            "         1.3058e-01, -1.4416e-03,  2.3540e-02,  2.0286e-01, -1.2588e-01,\n",
            "         1.5180e-01,  9.0877e-02, -8.6064e-02, -1.8525e-02,  1.7917e-01,\n",
            "         1.7884e-01,  2.8132e-02,  1.1154e-01,  1.4224e-01,  2.6098e-02,\n",
            "         2.3524e-01,  1.7264e-02, -5.3731e-02,  1.9351e-01,  1.1934e-01,\n",
            "        -2.5493e-01, -2.1664e-01,  2.7405e-01,  1.8689e-01, -6.6453e-02,\n",
            "         1.6117e-01, -2.0292e-01, -2.5753e-01,  7.3737e-02,  1.1023e-01,\n",
            "        -2.5888e-01,  2.2465e-02, -3.2758e-02,  1.4690e-01,  3.3338e-02,\n",
            "        -1.7516e-02,  2.1445e-01, -2.1070e-01, -1.6459e-01,  2.2752e-02,\n",
            "         9.8110e-02,  1.6819e-02,  5.1538e-02,  9.5585e-02, -8.3692e-02,\n",
            "         1.3847e-01,  1.1864e-01, -2.8258e-02,  1.0001e-01,  1.6798e-01,\n",
            "         2.1205e-01,  4.5640e-02,  1.9375e-01,  5.7460e-02,  5.8559e-02,\n",
            "         8.5409e-02,  1.4229e-01,  2.1034e-03, -1.8960e-01,  1.4766e-01,\n",
            "         5.1821e-03, -2.5784e-01,  1.1183e-02,  2.1042e-01,  7.4748e-02,\n",
            "        -3.4103e-01, -1.0890e-01,  6.5639e-03,  1.6899e-01, -9.1850e-03,\n",
            "         9.3574e-02,  1.6826e-01,  2.3826e-01, -2.7632e-01,  1.3575e-01,\n",
            "        -1.1244e-03, -4.4286e-02,  2.3831e-02,  6.7990e-02, -1.5583e-02,\n",
            "         5.8217e-02, -7.1436e-02,  3.5820e-02, -9.7504e-02,  1.1331e-01,\n",
            "        -2.6950e-01,  1.6016e-01,  2.3979e-01,  1.6438e-01, -1.3421e-01,\n",
            "         1.0315e-01,  9.4746e-02,  1.0771e-01,  1.4334e-01,  1.0905e-01,\n",
            "        -3.2446e-01,  2.4243e-01,  1.3714e-01,  2.9833e-01,  8.0382e-02,\n",
            "        -1.1281e-01,  6.1971e-02, -1.5753e-02,  1.7180e-01,  2.1575e-01,\n",
            "         1.0823e-01, -7.0072e-02,  7.6016e-02,  2.2093e-01,  1.9055e-01,\n",
            "        -5.4779e-02,  1.8481e-01, -1.7390e-01,  9.3539e-02,  9.8405e-02,\n",
            "         1.7841e-01, -2.3503e-02,  1.2225e-01], requires_grad=True), Parameter containing:\n",
            "tensor([[-0.0380, -0.0151,  0.0193,  ..., -0.0047, -0.0400,  0.0444],\n",
            "        [-0.0136, -0.0304, -0.0110,  ...,  0.0014,  0.0003,  0.0422],\n",
            "        [-0.0422,  0.0360,  0.0330,  ...,  0.0057,  0.0160,  0.0675],\n",
            "        ...,\n",
            "        [-0.0164, -0.0516,  0.0003,  ..., -0.0045, -0.0051,  0.0147],\n",
            "        [-0.0025, -0.0026, -0.0141,  ...,  0.0406,  0.0217, -0.0124],\n",
            "        [ 0.0039, -0.0144,  0.0246,  ..., -0.0379,  0.0554,  0.0081]],\n",
            "       requires_grad=True), Parameter containing:\n",
            "tensor([ 0.1650,  0.1871,  0.1026, -0.1582, -0.1055,  0.0424, -0.1165,  0.1208,\n",
            "         0.1888,  0.1080,  0.1541,  0.1317,  0.0638,  0.2085,  0.1565, -0.2368,\n",
            "         0.0817,  0.0379,  0.2484,  0.0929, -0.1012,  0.1416,  0.2623, -0.2218,\n",
            "        -0.1520, -0.1453,  0.1137,  0.1309,  0.2214,  0.2463,  0.1311,  0.2730,\n",
            "        -0.1798,  0.1100,  0.0764,  0.0539,  0.2594,  0.0593,  0.0763,  0.2177,\n",
            "        -0.2036,  0.2786,  0.0455,  0.1431,  0.2273,  0.1313, -0.1845,  0.1632,\n",
            "        -0.2192,  0.0975, -0.1945,  0.2846, -0.1738, -0.0266,  0.2290,  0.1976,\n",
            "        -0.0957,  0.0739,  0.0234,  0.0945,  0.2594,  0.1404,  0.0613,  0.0119,\n",
            "         0.2936,  0.1618,  0.2433,  0.1014,  0.1391,  0.2100,  0.2309, -0.1698,\n",
            "         0.2916,  0.0866, -0.1935,  0.1638,  0.2849,  0.3179, -0.0972,  0.1214,\n",
            "         0.1681,  0.0959,  0.0820,  0.0722,  0.0693,  0.2292,  0.1621,  0.0364,\n",
            "         0.0720,  0.2970,  0.0532,  0.1467,  0.1377, -0.2233,  0.1199,  0.3258,\n",
            "         0.0965, -0.0874,  0.1222,  0.0397,  0.0301,  0.0202,  0.1990,  0.1022,\n",
            "         0.2709,  0.0103,  0.0762,  0.1224,  0.1209,  0.1828, -0.0566,  0.1501,\n",
            "         0.3191,  0.1848,  0.1696], requires_grad=True), Parameter containing:\n",
            "tensor([[ 1.0908e-02, -4.7433e-02, -4.6738e-02, -1.7819e-02, -2.1623e-03,\n",
            "          9.3160e-02, -2.2240e-02, -4.7020e-02,  6.8234e-03,  8.7890e-02,\n",
            "          5.5224e-02,  8.2860e-02, -2.8651e-02,  4.6330e-02, -1.1396e-02,\n",
            "         -2.3135e-02,  5.3612e-02, -3.9887e-02,  4.8817e-03, -2.8461e-02,\n",
            "         -1.2420e-02,  6.7224e-02,  6.5213e-03, -5.8602e-02, -2.8207e-02,\n",
            "         -4.3938e-02,  2.4058e-02,  3.8812e-02,  1.2040e-02,  6.9816e-03,\n",
            "         -5.4596e-02,  3.8944e-02, -5.8424e-02,  3.5878e-02,  8.6487e-02,\n",
            "          2.1182e-02,  3.1427e-02, -5.6424e-02, -1.1205e-02,  7.4521e-03,\n",
            "         -4.9326e-02,  3.3193e-02, -8.9150e-03,  1.0736e-01,  4.4795e-02,\n",
            "         -2.3797e-02, -3.8246e-02, -6.2445e-02, -6.2106e-02,  9.1172e-02,\n",
            "         -2.7819e-02,  2.2813e-02, -2.6056e-02, -5.0296e-02,  4.0616e-02,\n",
            "          1.9544e-03, -5.7516e-02,  9.3943e-02,  4.1869e-03,  8.6872e-02,\n",
            "          1.0183e-03,  1.1450e-01, -5.4717e-02, -5.9593e-02, -9.4581e-04,\n",
            "          8.0107e-02,  1.8033e-02, -4.9996e-02, -2.6700e-02,  4.6509e-02,\n",
            "          5.7606e-02, -5.6472e-02,  3.8204e-02,  9.1521e-02, -4.0561e-02,\n",
            "          6.2816e-02,  3.4004e-03,  1.8003e-02,  1.3138e-03,  7.2241e-02,\n",
            "          8.7878e-02, -4.1766e-02, -1.5206e-03,  6.7987e-02,  5.1657e-02,\n",
            "          8.7303e-02, -4.3156e-02, -2.5524e-02, -1.5024e-02,  3.1126e-02,\n",
            "          4.4082e-05,  4.9483e-02,  7.6376e-02, -7.0182e-02, -4.8469e-02,\n",
            "          9.5152e-03, -6.8901e-04, -6.3191e-02,  9.1301e-02, -3.4441e-02,\n",
            "          7.5622e-02, -4.4443e-02,  3.9826e-02, -1.1990e-02,  8.3732e-03,\n",
            "         -8.7154e-03, -3.5854e-02,  6.7832e-03,  5.2373e-02,  1.3673e-02,\n",
            "         -1.0918e-03, -7.1312e-02,  1.2947e-02, -7.7612e-04, -5.0621e-03]],\n",
            "       requires_grad=True), Parameter containing:\n",
            "tensor([0.3004], requires_grad=True)]\n"
          ]
        }
      ],
      "source": [
        "print(list(net_loaded.parameters()))"
      ]
    },
    {
      "cell_type": "code",
      "execution_count": null,
      "metadata": {
        "colab": {
          "base_uri": "https://localhost:8080/"
        },
        "id": "InGW0Xq6UZip",
        "outputId": "6c4a0e2c-b485-4362-b99d-7364dcf9443a"
      },
      "outputs": [
        {
          "name": "stdout",
          "output_type": "stream",
          "text": [
            "rho.shape:  torch.Size([20])\n",
            "epsilon.shape:  torch.Size([20])\n"
          ]
        },
        {
          "data": {
            "text/plain": [
              "tensor([[ 3.0637e+00,  1.5434e+01,  1.0672e+02,  4.9782e+01,  1.1192e+02,\n",
              "          3.6286e+00,  3.3985e+00, -8.8616e+00,  1.0904e+00,  7.2982e-02,\n",
              "          9.1361e-02,  1.0755e+00,  1.7469e-02,  1.0467e+00],\n",
              "        [ 4.6476e+00,  1.5771e+02, -1.3928e+01,  1.3549e+02,  2.0017e+02,\n",
              "         -4.5070e+00,  6.0962e+00,  9.4485e+00,  1.0487e+00,  2.4645e-02,\n",
              "          8.7432e-02,  1.0510e+00,  5.6788e-03,  1.0498e+00],\n",
              "        [ 2.1370e+00,  1.5647e+01, -7.0120e+00, -1.0101e+01,  7.2289e+01,\n",
              "         -6.6165e+00, -6.6552e+00, -7.3314e+00,  1.0137e+00,  3.1606e-03,\n",
              "          7.8757e-03,  9.7711e-01,  3.9260e-02,  9.4812e-01],\n",
              "        [ 1.2597e+00,  6.3405e+01,  8.5002e+01, -2.5691e+01,  1.1359e+02,\n",
              "          8.9964e+00, -4.0246e+00,  7.3777e+00,  1.0101e+00,  9.0318e-02,\n",
              "          7.3372e-02,  1.0842e+00,  6.1676e-03,  9.1687e-01],\n",
              "        [ 3.8405e-01,  1.0750e+01,  9.0398e-01,  2.4344e+01,  7.1682e+01,\n",
              "         -6.2463e+00, -9.3198e+00,  3.3226e+00,  1.0337e+00,  7.3425e-02,\n",
              "          3.7133e-03,  9.8632e-01,  6.3429e-02,  1.0101e+00],\n",
              "        [ 1.7077e+00,  3.1854e+01,  1.6868e+01, -2.3842e+01,  6.1343e+01,\n",
              "         -6.1667e+00, -4.5011e-01, -6.9367e+00,  9.5152e-01,  7.7296e-02,\n",
              "          4.2226e-02,  9.6275e-01,  2.8326e-02,  1.0106e+00],\n",
              "        [ 9.0979e-01,  1.2391e+02,  1.4894e+01,  1.3521e+02,  1.8871e+02,\n",
              "         -1.0131e+01, -8.3528e+00,  1.0173e+01,  1.0009e+00,  1.2912e-03,\n",
              "          3.8492e-02,  1.0361e+00,  4.8726e-02,  1.0734e+00],\n",
              "        [ 4.5458e+00, -1.1483e+01,  7.2607e+00, -2.3169e+01,  1.2565e+01,\n",
              "          3.3647e+00,  3.7097e+00,  5.3556e+00,  1.0963e+00,  9.2807e-02,\n",
              "          1.9474e-02,  9.2364e-01,  4.7189e-02,  9.5441e-01],\n",
              "        [ 8.1729e-01,  5.0052e+01,  1.6205e+01,  1.5783e+01,  6.6368e+01,\n",
              "         -3.2676e+00,  1.0388e+01, -3.7496e-02,  1.0753e+00,  8.9830e-02,\n",
              "          9.1994e-02,  1.0073e+00,  3.5688e-03,  1.0234e+00],\n",
              "        [ 3.6620e+00,  3.1448e+01,  3.5460e+01,  4.1695e+01,  6.0453e+01,\n",
              "          3.9399e+00, -2.2667e+00, -2.3980e-01,  1.0580e+00,  3.7189e-02,\n",
              "          6.4138e-02,  9.0470e-01,  5.0593e-02,  9.4037e-01],\n",
              "        [ 1.6777e+00, -8.8849e-01,  1.1376e+01,  2.7227e+01,  3.6259e+01,\n",
              "         -3.1367e+00, -6.6389e+00,  3.0392e+00,  9.8435e-01,  7.8337e-02,\n",
              "          7.0443e-02,  9.3243e-01,  3.9062e-02,  9.8092e-01],\n",
              "        [ 1.4716e+00,  7.6967e+00,  8.0280e+00,  1.9084e+01,  2.0709e+01,\n",
              "         -3.5693e+00,  2.4439e+00,  9.4414e-01,  1.0843e+00,  2.4548e-02,\n",
              "          1.0144e-02,  9.8112e-01,  9.8799e-02,  1.0626e+00],\n",
              "        [ 7.6013e-01,  4.2278e+00, -1.3216e+00,  1.3244e+01,  6.6864e+01,\n",
              "         -9.0971e+00, -7.0305e+00,  1.6668e+00,  9.0297e-01,  4.3806e-02,\n",
              "          5.9831e-02,  9.8995e-01,  1.3579e-02,  1.0981e+00],\n",
              "        [ 2.2687e+00, -1.2928e+00, -4.5796e+01,  9.9627e+01,  1.3118e+02,\n",
              "          8.0772e+00,  9.5874e+00,  5.1855e+00,  1.0348e+00,  6.2292e-02,\n",
              "          2.9420e-02,  9.7496e-01,  3.3767e-02,  1.0410e+00],\n",
              "        [ 3.5870e+00,  1.8371e+00,  3.5714e-01, -9.1517e+00,  2.2209e+00,\n",
              "         -5.8583e-02,  1.8411e+00,  4.8299e+00,  1.0970e+00,  9.7779e-02,\n",
              "          3.7615e-02,  1.0904e+00,  9.4167e-02,  9.8391e-01],\n",
              "        [ 4.1108e+00,  3.0640e+01,  6.2143e+01,  2.9224e+01,  6.7300e+01,\n",
              "         -8.1527e+00,  3.5074e+00,  1.1898e+00,  9.3477e-01,  9.5276e-02,\n",
              "          3.6017e-02,  1.0459e+00,  7.4340e-02,  1.0886e+00],\n",
              "        [ 8.5956e-01, -3.3522e+01,  1.0071e+02,  1.7037e+01,  1.1930e+02,\n",
              "         -9.6758e+00, -2.9539e+00, -6.4190e+00,  9.8384e-01,  3.4151e-02,\n",
              "          4.4612e-02,  9.7760e-01,  8.2474e-03,  1.0742e+00],\n",
              "        [ 5.5925e+00,  1.2695e+02,  6.6154e+01,  1.3709e+02,  1.8511e+02,\n",
              "         -5.8836e+00, -8.1679e+00,  9.1993e+00,  9.9896e-01,  2.0069e-02,\n",
              "          4.9709e-02,  1.0523e+00,  8.8763e-02,  1.0078e+00],\n",
              "        [ 5.8982e-01,  1.2163e+01,  3.1565e+01,  9.5057e+00,  5.6393e+01,\n",
              "         -8.8519e+00,  4.1062e+00, -1.9770e+00,  9.1756e-01,  1.2896e-02,\n",
              "          2.8627e-02,  1.0089e+00,  4.1152e-02,  9.6627e-01],\n",
              "        [ 2.3968e+00,  6.4232e+00,  2.0067e+00,  4.7379e+01,  6.7828e+01,\n",
              "         -2.0469e+00, -8.0261e+00, -2.9338e+00,  9.9771e-01,  2.9146e-02,\n",
              "          2.1759e-02,  9.8542e-01,  8.6867e-02,  9.8603e-01]])"
            ]
          },
          "execution_count": 237,
          "metadata": {},
          "output_type": "execute_result"
        }
      ],
      "source": [
        "rho_example, epsilon_example, vx_example, vy_example, vz_example, Bx_example, By_example, Bz_example, gxx_example, gxy_example, gxz_example, gyy_example, gyz_example, gzz_example = generate_samples(20)\n",
        "\n",
        "inputs =  generate_input_data(rho_example, epsilon_example, vx_example, vy_example, vz_example, Bx_example, By_example, Bz_example, gxx_example, gxy_example, gxz_example, gyy_example, gyz_example, gzz_example)\n",
        "inputs\n"
      ]
    },
    {
      "cell_type": "code",
      "execution_count": null,
      "metadata": {
        "colab": {
          "base_uri": "https://localhost:8080/"
        },
        "id": "QVa1upmFUZip",
        "outputId": "95a297df-88d8-4614-ffd7-ecc0cda58cf9"
      },
      "outputs": [
        {
          "data": {
            "text/plain": [
              "[tensor([[1.5716]], grad_fn=<AddmmBackward0>),\n",
              " tensor([[1.1154]], grad_fn=<AddmmBackward0>),\n",
              " tensor([[0.3367]], grad_fn=<AddmmBackward0>),\n",
              " tensor([[1.7762]], grad_fn=<AddmmBackward0>),\n",
              " tensor([[2.6355]], grad_fn=<AddmmBackward0>),\n",
              " tensor([[1.3682]], grad_fn=<AddmmBackward0>),\n",
              " tensor([[0.9846]], grad_fn=<AddmmBackward0>),\n",
              " tensor([[-4.5232]], grad_fn=<AddmmBackward0>),\n",
              " tensor([[2.0544]], grad_fn=<AddmmBackward0>),\n",
              " tensor([[1.5279]], grad_fn=<AddmmBackward0>),\n",
              " tensor([[1.7976]], grad_fn=<AddmmBackward0>),\n",
              " tensor([[1.7016]], grad_fn=<AddmmBackward0>),\n",
              " tensor([[1.9328]], grad_fn=<AddmmBackward0>),\n",
              " tensor([[2.4923]], grad_fn=<AddmmBackward0>),\n",
              " tensor([[-3.3416]], grad_fn=<AddmmBackward0>),\n",
              " tensor([[0.7771]], grad_fn=<AddmmBackward0>),\n",
              " tensor([[3.5580]], grad_fn=<AddmmBackward0>),\n",
              " tensor([[0.3390]], grad_fn=<AddmmBackward0>),\n",
              " tensor([[2.8287]], grad_fn=<AddmmBackward0>),\n",
              " tensor([[3.8257]], grad_fn=<AddmmBackward0>)]"
            ]
          },
          "execution_count": 238,
          "metadata": {},
          "output_type": "execute_result"
        }
      ],
      "source": [
        "#%%script echo skipping\n",
        "\n",
        "# Pass the inputs to the network and get the outputs\n",
        "outputs = [net(input.unsqueeze(0)) for input in inputs]\n",
        "# Print the outputs\n",
        "outputs"
      ]
    },
    {
      "cell_type": "code",
      "execution_count": null,
      "metadata": {
        "colab": {
          "base_uri": "https://localhost:8080/"
        },
        "id": "E-Xjfo7VUZir",
        "outputId": "fb0478cb-bee3-429f-fdec-d99f11baf40f"
      },
      "outputs": [
        {
          "data": {
            "text/plain": [
              "[tensor([[1.5716]], grad_fn=<AddmmBackward0>),\n",
              " tensor([[1.1154]], grad_fn=<AddmmBackward0>),\n",
              " tensor([[0.3367]], grad_fn=<AddmmBackward0>),\n",
              " tensor([[1.7762]], grad_fn=<AddmmBackward0>),\n",
              " tensor([[2.6355]], grad_fn=<AddmmBackward0>),\n",
              " tensor([[1.3682]], grad_fn=<AddmmBackward0>),\n",
              " tensor([[0.9846]], grad_fn=<AddmmBackward0>),\n",
              " tensor([[-4.5232]], grad_fn=<AddmmBackward0>),\n",
              " tensor([[2.0544]], grad_fn=<AddmmBackward0>),\n",
              " tensor([[1.5279]], grad_fn=<AddmmBackward0>),\n",
              " tensor([[1.7976]], grad_fn=<AddmmBackward0>),\n",
              " tensor([[1.7016]], grad_fn=<AddmmBackward0>),\n",
              " tensor([[1.9328]], grad_fn=<AddmmBackward0>),\n",
              " tensor([[2.4923]], grad_fn=<AddmmBackward0>),\n",
              " tensor([[-3.3416]], grad_fn=<AddmmBackward0>),\n",
              " tensor([[0.7771]], grad_fn=<AddmmBackward0>),\n",
              " tensor([[3.5580]], grad_fn=<AddmmBackward0>),\n",
              " tensor([[0.3390]], grad_fn=<AddmmBackward0>),\n",
              " tensor([[2.8287]], grad_fn=<AddmmBackward0>),\n",
              " tensor([[3.8257]], grad_fn=<AddmmBackward0>)]"
            ]
          },
          "execution_count": 239,
          "metadata": {},
          "output_type": "execute_result"
        }
      ],
      "source": [
        "\n",
        "# Pass the inputs to the network and get the outputs\n",
        "outputs = [net_loaded(input.unsqueeze(0)) for input in inputs]\n",
        "# Print the outputs\n",
        "outputs"
      ]
    },
    {
      "attachments": {},
      "cell_type": "markdown",
      "metadata": {
        "id": "xjpIvdybUZis"
      },
      "source": [
        "## Porting the model to C++"
      ]
    },
    {
      "cell_type": "code",
      "execution_count": null,
      "metadata": {
        "colab": {
          "base_uri": "https://localhost:8080/"
        },
        "id": "VMlEd4RoUZis",
        "outputId": "d5bfc697-8c96-47bb-a08c-6fb26f463797"
      },
      "outputs": [
        {
          "data": {
            "text/plain": [
              "Net(\n",
              "  (hidden_activation): LeakyReLU(negative_slope=0.01)\n",
              "  (output_activation): Identity()\n",
              "  (layers): ModuleList(\n",
              "    (0): Linear(in_features=14, out_features=555, bias=True)\n",
              "    (1): Linear(in_features=555, out_features=458, bias=True)\n",
              "    (2): Linear(in_features=458, out_features=115, bias=True)\n",
              "    (3): Linear(in_features=115, out_features=1, bias=True)\n",
              "  )\n",
              "  (dropouts): ModuleList(\n",
              "    (0-2): 3 x Dropout(p=0.2, inplace=False)\n",
              "  )\n",
              ")"
            ]
          },
          "execution_count": 240,
          "metadata": {},
          "output_type": "execute_result"
        },
        {
          "name": "stdout",
          "output_type": "stream",
          "text": [
            "rho.shape:  torch.Size([1])\n",
            "epsilon.shape:  torch.Size([1])\n",
            "input shape:  torch.Size([1, 14])\n",
            "input:  tensor([[ 2.6964e-01,  4.3003e+01,  9.4821e+01,  1.9030e+01,  1.1648e+02,\n",
            "          8.0712e+00, -5.2054e+00,  8.4963e+00,  1.0995e+00,  7.6272e-02,\n",
            "          2.3270e-02,  9.1838e-01,  1.8921e-02,  1.0954e+00]])\n",
            "Output: tensor([[2.1459]], grad_fn=<AddmmBackward0>)\n"
          ]
        },
        {
          "name": "stderr",
          "output_type": "stream",
          "text": [
            "/tmp/ipykernel_1112616/755242825.py:62: TracerWarning: Converting a tensor to a Python boolean might cause the trace to be incorrect. We can't record the data flow of Python values, so this value will be treated as a constant in the future. This means that the trace might not generalize to other inputs!\n",
            "  assert x.shape[1] == N_INPUTS, f\"x must have shape (batch_size, {N_INPUTS})\"\n"
          ]
        }
      ],
      "source": [
        "import torch.jit\n",
        "\n",
        "# Creating a dummy input tensor of shape (1, 5) to trace the model\n",
        "dummy_input = torch.randn(1, N_INPUTS).to(device)\n",
        "\n",
        "# Ensure that net_loaded is in evaluation mode.\n",
        "net_loaded.eval()\n",
        "\n",
        "# Tracing the model using the torch.jit.trace function\n",
        "traced_model = torch.jit.trace(net_loaded, dummy_input)\n",
        "\n",
        "# Saving the traced model to a file named \"net.pt\"\n",
        "traced_model.save(\"net.pt\")\n",
        "save_file(\"net.pt\")\n",
        "\n",
        "example_input_to_validate_correct_export_and_import = generate_input_data(*generate_samples(1))\n",
        "print(\"input shape: \", example_input_to_validate_correct_export_and_import.shape)\n",
        "print(\"input: \", example_input_to_validate_correct_export_and_import)\n",
        "print(\"Output:\", net_loaded(example_input_to_validate_correct_export_and_import))"
      ]
    }
  ],
  "metadata": {
    "accelerator": "GPU",
    "colab": {
      "gpuType": "T4",
      "provenance": [],
      "toc_visible": true
    },
    "gpuClass": "standard",
    "kernelspec": {
      "display_name": "bsc",
      "language": "python",
      "name": "python3"
    },
    "language_info": {
      "codemirror_mode": {
        "name": "ipython",
        "version": 3
      },
      "file_extension": ".py",
      "mimetype": "text/x-python",
      "name": "python",
      "nbconvert_exporter": "python",
      "pygments_lexer": "ipython3",
      "version": "3.11.3"
    },
    "orig_nbformat": 4
  },
  "nbformat": 4,
  "nbformat_minor": 0
}
