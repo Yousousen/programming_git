{
  "cells": [
    {
      "attachments": {},
      "cell_type": "markdown",
      "metadata": {
        "id": "TPvB1xoSUZhR"
      },
      "source": [
        "# Neural network to learn conservative-to-primitive conversion in relativistic hydrodynamics"
      ]
    },
    {
      "attachments": {},
      "cell_type": "markdown",
      "metadata": {},
      "source": [
        "## How to use this notebook\n",
        "\n",
        "### Local installation\n",
        "\n",
        "1. Install required packages with `pip install -r requirements.txt` to your desired environment.\n",
        "2. If a script version of this notebook is desired, comment (not uncomment) the first line of `nbconvert` cell.\n",
        "\n",
        "### Colab installation\n",
        "\n",
        "1.  Comment (not uncomment) the first line of the drive mounting cell.\n",
        "2.  Comment (not uncomment) the first line of the `pip install` cell.\n",
        "\n",
        "<!-- - For colab we also want to set the runtime to GPU by clicking _Change runtime_ in the _Runtime_ menu, and -->\n",
        "<!-- - We want to wait for the google drive connection popup to appear and follow the instructions. -->\n",
        "\n",
        "### Loading / Generating data\n",
        "3. Set `LOAD_DATA_FROM_CSV` to `True` / `False` to load data from csv files / generate data in this notebook.\n",
        "\n",
        "### Training without optimization\n",
        "\n",
        "4. Set `OPTIMIZE = False` in section _Constants and flags to set_.\n",
        "5. Run the entire notebook.\n",
        "\n",
        "### Training with optimization\n",
        "\n",
        "4. Set `OPTIMIZE = True` in section _Constants and flags to set_.\n",
        "5. Run the entire notebook.\n",
        "\n",
        "### Loading an already trained model\n",
        "\n",
        "4. Run cells in section _Initialization_.\n",
        "5. Run cells with definitions in section _Input data and labels_.\n",
        "6. Run cell with the definition of _Net_ in section _Defining the neural network_.\n",
        "7. Make sure the `net.pth`, `optimizer.pth`, `scheduler.pth`, `var_dict.json` and `train_output.csv` files are in the directory containing this notebook.\n",
        "8. Run the cells in section _Loading_ and continue from there.\n",
        "\n",
        "### Generating the C++ model\n",
        "\n",
        "9. Run section _Porting the model to C++_, this requires a model to be loaded.\n",
        "10. Set the path to the `net.pt` file in the C++ source file.\n",
        "11. `mkdir build && cd build`,\n",
        "12. Configure a `CMakeLists.txt` file as is done [here](https://pytorch.org/cppdocs/installing.html).\n",
        "13. `cmake -DCMAKE_PREFIX_PATH=/path/to/libtorch/ ..`,\n",
        "14. Compile and run, e.g. `cmake --build . --config release && ./<executable name>`"
      ]
    },
    {
      "attachments": {},
      "cell_type": "markdown",
      "metadata": {},
      "source": [
        "## Initialization"
      ]
    },
    {
      "attachments": {},
      "cell_type": "markdown",
      "metadata": {},
      "source": [
        "\n",
        "Use this first cell to **convert this notebook** to a python script."
      ]
    },
    {
      "cell_type": "code",
      "execution_count": 81,
      "metadata": {
        "colab": {
          "base_uri": "https://localhost:8080/"
        },
        "id": "eqdgdNLHUZhV",
        "outputId": "30907b9d-56c3-44d7-cd43-6387a991a46a",
        "tags": [
          "remove_cell"
        ]
      },
      "outputs": [
        {
          "name": "stdout",
          "output_type": "stream",
          "text": [
            "skipping\n"
          ]
        }
      ],
      "source": [
        "%%script echo skipping\n",
        "\n",
        "!jupyter nbconvert pt1_before_restructuring.ipynb --TagRemovePreprocessor.enabled=True --TagRemovePreprocessor.remove_cell_tags='{\"remove_cell\"}' --to script"
      ]
    },
    {
      "attachments": {},
      "cell_type": "markdown",
      "metadata": {
        "id": "nzcUr0LnUZhw"
      },
      "source": [
        "Next some cells for working on **google colab**,"
      ]
    },
    {
      "cell_type": "code",
      "execution_count": 82,
      "metadata": {},
      "outputs": [],
      "source": [
        "import os\n",
        "import shutil\n",
        "\n",
        "# check if the drive is mounted\n",
        "drive_mounted = os.path.exists(\"/content/drive\")\n",
        "# change this to your desired folder\n",
        "drive_folder = \"/content/drive/My Drive/bsc/con2prim_GRMHD\"\n",
        "\n",
        "# define a function to save a file to the drive or the current directory\n",
        "def save_file(file_name):\n",
        "  if drive_mounted:\n",
        "    # save the file to the drive folder\n",
        "    file_path = os.path.join(drive_folder, file_name)\n",
        "    # copy the file from the current directory to the drive folder\n",
        "    shutil.copyfile(file_name, file_path)\n",
        "  else:\n",
        "    # do nothing as the file is already in the current directory\n",
        "    pass\n"
      ]
    },
    {
      "cell_type": "code",
      "execution_count": 83,
      "metadata": {
        "colab": {
          "base_uri": "https://localhost:8080/"
        },
        "id": "ecHw2_xlUZhx",
        "outputId": "462a57cd-ee19-4961-d3aa-ff2407b2bde0"
      },
      "outputs": [
        {
          "name": "stdout",
          "output_type": "stream",
          "text": [
            "skipping\n"
          ]
        }
      ],
      "source": [
        "%%script echo skipping\n",
        "\n",
        "from google.colab import drive\n",
        "drive.mount('/content/drive')"
      ]
    },
    {
      "cell_type": "code",
      "execution_count": 84,
      "metadata": {
        "colab": {
          "base_uri": "https://localhost:8080/"
        },
        "id": "T1rcStMLUZhy",
        "outputId": "7ea7311f-f054-4a29-d0ff-12849095ab6e"
      },
      "outputs": [
        {
          "name": "stdout",
          "output_type": "stream",
          "text": [
            "skipping\n"
          ]
        }
      ],
      "source": [
        "%%script echo skipping\n",
        "\n",
        "!pip install optuna tensorboard tensorboardX"
      ]
    },
    {
      "attachments": {},
      "cell_type": "markdown",
      "metadata": {},
      "source": [
        "Importing the **libraries**,"
      ]
    },
    {
      "cell_type": "code",
      "execution_count": 85,
      "metadata": {
        "id": "tREdWQUVUZhz"
      },
      "outputs": [],
      "source": [
        "import numpy as np\n",
        "import matplotlib.pyplot as plt\n",
        "import torch\n",
        "import torch.nn as nn\n",
        "import torch.optim as optim\n",
        "import torch.nn.functional as F\n",
        "import optuna\n",
        "import tensorboardX as tbx\n",
        "import pandas as pd"
      ]
    },
    {
      "attachments": {},
      "cell_type": "markdown",
      "metadata": {
        "id": "38GvmerjUZhz"
      },
      "source": [
        "### Constants and flags to set\n",
        "Defining some constants and parameters for convenience.\n",
        "\n",
        "**NOTE**: Some **subparameters** still need to be adjusted in the `create_model` function itself as of (Tue May 16 07:42:45 AM CEST 2023) in the case the model is being trained without optimization."
      ]
    },
    {
      "cell_type": "code",
      "execution_count": 86,
      "metadata": {
        "id": "ei6VZDYKUZh0"
      },
      "outputs": [],
      "source": [
        "\n",
        "# Checking if GPU is available and setting the device accordingly\n",
        "device = torch.device(\"cuda\" if torch.cuda.is_available() else \"cpu\")\n",
        "\n",
        "N_TRIALS = 1 # Number of trials for hyperparameter optimization # NOTE: Set this properly.\n",
        "OPTIMIZE = False # Whether to optimize the hyperparameters or to use predetermined values. # NOTE: Set this properly.\n",
        "ZSCORE_NORMALIZATION = False # Whether to z-score normalize the input data.\n",
        "LOAD_DATA_FROM_CSV = False  # If not true we generate the data in this file and save to {x_train,y_train,x_test,y_test}.csv, otherwise we load the data from files of the same name. # NOTE: Set this before properly.\n",
        "\n",
        "csv_filenames = { # File names to load input data and labels from if LOAD_DATA_FROM_CSV is True.\n",
        "    \"x_train\": \"x_train.csv\",\n",
        "    \"x_val\": \"x_val.csv\",\n",
        "    \"x_test\": \"x_test.csv\",\n",
        "    \"y_train\": \"y_train.csv\",\n",
        "    \"y_val\": \"y_val.csv\",\n",
        "    \"y_test\": \"y_test.csv\",\n",
        "}\n",
        "\n",
        "# Values to use for hyperparameters if OPTIMIZE is False; set these to the best parameters found by Optuna.\n",
        "# NOTE: TODO: Currently (Sat May 27 05:16:57 PM CEST 2023) there are still subparameters to be set in create_model function.\n",
        "N_LAYERS_NO_OPT = 3\n",
        "N_UNITS_NO_OPT = [555, 458, 115]\n",
        "HIDDEN_ACTIVATION_NAME_NO_OPT = \"LeakyReLU\"\n",
        "OUTPUT_ACTIVATION_NAME_NO_OPT = \"Linear\"\n",
        "LOSS_NAME_NO_OPT = \"Huber\"\n",
        "OPTIMIZER_NAME_NO_OPT = \"RMSprop\"\n",
        "LR_NO_OPT = 0.000122770896701404\n",
        "BATCH_SIZE_NO_OPT = 49\n",
        "N_EPOCHS_NO_OPT = 5 # NOTE: Set this properly.\n",
        "SCHEDULER_NAME_NO_OPT = \"CycleLR\"\n",
        "DROPOUT_RATE_NO_OPT = 0.2\n",
        "\n",
        "N_INPUTS = 14  # Number of input features.\n",
        "N_OUTPUTS = 1  # Number of outputs.\n",
        "Gamma = 5/3  # Adiabatic index\n",
        "\n",
        "n_samples = 1e6 # NOTE: Set this properly.\n",
        "train_frac = 0.7  # 70% of data for training\n",
        "val_frac = 0.15  # 15% of data for validation, rest for testing\n",
        "\n",
        "rho_interval = (0, 2) \n",
        "epsilon_interval = (1e-2, 2000)  # Will be sampled in log space\n",
        "vx_interval = (0, 0.999)  \n",
        "vy_interval = (0, 0.999)  \n",
        "vz_interval = (0, 0.999)  \n",
        "Bx_interval = (-10, 10)  \n",
        "By_interval = (-10, 10)  \n",
        "Bz_interval = (-10, 10)  \n",
        "gxx_interval = (0.9, 1.1)\n",
        "gxy_interval = (0, 0.1)\n",
        "gxz_interval = (0, 0.1)\n",
        "gyy_interval = (0.9, 1.1)\n",
        "gyz_interval = (0, 0.1)\n",
        "gzz_interval = (0.9, 1.1)\n",
        "\n",
        "np.random.seed(58) # Comment for true random data.\n"
      ]
    },
    {
      "attachments": {},
      "cell_type": "markdown",
      "metadata": {
        "id": "dlaP5UL2UZh1"
      },
      "source": [
        "## Input data and labels\n",
        "\n",
        "We either generate the data or load the data. First the definitions for generating the data come below."
      ]
    },
    {
      "cell_type": "code",
      "execution_count": 87,
      "metadata": {
        "id": "s_EvGFZcUZh1"
      },
      "outputs": [
        {
          "name": "stderr",
          "output_type": "stream",
          "text": [
            "Future exception was never retrieved\n",
            "future: <Future finished exception=BrokenPipeError(32, 'Broken pipe')>\n",
            "Traceback (most recent call last):\n",
            "  File \"/usr/lib/python3.11/asyncio/unix_events.py\", line 687, in write\n",
            "    n = os.write(self._fileno, data)\n",
            "        ^^^^^^^^^^^^^^^^^^^^^^^^^^^^\n",
            "BrokenPipeError: [Errno 32] Broken pipe\n"
          ]
        }
      ],
      "source": [
        "# Defining an analytic equation of state (EOS) for an ideal gas\n",
        "def eos_analytic(rho, epsilon):\n",
        "    # Adding some assertions to check that the input tensors are valid and have \n",
        "    # the expected shape and type \n",
        "    assert isinstance(rho, torch.Tensor), \"rho must be a torch.Tensor\"\n",
        "    assert isinstance(epsilon, torch.Tensor), \"epsilon must be a torch.Tensor\"\n",
        "    print('rho.shape: ', rho.shape)\n",
        "    print('epsilon.shape: ', epsilon.shape)\n",
        "    assert rho.shape == epsilon.shape, \"rho and epsilon must have the same shape\"\n",
        "    assert rho.ndim == 1, \"rho and epsilon must be one-dimensional tensors\"\n",
        "    assert rho.dtype == torch.float32, \"rho and epsilon must have dtype torch.float32\"\n",
        "\n",
        "    return (Gamma - 1) * rho * epsilon\n",
        "\n",
        "def sample_primitive_variables_and_metric():\n",
        "    rho = np.random.uniform(*rho_interval)  \n",
        "    epsilon = np.random.uniform(*np.log10(epsilon_interval))\n",
        "    vx = np.random.uniform(*vx_interval)  \n",
        "    vy = np.random.uniform(*vy_interval)  \n",
        "    vz = np.random.uniform(*vz_interval)  \n",
        "    Bx = np.random.uniform(*Bx_interval)  \n",
        "    By = np.random.uniform(*By_interval)  \n",
        "    Bz = np.random.uniform(*Bz_interval)  \n",
        "    gxx = np.random.uniform(*gxx_interval)\n",
        "    gxy = np.random.uniform(*gxy_interval)\n",
        "    gxz = np.random.uniform(*gxz_interval)\n",
        "    gyy = np.random.uniform(*gyy_interval)\n",
        "    gyz = np.random.uniform(*gyz_interval)\n",
        "    gzz = np.random.uniform(*gzz_interval)\n",
        "\n",
        "    return rho, epsilon, vx, vy, vz, Bx, By, Bz, gxx, gxy, gxz, gyy, gyz, gzz\n",
        "\n",
        "def check_sample(rho, epsilon, vx, vy, vz, Bx, By, Bz, gxx, gxy, gxz, gyy, gyz, gzz):\n",
        "    wtemp_expr = 1 - (gxx * vx**2 + gyy * vy**2 + gzz * vz**2 + 2 * gxy * vx * vy + 2 * gxz * vx * vz + 2 * gyz * vy * vz)\n",
        "    sdet_expr = gxx * gyy * gzz + 2 * gxy * gxz * gyz - gxx * gyz ** 2 - gyy * gxz ** 2 - gzz * gxy ** 2\n",
        "    if vx**2 + vy**2 + vz**2 >= 1 or wtemp_expr < 0 or sdet_expr < 0:\n",
        "        # print(f\"Sample failed checks. vx^2+vy^2+vz^2: {vx**2 + vy**2 + vz**2}, wtemp_expr: {wtemp_expr}, sdet_expr: {sdet_expr}\")\n",
        "        return False\n",
        "    else:\n",
        "        # print(f\"Sample passed checks. vx^2+vy^2+vz^2: {vx**2 + vy**2 + vz**2}, wtemp_expr: {wtemp_expr}, sdet_expr: {sdet_expr}\")\n",
        "        return True\n",
        "\n",
        "def generate_samples(n_samples):\n",
        "    samples = []\n",
        "    while len(samples) < n_samples:\n",
        "        sample = sample_primitive_variables_and_metric()\n",
        "        if check_sample(*sample):\n",
        "            samples.append(sample)\n",
        "        # print(f\"Number of valid samples: {len(samples)}\")\n",
        "    return zip(*samples)\n",
        "def sdet(gxx, gxy, gxz, gyy, gyz, gzz):\n",
        "    # Determinant of the three metric.\n",
        "    return (gxx * gyy * gzz + 2 * gxy * gxz * gyz - gxx * gyz ** 2 - gyy * gxz ** 2 - gzz * gxy ** 2) ** 0.5\n",
        "\n",
        "# Defining a function that computes conserved variables from primitive variables and the metric\n",
        "# We follow the source code of GRaM-X: A new GPU-accelerated dynamical spacetime GRMHD code for Exascale\n",
        "# computing with the Einstein Toolkit of Shankar et al.\n",
        "def compute_conserved_variables(rho, epsilon, vx, vy, vz, Bx, By, Bz, gxx, gxy, gxz, gyy, gyz, gzz):\n",
        "    pres = eos_analytic(rho, epsilon)\n",
        "    wtemp = 1 / (1 - (gxx * vx**2 + gyy * vy**2 + gzz * vz**2 +\n",
        "        2 * gxy * vx * vy + 2 * gxz * vx * vz +\n",
        "        2 * gyz * vy * vz))**0.5\n",
        "\n",
        "    vlowx = gxx * vx + gxy * vy + gxz * vz\n",
        "    vlowy = gxy * vx + gyy * vy + gyz * vz\n",
        "    vlowz = gxz * vx + gyz * vy + gzz * vz\n",
        "\n",
        "    Bxlow = gxx * Bx + gxy * By + gxz * Bz\n",
        "    Bylow = gxy * Bx + gyy * By + gyz * Bz\n",
        "    Bzlow = gxz * Bx + gyz * By + gzz * Bz\n",
        "\n",
        "    B2 = Bxlow * Bx + Bylow * By + Bzlow * Bz\n",
        "\n",
        "    Bdotv = Bxlow * vx + Bylow * vy + Bzlow * vz\n",
        "    Bdotv2 = Bdotv * Bdotv\n",
        "    wtemp2 = wtemp * wtemp\n",
        "    b2 = B2 / wtemp2 + Bdotv2\n",
        "    ab0 = wtemp * Bdotv\n",
        "\n",
        "    blowx = (gxx * Bx + gxy * By + gxz * Bz) / wtemp + wtemp * Bdotv * vlowx\n",
        "    blowy = (gxy * Bx + gyy * By + gyz * Bz) / wtemp + wtemp * Bdotv * vlowy\n",
        "    blowz = (gxz * Bx + gyz * By + gzz * Bz) / wtemp + wtemp * Bdotv * vlowz\n",
        "\n",
        "    hrhow2 = (rho * (1 + epsilon) + pres + b2) * (wtemp) * (wtemp)\n",
        "\n",
        "    D = sdet(gxx, gxy, gxz, gyy, gyz, gzz) * rho * (wtemp)\n",
        "    Sx = sdet(gxx, gxy, gxz, gyy, gyz, gzz) * (hrhow2 * vlowx - ab0 * blowx)\n",
        "    Sy = sdet(gxx, gxy, gxz, gyy, gyz, gzz) * (hrhow2 * vlowy - ab0 * blowy)\n",
        "    Sz = sdet(gxx, gxy, gxz, gyy, gyz, gzz) * (hrhow2 * vlowz - ab0 * blowz)\n",
        "    tau = sdet(gxx, gxy, gxz, gyy, gyz, gzz) * (hrhow2 - pres - b2 / 2 - ab0 * ab0) - D\n",
        "    Bconsx = sdet(gxx, gxy, gxz, gyy, gyz, gzz) * Bx\n",
        "    Bconsy = sdet(gxx, gxy, gxz, gyy, gyz, gzz) * By\n",
        "    Bconsz = sdet(gxx, gxy, gxz, gyy, gyz, gzz) * Bz\n",
        "\n",
        "    return D, Sx, Sy, Sz, tau, Bconsx, Bconsy, Bconsz\n",
        "\n",
        "def generate_input_data(rho, epsilon, vx, vy, vz, Bx, By, Bz, gxx, gxy, gxz, gyy, gyz, gzz):\n",
        "    rho = torch.tensor(np.array(rho), dtype=torch.float32).to(device)\n",
        "    epsilon = torch.tensor(np.array(epsilon), dtype=torch.float32).to(device)\n",
        "    vx = torch.tensor(np.array(vx), dtype=torch.float32).to(device)\n",
        "    vy = torch.tensor(np.array(vy), dtype=torch.float32).to(device)\n",
        "    vz = torch.tensor(np.array(vz), dtype=torch.float32).to(device)\n",
        "    Bx = torch.tensor(np.array(Bx), dtype=torch.float32).to(device)\n",
        "    By = torch.tensor(np.array(By), dtype=torch.float32).to(device)\n",
        "    Bz = torch.tensor(np.array(Bz), dtype=torch.float32).to(device)\n",
        "    gxx = torch.tensor(np.array(gxx), dtype=torch.float32).to(device)\n",
        "    gxy = torch.tensor(np.array(gxy), dtype=torch.float32).to(device)\n",
        "    gxz = torch.tensor(np.array(gxz), dtype=torch.float32).to(device)\n",
        "    gyy = torch.tensor(np.array(gyy), dtype=torch.float32).to(device)\n",
        "    gyz = torch.tensor(np.array(gyz), dtype=torch.float32).to(device)\n",
        "    gzz = torch.tensor(np.array(gzz), dtype=torch.float32).to(device)\n",
        "\n",
        "    D, Sx, Sy, Sz, tau, Bscriptx, Bscripty, Bscriptz = compute_conserved_variables(\n",
        "        rho, epsilon, vx, vy, vz, Bx, By, Bz, gxx, gxy, gxz, gyy, gyz, gzz\n",
        "    ) \n",
        "\n",
        "    # Add gxx, gxy, gxz, gyy, gyz, gzz to the tensor\n",
        "    x = torch.stack([D, Sx, Sy, Sz, tau, Bscriptx, Bscripty, Bscriptz, gxx, gxy, gxz, gyy, gyz, gzz], axis=1)\n",
        "    return x\n",
        "\n",
        "# Defining a function that generates output data (labels) from given samples of primitive variables\n",
        "# We use the definitions as given in Recovery schemes for primitive variables in\n",
        "# general-relativistic magnetohydrodynamics of Siegel et al.\n",
        "def generate_labels(rho, epsilon, vx, vy, vz):\n",
        "    # Converting the numpy arrays to torch tensors and moving them to the device\n",
        "    rho = torch.tensor(np.array(rho), dtype=torch.float32).to(device)\n",
        "    epsilon = torch.tensor(np.array(epsilon), dtype=torch.float32).to(device)\n",
        "    vx = torch.tensor(np.array(vx), dtype=torch.float32).to(device)\n",
        "    vy = torch.tensor(np.array(vy), dtype=torch.float32).to(device)\n",
        "    vz = torch.tensor(np.array(vz), dtype=torch.float32).to(device)\n",
        "\n",
        "    # Computing the required quantities\n",
        "    pres = eos_analytic(rho, epsilon)\n",
        "    h = 1 + epsilon + pres / rho\n",
        "    W = 1 / torch.sqrt(1 - (vx * vx + vy * vy + vz * vz))\n",
        "\n",
        "    # Returning the output data tensor\n",
        "    return h * W"
      ]
    },
    {
      "attachments": {},
      "cell_type": "markdown",
      "metadata": {},
      "source": [
        "### Generating or loading input data and labels"
      ]
    },
    {
      "cell_type": "code",
      "execution_count": 88,
      "metadata": {},
      "outputs": [],
      "source": [
        "%config InteractiveShell.ast_node_interactivity = \"all\""
      ]
    },
    {
      "cell_type": "code",
      "execution_count": 89,
      "metadata": {
        "id": "cKubR6C8UZh4"
      },
      "outputs": [],
      "source": [
        "if LOAD_DATA_FROM_CSV:\n",
        "    # Load the data from CSV files\n",
        "    x_train = pd.read_csv(csv_filenames[\"x_train\"]).values\n",
        "    y_train = pd.read_csv(csv_filenames[\"y_train\"]).values.squeeze()  # reshape to 1D\n",
        "    x_val = pd.read_csv(csv_filenames[\"x_val\"]).values\n",
        "    y_val = pd.read_csv(csv_filenames[\"y_val\"]).values.squeeze()  # reshape to 1D\n",
        "    x_test = pd.read_csv(csv_filenames[\"x_test\"]).values\n",
        "    y_test = pd.read_csv(csv_filenames[\"y_test\"]).values.squeeze()  # reshape to 1D\n",
        "\n",
        "    # Convert numpy arrays to tensors\n",
        "    x_train = torch.from_numpy(x_train).float().to(device)\n",
        "    y_train = torch.from_numpy(y_train).float().to(device)\n",
        "    x_val = torch.from_numpy(x_val).float().to(device)\n",
        "    y_val = torch.from_numpy(y_val).float().to(device)\n",
        "    x_test = torch.from_numpy(x_test).float().to(device)\n",
        "    y_test = torch.from_numpy(y_test).float().to(device)\n",
        "\n",
        "    # This is an alternative to having if clauses around the cells that visualize these variables.\n",
        "    rho = epsilon = vx = vy = vz = Bx = By = Bz = gxx = gxy = gxz = gyy = gyz  = gzz = None"
      ]
    },
    {
      "cell_type": "code",
      "execution_count": 90,
      "metadata": {},
      "outputs": [],
      "source": [
        "if not LOAD_DATA_FROM_CSV:\n",
        "    # Sample primitive variables and metric\n",
        "    rho, epsilon, vx, vy, vz, Bx, By, Bz, gxx, gxy, gxz, gyy, gyz, gzz = generate_samples(n_samples)"
      ]
    },
    {
      "cell_type": "code",
      "execution_count": 91,
      "metadata": {},
      "outputs": [
        {
          "name": "stdout",
          "output_type": "stream",
          "text": [
            "rho.shape:  torch.Size([1000000])\n",
            "epsilon.shape:  torch.Size([1000000])\n",
            "rho.shape:  torch.Size([1000000])\n",
            "epsilon.shape:  torch.Size([1000000])\n"
          ]
        }
      ],
      "source": [
        "if not LOAD_DATA_FROM_CSV:\n",
        "    # Generate data and labels.\n",
        "    x = generate_input_data(rho, epsilon, vx, vy, vz, Bx, By, Bz, gxx, gxy, gxz, gyy, gyz, gzz)\n",
        "    y = generate_labels(rho, epsilon, vx, vy, vz)\n",
        "\n",
        "    # Calculate the number of samples in each set\n",
        "    n_train_samples = int(n_samples * train_frac)\n",
        "    n_val_samples = int(n_samples * val_frac)\n",
        "\n",
        "    # Create the data sets\n",
        "    x_train = x[:n_train_samples]\n",
        "    y_train = y[:n_train_samples]\n",
        "    x_val = x[n_train_samples : n_train_samples + n_val_samples]\n",
        "    y_val = y[n_train_samples : n_train_samples + n_val_samples]\n",
        "    x_test = x[n_train_samples + n_val_samples :]\n",
        "    y_test = y[n_train_samples + n_val_samples :]\n",
        "\n",
        "    # Save the data to CSV files; tensors need to be converted numpy arrays for saving in CSV.\n",
        "    pd.DataFrame(x_train.cpu().numpy()).to_csv(csv_filenames[\"x_train\"], index=False)\n",
        "    save_file(csv_filenames[\"x_train\"])\n",
        "    pd.DataFrame(y_train.cpu().numpy()).to_csv(csv_filenames[\"y_train\"], index=False)\n",
        "    save_file(csv_filenames[\"y_train\"])\n",
        "\n",
        "    pd.DataFrame(x_val.cpu().numpy()).to_csv(csv_filenames[\"x_val\"], index=False)\n",
        "    save_file(csv_filenames[\"x_val\"])\n",
        "    pd.DataFrame(y_val.cpu().numpy()).to_csv(csv_filenames[\"y_val\"], index=False)\n",
        "    save_file(csv_filenames[\"y_val\"])\n",
        "\n",
        "    pd.DataFrame(x_test.cpu().numpy()).to_csv(csv_filenames[\"x_test\"], index=False)\n",
        "    save_file(csv_filenames[\"x_test\"])\n",
        "    pd.DataFrame(y_test.cpu().numpy()).to_csv(csv_filenames[\"y_test\"], index=False)\n",
        "    save_file(csv_filenames[\"y_test\"])"
      ]
    },
    {
      "cell_type": "code",
      "execution_count": 92,
      "metadata": {},
      "outputs": [
        {
          "data": {
            "text/plain": [
              "torch.Size([700000, 14])"
            ]
          },
          "execution_count": 92,
          "metadata": {},
          "output_type": "execute_result"
        },
        {
          "data": {
            "text/plain": [
              "torch.Size([700000])"
            ]
          },
          "execution_count": 92,
          "metadata": {},
          "output_type": "execute_result"
        },
        {
          "data": {
            "text/plain": [
              "torch.Size([150000, 14])"
            ]
          },
          "execution_count": 92,
          "metadata": {},
          "output_type": "execute_result"
        },
        {
          "data": {
            "text/plain": [
              "torch.Size([150000])"
            ]
          },
          "execution_count": 92,
          "metadata": {},
          "output_type": "execute_result"
        },
        {
          "data": {
            "text/plain": [
              "torch.Size([150000, 14])"
            ]
          },
          "execution_count": 92,
          "metadata": {},
          "output_type": "execute_result"
        },
        {
          "data": {
            "text/plain": [
              "torch.Size([150000])"
            ]
          },
          "execution_count": 92,
          "metadata": {},
          "output_type": "execute_result"
        },
        {
          "data": {
            "text/plain": [
              "tensor([[ 1.2527e+00,  5.2617e+00, -1.2654e+01,  ...,  9.7614e-01,\n",
              "          1.6272e-02,  1.0095e+00],\n",
              "        [ 2.1364e+00,  6.0713e+01,  6.3322e+01,  ...,  9.3296e-01,\n",
              "          7.2756e-02,  9.2460e-01],\n",
              "        [ 1.1776e+00, -1.0532e+00, -4.8312e+00,  ...,  1.0688e+00,\n",
              "          2.8436e-02,  9.1655e-01],\n",
              "        ...,\n",
              "        [ 2.7662e+00,  2.3964e+01,  1.5803e+01,  ...,  9.1795e-01,\n",
              "          6.1726e-02,  1.0380e+00],\n",
              "        [ 1.7619e+00,  2.4368e+01, -2.7098e+01,  ...,  9.6681e-01,\n",
              "          9.6843e-02,  9.0925e-01],\n",
              "        [ 7.3682e-01,  1.3586e+00, -8.0384e+00,  ...,  1.0070e+00,\n",
              "          4.8851e-02,  9.8274e-01]])"
            ]
          },
          "execution_count": 92,
          "metadata": {},
          "output_type": "execute_result"
        },
        {
          "data": {
            "text/plain": [
              "tensor([ 2.5434,  0.4556, -3.4002,  ..., 10.3622,  7.3604,  2.8064])"
            ]
          },
          "execution_count": 92,
          "metadata": {},
          "output_type": "execute_result"
        },
        {
          "data": {
            "text/plain": [
              "tensor([[  5.7312, -19.6355,  29.6186,  ...,   0.9807,   0.0840,   0.9013],\n",
              "        [  2.5957,   8.2397,  12.5885,  ...,   0.9237,   0.0825,   0.9640],\n",
              "        [  2.9919,  -8.7165,   7.4815,  ...,   0.9559,   0.0532,   1.0766],\n",
              "        ...,\n",
              "        [  2.7080,   4.4529,   3.1958,  ...,   0.9925,   0.0607,   1.0911],\n",
              "        [  1.8079,  19.7232,  20.7723,  ...,   0.9554,   0.0865,   1.0076],\n",
              "        [  2.2901,  -8.7970,  22.7706,  ...,   0.9073,   0.0711,   1.0566]])"
            ]
          },
          "execution_count": 92,
          "metadata": {},
          "output_type": "execute_result"
        },
        {
          "data": {
            "text/plain": [
              "tensor([-5.3643,  8.1602, -2.6808,  ..., -1.3408,  4.6005,  3.6591])"
            ]
          },
          "execution_count": 92,
          "metadata": {},
          "output_type": "execute_result"
        },
        {
          "data": {
            "text/plain": [
              "tensor([[ 2.1812e+00,  4.8750e+00, -3.3612e-01,  ...,  9.0142e-01,\n",
              "          7.6175e-02,  9.3354e-01],\n",
              "        [ 2.1526e+00,  4.8778e+01,  1.6528e+01,  ...,  9.5850e-01,\n",
              "          9.5362e-02,  9.0661e-01],\n",
              "        [ 3.7924e+00, -1.3201e+01, -1.1110e+01,  ...,  1.0264e+00,\n",
              "          2.1553e-02,  1.0398e+00],\n",
              "        ...,\n",
              "        [ 7.6027e-02,  2.2149e+01,  3.0209e+01,  ...,  9.9756e-01,\n",
              "          6.7161e-02,  1.0289e+00],\n",
              "        [ 5.8877e+00,  9.6838e+01, -3.0760e+01,  ...,  1.0182e+00,\n",
              "          9.4440e-02,  9.5731e-01],\n",
              "        [ 3.7922e+00, -8.6285e+01,  1.2035e+02,  ...,  1.0070e+00,\n",
              "          5.7386e-02,  9.6096e-01]])"
            ]
          },
          "execution_count": 92,
          "metadata": {},
          "output_type": "execute_result"
        },
        {
          "data": {
            "text/plain": [
              "tensor([ 1.3823, -1.6855,  1.3714,  ...,  7.5553,  0.5781,  5.5069])"
            ]
          },
          "execution_count": 92,
          "metadata": {},
          "output_type": "execute_result"
        }
      ],
      "source": [
        "\n",
        "x_train.shape\n",
        "y_train.shape\n",
        "x_val.shape\n",
        "y_val.shape\n",
        "x_test.shape\n",
        "y_test.shape\n",
        "x_train\n",
        "y_train\n",
        "x_val\n",
        "y_val\n",
        "x_test\n",
        "y_test"
      ]
    },
    {
      "cell_type": "code",
      "execution_count": 93,
      "metadata": {},
      "outputs": [
        {
          "data": {
            "text/plain": [
              "tensor(False)"
            ]
          },
          "execution_count": 93,
          "metadata": {},
          "output_type": "execute_result"
        },
        {
          "data": {
            "text/plain": [
              "tensor(False)"
            ]
          },
          "execution_count": 93,
          "metadata": {},
          "output_type": "execute_result"
        },
        {
          "data": {
            "text/plain": [
              "tensor(False)"
            ]
          },
          "execution_count": 93,
          "metadata": {},
          "output_type": "execute_result"
        },
        {
          "data": {
            "text/plain": [
              "tensor(False)"
            ]
          },
          "execution_count": 93,
          "metadata": {},
          "output_type": "execute_result"
        },
        {
          "data": {
            "text/plain": [
              "tensor(False)"
            ]
          },
          "execution_count": 93,
          "metadata": {},
          "output_type": "execute_result"
        },
        {
          "data": {
            "text/plain": [
              "tensor(False)"
            ]
          },
          "execution_count": 93,
          "metadata": {},
          "output_type": "execute_result"
        }
      ],
      "source": [
        "torch.isnan(x_train).any()\n",
        "torch.isnan(x_val).any()\n",
        "torch.isnan(x_test).any()\n",
        "torch.isnan(y_train).any()\n",
        "torch.isnan(y_val).any()\n",
        "torch.isnan(y_test).any()"
      ]
    },
    {
      "cell_type": "code",
      "execution_count": 94,
      "metadata": {},
      "outputs": [
        {
          "data": {
            "text/plain": [
              "(tensor([], dtype=torch.int64), tensor([], dtype=torch.int64))"
            ]
          },
          "execution_count": 94,
          "metadata": {},
          "output_type": "execute_result"
        },
        {
          "data": {
            "text/plain": [
              "(tensor([], dtype=torch.int64), tensor([], dtype=torch.int64))"
            ]
          },
          "execution_count": 94,
          "metadata": {},
          "output_type": "execute_result"
        },
        {
          "data": {
            "text/plain": [
              "(tensor([], dtype=torch.int64), tensor([], dtype=torch.int64))"
            ]
          },
          "execution_count": 94,
          "metadata": {},
          "output_type": "execute_result"
        }
      ],
      "source": [
        "nan_mask_train = torch.isnan(x_train)     # get a boolean mask indicating NaN values\n",
        "nan_indices_train = torch.where(nan_mask_train)  # get the indices of the NaN values\n",
        "nan_indices_train\n",
        "# len(nan_indices_train)\n",
        "\n",
        "nan_mask_val = torch.isnan(x_val)     # get a boolean mask indicating NaN values\n",
        "nan_indices_val = torch.where(nan_mask_val)  # get the indices of the NaN values\n",
        "nan_indices_val\n",
        "# len(nan_indices_test)\n",
        "\n",
        "nan_mask_test = torch.isnan(x_test)     # get a boolean mask indicating NaN values\n",
        "nan_indices_test = torch.where(nan_mask_test)  # get the indices of the NaN values\n",
        "nan_indices_test\n",
        "# len(nan_indices_test)"
      ]
    },
    {
      "attachments": {},
      "cell_type": "markdown",
      "metadata": {},
      "source": [
        "## Visualizing the data"
      ]
    },
    {
      "attachments": {},
      "cell_type": "markdown",
      "metadata": {},
      "source": [
        "### Visualizing sampled data"
      ]
    },
    {
      "cell_type": "code",
      "execution_count": 95,
      "metadata": {},
      "outputs": [
        {
          "name": "stdout",
          "output_type": "stream",
          "text": [
            "skipping\n"
          ]
        }
      ],
      "source": [
        "%%script echo skipping\n",
        "\n",
        "if not LOAD_DATA_FROM_CSV:\n",
        "    rho\n",
        "    epsilon\n",
        "    vx\n",
        "    vy\n",
        "    vz \n",
        "    Bx\n",
        "    By\n",
        "    Bz\n",
        "    gxx\n",
        "    gxy\n",
        "    gxz\n",
        "    gyy\n",
        "    gyz\n",
        "    gzz "
      ]
    },
    {
      "cell_type": "code",
      "execution_count": 96,
      "metadata": {},
      "outputs": [
        {
          "name": "stdout",
          "output_type": "stream",
          "text": [
            "1000000\n",
            "1000000\n",
            "1000000\n",
            "1000000\n",
            "1000000\n",
            "1000000\n",
            "1000000\n",
            "1000000\n",
            "\n",
            "1000000\n",
            "1000000\n",
            "1000000\n",
            "1000000\n",
            "1000000\n",
            "1000000\n"
          ]
        }
      ],
      "source": [
        "if not LOAD_DATA_FROM_CSV:\n",
        "    print(len(rho))\n",
        "    print(len(epsilon))\n",
        "    print(len(vx))\n",
        "    print(len(vy))\n",
        "    print(len(vz))\n",
        "    print(len(Bx))\n",
        "    print(len(By))\n",
        "    print(len(Bz))\n",
        "    print()\n",
        "    print(len(gxx))\n",
        "    print(len(gxy))\n",
        "    print(len(gxz))\n",
        "    print(len(gyy))\n",
        "    print(len(gyz))\n",
        "    print(len(gzz))"
      ]
    },
    {
      "cell_type": "code",
      "execution_count": 97,
      "metadata": {
        "id": "VMp6XJ6RUZh4"
      },
      "outputs": [],
      "source": [
        "%config InteractiveShell.ast_node_interactivity = \"last_expr_or_assign\""
      ]
    },
    {
      "cell_type": "code",
      "execution_count": 98,
      "metadata": {},
      "outputs": [
        {
          "name": "stdout",
          "output_type": "stream",
          "text": [
            "skipping\n"
          ]
        }
      ],
      "source": [
        "%%script echo skipping\n",
        "\n",
        "plt.hist([np.random.uniform(0, 0.999) for _ in range(n_train_samples)], bins=20)"
      ]
    },
    {
      "cell_type": "code",
      "execution_count": 99,
      "metadata": {},
      "outputs": [
        {
          "data": {
            "text/plain": [
              "(0.3918560943716236,\n",
              " -0.4094593105951265,\n",
              " -1.9243887122321377,\n",
              " 2.6752878418967185,\n",
              " 0.9052120891724464,\n",
              " -1.049930381101429,\n",
              " 1.7751125518811741,\n",
              " -0.904137591302415,\n",
              " -0.3562103728681112,\n",
              " 1.4087616469087938,\n",
              " -1.8350689369166981,\n",
              " -0.08688451663362651,\n",
              " 2.223112634904135,\n",
              " 1.2047556958142467,\n",
              " 2.812743887092302,\n",
              " -1.8022510849997935,\n",
              " 0.24053578120020935,\n",
              " 0.9715309609484404,\n",
              " -1.9406592441198813,\n",
              " -0.17154587279171807,\n",
              " 3.094807010682463,\n",
              " 2.0064420081309775,\n",
              " 0.5586792949364221,\n",
              " -1.8040085233270566,\n",
              " 1.328796256662216,\n",
              " 1.2477073714135218,\n",
              " 0.9049000160803646,\n",
              " 0.896689924373888,\n",
              " -0.9835951825083822,\n",
              " -1.4295729492424836,\n",
              " 1.3458298356902727,\n",
              " 3.0467190242976816,\n",
              " -1.1503458969558609,\n",
              " 1.2079212100823886,\n",
              " 2.768372214537224,\n",
              " 1.205513363769093,\n",
              " 3.238891682687319,\n",
              " 2.3790483114750023,\n",
              " 0.3896787223174467,\n",
              " 1.9550804077021895,\n",
              " 1.056025816612367,\n",
              " -0.6880255877571304,\n",
              " 3.2846410382954234,\n",
              " -0.7092716129745857,\n",
              " -1.2970270880492518,\n",
              " 1.1088463499785401,\n",
              " 0.5428731426063895,\n",
              " 2.183616819291056,\n",
              " 1.6320483245053068,\n",
              " 2.1816782332543845,\n",
              " 2.384500425054175,\n",
              " 1.4399979848842825,\n",
              " 2.2559467932132407,\n",
              " -1.1747106435549004,\n",
              " -0.5265183068549903,\n",
              " -0.3373431873098598,\n",
              " -1.9611054670210475,\n",
              " 0.9293224120590016,\n",
              " -1.9162592166316983,\n",
              " -1.0931976146709412,\n",
              " -1.4124747278358352,\n",
              " 0.22582744559724865,\n",
              " 2.5130581160319956,\n",
              " 2.3928286482340297,\n",
              " 2.963222775800615,\n",
              " -1.753912975871903,\n",
              " 2.586117672117476,\n",
              " -1.6052041472426373,\n",
              " -0.9452844556526991,\n",
              " 1.7694645185756146,\n",
              " 2.2907592477897687,\n",
              " 0.45641187466029587,\n",
              " 2.7856436303928858,\n",
              " 0.7446852600039411,\n",
              " -0.49704119945772507,\n",
              " 2.813493628725439,\n",
              " -1.7867909338237766,\n",
              " -0.12002573986626919,\n",
              " 2.563332972755651,\n",
              " 1.220416917586494,\n",
              " 0.6286653163660745,\n",
              " -1.8676646319262589,\n",
              " -0.88196169051815,\n",
              " -0.09959723199646131,\n",
              " 1.6639743811305117,\n",
              " 0.17128242450848408,\n",
              " -1.4949960087836285,\n",
              " -0.5129399506418024,\n",
              " -0.4903493647711963,\n",
              " 3.052315508913958,\n",
              " -0.44839009686973563,\n",
              " 0.3255068031800823,\n",
              " -0.4703663753988312,\n",
              " 0.2506734515272475,\n",
              " -1.3169394242561925,\n",
              " 1.9850552246982867,\n",
              " 2.142035496291964,\n",
              " -1.238933113950762,\n",
              " -1.9173651857810927,\n",
              " 1.4669627165252175,\n",
              " -0.37542024231307813,\n",
              " 1.6110988079824882,\n",
              " 1.543187606202066,\n",
              " -0.025901024675182516,\n",
              " 0.37554119476313996,\n",
              " -1.2829865171317532,\n",
              " -0.671081452552778,\n",
              " -1.113047775757694,\n",
              " -1.8046890744042505,\n",
              " 0.04330766965958999,\n",
              " -0.3426227250419016,\n",
              " 2.529575343556478,\n",
              " -0.6779431837545438,\n",
              " 1.78928880695292,\n",
              " 1.259830857419165,\n",
              " 2.8296368434097436,\n",
              " -0.49264957881809446,\n",
              " -0.6693795921924897,\n",
              " 2.087640064349114,\n",
              " 2.9486459385484025,\n",
              " -1.851216889135728,\n",
              " 2.3806237061008506,\n",
              " 3.262059795818397,\n",
              " 1.9591587852264896,\n",
              " 2.1851170716864488,\n",
              " -0.386388032303286,\n",
              " -1.4054999070025695,\n",
              " 1.269791025070731,\n",
              " 3.1239082876601048,\n",
              " -1.2510816070884185,\n",
              " 1.7066069049854775,\n",
              " -0.7496653970747695,\n",
              " 2.3751265297116957,\n",
              " -0.9482477695274161,\n",
              " 1.915984579354098,\n",
              " 1.9161205705526316,\n",
              " 1.295554229913368,\n",
              " 1.3152615880287888,\n",
              " 0.20263049493896768,\n",
              " 0.34480478857668073,\n",
              " -0.9526820399049518,\n",
              " -0.478955112394414,\n",
              " 2.6019131654883383,\n",
              " -0.7287913090834497,\n",
              " 3.136113809227914,\n",
              " 2.5167400050029087,\n",
              " -0.21004413931033517,\n",
              " 0.015451865788958852,\n",
              " 0.23209814058367106,\n",
              " 0.9974019956639975,\n",
              " -0.7213330145638144,\n",
              " 0.45492682520237615,\n",
              " 2.91441111729105,\n",
              " -0.46459956346238385,\n",
              " 0.5506840346514257,\n",
              " 0.8096516313899085,\n",
              " -0.7352039838081315,\n",
              " 0.31176936531480104,\n",
              " 0.43408906882357945,\n",
              " 2.74080022207637,\n",
              " 0.03308249806320962,\n",
              " -1.2258112543719377,\n",
              " -0.21388719672231393,\n",
              " 0.4729826326604849,\n",
              " 1.4101168346374813,\n",
              " 3.2254886559581335,\n",
              " 2.7600418985343262,\n",
              " -0.8689161497601239,\n",
              " 1.9650465426949895,\n",
              " -0.24209938367668737,\n",
              " -0.02533593602258377,\n",
              " 1.3914762384056822,\n",
              " 2.708836272918198,\n",
              " -0.33323231383938023,\n",
              " -1.5249147784182981,\n",
              " 3.2039533769542468,\n",
              " 2.8553903567784795,\n",
              " -1.824441102196387,\n",
              " -1.3054959466648572,\n",
              " 1.4353663605429818,\n",
              " -1.2607096234995332,\n",
              " 2.2290392883203385,\n",
              " 2.2490991808381375,\n",
              " -0.21732201987132327,\n",
              " 0.05400728827735479,\n",
              " 0.24511388333260786,\n",
              " -1.8177342856530323,\n",
              " 2.376462456372117,\n",
              " -1.0694154133875617,\n",
              " 2.64297432627873,\n",
              " 3.290556109969784,\n",
              " 0.4227441431654402,\n",
              " 0.9668717344876314,\n",
              " -1.4630715482712189,\n",
              " -0.7820980988303152,\n",
              " 0.38408585542421125,\n",
              " 1.620187561233875,\n",
              " 0.5871872108314742,\n",
              " 0.4739502702485576,\n",
              " -1.6946861423320347,\n",
              " 2.28066568714953,\n",
              " -1.7304640552482844,\n",
              " 1.2095767099973918,\n",
              " 0.3654246060658304,\n",
              " 0.1684260465839449,\n",
              " -1.3538329075723863,\n",
              " 2.061106000395818,\n",
              " 2.7111477967033872,\n",
              " 2.182171964299382,\n",
              " -1.2586469220804766,\n",
              " 1.3414589668838164,\n",
              " 3.1275557286378426,\n",
              " 2.863636973831847,\n",
              " -1.741941916454394,\n",
              " 2.8670027055405107,\n",
              " -1.0092639069056495,\n",
              " 2.518614686625426,\n",
              " -1.7796053516233254,\n",
              " 1.1167017508532053,\n",
              " 0.8347712204016897,\n",
              " -1.9012292234726271,\n",
              " 1.17031749652865,\n",
              " 2.2236554275017655,\n",
              " 1.7769163332742983,\n",
              " 3.0492113241445518,\n",
              " -0.34906015478558206,\n",
              " 2.275605879074538,\n",
              " 1.2780035143038742,\n",
              " 1.582687586236191,\n",
              " 1.6432645757740403,\n",
              " -1.10231484082968,\n",
              " -1.4535441578552923,\n",
              " 1.4001977257264557,\n",
              " 1.7891917819886354,\n",
              " -1.518107219842014,\n",
              " 2.2319477672262424,\n",
              " -1.9265731282896135,\n",
              " 1.1933879295394614,\n",
              " 0.7476453153400318,\n",
              " 0.19221507769997448,\n",
              " 1.6228224653197598,\n",
              " 1.3358890131368355,\n",
              " 1.5227193075512102,\n",
              " 2.270595467385733,\n",
              " 0.7838681836619918,\n",
              " 2.481037090290826,\n",
              " 2.763533121630698,\n",
              " 0.9206335378684316,\n",
              " 0.6248423203812936,\n",
              " 3.086014186131856,\n",
              " -0.38716762406504635,\n",
              " 1.6141590667789618,\n",
              " 2.1030056389585443,\n",
              " 0.3182359493747935,\n",
              " -1.0777769716271792,\n",
              " -1.7212054023249896,\n",
              " 0.5757179197243092,\n",
              " 2.991174879707268,\n",
              " 2.5642462440652576,\n",
              " -0.022830685128984785,\n",
              " -0.09804551368969028,\n",
              " 2.422677021462797,\n",
              " 1.2527472549853744,\n",
              " 2.021603062681433,\n",
              " -0.6149184185281757,\n",
              " -0.9213577781325903,\n",
              " 0.44081431141400795,\n",
              " 0.9086470653693342,\n",
              " 1.5209645097502626,\n",
              " -1.287392236956117,\n",
              " 2.9247675860141795,\n",
              " 2.754151283213454,\n",
              " 0.5305803368262647,\n",
              " 1.0889688126617734,\n",
              " 1.8081256794599452,\n",
              " 2.0888866547925664,\n",
              " -1.3667673263610163,\n",
              " 1.8755190054630577,\n",
              " 0.19103337110685503,\n",
              " 3.163192369340752,\n",
              " -1.3948415342755878,\n",
              " -0.652658794224148,\n",
              " 0.2110121298257206,\n",
              " 1.399168946840815,\n",
              " 2.3526817792936834,\n",
              " -1.3805317866810074,\n",
              " 0.4441662948669949,\n",
              " 0.5141976608039349,\n",
              " 2.5508653033859385,\n",
              " 2.584556859109731,\n",
              " 2.860551895736365,\n",
              " 0.06688554422506998,\n",
              " 2.873951255197401,\n",
              " 0.04783959191721765,\n",
              " 0.033149504174902145,\n",
              " -0.4741273411827114,\n",
              " 0.5169790514377288,\n",
              " 0.28659071747844145,\n",
              " 1.7947359264988756,\n",
              " -1.731209922774253,\n",
              " 1.331438594041407,\n",
              " 1.963707697591174,\n",
              " 2.3566130543601194,\n",
              " -0.830591564493758,\n",
              " 0.8736267508937905,\n",
              " 2.1933551488353213,\n",
              " -0.23775070711785173,\n",
              " 1.9581021586465805,\n",
              " 1.0889938302971758,\n",
              " 2.718828911749724,\n",
              " 1.0427358737162162,\n",
              " 0.8462998215916695,\n",
              " 1.4071224656323222,\n",
              " 2.842110286872045,\n",
              " 2.8246545194398527,\n",
              " 3.1126079197539918,\n",
              " -1.116992450716317,\n",
              " 0.376519360039107,\n",
              " 1.9545046121573035,\n",
              " 3.1526218168837152,\n",
              " -1.2175933956038074,\n",
              " 1.1968564020828203,\n",
              " 2.1759843246466986,\n",
              " 0.12862502749738391,\n",
              " 1.2048625925795164,\n",
              " -1.9050508196931104,\n",
              " 1.036582554819613,\n",
              " 1.3683822165737856,\n",
              " -0.704460365381399,\n",
              " -0.6790265323761422,\n",
              " -0.5083996057339224,\n",
              " 2.978811152241441,\n",
              " 2.110015824064571,\n",
              " 3.250425604054181,\n",
              " 2.1506043342405636,\n",
              " -1.258173638108946,\n",
              " -1.7073166288333794,\n",
              " 3.1333998058484003,\n",
              " 1.591114481608392,\n",
              " -0.7381873913856716,\n",
              " -0.5811800869051837,\n",
              " 1.114109655578818,\n",
              " -1.9225902951433742,\n",
              " 1.209795426697998,\n",
              " 3.0009896619477026,\n",
              " -1.7426752402773185,\n",
              " -0.9645107693802306,\n",
              " 0.6905194529714178,\n",
              " -1.4018663133507312,\n",
              " -1.6120291562461104,\n",
              " 1.9167269783707308,\n",
              " 2.7398331744355593,\n",
              " 0.6672458076385763,\n",
              " -0.900161217631515,\n",
              " -1.3108408364506512,\n",
              " 0.9860903292557648,\n",
              " 0.8145823887691042,\n",
              " -0.79730530037883,\n",
              " -1.3447774719316823,\n",
              " 2.6197253758405825,\n",
              " -1.0781574594692502,\n",
              " -1.3305221866849577,\n",
              " 3.2038744224179423,\n",
              " 1.30956289359737,\n",
              " -0.4574334771567905,\n",
              " -1.7299462845468807,\n",
              " 1.939494030562758,\n",
              " 1.2873945450916278,\n",
              " 3.277530394469909,\n",
              " 2.9326438567237547,\n",
              " 0.43091052359790183,\n",
              " 3.206127323072442,\n",
              " 0.3570151673030342,\n",
              " 1.40416922742862,\n",
              " 1.538217538076331,\n",
              " -0.529947224857682,\n",
              " 0.47159380453824795,\n",
              " 1.8739025887732006,\n",
              " 2.6686708959020384,\n",
              " -1.6893626994352375,\n",
              " 2.4674467218656932,\n",
              " 0.14621728747319507,\n",
              " 2.887662483937203,\n",
              " -0.549235340498702,\n",
              " -1.4338855873589749,\n",
              " 1.6178239358664892,\n",
              " 2.932155148050102,\n",
              " -0.5906382365433951,\n",
              " 2.239292192429872,\n",
              " 1.1962433585903538,\n",
              " -1.0685131187499182,\n",
              " 2.4328601053424164,\n",
              " 1.8360794447080275,\n",
              " -0.5632867080794288,\n",
              " 2.3026945114410564,\n",
              " 2.168434218809569,\n",
              " -1.0333873147210704,\n",
              " 2.1840700769038213,\n",
              " 0.9910609043924383,\n",
              " 2.606712266308759,\n",
              " 2.4547155839452808,\n",
              " 1.3319980261446145,\n",
              " -0.5351316496653298,\n",
              " -0.43410654471971477,\n",
              " -1.4050076560682552,\n",
              " -0.6487873639237998,\n",
              " 2.3009320012577854,\n",
              " -1.1793233491449042,\n",
              " -0.37835222100017574,\n",
              " -0.6726158353473026,\n",
              " -1.704083641096743,\n",
              " 1.1189487551064845,\n",
              " -0.5741880479604409,\n",
              " 0.08418493089388646,\n",
              " -1.7209583699874456,\n",
              " -1.9443561497653319,\n",
              " 3.296244775563771,\n",
              " 3.0693918837758343,\n",
              " 1.530193058128003,\n",
              " -1.1966165341586752,\n",
              " -1.6534743400765746,\n",
              " 2.4558579634200237,\n",
              " 2.625362719354757,\n",
              " -1.498439215890936,\n",
              " 1.8405129247249388,\n",
              " -1.2972909803144295,\n",
              " 1.064385320511796,\n",
              " 2.2958555325975922,\n",
              " -0.2809012671382338,\n",
              " -0.6925612973642195,\n",
              " 1.445959821333095,\n",
              " 2.9979682301156894,\n",
              " 1.72460328337757,\n",
              " -1.1121908709143988,\n",
              " -1.1430673053285183,\n",
              " 0.5271338517019926,\n",
              " 2.883426921426257,\n",
              " -0.6228864254644955,\n",
              " -1.9405275626472354,\n",
              " -0.04198986407891492,\n",
              " -1.316402138901194,\n",
              " 0.6319681948593092,\n",
              " 0.21464957470969903,\n",
              " 2.251420679027329,\n",
              " -0.9853997205708085,\n",
              " 2.1105460220960772,\n",
              " 1.4628190386761002,\n",
              " -1.4920191664961586,\n",
              " 1.4116143148368612,\n",
              " 0.3131307680351818,\n",
              " 0.45425720037514905,\n",
              " -1.360212602696809,\n",
              " 1.9217482608582523,\n",
              " 2.9522247040053644,\n",
              " -0.004912785720083912,\n",
              " -0.5671317981672166,\n",
              " 1.45079489624302,\n",
              " 1.413478848970291,\n",
              " -0.22366534134003557,\n",
              " -1.0450399881498469,\n",
              " 1.3934886557606712,\n",
              " 0.6119447086254106,\n",
              " 0.7322518147281176,\n",
              " 0.6596015760707341,\n",
              " -0.1691334835922027,\n",
              " 1.2875147766805348,\n",
              " 2.903813103859826,\n",
              " 2.5737280156580535,\n",
              " 2.7806891928352924,\n",
              " 1.9732134486954171,\n",
              " 2.3773528751201844,\n",
              " -1.972466740348343,\n",
              " 1.8169747740240072,\n",
              " -1.6485924989004586,\n",
              " -0.9545713625647778,\n",
              " 0.6841928729681892,\n",
              " 0.011033344288944757,\n",
              " -1.441262746806319,\n",
              " 1.4462149399919673,\n",
              " 0.879328545409626,\n",
              " 1.260286545267828,\n",
              " -0.6762878810479123,\n",
              " 2.8311667072873483,\n",
              " 1.917597715839677,\n",
              " -0.3244211020193104,\n",
              " 1.5225029639785412,\n",
              " 2.833791384547725,\n",
              " 0.15699067923231924,\n",
              " 0.7761037914244122,\n",
              " -1.0331552415441547,\n",
              " -0.6467964452739772,\n",
              " -1.6012811157445543,\n",
              " 3.2043528005175634,\n",
              " 1.8977726526357062,\n",
              " 0.5071378055372455,\n",
              " -1.364347822683036,\n",
              " -0.4600067609138203,\n",
              " 1.0326544747500312,\n",
              " -0.7009523311930927,\n",
              " 1.865328200521104,\n",
              " -0.5331797352351277,\n",
              " 1.3690338649294076,\n",
              " -0.22209349566295877,\n",
              " 0.05892002006312902,\n",
              " 0.9645949958243984,\n",
              " 0.1370655161391663,\n",
              " 1.673967017797715,\n",
              " -1.2726474697474437,\n",
              " 2.079772328192142,\n",
              " -1.486714936047626,\n",
              " 1.2477017124329128,\n",
              " 2.188692855345903,\n",
              " -1.5981021089633083,\n",
              " 2.9797642105921662,\n",
              " 2.5540424607070777,\n",
              " 1.1951778281146135,\n",
              " 0.5098826823302018,\n",
              " 0.958702386535542,\n",
              " -0.9931691889855814,\n",
              " -1.1209220406952976,\n",
              " 2.8953045661215215,\n",
              " -0.16364053629501107,\n",
              " -1.8072074141872247,\n",
              " -0.24620201304702571,\n",
              " -1.9351527239263226,\n",
              " 2.4443647960927954,\n",
              " -0.23904173220727465,\n",
              " -0.7995142141413898,\n",
              " 1.526551494330294,\n",
              " 2.112306692745335,\n",
              " -1.9362211182460933,\n",
              " -1.410662303187132,\n",
              " 2.05702664749162,\n",
              " -0.03475695483705743,\n",
              " 2.6944948673053153,\n",
              " -0.2021422765180776,\n",
              " 3.294462929411921,\n",
              " -1.9520164093044032,\n",
              " -1.2683767028211896,\n",
              " -1.5713923173505095,\n",
              " -0.6012453237508215,\n",
              " -1.1915648804179853,\n",
              " 1.723912697419895,\n",
              " -1.3284448734647754,\n",
              " 0.368712466774197,\n",
              " 1.6978551921499534,\n",
              " 2.1879905630281415,\n",
              " 1.3811037641113515,\n",
              " -0.5281414646006406,\n",
              " 0.603915204109275,\n",
              " 1.1592125230950265,\n",
              " 2.0643047135178625,\n",
              " -1.7440222260351863,\n",
              " -1.5712543769791416,\n",
              " -0.49646315289980225,\n",
              " -0.8199572766852077,\n",
              " 1.0733301512533693,\n",
              " 3.2181283962718883,\n",
              " 3.2129592317144056,\n",
              " -1.179232254295955,\n",
              " 2.0970515398819183,\n",
              " -1.0900062720491044,\n",
              " 2.649534681046581,\n",
              " 2.4226666311761234,\n",
              " -0.4734230618701074,\n",
              " 1.2828763306060131,\n",
              " -1.5227776984137575,\n",
              " -1.771713359235317,\n",
              " 0.6118589441102591,\n",
              " 1.9947403661830627,\n",
              " -0.07910682108493305,\n",
              " -1.14310678084103,\n",
              " -1.584046935393889,\n",
              " -1.9481909789521132,\n",
              " 3.2309754738150955,\n",
              " -1.7624979384273958,\n",
              " 0.9891470477915614,\n",
              " 2.391945960271184,\n",
              " 2.6292071383807283,\n",
              " 1.7590072525186762,\n",
              " -0.04721632260830666,\n",
              " 0.9060601862893476,\n",
              " -0.19634687324578937,\n",
              " 0.6149639925984527,\n",
              " 2.8056853940855246,\n",
              " 0.49119485951715136,\n",
              " 3.2470373905108216,\n",
              " -1.7734167018336366,\n",
              " 0.8077610107874973,\n",
              " 1.7447933156078879,\n",
              " -1.3590766246880461,\n",
              " 1.0782777681388889,\n",
              " 0.6676579210238534,\n",
              " 1.1390746324912882,\n",
              " 1.666225893929965,\n",
              " 1.1186295958854506,\n",
              " 1.7182307942229476,\n",
              " 0.8073810154380143,\n",
              " 0.14208735315205168,\n",
              " 2.5528206217260827,\n",
              " 0.6048977158701989,\n",
              " -0.8685917940013459,\n",
              " 2.755589142252105,\n",
              " 2.906687294101596,\n",
              " -0.14110494411085495,\n",
              " 3.252048918645025,\n",
              " 1.509502771928675,\n",
              " 2.570584691153477,\n",
              " 0.7219160435657588,\n",
              " 3.189724018029376,\n",
              " -0.9763040451113014,\n",
              " 1.2917275207922851,\n",
              " 3.2700581708563146,\n",
              " 2.991936137190722,\n",
              " 0.4120773323094573,\n",
              " 0.7645966231036683,\n",
              " -1.691946738385878,\n",
              " 0.8499325799042077,\n",
              " -0.5816509103702687,\n",
              " -0.27507122674780815,\n",
              " -1.9684241298370206,\n",
              " 2.306782929673836,\n",
              " -1.193515609175932,\n",
              " 0.936354637069837,\n",
              " 2.3556030215485864,\n",
              " -1.9712663282987812,\n",
              " -1.2665812481952354,\n",
              " 1.1007290469893913,\n",
              " 2.0311013775026803,\n",
              " 3.0725841678749024,\n",
              " 2.4524967239471076,\n",
              " 1.0390897204971057,\n",
              " -1.453026786425909,\n",
              " -1.6601547396802292,\n",
              " 0.234773705573458,\n",
              " 0.9286909137592434,\n",
              " 1.8971703414731875,\n",
              " -1.4141815010062508,\n",
              " 0.6124260032216098,\n",
              " 1.7807370134541722,\n",
              " -0.21366241119043483,\n",
              " -1.7690979424147593,\n",
              " 0.6095802997809865,\n",
              " -1.0381942159924076,\n",
              " -0.4908962153014733,\n",
              " 0.9263115888190234,\n",
              " 1.6004388808343948,\n",
              " 2.0261691532322192,\n",
              " -0.29781391681056935,\n",
              " 3.1736434394590862,\n",
              " 0.6026536445339761,\n",
              " 3.1630846356175146,\n",
              " 0.3526622366704646,\n",
              " -1.628768537381338,\n",
              " -0.9378038409496949,\n",
              " -0.8205603706737508,\n",
              " -0.15510034569289322,\n",
              " -1.3320071010769303,\n",
              " 1.1368757076700176,\n",
              " 1.9191764470769623,\n",
              " -1.9049778128247177,\n",
              " -1.2565974757109464,\n",
              " 0.5514376695302543,\n",
              " -1.1191606477766647,\n",
              " -0.9126093246512075,\n",
              " 2.1687340847157888,\n",
              " 2.416988896201656,\n",
              " 0.8536254165409178,\n",
              " 3.039875357561865,\n",
              " 0.6815728708837079,\n",
              " 2.8574525253148213,\n",
              " -1.7499998196247963,\n",
              " -0.272272835695351,\n",
              " 1.1830866603098564,\n",
              " 1.8961466631935728,\n",
              " 2.9315839522071556,\n",
              " 2.8407013635135403,\n",
              " -1.411869714513009,\n",
              " 2.2872612230842613,\n",
              " -1.778064188660725,\n",
              " 1.1007078353911686,\n",
              " -1.6629408997649695,\n",
              " -1.0925856599364985,\n",
              " 2.776501944073634,\n",
              " 3.213617307940625,\n",
              " -1.9969075192102692,\n",
              " -1.3632614632375546,\n",
              " -1.7936419417777045,\n",
              " 3.2431486365077618,\n",
              " -1.5674481819203026,\n",
              " 2.1124235333945256,\n",
              " 2.15830479712716,\n",
              " 3.0132101593350065,\n",
              " -0.6618016975059609,\n",
              " 0.9092293479340237,\n",
              " 1.0304477580757636,\n",
              " -1.9778140294394213,\n",
              " -1.345764706609133,\n",
              " 2.6370751093051723,\n",
              " 0.8248817875835468,\n",
              " 0.5965436272941242,\n",
              " -0.8452184828814253,\n",
              " -1.1483731140460378,\n",
              " 2.898950845973255,\n",
              " -1.1522893121288083,\n",
              " 0.28344654609147835,\n",
              " 2.138922326627428,\n",
              " -1.2979528195008707,\n",
              " 2.854277326161588,\n",
              " 0.566660247746047,\n",
              " 1.134492736548681,\n",
              " 0.794833242981495,\n",
              " -1.7960779695964955,\n",
              " 1.4467322465182275,\n",
              " -1.7833882790310993,\n",
              " 2.7522392138713734,\n",
              " 0.6243629543408384,\n",
              " 0.7307010069914752,\n",
              " 3.2483188829218115,\n",
              " -0.2719548568505241,\n",
              " -0.3719002660008066,\n",
              " -1.1985418741071494,\n",
              " 2.4785938066569875,\n",
              " -1.9509697886678465,\n",
              " -1.6887646262575364,\n",
              " 1.4038897602813467,\n",
              " 2.923433401056738,\n",
              " -1.863662108584529,\n",
              " 1.8862578484267898,\n",
              " 3.0330872438584393,\n",
              " -1.0657316123697276,\n",
              " 1.086658901346257,\n",
              " 0.568725906714707,\n",
              " -0.2670058436833542,\n",
              " 2.504246627872252,\n",
              " -1.8795672122645921,\n",
              " 2.511761157394374,\n",
              " 0.2844112468848472,\n",
              " -1.9697882000242246,\n",
              " 1.4630046438984161,\n",
              " 2.6238670307632495,\n",
              " 3.111173312946745,\n",
              " 2.001123705420045,\n",
              " 0.1633500850046552,\n",
              " 2.925447600325347,\n",
              " 2.7127935154371903,\n",
              " 0.19375475544546905,\n",
              " 0.8902838787505982,\n",
              " 0.7893229534097581,\n",
              " 2.3810512490976885,\n",
              " -0.23222185909073234,\n",
              " 2.2543842418082347,\n",
              " -0.12544871203707442,\n",
              " 2.1275564151119966,\n",
              " 1.6535343974552652,\n",
              " 1.812974002543645,\n",
              " -1.3611338496332626,\n",
              " 3.1712563216952105,\n",
              " 2.821109030750164,\n",
              " -0.47193773265311223,\n",
              " 1.3212817425006054,\n",
              " 2.8935408763028905,\n",
              " -1.394112698314793,\n",
              " 2.172425286806247,\n",
              " 0.3701096429873254,\n",
              " 2.9668998031272364,\n",
              " 0.14387447244365958,\n",
              " 2.029989976439329,\n",
              " 1.3313125345576986,\n",
              " 2.293913998865184,\n",
              " 1.0164716379620988,\n",
              " -1.6020127196412512,\n",
              " -0.35660320989886474,\n",
              " 1.1510944607807838,\n",
              " -1.721836508917039,\n",
              " 1.296637765744253,\n",
              " 2.628674566007291,\n",
              " 1.6364017731618858,\n",
              " 0.2113489234091941,\n",
              " 1.4695162443744634,\n",
              " -1.6480084084469377,\n",
              " 1.3523154709800105,\n",
              " 3.133158791974288,\n",
              " 0.3252787527057741,\n",
              " -1.6810008115213189,\n",
              " 3.1470144882944204,\n",
              " -1.2758842020478278,\n",
              " -0.7992253472073763,\n",
              " 2.347006077495811,\n",
              " 3.25719936556362,\n",
              " 2.6630355890630497,\n",
              " 3.191211869487855,\n",
              " 0.4494248413875779,\n",
              " -1.590791123687809,\n",
              " -0.7420054904382196,\n",
              " 2.5127750866784524,\n",
              " 2.9748352349104037,\n",
              " -0.87815039295842,\n",
              " 3.2803113473809375,\n",
              " 2.5987969529042756,\n",
              " 1.0488094399845864,\n",
              " -1.1788396280832805,\n",
              " -0.5520718411062033,\n",
              " 3.2151970004607877,\n",
              " 1.4824466598386121,\n",
              " 0.1264756785948986,\n",
              " 0.45454280622826015,\n",
              " 0.920606681530451,\n",
              " -0.9885327668869082,\n",
              " 1.9912731500611298,\n",
              " 0.8373526903969593,\n",
              " 0.6864818173258405,\n",
              " 2.934322169245511,\n",
              " -0.2301323747404167,\n",
              " 1.143347682715218,\n",
              " 0.27447411512807873,\n",
              " 2.566883656663409,\n",
              " -1.9535317447398597,\n",
              " -1.1357332122611505,\n",
              " -0.21911789540358995,\n",
              " 1.7111809633089186,\n",
              " 0.6834955017400817,\n",
              " 1.639889674620818,\n",
              " 1.8947483889695507,\n",
              " -0.8787948872646236,\n",
              " 0.6986307788044934,\n",
              " 1.756266015978019,\n",
              " 1.1005111393685207,\n",
              " -0.30256419904047194,\n",
              " 0.947120561100216,\n",
              " 2.190211710938672,\n",
              " 0.6050779743986716,\n",
              " 2.7954238056393166,\n",
              " 1.655502329646617,\n",
              " 2.6648246718011093,\n",
              " 0.3986282330512734,\n",
              " -1.4056555542304567,\n",
              " 3.141687395250485,\n",
              " 1.4022861336336483,\n",
              " -0.8261539306812824,\n",
              " 1.3113769591969522,\n",
              " 2.165892659125885,\n",
              " 1.0508341238523582,\n",
              " -0.15137649859453184,\n",
              " 0.6114096003303993,\n",
              " 1.199807879944217,\n",
              " -1.0442671425551988,\n",
              " 0.668521343100196,\n",
              " 2.360420509334074,\n",
              " -0.8022846713200842,\n",
              " -0.4465610756516589,\n",
              " 0.45932008957616377,\n",
              " 1.2433051507884798,\n",
              " -1.950743666853792,\n",
              " 1.0008826240118789,\n",
              " -1.5759403997463386,\n",
              " 1.1180005975947354,\n",
              " 2.777763211870777,\n",
              " 0.2793635291000691,\n",
              " -1.826845071942054,\n",
              " 0.530714589155652,\n",
              " -0.4561235965205952,\n",
              " 2.081035386966601,\n",
              " 1.3624339476001324,\n",
              " 3.164025847306794,\n",
              " -0.8756593735412386,\n",
              " 0.8572214842753514,\n",
              " -1.1202582279731201,\n",
              " -1.024778935452347,\n",
              " -0.1927675920070666,\n",
              " -1.6724511205121741,\n",
              " 2.3708851678929364,\n",
              " -0.1759632872962802,\n",
              " 0.0658070031389073,\n",
              " -1.8047263211873434,\n",
              " 2.7169615958065547,\n",
              " 2.103374311875692,\n",
              " -1.4442122227809682,\n",
              " -0.24960002290908112,\n",
              " -0.9552388592909242,\n",
              " 1.271640227986857,\n",
              " -1.6742307819568676,\n",
              " 0.3482602201982501,\n",
              " 2.5239881360420906,\n",
              " -1.4773880927608884,\n",
              " 0.5630013092217578,\n",
              " 2.2003590794399397,\n",
              " -0.18469902891566692,\n",
              " 1.585717888123714,\n",
              " 0.1955370835175958,\n",
              " -1.4828708076363017,\n",
              " 2.2865189287841927,\n",
              " 1.708996090833594,\n",
              " -0.22114043702248254,\n",
              " 1.5629217137312401,\n",
              " 0.9126520486318355,\n",
              " -0.3997111617425506,\n",
              " -1.7532645203481263,\n",
              " -1.6814493676709956,\n",
              " 1.154289847454999,\n",
              " 1.6421969247470156,\n",
              " 1.8365368329990335,\n",
              " 2.0705887818244353,\n",
              " -1.8005000978915067,\n",
              " 2.5814733588838434,\n",
              " -0.8415298943784795,\n",
              " 0.3161170018519468,\n",
              " 2.6511752729129947,\n",
              " 2.4858734441864794,\n",
              " 0.6245821011098962,\n",
              " 0.5551508800443394,\n",
              " 2.7726752096336797,\n",
              " 1.3808647184711393,\n",
              " -1.822664714462074,\n",
              " 2.7697724172966582,\n",
              " -1.0630535294375383,\n",
              " 0.1158563315060448,\n",
              " 0.2325508447214233,\n",
              " 0.573755685188527,\n",
              " 0.37108657477250695,\n",
              " -1.4426887631579286,\n",
              " 0.30012633518206444,\n",
              " 2.1488938027611733,\n",
              " -1.9156545704946712,\n",
              " 2.568705707308764,\n",
              " 3.0892998964251683,\n",
              " 2.762882402325662,\n",
              " 1.5696496396114439,\n",
              " 0.10728484338894884,\n",
              " 2.132696532321221,\n",
              " -0.9932137772423997,\n",
              " -0.31345096440459463,\n",
              " 1.64670388419936,\n",
              " -0.5374254399066363,\n",
              " 2.097071799415729,\n",
              " -1.9391154301045617,\n",
              " 1.9026490387849115,\n",
              " 0.7318422050735425,\n",
              " 2.6734843315205534,\n",
              " 3.2197180559417093,\n",
              " 1.4958058939282917,\n",
              " 2.951470092849502,\n",
              " -0.9153104587066008,\n",
              " -0.07097795574712529,\n",
              " -1.8609831178019067,\n",
              " 2.285156296784482,\n",
              " -0.4029499560455927,\n",
              " 1.4468460278865405,\n",
              " 0.6852157764254501,\n",
              " 0.26264785166744353,\n",
              " 2.816458029659584,\n",
              " 3.0328214331810273,\n",
              " -1.0769621149441806,\n",
              " -0.9721270732590812,\n",
              " 2.7934452692822935,\n",
              " -0.0684159617418918,\n",
              " -1.5729057564202713,\n",
              " -1.2003882307136091,\n",
              " -1.4453948097302958,\n",
              " 2.9677456889958744,\n",
              " 2.278460487239986,\n",
              " 0.5178917862761581,\n",
              " -0.57391220559825,\n",
              " 0.6045087955779116,\n",
              " -0.726952495524873,\n",
              " -1.6629437573211732,\n",
              " 1.541566332133784,\n",
              " 2.1662665104278718,\n",
              " -1.6287880840887832,\n",
              " 2.506174641265174,\n",
              " 1.6336708086440597,\n",
              " 0.11079382265867155,\n",
              " 0.9811075254518209,\n",
              " 1.9504370528986232,\n",
              " 0.6719460380321771,\n",
              " 2.9458990899858977,\n",
              " -1.9901282472985091,\n",
              " 1.8939420546279129,\n",
              " -0.9019083410236444,\n",
              " -1.2767729430787509,\n",
              " 0.932722260542322,\n",
              " 0.4315800322025818,\n",
              " 2.1507683351855436,\n",
              " -1.242223702341314,\n",
              " 2.4213775458275775,\n",
              " 2.4956677608482982,\n",
              " 0.648144404891672,\n",
              " -0.4876359049897545,\n",
              " 0.936489679152134,\n",
              " -0.7766275378341985,\n",
              " 1.2577277634408985,\n",
              " 0.989202274833973,\n",
              " 2.4422002445110147,\n",
              " -0.6170095207657089,\n",
              " -0.9913718076721274,\n",
              " 2.792394439967235,\n",
              " 2.6490002077423522,\n",
              " 1.6077259570601297,\n",
              " 1.90401874840787,\n",
              " -1.5929651006522065,\n",
              " ...)"
            ]
          },
          "execution_count": 99,
          "metadata": {},
          "output_type": "execute_result"
        }
      ],
      "source": [
        "%%script echo skipping\n",
        "\n",
        "epsilon"
      ]
    },
    {
      "attachments": {},
      "cell_type": "markdown",
      "metadata": {},
      "source": [
        "The reason the sampling is not uniformly distributed in the following plots is due to the resampling and the fact that we certain values of e.g. velocity are more likely to violate the speed of light constraint than others."
      ]
    },
    {
      "cell_type": "code",
      "execution_count": 100,
      "metadata": {
        "colab": {
          "base_uri": "https://localhost:8080/",
          "height": 409
        },
        "id": "E5YFdqKjUZh5",
        "outputId": "fe67d113-f369-495f-9aba-201c71058eb7"
      },
      "outputs": [
        {
          "data": {
            "image/png": "[encoded data removed]",
            "text/plain": [
              "<Figure size 2000x1600 with 14 Axes>"
            ]
          },
          "metadata": {},
          "output_type": "display_data"
        }
      ],
      "source": [
        "#%%script echo skipping\n",
        "\n",
        "if not LOAD_DATA_FROM_CSV:\n",
        "    def plot_histogram(data, xlabel, ylabel, position, bins=20, xlog_scale=False, ylog_scale=False):\n",
        "        plt.subplot(4, 5, position)\n",
        "        plt.hist(data, bins=bins)\n",
        "        plt.xlabel(xlabel)\n",
        "        plt.ylabel(ylabel)\n",
        "        if xlog_scale: # Setting does not work expected for epsilon.\n",
        "            plt.xscale(\"log\")\n",
        "        if ylog_scale: # Setting does not work expected for epsilon.\n",
        "            plt.yscale(\"log\")\n",
        "\n",
        "    # Plotting the histograms of rho, vx, epsilon, b0, b1, b2, and b3\n",
        "    bins = 20\n",
        "    plt.figure(figsize=(20, 16))\n",
        "\n",
        "    plot_histogram(rho, \"rho\", \"Frequency\", 1, bins=bins)\n",
        "    plot_histogram(epsilon, \"epsilon\", \"Frequency\", 2, bins=bins)\n",
        "    plot_histogram(vx, \"vx\", \"Frequency\", 3, bins=bins)\n",
        "    plot_histogram(vy, \"vy\", \"Frequency\", 4, bins=bins)\n",
        "    plot_histogram(vz, \"vz\", \"Frequency\", 5, bins=bins)\n",
        "    plot_histogram(Bx, \"Bx\", \"Frequency\", 6, bins=bins)\n",
        "    plot_histogram(By, \"By\", \"Frequency\", 7, bins=bins)\n",
        "    plot_histogram(Bz, \"Bz\", \"Frequency\", 8, bins=bins)\n",
        "\n",
        "    # Plot these\n",
        "    plot_histogram(gxx, \"gxx\", \"Frequency\", 9, bins=bins)\n",
        "    plot_histogram(gxy, \"gxy\", \"Frequency\", 10, bins=bins)\n",
        "    plot_histogram(gxz, \"gxz\", \"Frequency\", 11, bins=bins)\n",
        "    plot_histogram(gyy, \"gyy\", \"Frequency\", 12, bins=bins)\n",
        "    plot_histogram(gyz, \"gyz\", \"Frequency\", 13, bins=bins)\n",
        "    plot_histogram(gzz, \"gzz\", \"Frequency\", 14, bins=bins)\n",
        "\n",
        "\n",
        "    plt.suptitle(\"Primitive variables and metric\")\n",
        "    plt.tight_layout()\n",
        "    plt.show()\n"
      ]
    },
    {
      "cell_type": "code",
      "execution_count": 101,
      "metadata": {},
      "outputs": [],
      "source": [
        "%config InteractiveShell.ast_node_interactivity = \"last_expr_or_assign\""
      ]
    },
    {
      "cell_type": "code",
      "execution_count": 102,
      "metadata": {},
      "outputs": [
        {
          "data": {
            "image/png": "[encoded data removed]",
            "text/plain": [
              "<Figure size 1600x1600 with 14 Axes>"
            ]
          },
          "metadata": {},
          "output_type": "display_data"
        }
      ],
      "source": [
        "#%%script echo skipping\n",
        "\n",
        "# Variable names\n",
        "variable_names = [\"D\", \"Sx\", \"Sy\", \"Sz\", \"tau\", \"Bconsx\", \"Bconsy\", \"Bconsz\", \"gxx\", \"gxy\", \"gxz\", \"gyy\", \"gyz\", \"gzz\"]\n",
        "\n",
        "# Plotting histograms of the input variables before z-score normalization\n",
        "plt.figure(figsize=(16, 16))\n",
        "plt.suptitle('Histograms of input variables before (or without at all) z-score normalization', y=1.03)\n",
        "\n",
        "for i in range(N_INPUTS):\n",
        "    plt.subplot(7, 2, i+1)\n",
        "    data = x_train[:, i].cpu().numpy() # Convert tensor to numpy array for percentile calculation\n",
        "    lower_bound, upper_bound = np.percentile(data, [1, 100]) # NOTE: Use this instead to visualize all the data.\n",
        "    # lower_bound, upper_bound = np.percentile(data, [1, 90]) # Calculate 1st and 99th percentile\n",
        "\n",
        "    plt.hist(data, bins=50, range=(lower_bound, upper_bound)) # Set range to the calculated percentile range\n",
        "    plt.xlabel(variable_names[i])\n",
        "    plt.xlim(lower_bound, upper_bound) # Set the x limit to match the range of the histogram\n",
        "\n",
        "plt.subplots_adjust(hspace=0.4, wspace=0.4)\n",
        "plt.show()\n",
        "\n",
        "# Same plotting but for the test data. Adjust the percentile range as needed to zoom in.\n",
        "# plt.figure(figsize=(16, 16))\n",
        "# plt.suptitle('Histograms of input variables before (or without at all) z-score normalization (test data)', y=1.03)\n",
        "\n",
        "# for i in range(14):\n",
        "#     plt.subplot(7, 2, i+1)\n",
        "#     data = x_test[:, i].cpu().numpy() # Convert tensor to numpy array for percentile calculation\n",
        "#     #lower_bound, upper_bound = np.percentile(data, [1, 100]) # NOTE: Use this instead to visualize all the data.\n",
        "#     lower_bound, upper_bound = np.percentile(data, [1, 99]) # Use this to zoom in.\n",
        "\n",
        "#     plt.hist(data, bins=50, range=(lower_bound, upper_bound)) # Set range to the calculated percentile range\n",
        "#     plt.xlabel(variable_names[i])\n",
        "#     plt.xlim(lower_bound, upper_bound) # Set the x limit to match the range of the histogram\n",
        "\n",
        "# plt.subplots_adjust(hspace=0.4, wspace=0.4)\n",
        "# plt.show()\n",
        "\n"
      ]
    },
    {
      "attachments": {},
      "cell_type": "markdown",
      "metadata": {},
      "source": [
        "### Data normalization"
      ]
    },
    {
      "cell_type": "code",
      "execution_count": 103,
      "metadata": {},
      "outputs": [
        {
          "name": "stdout",
          "output_type": "stream",
          "text": [
            "Summary statistics of input variables before z-score normalization\n",
            "tensor([[ 2.2548e-06,  1.0415e+03,  2.2803e+00,  1.6740e+00,  4.4419e+00],\n",
            "        [-5.6014e+05,  1.5340e+06,  4.2534e+01,  2.1980e+01,  2.3187e+03],\n",
            "        [-6.2758e+05,  5.0279e+05,  3.9872e+01,  2.2062e+01,  1.3792e+03],\n",
            "        [-4.1468e+05,  1.6725e+06,  4.1173e+01,  2.2018e+01,  2.2596e+03],\n",
            "        [-7.5724e+05,  2.2202e+06,  9.7448e+01,  6.9832e+01,  3.4061e+03],\n",
            "        [-1.1348e+01,  1.1350e+01,  6.8041e-03,  1.4304e-02,  5.7365e+00],\n",
            "        [-1.1371e+01,  1.1279e+01, -1.4979e-02, -1.1212e-02,  5.7380e+00],\n",
            "        [-1.1287e+01,  1.1343e+01, -4.1669e-03, -4.8226e-03,  5.7309e+00],\n",
            "        [ 9.0000e-01,  1.1000e+00,  9.9863e-01,  9.9799e-01,  5.7698e-02],\n",
            "        [ 2.0099e-07,  1.0000e-01,  4.9558e-02,  4.9332e-02,  2.8901e-02],\n",
            "        [ 8.7705e-08,  1.0000e-01,  4.9574e-02,  4.9359e-02,  2.8869e-02],\n",
            "        [ 9.0000e-01,  1.1000e+00,  9.9869e-01,  9.9811e-01,  5.7704e-02],\n",
            "        [ 8.5523e-08,  9.9999e-02,  4.9567e-02,  4.9391e-02,  2.8874e-02],\n",
            "        [ 9.0000e-01,  1.1000e+00,  9.9863e-01,  9.9789e-01,  5.7686e-02]])\n"
          ]
        }
      ],
      "source": [
        "# Computing summary statistics of the input variables before and after z-score normalization\n",
        "print('Summary statistics of input variables before z-score normalization')\n",
        "print(torch.stack([torch.min(x_train, dim=0).values, torch.max(x_train, dim=0).values, torch.nanmean(x_train, dim=0), torch.median(x_train, dim=0).values, torch.std(x_train, dim=0)], dim=1))"
      ]
    },
    {
      "attachments": {},
      "cell_type": "markdown",
      "metadata": {
        "id": "xTEmkR1SUZh7"
      },
      "source": [
        "Perform z-score normalization"
      ]
    },
    {
      "cell_type": "code",
      "execution_count": 104,
      "metadata": {},
      "outputs": [],
      "source": [
        "%config InteractiveShell.ast_node_interactivity = \"all\""
      ]
    },
    {
      "cell_type": "code",
      "execution_count": 105,
      "metadata": {
        "id": "yPOv6DxhUZh7"
      },
      "outputs": [],
      "source": [
        "if ZSCORE_NORMALIZATION:\n",
        "    \n",
        "    # TODO: Add magnetic field variables to the normalization if I decide to use the old code that is commented out here.\n",
        "    # # Computing the median of each input variable from the training set using torch.nanmedian function\n",
        "    # D_median = torch.nanmedian(x_train[:, 0])\n",
        "    # Sx_median = torch.nanmedian(x_train[:, 1])\n",
        "    # Sy_median = torch.nanmedian(x_train[:, 2])\n",
        "    # Sz_median = torch.nanmedian(x_train[:, 3])\n",
        "    # tau_median = torch.nanmedian(x_train[:, 4])\n",
        "\n",
        "    # # Computing the standard deviation of each input variable from the training set using torch.std function with a boolean mask to ignore nan values\n",
        "    # D_std = torch.std(x_train[~torch.isnan(x_train[:, 0]), 0])\n",
        "    # Sx_std = torch.std(x_train[~torch.isnan(x_train[:, 1]), 1])\n",
        "    # Sy_std = torch.std(x_train[~torch.isnan(x_train[:, 2]), 2])\n",
        "    # Sz_std = torch.std(x_train[~torch.isnan(x_train[:, 3]), 3])\n",
        "    # tau_std = torch.std(x_train[~torch.isnan(x_train[:, 4]), 4])\n",
        "\n",
        "\n",
        "    # # Applying z-score normalization to both train and test sets using the statistics from the training set\n",
        "    # x_train[:, 0] = torch.sub(x_train[:, 0], D_median).div(D_std)\n",
        "    # x_train[:, 1] = torch.sub(x_train[:, 1], Sx_median).div(Sx_std)\n",
        "    # x_train[:, 2] = torch.sub(x_train[:, 2], Sy_median).div(Sy_std)\n",
        "    # x_train[:, 3] = torch.sub(x_train[:, 3], Sz_median).div(Sz_std)\n",
        "    # x_train[:, 4] = torch.sub(x_train[:, 4], tau_median).div(tau_std)\n",
        "\n",
        "    # x_test[:, 0] = torch.sub(x_test[:, 0], D_median).div(D_std)\n",
        "    # x_test[:, 1] = torch.sub(x_test[:, 1], Sx_median).div(Sx_std)\n",
        "    # x_test[:, 2] = torch.sub(x_test[:, 2], Sy_median).div(Sy_std)\n",
        "    # x_test[:, 3] = torch.sub(x_test[:, 3], Sz_median).div(Sz_std)\n",
        "    # x_test[:, 4] = torch.sub(x_test[:, 4], tau_median).div(tau_std)\n",
        "\n",
        "    # Computing the mean and standard deviation of each column\n",
        "    mean = x_train.mean(dim=0)\n",
        "    std = x_train.std(dim=0)\n",
        "\n",
        "    # Applying z-score normalization\n",
        "    x_train = (x_train - mean) / std\n",
        "    # Use the same mean and std from the training data as we don't want test data leakage.\n",
        "    x_test = (x_test - mean) / std\n",
        "\n"
      ]
    },
    {
      "attachments": {},
      "cell_type": "markdown",
      "metadata": {},
      "source": [
        "Plotting the histograms of the input data after normalization if z-score normalization was performed."
      ]
    },
    {
      "cell_type": "code",
      "execution_count": 106,
      "metadata": {},
      "outputs": [],
      "source": [
        "%config InteractiveShell.ast_node_interactivity = \"last_expr_or_assign\""
      ]
    },
    {
      "cell_type": "code",
      "execution_count": 107,
      "metadata": {},
      "outputs": [],
      "source": [
        "if not LOAD_DATA_FROM_CSV:\n",
        "    if ZSCORE_NORMALIZATION:\n",
        "        # Variable names\n",
        "        variable_names = [\"D\", \"Sx\", \"Sy\", \"Sz\", \"tau\", \"Bconsx\", \"Bconsy\", \"Bconsz\", \"gxx\", \"gxy\", \"gxz\", \"gyy\", \"gyz\", \"gzz\"]\n",
        "\n",
        "        # Plotting histograms of the input variables before z-score normalization\n",
        "        plt.figure(figsize=(16, 16))\n",
        "        plt.suptitle('Histograms of input variables before (or without at all) z-score normalization', y=1.03)\n",
        "\n",
        "        for i in range(N_INPUTS):\n",
        "            plt.subplot(7, 2, i+1)\n",
        "            data = x_train[:, i].cpu().numpy() # Convert tensor to numpy array for percentile calculation\n",
        "            lower_bound, upper_bound = np.percentile(data, [1, 100]) # NOTE: Use this instead to visualize all the data.\n",
        "            # lower_bound, upper_bound = np.percentile(data, [1, 90]) # Calculate 1st and 99th percentile\n",
        "\n",
        "            plt.hist(data, bins=50, range=(lower_bound, upper_bound)) # Set range to the calculated percentile range\n",
        "            plt.xlabel(variable_names[i])\n",
        "            plt.xlim(lower_bound, upper_bound) # Set the x limit to match the range of the histogram\n",
        "\n",
        "        plt.subplots_adjust(hspace=0.4, wspace=0.4)\n",
        "        plt.show()"
      ]
    },
    {
      "cell_type": "code",
      "execution_count": 108,
      "metadata": {},
      "outputs": [],
      "source": [
        "if ZSCORE_NORMALIZATION:\n",
        "    # Computing summary statistics of the input variables after z-score normalization\n",
        "    print('Summary statistics of input variables after z-score normalization')\n",
        "    print(torch.stack([torch.min(x_train, dim=0).values, torch.max(x_train, dim=0).values, torch.mean(x_train, dim=0), torch.median(x_train, dim=0).values, torch.std(x_train, dim=0)], dim=1))\n"
      ]
    },
    {
      "attachments": {},
      "cell_type": "markdown",
      "metadata": {},
      "source": [
        "### Visualizing input data and labels"
      ]
    },
    {
      "cell_type": "code",
      "execution_count": 109,
      "metadata": {},
      "outputs": [
        {
          "data": {
            "text/plain": [
              "tensor([ 1.3823, -1.6855,  1.3714,  ...,  7.5553,  0.5781,  5.5069])"
            ]
          },
          "execution_count": 109,
          "metadata": {},
          "output_type": "execute_result"
        }
      ],
      "source": [
        "x_train\n",
        "y_train\n",
        "x_val\n",
        "y_val\n",
        "x_test\n",
        "y_test"
      ]
    },
    {
      "attachments": {},
      "cell_type": "markdown",
      "metadata": {
        "colab": {
          "base_uri": "https://localhost:8080/",
          "height": 407
        },
        "id": "E96p_MsOUZh9",
        "outputId": "4b95bad0-8f3a-4364-eed1-008e0ce2a5e3"
      },
      "source": [
        "Checking if our output is always positive ~~by plotting a histogram of y_train and y_test tensors~~"
      ]
    },
    {
      "cell_type": "code",
      "execution_count": 110,
      "metadata": {},
      "outputs": [
        {
          "name": "stdout",
          "output_type": "stream",
          "text": [
            "tensor(True)\n"
          ]
        }
      ],
      "source": [
        "import torch\n",
        "\n",
        "# Create a sample tensor\n",
        "tensor = torch.randn(80000, 14)  # Assuming a tensor of shape [80000, 14]\n",
        "tensor\n",
        "\n",
        "\n",
        "# Check if any element is negative\n",
        "any_negative = torch.any(tensor < 0)\n",
        "\n",
        "# Print the result\n",
        "print(any_negative)\n"
      ]
    },
    {
      "cell_type": "code",
      "execution_count": 111,
      "metadata": {},
      "outputs": [
        {
          "data": {
            "text/plain": [
              "tensor(True)"
            ]
          },
          "execution_count": 111,
          "metadata": {},
          "output_type": "execute_result"
        }
      ],
      "source": [
        "y_train.shape\n",
        "any_negative = torch.any(y_train < 0)\n",
        "any_negative\n",
        "\n",
        "y_test.shape\n",
        "any_negative = torch.any(y_test < 0)\n",
        "any_negative\n",
        "\n",
        "x_train.shape\n",
        "any_negative = torch.any(x_train < 0)\n",
        "any_negative"
      ]
    },
    {
      "cell_type": "code",
      "execution_count": 112,
      "metadata": {},
      "outputs": [
        {
          "data": {
            "image/png": "[encoded data removed]",
            "text/plain": [
              "<Figure size 800x400 with 3 Axes>"
            ]
          },
          "metadata": {},
          "output_type": "display_data"
        }
      ],
      "source": [
        "#%%script echo skipping\n",
        "\n",
        "plt.figure(figsize=(8, 4))\n",
        "plt.subplot(1, 3, 1)\n",
        "plt.hist(y_train.cpu().numpy(), bins=100) # must be cpu here.\n",
        "plt.xlabel(\"y_train\")\n",
        "plt.ylabel(\"Frequency\")\n",
        "plt.xscale(\"log\")\n",
        "plt.subplot(1, 3, 2)\n",
        "plt.hist(y_val.cpu().numpy(), bins=100) # must be cpu here\n",
        "plt.xlabel(\"y_val\")\n",
        "plt.ylabel(\"Frequency\")\n",
        "plt.xscale(\"log\")\n",
        "plt.tight_layout()\n",
        "plt.subplot(1, 3, 3)\n",
        "plt.hist(y_test.cpu().numpy(), bins=100) # must be cpu here\n",
        "plt.xlabel(\"y_test\")\n",
        "plt.ylabel(\"Frequency\")\n",
        "plt.xscale(\"log\")\n",
        "plt.tight_layout()\n",
        "plt.show()\n"
      ]
    },
    {
      "cell_type": "code",
      "execution_count": 113,
      "metadata": {
        "id": "FEgjk--AUZh9"
      },
      "outputs": [],
      "source": [
        "%config InteractiveShell.ast_node_interactivity = \"all\""
      ]
    },
    {
      "attachments": {},
      "cell_type": "markdown",
      "metadata": {
        "id": "r2b9GecHUZh9"
      },
      "source": [
        "## Defining the neural network"
      ]
    },
    {
      "cell_type": "code",
      "execution_count": 114,
      "metadata": {
        "id": "Iv8HA-ZXUZh-"
      },
      "outputs": [],
      "source": [
        "# Defining a class for the network\n",
        "class Net(nn.Module):\n",
        "    \"\"\"A class for creating a network with a\n",
        "    variable number of hidden layers and units.\n",
        "\n",
        "    Attributes:\n",
        "        n_layers (int): The number of hidden layers in the network.\n",
        "        n_units (list): A list of integers representing the number of units in each hidden layer.\n",
        "        hidden_activation (torch.nn.Module): The activation function for the hidden layers.\n",
        "        output_activation (torch.nn.Module): The activation function for the output layer.\n",
        "        layers (torch.nn.ModuleList): A list of linear layers in the network.\n",
        "    \"\"\"\n",
        "\n",
        "    def __init__(self, n_layers, n_units, hidden_activation, output_activation, dropout_rate):\n",
        "        \"\"\"Initializes the network with the given hyperparameters.\n",
        "\n",
        "        Args:\n",
        "            n_layers (int): The number of hidden layers in the network.\n",
        "            n_units (list): A list of integers representing the number of units in each hidden layer.\n",
        "            hidden_activation (torch.nn.Module): The activation function for the hidden layers.\n",
        "            output_activation (torch.nn.Module): The activation function for the output layer.\n",
        "            TODO: [ver. Copilot description] dropout_rate (float): The dropout rate to use for all layers.\n",
        "        \"\"\"\n",
        "        super().__init__()\n",
        "        self.n_layers = n_layers\n",
        "        self.n_units = n_units\n",
        "        self.hidden_activation = hidden_activation\n",
        "        self.output_activation = output_activation\n",
        "        self.dropout_rate = dropout_rate\n",
        "\n",
        "        # Creating a list of linear layers with different numbers of units for each layer\n",
        "        self.layers = nn.ModuleList()\n",
        "        self.dropouts = nn.ModuleList()\n",
        "\n",
        "        self.layers.append(nn.Linear(N_INPUTS, n_units[0]))\n",
        "        self.dropouts.append(nn.Dropout(p=dropout_rate))\n",
        "\n",
        "        for i in range(1, n_layers):\n",
        "            self.layers.append(nn.Linear(n_units[i - 1], n_units[i]))\n",
        "            self.dropouts.append(nn.Dropout(p=dropout_rate))\n",
        "\n",
        "        self.layers.append(nn.Linear(n_units[-1], N_OUTPUTS))\n",
        "\n",
        "        # Adding some assertions to check that the input arguments are valid\n",
        "        assert isinstance(n_layers, int) and n_layers > 0, \"n_layers must be a positive integer\"\n",
        "        assert isinstance(n_units, list) and len(n_units) == n_layers, \"n_units must be a list of length n_layers\"\n",
        "        assert all(isinstance(n, int) and n > 0 for n in n_units), \"n_units must contain positive integers\"\n",
        "        assert isinstance(hidden_activation, nn.Module), \"hidden_activation must be a torch.nn.Module\"\n",
        "        assert isinstance(output_activation, nn.Module), \"output_activation must be a torch.nn.Module\"\n",
        "\n",
        "    def forward(self, x):\n",
        "        \"\"\"Performs a forward pass on the input tensor.\n",
        "\n",
        "        Args:\n",
        "            x (torch.Tensor): The input tensor of shape (batch_size, N_INPUTS).\n",
        "\n",
        "        Returns:\n",
        "            torch.Tensor: The output tensor of shape (batch_size, N_OUTPUTS).\n",
        "        \"\"\"\n",
        "        # Adding an assertion to check that the input tensor has the expected shape and type\n",
        "        assert isinstance(x, torch.Tensor), \"x must be a torch.Tensor\"\n",
        "        assert x.shape[1] == N_INPUTS, f\"x must have shape (batch_size, {N_INPUTS})\"\n",
        "\n",
        "        for layer, dropout in zip(self.layers[:-1], self.dropouts):\n",
        "            x = dropout(self.hidden_activation(layer(x)))\n",
        "        # Applying the linear transformation and the activation function on the output layer\n",
        "        x = self.output_activation(self.layers[-1](x)) # No dropout at output layer\n",
        "\n",
        "        return x # Returning the output tensor\n"
      ]
    },
    {
      "cell_type": "code",
      "execution_count": 115,
      "metadata": {},
      "outputs": [
        {
          "name": "stdout",
          "output_type": "stream",
          "text": [
            "skipping\n"
          ]
        }
      ],
      "source": [
        "%%script echo skipping\n",
        "\n",
        "[1,2,3]\n",
        "[1,2,3][:-1]"
      ]
    },
    {
      "cell_type": "code",
      "execution_count": 116,
      "metadata": {},
      "outputs": [
        {
          "name": "stdout",
          "output_type": "stream",
          "text": [
            "1\n",
            "2\n"
          ]
        }
      ],
      "source": [
        "for x in [1,2,3][:-1]:\n",
        "    print(x)\n",
        "\n"
      ]
    },
    {
      "attachments": {},
      "cell_type": "markdown",
      "metadata": {
        "id": "6GNvp55PUZh_"
      },
      "source": [
        "## Defining the model and search space"
      ]
    },
    {
      "cell_type": "code",
      "execution_count": 117,
      "metadata": {
        "id": "9a1opluOUZh_"
      },
      "outputs": [],
      "source": [
        "# Defining a function to create a trial network and optimizer\n",
        "def create_model(trial, optimize):\n",
        "    \"\"\"Creates a trial network and optimizer based on the sampled hyperparameters.\n",
        "\n",
        "    Args:\n",
        "        trial (optuna.trial.Trial): The trial object that contains the hyperparameters.\n",
        "        optimize (boolean): Whether to optimize the hyperparameters or to use predefined values.\n",
        "\n",
        "    Returns:\n",
        "        tuple: A tuple of (net, loss_fn, optimizer, batch_size, n_epochs,\n",
        "            scheduler, loss_name, optimizer_name, scheduler_name,\n",
        "            n_units, n_layers, hidden_activation, output_activation),\n",
        "            where net is the trial network,\n",
        "            loss_fn is the loss function,\n",
        "            optimizer is the optimizer,\n",
        "            batch_size is the batch size,\n",
        "            n_epochs is the number of epochs,\n",
        "            scheduler is the learning rate scheduler,\n",
        "            loss_name is the name of the loss function,\n",
        "            optimizer_name is the name of the optimizer,\n",
        "            scheduler_name is the name of the scheduler,\n",
        "            n_units is a list of integers representing\n",
        "            the number of units in each hidden layer,\n",
        "            n_layers is an integer representing the number of hidden layers in the network,\n",
        "            hidden_activation is a torch.nn.Module representing the activation function for the hidden layers,\n",
        "            output_activation is a torch.nn.Module representing the activation function for the output layer,\n",
        "            lr is the (initial) learning rate.\n",
        "            dropout_rate is the dropout rate.\n",
        "    \"\"\"\n",
        "    # If optimize is True, sample the hyperparameters from the search space\n",
        "    if OPTIMIZE:\n",
        "        n_layers = trial.suggest_int(\"n_layers\", 2, 10)\n",
        "        n_units = [trial.suggest_int(f\"n_units_{i}\", 16, 4096) for i in range(n_layers)]\n",
        "\n",
        "        hidden_activation_name = trial.suggest_categorical(\n",
        "            \"hidden_activation\", [\"ReLU\", \"LeakyReLU\", \"ELU\", \"PReLU\", \"Swish\", \"GELU\", \"SoftPlus\"]\n",
        "        )\n",
        "        output_activation_name = trial.suggest_categorical( \"output_activation\", [\"Linear\"])\n",
        "\n",
        "        loss_name = trial.suggest_categorical( \"loss\", [\"MSE\", \"MAE\", \"Huber\", \"Quantile\"])  # Added Quantile loss\n",
        "\n",
        "        optimizer_name = trial.suggest_categorical( \"optimizer\", [\"Adam\", \"SGD\", \"RMSprop\", \"Adagrad\"] )\n",
        "\n",
        "        lr = trial.suggest_loguniform(\"lr\", 1e-6, 1)\n",
        "\n",
        "        batch_size_list = [32, 64, 128, 256, 512, 1024, 2048]\n",
        "        batch_size = trial.suggest_categorical(\"batch_size\", batch_size_list)\n",
        "        \n",
        "        n_epochs = trial.suggest_int(\"n_epochs\", 50, 150)\n",
        "\n",
        "        scheduler_name = trial.suggest_categorical(\"scheduler\", [\"CosineAnnealingLR\", \"ReduceLROnPlateau\", \"StepLR\", \"CyclicLR\"])  # Added CyclicLR\n",
        "\n",
        "        # Creating the activation functions from their names\n",
        "        if hidden_activation_name == \"ReLU\":\n",
        "            hidden_activation = nn.ReLU()\n",
        "        elif hidden_activation_name == \"LeakyReLU\":\n",
        "            negative_slope = trial.suggest_uniform(\"leakyrelu_slope\", 0.01, 0.3)\n",
        "            hidden_activation = nn.LeakyReLU(negative_slope=negative_slope)\n",
        "        elif hidden_activation_name == \"ELU\":\n",
        "            hidden_activation = nn.ELU() \n",
        "        elif hidden_activation_name == \"PReLU\":\n",
        "            init = trial.suggest_uniform(\"prelu_init\", 0.1, 0.3)\n",
        "            hidden_activation = nn.PReLU(init=init)\n",
        "        elif hidden_activation_name == \"Swish\":\n",
        "            class Swish(nn.Module):\n",
        "                def forward(self, x):\n",
        "                    return x * torch.sigmoid(x)\n",
        "            hidden_activation = Swish()\n",
        "        elif hidden_activation_name == \"GELU\":\n",
        "            hidden_activation = nn.GELU()\n",
        "        elif hidden_activation_name == \"SoftPlus\":\n",
        "            beta = trial.suggest_uniform(\"softplus_beta\", 0.5, 1.5)\n",
        "            hidden_activation = nn.Softplus(beta=beta) # We don't optimize thresshold subparameters, as it's mainly for numerical stability.\n",
        "\n",
        "        dropout_rate = trial.suggest_uniform(\"dropout_rate\", 0.0, 0.5)\n",
        "\n",
        "\n",
        "    # If optimize is False, use the predefined values\n",
        "    else:\n",
        "        # Setting the hyperparameters to the predefined values\n",
        "        n_layers = N_LAYERS_NO_OPT\n",
        "        n_units = N_UNITS_NO_OPT\n",
        "        hidden_activation_name = HIDDEN_ACTIVATION_NAME_NO_OPT\n",
        "        output_activation_name = OUTPUT_ACTIVATION_NAME_NO_OPT\n",
        "        loss_name = LOSS_NAME_NO_OPT\n",
        "        optimizer_name = OPTIMIZER_NAME_NO_OPT\n",
        "        lr = LR_NO_OPT\n",
        "        batch_size = BATCH_SIZE_NO_OPT\n",
        "        n_epochs = N_EPOCHS_NO_OPT\n",
        "        scheduler_name = SCHEDULER_NAME_NO_OPT\n",
        "\n",
        "        # Creating the activation functions from their names\n",
        "        if hidden_activation_name == \"ReLU\":\n",
        "            hidden_activation = nn.ReLU()\n",
        "        elif hidden_activation_name == \"LeakyReLU\":\n",
        "            negative_slope = 0.01\n",
        "            hidden_activation = nn.LeakyReLU(negative_slope=negative_slope)\n",
        "        elif hidden_activation_name == \"ELU\":\n",
        "            hidden_activation = nn.ELU() \n",
        "        elif hidden_activation_name == \"PReLU\":\n",
        "            init = 0.25\n",
        "            hidden_activation = nn.PReLU(init=init)\n",
        "        elif hidden_activation_name == \"Swish\":\n",
        "            class Swish(nn.Module):\n",
        "                def forward(self, x):\n",
        "                    return x * torch.sigmoid(x)\n",
        "            hidden_activation = Swish()\n",
        "        elif hidden_activation_name == \"GELU\":\n",
        "            hidden_activation = nn.GELU()\n",
        "        elif hidden_activation_name == \"SoftPlus\":\n",
        "            beta = 1\n",
        "            hidden_activation = nn.Softplus(beta=beta) # We don't optimize threshold subparameter, as it's mainly for numerical stability.\n",
        "\n",
        "        dropout_rate = DROPOUT_RATE_NO_OPT\n",
        "\n",
        "\n",
        "    # We used to have options here, but since we have a regression problem with continuous output, we only use Linear.\n",
        "    output_activation = nn.Identity()\n",
        "\n",
        "    # Creating the loss function from its name\n",
        "    if loss_name == \"MSE\":\n",
        "        loss_fn = nn.MSELoss()\n",
        "    elif loss_name == \"MAE\":\n",
        "        loss_fn = nn.L1Loss()\n",
        "    elif loss_name == \"Huber\":\n",
        "        loss_fn = nn.SmoothL1Loss() \n",
        "    elif loss_name == \"Quantile\":  # Added Quantile loss\n",
        "        def quantile_loss(y_pred, y_true, q=0.5):\n",
        "            e = y_pred - y_true\n",
        "            return torch.mean(torch.max(q*e, (q-1)*e))\n",
        "        loss_fn = quantile_loss\n",
        "    else:\n",
        "        def log_cosh_loss(y_pred, y_true):\n",
        "            return torch.mean(torch.log(torch.cosh(y_pred - y_true)))\n",
        "        loss_fn = log_cosh_loss\n",
        "\n",
        "    # Creating the network with the sampled hyperparameters\n",
        "    net = Net(n_layers, n_units, hidden_activation, output_activation, dropout_rate).to(device)\n",
        "\n",
        "\n",
        "    if OPTIMIZE:\n",
        "        # Creating the optimizer from its name\n",
        "        if optimizer_name == \"SGD\":\n",
        "            weight_decay = trial.suggest_loguniform(\"weight_decay\", 1e-5, 1e-2)\n",
        "            momentum = trial.suggest_uniform(\"momentum\", 0.0, 0.99)\n",
        "            optimizer = optim.SGD(net.parameters(), lr=lr, weight_decay=weight_decay, momentum=momentum)\n",
        "        elif optimizer_name == \"Adam\":\n",
        "            weight_decay = trial.suggest_loguniform(\"weight_decay\", 1e-5, 1e-2)\n",
        "            beta1 = trial.suggest_uniform(\"beta1\", 0.9, 0.999)\n",
        "            beta2 = trial.suggest_uniform(\"beta2\", 0.999, 0.9999)\n",
        "            optimizer = optim.Adam(net.parameters(), lr=lr, weight_decay=weight_decay, betas=(beta1, beta2))\n",
        "        elif optimizer_name == \"RMSprop\":\n",
        "            optimizer = optim.RMSprop(net.parameters(), lr=lr)\n",
        "        else:\n",
        "            optimizer = optim.Adagrad(net.parameters(), lr=lr)\n",
        "\n",
        "        # Creating the learning rate scheduler from its name\n",
        "        if scheduler_name == \"StepLR\":\n",
        "            step_size = trial.suggest_int(\"step_size\", 5, 15)\n",
        "            gamma = trial.suggest_uniform(\"gamma\", 0.1, 0.5)\n",
        "            scheduler = optim.lr_scheduler.StepLR(optimizer, step_size=step_size, gamma=gamma)\n",
        "        elif scheduler_name == \"ExponentialLR\":\n",
        "            gamma = trial.suggest_uniform(\"gamma\", 0.8, 0.99)\n",
        "            scheduler = optim.lr_scheduler.ExponentialLR(optimizer, gamma=gamma)\n",
        "        elif scheduler_name == \"CosineAnnealingLR\":\n",
        "            if n_epochs < 150:\n",
        "                t_max_fraction = trial.suggest_uniform('t_max_fraction', 0.1, 0.3)\n",
        "            elif n_epochs > 250:\n",
        "                t_max_fraction = trial.suggest_uniform('t_max_fraction', 0.05, 0.1)\n",
        "            else:\n",
        "                t_max_fraction = trial.suggest_uniform('t_max_fraction', 0.1, 0.2)\n",
        "\n",
        "            T_max = int(n_epochs * t_max_fraction)\n",
        "            eta_min = trial.suggest_loguniform(\"eta_min\", 1e-7, 1e-2)\n",
        "            scheduler = optim.lr_scheduler.CosineAnnealingLR(optimizer, T_max=T_max, eta_min=eta_min)\n",
        "        elif scheduler_name == \"ReduceLROnPlateau\":\n",
        "            factor = trial.suggest_uniform(\"factor\", 0.1, 0.5)\n",
        "            patience = trial.suggest_int(\"patience\", 5, 10)\n",
        "            threshold = trial.suggest_loguniform(\"threshold\", 1e-4, 1e-2)\n",
        "            scheduler = optim.lr_scheduler.ReduceLROnPlateau(\n",
        "                optimizer, mode=\"min\", factor=factor, patience=patience, threshold=threshold\n",
        "            )\n",
        "        elif scheduler_name == \"CyclicLR\":  # Added CyclicLR\n",
        "            base_lr = trial.suggest_loguniform(\"base_lr\", 1e-6, 1e-2)\n",
        "            max_lr = trial.suggest_loguniform(\"max_lr\", 1e-4, 1)\n",
        "            step_size_up = trial.suggest_int(\"step_size_up\", 200, 2000)\n",
        "            scheduler = optim.lr_scheduler.CyclicLR(optimizer, base_lr=base_lr, max_lr=max_lr, step_size_up=step_size_up)\n",
        "        else:\n",
        "            scheduler = None\n",
        "    else:\n",
        "        # Creating the optimizer from its name\n",
        "        if optimizer_name == \"SGD\":\n",
        "            optimizer = optim.SGD(net.parameters(), lr=lr)\n",
        "        elif optimizer_name == \"Adam\":\n",
        "            optimizer = optim.Adam(net.parameters(), lr=lr)\n",
        "        elif optimizer_name == \"RMSprop\":\n",
        "            optimizer = optim.RMSprop(net.parameters(), lr=lr)\n",
        "        else:\n",
        "            optimizer = optim.Adagrad(net.parameters(), lr=lr)\n",
        "\n",
        "        # Creating the learning rate scheduler from its name\n",
        "        if scheduler_name == \"StepLR\":\n",
        "            scheduler = optim.lr_scheduler.StepLR(optimizer, step_size=10, gamma=0.1)\n",
        "        elif scheduler_name == \"ExponentialLR\":\n",
        "            scheduler = optim.lr_scheduler.ExponentialLR(optimizer, gamma=0.9)\n",
        "        elif scheduler_name == \"CosineAnnealingLR\":\n",
        "            scheduler = optim.lr_scheduler.CosineAnnealingLR(optimizer)\n",
        "        elif scheduler_name == \"ReduceLROnPlateau\":\n",
        "            scheduler = optim.lr_scheduler.ReduceLROnPlateau(\n",
        "                        optimizer, mode=\"min\", factor=0.18979341786654758, patience=11, threshold=0.0017197466122611932 #, min_lr=1e-6\n",
        "                    )\n",
        "        elif scheduler_name == \"CyclicLR\":  # Added CyclicLR\n",
        "            # TODO: Change these appropriately.\n",
        "            base_lr = 1e-6\n",
        "            max_lr = 1e-4\n",
        "            step_size_up = 200\n",
        "            scheduler = optim.lr_scheduler.CyclicLR(optimizer, base_lr=base_lr, max_lr=max_lr, step_size_up=step_size_up)\n",
        "        else:\n",
        "            scheduler = None\n",
        "\n",
        "    # Returning all variables needed for saving and loading\n",
        "    return net, loss_fn, optimizer, batch_size, n_epochs, scheduler, loss_name, optimizer_name, scheduler_name, n_units, n_layers, hidden_activation, output_activation, lr, dropout_rate\n",
        "\n",
        "\n"
      ]
    },
    {
      "attachments": {},
      "cell_type": "markdown",
      "metadata": {
        "id": "l-czA7VvUZiD"
      },
      "source": [
        " ## The training and evaluation loop\n",
        "\n",
        " We first define a couple of functions used in the training and evaluation."
      ]
    },
    {
      "cell_type": "code",
      "execution_count": 118,
      "metadata": {
        "id": "aD6FQNmxUZiD"
      },
      "outputs": [],
      "source": [
        "# Defining a function that computes loss and metrics for a given batch\n",
        "def compute_loss_and_metrics(y_pred, y_true, loss_fn):\n",
        "    \"\"\"Computes loss and metrics for a given batch.\n",
        "\n",
        "    Args:\n",
        "        y_pred (torch.Tensor): The predicted pressure tensor of shape (batch_size, 1).\n",
        "        y_true (torch.Tensor): The true pressure tensor of shape (batch_size,).\n",
        "        loss_fn (torch.nn.Module or function): The loss function to use.\n",
        "\n",
        "    Returns:\n",
        "        tuple: A tuple of (loss, l1_norm), where loss is a scalar tensor,\n",
        "            l1_norm is L1 norm for relative error of pressure,\n",
        "            each being a scalar tensor.\n",
        "            linf_norm is Linf norm for relative error of pressure.\n",
        "    \"\"\"\n",
        "    # Reshaping the target tensor to match the input tensor\n",
        "    y_true = y_true.view(-1, 1)\n",
        "\n",
        "    # Computing the loss using the loss function\n",
        "    loss = loss_fn(y_pred, y_true)\n",
        "\n",
        "    # Computing the relative error of pressure\n",
        "    rel_error = torch.abs((y_pred - y_true) / y_true)\n",
        "\n",
        "    # Computing the L1 norm for the relative error of pressure\n",
        "    l1_norm = torch.mean(rel_error) \n",
        "    # Computing the Linf norm for the relative error of pressure\n",
        "    linf_norm = torch.max(rel_error) \n",
        "\n",
        "    # Returning the loss and metrics\n",
        "    return loss, l1_norm, linf_norm\n",
        "\n",
        "\n",
        "# Defining a function that updates the learning rate scheduler with validation loss if applicable\n",
        "def update_scheduler(scheduler, test_loss):\n",
        "    \"\"\"Updates the learning rate scheduler with validation loss if applicable.\n",
        "\n",
        "    Args:\n",
        "        scheduler (torch.optim.lr_scheduler._LRScheduler or None): The learning rate scheduler to use.\n",
        "        test_loss (float): The validation loss to use.\n",
        "\n",
        "    Returns:\n",
        "        None\n",
        "    \"\"\"\n",
        "    # Checking if scheduler is not None\n",
        "    if scheduler is not None:\n",
        "        # Checking if scheduler is ReduceLROnPlateau\n",
        "        if isinstance(scheduler, optim.lr_scheduler.ReduceLROnPlateau):\n",
        "            # Updating the scheduler with test_loss\n",
        "            scheduler.step(test_loss)\n",
        "        else:\n",
        "            # Updating the scheduler without test_loss\n",
        "            scheduler.step()\n"
      ]
    },
    {
      "attachments": {},
      "cell_type": "markdown",
      "metadata": {
        "id": "w1nE662UUZiE"
      },
      "source": [
        "Now for the actual training and evaluation loop,"
      ]
    },
    {
      "cell_type": "code",
      "execution_count": 119,
      "metadata": {
        "id": "YAOjgKW3UZiF"
      },
      "outputs": [],
      "source": [
        "# Defining a function to train and evaluate a network\n",
        "def train_and_eval(net, loss_fn, optimizer, batch_size, n_epochs, scheduler, train_loader, val_loader, test_loader, trial=None):\n",
        "    # Initializing lists to store the losses and metrics for each epoch\n",
        "    train_losses = []\n",
        "    val_losses = []\n",
        "    test_losses = []\n",
        "    train_metrics = []\n",
        "    val_metrics = []\n",
        "    test_metrics = []\n",
        "\n",
        "\n",
        "    # Creating a SummaryWriter object to log data for tensorboard\n",
        "    writer = tbx.SummaryWriter()\n",
        "\n",
        "    # Looping over the epochs\n",
        "    for epoch in range(n_epochs):\n",
        "\n",
        "        # Setting the network to training mode\n",
        "        net.train()\n",
        "\n",
        "        # Initializing variables to store the total loss and metrics for the train set\n",
        "        train_loss = 0.0\n",
        "        train_l1_norm = 0.0\n",
        "        train_linf_norm = 0.0\n",
        "\n",
        "        # Looping over the batches in the train set\n",
        "        for x_batch, y_batch in train_loader:\n",
        "\n",
        "            # Moving the batch tensors to the device\n",
        "            x_batch = x_batch.to(device)\n",
        "            y_batch = y_batch.to(device)\n",
        "\n",
        "            # Zeroing the gradients\n",
        "            optimizer.zero_grad()\n",
        "\n",
        "            # Performing a forward pass and computing the loss and metrics\n",
        "            y_pred = net(x_batch)\n",
        "            loss, l1_norm, linf_norm = compute_loss_and_metrics(y_pred, y_batch, loss_fn)\n",
        "\n",
        "\n",
        "            # Performing a backward pass and updating the weights\n",
        "            loss.backward()\n",
        "            optimizer.step()\n",
        "\n",
        "            # Updating the total loss and metrics for the train set\n",
        "            train_loss += loss.item() * x_batch.size(0)\n",
        "            train_l1_norm += l1_norm.item() * x_batch.size(0)\n",
        "            train_linf_norm += linf_norm.item() * x_batch.size(0)\n",
        "\n",
        "        # Computing the average loss and metrics for the train set\n",
        "        train_loss /= len(train_loader.dataset)\n",
        "        train_l1_norm /= len(train_loader.dataset)\n",
        "        train_linf_norm /= len(train_loader.dataset)\n",
        "\n",
        "        # Appending the average loss and metrics for the train set to the lists\n",
        "        train_losses.append(train_loss)\n",
        "        train_metrics.append(\n",
        "            {\n",
        "                \"l1_norm\": train_l1_norm,\n",
        "                \"linf_norm\": train_linf_norm,\n",
        "            }\n",
        "        )\n",
        "\n",
        "        # Logging the average loss and metrics for the train set to tensorboard\n",
        "        writer.add_scalar(\"Loss/train\", train_loss, epoch)\n",
        "        writer.add_scalar(\"L1 norm/train\", train_l1_norm, epoch)\n",
        "        writer.add_scalar(\"Linf norm/train\", train_linf_norm, epoch)\n",
        "\n",
        "        if val_loader is not None:\n",
        "            net.eval()\n",
        "            val_loss = 0.0\n",
        "            val_l1_norm = 0.0\n",
        "            val_linf_norm = 0.0\n",
        "\n",
        "            with torch.no_grad():\n",
        "                for x_batch, y_batch in val_loader:\n",
        "                    x_batch = x_batch.to(device)\n",
        "                    y_batch = y_batch.to(device)\n",
        "                    y_pred = net(x_batch)\n",
        "                    loss, l1_norm, linf_norm = compute_loss_and_metrics(y_pred, y_batch, loss_fn)\n",
        "\n",
        "                    val_loss += loss.item() * x_batch.size(0)\n",
        "                    val_l1_norm += l1_norm.item() * x_batch.size(0)\n",
        "                    val_linf_norm += linf_norm.item() * x_batch.size(0)\n",
        "\n",
        "            val_loss /= len(val_loader.dataset)\n",
        "            val_l1_norm /= len(val_loader.dataset)\n",
        "            val_linf_norm /= len(val_loader.dataset)\n",
        "\n",
        "            val_losses.append(val_loss)\n",
        "            val_metrics.append(\n",
        "                {\n",
        "                    \"l1_norm\": val_l1_norm,\n",
        "                    \"linf_norm\": val_linf_norm,\n",
        "                }\n",
        "            )\n",
        "\n",
        "            writer.add_scalar(\"Loss/val\", val_loss, epoch)\n",
        "            writer.add_scalar(\"L1 norm/val\", val_l1_norm, epoch)\n",
        "            writer.add_scalar(\"Linf norm/val\", val_linf_norm, epoch)\n",
        "            print(f\"Epoch {epoch+1}/{n_epochs}.. Train loss: {train_loss:.3f}.. Val loss: {val_loss:.3f}.. Train L1 norm: {train_l1_norm:.3f}.. Val L1 norm: {val_l1_norm:.3f}.. Train Linf norm: {train_linf_norm:.3f}.. Val Linf norm: {val_linf_norm:.3f}\")\n",
        "\n",
        "\n",
        "            update_scheduler(scheduler, val_loss)\n",
        "\n",
        "        if test_loader is not None:\n",
        "            net.eval()\n",
        "            test_loss = 0.0\n",
        "            test_l1_norm = 0.0\n",
        "            test_linf_norm = 0.0\n",
        "\n",
        "            with torch.no_grad():\n",
        "                for x_batch, y_batch in test_loader:\n",
        "                    x_batch = x_batch.to(device)\n",
        "                    y_batch = y_batch.to(device)\n",
        "                    y_pred = net(x_batch)\n",
        "                    loss, l1_norm, linf_norm = compute_loss_and_metrics(y_pred, y_batch, loss_fn)\n",
        "\n",
        "                    test_loss += loss.item() * x_batch.size(0)\n",
        "                    test_l1_norm += l1_norm.item() * x_batch.size(0)\n",
        "                    test_linf_norm += linf_norm.item() * x_batch.size(0)\n",
        "\n",
        "            test_loss /= len(test_loader.dataset)\n",
        "            test_l1_norm /= len(test_loader.dataset)\n",
        "            test_linf_norm /= len(test_loader.dataset)\n",
        "\n",
        "            test_losses.append(test_loss)\n",
        "            test_metrics.append(\n",
        "                {\n",
        "                    \"l1_norm\": test_l1_norm,\n",
        "                    \"linf_norm\": test_linf_norm,\n",
        "                }\n",
        "            )\n",
        "\n",
        "            writer.add_scalar(\"Loss/test\", test_loss, epoch)\n",
        "            writer.add_scalar(\"L1 norm/test\", test_l1_norm, epoch)\n",
        "            writer.add_scalar(\"Linf norm/test\", test_linf_norm, epoch)\n",
        "            print(f\"Epoch {epoch+1}/{n_epochs}.. Train loss: {train_loss:.3f}.. Test loss: {test_loss:.3f}.. Train L1 norm: {train_l1_norm:.3f}.. Test L1 norm: {test_l1_norm:.3f}.. Train Linf norm: {train_linf_norm:.3f}.. Test Linf norm: {test_linf_norm:.3f}\")\n",
        "\n",
        "\n",
        "        # Reporting the intermediate metric value to Optuna if trial is not None\n",
        "        if trial is not None:\n",
        "            trial.report(val_l1_norm, epoch)\n",
        "\n",
        "            if trial.should_prune():\n",
        "                raise optuna.TrialPruned()\n",
        "\n",
        "    # Closing the SummaryWriter object\n",
        "    writer.close()\n",
        "\n",
        "    # Returning the losses and metrics lists\n",
        "    return train_losses, val_losses, test_losses, train_metrics, val_metrics, test_metrics\n"
      ]
    },
    {
      "attachments": {},
      "cell_type": "markdown",
      "metadata": {
        "id": "xg9jz0SvUZiQ"
      },
      "source": [
        "## The objective function and hyperparameter tuning"
      ]
    },
    {
      "cell_type": "code",
      "execution_count": 120,
      "metadata": {
        "id": "fmRncQPuUZiR"
      },
      "outputs": [],
      "source": [
        "# Defining an objective function for Optuna to minimize\n",
        "def objective(trial):\n",
        "    \"\"\"Defines an objective function for Optuna to minimize.\n",
        "\n",
        "    Args:\n",
        "        trial (optuna.trial.Trial): The trial object that contains the hyperparameters.\n",
        "\n",
        "    Returns:\n",
        "        float: The validation L1 norm to minimize.\n",
        "    \"\"\"\n",
        "    # Creating a trial network and optimizer using the create_model function\n",
        "    net, \\\n",
        "    loss_fn, \\\n",
        "    optimizer, \\\n",
        "    batch_size, \\\n",
        "    n_epochs, \\\n",
        "    scheduler, \\\n",
        "    loss_name, \\\n",
        "    optimizer_name, \\\n",
        "    scheduler_name, \\\n",
        "    n_units, \\\n",
        "    n_layers, \\\n",
        "    hidden_activation, \\\n",
        "    output_activation, \\\n",
        "    lr, \\\n",
        "    dropout_rate = create_model(trial, optimize=True)\n",
        "\n",
        "    # Create separate data loaders for training and validation\n",
        "    train_loader = torch.utils.data.DataLoader(\n",
        "        torch.utils.data.TensorDataset(x_train, y_train), batch_size=batch_size, shuffle=True\n",
        "    )\n",
        "    val_loader = torch.utils.data.DataLoader(\n",
        "        torch.utils.data.TensorDataset(x_val, y_val), batch_size=batch_size\n",
        "    )\n",
        "    \n",
        "    _, _, _, _, val_metrics, _ = train_and_eval(\n",
        "        net, loss_fn, optimizer, batch_size, n_epochs, scheduler, train_loader, val_loader, None, trial\n",
        "    )\n",
        "\n",
        "    # Returning the last validation L1 norm as the objective value to minimize\n",
        "    return val_metrics[-1][\"l1_norm\"]"
      ]
    },
    {
      "cell_type": "code",
      "execution_count": 121,
      "metadata": {
        "id": "GyES4NAyUZiS"
      },
      "outputs": [],
      "source": [
        "if OPTIMIZE:\n",
        "    # Creating a study object with Optuna with TPE sampler and median pruner \n",
        "    study = optuna.create_study(direction=\"minimize\", sampler=optuna.samplers.TPESampler(), pruner=optuna.pruners.MedianPruner())\n",
        "\n",
        "    # Running Optuna with 100 trials when we are optimizing.\n",
        "    study.optimize(objective, n_trials=N_TRIALS)\n",
        "\n",
        "    # Printing the best trial information\n",
        "    print(\"Best trial:\")\n",
        "    trial = study.best_trial\n",
        "    print(\"  Value: \", trial.value)\n",
        "    print(\"  Params: \")\n",
        "    for key, value in trial.params.items():\n",
        "        print(f\"    {key}: {value}\")\n"
      ]
    },
    {
      "attachments": {},
      "cell_type": "markdown",
      "metadata": {
        "id": "jmMfE9_dUZiS"
      },
      "source": [
        "## Training the model"
      ]
    },
    {
      "cell_type": "code",
      "execution_count": 122,
      "metadata": {
        "id": "phyiHlWEUZiT"
      },
      "outputs": [],
      "source": [
        "# Creating the best network and optimizer using the best hyperparameters\n",
        "if OPTIMIZE:\n",
        "    net, \\\n",
        "    loss_fn, \\\n",
        "    optimizer, \\\n",
        "    batch_size, \\\n",
        "    n_epochs, \\\n",
        "    scheduler, \\\n",
        "    loss_name, \\\n",
        "    optimizer_name, \\\n",
        "    scheduler_name, \\\n",
        "    n_units, \\\n",
        "    n_layers, \\\n",
        "    hidden_activation, \\\n",
        "    output_activation, \\\n",
        "    lr, \\\n",
        "    dropout_rate = create_model(trial, optimize=True)\n",
        "\n",
        "# Creating the network with predefined hyperparameters\n",
        "else:\n",
        "    net, \\\n",
        "    loss_fn, \\\n",
        "    optimizer, \\\n",
        "    batch_size, \\\n",
        "    n_epochs, \\\n",
        "    scheduler, \\\n",
        "    loss_name, \\\n",
        "    optimizer_name, \\\n",
        "    scheduler_name, \\\n",
        "    n_units, \\\n",
        "    n_layers, \\\n",
        "    hidden_activation, \\\n",
        "    output_activation, \\\n",
        "    lr, \\\n",
        "    dropout_rate = create_model(trial=None, optimize=True)"
      ]
    },
    {
      "cell_type": "code",
      "execution_count": 123,
      "metadata": {
        "colab": {
          "base_uri": "https://localhost:8080/"
        },
        "id": "_yq-oY81UZiU",
        "outputId": "dbf2f465-bd50-4a20-8926-616c3d2157d0"
      },
      "outputs": [
        {
          "name": "stdout",
          "output_type": "stream",
          "text": [
            "loss_fn: Net(\n",
            "  (hidden_activation): LeakyReLU(negative_slope=0.01)\n",
            "  (output_activation): Identity()\n",
            "  (layers): ModuleList(\n",
            "    (0): Linear(in_features=14, out_features=555, bias=True)\n",
            "    (1): Linear(in_features=555, out_features=458, bias=True)\n",
            "    (2): Linear(in_features=458, out_features=115, bias=True)\n",
            "    (3): Linear(in_features=115, out_features=1, bias=True)\n",
            "  )\n",
            "  (dropouts): ModuleList(\n",
            "    (0-2): 3 x Dropout(p=0.2, inplace=False)\n",
            "  )\n",
            ")\n",
            "loss_fn: SmoothL1Loss()\n",
            "batch_size: 49\n",
            "n_epochs: 5\n",
            "scheduler: None\n",
            "loss_name: Huber\n",
            "optimizer_name: RMSprop\n",
            "scheduler_name: CycleLR\n",
            "n_units: [555, 458, 115]\n",
            "n_layers: 3\n",
            "hidden_activation: LeakyReLU(negative_slope=0.01)\n",
            "output_activation: Identity()\n",
            "lr 0.000122770896701404\n",
            "dropout_rate 0.2\n"
          ]
        }
      ],
      "source": [
        "print(\"loss_fn:\", net)\n",
        "print(\"loss_fn:\", loss_fn)\n",
        "print(\"batch_size:\", batch_size)\n",
        "print(\"n_epochs:\", n_epochs)\n",
        "print(\"scheduler:\", scheduler)\n",
        "print(\"loss_name:\", loss_name)\n",
        "print(\"optimizer_name:\", optimizer_name)\n",
        "print(\"scheduler_name:\", scheduler_name)\n",
        "print(\"n_units:\", n_units)\n",
        "print(\"n_layers:\", n_layers)\n",
        "print(\"hidden_activation:\", hidden_activation)\n",
        "print(\"output_activation:\", output_activation)\n",
        "print(\"lr\", lr)\n",
        "print(\"dropout_rate\", dropout_rate)"
      ]
    },
    {
      "attachments": {},
      "cell_type": "markdown",
      "metadata": {
        "colab": {
          "base_uri": "https://localhost:8080/"
        },
        "id": "E7aLWdZyUZiW",
        "outputId": "8fb1e8c6-5aa3-43a1-a255-712cf9396d0c"
      },
      "source": [
        "After optimizing with Optuna and deciding on the best hyperparameters, we combine the training and validatin set, using that as the new training set for training the model, and then evaluate the model on the test set"
      ]
    },
    {
      "cell_type": "code",
      "execution_count": 124,
      "metadata": {},
      "outputs": [
        {
          "name": "stdout",
          "output_type": "stream",
          "text": [
            "Epoch 1/5.. Train loss: 3.696.. Test loss: 3.078.. Train L1 norm: 5.953.. Test L1 norm: 2.834.. Train Linf norm: 212.113.. Test Linf norm: 85.548\n",
            "Epoch 2/5.. Train loss: 2.822.. Test loss: 2.128.. Train L1 norm: 7.774.. Test L1 norm: 3.160.. Train Linf norm: 313.923.. Test Linf norm: 103.051\n",
            "Epoch 3/5.. Train loss: 2.363.. Test loss: 1.967.. Train L1 norm: 7.239.. Test L1 norm: 2.463.. Train Linf norm: 293.803.. Test Linf norm: 78.084\n",
            "Epoch 4/5.. Train loss: 2.156.. Test loss: 1.825.. Train L1 norm: 6.289.. Test L1 norm: 2.476.. Train Linf norm: 252.158.. Test Linf norm: 80.229\n",
            "Epoch 5/5.. Train loss: 2.050.. Test loss: 1.714.. Train L1 norm: 6.973.. Test L1 norm: 2.527.. Train Linf norm: 288.395.. Test Linf norm: 82.201\n"
          ]
        }
      ],
      "source": [
        "x_train_val = torch.cat((x_train, x_val), 0)\n",
        "y_train_val = torch.cat((y_train, y_val), 0)\n",
        "\n",
        "train_val_loader = torch.utils.data.DataLoader(\n",
        "    torch.utils.data.TensorDataset(x_train_val, y_train_val), batch_size=batch_size, shuffle=True\n",
        ")\n",
        "test_loader = torch.utils.data.DataLoader(\n",
        "    torch.utils.data.TensorDataset(x_test, y_test), batch_size=batch_size\n",
        ")\n",
        "\n",
        "train_losses, _, test_losses, train_metrics, _, test_metrics, = train_and_eval(\n",
        "    net, loss_fn, optimizer, batch_size, n_epochs, scheduler, train_val_loader, None, test_loader, None\n",
        ")"
      ]
    },
    {
      "attachments": {},
      "cell_type": "markdown",
      "metadata": {
        "id": "akNucrgMUZiW"
      },
      "source": [
        "## Saving"
      ]
    },
    {
      "cell_type": "code",
      "execution_count": 125,
      "metadata": {
        "id": "LHsrs2Y-UZic"
      },
      "outputs": [],
      "source": [
        "# create a dictionary to store the rest of the variables\n",
        "import json\n",
        "\n",
        "# save the network to a .pth file\n",
        "torch.save(net.state_dict(), \"net.pth\")\n",
        "save_file(\"net.pth\")\n",
        "\n",
        "# save the optimizer to a .pth file\n",
        "torch.save(optimizer.state_dict(), \"optimizer.pth\")\n",
        "save_file(\"optimizer.pth\")\n",
        "\n",
        "# save the scheduler to a .pth file if it is not None\n",
        "if scheduler is not None:\n",
        "  torch.save(scheduler.state_dict(), \"scheduler.pth\")\n",
        "  save_file(\"scheduler.pth\")\n",
        "\n",
        "# create a dictionary to store the rest of the variables\n",
        "if isinstance(hidden_activation.__class__.__name__, list):\n",
        "    hidden_activation_name = hidden_activation.__class__.__name__[0]\n",
        "else:\n",
        "    hidden_activation_name = hidden_activation.__class__.__name__\n",
        "\n",
        "if isinstance(output_activation.__class__.__name__, list):\n",
        "    output_activation_name = output_activation.__class__.__name__[0]\n",
        "else:\n",
        "    output_activation_name = output_activation.__class__.__name__\n",
        "\n",
        "var_dict = {\n",
        "  \"batch_size\": batch_size,\n",
        "  \"n_epochs\": n_epochs,\n",
        "  \"loss_name\": loss_name,\n",
        "  \"optimizer_name\": optimizer_name,\n",
        "  \"scheduler_name\": scheduler_name,\n",
        "  \"n_units\": n_units,\n",
        "  \"n_layers\": n_layers,\n",
        "  \"hidden_activation_name\": hidden_activation_name,\n",
        "  \"output_activation_name\": output_activation_name,\n",
        "  \"lr\": lr,\n",
        "  \"dropout_rate\": dropout_rate\n",
        "}\n",
        "\n",
        "# Adding the subparameters to the var_dict for saving\n",
        "if hidden_activation_name == \"LeakyReLU\":\n",
        "  var_dict[\"leakyrelu_slope\"] = hidden_activation.negative_slope\n",
        "elif hidden_activation_name == \"PReLU\":\n",
        "  var_dict[\"prelu_init\"] = hidden_activation.weight.item()  # .item() is needed because weight is a tensor\n",
        "elif hidden_activation_name == \"SoftPlus\":\n",
        "  var_dict[\"softplus_beta\"] = hidden_activation.beta\n",
        "\n",
        "# save the dictionary to a .json file\n",
        "with open(\"var_dict.json\", \"w\") as f:\n",
        "  json.dump(var_dict, f)\n",
        "save_file(\"var_dict.json\")\n",
        "\n",
        "# Saving the output of the training using pandas\n",
        "train_df = pd.DataFrame(\n",
        "    {\n",
        "        \"train_loss\": train_losses,\n",
        "        \"test_loss\": test_losses,\n",
        "        \"train_l1_norm\": [m[\"l1_norm\"] for m in train_metrics],\n",
        "        \"test_l1_norm\": [m[\"l1_norm\"] for m in test_metrics],\n",
        "        \"train_linf_norm\": [m[\"linf_norm\"] for m in train_metrics],\n",
        "        \"test_linf_norm\": [m[\"linf_norm\"] for m in test_metrics],\n",
        "    }\n",
        ")\n",
        "train_df.to_csv(\"train_output.csv\", index=False)\n",
        "save_file(\"train_output.csv\")"
      ]
    },
    {
      "cell_type": "code",
      "execution_count": 126,
      "metadata": {},
      "outputs": [
        {
          "data": {
            "text/plain": [
              "['batch_size',\n",
              " 'n_epochs',\n",
              " 'loss_name',\n",
              " 'optimizer_name',\n",
              " 'scheduler_name',\n",
              " 'n_units',\n",
              " 'n_layers',\n",
              " 'hidden_activation_name',\n",
              " 'output_activation_name',\n",
              " 'lr',\n",
              " 'dropout_rate',\n",
              " 'leakyrelu_slope']"
            ]
          },
          "execution_count": 126,
          "metadata": {},
          "output_type": "execute_result"
        }
      ],
      "source": [
        "[key for key in var_dict.keys()]"
      ]
    },
    {
      "cell_type": "code",
      "execution_count": 127,
      "metadata": {},
      "outputs": [
        {
          "data": {
            "text/plain": [
              "'LeakyReLU'"
            ]
          },
          "execution_count": 127,
          "metadata": {},
          "output_type": "execute_result"
        },
        {
          "data": {
            "text/plain": [
              "'Identity'"
            ]
          },
          "execution_count": 127,
          "metadata": {},
          "output_type": "execute_result"
        }
      ],
      "source": [
        "#%%script echo skipping\n",
        "\n",
        "hidden_activation_name\n",
        "output_activation_name"
      ]
    },
    {
      "attachments": {},
      "cell_type": "markdown",
      "metadata": {
        "id": "qU23l7dIUZie"
      },
      "source": [
        "## Visualizing the results"
      ]
    },
    {
      "cell_type": "code",
      "execution_count": 128,
      "metadata": {
        "colab": {
          "base_uri": "https://localhost:8080/",
          "height": 1000
        },
        "id": "cippWZS6UZie",
        "outputId": "f0d6e5c3-945f-481b-a153-e54fed7fe9fa"
      },
      "outputs": [
        {
          "data": {
            "text/plain": [
              "<Figure size 1200x800 with 0 Axes>"
            ]
          },
          "execution_count": 128,
          "metadata": {},
          "output_type": "execute_result"
        },
        {
          "data": {
            "text/plain": [
              "<Axes: >"
            ]
          },
          "execution_count": 128,
          "metadata": {},
          "output_type": "execute_result"
        },
        {
          "data": {
            "text/plain": [
              "[<matplotlib.lines.Line2D at 0x7fe1faba1110>]"
            ]
          },
          "execution_count": 128,
          "metadata": {},
          "output_type": "execute_result"
        },
        {
          "data": {
            "text/plain": [
              "[<matplotlib.lines.Line2D at 0x7fe1f1ca4b10>]"
            ]
          },
          "execution_count": 128,
          "metadata": {},
          "output_type": "execute_result"
        },
        {
          "data": {
            "text/plain": [
              "Text(0.5, 0, 'Epoch')"
            ]
          },
          "execution_count": 128,
          "metadata": {},
          "output_type": "execute_result"
        },
        {
          "data": {
            "text/plain": [
              "Text(0, 0.5, 'L1 Norm')"
            ]
          },
          "execution_count": 128,
          "metadata": {},
          "output_type": "execute_result"
        },
        {
          "data": {
            "text/plain": [
              "(0.001, 100.0)"
            ]
          },
          "execution_count": 128,
          "metadata": {},
          "output_type": "execute_result"
        },
        {
          "data": {
            "text/plain": [
              "<matplotlib.legend.Legend at 0x7fe218c83810>"
            ]
          },
          "execution_count": 128,
          "metadata": {},
          "output_type": "execute_result"
        },
        {
          "data": {
            "text/plain": [
              "<Axes: >"
            ]
          },
          "execution_count": 128,
          "metadata": {},
          "output_type": "execute_result"
        },
        {
          "data": {
            "text/plain": [
              "[<matplotlib.lines.Line2D at 0x7fe1ef02da50>]"
            ]
          },
          "execution_count": 128,
          "metadata": {},
          "output_type": "execute_result"
        },
        {
          "data": {
            "text/plain": [
              "[<matplotlib.lines.Line2D at 0x7fe1ef07aa90>]"
            ]
          },
          "execution_count": 128,
          "metadata": {},
          "output_type": "execute_result"
        },
        {
          "data": {
            "text/plain": [
              "Text(0.5, 0, 'Epoch')"
            ]
          },
          "execution_count": 128,
          "metadata": {},
          "output_type": "execute_result"
        },
        {
          "data": {
            "text/plain": [
              "Text(0, 0.5, 'Linf Norm')"
            ]
          },
          "execution_count": 128,
          "metadata": {},
          "output_type": "execute_result"
        },
        {
          "data": {
            "text/plain": [
              "(0.001, 100.0)"
            ]
          },
          "execution_count": 128,
          "metadata": {},
          "output_type": "execute_result"
        },
        {
          "data": {
            "text/plain": [
              "<matplotlib.legend.Legend at 0x7fe1f094b810>"
            ]
          },
          "execution_count": 128,
          "metadata": {},
          "output_type": "execute_result"
        },
        {
          "data": {
            "image/png": "[encoded data removed]",
            "text/plain": [
              "<Figure size 1200x800 with 2 Axes>"
            ]
          },
          "metadata": {},
          "output_type": "display_data"
        },
        {
          "data": {
            "text/plain": [
              "<Figure size 800x600 with 0 Axes>"
            ]
          },
          "execution_count": 128,
          "metadata": {},
          "output_type": "execute_result"
        },
        {
          "data": {
            "text/plain": [
              "[<matplotlib.lines.Line2D at 0x7fe1ea4951d0>]"
            ]
          },
          "execution_count": 128,
          "metadata": {},
          "output_type": "execute_result"
        },
        {
          "data": {
            "text/plain": [
              "[<matplotlib.lines.Line2D at 0x7fe1e9e3b250>]"
            ]
          },
          "execution_count": 128,
          "metadata": {},
          "output_type": "execute_result"
        },
        {
          "data": {
            "text/plain": [
              "Text(0.5, 0, 'Epoch')"
            ]
          },
          "execution_count": 128,
          "metadata": {},
          "output_type": "execute_result"
        },
        {
          "data": {
            "text/plain": [
              "Text(0, 0.5, 'Huber Loss')"
            ]
          },
          "execution_count": 128,
          "metadata": {},
          "output_type": "execute_result"
        },
        {
          "data": {
            "text/plain": [
              "(1e-07, 1.0)"
            ]
          },
          "execution_count": 128,
          "metadata": {},
          "output_type": "execute_result"
        },
        {
          "data": {
            "text/plain": [
              "<matplotlib.legend.Legend at 0x7fe1eb748550>"
            ]
          },
          "execution_count": 128,
          "metadata": {},
          "output_type": "execute_result"
        },
        {
          "data": {
            "image/png": "[encoded data removed]",
            "text/plain": [
              "<Figure size 800x600 with 1 Axes>"
            ]
          },
          "metadata": {},
          "output_type": "display_data"
        }
      ],
      "source": [
        "# Plotting the losses and metrics for the best network \n",
        "plt.figure(figsize=(12, 8))\n",
        "#plt.subplot(2, 2, 1)\n",
        "#plt.plot(train_losses, label=\"Train Loss\")\n",
        "#plt.plot(test_losses, label=\"Test Loss\")\n",
        "#plt.xlabel(\"Epoch\")\n",
        "#plt.ylabel(\"Loss\")\n",
        "#plt.legend()\n",
        "plt.subplot(2, 2, 2)\n",
        "plt.plot([m[\"l1_norm\"] for m in train_metrics], label=\"Train L1 Norm\")\n",
        "plt.plot([m[\"l1_norm\"] for m in test_metrics], label=\"Test L1 Norm\")\n",
        "plt.xlabel(\"Epoch\")\n",
        "plt.ylabel(\"L1 Norm\")\n",
        "# Added setting the vertical axis to be in powers of 10\n",
        "plt.yscale(\"log\")\n",
        "# Added setting the vertical axis limits to be from 10^-7 to 10^0\n",
        "plt.ylim(1e-3, 1e2)\n",
        "plt.legend()\n",
        "plt.subplot(2, 2, 3)\n",
        "plt.plot([m[\"linf_norm\"] for m in train_metrics], label=\"Train Linf Norm\")\n",
        "plt.plot([m[\"linf_norm\"] for m in test_metrics], label=\"Test Linf Norm\")\n",
        "plt.xlabel(\"Epoch\")\n",
        "plt.ylabel(\"Linf Norm\")\n",
        "# Added setting the vertical axis to be in powers of 10\n",
        "plt.yscale(\"log\")\n",
        "# Added setting the vertical axis limits to be from 10^-7 to 10^0\n",
        "plt.ylim(1e-3, 1e2)\n",
        "plt.legend()\n",
        "plt.tight_layout()\n",
        "plt.show()\n",
        "\n",
        "# Added plotting MSE of training data and MSE of test data in one plot \n",
        "plt.figure(figsize=(8, 6))\n",
        "plt.plot(train_losses,label=\"training data\")\n",
        "plt.plot(test_losses,label=\"test data\")\n",
        "#if scheduler is not None:\n",
        "#    plt.plot([scheduler.get_last_lr()[0] for _ in range(n_epochs)], label=\"Learning rate\") \n",
        "plt.xlabel(\"Epoch\")\n",
        "plt.ylabel(f\"{loss_name} Loss\")\n",
        "# Added setting the vertical axis to be in powers of 10\n",
        "plt.yscale(\"log\")\n",
        "# Added setting the vertical axis limits to be from 10^-7 to 10^0\n",
        "plt.ylim(1e-7, 1e0)\n",
        "plt.legend()\n",
        "plt.show()"
      ]
    },
    {
      "attachments": {},
      "cell_type": "markdown",
      "metadata": {
        "id": "tiEDutxIUZig"
      },
      "source": [
        "## Loading"
      ]
    },
    {
      "cell_type": "code",
      "execution_count": 129,
      "metadata": {
        "colab": {
          "base_uri": "https://localhost:8080/"
        },
        "id": "p7Mj990wUZih",
        "outputId": "a1132948-c3b1-4d75-becf-4efa93c9a7d0"
      },
      "outputs": [
        {
          "data": {
            "text/plain": [
              "<All keys matched successfully>"
            ]
          },
          "execution_count": 129,
          "metadata": {},
          "output_type": "execute_result"
        }
      ],
      "source": [
        "import json\n",
        "import pandas as pd\n",
        "\n",
        "# load the dictionary from the .json file\n",
        "with open(\"var_dict.json\", \"r\") as f:\n",
        "  var_dict_loaded = json.load(f)\n",
        "\n",
        "# extract the variables from the dictionary\n",
        "batch_size_loaded = var_dict_loaded[\"batch_size\"]\n",
        "n_epochs_loaded = var_dict_loaded[\"n_epochs\"]\n",
        "loss_name_loaded = var_dict_loaded[\"loss_name\"]\n",
        "optimizer_name_loaded = var_dict_loaded[\"optimizer_name\"]\n",
        "scheduler_name_loaded = var_dict_loaded[\"scheduler_name\"]\n",
        "n_units_loaded = var_dict_loaded[\"n_units\"]\n",
        "n_layers_loaded = var_dict_loaded[\"n_layers\"]\n",
        "hidden_activation_name_loaded = var_dict_loaded[\"hidden_activation_name\"]\n",
        "output_activation_name_loaded = var_dict_loaded[\"output_activation_name\"]\n",
        "lr_loaded = var_dict_loaded[\"lr\"]\n",
        "dropout_rate_loaded = var_dict_loaded[\"dropout_rate\"]\n",
        "\n",
        "# Loading the activation functions with subparameters\n",
        "if hidden_activation_name_loaded == \"ReLU\":\n",
        "  hidden_activation_loaded = nn.ReLU()\n",
        "elif hidden_activation_name_loaded == \"LeakyReLU\":\n",
        "  negative_slope_loaded = var_dict_loaded.get(\"leakyrelu_slope\", 0.01)  # For backwards compatibiltiy with earlier models; default to 0.01 if not present\n",
        "  hidden_activation_loaded = nn.LeakyReLU(negative_slope=negative_slope_loaded)\n",
        "elif hidden_activation_name_loaded == \"PReLU\":\n",
        "  init_loaded = var_dict_loaded.get(\"prelu_init\", 0.25)  # Default to 0.25 if not present\n",
        "  hidden_activation_loaded = nn.PReLU(init=init_loaded)\n",
        "elif hidden_activation_name_loaded == \"ELU\":\n",
        "  hidden_activation_loaded = nn.ELU()\n",
        "elif hidden_activation_name_loaded == \"SoftPlus\":\n",
        "  beta_loaded = var_dict_loaded.get(\"softplus_beta\", 1)  # Default to 1 if not present\n",
        "  hidden_activation_loaded = nn.Softplus(beta=beta_loaded)\n",
        "\n",
        "# We used to have options here, but since we have a regression problem with continuous output, we only use Linear.\n",
        "output_activation_loaded = nn.Identity()\n",
        "\n",
        "# load the network from the .pth file\n",
        "net_loaded = Net(\n",
        "    n_layers_loaded, \n",
        "    n_units_loaded, \n",
        "    hidden_activation_loaded, \n",
        "    output_activation_loaded, \n",
        "    dropout_rate_loaded\n",
        ").to(device)\n",
        "\n",
        "if torch.cuda.is_available():\n",
        " net_loaded.load_state_dict(torch.load(\"net.pth\"))\n",
        "else: \n",
        "  net_loaded.load_state_dict(torch.load(\"net.pth\", map_location=torch.device('cpu')))\n",
        "\n",
        "\n",
        "# Creating the loss function from its name\n",
        "if loss_name_loaded == \"MSE\":\n",
        "    loss_fn_loaded = nn.MSELoss()\n",
        "elif loss_name_loaded == \"MAE\":\n",
        "    loss_fn_loaded = nn.L1Loss()\n",
        "elif loss_name_loaded == \"Huber\":\n",
        "    loss_fn_loaded = nn.SmoothL1Loss() \n",
        "elif loss_name_loaded == \"Quantile\":\n",
        "    def quantile_loss(y_pred, y_true, q=0.5):\n",
        "        e = y_pred - y_true\n",
        "        return torch.mean(torch.max(q*e, (q-1)*e))\n",
        "    loss_fn_loaded = quantile_loss\n",
        "\n",
        "# load the optimizer from the .pth file\n",
        "if torch.cuda.is_available():\n",
        "  optimizer_loaded_state_dict = torch.load(\"optimizer.pth\")\n",
        "else:\n",
        "  optimizer_loaded_state_dict = torch.load(\"optimizer.pth\", map_location=torch.device('cpu'))\n",
        "\n",
        "if optimizer_name_loaded == \"SGD\":\n",
        "  # Added getting the weight decay and momentum parameters from the state dict\n",
        "  weight_decay_loaded = optimizer_loaded_state_dict[\"param_groups\"][0][\"weight_decay\"]\n",
        "  momentum_loaded = optimizer_loaded_state_dict[\"param_groups\"][0][\"momentum\"]\n",
        "  optimizer_loaded = optim.SGD(net_loaded.parameters(), lr=lr_loaded, weight_decay=weight_decay_loaded, momentum=momentum_loaded)\n",
        "elif optimizer_name_loaded == \"Adam\":\n",
        "  # Added getting the weight decay and beta parameters from the state dict\n",
        "  weight_decay_loaded = optimizer_loaded_state_dict[\"param_groups\"][0][\"weight_decay\"]\n",
        "  beta1_loaded = optimizer_loaded_state_dict[\"param_groups\"][0][\"betas\"][0]\n",
        "  beta2_loaded = optimizer_loaded_state_dict[\"param_groups\"][0][\"betas\"][1]\n",
        "  optimizer_loaded = optim.Adam(net_loaded.parameters(), lr=lr_loaded, weight_decay=weight_decay_loaded, betas=(beta1_loaded, beta2_loaded))\n",
        "elif optimizer_name_loaded == \"RMSprop\":\n",
        "  optimizer_loaded = optim.RMSprop(net_loaded.parameters(), lr=lr_loaded)\n",
        "elif optimizer_name_loaded == \"Adagrad\":\n",
        "  # Added loading the Adagrad optimizer\n",
        "  optimizer_loaded = optim.Adagrad(net_loaded.parameters(), lr=lr_loaded)\n",
        "optimizer_loaded.load_state_dict(optimizer_loaded_state_dict)\n",
        "\n",
        "# load the scheduler from the .pth file\n",
        "if torch.cuda.is_available():\n",
        "  scheduler_loaded_state_dict = torch.load(\"scheduler.pth\")\n",
        "else: \n",
        "  scheduler_loaded_state_dict = torch.load(\"scheduler.pth\", map_location=torch.device('cpu'))\n",
        "\n",
        "if scheduler_name_loaded == \"StepLR\":\n",
        "  # Added getting the step_size and gamma parameters from the state dict\n",
        "  step_size_loaded = scheduler_loaded_state_dict[\"step_size\"]\n",
        "  gamma_loaded = scheduler_loaded_state_dict[\"gamma\"]\n",
        "  scheduler_loaded = optim.lr_scheduler.StepLR(optimizer_loaded, step_size=step_size_loaded, gamma=gamma_loaded)\n",
        "elif scheduler_name_loaded == \"ExponentialLR\":\n",
        "  # Added getting the gamma parameter from the state dict\n",
        "  gamma_loaded = scheduler_loaded_state_dict[\"gamma\"]\n",
        "  scheduler_loaded = optim.lr_scheduler.ExponentialLR(optimizer_loaded, gamma=gamma_loaded)\n",
        "elif scheduler_name_loaded == \"CosineAnnealingLR\":\n",
        "  # Added getting the T_max parameter from the state dict\n",
        "  T_max_loaded = scheduler_loaded_state_dict[\"T_max\"]\n",
        "  scheduler_loaded = optim.lr_scheduler.CosineAnnealingLR(optimizer_loaded, T_max=T_max_loaded)\n",
        "elif scheduler_name_loaded == \"ReduceLROnPlateau\":\n",
        "  # Added getting the mode, factor, patience, threshold and min_lr parameters from the state dict\n",
        "  mode_loaded = scheduler_loaded_state_dict[\"mode\"]\n",
        "  factor_loaded = scheduler_loaded_state_dict[\"factor\"]\n",
        "  patience_loaded = scheduler_loaded_state_dict[\"patience\"]\n",
        "  threshold_loaded = scheduler_loaded_state_dict[\"threshold\"]\n",
        "  min_lr_loaded = scheduler_loaded_state_dict[\"min_lrs\"][0]\n",
        "  scheduler_loaded = optim.lr_scheduler.ReduceLROnPlateau(\n",
        "                    optimizer_loaded, mode=mode_loaded, factor=factor_loaded, patience=patience_loaded, threshold=threshold_loaded, min_lr=min_lr_loaded\n",
        "                )\n",
        "elif scheduler_name_loaded == \"CyclicLR\":  # Added CyclicLR\n",
        "    base_lr_loaded = scheduler_loaded_state_dict[\"base_lr\"]\n",
        "    max_lr_loaded = scheduler_loaded_state_dict[\"max_lr\"]\n",
        "    step_size_up_loaded = scheduler_loaded_state_dict[\"step_size_up\"]\n",
        "    scheduler_loaded = optim.lr_scheduler.CyclicLR(\n",
        "                    optimizer, base_lr=base_lr_loaded, max_lr=max_lr_loaded, step_size_up=step_size_up_loaded\n",
        "                )\n",
        "else:\n",
        "  scheduler_loaded = None\n",
        "\n",
        "if scheduler_loaded is not None:\n",
        "  # Added loading the state dict to the scheduler_loaded\n",
        "  scheduler_loaded.load_state_dict(scheduler_loaded_state_dict)\n",
        "\n",
        "# Loading the output of the training using pandas\n",
        "train_df_loaded = pd.read_csv(\"train_output.csv\")\n",
        "train_losses_loaded = train_df_loaded[\"train_loss\"].tolist()\n",
        "test_losses_loaded = train_df_loaded[\"test_loss\"].tolist()\n",
        "train_metrics_loaded = [\n",
        "    {\n",
        "        \"l1_norm\": train_df_loaded[\"train_l1_norm\"][i],\n",
        "        \"linf_norm\": train_df_loaded[\"train_linf_norm\"][i],\n",
        "    }\n",
        "    for i in range(len(train_df_loaded))\n",
        "]\n",
        "test_metrics_loaded = [\n",
        "    {\n",
        "        \"l1_norm\": train_df_loaded[\"test_l1_norm\"][i],\n",
        "        \"linf_norm\": train_df_loaded[\"test_linf_norm\"][i],\n",
        "    }\n",
        "    for i in range(len(train_df_loaded))\n",
        "]"
      ]
    },
    {
      "cell_type": "code",
      "execution_count": 130,
      "metadata": {},
      "outputs": [
        {
          "data": {
            "text/plain": [
              "49"
            ]
          },
          "execution_count": 130,
          "metadata": {},
          "output_type": "execute_result"
        },
        {
          "data": {
            "text/plain": [
              "5"
            ]
          },
          "execution_count": 130,
          "metadata": {},
          "output_type": "execute_result"
        },
        {
          "data": {
            "text/plain": [
              "'Huber'"
            ]
          },
          "execution_count": 130,
          "metadata": {},
          "output_type": "execute_result"
        },
        {
          "data": {
            "text/plain": [
              "'RMSprop'"
            ]
          },
          "execution_count": 130,
          "metadata": {},
          "output_type": "execute_result"
        },
        {
          "data": {
            "text/plain": [
              "'CycleLR'"
            ]
          },
          "execution_count": 130,
          "metadata": {},
          "output_type": "execute_result"
        },
        {
          "data": {
            "text/plain": [
              "[555, 458, 115]"
            ]
          },
          "execution_count": 130,
          "metadata": {},
          "output_type": "execute_result"
        },
        {
          "data": {
            "text/plain": [
              "3"
            ]
          },
          "execution_count": 130,
          "metadata": {},
          "output_type": "execute_result"
        },
        {
          "data": {
            "text/plain": [
              "'LeakyReLU'"
            ]
          },
          "execution_count": 130,
          "metadata": {},
          "output_type": "execute_result"
        },
        {
          "data": {
            "text/plain": [
              "'Identity'"
            ]
          },
          "execution_count": 130,
          "metadata": {},
          "output_type": "execute_result"
        },
        {
          "data": {
            "text/plain": [
              "0.000122770896701404"
            ]
          },
          "execution_count": 130,
          "metadata": {},
          "output_type": "execute_result"
        },
        {
          "data": {
            "text/plain": [
              "0.2"
            ]
          },
          "execution_count": 130,
          "metadata": {},
          "output_type": "execute_result"
        }
      ],
      "source": [
        "# %%script echo skipping\n",
        "\n",
        "var_dict_loaded[\"batch_size\"]\n",
        "var_dict_loaded[\"n_epochs\"]\n",
        "var_dict_loaded[\"loss_name\"]\n",
        "var_dict_loaded[\"optimizer_name\"]\n",
        "var_dict_loaded[\"scheduler_name\"]\n",
        "var_dict_loaded[\"n_units\"]\n",
        "var_dict_loaded[\"n_layers\"]\n",
        "var_dict_loaded[\"hidden_activation_name\"]\n",
        "var_dict_loaded[\"output_activation_name\"]\n",
        "var_dict_loaded[\"lr\"]\n",
        "var_dict_loaded[\"dropout_rate\"]"
      ]
    },
    {
      "cell_type": "code",
      "execution_count": 131,
      "metadata": {},
      "outputs": [
        {
          "name": "stdout",
          "output_type": "stream",
          "text": [
            "skipping\n"
          ]
        }
      ],
      "source": [
        "%%script echo skipping\n",
        "\n",
        "scheduler_loaded_state_dict[\"mode\"]\n",
        "scheduler_loaded_state_dict[\"factor\"]\n",
        "scheduler_loaded_state_dict[\"patience\"]\n",
        "scheduler_loaded_state_dict[\"threshold\"]\n",
        "scheduler_loaded_state_dict[\"min_lrs\"]\n",
        "\n",
        "\n",
        "scheduler_loaded_state_dict[\"base_lr\"]\n",
        "scheduler_loaded_state_dict[\"max_lr\"]\n",
        "scheduler_loaded_state_dict[\"step_size_up\"]"
      ]
    },
    {
      "cell_type": "code",
      "execution_count": 132,
      "metadata": {},
      "outputs": [
        {
          "data": {
            "text/plain": [
              "{'batch_size': 49,\n",
              " 'n_epochs': 5,\n",
              " 'loss_name': 'Huber',\n",
              " 'optimizer_name': 'RMSprop',\n",
              " 'scheduler_name': 'CycleLR',\n",
              " 'n_units': [555, 458, 115],\n",
              " 'n_layers': 3,\n",
              " 'hidden_activation_name': 'LeakyReLU',\n",
              " 'output_activation_name': 'Identity',\n",
              " 'lr': 0.000122770896701404,\n",
              " 'dropout_rate': 0.2,\n",
              " 'leakyrelu_slope': 0.01}"
            ]
          },
          "execution_count": 132,
          "metadata": {},
          "output_type": "execute_result"
        },
        {
          "data": {
            "text/plain": [
              "'LeakyReLU'"
            ]
          },
          "execution_count": 132,
          "metadata": {},
          "output_type": "execute_result"
        }
      ],
      "source": [
        "# %%script echo skipping\n",
        "\n",
        "var_dict\n",
        "hidden_activation_name_loaded"
      ]
    },
    {
      "cell_type": "code",
      "execution_count": 135,
      "metadata": {
        "colab": {
          "base_uri": "https://localhost:8080/",
          "height": 1000
        },
        "id": "GQ_fcj7zUZii",
        "outputId": "c4979ef0-a99c-4754-e222-3af23a83c1cb"
      },
      "outputs": [
        {
          "data": {
            "text/plain": [
              "0.01"
            ]
          },
          "execution_count": 135,
          "metadata": {},
          "output_type": "execute_result"
        },
        {
          "data": {
            "text/plain": [
              "49"
            ]
          },
          "execution_count": 135,
          "metadata": {},
          "output_type": "execute_result"
        },
        {
          "data": {
            "text/plain": [
              "5"
            ]
          },
          "execution_count": 135,
          "metadata": {},
          "output_type": "execute_result"
        },
        {
          "data": {
            "text/plain": [
              "'Huber'"
            ]
          },
          "execution_count": 135,
          "metadata": {},
          "output_type": "execute_result"
        },
        {
          "data": {
            "text/plain": [
              "'RMSprop'"
            ]
          },
          "execution_count": 135,
          "metadata": {},
          "output_type": "execute_result"
        },
        {
          "data": {
            "text/plain": [
              "'CycleLR'"
            ]
          },
          "execution_count": 135,
          "metadata": {},
          "output_type": "execute_result"
        },
        {
          "data": {
            "text/plain": [
              "[555, 458, 115]"
            ]
          },
          "execution_count": 135,
          "metadata": {},
          "output_type": "execute_result"
        },
        {
          "data": {
            "text/plain": [
              "3"
            ]
          },
          "execution_count": 135,
          "metadata": {},
          "output_type": "execute_result"
        },
        {
          "data": {
            "text/plain": [
              "'LeakyReLU'"
            ]
          },
          "execution_count": 135,
          "metadata": {},
          "output_type": "execute_result"
        },
        {
          "data": {
            "text/plain": [
              "'Identity'"
            ]
          },
          "execution_count": 135,
          "metadata": {},
          "output_type": "execute_result"
        },
        {
          "data": {
            "text/plain": [
              "0.000122770896701404"
            ]
          },
          "execution_count": 135,
          "metadata": {},
          "output_type": "execute_result"
        },
        {
          "data": {
            "text/plain": [
              "0.2"
            ]
          },
          "execution_count": 135,
          "metadata": {},
          "output_type": "execute_result"
        },
        {
          "data": {
            "text/plain": [
              "LeakyReLU(negative_slope=0.01)"
            ]
          },
          "execution_count": 135,
          "metadata": {},
          "output_type": "execute_result"
        },
        {
          "data": {
            "text/plain": [
              "Identity()"
            ]
          },
          "execution_count": 135,
          "metadata": {},
          "output_type": "execute_result"
        },
        {
          "data": {
            "text/plain": [
              "Net(\n",
              "  (hidden_activation): LeakyReLU(negative_slope=0.01)\n",
              "  (output_activation): Identity()\n",
              "  (layers): ModuleList(\n",
              "    (0): Linear(in_features=14, out_features=555, bias=True)\n",
              "    (1): Linear(in_features=555, out_features=458, bias=True)\n",
              "    (2): Linear(in_features=458, out_features=115, bias=True)\n",
              "    (3): Linear(in_features=115, out_features=1, bias=True)\n",
              "  )\n",
              "  (dropouts): ModuleList(\n",
              "    (0-2): 3 x Dropout(p=0.2, inplace=False)\n",
              "  )\n",
              ")"
            ]
          },
          "execution_count": 135,
          "metadata": {},
          "output_type": "execute_result"
        },
        {
          "data": {
            "text/plain": [
              "{'training': True,\n",
              " '_parameters': OrderedDict(),\n",
              " '_buffers': OrderedDict(),\n",
              " '_non_persistent_buffers_set': set(),\n",
              " '_backward_pre_hooks': OrderedDict(),\n",
              " '_backward_hooks': OrderedDict(),\n",
              " '_is_full_backward_hook': None,\n",
              " '_forward_hooks': OrderedDict(),\n",
              " '_forward_hooks_with_kwargs': OrderedDict(),\n",
              " '_forward_pre_hooks': OrderedDict(),\n",
              " '_forward_pre_hooks_with_kwargs': OrderedDict(),\n",
              " '_state_dict_hooks': OrderedDict(),\n",
              " '_state_dict_pre_hooks': OrderedDict(),\n",
              " '_load_state_dict_pre_hooks': OrderedDict(),\n",
              " '_load_state_dict_post_hooks': OrderedDict(),\n",
              " '_modules': OrderedDict([('hidden_activation',\n",
              "               LeakyReLU(negative_slope=0.01)),\n",
              "              ('output_activation', Identity()),\n",
              "              ('layers',\n",
              "               ModuleList(\n",
              "                 (0): Linear(in_features=14, out_features=555, bias=True)\n",
              "                 (1): Linear(in_features=555, out_features=458, bias=True)\n",
              "                 (2): Linear(in_features=458, out_features=115, bias=True)\n",
              "                 (3): Linear(in_features=115, out_features=1, bias=True)\n",
              "               )),\n",
              "              ('dropouts',\n",
              "               ModuleList(\n",
              "                 (0-2): 3 x Dropout(p=0.2, inplace=False)\n",
              "               ))]),\n",
              " 'n_layers': 3,\n",
              " 'n_units': [555, 458, 115],\n",
              " 'dropout_rate': 0.2}"
            ]
          },
          "execution_count": 135,
          "metadata": {},
          "output_type": "execute_result"
        },
        {
          "data": {
            "text/plain": [
              "SmoothL1Loss()"
            ]
          },
          "execution_count": 135,
          "metadata": {},
          "output_type": "execute_result"
        },
        {
          "data": {
            "text/plain": [
              "RMSprop (\n",
              "Parameter Group 0\n",
              "    alpha: 0.99\n",
              "    centered: False\n",
              "    differentiable: False\n",
              "    eps: 1e-08\n",
              "    foreach: None\n",
              "    lr: 0.000122770896701404\n",
              "    maximize: False\n",
              "    momentum: 0\n",
              "    weight_decay: 0\n",
              ")"
            ]
          },
          "execution_count": 135,
          "metadata": {},
          "output_type": "execute_result"
        },
        {
          "data": {
            "text/plain": [
              "{'defaults': {'lr': 0.000122770896701404,\n",
              "  'momentum': 0,\n",
              "  'alpha': 0.99,\n",
              "  'eps': 1e-08,\n",
              "  'centered': False,\n",
              "  'weight_decay': 0,\n",
              "  'foreach': None,\n",
              "  'maximize': False,\n",
              "  'differentiable': False},\n",
              " '_optimizer_step_pre_hooks': OrderedDict(),\n",
              " '_optimizer_step_post_hooks': OrderedDict(),\n",
              " '_zero_grad_profile_name': 'Optimizer.zero_grad#RMSprop.zero_grad',\n",
              " 'state': defaultdict(dict,\n",
              "             {Parameter containing:\n",
              "              tensor([[-0.6829,  0.0314,  0.0531,  ..., -0.4810, -0.6898, -0.5138],\n",
              "                      [ 0.3516,  0.0114, -0.1150,  ...,  0.2879,  0.0069,  0.0463],\n",
              "                      [-0.0195, -0.0156, -0.0281,  ..., -0.3003,  0.3941,  0.0960],\n",
              "                      ...,\n",
              "                      [ 0.5860,  0.0883,  0.0071,  ...,  0.1767, -0.1497,  0.0122],\n",
              "                      [-0.2699,  0.0473, -0.0216,  ...,  0.2606,  0.4352,  0.4812],\n",
              "                      [ 0.0358, -0.0226,  0.0729,  ..., -0.1084, -0.2605, -0.1192]],\n",
              "                     requires_grad=True): {'step': 86735,\n",
              "               'square_avg': tensor([[4.6805e-05, 1.5625e+00, 1.4360e+00,  ..., 4.0044e-06, 1.2916e-08,\n",
              "                        3.9953e-06],\n",
              "                       [6.5166e-05, 8.2492e-01, 3.0878e-01,  ..., 9.0554e-06, 2.5979e-08,\n",
              "                        9.0663e-06],\n",
              "                       [4.3640e-04, 2.6219e-01, 1.6879e-01,  ..., 2.6156e-04, 9.6265e-07,\n",
              "                        2.6146e-04],\n",
              "                       ...,\n",
              "                       [2.5686e-04, 8.2709e-02, 4.9435e-02,  ..., 5.6343e-05, 2.0170e-07,\n",
              "                        5.6483e-05],\n",
              "                       [2.0940e-04, 1.1940e-01, 3.7078e-02,  ..., 1.3631e-04, 5.2977e-07,\n",
              "                        1.3673e-04],\n",
              "                       [9.9186e-07, 7.4557e-04, 2.0922e-04,  ..., 1.3839e-08, 4.5037e-11,\n",
              "                        1.3863e-08]])},\n",
              "              Parameter containing:\n",
              "              tensor([-0.6982,  0.4034, -0.2610, -0.4615, -0.2042,  0.3830,  0.4213, -0.0945,\n",
              "                       0.2943, -0.6962,  0.6689,  0.2165, -0.6464, -0.1383, -0.9323, -0.2927,\n",
              "                       0.5030, -0.0217, -0.7888,  0.7918,  0.0706, -0.9397, -0.5370, -0.6389,\n",
              "                      -0.1699, -1.2309, -0.7344, -0.3003,  0.6801,  0.4120, -1.0955,  0.2365,\n",
              "                      -0.4117,  0.2787, -0.0955,  0.2168, -0.1446, -0.7477, -1.0803, -0.5762,\n",
              "                      -0.1897,  0.4260,  0.3033,  0.1053,  0.1794, -0.6897, -0.4529, -0.9318,\n",
              "                       0.7460,  0.0880, -0.0567,  0.3678,  0.1084,  0.5288,  0.1780, -0.0143,\n",
              "                      -0.7594, -0.5294,  0.1203, -0.1824,  0.4032,  0.4920,  0.1067, -0.5104,\n",
              "                      -0.2599,  0.3317, -0.5475, -0.8367, -0.1078, -0.6151,  0.0151, -0.6868,\n",
              "                       0.6719,  0.7708,  0.0337, -0.1883, -0.5372, -0.5021,  0.3059,  0.4899,\n",
              "                       0.5075, -0.4694, -0.3249,  0.2485, -0.6277, -0.4100, -0.7558,  0.1731,\n",
              "                      -0.1341,  0.3170, -1.1904,  0.0554, -0.0409,  0.5036, -0.4677,  0.5802,\n",
              "                      -0.8711, -1.1207,  0.9756, -0.0055, -0.1677,  0.0097, -1.1810, -0.3940,\n",
              "                      -0.0979, -0.0884, -0.2839, -0.6929, -0.4184, -0.8023,  0.5545, -0.5609,\n",
              "                      -1.0843, -0.3953, -0.0686, -0.7541,  0.1543,  0.0328,  0.0958, -0.5170,\n",
              "                       0.2229,  0.1662,  0.1364,  0.7427, -0.5711, -0.7051,  0.0478, -0.5667,\n",
              "                      -1.4059, -0.2973,  0.4444, -0.2373, -0.9543,  0.1615, -0.8190,  0.3007,\n",
              "                       0.5826, -0.0545, -0.1678,  0.1542, -0.2685,  1.1114, -1.2830, -0.4573,\n",
              "                      -0.5097,  0.3200, -0.1477, -0.3765,  0.0510, -0.5570,  0.0162, -0.6577,\n",
              "                      -0.6839, -0.3476, -0.8983,  0.3785, -1.2718,  0.0372, -1.1421,  0.5542,\n",
              "                      -1.3020, -0.1644, -0.3740, -0.1349, -0.5974, -0.5031, -0.5294,  0.9139,\n",
              "                      -0.2296,  0.0540, -0.6872, -0.7532, -0.6680, -0.8651, -0.5554,  0.2187,\n",
              "                       0.6065, -1.2149, -0.0759, -0.3027,  0.9770, -0.2861,  0.0571, -0.3623,\n",
              "                       0.2969,  0.2714, -0.1403, -0.5359, -1.2064,  0.2254,  0.1890,  0.8275,\n",
              "                       0.1539, -0.0982, -0.6304, -0.4363, -0.9518,  0.7911, -0.5187, -0.5098,\n",
              "                      -0.4033,  0.1943, -0.7319, -0.2181,  0.9131, -0.1082, -0.2569,  0.4080,\n",
              "                       0.3522,  0.0974, -0.6185,  0.6845, -0.4465,  0.4222,  0.1401,  0.8454,\n",
              "                      -0.6783, -0.3186,  0.9799,  0.3097, -0.0482,  0.5860, -0.0711, -0.8629,\n",
              "                       0.6485,  0.6573, -0.3337,  0.2768, -0.2025,  0.9193,  0.2965,  0.7342,\n",
              "                      -0.1868,  0.1882,  0.5852, -0.7286, -0.4387, -0.2892, -0.3789, -0.8696,\n",
              "                       0.1368, -0.3023, -0.6216, -0.1839,  0.6783,  0.2538,  0.6336,  0.3173,\n",
              "                      -1.0467,  0.7153, -0.0350,  0.0103, -0.2372,  0.3985,  0.5509, -0.3296,\n",
              "                      -0.3151, -0.4055, -0.9387,  0.8105,  0.6923,  0.0512, -0.4302, -0.9128,\n",
              "                       0.6443, -0.4323, -0.2953, -0.7444, -1.4265, -0.3858,  0.1823, -0.5730,\n",
              "                      -0.6292, -0.4949, -1.2991,  0.5731,  0.7246, -1.5081, -0.8928,  1.0061,\n",
              "                      -0.3804,  0.7209,  0.3373, -0.4111, -0.2385, -0.2906,  0.0387,  0.5044,\n",
              "                       0.8669, -0.6667, -0.1837,  0.1102, -0.5332, -0.5250, -0.4433,  0.6160,\n",
              "                      -0.4405,  0.6459,  0.2600, -0.4812,  0.4425,  0.3846,  0.9248, -0.2828,\n",
              "                      -0.0808, -0.5079,  0.3480, -0.6098,  0.2474,  0.4354,  0.1051, -0.4812,\n",
              "                       0.6731,  0.2258,  0.6398,  0.7006,  0.3300,  0.8102,  0.1173, -0.4719,\n",
              "                      -0.4442, -0.3316, -0.7192,  0.1639, -0.1934, -0.0728,  0.3149,  0.8871,\n",
              "                      -0.8954,  1.0849,  0.1737,  0.2543, -0.0823, -0.4896, -0.5364, -0.1522,\n",
              "                      -0.0790, -0.6537,  0.1807, -0.0688, -0.0916,  0.0918, -1.2690,  0.4306,\n",
              "                       0.1376,  0.7982,  0.7237, -0.1039, -0.0790, -0.4266, -0.4802,  0.6157,\n",
              "                      -0.4300,  0.5012,  0.5370, -0.2459, -0.5642,  0.2669,  0.5139, -0.0086,\n",
              "                      -0.2280, -0.0441, -1.3048, -0.5523, -0.6176,  0.4762, -0.0078, -0.4441,\n",
              "                      -0.7039, -0.0950, -0.8443, -0.5572,  0.1310, -0.1771,  0.1177, -0.5672,\n",
              "                      -0.2744, -0.7514, -0.3491,  0.0994, -0.3310,  0.1419, -0.4471,  0.2719,\n",
              "                      -0.3296,  0.2235, -0.7097,  0.8050,  0.1912, -0.2728, -0.8369, -0.5732,\n",
              "                      -0.8909, -1.1991, -0.3991, -0.4773,  0.2024, -0.2966, -0.1461, -0.5751,\n",
              "                      -0.5704,  0.2932, -0.4861, -0.5455,  0.8021, -0.3414,  0.5615, -0.8719,\n",
              "                       0.5505,  0.6841,  0.4279,  0.3141,  0.6857,  0.0396, -0.6086,  0.8433,\n",
              "                       0.5243,  0.0903,  0.3921,  0.0966, -0.4009,  0.7002, -0.1682, -0.1733,\n",
              "                       0.7523,  0.5594,  0.4593, -0.6526,  0.7569,  0.4251, -0.5308,  0.6239,\n",
              "                      -0.4325, -0.3299, -0.9582, -0.0827, -0.6331,  0.9228, -0.4648,  0.1032,\n",
              "                      -0.3412,  0.0490,  0.6854,  0.0546, -1.0025,  0.0836,  0.0243,  0.0543,\n",
              "                       0.8180,  0.0156,  0.0685,  0.3356, -0.9574,  0.1655,  0.5737,  0.8822,\n",
              "                      -0.1659, -0.4425,  0.3451,  0.2013, -0.0342,  0.5913,  0.1368, -0.1700,\n",
              "                      -0.3509, -0.5738,  0.2927,  0.3930, -0.0615, -0.5279, -1.3750,  1.0761,\n",
              "                       0.1653,  0.5393, -1.4144, -0.1529, -1.0706, -0.8488, -0.1673, -0.1340,\n",
              "                      -0.4787,  0.0953, -0.0945, -1.0647, -0.2482, -0.4049,  0.9915, -1.0327,\n",
              "                       0.5268, -0.4042,  0.2785, -0.0464,  0.3121, -1.1119,  0.0550,  0.6126,\n",
              "                       0.1309,  0.3851,  0.3198,  0.3176, -0.1567, -0.7349,  0.9860,  1.0645,\n",
              "                      -0.6844,  0.5249,  0.0025, -0.7522, -0.1695,  0.9634, -0.0079,  1.0147,\n",
              "                      -0.0384, -1.0404,  0.7124,  0.2849,  0.1828, -0.5060,  0.7454, -0.2423,\n",
              "                      -0.6286, -0.1025,  0.2022,  0.0184,  0.9214,  1.0008, -0.2759, -0.7990,\n",
              "                      -0.0787, -0.7939, -0.7704, -0.1083, -0.4371, -0.5169, -0.8939,  0.6221,\n",
              "                       0.0416,  0.2367,  0.0263, -0.5263,  0.4885, -0.3412,  0.3027, -0.8500,\n",
              "                      -0.2377,  0.0922,  0.0969,  0.5175, -1.1022,  0.5644, -0.8740, -0.6100,\n",
              "                      -0.1461,  0.1441, -0.0235], requires_grad=True): {'step': 86735,\n",
              "               'square_avg': tensor([3.9928e-06, 9.1185e-06, 2.6488e-04, 2.2265e-04, 4.6887e-05, 2.6457e-05,\n",
              "                       7.8329e-05, 3.9686e-08, 1.3402e-05, 1.1743e-05, 9.9111e-06, 7.2291e-06,\n",
              "                       5.1272e-05, 1.7828e-04, 2.9366e-05, 3.6095e-04, 1.1584e-04, 2.5478e-05,\n",
              "                       3.0397e-04, 1.1118e-05, 2.5311e-05, 2.2270e-05, 1.8244e-06, 4.8241e-09,\n",
              "                       4.2877e-09, 1.1038e-06, 8.9660e-06, 1.1639e-08, 9.6881e-05, 8.1577e-05,\n",
              "                       9.0812e-06, 4.0203e-06, 4.2448e-05, 4.9636e-06, 7.5442e-05, 2.2848e-04,\n",
              "                       5.4440e-08, 3.0849e-05, 2.4066e-05, 4.9462e-05, 4.8675e-04, 1.4218e-04,\n",
              "                       6.8358e-05, 3.2564e-05, 3.0356e-06, 9.3392e-09, 1.3852e-04, 1.3052e-08,\n",
              "                       4.6480e-06, 2.3338e-06, 2.4251e-05, 2.6683e-05, 1.1899e-04, 4.0258e-06,\n",
              "                       1.5089e-04, 1.8883e-04, 5.7623e-06, 1.0605e-06, 4.0555e-06, 2.8177e-05,\n",
              "                       1.0203e-04, 4.1224e-06, 9.6260e-05, 4.5004e-09, 3.2214e-05, 7.7835e-05,\n",
              "                       7.3015e-07, 3.4142e-06, 2.8985e-05, 8.7635e-04, 3.2511e-05, 1.6843e-04,\n",
              "                       1.0268e-05, 2.0413e-05, 1.2985e-04, 2.3401e-06, 1.2729e-05, 9.0216e-06,\n",
              "                       2.9951e-05, 7.9997e-05, 2.7794e-05, 3.5122e-07, 4.4728e-06, 1.9680e-05,\n",
              "                       2.0028e-05, 1.3078e-05, 6.4366e-05, 2.9568e-05, 3.0977e-05, 5.7010e-06,\n",
              "                       3.8327e-05, 3.2719e-05, 4.3028e-05, 1.3015e-04, 3.0481e-05, 3.5700e-06,\n",
              "                       4.7370e-05, 6.1532e-05, 1.0229e-05, 1.1071e-04, 1.0356e-05, 5.5200e-05,\n",
              "                       1.0327e-04, 6.5723e-04, 6.2490e-05, 1.7865e-05, 4.4910e-05, 2.6048e-05,\n",
              "                       2.3381e-04, 4.6689e-05, 3.7000e-06, 2.6140e-05, 1.6973e-05, 2.8160e-04,\n",
              "                       1.0250e-04, 8.5338e-07, 2.0713e-06, 2.6562e-05, 6.2570e-05, 4.5098e-07,\n",
              "                       1.9431e-05, 1.9116e-05, 2.7286e-05, 3.4880e-05, 4.5813e-05, 5.8329e-06,\n",
              "                       7.7461e-06, 1.5974e-04, 1.6660e-05, 4.8922e-05, 1.6167e-06, 7.8056e-09,\n",
              "                       1.5033e-07, 9.6786e-05, 6.6846e-09, 7.1415e-05, 1.0095e-05, 1.1256e-04,\n",
              "                       1.2663e-04, 1.6214e-04, 4.2464e-05, 3.0169e-05, 1.2710e-04, 2.7250e-04,\n",
              "                       4.7255e-05, 4.6396e-06, 2.0028e-04, 3.7330e-05, 1.2915e-04, 5.9230e-05,\n",
              "                       9.4451e-06, 4.1949e-04, 4.0261e-04, 2.4526e-05, 4.0331e-05, 9.2256e-06,\n",
              "                       1.9176e-05, 2.0737e-05, 2.3155e-05, 1.7171e-06, 1.4040e-05, 1.0240e-08,\n",
              "                       1.5488e-05, 2.0411e-04, 1.8349e-05, 4.8170e-05, 4.8753e-05, 1.3492e-05,\n",
              "                       9.5234e-05, 3.3461e-05, 9.8262e-06, 1.6100e-06, 2.0164e-04, 3.3682e-08,\n",
              "                       1.5067e-05, 1.2658e-04, 5.0163e-06, 1.0624e-05, 1.5602e-06, 9.0509e-05,\n",
              "                       1.0751e-05, 1.1242e-08, 3.2038e-04, 1.1228e-05, 2.5324e-05, 8.1309e-05,\n",
              "                       5.6268e-04, 5.7462e-06, 6.4450e-05, 9.7372e-06, 6.3029e-06, 4.3854e-06,\n",
              "                       5.5651e-05, 1.9481e-05, 1.2368e-05, 3.6507e-09, 4.1121e-05, 1.0042e-04,\n",
              "                       9.9892e-07, 8.0357e-09, 5.8317e-08, 1.1180e-05, 2.9417e-05, 2.7244e-04,\n",
              "                       1.1912e-04, 1.7306e-05, 3.3104e-04, 7.6864e-05, 7.3392e-06, 2.8138e-08,\n",
              "                       9.1659e-08, 7.4773e-06, 4.5829e-06, 3.3368e-05, 8.5578e-05, 9.9878e-06,\n",
              "                       2.7667e-05, 8.3637e-06, 1.4437e-05, 1.1255e-05, 1.4235e-05, 1.3707e-05,\n",
              "                       1.9306e-04, 1.4546e-05, 2.8102e-05, 1.8575e-04, 1.1277e-04, 1.7753e-04,\n",
              "                       7.4357e-05, 8.5944e-05, 1.5513e-04, 4.2654e-05, 2.1146e-04, 1.6014e-05,\n",
              "                       3.4779e-06, 1.2354e-06, 6.6040e-09, 9.3987e-06, 1.4815e-06, 1.3048e-05,\n",
              "                       2.2028e-05, 2.0138e-04, 8.8886e-05, 9.9215e-05, 1.3541e-05, 6.7584e-05,\n",
              "                       9.4680e-05, 9.8603e-05, 2.6378e-05, 3.4654e-06, 9.7189e-05, 2.9993e-04,\n",
              "                       1.6558e-05, 3.9794e-06, 1.6028e-05, 2.7575e-04, 9.6463e-04, 1.0346e-08,\n",
              "                       1.5255e-06, 2.6666e-05, 2.3452e-05, 1.2365e-05, 6.4761e-05, 1.3662e-04,\n",
              "                       5.8184e-06, 4.7299e-05, 5.0545e-05, 1.2479e-04, 3.8936e-06, 1.2301e-04,\n",
              "                       1.7486e-05, 2.9964e-06, 1.1841e-05, 4.0720e-04, 6.3762e-06, 2.7027e-05,\n",
              "                       2.4290e-05, 5.8152e-05, 3.1916e-08, 8.6973e-05, 9.4933e-09, 3.3435e-05,\n",
              "                       4.0462e-05, 1.8882e-04, 1.2525e-05, 2.7481e-05, 1.0116e-04, 1.0426e-05,\n",
              "                       1.0406e-05, 5.4846e-08, 5.4748e-06, 7.6837e-05, 4.2334e-05, 8.3644e-06,\n",
              "                       8.0548e-08, 7.1947e-06, 2.9778e-04, 3.0031e-06, 2.8899e-05, 9.5653e-05,\n",
              "                       4.6386e-05, 5.7760e-05, 2.0845e-04, 9.1315e-05, 3.5519e-06, 8.1742e-06,\n",
              "                       3.4221e-05, 5.1704e-05, 8.7471e-05, 3.9044e-06, 1.4866e-05, 5.7258e-05,\n",
              "                       8.8901e-06, 2.5771e-06, 4.3408e-05, 2.8155e-05, 5.5379e-06, 2.9385e-05,\n",
              "                       9.2363e-05, 4.9505e-04, 2.4269e-05, 6.1115e-09, 1.5938e-06, 6.7572e-06,\n",
              "                       1.4918e-05, 1.3336e-07, 4.1042e-06, 3.1000e-05, 1.1323e-05, 3.5179e-05,\n",
              "                       1.6405e-04, 9.8042e-05, 1.1754e-05, 6.0034e-05, 7.2970e-04, 2.6620e-06,\n",
              "                       3.6501e-05, 1.3714e-05, 8.2529e-06, 3.1175e-04, 4.7766e-05, 1.3589e-04,\n",
              "                       1.4623e-05, 2.9172e-06, 1.4196e-06, 8.4050e-06, 1.0342e-04, 5.0295e-05,\n",
              "                       6.5531e-05, 3.9917e-05, 3.4495e-08, 9.9014e-05, 7.1009e-04, 2.9265e-06,\n",
              "                       1.1548e-05, 1.7738e-08, 2.4718e-05, 5.9633e-05, 8.7722e-06, 1.9659e-08,\n",
              "                       9.8151e-09, 2.8159e-06, 2.2146e-05, 1.5235e-08, 1.8606e-08, 9.6454e-06,\n",
              "                       3.5976e-05, 9.5774e-05, 1.0554e-05, 8.5248e-09, 4.7301e-05, 1.9448e-05,\n",
              "                       8.8412e-06, 1.4867e-06, 9.2259e-06, 9.3293e-06, 3.4746e-05, 4.1728e-06,\n",
              "                       3.5769e-06, 1.0590e-07, 3.6856e-05, 5.3006e-05, 1.1447e-05, 1.2013e-05,\n",
              "                       5.2323e-06, 1.8298e-04, 1.8920e-06, 3.6251e-05, 1.1724e-04, 1.8284e-04,\n",
              "                       4.3791e-06, 1.3885e-05, 1.9893e-04, 1.1350e-05, 3.1406e-06, 2.2719e-04,\n",
              "                       1.9313e-05, 3.0690e-04, 5.4559e-05, 7.6095e-04, 1.6287e-05, 3.5848e-05,\n",
              "                       3.6443e-04, 5.2816e-06, 1.9993e-05, 4.9215e-06, 7.4558e-06, 5.3482e-05,\n",
              "                       2.2829e-06, 4.5087e-06, 6.3455e-06, 2.7022e-05, 3.5422e-05, 6.2947e-05,\n",
              "                       5.0574e-06, 3.9258e-05, 3.2390e-06, 2.2112e-06, 7.6596e-06, 1.8256e-04,\n",
              "                       1.7876e-05, 1.4496e-05, 1.6364e-05, 1.6060e-05, 2.7896e-05, 3.5670e-05,\n",
              "                       5.7588e-06, 1.5498e-06, 5.8212e-05, 5.7624e-06, 5.7619e-05, 2.2592e-05,\n",
              "                       8.4905e-05, 4.1144e-05, 5.2665e-05, 2.0434e-05, 2.5160e-04, 3.3479e-05,\n",
              "                       6.6474e-05, 2.9973e-05, 4.0321e-05, 2.2835e-04, 2.1430e-06, 1.5874e-05,\n",
              "                       7.0705e-06, 1.9355e-04, 1.0640e-05, 2.7415e-06, 1.5600e-05, 1.2646e-05,\n",
              "                       1.6041e-04, 1.6987e-05, 5.4854e-06, 1.6341e-04, 2.9356e-04, 2.4791e-05,\n",
              "                       1.1553e-05, 1.0219e-05, 5.1054e-05, 1.0053e-05, 4.1567e-05, 6.1850e-06,\n",
              "                       2.5764e-08, 2.5571e-05, 1.7309e-04, 6.5029e-09, 5.1670e-06, 1.2992e-05,\n",
              "                       1.8741e-05, 4.1502e-05, 8.6927e-06, 7.9176e-05, 3.7173e-06, 2.7597e-05,\n",
              "                       6.2409e-06, 1.7175e-04, 8.0907e-05, 4.9858e-07, 8.9762e-05, 2.0578e-05,\n",
              "                       2.7935e-05, 9.0750e-06, 4.2086e-04, 5.8968e-05, 5.7932e-04, 1.8467e-04,\n",
              "                       2.8567e-05, 3.8691e-05, 3.3480e-06, 1.5936e-05, 1.4524e-05, 3.3744e-05,\n",
              "                       4.4762e-06, 1.7213e-06, 1.6677e-05, 5.3162e-06, 8.7360e-05, 6.7609e-05,\n",
              "                       1.0377e-04, 5.1119e-05, 4.1494e-04, 1.0995e-08, 3.3970e-05, 1.4886e-05,\n",
              "                       1.4422e-05, 1.2014e-04, 1.1454e-04, 1.0626e-05, 2.7674e-05, 4.8618e-05,\n",
              "                       2.3367e-08, 7.5646e-06, 1.2811e-04, 2.2092e-06, 1.1992e-04, 2.3361e-06,\n",
              "                       1.5120e-04, 3.2434e-04, 1.8953e-05, 5.2733e-05, 4.6670e-05, 3.1758e-05,\n",
              "                       1.8798e-04, 4.9359e-05, 1.5607e-05, 9.0250e-05, 1.8660e-04, 6.7697e-08,\n",
              "                       1.5061e-05, 6.8488e-06, 5.8132e-08, 9.8829e-05, 8.6508e-05, 2.9721e-04,\n",
              "                       1.5784e-05, 4.4342e-06, 3.7150e-05, 2.5115e-04, 4.3261e-05, 1.0502e-05,\n",
              "                       1.5131e-05, 1.0665e-05, 1.6298e-05, 1.7806e-04, 2.8681e-04, 1.7381e-04,\n",
              "                       6.0421e-06, 2.3018e-05, 1.2893e-05, 4.2226e-05, 5.6996e-06, 1.6013e-04,\n",
              "                       5.5830e-05, 1.3759e-04, 1.3950e-08])},\n",
              "              Parameter containing:\n",
              "              tensor([[-0.0048, -0.0048, -0.0106,  ...,  0.0062, -0.0057,  0.0007],\n",
              "                      [ 0.0108,  0.0001, -0.0304,  ...,  0.0579, -0.0334, -0.0384],\n",
              "                      [-0.0345, -0.0218,  0.0086,  ...,  0.0834, -0.0653,  0.0100],\n",
              "                      ...,\n",
              "                      [-0.0130, -0.0272, -0.0633,  ...,  0.0534, -0.0405,  0.0059],\n",
              "                      [-0.0128, -0.0145, -0.0255,  ..., -0.0208,  0.0592, -0.0391],\n",
              "                      [ 0.0366, -0.0368,  0.0001,  ...,  0.0058,  0.0265, -0.0469]],\n",
              "                     requires_grad=True): {'step': 86735,\n",
              "               'square_avg': tensor([[9.9199e-05, 1.3559e-01, 7.8369e-05,  ..., 2.5368e-05, 3.1333e-05,\n",
              "                        4.8199e-04],\n",
              "                       [1.6655e-05, 4.8946e-04, 4.8985e-07,  ..., 1.0105e-05, 5.9941e-07,\n",
              "                        2.0653e-06],\n",
              "                       [8.7266e-05, 1.4151e-03, 1.8220e-06,  ..., 1.1902e-05, 1.2733e-06,\n",
              "                        6.4091e-06],\n",
              "                       ...,\n",
              "                       [4.2640e-06, 3.2244e-04, 4.9058e-07,  ..., 1.4617e-05, 1.5105e-06,\n",
              "                        1.8167e-06],\n",
              "                       [5.1598e-05, 1.5792e-03, 1.4653e-06,  ..., 2.6603e-05, 3.4103e-06,\n",
              "                        6.6466e-06],\n",
              "                       [3.5518e-05, 2.1264e-04, 2.1045e-06,  ..., 2.4600e-06, 9.5871e-07,\n",
              "                        8.9239e-06]])},\n",
              "              Parameter containing:\n",
              "              tensor([ 0.5704,  0.7076, -0.6138,  0.8398,  0.6093, -0.0264,  0.1050, -0.1016,\n",
              "                       0.4751, -0.8974,  1.0111,  0.4636,  0.5102,  0.6933,  0.5001,  0.6661,\n",
              "                       1.0143,  0.0194,  0.9048, -0.6004,  0.4252,  0.8294,  0.8587, -0.3861,\n",
              "                      -0.1987, -1.8403,  1.1202,  1.0388,  0.9113,  0.0560,  0.9808,  0.4474,\n",
              "                       0.6703,  0.3806,  0.9308, -1.4511, -0.2756, -0.0789, -0.1877,  0.4059,\n",
              "                      -0.5980, -0.4098, -0.1104,  0.9566,  0.9170, -0.0484,  0.4497,  0.7214,\n",
              "                       0.7318,  0.6536,  1.0889,  0.8974, -0.7502,  0.3602,  0.6931,  0.7481,\n",
              "                       0.0631,  0.0193,  0.8451,  0.4934,  0.9076, -0.0818, -0.7042,  0.4496,\n",
              "                      -0.3237, -0.8242, -0.2785,  0.3447,  0.5898,  1.0233,  0.8735,  0.5364,\n",
              "                       0.8921, -0.3015,  0.1842,  0.6421,  0.3527,  0.6430,  0.0322, -0.1084,\n",
              "                       0.5394,  0.0973,  1.0042, -1.8674,  0.8916, -1.7480, -0.7919, -0.2205,\n",
              "                       0.5507,  0.1430, -0.0999,  0.5057,  0.9242,  0.4135,  0.3789,  0.8769,\n",
              "                      -0.1548,  0.6936,  0.1704,  0.9510,  0.2175,  0.0243, -0.4771,  0.6260,\n",
              "                      -0.4330,  0.9582,  0.9254,  0.8126, -0.2540,  0.2752,  0.2592,  0.1894,\n",
              "                       0.1005,  0.9351,  0.6800,  0.2654,  0.1109, -1.6725, -0.2759,  0.2568,\n",
              "                       0.8144,  0.5411,  0.0637,  0.7867, -0.1600, -0.7859,  0.3661, -0.2568,\n",
              "                       1.0210,  1.0078,  0.3230,  0.9137,  0.9145, -0.1705,  0.9488,  0.1102,\n",
              "                       0.5756, -0.0720, -0.3873, -1.5530,  0.1344, -1.3046, -0.0195,  0.8436,\n",
              "                       0.6215,  0.9231,  0.9135, -0.4022,  0.3111, -0.0067,  0.4412,  0.4464,\n",
              "                       0.7208, -0.1448, -0.2352,  0.6215,  0.9237, -0.1757, -0.2582, -0.3216,\n",
              "                       0.7929, -0.7315, -0.2297,  0.0653, -0.5565, -0.0262, -0.1560, -1.9650,\n",
              "                       0.9263,  0.7711, -0.2702,  0.6211,  1.0405,  0.6864, -0.2757, -0.2629,\n",
              "                       0.9064,  0.7290,  0.3467,  0.6317, -0.6621,  0.8866,  0.7384, -0.2650,\n",
              "                      -0.7499,  0.4953,  0.3602,  0.6317,  0.8061, -0.7865, -0.6169, -0.3299,\n",
              "                       0.1355,  0.7746,  0.0321, -0.3188,  0.3109,  0.9544, -0.8350, -0.5049,\n",
              "                      -0.6323,  0.3546,  0.8918,  0.7332, -0.2474,  0.9934,  1.0041,  0.7978,\n",
              "                       0.0196,  0.2225, -0.0241,  0.2425,  0.7697, -0.9318, -0.7071, -0.5226,\n",
              "                       0.7909, -0.1710,  0.0406, -0.1724,  0.6249,  0.6634, -0.2720,  1.0267,\n",
              "                       0.5285,  0.5354,  0.1552,  0.8308,  0.8647, -0.3035,  0.0032, -0.1442,\n",
              "                      -0.8271,  0.4169,  0.1842,  0.5844,  0.9796, -0.6818,  0.1549,  0.4470,\n",
              "                      -0.2752, -0.6877, -0.9502,  0.6729, -0.4431, -0.6210, -0.0262,  0.8047,\n",
              "                       0.6418, -1.1842,  0.7992,  0.6680,  0.9341,  0.9325,  0.5424, -0.2630,\n",
              "                      -0.7144,  1.0409,  0.0902, -0.3203, -0.2574, -0.3897,  0.6718, -0.0085,\n",
              "                       0.0695,  0.9435, -0.4875,  1.0029, -0.1419, -2.2802, -0.3375,  0.0135,\n",
              "                       0.3994,  0.2410, -0.1628, -0.6240, -0.1529, -0.4611,  0.7402,  0.8889,\n",
              "                       0.5077,  0.8867,  0.0791,  1.1355, -0.3199, -0.6276,  0.6771,  0.2810,\n",
              "                      -0.0288, -0.1872, -0.3111,  0.8974,  0.3476,  0.9028, -1.3093, -0.4187,\n",
              "                       1.2117,  0.4909,  0.9734,  0.5335,  0.4299,  0.9490,  1.0693, -0.0336,\n",
              "                       0.8090,  0.2935,  0.8119,  0.2077,  0.3211,  0.3187,  0.8495,  0.9543,\n",
              "                       0.2224, -0.2531,  0.3329, -0.3776, -0.0783, -0.1401,  0.9310, -0.0350,\n",
              "                      -0.4122,  0.1880,  0.8445,  0.6865,  0.9309,  0.8480,  0.2041, -0.3298,\n",
              "                       0.9197,  0.6148,  0.2748, -0.3990,  0.8955,  0.8773,  0.3859, -0.3260,\n",
              "                      -0.0583,  0.2877,  0.7806,  0.4758,  0.9053,  0.7797,  0.6813,  0.3058,\n",
              "                       0.0155, -0.0305, -0.3651,  0.4543,  0.1478,  0.8430,  0.1363, -0.3289,\n",
              "                      -0.9980, -0.8454, -0.0749, -0.3484,  0.6839, -0.5306,  0.3281, -0.9846,\n",
              "                      -1.2842, -0.3908, -0.0603, -0.3926,  0.1513,  1.0824,  0.4936, -0.7500,\n",
              "                       0.0916,  0.9242, -0.7070,  0.6485,  0.2326, -0.0372, -0.1436,  0.9592,\n",
              "                      -1.5410,  0.7705, -0.5841,  0.1406,  0.7279, -0.2426,  0.9212, -0.3824,\n",
              "                       0.1905,  0.8945,  0.0933,  0.0573,  0.9663, -1.6147,  0.2785, -0.2526,\n",
              "                       0.5869,  0.0485, -0.2165,  0.2788,  0.3514, -0.1485,  0.9977, -0.0161,\n",
              "                      -0.2481,  0.9115,  0.5503,  0.0912, -0.1646,  0.4131, -0.4264,  0.6349,\n",
              "                       0.9426,  0.5100,  0.5363, -0.2234,  0.1483, -0.3549, -0.0557,  0.4260,\n",
              "                       0.5469,  0.1758,  0.5473,  0.1374, -0.3087, -0.2034,  0.5399,  0.7702,\n",
              "                      -0.5539,  0.2698,  0.9859,  0.9770, -0.0880, -0.9174,  0.4338, -0.1778,\n",
              "                       0.9693, -0.0475,  0.1696,  0.4677,  0.5412,  0.7539, -0.2658,  0.1655,\n",
              "                       0.3402,  1.0069, -0.0622,  0.8029, -0.0828, -0.2822,  1.0392,  0.1422,\n",
              "                       1.0051, -0.4944,  0.1523,  0.7030,  0.6317,  0.8635, -0.3329,  0.5323,\n",
              "                      -0.2129,  0.6035], requires_grad=True): {'step': 86735,\n",
              "               'square_avg': tensor([2.0976e-05, 9.2352e-06, 5.7750e-06, 9.3845e-10, 6.1519e-06, 1.9323e-05,\n",
              "                       2.1601e-05, 3.4668e-09, 2.4258e-05, 1.3754e-06, 2.2714e-05, 8.6963e-06,\n",
              "                       1.0163e-05, 5.1354e-09, 1.8872e-05, 6.3716e-05, 1.1857e-05, 1.3853e-05,\n",
              "                       2.7695e-09, 6.6825e-06, 1.5781e-07, 7.3336e-05, 6.0578e-06, 1.1485e-06,\n",
              "                       2.1134e-05, 3.0863e-08, 2.0935e-09, 2.9597e-06, 2.3176e-05, 4.2154e-06,\n",
              "                       7.4018e-10, 5.1708e-05, 8.3350e-10, 5.8532e-06, 2.9556e-09, 2.5654e-09,\n",
              "                       1.3599e-05, 3.9722e-09, 3.5924e-05, 1.8834e-06, 1.4259e-05, 7.3606e-09,\n",
              "                       1.1697e-09, 6.4377e-05, 1.2138e-05, 3.3455e-09, 1.8458e-05, 7.6898e-06,\n",
              "                       1.8906e-05, 9.3246e-10, 2.4989e-06, 5.5999e-05, 8.3683e-06, 4.9265e-09,\n",
              "                       2.5070e-09, 2.0922e-06, 5.3588e-07, 2.3289e-06, 9.2996e-05, 1.6324e-09,\n",
              "                       6.7271e-06, 6.1508e-06, 1.1846e-05, 5.4640e-10, 1.3001e-08, 1.3509e-07,\n",
              "                       3.3445e-09, 2.6390e-06, 5.3115e-09, 4.1720e-05, 7.3949e-05, 5.1976e-08,\n",
              "                       4.9468e-06, 9.3881e-09, 1.1207e-09, 3.4530e-06, 5.7666e-07, 1.4886e-08,\n",
              "                       3.5135e-09, 1.2241e-05, 1.7684e-05, 4.7342e-05, 2.3195e-05, 3.7059e-08,\n",
              "                       2.6255e-05, 4.1269e-08, 2.5463e-07, 7.1659e-09, 8.6041e-08, 1.6449e-09,\n",
              "                       3.6752e-05, 2.2623e-05, 9.9268e-06, 1.1072e-05, 3.9942e-07, 6.4218e-06,\n",
              "                       7.2544e-06, 1.0263e-04, 1.2828e-05, 1.9229e-05, 9.6980e-08, 2.6423e-09,\n",
              "                       3.9472e-06, 5.0293e-06, 1.6812e-05, 2.0901e-05, 4.3338e-05, 8.9457e-07,\n",
              "                       2.5544e-09, 6.5653e-08, 2.0902e-05, 2.9102e-09, 5.7743e-06, 3.9619e-05,\n",
              "                       6.7889e-05, 7.2082e-06, 1.3896e-05, 2.8793e-08, 9.9812e-06, 5.2114e-07,\n",
              "                       5.3645e-05, 6.3297e-05, 9.5598e-06, 2.4957e-06, 2.5281e-05, 3.0275e-06,\n",
              "                       6.9929e-05, 1.5272e-05, 3.7168e-10, 3.1993e-05, 1.8264e-04, 3.4531e-09,\n",
              "                       3.3464e-05, 1.6446e-05, 8.8586e-05, 1.3646e-05, 6.6047e-05, 2.0810e-05,\n",
              "                       5.6824e-07, 5.3984e-09, 5.3330e-05, 4.7200e-09, 2.4651e-06, 2.9081e-09,\n",
              "                       1.1842e-05, 1.3051e-05, 6.5987e-05, 2.9995e-09, 4.9836e-05, 2.6794e-05,\n",
              "                       4.3635e-09, 2.1831e-06, 3.3500e-09, 1.0916e-09, 1.4533e-05, 1.0947e-04,\n",
              "                       2.7993e-05, 1.4352e-05, 2.2725e-05, 2.7245e-05, 4.5392e-05, 3.7278e-06,\n",
              "                       1.6714e-05, 8.9650e-06, 1.0216e-08, 2.6161e-05, 2.8980e-09, 1.3423e-08,\n",
              "                       6.1109e-06, 4.8145e-06, 9.7487e-06, 4.4479e-05, 1.4561e-05, 6.0538e-05,\n",
              "                       2.2632e-05, 1.5094e-05, 6.4121e-06, 2.0677e-05, 9.4941e-06, 3.5874e-07,\n",
              "                       1.2177e-07, 3.9426e-05, 1.3427e-05, 1.6248e-05, 7.0971e-06, 2.6259e-09,\n",
              "                       6.2049e-07, 3.6670e-09, 7.9284e-10, 2.9200e-09, 1.3861e-06, 2.2093e-05,\n",
              "                       2.3191e-09, 6.3294e-05, 3.0289e-05, 2.5326e-09, 2.2246e-09, 1.6571e-05,\n",
              "                       6.9876e-09, 4.6961e-06, 1.2590e-08, 3.9560e-06, 2.3724e-05, 1.3149e-04,\n",
              "                       5.9532e-06, 7.1449e-06, 1.0772e-05, 1.2268e-04, 2.9297e-09, 1.0424e-06,\n",
              "                       4.8786e-09, 3.7156e-06, 4.3200e-06, 1.7982e-06, 6.2487e-08, 1.4041e-05,\n",
              "                       2.0230e-05, 2.2597e-05, 1.5824e-05, 4.0078e-05, 4.0971e-06, 4.3187e-05,\n",
              "                       2.1818e-05, 1.3334e-05, 2.3102e-06, 1.0818e-09, 1.5526e-05, 3.4563e-05,\n",
              "                       3.3466e-05, 2.3913e-05, 3.6892e-05, 1.4871e-06, 1.9582e-06, 1.3756e-05,\n",
              "                       2.1418e-09, 3.7480e-05, 1.9315e-05, 4.3411e-07, 2.5705e-09, 4.3497e-06,\n",
              "                       2.6296e-05, 3.9960e-06, 1.1410e-08, 1.1399e-05, 5.9740e-06, 1.9336e-06,\n",
              "                       5.0995e-09, 1.6691e-05, 5.9130e-05, 1.1895e-08, 3.7983e-06, 3.4632e-06,\n",
              "                       2.5387e-05, 4.1326e-05, 1.5688e-06, 1.3668e-05, 2.5978e-06, 2.7589e-09,\n",
              "                       3.4377e-06, 1.4058e-05, 1.0086e-05, 7.6365e-05, 5.2973e-06, 2.3364e-05,\n",
              "                       2.3605e-09, 3.9634e-06, 2.8685e-09, 5.9831e-06, 2.0510e-05, 3.9958e-08,\n",
              "                       5.9885e-06, 2.8491e-09, 1.0256e-04, 1.2747e-06, 2.1750e-05, 2.9070e-09,\n",
              "                       2.9027e-05, 4.8504e-06, 4.8423e-09, 3.3188e-05, 6.5870e-09, 6.5355e-05,\n",
              "                       3.5888e-09, 3.2404e-06, 1.9939e-05, 7.5020e-06, 5.2877e-05, 1.3015e-05,\n",
              "                       4.5536e-05, 1.4442e-09, 1.1918e-05, 4.8256e-05, 9.7088e-06, 3.7328e-05,\n",
              "                       2.0213e-08, 8.2340e-06, 3.6186e-06, 3.4703e-06, 4.0973e-06, 2.7259e-07,\n",
              "                       6.9987e-06, 4.6012e-06, 2.9050e-06, 3.9182e-07, 5.6965e-05, 1.1146e-05,\n",
              "                       3.7355e-05, 2.0447e-05, 1.7918e-05, 7.9048e-06, 6.9528e-05, 2.8172e-09,\n",
              "                       1.0426e-05, 3.3481e-05, 2.4579e-05, 6.0556e-09, 2.5538e-06, 2.0406e-05,\n",
              "                       1.4660e-05, 1.1556e-05, 1.7822e-05, 1.1407e-05, 2.0153e-05, 1.2764e-04,\n",
              "                       5.1947e-06, 4.9603e-06, 3.3893e-09, 8.3365e-06, 3.6730e-05, 2.4915e-09,\n",
              "                       6.3490e-06, 4.2437e-09, 3.4590e-09, 2.2860e-05, 1.9147e-06, 2.9891e-05,\n",
              "                       1.9667e-09, 9.4200e-06, 2.4443e-05, 4.0093e-09, 4.1431e-05, 9.6414e-05,\n",
              "                       9.4990e-08, 3.0379e-09, 2.3405e-09, 1.9267e-05, 4.0706e-06, 8.6841e-05,\n",
              "                       1.3926e-05, 1.2253e-05, 4.5767e-05, 2.9889e-09, 8.4442e-09, 9.8566e-07,\n",
              "                       5.7276e-09, 1.0247e-08, 7.4016e-05, 1.0125e-05, 7.5263e-08, 4.3198e-09,\n",
              "                       9.8657e-08, 2.3769e-09, 5.6049e-06, 4.4326e-06, 1.5679e-05, 2.0302e-06,\n",
              "                       6.6020e-06, 1.6968e-06, 3.6781e-09, 1.2169e-05, 8.3876e-08, 1.4323e-05,\n",
              "                       6.3263e-06, 3.9670e-09, 1.2664e-05, 7.9249e-06, 2.5615e-08, 8.6683e-05,\n",
              "                       6.8472e-06, 1.6600e-05, 4.1785e-09, 1.3417e-05, 4.1224e-06, 1.1068e-08,\n",
              "                       1.0112e-05, 5.1199e-06, 2.9827e-09, 3.8027e-09, 4.8266e-05, 8.1776e-09,\n",
              "                       2.2970e-05, 2.8722e-05, 1.0470e-04, 1.1243e-05, 1.7997e-05, 3.1741e-09,\n",
              "                       2.4037e-06, 2.4095e-05, 2.9712e-05, 1.7289e-05, 5.4566e-09, 2.9738e-05,\n",
              "                       2.2627e-06, 9.4375e-05, 8.3335e-09, 1.5969e-09, 2.4740e-05, 4.1775e-05,\n",
              "                       3.1020e-05, 3.3144e-09, 5.5459e-06, 3.0305e-05, 5.2315e-09, 1.0152e-08,\n",
              "                       2.7993e-05, 1.2939e-05, 1.7482e-05, 2.6066e-05, 6.8497e-07, 1.3055e-07,\n",
              "                       1.9169e-06, 2.4331e-08, 6.8520e-05, 3.3221e-09, 1.0922e-06, 4.5529e-06,\n",
              "                       4.7327e-05, 7.5329e-06, 1.1670e-09, 1.6982e-08, 6.8489e-07, 2.4693e-05,\n",
              "                       3.7196e-05, 3.6431e-09, 1.7424e-07, 3.0303e-09, 2.7922e-05, 2.6559e-09,\n",
              "                       1.4689e-09, 4.1195e-05, 5.3918e-07, 2.6099e-05, 2.1283e-05, 5.0500e-05,\n",
              "                       2.4638e-09, 1.6490e-05, 1.7460e-09, 1.1571e-09, 1.0450e-05, 6.3659e-06,\n",
              "                       8.1406e-05, 2.7549e-09, 2.2756e-05, 1.7377e-09, 2.7133e-05, 1.4442e-05,\n",
              "                       2.8660e-05, 1.0007e-06])},\n",
              "              Parameter containing:\n",
              "              tensor([[ 0.0187,  0.0209, -0.0005,  ...,  0.0159, -0.0577,  0.0802],\n",
              "                      [ 0.0058,  0.0057,  0.0079,  ...,  0.0167,  0.0449,  0.0810],\n",
              "                      [ 0.0494,  0.0557, -0.0151,  ...,  0.0744, -0.0680,  0.0336],\n",
              "                      ...,\n",
              "                      [-0.0308, -0.0857, -0.0281,  ..., -0.0117, -0.0348, -0.0292],\n",
              "                      [-0.0520,  0.0064, -0.0203,  ...,  0.0333,  0.0407,  0.0609],\n",
              "                      [-0.0506, -0.0103,  0.0053,  ..., -0.0261,  0.0043, -0.0003]],\n",
              "                     requires_grad=True): {'step': 86735,\n",
              "               'square_avg': tensor([[1.9107e-04, 1.0349e-05, 2.2849e-05,  ..., 3.1551e-06, 5.2065e-06,\n",
              "                        1.1959e-05],\n",
              "                       [1.6257e-06, 9.2530e-06, 1.2330e-04,  ..., 2.7050e-06, 9.4835e-06,\n",
              "                        1.3190e-05],\n",
              "                       [5.9454e-09, 2.5346e-10, 1.5004e-08,  ..., 2.0162e-10, 1.9570e-10,\n",
              "                        1.4736e-08],\n",
              "                       ...,\n",
              "                       [5.7583e-06, 1.7538e-05, 1.6960e-04,  ..., 6.7054e-06, 6.7715e-05,\n",
              "                        9.2191e-06],\n",
              "                       [1.4076e-05, 6.2980e-05, 1.5346e-04,  ..., 2.1425e-05, 1.0856e-04,\n",
              "                        3.7252e-05],\n",
              "                       [6.3360e-06, 1.9518e-05, 1.0621e-04,  ..., 9.7424e-06, 3.9369e-05,\n",
              "                        1.3930e-05]])},\n",
              "              Parameter containing:\n",
              "              tensor([ 0.8530, -0.0836,  0.0970, -1.0459,  0.1308,  1.2437, -1.1500,  0.4562,\n",
              "                       0.7238, -0.7133,  1.0488, -0.4313,  0.0783,  0.8556, -0.3593,  1.0752,\n",
              "                       0.5052,  0.0415,  0.1177,  0.5533, -0.1094,  1.3234,  1.1477,  0.0921,\n",
              "                      -0.0702,  0.5387,  0.1689,  1.2315,  1.1460,  1.1727,  1.1345,  1.3097,\n",
              "                       0.6107, -0.8074,  0.5341,  0.0839, -0.7471,  0.1078,  0.1729,  0.3914,\n",
              "                      -0.3056, -0.3931, -0.5322,  0.6345,  0.3944,  1.2804,  1.3553,  1.3142,\n",
              "                       1.1876,  0.0943,  1.0267,  0.1970,  1.1467,  0.1529, -0.2713,  0.6446,\n",
              "                       1.1280, -1.0056,  1.2631,  1.0659,  0.9100,  0.1624,  0.1003,  1.2784,\n",
              "                       1.1007, -0.1865,  0.7105,  0.8208,  1.3276,  1.3112,  1.3910,  1.1385,\n",
              "                      -0.0464,  0.0644,  1.3366,  0.2542,  1.1630,  1.1037,  0.0585,  1.3338,\n",
              "                       0.7508, -0.0616, -0.2353,  1.1242,  1.3078,  1.1193,  1.2819,  0.8519,\n",
              "                      -1.0719,  0.3572,  1.3524,  0.0446, -0.9440,  1.2215, -1.5832,  0.0974,\n",
              "                       1.0202, -0.9449,  1.2164,  1.2525, -1.0992,  1.1831,  0.0839,  1.2463,\n",
              "                       0.0797,  0.9529,  0.6972,  0.5759, -0.3523, -0.1768,  0.0950, -0.2955,\n",
              "                      -0.2728,  0.1803,  0.0196], requires_grad=True): {'step': 86735,\n",
              "               'square_avg': tensor([2.2784e-06, 3.7276e-06, 1.0847e-10, 1.0418e-09, 3.3744e-06, 7.2390e-06,\n",
              "                       1.8633e-09, 4.4754e-12, 8.0406e-05, 1.6840e-07, 1.7869e-05, 8.0309e-06,\n",
              "                       4.9402e-06, 8.3022e-07, 5.4849e-06, 2.5497e-05, 3.9935e-05, 6.0044e-06,\n",
              "                       1.9521e-05, 3.3182e-06, 1.4447e-06, 3.0470e-06, 1.7657e-05, 6.3393e-07,\n",
              "                       6.1059e-06, 1.4531e-06, 5.3589e-06, 4.3747e-06, 1.2845e-06, 3.6802e-07,\n",
              "                       1.0919e-06, 2.7691e-06, 4.4738e-05, 6.7076e-11, 3.7508e-05, 1.9663e-06,\n",
              "                       4.9625e-06, 2.1915e-07, 4.4454e-05, 4.8551e-05, 1.7027e-07, 1.6774e-05,\n",
              "                       2.6275e-06, 8.6142e-05, 3.8741e-05, 4.2093e-06, 5.2934e-06, 2.8661e-06,\n",
              "                       9.5237e-06, 4.0260e-05, 7.2933e-06, 5.3265e-06, 6.8770e-06, 1.7926e-05,\n",
              "                       6.0728e-07, 2.5296e-07, 3.2410e-06, 5.6987e-09, 2.4650e-06, 1.8153e-06,\n",
              "                       7.6524e-05, 1.3694e-05, 3.8728e-05, 7.9498e-06, 6.4374e-07, 2.0705e-05,\n",
              "                       3.1175e-07, 3.8469e-05, 5.6134e-06, 4.7026e-06, 2.5738e-06, 4.8264e-06,\n",
              "                       1.5292e-05, 2.7145e-05, 3.6955e-06, 3.8273e-05, 1.0277e-07, 2.8057e-06,\n",
              "                       1.0784e-06, 7.4190e-06, 1.1328e-04, 2.8100e-06, 3.2353e-07, 4.9646e-06,\n",
              "                       8.2692e-07, 8.5317e-06, 2.6145e-06, 3.0872e-06, 7.9944e-09, 6.5437e-05,\n",
              "                       1.1886e-05, 8.0996e-07, 9.7247e-10, 4.0420e-06, 3.1947e-09, 9.7638e-06,\n",
              "                       1.1944e-05, 3.3892e-08, 5.8017e-07, 3.2724e-06, 2.3465e-10, 1.9684e-05,\n",
              "                       4.8773e-06, 3.3571e-06, 1.8970e-06, 1.1848e-06, 1.9544e-06, 7.6725e-05,\n",
              "                       1.7021e-05, 3.5478e-05, 1.2909e-05, 6.7207e-06, 1.7012e-05, 3.3789e-05,\n",
              "                       1.5618e-05])},\n",
              "              Parameter containing:\n",
              "              tensor([[ 0.0102, -0.0160, -0.0050, -0.0195, -0.0182,  0.0211, -0.0228, -0.0013,\n",
              "                        0.0746, -0.0292,  0.0442, -0.0583, -0.0202,  0.0064, -0.0210,  0.0445,\n",
              "                        0.0565, -0.0217, -0.0494,  0.0134,  0.0640,  0.0129,  0.0542, -0.0058,\n",
              "                       -0.0239,  0.0080, -0.0198,  0.0149,  0.0069,  0.0040,  0.0066,  0.0121,\n",
              "                        0.0516, -0.0003,  0.0483, -0.0118, -0.0283, -0.0046,  0.0666,  0.0780,\n",
              "                        0.0137, -0.0514, -0.0162,  0.1333,  0.0492,  0.0148,  0.0167,  0.0118,\n",
              "                        0.0229, -0.0717,  0.0203, -0.0203,  0.0202, -0.0627,  0.0742,  0.0033,\n",
              "                        0.0129, -0.0423,  0.0102,  0.0105,  0.0725, -0.0364, -0.0776,  0.0217,\n",
              "                        0.0050, -0.0386,  0.0035,  0.0488,  0.0168,  0.0153,  0.0120,  0.0151,\n",
              "                       -0.0352, -0.0561,  0.0127, -0.0681,  0.0022,  0.0112, -0.0093,  0.0193,\n",
              "                        0.0885, -0.0149,  0.0577,  0.0173,  0.0060,  0.0240,  0.0105,  0.0115,\n",
              "                       -0.0396,  0.0954,  0.0243, -0.0070, -0.0068,  0.0137, -0.0339, -0.0303,\n",
              "                        0.0289, -0.0500,  0.0050,  0.0123, -0.0097,  0.0563, -0.0192,  0.0134,\n",
              "                       -0.0122,  0.0073,  0.0095,  0.0997, -0.1003, -0.0904, -0.0332, -0.0662,\n",
              "                       -0.0557, -0.0569, -0.0415]], requires_grad=True): {'step': 86735,\n",
              "               'square_avg': tensor([[4.5864e+00, 2.0271e-01, 7.6513e-03, 1.2445e-02, 1.5914e-01, 5.3896e-01,\n",
              "                        1.9342e-02, 1.3353e-03, 7.4710e-02, 2.4725e-03, 1.4669e-01, 1.8995e-02,\n",
              "                        1.3808e-01, 4.1582e+00, 9.1299e-01, 1.0177e+01, 6.4306e-02, 3.9832e-01,\n",
              "                        4.8841e-02, 1.1471e+00, 9.8136e-03, 1.1305e+00, 7.7010e-02, 1.1250e+00,\n",
              "                        5.0004e-01, 1.8866e+00, 2.7278e-01, 1.6890e+00, 3.2677e+00, 3.7583e+00,\n",
              "                        1.7210e+01, 2.0547e+00, 1.4015e-01, 1.0580e+00, 2.6732e-01, 1.6531e+00,\n",
              "                        3.7421e-02, 3.4907e-01, 5.2904e-02, 4.1034e-02, 2.6615e-01, 3.2732e-02,\n",
              "                        1.0905e-01, 3.4982e-02, 1.0596e-01, 1.2231e+00, 2.2571e+00, 2.8873e+00,\n",
              "                        5.9810e+00, 4.9643e-02, 5.9323e-01, 1.1266e-01, 9.4469e-01, 2.8600e-02,\n",
              "                        2.0777e-02, 2.1965e+01, 2.0149e+01, 1.6258e-02, 5.0072e+01, 3.0063e+00,\n",
              "                        1.4793e+00, 5.7776e-02, 2.0444e-02, 2.2638e+01, 1.6565e+01, 6.9705e-02,\n",
              "                        4.1966e+01, 1.8493e-01, 7.9488e-01, 8.8769e-01, 2.7851e+00, 1.1548e+00,\n",
              "                        1.1191e-01, 3.8500e-02, 2.2427e+00, 3.1516e-02, 3.1323e+01, 9.3473e+00,\n",
              "                        2.7321e-01, 3.9221e+00, 7.0073e-02, 8.9710e-01, 9.8777e-03, 1.0452e+01,\n",
              "                        9.7144e+00, 4.2731e-01, 1.2312e+01, 5.4562e+00, 1.2941e-02, 2.2953e-02,\n",
              "                        5.8646e-01, 4.9602e-01, 6.7872e-02, 3.2372e+01, 1.4619e-02, 7.5144e-02,\n",
              "                        1.5246e+00, 1.9999e-02, 7.1800e+00, 2.1870e+00, 1.2697e-02, 7.6059e-02,\n",
              "                        4.7735e-01, 1.9902e+00, 4.3353e-01, 7.5777e+00, 5.0833e+00, 2.1894e-02,\n",
              "                        1.2346e-02, 2.9397e-02, 8.8118e-02, 2.3422e-02, 3.5109e-02, 7.4379e-02,\n",
              "                        6.2869e-02]])},\n",
              "              Parameter containing:\n",
              "              tensor([1.4183], requires_grad=True): {'step': 86735,\n",
              "               'square_avg': tensor([0.0191])}}),\n",
              " 'param_groups': [{'lr': 0.000122770896701404,\n",
              "   'momentum': 0,\n",
              "   'alpha': 0.99,\n",
              "   'eps': 1e-08,\n",
              "   'centered': False,\n",
              "   'weight_decay': 0,\n",
              "   'foreach': None,\n",
              "   'maximize': False,\n",
              "   'differentiable': False,\n",
              "   'params': [Parameter containing:\n",
              "    tensor([[-0.6829,  0.0314,  0.0531,  ..., -0.4810, -0.6898, -0.5138],\n",
              "            [ 0.3516,  0.0114, -0.1150,  ...,  0.2879,  0.0069,  0.0463],\n",
              "            [-0.0195, -0.0156, -0.0281,  ..., -0.3003,  0.3941,  0.0960],\n",
              "            ...,\n",
              "            [ 0.5860,  0.0883,  0.0071,  ...,  0.1767, -0.1497,  0.0122],\n",
              "            [-0.2699,  0.0473, -0.0216,  ...,  0.2606,  0.4352,  0.4812],\n",
              "            [ 0.0358, -0.0226,  0.0729,  ..., -0.1084, -0.2605, -0.1192]],\n",
              "           requires_grad=True),\n",
              "    Parameter containing:\n",
              "    tensor([-0.6982,  0.4034, -0.2610, -0.4615, -0.2042,  0.3830,  0.4213, -0.0945,\n",
              "             0.2943, -0.6962,  0.6689,  0.2165, -0.6464, -0.1383, -0.9323, -0.2927,\n",
              "             0.5030, -0.0217, -0.7888,  0.7918,  0.0706, -0.9397, -0.5370, -0.6389,\n",
              "            -0.1699, -1.2309, -0.7344, -0.3003,  0.6801,  0.4120, -1.0955,  0.2365,\n",
              "            -0.4117,  0.2787, -0.0955,  0.2168, -0.1446, -0.7477, -1.0803, -0.5762,\n",
              "            -0.1897,  0.4260,  0.3033,  0.1053,  0.1794, -0.6897, -0.4529, -0.9318,\n",
              "             0.7460,  0.0880, -0.0567,  0.3678,  0.1084,  0.5288,  0.1780, -0.0143,\n",
              "            -0.7594, -0.5294,  0.1203, -0.1824,  0.4032,  0.4920,  0.1067, -0.5104,\n",
              "            -0.2599,  0.3317, -0.5475, -0.8367, -0.1078, -0.6151,  0.0151, -0.6868,\n",
              "             0.6719,  0.7708,  0.0337, -0.1883, -0.5372, -0.5021,  0.3059,  0.4899,\n",
              "             0.5075, -0.4694, -0.3249,  0.2485, -0.6277, -0.4100, -0.7558,  0.1731,\n",
              "            -0.1341,  0.3170, -1.1904,  0.0554, -0.0409,  0.5036, -0.4677,  0.5802,\n",
              "            -0.8711, -1.1207,  0.9756, -0.0055, -0.1677,  0.0097, -1.1810, -0.3940,\n",
              "            -0.0979, -0.0884, -0.2839, -0.6929, -0.4184, -0.8023,  0.5545, -0.5609,\n",
              "            -1.0843, -0.3953, -0.0686, -0.7541,  0.1543,  0.0328,  0.0958, -0.5170,\n",
              "             0.2229,  0.1662,  0.1364,  0.7427, -0.5711, -0.7051,  0.0478, -0.5667,\n",
              "            -1.4059, -0.2973,  0.4444, -0.2373, -0.9543,  0.1615, -0.8190,  0.3007,\n",
              "             0.5826, -0.0545, -0.1678,  0.1542, -0.2685,  1.1114, -1.2830, -0.4573,\n",
              "            -0.5097,  0.3200, -0.1477, -0.3765,  0.0510, -0.5570,  0.0162, -0.6577,\n",
              "            -0.6839, -0.3476, -0.8983,  0.3785, -1.2718,  0.0372, -1.1421,  0.5542,\n",
              "            -1.3020, -0.1644, -0.3740, -0.1349, -0.5974, -0.5031, -0.5294,  0.9139,\n",
              "            -0.2296,  0.0540, -0.6872, -0.7532, -0.6680, -0.8651, -0.5554,  0.2187,\n",
              "             0.6065, -1.2149, -0.0759, -0.3027,  0.9770, -0.2861,  0.0571, -0.3623,\n",
              "             0.2969,  0.2714, -0.1403, -0.5359, -1.2064,  0.2254,  0.1890,  0.8275,\n",
              "             0.1539, -0.0982, -0.6304, -0.4363, -0.9518,  0.7911, -0.5187, -0.5098,\n",
              "            -0.4033,  0.1943, -0.7319, -0.2181,  0.9131, -0.1082, -0.2569,  0.4080,\n",
              "             0.3522,  0.0974, -0.6185,  0.6845, -0.4465,  0.4222,  0.1401,  0.8454,\n",
              "            -0.6783, -0.3186,  0.9799,  0.3097, -0.0482,  0.5860, -0.0711, -0.8629,\n",
              "             0.6485,  0.6573, -0.3337,  0.2768, -0.2025,  0.9193,  0.2965,  0.7342,\n",
              "            -0.1868,  0.1882,  0.5852, -0.7286, -0.4387, -0.2892, -0.3789, -0.8696,\n",
              "             0.1368, -0.3023, -0.6216, -0.1839,  0.6783,  0.2538,  0.6336,  0.3173,\n",
              "            -1.0467,  0.7153, -0.0350,  0.0103, -0.2372,  0.3985,  0.5509, -0.3296,\n",
              "            -0.3151, -0.4055, -0.9387,  0.8105,  0.6923,  0.0512, -0.4302, -0.9128,\n",
              "             0.6443, -0.4323, -0.2953, -0.7444, -1.4265, -0.3858,  0.1823, -0.5730,\n",
              "            -0.6292, -0.4949, -1.2991,  0.5731,  0.7246, -1.5081, -0.8928,  1.0061,\n",
              "            -0.3804,  0.7209,  0.3373, -0.4111, -0.2385, -0.2906,  0.0387,  0.5044,\n",
              "             0.8669, -0.6667, -0.1837,  0.1102, -0.5332, -0.5250, -0.4433,  0.6160,\n",
              "            -0.4405,  0.6459,  0.2600, -0.4812,  0.4425,  0.3846,  0.9248, -0.2828,\n",
              "            -0.0808, -0.5079,  0.3480, -0.6098,  0.2474,  0.4354,  0.1051, -0.4812,\n",
              "             0.6731,  0.2258,  0.6398,  0.7006,  0.3300,  0.8102,  0.1173, -0.4719,\n",
              "            -0.4442, -0.3316, -0.7192,  0.1639, -0.1934, -0.0728,  0.3149,  0.8871,\n",
              "            -0.8954,  1.0849,  0.1737,  0.2543, -0.0823, -0.4896, -0.5364, -0.1522,\n",
              "            -0.0790, -0.6537,  0.1807, -0.0688, -0.0916,  0.0918, -1.2690,  0.4306,\n",
              "             0.1376,  0.7982,  0.7237, -0.1039, -0.0790, -0.4266, -0.4802,  0.6157,\n",
              "            -0.4300,  0.5012,  0.5370, -0.2459, -0.5642,  0.2669,  0.5139, -0.0086,\n",
              "            -0.2280, -0.0441, -1.3048, -0.5523, -0.6176,  0.4762, -0.0078, -0.4441,\n",
              "            -0.7039, -0.0950, -0.8443, -0.5572,  0.1310, -0.1771,  0.1177, -0.5672,\n",
              "            -0.2744, -0.7514, -0.3491,  0.0994, -0.3310,  0.1419, -0.4471,  0.2719,\n",
              "            -0.3296,  0.2235, -0.7097,  0.8050,  0.1912, -0.2728, -0.8369, -0.5732,\n",
              "            -0.8909, -1.1991, -0.3991, -0.4773,  0.2024, -0.2966, -0.1461, -0.5751,\n",
              "            -0.5704,  0.2932, -0.4861, -0.5455,  0.8021, -0.3414,  0.5615, -0.8719,\n",
              "             0.5505,  0.6841,  0.4279,  0.3141,  0.6857,  0.0396, -0.6086,  0.8433,\n",
              "             0.5243,  0.0903,  0.3921,  0.0966, -0.4009,  0.7002, -0.1682, -0.1733,\n",
              "             0.7523,  0.5594,  0.4593, -0.6526,  0.7569,  0.4251, -0.5308,  0.6239,\n",
              "            -0.4325, -0.3299, -0.9582, -0.0827, -0.6331,  0.9228, -0.4648,  0.1032,\n",
              "            -0.3412,  0.0490,  0.6854,  0.0546, -1.0025,  0.0836,  0.0243,  0.0543,\n",
              "             0.8180,  0.0156,  0.0685,  0.3356, -0.9574,  0.1655,  0.5737,  0.8822,\n",
              "            -0.1659, -0.4425,  0.3451,  0.2013, -0.0342,  0.5913,  0.1368, -0.1700,\n",
              "            -0.3509, -0.5738,  0.2927,  0.3930, -0.0615, -0.5279, -1.3750,  1.0761,\n",
              "             0.1653,  0.5393, -1.4144, -0.1529, -1.0706, -0.8488, -0.1673, -0.1340,\n",
              "            -0.4787,  0.0953, -0.0945, -1.0647, -0.2482, -0.4049,  0.9915, -1.0327,\n",
              "             0.5268, -0.4042,  0.2785, -0.0464,  0.3121, -1.1119,  0.0550,  0.6126,\n",
              "             0.1309,  0.3851,  0.3198,  0.3176, -0.1567, -0.7349,  0.9860,  1.0645,\n",
              "            -0.6844,  0.5249,  0.0025, -0.7522, -0.1695,  0.9634, -0.0079,  1.0147,\n",
              "            -0.0384, -1.0404,  0.7124,  0.2849,  0.1828, -0.5060,  0.7454, -0.2423,\n",
              "            -0.6286, -0.1025,  0.2022,  0.0184,  0.9214,  1.0008, -0.2759, -0.7990,\n",
              "            -0.0787, -0.7939, -0.7704, -0.1083, -0.4371, -0.5169, -0.8939,  0.6221,\n",
              "             0.0416,  0.2367,  0.0263, -0.5263,  0.4885, -0.3412,  0.3027, -0.8500,\n",
              "            -0.2377,  0.0922,  0.0969,  0.5175, -1.1022,  0.5644, -0.8740, -0.6100,\n",
              "            -0.1461,  0.1441, -0.0235], requires_grad=True),\n",
              "    Parameter containing:\n",
              "    tensor([[-0.0048, -0.0048, -0.0106,  ...,  0.0062, -0.0057,  0.0007],\n",
              "            [ 0.0108,  0.0001, -0.0304,  ...,  0.0579, -0.0334, -0.0384],\n",
              "            [-0.0345, -0.0218,  0.0086,  ...,  0.0834, -0.0653,  0.0100],\n",
              "            ...,\n",
              "            [-0.0130, -0.0272, -0.0633,  ...,  0.0534, -0.0405,  0.0059],\n",
              "            [-0.0128, -0.0145, -0.0255,  ..., -0.0208,  0.0592, -0.0391],\n",
              "            [ 0.0366, -0.0368,  0.0001,  ...,  0.0058,  0.0265, -0.0469]],\n",
              "           requires_grad=True),\n",
              "    Parameter containing:\n",
              "    tensor([ 0.5704,  0.7076, -0.6138,  0.8398,  0.6093, -0.0264,  0.1050, -0.1016,\n",
              "             0.4751, -0.8974,  1.0111,  0.4636,  0.5102,  0.6933,  0.5001,  0.6661,\n",
              "             1.0143,  0.0194,  0.9048, -0.6004,  0.4252,  0.8294,  0.8587, -0.3861,\n",
              "            -0.1987, -1.8403,  1.1202,  1.0388,  0.9113,  0.0560,  0.9808,  0.4474,\n",
              "             0.6703,  0.3806,  0.9308, -1.4511, -0.2756, -0.0789, -0.1877,  0.4059,\n",
              "            -0.5980, -0.4098, -0.1104,  0.9566,  0.9170, -0.0484,  0.4497,  0.7214,\n",
              "             0.7318,  0.6536,  1.0889,  0.8974, -0.7502,  0.3602,  0.6931,  0.7481,\n",
              "             0.0631,  0.0193,  0.8451,  0.4934,  0.9076, -0.0818, -0.7042,  0.4496,\n",
              "            -0.3237, -0.8242, -0.2785,  0.3447,  0.5898,  1.0233,  0.8735,  0.5364,\n",
              "             0.8921, -0.3015,  0.1842,  0.6421,  0.3527,  0.6430,  0.0322, -0.1084,\n",
              "             0.5394,  0.0973,  1.0042, -1.8674,  0.8916, -1.7480, -0.7919, -0.2205,\n",
              "             0.5507,  0.1430, -0.0999,  0.5057,  0.9242,  0.4135,  0.3789,  0.8769,\n",
              "            -0.1548,  0.6936,  0.1704,  0.9510,  0.2175,  0.0243, -0.4771,  0.6260,\n",
              "            -0.4330,  0.9582,  0.9254,  0.8126, -0.2540,  0.2752,  0.2592,  0.1894,\n",
              "             0.1005,  0.9351,  0.6800,  0.2654,  0.1109, -1.6725, -0.2759,  0.2568,\n",
              "             0.8144,  0.5411,  0.0637,  0.7867, -0.1600, -0.7859,  0.3661, -0.2568,\n",
              "             1.0210,  1.0078,  0.3230,  0.9137,  0.9145, -0.1705,  0.9488,  0.1102,\n",
              "             0.5756, -0.0720, -0.3873, -1.5530,  0.1344, -1.3046, -0.0195,  0.8436,\n",
              "             0.6215,  0.9231,  0.9135, -0.4022,  0.3111, -0.0067,  0.4412,  0.4464,\n",
              "             0.7208, -0.1448, -0.2352,  0.6215,  0.9237, -0.1757, -0.2582, -0.3216,\n",
              "             0.7929, -0.7315, -0.2297,  0.0653, -0.5565, -0.0262, -0.1560, -1.9650,\n",
              "             0.9263,  0.7711, -0.2702,  0.6211,  1.0405,  0.6864, -0.2757, -0.2629,\n",
              "             0.9064,  0.7290,  0.3467,  0.6317, -0.6621,  0.8866,  0.7384, -0.2650,\n",
              "            -0.7499,  0.4953,  0.3602,  0.6317,  0.8061, -0.7865, -0.6169, -0.3299,\n",
              "             0.1355,  0.7746,  0.0321, -0.3188,  0.3109,  0.9544, -0.8350, -0.5049,\n",
              "            -0.6323,  0.3546,  0.8918,  0.7332, -0.2474,  0.9934,  1.0041,  0.7978,\n",
              "             0.0196,  0.2225, -0.0241,  0.2425,  0.7697, -0.9318, -0.7071, -0.5226,\n",
              "             0.7909, -0.1710,  0.0406, -0.1724,  0.6249,  0.6634, -0.2720,  1.0267,\n",
              "             0.5285,  0.5354,  0.1552,  0.8308,  0.8647, -0.3035,  0.0032, -0.1442,\n",
              "            -0.8271,  0.4169,  0.1842,  0.5844,  0.9796, -0.6818,  0.1549,  0.4470,\n",
              "            -0.2752, -0.6877, -0.9502,  0.6729, -0.4431, -0.6210, -0.0262,  0.8047,\n",
              "             0.6418, -1.1842,  0.7992,  0.6680,  0.9341,  0.9325,  0.5424, -0.2630,\n",
              "            -0.7144,  1.0409,  0.0902, -0.3203, -0.2574, -0.3897,  0.6718, -0.0085,\n",
              "             0.0695,  0.9435, -0.4875,  1.0029, -0.1419, -2.2802, -0.3375,  0.0135,\n",
              "             0.3994,  0.2410, -0.1628, -0.6240, -0.1529, -0.4611,  0.7402,  0.8889,\n",
              "             0.5077,  0.8867,  0.0791,  1.1355, -0.3199, -0.6276,  0.6771,  0.2810,\n",
              "            -0.0288, -0.1872, -0.3111,  0.8974,  0.3476,  0.9028, -1.3093, -0.4187,\n",
              "             1.2117,  0.4909,  0.9734,  0.5335,  0.4299,  0.9490,  1.0693, -0.0336,\n",
              "             0.8090,  0.2935,  0.8119,  0.2077,  0.3211,  0.3187,  0.8495,  0.9543,\n",
              "             0.2224, -0.2531,  0.3329, -0.3776, -0.0783, -0.1401,  0.9310, -0.0350,\n",
              "            -0.4122,  0.1880,  0.8445,  0.6865,  0.9309,  0.8480,  0.2041, -0.3298,\n",
              "             0.9197,  0.6148,  0.2748, -0.3990,  0.8955,  0.8773,  0.3859, -0.3260,\n",
              "            -0.0583,  0.2877,  0.7806,  0.4758,  0.9053,  0.7797,  0.6813,  0.3058,\n",
              "             0.0155, -0.0305, -0.3651,  0.4543,  0.1478,  0.8430,  0.1363, -0.3289,\n",
              "            -0.9980, -0.8454, -0.0749, -0.3484,  0.6839, -0.5306,  0.3281, -0.9846,\n",
              "            -1.2842, -0.3908, -0.0603, -0.3926,  0.1513,  1.0824,  0.4936, -0.7500,\n",
              "             0.0916,  0.9242, -0.7070,  0.6485,  0.2326, -0.0372, -0.1436,  0.9592,\n",
              "            -1.5410,  0.7705, -0.5841,  0.1406,  0.7279, -0.2426,  0.9212, -0.3824,\n",
              "             0.1905,  0.8945,  0.0933,  0.0573,  0.9663, -1.6147,  0.2785, -0.2526,\n",
              "             0.5869,  0.0485, -0.2165,  0.2788,  0.3514, -0.1485,  0.9977, -0.0161,\n",
              "            -0.2481,  0.9115,  0.5503,  0.0912, -0.1646,  0.4131, -0.4264,  0.6349,\n",
              "             0.9426,  0.5100,  0.5363, -0.2234,  0.1483, -0.3549, -0.0557,  0.4260,\n",
              "             0.5469,  0.1758,  0.5473,  0.1374, -0.3087, -0.2034,  0.5399,  0.7702,\n",
              "            -0.5539,  0.2698,  0.9859,  0.9770, -0.0880, -0.9174,  0.4338, -0.1778,\n",
              "             0.9693, -0.0475,  0.1696,  0.4677,  0.5412,  0.7539, -0.2658,  0.1655,\n",
              "             0.3402,  1.0069, -0.0622,  0.8029, -0.0828, -0.2822,  1.0392,  0.1422,\n",
              "             1.0051, -0.4944,  0.1523,  0.7030,  0.6317,  0.8635, -0.3329,  0.5323,\n",
              "            -0.2129,  0.6035], requires_grad=True),\n",
              "    Parameter containing:\n",
              "    tensor([[ 0.0187,  0.0209, -0.0005,  ...,  0.0159, -0.0577,  0.0802],\n",
              "            [ 0.0058,  0.0057,  0.0079,  ...,  0.0167,  0.0449,  0.0810],\n",
              "            [ 0.0494,  0.0557, -0.0151,  ...,  0.0744, -0.0680,  0.0336],\n",
              "            ...,\n",
              "            [-0.0308, -0.0857, -0.0281,  ..., -0.0117, -0.0348, -0.0292],\n",
              "            [-0.0520,  0.0064, -0.0203,  ...,  0.0333,  0.0407,  0.0609],\n",
              "            [-0.0506, -0.0103,  0.0053,  ..., -0.0261,  0.0043, -0.0003]],\n",
              "           requires_grad=True),\n",
              "    Parameter containing:\n",
              "    tensor([ 0.8530, -0.0836,  0.0970, -1.0459,  0.1308,  1.2437, -1.1500,  0.4562,\n",
              "             0.7238, -0.7133,  1.0488, -0.4313,  0.0783,  0.8556, -0.3593,  1.0752,\n",
              "             0.5052,  0.0415,  0.1177,  0.5533, -0.1094,  1.3234,  1.1477,  0.0921,\n",
              "            -0.0702,  0.5387,  0.1689,  1.2315,  1.1460,  1.1727,  1.1345,  1.3097,\n",
              "             0.6107, -0.8074,  0.5341,  0.0839, -0.7471,  0.1078,  0.1729,  0.3914,\n",
              "            -0.3056, -0.3931, -0.5322,  0.6345,  0.3944,  1.2804,  1.3553,  1.3142,\n",
              "             1.1876,  0.0943,  1.0267,  0.1970,  1.1467,  0.1529, -0.2713,  0.6446,\n",
              "             1.1280, -1.0056,  1.2631,  1.0659,  0.9100,  0.1624,  0.1003,  1.2784,\n",
              "             1.1007, -0.1865,  0.7105,  0.8208,  1.3276,  1.3112,  1.3910,  1.1385,\n",
              "            -0.0464,  0.0644,  1.3366,  0.2542,  1.1630,  1.1037,  0.0585,  1.3338,\n",
              "             0.7508, -0.0616, -0.2353,  1.1242,  1.3078,  1.1193,  1.2819,  0.8519,\n",
              "            -1.0719,  0.3572,  1.3524,  0.0446, -0.9440,  1.2215, -1.5832,  0.0974,\n",
              "             1.0202, -0.9449,  1.2164,  1.2525, -1.0992,  1.1831,  0.0839,  1.2463,\n",
              "             0.0797,  0.9529,  0.6972,  0.5759, -0.3523, -0.1768,  0.0950, -0.2955,\n",
              "            -0.2728,  0.1803,  0.0196], requires_grad=True),\n",
              "    Parameter containing:\n",
              "    tensor([[ 0.0102, -0.0160, -0.0050, -0.0195, -0.0182,  0.0211, -0.0228, -0.0013,\n",
              "              0.0746, -0.0292,  0.0442, -0.0583, -0.0202,  0.0064, -0.0210,  0.0445,\n",
              "              0.0565, -0.0217, -0.0494,  0.0134,  0.0640,  0.0129,  0.0542, -0.0058,\n",
              "             -0.0239,  0.0080, -0.0198,  0.0149,  0.0069,  0.0040,  0.0066,  0.0121,\n",
              "              0.0516, -0.0003,  0.0483, -0.0118, -0.0283, -0.0046,  0.0666,  0.0780,\n",
              "              0.0137, -0.0514, -0.0162,  0.1333,  0.0492,  0.0148,  0.0167,  0.0118,\n",
              "              0.0229, -0.0717,  0.0203, -0.0203,  0.0202, -0.0627,  0.0742,  0.0033,\n",
              "              0.0129, -0.0423,  0.0102,  0.0105,  0.0725, -0.0364, -0.0776,  0.0217,\n",
              "              0.0050, -0.0386,  0.0035,  0.0488,  0.0168,  0.0153,  0.0120,  0.0151,\n",
              "             -0.0352, -0.0561,  0.0127, -0.0681,  0.0022,  0.0112, -0.0093,  0.0193,\n",
              "              0.0885, -0.0149,  0.0577,  0.0173,  0.0060,  0.0240,  0.0105,  0.0115,\n",
              "             -0.0396,  0.0954,  0.0243, -0.0070, -0.0068,  0.0137, -0.0339, -0.0303,\n",
              "              0.0289, -0.0500,  0.0050,  0.0123, -0.0097,  0.0563, -0.0192,  0.0134,\n",
              "             -0.0122,  0.0073,  0.0095,  0.0997, -0.1003, -0.0904, -0.0332, -0.0662,\n",
              "             -0.0557, -0.0569, -0.0415]], requires_grad=True),\n",
              "    Parameter containing:\n",
              "    tensor([1.4183], requires_grad=True)]}],\n",
              " '_warned_capturable_if_run_uncaptured': True}"
            ]
          },
          "execution_count": 135,
          "metadata": {},
          "output_type": "execute_result"
        },
        {
          "data": {
            "text/plain": [
              "[3.6959424703774735,\n",
              " 2.82167271004214,\n",
              " 2.362724859867517,\n",
              " 2.155619503131404,\n",
              " 2.049694303679186]"
            ]
          },
          "execution_count": 135,
          "metadata": {},
          "output_type": "execute_result"
        },
        {
          "data": {
            "text/plain": [
              "[3.0781611169306435,\n",
              " 2.1275693040863675,\n",
              " 1.967431315664848,\n",
              " 1.8251851823290188,\n",
              " 1.7136307695225874]"
            ]
          },
          "execution_count": 135,
          "metadata": {},
          "output_type": "execute_result"
        },
        {
          "data": {
            "text/plain": [
              "[{'l1_norm': 5.952901408551791, 'linf_norm': 212.112822770996},\n",
              " {'l1_norm': 7.773973861279558, 'linf_norm': 313.92324889601696},\n",
              " {'l1_norm': 7.238528631235291, 'linf_norm': 293.80263744570215},\n",
              " {'l1_norm': 6.28921777521193, 'linf_norm': 252.15782931368983},\n",
              " {'l1_norm': 6.9730407295182175, 'linf_norm': 288.39515991496927}]"
            ]
          },
          "execution_count": 135,
          "metadata": {},
          "output_type": "execute_result"
        },
        {
          "data": {
            "text/plain": [
              "[{'l1_norm': 2.8339278457403183, 'linf_norm': 85.54801084326267},\n",
              " {'l1_norm': 3.160092383717696, 'linf_norm': 103.05123295339268},\n",
              " {'l1_norm': 2.46294321154356, 'linf_norm': 78.08369714174748},\n",
              " {'l1_norm': 2.475661226648887, 'linf_norm': 80.22861707275946},\n",
              " {'l1_norm': 2.526590334420999, 'linf_norm': 82.20063779707353}]"
            ]
          },
          "execution_count": 135,
          "metadata": {},
          "output_type": "execute_result"
        }
      ],
      "source": [
        "# %%script echo skipping\n",
        "\n",
        "if hidden_activation_name_loaded == \"LeakyReLU\":\n",
        "  var_dict_loaded[\"leakyrelu_slope\"]\n",
        "if hidden_activation_name_loaded == \"PReLU\":\n",
        "  var_dict_loaded[\"prelu_init\"]\n",
        "elif hidden_activation_name_loaded == \"SoftPlus\":\n",
        "  var_dict_loaded[\"softplus_beta\"]\n",
        "\n",
        "batch_size_loaded\n",
        "n_epochs_loaded\n",
        "loss_name_loaded\n",
        "optimizer_name_loaded\n",
        "scheduler_name_loaded\n",
        "n_units_loaded\n",
        "n_layers_loaded\n",
        "hidden_activation_name_loaded\n",
        "output_activation_name_loaded\n",
        "lr_loaded\n",
        "dropout_rate_loaded\n",
        "hidden_activation_loaded\n",
        "output_activation_loaded\n",
        "net_loaded\n",
        "net_loaded.__dict__ # print the subparameters of the network\n",
        "loss_fn_loaded\n",
        "optimizer_loaded\n",
        "optimizer_loaded.__dict__ # print the subparameters of the optimizer\n",
        "if scheduler_loaded is not None:\n",
        "  scheduler_loaded\n",
        "  scheduler_loaded.__dict__ # print the subparameters of the scheduler\n",
        "train_losses_loaded\n",
        "test_losses_loaded\n",
        "train_metrics_loaded\n",
        "test_metrics_loaded\n"
      ]
    },
    {
      "cell_type": "code",
      "execution_count": 136,
      "metadata": {},
      "outputs": [
        {
          "data": {
            "text/plain": [
              "2.049694303679186"
            ]
          },
          "execution_count": 136,
          "metadata": {},
          "output_type": "execute_result"
        },
        {
          "data": {
            "text/plain": [
              "1.7136307695225874"
            ]
          },
          "execution_count": 136,
          "metadata": {},
          "output_type": "execute_result"
        },
        {
          "data": {
            "text/plain": [
              "2.526590334420999"
            ]
          },
          "execution_count": 136,
          "metadata": {},
          "output_type": "execute_result"
        },
        {
          "data": {
            "text/plain": [
              "82.20063779707353"
            ]
          },
          "execution_count": 136,
          "metadata": {},
          "output_type": "execute_result"
        }
      ],
      "source": [
        "train_losses_loaded[-1]\n",
        "test_losses_loaded[-1]\n",
        "test_metrics_loaded[-1]['l1_norm']\n",
        "test_metrics_loaded[-1]['linf_norm']\n",
        "# print(f'Error is {test_metrics_loaded[-1][\"l1_norm\"] / (3.84e-4)} times bigger than in Dieselhorst et al.')\n",
        "# print(f'Error is {test_metrics_loaded[-1][\"linf_norm\"] / (8.14e-3)} times bigger than in Dieselhorst et al.')"
      ]
    },
    {
      "attachments": {},
      "cell_type": "markdown",
      "metadata": {},
      "source": [
        "### Visualize loaded results"
      ]
    },
    {
      "attachments": {},
      "cell_type": "markdown",
      "metadata": {
        "id": "vwLGR1aSUZik"
      },
      "source": [
        "Let us verify correct loading of the train and test metrics by visualizing them again but now through the loaded values. Likewise for the train and test losses."
      ]
    },
    {
      "cell_type": "code",
      "execution_count": 137,
      "metadata": {
        "id": "sXiNgLsmUZil"
      },
      "outputs": [],
      "source": [
        "%config InteractiveShell.ast_node_interactivity = \"last_expr_or_assign\""
      ]
    },
    {
      "cell_type": "code",
      "execution_count": 138,
      "metadata": {
        "colab": {
          "base_uri": "https://localhost:8080/",
          "height": 1000
        },
        "id": "sgq4WfSiUZil",
        "outputId": "9934bd08-6c78-4a92-c8c6-d8e835c351b3"
      },
      "outputs": [
        {
          "data": {
            "image/png": "[encoded data removed]",
            "text/plain": [
              "<Figure size 640x480 with 2 Axes>"
            ]
          },
          "metadata": {},
          "output_type": "display_data"
        },
        {
          "data": {
            "image/png": "[encoded data removed]",
            "text/plain": [
              "<Figure size 800x600 with 1 Axes>"
            ]
          },
          "metadata": {},
          "output_type": "display_data"
        }
      ],
      "source": [
        "# Plotting the losses and metrics for the best network plt.figure(figsize=(12, \n",
        "#plt.subplot(2, 2, 1)\n",
        "#plt.plot(train_losses_loaded, label=\"Train Loss\")\n",
        "#plt.plot(test_losses_loaded, label=\"Test Loss\")\n",
        "#plt.xlabel(\"Epoch\")\n",
        "#plt.ylabel(\"Loss\")\n",
        "#plt.legend()\n",
        "plt.subplot(2, 2, 2)\n",
        "plt.plot([m[\"l1_norm\"] for m in train_metrics_loaded], label=\"Train L1 Norm\")\n",
        "plt.plot([m[\"l1_norm\"] for m in test_metrics_loaded], label=\"Test L1 Norm\")\n",
        "plt.xlabel(\"Epoch\")\n",
        "plt.ylabel(\"L1 Norm\")\n",
        "# Added setting the vertical axis to be in powers of 10\n",
        "plt.yscale(\"log\")\n",
        "# Added setting the vertical axis limits to be from 10^-7 to 10^0\n",
        "plt.ylim(1e-3, 1e2)\n",
        "plt.legend()\n",
        "plt.subplot(2, 2, 3)\n",
        "plt.plot([m[\"linf_norm\"] for m in train_metrics_loaded], label=\"Train Linf Norm\")\n",
        "plt.plot([m[\"linf_norm\"] for m in test_metrics_loaded], label=\"Test Linf Norm\")\n",
        "plt.xlabel(\"Epoch\")\n",
        "plt.ylabel(\"Linf Norm\")\n",
        "# Added setting the vertical axis to be in powers of 10\n",
        "plt.yscale(\"log\")\n",
        "# Added setting the vertical axis limits to be from 10^-7 to 10^0\n",
        "plt.ylim(1e-3, 1e2)\n",
        "plt.legend()\n",
        "plt.tight_layout()\n",
        "plt.show()\n",
        "\n",
        "# Added plotting MSE of training data and MSE of test data in one plot \n",
        "plt.figure(figsize=(8, 6))\n",
        "plt.plot(train_losses_loaded,label=\"training data\")\n",
        "plt.plot(test_losses_loaded,label=\"test data\")\n",
        "#if scheduler is not None:\n",
        "#    plt.plot([scheduler.get_last_lr()[0] for _ in range(n_epochs)], label=\"Learning rate\") \n",
        "plt.xlabel(\"Epoch\")\n",
        "plt.ylabel(f\"{loss_name_loaded} Loss\")\n",
        "# Added setting the vertical axis to be in powers of 10\n",
        "plt.yscale(\"log\")\n",
        "# Added setting the vertical axis limits to be from 10^-7 to 10^0\n",
        "plt.ylim(1e-7, 1e0)\n",
        "plt.legend()\n",
        "plt.show()\n"
      ]
    },
    {
      "cell_type": "code",
      "execution_count": 139,
      "metadata": {
        "id": "lkgLqJ_UUZim"
      },
      "outputs": [],
      "source": [
        "%config InteractiveShell.ast_node_interactivity = \"all\""
      ]
    },
    {
      "attachments": {},
      "cell_type": "markdown",
      "metadata": {},
      "source": [
        "## Counting the number of parameters in the network."
      ]
    },
    {
      "cell_type": "code",
      "execution_count": 140,
      "metadata": {},
      "outputs": [
        {
          "data": {
            "text/plain": [
              "Net(\n",
              "  (hidden_activation): LeakyReLU(negative_slope=0.01)\n",
              "  (output_activation): Identity()\n",
              "  (layers): ModuleList(\n",
              "    (0): Linear(in_features=14, out_features=555, bias=True)\n",
              "    (1): Linear(in_features=555, out_features=458, bias=True)\n",
              "    (2): Linear(in_features=458, out_features=115, bias=True)\n",
              "    (3): Linear(in_features=115, out_features=1, bias=True)\n",
              "  )\n",
              "  (dropouts): ModuleList(\n",
              "    (0-2): 3 x Dropout(p=0.2, inplace=False)\n",
              "  )\n",
              ")"
            ]
          },
          "execution_count": 140,
          "metadata": {},
          "output_type": "execute_result"
        },
        {
          "name": "stdout",
          "output_type": "stream",
          "text": [
            "The model has 315874 parameters.\n"
          ]
        }
      ],
      "source": [
        "net_loaded.eval()\n",
        "def count_parameters(model):\n",
        "    return sum(p.numel() for p in model.parameters() if p.requires_grad)\n",
        "print(f'The model has {count_parameters(net_loaded)} parameters.')"
      ]
    },
    {
      "attachments": {},
      "cell_type": "markdown",
      "metadata": {
        "id": "SxuzVSnlUZin"
      },
      "source": [
        "## Evaluating the network on arbirary input\n",
        "### Comparing `net` and `net_loaded`\n",
        "\n",
        "We compare `net` and `net_loaded` to confirm correct loading of the network. Note that `net` is only available if we have trained the model in this session."
      ]
    },
    {
      "cell_type": "code",
      "execution_count": 141,
      "metadata": {},
      "outputs": [
        {
          "data": {
            "text/plain": [
              "Net(\n",
              "  (hidden_activation): LeakyReLU(negative_slope=0.01)\n",
              "  (output_activation): Identity()\n",
              "  (layers): ModuleList(\n",
              "    (0): Linear(in_features=14, out_features=555, bias=True)\n",
              "    (1): Linear(in_features=555, out_features=458, bias=True)\n",
              "    (2): Linear(in_features=458, out_features=115, bias=True)\n",
              "    (3): Linear(in_features=115, out_features=1, bias=True)\n",
              "  )\n",
              "  (dropouts): ModuleList(\n",
              "    (0-2): 3 x Dropout(p=0.2, inplace=False)\n",
              "  )\n",
              ")"
            ]
          },
          "execution_count": 141,
          "metadata": {},
          "output_type": "execute_result"
        }
      ],
      "source": [
        "#%%script echo skipping\n",
        "\n",
        "# Set the network to evaluation mode\n",
        "net.eval()"
      ]
    },
    {
      "cell_type": "code",
      "execution_count": 142,
      "metadata": {},
      "outputs": [
        {
          "data": {
            "text/plain": [
              "<bound method Module.eval of Net(\n",
              "  (hidden_activation): LeakyReLU(negative_slope=0.01)\n",
              "  (output_activation): Identity()\n",
              "  (layers): ModuleList(\n",
              "    (0): Linear(in_features=14, out_features=555, bias=True)\n",
              "    (1): Linear(in_features=555, out_features=458, bias=True)\n",
              "    (2): Linear(in_features=458, out_features=115, bias=True)\n",
              "    (3): Linear(in_features=115, out_features=1, bias=True)\n",
              "  )\n",
              "  (dropouts): ModuleList(\n",
              "    (0-2): 3 x Dropout(p=0.2, inplace=False)\n",
              "  )\n",
              ")>"
            ]
          },
          "execution_count": 142,
          "metadata": {},
          "output_type": "execute_result"
        }
      ],
      "source": [
        "# Set the network to evaluation mode\n",
        "net_loaded.eval"
      ]
    },
    {
      "cell_type": "code",
      "execution_count": 143,
      "metadata": {},
      "outputs": [
        {
          "name": "stdout",
          "output_type": "stream",
          "text": [
            "Parameters are the same.\n",
            "Net device: cpu\n",
            "Net_loaded device: cpu\n"
          ]
        }
      ],
      "source": [
        "for p1, p2 in zip(net.parameters(), net_loaded.parameters()):\n",
        "    if p1.data.ne(p2.data).sum() > 0:\n",
        "        print(\"Parameters are NOT the same.\")\n",
        "        break\n",
        "else:\n",
        "    print(\"Parameters are the same.\")\n",
        "\n",
        "print(\"Net device:\", next(net.parameters()).device)\n",
        "print(\"Net_loaded device:\", next(net_loaded.parameters()).device)"
      ]
    },
    {
      "cell_type": "code",
      "execution_count": 144,
      "metadata": {
        "colab": {
          "base_uri": "https://localhost:8080/"
        },
        "id": "C0PLAA0DUZin",
        "outputId": "c51e07dd-8b35-4ea4-cdf9-3118d7796e30"
      },
      "outputs": [
        {
          "name": "stdout",
          "output_type": "stream",
          "text": [
            "[Parameter containing:\n",
            "tensor([[-0.6829,  0.0314,  0.0531,  ..., -0.4810, -0.6898, -0.5138],\n",
            "        [ 0.3516,  0.0114, -0.1150,  ...,  0.2879,  0.0069,  0.0463],\n",
            "        [-0.0195, -0.0156, -0.0281,  ..., -0.3003,  0.3941,  0.0960],\n",
            "        ...,\n",
            "        [ 0.5860,  0.0883,  0.0071,  ...,  0.1767, -0.1497,  0.0122],\n",
            "        [-0.2699,  0.0473, -0.0216,  ...,  0.2606,  0.4352,  0.4812],\n",
            "        [ 0.0358, -0.0226,  0.0729,  ..., -0.1084, -0.2605, -0.1192]],\n",
            "       requires_grad=True), Parameter containing:\n",
            "tensor([-0.6982,  0.4034, -0.2610, -0.4615, -0.2042,  0.3830,  0.4213, -0.0945,\n",
            "         0.2943, -0.6962,  0.6689,  0.2165, -0.6464, -0.1383, -0.9323, -0.2927,\n",
            "         0.5030, -0.0217, -0.7888,  0.7918,  0.0706, -0.9397, -0.5370, -0.6389,\n",
            "        -0.1699, -1.2309, -0.7344, -0.3003,  0.6801,  0.4120, -1.0955,  0.2365,\n",
            "        -0.4117,  0.2787, -0.0955,  0.2168, -0.1446, -0.7477, -1.0803, -0.5762,\n",
            "        -0.1897,  0.4260,  0.3033,  0.1053,  0.1794, -0.6897, -0.4529, -0.9318,\n",
            "         0.7460,  0.0880, -0.0567,  0.3678,  0.1084,  0.5288,  0.1780, -0.0143,\n",
            "        -0.7594, -0.5294,  0.1203, -0.1824,  0.4032,  0.4920,  0.1067, -0.5104,\n",
            "        -0.2599,  0.3317, -0.5475, -0.8367, -0.1078, -0.6151,  0.0151, -0.6868,\n",
            "         0.6719,  0.7708,  0.0337, -0.1883, -0.5372, -0.5021,  0.3059,  0.4899,\n",
            "         0.5075, -0.4694, -0.3249,  0.2485, -0.6277, -0.4100, -0.7558,  0.1731,\n",
            "        -0.1341,  0.3170, -1.1904,  0.0554, -0.0409,  0.5036, -0.4677,  0.5802,\n",
            "        -0.8711, -1.1207,  0.9756, -0.0055, -0.1677,  0.0097, -1.1810, -0.3940,\n",
            "        -0.0979, -0.0884, -0.2839, -0.6929, -0.4184, -0.8023,  0.5545, -0.5609,\n",
            "        -1.0843, -0.3953, -0.0686, -0.7541,  0.1543,  0.0328,  0.0958, -0.5170,\n",
            "         0.2229,  0.1662,  0.1364,  0.7427, -0.5711, -0.7051,  0.0478, -0.5667,\n",
            "        -1.4059, -0.2973,  0.4444, -0.2373, -0.9543,  0.1615, -0.8190,  0.3007,\n",
            "         0.5826, -0.0545, -0.1678,  0.1542, -0.2685,  1.1114, -1.2830, -0.4573,\n",
            "        -0.5097,  0.3200, -0.1477, -0.3765,  0.0510, -0.5570,  0.0162, -0.6577,\n",
            "        -0.6839, -0.3476, -0.8983,  0.3785, -1.2718,  0.0372, -1.1421,  0.5542,\n",
            "        -1.3020, -0.1644, -0.3740, -0.1349, -0.5974, -0.5031, -0.5294,  0.9139,\n",
            "        -0.2296,  0.0540, -0.6872, -0.7532, -0.6680, -0.8651, -0.5554,  0.2187,\n",
            "         0.6065, -1.2149, -0.0759, -0.3027,  0.9770, -0.2861,  0.0571, -0.3623,\n",
            "         0.2969,  0.2714, -0.1403, -0.5359, -1.2064,  0.2254,  0.1890,  0.8275,\n",
            "         0.1539, -0.0982, -0.6304, -0.4363, -0.9518,  0.7911, -0.5187, -0.5098,\n",
            "        -0.4033,  0.1943, -0.7319, -0.2181,  0.9131, -0.1082, -0.2569,  0.4080,\n",
            "         0.3522,  0.0974, -0.6185,  0.6845, -0.4465,  0.4222,  0.1401,  0.8454,\n",
            "        -0.6783, -0.3186,  0.9799,  0.3097, -0.0482,  0.5860, -0.0711, -0.8629,\n",
            "         0.6485,  0.6573, -0.3337,  0.2768, -0.2025,  0.9193,  0.2965,  0.7342,\n",
            "        -0.1868,  0.1882,  0.5852, -0.7286, -0.4387, -0.2892, -0.3789, -0.8696,\n",
            "         0.1368, -0.3023, -0.6216, -0.1839,  0.6783,  0.2538,  0.6336,  0.3173,\n",
            "        -1.0467,  0.7153, -0.0350,  0.0103, -0.2372,  0.3985,  0.5509, -0.3296,\n",
            "        -0.3151, -0.4055, -0.9387,  0.8105,  0.6923,  0.0512, -0.4302, -0.9128,\n",
            "         0.6443, -0.4323, -0.2953, -0.7444, -1.4265, -0.3858,  0.1823, -0.5730,\n",
            "        -0.6292, -0.4949, -1.2991,  0.5731,  0.7246, -1.5081, -0.8928,  1.0061,\n",
            "        -0.3804,  0.7209,  0.3373, -0.4111, -0.2385, -0.2906,  0.0387,  0.5044,\n",
            "         0.8669, -0.6667, -0.1837,  0.1102, -0.5332, -0.5250, -0.4433,  0.6160,\n",
            "        -0.4405,  0.6459,  0.2600, -0.4812,  0.4425,  0.3846,  0.9248, -0.2828,\n",
            "        -0.0808, -0.5079,  0.3480, -0.6098,  0.2474,  0.4354,  0.1051, -0.4812,\n",
            "         0.6731,  0.2258,  0.6398,  0.7006,  0.3300,  0.8102,  0.1173, -0.4719,\n",
            "        -0.4442, -0.3316, -0.7192,  0.1639, -0.1934, -0.0728,  0.3149,  0.8871,\n",
            "        -0.8954,  1.0849,  0.1737,  0.2543, -0.0823, -0.4896, -0.5364, -0.1522,\n",
            "        -0.0790, -0.6537,  0.1807, -0.0688, -0.0916,  0.0918, -1.2690,  0.4306,\n",
            "         0.1376,  0.7982,  0.7237, -0.1039, -0.0790, -0.4266, -0.4802,  0.6157,\n",
            "        -0.4300,  0.5012,  0.5370, -0.2459, -0.5642,  0.2669,  0.5139, -0.0086,\n",
            "        -0.2280, -0.0441, -1.3048, -0.5523, -0.6176,  0.4762, -0.0078, -0.4441,\n",
            "        -0.7039, -0.0950, -0.8443, -0.5572,  0.1310, -0.1771,  0.1177, -0.5672,\n",
            "        -0.2744, -0.7514, -0.3491,  0.0994, -0.3310,  0.1419, -0.4471,  0.2719,\n",
            "        -0.3296,  0.2235, -0.7097,  0.8050,  0.1912, -0.2728, -0.8369, -0.5732,\n",
            "        -0.8909, -1.1991, -0.3991, -0.4773,  0.2024, -0.2966, -0.1461, -0.5751,\n",
            "        -0.5704,  0.2932, -0.4861, -0.5455,  0.8021, -0.3414,  0.5615, -0.8719,\n",
            "         0.5505,  0.6841,  0.4279,  0.3141,  0.6857,  0.0396, -0.6086,  0.8433,\n",
            "         0.5243,  0.0903,  0.3921,  0.0966, -0.4009,  0.7002, -0.1682, -0.1733,\n",
            "         0.7523,  0.5594,  0.4593, -0.6526,  0.7569,  0.4251, -0.5308,  0.6239,\n",
            "        -0.4325, -0.3299, -0.9582, -0.0827, -0.6331,  0.9228, -0.4648,  0.1032,\n",
            "        -0.3412,  0.0490,  0.6854,  0.0546, -1.0025,  0.0836,  0.0243,  0.0543,\n",
            "         0.8180,  0.0156,  0.0685,  0.3356, -0.9574,  0.1655,  0.5737,  0.8822,\n",
            "        -0.1659, -0.4425,  0.3451,  0.2013, -0.0342,  0.5913,  0.1368, -0.1700,\n",
            "        -0.3509, -0.5738,  0.2927,  0.3930, -0.0615, -0.5279, -1.3750,  1.0761,\n",
            "         0.1653,  0.5393, -1.4144, -0.1529, -1.0706, -0.8488, -0.1673, -0.1340,\n",
            "        -0.4787,  0.0953, -0.0945, -1.0647, -0.2482, -0.4049,  0.9915, -1.0327,\n",
            "         0.5268, -0.4042,  0.2785, -0.0464,  0.3121, -1.1119,  0.0550,  0.6126,\n",
            "         0.1309,  0.3851,  0.3198,  0.3176, -0.1567, -0.7349,  0.9860,  1.0645,\n",
            "        -0.6844,  0.5249,  0.0025, -0.7522, -0.1695,  0.9634, -0.0079,  1.0147,\n",
            "        -0.0384, -1.0404,  0.7124,  0.2849,  0.1828, -0.5060,  0.7454, -0.2423,\n",
            "        -0.6286, -0.1025,  0.2022,  0.0184,  0.9214,  1.0008, -0.2759, -0.7990,\n",
            "        -0.0787, -0.7939, -0.7704, -0.1083, -0.4371, -0.5169, -0.8939,  0.6221,\n",
            "         0.0416,  0.2367,  0.0263, -0.5263,  0.4885, -0.3412,  0.3027, -0.8500,\n",
            "        -0.2377,  0.0922,  0.0969,  0.5175, -1.1022,  0.5644, -0.8740, -0.6100,\n",
            "        -0.1461,  0.1441, -0.0235], requires_grad=True), Parameter containing:\n",
            "tensor([[-0.0048, -0.0048, -0.0106,  ...,  0.0062, -0.0057,  0.0007],\n",
            "        [ 0.0108,  0.0001, -0.0304,  ...,  0.0579, -0.0334, -0.0384],\n",
            "        [-0.0345, -0.0218,  0.0086,  ...,  0.0834, -0.0653,  0.0100],\n",
            "        ...,\n",
            "        [-0.0130, -0.0272, -0.0633,  ...,  0.0534, -0.0405,  0.0059],\n",
            "        [-0.0128, -0.0145, -0.0255,  ..., -0.0208,  0.0592, -0.0391],\n",
            "        [ 0.0366, -0.0368,  0.0001,  ...,  0.0058,  0.0265, -0.0469]],\n",
            "       requires_grad=True), Parameter containing:\n",
            "tensor([ 0.5704,  0.7076, -0.6138,  0.8398,  0.6093, -0.0264,  0.1050, -0.1016,\n",
            "         0.4751, -0.8974,  1.0111,  0.4636,  0.5102,  0.6933,  0.5001,  0.6661,\n",
            "         1.0143,  0.0194,  0.9048, -0.6004,  0.4252,  0.8294,  0.8587, -0.3861,\n",
            "        -0.1987, -1.8403,  1.1202,  1.0388,  0.9113,  0.0560,  0.9808,  0.4474,\n",
            "         0.6703,  0.3806,  0.9308, -1.4511, -0.2756, -0.0789, -0.1877,  0.4059,\n",
            "        -0.5980, -0.4098, -0.1104,  0.9566,  0.9170, -0.0484,  0.4497,  0.7214,\n",
            "         0.7318,  0.6536,  1.0889,  0.8974, -0.7502,  0.3602,  0.6931,  0.7481,\n",
            "         0.0631,  0.0193,  0.8451,  0.4934,  0.9076, -0.0818, -0.7042,  0.4496,\n",
            "        -0.3237, -0.8242, -0.2785,  0.3447,  0.5898,  1.0233,  0.8735,  0.5364,\n",
            "         0.8921, -0.3015,  0.1842,  0.6421,  0.3527,  0.6430,  0.0322, -0.1084,\n",
            "         0.5394,  0.0973,  1.0042, -1.8674,  0.8916, -1.7480, -0.7919, -0.2205,\n",
            "         0.5507,  0.1430, -0.0999,  0.5057,  0.9242,  0.4135,  0.3789,  0.8769,\n",
            "        -0.1548,  0.6936,  0.1704,  0.9510,  0.2175,  0.0243, -0.4771,  0.6260,\n",
            "        -0.4330,  0.9582,  0.9254,  0.8126, -0.2540,  0.2752,  0.2592,  0.1894,\n",
            "         0.1005,  0.9351,  0.6800,  0.2654,  0.1109, -1.6725, -0.2759,  0.2568,\n",
            "         0.8144,  0.5411,  0.0637,  0.7867, -0.1600, -0.7859,  0.3661, -0.2568,\n",
            "         1.0210,  1.0078,  0.3230,  0.9137,  0.9145, -0.1705,  0.9488,  0.1102,\n",
            "         0.5756, -0.0720, -0.3873, -1.5530,  0.1344, -1.3046, -0.0195,  0.8436,\n",
            "         0.6215,  0.9231,  0.9135, -0.4022,  0.3111, -0.0067,  0.4412,  0.4464,\n",
            "         0.7208, -0.1448, -0.2352,  0.6215,  0.9237, -0.1757, -0.2582, -0.3216,\n",
            "         0.7929, -0.7315, -0.2297,  0.0653, -0.5565, -0.0262, -0.1560, -1.9650,\n",
            "         0.9263,  0.7711, -0.2702,  0.6211,  1.0405,  0.6864, -0.2757, -0.2629,\n",
            "         0.9064,  0.7290,  0.3467,  0.6317, -0.6621,  0.8866,  0.7384, -0.2650,\n",
            "        -0.7499,  0.4953,  0.3602,  0.6317,  0.8061, -0.7865, -0.6169, -0.3299,\n",
            "         0.1355,  0.7746,  0.0321, -0.3188,  0.3109,  0.9544, -0.8350, -0.5049,\n",
            "        -0.6323,  0.3546,  0.8918,  0.7332, -0.2474,  0.9934,  1.0041,  0.7978,\n",
            "         0.0196,  0.2225, -0.0241,  0.2425,  0.7697, -0.9318, -0.7071, -0.5226,\n",
            "         0.7909, -0.1710,  0.0406, -0.1724,  0.6249,  0.6634, -0.2720,  1.0267,\n",
            "         0.5285,  0.5354,  0.1552,  0.8308,  0.8647, -0.3035,  0.0032, -0.1442,\n",
            "        -0.8271,  0.4169,  0.1842,  0.5844,  0.9796, -0.6818,  0.1549,  0.4470,\n",
            "        -0.2752, -0.6877, -0.9502,  0.6729, -0.4431, -0.6210, -0.0262,  0.8047,\n",
            "         0.6418, -1.1842,  0.7992,  0.6680,  0.9341,  0.9325,  0.5424, -0.2630,\n",
            "        -0.7144,  1.0409,  0.0902, -0.3203, -0.2574, -0.3897,  0.6718, -0.0085,\n",
            "         0.0695,  0.9435, -0.4875,  1.0029, -0.1419, -2.2802, -0.3375,  0.0135,\n",
            "         0.3994,  0.2410, -0.1628, -0.6240, -0.1529, -0.4611,  0.7402,  0.8889,\n",
            "         0.5077,  0.8867,  0.0791,  1.1355, -0.3199, -0.6276,  0.6771,  0.2810,\n",
            "        -0.0288, -0.1872, -0.3111,  0.8974,  0.3476,  0.9028, -1.3093, -0.4187,\n",
            "         1.2117,  0.4909,  0.9734,  0.5335,  0.4299,  0.9490,  1.0693, -0.0336,\n",
            "         0.8090,  0.2935,  0.8119,  0.2077,  0.3211,  0.3187,  0.8495,  0.9543,\n",
            "         0.2224, -0.2531,  0.3329, -0.3776, -0.0783, -0.1401,  0.9310, -0.0350,\n",
            "        -0.4122,  0.1880,  0.8445,  0.6865,  0.9309,  0.8480,  0.2041, -0.3298,\n",
            "         0.9197,  0.6148,  0.2748, -0.3990,  0.8955,  0.8773,  0.3859, -0.3260,\n",
            "        -0.0583,  0.2877,  0.7806,  0.4758,  0.9053,  0.7797,  0.6813,  0.3058,\n",
            "         0.0155, -0.0305, -0.3651,  0.4543,  0.1478,  0.8430,  0.1363, -0.3289,\n",
            "        -0.9980, -0.8454, -0.0749, -0.3484,  0.6839, -0.5306,  0.3281, -0.9846,\n",
            "        -1.2842, -0.3908, -0.0603, -0.3926,  0.1513,  1.0824,  0.4936, -0.7500,\n",
            "         0.0916,  0.9242, -0.7070,  0.6485,  0.2326, -0.0372, -0.1436,  0.9592,\n",
            "        -1.5410,  0.7705, -0.5841,  0.1406,  0.7279, -0.2426,  0.9212, -0.3824,\n",
            "         0.1905,  0.8945,  0.0933,  0.0573,  0.9663, -1.6147,  0.2785, -0.2526,\n",
            "         0.5869,  0.0485, -0.2165,  0.2788,  0.3514, -0.1485,  0.9977, -0.0161,\n",
            "        -0.2481,  0.9115,  0.5503,  0.0912, -0.1646,  0.4131, -0.4264,  0.6349,\n",
            "         0.9426,  0.5100,  0.5363, -0.2234,  0.1483, -0.3549, -0.0557,  0.4260,\n",
            "         0.5469,  0.1758,  0.5473,  0.1374, -0.3087, -0.2034,  0.5399,  0.7702,\n",
            "        -0.5539,  0.2698,  0.9859,  0.9770, -0.0880, -0.9174,  0.4338, -0.1778,\n",
            "         0.9693, -0.0475,  0.1696,  0.4677,  0.5412,  0.7539, -0.2658,  0.1655,\n",
            "         0.3402,  1.0069, -0.0622,  0.8029, -0.0828, -0.2822,  1.0392,  0.1422,\n",
            "         1.0051, -0.4944,  0.1523,  0.7030,  0.6317,  0.8635, -0.3329,  0.5323,\n",
            "        -0.2129,  0.6035], requires_grad=True), Parameter containing:\n",
            "tensor([[ 0.0187,  0.0209, -0.0005,  ...,  0.0159, -0.0577,  0.0802],\n",
            "        [ 0.0058,  0.0057,  0.0079,  ...,  0.0167,  0.0449,  0.0810],\n",
            "        [ 0.0494,  0.0557, -0.0151,  ...,  0.0744, -0.0680,  0.0336],\n",
            "        ...,\n",
            "        [-0.0308, -0.0857, -0.0281,  ..., -0.0117, -0.0348, -0.0292],\n",
            "        [-0.0520,  0.0064, -0.0203,  ...,  0.0333,  0.0407,  0.0609],\n",
            "        [-0.0506, -0.0103,  0.0053,  ..., -0.0261,  0.0043, -0.0003]],\n",
            "       requires_grad=True), Parameter containing:\n",
            "tensor([ 0.8530, -0.0836,  0.0970, -1.0459,  0.1308,  1.2437, -1.1500,  0.4562,\n",
            "         0.7238, -0.7133,  1.0488, -0.4313,  0.0783,  0.8556, -0.3593,  1.0752,\n",
            "         0.5052,  0.0415,  0.1177,  0.5533, -0.1094,  1.3234,  1.1477,  0.0921,\n",
            "        -0.0702,  0.5387,  0.1689,  1.2315,  1.1460,  1.1727,  1.1345,  1.3097,\n",
            "         0.6107, -0.8074,  0.5341,  0.0839, -0.7471,  0.1078,  0.1729,  0.3914,\n",
            "        -0.3056, -0.3931, -0.5322,  0.6345,  0.3944,  1.2804,  1.3553,  1.3142,\n",
            "         1.1876,  0.0943,  1.0267,  0.1970,  1.1467,  0.1529, -0.2713,  0.6446,\n",
            "         1.1280, -1.0056,  1.2631,  1.0659,  0.9100,  0.1624,  0.1003,  1.2784,\n",
            "         1.1007, -0.1865,  0.7105,  0.8208,  1.3276,  1.3112,  1.3910,  1.1385,\n",
            "        -0.0464,  0.0644,  1.3366,  0.2542,  1.1630,  1.1037,  0.0585,  1.3338,\n",
            "         0.7508, -0.0616, -0.2353,  1.1242,  1.3078,  1.1193,  1.2819,  0.8519,\n",
            "        -1.0719,  0.3572,  1.3524,  0.0446, -0.9440,  1.2215, -1.5832,  0.0974,\n",
            "         1.0202, -0.9449,  1.2164,  1.2525, -1.0992,  1.1831,  0.0839,  1.2463,\n",
            "         0.0797,  0.9529,  0.6972,  0.5759, -0.3523, -0.1768,  0.0950, -0.2955,\n",
            "        -0.2728,  0.1803,  0.0196], requires_grad=True), Parameter containing:\n",
            "tensor([[ 0.0102, -0.0160, -0.0050, -0.0195, -0.0182,  0.0211, -0.0228, -0.0013,\n",
            "          0.0746, -0.0292,  0.0442, -0.0583, -0.0202,  0.0064, -0.0210,  0.0445,\n",
            "          0.0565, -0.0217, -0.0494,  0.0134,  0.0640,  0.0129,  0.0542, -0.0058,\n",
            "         -0.0239,  0.0080, -0.0198,  0.0149,  0.0069,  0.0040,  0.0066,  0.0121,\n",
            "          0.0516, -0.0003,  0.0483, -0.0118, -0.0283, -0.0046,  0.0666,  0.0780,\n",
            "          0.0137, -0.0514, -0.0162,  0.1333,  0.0492,  0.0148,  0.0167,  0.0118,\n",
            "          0.0229, -0.0717,  0.0203, -0.0203,  0.0202, -0.0627,  0.0742,  0.0033,\n",
            "          0.0129, -0.0423,  0.0102,  0.0105,  0.0725, -0.0364, -0.0776,  0.0217,\n",
            "          0.0050, -0.0386,  0.0035,  0.0488,  0.0168,  0.0153,  0.0120,  0.0151,\n",
            "         -0.0352, -0.0561,  0.0127, -0.0681,  0.0022,  0.0112, -0.0093,  0.0193,\n",
            "          0.0885, -0.0149,  0.0577,  0.0173,  0.0060,  0.0240,  0.0105,  0.0115,\n",
            "         -0.0396,  0.0954,  0.0243, -0.0070, -0.0068,  0.0137, -0.0339, -0.0303,\n",
            "          0.0289, -0.0500,  0.0050,  0.0123, -0.0097,  0.0563, -0.0192,  0.0134,\n",
            "         -0.0122,  0.0073,  0.0095,  0.0997, -0.1003, -0.0904, -0.0332, -0.0662,\n",
            "         -0.0557, -0.0569, -0.0415]], requires_grad=True), Parameter containing:\n",
            "tensor([1.4183], requires_grad=True)]\n"
          ]
        }
      ],
      "source": [
        "#%%script echo skipping\n",
        "\n",
        "print(list(net.parameters()))"
      ]
    },
    {
      "cell_type": "code",
      "execution_count": 145,
      "metadata": {
        "colab": {
          "base_uri": "https://localhost:8080/"
        },
        "id": "1NZ8iVA7UZio",
        "outputId": "6341def7-b7e7-44eb-c91f-edbe1d22ca1d"
      },
      "outputs": [
        {
          "name": "stdout",
          "output_type": "stream",
          "text": [
            "[Parameter containing:\n",
            "tensor([[-0.6829,  0.0314,  0.0531,  ..., -0.4810, -0.6898, -0.5138],\n",
            "        [ 0.3516,  0.0114, -0.1150,  ...,  0.2879,  0.0069,  0.0463],\n",
            "        [-0.0195, -0.0156, -0.0281,  ..., -0.3003,  0.3941,  0.0960],\n",
            "        ...,\n",
            "        [ 0.5860,  0.0883,  0.0071,  ...,  0.1767, -0.1497,  0.0122],\n",
            "        [-0.2699,  0.0473, -0.0216,  ...,  0.2606,  0.4352,  0.4812],\n",
            "        [ 0.0358, -0.0226,  0.0729,  ..., -0.1084, -0.2605, -0.1192]],\n",
            "       requires_grad=True), Parameter containing:\n",
            "tensor([-0.6982,  0.4034, -0.2610, -0.4615, -0.2042,  0.3830,  0.4213, -0.0945,\n",
            "         0.2943, -0.6962,  0.6689,  0.2165, -0.6464, -0.1383, -0.9323, -0.2927,\n",
            "         0.5030, -0.0217, -0.7888,  0.7918,  0.0706, -0.9397, -0.5370, -0.6389,\n",
            "        -0.1699, -1.2309, -0.7344, -0.3003,  0.6801,  0.4120, -1.0955,  0.2365,\n",
            "        -0.4117,  0.2787, -0.0955,  0.2168, -0.1446, -0.7477, -1.0803, -0.5762,\n",
            "        -0.1897,  0.4260,  0.3033,  0.1053,  0.1794, -0.6897, -0.4529, -0.9318,\n",
            "         0.7460,  0.0880, -0.0567,  0.3678,  0.1084,  0.5288,  0.1780, -0.0143,\n",
            "        -0.7594, -0.5294,  0.1203, -0.1824,  0.4032,  0.4920,  0.1067, -0.5104,\n",
            "        -0.2599,  0.3317, -0.5475, -0.8367, -0.1078, -0.6151,  0.0151, -0.6868,\n",
            "         0.6719,  0.7708,  0.0337, -0.1883, -0.5372, -0.5021,  0.3059,  0.4899,\n",
            "         0.5075, -0.4694, -0.3249,  0.2485, -0.6277, -0.4100, -0.7558,  0.1731,\n",
            "        -0.1341,  0.3170, -1.1904,  0.0554, -0.0409,  0.5036, -0.4677,  0.5802,\n",
            "        -0.8711, -1.1207,  0.9756, -0.0055, -0.1677,  0.0097, -1.1810, -0.3940,\n",
            "        -0.0979, -0.0884, -0.2839, -0.6929, -0.4184, -0.8023,  0.5545, -0.5609,\n",
            "        -1.0843, -0.3953, -0.0686, -0.7541,  0.1543,  0.0328,  0.0958, -0.5170,\n",
            "         0.2229,  0.1662,  0.1364,  0.7427, -0.5711, -0.7051,  0.0478, -0.5667,\n",
            "        -1.4059, -0.2973,  0.4444, -0.2373, -0.9543,  0.1615, -0.8190,  0.3007,\n",
            "         0.5826, -0.0545, -0.1678,  0.1542, -0.2685,  1.1114, -1.2830, -0.4573,\n",
            "        -0.5097,  0.3200, -0.1477, -0.3765,  0.0510, -0.5570,  0.0162, -0.6577,\n",
            "        -0.6839, -0.3476, -0.8983,  0.3785, -1.2718,  0.0372, -1.1421,  0.5542,\n",
            "        -1.3020, -0.1644, -0.3740, -0.1349, -0.5974, -0.5031, -0.5294,  0.9139,\n",
            "        -0.2296,  0.0540, -0.6872, -0.7532, -0.6680, -0.8651, -0.5554,  0.2187,\n",
            "         0.6065, -1.2149, -0.0759, -0.3027,  0.9770, -0.2861,  0.0571, -0.3623,\n",
            "         0.2969,  0.2714, -0.1403, -0.5359, -1.2064,  0.2254,  0.1890,  0.8275,\n",
            "         0.1539, -0.0982, -0.6304, -0.4363, -0.9518,  0.7911, -0.5187, -0.5098,\n",
            "        -0.4033,  0.1943, -0.7319, -0.2181,  0.9131, -0.1082, -0.2569,  0.4080,\n",
            "         0.3522,  0.0974, -0.6185,  0.6845, -0.4465,  0.4222,  0.1401,  0.8454,\n",
            "        -0.6783, -0.3186,  0.9799,  0.3097, -0.0482,  0.5860, -0.0711, -0.8629,\n",
            "         0.6485,  0.6573, -0.3337,  0.2768, -0.2025,  0.9193,  0.2965,  0.7342,\n",
            "        -0.1868,  0.1882,  0.5852, -0.7286, -0.4387, -0.2892, -0.3789, -0.8696,\n",
            "         0.1368, -0.3023, -0.6216, -0.1839,  0.6783,  0.2538,  0.6336,  0.3173,\n",
            "        -1.0467,  0.7153, -0.0350,  0.0103, -0.2372,  0.3985,  0.5509, -0.3296,\n",
            "        -0.3151, -0.4055, -0.9387,  0.8105,  0.6923,  0.0512, -0.4302, -0.9128,\n",
            "         0.6443, -0.4323, -0.2953, -0.7444, -1.4265, -0.3858,  0.1823, -0.5730,\n",
            "        -0.6292, -0.4949, -1.2991,  0.5731,  0.7246, -1.5081, -0.8928,  1.0061,\n",
            "        -0.3804,  0.7209,  0.3373, -0.4111, -0.2385, -0.2906,  0.0387,  0.5044,\n",
            "         0.8669, -0.6667, -0.1837,  0.1102, -0.5332, -0.5250, -0.4433,  0.6160,\n",
            "        -0.4405,  0.6459,  0.2600, -0.4812,  0.4425,  0.3846,  0.9248, -0.2828,\n",
            "        -0.0808, -0.5079,  0.3480, -0.6098,  0.2474,  0.4354,  0.1051, -0.4812,\n",
            "         0.6731,  0.2258,  0.6398,  0.7006,  0.3300,  0.8102,  0.1173, -0.4719,\n",
            "        -0.4442, -0.3316, -0.7192,  0.1639, -0.1934, -0.0728,  0.3149,  0.8871,\n",
            "        -0.8954,  1.0849,  0.1737,  0.2543, -0.0823, -0.4896, -0.5364, -0.1522,\n",
            "        -0.0790, -0.6537,  0.1807, -0.0688, -0.0916,  0.0918, -1.2690,  0.4306,\n",
            "         0.1376,  0.7982,  0.7237, -0.1039, -0.0790, -0.4266, -0.4802,  0.6157,\n",
            "        -0.4300,  0.5012,  0.5370, -0.2459, -0.5642,  0.2669,  0.5139, -0.0086,\n",
            "        -0.2280, -0.0441, -1.3048, -0.5523, -0.6176,  0.4762, -0.0078, -0.4441,\n",
            "        -0.7039, -0.0950, -0.8443, -0.5572,  0.1310, -0.1771,  0.1177, -0.5672,\n",
            "        -0.2744, -0.7514, -0.3491,  0.0994, -0.3310,  0.1419, -0.4471,  0.2719,\n",
            "        -0.3296,  0.2235, -0.7097,  0.8050,  0.1912, -0.2728, -0.8369, -0.5732,\n",
            "        -0.8909, -1.1991, -0.3991, -0.4773,  0.2024, -0.2966, -0.1461, -0.5751,\n",
            "        -0.5704,  0.2932, -0.4861, -0.5455,  0.8021, -0.3414,  0.5615, -0.8719,\n",
            "         0.5505,  0.6841,  0.4279,  0.3141,  0.6857,  0.0396, -0.6086,  0.8433,\n",
            "         0.5243,  0.0903,  0.3921,  0.0966, -0.4009,  0.7002, -0.1682, -0.1733,\n",
            "         0.7523,  0.5594,  0.4593, -0.6526,  0.7569,  0.4251, -0.5308,  0.6239,\n",
            "        -0.4325, -0.3299, -0.9582, -0.0827, -0.6331,  0.9228, -0.4648,  0.1032,\n",
            "        -0.3412,  0.0490,  0.6854,  0.0546, -1.0025,  0.0836,  0.0243,  0.0543,\n",
            "         0.8180,  0.0156,  0.0685,  0.3356, -0.9574,  0.1655,  0.5737,  0.8822,\n",
            "        -0.1659, -0.4425,  0.3451,  0.2013, -0.0342,  0.5913,  0.1368, -0.1700,\n",
            "        -0.3509, -0.5738,  0.2927,  0.3930, -0.0615, -0.5279, -1.3750,  1.0761,\n",
            "         0.1653,  0.5393, -1.4144, -0.1529, -1.0706, -0.8488, -0.1673, -0.1340,\n",
            "        -0.4787,  0.0953, -0.0945, -1.0647, -0.2482, -0.4049,  0.9915, -1.0327,\n",
            "         0.5268, -0.4042,  0.2785, -0.0464,  0.3121, -1.1119,  0.0550,  0.6126,\n",
            "         0.1309,  0.3851,  0.3198,  0.3176, -0.1567, -0.7349,  0.9860,  1.0645,\n",
            "        -0.6844,  0.5249,  0.0025, -0.7522, -0.1695,  0.9634, -0.0079,  1.0147,\n",
            "        -0.0384, -1.0404,  0.7124,  0.2849,  0.1828, -0.5060,  0.7454, -0.2423,\n",
            "        -0.6286, -0.1025,  0.2022,  0.0184,  0.9214,  1.0008, -0.2759, -0.7990,\n",
            "        -0.0787, -0.7939, -0.7704, -0.1083, -0.4371, -0.5169, -0.8939,  0.6221,\n",
            "         0.0416,  0.2367,  0.0263, -0.5263,  0.4885, -0.3412,  0.3027, -0.8500,\n",
            "        -0.2377,  0.0922,  0.0969,  0.5175, -1.1022,  0.5644, -0.8740, -0.6100,\n",
            "        -0.1461,  0.1441, -0.0235], requires_grad=True), Parameter containing:\n",
            "tensor([[-0.0048, -0.0048, -0.0106,  ...,  0.0062, -0.0057,  0.0007],\n",
            "        [ 0.0108,  0.0001, -0.0304,  ...,  0.0579, -0.0334, -0.0384],\n",
            "        [-0.0345, -0.0218,  0.0086,  ...,  0.0834, -0.0653,  0.0100],\n",
            "        ...,\n",
            "        [-0.0130, -0.0272, -0.0633,  ...,  0.0534, -0.0405,  0.0059],\n",
            "        [-0.0128, -0.0145, -0.0255,  ..., -0.0208,  0.0592, -0.0391],\n",
            "        [ 0.0366, -0.0368,  0.0001,  ...,  0.0058,  0.0265, -0.0469]],\n",
            "       requires_grad=True), Parameter containing:\n",
            "tensor([ 0.5704,  0.7076, -0.6138,  0.8398,  0.6093, -0.0264,  0.1050, -0.1016,\n",
            "         0.4751, -0.8974,  1.0111,  0.4636,  0.5102,  0.6933,  0.5001,  0.6661,\n",
            "         1.0143,  0.0194,  0.9048, -0.6004,  0.4252,  0.8294,  0.8587, -0.3861,\n",
            "        -0.1987, -1.8403,  1.1202,  1.0388,  0.9113,  0.0560,  0.9808,  0.4474,\n",
            "         0.6703,  0.3806,  0.9308, -1.4511, -0.2756, -0.0789, -0.1877,  0.4059,\n",
            "        -0.5980, -0.4098, -0.1104,  0.9566,  0.9170, -0.0484,  0.4497,  0.7214,\n",
            "         0.7318,  0.6536,  1.0889,  0.8974, -0.7502,  0.3602,  0.6931,  0.7481,\n",
            "         0.0631,  0.0193,  0.8451,  0.4934,  0.9076, -0.0818, -0.7042,  0.4496,\n",
            "        -0.3237, -0.8242, -0.2785,  0.3447,  0.5898,  1.0233,  0.8735,  0.5364,\n",
            "         0.8921, -0.3015,  0.1842,  0.6421,  0.3527,  0.6430,  0.0322, -0.1084,\n",
            "         0.5394,  0.0973,  1.0042, -1.8674,  0.8916, -1.7480, -0.7919, -0.2205,\n",
            "         0.5507,  0.1430, -0.0999,  0.5057,  0.9242,  0.4135,  0.3789,  0.8769,\n",
            "        -0.1548,  0.6936,  0.1704,  0.9510,  0.2175,  0.0243, -0.4771,  0.6260,\n",
            "        -0.4330,  0.9582,  0.9254,  0.8126, -0.2540,  0.2752,  0.2592,  0.1894,\n",
            "         0.1005,  0.9351,  0.6800,  0.2654,  0.1109, -1.6725, -0.2759,  0.2568,\n",
            "         0.8144,  0.5411,  0.0637,  0.7867, -0.1600, -0.7859,  0.3661, -0.2568,\n",
            "         1.0210,  1.0078,  0.3230,  0.9137,  0.9145, -0.1705,  0.9488,  0.1102,\n",
            "         0.5756, -0.0720, -0.3873, -1.5530,  0.1344, -1.3046, -0.0195,  0.8436,\n",
            "         0.6215,  0.9231,  0.9135, -0.4022,  0.3111, -0.0067,  0.4412,  0.4464,\n",
            "         0.7208, -0.1448, -0.2352,  0.6215,  0.9237, -0.1757, -0.2582, -0.3216,\n",
            "         0.7929, -0.7315, -0.2297,  0.0653, -0.5565, -0.0262, -0.1560, -1.9650,\n",
            "         0.9263,  0.7711, -0.2702,  0.6211,  1.0405,  0.6864, -0.2757, -0.2629,\n",
            "         0.9064,  0.7290,  0.3467,  0.6317, -0.6621,  0.8866,  0.7384, -0.2650,\n",
            "        -0.7499,  0.4953,  0.3602,  0.6317,  0.8061, -0.7865, -0.6169, -0.3299,\n",
            "         0.1355,  0.7746,  0.0321, -0.3188,  0.3109,  0.9544, -0.8350, -0.5049,\n",
            "        -0.6323,  0.3546,  0.8918,  0.7332, -0.2474,  0.9934,  1.0041,  0.7978,\n",
            "         0.0196,  0.2225, -0.0241,  0.2425,  0.7697, -0.9318, -0.7071, -0.5226,\n",
            "         0.7909, -0.1710,  0.0406, -0.1724,  0.6249,  0.6634, -0.2720,  1.0267,\n",
            "         0.5285,  0.5354,  0.1552,  0.8308,  0.8647, -0.3035,  0.0032, -0.1442,\n",
            "        -0.8271,  0.4169,  0.1842,  0.5844,  0.9796, -0.6818,  0.1549,  0.4470,\n",
            "        -0.2752, -0.6877, -0.9502,  0.6729, -0.4431, -0.6210, -0.0262,  0.8047,\n",
            "         0.6418, -1.1842,  0.7992,  0.6680,  0.9341,  0.9325,  0.5424, -0.2630,\n",
            "        -0.7144,  1.0409,  0.0902, -0.3203, -0.2574, -0.3897,  0.6718, -0.0085,\n",
            "         0.0695,  0.9435, -0.4875,  1.0029, -0.1419, -2.2802, -0.3375,  0.0135,\n",
            "         0.3994,  0.2410, -0.1628, -0.6240, -0.1529, -0.4611,  0.7402,  0.8889,\n",
            "         0.5077,  0.8867,  0.0791,  1.1355, -0.3199, -0.6276,  0.6771,  0.2810,\n",
            "        -0.0288, -0.1872, -0.3111,  0.8974,  0.3476,  0.9028, -1.3093, -0.4187,\n",
            "         1.2117,  0.4909,  0.9734,  0.5335,  0.4299,  0.9490,  1.0693, -0.0336,\n",
            "         0.8090,  0.2935,  0.8119,  0.2077,  0.3211,  0.3187,  0.8495,  0.9543,\n",
            "         0.2224, -0.2531,  0.3329, -0.3776, -0.0783, -0.1401,  0.9310, -0.0350,\n",
            "        -0.4122,  0.1880,  0.8445,  0.6865,  0.9309,  0.8480,  0.2041, -0.3298,\n",
            "         0.9197,  0.6148,  0.2748, -0.3990,  0.8955,  0.8773,  0.3859, -0.3260,\n",
            "        -0.0583,  0.2877,  0.7806,  0.4758,  0.9053,  0.7797,  0.6813,  0.3058,\n",
            "         0.0155, -0.0305, -0.3651,  0.4543,  0.1478,  0.8430,  0.1363, -0.3289,\n",
            "        -0.9980, -0.8454, -0.0749, -0.3484,  0.6839, -0.5306,  0.3281, -0.9846,\n",
            "        -1.2842, -0.3908, -0.0603, -0.3926,  0.1513,  1.0824,  0.4936, -0.7500,\n",
            "         0.0916,  0.9242, -0.7070,  0.6485,  0.2326, -0.0372, -0.1436,  0.9592,\n",
            "        -1.5410,  0.7705, -0.5841,  0.1406,  0.7279, -0.2426,  0.9212, -0.3824,\n",
            "         0.1905,  0.8945,  0.0933,  0.0573,  0.9663, -1.6147,  0.2785, -0.2526,\n",
            "         0.5869,  0.0485, -0.2165,  0.2788,  0.3514, -0.1485,  0.9977, -0.0161,\n",
            "        -0.2481,  0.9115,  0.5503,  0.0912, -0.1646,  0.4131, -0.4264,  0.6349,\n",
            "         0.9426,  0.5100,  0.5363, -0.2234,  0.1483, -0.3549, -0.0557,  0.4260,\n",
            "         0.5469,  0.1758,  0.5473,  0.1374, -0.3087, -0.2034,  0.5399,  0.7702,\n",
            "        -0.5539,  0.2698,  0.9859,  0.9770, -0.0880, -0.9174,  0.4338, -0.1778,\n",
            "         0.9693, -0.0475,  0.1696,  0.4677,  0.5412,  0.7539, -0.2658,  0.1655,\n",
            "         0.3402,  1.0069, -0.0622,  0.8029, -0.0828, -0.2822,  1.0392,  0.1422,\n",
            "         1.0051, -0.4944,  0.1523,  0.7030,  0.6317,  0.8635, -0.3329,  0.5323,\n",
            "        -0.2129,  0.6035], requires_grad=True), Parameter containing:\n",
            "tensor([[ 0.0187,  0.0209, -0.0005,  ...,  0.0159, -0.0577,  0.0802],\n",
            "        [ 0.0058,  0.0057,  0.0079,  ...,  0.0167,  0.0449,  0.0810],\n",
            "        [ 0.0494,  0.0557, -0.0151,  ...,  0.0744, -0.0680,  0.0336],\n",
            "        ...,\n",
            "        [-0.0308, -0.0857, -0.0281,  ..., -0.0117, -0.0348, -0.0292],\n",
            "        [-0.0520,  0.0064, -0.0203,  ...,  0.0333,  0.0407,  0.0609],\n",
            "        [-0.0506, -0.0103,  0.0053,  ..., -0.0261,  0.0043, -0.0003]],\n",
            "       requires_grad=True), Parameter containing:\n",
            "tensor([ 0.8530, -0.0836,  0.0970, -1.0459,  0.1308,  1.2437, -1.1500,  0.4562,\n",
            "         0.7238, -0.7133,  1.0488, -0.4313,  0.0783,  0.8556, -0.3593,  1.0752,\n",
            "         0.5052,  0.0415,  0.1177,  0.5533, -0.1094,  1.3234,  1.1477,  0.0921,\n",
            "        -0.0702,  0.5387,  0.1689,  1.2315,  1.1460,  1.1727,  1.1345,  1.3097,\n",
            "         0.6107, -0.8074,  0.5341,  0.0839, -0.7471,  0.1078,  0.1729,  0.3914,\n",
            "        -0.3056, -0.3931, -0.5322,  0.6345,  0.3944,  1.2804,  1.3553,  1.3142,\n",
            "         1.1876,  0.0943,  1.0267,  0.1970,  1.1467,  0.1529, -0.2713,  0.6446,\n",
            "         1.1280, -1.0056,  1.2631,  1.0659,  0.9100,  0.1624,  0.1003,  1.2784,\n",
            "         1.1007, -0.1865,  0.7105,  0.8208,  1.3276,  1.3112,  1.3910,  1.1385,\n",
            "        -0.0464,  0.0644,  1.3366,  0.2542,  1.1630,  1.1037,  0.0585,  1.3338,\n",
            "         0.7508, -0.0616, -0.2353,  1.1242,  1.3078,  1.1193,  1.2819,  0.8519,\n",
            "        -1.0719,  0.3572,  1.3524,  0.0446, -0.9440,  1.2215, -1.5832,  0.0974,\n",
            "         1.0202, -0.9449,  1.2164,  1.2525, -1.0992,  1.1831,  0.0839,  1.2463,\n",
            "         0.0797,  0.9529,  0.6972,  0.5759, -0.3523, -0.1768,  0.0950, -0.2955,\n",
            "        -0.2728,  0.1803,  0.0196], requires_grad=True), Parameter containing:\n",
            "tensor([[ 0.0102, -0.0160, -0.0050, -0.0195, -0.0182,  0.0211, -0.0228, -0.0013,\n",
            "          0.0746, -0.0292,  0.0442, -0.0583, -0.0202,  0.0064, -0.0210,  0.0445,\n",
            "          0.0565, -0.0217, -0.0494,  0.0134,  0.0640,  0.0129,  0.0542, -0.0058,\n",
            "         -0.0239,  0.0080, -0.0198,  0.0149,  0.0069,  0.0040,  0.0066,  0.0121,\n",
            "          0.0516, -0.0003,  0.0483, -0.0118, -0.0283, -0.0046,  0.0666,  0.0780,\n",
            "          0.0137, -0.0514, -0.0162,  0.1333,  0.0492,  0.0148,  0.0167,  0.0118,\n",
            "          0.0229, -0.0717,  0.0203, -0.0203,  0.0202, -0.0627,  0.0742,  0.0033,\n",
            "          0.0129, -0.0423,  0.0102,  0.0105,  0.0725, -0.0364, -0.0776,  0.0217,\n",
            "          0.0050, -0.0386,  0.0035,  0.0488,  0.0168,  0.0153,  0.0120,  0.0151,\n",
            "         -0.0352, -0.0561,  0.0127, -0.0681,  0.0022,  0.0112, -0.0093,  0.0193,\n",
            "          0.0885, -0.0149,  0.0577,  0.0173,  0.0060,  0.0240,  0.0105,  0.0115,\n",
            "         -0.0396,  0.0954,  0.0243, -0.0070, -0.0068,  0.0137, -0.0339, -0.0303,\n",
            "          0.0289, -0.0500,  0.0050,  0.0123, -0.0097,  0.0563, -0.0192,  0.0134,\n",
            "         -0.0122,  0.0073,  0.0095,  0.0997, -0.1003, -0.0904, -0.0332, -0.0662,\n",
            "         -0.0557, -0.0569, -0.0415]], requires_grad=True), Parameter containing:\n",
            "tensor([1.4183], requires_grad=True)]\n"
          ]
        }
      ],
      "source": [
        "print(list(net_loaded.parameters()))"
      ]
    },
    {
      "cell_type": "code",
      "execution_count": 146,
      "metadata": {
        "colab": {
          "base_uri": "https://localhost:8080/"
        },
        "id": "InGW0Xq6UZip",
        "outputId": "6c4a0e2c-b485-4362-b99d-7364dcf9443a"
      },
      "outputs": [
        {
          "name": "stdout",
          "output_type": "stream",
          "text": [
            "rho.shape:  torch.Size([20])\n",
            "epsilon.shape:  torch.Size([20])\n"
          ]
        },
        {
          "data": {
            "text/plain": [
              "tensor([[ 1.7907e+00,  3.0631e+00,  4.2701e+00,  3.5472e+00,  8.1604e+00,\n",
              "          7.8605e-01,  2.0501e+00, -1.8514e+00,  9.0824e-01,  8.3762e-02,\n",
              "          6.4377e-02,  9.0779e-01,  9.2771e-02,  9.1255e-01],\n",
              "        [ 1.0017e+00,  3.9397e+01, -3.4557e+01,  5.1684e+00,  7.1919e+01,\n",
              "         -6.8954e+00, -7.5790e+00, -5.2241e-01,  9.5733e-01,  9.6562e-02,\n",
              "          5.7799e-02,  1.0142e+00,  9.2053e-02,  1.0481e+00],\n",
              "        [ 2.4818e+00,  2.9742e+01,  7.3430e-01,  7.7589e+00,  3.2464e+01,\n",
              "         -8.7958e-01, -5.0817e+00, -2.0096e+00,  1.0774e+00,  4.5947e-02,\n",
              "          8.4598e-02,  9.2247e-01,  7.0744e-02,  1.0154e+00],\n",
              "        [ 5.1257e-01,  4.7957e+01,  9.6294e+01,  5.2233e+01,  1.1446e+02,\n",
              "          7.5089e+00, -6.5032e+00,  5.0396e+00,  9.8492e-01,  7.0999e-02,\n",
              "          7.5218e-02,  1.0134e+00,  4.2321e-02,  9.3855e-01],\n",
              "        [ 1.9601e-02, -3.3507e+01,  4.9162e+01,  1.3975e+02,  1.6230e+02,\n",
              "          9.7527e+00, -9.5222e+00,  5.6949e+00,  1.0688e+00,  8.2169e-02,\n",
              "          7.4091e-02,  1.0342e+00,  3.7670e-02,  9.7174e-01],\n",
              "        [ 1.7824e+00,  1.2068e+01,  2.9782e+01,  5.2304e+01,  6.9516e+01,\n",
              "          6.6468e+00,  1.4323e+00,  1.3598e+00,  1.0606e+00,  6.0918e-02,\n",
              "          6.2668e-02,  1.0753e+00,  7.1313e-03,  9.5365e-01],\n",
              "        [ 1.1503e+00, -4.2658e+01,  3.2099e+01,  1.8300e+01,  8.9397e+01,\n",
              "          5.8177e+00,  6.1659e+00,  7.8515e+00,  1.0613e+00,  2.2691e-02,\n",
              "          9.0450e-03,  9.9881e-01,  8.9961e-02,  9.0268e-01],\n",
              "        [ 1.7440e+00,  2.8511e+01,  8.3662e+01,  3.5656e+01,  9.5763e+01,\n",
              "         -7.4819e+00,  5.0653e+00, -5.9702e+00,  9.4027e-01,  3.9940e-02,\n",
              "          4.5530e-02,  9.5378e-01,  8.5618e-03,  1.0257e+00],\n",
              "        [ 2.1341e+00,  2.2881e+01,  1.9274e+01,  4.5861e+00,  3.8933e+01,\n",
              "         -2.6403e+00,  1.3314e+00,  8.0748e+00,  1.0426e+00,  6.4075e-02,\n",
              "          5.0829e-02,  1.0549e+00,  5.3984e-02,  9.0032e-01],\n",
              "        [ 2.8368e+00,  3.2273e+01, -2.6153e+00,  7.5999e+01,  8.1335e+01,\n",
              "          8.6928e+00, -4.2124e+00, -3.8021e+00,  9.2478e-01,  8.9744e-03,\n",
              "          5.2599e-03,  1.0826e+00,  6.3465e-02,  1.0489e+00],\n",
              "        [ 1.2964e+00,  1.4960e+01,  1.8273e+00,  2.6736e+01,  4.0246e+01,\n",
              "         -4.1524e+00,  6.5220e+00,  2.6423e+00,  9.4944e-01,  7.1212e-02,\n",
              "          9.0807e-02,  1.0069e+00,  1.3135e-02,  1.0542e+00],\n",
              "        [ 3.4594e+00,  7.0119e+01,  3.5073e+00, -6.3371e+01,  1.1731e+02,\n",
              "         -7.7943e+00, -4.9011e+00, -8.3583e+00,  9.7767e-01,  3.7862e-02,\n",
              "          7.0590e-02,  9.2933e-01,  8.4031e-02,  9.7165e-01],\n",
              "        [ 3.1068e+00,  9.6027e+01,  8.8203e+01,  6.3881e+00,  1.2628e+02,\n",
              "          8.0875e+00, -9.2780e+00,  5.2718e+00,  1.0902e+00,  6.4362e-02,\n",
              "          3.2998e-02,  1.0680e+00,  2.4368e-02,  9.4423e-01],\n",
              "        [ 2.0392e+00,  1.5191e+01,  1.2267e+01, -8.2941e+00,  4.7291e+01,\n",
              "         -5.8449e+00,  1.9244e+00, -6.7374e+00,  1.0807e+00,  9.4452e-02,\n",
              "          5.0570e-02,  9.6747e-01,  4.1795e-02,  1.0186e+00],\n",
              "        [ 3.6124e+00,  4.5756e+01,  4.5300e+01,  9.6270e+01,  1.1807e+02,\n",
              "          4.8744e-01,  8.1328e+00, -5.9511e+00,  1.0175e+00,  5.4243e-02,\n",
              "          3.9875e-02,  9.2191e-01,  5.6010e-02,  9.4417e-01],\n",
              "        [ 2.6117e+00,  2.4586e+00,  3.4932e+01,  3.5652e+00,  4.2180e+01,\n",
              "          7.7826e-01, -3.1381e-01,  8.1477e+00,  1.0691e+00,  2.5286e-02,\n",
              "          1.9249e-02,  9.5906e-01,  6.9901e-02,  9.1879e-01],\n",
              "        [ 4.6320e-01,  7.5317e+01,  1.6965e+01, -1.8072e+01,  8.2474e+01,\n",
              "         -5.2050e-01, -6.5851e+00, -6.3465e+00,  9.5473e-01,  8.2743e-02,\n",
              "          1.3565e-02,  1.0326e+00,  6.0655e-02,  1.0760e+00],\n",
              "        [ 6.4241e-01,  5.4683e+00,  8.5465e+00,  2.8535e+01,  3.8086e+01,\n",
              "         -5.3058e+00, -5.3550e+00,  2.6720e+00,  9.1535e-01,  3.9588e-02,\n",
              "          7.2989e-02,  1.0681e+00,  8.6228e-02,  9.3130e-01],\n",
              "        [ 6.1137e+00,  1.5866e+02,  4.2445e+01,  3.0110e+01,  1.5745e+02,\n",
              "          1.4597e+00, -8.9768e+00,  5.8755e+00,  1.0247e+00,  5.8233e-02,\n",
              "          2.8669e-02,  9.6117e-01,  4.0873e-02,  1.0453e+00],\n",
              "        [ 1.2628e+00,  7.9141e-01,  3.6522e+01,  5.6327e+00,  4.4011e+01,\n",
              "         -5.3299e+00,  4.1679e-01, -5.3683e+00,  1.0838e+00,  7.7368e-02,\n",
              "          8.4836e-02,  9.6883e-01,  7.7141e-02,  9.2601e-01]])"
            ]
          },
          "execution_count": 146,
          "metadata": {},
          "output_type": "execute_result"
        }
      ],
      "source": [
        "rho_example, epsilon_example, vx_example, vy_example, vz_example, Bx_example, By_example, Bz_example, gxx_example, gxy_example, gxz_example, gyy_example, gyz_example, gzz_example = generate_samples(20)\n",
        "\n",
        "inputs =  generate_input_data(rho_example, epsilon_example, vx_example, vy_example, vz_example, Bx_example, By_example, Bz_example, gxx_example, gxy_example, gxz_example, gyy_example, gyz_example, gzz_example)\n",
        "inputs\n"
      ]
    },
    {
      "cell_type": "code",
      "execution_count": 147,
      "metadata": {
        "colab": {
          "base_uri": "https://localhost:8080/"
        },
        "id": "QVa1upmFUZip",
        "outputId": "95a297df-88d8-4614-ffd7-ecc0cda58cf9"
      },
      "outputs": [
        {
          "data": {
            "text/plain": [
              "[tensor([[3.1810]], grad_fn=<AddmmBackward0>),\n",
              " tensor([[1.2495]], grad_fn=<AddmmBackward0>),\n",
              " tensor([[5.3008]], grad_fn=<AddmmBackward0>),\n",
              " tensor([[5.3859]], grad_fn=<AddmmBackward0>),\n",
              " tensor([[5.6033]], grad_fn=<AddmmBackward0>),\n",
              " tensor([[15.0393]], grad_fn=<AddmmBackward0>),\n",
              " tensor([[3.9418]], grad_fn=<AddmmBackward0>),\n",
              " tensor([[2.9342]], grad_fn=<AddmmBackward0>),\n",
              " tensor([[-0.9033]], grad_fn=<AddmmBackward0>),\n",
              " tensor([[-0.7625]], grad_fn=<AddmmBackward0>),\n",
              " tensor([[2.6714]], grad_fn=<AddmmBackward0>),\n",
              " tensor([[1.4640]], grad_fn=<AddmmBackward0>),\n",
              " tensor([[-1.6670]], grad_fn=<AddmmBackward0>),\n",
              " tensor([[2.0623]], grad_fn=<AddmmBackward0>),\n",
              " tensor([[10.3608]], grad_fn=<AddmmBackward0>),\n",
              " tensor([[0.2681]], grad_fn=<AddmmBackward0>),\n",
              " tensor([[7.8791]], grad_fn=<AddmmBackward0>),\n",
              " tensor([[1.1788]], grad_fn=<AddmmBackward0>),\n",
              " tensor([[8.6261]], grad_fn=<AddmmBackward0>),\n",
              " tensor([[4.3179]], grad_fn=<AddmmBackward0>)]"
            ]
          },
          "execution_count": 147,
          "metadata": {},
          "output_type": "execute_result"
        }
      ],
      "source": [
        "#%%script echo skipping\n",
        "\n",
        "# Pass the inputs to the network and get the outputs\n",
        "outputs = [net(input.unsqueeze(0)) for input in inputs]\n",
        "# Print the outputs\n",
        "outputs"
      ]
    },
    {
      "cell_type": "code",
      "execution_count": 148,
      "metadata": {
        "colab": {
          "base_uri": "https://localhost:8080/"
        },
        "id": "E-Xjfo7VUZir",
        "outputId": "fb0478cb-bee3-429f-fdec-d99f11baf40f"
      },
      "outputs": [
        {
          "data": {
            "text/plain": [
              "[tensor([[3.1810]], grad_fn=<AddmmBackward0>),\n",
              " tensor([[1.2495]], grad_fn=<AddmmBackward0>),\n",
              " tensor([[5.3008]], grad_fn=<AddmmBackward0>),\n",
              " tensor([[5.3859]], grad_fn=<AddmmBackward0>),\n",
              " tensor([[5.6033]], grad_fn=<AddmmBackward0>),\n",
              " tensor([[15.0393]], grad_fn=<AddmmBackward0>),\n",
              " tensor([[3.9418]], grad_fn=<AddmmBackward0>),\n",
              " tensor([[2.9342]], grad_fn=<AddmmBackward0>),\n",
              " tensor([[-0.9033]], grad_fn=<AddmmBackward0>),\n",
              " tensor([[-0.7625]], grad_fn=<AddmmBackward0>),\n",
              " tensor([[2.6714]], grad_fn=<AddmmBackward0>),\n",
              " tensor([[1.4640]], grad_fn=<AddmmBackward0>),\n",
              " tensor([[-1.6670]], grad_fn=<AddmmBackward0>),\n",
              " tensor([[2.0623]], grad_fn=<AddmmBackward0>),\n",
              " tensor([[10.3608]], grad_fn=<AddmmBackward0>),\n",
              " tensor([[0.2681]], grad_fn=<AddmmBackward0>),\n",
              " tensor([[7.8791]], grad_fn=<AddmmBackward0>),\n",
              " tensor([[1.1788]], grad_fn=<AddmmBackward0>),\n",
              " tensor([[8.6261]], grad_fn=<AddmmBackward0>),\n",
              " tensor([[4.3179]], grad_fn=<AddmmBackward0>)]"
            ]
          },
          "execution_count": 148,
          "metadata": {},
          "output_type": "execute_result"
        }
      ],
      "source": [
        "\n",
        "# Pass the inputs to the network and get the outputs\n",
        "outputs = [net_loaded(input.unsqueeze(0)) for input in inputs]\n",
        "# Print the outputs\n",
        "outputs"
      ]
    },
    {
      "attachments": {},
      "cell_type": "markdown",
      "metadata": {
        "id": "xjpIvdybUZis"
      },
      "source": [
        "## Porting the model to C++"
      ]
    },
    {
      "cell_type": "code",
      "execution_count": 149,
      "metadata": {
        "colab": {
          "base_uri": "https://localhost:8080/"
        },
        "id": "VMlEd4RoUZis",
        "outputId": "d5bfc697-8c96-47bb-a08c-6fb26f463797"
      },
      "outputs": [
        {
          "data": {
            "text/plain": [
              "Net(\n",
              "  (hidden_activation): LeakyReLU(negative_slope=0.01)\n",
              "  (output_activation): Identity()\n",
              "  (layers): ModuleList(\n",
              "    (0): Linear(in_features=14, out_features=555, bias=True)\n",
              "    (1): Linear(in_features=555, out_features=458, bias=True)\n",
              "    (2): Linear(in_features=458, out_features=115, bias=True)\n",
              "    (3): Linear(in_features=115, out_features=1, bias=True)\n",
              "  )\n",
              "  (dropouts): ModuleList(\n",
              "    (0-2): 3 x Dropout(p=0.2, inplace=False)\n",
              "  )\n",
              ")"
            ]
          },
          "execution_count": 149,
          "metadata": {},
          "output_type": "execute_result"
        },
        {
          "name": "stdout",
          "output_type": "stream",
          "text": [
            "rho.shape:  torch.Size([1])\n",
            "epsilon.shape:  torch.Size([1])\n",
            "input shape:  torch.Size([1, 14])\n",
            "input:  tensor([[ 3.1717e+00,  6.0219e-01,  3.1827e+01,  5.5007e+01,  6.2227e+01,\n",
            "         -3.8689e+00,  3.3077e+00, -3.5445e+00,  9.3597e-01,  1.6982e-02,\n",
            "          9.7446e-02,  1.0166e+00,  8.6980e-02,  1.0277e+00]])\n",
            "Output: tensor([[10.0106]], grad_fn=<AddmmBackward0>)\n"
          ]
        },
        {
          "name": "stderr",
          "output_type": "stream",
          "text": [
            "/tmp/ipykernel_1121047/755242825.py:62: TracerWarning: Converting a tensor to a Python boolean might cause the trace to be incorrect. We can't record the data flow of Python values, so this value will be treated as a constant in the future. This means that the trace might not generalize to other inputs!\n",
            "  assert x.shape[1] == N_INPUTS, f\"x must have shape (batch_size, {N_INPUTS})\"\n"
          ]
        }
      ],
      "source": [
        "import torch.jit\n",
        "\n",
        "# Creating a dummy input tensor of shape (1, 5) to trace the model\n",
        "dummy_input = torch.randn(1, N_INPUTS).to(device)\n",
        "\n",
        "# Ensure that net_loaded is in evaluation mode.\n",
        "net_loaded.eval()\n",
        "\n",
        "# Tracing the model using the torch.jit.trace function\n",
        "traced_model = torch.jit.trace(net_loaded, dummy_input)\n",
        "\n",
        "# Saving the traced model to a file named \"net.pt\"\n",
        "traced_model.save(\"net.pt\")\n",
        "save_file(\"net.pt\")\n",
        "\n",
        "example_input_to_validate_correct_export_and_import = generate_input_data(*generate_samples(1))\n",
        "print(\"input shape: \", example_input_to_validate_correct_export_and_import.shape)\n",
        "print(\"input: \", example_input_to_validate_correct_export_and_import)\n",
        "print(\"Output:\", net_loaded(example_input_to_validate_correct_export_and_import))"
      ]
    }
  ],
  "metadata": {
    "accelerator": "GPU",
    "colab": {
      "gpuType": "T4",
      "provenance": [],
      "toc_visible": true
    },
    "gpuClass": "standard",
    "kernelspec": {
      "display_name": "bsc",
      "language": "python",
      "name": "python3"
    },
    "language_info": {
      "codemirror_mode": {
        "name": "ipython",
        "version": 3
      },
      "file_extension": ".py",
      "mimetype": "text/x-python",
      "name": "python",
      "nbconvert_exporter": "python",
      "pygments_lexer": "ipython3",
      "version": "3.11.3"
    },
    "orig_nbformat": 4
  },
  "nbformat": 4,
  "nbformat_minor": 0
}
