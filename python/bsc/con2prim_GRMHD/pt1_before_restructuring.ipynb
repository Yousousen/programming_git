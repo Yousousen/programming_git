{
  "cells": [
    {
      "attachments": {},
      "cell_type": "markdown",
      "metadata": {
        "id": "TPvB1xoSUZhR"
      },
      "source": [
        "# Neural network to learn conservative-to-primitive conversion in relativistic hydrodynamics"
      ]
    },
    {
      "attachments": {},
      "cell_type": "markdown",
      "metadata": {},
      "source": [
        "## How to use this notebook\n",
        "\n",
        "### Local installation\n",
        "\n",
        "1. Install required packages with `pip install -r requirements.txt` to your desired environment.\n",
        "2. If a script version of this notebook is desired, comment (not uncomment) the first line of `nbconvert` cell.\n",
        "\n",
        "### Colab installation\n",
        "\n",
        "1.  Comment (not uncomment) the first line of the drive mounting cell.\n",
        "2.  Comment (not uncomment) the first line of the `pip install` cell.\n",
        "\n",
        "<!-- - For colab we also want to set the runtime to GPU by clicking _Change runtime_ in the _Runtime_ menu, and -->\n",
        "<!-- - We want to wait for the google drive connection popup to appear and follow the instructions. -->\n",
        "\n",
        "### Loading / Generating data\n",
        "3. Set `LOAD_DATA_FROM_CSV` to `True` / `False` to load data from csv files / generate data in this notebook.\n",
        "\n",
        "### Training without optimization\n",
        "\n",
        "4. Set `OPTIMIZE = False` in section _Constants and flags to set_.\n",
        "5. Run the entire notebook.\n",
        "\n",
        "### Training with optimization\n",
        "\n",
        "4. Set `OPTIMIZE = True` in section _Constants and flags to set_.\n",
        "5. Run the entire notebook.\n",
        "\n",
        "### Loading an already trained model\n",
        "\n",
        "4. Run cells in section _Initialization_.\n",
        "5. Run cells with definitions in section _Input data and labels_.\n",
        "6. Run cell with the definition of _Net_ in section _Defining the neural network_.\n",
        "7. Make sure the `net.pth`, `optimizer.pth`, `scheduler.pth`, `var_dict.json` and `train_output.csv` files are in the directory containing this notebook.\n",
        "8. Run the cells in section _Loading_ and continue from there.\n",
        "\n",
        "### Generating the C++ model\n",
        "\n",
        "9. Run section _Porting the model to C++_, this requires a model to be loaded.\n",
        "10. Set the path to the `net.pt` file in the C++ source file.\n",
        "11. `mkdir build && cd build`,\n",
        "12. Configure a `CMakeLists.txt` file as is done [here](https://pytorch.org/cppdocs/installing.html).\n",
        "13. `cmake -DCMAKE_PREFIX_PATH=/path/to/libtorch/ ..`,\n",
        "14. Compile and run, e.g. `cmake --build . --config release && ./<executable name>`"
      ]
    },
    {
      "attachments": {},
      "cell_type": "markdown",
      "metadata": {},
      "source": [
        "## Initialization"
      ]
    },
    {
      "attachments": {},
      "cell_type": "markdown",
      "metadata": {},
      "source": [
        "\n",
        "Use this first cell to **convert this notebook** to a python script."
      ]
    },
    {
      "cell_type": "code",
      "execution_count": 60,
      "metadata": {
        "colab": {
          "base_uri": "https://localhost:8080/"
        },
        "id": "eqdgdNLHUZhV",
        "outputId": "30907b9d-56c3-44d7-cd43-6387a991a46a",
        "tags": [
          "remove_cell"
        ]
      },
      "outputs": [
        {
          "name": "stdout",
          "output_type": "stream",
          "text": [
            "skipping\n"
          ]
        }
      ],
      "source": [
        "%%script echo skipping\n",
        "\n",
        "!jupyter nbconvert pt1_before_restructuring.ipynb --TagRemovePreprocessor.enabled=True --TagRemovePreprocessor.remove_cell_tags='{\"remove_cell\"}' --to script"
      ]
    },
    {
      "attachments": {},
      "cell_type": "markdown",
      "metadata": {
        "id": "nzcUr0LnUZhw"
      },
      "source": [
        "Next some cells for working on **google colab**,"
      ]
    },
    {
      "cell_type": "code",
      "execution_count": 61,
      "metadata": {},
      "outputs": [],
      "source": [
        "import os\n",
        "import shutil\n",
        "\n",
        "# check if the drive is mounted\n",
        "drive_mounted = os.path.exists(\"/content/drive\")\n",
        "# change this to your desired folder\n",
        "drive_folder = \"/content/drive/My Drive/bsc/con2prim_GRMHD\"\n",
        "\n",
        "# define a function to save a file to the drive or the current directory\n",
        "def save_file(file_name):\n",
        "  if drive_mounted:\n",
        "    # save the file to the drive folder\n",
        "    file_path = os.path.join(drive_folder, file_name)\n",
        "    # copy the file from the current directory to the drive folder\n",
        "    shutil.copyfile(file_name, file_path)\n",
        "  else:\n",
        "    # do nothing as the file is already in the current directory\n",
        "    pass\n"
      ]
    },
    {
      "cell_type": "code",
      "execution_count": 62,
      "metadata": {
        "colab": {
          "base_uri": "https://localhost:8080/"
        },
        "id": "ecHw2_xlUZhx",
        "outputId": "462a57cd-ee19-4961-d3aa-ff2407b2bde0"
      },
      "outputs": [
        {
          "name": "stdout",
          "output_type": "stream",
          "text": [
            "skipping\n"
          ]
        }
      ],
      "source": [
        "%%script echo skipping\n",
        "\n",
        "from google.colab import drive\n",
        "drive.mount('/content/drive')"
      ]
    },
    {
      "cell_type": "code",
      "execution_count": 63,
      "metadata": {
        "colab": {
          "base_uri": "https://localhost:8080/"
        },
        "id": "T1rcStMLUZhy",
        "outputId": "7ea7311f-f054-4a29-d0ff-12849095ab6e"
      },
      "outputs": [
        {
          "name": "stdout",
          "output_type": "stream",
          "text": [
            "skipping\n"
          ]
        }
      ],
      "source": [
        "%%script echo skipping\n",
        "\n",
        "!pip install optuna tensorboard tensorboardX"
      ]
    },
    {
      "attachments": {},
      "cell_type": "markdown",
      "metadata": {},
      "source": [
        "Importing the **libraries**,"
      ]
    },
    {
      "cell_type": "code",
      "execution_count": 64,
      "metadata": {
        "id": "tREdWQUVUZhz"
      },
      "outputs": [],
      "source": [
        "import numpy as np\n",
        "import matplotlib.pyplot as plt\n",
        "import torch\n",
        "import torch.nn as nn\n",
        "import torch.optim as optim\n",
        "import torch.nn.functional as F\n",
        "import optuna\n",
        "import tensorboardX as tbx\n",
        "import pandas as pd"
      ]
    },
    {
      "attachments": {},
      "cell_type": "markdown",
      "metadata": {
        "id": "38GvmerjUZhz"
      },
      "source": [
        "### Constants and flags to set\n",
        "Defining some constants and parameters for convenience.\n",
        "\n",
        "**NOTE**: Some **subparameters** still need to be adjusted in the `create_model` function itself as of (Tue May 16 07:42:45 AM CEST 2023) in the case the model is being trained without optimization."
      ]
    },
    {
      "cell_type": "code",
      "execution_count": 65,
      "metadata": {
        "id": "ei6VZDYKUZh0"
      },
      "outputs": [],
      "source": [
        "\n",
        "# Checking if GPU is available and setting the device accordingly\n",
        "device = torch.device(\"cuda\" if torch.cuda.is_available() else \"cpu\")\n",
        "\n",
        "N_TRIALS = 1 # Number of trials for hyperparameter optimization # NOTE: Set this before properly.\n",
        "OPTIMIZE = False # Whether to optimize the hyperparameters or to use predetermined values. # NOTE: Set this before properly.\n",
        "ZSCORE_NORMALIZATION = False # Whether to z-score normalize the input data.\n",
        "LOAD_DATA_FROM_CSV = True  # If not true we generate the data in this file and save to {x_train,y_train,x_test,y_test}.csv, otherwise we load the data from files of the same name. # NOTE: Set this before properly.\n",
        "\n",
        "csv_filenames = { # File names to load input data and labels from if LOAD_DATA_FROM_CSV is True.\n",
        "    \"x_train\": \"x_train.csv\",\n",
        "    \"x_val\": \"x_val.csv\",\n",
        "    \"x_test\": \"x_test.csv\",\n",
        "    \"y_train\": \"y_train.csv\",\n",
        "    \"y_val\": \"y_val.csv\",\n",
        "    \"y_test\": \"y_test.csv\",\n",
        "}\n",
        "\n",
        "# Values to use for hyperparameters if OPTIMIZE is False.\n",
        "N_LAYERS_NO_OPT = 3\n",
        "N_UNITS_NO_OPT = [555, 458, 115]\n",
        "HIDDEN_ACTIVATION_NAME_NO_OPT = \"ReLU\"\n",
        "OUTPUT_ACTIVATION_NAME_NO_OPT = \"ReLU\"\n",
        "LOSS_NAME_NO_OPT = \"Huber\"\n",
        "OPTIMIZER_NAME_NO_OPT = \"RMSprop\"\n",
        "LR_NO_OPT = 0.000122770896701404\n",
        "BATCH_SIZE_NO_OPT = 49\n",
        "N_EPOCHS_NO_OPT = 5 # NOTE: Set this before properly.\n",
        "SCHEDULER_NAME_NO_OPT = \"ReduceLROnPlateau\"\n",
        "\n",
        "N_INPUTS = 14  # Number of input features.\n",
        "Gamma = 5/3  # Adiabatic index\n",
        "\n",
        "n_samples = 100000 # NOTE: Set this before properly.\n",
        "train_frac = 0.7  # 70% of data for training\n",
        "val_frac = 0.1  # 10% of data for validation, rest for testing\n",
        "\n",
        "rho_interval = (0, 2) \n",
        "epsilon_interval = (1e-2, 2000)  # Will be sampled in log space\n",
        "vx_interval = (0, 0.999)  \n",
        "vy_interval = (0, 0.999)  \n",
        "vz_interval = (0, 0.999)  \n",
        "Bx_interval = (-10, 10)  \n",
        "By_interval = (-10, 10)  \n",
        "Bz_interval = (-10, 10)  \n",
        "gxx_interval = (0.9, 1.1)\n",
        "gxy_interval = (0, 0.1)\n",
        "gxz_interval = (0, 0.1)\n",
        "gyy_interval = (0.9, 1.1)\n",
        "gyz_interval = (0, 0.1)\n",
        "gzz_interval = (0.9, 1.1)\n",
        "\n",
        "np.random.seed(55) # Comment for true random data.\n"
      ]
    },
    {
      "attachments": {},
      "cell_type": "markdown",
      "metadata": {
        "id": "dlaP5UL2UZh1"
      },
      "source": [
        "## Input data and labels\n",
        "\n",
        "We either generate the data or load the data. First the definitions for generating the data come below."
      ]
    },
    {
      "cell_type": "code",
      "execution_count": 66,
      "metadata": {
        "id": "s_EvGFZcUZh1"
      },
      "outputs": [],
      "source": [
        "# Defining an analytic equation of state (EOS) for an ideal gas\n",
        "def eos_analytic(rho, epsilon):\n",
        "    # Adding some assertions to check that the input tensors are valid and have \n",
        "    # the expected shape and type \n",
        "    assert isinstance(rho, torch.Tensor), \"rho must be a torch.Tensor\"\n",
        "    assert isinstance(epsilon, torch.Tensor), \"epsilon must be a torch.Tensor\"\n",
        "    print('rho.shape: ', rho.shape)\n",
        "    print('epsilon.shape: ', epsilon.shape)\n",
        "    assert rho.shape == epsilon.shape, \"rho and epsilon must have the same shape\"\n",
        "    assert rho.ndim == 1, \"rho and epsilon must be one-dimensional tensors\"\n",
        "    assert rho.dtype == torch.float32, \"rho and epsilon must have dtype torch.float32\"\n",
        "\n",
        "    return (Gamma - 1) * rho * epsilon\n",
        "\n",
        "def sample_primitive_variables_and_metric():\n",
        "    rho = np.random.uniform(*rho_interval)  \n",
        "    epsilon = 10 ** np.random.uniform(*np.log10(epsilon_interval))\n",
        "    vx = np.random.uniform(*vx_interval)  \n",
        "    vy = np.random.uniform(*vy_interval)  \n",
        "    vz = np.random.uniform(*vz_interval)  \n",
        "    Bx = np.random.uniform(*Bx_interval)  \n",
        "    By = np.random.uniform(*By_interval)  \n",
        "    Bz = np.random.uniform(*Bz_interval)  \n",
        "    gxx = np.random.uniform(*gxx_interval)\n",
        "    gxy = np.random.uniform(*gxy_interval)\n",
        "    gxz = np.random.uniform(*gxz_interval)\n",
        "    gyy = np.random.uniform(*gyy_interval)\n",
        "    gyz = np.random.uniform(*gyz_interval)\n",
        "    gzz = np.random.uniform(*gzz_interval)\n",
        "\n",
        "    return rho, epsilon, vx, vy, vz, Bx, By, Bz, gxx, gxy, gxz, gyy, gyz, gzz\n",
        "\n",
        "def check_sample(rho, epsilon, vx, vy, vz, Bx, By, Bz, gxx, gxy, gxz, gyy, gyz, gzz):\n",
        "    wtemp_expr = 1 - (gxx * vx**2 + gyy * vy**2 + gzz * vz**2 + 2 * gxy * vx * vy + 2 * gxz * vx * vz + 2 * gyz * vy * vz)\n",
        "    sdet_expr = gxx * gyy * gzz + 2 * gxy * gxz * gyz - gxx * gyz ** 2 - gyy * gxz ** 2 - gzz * gxy ** 2\n",
        "    if vx**2 + vy**2 + vz**2 >= 1 or wtemp_expr < 0 or sdet_expr < 0:\n",
        "        # print(f\"Sample failed checks. vx^2+vy^2+vz^2: {vx**2 + vy**2 + vz**2}, wtemp_expr: {wtemp_expr}, sdet_expr: {sdet_expr}\")\n",
        "        return False\n",
        "    else:\n",
        "        # print(f\"Sample passed checks. vx^2+vy^2+vz^2: {vx**2 + vy**2 + vz**2}, wtemp_expr: {wtemp_expr}, sdet_expr: {sdet_expr}\")\n",
        "        return True\n",
        "\n",
        "def generate_samples(n_samples):\n",
        "    samples = []\n",
        "    while len(samples) < n_samples:\n",
        "        sample = sample_primitive_variables_and_metric()\n",
        "        if check_sample(*sample):\n",
        "            samples.append(sample)\n",
        "        # print(f\"Number of valid samples: {len(samples)}\")\n",
        "    return zip(*samples)\n",
        "def sdet(gxx, gxy, gxz, gyy, gyz, gzz):\n",
        "    # Determinant of the three metric.\n",
        "    return (gxx * gyy * gzz + 2 * gxy * gxz * gyz - gxx * gyz ** 2 - gyy * gxz ** 2 - gzz * gxy ** 2) ** 0.5\n",
        "\n",
        "# Defining a function that computes conserved variables from primitive variables and the metric\n",
        "# We follow the source code of GRaM-X: A new GPU-accelerated dynamical spacetime GRMHD code for Exascale\n",
        "# computing with the Einstein Toolkit of Shankar et al.\n",
        "def compute_conserved_variables(rho, epsilon, vx, vy, vz, Bx, By, Bz, gxx, gxy, gxz, gyy, gyz, gzz):\n",
        "    pres = eos_analytic(rho, epsilon)\n",
        "    wtemp = 1 / (1 - (gxx * vx**2 + gyy * vy**2 + gzz * vz**2 +\n",
        "        2 * gxy * vx * vy + 2 * gxz * vx * vz +\n",
        "        2 * gyz * vy * vz))**0.5\n",
        "\n",
        "    vlowx = gxx * vx + gxy * vy + gxz * vz\n",
        "    vlowy = gxy * vx + gyy * vy + gyz * vz\n",
        "    vlowz = gxz * vx + gyz * vy + gzz * vz\n",
        "\n",
        "    Bxlow = gxx * Bx + gxy * By + gxz * Bz\n",
        "    Bylow = gxy * Bx + gyy * By + gyz * Bz\n",
        "    Bzlow = gxz * Bx + gyz * By + gzz * Bz\n",
        "\n",
        "    B2 = Bxlow * Bx + Bylow * By + Bzlow * Bz\n",
        "\n",
        "    Bdotv = Bxlow * vx + Bylow * vy + Bzlow * vz\n",
        "    Bdotv2 = Bdotv * Bdotv\n",
        "    wtemp2 = wtemp * wtemp\n",
        "    b2 = B2 / wtemp2 + Bdotv2\n",
        "    ab0 = wtemp * Bdotv\n",
        "\n",
        "    blowx = (gxx * Bx + gxy * By + gxz * Bz) / wtemp + wtemp * Bdotv * vlowx\n",
        "    blowy = (gxy * Bx + gyy * By + gyz * Bz) / wtemp + wtemp * Bdotv * vlowy\n",
        "    blowz = (gxz * Bx + gyz * By + gzz * Bz) / wtemp + wtemp * Bdotv * vlowz\n",
        "\n",
        "    hrhow2 = (rho * (1 + epsilon) + pres + b2) * (wtemp) * (wtemp)\n",
        "\n",
        "    D = sdet(gxx, gxy, gxz, gyy, gyz, gzz) * rho * (wtemp)\n",
        "    Sx = sdet(gxx, gxy, gxz, gyy, gyz, gzz) * (hrhow2 * vlowx - ab0 * blowx)\n",
        "    Sy = sdet(gxx, gxy, gxz, gyy, gyz, gzz) * (hrhow2 * vlowy - ab0 * blowy)\n",
        "    Sz = sdet(gxx, gxy, gxz, gyy, gyz, gzz) * (hrhow2 * vlowz - ab0 * blowz)\n",
        "    tau = sdet(gxx, gxy, gxz, gyy, gyz, gzz) * (hrhow2 - pres - b2 / 2 - ab0 * ab0) - D\n",
        "    Bconsx = sdet(gxx, gxy, gxz, gyy, gyz, gzz) * Bx\n",
        "    Bconsy = sdet(gxx, gxy, gxz, gyy, gyz, gzz) * By\n",
        "    Bconsz = sdet(gxx, gxy, gxz, gyy, gyz, gzz) * Bz\n",
        "\n",
        "    return D, Sx, Sy, Sz, tau, Bconsx, Bconsy, Bconsz\n",
        "\n",
        "def generate_input_data(rho, epsilon, vx, vy, vz, Bx, By, Bz, gxx, gxy, gxz, gyy, gyz, gzz):\n",
        "    rho = torch.tensor(np.array(rho), dtype=torch.float32).to(device)\n",
        "    epsilon = torch.tensor(np.array(epsilon), dtype=torch.float32).to(device)\n",
        "    vx = torch.tensor(np.array(vx), dtype=torch.float32).to(device)\n",
        "    vy = torch.tensor(np.array(vy), dtype=torch.float32).to(device)\n",
        "    vz = torch.tensor(np.array(vz), dtype=torch.float32).to(device)\n",
        "    Bx = torch.tensor(np.array(Bx), dtype=torch.float32).to(device)\n",
        "    By = torch.tensor(np.array(By), dtype=torch.float32).to(device)\n",
        "    Bz = torch.tensor(np.array(Bz), dtype=torch.float32).to(device)\n",
        "    gxx = torch.tensor(np.array(gxx), dtype=torch.float32).to(device)\n",
        "    gxy = torch.tensor(np.array(gxy), dtype=torch.float32).to(device)\n",
        "    gxz = torch.tensor(np.array(gxz), dtype=torch.float32).to(device)\n",
        "    gyy = torch.tensor(np.array(gyy), dtype=torch.float32).to(device)\n",
        "    gyz = torch.tensor(np.array(gyz), dtype=torch.float32).to(device)\n",
        "    gzz = torch.tensor(np.array(gzz), dtype=torch.float32).to(device)\n",
        "\n",
        "    D, Sx, Sy, Sz, tau, Bscriptx, Bscripty, Bscriptz = compute_conserved_variables(\n",
        "        rho, epsilon, vx, vy, vz, Bx, By, Bz, gxx, gxy, gxz, gyy, gyz, gzz\n",
        "    ) \n",
        "\n",
        "    # Add gxx, gxy, gxz, gyy, gyz, gzz to the tensor\n",
        "    x = torch.stack([D, Sx, Sy, Sz, tau, Bscriptx, Bscripty, Bscriptz, gxx, gxy, gxz, gyy, gyz, gzz], axis=1)\n",
        "    return x\n",
        "\n",
        "# Defining a function that generates output data (labels) from given samples of primitive variables\n",
        "# We use the definitions as given in Recovery schemes for primitive variables in\n",
        "# general-relativistic magnetohydrodynamics of Siegel et al.\n",
        "def generate_labels(rho, epsilon, vx, vy, vz):\n",
        "    # Converting the numpy arrays to torch tensors and moving them to the device\n",
        "    rho = torch.tensor(np.array(rho), dtype=torch.float32).to(device)\n",
        "    epsilon = torch.tensor(np.array(epsilon), dtype=torch.float32).to(device)\n",
        "    vx = torch.tensor(np.array(vx), dtype=torch.float32).to(device)\n",
        "    vy = torch.tensor(np.array(vy), dtype=torch.float32).to(device)\n",
        "    vz = torch.tensor(np.array(vz), dtype=torch.float32).to(device)\n",
        "\n",
        "    # Computing the required quantities\n",
        "    pres = eos_analytic(rho, epsilon)\n",
        "    h = 1 + epsilon + pres / rho\n",
        "    W = 1 / torch.sqrt(1 - (vx * vx + vy * vy + vz * vz))\n",
        "\n",
        "    # Returning the output data tensor\n",
        "    return h * W"
      ]
    },
    {
      "attachments": {},
      "cell_type": "markdown",
      "metadata": {},
      "source": [
        "### Generating or loading input data and labels"
      ]
    },
    {
      "cell_type": "code",
      "execution_count": 67,
      "metadata": {
        "id": "cKubR6C8UZh4"
      },
      "outputs": [],
      "source": [
        "if LOAD_DATA_FROM_CSV:\n",
        "    # Load the data from CSV files\n",
        "    x_train = pd.read_csv(csv_filenames[\"x_train\"]).values\n",
        "    y_train = pd.read_csv(csv_filenames[\"y_train\"]).values.squeeze()  # reshape to 1D\n",
        "    x_val = pd.read_csv(csv_filenames[\"x_val\"]).values\n",
        "    y_val = pd.read_csv(csv_filenames[\"y_val\"]).values.squeeze()  # reshape to 1D\n",
        "    x_test = pd.read_csv(csv_filenames[\"x_test\"]).values\n",
        "    y_test = pd.read_csv(csv_filenames[\"y_test\"]).values.squeeze()  # reshape to 1D\n",
        "\n",
        "    # Convert numpy arrays to tensors\n",
        "    x_train = torch.from_numpy(x_train).float().to(device)\n",
        "    y_train = torch.from_numpy(y_train).float().to(device)\n",
        "    x_val = torch.from_numpy(x_val).float().to(device)\n",
        "    y_val = torch.from_numpy(y_val).float().to(device)\n",
        "    x_test = torch.from_numpy(x_test).float().to(device)\n",
        "    y_test = torch.from_numpy(y_test).float().to(device)\n",
        "\n",
        "    # This is an alternative to having if clauses around the cells that visualize these variables.\n",
        "    rho = epsilon = vx = vy = vz = Bx = By = Bz = gxx = gxy = gxz = gyy = gyz  = gzz = None"
      ]
    },
    {
      "cell_type": "code",
      "execution_count": 68,
      "metadata": {},
      "outputs": [],
      "source": [
        "if not LOAD_DATA_FROM_CSV:\n",
        "    # Sample primitive variables and metric\n",
        "    rho, epsilon, vx, vy, vz, Bx, By, Bz, gxx, gxy, gxz, gyy, gyz, gzz = generate_samples(n_samples)"
      ]
    },
    {
      "cell_type": "code",
      "execution_count": 69,
      "metadata": {},
      "outputs": [],
      "source": [
        "if not LOAD_DATA_FROM_CSV:\n",
        "    # Generate data and labels.\n",
        "    x = generate_input_data(rho, epsilon, vx, vy, vz, Bx, By, Bz, gxx, gxy, gxz, gyy, gyz, gzz)\n",
        "    y = generate_labels(rho, epsilon, vx, vy, vz)\n",
        "\n",
        "    # Calculate the number of samples in each set\n",
        "    n_train_samples = int(n_samples * train_frac)\n",
        "    n_val_samples = int(n_samples * val_frac)\n",
        "\n",
        "    # Create the data sets\n",
        "    x_train = x[:n_train_samples]\n",
        "    y_train = y[:n_train_samples]\n",
        "    x_val = x[n_train_samples : n_train_samples + n_val_samples]\n",
        "    y_val = y[n_train_samples : n_train_samples + n_val_samples]\n",
        "    x_test = x[n_train_samples + n_val_samples :]\n",
        "    y_test = y[n_train_samples + n_val_samples :]\n",
        "\n",
        "    # Save the data to CSV files; tensors need to be converted numpy arrays for saving in CSV.\n",
        "    pd.DataFrame(x_train.cpu().numpy()).to_csv(csv_filenames[\"x_train\"], index=False)\n",
        "    save_file(csv_filenames[\"x_train\"])\n",
        "    pd.DataFrame(y_train.cpu().numpy()).to_csv(csv_filenames[\"y_train\"], index=False)\n",
        "    save_file(csv_filenames[\"y_train\"])\n",
        "\n",
        "    pd.DataFrame(x_val.cpu().numpy()).to_csv(csv_filenames[\"x_val\"], index=False)\n",
        "    save_file(csv_filenames[\"x_val\"])\n",
        "    pd.DataFrame(y_val.cpu().numpy()).to_csv(csv_filenames[\"y_val\"], index=False)\n",
        "    save_file(csv_filenames[\"y_val\"])\n",
        "\n",
        "    pd.DataFrame(x_test.cpu().numpy()).to_csv(csv_filenames[\"x_test\"], index=False)\n",
        "    save_file(csv_filenames[\"x_test\"])\n",
        "    pd.DataFrame(y_test.cpu().numpy()).to_csv(csv_filenames[\"y_test\"], index=False)\n",
        "    save_file(csv_filenames[\"y_test\"])"
      ]
    },
    {
      "cell_type": "code",
      "execution_count": 70,
      "metadata": {},
      "outputs": [
        {
          "data": {
            "text/plain": [
              "torch.Size([70000, 14])"
            ]
          },
          "execution_count": 70,
          "metadata": {},
          "output_type": "execute_result"
        },
        {
          "data": {
            "text/plain": [
              "torch.Size([70000])"
            ]
          },
          "execution_count": 70,
          "metadata": {},
          "output_type": "execute_result"
        },
        {
          "data": {
            "text/plain": [
              "torch.Size([10000, 14])"
            ]
          },
          "execution_count": 70,
          "metadata": {},
          "output_type": "execute_result"
        },
        {
          "data": {
            "text/plain": [
              "torch.Size([10000])"
            ]
          },
          "execution_count": 70,
          "metadata": {},
          "output_type": "execute_result"
        },
        {
          "data": {
            "text/plain": [
              "torch.Size([20000, 14])"
            ]
          },
          "execution_count": 70,
          "metadata": {},
          "output_type": "execute_result"
        },
        {
          "data": {
            "text/plain": [
              "torch.Size([20000])"
            ]
          },
          "execution_count": 70,
          "metadata": {},
          "output_type": "execute_result"
        },
        {
          "data": {
            "text/plain": [
              "tensor([[ 2.8799e-01,  5.4806e+02,  3.9029e+02,  ...,  1.0551e+00,\n",
              "          9.1389e-04,  1.0237e+00],\n",
              "        [ 4.0179e+00,  8.5730e+01,  2.8510e+02,  ...,  9.6899e-01,\n",
              "          2.0033e-02,  9.5205e-01],\n",
              "        [ 6.9980e-01,  4.6977e+01,  1.0896e+02,  ...,  9.9846e-01,\n",
              "          9.5204e-02,  1.0219e+00],\n",
              "        ...,\n",
              "        [ 2.7649e-01, -9.3046e+00,  1.3167e+01,  ...,  9.7850e-01,\n",
              "          9.6477e-02,  9.8960e-01],\n",
              "        [ 3.8064e+00,  1.2161e+02,  1.4042e+02,  ...,  9.4760e-01,\n",
              "          1.7655e-02,  9.1011e-01],\n",
              "        [ 2.0672e+00,  3.7018e+01,  6.6318e+01,  ...,  1.0152e+00,\n",
              "          1.0420e-02,  9.9368e-01]])"
            ]
          },
          "execution_count": 70,
          "metadata": {},
          "output_type": "execute_result"
        },
        {
          "data": {
            "text/plain": [
              "tensor([3.6145e+03, 2.2497e+02, 2.5973e+00,  ..., 1.1577e+00, 2.6726e+01,\n",
              "        1.4803e+00])"
            ]
          },
          "execution_count": 70,
          "metadata": {},
          "output_type": "execute_result"
        },
        {
          "data": {
            "text/plain": [
              "tensor([[ 2.9251e-01,  3.1055e+01,  4.3508e+01,  ...,  1.0030e+00,\n",
              "          7.7978e-02,  9.6332e-01],\n",
              "        [ 1.6392e+00,  1.7113e+03,  8.3473e+02,  ...,  1.0528e+00,\n",
              "          7.9005e-02,  1.0505e+00],\n",
              "        [ 6.2265e-01,  1.6363e+01,  2.1218e+01,  ...,  9.1781e-01,\n",
              "          1.9029e-02,  9.8093e-01],\n",
              "        ...,\n",
              "        [ 1.8699e+00,  9.6781e+01, -2.5886e+01,  ...,  1.0341e+00,\n",
              "          6.1470e-02,  1.0441e+00],\n",
              "        [ 2.2394e-01,  1.0047e+01,  2.8186e+01,  ...,  1.0126e+00,\n",
              "          2.1318e-02,  9.9101e-01],\n",
              "        [ 2.5670e+00,  8.3110e+01,  1.4650e+01,  ...,  9.3571e-01,\n",
              "          2.9241e-02,  1.0983e+00]])"
            ]
          },
          "execution_count": 70,
          "metadata": {},
          "output_type": "execute_result"
        },
        {
          "data": {
            "text/plain": [
              "tensor([  10.2288, 1285.2124,   16.8475,  ...,    3.3446,    6.6065,\n",
              "           5.8919])"
            ]
          },
          "execution_count": 70,
          "metadata": {},
          "output_type": "execute_result"
        },
        {
          "data": {
            "text/plain": [
              "tensor([[ 5.9860e+00,  1.2126e+02, -1.7533e+01,  ...,  1.0228e+00,\n",
              "          6.1891e-02,  1.0852e+00],\n",
              "        [ 4.5638e+00,  9.0882e+02,  7.2275e+03,  ...,  1.0120e+00,\n",
              "          6.4378e-02,  1.0653e+00],\n",
              "        [ 3.2633e-01,  6.0047e+00,  3.7842e+01,  ...,  9.7816e-01,\n",
              "          7.5240e-02,  9.4875e-01],\n",
              "        ...,\n",
              "        [ 1.9495e+00,  1.3820e+01,  1.6836e+01,  ...,  9.2530e-01,\n",
              "          2.6508e-02,  9.4893e-01],\n",
              "        [ 3.3144e+00,  1.0148e+01,  6.0228e+00,  ...,  9.4280e-01,\n",
              "          8.7622e-02,  9.3816e-01],\n",
              "        [ 7.6473e+00,  1.4335e+02,  4.4883e+01,  ...,  1.0101e+00,\n",
              "          5.2709e-02,  1.0166e+00]])"
            ]
          },
          "execution_count": 70,
          "metadata": {},
          "output_type": "execute_result"
        },
        {
          "data": {
            "text/plain": [
              "tensor([1.0729e+01, 1.4852e+03, 5.6100e+01,  ..., 1.1048e+00, 2.6302e+00,\n",
              "        7.7592e+00])"
            ]
          },
          "execution_count": 70,
          "metadata": {},
          "output_type": "execute_result"
        }
      ],
      "source": [
        "\n",
        "x_train.shape\n",
        "y_train.shape\n",
        "x_val.shape\n",
        "y_val.shape\n",
        "x_test.shape\n",
        "y_test.shape\n",
        "x_train\n",
        "y_train\n",
        "x_val\n",
        "y_val\n",
        "x_test\n",
        "y_test"
      ]
    },
    {
      "cell_type": "code",
      "execution_count": 71,
      "metadata": {},
      "outputs": [
        {
          "data": {
            "text/plain": [
              "tensor(False)"
            ]
          },
          "execution_count": 71,
          "metadata": {},
          "output_type": "execute_result"
        },
        {
          "data": {
            "text/plain": [
              "tensor(False)"
            ]
          },
          "execution_count": 71,
          "metadata": {},
          "output_type": "execute_result"
        },
        {
          "data": {
            "text/plain": [
              "tensor(False)"
            ]
          },
          "execution_count": 71,
          "metadata": {},
          "output_type": "execute_result"
        },
        {
          "data": {
            "text/plain": [
              "tensor(False)"
            ]
          },
          "execution_count": 71,
          "metadata": {},
          "output_type": "execute_result"
        },
        {
          "data": {
            "text/plain": [
              "tensor(False)"
            ]
          },
          "execution_count": 71,
          "metadata": {},
          "output_type": "execute_result"
        },
        {
          "data": {
            "text/plain": [
              "tensor(False)"
            ]
          },
          "execution_count": 71,
          "metadata": {},
          "output_type": "execute_result"
        }
      ],
      "source": [
        "torch.isnan(x_train).any()\n",
        "torch.isnan(x_val).any()\n",
        "torch.isnan(x_test).any()\n",
        "torch.isnan(y_train).any()\n",
        "torch.isnan(y_val).any()\n",
        "torch.isnan(y_test).any()"
      ]
    },
    {
      "cell_type": "code",
      "execution_count": 72,
      "metadata": {},
      "outputs": [
        {
          "data": {
            "text/plain": [
              "(tensor([], dtype=torch.int64), tensor([], dtype=torch.int64))"
            ]
          },
          "execution_count": 72,
          "metadata": {},
          "output_type": "execute_result"
        },
        {
          "data": {
            "text/plain": [
              "(tensor([], dtype=torch.int64), tensor([], dtype=torch.int64))"
            ]
          },
          "execution_count": 72,
          "metadata": {},
          "output_type": "execute_result"
        },
        {
          "data": {
            "text/plain": [
              "(tensor([], dtype=torch.int64), tensor([], dtype=torch.int64))"
            ]
          },
          "execution_count": 72,
          "metadata": {},
          "output_type": "execute_result"
        }
      ],
      "source": [
        "nan_mask_train = torch.isnan(x_train)     # get a boolean mask indicating NaN values\n",
        "nan_indices_train = torch.where(nan_mask_train)  # get the indices of the NaN values\n",
        "nan_indices_train\n",
        "# len(nan_indices_train)\n",
        "\n",
        "nan_mask_val = torch.isnan(x_val)     # get a boolean mask indicating NaN values\n",
        "nan_indices_val = torch.where(nan_mask_val)  # get the indices of the NaN values\n",
        "nan_indices_val\n",
        "# len(nan_indices_test)\n",
        "\n",
        "nan_mask_test = torch.isnan(x_test)     # get a boolean mask indicating NaN values\n",
        "nan_indices_test = torch.where(nan_mask_test)  # get the indices of the NaN values\n",
        "nan_indices_test\n",
        "# len(nan_indices_test)"
      ]
    },
    {
      "attachments": {},
      "cell_type": "markdown",
      "metadata": {},
      "source": [
        "## Visualizing the data"
      ]
    },
    {
      "attachments": {},
      "cell_type": "markdown",
      "metadata": {},
      "source": [
        "### Visualizing sampled data"
      ]
    },
    {
      "cell_type": "code",
      "execution_count": 73,
      "metadata": {},
      "outputs": [
        {
          "name": "stdout",
          "output_type": "stream",
          "text": [
            "skipping\n"
          ]
        }
      ],
      "source": [
        "%%script echo skipping\n",
        "\n",
        "if not LOAD_DATA_FROM_CSV:\n",
        "    rho\n",
        "    epsilon\n",
        "    vx\n",
        "    vy\n",
        "    vz \n",
        "    Bx\n",
        "    By\n",
        "    Bz\n",
        "    gxx\n",
        "    gxy\n",
        "    gxz\n",
        "    gyy\n",
        "    gyz\n",
        "    gzz "
      ]
    },
    {
      "cell_type": "code",
      "execution_count": 74,
      "metadata": {},
      "outputs": [],
      "source": [
        "if not LOAD_DATA_FROM_CSV:\n",
        "    print(len(rho))\n",
        "    print(len(epsilon))\n",
        "    print(len(vx))\n",
        "    print(len(vy))\n",
        "    print(len(vz))\n",
        "    print(len(Bx))\n",
        "    print(len(By))\n",
        "    print(len(Bz))\n",
        "    print()\n",
        "    print(len(gxx))\n",
        "    print(len(gxy))\n",
        "    print(len(gxz))\n",
        "    print(len(gyy))\n",
        "    print(len(gyz))\n",
        "    print(len(gzz))"
      ]
    },
    {
      "cell_type": "code",
      "execution_count": 75,
      "metadata": {
        "id": "VMp6XJ6RUZh4"
      },
      "outputs": [],
      "source": [
        "%config InteractiveShell.ast_node_interactivity = \"last_expr_or_assign\""
      ]
    },
    {
      "cell_type": "code",
      "execution_count": 76,
      "metadata": {},
      "outputs": [
        {
          "name": "stdout",
          "output_type": "stream",
          "text": [
            "skipping\n"
          ]
        }
      ],
      "source": [
        "%%script echo skipping\n",
        "\n",
        "plt.hist([np.random.uniform(0, 0.999) for _ in range(n_train_samples)], bins=20)"
      ]
    },
    {
      "cell_type": "code",
      "execution_count": 77,
      "metadata": {},
      "outputs": [],
      "source": [
        "epsilon"
      ]
    },
    {
      "attachments": {},
      "cell_type": "markdown",
      "metadata": {},
      "source": [
        "The reason the sampling is not uniformly distributed in the following plots is due to the resampling and the fact that we certain values of e.g. velocity are more likely to violate the speed of light constraint than others."
      ]
    },
    {
      "cell_type": "code",
      "execution_count": 78,
      "metadata": {
        "colab": {
          "base_uri": "https://localhost:8080/",
          "height": 409
        },
        "id": "E5YFdqKjUZh5",
        "outputId": "fe67d113-f369-495f-9aba-201c71058eb7"
      },
      "outputs": [],
      "source": [
        "if not LOAD_DATA_FROM_CSV:\n",
        "    def plot_histogram(data, xlabel, ylabel, position, bins=20, xlog_scale=False, ylog_scale=False):\n",
        "        plt.subplot(4, 5, position)\n",
        "        plt.hist(data, bins=bins)\n",
        "        plt.xlabel(xlabel)\n",
        "        plt.ylabel(ylabel)\n",
        "        if xlog_scale: # Setting does not work expected for epsilon.\n",
        "            plt.xscale(\"log\")\n",
        "        if ylog_scale: # Setting does not work expected for epsilon.\n",
        "            plt.yscale(\"log\")\n",
        "\n",
        "    # Plotting the histograms of rho, vx, epsilon, b0, b1, b2, and b3\n",
        "    bins = 20\n",
        "    plt.figure(figsize=(20, 16))\n",
        "\n",
        "    plot_histogram(rho, \"rho\", \"Frequency\", 1, bins=bins)\n",
        "    plot_histogram(epsilon, \"epsilon\", \"Frequency\", 2, bins=bins)\n",
        "    plot_histogram(vx, \"vx\", \"Frequency\", 3, bins=bins)\n",
        "    plot_histogram(vy, \"vy\", \"Frequency\", 4, bins=bins)\n",
        "    plot_histogram(vz, \"vz\", \"Frequency\", 5, bins=bins)\n",
        "    plot_histogram(Bx, \"Bx\", \"Frequency\", 6, bins=bins)\n",
        "    plot_histogram(By, \"By\", \"Frequency\", 7, bins=bins)\n",
        "    plot_histogram(Bz, \"Bz\", \"Frequency\", 8, bins=bins)\n",
        "\n",
        "    # Plot these\n",
        "    plot_histogram(gxx, \"gxx\", \"Frequency\", 9, bins=bins)\n",
        "    plot_histogram(gxy, \"gxy\", \"Frequency\", 10, bins=bins)\n",
        "    plot_histogram(gxz, \"gxz\", \"Frequency\", 11, bins=bins)\n",
        "    plot_histogram(gyy, \"gyy\", \"Frequency\", 12, bins=bins)\n",
        "    plot_histogram(gyz, \"gyz\", \"Frequency\", 13, bins=bins)\n",
        "    plot_histogram(gzz, \"gzz\", \"Frequency\", 14, bins=bins)\n",
        "\n",
        "\n",
        "    plt.suptitle(\"Primitive variables and metric\")\n",
        "    plt.tight_layout()\n",
        "    plt.show()\n"
      ]
    },
    {
      "cell_type": "code",
      "execution_count": 79,
      "metadata": {},
      "outputs": [],
      "source": [
        "%config InteractiveShell.ast_node_interactivity = \"last_expr_or_assign\""
      ]
    },
    {
      "cell_type": "code",
      "execution_count": 80,
      "metadata": {},
      "outputs": [
        {
          "name": "stderr",
          "output_type": "stream",
          "text": [
            "ERROR:asyncio:Future exception was never retrieved\n",
            "future: <Future finished exception=BrokenPipeError(32, 'Broken pipe')>\n",
            "Traceback (most recent call last):\n",
            "  File \"/usr/lib/python3.11/asyncio/unix_events.py\", line 687, in write\n",
            "    n = os.write(self._fileno, data)\n",
            "        ^^^^^^^^^^^^^^^^^^^^^^^^^^^^\n",
            "BrokenPipeError: [Errno 32] Broken pipe\n"
          ]
        },
        {
          "data": {
            "image/png": "[encoded data removed]",
            "text/plain": [
              "<Figure size 1600x1600 with 14 Axes>"
            ]
          },
          "metadata": {},
          "output_type": "display_data"
        }
      ],
      "source": [
        "# Variable names\n",
        "variable_names = [\"D\", \"Sx\", \"Sy\", \"Sz\", \"tau\", \"Bconsx\", \"Bconsy\", \"Bconsz\", \"gxx\", \"gxy\", \"gxz\", \"gyy\", \"gyz\", \"gzz\"]\n",
        "\n",
        "# Plotting histograms of the input variables before z-score normalization\n",
        "plt.figure(figsize=(16, 16))\n",
        "plt.suptitle('Histograms of input variables before (or without at all) z-score normalization', y=1.03)\n",
        "\n",
        "for i in range(N_INPUTS):\n",
        "    plt.subplot(7, 2, i+1)\n",
        "    data = x_train[:, i].cpu().numpy() # Convert tensor to numpy array for percentile calculation\n",
        "    lower_bound, upper_bound = np.percentile(data, [1, 100]) # NOTE: Use this instead to visualize all the data.\n",
        "    # lower_bound, upper_bound = np.percentile(data, [1, 90]) # Calculate 1st and 99th percentile\n",
        "\n",
        "    plt.hist(data, bins=50, range=(lower_bound, upper_bound)) # Set range to the calculated percentile range\n",
        "    plt.xlabel(variable_names[i])\n",
        "    plt.xlim(lower_bound, upper_bound) # Set the x limit to match the range of the histogram\n",
        "\n",
        "plt.subplots_adjust(hspace=0.4, wspace=0.4)\n",
        "plt.show()\n",
        "\n",
        "# Same plotting but for the test data. Adjust the percentile range as needed to zoom in.\n",
        "# plt.figure(figsize=(16, 16))\n",
        "# plt.suptitle('Histograms of input variables before (or without at all) z-score normalization (test data)', y=1.03)\n",
        "\n",
        "# for i in range(14):\n",
        "#     plt.subplot(7, 2, i+1)\n",
        "#     data = x_test[:, i].cpu().numpy() # Convert tensor to numpy array for percentile calculation\n",
        "#     #lower_bound, upper_bound = np.percentile(data, [1, 100]) # NOTE: Use this instead to visualize all the data.\n",
        "#     lower_bound, upper_bound = np.percentile(data, [1, 99]) # Use this to zoom in.\n",
        "\n",
        "#     plt.hist(data, bins=50, range=(lower_bound, upper_bound)) # Set range to the calculated percentile range\n",
        "#     plt.xlabel(variable_names[i])\n",
        "#     plt.xlim(lower_bound, upper_bound) # Set the x limit to match the range of the histogram\n",
        "\n",
        "# plt.subplots_adjust(hspace=0.4, wspace=0.4)\n",
        "# plt.show()\n",
        "\n"
      ]
    },
    {
      "attachments": {},
      "cell_type": "markdown",
      "metadata": {},
      "source": [
        "### Data normalization"
      ]
    },
    {
      "cell_type": "code",
      "execution_count": 81,
      "metadata": {},
      "outputs": [
        {
          "name": "stdout",
          "output_type": "stream",
          "text": [
            "Summary statistics of input variables before z-score normalization\n",
            "tensor([[ 2.4537e-05,  2.1732e+02,  2.2565e+00,  1.6685e+00,  3.4293e+00],\n",
            "        [-9.8358e+01,  3.7428e+07,  2.0078e+03,  4.7737e+01,  1.4343e+05],\n",
            "        [-9.5032e+01,  3.2224e+07,  2.1089e+03,  4.7283e+01,  1.2587e+05],\n",
            "        [-1.5474e+02,  1.9598e+07,  1.8374e+03,  4.6971e+01,  7.9502e+04],\n",
            "        [ 5.4881e-01,  5.1651e+07,  3.7379e+03,  1.1162e+02,  2.0090e+05],\n",
            "        [-1.1279e+01,  1.1142e+01,  1.8498e-02,  4.6037e-02,  5.7354e+00],\n",
            "        [-1.1275e+01,  1.1179e+01,  9.5901e-03, -1.2960e-02,  5.7351e+00],\n",
            "        [-1.1221e+01,  1.1241e+01, -1.6503e-02, -3.4062e-02,  5.7292e+00],\n",
            "        [ 9.0001e-01,  1.1000e+00,  9.9850e-01,  9.9780e-01,  5.7786e-02],\n",
            "        [ 1.3228e-06,  1.0000e-01,  4.9714e-02,  4.9599e-02,  2.8893e-02],\n",
            "        [ 8.2247e-07,  9.9994e-02,  4.9587e-02,  4.9286e-02,  2.8837e-02],\n",
            "        [ 9.0000e-01,  1.1000e+00,  9.9873e-01,  9.9836e-01,  5.7683e-02],\n",
            "        [ 2.0861e-06,  9.9996e-02,  4.9501e-02,  4.9107e-02,  2.8802e-02],\n",
            "        [ 9.0000e-01,  1.1000e+00,  9.9873e-01,  9.9831e-01,  5.7665e-02]])\n"
          ]
        }
      ],
      "source": [
        "# Computing summary statistics of the input variables before and after z-score normalization\n",
        "print('Summary statistics of input variables before z-score normalization')\n",
        "print(torch.stack([torch.min(x_train, dim=0).values, torch.max(x_train, dim=0).values, torch.nanmean(x_train, dim=0), torch.median(x_train, dim=0).values, torch.std(x_train, dim=0)], dim=1))"
      ]
    },
    {
      "attachments": {},
      "cell_type": "markdown",
      "metadata": {
        "id": "xTEmkR1SUZh7"
      },
      "source": [
        "Perform z-score normalization"
      ]
    },
    {
      "cell_type": "code",
      "execution_count": 82,
      "metadata": {},
      "outputs": [],
      "source": [
        "%config InteractiveShell.ast_node_interactivity = \"all\""
      ]
    },
    {
      "cell_type": "code",
      "execution_count": 83,
      "metadata": {
        "id": "yPOv6DxhUZh7"
      },
      "outputs": [],
      "source": [
        "if ZSCORE_NORMALIZATION:\n",
        "    \n",
        "    # TODO: Add magnetic field variables to the normalization if I decide to use the old code that is commented out here.\n",
        "    # # Computing the median of each input variable from the training set using torch.nanmedian function\n",
        "    # D_median = torch.nanmedian(x_train[:, 0])\n",
        "    # Sx_median = torch.nanmedian(x_train[:, 1])\n",
        "    # Sy_median = torch.nanmedian(x_train[:, 2])\n",
        "    # Sz_median = torch.nanmedian(x_train[:, 3])\n",
        "    # tau_median = torch.nanmedian(x_train[:, 4])\n",
        "\n",
        "    # # Computing the standard deviation of each input variable from the training set using torch.std function with a boolean mask to ignore nan values\n",
        "    # D_std = torch.std(x_train[~torch.isnan(x_train[:, 0]), 0])\n",
        "    # Sx_std = torch.std(x_train[~torch.isnan(x_train[:, 1]), 1])\n",
        "    # Sy_std = torch.std(x_train[~torch.isnan(x_train[:, 2]), 2])\n",
        "    # Sz_std = torch.std(x_train[~torch.isnan(x_train[:, 3]), 3])\n",
        "    # tau_std = torch.std(x_train[~torch.isnan(x_train[:, 4]), 4])\n",
        "\n",
        "\n",
        "    # # Applying z-score normalization to both train and test sets using the statistics from the training set\n",
        "    # x_train[:, 0] = torch.sub(x_train[:, 0], D_median).div(D_std)\n",
        "    # x_train[:, 1] = torch.sub(x_train[:, 1], Sx_median).div(Sx_std)\n",
        "    # x_train[:, 2] = torch.sub(x_train[:, 2], Sy_median).div(Sy_std)\n",
        "    # x_train[:, 3] = torch.sub(x_train[:, 3], Sz_median).div(Sz_std)\n",
        "    # x_train[:, 4] = torch.sub(x_train[:, 4], tau_median).div(tau_std)\n",
        "\n",
        "    # x_test[:, 0] = torch.sub(x_test[:, 0], D_median).div(D_std)\n",
        "    # x_test[:, 1] = torch.sub(x_test[:, 1], Sx_median).div(Sx_std)\n",
        "    # x_test[:, 2] = torch.sub(x_test[:, 2], Sy_median).div(Sy_std)\n",
        "    # x_test[:, 3] = torch.sub(x_test[:, 3], Sz_median).div(Sz_std)\n",
        "    # x_test[:, 4] = torch.sub(x_test[:, 4], tau_median).div(tau_std)\n",
        "\n",
        "    # Computing the mean and standard deviation of each column\n",
        "    mean = x_train.mean(dim=0)\n",
        "    std = x_train.std(dim=0)\n",
        "\n",
        "    # Applying z-score normalization\n",
        "    x_train = (x_train - mean) / std\n",
        "    # Use the same mean and std from the training data as we don't want test data leakage.\n",
        "    x_test = (x_test - mean) / std\n",
        "\n"
      ]
    },
    {
      "attachments": {},
      "cell_type": "markdown",
      "metadata": {},
      "source": [
        "Plotting the histograms of the input data after normalization if z-score normalization was performed."
      ]
    },
    {
      "cell_type": "code",
      "execution_count": 84,
      "metadata": {},
      "outputs": [],
      "source": [
        "%config InteractiveShell.ast_node_interactivity = \"last_expr_or_assign\""
      ]
    },
    {
      "cell_type": "code",
      "execution_count": 85,
      "metadata": {},
      "outputs": [],
      "source": [
        "if not LOAD_DATA_FROM_CSV:\n",
        "    if ZSCORE_NORMALIZATION:\n",
        "        # Variable names\n",
        "        variable_names = [\"D\", \"Sx\", \"Sy\", \"Sz\", \"tau\", \"Bconsx\", \"Bconsy\", \"Bconsz\", \"gxx\", \"gxy\", \"gxz\", \"gyy\", \"gyz\", \"gzz\"]\n",
        "\n",
        "        # Plotting histograms of the input variables before z-score normalization\n",
        "        plt.figure(figsize=(16, 16))\n",
        "        plt.suptitle('Histograms of input variables before (or without at all) z-score normalization', y=1.03)\n",
        "\n",
        "        for i in range(N_INPUTS):\n",
        "            plt.subplot(7, 2, i+1)\n",
        "            data = x_train[:, i].cpu().numpy() # Convert tensor to numpy array for percentile calculation\n",
        "            lower_bound, upper_bound = np.percentile(data, [1, 100]) # NOTE: Use this instead to visualize all the data.\n",
        "            # lower_bound, upper_bound = np.percentile(data, [1, 90]) # Calculate 1st and 99th percentile\n",
        "\n",
        "            plt.hist(data, bins=50, range=(lower_bound, upper_bound)) # Set range to the calculated percentile range\n",
        "            plt.xlabel(variable_names[i])\n",
        "            plt.xlim(lower_bound, upper_bound) # Set the x limit to match the range of the histogram\n",
        "\n",
        "        plt.subplots_adjust(hspace=0.4, wspace=0.4)\n",
        "        plt.show()"
      ]
    },
    {
      "cell_type": "code",
      "execution_count": 86,
      "metadata": {},
      "outputs": [],
      "source": [
        "if ZSCORE_NORMALIZATION:\n",
        "    # Computing summary statistics of the input variables after z-score normalization\n",
        "    print('Summary statistics of input variables after z-score normalization')\n",
        "    print(torch.stack([torch.min(x_train, dim=0).values, torch.max(x_train, dim=0).values, torch.mean(x_train, dim=0), torch.median(x_train, dim=0).values, torch.std(x_train, dim=0)], dim=1))\n"
      ]
    },
    {
      "attachments": {},
      "cell_type": "markdown",
      "metadata": {},
      "source": [
        "### Visualizing input data and labels"
      ]
    },
    {
      "cell_type": "code",
      "execution_count": 87,
      "metadata": {},
      "outputs": [
        {
          "data": {
            "text/plain": [
              "tensor([1.0729e+01, 1.4852e+03, 5.6100e+01,  ..., 1.1048e+00, 2.6302e+00,\n",
              "        7.7592e+00])"
            ]
          },
          "execution_count": 87,
          "metadata": {},
          "output_type": "execute_result"
        }
      ],
      "source": [
        "x_train\n",
        "y_train\n",
        "x_val\n",
        "y_val\n",
        "x_test\n",
        "y_test"
      ]
    },
    {
      "attachments": {},
      "cell_type": "markdown",
      "metadata": {
        "colab": {
          "base_uri": "https://localhost:8080/",
          "height": 407
        },
        "id": "E96p_MsOUZh9",
        "outputId": "4b95bad0-8f3a-4364-eed1-008e0ce2a5e3"
      },
      "source": [
        "Checking if our output is always positive ~~by plotting a histogram of y_train and y_test tensors~~"
      ]
    },
    {
      "cell_type": "code",
      "execution_count": 88,
      "metadata": {},
      "outputs": [
        {
          "name": "stdout",
          "output_type": "stream",
          "text": [
            "tensor(True)\n"
          ]
        }
      ],
      "source": [
        "import torch\n",
        "\n",
        "# Create a sample tensor\n",
        "tensor = torch.randn(80000, 14)  # Assuming a tensor of shape [80000, 14]\n",
        "tensor\n",
        "\n",
        "\n",
        "# Check if any element is negative\n",
        "any_negative = torch.any(tensor < 0)\n",
        "\n",
        "# Print the result\n",
        "print(any_negative)\n"
      ]
    },
    {
      "cell_type": "code",
      "execution_count": 89,
      "metadata": {},
      "outputs": [
        {
          "data": {
            "text/plain": [
              "tensor(True)"
            ]
          },
          "execution_count": 89,
          "metadata": {},
          "output_type": "execute_result"
        }
      ],
      "source": [
        "y_train.shape\n",
        "any_negative = torch.any(y_train < 0)\n",
        "any_negative\n",
        "\n",
        "y_test.shape\n",
        "any_negative = torch.any(y_test < 0)\n",
        "any_negative\n",
        "\n",
        "x_train.shape\n",
        "any_negative = torch.any(x_train < 0)\n",
        "any_negative"
      ]
    },
    {
      "cell_type": "code",
      "execution_count": 90,
      "metadata": {},
      "outputs": [
        {
          "data": {
            "image/png": "[encoded data removed]",
            "text/plain": [
              "<Figure size 800x400 with 3 Axes>"
            ]
          },
          "metadata": {},
          "output_type": "display_data"
        }
      ],
      "source": [
        "plt.figure(figsize=(8, 4))\n",
        "plt.subplot(1, 3, 1)\n",
        "plt.hist(y_train.cpu().numpy(), bins=20) # must be cpu here.\n",
        "plt.xlabel(\"y_train\")\n",
        "plt.ylabel(\"Frequency\")\n",
        "plt.xscale(\"log\")\n",
        "plt.subplot(1, 3, 2)\n",
        "plt.hist(y_val.cpu().numpy(), bins=20) # must be cpu here\n",
        "plt.xlabel(\"y_val\")\n",
        "plt.ylabel(\"Frequency\")\n",
        "plt.xscale(\"log\")\n",
        "plt.tight_layout()\n",
        "plt.subplot(1, 3, 3)\n",
        "plt.hist(y_test.cpu().numpy(), bins=20) # must be cpu here\n",
        "plt.xlabel(\"y_test\")\n",
        "plt.ylabel(\"Frequency\")\n",
        "plt.xscale(\"log\")\n",
        "plt.tight_layout()\n",
        "plt.show()\n"
      ]
    },
    {
      "cell_type": "code",
      "execution_count": 91,
      "metadata": {
        "id": "FEgjk--AUZh9"
      },
      "outputs": [],
      "source": [
        "%config InteractiveShell.ast_node_interactivity = \"all\""
      ]
    },
    {
      "attachments": {},
      "cell_type": "markdown",
      "metadata": {
        "id": "r2b9GecHUZh9"
      },
      "source": [
        "## Defining the neural network"
      ]
    },
    {
      "cell_type": "code",
      "execution_count": 92,
      "metadata": {
        "id": "Iv8HA-ZXUZh-"
      },
      "outputs": [],
      "source": [
        "# Defining a class for the network\n",
        "class Net(nn.Module):\n",
        "    \"\"\"A class for creating a network with a\n",
        "    variable number of hidden layers and units.\n",
        "\n",
        "    Attributes:\n",
        "        n_layers (int): The number of hidden layers in the network.\n",
        "        n_units (list): A list of integers representing the number of units in each hidden layer.\n",
        "        hidden_activation (torch.nn.Module): The activation function for the hidden layers.\n",
        "        output_activation (torch.nn.Module): The activation function for the output layer.\n",
        "        layers (torch.nn.ModuleList): A list of linear layers in the network.\n",
        "    \"\"\"\n",
        "\n",
        "    def __init__(self, n_layers, n_units, hidden_activation, output_activation):\n",
        "        \"\"\"Initializes the network with the given hyperparameters.\n",
        "\n",
        "        Args:\n",
        "            n_layers (int): The number of hidden layers in the network.\n",
        "            n_units (list): A list of integers representing the number of units in each hidden layer.\n",
        "            hidden_activation (torch.nn.Module): The activation function for the hidden layers.\n",
        "            output_activation (torch.nn.Module): The activation function for the output layer.\n",
        "        \"\"\"\n",
        "        super().__init__()\n",
        "        self.n_layers = n_layers\n",
        "        self.n_units = n_units\n",
        "        self.hidden_activation = hidden_activation\n",
        "        self.output_activation = output_activation\n",
        "\n",
        "        # Creating a list of linear layers with different numbers of units for each layer\n",
        "        self.layers = nn.ModuleList([nn.Linear(N_INPUTS, n_units[0])])\n",
        "        for i in range(1, n_layers):\n",
        "            self.layers.append(nn.Linear(n_units[i - 1], n_units[i]))\n",
        "        self.layers.append(nn.Linear(n_units[-1], 1))\n",
        "\n",
        "        # Adding some assertions to check that the input arguments are valid\n",
        "        assert isinstance(n_layers, int) and n_layers > 0, \"n_layers must be a positive integer\"\n",
        "        assert isinstance(n_units, list) and len(n_units) == n_layers, \"n_units must be a list of length n_layers\"\n",
        "        assert all(isinstance(n, int) and n > 0 for n in n_units), \"n_units must contain positive integers\"\n",
        "        assert isinstance(hidden_activation, nn.Module), \"hidden_activation must be a torch.nn.Module\"\n",
        "        assert isinstance(output_activation, nn.Module), \"output_activation must be a torch.nn.Module\"\n",
        "\n",
        "    def forward(self, x):\n",
        "        \"\"\"Performs a forward pass on the input tensor.\n",
        "\n",
        "        Args:\n",
        "            x (torch.Tensor): The input tensor of shape (batch_size, N_INPUTS).\n",
        "\n",
        "        Returns:\n",
        "            torch.Tensor: The output tensor of shape (batch_size, 1).\n",
        "        \"\"\"\n",
        "        # Adding an assertion to check that the input tensor has the expected shape and type\n",
        "        assert isinstance(x, torch.Tensor), \"x must be a torch.Tensor\"\n",
        "        assert x.shape[1] == N_INPUTS, f\"x must have shape (batch_size, {N_INPUTS})\"\n",
        "\n",
        "        # Looping over the hidden layers and applying the linear transformation and the activation function\n",
        "        for layer in self.layers[:-1]:\n",
        "            x = self.hidden_activation(layer(x))\n",
        "        # Applying the linear transformation and the activation function on the output layer\n",
        "        x = self.output_activation(self.layers[-1](x))\n",
        "\n",
        "        # Returning the output tensor\n",
        "        return x\n"
      ]
    },
    {
      "attachments": {},
      "cell_type": "markdown",
      "metadata": {
        "id": "6GNvp55PUZh_"
      },
      "source": [
        "## Defining the model and search space"
      ]
    },
    {
      "cell_type": "code",
      "execution_count": 93,
      "metadata": {
        "id": "9a1opluOUZh_"
      },
      "outputs": [],
      "source": [
        "# Defining a function to create a trial network and optimizer\n",
        "def create_model(trial, optimize):\n",
        "    \"\"\"Creates a trial network and optimizer based on the sampled hyperparameters.\n",
        "\n",
        "    Args:\n",
        "        trial (optuna.trial.Trial): The trial object that contains the hyperparameters.\n",
        "        optimize (boolean): Whether to optimize the hyperparameters or to use predefined values.\n",
        "\n",
        "    Returns:\n",
        "        tuple: A tuple of (net, loss_fn, optimizer, batch_size, n_epochs,\n",
        "            scheduler, loss_name, optimizer_name, scheduler_name,\n",
        "            n_units, n_layers, hidden_activation, output_activation),\n",
        "            where net is the trial network,\n",
        "            loss_fn is the loss function,\n",
        "            optimizer is the optimizer,\n",
        "            batch_size is the batch size,\n",
        "            n_epochs is the number of epochs,\n",
        "            scheduler is the learning rate scheduler,\n",
        "            loss_name is the name of the loss function,\n",
        "            optimizer_name is the name of the optimizer,\n",
        "            scheduler_name is the name of the scheduler,\n",
        "            n_units is a list of integers representing\n",
        "            the number of units in each hidden layer,\n",
        "            n_layers is an integer representing the number of hidden layers in the network,\n",
        "            hidden_activation is a torch.nn.Module representing the activation function for the hidden layers,\n",
        "            output_activation is a torch.nn.Module representing the activation function for the output layer,\n",
        "            lr is the (initial) learning rate.\n",
        "    \"\"\"\n",
        "    # If optimize is True, sample the hyperparameters from the search space\n",
        "    if OPTIMIZE:\n",
        "        n_layers = trial.suggest_int(\"n_layers\", 2, 10)\n",
        "        n_units = [trial.suggest_int(f\"n_units_{i}\", 16, 4096) for i in range(n_layers)]\n",
        "\n",
        "        hidden_activation_name = trial.suggest_categorical(\n",
        "            \"hidden_activation\", [\"ReLU\", \"LeakyReLU\", \"ELU\"]\n",
        "        )\n",
        "        output_activation_name = trial.suggest_categorical( \"output_activation\", [\"Linear\"])\n",
        "\n",
        "        loss_name = trial.suggest_categorical( \"loss\", [\"MSE\", \"MAE\", \"Huber\", \"Quantile\"])  # Added Quantile loss\n",
        "\n",
        "        optimizer_name = trial.suggest_categorical( \"optimizer\", [\"Adam\", \"SGD\", \"RMSprop\", \"Adagrad\"] )\n",
        "\n",
        "        lr = trial.suggest_loguniform(\"lr\", 1e-6, 1)\n",
        "\n",
        "        batch_size_list = [32, 64, 128, 256, 512, 1024, 2048]\n",
        "        batch_size = trial.suggest_categorical(\"batch_size\", batch_size_list)\n",
        "        \n",
        "        n_epochs = trial.suggest_int(\"n_epochs\", 50, 150)\n",
        "\n",
        "        scheduler_name = trial.suggest_categorical(\"scheduler\", [\"CosineAnnealingLR\", \"ReduceLROnPlateau\", \"StepLR\", \"CyclicLR\"])  # Added CyclicLR\n",
        "\n",
        "    # If optimize is False, use the predefined values\n",
        "    else:\n",
        "        # Setting the hyperparameters to the predefined values\n",
        "        n_layers = N_LAYERS_NO_OPT\n",
        "        n_units = N_UNITS_NO_OPT\n",
        "        hidden_activation_name = HIDDEN_ACTIVATION_NAME_NO_OPT\n",
        "        output_activation_name = OUTPUT_ACTIVATION_NAME_NO_OPT\n",
        "        loss_name = LOSS_NAME_NO_OPT\n",
        "        optimizer_name = OPTIMIZER_NAME_NO_OPT\n",
        "        lr = LR_NO_OPT\n",
        "        batch_size = BATCH_SIZE_NO_OPT\n",
        "        n_epochs = N_EPOCHS_NO_OPT\n",
        "        scheduler_name = SCHEDULER_NAME_NO_OPT\n",
        "\n",
        "    # Creating the activation functions from their names\n",
        "    if hidden_activation_name == \"ReLU\":\n",
        "        hidden_activation = nn.ReLU()\n",
        "    elif hidden_activation_name == \"LeakyReLU\":\n",
        "        hidden_activation = nn.LeakyReLU() \n",
        "    elif hidden_activation_name == \"ELU\":\n",
        "        hidden_activation = nn.ELU() \n",
        "\n",
        "    # We used to have options here, but since we have a regression problem with continuous output, we only use Linear.\n",
        "    output_activation = nn.Identity()\n",
        "\n",
        "    # Creating the loss function from its name\n",
        "    if loss_name == \"MSE\":\n",
        "        loss_fn = nn.MSELoss()\n",
        "    elif loss_name == \"MAE\":\n",
        "        loss_fn = nn.L1Loss()\n",
        "    elif loss_name == \"Huber\":\n",
        "        loss_fn = nn.SmoothL1Loss() \n",
        "    elif loss_name == \"Quantile\":  # Added Quantile loss\n",
        "        def quantile_loss(y_pred, y_true, q=0.5):\n",
        "            e = y_pred - y_true\n",
        "            return torch.mean(torch.max(q*e, (q-1)*e))\n",
        "        loss_fn = quantile_loss\n",
        "    else:\n",
        "        def log_cosh_loss(y_pred, y_true):\n",
        "            return torch.mean(torch.log(torch.cosh(y_pred - y_true)))\n",
        "        loss_fn = log_cosh_loss\n",
        "\n",
        "    # Creating the network with the sampled hyperparameters\n",
        "    net = Net(n_layers, n_units, hidden_activation, output_activation).to(device)\n",
        "\n",
        "    if OPTIMIZE:\n",
        "        # Creating the optimizer from its name\n",
        "        if optimizer_name == \"SGD\":\n",
        "            weight_decay = trial.suggest_loguniform(\"weight_decay\", 1e-5, 1e-2)\n",
        "            momentum = trial.suggest_uniform(\"momentum\", 0.0, 0.99)\n",
        "            optimizer = optim.SGD(net.parameters(), lr=lr, weight_decay=weight_decay, momentum=momentum)\n",
        "        elif optimizer_name == \"Adam\":\n",
        "            weight_decay = trial.suggest_loguniform(\"weight_decay\", 1e-5, 1e-2)\n",
        "            beta1 = trial.suggest_uniform(\"beta1\", 0.9, 0.999)\n",
        "            beta2 = trial.suggest_uniform(\"beta2\", 0.999, 0.9999)\n",
        "            optimizer = optim.Adam(net.parameters(), lr=lr, weight_decay=weight_decay, betas=(beta1, beta2))\n",
        "        elif optimizer_name == \"RMSprop\":\n",
        "            optimizer = optim.RMSprop(net.parameters(), lr=lr)\n",
        "        else:\n",
        "            optimizer = optim.Adagrad(net.parameters(), lr=lr)\n",
        "\n",
        "        # Creating the learning rate scheduler from its name\n",
        "        if scheduler_name == \"StepLR\":\n",
        "            step_size = trial.suggest_int(\"step_size\", 5, 15)\n",
        "            gamma = trial.suggest_uniform(\"gamma\", 0.1, 0.5)\n",
        "            scheduler = optim.lr_scheduler.StepLR(optimizer, step_size=step_size, gamma=gamma)\n",
        "        elif scheduler_name == \"ExponentialLR\":\n",
        "            gamma = trial.suggest_uniform(\"gamma\", 0.8, 0.99)\n",
        "            scheduler = optim.lr_scheduler.ExponentialLR(optimizer, gamma=gamma)\n",
        "        elif scheduler_name == \"CosineAnnealingLR\":\n",
        "            if n_epochs < 150:\n",
        "                t_max_fraction = trial.suggest_uniform('t_max_fraction', 0.1, 0.3)\n",
        "            elif n_epochs > 250:\n",
        "                t_max_fraction = trial.suggest_uniform('t_max_fraction', 0.05, 0.1)\n",
        "            else:\n",
        "                t_max_fraction = trial.suggest_uniform('t_max_fraction', 0.1, 0.2)\n",
        "\n",
        "            T_max = int(n_epochs * t_max_fraction)\n",
        "            eta_min = trial.suggest_loguniform(\"eta_min\", 1e-7, 1e-2)\n",
        "            scheduler = optim.lr_scheduler.CosineAnnealingLR(optimizer, T_max=T_max, eta_min=eta_min)\n",
        "        elif scheduler_name == \"ReduceLROnPlateau\":\n",
        "            factor = trial.suggest_uniform(\"factor\", 0.1, 0.5)\n",
        "            patience = trial.suggest_int(\"patience\", 5, 10)\n",
        "            threshold = trial.suggest_loguniform(\"threshold\", 1e-4, 1e-2)\n",
        "            scheduler = optim.lr_scheduler.ReduceLROnPlateau(\n",
        "                optimizer, mode=\"min\", factor=factor, patience=patience, threshold=threshold\n",
        "            )\n",
        "        elif scheduler_name == \"CyclicLR\":  # Added CyclicLR\n",
        "            base_lr = trial.suggest_loguniform(\"base_lr\", 1e-6, 1e-2)\n",
        "            max_lr = trial.suggest_loguniform(\"max_lr\", 1e-4, 1)\n",
        "            step_size_up = trial.suggest_int(\"step_size_up\", 200, 2000)\n",
        "            scheduler = optim.lr_scheduler.CyclicLR(optimizer, base_lr=base_lr, max_lr=max_lr, step_size_up=step_size_up)\n",
        "        else:\n",
        "            scheduler = None\n",
        "    else:\n",
        "        # Creating the optimizer from its name\n",
        "        if optimizer_name == \"SGD\":\n",
        "            optimizer = optim.SGD(net.parameters(), lr=lr)\n",
        "        elif optimizer_name == \"Adam\":\n",
        "            optimizer = optim.Adam(net.parameters(), lr=lr)\n",
        "        elif optimizer_name == \"RMSprop\":\n",
        "            optimizer = optim.RMSprop(net.parameters(), lr=lr)\n",
        "        else:\n",
        "            optimizer = optim.Adagrad(net.parameters(), lr=lr)\n",
        "\n",
        "        # Creating the learning rate scheduler from its name\n",
        "        if scheduler_name == \"StepLR\":\n",
        "            scheduler = optim.lr_scheduler.StepLR(optimizer, step_size=10, gamma=0.1)\n",
        "        elif scheduler_name == \"ExponentialLR\":\n",
        "            scheduler = optim.lr_scheduler.ExponentialLR(optimizer, gamma=0.9)\n",
        "        elif scheduler_name == \"CosineAnnealingLR\":\n",
        "            scheduler = optim.lr_scheduler.CosineAnnealingLR(optimizer)\n",
        "        elif scheduler_name == \"ReduceLROnPlateau\":\n",
        "            scheduler = optim.lr_scheduler.ReduceLROnPlateau(\n",
        "                        optimizer, mode=\"min\", factor=0.18979341786654758, patience=11, threshold=0.0017197466122611932 #, min_lr=1e-6\n",
        "                    )\n",
        "        elif scheduler_name == \"CyclicLR\":  # Added CyclicLR\n",
        "            # TODO: Change these appropriately.\n",
        "            base_lr = 1e-6\n",
        "            max_lr = 1e-4\n",
        "            step_size_up = 200\n",
        "            scheduler = optim.lr_scheduler.CyclicLR(optimizer, base_lr=base_lr, max_lr=max_lr, step_size_up=step_size_up)\n",
        "        else:\n",
        "            scheduler = None\n",
        "\n",
        "    # Returning all variables needed for saving and loading\n",
        "    return net, loss_fn, optimizer, batch_size, n_epochs, scheduler, loss_name, optimizer_name, scheduler_name, n_units, n_layers, hidden_activation, output_activation, lr\n",
        "\n"
      ]
    },
    {
      "attachments": {},
      "cell_type": "markdown",
      "metadata": {
        "id": "l-czA7VvUZiD"
      },
      "source": [
        " ## The training and evaluation loop\n",
        "\n",
        " We first define a couple of functions used in the training and evaluation."
      ]
    },
    {
      "cell_type": "code",
      "execution_count": 94,
      "metadata": {
        "id": "aD6FQNmxUZiD"
      },
      "outputs": [],
      "source": [
        "# Defining a function that computes loss and metrics for a given batch\n",
        "def compute_loss_and_metrics(y_pred, y_true, loss_fn):\n",
        "    \"\"\"Computes loss and metrics for a given batch.\n",
        "\n",
        "    Args:\n",
        "        y_pred (torch.Tensor): The predicted pressure tensor of shape (batch_size, 1).\n",
        "        y_true (torch.Tensor): The true pressure tensor of shape (batch_size,).\n",
        "        loss_fn (torch.nn.Module or function): The loss function to use.\n",
        "\n",
        "    Returns:\n",
        "        tuple: A tuple of (loss, l1_norm), where loss is a scalar tensor,\n",
        "            l1_norm is L1 norm for relative error of pressure,\n",
        "            each being a scalar tensor.\n",
        "            linf_norm is Linf norm for relative error of pressure.\n",
        "    \"\"\"\n",
        "    # Reshaping the target tensor to match the input tensor\n",
        "    y_true = y_true.view(-1, 1)\n",
        "\n",
        "    # Computing the loss using the loss function\n",
        "    loss = loss_fn(y_pred, y_true)\n",
        "\n",
        "    # Computing the relative error of pressure\n",
        "    rel_error = torch.abs((y_pred - y_true) / y_true)\n",
        "\n",
        "    # Computing the L1 norm for the relative error of pressure\n",
        "    l1_norm = torch.mean(rel_error) \n",
        "    # Computing the Linf norm for the relative error of pressure\n",
        "    linf_norm = torch.max(rel_error) \n",
        "\n",
        "    # Returning the loss and metrics\n",
        "    return loss, l1_norm, linf_norm\n",
        "\n",
        "\n",
        "# Defining a function that updates the learning rate scheduler with validation loss if applicable\n",
        "def update_scheduler(scheduler, test_loss):\n",
        "    \"\"\"Updates the learning rate scheduler with validation loss if applicable.\n",
        "\n",
        "    Args:\n",
        "        scheduler (torch.optim.lr_scheduler._LRScheduler or None): The learning rate scheduler to use.\n",
        "        test_loss (float): The validation loss to use.\n",
        "\n",
        "    Returns:\n",
        "        None\n",
        "    \"\"\"\n",
        "    # Checking if scheduler is not None\n",
        "    if scheduler is not None:\n",
        "        # Checking if scheduler is ReduceLROnPlateau\n",
        "        if isinstance(scheduler, optim.lr_scheduler.ReduceLROnPlateau):\n",
        "            # Updating the scheduler with test_loss\n",
        "            scheduler.step(test_loss)\n",
        "        else:\n",
        "            # Updating the scheduler without test_loss\n",
        "            scheduler.step()\n"
      ]
    },
    {
      "attachments": {},
      "cell_type": "markdown",
      "metadata": {
        "id": "w1nE662UUZiE"
      },
      "source": [
        "Now for the actual training and evaluation loop,"
      ]
    },
    {
      "cell_type": "code",
      "execution_count": 95,
      "metadata": {
        "id": "YAOjgKW3UZiF"
      },
      "outputs": [],
      "source": [
        "# Defining a function to train and evaluate a network\n",
        "def train_and_eval(net, loss_fn, optimizer, batch_size, n_epochs, scheduler, train_loader, val_loader, test_loader, trial=None):\n",
        "    # Initializing lists to store the losses and metrics for each epoch\n",
        "    train_losses = []\n",
        "    val_losses = []\n",
        "    test_losses = []\n",
        "    train_metrics = []\n",
        "    val_metrics = []\n",
        "    test_metrics = []\n",
        "\n",
        "\n",
        "    # Creating a SummaryWriter object to log data for tensorboard\n",
        "    writer = tbx.SummaryWriter()\n",
        "\n",
        "    # Looping over the epochs\n",
        "    for epoch in range(n_epochs):\n",
        "\n",
        "        # Setting the network to training mode\n",
        "        net.train()\n",
        "\n",
        "        # Initializing variables to store the total loss and metrics for the train set\n",
        "        train_loss = 0.0\n",
        "        train_l1_norm = 0.0\n",
        "        train_linf_norm = 0.0\n",
        "\n",
        "        # Looping over the batches in the train set\n",
        "        for x_batch, y_batch in train_loader:\n",
        "\n",
        "            # Moving the batch tensors to the device\n",
        "            x_batch = x_batch.to(device)\n",
        "            y_batch = y_batch.to(device)\n",
        "\n",
        "            # Zeroing the gradients\n",
        "            optimizer.zero_grad()\n",
        "\n",
        "            # Performing a forward pass and computing the loss and metrics\n",
        "            y_pred = net(x_batch)\n",
        "            loss, l1_norm, linf_norm = compute_loss_and_metrics(y_pred, y_batch, loss_fn)\n",
        "\n",
        "\n",
        "            # Performing a backward pass and updating the weights\n",
        "            loss.backward()\n",
        "            optimizer.step()\n",
        "\n",
        "            # Updating the total loss and metrics for the train set\n",
        "            train_loss += loss.item() * x_batch.size(0)\n",
        "            train_l1_norm += l1_norm.item() * x_batch.size(0)\n",
        "            train_linf_norm += linf_norm.item() * x_batch.size(0)\n",
        "\n",
        "        # Computing the average loss and metrics for the train set\n",
        "        train_loss /= len(train_loader.dataset)\n",
        "        train_l1_norm /= len(train_loader.dataset)\n",
        "        train_linf_norm /= len(train_loader.dataset)\n",
        "\n",
        "        # Appending the average loss and metrics for the train set to the lists\n",
        "        train_losses.append(train_loss)\n",
        "        train_metrics.append(\n",
        "            {\n",
        "                \"l1_norm\": train_l1_norm,\n",
        "                \"linf_norm\": train_linf_norm,\n",
        "            }\n",
        "        )\n",
        "\n",
        "        # Logging the average loss and metrics for the train set to tensorboard\n",
        "        writer.add_scalar(\"Loss/train\", train_loss, epoch)\n",
        "        writer.add_scalar(\"L1 norm/train\", train_l1_norm, epoch)\n",
        "        writer.add_scalar(\"Linf norm/train\", train_linf_norm, epoch)\n",
        "\n",
        "        if val_loader is not None:\n",
        "            net.eval()\n",
        "            val_loss = 0.0\n",
        "            val_l1_norm = 0.0\n",
        "            val_linf_norm = 0.0\n",
        "\n",
        "            with torch.no_grad():\n",
        "                for x_batch, y_batch in val_loader:\n",
        "                    x_batch = x_batch.to(device)\n",
        "                    y_batch = y_batch.to(device)\n",
        "                    y_pred = net(x_batch)\n",
        "                    loss, l1_norm, linf_norm = compute_loss_and_metrics(y_pred, y_batch, loss_fn)\n",
        "\n",
        "                    val_loss += loss.item() * x_batch.size(0)\n",
        "                    val_l1_norm += l1_norm.item() * x_batch.size(0)\n",
        "                    val_linf_norm += linf_norm.item() * x_batch.size(0)\n",
        "\n",
        "            val_loss /= len(val_loader.dataset)\n",
        "            val_l1_norm /= len(val_loader.dataset)\n",
        "            val_linf_norm /= len(val_loader.dataset)\n",
        "\n",
        "            val_losses.append(val_loss)\n",
        "            val_metrics.append(\n",
        "                {\n",
        "                    \"l1_norm\": val_l1_norm,\n",
        "                    \"linf_norm\": val_linf_norm,\n",
        "                }\n",
        "            )\n",
        "\n",
        "            writer.add_scalar(\"Loss/val\", val_loss, epoch)\n",
        "            writer.add_scalar(\"L1 norm/val\", val_l1_norm, epoch)\n",
        "            writer.add_scalar(\"Linf norm/val\", val_linf_norm, epoch)\n",
        "            print(f\"Epoch {epoch+1}/{n_epochs}.. Train loss: {train_loss:.3f}.. Val loss: {val_loss:.3f}.. Train L1 norm: {train_l1_norm:.3f}.. Val L1 norm: {val_l1_norm:.3f}.. Train Linf norm: {train_linf_norm:.3f}.. Val Linf norm: {val_linf_norm:.3f}\")\n",
        "\n",
        "\n",
        "            update_scheduler(scheduler, val_loss)\n",
        "\n",
        "        if test_loader is not None:\n",
        "            net.eval()\n",
        "            test_loss = 0.0\n",
        "            test_l1_norm = 0.0\n",
        "            test_linf_norm = 0.0\n",
        "\n",
        "            with torch.no_grad():\n",
        "                for x_batch, y_batch in test_loader:\n",
        "                    x_batch = x_batch.to(device)\n",
        "                    y_batch = y_batch.to(device)\n",
        "                    y_pred = net(x_batch)\n",
        "                    loss, l1_norm, linf_norm = compute_loss_and_metrics(y_pred, y_batch, loss_fn)\n",
        "\n",
        "                    test_loss += loss.item() * x_batch.size(0)\n",
        "                    test_l1_norm += l1_norm.item() * x_batch.size(0)\n",
        "                    test_linf_norm += linf_norm.item() * x_batch.size(0)\n",
        "\n",
        "            test_loss /= len(test_loader.dataset)\n",
        "            test_l1_norm /= len(test_loader.dataset)\n",
        "            test_linf_norm /= len(test_loader.dataset)\n",
        "\n",
        "            test_losses.append(test_loss)\n",
        "            test_metrics.append(\n",
        "                {\n",
        "                    \"l1_norm\": test_l1_norm,\n",
        "                    \"linf_norm\": test_linf_norm,\n",
        "                }\n",
        "            )\n",
        "\n",
        "            writer.add_scalar(\"Loss/test\", test_loss, epoch)\n",
        "            writer.add_scalar(\"L1 norm/test\", test_l1_norm, epoch)\n",
        "            writer.add_scalar(\"Linf norm/test\", test_linf_norm, epoch)\n",
        "            print(f\"Epoch {epoch+1}/{n_epochs}.. Train loss: {train_loss:.3f}.. Test loss: {test_loss:.3f}.. Train L1 norm: {train_l1_norm:.3f}.. Test L1 norm: {test_l1_norm:.3f}.. Train Linf norm: {train_linf_norm:.3f}.. Test Linf norm: {test_linf_norm:.3f}\")\n",
        "\n",
        "\n",
        "        # Reporting the intermediate metric value to Optuna if trial is not None\n",
        "        if trial is not None:\n",
        "            trial.report(val_l1_norm, epoch)\n",
        "\n",
        "            if trial.should_prune():\n",
        "                raise optuna.TrialPruned()\n",
        "\n",
        "    # Closing the SummaryWriter object\n",
        "    writer.close()\n",
        "\n",
        "    # Returning the losses and metrics lists\n",
        "    return train_losses, val_losses, test_losses, train_metrics, val_metrics, test_metrics\n"
      ]
    },
    {
      "attachments": {},
      "cell_type": "markdown",
      "metadata": {
        "id": "xg9jz0SvUZiQ"
      },
      "source": [
        "## The objective function and hyperparameter tuning"
      ]
    },
    {
      "cell_type": "code",
      "execution_count": 96,
      "metadata": {
        "id": "fmRncQPuUZiR"
      },
      "outputs": [],
      "source": [
        "# Defining an objective function for Optuna to minimize\n",
        "def objective(trial):\n",
        "    \"\"\"Defines an objective function for Optuna to minimize.\n",
        "\n",
        "    Args:\n",
        "        trial (optuna.trial.Trial): The trial object that contains the hyperparameters.\n",
        "\n",
        "    Returns:\n",
        "        float: The validation L1 norm to minimize.\n",
        "    \"\"\"\n",
        "    # Creating a trial network and optimizer using the create_model function\n",
        "    net, \\\n",
        "    loss_fn, \\\n",
        "    optimizer, \\\n",
        "    batch_size, \\\n",
        "    n_epochs, \\\n",
        "    scheduler, \\\n",
        "    loss_name, \\\n",
        "    optimizer_name, \\\n",
        "    scheduler_name, \\\n",
        "    n_units, \\\n",
        "    n_layers, \\\n",
        "    hidden_activation, \\\n",
        "    output_activation, \\\n",
        "    lr = create_model(trial, optimize=True)\n",
        "\n",
        "    # Create separate data loaders for training and validation\n",
        "    train_loader = torch.utils.data.DataLoader(\n",
        "        torch.utils.data.TensorDataset(x_train, y_train), batch_size=batch_size, shuffle=True\n",
        "    )\n",
        "    val_loader = torch.utils.data.DataLoader(\n",
        "        torch.utils.data.TensorDataset(x_val, y_val), batch_size=batch_size\n",
        "    )\n",
        "    \n",
        "    _, _, _, _, val_metrics, _ = train_and_eval(\n",
        "        net, loss_fn, optimizer, batch_size, n_epochs, scheduler, train_loader, val_loader, None, trial\n",
        "    )\n",
        "\n",
        "    # Returning the last validation L1 norm as the objective value to minimize\n",
        "    return val_metrics[-1][\"l1_norm\"]"
      ]
    },
    {
      "cell_type": "code",
      "execution_count": 97,
      "metadata": {
        "id": "GyES4NAyUZiS"
      },
      "outputs": [],
      "source": [
        "if OPTIMIZE:\n",
        "    # Creating a study object with Optuna with TPE sampler and median pruner \n",
        "    study = optuna.create_study(direction=\"minimize\", sampler=optuna.samplers.TPESampler(), pruner=optuna.pruners.MedianPruner())\n",
        "\n",
        "    # Running Optuna with 100 trials when we are optimizing.\n",
        "    study.optimize(objective, n_trials=N_TRIALS)\n",
        "\n",
        "    # Printing the best trial information\n",
        "    print(\"Best trial:\")\n",
        "    trial = study.best_trial\n",
        "    print(\"  Value: \", trial.value)\n",
        "    print(\"  Params: \")\n",
        "    for key, value in trial.params.items():\n",
        "        print(f\"    {key}: {value}\")\n"
      ]
    },
    {
      "attachments": {},
      "cell_type": "markdown",
      "metadata": {
        "id": "jmMfE9_dUZiS"
      },
      "source": [
        "## Training the model"
      ]
    },
    {
      "cell_type": "code",
      "execution_count": 98,
      "metadata": {
        "id": "phyiHlWEUZiT"
      },
      "outputs": [],
      "source": [
        "# Creating the best network and optimizer using the best hyperparameters\n",
        "if OPTIMIZE:\n",
        "    net, \\\n",
        "    loss_fn, \\\n",
        "    optimizer, \\\n",
        "    batch_size, \\\n",
        "    n_epochs, \\\n",
        "    scheduler, \\\n",
        "    loss_name, \\\n",
        "    optimizer_name, \\\n",
        "    scheduler_name, \\\n",
        "    n_units, \\\n",
        "    n_layers, \\\n",
        "    hidden_activation, \\\n",
        "    output_activation, \\\n",
        "    lr = create_model(trial, optimize=True)\n",
        "# Creating the network with predefined hyperparameters\n",
        "else:\n",
        "    net, \\\n",
        "    loss_fn, \\\n",
        "    optimizer, \\\n",
        "    batch_size, \\\n",
        "    n_epochs, \\\n",
        "    scheduler, \\\n",
        "    loss_name, \\\n",
        "    optimizer_name, \\\n",
        "    scheduler_name, \\\n",
        "    n_units, \\\n",
        "    n_layers, \\\n",
        "    hidden_activation, \\\n",
        "    output_activation, \\\n",
        "    lr = create_model(trial=None, optimize=False)"
      ]
    },
    {
      "cell_type": "code",
      "execution_count": 99,
      "metadata": {
        "colab": {
          "base_uri": "https://localhost:8080/"
        },
        "id": "_yq-oY81UZiU",
        "outputId": "dbf2f465-bd50-4a20-8926-616c3d2157d0"
      },
      "outputs": [
        {
          "name": "stdout",
          "output_type": "stream",
          "text": [
            "loss_fn: SmoothL1Loss()\n",
            "batch_size: 49\n",
            "n_epochs: 5\n",
            "scheduler: <torch.optim.lr_scheduler.ReduceLROnPlateau object at 0x7f4f53a38210>\n",
            "loss_name: Huber\n",
            "optimizer_name: RMSprop\n",
            "scheduler_name: ReduceLROnPlateau\n",
            "n_units: [555, 458, 115]\n",
            "n_layers: 3\n",
            "hidden_activation: ReLU()\n",
            "output_activation: Identity()\n"
          ]
        }
      ],
      "source": [
        "print(\"loss_fn:\", loss_fn)\n",
        "print(\"batch_size:\", batch_size)\n",
        "print(\"n_epochs:\", n_epochs)\n",
        "print(\"scheduler:\", scheduler)\n",
        "print(\"loss_name:\", loss_name)\n",
        "print(\"optimizer_name:\", optimizer_name)\n",
        "print(\"scheduler_name:\", scheduler_name)\n",
        "print(\"n_units:\", n_units)\n",
        "print(\"n_layers:\", n_layers)\n",
        "print(\"hidden_activation:\", hidden_activation)\n",
        "print(\"output_activation:\", output_activation)"
      ]
    },
    {
      "attachments": {},
      "cell_type": "markdown",
      "metadata": {
        "colab": {
          "base_uri": "https://localhost:8080/"
        },
        "id": "E7aLWdZyUZiW",
        "outputId": "8fb1e8c6-5aa3-43a1-a255-712cf9396d0c"
      },
      "source": [
        "After optimizing with Optuna and deciding on the best hyperparameters, we combine the training and validatin set, using that as the new training set for training the model, and then evaluate the model on the test set"
      ]
    },
    {
      "cell_type": "code",
      "execution_count": 100,
      "metadata": {},
      "outputs": [
        {
          "name": "stdout",
          "output_type": "stream",
          "text": [
            "Epoch 1/5.. Train loss: 576.707.. Test loss: 461.145.. Train L1 norm: 1.384.. Test L1 norm: 1.375.. Train Linf norm: 11.325.. Test Linf norm: 10.404\n",
            "Epoch 2/5.. Train loss: 559.968.. Test loss: 434.881.. Train L1 norm: 1.798.. Test L1 norm: 2.408.. Train Linf norm: 15.526.. Test Linf norm: 23.944\n",
            "Epoch 3/5.. Train loss: 561.767.. Test loss: 428.182.. Train L1 norm: 2.753.. Test L1 norm: 3.996.. Train Linf norm: 28.319.. Test Linf norm: 42.638\n",
            "Epoch 4/5.. Train loss: 499.560.. Test loss: 394.232.. Train L1 norm: 3.129.. Test L1 norm: 3.043.. Train Linf norm: 34.345.. Test Linf norm: 32.837\n",
            "Epoch 5/5.. Train loss: 490.650.. Test loss: 386.973.. Train L1 norm: 2.936.. Test L1 norm: 2.901.. Train Linf norm: 33.327.. Test Linf norm: 33.747\n"
          ]
        }
      ],
      "source": [
        "x_train_val = torch.cat((x_train, x_val), 0)\n",
        "y_train_val = torch.cat((y_train, y_val), 0)\n",
        "\n",
        "train_val_loader = torch.utils.data.DataLoader(\n",
        "    torch.utils.data.TensorDataset(x_train_val, y_train_val), batch_size=batch_size, shuffle=True\n",
        ")\n",
        "test_loader = torch.utils.data.DataLoader(\n",
        "    torch.utils.data.TensorDataset(x_test, y_test), batch_size=batch_size\n",
        ")\n",
        "\n",
        "train_losses, _, test_losses, train_metrics, _, test_metrics, = train_and_eval(\n",
        "    net, loss_fn, optimizer, batch_size, n_epochs, scheduler, train_val_loader, None, test_loader, None\n",
        ")"
      ]
    },
    {
      "attachments": {},
      "cell_type": "markdown",
      "metadata": {
        "id": "akNucrgMUZiW"
      },
      "source": [
        "## Saving"
      ]
    },
    {
      "cell_type": "code",
      "execution_count": 101,
      "metadata": {
        "id": "LHsrs2Y-UZic"
      },
      "outputs": [],
      "source": [
        "import json\n",
        "\n",
        "# save the network to a .pth file\n",
        "torch.save(net.state_dict(), \"net.pth\")\n",
        "save_file(\"net.pth\")\n",
        "\n",
        "# save the optimizer to a .pth file\n",
        "torch.save(optimizer.state_dict(), \"optimizer.pth\")\n",
        "save_file(\"optimizer.pth\")\n",
        "\n",
        "# save the scheduler to a .pth file if it is not None\n",
        "if scheduler is not None:\n",
        "  torch.save(scheduler.state_dict(), \"scheduler.pth\")\n",
        "  save_file(\"scheduler.pth\")\n",
        "\n",
        "# create a dictionary to store the rest of the variables\n",
        "var_dict = {\n",
        "  \"batch_size\": batch_size,\n",
        "  \"n_epochs\": n_epochs,\n",
        "  \"loss_name\": loss_name,\n",
        "  \"optimizer_name\": optimizer_name,\n",
        "  \"scheduler_name\": scheduler_name,\n",
        "  \"n_units\": n_units,\n",
        "  \"n_layers\": n_layers,\n",
        "  \"hidden_activation_name\": hidden_activation.__class__.__name__,\n",
        "  \"output_activation_name\": output_activation.__class__.__name__,\n",
        "  \"lr\": lr,\n",
        "}\n",
        "\n",
        "# save the dictionary to a .json file\n",
        "with open(\"var_dict.json\", \"w\") as f:\n",
        "  json.dump(var_dict, f)\n",
        "save_file(\"var_dict.json\")\n",
        "\n",
        "# Saving the output of the training using pandas\n",
        "train_df = pd.DataFrame(\n",
        "    {\n",
        "        \"train_loss\": train_losses,\n",
        "        \"test_loss\": test_losses,\n",
        "        \"train_l1_norm\": [m[\"l1_norm\"] for m in train_metrics],\n",
        "        \"test_l1_norm\": [m[\"l1_norm\"] for m in test_metrics],\n",
        "        \"train_linf_norm\": [m[\"linf_norm\"] for m in train_metrics],\n",
        "        \"test_linf_norm\": [m[\"linf_norm\"] for m in test_metrics],\n",
        "    }\n",
        ")\n",
        "train_df.to_csv(\"train_output.csv\", index=False)\n",
        "save_file(\"train_output.csv\")\n"
      ]
    },
    {
      "attachments": {},
      "cell_type": "markdown",
      "metadata": {
        "id": "qU23l7dIUZie"
      },
      "source": [
        "## Visualizing the results"
      ]
    },
    {
      "cell_type": "code",
      "execution_count": 102,
      "metadata": {
        "colab": {
          "base_uri": "https://localhost:8080/",
          "height": 1000
        },
        "id": "cippWZS6UZie",
        "outputId": "f0d6e5c3-945f-481b-a153-e54fed7fe9fa"
      },
      "outputs": [
        {
          "data": {
            "text/plain": [
              "<Figure size 1200x800 with 0 Axes>"
            ]
          },
          "execution_count": 102,
          "metadata": {},
          "output_type": "execute_result"
        },
        {
          "data": {
            "text/plain": [
              "<Axes: >"
            ]
          },
          "execution_count": 102,
          "metadata": {},
          "output_type": "execute_result"
        },
        {
          "data": {
            "text/plain": [
              "[<matplotlib.lines.Line2D at 0x7f4f50efb6d0>]"
            ]
          },
          "execution_count": 102,
          "metadata": {},
          "output_type": "execute_result"
        },
        {
          "data": {
            "text/plain": [
              "[<matplotlib.lines.Line2D at 0x7f4f53f79e50>]"
            ]
          },
          "execution_count": 102,
          "metadata": {},
          "output_type": "execute_result"
        },
        {
          "data": {
            "text/plain": [
              "Text(0.5, 0, 'Epoch')"
            ]
          },
          "execution_count": 102,
          "metadata": {},
          "output_type": "execute_result"
        },
        {
          "data": {
            "text/plain": [
              "Text(0, 0.5, 'L1 Norm')"
            ]
          },
          "execution_count": 102,
          "metadata": {},
          "output_type": "execute_result"
        },
        {
          "data": {
            "text/plain": [
              "(0.001, 100.0)"
            ]
          },
          "execution_count": 102,
          "metadata": {},
          "output_type": "execute_result"
        },
        {
          "data": {
            "text/plain": [
              "<matplotlib.legend.Legend at 0x7f4f536a8c10>"
            ]
          },
          "execution_count": 102,
          "metadata": {},
          "output_type": "execute_result"
        },
        {
          "data": {
            "text/plain": [
              "<Axes: >"
            ]
          },
          "execution_count": 102,
          "metadata": {},
          "output_type": "execute_result"
        },
        {
          "data": {
            "text/plain": [
              "[<matplotlib.lines.Line2D at 0x7f4f5321c650>]"
            ]
          },
          "execution_count": 102,
          "metadata": {},
          "output_type": "execute_result"
        },
        {
          "data": {
            "text/plain": [
              "[<matplotlib.lines.Line2D at 0x7f4f50ac7a90>]"
            ]
          },
          "execution_count": 102,
          "metadata": {},
          "output_type": "execute_result"
        },
        {
          "data": {
            "text/plain": [
              "Text(0.5, 0, 'Epoch')"
            ]
          },
          "execution_count": 102,
          "metadata": {},
          "output_type": "execute_result"
        },
        {
          "data": {
            "text/plain": [
              "Text(0, 0.5, 'Linf Norm')"
            ]
          },
          "execution_count": 102,
          "metadata": {},
          "output_type": "execute_result"
        },
        {
          "data": {
            "text/plain": [
              "(0.001, 100.0)"
            ]
          },
          "execution_count": 102,
          "metadata": {},
          "output_type": "execute_result"
        },
        {
          "data": {
            "text/plain": [
              "<matplotlib.legend.Legend at 0x7f4f52bc0250>"
            ]
          },
          "execution_count": 102,
          "metadata": {},
          "output_type": "execute_result"
        },
        {
          "data": {
            "image/png": "[encoded data removed]",
            "text/plain": [
              "<Figure size 1200x800 with 2 Axes>"
            ]
          },
          "metadata": {},
          "output_type": "display_data"
        },
        {
          "data": {
            "text/plain": [
              "<Figure size 800x600 with 0 Axes>"
            ]
          },
          "execution_count": 102,
          "metadata": {},
          "output_type": "execute_result"
        },
        {
          "data": {
            "text/plain": [
              "[<matplotlib.lines.Line2D at 0x7f4f51378550>]"
            ]
          },
          "execution_count": 102,
          "metadata": {},
          "output_type": "execute_result"
        },
        {
          "data": {
            "text/plain": [
              "[<matplotlib.lines.Line2D at 0x7f4f4e2b5190>]"
            ]
          },
          "execution_count": 102,
          "metadata": {},
          "output_type": "execute_result"
        },
        {
          "data": {
            "text/plain": [
              "Text(0.5, 0, 'Epoch')"
            ]
          },
          "execution_count": 102,
          "metadata": {},
          "output_type": "execute_result"
        },
        {
          "data": {
            "text/plain": [
              "Text(0, 0.5, 'Huber Loss')"
            ]
          },
          "execution_count": 102,
          "metadata": {},
          "output_type": "execute_result"
        },
        {
          "data": {
            "text/plain": [
              "(1e-07, 1.0)"
            ]
          },
          "execution_count": 102,
          "metadata": {},
          "output_type": "execute_result"
        },
        {
          "data": {
            "text/plain": [
              "<matplotlib.legend.Legend at 0x7f4f50ac4a90>"
            ]
          },
          "execution_count": 102,
          "metadata": {},
          "output_type": "execute_result"
        },
        {
          "data": {
            "image/png": "[encoded data removed]",
            "text/plain": [
              "<Figure size 800x600 with 1 Axes>"
            ]
          },
          "metadata": {},
          "output_type": "display_data"
        }
      ],
      "source": [
        "# Plotting the losses and metrics for the best network \n",
        "plt.figure(figsize=(12, 8))\n",
        "#plt.subplot(2, 2, 1)\n",
        "#plt.plot(train_losses, label=\"Train Loss\")\n",
        "#plt.plot(test_losses, label=\"Test Loss\")\n",
        "#plt.xlabel(\"Epoch\")\n",
        "#plt.ylabel(\"Loss\")\n",
        "#plt.legend()\n",
        "plt.subplot(2, 2, 2)\n",
        "plt.plot([m[\"l1_norm\"] for m in train_metrics], label=\"Train L1 Norm\")\n",
        "plt.plot([m[\"l1_norm\"] for m in test_metrics], label=\"Test L1 Norm\")\n",
        "plt.xlabel(\"Epoch\")\n",
        "plt.ylabel(\"L1 Norm\")\n",
        "# Added setting the vertical axis to be in powers of 10\n",
        "plt.yscale(\"log\")\n",
        "# Added setting the vertical axis limits to be from 10^-7 to 10^0\n",
        "plt.ylim(1e-3, 1e2)\n",
        "plt.legend()\n",
        "plt.subplot(2, 2, 3)\n",
        "plt.plot([m[\"linf_norm\"] for m in train_metrics], label=\"Train Linf Norm\")\n",
        "plt.plot([m[\"linf_norm\"] for m in test_metrics], label=\"Test Linf Norm\")\n",
        "plt.xlabel(\"Epoch\")\n",
        "plt.ylabel(\"Linf Norm\")\n",
        "# Added setting the vertical axis to be in powers of 10\n",
        "plt.yscale(\"log\")\n",
        "# Added setting the vertical axis limits to be from 10^-7 to 10^0\n",
        "plt.ylim(1e-3, 1e2)\n",
        "plt.legend()\n",
        "plt.tight_layout()\n",
        "plt.show()\n",
        "\n",
        "# Added plotting MSE of training data and MSE of test data in one plot \n",
        "plt.figure(figsize=(8, 6))\n",
        "plt.plot(train_losses,label=\"training data\")\n",
        "plt.plot(test_losses,label=\"test data\")\n",
        "#if scheduler is not None:\n",
        "#    plt.plot([scheduler.get_last_lr()[0] for _ in range(n_epochs)], label=\"Learning rate\") \n",
        "plt.xlabel(\"Epoch\")\n",
        "plt.ylabel(f\"{loss_name} Loss\")\n",
        "# Added setting the vertical axis to be in powers of 10\n",
        "plt.yscale(\"log\")\n",
        "# Added setting the vertical axis limits to be from 10^-7 to 10^0\n",
        "plt.ylim(1e-7, 1e0)\n",
        "plt.legend()\n",
        "plt.show()"
      ]
    },
    {
      "attachments": {},
      "cell_type": "markdown",
      "metadata": {
        "id": "tiEDutxIUZig"
      },
      "source": [
        "## Loading"
      ]
    },
    {
      "cell_type": "code",
      "execution_count": 103,
      "metadata": {
        "colab": {
          "base_uri": "https://localhost:8080/"
        },
        "id": "p7Mj990wUZih",
        "outputId": "a1132948-c3b1-4d75-becf-4efa93c9a7d0"
      },
      "outputs": [
        {
          "data": {
            "text/plain": [
              "<All keys matched successfully>"
            ]
          },
          "execution_count": 103,
          "metadata": {},
          "output_type": "execute_result"
        }
      ],
      "source": [
        "import json\n",
        "import pandas as pd\n",
        "\n",
        "# load the dictionary from the .json file\n",
        "with open(\"var_dict.json\", \"r\") as f:\n",
        "  var_dict_loaded = json.load(f)\n",
        "\n",
        "# extract the variables from the dictionary\n",
        "batch_size_loaded = var_dict_loaded[\"batch_size\"]\n",
        "n_epochs_loaded = var_dict_loaded[\"n_epochs\"]\n",
        "loss_name_loaded = var_dict_loaded[\"loss_name\"]\n",
        "optimizer_name_loaded = var_dict_loaded[\"optimizer_name\"]\n",
        "scheduler_name_loaded = var_dict_loaded[\"scheduler_name\"]\n",
        "n_units_loaded = var_dict_loaded[\"n_units\"]\n",
        "n_layers_loaded = var_dict_loaded[\"n_layers\"]\n",
        "hidden_activation_name_loaded = var_dict_loaded[\"hidden_activation_name\"]\n",
        "output_activation_name_loaded = var_dict_loaded[\"output_activation_name\"]\n",
        "lr_loaded = var_dict_loaded[\"lr\"]\n",
        "\n",
        "# create the activation functions from their names\n",
        "if hidden_activation_name_loaded == \"ReLU\":\n",
        "  hidden_activation_loaded = nn.ReLU()\n",
        "elif hidden_activation_name_loaded == \"LeakyReLU\":\n",
        "  hidden_activation_loaded = nn.LeakyReLU() \n",
        "elif hidden_activation_name_loaded == \"ELU\":\n",
        "  hidden_activation_loaded = nn.ELU() \n",
        "\n",
        "# We used to have options here, but since we have a regression problem with continuous output, we only use Linear.\n",
        "output_activation_loaded = nn.Identity()\n",
        "\n",
        "# load the network from the .pth file\n",
        "net_loaded = Net(n_layers_loaded, n_units_loaded, hidden_activation_loaded, output_activation_loaded).to(device)\n",
        "if torch.cuda.is_available():\n",
        " net_loaded.load_state_dict(torch.load(\"net.pth\"))\n",
        "else: \n",
        "  net_loaded.load_state_dict(torch.load(\"net.pth\", map_location=torch.device('cpu')))\n",
        "\n",
        "\n",
        "# Creating the loss function from its name\n",
        "if loss_name_loaded == \"MSE\":\n",
        "    loss_fn_loaded = nn.MSELoss()\n",
        "elif loss_name_loaded == \"MAE\":\n",
        "    loss_fn_loaded = nn.L1Loss()\n",
        "elif loss_name_loaded == \"Huber\":\n",
        "    loss_fn_loaded = nn.SmoothL1Loss() \n",
        "elif loss_name_loaded == \"Quantile\":\n",
        "    def quantile_loss(y_pred, y_true, q=0.5):\n",
        "        e = y_pred - y_true\n",
        "        return torch.mean(torch.max(q*e, (q-1)*e))\n",
        "    loss_fn_loaded = quantile_loss\n",
        "else:\n",
        "    def log_cosh_loss(y_pred, y_true):\n",
        "        return torch.mean(torch.log(torch.cosh(y_pred - y_true)))\n",
        "    loss_fn_loaded = log_cosh_loss\n",
        "\n",
        "# load the optimizer from the .pth file\n",
        "if torch.cuda.is_available():\n",
        "  optimizer_loaded_state_dict = torch.load(\"optimizer.pth\")\n",
        "else:\n",
        "  optimizer_loaded_state_dict = torch.load(\"optimizer.pth\", map_location=torch.device('cpu'))\n",
        "\n",
        "if optimizer_name_loaded == \"SGD\":\n",
        "  # Added getting the weight decay and momentum parameters from the state dict\n",
        "  weight_decay_loaded = optimizer_loaded_state_dict[\"param_groups\"][0][\"weight_decay\"]\n",
        "  momentum_loaded = optimizer_loaded_state_dict[\"param_groups\"][0][\"momentum\"]\n",
        "  optimizer_loaded = optim.SGD(net_loaded.parameters(), lr=lr_loaded, weight_decay=weight_decay_loaded, momentum=momentum_loaded)\n",
        "elif optimizer_name_loaded == \"Adam\":\n",
        "  # Added getting the weight decay and beta parameters from the state dict\n",
        "  weight_decay_loaded = optimizer_loaded_state_dict[\"param_groups\"][0][\"weight_decay\"]\n",
        "  beta1_loaded = optimizer_loaded_state_dict[\"param_groups\"][0][\"betas\"][0]\n",
        "  beta2_loaded = optimizer_loaded_state_dict[\"param_groups\"][0][\"betas\"][1]\n",
        "  optimizer_loaded = optim.Adam(net_loaded.parameters(), lr=lr_loaded, weight_decay=weight_decay_loaded, betas=(beta1_loaded, beta2_loaded))\n",
        "elif optimizer_name_loaded == \"RMSprop\":\n",
        "  optimizer_loaded = optim.RMSprop(net_loaded.parameters(), lr=lr_loaded)\n",
        "else:\n",
        "  # Added loading the Adagrad optimizer\n",
        "  optimizer_loaded = optim.Adagrad(net_loaded.parameters(), lr=lr_loaded)\n",
        "optimizer_loaded.load_state_dict(optimizer_loaded_state_dict)\n",
        "\n",
        "# load the scheduler from the .pth file\n",
        "if torch.cuda.is_available():\n",
        "  scheduler_loaded_state_dict = torch.load(\"scheduler.pth\")\n",
        "else: \n",
        "  scheduler_loaded_state_dict = torch.load(\"scheduler.pth\", map_location=torch.device('cpu'))\n",
        "\n",
        "if scheduler_name_loaded == \"StepLR\":\n",
        "  # Added getting the step_size and gamma parameters from the state dict\n",
        "  step_size_loaded = scheduler_loaded_state_dict[\"step_size\"]\n",
        "  gamma_loaded = scheduler_loaded_state_dict[\"gamma\"]\n",
        "  scheduler_loaded = optim.lr_scheduler.StepLR(optimizer_loaded, step_size=step_size_loaded, gamma=gamma_loaded)\n",
        "elif scheduler_name_loaded == \"ExponentialLR\":\n",
        "  # Added getting the gamma parameter from the state dict\n",
        "  gamma_loaded = scheduler_loaded_state_dict[\"gamma\"]\n",
        "  scheduler_loaded = optim.lr_scheduler.ExponentialLR(optimizer_loaded, gamma=gamma_loaded)\n",
        "elif scheduler_name_loaded == \"CosineAnnealingLR\":\n",
        "  # Added getting the T_max parameter from the state dict\n",
        "  T_max_loaded = scheduler_loaded_state_dict[\"T_max\"]\n",
        "  scheduler_loaded = optim.lr_scheduler.CosineAnnealingLR(optimizer_loaded, T_max=T_max_loaded)\n",
        "elif scheduler_name_loaded == \"ReduceLROnPlateau\":\n",
        "  # Added getting the mode, factor, patience, threshold and min_lr parameters from the state dict\n",
        "  mode_loaded = scheduler_loaded_state_dict[\"mode\"]\n",
        "  factor_loaded = scheduler_loaded_state_dict[\"factor\"]\n",
        "  patience_loaded = scheduler_loaded_state_dict[\"patience\"]\n",
        "  threshold_loaded = scheduler_loaded_state_dict[\"threshold\"]\n",
        "  # TODO: I had [0] after [\"min_lrs\"] here, but I reason it to be a typo, as none of the other subparameters have it. Verify that this was indeed a typo.\n",
        "  min_lr_loaded = scheduler_loaded_state_dict[\"min_lrs\"]\n",
        "  scheduler_loaded = optim.lr_scheduler.ReduceLROnPlateau(\n",
        "                    optimizer_loaded, mode=mode_loaded, factor=factor_loaded, patience=patience_loaded, threshold=threshold_loaded, min_lr=min_lr_loaded\n",
        "                )\n",
        "elif scheduler_name_loaded == \"CyclicLR\":  # Added CyclicLR\n",
        "    base_lr_loaded = scheduler_loaded_state_dict[\"base_lr\"]\n",
        "    max_lr_loaded = scheduler_loaded_state_dict[\"max_lr\"]\n",
        "    step_size_up_loaded = scheduler_loaded_state_dict[\"step_size_up\"]\n",
        "    scheduler_loaded = optim.lr_scheduler.CyclicLR(\n",
        "                    optimizer, base_lr=base_lr_loaded, max_lr=max_lr_loaded, step_size_up=step_size_up_loaded\n",
        "                )\n",
        "else:\n",
        "  scheduler_loaded = None\n",
        "\n",
        "if scheduler_loaded is not None:\n",
        "  # Added loading the state dict to the scheduler_loaded\n",
        "  scheduler_loaded.load_state_dict(scheduler_loaded_state_dict)\n",
        "\n",
        "# Loading the output of the training using pandas\n",
        "train_df_loaded = pd.read_csv(\"train_output.csv\")\n",
        "train_losses_loaded = train_df_loaded[\"train_loss\"].tolist()\n",
        "test_losses_loaded = train_df_loaded[\"test_loss\"].tolist()\n",
        "train_metrics_loaded = [\n",
        "    {\n",
        "        \"l1_norm\": train_df_loaded[\"train_l1_norm\"][i],\n",
        "        \"linf_norm\": train_df_loaded[\"train_linf_norm\"][i],\n",
        "    }\n",
        "    for i in range(len(train_df_loaded))\n",
        "]\n",
        "test_metrics_loaded = [\n",
        "    {\n",
        "        \"l1_norm\": train_df_loaded[\"test_l1_norm\"][i],\n",
        "        \"linf_norm\": train_df_loaded[\"test_linf_norm\"][i],\n",
        "    }\n",
        "    for i in range(len(train_df_loaded))\n",
        "]"
      ]
    },
    {
      "cell_type": "code",
      "execution_count": 104,
      "metadata": {
        "colab": {
          "base_uri": "https://localhost:8080/",
          "height": 1000
        },
        "id": "GQ_fcj7zUZii",
        "outputId": "c4979ef0-a99c-4754-e222-3af23a83c1cb"
      },
      "outputs": [
        {
          "name": "stdout",
          "output_type": "stream",
          "text": [
            "skipping\n"
          ]
        }
      ],
      "source": [
        "%%script echo skipping\n",
        "\n",
        "batch_size_loaded\n",
        "n_epochs_loaded\n",
        "loss_name_loaded\n",
        "optimizer_name_loaded\n",
        "scheduler_name_loaded\n",
        "n_units_loaded\n",
        "n_layers_loaded\n",
        "hidden_activation_name_loaded\n",
        "output_activation_name_loaded\n",
        "lr_loaded\n",
        "hidden_activation_loaded\n",
        "output_activation_loaded\n",
        "net_loaded\n",
        "net_loaded.__dict__ # print the subparameters of the network\n",
        "loss_fn_loaded\n",
        "optimizer_loaded\n",
        "optimizer_loaded.__dict__ # print the subparameters of the optimizer\n",
        "scheduler_loaded\n",
        "scheduler_loaded.__dict__ # print the subparameters of the scheduler\n",
        "train_losses_loaded\n",
        "test_losses_loaded\n",
        "train_metrics_loaded\n",
        "test_metrics_loaded"
      ]
    },
    {
      "cell_type": "code",
      "execution_count": 105,
      "metadata": {},
      "outputs": [
        {
          "data": {
            "text/plain": [
              "490.6500745757103"
            ]
          },
          "execution_count": 105,
          "metadata": {},
          "output_type": "execute_result"
        },
        {
          "data": {
            "text/plain": [
              "386.9733476734161"
            ]
          },
          "execution_count": 105,
          "metadata": {},
          "output_type": "execute_result"
        },
        {
          "data": {
            "text/plain": [
              "2.901279364544153"
            ]
          },
          "execution_count": 105,
          "metadata": {},
          "output_type": "execute_result"
        },
        {
          "data": {
            "text/plain": [
              "33.74653249497413"
            ]
          },
          "execution_count": 105,
          "metadata": {},
          "output_type": "execute_result"
        }
      ],
      "source": [
        "train_losses_loaded[-1]\n",
        "test_losses_loaded[-1]\n",
        "test_metrics_loaded[-1]['l1_norm']\n",
        "test_metrics_loaded[-1]['linf_norm']\n",
        "# print(f'Error is {test_metrics_loaded[-1][\"l1_norm\"] / (3.84e-4)} times bigger than in Dieselhorst et al.')\n",
        "# print(f'Error is {test_metrics_loaded[-1][\"linf_norm\"] / (8.14e-3)} times bigger than in Dieselhorst et al.')"
      ]
    },
    {
      "attachments": {},
      "cell_type": "markdown",
      "metadata": {},
      "source": [
        "### Visualize loaded results"
      ]
    },
    {
      "attachments": {},
      "cell_type": "markdown",
      "metadata": {
        "id": "vwLGR1aSUZik"
      },
      "source": [
        "Let us verify correct loading of the train and test metrics by visualizing them again but now through the loaded values. Likewise for the train and test losses."
      ]
    },
    {
      "cell_type": "code",
      "execution_count": 106,
      "metadata": {
        "id": "sXiNgLsmUZil"
      },
      "outputs": [],
      "source": [
        "%config InteractiveShell.ast_node_interactivity = \"last_expr_or_assign\""
      ]
    },
    {
      "cell_type": "code",
      "execution_count": 107,
      "metadata": {
        "colab": {
          "base_uri": "https://localhost:8080/",
          "height": 1000
        },
        "id": "sgq4WfSiUZil",
        "outputId": "9934bd08-6c78-4a92-c8c6-d8e835c351b3"
      },
      "outputs": [
        {
          "data": {
            "image/png": "[encoded data removed]",
            "text/plain": [
              "<Figure size 640x480 with 2 Axes>"
            ]
          },
          "metadata": {},
          "output_type": "display_data"
        },
        {
          "data": {
            "image/png": "[encoded data removed]",
            "text/plain": [
              "<Figure size 800x600 with 1 Axes>"
            ]
          },
          "metadata": {},
          "output_type": "display_data"
        }
      ],
      "source": [
        "# Plotting the losses and metrics for the best network plt.figure(figsize=(12, \n",
        "#plt.subplot(2, 2, 1)\n",
        "#plt.plot(train_losses_loaded, label=\"Train Loss\")\n",
        "#plt.plot(test_losses_loaded, label=\"Test Loss\")\n",
        "#plt.xlabel(\"Epoch\")\n",
        "#plt.ylabel(\"Loss\")\n",
        "#plt.legend()\n",
        "plt.subplot(2, 2, 2)\n",
        "plt.plot([m[\"l1_norm\"] for m in train_metrics_loaded], label=\"Train L1 Norm\")\n",
        "plt.plot([m[\"l1_norm\"] for m in test_metrics_loaded], label=\"Test L1 Norm\")\n",
        "plt.xlabel(\"Epoch\")\n",
        "plt.ylabel(\"L1 Norm\")\n",
        "# Added setting the vertical axis to be in powers of 10\n",
        "plt.yscale(\"log\")\n",
        "# Added setting the vertical axis limits to be from 10^-7 to 10^0\n",
        "plt.ylim(1e-3, 1e2)\n",
        "plt.legend()\n",
        "plt.subplot(2, 2, 3)\n",
        "plt.plot([m[\"linf_norm\"] for m in train_metrics_loaded], label=\"Train Linf Norm\")\n",
        "plt.plot([m[\"linf_norm\"] for m in test_metrics_loaded], label=\"Test Linf Norm\")\n",
        "plt.xlabel(\"Epoch\")\n",
        "plt.ylabel(\"Linf Norm\")\n",
        "# Added setting the vertical axis to be in powers of 10\n",
        "plt.yscale(\"log\")\n",
        "# Added setting the vertical axis limits to be from 10^-7 to 10^0\n",
        "plt.ylim(1e-3, 1e2)\n",
        "plt.legend()\n",
        "plt.tight_layout()\n",
        "plt.show()\n",
        "\n",
        "# Added plotting MSE of training data and MSE of test data in one plot \n",
        "plt.figure(figsize=(8, 6))\n",
        "plt.plot(train_losses_loaded,label=\"training data\")\n",
        "plt.plot(test_losses_loaded,label=\"test data\")\n",
        "#if scheduler is not None:\n",
        "#    plt.plot([scheduler.get_last_lr()[0] for _ in range(n_epochs)], label=\"Learning rate\") \n",
        "plt.xlabel(\"Epoch\")\n",
        "plt.ylabel(f\"{loss_name_loaded} Loss\")\n",
        "# Added setting the vertical axis to be in powers of 10\n",
        "plt.yscale(\"log\")\n",
        "# Added setting the vertical axis limits to be from 10^-7 to 10^0\n",
        "plt.ylim(1e-7, 1e0)\n",
        "plt.legend()\n",
        "plt.show()\n"
      ]
    },
    {
      "cell_type": "code",
      "execution_count": 108,
      "metadata": {
        "id": "lkgLqJ_UUZim"
      },
      "outputs": [],
      "source": [
        "%config InteractiveShell.ast_node_interactivity = \"all\""
      ]
    },
    {
      "attachments": {},
      "cell_type": "markdown",
      "metadata": {},
      "source": [
        "## Counting the number of parameters in the network."
      ]
    },
    {
      "cell_type": "code",
      "execution_count": 109,
      "metadata": {},
      "outputs": [
        {
          "data": {
            "text/plain": [
              "Net(\n",
              "  (hidden_activation): ReLU()\n",
              "  (output_activation): Identity()\n",
              "  (layers): ModuleList(\n",
              "    (0): Linear(in_features=14, out_features=555, bias=True)\n",
              "    (1): Linear(in_features=555, out_features=458, bias=True)\n",
              "    (2): Linear(in_features=458, out_features=115, bias=True)\n",
              "    (3): Linear(in_features=115, out_features=1, bias=True)\n",
              "  )\n",
              ")"
            ]
          },
          "execution_count": 109,
          "metadata": {},
          "output_type": "execute_result"
        },
        {
          "name": "stdout",
          "output_type": "stream",
          "text": [
            "The model has 315874 parameters.\n"
          ]
        }
      ],
      "source": [
        "net_loaded.eval()\n",
        "def count_parameters(model):\n",
        "    return sum(p.numel() for p in model.parameters() if p.requires_grad)\n",
        "print(f'The model has {count_parameters(net_loaded)} parameters.')"
      ]
    },
    {
      "attachments": {},
      "cell_type": "markdown",
      "metadata": {
        "id": "SxuzVSnlUZin"
      },
      "source": [
        "## Evaluating the network on arbirary input\n",
        "### Comparing `net` and `net_loaded`\n",
        "\n",
        "We compare `net` and `net_loaded` to confirm correct loading of the network. Note that `net` is only available if we have trained the model in this session."
      ]
    },
    {
      "cell_type": "code",
      "execution_count": 110,
      "metadata": {},
      "outputs": [
        {
          "data": {
            "text/plain": [
              "Net(\n",
              "  (hidden_activation): ReLU()\n",
              "  (output_activation): Identity()\n",
              "  (layers): ModuleList(\n",
              "    (0): Linear(in_features=14, out_features=555, bias=True)\n",
              "    (1): Linear(in_features=555, out_features=458, bias=True)\n",
              "    (2): Linear(in_features=458, out_features=115, bias=True)\n",
              "    (3): Linear(in_features=115, out_features=1, bias=True)\n",
              "  )\n",
              ")"
            ]
          },
          "execution_count": 110,
          "metadata": {},
          "output_type": "execute_result"
        }
      ],
      "source": [
        "#%%script echo skipping\n",
        "\n",
        "# Set the network to evaluation mode\n",
        "net.eval()"
      ]
    },
    {
      "cell_type": "code",
      "execution_count": 111,
      "metadata": {},
      "outputs": [
        {
          "data": {
            "text/plain": [
              "<bound method Module.eval of Net(\n",
              "  (hidden_activation): ReLU()\n",
              "  (output_activation): Identity()\n",
              "  (layers): ModuleList(\n",
              "    (0): Linear(in_features=14, out_features=555, bias=True)\n",
              "    (1): Linear(in_features=555, out_features=458, bias=True)\n",
              "    (2): Linear(in_features=458, out_features=115, bias=True)\n",
              "    (3): Linear(in_features=115, out_features=1, bias=True)\n",
              "  )\n",
              ")>"
            ]
          },
          "execution_count": 111,
          "metadata": {},
          "output_type": "execute_result"
        }
      ],
      "source": [
        "# Set the network to evaluation mode\n",
        "net_loaded.eval"
      ]
    },
    {
      "cell_type": "code",
      "execution_count": 112,
      "metadata": {},
      "outputs": [
        {
          "name": "stdout",
          "output_type": "stream",
          "text": [
            "Parameters are the same.\n",
            "Net device: cpu\n",
            "Net_loaded device: cpu\n"
          ]
        }
      ],
      "source": [
        "for p1, p2 in zip(net.parameters(), net_loaded.parameters()):\n",
        "    if p1.data.ne(p2.data).sum() > 0:\n",
        "        print(\"Parameters are NOT the same.\")\n",
        "        break\n",
        "else:\n",
        "    print(\"Parameters are the same.\")\n",
        "\n",
        "print(\"Net device:\", next(net.parameters()).device)\n",
        "print(\"Net_loaded device:\", next(net_loaded.parameters()).device)"
      ]
    },
    {
      "cell_type": "code",
      "execution_count": 113,
      "metadata": {
        "colab": {
          "base_uri": "https://localhost:8080/"
        },
        "id": "C0PLAA0DUZin",
        "outputId": "c51e07dd-8b35-4ea4-cdf9-3118d7796e30"
      },
      "outputs": [
        {
          "name": "stdout",
          "output_type": "stream",
          "text": [
            "[Parameter containing:\n",
            "tensor([[ 0.3504, -0.2879,  0.1828,  ...,  0.0402,  0.2566,  0.2817],\n",
            "        [-0.2654,  0.1302, -0.1816,  ...,  0.0689,  0.4037,  0.4959],\n",
            "        [ 0.2933,  0.1861, -0.1663,  ...,  0.0432,  0.1929,  0.0891],\n",
            "        ...,\n",
            "        [-0.2636, -0.1010, -0.1615,  ...,  0.0863,  0.3179,  0.2440],\n",
            "        [ 0.2111,  0.2196, -0.1350,  ..., -0.2351, -0.1794, -0.2922],\n",
            "        [-0.0510, -0.0969,  0.1921,  ...,  0.4085,  0.2938, -0.0357]],\n",
            "       requires_grad=True), Parameter containing:\n",
            "tensor([ 2.8997e-01,  3.5264e-01, -6.9685e-02, -3.3043e-01,  1.8533e-01,\n",
            "        -4.3741e-01, -3.7039e-01,  3.3101e-01, -8.5627e-02,  4.6318e-01,\n",
            "         3.2945e-01, -2.1535e-01,  2.6189e-01,  1.5061e-01,  5.1616e-02,\n",
            "        -6.5619e-03, -2.1086e-01,  1.3449e-02,  2.7512e-01,  2.6110e-01,\n",
            "        -4.2449e-03,  1.3007e-01, -1.7768e-02,  1.8892e-01,  5.0989e-01,\n",
            "        -1.2318e-01,  1.9665e-01, -3.8529e-01, -8.0155e-02,  3.9873e-01,\n",
            "        -1.5900e-01,  1.8988e-01,  5.3033e-01,  1.7745e-01, -1.0322e-02,\n",
            "         1.4412e-01, -2.6227e-01,  4.9957e-01, -4.6553e-02, -5.4239e-02,\n",
            "        -2.4386e-01,  1.4635e-01, -8.0317e-02, -4.1769e-02,  2.6824e-01,\n",
            "        -5.0070e-01, -1.8917e-02, -2.2157e-02, -2.0510e-01,  4.8748e-02,\n",
            "         2.4852e-01, -7.3533e-02,  1.5428e-01,  3.8928e-02, -8.5301e-02,\n",
            "         1.4044e-01,  3.0517e-01,  2.0031e-01,  1.1788e-01,  3.9861e-04,\n",
            "        -2.5966e-01, -5.2139e-02,  1.8725e-02,  1.1942e-02, -1.1853e-01,\n",
            "        -6.7313e-02, -4.5214e-02, -4.8354e-03, -1.7318e-02,  1.2494e-01,\n",
            "        -3.3468e-01,  2.7203e-01,  8.7282e-03, -2.6802e-01, -2.6045e-01,\n",
            "         1.0262e-01,  1.6231e-01, -1.2998e-01,  1.3671e-01, -1.2924e-01,\n",
            "        -4.9164e-01,  3.0687e-01,  4.3385e-02,  2.5847e-01, -1.9456e-01,\n",
            "         1.8641e-02,  1.8166e-01, -3.6708e-01,  3.2493e-01,  3.1519e-01,\n",
            "         1.2311e-01, -2.2609e-01,  5.5811e-02, -3.6647e-01,  2.3106e-01,\n",
            "         2.3708e-02, -1.9404e-01,  3.5453e-01,  2.8690e-03,  4.6797e-03,\n",
            "         1.7893e-01, -1.3788e-01, -8.4880e-01,  9.7960e-02, -1.5029e-01,\n",
            "         3.4492e-01,  3.4164e-01,  2.9808e-01,  3.4203e-01, -7.6775e-01,\n",
            "        -2.3737e-01, -2.3482e-01,  4.4266e-01,  2.0388e-01,  3.4546e-02,\n",
            "         2.4525e-01,  2.7476e-01,  9.3855e-04, -1.3992e-01,  2.0327e-01,\n",
            "         2.9438e-01, -1.0908e-02, -3.5372e-02,  3.8930e-02,  7.2784e-02,\n",
            "         1.9056e-02,  3.4685e-02, -6.8893e-02,  5.8287e-01,  1.5311e-01,\n",
            "        -2.4182e-01,  7.3985e-02, -4.9526e-01,  2.6322e-02, -4.9479e-01,\n",
            "        -4.4023e-01, -1.1030e-01,  1.2405e-01,  2.3640e-01,  1.0307e-02,\n",
            "         1.2027e-01, -3.8209e-02,  1.6930e-01,  1.5125e-01,  9.2575e-03,\n",
            "        -2.4152e-01, -1.7445e-01, -8.8111e-02,  1.4695e-01, -1.1370e-01,\n",
            "         1.6163e-01,  3.9083e-01, -3.8980e-01,  1.3199e-01,  3.2623e-01,\n",
            "         1.8745e-01,  2.0960e-01,  1.5033e-01,  9.5676e-02, -2.1173e-01,\n",
            "        -8.3349e-02, -1.9107e-01,  2.6881e-01,  4.3283e-01,  4.5337e-01,\n",
            "         8.4527e-02, -1.5741e-01,  1.9452e-01,  5.9871e-02, -6.5759e-02,\n",
            "         2.5042e-01,  2.1400e-01, -2.1909e-01,  2.1895e-01,  6.5273e-01,\n",
            "         4.1298e-01,  9.6147e-02,  1.3731e-01, -1.0264e-02, -2.6071e-01,\n",
            "         4.2894e-01, -9.3590e-02,  1.7657e-01, -4.9989e-01,  4.8996e-02,\n",
            "         5.2623e-01,  5.6505e-01,  5.9380e-01,  4.0253e-01,  8.4116e-02,\n",
            "         1.8389e-01,  4.7322e-01, -4.3868e-01,  6.1965e-02,  3.2891e-01,\n",
            "        -4.2606e-01, -7.8006e-02, -3.0119e-01, -6.8416e-02,  1.3916e-02,\n",
            "        -1.8910e-01,  3.8705e-02,  2.7596e-02,  1.2454e-01, -2.9720e-01,\n",
            "        -1.1185e-01, -2.1132e-01, -1.1680e-02, -1.8926e-02,  5.5268e-02,\n",
            "        -3.1986e-03,  4.3446e-01,  4.0274e-02, -7.1399e-02, -1.8922e-01,\n",
            "         3.8897e-02,  2.2185e-01,  4.8261e-01, -1.1523e-02,  7.5718e-02,\n",
            "         2.1235e-01,  5.4592e-02,  9.6156e-03,  4.2663e-01,  8.5983e-02,\n",
            "         1.0064e-01,  6.0031e-02,  4.7728e-01,  4.0134e-01, -2.3754e-02,\n",
            "         9.5422e-02,  3.1526e-02, -6.5020e-01,  1.0796e-01, -1.6642e-01,\n",
            "         9.9941e-02,  6.2558e-01,  3.2048e-01,  7.1508e-01,  3.3158e-01,\n",
            "         1.5322e-02, -6.6209e-01, -4.0506e-01,  1.7457e-01,  4.8220e-01,\n",
            "        -2.2002e-01,  5.3904e-01,  3.4714e-01,  9.8586e-02,  8.0390e-02,\n",
            "         2.0089e-01,  1.8300e-01, -3.6393e-02, -4.2310e-01,  1.3756e-01,\n",
            "        -9.6636e-02, -9.9716e-02,  2.0609e-01,  1.9789e-01,  2.5616e-01,\n",
            "        -4.3449e-01, -3.4986e-01,  1.4369e-01,  2.3422e-01,  3.0880e-01,\n",
            "        -2.7852e-02, -4.1051e-02,  7.4634e-02, -1.7244e-01,  3.8289e-01,\n",
            "         1.9839e-01, -7.7241e-02, -4.4124e-01,  2.9075e-01, -5.2416e-01,\n",
            "         2.9588e-01,  1.7040e-02,  2.8744e-01,  3.6756e-02,  9.0866e-02,\n",
            "         3.3778e-02, -1.2508e-01,  1.5572e-01, -5.7165e-01,  4.0289e-01,\n",
            "         1.4747e-01, -5.6521e-01,  1.3782e-02, -8.6602e-02,  2.1293e-01,\n",
            "        -2.4821e-01,  2.1730e-01,  5.6958e-03,  2.2547e-01, -6.2217e-01,\n",
            "         5.0210e-01,  2.4873e-01,  2.5875e-04, -1.2270e-01,  2.0605e-01,\n",
            "        -8.2082e-02,  2.9169e-01,  1.3750e-02,  9.4892e-03,  1.8057e-01,\n",
            "        -3.8530e-02,  1.8867e-01, -2.4247e-01,  4.9159e-02,  2.5818e-01,\n",
            "        -2.5036e-01,  2.5982e-01,  3.3907e-01, -1.5664e-01,  9.9130e-02,\n",
            "         1.8401e-02,  1.2197e-01, -1.4181e-02,  2.2118e-01,  3.3821e-01,\n",
            "         2.2481e-01,  1.5490e-01, -6.6383e-02, -2.9805e-01, -1.5938e-01,\n",
            "         2.9933e-01,  8.8427e-02,  3.5441e-02,  8.6320e-02, -2.5250e-01,\n",
            "         3.7674e-01,  1.5596e-01, -5.0855e-01, -4.6168e-01, -2.7248e-01,\n",
            "         6.7860e-02,  5.8479e-01,  3.3766e-01,  4.5221e-01, -2.0569e-01,\n",
            "         2.9954e-01,  2.8098e-01,  1.0981e-01,  8.9411e-03,  4.8688e-01,\n",
            "        -4.0468e-02,  2.8820e-01, -2.6435e-01, -5.1676e-01,  5.1738e-01,\n",
            "         1.4539e-01, -3.3223e-02, -1.4808e-01,  1.9508e-02,  3.6967e-01,\n",
            "        -1.6608e-02, -2.2475e-01,  1.4631e-01, -1.9416e-01,  1.3418e-01,\n",
            "        -3.7868e-02, -2.9789e-01, -6.9901e-02,  3.1683e-01, -2.6169e-01,\n",
            "        -2.7478e-02, -7.9829e-02, -1.1179e-01, -6.1057e-01,  4.4193e-01,\n",
            "        -3.1011e-03, -1.8160e-01,  5.3663e-02, -2.6080e-02, -1.7619e-01,\n",
            "        -2.4988e-01, -3.3384e-01,  8.0341e-03,  3.1264e-01,  2.9735e-01,\n",
            "         1.2762e-01, -2.4906e-01,  4.4788e-03, -3.1357e-02, -3.7437e-01,\n",
            "         2.7828e-01, -2.5891e-01,  1.5538e-01,  1.6199e-01,  2.9562e-01,\n",
            "         1.2639e-01, -2.2374e-01, -1.1543e-02,  3.0133e-01,  2.8349e-01,\n",
            "        -4.2380e-02,  1.7023e-01,  1.2349e-01,  4.0114e-01,  1.9817e-01,\n",
            "        -5.9091e-01,  2.5321e-03, -2.3476e-01, -1.7186e-03,  1.2702e-01,\n",
            "        -4.9056e-01,  4.5392e-01, -7.2859e-02,  2.7290e-01, -6.2542e-02,\n",
            "         3.4030e-01, -1.1023e-01,  1.3788e-02,  2.3836e-01, -6.8149e-02,\n",
            "         1.7369e-01,  5.6165e-01,  3.5670e-01,  2.8227e-01, -1.8046e-01,\n",
            "         1.9946e-01,  1.6989e-01, -7.3735e-02,  4.7459e-01, -2.4828e-02,\n",
            "         2.3560e-01, -8.9787e-02,  2.3342e-01,  2.4337e-01, -2.2500e-02,\n",
            "         4.1006e-01, -3.1061e-02, -2.4219e-03,  8.9472e-02,  3.8741e-02,\n",
            "         3.4843e-01,  3.4757e-01,  1.3942e-01,  1.4170e-01, -7.7403e-02,\n",
            "         5.5251e-02,  1.3042e-01, -2.9123e-02, -8.0390e-03, -2.1771e-01,\n",
            "        -4.7071e-01,  2.8880e-01, -5.6073e-02,  2.8364e-01, -2.1317e-01,\n",
            "         3.0825e-01, -1.3168e-01,  1.9739e-01,  7.6817e-02,  4.1786e-01,\n",
            "         4.5482e-02, -5.3295e-02,  3.6407e-01, -4.1773e-01,  3.1742e-01,\n",
            "         3.5067e-01, -1.0231e-01,  7.1423e-02, -4.9579e-01, -3.9141e-01,\n",
            "         3.3156e-01,  2.1873e-01,  2.9328e-01,  7.2563e-02,  5.9669e-01,\n",
            "         2.2936e-01, -1.7261e-01, -2.2551e-01,  3.5065e-01, -9.8397e-02,\n",
            "        -1.4713e-01,  2.0106e-01,  5.0362e-02,  2.5697e-02, -6.5103e-01,\n",
            "         4.4427e-01,  4.0800e-01,  1.1384e-01, -2.8307e-01, -2.2819e-01,\n",
            "        -5.2285e-01,  7.3199e-02,  4.6403e-01, -4.5319e-01,  2.7495e-01,\n",
            "        -6.3768e-02,  4.0108e-01,  4.0255e-01, -2.4678e-01,  7.9959e-02,\n",
            "         1.1072e-02,  3.0235e-02,  2.0942e-01,  3.4186e-01, -1.1135e-01,\n",
            "         2.5182e-01, -4.5848e-01, -6.0956e-01, -4.1867e-01,  2.1411e-01,\n",
            "        -1.8914e-01,  7.9797e-02,  2.4427e-01,  5.2395e-02,  7.6187e-02,\n",
            "         2.0841e-01,  3.4047e-01,  1.7942e-01,  3.7310e-01, -2.5678e-02,\n",
            "        -7.7366e-01,  6.1833e-01,  2.1185e-02,  1.0947e-01,  2.5902e-01,\n",
            "         7.9423e-02,  2.1540e-01,  3.4119e-01, -7.2160e-01, -6.2345e-01,\n",
            "         4.0235e-01,  1.2661e-01,  4.5114e-01, -8.0063e-02,  2.5867e-01,\n",
            "         2.2880e-01,  4.9236e-01,  2.4209e-01, -2.3623e-01,  1.5775e-02,\n",
            "        -1.3957e-01, -2.8485e-01, -5.5569e-01, -1.9349e-01,  4.7906e-01,\n",
            "         6.9509e-02, -4.6184e-01, -3.7926e-01,  5.3321e-02,  7.4519e-02,\n",
            "        -1.0301e-01,  5.1299e-01, -4.9006e-02, -1.3193e-01, -3.6180e-01,\n",
            "         2.3551e-01,  1.6307e-01,  4.8436e-01,  3.8974e-02, -1.5085e-02],\n",
            "       requires_grad=True), Parameter containing:\n",
            "tensor([[-2.5454e-02,  4.3904e-02, -1.7581e-02,  ...,  3.0669e-03,\n",
            "          7.3675e-03,  2.1984e-02],\n",
            "        [-3.9126e-02, -5.5943e-03,  3.1932e-02,  ...,  8.2788e-02,\n",
            "         -4.6064e-02, -5.6308e-03],\n",
            "        [-1.8365e-02,  1.8794e-02, -3.8878e-02,  ...,  1.4406e-01,\n",
            "         -1.9796e-02, -1.4919e-02],\n",
            "        ...,\n",
            "        [ 2.9710e-03, -2.1856e-02, -1.4932e-02,  ..., -4.7016e-02,\n",
            "          3.1954e-02, -2.2485e-02],\n",
            "        [-1.9711e-02, -1.2164e-02,  1.2495e-04,  ...,  6.9991e-02,\n",
            "         -1.9873e-02, -3.2375e-03],\n",
            "        [ 2.1266e-02,  5.4180e-02,  3.3173e-02,  ...,  5.5508e-02,\n",
            "         -9.1196e-03,  3.6563e-02]], requires_grad=True), Parameter containing:\n",
            "tensor([ 9.7152e-02,  4.0832e-02,  4.2866e-02,  3.4306e-03,  6.2741e-02,\n",
            "        -5.8312e-02, -7.5357e-03,  2.8399e-01, -1.7043e-02, -4.0507e-02,\n",
            "         8.7851e-03, -5.7266e-01, -2.9154e-02,  1.4391e-01,  1.4392e-02,\n",
            "        -8.3439e-03, -2.4162e-01,  1.3964e-02,  1.3929e-01,  8.6854e-02,\n",
            "         1.1409e-01, -7.1173e-02, -3.5049e-02,  9.2286e-02, -5.2522e-02,\n",
            "        -7.3910e-02,  3.4322e-02,  3.0430e-02,  3.0992e-01,  1.2236e-01,\n",
            "         2.2604e-01,  3.3629e-01,  2.2899e-01, -2.7105e-02, -4.3279e-02,\n",
            "        -8.3345e-02,  1.0528e-02, -2.0894e-01, -2.2935e-02, -2.6389e-02,\n",
            "         2.1953e-01,  1.9423e-01,  2.3277e-02,  1.4392e-01, -9.3062e-02,\n",
            "         1.8013e-01, -1.2662e-02, -1.0137e-02,  8.4437e-02,  3.6730e-02,\n",
            "         2.2847e-01,  1.0493e-01,  1.9586e-01,  7.3636e-02,  1.1758e-01,\n",
            "         5.6315e-01, -3.8081e-02,  4.3414e-04,  3.6076e-02,  2.7229e-01,\n",
            "         2.0651e-02,  2.1444e-01, -2.9991e-02, -2.5528e-01,  3.3844e-02,\n",
            "         1.0636e-01,  2.6449e-02,  1.1475e-02, -4.2526e-01, -2.1467e-02,\n",
            "         9.7616e-04,  3.0771e-01, -3.3808e-02,  3.5528e-02,  6.0754e-02,\n",
            "         1.3334e-01, -3.8412e-02,  6.7774e-02,  1.7807e-01,  8.2370e-02,\n",
            "         2.0818e-01,  2.3722e-01,  3.0371e-01,  3.6478e-02,  1.0507e-01,\n",
            "        -4.6627e-02, -7.7375e-03,  1.7793e-01,  6.3001e-02, -3.5855e-02,\n",
            "         1.4772e-01,  2.4051e-01,  3.1002e-02, -1.6200e-02,  1.8276e-01,\n",
            "         1.8985e-02, -2.6641e-02,  1.2348e-01,  2.5963e-03,  3.1963e-02,\n",
            "         2.0982e-01,  6.4708e-02,  8.4628e-02,  6.5485e-03, -4.9342e-02,\n",
            "        -2.7371e-01, -2.6452e-03,  1.7426e-01,  2.7232e-02,  1.2984e-01,\n",
            "         6.0159e-03,  2.0356e-03,  1.6031e-02, -1.2285e-01,  1.1030e-01,\n",
            "        -3.3346e-03,  4.8213e-02,  2.9562e-02, -2.5573e-02,  3.7506e-02,\n",
            "         1.1381e-01,  2.7183e-01, -3.3329e-02,  1.0367e-01,  2.9598e-02,\n",
            "         1.1544e-01, -2.5450e-02,  6.4826e-02, -3.8768e-02,  1.6163e-01,\n",
            "         2.9302e-01,  3.7568e-02, -1.9937e-01,  1.9924e-02,  1.4326e-01,\n",
            "         1.5160e-01, -1.7070e-02,  1.3493e-01, -2.0385e-02,  1.6855e-01,\n",
            "         9.6924e-02,  4.6911e-01,  3.2893e-01, -2.5692e-02, -9.5477e-03,\n",
            "        -4.5409e-02, -1.4986e-02, -6.3728e-02, -6.9417e-02,  1.8709e-01,\n",
            "         7.4023e-02,  5.2342e-03, -4.3551e-02,  2.7373e-01,  1.3285e-01,\n",
            "        -2.3631e-03,  3.1904e-02,  3.5013e-01,  8.9535e-03,  8.8539e-02,\n",
            "         1.2730e-01,  5.5241e-04,  1.5595e-01,  1.0655e-01,  1.8178e-01,\n",
            "         8.2589e-03,  1.6602e-01, -8.5453e-03,  3.0347e-01,  2.3470e-01,\n",
            "         3.9151e-01, -2.1394e-02,  1.8098e-01, -1.5892e-01,  6.1714e-02,\n",
            "        -3.3579e-02,  3.6131e-02,  4.4498e-02, -4.0422e-02,  3.4414e-02,\n",
            "        -5.5768e-02,  9.2690e-02,  3.0784e-02, -7.7361e-05,  1.0155e-01,\n",
            "         2.6121e-01,  2.2398e-01,  1.2033e-01,  3.3884e-02,  1.6160e-02,\n",
            "        -3.8658e-02,  1.5197e-02,  2.3969e-01,  2.6812e-01, -5.5866e-01,\n",
            "         1.1162e-01,  1.3881e-01, -1.4021e-01, -8.4838e-03,  1.6527e-01,\n",
            "         2.5346e-01, -5.4558e-03,  1.0388e-01,  1.0486e-01, -1.7496e-01,\n",
            "         5.7093e-02,  7.6987e-02, -1.2635e-01,  4.6047e-03, -5.3969e-03,\n",
            "         9.1150e-02, -1.4390e-02, -3.0687e-01,  2.5678e-04, -1.9303e-02,\n",
            "         1.2612e-01,  1.0777e-01,  1.7653e-01,  4.5847e-02,  5.8164e-02,\n",
            "         1.1569e-02,  9.4478e-02,  2.1806e-01, -2.8677e-02, -2.3010e-02,\n",
            "         5.2428e-02,  1.3870e-01, -1.2203e-01,  2.8997e-02,  2.0187e-01,\n",
            "         7.8875e-02,  6.8330e-02,  1.3356e-01,  1.8024e-01,  2.7348e-01,\n",
            "         6.6216e-02,  4.1477e-02,  2.7516e-02,  5.3726e-02,  6.1970e-02,\n",
            "         2.6188e-01,  4.4430e-02,  2.6810e-02,  2.3049e-01,  5.2039e-02,\n",
            "         2.1678e-01,  1.4924e-01,  1.4257e-01, -3.5891e-02,  6.3690e-02,\n",
            "         1.2995e-01,  5.3524e-01,  8.6068e-03,  4.3137e-02, -1.4305e-01,\n",
            "         3.9776e-02,  2.3123e-01,  4.0467e-02,  1.9275e-01,  1.8979e-01,\n",
            "         6.7408e-02,  9.4222e-03,  3.4331e-01, -7.5954e-03, -8.1559e-02,\n",
            "         1.9818e-01,  6.9120e-02,  3.9416e-02,  1.8829e-01,  1.5018e-01,\n",
            "         2.2995e-01,  1.6266e-02, -1.4122e-02,  1.6602e-02,  9.1538e-03,\n",
            "         1.7422e-01,  3.0903e-02,  9.7888e-02,  2.8067e-02,  1.3505e-01,\n",
            "        -9.0373e-02, -3.8155e-02,  8.5108e-02,  1.4431e-01,  2.0169e-02,\n",
            "         2.0596e-01,  2.5956e-01,  1.5509e-01,  7.3583e-02,  1.3797e-01,\n",
            "         1.0367e-01, -2.1101e-03, -3.8529e-01, -3.9774e-02,  9.3323e-02,\n",
            "         1.7441e-01, -1.0477e-01,  9.4984e-02,  1.3068e-01,  1.3858e-01,\n",
            "         3.0647e-01,  7.8677e-02,  3.0972e-02,  2.4021e-01, -1.1882e-02,\n",
            "         4.1039e-02,  1.0267e-01, -1.4911e-01,  2.9051e-01,  1.1804e-01,\n",
            "         2.7498e-02, -3.2934e-02, -4.3815e-02, -2.4869e-02, -4.0696e-02,\n",
            "         2.2696e-01, -1.4568e-02,  1.1086e-01,  7.5183e-03,  2.7490e-01,\n",
            "        -1.9790e-02,  8.0791e-02,  2.7413e-01,  1.8000e-01, -5.1767e-02,\n",
            "         2.5260e-01,  1.1529e-03, -1.1196e-01, -3.5284e-02,  1.1748e-01,\n",
            "         2.1185e-01,  3.5481e-02, -3.7934e-02,  2.9786e-01, -6.2047e-03,\n",
            "         2.9696e-02, -2.3141e-01, -1.1170e-02,  2.1438e-02, -3.6913e-03,\n",
            "        -4.3579e-02,  2.5833e-01, -4.1774e-02,  1.8422e-01,  2.4767e-03,\n",
            "        -2.1104e-01,  9.4405e-02, -1.1718e-01,  4.7851e-02,  9.3263e-02,\n",
            "         6.5062e-02, -1.7456e-01,  8.2506e-02,  1.8279e-01,  1.5861e-01,\n",
            "        -3.3185e-01,  2.7951e-01, -1.3819e-02,  6.1539e-02, -1.0948e-02,\n",
            "         2.6420e-01, -2.7012e-01,  1.6100e-03,  1.7177e-01, -1.3687e-01,\n",
            "         3.3019e-02,  1.7043e-02,  1.4421e-01, -2.1997e-02,  2.1562e-01,\n",
            "         1.2571e-02,  2.8499e-01, -2.0309e-02,  2.2536e-01, -1.6813e-01,\n",
            "         1.9162e-02,  7.5430e-02,  7.1830e-02,  1.0198e-01,  1.7547e-01,\n",
            "         1.9239e-02,  1.3223e-01,  1.3630e-01, -5.2527e-01, -1.3246e-02,\n",
            "         2.3794e-01,  2.0710e-03, -3.9197e-02,  2.9480e-01,  1.5280e-01,\n",
            "         2.3597e-01, -4.7244e-02,  1.1651e-01, -2.4551e-02, -3.6232e-02,\n",
            "        -8.9470e-03, -1.1159e-01,  3.8581e-02,  7.8001e-02,  2.5168e-02,\n",
            "         1.4911e-01, -1.1749e-02, -9.8955e-03,  7.2338e-02,  2.0348e-01,\n",
            "         8.4311e-02,  8.5568e-02,  3.2993e-02,  8.4139e-02,  1.5694e-01,\n",
            "        -3.6399e-01,  2.1015e-02,  1.2111e-01,  1.5565e-01, -5.2254e-03,\n",
            "         4.0820e-02,  3.5425e-02,  2.4701e-01,  9.6422e-02, -4.5291e-02,\n",
            "         2.3168e-01,  1.0056e-01,  9.2222e-03, -2.9504e-02,  1.1199e-02,\n",
            "         1.8991e-01,  1.6354e-01, -8.7853e-03,  1.3199e-01, -5.6640e-01,\n",
            "         1.3829e-02,  1.7309e-01,  1.2789e-01,  2.4656e-01,  1.0126e-02,\n",
            "        -5.2362e-02,  8.1495e-02,  2.6036e-01,  2.3246e-01, -2.6831e-02,\n",
            "         8.7841e-02,  9.9542e-02,  2.4732e-01, -4.3554e-04, -1.7961e-04,\n",
            "         9.9066e-02,  1.3316e-01,  1.2072e-01,  4.4863e-02,  7.6422e-02,\n",
            "         1.2598e-01,  3.2239e-01,  1.8981e-01,  1.5185e-01,  9.3408e-02,\n",
            "        -5.8230e-02,  5.0197e-02,  7.8882e-02], requires_grad=True), Parameter containing:\n",
            "tensor([[ 0.0256,  0.0021, -0.0764,  ...,  0.0034, -0.0480, -0.0376],\n",
            "        [ 0.0170, -0.0095, -0.0422,  ...,  0.0155, -0.0059, -0.0060],\n",
            "        [ 0.0383,  0.0254,  0.0358,  ..., -0.0061, -0.0278, -0.0161],\n",
            "        ...,\n",
            "        [ 0.0409,  0.0269, -0.0051,  ..., -0.0012,  0.0155,  0.0160],\n",
            "        [-0.0146, -0.0352,  0.0138,  ...,  0.0326, -0.0286,  0.0240],\n",
            "        [ 0.0319,  0.0304, -0.0054,  ..., -0.0203, -0.0364, -0.0023]],\n",
            "       requires_grad=True), Parameter containing:\n",
            "tensor([-0.0499,  0.0499,  0.1703, -0.0101,  0.0464,  0.0066,  0.0633,  0.0667,\n",
            "         0.0260,  0.0609,  0.0585, -0.0429,  0.0451,  0.1347,  0.2204,  0.0716,\n",
            "         0.3050,  0.4057,  0.0739,  0.0308,  0.3065,  0.1522,  0.2171,  0.1780,\n",
            "         0.1103,  0.0621,  0.1236, -0.0144,  0.0680,  0.0401,  0.0116,  0.0024,\n",
            "         0.0494, -0.0578,  0.0045,  0.0309, -0.0901,  0.2013, -0.0298, -0.0385,\n",
            "         0.0962,  0.0166,  0.2187,  0.2244,  0.1144,  0.0889,  0.2674,  0.2102,\n",
            "        -0.0276,  0.1424, -0.0389,  0.0270,  0.3154,  0.0071,  0.2420,  0.0030,\n",
            "        -0.0233, -0.0925,  0.0331, -0.0105,  0.0196,  0.1086,  0.0311, -0.0079,\n",
            "         0.0339,  0.0817,  0.0595,  0.0396,  0.1806,  0.0031, -0.0216, -0.0405,\n",
            "        -0.0069, -0.7471, -0.0463,  0.0102,  0.1980,  0.0710,  0.0979, -0.0459,\n",
            "         0.0810,  0.2808,  0.0200,  0.0366,  0.0019, -0.0454,  0.1640, -0.0451,\n",
            "         0.1132,  0.2817, -0.0383, -0.0507,  0.1781,  0.2451,  0.0970, -0.0162,\n",
            "         0.1695,  0.0058,  0.1692,  0.1945,  0.0131,  0.0457,  0.2757, -0.0707,\n",
            "        -0.0019,  0.0344,  0.1104,  0.0953, -0.0542,  0.0324, -0.0163,  0.0193,\n",
            "         0.0483, -0.1598, -0.0088], requires_grad=True), Parameter containing:\n",
            "tensor([[-6.7780e-02,  8.3688e-03,  1.9871e-02, -8.6742e-06, -1.0752e-02,\n",
            "         -1.1615e-03,  8.4461e-02, -2.8894e-02, -5.2200e-02, -7.4965e-02,\n",
            "          4.7179e-02, -8.9763e-02, -1.8273e-02,  6.0947e-02,  4.6990e-02,\n",
            "         -5.4631e-03,  5.2719e-02,  8.3326e-02,  6.7883e-02, -4.5287e-02,\n",
            "          2.6968e-02,  3.0569e-02,  3.4149e-03,  5.0515e-02,  4.5350e-02,\n",
            "          7.1553e-02,  7.0653e-02, -7.8182e-02,  2.7242e-02,  7.6895e-02,\n",
            "         -8.5709e-02, -7.5894e-02,  8.0642e-02, -8.2166e-02, -7.9229e-02,\n",
            "         -1.2969e-03, -7.4736e-02, -1.4478e-01, -6.1225e-02,  6.6379e-02,\n",
            "         -3.9660e-04, -7.0078e-04, -7.4456e-02,  4.1611e-02,  5.4218e-02,\n",
            "          4.1128e-02,  9.6174e-03, -4.4046e-02, -6.2210e-02, -6.3930e-02,\n",
            "          9.1167e-04, -8.2386e-02,  2.2607e-02, -5.2441e-03, -1.0376e-01,\n",
            "         -7.8164e-02, -8.0811e-02,  9.8372e-02,  2.4821e-02, -6.9023e-02,\n",
            "         -4.6346e-02, -7.9134e-04,  8.6981e-02, -1.1622e-02, -7.6661e-02,\n",
            "          6.7390e-02,  4.8330e-02,  4.9571e-02,  4.3163e-02, -1.9463e-02,\n",
            "         -4.5842e-02, -7.1127e-02, -5.8070e-03, -9.2934e-03, -1.9314e-02,\n",
            "         -2.8631e-02,  8.5814e-02,  4.8961e-02,  2.7221e-02,  1.7004e-04,\n",
            "          3.8056e-02,  1.0492e-02,  5.0659e-02, -5.8256e-02, -2.6791e-02,\n",
            "         -4.7990e-02, -9.8798e-02, -5.4909e-02, -9.3005e-02,  7.4823e-02,\n",
            "         -7.3571e-02, -5.8661e-02,  5.0093e-02,  6.6651e-02,  3.0683e-02,\n",
            "          1.0553e-01,  7.6691e-02, -5.3223e-02, -1.0044e-01,  3.1431e-02,\n",
            "          8.5437e-02,  8.0968e-02,  4.8646e-02, -2.1196e-03,  1.8443e-02,\n",
            "          7.4232e-02,  2.9936e-02,  5.9796e-03, -6.2292e-02,  7.3836e-04,\n",
            "         -1.0917e-02,  4.5608e-04,  7.0708e-02, -1.0680e-01,  8.8740e-02]],\n",
            "       requires_grad=True), Parameter containing:\n",
            "tensor([0.7192], requires_grad=True)]\n"
          ]
        }
      ],
      "source": [
        "#%%script echo skipping\n",
        "\n",
        "print(list(net.parameters()))"
      ]
    },
    {
      "cell_type": "code",
      "execution_count": 114,
      "metadata": {
        "colab": {
          "base_uri": "https://localhost:8080/"
        },
        "id": "1NZ8iVA7UZio",
        "outputId": "6341def7-b7e7-44eb-c91f-edbe1d22ca1d"
      },
      "outputs": [
        {
          "name": "stdout",
          "output_type": "stream",
          "text": [
            "[Parameter containing:\n",
            "tensor([[ 0.3504, -0.2879,  0.1828,  ...,  0.0402,  0.2566,  0.2817],\n",
            "        [-0.2654,  0.1302, -0.1816,  ...,  0.0689,  0.4037,  0.4959],\n",
            "        [ 0.2933,  0.1861, -0.1663,  ...,  0.0432,  0.1929,  0.0891],\n",
            "        ...,\n",
            "        [-0.2636, -0.1010, -0.1615,  ...,  0.0863,  0.3179,  0.2440],\n",
            "        [ 0.2111,  0.2196, -0.1350,  ..., -0.2351, -0.1794, -0.2922],\n",
            "        [-0.0510, -0.0969,  0.1921,  ...,  0.4085,  0.2938, -0.0357]],\n",
            "       requires_grad=True), Parameter containing:\n",
            "tensor([ 2.8997e-01,  3.5264e-01, -6.9685e-02, -3.3043e-01,  1.8533e-01,\n",
            "        -4.3741e-01, -3.7039e-01,  3.3101e-01, -8.5627e-02,  4.6318e-01,\n",
            "         3.2945e-01, -2.1535e-01,  2.6189e-01,  1.5061e-01,  5.1616e-02,\n",
            "        -6.5619e-03, -2.1086e-01,  1.3449e-02,  2.7512e-01,  2.6110e-01,\n",
            "        -4.2449e-03,  1.3007e-01, -1.7768e-02,  1.8892e-01,  5.0989e-01,\n",
            "        -1.2318e-01,  1.9665e-01, -3.8529e-01, -8.0155e-02,  3.9873e-01,\n",
            "        -1.5900e-01,  1.8988e-01,  5.3033e-01,  1.7745e-01, -1.0322e-02,\n",
            "         1.4412e-01, -2.6227e-01,  4.9957e-01, -4.6553e-02, -5.4239e-02,\n",
            "        -2.4386e-01,  1.4635e-01, -8.0317e-02, -4.1769e-02,  2.6824e-01,\n",
            "        -5.0070e-01, -1.8917e-02, -2.2157e-02, -2.0510e-01,  4.8748e-02,\n",
            "         2.4852e-01, -7.3533e-02,  1.5428e-01,  3.8928e-02, -8.5301e-02,\n",
            "         1.4044e-01,  3.0517e-01,  2.0031e-01,  1.1788e-01,  3.9861e-04,\n",
            "        -2.5966e-01, -5.2139e-02,  1.8725e-02,  1.1942e-02, -1.1853e-01,\n",
            "        -6.7313e-02, -4.5214e-02, -4.8354e-03, -1.7318e-02,  1.2494e-01,\n",
            "        -3.3468e-01,  2.7203e-01,  8.7282e-03, -2.6802e-01, -2.6045e-01,\n",
            "         1.0262e-01,  1.6231e-01, -1.2998e-01,  1.3671e-01, -1.2924e-01,\n",
            "        -4.9164e-01,  3.0687e-01,  4.3385e-02,  2.5847e-01, -1.9456e-01,\n",
            "         1.8641e-02,  1.8166e-01, -3.6708e-01,  3.2493e-01,  3.1519e-01,\n",
            "         1.2311e-01, -2.2609e-01,  5.5811e-02, -3.6647e-01,  2.3106e-01,\n",
            "         2.3708e-02, -1.9404e-01,  3.5453e-01,  2.8690e-03,  4.6797e-03,\n",
            "         1.7893e-01, -1.3788e-01, -8.4880e-01,  9.7960e-02, -1.5029e-01,\n",
            "         3.4492e-01,  3.4164e-01,  2.9808e-01,  3.4203e-01, -7.6775e-01,\n",
            "        -2.3737e-01, -2.3482e-01,  4.4266e-01,  2.0388e-01,  3.4546e-02,\n",
            "         2.4525e-01,  2.7476e-01,  9.3855e-04, -1.3992e-01,  2.0327e-01,\n",
            "         2.9438e-01, -1.0908e-02, -3.5372e-02,  3.8930e-02,  7.2784e-02,\n",
            "         1.9056e-02,  3.4685e-02, -6.8893e-02,  5.8287e-01,  1.5311e-01,\n",
            "        -2.4182e-01,  7.3985e-02, -4.9526e-01,  2.6322e-02, -4.9479e-01,\n",
            "        -4.4023e-01, -1.1030e-01,  1.2405e-01,  2.3640e-01,  1.0307e-02,\n",
            "         1.2027e-01, -3.8209e-02,  1.6930e-01,  1.5125e-01,  9.2575e-03,\n",
            "        -2.4152e-01, -1.7445e-01, -8.8111e-02,  1.4695e-01, -1.1370e-01,\n",
            "         1.6163e-01,  3.9083e-01, -3.8980e-01,  1.3199e-01,  3.2623e-01,\n",
            "         1.8745e-01,  2.0960e-01,  1.5033e-01,  9.5676e-02, -2.1173e-01,\n",
            "        -8.3349e-02, -1.9107e-01,  2.6881e-01,  4.3283e-01,  4.5337e-01,\n",
            "         8.4527e-02, -1.5741e-01,  1.9452e-01,  5.9871e-02, -6.5759e-02,\n",
            "         2.5042e-01,  2.1400e-01, -2.1909e-01,  2.1895e-01,  6.5273e-01,\n",
            "         4.1298e-01,  9.6147e-02,  1.3731e-01, -1.0264e-02, -2.6071e-01,\n",
            "         4.2894e-01, -9.3590e-02,  1.7657e-01, -4.9989e-01,  4.8996e-02,\n",
            "         5.2623e-01,  5.6505e-01,  5.9380e-01,  4.0253e-01,  8.4116e-02,\n",
            "         1.8389e-01,  4.7322e-01, -4.3868e-01,  6.1965e-02,  3.2891e-01,\n",
            "        -4.2606e-01, -7.8006e-02, -3.0119e-01, -6.8416e-02,  1.3916e-02,\n",
            "        -1.8910e-01,  3.8705e-02,  2.7596e-02,  1.2454e-01, -2.9720e-01,\n",
            "        -1.1185e-01, -2.1132e-01, -1.1680e-02, -1.8926e-02,  5.5268e-02,\n",
            "        -3.1986e-03,  4.3446e-01,  4.0274e-02, -7.1399e-02, -1.8922e-01,\n",
            "         3.8897e-02,  2.2185e-01,  4.8261e-01, -1.1523e-02,  7.5718e-02,\n",
            "         2.1235e-01,  5.4592e-02,  9.6156e-03,  4.2663e-01,  8.5983e-02,\n",
            "         1.0064e-01,  6.0031e-02,  4.7728e-01,  4.0134e-01, -2.3754e-02,\n",
            "         9.5422e-02,  3.1526e-02, -6.5020e-01,  1.0796e-01, -1.6642e-01,\n",
            "         9.9941e-02,  6.2558e-01,  3.2048e-01,  7.1508e-01,  3.3158e-01,\n",
            "         1.5322e-02, -6.6209e-01, -4.0506e-01,  1.7457e-01,  4.8220e-01,\n",
            "        -2.2002e-01,  5.3904e-01,  3.4714e-01,  9.8586e-02,  8.0390e-02,\n",
            "         2.0089e-01,  1.8300e-01, -3.6393e-02, -4.2310e-01,  1.3756e-01,\n",
            "        -9.6636e-02, -9.9716e-02,  2.0609e-01,  1.9789e-01,  2.5616e-01,\n",
            "        -4.3449e-01, -3.4986e-01,  1.4369e-01,  2.3422e-01,  3.0880e-01,\n",
            "        -2.7852e-02, -4.1051e-02,  7.4634e-02, -1.7244e-01,  3.8289e-01,\n",
            "         1.9839e-01, -7.7241e-02, -4.4124e-01,  2.9075e-01, -5.2416e-01,\n",
            "         2.9588e-01,  1.7040e-02,  2.8744e-01,  3.6756e-02,  9.0866e-02,\n",
            "         3.3778e-02, -1.2508e-01,  1.5572e-01, -5.7165e-01,  4.0289e-01,\n",
            "         1.4747e-01, -5.6521e-01,  1.3782e-02, -8.6602e-02,  2.1293e-01,\n",
            "        -2.4821e-01,  2.1730e-01,  5.6958e-03,  2.2547e-01, -6.2217e-01,\n",
            "         5.0210e-01,  2.4873e-01,  2.5875e-04, -1.2270e-01,  2.0605e-01,\n",
            "        -8.2082e-02,  2.9169e-01,  1.3750e-02,  9.4892e-03,  1.8057e-01,\n",
            "        -3.8530e-02,  1.8867e-01, -2.4247e-01,  4.9159e-02,  2.5818e-01,\n",
            "        -2.5036e-01,  2.5982e-01,  3.3907e-01, -1.5664e-01,  9.9130e-02,\n",
            "         1.8401e-02,  1.2197e-01, -1.4181e-02,  2.2118e-01,  3.3821e-01,\n",
            "         2.2481e-01,  1.5490e-01, -6.6383e-02, -2.9805e-01, -1.5938e-01,\n",
            "         2.9933e-01,  8.8427e-02,  3.5441e-02,  8.6320e-02, -2.5250e-01,\n",
            "         3.7674e-01,  1.5596e-01, -5.0855e-01, -4.6168e-01, -2.7248e-01,\n",
            "         6.7860e-02,  5.8479e-01,  3.3766e-01,  4.5221e-01, -2.0569e-01,\n",
            "         2.9954e-01,  2.8098e-01,  1.0981e-01,  8.9411e-03,  4.8688e-01,\n",
            "        -4.0468e-02,  2.8820e-01, -2.6435e-01, -5.1676e-01,  5.1738e-01,\n",
            "         1.4539e-01, -3.3223e-02, -1.4808e-01,  1.9508e-02,  3.6967e-01,\n",
            "        -1.6608e-02, -2.2475e-01,  1.4631e-01, -1.9416e-01,  1.3418e-01,\n",
            "        -3.7868e-02, -2.9789e-01, -6.9901e-02,  3.1683e-01, -2.6169e-01,\n",
            "        -2.7478e-02, -7.9829e-02, -1.1179e-01, -6.1057e-01,  4.4193e-01,\n",
            "        -3.1011e-03, -1.8160e-01,  5.3663e-02, -2.6080e-02, -1.7619e-01,\n",
            "        -2.4988e-01, -3.3384e-01,  8.0341e-03,  3.1264e-01,  2.9735e-01,\n",
            "         1.2762e-01, -2.4906e-01,  4.4788e-03, -3.1357e-02, -3.7437e-01,\n",
            "         2.7828e-01, -2.5891e-01,  1.5538e-01,  1.6199e-01,  2.9562e-01,\n",
            "         1.2639e-01, -2.2374e-01, -1.1543e-02,  3.0133e-01,  2.8349e-01,\n",
            "        -4.2380e-02,  1.7023e-01,  1.2349e-01,  4.0114e-01,  1.9817e-01,\n",
            "        -5.9091e-01,  2.5321e-03, -2.3476e-01, -1.7186e-03,  1.2702e-01,\n",
            "        -4.9056e-01,  4.5392e-01, -7.2859e-02,  2.7290e-01, -6.2542e-02,\n",
            "         3.4030e-01, -1.1023e-01,  1.3788e-02,  2.3836e-01, -6.8149e-02,\n",
            "         1.7369e-01,  5.6165e-01,  3.5670e-01,  2.8227e-01, -1.8046e-01,\n",
            "         1.9946e-01,  1.6989e-01, -7.3735e-02,  4.7459e-01, -2.4828e-02,\n",
            "         2.3560e-01, -8.9787e-02,  2.3342e-01,  2.4337e-01, -2.2500e-02,\n",
            "         4.1006e-01, -3.1061e-02, -2.4219e-03,  8.9472e-02,  3.8741e-02,\n",
            "         3.4843e-01,  3.4757e-01,  1.3942e-01,  1.4170e-01, -7.7403e-02,\n",
            "         5.5251e-02,  1.3042e-01, -2.9123e-02, -8.0390e-03, -2.1771e-01,\n",
            "        -4.7071e-01,  2.8880e-01, -5.6073e-02,  2.8364e-01, -2.1317e-01,\n",
            "         3.0825e-01, -1.3168e-01,  1.9739e-01,  7.6817e-02,  4.1786e-01,\n",
            "         4.5482e-02, -5.3295e-02,  3.6407e-01, -4.1773e-01,  3.1742e-01,\n",
            "         3.5067e-01, -1.0231e-01,  7.1423e-02, -4.9579e-01, -3.9141e-01,\n",
            "         3.3156e-01,  2.1873e-01,  2.9328e-01,  7.2563e-02,  5.9669e-01,\n",
            "         2.2936e-01, -1.7261e-01, -2.2551e-01,  3.5065e-01, -9.8397e-02,\n",
            "        -1.4713e-01,  2.0106e-01,  5.0362e-02,  2.5697e-02, -6.5103e-01,\n",
            "         4.4427e-01,  4.0800e-01,  1.1384e-01, -2.8307e-01, -2.2819e-01,\n",
            "        -5.2285e-01,  7.3199e-02,  4.6403e-01, -4.5319e-01,  2.7495e-01,\n",
            "        -6.3768e-02,  4.0108e-01,  4.0255e-01, -2.4678e-01,  7.9959e-02,\n",
            "         1.1072e-02,  3.0235e-02,  2.0942e-01,  3.4186e-01, -1.1135e-01,\n",
            "         2.5182e-01, -4.5848e-01, -6.0956e-01, -4.1867e-01,  2.1411e-01,\n",
            "        -1.8914e-01,  7.9797e-02,  2.4427e-01,  5.2395e-02,  7.6187e-02,\n",
            "         2.0841e-01,  3.4047e-01,  1.7942e-01,  3.7310e-01, -2.5678e-02,\n",
            "        -7.7366e-01,  6.1833e-01,  2.1185e-02,  1.0947e-01,  2.5902e-01,\n",
            "         7.9423e-02,  2.1540e-01,  3.4119e-01, -7.2160e-01, -6.2345e-01,\n",
            "         4.0235e-01,  1.2661e-01,  4.5114e-01, -8.0063e-02,  2.5867e-01,\n",
            "         2.2880e-01,  4.9236e-01,  2.4209e-01, -2.3623e-01,  1.5775e-02,\n",
            "        -1.3957e-01, -2.8485e-01, -5.5569e-01, -1.9349e-01,  4.7906e-01,\n",
            "         6.9509e-02, -4.6184e-01, -3.7926e-01,  5.3321e-02,  7.4519e-02,\n",
            "        -1.0301e-01,  5.1299e-01, -4.9006e-02, -1.3193e-01, -3.6180e-01,\n",
            "         2.3551e-01,  1.6307e-01,  4.8436e-01,  3.8974e-02, -1.5085e-02],\n",
            "       requires_grad=True), Parameter containing:\n",
            "tensor([[-2.5454e-02,  4.3904e-02, -1.7581e-02,  ...,  3.0669e-03,\n",
            "          7.3675e-03,  2.1984e-02],\n",
            "        [-3.9126e-02, -5.5943e-03,  3.1932e-02,  ...,  8.2788e-02,\n",
            "         -4.6064e-02, -5.6308e-03],\n",
            "        [-1.8365e-02,  1.8794e-02, -3.8878e-02,  ...,  1.4406e-01,\n",
            "         -1.9796e-02, -1.4919e-02],\n",
            "        ...,\n",
            "        [ 2.9710e-03, -2.1856e-02, -1.4932e-02,  ..., -4.7016e-02,\n",
            "          3.1954e-02, -2.2485e-02],\n",
            "        [-1.9711e-02, -1.2164e-02,  1.2495e-04,  ...,  6.9991e-02,\n",
            "         -1.9873e-02, -3.2375e-03],\n",
            "        [ 2.1266e-02,  5.4180e-02,  3.3173e-02,  ...,  5.5508e-02,\n",
            "         -9.1196e-03,  3.6563e-02]], requires_grad=True), Parameter containing:\n",
            "tensor([ 9.7152e-02,  4.0832e-02,  4.2866e-02,  3.4306e-03,  6.2741e-02,\n",
            "        -5.8312e-02, -7.5357e-03,  2.8399e-01, -1.7043e-02, -4.0507e-02,\n",
            "         8.7851e-03, -5.7266e-01, -2.9154e-02,  1.4391e-01,  1.4392e-02,\n",
            "        -8.3439e-03, -2.4162e-01,  1.3964e-02,  1.3929e-01,  8.6854e-02,\n",
            "         1.1409e-01, -7.1173e-02, -3.5049e-02,  9.2286e-02, -5.2522e-02,\n",
            "        -7.3910e-02,  3.4322e-02,  3.0430e-02,  3.0992e-01,  1.2236e-01,\n",
            "         2.2604e-01,  3.3629e-01,  2.2899e-01, -2.7105e-02, -4.3279e-02,\n",
            "        -8.3345e-02,  1.0528e-02, -2.0894e-01, -2.2935e-02, -2.6389e-02,\n",
            "         2.1953e-01,  1.9423e-01,  2.3277e-02,  1.4392e-01, -9.3062e-02,\n",
            "         1.8013e-01, -1.2662e-02, -1.0137e-02,  8.4437e-02,  3.6730e-02,\n",
            "         2.2847e-01,  1.0493e-01,  1.9586e-01,  7.3636e-02,  1.1758e-01,\n",
            "         5.6315e-01, -3.8081e-02,  4.3414e-04,  3.6076e-02,  2.7229e-01,\n",
            "         2.0651e-02,  2.1444e-01, -2.9991e-02, -2.5528e-01,  3.3844e-02,\n",
            "         1.0636e-01,  2.6449e-02,  1.1475e-02, -4.2526e-01, -2.1467e-02,\n",
            "         9.7616e-04,  3.0771e-01, -3.3808e-02,  3.5528e-02,  6.0754e-02,\n",
            "         1.3334e-01, -3.8412e-02,  6.7774e-02,  1.7807e-01,  8.2370e-02,\n",
            "         2.0818e-01,  2.3722e-01,  3.0371e-01,  3.6478e-02,  1.0507e-01,\n",
            "        -4.6627e-02, -7.7375e-03,  1.7793e-01,  6.3001e-02, -3.5855e-02,\n",
            "         1.4772e-01,  2.4051e-01,  3.1002e-02, -1.6200e-02,  1.8276e-01,\n",
            "         1.8985e-02, -2.6641e-02,  1.2348e-01,  2.5963e-03,  3.1963e-02,\n",
            "         2.0982e-01,  6.4708e-02,  8.4628e-02,  6.5485e-03, -4.9342e-02,\n",
            "        -2.7371e-01, -2.6452e-03,  1.7426e-01,  2.7232e-02,  1.2984e-01,\n",
            "         6.0159e-03,  2.0356e-03,  1.6031e-02, -1.2285e-01,  1.1030e-01,\n",
            "        -3.3346e-03,  4.8213e-02,  2.9562e-02, -2.5573e-02,  3.7506e-02,\n",
            "         1.1381e-01,  2.7183e-01, -3.3329e-02,  1.0367e-01,  2.9598e-02,\n",
            "         1.1544e-01, -2.5450e-02,  6.4826e-02, -3.8768e-02,  1.6163e-01,\n",
            "         2.9302e-01,  3.7568e-02, -1.9937e-01,  1.9924e-02,  1.4326e-01,\n",
            "         1.5160e-01, -1.7070e-02,  1.3493e-01, -2.0385e-02,  1.6855e-01,\n",
            "         9.6924e-02,  4.6911e-01,  3.2893e-01, -2.5692e-02, -9.5477e-03,\n",
            "        -4.5409e-02, -1.4986e-02, -6.3728e-02, -6.9417e-02,  1.8709e-01,\n",
            "         7.4023e-02,  5.2342e-03, -4.3551e-02,  2.7373e-01,  1.3285e-01,\n",
            "        -2.3631e-03,  3.1904e-02,  3.5013e-01,  8.9535e-03,  8.8539e-02,\n",
            "         1.2730e-01,  5.5241e-04,  1.5595e-01,  1.0655e-01,  1.8178e-01,\n",
            "         8.2589e-03,  1.6602e-01, -8.5453e-03,  3.0347e-01,  2.3470e-01,\n",
            "         3.9151e-01, -2.1394e-02,  1.8098e-01, -1.5892e-01,  6.1714e-02,\n",
            "        -3.3579e-02,  3.6131e-02,  4.4498e-02, -4.0422e-02,  3.4414e-02,\n",
            "        -5.5768e-02,  9.2690e-02,  3.0784e-02, -7.7361e-05,  1.0155e-01,\n",
            "         2.6121e-01,  2.2398e-01,  1.2033e-01,  3.3884e-02,  1.6160e-02,\n",
            "        -3.8658e-02,  1.5197e-02,  2.3969e-01,  2.6812e-01, -5.5866e-01,\n",
            "         1.1162e-01,  1.3881e-01, -1.4021e-01, -8.4838e-03,  1.6527e-01,\n",
            "         2.5346e-01, -5.4558e-03,  1.0388e-01,  1.0486e-01, -1.7496e-01,\n",
            "         5.7093e-02,  7.6987e-02, -1.2635e-01,  4.6047e-03, -5.3969e-03,\n",
            "         9.1150e-02, -1.4390e-02, -3.0687e-01,  2.5678e-04, -1.9303e-02,\n",
            "         1.2612e-01,  1.0777e-01,  1.7653e-01,  4.5847e-02,  5.8164e-02,\n",
            "         1.1569e-02,  9.4478e-02,  2.1806e-01, -2.8677e-02, -2.3010e-02,\n",
            "         5.2428e-02,  1.3870e-01, -1.2203e-01,  2.8997e-02,  2.0187e-01,\n",
            "         7.8875e-02,  6.8330e-02,  1.3356e-01,  1.8024e-01,  2.7348e-01,\n",
            "         6.6216e-02,  4.1477e-02,  2.7516e-02,  5.3726e-02,  6.1970e-02,\n",
            "         2.6188e-01,  4.4430e-02,  2.6810e-02,  2.3049e-01,  5.2039e-02,\n",
            "         2.1678e-01,  1.4924e-01,  1.4257e-01, -3.5891e-02,  6.3690e-02,\n",
            "         1.2995e-01,  5.3524e-01,  8.6068e-03,  4.3137e-02, -1.4305e-01,\n",
            "         3.9776e-02,  2.3123e-01,  4.0467e-02,  1.9275e-01,  1.8979e-01,\n",
            "         6.7408e-02,  9.4222e-03,  3.4331e-01, -7.5954e-03, -8.1559e-02,\n",
            "         1.9818e-01,  6.9120e-02,  3.9416e-02,  1.8829e-01,  1.5018e-01,\n",
            "         2.2995e-01,  1.6266e-02, -1.4122e-02,  1.6602e-02,  9.1538e-03,\n",
            "         1.7422e-01,  3.0903e-02,  9.7888e-02,  2.8067e-02,  1.3505e-01,\n",
            "        -9.0373e-02, -3.8155e-02,  8.5108e-02,  1.4431e-01,  2.0169e-02,\n",
            "         2.0596e-01,  2.5956e-01,  1.5509e-01,  7.3583e-02,  1.3797e-01,\n",
            "         1.0367e-01, -2.1101e-03, -3.8529e-01, -3.9774e-02,  9.3323e-02,\n",
            "         1.7441e-01, -1.0477e-01,  9.4984e-02,  1.3068e-01,  1.3858e-01,\n",
            "         3.0647e-01,  7.8677e-02,  3.0972e-02,  2.4021e-01, -1.1882e-02,\n",
            "         4.1039e-02,  1.0267e-01, -1.4911e-01,  2.9051e-01,  1.1804e-01,\n",
            "         2.7498e-02, -3.2934e-02, -4.3815e-02, -2.4869e-02, -4.0696e-02,\n",
            "         2.2696e-01, -1.4568e-02,  1.1086e-01,  7.5183e-03,  2.7490e-01,\n",
            "        -1.9790e-02,  8.0791e-02,  2.7413e-01,  1.8000e-01, -5.1767e-02,\n",
            "         2.5260e-01,  1.1529e-03, -1.1196e-01, -3.5284e-02,  1.1748e-01,\n",
            "         2.1185e-01,  3.5481e-02, -3.7934e-02,  2.9786e-01, -6.2047e-03,\n",
            "         2.9696e-02, -2.3141e-01, -1.1170e-02,  2.1438e-02, -3.6913e-03,\n",
            "        -4.3579e-02,  2.5833e-01, -4.1774e-02,  1.8422e-01,  2.4767e-03,\n",
            "        -2.1104e-01,  9.4405e-02, -1.1718e-01,  4.7851e-02,  9.3263e-02,\n",
            "         6.5062e-02, -1.7456e-01,  8.2506e-02,  1.8279e-01,  1.5861e-01,\n",
            "        -3.3185e-01,  2.7951e-01, -1.3819e-02,  6.1539e-02, -1.0948e-02,\n",
            "         2.6420e-01, -2.7012e-01,  1.6100e-03,  1.7177e-01, -1.3687e-01,\n",
            "         3.3019e-02,  1.7043e-02,  1.4421e-01, -2.1997e-02,  2.1562e-01,\n",
            "         1.2571e-02,  2.8499e-01, -2.0309e-02,  2.2536e-01, -1.6813e-01,\n",
            "         1.9162e-02,  7.5430e-02,  7.1830e-02,  1.0198e-01,  1.7547e-01,\n",
            "         1.9239e-02,  1.3223e-01,  1.3630e-01, -5.2527e-01, -1.3246e-02,\n",
            "         2.3794e-01,  2.0710e-03, -3.9197e-02,  2.9480e-01,  1.5280e-01,\n",
            "         2.3597e-01, -4.7244e-02,  1.1651e-01, -2.4551e-02, -3.6232e-02,\n",
            "        -8.9470e-03, -1.1159e-01,  3.8581e-02,  7.8001e-02,  2.5168e-02,\n",
            "         1.4911e-01, -1.1749e-02, -9.8955e-03,  7.2338e-02,  2.0348e-01,\n",
            "         8.4311e-02,  8.5568e-02,  3.2993e-02,  8.4139e-02,  1.5694e-01,\n",
            "        -3.6399e-01,  2.1015e-02,  1.2111e-01,  1.5565e-01, -5.2254e-03,\n",
            "         4.0820e-02,  3.5425e-02,  2.4701e-01,  9.6422e-02, -4.5291e-02,\n",
            "         2.3168e-01,  1.0056e-01,  9.2222e-03, -2.9504e-02,  1.1199e-02,\n",
            "         1.8991e-01,  1.6354e-01, -8.7853e-03,  1.3199e-01, -5.6640e-01,\n",
            "         1.3829e-02,  1.7309e-01,  1.2789e-01,  2.4656e-01,  1.0126e-02,\n",
            "        -5.2362e-02,  8.1495e-02,  2.6036e-01,  2.3246e-01, -2.6831e-02,\n",
            "         8.7841e-02,  9.9542e-02,  2.4732e-01, -4.3554e-04, -1.7961e-04,\n",
            "         9.9066e-02,  1.3316e-01,  1.2072e-01,  4.4863e-02,  7.6422e-02,\n",
            "         1.2598e-01,  3.2239e-01,  1.8981e-01,  1.5185e-01,  9.3408e-02,\n",
            "        -5.8230e-02,  5.0197e-02,  7.8882e-02], requires_grad=True), Parameter containing:\n",
            "tensor([[ 0.0256,  0.0021, -0.0764,  ...,  0.0034, -0.0480, -0.0376],\n",
            "        [ 0.0170, -0.0095, -0.0422,  ...,  0.0155, -0.0059, -0.0060],\n",
            "        [ 0.0383,  0.0254,  0.0358,  ..., -0.0061, -0.0278, -0.0161],\n",
            "        ...,\n",
            "        [ 0.0409,  0.0269, -0.0051,  ..., -0.0012,  0.0155,  0.0160],\n",
            "        [-0.0146, -0.0352,  0.0138,  ...,  0.0326, -0.0286,  0.0240],\n",
            "        [ 0.0319,  0.0304, -0.0054,  ..., -0.0203, -0.0364, -0.0023]],\n",
            "       requires_grad=True), Parameter containing:\n",
            "tensor([-0.0499,  0.0499,  0.1703, -0.0101,  0.0464,  0.0066,  0.0633,  0.0667,\n",
            "         0.0260,  0.0609,  0.0585, -0.0429,  0.0451,  0.1347,  0.2204,  0.0716,\n",
            "         0.3050,  0.4057,  0.0739,  0.0308,  0.3065,  0.1522,  0.2171,  0.1780,\n",
            "         0.1103,  0.0621,  0.1236, -0.0144,  0.0680,  0.0401,  0.0116,  0.0024,\n",
            "         0.0494, -0.0578,  0.0045,  0.0309, -0.0901,  0.2013, -0.0298, -0.0385,\n",
            "         0.0962,  0.0166,  0.2187,  0.2244,  0.1144,  0.0889,  0.2674,  0.2102,\n",
            "        -0.0276,  0.1424, -0.0389,  0.0270,  0.3154,  0.0071,  0.2420,  0.0030,\n",
            "        -0.0233, -0.0925,  0.0331, -0.0105,  0.0196,  0.1086,  0.0311, -0.0079,\n",
            "         0.0339,  0.0817,  0.0595,  0.0396,  0.1806,  0.0031, -0.0216, -0.0405,\n",
            "        -0.0069, -0.7471, -0.0463,  0.0102,  0.1980,  0.0710,  0.0979, -0.0459,\n",
            "         0.0810,  0.2808,  0.0200,  0.0366,  0.0019, -0.0454,  0.1640, -0.0451,\n",
            "         0.1132,  0.2817, -0.0383, -0.0507,  0.1781,  0.2451,  0.0970, -0.0162,\n",
            "         0.1695,  0.0058,  0.1692,  0.1945,  0.0131,  0.0457,  0.2757, -0.0707,\n",
            "        -0.0019,  0.0344,  0.1104,  0.0953, -0.0542,  0.0324, -0.0163,  0.0193,\n",
            "         0.0483, -0.1598, -0.0088], requires_grad=True), Parameter containing:\n",
            "tensor([[-6.7780e-02,  8.3688e-03,  1.9871e-02, -8.6742e-06, -1.0752e-02,\n",
            "         -1.1615e-03,  8.4461e-02, -2.8894e-02, -5.2200e-02, -7.4965e-02,\n",
            "          4.7179e-02, -8.9763e-02, -1.8273e-02,  6.0947e-02,  4.6990e-02,\n",
            "         -5.4631e-03,  5.2719e-02,  8.3326e-02,  6.7883e-02, -4.5287e-02,\n",
            "          2.6968e-02,  3.0569e-02,  3.4149e-03,  5.0515e-02,  4.5350e-02,\n",
            "          7.1553e-02,  7.0653e-02, -7.8182e-02,  2.7242e-02,  7.6895e-02,\n",
            "         -8.5709e-02, -7.5894e-02,  8.0642e-02, -8.2166e-02, -7.9229e-02,\n",
            "         -1.2969e-03, -7.4736e-02, -1.4478e-01, -6.1225e-02,  6.6379e-02,\n",
            "         -3.9660e-04, -7.0078e-04, -7.4456e-02,  4.1611e-02,  5.4218e-02,\n",
            "          4.1128e-02,  9.6174e-03, -4.4046e-02, -6.2210e-02, -6.3930e-02,\n",
            "          9.1167e-04, -8.2386e-02,  2.2607e-02, -5.2441e-03, -1.0376e-01,\n",
            "         -7.8164e-02, -8.0811e-02,  9.8372e-02,  2.4821e-02, -6.9023e-02,\n",
            "         -4.6346e-02, -7.9134e-04,  8.6981e-02, -1.1622e-02, -7.6661e-02,\n",
            "          6.7390e-02,  4.8330e-02,  4.9571e-02,  4.3163e-02, -1.9463e-02,\n",
            "         -4.5842e-02, -7.1127e-02, -5.8070e-03, -9.2934e-03, -1.9314e-02,\n",
            "         -2.8631e-02,  8.5814e-02,  4.8961e-02,  2.7221e-02,  1.7004e-04,\n",
            "          3.8056e-02,  1.0492e-02,  5.0659e-02, -5.8256e-02, -2.6791e-02,\n",
            "         -4.7990e-02, -9.8798e-02, -5.4909e-02, -9.3005e-02,  7.4823e-02,\n",
            "         -7.3571e-02, -5.8661e-02,  5.0093e-02,  6.6651e-02,  3.0683e-02,\n",
            "          1.0553e-01,  7.6691e-02, -5.3223e-02, -1.0044e-01,  3.1431e-02,\n",
            "          8.5437e-02,  8.0968e-02,  4.8646e-02, -2.1196e-03,  1.8443e-02,\n",
            "          7.4232e-02,  2.9936e-02,  5.9796e-03, -6.2292e-02,  7.3836e-04,\n",
            "         -1.0917e-02,  4.5608e-04,  7.0708e-02, -1.0680e-01,  8.8740e-02]],\n",
            "       requires_grad=True), Parameter containing:\n",
            "tensor([0.7192], requires_grad=True)]\n"
          ]
        }
      ],
      "source": [
        "print(list(net_loaded.parameters()))"
      ]
    },
    {
      "cell_type": "code",
      "execution_count": 115,
      "metadata": {
        "colab": {
          "base_uri": "https://localhost:8080/"
        },
        "id": "InGW0Xq6UZip",
        "outputId": "6c4a0e2c-b485-4362-b99d-7364dcf9443a"
      },
      "outputs": [
        {
          "name": "stdout",
          "output_type": "stream",
          "text": [
            "rho.shape:  torch.Size([20])\n",
            "epsilon.shape:  torch.Size([20])\n"
          ]
        },
        {
          "data": {
            "text/plain": [
              "tensor([[ 2.8799e-01,  5.4806e+02,  3.9029e+02,  6.1467e+02,  9.9123e+02,\n",
              "         -4.2664e+00,  7.2143e+00, -9.1295e+00,  9.2167e-01,  7.6716e-02,\n",
              "          5.1429e-03,  1.0551e+00,  9.1389e-04,  1.0237e+00],\n",
              "        [ 4.0179e+00,  8.5730e+01,  2.8510e+02,  7.0083e+02,  8.1146e+02,\n",
              "          2.6385e+00,  2.2436e+00,  5.9950e+00,  1.0273e+00,  2.6742e-02,\n",
              "          3.8555e-02,  9.6899e-01,  2.0033e-02,  9.5205e-01],\n",
              "        [ 6.9980e-01,  4.6977e+01,  1.0896e+02,  8.2306e+01,  1.3711e+02,\n",
              "          5.0048e+00, -8.4746e+00,  8.3885e+00,  9.5740e-01,  5.4877e-02,\n",
              "          5.2754e-02,  9.9846e-01,  9.5204e-02,  1.0219e+00],\n",
              "        [ 2.0106e-01,  3.4603e+01,  1.3917e+02,  1.2373e+01,  1.6382e+02,\n",
              "          3.8809e+00, -2.4523e+00, -5.7483e+00,  1.0579e+00,  9.8165e-02,\n",
              "          6.1005e-02,  9.9631e-01,  5.0285e-02,  9.1125e-01],\n",
              "        [ 1.2655e-01,  1.1636e+01,  3.2570e+01,  5.2224e+00,  4.5679e+01,\n",
              "          1.4602e+00,  9.1370e-01, -9.0100e+00,  1.0492e+00,  2.6967e-04,\n",
              "          8.5059e-02,  1.0213e+00,  9.0301e-02,  9.3817e-01],\n",
              "        [ 5.0500e-01,  5.8368e+00,  2.2292e+01,  1.2109e+01,  2.8958e+01,\n",
              "         -5.2320e+00, -7.1064e-01,  3.7182e+00,  1.0001e+00,  5.0067e-02,\n",
              "          3.9740e-02,  9.1657e-01,  6.4018e-02,  1.0056e+00],\n",
              "        [ 2.4372e+00,  4.0442e+01,  3.0656e+01, -1.9921e+01,  6.5724e+01,\n",
              "         -5.3964e+00,  1.4104e+00, -7.3896e+00,  9.0533e-01,  3.2690e-02,\n",
              "          6.9219e-02,  9.3520e-01,  9.5003e-02,  1.0245e+00],\n",
              "        [ 5.6782e-01,  6.1163e+01, -3.2697e+01,  5.0536e+01,  9.2968e+01,\n",
              "          2.1480e+00,  8.7544e+00,  3.7555e+00,  9.3235e-01,  4.9972e-02,\n",
              "          6.9548e-02,  9.4609e-01,  9.9220e-02,  9.5160e-01],\n",
              "        [ 1.6954e+00,  5.7088e+01,  7.4799e+01,  4.3795e+01,  9.7778e+01,\n",
              "          2.5583e+00,  3.5343e+00, -9.6445e+00,  9.9768e-01,  7.0136e-03,\n",
              "          6.4638e-02,  1.0575e+00,  9.2601e-02,  9.7564e-01],\n",
              "        [ 7.2953e+00,  2.0527e+03,  3.8617e+03,  4.2782e+03,  5.8879e+03,\n",
              "         -6.5492e+00, -1.4864e+00,  1.3936e+00,  1.0829e+00,  6.5879e-02,\n",
              "          3.3244e-02,  1.0253e+00,  6.7430e-02,  9.3522e-01],\n",
              "        [ 2.0027e+00, -1.5130e+00,  2.5906e+01, -3.6884e+00,  6.5390e+01,\n",
              "         -1.0334e+00, -5.2604e+00, -7.7657e+00,  9.7079e-01,  9.3458e-02,\n",
              "          5.9106e-03,  9.2423e-01,  8.6103e-02,  1.0823e+00],\n",
              "        [ 1.4623e+00, -1.2232e+00,  3.6536e+01,  3.8308e+01,  6.0878e+01,\n",
              "          5.3952e+00, -5.6320e+00,  5.6752e+00,  1.0640e+00,  9.1513e-02,\n",
              "          3.9934e-02,  9.3552e-01,  4.3976e-02,  9.0478e-01],\n",
              "        [ 5.7701e-01,  7.7083e+01,  7.7008e+01,  9.0276e+01,  1.4388e+02,\n",
              "         -5.1268e+00,  6.5173e+00, -3.3196e+00,  9.6204e-01,  3.2440e-02,\n",
              "          2.8009e-02,  1.0934e+00,  3.0303e-02,  1.0328e+00],\n",
              "        [ 1.5035e+00,  8.8988e+01,  6.4598e+01,  3.1029e+02,  4.6889e+02,\n",
              "          4.4430e-01, -4.0451e+00,  1.2895e+00,  9.4946e-01,  5.9613e-02,\n",
              "          7.2566e-02,  9.0199e-01,  7.5406e-02,  9.1212e-01],\n",
              "        [ 1.8383e+00,  7.2567e+02,  2.2767e+03,  2.3197e+03,  4.2235e+03,\n",
              "         -6.7910e+00,  3.6820e+00, -9.6526e+00,  1.0599e+00,  2.5721e-02,\n",
              "          6.8985e-02,  1.0788e+00,  4.9901e-03,  9.6404e-01],\n",
              "        [ 1.2023e+00,  1.5677e+01,  4.4863e+00, -3.5227e+00,  2.1958e+01,\n",
              "         -6.2635e-01, -2.5889e+00, -5.2026e+00,  1.0116e+00,  5.9726e-02,\n",
              "          1.5820e-02,  1.0295e+00,  6.6864e-02,  1.0830e+00],\n",
              "        [ 2.1776e+00, -9.3002e+00,  8.5645e+00,  1.8680e+01,  6.5799e+01,\n",
              "          9.4290e+00,  9.3064e-02,  5.7008e+00,  9.4397e-01,  8.4565e-02,\n",
              "          3.5583e-02,  9.3822e-01,  2.9311e-02,  1.0826e+00],\n",
              "        [ 1.9047e+00,  4.5255e+02,  3.6984e+02,  1.4306e+02,  7.3521e+02,\n",
              "         -6.5170e-01,  2.6115e+00,  7.6744e+00,  9.5340e-01,  5.7917e-02,\n",
              "          9.8777e-02,  1.0246e+00,  2.8188e-02,  9.0332e-01],\n",
              "        [ 3.3721e+00,  2.3392e+01, -2.7965e+00,  1.6486e+01,  2.9218e+01,\n",
              "         -2.2303e-01, -3.8642e+00, -3.3239e+00,  1.0781e+00,  5.6591e-02,\n",
              "          3.2507e-02,  1.0425e+00,  3.2808e-02,  1.0123e+00],\n",
              "        [ 1.5949e+00,  2.4503e+02,  2.4239e+02,  1.7983e+02,  4.2533e+02,\n",
              "         -4.8913e+00, -2.9887e+00,  4.3797e+00,  9.1275e-01,  1.8365e-02,\n",
              "          4.5812e-02,  1.0999e+00,  6.7982e-02,  9.6477e-01]])"
            ]
          },
          "execution_count": 115,
          "metadata": {},
          "output_type": "execute_result"
        }
      ],
      "source": [
        "rho_example, epsilon_example, vx_example, vy_example, vz_example, Bx_example, By_example, Bz_example, gxx_example, gxy_example, gxz_example, gyy_example, gyz_example, gzz_example = generate_samples(20)\n",
        "\n",
        "inputs =  generate_input_data(rho_example, epsilon_example, vx_example, vy_example, vz_example, Bx_example, By_example, Bz_example, gxx_example, gxy_example, gxz_example, gyy_example, gyz_example, gzz_example)\n",
        "inputs\n"
      ]
    },
    {
      "cell_type": "code",
      "execution_count": 116,
      "metadata": {
        "colab": {
          "base_uri": "https://localhost:8080/"
        },
        "id": "QVa1upmFUZip",
        "outputId": "95a297df-88d8-4614-ffd7-ecc0cda58cf9"
      },
      "outputs": [
        {
          "data": {
            "text/plain": [
              "[tensor([[96.8797]], grad_fn=<AddmmBackward0>),\n",
              " tensor([[271.9512]], grad_fn=<AddmmBackward0>),\n",
              " tensor([[6.2091]], grad_fn=<AddmmBackward0>),\n",
              " tensor([[94.2850]], grad_fn=<AddmmBackward0>),\n",
              " tensor([[10.3442]], grad_fn=<AddmmBackward0>),\n",
              " tensor([[6.5991]], grad_fn=<AddmmBackward0>),\n",
              " tensor([[-0.0627]], grad_fn=<AddmmBackward0>),\n",
              " tensor([[4.8654]], grad_fn=<AddmmBackward0>),\n",
              " tensor([[4.5625]], grad_fn=<AddmmBackward0>),\n",
              " tensor([[236.7665]], grad_fn=<AddmmBackward0>),\n",
              " tensor([[4.1830]], grad_fn=<AddmmBackward0>),\n",
              " tensor([[11.7492]], grad_fn=<AddmmBackward0>),\n",
              " tensor([[9.0663]], grad_fn=<AddmmBackward0>),\n",
              " tensor([[488.8440]], grad_fn=<AddmmBackward0>),\n",
              " tensor([[2295.3945]], grad_fn=<AddmmBackward0>),\n",
              " tensor([[-6.1538]], grad_fn=<AddmmBackward0>),\n",
              " tensor([[-2.0136]], grad_fn=<AddmmBackward0>),\n",
              " tensor([[423.4353]], grad_fn=<AddmmBackward0>),\n",
              " tensor([[-5.6544]], grad_fn=<AddmmBackward0>),\n",
              " tensor([[35.4611]], grad_fn=<AddmmBackward0>)]"
            ]
          },
          "execution_count": 116,
          "metadata": {},
          "output_type": "execute_result"
        }
      ],
      "source": [
        "#%%script echo skipping\n",
        "\n",
        "# Pass the inputs to the network and get the outputs\n",
        "outputs = [net(input.unsqueeze(0)) for input in inputs]\n",
        "# Print the outputs\n",
        "outputs"
      ]
    },
    {
      "cell_type": "code",
      "execution_count": 117,
      "metadata": {
        "colab": {
          "base_uri": "https://localhost:8080/"
        },
        "id": "E-Xjfo7VUZir",
        "outputId": "fb0478cb-bee3-429f-fdec-d99f11baf40f"
      },
      "outputs": [
        {
          "data": {
            "text/plain": [
              "[tensor([[96.8797]], grad_fn=<AddmmBackward0>),\n",
              " tensor([[271.9512]], grad_fn=<AddmmBackward0>),\n",
              " tensor([[6.2091]], grad_fn=<AddmmBackward0>),\n",
              " tensor([[94.2850]], grad_fn=<AddmmBackward0>),\n",
              " tensor([[10.3442]], grad_fn=<AddmmBackward0>),\n",
              " tensor([[6.5991]], grad_fn=<AddmmBackward0>),\n",
              " tensor([[-0.0627]], grad_fn=<AddmmBackward0>),\n",
              " tensor([[4.8654]], grad_fn=<AddmmBackward0>),\n",
              " tensor([[4.5625]], grad_fn=<AddmmBackward0>),\n",
              " tensor([[236.7665]], grad_fn=<AddmmBackward0>),\n",
              " tensor([[4.1830]], grad_fn=<AddmmBackward0>),\n",
              " tensor([[11.7492]], grad_fn=<AddmmBackward0>),\n",
              " tensor([[9.0663]], grad_fn=<AddmmBackward0>),\n",
              " tensor([[488.8440]], grad_fn=<AddmmBackward0>),\n",
              " tensor([[2295.3945]], grad_fn=<AddmmBackward0>),\n",
              " tensor([[-6.1538]], grad_fn=<AddmmBackward0>),\n",
              " tensor([[-2.0136]], grad_fn=<AddmmBackward0>),\n",
              " tensor([[423.4353]], grad_fn=<AddmmBackward0>),\n",
              " tensor([[-5.6544]], grad_fn=<AddmmBackward0>),\n",
              " tensor([[35.4611]], grad_fn=<AddmmBackward0>)]"
            ]
          },
          "execution_count": 117,
          "metadata": {},
          "output_type": "execute_result"
        }
      ],
      "source": [
        "\n",
        "# Pass the inputs to the network and get the outputs\n",
        "outputs = [net_loaded(input.unsqueeze(0)) for input in inputs]\n",
        "# Print the outputs\n",
        "outputs"
      ]
    },
    {
      "attachments": {},
      "cell_type": "markdown",
      "metadata": {
        "id": "xjpIvdybUZis"
      },
      "source": [
        "## Porting the model to C++"
      ]
    },
    {
      "cell_type": "code",
      "execution_count": 118,
      "metadata": {
        "colab": {
          "base_uri": "https://localhost:8080/"
        },
        "id": "VMlEd4RoUZis",
        "outputId": "d5bfc697-8c96-47bb-a08c-6fb26f463797"
      },
      "outputs": [
        {
          "data": {
            "text/plain": [
              "Net(\n",
              "  (hidden_activation): ReLU()\n",
              "  (output_activation): Identity()\n",
              "  (layers): ModuleList(\n",
              "    (0): Linear(in_features=14, out_features=555, bias=True)\n",
              "    (1): Linear(in_features=555, out_features=458, bias=True)\n",
              "    (2): Linear(in_features=458, out_features=115, bias=True)\n",
              "    (3): Linear(in_features=115, out_features=1, bias=True)\n",
              "  )\n",
              ")"
            ]
          },
          "execution_count": 118,
          "metadata": {},
          "output_type": "execute_result"
        },
        {
          "name": "stdout",
          "output_type": "stream",
          "text": [
            "rho.shape:  torch.Size([1])\n",
            "epsilon.shape:  torch.Size([1])\n",
            "input shape:  torch.Size([1, 14])\n",
            "input:  tensor([[ 5.4311e-01,  7.8612e+01,  3.6270e+01,  3.6891e+01,  1.3131e+02,\n",
            "         -6.6629e+00,  1.8616e+00,  6.1906e+00,  9.8118e-01,  9.4091e-02,\n",
            "          2.0352e-02,  9.5584e-01,  5.0283e-03,  9.4602e-01]])\n",
            "Output: tensor([[142.9021]], grad_fn=<AddmmBackward0>)\n"
          ]
        },
        {
          "name": "stderr",
          "output_type": "stream",
          "text": [
            "/tmp/ipykernel_1084413/439735149.py:53: TracerWarning: Converting a tensor to a Python boolean might cause the trace to be incorrect. We can't record the data flow of Python values, so this value will be treated as a constant in the future. This means that the trace might not generalize to other inputs!\n",
            "  assert x.shape[1] == N_INPUTS, f\"x must have shape (batch_size, {N_INPUTS})\"\n"
          ]
        }
      ],
      "source": [
        "import torch.jit\n",
        "\n",
        "# Creating a dummy input tensor of shape (1, 5) to trace the model\n",
        "dummy_input = torch.randn(1, N_INPUTS).to(device)\n",
        "\n",
        "# Ensure that net_loaded is in evaluation mode.\n",
        "net_loaded.eval()\n",
        "\n",
        "# Tracing the model using the torch.jit.trace function\n",
        "traced_model = torch.jit.trace(net_loaded, dummy_input)\n",
        "\n",
        "# Saving the traced model to a file named \"net.pt\"\n",
        "traced_model.save(\"net.pt\")\n",
        "save_file(\"net.pt\")\n",
        "\n",
        "example_input_to_validate_correct_export_and_import = generate_input_data(*generate_samples(1))\n",
        "print(\"input shape: \", example_input_to_validate_correct_export_and_import.shape)\n",
        "print(\"input: \", example_input_to_validate_correct_export_and_import)\n",
        "print(\"Output:\", net_loaded(example_input_to_validate_correct_export_and_import))"
      ]
    }
  ],
  "metadata": {
    "accelerator": "GPU",
    "colab": {
      "gpuType": "T4",
      "provenance": [],
      "toc_visible": true
    },
    "gpuClass": "standard",
    "kernelspec": {
      "display_name": "bsc",
      "language": "python",
      "name": "python3"
    },
    "language_info": {
      "codemirror_mode": {
        "name": "ipython",
        "version": 3
      },
      "file_extension": ".py",
      "mimetype": "text/x-python",
      "name": "python",
      "nbconvert_exporter": "python",
      "pygments_lexer": "ipython3",
      "version": "3.11.3"
    },
    "orig_nbformat": 4
  },
  "nbformat": 4,
  "nbformat_minor": 0
}
