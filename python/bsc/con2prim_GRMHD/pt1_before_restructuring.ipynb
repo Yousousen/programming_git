{
  "cells": [
    {
      "attachments": {},
      "cell_type": "markdown",
      "metadata": {
        "id": "TPvB1xoSUZhR"
      },
      "source": [
        "# Neural network to learn conservative-to-primitive conversion in relativistic hydrodynamics"
      ]
    },
    {
      "attachments": {},
      "cell_type": "markdown",
      "metadata": {},
      "source": [
        "## How to use this notebook\n",
        "\n",
        "### Local installation\n",
        "\n",
        "1. Install required packages with `pip install -r requirements.txt` to your desired environment.\n",
        "2. If a script version of this notebook is desired, comment (not uncomment) the first line of `nbconvert` cell.\n",
        "\n",
        "### Colab installation\n",
        "\n",
        "1.  Comment (not uncomment) the first line of the drive mounting cell.\n",
        "2.  Comment (not uncomment) the first line of the `pip install` cell.\n",
        "\n",
        "<!-- - For colab we also want to set the runtime to GPU by clicking _Change runtime_ in the _Runtime_ menu, and -->\n",
        "<!-- - We want to wait for the google drive connection popup to appear and follow the instructions. -->\n",
        "\n",
        "### Loading / Generating data\n",
        "3. Set `LOAD_DATA_FROM_CSV` to `True` / `False` to load data from csv files / generate data in this notebook.\n",
        "\n",
        "### Training without optimization\n",
        "\n",
        "4. Set `OPTIMIZE = False` in section _Constants and flags to set_.\n",
        "5. Run the entire notebook.\n",
        "\n",
        "### Training with optimization\n",
        "\n",
        "4. Set `OPTIMIZE = True` in section _Constants and flags to set_.\n",
        "5. Run the entire notebook.\n",
        "\n",
        "### Loading an already trained model\n",
        "\n",
        "4. Run cells in section _Initialization_.\n",
        "5. Run cells with definitions in section _Input data and labels_.\n",
        "6. Run cell with the definition of _Net_ in section _Defining the neural network_.\n",
        "7. Make sure the `net.pth`, `optimizer.pth`, `scheduler.pth`, `var_dict.json` and `train_output.csv` files are in the directory containing this notebook.\n",
        "8. Run the cells in section _Loading_ and continue from there.\n",
        "\n",
        "### Generating the C++ model\n",
        "\n",
        "9. Run section _Porting the model to C++_, this requires a model to be loaded.\n",
        "10. Set the path to the `net.pt` file in the C++ source file.\n",
        "11. `mkdir build && cd build`,\n",
        "12. Configure a `CMakeLists.txt` file as is done [here](https://pytorch.org/cppdocs/installing.html).\n",
        "13. `cmake -DCMAKE_PREFIX_PATH=/path/to/libtorch/ ..`,\n",
        "14. Compile and run, e.g. `cmake --build . --config release && ./<executable name>`"
      ]
    },
    {
      "attachments": {},
      "cell_type": "markdown",
      "metadata": {},
      "source": [
        "## Initialization"
      ]
    },
    {
      "attachments": {},
      "cell_type": "markdown",
      "metadata": {},
      "source": [
        "\n",
        "Use this first cell to **convert this notebook** to a python script."
      ]
    },
    {
      "cell_type": "code",
      "execution_count": 1,
      "metadata": {
        "colab": {
          "base_uri": "https://localhost:8080/"
        },
        "id": "eqdgdNLHUZhV",
        "outputId": "30907b9d-56c3-44d7-cd43-6387a991a46a",
        "tags": [
          "remove_cell"
        ]
      },
      "outputs": [
        {
          "name": "stdout",
          "output_type": "stream",
          "text": [
            "[NbConvertApp] Converting notebook pt1_before_restructuring.ipynb to script\n",
            "[NbConvertApp] Writing 64257 bytes to pt1_before_restructuring.py\n"
          ]
        }
      ],
      "source": [
        "%%script echo skipping\n",
        "\n",
        "!jupyter nbconvert pt1_before_restructuring.ipynb --TagRemovePreprocessor.enabled=True --TagRemovePreprocessor.remove_cell_tags='{\"remove_cell\"}' --to script"
      ]
    },
    {
      "attachments": {},
      "cell_type": "markdown",
      "metadata": {
        "id": "nzcUr0LnUZhw"
      },
      "source": [
        "Next some cells for working on **google colab**,"
      ]
    },
    {
      "cell_type": "code",
      "execution_count": 2,
      "metadata": {},
      "outputs": [],
      "source": [
        "import os\n",
        "import shutil\n",
        "\n",
        "# check if the drive is mounted\n",
        "drive_mounted = os.path.exists(\"/content/drive\")\n",
        "# change this to your desired folder\n",
        "drive_folder = \"/content/drive/My Drive/bsc/con2prim_GRMHD\"\n",
        "\n",
        "# define a function to save a file to the drive or the current directory\n",
        "def save_file(file_name):\n",
        "  if drive_mounted:\n",
        "    # save the file to the drive folder\n",
        "    file_path = os.path.join(drive_folder, file_name)\n",
        "    # copy the file from the current directory to the drive folder\n",
        "    shutil.copyfile(file_name, file_path)\n",
        "  else:\n",
        "    # do nothing as the file is already in the current directory\n",
        "    pass\n"
      ]
    },
    {
      "cell_type": "code",
      "execution_count": 3,
      "metadata": {
        "colab": {
          "base_uri": "https://localhost:8080/"
        },
        "id": "ecHw2_xlUZhx",
        "outputId": "462a57cd-ee19-4961-d3aa-ff2407b2bde0"
      },
      "outputs": [
        {
          "name": "stdout",
          "output_type": "stream",
          "text": [
            "skipping\n"
          ]
        }
      ],
      "source": [
        "%%script echo skipping\n",
        "\n",
        "from google.colab import drive\n",
        "drive.mount('/content/drive')"
      ]
    },
    {
      "cell_type": "code",
      "execution_count": 4,
      "metadata": {
        "colab": {
          "base_uri": "https://localhost:8080/"
        },
        "id": "T1rcStMLUZhy",
        "outputId": "7ea7311f-f054-4a29-d0ff-12849095ab6e"
      },
      "outputs": [
        {
          "name": "stdout",
          "output_type": "stream",
          "text": [
            "skipping\n"
          ]
        }
      ],
      "source": [
        "%%script echo skipping\n",
        "\n",
        "!pip install optuna tensorboard tensorboardX"
      ]
    },
    {
      "attachments": {},
      "cell_type": "markdown",
      "metadata": {},
      "source": [
        "Importing the **libraries**,"
      ]
    },
    {
      "cell_type": "code",
      "execution_count": 5,
      "metadata": {
        "id": "tREdWQUVUZhz"
      },
      "outputs": [],
      "source": [
        "import numpy as np\n",
        "import matplotlib.pyplot as plt\n",
        "import torch\n",
        "import torch.nn as nn\n",
        "import torch.optim as optim\n",
        "import torch.nn.functional as F\n",
        "import optuna\n",
        "import tensorboardX as tbx\n",
        "import pandas as pd"
      ]
    },
    {
      "attachments": {},
      "cell_type": "markdown",
      "metadata": {
        "id": "38GvmerjUZhz"
      },
      "source": [
        "### Constants and flags to set\n",
        "Defining some constants and parameters for convenience.\n",
        "\n",
        "**NOTE**: Some **subparameters** still need to be adjusted in the `create_model` function itself as of (Tue May 16 07:42:45 AM CEST 2023) in the case the model is being trained without optimization."
      ]
    },
    {
      "cell_type": "code",
      "execution_count": 6,
      "metadata": {
        "id": "ei6VZDYKUZh0"
      },
      "outputs": [],
      "source": [
        "\n",
        "# Checking if GPU is available and setting the device accordingly\n",
        "device = torch.device(\"cuda\" if torch.cuda.is_available() else \"cpu\")\n",
        "\n",
        "N_TRIALS = 250 # Number of trials for hyperparameter optimization\n",
        "OPTIMIZE = False # Whether to optimize the hyperparameters or to use predetermined values from Dieseldorst et al..\n",
        "ZSCORE_NORMALIZATION = False # Whether to z-score normalize the input data.\n",
        "LOAD_DATA_FROM_CSV = False  # If not true we generate the data in this file and save to {x_train,y_train,x_test,y_test}.csv, otherwise we load the data from files of the same name.\n",
        "\n",
        "csv_filenames = { # File names to load input data and labels from if LOAD_DATA_FROM_CSV is True.\n",
        "    \"x_train\": \"x_train.csv\",\n",
        "    \"y_train\": \"y_train.csv\",\n",
        "    \"x_test\": \"x_test.csv\",\n",
        "    \"y_test\": \"y_test.csv\",\n",
        "}\n",
        "\n",
        "# Values to use for hyperparameters if OPTIMIZE is False.\n",
        "N_LAYERS_NO_OPT = 3\n",
        "N_UNITS_NO_OPT = [555, 458, 115]\n",
        "HIDDEN_ACTIVATION_NAME_NO_OPT = \"ReLU\"\n",
        "OUTPUT_ACTIVATION_NAME_NO_OPT = \"ReLU\"\n",
        "LOSS_NAME_NO_OPT = \"Huber\"\n",
        "OPTIMIZER_NAME_NO_OPT = \"RMSprop\"\n",
        "LR_NO_OPT = 0.000122770896701404\n",
        "BATCH_SIZE_NO_OPT = 49\n",
        "N_EPOCHS_NO_OPT = 100\n",
        "SCHEDULER_NAME_NO_OPT = \"ReduceLROnPlateau\"\n",
        "\n",
        "Gamma = 5 / 3  # Adiabatic index\n",
        "n_train_samples = 80000 # Number of training samples\n",
        "n_test_samples = 20000 # Number of test samples\n",
        "rho_interval = (0, 2) # sample in linear space\n",
        "epsilon_interval = (1e-2, 2000)  # Will be sampled in log space\n",
        "vx_interval = (0, 0.999)  # sample in linear space\n",
        "vy_interval = (0, 0.999)  # sample in linear space\n",
        "vz_interval = (0, 0.999)  # sample in linear space\n",
        "Bx_interval = (-10, 10)  # sample in linear space\n",
        "By_interval = (-10, 10)  # sample in linear space\n",
        "Bz_interval = (-10, 10)  # sample in linear space\n",
        "gxx_interval = (0.9, 1.1)\n",
        "gxy_interval = (0, 0.1)\n",
        "gxz_interval = (0, 0.1)\n",
        "gyy_interval = (0.9, 1.1)\n",
        "gyz_interval = (0, 0.1)\n",
        "gzz_interval = (0.9, 1.1)\n",
        "\n",
        "\n",
        "N_INPUTS = 14  # Number of input features.\n",
        "\n",
        "np.random.seed(48) # Comment for true random data.\n"
      ]
    },
    {
      "attachments": {},
      "cell_type": "markdown",
      "metadata": {
        "id": "dlaP5UL2UZh1"
      },
      "source": [
        "## Input data and labels\n",
        "\n",
        "We either generate the data or load the data. First the definitions for generating the data come below."
      ]
    },
    {
      "cell_type": "code",
      "execution_count": 7,
      "metadata": {
        "id": "s_EvGFZcUZh1"
      },
      "outputs": [],
      "source": [
        "# Defining an analytic equation of state (EOS) for an ideal gas\n",
        "def eos_analytic(rho, epsilon):\n",
        "    # Adding some assertions to check that the input tensors are valid and have \n",
        "    # the expected shape and type \n",
        "    assert isinstance(rho, torch.Tensor), \"rho must be a torch.Tensor\"\n",
        "    assert isinstance(epsilon, torch.Tensor), \"epsilon must be a torch.Tensor\"\n",
        "    print('rho.shape: ', rho.shape)\n",
        "    print('epsilon.shape: ', epsilon.shape)\n",
        "    assert rho.shape == epsilon.shape, \"rho and epsilon must have the same shape\"\n",
        "    assert rho.ndim == 1, \"rho and epsilon must be one-dimensional tensors\"\n",
        "    assert rho.dtype == torch.float32, \"rho and epsilon must have dtype torch.float32\"\n",
        "\n",
        "    return (Gamma - 1) * rho * epsilon\n",
        "\n",
        "\n",
        "\n",
        "def sample_primitive_variables():\n",
        "    rho = np.random.uniform(*rho_interval)  \n",
        "    epsilon = 10 ** np.random.uniform(*np.log10(epsilon_interval))\n",
        "    vx = np.random.uniform(*vx_interval)  \n",
        "    vy = np.random.uniform(*vy_interval)  \n",
        "    vz = np.random.uniform(*vz_interval)  \n",
        "    Bx = np.random.uniform(*Bx_interval)  \n",
        "    By = np.random.uniform(*By_interval)  \n",
        "    Bz = np.random.uniform(*Bz_interval)  \n",
        "    gxx = np.random.uniform(*gxx_interval)\n",
        "    gxy = np.random.uniform(*gxy_interval)\n",
        "    gxz = np.random.uniform(*gxz_interval)\n",
        "    gyy = np.random.uniform(*gyy_interval)\n",
        "    gyz = np.random.uniform(*gyz_interval)\n",
        "    gzz = np.random.uniform(*gzz_interval)\n",
        "\n",
        "    return rho, epsilon, vx, vy, vz, Bx, By, Bz, gxx, gxy, gxz, gyy, gyz, gzz\n",
        "\n",
        "def check_sample(rho, epsilon, vx, vy, vz, Bx, By, Bz, gxx, gxy, gxz, gyy, gyz, gzz):\n",
        "    wtemp_expr = 1 - (gxx * vx**2 + gyy * vy**2 + gzz * vz**2 + 2 * gxy * vx * vy + 2 * gxz * vx * vz + 2 * gyz * vy * vz)\n",
        "    sdet_expr = gxx * gyy * gzz + 2 * gxy * gxz * gyz - gxx * gyz ** 2 - gyy * gxz ** 2 - gzz * gxy ** 2\n",
        "    if vx**2 + vy**2 + vz**2 >= 1 or wtemp_expr < 0 or sdet_expr < 0:\n",
        "        print(f\"Sample failed checks. vx^2+vy^2+vz^2: {vx**2 + vy**2 + vz**2}, wtemp_expr: {wtemp_expr}, sdet_expr: {sdet_expr}\")\n",
        "        return False\n",
        "    else:\n",
        "        print(f\"Sample passed checks. vx^2+vy^2+vz^2: {vx**2 + vy**2 + vz**2}, wtemp_expr: {wtemp_expr}, sdet_expr: {sdet_expr}\")\n",
        "        return True\n",
        "\n",
        "def generate_samples(n_samples):\n",
        "    samples = []\n",
        "    while len(samples) < n_samples:\n",
        "        sample = sample_primitive_variables()\n",
        "        if check_sample(*sample):\n",
        "            samples.append(sample)\n",
        "        print(f\"Number of valid samples: {len(samples)}\")\n",
        "    return zip(*samples)\n",
        "\n",
        "\n",
        "def sdet(gxx, gxy, gxz, gyy, gyz, gzz):\n",
        "    # Determinant of the three metric.\n",
        "    return (gxx * gyy * gzz + 2 * gxy * gxz * gyz - gxx * gyz ** 2 - gyy * gxz ** 2 - gzz * gxy ** 2) ** 0.5\n",
        "\n",
        "# Defining a function that computes conserved variables from primitive variables\n",
        "# We follow the source code of GRaM-X: A new GPU-accelerated dynamical spacetime GRMHD code for Exascale\n",
        "# computing with the Einstein Toolkit of Shankar et al.\n",
        "def compute_conserved_variables(rho, epsilon, vx, vy, vz, Bx, By, Bz, gxx, gxy, gxz, gyy, gyz, gzz):\n",
        "    pres = eos_analytic(rho, epsilon)\n",
        "    wtemp = 1 / (1 - (gxx * vx**2 + gyy * vy**2 + gzz * vz**2 +\n",
        "        2 * gxy * vx * vy + 2 * gxz * vx * vz +\n",
        "        2 * gyz * vy * vz))**0.5\n",
        "\n",
        "    vlowx = gxx * vx + gxy * vy + gxz * vz\n",
        "    vlowy = gxy * vx + gyy * vy + gyz * vz\n",
        "    vlowz = gxz * vx + gyz * vy + gzz * vz\n",
        "\n",
        "    Bxlow = gxx * Bx + gxy * By + gxz * Bz\n",
        "    Bylow = gxy * Bx + gyy * By + gyz * Bz\n",
        "    Bzlow = gxz * Bx + gyz * By + gzz * Bz\n",
        "\n",
        "    B2 = Bxlow * Bx + Bylow * By + Bzlow * Bz\n",
        "\n",
        "    Bdotv = Bxlow * vx + Bylow * vy + Bzlow * vz\n",
        "    Bdotv2 = Bdotv * Bdotv\n",
        "    wtemp2 = wtemp * wtemp\n",
        "    b2 = B2 / wtemp2 + Bdotv2\n",
        "    ab0 = wtemp * Bdotv\n",
        "\n",
        "    blowx = (gxx * Bx + gxy * By + gxz * Bz) / wtemp + wtemp * Bdotv * vlowx\n",
        "    blowy = (gxy * Bx + gyy * By + gyz * Bz) / wtemp + wtemp * Bdotv * vlowy\n",
        "    blowz = (gxz * Bx + gyz * By + gzz * Bz) / wtemp + wtemp * Bdotv * vlowz\n",
        "\n",
        "    hrhow2 = (rho * (1 + epsilon) + pres + b2) * (wtemp) * (wtemp)\n",
        "\n",
        "    D = sdet(gxx, gxy, gxz, gyy, gyz, gzz) * rho * (wtemp)\n",
        "    Sx = sdet(gxx, gxy, gxz, gyy, gyz, gzz) * (hrhow2 * vlowx - ab0 * blowx)\n",
        "    Sy = sdet(gxx, gxy, gxz, gyy, gyz, gzz) * (hrhow2 * vlowy - ab0 * blowy)\n",
        "    Sz = sdet(gxx, gxy, gxz, gyy, gyz, gzz) * (hrhow2 * vlowz - ab0 * blowz)\n",
        "    tau = sdet(gxx, gxy, gxz, gyy, gyz, gzz) * (hrhow2 - pres - b2 / 2 - ab0 * ab0) - D\n",
        "    Bconsx = sdet(gxx, gxy, gxz, gyy, gyz, gzz) * Bx\n",
        "    Bconsy = sdet(gxx, gxy, gxz, gyy, gyz, gzz) * By\n",
        "    Bconsz = sdet(gxx, gxy, gxz, gyy, gyz, gzz) * Bz\n",
        "\n",
        "    return D, Sx, Sy, Sz, tau, Bconsx, Bconsy, Bconsz\n",
        "\n",
        "\n",
        "def generate_input_data(rho, epsilon, vx, vy, vz, Bx, By, Bz, gxx, gxy, gxz, gyy, gyz, gzz):\n",
        "    rho = torch.tensor(np.array(rho), dtype=torch.float32).to(device)\n",
        "    epsilon = torch.tensor(np.array(epsilon), dtype=torch.float32).to(device)\n",
        "    vx = torch.tensor(np.array(vx), dtype=torch.float32).to(device)\n",
        "    vy = torch.tensor(np.array(vy), dtype=torch.float32).to(device)\n",
        "    vz = torch.tensor(np.array(vz), dtype=torch.float32).to(device)\n",
        "    Bx = torch.tensor(np.array(Bx), dtype=torch.float32).to(device)\n",
        "    By = torch.tensor(np.array(By), dtype=torch.float32).to(device)\n",
        "    Bz = torch.tensor(np.array(Bz), dtype=torch.float32).to(device)\n",
        "    gxx = torch.tensor(np.array(gxx), dtype=torch.float32).to(device)\n",
        "    gxy = torch.tensor(np.array(gxy), dtype=torch.float32).to(device)\n",
        "    gxz = torch.tensor(np.array(gxz), dtype=torch.float32).to(device)\n",
        "    gyy = torch.tensor(np.array(gyy), dtype=torch.float32).to(device)\n",
        "    gyz = torch.tensor(np.array(gyz), dtype=torch.float32).to(device)\n",
        "    gzz = torch.tensor(np.array(gzz), dtype=torch.float32).to(device)\n",
        "\n",
        "\n",
        "    \n",
        "    D, Sx, Sy, Sz, tau, Bscriptx, Bscripty, Bscriptz = compute_conserved_variables(\n",
        "        rho, epsilon, vx, vy, vz, Bx, By, Bz, gxx, gxy, gxz, gyy, gyz, gzz\n",
        "    ) \n",
        "\n",
        "    # Add gxx, gxy, gxz, gyy, gyz, gzz to the tensor\n",
        "    x = torch.stack([D, Sx, Sy, Sz, tau, Bscriptx, Bscripty, Bscriptz, gxx, gxy, gxz, gyy, gyz, gzz], axis=1)\n",
        "    return x\n",
        "\n",
        "\n",
        "# Defining a function that generates output data (labels) from given samples of primitive variables\n",
        "# We use the definitions as given in Recovery schemes for primitive variables in\n",
        "# general-relativistic magnetohydrodynamics of Siegel et al.\n",
        "def generate_labels(rho, epsilon, vx, vy, vz):\n",
        "    # Converting the numpy arrays to torch tensors and moving them to the device\n",
        "    rho = torch.tensor(np.array(rho), dtype=torch.float32).to(device)\n",
        "    epsilon = torch.tensor(np.array(epsilon), dtype=torch.float32).to(device)\n",
        "    vx = torch.tensor(np.array(vx), dtype=torch.float32).to(device)\n",
        "    vy = torch.tensor(np.array(vy), dtype=torch.float32).to(device)\n",
        "    vz = torch.tensor(np.array(vz), dtype=torch.float32).to(device)\n",
        "\n",
        "    # Computing the required quantities\n",
        "    pres = eos_analytic(rho, epsilon)\n",
        "    h = 1 + epsilon + pres / rho\n",
        "    W = 1 / torch.sqrt(1 - (vx * vx + vy * vy + vz * vz))\n",
        "\n",
        "    # Returning the output data tensor\n",
        "    return h * W\n"
      ]
    },
    {
      "attachments": {},
      "cell_type": "markdown",
      "metadata": {},
      "source": [
        "### Generating or loading input data and labels"
      ]
    },
    {
      "cell_type": "code",
      "execution_count": 8,
      "metadata": {
        "id": "cKubR6C8UZh4"
      },
      "outputs": [],
      "source": [
        "if LOAD_DATA_FROM_CSV:\n",
        "    # Load the data from CSV files\n",
        "    x_train = pd.read_csv(csv_filenames[\"x_train\"]).values\n",
        "    y_train = pd.read_csv(csv_filenames[\"y_train\"]).values.squeeze()  # reshape to 1D\n",
        "    x_test = pd.read_csv(csv_filenames[\"x_test\"]).values\n",
        "    y_test = pd.read_csv(csv_filenames[\"y_test\"]).values.squeeze()  # reshape to 1D\n",
        "\n",
        "    # Convert numpy arrays to tensors\n",
        "    x_train = torch.from_numpy(x_train).float().to(device)\n",
        "    y_train = torch.from_numpy(y_train).float().to(device)\n",
        "    x_test = torch.from_numpy(x_test).float().to(device)\n",
        "    y_test = torch.from_numpy(y_test).float().to(device)\n",
        "\n",
        "    # This is an alternative to having if clauses  around the cells that visualize these variables.\n",
        "    rho_train = epsilon_train = vx_train = vy_train = vz_train = Bx_train = By_train = Bz_train = gxx_train = gxy_train = gxz_train = gyy_train = gyz_train = gzz_train = None\n",
        "    rho_test = epsilon_test = vx_test = vy_test = vz_test = Bx_test = By_test = Bz_test = gxx_test = gxy_test = gxz_test = gyy_test = gyz_test = gzz_test = None"
      ]
    },
    {
      "cell_type": "code",
      "execution_count": 9,
      "metadata": {},
      "outputs": [],
      "source": [
        "if not LOAD_DATA_FROM_CSV:\n",
        "    # Sample primitive variables\n",
        "    rho_train, epsilon_train, vx_train, vy_train, vz_train, Bx_train, By_train, Bz_train, gxx_train, gxy_train, gxz_train, gyy_train, gyz_train, gzz_train = generate_samples(n_train_samples)\n",
        "    rho_test, epsilon_test, vx_test, vy_test, vz_test, Bx_test, By_test, Bz_test, gxx_test, gxy_test, gxz_test, gyy_test, gyz_test, gzz_test = generate_samples(n_test_samples)"
      ]
    },
    {
      "cell_type": "code",
      "execution_count": 10,
      "metadata": {},
      "outputs": [],
      "source": [
        "if not LOAD_DATA_FROM_CSV:\n",
        "    # Generate data and labels.\n",
        "    x_train = generate_input_data(rho_train, epsilon_train, vx_train, vy_train,\n",
        "                                vz_train, Bx_train, By_train, Bz_train,\n",
        "                                gxx_train,gxy_train,gxz_train,\n",
        "                                gyy_train,gyz_train,gzz_train)\n",
        "    y_train = generate_labels(rho_train, epsilon_train, vx_train, vy_train, vz_train)\n",
        "    x_test = generate_input_data(rho_test, epsilon_test,vx_test,\n",
        "                                vy_test,vz_test,Bx_test,\n",
        "                                By_test,Bz_test,gxx_test,\n",
        "                                gxy_test,gxz_test,\n",
        "                                gyy_test,\n",
        "                                gyz_test,gzz_test)\n",
        "    y_test = generate_labels(rho_test, epsilon_test, vx_test, vy_test, vz_test)\n",
        "\n",
        "\n",
        "    # Save the data to CSV files, tensors need to be converted numpy arrays for saving in CSV.\n",
        "    pd.DataFrame(x_train.cpu().numpy()).to_csv(csv_filenames[\"x_train\"], index=False)\n",
        "    save_file(csv_filenames[\"x_train\"])\n",
        "    pd.DataFrame(y_train.cpu().numpy()).to_csv(csv_filenames[\"y_train\"], index=False)\n",
        "    save_file(csv_filenames[\"y_train\"])\n",
        "    pd.DataFrame(x_test.cpu().numpy()).to_csv(csv_filenames[\"x_test\"], index=False)\n",
        "    save_file(csv_filenames[\"x_test\"])\n",
        "    pd.DataFrame(y_test.cpu().numpy()).to_csv(csv_filenames[\"y_test\"], index=False)\n",
        "    save_file(csv_filenames[\"y_test\"])"
      ]
    },
    {
      "cell_type": "code",
      "execution_count": 11,
      "metadata": {},
      "outputs": [
        {
          "data": {
            "text/plain": [
              "torch.Size([80000, 14])"
            ]
          },
          "execution_count": 11,
          "metadata": {},
          "output_type": "execute_result"
        },
        {
          "data": {
            "text/plain": [
              "torch.Size([80000])"
            ]
          },
          "execution_count": 11,
          "metadata": {},
          "output_type": "execute_result"
        },
        {
          "data": {
            "text/plain": [
              "torch.Size([20000, 14])"
            ]
          },
          "execution_count": 11,
          "metadata": {},
          "output_type": "execute_result"
        },
        {
          "data": {
            "text/plain": [
              "torch.Size([20000])"
            ]
          },
          "execution_count": 11,
          "metadata": {},
          "output_type": "execute_result"
        },
        {
          "data": {
            "text/plain": [
              "tensor([[ 1.8716e-01,  7.5934e+01,  3.0697e+02,  ...,  1.0898e+00,\n",
              "          8.5216e-02,  9.1937e-01],\n",
              "        [ 7.3964e-01,  4.0687e+00,  2.6314e+00,  ...,  1.0757e+00,\n",
              "          9.3174e-03,  1.0479e+00],\n",
              "        [ 1.4281e+00, -5.6663e+00,  5.6765e+00,  ...,  9.2143e-01,\n",
              "          4.2960e-02,  9.4379e-01],\n",
              "        ...,\n",
              "        [ 4.1816e+00,  1.1259e+02, -1.9415e+00,  ...,  9.8020e-01,\n",
              "          2.9073e-02,  9.5646e-01],\n",
              "        [ 2.5769e+00,  2.8073e+01,  2.7713e+01,  ...,  1.0462e+00,\n",
              "          4.8189e-02,  1.0549e+00],\n",
              "        [ 8.0853e-01,  2.2680e+02,  2.1269e+02,  ...,  1.0365e+00,\n",
              "          6.5952e-02,  9.9179e-01]])"
            ]
          },
          "execution_count": 11,
          "metadata": {},
          "output_type": "execute_result"
        },
        {
          "data": {
            "text/plain": [
              "tensor([1.9615e+03, 1.7365e+00, 1.1416e+00,  ..., 2.5371e+00, 2.3193e+00,\n",
              "        5.2725e+02])"
            ]
          },
          "execution_count": 11,
          "metadata": {},
          "output_type": "execute_result"
        },
        {
          "data": {
            "text/plain": [
              "tensor([[ 1.0115e+00, -5.5370e+00,  1.9948e+01,  ...,  9.7624e-01,\n",
              "          8.5910e-02,  9.9501e-01],\n",
              "        [ 1.9448e+00,  4.4434e+01,  2.5474e+01,  ...,  1.0081e+00,\n",
              "          4.0891e-02,  1.0872e+00],\n",
              "        [ 5.3569e-01,  3.6203e+01,  6.6400e+01,  ...,  9.3537e-01,\n",
              "          7.4418e-02,  1.0006e+00],\n",
              "        ...,\n",
              "        [ 3.3717e+00,  1.3276e+02,  1.4400e+02,  ...,  1.0096e+00,\n",
              "          5.2414e-02,  1.0323e+00],\n",
              "        [ 5.5446e+00,  3.3080e+01,  6.7095e+01,  ...,  1.0597e+00,\n",
              "          3.5000e-02,  1.0338e+00],\n",
              "        [ 1.7135e-01,  3.2854e+01, -6.0162e+00,  ...,  9.7208e-01,\n",
              "          6.6548e-02,  9.4791e-01]])"
            ]
          },
          "execution_count": 11,
          "metadata": {},
          "output_type": "execute_result"
        },
        {
          "data": {
            "text/plain": [
              "tensor([185.2968,   1.9312,   1.3596,  ...,   1.9870,   2.3008,   2.2992])"
            ]
          },
          "execution_count": 11,
          "metadata": {},
          "output_type": "execute_result"
        }
      ],
      "source": [
        "\n",
        "x_train.shape\n",
        "y_train.shape\n",
        "x_test.shape\n",
        "y_test.shape\n",
        "x_train\n",
        "y_train\n",
        "x_test\n",
        "y_test"
      ]
    },
    {
      "cell_type": "code",
      "execution_count": 12,
      "metadata": {},
      "outputs": [
        {
          "data": {
            "text/plain": [
              "tensor(False)"
            ]
          },
          "execution_count": 12,
          "metadata": {},
          "output_type": "execute_result"
        },
        {
          "data": {
            "text/plain": [
              "tensor(False)"
            ]
          },
          "execution_count": 12,
          "metadata": {},
          "output_type": "execute_result"
        },
        {
          "data": {
            "text/plain": [
              "tensor(False)"
            ]
          },
          "execution_count": 12,
          "metadata": {},
          "output_type": "execute_result"
        },
        {
          "data": {
            "text/plain": [
              "tensor(False)"
            ]
          },
          "execution_count": 12,
          "metadata": {},
          "output_type": "execute_result"
        }
      ],
      "source": [
        "torch.isnan(x_train).any()\n",
        "torch.isnan(x_test).any()\n",
        "torch.isnan(y_train).any()\n",
        "torch.isnan(y_test).any()"
      ]
    },
    {
      "cell_type": "code",
      "execution_count": 13,
      "metadata": {},
      "outputs": [
        {
          "data": {
            "text/plain": [
              "(tensor([], dtype=torch.int64), tensor([], dtype=torch.int64))"
            ]
          },
          "execution_count": 13,
          "metadata": {},
          "output_type": "execute_result"
        },
        {
          "data": {
            "text/plain": [
              "2"
            ]
          },
          "execution_count": 13,
          "metadata": {},
          "output_type": "execute_result"
        },
        {
          "data": {
            "text/plain": [
              "(tensor([], dtype=torch.int64), tensor([], dtype=torch.int64))"
            ]
          },
          "execution_count": 13,
          "metadata": {},
          "output_type": "execute_result"
        },
        {
          "data": {
            "text/plain": [
              "2"
            ]
          },
          "execution_count": 13,
          "metadata": {},
          "output_type": "execute_result"
        }
      ],
      "source": [
        "nan_mask_train = torch.isnan(x_train)     # get a boolean mask indicating NaN values\n",
        "nan_indices_train = torch.where(nan_mask_train)  # get the indices of the NaN values\n",
        "nan_indices_train\n",
        "# len(nan_indices_train)\n",
        "\n",
        "nan_mask_test = torch.isnan(x_test)     # get a boolean mask indicating NaN values\n",
        "nan_indices_test = torch.where(nan_mask_train)  # get the indices of the NaN values\n",
        "nan_indices_test\n",
        "# len(nan_indices_test)"
      ]
    },
    {
      "attachments": {},
      "cell_type": "markdown",
      "metadata": {},
      "source": [
        "## Visualizing the data"
      ]
    },
    {
      "attachments": {},
      "cell_type": "markdown",
      "metadata": {},
      "source": [
        "### Visualizing sampled data"
      ]
    },
    {
      "cell_type": "code",
      "execution_count": 14,
      "metadata": {},
      "outputs": [],
      "source": [
        "if not LOAD_DATA_FROM_CSV:\n",
        "    rho_train\n",
        "    epsilon_train\n",
        "    vx_train\n",
        "    vy_train\n",
        "    vz_train \n",
        "    Bx_train\n",
        "    By_train\n",
        "    Bz_train\n",
        "    rho_test\n",
        "    epsilon_test\n",
        "    vx_test \n",
        "    vy_test \n",
        "    vz_test \n",
        "    Bx_test\n",
        "    By_test\n",
        "    Bz_test"
      ]
    },
    {
      "cell_type": "code",
      "execution_count": 15,
      "metadata": {
        "id": "VMp6XJ6RUZh4"
      },
      "outputs": [],
      "source": [
        "%config InteractiveShell.ast_node_interactivity = \"last_expr_or_assign\""
      ]
    },
    {
      "cell_type": "code",
      "execution_count": 16,
      "metadata": {
        "colab": {
          "base_uri": "https://localhost:8080/",
          "height": 409
        },
        "id": "E5YFdqKjUZh5",
        "outputId": "fe67d113-f369-495f-9aba-201c71058eb7"
      },
      "outputs": [],
      "source": [
        "if not LOAD_DATA_FROM_CSV:\n",
        "    def plot_histogram(data, xlabel, ylabel, position, bins=20, log_scale=False):\n",
        "        plt.subplot(4, 5, position)\n",
        "        plt.hist(data, bins=bins)\n",
        "        plt.xlabel(xlabel)\n",
        "        plt.ylabel(ylabel)\n",
        "        if log_scale:\n",
        "            plt.yscale(\"log\")\n",
        "\n",
        "    # Plotting the histograms of rho, vx, epsilon, b0, b1, b2, and b3\n",
        "    plt.figure(figsize=(20, 16))\n",
        "\n",
        "    plot_histogram(rho_train, \"rho\", \"Frequency\", 1)\n",
        "    plot_histogram(epsilon_train, \"epsilon\", \"Frequency\", 2)\n",
        "    plot_histogram(vx_train, \"vx\", \"Frequency\", 3)\n",
        "    plot_histogram(vy_train, \"vy\", \"Frequency\", 4)\n",
        "    plot_histogram(vz_train, \"vz\", \"Frequency\", 5)\n",
        "    plot_histogram(Bx_train, \"Bx\", \"Frequency\", 6)\n",
        "    plot_histogram(By_train, \"By\", \"Frequency\", 7)\n",
        "    plot_histogram(Bz_train, \"Bz\", \"Frequency\", 8)\n",
        "    \n",
        "    # Plot these\n",
        "    plot_histogram(gxx_train, \"gxx\", \"Frequency\", 9)\n",
        "    plot_histogram(gxy_train, \"gxy\", \"Frequency\", 10)\n",
        "    plot_histogram(gxz_train, \"gxz\", \"Frequency\", 11)\n",
        "    plot_histogram(gyy_train, \"gyy\", \"Frequency\", 12)\n",
        "    plot_histogram(gyz_train, \"gyz\", \"Frequency\", 13)\n",
        "    plot_histogram(gzz_train, \"gzz\", \"Frequency\", 14)\n",
        "    # Adjust the layout as needed for the additional plots\n",
        "\n",
        "    plt.suptitle(\"Primitive variables\")\n",
        "    plt.tight_layout()\n",
        "    plt.show()\n"
      ]
    },
    {
      "cell_type": "code",
      "execution_count": 17,
      "metadata": {},
      "outputs": [],
      "source": [
        "%config InteractiveShell.ast_node_interactivity = \"last_expr_or_assign\""
      ]
    },
    {
      "cell_type": "code",
      "execution_count": 18,
      "metadata": {},
      "outputs": [],
      "source": [
        "if not LOAD_DATA_FROM_CSV:\n",
        "    # List of variable names\n",
        "    variable_names = [\"D\", \"Sx\", \"Sy\", \"Sz\", \"tau\", \"Bconsx\", \"Bconsy\", \"Bconsz\"]\n",
        "\n",
        "    # Note how we are only plotting train and not test here. \n",
        "    # Plotting histograms of the input variables before z-score normalization\n",
        "    plt.figure(figsize=(16, 16))\n",
        "    plt.suptitle('Histograms of input variables before (or without at all) z-score normalization', y=1.03)\n",
        "    for i in range(8):\n",
        "        plt.subplot(4, 2, i+1)\n",
        "        plt.hist(x_train[:, i].cpu(), bins=50) # Must be converted to cpu() for plotting.\n",
        "        plt.xlabel(variable_names[i])\n",
        "    plt.subplots_adjust(hspace=0.4, wspace=0.4)\n",
        "    plt.show()\n"
      ]
    },
    {
      "attachments": {},
      "cell_type": "markdown",
      "metadata": {},
      "source": [
        "### Data normalization"
      ]
    },
    {
      "cell_type": "code",
      "execution_count": 19,
      "metadata": {},
      "outputs": [
        {
          "name": "stdout",
          "output_type": "stream",
          "text": [
            "Summary statistics of input variables before z-score normalization\n",
            "tensor([[ 9.7052e-05,  3.7091e+02,  2.2732e+00,  1.6640e+00,  3.8177e+00],\n",
            "        [-1.0271e+02,  2.9075e+07,  1.2100e+03,  2.9006e+01,  1.1198e+05],\n",
            "        [-1.1450e+02,  8.8010e+07,  1.9362e+03,  2.9005e+01,  3.1443e+05],\n",
            "        [-1.1251e+02,  3.3182e+07,  1.5666e+03,  2.8695e+01,  1.6428e+05],\n",
            "        [ 9.1172e-02,  9.2603e+07,  3.0230e+03,  7.9949e+01,  3.5179e+05],\n",
            "        [-1.1122e+01,  1.1157e+01, -3.2049e-02, -2.0577e-02,  5.7435e+00],\n",
            "        [-1.1184e+01,  1.1075e+01,  4.5558e-03,  6.5811e-03,  5.7127e+00],\n",
            "        [-1.1186e+01,  1.1202e+01, -8.1075e-03, -1.0597e-03,  5.7419e+00],\n",
            "        [ 9.0000e-01,  1.1000e+00,  9.9841e-01,  9.9768e-01,  5.7839e-02],\n",
            "        [ 3.5574e-06,  9.9999e-02,  4.9444e-02,  4.9061e-02,  2.8869e-02],\n",
            "        [ 3.0095e-07,  9.9994e-02,  4.9509e-02,  4.9396e-02,  2.8867e-02],\n",
            "        [ 9.0000e-01,  1.1000e+00,  9.9840e-01,  9.9731e-01,  5.7798e-02],\n",
            "        [ 2.7129e-06,  9.9999e-02,  4.9647e-02,  4.9551e-02,  2.8913e-02],\n",
            "        [ 9.0000e-01,  1.1000e+00,  9.9869e-01,  9.9799e-01,  5.7425e-02]])\n"
          ]
        }
      ],
      "source": [
        "# Computing summary statistics of the input variables before and after z-score normalization\n",
        "print('Summary statistics of input variables before z-score normalization')\n",
        "print(torch.stack([torch.min(x_train, dim=0).values, torch.max(x_train, dim=0).values, torch.nanmean(x_train, dim=0), torch.median(x_train, dim=0).values, torch.std(x_train, dim=0)], dim=1))"
      ]
    },
    {
      "attachments": {},
      "cell_type": "markdown",
      "metadata": {
        "id": "xTEmkR1SUZh7"
      },
      "source": [
        "Perform z-score normalization"
      ]
    },
    {
      "cell_type": "code",
      "execution_count": 20,
      "metadata": {},
      "outputs": [],
      "source": [
        "%config InteractiveShell.ast_node_interactivity = \"all\""
      ]
    },
    {
      "cell_type": "code",
      "execution_count": 21,
      "metadata": {
        "id": "yPOv6DxhUZh7"
      },
      "outputs": [],
      "source": [
        "if ZSCORE_NORMALIZATION:\n",
        "    \n",
        "    # TODO: Add magnetic field variables to the normalization if I decide to use the old code that is commented out here.\n",
        "    # # Computing the median of each input variable from the training set using torch.nanmedian function\n",
        "    # D_median = torch.nanmedian(x_train[:, 0])\n",
        "    # Sx_median = torch.nanmedian(x_train[:, 1])\n",
        "    # Sy_median = torch.nanmedian(x_train[:, 2])\n",
        "    # Sz_median = torch.nanmedian(x_train[:, 3])\n",
        "    # tau_median = torch.nanmedian(x_train[:, 4])\n",
        "\n",
        "    # # Computing the standard deviation of each input variable from the training set using torch.std function with a boolean mask to ignore nan values\n",
        "    # D_std = torch.std(x_train[~torch.isnan(x_train[:, 0]), 0])\n",
        "    # Sx_std = torch.std(x_train[~torch.isnan(x_train[:, 1]), 1])\n",
        "    # Sy_std = torch.std(x_train[~torch.isnan(x_train[:, 2]), 2])\n",
        "    # Sz_std = torch.std(x_train[~torch.isnan(x_train[:, 3]), 3])\n",
        "    # tau_std = torch.std(x_train[~torch.isnan(x_train[:, 4]), 4])\n",
        "\n",
        "\n",
        "    # # Applying z-score normalization to both train and test sets using the statistics from the training set\n",
        "    # x_train[:, 0] = torch.sub(x_train[:, 0], D_median).div(D_std)\n",
        "    # x_train[:, 1] = torch.sub(x_train[:, 1], Sx_median).div(Sx_std)\n",
        "    # x_train[:, 2] = torch.sub(x_train[:, 2], Sy_median).div(Sy_std)\n",
        "    # x_train[:, 3] = torch.sub(x_train[:, 3], Sz_median).div(Sz_std)\n",
        "    # x_train[:, 4] = torch.sub(x_train[:, 4], tau_median).div(tau_std)\n",
        "\n",
        "    # x_test[:, 0] = torch.sub(x_test[:, 0], D_median).div(D_std)\n",
        "    # x_test[:, 1] = torch.sub(x_test[:, 1], Sx_median).div(Sx_std)\n",
        "    # x_test[:, 2] = torch.sub(x_test[:, 2], Sy_median).div(Sy_std)\n",
        "    # x_test[:, 3] = torch.sub(x_test[:, 3], Sz_median).div(Sz_std)\n",
        "    # x_test[:, 4] = torch.sub(x_test[:, 4], tau_median).div(tau_std)\n",
        "\n",
        "    # Computing the mean and standard deviation of each column\n",
        "    mean = x_train.mean(dim=0)\n",
        "    std = x_train.std(dim=0)\n",
        "\n",
        "    # Applying z-score normalization\n",
        "    x_train = (x_train - mean) / std\n",
        "    # Use the same mean and std from the training data as we don't want test data leakage.\n",
        "    x_test = (x_test - mean) / std\n",
        "\n"
      ]
    },
    {
      "attachments": {},
      "cell_type": "markdown",
      "metadata": {},
      "source": [
        "Plotting the histograms of the input data after normalization if z-score normalization was performed."
      ]
    },
    {
      "cell_type": "code",
      "execution_count": 22,
      "metadata": {},
      "outputs": [],
      "source": [
        "%config InteractiveShell.ast_node_interactivity = \"last_expr_or_assign\""
      ]
    },
    {
      "cell_type": "code",
      "execution_count": 23,
      "metadata": {},
      "outputs": [],
      "source": [
        "if not LOAD_DATA_FROM_CSV:\n",
        "    if ZSCORE_NORMALIZATION:\n",
        "        # List of variable names\n",
        "        variable_names = [\"D\", \"Sx\", \"Sy\", \"Sz\", \"tau\", \"Bconsx\", \"Bconsy\", \"Bconsz\"]\n",
        "\n",
        "        # Note how we are only plotting train and not test here. \n",
        "        # Plotting histograms of the input variables before z-score normalization\n",
        "        plt.figure(figsize=(16, 16))\n",
        "        plt.suptitle('Histograms of input variables after z-score normalization', y=1.03)\n",
        "        for i in range(8):\n",
        "            plt.subplot(4, 2, i+1)\n",
        "            plt.hist(x_train[:, i].cpu(), bins=50) # Must be converted to cpu() for plotting.\n",
        "            plt.xlabel(variable_names[i])\n",
        "        plt.subplots_adjust(hspace=0.4, wspace=0.4)\n",
        "        plt.show()\n"
      ]
    },
    {
      "cell_type": "code",
      "execution_count": 24,
      "metadata": {},
      "outputs": [],
      "source": [
        "if ZSCORE_NORMALIZATION:\n",
        "    # Computing summary statistics of the input variables after z-score normalization\n",
        "    print('Summary statistics of input variables after z-score normalization')\n",
        "    print(torch.stack([torch.min(x_train, dim=0).values, torch.max(x_train, dim=0).values, torch.mean(x_train, dim=0), torch.median(x_train, dim=0).values, torch.std(x_train, dim=0)], dim=1))\n"
      ]
    },
    {
      "attachments": {},
      "cell_type": "markdown",
      "metadata": {},
      "source": [
        "### Visualizing input data and labels"
      ]
    },
    {
      "cell_type": "code",
      "execution_count": 25,
      "metadata": {},
      "outputs": [
        {
          "data": {
            "text/plain": [
              "tensor([185.2968,   1.9312,   1.3596,  ...,   1.9870,   2.3008,   2.2992])"
            ]
          },
          "execution_count": 25,
          "metadata": {},
          "output_type": "execute_result"
        }
      ],
      "source": [
        "x_train\n",
        "y_train\n",
        "x_test\n",
        "y_test"
      ]
    },
    {
      "attachments": {},
      "cell_type": "markdown",
      "metadata": {
        "colab": {
          "base_uri": "https://localhost:8080/",
          "height": 407
        },
        "id": "E96p_MsOUZh9",
        "outputId": "4b95bad0-8f3a-4364-eed1-008e0ce2a5e3"
      },
      "source": [
        "Checking if our output is always positive by plotting a histogram of y_train and y_test tensors "
      ]
    },
    {
      "cell_type": "code",
      "execution_count": 26,
      "metadata": {},
      "outputs": [
        {
          "data": {
            "image/png": "[encoded data removed]",
            "text/plain": [
              "<Figure size 800x400 with 2 Axes>"
            ]
          },
          "metadata": {},
          "output_type": "display_data"
        }
      ],
      "source": [
        "# Note how we are only plotting train.\n",
        "plt.figure(figsize=(8, 4))\n",
        "plt.subplot(1, 2, 1)\n",
        "plt.hist(y_train.cpu().numpy(), bins=20) # must be cpu here.\n",
        "plt.xlabel(\"y_train\")\n",
        "plt.ylabel(\"Frequency\")\n",
        "plt.yscale(\"log\")\n",
        "plt.subplot(1, 2, 2)\n",
        "plt.hist(y_test.cpu().numpy(), bins=20) # must be cpu here\n",
        "plt.xlabel(\"y_test\")\n",
        "plt.ylabel(\"Frequency\")\n",
        "plt.yscale(\"log\")\n",
        "plt.tight_layout()\n",
        "plt.show()\n"
      ]
    },
    {
      "cell_type": "code",
      "execution_count": 27,
      "metadata": {
        "id": "FEgjk--AUZh9"
      },
      "outputs": [],
      "source": [
        "%config InteractiveShell.ast_node_interactivity = \"all\""
      ]
    },
    {
      "attachments": {},
      "cell_type": "markdown",
      "metadata": {
        "id": "r2b9GecHUZh9"
      },
      "source": [
        "## Defining the neural network"
      ]
    },
    {
      "cell_type": "code",
      "execution_count": 28,
      "metadata": {
        "id": "Iv8HA-ZXUZh-"
      },
      "outputs": [],
      "source": [
        "# Defining a class for the network\n",
        "class Net(nn.Module):\n",
        "    \"\"\"A class for creating a network with a\n",
        "    variable number of hidden layers and units.\n",
        "\n",
        "    Attributes:\n",
        "        n_layers (int): The number of hidden layers in the network.\n",
        "        n_units (list): A list of integers representing the number of units in each hidden layer.\n",
        "        hidden_activation (torch.nn.Module): The activation function for the hidden layers.\n",
        "        output_activation (torch.nn.Module): The activation function for the output layer.\n",
        "        layers (torch.nn.ModuleList): A list of linear layers in the network.\n",
        "    \"\"\"\n",
        "\n",
        "    def __init__(self, n_layers, n_units, hidden_activation, output_activation):\n",
        "        \"\"\"Initializes the network with the given hyperparameters.\n",
        "\n",
        "        Args:\n",
        "            n_layers (int): The number of hidden layers in the network.\n",
        "            n_units (list): A list of integers representing the number of units in each hidden layer.\n",
        "            hidden_activation (torch.nn.Module): The activation function for the hidden layers.\n",
        "            output_activation (torch.nn.Module): The activation function for the output layer.\n",
        "        \"\"\"\n",
        "        super().__init__()\n",
        "        self.n_layers = n_layers\n",
        "        self.n_units = n_units\n",
        "        self.hidden_activation = hidden_activation\n",
        "        self.output_activation = output_activation\n",
        "\n",
        "        # Creating a list of linear layers with different numbers of units for each layer\n",
        "        self.layers = nn.ModuleList([nn.Linear(N_INPUTS, n_units[0])])\n",
        "        for i in range(1, n_layers):\n",
        "            self.layers.append(nn.Linear(n_units[i - 1], n_units[i]))\n",
        "        self.layers.append(nn.Linear(n_units[-1], 1))\n",
        "\n",
        "        # Adding some assertions to check that the input arguments are valid\n",
        "        assert isinstance(n_layers, int) and n_layers > 0, \"n_layers must be a positive integer\"\n",
        "        assert isinstance(n_units, list) and len(n_units) == n_layers, \"n_units must be a list of length n_layers\"\n",
        "        assert all(isinstance(n, int) and n > 0 for n in n_units), \"n_units must contain positive integers\"\n",
        "        assert isinstance(hidden_activation, nn.Module), \"hidden_activation must be a torch.nn.Module\"\n",
        "        assert isinstance(output_activation, nn.Module), \"output_activation must be a torch.nn.Module\"\n",
        "\n",
        "    def forward(self, x):\n",
        "        \"\"\"Performs a forward pass on the input tensor.\n",
        "\n",
        "        Args:\n",
        "            x (torch.Tensor): The input tensor of shape (batch_size, N_INPUTS).\n",
        "\n",
        "        Returns:\n",
        "            torch.Tensor: The output tensor of shape (batch_size, 1).\n",
        "        \"\"\"\n",
        "        # Adding an assertion to check that the input tensor has the expected shape and type\n",
        "        assert isinstance(x, torch.Tensor), \"x must be a torch.Tensor\"\n",
        "        assert x.shape[1] == N_INPUTS, f\"x must have shape (batch_size, {N_INPUTS})\"\n",
        "\n",
        "        # Looping over the hidden layers and applying the linear transformation and the activation function\n",
        "        for layer in self.layers[:-1]:\n",
        "            x = self.hidden_activation(layer(x))\n",
        "        # Applying the linear transformation and the activation function on the output layer\n",
        "        x = self.output_activation(self.layers[-1](x))\n",
        "\n",
        "        # Returning the output tensor\n",
        "        return x\n"
      ]
    },
    {
      "attachments": {},
      "cell_type": "markdown",
      "metadata": {
        "id": "6GNvp55PUZh_"
      },
      "source": [
        "## Defining the model and search space"
      ]
    },
    {
      "cell_type": "code",
      "execution_count": 29,
      "metadata": {
        "id": "9a1opluOUZh_"
      },
      "outputs": [],
      "source": [
        "# Defining a function to create a trial network and optimizer\n",
        "def create_model(trial, optimize):\n",
        "    \"\"\"Creates a trial network and optimizer based on the sampled hyperparameters.\n",
        "\n",
        "    Args:\n",
        "        trial (optuna.trial.Trial): The trial object that contains the hyperparameters.\n",
        "        optimize (boolean): Whether to optimize the hyperparameters or to use predefined values.\n",
        "\n",
        "    Returns:\n",
        "        tuple: A tuple of (net, loss_fn, optimizer, batch_size, n_epochs,\n",
        "            scheduler, loss_name, optimizer_name, scheduler_name,\n",
        "            n_units, n_layers, hidden_activation, output_activation),\n",
        "            where net is the trial network,\n",
        "            loss_fn is the loss function,\n",
        "            optimizer is the optimizer,\n",
        "            batch_size is the batch size,\n",
        "            n_epochs is the number of epochs,\n",
        "            scheduler is the learning rate scheduler,\n",
        "            loss_name is the name of the loss function,\n",
        "            optimizer_name is the name of the optimizer,\n",
        "            scheduler_name is the name of the scheduler,\n",
        "            n_units is a list of integers representing\n",
        "            the number of units in each hidden layer,\n",
        "            n_layers is an integer representing the number of hidden layers in the network,\n",
        "            hidden_activation is a torch.nn.Module representing the activation function for the hidden layers,\n",
        "            output_activation is a torch.nn.Module representing the activation function for the output layer,\n",
        "            lr is the (initial) learning rate.\n",
        "    \"\"\"\n",
        "    # If optimize is True, sample the hyperparameters from the search space\n",
        "    if OPTIMIZE:\n",
        "        # Sampling the hyperparameters from the search space\n",
        "        n_layers = trial.suggest_int(\"n_layers\", 2, 6)\n",
        "        n_units = [trial.suggest_int(f\"n_units_{i}\", 16, 2048) for i in range(n_layers)] \n",
        "        hidden_activation_name = trial.suggest_categorical(\n",
        "            #\"hidden_activation\", [\"ReLU\", \"LeakyReLU\", \"ELU\", \"Tanh\", \"Sigmoid\"]\n",
        "            #\"hidden_activation\", [\"ReLU\", \"LeakyReLU\"]\n",
        "            \"hidden_activation\", [\"ReLU\", \"LeakyReLU\", \"ELU\"]\n",
        "        )\n",
        "        output_activation_name = trial.suggest_categorical(\n",
        "            #\"output_activation\", [\"Linear\", \"ReLU\", \"Softplus\"]\n",
        "            # Assuming pressure cannot be negative, linear output activation is not an option.\n",
        "            #\"output_activation\", [\"ReLU\", \"Softplus\", \"Linear\"]\n",
        "            \"output_activation\", [\"ReLU\", \"Linear\"]\n",
        "        ) \n",
        "        loss_name = trial.suggest_categorical(\n",
        "            #\"loss\", [\"MSE\", \"MAE\", \"Huber\", \"LogCosh\"] \n",
        "            \"loss\", [\"MSE\", \"MAE\", \"Huber\"] \n",
        "        )\n",
        "        optimizer_name = trial.suggest_categorical(\n",
        "            \"optimizer\", [\"Adam\", \"SGD\", \"RMSprop\", \"Adagrad\"] \n",
        "        )\n",
        "        lr = trial.suggest_loguniform(\"lr\", 1e-4, 1e-2) \n",
        "\n",
        "        batch_size_list = [32, 48, 64, 96, 128, 256, 512, 1048]\n",
        "        batch_size = trial.suggest_categorical(\"batch_size\", batch_size_list)\n",
        "        #batch_size = trial.suggest_int(\"batch_size\", 64, 1048)\n",
        "        n_epochs = trial.suggest_int(\"n_epochs\", 100, 300) \n",
        "        scheduler_name = trial.suggest_categorical(\n",
        "            \"scheduler\",\n",
        "            # [\"None\", \"CosineAnnealingLR\", \"ReduceLROnPlateau\", \"StepLR\", \"ExponentialLR\"],\n",
        "            [\"CosineAnnealingLR\", \"ReduceLROnPlateau\", \"StepLR\"],\n",
        "        )\n",
        "\n",
        "    # If optimize is False, use the predefined values\n",
        "    else:\n",
        "        # Setting the hyperparameters to the predefined values\n",
        "        n_layers = N_LAYERS_NO_OPT\n",
        "        n_units = N_UNITS_NO_OPT\n",
        "        hidden_activation_name = HIDDEN_ACTIVATION_NAME_NO_OPT\n",
        "        output_activation_name = OUTPUT_ACTIVATION_NAME_NO_OPT\n",
        "        loss_name = LOSS_NAME_NO_OPT\n",
        "        optimizer_name = OPTIMIZER_NAME_NO_OPT\n",
        "        lr = LR_NO_OPT\n",
        "        batch_size = BATCH_SIZE_NO_OPT\n",
        "        n_epochs = N_EPOCHS_NO_OPT\n",
        "        scheduler_name = SCHEDULER_NAME_NO_OPT\n",
        "\n",
        "\n",
        "    # Creating the activation functions from their names\n",
        "    if hidden_activation_name == \"ReLU\":\n",
        "        hidden_activation = nn.ReLU()\n",
        "    elif hidden_activation_name == \"LeakyReLU\":\n",
        "        hidden_activation = nn.LeakyReLU() \n",
        "    elif hidden_activation_name == \"ELU\":\n",
        "        hidden_activation = nn.ELU() \n",
        "    elif hidden_activation_name == \"Tanh\":\n",
        "        hidden_activation = nn.Tanh()\n",
        "    else:\n",
        "        hidden_activation = nn.Sigmoid()\n",
        "\n",
        "    if output_activation_name == \"ReLU\":\n",
        "        output_activation = nn.ReLU()\n",
        "    elif output_activation_name == \"Softplus\":\n",
        "        output_activation = nn.Softplus()\n",
        "    else:\n",
        "        output_activation = nn.Identity()\n",
        "\n",
        "    # Creating the loss function from its name\n",
        "    if loss_name == \"MSE\":\n",
        "        loss_fn = nn.MSELoss()\n",
        "    elif loss_name == \"MAE\":\n",
        "        loss_fn = nn.L1Loss()\n",
        "    elif loss_name == \"Huber\":\n",
        "        loss_fn = nn.SmoothL1Loss() \n",
        "    else:\n",
        "        # Creating the log-cosh loss function\n",
        "        def log_cosh_loss(y_pred, y_true):\n",
        "            return torch.mean(torch.log(torch.cosh(y_pred - y_true)))\n",
        "            \n",
        "        loss_fn = log_cosh_loss\n",
        "\n",
        "    # Creating the network with the sampled hyperparameters\n",
        "    net = Net(\n",
        "        n_layers, n_units, hidden_activation, output_activation\n",
        "    ).to(device)\n",
        "\n",
        "    if OPTIMIZE:\n",
        "        # Creating the optimizer from its name\n",
        "        if optimizer_name == \"SGD\":\n",
        "            # Added sampling the weight decay and momentum for SGD\n",
        "            weight_decay = trial.suggest_loguniform(\"weight_decay\", 1e-5, 1e-2)\n",
        "            momentum = trial.suggest_uniform(\"momentum\", 0.0, 0.99)\n",
        "            optimizer = optim.SGD(net.parameters(), lr=lr, weight_decay=weight_decay, momentum=momentum)\n",
        "        elif optimizer_name == \"Adam\":\n",
        "            # Added sampling the weight decay and beta parameters for Adam\n",
        "            weight_decay = trial.suggest_loguniform(\"weight_decay\", 1e-5, 1e-2)\n",
        "            beta1 = trial.suggest_uniform(\"beta1\", 0.9, 0.999)\n",
        "            beta2 = trial.suggest_uniform(\"beta2\", 0.999, 0.9999)\n",
        "            optimizer = optim.Adam(net.parameters(), lr=lr, weight_decay=weight_decay, betas=(beta1, beta2))\n",
        "        elif optimizer_name == \"RMSprop\":\n",
        "            optimizer = optim.RMSprop(net.parameters(), lr=lr)\n",
        "        else:\n",
        "            # Added creating the Adagrad optimizer\n",
        "            optimizer = optim.Adagrad(net.parameters(), lr=lr)\n",
        "\n",
        "        # Creating the learning rate scheduler from its name\n",
        "        if scheduler_name == \"StepLR\":\n",
        "            step_size = trial.suggest_int(\"step_size\", 5, 15)\n",
        "            gamma = trial.suggest_uniform(\"gamma\", 0.1, 0.5)\n",
        "            scheduler = optim.lr_scheduler.StepLR(optimizer, step_size=step_size, gamma=gamma)\n",
        "        elif scheduler_name == \"ExponentialLR\":\n",
        "            gamma = trial.suggest_uniform(\"gamma\", 0.8, 0.99)\n",
        "            scheduler = optim.lr_scheduler.ExponentialLR(optimizer, gamma=gamma)\n",
        "        elif scheduler_name == \"CosineAnnealingLR\":\n",
        "            if n_epochs < 150:\n",
        "                t_max_fraction = trial.suggest_uniform('t_max_fraction', 0.1, 0.3)\n",
        "            elif n_epochs > 250:\n",
        "                t_max_fraction = trial.suggest_uniform('t_max_fraction', 0.05, 0.1)\n",
        "            else:\n",
        "                t_max_fraction = trial.suggest_uniform('t_max_fraction', 0.1, 0.2)\n",
        "\n",
        "            T_max = int(n_epochs * t_max_fraction)\n",
        "            eta_min = trial.suggest_loguniform(\"eta_min\", 1e-7, 1e-2)\n",
        "            scheduler = optim.lr_scheduler.CosineAnnealingLR(optimizer, T_max=T_max, eta_min=eta_min)\n",
        "        elif scheduler_name == \"ReduceLROnPlateau\":\n",
        "            # Added sampling the factor, patience and threshold for ReduceLROnPlateau\n",
        "            factor = trial.suggest_uniform(\"factor\", 0.1, 0.5)\n",
        "            patience = trial.suggest_int(\"patience\", 5, 10)\n",
        "            threshold = trial.suggest_loguniform(\"threshold\", 1e-4, 1e-2)\n",
        "            scheduler = optim.lr_scheduler.ReduceLROnPlateau(\n",
        "                optimizer, mode=\"min\", factor=factor, patience=patience, threshold=threshold\n",
        "            )\n",
        "        # # Added using OneCycleLR scheduler as an option\n",
        "        # elif scheduler_name == \"OneCycleLR\":\n",
        "        #         # Added sampling the max_lr and pct_start for OneCycleLR\n",
        "        #         max_lr = trial.suggest_loguniform(\"max_lr\", lr, 10 * lr) \n",
        "        #         pct_start = trial.suggest_uniform(\"pct_start\", 0.1, 0.9)\n",
        "        #         scheduler = optim.lr_scheduler.OneCycleLR(\n",
        "        #             optimizer,\n",
        "        #             max_lr=max_lr,\n",
        "        #             epochs=n_epochs,\n",
        "        #             steps_per_epoch=len(train_loader),\n",
        "        #             pct_start=pct_start,\n",
        "        #         )\n",
        "        else:\n",
        "            scheduler = None\n",
        "    else:\n",
        "        # Creating the optimizer from its name\n",
        "        if optimizer_name == \"SGD\":\n",
        "            optimizer = optim.SGD(net.parameters(), lr=lr)\n",
        "        elif optimizer_name == \"Adam\":\n",
        "            optimizer = optim.Adam(net.parameters(), lr=lr)\n",
        "        elif optimizer_name == \"RMSprop\":\n",
        "            optimizer = optim.RMSprop(net.parameters(), lr=lr)\n",
        "        else:\n",
        "            optimizer = optim.Adagrad(net.parameters(), lr=lr)\n",
        "\n",
        "        # Creating the learning rate scheduler from its name\n",
        "        if scheduler_name == \"StepLR\":\n",
        "            scheduler = optim.lr_scheduler.StepLR(optimizer, step_size=10, gamma=0.1)\n",
        "        elif scheduler_name == \"ExponentialLR\":\n",
        "            scheduler = optim.lr_scheduler.ExponentialLR(optimizer, gamma=0.9)\n",
        "        elif scheduler_name == \"CosineAnnealingLR\":\n",
        "            scheduler = optim.lr_scheduler.CosineAnnealingLR(optimizer)\n",
        "        elif scheduler_name == \"ReduceLROnPlateau\":\n",
        "            # Creating the ReduceLROnPlateau scheduler with a threshold value of 0.01\n",
        "            #scheduler = optim.lr_scheduler.ReduceLROnPlateau(\n",
        "            #    optimizer, mode=\"min\", factor=0.1, patience=10, threshold=0.01\n",
        "            #)\n",
        "            # Use Dieseldorst et al. settings and add to that a minimum lr.\n",
        "            scheduler = optim.lr_scheduler.ReduceLROnPlateau(\n",
        "                        optimizer, mode=\"min\", factor=0.18979341786654758, patience=11, threshold=0.0017197466122611932 #, min_lr=1e-6\n",
        "                    )\n",
        "        else:\n",
        "            scheduler = None\n",
        "\n",
        "    # Returning all variables needed for saving and loading\n",
        "    return net, loss_fn, optimizer, batch_size, n_epochs, scheduler, loss_name, optimizer_name, scheduler_name, n_units, n_layers, hidden_activation, output_activation, lr\n",
        "\n"
      ]
    },
    {
      "attachments": {},
      "cell_type": "markdown",
      "metadata": {
        "id": "l-czA7VvUZiD"
      },
      "source": [
        " ## The training and evaluation loop\n",
        "\n",
        " We first define a couple of functions used in the training and evaluation."
      ]
    },
    {
      "cell_type": "code",
      "execution_count": 30,
      "metadata": {
        "id": "aD6FQNmxUZiD"
      },
      "outputs": [],
      "source": [
        "# Defining a function that computes loss and metrics for a given batch\n",
        "def compute_loss_and_metrics(y_pred, y_true, loss_fn):\n",
        "    \"\"\"Computes loss and metrics for a given batch.\n",
        "\n",
        "    Args:\n",
        "        y_pred (torch.Tensor): The predicted pressure tensor of shape (batch_size, 1).\n",
        "        y_true (torch.Tensor): The true pressure tensor of shape (batch_size,).\n",
        "        loss_fn (torch.nn.Module or function): The loss function to use.\n",
        "\n",
        "    Returns:\n",
        "        tuple: A tuple of (loss, l1_norm), where loss is a scalar tensor,\n",
        "            l1_norm is L1 norm for relative error of pressure,\n",
        "            each being a scalar tensor.\n",
        "            linf_norm is Linf norm for relative error of pressure.\n",
        "    \"\"\"\n",
        "    # Reshaping the target tensor to match the input tensor\n",
        "    y_true = y_true.view(-1, 1)\n",
        "\n",
        "    # Computing the loss using the loss function\n",
        "    loss = loss_fn(y_pred, y_true)\n",
        "\n",
        "    # Computing the relative error of pressure\n",
        "    rel_error = torch.abs((y_pred - y_true) / y_true)\n",
        "\n",
        "    # Computing the L1 norm for the relative error of pressure\n",
        "    l1_norm = torch.mean(rel_error) \n",
        "    # Computing the Linf norm for the relative error of pressure\n",
        "    linf_norm = torch.max(rel_error) \n",
        "\n",
        "    # Returning the loss and metrics\n",
        "    return loss, l1_norm, linf_norm\n",
        "\n",
        "\n",
        "# Defining a function that updates the learning rate scheduler with validation loss if applicable\n",
        "def update_scheduler(scheduler, test_loss):\n",
        "    \"\"\"Updates the learning rate scheduler with validation loss if applicable.\n",
        "\n",
        "    Args:\n",
        "        scheduler (torch.optim.lr_scheduler._LRScheduler or None): The learning rate scheduler to use.\n",
        "        test_loss (float): The validation loss to use.\n",
        "\n",
        "    Returns:\n",
        "        None\n",
        "    \"\"\"\n",
        "    # Checking if scheduler is not None\n",
        "    if scheduler is not None:\n",
        "        # Checking if scheduler is ReduceLROnPlateau\n",
        "        if isinstance(scheduler, optim.lr_scheduler.ReduceLROnPlateau):\n",
        "            # Updating the scheduler with test_loss\n",
        "            scheduler.step(test_loss)\n",
        "        else:\n",
        "            # Updating the scheduler without test_loss\n",
        "            scheduler.step()\n"
      ]
    },
    {
      "attachments": {},
      "cell_type": "markdown",
      "metadata": {
        "id": "w1nE662UUZiE"
      },
      "source": [
        "Now for the actual training and evaluation loop,"
      ]
    },
    {
      "cell_type": "code",
      "execution_count": 31,
      "metadata": {
        "id": "YAOjgKW3UZiF"
      },
      "outputs": [],
      "source": [
        "# Defining a function to train and evaluate a network\n",
        "def train_and_eval(net, loss_fn, optimizer, batch_size, n_epochs, scheduler, trial=None):\n",
        "    \"\"\"Trains and evaluates a network.\n",
        "\n",
        "    Args:\n",
        "        net (torch.nn.Module): The network to train and evaluate.\n",
        "        loss_fn (torch.nn.Module or function): The loss function.\n",
        "        optimizer (torch.optim.Optimizer): The optimizer.\n",
        "        batch_size (int): The batch size.\n",
        "        n_epochs (int): The number of epochs.\n",
        "        scheduler (torch.optim.lr_scheduler._LRScheduler or None): The learning rate scheduler.\n",
        "    Returns:\n",
        "        tuple: A tuple of (train_losses, test_losses, train_metrics, test_metrics), where\n",
        "            train_losses is a list of training losses for each epoch,\n",
        "            test_losses is a list of validation losses for each epoch,\n",
        "            train_metrics is a list of dictionaries containing training metrics for each epoch,\n",
        "            test_metrics is a list of dictionaries containing validation metrics for each epoch.\n",
        "    \"\"\"\n",
        "    # Creating data loaders for train and test sets\n",
        "    train_loader = torch.utils.data.DataLoader(\n",
        "        torch.utils.data.TensorDataset(x_train, y_train), batch_size=batch_size, shuffle=True\n",
        "    )\n",
        "    test_loader = torch.utils.data.DataLoader(\n",
        "        torch.utils.data.TensorDataset(x_test, y_test), batch_size=batch_size\n",
        "    )\n",
        "\n",
        "    # Initializing lists to store the losses and metrics for each epoch\n",
        "    train_losses = []\n",
        "    test_losses = []\n",
        "    train_metrics = []\n",
        "    test_metrics = []\n",
        "\n",
        "    # Creating a SummaryWriter object to log data for tensorboard\n",
        "    writer = tbx.SummaryWriter()\n",
        "\n",
        "    # Looping over the epochs\n",
        "    for epoch in range(n_epochs):\n",
        "\n",
        "        # Setting the network to training mode\n",
        "        net.train()\n",
        "\n",
        "        # Initializing variables to store the total loss and metrics for the train set\n",
        "        train_loss = 0.0\n",
        "        train_l1_norm = 0.0\n",
        "        train_linf_norm = 0.0\n",
        "\n",
        "        # Looping over the batches in the train set\n",
        "        for x_batch, y_batch in train_loader:\n",
        "\n",
        "            # Moving the batch tensors to the device\n",
        "            x_batch = x_batch.to(device)\n",
        "            y_batch = y_batch.to(device)\n",
        "\n",
        "            # Zeroing the gradients\n",
        "            optimizer.zero_grad()\n",
        "\n",
        "            # Performing a forward pass and computing the loss and metrics\n",
        "            y_pred = net(x_batch)\n",
        "            loss, l1_norm, linf_norm = compute_loss_and_metrics(\n",
        "                y_pred, y_batch, loss_fn\n",
        "            )\n",
        "\n",
        "\n",
        "            # Performing a backward pass and updating the weights\n",
        "            loss.backward()\n",
        "            optimizer.step()\n",
        "\n",
        "            # Updating the total loss and metrics for the train set\n",
        "            train_loss += loss.item() * x_batch.size(0)\n",
        "            train_l1_norm += l1_norm.item() * x_batch.size(0)\n",
        "            train_linf_norm += linf_norm.item() * x_batch.size(0)\n",
        "\n",
        "        # Computing the average loss and metrics for the train set\n",
        "        train_loss /= len(train_loader.dataset)\n",
        "        train_l1_norm /= len(train_loader.dataset)\n",
        "        train_linf_norm /= len(train_loader.dataset)\n",
        "\n",
        "        # Appending the average loss and metrics for the train set to the lists\n",
        "        train_losses.append(train_loss)\n",
        "        train_metrics.append(\n",
        "            {\n",
        "                \"l1_norm\": train_l1_norm,\n",
        "                \"linf_norm\": train_linf_norm,\n",
        "            }\n",
        "        )\n",
        "\n",
        "        # Logging the average loss and metrics for the train set to tensorboard\n",
        "        writer.add_scalar(\"Loss/train\", train_loss, epoch)\n",
        "        writer.add_scalar(\"L1 norm/train\", train_l1_norm, epoch)\n",
        "        writer.add_scalar(\"Linf norm/train\", train_linf_norm, epoch)\n",
        "\n",
        "        # Setting the network to evaluation mode\n",
        "        net.eval()\n",
        "\n",
        "        # Initializing variables to store the total loss and metrics for the test set\n",
        "        test_loss = 0.0\n",
        "        test_l1_norm = 0.0\n",
        "        test_linf_norm = 0.0\n",
        "\n",
        "        # Looping over the batches in the test set\n",
        "        with torch.no_grad():\n",
        "            for x_batch, y_batch in test_loader:\n",
        "\n",
        "                # Moving the batch tensors to the device\n",
        "                x_batch = x_batch.to(device)\n",
        "                y_batch = y_batch.to(device)\n",
        "\n",
        "                # Performing a forward pass and computing the loss and metrics\n",
        "                y_pred = net(x_batch)\n",
        "                loss, l1_norm, linf_norm = compute_loss_and_metrics(\n",
        "                    y_pred, y_batch, loss_fn\n",
        "                )\n",
        "\n",
        "\n",
        "                # Updating the total loss and metrics for the test set\n",
        "                test_loss += loss.item() * x_batch.size(0)\n",
        "                test_l1_norm += l1_norm.item() * x_batch.size(0)\n",
        "                test_linf_norm += linf_norm.item() * x_batch.size(0)\n",
        "\n",
        "        # Computing the average loss and metrics for the test set\n",
        "        test_loss /= len(test_loader.dataset)\n",
        "        test_l1_norm /= len(test_loader.dataset)\n",
        "        test_linf_norm /= len(test_loader.dataset)\n",
        "\n",
        "        # Appending the average loss and metrics for the test set to the lists\n",
        "        test_losses.append(test_loss)\n",
        "        test_metrics.append(\n",
        "            {\n",
        "                \"l1_norm\": test_l1_norm,\n",
        "                \"linf_norm\": test_linf_norm,\n",
        "            }\n",
        "        )\n",
        "\n",
        "        # Logging the average loss and metrics for the test set to tensorboard\n",
        "        writer.add_scalar(\"Loss/test\", test_loss, epoch)\n",
        "        writer.add_scalar(\"L1 norm/test\", test_l1_norm, epoch)\n",
        "        writer.add_scalar(\"Linf norm/test\", test_linf_norm, epoch)\n",
        "\n",
        "        # Printing the average loss and metrics for both sets for this epoch\n",
        "        print(\n",
        "            f\"Epoch {epoch + 1}: Train Loss: {train_loss:.4f}, Test Loss: {test_loss:.4f}, \"\n",
        "            f\"Train L1 Norm: {train_l1_norm:.4f}, Test L1 Norm: {test_l1_norm:.4f}, \"\n",
        "            f\"Train Linf Norm: {train_linf_norm:.4f}, Test Linf Norm: {test_linf_norm:.4f}\"\n",
        "        )\n",
        "\n",
        "        # Updating the learning rate scheduler with validation loss if applicable\n",
        "        update_scheduler(scheduler, test_loss)\n",
        "\n",
        "        # Reporting the intermediate metric value to Optuna if trial is not None\n",
        "        if trial is not None:\n",
        "            trial.report(test_metrics[-1][\"l1_norm\"], epoch)\n",
        "\n",
        "            # Checking if the trial should be pruned based on the intermediate value if trial is not None\n",
        "            if trial.should_prune():\n",
        "                raise optuna.TrialPruned()\n",
        "\n",
        "    # Closing the SummaryWriter object\n",
        "    writer.close()\n",
        "\n",
        "    # Returning the losses and metrics lists\n",
        "    return train_losses, test_losses, train_metrics, test_metrics"
      ]
    },
    {
      "attachments": {},
      "cell_type": "markdown",
      "metadata": {
        "id": "xg9jz0SvUZiQ"
      },
      "source": [
        "## The objective function and hyperparameter tuning"
      ]
    },
    {
      "cell_type": "code",
      "execution_count": 32,
      "metadata": {
        "id": "fmRncQPuUZiR"
      },
      "outputs": [],
      "source": [
        "# Defining an objective function for Optuna to minimize\n",
        "def objective(trial):\n",
        "    \"\"\"Defines an objective function for Optuna to minimize.\n",
        "\n",
        "    Args:\n",
        "        trial (optuna.trial.Trial): The trial object that contains the hyperparameters.\n",
        "\n",
        "    Returns:\n",
        "        float: The validation L1 norm to minimize.\n",
        "    \"\"\"\n",
        "    # Creating a trial network and optimizer using the create_model function\n",
        "    net, \\\n",
        "    loss_fn, \\\n",
        "    optimizer, \\\n",
        "    batch_size, \\\n",
        "    n_epochs, \\\n",
        "    scheduler, \\\n",
        "    loss_name, \\\n",
        "    optimizer_name, \\\n",
        "    scheduler_name, \\\n",
        "    n_units, \\\n",
        "    n_layers, \\\n",
        "    hidden_activation, \\\n",
        "    output_activation, \\\n",
        "    lr = create_model(trial, optimize=True)\n",
        "\n",
        "    # Training and evaluating the network using the train_and_eval function\n",
        "    _, _, _, test_metrics = train_and_eval(\n",
        "        net, loss_fn, optimizer, batch_size, n_epochs, scheduler, trial\n",
        "    )\n",
        "\n",
        "    # Returning the last validation L1 norm as the objective value to minimize\n",
        "    return test_metrics[-1][\"l1_norm\"]"
      ]
    },
    {
      "cell_type": "code",
      "execution_count": 33,
      "metadata": {
        "id": "GyES4NAyUZiS"
      },
      "outputs": [],
      "source": [
        "if OPTIMIZE:\n",
        "    # Creating a study object with Optuna with TPE sampler and median pruner \n",
        "    study = optuna.create_study(direction=\"minimize\", sampler=optuna.samplers.TPESampler(), pruner=optuna.pruners.MedianPruner())\n",
        "\n",
        "    # Running Optuna with 100 trials when we are optimizing.\n",
        "    study.optimize(objective, n_trials=N_TRIALS)\n",
        "\n",
        "    # Printing the best trial information\n",
        "    print(\"Best trial:\")\n",
        "    trial = study.best_trial\n",
        "    print(\"  Value: \", trial.value)\n",
        "    print(\"  Params: \")\n",
        "    for key, value in trial.params.items():\n",
        "        print(f\"    {key}: {value}\")\n"
      ]
    },
    {
      "attachments": {},
      "cell_type": "markdown",
      "metadata": {
        "id": "jmMfE9_dUZiS"
      },
      "source": [
        "## Training the model"
      ]
    },
    {
      "cell_type": "code",
      "execution_count": 34,
      "metadata": {
        "id": "phyiHlWEUZiT"
      },
      "outputs": [],
      "source": [
        "# Creating the best network and optimizer using the best hyperparameters\n",
        "if OPTIMIZE:\n",
        "    net, \\\n",
        "    loss_fn, \\\n",
        "    optimizer, \\\n",
        "    batch_size, \\\n",
        "    n_epochs, \\\n",
        "    scheduler, \\\n",
        "    loss_name, \\\n",
        "    optimizer_name, \\\n",
        "    scheduler_name, \\\n",
        "    n_units, \\\n",
        "    n_layers, \\\n",
        "    hidden_activation, \\\n",
        "    output_activation, \\\n",
        "    lr = create_model(trial, optimize=True)\n",
        "# Creating the network with predefined hyperparameters\n",
        "else:\n",
        "    net, \\\n",
        "    loss_fn, \\\n",
        "    optimizer, \\\n",
        "    batch_size, \\\n",
        "    n_epochs, \\\n",
        "    scheduler, \\\n",
        "    loss_name, \\\n",
        "    optimizer_name, \\\n",
        "    scheduler_name, \\\n",
        "    n_units, \\\n",
        "    n_layers, \\\n",
        "    hidden_activation, \\\n",
        "    output_activation, \\\n",
        "    lr = create_model(trial=None, optimize=False)"
      ]
    },
    {
      "cell_type": "code",
      "execution_count": 35,
      "metadata": {
        "colab": {
          "base_uri": "https://localhost:8080/"
        },
        "id": "_yq-oY81UZiU",
        "outputId": "dbf2f465-bd50-4a20-8926-616c3d2157d0"
      },
      "outputs": [
        {
          "name": "stdout",
          "output_type": "stream",
          "text": [
            "loss_fn: SmoothL1Loss()\n",
            "batch_size: 49\n",
            "n_epochs: 10\n",
            "scheduler: <torch.optim.lr_scheduler.ReduceLROnPlateau object at 0x7f7cbfa001d0>\n",
            "loss_name: Huber\n",
            "optimizer_name: RMSprop\n",
            "scheduler_name: ReduceLROnPlateau\n",
            "n_units: [555, 458, 115]\n",
            "n_layers: 3\n",
            "hidden_activation: ReLU()\n",
            "output_activation: ReLU()\n"
          ]
        }
      ],
      "source": [
        "print(\"loss_fn:\", loss_fn)\n",
        "print(\"batch_size:\", batch_size)\n",
        "print(\"n_epochs:\", n_epochs)\n",
        "print(\"scheduler:\", scheduler)\n",
        "print(\"loss_name:\", loss_name)\n",
        "print(\"optimizer_name:\", optimizer_name)\n",
        "print(\"scheduler_name:\", scheduler_name)\n",
        "print(\"n_units:\", n_units)\n",
        "print(\"n_layers:\", n_layers)\n",
        "print(\"hidden_activation:\", hidden_activation)\n",
        "print(\"output_activation:\", output_activation)"
      ]
    },
    {
      "cell_type": "code",
      "execution_count": 36,
      "metadata": {
        "colab": {
          "base_uri": "https://localhost:8080/"
        },
        "id": "E7aLWdZyUZiW",
        "outputId": "8fb1e8c6-5aa3-43a1-a255-712cf9396d0c"
      },
      "outputs": [
        {
          "name": "stdout",
          "output_type": "stream",
          "text": [
            "Epoch 1: Train Loss: 485.8985, Test Loss: 210.1299, Train L1 Norm: 2.0914, Test L1 Norm: 2.0894, Train Linf Norm: 17.8828, Test Linf Norm: 16.8918\n",
            "Epoch 2: Train Loss: 310.9262, Test Loss: 216.0311, Train L1 Norm: 1.8313, Test L1 Norm: 1.0000, Train Linf Norm: 13.6477, Test Linf Norm: 1.0000\n",
            "Epoch 3: Train Loss: 216.7807, Test Loss: 216.0133, Train L1 Norm: 1.0447, Test L1 Norm: 0.9889, Train Linf Norm: 1.4394, Test Linf Norm: 1.0179\n",
            "Epoch 4: Train Loss: 281.6633, Test Loss: 216.0311, Train L1 Norm: 1.9213, Test L1 Norm: 1.0000, Train Linf Norm: 14.7072, Test Linf Norm: 1.0000\n",
            "Epoch 5: Train Loss: 217.1945, Test Loss: 216.0311, Train L1 Norm: 1.0000, Test L1 Norm: 1.0000, Train Linf Norm: 1.0000, Test Linf Norm: 1.0000\n",
            "Epoch 6: Train Loss: 217.1945, Test Loss: 216.0311, Train L1 Norm: 1.0000, Test L1 Norm: 1.0000, Train Linf Norm: 1.0000, Test Linf Norm: 1.0000\n",
            "Epoch 7: Train Loss: 217.1945, Test Loss: 216.0311, Train L1 Norm: 1.0000, Test L1 Norm: 1.0000, Train Linf Norm: 1.0000, Test Linf Norm: 1.0000\n",
            "Epoch 8: Train Loss: 217.1945, Test Loss: 216.0311, Train L1 Norm: 1.0000, Test L1 Norm: 1.0000, Train Linf Norm: 1.0000, Test Linf Norm: 1.0000\n",
            "Epoch 9: Train Loss: 217.1945, Test Loss: 216.0311, Train L1 Norm: 1.0000, Test L1 Norm: 1.0000, Train Linf Norm: 1.0000, Test Linf Norm: 1.0000\n",
            "Epoch 10: Train Loss: 217.1945, Test Loss: 216.0311, Train L1 Norm: 1.0000, Test L1 Norm: 1.0000, Train Linf Norm: 1.0000, Test Linf Norm: 1.0000\n"
          ]
        }
      ],
      "source": [
        "# Training and evaluating the network using the train_and_eval function\n",
        "train_losses, test_losses, train_metrics, test_metrics = train_and_eval(\n",
        "    net, loss_fn, optimizer, batch_size, n_epochs, scheduler\n",
        ")"
      ]
    },
    {
      "attachments": {},
      "cell_type": "markdown",
      "metadata": {
        "id": "akNucrgMUZiW"
      },
      "source": [
        "## Saving"
      ]
    },
    {
      "cell_type": "code",
      "execution_count": 37,
      "metadata": {
        "id": "LHsrs2Y-UZic"
      },
      "outputs": [],
      "source": [
        "import json\n",
        "\n",
        "# save the network to a .pth file\n",
        "torch.save(net.state_dict(), \"net.pth\")\n",
        "save_file(\"net.pth\")\n",
        "\n",
        "# save the optimizer to a .pth file\n",
        "torch.save(optimizer.state_dict(), \"optimizer.pth\")\n",
        "save_file(\"optimizer.pth\")\n",
        "\n",
        "# save the scheduler to a .pth file if it is not None\n",
        "if scheduler is not None:\n",
        "  torch.save(scheduler.state_dict(), \"scheduler.pth\")\n",
        "  save_file(\"scheduler.pth\")\n",
        "\n",
        "# create a dictionary to store the rest of the variables\n",
        "var_dict = {\n",
        "  \"batch_size\": batch_size,\n",
        "  \"n_epochs\": n_epochs,\n",
        "  \"loss_name\": loss_name,\n",
        "  \"optimizer_name\": optimizer_name,\n",
        "  \"scheduler_name\": scheduler_name,\n",
        "  \"n_units\": n_units,\n",
        "  \"n_layers\": n_layers,\n",
        "  \"hidden_activation_name\": hidden_activation.__class__.__name__,\n",
        "  \"output_activation_name\": output_activation.__class__.__name__,\n",
        "  \"lr\": lr,\n",
        "}\n",
        "\n",
        "# save the dictionary to a .json file\n",
        "with open(\"var_dict.json\", \"w\") as f:\n",
        "  json.dump(var_dict, f)\n",
        "save_file(\"var_dict.json\")\n",
        "\n",
        "# Saving the output of the training using pandas\n",
        "train_df = pd.DataFrame(\n",
        "    {\n",
        "        \"train_loss\": train_losses,\n",
        "        \"test_loss\": test_losses,\n",
        "        \"train_l1_norm\": [m[\"l1_norm\"] for m in train_metrics],\n",
        "        \"test_l1_norm\": [m[\"l1_norm\"] for m in test_metrics],\n",
        "        \"train_linf_norm\": [m[\"linf_norm\"] for m in train_metrics],\n",
        "        \"test_linf_norm\": [m[\"linf_norm\"] for m in test_metrics],\n",
        "    }\n",
        ")\n",
        "train_df.to_csv(\"train_output.csv\", index=False)\n",
        "save_file(\"train_output.csv\")\n"
      ]
    },
    {
      "attachments": {},
      "cell_type": "markdown",
      "metadata": {
        "id": "qU23l7dIUZie"
      },
      "source": [
        "## Visualizing the results"
      ]
    },
    {
      "cell_type": "code",
      "execution_count": 38,
      "metadata": {
        "colab": {
          "base_uri": "https://localhost:8080/",
          "height": 1000
        },
        "id": "cippWZS6UZie",
        "outputId": "f0d6e5c3-945f-481b-a153-e54fed7fe9fa"
      },
      "outputs": [
        {
          "data": {
            "text/plain": [
              "<Figure size 1200x800 with 0 Axes>"
            ]
          },
          "execution_count": 38,
          "metadata": {},
          "output_type": "execute_result"
        },
        {
          "data": {
            "text/plain": [
              "<Axes: >"
            ]
          },
          "execution_count": 38,
          "metadata": {},
          "output_type": "execute_result"
        },
        {
          "data": {
            "text/plain": [
              "[<matplotlib.lines.Line2D at 0x7f7cc1630b50>]"
            ]
          },
          "execution_count": 38,
          "metadata": {},
          "output_type": "execute_result"
        },
        {
          "data": {
            "text/plain": [
              "[<matplotlib.lines.Line2D at 0x7f7cbee2c1d0>]"
            ]
          },
          "execution_count": 38,
          "metadata": {},
          "output_type": "execute_result"
        },
        {
          "data": {
            "text/plain": [
              "Text(0.5, 0, 'Epoch')"
            ]
          },
          "execution_count": 38,
          "metadata": {},
          "output_type": "execute_result"
        },
        {
          "data": {
            "text/plain": [
              "Text(0, 0.5, 'L1 Norm')"
            ]
          },
          "execution_count": 38,
          "metadata": {},
          "output_type": "execute_result"
        },
        {
          "data": {
            "text/plain": [
              "(0.001, 100.0)"
            ]
          },
          "execution_count": 38,
          "metadata": {},
          "output_type": "execute_result"
        },
        {
          "data": {
            "text/plain": [
              "<matplotlib.legend.Legend at 0x7f7cbee870d0>"
            ]
          },
          "execution_count": 38,
          "metadata": {},
          "output_type": "execute_result"
        },
        {
          "data": {
            "text/plain": [
              "<Axes: >"
            ]
          },
          "execution_count": 38,
          "metadata": {},
          "output_type": "execute_result"
        },
        {
          "data": {
            "text/plain": [
              "[<matplotlib.lines.Line2D at 0x7f7cbece58d0>]"
            ]
          },
          "execution_count": 38,
          "metadata": {},
          "output_type": "execute_result"
        },
        {
          "data": {
            "text/plain": [
              "[<matplotlib.lines.Line2D at 0x7f7cbecf5050>]"
            ]
          },
          "execution_count": 38,
          "metadata": {},
          "output_type": "execute_result"
        },
        {
          "data": {
            "text/plain": [
              "Text(0.5, 0, 'Epoch')"
            ]
          },
          "execution_count": 38,
          "metadata": {},
          "output_type": "execute_result"
        },
        {
          "data": {
            "text/plain": [
              "Text(0, 0.5, 'Linf Norm')"
            ]
          },
          "execution_count": 38,
          "metadata": {},
          "output_type": "execute_result"
        },
        {
          "data": {
            "text/plain": [
              "(0.001, 100.0)"
            ]
          },
          "execution_count": 38,
          "metadata": {},
          "output_type": "execute_result"
        },
        {
          "data": {
            "text/plain": [
              "<matplotlib.legend.Legend at 0x7f7cbee2d3d0>"
            ]
          },
          "execution_count": 38,
          "metadata": {},
          "output_type": "execute_result"
        },
        {
          "data": {
            "image/png": "[encoded data removed]",
            "text/plain": [
              "<Figure size 1200x800 with 2 Axes>"
            ]
          },
          "metadata": {},
          "output_type": "display_data"
        },
        {
          "data": {
            "text/plain": [
              "<Figure size 800x600 with 0 Axes>"
            ]
          },
          "execution_count": 38,
          "metadata": {},
          "output_type": "execute_result"
        },
        {
          "data": {
            "text/plain": [
              "[<matplotlib.lines.Line2D at 0x7f7cbebd5150>]"
            ]
          },
          "execution_count": 38,
          "metadata": {},
          "output_type": "execute_result"
        },
        {
          "data": {
            "text/plain": [
              "[<matplotlib.lines.Line2D at 0x7f7cbed0e290>]"
            ]
          },
          "execution_count": 38,
          "metadata": {},
          "output_type": "execute_result"
        },
        {
          "data": {
            "text/plain": [
              "Text(0.5, 0, 'Epoch')"
            ]
          },
          "execution_count": 38,
          "metadata": {},
          "output_type": "execute_result"
        },
        {
          "data": {
            "text/plain": [
              "Text(0, 0.5, 'Huber Loss')"
            ]
          },
          "execution_count": 38,
          "metadata": {},
          "output_type": "execute_result"
        },
        {
          "data": {
            "text/plain": [
              "(1e-07, 1.0)"
            ]
          },
          "execution_count": 38,
          "metadata": {},
          "output_type": "execute_result"
        },
        {
          "data": {
            "text/plain": [
              "<matplotlib.legend.Legend at 0x7f7cbea206d0>"
            ]
          },
          "execution_count": 38,
          "metadata": {},
          "output_type": "execute_result"
        },
        {
          "data": {
            "image/png": "[encoded data removed]",
            "text/plain": [
              "<Figure size 800x600 with 1 Axes>"
            ]
          },
          "metadata": {},
          "output_type": "display_data"
        }
      ],
      "source": [
        "# Plotting the losses and metrics for the best network \n",
        "plt.figure(figsize=(12, 8))\n",
        "#plt.subplot(2, 2, 1)\n",
        "#plt.plot(train_losses, label=\"Train Loss\")\n",
        "#plt.plot(test_losses, label=\"Test Loss\")\n",
        "#plt.xlabel(\"Epoch\")\n",
        "#plt.ylabel(\"Loss\")\n",
        "#plt.legend()\n",
        "plt.subplot(2, 2, 2)\n",
        "plt.plot([m[\"l1_norm\"] for m in train_metrics], label=\"Train L1 Norm\")\n",
        "plt.plot([m[\"l1_norm\"] for m in test_metrics], label=\"Test L1 Norm\")\n",
        "plt.xlabel(\"Epoch\")\n",
        "plt.ylabel(\"L1 Norm\")\n",
        "# Added setting the vertical axis to be in powers of 10\n",
        "plt.yscale(\"log\")\n",
        "# Added setting the vertical axis limits to be from 10^-7 to 10^0\n",
        "plt.ylim(1e-3, 1e2)\n",
        "plt.legend()\n",
        "plt.subplot(2, 2, 3)\n",
        "plt.plot([m[\"linf_norm\"] for m in train_metrics], label=\"Train Linf Norm\")\n",
        "plt.plot([m[\"linf_norm\"] for m in test_metrics], label=\"Test Linf Norm\")\n",
        "plt.xlabel(\"Epoch\")\n",
        "plt.ylabel(\"Linf Norm\")\n",
        "# Added setting the vertical axis to be in powers of 10\n",
        "plt.yscale(\"log\")\n",
        "# Added setting the vertical axis limits to be from 10^-7 to 10^0\n",
        "plt.ylim(1e-3, 1e2)\n",
        "plt.legend()\n",
        "plt.tight_layout()\n",
        "plt.show()\n",
        "\n",
        "# Added plotting MSE of training data and MSE of test data in one plot \n",
        "plt.figure(figsize=(8, 6))\n",
        "plt.plot(train_losses,label=\"training data\")\n",
        "plt.plot(test_losses,label=\"test data\")\n",
        "#if scheduler is not None:\n",
        "#    plt.plot([scheduler.get_last_lr()[0] for _ in range(n_epochs)], label=\"Learning rate\") \n",
        "plt.xlabel(\"Epoch\")\n",
        "plt.ylabel(f\"{loss_name} Loss\")\n",
        "# Added setting the vertical axis to be in powers of 10\n",
        "plt.yscale(\"log\")\n",
        "# Added setting the vertical axis limits to be from 10^-7 to 10^0\n",
        "plt.ylim(1e-7, 1e0)\n",
        "plt.legend()\n",
        "plt.show()"
      ]
    },
    {
      "attachments": {},
      "cell_type": "markdown",
      "metadata": {
        "id": "tiEDutxIUZig"
      },
      "source": [
        "## Loading"
      ]
    },
    {
      "cell_type": "code",
      "execution_count": 39,
      "metadata": {
        "colab": {
          "base_uri": "https://localhost:8080/"
        },
        "id": "p7Mj990wUZih",
        "outputId": "a1132948-c3b1-4d75-becf-4efa93c9a7d0"
      },
      "outputs": [
        {
          "data": {
            "text/plain": [
              "<All keys matched successfully>"
            ]
          },
          "execution_count": 39,
          "metadata": {},
          "output_type": "execute_result"
        }
      ],
      "source": [
        "import json\n",
        "import pandas as pd\n",
        "\n",
        "# load the dictionary from the .json file\n",
        "with open(\"var_dict.json\", \"r\") as f:\n",
        "  var_dict_loaded = json.load(f)\n",
        "\n",
        "# extract the variables from the dictionary\n",
        "batch_size_loaded = var_dict_loaded[\"batch_size\"]\n",
        "n_epochs_loaded = var_dict_loaded[\"n_epochs\"]\n",
        "loss_name_loaded = var_dict_loaded[\"loss_name\"]\n",
        "optimizer_name_loaded = var_dict_loaded[\"optimizer_name\"]\n",
        "scheduler_name_loaded = var_dict_loaded[\"scheduler_name\"]\n",
        "n_units_loaded = var_dict_loaded[\"n_units\"]\n",
        "n_layers_loaded = var_dict_loaded[\"n_layers\"]\n",
        "hidden_activation_name_loaded = var_dict_loaded[\"hidden_activation_name\"]\n",
        "output_activation_name_loaded = var_dict_loaded[\"output_activation_name\"]\n",
        "lr_loaded = var_dict_loaded[\"lr\"]\n",
        "\n",
        "# create the activation functions from their names\n",
        "if hidden_activation_name_loaded == \"ReLU\":\n",
        "  hidden_activation_loaded = nn.ReLU()\n",
        "elif hidden_activation_name_loaded == \"LeakyReLU\":\n",
        "  hidden_activation_loaded = nn.LeakyReLU() \n",
        "elif hidden_activation_name_loaded == \"ELU\":\n",
        "  hidden_activation_loaded = nn.ELU() \n",
        "elif hidden_activation_name_loaded == \"Tanh\":\n",
        "  hidden_activation_loaded = nn.Tanh()\n",
        "else:\n",
        "  hidden_activation_loaded = nn.Sigmoid()\n",
        "\n",
        "if output_activation_name_loaded == \"ReLU\":\n",
        "    output_activation_loaded = nn.ReLU()\n",
        "elif output_activation_name_loaded == \"Softplus\":\n",
        "    output_activation_loaded = nn.Softplus()\n",
        "else:\n",
        "    output_activation_loaded = nn.Identity()\n",
        "\n",
        "\n",
        "\n",
        "# load the network from the .pth file\n",
        "net_loaded = Net(n_layers_loaded, n_units_loaded, hidden_activation_loaded, output_activation_loaded).to(device)\n",
        "if torch.cuda.is_available():\n",
        " net_loaded.load_state_dict(torch.load(\"net.pth\"))\n",
        "else: \n",
        "  net_loaded.load_state_dict(torch.load(\"net.pth\", map_location=torch.device('cpu')))\n",
        "\n",
        "# create the loss function from its name\n",
        "if loss_name_loaded == \"MSE\":\n",
        "  loss_fn_loaded = nn.MSELoss()\n",
        "elif loss_name_loaded == \"MAE\":\n",
        "  loss_fn_loaded = nn.L1Loss()\n",
        "elif loss_name_loaded == \"Huber\":\n",
        "  loss_fn_loaded = nn.SmoothL1Loss() \n",
        "else:\n",
        "  # create the log-cosh loss function\n",
        "  def log_cosh_loss_loaded(y_pred, y_true):\n",
        "    return torch.mean(torch.log(torch.cosh(y_pred - y_true)))\n",
        "  loss_fn_loaded = log_cosh_loss_loaded\n",
        "\n",
        "# load the optimizer from the .pth file\n",
        "if torch.cuda.is_available():\n",
        "  optimizer_loaded_state_dict = torch.load(\"optimizer.pth\")\n",
        "else:\n",
        "  optimizer_loaded_state_dict = torch.load(\"optimizer.pth\", map_location=torch.device('cpu'))\n",
        "\n",
        "if optimizer_name_loaded == \"SGD\":\n",
        "  # Added getting the weight decay and momentum parameters from the state dict\n",
        "  weight_decay_loaded = optimizer_loaded_state_dict[\"param_groups\"][0][\"weight_decay\"]\n",
        "  momentum_loaded = optimizer_loaded_state_dict[\"param_groups\"][0][\"momentum\"]\n",
        "  optimizer_loaded = optim.SGD(net_loaded.parameters(), lr=lr_loaded, weight_decay=weight_decay_loaded, momentum=momentum_loaded)\n",
        "elif optimizer_name_loaded == \"Adam\":\n",
        "  # Added getting the weight decay and beta parameters from the state dict\n",
        "  weight_decay_loaded = optimizer_loaded_state_dict[\"param_groups\"][0][\"weight_decay\"]\n",
        "  beta1_loaded = optimizer_loaded_state_dict[\"param_groups\"][0][\"betas\"][0]\n",
        "  beta2_loaded = optimizer_loaded_state_dict[\"param_groups\"][0][\"betas\"][1]\n",
        "  optimizer_loaded = optim.Adam(net_loaded.parameters(), lr=lr_loaded, weight_decay=weight_decay_loaded, betas=(beta1_loaded, beta2_loaded))\n",
        "elif optimizer_name_loaded == \"RMSprop\":\n",
        "  optimizer_loaded = optim.RMSprop(net_loaded.parameters(), lr=lr_loaded)\n",
        "else:\n",
        "  # Added loading the Adagrad optimizer\n",
        "  optimizer_loaded = optim.Adagrad(net_loaded.parameters(), lr=lr_loaded)\n",
        "optimizer_loaded.load_state_dict(optimizer_loaded_state_dict)\n",
        "\n",
        "# load the scheduler from the .pth file\n",
        "if torch.cuda.is_available():\n",
        "  scheduler_loaded_state_dict = torch.load(\"scheduler.pth\")\n",
        "else: \n",
        "  scheduler_loaded_state_dict = torch.load(\"scheduler.pth\", map_location=torch.device('cpu'))\n",
        "\n",
        "if scheduler_name_loaded == \"StepLR\":\n",
        "  # Added getting the step_size and gamma parameters from the state dict\n",
        "  step_size_loaded = scheduler_loaded_state_dict[\"step_size\"]\n",
        "  gamma_loaded = scheduler_loaded_state_dict[\"gamma\"]\n",
        "  scheduler_loaded = optim.lr_scheduler.StepLR(optimizer_loaded, step_size=step_size_loaded, gamma=gamma_loaded)\n",
        "elif scheduler_name_loaded == \"ExponentialLR\":\n",
        "  # Added getting the gamma parameter from the state dict\n",
        "  gamma_loaded = scheduler_loaded_state_dict[\"gamma\"]\n",
        "  scheduler_loaded = optim.lr_scheduler.ExponentialLR(optimizer_loaded, gamma=gamma_loaded)\n",
        "elif scheduler_name_loaded == \"CosineAnnealingLR\":\n",
        "  # Added getting the T_max parameter from the state dict\n",
        "  T_max_loaded = scheduler_loaded_state_dict[\"T_max\"]\n",
        "  scheduler_loaded = optim.lr_scheduler.CosineAnnealingLR(optimizer_loaded, T_max=T_max_loaded)\n",
        "elif scheduler_name_loaded == \"ReduceLROnPlateau\":\n",
        "  # Added getting the mode, factor, patience, threshold and min_lr parameters from the state dict\n",
        "  mode_loaded = scheduler_loaded_state_dict[\"mode\"]\n",
        "  factor_loaded = scheduler_loaded_state_dict[\"factor\"]\n",
        "  patience_loaded = scheduler_loaded_state_dict[\"patience\"]\n",
        "  threshold_loaded = scheduler_loaded_state_dict[\"threshold\"]\n",
        "  min_lr_loaded = scheduler_loaded_state_dict[\"min_lrs\"][0]\n",
        "  scheduler_loaded = optim.lr_scheduler.ReduceLROnPlateau(\n",
        "                    optimizer_loaded, mode=mode_loaded, factor=factor_loaded, patience=patience_loaded, threshold=threshold_loaded, min_lr=min_lr_loaded\n",
        "                )\n",
        "# elif scheduler_name_loaded == \"OneCycleLR\":\n",
        "#   max_lr_loaded = scheduler_loaded_state_dict[\"max_lr\"]\n",
        "#   epochs_loaded = scheduler_loaded_state_dict[\"epochs\"]\n",
        "#   steps_per_epoch_loaded = scheduler_loaded_state_dict[\"steps_per_epoch\"]\n",
        "#   pct_start_loaded = scheduler_loaded_state_dict[\"pct_start\"]\n",
        "#   max_lr_loaded = scheduler_loaded_state_dict[\"max_lr\"]\n",
        "#   scheduler_loaded = optim.lr_scheduler.OneCycleLR(\n",
        "#                     optimizer_loaded, max_lr=max_lr_loaded, epochs=epochs_loaded, steps_per_epoch=steps_per_epoch_loaded, pct_start=pct_start_loaded\n",
        "#                 )\n",
        "else:\n",
        "  scheduler_loaded = None\n",
        "\n",
        "if scheduler_loaded is not None:\n",
        "  # Added loading the state dict to the scheduler_loaded\n",
        "  scheduler_loaded.load_state_dict(scheduler_loaded_state_dict)\n",
        "\n",
        "# Loading the output of the training using pandas\n",
        "train_df_loaded = pd.read_csv(\"train_output.csv\")\n",
        "train_losses_loaded = train_df_loaded[\"train_loss\"].tolist()\n",
        "test_losses_loaded = train_df_loaded[\"test_loss\"].tolist()\n",
        "train_metrics_loaded = [\n",
        "    {\n",
        "        \"l1_norm\": train_df_loaded[\"train_l1_norm\"][i],\n",
        "        \"linf_norm\": train_df_loaded[\"train_linf_norm\"][i],\n",
        "    }\n",
        "    for i in range(len(train_df_loaded))\n",
        "]\n",
        "test_metrics_loaded = [\n",
        "    {\n",
        "        \"l1_norm\": train_df_loaded[\"test_l1_norm\"][i],\n",
        "        \"linf_norm\": train_df_loaded[\"test_linf_norm\"][i],\n",
        "    }\n",
        "    for i in range(len(train_df_loaded))\n",
        "]"
      ]
    },
    {
      "cell_type": "code",
      "execution_count": 40,
      "metadata": {
        "colab": {
          "base_uri": "https://localhost:8080/",
          "height": 1000
        },
        "id": "GQ_fcj7zUZii",
        "outputId": "c4979ef0-a99c-4754-e222-3af23a83c1cb"
      },
      "outputs": [
        {
          "name": "stdout",
          "output_type": "stream",
          "text": [
            "skipping\n"
          ]
        }
      ],
      "source": [
        "%%script echo skipping\n",
        "\n",
        "batch_size_loaded\n",
        "n_epochs_loaded\n",
        "loss_name_loaded\n",
        "optimizer_name_loaded\n",
        "scheduler_name_loaded\n",
        "n_units_loaded\n",
        "n_layers_loaded\n",
        "hidden_activation_name_loaded\n",
        "output_activation_name_loaded\n",
        "lr_loaded\n",
        "hidden_activation_loaded\n",
        "output_activation_loaded\n",
        "net_loaded\n",
        "net_loaded.__dict__ # print the subparameters of the network\n",
        "loss_fn_loaded\n",
        "optimizer_loaded\n",
        "optimizer_loaded.__dict__ # print the subparameters of the optimizer\n",
        "scheduler_loaded\n",
        "scheduler_loaded.__dict__ # print the subparameters of the scheduler\n",
        "train_losses_loaded\n",
        "test_losses_loaded\n",
        "train_metrics_loaded\n",
        "test_metrics_loaded"
      ]
    },
    {
      "cell_type": "code",
      "execution_count": 41,
      "metadata": {},
      "outputs": [
        {
          "data": {
            "text/plain": [
              "217.1945228248537"
            ]
          },
          "execution_count": 41,
          "metadata": {},
          "output_type": "execute_result"
        },
        {
          "data": {
            "text/plain": [
              "216.03108852069377"
            ]
          },
          "execution_count": 41,
          "metadata": {},
          "output_type": "execute_result"
        },
        {
          "data": {
            "text/plain": [
              "1.0"
            ]
          },
          "execution_count": 41,
          "metadata": {},
          "output_type": "execute_result"
        },
        {
          "data": {
            "text/plain": [
              "1.0"
            ]
          },
          "execution_count": 41,
          "metadata": {},
          "output_type": "execute_result"
        }
      ],
      "source": [
        "train_losses_loaded[-1]\n",
        "test_losses_loaded[-1]\n",
        "test_metrics_loaded[-1]['l1_norm']\n",
        "test_metrics_loaded[-1]['linf_norm']\n",
        "# print(f'Error is {test_metrics_loaded[-1][\"l1_norm\"] / (3.84e-4)} times bigger than in Dieselhorst et al.')\n",
        "# print(f'Error is {test_metrics_loaded[-1][\"linf_norm\"] / (8.14e-3)} times bigger than in Dieselhorst et al.')"
      ]
    },
    {
      "attachments": {},
      "cell_type": "markdown",
      "metadata": {},
      "source": [
        "### Visualize loaded results"
      ]
    },
    {
      "attachments": {},
      "cell_type": "markdown",
      "metadata": {
        "id": "vwLGR1aSUZik"
      },
      "source": [
        "Let us verify correct loading of the train and test metrics by visualizing them again but now through the loaded values. Likewise for the train and test losses."
      ]
    },
    {
      "cell_type": "code",
      "execution_count": 42,
      "metadata": {
        "id": "sXiNgLsmUZil"
      },
      "outputs": [],
      "source": [
        "%config InteractiveShell.ast_node_interactivity = \"last_expr_or_assign\""
      ]
    },
    {
      "cell_type": "code",
      "execution_count": 43,
      "metadata": {
        "colab": {
          "base_uri": "https://localhost:8080/",
          "height": 1000
        },
        "id": "sgq4WfSiUZil",
        "outputId": "9934bd08-6c78-4a92-c8c6-d8e835c351b3"
      },
      "outputs": [
        {
          "data": {
            "image/png": "[encoded data removed]",
            "text/plain": [
              "<Figure size 640x480 with 2 Axes>"
            ]
          },
          "metadata": {},
          "output_type": "display_data"
        },
        {
          "data": {
            "image/png": "[encoded data removed]",
            "text/plain": [
              "<Figure size 800x600 with 1 Axes>"
            ]
          },
          "metadata": {},
          "output_type": "display_data"
        }
      ],
      "source": [
        "# Plotting the losses and metrics for the best network plt.figure(figsize=(12, \n",
        "#plt.subplot(2, 2, 1)\n",
        "#plt.plot(train_losses_loaded, label=\"Train Loss\")\n",
        "#plt.plot(test_losses_loaded, label=\"Test Loss\")\n",
        "#plt.xlabel(\"Epoch\")\n",
        "#plt.ylabel(\"Loss\")\n",
        "#plt.legend()\n",
        "plt.subplot(2, 2, 2)\n",
        "plt.plot([m[\"l1_norm\"] for m in train_metrics_loaded], label=\"Train L1 Norm\")\n",
        "plt.plot([m[\"l1_norm\"] for m in test_metrics_loaded], label=\"Test L1 Norm\")\n",
        "plt.xlabel(\"Epoch\")\n",
        "plt.ylabel(\"L1 Norm\")\n",
        "# Added setting the vertical axis to be in powers of 10\n",
        "plt.yscale(\"log\")\n",
        "# Added setting the vertical axis limits to be from 10^-7 to 10^0\n",
        "plt.ylim(1e-3, 1e2)\n",
        "plt.legend()\n",
        "plt.subplot(2, 2, 3)\n",
        "plt.plot([m[\"linf_norm\"] for m in train_metrics_loaded], label=\"Train Linf Norm\")\n",
        "plt.plot([m[\"linf_norm\"] for m in test_metrics_loaded], label=\"Test Linf Norm\")\n",
        "plt.xlabel(\"Epoch\")\n",
        "plt.ylabel(\"Linf Norm\")\n",
        "# Added setting the vertical axis to be in powers of 10\n",
        "plt.yscale(\"log\")\n",
        "# Added setting the vertical axis limits to be from 10^-7 to 10^0\n",
        "plt.ylim(1e-3, 1e2)\n",
        "plt.legend()\n",
        "plt.tight_layout()\n",
        "plt.show()\n",
        "\n",
        "# Added plotting MSE of training data and MSE of test data in one plot \n",
        "plt.figure(figsize=(8, 6))\n",
        "plt.plot(train_losses_loaded,label=\"training data\")\n",
        "plt.plot(test_losses_loaded,label=\"test data\")\n",
        "#if scheduler is not None:\n",
        "#    plt.plot([scheduler.get_last_lr()[0] for _ in range(n_epochs)], label=\"Learning rate\") \n",
        "plt.xlabel(\"Epoch\")\n",
        "plt.ylabel(f\"{loss_name_loaded} Loss\")\n",
        "# Added setting the vertical axis to be in powers of 10\n",
        "plt.yscale(\"log\")\n",
        "# Added setting the vertical axis limits to be from 10^-7 to 10^0\n",
        "plt.ylim(1e-7, 1e0)\n",
        "plt.legend()\n",
        "plt.show()\n"
      ]
    },
    {
      "cell_type": "code",
      "execution_count": 44,
      "metadata": {
        "id": "lkgLqJ_UUZim"
      },
      "outputs": [],
      "source": [
        "%config InteractiveShell.ast_node_interactivity = \"all\""
      ]
    },
    {
      "attachments": {},
      "cell_type": "markdown",
      "metadata": {},
      "source": [
        "## Counting the number of parameters in the network."
      ]
    },
    {
      "cell_type": "code",
      "execution_count": 45,
      "metadata": {},
      "outputs": [
        {
          "data": {
            "text/plain": [
              "Net(\n",
              "  (hidden_activation): ReLU()\n",
              "  (output_activation): ReLU()\n",
              "  (layers): ModuleList(\n",
              "    (0): Linear(in_features=14, out_features=555, bias=True)\n",
              "    (1): Linear(in_features=555, out_features=458, bias=True)\n",
              "    (2): Linear(in_features=458, out_features=115, bias=True)\n",
              "    (3): Linear(in_features=115, out_features=1, bias=True)\n",
              "  )\n",
              ")"
            ]
          },
          "execution_count": 45,
          "metadata": {},
          "output_type": "execute_result"
        },
        {
          "name": "stdout",
          "output_type": "stream",
          "text": [
            "The model has 315874 parameters.\n"
          ]
        }
      ],
      "source": [
        "net_loaded.eval()\n",
        "def count_parameters(model):\n",
        "    return sum(p.numel() for p in model.parameters() if p.requires_grad)\n",
        "print(f'The model has {count_parameters(net_loaded)} parameters.')"
      ]
    },
    {
      "attachments": {},
      "cell_type": "markdown",
      "metadata": {
        "id": "SxuzVSnlUZin"
      },
      "source": [
        "## Evaluating the network on arbirary input\n",
        "### Comparing `net` and `net_loaded`\n",
        "\n",
        "We compare `net` and `net_loaded` to confirm correct loading of the network. Note that `net` is only available if we have trained the model in this session."
      ]
    },
    {
      "cell_type": "code",
      "execution_count": 46,
      "metadata": {},
      "outputs": [
        {
          "data": {
            "text/plain": [
              "Net(\n",
              "  (hidden_activation): ReLU()\n",
              "  (output_activation): ReLU()\n",
              "  (layers): ModuleList(\n",
              "    (0): Linear(in_features=14, out_features=555, bias=True)\n",
              "    (1): Linear(in_features=555, out_features=458, bias=True)\n",
              "    (2): Linear(in_features=458, out_features=115, bias=True)\n",
              "    (3): Linear(in_features=115, out_features=1, bias=True)\n",
              "  )\n",
              ")"
            ]
          },
          "execution_count": 46,
          "metadata": {},
          "output_type": "execute_result"
        }
      ],
      "source": [
        "#%%script echo skipping\n",
        "\n",
        "# Set the network to evaluation mode\n",
        "net.eval()"
      ]
    },
    {
      "cell_type": "code",
      "execution_count": 47,
      "metadata": {},
      "outputs": [
        {
          "data": {
            "text/plain": [
              "Net(\n",
              "  (hidden_activation): ReLU()\n",
              "  (output_activation): ReLU()\n",
              "  (layers): ModuleList(\n",
              "    (0): Linear(in_features=14, out_features=555, bias=True)\n",
              "    (1): Linear(in_features=555, out_features=458, bias=True)\n",
              "    (2): Linear(in_features=458, out_features=115, bias=True)\n",
              "    (3): Linear(in_features=115, out_features=1, bias=True)\n",
              "  )\n",
              ")"
            ]
          },
          "execution_count": 47,
          "metadata": {},
          "output_type": "execute_result"
        }
      ],
      "source": [
        "# Set the network to evaluation mode\n",
        "net_loaded.eval()\n"
      ]
    },
    {
      "cell_type": "code",
      "execution_count": 48,
      "metadata": {},
      "outputs": [
        {
          "name": "stdout",
          "output_type": "stream",
          "text": [
            "Parameters are the same.\n",
            "Net device: cpu\n",
            "Net_loaded device: cpu\n"
          ]
        }
      ],
      "source": [
        "for p1, p2 in zip(net.parameters(), net_loaded.parameters()):\n",
        "    if p1.data.ne(p2.data).sum() > 0:\n",
        "        print(\"Parameters are NOT the same.\")\n",
        "        break\n",
        "else:\n",
        "    print(\"Parameters are the same.\")\n",
        "\n",
        "print(\"Net device:\", next(net.parameters()).device)\n",
        "print(\"Net_loaded device:\", next(net_loaded.parameters()).device)"
      ]
    },
    {
      "cell_type": "code",
      "execution_count": 49,
      "metadata": {
        "colab": {
          "base_uri": "https://localhost:8080/"
        },
        "id": "C0PLAA0DUZin",
        "outputId": "c51e07dd-8b35-4ea4-cdf9-3118d7796e30"
      },
      "outputs": [
        {
          "name": "stdout",
          "output_type": "stream",
          "text": [
            "[Parameter containing:\n",
            "tensor([[ 0.3159, -0.0649, -0.2168,  ..., -0.0371,  0.3013,  0.4135],\n",
            "        [-0.2336, -0.2635, -0.2063,  ...,  0.0615,  0.1547,  0.0311],\n",
            "        [-0.1370, -0.1472,  0.1281,  ..., -0.3203, -0.3451, -0.3116],\n",
            "        ...,\n",
            "        [-0.0519,  0.1711, -0.0290,  ..., -0.0589, -0.2497, -0.2148],\n",
            "        [ 0.0202,  0.0130,  0.0634,  ..., -0.0005,  0.0069,  0.1894],\n",
            "        [-0.0495, -0.1790, -0.2162,  ...,  0.3967,  0.0923,  0.2245]],\n",
            "       requires_grad=True), Parameter containing:\n",
            "tensor([ 2.0588e-01, -1.9305e-01, -3.0101e-01, -5.1728e-01, -2.4763e-01,\n",
            "        -2.0962e-01,  2.7760e-01,  3.4975e-01, -6.7619e-02,  1.8556e-01,\n",
            "         3.0503e-02,  1.8390e-01, -1.6853e-01,  2.8958e-01, -1.0623e-01,\n",
            "         8.0919e-02,  7.4536e-02, -2.4037e-01,  8.6932e-02,  1.2053e-01,\n",
            "        -1.1944e-01,  5.9453e-03, -1.8307e-01, -1.9311e-01,  1.5377e-01,\n",
            "         8.2893e-02, -8.6109e-02,  4.7653e-01, -2.4865e-02, -8.3183e-02,\n",
            "         6.6792e-02, -2.9553e-01, -4.6941e-01, -1.8324e-01,  1.5912e-02,\n",
            "        -3.3994e-01,  1.8566e-01, -2.4563e-01, -1.1195e-02, -2.2146e-01,\n",
            "         7.9129e-02,  2.3136e-01, -2.9273e-01, -5.9733e-02, -6.7965e-03,\n",
            "         1.0222e-01,  1.1420e-01, -1.0040e-01, -1.0898e-01,  1.9044e-01,\n",
            "        -1.9786e-01, -2.9880e-01, -5.7297e-02, -3.7630e-01, -1.6025e-01,\n",
            "        -1.6762e-01,  8.0401e-04,  1.1664e-01, -3.7064e-02, -1.9179e-01,\n",
            "         1.4725e-02, -1.5003e-01,  2.7907e-02, -1.1941e-01,  2.6792e-01,\n",
            "         9.2453e-02, -1.7316e-01,  1.6110e-01,  7.2112e-02,  6.9632e-02,\n",
            "         1.0352e-01,  6.2849e-02,  1.6177e-01,  2.2803e-03, -6.7391e-02,\n",
            "         8.5557e-02, -9.2158e-02,  1.1707e-01, -4.9072e-01, -2.9632e-01,\n",
            "         3.6219e-01,  3.6151e-01,  2.4794e-01, -1.1813e-01, -4.4705e-01,\n",
            "        -3.6193e-01, -8.2615e-02,  1.3091e-03, -3.6154e-01, -8.1780e-02,\n",
            "         8.6485e-02, -1.4164e-01, -2.7033e-01, -3.9239e-01, -5.1772e-02,\n",
            "         4.1199e-01, -4.5400e-01, -1.4925e-01, -1.4238e-01,  3.3402e-02,\n",
            "        -3.4221e-01, -1.7351e-01, -4.4519e-01,  2.0338e-01,  9.5345e-02,\n",
            "        -1.8455e-01,  3.7593e-01, -3.2680e-01,  6.3817e-02,  3.6147e-01,\n",
            "        -2.9379e-01,  1.9933e-01,  3.9349e-01,  4.4056e-01,  1.8072e-01,\n",
            "        -4.5688e-01, -5.3385e-02,  2.5012e-01, -2.0024e-02, -1.7398e-01,\n",
            "        -8.9960e-02, -3.6617e-01, -2.6236e-01,  2.0631e-01, -1.0721e-01,\n",
            "         4.4706e-02, -1.8680e-01,  4.7401e-04,  4.0402e-01, -8.4989e-02,\n",
            "        -6.3677e-02,  1.7327e-01, -3.8237e-01,  3.4098e-01, -4.7686e-01,\n",
            "         4.0185e-01, -2.3006e-01,  1.1417e-01,  3.1241e-01, -1.4513e-01,\n",
            "         7.2144e-02,  7.2692e-02, -1.1493e-01,  6.8241e-02,  4.1139e-02,\n",
            "        -3.2033e-01,  3.8422e-02, -4.2652e-01, -4.5426e-02,  2.7291e-01,\n",
            "         1.4148e-01, -4.8934e-01, -1.7373e-02, -3.5998e-01,  1.7349e-01,\n",
            "        -1.7249e-01, -3.4145e-01, -4.1155e-01, -1.3268e-01, -2.1725e-02,\n",
            "         1.0635e-01,  1.9570e-01, -1.1426e-01, -3.5578e-01, -5.7672e-01,\n",
            "        -2.5749e-01, -1.2567e-01,  9.8504e-02, -1.7369e-02,  7.0227e-02,\n",
            "         3.6953e-03, -3.4672e-01, -3.0548e-01, -3.7887e-01, -1.6264e-01,\n",
            "         1.4039e-01, -1.9679e-01,  1.7876e-02,  1.3761e-01,  6.0899e-02,\n",
            "         3.8998e-02, -1.2943e-01, -1.8296e-01, -4.0720e-01, -1.2164e-01,\n",
            "        -1.8384e-01, -3.8165e-01,  3.7694e-01,  7.6722e-03, -3.2214e-01,\n",
            "        -4.1720e-01,  2.8907e-01, -2.6635e-01, -1.6116e-01, -1.7237e-02,\n",
            "        -1.1100e-01, -2.6093e-01,  2.5589e-01,  3.2110e-01,  1.9380e-01,\n",
            "        -1.4386e-01, -2.5993e-01, -2.7618e-01, -4.5316e-01, -3.1956e-01,\n",
            "        -2.3986e-01, -4.9278e-02,  2.5345e-01,  2.6798e-02,  2.0661e-01,\n",
            "        -1.2716e-01, -3.3278e-01, -9.0399e-02, -7.6747e-02,  8.6009e-02,\n",
            "        -1.3432e-02,  4.2588e-01,  2.6377e-01, -2.1094e-01, -1.3684e-02,\n",
            "         1.7743e-01, -1.3444e-01,  1.1443e-01, -5.0545e-01,  2.0264e-01,\n",
            "        -2.4707e-01,  4.1371e-01, -4.5546e-01, -3.5678e-01, -2.5189e-02,\n",
            "        -7.2217e-02, -2.3777e-01, -1.9828e-01, -8.1106e-02,  1.3008e-01,\n",
            "         8.2367e-02,  3.9728e-01, -1.3167e-01,  2.6319e-01,  1.8088e-02,\n",
            "         5.0076e-01,  2.1786e-02,  2.0203e-01, -3.4681e-02, -8.1311e-02,\n",
            "        -1.3473e-01, -2.6268e-01,  1.0614e-02,  9.8241e-02, -2.4949e-01,\n",
            "        -1.2426e-01, -1.6088e-01, -1.6834e-01, -5.3760e-01, -6.2445e-01,\n",
            "         7.7138e-02,  4.6507e-01,  3.9524e-01, -2.8447e-01,  1.2564e-02,\n",
            "        -1.4120e-01, -3.7902e-01, -1.7945e-01,  3.1023e-01,  2.0275e-01,\n",
            "         3.4889e-01, -4.4454e-01, -1.6195e-01,  3.3695e-02, -4.7766e-01,\n",
            "         3.1039e-01, -3.5513e-01, -2.8091e-01,  2.5845e-01, -3.1342e-01,\n",
            "        -3.1627e-01,  8.1072e-02, -2.1007e-01, -2.7382e-01,  5.8525e-03,\n",
            "        -2.8040e-01,  9.7899e-02, -2.0036e-01,  3.2368e-01, -5.3085e-02,\n",
            "        -2.4195e-01, -1.5689e-01,  4.1836e-01, -3.7462e-01,  3.0288e-01,\n",
            "        -1.8945e-01, -5.7286e-02,  6.8946e-02, -3.8417e-02,  1.3365e-01,\n",
            "         3.0410e-01,  3.2722e-01,  1.9658e-01, -4.2935e-01,  7.4424e-02,\n",
            "         3.8722e-01, -5.8526e-01,  2.8909e-01, -4.8185e-01,  1.3913e-01,\n",
            "        -8.1399e-02,  8.9916e-02,  1.5059e-01,  1.9781e-01,  1.4966e-01,\n",
            "        -2.0335e-01, -3.7986e-01, -2.1252e-01,  1.6347e-01, -3.2121e-01,\n",
            "         5.7943e-02, -3.8356e-02,  1.4515e-01, -1.5214e-01,  1.9471e-01,\n",
            "        -5.4984e-01, -2.8943e-01, -2.5663e-01, -2.8214e-01, -9.9286e-02,\n",
            "        -3.3184e-01, -3.0073e-01, -2.2658e-01, -7.6238e-02,  9.2659e-02,\n",
            "        -1.9267e-01, -2.2313e-01, -9.4374e-02, -2.2954e-02, -2.2297e-02,\n",
            "         2.2373e-01, -1.4857e-01, -1.8887e-01, -3.9183e-01, -1.3852e-01,\n",
            "         3.8167e-01,  2.7367e-02, -3.4740e-01,  3.3222e-01, -1.3077e-01,\n",
            "        -3.7890e-02, -5.2655e-01,  7.2913e-02, -9.5315e-02,  2.4509e-01,\n",
            "        -1.9020e-01, -1.6617e-01,  1.6301e-01, -1.9362e-01, -1.5296e-01,\n",
            "         2.6923e-01,  6.5615e-02,  3.2152e-01, -2.0504e-01,  1.0676e-01,\n",
            "        -3.3809e-02,  9.2808e-02,  2.4239e-01, -2.2409e-01, -2.5207e-03,\n",
            "        -2.0141e-02, -3.6328e-01, -2.6104e-01, -3.7320e-01, -3.6876e-01,\n",
            "        -9.6008e-02, -9.3144e-02,  2.3825e-01, -2.4572e-01,  8.0336e-02,\n",
            "         3.4587e-01, -1.1985e-02,  6.7888e-02, -3.5936e-02,  4.5511e-01,\n",
            "        -4.3733e-01,  1.8091e-01,  1.8772e-01, -3.7019e-01, -2.4957e-01,\n",
            "        -4.3855e-01, -2.8087e-01, -5.5334e-02, -1.4797e-02, -2.3006e-01,\n",
            "        -2.0763e-01, -1.4386e-01, -8.0051e-02, -4.1988e-01,  1.6198e-01,\n",
            "        -2.4702e-01,  2.3853e-01, -3.2432e-01,  1.2626e-01,  5.6511e-02,\n",
            "         3.4840e-01,  3.5222e-01,  1.8126e-01, -4.5142e-01,  1.0268e-01,\n",
            "         8.6561e-02, -4.3660e-01, -5.1914e-02, -2.9915e-01, -7.1143e-02,\n",
            "         8.2002e-02, -3.9986e-01, -1.1722e-01,  4.6767e-02, -7.5587e-02,\n",
            "        -1.9705e-01,  1.2666e-01, -1.0774e-01,  5.3669e-02, -1.9884e-02,\n",
            "        -5.0558e-01,  4.2794e-02, -2.3915e-02, -1.0502e-02,  2.6688e-01,\n",
            "         2.6824e-01, -5.1433e-01, -1.6495e-02, -1.4819e-03, -3.8437e-01,\n",
            "        -8.7899e-02,  1.9838e-01, -3.2787e-02, -7.2574e-02,  1.0291e-01,\n",
            "         9.8362e-03, -5.3070e-02,  3.5327e-02, -3.6211e-01, -1.4742e-01,\n",
            "        -2.3850e-01, -2.6813e-01, -3.3612e-01, -1.8880e-01, -2.3708e-01,\n",
            "        -5.2259e-01, -5.7756e-02, -1.5390e-01, -3.4311e-01,  1.2438e-01,\n",
            "         2.3575e-01, -1.6264e-01, -1.9403e-01, -3.7250e-02, -1.3269e-01,\n",
            "        -1.2736e-01,  2.8374e-01, -5.2109e-02, -2.2790e-01, -1.8739e-01,\n",
            "        -1.6039e-01, -4.7185e-01, -1.7941e-01,  6.0994e-02, -9.5169e-02,\n",
            "         3.9558e-02,  2.0657e-01, -3.1098e-01,  2.6100e-01, -4.7441e-03,\n",
            "         9.8920e-02,  3.5911e-01, -2.8216e-01, -5.4472e-01, -9.1303e-02,\n",
            "         2.3600e-01, -3.1029e-01,  4.1374e-01,  1.1157e-01,  1.4411e-01,\n",
            "        -1.5056e-01, -2.1224e-01,  3.7482e-01,  1.4302e-01, -5.3584e-02,\n",
            "        -1.7875e-01, -1.9165e-01, -1.0970e-02, -1.8759e-01,  2.0830e-02,\n",
            "         4.8061e-02, -4.9552e-01, -2.1365e-01, -1.1748e-02, -4.6506e-03,\n",
            "         2.9391e-01, -9.7113e-02, -3.8608e-01, -7.8843e-02, -1.4988e-01,\n",
            "        -2.7654e-01, -5.2548e-01, -3.5996e-01, -2.4851e-01, -2.4574e-01,\n",
            "         2.8503e-02,  3.6449e-02, -3.7317e-01, -4.0168e-01,  4.0303e-01,\n",
            "        -2.3274e-01,  3.6747e-01,  2.1945e-01, -7.8553e-02, -6.4229e-02,\n",
            "        -2.7917e-01, -2.9738e-01, -3.6281e-01, -4.2110e-02, -3.6332e-01,\n",
            "         1.9761e-01, -1.9214e-01, -6.3951e-01,  1.3061e-01, -8.6660e-02,\n",
            "        -6.0466e-02, -2.2589e-01,  9.8582e-03,  6.7469e-03,  1.4764e-01,\n",
            "        -2.3418e-01, -2.3177e-02,  4.6557e-02, -3.6946e-01,  3.4663e-01,\n",
            "        -1.2411e-01, -3.2976e-01,  1.3031e-01,  4.0028e-01, -1.2857e-02,\n",
            "        -3.3673e-01, -9.9200e-02,  3.5799e-02, -2.4606e-01, -1.4181e-01,\n",
            "        -4.4975e-01, -3.8280e-03,  4.2146e-01, -1.0332e-01, -1.2685e-02,\n",
            "        -1.4376e-01, -1.9429e-01, -1.1269e-02,  6.9136e-02,  3.9813e-01],\n",
            "       requires_grad=True), Parameter containing:\n",
            "tensor([[-0.0245,  0.0011,  0.0105,  ..., -0.0239,  0.0367, -0.0615],\n",
            "        [ 0.1025, -0.0139, -0.0320,  ...,  0.0421,  0.0544,  0.0547],\n",
            "        [ 0.0174, -0.0367, -0.0101,  ...,  0.0319,  0.0189, -0.0384],\n",
            "        ...,\n",
            "        [ 0.0497,  0.0114, -0.0408,  ...,  0.0457,  0.0373,  0.0596],\n",
            "        [ 0.0289,  0.0121, -0.0390,  ...,  0.0342,  0.0330, -0.0117],\n",
            "        [ 0.0504, -0.0005,  0.0533,  ...,  0.0180,  0.0328,  0.0673]],\n",
            "       requires_grad=True), Parameter containing:\n",
            "tensor([-2.8524e-01,  2.2778e-01, -1.6855e-01, -7.4723e-02, -1.4963e-01,\n",
            "        -1.9457e-01,  1.8117e-01, -1.2915e-01, -2.0571e-01, -1.2386e-01,\n",
            "         2.3432e-01, -1.4910e-01,  3.8293e-02,  2.6963e-01, -2.0583e-02,\n",
            "         9.4513e-02, -3.3481e-02,  2.5640e-01, -4.9515e-02,  2.9558e-02,\n",
            "         5.3198e-02, -6.3222e-02, -5.7688e-02, -2.6391e-01, -2.3071e-01,\n",
            "        -8.9908e-02, -2.8467e-02, -1.4720e-01, -1.7851e-01,  6.2032e-03,\n",
            "         1.1007e-01, -6.7376e-02, -1.5804e-01, -1.8772e-01,  2.4962e-01,\n",
            "         1.6563e-01, -1.6277e-01, -4.2493e-02,  1.1057e-01, -3.9204e-02,\n",
            "        -2.0506e-01,  1.9776e-01, -9.6054e-02, -5.6929e-03, -2.2618e-01,\n",
            "        -2.0790e-01, -1.9029e-01,  1.3608e-01, -3.1422e-01, -2.6992e-01,\n",
            "         7.7991e-02,  1.6599e-01, -3.3837e-02, -1.6515e-01, -1.2745e-01,\n",
            "        -1.2462e-01,  2.6771e-01,  2.2729e-01, -1.3097e-01, -4.4253e-02,\n",
            "         1.0624e-01,  2.5705e-01, -7.1460e-03, -6.9641e-02,  3.8371e-03,\n",
            "        -3.3212e-02,  8.0364e-02,  2.6093e-01, -1.1961e-01, -9.6360e-02,\n",
            "        -1.1973e-01, -1.6606e-01, -1.2331e-01, -2.6920e-01,  1.9686e-02,\n",
            "        -5.8151e-02,  1.8136e-01,  1.6283e-01, -1.1121e-02, -4.4180e-03,\n",
            "         2.3748e-01,  3.2436e-02, -6.1248e-02,  3.6969e-02,  2.1368e-01,\n",
            "        -4.0069e-02, -2.4372e-01, -1.4889e-01,  9.7467e-02, -2.0477e-01,\n",
            "        -1.4921e-01,  1.9618e-01, -2.2439e-02, -1.7702e-01, -1.7497e-01,\n",
            "        -2.1761e-01, -1.7363e-01,  1.6062e-01,  7.8463e-02,  7.7665e-02,\n",
            "        -4.9445e-02,  2.7120e-01, -1.5003e-01, -6.6621e-02, -1.1990e-01,\n",
            "         2.0177e-01, -7.1820e-02,  1.2721e-01,  1.5460e-02,  2.2416e-01,\n",
            "         6.2091e-02, -6.3505e-02,  2.4907e-01,  1.4272e-01, -2.2068e-02,\n",
            "         2.1559e-02, -1.4154e-01,  2.7242e-02,  2.3874e-01, -7.9190e-02,\n",
            "         1.5738e-01,  2.0272e-01,  1.4287e-01,  1.8635e-01, -2.3943e-01,\n",
            "         1.1490e-01, -2.0185e-01,  2.3787e-01, -5.2482e-02, -2.0377e-01,\n",
            "         2.4973e-02, -6.3446e-02, -1.5013e-02, -9.4897e-02, -1.3791e-01,\n",
            "        -4.2057e-03,  3.7496e-02, -1.6187e-01,  2.1403e-01, -1.4203e-01,\n",
            "        -1.6643e-01,  1.3480e-01,  2.2877e-01, -2.3888e-01,  1.7462e-01,\n",
            "        -1.0010e-01, -2.1918e-01, -1.5073e-01,  5.5106e-03, -2.8983e-01,\n",
            "         3.9519e-02,  1.0612e-01, -1.1904e-01, -1.3116e-01,  7.7087e-02,\n",
            "         3.3636e-02, -1.1259e-02, -6.6855e-02,  1.8728e-01,  3.5370e-02,\n",
            "        -1.4826e-01, -1.5381e-01,  2.2215e-01, -5.3303e-02, -2.4012e-01,\n",
            "         3.2939e-02,  1.7497e-01,  1.3834e-02, -2.2246e-01,  4.1876e-02,\n",
            "        -2.5295e-01, -2.4224e-01, -1.5097e-02, -1.3286e-01, -2.3617e-03,\n",
            "        -1.9421e-01,  1.2107e-01, -3.1866e-01, -9.9694e-02, -1.6487e-01,\n",
            "        -2.3743e-01,  1.2651e-01,  2.9342e-01,  1.3139e-01, -1.6302e-01,\n",
            "        -1.4642e-01,  2.7736e-01,  1.2988e-01,  2.3338e-01, -9.5983e-02,\n",
            "        -1.7241e-02, -8.3651e-02, -1.2265e-01,  3.9998e-02, -1.2143e-01,\n",
            "        -1.1453e-01,  1.4432e-01,  2.7843e-01, -1.7687e-01,  2.0660e-01,\n",
            "        -1.5286e-01,  3.0892e-02,  1.0358e-01,  2.7308e-01, -5.1299e-03,\n",
            "         2.1930e-01, -2.7485e-01,  1.8858e-02, -1.2056e-01,  9.3188e-02,\n",
            "        -2.2645e-01, -8.1150e-02,  3.8373e-02, -2.7591e-02,  7.6312e-02,\n",
            "         1.1775e-01,  1.3246e-01, -1.3430e-05, -4.1699e-02, -2.1390e-01,\n",
            "        -5.3978e-02,  8.5891e-02, -5.9943e-04, -2.7095e-02, -2.5858e-01,\n",
            "         2.0038e-01, -2.9196e-01, -2.3861e-01, -7.1474e-02, -2.8718e-01,\n",
            "         2.2093e-02, -1.8361e-01,  4.7634e-02, -2.6366e-01, -7.8709e-02,\n",
            "         1.7256e-01,  1.0734e-01,  1.7849e-01,  1.8279e-02, -2.0203e-01,\n",
            "        -4.4676e-02, -1.3209e-01,  1.1593e-01,  1.4939e-01,  7.5014e-02,\n",
            "         8.2130e-03,  2.3789e-01, -3.7183e-02, -7.6328e-02,  9.0142e-02,\n",
            "        -1.1631e-01, -1.0621e-01, -2.6075e-01,  2.1613e-01, -1.6345e-01,\n",
            "         9.8094e-02, -2.7046e-01, -1.0739e-01,  3.5831e-02, -2.4461e-01,\n",
            "         2.4778e-01, -3.3989e-02, -4.9079e-02, -2.0332e-01, -1.5568e-01,\n",
            "        -7.1182e-02,  1.6221e-02, -8.3215e-02, -2.6384e-01,  2.3058e-02,\n",
            "         6.2858e-02,  1.4205e-01,  1.5802e-01, -1.4322e-01, -2.0908e-02,\n",
            "         2.5010e-01,  4.4301e-02,  2.1774e-01, -4.2732e-02,  1.0044e-02,\n",
            "        -4.3556e-02, -1.0293e-01, -1.4434e-01,  2.8577e-01,  2.7591e-02,\n",
            "         6.6783e-02,  2.3174e-01, -7.7368e-02, -6.7234e-02, -8.6208e-03,\n",
            "         2.0237e-02,  2.0930e-01, -1.8311e-01, -2.0396e-01,  2.8488e-01,\n",
            "        -3.8860e-02, -2.1005e-01, -8.4328e-02, -3.0160e-01, -2.5700e-02,\n",
            "        -1.7167e-01,  2.4176e-02,  1.5852e-01, -8.1036e-02, -1.6360e-01,\n",
            "         6.4859e-02,  2.1737e-03,  1.3229e-02, -7.4838e-03, -6.3765e-02,\n",
            "         6.2564e-02, -1.8505e-01,  1.9394e-03, -6.1344e-02, -8.3270e-03,\n",
            "        -1.4439e-01, -2.9505e-01, -6.6557e-02,  8.0074e-02, -3.7233e-02,\n",
            "         2.1297e-01,  2.8420e-01, -2.5521e-01, -1.7353e-01,  2.1210e-01,\n",
            "        -1.8531e-02,  7.8541e-02,  2.0787e-01,  1.0043e-01, -8.5423e-02,\n",
            "         1.5692e-01, -1.2499e-01,  1.0684e-05, -1.0039e-01,  2.4486e-01,\n",
            "        -1.8927e-01,  3.9411e-02, -5.4653e-02, -2.4305e-01,  2.0448e-01,\n",
            "        -1.6231e-02, -4.4087e-02,  4.6425e-02, -2.1628e-01,  9.3039e-02,\n",
            "        -5.5682e-02,  2.0469e-01, -1.0366e-01, -5.4396e-02, -4.3864e-02,\n",
            "        -3.4870e-02,  2.5083e-01, -5.7526e-02, -3.9453e-02,  1.9069e-01,\n",
            "        -4.2505e-02,  2.7988e-01,  2.5380e-01, -1.8806e-01,  3.8245e-02,\n",
            "        -2.4720e-01,  3.0499e-01, -3.7159e-02, -1.4628e-01,  1.5035e-01,\n",
            "         1.3570e-01,  1.4913e-01, -4.9035e-02,  6.7168e-02,  4.2100e-02,\n",
            "        -1.7789e-01, -2.2426e-03, -3.4225e-02,  1.7065e-01,  2.7011e-01,\n",
            "         1.1303e-01,  1.7576e-01,  1.3180e-01, -9.0848e-02, -1.3681e-01,\n",
            "        -3.5822e-02,  1.5912e-01,  8.0947e-03, -3.2705e-01, -1.3834e-01,\n",
            "        -2.7672e-01,  1.2542e-01, -2.1973e-01, -2.9827e-01,  7.4989e-02,\n",
            "        -2.3022e-01,  1.4232e-01,  2.7307e-02, -1.5754e-01,  2.1841e-01,\n",
            "        -1.2695e-01, -2.5028e-01, -1.9695e-01, -1.3075e-01, -4.9782e-02,\n",
            "        -1.0036e-02, -2.7365e-02, -6.9372e-02, -1.1022e-01,  4.7022e-04,\n",
            "         1.4109e-01, -6.9246e-02, -1.9885e-01, -2.5309e-01, -3.3871e-02,\n",
            "        -1.6048e-02,  2.5742e-01, -3.5216e-03, -1.1093e-02,  2.3339e-01,\n",
            "         1.1786e-02, -8.7763e-03, -3.3860e-01, -1.4307e-01,  3.3911e-02,\n",
            "        -2.3595e-01, -2.3503e-02, -4.6227e-02, -2.8498e-01,  6.2032e-03,\n",
            "        -5.3378e-02,  2.7131e-01,  6.6774e-02, -3.5523e-02, -1.3004e-01,\n",
            "         1.4573e-01, -1.7861e-01, -2.3548e-02, -1.0485e-01, -1.2945e-01,\n",
            "        -1.7518e-01, -1.3296e-01,  1.6577e-01,  1.8394e-01,  9.5158e-02,\n",
            "         3.3196e-02, -7.9609e-02,  3.1252e-01, -1.2111e-01, -2.4201e-01,\n",
            "        -1.8994e-01, -6.3138e-02,  2.5066e-01, -1.8752e-02,  6.0443e-02,\n",
            "        -4.7046e-02,  1.3971e-01, -4.7870e-02,  2.3542e-02, -1.4159e-01,\n",
            "         3.9214e-02, -2.5992e-02,  2.2892e-01], requires_grad=True), Parameter containing:\n",
            "tensor([[-1.3236e-02,  6.4811e-03, -1.1150e-02,  ...,  6.2891e-02,\n",
            "          4.4141e-02, -1.9368e-02],\n",
            "        [ 1.9880e-02,  3.6904e-02, -7.1891e-03,  ..., -3.0057e-02,\n",
            "         -2.6242e-05, -1.7400e-02],\n",
            "        [-4.7332e-02,  2.9110e-02,  3.7217e-02,  ..., -1.4356e-02,\n",
            "         -2.1899e-02,  4.0449e-02],\n",
            "        ...,\n",
            "        [-9.5422e-05, -3.6382e-02, -2.6586e-02,  ...,  1.8594e-02,\n",
            "          1.8981e-02,  3.1674e-02],\n",
            "        [ 4.6296e-02,  8.1037e-03,  1.7496e-02,  ...,  3.9549e-02,\n",
            "         -4.0304e-02, -3.8278e-02],\n",
            "        [ 3.6269e-02, -3.1633e-02, -3.1824e-02,  ..., -2.1174e-02,\n",
            "          3.0281e-02, -3.2938e-02]], requires_grad=True), Parameter containing:\n",
            "tensor([ 0.2336, -0.1860, -0.0338, -0.0208,  0.1478, -0.0483,  0.2174,  0.1591,\n",
            "        -0.1770,  0.1735, -0.0416,  0.0032,  0.2102,  0.0381, -0.0294,  0.1468,\n",
            "         0.0429,  0.1094, -0.2944,  0.0004, -0.0042, -0.1002, -0.2013,  0.0895,\n",
            "         0.0558, -0.0786,  0.0977,  0.0244, -0.0678,  0.0245,  0.0783, -0.1733,\n",
            "         0.0162, -0.1029,  0.1247, -0.2602, -0.2654,  0.0476, -0.2402,  0.0466,\n",
            "        -0.0181, -0.1951, -0.0875,  0.0376, -0.1288,  0.0680, -0.0856,  0.0047,\n",
            "        -0.2598, -0.2181,  0.1931,  0.0638,  0.0011, -0.2355,  0.1073,  0.1022,\n",
            "         0.0574,  0.1169,  0.2495,  0.0324, -0.1354,  0.0336, -0.1483,  0.2000,\n",
            "         0.0359,  0.1803, -0.0707, -0.1053, -0.0640,  0.0333,  0.1834,  0.1948,\n",
            "         0.0295, -0.0470, -0.0345, -0.0066, -0.1460,  0.0106,  0.0293, -0.2938,\n",
            "         0.0425,  0.2533,  0.1032, -0.2597,  0.2137, -0.1274, -0.0177, -0.3378,\n",
            "         0.1755,  0.0494,  0.1751,  0.1690,  0.1654,  0.0123, -0.1912, -0.0431,\n",
            "        -0.2380, -0.0465, -0.0466, -0.0044, -0.0099, -0.0603,  0.0010, -0.0928,\n",
            "        -0.2514, -0.1165, -0.0092,  0.1990, -0.2921, -0.2693,  0.0221, -0.1067,\n",
            "        -0.0129, -0.2545, -0.0719], requires_grad=True), Parameter containing:\n",
            "tensor([[-4.2872e-02,  1.0834e-02, -7.7581e-02, -1.4319e-02, -8.0473e-02,\n",
            "          8.6159e-02, -1.0799e-01, -9.2837e-02,  7.1019e-02, -4.1078e-03,\n",
            "         -4.0234e-02, -1.6205e-02, -7.9562e-02, -8.7361e-03, -8.0029e-02,\n",
            "         -1.0022e-01, -3.2595e-02, -1.0569e-01,  1.1490e-02, -4.8134e-02,\n",
            "         -4.9987e-02,  5.2834e-02,  3.1229e-02, -6.8182e-02, -5.2112e-02,\n",
            "         -4.2635e-02, -3.1956e-02, -7.6207e-03, -1.0799e-02, -1.0524e-02,\n",
            "         -9.7672e-02,  2.5081e-03, -5.8269e-02,  2.9862e-02,  1.0838e-01,\n",
            "          8.8252e-02,  9.7546e-02, -9.7802e-03,  6.9182e-02, -2.2035e-03,\n",
            "         -1.7511e-02,  5.5774e-02, -2.9448e-05, -5.6236e-03,  3.1253e-03,\n",
            "         -8.4724e-02,  8.8321e-02, -5.5764e-02,  8.7019e-03,  4.8530e-02,\n",
            "         -8.1958e-02, -3.0060e-02, -1.3156e-02,  7.6622e-02,  1.0933e-01,\n",
            "          1.5849e-01, -4.6840e-02, -4.2104e-02, -1.3525e-01,  5.3431e-02,\n",
            "          3.7436e-02, -8.8658e-03,  3.6114e-04, -1.1985e-01, -1.3024e-02,\n",
            "         -1.2482e-01, -2.4560e-02,  8.8538e-02,  1.0249e-01, -1.8680e-02,\n",
            "         -9.9498e-02, -1.1471e-01, -6.4317e-02, -5.6041e-02, -2.3953e-02,\n",
            "         -5.0327e-02,  3.5223e-02, -3.8054e-02, -7.6273e-02,  8.5961e-02,\n",
            "         -7.7879e-02, -5.3025e-02, -9.7310e-02,  1.8153e-03, -1.2934e-01,\n",
            "          1.0256e-02,  8.8620e-02,  5.3176e-02, -6.6520e-02, -7.0007e-02,\n",
            "         -1.4675e-01, -7.6832e-02, -5.8126e-02, -3.8785e-02,  9.2051e-02,\n",
            "          8.6022e-02,  5.0556e-02, -2.6091e-02,  8.2485e-02, -1.0869e-02,\n",
            "          6.8174e-02,  4.8566e-03, -3.4459e-02,  8.2095e-02,  2.7277e-02,\n",
            "          3.1504e-02,  6.1205e-02, -1.1220e-01,  8.7067e-02,  4.9831e-02,\n",
            "         -3.5357e-02,  2.7251e-02, -2.1248e-02,  6.1461e-02,  6.1719e-02]],\n",
            "       requires_grad=True), Parameter containing:\n",
            "tensor([-0.1878], requires_grad=True)]\n"
          ]
        }
      ],
      "source": [
        "#%%script echo skipping\n",
        "\n",
        "print(list(net.parameters()))"
      ]
    },
    {
      "cell_type": "code",
      "execution_count": 50,
      "metadata": {
        "colab": {
          "base_uri": "https://localhost:8080/"
        },
        "id": "1NZ8iVA7UZio",
        "outputId": "6341def7-b7e7-44eb-c91f-edbe1d22ca1d"
      },
      "outputs": [
        {
          "name": "stdout",
          "output_type": "stream",
          "text": [
            "[Parameter containing:\n",
            "tensor([[ 0.3159, -0.0649, -0.2168,  ..., -0.0371,  0.3013,  0.4135],\n",
            "        [-0.2336, -0.2635, -0.2063,  ...,  0.0615,  0.1547,  0.0311],\n",
            "        [-0.1370, -0.1472,  0.1281,  ..., -0.3203, -0.3451, -0.3116],\n",
            "        ...,\n",
            "        [-0.0519,  0.1711, -0.0290,  ..., -0.0589, -0.2497, -0.2148],\n",
            "        [ 0.0202,  0.0130,  0.0634,  ..., -0.0005,  0.0069,  0.1894],\n",
            "        [-0.0495, -0.1790, -0.2162,  ...,  0.3967,  0.0923,  0.2245]],\n",
            "       requires_grad=True), Parameter containing:\n",
            "tensor([ 2.0588e-01, -1.9305e-01, -3.0101e-01, -5.1728e-01, -2.4763e-01,\n",
            "        -2.0962e-01,  2.7760e-01,  3.4975e-01, -6.7619e-02,  1.8556e-01,\n",
            "         3.0503e-02,  1.8390e-01, -1.6853e-01,  2.8958e-01, -1.0623e-01,\n",
            "         8.0919e-02,  7.4536e-02, -2.4037e-01,  8.6932e-02,  1.2053e-01,\n",
            "        -1.1944e-01,  5.9453e-03, -1.8307e-01, -1.9311e-01,  1.5377e-01,\n",
            "         8.2893e-02, -8.6109e-02,  4.7653e-01, -2.4865e-02, -8.3183e-02,\n",
            "         6.6792e-02, -2.9553e-01, -4.6941e-01, -1.8324e-01,  1.5912e-02,\n",
            "        -3.3994e-01,  1.8566e-01, -2.4563e-01, -1.1195e-02, -2.2146e-01,\n",
            "         7.9129e-02,  2.3136e-01, -2.9273e-01, -5.9733e-02, -6.7965e-03,\n",
            "         1.0222e-01,  1.1420e-01, -1.0040e-01, -1.0898e-01,  1.9044e-01,\n",
            "        -1.9786e-01, -2.9880e-01, -5.7297e-02, -3.7630e-01, -1.6025e-01,\n",
            "        -1.6762e-01,  8.0401e-04,  1.1664e-01, -3.7064e-02, -1.9179e-01,\n",
            "         1.4725e-02, -1.5003e-01,  2.7907e-02, -1.1941e-01,  2.6792e-01,\n",
            "         9.2453e-02, -1.7316e-01,  1.6110e-01,  7.2112e-02,  6.9632e-02,\n",
            "         1.0352e-01,  6.2849e-02,  1.6177e-01,  2.2803e-03, -6.7391e-02,\n",
            "         8.5557e-02, -9.2158e-02,  1.1707e-01, -4.9072e-01, -2.9632e-01,\n",
            "         3.6219e-01,  3.6151e-01,  2.4794e-01, -1.1813e-01, -4.4705e-01,\n",
            "        -3.6193e-01, -8.2615e-02,  1.3091e-03, -3.6154e-01, -8.1780e-02,\n",
            "         8.6485e-02, -1.4164e-01, -2.7033e-01, -3.9239e-01, -5.1772e-02,\n",
            "         4.1199e-01, -4.5400e-01, -1.4925e-01, -1.4238e-01,  3.3402e-02,\n",
            "        -3.4221e-01, -1.7351e-01, -4.4519e-01,  2.0338e-01,  9.5345e-02,\n",
            "        -1.8455e-01,  3.7593e-01, -3.2680e-01,  6.3817e-02,  3.6147e-01,\n",
            "        -2.9379e-01,  1.9933e-01,  3.9349e-01,  4.4056e-01,  1.8072e-01,\n",
            "        -4.5688e-01, -5.3385e-02,  2.5012e-01, -2.0024e-02, -1.7398e-01,\n",
            "        -8.9960e-02, -3.6617e-01, -2.6236e-01,  2.0631e-01, -1.0721e-01,\n",
            "         4.4706e-02, -1.8680e-01,  4.7401e-04,  4.0402e-01, -8.4989e-02,\n",
            "        -6.3677e-02,  1.7327e-01, -3.8237e-01,  3.4098e-01, -4.7686e-01,\n",
            "         4.0185e-01, -2.3006e-01,  1.1417e-01,  3.1241e-01, -1.4513e-01,\n",
            "         7.2144e-02,  7.2692e-02, -1.1493e-01,  6.8241e-02,  4.1139e-02,\n",
            "        -3.2033e-01,  3.8422e-02, -4.2652e-01, -4.5426e-02,  2.7291e-01,\n",
            "         1.4148e-01, -4.8934e-01, -1.7373e-02, -3.5998e-01,  1.7349e-01,\n",
            "        -1.7249e-01, -3.4145e-01, -4.1155e-01, -1.3268e-01, -2.1725e-02,\n",
            "         1.0635e-01,  1.9570e-01, -1.1426e-01, -3.5578e-01, -5.7672e-01,\n",
            "        -2.5749e-01, -1.2567e-01,  9.8504e-02, -1.7369e-02,  7.0227e-02,\n",
            "         3.6953e-03, -3.4672e-01, -3.0548e-01, -3.7887e-01, -1.6264e-01,\n",
            "         1.4039e-01, -1.9679e-01,  1.7876e-02,  1.3761e-01,  6.0899e-02,\n",
            "         3.8998e-02, -1.2943e-01, -1.8296e-01, -4.0720e-01, -1.2164e-01,\n",
            "        -1.8384e-01, -3.8165e-01,  3.7694e-01,  7.6722e-03, -3.2214e-01,\n",
            "        -4.1720e-01,  2.8907e-01, -2.6635e-01, -1.6116e-01, -1.7237e-02,\n",
            "        -1.1100e-01, -2.6093e-01,  2.5589e-01,  3.2110e-01,  1.9380e-01,\n",
            "        -1.4386e-01, -2.5993e-01, -2.7618e-01, -4.5316e-01, -3.1956e-01,\n",
            "        -2.3986e-01, -4.9278e-02,  2.5345e-01,  2.6798e-02,  2.0661e-01,\n",
            "        -1.2716e-01, -3.3278e-01, -9.0399e-02, -7.6747e-02,  8.6009e-02,\n",
            "        -1.3432e-02,  4.2588e-01,  2.6377e-01, -2.1094e-01, -1.3684e-02,\n",
            "         1.7743e-01, -1.3444e-01,  1.1443e-01, -5.0545e-01,  2.0264e-01,\n",
            "        -2.4707e-01,  4.1371e-01, -4.5546e-01, -3.5678e-01, -2.5189e-02,\n",
            "        -7.2217e-02, -2.3777e-01, -1.9828e-01, -8.1106e-02,  1.3008e-01,\n",
            "         8.2367e-02,  3.9728e-01, -1.3167e-01,  2.6319e-01,  1.8088e-02,\n",
            "         5.0076e-01,  2.1786e-02,  2.0203e-01, -3.4681e-02, -8.1311e-02,\n",
            "        -1.3473e-01, -2.6268e-01,  1.0614e-02,  9.8241e-02, -2.4949e-01,\n",
            "        -1.2426e-01, -1.6088e-01, -1.6834e-01, -5.3760e-01, -6.2445e-01,\n",
            "         7.7138e-02,  4.6507e-01,  3.9524e-01, -2.8447e-01,  1.2564e-02,\n",
            "        -1.4120e-01, -3.7902e-01, -1.7945e-01,  3.1023e-01,  2.0275e-01,\n",
            "         3.4889e-01, -4.4454e-01, -1.6195e-01,  3.3695e-02, -4.7766e-01,\n",
            "         3.1039e-01, -3.5513e-01, -2.8091e-01,  2.5845e-01, -3.1342e-01,\n",
            "        -3.1627e-01,  8.1072e-02, -2.1007e-01, -2.7382e-01,  5.8525e-03,\n",
            "        -2.8040e-01,  9.7899e-02, -2.0036e-01,  3.2368e-01, -5.3085e-02,\n",
            "        -2.4195e-01, -1.5689e-01,  4.1836e-01, -3.7462e-01,  3.0288e-01,\n",
            "        -1.8945e-01, -5.7286e-02,  6.8946e-02, -3.8417e-02,  1.3365e-01,\n",
            "         3.0410e-01,  3.2722e-01,  1.9658e-01, -4.2935e-01,  7.4424e-02,\n",
            "         3.8722e-01, -5.8526e-01,  2.8909e-01, -4.8185e-01,  1.3913e-01,\n",
            "        -8.1399e-02,  8.9916e-02,  1.5059e-01,  1.9781e-01,  1.4966e-01,\n",
            "        -2.0335e-01, -3.7986e-01, -2.1252e-01,  1.6347e-01, -3.2121e-01,\n",
            "         5.7943e-02, -3.8356e-02,  1.4515e-01, -1.5214e-01,  1.9471e-01,\n",
            "        -5.4984e-01, -2.8943e-01, -2.5663e-01, -2.8214e-01, -9.9286e-02,\n",
            "        -3.3184e-01, -3.0073e-01, -2.2658e-01, -7.6238e-02,  9.2659e-02,\n",
            "        -1.9267e-01, -2.2313e-01, -9.4374e-02, -2.2954e-02, -2.2297e-02,\n",
            "         2.2373e-01, -1.4857e-01, -1.8887e-01, -3.9183e-01, -1.3852e-01,\n",
            "         3.8167e-01,  2.7367e-02, -3.4740e-01,  3.3222e-01, -1.3077e-01,\n",
            "        -3.7890e-02, -5.2655e-01,  7.2913e-02, -9.5315e-02,  2.4509e-01,\n",
            "        -1.9020e-01, -1.6617e-01,  1.6301e-01, -1.9362e-01, -1.5296e-01,\n",
            "         2.6923e-01,  6.5615e-02,  3.2152e-01, -2.0504e-01,  1.0676e-01,\n",
            "        -3.3809e-02,  9.2808e-02,  2.4239e-01, -2.2409e-01, -2.5207e-03,\n",
            "        -2.0141e-02, -3.6328e-01, -2.6104e-01, -3.7320e-01, -3.6876e-01,\n",
            "        -9.6008e-02, -9.3144e-02,  2.3825e-01, -2.4572e-01,  8.0336e-02,\n",
            "         3.4587e-01, -1.1985e-02,  6.7888e-02, -3.5936e-02,  4.5511e-01,\n",
            "        -4.3733e-01,  1.8091e-01,  1.8772e-01, -3.7019e-01, -2.4957e-01,\n",
            "        -4.3855e-01, -2.8087e-01, -5.5334e-02, -1.4797e-02, -2.3006e-01,\n",
            "        -2.0763e-01, -1.4386e-01, -8.0051e-02, -4.1988e-01,  1.6198e-01,\n",
            "        -2.4702e-01,  2.3853e-01, -3.2432e-01,  1.2626e-01,  5.6511e-02,\n",
            "         3.4840e-01,  3.5222e-01,  1.8126e-01, -4.5142e-01,  1.0268e-01,\n",
            "         8.6561e-02, -4.3660e-01, -5.1914e-02, -2.9915e-01, -7.1143e-02,\n",
            "         8.2002e-02, -3.9986e-01, -1.1722e-01,  4.6767e-02, -7.5587e-02,\n",
            "        -1.9705e-01,  1.2666e-01, -1.0774e-01,  5.3669e-02, -1.9884e-02,\n",
            "        -5.0558e-01,  4.2794e-02, -2.3915e-02, -1.0502e-02,  2.6688e-01,\n",
            "         2.6824e-01, -5.1433e-01, -1.6495e-02, -1.4819e-03, -3.8437e-01,\n",
            "        -8.7899e-02,  1.9838e-01, -3.2787e-02, -7.2574e-02,  1.0291e-01,\n",
            "         9.8362e-03, -5.3070e-02,  3.5327e-02, -3.6211e-01, -1.4742e-01,\n",
            "        -2.3850e-01, -2.6813e-01, -3.3612e-01, -1.8880e-01, -2.3708e-01,\n",
            "        -5.2259e-01, -5.7756e-02, -1.5390e-01, -3.4311e-01,  1.2438e-01,\n",
            "         2.3575e-01, -1.6264e-01, -1.9403e-01, -3.7250e-02, -1.3269e-01,\n",
            "        -1.2736e-01,  2.8374e-01, -5.2109e-02, -2.2790e-01, -1.8739e-01,\n",
            "        -1.6039e-01, -4.7185e-01, -1.7941e-01,  6.0994e-02, -9.5169e-02,\n",
            "         3.9558e-02,  2.0657e-01, -3.1098e-01,  2.6100e-01, -4.7441e-03,\n",
            "         9.8920e-02,  3.5911e-01, -2.8216e-01, -5.4472e-01, -9.1303e-02,\n",
            "         2.3600e-01, -3.1029e-01,  4.1374e-01,  1.1157e-01,  1.4411e-01,\n",
            "        -1.5056e-01, -2.1224e-01,  3.7482e-01,  1.4302e-01, -5.3584e-02,\n",
            "        -1.7875e-01, -1.9165e-01, -1.0970e-02, -1.8759e-01,  2.0830e-02,\n",
            "         4.8061e-02, -4.9552e-01, -2.1365e-01, -1.1748e-02, -4.6506e-03,\n",
            "         2.9391e-01, -9.7113e-02, -3.8608e-01, -7.8843e-02, -1.4988e-01,\n",
            "        -2.7654e-01, -5.2548e-01, -3.5996e-01, -2.4851e-01, -2.4574e-01,\n",
            "         2.8503e-02,  3.6449e-02, -3.7317e-01, -4.0168e-01,  4.0303e-01,\n",
            "        -2.3274e-01,  3.6747e-01,  2.1945e-01, -7.8553e-02, -6.4229e-02,\n",
            "        -2.7917e-01, -2.9738e-01, -3.6281e-01, -4.2110e-02, -3.6332e-01,\n",
            "         1.9761e-01, -1.9214e-01, -6.3951e-01,  1.3061e-01, -8.6660e-02,\n",
            "        -6.0466e-02, -2.2589e-01,  9.8582e-03,  6.7469e-03,  1.4764e-01,\n",
            "        -2.3418e-01, -2.3177e-02,  4.6557e-02, -3.6946e-01,  3.4663e-01,\n",
            "        -1.2411e-01, -3.2976e-01,  1.3031e-01,  4.0028e-01, -1.2857e-02,\n",
            "        -3.3673e-01, -9.9200e-02,  3.5799e-02, -2.4606e-01, -1.4181e-01,\n",
            "        -4.4975e-01, -3.8280e-03,  4.2146e-01, -1.0332e-01, -1.2685e-02,\n",
            "        -1.4376e-01, -1.9429e-01, -1.1269e-02,  6.9136e-02,  3.9813e-01],\n",
            "       requires_grad=True), Parameter containing:\n",
            "tensor([[-0.0245,  0.0011,  0.0105,  ..., -0.0239,  0.0367, -0.0615],\n",
            "        [ 0.1025, -0.0139, -0.0320,  ...,  0.0421,  0.0544,  0.0547],\n",
            "        [ 0.0174, -0.0367, -0.0101,  ...,  0.0319,  0.0189, -0.0384],\n",
            "        ...,\n",
            "        [ 0.0497,  0.0114, -0.0408,  ...,  0.0457,  0.0373,  0.0596],\n",
            "        [ 0.0289,  0.0121, -0.0390,  ...,  0.0342,  0.0330, -0.0117],\n",
            "        [ 0.0504, -0.0005,  0.0533,  ...,  0.0180,  0.0328,  0.0673]],\n",
            "       requires_grad=True), Parameter containing:\n",
            "tensor([-2.8524e-01,  2.2778e-01, -1.6855e-01, -7.4723e-02, -1.4963e-01,\n",
            "        -1.9457e-01,  1.8117e-01, -1.2915e-01, -2.0571e-01, -1.2386e-01,\n",
            "         2.3432e-01, -1.4910e-01,  3.8293e-02,  2.6963e-01, -2.0583e-02,\n",
            "         9.4513e-02, -3.3481e-02,  2.5640e-01, -4.9515e-02,  2.9558e-02,\n",
            "         5.3198e-02, -6.3222e-02, -5.7688e-02, -2.6391e-01, -2.3071e-01,\n",
            "        -8.9908e-02, -2.8467e-02, -1.4720e-01, -1.7851e-01,  6.2032e-03,\n",
            "         1.1007e-01, -6.7376e-02, -1.5804e-01, -1.8772e-01,  2.4962e-01,\n",
            "         1.6563e-01, -1.6277e-01, -4.2493e-02,  1.1057e-01, -3.9204e-02,\n",
            "        -2.0506e-01,  1.9776e-01, -9.6054e-02, -5.6929e-03, -2.2618e-01,\n",
            "        -2.0790e-01, -1.9029e-01,  1.3608e-01, -3.1422e-01, -2.6992e-01,\n",
            "         7.7991e-02,  1.6599e-01, -3.3837e-02, -1.6515e-01, -1.2745e-01,\n",
            "        -1.2462e-01,  2.6771e-01,  2.2729e-01, -1.3097e-01, -4.4253e-02,\n",
            "         1.0624e-01,  2.5705e-01, -7.1460e-03, -6.9641e-02,  3.8371e-03,\n",
            "        -3.3212e-02,  8.0364e-02,  2.6093e-01, -1.1961e-01, -9.6360e-02,\n",
            "        -1.1973e-01, -1.6606e-01, -1.2331e-01, -2.6920e-01,  1.9686e-02,\n",
            "        -5.8151e-02,  1.8136e-01,  1.6283e-01, -1.1121e-02, -4.4180e-03,\n",
            "         2.3748e-01,  3.2436e-02, -6.1248e-02,  3.6969e-02,  2.1368e-01,\n",
            "        -4.0069e-02, -2.4372e-01, -1.4889e-01,  9.7467e-02, -2.0477e-01,\n",
            "        -1.4921e-01,  1.9618e-01, -2.2439e-02, -1.7702e-01, -1.7497e-01,\n",
            "        -2.1761e-01, -1.7363e-01,  1.6062e-01,  7.8463e-02,  7.7665e-02,\n",
            "        -4.9445e-02,  2.7120e-01, -1.5003e-01, -6.6621e-02, -1.1990e-01,\n",
            "         2.0177e-01, -7.1820e-02,  1.2721e-01,  1.5460e-02,  2.2416e-01,\n",
            "         6.2091e-02, -6.3505e-02,  2.4907e-01,  1.4272e-01, -2.2068e-02,\n",
            "         2.1559e-02, -1.4154e-01,  2.7242e-02,  2.3874e-01, -7.9190e-02,\n",
            "         1.5738e-01,  2.0272e-01,  1.4287e-01,  1.8635e-01, -2.3943e-01,\n",
            "         1.1490e-01, -2.0185e-01,  2.3787e-01, -5.2482e-02, -2.0377e-01,\n",
            "         2.4973e-02, -6.3446e-02, -1.5013e-02, -9.4897e-02, -1.3791e-01,\n",
            "        -4.2057e-03,  3.7496e-02, -1.6187e-01,  2.1403e-01, -1.4203e-01,\n",
            "        -1.6643e-01,  1.3480e-01,  2.2877e-01, -2.3888e-01,  1.7462e-01,\n",
            "        -1.0010e-01, -2.1918e-01, -1.5073e-01,  5.5106e-03, -2.8983e-01,\n",
            "         3.9519e-02,  1.0612e-01, -1.1904e-01, -1.3116e-01,  7.7087e-02,\n",
            "         3.3636e-02, -1.1259e-02, -6.6855e-02,  1.8728e-01,  3.5370e-02,\n",
            "        -1.4826e-01, -1.5381e-01,  2.2215e-01, -5.3303e-02, -2.4012e-01,\n",
            "         3.2939e-02,  1.7497e-01,  1.3834e-02, -2.2246e-01,  4.1876e-02,\n",
            "        -2.5295e-01, -2.4224e-01, -1.5097e-02, -1.3286e-01, -2.3617e-03,\n",
            "        -1.9421e-01,  1.2107e-01, -3.1866e-01, -9.9694e-02, -1.6487e-01,\n",
            "        -2.3743e-01,  1.2651e-01,  2.9342e-01,  1.3139e-01, -1.6302e-01,\n",
            "        -1.4642e-01,  2.7736e-01,  1.2988e-01,  2.3338e-01, -9.5983e-02,\n",
            "        -1.7241e-02, -8.3651e-02, -1.2265e-01,  3.9998e-02, -1.2143e-01,\n",
            "        -1.1453e-01,  1.4432e-01,  2.7843e-01, -1.7687e-01,  2.0660e-01,\n",
            "        -1.5286e-01,  3.0892e-02,  1.0358e-01,  2.7308e-01, -5.1299e-03,\n",
            "         2.1930e-01, -2.7485e-01,  1.8858e-02, -1.2056e-01,  9.3188e-02,\n",
            "        -2.2645e-01, -8.1150e-02,  3.8373e-02, -2.7591e-02,  7.6312e-02,\n",
            "         1.1775e-01,  1.3246e-01, -1.3430e-05, -4.1699e-02, -2.1390e-01,\n",
            "        -5.3978e-02,  8.5891e-02, -5.9943e-04, -2.7095e-02, -2.5858e-01,\n",
            "         2.0038e-01, -2.9196e-01, -2.3861e-01, -7.1474e-02, -2.8718e-01,\n",
            "         2.2093e-02, -1.8361e-01,  4.7634e-02, -2.6366e-01, -7.8709e-02,\n",
            "         1.7256e-01,  1.0734e-01,  1.7849e-01,  1.8279e-02, -2.0203e-01,\n",
            "        -4.4676e-02, -1.3209e-01,  1.1593e-01,  1.4939e-01,  7.5014e-02,\n",
            "         8.2130e-03,  2.3789e-01, -3.7183e-02, -7.6328e-02,  9.0142e-02,\n",
            "        -1.1631e-01, -1.0621e-01, -2.6075e-01,  2.1613e-01, -1.6345e-01,\n",
            "         9.8094e-02, -2.7046e-01, -1.0739e-01,  3.5831e-02, -2.4461e-01,\n",
            "         2.4778e-01, -3.3989e-02, -4.9079e-02, -2.0332e-01, -1.5568e-01,\n",
            "        -7.1182e-02,  1.6221e-02, -8.3215e-02, -2.6384e-01,  2.3058e-02,\n",
            "         6.2858e-02,  1.4205e-01,  1.5802e-01, -1.4322e-01, -2.0908e-02,\n",
            "         2.5010e-01,  4.4301e-02,  2.1774e-01, -4.2732e-02,  1.0044e-02,\n",
            "        -4.3556e-02, -1.0293e-01, -1.4434e-01,  2.8577e-01,  2.7591e-02,\n",
            "         6.6783e-02,  2.3174e-01, -7.7368e-02, -6.7234e-02, -8.6208e-03,\n",
            "         2.0237e-02,  2.0930e-01, -1.8311e-01, -2.0396e-01,  2.8488e-01,\n",
            "        -3.8860e-02, -2.1005e-01, -8.4328e-02, -3.0160e-01, -2.5700e-02,\n",
            "        -1.7167e-01,  2.4176e-02,  1.5852e-01, -8.1036e-02, -1.6360e-01,\n",
            "         6.4859e-02,  2.1737e-03,  1.3229e-02, -7.4838e-03, -6.3765e-02,\n",
            "         6.2564e-02, -1.8505e-01,  1.9394e-03, -6.1344e-02, -8.3270e-03,\n",
            "        -1.4439e-01, -2.9505e-01, -6.6557e-02,  8.0074e-02, -3.7233e-02,\n",
            "         2.1297e-01,  2.8420e-01, -2.5521e-01, -1.7353e-01,  2.1210e-01,\n",
            "        -1.8531e-02,  7.8541e-02,  2.0787e-01,  1.0043e-01, -8.5423e-02,\n",
            "         1.5692e-01, -1.2499e-01,  1.0684e-05, -1.0039e-01,  2.4486e-01,\n",
            "        -1.8927e-01,  3.9411e-02, -5.4653e-02, -2.4305e-01,  2.0448e-01,\n",
            "        -1.6231e-02, -4.4087e-02,  4.6425e-02, -2.1628e-01,  9.3039e-02,\n",
            "        -5.5682e-02,  2.0469e-01, -1.0366e-01, -5.4396e-02, -4.3864e-02,\n",
            "        -3.4870e-02,  2.5083e-01, -5.7526e-02, -3.9453e-02,  1.9069e-01,\n",
            "        -4.2505e-02,  2.7988e-01,  2.5380e-01, -1.8806e-01,  3.8245e-02,\n",
            "        -2.4720e-01,  3.0499e-01, -3.7159e-02, -1.4628e-01,  1.5035e-01,\n",
            "         1.3570e-01,  1.4913e-01, -4.9035e-02,  6.7168e-02,  4.2100e-02,\n",
            "        -1.7789e-01, -2.2426e-03, -3.4225e-02,  1.7065e-01,  2.7011e-01,\n",
            "         1.1303e-01,  1.7576e-01,  1.3180e-01, -9.0848e-02, -1.3681e-01,\n",
            "        -3.5822e-02,  1.5912e-01,  8.0947e-03, -3.2705e-01, -1.3834e-01,\n",
            "        -2.7672e-01,  1.2542e-01, -2.1973e-01, -2.9827e-01,  7.4989e-02,\n",
            "        -2.3022e-01,  1.4232e-01,  2.7307e-02, -1.5754e-01,  2.1841e-01,\n",
            "        -1.2695e-01, -2.5028e-01, -1.9695e-01, -1.3075e-01, -4.9782e-02,\n",
            "        -1.0036e-02, -2.7365e-02, -6.9372e-02, -1.1022e-01,  4.7022e-04,\n",
            "         1.4109e-01, -6.9246e-02, -1.9885e-01, -2.5309e-01, -3.3871e-02,\n",
            "        -1.6048e-02,  2.5742e-01, -3.5216e-03, -1.1093e-02,  2.3339e-01,\n",
            "         1.1786e-02, -8.7763e-03, -3.3860e-01, -1.4307e-01,  3.3911e-02,\n",
            "        -2.3595e-01, -2.3503e-02, -4.6227e-02, -2.8498e-01,  6.2032e-03,\n",
            "        -5.3378e-02,  2.7131e-01,  6.6774e-02, -3.5523e-02, -1.3004e-01,\n",
            "         1.4573e-01, -1.7861e-01, -2.3548e-02, -1.0485e-01, -1.2945e-01,\n",
            "        -1.7518e-01, -1.3296e-01,  1.6577e-01,  1.8394e-01,  9.5158e-02,\n",
            "         3.3196e-02, -7.9609e-02,  3.1252e-01, -1.2111e-01, -2.4201e-01,\n",
            "        -1.8994e-01, -6.3138e-02,  2.5066e-01, -1.8752e-02,  6.0443e-02,\n",
            "        -4.7046e-02,  1.3971e-01, -4.7870e-02,  2.3542e-02, -1.4159e-01,\n",
            "         3.9214e-02, -2.5992e-02,  2.2892e-01], requires_grad=True), Parameter containing:\n",
            "tensor([[-1.3236e-02,  6.4811e-03, -1.1150e-02,  ...,  6.2891e-02,\n",
            "          4.4141e-02, -1.9368e-02],\n",
            "        [ 1.9880e-02,  3.6904e-02, -7.1891e-03,  ..., -3.0057e-02,\n",
            "         -2.6242e-05, -1.7400e-02],\n",
            "        [-4.7332e-02,  2.9110e-02,  3.7217e-02,  ..., -1.4356e-02,\n",
            "         -2.1899e-02,  4.0449e-02],\n",
            "        ...,\n",
            "        [-9.5422e-05, -3.6382e-02, -2.6586e-02,  ...,  1.8594e-02,\n",
            "          1.8981e-02,  3.1674e-02],\n",
            "        [ 4.6296e-02,  8.1037e-03,  1.7496e-02,  ...,  3.9549e-02,\n",
            "         -4.0304e-02, -3.8278e-02],\n",
            "        [ 3.6269e-02, -3.1633e-02, -3.1824e-02,  ..., -2.1174e-02,\n",
            "          3.0281e-02, -3.2938e-02]], requires_grad=True), Parameter containing:\n",
            "tensor([ 0.2336, -0.1860, -0.0338, -0.0208,  0.1478, -0.0483,  0.2174,  0.1591,\n",
            "        -0.1770,  0.1735, -0.0416,  0.0032,  0.2102,  0.0381, -0.0294,  0.1468,\n",
            "         0.0429,  0.1094, -0.2944,  0.0004, -0.0042, -0.1002, -0.2013,  0.0895,\n",
            "         0.0558, -0.0786,  0.0977,  0.0244, -0.0678,  0.0245,  0.0783, -0.1733,\n",
            "         0.0162, -0.1029,  0.1247, -0.2602, -0.2654,  0.0476, -0.2402,  0.0466,\n",
            "        -0.0181, -0.1951, -0.0875,  0.0376, -0.1288,  0.0680, -0.0856,  0.0047,\n",
            "        -0.2598, -0.2181,  0.1931,  0.0638,  0.0011, -0.2355,  0.1073,  0.1022,\n",
            "         0.0574,  0.1169,  0.2495,  0.0324, -0.1354,  0.0336, -0.1483,  0.2000,\n",
            "         0.0359,  0.1803, -0.0707, -0.1053, -0.0640,  0.0333,  0.1834,  0.1948,\n",
            "         0.0295, -0.0470, -0.0345, -0.0066, -0.1460,  0.0106,  0.0293, -0.2938,\n",
            "         0.0425,  0.2533,  0.1032, -0.2597,  0.2137, -0.1274, -0.0177, -0.3378,\n",
            "         0.1755,  0.0494,  0.1751,  0.1690,  0.1654,  0.0123, -0.1912, -0.0431,\n",
            "        -0.2380, -0.0465, -0.0466, -0.0044, -0.0099, -0.0603,  0.0010, -0.0928,\n",
            "        -0.2514, -0.1165, -0.0092,  0.1990, -0.2921, -0.2693,  0.0221, -0.1067,\n",
            "        -0.0129, -0.2545, -0.0719], requires_grad=True), Parameter containing:\n",
            "tensor([[-4.2872e-02,  1.0834e-02, -7.7581e-02, -1.4319e-02, -8.0473e-02,\n",
            "          8.6159e-02, -1.0799e-01, -9.2837e-02,  7.1019e-02, -4.1078e-03,\n",
            "         -4.0234e-02, -1.6205e-02, -7.9562e-02, -8.7361e-03, -8.0029e-02,\n",
            "         -1.0022e-01, -3.2595e-02, -1.0569e-01,  1.1490e-02, -4.8134e-02,\n",
            "         -4.9987e-02,  5.2834e-02,  3.1229e-02, -6.8182e-02, -5.2112e-02,\n",
            "         -4.2635e-02, -3.1956e-02, -7.6207e-03, -1.0799e-02, -1.0524e-02,\n",
            "         -9.7672e-02,  2.5081e-03, -5.8269e-02,  2.9862e-02,  1.0838e-01,\n",
            "          8.8252e-02,  9.7546e-02, -9.7802e-03,  6.9182e-02, -2.2035e-03,\n",
            "         -1.7511e-02,  5.5774e-02, -2.9448e-05, -5.6236e-03,  3.1253e-03,\n",
            "         -8.4724e-02,  8.8321e-02, -5.5764e-02,  8.7019e-03,  4.8530e-02,\n",
            "         -8.1958e-02, -3.0060e-02, -1.3156e-02,  7.6622e-02,  1.0933e-01,\n",
            "          1.5849e-01, -4.6840e-02, -4.2104e-02, -1.3525e-01,  5.3431e-02,\n",
            "          3.7436e-02, -8.8658e-03,  3.6114e-04, -1.1985e-01, -1.3024e-02,\n",
            "         -1.2482e-01, -2.4560e-02,  8.8538e-02,  1.0249e-01, -1.8680e-02,\n",
            "         -9.9498e-02, -1.1471e-01, -6.4317e-02, -5.6041e-02, -2.3953e-02,\n",
            "         -5.0327e-02,  3.5223e-02, -3.8054e-02, -7.6273e-02,  8.5961e-02,\n",
            "         -7.7879e-02, -5.3025e-02, -9.7310e-02,  1.8153e-03, -1.2934e-01,\n",
            "          1.0256e-02,  8.8620e-02,  5.3176e-02, -6.6520e-02, -7.0007e-02,\n",
            "         -1.4675e-01, -7.6832e-02, -5.8126e-02, -3.8785e-02,  9.2051e-02,\n",
            "          8.6022e-02,  5.0556e-02, -2.6091e-02,  8.2485e-02, -1.0869e-02,\n",
            "          6.8174e-02,  4.8566e-03, -3.4459e-02,  8.2095e-02,  2.7277e-02,\n",
            "          3.1504e-02,  6.1205e-02, -1.1220e-01,  8.7067e-02,  4.9831e-02,\n",
            "         -3.5357e-02,  2.7251e-02, -2.1248e-02,  6.1461e-02,  6.1719e-02]],\n",
            "       requires_grad=True), Parameter containing:\n",
            "tensor([-0.1878], requires_grad=True)]\n"
          ]
        }
      ],
      "source": [
        "print(list(net_loaded.parameters()))"
      ]
    },
    {
      "cell_type": "code",
      "execution_count": 51,
      "metadata": {
        "colab": {
          "base_uri": "https://localhost:8080/"
        },
        "id": "InGW0Xq6UZip",
        "outputId": "6c4a0e2c-b485-4362-b99d-7364dcf9443a"
      },
      "outputs": [
        {
          "name": "stdout",
          "output_type": "stream",
          "text": [
            "Sample failed checks. vx^2+vy^2+vz^2: 1.3489617859372234, wtemp_expr: -0.3259882519473023, sdet_expr: 0.8716841134918246\n",
            "Number of valid samples: 0\n",
            "Sample passed checks. vx^2+vy^2+vz^2: 0.4820160923861849, wtemp_expr: 0.45526976535509844, sdet_expr: 1.0652460161697894\n",
            "Number of valid samples: 1\n",
            "Sample passed checks. vx^2+vy^2+vz^2: 0.6683745499238223, wtemp_expr: 0.2563984514910911, sdet_expr: 1.0968003239456992\n",
            "Number of valid samples: 2\n",
            "Sample passed checks. vx^2+vy^2+vz^2: 0.09814332819807603, wtemp_expr: 0.9023800736438466, sdet_expr: 0.7761165245831267\n",
            "Number of valid samples: 3\n",
            "Sample failed checks. vx^2+vy^2+vz^2: 2.1479463268949925, wtemp_expr: -1.427440201116514, sdet_expr: 1.0162622110161006\n",
            "Number of valid samples: 3\n",
            "Sample passed checks. vx^2+vy^2+vz^2: 0.7410170660124162, wtemp_expr: 0.2028013263473215, sdet_expr: 0.9872012007251454\n",
            "Number of valid samples: 4\n",
            "Sample failed checks. vx^2+vy^2+vz^2: 1.4212347604605096, wtemp_expr: -0.551692869087187, sdet_expr: 0.9568561346336475\n",
            "Number of valid samples: 4\n",
            "Sample passed checks. vx^2+vy^2+vz^2: 0.5359177627655631, wtemp_expr: 0.4754592882551727, sdet_expr: 0.904168374490072\n",
            "Number of valid samples: 5\n",
            "Sample failed checks. vx^2+vy^2+vz^2: 1.0158491549325053, wtemp_expr: -0.06841355914342251, sdet_expr: 1.1139912428320113\n",
            "Number of valid samples: 5\n",
            "Sample failed checks. vx^2+vy^2+vz^2: 1.007329396227336, wtemp_expr: 0.06627305820066942, sdet_expr: 0.7917982237753933\n",
            "Number of valid samples: 5\n",
            "Sample failed checks. vx^2+vy^2+vz^2: 1.018607286761885, wtemp_expr: -0.17201890541410725, sdet_expr: 1.064740338309983\n",
            "Number of valid samples: 5\n",
            "Sample passed checks. vx^2+vy^2+vz^2: 0.776913770505637, wtemp_expr: 0.07653143309762434, sdet_expr: 1.1590373807967616\n",
            "Number of valid samples: 6\n",
            "Sample passed checks. vx^2+vy^2+vz^2: 0.8251882855812187, wtemp_expr: 0.145728664135931, sdet_expr: 0.9939861885436357\n",
            "Number of valid samples: 7\n",
            "Sample passed checks. vx^2+vy^2+vz^2: 0.5703751615475823, wtemp_expr: 0.3861656118397484, sdet_expr: 0.9354284043755999\n",
            "Number of valid samples: 8\n",
            "Sample passed checks. vx^2+vy^2+vz^2: 0.9040320272538238, wtemp_expr: 0.029975532511311798, sdet_expr: 0.8586341352875648\n",
            "Number of valid samples: 9\n",
            "Sample passed checks. vx^2+vy^2+vz^2: 0.9148182566814812, wtemp_expr: 0.042048960302501825, sdet_expr: 0.9864291844855105\n",
            "Number of valid samples: 10\n",
            "Sample failed checks. vx^2+vy^2+vz^2: 1.1129821295267899, wtemp_expr: -0.15221357974748062, sdet_expr: 0.9006942093681541\n",
            "Number of valid samples: 10\n",
            "Sample failed checks. vx^2+vy^2+vz^2: 1.2246051492799306, wtemp_expr: -0.3001093368011025, sdet_expr: 0.9778840972591416\n",
            "Number of valid samples: 10\n",
            "Sample passed checks. vx^2+vy^2+vz^2: 0.2225347674799428, wtemp_expr: 0.782615073268123, sdet_expr: 0.8400493251004422\n",
            "Number of valid samples: 11\n",
            "Sample passed checks. vx^2+vy^2+vz^2: 0.7403329191483575, wtemp_expr: 0.15925096904628389, sdet_expr: 1.0938667222485765\n",
            "Number of valid samples: 12\n",
            "Sample failed checks. vx^2+vy^2+vz^2: 1.4257980198262294, wtemp_expr: -0.5895909906605714, sdet_expr: 1.1418981859382062\n",
            "Number of valid samples: 12\n",
            "Sample passed checks. vx^2+vy^2+vz^2: 0.4887600588307148, wtemp_expr: 0.47500872715968856, sdet_expr: 0.9707513957681773\n",
            "Number of valid samples: 13\n",
            "Sample passed checks. vx^2+vy^2+vz^2: 0.0989527473725498, wtemp_expr: 0.8933118157511223, sdet_expr: 0.969906392323011\n",
            "Number of valid samples: 14\n",
            "Sample passed checks. vx^2+vy^2+vz^2: 0.21700388282594674, wtemp_expr: 0.7645294381144037, sdet_expr: 0.9126837203295644\n",
            "Number of valid samples: 15\n",
            "Sample passed checks. vx^2+vy^2+vz^2: 0.7759204571236022, wtemp_expr: 0.23792447893581925, sdet_expr: 0.8700562792459583\n",
            "Number of valid samples: 16\n",
            "Sample passed checks. vx^2+vy^2+vz^2: 0.866702247375194, wtemp_expr: 0.03427033676663449, sdet_expr: 1.2648025778167056\n",
            "Number of valid samples: 17\n",
            "Sample failed checks. vx^2+vy^2+vz^2: 1.766295566627581, wtemp_expr: -0.9910702943451302, sdet_expr: 1.1328020900037223\n",
            "Number of valid samples: 17\n",
            "Sample passed checks. vx^2+vy^2+vz^2: 0.7466295621239599, wtemp_expr: 0.2625320411022255, sdet_expr: 0.906030054077364\n",
            "Number of valid samples: 18\n",
            "Sample passed checks. vx^2+vy^2+vz^2: 0.5553453814636004, wtemp_expr: 0.4170966757924517, sdet_expr: 0.9247444064792363\n",
            "Number of valid samples: 19\n",
            "Sample failed checks. vx^2+vy^2+vz^2: 1.3707299191692273, wtemp_expr: -0.5228120558723359, sdet_expr: 0.8989318404743553\n",
            "Number of valid samples: 19\n",
            "Sample failed checks. vx^2+vy^2+vz^2: 1.0634969528511353, wtemp_expr: -0.13885287445085903, sdet_expr: 1.0687286274576575\n",
            "Number of valid samples: 19\n",
            "Sample failed checks. vx^2+vy^2+vz^2: 0.9172236679486043, wtemp_expr: -0.04200869220709369, sdet_expr: 1.073056225613698\n",
            "Number of valid samples: 19\n",
            "Sample passed checks. vx^2+vy^2+vz^2: 0.07122294915488418, wtemp_expr: 0.9256085111219005, sdet_expr: 1.0945842636609\n",
            "Number of valid samples: 20\n",
            "rho.shape:  torch.Size([20])\n",
            "epsilon.shape:  torch.Size([20])\n"
          ]
        },
        {
          "data": {
            "text/plain": [
              "tensor([[ 1.8716e-01,  7.5934e+01,  3.0697e+02,  8.6900e+01,  3.4032e+02,\n",
              "          2.8272e-01,  1.1556e+00, -5.3823e+00,  1.0734e+00,  1.9957e-02,\n",
              "          4.5727e-02,  1.0898e+00,  8.5216e-02,  9.1937e-01],\n",
              "        [ 7.3964e-01,  4.0687e+00,  2.6314e+00,  8.7986e+00,  9.2321e+00,\n",
              "         -2.4889e+00, -1.3945e+00,  1.4440e+00,  9.8269e-01,  8.6727e-02,\n",
              "          5.3552e-02,  1.0757e+00,  9.3174e-03,  1.0479e+00],\n",
              "        [ 1.4281e+00, -5.6663e+00,  5.6765e+00,  1.5042e+01,  4.5043e+01,\n",
              "         -5.3717e+00, -6.9323e+00,  3.6630e-01,  9.0125e-01,  7.9061e-02,\n",
              "          1.3871e-02,  9.2143e-01,  4.2960e-02,  9.4379e-01],\n",
              "        [ 9.7862e-01,  1.4682e+00,  3.5614e+00,  3.1396e+00,  4.9139e+00,\n",
              "          1.5630e+00, -1.0257e+00,  1.5204e+00,  9.6222e-01,  6.5207e-02,\n",
              "          9.0951e-03,  9.7345e-01,  5.7217e-02,  1.0621e+00],\n",
              "        [ 1.6973e+00,  3.9113e+03,  2.1128e+03,  6.4779e+02,  5.0700e+03,\n",
              "          4.0857e+00,  4.2504e+00, -9.0677e+00,  9.2459e-01,  4.4884e-02,\n",
              "          3.1889e-02,  9.9729e-01,  7.6113e-04,  9.8382e-01],\n",
              "        [ 4.3263e+00,  5.6050e+01,  1.3304e+01,  3.0452e+01,  6.6452e+01,\n",
              "          5.6473e-01, -9.0458e+00, -5.4847e-01,  1.0999e+00,  8.8986e-02,\n",
              "          5.1772e-02,  1.0371e+00,  7.3404e-02,  1.0303e+00],\n",
              "        [ 2.3651e+00,  2.2785e+01, -3.1563e-01,  6.8064e+01,  7.3953e+01,\n",
              "         -9.4368e+00, -1.1708e+00,  2.6225e+00,  9.8334e-01,  2.1372e-03,\n",
              "          4.2257e-02,  9.9288e-01,  2.1685e-02,  1.0204e+00],\n",
              "        [ 8.5270e-01,  3.4013e+01,  5.6034e+01,  1.0524e+01,  6.6417e+01,\n",
              "          2.3331e+00,  2.4704e-01, -9.0610e+00,  9.0948e-01,  9.8454e-03,\n",
              "          7.4059e-02,  1.0801e+00,  3.9685e-02,  9.5975e-01],\n",
              "        [ 2.1531e+00,  2.5230e+03,  9.9891e+02,  1.8717e+03,  3.1904e+03,\n",
              "         -5.9267e+00,  6.0316e+00, -3.0905e+00,  9.9892e-01,  9.1180e-02,\n",
              "          6.6254e-02,  9.5575e-01,  5.3972e-02,  9.1408e-01],\n",
              "        [ 6.5032e+00,  1.0252e+02,  1.4175e+02,  2.4845e+01,  1.6638e+02,\n",
              "         -6.2051e+00,  5.8968e+00, -8.2072e+00,  1.0588e+00,  3.9683e-02,\n",
              "          9.0261e-02,  9.7401e-01,  2.9316e-02,  9.6637e-01],\n",
              "        [ 7.5399e-01,  2.8494e+01,  2.0734e+01, -8.6472e+00,  5.4325e+01,\n",
              "          3.9965e+00, -2.0763e+00,  7.9726e+00,  9.0225e-01,  5.7723e-02,\n",
              "          8.9595e-02,  9.4433e-01,  3.3133e-02,  9.9952e-01],\n",
              "        [ 1.8162e+00,  4.7318e+01,  7.4329e+01,  4.3574e+01,  9.1048e+01,\n",
              "          8.7782e+00, -5.4216e+00, -4.5458e-01,  9.6999e-01,  4.2432e-02,\n",
              "          7.7863e-02,  1.0538e+00,  6.3264e-02,  1.0816e+00],\n",
              "        [ 2.3104e+00, -3.9501e+00,  1.6080e+01, -1.1919e-01,  9.1974e+01,\n",
              "          7.6816e+00,  4.0067e+00,  9.4833e+00,  9.5655e-01,  1.6192e-02,\n",
              "          2.4923e-02,  9.2985e-01,  4.0928e-02,  1.0941e+00],\n",
              "        [ 1.1061e+00,  2.0053e+01,  4.4208e+00,  2.5203e+00,  8.2413e+01,\n",
              "          2.6569e+00, -7.5790e+00, -9.5980e+00,  9.0164e-01,  1.1561e-02,\n",
              "          8.5620e-02,  1.0240e+00,  1.0478e-02,  1.0589e+00],\n",
              "        [ 1.3357e+00,  3.1082e+01,  1.9191e+01,  2.0128e+01,  5.0083e+01,\n",
              "         -5.9796e+00,  5.9191e+00,  3.5708e+00,  9.8226e-01,  6.4044e-02,\n",
              "          6.0183e-02,  9.6582e-01,  6.9351e-02,  9.7437e-01],\n",
              "        [ 3.5298e+00,  3.2161e+01,  1.6256e+01,  5.0061e+01,  6.0606e+01,\n",
              "         -5.8186e+00, -3.1248e+00,  4.4694e+00,  9.1034e-01,  2.7673e-02,\n",
              "          2.4769e-02,  1.0222e+00,  4.5064e-02,  9.3839e-01],\n",
              "        [ 8.2750e+00,  1.2311e+02,  3.1727e+02,  1.7687e+02,  3.5495e+02,\n",
              "         -9.7904e+00,  1.0224e+01, -1.1106e+01,  1.0725e+00,  1.3607e-02,\n",
              "          8.2892e-02,  1.0933e+00,  1.7172e-03,  1.0853e+00],\n",
              "        [ 1.0495e+00,  2.2185e+01,  7.9921e+01,  2.3274e+01,  8.7719e+01,\n",
              "         -3.5296e+00,  3.4854e+00, -8.7054e+00,  1.0157e+00,  3.3145e-03,\n",
              "          4.4639e-02,  9.2975e-01,  6.6787e-02,  9.6616e-01],\n",
              "        [ 4.2345e-01,  2.2717e+01,  7.5680e+00, -5.4198e+00,  4.6260e+01,\n",
              "          7.0440e-01, -6.8755e+00, -5.8717e+00,  1.0025e+00,  8.9579e-02,\n",
              "          4.1789e-02,  9.3358e-01,  4.9883e-02,  1.0007e+00],\n",
              "        [ 1.0111e+00,  2.8451e+01,  3.7240e+01,  2.1735e+01,  9.9488e+01,\n",
              "          6.2972e+00, -9.7457e+00,  8.2391e+00,  1.0954e+00,  8.9651e-02,\n",
              "          6.6049e-02,  9.5780e-01,  6.4763e-02,  1.0590e+00]])"
            ]
          },
          "execution_count": 51,
          "metadata": {},
          "output_type": "execute_result"
        }
      ],
      "source": [
        "rho_example, epsilon_example, vx_example, vy_example, vz_example, Bx_example, By_example, Bz_example, gxx_example, gxy_example, gxz_example, gyy_example, gyz_example, gzz_example = generate_samples(20)\n",
        "\n",
        "inputs =  generate_input_data(rho_example, epsilon_example, vx_example, vy_example, vz_example, Bx_example, By_example, Bz_example, gxx_example, gxy_example, gxz_example, gyy_example, gyz_example, gzz_example)\n",
        "inputs\n"
      ]
    },
    {
      "cell_type": "code",
      "execution_count": 52,
      "metadata": {
        "colab": {
          "base_uri": "https://localhost:8080/"
        },
        "id": "QVa1upmFUZip",
        "outputId": "95a297df-88d8-4614-ffd7-ecc0cda58cf9"
      },
      "outputs": [
        {
          "data": {
            "text/plain": [
              "[tensor([[0.]], grad_fn=<ReluBackward0>),\n",
              " tensor([[0.]], grad_fn=<ReluBackward0>),\n",
              " tensor([[0.]], grad_fn=<ReluBackward0>),\n",
              " tensor([[0.]], grad_fn=<ReluBackward0>),\n",
              " tensor([[0.]], grad_fn=<ReluBackward0>),\n",
              " tensor([[0.]], grad_fn=<ReluBackward0>),\n",
              " tensor([[0.]], grad_fn=<ReluBackward0>),\n",
              " tensor([[0.]], grad_fn=<ReluBackward0>),\n",
              " tensor([[0.]], grad_fn=<ReluBackward0>),\n",
              " tensor([[0.]], grad_fn=<ReluBackward0>),\n",
              " tensor([[0.]], grad_fn=<ReluBackward0>),\n",
              " tensor([[0.]], grad_fn=<ReluBackward0>),\n",
              " tensor([[0.]], grad_fn=<ReluBackward0>),\n",
              " tensor([[0.]], grad_fn=<ReluBackward0>),\n",
              " tensor([[0.]], grad_fn=<ReluBackward0>),\n",
              " tensor([[0.]], grad_fn=<ReluBackward0>),\n",
              " tensor([[0.]], grad_fn=<ReluBackward0>),\n",
              " tensor([[0.]], grad_fn=<ReluBackward0>),\n",
              " tensor([[0.]], grad_fn=<ReluBackward0>),\n",
              " tensor([[0.]], grad_fn=<ReluBackward0>)]"
            ]
          },
          "execution_count": 52,
          "metadata": {},
          "output_type": "execute_result"
        }
      ],
      "source": [
        "#%%script echo skipping\n",
        "\n",
        "# Pass the inputs to the network and get the outputs\n",
        "outputs = [net(input.unsqueeze(0)) for input in inputs]\n",
        "# Print the outputs\n",
        "outputs"
      ]
    },
    {
      "cell_type": "code",
      "execution_count": 53,
      "metadata": {
        "colab": {
          "base_uri": "https://localhost:8080/"
        },
        "id": "E-Xjfo7VUZir",
        "outputId": "fb0478cb-bee3-429f-fdec-d99f11baf40f"
      },
      "outputs": [
        {
          "data": {
            "text/plain": [
              "[tensor([[0.]], grad_fn=<ReluBackward0>),\n",
              " tensor([[0.]], grad_fn=<ReluBackward0>),\n",
              " tensor([[0.]], grad_fn=<ReluBackward0>),\n",
              " tensor([[0.]], grad_fn=<ReluBackward0>),\n",
              " tensor([[0.]], grad_fn=<ReluBackward0>),\n",
              " tensor([[0.]], grad_fn=<ReluBackward0>),\n",
              " tensor([[0.]], grad_fn=<ReluBackward0>),\n",
              " tensor([[0.]], grad_fn=<ReluBackward0>),\n",
              " tensor([[0.]], grad_fn=<ReluBackward0>),\n",
              " tensor([[0.]], grad_fn=<ReluBackward0>),\n",
              " tensor([[0.]], grad_fn=<ReluBackward0>),\n",
              " tensor([[0.]], grad_fn=<ReluBackward0>),\n",
              " tensor([[0.]], grad_fn=<ReluBackward0>),\n",
              " tensor([[0.]], grad_fn=<ReluBackward0>),\n",
              " tensor([[0.]], grad_fn=<ReluBackward0>),\n",
              " tensor([[0.]], grad_fn=<ReluBackward0>),\n",
              " tensor([[0.]], grad_fn=<ReluBackward0>),\n",
              " tensor([[0.]], grad_fn=<ReluBackward0>),\n",
              " tensor([[0.]], grad_fn=<ReluBackward0>),\n",
              " tensor([[0.]], grad_fn=<ReluBackward0>)]"
            ]
          },
          "execution_count": 53,
          "metadata": {},
          "output_type": "execute_result"
        }
      ],
      "source": [
        "\n",
        "# Pass the inputs to the network and get the outputs\n",
        "outputs = [net_loaded(input.unsqueeze(0)) for input in inputs]\n",
        "# Print the outputs\n",
        "outputs"
      ]
    },
    {
      "attachments": {},
      "cell_type": "markdown",
      "metadata": {
        "id": "xjpIvdybUZis"
      },
      "source": [
        "## Porting the model to C++"
      ]
    },
    {
      "cell_type": "code",
      "execution_count": 54,
      "metadata": {
        "colab": {
          "base_uri": "https://localhost:8080/"
        },
        "id": "VMlEd4RoUZis",
        "outputId": "d5bfc697-8c96-47bb-a08c-6fb26f463797"
      },
      "outputs": [
        {
          "data": {
            "text/plain": [
              "Net(\n",
              "  (hidden_activation): ReLU()\n",
              "  (output_activation): ReLU()\n",
              "  (layers): ModuleList(\n",
              "    (0): Linear(in_features=14, out_features=555, bias=True)\n",
              "    (1): Linear(in_features=555, out_features=458, bias=True)\n",
              "    (2): Linear(in_features=458, out_features=115, bias=True)\n",
              "    (3): Linear(in_features=115, out_features=1, bias=True)\n",
              "  )\n",
              ")"
            ]
          },
          "execution_count": 54,
          "metadata": {},
          "output_type": "execute_result"
        },
        {
          "name": "stdout",
          "output_type": "stream",
          "text": [
            "Sample passed checks. vx^2+vy^2+vz^2: 0.8723633650922286, wtemp_expr: 0.10750315113621878, sdet_expr: 1.0761958778634493\n",
            "Number of valid samples: 1\n",
            "rho.shape:  torch.Size([1])\n",
            "epsilon.shape:  torch.Size([1])\n",
            "input shape:  torch.Size([1, 14])\n",
            "input:  tensor([[ 3.5437e+00,  7.2699e+01,  1.4111e+02,  2.2304e+01,  1.5890e+02,\n",
            "         -7.6623e+00,  5.1201e+00, -8.6727e+00,  1.0809e+00,  3.0114e-02,\n",
            "          6.1212e-02,  9.2126e-01,  6.5708e-02,  1.0897e+00]])\n",
            "Output: tensor([[0.]], grad_fn=<ReluBackward0>)\n"
          ]
        },
        {
          "name": "stderr",
          "output_type": "stream",
          "text": [
            "/tmp/ipykernel_937262/439735149.py:53: TracerWarning: Converting a tensor to a Python boolean might cause the trace to be incorrect. We can't record the data flow of Python values, so this value will be treated as a constant in the future. This means that the trace might not generalize to other inputs!\n",
            "  assert x.shape[1] == N_INPUTS, f\"x must have shape (batch_size, {N_INPUTS})\"\n"
          ]
        }
      ],
      "source": [
        "import torch.jit\n",
        "\n",
        "# Creating a dummy input tensor of shape (1, 5) to trace the model\n",
        "dummy_input = torch.randn(1, N_INPUTS).to(device)\n",
        "\n",
        "# Ensure that net_loaded is in evaluation mode.\n",
        "net_loaded.eval()\n",
        "\n",
        "# Tracing the model using the torch.jit.trace function\n",
        "traced_model = torch.jit.trace(net_loaded, dummy_input)\n",
        "\n",
        "# Saving the traced model to a file named \"net.pt\"\n",
        "traced_model.save(\"net.pt\")\n",
        "save_file(\"net.pt\")\n",
        "\n",
        "example_input_to_validate_correct_export_and_import = generate_input_data(*generate_samples(1))\n",
        "print(\"input shape: \", example_input_to_validate_correct_export_and_import.shape)\n",
        "print(\"input: \", example_input_to_validate_correct_export_and_import)\n",
        "print(\"Output:\", net_loaded(example_input_to_validate_correct_export_and_import))"
      ]
    },
    {
      "cell_type": "code",
      "execution_count": null,
      "metadata": {},
      "outputs": [],
      "source": []
    }
  ],
  "metadata": {
    "accelerator": "GPU",
    "colab": {
      "gpuType": "T4",
      "provenance": [],
      "toc_visible": true
    },
    "gpuClass": "standard",
    "kernelspec": {
      "display_name": "bsc",
      "language": "python",
      "name": "python3"
    },
    "language_info": {
      "codemirror_mode": {
        "name": "ipython",
        "version": 3
      },
      "file_extension": ".py",
      "mimetype": "text/x-python",
      "name": "python",
      "nbconvert_exporter": "python",
      "pygments_lexer": "ipython3",
      "version": "3.11.3"
    },
    "orig_nbformat": 4
  },
  "nbformat": 4,
  "nbformat_minor": 0
}
