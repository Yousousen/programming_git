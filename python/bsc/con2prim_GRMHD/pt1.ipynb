{
  "cells": [
    {
      "attachments": {},
      "cell_type": "markdown",
      "metadata": {
        "id": "TPvB1xoSUZhR"
      },
      "source": [
        "# Neural network to learn conservative-to-primitive conversion in relativistic hydrodynamics"
      ]
    },
    {
      "attachments": {},
      "cell_type": "markdown",
      "metadata": {},
      "source": [
        "## How to use this notebook\n",
        "\n",
        "### Local installation\n",
        "\n",
        "1. Install required packages with `pip install -r requirements.txt` to your desired environment.\n",
        "2. If a script version of this notebook is desired, comment (not uncomment) the first line of `nbconvert` cell.\n",
        "\n",
        "### Colab installation\n",
        "\n",
        "1.  Comment (not uncomment) the first line of the drive mounting cell.\n",
        "2.  Comment (not uncomment) the first line of the `pip install` cell.\n",
        "\n",
        "<!-- - For colab we also want to set the runtime to GPU by clicking _Change runtime_ in the _Runtime_ menu, and -->\n",
        "<!-- - We want to wait for the google drive connection popup to appear and follow the instructions. -->\n",
        "\n",
        "### Training without optimization\n",
        "\n",
        "3. Set `OPTIMIZE = False` in section _Constants and flags to set_.\n",
        "4. Run the entire notebook.\n",
        "\n",
        "### Training with optimization\n",
        "\n",
        "3. Set `OPTIMIZE = True` in section _Constants and flags to set_.\n",
        "4. Run the entire notebook.\n",
        "\n",
        "### Loading an already trained model\n",
        "\n",
        "3. Run cells in section _Initialization_.\n",
        "4. Run cells with definitions in section _Generating the data_.\n",
        "5. Run cell with the definition of _Net_ in section _Defining the neural network_.\n",
        "6. Make sure the `net.pth`, `optimizer.pth`, `scheduler.pth`, `var_dict.json` and `train_output.csv` files are in the directory containing this notebook.\n",
        "7. Run the cells in section _Loading_ and continue from there.\n",
        "\n",
        "### Generating the C++ model\n",
        "\n",
        "8. Run section _Porting the model to C++_, this requires a model to be loaded.\n",
        "9. Set the path to the `net.pt` file in the C++ source file.\n",
        "10. `mkdir build && cd build`,\n",
        "11. `cmake -DCMAKE_PREFIX_PATH=/path/to/libtorch/ ..`,\n",
        "10. Compile and run, e.g. `cmake --build . --config release && ./executable`"
      ]
    },
    {
      "attachments": {},
      "cell_type": "markdown",
      "metadata": {},
      "source": [
        "## Initialization"
      ]
    },
    {
      "attachments": {},
      "cell_type": "markdown",
      "metadata": {},
      "source": [
        "\n",
        "Use this first cell to **convert this notebook** to a python script."
      ]
    },
    {
      "cell_type": "code",
      "execution_count": 1,
      "metadata": {
        "colab": {
          "base_uri": "https://localhost:8080/"
        },
        "id": "eqdgdNLHUZhV",
        "outputId": "30907b9d-56c3-44d7-cd43-6387a991a46a",
        "tags": [
          "remove_cell"
        ]
      },
      "outputs": [
        {
          "name": "stdout",
          "output_type": "stream",
          "text": [
            "Couldn't find program: 'echo'\n"
          ]
        }
      ],
      "source": [
        "%%script echo skipping\n",
        "\n",
        "!jupyter nbconvert pt1.ipynb --TagRemovePreprocessor.enabled=True --TagRemovePreprocessor.remove_cell_tags='{\"remove_cell\"}' --to script"
      ]
    },
    {
      "attachments": {},
      "cell_type": "markdown",
      "metadata": {
        "id": "nzcUr0LnUZhw"
      },
      "source": [
        "Next some cells for working on **google colab**,"
      ]
    },
    {
      "cell_type": "code",
      "execution_count": 2,
      "metadata": {},
      "outputs": [],
      "source": [
        "import os\n",
        "import shutil\n",
        "\n",
        "# check if the drive is mounted\n",
        "drive_mounted = os.path.exists(\"/content/drive\")\n",
        "# change this to your desired folder\n",
        "drive_folder = \"/content/drive/My Drive/bsc/con2prim_towards_GRMHD/\"\n",
        "\n",
        "# define a function to save a file to the drive or the current directory\n",
        "def save_file(file_name):\n",
        "  if drive_mounted:\n",
        "    # save the file to the drive folder\n",
        "    file_path = os.path.join(drive_folder, file_name)\n",
        "    # copy the file from the current directory to the drive folder\n",
        "    shutil.copyfile(file_name, file_path)\n",
        "  else:\n",
        "    # do nothing as the file is already in the current directory\n",
        "    pass\n"
      ]
    },
    {
      "cell_type": "code",
      "execution_count": 3,
      "metadata": {
        "colab": {
          "base_uri": "https://localhost:8080/"
        },
        "id": "ecHw2_xlUZhx",
        "outputId": "462a57cd-ee19-4961-d3aa-ff2407b2bde0"
      },
      "outputs": [
        {
          "name": "stdout",
          "output_type": "stream",
          "text": [
            "Couldn't find program: 'echo'\n"
          ]
        }
      ],
      "source": [
        "%%script echo skipping\n",
        "\n",
        "from google.colab import drive\n",
        "drive.mount('/content/drive')"
      ]
    },
    {
      "cell_type": "code",
      "execution_count": 4,
      "metadata": {
        "colab": {
          "base_uri": "https://localhost:8080/"
        },
        "id": "T1rcStMLUZhy",
        "outputId": "7ea7311f-f054-4a29-d0ff-12849095ab6e"
      },
      "outputs": [
        {
          "name": "stdout",
          "output_type": "stream",
          "text": [
            "Couldn't find program: 'echo'\n"
          ]
        }
      ],
      "source": [
        "%%script echo skipping\n",
        "\n",
        "!pip install optuna tensorboard tensorboardX"
      ]
    },
    {
      "attachments": {},
      "cell_type": "markdown",
      "metadata": {},
      "source": [
        "Importing the **libraries** and setting the **device**,"
      ]
    },
    {
      "cell_type": "code",
      "execution_count": 5,
      "metadata": {
        "id": "tREdWQUVUZhz"
      },
      "outputs": [],
      "source": [
        "import numpy as np\n",
        "import matplotlib.pyplot as plt\n",
        "import torch\n",
        "import torch.nn as nn\n",
        "import torch.optim as optim\n",
        "import torch.nn.functional as F\n",
        "import optuna\n",
        "import tensorboardX as tbx\n",
        "\n",
        "# Checking if GPU is available and setting the device accordingly\n",
        "device = torch.device(\"cuda\" if torch.cuda.is_available() else \"cpu\")\n"
      ]
    },
    {
      "attachments": {},
      "cell_type": "markdown",
      "metadata": {
        "id": "38GvmerjUZhz"
      },
      "source": [
        "### Constants and flags to set\n",
        "Defining some constants and parameters for convenience.\n",
        "\n",
        "**NOTE**: Some **subparameters** still need to be adjusted in the `create_model` function itself as of (Tue May 16 07:42:45 AM CEST 2023) in the case the model is being trained without optimization."
      ]
    },
    {
      "cell_type": "code",
      "execution_count": 6,
      "metadata": {
        "id": "ei6VZDYKUZh0"
      },
      "outputs": [],
      "source": [
        "\n",
        "N_TRIALS = 150 # Number of trials for hyperparameter optimization\n",
        "OPTIMIZE = False # Whether to optimize the hyperparameters or to use predetermined values from Dieseldorst et al..\n",
        "ZSCORE_NORMALIZATION = False # Whether to z-score normalize the input data.\n",
        "\n",
        "# I try out here the values as obtained in Optuna run 5, but I will increase the number of epochs.\n",
        "# N_LAYERS_NO_OPT = 3\n",
        "# N_UNITS_NO_OPT = [78, 193, 99]\n",
        "# HIDDEN_ACTIVATION_NAME_NO_OPT = \"ReLU\"\n",
        "# OUTPUT_ACTIVATION_NAME_NO_OPT = \"Linear\"\n",
        "# LOSS_NAME_NO_OPT = \"MSE\"\n",
        "# OPTIMIZER_NAME_NO_OPT = \"Adam\"\n",
        "# LR_NO_OPT = 0.00036516467819506355\n",
        "# BATCH_SIZE_NO_OPT = 170\n",
        "# N_EPOCHS_NO_OPT = 400\n",
        "# SCHEDULER_NAME_NO_OPT = \"ReduceLROnPlateau\"\n",
        "\n",
        "N_LAYERS_NO_OPT = 3\n",
        "N_UNITS_NO_OPT = [555, 458, 115]\n",
        "HIDDEN_ACTIVATION_NAME_NO_OPT = \"ReLU\"\n",
        "OUTPUT_ACTIVATION_NAME_NO_OPT = \"ReLU\"\n",
        "LOSS_NAME_NO_OPT = \"Huber\"\n",
        "OPTIMIZER_NAME_NO_OPT = \"RMSprop\"\n",
        "LR_NO_OPT = 0.000122770896701404\n",
        "BATCH_SIZE_NO_OPT = 49\n",
        "N_EPOCHS_NO_OPT = 10\n",
        "SCHEDULER_NAME_NO_OPT = \"ReduceLROnPlateau\"\n",
        "\n",
        "c = 1  # Speed of light (used in compute_conserved_variables and sample_primitive_variables functions)\n",
        "Gamma = 5 / 3  # Adiabatic index (used in eos_analytic function)\n",
        "gamma_det = 1 # Determinant of gamma_ij.\n",
        "alpha = 1 # Lapse function.\n",
        "n_train_samples = 80000 # Number of training samples (used in generate_input_data and generate_labels functions)\n",
        "n_test_samples = 10000 # Number of test samples (used in generate_input_data and generate_labels functions)\n",
        "# TODO: Make the intervals correspond to something that works in GR in general, for right now (Sun May 21 06:02:10 PM CEST 2023) the intervals are a mix of Dieselhorst et al., the minimum to maximum speed and dummy intervals.\n",
        "rho_interval = (0, 10.1) # Sampling interval for rest-mass density (used in sample_primitive_variables function)\n",
        "epsilon_interval = (0, 2.02) # Sampling interval for specific internal energy (used in sample_primitive_variables function)\n",
        "vx_interval = (0, .57 * c) # Sampling interval for velocity in x-direction (used in sample_primitive_variables function)\n",
        "vy_interval = (0, .57 * c) # Sampling interval for velocity in y-direction (used in sample_primitive_variables function)\n",
        "vz_interval = (0, .57 * c) # Sampling interval for velocity in z-direction (used in sample_primitive_variables function)\n",
        "# TODO: Choose proper sampling intervals for the magnetic fields in all directions.\n",
        "Bx_interval = (0, 1) # Sampling interval for magnetic field in x-direction (used in sample_primitive_variables function)\n",
        "By_interval = (0, 1) # Sampling interval for magnetic field in y-direction (used in sample_primitive_variables function)\n",
        "Bz_interval = (0, 1) # Sampling interval for magnetic field in z-direction (used in sample_primitive_variables function)\n",
        "b0_interval = (0, 1)\n",
        "b1_interval = (0, 1)\n",
        "b2_interval = (0, 1)\n",
        "b3_interval = (0, 1)\n",
        "\n",
        "np.random.seed(42) # Uncomment for pseudorandom data.\n"
      ]
    },
    {
      "cell_type": "markdown",
      "metadata": {
        "id": "dlaP5UL2UZh1"
      },
      "source": [
        "## Generating the data"
      ]
    },
    {
      "cell_type": "code",
      "execution_count": 7,
      "metadata": {
        "id": "s_EvGFZcUZh1"
      },
      "outputs": [],
      "source": [
        "# Defining an analytic equation of state (EOS) for an ideal gas\n",
        "def eos_analytic(rho, epsilon):\n",
        "    \"\"\"Computes the pressure from rest-mass density and specific internal energy using an analytic EOS.\n",
        "\n",
        "    Args:\n",
        "        rho (torch.Tensor): The rest-mass density tensor of shape (n_samples,).\n",
        "        epsilon (torch.Tensor): The specific internal energy tensor of shape (n_samples,).\n",
        "\n",
        "    Returns:\n",
        "        torch.Tensor: The pressure tensor of shape (n_samples,).\n",
        "    \"\"\"\n",
        "    # Adding some assertions to check that the input tensors are valid and have \n",
        "    # the expected shape and type \n",
        "    assert isinstance(rho, torch.Tensor), \"rho must be a torch.Tensor\"\n",
        "    assert isinstance(epsilon, torch.Tensor), \"epsilon must be a torch.Tensor\"\n",
        "    assert rho.shape == epsilon.shape, \"rho and epsilon must have the same shape\"\n",
        "    assert rho.ndim == 1, \"rho and epsilon must be one-dimensional tensors\"\n",
        "    assert rho.dtype == torch.float32, \"rho and epsilon must have dtype torch.float32\"\n",
        "\n",
        "    return (Gamma - 1) * rho * epsilon\n",
        "\n",
        "\n",
        "\n",
        "# Defining a function that samples primitive variables from uniform distributions\n",
        "def sample_primitive_variables(n_samples):\n",
        "    \"\"\"Samples primitive variables from uniform distributions.\n",
        "\n",
        "    Args:\n",
        "        n_samples (int): The number of samples to generate.\n",
        "\n",
        "    Returns:\n",
        "        tuple: A tuple of (rho, epsilon, vx, vy, vz, Bx, By, Bz, b0, b1, b2, b3), where rho is rest-mass density,\n",
        "            rho is the rest mass density,\n",
        "            epsilon is specific internal energy,\n",
        "            vx is velocity in x-direction,\n",
        "            vy is velocity in y-direction,\n",
        "            vz is velocity in z-direction,\n",
        "            Bx is magnetic field in x-direction,\n",
        "            By is magnetic field in y-direction,\n",
        "            Bz is magnetic field in z-direction,\n",
        "            TODO:\n",
        "            b0\n",
        "            b1\n",
        "            b2\n",
        "            b3\n",
        "            each being a numpy array of shape (n_samples,).\n",
        "    \"\"\"\n",
        "    rho = np.random.uniform(*rho_interval, size=n_samples)  # Rest-mass density\n",
        "    epsilon = np.random.uniform(*epsilon_interval, size=n_samples)  # Specific internal energy\n",
        "    vx = np.random.uniform(*vx_interval, size=n_samples)  # Velocity in x-direction\n",
        "    vy = np.random.uniform(*vy_interval, size=n_samples)  # Velocity in y-direction\n",
        "    vz = np.random.uniform(*vz_interval, size=n_samples)  # Velocity in z-direction \n",
        "    Bx = np.random.uniform(*Bx_interval, size=n_samples)  # Magnetic field in x-direction\n",
        "    By = np.random.uniform(*By_interval, size=n_samples)  # Magnetic field in y-direction\n",
        "    Bz = np.random.uniform(*Bz_interval, size=n_samples)  # Magnetic field in z-direction \n",
        "    b0 = np.random.uniform(*b0_interval, size=n_samples)\n",
        "    b1 = np.random.uniform(*b1_interval, size=n_samples)\n",
        "    b2 = np.random.uniform(*b2_interval, size=n_samples)\n",
        "    b3 = np.random.uniform(*b3_interval, size=n_samples)\n",
        "\n",
        "    return rho, epsilon, vx, vy, vz, Bx, By, Bz, b0, b1, b2, b3\n",
        "\n",
        "\n",
        "\n",
        "\n",
        "# Defining a function that computes conserved variables from primitive variables\n",
        "def compute_conserved_variables(rho, epsilon, vx, vy, vz, Bx, By, Bz, b0, b1, b2, b3):\n",
        "    \"\"\"Computes conserved variables from primitive variables.\n",
        "\n",
        "    Args:\n",
        "        rho (torch.Tensor): The rest-mass density tensor of shape (n_samples,).\n",
        "        epsilon (torch.Tensor): The specific internal energy tensor of shape (n_samples,).\n",
        "        vx (torch.Tensor): The velocity in x-direction tensor of shape (n_samples,)\n",
        "        vy (torch.Tensor): The velocity in y-direction tensor of shape (n_samples,)\n",
        "        vz (torch.Tensor): The velocity in z-direction tensor of shape (n_samples,)\n",
        "        Bx (torch.Tensor): The magnetic field in x-direction tensor of shape (n_samples,)\n",
        "        By (torch.Tensor): The magnetic field in y-direction tensor of shape (n_samples,)\n",
        "        Bz (torch.Tensor): The magnetic field in z-direction tensor of shape (n_samples,)\n",
        "        TODO:\n",
        "        b0\n",
        "        b1\n",
        "        b2\n",
        "        b3\n",
        "\n",
        "    Returns:\n",
        "        tuple: A tuple of (D, Sx, Sy, Sz, tau, Bscriptx, Bscripty, Bscriptz), where\n",
        "            D is conserved density,\n",
        "            Sx is conserved momentum in x-direction,\n",
        "            Sy is conserved momentum in y-direction,\n",
        "            Sz is conserved momentum in z-direction,\n",
        "            tau is conserved energy density,\n",
        "            Bscriptx is conserved magnetic field in x-direction,\n",
        "            Bscripty is conserved magnetic field in y-direction,\n",
        "            Bscriptz is conserved magnetic field in z-direction,\n",
        "            each being a torch tensor of shape (n_samples,).\n",
        "    \"\"\"\n",
        "\n",
        "    p = eos_analytic(rho, epsilon)\n",
        "    v2 = vx ** 2 + vy ** 2 + vz ** 2\n",
        "    W = 1 / torch.sqrt(1 - v2 / c ** 2)\n",
        "    h_star = 1 + epsilon + (p + Bx ** 2 + By ** 2 + Bz ** 2) / rho\n",
        "\n",
        "    D = gamma_det ** 0.5 * rho * W\n",
        "    Sx = gamma_det ** 0.5 * (rho * h_star * W ** 2 * vx - alpha * b0 * b1)\n",
        "    Sy = gamma_det ** 0.5 * (rho * h_star * W ** 2 * vy - alpha * b0 * b2)\n",
        "    Sz = gamma_det ** 0.5 * (rho * h_star * W ** 2 * vz - alpha * b0 * b3)\n",
        "    tau = gamma_det ** 0.5 * (rho * h_star * W ** 2 - p - (alpha * b0) ** 2) - D\n",
        "    Bscriptx = gamma_det ** 0.5 * Bx\n",
        "    Bscripty = gamma_det ** 0.5 * By\n",
        "    Bscriptz = gamma_det ** 0.5 * Bz\n",
        "\n",
        "    return D, Sx, Sy, Sz, tau, Bscriptx, Bscripty, Bscriptz\n",
        "\n",
        "\n",
        "# Defining a function that generates input data (conserved variables) from given samples of primitive variables\n",
        "def generate_input_data(rho, epsilon, vx, vy, vz, Bx, By, Bz, b0, b1, b2, b3):\n",
        "    # Converting the numpy arrays to torch tensors and moving them to the device\n",
        "    rho = torch.tensor(rho, dtype=torch.float32).to(device)\n",
        "    epsilon = torch.tensor(epsilon, dtype=torch.float32).to(device)\n",
        "    vx = torch.tensor(vx, dtype=torch.float32).to(device)\n",
        "    vy = torch.tensor(vy, dtype=torch.float32).to(device)\n",
        "    vz = torch.tensor(vz, dtype=torch.float32).to(device)\n",
        "    Bx = torch.tensor(Bx, dtype=torch.float32).to(device)\n",
        "    By = torch.tensor(By, dtype=torch.float32).to(device)\n",
        "    Bz = torch.tensor(Bz, dtype=torch.float32).to(device)\n",
        "    b0 = torch.tensor(b0, dtype=torch.float32).to(device)\n",
        "    b1 = torch.tensor(b1, dtype=torch.float32).to(device)\n",
        "    b2 = torch.tensor(b2, dtype=torch.float32).to(device)\n",
        "    b3 = torch.tensor(b3, dtype=torch.float32).to(device)\n",
        "\n",
        "    # Computing the conserved variables using the compute_conserved_variables function\n",
        "    D, Sx, Sy, Sz, tau, Bscriptx, Bscripty, Bscriptz = compute_conserved_variables(\n",
        "        rho, epsilon, vx, vy, vz, Bx, By, Bz, b0, b1, b2, b3\n",
        "    ) \n",
        "\n",
        "    # Stacking the conserved variables into a torch tensor\n",
        "    x = torch.stack([D, Sx, Sy, Sz, tau, Bscriptx, Bscripty, Bscriptz], axis=1)\n",
        "\n",
        "    # Returning the input data tensor\n",
        "    return x\n",
        "\n",
        "# Defining a function that generates output data (labels) from given samples of primitive variables\n",
        "def generate_labels(rho, epsilon):\n",
        "    # Converting the numpy arrays to torch tensors and moving them to the device\n",
        "    rho = torch.tensor(rho, dtype=torch.float32).to(device)\n",
        "    epsilon = torch.tensor(epsilon, dtype=torch.float32).to(device)\n",
        "   \n",
        "    # Computing the pressure from the primitive variables using the EOS\n",
        "    p = eos_analytic(rho, epsilon)\n",
        "\n",
        "    # Returning the output data tensor\n",
        "    return p\n"
      ]
    },
    {
      "cell_type": "markdown",
      "metadata": {
        "id": "_dczop2rUZh3"
      },
      "source": [
        "Sampling the primitive variables using the sample_primitive_variables function"
      ]
    },
    {
      "cell_type": "code",
      "execution_count": 8,
      "metadata": {
        "id": "cKubR6C8UZh4"
      },
      "outputs": [],
      "source": [
        "rho_train, epsilon_train, vx_train, vy_train, vz_train, Bx_train, By_train, Bz_train, b0_train, b1_train, b2_train, b3_train = sample_primitive_variables(n_train_samples)\n",
        "rho_test, epsilon_test, vx_test ,vy_test, vz_test, Bx_test, By_test, Bz_test, b0_test, b1_test, b2_test, b3_test = sample_primitive_variables(n_test_samples)\n"
      ]
    },
    {
      "cell_type": "code",
      "execution_count": 9,
      "metadata": {},
      "outputs": [
        {
          "data": {
            "text/plain": [
              "array([3.7828552 , 9.60221449, 7.39313881, ..., 3.85518754, 1.30928573,\n",
              "       9.5675983 ])"
            ]
          },
          "execution_count": 9,
          "metadata": {},
          "output_type": "execute_result"
        },
        {
          "data": {
            "text/plain": [
              "array([1.65269219, 0.29344492, 1.91185687, ..., 0.59728412, 1.60088186,\n",
              "       0.92542952])"
            ]
          },
          "execution_count": 9,
          "metadata": {},
          "output_type": "execute_result"
        },
        {
          "data": {
            "text/plain": [
              "array([0.53015873, 0.34538885, 0.19004683, ..., 0.0427437 , 0.34608123,\n",
              "       0.18076349])"
            ]
          },
          "execution_count": 9,
          "metadata": {},
          "output_type": "execute_result"
        },
        {
          "data": {
            "text/plain": [
              "array([0.04282752, 0.19716017, 0.37988219, ..., 0.47604939, 0.2403435 ,\n",
              "       0.02051602])"
            ]
          },
          "execution_count": 9,
          "metadata": {},
          "output_type": "execute_result"
        },
        {
          "data": {
            "text/plain": [
              "array([0.09635726, 0.20907248, 0.38307736, ..., 0.32808556, 0.50920368,\n",
              "       0.28638091])"
            ]
          },
          "execution_count": 9,
          "metadata": {},
          "output_type": "execute_result"
        },
        {
          "data": {
            "text/plain": [
              "array([0.88895306, 0.31571342, 0.0519097 , ..., 0.86900388, 0.00625169,\n",
              "       0.58451891])"
            ]
          },
          "execution_count": 9,
          "metadata": {},
          "output_type": "execute_result"
        },
        {
          "data": {
            "text/plain": [
              "array([0.00364109, 0.62124109, 0.76289791, ..., 0.33640291, 0.69158437,\n",
              "       0.87035141])"
            ]
          },
          "execution_count": 9,
          "metadata": {},
          "output_type": "execute_result"
        },
        {
          "data": {
            "text/plain": [
              "array([0.01966783, 0.17905959, 0.65205497, ..., 0.07297064, 0.43011168,\n",
              "       0.49227056])"
            ]
          },
          "execution_count": 9,
          "metadata": {},
          "output_type": "execute_result"
        },
        {
          "data": {
            "text/plain": [
              "array([6.8641353 , 8.1500591 , 3.01965297, ..., 7.05536872, 8.2357163 ,\n",
              "       6.58988716])"
            ]
          },
          "execution_count": 9,
          "metadata": {},
          "output_type": "execute_result"
        },
        {
          "data": {
            "text/plain": [
              "array([2.0163067 , 0.98136166, 1.19544396, ..., 1.12875002, 0.17879488,\n",
              "       1.68628795])"
            ]
          },
          "execution_count": 9,
          "metadata": {},
          "output_type": "execute_result"
        },
        {
          "data": {
            "text/plain": [
              "array([0.51817301, 0.29352575, 0.41841867, ..., 0.10411545, 0.19823693,\n",
              "       0.07580387])"
            ]
          },
          "execution_count": 9,
          "metadata": {},
          "output_type": "execute_result"
        },
        {
          "data": {
            "text/plain": [
              "array([0.15125386, 0.33771718, 0.22162832, ..., 0.23830103, 0.24434262,\n",
              "       0.52978567])"
            ]
          },
          "execution_count": 9,
          "metadata": {},
          "output_type": "execute_result"
        },
        {
          "data": {
            "text/plain": [
              "array([0.33923871, 0.20788877, 0.0030641 , ..., 0.34064551, 0.20408361,\n",
              "       0.4471135 ])"
            ]
          },
          "execution_count": 9,
          "metadata": {},
          "output_type": "execute_result"
        },
        {
          "data": {
            "text/plain": [
              "array([0.32866188, 0.612203  , 0.50219394, ..., 0.31558568, 0.5061556 ,\n",
              "       0.90504422])"
            ]
          },
          "execution_count": 9,
          "metadata": {},
          "output_type": "execute_result"
        },
        {
          "data": {
            "text/plain": [
              "array([0.5858725 , 0.36857142, 0.44595359, ..., 0.88308655, 0.17961341,\n",
              "       0.21316162])"
            ]
          },
          "execution_count": 9,
          "metadata": {},
          "output_type": "execute_result"
        },
        {
          "data": {
            "text/plain": [
              "array([0.49956068, 0.92546975, 0.07103022, ..., 0.48876233, 0.21418954,\n",
              "       0.40312097])"
            ]
          },
          "execution_count": 9,
          "metadata": {},
          "output_type": "execute_result"
        }
      ],
      "source": [
        "rho_train\n",
        "epsilon_train\n",
        "vx_train\n",
        "vy_train\n",
        "vz_train \n",
        "Bx_train\n",
        "By_train\n",
        "Bz_train\n",
        "rho_test\n",
        "epsilon_test\n",
        "vx_test \n",
        "vy_test \n",
        "vz_test \n",
        "Bx_test\n",
        "By_test\n",
        "Bz_test"
      ]
    },
    {
      "cell_type": "code",
      "execution_count": 10,
      "metadata": {
        "id": "VMp6XJ6RUZh4"
      },
      "outputs": [],
      "source": [
        "%config InteractiveShell.ast_node_interactivity = \"last_expr_or_assign\""
      ]
    },
    {
      "cell_type": "code",
      "execution_count": 11,
      "metadata": {
        "colab": {
          "base_uri": "https://localhost:8080/",
          "height": 409
        },
        "id": "E5YFdqKjUZh5",
        "outputId": "fe67d113-f369-495f-9aba-201c71058eb7"
      },
      "outputs": [
        {
          "data": {
            "image/png": "[encoded data removed]",
            "text/plain": [
              "<Figure size 1600x1200 with 12 Axes>"
            ]
          },
          "metadata": {},
          "output_type": "display_data"
        }
      ],
      "source": [
        "def plot_histogram(data, xlabel, ylabel, position, bins=20, log_scale=False):\n",
        "    plt.subplot(3, 4, position)\n",
        "    plt.hist(data, bins=bins)\n",
        "    plt.xlabel(xlabel)\n",
        "    plt.ylabel(ylabel)\n",
        "    if log_scale:\n",
        "        plt.yscale(\"log\")\n",
        "\n",
        "# Plotting the histograms of rho, vx, epsilon, b0, b1, b2, and b3\n",
        "plt.figure(figsize=(16, 12))\n",
        "\n",
        "plot_histogram(rho_train, \"rho\", \"Frequency\", 1)\n",
        "plot_histogram(epsilon_train, \"epsilon\", \"Frequency\", 2)\n",
        "plot_histogram(vx_train, \"vx\", \"Frequency\", 3)\n",
        "plot_histogram(vy_train, \"vy\", \"Frequency\", 4)\n",
        "plot_histogram(vz_train, \"vz\", \"Frequency\", 5)\n",
        "plot_histogram(Bx_train, \"Bx\", \"Frequency\", 6)\n",
        "plot_histogram(By_train, \"By\", \"Frequency\", 7)\n",
        "plot_histogram(Bz_train, \"Bz\", \"Frequency\", 8)\n",
        "plot_histogram(b0_train, \"b0\", \"Frequency\", 9)\n",
        "plot_histogram(b1_train, \"b1\", \"Frequency\", 10)\n",
        "plot_histogram(b2_train, \"b2\", \"Frequency\", 11)\n",
        "plot_histogram(b3_train, \"b3\", \"Frequency\", 12)\n",
        "\n",
        "plt.suptitle(\"Primitive variables\")\n",
        "plt.tight_layout()\n",
        "plt.show()"
      ]
    },
    {
      "cell_type": "code",
      "execution_count": 12,
      "metadata": {},
      "outputs": [],
      "source": [
        "%config InteractiveShell.ast_node_interactivity = \"all\""
      ]
    },
    {
      "cell_type": "code",
      "execution_count": 13,
      "metadata": {
        "colab": {
          "base_uri": "https://localhost:8080/"
        },
        "id": "7ubtOXVgUZh6",
        "outputId": "02dfd20b-5550-4df4-a1c9-e45c8fa0d570"
      },
      "outputs": [],
      "source": [
        "# Generating the input and output data for train and test sets.\n",
        "x_train = generate_input_data(rho_train, epsilon_train, vx_train ,vy_train, vz_train, Bx_train, By_train, Bz_train, b0_train, b1_train, b2_train, b3_train)\n",
        "y_train = generate_labels(rho_train, epsilon_train) \n",
        "x_test = generate_input_data(rho_test, epsilon_test, vx_test, vy_test, vz_test, Bx_test, By_test, Bz_test, b0_test, b1_test, b2_test, b3_test)\n",
        "y_test = generate_labels(rho_test, epsilon_test)\n"
      ]
    },
    {
      "cell_type": "code",
      "execution_count": 14,
      "metadata": {},
      "outputs": [
        {
          "data": {
            "text/plain": [
              "tensor([[ 4.4964e+00,  1.0586e+01,  4.6619e-01,  ...,  8.8895e-01,\n",
              "          3.6411e-03,  1.9668e-02],\n",
              "        [ 1.0748e+01,  6.3717e+00,  3.5929e+00,  ...,  3.1571e-01,\n",
              "          6.2124e-01,  1.7906e-01],\n",
              "        [ 9.0132e+00,  8.8825e+00,  1.7472e+01,  ...,  5.1910e-02,\n",
              "          7.6290e-01,  6.5205e-01],\n",
              "        ...,\n",
              "        [ 4.7314e+00, -1.5352e-02,  5.8593e+00,  ...,  8.6900e-01,\n",
              "          3.3640e-01,  7.2971e-02],\n",
              "        [ 1.7447e+00,  3.0696e+00,  2.1921e+00,  ...,  6.2517e-03,\n",
              "          6.9158e-01,  4.3011e-01],\n",
              "        [ 1.0171e+01,  5.1504e+00,  1.8793e-02,  ...,  5.8452e-01,\n",
              "          8.7035e-01,  4.9227e-01]])"
            ]
          },
          "execution_count": 14,
          "metadata": {},
          "output_type": "execute_result"
        },
        {
          "data": {
            "text/plain": [
              "tensor([4.1679, 1.8785, 9.4231,  ..., 1.5351, 1.3973, 5.9028])"
            ]
          },
          "execution_count": 14,
          "metadata": {},
          "output_type": "execute_result"
        },
        {
          "data": {
            "text/plain": [
              "tensor([[ 8.9097, 26.5293,  7.6217,  ...,  0.3287,  0.5859,  0.4996],\n",
              "        [ 9.3699,  8.5616,  9.9232,  ...,  0.6122,  0.3686,  0.9255],\n",
              "        [ 3.4283,  4.6305,  2.5239,  ...,  0.5022,  0.4460,  0.0710],\n",
              "        ...,\n",
              "        [ 7.8088,  2.5968,  6.2023,  ...,  0.3156,  0.8831,  0.4888],\n",
              "        [ 8.8842,  2.3666,  2.6954,  ...,  0.5062,  0.1796,  0.2142],\n",
              "        [ 9.1947,  3.8297, 26.9196,  ...,  0.9050,  0.2132,  0.4031]])"
            ]
          },
          "execution_count": 14,
          "metadata": {},
          "output_type": "execute_result"
        },
        {
          "data": {
            "text/plain": [
              "tensor([9.2268, 5.3321, 2.4066,  ..., 5.3092, 0.9817, 7.4083])"
            ]
          },
          "execution_count": 14,
          "metadata": {},
          "output_type": "execute_result"
        }
      ],
      "source": [
        "x_train\n",
        "y_train\n",
        "x_test\n",
        "y_test"
      ]
    },
    {
      "cell_type": "code",
      "execution_count": 15,
      "metadata": {},
      "outputs": [],
      "source": [
        "%config InteractiveShell.ast_node_interactivity = \"last_expr_or_assign\""
      ]
    },
    {
      "cell_type": "code",
      "execution_count": 16,
      "metadata": {},
      "outputs": [
        {
          "data": {
            "image/png": "[encoded data removed]",
            "text/plain": [
              "<Figure size 1200x1200 with 8 Axes>"
            ]
          },
          "metadata": {},
          "output_type": "display_data"
        }
      ],
      "source": [
        "# List of variable names\n",
        "variable_names = [\"rho\", \"epsilon\", \"vx\", \"vy\", \"vz\", \"Bx\", \"By\", \"Bz\"]\n",
        "\n",
        "# Note how we are only plotting train and not test here. \n",
        "# Plotting histograms of the input variables before z-score normalization\n",
        "plt.figure(figsize=(12, 12))\n",
        "plt.suptitle('Histograms of input variables before (or without at all) z-score normalization', y=1.03)\n",
        "for i in range(8):\n",
        "    plt.subplot(4, 2, i+1)\n",
        "    plt.hist(x_train[:, i].cpu(), bins=50) # Must be converted to cpu() for plotting.\n",
        "    plt.xlabel(variable_names[i])\n",
        "plt.subplots_adjust(hspace=0.4, wspace=0.4)\n",
        "plt.show()"
      ]
    },
    {
      "cell_type": "code",
      "execution_count": 17,
      "metadata": {},
      "outputs": [
        {
          "name": "stdout",
          "output_type": "stream",
          "text": [
            "Summary statistics of input variables before z-score normalization\n",
            "tensor([[ 6.4807e-05,  3.1584e+01,  6.3259e+00,  6.1947e+00,  3.8259e+00],\n",
            "        [-9.7744e-01,  2.4786e+02,  7.1219e+00,  4.0606e+00,  9.1729e+00],\n",
            "        [-9.5141e-01,  2.4376e+02,  7.1006e+00,  4.0529e+00,  9.1403e+00],\n",
            "        [-9.7074e-01,  2.4693e+02,  7.1025e+00,  4.0787e+00,  9.1179e+00],\n",
            "        [-8.8496e-01,  4.0290e+02,  1.3392e+01,  9.4784e+00,  1.3684e+01],\n",
            "        [ 2.1510e-05,  9.9999e-01,  5.0109e-01,  5.0323e-01,  2.8845e-01],\n",
            "        [ 5.1884e-07,  1.0000e+00,  5.0038e-01,  4.9942e-01,  2.8793e-01],\n",
            "        [ 5.2474e-06,  9.9999e-01,  4.9844e-01,  4.9708e-01,  2.8885e-01]])\n"
          ]
        }
      ],
      "source": [
        "# Computing summary statistics of the input variables before and after z-score normalization\n",
        "print('Summary statistics of input variables before z-score normalization')\n",
        "print(torch.stack([torch.min(x_train, dim=0).values, torch.max(x_train, dim=0).values, torch.nanmean(x_train, dim=0), torch.median(x_train, dim=0).values, torch.std(x_train, dim=0)], dim=1))"
      ]
    },
    {
      "cell_type": "markdown",
      "metadata": {
        "id": "xTEmkR1SUZh7"
      },
      "source": [
        "Perform z-score normalization"
      ]
    },
    {
      "cell_type": "code",
      "execution_count": 18,
      "metadata": {},
      "outputs": [],
      "source": [
        "%config InteractiveShell.ast_node_interactivity = \"all\""
      ]
    },
    {
      "cell_type": "code",
      "execution_count": 19,
      "metadata": {
        "id": "yPOv6DxhUZh7"
      },
      "outputs": [],
      "source": [
        "if ZSCORE_NORMALIZATION:\n",
        "    \n",
        "    # TODO: Add magnetic field variables to the normalization if I decide to use the old code that is commented out here.\n",
        "    # # Computing the median of each input variable from the training set using torch.nanmedian function\n",
        "    # D_median = torch.nanmedian(x_train[:, 0])\n",
        "    # Sx_median = torch.nanmedian(x_train[:, 1])\n",
        "    # Sy_median = torch.nanmedian(x_train[:, 2])\n",
        "    # Sz_median = torch.nanmedian(x_train[:, 3])\n",
        "    # tau_median = torch.nanmedian(x_train[:, 4])\n",
        "\n",
        "    # # Computing the standard deviation of each input variable from the training set using torch.std function with a boolean mask to ignore nan values\n",
        "    # D_std = torch.std(x_train[~torch.isnan(x_train[:, 0]), 0])\n",
        "    # Sx_std = torch.std(x_train[~torch.isnan(x_train[:, 1]), 1])\n",
        "    # Sy_std = torch.std(x_train[~torch.isnan(x_train[:, 2]), 2])\n",
        "    # Sz_std = torch.std(x_train[~torch.isnan(x_train[:, 3]), 3])\n",
        "    # tau_std = torch.std(x_train[~torch.isnan(x_train[:, 4]), 4])\n",
        "\n",
        "\n",
        "    # # Applying z-score normalization to both train and test sets using the statistics from the training set\n",
        "    # x_train[:, 0] = torch.sub(x_train[:, 0], D_median).div(D_std)\n",
        "    # x_train[:, 1] = torch.sub(x_train[:, 1], Sx_median).div(Sx_std)\n",
        "    # x_train[:, 2] = torch.sub(x_train[:, 2], Sy_median).div(Sy_std)\n",
        "    # x_train[:, 3] = torch.sub(x_train[:, 3], Sz_median).div(Sz_std)\n",
        "    # x_train[:, 4] = torch.sub(x_train[:, 4], tau_median).div(tau_std)\n",
        "\n",
        "    # x_test[:, 0] = torch.sub(x_test[:, 0], D_median).div(D_std)\n",
        "    # x_test[:, 1] = torch.sub(x_test[:, 1], Sx_median).div(Sx_std)\n",
        "    # x_test[:, 2] = torch.sub(x_test[:, 2], Sy_median).div(Sy_std)\n",
        "    # x_test[:, 3] = torch.sub(x_test[:, 3], Sz_median).div(Sz_std)\n",
        "    # x_test[:, 4] = torch.sub(x_test[:, 4], tau_median).div(tau_std)\n",
        "\n",
        "    # Computing the mean and standard deviation of each column\n",
        "    mean = x_train.mean(dim=0)\n",
        "    std = x_train.std(dim=0)\n",
        "\n",
        "    # Applying z-score normalization\n",
        "    x_train = (x_train - mean) / std\n",
        "    # Use the same mean and std from the training data as we don't want test data leakage.\n",
        "    x_test = (x_test - mean) / std\n",
        "\n"
      ]
    },
    {
      "attachments": {},
      "cell_type": "markdown",
      "metadata": {},
      "source": [
        "Plotting the histograms of the input data after normalization if z-score normalization was performed."
      ]
    },
    {
      "cell_type": "code",
      "execution_count": 20,
      "metadata": {},
      "outputs": [],
      "source": [
        "%config InteractiveShell.ast_node_interactivity = \"last_expr_or_assign\""
      ]
    },
    {
      "cell_type": "code",
      "execution_count": 21,
      "metadata": {},
      "outputs": [],
      "source": [
        "if ZSCORE_NORMALIZATION: \n",
        "    # List of variable names\n",
        "    variable_names = [\"rho\", \"epsilon\", \"vx\", \"vy\", \"vz\", \"Bx\", \"By\", \"Bz\"]\n",
        "\n",
        "    # Note how we are only plotting train and not test here. \n",
        "    # Plotting histograms of the input variables after z-score normalization\n",
        "    plt.figure(figsize=(12, 12))\n",
        "    plt.suptitle('Histograms of input variables after z-score normalization', y=1.03)\n",
        "    for i in range(8):\n",
        "        plt.subplot(4, 2, i+1)\n",
        "        plt.hist(x_train[:, i].cpu(), bins=50) # Must be converted to cpu() for plotting.\n",
        "        plt.xlabel(variable_names[i])\n",
        "    plt.subplots_adjust(hspace=0.4, wspace=0.4)\n",
        "    plt.show()"
      ]
    },
    {
      "cell_type": "code",
      "execution_count": 22,
      "metadata": {},
      "outputs": [],
      "source": [
        "if ZSCORE_NORMALIZATION:\n",
        "    # Computing summary statistics of the input variables after z-score normalization\n",
        "    print('Summary statistics of input variables after z-score normalization')\n",
        "    print(torch.stack([torch.min(x_train, dim=0).values, torch.max(x_train, dim=0).values, torch.mean(x_train, dim=0), torch.median(x_train, dim=0).values, torch.std(x_train, dim=0)], dim=1))\n"
      ]
    },
    {
      "cell_type": "markdown",
      "metadata": {
        "colab": {
          "base_uri": "https://localhost:8080/",
          "height": 407
        },
        "id": "E96p_MsOUZh9",
        "outputId": "4b95bad0-8f3a-4364-eed1-008e0ce2a5e3"
      },
      "source": [
        "Checking if our output is always positive by plotting a histogram of y_train and y_test tensors "
      ]
    },
    {
      "cell_type": "code",
      "execution_count": 23,
      "metadata": {},
      "outputs": [
        {
          "data": {
            "image/png": "[encoded data removed]",
            "text/plain": [
              "<Figure size 800x400 with 2 Axes>"
            ]
          },
          "metadata": {},
          "output_type": "display_data"
        }
      ],
      "source": [
        "# Note how we are only plotting train.\n",
        "plt.figure(figsize=(8, 4))\n",
        "plt.subplot(1, 2, 1)\n",
        "plt.hist(y_train.cpu().numpy(), bins=20) # must be cpu here.\n",
        "plt.xlabel(\"y_train\")\n",
        "plt.ylabel(\"Frequency\")\n",
        "plt.yscale(\"log\")\n",
        "plt.subplot(1, 2, 2)\n",
        "plt.hist(y_test.cpu().numpy(), bins=20) # must be cpu here\n",
        "plt.xlabel(\"y_test\")\n",
        "plt.ylabel(\"Frequency\")\n",
        "plt.yscale(\"log\")\n",
        "plt.tight_layout()\n",
        "plt.show()\n"
      ]
    },
    {
      "cell_type": "code",
      "execution_count": 24,
      "metadata": {
        "id": "FEgjk--AUZh9"
      },
      "outputs": [],
      "source": [
        "%config InteractiveShell.ast_node_interactivity = \"all\""
      ]
    },
    {
      "cell_type": "markdown",
      "metadata": {
        "id": "r2b9GecHUZh9"
      },
      "source": [
        "## Defining the neural network"
      ]
    },
    {
      "cell_type": "code",
      "execution_count": 25,
      "metadata": {
        "id": "Iv8HA-ZXUZh-"
      },
      "outputs": [],
      "source": [
        "# Defining a class for the network\n",
        "class Net(nn.Module):\n",
        "    \"\"\"A class for creating a network with a\n",
        "    variable number of hidden layers and units.\n",
        "\n",
        "    Attributes:\n",
        "        n_layers (int): The number of hidden layers in the network.\n",
        "        n_units (list): A list of integers representing the number of units in each hidden layer.\n",
        "        hidden_activation (torch.nn.Module): The activation function for the hidden layers.\n",
        "        output_activation (torch.nn.Module): The activation function for the output layer.\n",
        "        layers (torch.nn.ModuleList): A list of linear layers in the network.\n",
        "    \"\"\"\n",
        "\n",
        "    def __init__(self, n_layers, n_units, hidden_activation, output_activation):\n",
        "        \"\"\"Initializes the network with the given hyperparameters.\n",
        "\n",
        "        Args:\n",
        "            n_layers (int): The number of hidden layers in the network.\n",
        "            n_units (list): A list of integers representing the number of units in each hidden layer.\n",
        "            hidden_activation (torch.nn.Module): The activation function for the hidden layers.\n",
        "            output_activation (torch.nn.Module): The activation function for the output layer.\n",
        "        \"\"\"\n",
        "        super().__init__()\n",
        "        self.n_layers = n_layers\n",
        "        self.n_units = n_units\n",
        "        self.hidden_activation = hidden_activation\n",
        "        self.output_activation = output_activation\n",
        "\n",
        "        # Creating a list of linear layers with different numbers of units for each layer\n",
        "        self.layers = nn.ModuleList([nn.Linear(8, n_units[0])])\n",
        "        for i in range(1, n_layers):\n",
        "            self.layers.append(nn.Linear(n_units[i - 1], n_units[i]))\n",
        "        self.layers.append(nn.Linear(n_units[-1], 1))\n",
        "\n",
        "        # Adding some assertions to check that the input arguments are valid\n",
        "        assert isinstance(n_layers, int) and n_layers > 0, \"n_layers must be a positive integer\"\n",
        "        assert isinstance(n_units, list) and len(n_units) == n_layers, \"n_units must be a list of length n_layers\"\n",
        "        assert all(isinstance(n, int) and n > 0 for n in n_units), \"n_units must contain positive integers\"\n",
        "        assert isinstance(hidden_activation, nn.Module), \"hidden_activation must be a torch.nn.Module\"\n",
        "        assert isinstance(output_activation, nn.Module), \"output_activation must be a torch.nn.Module\"\n",
        "\n",
        "    def forward(self, x):\n",
        "        \"\"\"Performs a forward pass on the input tensor.\n",
        "\n",
        "        Args:\n",
        "            x (torch.Tensor): The input tensor of shape (batch_size, 8).\n",
        "\n",
        "        Returns:\n",
        "            torch.Tensor: The output tensor of shape (batch_size, 1).\n",
        "        \"\"\"\n",
        "        # Adding an assertion to check that the input tensor has the expected shape and type\n",
        "        assert isinstance(x, torch.Tensor), \"x must be a torch.Tensor\"\n",
        "        assert x.shape[1] == 8, \"x must have shape (batch_size, 8)\"\n",
        "\n",
        "        # Looping over the hidden layers and applying the linear transformation and the activation function\n",
        "        for layer in self.layers[:-1]:\n",
        "            x = self.hidden_activation(layer(x))\n",
        "        # Applying the linear transformation and the activation function on the output layer\n",
        "        x = self.output_activation(self.layers[-1](x))\n",
        "\n",
        "        # Returning the output tensor\n",
        "        return x\n"
      ]
    },
    {
      "cell_type": "markdown",
      "metadata": {
        "id": "6GNvp55PUZh_"
      },
      "source": [
        "## Defining the model and search space"
      ]
    },
    {
      "cell_type": "code",
      "execution_count": 26,
      "metadata": {
        "id": "9a1opluOUZh_"
      },
      "outputs": [],
      "source": [
        "# Defining a function to create a trial network and optimizer\n",
        "def create_model(trial, optimize):\n",
        "    \"\"\"Creates a trial network and optimizer based on the sampled hyperparameters.\n",
        "\n",
        "    Args:\n",
        "        trial (optuna.trial.Trial): The trial object that contains the hyperparameters.\n",
        "        optimize (boolean): Whether to optimize the hyperparameters or to use predefined values.\n",
        "\n",
        "    Returns:\n",
        "        tuple: A tuple of (net, loss_fn, optimizer, batch_size, n_epochs,\n",
        "            scheduler, loss_name, optimizer_name, scheduler_name,\n",
        "            n_units, n_layers, hidden_activation, output_activation),\n",
        "            where net is the trial network,\n",
        "            loss_fn is the loss function,\n",
        "            optimizer is the optimizer,\n",
        "            batch_size is the batch size,\n",
        "            n_epochs is the number of epochs,\n",
        "            scheduler is the learning rate scheduler,\n",
        "            loss_name is the name of the loss function,\n",
        "            optimizer_name is the name of the optimizer,\n",
        "            scheduler_name is the name of the scheduler,\n",
        "            n_units is a list of integers representing\n",
        "            the number of units in each hidden layer,\n",
        "            n_layers is an integer representing the number of hidden layers in the network,\n",
        "            hidden_activation is a torch.nn.Module representing the activation function for the hidden layers,\n",
        "            output_activation is a torch.nn.Module representing the activation function for the output layer,\n",
        "            lr is the (initial) learning rate.\n",
        "    \"\"\"\n",
        "    # If optimize is True, sample the hyperparameters from the search space\n",
        "    if optimize:\n",
        "        # Sampling the hyperparameters from the search space\n",
        "        n_layers = trial.suggest_int(\"n_layers\", 2, 6)\n",
        "        n_units = [trial.suggest_int(f\"n_units_{i}\", 16, 2048) for i in range(n_layers)] \n",
        "        hidden_activation_name = trial.suggest_categorical(\n",
        "            #\"hidden_activation\", [\"ReLU\", \"LeakyReLU\", \"ELU\", \"Tanh\", \"Sigmoid\"]\n",
        "            #\"hidden_activation\", [\"ReLU\", \"LeakyReLU\"]\n",
        "            \"hidden_activation\", [\"ReLU\", \"LeakyReLU\", \"ELU\"]\n",
        "        )\n",
        "        output_activation_name = trial.suggest_categorical(\n",
        "            #\"output_activation\", [\"Linear\", \"ReLU\", \"Softplus\"]\n",
        "            # Assuming pressure cannot be negative, linear output activation is not an option.\n",
        "            #\"output_activation\", [\"ReLU\", \"Softplus\", \"Linear\"]\n",
        "            \"output_activation\", [\"ReLU\", \"Linear\"]\n",
        "        ) \n",
        "        loss_name = trial.suggest_categorical(\n",
        "            #\"loss\", [\"MSE\", \"MAE\", \"Huber\", \"LogCosh\"] \n",
        "            \"loss\", [\"MSE\", \"MAE\", \"Huber\"] \n",
        "        )\n",
        "        optimizer_name = trial.suggest_categorical(\n",
        "            \"optimizer\", [\"Adam\", \"SGD\", \"RMSprop\", \"Adagrad\"] \n",
        "        )\n",
        "        lr = trial.suggest_loguniform(\"lr\", 1e-4, 1e-2) \n",
        "\n",
        "        batch_size_list = [32, 48, 64, 96, 128, 256, 512, 1048]\n",
        "        batch_size = trial.suggest_categorical(\"batch_size\", batch_size_list)\n",
        "        #batch_size = trial.suggest_int(\"batch_size\", 64, 1048)\n",
        "        n_epochs = trial.suggest_int(\"n_epochs\", 100, 300) \n",
        "        scheduler_name = trial.suggest_categorical(\n",
        "            \"scheduler\",\n",
        "            # [\"None\", \"CosineAnnealingLR\", \"ReduceLROnPlateau\", \"StepLR\", \"ExponentialLR\"],\n",
        "            [\"CosineAnnealingLR\", \"ReduceLROnPlateau\", \"StepLR\"],\n",
        "        )\n",
        "\n",
        "    # If optimize is False, use the predefined values\n",
        "    else:\n",
        "        # Setting the hyperparameters to the predefined values\n",
        "        n_layers = N_LAYERS_NO_OPT\n",
        "        n_units = N_UNITS_NO_OPT\n",
        "        hidden_activation_name = HIDDEN_ACTIVATION_NAME_NO_OPT\n",
        "        output_activation_name = OUTPUT_ACTIVATION_NAME_NO_OPT\n",
        "        loss_name = LOSS_NAME_NO_OPT\n",
        "        optimizer_name = OPTIMIZER_NAME_NO_OPT\n",
        "        lr = LR_NO_OPT\n",
        "        batch_size = BATCH_SIZE_NO_OPT\n",
        "        n_epochs = N_EPOCHS_NO_OPT\n",
        "        scheduler_name = SCHEDULER_NAME_NO_OPT\n",
        "\n",
        "\n",
        "    # Creating the activation functions from their names\n",
        "    if hidden_activation_name == \"ReLU\":\n",
        "        hidden_activation = nn.ReLU()\n",
        "    elif hidden_activation_name == \"LeakyReLU\":\n",
        "        hidden_activation = nn.LeakyReLU() \n",
        "    elif hidden_activation_name == \"ELU\":\n",
        "        hidden_activation = nn.ELU() \n",
        "    elif hidden_activation_name == \"Tanh\":\n",
        "        hidden_activation = nn.Tanh()\n",
        "    else:\n",
        "        hidden_activation = nn.Sigmoid()\n",
        "\n",
        "    if output_activation_name == \"ReLU\":\n",
        "        output_activation = nn.ReLU()\n",
        "    elif output_activation_name == \"Softplus\":\n",
        "        output_activation = nn.Softplus()\n",
        "    else:\n",
        "        output_activation = nn.Identity()\n",
        "\n",
        "    # Creating the loss function from its name\n",
        "    if loss_name == \"MSE\":\n",
        "        loss_fn = nn.MSELoss()\n",
        "    elif loss_name == \"MAE\":\n",
        "        loss_fn = nn.L1Loss()\n",
        "    elif loss_name == \"Huber\":\n",
        "        loss_fn = nn.SmoothL1Loss() \n",
        "    else:\n",
        "        # Creating the log-cosh loss function\n",
        "        def log_cosh_loss(y_pred, y_true):\n",
        "            return torch.mean(torch.log(torch.cosh(y_pred - y_true)))\n",
        "            \n",
        "        loss_fn = log_cosh_loss\n",
        "\n",
        "    # Creating the network with the sampled hyperparameters\n",
        "    net = Net(\n",
        "        n_layers, n_units, hidden_activation, output_activation\n",
        "    ).to(device)\n",
        "\n",
        "    if optimize:\n",
        "        # Creating the optimizer from its name\n",
        "        if optimizer_name == \"SGD\":\n",
        "            # Added sampling the weight decay and momentum for SGD\n",
        "            weight_decay = trial.suggest_loguniform(\"weight_decay\", 1e-5, 1e-2)\n",
        "            momentum = trial.suggest_uniform(\"momentum\", 0.0, 0.99)\n",
        "            optimizer = optim.SGD(net.parameters(), lr=lr, weight_decay=weight_decay, momentum=momentum)\n",
        "        elif optimizer_name == \"Adam\":\n",
        "            # Added sampling the weight decay and beta parameters for Adam\n",
        "            weight_decay = trial.suggest_loguniform(\"weight_decay\", 1e-5, 1e-2)\n",
        "            beta1 = trial.suggest_uniform(\"beta1\", 0.9, 0.999)\n",
        "            beta2 = trial.suggest_uniform(\"beta2\", 0.999, 0.9999)\n",
        "            optimizer = optim.Adam(net.parameters(), lr=lr, weight_decay=weight_decay, betas=(beta1, beta2))\n",
        "        elif optimizer_name == \"RMSprop\":\n",
        "            optimizer = optim.RMSprop(net.parameters(), lr=lr)\n",
        "        else:\n",
        "            # Added creating the Adagrad optimizer\n",
        "            optimizer = optim.Adagrad(net.parameters(), lr=lr)\n",
        "\n",
        "        # Creating the learning rate scheduler from its name\n",
        "        if scheduler_name == \"StepLR\":\n",
        "            step_size = trial.suggest_int(\"step_size\", 5, 15)\n",
        "            gamma = trial.suggest_uniform(\"gamma\", 0.1, 0.5)\n",
        "            scheduler = optim.lr_scheduler.StepLR(optimizer, step_size=step_size, gamma=gamma)\n",
        "        elif scheduler_name == \"ExponentialLR\":\n",
        "            gamma = trial.suggest_uniform(\"gamma\", 0.8, 0.99)\n",
        "            scheduler = optim.lr_scheduler.ExponentialLR(optimizer, gamma=gamma)\n",
        "        elif scheduler_name == \"CosineAnnealingLR\":\n",
        "            if n_epochs < 150:\n",
        "                t_max_fraction = trial.suggest_uniform('t_max_fraction', 0.1, 0.3)\n",
        "            elif n_epochs > 250:\n",
        "                t_max_fraction = trial.suggest_uniform('t_max_fraction', 0.05, 0.1)\n",
        "            else:\n",
        "                t_max_fraction = trial.suggest_uniform('t_max_fraction', 0.1, 0.2)\n",
        "\n",
        "            T_max = int(n_epochs * t_max_fraction)\n",
        "            eta_min = trial.suggest_loguniform(\"eta_min\", 1e-7, 1e-2)\n",
        "            scheduler = optim.lr_scheduler.CosineAnnealingLR(optimizer, T_max=T_max, eta_min=eta_min)\n",
        "        elif scheduler_name == \"ReduceLROnPlateau\":\n",
        "            # Added sampling the factor, patience and threshold for ReduceLROnPlateau\n",
        "            factor = trial.suggest_uniform(\"factor\", 0.1, 0.5)\n",
        "            patience = trial.suggest_int(\"patience\", 5, 10)\n",
        "            threshold = trial.suggest_loguniform(\"threshold\", 1e-4, 1e-2)\n",
        "            scheduler = optim.lr_scheduler.ReduceLROnPlateau(\n",
        "                optimizer, mode=\"min\", factor=factor, patience=patience, threshold=threshold\n",
        "            )\n",
        "        # # Added using OneCycleLR scheduler as an option\n",
        "        # elif scheduler_name == \"OneCycleLR\":\n",
        "        #         # Added sampling the max_lr and pct_start for OneCycleLR\n",
        "        #         max_lr = trial.suggest_loguniform(\"max_lr\", lr, 10 * lr) \n",
        "        #         pct_start = trial.suggest_uniform(\"pct_start\", 0.1, 0.9)\n",
        "        #         scheduler = optim.lr_scheduler.OneCycleLR(\n",
        "        #             optimizer,\n",
        "        #             max_lr=max_lr,\n",
        "        #             epochs=n_epochs,\n",
        "        #             steps_per_epoch=len(train_loader),\n",
        "        #             pct_start=pct_start,\n",
        "        #         )\n",
        "        else:\n",
        "            scheduler = None\n",
        "    else:\n",
        "        # Creating the optimizer from its name\n",
        "        if optimizer_name == \"SGD\":\n",
        "            optimizer = optim.SGD(net.parameters(), lr=lr)\n",
        "        elif optimizer_name == \"Adam\":\n",
        "            optimizer = optim.Adam(net.parameters(), lr=lr)\n",
        "        elif optimizer_name == \"RMSprop\":\n",
        "            optimizer = optim.RMSprop(net.parameters(), lr=lr)\n",
        "        else:\n",
        "            optimizer = optim.Adagrad(net.parameters(), lr=lr)\n",
        "\n",
        "        # Creating the learning rate scheduler from its name\n",
        "        if scheduler_name == \"StepLR\":\n",
        "            scheduler = optim.lr_scheduler.StepLR(optimizer, step_size=10, gamma=0.1)\n",
        "        elif scheduler_name == \"ExponentialLR\":\n",
        "            scheduler = optim.lr_scheduler.ExponentialLR(optimizer, gamma=0.9)\n",
        "        elif scheduler_name == \"CosineAnnealingLR\":\n",
        "            scheduler = optim.lr_scheduler.CosineAnnealingLR(optimizer)\n",
        "        elif scheduler_name == \"ReduceLROnPlateau\":\n",
        "            # Creating the ReduceLROnPlateau scheduler with a threshold value of 0.01\n",
        "            #scheduler = optim.lr_scheduler.ReduceLROnPlateau(\n",
        "            #    optimizer, mode=\"min\", factor=0.1, patience=10, threshold=0.01\n",
        "            #)\n",
        "            # Use Dieseldorst et al. settings and add to that a minimum lr.\n",
        "            scheduler = optim.lr_scheduler.ReduceLROnPlateau(\n",
        "                        optimizer, mode=\"min\", factor=0.18979341786654758, patience=11, threshold=0.0017197466122611932 #, min_lr=1e-6\n",
        "                    )\n",
        "        else:\n",
        "            scheduler = None\n",
        "\n",
        "    # Returning all variables needed for saving and loading\n",
        "    return net, loss_fn, optimizer, batch_size, n_epochs, scheduler, loss_name, optimizer_name, scheduler_name, n_units, n_layers, hidden_activation, output_activation, lr\n",
        "\n"
      ]
    },
    {
      "cell_type": "markdown",
      "metadata": {
        "id": "l-czA7VvUZiD"
      },
      "source": [
        " ## The training and evaluation loop\n",
        "\n",
        " We first define a couple of functions used in the training and evaluation."
      ]
    },
    {
      "cell_type": "code",
      "execution_count": 27,
      "metadata": {
        "id": "aD6FQNmxUZiD"
      },
      "outputs": [],
      "source": [
        "# Defining a function that computes loss and metrics for a given batch\n",
        "def compute_loss_and_metrics(y_pred, y_true, loss_fn):\n",
        "    \"\"\"Computes loss and metrics for a given batch.\n",
        "\n",
        "    Args:\n",
        "        y_pred (torch.Tensor): The predicted pressure tensor of shape (batch_size, 1).\n",
        "        y_true (torch.Tensor): The true pressure tensor of shape (batch_size,).\n",
        "        loss_fn (torch.nn.Module or function): The loss function to use.\n",
        "\n",
        "    Returns:\n",
        "        tuple: A tuple of (loss, l1_norm), where loss is a scalar tensor,\n",
        "            l1_norm is L1 norm for relative error of pressure,\n",
        "            each being a scalar tensor.\n",
        "            linf_norm is Linf norm for relative error of pressure.\n",
        "    \"\"\"\n",
        "    # Reshaping the target tensor to match the input tensor\n",
        "    y_true = y_true.view(-1, 1)\n",
        "\n",
        "    # Computing the loss using the loss function\n",
        "    loss = loss_fn(y_pred, y_true)\n",
        "\n",
        "    # Computing the relative error of pressure\n",
        "    rel_error = torch.abs((y_pred - y_true) / y_true)\n",
        "\n",
        "    # Computing the L1 norm for the relative error of pressure\n",
        "    l1_norm = torch.mean(rel_error) \n",
        "    # Computing the Linf norm for the relative error of pressure\n",
        "    linf_norm = torch.max(rel_error) \n",
        "\n",
        "    # Returning the loss and metrics\n",
        "    return loss, l1_norm, linf_norm\n",
        "\n",
        "\n",
        "# Defining a function that updates the learning rate scheduler with validation loss if applicable\n",
        "def update_scheduler(scheduler, test_loss):\n",
        "    \"\"\"Updates the learning rate scheduler with validation loss if applicable.\n",
        "\n",
        "    Args:\n",
        "        scheduler (torch.optim.lr_scheduler._LRScheduler or None): The learning rate scheduler to use.\n",
        "        test_loss (float): The validation loss to use.\n",
        "\n",
        "    Returns:\n",
        "        None\n",
        "    \"\"\"\n",
        "    # Checking if scheduler is not None\n",
        "    if scheduler is not None:\n",
        "        # Checking if scheduler is ReduceLROnPlateau\n",
        "        if isinstance(scheduler, optim.lr_scheduler.ReduceLROnPlateau):\n",
        "            # Updating the scheduler with test_loss\n",
        "            scheduler.step(test_loss)\n",
        "        else:\n",
        "            # Updating the scheduler without test_loss\n",
        "            scheduler.step()\n"
      ]
    },
    {
      "cell_type": "markdown",
      "metadata": {
        "id": "w1nE662UUZiE"
      },
      "source": [
        "Now for the actual training and evaluation loop,"
      ]
    },
    {
      "cell_type": "code",
      "execution_count": 28,
      "metadata": {
        "id": "YAOjgKW3UZiF"
      },
      "outputs": [],
      "source": [
        "# Defining a function to train and evaluate a network\n",
        "def train_and_eval(net, loss_fn, optimizer, batch_size, n_epochs, scheduler, trial=None):\n",
        "    \"\"\"Trains and evaluates a network.\n",
        "\n",
        "    Args:\n",
        "        net (torch.nn.Module): The network to train and evaluate.\n",
        "        loss_fn (torch.nn.Module or function): The loss function.\n",
        "        optimizer (torch.optim.Optimizer): The optimizer.\n",
        "        batch_size (int): The batch size.\n",
        "        n_epochs (int): The number of epochs.\n",
        "        scheduler (torch.optim.lr_scheduler._LRScheduler or None): The learning rate scheduler.\n",
        "    Returns:\n",
        "        tuple: A tuple of (train_losses, test_losses, train_metrics, test_metrics), where\n",
        "            train_losses is a list of training losses for each epoch,\n",
        "            test_losses is a list of validation losses for each epoch,\n",
        "            train_metrics is a list of dictionaries containing training metrics for each epoch,\n",
        "            test_metrics is a list of dictionaries containing validation metrics for each epoch.\n",
        "    \"\"\"\n",
        "    # Creating data loaders for train and test sets\n",
        "    train_loader = torch.utils.data.DataLoader(\n",
        "        torch.utils.data.TensorDataset(x_train, y_train), batch_size=batch_size, shuffle=True\n",
        "    )\n",
        "    test_loader = torch.utils.data.DataLoader(\n",
        "        torch.utils.data.TensorDataset(x_test, y_test), batch_size=batch_size\n",
        "    )\n",
        "\n",
        "    # Initializing lists to store the losses and metrics for each epoch\n",
        "    train_losses = []\n",
        "    test_losses = []\n",
        "    train_metrics = []\n",
        "    test_metrics = []\n",
        "\n",
        "    # Creating a SummaryWriter object to log data for tensorboard\n",
        "    writer = tbx.SummaryWriter()\n",
        "\n",
        "    # Looping over the epochs\n",
        "    for epoch in range(n_epochs):\n",
        "\n",
        "        # Setting the network to training mode\n",
        "        net.train()\n",
        "\n",
        "        # Initializing variables to store the total loss and metrics for the train set\n",
        "        train_loss = 0.0\n",
        "        train_l1_norm = 0.0\n",
        "        train_linf_norm = 0.0\n",
        "\n",
        "        # Looping over the batches in the train set\n",
        "        for x_batch, y_batch in train_loader:\n",
        "\n",
        "            # Moving the batch tensors to the device\n",
        "            x_batch = x_batch.to(device)\n",
        "            y_batch = y_batch.to(device)\n",
        "\n",
        "            # Zeroing the gradients\n",
        "            optimizer.zero_grad()\n",
        "\n",
        "            # Performing a forward pass and computing the loss and metrics\n",
        "            y_pred = net(x_batch)\n",
        "            loss, l1_norm, linf_norm = compute_loss_and_metrics(\n",
        "                y_pred, y_batch, loss_fn\n",
        "            )\n",
        "\n",
        "\n",
        "            # Performing a backward pass and updating the weights\n",
        "            loss.backward()\n",
        "            optimizer.step()\n",
        "\n",
        "            # Updating the total loss and metrics for the train set\n",
        "            train_loss += loss.item() * x_batch.size(0)\n",
        "            train_l1_norm += l1_norm.item() * x_batch.size(0)\n",
        "            train_linf_norm += linf_norm.item() * x_batch.size(0)\n",
        "\n",
        "        # Computing the average loss and metrics for the train set\n",
        "        train_loss /= len(train_loader.dataset)\n",
        "        train_l1_norm /= len(train_loader.dataset)\n",
        "        train_linf_norm /= len(train_loader.dataset)\n",
        "\n",
        "        # Appending the average loss and metrics for the train set to the lists\n",
        "        train_losses.append(train_loss)\n",
        "        train_metrics.append(\n",
        "            {\n",
        "                \"l1_norm\": train_l1_norm,\n",
        "                \"linf_norm\": train_linf_norm,\n",
        "            }\n",
        "        )\n",
        "\n",
        "        # Logging the average loss and metrics for the train set to tensorboard\n",
        "        writer.add_scalar(\"Loss/train\", train_loss, epoch)\n",
        "        writer.add_scalar(\"L1 norm/train\", train_l1_norm, epoch)\n",
        "        writer.add_scalar(\"Linf norm/train\", train_linf_norm, epoch)\n",
        "\n",
        "        # Setting the network to evaluation mode\n",
        "        net.eval()\n",
        "\n",
        "        # Initializing variables to store the total loss and metrics for the test set\n",
        "        test_loss = 0.0\n",
        "        test_l1_norm = 0.0\n",
        "        test_linf_norm = 0.0\n",
        "\n",
        "        # Looping over the batches in the test set\n",
        "        with torch.no_grad():\n",
        "            for x_batch, y_batch in test_loader:\n",
        "\n",
        "                # Moving the batch tensors to the device\n",
        "                x_batch = x_batch.to(device)\n",
        "                y_batch = y_batch.to(device)\n",
        "\n",
        "                # Performing a forward pass and computing the loss and metrics\n",
        "                y_pred = net(x_batch)\n",
        "                loss, l1_norm, linf_norm = compute_loss_and_metrics(\n",
        "                    y_pred, y_batch, loss_fn\n",
        "                )\n",
        "\n",
        "\n",
        "                # Updating the total loss and metrics for the test set\n",
        "                test_loss += loss.item() * x_batch.size(0)\n",
        "                test_l1_norm += l1_norm.item() * x_batch.size(0)\n",
        "                test_linf_norm += linf_norm.item() * x_batch.size(0)\n",
        "\n",
        "        # Computing the average loss and metrics for the test set\n",
        "        test_loss /= len(test_loader.dataset)\n",
        "        test_l1_norm /= len(test_loader.dataset)\n",
        "        test_linf_norm /= len(test_loader.dataset)\n",
        "\n",
        "        # Appending the average loss and metrics for the test set to the lists\n",
        "        test_losses.append(test_loss)\n",
        "        test_metrics.append(\n",
        "            {\n",
        "                \"l1_norm\": test_l1_norm,\n",
        "                \"linf_norm\": test_linf_norm,\n",
        "            }\n",
        "        )\n",
        "\n",
        "        # Logging the average loss and metrics for the test set to tensorboard\n",
        "        writer.add_scalar(\"Loss/test\", test_loss, epoch)\n",
        "        writer.add_scalar(\"L1 norm/test\", test_l1_norm, epoch)\n",
        "        writer.add_scalar(\"Linf norm/test\", test_linf_norm, epoch)\n",
        "\n",
        "        # Printing the average loss and metrics for both sets for this epoch\n",
        "        print(\n",
        "            f\"Epoch {epoch + 1}: Train Loss: {train_loss:.4f}, Test Loss: {test_loss:.4f}, \"\n",
        "            f\"Train L1 Norm: {train_l1_norm:.4f}, Test L1 Norm: {test_l1_norm:.4f}, \"\n",
        "            f\"Train Linf Norm: {train_linf_norm:.4f}, Test Linf Norm: {test_linf_norm:.4f}\"\n",
        "        )\n",
        "\n",
        "        # Updating the learning rate scheduler with validation loss if applicable\n",
        "        update_scheduler(scheduler, test_loss)\n",
        "\n",
        "        # Reporting the intermediate metric value to Optuna if trial is not None\n",
        "        if trial is not None:\n",
        "            trial.report(test_metrics[-1][\"l1_norm\"], epoch)\n",
        "\n",
        "            # Checking if the trial should be pruned based on the intermediate value if trial is not None\n",
        "            if trial.should_prune():\n",
        "                raise optuna.TrialPruned()\n",
        "\n",
        "    # Closing the SummaryWriter object\n",
        "    writer.close()\n",
        "\n",
        "    # Returning the losses and metrics lists\n",
        "    return train_losses, test_losses, train_metrics, test_metrics"
      ]
    },
    {
      "cell_type": "markdown",
      "metadata": {
        "id": "xg9jz0SvUZiQ"
      },
      "source": [
        "## The objective function and hyperparameter tuning"
      ]
    },
    {
      "cell_type": "code",
      "execution_count": 29,
      "metadata": {
        "id": "fmRncQPuUZiR"
      },
      "outputs": [],
      "source": [
        "# Defining an objective function for Optuna to minimize\n",
        "def objective(trial):\n",
        "    \"\"\"Defines an objective function for Optuna to minimize.\n",
        "\n",
        "    Args:\n",
        "        trial (optuna.trial.Trial): The trial object that contains the hyperparameters.\n",
        "\n",
        "    Returns:\n",
        "        float: The validation L1 norm to minimize.\n",
        "    \"\"\"\n",
        "    # Creating a trial network and optimizer using the create_model function\n",
        "    net, \\\n",
        "    loss_fn, \\\n",
        "    optimizer, \\\n",
        "    batch_size, \\\n",
        "    n_epochs, \\\n",
        "    scheduler, \\\n",
        "    loss_name, \\\n",
        "    optimizer_name, \\\n",
        "    scheduler_name, \\\n",
        "    n_units, \\\n",
        "    n_layers, \\\n",
        "    hidden_activation, \\\n",
        "    output_activation, \\\n",
        "    lr = create_model(trial, optimize=True)\n",
        "\n",
        "    # Training and evaluating the network using the train_and_eval function\n",
        "    _, _, _, test_metrics = train_and_eval(\n",
        "        net, loss_fn, optimizer, batch_size, n_epochs, scheduler, trial\n",
        "    )\n",
        "\n",
        "    # Returning the last validation L1 norm as the objective value to minimize\n",
        "    return test_metrics[-1][\"l1_norm\"]"
      ]
    },
    {
      "cell_type": "code",
      "execution_count": 30,
      "metadata": {
        "id": "GyES4NAyUZiS"
      },
      "outputs": [],
      "source": [
        "if OPTIMIZE:\n",
        "    # Creating a study object with Optuna with TPE sampler and median pruner \n",
        "    study = optuna.create_study(direction=\"minimize\", sampler=optuna.samplers.TPESampler(), pruner=optuna.pruners.MedianPruner())\n",
        "\n",
        "    # Running Optuna with 100 trials when we are optimizing.\n",
        "    study.optimize(objective, n_trials=N_TRIALS)\n",
        "\n",
        "    # Printing the best trial information\n",
        "    print(\"Best trial:\")\n",
        "    trial = study.best_trial\n",
        "    print(\"  Value: \", trial.value)\n",
        "    print(\"  Params: \")\n",
        "    for key, value in trial.params.items():\n",
        "        print(f\"    {key}: {value}\")\n"
      ]
    },
    {
      "cell_type": "markdown",
      "metadata": {
        "id": "jmMfE9_dUZiS"
      },
      "source": [
        "## Training the model"
      ]
    },
    {
      "cell_type": "code",
      "execution_count": 31,
      "metadata": {
        "id": "phyiHlWEUZiT"
      },
      "outputs": [],
      "source": [
        "# Creating the best network and optimizer using the best hyperparameters\n",
        "if OPTIMIZE:\n",
        "    net, \\\n",
        "    loss_fn, \\\n",
        "    optimizer, \\\n",
        "    batch_size, \\\n",
        "    n_epochs, \\\n",
        "    scheduler, \\\n",
        "    loss_name, \\\n",
        "    optimizer_name, \\\n",
        "    scheduler_name, \\\n",
        "    n_units, \\\n",
        "    n_layers, \\\n",
        "    hidden_activation, \\\n",
        "    output_activation, \\\n",
        "    lr = create_model(trial, optimize=True)\n",
        "# Creating the network with predefined hyperparameters\n",
        "else:\n",
        "    net, \\\n",
        "    loss_fn, \\\n",
        "    optimizer, \\\n",
        "    batch_size, \\\n",
        "    n_epochs, \\\n",
        "    scheduler, \\\n",
        "    loss_name, \\\n",
        "    optimizer_name, \\\n",
        "    scheduler_name, \\\n",
        "    n_units, \\\n",
        "    n_layers, \\\n",
        "    hidden_activation, \\\n",
        "    output_activation, \\\n",
        "    lr = create_model(trial=None, optimize=False)"
      ]
    },
    {
      "cell_type": "code",
      "execution_count": 32,
      "metadata": {
        "colab": {
          "base_uri": "https://localhost:8080/"
        },
        "id": "_yq-oY81UZiU",
        "outputId": "dbf2f465-bd50-4a20-8926-616c3d2157d0"
      },
      "outputs": [
        {
          "name": "stdout",
          "output_type": "stream",
          "text": [
            "loss_fn: SmoothL1Loss()\n",
            "batch_size: 49\n",
            "n_epochs: 10\n",
            "scheduler: <torch.optim.lr_scheduler.ReduceLROnPlateau object at 0x0000023DDF166A10>\n",
            "loss_name: Huber\n",
            "optimizer_name: RMSprop\n",
            "scheduler_name: ReduceLROnPlateau\n",
            "n_units: [555, 458, 115]\n",
            "n_layers: 3\n",
            "hidden_activation: ReLU()\n",
            "output_activation: ReLU()\n"
          ]
        }
      ],
      "source": [
        "print(\"loss_fn:\", loss_fn)\n",
        "print(\"batch_size:\", batch_size)\n",
        "print(\"n_epochs:\", n_epochs)\n",
        "print(\"scheduler:\", scheduler)\n",
        "print(\"loss_name:\", loss_name)\n",
        "print(\"optimizer_name:\", optimizer_name)\n",
        "print(\"scheduler_name:\", scheduler_name)\n",
        "print(\"n_units:\", n_units)\n",
        "print(\"n_layers:\", n_layers)\n",
        "print(\"hidden_activation:\", hidden_activation)\n",
        "print(\"output_activation:\", output_activation)"
      ]
    },
    {
      "cell_type": "code",
      "execution_count": 33,
      "metadata": {
        "colab": {
          "base_uri": "https://localhost:8080/"
        },
        "id": "E7aLWdZyUZiW",
        "outputId": "8fb1e8c6-5aa3-43a1-a255-712cf9396d0c"
      },
      "outputs": [
        {
          "name": "stdout",
          "output_type": "stream",
          "text": [
            "Epoch 1: Train Loss: 0.1358, Test Loss: 0.1014, Train L1 Norm: 1.1945, Test L1 Norm: 0.6205, Train Linf Norm: 45.4939, Test Linf Norm: 20.8966\n",
            "Epoch 2: Train Loss: 0.0610, Test Loss: 0.0309, Train L1 Norm: 0.9695, Test L1 Norm: 0.5603, Train Linf Norm: 37.9532, Test Linf Norm: 18.9591\n",
            "Epoch 3: Train Loss: 0.0483, Test Loss: 0.0316, Train L1 Norm: 0.8414, Test L1 Norm: 0.4705, Train Linf Norm: 32.3851, Test Linf Norm: 15.1701\n",
            "Epoch 4: Train Loss: 0.0417, Test Loss: 0.0402, Train L1 Norm: 0.8130, Test L1 Norm: 0.5399, Train Linf Norm: 31.4499, Test Linf Norm: 18.6603\n",
            "Epoch 5: Train Loss: 0.0371, Test Loss: 0.0229, Train L1 Norm: 0.7804, Test L1 Norm: 0.4684, Train Linf Norm: 30.0785, Test Linf Norm: 15.3374\n",
            "Epoch 6: Train Loss: 0.0342, Test Loss: 0.0261, Train L1 Norm: 0.8546, Test L1 Norm: 0.4549, Train Linf Norm: 33.5970, Test Linf Norm: 14.8366\n",
            "Epoch 7: Train Loss: 0.0320, Test Loss: 0.0206, Train L1 Norm: 0.6908, Test L1 Norm: 0.3946, Train Linf Norm: 26.0487, Test Linf Norm: 12.5221\n",
            "Epoch 8: Train Loss: 0.0305, Test Loss: 0.0204, Train L1 Norm: 0.6471, Test L1 Norm: 0.3820, Train Linf Norm: 24.1359, Test Linf Norm: 12.1786\n",
            "Epoch 9: Train Loss: 0.0289, Test Loss: 0.0256, Train L1 Norm: 0.7490, Test L1 Norm: 0.4548, Train Linf Norm: 29.2763, Test Linf Norm: 14.7092\n",
            "Epoch 10: Train Loss: 0.0276, Test Loss: 0.0277, Train L1 Norm: 0.6930, Test L1 Norm: 0.3294, Train Linf Norm: 26.6457, Test Linf Norm: 9.9481\n"
          ]
        }
      ],
      "source": [
        "# Training and evaluating the network using the train_and_eval function\n",
        "train_losses, test_losses, train_metrics, test_metrics = train_and_eval(\n",
        "    net, loss_fn, optimizer, batch_size, n_epochs, scheduler\n",
        ")"
      ]
    },
    {
      "cell_type": "markdown",
      "metadata": {
        "id": "akNucrgMUZiW"
      },
      "source": [
        "## Saving"
      ]
    },
    {
      "cell_type": "code",
      "execution_count": 34,
      "metadata": {
        "id": "LHsrs2Y-UZic"
      },
      "outputs": [],
      "source": [
        "import json\n",
        "import pandas as pd\n",
        "\n",
        "# save the network to a .pth file\n",
        "torch.save(net.state_dict(), \"net.pth\")\n",
        "save_file(\"net.pth\")\n",
        "\n",
        "# save the optimizer to a .pth file\n",
        "torch.save(optimizer.state_dict(), \"optimizer.pth\")\n",
        "save_file(\"optimizer.pth\")\n",
        "\n",
        "# save the scheduler to a .pth file if it is not None\n",
        "if scheduler is not None:\n",
        "  torch.save(scheduler.state_dict(), \"scheduler.pth\")\n",
        "  save_file(\"scheduler.pth\")\n",
        "\n",
        "# create a dictionary to store the rest of the variables\n",
        "var_dict = {\n",
        "  \"batch_size\": batch_size,\n",
        "  \"n_epochs\": n_epochs,\n",
        "  \"loss_name\": loss_name,\n",
        "  \"optimizer_name\": optimizer_name,\n",
        "  \"scheduler_name\": scheduler_name,\n",
        "  \"n_units\": n_units,\n",
        "  \"n_layers\": n_layers,\n",
        "  \"hidden_activation_name\": hidden_activation.__class__.__name__,\n",
        "  \"output_activation_name\": output_activation.__class__.__name__,\n",
        "  \"lr\": lr,\n",
        "}\n",
        "\n",
        "# save the dictionary to a .json file\n",
        "with open(\"var_dict.json\", \"w\") as f:\n",
        "  json.dump(var_dict, f)\n",
        "save_file(\"var_dict.json\")\n",
        "\n",
        "# Saving the output of the training using pandas\n",
        "train_df = pd.DataFrame(\n",
        "    {\n",
        "        \"train_loss\": train_losses,\n",
        "        \"test_loss\": test_losses,\n",
        "        \"train_l1_norm\": [m[\"l1_norm\"] for m in train_metrics],\n",
        "        \"test_l1_norm\": [m[\"l1_norm\"] for m in test_metrics],\n",
        "        \"train_linf_norm\": [m[\"linf_norm\"] for m in train_metrics],\n",
        "        \"test_linf_norm\": [m[\"linf_norm\"] for m in test_metrics],\n",
        "    }\n",
        ")\n",
        "train_df.to_csv(\"train_output.csv\", index=False)\n",
        "save_file(\"train_output.csv\")\n"
      ]
    },
    {
      "cell_type": "markdown",
      "metadata": {
        "id": "qU23l7dIUZie"
      },
      "source": [
        "## Visualizing the results"
      ]
    },
    {
      "cell_type": "code",
      "execution_count": 35,
      "metadata": {
        "colab": {
          "base_uri": "https://localhost:8080/",
          "height": 1000
        },
        "id": "cippWZS6UZie",
        "outputId": "f0d6e5c3-945f-481b-a153-e54fed7fe9fa"
      },
      "outputs": [
        {
          "data": {
            "text/plain": [
              "<Figure size 1200x800 with 0 Axes>"
            ]
          },
          "execution_count": 35,
          "metadata": {},
          "output_type": "execute_result"
        },
        {
          "data": {
            "text/plain": [
              "<Axes: >"
            ]
          },
          "execution_count": 35,
          "metadata": {},
          "output_type": "execute_result"
        },
        {
          "data": {
            "text/plain": [
              "[<matplotlib.lines.Line2D at 0x23ddda4cc50>]"
            ]
          },
          "execution_count": 35,
          "metadata": {},
          "output_type": "execute_result"
        },
        {
          "data": {
            "text/plain": [
              "[<matplotlib.lines.Line2D at 0x23ddda15190>]"
            ]
          },
          "execution_count": 35,
          "metadata": {},
          "output_type": "execute_result"
        },
        {
          "data": {
            "text/plain": [
              "Text(0.5, 0, 'Epoch')"
            ]
          },
          "execution_count": 35,
          "metadata": {},
          "output_type": "execute_result"
        },
        {
          "data": {
            "text/plain": [
              "Text(0, 0.5, 'L1 Norm')"
            ]
          },
          "execution_count": 35,
          "metadata": {},
          "output_type": "execute_result"
        },
        {
          "data": {
            "text/plain": [
              "(0.001, 100.0)"
            ]
          },
          "execution_count": 35,
          "metadata": {},
          "output_type": "execute_result"
        },
        {
          "data": {
            "text/plain": [
              "<matplotlib.legend.Legend at 0x23ddda01750>"
            ]
          },
          "execution_count": 35,
          "metadata": {},
          "output_type": "execute_result"
        },
        {
          "data": {
            "text/plain": [
              "<Axes: >"
            ]
          },
          "execution_count": 35,
          "metadata": {},
          "output_type": "execute_result"
        },
        {
          "data": {
            "text/plain": [
              "[<matplotlib.lines.Line2D at 0x23ddd7cb0d0>]"
            ]
          },
          "execution_count": 35,
          "metadata": {},
          "output_type": "execute_result"
        },
        {
          "data": {
            "text/plain": [
              "[<matplotlib.lines.Line2D at 0x23ddda82510>]"
            ]
          },
          "execution_count": 35,
          "metadata": {},
          "output_type": "execute_result"
        },
        {
          "data": {
            "text/plain": [
              "Text(0.5, 0, 'Epoch')"
            ]
          },
          "execution_count": 35,
          "metadata": {},
          "output_type": "execute_result"
        },
        {
          "data": {
            "text/plain": [
              "Text(0, 0.5, 'Linf Norm')"
            ]
          },
          "execution_count": 35,
          "metadata": {},
          "output_type": "execute_result"
        },
        {
          "data": {
            "text/plain": [
              "(0.001, 100.0)"
            ]
          },
          "execution_count": 35,
          "metadata": {},
          "output_type": "execute_result"
        },
        {
          "data": {
            "text/plain": [
              "<matplotlib.legend.Legend at 0x23ddda4ec10>"
            ]
          },
          "execution_count": 35,
          "metadata": {},
          "output_type": "execute_result"
        },
        {
          "data": {
            "image/png": "[encoded data removed]",
            "text/plain": [
              "<Figure size 1200x800 with 2 Axes>"
            ]
          },
          "metadata": {},
          "output_type": "display_data"
        },
        {
          "data": {
            "text/plain": [
              "<Figure size 800x600 with 0 Axes>"
            ]
          },
          "execution_count": 35,
          "metadata": {},
          "output_type": "execute_result"
        },
        {
          "data": {
            "text/plain": [
              "[<matplotlib.lines.Line2D at 0x23de8e4bf90>]"
            ]
          },
          "execution_count": 35,
          "metadata": {},
          "output_type": "execute_result"
        },
        {
          "data": {
            "text/plain": [
              "[<matplotlib.lines.Line2D at 0x23de8e36b10>]"
            ]
          },
          "execution_count": 35,
          "metadata": {},
          "output_type": "execute_result"
        },
        {
          "data": {
            "text/plain": [
              "Text(0.5, 0, 'Epoch')"
            ]
          },
          "execution_count": 35,
          "metadata": {},
          "output_type": "execute_result"
        },
        {
          "data": {
            "text/plain": [
              "Text(0, 0.5, 'Huber Loss')"
            ]
          },
          "execution_count": 35,
          "metadata": {},
          "output_type": "execute_result"
        },
        {
          "data": {
            "text/plain": [
              "(1e-07, 1.0)"
            ]
          },
          "execution_count": 35,
          "metadata": {},
          "output_type": "execute_result"
        },
        {
          "data": {
            "text/plain": [
              "<matplotlib.legend.Legend at 0x23de89c0810>"
            ]
          },
          "execution_count": 35,
          "metadata": {},
          "output_type": "execute_result"
        },
        {
          "data": {
            "image/png": "[encoded data removed]",
            "text/plain": [
              "<Figure size 800x600 with 1 Axes>"
            ]
          },
          "metadata": {},
          "output_type": "display_data"
        }
      ],
      "source": [
        "# Plotting the losses and metrics for the best network \n",
        "plt.figure(figsize=(12, 8))\n",
        "#plt.subplot(2, 2, 1)\n",
        "#plt.plot(train_losses, label=\"Train Loss\")\n",
        "#plt.plot(test_losses, label=\"Test Loss\")\n",
        "#plt.xlabel(\"Epoch\")\n",
        "#plt.ylabel(\"Loss\")\n",
        "#plt.legend()\n",
        "plt.subplot(2, 2, 2)\n",
        "plt.plot([m[\"l1_norm\"] for m in train_metrics], label=\"Train L1 Norm\")\n",
        "plt.plot([m[\"l1_norm\"] for m in test_metrics], label=\"Test L1 Norm\")\n",
        "plt.xlabel(\"Epoch\")\n",
        "plt.ylabel(\"L1 Norm\")\n",
        "# Added setting the vertical axis to be in powers of 10\n",
        "plt.yscale(\"log\")\n",
        "# Added setting the vertical axis limits to be from 10^-7 to 10^0\n",
        "plt.ylim(1e-3, 1e2)\n",
        "plt.legend()\n",
        "plt.subplot(2, 2, 3)\n",
        "plt.plot([m[\"linf_norm\"] for m in train_metrics], label=\"Train Linf Norm\")\n",
        "plt.plot([m[\"linf_norm\"] for m in test_metrics], label=\"Test Linf Norm\")\n",
        "plt.xlabel(\"Epoch\")\n",
        "plt.ylabel(\"Linf Norm\")\n",
        "# Added setting the vertical axis to be in powers of 10\n",
        "plt.yscale(\"log\")\n",
        "# Added setting the vertical axis limits to be from 10^-7 to 10^0\n",
        "plt.ylim(1e-3, 1e2)\n",
        "plt.legend()\n",
        "plt.tight_layout()\n",
        "plt.show()\n",
        "\n",
        "# Added plotting MSE of training data and MSE of test data in one plot \n",
        "plt.figure(figsize=(8, 6))\n",
        "plt.plot(train_losses,label=\"training data\")\n",
        "plt.plot(test_losses,label=\"test data\")\n",
        "#if scheduler is not None:\n",
        "#    plt.plot([scheduler.get_last_lr()[0] for _ in range(n_epochs)], label=\"Learning rate\") \n",
        "plt.xlabel(\"Epoch\")\n",
        "plt.ylabel(f\"{loss_name} Loss\")\n",
        "# Added setting the vertical axis to be in powers of 10\n",
        "plt.yscale(\"log\")\n",
        "# Added setting the vertical axis limits to be from 10^-7 to 10^0\n",
        "plt.ylim(1e-7, 1e0)\n",
        "plt.legend()\n",
        "plt.show()"
      ]
    },
    {
      "cell_type": "markdown",
      "metadata": {
        "id": "tiEDutxIUZig"
      },
      "source": [
        "## Loading"
      ]
    },
    {
      "cell_type": "code",
      "execution_count": 36,
      "metadata": {
        "colab": {
          "base_uri": "https://localhost:8080/"
        },
        "id": "p7Mj990wUZih",
        "outputId": "a1132948-c3b1-4d75-becf-4efa93c9a7d0"
      },
      "outputs": [
        {
          "data": {
            "text/plain": [
              "<All keys matched successfully>"
            ]
          },
          "execution_count": 36,
          "metadata": {},
          "output_type": "execute_result"
        }
      ],
      "source": [
        "import json\n",
        "import pandas as pd\n",
        "\n",
        "# load the dictionary from the .json file\n",
        "with open(\"var_dict.json\", \"r\") as f:\n",
        "  var_dict_loaded = json.load(f)\n",
        "\n",
        "# extract the variables from the dictionary\n",
        "batch_size_loaded = var_dict_loaded[\"batch_size\"]\n",
        "n_epochs_loaded = var_dict_loaded[\"n_epochs\"]\n",
        "loss_name_loaded = var_dict_loaded[\"loss_name\"]\n",
        "optimizer_name_loaded = var_dict_loaded[\"optimizer_name\"]\n",
        "scheduler_name_loaded = var_dict_loaded[\"scheduler_name\"]\n",
        "n_units_loaded = var_dict_loaded[\"n_units\"]\n",
        "n_layers_loaded = var_dict_loaded[\"n_layers\"]\n",
        "hidden_activation_name_loaded = var_dict_loaded[\"hidden_activation_name\"]\n",
        "output_activation_name_loaded = var_dict_loaded[\"output_activation_name\"]\n",
        "lr_loaded = var_dict_loaded[\"lr\"]\n",
        "\n",
        "# create the activation functions from their names\n",
        "if hidden_activation_name_loaded == \"ReLU\":\n",
        "  hidden_activation_loaded = nn.ReLU()\n",
        "elif hidden_activation_name_loaded == \"LeakyReLU\":\n",
        "  hidden_activation_loaded = nn.LeakyReLU() \n",
        "elif hidden_activation_name_loaded == \"ELU\":\n",
        "  hidden_activation_loaded = nn.ELU() \n",
        "elif hidden_activation_name_loaded == \"Tanh\":\n",
        "  hidden_activation_loaded = nn.Tanh()\n",
        "else:\n",
        "  hidden_activation_loaded = nn.Sigmoid()\n",
        "\n",
        "if output_activation_name_loaded == \"ReLU\":\n",
        "    output_activation_loaded = nn.ReLU()\n",
        "elif output_activation_name_loaded == \"Softplus\":\n",
        "    output_activation_loaded = nn.Softplus()\n",
        "else:\n",
        "    output_activation_loaded = nn.Identity()\n",
        "\n",
        "\n",
        "\n",
        "# load the network from the .pth file\n",
        "net_loaded = Net(n_layers_loaded, n_units_loaded, hidden_activation_loaded, output_activation_loaded).to(device)\n",
        "if torch.cuda.is_available():\n",
        " net_loaded.load_state_dict(torch.load(\"net.pth\"))\n",
        "else: \n",
        "  net_loaded.load_state_dict(torch.load(\"net.pth\", map_location=torch.device('cpu')))\n",
        "\n",
        "# create the loss function from its name\n",
        "if loss_name_loaded == \"MSE\":\n",
        "  loss_fn_loaded = nn.MSELoss()\n",
        "elif loss_name_loaded == \"MAE\":\n",
        "  loss_fn_loaded = nn.L1Loss()\n",
        "elif loss_name_loaded == \"Huber\":\n",
        "  loss_fn_loaded = nn.SmoothL1Loss() \n",
        "else:\n",
        "  # create the log-cosh loss function\n",
        "  def log_cosh_loss_loaded(y_pred, y_true):\n",
        "    return torch.mean(torch.log(torch.cosh(y_pred - y_true)))\n",
        "  loss_fn_loaded = log_cosh_loss_loaded\n",
        "\n",
        "# load the optimizer from the .pth file\n",
        "if torch.cuda.is_available():\n",
        "  optimizer_loaded_state_dict = torch.load(\"optimizer.pth\")\n",
        "else:\n",
        "  optimizer_loaded_state_dict = torch.load(\"optimizer.pth\", map_location=torch.device('cpu'))\n",
        "\n",
        "if optimizer_name_loaded == \"SGD\":\n",
        "  # Added getting the weight decay and momentum parameters from the state dict\n",
        "  weight_decay_loaded = optimizer_loaded_state_dict[\"param_groups\"][0][\"weight_decay\"]\n",
        "  momentum_loaded = optimizer_loaded_state_dict[\"param_groups\"][0][\"momentum\"]\n",
        "  optimizer_loaded = optim.SGD(net_loaded.parameters(), lr=lr_loaded, weight_decay=weight_decay_loaded, momentum=momentum_loaded)\n",
        "elif optimizer_name_loaded == \"Adam\":\n",
        "  # Added getting the weight decay and beta parameters from the state dict\n",
        "  weight_decay_loaded = optimizer_loaded_state_dict[\"param_groups\"][0][\"weight_decay\"]\n",
        "  beta1_loaded = optimizer_loaded_state_dict[\"param_groups\"][0][\"betas\"][0]\n",
        "  beta2_loaded = optimizer_loaded_state_dict[\"param_groups\"][0][\"betas\"][1]\n",
        "  optimizer_loaded = optim.Adam(net_loaded.parameters(), lr=lr_loaded, weight_decay=weight_decay_loaded, betas=(beta1_loaded, beta2_loaded))\n",
        "elif optimizer_name_loaded == \"RMSprop\":\n",
        "  optimizer_loaded = optim.RMSprop(net_loaded.parameters(), lr=lr_loaded)\n",
        "else:\n",
        "  # Added loading the Adagrad optimizer\n",
        "  optimizer_loaded = optim.Adagrad(net_loaded.parameters(), lr=lr_loaded)\n",
        "optimizer_loaded.load_state_dict(optimizer_loaded_state_dict)\n",
        "\n",
        "# load the scheduler from the .pth file\n",
        "if torch.cuda.is_available():\n",
        "  scheduler_loaded_state_dict = torch.load(\"scheduler.pth\")\n",
        "else: \n",
        "  scheduler_loaded_state_dict = torch.load(\"scheduler.pth\", map_location=torch.device('cpu'))\n",
        "\n",
        "if scheduler_name_loaded == \"StepLR\":\n",
        "  # Added getting the step_size and gamma parameters from the state dict\n",
        "  step_size_loaded = scheduler_loaded_state_dict[\"step_size\"]\n",
        "  gamma_loaded = scheduler_loaded_state_dict[\"gamma\"]\n",
        "  scheduler_loaded = optim.lr_scheduler.StepLR(optimizer_loaded, step_size=step_size_loaded, gamma=gamma_loaded)\n",
        "elif scheduler_name_loaded == \"ExponentialLR\":\n",
        "  # Added getting the gamma parameter from the state dict\n",
        "  gamma_loaded = scheduler_loaded_state_dict[\"gamma\"]\n",
        "  scheduler_loaded = optim.lr_scheduler.ExponentialLR(optimizer_loaded, gamma=gamma_loaded)\n",
        "elif scheduler_name_loaded == \"CosineAnnealingLR\":\n",
        "  # Added getting the T_max parameter from the state dict\n",
        "  T_max_loaded = scheduler_loaded_state_dict[\"T_max\"]\n",
        "  scheduler_loaded = optim.lr_scheduler.CosineAnnealingLR(optimizer_loaded, T_max=T_max_loaded)\n",
        "elif scheduler_name_loaded == \"ReduceLROnPlateau\":\n",
        "  # Added getting the mode, factor, patience, threshold and min_lr parameters from the state dict\n",
        "  mode_loaded = scheduler_loaded_state_dict[\"mode\"]\n",
        "  factor_loaded = scheduler_loaded_state_dict[\"factor\"]\n",
        "  patience_loaded = scheduler_loaded_state_dict[\"patience\"]\n",
        "  threshold_loaded = scheduler_loaded_state_dict[\"threshold\"]\n",
        "  min_lr_loaded = scheduler_loaded_state_dict[\"min_lrs\"][0]\n",
        "  scheduler_loaded = optim.lr_scheduler.ReduceLROnPlateau(\n",
        "                    optimizer_loaded, mode=mode_loaded, factor=factor_loaded, patience=patience_loaded, threshold=threshold_loaded, min_lr=min_lr_loaded\n",
        "                )\n",
        "# elif scheduler_name_loaded == \"OneCycleLR\":\n",
        "#   max_lr_loaded = scheduler_loaded_state_dict[\"max_lr\"]\n",
        "#   epochs_loaded = scheduler_loaded_state_dict[\"epochs\"]\n",
        "#   steps_per_epoch_loaded = scheduler_loaded_state_dict[\"steps_per_epoch\"]\n",
        "#   pct_start_loaded = scheduler_loaded_state_dict[\"pct_start\"]\n",
        "#   max_lr_loaded = scheduler_loaded_state_dict[\"max_lr\"]\n",
        "#   scheduler_loaded = optim.lr_scheduler.OneCycleLR(\n",
        "#                     optimizer_loaded, max_lr=max_lr_loaded, epochs=epochs_loaded, steps_per_epoch=steps_per_epoch_loaded, pct_start=pct_start_loaded\n",
        "#                 )\n",
        "else:\n",
        "  scheduler_loaded = None\n",
        "\n",
        "if scheduler_loaded is not None:\n",
        "  # Added loading the state dict to the scheduler_loaded\n",
        "  scheduler_loaded.load_state_dict(scheduler_loaded_state_dict)\n",
        "\n",
        "# Loading the output of the training using pandas\n",
        "train_df_loaded = pd.read_csv(\"train_output.csv\")\n",
        "train_losses_loaded = train_df_loaded[\"train_loss\"].tolist()\n",
        "test_losses_loaded = train_df_loaded[\"test_loss\"].tolist()\n",
        "train_metrics_loaded = [\n",
        "    {\n",
        "        \"l1_norm\": train_df_loaded[\"train_l1_norm\"][i],\n",
        "        \"linf_norm\": train_df_loaded[\"train_linf_norm\"][i],\n",
        "    }\n",
        "    for i in range(len(train_df_loaded))\n",
        "]\n",
        "test_metrics_loaded = [\n",
        "    {\n",
        "        \"l1_norm\": train_df_loaded[\"test_l1_norm\"][i],\n",
        "        \"linf_norm\": train_df_loaded[\"test_linf_norm\"][i],\n",
        "    }\n",
        "    for i in range(len(train_df_loaded))\n",
        "]"
      ]
    },
    {
      "cell_type": "code",
      "execution_count": 37,
      "metadata": {
        "colab": {
          "base_uri": "https://localhost:8080/",
          "height": 1000
        },
        "id": "GQ_fcj7zUZii",
        "outputId": "c4979ef0-a99c-4754-e222-3af23a83c1cb"
      },
      "outputs": [
        {
          "name": "stdout",
          "output_type": "stream",
          "text": [
            "Couldn't find program: 'echo'\n"
          ]
        }
      ],
      "source": [
        "%%script echo skipping\n",
        "\n",
        "batch_size_loaded\n",
        "n_epochs_loaded\n",
        "loss_name_loaded\n",
        "optimizer_name_loaded\n",
        "scheduler_name_loaded\n",
        "n_units_loaded\n",
        "n_layers_loaded\n",
        "hidden_activation_name_loaded\n",
        "output_activation_name_loaded\n",
        "lr_loaded\n",
        "hidden_activation_loaded\n",
        "output_activation_loaded\n",
        "net_loaded\n",
        "net_loaded.__dict__ # print the subparameters of the network\n",
        "loss_fn_loaded\n",
        "optimizer_loaded\n",
        "optimizer_loaded.__dict__ # print the subparameters of the optimizer\n",
        "scheduler_loaded\n",
        "scheduler_loaded.__dict__ # print the subparameters of the scheduler\n",
        "train_losses_loaded\n",
        "test_losses_loaded\n",
        "train_metrics_loaded\n",
        "test_metrics_loaded"
      ]
    },
    {
      "cell_type": "code",
      "execution_count": 38,
      "metadata": {},
      "outputs": [
        {
          "data": {
            "text/plain": [
              "0.0276069522092642"
            ]
          },
          "execution_count": 38,
          "metadata": {},
          "output_type": "execute_result"
        },
        {
          "data": {
            "text/plain": [
              "0.0276500958408229"
            ]
          },
          "execution_count": 38,
          "metadata": {},
          "output_type": "execute_result"
        },
        {
          "data": {
            "text/plain": [
              "0.3293595393449068"
            ]
          },
          "execution_count": 38,
          "metadata": {},
          "output_type": "execute_result"
        },
        {
          "data": {
            "text/plain": [
              "9.94808392946124"
            ]
          },
          "execution_count": 38,
          "metadata": {},
          "output_type": "execute_result"
        },
        {
          "name": "stdout",
          "output_type": "stream",
          "text": [
            "Error is 857.7071337106947 times bigger than in Dieselhorst et al.\n",
            "Error is 1222.1233328576463 times bigger than in Dieselhorst et al.\n"
          ]
        }
      ],
      "source": [
        "train_losses_loaded[-1]\n",
        "test_losses_loaded[-1]\n",
        "test_metrics_loaded[-1]['l1_norm']\n",
        "test_metrics_loaded[-1]['linf_norm']\n",
        "print(f'Error is {test_metrics_loaded[-1][\"l1_norm\"] / (3.84e-4)} times bigger than in Dieselhorst et al.')\n",
        "print(f'Error is {test_metrics_loaded[-1][\"linf_norm\"] / (8.14e-3)} times bigger than in Dieselhorst et al.')"
      ]
    },
    {
      "attachments": {},
      "cell_type": "markdown",
      "metadata": {},
      "source": [
        "### Visualize loaded results"
      ]
    },
    {
      "cell_type": "markdown",
      "metadata": {
        "id": "vwLGR1aSUZik"
      },
      "source": [
        "Let us verify correct loading of the train and test metrics by visualizing them again but now through the loaded values. Likewise for the train and test losses."
      ]
    },
    {
      "cell_type": "code",
      "execution_count": 39,
      "metadata": {
        "id": "sXiNgLsmUZil"
      },
      "outputs": [],
      "source": [
        "%config InteractiveShell.ast_node_interactivity = \"last_expr_or_assign\""
      ]
    },
    {
      "cell_type": "code",
      "execution_count": 40,
      "metadata": {
        "colab": {
          "base_uri": "https://localhost:8080/",
          "height": 1000
        },
        "id": "sgq4WfSiUZil",
        "outputId": "9934bd08-6c78-4a92-c8c6-d8e835c351b3"
      },
      "outputs": [
        {
          "data": {
            "image/png": "[encoded data removed]",
            "text/plain": [
              "<Figure size 640x480 with 2 Axes>"
            ]
          },
          "metadata": {},
          "output_type": "display_data"
        },
        {
          "data": {
            "image/png": "[encoded data removed]",
            "text/plain": [
              "<Figure size 800x600 with 1 Axes>"
            ]
          },
          "metadata": {},
          "output_type": "display_data"
        }
      ],
      "source": [
        "# Plotting the losses and metrics for the best network plt.figure(figsize=(12, \n",
        "#plt.subplot(2, 2, 1)\n",
        "#plt.plot(train_losses_loaded, label=\"Train Loss\")\n",
        "#plt.plot(test_losses_loaded, label=\"Test Loss\")\n",
        "#plt.xlabel(\"Epoch\")\n",
        "#plt.ylabel(\"Loss\")\n",
        "#plt.legend()\n",
        "plt.subplot(2, 2, 2)\n",
        "plt.plot([m[\"l1_norm\"] for m in train_metrics_loaded], label=\"Train L1 Norm\")\n",
        "plt.plot([m[\"l1_norm\"] for m in test_metrics_loaded], label=\"Test L1 Norm\")\n",
        "plt.xlabel(\"Epoch\")\n",
        "plt.ylabel(\"L1 Norm\")\n",
        "# Added setting the vertical axis to be in powers of 10\n",
        "plt.yscale(\"log\")\n",
        "# Added setting the vertical axis limits to be from 10^-7 to 10^0\n",
        "plt.ylim(1e-3, 1e2)\n",
        "plt.legend()\n",
        "plt.subplot(2, 2, 3)\n",
        "plt.plot([m[\"linf_norm\"] for m in train_metrics_loaded], label=\"Train Linf Norm\")\n",
        "plt.plot([m[\"linf_norm\"] for m in test_metrics_loaded], label=\"Test Linf Norm\")\n",
        "plt.xlabel(\"Epoch\")\n",
        "plt.ylabel(\"Linf Norm\")\n",
        "# Added setting the vertical axis to be in powers of 10\n",
        "plt.yscale(\"log\")\n",
        "# Added setting the vertical axis limits to be from 10^-7 to 10^0\n",
        "plt.ylim(1e-3, 1e2)\n",
        "plt.legend()\n",
        "plt.tight_layout()\n",
        "plt.show()\n",
        "\n",
        "# Added plotting MSE of training data and MSE of test data in one plot \n",
        "plt.figure(figsize=(8, 6))\n",
        "plt.plot(train_losses_loaded,label=\"training data\")\n",
        "plt.plot(test_losses_loaded,label=\"test data\")\n",
        "#if scheduler is not None:\n",
        "#    plt.plot([scheduler.get_last_lr()[0] for _ in range(n_epochs)], label=\"Learning rate\") \n",
        "plt.xlabel(\"Epoch\")\n",
        "plt.ylabel(f\"{loss_name_loaded} Loss\")\n",
        "# Added setting the vertical axis to be in powers of 10\n",
        "plt.yscale(\"log\")\n",
        "# Added setting the vertical axis limits to be from 10^-7 to 10^0\n",
        "plt.ylim(1e-7, 1e0)\n",
        "plt.legend()\n",
        "plt.show()\n"
      ]
    },
    {
      "cell_type": "code",
      "execution_count": 41,
      "metadata": {
        "id": "lkgLqJ_UUZim"
      },
      "outputs": [],
      "source": [
        "%config InteractiveShell.ast_node_interactivity = \"all\""
      ]
    },
    {
      "attachments": {},
      "cell_type": "markdown",
      "metadata": {},
      "source": [
        "## Counting the number of parameters in the network."
      ]
    },
    {
      "cell_type": "code",
      "execution_count": 42,
      "metadata": {},
      "outputs": [
        {
          "data": {
            "text/plain": [
              "Net(\n",
              "  (hidden_activation): ReLU()\n",
              "  (output_activation): ReLU()\n",
              "  (layers): ModuleList(\n",
              "    (0): Linear(in_features=8, out_features=555, bias=True)\n",
              "    (1): Linear(in_features=555, out_features=458, bias=True)\n",
              "    (2): Linear(in_features=458, out_features=115, bias=True)\n",
              "    (3): Linear(in_features=115, out_features=1, bias=True)\n",
              "  )\n",
              ")"
            ]
          },
          "execution_count": 42,
          "metadata": {},
          "output_type": "execute_result"
        },
        {
          "name": "stdout",
          "output_type": "stream",
          "text": [
            "The model has 312544 parameters.\n"
          ]
        }
      ],
      "source": [
        "net_loaded.eval()\n",
        "def count_parameters(model):\n",
        "    return sum(p.numel() for p in model.parameters() if p.requires_grad)\n",
        "print(f'The model has {count_parameters(net_loaded)} parameters.')"
      ]
    },
    {
      "attachments": {},
      "cell_type": "markdown",
      "metadata": {
        "id": "SxuzVSnlUZin"
      },
      "source": [
        "## Evaluating the network on arbirary input\n",
        "### Comparing `net` and `net_loaded`\n",
        "\n",
        "We compare `net` and `net_loaded` to confirm correct loading of the network. Note that `net` is only available if we have trained the model in this session."
      ]
    },
    {
      "cell_type": "code",
      "execution_count": 43,
      "metadata": {},
      "outputs": [
        {
          "data": {
            "text/plain": [
              "Net(\n",
              "  (hidden_activation): ReLU()\n",
              "  (output_activation): ReLU()\n",
              "  (layers): ModuleList(\n",
              "    (0): Linear(in_features=8, out_features=555, bias=True)\n",
              "    (1): Linear(in_features=555, out_features=458, bias=True)\n",
              "    (2): Linear(in_features=458, out_features=115, bias=True)\n",
              "    (3): Linear(in_features=115, out_features=1, bias=True)\n",
              "  )\n",
              ")"
            ]
          },
          "execution_count": 43,
          "metadata": {},
          "output_type": "execute_result"
        }
      ],
      "source": [
        "#%%script echo skipping\n",
        "\n",
        "# Set the network to evaluation mode\n",
        "net.eval()"
      ]
    },
    {
      "cell_type": "code",
      "execution_count": 44,
      "metadata": {},
      "outputs": [
        {
          "data": {
            "text/plain": [
              "Net(\n",
              "  (hidden_activation): ReLU()\n",
              "  (output_activation): ReLU()\n",
              "  (layers): ModuleList(\n",
              "    (0): Linear(in_features=8, out_features=555, bias=True)\n",
              "    (1): Linear(in_features=555, out_features=458, bias=True)\n",
              "    (2): Linear(in_features=458, out_features=115, bias=True)\n",
              "    (3): Linear(in_features=115, out_features=1, bias=True)\n",
              "  )\n",
              ")"
            ]
          },
          "execution_count": 44,
          "metadata": {},
          "output_type": "execute_result"
        }
      ],
      "source": [
        "# Set the network to evaluation mode\n",
        "net_loaded.eval()\n"
      ]
    },
    {
      "cell_type": "code",
      "execution_count": 45,
      "metadata": {},
      "outputs": [
        {
          "name": "stdout",
          "output_type": "stream",
          "text": [
            "Parameters are the same.\n",
            "Net device: cpu\n",
            "Net_loaded device: cpu\n"
          ]
        }
      ],
      "source": [
        "for p1, p2 in zip(net.parameters(), net_loaded.parameters()):\n",
        "    if p1.data.ne(p2.data).sum() > 0:\n",
        "        print(\"Parameters are NOT the same.\")\n",
        "        break\n",
        "else:\n",
        "    print(\"Parameters are the same.\")\n",
        "\n",
        "print(\"Net device:\", next(net.parameters()).device)\n",
        "print(\"Net_loaded device:\", next(net_loaded.parameters()).device)"
      ]
    },
    {
      "cell_type": "code",
      "execution_count": 46,
      "metadata": {
        "colab": {
          "base_uri": "https://localhost:8080/"
        },
        "id": "C0PLAA0DUZin",
        "outputId": "c51e07dd-8b35-4ea4-cdf9-3118d7796e30"
      },
      "outputs": [
        {
          "name": "stdout",
          "output_type": "stream",
          "text": [
            "[Parameter containing:\n",
            "tensor([[-0.4057,  0.0853,  0.1045,  ..., -0.2622,  0.1262,  0.3833],\n",
            "        [-0.3349,  0.0065,  0.2322,  ...,  0.1327,  0.3502, -0.1650],\n",
            "        [-0.0728,  0.1868, -0.2430,  ..., -0.2567, -0.0225, -0.2032],\n",
            "        ...,\n",
            "        [ 0.1912,  0.2408,  0.2049,  ...,  0.2420, -0.0606,  0.1490],\n",
            "        [ 0.3185,  0.1350, -0.0706,  ..., -0.3900, -0.0398,  0.2514],\n",
            "        [-0.0196,  0.1543, -0.2397,  ...,  0.3524, -0.1953,  0.1538]],\n",
            "       requires_grad=True), Parameter containing:\n",
            "tensor([ 1.4569e-01,  2.9067e-01,  1.7971e-01,  1.8238e-01,  1.0324e-01,\n",
            "         1.4143e-01, -2.3459e-01,  4.7142e-02, -4.8064e-01,  2.0418e-01,\n",
            "        -1.8808e-01, -2.9384e-01, -3.2709e-01,  1.4821e-01,  3.1645e-01,\n",
            "        -2.9127e-02, -2.6578e-01,  1.0904e-01, -4.3289e-01,  2.9063e-01,\n",
            "         3.0498e-01,  1.6083e-01,  2.6808e-01,  1.5021e-01,  1.4630e-01,\n",
            "        -4.1778e-01, -3.3723e-02, -2.5334e-01,  4.2847e-02, -8.4786e-02,\n",
            "         3.5787e-01, -3.0307e-01, -3.3591e-01, -3.4792e-01,  1.0841e-01,\n",
            "        -1.8999e-01, -5.5871e-02,  8.0344e-02,  7.9941e-02,  1.5581e-01,\n",
            "        -1.9626e-01,  1.3446e-01, -1.4025e-01,  2.6748e-01, -2.7530e-01,\n",
            "         2.9468e-02, -2.1768e-01,  1.2232e-01, -2.1520e-01,  2.4657e-01,\n",
            "        -9.4130e-02,  5.7133e-02, -2.5056e-01, -2.8322e-01,  1.2604e-01,\n",
            "        -3.1179e-01, -1.6460e-02, -1.8545e-01,  1.6068e-02,  3.1092e-01,\n",
            "        -2.2827e-01, -2.5410e-01,  7.7010e-02,  1.4257e-01, -4.2871e-02,\n",
            "        -2.1349e-01, -3.2999e-01,  7.9912e-02,  9.3848e-02, -2.4230e-01,\n",
            "        -8.9702e-02, -1.9458e-01,  2.4352e-01,  2.9026e-01, -7.8707e-02,\n",
            "        -9.0663e-02, -1.6133e-01,  2.8793e-02, -7.0722e-02,  2.7960e-01,\n",
            "        -1.9085e-01, -1.7473e-01, -6.3323e-02,  1.4545e-01,  1.5550e-01,\n",
            "        -3.0756e-01, -8.2556e-02, -1.1804e-01,  2.5574e-01,  3.2163e-01,\n",
            "        -1.7498e-01, -3.0370e-01, -2.5011e-01,  6.0018e-02, -7.6007e-02,\n",
            "        -2.4682e-01, -1.8276e-01,  1.6807e-01,  2.6447e-01, -1.0160e-01,\n",
            "         9.9577e-02, -3.4362e-01,  1.0954e-01,  3.3399e-01, -2.9942e-01,\n",
            "        -9.4958e-02,  3.7162e-03, -3.3711e-01,  8.0037e-02, -2.1901e-01,\n",
            "         2.2648e-01, -3.2797e-01, -1.3500e-01,  1.6773e-01, -9.2669e-02,\n",
            "        -9.6449e-02,  2.8655e-01, -2.2537e-01,  2.0385e-01,  2.1369e-01,\n",
            "         3.6498e-01, -1.4701e-01,  3.2135e-01, -1.2971e-01,  1.2143e-01,\n",
            "        -9.3318e-02,  3.7231e-01,  3.4187e-02,  1.2733e-01, -2.3081e-01,\n",
            "        -2.1156e-01, -1.5881e-01,  3.0913e-02,  3.5341e-01,  7.7968e-02,\n",
            "         3.0624e-01, -1.0312e-01, -3.4738e-01,  1.1155e-01, -1.9275e-01,\n",
            "        -3.2484e-01,  1.4504e-01, -3.5249e-01,  3.4150e-01, -2.7467e-01,\n",
            "        -1.0036e-01, -2.9437e-01,  2.7845e-01,  1.8962e-01, -2.1894e-01,\n",
            "         4.1389e-02,  3.1021e-01,  1.3016e-01, -2.7940e-02, -1.2891e-01,\n",
            "        -3.2789e-01, -2.4757e-01, -1.9273e-01, -2.9906e-02,  1.1329e-01,\n",
            "        -3.1921e-01,  4.0972e-02, -4.9422e-01,  1.8457e-01,  2.5603e-01,\n",
            "        -1.6027e-01,  2.2842e-02, -2.4151e-01,  3.1048e-01, -2.8990e-02,\n",
            "        -6.1283e-02,  2.0813e-01,  8.3441e-02, -1.7113e-01,  2.0578e-01,\n",
            "         1.4385e-01,  3.5689e-01, -2.4940e-01,  3.6135e-01, -1.5855e-01,\n",
            "         2.2731e-01,  1.4052e-01, -3.0545e-01, -3.2962e-01,  2.6877e-01,\n",
            "         3.2580e-02,  1.4543e-01, -2.9929e-01,  3.3779e-01,  3.1255e-01,\n",
            "         3.1138e-01,  1.7625e-01, -3.5304e-01,  3.0485e-01,  2.0831e-01,\n",
            "         2.2335e-01,  7.9481e-02, -1.3961e-01,  1.9350e-01, -1.2289e-01,\n",
            "         8.9379e-02, -1.4901e-01,  7.6879e-02, -1.3345e-01, -4.2026e-01,\n",
            "         3.4011e-01, -3.0382e-01, -1.2188e-01,  7.1043e-02,  3.2251e-01,\n",
            "         2.8302e-01, -1.5265e-01,  1.3894e-01, -2.6782e-01, -3.0290e-01,\n",
            "         2.3901e-01, -2.7037e-01, -2.8632e-01, -7.0447e-02, -3.9277e-01,\n",
            "        -1.7516e-01, -7.1114e-02, -2.7737e-01,  1.4307e-01, -3.1179e-01,\n",
            "        -3.1652e-01, -2.3803e-01, -1.2602e-02, -6.3063e-03, -4.6521e-02,\n",
            "        -4.2930e-02,  1.7181e-01,  2.2514e-01, -2.5506e-01,  2.0062e-01,\n",
            "         3.3110e-01,  1.3026e-01, -3.7533e-02,  1.6677e-01,  2.7545e-01,\n",
            "         3.2129e-01, -1.7397e-01,  2.7573e-01, -1.2305e-01,  2.2985e-01,\n",
            "         2.3221e-01, -2.8851e-01,  2.8558e-01, -2.5720e-01, -2.6233e-01,\n",
            "        -1.6922e-01, -9.7955e-02,  2.8877e-01,  3.3644e-02, -2.9571e-01,\n",
            "         8.4706e-02,  2.1651e-01, -1.7574e-01, -7.9549e-02, -6.8898e-02,\n",
            "         4.0827e-02,  3.0210e-02,  1.2545e-01,  2.6455e-01, -2.6090e-01,\n",
            "         4.3394e-02,  2.6881e-01,  2.4760e-02,  2.3125e-01,  3.3739e-02,\n",
            "        -3.1438e-01,  5.4868e-02,  1.0289e-03, -3.1890e-01, -1.6133e-01,\n",
            "        -3.9977e-01, -3.3707e-01, -2.6288e-01, -3.0395e-01, -2.6351e-01,\n",
            "         1.1268e-01, -3.9029e-01, -1.8765e-01, -7.2038e-02,  3.8241e-02,\n",
            "        -1.3353e-01, -1.8647e-01,  1.7465e-01, -1.5506e-01,  4.6123e-02,\n",
            "        -2.0791e-01, -6.8103e-02,  2.7463e-01, -3.9124e-01, -1.6742e-01,\n",
            "         2.5787e-01, -2.6105e-01, -5.9944e-02, -3.5725e-01, -1.8149e-01,\n",
            "        -1.6292e-01, -3.6410e-01,  6.3902e-02, -9.3916e-02,  1.6482e-01,\n",
            "         3.8983e-02,  1.4329e-01,  8.5455e-02,  2.4284e-01, -1.6335e-01,\n",
            "         2.0875e-01, -4.1121e-02, -1.4244e-01, -9.0048e-02,  2.5477e-01,\n",
            "         2.8408e-01,  3.8072e-01,  5.5636e-02, -9.6598e-02, -6.9167e-02,\n",
            "        -3.5547e-01, -3.5053e-01, -2.1393e-01, -6.0591e-02, -3.0013e-02,\n",
            "         4.2235e-01,  2.5048e-01,  2.5137e-01, -1.8514e-02, -1.2458e-01,\n",
            "        -9.0562e-02, -1.8527e-01, -3.4775e-01,  2.8569e-01, -1.7181e-01,\n",
            "         2.9554e-01, -1.7440e-01, -9.7921e-02,  1.1962e-01,  7.3056e-02,\n",
            "         3.5616e-01, -2.5133e-01, -3.3419e-01, -2.1993e-01,  1.9410e-01,\n",
            "         4.1865e-02,  3.5803e-01,  2.4566e-01, -2.5811e-01,  8.5029e-02,\n",
            "         1.1777e-01,  1.1729e-01, -3.1566e-01,  2.3266e-01,  2.6060e-01,\n",
            "         2.4519e-01,  1.0263e-01,  2.9895e-01,  2.0872e-01, -2.8710e-01,\n",
            "        -1.8307e-01,  8.4590e-02,  3.5503e-02, -2.3332e-01,  2.3900e-01,\n",
            "        -1.0615e-01,  3.1680e-02, -3.4486e-01, -2.9052e-01,  1.4291e-01,\n",
            "         3.5806e-01,  2.1391e-01,  3.0581e-01,  2.1989e-01, -6.3889e-02,\n",
            "         1.9371e-01,  5.2500e-02, -2.8096e-01,  1.7728e-01,  9.3633e-02,\n",
            "         5.0585e-02, -8.3106e-02, -1.4922e-01, -8.6905e-02,  3.4967e-01,\n",
            "        -3.3388e-02,  2.9842e-01, -3.6870e-02, -1.2404e-01,  3.0662e-02,\n",
            "        -3.3342e-01,  3.0550e-01, -2.8140e-01,  1.2282e-01, -2.9275e-01,\n",
            "         3.2160e-01,  2.7340e-01, -1.3697e-01, -3.9315e-01,  1.1702e-01,\n",
            "         8.9233e-02, -1.5039e-01, -8.2163e-02,  2.5467e-01, -3.2771e-01,\n",
            "        -3.7263e-01, -1.9566e-01,  7.0774e-02,  1.7113e-01,  3.4971e-01,\n",
            "        -2.7917e-01, -3.9479e-04, -1.9132e-01, -4.0105e-01, -2.7954e-01,\n",
            "        -2.2972e-01, -8.3681e-02,  1.7554e-01, -2.7710e-01,  9.2900e-02,\n",
            "        -3.1095e-01,  2.0330e-01,  2.8726e-01, -2.7974e-02,  4.4337e-02,\n",
            "        -3.5044e-01,  1.0177e-01,  2.4462e-01,  2.5784e-01,  2.1025e-01,\n",
            "        -1.9922e-01, -1.7503e-01,  1.7509e-01, -1.8552e-01, -3.3017e-02,\n",
            "         1.9085e-02, -1.9718e-02,  3.1469e-01, -2.3510e-01, -1.4207e-01,\n",
            "         2.1152e-02,  6.4927e-03, -1.0791e-01, -1.1205e-01,  2.0790e-01,\n",
            "         1.1432e-01, -5.5399e-03,  2.3169e-01, -1.0798e-02, -1.7286e-01,\n",
            "        -1.7693e-01, -3.8588e-01,  5.2753e-02, -2.8008e-01, -1.2914e-01,\n",
            "         5.6023e-02, -6.2004e-02,  2.5335e-01, -2.9484e-01,  1.0126e-01,\n",
            "        -5.4929e-02,  1.5612e-01,  1.0711e-01,  3.7629e-04,  1.0482e-01,\n",
            "        -3.6220e-02, -1.6622e-01, -5.4833e-02, -2.7992e-01,  1.6709e-01,\n",
            "        -5.2113e-02, -4.5888e-02,  2.8048e-01,  2.7958e-01,  1.5544e-01,\n",
            "        -2.3979e-01,  2.1969e-01,  3.1008e-01, -1.5633e-01, -4.9783e-02,\n",
            "         1.5633e-01, -2.1728e-01,  3.7639e-01, -1.3671e-02,  2.8756e-01,\n",
            "        -8.3864e-02, -1.6541e-01, -2.3910e-01,  1.8922e-01, -2.3980e-02,\n",
            "         2.5094e-01, -2.4160e-01,  2.8798e-01, -2.6061e-01, -7.6656e-02,\n",
            "         2.9979e-01,  1.1244e-01,  3.1374e-02, -2.8934e-01, -1.0323e-01,\n",
            "        -1.6866e-01,  1.5578e-01, -1.2357e-01,  3.1356e-01,  2.2470e-01,\n",
            "        -9.2245e-02, -2.6935e-01,  6.8111e-02, -3.0066e-01,  1.4911e-01,\n",
            "        -3.8291e-01, -3.3229e-01, -2.1477e-01, -8.0952e-02, -2.4836e-01,\n",
            "         3.3666e-01, -1.3550e-01,  2.1038e-02,  2.2949e-01, -2.8922e-01,\n",
            "        -3.6387e-02,  8.1903e-02,  2.1531e-01, -2.1526e-01, -1.0838e-01,\n",
            "         1.2150e-01, -1.8574e-04, -2.2879e-01, -2.6384e-01,  2.4963e-03,\n",
            "        -4.7554e-04,  2.8535e-01, -3.7876e-01, -4.9083e-02, -1.8673e-01,\n",
            "        -3.7885e-01, -6.3526e-02,  1.1622e-01,  1.3676e-01,  5.7096e-02,\n",
            "        -1.2431e-01,  3.0949e-01,  1.5863e-01, -3.0767e-01, -5.0584e-01,\n",
            "         7.6032e-02, -2.3373e-02, -2.7718e-02,  2.2129e-01,  2.8212e-01,\n",
            "         5.7076e-02,  3.2933e-01,  1.6396e-01,  4.2130e-02, -2.5214e-01],\n",
            "       requires_grad=True), Parameter containing:\n",
            "tensor([[ 0.0110, -0.0031, -0.0287,  ..., -0.0425, -0.0249, -0.0378],\n",
            "        [ 0.0117, -0.0369, -0.0110,  ..., -0.0267,  0.0444,  0.0520],\n",
            "        [ 0.0261,  0.0624,  0.0271,  ...,  0.0311, -0.0248, -0.0409],\n",
            "        ...,\n",
            "        [ 0.0031, -0.0345, -0.0332,  ..., -0.0333,  0.0104, -0.0235],\n",
            "        [ 0.0098,  0.0538, -0.0344,  ..., -0.0066, -0.0036, -0.0107],\n",
            "        [ 0.0372, -0.0632,  0.0227,  ...,  0.0154, -0.0164,  0.0259]],\n",
            "       requires_grad=True), Parameter containing:\n",
            "tensor([-5.1594e-02, -7.9950e-03,  2.9671e-03,  4.9011e-02,  2.3344e-02,\n",
            "        -2.7516e-02,  1.1932e-01, -5.0092e-02,  3.2811e-02, -2.6396e-03,\n",
            "        -1.8223e-02, -2.7163e-04, -4.5939e-02,  5.0950e-02, -5.8473e-03,\n",
            "         1.5854e-02,  1.8027e-02,  5.7851e-02,  1.5937e-02,  2.2429e-03,\n",
            "        -8.5853e-03,  5.6874e-03,  8.1906e-02,  7.2673e-02, -4.3574e-02,\n",
            "         2.0994e-02,  1.1550e-01, -2.0447e-02, -3.7429e-02, -1.0999e-02,\n",
            "        -7.6340e-03,  5.0653e-02,  2.5771e-02, -2.8184e-02, -2.1999e-02,\n",
            "         5.5615e-02, -4.0878e-02,  2.0583e-02, -2.5222e-02, -4.3474e-02,\n",
            "         4.3963e-02,  1.5148e-02,  6.4760e-02, -2.5253e-02,  3.2094e-02,\n",
            "        -6.6502e-02,  3.0567e-02,  3.2863e-02,  4.0844e-02, -1.4548e-02,\n",
            "        -1.5309e-02,  1.1523e-01, -2.1089e-02, -2.0761e-02,  4.8846e-03,\n",
            "        -3.5709e-03, -1.1826e-02,  1.5522e-03,  1.9651e-02, -1.6209e-02,\n",
            "         2.6455e-02,  3.7034e-02, -6.7713e-03, -3.0719e-02, -1.0676e-02,\n",
            "         7.6892e-02,  5.9257e-02,  3.4055e-02,  4.4693e-02,  8.9955e-03,\n",
            "         2.4926e-02, -1.2824e-02,  2.5866e-02,  1.0543e-02,  2.4613e-02,\n",
            "         4.3472e-02,  1.0883e-03,  1.2607e-02,  2.9882e-02,  1.3305e-03,\n",
            "        -5.8846e-02, -2.0141e-02, -2.6976e-02, -1.0805e-02, -4.1158e-03,\n",
            "         1.1433e-02, -3.0854e-02,  1.8570e-02, -2.0551e-02,  4.8678e-02,\n",
            "        -1.2351e-02,  3.0883e-02, -3.2535e-02, -6.7054e-03, -9.5415e-03,\n",
            "        -2.4169e-03, -6.9290e-02, -4.7231e-03, -2.7623e-02,  3.8537e-02,\n",
            "         1.7949e-03,  1.1490e-02,  3.3578e-02, -2.6909e-02, -3.1870e-03,\n",
            "         9.9775e-03,  4.2577e-02, -3.4639e-02, -3.3038e-02, -1.9446e-02,\n",
            "         2.5434e-02, -1.1677e-02,  1.1781e-02, -1.8957e-02,  8.4589e-02,\n",
            "         2.0955e-02, -1.7350e-02,  6.2843e-02, -3.1316e-02, -2.8095e-02,\n",
            "        -1.4703e-02, -2.3356e-02,  1.8563e-03,  6.3526e-02,  1.2411e-02,\n",
            "         2.0034e-02, -2.3286e-02,  2.6844e-02, -1.0035e-02,  3.0847e-02,\n",
            "        -4.4530e-02,  1.7452e-02,  1.3620e-02,  5.4057e-02,  4.3345e-03,\n",
            "        -2.4986e-02,  1.5457e-02, -5.1623e-04, -1.7127e-02, -3.6423e-02,\n",
            "        -1.6496e-03, -1.6485e-02,  1.1671e-02, -2.3279e-02,  6.2205e-02,\n",
            "         1.3209e-02,  4.7967e-03, -1.0559e-02,  7.5891e-02, -8.3234e-03,\n",
            "         3.9007e-02,  9.8488e-02,  1.9433e-03,  3.4651e-02,  3.3243e-02,\n",
            "         5.7275e-03,  3.1845e-02,  1.5615e-02,  6.0453e-02, -6.0588e-02,\n",
            "         1.3384e-02, -1.0922e-02, -1.0042e-02, -4.3092e-02, -5.4696e-02,\n",
            "         4.0732e-02,  3.0470e-02,  3.2316e-02, -2.1646e-02,  2.4172e-02,\n",
            "         3.3988e-02, -3.5056e-02, -2.5253e-04,  7.2926e-02, -1.2991e-02,\n",
            "         1.5156e-02,  3.6692e-02,  1.4519e-02,  1.2705e-04, -2.9604e-02,\n",
            "        -3.8144e-02,  3.4125e-03, -1.8904e-02,  1.4166e-01,  3.8340e-02,\n",
            "        -3.2237e-02, -6.2282e-02, -1.3343e-02,  3.3106e-02, -1.5268e-02,\n",
            "         2.4375e-02,  1.7211e-02,  1.7897e-02, -1.1398e-02, -7.8207e-02,\n",
            "         6.1106e-02, -4.4782e-02, -4.0924e-02,  4.1574e-02,  3.4479e-02,\n",
            "         4.8234e-02, -6.0539e-02,  6.3334e-02, -4.4215e-02,  1.8816e-02,\n",
            "        -3.5494e-02,  8.1043e-02, -2.5741e-02, -3.7495e-02, -1.9426e-02,\n",
            "        -2.1988e-02, -5.9000e-03, -8.2089e-04,  2.4476e-02,  7.0772e-02,\n",
            "         1.2273e-02,  1.8324e-02,  3.2623e-02, -3.7671e-02, -2.9383e-02,\n",
            "        -1.5022e-02, -2.0360e-02, -3.9179e-02,  6.5574e-03, -7.0606e-02,\n",
            "         1.8496e-02, -7.6623e-02, -5.6808e-04, -5.9888e-02,  2.9549e-02,\n",
            "         2.1226e-02,  3.2644e-02, -6.4882e-02, -3.0371e-02, -2.7537e-02,\n",
            "         7.9388e-02,  3.6847e-02,  1.7547e-02, -5.8018e-02, -3.6331e-02,\n",
            "         2.2057e-02, -2.3862e-02, -2.4323e-02, -5.7983e-02, -2.2196e-02,\n",
            "        -3.2967e-02, -9.8784e-03,  1.8573e-02,  1.5040e-02,  3.6090e-02,\n",
            "        -2.5156e-03, -9.3696e-03, -4.6166e-02, -3.5727e-03,  2.3028e-02,\n",
            "         8.2053e-02,  5.9510e-02,  1.9389e-02, -1.0627e-02,  1.9567e-02,\n",
            "         2.7727e-02,  1.8121e-03,  1.7517e-02,  1.8042e-02,  3.7800e-02,\n",
            "         1.5288e-02,  9.0678e-02, -3.1417e-02,  3.3352e-02,  1.6159e-02,\n",
            "        -3.1183e-03,  1.3615e-02, -4.6608e-02,  3.0381e-02, -4.8310e-02,\n",
            "        -1.4342e-03, -6.2164e-02,  3.7163e-02,  2.8051e-02, -2.9802e-02,\n",
            "        -8.1299e-04, -9.0307e-03,  1.9003e-02,  4.0326e-02,  1.4489e-02,\n",
            "         4.6201e-03, -2.0859e-02, -3.7305e-02, -1.6462e-02, -3.5830e-02,\n",
            "         7.7307e-03, -6.4316e-02, -1.1976e-02, -6.7384e-02,  2.5838e-02,\n",
            "        -7.7196e-03,  3.2081e-02, -2.9710e-02, -1.0274e-03, -7.9514e-03,\n",
            "        -5.6460e-03, -1.2112e-02,  2.0940e-02, -2.1244e-02,  1.8806e-02,\n",
            "        -2.2513e-02,  8.1734e-02, -2.9323e-02, -2.1570e-02,  1.5543e-02,\n",
            "        -6.4664e-04,  1.6969e-02, -6.1492e-02,  4.2665e-02,  8.4237e-03,\n",
            "        -6.9401e-02,  1.3843e-01, -5.5744e-03, -4.6220e-02,  2.8078e-02,\n",
            "         3.0558e-02,  1.0517e-01, -3.6930e-02,  6.8529e-02,  1.5392e-02,\n",
            "        -1.3170e-02,  3.0002e-02,  3.9594e-03,  1.3590e-02, -8.0376e-03,\n",
            "         5.7414e-02, -1.8390e-02, -4.1678e-03, -1.8880e-02, -2.2545e-02,\n",
            "         1.2811e-02,  9.5097e-03, -5.3976e-04,  4.5587e-02,  3.3898e-02,\n",
            "        -4.4994e-03,  2.7941e-02, -3.1764e-02,  8.8511e-02,  2.5467e-02,\n",
            "        -2.9931e-02, -7.0707e-02,  3.9257e-04, -9.0972e-03, -1.0150e-02,\n",
            "        -1.2039e-03,  6.1596e-02, -2.7441e-02, -7.3495e-02, -1.9394e-02,\n",
            "        -7.1208e-03, -1.2348e-03,  1.5685e-02,  8.7989e-04,  7.0317e-02,\n",
            "         2.8974e-02,  5.8345e-02,  2.0771e-02,  2.2902e-02, -1.1509e-02,\n",
            "        -2.5126e-02,  3.2405e-02, -3.0838e-02, -4.3906e-02, -1.0361e-02,\n",
            "         1.5342e-02,  3.5379e-03, -1.7092e-05,  5.7871e-02, -1.3826e-02,\n",
            "         3.0950e-02, -4.8454e-02, -8.3117e-05, -2.2269e-02, -2.8845e-02,\n",
            "        -1.9686e-02,  6.9728e-02, -1.5283e-02, -1.3013e-02,  3.7086e-02,\n",
            "         8.2605e-03, -1.2317e-02,  1.8759e-02, -3.2725e-02, -1.9608e-02,\n",
            "         2.2853e-02, -3.6527e-02, -3.9621e-02, -2.5517e-02,  8.7687e-03,\n",
            "        -6.2642e-02, -3.0922e-02,  4.9117e-03, -1.2095e-02, -4.3333e-02,\n",
            "        -1.4690e-02,  3.5963e-02,  1.8329e-02, -5.6556e-04,  1.5680e-03,\n",
            "         6.2381e-03, -2.9211e-02,  3.8677e-02,  4.1939e-02,  8.2724e-03,\n",
            "        -2.1289e-02,  9.6049e-02,  3.9842e-02,  4.3559e-03,  1.8674e-03,\n",
            "         1.3585e-02,  3.4388e-03, -3.9773e-02, -1.3551e-02, -3.8499e-02,\n",
            "        -2.6911e-03,  3.3419e-02, -2.2773e-02, -7.0465e-02,  7.2566e-02,\n",
            "         2.2076e-02, -9.9818e-04,  5.7081e-02, -6.0449e-02, -3.4884e-02,\n",
            "        -5.3706e-03,  6.5985e-03, -3.0128e-02, -8.0813e-05, -4.0370e-02,\n",
            "        -3.6607e-03, -1.3815e-02,  3.9729e-02, -2.7932e-02, -7.5994e-03,\n",
            "        -5.3162e-02, -4.5002e-03,  9.6233e-03,  6.3293e-02,  4.1885e-02,\n",
            "        -1.3549e-02,  3.5338e-03, -1.4391e-02,  4.9163e-02, -3.1839e-02,\n",
            "        -7.3705e-02, -1.8803e-02,  9.3764e-03,  8.3940e-03,  9.8424e-03,\n",
            "        -9.6026e-03, -3.1291e-02, -2.4736e-02], requires_grad=True), Parameter containing:\n",
            "tensor([[-0.0258,  0.0081, -0.0072,  ...,  0.0060,  0.0164,  0.0386],\n",
            "        [ 0.0319,  0.0338,  0.0089,  ..., -0.0438, -0.0161,  0.0162],\n",
            "        [-0.0298, -0.0287, -0.0267,  ...,  0.0444,  0.0182,  0.0021],\n",
            "        ...,\n",
            "        [ 0.0355, -0.0485,  0.0045,  ...,  0.0387, -0.0140, -0.0186],\n",
            "        [-0.0101,  0.0152,  0.0082,  ..., -0.0052,  0.0106,  0.0434],\n",
            "        [ 0.0346,  0.0437, -0.0384,  ...,  0.0454,  0.0128, -0.0146]],\n",
            "       requires_grad=True), Parameter containing:\n",
            "tensor([ 0.0206, -0.0046,  0.0843, -0.0284,  0.0433,  0.0147, -0.0824, -0.0081,\n",
            "         0.0353,  0.0435,  0.0106,  0.0244,  0.0010, -0.0620, -0.0463,  0.0176,\n",
            "        -0.0023,  0.0155,  0.0061,  0.1103,  0.0051, -0.0012,  0.0411, -0.0383,\n",
            "         0.0108, -0.0238,  0.0400,  0.0163,  0.0542, -0.0469,  0.0510,  0.0632,\n",
            "         0.0184,  0.0854,  0.0021, -0.0029,  0.0507, -0.0568,  0.0332,  0.0138,\n",
            "        -0.0264, -0.0039, -0.0115,  0.1460, -0.1088, -0.0017,  0.0363, -0.0820,\n",
            "         0.0207, -0.0305, -0.0383,  0.0623, -0.0192, -0.0532, -0.0137, -0.0275,\n",
            "        -0.0052, -0.0219,  0.0191,  0.0135, -0.0364, -0.0345, -0.0180,  0.0063,\n",
            "         0.0526,  0.0699,  0.0120,  0.0409,  0.0225,  0.1155, -0.0479, -0.0315,\n",
            "         0.0494,  0.0585,  0.0543,  0.0151,  0.0300,  0.0270, -0.0026,  0.0494,\n",
            "        -0.0021, -0.0024, -0.0008,  0.0317, -0.0211,  0.1285, -0.0783,  0.0151,\n",
            "        -0.0132, -0.0240, -0.0325,  0.0086,  0.0328,  0.0924,  0.0267,  0.0223,\n",
            "         0.0270, -0.0016,  0.0080, -0.0111,  0.0056,  0.0262, -0.0176,  0.0391,\n",
            "         0.0744, -0.0793, -0.0447,  0.0104,  0.0316,  0.0568, -0.0480,  0.0132,\n",
            "        -0.0086, -0.0509, -0.0407], requires_grad=True), Parameter containing:\n",
            "tensor([[-0.0604,  0.0810,  0.0448,  0.0193,  0.0490,  0.0275, -0.0378, -0.0388,\n",
            "          0.0728,  0.0484,  0.0241,  0.0410, -0.0124, -0.0225,  0.0160, -0.0576,\n",
            "          0.0561,  0.0843, -0.0046,  0.0249, -0.0377, -0.0589, -0.1362, -0.0904,\n",
            "          0.0011, -0.0628,  0.0315,  0.0091,  0.0241, -0.0060,  0.0499,  0.0809,\n",
            "          0.0116,  0.0852, -0.0167, -0.0308,  0.0594, -0.0773,  0.0101,  0.0884,\n",
            "          0.0086, -0.0659, -0.0645,  0.0647, -0.0404,  0.0164,  0.0211, -0.0522,\n",
            "         -0.0694,  0.0007, -0.0003, -0.1008,  0.0061,  0.0001,  0.0558, -0.0150,\n",
            "         -0.0540, -0.0108, -0.0678,  0.0072, -0.0210, -0.0380, -0.0949, -0.0270,\n",
            "          0.0856,  0.0821,  0.0121,  0.0556, -0.0124,  0.0678, -0.0748,  0.0277,\n",
            "          0.0315,  0.0738,  0.0234,  0.0486, -0.0038,  0.0257,  0.0117,  0.0458,\n",
            "         -0.0677,  0.0767,  0.0554,  0.1115,  0.0447,  0.0258, -0.0577,  0.0782,\n",
            "         -0.0220, -0.0108, -0.0527,  0.0295,  0.0346,  0.0299,  0.0021,  0.0740,\n",
            "          0.0621, -0.0603, -0.0007,  0.0571, -0.0259, -0.0586, -0.0432,  0.0106,\n",
            "          0.1041, -0.0187,  0.0526,  0.0600,  0.1210,  0.0411,  0.0387,  0.0655,\n",
            "         -0.0766, -0.0443, -0.0306]], requires_grad=True), Parameter containing:\n",
            "tensor([0.0493], requires_grad=True)]\n"
          ]
        }
      ],
      "source": [
        "#%%script echo skipping\n",
        "\n",
        "print(list(net.parameters()))"
      ]
    },
    {
      "cell_type": "code",
      "execution_count": 47,
      "metadata": {
        "colab": {
          "base_uri": "https://localhost:8080/"
        },
        "id": "1NZ8iVA7UZio",
        "outputId": "6341def7-b7e7-44eb-c91f-edbe1d22ca1d"
      },
      "outputs": [
        {
          "name": "stdout",
          "output_type": "stream",
          "text": [
            "[Parameter containing:\n",
            "tensor([[-0.4057,  0.0853,  0.1045,  ..., -0.2622,  0.1262,  0.3833],\n",
            "        [-0.3349,  0.0065,  0.2322,  ...,  0.1327,  0.3502, -0.1650],\n",
            "        [-0.0728,  0.1868, -0.2430,  ..., -0.2567, -0.0225, -0.2032],\n",
            "        ...,\n",
            "        [ 0.1912,  0.2408,  0.2049,  ...,  0.2420, -0.0606,  0.1490],\n",
            "        [ 0.3185,  0.1350, -0.0706,  ..., -0.3900, -0.0398,  0.2514],\n",
            "        [-0.0196,  0.1543, -0.2397,  ...,  0.3524, -0.1953,  0.1538]],\n",
            "       requires_grad=True), Parameter containing:\n",
            "tensor([ 1.4569e-01,  2.9067e-01,  1.7971e-01,  1.8238e-01,  1.0324e-01,\n",
            "         1.4143e-01, -2.3459e-01,  4.7142e-02, -4.8064e-01,  2.0418e-01,\n",
            "        -1.8808e-01, -2.9384e-01, -3.2709e-01,  1.4821e-01,  3.1645e-01,\n",
            "        -2.9127e-02, -2.6578e-01,  1.0904e-01, -4.3289e-01,  2.9063e-01,\n",
            "         3.0498e-01,  1.6083e-01,  2.6808e-01,  1.5021e-01,  1.4630e-01,\n",
            "        -4.1778e-01, -3.3723e-02, -2.5334e-01,  4.2847e-02, -8.4786e-02,\n",
            "         3.5787e-01, -3.0307e-01, -3.3591e-01, -3.4792e-01,  1.0841e-01,\n",
            "        -1.8999e-01, -5.5871e-02,  8.0344e-02,  7.9941e-02,  1.5581e-01,\n",
            "        -1.9626e-01,  1.3446e-01, -1.4025e-01,  2.6748e-01, -2.7530e-01,\n",
            "         2.9468e-02, -2.1768e-01,  1.2232e-01, -2.1520e-01,  2.4657e-01,\n",
            "        -9.4130e-02,  5.7133e-02, -2.5056e-01, -2.8322e-01,  1.2604e-01,\n",
            "        -3.1179e-01, -1.6460e-02, -1.8545e-01,  1.6068e-02,  3.1092e-01,\n",
            "        -2.2827e-01, -2.5410e-01,  7.7010e-02,  1.4257e-01, -4.2871e-02,\n",
            "        -2.1349e-01, -3.2999e-01,  7.9912e-02,  9.3848e-02, -2.4230e-01,\n",
            "        -8.9702e-02, -1.9458e-01,  2.4352e-01,  2.9026e-01, -7.8707e-02,\n",
            "        -9.0663e-02, -1.6133e-01,  2.8793e-02, -7.0722e-02,  2.7960e-01,\n",
            "        -1.9085e-01, -1.7473e-01, -6.3323e-02,  1.4545e-01,  1.5550e-01,\n",
            "        -3.0756e-01, -8.2556e-02, -1.1804e-01,  2.5574e-01,  3.2163e-01,\n",
            "        -1.7498e-01, -3.0370e-01, -2.5011e-01,  6.0018e-02, -7.6007e-02,\n",
            "        -2.4682e-01, -1.8276e-01,  1.6807e-01,  2.6447e-01, -1.0160e-01,\n",
            "         9.9577e-02, -3.4362e-01,  1.0954e-01,  3.3399e-01, -2.9942e-01,\n",
            "        -9.4958e-02,  3.7162e-03, -3.3711e-01,  8.0037e-02, -2.1901e-01,\n",
            "         2.2648e-01, -3.2797e-01, -1.3500e-01,  1.6773e-01, -9.2669e-02,\n",
            "        -9.6449e-02,  2.8655e-01, -2.2537e-01,  2.0385e-01,  2.1369e-01,\n",
            "         3.6498e-01, -1.4701e-01,  3.2135e-01, -1.2971e-01,  1.2143e-01,\n",
            "        -9.3318e-02,  3.7231e-01,  3.4187e-02,  1.2733e-01, -2.3081e-01,\n",
            "        -2.1156e-01, -1.5881e-01,  3.0913e-02,  3.5341e-01,  7.7968e-02,\n",
            "         3.0624e-01, -1.0312e-01, -3.4738e-01,  1.1155e-01, -1.9275e-01,\n",
            "        -3.2484e-01,  1.4504e-01, -3.5249e-01,  3.4150e-01, -2.7467e-01,\n",
            "        -1.0036e-01, -2.9437e-01,  2.7845e-01,  1.8962e-01, -2.1894e-01,\n",
            "         4.1389e-02,  3.1021e-01,  1.3016e-01, -2.7940e-02, -1.2891e-01,\n",
            "        -3.2789e-01, -2.4757e-01, -1.9273e-01, -2.9906e-02,  1.1329e-01,\n",
            "        -3.1921e-01,  4.0972e-02, -4.9422e-01,  1.8457e-01,  2.5603e-01,\n",
            "        -1.6027e-01,  2.2842e-02, -2.4151e-01,  3.1048e-01, -2.8990e-02,\n",
            "        -6.1283e-02,  2.0813e-01,  8.3441e-02, -1.7113e-01,  2.0578e-01,\n",
            "         1.4385e-01,  3.5689e-01, -2.4940e-01,  3.6135e-01, -1.5855e-01,\n",
            "         2.2731e-01,  1.4052e-01, -3.0545e-01, -3.2962e-01,  2.6877e-01,\n",
            "         3.2580e-02,  1.4543e-01, -2.9929e-01,  3.3779e-01,  3.1255e-01,\n",
            "         3.1138e-01,  1.7625e-01, -3.5304e-01,  3.0485e-01,  2.0831e-01,\n",
            "         2.2335e-01,  7.9481e-02, -1.3961e-01,  1.9350e-01, -1.2289e-01,\n",
            "         8.9379e-02, -1.4901e-01,  7.6879e-02, -1.3345e-01, -4.2026e-01,\n",
            "         3.4011e-01, -3.0382e-01, -1.2188e-01,  7.1043e-02,  3.2251e-01,\n",
            "         2.8302e-01, -1.5265e-01,  1.3894e-01, -2.6782e-01, -3.0290e-01,\n",
            "         2.3901e-01, -2.7037e-01, -2.8632e-01, -7.0447e-02, -3.9277e-01,\n",
            "        -1.7516e-01, -7.1114e-02, -2.7737e-01,  1.4307e-01, -3.1179e-01,\n",
            "        -3.1652e-01, -2.3803e-01, -1.2602e-02, -6.3063e-03, -4.6521e-02,\n",
            "        -4.2930e-02,  1.7181e-01,  2.2514e-01, -2.5506e-01,  2.0062e-01,\n",
            "         3.3110e-01,  1.3026e-01, -3.7533e-02,  1.6677e-01,  2.7545e-01,\n",
            "         3.2129e-01, -1.7397e-01,  2.7573e-01, -1.2305e-01,  2.2985e-01,\n",
            "         2.3221e-01, -2.8851e-01,  2.8558e-01, -2.5720e-01, -2.6233e-01,\n",
            "        -1.6922e-01, -9.7955e-02,  2.8877e-01,  3.3644e-02, -2.9571e-01,\n",
            "         8.4706e-02,  2.1651e-01, -1.7574e-01, -7.9549e-02, -6.8898e-02,\n",
            "         4.0827e-02,  3.0210e-02,  1.2545e-01,  2.6455e-01, -2.6090e-01,\n",
            "         4.3394e-02,  2.6881e-01,  2.4760e-02,  2.3125e-01,  3.3739e-02,\n",
            "        -3.1438e-01,  5.4868e-02,  1.0289e-03, -3.1890e-01, -1.6133e-01,\n",
            "        -3.9977e-01, -3.3707e-01, -2.6288e-01, -3.0395e-01, -2.6351e-01,\n",
            "         1.1268e-01, -3.9029e-01, -1.8765e-01, -7.2038e-02,  3.8241e-02,\n",
            "        -1.3353e-01, -1.8647e-01,  1.7465e-01, -1.5506e-01,  4.6123e-02,\n",
            "        -2.0791e-01, -6.8103e-02,  2.7463e-01, -3.9124e-01, -1.6742e-01,\n",
            "         2.5787e-01, -2.6105e-01, -5.9944e-02, -3.5725e-01, -1.8149e-01,\n",
            "        -1.6292e-01, -3.6410e-01,  6.3902e-02, -9.3916e-02,  1.6482e-01,\n",
            "         3.8983e-02,  1.4329e-01,  8.5455e-02,  2.4284e-01, -1.6335e-01,\n",
            "         2.0875e-01, -4.1121e-02, -1.4244e-01, -9.0048e-02,  2.5477e-01,\n",
            "         2.8408e-01,  3.8072e-01,  5.5636e-02, -9.6598e-02, -6.9167e-02,\n",
            "        -3.5547e-01, -3.5053e-01, -2.1393e-01, -6.0591e-02, -3.0013e-02,\n",
            "         4.2235e-01,  2.5048e-01,  2.5137e-01, -1.8514e-02, -1.2458e-01,\n",
            "        -9.0562e-02, -1.8527e-01, -3.4775e-01,  2.8569e-01, -1.7181e-01,\n",
            "         2.9554e-01, -1.7440e-01, -9.7921e-02,  1.1962e-01,  7.3056e-02,\n",
            "         3.5616e-01, -2.5133e-01, -3.3419e-01, -2.1993e-01,  1.9410e-01,\n",
            "         4.1865e-02,  3.5803e-01,  2.4566e-01, -2.5811e-01,  8.5029e-02,\n",
            "         1.1777e-01,  1.1729e-01, -3.1566e-01,  2.3266e-01,  2.6060e-01,\n",
            "         2.4519e-01,  1.0263e-01,  2.9895e-01,  2.0872e-01, -2.8710e-01,\n",
            "        -1.8307e-01,  8.4590e-02,  3.5503e-02, -2.3332e-01,  2.3900e-01,\n",
            "        -1.0615e-01,  3.1680e-02, -3.4486e-01, -2.9052e-01,  1.4291e-01,\n",
            "         3.5806e-01,  2.1391e-01,  3.0581e-01,  2.1989e-01, -6.3889e-02,\n",
            "         1.9371e-01,  5.2500e-02, -2.8096e-01,  1.7728e-01,  9.3633e-02,\n",
            "         5.0585e-02, -8.3106e-02, -1.4922e-01, -8.6905e-02,  3.4967e-01,\n",
            "        -3.3388e-02,  2.9842e-01, -3.6870e-02, -1.2404e-01,  3.0662e-02,\n",
            "        -3.3342e-01,  3.0550e-01, -2.8140e-01,  1.2282e-01, -2.9275e-01,\n",
            "         3.2160e-01,  2.7340e-01, -1.3697e-01, -3.9315e-01,  1.1702e-01,\n",
            "         8.9233e-02, -1.5039e-01, -8.2163e-02,  2.5467e-01, -3.2771e-01,\n",
            "        -3.7263e-01, -1.9566e-01,  7.0774e-02,  1.7113e-01,  3.4971e-01,\n",
            "        -2.7917e-01, -3.9479e-04, -1.9132e-01, -4.0105e-01, -2.7954e-01,\n",
            "        -2.2972e-01, -8.3681e-02,  1.7554e-01, -2.7710e-01,  9.2900e-02,\n",
            "        -3.1095e-01,  2.0330e-01,  2.8726e-01, -2.7974e-02,  4.4337e-02,\n",
            "        -3.5044e-01,  1.0177e-01,  2.4462e-01,  2.5784e-01,  2.1025e-01,\n",
            "        -1.9922e-01, -1.7503e-01,  1.7509e-01, -1.8552e-01, -3.3017e-02,\n",
            "         1.9085e-02, -1.9718e-02,  3.1469e-01, -2.3510e-01, -1.4207e-01,\n",
            "         2.1152e-02,  6.4927e-03, -1.0791e-01, -1.1205e-01,  2.0790e-01,\n",
            "         1.1432e-01, -5.5399e-03,  2.3169e-01, -1.0798e-02, -1.7286e-01,\n",
            "        -1.7693e-01, -3.8588e-01,  5.2753e-02, -2.8008e-01, -1.2914e-01,\n",
            "         5.6023e-02, -6.2004e-02,  2.5335e-01, -2.9484e-01,  1.0126e-01,\n",
            "        -5.4929e-02,  1.5612e-01,  1.0711e-01,  3.7629e-04,  1.0482e-01,\n",
            "        -3.6220e-02, -1.6622e-01, -5.4833e-02, -2.7992e-01,  1.6709e-01,\n",
            "        -5.2113e-02, -4.5888e-02,  2.8048e-01,  2.7958e-01,  1.5544e-01,\n",
            "        -2.3979e-01,  2.1969e-01,  3.1008e-01, -1.5633e-01, -4.9783e-02,\n",
            "         1.5633e-01, -2.1728e-01,  3.7639e-01, -1.3671e-02,  2.8756e-01,\n",
            "        -8.3864e-02, -1.6541e-01, -2.3910e-01,  1.8922e-01, -2.3980e-02,\n",
            "         2.5094e-01, -2.4160e-01,  2.8798e-01, -2.6061e-01, -7.6656e-02,\n",
            "         2.9979e-01,  1.1244e-01,  3.1374e-02, -2.8934e-01, -1.0323e-01,\n",
            "        -1.6866e-01,  1.5578e-01, -1.2357e-01,  3.1356e-01,  2.2470e-01,\n",
            "        -9.2245e-02, -2.6935e-01,  6.8111e-02, -3.0066e-01,  1.4911e-01,\n",
            "        -3.8291e-01, -3.3229e-01, -2.1477e-01, -8.0952e-02, -2.4836e-01,\n",
            "         3.3666e-01, -1.3550e-01,  2.1038e-02,  2.2949e-01, -2.8922e-01,\n",
            "        -3.6387e-02,  8.1903e-02,  2.1531e-01, -2.1526e-01, -1.0838e-01,\n",
            "         1.2150e-01, -1.8574e-04, -2.2879e-01, -2.6384e-01,  2.4963e-03,\n",
            "        -4.7554e-04,  2.8535e-01, -3.7876e-01, -4.9083e-02, -1.8673e-01,\n",
            "        -3.7885e-01, -6.3526e-02,  1.1622e-01,  1.3676e-01,  5.7096e-02,\n",
            "        -1.2431e-01,  3.0949e-01,  1.5863e-01, -3.0767e-01, -5.0584e-01,\n",
            "         7.6032e-02, -2.3373e-02, -2.7718e-02,  2.2129e-01,  2.8212e-01,\n",
            "         5.7076e-02,  3.2933e-01,  1.6396e-01,  4.2130e-02, -2.5214e-01],\n",
            "       requires_grad=True), Parameter containing:\n",
            "tensor([[ 0.0110, -0.0031, -0.0287,  ..., -0.0425, -0.0249, -0.0378],\n",
            "        [ 0.0117, -0.0369, -0.0110,  ..., -0.0267,  0.0444,  0.0520],\n",
            "        [ 0.0261,  0.0624,  0.0271,  ...,  0.0311, -0.0248, -0.0409],\n",
            "        ...,\n",
            "        [ 0.0031, -0.0345, -0.0332,  ..., -0.0333,  0.0104, -0.0235],\n",
            "        [ 0.0098,  0.0538, -0.0344,  ..., -0.0066, -0.0036, -0.0107],\n",
            "        [ 0.0372, -0.0632,  0.0227,  ...,  0.0154, -0.0164,  0.0259]],\n",
            "       requires_grad=True), Parameter containing:\n",
            "tensor([-5.1594e-02, -7.9950e-03,  2.9671e-03,  4.9011e-02,  2.3344e-02,\n",
            "        -2.7516e-02,  1.1932e-01, -5.0092e-02,  3.2811e-02, -2.6396e-03,\n",
            "        -1.8223e-02, -2.7163e-04, -4.5939e-02,  5.0950e-02, -5.8473e-03,\n",
            "         1.5854e-02,  1.8027e-02,  5.7851e-02,  1.5937e-02,  2.2429e-03,\n",
            "        -8.5853e-03,  5.6874e-03,  8.1906e-02,  7.2673e-02, -4.3574e-02,\n",
            "         2.0994e-02,  1.1550e-01, -2.0447e-02, -3.7429e-02, -1.0999e-02,\n",
            "        -7.6340e-03,  5.0653e-02,  2.5771e-02, -2.8184e-02, -2.1999e-02,\n",
            "         5.5615e-02, -4.0878e-02,  2.0583e-02, -2.5222e-02, -4.3474e-02,\n",
            "         4.3963e-02,  1.5148e-02,  6.4760e-02, -2.5253e-02,  3.2094e-02,\n",
            "        -6.6502e-02,  3.0567e-02,  3.2863e-02,  4.0844e-02, -1.4548e-02,\n",
            "        -1.5309e-02,  1.1523e-01, -2.1089e-02, -2.0761e-02,  4.8846e-03,\n",
            "        -3.5709e-03, -1.1826e-02,  1.5522e-03,  1.9651e-02, -1.6209e-02,\n",
            "         2.6455e-02,  3.7034e-02, -6.7713e-03, -3.0719e-02, -1.0676e-02,\n",
            "         7.6892e-02,  5.9257e-02,  3.4055e-02,  4.4693e-02,  8.9955e-03,\n",
            "         2.4926e-02, -1.2824e-02,  2.5866e-02,  1.0543e-02,  2.4613e-02,\n",
            "         4.3472e-02,  1.0883e-03,  1.2607e-02,  2.9882e-02,  1.3305e-03,\n",
            "        -5.8846e-02, -2.0141e-02, -2.6976e-02, -1.0805e-02, -4.1158e-03,\n",
            "         1.1433e-02, -3.0854e-02,  1.8570e-02, -2.0551e-02,  4.8678e-02,\n",
            "        -1.2351e-02,  3.0883e-02, -3.2535e-02, -6.7054e-03, -9.5415e-03,\n",
            "        -2.4169e-03, -6.9290e-02, -4.7231e-03, -2.7623e-02,  3.8537e-02,\n",
            "         1.7949e-03,  1.1490e-02,  3.3578e-02, -2.6909e-02, -3.1870e-03,\n",
            "         9.9775e-03,  4.2577e-02, -3.4639e-02, -3.3038e-02, -1.9446e-02,\n",
            "         2.5434e-02, -1.1677e-02,  1.1781e-02, -1.8957e-02,  8.4589e-02,\n",
            "         2.0955e-02, -1.7350e-02,  6.2843e-02, -3.1316e-02, -2.8095e-02,\n",
            "        -1.4703e-02, -2.3356e-02,  1.8563e-03,  6.3526e-02,  1.2411e-02,\n",
            "         2.0034e-02, -2.3286e-02,  2.6844e-02, -1.0035e-02,  3.0847e-02,\n",
            "        -4.4530e-02,  1.7452e-02,  1.3620e-02,  5.4057e-02,  4.3345e-03,\n",
            "        -2.4986e-02,  1.5457e-02, -5.1623e-04, -1.7127e-02, -3.6423e-02,\n",
            "        -1.6496e-03, -1.6485e-02,  1.1671e-02, -2.3279e-02,  6.2205e-02,\n",
            "         1.3209e-02,  4.7967e-03, -1.0559e-02,  7.5891e-02, -8.3234e-03,\n",
            "         3.9007e-02,  9.8488e-02,  1.9433e-03,  3.4651e-02,  3.3243e-02,\n",
            "         5.7275e-03,  3.1845e-02,  1.5615e-02,  6.0453e-02, -6.0588e-02,\n",
            "         1.3384e-02, -1.0922e-02, -1.0042e-02, -4.3092e-02, -5.4696e-02,\n",
            "         4.0732e-02,  3.0470e-02,  3.2316e-02, -2.1646e-02,  2.4172e-02,\n",
            "         3.3988e-02, -3.5056e-02, -2.5253e-04,  7.2926e-02, -1.2991e-02,\n",
            "         1.5156e-02,  3.6692e-02,  1.4519e-02,  1.2705e-04, -2.9604e-02,\n",
            "        -3.8144e-02,  3.4125e-03, -1.8904e-02,  1.4166e-01,  3.8340e-02,\n",
            "        -3.2237e-02, -6.2282e-02, -1.3343e-02,  3.3106e-02, -1.5268e-02,\n",
            "         2.4375e-02,  1.7211e-02,  1.7897e-02, -1.1398e-02, -7.8207e-02,\n",
            "         6.1106e-02, -4.4782e-02, -4.0924e-02,  4.1574e-02,  3.4479e-02,\n",
            "         4.8234e-02, -6.0539e-02,  6.3334e-02, -4.4215e-02,  1.8816e-02,\n",
            "        -3.5494e-02,  8.1043e-02, -2.5741e-02, -3.7495e-02, -1.9426e-02,\n",
            "        -2.1988e-02, -5.9000e-03, -8.2089e-04,  2.4476e-02,  7.0772e-02,\n",
            "         1.2273e-02,  1.8324e-02,  3.2623e-02, -3.7671e-02, -2.9383e-02,\n",
            "        -1.5022e-02, -2.0360e-02, -3.9179e-02,  6.5574e-03, -7.0606e-02,\n",
            "         1.8496e-02, -7.6623e-02, -5.6808e-04, -5.9888e-02,  2.9549e-02,\n",
            "         2.1226e-02,  3.2644e-02, -6.4882e-02, -3.0371e-02, -2.7537e-02,\n",
            "         7.9388e-02,  3.6847e-02,  1.7547e-02, -5.8018e-02, -3.6331e-02,\n",
            "         2.2057e-02, -2.3862e-02, -2.4323e-02, -5.7983e-02, -2.2196e-02,\n",
            "        -3.2967e-02, -9.8784e-03,  1.8573e-02,  1.5040e-02,  3.6090e-02,\n",
            "        -2.5156e-03, -9.3696e-03, -4.6166e-02, -3.5727e-03,  2.3028e-02,\n",
            "         8.2053e-02,  5.9510e-02,  1.9389e-02, -1.0627e-02,  1.9567e-02,\n",
            "         2.7727e-02,  1.8121e-03,  1.7517e-02,  1.8042e-02,  3.7800e-02,\n",
            "         1.5288e-02,  9.0678e-02, -3.1417e-02,  3.3352e-02,  1.6159e-02,\n",
            "        -3.1183e-03,  1.3615e-02, -4.6608e-02,  3.0381e-02, -4.8310e-02,\n",
            "        -1.4342e-03, -6.2164e-02,  3.7163e-02,  2.8051e-02, -2.9802e-02,\n",
            "        -8.1299e-04, -9.0307e-03,  1.9003e-02,  4.0326e-02,  1.4489e-02,\n",
            "         4.6201e-03, -2.0859e-02, -3.7305e-02, -1.6462e-02, -3.5830e-02,\n",
            "         7.7307e-03, -6.4316e-02, -1.1976e-02, -6.7384e-02,  2.5838e-02,\n",
            "        -7.7196e-03,  3.2081e-02, -2.9710e-02, -1.0274e-03, -7.9514e-03,\n",
            "        -5.6460e-03, -1.2112e-02,  2.0940e-02, -2.1244e-02,  1.8806e-02,\n",
            "        -2.2513e-02,  8.1734e-02, -2.9323e-02, -2.1570e-02,  1.5543e-02,\n",
            "        -6.4664e-04,  1.6969e-02, -6.1492e-02,  4.2665e-02,  8.4237e-03,\n",
            "        -6.9401e-02,  1.3843e-01, -5.5744e-03, -4.6220e-02,  2.8078e-02,\n",
            "         3.0558e-02,  1.0517e-01, -3.6930e-02,  6.8529e-02,  1.5392e-02,\n",
            "        -1.3170e-02,  3.0002e-02,  3.9594e-03,  1.3590e-02, -8.0376e-03,\n",
            "         5.7414e-02, -1.8390e-02, -4.1678e-03, -1.8880e-02, -2.2545e-02,\n",
            "         1.2811e-02,  9.5097e-03, -5.3976e-04,  4.5587e-02,  3.3898e-02,\n",
            "        -4.4994e-03,  2.7941e-02, -3.1764e-02,  8.8511e-02,  2.5467e-02,\n",
            "        -2.9931e-02, -7.0707e-02,  3.9257e-04, -9.0972e-03, -1.0150e-02,\n",
            "        -1.2039e-03,  6.1596e-02, -2.7441e-02, -7.3495e-02, -1.9394e-02,\n",
            "        -7.1208e-03, -1.2348e-03,  1.5685e-02,  8.7989e-04,  7.0317e-02,\n",
            "         2.8974e-02,  5.8345e-02,  2.0771e-02,  2.2902e-02, -1.1509e-02,\n",
            "        -2.5126e-02,  3.2405e-02, -3.0838e-02, -4.3906e-02, -1.0361e-02,\n",
            "         1.5342e-02,  3.5379e-03, -1.7092e-05,  5.7871e-02, -1.3826e-02,\n",
            "         3.0950e-02, -4.8454e-02, -8.3117e-05, -2.2269e-02, -2.8845e-02,\n",
            "        -1.9686e-02,  6.9728e-02, -1.5283e-02, -1.3013e-02,  3.7086e-02,\n",
            "         8.2605e-03, -1.2317e-02,  1.8759e-02, -3.2725e-02, -1.9608e-02,\n",
            "         2.2853e-02, -3.6527e-02, -3.9621e-02, -2.5517e-02,  8.7687e-03,\n",
            "        -6.2642e-02, -3.0922e-02,  4.9117e-03, -1.2095e-02, -4.3333e-02,\n",
            "        -1.4690e-02,  3.5963e-02,  1.8329e-02, -5.6556e-04,  1.5680e-03,\n",
            "         6.2381e-03, -2.9211e-02,  3.8677e-02,  4.1939e-02,  8.2724e-03,\n",
            "        -2.1289e-02,  9.6049e-02,  3.9842e-02,  4.3559e-03,  1.8674e-03,\n",
            "         1.3585e-02,  3.4388e-03, -3.9773e-02, -1.3551e-02, -3.8499e-02,\n",
            "        -2.6911e-03,  3.3419e-02, -2.2773e-02, -7.0465e-02,  7.2566e-02,\n",
            "         2.2076e-02, -9.9818e-04,  5.7081e-02, -6.0449e-02, -3.4884e-02,\n",
            "        -5.3706e-03,  6.5985e-03, -3.0128e-02, -8.0813e-05, -4.0370e-02,\n",
            "        -3.6607e-03, -1.3815e-02,  3.9729e-02, -2.7932e-02, -7.5994e-03,\n",
            "        -5.3162e-02, -4.5002e-03,  9.6233e-03,  6.3293e-02,  4.1885e-02,\n",
            "        -1.3549e-02,  3.5338e-03, -1.4391e-02,  4.9163e-02, -3.1839e-02,\n",
            "        -7.3705e-02, -1.8803e-02,  9.3764e-03,  8.3940e-03,  9.8424e-03,\n",
            "        -9.6026e-03, -3.1291e-02, -2.4736e-02], requires_grad=True), Parameter containing:\n",
            "tensor([[-0.0258,  0.0081, -0.0072,  ...,  0.0060,  0.0164,  0.0386],\n",
            "        [ 0.0319,  0.0338,  0.0089,  ..., -0.0438, -0.0161,  0.0162],\n",
            "        [-0.0298, -0.0287, -0.0267,  ...,  0.0444,  0.0182,  0.0021],\n",
            "        ...,\n",
            "        [ 0.0355, -0.0485,  0.0045,  ...,  0.0387, -0.0140, -0.0186],\n",
            "        [-0.0101,  0.0152,  0.0082,  ..., -0.0052,  0.0106,  0.0434],\n",
            "        [ 0.0346,  0.0437, -0.0384,  ...,  0.0454,  0.0128, -0.0146]],\n",
            "       requires_grad=True), Parameter containing:\n",
            "tensor([ 0.0206, -0.0046,  0.0843, -0.0284,  0.0433,  0.0147, -0.0824, -0.0081,\n",
            "         0.0353,  0.0435,  0.0106,  0.0244,  0.0010, -0.0620, -0.0463,  0.0176,\n",
            "        -0.0023,  0.0155,  0.0061,  0.1103,  0.0051, -0.0012,  0.0411, -0.0383,\n",
            "         0.0108, -0.0238,  0.0400,  0.0163,  0.0542, -0.0469,  0.0510,  0.0632,\n",
            "         0.0184,  0.0854,  0.0021, -0.0029,  0.0507, -0.0568,  0.0332,  0.0138,\n",
            "        -0.0264, -0.0039, -0.0115,  0.1460, -0.1088, -0.0017,  0.0363, -0.0820,\n",
            "         0.0207, -0.0305, -0.0383,  0.0623, -0.0192, -0.0532, -0.0137, -0.0275,\n",
            "        -0.0052, -0.0219,  0.0191,  0.0135, -0.0364, -0.0345, -0.0180,  0.0063,\n",
            "         0.0526,  0.0699,  0.0120,  0.0409,  0.0225,  0.1155, -0.0479, -0.0315,\n",
            "         0.0494,  0.0585,  0.0543,  0.0151,  0.0300,  0.0270, -0.0026,  0.0494,\n",
            "        -0.0021, -0.0024, -0.0008,  0.0317, -0.0211,  0.1285, -0.0783,  0.0151,\n",
            "        -0.0132, -0.0240, -0.0325,  0.0086,  0.0328,  0.0924,  0.0267,  0.0223,\n",
            "         0.0270, -0.0016,  0.0080, -0.0111,  0.0056,  0.0262, -0.0176,  0.0391,\n",
            "         0.0744, -0.0793, -0.0447,  0.0104,  0.0316,  0.0568, -0.0480,  0.0132,\n",
            "        -0.0086, -0.0509, -0.0407], requires_grad=True), Parameter containing:\n",
            "tensor([[-0.0604,  0.0810,  0.0448,  0.0193,  0.0490,  0.0275, -0.0378, -0.0388,\n",
            "          0.0728,  0.0484,  0.0241,  0.0410, -0.0124, -0.0225,  0.0160, -0.0576,\n",
            "          0.0561,  0.0843, -0.0046,  0.0249, -0.0377, -0.0589, -0.1362, -0.0904,\n",
            "          0.0011, -0.0628,  0.0315,  0.0091,  0.0241, -0.0060,  0.0499,  0.0809,\n",
            "          0.0116,  0.0852, -0.0167, -0.0308,  0.0594, -0.0773,  0.0101,  0.0884,\n",
            "          0.0086, -0.0659, -0.0645,  0.0647, -0.0404,  0.0164,  0.0211, -0.0522,\n",
            "         -0.0694,  0.0007, -0.0003, -0.1008,  0.0061,  0.0001,  0.0558, -0.0150,\n",
            "         -0.0540, -0.0108, -0.0678,  0.0072, -0.0210, -0.0380, -0.0949, -0.0270,\n",
            "          0.0856,  0.0821,  0.0121,  0.0556, -0.0124,  0.0678, -0.0748,  0.0277,\n",
            "          0.0315,  0.0738,  0.0234,  0.0486, -0.0038,  0.0257,  0.0117,  0.0458,\n",
            "         -0.0677,  0.0767,  0.0554,  0.1115,  0.0447,  0.0258, -0.0577,  0.0782,\n",
            "         -0.0220, -0.0108, -0.0527,  0.0295,  0.0346,  0.0299,  0.0021,  0.0740,\n",
            "          0.0621, -0.0603, -0.0007,  0.0571, -0.0259, -0.0586, -0.0432,  0.0106,\n",
            "          0.1041, -0.0187,  0.0526,  0.0600,  0.1210,  0.0411,  0.0387,  0.0655,\n",
            "         -0.0766, -0.0443, -0.0306]], requires_grad=True), Parameter containing:\n",
            "tensor([0.0493], requires_grad=True)]\n"
          ]
        }
      ],
      "source": [
        "print(list(net_loaded.parameters()))"
      ]
    },
    {
      "cell_type": "code",
      "execution_count": 48,
      "metadata": {
        "colab": {
          "base_uri": "https://localhost:8080/"
        },
        "id": "InGW0Xq6UZip",
        "outputId": "6c4a0e2c-b485-4362-b99d-7364dcf9443a"
      },
      "outputs": [
        {
          "data": {
            "text/plain": [
              "tensor([[1.3818e+01, 3.3645e+01, 3.6823e+01, 1.4206e+01, 4.8497e+01, 2.8485e-02,\n",
              "         8.2773e-02, 3.3022e-01],\n",
              "        [2.3668e+00, 3.0558e+00, 2.1785e-01, 3.8651e-01, 3.0695e+00, 7.2966e-01,\n",
              "         3.1255e-01, 7.2963e-01],\n",
              "        [7.9080e+00, 1.1653e+01, 2.1762e+01, 5.1116e+00, 2.6922e+01, 6.8971e-01,\n",
              "         5.1148e-01, 1.6609e-01],\n",
              "        [7.4988e+00, 7.2693e-01, 6.6598e+00, 4.3394e+00, 7.2074e+00, 6.9951e-01,\n",
              "         4.0067e-01, 9.9144e-01],\n",
              "        [1.2369e+01, 1.1342e+01, 1.8747e+01, 2.4539e+01, 2.8350e+01, 3.4607e-01,\n",
              "         9.8889e-01, 9.1964e-01],\n",
              "        [5.6269e-01, 9.6627e-01, 2.2368e+00, 5.6722e-01, 3.0459e+00, 5.0570e-01,\n",
              "         8.8955e-01, 3.1511e-01],\n",
              "        [8.8806e+00, 2.8868e+00, 6.2247e+00, 8.3957e+00, 1.0901e+01, 6.9849e-01,\n",
              "         6.6585e-01, 3.9647e-02],\n",
              "        [2.4981e+00, 1.4142e+00, 3.3640e+00, 4.2315e+00, 5.2198e+00, 3.7135e-01,\n",
              "         3.0569e-01, 2.7639e-01],\n",
              "        [1.4194e+01, 4.9919e+01, 3.2870e+01, 2.5839e+01, 6.3558e+01, 4.2122e-01,\n",
              "         6.3338e-01, 8.8795e-01],\n",
              "        [1.1804e+01, 5.4270e-01, 3.3546e+00, 1.2514e+01, 9.6485e+00, 2.6164e-01,\n",
              "         3.5385e-01, 3.5229e-01],\n",
              "        [4.5163e+00, 2.2221e+00, 1.0109e+01, 4.0998e+00, 1.3811e+01, 7.9107e-01,\n",
              "         9.8121e-01, 9.4859e-02],\n",
              "        [1.0945e+01, 6.3388e+00, 2.4871e+01, 1.5066e+01, 2.7636e+01, 8.0227e-01,\n",
              "         6.2369e-01, 3.0674e-01],\n",
              "        [1.0699e+01, 3.4387e+00, 4.7826e+00, 5.3977e+00, 5.9746e+00, 8.2234e-01,\n",
              "         2.7909e-01, 6.6213e-02],\n",
              "        [1.0386e+00, 3.8305e-01, 9.2104e-02, 2.5495e-01, 1.7386e+00, 9.9722e-01,\n",
              "         1.9448e-01, 4.7337e-01],\n",
              "        [4.0633e+00, 1.1236e+01, 3.0767e+00, 1.1672e+01, 1.5665e+01, 6.5352e-02,\n",
              "         5.7166e-01, 4.9504e-01],\n",
              "        [1.8355e+00, 5.6739e+00, 7.0316e+00, 3.9951e+00, 9.8116e+00, 7.7892e-02,\n",
              "         1.2753e-01, 6.8224e-01],\n",
              "        [4.5862e+00, 6.0026e-01, 3.5830e+00, 3.7609e+00, 3.5204e+00, 5.0608e-01,\n",
              "         3.1944e-01, 4.1831e-01],\n",
              "        [2.5149e+00, 5.1195e+00, 1.2437e+00, 1.5738e-01, 6.3992e+00, 4.7150e-01,\n",
              "         2.6652e-01, 2.6410e-01],\n",
              "        [6.3505e+00, 3.4759e-01, 4.2797e+00, 4.4078e+00, 1.2390e+01, 1.8119e-01,\n",
              "         2.8906e-01, 8.1329e-01],\n",
              "        [1.0381e+01, 1.5453e+00, 1.1304e+01, 1.1380e+01, 1.0454e+01, 5.2298e-01,\n",
              "         7.1223e-01, 5.9614e-01]])"
            ]
          },
          "execution_count": 48,
          "metadata": {},
          "output_type": "execute_result"
        }
      ],
      "source": [
        "rho_example, epsilon_example, vx_example, vy_example, vz_example, Bx_example, By_example, Bz_example, b0_example, b1_example, b2_example, b3_example = sample_primitive_variables(20)\n",
        "\n",
        "# Create arbitrary input\n",
        "inputs =  generate_input_data(rho_example, epsilon_example, vx_example, vy_example, vz_example, Bx_example, By_example, Bz_example, b0_example, b1_example, b2_example, b3_example)\n",
        "inputs"
      ]
    },
    {
      "cell_type": "code",
      "execution_count": 49,
      "metadata": {
        "colab": {
          "base_uri": "https://localhost:8080/"
        },
        "id": "QVa1upmFUZip",
        "outputId": "95a297df-88d8-4614-ffd7-ecc0cda58cf9"
      },
      "outputs": [
        {
          "data": {
            "text/plain": [
              "[tensor([[10.0552]], grad_fn=<ReluBackward0>),\n",
              " tensor([[0.4733]], grad_fn=<ReluBackward0>),\n",
              " tensor([[8.4092]], grad_fn=<ReluBackward0>),\n",
              " tensor([[1.7503]], grad_fn=<ReluBackward0>),\n",
              " tensor([[4.1629]], grad_fn=<ReluBackward0>),\n",
              " tensor([[0.3041]], grad_fn=<ReluBackward0>),\n",
              " tensor([[3.9964]], grad_fn=<ReluBackward0>),\n",
              " tensor([[1.2086]], grad_fn=<ReluBackward0>),\n",
              " tensor([[12.4472]], grad_fn=<ReluBackward0>),\n",
              " tensor([[2.7804]], grad_fn=<ReluBackward0>),\n",
              " tensor([[4.9868]], grad_fn=<ReluBackward0>),\n",
              " tensor([[6.0072]], grad_fn=<ReluBackward0>),\n",
              " tensor([[1.8534]], grad_fn=<ReluBackward0>),\n",
              " tensor([[0.3049]], grad_fn=<ReluBackward0>),\n",
              " tensor([[2.6930]], grad_fn=<ReluBackward0>),\n",
              " tensor([[1.6018]], grad_fn=<ReluBackward0>),\n",
              " tensor([[0.3891]], grad_fn=<ReluBackward0>),\n",
              " tensor([[2.5941]], grad_fn=<ReluBackward0>),\n",
              " tensor([[6.8697]], grad_fn=<ReluBackward0>),\n",
              " tensor([[0.3335]], grad_fn=<ReluBackward0>)]"
            ]
          },
          "execution_count": 49,
          "metadata": {},
          "output_type": "execute_result"
        }
      ],
      "source": [
        "#%%script echo skipping\n",
        "\n",
        "# Pass the inputs to the network and get the outputs\n",
        "outputs = [net(input.unsqueeze(0)) for input in inputs]\n",
        "# Print the outputs\n",
        "outputs"
      ]
    },
    {
      "cell_type": "code",
      "execution_count": 50,
      "metadata": {
        "colab": {
          "base_uri": "https://localhost:8080/"
        },
        "id": "E-Xjfo7VUZir",
        "outputId": "fb0478cb-bee3-429f-fdec-d99f11baf40f"
      },
      "outputs": [
        {
          "data": {
            "text/plain": [
              "[tensor([[10.0552]], grad_fn=<ReluBackward0>),\n",
              " tensor([[0.4733]], grad_fn=<ReluBackward0>),\n",
              " tensor([[8.4092]], grad_fn=<ReluBackward0>),\n",
              " tensor([[1.7503]], grad_fn=<ReluBackward0>),\n",
              " tensor([[4.1629]], grad_fn=<ReluBackward0>),\n",
              " tensor([[0.3041]], grad_fn=<ReluBackward0>),\n",
              " tensor([[3.9964]], grad_fn=<ReluBackward0>),\n",
              " tensor([[1.2086]], grad_fn=<ReluBackward0>),\n",
              " tensor([[12.4472]], grad_fn=<ReluBackward0>),\n",
              " tensor([[2.7804]], grad_fn=<ReluBackward0>),\n",
              " tensor([[4.9868]], grad_fn=<ReluBackward0>),\n",
              " tensor([[6.0072]], grad_fn=<ReluBackward0>),\n",
              " tensor([[1.8534]], grad_fn=<ReluBackward0>),\n",
              " tensor([[0.3049]], grad_fn=<ReluBackward0>),\n",
              " tensor([[2.6930]], grad_fn=<ReluBackward0>),\n",
              " tensor([[1.6018]], grad_fn=<ReluBackward0>),\n",
              " tensor([[0.3891]], grad_fn=<ReluBackward0>),\n",
              " tensor([[2.5941]], grad_fn=<ReluBackward0>),\n",
              " tensor([[6.8697]], grad_fn=<ReluBackward0>),\n",
              " tensor([[0.3335]], grad_fn=<ReluBackward0>)]"
            ]
          },
          "execution_count": 50,
          "metadata": {},
          "output_type": "execute_result"
        }
      ],
      "source": [
        "\n",
        "# Pass the inputs to the network and get the outputs\n",
        "outputs = [net_loaded(input.unsqueeze(0)) for input in inputs]\n",
        "# Print the outputs\n",
        "outputs"
      ]
    },
    {
      "cell_type": "markdown",
      "metadata": {
        "id": "xjpIvdybUZis"
      },
      "source": [
        "## Porting the model to C++"
      ]
    },
    {
      "cell_type": "code",
      "execution_count": 51,
      "metadata": {
        "colab": {
          "base_uri": "https://localhost:8080/"
        },
        "id": "VMlEd4RoUZis",
        "outputId": "d5bfc697-8c96-47bb-a08c-6fb26f463797"
      },
      "outputs": [
        {
          "data": {
            "text/plain": [
              "tensor([[ 0.1967,  0.7129,  2.1487,  1.5016, -0.0816,  1.0149,  1.3421, -1.6115]])"
            ]
          },
          "execution_count": 51,
          "metadata": {},
          "output_type": "execute_result"
        },
        {
          "data": {
            "text/plain": [
              "Net(\n",
              "  (hidden_activation): ReLU()\n",
              "  (output_activation): ReLU()\n",
              "  (layers): ModuleList(\n",
              "    (0): Linear(in_features=8, out_features=555, bias=True)\n",
              "    (1): Linear(in_features=555, out_features=458, bias=True)\n",
              "    (2): Linear(in_features=458, out_features=115, bias=True)\n",
              "    (3): Linear(in_features=115, out_features=1, bias=True)\n",
              "  )\n",
              ")"
            ]
          },
          "execution_count": 51,
          "metadata": {},
          "output_type": "execute_result"
        },
        {
          "name": "stderr",
          "output_type": "stream",
          "text": [
            "C:\\Users\\bvptr\\AppData\\Local\\Temp\\ipykernel_16796\\2739891698.py:53: TracerWarning: Converting a tensor to a Python boolean might cause the trace to be incorrect. We can't record the data flow of Python values, so this value will be treated as a constant in the future. This means that the trace might not generalize to other inputs!\n",
            "  assert x.shape[1] == 8, \"x must have shape (batch_size, 8)\"\n"
          ]
        },
        {
          "data": {
            "text/plain": [
              "tensor([[4.4180, 0.3737, 1.7859, 2.7931, 7.0171, 0.2756, 0.4577, 0.6574]])"
            ]
          },
          "execution_count": 51,
          "metadata": {},
          "output_type": "execute_result"
        },
        {
          "data": {
            "text/plain": [
              "tensor([[3.7838]], grad_fn=<ReluBackward0>)"
            ]
          },
          "execution_count": 51,
          "metadata": {},
          "output_type": "execute_result"
        }
      ],
      "source": [
        "import torch.jit\n",
        "\n",
        "# Creating a dummy input tensor of shape (1, 5) to trace the model\n",
        "dummy_input = torch.randn(1, 8).to(device)\n",
        "dummy_input\n",
        "\n",
        "# Ensure that net_loaded is in evaluation mode.\n",
        "net_loaded.eval()\n",
        "\n",
        "# Tracing the model using the torch.jit.trace function\n",
        "traced_model = torch.jit.trace(net_loaded, dummy_input)\n",
        "\n",
        "# Saving the traced model to a file named \"net.pt\"\n",
        "traced_model.save(\"net.pt\")\n",
        "save_file(\"net.pt\")\n",
        "\n",
        "example_input_to_validate_correct_export_and_import = generate_input_data(*sample_primitive_variables(1))\n",
        "example_input_to_validate_correct_export_and_import\n",
        "net_loaded(example_input_to_validate_correct_export_and_import)"
      ]
    }
  ],
  "metadata": {
    "accelerator": "GPU",
    "colab": {
      "gpuType": "T4",
      "provenance": [],
      "toc_visible": true
    },
    "gpuClass": "standard",
    "kernelspec": {
      "display_name": "bsc",
      "language": "python",
      "name": "python3"
    },
    "language_info": {
      "codemirror_mode": {
        "name": "ipython",
        "version": 3
      },
      "file_extension": ".py",
      "mimetype": "text/x-python",
      "name": "python",
      "nbconvert_exporter": "python",
      "pygments_lexer": "ipython3",
      "version": "3.11.3"
    },
    "orig_nbformat": 4
  },
  "nbformat": 4,
  "nbformat_minor": 0
}
