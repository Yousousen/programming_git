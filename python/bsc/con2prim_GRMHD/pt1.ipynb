{
  "cells": [
    {
      "attachments": {},
      "cell_type": "markdown",
      "metadata": {
        "id": "TPvB1xoSUZhR"
      },
      "source": [
        "# Neural network to learn conservative-to-primitive conversion in relativistic hydrodynamics"
      ]
    },
    {
      "attachments": {},
      "cell_type": "markdown",
      "metadata": {},
      "source": [
        "## How to use this notebook\n",
        "\n",
        "### Local installation\n",
        "\n",
        "1. Install required packages with `pip install -r requirements.txt` to your desired environment.\n",
        "2. If a script version of this notebook is desired, comment (not uncomment) the first line of `nbconvert` cell.\n",
        "\n",
        "### Colab installation\n",
        "\n",
        "1.  Comment (not uncomment) the first line of the drive mounting cell.\n",
        "2.  Comment (not uncomment) the first line of the `pip install` cell.\n",
        "\n",
        "<!-- - For colab we also want to set the runtime to GPU by clicking _Change runtime_ in the _Runtime_ menu, and -->\n",
        "<!-- - We want to wait for the google drive connection popup to appear and follow the instructions. -->\n",
        "\n",
        "### Training without optimization\n",
        "\n",
        "3. Set `OPTIMIZE = False` in section _Constants and flags to set_.\n",
        "4. Run the entire notebook.\n",
        "\n",
        "### Training with optimization\n",
        "\n",
        "3. Set `OPTIMIZE = True` in section _Constants and flags to set_.\n",
        "4. Run the entire notebook.\n",
        "\n",
        "### Loading an already trained model\n",
        "\n",
        "3. Run cells in section _Initialization_.\n",
        "4. Run cells with definitions in section _Generating the data_.\n",
        "5. Run cell with the definition of _Net_ in section _Defining the neural network_.\n",
        "6. Make sure the `net.pth`, `optimizer.pth`, `scheduler.pth`, `var_dict.json` and `train_output.csv` files are in the directory containing this notebook.\n",
        "7. Run the cells in section _Loading_ and continue from there.\n",
        "\n",
        "### Generating the C++ model\n",
        "\n",
        "8. Run section _Porting the model to C++_, this requires a model to be loaded.\n",
        "9. Set the path to the `net.pt` file in the C++ source file.\n",
        "10. `mkdir build && cd build`,\n",
        "11. `cmake -DCMAKE_PREFIX_PATH=/path/to/libtorch/ ..`,\n",
        "10. Compile and run, e.g. `cmake --build . --config release && ./executable`"
      ]
    },
    {
      "attachments": {},
      "cell_type": "markdown",
      "metadata": {},
      "source": [
        "## Initialization"
      ]
    },
    {
      "attachments": {},
      "cell_type": "markdown",
      "metadata": {},
      "source": [
        "\n",
        "Use this first cell to **convert this notebook** to a python script."
      ]
    },
    {
      "cell_type": "code",
      "execution_count": 1,
      "metadata": {
        "colab": {
          "base_uri": "https://localhost:8080/"
        },
        "id": "eqdgdNLHUZhV",
        "outputId": "30907b9d-56c3-44d7-cd43-6387a991a46a",
        "tags": [
          "remove_cell"
        ]
      },
      "outputs": [
        {
          "name": "stdout",
          "output_type": "stream",
          "text": [
            "Couldn't find program: 'echo'\n"
          ]
        }
      ],
      "source": [
        "%%script echo skipping\n",
        "\n",
        "!jupyter nbconvert pt1.ipynb --TagRemovePreprocessor.enabled=True --TagRemovePreprocessor.remove_cell_tags='{\"remove_cell\"}' --to script"
      ]
    },
    {
      "attachments": {},
      "cell_type": "markdown",
      "metadata": {
        "id": "nzcUr0LnUZhw"
      },
      "source": [
        "Next some cells for working on **google colab**,"
      ]
    },
    {
      "cell_type": "code",
      "execution_count": 2,
      "metadata": {},
      "outputs": [],
      "source": [
        "import os\n",
        "import shutil\n",
        "\n",
        "# check if the drive is mounted\n",
        "drive_mounted = os.path.exists(\"/content/drive\")\n",
        "# change this to your desired folder\n",
        "drive_folder = \"/content/drive/My Drive/bsc/con2prim_towards_GRMHD/\"\n",
        "\n",
        "# define a function to save a file to the drive or the current directory\n",
        "def save_file(file_name):\n",
        "  if drive_mounted:\n",
        "    # save the file to the drive folder\n",
        "    file_path = os.path.join(drive_folder, file_name)\n",
        "    # copy the file from the current directory to the drive folder\n",
        "    shutil.copyfile(file_name, file_path)\n",
        "  else:\n",
        "    # do nothing as the file is already in the current directory\n",
        "    pass\n"
      ]
    },
    {
      "cell_type": "code",
      "execution_count": 3,
      "metadata": {
        "colab": {
          "base_uri": "https://localhost:8080/"
        },
        "id": "ecHw2_xlUZhx",
        "outputId": "462a57cd-ee19-4961-d3aa-ff2407b2bde0"
      },
      "outputs": [
        {
          "name": "stdout",
          "output_type": "stream",
          "text": [
            "Couldn't find program: 'echo'\n"
          ]
        }
      ],
      "source": [
        "%%script echo skipping\n",
        "\n",
        "from google.colab import drive\n",
        "drive.mount('/content/drive')"
      ]
    },
    {
      "cell_type": "code",
      "execution_count": 4,
      "metadata": {
        "colab": {
          "base_uri": "https://localhost:8080/"
        },
        "id": "T1rcStMLUZhy",
        "outputId": "7ea7311f-f054-4a29-d0ff-12849095ab6e"
      },
      "outputs": [
        {
          "name": "stdout",
          "output_type": "stream",
          "text": [
            "Couldn't find program: 'echo'\n"
          ]
        }
      ],
      "source": [
        "%%script echo skipping\n",
        "\n",
        "!pip install optuna tensorboard tensorboardX"
      ]
    },
    {
      "attachments": {},
      "cell_type": "markdown",
      "metadata": {},
      "source": [
        "Importing the **libraries** and setting the **device**,"
      ]
    },
    {
      "cell_type": "code",
      "execution_count": 5,
      "metadata": {
        "id": "tREdWQUVUZhz"
      },
      "outputs": [],
      "source": [
        "import numpy as np\n",
        "import matplotlib.pyplot as plt\n",
        "import torch\n",
        "import torch.nn as nn\n",
        "import torch.optim as optim\n",
        "import torch.nn.functional as F\n",
        "import optuna\n",
        "import tensorboardX as tbx\n",
        "\n",
        "# Checking if GPU is available and setting the device accordingly\n",
        "device = torch.device(\"cuda\" if torch.cuda.is_available() else \"cpu\")\n"
      ]
    },
    {
      "attachments": {},
      "cell_type": "markdown",
      "metadata": {
        "id": "38GvmerjUZhz"
      },
      "source": [
        "### Constants and flags to set\n",
        "Defining some constants and parameters for convenience.\n",
        "\n",
        "**NOTE**: Some **subparameters** still need to be adjusted in the `create_model` function itself as of (Tue May 16 07:42:45 AM CEST 2023) in the case the model is being trained without optimization."
      ]
    },
    {
      "cell_type": "code",
      "execution_count": 6,
      "metadata": {
        "id": "ei6VZDYKUZh0"
      },
      "outputs": [],
      "source": [
        "\n",
        "N_TRIALS = 150 # Number of trials for hyperparameter optimization\n",
        "OPTIMIZE = False # Whether to optimize the hyperparameters or to use predetermined values from Dieseldorst et al..\n",
        "ZSCORE_NORMALIZATION = False # Whether to z-score normalize the input data.\n",
        "\n",
        "# I try out here the values as obtained in Optuna run 5, but I will increase the number of epochs.\n",
        "# N_LAYERS_NO_OPT = 3\n",
        "# N_UNITS_NO_OPT = [78, 193, 99]\n",
        "# HIDDEN_ACTIVATION_NAME_NO_OPT = \"ReLU\"\n",
        "# OUTPUT_ACTIVATION_NAME_NO_OPT = \"Linear\"\n",
        "# LOSS_NAME_NO_OPT = \"MSE\"\n",
        "# OPTIMIZER_NAME_NO_OPT = \"Adam\"\n",
        "# LR_NO_OPT = 0.00036516467819506355\n",
        "# BATCH_SIZE_NO_OPT = 170\n",
        "# N_EPOCHS_NO_OPT = 400\n",
        "# SCHEDULER_NAME_NO_OPT = \"ReduceLROnPlateau\"\n",
        "\n",
        "N_LAYERS_NO_OPT = 3\n",
        "N_UNITS_NO_OPT = [555, 458, 115]\n",
        "HIDDEN_ACTIVATION_NAME_NO_OPT = \"ReLU\"\n",
        "OUTPUT_ACTIVATION_NAME_NO_OPT = \"ReLU\"\n",
        "LOSS_NAME_NO_OPT = \"Huber\"\n",
        "OPTIMIZER_NAME_NO_OPT = \"RMSprop\"\n",
        "LR_NO_OPT = 0.000122770896701404\n",
        "BATCH_SIZE_NO_OPT = 49\n",
        "N_EPOCHS_NO_OPT = 10\n",
        "SCHEDULER_NAME_NO_OPT = \"ReduceLROnPlateau\"\n",
        "\n",
        "c = 1  # Speed of light (used in compute_conserved_variables and sample_primitive_variables functions)\n",
        "Gamma = 5 / 3  # Adiabatic index (used in eos_analytic function)\n",
        "gamma_det = 1 # Determinant of gamma_ij.\n",
        "alpha = 1 # Lapse function.\n",
        "n_train_samples = 80000 # Number of training samples (used in generate_input_data and generate_labels functions)\n",
        "n_test_samples = 10000 # Number of test samples (used in generate_input_data and generate_labels functions)\n",
        "# TODO: Make the intervals correspond to something that works in GR in general, for right now (Sun May 21 06:02:10 PM CEST 2023) the intervals are a mix of Dieselhorst et al., the minimum to maximum speed and dummy intervals.\n",
        "rho_interval = (0, 10.1) # Sampling interval for rest-mass density (used in sample_primitive_variables function)\n",
        "epsilon_interval = (0, 2.02) # Sampling interval for specific internal energy (used in sample_primitive_variables function)\n",
        "vx_interval = (0, .57 * c) # Sampling interval for velocity in x-direction (used in sample_primitive_variables function)\n",
        "vy_interval = (0, .57 * c) # Sampling interval for velocity in y-direction (used in sample_primitive_variables function)\n",
        "vz_interval = (0, .57 * c) # Sampling interval for velocity in z-direction (used in sample_primitive_variables function)\n",
        "# TODO: Choose proper sampling intervals for the magnetic fields in all directions.\n",
        "Bx_interval = (0, 1) # Sampling interval for magnetic field in x-direction (used in sample_primitive_variables function)\n",
        "By_interval = (0, 1) # Sampling interval for magnetic field in y-direction (used in sample_primitive_variables function)\n",
        "Bz_interval = (0, 1) # Sampling interval for magnetic field in z-direction (used in sample_primitive_variables function)\n",
        "b0_interval = (0, 1)\n",
        "b1_interval = (0, 1)\n",
        "b2_interval = (0, 1)\n",
        "b3_interval = (0, 1)\n",
        "\n",
        "np.random.seed(42) # Uncomment for pseudorandom data.\n"
      ]
    },
    {
      "cell_type": "markdown",
      "metadata": {
        "id": "dlaP5UL2UZh1"
      },
      "source": [
        "## Generating the data"
      ]
    },
    {
      "cell_type": "code",
      "execution_count": 7,
      "metadata": {
        "id": "s_EvGFZcUZh1"
      },
      "outputs": [],
      "source": [
        "# Defining an analytic equation of state (EOS) for an ideal gas\n",
        "def eos_analytic(rho, epsilon):\n",
        "    \"\"\"Computes the pressure from rest-mass density and specific internal energy using an analytic EOS.\n",
        "\n",
        "    Args:\n",
        "        rho (torch.Tensor): The rest-mass density tensor of shape (n_samples,).\n",
        "        epsilon (torch.Tensor): The specific internal energy tensor of shape (n_samples,).\n",
        "\n",
        "    Returns:\n",
        "        torch.Tensor: The pressure tensor of shape (n_samples,).\n",
        "    \"\"\"\n",
        "    # Adding some assertions to check that the input tensors are valid and have \n",
        "    # the expected shape and type \n",
        "    assert isinstance(rho, torch.Tensor), \"rho must be a torch.Tensor\"\n",
        "    assert isinstance(epsilon, torch.Tensor), \"epsilon must be a torch.Tensor\"\n",
        "    assert rho.shape == epsilon.shape, \"rho and epsilon must have the same shape\"\n",
        "    assert rho.ndim == 1, \"rho and epsilon must be one-dimensional tensors\"\n",
        "    assert rho.dtype == torch.float32, \"rho and epsilon must have dtype torch.float32\"\n",
        "\n",
        "    return (Gamma - 1) * rho * epsilon\n",
        "\n",
        "\n",
        "\n",
        "# Defining a function that samples primitive variables from uniform distributions\n",
        "def sample_primitive_variables(n_samples):\n",
        "    \"\"\"Samples primitive variables from uniform distributions.\n",
        "\n",
        "    Args:\n",
        "        n_samples (int): The number of samples to generate.\n",
        "\n",
        "    Returns:\n",
        "        tuple: A tuple of (rho, epsilon, vx, vy, vz, Bx, By, Bz, b0, b1, b2, b3), where rho is rest-mass density,\n",
        "            rho is the rest mass density,\n",
        "            epsilon is specific internal energy,\n",
        "            vx is velocity in x-direction,\n",
        "            vy is velocity in y-direction,\n",
        "            vz is velocity in z-direction,\n",
        "            Bx is magnetic field in x-direction,\n",
        "            By is magnetic field in y-direction,\n",
        "            Bz is magnetic field in z-direction,\n",
        "            TODO:\n",
        "            b0\n",
        "            b1\n",
        "            b2\n",
        "            b3\n",
        "            each being a numpy array of shape (n_samples,).\n",
        "    \"\"\"\n",
        "    rho = np.random.uniform(*rho_interval, size=n_samples)  # Rest-mass density\n",
        "    epsilon = np.random.uniform(*epsilon_interval, size=n_samples)  # Specific internal energy\n",
        "    vx = np.random.uniform(*vx_interval, size=n_samples)  # Velocity in x-direction\n",
        "    vy = np.random.uniform(*vy_interval, size=n_samples)  # Velocity in y-direction\n",
        "    vz = np.random.uniform(*vz_interval, size=n_samples)  # Velocity in z-direction \n",
        "    Bx = np.random.uniform(*Bx_interval, size=n_samples)  # Magnetic field in x-direction\n",
        "    By = np.random.uniform(*By_interval, size=n_samples)  # Magnetic field in y-direction\n",
        "    Bz = np.random.uniform(*Bz_interval, size=n_samples)  # Magnetic field in z-direction \n",
        "    b0 = np.random.uniform(*b0_interval, size=n_samples)\n",
        "    b1 = np.random.uniform(*b1_interval, size=n_samples)\n",
        "    b2 = np.random.uniform(*b2_interval, size=n_samples)\n",
        "    b3 = np.random.uniform(*b3_interval, size=n_samples)\n",
        "\n",
        "    return rho, epsilon, vx, vy, vz, Bx, By, Bz, b0, b1, b2, b3\n",
        "\n",
        "\n",
        "\n",
        "\n",
        "# Defining a function that computes conserved variables from primitive variables\n",
        "def compute_conserved_variables(rho, epsilon, vx, vy, vz, Bx, By, Bz, b0, b1, b2, b3):\n",
        "    \"\"\"Computes conserved variables from primitive variables.\n",
        "\n",
        "    Args:\n",
        "        rho (torch.Tensor): The rest-mass density tensor of shape (n_samples,).\n",
        "        epsilon (torch.Tensor): The specific internal energy tensor of shape (n_samples,).\n",
        "        vx (torch.Tensor): The velocity in x-direction tensor of shape (n_samples,)\n",
        "        vy (torch.Tensor): The velocity in y-direction tensor of shape (n_samples,)\n",
        "        vz (torch.Tensor): The velocity in z-direction tensor of shape (n_samples,)\n",
        "        Bx (torch.Tensor): The magnetic field in x-direction tensor of shape (n_samples,)\n",
        "        By (torch.Tensor): The magnetic field in y-direction tensor of shape (n_samples,)\n",
        "        Bz (torch.Tensor): The magnetic field in z-direction tensor of shape (n_samples,)\n",
        "        TODO:\n",
        "        b0\n",
        "        b1\n",
        "        b2\n",
        "        b3\n",
        "\n",
        "    Returns:\n",
        "        tuple: A tuple of (D, Sx, Sy, Sz, tau, Bscriptx, Bscripty, Bscriptz), where\n",
        "            D is conserved density,\n",
        "            Sx is conserved momentum in x-direction,\n",
        "            Sy is conserved momentum in y-direction,\n",
        "            Sz is conserved momentum in z-direction,\n",
        "            tau is conserved energy density,\n",
        "            Bscriptx is conserved magnetic field in x-direction,\n",
        "            Bscripty is conserved magnetic field in y-direction,\n",
        "            Bscriptz is conserved magnetic field in z-direction,\n",
        "            each being a torch tensor of shape (n_samples,).\n",
        "    \"\"\"\n",
        "\n",
        "    p = eos_analytic(rho, epsilon)\n",
        "    v2 = vx ** 2 + vy ** 2 + vz ** 2\n",
        "    W = 1 / torch.sqrt(1 - v2 / c ** 2)\n",
        "    h_star = 1 + epsilon + (p + Bx ** 2 + By ** 2 + Bz ** 2) / rho\n",
        "\n",
        "    D = gamma_det ** 0.5 * rho * W\n",
        "    Sx = gamma_det ** 0.5 * (rho * h_star * W ** 2 * vx - alpha * b0 * b1)\n",
        "    Sy = gamma_det ** 0.5 * (rho * h_star * W ** 2 * vy - alpha * b0 * b2)\n",
        "    Sz = gamma_det ** 0.5 * (rho * h_star * W ** 2 * vz - alpha * b0 * b3)\n",
        "    tau = gamma_det ** 0.5 * (rho * h_star * W ** 2 - p - (alpha * b0) ** 2) - D\n",
        "    Bscriptx = gamma_det ** 0.5 * Bx\n",
        "    Bscripty = gamma_det ** 0.5 * By\n",
        "    Bscriptz = gamma_det ** 0.5 * Bz\n",
        "\n",
        "    return D, Sx, Sy, Sz, tau, Bscriptx, Bscripty, Bscriptz\n",
        "\n",
        "\n",
        "# Defining a function that generates input data (conserved variables) from given samples of primitive variables\n",
        "def generate_input_data(rho, epsilon, vx, vy, vz, Bx, By, Bz, b0, b1, b2, b3):\n",
        "    # Converting the numpy arrays to torch tensors and moving them to the device\n",
        "    rho = torch.tensor(rho, dtype=torch.float32).to(device)\n",
        "    epsilon = torch.tensor(epsilon, dtype=torch.float32).to(device)\n",
        "    vx = torch.tensor(vx, dtype=torch.float32).to(device)\n",
        "    vy = torch.tensor(vy, dtype=torch.float32).to(device)\n",
        "    vz = torch.tensor(vz, dtype=torch.float32).to(device)\n",
        "    Bx = torch.tensor(Bx, dtype=torch.float32).to(device)\n",
        "    By = torch.tensor(By, dtype=torch.float32).to(device)\n",
        "    Bz = torch.tensor(Bz, dtype=torch.float32).to(device)\n",
        "    b0 = torch.tensor(b0, dtype=torch.float32).to(device)\n",
        "    b1 = torch.tensor(b1, dtype=torch.float32).to(device)\n",
        "    b2 = torch.tensor(b2, dtype=torch.float32).to(device)\n",
        "    b3 = torch.tensor(b3, dtype=torch.float32).to(device)\n",
        "\n",
        "    # Computing the conserved variables using the compute_conserved_variables function\n",
        "    D, Sx, Sy, Sz, tau, Bscriptx, Bscripty, Bscriptz = compute_conserved_variables(\n",
        "        rho, epsilon, vx, vy, vz, Bx, By, Bz, b0, b1, b2, b3\n",
        "    ) \n",
        "\n",
        "    # Stacking the conserved variables into a torch tensor\n",
        "    x = torch.stack([D, Sx, Sy, Sz, tau, Bscriptx, Bscripty, Bscriptz], axis=1)\n",
        "\n",
        "    # Returning the input data tensor\n",
        "    return x\n",
        "\n",
        "# Defining a function that generates output data (labels) from given samples of primitive variables\n",
        "def generate_labels(rho, epsilon):\n",
        "    # Converting the numpy arrays to torch tensors and moving them to the device\n",
        "    rho = torch.tensor(rho, dtype=torch.float32).to(device)\n",
        "    epsilon = torch.tensor(epsilon, dtype=torch.float32).to(device)\n",
        "   \n",
        "    # Computing the pressure from the primitive variables using the EOS\n",
        "    p = eos_analytic(rho, epsilon)\n",
        "\n",
        "    # Returning the output data tensor\n",
        "    return p\n"
      ]
    },
    {
      "cell_type": "markdown",
      "metadata": {
        "id": "_dczop2rUZh3"
      },
      "source": [
        "Sampling the primitive variables using the sample_primitive_variables function"
      ]
    },
    {
      "cell_type": "code",
      "execution_count": 8,
      "metadata": {
        "id": "cKubR6C8UZh4"
      },
      "outputs": [],
      "source": [
        "rho_train, epsilon_train, vx_train, vy_train, vz_train, Bx_train, By_train, Bz_train, b0_train, b1_train, b2_train, b3_train = sample_primitive_variables(n_train_samples)\n",
        "rho_test, epsilon_test, vx_test ,vy_test, vz_test, Bx_test, By_test, Bz_test, b0_test, b1_test, b2_test, b3_test = sample_primitive_variables(n_test_samples)\n"
      ]
    },
    {
      "cell_type": "code",
      "execution_count": 9,
      "metadata": {},
      "outputs": [
        {
          "data": {
            "text/plain": [
              "array([3.7828552 , 9.60221449, 7.39313881, ..., 3.85518754, 1.30928573,\n",
              "       9.5675983 ])"
            ]
          },
          "execution_count": 9,
          "metadata": {},
          "output_type": "execute_result"
        },
        {
          "data": {
            "text/plain": [
              "array([1.65269219, 0.29344492, 1.91185687, ..., 0.59728412, 1.60088186,\n",
              "       0.92542952])"
            ]
          },
          "execution_count": 9,
          "metadata": {},
          "output_type": "execute_result"
        },
        {
          "data": {
            "text/plain": [
              "array([0.53015873, 0.34538885, 0.19004683, ..., 0.0427437 , 0.34608123,\n",
              "       0.18076349])"
            ]
          },
          "execution_count": 9,
          "metadata": {},
          "output_type": "execute_result"
        },
        {
          "data": {
            "text/plain": [
              "array([0.04282752, 0.19716017, 0.37988219, ..., 0.47604939, 0.2403435 ,\n",
              "       0.02051602])"
            ]
          },
          "execution_count": 9,
          "metadata": {},
          "output_type": "execute_result"
        },
        {
          "data": {
            "text/plain": [
              "array([0.09635726, 0.20907248, 0.38307736, ..., 0.32808556, 0.50920368,\n",
              "       0.28638091])"
            ]
          },
          "execution_count": 9,
          "metadata": {},
          "output_type": "execute_result"
        },
        {
          "data": {
            "text/plain": [
              "array([0.88895306, 0.31571342, 0.0519097 , ..., 0.86900388, 0.00625169,\n",
              "       0.58451891])"
            ]
          },
          "execution_count": 9,
          "metadata": {},
          "output_type": "execute_result"
        },
        {
          "data": {
            "text/plain": [
              "array([0.00364109, 0.62124109, 0.76289791, ..., 0.33640291, 0.69158437,\n",
              "       0.87035141])"
            ]
          },
          "execution_count": 9,
          "metadata": {},
          "output_type": "execute_result"
        },
        {
          "data": {
            "text/plain": [
              "array([0.01966783, 0.17905959, 0.65205497, ..., 0.07297064, 0.43011168,\n",
              "       0.49227056])"
            ]
          },
          "execution_count": 9,
          "metadata": {},
          "output_type": "execute_result"
        },
        {
          "data": {
            "text/plain": [
              "array([6.8641353 , 8.1500591 , 3.01965297, ..., 7.05536872, 8.2357163 ,\n",
              "       6.58988716])"
            ]
          },
          "execution_count": 9,
          "metadata": {},
          "output_type": "execute_result"
        },
        {
          "data": {
            "text/plain": [
              "array([2.0163067 , 0.98136166, 1.19544396, ..., 1.12875002, 0.17879488,\n",
              "       1.68628795])"
            ]
          },
          "execution_count": 9,
          "metadata": {},
          "output_type": "execute_result"
        },
        {
          "data": {
            "text/plain": [
              "array([0.51817301, 0.29352575, 0.41841867, ..., 0.10411545, 0.19823693,\n",
              "       0.07580387])"
            ]
          },
          "execution_count": 9,
          "metadata": {},
          "output_type": "execute_result"
        },
        {
          "data": {
            "text/plain": [
              "array([0.15125386, 0.33771718, 0.22162832, ..., 0.23830103, 0.24434262,\n",
              "       0.52978567])"
            ]
          },
          "execution_count": 9,
          "metadata": {},
          "output_type": "execute_result"
        },
        {
          "data": {
            "text/plain": [
              "array([0.33923871, 0.20788877, 0.0030641 , ..., 0.34064551, 0.20408361,\n",
              "       0.4471135 ])"
            ]
          },
          "execution_count": 9,
          "metadata": {},
          "output_type": "execute_result"
        },
        {
          "data": {
            "text/plain": [
              "array([0.32866188, 0.612203  , 0.50219394, ..., 0.31558568, 0.5061556 ,\n",
              "       0.90504422])"
            ]
          },
          "execution_count": 9,
          "metadata": {},
          "output_type": "execute_result"
        },
        {
          "data": {
            "text/plain": [
              "array([0.5858725 , 0.36857142, 0.44595359, ..., 0.88308655, 0.17961341,\n",
              "       0.21316162])"
            ]
          },
          "execution_count": 9,
          "metadata": {},
          "output_type": "execute_result"
        },
        {
          "data": {
            "text/plain": [
              "array([0.49956068, 0.92546975, 0.07103022, ..., 0.48876233, 0.21418954,\n",
              "       0.40312097])"
            ]
          },
          "execution_count": 9,
          "metadata": {},
          "output_type": "execute_result"
        }
      ],
      "source": [
        "rho_train\n",
        "epsilon_train\n",
        "vx_train\n",
        "vy_train\n",
        "vz_train \n",
        "Bx_train\n",
        "By_train\n",
        "Bz_train\n",
        "rho_test\n",
        "epsilon_test\n",
        "vx_test \n",
        "vy_test \n",
        "vz_test \n",
        "Bx_test\n",
        "By_test\n",
        "Bz_test"
      ]
    },
    {
      "cell_type": "code",
      "execution_count": 10,
      "metadata": {
        "id": "VMp6XJ6RUZh4"
      },
      "outputs": [],
      "source": [
        "%config InteractiveShell.ast_node_interactivity = \"last_expr_or_assign\""
      ]
    },
    {
      "cell_type": "code",
      "execution_count": 11,
      "metadata": {
        "colab": {
          "base_uri": "https://localhost:8080/",
          "height": 409
        },
        "id": "E5YFdqKjUZh5",
        "outputId": "fe67d113-f369-495f-9aba-201c71058eb7"
      },
      "outputs": [
        {
          "data": {
            "image/png": "[encoded data removed]",
            "text/plain": [
              "<Figure size 1600x1200 with 12 Axes>"
            ]
          },
          "metadata": {},
          "output_type": "display_data"
        }
      ],
      "source": [
        "def plot_histogram(data, xlabel, ylabel, position, bins=20, log_scale=False):\n",
        "    plt.subplot(3, 4, position)\n",
        "    plt.hist(data, bins=bins)\n",
        "    plt.xlabel(xlabel)\n",
        "    plt.ylabel(ylabel)\n",
        "    if log_scale:\n",
        "        plt.yscale(\"log\")\n",
        "\n",
        "# Plotting the histograms of rho, vx, epsilon, b0, b1, b2, and b3\n",
        "plt.figure(figsize=(16, 12))\n",
        "\n",
        "plot_histogram(rho_train, \"rho\", \"Frequency\", 1)\n",
        "plot_histogram(epsilon_train, \"epsilon\", \"Frequency\", 2)\n",
        "plot_histogram(vx_train, \"vx\", \"Frequency\", 3)\n",
        "plot_histogram(vy_train, \"vy\", \"Frequency\", 4)\n",
        "plot_histogram(vz_train, \"vz\", \"Frequency\", 5)\n",
        "plot_histogram(Bx_train, \"Bx\", \"Frequency\", 6)\n",
        "plot_histogram(By_train, \"By\", \"Frequency\", 7)\n",
        "plot_histogram(Bz_train, \"Bz\", \"Frequency\", 8)\n",
        "plot_histogram(b0_train, \"b0\", \"Frequency\", 9)\n",
        "plot_histogram(b1_train, \"b1\", \"Frequency\", 10)\n",
        "plot_histogram(b2_train, \"b2\", \"Frequency\", 11)\n",
        "plot_histogram(b3_train, \"b3\", \"Frequency\", 12)\n",
        "\n",
        "plt.suptitle(\"Primitive variables\")\n",
        "plt.tight_layout()\n",
        "plt.show()"
      ]
    },
    {
      "cell_type": "code",
      "execution_count": 12,
      "metadata": {},
      "outputs": [],
      "source": [
        "%config InteractiveShell.ast_node_interactivity = \"all\""
      ]
    },
    {
      "cell_type": "code",
      "execution_count": 13,
      "metadata": {
        "colab": {
          "base_uri": "https://localhost:8080/"
        },
        "id": "7ubtOXVgUZh6",
        "outputId": "02dfd20b-5550-4df4-a1c9-e45c8fa0d570"
      },
      "outputs": [],
      "source": [
        "# Generating the input and output data for train and test sets.\n",
        "x_train = generate_input_data(rho_train, epsilon_train, vx_train ,vy_train, vz_train, Bx_train, By_train, Bz_train, b0_train, b1_train, b2_train, b3_train)\n",
        "y_train = generate_labels(rho_train, epsilon_train) \n",
        "x_test = generate_input_data(rho_test, epsilon_test, vx_test, vy_test, vz_test, Bx_test, By_test, Bz_test, b0_test, b1_test, b2_test, b3_test)\n",
        "y_test = generate_labels(rho_test, epsilon_test)\n"
      ]
    },
    {
      "cell_type": "code",
      "execution_count": 14,
      "metadata": {},
      "outputs": [
        {
          "data": {
            "text/plain": [
              "tensor([[ 4.4964e+00,  1.0586e+01,  4.6619e-01,  ...,  8.8895e-01,\n",
              "          3.6411e-03,  1.9668e-02],\n",
              "        [ 1.0748e+01,  6.3717e+00,  3.5929e+00,  ...,  3.1571e-01,\n",
              "          6.2124e-01,  1.7906e-01],\n",
              "        [ 9.0132e+00,  8.8825e+00,  1.7472e+01,  ...,  5.1910e-02,\n",
              "          7.6290e-01,  6.5205e-01],\n",
              "        ...,\n",
              "        [ 4.7314e+00, -1.5352e-02,  5.8593e+00,  ...,  8.6900e-01,\n",
              "          3.3640e-01,  7.2971e-02],\n",
              "        [ 1.7447e+00,  3.0696e+00,  2.1921e+00,  ...,  6.2517e-03,\n",
              "          6.9158e-01,  4.3011e-01],\n",
              "        [ 1.0171e+01,  5.1504e+00,  1.8793e-02,  ...,  5.8452e-01,\n",
              "          8.7035e-01,  4.9227e-01]])"
            ]
          },
          "execution_count": 14,
          "metadata": {},
          "output_type": "execute_result"
        },
        {
          "data": {
            "text/plain": [
              "tensor([4.1679, 1.8785, 9.4231,  ..., 1.5351, 1.3973, 5.9028])"
            ]
          },
          "execution_count": 14,
          "metadata": {},
          "output_type": "execute_result"
        },
        {
          "data": {
            "text/plain": [
              "tensor([[ 8.9097, 26.5293,  7.6217,  ...,  0.3287,  0.5859,  0.4996],\n",
              "        [ 9.3699,  8.5616,  9.9232,  ...,  0.6122,  0.3686,  0.9255],\n",
              "        [ 3.4283,  4.6305,  2.5239,  ...,  0.5022,  0.4460,  0.0710],\n",
              "        ...,\n",
              "        [ 7.8088,  2.5968,  6.2023,  ...,  0.3156,  0.8831,  0.4888],\n",
              "        [ 8.8842,  2.3666,  2.6954,  ...,  0.5062,  0.1796,  0.2142],\n",
              "        [ 9.1947,  3.8297, 26.9196,  ...,  0.9050,  0.2132,  0.4031]])"
            ]
          },
          "execution_count": 14,
          "metadata": {},
          "output_type": "execute_result"
        },
        {
          "data": {
            "text/plain": [
              "tensor([9.2268, 5.3321, 2.4066,  ..., 5.3092, 0.9817, 7.4083])"
            ]
          },
          "execution_count": 14,
          "metadata": {},
          "output_type": "execute_result"
        }
      ],
      "source": [
        "x_train\n",
        "y_train\n",
        "x_test\n",
        "y_test"
      ]
    },
    {
      "cell_type": "code",
      "execution_count": 15,
      "metadata": {},
      "outputs": [],
      "source": [
        "%config InteractiveShell.ast_node_interactivity = \"last_expr_or_assign\""
      ]
    },
    {
      "cell_type": "code",
      "execution_count": 16,
      "metadata": {},
      "outputs": [
        {
          "data": {
            "image/png": "[encoded data removed]",
            "text/plain": [
              "<Figure size 1200x1200 with 8 Axes>"
            ]
          },
          "metadata": {},
          "output_type": "display_data"
        }
      ],
      "source": [
        "# List of variable names\n",
        "variable_names = [\"rho\", \"epsilon\", \"vx\", \"vy\", \"vz\", \"Bx\", \"By\", \"Bz\"]\n",
        "\n",
        "# Note how we are only plotting train and not test here. \n",
        "# Plotting histograms of the input variables before z-score normalization\n",
        "plt.figure(figsize=(12, 12))\n",
        "plt.suptitle('Histograms of input variables before (or without at all) z-score normalization', y=1.03)\n",
        "for i in range(8):\n",
        "    plt.subplot(4, 2, i+1)\n",
        "    plt.hist(x_train[:, i].cpu(), bins=50) # Must be converted to cpu() for plotting.\n",
        "    plt.xlabel(variable_names[i])\n",
        "plt.subplots_adjust(hspace=0.4, wspace=0.4)\n",
        "plt.show()"
      ]
    },
    {
      "cell_type": "code",
      "execution_count": 17,
      "metadata": {},
      "outputs": [
        {
          "name": "stdout",
          "output_type": "stream",
          "text": [
            "Summary statistics of input variables before z-score normalization\n",
            "tensor([[ 6.4807e-05,  3.1584e+01,  6.3259e+00,  6.1947e+00,  3.8259e+00],\n",
            "        [-9.7744e-01,  2.4786e+02,  7.1219e+00,  4.0606e+00,  9.1729e+00],\n",
            "        [-9.5141e-01,  2.4376e+02,  7.1006e+00,  4.0529e+00,  9.1403e+00],\n",
            "        [-9.7074e-01,  2.4693e+02,  7.1025e+00,  4.0787e+00,  9.1179e+00],\n",
            "        [-8.8496e-01,  4.0290e+02,  1.3392e+01,  9.4784e+00,  1.3684e+01],\n",
            "        [ 2.1510e-05,  9.9999e-01,  5.0109e-01,  5.0323e-01,  2.8845e-01],\n",
            "        [ 5.1884e-07,  1.0000e+00,  5.0038e-01,  4.9942e-01,  2.8793e-01],\n",
            "        [ 5.2474e-06,  9.9999e-01,  4.9844e-01,  4.9708e-01,  2.8885e-01]])\n"
          ]
        }
      ],
      "source": [
        "# Computing summary statistics of the input variables before and after z-score normalization\n",
        "print('Summary statistics of input variables before z-score normalization')\n",
        "print(torch.stack([torch.min(x_train, dim=0).values, torch.max(x_train, dim=0).values, torch.nanmean(x_train, dim=0), torch.median(x_train, dim=0).values, torch.std(x_train, dim=0)], dim=1))"
      ]
    },
    {
      "cell_type": "markdown",
      "metadata": {
        "id": "xTEmkR1SUZh7"
      },
      "source": [
        "Perform z-score normalization"
      ]
    },
    {
      "cell_type": "code",
      "execution_count": 18,
      "metadata": {},
      "outputs": [],
      "source": [
        "%config InteractiveShell.ast_node_interactivity = \"all\""
      ]
    },
    {
      "cell_type": "code",
      "execution_count": 19,
      "metadata": {
        "id": "yPOv6DxhUZh7"
      },
      "outputs": [],
      "source": [
        "if ZSCORE_NORMALIZATION:\n",
        "    \n",
        "    # TODO: Add magnetic field variables to the normalization if I decide to use the old code that is commented out here.\n",
        "    # # Computing the median of each input variable from the training set using torch.nanmedian function\n",
        "    # D_median = torch.nanmedian(x_train[:, 0])\n",
        "    # Sx_median = torch.nanmedian(x_train[:, 1])\n",
        "    # Sy_median = torch.nanmedian(x_train[:, 2])\n",
        "    # Sz_median = torch.nanmedian(x_train[:, 3])\n",
        "    # tau_median = torch.nanmedian(x_train[:, 4])\n",
        "\n",
        "    # # Computing the standard deviation of each input variable from the training set using torch.std function with a boolean mask to ignore nan values\n",
        "    # D_std = torch.std(x_train[~torch.isnan(x_train[:, 0]), 0])\n",
        "    # Sx_std = torch.std(x_train[~torch.isnan(x_train[:, 1]), 1])\n",
        "    # Sy_std = torch.std(x_train[~torch.isnan(x_train[:, 2]), 2])\n",
        "    # Sz_std = torch.std(x_train[~torch.isnan(x_train[:, 3]), 3])\n",
        "    # tau_std = torch.std(x_train[~torch.isnan(x_train[:, 4]), 4])\n",
        "\n",
        "\n",
        "    # # Applying z-score normalization to both train and test sets using the statistics from the training set\n",
        "    # x_train[:, 0] = torch.sub(x_train[:, 0], D_median).div(D_std)\n",
        "    # x_train[:, 1] = torch.sub(x_train[:, 1], Sx_median).div(Sx_std)\n",
        "    # x_train[:, 2] = torch.sub(x_train[:, 2], Sy_median).div(Sy_std)\n",
        "    # x_train[:, 3] = torch.sub(x_train[:, 3], Sz_median).div(Sz_std)\n",
        "    # x_train[:, 4] = torch.sub(x_train[:, 4], tau_median).div(tau_std)\n",
        "\n",
        "    # x_test[:, 0] = torch.sub(x_test[:, 0], D_median).div(D_std)\n",
        "    # x_test[:, 1] = torch.sub(x_test[:, 1], Sx_median).div(Sx_std)\n",
        "    # x_test[:, 2] = torch.sub(x_test[:, 2], Sy_median).div(Sy_std)\n",
        "    # x_test[:, 3] = torch.sub(x_test[:, 3], Sz_median).div(Sz_std)\n",
        "    # x_test[:, 4] = torch.sub(x_test[:, 4], tau_median).div(tau_std)\n",
        "\n",
        "    # Computing the mean and standard deviation of each column\n",
        "    mean = x_train.mean(dim=0)\n",
        "    std = x_train.std(dim=0)\n",
        "\n",
        "    # Applying z-score normalization\n",
        "    x_train = (x_train - mean) / std\n",
        "    # Use the same mean and std from the training data as we don't want test data leakage.\n",
        "    x_test = (x_test - mean) / std\n",
        "\n"
      ]
    },
    {
      "attachments": {},
      "cell_type": "markdown",
      "metadata": {},
      "source": [
        "Plotting the histograms of the input data after normalization if z-score normalization was performed."
      ]
    },
    {
      "cell_type": "code",
      "execution_count": 20,
      "metadata": {},
      "outputs": [],
      "source": [
        "%config InteractiveShell.ast_node_interactivity = \"last_expr_or_assign\""
      ]
    },
    {
      "cell_type": "code",
      "execution_count": 21,
      "metadata": {},
      "outputs": [],
      "source": [
        "if ZSCORE_NORMALIZATION: \n",
        "    # List of variable names\n",
        "    variable_names = [\"rho\", \"epsilon\", \"vx\", \"vy\", \"vz\", \"Bx\", \"By\", \"Bz\"]\n",
        "\n",
        "    # Note how we are only plotting train and not test here. \n",
        "    # Plotting histograms of the input variables after z-score normalization\n",
        "    plt.figure(figsize=(12, 12))\n",
        "    plt.suptitle('Histograms of input variables after z-score normalization', y=1.03)\n",
        "    for i in range(8):\n",
        "        plt.subplot(4, 2, i+1)\n",
        "        plt.hist(x_train[:, i].cpu(), bins=50) # Must be converted to cpu() for plotting.\n",
        "        plt.xlabel(variable_names[i])\n",
        "    plt.subplots_adjust(hspace=0.4, wspace=0.4)\n",
        "    plt.show()"
      ]
    },
    {
      "cell_type": "code",
      "execution_count": 22,
      "metadata": {},
      "outputs": [],
      "source": [
        "if ZSCORE_NORMALIZATION:\n",
        "    # Computing summary statistics of the input variables after z-score normalization\n",
        "    print('Summary statistics of input variables after z-score normalization')\n",
        "    print(torch.stack([torch.min(x_train, dim=0).values, torch.max(x_train, dim=0).values, torch.mean(x_train, dim=0), torch.median(x_train, dim=0).values, torch.std(x_train, dim=0)], dim=1))\n"
      ]
    },
    {
      "cell_type": "markdown",
      "metadata": {
        "colab": {
          "base_uri": "https://localhost:8080/",
          "height": 407
        },
        "id": "E96p_MsOUZh9",
        "outputId": "4b95bad0-8f3a-4364-eed1-008e0ce2a5e3"
      },
      "source": [
        "Checking if our output is always positive by plotting a histogram of y_train and y_test tensors "
      ]
    },
    {
      "cell_type": "code",
      "execution_count": 23,
      "metadata": {},
      "outputs": [
        {
          "data": {
            "image/png": "[encoded data removed]",
            "text/plain": [
              "<Figure size 800x400 with 2 Axes>"
            ]
          },
          "metadata": {},
          "output_type": "display_data"
        }
      ],
      "source": [
        "# Note how we are only plotting train.\n",
        "plt.figure(figsize=(8, 4))\n",
        "plt.subplot(1, 2, 1)\n",
        "plt.hist(y_train.cpu().numpy(), bins=20) # must be cpu here.\n",
        "plt.xlabel(\"y_train\")\n",
        "plt.ylabel(\"Frequency\")\n",
        "plt.yscale(\"log\")\n",
        "plt.subplot(1, 2, 2)\n",
        "plt.hist(y_test.cpu().numpy(), bins=20) # must be cpu here\n",
        "plt.xlabel(\"y_test\")\n",
        "plt.ylabel(\"Frequency\")\n",
        "plt.yscale(\"log\")\n",
        "plt.tight_layout()\n",
        "plt.show()\n"
      ]
    },
    {
      "cell_type": "code",
      "execution_count": 24,
      "metadata": {
        "id": "FEgjk--AUZh9"
      },
      "outputs": [],
      "source": [
        "%config InteractiveShell.ast_node_interactivity = \"all\""
      ]
    },
    {
      "cell_type": "markdown",
      "metadata": {
        "id": "r2b9GecHUZh9"
      },
      "source": [
        "## Defining the neural network"
      ]
    },
    {
      "cell_type": "code",
      "execution_count": 25,
      "metadata": {
        "id": "Iv8HA-ZXUZh-"
      },
      "outputs": [],
      "source": [
        "# Defining a class for the network\n",
        "class Net(nn.Module):\n",
        "    \"\"\"A class for creating a network with a\n",
        "    variable number of hidden layers and units.\n",
        "\n",
        "    Attributes:\n",
        "        n_layers (int): The number of hidden layers in the network.\n",
        "        n_units (list): A list of integers representing the number of units in each hidden layer.\n",
        "        hidden_activation (torch.nn.Module): The activation function for the hidden layers.\n",
        "        output_activation (torch.nn.Module): The activation function for the output layer.\n",
        "        layers (torch.nn.ModuleList): A list of linear layers in the network.\n",
        "    \"\"\"\n",
        "\n",
        "    def __init__(self, n_layers, n_units, hidden_activation, output_activation):\n",
        "        \"\"\"Initializes the network with the given hyperparameters.\n",
        "\n",
        "        Args:\n",
        "            n_layers (int): The number of hidden layers in the network.\n",
        "            n_units (list): A list of integers representing the number of units in each hidden layer.\n",
        "            hidden_activation (torch.nn.Module): The activation function for the hidden layers.\n",
        "            output_activation (torch.nn.Module): The activation function for the output layer.\n",
        "        \"\"\"\n",
        "        super().__init__()\n",
        "        self.n_layers = n_layers\n",
        "        self.n_units = n_units\n",
        "        self.hidden_activation = hidden_activation\n",
        "        self.output_activation = output_activation\n",
        "\n",
        "        # Creating a list of linear layers with different numbers of units for each layer\n",
        "        self.layers = nn.ModuleList([nn.Linear(8, n_units[0])])\n",
        "        for i in range(1, n_layers):\n",
        "            self.layers.append(nn.Linear(n_units[i - 1], n_units[i]))\n",
        "        self.layers.append(nn.Linear(n_units[-1], 1))\n",
        "\n",
        "        # Adding some assertions to check that the input arguments are valid\n",
        "        assert isinstance(n_layers, int) and n_layers > 0, \"n_layers must be a positive integer\"\n",
        "        assert isinstance(n_units, list) and len(n_units) == n_layers, \"n_units must be a list of length n_layers\"\n",
        "        assert all(isinstance(n, int) and n > 0 for n in n_units), \"n_units must contain positive integers\"\n",
        "        assert isinstance(hidden_activation, nn.Module), \"hidden_activation must be a torch.nn.Module\"\n",
        "        assert isinstance(output_activation, nn.Module), \"output_activation must be a torch.nn.Module\"\n",
        "\n",
        "    def forward(self, x):\n",
        "        \"\"\"Performs a forward pass on the input tensor.\n",
        "\n",
        "        Args:\n",
        "            x (torch.Tensor): The input tensor of shape (batch_size, 8).\n",
        "\n",
        "        Returns:\n",
        "            torch.Tensor: The output tensor of shape (batch_size, 1).\n",
        "        \"\"\"\n",
        "        # Adding an assertion to check that the input tensor has the expected shape and type\n",
        "        assert isinstance(x, torch.Tensor), \"x must be a torch.Tensor\"\n",
        "        assert x.shape[1] == 8, \"x must have shape (batch_size, 8)\"\n",
        "\n",
        "        # Looping over the hidden layers and applying the linear transformation and the activation function\n",
        "        for layer in self.layers[:-1]:\n",
        "            x = self.hidden_activation(layer(x))\n",
        "        # Applying the linear transformation and the activation function on the output layer\n",
        "        x = self.output_activation(self.layers[-1](x))\n",
        "\n",
        "        # Returning the output tensor\n",
        "        return x\n"
      ]
    },
    {
      "cell_type": "markdown",
      "metadata": {
        "id": "6GNvp55PUZh_"
      },
      "source": [
        "## Defining the model and search space"
      ]
    },
    {
      "cell_type": "code",
      "execution_count": 26,
      "metadata": {
        "id": "9a1opluOUZh_"
      },
      "outputs": [],
      "source": [
        "# Defining a function to create a trial network and optimizer\n",
        "def create_model(trial, optimize):\n",
        "    \"\"\"Creates a trial network and optimizer based on the sampled hyperparameters.\n",
        "\n",
        "    Args:\n",
        "        trial (optuna.trial.Trial): The trial object that contains the hyperparameters.\n",
        "        optimize (boolean): Whether to optimize the hyperparameters or to use predefined values.\n",
        "\n",
        "    Returns:\n",
        "        tuple: A tuple of (net, loss_fn, optimizer, batch_size, n_epochs,\n",
        "            scheduler, loss_name, optimizer_name, scheduler_name,\n",
        "            n_units, n_layers, hidden_activation, output_activation),\n",
        "            where net is the trial network,\n",
        "            loss_fn is the loss function,\n",
        "            optimizer is the optimizer,\n",
        "            batch_size is the batch size,\n",
        "            n_epochs is the number of epochs,\n",
        "            scheduler is the learning rate scheduler,\n",
        "            loss_name is the name of the loss function,\n",
        "            optimizer_name is the name of the optimizer,\n",
        "            scheduler_name is the name of the scheduler,\n",
        "            n_units is a list of integers representing\n",
        "            the number of units in each hidden layer,\n",
        "            n_layers is an integer representing the number of hidden layers in the network,\n",
        "            hidden_activation is a torch.nn.Module representing the activation function for the hidden layers,\n",
        "            output_activation is a torch.nn.Module representing the activation function for the output layer,\n",
        "            lr is the (initial) learning rate.\n",
        "    \"\"\"\n",
        "    # If optimize is True, sample the hyperparameters from the search space\n",
        "    if optimize:\n",
        "        # Sampling the hyperparameters from the search space\n",
        "        n_layers = trial.suggest_int(\"n_layers\", 2, 6)\n",
        "        n_units = [trial.suggest_int(f\"n_units_{i}\", 16, 2048) for i in range(n_layers)] \n",
        "        hidden_activation_name = trial.suggest_categorical(\n",
        "            #\"hidden_activation\", [\"ReLU\", \"LeakyReLU\", \"ELU\", \"Tanh\", \"Sigmoid\"]\n",
        "            #\"hidden_activation\", [\"ReLU\", \"LeakyReLU\"]\n",
        "            \"hidden_activation\", [\"ReLU\", \"LeakyReLU\", \"ELU\"]\n",
        "        )\n",
        "        output_activation_name = trial.suggest_categorical(\n",
        "            #\"output_activation\", [\"Linear\", \"ReLU\", \"Softplus\"]\n",
        "            # Assuming pressure cannot be negative, linear output activation is not an option.\n",
        "            #\"output_activation\", [\"ReLU\", \"Softplus\", \"Linear\"]\n",
        "            \"output_activation\", [\"ReLU\", \"Linear\"]\n",
        "        ) \n",
        "        loss_name = trial.suggest_categorical(\n",
        "            #\"loss\", [\"MSE\", \"MAE\", \"Huber\", \"LogCosh\"] \n",
        "            \"loss\", [\"MSE\", \"MAE\", \"Huber\"] \n",
        "        )\n",
        "        optimizer_name = trial.suggest_categorical(\n",
        "            \"optimizer\", [\"Adam\", \"SGD\", \"RMSprop\", \"Adagrad\"] \n",
        "        )\n",
        "        lr = trial.suggest_loguniform(\"lr\", 1e-4, 1e-2) \n",
        "\n",
        "        batch_size_list = [32, 48, 64, 96, 128, 256, 512, 1048]\n",
        "        batch_size = trial.suggest_categorical(\"batch_size\", batch_size_list)\n",
        "        #batch_size = trial.suggest_int(\"batch_size\", 64, 1048)\n",
        "        n_epochs = trial.suggest_int(\"n_epochs\", 100, 300) \n",
        "        scheduler_name = trial.suggest_categorical(\n",
        "            \"scheduler\",\n",
        "            # [\"None\", \"CosineAnnealingLR\", \"ReduceLROnPlateau\", \"StepLR\", \"ExponentialLR\"],\n",
        "            [\"CosineAnnealingLR\", \"ReduceLROnPlateau\", \"StepLR\"],\n",
        "        )\n",
        "\n",
        "    # If optimize is False, use the predefined values\n",
        "    else:\n",
        "        # Setting the hyperparameters to the predefined values\n",
        "        n_layers = N_LAYERS_NO_OPT\n",
        "        n_units = N_UNITS_NO_OPT\n",
        "        hidden_activation_name = HIDDEN_ACTIVATION_NAME_NO_OPT\n",
        "        output_activation_name = OUTPUT_ACTIVATION_NAME_NO_OPT\n",
        "        loss_name = LOSS_NAME_NO_OPT\n",
        "        optimizer_name = OPTIMIZER_NAME_NO_OPT\n",
        "        lr = LR_NO_OPT\n",
        "        batch_size = BATCH_SIZE_NO_OPT\n",
        "        n_epochs = N_EPOCHS_NO_OPT\n",
        "        scheduler_name = SCHEDULER_NAME_NO_OPT\n",
        "\n",
        "\n",
        "    # Creating the activation functions from their names\n",
        "    if hidden_activation_name == \"ReLU\":\n",
        "        hidden_activation = nn.ReLU()\n",
        "    elif hidden_activation_name == \"LeakyReLU\":\n",
        "        hidden_activation = nn.LeakyReLU() \n",
        "    elif hidden_activation_name == \"ELU\":\n",
        "        hidden_activation = nn.ELU() \n",
        "    elif hidden_activation_name == \"Tanh\":\n",
        "        hidden_activation = nn.Tanh()\n",
        "    else:\n",
        "        hidden_activation = nn.Sigmoid()\n",
        "\n",
        "    if output_activation_name == \"ReLU\":\n",
        "        output_activation = nn.ReLU()\n",
        "    elif output_activation_name == \"Softplus\":\n",
        "        output_activation = nn.Softplus()\n",
        "    else:\n",
        "        output_activation = nn.Identity()\n",
        "\n",
        "    # Creating the loss function from its name\n",
        "    if loss_name == \"MSE\":\n",
        "        loss_fn = nn.MSELoss()\n",
        "    elif loss_name == \"MAE\":\n",
        "        loss_fn = nn.L1Loss()\n",
        "    elif loss_name == \"Huber\":\n",
        "        loss_fn = nn.SmoothL1Loss() \n",
        "    else:\n",
        "        # Creating the log-cosh loss function\n",
        "        def log_cosh_loss(y_pred, y_true):\n",
        "            return torch.mean(torch.log(torch.cosh(y_pred - y_true)))\n",
        "            \n",
        "        loss_fn = log_cosh_loss\n",
        "\n",
        "    # Creating the network with the sampled hyperparameters\n",
        "    net = Net(\n",
        "        n_layers, n_units, hidden_activation, output_activation\n",
        "    ).to(device)\n",
        "\n",
        "    if optimize:\n",
        "        # Creating the optimizer from its name\n",
        "        if optimizer_name == \"SGD\":\n",
        "            # Added sampling the weight decay and momentum for SGD\n",
        "            weight_decay = trial.suggest_loguniform(\"weight_decay\", 1e-5, 1e-2)\n",
        "            momentum = trial.suggest_uniform(\"momentum\", 0.0, 0.99)\n",
        "            optimizer = optim.SGD(net.parameters(), lr=lr, weight_decay=weight_decay, momentum=momentum)\n",
        "        elif optimizer_name == \"Adam\":\n",
        "            # Added sampling the weight decay and beta parameters for Adam\n",
        "            weight_decay = trial.suggest_loguniform(\"weight_decay\", 1e-5, 1e-2)\n",
        "            beta1 = trial.suggest_uniform(\"beta1\", 0.9, 0.999)\n",
        "            beta2 = trial.suggest_uniform(\"beta2\", 0.999, 0.9999)\n",
        "            optimizer = optim.Adam(net.parameters(), lr=lr, weight_decay=weight_decay, betas=(beta1, beta2))\n",
        "        elif optimizer_name == \"RMSprop\":\n",
        "            optimizer = optim.RMSprop(net.parameters(), lr=lr)\n",
        "        else:\n",
        "            # Added creating the Adagrad optimizer\n",
        "            optimizer = optim.Adagrad(net.parameters(), lr=lr)\n",
        "\n",
        "        # Creating the learning rate scheduler from its name\n",
        "        if scheduler_name == \"StepLR\":\n",
        "            step_size = trial.suggest_int(\"step_size\", 5, 15)\n",
        "            gamma = trial.suggest_uniform(\"gamma\", 0.1, 0.5)\n",
        "            scheduler = optim.lr_scheduler.StepLR(optimizer, step_size=step_size, gamma=gamma)\n",
        "        elif scheduler_name == \"ExponentialLR\":\n",
        "            gamma = trial.suggest_uniform(\"gamma\", 0.8, 0.99)\n",
        "            scheduler = optim.lr_scheduler.ExponentialLR(optimizer, gamma=gamma)\n",
        "        elif scheduler_name == \"CosineAnnealingLR\":\n",
        "            if n_epochs < 150:\n",
        "                t_max_fraction = trial.suggest_uniform('t_max_fraction', 0.1, 0.3)\n",
        "            elif n_epochs > 250:\n",
        "                t_max_fraction = trial.suggest_uniform('t_max_fraction', 0.05, 0.1)\n",
        "            else:\n",
        "                t_max_fraction = trial.suggest_uniform('t_max_fraction', 0.1, 0.2)\n",
        "\n",
        "            T_max = int(n_epochs * t_max_fraction)\n",
        "            eta_min = trial.suggest_loguniform(\"eta_min\", 1e-7, 1e-2)\n",
        "            scheduler = optim.lr_scheduler.CosineAnnealingLR(optimizer, T_max=T_max, eta_min=eta_min)\n",
        "        elif scheduler_name == \"ReduceLROnPlateau\":\n",
        "            # Added sampling the factor, patience and threshold for ReduceLROnPlateau\n",
        "            factor = trial.suggest_uniform(\"factor\", 0.1, 0.5)\n",
        "            patience = trial.suggest_int(\"patience\", 5, 10)\n",
        "            threshold = trial.suggest_loguniform(\"threshold\", 1e-4, 1e-2)\n",
        "            scheduler = optim.lr_scheduler.ReduceLROnPlateau(\n",
        "                optimizer, mode=\"min\", factor=factor, patience=patience, threshold=threshold\n",
        "            )\n",
        "        # # Added using OneCycleLR scheduler as an option\n",
        "        # elif scheduler_name == \"OneCycleLR\":\n",
        "        #         # Added sampling the max_lr and pct_start for OneCycleLR\n",
        "        #         max_lr = trial.suggest_loguniform(\"max_lr\", lr, 10 * lr) \n",
        "        #         pct_start = trial.suggest_uniform(\"pct_start\", 0.1, 0.9)\n",
        "        #         scheduler = optim.lr_scheduler.OneCycleLR(\n",
        "        #             optimizer,\n",
        "        #             max_lr=max_lr,\n",
        "        #             epochs=n_epochs,\n",
        "        #             steps_per_epoch=len(train_loader),\n",
        "        #             pct_start=pct_start,\n",
        "        #         )\n",
        "        else:\n",
        "            scheduler = None\n",
        "    else:\n",
        "        # Creating the optimizer from its name\n",
        "        if optimizer_name == \"SGD\":\n",
        "            optimizer = optim.SGD(net.parameters(), lr=lr)\n",
        "        elif optimizer_name == \"Adam\":\n",
        "            optimizer = optim.Adam(net.parameters(), lr=lr)\n",
        "        elif optimizer_name == \"RMSprop\":\n",
        "            optimizer = optim.RMSprop(net.parameters(), lr=lr)\n",
        "        else:\n",
        "            optimizer = optim.Adagrad(net.parameters(), lr=lr)\n",
        "\n",
        "        # Creating the learning rate scheduler from its name\n",
        "        if scheduler_name == \"StepLR\":\n",
        "            scheduler = optim.lr_scheduler.StepLR(optimizer, step_size=10, gamma=0.1)\n",
        "        elif scheduler_name == \"ExponentialLR\":\n",
        "            scheduler = optim.lr_scheduler.ExponentialLR(optimizer, gamma=0.9)\n",
        "        elif scheduler_name == \"CosineAnnealingLR\":\n",
        "            scheduler = optim.lr_scheduler.CosineAnnealingLR(optimizer)\n",
        "        elif scheduler_name == \"ReduceLROnPlateau\":\n",
        "            # Creating the ReduceLROnPlateau scheduler with a threshold value of 0.01\n",
        "            #scheduler = optim.lr_scheduler.ReduceLROnPlateau(\n",
        "            #    optimizer, mode=\"min\", factor=0.1, patience=10, threshold=0.01\n",
        "            #)\n",
        "            # Use Dieseldorst et al. settings and add to that a minimum lr.\n",
        "            scheduler = optim.lr_scheduler.ReduceLROnPlateau(\n",
        "                        optimizer, mode=\"min\", factor=0.18979341786654758, patience=11, threshold=0.0017197466122611932 #, min_lr=1e-6\n",
        "                    )\n",
        "        else:\n",
        "            scheduler = None\n",
        "\n",
        "    # Returning all variables needed for saving and loading\n",
        "    return net, loss_fn, optimizer, batch_size, n_epochs, scheduler, loss_name, optimizer_name, scheduler_name, n_units, n_layers, hidden_activation, output_activation, lr\n",
        "\n"
      ]
    },
    {
      "cell_type": "markdown",
      "metadata": {
        "id": "l-czA7VvUZiD"
      },
      "source": [
        " ## The training and evaluation loop\n",
        "\n",
        " We first define a couple of functions used in the training and evaluation."
      ]
    },
    {
      "cell_type": "code",
      "execution_count": 27,
      "metadata": {
        "id": "aD6FQNmxUZiD"
      },
      "outputs": [],
      "source": [
        "# Defining a function that computes loss and metrics for a given batch\n",
        "def compute_loss_and_metrics(y_pred, y_true, loss_fn):\n",
        "    \"\"\"Computes loss and metrics for a given batch.\n",
        "\n",
        "    Args:\n",
        "        y_pred (torch.Tensor): The predicted pressure tensor of shape (batch_size, 1).\n",
        "        y_true (torch.Tensor): The true pressure tensor of shape (batch_size,).\n",
        "        loss_fn (torch.nn.Module or function): The loss function to use.\n",
        "\n",
        "    Returns:\n",
        "        tuple: A tuple of (loss, l1_norm), where loss is a scalar tensor,\n",
        "            l1_norm is L1 norm for relative error of pressure,\n",
        "            each being a scalar tensor.\n",
        "            linf_norm is Linf norm for relative error of pressure.\n",
        "    \"\"\"\n",
        "    # Reshaping the target tensor to match the input tensor\n",
        "    y_true = y_true.view(-1, 1)\n",
        "\n",
        "    # Computing the loss using the loss function\n",
        "    loss = loss_fn(y_pred, y_true)\n",
        "\n",
        "    # Computing the relative error of pressure\n",
        "    rel_error = torch.abs((y_pred - y_true) / y_true)\n",
        "\n",
        "    # Computing the L1 norm for the relative error of pressure\n",
        "    l1_norm = torch.mean(rel_error) \n",
        "    # Computing the Linf norm for the relative error of pressure\n",
        "    linf_norm = torch.max(rel_error) \n",
        "\n",
        "    # Returning the loss and metrics\n",
        "    return loss, l1_norm, linf_norm\n",
        "\n",
        "\n",
        "# Defining a function that updates the learning rate scheduler with validation loss if applicable\n",
        "def update_scheduler(scheduler, test_loss):\n",
        "    \"\"\"Updates the learning rate scheduler with validation loss if applicable.\n",
        "\n",
        "    Args:\n",
        "        scheduler (torch.optim.lr_scheduler._LRScheduler or None): The learning rate scheduler to use.\n",
        "        test_loss (float): The validation loss to use.\n",
        "\n",
        "    Returns:\n",
        "        None\n",
        "    \"\"\"\n",
        "    # Checking if scheduler is not None\n",
        "    if scheduler is not None:\n",
        "        # Checking if scheduler is ReduceLROnPlateau\n",
        "        if isinstance(scheduler, optim.lr_scheduler.ReduceLROnPlateau):\n",
        "            # Updating the scheduler with test_loss\n",
        "            scheduler.step(test_loss)\n",
        "        else:\n",
        "            # Updating the scheduler without test_loss\n",
        "            scheduler.step()\n"
      ]
    },
    {
      "cell_type": "markdown",
      "metadata": {
        "id": "w1nE662UUZiE"
      },
      "source": [
        "Now for the actual training and evaluation loop,"
      ]
    },
    {
      "cell_type": "code",
      "execution_count": 28,
      "metadata": {
        "id": "YAOjgKW3UZiF"
      },
      "outputs": [],
      "source": [
        "# Defining a function to train and evaluate a network\n",
        "def train_and_eval(net, loss_fn, optimizer, batch_size, n_epochs, scheduler, trial=None):\n",
        "    \"\"\"Trains and evaluates a network.\n",
        "\n",
        "    Args:\n",
        "        net (torch.nn.Module): The network to train and evaluate.\n",
        "        loss_fn (torch.nn.Module or function): The loss function.\n",
        "        optimizer (torch.optim.Optimizer): The optimizer.\n",
        "        batch_size (int): The batch size.\n",
        "        n_epochs (int): The number of epochs.\n",
        "        scheduler (torch.optim.lr_scheduler._LRScheduler or None): The learning rate scheduler.\n",
        "    Returns:\n",
        "        tuple: A tuple of (train_losses, test_losses, train_metrics, test_metrics), where\n",
        "            train_losses is a list of training losses for each epoch,\n",
        "            test_losses is a list of validation losses for each epoch,\n",
        "            train_metrics is a list of dictionaries containing training metrics for each epoch,\n",
        "            test_metrics is a list of dictionaries containing validation metrics for each epoch.\n",
        "    \"\"\"\n",
        "    # Creating data loaders for train and test sets\n",
        "    train_loader = torch.utils.data.DataLoader(\n",
        "        torch.utils.data.TensorDataset(x_train, y_train), batch_size=batch_size, shuffle=True\n",
        "    )\n",
        "    test_loader = torch.utils.data.DataLoader(\n",
        "        torch.utils.data.TensorDataset(x_test, y_test), batch_size=batch_size\n",
        "    )\n",
        "\n",
        "    # Initializing lists to store the losses and metrics for each epoch\n",
        "    train_losses = []\n",
        "    test_losses = []\n",
        "    train_metrics = []\n",
        "    test_metrics = []\n",
        "\n",
        "    # Creating a SummaryWriter object to log data for tensorboard\n",
        "    writer = tbx.SummaryWriter()\n",
        "\n",
        "    # Looping over the epochs\n",
        "    for epoch in range(n_epochs):\n",
        "\n",
        "        # Setting the network to training mode\n",
        "        net.train()\n",
        "\n",
        "        # Initializing variables to store the total loss and metrics for the train set\n",
        "        train_loss = 0.0\n",
        "        train_l1_norm = 0.0\n",
        "        train_linf_norm = 0.0\n",
        "\n",
        "        # Looping over the batches in the train set\n",
        "        for x_batch, y_batch in train_loader:\n",
        "\n",
        "            # Moving the batch tensors to the device\n",
        "            x_batch = x_batch.to(device)\n",
        "            y_batch = y_batch.to(device)\n",
        "\n",
        "            # Zeroing the gradients\n",
        "            optimizer.zero_grad()\n",
        "\n",
        "            # Performing a forward pass and computing the loss and metrics\n",
        "            y_pred = net(x_batch)\n",
        "            loss, l1_norm, linf_norm = compute_loss_and_metrics(\n",
        "                y_pred, y_batch, loss_fn\n",
        "            )\n",
        "\n",
        "\n",
        "            # Performing a backward pass and updating the weights\n",
        "            loss.backward()\n",
        "            optimizer.step()\n",
        "\n",
        "            # Updating the total loss and metrics for the train set\n",
        "            train_loss += loss.item() * x_batch.size(0)\n",
        "            train_l1_norm += l1_norm.item() * x_batch.size(0)\n",
        "            train_linf_norm += linf_norm.item() * x_batch.size(0)\n",
        "\n",
        "        # Computing the average loss and metrics for the train set\n",
        "        train_loss /= len(train_loader.dataset)\n",
        "        train_l1_norm /= len(train_loader.dataset)\n",
        "        train_linf_norm /= len(train_loader.dataset)\n",
        "\n",
        "        # Appending the average loss and metrics for the train set to the lists\n",
        "        train_losses.append(train_loss)\n",
        "        train_metrics.append(\n",
        "            {\n",
        "                \"l1_norm\": train_l1_norm,\n",
        "                \"linf_norm\": train_linf_norm,\n",
        "            }\n",
        "        )\n",
        "\n",
        "        # Logging the average loss and metrics for the train set to tensorboard\n",
        "        writer.add_scalar(\"Loss/train\", train_loss, epoch)\n",
        "        writer.add_scalar(\"L1 norm/train\", train_l1_norm, epoch)\n",
        "        writer.add_scalar(\"Linf norm/train\", train_linf_norm, epoch)\n",
        "\n",
        "        # Setting the network to evaluation mode\n",
        "        net.eval()\n",
        "\n",
        "        # Initializing variables to store the total loss and metrics for the test set\n",
        "        test_loss = 0.0\n",
        "        test_l1_norm = 0.0\n",
        "        test_linf_norm = 0.0\n",
        "\n",
        "        # Looping over the batches in the test set\n",
        "        with torch.no_grad():\n",
        "            for x_batch, y_batch in test_loader:\n",
        "\n",
        "                # Moving the batch tensors to the device\n",
        "                x_batch = x_batch.to(device)\n",
        "                y_batch = y_batch.to(device)\n",
        "\n",
        "                # Performing a forward pass and computing the loss and metrics\n",
        "                y_pred = net(x_batch)\n",
        "                loss, l1_norm, linf_norm = compute_loss_and_metrics(\n",
        "                    y_pred, y_batch, loss_fn\n",
        "                )\n",
        "\n",
        "\n",
        "                # Updating the total loss and metrics for the test set\n",
        "                test_loss += loss.item() * x_batch.size(0)\n",
        "                test_l1_norm += l1_norm.item() * x_batch.size(0)\n",
        "                test_linf_norm += linf_norm.item() * x_batch.size(0)\n",
        "\n",
        "        # Computing the average loss and metrics for the test set\n",
        "        test_loss /= len(test_loader.dataset)\n",
        "        test_l1_norm /= len(test_loader.dataset)\n",
        "        test_linf_norm /= len(test_loader.dataset)\n",
        "\n",
        "        # Appending the average loss and metrics for the test set to the lists\n",
        "        test_losses.append(test_loss)\n",
        "        test_metrics.append(\n",
        "            {\n",
        "                \"l1_norm\": test_l1_norm,\n",
        "                \"linf_norm\": test_linf_norm,\n",
        "            }\n",
        "        )\n",
        "\n",
        "        # Logging the average loss and metrics for the test set to tensorboard\n",
        "        writer.add_scalar(\"Loss/test\", test_loss, epoch)\n",
        "        writer.add_scalar(\"L1 norm/test\", test_l1_norm, epoch)\n",
        "        writer.add_scalar(\"Linf norm/test\", test_linf_norm, epoch)\n",
        "\n",
        "        # Printing the average loss and metrics for both sets for this epoch\n",
        "        print(\n",
        "            f\"Epoch {epoch + 1}: Train Loss: {train_loss:.4f}, Test Loss: {test_loss:.4f}, \"\n",
        "            f\"Train L1 Norm: {train_l1_norm:.4f}, Test L1 Norm: {test_l1_norm:.4f}, \"\n",
        "            f\"Train Linf Norm: {train_linf_norm:.4f}, Test Linf Norm: {test_linf_norm:.4f}\"\n",
        "        )\n",
        "\n",
        "        # Updating the learning rate scheduler with validation loss if applicable\n",
        "        update_scheduler(scheduler, test_loss)\n",
        "\n",
        "        # Reporting the intermediate metric value to Optuna if trial is not None\n",
        "        if trial is not None:\n",
        "            trial.report(test_metrics[-1][\"l1_norm\"], epoch)\n",
        "\n",
        "            # Checking if the trial should be pruned based on the intermediate value if trial is not None\n",
        "            if trial.should_prune():\n",
        "                raise optuna.TrialPruned()\n",
        "\n",
        "    # Closing the SummaryWriter object\n",
        "    writer.close()\n",
        "\n",
        "    # Returning the losses and metrics lists\n",
        "    return train_losses, test_losses, train_metrics, test_metrics"
      ]
    },
    {
      "cell_type": "markdown",
      "metadata": {
        "id": "xg9jz0SvUZiQ"
      },
      "source": [
        "## The objective function and hyperparameter tuning"
      ]
    },
    {
      "cell_type": "code",
      "execution_count": 29,
      "metadata": {
        "id": "fmRncQPuUZiR"
      },
      "outputs": [],
      "source": [
        "# Defining an objective function for Optuna to minimize\n",
        "def objective(trial):\n",
        "    \"\"\"Defines an objective function for Optuna to minimize.\n",
        "\n",
        "    Args:\n",
        "        trial (optuna.trial.Trial): The trial object that contains the hyperparameters.\n",
        "\n",
        "    Returns:\n",
        "        float: The validation L1 norm to minimize.\n",
        "    \"\"\"\n",
        "    # Creating a trial network and optimizer using the create_model function\n",
        "    net, \\\n",
        "    loss_fn, \\\n",
        "    optimizer, \\\n",
        "    batch_size, \\\n",
        "    n_epochs, \\\n",
        "    scheduler, \\\n",
        "    loss_name, \\\n",
        "    optimizer_name, \\\n",
        "    scheduler_name, \\\n",
        "    n_units, \\\n",
        "    n_layers, \\\n",
        "    hidden_activation, \\\n",
        "    output_activation, \\\n",
        "    lr = create_model(trial, optimize=True)\n",
        "\n",
        "    # Training and evaluating the network using the train_and_eval function\n",
        "    _, _, _, test_metrics = train_and_eval(\n",
        "        net, loss_fn, optimizer, batch_size, n_epochs, scheduler, trial\n",
        "    )\n",
        "\n",
        "    # Returning the last validation L1 norm as the objective value to minimize\n",
        "    return test_metrics[-1][\"l1_norm\"]"
      ]
    },
    {
      "cell_type": "code",
      "execution_count": 30,
      "metadata": {
        "id": "GyES4NAyUZiS"
      },
      "outputs": [],
      "source": [
        "if OPTIMIZE:\n",
        "    # Creating a study object with Optuna with TPE sampler and median pruner \n",
        "    study = optuna.create_study(direction=\"minimize\", sampler=optuna.samplers.TPESampler(), pruner=optuna.pruners.MedianPruner())\n",
        "\n",
        "    # Running Optuna with 100 trials when we are optimizing.\n",
        "    study.optimize(objective, n_trials=N_TRIALS)\n",
        "\n",
        "    # Printing the best trial information\n",
        "    print(\"Best trial:\")\n",
        "    trial = study.best_trial\n",
        "    print(\"  Value: \", trial.value)\n",
        "    print(\"  Params: \")\n",
        "    for key, value in trial.params.items():\n",
        "        print(f\"    {key}: {value}\")\n"
      ]
    },
    {
      "cell_type": "markdown",
      "metadata": {
        "id": "jmMfE9_dUZiS"
      },
      "source": [
        "## Training the model"
      ]
    },
    {
      "cell_type": "code",
      "execution_count": 31,
      "metadata": {
        "id": "phyiHlWEUZiT"
      },
      "outputs": [],
      "source": [
        "# Creating the best network and optimizer using the best hyperparameters\n",
        "if OPTIMIZE:\n",
        "    net, \\\n",
        "    loss_fn, \\\n",
        "    optimizer, \\\n",
        "    batch_size, \\\n",
        "    n_epochs, \\\n",
        "    scheduler, \\\n",
        "    loss_name, \\\n",
        "    optimizer_name, \\\n",
        "    scheduler_name, \\\n",
        "    n_units, \\\n",
        "    n_layers, \\\n",
        "    hidden_activation, \\\n",
        "    output_activation, \\\n",
        "    lr = create_model(trial, optimize=True)\n",
        "# Creating the network with predefined hyperparameters\n",
        "else:\n",
        "    net, \\\n",
        "    loss_fn, \\\n",
        "    optimizer, \\\n",
        "    batch_size, \\\n",
        "    n_epochs, \\\n",
        "    scheduler, \\\n",
        "    loss_name, \\\n",
        "    optimizer_name, \\\n",
        "    scheduler_name, \\\n",
        "    n_units, \\\n",
        "    n_layers, \\\n",
        "    hidden_activation, \\\n",
        "    output_activation, \\\n",
        "    lr = create_model(trial=None, optimize=False)"
      ]
    },
    {
      "cell_type": "code",
      "execution_count": 32,
      "metadata": {
        "colab": {
          "base_uri": "https://localhost:8080/"
        },
        "id": "_yq-oY81UZiU",
        "outputId": "dbf2f465-bd50-4a20-8926-616c3d2157d0"
      },
      "outputs": [
        {
          "name": "stdout",
          "output_type": "stream",
          "text": [
            "loss_fn: SmoothL1Loss()\n",
            "batch_size: 49\n",
            "n_epochs: 10\n",
            "scheduler: <torch.optim.lr_scheduler.ReduceLROnPlateau object at 0x000001B9861DC1D0>\n",
            "loss_name: Huber\n",
            "optimizer_name: RMSprop\n",
            "scheduler_name: ReduceLROnPlateau\n",
            "n_units: [555, 458, 115]\n",
            "n_layers: 3\n",
            "hidden_activation: ReLU()\n",
            "output_activation: ReLU()\n"
          ]
        }
      ],
      "source": [
        "print(\"loss_fn:\", loss_fn)\n",
        "print(\"batch_size:\", batch_size)\n",
        "print(\"n_epochs:\", n_epochs)\n",
        "print(\"scheduler:\", scheduler)\n",
        "print(\"loss_name:\", loss_name)\n",
        "print(\"optimizer_name:\", optimizer_name)\n",
        "print(\"scheduler_name:\", scheduler_name)\n",
        "print(\"n_units:\", n_units)\n",
        "print(\"n_layers:\", n_layers)\n",
        "print(\"hidden_activation:\", hidden_activation)\n",
        "print(\"output_activation:\", output_activation)"
      ]
    },
    {
      "cell_type": "code",
      "execution_count": 33,
      "metadata": {
        "colab": {
          "base_uri": "https://localhost:8080/"
        },
        "id": "E7aLWdZyUZiW",
        "outputId": "8fb1e8c6-5aa3-43a1-a255-712cf9396d0c"
      },
      "outputs": [
        {
          "name": "stdout",
          "output_type": "stream",
          "text": [
            "Epoch 1: Train Loss: 0.1296, Test Loss: 0.0379, Train L1 Norm: 1.1607, Test L1 Norm: 0.6135, Train Linf Norm: 44.2254, Test Linf Norm: 20.9987\n",
            "Epoch 2: Train Loss: 0.0557, Test Loss: 0.0278, Train L1 Norm: 0.7921, Test L1 Norm: 0.7363, Train Linf Norm: 29.5705, Test Linf Norm: 27.2425\n",
            "Epoch 3: Train Loss: 0.0447, Test Loss: 0.0260, Train L1 Norm: 0.7813, Test L1 Norm: 0.4953, Train Linf Norm: 29.5789, Test Linf Norm: 16.2003\n",
            "Epoch 4: Train Loss: 0.0389, Test Loss: 0.0307, Train L1 Norm: 0.8027, Test L1 Norm: 0.4259, Train Linf Norm: 31.1333, Test Linf Norm: 13.8606\n",
            "Epoch 5: Train Loss: 0.0353, Test Loss: 0.0217, Train L1 Norm: 0.8021, Test L1 Norm: 0.6589, Train Linf Norm: 31.2613, Test Linf Norm: 24.1020\n",
            "Epoch 6: Train Loss: 0.0322, Test Loss: 0.0347, Train L1 Norm: 0.7591, Test L1 Norm: 0.6392, Train Linf Norm: 29.3623, Test Linf Norm: 23.7407\n",
            "Epoch 7: Train Loss: 0.0304, Test Loss: 0.0262, Train L1 Norm: 0.6632, Test L1 Norm: 0.6105, Train Linf Norm: 24.7223, Test Linf Norm: 21.7999\n",
            "Epoch 8: Train Loss: 0.0283, Test Loss: 0.0238, Train L1 Norm: 0.7088, Test L1 Norm: 0.3818, Train Linf Norm: 27.2703, Test Linf Norm: 12.0748\n",
            "Epoch 9: Train Loss: 0.0276, Test Loss: 0.0249, Train L1 Norm: 0.6109, Test L1 Norm: 0.4198, Train Linf Norm: 22.5827, Test Linf Norm: 13.5382\n",
            "Epoch 10: Train Loss: 0.0262, Test Loss: 0.0404, Train L1 Norm: 0.6094, Test L1 Norm: 0.7129, Train Linf Norm: 22.6691, Test Linf Norm: 25.4072\n"
          ]
        }
      ],
      "source": [
        "# Training and evaluating the network using the train_and_eval function\n",
        "train_losses, test_losses, train_metrics, test_metrics = train_and_eval(\n",
        "    net, loss_fn, optimizer, batch_size, n_epochs, scheduler\n",
        ")"
      ]
    },
    {
      "cell_type": "markdown",
      "metadata": {
        "id": "akNucrgMUZiW"
      },
      "source": [
        "## Saving"
      ]
    },
    {
      "cell_type": "code",
      "execution_count": 34,
      "metadata": {
        "id": "LHsrs2Y-UZic"
      },
      "outputs": [],
      "source": [
        "import json\n",
        "import pandas as pd\n",
        "\n",
        "# save the network to a .pth file\n",
        "torch.save(net.state_dict(), \"net.pth\")\n",
        "save_file(\"net.pth\")\n",
        "\n",
        "# save the optimizer to a .pth file\n",
        "torch.save(optimizer.state_dict(), \"optimizer.pth\")\n",
        "save_file(\"optimizer.pth\")\n",
        "\n",
        "# save the scheduler to a .pth file if it is not None\n",
        "if scheduler is not None:\n",
        "  torch.save(scheduler.state_dict(), \"scheduler.pth\")\n",
        "  save_file(\"scheduler.pth\")\n",
        "\n",
        "# create a dictionary to store the rest of the variables\n",
        "var_dict = {\n",
        "  \"batch_size\": batch_size,\n",
        "  \"n_epochs\": n_epochs,\n",
        "  \"loss_name\": loss_name,\n",
        "  \"optimizer_name\": optimizer_name,\n",
        "  \"scheduler_name\": scheduler_name,\n",
        "  \"n_units\": n_units,\n",
        "  \"n_layers\": n_layers,\n",
        "  \"hidden_activation_name\": hidden_activation.__class__.__name__,\n",
        "  \"output_activation_name\": output_activation.__class__.__name__,\n",
        "  \"lr\": lr,\n",
        "}\n",
        "\n",
        "# save the dictionary to a .json file\n",
        "with open(\"var_dict.json\", \"w\") as f:\n",
        "  json.dump(var_dict, f)\n",
        "save_file(\"var_dict.json\")\n",
        "\n",
        "# Saving the output of the training using pandas\n",
        "train_df = pd.DataFrame(\n",
        "    {\n",
        "        \"train_loss\": train_losses,\n",
        "        \"test_loss\": test_losses,\n",
        "        \"train_l1_norm\": [m[\"l1_norm\"] for m in train_metrics],\n",
        "        \"test_l1_norm\": [m[\"l1_norm\"] for m in test_metrics],\n",
        "        \"train_linf_norm\": [m[\"linf_norm\"] for m in train_metrics],\n",
        "        \"test_linf_norm\": [m[\"linf_norm\"] for m in test_metrics],\n",
        "    }\n",
        ")\n",
        "train_df.to_csv(\"train_output.csv\", index=False)\n",
        "save_file(\"train_output.csv\")\n"
      ]
    },
    {
      "cell_type": "markdown",
      "metadata": {
        "id": "qU23l7dIUZie"
      },
      "source": [
        "## Visualizing the results"
      ]
    },
    {
      "cell_type": "code",
      "execution_count": 35,
      "metadata": {
        "colab": {
          "base_uri": "https://localhost:8080/",
          "height": 1000
        },
        "id": "cippWZS6UZie",
        "outputId": "f0d6e5c3-945f-481b-a153-e54fed7fe9fa"
      },
      "outputs": [
        {
          "data": {
            "text/plain": [
              "<Figure size 1200x800 with 0 Axes>"
            ]
          },
          "execution_count": 35,
          "metadata": {},
          "output_type": "execute_result"
        },
        {
          "data": {
            "text/plain": [
              "<Axes: >"
            ]
          },
          "execution_count": 35,
          "metadata": {},
          "output_type": "execute_result"
        },
        {
          "data": {
            "text/plain": [
              "[<matplotlib.lines.Line2D at 0x1b9fe20bf90>]"
            ]
          },
          "execution_count": 35,
          "metadata": {},
          "output_type": "execute_result"
        },
        {
          "data": {
            "text/plain": [
              "[<matplotlib.lines.Line2D at 0x1b9861e0dd0>]"
            ]
          },
          "execution_count": 35,
          "metadata": {},
          "output_type": "execute_result"
        },
        {
          "data": {
            "text/plain": [
              "Text(0.5, 0, 'Epoch')"
            ]
          },
          "execution_count": 35,
          "metadata": {},
          "output_type": "execute_result"
        },
        {
          "data": {
            "text/plain": [
              "Text(0, 0.5, 'L1 Norm')"
            ]
          },
          "execution_count": 35,
          "metadata": {},
          "output_type": "execute_result"
        },
        {
          "data": {
            "text/plain": [
              "(0.001, 100.0)"
            ]
          },
          "execution_count": 35,
          "metadata": {},
          "output_type": "execute_result"
        },
        {
          "data": {
            "text/plain": [
              "<matplotlib.legend.Legend at 0x1b9fec3aad0>"
            ]
          },
          "execution_count": 35,
          "metadata": {},
          "output_type": "execute_result"
        },
        {
          "data": {
            "text/plain": [
              "<Axes: >"
            ]
          },
          "execution_count": 35,
          "metadata": {},
          "output_type": "execute_result"
        },
        {
          "data": {
            "text/plain": [
              "[<matplotlib.lines.Line2D at 0x1b986295b50>]"
            ]
          },
          "execution_count": 35,
          "metadata": {},
          "output_type": "execute_result"
        },
        {
          "data": {
            "text/plain": [
              "[<matplotlib.lines.Line2D at 0x1b9861d5cd0>]"
            ]
          },
          "execution_count": 35,
          "metadata": {},
          "output_type": "execute_result"
        },
        {
          "data": {
            "text/plain": [
              "Text(0.5, 0, 'Epoch')"
            ]
          },
          "execution_count": 35,
          "metadata": {},
          "output_type": "execute_result"
        },
        {
          "data": {
            "text/plain": [
              "Text(0, 0.5, 'Linf Norm')"
            ]
          },
          "execution_count": 35,
          "metadata": {},
          "output_type": "execute_result"
        },
        {
          "data": {
            "text/plain": [
              "(0.001, 100.0)"
            ]
          },
          "execution_count": 35,
          "metadata": {},
          "output_type": "execute_result"
        },
        {
          "data": {
            "text/plain": [
              "<matplotlib.legend.Legend at 0x1b9fe1770d0>"
            ]
          },
          "execution_count": 35,
          "metadata": {},
          "output_type": "execute_result"
        },
        {
          "data": {
            "image/png": "[encoded data removed]",
            "text/plain": [
              "<Figure size 1200x800 with 2 Axes>"
            ]
          },
          "metadata": {},
          "output_type": "display_data"
        },
        {
          "data": {
            "text/plain": [
              "<Figure size 800x600 with 0 Axes>"
            ]
          },
          "execution_count": 35,
          "metadata": {},
          "output_type": "execute_result"
        },
        {
          "data": {
            "text/plain": [
              "[<matplotlib.lines.Line2D at 0x1b98995bc90>]"
            ]
          },
          "execution_count": 35,
          "metadata": {},
          "output_type": "execute_result"
        },
        {
          "data": {
            "text/plain": [
              "[<matplotlib.lines.Line2D at 0x1b989e14f90>]"
            ]
          },
          "execution_count": 35,
          "metadata": {},
          "output_type": "execute_result"
        },
        {
          "data": {
            "text/plain": [
              "Text(0.5, 0, 'Epoch')"
            ]
          },
          "execution_count": 35,
          "metadata": {},
          "output_type": "execute_result"
        },
        {
          "data": {
            "text/plain": [
              "Text(0, 0.5, 'Huber Loss')"
            ]
          },
          "execution_count": 35,
          "metadata": {},
          "output_type": "execute_result"
        },
        {
          "data": {
            "text/plain": [
              "(1e-07, 1.0)"
            ]
          },
          "execution_count": 35,
          "metadata": {},
          "output_type": "execute_result"
        },
        {
          "data": {
            "text/plain": [
              "<matplotlib.legend.Legend at 0x1b9fe235590>"
            ]
          },
          "execution_count": 35,
          "metadata": {},
          "output_type": "execute_result"
        },
        {
          "data": {
            "image/png": "[encoded data removed]",
            "text/plain": [
              "<Figure size 800x600 with 1 Axes>"
            ]
          },
          "metadata": {},
          "output_type": "display_data"
        }
      ],
      "source": [
        "# Plotting the losses and metrics for the best network \n",
        "plt.figure(figsize=(12, 8))\n",
        "#plt.subplot(2, 2, 1)\n",
        "#plt.plot(train_losses, label=\"Train Loss\")\n",
        "#plt.plot(test_losses, label=\"Test Loss\")\n",
        "#plt.xlabel(\"Epoch\")\n",
        "#plt.ylabel(\"Loss\")\n",
        "#plt.legend()\n",
        "plt.subplot(2, 2, 2)\n",
        "plt.plot([m[\"l1_norm\"] for m in train_metrics], label=\"Train L1 Norm\")\n",
        "plt.plot([m[\"l1_norm\"] for m in test_metrics], label=\"Test L1 Norm\")\n",
        "plt.xlabel(\"Epoch\")\n",
        "plt.ylabel(\"L1 Norm\")\n",
        "# Added setting the vertical axis to be in powers of 10\n",
        "plt.yscale(\"log\")\n",
        "# Added setting the vertical axis limits to be from 10^-7 to 10^0\n",
        "plt.ylim(1e-3, 1e2)\n",
        "plt.legend()\n",
        "plt.subplot(2, 2, 3)\n",
        "plt.plot([m[\"linf_norm\"] for m in train_metrics], label=\"Train Linf Norm\")\n",
        "plt.plot([m[\"linf_norm\"] for m in test_metrics], label=\"Test Linf Norm\")\n",
        "plt.xlabel(\"Epoch\")\n",
        "plt.ylabel(\"Linf Norm\")\n",
        "# Added setting the vertical axis to be in powers of 10\n",
        "plt.yscale(\"log\")\n",
        "# Added setting the vertical axis limits to be from 10^-7 to 10^0\n",
        "plt.ylim(1e-3, 1e2)\n",
        "plt.legend()\n",
        "plt.tight_layout()\n",
        "plt.show()\n",
        "\n",
        "# Added plotting MSE of training data and MSE of test data in one plot \n",
        "plt.figure(figsize=(8, 6))\n",
        "plt.plot(train_losses,label=\"training data\")\n",
        "plt.plot(test_losses,label=\"test data\")\n",
        "#if scheduler is not None:\n",
        "#    plt.plot([scheduler.get_last_lr()[0] for _ in range(n_epochs)], label=\"Learning rate\") \n",
        "plt.xlabel(\"Epoch\")\n",
        "plt.ylabel(f\"{loss_name} Loss\")\n",
        "# Added setting the vertical axis to be in powers of 10\n",
        "plt.yscale(\"log\")\n",
        "# Added setting the vertical axis limits to be from 10^-7 to 10^0\n",
        "plt.ylim(1e-7, 1e0)\n",
        "plt.legend()\n",
        "plt.show()"
      ]
    },
    {
      "cell_type": "markdown",
      "metadata": {
        "id": "tiEDutxIUZig"
      },
      "source": [
        "## Loading"
      ]
    },
    {
      "cell_type": "code",
      "execution_count": 36,
      "metadata": {
        "colab": {
          "base_uri": "https://localhost:8080/"
        },
        "id": "p7Mj990wUZih",
        "outputId": "a1132948-c3b1-4d75-becf-4efa93c9a7d0"
      },
      "outputs": [
        {
          "data": {
            "text/plain": [
              "<All keys matched successfully>"
            ]
          },
          "execution_count": 36,
          "metadata": {},
          "output_type": "execute_result"
        }
      ],
      "source": [
        "import json\n",
        "import pandas as pd\n",
        "\n",
        "# load the dictionary from the .json file\n",
        "with open(\"var_dict.json\", \"r\") as f:\n",
        "  var_dict_loaded = json.load(f)\n",
        "\n",
        "# extract the variables from the dictionary\n",
        "batch_size_loaded = var_dict_loaded[\"batch_size\"]\n",
        "n_epochs_loaded = var_dict_loaded[\"n_epochs\"]\n",
        "loss_name_loaded = var_dict_loaded[\"loss_name\"]\n",
        "optimizer_name_loaded = var_dict_loaded[\"optimizer_name\"]\n",
        "scheduler_name_loaded = var_dict_loaded[\"scheduler_name\"]\n",
        "n_units_loaded = var_dict_loaded[\"n_units\"]\n",
        "n_layers_loaded = var_dict_loaded[\"n_layers\"]\n",
        "hidden_activation_name_loaded = var_dict_loaded[\"hidden_activation_name\"]\n",
        "output_activation_name_loaded = var_dict_loaded[\"output_activation_name\"]\n",
        "lr_loaded = var_dict_loaded[\"lr\"]\n",
        "\n",
        "# create the activation functions from their names\n",
        "if hidden_activation_name_loaded == \"ReLU\":\n",
        "  hidden_activation_loaded = nn.ReLU()\n",
        "elif hidden_activation_name_loaded == \"LeakyReLU\":\n",
        "  hidden_activation_loaded = nn.LeakyReLU() \n",
        "elif hidden_activation_name_loaded == \"ELU\":\n",
        "  hidden_activation_loaded = nn.ELU() \n",
        "elif hidden_activation_name_loaded == \"Tanh\":\n",
        "  hidden_activation_loaded = nn.Tanh()\n",
        "else:\n",
        "  hidden_activation_loaded = nn.Sigmoid()\n",
        "\n",
        "if output_activation_name_loaded == \"ReLU\":\n",
        "    output_activation_loaded = nn.ReLU()\n",
        "elif output_activation_name_loaded == \"Softplus\":\n",
        "    output_activation_loaded = nn.Softplus()\n",
        "else:\n",
        "    output_activation_loaded = nn.Identity()\n",
        "\n",
        "\n",
        "\n",
        "# load the network from the .pth file\n",
        "net_loaded = Net(n_layers_loaded, n_units_loaded, hidden_activation_loaded, output_activation_loaded).to(device)\n",
        "if torch.cuda.is_available():\n",
        " net_loaded.load_state_dict(torch.load(\"net.pth\"))\n",
        "else: \n",
        "  net_loaded.load_state_dict(torch.load(\"net.pth\", map_location=torch.device('cpu')))\n",
        "\n",
        "# create the loss function from its name\n",
        "if loss_name_loaded == \"MSE\":\n",
        "  loss_fn_loaded = nn.MSELoss()\n",
        "elif loss_name_loaded == \"MAE\":\n",
        "  loss_fn_loaded = nn.L1Loss()\n",
        "elif loss_name_loaded == \"Huber\":\n",
        "  loss_fn_loaded = nn.SmoothL1Loss() \n",
        "else:\n",
        "  # create the log-cosh loss function\n",
        "  def log_cosh_loss_loaded(y_pred, y_true):\n",
        "    return torch.mean(torch.log(torch.cosh(y_pred - y_true)))\n",
        "  loss_fn_loaded = log_cosh_loss_loaded\n",
        "\n",
        "# load the optimizer from the .pth file\n",
        "if torch.cuda.is_available():\n",
        "  optimizer_loaded_state_dict = torch.load(\"optimizer.pth\")\n",
        "else:\n",
        "  optimizer_loaded_state_dict = torch.load(\"optimizer.pth\", map_location=torch.device('cpu'))\n",
        "\n",
        "if optimizer_name_loaded == \"SGD\":\n",
        "  # Added getting the weight decay and momentum parameters from the state dict\n",
        "  weight_decay_loaded = optimizer_loaded_state_dict[\"param_groups\"][0][\"weight_decay\"]\n",
        "  momentum_loaded = optimizer_loaded_state_dict[\"param_groups\"][0][\"momentum\"]\n",
        "  optimizer_loaded = optim.SGD(net_loaded.parameters(), lr=lr_loaded, weight_decay=weight_decay_loaded, momentum=momentum_loaded)\n",
        "elif optimizer_name_loaded == \"Adam\":\n",
        "  # Added getting the weight decay and beta parameters from the state dict\n",
        "  weight_decay_loaded = optimizer_loaded_state_dict[\"param_groups\"][0][\"weight_decay\"]\n",
        "  beta1_loaded = optimizer_loaded_state_dict[\"param_groups\"][0][\"betas\"][0]\n",
        "  beta2_loaded = optimizer_loaded_state_dict[\"param_groups\"][0][\"betas\"][1]\n",
        "  optimizer_loaded = optim.Adam(net_loaded.parameters(), lr=lr_loaded, weight_decay=weight_decay_loaded, betas=(beta1_loaded, beta2_loaded))\n",
        "elif optimizer_name_loaded == \"RMSprop\":\n",
        "  optimizer_loaded = optim.RMSprop(net_loaded.parameters(), lr=lr_loaded)\n",
        "else:\n",
        "  # Added loading the Adagrad optimizer\n",
        "  optimizer_loaded = optim.Adagrad(net_loaded.parameters(), lr=lr_loaded)\n",
        "optimizer_loaded.load_state_dict(optimizer_loaded_state_dict)\n",
        "\n",
        "# load the scheduler from the .pth file\n",
        "if torch.cuda.is_available():\n",
        "  scheduler_loaded_state_dict = torch.load(\"scheduler.pth\")\n",
        "else: \n",
        "  scheduler_loaded_state_dict = torch.load(\"scheduler.pth\", map_location=torch.device('cpu'))\n",
        "\n",
        "if scheduler_name_loaded == \"StepLR\":\n",
        "  # Added getting the step_size and gamma parameters from the state dict\n",
        "  step_size_loaded = scheduler_loaded_state_dict[\"step_size\"]\n",
        "  gamma_loaded = scheduler_loaded_state_dict[\"gamma\"]\n",
        "  scheduler_loaded = optim.lr_scheduler.StepLR(optimizer_loaded, step_size=step_size_loaded, gamma=gamma_loaded)\n",
        "elif scheduler_name_loaded == \"ExponentialLR\":\n",
        "  # Added getting the gamma parameter from the state dict\n",
        "  gamma_loaded = scheduler_loaded_state_dict[\"gamma\"]\n",
        "  scheduler_loaded = optim.lr_scheduler.ExponentialLR(optimizer_loaded, gamma=gamma_loaded)\n",
        "elif scheduler_name_loaded == \"CosineAnnealingLR\":\n",
        "  # Added getting the T_max parameter from the state dict\n",
        "  T_max_loaded = scheduler_loaded_state_dict[\"T_max\"]\n",
        "  scheduler_loaded = optim.lr_scheduler.CosineAnnealingLR(optimizer_loaded, T_max=T_max_loaded)\n",
        "elif scheduler_name_loaded == \"ReduceLROnPlateau\":\n",
        "  # Added getting the mode, factor, patience, threshold and min_lr parameters from the state dict\n",
        "  mode_loaded = scheduler_loaded_state_dict[\"mode\"]\n",
        "  factor_loaded = scheduler_loaded_state_dict[\"factor\"]\n",
        "  patience_loaded = scheduler_loaded_state_dict[\"patience\"]\n",
        "  threshold_loaded = scheduler_loaded_state_dict[\"threshold\"]\n",
        "  min_lr_loaded = scheduler_loaded_state_dict[\"min_lrs\"][0]\n",
        "  scheduler_loaded = optim.lr_scheduler.ReduceLROnPlateau(\n",
        "                    optimizer_loaded, mode=mode_loaded, factor=factor_loaded, patience=patience_loaded, threshold=threshold_loaded, min_lr=min_lr_loaded\n",
        "                )\n",
        "# elif scheduler_name_loaded == \"OneCycleLR\":\n",
        "#   max_lr_loaded = scheduler_loaded_state_dict[\"max_lr\"]\n",
        "#   epochs_loaded = scheduler_loaded_state_dict[\"epochs\"]\n",
        "#   steps_per_epoch_loaded = scheduler_loaded_state_dict[\"steps_per_epoch\"]\n",
        "#   pct_start_loaded = scheduler_loaded_state_dict[\"pct_start\"]\n",
        "#   max_lr_loaded = scheduler_loaded_state_dict[\"max_lr\"]\n",
        "#   scheduler_loaded = optim.lr_scheduler.OneCycleLR(\n",
        "#                     optimizer_loaded, max_lr=max_lr_loaded, epochs=epochs_loaded, steps_per_epoch=steps_per_epoch_loaded, pct_start=pct_start_loaded\n",
        "#                 )\n",
        "else:\n",
        "  scheduler_loaded = None\n",
        "\n",
        "if scheduler_loaded is not None:\n",
        "  # Added loading the state dict to the scheduler_loaded\n",
        "  scheduler_loaded.load_state_dict(scheduler_loaded_state_dict)\n",
        "\n",
        "# Loading the output of the training using pandas\n",
        "train_df_loaded = pd.read_csv(\"train_output.csv\")\n",
        "train_losses_loaded = train_df_loaded[\"train_loss\"].tolist()\n",
        "test_losses_loaded = train_df_loaded[\"test_loss\"].tolist()\n",
        "train_metrics_loaded = [\n",
        "    {\n",
        "        \"l1_norm\": train_df_loaded[\"train_l1_norm\"][i],\n",
        "        \"linf_norm\": train_df_loaded[\"train_linf_norm\"][i],\n",
        "    }\n",
        "    for i in range(len(train_df_loaded))\n",
        "]\n",
        "test_metrics_loaded = [\n",
        "    {\n",
        "        \"l1_norm\": train_df_loaded[\"test_l1_norm\"][i],\n",
        "        \"linf_norm\": train_df_loaded[\"test_linf_norm\"][i],\n",
        "    }\n",
        "    for i in range(len(train_df_loaded))\n",
        "]"
      ]
    },
    {
      "cell_type": "code",
      "execution_count": 37,
      "metadata": {
        "colab": {
          "base_uri": "https://localhost:8080/",
          "height": 1000
        },
        "id": "GQ_fcj7zUZii",
        "outputId": "c4979ef0-a99c-4754-e222-3af23a83c1cb"
      },
      "outputs": [
        {
          "name": "stdout",
          "output_type": "stream",
          "text": [
            "Couldn't find program: 'echo'\n"
          ]
        }
      ],
      "source": [
        "%%script echo skipping\n",
        "\n",
        "batch_size_loaded\n",
        "n_epochs_loaded\n",
        "loss_name_loaded\n",
        "optimizer_name_loaded\n",
        "scheduler_name_loaded\n",
        "n_units_loaded\n",
        "n_layers_loaded\n",
        "hidden_activation_name_loaded\n",
        "output_activation_name_loaded\n",
        "lr_loaded\n",
        "hidden_activation_loaded\n",
        "output_activation_loaded\n",
        "net_loaded\n",
        "net_loaded.__dict__ # print the subparameters of the network\n",
        "loss_fn_loaded\n",
        "optimizer_loaded\n",
        "optimizer_loaded.__dict__ # print the subparameters of the optimizer\n",
        "scheduler_loaded\n",
        "scheduler_loaded.__dict__ # print the subparameters of the scheduler\n",
        "train_losses_loaded\n",
        "test_losses_loaded\n",
        "train_metrics_loaded\n",
        "test_metrics_loaded"
      ]
    },
    {
      "cell_type": "code",
      "execution_count": 38,
      "metadata": {},
      "outputs": [
        {
          "data": {
            "text/plain": [
              "0.0261741581010865"
            ]
          },
          "execution_count": 38,
          "metadata": {},
          "output_type": "execute_result"
        },
        {
          "data": {
            "text/plain": [
              "0.0404153630387038"
            ]
          },
          "execution_count": 38,
          "metadata": {},
          "output_type": "execute_result"
        },
        {
          "data": {
            "text/plain": [
              "0.7128970791220665"
            ]
          },
          "execution_count": 38,
          "metadata": {},
          "output_type": "execute_result"
        },
        {
          "data": {
            "text/plain": [
              "25.40718477100432"
            ]
          },
          "execution_count": 38,
          "metadata": {},
          "output_type": "execute_result"
        },
        {
          "name": "stdout",
          "output_type": "stream",
          "text": [
            "Error is 1856.5028102137146 times bigger than in Dieselhorst et al.\n",
            "Error is 3121.2757703936513 times bigger than in Dieselhorst et al.\n"
          ]
        }
      ],
      "source": [
        "train_losses_loaded[-1]\n",
        "test_losses_loaded[-1]\n",
        "test_metrics_loaded[-1]['l1_norm']\n",
        "test_metrics_loaded[-1]['linf_norm']\n",
        "print(f'Error is {test_metrics_loaded[-1][\"l1_norm\"] / (3.84e-4)} times bigger than in Dieselhorst et al.')\n",
        "print(f'Error is {test_metrics_loaded[-1][\"linf_norm\"] / (8.14e-3)} times bigger than in Dieselhorst et al.')"
      ]
    },
    {
      "attachments": {},
      "cell_type": "markdown",
      "metadata": {},
      "source": [
        "### Visualize loaded results"
      ]
    },
    {
      "cell_type": "markdown",
      "metadata": {
        "id": "vwLGR1aSUZik"
      },
      "source": [
        "Let us verify correct loading of the train and test metrics by visualizing them again but now through the loaded values. Likewise for the train and test losses."
      ]
    },
    {
      "cell_type": "code",
      "execution_count": 39,
      "metadata": {
        "id": "sXiNgLsmUZil"
      },
      "outputs": [],
      "source": [
        "%config InteractiveShell.ast_node_interactivity = \"last_expr_or_assign\""
      ]
    },
    {
      "cell_type": "code",
      "execution_count": 40,
      "metadata": {
        "colab": {
          "base_uri": "https://localhost:8080/",
          "height": 1000
        },
        "id": "sgq4WfSiUZil",
        "outputId": "9934bd08-6c78-4a92-c8c6-d8e835c351b3"
      },
      "outputs": [
        {
          "data": {
            "image/png": "[encoded data removed]",
            "text/plain": [
              "<Figure size 640x480 with 2 Axes>"
            ]
          },
          "metadata": {},
          "output_type": "display_data"
        },
        {
          "data": {
            "image/png": "[encoded data removed]",
            "text/plain": [
              "<Figure size 800x600 with 1 Axes>"
            ]
          },
          "metadata": {},
          "output_type": "display_data"
        }
      ],
      "source": [
        "# Plotting the losses and metrics for the best network plt.figure(figsize=(12, \n",
        "#plt.subplot(2, 2, 1)\n",
        "#plt.plot(train_losses_loaded, label=\"Train Loss\")\n",
        "#plt.plot(test_losses_loaded, label=\"Test Loss\")\n",
        "#plt.xlabel(\"Epoch\")\n",
        "#plt.ylabel(\"Loss\")\n",
        "#plt.legend()\n",
        "plt.subplot(2, 2, 2)\n",
        "plt.plot([m[\"l1_norm\"] for m in train_metrics_loaded], label=\"Train L1 Norm\")\n",
        "plt.plot([m[\"l1_norm\"] for m in test_metrics_loaded], label=\"Test L1 Norm\")\n",
        "plt.xlabel(\"Epoch\")\n",
        "plt.ylabel(\"L1 Norm\")\n",
        "# Added setting the vertical axis to be in powers of 10\n",
        "plt.yscale(\"log\")\n",
        "# Added setting the vertical axis limits to be from 10^-7 to 10^0\n",
        "plt.ylim(1e-3, 1e2)\n",
        "plt.legend()\n",
        "plt.subplot(2, 2, 3)\n",
        "plt.plot([m[\"linf_norm\"] for m in train_metrics_loaded], label=\"Train Linf Norm\")\n",
        "plt.plot([m[\"linf_norm\"] for m in test_metrics_loaded], label=\"Test Linf Norm\")\n",
        "plt.xlabel(\"Epoch\")\n",
        "plt.ylabel(\"Linf Norm\")\n",
        "# Added setting the vertical axis to be in powers of 10\n",
        "plt.yscale(\"log\")\n",
        "# Added setting the vertical axis limits to be from 10^-7 to 10^0\n",
        "plt.ylim(1e-3, 1e2)\n",
        "plt.legend()\n",
        "plt.tight_layout()\n",
        "plt.show()\n",
        "\n",
        "# Added plotting MSE of training data and MSE of test data in one plot \n",
        "plt.figure(figsize=(8, 6))\n",
        "plt.plot(train_losses_loaded,label=\"training data\")\n",
        "plt.plot(test_losses_loaded,label=\"test data\")\n",
        "#if scheduler is not None:\n",
        "#    plt.plot([scheduler.get_last_lr()[0] for _ in range(n_epochs)], label=\"Learning rate\") \n",
        "plt.xlabel(\"Epoch\")\n",
        "plt.ylabel(f\"{loss_name_loaded} Loss\")\n",
        "# Added setting the vertical axis to be in powers of 10\n",
        "plt.yscale(\"log\")\n",
        "# Added setting the vertical axis limits to be from 10^-7 to 10^0\n",
        "plt.ylim(1e-7, 1e0)\n",
        "plt.legend()\n",
        "plt.show()\n"
      ]
    },
    {
      "cell_type": "code",
      "execution_count": 41,
      "metadata": {
        "id": "lkgLqJ_UUZim"
      },
      "outputs": [],
      "source": [
        "%config InteractiveShell.ast_node_interactivity = \"all\""
      ]
    },
    {
      "attachments": {},
      "cell_type": "markdown",
      "metadata": {},
      "source": [
        "## Counting the number of parameters in the network."
      ]
    },
    {
      "cell_type": "code",
      "execution_count": 42,
      "metadata": {},
      "outputs": [
        {
          "data": {
            "text/plain": [
              "Net(\n",
              "  (hidden_activation): ReLU()\n",
              "  (output_activation): ReLU()\n",
              "  (layers): ModuleList(\n",
              "    (0): Linear(in_features=8, out_features=555, bias=True)\n",
              "    (1): Linear(in_features=555, out_features=458, bias=True)\n",
              "    (2): Linear(in_features=458, out_features=115, bias=True)\n",
              "    (3): Linear(in_features=115, out_features=1, bias=True)\n",
              "  )\n",
              ")"
            ]
          },
          "execution_count": 42,
          "metadata": {},
          "output_type": "execute_result"
        },
        {
          "name": "stdout",
          "output_type": "stream",
          "text": [
            "The model has 312544 parameters.\n"
          ]
        }
      ],
      "source": [
        "net_loaded.eval()\n",
        "def count_parameters(model):\n",
        "    return sum(p.numel() for p in model.parameters() if p.requires_grad)\n",
        "print(f'The model has {count_parameters(net_loaded)} parameters.')"
      ]
    },
    {
      "attachments": {},
      "cell_type": "markdown",
      "metadata": {
        "id": "SxuzVSnlUZin"
      },
      "source": [
        "## Evaluating the network on arbirary input\n",
        "### Comparing `net` and `net_loaded`\n",
        "\n",
        "We compare `net` and `net_loaded` to confirm correct loading of the network. Note that `net` is only available if we have trained the model in this session."
      ]
    },
    {
      "cell_type": "code",
      "execution_count": null,
      "metadata": {},
      "outputs": [
        {
          "name": "stdout",
          "output_type": "stream",
          "text": [
            "Couldn't find program: 'echo'\n"
          ]
        }
      ],
      "source": [
        "%%script echo skipping\n",
        "\n",
        "# Set the network to evaluation mode\n",
        "net.eval()"
      ]
    },
    {
      "cell_type": "code",
      "execution_count": null,
      "metadata": {},
      "outputs": [
        {
          "data": {
            "text/plain": [
              "Net(\n",
              "  (hidden_activation): ReLU()\n",
              "  (output_activation): ReLU()\n",
              "  (layers): ModuleList(\n",
              "    (0): Linear(in_features=8, out_features=555, bias=True)\n",
              "    (1): Linear(in_features=555, out_features=458, bias=True)\n",
              "    (2): Linear(in_features=458, out_features=115, bias=True)\n",
              "    (3): Linear(in_features=115, out_features=1, bias=True)\n",
              "  )\n",
              ")"
            ]
          },
          "metadata": {},
          "output_type": "display_data"
        }
      ],
      "source": [
        "# Set the network to evaluation mode\n",
        "net_loaded.eval()\n"
      ]
    },
    {
      "cell_type": "code",
      "execution_count": 57,
      "metadata": {},
      "outputs": [
        {
          "name": "stdout",
          "output_type": "stream",
          "text": [
            "Parameters are the same.\n",
            "Net device: cpu\n",
            "Net_loaded device: cpu\n"
          ]
        }
      ],
      "source": [
        "for p1, p2 in zip(net.parameters(), net_loaded.parameters()):\n",
        "    if p1.data.ne(p2.data).sum() > 0:\n",
        "        print(\"Parameters are not the same.\")\n",
        "        break\n",
        "else:\n",
        "    print(\"Parameters are the same.\")\n",
        "\n",
        "print(\"Net device:\", next(net.parameters()).device)\n",
        "print(\"Net_loaded device:\", next(net_loaded.parameters()).device)"
      ]
    },
    {
      "cell_type": "code",
      "execution_count": 43,
      "metadata": {
        "colab": {
          "base_uri": "https://localhost:8080/"
        },
        "id": "C0PLAA0DUZin",
        "outputId": "c51e07dd-8b35-4ea4-cdf9-3118d7796e30"
      },
      "outputs": [
        {
          "name": "stdout",
          "output_type": "stream",
          "text": [
            "Couldn't find program: 'echo'\n"
          ]
        }
      ],
      "source": [
        "%%script echo skipping\n",
        "\n",
        "print(list(net.parameters()))"
      ]
    },
    {
      "cell_type": "code",
      "execution_count": 44,
      "metadata": {
        "colab": {
          "base_uri": "https://localhost:8080/"
        },
        "id": "1NZ8iVA7UZio",
        "outputId": "6341def7-b7e7-44eb-c91f-edbe1d22ca1d"
      },
      "outputs": [
        {
          "name": "stdout",
          "output_type": "stream",
          "text": [
            "[Parameter containing:\n",
            "tensor([[ 0.2185, -0.2093, -0.2837,  ...,  0.1678, -0.1546, -0.0567],\n",
            "        [-0.2518, -0.0017,  0.1039,  ...,  0.0658,  0.2804,  0.3683],\n",
            "        [-0.2788, -0.2484,  0.0315,  ...,  0.2605,  0.3721,  0.1048],\n",
            "        ...,\n",
            "        [-0.3344, -0.2729, -0.1001,  ..., -0.2271, -0.1281, -0.3265],\n",
            "        [ 0.1425,  0.2655, -0.1950,  ..., -0.1114,  0.0317,  0.0454],\n",
            "        [-0.0865, -0.1773, -0.2386,  ..., -0.1557, -0.1257,  0.1380]],\n",
            "       requires_grad=True), Parameter containing:\n",
            "tensor([ 2.2251e-01,  1.2358e-01,  2.4107e-01, -3.7922e-01, -1.8198e-01,\n",
            "         2.3230e-01, -3.0553e-01, -1.5486e-01,  3.5560e-02,  8.5340e-02,\n",
            "        -1.6521e-01,  2.2093e-01, -4.6258e-02,  4.3512e-03, -7.7988e-02,\n",
            "         7.0186e-02, -3.1562e-01, -1.9215e-01, -1.2967e-01, -3.0771e-01,\n",
            "        -1.2567e-01,  7.8023e-02, -2.2657e-01,  9.0461e-02, -2.5770e-01,\n",
            "        -4.6294e-02, -1.1853e-02,  1.1303e-01,  1.4092e-01,  1.9437e-01,\n",
            "         2.9383e-01, -1.7822e-01,  2.6312e-01,  1.1684e-02, -3.3756e-01,\n",
            "        -6.0334e-03,  5.7792e-02,  4.2206e-01,  2.8713e-01, -6.7723e-02,\n",
            "         3.1247e-01, -3.5329e-03,  6.2052e-02, -2.2266e-01,  2.3678e-01,\n",
            "         1.2598e-01,  1.6916e-01, -1.2686e-01, -2.3177e-01,  2.5017e-01,\n",
            "         2.6903e-04,  1.3926e-01,  2.9262e-01, -1.1906e-01, -7.5438e-02,\n",
            "        -2.0434e-01, -2.4860e-01, -1.8020e-01, -1.5876e-01,  5.5030e-02,\n",
            "        -3.4589e-01,  2.9748e-02, -8.6931e-02,  2.6802e-01, -2.2158e-01,\n",
            "        -2.8753e-01, -3.3003e-02,  3.1535e-01, -9.7259e-02,  2.6657e-01,\n",
            "        -2.9806e-01, -7.2423e-02,  3.1132e-01, -3.2131e-02, -1.3697e-01,\n",
            "         3.4294e-01, -3.1934e-01, -3.3437e-01, -1.9141e-01, -3.2790e-01,\n",
            "         1.0601e-02,  2.3316e-01,  2.4460e-01,  2.5420e-01,  2.3687e-01,\n",
            "         1.3329e-01, -9.7687e-02, -1.5545e-01,  3.4937e-01, -4.8451e-02,\n",
            "        -2.9354e-02, -2.9118e-02, -2.6202e-02,  1.2134e-01,  1.3029e-01,\n",
            "        -2.3510e-01, -3.3194e-01,  2.8644e-01,  1.1956e-02,  2.1252e-01,\n",
            "        -1.5575e-01, -2.2858e-01,  3.4899e-01,  7.2544e-02,  2.9175e-02,\n",
            "        -4.2334e-01,  5.1428e-02,  1.7267e-01,  1.5530e-01,  1.9926e-01,\n",
            "         5.3314e-02,  7.5489e-02,  1.2287e-01, -3.0091e-01, -3.0834e-01,\n",
            "        -1.9229e-01, -9.8823e-02,  3.4160e-01,  2.6094e-02, -2.9357e-01,\n",
            "         2.0854e-01, -1.1671e-01,  2.2528e-01,  2.3675e-01,  1.8688e-01,\n",
            "        -2.0767e-01, -6.6475e-02,  2.2069e-01,  3.2658e-01,  3.1477e-01,\n",
            "         6.0710e-02,  3.1321e-01, -1.6294e-01,  2.5157e-01, -3.7492e-01,\n",
            "         4.9688e-02,  3.0363e-01,  7.6653e-03,  9.5831e-02,  2.9163e-01,\n",
            "         1.4453e-01, -2.9500e-01,  2.2747e-01,  5.0223e-02,  1.1903e-01,\n",
            "         2.8567e-01, -1.2930e-01,  2.5348e-01,  9.6354e-02,  2.9677e-01,\n",
            "        -1.3379e-01,  2.7985e-01,  3.7295e-01, -3.0416e-01, -3.2738e-01,\n",
            "        -3.1943e-01,  1.3207e-01, -2.6410e-01,  3.5253e-01, -3.1067e-01,\n",
            "         3.8082e-02, -1.4330e-01,  6.6092e-02, -2.8926e-01,  1.3568e-01,\n",
            "         4.3145e-02,  6.2955e-02, -2.7418e-01,  1.0224e-01,  3.7558e-01,\n",
            "        -2.0226e-01, -3.1317e-01,  1.8746e-01,  2.5103e-01,  1.9671e-01,\n",
            "         2.2803e-01, -1.0950e-01, -1.9439e-01, -1.5838e-02,  2.6525e-01,\n",
            "        -2.1061e-01,  1.6559e-01, -2.2152e-01,  1.8462e-01, -1.5576e-01,\n",
            "        -3.5061e-01, -1.9863e-01, -5.2516e-02, -1.5024e-01,  2.1773e-02,\n",
            "        -3.3331e-02, -2.7948e-01,  9.8653e-02, -4.0136e-01, -4.3072e-01,\n",
            "        -1.9810e-01, -2.6619e-01,  2.4246e-01, -1.9028e-01,  1.5446e-01,\n",
            "        -9.4604e-02, -3.0171e-01, -4.6920e-01, -3.1511e-02,  2.1839e-01,\n",
            "         3.2735e-01,  3.1372e-01,  6.6699e-02, -2.6976e-01,  4.0604e-01,\n",
            "        -3.8903e-01, -1.1069e-01, -1.7231e-01, -3.9017e-01, -2.9011e-01,\n",
            "        -5.2464e-02, -1.6201e-01, -1.8447e-01,  2.3317e-01,  3.4256e-01,\n",
            "        -2.2030e-01,  1.6168e-01,  8.9006e-02,  2.8883e-01,  1.8516e-01,\n",
            "        -2.6770e-02, -3.1496e-01, -1.0721e-01,  8.5509e-02, -2.8894e-01,\n",
            "        -1.8697e-01,  8.7312e-02,  1.3161e-01, -3.2706e-01, -3.5047e-01,\n",
            "        -1.5454e-01, -3.1284e-01,  1.8298e-01,  1.3425e-01, -3.4586e-02,\n",
            "         9.1860e-02,  2.9692e-01, -2.9713e-01,  1.4823e-01, -3.3497e-01,\n",
            "         1.6061e-01, -5.1467e-02,  4.9660e-02, -1.2332e-01, -1.5526e-01,\n",
            "        -1.4119e-01, -2.4979e-01, -9.3859e-02, -1.4208e-01,  7.8849e-02,\n",
            "         3.2077e-03, -3.0708e-01, -3.1760e-01,  2.3173e-01,  3.0537e-01,\n",
            "        -2.1052e-01, -4.7512e-01,  2.7909e-01, -2.5139e-02,  3.0640e-01,\n",
            "        -2.2724e-01, -2.2832e-01,  2.7442e-01,  1.2931e-01, -3.0365e-01,\n",
            "         2.8730e-01, -2.1635e-01, -2.6211e-01,  4.2243e-01, -9.1045e-02,\n",
            "        -1.4390e-01,  6.3948e-02,  2.2600e-01, -4.9925e-02,  1.4067e-04,\n",
            "        -2.0659e-01,  3.1338e-01,  3.0571e-01, -2.3296e-02,  1.7469e-01,\n",
            "         2.2516e-01, -1.4794e-01,  2.6875e-01,  3.4429e-01, -1.6819e-01,\n",
            "        -4.5487e-02, -5.6271e-02,  3.1412e-01, -2.0454e-01, -3.3384e-01,\n",
            "        -4.6042e-01,  1.7891e-01, -2.8781e-01, -1.1901e-01,  1.9942e-01,\n",
            "        -3.0679e-01, -4.0724e-01, -3.0628e-02, -2.9776e-01, -2.7146e-01,\n",
            "         3.8355e-01, -3.1952e-01, -4.7608e-02, -1.2743e-01, -2.1125e-01,\n",
            "         2.6340e-01, -3.0958e-01,  1.2119e-02, -3.6176e-01, -1.0768e-01,\n",
            "         2.8731e-01,  1.8128e-01, -2.9754e-01,  2.2306e-01, -1.6691e-01,\n",
            "         1.4038e-01, -1.5107e-01, -4.7974e-02,  2.7447e-01,  2.6944e-01,\n",
            "         3.1292e-01,  1.4145e-01,  6.5494e-02, -3.0120e-01, -2.6887e-01,\n",
            "         3.2627e-01, -5.5767e-02,  2.5695e-01, -1.2232e-01,  2.4669e-01,\n",
            "        -3.6958e-01,  1.0688e-01, -8.8004e-02,  2.2686e-01, -2.8642e-01,\n",
            "        -2.8469e-01, -3.4393e-01,  1.2373e-01, -1.4562e-01, -2.6379e-01,\n",
            "         4.9718e-02, -1.1443e-01, -1.2499e-01,  9.4962e-02,  1.3661e-01,\n",
            "         2.7042e-01, -2.1661e-01,  2.4036e-01,  1.8003e-01, -2.3133e-01,\n",
            "         2.8114e-01, -5.0791e-02, -4.6982e-02, -4.0657e-01,  1.7103e-01,\n",
            "        -1.7986e-01, -2.2020e-01, -1.0170e-01, -3.1630e-01, -1.7473e-01,\n",
            "        -1.5199e-01, -3.5183e-01, -2.3873e-01, -1.4225e-01, -2.4700e-01,\n",
            "         1.4858e-01,  2.4488e-01, -2.5093e-01, -1.6453e-02,  5.0189e-02,\n",
            "        -2.7905e-01,  3.7895e-01,  6.5195e-02, -7.9444e-02,  5.7000e-02,\n",
            "        -2.1863e-01, -8.3445e-02, -3.0404e-01, -1.4932e-01, -8.3091e-02,\n",
            "        -1.2393e-01,  3.1441e-02,  8.2360e-02, -2.1008e-01, -2.0800e-01,\n",
            "        -2.4511e-02, -1.2764e-01, -3.0037e-01,  2.1654e-01, -5.6529e-02,\n",
            "         3.7150e-01,  8.2628e-02, -1.4144e-01, -2.8278e-01,  6.5287e-03,\n",
            "         1.8980e-01,  1.2746e-01, -2.0238e-01, -2.4064e-01, -1.9736e-02,\n",
            "         2.8918e-01, -3.2213e-01,  8.3199e-02, -1.2243e-01, -1.1034e-01,\n",
            "        -4.8899e-01, -1.6123e-01,  2.2353e-01, -2.7332e-01, -1.8285e-01,\n",
            "         1.1117e-01, -3.3232e-01,  2.0592e-02, -1.5711e-01,  9.4660e-02,\n",
            "         1.7068e-01, -6.3904e-02, -1.4000e-01, -2.7102e-01,  1.0772e-01,\n",
            "         1.2002e-01, -1.4840e-01,  1.7053e-01,  2.1810e-01, -2.0563e-01,\n",
            "        -3.9630e-01, -3.5869e-02, -2.4446e-01,  2.4838e-01,  2.9288e-01,\n",
            "        -2.5726e-01,  1.0449e-01, -7.5560e-03,  2.9904e-01,  1.1679e-01,\n",
            "        -8.9399e-02,  9.1715e-02,  2.3144e-01,  9.9221e-02, -3.5075e-01,\n",
            "         2.2888e-01,  3.0147e-01,  5.3285e-02, -2.6609e-01, -1.1319e-01,\n",
            "         3.6905e-01,  1.7460e-01,  1.1683e-01, -4.1764e-01, -1.5468e-01,\n",
            "        -1.7252e-01,  2.3416e-01,  1.5011e-01,  4.2303e-03,  2.6081e-01,\n",
            "         1.6954e-01, -2.5095e-01, -2.4881e-01, -2.0892e-02,  1.6534e-01,\n",
            "         1.5949e-01, -2.8574e-01, -6.9612e-02, -2.4510e-01,  3.6702e-02,\n",
            "        -3.2028e-01,  2.6582e-01, -3.9655e-02,  2.5712e-02,  3.8447e-01,\n",
            "        -2.4267e-01,  3.5185e-01,  3.0468e-01,  1.8720e-01, -1.9789e-02,\n",
            "        -1.8489e-02,  4.2007e-01, -5.5225e-02, -2.9850e-01, -7.0379e-02,\n",
            "         1.6598e-02, -8.9807e-02, -3.0161e-01,  1.0313e-01, -2.1742e-01,\n",
            "        -2.1667e-01,  2.7663e-01, -2.5376e-02, -3.1567e-01, -1.4721e-01,\n",
            "         2.5409e-01, -1.1467e-01, -2.7551e-02, -2.6734e-01,  2.1558e-01,\n",
            "         2.4032e-01,  1.5506e-01, -1.4828e-01,  2.8342e-01,  2.6917e-01,\n",
            "        -1.5135e-01, -2.2034e-01,  3.4222e-01, -1.1893e-01, -1.0550e-02,\n",
            "         2.9683e-01,  1.6289e-01,  5.6623e-02, -2.0400e-01,  6.4894e-02,\n",
            "        -1.1248e-01, -2.9389e-01, -4.3893e-01, -6.5347e-02, -1.7703e-01,\n",
            "         1.2212e-01, -1.8681e-01,  1.2739e-01,  3.8214e-02,  3.6032e-02,\n",
            "         6.4056e-02, -3.0733e-01, -5.1722e-02, -3.6587e-01,  1.4542e-01,\n",
            "        -2.3641e-01,  7.6888e-02,  4.3093e-01,  1.2284e-01, -2.7927e-01,\n",
            "        -3.4986e-01,  6.0951e-02,  6.7420e-02,  7.8151e-02, -4.6124e-02,\n",
            "         2.3350e-01, -3.0627e-01,  2.1303e-01,  3.7384e-02, -2.4323e-01,\n",
            "         1.7129e-01,  1.1199e-01, -4.0738e-01, -2.8992e-01,  3.2037e-01,\n",
            "        -3.3954e-01, -2.4783e-01,  3.2950e-02,  2.8891e-01, -2.8328e-01],\n",
            "       requires_grad=True), Parameter containing:\n",
            "tensor([[ 0.0239, -0.0134,  0.0424,  ..., -0.0153,  0.0099, -0.0044],\n",
            "        [ 0.0413,  0.0097, -0.0099,  ..., -0.0021,  0.0366, -0.0609],\n",
            "        [ 0.0210, -0.0342, -0.0162,  ...,  0.0090,  0.0034, -0.0022],\n",
            "        ...,\n",
            "        [ 0.0254, -0.0577, -0.0024,  ..., -0.0362,  0.0246, -0.0239],\n",
            "        [-0.0097,  0.0406, -0.0259,  ..., -0.0384, -0.0290, -0.0026],\n",
            "        [-0.0263, -0.0170,  0.0277,  ..., -0.0096,  0.0323, -0.0450]],\n",
            "       requires_grad=True), Parameter containing:\n",
            "tensor([-4.1184e-02,  7.2447e-02, -7.5177e-03, -2.2183e-02, -2.1000e-02,\n",
            "        -1.4673e-02, -2.7829e-02,  3.2001e-02, -1.0449e-02,  4.6914e-02,\n",
            "         7.6389e-03, -2.5176e-03, -4.2535e-03,  4.8033e-02, -5.7301e-02,\n",
            "         6.2390e-03,  6.8430e-02,  1.9285e-02,  5.1039e-03,  4.0932e-02,\n",
            "        -2.2534e-02,  5.8699e-02,  6.9426e-03, -8.1131e-02,  7.5005e-03,\n",
            "        -1.5055e-02,  5.8696e-02, -5.4443e-02, -5.4861e-03,  5.8709e-02,\n",
            "         3.1108e-02,  3.6129e-02,  1.1494e-02,  1.0676e-02, -2.8698e-03,\n",
            "        -9.1475e-02,  4.4431e-02,  1.2223e-02, -4.7707e-02,  5.8746e-02,\n",
            "        -2.2379e-02,  1.9636e-02,  6.3457e-02,  7.5245e-02,  3.4355e-02,\n",
            "         2.1704e-02,  1.9429e-02, -6.1127e-02, -1.1272e-02,  7.7494e-04,\n",
            "         2.0238e-02, -1.0344e-02, -6.0449e-02,  3.5019e-02,  5.3414e-03,\n",
            "         7.2677e-03,  8.3690e-02, -1.2005e-02,  6.7578e-02, -3.8466e-02,\n",
            "         1.4455e-02,  2.2264e-02,  1.3349e-02,  2.5560e-02, -2.7294e-02,\n",
            "         1.0495e-02, -2.6514e-02,  1.9041e-02, -5.7333e-02,  2.6741e-02,\n",
            "        -3.1962e-02,  3.2865e-02, -2.2118e-02,  1.9427e-02,  5.7190e-03,\n",
            "        -6.6479e-03,  2.9626e-02, -2.5930e-03,  1.6147e-02, -3.7999e-02,\n",
            "        -5.2095e-02, -1.0229e-02,  9.1002e-03,  3.0295e-02, -2.1282e-02,\n",
            "         6.9823e-02,  8.7325e-03,  2.5308e-02, -5.0812e-03, -4.4299e-02,\n",
            "        -5.8021e-02,  3.4704e-02,  1.1064e-02,  6.4864e-03, -8.6224e-03,\n",
            "         4.4461e-02,  1.2851e-01,  1.4805e-02, -8.7932e-03,  1.4037e-02,\n",
            "        -7.0657e-02, -4.6015e-02, -4.2867e-02, -3.3120e-02, -4.2998e-02,\n",
            "        -6.6765e-03,  2.0406e-02,  4.5190e-02,  5.7174e-02,  5.2076e-02,\n",
            "         6.1516e-02,  2.1464e-02, -6.4928e-02, -4.1611e-02,  2.1353e-02,\n",
            "         1.9437e-02,  5.1596e-03, -8.1994e-02,  6.8616e-02,  2.5953e-02,\n",
            "        -4.2601e-02,  5.7299e-02,  5.7125e-02,  4.7761e-02,  5.2999e-02,\n",
            "         1.4790e-02, -4.0440e-02, -3.8413e-02, -1.7980e-02, -2.5637e-02,\n",
            "        -4.1672e-02,  4.4355e-02,  4.5634e-02,  4.4076e-02,  4.5922e-02,\n",
            "        -4.8000e-02, -4.4434e-02,  1.0235e-02, -4.4657e-02,  1.4083e-02,\n",
            "        -4.4592e-02, -6.3960e-02, -6.4493e-02,  2.1168e-02, -8.1231e-02,\n",
            "         7.0319e-02,  5.2731e-02,  3.7215e-02, -7.7188e-02,  7.1440e-03,\n",
            "         2.4830e-02, -2.9764e-02,  3.7470e-02, -3.0591e-02, -4.2296e-02,\n",
            "        -4.1559e-02,  2.2423e-02,  8.5846e-03, -2.8350e-02, -1.5156e-02,\n",
            "        -2.1642e-02,  6.2213e-02,  6.3301e-02,  1.1390e-02,  3.9450e-03,\n",
            "         1.2217e-04, -9.9518e-02, -1.6855e-02, -1.3599e-02, -3.2194e-03,\n",
            "         1.8221e-02, -3.8941e-02,  4.9110e-02, -2.7306e-02,  8.2139e-02,\n",
            "        -7.5749e-02, -2.3332e-02,  5.5807e-03,  3.8346e-02,  1.1533e-01,\n",
            "        -9.4412e-02,  2.8616e-03,  1.0608e-01,  2.4105e-02,  1.5593e-02,\n",
            "        -6.9357e-02, -3.5976e-02, -7.5271e-02, -4.9415e-03, -2.3793e-02,\n",
            "        -3.9948e-02,  1.6562e-02,  7.2015e-03,  3.7361e-02, -2.7898e-02,\n",
            "         1.3206e-02, -1.2702e-02,  3.2812e-02,  1.2587e-02,  5.7270e-02,\n",
            "        -1.2737e-02,  8.5478e-02, -2.7954e-02, -1.9662e-02,  4.7696e-02,\n",
            "        -2.3798e-02,  9.7037e-03,  2.8851e-02, -5.7507e-02,  2.2279e-02,\n",
            "         3.2219e-02,  8.2745e-02, -3.8344e-02,  1.6264e-02,  3.5229e-02,\n",
            "         2.3675e-02, -1.5936e-02,  2.7002e-02, -1.4483e-02, -1.1651e-02,\n",
            "         4.5605e-02, -2.6323e-03, -3.0430e-02, -2.9398e-02, -2.1754e-02,\n",
            "         5.4915e-02, -6.6902e-02, -7.2412e-02,  6.5274e-03,  8.4728e-03,\n",
            "         7.7621e-02,  6.0913e-02, -3.7461e-02, -4.9554e-02, -5.8058e-02,\n",
            "        -4.0669e-02,  3.3925e-02,  4.1028e-02, -6.0409e-02,  7.0652e-02,\n",
            "        -1.9431e-02,  6.1326e-02,  5.8697e-03, -1.5048e-03, -2.3464e-02,\n",
            "        -3.2742e-02,  7.0439e-03, -5.3431e-03,  2.3795e-02, -2.7237e-02,\n",
            "         1.7267e-02, -4.0307e-02,  1.4672e-02, -1.2640e-02, -1.1691e-02,\n",
            "        -6.1650e-03, -1.6258e-02,  3.4148e-02,  1.1525e-02, -6.2960e-02,\n",
            "        -4.1941e-02,  3.2869e-03, -1.6856e-02,  1.9618e-02, -7.4872e-02,\n",
            "         5.2268e-02,  2.4165e-02, -4.5581e-02,  1.7746e-03, -1.2326e-02,\n",
            "         3.5277e-02, -5.7767e-02,  4.6820e-02,  2.4752e-02, -6.7896e-02,\n",
            "        -4.4069e-02,  1.2519e-01,  3.3486e-02, -4.3410e-02,  2.8470e-03,\n",
            "        -3.7235e-02, -2.9263e-02, -6.8742e-03,  2.6532e-02, -3.7986e-02,\n",
            "        -3.4490e-02,  6.2549e-02, -3.6137e-02, -2.9147e-02, -3.9275e-02,\n",
            "        -1.7236e-02, -1.2002e-03,  2.3176e-02, -5.9691e-02, -1.5798e-02,\n",
            "        -1.5051e-02, -1.9919e-03, -2.9600e-02, -1.2592e-02, -3.4392e-03,\n",
            "         7.1321e-02, -3.9500e-02,  2.1993e-02,  1.4283e-01, -2.3957e-02,\n",
            "        -1.1534e-02,  1.3425e-02,  4.9524e-02, -1.3123e-02,  4.3307e-02,\n",
            "         2.9103e-02, -2.1855e-02, -1.0219e-01,  1.6235e-02,  5.0934e-02,\n",
            "         4.4519e-02,  1.0878e-02, -1.6022e-02, -3.6620e-02,  7.2385e-02,\n",
            "        -2.9551e-03,  9.3739e-02,  6.5298e-03,  6.7555e-02,  5.7744e-03,\n",
            "         1.1275e-03, -2.9642e-02, -5.8363e-02,  3.7221e-02,  2.2178e-02,\n",
            "         2.6590e-02,  2.1086e-02, -8.4453e-03, -3.6002e-02, -1.1679e-02,\n",
            "         1.1195e-02, -5.4618e-02,  2.2471e-02, -2.3807e-02, -1.1406e-02,\n",
            "        -8.7117e-03, -4.0025e-02, -8.1868e-02, -1.0852e-02,  1.2325e-02,\n",
            "        -3.3476e-02,  4.4640e-02, -2.8547e-02, -6.7276e-02, -7.2133e-02,\n",
            "         4.6680e-02, -3.7560e-02, -1.6332e-02, -1.1781e-02,  1.0145e-01,\n",
            "         8.1881e-02, -1.7362e-03, -2.2079e-02, -2.1097e-02,  8.6457e-02,\n",
            "        -1.0908e-02, -2.3473e-02, -3.4443e-02,  3.7132e-02, -7.8844e-02,\n",
            "         1.9577e-02,  1.6099e-02, -4.5433e-02,  1.3653e-02, -1.1078e-04,\n",
            "        -3.9628e-03, -8.2613e-02, -1.2310e-02,  2.2855e-03,  8.2771e-03,\n",
            "         2.4420e-02, -6.5233e-02, -5.9992e-02, -5.1113e-03, -7.9850e-02,\n",
            "         1.1510e-02,  3.6886e-02,  4.4300e-02,  1.3725e-02, -2.3910e-03,\n",
            "         2.9158e-02, -3.1361e-02, -2.3905e-02, -3.7296e-02, -3.7190e-03,\n",
            "         6.8988e-02,  2.1198e-02,  2.7379e-02,  1.6631e-02,  7.2777e-02,\n",
            "        -1.6029e-02, -1.7554e-04, -3.2556e-02, -4.0863e-02,  7.8813e-02,\n",
            "         2.1616e-02, -3.7063e-03,  1.6520e-02,  2.7882e-03, -4.4440e-02,\n",
            "        -5.2544e-02, -1.1624e-02,  6.5153e-03,  6.5321e-02,  1.9124e-02,\n",
            "         6.6765e-02, -1.0247e-02,  1.0740e-01,  3.0206e-02,  2.6976e-02,\n",
            "         3.6579e-02, -2.2560e-02,  3.9926e-02,  5.5060e-02,  4.9004e-02,\n",
            "        -5.7107e-03, -3.6700e-02,  5.4133e-02, -1.6900e-02, -6.2248e-02,\n",
            "        -6.0563e-03, -1.1378e-03, -1.3469e-02,  4.6927e-02, -2.8587e-02,\n",
            "        -1.1269e-02, -3.3209e-02, -5.1875e-03, -3.0136e-02,  7.2759e-02,\n",
            "        -1.7320e-02,  4.1143e-02, -8.4915e-03,  2.9474e-02, -1.0121e-01,\n",
            "         4.8023e-02, -2.8085e-02, -7.6812e-02, -3.1569e-03,  2.2992e-02,\n",
            "         1.3394e-02,  2.0753e-02, -2.4950e-02, -6.1460e-03,  5.2978e-02,\n",
            "         1.7844e-03, -1.4166e-03, -2.1403e-03,  6.4353e-02,  6.2737e-02,\n",
            "         5.0449e-02, -4.2037e-02,  1.1905e-01], requires_grad=True), Parameter containing:\n",
            "tensor([[-0.0312,  0.0446,  0.0250,  ..., -0.0611, -0.0305, -0.0093],\n",
            "        [ 0.0428, -0.0077,  0.0132,  ..., -0.0141,  0.0127,  0.0424],\n",
            "        [ 0.0412,  0.0325,  0.0205,  ...,  0.0078, -0.0198, -0.0239],\n",
            "        ...,\n",
            "        [ 0.0006, -0.0547, -0.0276,  ...,  0.0043, -0.0460, -0.0133],\n",
            "        [-0.0215, -0.0027, -0.0314,  ...,  0.0450,  0.0129,  0.0045],\n",
            "        [-0.0078, -0.0145,  0.0451,  ...,  0.0272,  0.0471,  0.0014]],\n",
            "       requires_grad=True), Parameter containing:\n",
            "tensor([ 0.0369,  0.0119, -0.0169, -0.0406,  0.0323, -0.0646,  0.0183,  0.0264,\n",
            "         0.0996, -0.0124,  0.0844,  0.0161, -0.0041, -0.0401, -0.0233,  0.0796,\n",
            "         0.0769, -0.0504,  0.0615, -0.0541,  0.0552, -0.0491, -0.0316,  0.0305,\n",
            "        -0.0606, -0.0459, -0.0271,  0.0348, -0.0329, -0.0382,  0.0451, -0.0049,\n",
            "         0.0837,  0.0756, -0.0032,  0.0112,  0.0504,  0.1556, -0.0225, -0.0283,\n",
            "         0.0413, -0.0822,  0.0226, -0.0808,  0.0457,  0.1447,  0.0461, -0.0742,\n",
            "         0.0717,  0.0880, -0.0733,  0.0485, -0.0194, -0.0481, -0.0070, -0.0597,\n",
            "         0.0085,  0.0816, -0.0072, -0.0129, -0.0497, -0.0322,  0.0021,  0.0751,\n",
            "        -0.0382,  0.0179,  0.0014,  0.0164,  0.0194,  0.0081, -0.0422,  0.0242,\n",
            "         0.0835,  0.0516,  0.0890,  0.0935,  0.0776, -0.0102, -0.1005,  0.0089,\n",
            "        -0.0461, -0.0058, -0.0416,  0.0038, -0.0747,  0.0179,  0.0438, -0.0690,\n",
            "         0.0118,  0.0507, -0.0080, -0.0297,  0.0043,  0.0121, -0.0222, -0.0242,\n",
            "         0.1378,  0.0819,  0.0793,  0.0215,  0.0360,  0.0380,  0.0284, -0.0288,\n",
            "        -0.0093, -0.0151, -0.0535,  0.0767,  0.0263,  0.0137, -0.0091,  0.0414,\n",
            "        -0.0519,  0.0308,  0.0426], requires_grad=True), Parameter containing:\n",
            "tensor([[ 5.5336e-02, -8.4161e-02,  3.6301e-02, -3.3553e-02,  1.6903e-02,\n",
            "         -5.4048e-02,  9.9513e-03,  5.6466e-02,  4.3331e-02, -7.4101e-03,\n",
            "          9.6281e-03,  2.5551e-02, -3.7770e-02, -1.9824e-02, -6.0736e-02,\n",
            "          6.5357e-02,  3.3894e-02, -5.2105e-02,  6.0493e-02, -6.3029e-02,\n",
            "          6.4361e-02, -6.7646e-02, -8.2205e-03, -6.1218e-02, -4.7660e-02,\n",
            "         -4.2752e-02,  7.7185e-02, -5.1751e-02, -2.7878e-02, -9.9250e-02,\n",
            "          6.2028e-04, -4.0197e-02,  3.9131e-02,  5.3577e-02, -7.8526e-02,\n",
            "          4.4336e-02,  1.2353e-01,  9.1986e-02, -4.5450e-02, -2.7650e-02,\n",
            "         -7.0245e-04, -3.0196e-02,  6.9985e-02, -6.7999e-03,  1.8248e-02,\n",
            "          6.7169e-02,  8.2819e-02, -6.1316e-02,  5.1305e-02,  5.5548e-02,\n",
            "         -4.3616e-02,  2.2151e-02, -7.7256e-02, -2.9024e-02,  7.1100e-02,\n",
            "         -6.3045e-02, -9.1476e-02,  6.2710e-02, -6.7597e-02,  3.2039e-02,\n",
            "         -3.9690e-02,  2.5786e-02, -1.7533e-03,  4.8325e-02, -2.1594e-02,\n",
            "         -3.0240e-03, -5.4870e-03,  9.3836e-02, -1.9702e-02, -3.9886e-03,\n",
            "         -3.6794e-02,  3.4300e-02,  8.7852e-02,  8.4129e-02,  5.1735e-02,\n",
            "          8.2541e-02,  2.5612e-02, -4.1442e-02, -4.9084e-02, -3.5812e-02,\n",
            "         -5.3543e-02,  3.7329e-02, -6.7665e-02,  7.7676e-02, -3.2798e-02,\n",
            "         -5.1481e-02,  7.3357e-02, -3.2684e-02, -7.1257e-02,  7.2584e-02,\n",
            "          9.9599e-05, -5.2655e-03, -4.2345e-02, -6.3324e-02,  2.8030e-03,\n",
            "          1.8126e-02,  9.5246e-02,  1.3979e-02,  6.3092e-02, -4.1652e-02,\n",
            "          5.8360e-04,  6.9133e-02, -1.1288e-01, -9.4646e-02, -5.9020e-02,\n",
            "          2.3453e-02, -4.6131e-02,  4.6159e-02, -4.1701e-02,  5.2096e-02,\n",
            "         -7.5127e-02,  3.1959e-02, -7.0318e-02,  3.2873e-05,  6.5353e-02]],\n",
            "       requires_grad=True), Parameter containing:\n",
            "tensor([0.0162], requires_grad=True)]\n"
          ]
        }
      ],
      "source": [
        "print(list(net_loaded.parameters()))"
      ]
    },
    {
      "cell_type": "code",
      "execution_count": 46,
      "metadata": {
        "colab": {
          "base_uri": "https://localhost:8080/"
        },
        "id": "InGW0Xq6UZip",
        "outputId": "6c4a0e2c-b485-4362-b99d-7364dcf9443a"
      },
      "outputs": [
        {
          "data": {
            "text/plain": [
              "tensor([[1.3818e+01, 3.3645e+01, 3.6823e+01, 1.4206e+01, 4.8497e+01, 2.8485e-02,\n",
              "         8.2773e-02, 3.3022e-01],\n",
              "        [2.3668e+00, 3.0558e+00, 2.1785e-01, 3.8651e-01, 3.0695e+00, 7.2966e-01,\n",
              "         3.1255e-01, 7.2963e-01],\n",
              "        [7.9080e+00, 1.1653e+01, 2.1762e+01, 5.1116e+00, 2.6922e+01, 6.8971e-01,\n",
              "         5.1148e-01, 1.6609e-01],\n",
              "        [7.4988e+00, 7.2693e-01, 6.6598e+00, 4.3394e+00, 7.2074e+00, 6.9951e-01,\n",
              "         4.0067e-01, 9.9144e-01],\n",
              "        [1.2369e+01, 1.1342e+01, 1.8747e+01, 2.4539e+01, 2.8350e+01, 3.4607e-01,\n",
              "         9.8889e-01, 9.1964e-01],\n",
              "        [5.6269e-01, 9.6627e-01, 2.2368e+00, 5.6722e-01, 3.0459e+00, 5.0570e-01,\n",
              "         8.8955e-01, 3.1511e-01],\n",
              "        [8.8806e+00, 2.8868e+00, 6.2247e+00, 8.3957e+00, 1.0901e+01, 6.9849e-01,\n",
              "         6.6585e-01, 3.9647e-02],\n",
              "        [2.4981e+00, 1.4142e+00, 3.3640e+00, 4.2315e+00, 5.2198e+00, 3.7135e-01,\n",
              "         3.0569e-01, 2.7639e-01],\n",
              "        [1.4194e+01, 4.9919e+01, 3.2870e+01, 2.5839e+01, 6.3558e+01, 4.2122e-01,\n",
              "         6.3338e-01, 8.8795e-01],\n",
              "        [1.1804e+01, 5.4270e-01, 3.3546e+00, 1.2514e+01, 9.6485e+00, 2.6164e-01,\n",
              "         3.5385e-01, 3.5229e-01],\n",
              "        [4.5163e+00, 2.2221e+00, 1.0109e+01, 4.0998e+00, 1.3811e+01, 7.9107e-01,\n",
              "         9.8121e-01, 9.4859e-02],\n",
              "        [1.0945e+01, 6.3388e+00, 2.4871e+01, 1.5066e+01, 2.7636e+01, 8.0227e-01,\n",
              "         6.2369e-01, 3.0674e-01],\n",
              "        [1.0699e+01, 3.4387e+00, 4.7826e+00, 5.3977e+00, 5.9746e+00, 8.2234e-01,\n",
              "         2.7909e-01, 6.6213e-02],\n",
              "        [1.0386e+00, 3.8305e-01, 9.2104e-02, 2.5495e-01, 1.7386e+00, 9.9722e-01,\n",
              "         1.9448e-01, 4.7337e-01],\n",
              "        [4.0633e+00, 1.1236e+01, 3.0767e+00, 1.1672e+01, 1.5665e+01, 6.5352e-02,\n",
              "         5.7166e-01, 4.9504e-01],\n",
              "        [1.8355e+00, 5.6739e+00, 7.0316e+00, 3.9951e+00, 9.8116e+00, 7.7892e-02,\n",
              "         1.2753e-01, 6.8224e-01],\n",
              "        [4.5862e+00, 6.0026e-01, 3.5830e+00, 3.7609e+00, 3.5204e+00, 5.0608e-01,\n",
              "         3.1944e-01, 4.1831e-01],\n",
              "        [2.5149e+00, 5.1195e+00, 1.2437e+00, 1.5738e-01, 6.3992e+00, 4.7150e-01,\n",
              "         2.6652e-01, 2.6410e-01],\n",
              "        [6.3505e+00, 3.4759e-01, 4.2797e+00, 4.4078e+00, 1.2390e+01, 1.8119e-01,\n",
              "         2.8906e-01, 8.1329e-01],\n",
              "        [1.0381e+01, 1.5453e+00, 1.1304e+01, 1.1380e+01, 1.0454e+01, 5.2298e-01,\n",
              "         7.1223e-01, 5.9614e-01]])"
            ]
          },
          "execution_count": 46,
          "metadata": {},
          "output_type": "execute_result"
        }
      ],
      "source": [
        "rho_example, epsilon_example, vx_example, vy_example, vz_example, Bx_example, By_example, Bz_example, b0_example, b1_example, b2_example, b3_example = sample_primitive_variables(20)\n",
        "\n",
        "# Create arbitrary input\n",
        "inputs =  generate_input_data(rho_example, epsilon_example, vx_example, vy_example, vz_example, Bx_example, By_example, Bz_example, b0_example, b1_example, b2_example, b3_example)\n",
        "inputs"
      ]
    },
    {
      "cell_type": "code",
      "execution_count": 52,
      "metadata": {
        "colab": {
          "base_uri": "https://localhost:8080/"
        },
        "id": "QVa1upmFUZip",
        "outputId": "95a297df-88d8-4614-ffd7-ecc0cda58cf9"
      },
      "outputs": [
        {
          "name": "stdout",
          "output_type": "stream",
          "text": [
            "Couldn't find program: 'echo'\n"
          ]
        }
      ],
      "source": [
        "%%script echo skipping\n",
        "\n",
        "# Pass the inputs to the network and get the outputs\n",
        "outputs = [net(input) for input in inputs]\n",
        "# Print the outputs\n",
        "outputs"
      ]
    },
    {
      "cell_type": "code",
      "execution_count": 54,
      "metadata": {
        "colab": {
          "base_uri": "https://localhost:8080/"
        },
        "id": "E-Xjfo7VUZir",
        "outputId": "fb0478cb-bee3-429f-fdec-d99f11baf40f"
      },
      "outputs": [
        {
          "ename": "IndexError",
          "evalue": "tuple index out of range",
          "output_type": "error",
          "traceback": [
            "\u001b[1;31m---------------------------------------------------------------------------\u001b[0m",
            "\u001b[1;31mIndexError\u001b[0m                                Traceback (most recent call last)",
            "Cell \u001b[1;32mIn[54], line 2\u001b[0m\n\u001b[0;32m      1\u001b[0m \u001b[39m# Pass the inputs to the network and get the outputs\u001b[39;00m\n\u001b[1;32m----> 2\u001b[0m outputs \u001b[39m=\u001b[39m [net_loaded(\u001b[39minput\u001b[39;49m) \u001b[39mfor\u001b[39;49;00m \u001b[39minput\u001b[39;49m \u001b[39min\u001b[39;49;00m inputs]\n\u001b[0;32m      3\u001b[0m \u001b[39m# Print the outputs\u001b[39;00m\n\u001b[0;32m      4\u001b[0m outputs\n",
            "Cell \u001b[1;32mIn[54], line 2\u001b[0m, in \u001b[0;36m<listcomp>\u001b[1;34m(.0)\u001b[0m\n\u001b[0;32m      1\u001b[0m \u001b[39m# Pass the inputs to the network and get the outputs\u001b[39;00m\n\u001b[1;32m----> 2\u001b[0m outputs \u001b[39m=\u001b[39m [net_loaded(\u001b[39minput\u001b[39;49m) \u001b[39mfor\u001b[39;00m \u001b[39minput\u001b[39m \u001b[39min\u001b[39;00m inputs]\n\u001b[0;32m      3\u001b[0m \u001b[39m# Print the outputs\u001b[39;00m\n\u001b[0;32m      4\u001b[0m outputs\n",
            "File \u001b[1;32mc:\\Users\\bvptr\\anaconda3\\envs\\bsc\\Lib\\site-packages\\torch\\nn\\modules\\module.py:1501\u001b[0m, in \u001b[0;36mModule._call_impl\u001b[1;34m(self, *args, **kwargs)\u001b[0m\n\u001b[0;32m   1496\u001b[0m \u001b[39m# If we don't have any hooks, we want to skip the rest of the logic in\u001b[39;00m\n\u001b[0;32m   1497\u001b[0m \u001b[39m# this function, and just call forward.\u001b[39;00m\n\u001b[0;32m   1498\u001b[0m \u001b[39mif\u001b[39;00m \u001b[39mnot\u001b[39;00m (\u001b[39mself\u001b[39m\u001b[39m.\u001b[39m_backward_hooks \u001b[39mor\u001b[39;00m \u001b[39mself\u001b[39m\u001b[39m.\u001b[39m_backward_pre_hooks \u001b[39mor\u001b[39;00m \u001b[39mself\u001b[39m\u001b[39m.\u001b[39m_forward_hooks \u001b[39mor\u001b[39;00m \u001b[39mself\u001b[39m\u001b[39m.\u001b[39m_forward_pre_hooks\n\u001b[0;32m   1499\u001b[0m         \u001b[39mor\u001b[39;00m _global_backward_pre_hooks \u001b[39mor\u001b[39;00m _global_backward_hooks\n\u001b[0;32m   1500\u001b[0m         \u001b[39mor\u001b[39;00m _global_forward_hooks \u001b[39mor\u001b[39;00m _global_forward_pre_hooks):\n\u001b[1;32m-> 1501\u001b[0m     \u001b[39mreturn\u001b[39;00m forward_call(\u001b[39m*\u001b[39;49margs, \u001b[39m*\u001b[39;49m\u001b[39m*\u001b[39;49mkwargs)\n\u001b[0;32m   1502\u001b[0m \u001b[39m# Do not call functions when jit is used\u001b[39;00m\n\u001b[0;32m   1503\u001b[0m full_backward_hooks, non_full_backward_hooks \u001b[39m=\u001b[39m [], []\n",
            "Cell \u001b[1;32mIn[25], line 53\u001b[0m, in \u001b[0;36mNet.forward\u001b[1;34m(self, x)\u001b[0m\n\u001b[0;32m     51\u001b[0m \u001b[39m# Adding an assertion to check that the input tensor has the expected shape and type\u001b[39;00m\n\u001b[0;32m     52\u001b[0m \u001b[39massert\u001b[39;00m \u001b[39misinstance\u001b[39m(x, torch\u001b[39m.\u001b[39mTensor), \u001b[39m\"\u001b[39m\u001b[39mx must be a torch.Tensor\u001b[39m\u001b[39m\"\u001b[39m\n\u001b[1;32m---> 53\u001b[0m \u001b[39massert\u001b[39;00m x\u001b[39m.\u001b[39;49mshape[\u001b[39m1\u001b[39;49m] \u001b[39m==\u001b[39m \u001b[39m8\u001b[39m, \u001b[39m\"\u001b[39m\u001b[39mx must have shape (batch_size, 8)\u001b[39m\u001b[39m\"\u001b[39m\n\u001b[0;32m     55\u001b[0m \u001b[39m# Looping over the hidden layers and applying the linear transformation and the activation function\u001b[39;00m\n\u001b[0;32m     56\u001b[0m \u001b[39mfor\u001b[39;00m layer \u001b[39min\u001b[39;00m \u001b[39mself\u001b[39m\u001b[39m.\u001b[39mlayers[:\u001b[39m-\u001b[39m\u001b[39m1\u001b[39m]:\n",
            "\u001b[1;31mIndexError\u001b[0m: tuple index out of range"
          ]
        }
      ],
      "source": [
        "\n",
        "# Pass the inputs to the network and get the outputs\n",
        "outputs = [net_loaded(input) for input in inputs]\n",
        "# Print the outputs\n",
        "outputs"
      ]
    },
    {
      "cell_type": "markdown",
      "metadata": {
        "id": "xjpIvdybUZis"
      },
      "source": [
        "## Porting the model to C++"
      ]
    },
    {
      "cell_type": "code",
      "execution_count": null,
      "metadata": {
        "colab": {
          "base_uri": "https://localhost:8080/"
        },
        "id": "VMlEd4RoUZis",
        "outputId": "d5bfc697-8c96-47bb-a08c-6fb26f463797"
      },
      "outputs": [
        {
          "data": {
            "text/plain": [
              "tensor([[-0.8682,  0.6736, -0.6654]])"
            ]
          },
          "execution_count": 23,
          "metadata": {},
          "output_type": "execute_result"
        },
        {
          "data": {
            "text/plain": [
              "Net(\n",
              "  (hidden_activation): ReLU()\n",
              "  (output_activation): ReLU()\n",
              "  (layers): ModuleList(\n",
              "    (0): Linear(in_features=3, out_features=555, bias=True)\n",
              "    (1): Linear(in_features=555, out_features=458, bias=True)\n",
              "    (2): Linear(in_features=458, out_features=115, bias=True)\n",
              "    (3): Linear(in_features=115, out_features=1, bias=True)\n",
              "  )\n",
              ")"
            ]
          },
          "execution_count": 23,
          "metadata": {},
          "output_type": "execute_result"
        },
        {
          "data": {
            "text/plain": [
              "tensor([[4.6177, 0.3018, 2.3998]])"
            ]
          },
          "execution_count": 23,
          "metadata": {},
          "output_type": "execute_result"
        },
        {
          "data": {
            "text/plain": [
              "tensor([[1.5936]], grad_fn=<ReluBackward0>)"
            ]
          },
          "execution_count": 23,
          "metadata": {},
          "output_type": "execute_result"
        }
      ],
      "source": [
        "import torch.jit\n",
        "\n",
        "# Creating a dummy input tensor of shape (1, 5) to trace the model\n",
        "dummy_input = torch.randn(1, 5).to(device)\n",
        "dummy_input\n",
        "\n",
        "# Ensure that net_loaded is in evaluation mode.\n",
        "net_loaded.eval()\n",
        "\n",
        "# Tracing the model using the torch.jit.trace function\n",
        "traced_model = torch.jit.trace(net_loaded, dummy_input)\n",
        "\n",
        "# Saving the traced model to a file named \"net.pt\"\n",
        "traced_model.save(\"net.pt\")\n",
        "save_file(\"net.pt\")\n",
        "\n",
        "example_input_to_validate_correct_export_and_import = generate_input_data(*sample_primitive_variables(1))\n",
        "example_input_to_validate_correct_export_and_import\n",
        "net_loaded(example_input_to_validate_correct_export_and_import)"
      ]
    }
  ],
  "metadata": {
    "accelerator": "GPU",
    "colab": {
      "gpuType": "T4",
      "provenance": [],
      "toc_visible": true
    },
    "gpuClass": "standard",
    "kernelspec": {
      "display_name": "bsc",
      "language": "python",
      "name": "python3"
    },
    "language_info": {
      "codemirror_mode": {
        "name": "ipython",
        "version": 3
      },
      "file_extension": ".py",
      "mimetype": "text/x-python",
      "name": "python",
      "nbconvert_exporter": "python",
      "pygments_lexer": "ipython3",
      "version": "3.11.3"
    },
    "orig_nbformat": 4
  },
  "nbformat": 4,
  "nbformat_minor": 0
}
