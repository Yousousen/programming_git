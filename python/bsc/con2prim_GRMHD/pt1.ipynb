{
  "cells": [
    {
      "attachments": {},
      "cell_type": "markdown",
      "metadata": {
        "id": "TPvB1xoSUZhR"
      },
      "source": [
        "# Neural network to learn conservative-to-primitive conversion in relativistic hydrodynamics"
      ]
    },
    {
      "attachments": {},
      "cell_type": "markdown",
      "metadata": {},
      "source": [
        "## How to use this notebook\n",
        "\n",
        "### Local installation\n",
        "\n",
        "1. Install required packages with `pip install -r requirements.txt` to your desired environment.\n",
        "2. If a script version of this notebook is desired, comment (not uncomment) the first line of `nbconvert` cell.\n",
        "\n",
        "### Colab installation\n",
        "\n",
        "1.  Comment (not uncomment) the first line of the drive mounting cell.\n",
        "2.  Comment (not uncomment) the first line of the `pip install` cell.\n",
        "\n",
        "<!-- - For colab we also want to set the runtime to GPU by clicking _Change runtime_ in the _Runtime_ menu, and -->\n",
        "<!-- - We want to wait for the google drive connection popup to appear and follow the instructions. -->\n",
        "\n",
        "### Training without optimization\n",
        "\n",
        "3. Set `OPTIMIZE = False` in section _Constants and flags to set_.\n",
        "4. Run the entire notebook.\n",
        "\n",
        "### Training with optimization\n",
        "\n",
        "3. Set `OPTIMIZE = True` in section _Constants and flags to set_.\n",
        "4. Run the entire notebook.\n",
        "\n",
        "### Loading an already trained model\n",
        "\n",
        "3. Run cells in section _Initialization_.\n",
        "4. Run cells with definitions in section _Input data and labels_.\n",
        "5. Run cell with the definition of _Net_ in section _Defining the neural network_.\n",
        "6. Make sure the `net.pth`, `optimizer.pth`, `scheduler.pth`, `var_dict.json` and `train_output.csv` files are in the directory containing this notebook.\n",
        "7. Run the cells in section _Loading_ and continue from there.\n",
        "\n",
        "### Generating the C++ model\n",
        "\n",
        "8. Run section _Porting the model to C++_, this requires a model to be loaded.\n",
        "9. Set the path to the `net.pt` file in the C++ source file.\n",
        "10. `mkdir build && cd build`,\n",
        "11. Configure a `CMakeLists.txt` file as is done [here](https://pytorch.org/cppdocs/installing.html).\n",
        "12. `cmake -DCMAKE_PREFIX_PATH=/path/to/libtorch/ ..`,\n",
        "13. Compile and run, e.g. `cmake --build . --config release && ./<executable name>`"
      ]
    },
    {
      "attachments": {},
      "cell_type": "markdown",
      "metadata": {},
      "source": [
        "## Initialization"
      ]
    },
    {
      "attachments": {},
      "cell_type": "markdown",
      "metadata": {},
      "source": [
        "\n",
        "Use this first cell to **convert this notebook** to a python script."
      ]
    },
    {
      "cell_type": "code",
      "execution_count": 96,
      "metadata": {
        "colab": {
          "base_uri": "https://localhost:8080/"
        },
        "id": "eqdgdNLHUZhV",
        "outputId": "30907b9d-56c3-44d7-cd43-6387a991a46a",
        "tags": [
          "remove_cell"
        ]
      },
      "outputs": [
        {
          "name": "stdout",
          "output_type": "stream",
          "text": [
            "Couldn't find program: 'echo'\n"
          ]
        }
      ],
      "source": [
        "%%script echo skipping\n",
        "\n",
        "!jupyter nbconvert pt1.ipynb --TagRemovePreprocessor.enabled=True --TagRemovePreprocessor.remove_cell_tags='{\"remove_cell\"}' --to script"
      ]
    },
    {
      "attachments": {},
      "cell_type": "markdown",
      "metadata": {
        "id": "nzcUr0LnUZhw"
      },
      "source": [
        "Next some cells for working on **google colab**,"
      ]
    },
    {
      "cell_type": "code",
      "execution_count": 48,
      "metadata": {},
      "outputs": [],
      "source": [
        "import os\n",
        "import shutil\n",
        "\n",
        "# check if the drive is mounted\n",
        "drive_mounted = os.path.exists(\"/content/drive\")\n",
        "# change this to your desired folder\n",
        "drive_folder = \"/content/drive/My Drive/bsc/con2prim_GRMHD\"\n",
        "\n",
        "# define a function to save a file to the drive or the current directory\n",
        "def save_file(file_name):\n",
        "  if drive_mounted:\n",
        "    # save the file to the drive folder\n",
        "    file_path = os.path.join(drive_folder, file_name)\n",
        "    # copy the file from the current directory to the drive folder\n",
        "    shutil.copyfile(file_name, file_path)\n",
        "  else:\n",
        "    # do nothing as the file is already in the current directory\n",
        "    pass\n"
      ]
    },
    {
      "cell_type": "code",
      "execution_count": 49,
      "metadata": {
        "colab": {
          "base_uri": "https://localhost:8080/"
        },
        "id": "ecHw2_xlUZhx",
        "outputId": "462a57cd-ee19-4961-d3aa-ff2407b2bde0"
      },
      "outputs": [
        {
          "name": "stdout",
          "output_type": "stream",
          "text": [
            "Couldn't find program: 'echo'\n"
          ]
        }
      ],
      "source": [
        "%%script echo skipping\n",
        "\n",
        "from google.colab import drive\n",
        "drive.mount('/content/drive')"
      ]
    },
    {
      "cell_type": "code",
      "execution_count": 50,
      "metadata": {
        "colab": {
          "base_uri": "https://localhost:8080/"
        },
        "id": "T1rcStMLUZhy",
        "outputId": "7ea7311f-f054-4a29-d0ff-12849095ab6e"
      },
      "outputs": [
        {
          "name": "stdout",
          "output_type": "stream",
          "text": [
            "Couldn't find program: 'echo'\n"
          ]
        }
      ],
      "source": [
        "%%script echo skipping\n",
        "\n",
        "!pip install optuna tensorboard tensorboardX"
      ]
    },
    {
      "attachments": {},
      "cell_type": "markdown",
      "metadata": {},
      "source": [
        "Importing the **libraries**,"
      ]
    },
    {
      "cell_type": "code",
      "execution_count": 51,
      "metadata": {
        "id": "tREdWQUVUZhz"
      },
      "outputs": [],
      "source": [
        "import numpy as np\n",
        "import matplotlib.pyplot as plt\n",
        "import torch\n",
        "import torch.nn as nn\n",
        "import torch.optim as optim\n",
        "import torch.nn.functional as F\n",
        "import optuna\n",
        "import tensorboardX as tbx\n",
        "import pandas as pd"
      ]
    },
    {
      "attachments": {},
      "cell_type": "markdown",
      "metadata": {
        "id": "38GvmerjUZhz"
      },
      "source": [
        "### Constants and flags to set\n",
        "Defining some constants and parameters for convenience.\n",
        "\n",
        "**NOTE**: Some **subparameters** still need to be adjusted in the `create_model` function itself as of (Tue May 16 07:42:45 AM CEST 2023) in the case the model is being trained without optimization."
      ]
    },
    {
      "cell_type": "code",
      "execution_count": 52,
      "metadata": {
        "id": "ei6VZDYKUZh0"
      },
      "outputs": [],
      "source": [
        "\n",
        "# Checking if GPU is available and setting the device accordingly\n",
        "device = torch.device(\"cuda\" if torch.cuda.is_available() else \"cpu\")\n",
        "\n",
        "N_TRIALS = 150 # Number of trials for hyperparameter optimization\n",
        "OPTIMIZE = False # Whether to optimize the hyperparameters or to use predetermined values from Dieseldorst et al..\n",
        "ZSCORE_NORMALIZATION = False # Whether to z-score normalize the input data.\n",
        "LOAD_DATA_FROM_CSV = True  # If not true we generate the data in this file and save to {x_train,y_train,x_test,y_test}.csv, otherwise we load the data from files of the same name.\n",
        "\n",
        "csv_filenames = { # File names to load input data and labels from if LOAD_DATA_FROM_CSV is True.\n",
        "    \"x_train\": \"x_train.csv\",\n",
        "    \"y_train\": \"y_train.csv\",\n",
        "    \"x_test\": \"x_test.csv\",\n",
        "    \"y_test\": \"y_test.csv\",\n",
        "}\n",
        "\n",
        "\n",
        "\n",
        "# I try out here the values as obtained in Optuna run 5, but I will increase the number of epochs.\n",
        "# N_LAYERS_NO_OPT = 3\n",
        "# N_UNITS_NO_OPT = [78, 193, 99]\n",
        "# HIDDEN_ACTIVATION_NAME_NO_OPT = \"ReLU\"\n",
        "# OUTPUT_ACTIVATION_NAME_NO_OPT = \"Linear\"\n",
        "# LOSS_NAME_NO_OPT = \"MSE\"\n",
        "# OPTIMIZER_NAME_NO_OPT = \"Adam\"\n",
        "# LR_NO_OPT = 0.00036516467819506355\n",
        "# BATCH_SIZE_NO_OPT = 170\n",
        "# N_EPOCHS_NO_OPT = 400\n",
        "# SCHEDULER_NAME_NO_OPT = \"ReduceLROnPlateau\"\n",
        "\n",
        "N_LAYERS_NO_OPT = 3\n",
        "N_UNITS_NO_OPT = [555, 458, 115]\n",
        "HIDDEN_ACTIVATION_NAME_NO_OPT = \"ReLU\"\n",
        "OUTPUT_ACTIVATION_NAME_NO_OPT = \"ReLU\"\n",
        "LOSS_NAME_NO_OPT = \"Huber\"\n",
        "OPTIMIZER_NAME_NO_OPT = \"RMSprop\"\n",
        "LR_NO_OPT = 0.000122770896701404\n",
        "BATCH_SIZE_NO_OPT = 49\n",
        "N_EPOCHS_NO_OPT = 3\n",
        "SCHEDULER_NAME_NO_OPT = \"ReduceLROnPlateau\"\n",
        "\n",
        "c = 1  # Speed of light (used in compute_conserved_variables and sample_primitive_variables functions)\n",
        "Gamma = 5 / 3  # Adiabatic index (used in eos_analytic function)\n",
        "gamma_det = 1 # Determinant of gamma_ij.\n",
        "alpha = 1 # Lapse function.\n",
        "betax = 1 # Shift x\n",
        "betay = 1 # Shift y\n",
        "betaz = 1 # Shift z\n",
        "n_train_samples = 80000 # Number of training samples (used in generate_input_data and generate_labels functions)\n",
        "n_test_samples = 10000 # Number of test samples (used in generate_input_data and generate_labels functions)\n",
        "# TODO: Make the intervals correspond to something that works in GR in general, for right now (Sun May 21 06:02:10 PM CEST 2023) the intervals are a mix of Dieselhorst et al., the minimum to maximum speed and dummy intervals.\n",
        "rho_interval = (0, 10.1) # Sampling interval for rest-mass density (used in sample_primitive_variables function)\n",
        "epsilon_interval = (0, 2.02) # Sampling interval for specific internal energy (used in sample_primitive_variables function)\n",
        "vx_interval = (0, .57 * c) # Sampling interval for velocity in x-direction (used in sample_primitive_variables function)\n",
        "vy_interval = (0, .57 * c) # Sampling interval for velocity in y-direction (used in sample_primitive_variables function)\n",
        "vz_interval = (0, .57 * c) # Sampling interval for velocity in z-direction (used in sample_primitive_variables function)\n",
        "# TODO: Choose proper sampling intervals for the magnetic fields in all directions.\n",
        "Bx_interval = (0, 1) # Sampling interval for magnetic field in x-direction (used in sample_primitive_variables function)\n",
        "By_interval = (0, 1) # Sampling interval for magnetic field in y-direction (used in sample_primitive_variables function)\n",
        "Bz_interval = (0, 1) # Sampling interval for magnetic field in z-direction (used in sample_primitive_variables function)\n",
        "\n",
        "np.random.seed(45) # Comment for true random data.\n"
      ]
    },
    {
      "attachments": {},
      "cell_type": "markdown",
      "metadata": {
        "id": "dlaP5UL2UZh1"
      },
      "source": [
        "## Input data and labels\n",
        "\n",
        "We either generate the data or load the data. First the definitions for generating the data come below."
      ]
    },
    {
      "cell_type": "code",
      "execution_count": 53,
      "metadata": {
        "id": "s_EvGFZcUZh1"
      },
      "outputs": [],
      "source": [
        "# Defining an analytic equation of state (EOS) for an ideal gas\n",
        "def eos_analytic(rho, epsilon):\n",
        "    \"\"\"Computes the pressure from rest-mass density and specific internal energy using an analytic EOS.\n",
        "\n",
        "    Args:\n",
        "        rho (torch.Tensor): The rest-mass density tensor of shape (n_samples,).\n",
        "        epsilon (torch.Tensor): The specific internal energy tensor of shape (n_samples,).\n",
        "\n",
        "    Returns:\n",
        "        torch.Tensor: The pressure tensor of shape (n_samples,).\n",
        "    \"\"\"\n",
        "    # Adding some assertions to check that the input tensors are valid and have \n",
        "    # the expected shape and type \n",
        "    assert isinstance(rho, torch.Tensor), \"rho must be a torch.Tensor\"\n",
        "    assert isinstance(epsilon, torch.Tensor), \"epsilon must be a torch.Tensor\"\n",
        "    assert rho.shape == epsilon.shape, \"rho and epsilon must have the same shape\"\n",
        "    assert rho.ndim == 1, \"rho and epsilon must be one-dimensional tensors\"\n",
        "    assert rho.dtype == torch.float32, \"rho and epsilon must have dtype torch.float32\"\n",
        "\n",
        "    return (Gamma - 1) * rho * epsilon\n",
        "\n",
        "\n",
        "\n",
        "# Defining a function that samples primitive variables from uniform distributions\n",
        "def sample_primitive_variables(n_samples):\n",
        "    \"\"\"Samples primitive variables from uniform distributions.\n",
        "\n",
        "    Args:\n",
        "        n_samples (int): The number of samples to generate.\n",
        "\n",
        "    Returns:\n",
        "        tuple: A tuple of (rho, epsilon, vx, vy, vz, Bx, By, Bz), where rho is rest-mass density,\n",
        "            rho is the rest mass density,\n",
        "            epsilon is specific internal energy,\n",
        "            vx is velocity in x-direction,\n",
        "            vy is velocity in y-direction,\n",
        "            vz is velocity in z-direction,\n",
        "            Bx is magnetic field in x-direction,\n",
        "            By is magnetic field in y-direction,\n",
        "            Bz is magnetic field in z-direction,\n",
        "            each being a numpy array of shape (n_samples,).\n",
        "    \"\"\"\n",
        "    rho = np.random.uniform(*rho_interval, size=n_samples)  # Rest-mass density\n",
        "    epsilon = np.random.uniform(*epsilon_interval, size=n_samples)  # Specific internal energy\n",
        "    vx = np.random.uniform(*vx_interval, size=n_samples)  # Velocity in x-direction\n",
        "    vy = np.random.uniform(*vy_interval, size=n_samples)  # Velocity in y-direction\n",
        "    vz = np.random.uniform(*vz_interval, size=n_samples)  # Velocity in z-direction \n",
        "    Bx = np.random.uniform(*Bx_interval, size=n_samples)  # Magnetic field in x-direction\n",
        "    By = np.random.uniform(*By_interval, size=n_samples)  # Magnetic field in y-direction\n",
        "    Bz = np.random.uniform(*Bz_interval, size=n_samples)  # Magnetic field in z-direction \n",
        "    return rho, epsilon, vx, vy, vz, Bx, By, Bz\n",
        "\n",
        "\n",
        "\n",
        "\n",
        "# Defining a function that computes conserved variables from primitive variables\n",
        "def compute_conserved_variables(rho, epsilon, vx, vy, vz, Bx, By, Bz):\n",
        "    \"\"\"Computes conserved variables from primitive variables.\n",
        "\n",
        "    Args:\n",
        "        rho (torch.Tensor): The rest-mass density tensor of shape (n_samples,).\n",
        "        epsilon (torch.Tensor): The specific internal energy tensor of shape (n_samples,).\n",
        "        vx (torch.Tensor): The velocity in x-direction tensor of shape (n_samples,)\n",
        "        vy (torch.Tensor): The velocity in y-direction tensor of shape (n_samples,)\n",
        "        vz (torch.Tensor): The velocity in z-direction tensor of shape (n_samples,)\n",
        "        Bx (torch.Tensor): The magnetic field in x-direction tensor of shape (n_samples,)\n",
        "        By (torch.Tensor): The magnetic field in y-direction tensor of shape (n_samples,)\n",
        "        Bz (torch.Tensor): The magnetic field in z-direction tensor of shape (n_samples,)\n",
        "\n",
        "    Returns:\n",
        "        tuple: A tuple of (D, Sx, Sy, Sz, tau, Bscriptx, Bscripty, Bscriptz), where\n",
        "            D is conserved density,\n",
        "            Sx is conserved momentum in x-direction,\n",
        "            Sy is conserved momentum in y-direction,\n",
        "            Sz is conserved momentum in z-direction,\n",
        "            tau is conserved energy density,\n",
        "            Bscriptx is conserved magnetic field in x-direction,\n",
        "            Bscripty is conserved magnetic field in y-direction,\n",
        "            Bscriptz is conserved magnetic field in z-direction,\n",
        "            each being a torch tensor of shape (n_samples,).\n",
        "    \"\"\"\n",
        "\n",
        "    p = eos_analytic(rho, epsilon)\n",
        "    v2 = vx ** 2 + vy ** 2 + vz ** 2\n",
        "    W = 1 / torch.sqrt(1 - v2 / c ** 2)\n",
        "    h_star = 1 + epsilon + (p + Bx ** 2 + By ** 2 + Bz ** 2) / rho\n",
        "\n",
        "    # Calculation following Recovering schemes for primitives in GRMHD - Siegel et al.\n",
        "    b0 = W / alpha * Bx * vx + By * vy + Bz * vz\n",
        "    b1 = Bx / W + b0 * (alpha * vx - betax)\n",
        "    b2 = By / W + b0 * (alpha * vy - betay)\n",
        "    b3 = Bz / W + b0 * (alpha * vz - betaz)\n",
        "\n",
        "    D = gamma_det ** 0.5 * rho * W\n",
        "    Sx = gamma_det ** 0.5 * (rho * h_star * W ** 2 * vx - alpha * b0 * b1)\n",
        "    Sy = gamma_det ** 0.5 * (rho * h_star * W ** 2 * vy - alpha * b0 * b2)\n",
        "    Sz = gamma_det ** 0.5 * (rho * h_star * W ** 2 * vz - alpha * b0 * b3)\n",
        "    tau = gamma_det ** 0.5 * (rho * h_star * W ** 2 - p - (alpha * b0) ** 2) - D\n",
        "    Bscriptx = gamma_det ** 0.5 * Bx\n",
        "    Bscripty = gamma_det ** 0.5 * By\n",
        "    Bscriptz = gamma_det ** 0.5 * Bz\n",
        "\n",
        "    return D, Sx, Sy, Sz, tau, Bscriptx, Bscripty, Bscriptz\n",
        "\n",
        "\n",
        "# Defining a function that generates input data (conserved variables) from given samples of primitive variables\n",
        "def generate_input_data(rho, epsilon, vx, vy, vz, Bx, By, Bz):\n",
        "    # Converting the numpy arrays to torch tensors and moving them to the device\n",
        "    rho = torch.tensor(rho, dtype=torch.float32).to(device)\n",
        "    epsilon = torch.tensor(epsilon, dtype=torch.float32).to(device)\n",
        "    vx = torch.tensor(vx, dtype=torch.float32).to(device)\n",
        "    vy = torch.tensor(vy, dtype=torch.float32).to(device)\n",
        "    vz = torch.tensor(vz, dtype=torch.float32).to(device)\n",
        "    Bx = torch.tensor(Bx, dtype=torch.float32).to(device)\n",
        "    By = torch.tensor(By, dtype=torch.float32).to(device)\n",
        "    Bz = torch.tensor(Bz, dtype=torch.float32).to(device)\n",
        "\n",
        "    # Computing the conserved variables using the compute_conserved_variables function\n",
        "    D, Sx, Sy, Sz, tau, Bscriptx, Bscripty, Bscriptz = compute_conserved_variables(\n",
        "        rho, epsilon, vx, vy, vz, Bx, By, Bz\n",
        "    ) \n",
        "\n",
        "    # Stacking the conserved variables into a torch tensor\n",
        "    x = torch.stack([D, Sx, Sy, Sz, tau, Bscriptx, Bscripty, Bscriptz], axis=1)\n",
        "\n",
        "    # Returning the input data tensor\n",
        "    return x\n",
        "\n",
        "# Defining a function that generates output data (labels) from given samples of primitive variables\n",
        "def generate_labels(rho, epsilon):\n",
        "    # Converting the numpy arrays to torch tensors and moving them to the device\n",
        "    rho = torch.tensor(rho, dtype=torch.float32).to(device)\n",
        "    epsilon = torch.tensor(epsilon, dtype=torch.float32).to(device)\n",
        "   \n",
        "    # Computing the pressure from the primitive variables using the EOS\n",
        "    p = eos_analytic(rho, epsilon)\n",
        "\n",
        "    # Returning the output data tensor\n",
        "    return p\n"
      ]
    },
    {
      "attachments": {},
      "cell_type": "markdown",
      "metadata": {},
      "source": [
        "### Generating or loading input data and labels"
      ]
    },
    {
      "cell_type": "code",
      "execution_count": 54,
      "metadata": {
        "id": "cKubR6C8UZh4"
      },
      "outputs": [
        {
          "data": {
            "text/plain": [
              "torch.Size([80000, 8])"
            ]
          },
          "execution_count": 54,
          "metadata": {},
          "output_type": "execute_result"
        },
        {
          "data": {
            "text/plain": [
              "torch.Size([80000])"
            ]
          },
          "execution_count": 54,
          "metadata": {},
          "output_type": "execute_result"
        },
        {
          "data": {
            "text/plain": [
              "torch.Size([10000, 8])"
            ]
          },
          "execution_count": 54,
          "metadata": {},
          "output_type": "execute_result"
        },
        {
          "data": {
            "text/plain": [
              "torch.Size([10000])"
            ]
          },
          "execution_count": 54,
          "metadata": {},
          "output_type": "execute_result"
        },
        {
          "data": {
            "text/plain": [
              "tensor([[13.9759, 34.9256, 12.9019,  ...,  0.4126,  0.3899,  0.8935],\n",
              "        [ 5.7788,  1.3172,  0.8753,  ...,  0.2867,  0.2137,  0.1567],\n",
              "        [ 3.4963,  3.5045,  5.6014,  ...,  0.5955,  0.7932,  0.8628],\n",
              "        ...,\n",
              "        [ 5.7850,  2.0192,  4.8618,  ...,  0.2955,  0.1149,  0.1936],\n",
              "        [ 9.0765,  4.9471,  2.0028,  ...,  0.4854,  0.2328,  0.4709],\n",
              "        [12.9478, 37.8519,  6.9827,  ...,  0.3755,  0.6361,  0.7396]])"
            ]
          },
          "execution_count": 54,
          "metadata": {},
          "output_type": "execute_result"
        },
        {
          "data": {
            "text/plain": [
              "tensor([8.2839, 3.0436, 1.6876,  ..., 3.9606, 0.0631, 7.8002])"
            ]
          },
          "execution_count": 54,
          "metadata": {},
          "output_type": "execute_result"
        },
        {
          "data": {
            "text/plain": [
              "tensor([[ 9.1383,  2.0824,  4.5529,  ...,  0.5055,  0.0775,  0.7524],\n",
              "        [10.8328,  3.1639,  1.2545,  ...,  0.5814,  0.0620,  0.8795],\n",
              "        [ 5.8128,  5.9793,  1.8982,  ...,  0.1191,  0.3037,  0.4986],\n",
              "        ...,\n",
              "        [ 5.7951,  5.3206,  2.8847,  ...,  0.1579,  0.2717,  0.8126],\n",
              "        [ 5.9226,  2.5579,  8.8464,  ...,  0.7925,  0.3846,  0.8590],\n",
              "        [13.7898, 40.1546, 12.4183,  ...,  0.7042,  0.9086,  0.6774]])"
            ]
          },
          "execution_count": 54,
          "metadata": {},
          "output_type": "execute_result"
        },
        {
          "data": {
            "text/plain": [
              "tensor([0.8918, 3.4839, 4.5342,  ..., 6.5672, 2.6817, 7.2255])"
            ]
          },
          "execution_count": 54,
          "metadata": {},
          "output_type": "execute_result"
        }
      ],
      "source": [
        "if LOAD_DATA_FROM_CSV:\n",
        "    # Load the data from CSV files\n",
        "    x_train = pd.read_csv(csv_filenames[\"x_train\"]).values\n",
        "    y_train = pd.read_csv(csv_filenames[\"y_train\"]).values.squeeze()  # reshape to 1D\n",
        "    x_test = pd.read_csv(csv_filenames[\"x_test\"]).values\n",
        "    y_test = pd.read_csv(csv_filenames[\"y_test\"]).values.squeeze()  # reshape to 1D\n",
        "\n",
        "    # Convert numpy arrays to tensors\n",
        "    x_train = torch.from_numpy(x_train).float().to(device)\n",
        "    y_train = torch.from_numpy(y_train).float().to(device)\n",
        "    x_test = torch.from_numpy(x_test).float().to(device)\n",
        "    y_test = torch.from_numpy(y_test).float().to(device)\n",
        "\n",
        "    # This is an alternative to having if clauses  around the next cells that visualize these variables.\n",
        "    rho_train = epsilon_train = vx_train = vy_train = vz_train = Bx_train = By_train = Bz_train = None\n",
        "    rho_test = epsilon_test = vx_test = vy_test = vz_test = Bx_test = By_test = Bz_test = None\n",
        "else:\n",
        "    # Sample primitive variables\n",
        "    rho_train, epsilon_train, vx_train, vy_train, vz_train, Bx_train, By_train, Bz_train = sample_primitive_variables(n_train_samples)\n",
        "    rho_test, epsilon_test, vx_test, vy_test, vz_test, Bx_test, By_test, Bz_test = sample_primitive_variables(n_test_samples)\n",
        "\n",
        "    # Generate data and labels.\n",
        "    x_train = generate_input_data(rho_train, epsilon_train, vx_train, vy_train, vz_train, Bx_train, By_train, Bz_train)\n",
        "    y_train = generate_labels(rho_train, epsilon_train)\n",
        "    x_test = generate_input_data(rho_test, epsilon_test, vx_test, vy_test, vz_test, Bx_test, By_test, Bz_test)\n",
        "    y_test = generate_labels(rho_test, epsilon_test)\n",
        "\n",
        "    # Save the data to CSV files, tensors need to be converted numpy arrays for saving in CSV.\n",
        "    pd.DataFrame(x_train.cpu().numpy()).to_csv(csv_filenames[\"x_train\"], index=False)\n",
        "    pd.DataFrame(y_train.cpu().numpy()).to_csv(csv_filenames[\"y_train\"], index=False)\n",
        "    pd.DataFrame(x_test.cpu().numpy()).to_csv(csv_filenames[\"x_test\"], index=False)\n",
        "    pd.DataFrame(y_test.cpu().numpy()).to_csv(csv_filenames[\"y_test\"], index=False)\n",
        "\n",
        "x_train.shape\n",
        "y_train.shape\n",
        "x_test.shape\n",
        "y_test.shape\n",
        "x_train\n",
        "y_train\n",
        "x_test\n",
        "y_test"
      ]
    },
    {
      "attachments": {},
      "cell_type": "markdown",
      "metadata": {},
      "source": [
        "## Visualizing the data"
      ]
    },
    {
      "attachments": {},
      "cell_type": "markdown",
      "metadata": {},
      "source": [
        "### Visualizing sampled data"
      ]
    },
    {
      "cell_type": "code",
      "execution_count": 55,
      "metadata": {},
      "outputs": [],
      "source": [
        "if not LOAD_DATA_FROM_CSV:\n",
        "    rho_train\n",
        "    epsilon_train\n",
        "    vx_train\n",
        "    vy_train\n",
        "    vz_train \n",
        "    Bx_train\n",
        "    By_train\n",
        "    Bz_train\n",
        "    rho_test\n",
        "    epsilon_test\n",
        "    vx_test \n",
        "    vy_test \n",
        "    vz_test \n",
        "    Bx_test\n",
        "    By_test\n",
        "    Bz_test"
      ]
    },
    {
      "cell_type": "code",
      "execution_count": 56,
      "metadata": {
        "id": "VMp6XJ6RUZh4"
      },
      "outputs": [],
      "source": [
        "%config InteractiveShell.ast_node_interactivity = \"last_expr_or_assign\""
      ]
    },
    {
      "cell_type": "code",
      "execution_count": 57,
      "metadata": {
        "colab": {
          "base_uri": "https://localhost:8080/",
          "height": 409
        },
        "id": "E5YFdqKjUZh5",
        "outputId": "fe67d113-f369-495f-9aba-201c71058eb7"
      },
      "outputs": [],
      "source": [
        "if not LOAD_DATA_FROM_CSV:\n",
        "    def plot_histogram(data, xlabel, ylabel, position, bins=20, log_scale=False):\n",
        "        plt.subplot(3, 4, position)\n",
        "        plt.hist(data, bins=bins)\n",
        "        plt.xlabel(xlabel)\n",
        "        plt.ylabel(ylabel)\n",
        "        if log_scale:\n",
        "            plt.yscale(\"log\")\n",
        "\n",
        "    # Plotting the histograms of rho, vx, epsilon, b0, b1, b2, and b3\n",
        "    plt.figure(figsize=(16, 12))\n",
        "\n",
        "    plot_histogram(rho_train, \"rho\", \"Frequency\", 1)\n",
        "    plot_histogram(epsilon_train, \"epsilon\", \"Frequency\", 2)\n",
        "    plot_histogram(vx_train, \"vx\", \"Frequency\", 3)\n",
        "    plot_histogram(vy_train, \"vy\", \"Frequency\", 4)\n",
        "    plot_histogram(vz_train, \"vz\", \"Frequency\", 5)\n",
        "    plot_histogram(Bx_train, \"Bx\", \"Frequency\", 6)\n",
        "    plot_histogram(By_train, \"By\", \"Frequency\", 7)\n",
        "    plot_histogram(Bz_train, \"Bz\", \"Frequency\", 8)\n",
        "    plot_histogram(b0_train, \"b0\", \"Frequency\", 9)\n",
        "    plot_histogram(b1_train, \"b1\", \"Frequency\", 10)\n",
        "    plot_histogram(b2_train, \"b2\", \"Frequency\", 11)\n",
        "    plot_histogram(b3_train, \"b3\", \"Frequency\", 12)\n",
        "\n",
        "    plt.suptitle(\"Primitive variables\")\n",
        "    plt.tight_layout()\n",
        "    plt.show()"
      ]
    },
    {
      "cell_type": "code",
      "execution_count": 58,
      "metadata": {},
      "outputs": [],
      "source": [
        "%config InteractiveShell.ast_node_interactivity = \"last_expr_or_assign\""
      ]
    },
    {
      "cell_type": "code",
      "execution_count": 59,
      "metadata": {},
      "outputs": [],
      "source": [
        "if not LOAD_DATA_FROM_CSV:\n",
        "    # List of variable names\n",
        "    variable_names = [\"rho\", \"epsilon\", \"vx\", \"vy\", \"vz\", \"Bx\", \"By\", \"Bz\"]\n",
        "\n",
        "    # Note how we are only plotting train and not test here. \n",
        "    # Plotting histograms of the input variables before z-score normalization\n",
        "    plt.figure(figsize=(12, 12))\n",
        "    plt.suptitle('Histograms of input variables before (or without at all) z-score normalization', y=1.03)\n",
        "    for i in range(8):\n",
        "        plt.subplot(4, 2, i+1)\n",
        "        plt.hist(x_train[:, i].cpu(), bins=50) # Must be converted to cpu() for plotting.\n",
        "        plt.xlabel(variable_names[i])\n",
        "    plt.subplots_adjust(hspace=0.4, wspace=0.4)\n",
        "    plt.show()"
      ]
    },
    {
      "attachments": {},
      "cell_type": "markdown",
      "metadata": {},
      "source": [
        "### Data normalization"
      ]
    },
    {
      "cell_type": "code",
      "execution_count": 60,
      "metadata": {},
      "outputs": [
        {
          "name": "stdout",
          "output_type": "stream",
          "text": [
            "Summary statistics of input variables before z-score normalization\n",
            "tensor([[ 4.2354e-05,  3.4465e+01,  6.3522e+00,  6.2318e+00,  3.8406e+00],\n",
            "        [-1.7718e-01,  3.5165e+02,  7.4005e+00,  4.3049e+00,  9.3541e+00],\n",
            "        [-1.8852e-01,  3.4830e+02,  7.3713e+00,  4.3226e+00,  9.3055e+00],\n",
            "        [-1.9916e-01,  3.5761e+02,  7.3625e+00,  4.3018e+00,  9.3143e+00],\n",
            "        [ 5.4815e-02,  5.7376e+02,  1.3492e+01,  9.6199e+00,  1.3809e+01],\n",
            "        [ 1.6653e-07,  9.9998e-01,  5.0062e-01,  4.9980e-01,  2.8918e-01],\n",
            "        [ 3.7636e-06,  9.9998e-01,  5.0065e-01,  5.0140e-01,  2.8924e-01],\n",
            "        [ 9.8495e-06,  1.0000e+00,  5.0112e-01,  5.0141e-01,  2.8865e-01]])\n"
          ]
        }
      ],
      "source": [
        "# Computing summary statistics of the input variables before and after z-score normalization\n",
        "print('Summary statistics of input variables before z-score normalization')\n",
        "print(torch.stack([torch.min(x_train, dim=0).values, torch.max(x_train, dim=0).values, torch.nanmean(x_train, dim=0), torch.median(x_train, dim=0).values, torch.std(x_train, dim=0)], dim=1))"
      ]
    },
    {
      "attachments": {},
      "cell_type": "markdown",
      "metadata": {
        "id": "xTEmkR1SUZh7"
      },
      "source": [
        "Perform z-score normalization"
      ]
    },
    {
      "cell_type": "code",
      "execution_count": 61,
      "metadata": {},
      "outputs": [],
      "source": [
        "%config InteractiveShell.ast_node_interactivity = \"all\""
      ]
    },
    {
      "cell_type": "code",
      "execution_count": 62,
      "metadata": {
        "id": "yPOv6DxhUZh7"
      },
      "outputs": [],
      "source": [
        "if ZSCORE_NORMALIZATION:\n",
        "    \n",
        "    # TODO: Add magnetic field variables to the normalization if I decide to use the old code that is commented out here.\n",
        "    # # Computing the median of each input variable from the training set using torch.nanmedian function\n",
        "    # D_median = torch.nanmedian(x_train[:, 0])\n",
        "    # Sx_median = torch.nanmedian(x_train[:, 1])\n",
        "    # Sy_median = torch.nanmedian(x_train[:, 2])\n",
        "    # Sz_median = torch.nanmedian(x_train[:, 3])\n",
        "    # tau_median = torch.nanmedian(x_train[:, 4])\n",
        "\n",
        "    # # Computing the standard deviation of each input variable from the training set using torch.std function with a boolean mask to ignore nan values\n",
        "    # D_std = torch.std(x_train[~torch.isnan(x_train[:, 0]), 0])\n",
        "    # Sx_std = torch.std(x_train[~torch.isnan(x_train[:, 1]), 1])\n",
        "    # Sy_std = torch.std(x_train[~torch.isnan(x_train[:, 2]), 2])\n",
        "    # Sz_std = torch.std(x_train[~torch.isnan(x_train[:, 3]), 3])\n",
        "    # tau_std = torch.std(x_train[~torch.isnan(x_train[:, 4]), 4])\n",
        "\n",
        "\n",
        "    # # Applying z-score normalization to both train and test sets using the statistics from the training set\n",
        "    # x_train[:, 0] = torch.sub(x_train[:, 0], D_median).div(D_std)\n",
        "    # x_train[:, 1] = torch.sub(x_train[:, 1], Sx_median).div(Sx_std)\n",
        "    # x_train[:, 2] = torch.sub(x_train[:, 2], Sy_median).div(Sy_std)\n",
        "    # x_train[:, 3] = torch.sub(x_train[:, 3], Sz_median).div(Sz_std)\n",
        "    # x_train[:, 4] = torch.sub(x_train[:, 4], tau_median).div(tau_std)\n",
        "\n",
        "    # x_test[:, 0] = torch.sub(x_test[:, 0], D_median).div(D_std)\n",
        "    # x_test[:, 1] = torch.sub(x_test[:, 1], Sx_median).div(Sx_std)\n",
        "    # x_test[:, 2] = torch.sub(x_test[:, 2], Sy_median).div(Sy_std)\n",
        "    # x_test[:, 3] = torch.sub(x_test[:, 3], Sz_median).div(Sz_std)\n",
        "    # x_test[:, 4] = torch.sub(x_test[:, 4], tau_median).div(tau_std)\n",
        "\n",
        "    # Computing the mean and standard deviation of each column\n",
        "    mean = x_train.mean(dim=0)\n",
        "    std = x_train.std(dim=0)\n",
        "\n",
        "    # Applying z-score normalization\n",
        "    x_train = (x_train - mean) / std\n",
        "    # Use the same mean and std from the training data as we don't want test data leakage.\n",
        "    x_test = (x_test - mean) / std\n",
        "\n"
      ]
    },
    {
      "attachments": {},
      "cell_type": "markdown",
      "metadata": {},
      "source": [
        "Plotting the histograms of the input data after normalization if z-score normalization was performed."
      ]
    },
    {
      "cell_type": "code",
      "execution_count": 63,
      "metadata": {},
      "outputs": [],
      "source": [
        "%config InteractiveShell.ast_node_interactivity = \"last_expr_or_assign\""
      ]
    },
    {
      "cell_type": "code",
      "execution_count": 64,
      "metadata": {},
      "outputs": [],
      "source": [
        "if not LOAD_DATA_FROM_CSV:\n",
        "    if ZSCORE_NORMALIZATION: \n",
        "        # List of variable names\n",
        "        variable_names = [\"rho\", \"epsilon\", \"vx\", \"vy\", \"vz\", \"Bx\", \"By\", \"Bz\"]\n",
        "\n",
        "        # Note how we are only plotting train and not test here. \n",
        "        # Plotting histograms of the input variables after z-score normalization\n",
        "        plt.figure(figsize=(12, 12))\n",
        "        plt.suptitle('Histograms of input variables after z-score normalization', y=1.03)\n",
        "        for i in range(8):\n",
        "            plt.subplot(4, 2, i+1)\n",
        "            plt.hist(x_train[:, i].cpu(), bins=50) # Must be converted to cpu() for plotting.\n",
        "            plt.xlabel(variable_names[i])\n",
        "        plt.subplots_adjust(hspace=0.4, wspace=0.4)\n",
        "        plt.show()"
      ]
    },
    {
      "cell_type": "code",
      "execution_count": 65,
      "metadata": {},
      "outputs": [],
      "source": [
        "if ZSCORE_NORMALIZATION:\n",
        "    # Computing summary statistics of the input variables after z-score normalization\n",
        "    print('Summary statistics of input variables after z-score normalization')\n",
        "    print(torch.stack([torch.min(x_train, dim=0).values, torch.max(x_train, dim=0).values, torch.mean(x_train, dim=0), torch.median(x_train, dim=0).values, torch.std(x_train, dim=0)], dim=1))\n"
      ]
    },
    {
      "attachments": {},
      "cell_type": "markdown",
      "metadata": {},
      "source": [
        "### Visualizing input data and labels"
      ]
    },
    {
      "cell_type": "code",
      "execution_count": 66,
      "metadata": {},
      "outputs": [
        {
          "data": {
            "text/plain": [
              "tensor([0.8918, 3.4839, 4.5342,  ..., 6.5672, 2.6817, 7.2255])"
            ]
          },
          "execution_count": 66,
          "metadata": {},
          "output_type": "execute_result"
        }
      ],
      "source": [
        "x_train\n",
        "y_train\n",
        "x_test\n",
        "y_test"
      ]
    },
    {
      "attachments": {},
      "cell_type": "markdown",
      "metadata": {
        "colab": {
          "base_uri": "https://localhost:8080/",
          "height": 407
        },
        "id": "E96p_MsOUZh9",
        "outputId": "4b95bad0-8f3a-4364-eed1-008e0ce2a5e3"
      },
      "source": [
        "Checking if our output is always positive by plotting a histogram of y_train and y_test tensors "
      ]
    },
    {
      "cell_type": "code",
      "execution_count": 67,
      "metadata": {},
      "outputs": [
        {
          "data": {
            "image/png": "[encoded data removed]",
            "text/plain": [
              "<Figure size 800x400 with 2 Axes>"
            ]
          },
          "metadata": {},
          "output_type": "display_data"
        }
      ],
      "source": [
        "# Note how we are only plotting train.\n",
        "plt.figure(figsize=(8, 4))\n",
        "plt.subplot(1, 2, 1)\n",
        "plt.hist(y_train.cpu().numpy(), bins=20) # must be cpu here.\n",
        "plt.xlabel(\"y_train\")\n",
        "plt.ylabel(\"Frequency\")\n",
        "plt.yscale(\"log\")\n",
        "plt.subplot(1, 2, 2)\n",
        "plt.hist(y_test.cpu().numpy(), bins=20) # must be cpu here\n",
        "plt.xlabel(\"y_test\")\n",
        "plt.ylabel(\"Frequency\")\n",
        "plt.yscale(\"log\")\n",
        "plt.tight_layout()\n",
        "plt.show()\n"
      ]
    },
    {
      "cell_type": "code",
      "execution_count": 68,
      "metadata": {
        "id": "FEgjk--AUZh9"
      },
      "outputs": [],
      "source": [
        "%config InteractiveShell.ast_node_interactivity = \"all\""
      ]
    },
    {
      "attachments": {},
      "cell_type": "markdown",
      "metadata": {
        "id": "r2b9GecHUZh9"
      },
      "source": [
        "## Defining the neural network"
      ]
    },
    {
      "cell_type": "code",
      "execution_count": 69,
      "metadata": {
        "id": "Iv8HA-ZXUZh-"
      },
      "outputs": [],
      "source": [
        "# Defining a class for the network\n",
        "class Net(nn.Module):\n",
        "    \"\"\"A class for creating a network with a\n",
        "    variable number of hidden layers and units.\n",
        "\n",
        "    Attributes:\n",
        "        n_layers (int): The number of hidden layers in the network.\n",
        "        n_units (list): A list of integers representing the number of units in each hidden layer.\n",
        "        hidden_activation (torch.nn.Module): The activation function for the hidden layers.\n",
        "        output_activation (torch.nn.Module): The activation function for the output layer.\n",
        "        layers (torch.nn.ModuleList): A list of linear layers in the network.\n",
        "    \"\"\"\n",
        "\n",
        "    def __init__(self, n_layers, n_units, hidden_activation, output_activation):\n",
        "        \"\"\"Initializes the network with the given hyperparameters.\n",
        "\n",
        "        Args:\n",
        "            n_layers (int): The number of hidden layers in the network.\n",
        "            n_units (list): A list of integers representing the number of units in each hidden layer.\n",
        "            hidden_activation (torch.nn.Module): The activation function for the hidden layers.\n",
        "            output_activation (torch.nn.Module): The activation function for the output layer.\n",
        "        \"\"\"\n",
        "        super().__init__()\n",
        "        self.n_layers = n_layers\n",
        "        self.n_units = n_units\n",
        "        self.hidden_activation = hidden_activation\n",
        "        self.output_activation = output_activation\n",
        "\n",
        "        # Creating a list of linear layers with different numbers of units for each layer\n",
        "        self.layers = nn.ModuleList([nn.Linear(8, n_units[0])])\n",
        "        for i in range(1, n_layers):\n",
        "            self.layers.append(nn.Linear(n_units[i - 1], n_units[i]))\n",
        "        self.layers.append(nn.Linear(n_units[-1], 1))\n",
        "\n",
        "        # Adding some assertions to check that the input arguments are valid\n",
        "        assert isinstance(n_layers, int) and n_layers > 0, \"n_layers must be a positive integer\"\n",
        "        assert isinstance(n_units, list) and len(n_units) == n_layers, \"n_units must be a list of length n_layers\"\n",
        "        assert all(isinstance(n, int) and n > 0 for n in n_units), \"n_units must contain positive integers\"\n",
        "        assert isinstance(hidden_activation, nn.Module), \"hidden_activation must be a torch.nn.Module\"\n",
        "        assert isinstance(output_activation, nn.Module), \"output_activation must be a torch.nn.Module\"\n",
        "\n",
        "    def forward(self, x):\n",
        "        \"\"\"Performs a forward pass on the input tensor.\n",
        "\n",
        "        Args:\n",
        "            x (torch.Tensor): The input tensor of shape (batch_size, 8).\n",
        "\n",
        "        Returns:\n",
        "            torch.Tensor: The output tensor of shape (batch_size, 1).\n",
        "        \"\"\"\n",
        "        # Adding an assertion to check that the input tensor has the expected shape and type\n",
        "        assert isinstance(x, torch.Tensor), \"x must be a torch.Tensor\"\n",
        "        assert x.shape[1] == 8, \"x must have shape (batch_size, 8)\"\n",
        "\n",
        "        # Looping over the hidden layers and applying the linear transformation and the activation function\n",
        "        for layer in self.layers[:-1]:\n",
        "            x = self.hidden_activation(layer(x))\n",
        "        # Applying the linear transformation and the activation function on the output layer\n",
        "        x = self.output_activation(self.layers[-1](x))\n",
        "\n",
        "        # Returning the output tensor\n",
        "        return x\n"
      ]
    },
    {
      "attachments": {},
      "cell_type": "markdown",
      "metadata": {
        "id": "6GNvp55PUZh_"
      },
      "source": [
        "## Defining the model and search space"
      ]
    },
    {
      "cell_type": "code",
      "execution_count": 70,
      "metadata": {
        "id": "9a1opluOUZh_"
      },
      "outputs": [],
      "source": [
        "# Defining a function to create a trial network and optimizer\n",
        "def create_model(trial, optimize):\n",
        "    \"\"\"Creates a trial network and optimizer based on the sampled hyperparameters.\n",
        "\n",
        "    Args:\n",
        "        trial (optuna.trial.Trial): The trial object that contains the hyperparameters.\n",
        "        optimize (boolean): Whether to optimize the hyperparameters or to use predefined values.\n",
        "\n",
        "    Returns:\n",
        "        tuple: A tuple of (net, loss_fn, optimizer, batch_size, n_epochs,\n",
        "            scheduler, loss_name, optimizer_name, scheduler_name,\n",
        "            n_units, n_layers, hidden_activation, output_activation),\n",
        "            where net is the trial network,\n",
        "            loss_fn is the loss function,\n",
        "            optimizer is the optimizer,\n",
        "            batch_size is the batch size,\n",
        "            n_epochs is the number of epochs,\n",
        "            scheduler is the learning rate scheduler,\n",
        "            loss_name is the name of the loss function,\n",
        "            optimizer_name is the name of the optimizer,\n",
        "            scheduler_name is the name of the scheduler,\n",
        "            n_units is a list of integers representing\n",
        "            the number of units in each hidden layer,\n",
        "            n_layers is an integer representing the number of hidden layers in the network,\n",
        "            hidden_activation is a torch.nn.Module representing the activation function for the hidden layers,\n",
        "            output_activation is a torch.nn.Module representing the activation function for the output layer,\n",
        "            lr is the (initial) learning rate.\n",
        "    \"\"\"\n",
        "    # If optimize is True, sample the hyperparameters from the search space\n",
        "    if OPTIMIZE:\n",
        "        # Sampling the hyperparameters from the search space\n",
        "        n_layers = trial.suggest_int(\"n_layers\", 2, 6)\n",
        "        n_units = [trial.suggest_int(f\"n_units_{i}\", 16, 2048) for i in range(n_layers)] \n",
        "        hidden_activation_name = trial.suggest_categorical(\n",
        "            #\"hidden_activation\", [\"ReLU\", \"LeakyReLU\", \"ELU\", \"Tanh\", \"Sigmoid\"]\n",
        "            #\"hidden_activation\", [\"ReLU\", \"LeakyReLU\"]\n",
        "            \"hidden_activation\", [\"ReLU\", \"LeakyReLU\", \"ELU\"]\n",
        "        )\n",
        "        output_activation_name = trial.suggest_categorical(\n",
        "            #\"output_activation\", [\"Linear\", \"ReLU\", \"Softplus\"]\n",
        "            # Assuming pressure cannot be negative, linear output activation is not an option.\n",
        "            #\"output_activation\", [\"ReLU\", \"Softplus\", \"Linear\"]\n",
        "            \"output_activation\", [\"ReLU\", \"Linear\"]\n",
        "        ) \n",
        "        loss_name = trial.suggest_categorical(\n",
        "            #\"loss\", [\"MSE\", \"MAE\", \"Huber\", \"LogCosh\"] \n",
        "            \"loss\", [\"MSE\", \"MAE\", \"Huber\"] \n",
        "        )\n",
        "        optimizer_name = trial.suggest_categorical(\n",
        "            \"optimizer\", [\"Adam\", \"SGD\", \"RMSprop\", \"Adagrad\"] \n",
        "        )\n",
        "        lr = trial.suggest_loguniform(\"lr\", 1e-4, 1e-2) \n",
        "\n",
        "        batch_size_list = [32, 48, 64, 96, 128, 256, 512, 1048]\n",
        "        batch_size = trial.suggest_categorical(\"batch_size\", batch_size_list)\n",
        "        #batch_size = trial.suggest_int(\"batch_size\", 64, 1048)\n",
        "        n_epochs = trial.suggest_int(\"n_epochs\", 100, 300) \n",
        "        scheduler_name = trial.suggest_categorical(\n",
        "            \"scheduler\",\n",
        "            # [\"None\", \"CosineAnnealingLR\", \"ReduceLROnPlateau\", \"StepLR\", \"ExponentialLR\"],\n",
        "            [\"CosineAnnealingLR\", \"ReduceLROnPlateau\", \"StepLR\"],\n",
        "        )\n",
        "\n",
        "    # If optimize is False, use the predefined values\n",
        "    else:\n",
        "        # Setting the hyperparameters to the predefined values\n",
        "        n_layers = N_LAYERS_NO_OPT\n",
        "        n_units = N_UNITS_NO_OPT\n",
        "        hidden_activation_name = HIDDEN_ACTIVATION_NAME_NO_OPT\n",
        "        output_activation_name = OUTPUT_ACTIVATION_NAME_NO_OPT\n",
        "        loss_name = LOSS_NAME_NO_OPT\n",
        "        optimizer_name = OPTIMIZER_NAME_NO_OPT\n",
        "        lr = LR_NO_OPT\n",
        "        batch_size = BATCH_SIZE_NO_OPT\n",
        "        n_epochs = N_EPOCHS_NO_OPT\n",
        "        scheduler_name = SCHEDULER_NAME_NO_OPT\n",
        "\n",
        "\n",
        "    # Creating the activation functions from their names\n",
        "    if hidden_activation_name == \"ReLU\":\n",
        "        hidden_activation = nn.ReLU()\n",
        "    elif hidden_activation_name == \"LeakyReLU\":\n",
        "        hidden_activation = nn.LeakyReLU() \n",
        "    elif hidden_activation_name == \"ELU\":\n",
        "        hidden_activation = nn.ELU() \n",
        "    elif hidden_activation_name == \"Tanh\":\n",
        "        hidden_activation = nn.Tanh()\n",
        "    else:\n",
        "        hidden_activation = nn.Sigmoid()\n",
        "\n",
        "    if output_activation_name == \"ReLU\":\n",
        "        output_activation = nn.ReLU()\n",
        "    elif output_activation_name == \"Softplus\":\n",
        "        output_activation = nn.Softplus()\n",
        "    else:\n",
        "        output_activation = nn.Identity()\n",
        "\n",
        "    # Creating the loss function from its name\n",
        "    if loss_name == \"MSE\":\n",
        "        loss_fn = nn.MSELoss()\n",
        "    elif loss_name == \"MAE\":\n",
        "        loss_fn = nn.L1Loss()\n",
        "    elif loss_name == \"Huber\":\n",
        "        loss_fn = nn.SmoothL1Loss() \n",
        "    else:\n",
        "        # Creating the log-cosh loss function\n",
        "        def log_cosh_loss(y_pred, y_true):\n",
        "            return torch.mean(torch.log(torch.cosh(y_pred - y_true)))\n",
        "            \n",
        "        loss_fn = log_cosh_loss\n",
        "\n",
        "    # Creating the network with the sampled hyperparameters\n",
        "    net = Net(\n",
        "        n_layers, n_units, hidden_activation, output_activation\n",
        "    ).to(device)\n",
        "\n",
        "    if OPTIMIZE:\n",
        "        # Creating the optimizer from its name\n",
        "        if optimizer_name == \"SGD\":\n",
        "            # Added sampling the weight decay and momentum for SGD\n",
        "            weight_decay = trial.suggest_loguniform(\"weight_decay\", 1e-5, 1e-2)\n",
        "            momentum = trial.suggest_uniform(\"momentum\", 0.0, 0.99)\n",
        "            optimizer = optim.SGD(net.parameters(), lr=lr, weight_decay=weight_decay, momentum=momentum)\n",
        "        elif optimizer_name == \"Adam\":\n",
        "            # Added sampling the weight decay and beta parameters for Adam\n",
        "            weight_decay = trial.suggest_loguniform(\"weight_decay\", 1e-5, 1e-2)\n",
        "            beta1 = trial.suggest_uniform(\"beta1\", 0.9, 0.999)\n",
        "            beta2 = trial.suggest_uniform(\"beta2\", 0.999, 0.9999)\n",
        "            optimizer = optim.Adam(net.parameters(), lr=lr, weight_decay=weight_decay, betas=(beta1, beta2))\n",
        "        elif optimizer_name == \"RMSprop\":\n",
        "            optimizer = optim.RMSprop(net.parameters(), lr=lr)\n",
        "        else:\n",
        "            # Added creating the Adagrad optimizer\n",
        "            optimizer = optim.Adagrad(net.parameters(), lr=lr)\n",
        "\n",
        "        # Creating the learning rate scheduler from its name\n",
        "        if scheduler_name == \"StepLR\":\n",
        "            step_size = trial.suggest_int(\"step_size\", 5, 15)\n",
        "            gamma = trial.suggest_uniform(\"gamma\", 0.1, 0.5)\n",
        "            scheduler = optim.lr_scheduler.StepLR(optimizer, step_size=step_size, gamma=gamma)\n",
        "        elif scheduler_name == \"ExponentialLR\":\n",
        "            gamma = trial.suggest_uniform(\"gamma\", 0.8, 0.99)\n",
        "            scheduler = optim.lr_scheduler.ExponentialLR(optimizer, gamma=gamma)\n",
        "        elif scheduler_name == \"CosineAnnealingLR\":\n",
        "            if n_epochs < 150:\n",
        "                t_max_fraction = trial.suggest_uniform('t_max_fraction', 0.1, 0.3)\n",
        "            elif n_epochs > 250:\n",
        "                t_max_fraction = trial.suggest_uniform('t_max_fraction', 0.05, 0.1)\n",
        "            else:\n",
        "                t_max_fraction = trial.suggest_uniform('t_max_fraction', 0.1, 0.2)\n",
        "\n",
        "            T_max = int(n_epochs * t_max_fraction)\n",
        "            eta_min = trial.suggest_loguniform(\"eta_min\", 1e-7, 1e-2)\n",
        "            scheduler = optim.lr_scheduler.CosineAnnealingLR(optimizer, T_max=T_max, eta_min=eta_min)\n",
        "        elif scheduler_name == \"ReduceLROnPlateau\":\n",
        "            # Added sampling the factor, patience and threshold for ReduceLROnPlateau\n",
        "            factor = trial.suggest_uniform(\"factor\", 0.1, 0.5)\n",
        "            patience = trial.suggest_int(\"patience\", 5, 10)\n",
        "            threshold = trial.suggest_loguniform(\"threshold\", 1e-4, 1e-2)\n",
        "            scheduler = optim.lr_scheduler.ReduceLROnPlateau(\n",
        "                optimizer, mode=\"min\", factor=factor, patience=patience, threshold=threshold\n",
        "            )\n",
        "        # # Added using OneCycleLR scheduler as an option\n",
        "        # elif scheduler_name == \"OneCycleLR\":\n",
        "        #         # Added sampling the max_lr and pct_start for OneCycleLR\n",
        "        #         max_lr = trial.suggest_loguniform(\"max_lr\", lr, 10 * lr) \n",
        "        #         pct_start = trial.suggest_uniform(\"pct_start\", 0.1, 0.9)\n",
        "        #         scheduler = optim.lr_scheduler.OneCycleLR(\n",
        "        #             optimizer,\n",
        "        #             max_lr=max_lr,\n",
        "        #             epochs=n_epochs,\n",
        "        #             steps_per_epoch=len(train_loader),\n",
        "        #             pct_start=pct_start,\n",
        "        #         )\n",
        "        else:\n",
        "            scheduler = None\n",
        "    else:\n",
        "        # Creating the optimizer from its name\n",
        "        if optimizer_name == \"SGD\":\n",
        "            optimizer = optim.SGD(net.parameters(), lr=lr)\n",
        "        elif optimizer_name == \"Adam\":\n",
        "            optimizer = optim.Adam(net.parameters(), lr=lr)\n",
        "        elif optimizer_name == \"RMSprop\":\n",
        "            optimizer = optim.RMSprop(net.parameters(), lr=lr)\n",
        "        else:\n",
        "            optimizer = optim.Adagrad(net.parameters(), lr=lr)\n",
        "\n",
        "        # Creating the learning rate scheduler from its name\n",
        "        if scheduler_name == \"StepLR\":\n",
        "            scheduler = optim.lr_scheduler.StepLR(optimizer, step_size=10, gamma=0.1)\n",
        "        elif scheduler_name == \"ExponentialLR\":\n",
        "            scheduler = optim.lr_scheduler.ExponentialLR(optimizer, gamma=0.9)\n",
        "        elif scheduler_name == \"CosineAnnealingLR\":\n",
        "            scheduler = optim.lr_scheduler.CosineAnnealingLR(optimizer)\n",
        "        elif scheduler_name == \"ReduceLROnPlateau\":\n",
        "            # Creating the ReduceLROnPlateau scheduler with a threshold value of 0.01\n",
        "            #scheduler = optim.lr_scheduler.ReduceLROnPlateau(\n",
        "            #    optimizer, mode=\"min\", factor=0.1, patience=10, threshold=0.01\n",
        "            #)\n",
        "            # Use Dieseldorst et al. settings and add to that a minimum lr.\n",
        "            scheduler = optim.lr_scheduler.ReduceLROnPlateau(\n",
        "                        optimizer, mode=\"min\", factor=0.18979341786654758, patience=11, threshold=0.0017197466122611932 #, min_lr=1e-6\n",
        "                    )\n",
        "        else:\n",
        "            scheduler = None\n",
        "\n",
        "    # Returning all variables needed for saving and loading\n",
        "    return net, loss_fn, optimizer, batch_size, n_epochs, scheduler, loss_name, optimizer_name, scheduler_name, n_units, n_layers, hidden_activation, output_activation, lr\n",
        "\n"
      ]
    },
    {
      "attachments": {},
      "cell_type": "markdown",
      "metadata": {
        "id": "l-czA7VvUZiD"
      },
      "source": [
        " ## The training and evaluation loop\n",
        "\n",
        " We first define a couple of functions used in the training and evaluation."
      ]
    },
    {
      "cell_type": "code",
      "execution_count": 71,
      "metadata": {
        "id": "aD6FQNmxUZiD"
      },
      "outputs": [],
      "source": [
        "# Defining a function that computes loss and metrics for a given batch\n",
        "def compute_loss_and_metrics(y_pred, y_true, loss_fn):\n",
        "    \"\"\"Computes loss and metrics for a given batch.\n",
        "\n",
        "    Args:\n",
        "        y_pred (torch.Tensor): The predicted pressure tensor of shape (batch_size, 1).\n",
        "        y_true (torch.Tensor): The true pressure tensor of shape (batch_size,).\n",
        "        loss_fn (torch.nn.Module or function): The loss function to use.\n",
        "\n",
        "    Returns:\n",
        "        tuple: A tuple of (loss, l1_norm), where loss is a scalar tensor,\n",
        "            l1_norm is L1 norm for relative error of pressure,\n",
        "            each being a scalar tensor.\n",
        "            linf_norm is Linf norm for relative error of pressure.\n",
        "    \"\"\"\n",
        "    # Reshaping the target tensor to match the input tensor\n",
        "    y_true = y_true.view(-1, 1)\n",
        "\n",
        "    # Computing the loss using the loss function\n",
        "    loss = loss_fn(y_pred, y_true)\n",
        "\n",
        "    # Computing the relative error of pressure\n",
        "    rel_error = torch.abs((y_pred - y_true) / y_true)\n",
        "\n",
        "    # Computing the L1 norm for the relative error of pressure\n",
        "    l1_norm = torch.mean(rel_error) \n",
        "    # Computing the Linf norm for the relative error of pressure\n",
        "    linf_norm = torch.max(rel_error) \n",
        "\n",
        "    # Returning the loss and metrics\n",
        "    return loss, l1_norm, linf_norm\n",
        "\n",
        "\n",
        "# Defining a function that updates the learning rate scheduler with validation loss if applicable\n",
        "def update_scheduler(scheduler, test_loss):\n",
        "    \"\"\"Updates the learning rate scheduler with validation loss if applicable.\n",
        "\n",
        "    Args:\n",
        "        scheduler (torch.optim.lr_scheduler._LRScheduler or None): The learning rate scheduler to use.\n",
        "        test_loss (float): The validation loss to use.\n",
        "\n",
        "    Returns:\n",
        "        None\n",
        "    \"\"\"\n",
        "    # Checking if scheduler is not None\n",
        "    if scheduler is not None:\n",
        "        # Checking if scheduler is ReduceLROnPlateau\n",
        "        if isinstance(scheduler, optim.lr_scheduler.ReduceLROnPlateau):\n",
        "            # Updating the scheduler with test_loss\n",
        "            scheduler.step(test_loss)\n",
        "        else:\n",
        "            # Updating the scheduler without test_loss\n",
        "            scheduler.step()\n"
      ]
    },
    {
      "attachments": {},
      "cell_type": "markdown",
      "metadata": {
        "id": "w1nE662UUZiE"
      },
      "source": [
        "Now for the actual training and evaluation loop,"
      ]
    },
    {
      "cell_type": "code",
      "execution_count": 72,
      "metadata": {
        "id": "YAOjgKW3UZiF"
      },
      "outputs": [],
      "source": [
        "# Defining a function to train and evaluate a network\n",
        "def train_and_eval(net, loss_fn, optimizer, batch_size, n_epochs, scheduler, trial=None):\n",
        "    \"\"\"Trains and evaluates a network.\n",
        "\n",
        "    Args:\n",
        "        net (torch.nn.Module): The network to train and evaluate.\n",
        "        loss_fn (torch.nn.Module or function): The loss function.\n",
        "        optimizer (torch.optim.Optimizer): The optimizer.\n",
        "        batch_size (int): The batch size.\n",
        "        n_epochs (int): The number of epochs.\n",
        "        scheduler (torch.optim.lr_scheduler._LRScheduler or None): The learning rate scheduler.\n",
        "    Returns:\n",
        "        tuple: A tuple of (train_losses, test_losses, train_metrics, test_metrics), where\n",
        "            train_losses is a list of training losses for each epoch,\n",
        "            test_losses is a list of validation losses for each epoch,\n",
        "            train_metrics is a list of dictionaries containing training metrics for each epoch,\n",
        "            test_metrics is a list of dictionaries containing validation metrics for each epoch.\n",
        "    \"\"\"\n",
        "    # Creating data loaders for train and test sets\n",
        "    train_loader = torch.utils.data.DataLoader(\n",
        "        torch.utils.data.TensorDataset(x_train, y_train), batch_size=batch_size, shuffle=True\n",
        "    )\n",
        "    test_loader = torch.utils.data.DataLoader(\n",
        "        torch.utils.data.TensorDataset(x_test, y_test), batch_size=batch_size\n",
        "    )\n",
        "\n",
        "    # Initializing lists to store the losses and metrics for each epoch\n",
        "    train_losses = []\n",
        "    test_losses = []\n",
        "    train_metrics = []\n",
        "    test_metrics = []\n",
        "\n",
        "    # Creating a SummaryWriter object to log data for tensorboard\n",
        "    writer = tbx.SummaryWriter()\n",
        "\n",
        "    # Looping over the epochs\n",
        "    for epoch in range(n_epochs):\n",
        "\n",
        "        # Setting the network to training mode\n",
        "        net.train()\n",
        "\n",
        "        # Initializing variables to store the total loss and metrics for the train set\n",
        "        train_loss = 0.0\n",
        "        train_l1_norm = 0.0\n",
        "        train_linf_norm = 0.0\n",
        "\n",
        "        # Looping over the batches in the train set\n",
        "        for x_batch, y_batch in train_loader:\n",
        "\n",
        "            # Moving the batch tensors to the device\n",
        "            x_batch = x_batch.to(device)\n",
        "            y_batch = y_batch.to(device)\n",
        "\n",
        "            # Zeroing the gradients\n",
        "            optimizer.zero_grad()\n",
        "\n",
        "            # Performing a forward pass and computing the loss and metrics\n",
        "            y_pred = net(x_batch)\n",
        "            loss, l1_norm, linf_norm = compute_loss_and_metrics(\n",
        "                y_pred, y_batch, loss_fn\n",
        "            )\n",
        "\n",
        "\n",
        "            # Performing a backward pass and updating the weights\n",
        "            loss.backward()\n",
        "            optimizer.step()\n",
        "\n",
        "            # Updating the total loss and metrics for the train set\n",
        "            train_loss += loss.item() * x_batch.size(0)\n",
        "            train_l1_norm += l1_norm.item() * x_batch.size(0)\n",
        "            train_linf_norm += linf_norm.item() * x_batch.size(0)\n",
        "\n",
        "        # Computing the average loss and metrics for the train set\n",
        "        train_loss /= len(train_loader.dataset)\n",
        "        train_l1_norm /= len(train_loader.dataset)\n",
        "        train_linf_norm /= len(train_loader.dataset)\n",
        "\n",
        "        # Appending the average loss and metrics for the train set to the lists\n",
        "        train_losses.append(train_loss)\n",
        "        train_metrics.append(\n",
        "            {\n",
        "                \"l1_norm\": train_l1_norm,\n",
        "                \"linf_norm\": train_linf_norm,\n",
        "            }\n",
        "        )\n",
        "\n",
        "        # Logging the average loss and metrics for the train set to tensorboard\n",
        "        writer.add_scalar(\"Loss/train\", train_loss, epoch)\n",
        "        writer.add_scalar(\"L1 norm/train\", train_l1_norm, epoch)\n",
        "        writer.add_scalar(\"Linf norm/train\", train_linf_norm, epoch)\n",
        "\n",
        "        # Setting the network to evaluation mode\n",
        "        net.eval()\n",
        "\n",
        "        # Initializing variables to store the total loss and metrics for the test set\n",
        "        test_loss = 0.0\n",
        "        test_l1_norm = 0.0\n",
        "        test_linf_norm = 0.0\n",
        "\n",
        "        # Looping over the batches in the test set\n",
        "        with torch.no_grad():\n",
        "            for x_batch, y_batch in test_loader:\n",
        "\n",
        "                # Moving the batch tensors to the device\n",
        "                x_batch = x_batch.to(device)\n",
        "                y_batch = y_batch.to(device)\n",
        "\n",
        "                # Performing a forward pass and computing the loss and metrics\n",
        "                y_pred = net(x_batch)\n",
        "                loss, l1_norm, linf_norm = compute_loss_and_metrics(\n",
        "                    y_pred, y_batch, loss_fn\n",
        "                )\n",
        "\n",
        "\n",
        "                # Updating the total loss and metrics for the test set\n",
        "                test_loss += loss.item() * x_batch.size(0)\n",
        "                test_l1_norm += l1_norm.item() * x_batch.size(0)\n",
        "                test_linf_norm += linf_norm.item() * x_batch.size(0)\n",
        "\n",
        "        # Computing the average loss and metrics for the test set\n",
        "        test_loss /= len(test_loader.dataset)\n",
        "        test_l1_norm /= len(test_loader.dataset)\n",
        "        test_linf_norm /= len(test_loader.dataset)\n",
        "\n",
        "        # Appending the average loss and metrics for the test set to the lists\n",
        "        test_losses.append(test_loss)\n",
        "        test_metrics.append(\n",
        "            {\n",
        "                \"l1_norm\": test_l1_norm,\n",
        "                \"linf_norm\": test_linf_norm,\n",
        "            }\n",
        "        )\n",
        "\n",
        "        # Logging the average loss and metrics for the test set to tensorboard\n",
        "        writer.add_scalar(\"Loss/test\", test_loss, epoch)\n",
        "        writer.add_scalar(\"L1 norm/test\", test_l1_norm, epoch)\n",
        "        writer.add_scalar(\"Linf norm/test\", test_linf_norm, epoch)\n",
        "\n",
        "        # Printing the average loss and metrics for both sets for this epoch\n",
        "        print(\n",
        "            f\"Epoch {epoch + 1}: Train Loss: {train_loss:.4f}, Test Loss: {test_loss:.4f}, \"\n",
        "            f\"Train L1 Norm: {train_l1_norm:.4f}, Test L1 Norm: {test_l1_norm:.4f}, \"\n",
        "            f\"Train Linf Norm: {train_linf_norm:.4f}, Test Linf Norm: {test_linf_norm:.4f}\"\n",
        "        )\n",
        "\n",
        "        # Updating the learning rate scheduler with validation loss if applicable\n",
        "        update_scheduler(scheduler, test_loss)\n",
        "\n",
        "        # Reporting the intermediate metric value to Optuna if trial is not None\n",
        "        if trial is not None:\n",
        "            trial.report(test_metrics[-1][\"l1_norm\"], epoch)\n",
        "\n",
        "            # Checking if the trial should be pruned based on the intermediate value if trial is not None\n",
        "            if trial.should_prune():\n",
        "                raise optuna.TrialPruned()\n",
        "\n",
        "    # Closing the SummaryWriter object\n",
        "    writer.close()\n",
        "\n",
        "    # Returning the losses and metrics lists\n",
        "    return train_losses, test_losses, train_metrics, test_metrics"
      ]
    },
    {
      "attachments": {},
      "cell_type": "markdown",
      "metadata": {
        "id": "xg9jz0SvUZiQ"
      },
      "source": [
        "## The objective function and hyperparameter tuning"
      ]
    },
    {
      "cell_type": "code",
      "execution_count": 73,
      "metadata": {
        "id": "fmRncQPuUZiR"
      },
      "outputs": [],
      "source": [
        "# Defining an objective function for Optuna to minimize\n",
        "def objective(trial):\n",
        "    \"\"\"Defines an objective function for Optuna to minimize.\n",
        "\n",
        "    Args:\n",
        "        trial (optuna.trial.Trial): The trial object that contains the hyperparameters.\n",
        "\n",
        "    Returns:\n",
        "        float: The validation L1 norm to minimize.\n",
        "    \"\"\"\n",
        "    # Creating a trial network and optimizer using the create_model function\n",
        "    net, \\\n",
        "    loss_fn, \\\n",
        "    optimizer, \\\n",
        "    batch_size, \\\n",
        "    n_epochs, \\\n",
        "    scheduler, \\\n",
        "    loss_name, \\\n",
        "    optimizer_name, \\\n",
        "    scheduler_name, \\\n",
        "    n_units, \\\n",
        "    n_layers, \\\n",
        "    hidden_activation, \\\n",
        "    output_activation, \\\n",
        "    lr = create_model(trial, optimize=True)\n",
        "\n",
        "    # Training and evaluating the network using the train_and_eval function\n",
        "    _, _, _, test_metrics = train_and_eval(\n",
        "        net, loss_fn, optimizer, batch_size, n_epochs, scheduler, trial\n",
        "    )\n",
        "\n",
        "    # Returning the last validation L1 norm as the objective value to minimize\n",
        "    return test_metrics[-1][\"l1_norm\"]"
      ]
    },
    {
      "cell_type": "code",
      "execution_count": 74,
      "metadata": {
        "id": "GyES4NAyUZiS"
      },
      "outputs": [],
      "source": [
        "if OPTIMIZE:\n",
        "    # Creating a study object with Optuna with TPE sampler and median pruner \n",
        "    study = optuna.create_study(direction=\"minimize\", sampler=optuna.samplers.TPESampler(), pruner=optuna.pruners.MedianPruner())\n",
        "\n",
        "    # Running Optuna with 100 trials when we are optimizing.\n",
        "    study.optimize(objective, n_trials=N_TRIALS)\n",
        "\n",
        "    # Printing the best trial information\n",
        "    print(\"Best trial:\")\n",
        "    trial = study.best_trial\n",
        "    print(\"  Value: \", trial.value)\n",
        "    print(\"  Params: \")\n",
        "    for key, value in trial.params.items():\n",
        "        print(f\"    {key}: {value}\")\n"
      ]
    },
    {
      "attachments": {},
      "cell_type": "markdown",
      "metadata": {
        "id": "jmMfE9_dUZiS"
      },
      "source": [
        "## Training the model"
      ]
    },
    {
      "cell_type": "code",
      "execution_count": 75,
      "metadata": {
        "id": "phyiHlWEUZiT"
      },
      "outputs": [],
      "source": [
        "# Creating the best network and optimizer using the best hyperparameters\n",
        "if OPTIMIZE:\n",
        "    net, \\\n",
        "    loss_fn, \\\n",
        "    optimizer, \\\n",
        "    batch_size, \\\n",
        "    n_epochs, \\\n",
        "    scheduler, \\\n",
        "    loss_name, \\\n",
        "    optimizer_name, \\\n",
        "    scheduler_name, \\\n",
        "    n_units, \\\n",
        "    n_layers, \\\n",
        "    hidden_activation, \\\n",
        "    output_activation, \\\n",
        "    lr = create_model(trial, optimize=True)\n",
        "# Creating the network with predefined hyperparameters\n",
        "else:\n",
        "    net, \\\n",
        "    loss_fn, \\\n",
        "    optimizer, \\\n",
        "    batch_size, \\\n",
        "    n_epochs, \\\n",
        "    scheduler, \\\n",
        "    loss_name, \\\n",
        "    optimizer_name, \\\n",
        "    scheduler_name, \\\n",
        "    n_units, \\\n",
        "    n_layers, \\\n",
        "    hidden_activation, \\\n",
        "    output_activation, \\\n",
        "    lr = create_model(trial=None, optimize=False)"
      ]
    },
    {
      "cell_type": "code",
      "execution_count": 76,
      "metadata": {
        "colab": {
          "base_uri": "https://localhost:8080/"
        },
        "id": "_yq-oY81UZiU",
        "outputId": "dbf2f465-bd50-4a20-8926-616c3d2157d0"
      },
      "outputs": [
        {
          "name": "stdout",
          "output_type": "stream",
          "text": [
            "loss_fn: SmoothL1Loss()\n",
            "batch_size: 49\n",
            "n_epochs: 3\n",
            "scheduler: <torch.optim.lr_scheduler.ReduceLROnPlateau object at 0x000001F80AA2A090>\n",
            "loss_name: Huber\n",
            "optimizer_name: RMSprop\n",
            "scheduler_name: ReduceLROnPlateau\n",
            "n_units: [555, 458, 115]\n",
            "n_layers: 3\n",
            "hidden_activation: ReLU()\n",
            "output_activation: ReLU()\n"
          ]
        }
      ],
      "source": [
        "print(\"loss_fn:\", loss_fn)\n",
        "print(\"batch_size:\", batch_size)\n",
        "print(\"n_epochs:\", n_epochs)\n",
        "print(\"scheduler:\", scheduler)\n",
        "print(\"loss_name:\", loss_name)\n",
        "print(\"optimizer_name:\", optimizer_name)\n",
        "print(\"scheduler_name:\", scheduler_name)\n",
        "print(\"n_units:\", n_units)\n",
        "print(\"n_layers:\", n_layers)\n",
        "print(\"hidden_activation:\", hidden_activation)\n",
        "print(\"output_activation:\", output_activation)"
      ]
    },
    {
      "cell_type": "code",
      "execution_count": 77,
      "metadata": {
        "colab": {
          "base_uri": "https://localhost:8080/"
        },
        "id": "E7aLWdZyUZiW",
        "outputId": "8fb1e8c6-5aa3-43a1-a255-712cf9396d0c"
      },
      "outputs": [
        {
          "name": "stdout",
          "output_type": "stream",
          "text": [
            "Epoch 1: Train Loss: 0.0988, Test Loss: 0.0419, Train L1 Norm: 1.7822, Test L1 Norm: 18.2665, Train Linf Norm: 77.1536, Test Linf Norm: 887.8700\n",
            "Epoch 2: Train Loss: 0.0422, Test Loss: 0.2662, Train L1 Norm: 0.3376, Test L1 Norm: 0.3726, Train Linf Norm: 11.2343, Test Linf Norm: 7.6710\n",
            "Epoch 3: Train Loss: 0.0319, Test Loss: 0.0859, Train L1 Norm: 0.3852, Test L1 Norm: 0.1584, Train Linf Norm: 14.4822, Test Linf Norm: 2.4178\n"
          ]
        }
      ],
      "source": [
        "# Training and evaluating the network using the train_and_eval function\n",
        "train_losses, test_losses, train_metrics, test_metrics = train_and_eval(\n",
        "    net, loss_fn, optimizer, batch_size, n_epochs, scheduler\n",
        ")"
      ]
    },
    {
      "attachments": {},
      "cell_type": "markdown",
      "metadata": {
        "id": "akNucrgMUZiW"
      },
      "source": [
        "## Saving"
      ]
    },
    {
      "cell_type": "code",
      "execution_count": 78,
      "metadata": {
        "id": "LHsrs2Y-UZic"
      },
      "outputs": [],
      "source": [
        "import json\n",
        "\n",
        "# save the network to a .pth file\n",
        "torch.save(net.state_dict(), \"net.pth\")\n",
        "save_file(\"net.pth\")\n",
        "\n",
        "# save the optimizer to a .pth file\n",
        "torch.save(optimizer.state_dict(), \"optimizer.pth\")\n",
        "save_file(\"optimizer.pth\")\n",
        "\n",
        "# save the scheduler to a .pth file if it is not None\n",
        "if scheduler is not None:\n",
        "  torch.save(scheduler.state_dict(), \"scheduler.pth\")\n",
        "  save_file(\"scheduler.pth\")\n",
        "\n",
        "# create a dictionary to store the rest of the variables\n",
        "var_dict = {\n",
        "  \"batch_size\": batch_size,\n",
        "  \"n_epochs\": n_epochs,\n",
        "  \"loss_name\": loss_name,\n",
        "  \"optimizer_name\": optimizer_name,\n",
        "  \"scheduler_name\": scheduler_name,\n",
        "  \"n_units\": n_units,\n",
        "  \"n_layers\": n_layers,\n",
        "  \"hidden_activation_name\": hidden_activation.__class__.__name__,\n",
        "  \"output_activation_name\": output_activation.__class__.__name__,\n",
        "  \"lr\": lr,\n",
        "}\n",
        "\n",
        "# save the dictionary to a .json file\n",
        "with open(\"var_dict.json\", \"w\") as f:\n",
        "  json.dump(var_dict, f)\n",
        "save_file(\"var_dict.json\")\n",
        "\n",
        "# Saving the output of the training using pandas\n",
        "train_df = pd.DataFrame(\n",
        "    {\n",
        "        \"train_loss\": train_losses,\n",
        "        \"test_loss\": test_losses,\n",
        "        \"train_l1_norm\": [m[\"l1_norm\"] for m in train_metrics],\n",
        "        \"test_l1_norm\": [m[\"l1_norm\"] for m in test_metrics],\n",
        "        \"train_linf_norm\": [m[\"linf_norm\"] for m in train_metrics],\n",
        "        \"test_linf_norm\": [m[\"linf_norm\"] for m in test_metrics],\n",
        "    }\n",
        ")\n",
        "train_df.to_csv(\"train_output.csv\", index=False)\n",
        "save_file(\"train_output.csv\")\n"
      ]
    },
    {
      "attachments": {},
      "cell_type": "markdown",
      "metadata": {
        "id": "qU23l7dIUZie"
      },
      "source": [
        "## Visualizing the results"
      ]
    },
    {
      "cell_type": "code",
      "execution_count": 79,
      "metadata": {
        "colab": {
          "base_uri": "https://localhost:8080/",
          "height": 1000
        },
        "id": "cippWZS6UZie",
        "outputId": "f0d6e5c3-945f-481b-a153-e54fed7fe9fa"
      },
      "outputs": [
        {
          "data": {
            "text/plain": [
              "<Figure size 1200x800 with 0 Axes>"
            ]
          },
          "execution_count": 79,
          "metadata": {},
          "output_type": "execute_result"
        },
        {
          "data": {
            "text/plain": [
              "<Axes: >"
            ]
          },
          "execution_count": 79,
          "metadata": {},
          "output_type": "execute_result"
        },
        {
          "data": {
            "text/plain": [
              "[<matplotlib.lines.Line2D at 0x1f80af87410>]"
            ]
          },
          "execution_count": 79,
          "metadata": {},
          "output_type": "execute_result"
        },
        {
          "data": {
            "text/plain": [
              "[<matplotlib.lines.Line2D at 0x1f8045d5d10>]"
            ]
          },
          "execution_count": 79,
          "metadata": {},
          "output_type": "execute_result"
        },
        {
          "data": {
            "text/plain": [
              "Text(0.5, 0, 'Epoch')"
            ]
          },
          "execution_count": 79,
          "metadata": {},
          "output_type": "execute_result"
        },
        {
          "data": {
            "text/plain": [
              "Text(0, 0.5, 'L1 Norm')"
            ]
          },
          "execution_count": 79,
          "metadata": {},
          "output_type": "execute_result"
        },
        {
          "data": {
            "text/plain": [
              "(0.001, 100.0)"
            ]
          },
          "execution_count": 79,
          "metadata": {},
          "output_type": "execute_result"
        },
        {
          "data": {
            "text/plain": [
              "<matplotlib.legend.Legend at 0x1f8047dab50>"
            ]
          },
          "execution_count": 79,
          "metadata": {},
          "output_type": "execute_result"
        },
        {
          "data": {
            "text/plain": [
              "<Axes: >"
            ]
          },
          "execution_count": 79,
          "metadata": {},
          "output_type": "execute_result"
        },
        {
          "data": {
            "text/plain": [
              "[<matplotlib.lines.Line2D at 0x1f8045d1310>]"
            ]
          },
          "execution_count": 79,
          "metadata": {},
          "output_type": "execute_result"
        },
        {
          "data": {
            "text/plain": [
              "[<matplotlib.lines.Line2D at 0x1f804793ad0>]"
            ]
          },
          "execution_count": 79,
          "metadata": {},
          "output_type": "execute_result"
        },
        {
          "data": {
            "text/plain": [
              "Text(0.5, 0, 'Epoch')"
            ]
          },
          "execution_count": 79,
          "metadata": {},
          "output_type": "execute_result"
        },
        {
          "data": {
            "text/plain": [
              "Text(0, 0.5, 'Linf Norm')"
            ]
          },
          "execution_count": 79,
          "metadata": {},
          "output_type": "execute_result"
        },
        {
          "data": {
            "text/plain": [
              "(0.001, 100.0)"
            ]
          },
          "execution_count": 79,
          "metadata": {},
          "output_type": "execute_result"
        },
        {
          "data": {
            "text/plain": [
              "<matplotlib.legend.Legend at 0x1f804760590>"
            ]
          },
          "execution_count": 79,
          "metadata": {},
          "output_type": "execute_result"
        },
        {
          "data": {
            "image/png": "[encoded data removed]",
            "text/plain": [
              "<Figure size 1200x800 with 2 Axes>"
            ]
          },
          "metadata": {},
          "output_type": "display_data"
        },
        {
          "data": {
            "text/plain": [
              "<Figure size 800x600 with 0 Axes>"
            ]
          },
          "execution_count": 79,
          "metadata": {},
          "output_type": "execute_result"
        },
        {
          "data": {
            "text/plain": [
              "[<matplotlib.lines.Line2D at 0x1f80ad73e10>]"
            ]
          },
          "execution_count": 79,
          "metadata": {},
          "output_type": "execute_result"
        },
        {
          "data": {
            "text/plain": [
              "[<matplotlib.lines.Line2D at 0x1f803d6afd0>]"
            ]
          },
          "execution_count": 79,
          "metadata": {},
          "output_type": "execute_result"
        },
        {
          "data": {
            "text/plain": [
              "Text(0.5, 0, 'Epoch')"
            ]
          },
          "execution_count": 79,
          "metadata": {},
          "output_type": "execute_result"
        },
        {
          "data": {
            "text/plain": [
              "Text(0, 0.5, 'Huber Loss')"
            ]
          },
          "execution_count": 79,
          "metadata": {},
          "output_type": "execute_result"
        },
        {
          "data": {
            "text/plain": [
              "(1e-07, 1.0)"
            ]
          },
          "execution_count": 79,
          "metadata": {},
          "output_type": "execute_result"
        },
        {
          "data": {
            "text/plain": [
              "<matplotlib.legend.Legend at 0x1f803fc6c10>"
            ]
          },
          "execution_count": 79,
          "metadata": {},
          "output_type": "execute_result"
        },
        {
          "data": {
            "image/png": "[encoded data removed]",
            "text/plain": [
              "<Figure size 800x600 with 1 Axes>"
            ]
          },
          "metadata": {},
          "output_type": "display_data"
        }
      ],
      "source": [
        "# Plotting the losses and metrics for the best network \n",
        "plt.figure(figsize=(12, 8))\n",
        "#plt.subplot(2, 2, 1)\n",
        "#plt.plot(train_losses, label=\"Train Loss\")\n",
        "#plt.plot(test_losses, label=\"Test Loss\")\n",
        "#plt.xlabel(\"Epoch\")\n",
        "#plt.ylabel(\"Loss\")\n",
        "#plt.legend()\n",
        "plt.subplot(2, 2, 2)\n",
        "plt.plot([m[\"l1_norm\"] for m in train_metrics], label=\"Train L1 Norm\")\n",
        "plt.plot([m[\"l1_norm\"] for m in test_metrics], label=\"Test L1 Norm\")\n",
        "plt.xlabel(\"Epoch\")\n",
        "plt.ylabel(\"L1 Norm\")\n",
        "# Added setting the vertical axis to be in powers of 10\n",
        "plt.yscale(\"log\")\n",
        "# Added setting the vertical axis limits to be from 10^-7 to 10^0\n",
        "plt.ylim(1e-3, 1e2)\n",
        "plt.legend()\n",
        "plt.subplot(2, 2, 3)\n",
        "plt.plot([m[\"linf_norm\"] for m in train_metrics], label=\"Train Linf Norm\")\n",
        "plt.plot([m[\"linf_norm\"] for m in test_metrics], label=\"Test Linf Norm\")\n",
        "plt.xlabel(\"Epoch\")\n",
        "plt.ylabel(\"Linf Norm\")\n",
        "# Added setting the vertical axis to be in powers of 10\n",
        "plt.yscale(\"log\")\n",
        "# Added setting the vertical axis limits to be from 10^-7 to 10^0\n",
        "plt.ylim(1e-3, 1e2)\n",
        "plt.legend()\n",
        "plt.tight_layout()\n",
        "plt.show()\n",
        "\n",
        "# Added plotting MSE of training data and MSE of test data in one plot \n",
        "plt.figure(figsize=(8, 6))\n",
        "plt.plot(train_losses,label=\"training data\")\n",
        "plt.plot(test_losses,label=\"test data\")\n",
        "#if scheduler is not None:\n",
        "#    plt.plot([scheduler.get_last_lr()[0] for _ in range(n_epochs)], label=\"Learning rate\") \n",
        "plt.xlabel(\"Epoch\")\n",
        "plt.ylabel(f\"{loss_name} Loss\")\n",
        "# Added setting the vertical axis to be in powers of 10\n",
        "plt.yscale(\"log\")\n",
        "# Added setting the vertical axis limits to be from 10^-7 to 10^0\n",
        "plt.ylim(1e-7, 1e0)\n",
        "plt.legend()\n",
        "plt.show()"
      ]
    },
    {
      "attachments": {},
      "cell_type": "markdown",
      "metadata": {
        "id": "tiEDutxIUZig"
      },
      "source": [
        "## Loading"
      ]
    },
    {
      "cell_type": "code",
      "execution_count": 80,
      "metadata": {
        "colab": {
          "base_uri": "https://localhost:8080/"
        },
        "id": "p7Mj990wUZih",
        "outputId": "a1132948-c3b1-4d75-becf-4efa93c9a7d0"
      },
      "outputs": [
        {
          "data": {
            "text/plain": [
              "<All keys matched successfully>"
            ]
          },
          "execution_count": 80,
          "metadata": {},
          "output_type": "execute_result"
        }
      ],
      "source": [
        "import json\n",
        "import pandas as pd\n",
        "\n",
        "# load the dictionary from the .json file\n",
        "with open(\"var_dict.json\", \"r\") as f:\n",
        "  var_dict_loaded = json.load(f)\n",
        "\n",
        "# extract the variables from the dictionary\n",
        "batch_size_loaded = var_dict_loaded[\"batch_size\"]\n",
        "n_epochs_loaded = var_dict_loaded[\"n_epochs\"]\n",
        "loss_name_loaded = var_dict_loaded[\"loss_name\"]\n",
        "optimizer_name_loaded = var_dict_loaded[\"optimizer_name\"]\n",
        "scheduler_name_loaded = var_dict_loaded[\"scheduler_name\"]\n",
        "n_units_loaded = var_dict_loaded[\"n_units\"]\n",
        "n_layers_loaded = var_dict_loaded[\"n_layers\"]\n",
        "hidden_activation_name_loaded = var_dict_loaded[\"hidden_activation_name\"]\n",
        "output_activation_name_loaded = var_dict_loaded[\"output_activation_name\"]\n",
        "lr_loaded = var_dict_loaded[\"lr\"]\n",
        "\n",
        "# create the activation functions from their names\n",
        "if hidden_activation_name_loaded == \"ReLU\":\n",
        "  hidden_activation_loaded = nn.ReLU()\n",
        "elif hidden_activation_name_loaded == \"LeakyReLU\":\n",
        "  hidden_activation_loaded = nn.LeakyReLU() \n",
        "elif hidden_activation_name_loaded == \"ELU\":\n",
        "  hidden_activation_loaded = nn.ELU() \n",
        "elif hidden_activation_name_loaded == \"Tanh\":\n",
        "  hidden_activation_loaded = nn.Tanh()\n",
        "else:\n",
        "  hidden_activation_loaded = nn.Sigmoid()\n",
        "\n",
        "if output_activation_name_loaded == \"ReLU\":\n",
        "    output_activation_loaded = nn.ReLU()\n",
        "elif output_activation_name_loaded == \"Softplus\":\n",
        "    output_activation_loaded = nn.Softplus()\n",
        "else:\n",
        "    output_activation_loaded = nn.Identity()\n",
        "\n",
        "\n",
        "\n",
        "# load the network from the .pth file\n",
        "net_loaded = Net(n_layers_loaded, n_units_loaded, hidden_activation_loaded, output_activation_loaded).to(device)\n",
        "if torch.cuda.is_available():\n",
        " net_loaded.load_state_dict(torch.load(\"net.pth\"))\n",
        "else: \n",
        "  net_loaded.load_state_dict(torch.load(\"net.pth\", map_location=torch.device('cpu')))\n",
        "\n",
        "# create the loss function from its name\n",
        "if loss_name_loaded == \"MSE\":\n",
        "  loss_fn_loaded = nn.MSELoss()\n",
        "elif loss_name_loaded == \"MAE\":\n",
        "  loss_fn_loaded = nn.L1Loss()\n",
        "elif loss_name_loaded == \"Huber\":\n",
        "  loss_fn_loaded = nn.SmoothL1Loss() \n",
        "else:\n",
        "  # create the log-cosh loss function\n",
        "  def log_cosh_loss_loaded(y_pred, y_true):\n",
        "    return torch.mean(torch.log(torch.cosh(y_pred - y_true)))\n",
        "  loss_fn_loaded = log_cosh_loss_loaded\n",
        "\n",
        "# load the optimizer from the .pth file\n",
        "if torch.cuda.is_available():\n",
        "  optimizer_loaded_state_dict = torch.load(\"optimizer.pth\")\n",
        "else:\n",
        "  optimizer_loaded_state_dict = torch.load(\"optimizer.pth\", map_location=torch.device('cpu'))\n",
        "\n",
        "if optimizer_name_loaded == \"SGD\":\n",
        "  # Added getting the weight decay and momentum parameters from the state dict\n",
        "  weight_decay_loaded = optimizer_loaded_state_dict[\"param_groups\"][0][\"weight_decay\"]\n",
        "  momentum_loaded = optimizer_loaded_state_dict[\"param_groups\"][0][\"momentum\"]\n",
        "  optimizer_loaded = optim.SGD(net_loaded.parameters(), lr=lr_loaded, weight_decay=weight_decay_loaded, momentum=momentum_loaded)\n",
        "elif optimizer_name_loaded == \"Adam\":\n",
        "  # Added getting the weight decay and beta parameters from the state dict\n",
        "  weight_decay_loaded = optimizer_loaded_state_dict[\"param_groups\"][0][\"weight_decay\"]\n",
        "  beta1_loaded = optimizer_loaded_state_dict[\"param_groups\"][0][\"betas\"][0]\n",
        "  beta2_loaded = optimizer_loaded_state_dict[\"param_groups\"][0][\"betas\"][1]\n",
        "  optimizer_loaded = optim.Adam(net_loaded.parameters(), lr=lr_loaded, weight_decay=weight_decay_loaded, betas=(beta1_loaded, beta2_loaded))\n",
        "elif optimizer_name_loaded == \"RMSprop\":\n",
        "  optimizer_loaded = optim.RMSprop(net_loaded.parameters(), lr=lr_loaded)\n",
        "else:\n",
        "  # Added loading the Adagrad optimizer\n",
        "  optimizer_loaded = optim.Adagrad(net_loaded.parameters(), lr=lr_loaded)\n",
        "optimizer_loaded.load_state_dict(optimizer_loaded_state_dict)\n",
        "\n",
        "# load the scheduler from the .pth file\n",
        "if torch.cuda.is_available():\n",
        "  scheduler_loaded_state_dict = torch.load(\"scheduler.pth\")\n",
        "else: \n",
        "  scheduler_loaded_state_dict = torch.load(\"scheduler.pth\", map_location=torch.device('cpu'))\n",
        "\n",
        "if scheduler_name_loaded == \"StepLR\":\n",
        "  # Added getting the step_size and gamma parameters from the state dict\n",
        "  step_size_loaded = scheduler_loaded_state_dict[\"step_size\"]\n",
        "  gamma_loaded = scheduler_loaded_state_dict[\"gamma\"]\n",
        "  scheduler_loaded = optim.lr_scheduler.StepLR(optimizer_loaded, step_size=step_size_loaded, gamma=gamma_loaded)\n",
        "elif scheduler_name_loaded == \"ExponentialLR\":\n",
        "  # Added getting the gamma parameter from the state dict\n",
        "  gamma_loaded = scheduler_loaded_state_dict[\"gamma\"]\n",
        "  scheduler_loaded = optim.lr_scheduler.ExponentialLR(optimizer_loaded, gamma=gamma_loaded)\n",
        "elif scheduler_name_loaded == \"CosineAnnealingLR\":\n",
        "  # Added getting the T_max parameter from the state dict\n",
        "  T_max_loaded = scheduler_loaded_state_dict[\"T_max\"]\n",
        "  scheduler_loaded = optim.lr_scheduler.CosineAnnealingLR(optimizer_loaded, T_max=T_max_loaded)\n",
        "elif scheduler_name_loaded == \"ReduceLROnPlateau\":\n",
        "  # Added getting the mode, factor, patience, threshold and min_lr parameters from the state dict\n",
        "  mode_loaded = scheduler_loaded_state_dict[\"mode\"]\n",
        "  factor_loaded = scheduler_loaded_state_dict[\"factor\"]\n",
        "  patience_loaded = scheduler_loaded_state_dict[\"patience\"]\n",
        "  threshold_loaded = scheduler_loaded_state_dict[\"threshold\"]\n",
        "  min_lr_loaded = scheduler_loaded_state_dict[\"min_lrs\"][0]\n",
        "  scheduler_loaded = optim.lr_scheduler.ReduceLROnPlateau(\n",
        "                    optimizer_loaded, mode=mode_loaded, factor=factor_loaded, patience=patience_loaded, threshold=threshold_loaded, min_lr=min_lr_loaded\n",
        "                )\n",
        "# elif scheduler_name_loaded == \"OneCycleLR\":\n",
        "#   max_lr_loaded = scheduler_loaded_state_dict[\"max_lr\"]\n",
        "#   epochs_loaded = scheduler_loaded_state_dict[\"epochs\"]\n",
        "#   steps_per_epoch_loaded = scheduler_loaded_state_dict[\"steps_per_epoch\"]\n",
        "#   pct_start_loaded = scheduler_loaded_state_dict[\"pct_start\"]\n",
        "#   max_lr_loaded = scheduler_loaded_state_dict[\"max_lr\"]\n",
        "#   scheduler_loaded = optim.lr_scheduler.OneCycleLR(\n",
        "#                     optimizer_loaded, max_lr=max_lr_loaded, epochs=epochs_loaded, steps_per_epoch=steps_per_epoch_loaded, pct_start=pct_start_loaded\n",
        "#                 )\n",
        "else:\n",
        "  scheduler_loaded = None\n",
        "\n",
        "if scheduler_loaded is not None:\n",
        "  # Added loading the state dict to the scheduler_loaded\n",
        "  scheduler_loaded.load_state_dict(scheduler_loaded_state_dict)\n",
        "\n",
        "# Loading the output of the training using pandas\n",
        "train_df_loaded = pd.read_csv(\"train_output.csv\")\n",
        "train_losses_loaded = train_df_loaded[\"train_loss\"].tolist()\n",
        "test_losses_loaded = train_df_loaded[\"test_loss\"].tolist()\n",
        "train_metrics_loaded = [\n",
        "    {\n",
        "        \"l1_norm\": train_df_loaded[\"train_l1_norm\"][i],\n",
        "        \"linf_norm\": train_df_loaded[\"train_linf_norm\"][i],\n",
        "    }\n",
        "    for i in range(len(train_df_loaded))\n",
        "]\n",
        "test_metrics_loaded = [\n",
        "    {\n",
        "        \"l1_norm\": train_df_loaded[\"test_l1_norm\"][i],\n",
        "        \"linf_norm\": train_df_loaded[\"test_linf_norm\"][i],\n",
        "    }\n",
        "    for i in range(len(train_df_loaded))\n",
        "]"
      ]
    },
    {
      "cell_type": "code",
      "execution_count": 81,
      "metadata": {
        "colab": {
          "base_uri": "https://localhost:8080/",
          "height": 1000
        },
        "id": "GQ_fcj7zUZii",
        "outputId": "c4979ef0-a99c-4754-e222-3af23a83c1cb"
      },
      "outputs": [
        {
          "name": "stdout",
          "output_type": "stream",
          "text": [
            "Couldn't find program: 'echo'\n"
          ]
        }
      ],
      "source": [
        "%%script echo skipping\n",
        "\n",
        "batch_size_loaded\n",
        "n_epochs_loaded\n",
        "loss_name_loaded\n",
        "optimizer_name_loaded\n",
        "scheduler_name_loaded\n",
        "n_units_loaded\n",
        "n_layers_loaded\n",
        "hidden_activation_name_loaded\n",
        "output_activation_name_loaded\n",
        "lr_loaded\n",
        "hidden_activation_loaded\n",
        "output_activation_loaded\n",
        "net_loaded\n",
        "net_loaded.__dict__ # print the subparameters of the network\n",
        "loss_fn_loaded\n",
        "optimizer_loaded\n",
        "optimizer_loaded.__dict__ # print the subparameters of the optimizer\n",
        "scheduler_loaded\n",
        "scheduler_loaded.__dict__ # print the subparameters of the scheduler\n",
        "train_losses_loaded\n",
        "test_losses_loaded\n",
        "train_metrics_loaded\n",
        "test_metrics_loaded"
      ]
    },
    {
      "cell_type": "code",
      "execution_count": 82,
      "metadata": {},
      "outputs": [
        {
          "data": {
            "text/plain": [
              "0.0318535506339714"
            ]
          },
          "execution_count": 82,
          "metadata": {},
          "output_type": "execute_result"
        },
        {
          "data": {
            "text/plain": [
              "0.085880323466286"
            ]
          },
          "execution_count": 82,
          "metadata": {},
          "output_type": "execute_result"
        },
        {
          "data": {
            "text/plain": [
              "0.1584447921127081"
            ]
          },
          "execution_count": 82,
          "metadata": {},
          "output_type": "execute_result"
        },
        {
          "data": {
            "text/plain": [
              "2.4177732986107467"
            ]
          },
          "execution_count": 82,
          "metadata": {},
          "output_type": "execute_result"
        },
        {
          "name": "stdout",
          "output_type": "stream",
          "text": [
            "Error is 412.616646126844 times bigger than in Dieselhorst et al.\n",
            "Error is 297.023746758077 times bigger than in Dieselhorst et al.\n"
          ]
        }
      ],
      "source": [
        "train_losses_loaded[-1]\n",
        "test_losses_loaded[-1]\n",
        "test_metrics_loaded[-1]['l1_norm']\n",
        "test_metrics_loaded[-1]['linf_norm']\n",
        "print(f'Error is {test_metrics_loaded[-1][\"l1_norm\"] / (3.84e-4)} times bigger than in Dieselhorst et al.')\n",
        "print(f'Error is {test_metrics_loaded[-1][\"linf_norm\"] / (8.14e-3)} times bigger than in Dieselhorst et al.')"
      ]
    },
    {
      "attachments": {},
      "cell_type": "markdown",
      "metadata": {},
      "source": [
        "### Visualize loaded results"
      ]
    },
    {
      "attachments": {},
      "cell_type": "markdown",
      "metadata": {
        "id": "vwLGR1aSUZik"
      },
      "source": [
        "Let us verify correct loading of the train and test metrics by visualizing them again but now through the loaded values. Likewise for the train and test losses."
      ]
    },
    {
      "cell_type": "code",
      "execution_count": 83,
      "metadata": {
        "id": "sXiNgLsmUZil"
      },
      "outputs": [],
      "source": [
        "%config InteractiveShell.ast_node_interactivity = \"last_expr_or_assign\""
      ]
    },
    {
      "cell_type": "code",
      "execution_count": 84,
      "metadata": {
        "colab": {
          "base_uri": "https://localhost:8080/",
          "height": 1000
        },
        "id": "sgq4WfSiUZil",
        "outputId": "9934bd08-6c78-4a92-c8c6-d8e835c351b3"
      },
      "outputs": [
        {
          "data": {
            "image/png": "[encoded data removed]",
            "text/plain": [
              "<Figure size 640x480 with 2 Axes>"
            ]
          },
          "metadata": {},
          "output_type": "display_data"
        },
        {
          "data": {
            "image/png": "[encoded data removed]",
            "text/plain": [
              "<Figure size 800x600 with 1 Axes>"
            ]
          },
          "metadata": {},
          "output_type": "display_data"
        }
      ],
      "source": [
        "# Plotting the losses and metrics for the best network plt.figure(figsize=(12, \n",
        "#plt.subplot(2, 2, 1)\n",
        "#plt.plot(train_losses_loaded, label=\"Train Loss\")\n",
        "#plt.plot(test_losses_loaded, label=\"Test Loss\")\n",
        "#plt.xlabel(\"Epoch\")\n",
        "#plt.ylabel(\"Loss\")\n",
        "#plt.legend()\n",
        "plt.subplot(2, 2, 2)\n",
        "plt.plot([m[\"l1_norm\"] for m in train_metrics_loaded], label=\"Train L1 Norm\")\n",
        "plt.plot([m[\"l1_norm\"] for m in test_metrics_loaded], label=\"Test L1 Norm\")\n",
        "plt.xlabel(\"Epoch\")\n",
        "plt.ylabel(\"L1 Norm\")\n",
        "# Added setting the vertical axis to be in powers of 10\n",
        "plt.yscale(\"log\")\n",
        "# Added setting the vertical axis limits to be from 10^-7 to 10^0\n",
        "plt.ylim(1e-3, 1e2)\n",
        "plt.legend()\n",
        "plt.subplot(2, 2, 3)\n",
        "plt.plot([m[\"linf_norm\"] for m in train_metrics_loaded], label=\"Train Linf Norm\")\n",
        "plt.plot([m[\"linf_norm\"] for m in test_metrics_loaded], label=\"Test Linf Norm\")\n",
        "plt.xlabel(\"Epoch\")\n",
        "plt.ylabel(\"Linf Norm\")\n",
        "# Added setting the vertical axis to be in powers of 10\n",
        "plt.yscale(\"log\")\n",
        "# Added setting the vertical axis limits to be from 10^-7 to 10^0\n",
        "plt.ylim(1e-3, 1e2)\n",
        "plt.legend()\n",
        "plt.tight_layout()\n",
        "plt.show()\n",
        "\n",
        "# Added plotting MSE of training data and MSE of test data in one plot \n",
        "plt.figure(figsize=(8, 6))\n",
        "plt.plot(train_losses_loaded,label=\"training data\")\n",
        "plt.plot(test_losses_loaded,label=\"test data\")\n",
        "#if scheduler is not None:\n",
        "#    plt.plot([scheduler.get_last_lr()[0] for _ in range(n_epochs)], label=\"Learning rate\") \n",
        "plt.xlabel(\"Epoch\")\n",
        "plt.ylabel(f\"{loss_name_loaded} Loss\")\n",
        "# Added setting the vertical axis to be in powers of 10\n",
        "plt.yscale(\"log\")\n",
        "# Added setting the vertical axis limits to be from 10^-7 to 10^0\n",
        "plt.ylim(1e-7, 1e0)\n",
        "plt.legend()\n",
        "plt.show()\n"
      ]
    },
    {
      "cell_type": "code",
      "execution_count": 85,
      "metadata": {
        "id": "lkgLqJ_UUZim"
      },
      "outputs": [],
      "source": [
        "%config InteractiveShell.ast_node_interactivity = \"all\""
      ]
    },
    {
      "attachments": {},
      "cell_type": "markdown",
      "metadata": {},
      "source": [
        "## Counting the number of parameters in the network."
      ]
    },
    {
      "cell_type": "code",
      "execution_count": 86,
      "metadata": {},
      "outputs": [
        {
          "data": {
            "text/plain": [
              "Net(\n",
              "  (hidden_activation): ReLU()\n",
              "  (output_activation): ReLU()\n",
              "  (layers): ModuleList(\n",
              "    (0): Linear(in_features=8, out_features=555, bias=True)\n",
              "    (1): Linear(in_features=555, out_features=458, bias=True)\n",
              "    (2): Linear(in_features=458, out_features=115, bias=True)\n",
              "    (3): Linear(in_features=115, out_features=1, bias=True)\n",
              "  )\n",
              ")"
            ]
          },
          "execution_count": 86,
          "metadata": {},
          "output_type": "execute_result"
        },
        {
          "name": "stdout",
          "output_type": "stream",
          "text": [
            "The model has 312544 parameters.\n"
          ]
        }
      ],
      "source": [
        "net_loaded.eval()\n",
        "def count_parameters(model):\n",
        "    return sum(p.numel() for p in model.parameters() if p.requires_grad)\n",
        "print(f'The model has {count_parameters(net_loaded)} parameters.')"
      ]
    },
    {
      "attachments": {},
      "cell_type": "markdown",
      "metadata": {
        "id": "SxuzVSnlUZin"
      },
      "source": [
        "## Evaluating the network on arbirary input\n",
        "### Comparing `net` and `net_loaded`\n",
        "\n",
        "We compare `net` and `net_loaded` to confirm correct loading of the network. Note that `net` is only available if we have trained the model in this session."
      ]
    },
    {
      "cell_type": "code",
      "execution_count": 87,
      "metadata": {},
      "outputs": [
        {
          "data": {
            "text/plain": [
              "Net(\n",
              "  (hidden_activation): ReLU()\n",
              "  (output_activation): ReLU()\n",
              "  (layers): ModuleList(\n",
              "    (0): Linear(in_features=8, out_features=555, bias=True)\n",
              "    (1): Linear(in_features=555, out_features=458, bias=True)\n",
              "    (2): Linear(in_features=458, out_features=115, bias=True)\n",
              "    (3): Linear(in_features=115, out_features=1, bias=True)\n",
              "  )\n",
              ")"
            ]
          },
          "execution_count": 87,
          "metadata": {},
          "output_type": "execute_result"
        }
      ],
      "source": [
        "#%%script echo skipping\n",
        "\n",
        "# Set the network to evaluation mode\n",
        "net.eval()"
      ]
    },
    {
      "cell_type": "code",
      "execution_count": 88,
      "metadata": {},
      "outputs": [
        {
          "data": {
            "text/plain": [
              "Net(\n",
              "  (hidden_activation): ReLU()\n",
              "  (output_activation): ReLU()\n",
              "  (layers): ModuleList(\n",
              "    (0): Linear(in_features=8, out_features=555, bias=True)\n",
              "    (1): Linear(in_features=555, out_features=458, bias=True)\n",
              "    (2): Linear(in_features=458, out_features=115, bias=True)\n",
              "    (3): Linear(in_features=115, out_features=1, bias=True)\n",
              "  )\n",
              ")"
            ]
          },
          "execution_count": 88,
          "metadata": {},
          "output_type": "execute_result"
        }
      ],
      "source": [
        "# Set the network to evaluation mode\n",
        "net_loaded.eval()\n"
      ]
    },
    {
      "cell_type": "code",
      "execution_count": 89,
      "metadata": {},
      "outputs": [
        {
          "name": "stdout",
          "output_type": "stream",
          "text": [
            "Parameters are the same.\n",
            "Net device: cpu\n",
            "Net_loaded device: cpu\n"
          ]
        }
      ],
      "source": [
        "for p1, p2 in zip(net.parameters(), net_loaded.parameters()):\n",
        "    if p1.data.ne(p2.data).sum() > 0:\n",
        "        print(\"Parameters are NOT the same.\")\n",
        "        break\n",
        "else:\n",
        "    print(\"Parameters are the same.\")\n",
        "\n",
        "print(\"Net device:\", next(net.parameters()).device)\n",
        "print(\"Net_loaded device:\", next(net_loaded.parameters()).device)"
      ]
    },
    {
      "cell_type": "code",
      "execution_count": 90,
      "metadata": {
        "colab": {
          "base_uri": "https://localhost:8080/"
        },
        "id": "C0PLAA0DUZin",
        "outputId": "c51e07dd-8b35-4ea4-cdf9-3118d7796e30"
      },
      "outputs": [
        {
          "name": "stdout",
          "output_type": "stream",
          "text": [
            "[Parameter containing:\n",
            "tensor([[ 0.3290, -0.1799, -0.2041,  ..., -0.1694, -0.2528,  0.2066],\n",
            "        [-0.1245,  0.3238, -0.3060,  ...,  0.2643,  0.2447,  0.1230],\n",
            "        [ 0.2307, -0.2423, -0.3327,  ...,  0.3030,  0.2485, -0.1735],\n",
            "        ...,\n",
            "        [ 0.1269,  0.3044,  0.1665,  ..., -0.2090, -0.1468, -0.1101],\n",
            "        [ 0.2437,  0.0070,  0.2470,  ..., -0.3416, -0.2797,  0.1247],\n",
            "        [-0.2269,  0.0095,  0.2993,  ...,  0.0370,  0.2206,  0.3101]],\n",
            "       requires_grad=True), Parameter containing:\n",
            "tensor([ 2.6581e-01,  9.8237e-02,  1.3664e-01,  7.0767e-03, -9.4374e-02,\n",
            "        -1.2848e-01, -1.1842e-01, -1.9857e-01,  1.8151e-01,  1.1986e-01,\n",
            "         1.9653e-01,  1.2018e-01,  2.5032e-01,  6.6896e-02,  1.2137e-01,\n",
            "        -3.0217e-01,  2.0394e-01,  3.0227e-01, -2.0077e-01, -2.0459e-01,\n",
            "         3.5586e-01, -2.5008e-01, -2.9092e-01,  3.0226e-01, -1.3460e-01,\n",
            "         1.3786e-01, -2.4194e-01,  2.2963e-01,  6.8197e-02, -9.1283e-02,\n",
            "        -4.4358e-02,  2.5044e-01, -8.9585e-02,  1.5363e-01, -8.4758e-02,\n",
            "         8.8636e-02, -6.4979e-02, -2.1236e-01,  3.5290e-01,  9.4039e-02,\n",
            "        -1.7610e-01, -2.3345e-01,  6.5265e-02,  8.6999e-02, -1.1102e-01,\n",
            "        -9.5068e-03,  2.9775e-01,  3.7792e-02,  7.3794e-02,  5.2263e-02,\n",
            "        -2.4533e-02, -1.4252e-01,  3.5332e-01, -1.9446e-01, -6.3871e-02,\n",
            "        -2.3284e-01, -5.8096e-02, -2.0591e-01,  1.5459e-01,  1.8218e-01,\n",
            "         3.0164e-01,  1.4031e-01, -1.8096e-01, -1.5328e-01,  2.3770e-01,\n",
            "         1.0193e-01,  2.1633e-02, -3.6731e-01,  1.2222e-01,  2.9384e-01,\n",
            "        -4.3586e-02,  4.5167e-02, -2.4318e-01, -3.0038e-01,  1.6886e-01,\n",
            "        -2.5734e-01, -2.3779e-01, -2.4661e-02,  3.5132e-01, -2.2422e-01,\n",
            "         2.1679e-01, -2.7433e-01, -5.4668e-03, -2.8953e-01,  3.0092e-01,\n",
            "         3.4555e-01, -2.3572e-01,  3.5926e-02,  2.6735e-01,  1.2934e-01,\n",
            "         2.4341e-01, -9.8618e-02, -2.4515e-01,  2.7715e-01, -9.1989e-02,\n",
            "        -4.6317e-02, -3.4357e-02,  4.0528e-02, -2.2576e-01,  2.5069e-01,\n",
            "         1.8515e-02,  3.0196e-01, -1.7743e-01,  4.3728e-02,  1.0944e-01,\n",
            "         3.4183e-01,  2.8971e-01, -1.0842e-01,  3.3919e-04, -2.9013e-01,\n",
            "         5.6928e-02, -2.1868e-01, -4.1378e-01, -2.8182e-01, -1.3400e-01,\n",
            "        -1.0522e-01, -3.1773e-01, -3.0655e-01, -7.1482e-02, -1.8823e-01,\n",
            "         1.8879e-02, -3.1841e-01, -3.0383e-01, -1.7722e-01,  1.0347e-01,\n",
            "         1.6564e-01,  1.0494e-01,  8.4615e-02,  1.9289e-01,  4.6496e-02,\n",
            "         2.5777e-01, -2.0107e-01,  1.1981e-01, -1.6325e-04,  1.9463e-01,\n",
            "         3.7981e-02, -4.5112e-02, -2.9206e-01,  8.4628e-02, -3.1017e-01,\n",
            "         1.2536e-01, -1.8167e-02,  2.4215e-01,  1.5318e-01,  1.3766e-01,\n",
            "         2.3773e-01, -1.3308e-01, -1.6952e-03, -3.2985e-01, -3.5099e-01,\n",
            "        -1.9150e-01, -2.7593e-01,  1.8354e-01,  2.6981e-01,  2.3612e-01,\n",
            "        -1.1764e-01, -1.1636e-01,  2.8314e-01,  2.3062e-01,  3.0070e-01,\n",
            "        -2.6134e-01, -1.3013e-01,  4.1050e-01,  2.2528e-01, -8.7825e-02,\n",
            "         8.3990e-02, -1.5423e-01,  2.7941e-01,  1.7933e-01, -1.9490e-01,\n",
            "        -1.7760e-01, -5.4922e-02,  7.5481e-02,  4.6558e-02,  2.3438e-01,\n",
            "        -1.7982e-01, -6.3840e-02, -2.4093e-01, -2.8203e-01, -3.0921e-01,\n",
            "        -1.9664e-01, -1.7509e-01,  1.3685e-01, -1.0976e-01,  2.9881e-01,\n",
            "        -1.2244e-01, -3.0337e-01, -3.6243e-01,  3.5480e-01,  2.2104e-01,\n",
            "         2.0092e-01,  2.2363e-01, -2.8251e-01, -2.0114e-01, -3.2437e-01,\n",
            "         3.0508e-01,  2.1401e-02,  7.5698e-02, -3.1362e-02, -1.4225e-01,\n",
            "         4.6305e-02, -2.6742e-01,  2.3834e-01, -2.6533e-01, -2.8232e-01,\n",
            "        -2.1278e-01, -3.1866e-01,  9.3450e-02, -1.1912e-01, -2.2704e-01,\n",
            "         6.0586e-02,  3.2257e-01,  3.1574e-01,  2.3188e-01,  2.1972e-01,\n",
            "         1.8110e-01, -2.0060e-02, -2.9262e-01, -7.7284e-03,  1.8143e-01,\n",
            "         9.7441e-02, -7.6856e-02, -1.6815e-01,  2.5210e-01, -5.5275e-02,\n",
            "        -3.3761e-01,  1.6767e-01,  1.3173e-02,  3.1316e-01,  1.0032e-01,\n",
            "        -2.6183e-01, -2.3102e-01, -3.5320e-02, -2.9901e-01, -2.0799e-01,\n",
            "        -6.0122e-02, -1.4146e-01, -1.6325e-01, -3.5643e-01,  3.1294e-01,\n",
            "         2.0949e-01, -1.9614e-01, -2.6127e-02,  1.1848e-01, -1.1233e-01,\n",
            "         1.2351e-01,  9.9925e-02, -1.0685e-01,  8.6577e-02,  3.9158e-01,\n",
            "        -4.4657e-02, -4.9667e-02,  5.2365e-02, -9.9812e-02, -2.8413e-01,\n",
            "        -1.0985e-01,  2.3207e-01,  1.6214e-01, -1.2480e-02,  5.9731e-02,\n",
            "        -3.7122e-01,  1.6454e-01,  4.8076e-02, -3.0136e-01,  3.5864e-01,\n",
            "        -1.8565e-01,  6.0923e-02, -6.9770e-03,  1.1036e-01, -1.5460e-01,\n",
            "        -1.8467e-01, -2.5178e-01, -1.1039e-01, -2.6457e-01,  2.2852e-01,\n",
            "         3.7698e-03,  1.1998e-01, -2.8650e-01, -9.0174e-02, -1.1521e-02,\n",
            "         3.1829e-01,  1.3985e-01,  3.4625e-01, -1.9215e-01, -1.2329e-01,\n",
            "        -1.5743e-01, -1.3075e-01,  4.2421e-02, -1.5099e-02, -2.0397e-02,\n",
            "        -2.8741e-01, -3.2568e-01, -6.3990e-02, -2.2435e-01, -1.9115e-01,\n",
            "        -1.9985e-01, -1.6947e-01, -1.5466e-01, -1.1583e-01, -6.6700e-02,\n",
            "        -9.4327e-02,  1.5696e-01,  2.2321e-01,  1.8415e-01, -1.8908e-01,\n",
            "         3.2738e-01,  2.5916e-01, -2.1569e-01,  2.8000e-01, -1.7961e-02,\n",
            "         2.8270e-01, -6.5234e-02, -1.1423e-01, -1.6032e-01,  8.3226e-02,\n",
            "        -2.4134e-01, -8.1207e-02, -5.1201e-02,  5.3116e-02,  2.3728e-01,\n",
            "        -3.3349e-01, -1.3822e-01,  1.4790e-01,  2.8916e-01, -1.3506e-02,\n",
            "        -2.1200e-01,  1.8698e-01,  2.4599e-02,  2.4242e-01, -2.3168e-01,\n",
            "         2.8472e-01,  1.5608e-01, -3.5543e-01,  3.0669e-01, -2.1691e-02,\n",
            "        -2.8276e-01,  9.9728e-02, -3.6730e-01, -5.1880e-02,  2.6187e-01,\n",
            "        -6.2968e-02,  7.4109e-02,  2.1211e-02, -2.0923e-01,  1.6845e-01,\n",
            "        -1.7283e-01,  3.0565e-01,  5.5209e-02, -1.3732e-01,  1.8790e-01,\n",
            "         5.4140e-03, -2.4348e-01, -1.0050e-01,  3.5063e-01, -2.1535e-01,\n",
            "        -3.6732e-02,  2.3512e-02, -3.3420e-01,  3.5195e-01, -3.1794e-01,\n",
            "         4.1045e-02, -3.4615e-01,  2.7311e-02, -3.2433e-01,  2.0303e-02,\n",
            "        -2.5102e-01, -3.2175e-01, -3.1973e-01,  1.9769e-01, -3.4960e-01,\n",
            "        -1.1656e-01, -5.2552e-02, -1.8404e-01, -1.5652e-01, -3.2274e-01,\n",
            "         2.2912e-02, -1.0935e-01,  2.1098e-02, -1.3553e-01,  3.3337e-01,\n",
            "         9.8695e-02, -1.7276e-01, -4.0723e-02,  2.0487e-01, -2.8755e-01,\n",
            "        -2.9475e-01, -2.7893e-02,  2.3293e-02,  2.6172e-01,  6.7067e-02,\n",
            "        -2.8179e-01,  3.2970e-01, -9.4523e-02,  2.5308e-01,  3.6100e-03,\n",
            "        -1.4167e-02, -2.2599e-01, -2.6443e-01,  2.5069e-01, -3.0939e-01,\n",
            "         1.2087e-01,  1.2691e-01, -2.0180e-01,  9.9775e-02, -9.5948e-03,\n",
            "        -3.4204e-01,  2.3740e-01, -1.6164e-01,  6.1299e-02,  2.2582e-01,\n",
            "         2.1906e-01,  9.7675e-02, -1.6327e-01,  2.8590e-01, -3.4166e-01,\n",
            "         1.5527e-01, -1.8261e-02, -2.0888e-01,  2.9957e-01,  1.2265e-01,\n",
            "         3.2894e-01,  9.0736e-04,  2.1710e-01,  1.0847e-01,  8.4211e-02,\n",
            "         2.1404e-01,  1.8061e-01, -4.4077e-01,  1.0111e-01, -1.9844e-02,\n",
            "        -2.7999e-01,  2.3870e-01,  8.4653e-02,  3.3883e-02, -3.9747e-01,\n",
            "         3.8605e-02,  7.3044e-02,  2.7573e-02,  1.4361e-01,  3.7496e-01,\n",
            "        -1.0201e-01,  3.0021e-01,  1.6849e-01, -8.1204e-02, -2.5386e-01,\n",
            "         7.5931e-02,  1.2601e-01,  3.4317e-01,  1.1395e-01, -1.0139e-01,\n",
            "        -5.9118e-02, -1.2821e-01,  1.9628e-01,  6.4264e-02, -2.5707e-01,\n",
            "         8.8323e-02, -3.0500e-01, -3.2286e-01, -2.4886e-01,  2.5820e-01,\n",
            "        -8.3258e-03,  2.1086e-01,  3.6276e-01,  9.6540e-02,  2.7191e-01,\n",
            "         2.9472e-01, -2.4599e-01,  2.5211e-01,  1.0650e-01,  2.2776e-01,\n",
            "         2.3785e-01,  1.6490e-01,  1.4555e-01, -8.5923e-02,  7.9357e-02,\n",
            "        -1.0439e-01,  3.5836e-01,  2.6865e-01,  2.3564e-01,  6.0058e-02,\n",
            "         6.9536e-02, -2.8378e-01,  2.5714e-01, -2.6071e-02,  2.8802e-01,\n",
            "         2.0403e-01, -6.5885e-03,  2.4707e-02,  7.5342e-02, -1.5573e-01,\n",
            "        -2.9748e-01, -4.1506e-02, -2.1343e-01,  2.9928e-01,  2.5900e-01,\n",
            "         1.4316e-01,  3.7659e-01,  3.2785e-01, -1.7293e-01,  1.6775e-01,\n",
            "        -4.2493e-01, -2.9418e-01, -3.2582e-01, -3.4217e-01, -1.7671e-01,\n",
            "        -1.5407e-01,  8.0196e-02,  2.6692e-01,  1.8420e-01, -1.0832e-01,\n",
            "        -2.7333e-01, -1.2537e-01,  3.3700e-02, -7.1363e-02, -4.3742e-01,\n",
            "        -1.2390e-01, -1.9645e-01, -3.4410e-01, -3.2199e-01, -1.3101e-01,\n",
            "         1.2101e-01, -1.8905e-01,  1.8847e-01, -2.5960e-02,  2.2225e-01,\n",
            "         8.1468e-02, -2.6826e-01, -3.2102e-01,  4.8855e-03, -1.9971e-01,\n",
            "        -1.3247e-01,  3.0529e-01, -1.6204e-01,  3.5002e-02, -1.4951e-01,\n",
            "         3.1485e-01,  1.3080e-01,  1.2425e-01, -3.2036e-01,  1.0802e-01,\n",
            "        -9.8477e-02,  2.0752e-01,  1.9822e-01,  2.1914e-02,  2.8653e-01,\n",
            "        -2.2187e-01, -1.6120e-01, -1.2047e-01,  3.5619e-01,  8.5941e-02,\n",
            "         1.3304e-01,  2.5150e-01, -2.8204e-01,  2.8290e-01, -2.8297e-01],\n",
            "       requires_grad=True), Parameter containing:\n",
            "tensor([[ 0.0253, -0.0225, -0.0531,  ..., -0.0346,  0.0133, -0.0081],\n",
            "        [-0.0251,  0.0235, -0.0027,  ..., -0.0275, -0.0087,  0.0456],\n",
            "        [-0.0040,  0.0225, -0.0031,  ..., -0.0142, -0.0418,  0.0335],\n",
            "        ...,\n",
            "        [ 0.0275, -0.0286,  0.0058,  ...,  0.0084, -0.0270, -0.0275],\n",
            "        [ 0.0270, -0.0342,  0.0193,  ..., -0.0337,  0.0256, -0.0144],\n",
            "        [ 0.0485, -0.0156, -0.0512,  ..., -0.0401, -0.0032,  0.0032]],\n",
            "       requires_grad=True), Parameter containing:\n",
            "tensor([-0.0156,  0.0231,  0.0077,  0.0060,  0.0432,  0.0656, -0.0400, -0.0412,\n",
            "        -0.0015,  0.0066,  0.0249,  0.0442, -0.0014,  0.0302, -0.0212, -0.0292,\n",
            "        -0.0057,  0.0309, -0.0149, -0.0327, -0.0274,  0.0002, -0.0453,  0.0171,\n",
            "        -0.0077,  0.0258, -0.0490,  0.0038, -0.0058, -0.0050,  0.0135, -0.0082,\n",
            "        -0.0330,  0.0170, -0.0297,  0.0228, -0.0302,  0.0249, -0.0179,  0.0186,\n",
            "        -0.0459,  0.0327,  0.0478,  0.0262, -0.0421, -0.0296,  0.0033, -0.0136,\n",
            "         0.0117, -0.0244, -0.0231,  0.0439,  0.0143, -0.0141,  0.0065,  0.0371,\n",
            "        -0.0410,  0.0224, -0.0240,  0.0465, -0.0389, -0.0397, -0.0190,  0.0352,\n",
            "        -0.0202, -0.0251,  0.0345, -0.0337, -0.0059, -0.0316, -0.0322,  0.0721,\n",
            "         0.0197, -0.0425, -0.0721,  0.0193, -0.0277,  0.0001,  0.0663,  0.0149,\n",
            "         0.0223,  0.0099,  0.0182, -0.0148, -0.0153,  0.0215, -0.0012, -0.0138,\n",
            "         0.0308, -0.0257, -0.0079, -0.0167,  0.0215, -0.0520,  0.0398,  0.0048,\n",
            "         0.0386, -0.0565,  0.0458,  0.0379,  0.0370,  0.0447, -0.0412,  0.0379,\n",
            "        -0.0017, -0.0348,  0.0052,  0.0363,  0.0221,  0.0035,  0.0218,  0.0004,\n",
            "        -0.0022, -0.0561,  0.0303,  0.0852,  0.0346, -0.0209, -0.0369, -0.0197,\n",
            "        -0.0139, -0.0141, -0.0253,  0.0638, -0.0483,  0.0049, -0.0348, -0.0445,\n",
            "        -0.0244, -0.0094, -0.0363, -0.0108,  0.0420,  0.0237, -0.0346, -0.0671,\n",
            "        -0.0405,  0.0242,  0.0327, -0.0260,  0.0296,  0.0870,  0.0695,  0.0085,\n",
            "        -0.0205, -0.0278,  0.0175, -0.0227, -0.0496, -0.0186, -0.0035,  0.0184,\n",
            "        -0.0268,  0.0271, -0.0157,  0.0463,  0.0149,  0.0711,  0.0049, -0.0139,\n",
            "         0.0292, -0.0270,  0.0534, -0.0411, -0.0437,  0.0149, -0.0196, -0.0045,\n",
            "        -0.0085, -0.0079, -0.0120,  0.0066,  0.0125, -0.0002, -0.0431,  0.0547,\n",
            "        -0.0668, -0.0082, -0.0232,  0.0363, -0.0132,  0.0518,  0.0001, -0.0220,\n",
            "        -0.0317, -0.0145,  0.0305,  0.0367, -0.0139, -0.0208, -0.0330,  0.0350,\n",
            "         0.0172,  0.0633,  0.0518, -0.0420,  0.0165,  0.0231,  0.0107,  0.0315,\n",
            "        -0.0004,  0.0226,  0.0134, -0.0318,  0.0554,  0.0004,  0.0071, -0.0021,\n",
            "        -0.0102, -0.0473,  0.0328,  0.0185,  0.0372, -0.0521,  0.0069, -0.0026,\n",
            "         0.0070, -0.0282,  0.0341, -0.0104,  0.0392,  0.0113, -0.0158, -0.0334,\n",
            "        -0.0050, -0.0156,  0.0057, -0.0134, -0.0856,  0.0106, -0.0500, -0.0645,\n",
            "         0.0358, -0.0206, -0.0226, -0.0174, -0.0094,  0.0209, -0.0267, -0.0054,\n",
            "         0.0181, -0.0097, -0.0520, -0.0170, -0.0566, -0.0188,  0.0139, -0.0198,\n",
            "        -0.0161,  0.0015, -0.0282, -0.0582,  0.0063,  0.0072,  0.0100,  0.0187,\n",
            "        -0.0323,  0.0484,  0.0006, -0.0296,  0.0081,  0.0365,  0.0309,  0.0167,\n",
            "        -0.0278,  0.0094,  0.0541, -0.0034, -0.0049, -0.0435, -0.0238,  0.0398,\n",
            "         0.0112,  0.0405, -0.0213, -0.0611, -0.0263,  0.0178, -0.0278,  0.0107,\n",
            "        -0.0364, -0.0285, -0.0211, -0.0195, -0.0353, -0.0170,  0.0445,  0.0442,\n",
            "         0.0419,  0.0217,  0.0382, -0.0171,  0.0308, -0.0247,  0.0288, -0.0189,\n",
            "         0.0314,  0.0063, -0.0455,  0.0074,  0.0531, -0.0326,  0.0550,  0.0548,\n",
            "        -0.0123,  0.0044, -0.0027,  0.0240,  0.0177, -0.0024,  0.0150, -0.0150,\n",
            "         0.0069, -0.0911,  0.0196, -0.0162, -0.0140, -0.0221,  0.0218,  0.0298,\n",
            "        -0.0121,  0.0244,  0.0113,  0.0056, -0.0091, -0.0151,  0.0045, -0.0601,\n",
            "         0.0264, -0.0474,  0.0195,  0.0192, -0.0160, -0.0604, -0.0254,  0.0037,\n",
            "        -0.0296, -0.0398, -0.0342, -0.0325, -0.0066,  0.0076, -0.0170,  0.0188,\n",
            "         0.0346, -0.0327, -0.0372, -0.0390, -0.0688,  0.0233,  0.0048,  0.0094,\n",
            "        -0.0258, -0.0396,  0.0272, -0.0158,  0.0380, -0.0226,  0.0098,  0.0344,\n",
            "        -0.0429,  0.0193, -0.0432,  0.0297,  0.0042, -0.0191, -0.0281, -0.0519,\n",
            "         0.0115, -0.0087, -0.0278, -0.0391,  0.0278,  0.0104, -0.0362,  0.0023,\n",
            "        -0.0110, -0.0381,  0.0022, -0.0611, -0.0254,  0.0312, -0.0519,  0.0590,\n",
            "         0.0624, -0.0048,  0.0158, -0.0479,  0.0161, -0.0606,  0.0371, -0.0309,\n",
            "         0.0418, -0.0006, -0.0277,  0.0193, -0.0068, -0.0160,  0.0040,  0.0055,\n",
            "        -0.0144, -0.0132,  0.0268, -0.0152,  0.0220, -0.0198, -0.0166, -0.0454,\n",
            "        -0.0064,  0.0307,  0.0337,  0.0073, -0.0033,  0.0301,  0.0015, -0.0177,\n",
            "         0.0252,  0.0326,  0.0303,  0.0249, -0.0294,  0.0247,  0.0192,  0.0464,\n",
            "         0.0127, -0.0431, -0.0012,  0.0300,  0.0375,  0.0285, -0.0256, -0.0003,\n",
            "        -0.0585,  0.0778, -0.0216,  0.0212, -0.0024,  0.0279, -0.0335, -0.0220,\n",
            "         0.0387, -0.0074,  0.0214,  0.0179,  0.0244, -0.0937,  0.0045, -0.0326,\n",
            "        -0.0437,  0.0283, -0.0170, -0.0098,  0.0266, -0.0160, -0.0041, -0.0136,\n",
            "        -0.0125,  0.0102], requires_grad=True), Parameter containing:\n",
            "tensor([[-0.0026,  0.0179,  0.0063,  ...,  0.0452,  0.0267, -0.0482],\n",
            "        [-0.0061, -0.0358,  0.0362,  ...,  0.0206,  0.0007,  0.0433],\n",
            "        [ 0.0016,  0.0382,  0.0313,  ..., -0.0309,  0.0237, -0.0276],\n",
            "        ...,\n",
            "        [ 0.0088,  0.0207, -0.0115,  ..., -0.0035, -0.0116, -0.0342],\n",
            "        [-0.0239, -0.0175,  0.0371,  ..., -0.0306, -0.0132,  0.0215],\n",
            "        [ 0.0009,  0.0511, -0.0181,  ...,  0.0389,  0.0049, -0.0007]],\n",
            "       requires_grad=True), Parameter containing:\n",
            "tensor([ 0.0113, -0.0207,  0.0076,  0.0126, -0.0432,  0.0187, -0.0439, -0.0318,\n",
            "         0.0287, -0.0035,  0.0354,  0.0054, -0.0114,  0.0068,  0.0293, -0.0100,\n",
            "         0.0302,  0.0039,  0.0207, -0.0009,  0.0499, -0.0074,  0.0416,  0.0371,\n",
            "         0.0070,  0.0353,  0.0025,  0.0188,  0.0100,  0.0308,  0.0448, -0.0243,\n",
            "        -0.0145,  0.0193,  0.0314, -0.0073, -0.0036,  0.0423, -0.0244,  0.0136,\n",
            "        -0.1075, -0.0366, -0.0693,  0.0375, -0.0232,  0.0512, -0.0024, -0.0205,\n",
            "         0.0398, -0.0197,  0.0159, -0.0091,  0.0711,  0.0939, -0.0436,  0.0031,\n",
            "        -0.0496, -0.0212,  0.0676,  0.0343,  0.0321,  0.0010,  0.0461, -0.0767,\n",
            "         0.0181,  0.0158,  0.0338,  0.0216,  0.0470, -0.0490,  0.0378,  0.0368,\n",
            "         0.0427,  0.0190,  0.0382, -0.0311,  0.0268, -0.0419, -0.0205,  0.0247,\n",
            "        -0.0235,  0.0309,  0.0130, -0.0176, -0.0224,  0.0289, -0.0333,  0.0546,\n",
            "        -0.0159,  0.0267,  0.0157,  0.0051, -0.0560,  0.0211, -0.0206, -0.0447,\n",
            "        -0.0254,  0.0979,  0.0064,  0.0365, -0.0272,  0.0361, -0.0370, -0.0242,\n",
            "         0.0205,  0.0360,  0.0287,  0.0111, -0.0292, -0.0167, -0.0255,  0.0320,\n",
            "        -0.0290,  0.0463, -0.0398], requires_grad=True), Parameter containing:\n",
            "tensor([[ 0.0251, -0.0791, -0.0599,  0.0938, -0.0886,  0.0056,  0.0257, -0.0570,\n",
            "          0.0074, -0.0006, -0.0128, -0.0003, -0.0481, -0.0465,  0.0257, -0.0072,\n",
            "          0.0386,  0.0890, -0.0148,  0.0335,  0.0692, -0.0072,  0.0877,  0.0848,\n",
            "          0.0309,  0.0065, -0.0835, -0.0225, -0.0800,  0.0711,  0.0615, -0.0924,\n",
            "         -0.0887,  0.0080,  0.0711,  0.0255, -0.0280,  0.0047, -0.0468,  0.0292,\n",
            "         -0.0130,  0.0328, -0.0701, -0.0503, -0.0879,  0.0808,  0.0321,  0.0569,\n",
            "          0.0648,  0.0819,  0.0285,  0.0541,  0.0895,  0.1287, -0.0639,  0.0734,\n",
            "         -0.0613, -0.0512,  0.0531,  0.0885,  0.0267,  0.0446,  0.0503, -0.0266,\n",
            "         -0.0038, -0.0492,  0.0315,  0.0486, -0.0689, -0.0596,  0.0287, -0.0772,\n",
            "          0.0555,  0.0047,  0.0796, -0.0143, -0.0835, -0.0284,  0.0805,  0.0551,\n",
            "          0.0074,  0.0258,  0.0016,  0.0471, -0.0022, -0.0787, -0.0144,  0.0449,\n",
            "         -0.0613, -0.0154, -0.0710, -0.0821, -0.0372, -0.0421,  0.0457, -0.0722,\n",
            "          0.0153,  0.0809,  0.0727,  0.0700, -0.0451,  0.0919, -0.0783, -0.0496,\n",
            "          0.0532,  0.0681, -0.0228, -0.0904, -0.0020, -0.0012, -0.0691, -0.0273,\n",
            "          0.0527, -0.0503, -0.0454]], requires_grad=True), Parameter containing:\n",
            "tensor([0.1055], requires_grad=True)]\n"
          ]
        }
      ],
      "source": [
        "#%%script echo skipping\n",
        "\n",
        "print(list(net.parameters()))"
      ]
    },
    {
      "cell_type": "code",
      "execution_count": 91,
      "metadata": {
        "colab": {
          "base_uri": "https://localhost:8080/"
        },
        "id": "1NZ8iVA7UZio",
        "outputId": "6341def7-b7e7-44eb-c91f-edbe1d22ca1d"
      },
      "outputs": [
        {
          "name": "stdout",
          "output_type": "stream",
          "text": [
            "[Parameter containing:\n",
            "tensor([[ 0.3290, -0.1799, -0.2041,  ..., -0.1694, -0.2528,  0.2066],\n",
            "        [-0.1245,  0.3238, -0.3060,  ...,  0.2643,  0.2447,  0.1230],\n",
            "        [ 0.2307, -0.2423, -0.3327,  ...,  0.3030,  0.2485, -0.1735],\n",
            "        ...,\n",
            "        [ 0.1269,  0.3044,  0.1665,  ..., -0.2090, -0.1468, -0.1101],\n",
            "        [ 0.2437,  0.0070,  0.2470,  ..., -0.3416, -0.2797,  0.1247],\n",
            "        [-0.2269,  0.0095,  0.2993,  ...,  0.0370,  0.2206,  0.3101]],\n",
            "       requires_grad=True), Parameter containing:\n",
            "tensor([ 2.6581e-01,  9.8237e-02,  1.3664e-01,  7.0767e-03, -9.4374e-02,\n",
            "        -1.2848e-01, -1.1842e-01, -1.9857e-01,  1.8151e-01,  1.1986e-01,\n",
            "         1.9653e-01,  1.2018e-01,  2.5032e-01,  6.6896e-02,  1.2137e-01,\n",
            "        -3.0217e-01,  2.0394e-01,  3.0227e-01, -2.0077e-01, -2.0459e-01,\n",
            "         3.5586e-01, -2.5008e-01, -2.9092e-01,  3.0226e-01, -1.3460e-01,\n",
            "         1.3786e-01, -2.4194e-01,  2.2963e-01,  6.8197e-02, -9.1283e-02,\n",
            "        -4.4358e-02,  2.5044e-01, -8.9585e-02,  1.5363e-01, -8.4758e-02,\n",
            "         8.8636e-02, -6.4979e-02, -2.1236e-01,  3.5290e-01,  9.4039e-02,\n",
            "        -1.7610e-01, -2.3345e-01,  6.5265e-02,  8.6999e-02, -1.1102e-01,\n",
            "        -9.5068e-03,  2.9775e-01,  3.7792e-02,  7.3794e-02,  5.2263e-02,\n",
            "        -2.4533e-02, -1.4252e-01,  3.5332e-01, -1.9446e-01, -6.3871e-02,\n",
            "        -2.3284e-01, -5.8096e-02, -2.0591e-01,  1.5459e-01,  1.8218e-01,\n",
            "         3.0164e-01,  1.4031e-01, -1.8096e-01, -1.5328e-01,  2.3770e-01,\n",
            "         1.0193e-01,  2.1633e-02, -3.6731e-01,  1.2222e-01,  2.9384e-01,\n",
            "        -4.3586e-02,  4.5167e-02, -2.4318e-01, -3.0038e-01,  1.6886e-01,\n",
            "        -2.5734e-01, -2.3779e-01, -2.4661e-02,  3.5132e-01, -2.2422e-01,\n",
            "         2.1679e-01, -2.7433e-01, -5.4668e-03, -2.8953e-01,  3.0092e-01,\n",
            "         3.4555e-01, -2.3572e-01,  3.5926e-02,  2.6735e-01,  1.2934e-01,\n",
            "         2.4341e-01, -9.8618e-02, -2.4515e-01,  2.7715e-01, -9.1989e-02,\n",
            "        -4.6317e-02, -3.4357e-02,  4.0528e-02, -2.2576e-01,  2.5069e-01,\n",
            "         1.8515e-02,  3.0196e-01, -1.7743e-01,  4.3728e-02,  1.0944e-01,\n",
            "         3.4183e-01,  2.8971e-01, -1.0842e-01,  3.3919e-04, -2.9013e-01,\n",
            "         5.6928e-02, -2.1868e-01, -4.1378e-01, -2.8182e-01, -1.3400e-01,\n",
            "        -1.0522e-01, -3.1773e-01, -3.0655e-01, -7.1482e-02, -1.8823e-01,\n",
            "         1.8879e-02, -3.1841e-01, -3.0383e-01, -1.7722e-01,  1.0347e-01,\n",
            "         1.6564e-01,  1.0494e-01,  8.4615e-02,  1.9289e-01,  4.6496e-02,\n",
            "         2.5777e-01, -2.0107e-01,  1.1981e-01, -1.6325e-04,  1.9463e-01,\n",
            "         3.7981e-02, -4.5112e-02, -2.9206e-01,  8.4628e-02, -3.1017e-01,\n",
            "         1.2536e-01, -1.8167e-02,  2.4215e-01,  1.5318e-01,  1.3766e-01,\n",
            "         2.3773e-01, -1.3308e-01, -1.6952e-03, -3.2985e-01, -3.5099e-01,\n",
            "        -1.9150e-01, -2.7593e-01,  1.8354e-01,  2.6981e-01,  2.3612e-01,\n",
            "        -1.1764e-01, -1.1636e-01,  2.8314e-01,  2.3062e-01,  3.0070e-01,\n",
            "        -2.6134e-01, -1.3013e-01,  4.1050e-01,  2.2528e-01, -8.7825e-02,\n",
            "         8.3990e-02, -1.5423e-01,  2.7941e-01,  1.7933e-01, -1.9490e-01,\n",
            "        -1.7760e-01, -5.4922e-02,  7.5481e-02,  4.6558e-02,  2.3438e-01,\n",
            "        -1.7982e-01, -6.3840e-02, -2.4093e-01, -2.8203e-01, -3.0921e-01,\n",
            "        -1.9664e-01, -1.7509e-01,  1.3685e-01, -1.0976e-01,  2.9881e-01,\n",
            "        -1.2244e-01, -3.0337e-01, -3.6243e-01,  3.5480e-01,  2.2104e-01,\n",
            "         2.0092e-01,  2.2363e-01, -2.8251e-01, -2.0114e-01, -3.2437e-01,\n",
            "         3.0508e-01,  2.1401e-02,  7.5698e-02, -3.1362e-02, -1.4225e-01,\n",
            "         4.6305e-02, -2.6742e-01,  2.3834e-01, -2.6533e-01, -2.8232e-01,\n",
            "        -2.1278e-01, -3.1866e-01,  9.3450e-02, -1.1912e-01, -2.2704e-01,\n",
            "         6.0586e-02,  3.2257e-01,  3.1574e-01,  2.3188e-01,  2.1972e-01,\n",
            "         1.8110e-01, -2.0060e-02, -2.9262e-01, -7.7284e-03,  1.8143e-01,\n",
            "         9.7441e-02, -7.6856e-02, -1.6815e-01,  2.5210e-01, -5.5275e-02,\n",
            "        -3.3761e-01,  1.6767e-01,  1.3173e-02,  3.1316e-01,  1.0032e-01,\n",
            "        -2.6183e-01, -2.3102e-01, -3.5320e-02, -2.9901e-01, -2.0799e-01,\n",
            "        -6.0122e-02, -1.4146e-01, -1.6325e-01, -3.5643e-01,  3.1294e-01,\n",
            "         2.0949e-01, -1.9614e-01, -2.6127e-02,  1.1848e-01, -1.1233e-01,\n",
            "         1.2351e-01,  9.9925e-02, -1.0685e-01,  8.6577e-02,  3.9158e-01,\n",
            "        -4.4657e-02, -4.9667e-02,  5.2365e-02, -9.9812e-02, -2.8413e-01,\n",
            "        -1.0985e-01,  2.3207e-01,  1.6214e-01, -1.2480e-02,  5.9731e-02,\n",
            "        -3.7122e-01,  1.6454e-01,  4.8076e-02, -3.0136e-01,  3.5864e-01,\n",
            "        -1.8565e-01,  6.0923e-02, -6.9770e-03,  1.1036e-01, -1.5460e-01,\n",
            "        -1.8467e-01, -2.5178e-01, -1.1039e-01, -2.6457e-01,  2.2852e-01,\n",
            "         3.7698e-03,  1.1998e-01, -2.8650e-01, -9.0174e-02, -1.1521e-02,\n",
            "         3.1829e-01,  1.3985e-01,  3.4625e-01, -1.9215e-01, -1.2329e-01,\n",
            "        -1.5743e-01, -1.3075e-01,  4.2421e-02, -1.5099e-02, -2.0397e-02,\n",
            "        -2.8741e-01, -3.2568e-01, -6.3990e-02, -2.2435e-01, -1.9115e-01,\n",
            "        -1.9985e-01, -1.6947e-01, -1.5466e-01, -1.1583e-01, -6.6700e-02,\n",
            "        -9.4327e-02,  1.5696e-01,  2.2321e-01,  1.8415e-01, -1.8908e-01,\n",
            "         3.2738e-01,  2.5916e-01, -2.1569e-01,  2.8000e-01, -1.7961e-02,\n",
            "         2.8270e-01, -6.5234e-02, -1.1423e-01, -1.6032e-01,  8.3226e-02,\n",
            "        -2.4134e-01, -8.1207e-02, -5.1201e-02,  5.3116e-02,  2.3728e-01,\n",
            "        -3.3349e-01, -1.3822e-01,  1.4790e-01,  2.8916e-01, -1.3506e-02,\n",
            "        -2.1200e-01,  1.8698e-01,  2.4599e-02,  2.4242e-01, -2.3168e-01,\n",
            "         2.8472e-01,  1.5608e-01, -3.5543e-01,  3.0669e-01, -2.1691e-02,\n",
            "        -2.8276e-01,  9.9728e-02, -3.6730e-01, -5.1880e-02,  2.6187e-01,\n",
            "        -6.2968e-02,  7.4109e-02,  2.1211e-02, -2.0923e-01,  1.6845e-01,\n",
            "        -1.7283e-01,  3.0565e-01,  5.5209e-02, -1.3732e-01,  1.8790e-01,\n",
            "         5.4140e-03, -2.4348e-01, -1.0050e-01,  3.5063e-01, -2.1535e-01,\n",
            "        -3.6732e-02,  2.3512e-02, -3.3420e-01,  3.5195e-01, -3.1794e-01,\n",
            "         4.1045e-02, -3.4615e-01,  2.7311e-02, -3.2433e-01,  2.0303e-02,\n",
            "        -2.5102e-01, -3.2175e-01, -3.1973e-01,  1.9769e-01, -3.4960e-01,\n",
            "        -1.1656e-01, -5.2552e-02, -1.8404e-01, -1.5652e-01, -3.2274e-01,\n",
            "         2.2912e-02, -1.0935e-01,  2.1098e-02, -1.3553e-01,  3.3337e-01,\n",
            "         9.8695e-02, -1.7276e-01, -4.0723e-02,  2.0487e-01, -2.8755e-01,\n",
            "        -2.9475e-01, -2.7893e-02,  2.3293e-02,  2.6172e-01,  6.7067e-02,\n",
            "        -2.8179e-01,  3.2970e-01, -9.4523e-02,  2.5308e-01,  3.6100e-03,\n",
            "        -1.4167e-02, -2.2599e-01, -2.6443e-01,  2.5069e-01, -3.0939e-01,\n",
            "         1.2087e-01,  1.2691e-01, -2.0180e-01,  9.9775e-02, -9.5948e-03,\n",
            "        -3.4204e-01,  2.3740e-01, -1.6164e-01,  6.1299e-02,  2.2582e-01,\n",
            "         2.1906e-01,  9.7675e-02, -1.6327e-01,  2.8590e-01, -3.4166e-01,\n",
            "         1.5527e-01, -1.8261e-02, -2.0888e-01,  2.9957e-01,  1.2265e-01,\n",
            "         3.2894e-01,  9.0736e-04,  2.1710e-01,  1.0847e-01,  8.4211e-02,\n",
            "         2.1404e-01,  1.8061e-01, -4.4077e-01,  1.0111e-01, -1.9844e-02,\n",
            "        -2.7999e-01,  2.3870e-01,  8.4653e-02,  3.3883e-02, -3.9747e-01,\n",
            "         3.8605e-02,  7.3044e-02,  2.7573e-02,  1.4361e-01,  3.7496e-01,\n",
            "        -1.0201e-01,  3.0021e-01,  1.6849e-01, -8.1204e-02, -2.5386e-01,\n",
            "         7.5931e-02,  1.2601e-01,  3.4317e-01,  1.1395e-01, -1.0139e-01,\n",
            "        -5.9118e-02, -1.2821e-01,  1.9628e-01,  6.4264e-02, -2.5707e-01,\n",
            "         8.8323e-02, -3.0500e-01, -3.2286e-01, -2.4886e-01,  2.5820e-01,\n",
            "        -8.3258e-03,  2.1086e-01,  3.6276e-01,  9.6540e-02,  2.7191e-01,\n",
            "         2.9472e-01, -2.4599e-01,  2.5211e-01,  1.0650e-01,  2.2776e-01,\n",
            "         2.3785e-01,  1.6490e-01,  1.4555e-01, -8.5923e-02,  7.9357e-02,\n",
            "        -1.0439e-01,  3.5836e-01,  2.6865e-01,  2.3564e-01,  6.0058e-02,\n",
            "         6.9536e-02, -2.8378e-01,  2.5714e-01, -2.6071e-02,  2.8802e-01,\n",
            "         2.0403e-01, -6.5885e-03,  2.4707e-02,  7.5342e-02, -1.5573e-01,\n",
            "        -2.9748e-01, -4.1506e-02, -2.1343e-01,  2.9928e-01,  2.5900e-01,\n",
            "         1.4316e-01,  3.7659e-01,  3.2785e-01, -1.7293e-01,  1.6775e-01,\n",
            "        -4.2493e-01, -2.9418e-01, -3.2582e-01, -3.4217e-01, -1.7671e-01,\n",
            "        -1.5407e-01,  8.0196e-02,  2.6692e-01,  1.8420e-01, -1.0832e-01,\n",
            "        -2.7333e-01, -1.2537e-01,  3.3700e-02, -7.1363e-02, -4.3742e-01,\n",
            "        -1.2390e-01, -1.9645e-01, -3.4410e-01, -3.2199e-01, -1.3101e-01,\n",
            "         1.2101e-01, -1.8905e-01,  1.8847e-01, -2.5960e-02,  2.2225e-01,\n",
            "         8.1468e-02, -2.6826e-01, -3.2102e-01,  4.8855e-03, -1.9971e-01,\n",
            "        -1.3247e-01,  3.0529e-01, -1.6204e-01,  3.5002e-02, -1.4951e-01,\n",
            "         3.1485e-01,  1.3080e-01,  1.2425e-01, -3.2036e-01,  1.0802e-01,\n",
            "        -9.8477e-02,  2.0752e-01,  1.9822e-01,  2.1914e-02,  2.8653e-01,\n",
            "        -2.2187e-01, -1.6120e-01, -1.2047e-01,  3.5619e-01,  8.5941e-02,\n",
            "         1.3304e-01,  2.5150e-01, -2.8204e-01,  2.8290e-01, -2.8297e-01],\n",
            "       requires_grad=True), Parameter containing:\n",
            "tensor([[ 0.0253, -0.0225, -0.0531,  ..., -0.0346,  0.0133, -0.0081],\n",
            "        [-0.0251,  0.0235, -0.0027,  ..., -0.0275, -0.0087,  0.0456],\n",
            "        [-0.0040,  0.0225, -0.0031,  ..., -0.0142, -0.0418,  0.0335],\n",
            "        ...,\n",
            "        [ 0.0275, -0.0286,  0.0058,  ...,  0.0084, -0.0270, -0.0275],\n",
            "        [ 0.0270, -0.0342,  0.0193,  ..., -0.0337,  0.0256, -0.0144],\n",
            "        [ 0.0485, -0.0156, -0.0512,  ..., -0.0401, -0.0032,  0.0032]],\n",
            "       requires_grad=True), Parameter containing:\n",
            "tensor([-0.0156,  0.0231,  0.0077,  0.0060,  0.0432,  0.0656, -0.0400, -0.0412,\n",
            "        -0.0015,  0.0066,  0.0249,  0.0442, -0.0014,  0.0302, -0.0212, -0.0292,\n",
            "        -0.0057,  0.0309, -0.0149, -0.0327, -0.0274,  0.0002, -0.0453,  0.0171,\n",
            "        -0.0077,  0.0258, -0.0490,  0.0038, -0.0058, -0.0050,  0.0135, -0.0082,\n",
            "        -0.0330,  0.0170, -0.0297,  0.0228, -0.0302,  0.0249, -0.0179,  0.0186,\n",
            "        -0.0459,  0.0327,  0.0478,  0.0262, -0.0421, -0.0296,  0.0033, -0.0136,\n",
            "         0.0117, -0.0244, -0.0231,  0.0439,  0.0143, -0.0141,  0.0065,  0.0371,\n",
            "        -0.0410,  0.0224, -0.0240,  0.0465, -0.0389, -0.0397, -0.0190,  0.0352,\n",
            "        -0.0202, -0.0251,  0.0345, -0.0337, -0.0059, -0.0316, -0.0322,  0.0721,\n",
            "         0.0197, -0.0425, -0.0721,  0.0193, -0.0277,  0.0001,  0.0663,  0.0149,\n",
            "         0.0223,  0.0099,  0.0182, -0.0148, -0.0153,  0.0215, -0.0012, -0.0138,\n",
            "         0.0308, -0.0257, -0.0079, -0.0167,  0.0215, -0.0520,  0.0398,  0.0048,\n",
            "         0.0386, -0.0565,  0.0458,  0.0379,  0.0370,  0.0447, -0.0412,  0.0379,\n",
            "        -0.0017, -0.0348,  0.0052,  0.0363,  0.0221,  0.0035,  0.0218,  0.0004,\n",
            "        -0.0022, -0.0561,  0.0303,  0.0852,  0.0346, -0.0209, -0.0369, -0.0197,\n",
            "        -0.0139, -0.0141, -0.0253,  0.0638, -0.0483,  0.0049, -0.0348, -0.0445,\n",
            "        -0.0244, -0.0094, -0.0363, -0.0108,  0.0420,  0.0237, -0.0346, -0.0671,\n",
            "        -0.0405,  0.0242,  0.0327, -0.0260,  0.0296,  0.0870,  0.0695,  0.0085,\n",
            "        -0.0205, -0.0278,  0.0175, -0.0227, -0.0496, -0.0186, -0.0035,  0.0184,\n",
            "        -0.0268,  0.0271, -0.0157,  0.0463,  0.0149,  0.0711,  0.0049, -0.0139,\n",
            "         0.0292, -0.0270,  0.0534, -0.0411, -0.0437,  0.0149, -0.0196, -0.0045,\n",
            "        -0.0085, -0.0079, -0.0120,  0.0066,  0.0125, -0.0002, -0.0431,  0.0547,\n",
            "        -0.0668, -0.0082, -0.0232,  0.0363, -0.0132,  0.0518,  0.0001, -0.0220,\n",
            "        -0.0317, -0.0145,  0.0305,  0.0367, -0.0139, -0.0208, -0.0330,  0.0350,\n",
            "         0.0172,  0.0633,  0.0518, -0.0420,  0.0165,  0.0231,  0.0107,  0.0315,\n",
            "        -0.0004,  0.0226,  0.0134, -0.0318,  0.0554,  0.0004,  0.0071, -0.0021,\n",
            "        -0.0102, -0.0473,  0.0328,  0.0185,  0.0372, -0.0521,  0.0069, -0.0026,\n",
            "         0.0070, -0.0282,  0.0341, -0.0104,  0.0392,  0.0113, -0.0158, -0.0334,\n",
            "        -0.0050, -0.0156,  0.0057, -0.0134, -0.0856,  0.0106, -0.0500, -0.0645,\n",
            "         0.0358, -0.0206, -0.0226, -0.0174, -0.0094,  0.0209, -0.0267, -0.0054,\n",
            "         0.0181, -0.0097, -0.0520, -0.0170, -0.0566, -0.0188,  0.0139, -0.0198,\n",
            "        -0.0161,  0.0015, -0.0282, -0.0582,  0.0063,  0.0072,  0.0100,  0.0187,\n",
            "        -0.0323,  0.0484,  0.0006, -0.0296,  0.0081,  0.0365,  0.0309,  0.0167,\n",
            "        -0.0278,  0.0094,  0.0541, -0.0034, -0.0049, -0.0435, -0.0238,  0.0398,\n",
            "         0.0112,  0.0405, -0.0213, -0.0611, -0.0263,  0.0178, -0.0278,  0.0107,\n",
            "        -0.0364, -0.0285, -0.0211, -0.0195, -0.0353, -0.0170,  0.0445,  0.0442,\n",
            "         0.0419,  0.0217,  0.0382, -0.0171,  0.0308, -0.0247,  0.0288, -0.0189,\n",
            "         0.0314,  0.0063, -0.0455,  0.0074,  0.0531, -0.0326,  0.0550,  0.0548,\n",
            "        -0.0123,  0.0044, -0.0027,  0.0240,  0.0177, -0.0024,  0.0150, -0.0150,\n",
            "         0.0069, -0.0911,  0.0196, -0.0162, -0.0140, -0.0221,  0.0218,  0.0298,\n",
            "        -0.0121,  0.0244,  0.0113,  0.0056, -0.0091, -0.0151,  0.0045, -0.0601,\n",
            "         0.0264, -0.0474,  0.0195,  0.0192, -0.0160, -0.0604, -0.0254,  0.0037,\n",
            "        -0.0296, -0.0398, -0.0342, -0.0325, -0.0066,  0.0076, -0.0170,  0.0188,\n",
            "         0.0346, -0.0327, -0.0372, -0.0390, -0.0688,  0.0233,  0.0048,  0.0094,\n",
            "        -0.0258, -0.0396,  0.0272, -0.0158,  0.0380, -0.0226,  0.0098,  0.0344,\n",
            "        -0.0429,  0.0193, -0.0432,  0.0297,  0.0042, -0.0191, -0.0281, -0.0519,\n",
            "         0.0115, -0.0087, -0.0278, -0.0391,  0.0278,  0.0104, -0.0362,  0.0023,\n",
            "        -0.0110, -0.0381,  0.0022, -0.0611, -0.0254,  0.0312, -0.0519,  0.0590,\n",
            "         0.0624, -0.0048,  0.0158, -0.0479,  0.0161, -0.0606,  0.0371, -0.0309,\n",
            "         0.0418, -0.0006, -0.0277,  0.0193, -0.0068, -0.0160,  0.0040,  0.0055,\n",
            "        -0.0144, -0.0132,  0.0268, -0.0152,  0.0220, -0.0198, -0.0166, -0.0454,\n",
            "        -0.0064,  0.0307,  0.0337,  0.0073, -0.0033,  0.0301,  0.0015, -0.0177,\n",
            "         0.0252,  0.0326,  0.0303,  0.0249, -0.0294,  0.0247,  0.0192,  0.0464,\n",
            "         0.0127, -0.0431, -0.0012,  0.0300,  0.0375,  0.0285, -0.0256, -0.0003,\n",
            "        -0.0585,  0.0778, -0.0216,  0.0212, -0.0024,  0.0279, -0.0335, -0.0220,\n",
            "         0.0387, -0.0074,  0.0214,  0.0179,  0.0244, -0.0937,  0.0045, -0.0326,\n",
            "        -0.0437,  0.0283, -0.0170, -0.0098,  0.0266, -0.0160, -0.0041, -0.0136,\n",
            "        -0.0125,  0.0102], requires_grad=True), Parameter containing:\n",
            "tensor([[-0.0026,  0.0179,  0.0063,  ...,  0.0452,  0.0267, -0.0482],\n",
            "        [-0.0061, -0.0358,  0.0362,  ...,  0.0206,  0.0007,  0.0433],\n",
            "        [ 0.0016,  0.0382,  0.0313,  ..., -0.0309,  0.0237, -0.0276],\n",
            "        ...,\n",
            "        [ 0.0088,  0.0207, -0.0115,  ..., -0.0035, -0.0116, -0.0342],\n",
            "        [-0.0239, -0.0175,  0.0371,  ..., -0.0306, -0.0132,  0.0215],\n",
            "        [ 0.0009,  0.0511, -0.0181,  ...,  0.0389,  0.0049, -0.0007]],\n",
            "       requires_grad=True), Parameter containing:\n",
            "tensor([ 0.0113, -0.0207,  0.0076,  0.0126, -0.0432,  0.0187, -0.0439, -0.0318,\n",
            "         0.0287, -0.0035,  0.0354,  0.0054, -0.0114,  0.0068,  0.0293, -0.0100,\n",
            "         0.0302,  0.0039,  0.0207, -0.0009,  0.0499, -0.0074,  0.0416,  0.0371,\n",
            "         0.0070,  0.0353,  0.0025,  0.0188,  0.0100,  0.0308,  0.0448, -0.0243,\n",
            "        -0.0145,  0.0193,  0.0314, -0.0073, -0.0036,  0.0423, -0.0244,  0.0136,\n",
            "        -0.1075, -0.0366, -0.0693,  0.0375, -0.0232,  0.0512, -0.0024, -0.0205,\n",
            "         0.0398, -0.0197,  0.0159, -0.0091,  0.0711,  0.0939, -0.0436,  0.0031,\n",
            "        -0.0496, -0.0212,  0.0676,  0.0343,  0.0321,  0.0010,  0.0461, -0.0767,\n",
            "         0.0181,  0.0158,  0.0338,  0.0216,  0.0470, -0.0490,  0.0378,  0.0368,\n",
            "         0.0427,  0.0190,  0.0382, -0.0311,  0.0268, -0.0419, -0.0205,  0.0247,\n",
            "        -0.0235,  0.0309,  0.0130, -0.0176, -0.0224,  0.0289, -0.0333,  0.0546,\n",
            "        -0.0159,  0.0267,  0.0157,  0.0051, -0.0560,  0.0211, -0.0206, -0.0447,\n",
            "        -0.0254,  0.0979,  0.0064,  0.0365, -0.0272,  0.0361, -0.0370, -0.0242,\n",
            "         0.0205,  0.0360,  0.0287,  0.0111, -0.0292, -0.0167, -0.0255,  0.0320,\n",
            "        -0.0290,  0.0463, -0.0398], requires_grad=True), Parameter containing:\n",
            "tensor([[ 0.0251, -0.0791, -0.0599,  0.0938, -0.0886,  0.0056,  0.0257, -0.0570,\n",
            "          0.0074, -0.0006, -0.0128, -0.0003, -0.0481, -0.0465,  0.0257, -0.0072,\n",
            "          0.0386,  0.0890, -0.0148,  0.0335,  0.0692, -0.0072,  0.0877,  0.0848,\n",
            "          0.0309,  0.0065, -0.0835, -0.0225, -0.0800,  0.0711,  0.0615, -0.0924,\n",
            "         -0.0887,  0.0080,  0.0711,  0.0255, -0.0280,  0.0047, -0.0468,  0.0292,\n",
            "         -0.0130,  0.0328, -0.0701, -0.0503, -0.0879,  0.0808,  0.0321,  0.0569,\n",
            "          0.0648,  0.0819,  0.0285,  0.0541,  0.0895,  0.1287, -0.0639,  0.0734,\n",
            "         -0.0613, -0.0512,  0.0531,  0.0885,  0.0267,  0.0446,  0.0503, -0.0266,\n",
            "         -0.0038, -0.0492,  0.0315,  0.0486, -0.0689, -0.0596,  0.0287, -0.0772,\n",
            "          0.0555,  0.0047,  0.0796, -0.0143, -0.0835, -0.0284,  0.0805,  0.0551,\n",
            "          0.0074,  0.0258,  0.0016,  0.0471, -0.0022, -0.0787, -0.0144,  0.0449,\n",
            "         -0.0613, -0.0154, -0.0710, -0.0821, -0.0372, -0.0421,  0.0457, -0.0722,\n",
            "          0.0153,  0.0809,  0.0727,  0.0700, -0.0451,  0.0919, -0.0783, -0.0496,\n",
            "          0.0532,  0.0681, -0.0228, -0.0904, -0.0020, -0.0012, -0.0691, -0.0273,\n",
            "          0.0527, -0.0503, -0.0454]], requires_grad=True), Parameter containing:\n",
            "tensor([0.1055], requires_grad=True)]\n"
          ]
        }
      ],
      "source": [
        "print(list(net_loaded.parameters()))"
      ]
    },
    {
      "cell_type": "code",
      "execution_count": 92,
      "metadata": {
        "colab": {
          "base_uri": "https://localhost:8080/"
        },
        "id": "InGW0Xq6UZip",
        "outputId": "6c4a0e2c-b485-4362-b99d-7364dcf9443a"
      },
      "outputs": [
        {
          "data": {
            "text/plain": [
              "tensor([[1.1435e+01, 1.4877e+01, 9.1792e+00, 1.3028e+00, 1.7746e+01, 5.2375e-01,\n",
              "         7.0370e-02, 3.8866e-01],\n",
              "        [5.8814e+00, 1.6587e+00, 1.0955e+00, 2.2548e+00, 2.6538e+00, 2.9788e-01,\n",
              "         3.4553e-01, 7.5065e-01],\n",
              "        [3.9591e+00, 5.6063e+00, 2.6422e+00, 5.5200e+00, 6.3739e+00, 5.7099e-01,\n",
              "         1.4765e-01, 8.7026e-01],\n",
              "        [9.3592e-01, 1.2376e+00, 1.8421e+00, 1.3246e+00, 3.0444e+00, 5.7399e-01,\n",
              "         3.8071e-01, 9.3212e-01],\n",
              "        [6.2878e+00, 1.3301e+00, 7.2462e+00, 9.9214e+00, 9.6144e+00, 4.4422e-02,\n",
              "         7.3755e-01, 6.0249e-01],\n",
              "        [6.8658e+00, 1.2817e+01, 6.7057e+00, 1.1061e+01, 1.5288e+01, 4.5327e-01,\n",
              "         8.7428e-01, 4.7838e-01],\n",
              "        [6.7819e-01, 2.9440e+00, 9.0789e-01, 4.0661e+00, 5.3537e+00, 9.9001e-01,\n",
              "         9.2942e-01, 4.1098e-01],\n",
              "        [1.8500e+00, 2.0048e-01, 5.0581e-01, 1.1481e+00, 8.3999e-01, 2.2672e-01,\n",
              "         1.1351e-01, 4.2200e-01],\n",
              "        [1.3661e+00, 3.4689e+00, 5.3060e-01, 1.0991e+00, 4.3379e+00, 4.7325e-01,\n",
              "         5.3461e-01, 1.5171e-01],\n",
              "        [7.4263e+00, 7.0839e-01, 8.6126e-01, 8.1881e+00, 6.6105e+00, 7.8854e-02,\n",
              "         4.1357e-01, 6.2862e-01],\n",
              "        [9.9317e+00, 4.1303e+00, 1.1312e+01, 1.6074e+01, 2.2766e+01, 9.6739e-01,\n",
              "         9.6480e-01, 4.1917e-01],\n",
              "        [8.0347e+00, 1.4141e+00, 7.9525e+00, 9.6928e-01, 5.1373e+00, 4.0758e-01,\n",
              "         6.0461e-01, 1.1490e-01],\n",
              "        [1.6829e+01, 4.6135e+01, 4.3789e+01, 3.0258e+01, 6.2368e+01, 3.0473e-02,\n",
              "         8.0980e-01, 2.0258e-01],\n",
              "        [5.8007e+00, 7.2466e+00, 1.6387e+00, 7.6855e+00, 1.0163e+01, 7.4757e-02,\n",
              "         7.5347e-01, 8.7890e-01],\n",
              "        [6.4742e+00, 3.8113e+00, 4.4659e+00, 3.5216e+00, 1.2612e+01, 7.4453e-02,\n",
              "         6.5530e-01, 2.3367e-01],\n",
              "        [3.8748e+00, 1.6645e+00, 3.7963e+00, 6.0226e+00, 5.7531e+00, 3.7330e-01,\n",
              "         3.7783e-01, 6.0810e-01],\n",
              "        [2.4019e+01, 8.4484e+01, 8.0711e+01, 7.2182e+01, 1.1995e+02, 1.8452e-01,\n",
              "         3.1739e-01, 3.9023e-01],\n",
              "        [8.6704e+00, 1.2554e+01, 1.3559e+01, 7.9338e+00, 1.8573e+01, 1.2889e-01,\n",
              "         1.0950e-01, 5.8296e-01],\n",
              "        [5.0471e+00, 2.6562e+00, 2.8991e-01, 4.5640e+00, 4.7668e+00, 2.3631e-01,\n",
              "         3.0903e-01, 7.2881e-01],\n",
              "        [3.1827e+00, 1.7611e-01, 4.3727e-01, 2.0781e+00, 1.9814e+00, 4.0721e-01,\n",
              "         5.8865e-01, 5.1712e-01]])"
            ]
          },
          "execution_count": 92,
          "metadata": {},
          "output_type": "execute_result"
        }
      ],
      "source": [
        "rho_example, epsilon_example, vx_example, vy_example, vz_example, Bx_example, By_example, Bz_example = sample_primitive_variables(20)\n",
        "\n",
        "# Create arbitrary input\n",
        "inputs =  generate_input_data(rho_example, epsilon_example, vx_example, vy_example, vz_example, Bx_example, By_example, Bz_example)\n",
        "inputs"
      ]
    },
    {
      "cell_type": "code",
      "execution_count": 93,
      "metadata": {
        "colab": {
          "base_uri": "https://localhost:8080/"
        },
        "id": "QVa1upmFUZip",
        "outputId": "95a297df-88d8-4614-ffd7-ecc0cda58cf9"
      },
      "outputs": [
        {
          "data": {
            "text/plain": [
              "[tensor([[6.2909]], grad_fn=<ReluBackward0>),\n",
              " tensor([[0.7011]], grad_fn=<ReluBackward0>),\n",
              " tensor([[0.8343]], grad_fn=<ReluBackward0>),\n",
              " tensor([[0.4678]], grad_fn=<ReluBackward0>),\n",
              " tensor([[1.2589]], grad_fn=<ReluBackward0>),\n",
              " tensor([[2.2598]], grad_fn=<ReluBackward0>),\n",
              " tensor([[0.4914]], grad_fn=<ReluBackward0>),\n",
              " tensor([[0.1439]], grad_fn=<ReluBackward0>),\n",
              " tensor([[1.3310]], grad_fn=<ReluBackward0>),\n",
              " tensor([[1.7421]], grad_fn=<ReluBackward0>),\n",
              " tensor([[8.0674]], grad_fn=<ReluBackward0>),\n",
              " tensor([[0.8328]], grad_fn=<ReluBackward0>),\n",
              " tensor([[7.0068]], grad_fn=<ReluBackward0>),\n",
              " tensor([[2.4808]], grad_fn=<ReluBackward0>),\n",
              " tensor([[6.6708]], grad_fn=<ReluBackward0>),\n",
              " tensor([[0.7678]], grad_fn=<ReluBackward0>),\n",
              " tensor([[6.1140]], grad_fn=<ReluBackward0>),\n",
              " tensor([[4.7035]], grad_fn=<ReluBackward0>),\n",
              " tensor([[1.3188]], grad_fn=<ReluBackward0>),\n",
              " tensor([[0.2942]], grad_fn=<ReluBackward0>)]"
            ]
          },
          "execution_count": 93,
          "metadata": {},
          "output_type": "execute_result"
        }
      ],
      "source": [
        "#%%script echo skipping\n",
        "\n",
        "# Pass the inputs to the network and get the outputs\n",
        "outputs = [net(input.unsqueeze(0)) for input in inputs]\n",
        "# Print the outputs\n",
        "outputs"
      ]
    },
    {
      "cell_type": "code",
      "execution_count": 94,
      "metadata": {
        "colab": {
          "base_uri": "https://localhost:8080/"
        },
        "id": "E-Xjfo7VUZir",
        "outputId": "fb0478cb-bee3-429f-fdec-d99f11baf40f"
      },
      "outputs": [
        {
          "data": {
            "text/plain": [
              "[tensor([[6.2909]], grad_fn=<ReluBackward0>),\n",
              " tensor([[0.7011]], grad_fn=<ReluBackward0>),\n",
              " tensor([[0.8343]], grad_fn=<ReluBackward0>),\n",
              " tensor([[0.4678]], grad_fn=<ReluBackward0>),\n",
              " tensor([[1.2589]], grad_fn=<ReluBackward0>),\n",
              " tensor([[2.2598]], grad_fn=<ReluBackward0>),\n",
              " tensor([[0.4914]], grad_fn=<ReluBackward0>),\n",
              " tensor([[0.1439]], grad_fn=<ReluBackward0>),\n",
              " tensor([[1.3310]], grad_fn=<ReluBackward0>),\n",
              " tensor([[1.7421]], grad_fn=<ReluBackward0>),\n",
              " tensor([[8.0674]], grad_fn=<ReluBackward0>),\n",
              " tensor([[0.8328]], grad_fn=<ReluBackward0>),\n",
              " tensor([[7.0068]], grad_fn=<ReluBackward0>),\n",
              " tensor([[2.4808]], grad_fn=<ReluBackward0>),\n",
              " tensor([[6.6708]], grad_fn=<ReluBackward0>),\n",
              " tensor([[0.7678]], grad_fn=<ReluBackward0>),\n",
              " tensor([[6.1140]], grad_fn=<ReluBackward0>),\n",
              " tensor([[4.7035]], grad_fn=<ReluBackward0>),\n",
              " tensor([[1.3188]], grad_fn=<ReluBackward0>),\n",
              " tensor([[0.2942]], grad_fn=<ReluBackward0>)]"
            ]
          },
          "execution_count": 94,
          "metadata": {},
          "output_type": "execute_result"
        }
      ],
      "source": [
        "\n",
        "# Pass the inputs to the network and get the outputs\n",
        "outputs = [net_loaded(input.unsqueeze(0)) for input in inputs]\n",
        "# Print the outputs\n",
        "outputs"
      ]
    },
    {
      "attachments": {},
      "cell_type": "markdown",
      "metadata": {
        "id": "xjpIvdybUZis"
      },
      "source": [
        "## Porting the model to C++"
      ]
    },
    {
      "cell_type": "code",
      "execution_count": 95,
      "metadata": {
        "colab": {
          "base_uri": "https://localhost:8080/"
        },
        "id": "VMlEd4RoUZis",
        "outputId": "d5bfc697-8c96-47bb-a08c-6fb26f463797"
      },
      "outputs": [
        {
          "data": {
            "text/plain": [
              "Net(\n",
              "  (hidden_activation): ReLU()\n",
              "  (output_activation): ReLU()\n",
              "  (layers): ModuleList(\n",
              "    (0): Linear(in_features=8, out_features=555, bias=True)\n",
              "    (1): Linear(in_features=555, out_features=458, bias=True)\n",
              "    (2): Linear(in_features=458, out_features=115, bias=True)\n",
              "    (3): Linear(in_features=115, out_features=1, bias=True)\n",
              "  )\n",
              ")"
            ]
          },
          "execution_count": 95,
          "metadata": {},
          "output_type": "execute_result"
        },
        {
          "name": "stdout",
          "output_type": "stream",
          "text": [
            "input shape:  torch.Size([1, 8])\n",
            "input:  tensor([[8.6446, 3.5319, 4.2383, 0.9585, 8.5100, 0.9833, 0.1638, 0.9369]])\n",
            "Output: tensor([[3.5806]], grad_fn=<ReluBackward0>)\n"
          ]
        },
        {
          "name": "stderr",
          "output_type": "stream",
          "text": [
            "C:\\Users\\bvptr\\AppData\\Local\\Temp\\ipykernel_16840\\2739891698.py:53: TracerWarning: Converting a tensor to a Python boolean might cause the trace to be incorrect. We can't record the data flow of Python values, so this value will be treated as a constant in the future. This means that the trace might not generalize to other inputs!\n",
            "  assert x.shape[1] == 8, \"x must have shape (batch_size, 8)\"\n"
          ]
        }
      ],
      "source": [
        "import torch.jit\n",
        "\n",
        "# Creating a dummy input tensor of shape (1, 5) to trace the model\n",
        "dummy_input = torch.randn(1, 8).to(device)\n",
        "\n",
        "# Ensure that net_loaded is in evaluation mode.\n",
        "net_loaded.eval()\n",
        "\n",
        "# Tracing the model using the torch.jit.trace function\n",
        "traced_model = torch.jit.trace(net_loaded, dummy_input)\n",
        "\n",
        "# Saving the traced model to a file named \"net.pt\"\n",
        "traced_model.save(\"net.pt\")\n",
        "save_file(\"net.pt\")\n",
        "\n",
        "example_input_to_validate_correct_export_and_import = generate_input_data(*sample_primitive_variables(1))\n",
        "print(\"input shape: \", example_input_to_validate_correct_export_and_import.shape)\n",
        "print(\"input: \", example_input_to_validate_correct_export_and_import)\n",
        "print(\"Output:\", net_loaded(example_input_to_validate_correct_export_and_import))"
      ]
    }
  ],
  "metadata": {
    "accelerator": "GPU",
    "colab": {
      "gpuType": "T4",
      "provenance": [],
      "toc_visible": true
    },
    "gpuClass": "standard",
    "kernelspec": {
      "display_name": "bsc",
      "language": "python",
      "name": "python3"
    },
    "language_info": {
      "codemirror_mode": {
        "name": "ipython",
        "version": 3
      },
      "file_extension": ".py",
      "mimetype": "text/x-python",
      "name": "python",
      "nbconvert_exporter": "python",
      "pygments_lexer": "ipython3",
      "version": "3.11.3"
    },
    "orig_nbformat": 4
  },
  "nbformat": 4,
  "nbformat_minor": 0
}
