{
  "cells": [
    {
      "attachments": {},
      "cell_type": "markdown",
      "metadata": {
        "id": "TPvB1xoSUZhR"
      },
      "source": [
        "# Neural network to learn conservative-to-primitive conversion in relativistic hydrodynamics"
      ]
    },
    {
      "attachments": {},
      "cell_type": "markdown",
      "metadata": {},
      "source": [
        "## How to use this notebook\n",
        "\n",
        "### Local installation\n",
        "\n",
        "1. Install required packages with `pip install -r requirements.txt` to your desired environment.\n",
        "2. If a script version of this notebook is desired, comment (not uncomment) the first line of `nbconvert` cell.\n",
        "\n",
        "### Colab installation\n",
        "\n",
        "1.  Comment (not uncomment) the first line of the drive mounting cell.\n",
        "2.  Comment (not uncomment) the first line of the `pip install` cell.\n",
        "\n",
        "<!-- - For colab we also want to set the runtime to GPU by clicking _Change runtime_ in the _Runtime_ menu, and -->\n",
        "<!-- - We want to wait for the google drive connection popup to appear and follow the instructions. -->\n",
        "\n",
        "### Training without optimization\n",
        "\n",
        "3. Set `OPTIMIZE = False` in section _Constants and flags to set_.\n",
        "4. Run the entire notebook.\n",
        "\n",
        "### Training with optimization\n",
        "\n",
        "3. Set `OPTIMIZE = True` in section _Constants and flags to set_.\n",
        "4. Run the entire notebook.\n",
        "\n",
        "### Loading an already trained model\n",
        "\n",
        "3. Run cells in section _Initialization_.\n",
        "4. Run cells with definitions in section _Generating the data_.\n",
        "5. Run cell with the definition of _Net_ in section _Defining the neural network_.\n",
        "6. Make sure the `net.pth`, `optimizer.pth`, `scheduler.pth`, `var_dict.json` and `train_output.csv` files are in the directory containing this notebook.\n",
        "7. Run the cells in section _Loading_ and continue from there.\n",
        "\n",
        "### Generating the C++ model\n",
        "\n",
        "8. Run section _Porting the model to C++_, this requires a model to be loaded.\n",
        "9. Set the path to the `net.pt` file in the C++ source file.\n",
        "10. `mkdir build && cd build`,\n",
        "11. `cmake -DCMAKE_PREFIX_PATH=/path/to/libtorch/ ..`,\n",
        "10. Compile and run, e.g. `cmake --build . --config release && ./executable`"
      ]
    },
    {
      "attachments": {},
      "cell_type": "markdown",
      "metadata": {},
      "source": [
        "## Initialization"
      ]
    },
    {
      "attachments": {},
      "cell_type": "markdown",
      "metadata": {},
      "source": [
        "\n",
        "Use this first cell to **convert this notebook** to a python script."
      ]
    },
    {
      "cell_type": "code",
      "execution_count": 39,
      "metadata": {
        "colab": {
          "base_uri": "https://localhost:8080/"
        },
        "id": "eqdgdNLHUZhV",
        "outputId": "30907b9d-56c3-44d7-cd43-6387a991a46a",
        "tags": [
          "remove_cell"
        ]
      },
      "outputs": [
        {
          "name": "stdout",
          "output_type": "stream",
          "text": [
            "Couldn't find program: 'echo'\n"
          ]
        }
      ],
      "source": [
        "%%script echo skipping\n",
        "\n",
        "!jupyter nbconvert pt1.ipynb --TagRemovePreprocessor.enabled=True --TagRemovePreprocessor.remove_cell_tags='{\"remove_cell\"}' --to script"
      ]
    },
    {
      "attachments": {},
      "cell_type": "markdown",
      "metadata": {
        "id": "nzcUr0LnUZhw"
      },
      "source": [
        "Next some cells for working on **google colab**,"
      ]
    },
    {
      "cell_type": "code",
      "execution_count": 40,
      "metadata": {},
      "outputs": [],
      "source": [
        "import os\n",
        "import shutil\n",
        "\n",
        "# check if the drive is mounted\n",
        "drive_mounted = os.path.exists(\"/content/drive\")\n",
        "# change this to your desired folder\n",
        "drive_folder = \"/content/drive/My Drive/bsc/con2prim_towards_GRMHD/\"\n",
        "\n",
        "# define a function to save a file to the drive or the current directory\n",
        "def save_file(file_name):\n",
        "  if drive_mounted:\n",
        "    # save the file to the drive folder\n",
        "    file_path = os.path.join(drive_folder, file_name)\n",
        "    # copy the file from the current directory to the drive folder\n",
        "    shutil.copyfile(file_name, file_path)\n",
        "  else:\n",
        "    # do nothing as the file is already in the current directory\n",
        "    pass\n"
      ]
    },
    {
      "cell_type": "code",
      "execution_count": 41,
      "metadata": {
        "colab": {
          "base_uri": "https://localhost:8080/"
        },
        "id": "ecHw2_xlUZhx",
        "outputId": "462a57cd-ee19-4961-d3aa-ff2407b2bde0"
      },
      "outputs": [
        {
          "name": "stdout",
          "output_type": "stream",
          "text": [
            "Couldn't find program: 'echo'\n"
          ]
        }
      ],
      "source": [
        "%%script echo skipping\n",
        "\n",
        "from google.colab import drive\n",
        "drive.mount('/content/drive')"
      ]
    },
    {
      "cell_type": "code",
      "execution_count": 42,
      "metadata": {
        "colab": {
          "base_uri": "https://localhost:8080/"
        },
        "id": "T1rcStMLUZhy",
        "outputId": "7ea7311f-f054-4a29-d0ff-12849095ab6e"
      },
      "outputs": [
        {
          "name": "stdout",
          "output_type": "stream",
          "text": [
            "Couldn't find program: 'echo'\n"
          ]
        }
      ],
      "source": [
        "%%script echo skipping\n",
        "\n",
        "!pip install optuna tensorboard tensorboardX"
      ]
    },
    {
      "attachments": {},
      "cell_type": "markdown",
      "metadata": {},
      "source": [
        "Importing the **libraries** and setting the **device**,"
      ]
    },
    {
      "cell_type": "code",
      "execution_count": 43,
      "metadata": {
        "id": "tREdWQUVUZhz"
      },
      "outputs": [
        {
          "data": {
            "text/plain": [
              "device(type='cpu')"
            ]
          },
          "execution_count": 43,
          "metadata": {},
          "output_type": "execute_result"
        }
      ],
      "source": [
        "import numpy as np\n",
        "import matplotlib.pyplot as plt\n",
        "import torch\n",
        "import torch.nn as nn\n",
        "import torch.optim as optim\n",
        "import torch.nn.functional as F\n",
        "import optuna\n",
        "import tensorboardX as tbx\n",
        "\n",
        "# Checking if GPU is available and setting the device accordingly\n",
        "device = torch.device(\"cuda\" if torch.cuda.is_available() else \"cpu\")\n"
      ]
    },
    {
      "attachments": {},
      "cell_type": "markdown",
      "metadata": {
        "id": "38GvmerjUZhz"
      },
      "source": [
        "### Constants and flags to set\n",
        "Defining some constants and parameters for convenience.\n",
        "\n",
        "**NOTE**: Some **subparameters** still need to be adjusted in the `create_model` function itself as of (Tue May 16 07:42:45 AM CEST 2023) in the case the model is being trained without optimization."
      ]
    },
    {
      "cell_type": "code",
      "execution_count": 44,
      "metadata": {
        "id": "ei6VZDYKUZh0"
      },
      "outputs": [],
      "source": [
        "\n",
        "N_TRIALS = 150 # Number of trials for hyperparameter optimization\n",
        "OPTIMIZE = True # Whether to optimize the hyperparameters or to use predetermined values from Dieseldorst et al..\n",
        "ZSCORE_NORMALIZATION = False # Whether to z-score normalize the input data.\n",
        "\n",
        "# I try out here the values as obtained in Optuna run 5, but I will increase the number of epochs.\n",
        "# N_LAYERS_NO_OPT = 3\n",
        "# N_UNITS_NO_OPT = [78, 193, 99]\n",
        "# HIDDEN_ACTIVATION_NAME_NO_OPT = \"ReLU\"\n",
        "# OUTPUT_ACTIVATION_NAME_NO_OPT = \"Linear\"\n",
        "# LOSS_NAME_NO_OPT = \"MSE\"\n",
        "# OPTIMIZER_NAME_NO_OPT = \"Adam\"\n",
        "# LR_NO_OPT = 0.00036516467819506355\n",
        "# BATCH_SIZE_NO_OPT = 170\n",
        "# N_EPOCHS_NO_OPT = 400\n",
        "# SCHEDULER_NAME_NO_OPT = \"ReduceLROnPlateau\"\n",
        "\n",
        "N_LAYERS_NO_OPT = 3\n",
        "N_UNITS_NO_OPT = [555, 458, 115]\n",
        "HIDDEN_ACTIVATION_NAME_NO_OPT = \"ReLU\"\n",
        "OUTPUT_ACTIVATION_NAME_NO_OPT = \"ReLU\"\n",
        "LOSS_NAME_NO_OPT = \"Huber\"\n",
        "OPTIMIZER_NAME_NO_OPT = \"RMSprop\"\n",
        "LR_NO_OPT = 0.000122770896701404\n",
        "BATCH_SIZE_NO_OPT = 49\n",
        "N_EPOCHS_NO_OPT = 400\n",
        "SCHEDULER_NAME_NO_OPT = \"ReduceLROnPlateau\"\n",
        "\n",
        "c = 1  # Speed of light (used in compute_conserved_variables and sample_primitive_variables functions)\n",
        "Gamma = 5 / 3  # Adiabatic index (used in eos_analytic function)\n",
        "gamma = 1 # Determinant of gamma_ij.\n",
        "n_train_samples = 80000 # Number of training samples (used in generate_input_data and generate_labels functions)\n",
        "n_test_samples = 10000 # Number of test samples (used in generate_input_data and generate_labels functions)\n",
        "# TODO: Make the intervals correspond to something that works in GR in general, for right now (Sun May 21 06:02:10 PM CEST 2023) the intervals are a mix of Dieselhorst et al., the minimum to maximum speed and dummy intervals.\n",
        "rho_interval = (0, 10.1) # Sampling interval for rest-mass density (used in sample_primitive_variables function)\n",
        "epsilon_interval = (0, 2.02) # Sampling interval for specific internal energy (used in sample_primitive_variables function)\n",
        "vx_interval = (0, .57 * c) # Sampling interval for velocity in x-direction (used in sample_primitive_variables function)\n",
        "vy_interval = (0, .57 * c) # Sampling interval for velocity in y-direction (used in sample_primitive_variables function)\n",
        "vz_interval = (0, .57 * c) # Sampling interval for velocity in z-direction (used in sample_primitive_variables function)\n",
        "# TODO: Choose proper sampling intervals for the magnetic fields in all directions.\n",
        "Bx_interval = (0, 1) # Sampling interval for magnetic field in x-direction (used in sample_primitive_variables function)\n",
        "By_interval = (0, 1) # Sampling interval for magnetic field in y-direction (used in sample_primitive_variables function)\n",
        "Bz_interval = (0, 1) # Sampling interval for magnetic field in z-direction (used in sample_primitive_variables function)\n",
        "\n",
        "np.random.seed(42) # Uncomment for pseudorandom data.\n"
      ]
    },
    {
      "cell_type": "markdown",
      "metadata": {
        "id": "dlaP5UL2UZh1"
      },
      "source": [
        "## Generating the data"
      ]
    },
    {
      "cell_type": "code",
      "execution_count": 45,
      "metadata": {
        "id": "s_EvGFZcUZh1"
      },
      "outputs": [],
      "source": [
        "# Defining an analytic equation of state (EOS) for an ideal gas\n",
        "def eos_analytic(rho, epsilon):\n",
        "    \"\"\"Computes the pressure from rest-mass density and specific internal energy using an analytic EOS.\n",
        "\n",
        "    Args:\n",
        "        rho (torch.Tensor): The rest-mass density tensor of shape (n_samples,).\n",
        "        epsilon (torch.Tensor): The specific internal energy tensor of shape (n_samples,).\n",
        "\n",
        "    Returns:\n",
        "        torch.Tensor: The pressure tensor of shape (n_samples,).\n",
        "    \"\"\"\n",
        "    # Adding some assertions to check that the input tensors are valid and have \n",
        "    # the expected shape and type \n",
        "    assert isinstance(rho, torch.Tensor), \"rho must be a torch.Tensor\"\n",
        "    assert isinstance(epsilon, torch.Tensor), \"epsilon must be a torch.Tensor\"\n",
        "    assert rho.shape == epsilon.shape, \"rho and epsilon must have the same shape\"\n",
        "    assert rho.ndim == 1, \"rho and epsilon must be one-dimensional tensors\"\n",
        "    assert rho.dtype == torch.float32, \"rho and epsilon must have dtype torch.float32\"\n",
        "\n",
        "    return (Gamma - 1) * rho * epsilon\n",
        "\n",
        "\n",
        "\n",
        "# Defining a function that samples primitive variables from uniform distributions\n",
        "def sample_primitive_variables(n_samples):\n",
        "    \"\"\"Samples primitive variables from uniform distributions.\n",
        "\n",
        "    Args:\n",
        "        n_samples (int): The number of samples to generate.\n",
        "\n",
        "    Returns:\n",
        "        tuple: A tuple of (rho, epsilon, vx, vy, vz, Bx, By, Bz), where rho is rest-mass density,\n",
        "            rho is the rest mass density,\n",
        "            epsilon is specific internal energy,\n",
        "            vx is velocity in x-direction,\n",
        "            vy is velocity in y-direction,\n",
        "            vz is velocity in z-direction,\n",
        "            Bx is magnetic field in x-direction,\n",
        "            By is magnetic field in y-direction,\n",
        "            Bz is magnetic field in z-direction,\n",
        "            each being a numpy array of shape (n_samples,).\n",
        "    \"\"\"\n",
        "    rho = np.random.uniform(*rho_interval, size=n_samples)  # Rest-mass density\n",
        "    epsilon = np.random.uniform(*epsilon_interval, size=n_samples)  # Specific internal energy\n",
        "    vx = np.random.uniform(*vx_interval, size=n_samples)  # Velocity in x-direction\n",
        "    vy = np.random.uniform(*vy_interval, size=n_samples)  # Velocity in y-direction\n",
        "    vz = np.random.uniform(*vz_interval, size=n_samples)  # Velocity in z-direction \n",
        "    Bx = np.random.uniform(*Bx_interval, size=n_samples)  # Magnetic field in x-direction\n",
        "    By = np.random.uniform(*By_interval, size=n_samples)  # Magnetic field in y-direction\n",
        "    Bz = np.random.uniform(*Bz_interval, size=n_samples)  # Magnetic field in z-direction \n",
        "\n",
        "    # Returning the primitive variables\n",
        "    return rho, epsilon, vx, vy, vz, Bx, By, Bz\n",
        "\n",
        "\n",
        "\n",
        "# Defining a function that computes conserved variables from primitive variables\n",
        "def compute_conserved_variables(rho, epsilon, vx, vy, vz, Bx, By, Bz):\n",
        "    \"\"\"Computes conserved variables from primitive variables.\n",
        "\n",
        "    Args:\n",
        "        rho (torch.Tensor): The rest-mass density tensor of shape (n_samples,).\n",
        "        epsilon (torch.Tensor): The specific internal energy tensor of shape (n_samples,).\n",
        "        vx (torch.Tensor): The velocity in x-direction tensor of shape (n_samples,)\n",
        "        vy (torch.Tensor): The velocity in y-direction tensor of shape (n_samples,)\n",
        "        vz (torch.Tensor): The velocity in z-direction tensor of shape (n_samples,)\n",
        "        Bx (torch.Tensor): The magnetic field in x-direction tensor of shape (n_samples,)\n",
        "        By (torch.Tensor): The magnetic field in y-direction tensor of shape (n_samples,)\n",
        "        Bz (torch.Tensor): The magnetic field in z-direction tensor of shape (n_samples,)\n",
        "\n",
        "    Returns:\n",
        "        tuple: A tuple of (D, Sx, Sy, Sz, tau, Bscriptx, Bscripty, Bscriptz), where\n",
        "            D is conserved density,\n",
        "            Sx is conserved momentum in x-direction,\n",
        "            Sy is conserved momentum in y-direction,\n",
        "            Sz is conserved momentum in z-direction,\n",
        "            tau is conserved energy density,\n",
        "            Bscriptx is conserved magnetic field in x-direction,\n",
        "            Bscripty is conserved magnetic field in y-direction,\n",
        "            Bscriptz is conserved magnetic field in z-direction,\n",
        "            each being a torch tensor of shape (n_samples,).\n",
        "    \"\"\"\n",
        "\n",
        "  # Computing the pressure from the primitive variables using the EOS\n",
        "    p = eos_analytic(rho, epsilon)\n",
        "    # Computing the Lorentz factor from the velocity.\n",
        "    v2 = vx ** 2 + vy ** 2 + vz ** 2\n",
        "    W = 1 / torch.sqrt(1 - v2 / c ** 2)\n",
        "    # Specific enthalpy\n",
        "    h = 1 + epsilon + p / rho  \n",
        "\n",
        "    # Computing the conserved variables from the primitive variables\n",
        "    D = gamma ** 0.5 * rho * W  # Conserved density\n",
        "    Sx = gamma ** 0.5 * rho * h * W ** 2 * vx  # Conserved momentum in x-direction\n",
        "    Sy = gamma ** 0.5 * rho * h * W ** 2 * vy  # Conserved momentum in y-direction\n",
        "    Sz = gamma ** 0.5 * rho * h * W ** 2 * vz  # Conserved momentum in z-direction\n",
        "    tau = gamma ** 0.5 * rho * h * W ** 2 - p - D  # Conserved energy density\n",
        "    Bscriptx = gamma ** 0.5 * Bx\n",
        "    Bscripty = gamma ** 0.5 * By\n",
        "    Bscriptz = gamma ** 0.5 * Bz\n",
        "\n",
        "    # Returning the conserved variables\n",
        "    return D, Sx, Sy, Sz, tau, Bscriptx, Bscripty, Bscriptz\n",
        "\n",
        "# Defining a function that generates input data (conserved variables) from given samples of primitive variables\n",
        "def generate_input_data(rho, epsilon, vx, vy, vz, Bx, By, Bz):\n",
        "    # Converting the numpy arrays to torch tensors and moving them to the device\n",
        "    rho = torch.tensor(rho, dtype=torch.float32).to(device)\n",
        "    epsilon = torch.tensor(epsilon, dtype=torch.float32).to(device)\n",
        "    vx = torch.tensor(vx, dtype=torch.float32).to(device)\n",
        "    vy = torch.tensor(vy, dtype=torch.float32).to(device)\n",
        "    vz = torch.tensor(vz, dtype=torch.float32).to(device)\n",
        "    Bx = torch.tensor(Bx, dtype=torch.float32).to(device)\n",
        "    By = torch.tensor(By, dtype=torch.float32).to(device)\n",
        "    Bz = torch.tensor(Bz, dtype=torch.float32).to(device)\n",
        "\n",
        "    # Computing the conserved variables using the compute_conserved_variables function\n",
        "    D, Sx, Sy, Sz, tau, Bscriptx, Bscripty, Bscriptz = compute_conserved_variables(rho, epsilon, vx, vy, vz, Bx, By, Bz) \n",
        "\n",
        "    # Stacking the conserved variables into a torch tensor\n",
        "    x = torch.stack([D, Sx, Sy, Sz, tau, Bscriptx, Bscripty, Bscriptz], axis=1)\n",
        "\n",
        "    # Returning the input data tensor\n",
        "    return x\n",
        "\n",
        "# Defining a function that generates output data (labels) from given samples of primitive variables\n",
        "def generate_labels(rho, epsilon):\n",
        "    # Converting the numpy arrays to torch tensors and moving them to the device\n",
        "    rho = torch.tensor(rho, dtype=torch.float32).to(device)\n",
        "    epsilon = torch.tensor(epsilon, dtype=torch.float32).to(device)\n",
        "   \n",
        "    # Computing the pressure from the primitive variables using the EOS\n",
        "    p = eos_analytic(rho, epsilon)\n",
        "\n",
        "    # Returning the output data tensor\n",
        "    return p\n"
      ]
    },
    {
      "cell_type": "markdown",
      "metadata": {
        "id": "_dczop2rUZh3"
      },
      "source": [
        "Sampling the primitive variables using the sample_primitive_variables function"
      ]
    },
    {
      "cell_type": "code",
      "execution_count": 46,
      "metadata": {
        "id": "cKubR6C8UZh4"
      },
      "outputs": [],
      "source": [
        "rho_train, epsilon_train, vx_train, vy_train, vz_train, Bx_train, By_train, Bz_train = sample_primitive_variables(n_train_samples)\n",
        "rho_test, epsilon_test, vx_test ,vy_test, vz_test, Bx_test, By_test, Bz_test = sample_primitive_variables(n_test_samples)"
      ]
    },
    {
      "cell_type": "code",
      "execution_count": 47,
      "metadata": {},
      "outputs": [
        {
          "data": {
            "text/plain": [
              "array([0.49120986, 0.07740672, 0.63497677, ..., 0.58679129, 0.37081923,\n",
              "       0.6444907 ])"
            ]
          },
          "execution_count": 47,
          "metadata": {},
          "output_type": "execute_result"
        }
      ],
      "source": [
        "rho_train\n",
        "epsilon_train\n",
        "vx_train\n",
        "vy_train\n",
        "vz_train \n",
        "Bx_train\n",
        "By_train\n",
        "Bz_train\n",
        "rho_test\n",
        "epsilon_test\n",
        "vx_test \n",
        "vy_test \n",
        "vz_test \n",
        "Bx_test\n",
        "By_test\n",
        "Bz_test"
      ]
    },
    {
      "cell_type": "code",
      "execution_count": 48,
      "metadata": {
        "id": "VMp6XJ6RUZh4"
      },
      "outputs": [],
      "source": [
        "%config InteractiveShell.ast_node_interactivity = \"last_expr_or_assign\""
      ]
    },
    {
      "cell_type": "code",
      "execution_count": 50,
      "metadata": {
        "colab": {
          "base_uri": "https://localhost:8080/",
          "height": 409
        },
        "id": "E5YFdqKjUZh5",
        "outputId": "fe67d113-f369-495f-9aba-201c71058eb7"
      },
      "outputs": [
        {
          "data": {
            "image/png": "[encoded data removed]",
            "text/plain": [
              "<Figure size 1600x1200 with 8 Axes>"
            ]
          },
          "metadata": {},
          "output_type": "display_data"
        }
      ],
      "source": [
        "# Plotting the histograms of rho, vx and epsilon\n",
        "plt.figure(figsize=(16, 12))\n",
        "plt.subplot(3, 3, 1) \n",
        "plt.hist(rho_train, bins=20)\n",
        "plt.xlabel(\"rho\")\n",
        "plt.ylabel(\"Frequency\")\n",
        "#plt.yscale(\"log\")\n",
        "plt.subplot(3, 3, 2)\n",
        "plt.hist(epsilon_train, bins=20)\n",
        "plt.xlabel(\"epsilon\")\n",
        "plt.ylabel(\"Frequency\")\n",
        "#plt.yscale(\"log\")  \n",
        "plt.subplot(3, 3, 4)\n",
        "plt.hist(vx_train, bins=20)\n",
        "plt.xlabel(\"vx\")\n",
        "plt.ylabel(\"Frequency\")\n",
        "#plt.yscale(\"log\")\n",
        "plt.subplot(3, 3, 5)\n",
        "plt.hist(vy_train, bins=20)\n",
        "plt.xlabel(\"vy\")\n",
        "plt.ylabel(\"Frequency\") \n",
        "#plt.yscale(\"log\")\n",
        "plt.subplot(3, 3, 6)  \n",
        "plt.hist(vz_train, bins=20)\n",
        "plt.xlabel(\"vz\")\n",
        "plt.ylabel(\"Frequency\")\n",
        "plt.subplot(3, 3, 7)\n",
        "plt.hist(Bx_train, bins=20) \n",
        "plt.xlabel(\"Bx\")\n",
        "plt.ylabel(\"Frequency\")\n",
        "#plt.yscale(\"log\")\n",
        "plt.subplot(3, 3, 8)\n",
        "plt.hist(By_train, bins=20)  \n",
        "plt.xlabel(\"By\")\n",
        "plt.ylabel(\"Frequency\") \n",
        "#plt.yscale(\"log\")\n",
        "plt.subplot(3, 3, 9)  \n",
        "plt.hist(Bz_train, bins=20)\n",
        "plt.xlabel(\"Bz\")\n",
        "plt.ylabel(\"Frequency\")\n",
        "#plt.yscale(\"log\")    \n",
        "plt.suptitle(\"Primitive variables\")\n",
        "plt.tight_layout() \n",
        "plt.show()\n"
      ]
    },
    {
      "cell_type": "code",
      "execution_count": 51,
      "metadata": {},
      "outputs": [],
      "source": [
        "%config InteractiveShell.ast_node_interactivity = \"all\""
      ]
    },
    {
      "cell_type": "code",
      "execution_count": 52,
      "metadata": {
        "colab": {
          "base_uri": "https://localhost:8080/"
        },
        "id": "7ubtOXVgUZh6",
        "outputId": "02dfd20b-5550-4df4-a1c9-e45c8fa0d570"
      },
      "outputs": [],
      "source": [
        "# Generating the input and output data for train and test sets.\n",
        "x_train = generate_input_data(rho_train, epsilon_train, vx_train ,vy_train, vz_train, Bx_train, By_train, Bz_train)\n",
        "y_train = generate_labels(rho_train, epsilon_train) \n",
        "x_test = generate_input_data(rho_test, epsilon_test, vx_test, vy_test, vz_test, Bx_test, By_test, Bz_test)\n",
        "y_test = generate_labels(rho_test, epsilon_test)"
      ]
    },
    {
      "cell_type": "code",
      "execution_count": 53,
      "metadata": {},
      "outputs": [
        {
          "data": {
            "text/plain": [
              "tensor([[4.4964e+00, 1.0638e+01, 8.5936e-01,  ..., 8.8895e-01, 3.6411e-03,\n",
              "         1.9668e-02],\n",
              "        [1.0748e+01, 6.1877e+00, 3.5321e+00,  ..., 3.1571e-01, 6.2124e-01,\n",
              "         1.7906e-01],\n",
              "        [9.0132e+00, 8.7424e+00, 1.7475e+01,  ..., 5.1910e-02, 7.6290e-01,\n",
              "         6.5205e-01],\n",
              "        ...,\n",
              "        [4.7314e+00, 4.9528e-01, 5.5161e+00,  ..., 8.6900e-01, 3.3640e-01,\n",
              "         7.2971e-02],\n",
              "        [1.7447e+00, 2.9513e+00, 2.0496e+00,  ..., 6.2517e-03, 6.9158e-01,\n",
              "         4.3011e-01],\n",
              "        [1.0171e+01, 4.9690e+00, 5.6396e-01,  ..., 5.8452e-01, 8.7035e-01,\n",
              "         4.9227e-01]])"
            ]
          },
          "execution_count": 53,
          "metadata": {},
          "output_type": "execute_result"
        },
        {
          "data": {
            "text/plain": [
              "tensor([4.1679, 1.8785, 9.4231,  ..., 1.5351, 1.3973, 5.9028])"
            ]
          },
          "execution_count": 53,
          "metadata": {},
          "output_type": "execute_result"
        },
        {
          "data": {
            "text/plain": [
              "tensor([[12.9551, 23.1652, 35.9754,  ...,  0.7111,  0.8872,  0.4912],\n",
              "        [ 1.1851,  0.5119,  1.4690,  ...,  0.3630,  0.8705,  0.0774],\n",
              "        [ 7.5300,  1.0955,  4.8529,  ...,  0.9728,  0.0380,  0.6350],\n",
              "        ...,\n",
              "        [12.9126, 15.6394, 24.6037,  ...,  0.9634,  0.8078,  0.5868],\n",
              "        [ 3.2994,  8.7481,  3.4993,  ...,  0.0949,  0.7001,  0.3708],\n",
              "        [ 1.0463,  1.9512,  0.9531,  ...,  0.7434,  0.6575,  0.6445]])"
            ]
          },
          "execution_count": 53,
          "metadata": {},
          "output_type": "execute_result"
        },
        {
          "data": {
            "text/plain": [
              "tensor([9.9743, 0.9298, 7.3359,  ..., 9.2731, 1.7758, 0.4012])"
            ]
          },
          "execution_count": 53,
          "metadata": {},
          "output_type": "execute_result"
        }
      ],
      "source": [
        "x_train\n",
        "y_train\n",
        "x_test\n",
        "y_test"
      ]
    },
    {
      "cell_type": "code",
      "execution_count": 54,
      "metadata": {},
      "outputs": [],
      "source": [
        "%config InteractiveShell.ast_node_interactivity = \"last_expr_or_assign\""
      ]
    },
    {
      "cell_type": "code",
      "execution_count": 55,
      "metadata": {},
      "outputs": [
        {
          "data": {
            "image/png": "[encoded data removed]",
            "text/plain": [
              "<Figure size 1000x1000 with 8 Axes>"
            ]
          },
          "metadata": {},
          "output_type": "display_data"
        }
      ],
      "source": [
        "# Note how we are only plotting train and not test here. \n",
        "# Plotting histograms of the input variables before z-score normalization\n",
        "plt.figure(figsize=(10, 10))\n",
        "plt.suptitle('Histograms of input variables before z-score normalization')\n",
        "for i in range(8):\n",
        "    plt.subplot(4, 2, i+1)\n",
        "    plt.hist(x_train[:, i].cpu(), bins=50) # Must be converted to cpu() for plotting.\n",
        "    plt.xlabel(f'Variable {i}')\n",
        "plt.show()"
      ]
    },
    {
      "cell_type": "code",
      "execution_count": 56,
      "metadata": {},
      "outputs": [
        {
          "name": "stdout",
          "output_type": "stream",
          "text": [
            "Summary statistics of input variables before z-score normalization\n",
            "tensor([[6.4807e-05, 3.1584e+01, 6.3259e+00, 6.1947e+00, 3.8259e+00],\n",
            "        [1.5558e-06, 2.3356e+02, 6.8661e+00, 3.8649e+00, 8.8494e+00],\n",
            "        [8.0852e-06, 2.2956e+02, 6.8454e+00, 3.8460e+00, 8.8175e+00],\n",
            "        [1.6297e-06, 2.3245e+02, 6.8479e+00, 3.8843e+00, 8.7979e+00],\n",
            "        [7.7479e-05, 3.7783e+02, 1.2115e+01, 8.2707e+00, 1.3301e+01],\n",
            "        [2.1510e-05, 9.9999e-01, 5.0109e-01, 5.0323e-01, 2.8845e-01],\n",
            "        [5.1884e-07, 1.0000e+00, 5.0038e-01, 4.9942e-01, 2.8793e-01],\n",
            "        [5.2474e-06, 9.9999e-01, 4.9844e-01, 4.9708e-01, 2.8885e-01]])\n"
          ]
        }
      ],
      "source": [
        "# print('Summary statistics of input variables before z-score normalization')\n",
        "# print(torch.stack([torch.min(x_train, dim=0).values,\n",
        "#                 torch.max(x_train, dim=0).values,\n",
        "#                 torch.mean(x_train, dim=0),\n",
        "#                 torch.median(x_train, dim=0).values,\n",
        "#                 torch.std(x_train, dim=0)], dim=1))\n",
        "\n",
        "# Computing summary statistics of the input variables before and after z-score normalization\n",
        "print('Summary statistics of input variables before z-score normalization')\n",
        "print(torch.stack([torch.min(x_train, dim=0).values, torch.max(x_train, dim=0).values, torch.nanmean(x_train, dim=0), torch.median(x_train, dim=0).values, torch.std(x_train, dim=0)], dim=1))"
      ]
    },
    {
      "cell_type": "markdown",
      "metadata": {
        "id": "xTEmkR1SUZh7"
      },
      "source": [
        "Perform z-score normalization"
      ]
    },
    {
      "cell_type": "code",
      "execution_count": 57,
      "metadata": {},
      "outputs": [],
      "source": [
        "%config InteractiveShell.ast_node_interactivity = \"all\""
      ]
    },
    {
      "cell_type": "code",
      "execution_count": 58,
      "metadata": {
        "id": "yPOv6DxhUZh7"
      },
      "outputs": [],
      "source": [
        "if ZSCORE_NORMALIZATION:\n",
        "    \n",
        "    # TODO: Add magnetic field variables to the normalization if I decide to use the old code that is commented out here.\n",
        "    # # Computing the median of each input variable from the training set using torch.nanmedian function\n",
        "    # D_median = torch.nanmedian(x_train[:, 0])\n",
        "    # Sx_median = torch.nanmedian(x_train[:, 1])\n",
        "    # Sy_median = torch.nanmedian(x_train[:, 2])\n",
        "    # Sz_median = torch.nanmedian(x_train[:, 3])\n",
        "    # tau_median = torch.nanmedian(x_train[:, 4])\n",
        "\n",
        "    # # Computing the standard deviation of each input variable from the training set using torch.std function with a boolean mask to ignore nan values\n",
        "    # D_std = torch.std(x_train[~torch.isnan(x_train[:, 0]), 0])\n",
        "    # Sx_std = torch.std(x_train[~torch.isnan(x_train[:, 1]), 1])\n",
        "    # Sy_std = torch.std(x_train[~torch.isnan(x_train[:, 2]), 2])\n",
        "    # Sz_std = torch.std(x_train[~torch.isnan(x_train[:, 3]), 3])\n",
        "    # tau_std = torch.std(x_train[~torch.isnan(x_train[:, 4]), 4])\n",
        "\n",
        "\n",
        "    # # Applying z-score normalization to both train and test sets using the statistics from the training set\n",
        "    # x_train[:, 0] = torch.sub(x_train[:, 0], D_median).div(D_std)\n",
        "    # x_train[:, 1] = torch.sub(x_train[:, 1], Sx_median).div(Sx_std)\n",
        "    # x_train[:, 2] = torch.sub(x_train[:, 2], Sy_median).div(Sy_std)\n",
        "    # x_train[:, 3] = torch.sub(x_train[:, 3], Sz_median).div(Sz_std)\n",
        "    # x_train[:, 4] = torch.sub(x_train[:, 4], tau_median).div(tau_std)\n",
        "\n",
        "    # x_test[:, 0] = torch.sub(x_test[:, 0], D_median).div(D_std)\n",
        "    # x_test[:, 1] = torch.sub(x_test[:, 1], Sx_median).div(Sx_std)\n",
        "    # x_test[:, 2] = torch.sub(x_test[:, 2], Sy_median).div(Sy_std)\n",
        "    # x_test[:, 3] = torch.sub(x_test[:, 3], Sz_median).div(Sz_std)\n",
        "    # x_test[:, 4] = torch.sub(x_test[:, 4], tau_median).div(tau_std)\n",
        "\n",
        "    # Computing the mean and standard deviation of each column\n",
        "    mean = x_train.mean(dim=0)\n",
        "    std = x_train.std(dim=0)\n",
        "\n",
        "    # Applying z-score normalization\n",
        "    x_train = (x_train - mean) / std\n",
        "    # Use the same mean and std from the training data as we don't want test data leakage.\n",
        "    x_test = (x_test - mean) / std\n",
        "\n"
      ]
    },
    {
      "attachments": {},
      "cell_type": "markdown",
      "metadata": {},
      "source": [
        "Plotting the histograms of the input data after normalization if z-score normalization was performed."
      ]
    },
    {
      "cell_type": "code",
      "execution_count": 59,
      "metadata": {},
      "outputs": [],
      "source": [
        "%config InteractiveShell.ast_node_interactivity = \"last_expr_or_assign\""
      ]
    },
    {
      "cell_type": "code",
      "execution_count": 60,
      "metadata": {},
      "outputs": [],
      "source": [
        "if ZSCORE_NORMALIZATION: \n",
        "    # Note how we are only plotting train and not test here.\n",
        "    # Plotting histograms of the input variables after z-score normalization\n",
        "    plt.figure(figsize=(10, 10))\n",
        "    plt.suptitle('Histograms of input variables before z-score normalization')\n",
        "    for i in range(8):\n",
        "        plt.subplot(4, 2, i+1)\n",
        "        plt.hist(x_train[:, i].cpu(), bins=50) # Must be converted to cpu() for plotting.\n",
        "        plt.xlabel(f'Variable {i}')\n",
        "    plt.show()"
      ]
    },
    {
      "cell_type": "code",
      "execution_count": 61,
      "metadata": {},
      "outputs": [],
      "source": [
        "if ZSCORE_NORMALIZATION:\n",
        "    # print('Summary statistics of input variables after z-score normalization')\n",
        "    # print(torch.stack([torch.min(x_train, dim=0).values,\n",
        "    #                 torch.max(x_train, dim=0).values,\n",
        "    #                 torch.mean(x_train, dim=0),\n",
        "    #                 torch.median(x_train, dim=0).values,\n",
        "    #                 torch.std(x_train, dim=0)], dim=1))\n",
        "    # Computing summary statistics of the input variables after z-score normalization\n",
        "    print('Summary statistics of input variables after z-score normalization')\n",
        "    print(torch.stack([torch.min(x_train, dim=0).values, torch.max(x_train, dim=0).values, torch.mean(x_train, dim=0), torch.median(x_train, dim=0).values, torch.std(x_train, dim=0)], dim=1))\n"
      ]
    },
    {
      "cell_type": "markdown",
      "metadata": {
        "colab": {
          "base_uri": "https://localhost:8080/",
          "height": 407
        },
        "id": "E96p_MsOUZh9",
        "outputId": "4b95bad0-8f3a-4364-eed1-008e0ce2a5e3"
      },
      "source": [
        "Checking if our output is always positive by plotting a histogram of y_train and y_test tensors "
      ]
    },
    {
      "cell_type": "code",
      "execution_count": 62,
      "metadata": {},
      "outputs": [
        {
          "data": {
            "image/png": "[encoded data removed]",
            "text/plain": [
              "<Figure size 800x400 with 2 Axes>"
            ]
          },
          "metadata": {},
          "output_type": "display_data"
        }
      ],
      "source": [
        "# Note how we are only plotting train.\n",
        "plt.figure(figsize=(8, 4))\n",
        "plt.subplot(1, 2, 1)\n",
        "plt.hist(y_train.cpu().numpy(), bins=20) # must be cpu here.\n",
        "plt.xlabel(\"y_train\")\n",
        "plt.ylabel(\"Frequency\")\n",
        "plt.yscale(\"log\")\n",
        "plt.subplot(1, 2, 2)\n",
        "plt.hist(y_test.cpu().numpy(), bins=20) # must be cpu here\n",
        "plt.xlabel(\"y_test\")\n",
        "plt.ylabel(\"Frequency\")\n",
        "plt.yscale(\"log\")\n",
        "plt.tight_layout()\n",
        "plt.show()\n"
      ]
    },
    {
      "cell_type": "code",
      "execution_count": 63,
      "metadata": {
        "id": "FEgjk--AUZh9"
      },
      "outputs": [],
      "source": [
        "%config InteractiveShell.ast_node_interactivity = \"all\""
      ]
    },
    {
      "cell_type": "markdown",
      "metadata": {
        "id": "r2b9GecHUZh9"
      },
      "source": [
        "## Defining the neural network"
      ]
    },
    {
      "cell_type": "code",
      "execution_count": 10,
      "metadata": {
        "id": "Iv8HA-ZXUZh-"
      },
      "outputs": [],
      "source": [
        "# Defining a class for the network\n",
        "class Net(nn.Module):\n",
        "    \"\"\"A class for creating a network with a\n",
        "    variable number of hidden layers and units.\n",
        "\n",
        "    Attributes:\n",
        "        n_layers (int): The number of hidden layers in the network.\n",
        "        n_units (list): A list of integers representing the number of units in each hidden layer.\n",
        "        hidden_activation (torch.nn.Module): The activation function for the hidden layers.\n",
        "        output_activation (torch.nn.Module): The activation function for the output layer.\n",
        "        layers (torch.nn.ModuleList): A list of linear layers in the network.\n",
        "    \"\"\"\n",
        "\n",
        "    def __init__(self, n_layers, n_units, hidden_activation, output_activation):\n",
        "        \"\"\"Initializes the network with the given hyperparameters.\n",
        "\n",
        "        Args:\n",
        "            n_layers (int): The number of hidden layers in the network.\n",
        "            n_units (list): A list of integers representing the number of units in each hidden layer.\n",
        "            hidden_activation (torch.nn.Module): The activation function for the hidden layers.\n",
        "            output_activation (torch.nn.Module): The activation function for the output layer.\n",
        "        \"\"\"\n",
        "        super().__init__()\n",
        "        self.n_layers = n_layers\n",
        "        self.n_units = n_units\n",
        "        self.hidden_activation = hidden_activation\n",
        "        self.output_activation = output_activation\n",
        "\n",
        "        # Creating a list of linear layers with different numbers of units for each layer\n",
        "        self.layers = nn.ModuleList([nn.Linear(8, n_units[0])])\n",
        "        for i in range(1, n_layers):\n",
        "            self.layers.append(nn.Linear(n_units[i - 1], n_units[i]))\n",
        "        self.layers.append(nn.Linear(n_units[-1], 1))\n",
        "\n",
        "        # Adding some assertions to check that the input arguments are valid\n",
        "        assert isinstance(n_layers, int) and n_layers > 0, \"n_layers must be a positive integer\"\n",
        "        assert isinstance(n_units, list) and len(n_units) == n_layers, \"n_units must be a list of length n_layers\"\n",
        "        assert all(isinstance(n, int) and n > 0 for n in n_units), \"n_units must contain positive integers\"\n",
        "        assert isinstance(hidden_activation, nn.Module), \"hidden_activation must be a torch.nn.Module\"\n",
        "        assert isinstance(output_activation, nn.Module), \"output_activation must be a torch.nn.Module\"\n",
        "\n",
        "    def forward(self, x):\n",
        "        \"\"\"Performs a forward pass on the input tensor.\n",
        "\n",
        "        Args:\n",
        "            x (torch.Tensor): The input tensor of shape (batch_size, 5).\n",
        "\n",
        "        Returns:\n",
        "            torch.Tensor: The output tensor of shape (batch_size, 1).\n",
        "        \"\"\"\n",
        "        # Adding an assertion to check that the input tensor has the expected shape and type\n",
        "        assert isinstance(x, torch.Tensor), \"x must be a torch.Tensor\"\n",
        "        assert x.shape[1] == 8, \"x must have shape (batch_size, 5)\"\n",
        "\n",
        "        # Looping over the hidden layers and applying the linear transformation and the activation function\n",
        "        for layer in self.layers[:-1]:\n",
        "            x = self.hidden_activation(layer(x))\n",
        "        # Applying the linear transformation and the activation function on the output layer\n",
        "        x = self.output_activation(self.layers[-1](x))\n",
        "\n",
        "        # Returning the output tensor\n",
        "        return x\n"
      ]
    },
    {
      "cell_type": "markdown",
      "metadata": {
        "id": "6GNvp55PUZh_"
      },
      "source": [
        "## Defining the model and search space"
      ]
    },
    {
      "cell_type": "code",
      "execution_count": 142,
      "metadata": {
        "id": "9a1opluOUZh_"
      },
      "outputs": [],
      "source": [
        "# Defining a function to create a trial network and optimizer\n",
        "def create_model(trial, optimize):\n",
        "    \"\"\"Creates a trial network and optimizer based on the sampled hyperparameters.\n",
        "\n",
        "    Args:\n",
        "        trial (optuna.trial.Trial): The trial object that contains the hyperparameters.\n",
        "        optimize (boolean): Whether to optimize the hyperparameters or to use predefined values.\n",
        "\n",
        "    Returns:\n",
        "        tuple: A tuple of (net, loss_fn, optimizer, batch_size, n_epochs,\n",
        "            scheduler, loss_name, optimizer_name, scheduler_name,\n",
        "            n_units, n_layers, hidden_activation, output_activation),\n",
        "            where net is the trial network,\n",
        "            loss_fn is the loss function,\n",
        "            optimizer is the optimizer,\n",
        "            batch_size is the batch size,\n",
        "            n_epochs is the number of epochs,\n",
        "            scheduler is the learning rate scheduler,\n",
        "            loss_name is the name of the loss function,\n",
        "            optimizer_name is the name of the optimizer,\n",
        "            scheduler_name is the name of the scheduler,\n",
        "            n_units is a list of integers representing\n",
        "            the number of units in each hidden layer,\n",
        "            n_layers is an integer representing the number of hidden layers in the network,\n",
        "            hidden_activation is a torch.nn.Module representing the activation function for the hidden layers,\n",
        "            output_activation is a torch.nn.Module representing the activation function for the output layer,\n",
        "            lr is the (initial) learning rate.\n",
        "    \"\"\"\n",
        "    # If optimize is True, sample the hyperparameters from the search space\n",
        "    if optimize:\n",
        "        # Sampling the hyperparameters from the search space\n",
        "        n_layers = trial.suggest_int(\"n_layers\", 2, 6)\n",
        "        n_units = [trial.suggest_int(f\"n_units_{i}\", 16, 2048) for i in range(n_layers)] \n",
        "        hidden_activation_name = trial.suggest_categorical(\n",
        "            #\"hidden_activation\", [\"ReLU\", \"LeakyReLU\", \"ELU\", \"Tanh\", \"Sigmoid\"]\n",
        "            #\"hidden_activation\", [\"ReLU\", \"LeakyReLU\"]\n",
        "            \"hidden_activation\", [\"ReLU\", \"LeakyReLU\", \"ELU\"]\n",
        "        )\n",
        "        output_activation_name = trial.suggest_categorical(\n",
        "            #\"output_activation\", [\"Linear\", \"ReLU\", \"Softplus\"]\n",
        "            # Assuming pressure cannot be negative, linear output activation is not an option.\n",
        "            #\"output_activation\", [\"ReLU\", \"Softplus\", \"Linear\"]\n",
        "            \"output_activation\", [\"ReLU\", \"Linear\"]\n",
        "        ) \n",
        "        loss_name = trial.suggest_categorical(\n",
        "            #\"loss\", [\"MSE\", \"MAE\", \"Huber\", \"LogCosh\"] \n",
        "            \"loss\", [\"MSE\", \"MAE\", \"Huber\"] \n",
        "        )\n",
        "        optimizer_name = trial.suggest_categorical(\n",
        "            \"optimizer\", [\"Adam\", \"SGD\", \"RMSprop\", \"Adagrad\"] \n",
        "        )\n",
        "        lr = trial.suggest_loguniform(\"lr\", 1e-4, 1e-2) \n",
        "\n",
        "        batch_size_list = [32, 48, 64, 96, 128, 256, 512, 1048]\n",
        "        batch_size = trial.suggest_categorical(\"batch_size\", batch_size_list)\n",
        "        #batch_size = trial.suggest_int(\"batch_size\", 64, 1048)\n",
        "        n_epochs = trial.suggest_int(\"n_epochs\", 100, 300) \n",
        "        scheduler_name = trial.suggest_categorical(\n",
        "            \"scheduler\",\n",
        "            # [\"None\", \"CosineAnnealingLR\", \"ReduceLROnPlateau\", \"StepLR\", \"ExponentialLR\"],\n",
        "            [\"CosineAnnealingLR\", \"ReduceLROnPlateau\", \"StepLR\"],\n",
        "        )\n",
        "\n",
        "    # If optimize is False, use the predefined values\n",
        "    else:\n",
        "        # Setting the hyperparameters to the predefined values\n",
        "        n_layers = N_LAYERS_NO_OPT\n",
        "        n_units = N_UNITS_NO_OPT\n",
        "        hidden_activation_name = HIDDEN_ACTIVATION_NAME_NO_OPT\n",
        "        output_activation_name = OUTPUT_ACTIVATION_NAME_NO_OPT\n",
        "        loss_name = LOSS_NAME_NO_OPT\n",
        "        optimizer_name = OPTIMIZER_NAME_NO_OPT\n",
        "        lr = LR_NO_OPT\n",
        "        batch_size = BATCH_SIZE_NO_OPT\n",
        "        n_epochs = N_EPOCHS_NO_OPT\n",
        "        scheduler_name = SCHEDULER_NAME_NO_OPT\n",
        "\n",
        "\n",
        "    # Creating the activation functions from their names\n",
        "    if hidden_activation_name == \"ReLU\":\n",
        "        hidden_activation = nn.ReLU()\n",
        "    elif hidden_activation_name == \"LeakyReLU\":\n",
        "        hidden_activation = nn.LeakyReLU() \n",
        "    elif hidden_activation_name == \"ELU\":\n",
        "        hidden_activation = nn.ELU() \n",
        "    elif hidden_activation_name == \"Tanh\":\n",
        "        hidden_activation = nn.Tanh()\n",
        "    else:\n",
        "        hidden_activation = nn.Sigmoid()\n",
        "\n",
        "    if output_activation_name == \"ReLU\":\n",
        "        output_activation = nn.ReLU()\n",
        "    elif output_activation_name == \"Softplus\":\n",
        "        output_activation = nn.Softplus()\n",
        "    else:\n",
        "        output_activation = nn.Identity()\n",
        "\n",
        "    # Creating the loss function from its name\n",
        "    if loss_name == \"MSE\":\n",
        "        loss_fn = nn.MSELoss()\n",
        "    elif loss_name == \"MAE\":\n",
        "        loss_fn = nn.L1Loss()\n",
        "    elif loss_name == \"Huber\":\n",
        "        loss_fn = nn.SmoothL1Loss() \n",
        "    else:\n",
        "        # Creating the log-cosh loss function\n",
        "        def log_cosh_loss(y_pred, y_true):\n",
        "            return torch.mean(torch.log(torch.cosh(y_pred - y_true)))\n",
        "            \n",
        "        loss_fn = log_cosh_loss\n",
        "\n",
        "    # Creating the network with the sampled hyperparameters\n",
        "    net = Net(\n",
        "        n_layers, n_units, hidden_activation, output_activation\n",
        "    ).to(device)\n",
        "\n",
        "    if optimize:\n",
        "        # Creating the optimizer from its name\n",
        "        if optimizer_name == \"SGD\":\n",
        "            # Added sampling the weight decay and momentum for SGD\n",
        "            weight_decay = trial.suggest_loguniform(\"weight_decay\", 1e-5, 1e-2)\n",
        "            momentum = trial.suggest_uniform(\"momentum\", 0.0, 0.99)\n",
        "            optimizer = optim.SGD(net.parameters(), lr=lr, weight_decay=weight_decay, momentum=momentum)\n",
        "        elif optimizer_name == \"Adam\":\n",
        "            # Added sampling the weight decay and beta parameters for Adam\n",
        "            weight_decay = trial.suggest_loguniform(\"weight_decay\", 1e-5, 1e-2)\n",
        "            beta1 = trial.suggest_uniform(\"beta1\", 0.9, 0.999)\n",
        "            beta2 = trial.suggest_uniform(\"beta2\", 0.999, 0.9999)\n",
        "            optimizer = optim.Adam(net.parameters(), lr=lr, weight_decay=weight_decay, betas=(beta1, beta2))\n",
        "        elif optimizer_name == \"RMSprop\":\n",
        "            optimizer = optim.RMSprop(net.parameters(), lr=lr)\n",
        "        else:\n",
        "            # Added creating the Adagrad optimizer\n",
        "            optimizer = optim.Adagrad(net.parameters(), lr=lr)\n",
        "\n",
        "        # Creating the learning rate scheduler from its name\n",
        "        if scheduler_name == \"StepLR\":\n",
        "            step_size = trial.suggest_int(\"step_size\", 5, 15)\n",
        "            gamma = trial.suggest_uniform(\"gamma\", 0.1, 0.5)\n",
        "            scheduler = optim.lr_scheduler.StepLR(optimizer, step_size=step_size, gamma=gamma)\n",
        "        elif scheduler_name == \"ExponentialLR\":\n",
        "            gamma = trial.suggest_uniform(\"gamma\", 0.8, 0.99)\n",
        "            scheduler = optim.lr_scheduler.ExponentialLR(optimizer, gamma=gamma)\n",
        "        elif scheduler_name == \"CosineAnnealingLR\":\n",
        "            if n_epochs < 150:\n",
        "                t_max_fraction = trial.suggest_uniform('t_max_fraction', 0.1, 0.3)\n",
        "            elif n_epochs > 250:\n",
        "                t_max_fraction = trial.suggest_uniform('t_max_fraction', 0.05, 0.1)\n",
        "            else:\n",
        "                t_max_fraction = trial.suggest_uniform('t_max_fraction', 0.1, 0.2)\n",
        "\n",
        "            T_max = int(n_epochs * t_max_fraction)\n",
        "            eta_min = trial.suggest_loguniform(\"eta_min\", 1e-7, 1e-2)\n",
        "            scheduler = optim.lr_scheduler.CosineAnnealingLR(optimizer, T_max=T_max, eta_min=eta_min)\n",
        "        elif scheduler_name == \"ReduceLROnPlateau\":\n",
        "            # Added sampling the factor, patience and threshold for ReduceLROnPlateau\n",
        "            factor = trial.suggest_uniform(\"factor\", 0.1, 0.5)\n",
        "            patience = trial.suggest_int(\"patience\", 5, 10)\n",
        "            threshold = trial.suggest_loguniform(\"threshold\", 1e-4, 1e-2)\n",
        "            scheduler = optim.lr_scheduler.ReduceLROnPlateau(\n",
        "                optimizer, mode=\"min\", factor=factor, patience=patience, threshold=threshold\n",
        "            )\n",
        "        # # Added using OneCycleLR scheduler as an option\n",
        "        # elif scheduler_name == \"OneCycleLR\":\n",
        "        #         # Added sampling the max_lr and pct_start for OneCycleLR\n",
        "        #         max_lr = trial.suggest_loguniform(\"max_lr\", lr, 10 * lr) \n",
        "        #         pct_start = trial.suggest_uniform(\"pct_start\", 0.1, 0.9)\n",
        "        #         scheduler = optim.lr_scheduler.OneCycleLR(\n",
        "        #             optimizer,\n",
        "        #             max_lr=max_lr,\n",
        "        #             epochs=n_epochs,\n",
        "        #             steps_per_epoch=len(train_loader),\n",
        "        #             pct_start=pct_start,\n",
        "        #         )\n",
        "        else:\n",
        "            scheduler = None\n",
        "    else:\n",
        "        # Creating the optimizer from its name\n",
        "        if optimizer_name == \"SGD\":\n",
        "            optimizer = optim.SGD(net.parameters(), lr=lr)\n",
        "        elif optimizer_name == \"Adam\":\n",
        "            optimizer = optim.Adam(net.parameters(), lr=lr)\n",
        "        elif optimizer_name == \"RMSprop\":\n",
        "            optimizer = optim.RMSprop(net.parameters(), lr=lr)\n",
        "        else:\n",
        "            optimizer = optim.Adagrad(net.parameters(), lr=lr)\n",
        "\n",
        "        # Creating the learning rate scheduler from its name\n",
        "        if scheduler_name == \"StepLR\":\n",
        "            scheduler = optim.lr_scheduler.StepLR(optimizer, step_size=10, gamma=0.1)\n",
        "        elif scheduler_name == \"ExponentialLR\":\n",
        "            scheduler = optim.lr_scheduler.ExponentialLR(optimizer, gamma=0.9)\n",
        "        elif scheduler_name == \"CosineAnnealingLR\":\n",
        "            scheduler = optim.lr_scheduler.CosineAnnealingLR(optimizer)\n",
        "        elif scheduler_name == \"ReduceLROnPlateau\":\n",
        "            # Creating the ReduceLROnPlateau scheduler with a threshold value of 0.01\n",
        "            #scheduler = optim.lr_scheduler.ReduceLROnPlateau(\n",
        "            #    optimizer, mode=\"min\", factor=0.1, patience=10, threshold=0.01\n",
        "            #)\n",
        "            # Use Dieseldorst et al. settings and add to that a minimum lr.\n",
        "            scheduler = optim.lr_scheduler.ReduceLROnPlateau(\n",
        "                        optimizer, mode=\"min\", factor=0.18979341786654758, patience=11, threshold=0.0017197466122611932 #, min_lr=1e-6\n",
        "                    )\n",
        "        else:\n",
        "            scheduler = None\n",
        "\n",
        "    # Returning all variables needed for saving and loading\n",
        "    return net, loss_fn, optimizer, batch_size, n_epochs, scheduler, loss_name, optimizer_name, scheduler_name, n_units, n_layers, hidden_activation, output_activation, lr\n",
        "\n"
      ]
    },
    {
      "cell_type": "markdown",
      "metadata": {
        "id": "l-czA7VvUZiD"
      },
      "source": [
        " ## The training and evaluation loop\n",
        "\n",
        " We first define a couple of functions used in the training and evaluation."
      ]
    },
    {
      "cell_type": "code",
      "execution_count": 143,
      "metadata": {
        "id": "aD6FQNmxUZiD"
      },
      "outputs": [],
      "source": [
        "# Defining a function that computes loss and metrics for a given batch\n",
        "def compute_loss_and_metrics(y_pred, y_true, loss_fn):\n",
        "    \"\"\"Computes loss and metrics for a given batch.\n",
        "\n",
        "    Args:\n",
        "        y_pred (torch.Tensor): The predicted pressure tensor of shape (batch_size, 1).\n",
        "        y_true (torch.Tensor): The true pressure tensor of shape (batch_size,).\n",
        "        loss_fn (torch.nn.Module or function): The loss function to use.\n",
        "\n",
        "    Returns:\n",
        "        tuple: A tuple of (loss, l1_norm), where loss is a scalar tensor,\n",
        "            l1_norm is L1 norm for relative error of pressure,\n",
        "            each being a scalar tensor.\n",
        "            linf_norm is Linf norm for relative error of pressure.\n",
        "    \"\"\"\n",
        "    # Reshaping the target tensor to match the input tensor\n",
        "    y_true = y_true.view(-1, 1)\n",
        "\n",
        "    # Computing the loss using the loss function\n",
        "    loss = loss_fn(y_pred, y_true)\n",
        "\n",
        "    # Computing the relative error of pressure\n",
        "    rel_error = torch.abs((y_pred - y_true) / y_true)\n",
        "\n",
        "    # Computing the L1 norm for the relative error of pressure\n",
        "    l1_norm = torch.mean(rel_error) \n",
        "    # Computing the Linf norm for the relative error of pressure\n",
        "    linf_norm = torch.max(rel_error) \n",
        "\n",
        "    # Returning the loss and metrics\n",
        "    return loss, l1_norm, linf_norm\n",
        "\n",
        "\n",
        "# Defining a function that updates the learning rate scheduler with validation loss if applicable\n",
        "def update_scheduler(scheduler, test_loss):\n",
        "    \"\"\"Updates the learning rate scheduler with validation loss if applicable.\n",
        "\n",
        "    Args:\n",
        "        scheduler (torch.optim.lr_scheduler._LRScheduler or None): The learning rate scheduler to use.\n",
        "        test_loss (float): The validation loss to use.\n",
        "\n",
        "    Returns:\n",
        "        None\n",
        "    \"\"\"\n",
        "    # Checking if scheduler is not None\n",
        "    if scheduler is not None:\n",
        "        # Checking if scheduler is ReduceLROnPlateau\n",
        "        if isinstance(scheduler, optim.lr_scheduler.ReduceLROnPlateau):\n",
        "            # Updating the scheduler with test_loss\n",
        "            scheduler.step(test_loss)\n",
        "        else:\n",
        "            # Updating the scheduler without test_loss\n",
        "            scheduler.step()\n"
      ]
    },
    {
      "cell_type": "markdown",
      "metadata": {
        "id": "w1nE662UUZiE"
      },
      "source": [
        "Now for the actual training and evaluation loop,"
      ]
    },
    {
      "cell_type": "code",
      "execution_count": 144,
      "metadata": {
        "id": "YAOjgKW3UZiF"
      },
      "outputs": [],
      "source": [
        "# Defining a function to train and evaluate a network\n",
        "def train_and_eval(net, loss_fn, optimizer, batch_size, n_epochs, scheduler, trial=None):\n",
        "    \"\"\"Trains and evaluates a network.\n",
        "\n",
        "    Args:\n",
        "        net (torch.nn.Module): The network to train and evaluate.\n",
        "        loss_fn (torch.nn.Module or function): The loss function.\n",
        "        optimizer (torch.optim.Optimizer): The optimizer.\n",
        "        batch_size (int): The batch size.\n",
        "        n_epochs (int): The number of epochs.\n",
        "        scheduler (torch.optim.lr_scheduler._LRScheduler or None): The learning rate scheduler.\n",
        "    Returns:\n",
        "        tuple: A tuple of (train_losses, test_losses, train_metrics, test_metrics), where\n",
        "            train_losses is a list of training losses for each epoch,\n",
        "            test_losses is a list of validation losses for each epoch,\n",
        "            train_metrics is a list of dictionaries containing training metrics for each epoch,\n",
        "            test_metrics is a list of dictionaries containing validation metrics for each epoch.\n",
        "    \"\"\"\n",
        "    # Creating data loaders for train and test sets\n",
        "    train_loader = torch.utils.data.DataLoader(\n",
        "        torch.utils.data.TensorDataset(x_train, y_train), batch_size=batch_size, shuffle=True\n",
        "    )\n",
        "    test_loader = torch.utils.data.DataLoader(\n",
        "        torch.utils.data.TensorDataset(x_test, y_test), batch_size=batch_size\n",
        "    )\n",
        "\n",
        "    # Initializing lists to store the losses and metrics for each epoch\n",
        "    train_losses = []\n",
        "    test_losses = []\n",
        "    train_metrics = []\n",
        "    test_metrics = []\n",
        "\n",
        "    # Creating a SummaryWriter object to log data for tensorboard\n",
        "    writer = tbx.SummaryWriter()\n",
        "\n",
        "    # Looping over the epochs\n",
        "    for epoch in range(n_epochs):\n",
        "\n",
        "        # Setting the network to training mode\n",
        "        net.train()\n",
        "\n",
        "        # Initializing variables to store the total loss and metrics for the train set\n",
        "        train_loss = 0.0\n",
        "        train_l1_norm = 0.0\n",
        "        train_linf_norm = 0.0\n",
        "\n",
        "        # Looping over the batches in the train set\n",
        "        for x_batch, y_batch in train_loader:\n",
        "\n",
        "            # Moving the batch tensors to the device\n",
        "            x_batch = x_batch.to(device)\n",
        "            y_batch = y_batch.to(device)\n",
        "\n",
        "            # Zeroing the gradients\n",
        "            optimizer.zero_grad()\n",
        "\n",
        "            # Performing a forward pass and computing the loss and metrics\n",
        "            y_pred = net(x_batch)\n",
        "            loss, l1_norm, linf_norm = compute_loss_and_metrics(\n",
        "                y_pred, y_batch, loss_fn\n",
        "            )\n",
        "\n",
        "\n",
        "            # Performing a backward pass and updating the weights\n",
        "            loss.backward()\n",
        "            optimizer.step()\n",
        "\n",
        "            # Updating the total loss and metrics for the train set\n",
        "            train_loss += loss.item() * x_batch.size(0)\n",
        "            train_l1_norm += l1_norm.item() * x_batch.size(0)\n",
        "            train_linf_norm += linf_norm.item() * x_batch.size(0)\n",
        "\n",
        "        # Computing the average loss and metrics for the train set\n",
        "        train_loss /= len(train_loader.dataset)\n",
        "        train_l1_norm /= len(train_loader.dataset)\n",
        "        train_linf_norm /= len(train_loader.dataset)\n",
        "\n",
        "        # Appending the average loss and metrics for the train set to the lists\n",
        "        train_losses.append(train_loss)\n",
        "        train_metrics.append(\n",
        "            {\n",
        "                \"l1_norm\": train_l1_norm,\n",
        "                \"linf_norm\": train_linf_norm,\n",
        "            }\n",
        "        )\n",
        "\n",
        "        # Logging the average loss and metrics for the train set to tensorboard\n",
        "        writer.add_scalar(\"Loss/train\", train_loss, epoch)\n",
        "        writer.add_scalar(\"L1 norm/train\", train_l1_norm, epoch)\n",
        "        writer.add_scalar(\"Linf norm/train\", train_linf_norm, epoch)\n",
        "\n",
        "        # Setting the network to evaluation mode\n",
        "        net.eval()\n",
        "\n",
        "        # Initializing variables to store the total loss and metrics for the test set\n",
        "        test_loss = 0.0\n",
        "        test_l1_norm = 0.0\n",
        "        test_linf_norm = 0.0\n",
        "\n",
        "        # Looping over the batches in the test set\n",
        "        with torch.no_grad():\n",
        "            for x_batch, y_batch in test_loader:\n",
        "\n",
        "                # Moving the batch tensors to the device\n",
        "                x_batch = x_batch.to(device)\n",
        "                y_batch = y_batch.to(device)\n",
        "\n",
        "                # Performing a forward pass and computing the loss and metrics\n",
        "                y_pred = net(x_batch)\n",
        "                loss, l1_norm, linf_norm = compute_loss_and_metrics(\n",
        "                    y_pred, y_batch, loss_fn\n",
        "                )\n",
        "\n",
        "\n",
        "                # Updating the total loss and metrics for the test set\n",
        "                test_loss += loss.item() * x_batch.size(0)\n",
        "                test_l1_norm += l1_norm.item() * x_batch.size(0)\n",
        "                test_linf_norm += linf_norm.item() * x_batch.size(0)\n",
        "\n",
        "        # Computing the average loss and metrics for the test set\n",
        "        test_loss /= len(test_loader.dataset)\n",
        "        test_l1_norm /= len(test_loader.dataset)\n",
        "        test_linf_norm /= len(test_loader.dataset)\n",
        "\n",
        "        # Appending the average loss and metrics for the test set to the lists\n",
        "        test_losses.append(test_loss)\n",
        "        test_metrics.append(\n",
        "            {\n",
        "                \"l1_norm\": test_l1_norm,\n",
        "                \"linf_norm\": test_linf_norm,\n",
        "            }\n",
        "        )\n",
        "\n",
        "        # Logging the average loss and metrics for the test set to tensorboard\n",
        "        writer.add_scalar(\"Loss/test\", test_loss, epoch)\n",
        "        writer.add_scalar(\"L1 norm/test\", test_l1_norm, epoch)\n",
        "        writer.add_scalar(\"Linf norm/test\", test_linf_norm, epoch)\n",
        "\n",
        "        # Printing the average loss and metrics for both sets for this epoch\n",
        "        print(\n",
        "            f\"Epoch {epoch + 1}: Train Loss: {train_loss:.4f}, Test Loss: {test_loss:.4f}, \"\n",
        "            f\"Train L1 Norm: {train_l1_norm:.4f}, Test L1 Norm: {test_l1_norm:.4f}, \"\n",
        "            f\"Train Linf Norm: {train_linf_norm:.4f}, Test Linf Norm: {test_linf_norm:.4f}\"\n",
        "        )\n",
        "\n",
        "        # Updating the learning rate scheduler with validation loss if applicable\n",
        "        update_scheduler(scheduler, test_loss)\n",
        "\n",
        "        # Reporting the intermediate metric value to Optuna if trial is not None\n",
        "        if trial is not None:\n",
        "            trial.report(test_metrics[-1][\"l1_norm\"], epoch)\n",
        "\n",
        "            # Checking if the trial should be pruned based on the intermediate value if trial is not None\n",
        "            if trial.should_prune():\n",
        "                raise optuna.TrialPruned()\n",
        "\n",
        "    # Closing the SummaryWriter object\n",
        "    writer.close()\n",
        "\n",
        "    # Returning the losses and metrics lists\n",
        "    return train_losses, test_losses, train_metrics, test_metrics"
      ]
    },
    {
      "cell_type": "markdown",
      "metadata": {
        "id": "xg9jz0SvUZiQ"
      },
      "source": [
        "## The objective function and hyperparameter tuning"
      ]
    },
    {
      "cell_type": "code",
      "execution_count": 145,
      "metadata": {
        "id": "fmRncQPuUZiR"
      },
      "outputs": [],
      "source": [
        "# Defining an objective function for Optuna to minimize\n",
        "def objective(trial):\n",
        "    \"\"\"Defines an objective function for Optuna to minimize.\n",
        "\n",
        "    Args:\n",
        "        trial (optuna.trial.Trial): The trial object that contains the hyperparameters.\n",
        "\n",
        "    Returns:\n",
        "        float: The validation L1 norm to minimize.\n",
        "    \"\"\"\n",
        "    # Creating a trial network and optimizer using the create_model function\n",
        "    net, \\\n",
        "    loss_fn, \\\n",
        "    optimizer, \\\n",
        "    batch_size, \\\n",
        "    n_epochs, \\\n",
        "    scheduler, \\\n",
        "    loss_name, \\\n",
        "    optimizer_name, \\\n",
        "    scheduler_name, \\\n",
        "    n_units, \\\n",
        "    n_layers, \\\n",
        "    hidden_activation, \\\n",
        "    output_activation, \\\n",
        "    lr = create_model(trial, optimize=True)\n",
        "\n",
        "    # Training and evaluating the network using the train_and_eval function\n",
        "    _, _, _, test_metrics = train_and_eval(\n",
        "        net, loss_fn, optimizer, batch_size, n_epochs, scheduler, trial\n",
        "    )\n",
        "\n",
        "    # Returning the last validation L1 norm as the objective value to minimize\n",
        "    return test_metrics[-1][\"l1_norm\"]"
      ]
    },
    {
      "cell_type": "code",
      "execution_count": 146,
      "metadata": {
        "id": "GyES4NAyUZiS"
      },
      "outputs": [],
      "source": [
        "if OPTIMIZE:\n",
        "    # Creating a study object with Optuna with TPE sampler and median pruner \n",
        "    study = optuna.create_study(direction=\"minimize\", sampler=optuna.samplers.TPESampler(), pruner=optuna.pruners.MedianPruner())\n",
        "\n",
        "    # Running Optuna with 100 trials when we are optimizing.\n",
        "    study.optimize(objective, n_trials=N_TRIALS)\n",
        "\n",
        "    # Printing the best trial information\n",
        "    print(\"Best trial:\")\n",
        "    trial = study.best_trial\n",
        "    print(\"  Value: \", trial.value)\n",
        "    print(\"  Params: \")\n",
        "    for key, value in trial.params.items():\n",
        "        print(f\"    {key}: {value}\")\n"
      ]
    },
    {
      "cell_type": "markdown",
      "metadata": {
        "id": "jmMfE9_dUZiS"
      },
      "source": [
        "## Training the model"
      ]
    },
    {
      "cell_type": "code",
      "execution_count": 147,
      "metadata": {
        "id": "phyiHlWEUZiT"
      },
      "outputs": [],
      "source": [
        "# Creating the best network and optimizer using the best hyperparameters\n",
        "if OPTIMIZE:\n",
        "    net, \\\n",
        "    loss_fn, \\\n",
        "    optimizer, \\\n",
        "    batch_size, \\\n",
        "    n_epochs, \\\n",
        "    scheduler, \\\n",
        "    loss_name, \\\n",
        "    optimizer_name, \\\n",
        "    scheduler_name, \\\n",
        "    n_units, \\\n",
        "    n_layers, \\\n",
        "    hidden_activation, \\\n",
        "    output_activation, \\\n",
        "    lr = create_model(trial, optimize=True)\n",
        "# Creating the network with predefined hyperparameters\n",
        "else:\n",
        "    net, \\\n",
        "    loss_fn, \\\n",
        "    optimizer, \\\n",
        "    batch_size, \\\n",
        "    n_epochs, \\\n",
        "    scheduler, \\\n",
        "    loss_name, \\\n",
        "    optimizer_name, \\\n",
        "    scheduler_name, \\\n",
        "    n_units, \\\n",
        "    n_layers, \\\n",
        "    hidden_activation, \\\n",
        "    output_activation, \\\n",
        "    lr = create_model(trial=None, optimize=False)"
      ]
    },
    {
      "cell_type": "code",
      "execution_count": 148,
      "metadata": {
        "colab": {
          "base_uri": "https://localhost:8080/"
        },
        "id": "_yq-oY81UZiU",
        "outputId": "dbf2f465-bd50-4a20-8926-616c3d2157d0"
      },
      "outputs": [
        {
          "name": "stdout",
          "output_type": "stream",
          "text": [
            "loss_fn: SmoothL1Loss()\n",
            "batch_size: 49\n",
            "n_epochs: 400\n",
            "scheduler: <torch.optim.lr_scheduler.ReduceLROnPlateau object at 0x000002A403C4F810>\n",
            "loss_name: Huber\n",
            "optimizer_name: RMSprop\n",
            "scheduler_name: ReduceLROnPlateau\n",
            "n_units: [555, 458, 115]\n",
            "n_layers: 3\n",
            "hidden_activation: ReLU()\n",
            "output_activation: ReLU()\n"
          ]
        }
      ],
      "source": [
        "print(\"loss_fn:\", loss_fn)\n",
        "print(\"batch_size:\", batch_size)\n",
        "print(\"n_epochs:\", n_epochs)\n",
        "print(\"scheduler:\", scheduler)\n",
        "print(\"loss_name:\", loss_name)\n",
        "print(\"optimizer_name:\", optimizer_name)\n",
        "print(\"scheduler_name:\", scheduler_name)\n",
        "print(\"n_units:\", n_units)\n",
        "print(\"n_layers:\", n_layers)\n",
        "print(\"hidden_activation:\", hidden_activation)\n",
        "print(\"output_activation:\", output_activation)"
      ]
    },
    {
      "cell_type": "code",
      "execution_count": 149,
      "metadata": {
        "colab": {
          "base_uri": "https://localhost:8080/"
        },
        "id": "E7aLWdZyUZiW",
        "outputId": "8fb1e8c6-5aa3-43a1-a255-712cf9396d0c"
      },
      "outputs": [
        {
          "name": "stdout",
          "output_type": "stream",
          "text": [
            "Epoch 1: Train Loss: 0.0867, Test Loss: 0.0084, Train L1 Norm: 0.3319, Test L1 Norm: 0.0829, Train Linf Norm: 11.0774, Test Linf Norm: 2.1619\n",
            "Epoch 2: Train Loss: 0.0297, Test Loss: 0.0062, Train L1 Norm: 0.1251, Test L1 Norm: 0.0586, Train Linf Norm: 3.4206, Test Linf Norm: 1.5706\n",
            "Epoch 3: Train Loss: 0.0211, Test Loss: 0.1052, Train L1 Norm: 0.0923, Test L1 Norm: 0.1151, Train Linf Norm: 2.2841, Test Linf Norm: 1.0724\n",
            "Epoch 4: Train Loss: 0.0161, Test Loss: 0.0099, Train L1 Norm: 0.0851, Test L1 Norm: 0.0650, Train Linf Norm: 2.3317, Test Linf Norm: 1.1612\n",
            "Epoch 5: Train Loss: 0.0141, Test Loss: 0.0020, Train L1 Norm: 0.1202, Test L1 Norm: 0.0254, Train Linf Norm: 4.1806, Test Linf Norm: 0.5642\n",
            "Epoch 6: Train Loss: 0.0120, Test Loss: 0.0020, Train L1 Norm: 0.0710, Test L1 Norm: 0.0256, Train Linf Norm: 1.8989, Test Linf Norm: 0.5145\n",
            "Epoch 7: Train Loss: 0.0104, Test Loss: 0.0016, Train L1 Norm: 0.0659, Test L1 Norm: 0.0368, Train Linf Norm: 1.7944, Test Linf Norm: 0.9543\n",
            "Epoch 8: Train Loss: 0.0094, Test Loss: 0.0015, Train L1 Norm: 0.0587, Test L1 Norm: 0.0241, Train Linf Norm: 1.5221, Test Linf Norm: 0.5758\n",
            "Epoch 9: Train Loss: 0.0085, Test Loss: 0.0013, Train L1 Norm: 0.0526, Test L1 Norm: 0.0252, Train Linf Norm: 1.2927, Test Linf Norm: 0.5793\n",
            "Epoch 10: Train Loss: 0.0078, Test Loss: 0.0056, Train L1 Norm: 0.0512, Test L1 Norm: 0.0319, Train Linf Norm: 1.2383, Test Linf Norm: 0.5562\n",
            "Epoch 11: Train Loss: 0.0070, Test Loss: 0.0015, Train L1 Norm: 0.0623, Test L1 Norm: 0.0281, Train Linf Norm: 1.8209, Test Linf Norm: 0.4843\n",
            "Epoch 12: Train Loss: 0.0067, Test Loss: 0.0009, Train L1 Norm: 0.0517, Test L1 Norm: 0.0205, Train Linf Norm: 1.3865, Test Linf Norm: 0.4537\n",
            "Epoch 13: Train Loss: 0.0063, Test Loss: 0.0018, Train L1 Norm: 0.0486, Test L1 Norm: 0.0462, Train Linf Norm: 1.2688, Test Linf Norm: 1.3530\n",
            "Epoch 14: Train Loss: 0.0057, Test Loss: 0.0014, Train L1 Norm: 0.0439, Test L1 Norm: 0.0230, Train Linf Norm: 1.0696, Test Linf Norm: 0.4370\n",
            "Epoch 15: Train Loss: 0.0055, Test Loss: 0.0015, Train L1 Norm: 0.0439, Test L1 Norm: 0.0398, Train Linf Norm: 1.1125, Test Linf Norm: 0.9949\n",
            "Epoch 16: Train Loss: 0.0049, Test Loss: 0.0032, Train L1 Norm: 0.0413, Test L1 Norm: 0.0281, Train Linf Norm: 1.0096, Test Linf Norm: 0.4545\n",
            "Epoch 17: Train Loss: 0.0046, Test Loss: 0.0026, Train L1 Norm: 0.0466, Test L1 Norm: 0.0271, Train Linf Norm: 1.2973, Test Linf Norm: 0.6747\n",
            "Epoch 18: Train Loss: 0.0045, Test Loss: 0.0007, Train L1 Norm: 0.0434, Test L1 Norm: 0.0238, Train Linf Norm: 1.1511, Test Linf Norm: 0.6270\n",
            "Epoch 19: Train Loss: 0.0043, Test Loss: 0.0007, Train L1 Norm: 0.0423, Test L1 Norm: 0.0168, Train Linf Norm: 1.1062, Test Linf Norm: 0.3558\n",
            "Epoch 20: Train Loss: 0.0041, Test Loss: 0.0010, Train L1 Norm: 0.0384, Test L1 Norm: 0.0186, Train Linf Norm: 0.9479, Test Linf Norm: 0.3699\n",
            "Epoch 21: Train Loss: 0.0040, Test Loss: 0.0010, Train L1 Norm: 0.0377, Test L1 Norm: 0.0205, Train Linf Norm: 0.9055, Test Linf Norm: 0.4887\n",
            "Epoch 22: Train Loss: 0.0039, Test Loss: 0.0006, Train L1 Norm: 0.0352, Test L1 Norm: 0.0188, Train Linf Norm: 0.8410, Test Linf Norm: 0.4281\n",
            "Epoch 23: Train Loss: 0.0037, Test Loss: 0.0008, Train L1 Norm: 0.0337, Test L1 Norm: 0.0221, Train Linf Norm: 0.7945, Test Linf Norm: 0.4668\n",
            "Epoch 24: Train Loss: 0.0035, Test Loss: 0.0009, Train L1 Norm: 0.0395, Test L1 Norm: 0.0199, Train Linf Norm: 1.0534, Test Linf Norm: 0.5010\n",
            "Epoch 25: Train Loss: 0.0033, Test Loss: 0.0010, Train L1 Norm: 0.0372, Test L1 Norm: 0.0200, Train Linf Norm: 0.9840, Test Linf Norm: 0.4224\n",
            "Epoch 26: Train Loss: 0.0032, Test Loss: 0.0005, Train L1 Norm: 0.0389, Test L1 Norm: 0.0197, Train Linf Norm: 1.0632, Test Linf Norm: 0.5276\n",
            "Epoch 27: Train Loss: 0.0030, Test Loss: 0.0011, Train L1 Norm: 0.0416, Test L1 Norm: 0.0193, Train Linf Norm: 1.1813, Test Linf Norm: 0.4088\n",
            "Epoch 28: Train Loss: 0.0030, Test Loss: 0.0009, Train L1 Norm: 0.0426, Test L1 Norm: 0.0165, Train Linf Norm: 1.2610, Test Linf Norm: 0.3301\n",
            "Epoch 29: Train Loss: 0.0031, Test Loss: 0.0006, Train L1 Norm: 0.0360, Test L1 Norm: 0.0165, Train Linf Norm: 0.9719, Test Linf Norm: 0.3985\n",
            "Epoch 30: Train Loss: 0.0029, Test Loss: 0.0003, Train L1 Norm: 0.0286, Test L1 Norm: 0.0151, Train Linf Norm: 0.6159, Test Linf Norm: 0.3580\n",
            "Epoch 31: Train Loss: 0.0027, Test Loss: 0.0021, Train L1 Norm: 0.0359, Test L1 Norm: 0.0220, Train Linf Norm: 0.9851, Test Linf Norm: 0.3440\n",
            "Epoch 32: Train Loss: 0.0028, Test Loss: 0.0004, Train L1 Norm: 0.0313, Test L1 Norm: 0.0152, Train Linf Norm: 0.7543, Test Linf Norm: 0.3483\n",
            "Epoch 33: Train Loss: 0.0025, Test Loss: 0.0005, Train L1 Norm: 0.0371, Test L1 Norm: 0.0167, Train Linf Norm: 1.0400, Test Linf Norm: 0.3525\n",
            "Epoch 34: Train Loss: 0.0026, Test Loss: 0.0012, Train L1 Norm: 0.0355, Test L1 Norm: 0.0360, Train Linf Norm: 0.9954, Test Linf Norm: 0.7683\n",
            "Epoch 35: Train Loss: 0.0025, Test Loss: 0.0009, Train L1 Norm: 0.0305, Test L1 Norm: 0.0143, Train Linf Norm: 0.7431, Test Linf Norm: 0.2785\n",
            "Epoch 36: Train Loss: 0.0024, Test Loss: 0.0005, Train L1 Norm: 0.0419, Test L1 Norm: 0.0195, Train Linf Norm: 1.3210, Test Linf Norm: 0.4909\n",
            "Epoch 37: Train Loss: 0.0024, Test Loss: 0.0006, Train L1 Norm: 0.0345, Test L1 Norm: 0.0199, Train Linf Norm: 0.9502, Test Linf Norm: 0.5365\n",
            "Epoch 38: Train Loss: 0.0022, Test Loss: 0.0007, Train L1 Norm: 0.0306, Test L1 Norm: 0.0165, Train Linf Norm: 0.7668, Test Linf Norm: 0.3512\n",
            "Epoch 39: Train Loss: 0.0024, Test Loss: 0.0241, Train L1 Norm: 0.0313, Test L1 Norm: 0.0575, Train Linf Norm: 0.8269, Test Linf Norm: 0.8847\n",
            "Epoch 40: Train Loss: 0.0022, Test Loss: 0.0007, Train L1 Norm: 0.0345, Test L1 Norm: 0.0198, Train Linf Norm: 0.9976, Test Linf Norm: 0.4283\n",
            "Epoch 41: Train Loss: 0.0023, Test Loss: 0.0004, Train L1 Norm: 0.0273, Test L1 Norm: 0.0144, Train Linf Norm: 0.6359, Test Linf Norm: 0.2990\n",
            "Epoch 42: Train Loss: 0.0023, Test Loss: 0.0005, Train L1 Norm: 0.0311, Test L1 Norm: 0.0168, Train Linf Norm: 0.8317, Test Linf Norm: 0.4453\n",
            "Epoch 43: Train Loss: 0.0002, Test Loss: 0.0001, Train L1 Norm: 0.0177, Test L1 Norm: 0.0132, Train Linf Norm: 0.5299, Test Linf Norm: 0.3491\n",
            "Epoch 44: Train Loss: 0.0002, Test Loss: 0.0003, Train L1 Norm: 0.0158, Test L1 Norm: 0.0149, Train Linf Norm: 0.4445, Test Linf Norm: 0.4099\n",
            "Epoch 45: Train Loss: 0.0002, Test Loss: 0.0002, Train L1 Norm: 0.0152, Test L1 Norm: 0.0132, Train Linf Norm: 0.4228, Test Linf Norm: 0.3361\n",
            "Epoch 46: Train Loss: 0.0002, Test Loss: 0.0001, Train L1 Norm: 0.0160, Test L1 Norm: 0.0125, Train Linf Norm: 0.4728, Test Linf Norm: 0.3205\n",
            "Epoch 47: Train Loss: 0.0002, Test Loss: 0.0001, Train L1 Norm: 0.0139, Test L1 Norm: 0.0119, Train Linf Norm: 0.3787, Test Linf Norm: 0.3036\n",
            "Epoch 48: Train Loss: 0.0002, Test Loss: 0.0002, Train L1 Norm: 0.0147, Test L1 Norm: 0.0117, Train Linf Norm: 0.4077, Test Linf Norm: 0.2746\n",
            "Epoch 49: Train Loss: 0.0002, Test Loss: 0.0002, Train L1 Norm: 0.0128, Test L1 Norm: 0.0125, Train Linf Norm: 0.3217, Test Linf Norm: 0.3052\n",
            "Epoch 50: Train Loss: 0.0002, Test Loss: 0.0002, Train L1 Norm: 0.0131, Test L1 Norm: 0.0113, Train Linf Norm: 0.3344, Test Linf Norm: 0.2658\n",
            "Epoch 51: Train Loss: 0.0002, Test Loss: 0.0005, Train L1 Norm: 0.0129, Test L1 Norm: 0.0175, Train Linf Norm: 0.3399, Test Linf Norm: 0.4068\n",
            "Epoch 52: Train Loss: 0.0002, Test Loss: 0.0001, Train L1 Norm: 0.0151, Test L1 Norm: 0.0109, Train Linf Norm: 0.4454, Test Linf Norm: 0.2661\n",
            "Epoch 53: Train Loss: 0.0002, Test Loss: 0.0001, Train L1 Norm: 0.0133, Test L1 Norm: 0.0108, Train Linf Norm: 0.3532, Test Linf Norm: 0.2646\n",
            "Epoch 54: Train Loss: 0.0002, Test Loss: 0.0003, Train L1 Norm: 0.0122, Test L1 Norm: 0.0131, Train Linf Norm: 0.3175, Test Linf Norm: 0.3113\n",
            "Epoch 55: Train Loss: 0.0002, Test Loss: 0.0001, Train L1 Norm: 0.0128, Test L1 Norm: 0.0106, Train Linf Norm: 0.3380, Test Linf Norm: 0.2561\n",
            "Epoch 56: Train Loss: 0.0002, Test Loss: 0.0001, Train L1 Norm: 0.0120, Test L1 Norm: 0.0109, Train Linf Norm: 0.3024, Test Linf Norm: 0.2677\n",
            "Epoch 57: Train Loss: 0.0002, Test Loss: 0.0001, Train L1 Norm: 0.0160, Test L1 Norm: 0.0109, Train Linf Norm: 0.4974, Test Linf Norm: 0.2749\n",
            "Epoch 58: Train Loss: 0.0002, Test Loss: 0.0001, Train L1 Norm: 0.0128, Test L1 Norm: 0.0102, Train Linf Norm: 0.3395, Test Linf Norm: 0.2413\n",
            "Epoch 59: Train Loss: 0.0002, Test Loss: 0.0001, Train L1 Norm: 0.0117, Test L1 Norm: 0.0115, Train Linf Norm: 0.3002, Test Linf Norm: 0.2964\n",
            "Epoch 60: Train Loss: 0.0002, Test Loss: 0.0001, Train L1 Norm: 0.0118, Test L1 Norm: 0.0101, Train Linf Norm: 0.3029, Test Linf Norm: 0.2356\n",
            "Epoch 61: Train Loss: 0.0002, Test Loss: 0.0001, Train L1 Norm: 0.0122, Test L1 Norm: 0.0109, Train Linf Norm: 0.3114, Test Linf Norm: 0.2679\n",
            "Epoch 62: Train Loss: 0.0001, Test Loss: 0.0001, Train L1 Norm: 0.0120, Test L1 Norm: 0.0107, Train Linf Norm: 0.3137, Test Linf Norm: 0.2644\n",
            "Epoch 63: Train Loss: 0.0002, Test Loss: 0.0003, Train L1 Norm: 0.0117, Test L1 Norm: 0.0118, Train Linf Norm: 0.2975, Test Linf Norm: 0.2654\n",
            "Epoch 64: Train Loss: 0.0002, Test Loss: 0.0003, Train L1 Norm: 0.0120, Test L1 Norm: 0.0124, Train Linf Norm: 0.3210, Test Linf Norm: 0.2674\n",
            "Epoch 65: Train Loss: 0.0002, Test Loss: 0.0001, Train L1 Norm: 0.0117, Test L1 Norm: 0.0095, Train Linf Norm: 0.2985, Test Linf Norm: 0.2258\n",
            "Epoch 66: Train Loss: 0.0002, Test Loss: 0.0001, Train L1 Norm: 0.0116, Test L1 Norm: 0.0099, Train Linf Norm: 0.2921, Test Linf Norm: 0.2305\n",
            "Epoch 67: Train Loss: 0.0002, Test Loss: 0.0002, Train L1 Norm: 0.0130, Test L1 Norm: 0.0118, Train Linf Norm: 0.3746, Test Linf Norm: 0.2692\n",
            "Epoch 68: Train Loss: 0.0002, Test Loss: 0.0001, Train L1 Norm: 0.0115, Test L1 Norm: 0.0102, Train Linf Norm: 0.2982, Test Linf Norm: 0.2478\n",
            "Epoch 69: Train Loss: 0.0002, Test Loss: 0.0001, Train L1 Norm: 0.0114, Test L1 Norm: 0.0107, Train Linf Norm: 0.2861, Test Linf Norm: 0.2679\n",
            "Epoch 70: Train Loss: 0.0001, Test Loss: 0.0001, Train L1 Norm: 0.0120, Test L1 Norm: 0.0098, Train Linf Norm: 0.3246, Test Linf Norm: 0.2402\n",
            "Epoch 71: Train Loss: 0.0002, Test Loss: 0.0001, Train L1 Norm: 0.0114, Test L1 Norm: 0.0093, Train Linf Norm: 0.2927, Test Linf Norm: 0.2244\n",
            "Epoch 72: Train Loss: 0.0001, Test Loss: 0.0001, Train L1 Norm: 0.0107, Test L1 Norm: 0.0126, Train Linf Norm: 0.2646, Test Linf Norm: 0.3524\n",
            "Epoch 73: Train Loss: 0.0002, Test Loss: 0.0001, Train L1 Norm: 0.0114, Test L1 Norm: 0.0107, Train Linf Norm: 0.2994, Test Linf Norm: 0.2396\n",
            "Epoch 74: Train Loss: 0.0002, Test Loss: 0.0001, Train L1 Norm: 0.0107, Test L1 Norm: 0.0103, Train Linf Norm: 0.2663, Test Linf Norm: 0.2618\n",
            "Epoch 75: Train Loss: 0.0001, Test Loss: 0.0001, Train L1 Norm: 0.0125, Test L1 Norm: 0.0097, Train Linf Norm: 0.3511, Test Linf Norm: 0.2193\n",
            "Epoch 76: Train Loss: 0.0001, Test Loss: 0.0001, Train L1 Norm: 0.0112, Test L1 Norm: 0.0099, Train Linf Norm: 0.2861, Test Linf Norm: 0.2204\n",
            "Epoch 77: Train Loss: 0.0001, Test Loss: 0.0001, Train L1 Norm: 0.0110, Test L1 Norm: 0.0092, Train Linf Norm: 0.2791, Test Linf Norm: 0.2121\n",
            "Epoch 78: Train Loss: 0.0001, Test Loss: 0.0001, Train L1 Norm: 0.0106, Test L1 Norm: 0.0091, Train Linf Norm: 0.2646, Test Linf Norm: 0.2099\n",
            "Epoch 79: Train Loss: 0.0001, Test Loss: 0.0001, Train L1 Norm: 0.0107, Test L1 Norm: 0.0100, Train Linf Norm: 0.2653, Test Linf Norm: 0.2614\n",
            "Epoch 80: Train Loss: 0.0001, Test Loss: 0.0001, Train L1 Norm: 0.0103, Test L1 Norm: 0.0115, Train Linf Norm: 0.2460, Test Linf Norm: 0.2736\n",
            "Epoch 81: Train Loss: 0.0001, Test Loss: 0.0004, Train L1 Norm: 0.0107, Test L1 Norm: 0.0131, Train Linf Norm: 0.2705, Test Linf Norm: 0.2490\n",
            "Epoch 82: Train Loss: 0.0001, Test Loss: 0.0001, Train L1 Norm: 0.0122, Test L1 Norm: 0.0097, Train Linf Norm: 0.3448, Test Linf Norm: 0.2324\n",
            "Epoch 83: Train Loss: 0.0001, Test Loss: 0.0001, Train L1 Norm: 0.0118, Test L1 Norm: 0.0086, Train Linf Norm: 0.3291, Test Linf Norm: 0.1967\n",
            "Epoch 84: Train Loss: 0.0001, Test Loss: 0.0001, Train L1 Norm: 0.0115, Test L1 Norm: 0.0091, Train Linf Norm: 0.3104, Test Linf Norm: 0.2151\n",
            "Epoch 85: Train Loss: 0.0001, Test Loss: 0.0001, Train L1 Norm: 0.0113, Test L1 Norm: 0.0088, Train Linf Norm: 0.3019, Test Linf Norm: 0.2022\n",
            "Epoch 86: Train Loss: 0.0001, Test Loss: 0.0001, Train L1 Norm: 0.0102, Test L1 Norm: 0.0087, Train Linf Norm: 0.2490, Test Linf Norm: 0.2073\n",
            "Epoch 87: Train Loss: 0.0001, Test Loss: 0.0001, Train L1 Norm: 0.0109, Test L1 Norm: 0.0094, Train Linf Norm: 0.2851, Test Linf Norm: 0.2227\n",
            "Epoch 88: Train Loss: 0.0001, Test Loss: 0.0001, Train L1 Norm: 0.0124, Test L1 Norm: 0.0089, Train Linf Norm: 0.3575, Test Linf Norm: 0.2084\n",
            "Epoch 89: Train Loss: 0.0001, Test Loss: 0.0001, Train L1 Norm: 0.0123, Test L1 Norm: 0.0094, Train Linf Norm: 0.3555, Test Linf Norm: 0.2179\n",
            "Epoch 90: Train Loss: 0.0002, Test Loss: 0.0001, Train L1 Norm: 0.0116, Test L1 Norm: 0.0090, Train Linf Norm: 0.3196, Test Linf Norm: 0.2160\n",
            "Epoch 91: Train Loss: 0.0001, Test Loss: 0.0001, Train L1 Norm: 0.0155, Test L1 Norm: 0.0101, Train Linf Norm: 0.5193, Test Linf Norm: 0.2697\n",
            "Epoch 92: Train Loss: 0.0001, Test Loss: 0.0001, Train L1 Norm: 0.0103, Test L1 Norm: 0.0104, Train Linf Norm: 0.2538, Test Linf Norm: 0.2677\n",
            "Epoch 93: Train Loss: 0.0001, Test Loss: 0.0001, Train L1 Norm: 0.0111, Test L1 Norm: 0.0087, Train Linf Norm: 0.2968, Test Linf Norm: 0.1987\n",
            "Epoch 94: Train Loss: 0.0001, Test Loss: 0.0001, Train L1 Norm: 0.0125, Test L1 Norm: 0.0082, Train Linf Norm: 0.3713, Test Linf Norm: 0.1892\n",
            "Epoch 95: Train Loss: 0.0001, Test Loss: 0.0001, Train L1 Norm: 0.0101, Test L1 Norm: 0.0089, Train Linf Norm: 0.2519, Test Linf Norm: 0.2041\n",
            "Epoch 96: Train Loss: 0.0001, Test Loss: 0.0002, Train L1 Norm: 0.0101, Test L1 Norm: 0.0091, Train Linf Norm: 0.2493, Test Linf Norm: 0.1964\n",
            "Epoch 97: Train Loss: 0.0001, Test Loss: 0.0001, Train L1 Norm: 0.0110, Test L1 Norm: 0.0088, Train Linf Norm: 0.2914, Test Linf Norm: 0.2092\n",
            "Epoch 98: Train Loss: 0.0001, Test Loss: 0.0001, Train L1 Norm: 0.0104, Test L1 Norm: 0.0091, Train Linf Norm: 0.2678, Test Linf Norm: 0.2323\n",
            "Epoch 99: Train Loss: 0.0002, Test Loss: 0.0001, Train L1 Norm: 0.0111, Test L1 Norm: 0.0088, Train Linf Norm: 0.3033, Test Linf Norm: 0.2204\n",
            "Epoch 100: Train Loss: 0.0001, Test Loss: 0.0001, Train L1 Norm: 0.0111, Test L1 Norm: 0.0085, Train Linf Norm: 0.3035, Test Linf Norm: 0.1987\n",
            "Epoch 101: Train Loss: 0.0001, Test Loss: 0.0001, Train L1 Norm: 0.0119, Test L1 Norm: 0.0088, Train Linf Norm: 0.3436, Test Linf Norm: 0.2104\n",
            "Epoch 102: Train Loss: 0.0001, Test Loss: 0.0001, Train L1 Norm: 0.0148, Test L1 Norm: 0.0085, Train Linf Norm: 0.4821, Test Linf Norm: 0.2002\n",
            "Epoch 103: Train Loss: 0.0001, Test Loss: 0.0003, Train L1 Norm: 0.0096, Test L1 Norm: 0.0126, Train Linf Norm: 0.2336, Test Linf Norm: 0.2751\n",
            "Epoch 104: Train Loss: 0.0001, Test Loss: 0.0001, Train L1 Norm: 0.0110, Test L1 Norm: 0.0087, Train Linf Norm: 0.2929, Test Linf Norm: 0.2133\n",
            "Epoch 105: Train Loss: 0.0001, Test Loss: 0.0001, Train L1 Norm: 0.0105, Test L1 Norm: 0.0089, Train Linf Norm: 0.2769, Test Linf Norm: 0.1977\n",
            "Epoch 106: Train Loss: 0.0001, Test Loss: 0.0001, Train L1 Norm: 0.0100, Test L1 Norm: 0.0088, Train Linf Norm: 0.2550, Test Linf Norm: 0.2140\n",
            "Epoch 107: Train Loss: 0.0000, Test Loss: 0.0001, Train L1 Norm: 0.0098, Test L1 Norm: 0.0079, Train Linf Norm: 0.2885, Test Linf Norm: 0.1770\n",
            "Epoch 108: Train Loss: 0.0000, Test Loss: 0.0001, Train L1 Norm: 0.0094, Test L1 Norm: 0.0078, Train Linf Norm: 0.2719, Test Linf Norm: 0.1807\n",
            "Epoch 109: Train Loss: 0.0000, Test Loss: 0.0001, Train L1 Norm: 0.0095, Test L1 Norm: 0.0079, Train Linf Norm: 0.2782, Test Linf Norm: 0.1827\n",
            "Epoch 110: Train Loss: 0.0000, Test Loss: 0.0001, Train L1 Norm: 0.0089, Test L1 Norm: 0.0079, Train Linf Norm: 0.2426, Test Linf Norm: 0.1791\n",
            "Epoch 111: Train Loss: 0.0000, Test Loss: 0.0001, Train L1 Norm: 0.0095, Test L1 Norm: 0.0078, Train Linf Norm: 0.2780, Test Linf Norm: 0.1801\n",
            "Epoch 112: Train Loss: 0.0000, Test Loss: 0.0001, Train L1 Norm: 0.0092, Test L1 Norm: 0.0079, Train Linf Norm: 0.2648, Test Linf Norm: 0.1819\n",
            "Epoch 113: Train Loss: 0.0000, Test Loss: 0.0001, Train L1 Norm: 0.0089, Test L1 Norm: 0.0078, Train Linf Norm: 0.2468, Test Linf Norm: 0.1827\n",
            "Epoch 114: Train Loss: 0.0000, Test Loss: 0.0001, Train L1 Norm: 0.0093, Test L1 Norm: 0.0079, Train Linf Norm: 0.2648, Test Linf Norm: 0.1789\n",
            "Epoch 115: Train Loss: 0.0000, Test Loss: 0.0001, Train L1 Norm: 0.0095, Test L1 Norm: 0.0079, Train Linf Norm: 0.2784, Test Linf Norm: 0.1814\n",
            "Epoch 116: Train Loss: 0.0000, Test Loss: 0.0001, Train L1 Norm: 0.0092, Test L1 Norm: 0.0081, Train Linf Norm: 0.2645, Test Linf Norm: 0.1841\n",
            "Epoch 117: Train Loss: 0.0000, Test Loss: 0.0001, Train L1 Norm: 0.0091, Test L1 Norm: 0.0080, Train Linf Norm: 0.2545, Test Linf Norm: 0.1918\n",
            "Epoch 118: Train Loss: 0.0000, Test Loss: 0.0001, Train L1 Norm: 0.0095, Test L1 Norm: 0.0079, Train Linf Norm: 0.2794, Test Linf Norm: 0.1865\n",
            "Epoch 119: Train Loss: 0.0000, Test Loss: 0.0001, Train L1 Norm: 0.0093, Test L1 Norm: 0.0079, Train Linf Norm: 0.2711, Test Linf Norm: 0.1825\n",
            "Epoch 120: Train Loss: 0.0000, Test Loss: 0.0001, Train L1 Norm: 0.0092, Test L1 Norm: 0.0078, Train Linf Norm: 0.2625, Test Linf Norm: 0.1830\n",
            "Epoch 121: Train Loss: 0.0000, Test Loss: 0.0001, Train L1 Norm: 0.0087, Test L1 Norm: 0.0077, Train Linf Norm: 0.2423, Test Linf Norm: 0.1808\n",
            "Epoch 122: Train Loss: 0.0000, Test Loss: 0.0000, Train L1 Norm: 0.0091, Test L1 Norm: 0.0077, Train Linf Norm: 0.2588, Test Linf Norm: 0.1812\n",
            "Epoch 123: Train Loss: 0.0000, Test Loss: 0.0001, Train L1 Norm: 0.0092, Test L1 Norm: 0.0080, Train Linf Norm: 0.2651, Test Linf Norm: 0.1920\n",
            "Epoch 124: Train Loss: 0.0000, Test Loss: 0.0001, Train L1 Norm: 0.0090, Test L1 Norm: 0.0079, Train Linf Norm: 0.2534, Test Linf Norm: 0.1857\n",
            "Epoch 125: Train Loss: 0.0000, Test Loss: 0.0000, Train L1 Norm: 0.0099, Test L1 Norm: 0.0077, Train Linf Norm: 0.2985, Test Linf Norm: 0.1822\n",
            "Epoch 126: Train Loss: 0.0000, Test Loss: 0.0001, Train L1 Norm: 0.0094, Test L1 Norm: 0.0078, Train Linf Norm: 0.2771, Test Linf Norm: 0.1838\n",
            "Epoch 127: Train Loss: 0.0000, Test Loss: 0.0001, Train L1 Norm: 0.0087, Test L1 Norm: 0.0078, Train Linf Norm: 0.2385, Test Linf Norm: 0.1805\n",
            "Epoch 128: Train Loss: 0.0000, Test Loss: 0.0001, Train L1 Norm: 0.0093, Test L1 Norm: 0.0078, Train Linf Norm: 0.2701, Test Linf Norm: 0.1828\n",
            "Epoch 129: Train Loss: 0.0000, Test Loss: 0.0001, Train L1 Norm: 0.0082, Test L1 Norm: 0.0079, Train Linf Norm: 0.2136, Test Linf Norm: 0.1895\n",
            "Epoch 130: Train Loss: 0.0000, Test Loss: 0.0001, Train L1 Norm: 0.0091, Test L1 Norm: 0.0078, Train Linf Norm: 0.2589, Test Linf Norm: 0.1858\n",
            "Epoch 131: Train Loss: 0.0000, Test Loss: 0.0001, Train L1 Norm: 0.0089, Test L1 Norm: 0.0083, Train Linf Norm: 0.2536, Test Linf Norm: 0.1821\n",
            "Epoch 132: Train Loss: 0.0000, Test Loss: 0.0001, Train L1 Norm: 0.0082, Test L1 Norm: 0.0077, Train Linf Norm: 0.2186, Test Linf Norm: 0.1747\n",
            "Epoch 133: Train Loss: 0.0000, Test Loss: 0.0001, Train L1 Norm: 0.0095, Test L1 Norm: 0.0078, Train Linf Norm: 0.2802, Test Linf Norm: 0.1772\n",
            "Epoch 134: Train Loss: 0.0000, Test Loss: 0.0000, Train L1 Norm: 0.0093, Test L1 Norm: 0.0078, Train Linf Norm: 0.2733, Test Linf Norm: 0.1830\n",
            "Epoch 135: Train Loss: 0.0000, Test Loss: 0.0001, Train L1 Norm: 0.0091, Test L1 Norm: 0.0077, Train Linf Norm: 0.2611, Test Linf Norm: 0.1812\n",
            "Epoch 136: Train Loss: 0.0000, Test Loss: 0.0000, Train L1 Norm: 0.0094, Test L1 Norm: 0.0077, Train Linf Norm: 0.2771, Test Linf Norm: 0.1769\n",
            "Epoch 137: Train Loss: 0.0000, Test Loss: 0.0001, Train L1 Norm: 0.0086, Test L1 Norm: 0.0077, Train Linf Norm: 0.2401, Test Linf Norm: 0.1822\n",
            "Epoch 138: Train Loss: 0.0000, Test Loss: 0.0000, Train L1 Norm: 0.0079, Test L1 Norm: 0.0076, Train Linf Norm: 0.2042, Test Linf Norm: 0.1785\n",
            "Epoch 139: Train Loss: 0.0000, Test Loss: 0.0000, Train L1 Norm: 0.0091, Test L1 Norm: 0.0076, Train Linf Norm: 0.2651, Test Linf Norm: 0.1774\n",
            "Epoch 140: Train Loss: 0.0000, Test Loss: 0.0000, Train L1 Norm: 0.0086, Test L1 Norm: 0.0077, Train Linf Norm: 0.2385, Test Linf Norm: 0.1851\n",
            "Epoch 141: Train Loss: 0.0000, Test Loss: 0.0001, Train L1 Norm: 0.0079, Test L1 Norm: 0.0077, Train Linf Norm: 0.2058, Test Linf Norm: 0.1824\n",
            "Epoch 142: Train Loss: 0.0000, Test Loss: 0.0001, Train L1 Norm: 0.0089, Test L1 Norm: 0.0077, Train Linf Norm: 0.2515, Test Linf Norm: 0.1768\n",
            "Epoch 143: Train Loss: 0.0000, Test Loss: 0.0001, Train L1 Norm: 0.0084, Test L1 Norm: 0.0077, Train Linf Norm: 0.2302, Test Linf Norm: 0.1791\n",
            "Epoch 144: Train Loss: 0.0000, Test Loss: 0.0001, Train L1 Norm: 0.0085, Test L1 Norm: 0.0078, Train Linf Norm: 0.2387, Test Linf Norm: 0.1767\n",
            "Epoch 145: Train Loss: 0.0000, Test Loss: 0.0001, Train L1 Norm: 0.0084, Test L1 Norm: 0.0078, Train Linf Norm: 0.2318, Test Linf Norm: 0.1846\n",
            "Epoch 146: Train Loss: 0.0000, Test Loss: 0.0001, Train L1 Norm: 0.0083, Test L1 Norm: 0.0081, Train Linf Norm: 0.2257, Test Linf Norm: 0.1737\n",
            "Epoch 147: Train Loss: 0.0000, Test Loss: 0.0001, Train L1 Norm: 0.0087, Test L1 Norm: 0.0078, Train Linf Norm: 0.2426, Test Linf Norm: 0.1863\n",
            "Epoch 148: Train Loss: 0.0000, Test Loss: 0.0000, Train L1 Norm: 0.0088, Test L1 Norm: 0.0078, Train Linf Norm: 0.2525, Test Linf Norm: 0.1800\n",
            "Epoch 149: Train Loss: 0.0000, Test Loss: 0.0001, Train L1 Norm: 0.0089, Test L1 Norm: 0.0076, Train Linf Norm: 0.2565, Test Linf Norm: 0.1758\n",
            "Epoch 150: Train Loss: 0.0000, Test Loss: 0.0000, Train L1 Norm: 0.0077, Test L1 Norm: 0.0074, Train Linf Norm: 0.1954, Test Linf Norm: 0.1708\n",
            "Epoch 151: Train Loss: 0.0000, Test Loss: 0.0000, Train L1 Norm: 0.0081, Test L1 Norm: 0.0076, Train Linf Norm: 0.2215, Test Linf Norm: 0.1812\n",
            "Epoch 152: Train Loss: 0.0000, Test Loss: 0.0000, Train L1 Norm: 0.0082, Test L1 Norm: 0.0076, Train Linf Norm: 0.2259, Test Linf Norm: 0.1789\n",
            "Epoch 153: Train Loss: 0.0000, Test Loss: 0.0000, Train L1 Norm: 0.0078, Test L1 Norm: 0.0076, Train Linf Norm: 0.2074, Test Linf Norm: 0.1772\n",
            "Epoch 154: Train Loss: 0.0000, Test Loss: 0.0001, Train L1 Norm: 0.0081, Test L1 Norm: 0.0076, Train Linf Norm: 0.2210, Test Linf Norm: 0.1755\n",
            "Epoch 155: Train Loss: 0.0000, Test Loss: 0.0000, Train L1 Norm: 0.0081, Test L1 Norm: 0.0076, Train Linf Norm: 0.2233, Test Linf Norm: 0.1776\n",
            "Epoch 156: Train Loss: 0.0000, Test Loss: 0.0000, Train L1 Norm: 0.0077, Test L1 Norm: 0.0076, Train Linf Norm: 0.2018, Test Linf Norm: 0.1815\n",
            "Epoch 157: Train Loss: 0.0000, Test Loss: 0.0000, Train L1 Norm: 0.0077, Test L1 Norm: 0.0076, Train Linf Norm: 0.1989, Test Linf Norm: 0.1801\n",
            "Epoch 158: Train Loss: 0.0000, Test Loss: 0.0000, Train L1 Norm: 0.0077, Test L1 Norm: 0.0076, Train Linf Norm: 0.2062, Test Linf Norm: 0.1766\n",
            "Epoch 159: Train Loss: 0.0000, Test Loss: 0.0000, Train L1 Norm: 0.0079, Test L1 Norm: 0.0076, Train Linf Norm: 0.2157, Test Linf Norm: 0.1784\n",
            "Epoch 160: Train Loss: 0.0000, Test Loss: 0.0000, Train L1 Norm: 0.0083, Test L1 Norm: 0.0076, Train Linf Norm: 0.2305, Test Linf Norm: 0.1773\n",
            "Epoch 161: Train Loss: 0.0000, Test Loss: 0.0000, Train L1 Norm: 0.0078, Test L1 Norm: 0.0076, Train Linf Norm: 0.2088, Test Linf Norm: 0.1759\n",
            "Epoch 162: Train Loss: 0.0000, Test Loss: 0.0000, Train L1 Norm: 0.0077, Test L1 Norm: 0.0076, Train Linf Norm: 0.2033, Test Linf Norm: 0.1772\n",
            "Epoch 163: Train Loss: 0.0000, Test Loss: 0.0000, Train L1 Norm: 0.0078, Test L1 Norm: 0.0076, Train Linf Norm: 0.2064, Test Linf Norm: 0.1783\n",
            "Epoch 164: Train Loss: 0.0000, Test Loss: 0.0000, Train L1 Norm: 0.0079, Test L1 Norm: 0.0076, Train Linf Norm: 0.2112, Test Linf Norm: 0.1788\n",
            "Epoch 165: Train Loss: 0.0000, Test Loss: 0.0000, Train L1 Norm: 0.0078, Test L1 Norm: 0.0076, Train Linf Norm: 0.2068, Test Linf Norm: 0.1786\n",
            "Epoch 166: Train Loss: 0.0000, Test Loss: 0.0000, Train L1 Norm: 0.0083, Test L1 Norm: 0.0076, Train Linf Norm: 0.2353, Test Linf Norm: 0.1821\n",
            "Epoch 167: Train Loss: 0.0000, Test Loss: 0.0000, Train L1 Norm: 0.0078, Test L1 Norm: 0.0076, Train Linf Norm: 0.2056, Test Linf Norm: 0.1784\n",
            "Epoch 168: Train Loss: 0.0000, Test Loss: 0.0000, Train L1 Norm: 0.0078, Test L1 Norm: 0.0076, Train Linf Norm: 0.2057, Test Linf Norm: 0.1766\n",
            "Epoch 169: Train Loss: 0.0000, Test Loss: 0.0000, Train L1 Norm: 0.0079, Test L1 Norm: 0.0076, Train Linf Norm: 0.2157, Test Linf Norm: 0.1795\n",
            "Epoch 170: Train Loss: 0.0000, Test Loss: 0.0000, Train L1 Norm: 0.0077, Test L1 Norm: 0.0076, Train Linf Norm: 0.2024, Test Linf Norm: 0.1782\n",
            "Epoch 171: Train Loss: 0.0000, Test Loss: 0.0000, Train L1 Norm: 0.0082, Test L1 Norm: 0.0076, Train Linf Norm: 0.2246, Test Linf Norm: 0.1789\n",
            "Epoch 172: Train Loss: 0.0000, Test Loss: 0.0000, Train L1 Norm: 0.0080, Test L1 Norm: 0.0076, Train Linf Norm: 0.2173, Test Linf Norm: 0.1803\n",
            "Epoch 173: Train Loss: 0.0000, Test Loss: 0.0000, Train L1 Norm: 0.0078, Test L1 Norm: 0.0076, Train Linf Norm: 0.2082, Test Linf Norm: 0.1785\n",
            "Epoch 174: Train Loss: 0.0000, Test Loss: 0.0000, Train L1 Norm: 0.0080, Test L1 Norm: 0.0076, Train Linf Norm: 0.2157, Test Linf Norm: 0.1829\n",
            "Epoch 175: Train Loss: 0.0000, Test Loss: 0.0000, Train L1 Norm: 0.0079, Test L1 Norm: 0.0076, Train Linf Norm: 0.2115, Test Linf Norm: 0.1768\n",
            "Epoch 176: Train Loss: 0.0000, Test Loss: 0.0000, Train L1 Norm: 0.0076, Test L1 Norm: 0.0076, Train Linf Norm: 0.2017, Test Linf Norm: 0.1766\n",
            "Epoch 177: Train Loss: 0.0000, Test Loss: 0.0000, Train L1 Norm: 0.0076, Test L1 Norm: 0.0076, Train Linf Norm: 0.1965, Test Linf Norm: 0.1785\n",
            "Epoch 178: Train Loss: 0.0000, Test Loss: 0.0000, Train L1 Norm: 0.0080, Test L1 Norm: 0.0076, Train Linf Norm: 0.2181, Test Linf Norm: 0.1806\n",
            "Epoch 179: Train Loss: 0.0000, Test Loss: 0.0000, Train L1 Norm: 0.0075, Test L1 Norm: 0.0076, Train Linf Norm: 0.1933, Test Linf Norm: 0.1780\n",
            "Epoch 180: Train Loss: 0.0000, Test Loss: 0.0000, Train L1 Norm: 0.0079, Test L1 Norm: 0.0076, Train Linf Norm: 0.2141, Test Linf Norm: 0.1792\n",
            "Epoch 181: Train Loss: 0.0000, Test Loss: 0.0000, Train L1 Norm: 0.0078, Test L1 Norm: 0.0076, Train Linf Norm: 0.2078, Test Linf Norm: 0.1780\n",
            "Epoch 182: Train Loss: 0.0000, Test Loss: 0.0000, Train L1 Norm: 0.0077, Test L1 Norm: 0.0076, Train Linf Norm: 0.2079, Test Linf Norm: 0.1781\n",
            "Epoch 183: Train Loss: 0.0000, Test Loss: 0.0000, Train L1 Norm: 0.0077, Test L1 Norm: 0.0076, Train Linf Norm: 0.2017, Test Linf Norm: 0.1792\n",
            "Epoch 184: Train Loss: 0.0000, Test Loss: 0.0000, Train L1 Norm: 0.0080, Test L1 Norm: 0.0076, Train Linf Norm: 0.2172, Test Linf Norm: 0.1789\n",
            "Epoch 185: Train Loss: 0.0000, Test Loss: 0.0000, Train L1 Norm: 0.0077, Test L1 Norm: 0.0076, Train Linf Norm: 0.2061, Test Linf Norm: 0.1822\n",
            "Epoch 186: Train Loss: 0.0000, Test Loss: 0.0000, Train L1 Norm: 0.0076, Test L1 Norm: 0.0076, Train Linf Norm: 0.1973, Test Linf Norm: 0.1775\n",
            "Epoch 187: Train Loss: 0.0000, Test Loss: 0.0000, Train L1 Norm: 0.0077, Test L1 Norm: 0.0075, Train Linf Norm: 0.2043, Test Linf Norm: 0.1773\n",
            "Epoch 188: Train Loss: 0.0000, Test Loss: 0.0000, Train L1 Norm: 0.0076, Test L1 Norm: 0.0076, Train Linf Norm: 0.2012, Test Linf Norm: 0.1781\n",
            "Epoch 189: Train Loss: 0.0000, Test Loss: 0.0000, Train L1 Norm: 0.0076, Test L1 Norm: 0.0075, Train Linf Norm: 0.2016, Test Linf Norm: 0.1778\n",
            "Epoch 190: Train Loss: 0.0000, Test Loss: 0.0000, Train L1 Norm: 0.0077, Test L1 Norm: 0.0076, Train Linf Norm: 0.2051, Test Linf Norm: 0.1784\n",
            "Epoch 191: Train Loss: 0.0000, Test Loss: 0.0000, Train L1 Norm: 0.0077, Test L1 Norm: 0.0075, Train Linf Norm: 0.2045, Test Linf Norm: 0.1776\n",
            "Epoch 192: Train Loss: 0.0000, Test Loss: 0.0000, Train L1 Norm: 0.0077, Test L1 Norm: 0.0075, Train Linf Norm: 0.2036, Test Linf Norm: 0.1779\n",
            "Epoch 193: Train Loss: 0.0000, Test Loss: 0.0000, Train L1 Norm: 0.0077, Test L1 Norm: 0.0075, Train Linf Norm: 0.2067, Test Linf Norm: 0.1778\n",
            "Epoch 194: Train Loss: 0.0000, Test Loss: 0.0000, Train L1 Norm: 0.0077, Test L1 Norm: 0.0075, Train Linf Norm: 0.2050, Test Linf Norm: 0.1772\n",
            "Epoch 195: Train Loss: 0.0000, Test Loss: 0.0000, Train L1 Norm: 0.0077, Test L1 Norm: 0.0076, Train Linf Norm: 0.2070, Test Linf Norm: 0.1786\n",
            "Epoch 196: Train Loss: 0.0000, Test Loss: 0.0000, Train L1 Norm: 0.0077, Test L1 Norm: 0.0076, Train Linf Norm: 0.2025, Test Linf Norm: 0.1779\n",
            "Epoch 197: Train Loss: 0.0000, Test Loss: 0.0000, Train L1 Norm: 0.0077, Test L1 Norm: 0.0076, Train Linf Norm: 0.2048, Test Linf Norm: 0.1782\n",
            "Epoch 198: Train Loss: 0.0000, Test Loss: 0.0000, Train L1 Norm: 0.0076, Test L1 Norm: 0.0075, Train Linf Norm: 0.2003, Test Linf Norm: 0.1777\n",
            "Epoch 199: Train Loss: 0.0000, Test Loss: 0.0000, Train L1 Norm: 0.0078, Test L1 Norm: 0.0075, Train Linf Norm: 0.2060, Test Linf Norm: 0.1775\n",
            "Epoch 200: Train Loss: 0.0000, Test Loss: 0.0000, Train L1 Norm: 0.0077, Test L1 Norm: 0.0075, Train Linf Norm: 0.2055, Test Linf Norm: 0.1778\n",
            "Epoch 201: Train Loss: 0.0000, Test Loss: 0.0000, Train L1 Norm: 0.0077, Test L1 Norm: 0.0075, Train Linf Norm: 0.2042, Test Linf Norm: 0.1778\n",
            "Epoch 202: Train Loss: 0.0000, Test Loss: 0.0000, Train L1 Norm: 0.0077, Test L1 Norm: 0.0075, Train Linf Norm: 0.2066, Test Linf Norm: 0.1778\n",
            "Epoch 203: Train Loss: 0.0000, Test Loss: 0.0000, Train L1 Norm: 0.0077, Test L1 Norm: 0.0075, Train Linf Norm: 0.2071, Test Linf Norm: 0.1781\n",
            "Epoch 204: Train Loss: 0.0000, Test Loss: 0.0000, Train L1 Norm: 0.0077, Test L1 Norm: 0.0075, Train Linf Norm: 0.2051, Test Linf Norm: 0.1778\n",
            "Epoch 205: Train Loss: 0.0000, Test Loss: 0.0000, Train L1 Norm: 0.0077, Test L1 Norm: 0.0075, Train Linf Norm: 0.2024, Test Linf Norm: 0.1780\n",
            "Epoch 206: Train Loss: 0.0000, Test Loss: 0.0000, Train L1 Norm: 0.0077, Test L1 Norm: 0.0075, Train Linf Norm: 0.2050, Test Linf Norm: 0.1777\n",
            "Epoch 207: Train Loss: 0.0000, Test Loss: 0.0000, Train L1 Norm: 0.0077, Test L1 Norm: 0.0075, Train Linf Norm: 0.2062, Test Linf Norm: 0.1780\n",
            "Epoch 208: Train Loss: 0.0000, Test Loss: 0.0000, Train L1 Norm: 0.0077, Test L1 Norm: 0.0075, Train Linf Norm: 0.2019, Test Linf Norm: 0.1780\n",
            "Epoch 209: Train Loss: 0.0000, Test Loss: 0.0000, Train L1 Norm: 0.0077, Test L1 Norm: 0.0075, Train Linf Norm: 0.2074, Test Linf Norm: 0.1778\n",
            "Epoch 210: Train Loss: 0.0000, Test Loss: 0.0000, Train L1 Norm: 0.0077, Test L1 Norm: 0.0075, Train Linf Norm: 0.2061, Test Linf Norm: 0.1779\n",
            "Epoch 211: Train Loss: 0.0000, Test Loss: 0.0000, Train L1 Norm: 0.0077, Test L1 Norm: 0.0075, Train Linf Norm: 0.2052, Test Linf Norm: 0.1778\n",
            "Epoch 212: Train Loss: 0.0000, Test Loss: 0.0000, Train L1 Norm: 0.0077, Test L1 Norm: 0.0075, Train Linf Norm: 0.2016, Test Linf Norm: 0.1778\n",
            "Epoch 213: Train Loss: 0.0000, Test Loss: 0.0000, Train L1 Norm: 0.0077, Test L1 Norm: 0.0075, Train Linf Norm: 0.2023, Test Linf Norm: 0.1778\n",
            "Epoch 214: Train Loss: 0.0000, Test Loss: 0.0000, Train L1 Norm: 0.0077, Test L1 Norm: 0.0075, Train Linf Norm: 0.2045, Test Linf Norm: 0.1778\n",
            "Epoch 215: Train Loss: 0.0000, Test Loss: 0.0000, Train L1 Norm: 0.0077, Test L1 Norm: 0.0075, Train Linf Norm: 0.2043, Test Linf Norm: 0.1779\n",
            "Epoch 216: Train Loss: 0.0000, Test Loss: 0.0000, Train L1 Norm: 0.0077, Test L1 Norm: 0.0075, Train Linf Norm: 0.2054, Test Linf Norm: 0.1778\n",
            "Epoch 217: Train Loss: 0.0000, Test Loss: 0.0000, Train L1 Norm: 0.0077, Test L1 Norm: 0.0075, Train Linf Norm: 0.2053, Test Linf Norm: 0.1778\n",
            "Epoch 218: Train Loss: 0.0000, Test Loss: 0.0000, Train L1 Norm: 0.0077, Test L1 Norm: 0.0075, Train Linf Norm: 0.2044, Test Linf Norm: 0.1778\n",
            "Epoch 219: Train Loss: 0.0000, Test Loss: 0.0000, Train L1 Norm: 0.0077, Test L1 Norm: 0.0075, Train Linf Norm: 0.2084, Test Linf Norm: 0.1779\n",
            "Epoch 220: Train Loss: 0.0000, Test Loss: 0.0000, Train L1 Norm: 0.0077, Test L1 Norm: 0.0075, Train Linf Norm: 0.2023, Test Linf Norm: 0.1779\n",
            "Epoch 221: Train Loss: 0.0000, Test Loss: 0.0000, Train L1 Norm: 0.0077, Test L1 Norm: 0.0075, Train Linf Norm: 0.2051, Test Linf Norm: 0.1779\n",
            "Epoch 222: Train Loss: 0.0000, Test Loss: 0.0000, Train L1 Norm: 0.0077, Test L1 Norm: 0.0075, Train Linf Norm: 0.2055, Test Linf Norm: 0.1779\n",
            "Epoch 223: Train Loss: 0.0000, Test Loss: 0.0000, Train L1 Norm: 0.0077, Test L1 Norm: 0.0075, Train Linf Norm: 0.2083, Test Linf Norm: 0.1778\n",
            "Epoch 224: Train Loss: 0.0000, Test Loss: 0.0000, Train L1 Norm: 0.0077, Test L1 Norm: 0.0075, Train Linf Norm: 0.2057, Test Linf Norm: 0.1779\n",
            "Epoch 225: Train Loss: 0.0000, Test Loss: 0.0000, Train L1 Norm: 0.0077, Test L1 Norm: 0.0075, Train Linf Norm: 0.2034, Test Linf Norm: 0.1779\n",
            "Epoch 226: Train Loss: 0.0000, Test Loss: 0.0000, Train L1 Norm: 0.0077, Test L1 Norm: 0.0075, Train Linf Norm: 0.2060, Test Linf Norm: 0.1778\n",
            "Epoch 227: Train Loss: 0.0000, Test Loss: 0.0000, Train L1 Norm: 0.0077, Test L1 Norm: 0.0075, Train Linf Norm: 0.2034, Test Linf Norm: 0.1778\n",
            "Epoch 228: Train Loss: 0.0000, Test Loss: 0.0000, Train L1 Norm: 0.0077, Test L1 Norm: 0.0075, Train Linf Norm: 0.2048, Test Linf Norm: 0.1778\n",
            "Epoch 229: Train Loss: 0.0000, Test Loss: 0.0000, Train L1 Norm: 0.0077, Test L1 Norm: 0.0075, Train Linf Norm: 0.2058, Test Linf Norm: 0.1778\n",
            "Epoch 230: Train Loss: 0.0000, Test Loss: 0.0000, Train L1 Norm: 0.0077, Test L1 Norm: 0.0075, Train Linf Norm: 0.2042, Test Linf Norm: 0.1778\n",
            "Epoch 231: Train Loss: 0.0000, Test Loss: 0.0000, Train L1 Norm: 0.0077, Test L1 Norm: 0.0075, Train Linf Norm: 0.2051, Test Linf Norm: 0.1779\n",
            "Epoch 232: Train Loss: 0.0000, Test Loss: 0.0000, Train L1 Norm: 0.0077, Test L1 Norm: 0.0075, Train Linf Norm: 0.2032, Test Linf Norm: 0.1778\n",
            "Epoch 233: Train Loss: 0.0000, Test Loss: 0.0000, Train L1 Norm: 0.0077, Test L1 Norm: 0.0075, Train Linf Norm: 0.2048, Test Linf Norm: 0.1778\n",
            "Epoch 234: Train Loss: 0.0000, Test Loss: 0.0000, Train L1 Norm: 0.0077, Test L1 Norm: 0.0075, Train Linf Norm: 0.2038, Test Linf Norm: 0.1778\n",
            "Epoch 235: Train Loss: 0.0000, Test Loss: 0.0000, Train L1 Norm: 0.0077, Test L1 Norm: 0.0075, Train Linf Norm: 0.2047, Test Linf Norm: 0.1778\n",
            "Epoch 236: Train Loss: 0.0000, Test Loss: 0.0000, Train L1 Norm: 0.0077, Test L1 Norm: 0.0075, Train Linf Norm: 0.2055, Test Linf Norm: 0.1778\n",
            "Epoch 237: Train Loss: 0.0000, Test Loss: 0.0000, Train L1 Norm: 0.0077, Test L1 Norm: 0.0075, Train Linf Norm: 0.2036, Test Linf Norm: 0.1779\n",
            "Epoch 238: Train Loss: 0.0000, Test Loss: 0.0000, Train L1 Norm: 0.0077, Test L1 Norm: 0.0075, Train Linf Norm: 0.2012, Test Linf Norm: 0.1779\n",
            "Epoch 239: Train Loss: 0.0000, Test Loss: 0.0000, Train L1 Norm: 0.0077, Test L1 Norm: 0.0075, Train Linf Norm: 0.2044, Test Linf Norm: 0.1778\n",
            "Epoch 240: Train Loss: 0.0000, Test Loss: 0.0000, Train L1 Norm: 0.0077, Test L1 Norm: 0.0075, Train Linf Norm: 0.2051, Test Linf Norm: 0.1778\n",
            "Epoch 241: Train Loss: 0.0000, Test Loss: 0.0000, Train L1 Norm: 0.0077, Test L1 Norm: 0.0075, Train Linf Norm: 0.2049, Test Linf Norm: 0.1779\n",
            "Epoch 242: Train Loss: 0.0000, Test Loss: 0.0000, Train L1 Norm: 0.0077, Test L1 Norm: 0.0075, Train Linf Norm: 0.2046, Test Linf Norm: 0.1778\n",
            "Epoch 243: Train Loss: 0.0000, Test Loss: 0.0000, Train L1 Norm: 0.0077, Test L1 Norm: 0.0075, Train Linf Norm: 0.2027, Test Linf Norm: 0.1778\n",
            "Epoch 244: Train Loss: 0.0000, Test Loss: 0.0000, Train L1 Norm: 0.0077, Test L1 Norm: 0.0075, Train Linf Norm: 0.2047, Test Linf Norm: 0.1779\n",
            "Epoch 245: Train Loss: 0.0000, Test Loss: 0.0000, Train L1 Norm: 0.0077, Test L1 Norm: 0.0075, Train Linf Norm: 0.2057, Test Linf Norm: 0.1779\n",
            "Epoch 246: Train Loss: 0.0000, Test Loss: 0.0000, Train L1 Norm: 0.0077, Test L1 Norm: 0.0075, Train Linf Norm: 0.2037, Test Linf Norm: 0.1778\n",
            "Epoch 247: Train Loss: 0.0000, Test Loss: 0.0000, Train L1 Norm: 0.0077, Test L1 Norm: 0.0075, Train Linf Norm: 0.2022, Test Linf Norm: 0.1778\n",
            "Epoch 248: Train Loss: 0.0000, Test Loss: 0.0000, Train L1 Norm: 0.0077, Test L1 Norm: 0.0075, Train Linf Norm: 0.2035, Test Linf Norm: 0.1778\n",
            "Epoch 249: Train Loss: 0.0000, Test Loss: 0.0000, Train L1 Norm: 0.0077, Test L1 Norm: 0.0075, Train Linf Norm: 0.2044, Test Linf Norm: 0.1778\n",
            "Epoch 250: Train Loss: 0.0000, Test Loss: 0.0000, Train L1 Norm: 0.0077, Test L1 Norm: 0.0075, Train Linf Norm: 0.2070, Test Linf Norm: 0.1779\n",
            "Epoch 251: Train Loss: 0.0000, Test Loss: 0.0000, Train L1 Norm: 0.0077, Test L1 Norm: 0.0075, Train Linf Norm: 0.2034, Test Linf Norm: 0.1779\n",
            "Epoch 252: Train Loss: 0.0000, Test Loss: 0.0000, Train L1 Norm: 0.0077, Test L1 Norm: 0.0075, Train Linf Norm: 0.2035, Test Linf Norm: 0.1778\n",
            "Epoch 253: Train Loss: 0.0000, Test Loss: 0.0000, Train L1 Norm: 0.0077, Test L1 Norm: 0.0075, Train Linf Norm: 0.2060, Test Linf Norm: 0.1778\n",
            "Epoch 254: Train Loss: 0.0000, Test Loss: 0.0000, Train L1 Norm: 0.0077, Test L1 Norm: 0.0075, Train Linf Norm: 0.2076, Test Linf Norm: 0.1779\n",
            "Epoch 255: Train Loss: 0.0000, Test Loss: 0.0000, Train L1 Norm: 0.0077, Test L1 Norm: 0.0075, Train Linf Norm: 0.2058, Test Linf Norm: 0.1778\n",
            "Epoch 256: Train Loss: 0.0000, Test Loss: 0.0000, Train L1 Norm: 0.0077, Test L1 Norm: 0.0075, Train Linf Norm: 0.2042, Test Linf Norm: 0.1778\n",
            "Epoch 257: Train Loss: 0.0000, Test Loss: 0.0000, Train L1 Norm: 0.0077, Test L1 Norm: 0.0075, Train Linf Norm: 0.2052, Test Linf Norm: 0.1778\n",
            "Epoch 258: Train Loss: 0.0000, Test Loss: 0.0000, Train L1 Norm: 0.0077, Test L1 Norm: 0.0075, Train Linf Norm: 0.2054, Test Linf Norm: 0.1778\n",
            "Epoch 259: Train Loss: 0.0000, Test Loss: 0.0000, Train L1 Norm: 0.0077, Test L1 Norm: 0.0075, Train Linf Norm: 0.2069, Test Linf Norm: 0.1778\n",
            "Epoch 260: Train Loss: 0.0000, Test Loss: 0.0000, Train L1 Norm: 0.0077, Test L1 Norm: 0.0075, Train Linf Norm: 0.2054, Test Linf Norm: 0.1778\n",
            "Epoch 261: Train Loss: 0.0000, Test Loss: 0.0000, Train L1 Norm: 0.0077, Test L1 Norm: 0.0075, Train Linf Norm: 0.2022, Test Linf Norm: 0.1778\n",
            "Epoch 262: Train Loss: 0.0000, Test Loss: 0.0000, Train L1 Norm: 0.0077, Test L1 Norm: 0.0075, Train Linf Norm: 0.2048, Test Linf Norm: 0.1778\n",
            "Epoch 263: Train Loss: 0.0000, Test Loss: 0.0000, Train L1 Norm: 0.0077, Test L1 Norm: 0.0075, Train Linf Norm: 0.2039, Test Linf Norm: 0.1778\n",
            "Epoch 264: Train Loss: 0.0000, Test Loss: 0.0000, Train L1 Norm: 0.0077, Test L1 Norm: 0.0075, Train Linf Norm: 0.2057, Test Linf Norm: 0.1779\n",
            "Epoch 265: Train Loss: 0.0000, Test Loss: 0.0000, Train L1 Norm: 0.0077, Test L1 Norm: 0.0075, Train Linf Norm: 0.2011, Test Linf Norm: 0.1778\n",
            "Epoch 266: Train Loss: 0.0000, Test Loss: 0.0000, Train L1 Norm: 0.0077, Test L1 Norm: 0.0075, Train Linf Norm: 0.2019, Test Linf Norm: 0.1778\n",
            "Epoch 267: Train Loss: 0.0000, Test Loss: 0.0000, Train L1 Norm: 0.0077, Test L1 Norm: 0.0075, Train Linf Norm: 0.2058, Test Linf Norm: 0.1778\n",
            "Epoch 268: Train Loss: 0.0000, Test Loss: 0.0000, Train L1 Norm: 0.0077, Test L1 Norm: 0.0075, Train Linf Norm: 0.2041, Test Linf Norm: 0.1778\n",
            "Epoch 269: Train Loss: 0.0000, Test Loss: 0.0000, Train L1 Norm: 0.0077, Test L1 Norm: 0.0075, Train Linf Norm: 0.2039, Test Linf Norm: 0.1778\n",
            "Epoch 270: Train Loss: 0.0000, Test Loss: 0.0000, Train L1 Norm: 0.0077, Test L1 Norm: 0.0075, Train Linf Norm: 0.2057, Test Linf Norm: 0.1779\n",
            "Epoch 271: Train Loss: 0.0000, Test Loss: 0.0000, Train L1 Norm: 0.0077, Test L1 Norm: 0.0075, Train Linf Norm: 0.2047, Test Linf Norm: 0.1778\n",
            "Epoch 272: Train Loss: 0.0000, Test Loss: 0.0000, Train L1 Norm: 0.0077, Test L1 Norm: 0.0075, Train Linf Norm: 0.2003, Test Linf Norm: 0.1778\n",
            "Epoch 273: Train Loss: 0.0000, Test Loss: 0.0000, Train L1 Norm: 0.0077, Test L1 Norm: 0.0075, Train Linf Norm: 0.2067, Test Linf Norm: 0.1778\n",
            "Epoch 274: Train Loss: 0.0000, Test Loss: 0.0000, Train L1 Norm: 0.0077, Test L1 Norm: 0.0075, Train Linf Norm: 0.2031, Test Linf Norm: 0.1778\n",
            "Epoch 275: Train Loss: 0.0000, Test Loss: 0.0000, Train L1 Norm: 0.0077, Test L1 Norm: 0.0075, Train Linf Norm: 0.2054, Test Linf Norm: 0.1778\n",
            "Epoch 276: Train Loss: 0.0000, Test Loss: 0.0000, Train L1 Norm: 0.0077, Test L1 Norm: 0.0075, Train Linf Norm: 0.2024, Test Linf Norm: 0.1778\n",
            "Epoch 277: Train Loss: 0.0000, Test Loss: 0.0000, Train L1 Norm: 0.0077, Test L1 Norm: 0.0075, Train Linf Norm: 0.2025, Test Linf Norm: 0.1778\n",
            "Epoch 278: Train Loss: 0.0000, Test Loss: 0.0000, Train L1 Norm: 0.0077, Test L1 Norm: 0.0075, Train Linf Norm: 0.2006, Test Linf Norm: 0.1778\n",
            "Epoch 279: Train Loss: 0.0000, Test Loss: 0.0000, Train L1 Norm: 0.0077, Test L1 Norm: 0.0075, Train Linf Norm: 0.2035, Test Linf Norm: 0.1778\n",
            "Epoch 280: Train Loss: 0.0000, Test Loss: 0.0000, Train L1 Norm: 0.0077, Test L1 Norm: 0.0075, Train Linf Norm: 0.2049, Test Linf Norm: 0.1778\n",
            "Epoch 281: Train Loss: 0.0000, Test Loss: 0.0000, Train L1 Norm: 0.0077, Test L1 Norm: 0.0075, Train Linf Norm: 0.2062, Test Linf Norm: 0.1778\n",
            "Epoch 282: Train Loss: 0.0000, Test Loss: 0.0000, Train L1 Norm: 0.0077, Test L1 Norm: 0.0075, Train Linf Norm: 0.2040, Test Linf Norm: 0.1778\n",
            "Epoch 283: Train Loss: 0.0000, Test Loss: 0.0000, Train L1 Norm: 0.0077, Test L1 Norm: 0.0075, Train Linf Norm: 0.2082, Test Linf Norm: 0.1778\n",
            "Epoch 284: Train Loss: 0.0000, Test Loss: 0.0000, Train L1 Norm: 0.0077, Test L1 Norm: 0.0075, Train Linf Norm: 0.2030, Test Linf Norm: 0.1779\n",
            "Epoch 285: Train Loss: 0.0000, Test Loss: 0.0000, Train L1 Norm: 0.0077, Test L1 Norm: 0.0075, Train Linf Norm: 0.2061, Test Linf Norm: 0.1778\n",
            "Epoch 286: Train Loss: 0.0000, Test Loss: 0.0000, Train L1 Norm: 0.0077, Test L1 Norm: 0.0075, Train Linf Norm: 0.2037, Test Linf Norm: 0.1778\n",
            "Epoch 287: Train Loss: 0.0000, Test Loss: 0.0000, Train L1 Norm: 0.0077, Test L1 Norm: 0.0075, Train Linf Norm: 0.2039, Test Linf Norm: 0.1778\n",
            "Epoch 288: Train Loss: 0.0000, Test Loss: 0.0000, Train L1 Norm: 0.0077, Test L1 Norm: 0.0075, Train Linf Norm: 0.2033, Test Linf Norm: 0.1779\n",
            "Epoch 289: Train Loss: 0.0000, Test Loss: 0.0000, Train L1 Norm: 0.0077, Test L1 Norm: 0.0075, Train Linf Norm: 0.2013, Test Linf Norm: 0.1778\n",
            "Epoch 290: Train Loss: 0.0000, Test Loss: 0.0000, Train L1 Norm: 0.0077, Test L1 Norm: 0.0075, Train Linf Norm: 0.2063, Test Linf Norm: 0.1778\n",
            "Epoch 291: Train Loss: 0.0000, Test Loss: 0.0000, Train L1 Norm: 0.0077, Test L1 Norm: 0.0075, Train Linf Norm: 0.2025, Test Linf Norm: 0.1779\n",
            "Epoch 292: Train Loss: 0.0000, Test Loss: 0.0000, Train L1 Norm: 0.0077, Test L1 Norm: 0.0075, Train Linf Norm: 0.2085, Test Linf Norm: 0.1778\n",
            "Epoch 293: Train Loss: 0.0000, Test Loss: 0.0000, Train L1 Norm: 0.0077, Test L1 Norm: 0.0075, Train Linf Norm: 0.2043, Test Linf Norm: 0.1778\n",
            "Epoch 294: Train Loss: 0.0000, Test Loss: 0.0000, Train L1 Norm: 0.0077, Test L1 Norm: 0.0075, Train Linf Norm: 0.2040, Test Linf Norm: 0.1778\n",
            "Epoch 295: Train Loss: 0.0000, Test Loss: 0.0000, Train L1 Norm: 0.0077, Test L1 Norm: 0.0075, Train Linf Norm: 0.2056, Test Linf Norm: 0.1778\n",
            "Epoch 296: Train Loss: 0.0000, Test Loss: 0.0000, Train L1 Norm: 0.0077, Test L1 Norm: 0.0075, Train Linf Norm: 0.2018, Test Linf Norm: 0.1778\n",
            "Epoch 297: Train Loss: 0.0000, Test Loss: 0.0000, Train L1 Norm: 0.0077, Test L1 Norm: 0.0075, Train Linf Norm: 0.2038, Test Linf Norm: 0.1778\n",
            "Epoch 298: Train Loss: 0.0000, Test Loss: 0.0000, Train L1 Norm: 0.0077, Test L1 Norm: 0.0075, Train Linf Norm: 0.2034, Test Linf Norm: 0.1778\n",
            "Epoch 299: Train Loss: 0.0000, Test Loss: 0.0000, Train L1 Norm: 0.0077, Test L1 Norm: 0.0075, Train Linf Norm: 0.2019, Test Linf Norm: 0.1779\n",
            "Epoch 300: Train Loss: 0.0000, Test Loss: 0.0000, Train L1 Norm: 0.0077, Test L1 Norm: 0.0075, Train Linf Norm: 0.2071, Test Linf Norm: 0.1778\n",
            "Epoch 301: Train Loss: 0.0000, Test Loss: 0.0000, Train L1 Norm: 0.0077, Test L1 Norm: 0.0075, Train Linf Norm: 0.2057, Test Linf Norm: 0.1778\n",
            "Epoch 302: Train Loss: 0.0000, Test Loss: 0.0000, Train L1 Norm: 0.0077, Test L1 Norm: 0.0075, Train Linf Norm: 0.2048, Test Linf Norm: 0.1778\n",
            "Epoch 303: Train Loss: 0.0000, Test Loss: 0.0000, Train L1 Norm: 0.0077, Test L1 Norm: 0.0075, Train Linf Norm: 0.2024, Test Linf Norm: 0.1778\n",
            "Epoch 304: Train Loss: 0.0000, Test Loss: 0.0000, Train L1 Norm: 0.0077, Test L1 Norm: 0.0075, Train Linf Norm: 0.2035, Test Linf Norm: 0.1778\n",
            "Epoch 305: Train Loss: 0.0000, Test Loss: 0.0000, Train L1 Norm: 0.0077, Test L1 Norm: 0.0075, Train Linf Norm: 0.2016, Test Linf Norm: 0.1778\n",
            "Epoch 306: Train Loss: 0.0000, Test Loss: 0.0000, Train L1 Norm: 0.0077, Test L1 Norm: 0.0075, Train Linf Norm: 0.2048, Test Linf Norm: 0.1778\n",
            "Epoch 307: Train Loss: 0.0000, Test Loss: 0.0000, Train L1 Norm: 0.0077, Test L1 Norm: 0.0075, Train Linf Norm: 0.2070, Test Linf Norm: 0.1778\n",
            "Epoch 308: Train Loss: 0.0000, Test Loss: 0.0000, Train L1 Norm: 0.0077, Test L1 Norm: 0.0075, Train Linf Norm: 0.2050, Test Linf Norm: 0.1778\n",
            "Epoch 309: Train Loss: 0.0000, Test Loss: 0.0000, Train L1 Norm: 0.0077, Test L1 Norm: 0.0075, Train Linf Norm: 0.2035, Test Linf Norm: 0.1778\n",
            "Epoch 310: Train Loss: 0.0000, Test Loss: 0.0000, Train L1 Norm: 0.0077, Test L1 Norm: 0.0075, Train Linf Norm: 0.2072, Test Linf Norm: 0.1778\n",
            "Epoch 311: Train Loss: 0.0000, Test Loss: 0.0000, Train L1 Norm: 0.0077, Test L1 Norm: 0.0075, Train Linf Norm: 0.2025, Test Linf Norm: 0.1778\n",
            "Epoch 312: Train Loss: 0.0000, Test Loss: 0.0000, Train L1 Norm: 0.0077, Test L1 Norm: 0.0075, Train Linf Norm: 0.2035, Test Linf Norm: 0.1778\n",
            "Epoch 313: Train Loss: 0.0000, Test Loss: 0.0000, Train L1 Norm: 0.0077, Test L1 Norm: 0.0075, Train Linf Norm: 0.2048, Test Linf Norm: 0.1778\n",
            "Epoch 314: Train Loss: 0.0000, Test Loss: 0.0000, Train L1 Norm: 0.0077, Test L1 Norm: 0.0075, Train Linf Norm: 0.2034, Test Linf Norm: 0.1778\n",
            "Epoch 315: Train Loss: 0.0000, Test Loss: 0.0000, Train L1 Norm: 0.0077, Test L1 Norm: 0.0075, Train Linf Norm: 0.2058, Test Linf Norm: 0.1778\n",
            "Epoch 316: Train Loss: 0.0000, Test Loss: 0.0000, Train L1 Norm: 0.0077, Test L1 Norm: 0.0075, Train Linf Norm: 0.2059, Test Linf Norm: 0.1778\n",
            "Epoch 317: Train Loss: 0.0000, Test Loss: 0.0000, Train L1 Norm: 0.0077, Test L1 Norm: 0.0075, Train Linf Norm: 0.2018, Test Linf Norm: 0.1778\n",
            "Epoch 318: Train Loss: 0.0000, Test Loss: 0.0000, Train L1 Norm: 0.0077, Test L1 Norm: 0.0075, Train Linf Norm: 0.2029, Test Linf Norm: 0.1778\n",
            "Epoch 319: Train Loss: 0.0000, Test Loss: 0.0000, Train L1 Norm: 0.0077, Test L1 Norm: 0.0075, Train Linf Norm: 0.2029, Test Linf Norm: 0.1778\n",
            "Epoch 320: Train Loss: 0.0000, Test Loss: 0.0000, Train L1 Norm: 0.0077, Test L1 Norm: 0.0075, Train Linf Norm: 0.2055, Test Linf Norm: 0.1778\n",
            "Epoch 321: Train Loss: 0.0000, Test Loss: 0.0000, Train L1 Norm: 0.0077, Test L1 Norm: 0.0075, Train Linf Norm: 0.2062, Test Linf Norm: 0.1778\n",
            "Epoch 322: Train Loss: 0.0000, Test Loss: 0.0000, Train L1 Norm: 0.0077, Test L1 Norm: 0.0075, Train Linf Norm: 0.2064, Test Linf Norm: 0.1778\n",
            "Epoch 323: Train Loss: 0.0000, Test Loss: 0.0000, Train L1 Norm: 0.0077, Test L1 Norm: 0.0075, Train Linf Norm: 0.2044, Test Linf Norm: 0.1778\n",
            "Epoch 324: Train Loss: 0.0000, Test Loss: 0.0000, Train L1 Norm: 0.0077, Test L1 Norm: 0.0075, Train Linf Norm: 0.2037, Test Linf Norm: 0.1778\n",
            "Epoch 325: Train Loss: 0.0000, Test Loss: 0.0000, Train L1 Norm: 0.0077, Test L1 Norm: 0.0075, Train Linf Norm: 0.2044, Test Linf Norm: 0.1778\n",
            "Epoch 326: Train Loss: 0.0000, Test Loss: 0.0000, Train L1 Norm: 0.0077, Test L1 Norm: 0.0075, Train Linf Norm: 0.2061, Test Linf Norm: 0.1778\n",
            "Epoch 327: Train Loss: 0.0000, Test Loss: 0.0000, Train L1 Norm: 0.0077, Test L1 Norm: 0.0075, Train Linf Norm: 0.2063, Test Linf Norm: 0.1778\n",
            "Epoch 328: Train Loss: 0.0000, Test Loss: 0.0000, Train L1 Norm: 0.0077, Test L1 Norm: 0.0075, Train Linf Norm: 0.2060, Test Linf Norm: 0.1778\n",
            "Epoch 329: Train Loss: 0.0000, Test Loss: 0.0000, Train L1 Norm: 0.0077, Test L1 Norm: 0.0075, Train Linf Norm: 0.2064, Test Linf Norm: 0.1778\n",
            "Epoch 330: Train Loss: 0.0000, Test Loss: 0.0000, Train L1 Norm: 0.0077, Test L1 Norm: 0.0075, Train Linf Norm: 0.2057, Test Linf Norm: 0.1778\n",
            "Epoch 331: Train Loss: 0.0000, Test Loss: 0.0000, Train L1 Norm: 0.0077, Test L1 Norm: 0.0075, Train Linf Norm: 0.2041, Test Linf Norm: 0.1778\n",
            "Epoch 332: Train Loss: 0.0000, Test Loss: 0.0000, Train L1 Norm: 0.0077, Test L1 Norm: 0.0075, Train Linf Norm: 0.2063, Test Linf Norm: 0.1778\n",
            "Epoch 333: Train Loss: 0.0000, Test Loss: 0.0000, Train L1 Norm: 0.0077, Test L1 Norm: 0.0075, Train Linf Norm: 0.2018, Test Linf Norm: 0.1778\n",
            "Epoch 334: Train Loss: 0.0000, Test Loss: 0.0000, Train L1 Norm: 0.0077, Test L1 Norm: 0.0075, Train Linf Norm: 0.2053, Test Linf Norm: 0.1778\n",
            "Epoch 335: Train Loss: 0.0000, Test Loss: 0.0000, Train L1 Norm: 0.0077, Test L1 Norm: 0.0075, Train Linf Norm: 0.2063, Test Linf Norm: 0.1778\n",
            "Epoch 336: Train Loss: 0.0000, Test Loss: 0.0000, Train L1 Norm: 0.0077, Test L1 Norm: 0.0075, Train Linf Norm: 0.2026, Test Linf Norm: 0.1778\n",
            "Epoch 337: Train Loss: 0.0000, Test Loss: 0.0000, Train L1 Norm: 0.0077, Test L1 Norm: 0.0075, Train Linf Norm: 0.2053, Test Linf Norm: 0.1778\n",
            "Epoch 338: Train Loss: 0.0000, Test Loss: 0.0000, Train L1 Norm: 0.0077, Test L1 Norm: 0.0075, Train Linf Norm: 0.2057, Test Linf Norm: 0.1778\n",
            "Epoch 339: Train Loss: 0.0000, Test Loss: 0.0000, Train L1 Norm: 0.0077, Test L1 Norm: 0.0075, Train Linf Norm: 0.2012, Test Linf Norm: 0.1778\n",
            "Epoch 340: Train Loss: 0.0000, Test Loss: 0.0000, Train L1 Norm: 0.0077, Test L1 Norm: 0.0075, Train Linf Norm: 0.2022, Test Linf Norm: 0.1778\n",
            "Epoch 341: Train Loss: 0.0000, Test Loss: 0.0000, Train L1 Norm: 0.0077, Test L1 Norm: 0.0075, Train Linf Norm: 0.2027, Test Linf Norm: 0.1778\n",
            "Epoch 342: Train Loss: 0.0000, Test Loss: 0.0000, Train L1 Norm: 0.0077, Test L1 Norm: 0.0075, Train Linf Norm: 0.2057, Test Linf Norm: 0.1778\n",
            "Epoch 343: Train Loss: 0.0000, Test Loss: 0.0000, Train L1 Norm: 0.0077, Test L1 Norm: 0.0075, Train Linf Norm: 0.2068, Test Linf Norm: 0.1778\n",
            "Epoch 344: Train Loss: 0.0000, Test Loss: 0.0000, Train L1 Norm: 0.0077, Test L1 Norm: 0.0075, Train Linf Norm: 0.2065, Test Linf Norm: 0.1778\n",
            "Epoch 345: Train Loss: 0.0000, Test Loss: 0.0000, Train L1 Norm: 0.0077, Test L1 Norm: 0.0075, Train Linf Norm: 0.2050, Test Linf Norm: 0.1778\n",
            "Epoch 346: Train Loss: 0.0000, Test Loss: 0.0000, Train L1 Norm: 0.0077, Test L1 Norm: 0.0075, Train Linf Norm: 0.2070, Test Linf Norm: 0.1778\n",
            "Epoch 347: Train Loss: 0.0000, Test Loss: 0.0000, Train L1 Norm: 0.0077, Test L1 Norm: 0.0075, Train Linf Norm: 0.2042, Test Linf Norm: 0.1778\n",
            "Epoch 348: Train Loss: 0.0000, Test Loss: 0.0000, Train L1 Norm: 0.0077, Test L1 Norm: 0.0075, Train Linf Norm: 0.2045, Test Linf Norm: 0.1778\n",
            "Epoch 349: Train Loss: 0.0000, Test Loss: 0.0000, Train L1 Norm: 0.0077, Test L1 Norm: 0.0075, Train Linf Norm: 0.2066, Test Linf Norm: 0.1778\n",
            "Epoch 350: Train Loss: 0.0000, Test Loss: 0.0000, Train L1 Norm: 0.0077, Test L1 Norm: 0.0075, Train Linf Norm: 0.2019, Test Linf Norm: 0.1778\n",
            "Epoch 351: Train Loss: 0.0000, Test Loss: 0.0000, Train L1 Norm: 0.0077, Test L1 Norm: 0.0075, Train Linf Norm: 0.2052, Test Linf Norm: 0.1778\n",
            "Epoch 352: Train Loss: 0.0000, Test Loss: 0.0000, Train L1 Norm: 0.0077, Test L1 Norm: 0.0075, Train Linf Norm: 0.2041, Test Linf Norm: 0.1778\n",
            "Epoch 353: Train Loss: 0.0000, Test Loss: 0.0000, Train L1 Norm: 0.0077, Test L1 Norm: 0.0075, Train Linf Norm: 0.2048, Test Linf Norm: 0.1778\n",
            "Epoch 354: Train Loss: 0.0000, Test Loss: 0.0000, Train L1 Norm: 0.0077, Test L1 Norm: 0.0075, Train Linf Norm: 0.2058, Test Linf Norm: 0.1778\n",
            "Epoch 355: Train Loss: 0.0000, Test Loss: 0.0000, Train L1 Norm: 0.0077, Test L1 Norm: 0.0075, Train Linf Norm: 0.2063, Test Linf Norm: 0.1778\n",
            "Epoch 356: Train Loss: 0.0000, Test Loss: 0.0000, Train L1 Norm: 0.0077, Test L1 Norm: 0.0075, Train Linf Norm: 0.2045, Test Linf Norm: 0.1779\n",
            "Epoch 357: Train Loss: 0.0000, Test Loss: 0.0000, Train L1 Norm: 0.0077, Test L1 Norm: 0.0075, Train Linf Norm: 0.2060, Test Linf Norm: 0.1778\n",
            "Epoch 358: Train Loss: 0.0000, Test Loss: 0.0000, Train L1 Norm: 0.0077, Test L1 Norm: 0.0075, Train Linf Norm: 0.2040, Test Linf Norm: 0.1778\n",
            "Epoch 359: Train Loss: 0.0000, Test Loss: 0.0000, Train L1 Norm: 0.0077, Test L1 Norm: 0.0075, Train Linf Norm: 0.2067, Test Linf Norm: 0.1778\n",
            "Epoch 360: Train Loss: 0.0000, Test Loss: 0.0000, Train L1 Norm: 0.0077, Test L1 Norm: 0.0075, Train Linf Norm: 0.2063, Test Linf Norm: 0.1778\n",
            "Epoch 361: Train Loss: 0.0000, Test Loss: 0.0000, Train L1 Norm: 0.0077, Test L1 Norm: 0.0075, Train Linf Norm: 0.2039, Test Linf Norm: 0.1779\n",
            "Epoch 362: Train Loss: 0.0000, Test Loss: 0.0000, Train L1 Norm: 0.0077, Test L1 Norm: 0.0075, Train Linf Norm: 0.2072, Test Linf Norm: 0.1778\n",
            "Epoch 363: Train Loss: 0.0000, Test Loss: 0.0000, Train L1 Norm: 0.0077, Test L1 Norm: 0.0075, Train Linf Norm: 0.2031, Test Linf Norm: 0.1778\n",
            "Epoch 364: Train Loss: 0.0000, Test Loss: 0.0000, Train L1 Norm: 0.0077, Test L1 Norm: 0.0075, Train Linf Norm: 0.2016, Test Linf Norm: 0.1778\n",
            "Epoch 365: Train Loss: 0.0000, Test Loss: 0.0000, Train L1 Norm: 0.0077, Test L1 Norm: 0.0075, Train Linf Norm: 0.2058, Test Linf Norm: 0.1778\n",
            "Epoch 366: Train Loss: 0.0000, Test Loss: 0.0000, Train L1 Norm: 0.0077, Test L1 Norm: 0.0075, Train Linf Norm: 0.2065, Test Linf Norm: 0.1778\n",
            "Epoch 367: Train Loss: 0.0000, Test Loss: 0.0000, Train L1 Norm: 0.0077, Test L1 Norm: 0.0075, Train Linf Norm: 0.2025, Test Linf Norm: 0.1778\n",
            "Epoch 368: Train Loss: 0.0000, Test Loss: 0.0000, Train L1 Norm: 0.0077, Test L1 Norm: 0.0075, Train Linf Norm: 0.2058, Test Linf Norm: 0.1778\n",
            "Epoch 369: Train Loss: 0.0000, Test Loss: 0.0000, Train L1 Norm: 0.0077, Test L1 Norm: 0.0075, Train Linf Norm: 0.2030, Test Linf Norm: 0.1778\n",
            "Epoch 370: Train Loss: 0.0000, Test Loss: 0.0000, Train L1 Norm: 0.0077, Test L1 Norm: 0.0075, Train Linf Norm: 0.2062, Test Linf Norm: 0.1778\n",
            "Epoch 371: Train Loss: 0.0000, Test Loss: 0.0000, Train L1 Norm: 0.0077, Test L1 Norm: 0.0075, Train Linf Norm: 0.2056, Test Linf Norm: 0.1778\n",
            "Epoch 372: Train Loss: 0.0000, Test Loss: 0.0000, Train L1 Norm: 0.0077, Test L1 Norm: 0.0075, Train Linf Norm: 0.2055, Test Linf Norm: 0.1778\n",
            "Epoch 373: Train Loss: 0.0000, Test Loss: 0.0000, Train L1 Norm: 0.0077, Test L1 Norm: 0.0075, Train Linf Norm: 0.2040, Test Linf Norm: 0.1779\n",
            "Epoch 374: Train Loss: 0.0000, Test Loss: 0.0000, Train L1 Norm: 0.0077, Test L1 Norm: 0.0075, Train Linf Norm: 0.2059, Test Linf Norm: 0.1778\n",
            "Epoch 375: Train Loss: 0.0000, Test Loss: 0.0000, Train L1 Norm: 0.0077, Test L1 Norm: 0.0075, Train Linf Norm: 0.2033, Test Linf Norm: 0.1779\n",
            "Epoch 376: Train Loss: 0.0000, Test Loss: 0.0000, Train L1 Norm: 0.0077, Test L1 Norm: 0.0075, Train Linf Norm: 0.2059, Test Linf Norm: 0.1778\n",
            "Epoch 377: Train Loss: 0.0000, Test Loss: 0.0000, Train L1 Norm: 0.0077, Test L1 Norm: 0.0075, Train Linf Norm: 0.2026, Test Linf Norm: 0.1779\n",
            "Epoch 378: Train Loss: 0.0000, Test Loss: 0.0000, Train L1 Norm: 0.0077, Test L1 Norm: 0.0075, Train Linf Norm: 0.2061, Test Linf Norm: 0.1779\n",
            "Epoch 379: Train Loss: 0.0000, Test Loss: 0.0000, Train L1 Norm: 0.0077, Test L1 Norm: 0.0075, Train Linf Norm: 0.2048, Test Linf Norm: 0.1779\n",
            "Epoch 380: Train Loss: 0.0000, Test Loss: 0.0000, Train L1 Norm: 0.0077, Test L1 Norm: 0.0075, Train Linf Norm: 0.2072, Test Linf Norm: 0.1778\n",
            "Epoch 381: Train Loss: 0.0000, Test Loss: 0.0000, Train L1 Norm: 0.0077, Test L1 Norm: 0.0075, Train Linf Norm: 0.2028, Test Linf Norm: 0.1779\n",
            "Epoch 382: Train Loss: 0.0000, Test Loss: 0.0000, Train L1 Norm: 0.0077, Test L1 Norm: 0.0075, Train Linf Norm: 0.2044, Test Linf Norm: 0.1779\n",
            "Epoch 383: Train Loss: 0.0000, Test Loss: 0.0000, Train L1 Norm: 0.0077, Test L1 Norm: 0.0075, Train Linf Norm: 0.2071, Test Linf Norm: 0.1779\n",
            "Epoch 384: Train Loss: 0.0000, Test Loss: 0.0000, Train L1 Norm: 0.0077, Test L1 Norm: 0.0075, Train Linf Norm: 0.2046, Test Linf Norm: 0.1778\n",
            "Epoch 385: Train Loss: 0.0000, Test Loss: 0.0000, Train L1 Norm: 0.0077, Test L1 Norm: 0.0075, Train Linf Norm: 0.2068, Test Linf Norm: 0.1779\n",
            "Epoch 386: Train Loss: 0.0000, Test Loss: 0.0000, Train L1 Norm: 0.0077, Test L1 Norm: 0.0075, Train Linf Norm: 0.2044, Test Linf Norm: 0.1779\n",
            "Epoch 387: Train Loss: 0.0000, Test Loss: 0.0000, Train L1 Norm: 0.0077, Test L1 Norm: 0.0075, Train Linf Norm: 0.2030, Test Linf Norm: 0.1779\n",
            "Epoch 388: Train Loss: 0.0000, Test Loss: 0.0000, Train L1 Norm: 0.0077, Test L1 Norm: 0.0075, Train Linf Norm: 0.2051, Test Linf Norm: 0.1778\n",
            "Epoch 389: Train Loss: 0.0000, Test Loss: 0.0000, Train L1 Norm: 0.0077, Test L1 Norm: 0.0075, Train Linf Norm: 0.2039, Test Linf Norm: 0.1778\n",
            "Epoch 390: Train Loss: 0.0000, Test Loss: 0.0000, Train L1 Norm: 0.0077, Test L1 Norm: 0.0075, Train Linf Norm: 0.2051, Test Linf Norm: 0.1778\n",
            "Epoch 391: Train Loss: 0.0000, Test Loss: 0.0000, Train L1 Norm: 0.0077, Test L1 Norm: 0.0075, Train Linf Norm: 0.2061, Test Linf Norm: 0.1778\n",
            "Epoch 392: Train Loss: 0.0000, Test Loss: 0.0000, Train L1 Norm: 0.0077, Test L1 Norm: 0.0075, Train Linf Norm: 0.2054, Test Linf Norm: 0.1778\n",
            "Epoch 393: Train Loss: 0.0000, Test Loss: 0.0000, Train L1 Norm: 0.0077, Test L1 Norm: 0.0075, Train Linf Norm: 0.2052, Test Linf Norm: 0.1778\n",
            "Epoch 394: Train Loss: 0.0000, Test Loss: 0.0000, Train L1 Norm: 0.0077, Test L1 Norm: 0.0075, Train Linf Norm: 0.2023, Test Linf Norm: 0.1778\n",
            "Epoch 395: Train Loss: 0.0000, Test Loss: 0.0000, Train L1 Norm: 0.0077, Test L1 Norm: 0.0075, Train Linf Norm: 0.2046, Test Linf Norm: 0.1778\n",
            "Epoch 396: Train Loss: 0.0000, Test Loss: 0.0000, Train L1 Norm: 0.0077, Test L1 Norm: 0.0075, Train Linf Norm: 0.2061, Test Linf Norm: 0.1778\n",
            "Epoch 397: Train Loss: 0.0000, Test Loss: 0.0000, Train L1 Norm: 0.0077, Test L1 Norm: 0.0075, Train Linf Norm: 0.2018, Test Linf Norm: 0.1779\n",
            "Epoch 398: Train Loss: 0.0000, Test Loss: 0.0000, Train L1 Norm: 0.0077, Test L1 Norm: 0.0075, Train Linf Norm: 0.2061, Test Linf Norm: 0.1779\n",
            "Epoch 399: Train Loss: 0.0000, Test Loss: 0.0000, Train L1 Norm: 0.0077, Test L1 Norm: 0.0075, Train Linf Norm: 0.2046, Test Linf Norm: 0.1779\n",
            "Epoch 400: Train Loss: 0.0000, Test Loss: 0.0000, Train L1 Norm: 0.0077, Test L1 Norm: 0.0075, Train Linf Norm: 0.2074, Test Linf Norm: 0.1778\n"
          ]
        }
      ],
      "source": [
        "# Training and evaluating the network using the train_and_eval function\n",
        "train_losses, test_losses, train_metrics, test_metrics = train_and_eval(\n",
        "    net, loss_fn, optimizer, batch_size, n_epochs, scheduler\n",
        ")"
      ]
    },
    {
      "cell_type": "markdown",
      "metadata": {
        "id": "akNucrgMUZiW"
      },
      "source": [
        "## Saving"
      ]
    },
    {
      "cell_type": "code",
      "execution_count": 150,
      "metadata": {
        "id": "LHsrs2Y-UZic"
      },
      "outputs": [],
      "source": [
        "import json\n",
        "import pandas as pd\n",
        "\n",
        "# save the network to a .pth file\n",
        "torch.save(net.state_dict(), \"net.pth\")\n",
        "save_file(\"net.pth\")\n",
        "\n",
        "# save the optimizer to a .pth file\n",
        "torch.save(optimizer.state_dict(), \"optimizer.pth\")\n",
        "save_file(\"optimizer.pth\")\n",
        "\n",
        "# save the scheduler to a .pth file if it is not None\n",
        "if scheduler is not None:\n",
        "  torch.save(scheduler.state_dict(), \"scheduler.pth\")\n",
        "  save_file(\"scheduler.pth\")\n",
        "\n",
        "# create a dictionary to store the rest of the variables\n",
        "var_dict = {\n",
        "  \"batch_size\": batch_size,\n",
        "  \"n_epochs\": n_epochs,\n",
        "  \"loss_name\": loss_name,\n",
        "  \"optimizer_name\": optimizer_name,\n",
        "  \"scheduler_name\": scheduler_name,\n",
        "  \"n_units\": n_units,\n",
        "  \"n_layers\": n_layers,\n",
        "  \"hidden_activation_name\": hidden_activation.__class__.__name__,\n",
        "  \"output_activation_name\": output_activation.__class__.__name__,\n",
        "  \"lr\": lr,\n",
        "}\n",
        "\n",
        "# save the dictionary to a .json file\n",
        "with open(\"var_dict.json\", \"w\") as f:\n",
        "  json.dump(var_dict, f)\n",
        "save_file(\"var_dict.json\")\n",
        "\n",
        "# Saving the output of the training using pandas\n",
        "train_df = pd.DataFrame(\n",
        "    {\n",
        "        \"train_loss\": train_losses,\n",
        "        \"test_loss\": test_losses,\n",
        "        \"train_l1_norm\": [m[\"l1_norm\"] for m in train_metrics],\n",
        "        \"test_l1_norm\": [m[\"l1_norm\"] for m in test_metrics],\n",
        "        \"train_linf_norm\": [m[\"linf_norm\"] for m in train_metrics],\n",
        "        \"test_linf_norm\": [m[\"linf_norm\"] for m in test_metrics],\n",
        "    }\n",
        ")\n",
        "train_df.to_csv(\"train_output.csv\", index=False)\n",
        "save_file(\"train_output.csv\")\n"
      ]
    },
    {
      "cell_type": "markdown",
      "metadata": {
        "id": "qU23l7dIUZie"
      },
      "source": [
        "## Visualizing the results"
      ]
    },
    {
      "cell_type": "code",
      "execution_count": 151,
      "metadata": {
        "colab": {
          "base_uri": "https://localhost:8080/",
          "height": 1000
        },
        "id": "cippWZS6UZie",
        "outputId": "f0d6e5c3-945f-481b-a153-e54fed7fe9fa"
      },
      "outputs": [
        {
          "data": {
            "text/plain": [
              "<Figure size 1200x800 with 0 Axes>"
            ]
          },
          "execution_count": 151,
          "metadata": {},
          "output_type": "execute_result"
        },
        {
          "data": {
            "text/plain": [
              "<Axes: >"
            ]
          },
          "execution_count": 151,
          "metadata": {},
          "output_type": "execute_result"
        },
        {
          "data": {
            "text/plain": [
              "[<matplotlib.lines.Line2D at 0x2a40604e910>]"
            ]
          },
          "execution_count": 151,
          "metadata": {},
          "output_type": "execute_result"
        },
        {
          "data": {
            "text/plain": [
              "[<matplotlib.lines.Line2D at 0x2a40f6e0090>]"
            ]
          },
          "execution_count": 151,
          "metadata": {},
          "output_type": "execute_result"
        },
        {
          "data": {
            "text/plain": [
              "Text(0.5, 0, 'Epoch')"
            ]
          },
          "execution_count": 151,
          "metadata": {},
          "output_type": "execute_result"
        },
        {
          "data": {
            "text/plain": [
              "Text(0, 0.5, 'L1 Norm')"
            ]
          },
          "execution_count": 151,
          "metadata": {},
          "output_type": "execute_result"
        },
        {
          "data": {
            "text/plain": [
              "(0.001, 100.0)"
            ]
          },
          "execution_count": 151,
          "metadata": {},
          "output_type": "execute_result"
        },
        {
          "data": {
            "text/plain": [
              "<matplotlib.legend.Legend at 0x2a40b4ee2d0>"
            ]
          },
          "execution_count": 151,
          "metadata": {},
          "output_type": "execute_result"
        },
        {
          "data": {
            "text/plain": [
              "<Axes: >"
            ]
          },
          "execution_count": 151,
          "metadata": {},
          "output_type": "execute_result"
        },
        {
          "data": {
            "text/plain": [
              "[<matplotlib.lines.Line2D at 0x2a40f6f53d0>]"
            ]
          },
          "execution_count": 151,
          "metadata": {},
          "output_type": "execute_result"
        },
        {
          "data": {
            "text/plain": [
              "[<matplotlib.lines.Line2D at 0x2a40f724a10>]"
            ]
          },
          "execution_count": 151,
          "metadata": {},
          "output_type": "execute_result"
        },
        {
          "data": {
            "text/plain": [
              "Text(0.5, 0, 'Epoch')"
            ]
          },
          "execution_count": 151,
          "metadata": {},
          "output_type": "execute_result"
        },
        {
          "data": {
            "text/plain": [
              "Text(0, 0.5, 'Linf Norm')"
            ]
          },
          "execution_count": 151,
          "metadata": {},
          "output_type": "execute_result"
        },
        {
          "data": {
            "text/plain": [
              "(0.001, 100.0)"
            ]
          },
          "execution_count": 151,
          "metadata": {},
          "output_type": "execute_result"
        },
        {
          "data": {
            "text/plain": [
              "<matplotlib.legend.Legend at 0x2a40f7355d0>"
            ]
          },
          "execution_count": 151,
          "metadata": {},
          "output_type": "execute_result"
        },
        {
          "data": {
            "image/png": "[encoded data removed]",
            "text/plain": [
              "<Figure size 1200x800 with 2 Axes>"
            ]
          },
          "metadata": {},
          "output_type": "display_data"
        },
        {
          "data": {
            "text/plain": [
              "<Figure size 800x600 with 0 Axes>"
            ]
          },
          "execution_count": 151,
          "metadata": {},
          "output_type": "execute_result"
        },
        {
          "data": {
            "text/plain": [
              "[<matplotlib.lines.Line2D at 0x2a40f957bd0>]"
            ]
          },
          "execution_count": 151,
          "metadata": {},
          "output_type": "execute_result"
        },
        {
          "data": {
            "text/plain": [
              "[<matplotlib.lines.Line2D at 0x2a40f90d190>]"
            ]
          },
          "execution_count": 151,
          "metadata": {},
          "output_type": "execute_result"
        },
        {
          "data": {
            "text/plain": [
              "Text(0.5, 0, 'Epoch')"
            ]
          },
          "execution_count": 151,
          "metadata": {},
          "output_type": "execute_result"
        },
        {
          "data": {
            "text/plain": [
              "Text(0, 0.5, 'MSE')"
            ]
          },
          "execution_count": 151,
          "metadata": {},
          "output_type": "execute_result"
        },
        {
          "data": {
            "text/plain": [
              "(1e-07, 1.0)"
            ]
          },
          "execution_count": 151,
          "metadata": {},
          "output_type": "execute_result"
        },
        {
          "data": {
            "text/plain": [
              "<matplotlib.legend.Legend at 0x2a41121bcd0>"
            ]
          },
          "execution_count": 151,
          "metadata": {},
          "output_type": "execute_result"
        },
        {
          "data": {
            "image/png": "[encoded data removed]",
            "text/plain": [
              "<Figure size 800x600 with 1 Axes>"
            ]
          },
          "metadata": {},
          "output_type": "display_data"
        }
      ],
      "source": [
        "# Plotting the losses and metrics for the best network \n",
        "plt.figure(figsize=(12, 8))\n",
        "#plt.subplot(2, 2, 1)\n",
        "#plt.plot(train_losses, label=\"Train Loss\")\n",
        "#plt.plot(test_losses, label=\"Test Loss\")\n",
        "#plt.xlabel(\"Epoch\")\n",
        "#plt.ylabel(\"Loss\")\n",
        "#plt.legend()\n",
        "plt.subplot(2, 2, 2)\n",
        "plt.plot([m[\"l1_norm\"] for m in train_metrics], label=\"Train L1 Norm\")\n",
        "plt.plot([m[\"l1_norm\"] for m in test_metrics], label=\"Test L1 Norm\")\n",
        "plt.xlabel(\"Epoch\")\n",
        "plt.ylabel(\"L1 Norm\")\n",
        "# Added setting the vertical axis to be in powers of 10\n",
        "plt.yscale(\"log\")\n",
        "# Added setting the vertical axis limits to be from 10^-7 to 10^0\n",
        "plt.ylim(1e-3, 1e2)\n",
        "plt.legend()\n",
        "plt.subplot(2, 2, 3)\n",
        "plt.plot([m[\"linf_norm\"] for m in train_metrics], label=\"Train Linf Norm\")\n",
        "plt.plot([m[\"linf_norm\"] for m in test_metrics], label=\"Test Linf Norm\")\n",
        "plt.xlabel(\"Epoch\")\n",
        "plt.ylabel(\"Linf Norm\")\n",
        "# Added setting the vertical axis to be in powers of 10\n",
        "plt.yscale(\"log\")\n",
        "# Added setting the vertical axis limits to be from 10^-7 to 10^0\n",
        "plt.ylim(1e-3, 1e2)\n",
        "plt.legend()\n",
        "plt.tight_layout()\n",
        "plt.show()\n",
        "\n",
        "# Added plotting MSE of training data and MSE of test data in one plot \n",
        "plt.figure(figsize=(8, 6))\n",
        "plt.plot(train_losses,label=\"training data\")\n",
        "plt.plot(test_losses,label=\"test data\")\n",
        "#if scheduler is not None:\n",
        "#    plt.plot([scheduler.get_last_lr()[0] for _ in range(n_epochs)], label=\"Learning rate\") \n",
        "plt.xlabel(\"Epoch\")\n",
        "plt.ylabel(\"MSE\")\n",
        "# Added setting the vertical axis to be in powers of 10\n",
        "plt.yscale(\"log\")\n",
        "# Added setting the vertical axis limits to be from 10^-7 to 10^0\n",
        "plt.ylim(1e-7, 1e0)\n",
        "plt.legend()\n",
        "plt.show()"
      ]
    },
    {
      "cell_type": "markdown",
      "metadata": {
        "id": "tiEDutxIUZig"
      },
      "source": [
        "## Loading"
      ]
    },
    {
      "cell_type": "code",
      "execution_count": 11,
      "metadata": {
        "colab": {
          "base_uri": "https://localhost:8080/"
        },
        "id": "p7Mj990wUZih",
        "outputId": "a1132948-c3b1-4d75-becf-4efa93c9a7d0"
      },
      "outputs": [
        {
          "data": {
            "text/plain": [
              "<All keys matched successfully>"
            ]
          },
          "execution_count": 11,
          "metadata": {},
          "output_type": "execute_result"
        }
      ],
      "source": [
        "import json\n",
        "import pandas as pd\n",
        "\n",
        "# load the dictionary from the .json file\n",
        "with open(\"var_dict.json\", \"r\") as f:\n",
        "  var_dict_loaded = json.load(f)\n",
        "\n",
        "# extract the variables from the dictionary\n",
        "batch_size_loaded = var_dict_loaded[\"batch_size\"]\n",
        "n_epochs_loaded = var_dict_loaded[\"n_epochs\"]\n",
        "loss_name_loaded = var_dict_loaded[\"loss_name\"]\n",
        "optimizer_name_loaded = var_dict_loaded[\"optimizer_name\"]\n",
        "scheduler_name_loaded = var_dict_loaded[\"scheduler_name\"]\n",
        "n_units_loaded = var_dict_loaded[\"n_units\"]\n",
        "n_layers_loaded = var_dict_loaded[\"n_layers\"]\n",
        "hidden_activation_name_loaded = var_dict_loaded[\"hidden_activation_name\"]\n",
        "output_activation_name_loaded = var_dict_loaded[\"output_activation_name\"]\n",
        "lr_loaded = var_dict_loaded[\"lr\"]\n",
        "\n",
        "# create the activation functions from their names\n",
        "if hidden_activation_name_loaded == \"ReLU\":\n",
        "  hidden_activation_loaded = nn.ReLU()\n",
        "elif hidden_activation_name_loaded == \"LeakyReLU\":\n",
        "  hidden_activation_loaded = nn.LeakyReLU() \n",
        "elif hidden_activation_name_loaded == \"ELU\":\n",
        "  hidden_activation_loaded = nn.ELU() \n",
        "elif hidden_activation_name_loaded == \"Tanh\":\n",
        "  hidden_activation_loaded = nn.Tanh()\n",
        "else:\n",
        "  hidden_activation_loaded = nn.Sigmoid()\n",
        "\n",
        "if output_activation_name_loaded == \"ReLU\":\n",
        "    output_activation_loaded = nn.ReLU()\n",
        "elif output_activation_name_loaded == \"Softplus\":\n",
        "    output_activation_loaded = nn.Softplus()\n",
        "else:\n",
        "    output_activation_loaded = nn.Identity()\n",
        "\n",
        "\n",
        "\n",
        "# load the network from the .pth file\n",
        "net_loaded = Net(n_layers_loaded, n_units_loaded, hidden_activation_loaded, output_activation_loaded).to(device)\n",
        "if torch.cuda.is_available():\n",
        " net_loaded.load_state_dict(torch.load(\"net.pth\"))\n",
        "else: \n",
        "  net_loaded.load_state_dict(torch.load(\"net.pth\", map_location=torch.device('cpu')))\n",
        "\n",
        "# create the loss function from its name\n",
        "if loss_name_loaded == \"MSE\":\n",
        "  loss_fn_loaded = nn.MSELoss()\n",
        "elif loss_name_loaded == \"MAE\":\n",
        "  loss_fn_loaded = nn.L1Loss()\n",
        "elif loss_name_loaded == \"Huber\":\n",
        "  loss_fn_loaded = nn.SmoothL1Loss() \n",
        "else:\n",
        "  # create the log-cosh loss function\n",
        "  def log_cosh_loss_loaded(y_pred, y_true):\n",
        "    return torch.mean(torch.log(torch.cosh(y_pred - y_true)))\n",
        "  loss_fn_loaded = log_cosh_loss_loaded\n",
        "\n",
        "# load the optimizer from the .pth file\n",
        "if torch.cuda.is_available():\n",
        "  optimizer_loaded_state_dict = torch.load(\"optimizer.pth\")\n",
        "else:\n",
        "  optimizer_loaded_state_dict = torch.load(\"optimizer.pth\", map_location=torch.device('cpu'))\n",
        "\n",
        "if optimizer_name_loaded == \"SGD\":\n",
        "  # Added getting the weight decay and momentum parameters from the state dict\n",
        "  weight_decay_loaded = optimizer_loaded_state_dict[\"param_groups\"][0][\"weight_decay\"]\n",
        "  momentum_loaded = optimizer_loaded_state_dict[\"param_groups\"][0][\"momentum\"]\n",
        "  optimizer_loaded = optim.SGD(net_loaded.parameters(), lr=lr_loaded, weight_decay=weight_decay_loaded, momentum=momentum_loaded)\n",
        "elif optimizer_name_loaded == \"Adam\":\n",
        "  # Added getting the weight decay and beta parameters from the state dict\n",
        "  weight_decay_loaded = optimizer_loaded_state_dict[\"param_groups\"][0][\"weight_decay\"]\n",
        "  beta1_loaded = optimizer_loaded_state_dict[\"param_groups\"][0][\"betas\"][0]\n",
        "  beta2_loaded = optimizer_loaded_state_dict[\"param_groups\"][0][\"betas\"][1]\n",
        "  optimizer_loaded = optim.Adam(net_loaded.parameters(), lr=lr_loaded, weight_decay=weight_decay_loaded, betas=(beta1_loaded, beta2_loaded))\n",
        "elif optimizer_name_loaded == \"RMSprop\":\n",
        "  optimizer_loaded = optim.RMSprop(net_loaded.parameters(), lr=lr_loaded)\n",
        "else:\n",
        "  # Added loading the Adagrad optimizer\n",
        "  optimizer_loaded = optim.Adagrad(net_loaded.parameters(), lr=lr_loaded)\n",
        "optimizer_loaded.load_state_dict(optimizer_loaded_state_dict)\n",
        "\n",
        "# load the scheduler from the .pth file\n",
        "if torch.cuda.is_available():\n",
        "  scheduler_loaded_state_dict = torch.load(\"scheduler.pth\")\n",
        "else: \n",
        "  scheduler_loaded_state_dict = torch.load(\"scheduler.pth\", map_location=torch.device('cpu'))\n",
        "\n",
        "if scheduler_name_loaded == \"StepLR\":\n",
        "  # Added getting the step_size and gamma parameters from the state dict\n",
        "  step_size_loaded = scheduler_loaded_state_dict[\"step_size\"]\n",
        "  gamma_loaded = scheduler_loaded_state_dict[\"gamma\"]\n",
        "  scheduler_loaded = optim.lr_scheduler.StepLR(optimizer_loaded, step_size=step_size_loaded, gamma=gamma_loaded)\n",
        "elif scheduler_name_loaded == \"ExponentialLR\":\n",
        "  # Added getting the gamma parameter from the state dict\n",
        "  gamma_loaded = scheduler_loaded_state_dict[\"gamma\"]\n",
        "  scheduler_loaded = optim.lr_scheduler.ExponentialLR(optimizer_loaded, gamma=gamma_loaded)\n",
        "elif scheduler_name_loaded == \"CosineAnnealingLR\":\n",
        "  # Added getting the T_max parameter from the state dict\n",
        "  T_max_loaded = scheduler_loaded_state_dict[\"T_max\"]\n",
        "  scheduler_loaded = optim.lr_scheduler.CosineAnnealingLR(optimizer_loaded, T_max=T_max_loaded)\n",
        "elif scheduler_name_loaded == \"ReduceLROnPlateau\":\n",
        "  # Added getting the mode, factor, patience, threshold and min_lr parameters from the state dict\n",
        "  mode_loaded = scheduler_loaded_state_dict[\"mode\"]\n",
        "  factor_loaded = scheduler_loaded_state_dict[\"factor\"]\n",
        "  patience_loaded = scheduler_loaded_state_dict[\"patience\"]\n",
        "  threshold_loaded = scheduler_loaded_state_dict[\"threshold\"]\n",
        "  min_lr_loaded = scheduler_loaded_state_dict[\"min_lrs\"][0]\n",
        "  scheduler_loaded = optim.lr_scheduler.ReduceLROnPlateau(\n",
        "                    optimizer_loaded, mode=mode_loaded, factor=factor_loaded, patience=patience_loaded, threshold=threshold_loaded, min_lr=min_lr_loaded\n",
        "                )\n",
        "# elif scheduler_name_loaded == \"OneCycleLR\":\n",
        "#   max_lr_loaded = scheduler_loaded_state_dict[\"max_lr\"]\n",
        "#   epochs_loaded = scheduler_loaded_state_dict[\"epochs\"]\n",
        "#   steps_per_epoch_loaded = scheduler_loaded_state_dict[\"steps_per_epoch\"]\n",
        "#   pct_start_loaded = scheduler_loaded_state_dict[\"pct_start\"]\n",
        "#   max_lr_loaded = scheduler_loaded_state_dict[\"max_lr\"]\n",
        "#   scheduler_loaded = optim.lr_scheduler.OneCycleLR(\n",
        "#                     optimizer_loaded, max_lr=max_lr_loaded, epochs=epochs_loaded, steps_per_epoch=steps_per_epoch_loaded, pct_start=pct_start_loaded\n",
        "#                 )\n",
        "else:\n",
        "  scheduler_loaded = None\n",
        "\n",
        "if scheduler_loaded is not None:\n",
        "  # Added loading the state dict to the scheduler_loaded\n",
        "  scheduler_loaded.load_state_dict(scheduler_loaded_state_dict)\n",
        "\n",
        "# Loading the output of the training using pandas\n",
        "train_df_loaded = pd.read_csv(\"train_output.csv\")\n",
        "train_losses_loaded = train_df_loaded[\"train_loss\"].tolist()\n",
        "test_losses_loaded = train_df_loaded[\"test_loss\"].tolist()\n",
        "train_metrics_loaded = [\n",
        "    {\n",
        "        \"l1_norm\": train_df_loaded[\"train_l1_norm\"][i],\n",
        "        \"linf_norm\": train_df_loaded[\"train_linf_norm\"][i],\n",
        "    }\n",
        "    for i in range(len(train_df_loaded))\n",
        "]\n",
        "test_metrics_loaded = [\n",
        "    {\n",
        "        \"l1_norm\": train_df_loaded[\"test_l1_norm\"][i],\n",
        "        \"linf_norm\": train_df_loaded[\"test_linf_norm\"][i],\n",
        "    }\n",
        "    for i in range(len(train_df_loaded))\n",
        "]"
      ]
    },
    {
      "cell_type": "code",
      "execution_count": 12,
      "metadata": {
        "colab": {
          "base_uri": "https://localhost:8080/",
          "height": 1000
        },
        "id": "GQ_fcj7zUZii",
        "outputId": "c4979ef0-a99c-4754-e222-3af23a83c1cb"
      },
      "outputs": [
        {
          "name": "stdout",
          "output_type": "stream",
          "text": [
            "skipping\n"
          ]
        }
      ],
      "source": [
        "%%script echo skipping\n",
        "\n",
        "batch_size_loaded\n",
        "n_epochs_loaded\n",
        "loss_name_loaded\n",
        "optimizer_name_loaded\n",
        "scheduler_name_loaded\n",
        "n_units_loaded\n",
        "n_layers_loaded\n",
        "hidden_activation_name_loaded\n",
        "output_activation_name_loaded\n",
        "lr_loaded\n",
        "hidden_activation_loaded\n",
        "output_activation_loaded\n",
        "net_loaded\n",
        "net_loaded.__dict__ # print the subparameters of the network\n",
        "loss_fn_loaded\n",
        "optimizer_loaded\n",
        "optimizer_loaded.__dict__ # print the subparameters of the optimizer\n",
        "scheduler_loaded\n",
        "scheduler_loaded.__dict__ # print the subparameters of the scheduler\n",
        "train_losses_loaded\n",
        "test_losses_loaded\n",
        "train_metrics_loaded\n",
        "test_metrics_loaded"
      ]
    },
    {
      "cell_type": "code",
      "execution_count": 13,
      "metadata": {},
      "outputs": [
        {
          "data": {
            "text/plain": [
              "3.4172099916838764e-05"
            ]
          },
          "execution_count": 13,
          "metadata": {},
          "output_type": "execute_result"
        },
        {
          "data": {
            "text/plain": [
              "4.424513300355102e-05"
            ]
          },
          "execution_count": 13,
          "metadata": {},
          "output_type": "execute_result"
        },
        {
          "data": {
            "text/plain": [
              "0.0075460143743315"
            ]
          },
          "execution_count": 13,
          "metadata": {},
          "output_type": "execute_result"
        },
        {
          "data": {
            "text/plain": [
              "0.1778435508688911"
            ]
          },
          "execution_count": 13,
          "metadata": {},
          "output_type": "execute_result"
        },
        {
          "name": "stdout",
          "output_type": "stream",
          "text": [
            "Error is 19.651079099821615 times bigger than in Dieselhorst et al.\n",
            "Error is 21.848102072345345 times bigger than in Dieselhorst et al.\n"
          ]
        }
      ],
      "source": [
        "train_losses_loaded[-1]\n",
        "test_losses_loaded[-1]\n",
        "test_metrics_loaded[-1]['l1_norm']\n",
        "test_metrics_loaded[-1]['linf_norm']\n",
        "print(f'Error is {test_metrics_loaded[-1][\"l1_norm\"] / (3.84e-4)} times bigger than in Dieselhorst et al.')\n",
        "print(f'Error is {test_metrics_loaded[-1][\"linf_norm\"] / (8.14e-3)} times bigger than in Dieselhorst et al.')"
      ]
    },
    {
      "attachments": {},
      "cell_type": "markdown",
      "metadata": {},
      "source": [
        "### Visualize loaded results"
      ]
    },
    {
      "cell_type": "markdown",
      "metadata": {
        "id": "vwLGR1aSUZik"
      },
      "source": [
        "Let us verify correct loading of the train and test metrics by visualizing them again but now through the loaded values. Likewise for the train and test losses."
      ]
    },
    {
      "cell_type": "code",
      "execution_count": 14,
      "metadata": {
        "id": "sXiNgLsmUZil"
      },
      "outputs": [],
      "source": [
        "%config InteractiveShell.ast_node_interactivity = \"last_expr_or_assign\""
      ]
    },
    {
      "cell_type": "code",
      "execution_count": 15,
      "metadata": {
        "colab": {
          "base_uri": "https://localhost:8080/",
          "height": 1000
        },
        "id": "sgq4WfSiUZil",
        "outputId": "9934bd08-6c78-4a92-c8c6-d8e835c351b3"
      },
      "outputs": [
        {
          "data": {
            "image/png": "[encoded data removed]",
            "text/plain": [
              "<Figure size 640x480 with 2 Axes>"
            ]
          },
          "metadata": {},
          "output_type": "display_data"
        },
        {
          "data": {
            "image/png": "[encoded data removed]",
            "text/plain": [
              "<Figure size 800x600 with 1 Axes>"
            ]
          },
          "metadata": {},
          "output_type": "display_data"
        }
      ],
      "source": [
        "# Plotting the losses and metrics for the best network plt.figure(figsize=(12, \n",
        "#plt.subplot(2, 2, 1)\n",
        "#plt.plot(train_losses_loaded, label=\"Train Loss\")\n",
        "#plt.plot(test_losses_loaded, label=\"Test Loss\")\n",
        "#plt.xlabel(\"Epoch\")\n",
        "#plt.ylabel(\"Loss\")\n",
        "#plt.legend()\n",
        "plt.subplot(2, 2, 2)\n",
        "plt.plot([m[\"l1_norm\"] for m in train_metrics_loaded], label=\"Train L1 Norm\")\n",
        "plt.plot([m[\"l1_norm\"] for m in test_metrics_loaded], label=\"Test L1 Norm\")\n",
        "plt.xlabel(\"Epoch\")\n",
        "plt.ylabel(\"L1 Norm\")\n",
        "# Added setting the vertical axis to be in powers of 10\n",
        "plt.yscale(\"log\")\n",
        "# Added setting the vertical axis limits to be from 10^-7 to 10^0\n",
        "plt.ylim(1e-3, 1e2)\n",
        "plt.legend()\n",
        "plt.subplot(2, 2, 3)\n",
        "plt.plot([m[\"linf_norm\"] for m in train_metrics_loaded], label=\"Train Linf Norm\")\n",
        "plt.plot([m[\"linf_norm\"] for m in test_metrics_loaded], label=\"Test Linf Norm\")\n",
        "plt.xlabel(\"Epoch\")\n",
        "plt.ylabel(\"Linf Norm\")\n",
        "# Added setting the vertical axis to be in powers of 10\n",
        "plt.yscale(\"log\")\n",
        "# Added setting the vertical axis limits to be from 10^-7 to 10^0\n",
        "plt.ylim(1e-3, 1e2)\n",
        "plt.legend()\n",
        "plt.tight_layout()\n",
        "plt.show()\n",
        "\n",
        "# Added plotting MSE of training data and MSE of test data in one plot \n",
        "plt.figure(figsize=(8, 6))\n",
        "plt.plot(train_losses_loaded,label=\"training data\")\n",
        "plt.plot(test_losses_loaded,label=\"test data\")\n",
        "#if scheduler is not None:\n",
        "#    plt.plot([scheduler.get_last_lr()[0] for _ in range(n_epochs)], label=\"Learning rate\") \n",
        "plt.xlabel(\"Epoch\")\n",
        "plt.ylabel(\"MSE\")\n",
        "# Added setting the vertical axis to be in powers of 10\n",
        "plt.yscale(\"log\")\n",
        "# Added setting the vertical axis limits to be from 10^-7 to 10^0\n",
        "plt.ylim(1e-7, 1e0)\n",
        "plt.legend()\n",
        "plt.show()\n"
      ]
    },
    {
      "cell_type": "code",
      "execution_count": 16,
      "metadata": {
        "id": "lkgLqJ_UUZim"
      },
      "outputs": [],
      "source": [
        "%config InteractiveShell.ast_node_interactivity = \"all\""
      ]
    },
    {
      "attachments": {},
      "cell_type": "markdown",
      "metadata": {},
      "source": [
        "## Counting the number of parameters in the network."
      ]
    },
    {
      "cell_type": "code",
      "execution_count": 22,
      "metadata": {},
      "outputs": [
        {
          "data": {
            "text/plain": [
              "Net(\n",
              "  (hidden_activation): ReLU()\n",
              "  (output_activation): ReLU()\n",
              "  (layers): ModuleList(\n",
              "    (0): Linear(in_features=5, out_features=555, bias=True)\n",
              "    (1): Linear(in_features=555, out_features=458, bias=True)\n",
              "    (2): Linear(in_features=458, out_features=115, bias=True)\n",
              "    (3): Linear(in_features=115, out_features=1, bias=True)\n",
              "  )\n",
              ")"
            ]
          },
          "execution_count": 22,
          "metadata": {},
          "output_type": "execute_result"
        },
        {
          "name": "stdout",
          "output_type": "stream",
          "text": [
            "The model has 310879 parameters.\n"
          ]
        }
      ],
      "source": [
        "net_loaded.eval()\n",
        "def count_parameters(model):\n",
        "    return sum(p.numel() for p in model.parameters() if p.requires_grad)\n",
        "print(f'The model has {count_parameters(net_loaded)} parameters.')"
      ]
    },
    {
      "attachments": {},
      "cell_type": "markdown",
      "metadata": {
        "id": "SxuzVSnlUZin"
      },
      "source": [
        "## Evaluating the network on arbirary input\n",
        "### Comparing `net` and `net_loaded`\n",
        "\n",
        "We compare `net` and `net_loaded` to confirm correct loading of the network. Note that `net` is only available if we have trained the model in this session."
      ]
    },
    {
      "cell_type": "code",
      "execution_count": 158,
      "metadata": {
        "colab": {
          "base_uri": "https://localhost:8080/"
        },
        "id": "C0PLAA0DUZin",
        "outputId": "c51e07dd-8b35-4ea4-cdf9-3118d7796e30"
      },
      "outputs": [
        {
          "name": "stdout",
          "output_type": "stream",
          "text": [
            "Couldn't find program: 'echo'\n"
          ]
        }
      ],
      "source": [
        "%%script echo skipping\n",
        "\n",
        "print(list(net.parameters()))"
      ]
    },
    {
      "cell_type": "code",
      "execution_count": 159,
      "metadata": {
        "colab": {
          "base_uri": "https://localhost:8080/"
        },
        "id": "1NZ8iVA7UZio",
        "outputId": "6341def7-b7e7-44eb-c91f-edbe1d22ca1d"
      },
      "outputs": [
        {
          "name": "stdout",
          "output_type": "stream",
          "text": [
            "[Parameter containing:\n",
            "tensor([[ 0.3215, -0.0356, -0.4687,  0.1253,  0.4308],\n",
            "        [-0.1483, -0.2833, -0.1476,  0.4402, -0.3359],\n",
            "        [-0.0132,  0.0207, -0.2857,  0.2249, -0.0204],\n",
            "        ...,\n",
            "        [-0.3998,  0.2499, -0.0977,  0.0589,  0.1937],\n",
            "        [ 0.3030, -0.3212,  0.1091, -0.1975,  0.0155],\n",
            "        [-0.0696,  0.3992,  0.0866,  0.3356, -0.1573]], requires_grad=True), Parameter containing:\n",
            "tensor([ 3.0002e-01,  4.2232e-01, -3.7423e-01, -1.2014e-01,  5.2792e-01,\n",
            "        -5.0876e-03,  2.7375e-01,  2.5268e-01, -2.0962e-01,  1.9314e-01,\n",
            "        -8.1479e-01, -3.2103e-01, -1.9594e-01, -6.1438e-01, -4.0645e-01,\n",
            "         2.1630e-01, -4.1837e-01, -1.9032e-02, -1.4925e-02, -1.1604e-01,\n",
            "         1.8841e-01, -3.8983e-01, -1.7786e-01, -1.3976e-01, -2.1798e-01,\n",
            "         3.8278e-01, -3.4658e-01,  3.8975e-01, -1.7816e-01,  9.3270e-02,\n",
            "        -1.3267e-01, -1.9569e-01,  1.2940e-01,  4.0607e-01,  6.4110e-02,\n",
            "        -4.5460e-01,  2.7645e-01, -2.3125e-01, -1.3429e-01, -2.6237e-01,\n",
            "        -1.8206e-01,  9.1089e-02, -1.2307e-01,  5.2335e-02,  3.5947e-01,\n",
            "         3.6385e-01,  4.0818e-01,  1.8230e-01, -2.1198e-01, -2.8360e-02,\n",
            "        -4.4062e-02, -2.2309e-01, -5.8075e-01,  3.5163e-01, -1.7605e-01,\n",
            "        -1.6451e-02,  1.7624e-01, -8.3598e-02,  2.7655e-01,  1.8247e-01,\n",
            "        -2.9613e-02, -2.9221e-02,  3.6251e-01,  1.9075e-01, -3.0748e-01,\n",
            "         1.2613e-01,  3.1427e-02, -1.8657e-01,  2.3524e-01, -1.8455e-01,\n",
            "         1.5668e-01, -1.6627e-01, -3.9660e-01, -2.2833e-01, -3.6145e-01,\n",
            "         1.7138e-01,  3.2145e-01,  2.3581e-02,  3.2507e-01, -1.2412e-01,\n",
            "        -2.8801e-02,  1.4515e-01,  2.2324e-01, -2.1983e-01, -5.9244e-01,\n",
            "        -1.2853e-01, -1.1977e-01, -9.9814e-03,  4.1356e-01, -6.5901e-01,\n",
            "        -1.2105e-02,  1.0298e-01,  4.1780e-01, -3.9740e-01, -1.2708e-01,\n",
            "         9.9496e-02,  1.1316e-01, -3.0324e-01, -4.6371e-02, -9.9511e-02,\n",
            "        -3.1046e-01,  2.1590e-01, -2.1304e-01,  3.2083e-01, -1.2528e-01,\n",
            "        -1.6393e-01, -3.6673e-01, -1.6991e-01,  1.3393e-01,  3.3730e-01,\n",
            "        -9.5555e-02,  8.8024e-02,  8.4582e-02, -4.0622e-01, -5.2500e-02,\n",
            "         8.9486e-02,  3.2174e-01,  2.7722e-01,  2.1901e-01, -3.7372e-01,\n",
            "        -2.5039e-01,  2.4821e-01, -4.0743e-01,  2.9532e-01, -2.7074e-01,\n",
            "        -2.5047e-01,  2.4170e-01,  2.4958e-01,  6.2615e-02,  1.8438e-01,\n",
            "         1.5840e-01, -1.4628e-01,  6.7003e-02,  1.3646e-01,  1.5625e-01,\n",
            "         4.6141e-01, -3.2908e-01,  9.8965e-02, -2.3579e-01,  1.0244e-01,\n",
            "         5.6999e-02,  1.5758e-01,  1.2767e-01, -2.3915e-01,  6.9130e-02,\n",
            "        -3.8015e-01, -1.8830e-02, -2.0289e-01, -1.7417e-02, -2.7280e-01,\n",
            "        -4.1584e-01, -5.9957e-01,  2.0686e-01,  3.6413e-01,  4.2791e-01,\n",
            "        -1.1415e-01,  1.4268e-01,  1.0394e-01, -3.1119e-02,  3.7784e-01,\n",
            "         1.7898e-01,  2.3450e-01, -1.8087e-01, -3.7702e-01, -3.3986e-01,\n",
            "        -4.1009e-01, -1.2087e-01,  2.8599e-01, -1.0572e-01,  5.0305e-02,\n",
            "        -4.8789e-01, -1.1114e-01, -4.8651e-02, -6.6655e-01, -1.9342e-01,\n",
            "        -3.0638e-01,  4.6371e-02,  3.5246e-01, -5.7786e-01, -2.5516e-01,\n",
            "         1.8349e-01, -6.1563e-04,  4.9744e-01,  1.5861e-01,  5.6223e-01,\n",
            "         1.7774e-02,  3.5299e-01, -3.0872e-01,  2.0772e-01,  8.6442e-02,\n",
            "         4.0735e-01,  1.8031e-01,  3.2613e-01, -1.6395e-01, -3.2257e-01,\n",
            "         4.3896e-01,  1.2117e-01,  3.9243e-02, -2.5034e-01,  5.2957e-01,\n",
            "         2.7130e-01, -2.4044e-01, -7.2385e-02,  2.5398e-01,  2.9969e-01,\n",
            "         3.5208e-01,  4.1022e-01, -3.4534e-01,  5.9966e-02,  1.0104e-01,\n",
            "        -3.2398e-01, -3.7861e-01,  1.0497e-01, -2.2311e-01,  2.9617e-01,\n",
            "        -3.8303e-01,  2.0084e-01,  1.6415e-01,  2.1143e-01, -1.0215e-01,\n",
            "        -1.5018e-01, -4.6525e-02,  1.2628e-01, -1.7713e-01, -7.6190e-01,\n",
            "        -2.3513e-01, -2.0890e-01, -3.7746e-01, -9.9534e-02, -3.9968e-01,\n",
            "        -1.4783e-01, -3.5316e-02,  3.6914e-01, -4.2294e-01,  1.2306e-01,\n",
            "        -6.2761e-01,  2.5922e-01, -3.2250e-01, -2.5421e-01,  3.0414e-01,\n",
            "         3.4576e-01, -1.1838e-02, -4.4424e-01, -3.4961e-01, -2.2909e-01,\n",
            "         3.5251e-01,  4.4666e-01, -4.3509e-01, -3.3067e-01, -3.2041e-01,\n",
            "         3.5118e-01, -1.5058e-01, -1.6873e-01,  1.2400e-03,  2.1890e-01,\n",
            "        -4.6671e-02,  3.2703e-01,  3.4915e-01, -2.4778e-01,  5.0766e-01,\n",
            "        -1.2836e-01,  3.5526e-01,  3.2509e-01, -2.5981e-01,  1.4681e-01,\n",
            "         2.3845e-01, -3.4819e-01, -3.0183e-01, -5.7341e-01, -2.5784e-01,\n",
            "        -1.6893e-01, -2.6828e-01, -4.3954e-01, -2.1958e-01,  1.5428e-01,\n",
            "        -4.3837e-01, -9.7450e-03, -1.6736e-01, -4.1427e-01, -1.3191e-01,\n",
            "         3.0866e-02, -4.3306e-01,  3.3486e-02,  1.4575e-02,  3.1059e-01,\n",
            "        -4.4530e-01,  7.8352e-02,  1.9044e-01, -2.7813e-01, -2.8911e-01,\n",
            "        -2.9953e-01,  1.6294e-01,  5.6584e-01, -3.3141e-01, -4.4631e-02,\n",
            "        -2.1849e-01,  3.3281e-01, -4.3270e-01,  3.3603e-01, -4.9214e-01,\n",
            "         3.7055e-01, -2.8964e-02,  2.9794e-01,  3.0549e-01, -1.3514e-01,\n",
            "        -2.3510e-02, -2.3277e-01,  6.7932e-02,  1.1315e-01,  1.7108e-01,\n",
            "         8.1404e-02, -3.1265e-02,  1.4467e-01, -6.7192e-02,  1.6176e-03,\n",
            "         3.4633e-01,  7.7342e-02, -3.9819e-01, -2.3394e-01,  4.0228e-01,\n",
            "         9.3312e-02,  4.2806e-01,  1.2147e-01, -1.5590e-01, -3.3621e-01,\n",
            "        -4.1577e-01,  4.6409e-01,  2.1105e-01, -3.9699e-02, -4.7579e-02,\n",
            "         5.3587e-02, -6.5679e-02,  2.3147e-02, -4.2925e-01,  3.6238e-01,\n",
            "         4.4649e-02,  5.2469e-01, -2.3220e-01,  1.9284e-01,  1.6090e-01,\n",
            "         3.3274e-01,  2.4801e-01, -4.3258e-02, -3.4161e-01, -4.2736e-03,\n",
            "         1.1554e-01, -1.0015e-01, -8.0630e-03,  3.5151e-01,  2.1512e-01,\n",
            "         3.1983e-02,  3.1149e-01,  7.1401e-02, -1.5902e-01,  2.1383e-02,\n",
            "         1.1705e-01, -7.0082e-02, -4.3016e-01,  4.1760e-01, -2.9640e-02,\n",
            "        -4.7736e-01, -3.6621e-02, -7.0509e-02, -4.1156e-01,  2.6434e-01,\n",
            "         1.0968e-01,  2.6889e-01,  3.5231e-01,  1.9967e-01,  3.0492e-01,\n",
            "         7.4111e-03, -5.5333e-01,  3.1466e-01, -2.6796e-01, -4.9138e-01,\n",
            "        -4.5613e-01, -3.8634e-01, -2.6041e-01,  2.7979e-01, -3.4269e-01,\n",
            "        -2.7853e-02, -8.6831e-02, -4.2199e-01,  6.7801e-02,  1.1931e-01,\n",
            "         3.3959e-02, -2.7234e-01, -2.6396e-01, -4.5600e-01,  3.2052e-02,\n",
            "         2.3701e-01,  1.4225e-01,  3.6740e-01,  8.3437e-03, -5.7259e-02,\n",
            "        -1.4884e-01, -2.8860e-01, -2.6753e-01, -1.2339e-01,  1.5954e-01,\n",
            "         1.6182e-01,  4.2803e-01,  4.0244e-01, -4.4986e-01, -1.2956e-01,\n",
            "        -3.1206e-01,  2.2000e-01, -2.8131e-01,  2.1784e-01,  9.7687e-02,\n",
            "        -3.6261e-01, -3.5410e-01, -3.7577e-01, -3.9496e-01, -2.9048e-01,\n",
            "         4.3578e-01, -4.1790e-01, -1.9956e-01,  2.9062e-02, -2.6071e-01,\n",
            "        -3.6868e-01, -6.5911e-02, -3.3118e-01,  1.5338e-01, -7.9476e-02,\n",
            "        -2.6022e-01, -4.3790e-02, -3.5255e-01, -1.5386e-01, -4.0857e-01,\n",
            "         3.2879e-01,  1.8714e-01, -3.6488e-01,  2.5716e-01, -5.1028e-01,\n",
            "         8.6967e-02, -4.8725e-01, -3.8174e-01,  2.4360e-01, -2.1909e-01,\n",
            "        -1.6612e-01, -4.0511e-01,  2.4477e-01,  5.4874e-02, -2.8517e-01,\n",
            "         1.9138e-01,  1.0982e-01, -4.2833e-01, -3.6755e-01, -2.5849e-01,\n",
            "        -3.7499e-01, -1.7491e-01, -7.2643e-02,  3.7745e-01,  2.8531e-01,\n",
            "         1.7276e-01,  9.2238e-02, -2.3129e-01,  1.0307e-01, -3.7032e-01,\n",
            "         2.7459e-01,  3.1234e-02,  5.8207e-02,  2.8044e-02, -3.2064e-01,\n",
            "        -8.2735e-02,  3.0890e-01, -6.6020e-02,  4.4419e-02,  4.8474e-01,\n",
            "         1.2347e-01, -8.0838e-02, -3.3262e-01, -2.1468e-01,  3.9021e-01,\n",
            "        -3.5642e-01, -2.6259e-01, -4.5594e-01,  1.2865e-01,  1.9045e-01,\n",
            "         2.7137e-01,  5.1942e-02,  2.0588e-01,  8.3492e-02,  2.5997e-01,\n",
            "        -2.5302e-01,  4.8348e-01, -1.8016e-01,  1.5223e-02,  2.4403e-01,\n",
            "        -1.2544e-02, -2.3043e-01, -2.1877e-01, -2.0220e-01,  1.5399e-01,\n",
            "        -2.5715e-01, -1.5807e-01,  1.7902e-01, -3.3479e-01, -2.7437e-02,\n",
            "        -3.3016e-03,  3.2873e-01,  3.0546e-01, -3.4953e-01,  1.4615e-01,\n",
            "         2.3764e-02, -1.0961e-01, -1.5026e-02, -1.9086e-01,  9.2724e-02,\n",
            "        -2.5991e-01, -1.5989e-01, -9.7973e-02,  1.5153e-01, -3.7220e-01,\n",
            "         2.4981e-01,  1.8747e-01,  2.7270e-01,  4.3096e-01, -2.1108e-01,\n",
            "        -2.4100e-01,  4.6701e-03,  1.5468e-01, -8.9344e-02, -2.4400e-01,\n",
            "        -2.9389e-01,  4.4363e-01,  3.8912e-01,  1.9309e-01,  2.3890e-01,\n",
            "         1.6652e-01, -2.5211e-01,  4.3942e-02,  2.6066e-01,  4.4180e-01,\n",
            "        -3.6245e-01,  4.1741e-01,  2.1956e-01,  2.3449e-02, -5.7217e-02,\n",
            "        -4.1548e-01, -3.2551e-01, -2.5857e-01, -1.5017e-01,  2.5822e-01,\n",
            "        -2.6884e-01, -2.6922e-01, -1.1471e-01, -1.6691e-01,  3.2027e-01,\n",
            "        -1.3082e-01, -2.8827e-01, -3.6644e-01,  4.4065e-01,  2.1809e-01],\n",
            "       requires_grad=True), Parameter containing:\n",
            "tensor([[ 0.0211, -0.0043, -0.0171,  ...,  0.0023, -0.0472, -0.0287],\n",
            "        [ 0.0179,  0.0359, -0.0474,  ..., -0.0126, -0.0372,  0.0026],\n",
            "        [ 0.0235,  0.0082,  0.0465,  ...,  0.0481, -0.0602,  0.0319],\n",
            "        ...,\n",
            "        [ 0.0019,  0.0146, -0.0079,  ...,  0.0318, -0.0317,  0.0209],\n",
            "        [-0.0122, -0.0066,  0.0321,  ..., -0.0064, -0.0017,  0.0206],\n",
            "        [-0.0456,  0.0292,  0.0517,  ..., -0.0262, -0.0144,  0.0064]],\n",
            "       requires_grad=True), Parameter containing:\n",
            "tensor([-4.9274e-02, -4.9907e-02, -8.4058e-02, -2.6326e-02, -1.0570e-02,\n",
            "         1.2950e-02,  1.4108e-02, -4.6206e-03, -2.5894e-03, -3.7869e-02,\n",
            "        -5.7668e-02,  3.1431e-03,  3.6374e-03,  2.3002e-02, -2.2012e-03,\n",
            "        -2.5519e-02, -2.9139e-02, -4.9582e-02, -4.9797e-02, -2.5340e-02,\n",
            "        -2.4839e-02,  3.4732e-02, -2.6943e-03,  3.9150e-02,  1.4306e-02,\n",
            "         3.9700e-02, -2.7340e-02, -4.2023e-02, -7.8422e-03, -4.1765e-02,\n",
            "        -2.8035e-02, -4.1928e-02, -5.3811e-02,  2.7430e-02, -2.7586e-02,\n",
            "        -3.4112e-02, -1.3577e-02, -3.9024e-02, -2.8922e-02,  2.9349e-02,\n",
            "         2.2232e-02, -4.3636e-02,  1.0272e-02, -1.9766e-02, -2.9886e-03,\n",
            "        -2.7393e-02, -4.4993e-02, -5.2190e-02,  3.6269e-02, -4.3547e-02,\n",
            "        -8.9260e-03,  2.2301e-02, -4.6840e-02,  1.5741e-02, -5.6001e-02,\n",
            "        -2.2706e-02, -4.7612e-02, -5.5792e-02, -3.2713e-03, -2.9980e-02,\n",
            "        -5.3531e-02, -7.7108e-02, -8.5152e-03, -4.1790e-02, -2.2410e-02,\n",
            "        -1.9532e-02,  2.7030e-02, -4.6910e-02, -4.0303e-02, -2.8610e-02,\n",
            "        -2.0788e-02,  4.1357e-02, -3.9684e-02,  4.1125e-02, -4.7331e-02,\n",
            "        -3.2235e-02, -4.7863e-02, -1.5205e-02, -2.7671e-02,  3.2982e-02,\n",
            "         8.5495e-03,  1.1468e-02, -3.5985e-02,  1.0045e-02, -3.6043e-02,\n",
            "         1.4678e-02, -6.4316e-02, -4.8791e-02,  3.8657e-03, -1.2386e-02,\n",
            "        -9.4677e-03,  2.8517e-02,  1.9080e-02, -1.6743e-02, -3.4428e-02,\n",
            "         4.1838e-03, -2.0265e-02, -1.1705e-02, -3.2722e-02, -1.6355e-02,\n",
            "        -4.4923e-02, -1.9249e-02, -4.1453e-02, -3.0133e-02,  2.6338e-02,\n",
            "        -2.1911e-02, -1.1555e-02, -2.1482e-02, -1.9441e-02,  3.0257e-02,\n",
            "        -5.2611e-02, -6.9463e-02, -1.9711e-02, -4.3701e-02, -1.1505e-04,\n",
            "         3.1071e-02, -7.6490e-02, -2.9616e-02,  6.0393e-03, -4.1327e-02,\n",
            "        -4.4715e-02,  5.1629e-03, -8.2320e-03,  5.9028e-02, -1.4897e-02,\n",
            "         1.8607e-02,  2.4661e-02, -1.9752e-02, -2.7816e-02, -4.3328e-02,\n",
            "         6.4321e-02, -1.5830e-02, -7.4332e-04,  2.4789e-02, -3.6673e-02,\n",
            "         1.0284e-02, -3.4579e-02, -9.2454e-03, -1.6814e-02, -1.9834e-02,\n",
            "         2.8078e-02,  1.7408e-03,  7.2878e-03, -2.3803e-02,  5.2275e-02,\n",
            "        -6.1263e-02, -3.8556e-02,  2.9336e-03,  3.5268e-02, -4.3018e-02,\n",
            "        -3.4728e-02, -2.2598e-02,  2.7792e-02,  8.0190e-03,  1.1762e-02,\n",
            "        -3.4257e-02,  2.7309e-02, -2.6118e-02, -2.7446e-02, -8.1276e-02,\n",
            "         1.7849e-02,  6.9218e-03, -1.4708e-02, -3.7633e-02, -3.9644e-02,\n",
            "         1.0740e-02,  7.2586e-02, -4.7031e-02,  1.0684e-02, -2.2209e-02,\n",
            "        -3.8160e-02, -3.9153e-02, -8.7591e-03,  1.0034e-02, -1.8683e-02,\n",
            "        -2.9470e-02, -2.1764e-02, -3.5358e-02, -3.2079e-02, -3.8986e-02,\n",
            "        -1.2629e-02, -2.4640e-02, -4.4539e-02, -8.2828e-02, -3.4102e-02,\n",
            "        -3.9300e-02, -3.3862e-02, -3.9351e-02, -2.9031e-02, -1.6547e-02,\n",
            "         5.3116e-02, -3.4069e-02,  8.6787e-03,  2.8410e-03, -8.4838e-03,\n",
            "        -1.6797e-02, -3.7818e-02, -1.0006e-01, -3.7507e-02, -1.9360e-02,\n",
            "        -2.4290e-02, -8.6253e-03,  4.7482e-03,  1.2894e-02,  2.2825e-02,\n",
            "        -2.6303e-03, -3.2118e-02, -3.5323e-03, -9.6535e-03,  1.0647e-03,\n",
            "         1.1085e-02,  1.3635e-02, -3.2989e-02,  5.7320e-03, -5.4106e-02,\n",
            "         9.7562e-03, -1.3477e-02, -3.0284e-02, -6.5838e-02,  1.2895e-02,\n",
            "         1.2946e-02,  1.9636e-02, -3.5909e-02,  1.1438e-02, -2.3600e-02,\n",
            "        -3.6579e-02,  2.4433e-02, -1.6390e-02,  2.0804e-02,  6.1946e-02,\n",
            "        -1.9686e-02, -3.5941e-02, -3.1706e-03,  5.2726e-03, -2.2037e-02,\n",
            "         1.6964e-02, -4.5346e-02,  1.9602e-02,  2.1091e-02,  3.1850e-03,\n",
            "        -5.8113e-02,  4.0375e-04,  1.0471e-02, -8.2955e-03,  1.3826e-02,\n",
            "        -5.7081e-02,  4.2188e-03, -2.0832e-02, -5.0702e-03, -1.4717e-03,\n",
            "         1.7884e-02, -1.2119e-02,  2.9132e-02,  3.8250e-02, -3.5565e-02,\n",
            "        -6.2750e-02, -5.4384e-03, -1.4191e-02, -1.9930e-02, -3.5673e-03,\n",
            "        -1.9953e-02,  1.1666e-02, -1.7825e-03,  2.5758e-03,  2.2643e-02,\n",
            "        -2.3622e-02, -2.1834e-02, -1.3213e-02,  8.7161e-03, -5.9884e-02,\n",
            "        -1.1326e-02, -6.3413e-03, -2.8024e-02,  3.2099e-02, -1.5323e-02,\n",
            "        -2.2127e-02, -4.5058e-02,  3.6607e-02,  2.4431e-02,  6.9368e-03,\n",
            "         1.3654e-02, -2.4058e-02, -4.9451e-02, -2.1444e-02, -3.1304e-02,\n",
            "         4.5561e-02, -1.6107e-02, -3.6636e-02, -1.1330e-02, -4.2394e-03,\n",
            "        -4.3278e-02, -1.3715e-02,  6.0562e-03, -1.3120e-02,  3.3008e-02,\n",
            "         3.4126e-02, -1.4271e-02, -5.9677e-03,  2.7027e-02, -1.4717e-02,\n",
            "         8.4089e-03, -2.0026e-02, -1.2160e-02,  1.7372e-02,  2.5709e-02,\n",
            "         2.2145e-02, -5.1820e-02, -2.0899e-02, -3.5430e-02, -2.8972e-02,\n",
            "        -3.8560e-02,  2.9541e-03,  4.9307e-03, -2.0414e-03, -2.0788e-02,\n",
            "         2.0628e-03, -6.0861e-02, -2.6503e-04,  3.4574e-02, -4.7773e-02,\n",
            "        -4.3015e-02, -2.4011e-02,  3.2799e-03,  3.3178e-03, -1.8517e-02,\n",
            "        -2.5009e-02, -2.0904e-03, -3.8784e-04,  1.4684e-02,  8.6736e-02,\n",
            "         2.7667e-03, -5.1092e-02,  6.4758e-02,  6.1817e-02, -2.6196e-02,\n",
            "        -5.0476e-02,  2.1406e-03, -2.4708e-02, -4.7273e-02, -3.8795e-02,\n",
            "        -4.0012e-02, -1.9808e-02, -6.6897e-02, -2.4125e-02, -5.6901e-02,\n",
            "         4.1045e-02, -3.5499e-02, -1.0928e-02,  6.5017e-04, -3.4784e-03,\n",
            "         2.6430e-03, -5.2422e-02,  2.4882e-02,  1.5108e-02, -1.2883e-02,\n",
            "         2.9182e-02, -1.9128e-02,  7.7868e-03,  3.0123e-02,  1.2797e-03,\n",
            "         1.5482e-02, -2.0453e-02,  2.1999e-02, -1.1808e-02, -5.1437e-02,\n",
            "        -3.0635e-02,  9.7089e-02, -2.2498e-02, -3.1769e-02, -4.4646e-02,\n",
            "        -8.2440e-04,  1.9562e-02, -3.5802e-02, -6.0395e-03, -4.5820e-02,\n",
            "        -2.3170e-02, -1.1714e-02,  2.8311e-02, -2.5678e-02,  1.4216e-02,\n",
            "        -5.4653e-02, -2.7525e-03, -1.1668e-02, -4.0536e-03, -2.7921e-02,\n",
            "        -4.7105e-02, -4.4924e-02,  5.8408e-02, -1.4848e-02,  5.3211e-02,\n",
            "         2.1438e-02,  1.2605e-02, -2.9532e-02,  3.3425e-03, -1.8614e-02,\n",
            "        -1.7940e-02,  1.9070e-02,  1.4763e-02, -2.6537e-02, -2.0714e-02,\n",
            "        -1.8323e-02, -3.0210e-02, -3.8320e-02,  1.6754e-02,  2.3679e-02,\n",
            "         1.3396e-02, -3.6206e-02,  1.6667e-02, -4.2805e-02, -1.7372e-02,\n",
            "        -1.9274e-02,  2.9946e-02, -7.0696e-02, -7.4129e-03,  1.1167e-02,\n",
            "        -3.0093e-02,  1.8344e-02, -3.5480e-02,  2.3539e-02, -5.8030e-02,\n",
            "         3.6100e-03, -7.8804e-02, -2.2240e-03,  2.2338e-02, -2.2478e-02,\n",
            "         2.5685e-02,  1.9571e-02, -4.5840e-02, -3.0984e-02,  2.8222e-02,\n",
            "        -4.0665e-02,  2.8524e-02,  1.2985e-01, -3.6294e-02, -1.5113e-02,\n",
            "         4.2764e-03,  1.0479e-03,  1.4252e-03, -3.1958e-02,  8.6928e-03,\n",
            "        -2.5370e-03,  2.8753e-02,  9.3684e-03, -3.7553e-02, -7.0867e-02,\n",
            "        -2.3332e-02, -5.0178e-02,  9.7030e-03, -2.4064e-02, -2.9384e-02,\n",
            "        -1.0207e-06,  1.0503e-02, -2.8536e-02, -3.2444e-02, -7.4286e-02,\n",
            "        -4.1851e-02, -2.2628e-02, -1.0514e-01], requires_grad=True), Parameter containing:\n",
            "tensor([[-0.0050,  0.0205, -0.0021,  ..., -0.0163, -0.0014,  0.0328],\n",
            "        [ 0.0350, -0.0020, -0.0522,  ..., -0.0407, -0.0062, -0.0451],\n",
            "        [ 0.0027, -0.0392,  0.0665,  ..., -0.0194, -0.0645,  0.0049],\n",
            "        ...,\n",
            "        [ 0.0274, -0.0054, -0.0457,  ..., -0.0241,  0.0234, -0.0479],\n",
            "        [-0.0397, -0.0301,  0.0057,  ..., -0.0019, -0.0340, -0.0394],\n",
            "        [ 0.0165,  0.0631, -0.0355,  ..., -0.0424,  0.0574,  0.1036]],\n",
            "       requires_grad=True), Parameter containing:\n",
            "tensor([ 0.0206, -0.0089,  0.0350, -0.0420, -0.0557,  0.0047,  0.0428, -0.0221,\n",
            "         0.0247, -0.0471, -0.0236,  0.0396,  0.0263, -0.0108,  0.0493,  0.0542,\n",
            "        -0.0331, -0.0545, -0.0319, -0.0106,  0.0012, -0.0435, -0.0614, -0.0238,\n",
            "        -0.0568, -0.0439,  0.0634, -0.0615,  0.0018, -0.0095, -0.0248, -0.0654,\n",
            "         0.0458,  0.0151, -0.0379, -0.0782,  0.0202, -0.0513,  0.0166, -0.0007,\n",
            "         0.0339, -0.0448, -0.0588,  0.0004, -0.0181, -0.0326,  0.0309, -0.0403,\n",
            "         0.0428,  0.0362,  0.0263, -0.0042,  0.0311,  0.0605, -0.0243,  0.0131,\n",
            "        -0.0579, -0.0011, -0.0335, -0.0599,  0.1136,  0.0277, -0.0134, -0.0388,\n",
            "         0.0343, -0.0511, -0.0106, -0.0474,  0.0311,  0.0380,  0.0071, -0.0155,\n",
            "         0.0576,  0.0243,  0.0519, -0.0211, -0.0487,  0.0036, -0.0629, -0.0377,\n",
            "        -0.0816, -0.0694,  0.0275, -0.0734,  0.0270, -0.0251,  0.0619,  0.0305,\n",
            "        -0.0497,  0.0331, -0.0489, -0.0635,  0.0154,  0.0206, -0.0395, -0.0077,\n",
            "         0.0146,  0.0734,  0.0207,  0.0072, -0.0196,  0.1101,  0.0301,  0.0048,\n",
            "        -0.0187, -0.0516,  0.0281,  0.0200, -0.0094,  0.0040, -0.0088, -0.0501,\n",
            "        -0.0054, -0.0431,  0.0167], requires_grad=True), Parameter containing:\n",
            "tensor([[ 0.0077,  0.0682,  0.0402,  0.0359,  0.0442, -0.0561,  0.0468, -0.0538,\n",
            "         -0.0379, -0.0753,  0.0822,  0.0761,  0.0030, -0.0006,  0.0318,  0.0323,\n",
            "         -0.0516, -0.0267, -0.0194,  0.0589,  0.0268,  0.0808, -0.0370, -0.0430,\n",
            "         -0.0245, -0.0742,  0.0364, -0.0167, -0.0004, -0.0206, -0.0028, -0.0012,\n",
            "          0.0618, -0.0497, -0.0322, -0.0219, -0.0424, -0.0515,  0.0016, -0.0043,\n",
            "         -0.0149, -0.0476,  0.0280,  0.0463, -0.0093, -0.0402,  0.0180, -0.0447,\n",
            "          0.0456,  0.0715, -0.0193,  0.0597, -0.0416,  0.0195, -0.0143,  0.0078,\n",
            "         -0.0287, -0.0386, -0.0233, -0.0300,  0.0295,  0.0258,  0.0244,  0.0645,\n",
            "         -0.0648, -0.0381,  0.0764, -0.0655,  0.0521,  0.0504, -0.0619,  0.0405,\n",
            "          0.0611,  0.0789,  0.0492, -0.0245, -0.0338,  0.0468, -0.0126, -0.0411,\n",
            "         -0.0444,  0.0420,  0.0815, -0.0003,  0.0648,  0.0029,  0.0302,  0.0235,\n",
            "         -0.0318,  0.0191, -0.0687, -0.0004, -0.0307,  0.0440, -0.0541, -0.0295,\n",
            "         -0.0114,  0.0175,  0.0142, -0.0480, -0.0282,  0.0350,  0.0149, -0.0397,\n",
            "         -0.0409, -0.0215,  0.0500,  0.0545, -0.0101,  0.0534, -0.0103, -0.0395,\n",
            "          0.0569,  0.0009, -0.0258]], requires_grad=True), Parameter containing:\n",
            "tensor([0.1223], requires_grad=True)]\n"
          ]
        }
      ],
      "source": [
        "print(list(net_loaded.parameters()))"
      ]
    },
    {
      "cell_type": "code",
      "execution_count": 160,
      "metadata": {
        "colab": {
          "base_uri": "https://localhost:8080/"
        },
        "id": "EXLYbm8uUZio",
        "outputId": "1e5077f9-cd76-4ed9-d7e2-adbf08bba853"
      },
      "outputs": [
        {
          "name": "stdout",
          "output_type": "stream",
          "text": [
            "Couldn't find program: 'echo'\n"
          ]
        }
      ],
      "source": [
        "%%script echo skipping\n",
        "\n",
        "# Set the network to evaluation mode\n",
        "net.eval()"
      ]
    },
    {
      "cell_type": "code",
      "execution_count": 161,
      "metadata": {
        "colab": {
          "base_uri": "https://localhost:8080/"
        },
        "id": "InGW0Xq6UZip",
        "outputId": "6c4a0e2c-b485-4362-b99d-7364dcf9443a"
      },
      "outputs": [
        {
          "data": {
            "text/plain": [
              "tensor([[ 7.7995,  2.2427,  3.2697,  5.2286,  3.1607],\n",
              "        [ 9.8664,  9.8792,  8.5305,  7.4634, 14.7380],\n",
              "        [ 7.9814,  2.5021,  4.4013,  3.7814,  5.5418],\n",
              "        [ 6.6004, 14.0556,  5.1673, 10.8853, 15.5840],\n",
              "        [ 5.2369,  0.7675,  5.3532,  3.0528,  6.3386],\n",
              "        [ 3.1337,  3.3805,  6.0210,  3.4950,  7.1238],\n",
              "        [ 4.8376,  0.3664,  0.2019,  2.7949,  5.1346],\n",
              "        [ 7.4738,  0.6482,  6.0150,  3.5915,  6.1314],\n",
              "        [ 7.4795, 12.4101,  3.8953,  1.3400, 11.4573],\n",
              "        [ 7.4157, 11.4728,  6.6289, 10.4194, 16.4867],\n",
              "        [ 3.4736,  1.2394,  2.4445,  2.4264,  2.5183],\n",
              "        [ 5.6689,  1.4216,  3.8554,  0.9862,  2.1750],\n",
              "        [10.7802, 10.6557, 10.5367, 23.2675, 25.3779],\n",
              "        [ 9.5013, 16.6924,  1.3903,  3.8288, 15.1969],\n",
              "        [ 9.3252, 11.5109,  7.4473,  4.7984, 15.1313],\n",
              "        [ 5.4021,  1.7549, 11.2338, 11.8415, 13.8619],\n",
              "        [10.8149,  0.7388, 11.7239,  3.7634,  8.5588],\n",
              "        [ 4.2555,  2.0297,  5.0098,  3.3773,  5.6262],\n",
              "        [ 4.7831,  1.5608,  1.7287,  1.9906,  1.2080],\n",
              "        [ 1.2952,  0.7121,  2.2147,  2.6284,  3.8077]])"
            ]
          },
          "execution_count": 161,
          "metadata": {},
          "output_type": "execute_result"
        }
      ],
      "source": [
        "rho_example, vx_example, vy_example, vz_example, epsilon_example = sample_primitive_variables(20)\n",
        "\n",
        "# Create arbitrary input\n",
        "inputs =  generate_input_data(rho_example, vx_example, vy_example, vz_example, epsilon_example)\n",
        "inputs"
      ]
    },
    {
      "cell_type": "code",
      "execution_count": 162,
      "metadata": {
        "colab": {
          "base_uri": "https://localhost:8080/"
        },
        "id": "QVa1upmFUZip",
        "outputId": "95a297df-88d8-4614-ffd7-ecc0cda58cf9"
      },
      "outputs": [
        {
          "name": "stdout",
          "output_type": "stream",
          "text": [
            "Couldn't find program: 'echo'\n"
          ]
        }
      ],
      "source": [
        "%%script echo skipping\n",
        "\n",
        "# Pass the inputs to the network and get the outputs\n",
        "outputs = [net(input) for input in inputs]\n",
        "# Print the outputs\n",
        "outputs"
      ]
    },
    {
      "cell_type": "code",
      "execution_count": 163,
      "metadata": {
        "colab": {
          "base_uri": "https://localhost:8080/"
        },
        "id": "ih9p2bosUZiq",
        "outputId": "8e31eaae-5bd8-4342-84cc-4512c8397acd"
      },
      "outputs": [
        {
          "data": {
            "text/plain": [
              "Net(\n",
              "  (hidden_activation): ReLU()\n",
              "  (output_activation): ReLU()\n",
              "  (layers): ModuleList(\n",
              "    (0): Linear(in_features=5, out_features=555, bias=True)\n",
              "    (1): Linear(in_features=555, out_features=458, bias=True)\n",
              "    (2): Linear(in_features=458, out_features=115, bias=True)\n",
              "    (3): Linear(in_features=115, out_features=1, bias=True)\n",
              "  )\n",
              ")"
            ]
          },
          "execution_count": 163,
          "metadata": {},
          "output_type": "execute_result"
        }
      ],
      "source": [
        "# Set the network to evaluation mode\n",
        "net_loaded.eval()\n"
      ]
    },
    {
      "cell_type": "code",
      "execution_count": 164,
      "metadata": {
        "colab": {
          "base_uri": "https://localhost:8080/"
        },
        "id": "E-Xjfo7VUZir",
        "outputId": "fb0478cb-bee3-429f-fdec-d99f11baf40f"
      },
      "outputs": [
        {
          "ename": "IndexError",
          "evalue": "tuple index out of range",
          "output_type": "error",
          "traceback": [
            "\u001b[1;31m---------------------------------------------------------------------------\u001b[0m",
            "\u001b[1;31mIndexError\u001b[0m                                Traceback (most recent call last)",
            "Cell \u001b[1;32mIn[164], line 2\u001b[0m\n\u001b[0;32m      1\u001b[0m \u001b[39m# Pass the inputs to the network and get the outputs\u001b[39;00m\n\u001b[1;32m----> 2\u001b[0m outputs \u001b[39m=\u001b[39m [net_loaded(\u001b[39minput\u001b[39;49m) \u001b[39mfor\u001b[39;49;00m \u001b[39minput\u001b[39;49m \u001b[39min\u001b[39;49;00m inputs]\n\u001b[0;32m      3\u001b[0m \u001b[39m# Print the outputs\u001b[39;00m\n\u001b[0;32m      4\u001b[0m outputs\n",
            "Cell \u001b[1;32mIn[164], line 2\u001b[0m, in \u001b[0;36m<listcomp>\u001b[1;34m(.0)\u001b[0m\n\u001b[0;32m      1\u001b[0m \u001b[39m# Pass the inputs to the network and get the outputs\u001b[39;00m\n\u001b[1;32m----> 2\u001b[0m outputs \u001b[39m=\u001b[39m [net_loaded(\u001b[39minput\u001b[39;49m) \u001b[39mfor\u001b[39;00m \u001b[39minput\u001b[39m \u001b[39min\u001b[39;00m inputs]\n\u001b[0;32m      3\u001b[0m \u001b[39m# Print the outputs\u001b[39;00m\n\u001b[0;32m      4\u001b[0m outputs\n",
            "File \u001b[1;32mc:\\Users\\bvptr\\anaconda3\\envs\\bsc\\Lib\\site-packages\\torch\\nn\\modules\\module.py:1501\u001b[0m, in \u001b[0;36mModule._call_impl\u001b[1;34m(self, *args, **kwargs)\u001b[0m\n\u001b[0;32m   1496\u001b[0m \u001b[39m# If we don't have any hooks, we want to skip the rest of the logic in\u001b[39;00m\n\u001b[0;32m   1497\u001b[0m \u001b[39m# this function, and just call forward.\u001b[39;00m\n\u001b[0;32m   1498\u001b[0m \u001b[39mif\u001b[39;00m \u001b[39mnot\u001b[39;00m (\u001b[39mself\u001b[39m\u001b[39m.\u001b[39m_backward_hooks \u001b[39mor\u001b[39;00m \u001b[39mself\u001b[39m\u001b[39m.\u001b[39m_backward_pre_hooks \u001b[39mor\u001b[39;00m \u001b[39mself\u001b[39m\u001b[39m.\u001b[39m_forward_hooks \u001b[39mor\u001b[39;00m \u001b[39mself\u001b[39m\u001b[39m.\u001b[39m_forward_pre_hooks\n\u001b[0;32m   1499\u001b[0m         \u001b[39mor\u001b[39;00m _global_backward_pre_hooks \u001b[39mor\u001b[39;00m _global_backward_hooks\n\u001b[0;32m   1500\u001b[0m         \u001b[39mor\u001b[39;00m _global_forward_hooks \u001b[39mor\u001b[39;00m _global_forward_pre_hooks):\n\u001b[1;32m-> 1501\u001b[0m     \u001b[39mreturn\u001b[39;00m forward_call(\u001b[39m*\u001b[39;49margs, \u001b[39m*\u001b[39;49m\u001b[39m*\u001b[39;49mkwargs)\n\u001b[0;32m   1502\u001b[0m \u001b[39m# Do not call functions when jit is used\u001b[39;00m\n\u001b[0;32m   1503\u001b[0m full_backward_hooks, non_full_backward_hooks \u001b[39m=\u001b[39m [], []\n",
            "Cell \u001b[1;32mIn[141], line 53\u001b[0m, in \u001b[0;36mNet.forward\u001b[1;34m(self, x)\u001b[0m\n\u001b[0;32m     51\u001b[0m \u001b[39m# Adding an assertion to check that the input tensor has the expected shape and type\u001b[39;00m\n\u001b[0;32m     52\u001b[0m \u001b[39massert\u001b[39;00m \u001b[39misinstance\u001b[39m(x, torch\u001b[39m.\u001b[39mTensor), \u001b[39m\"\u001b[39m\u001b[39mx must be a torch.Tensor\u001b[39m\u001b[39m\"\u001b[39m\n\u001b[1;32m---> 53\u001b[0m \u001b[39massert\u001b[39;00m x\u001b[39m.\u001b[39;49mshape[\u001b[39m1\u001b[39;49m] \u001b[39m==\u001b[39m \u001b[39m5\u001b[39m, \u001b[39m\"\u001b[39m\u001b[39mx must have shape (batch_size, 5)\u001b[39m\u001b[39m\"\u001b[39m\n\u001b[0;32m     55\u001b[0m \u001b[39m# Looping over the hidden layers and applying the linear transformation and the activation function\u001b[39;00m\n\u001b[0;32m     56\u001b[0m \u001b[39mfor\u001b[39;00m layer \u001b[39min\u001b[39;00m \u001b[39mself\u001b[39m\u001b[39m.\u001b[39mlayers[:\u001b[39m-\u001b[39m\u001b[39m1\u001b[39m]:\n",
            "\u001b[1;31mIndexError\u001b[0m: tuple index out of range"
          ]
        },
        {
          "ename": "",
          "evalue": "",
          "output_type": "error",
          "traceback": [
            "\u001b[1;31mThe Kernel crashed while executing code in the the current cell or a previous cell. Please review the code in the cell(s) to identify a possible cause of the failure. Click <a href='https://aka.ms/vscodeJupyterKernelCrash'>here</a> for more info. View Jupyter <a href='command:jupyter.viewOutput'>log</a> for further details."
          ]
        }
      ],
      "source": [
        "\n",
        "# Pass the inputs to the network and get the outputs\n",
        "outputs = [net_loaded(input) for input in inputs]\n",
        "# Print the outputs\n",
        "outputs"
      ]
    },
    {
      "cell_type": "markdown",
      "metadata": {
        "id": "xjpIvdybUZis"
      },
      "source": [
        "## Porting the model to C++"
      ]
    },
    {
      "cell_type": "code",
      "execution_count": null,
      "metadata": {
        "colab": {
          "base_uri": "https://localhost:8080/"
        },
        "id": "VMlEd4RoUZis",
        "outputId": "d5bfc697-8c96-47bb-a08c-6fb26f463797"
      },
      "outputs": [
        {
          "data": {
            "text/plain": [
              "tensor([[-0.8682,  0.6736, -0.6654]])"
            ]
          },
          "execution_count": 23,
          "metadata": {},
          "output_type": "execute_result"
        },
        {
          "data": {
            "text/plain": [
              "Net(\n",
              "  (hidden_activation): ReLU()\n",
              "  (output_activation): ReLU()\n",
              "  (layers): ModuleList(\n",
              "    (0): Linear(in_features=3, out_features=555, bias=True)\n",
              "    (1): Linear(in_features=555, out_features=458, bias=True)\n",
              "    (2): Linear(in_features=458, out_features=115, bias=True)\n",
              "    (3): Linear(in_features=115, out_features=1, bias=True)\n",
              "  )\n",
              ")"
            ]
          },
          "execution_count": 23,
          "metadata": {},
          "output_type": "execute_result"
        },
        {
          "data": {
            "text/plain": [
              "tensor([[4.6177, 0.3018, 2.3998]])"
            ]
          },
          "execution_count": 23,
          "metadata": {},
          "output_type": "execute_result"
        },
        {
          "data": {
            "text/plain": [
              "tensor([[1.5936]], grad_fn=<ReluBackward0>)"
            ]
          },
          "execution_count": 23,
          "metadata": {},
          "output_type": "execute_result"
        }
      ],
      "source": [
        "import torch.jit\n",
        "\n",
        "# Creating a dummy input tensor of shape (1, 5) to trace the model\n",
        "dummy_input = torch.randn(1, 5).to(device)\n",
        "dummy_input\n",
        "\n",
        "# Ensure that net_loaded is in evaluation mode.\n",
        "net_loaded.eval()\n",
        "\n",
        "# Tracing the model using the torch.jit.trace function\n",
        "traced_model = torch.jit.trace(net_loaded, dummy_input)\n",
        "\n",
        "# Saving the traced model to a file named \"net.pt\"\n",
        "traced_model.save(\"net.pt\")\n",
        "save_file(\"net.pt\")\n",
        "\n",
        "example_input_to_validate_correct_export_and_import = generate_input_data(*sample_primitive_variables(1))\n",
        "example_input_to_validate_correct_export_and_import\n",
        "net_loaded(example_input_to_validate_correct_export_and_import)"
      ]
    }
  ],
  "metadata": {
    "accelerator": "GPU",
    "colab": {
      "gpuType": "T4",
      "provenance": [],
      "toc_visible": true
    },
    "gpuClass": "standard",
    "kernelspec": {
      "display_name": "bsc",
      "language": "python",
      "name": "python3"
    },
    "language_info": {
      "codemirror_mode": {
        "name": "ipython",
        "version": 3
      },
      "file_extension": ".py",
      "mimetype": "text/x-python",
      "name": "python",
      "nbconvert_exporter": "python",
      "pygments_lexer": "ipython3",
      "version": "3.11.3"
    },
    "orig_nbformat": 4
  },
  "nbformat": 4,
  "nbformat_minor": 0
}
