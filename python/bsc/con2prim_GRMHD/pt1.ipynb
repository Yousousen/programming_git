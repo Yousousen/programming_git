{
  "cells": [
    {
      "attachments": {},
      "cell_type": "markdown",
      "metadata": {
        "id": "TPvB1xoSUZhR"
      },
      "source": [
        "# Neural network to learn conservative-to-primitive conversion in relativistic hydrodynamics"
      ]
    },
    {
      "attachments": {},
      "cell_type": "markdown",
      "metadata": {},
      "source": [
        "## How to use this notebook\n",
        "\n",
        "### Local installation\n",
        "\n",
        "1. Install required packages with `pip install -r requirements.txt` to your desired environment.\n",
        "2. If a script version of this notebook is desired, comment (not uncomment) the first line of `nbconvert` cell.\n",
        "\n",
        "### Colab installation\n",
        "\n",
        "1.  Comment (not uncomment) the first line of the drive mounting cell.\n",
        "2.  Comment (not uncomment) the first line of the `pip install` cell.\n",
        "\n",
        "<!-- - For colab we also want to set the runtime to GPU by clicking _Change runtime_ in the _Runtime_ menu, and -->\n",
        "<!-- - We want to wait for the google drive connection popup to appear and follow the instructions. -->\n",
        "\n",
        "### Training without optimization\n",
        "\n",
        "3. Set `OPTIMIZE = False` in section _Constants and flags to set_.\n",
        "4. Run the entire notebook.\n",
        "\n",
        "### Training with optimization\n",
        "\n",
        "3. Set `OPTIMIZE = True` in section _Constants and flags to set_.\n",
        "4. Run the entire notebook.\n",
        "\n",
        "### Loading an already trained model\n",
        "\n",
        "3. Run cells in section _Initialization_.\n",
        "4. Run cells with definitions in section _Input data and labels_.\n",
        "5. Run cell with the definition of _Net_ in section _Defining the neural network_.\n",
        "6. Make sure the `net.pth`, `optimizer.pth`, `scheduler.pth`, `var_dict.json` and `train_output.csv` files are in the directory containing this notebook.\n",
        "7. Run the cells in section _Loading_ and continue from there.\n",
        "\n",
        "### Generating the C++ model\n",
        "\n",
        "8. Run section _Porting the model to C++_, this requires a model to be loaded.\n",
        "9. Set the path to the `net.pt` file in the C++ source file.\n",
        "10. `mkdir build && cd build`,\n",
        "11. Configure a `CMakeLists.txt` file as is done [here](https://pytorch.org/cppdocs/installing.html).\n",
        "12. `cmake -DCMAKE_PREFIX_PATH=/path/to/libtorch/ ..`,\n",
        "13. Compile and run, e.g. `cmake --build . --config release && ./<executable name>`"
      ]
    },
    {
      "attachments": {},
      "cell_type": "markdown",
      "metadata": {},
      "source": [
        "## Initialization"
      ]
    },
    {
      "attachments": {},
      "cell_type": "markdown",
      "metadata": {},
      "source": [
        "\n",
        "Use this first cell to **convert this notebook** to a python script."
      ]
    },
    {
      "cell_type": "code",
      "execution_count": 6,
      "metadata": {
        "colab": {
          "base_uri": "https://localhost:8080/"
        },
        "id": "eqdgdNLHUZhV",
        "outputId": "30907b9d-56c3-44d7-cd43-6387a991a46a",
        "tags": [
          "remove_cell"
        ]
      },
      "outputs": [
        {
          "name": "stdout",
          "output_type": "stream",
          "text": [
            "Couldn't find program: 'echo'\n"
          ]
        }
      ],
      "source": [
        "%%script echo skipping\n",
        "\n",
        "!jupyter nbconvert pt1.ipynb --TagRemovePreprocessor.enabled=True --TagRemovePreprocessor.remove_cell_tags='{\"remove_cell\"}' --to script"
      ]
    },
    {
      "attachments": {},
      "cell_type": "markdown",
      "metadata": {
        "id": "nzcUr0LnUZhw"
      },
      "source": [
        "Next some cells for working on **google colab**,"
      ]
    },
    {
      "cell_type": "code",
      "execution_count": 7,
      "metadata": {},
      "outputs": [],
      "source": [
        "import os\n",
        "import shutil\n",
        "\n",
        "# check if the drive is mounted\n",
        "drive_mounted = os.path.exists(\"/content/drive\")\n",
        "# change this to your desired folder\n",
        "drive_folder = \"/content/drive/My Drive/bsc/con2prim_GRMHD\"\n",
        "\n",
        "# define a function to save a file to the drive or the current directory\n",
        "def save_file(file_name):\n",
        "  if drive_mounted:\n",
        "    # save the file to the drive folder\n",
        "    file_path = os.path.join(drive_folder, file_name)\n",
        "    # copy the file from the current directory to the drive folder\n",
        "    shutil.copyfile(file_name, file_path)\n",
        "  else:\n",
        "    # do nothing as the file is already in the current directory\n",
        "    pass\n"
      ]
    },
    {
      "cell_type": "code",
      "execution_count": 8,
      "metadata": {
        "colab": {
          "base_uri": "https://localhost:8080/"
        },
        "id": "ecHw2_xlUZhx",
        "outputId": "462a57cd-ee19-4961-d3aa-ff2407b2bde0"
      },
      "outputs": [
        {
          "name": "stdout",
          "output_type": "stream",
          "text": [
            "Couldn't find program: 'echo'\n"
          ]
        }
      ],
      "source": [
        "%%script echo skipping\n",
        "\n",
        "from google.colab import drive\n",
        "drive.mount('/content/drive')"
      ]
    },
    {
      "cell_type": "code",
      "execution_count": 9,
      "metadata": {
        "colab": {
          "base_uri": "https://localhost:8080/"
        },
        "id": "T1rcStMLUZhy",
        "outputId": "7ea7311f-f054-4a29-d0ff-12849095ab6e"
      },
      "outputs": [
        {
          "name": "stdout",
          "output_type": "stream",
          "text": [
            "Couldn't find program: 'echo'\n"
          ]
        }
      ],
      "source": [
        "%%script echo skipping\n",
        "\n",
        "!pip install optuna tensorboard tensorboardX"
      ]
    },
    {
      "attachments": {},
      "cell_type": "markdown",
      "metadata": {},
      "source": [
        "Importing the **libraries** and setting the **device**,"
      ]
    },
    {
      "cell_type": "code",
      "execution_count": 10,
      "metadata": {
        "id": "tREdWQUVUZhz"
      },
      "outputs": [],
      "source": [
        "import numpy as np\n",
        "import matplotlib.pyplot as plt\n",
        "import torch\n",
        "import torch.nn as nn\n",
        "import torch.optim as optim\n",
        "import torch.nn.functional as F\n",
        "import optuna\n",
        "import tensorboardX as tbx\n",
        "import pandas as pd\n",
        "\n",
        "# Checking if GPU is available and setting the device accordingly\n",
        "device = torch.device(\"cuda\" if torch.cuda.is_available() else \"cpu\")\n"
      ]
    },
    {
      "attachments": {},
      "cell_type": "markdown",
      "metadata": {
        "id": "38GvmerjUZhz"
      },
      "source": [
        "### Constants and flags to set\n",
        "Defining some constants and parameters for convenience.\n",
        "\n",
        "**NOTE**: Some **subparameters** still need to be adjusted in the `create_model` function itself as of (Tue May 16 07:42:45 AM CEST 2023) in the case the model is being trained without optimization."
      ]
    },
    {
      "cell_type": "code",
      "execution_count": 11,
      "metadata": {
        "id": "ei6VZDYKUZh0"
      },
      "outputs": [],
      "source": [
        "\n",
        "N_TRIALS = 150 # Number of trials for hyperparameter optimization\n",
        "OPTIMIZE = False # Whether to optimize the hyperparameters or to use predetermined values from Dieseldorst et al..\n",
        "ZSCORE_NORMALIZATION = False # Whether to z-score normalize the input data.\n",
        "LOAD_DATA_FROM_CSV = True  # If not true we generate the data in this file and save to {x_train,y_train,x_test,y_test}.csv, otherwise we load the data from files of the same name.\n",
        "\n",
        "csv_filenames = { # File names to load input data and labels from if LOAD_DATA_FROM_CSV is True.\n",
        "    \"x_train\": \"x_train.csv\",\n",
        "    \"y_train\": \"y_train.csv\",\n",
        "    \"x_test\": \"x_test.csv\",\n",
        "    \"y_test\": \"y_test.csv\",\n",
        "}\n",
        "\n",
        "\n",
        "\n",
        "# I try out here the values as obtained in Optuna run 5, but I will increase the number of epochs.\n",
        "# N_LAYERS_NO_OPT = 3\n",
        "# N_UNITS_NO_OPT = [78, 193, 99]\n",
        "# HIDDEN_ACTIVATION_NAME_NO_OPT = \"ReLU\"\n",
        "# OUTPUT_ACTIVATION_NAME_NO_OPT = \"Linear\"\n",
        "# LOSS_NAME_NO_OPT = \"MSE\"\n",
        "# OPTIMIZER_NAME_NO_OPT = \"Adam\"\n",
        "# LR_NO_OPT = 0.00036516467819506355\n",
        "# BATCH_SIZE_NO_OPT = 170\n",
        "# N_EPOCHS_NO_OPT = 400\n",
        "# SCHEDULER_NAME_NO_OPT = \"ReduceLROnPlateau\"\n",
        "\n",
        "N_LAYERS_NO_OPT = 3\n",
        "N_UNITS_NO_OPT = [555, 458, 115]\n",
        "HIDDEN_ACTIVATION_NAME_NO_OPT = \"ReLU\"\n",
        "OUTPUT_ACTIVATION_NAME_NO_OPT = \"ReLU\"\n",
        "LOSS_NAME_NO_OPT = \"Huber\"\n",
        "OPTIMIZER_NAME_NO_OPT = \"RMSprop\"\n",
        "LR_NO_OPT = 0.000122770896701404\n",
        "BATCH_SIZE_NO_OPT = 49\n",
        "N_EPOCHS_NO_OPT = 3\n",
        "SCHEDULER_NAME_NO_OPT = \"ReduceLROnPlateau\"\n",
        "\n",
        "c = 1  # Speed of light (used in compute_conserved_variables and sample_primitive_variables functions)\n",
        "Gamma = 5 / 3  # Adiabatic index (used in eos_analytic function)\n",
        "gamma_det = 1 # Determinant of gamma_ij.\n",
        "alpha = 1 # Lapse function.\n",
        "n_train_samples = 80000 # Number of training samples (used in generate_input_data and generate_labels functions)\n",
        "n_test_samples = 10000 # Number of test samples (used in generate_input_data and generate_labels functions)\n",
        "# TODO: Make the intervals correspond to something that works in GR in general, for right now (Sun May 21 06:02:10 PM CEST 2023) the intervals are a mix of Dieselhorst et al., the minimum to maximum speed and dummy intervals.\n",
        "rho_interval = (0, 10.1) # Sampling interval for rest-mass density (used in sample_primitive_variables function)\n",
        "epsilon_interval = (0, 2.02) # Sampling interval for specific internal energy (used in sample_primitive_variables function)\n",
        "vx_interval = (0, .57 * c) # Sampling interval for velocity in x-direction (used in sample_primitive_variables function)\n",
        "vy_interval = (0, .57 * c) # Sampling interval for velocity in y-direction (used in sample_primitive_variables function)\n",
        "vz_interval = (0, .57 * c) # Sampling interval for velocity in z-direction (used in sample_primitive_variables function)\n",
        "# TODO: Choose proper sampling intervals for the magnetic fields in all directions.\n",
        "Bx_interval = (0, 1) # Sampling interval for magnetic field in x-direction (used in sample_primitive_variables function)\n",
        "By_interval = (0, 1) # Sampling interval for magnetic field in y-direction (used in sample_primitive_variables function)\n",
        "Bz_interval = (0, 1) # Sampling interval for magnetic field in z-direction (used in sample_primitive_variables function)\n",
        "b0_interval = (0, 1)\n",
        "b1_interval = (0, 1)\n",
        "b2_interval = (0, 1)\n",
        "b3_interval = (0, 1)\n",
        "\n",
        "np.random.seed(45) # Comment for true random data.\n"
      ]
    },
    {
      "attachments": {},
      "cell_type": "markdown",
      "metadata": {
        "id": "dlaP5UL2UZh1"
      },
      "source": [
        "## Input data and labels\n",
        "\n",
        "We either generate the data or load the data. First the definitions for generating the data come below."
      ]
    },
    {
      "cell_type": "code",
      "execution_count": 12,
      "metadata": {
        "id": "s_EvGFZcUZh1"
      },
      "outputs": [],
      "source": [
        "# Defining an analytic equation of state (EOS) for an ideal gas\n",
        "def eos_analytic(rho, epsilon):\n",
        "    \"\"\"Computes the pressure from rest-mass density and specific internal energy using an analytic EOS.\n",
        "\n",
        "    Args:\n",
        "        rho (torch.Tensor): The rest-mass density tensor of shape (n_samples,).\n",
        "        epsilon (torch.Tensor): The specific internal energy tensor of shape (n_samples,).\n",
        "\n",
        "    Returns:\n",
        "        torch.Tensor: The pressure tensor of shape (n_samples,).\n",
        "    \"\"\"\n",
        "    # Adding some assertions to check that the input tensors are valid and have \n",
        "    # the expected shape and type \n",
        "    assert isinstance(rho, torch.Tensor), \"rho must be a torch.Tensor\"\n",
        "    assert isinstance(epsilon, torch.Tensor), \"epsilon must be a torch.Tensor\"\n",
        "    assert rho.shape == epsilon.shape, \"rho and epsilon must have the same shape\"\n",
        "    assert rho.ndim == 1, \"rho and epsilon must be one-dimensional tensors\"\n",
        "    assert rho.dtype == torch.float32, \"rho and epsilon must have dtype torch.float32\"\n",
        "\n",
        "    return (Gamma - 1) * rho * epsilon\n",
        "\n",
        "\n",
        "\n",
        "# Defining a function that samples primitive variables from uniform distributions\n",
        "def sample_primitive_variables(n_samples):\n",
        "    \"\"\"Samples primitive variables from uniform distributions.\n",
        "\n",
        "    Args:\n",
        "        n_samples (int): The number of samples to generate.\n",
        "\n",
        "    Returns:\n",
        "        tuple: A tuple of (rho, epsilon, vx, vy, vz, Bx, By, Bz, b0, b1, b2, b3), where rho is rest-mass density,\n",
        "            rho is the rest mass density,\n",
        "            epsilon is specific internal energy,\n",
        "            vx is velocity in x-direction,\n",
        "            vy is velocity in y-direction,\n",
        "            vz is velocity in z-direction,\n",
        "            Bx is magnetic field in x-direction,\n",
        "            By is magnetic field in y-direction,\n",
        "            Bz is magnetic field in z-direction,\n",
        "            TODO:\n",
        "            b0\n",
        "            b1\n",
        "            b2\n",
        "            b3\n",
        "            each being a numpy array of shape (n_samples,).\n",
        "    \"\"\"\n",
        "    rho = np.random.uniform(*rho_interval, size=n_samples)  # Rest-mass density\n",
        "    epsilon = np.random.uniform(*epsilon_interval, size=n_samples)  # Specific internal energy\n",
        "    vx = np.random.uniform(*vx_interval, size=n_samples)  # Velocity in x-direction\n",
        "    vy = np.random.uniform(*vy_interval, size=n_samples)  # Velocity in y-direction\n",
        "    vz = np.random.uniform(*vz_interval, size=n_samples)  # Velocity in z-direction \n",
        "    Bx = np.random.uniform(*Bx_interval, size=n_samples)  # Magnetic field in x-direction\n",
        "    By = np.random.uniform(*By_interval, size=n_samples)  # Magnetic field in y-direction\n",
        "    Bz = np.random.uniform(*Bz_interval, size=n_samples)  # Magnetic field in z-direction \n",
        "    b0 = np.random.uniform(*b0_interval, size=n_samples)\n",
        "    b1 = np.random.uniform(*b1_interval, size=n_samples)\n",
        "    b2 = np.random.uniform(*b2_interval, size=n_samples)\n",
        "    b3 = np.random.uniform(*b3_interval, size=n_samples)\n",
        "\n",
        "    return rho, epsilon, vx, vy, vz, Bx, By, Bz, b0, b1, b2, b3\n",
        "\n",
        "\n",
        "\n",
        "\n",
        "# Defining a function that computes conserved variables from primitive variables\n",
        "def compute_conserved_variables(rho, epsilon, vx, vy, vz, Bx, By, Bz, b0, b1, b2, b3):\n",
        "    \"\"\"Computes conserved variables from primitive variables.\n",
        "\n",
        "    Args:\n",
        "        rho (torch.Tensor): The rest-mass density tensor of shape (n_samples,).\n",
        "        epsilon (torch.Tensor): The specific internal energy tensor of shape (n_samples,).\n",
        "        vx (torch.Tensor): The velocity in x-direction tensor of shape (n_samples,)\n",
        "        vy (torch.Tensor): The velocity in y-direction tensor of shape (n_samples,)\n",
        "        vz (torch.Tensor): The velocity in z-direction tensor of shape (n_samples,)\n",
        "        Bx (torch.Tensor): The magnetic field in x-direction tensor of shape (n_samples,)\n",
        "        By (torch.Tensor): The magnetic field in y-direction tensor of shape (n_samples,)\n",
        "        Bz (torch.Tensor): The magnetic field in z-direction tensor of shape (n_samples,)\n",
        "        TODO:\n",
        "        b0\n",
        "        b1\n",
        "        b2\n",
        "        b3\n",
        "\n",
        "    Returns:\n",
        "        tuple: A tuple of (D, Sx, Sy, Sz, tau, Bscriptx, Bscripty, Bscriptz), where\n",
        "            D is conserved density,\n",
        "            Sx is conserved momentum in x-direction,\n",
        "            Sy is conserved momentum in y-direction,\n",
        "            Sz is conserved momentum in z-direction,\n",
        "            tau is conserved energy density,\n",
        "            Bscriptx is conserved magnetic field in x-direction,\n",
        "            Bscripty is conserved magnetic field in y-direction,\n",
        "            Bscriptz is conserved magnetic field in z-direction,\n",
        "            each being a torch tensor of shape (n_samples,).\n",
        "    \"\"\"\n",
        "\n",
        "    p = eos_analytic(rho, epsilon)\n",
        "    v2 = vx ** 2 + vy ** 2 + vz ** 2\n",
        "    W = 1 / torch.sqrt(1 - v2 / c ** 2)\n",
        "    h_star = 1 + epsilon + (p + Bx ** 2 + By ** 2 + Bz ** 2) / rho\n",
        "\n",
        "    D = gamma_det ** 0.5 * rho * W\n",
        "    Sx = gamma_det ** 0.5 * (rho * h_star * W ** 2 * vx - alpha * b0 * b1)\n",
        "    Sy = gamma_det ** 0.5 * (rho * h_star * W ** 2 * vy - alpha * b0 * b2)\n",
        "    Sz = gamma_det ** 0.5 * (rho * h_star * W ** 2 * vz - alpha * b0 * b3)\n",
        "    tau = gamma_det ** 0.5 * (rho * h_star * W ** 2 - p - (alpha * b0) ** 2) - D\n",
        "    Bscriptx = gamma_det ** 0.5 * Bx\n",
        "    Bscripty = gamma_det ** 0.5 * By\n",
        "    Bscriptz = gamma_det ** 0.5 * Bz\n",
        "\n",
        "    return D, Sx, Sy, Sz, tau, Bscriptx, Bscripty, Bscriptz\n",
        "\n",
        "\n",
        "# Defining a function that generates input data (conserved variables) from given samples of primitive variables\n",
        "def generate_input_data(rho, epsilon, vx, vy, vz, Bx, By, Bz, b0, b1, b2, b3):\n",
        "    # Converting the numpy arrays to torch tensors and moving them to the device\n",
        "    rho = torch.tensor(rho, dtype=torch.float32).to(device)\n",
        "    epsilon = torch.tensor(epsilon, dtype=torch.float32).to(device)\n",
        "    vx = torch.tensor(vx, dtype=torch.float32).to(device)\n",
        "    vy = torch.tensor(vy, dtype=torch.float32).to(device)\n",
        "    vz = torch.tensor(vz, dtype=torch.float32).to(device)\n",
        "    Bx = torch.tensor(Bx, dtype=torch.float32).to(device)\n",
        "    By = torch.tensor(By, dtype=torch.float32).to(device)\n",
        "    Bz = torch.tensor(Bz, dtype=torch.float32).to(device)\n",
        "    b0 = torch.tensor(b0, dtype=torch.float32).to(device)\n",
        "    b1 = torch.tensor(b1, dtype=torch.float32).to(device)\n",
        "    b2 = torch.tensor(b2, dtype=torch.float32).to(device)\n",
        "    b3 = torch.tensor(b3, dtype=torch.float32).to(device)\n",
        "\n",
        "    # Computing the conserved variables using the compute_conserved_variables function\n",
        "    D, Sx, Sy, Sz, tau, Bscriptx, Bscripty, Bscriptz = compute_conserved_variables(\n",
        "        rho, epsilon, vx, vy, vz, Bx, By, Bz, b0, b1, b2, b3\n",
        "    ) \n",
        "\n",
        "    # Stacking the conserved variables into a torch tensor\n",
        "    x = torch.stack([D, Sx, Sy, Sz, tau, Bscriptx, Bscripty, Bscriptz], axis=1)\n",
        "\n",
        "    # Returning the input data tensor\n",
        "    return x\n",
        "\n",
        "# Defining a function that generates output data (labels) from given samples of primitive variables\n",
        "def generate_labels(rho, epsilon):\n",
        "    # Converting the numpy arrays to torch tensors and moving them to the device\n",
        "    rho = torch.tensor(rho, dtype=torch.float32).to(device)\n",
        "    epsilon = torch.tensor(epsilon, dtype=torch.float32).to(device)\n",
        "   \n",
        "    # Computing the pressure from the primitive variables using the EOS\n",
        "    p = eos_analytic(rho, epsilon)\n",
        "\n",
        "    # Returning the output data tensor\n",
        "    return p\n"
      ]
    },
    {
      "attachments": {},
      "cell_type": "markdown",
      "metadata": {},
      "source": [
        "### Generating or loading input data and labels"
      ]
    },
    {
      "cell_type": "code",
      "execution_count": 13,
      "metadata": {
        "id": "cKubR6C8UZh4"
      },
      "outputs": [
        {
          "data": {
            "text/plain": [
              "torch.Size([80000, 8])"
            ]
          },
          "execution_count": 13,
          "metadata": {},
          "output_type": "execute_result"
        },
        {
          "data": {
            "text/plain": [
              "torch.Size([80000])"
            ]
          },
          "execution_count": 13,
          "metadata": {},
          "output_type": "execute_result"
        },
        {
          "data": {
            "text/plain": [
              "torch.Size([10000, 8])"
            ]
          },
          "execution_count": 13,
          "metadata": {},
          "output_type": "execute_result"
        },
        {
          "data": {
            "text/plain": [
              "torch.Size([10000])"
            ]
          },
          "execution_count": 13,
          "metadata": {},
          "output_type": "execute_result"
        },
        {
          "data": {
            "text/plain": [
              "tensor([[13.9759, 34.5692, 11.9246,  ...,  0.4126,  0.3899,  0.8935],\n",
              "        [ 5.7788,  1.2478,  0.6413,  ...,  0.2867,  0.2137,  0.1567],\n",
              "        [ 3.4963,  3.0523,  5.3591,  ...,  0.5955,  0.7932,  0.8628],\n",
              "        ...,\n",
              "        [ 5.7850,  1.4621,  4.5658,  ...,  0.2955,  0.1149,  0.1936],\n",
              "        [ 9.0765,  4.3861,  1.1389,  ...,  0.4854,  0.2328,  0.4709],\n",
              "        [12.9478, 37.2038,  6.6587,  ...,  0.3755,  0.6361,  0.7396]])"
            ]
          },
          "execution_count": 13,
          "metadata": {},
          "output_type": "execute_result"
        },
        {
          "data": {
            "text/plain": [
              "tensor([8.2839, 3.0436, 1.6876,  ..., 3.9606, 0.0631, 7.8002])"
            ]
          },
          "execution_count": 13,
          "metadata": {},
          "output_type": "execute_result"
        },
        {
          "data": {
            "text/plain": [
              "tensor([[ 1.3825e+01,  2.9134e+01,  3.9785e+01,  ...,  9.6535e-01,\n",
              "          3.2306e-01,  2.4445e-01],\n",
              "        [ 3.4450e+00,  6.3729e+00,  3.1812e+00,  ...,  9.4066e-01,\n",
              "          3.0354e-01,  4.0136e-01],\n",
              "        [ 8.4107e+00,  3.0976e+00,  1.1580e+01,  ...,  8.4097e-01,\n",
              "          3.9327e-01,  9.2478e-01],\n",
              "        ...,\n",
              "        [ 7.7337e-01,  3.9200e-01,  2.5285e+00,  ...,  7.0198e-01,\n",
              "          5.2889e-01,  8.7127e-01],\n",
              "        [ 8.6818e+00,  2.1599e+01,  1.9956e+01,  ...,  2.3146e-01,\n",
              "          7.7888e-01,  2.1063e-01],\n",
              "        [ 1.8878e-01,  1.3415e-04, -4.7997e-02,  ...,  1.6985e-01,\n",
              "          2.5977e-01,  9.9682e-01]])"
            ]
          },
          "execution_count": 13,
          "metadata": {},
          "output_type": "execute_result"
        },
        {
          "data": {
            "text/plain": [
              "tensor([10.4623,  1.5586,  2.2009,  ...,  0.2875,  1.6269,  0.0371])"
            ]
          },
          "execution_count": 13,
          "metadata": {},
          "output_type": "execute_result"
        }
      ],
      "source": [
        "if LOAD_DATA_FROM_CSV:\n",
        "    # Load the data from CSV files\n",
        "    x_train = pd.read_csv(csv_filenames[\"x_train\"]).values\n",
        "    y_train = pd.read_csv(csv_filenames[\"y_train\"]).values.squeeze()  # reshape to 1D\n",
        "    x_test = pd.read_csv(csv_filenames[\"x_test\"]).values\n",
        "    y_test = pd.read_csv(csv_filenames[\"y_test\"]).values.squeeze()  # reshape to 1D\n",
        "\n",
        "    # Convert numpy arrays to tensors\n",
        "    x_train = torch.from_numpy(x_train).float().to(device)\n",
        "    y_train = torch.from_numpy(y_train).float().to(device)\n",
        "    x_test = torch.from_numpy(x_test).float().to(device)\n",
        "    y_test = torch.from_numpy(y_test).float().to(device)\n",
        "\n",
        "    # This is an alternative to having if clauses  around the next cells that visualize these variables.\n",
        "    rho_train = epsilon_train = vx_train = vy_train = vz_train = Bx_train = By_train = Bz_train = b0_train = b1_train = b2_train = b3_train = None\n",
        "    rho_test = epsilon_test = vx_test = vy_test = vz_test = Bx_test = By_test = Bz_test = b0_test = b1_test = b2_test = b3_test = None\n",
        "else:\n",
        "    # Sample primitive variables\n",
        "    rho_train, epsilon_train, vx_train, vy_train, vz_train, Bx_train, By_train, Bz_train, b0_train, b1_train, b2_train, b3_train = sample_primitive_variables(n_train_samples)\n",
        "    rho_test, epsilon_test, vx_test, vy_test, vz_test, Bx_test, By_test, Bz_test, b0_test, b1_test, b2_test, b3_test = sample_primitive_variables(n_test_samples)\n",
        "\n",
        "    # Generate data and labels.\n",
        "    x_train = generate_input_data(rho_train, epsilon_train, vx_train, vy_train, vz_train, Bx_train, By_train, Bz_train, b0_train, b1_train, b2_train, b3_train)\n",
        "    y_train = generate_labels(rho_train, epsilon_train)\n",
        "    x_test = generate_input_data(rho_test, epsilon_test, vx_test, vy_test, vz_test, Bx_test, By_test, Bz_test, b0_test, b1_test, b2_test, b3_test)\n",
        "    y_test = generate_labels(rho_test, epsilon_test)\n",
        "\n",
        "    # Save the data to CSV files, tensors need to be converted numpy arrays for saving in CSV.\n",
        "    pd.DataFrame(x_train.cpu().numpy()).to_csv(csv_filenames[\"x_train\"], index=False)\n",
        "    pd.DataFrame(y_train.cpu().numpy()).to_csv(csv_filenames[\"y_train\"], index=False)\n",
        "    pd.DataFrame(x_test.cpu().numpy()).to_csv(csv_filenames[\"x_test\"], index=False)\n",
        "    pd.DataFrame(y_test.cpu().numpy()).to_csv(csv_filenames[\"y_test\"], index=False)\n",
        "\n",
        "x_train.shape\n",
        "y_train.shape\n",
        "x_test.shape\n",
        "y_test.shape\n",
        "x_train\n",
        "y_train\n",
        "x_test\n",
        "y_test"
      ]
    },
    {
      "attachments": {},
      "cell_type": "markdown",
      "metadata": {},
      "source": [
        "## Visualizing the data"
      ]
    },
    {
      "attachments": {},
      "cell_type": "markdown",
      "metadata": {},
      "source": [
        "### Visualizing sampled data"
      ]
    },
    {
      "cell_type": "code",
      "execution_count": 14,
      "metadata": {},
      "outputs": [],
      "source": [
        "if not LOAD_DATA_FROM_CSV:\n",
        "    rho_train\n",
        "    epsilon_train\n",
        "    vx_train\n",
        "    vy_train\n",
        "    vz_train \n",
        "    Bx_train\n",
        "    By_train\n",
        "    Bz_train\n",
        "    rho_test\n",
        "    epsilon_test\n",
        "    vx_test \n",
        "    vy_test \n",
        "    vz_test \n",
        "    Bx_test\n",
        "    By_test\n",
        "    Bz_test"
      ]
    },
    {
      "cell_type": "code",
      "execution_count": 15,
      "metadata": {
        "id": "VMp6XJ6RUZh4"
      },
      "outputs": [],
      "source": [
        "%config InteractiveShell.ast_node_interactivity = \"last_expr_or_assign\""
      ]
    },
    {
      "cell_type": "code",
      "execution_count": 16,
      "metadata": {
        "colab": {
          "base_uri": "https://localhost:8080/",
          "height": 409
        },
        "id": "E5YFdqKjUZh5",
        "outputId": "fe67d113-f369-495f-9aba-201c71058eb7"
      },
      "outputs": [],
      "source": [
        "if not LOAD_DATA_FROM_CSV:\n",
        "    def plot_histogram(data, xlabel, ylabel, position, bins=20, log_scale=False):\n",
        "        plt.subplot(3, 4, position)\n",
        "        plt.hist(data, bins=bins)\n",
        "        plt.xlabel(xlabel)\n",
        "        plt.ylabel(ylabel)\n",
        "        if log_scale:\n",
        "            plt.yscale(\"log\")\n",
        "\n",
        "    # Plotting the histograms of rho, vx, epsilon, b0, b1, b2, and b3\n",
        "    plt.figure(figsize=(16, 12))\n",
        "\n",
        "    plot_histogram(rho_train, \"rho\", \"Frequency\", 1)\n",
        "    plot_histogram(epsilon_train, \"epsilon\", \"Frequency\", 2)\n",
        "    plot_histogram(vx_train, \"vx\", \"Frequency\", 3)\n",
        "    plot_histogram(vy_train, \"vy\", \"Frequency\", 4)\n",
        "    plot_histogram(vz_train, \"vz\", \"Frequency\", 5)\n",
        "    plot_histogram(Bx_train, \"Bx\", \"Frequency\", 6)\n",
        "    plot_histogram(By_train, \"By\", \"Frequency\", 7)\n",
        "    plot_histogram(Bz_train, \"Bz\", \"Frequency\", 8)\n",
        "    plot_histogram(b0_train, \"b0\", \"Frequency\", 9)\n",
        "    plot_histogram(b1_train, \"b1\", \"Frequency\", 10)\n",
        "    plot_histogram(b2_train, \"b2\", \"Frequency\", 11)\n",
        "    plot_histogram(b3_train, \"b3\", \"Frequency\", 12)\n",
        "\n",
        "    plt.suptitle(\"Primitive variables\")\n",
        "    plt.tight_layout()\n",
        "    plt.show()"
      ]
    },
    {
      "cell_type": "code",
      "execution_count": 17,
      "metadata": {},
      "outputs": [],
      "source": [
        "%config InteractiveShell.ast_node_interactivity = \"last_expr_or_assign\""
      ]
    },
    {
      "cell_type": "code",
      "execution_count": 18,
      "metadata": {},
      "outputs": [],
      "source": [
        "if not LOAD_DATA_FROM_CSV:\n",
        "    # List of variable names\n",
        "    variable_names = [\"rho\", \"epsilon\", \"vx\", \"vy\", \"vz\", \"Bx\", \"By\", \"Bz\"]\n",
        "\n",
        "    # Note how we are only plotting train and not test here. \n",
        "    # Plotting histograms of the input variables before z-score normalization\n",
        "    plt.figure(figsize=(12, 12))\n",
        "    plt.suptitle('Histograms of input variables before (or without at all) z-score normalization', y=1.03)\n",
        "    for i in range(8):\n",
        "        plt.subplot(4, 2, i+1)\n",
        "        plt.hist(x_train[:, i].cpu(), bins=50) # Must be converted to cpu() for plotting.\n",
        "        plt.xlabel(variable_names[i])\n",
        "    plt.subplots_adjust(hspace=0.4, wspace=0.4)\n",
        "    plt.show()"
      ]
    },
    {
      "attachments": {},
      "cell_type": "markdown",
      "metadata": {},
      "source": [
        "### Data normalization"
      ]
    },
    {
      "cell_type": "code",
      "execution_count": 19,
      "metadata": {},
      "outputs": [
        {
          "name": "stdout",
          "output_type": "stream",
          "text": [
            "Summary statistics of input variables before z-score normalization\n",
            "tensor([[ 4.2354e-05,  3.4465e+01,  6.3522e+00,  6.2318e+00,  3.8406e+00],\n",
            "        [-9.4630e-01,  3.4921e+02,  7.1694e+00,  4.0905e+00,  9.3250e+00],\n",
            "        [-9.0698e-01,  3.4525e+02,  7.1298e+00,  4.0974e+00,  9.2780e+00],\n",
            "        [-9.0432e-01,  3.5522e+02,  7.1210e+00,  4.0648e+00,  9.2856e+00],\n",
            "        [-6.2803e-01,  5.7938e+02,  1.3452e+01,  9.5502e+00,  1.3951e+01],\n",
            "        [ 1.6653e-07,  9.9998e-01,  5.0062e-01,  4.9980e-01,  2.8918e-01],\n",
            "        [ 3.7636e-06,  9.9998e-01,  5.0065e-01,  5.0140e-01,  2.8924e-01],\n",
            "        [ 9.8495e-06,  1.0000e+00,  5.0112e-01,  5.0141e-01,  2.8865e-01]])\n"
          ]
        }
      ],
      "source": [
        "# Computing summary statistics of the input variables before and after z-score normalization\n",
        "print('Summary statistics of input variables before z-score normalization')\n",
        "print(torch.stack([torch.min(x_train, dim=0).values, torch.max(x_train, dim=0).values, torch.nanmean(x_train, dim=0), torch.median(x_train, dim=0).values, torch.std(x_train, dim=0)], dim=1))"
      ]
    },
    {
      "attachments": {},
      "cell_type": "markdown",
      "metadata": {
        "id": "xTEmkR1SUZh7"
      },
      "source": [
        "Perform z-score normalization"
      ]
    },
    {
      "cell_type": "code",
      "execution_count": 20,
      "metadata": {},
      "outputs": [],
      "source": [
        "%config InteractiveShell.ast_node_interactivity = \"all\""
      ]
    },
    {
      "cell_type": "code",
      "execution_count": 21,
      "metadata": {
        "id": "yPOv6DxhUZh7"
      },
      "outputs": [],
      "source": [
        "if ZSCORE_NORMALIZATION:\n",
        "    \n",
        "    # TODO: Add magnetic field variables to the normalization if I decide to use the old code that is commented out here.\n",
        "    # # Computing the median of each input variable from the training set using torch.nanmedian function\n",
        "    # D_median = torch.nanmedian(x_train[:, 0])\n",
        "    # Sx_median = torch.nanmedian(x_train[:, 1])\n",
        "    # Sy_median = torch.nanmedian(x_train[:, 2])\n",
        "    # Sz_median = torch.nanmedian(x_train[:, 3])\n",
        "    # tau_median = torch.nanmedian(x_train[:, 4])\n",
        "\n",
        "    # # Computing the standard deviation of each input variable from the training set using torch.std function with a boolean mask to ignore nan values\n",
        "    # D_std = torch.std(x_train[~torch.isnan(x_train[:, 0]), 0])\n",
        "    # Sx_std = torch.std(x_train[~torch.isnan(x_train[:, 1]), 1])\n",
        "    # Sy_std = torch.std(x_train[~torch.isnan(x_train[:, 2]), 2])\n",
        "    # Sz_std = torch.std(x_train[~torch.isnan(x_train[:, 3]), 3])\n",
        "    # tau_std = torch.std(x_train[~torch.isnan(x_train[:, 4]), 4])\n",
        "\n",
        "\n",
        "    # # Applying z-score normalization to both train and test sets using the statistics from the training set\n",
        "    # x_train[:, 0] = torch.sub(x_train[:, 0], D_median).div(D_std)\n",
        "    # x_train[:, 1] = torch.sub(x_train[:, 1], Sx_median).div(Sx_std)\n",
        "    # x_train[:, 2] = torch.sub(x_train[:, 2], Sy_median).div(Sy_std)\n",
        "    # x_train[:, 3] = torch.sub(x_train[:, 3], Sz_median).div(Sz_std)\n",
        "    # x_train[:, 4] = torch.sub(x_train[:, 4], tau_median).div(tau_std)\n",
        "\n",
        "    # x_test[:, 0] = torch.sub(x_test[:, 0], D_median).div(D_std)\n",
        "    # x_test[:, 1] = torch.sub(x_test[:, 1], Sx_median).div(Sx_std)\n",
        "    # x_test[:, 2] = torch.sub(x_test[:, 2], Sy_median).div(Sy_std)\n",
        "    # x_test[:, 3] = torch.sub(x_test[:, 3], Sz_median).div(Sz_std)\n",
        "    # x_test[:, 4] = torch.sub(x_test[:, 4], tau_median).div(tau_std)\n",
        "\n",
        "    # Computing the mean and standard deviation of each column\n",
        "    mean = x_train.mean(dim=0)\n",
        "    std = x_train.std(dim=0)\n",
        "\n",
        "    # Applying z-score normalization\n",
        "    x_train = (x_train - mean) / std\n",
        "    # Use the same mean and std from the training data as we don't want test data leakage.\n",
        "    x_test = (x_test - mean) / std\n",
        "\n"
      ]
    },
    {
      "attachments": {},
      "cell_type": "markdown",
      "metadata": {},
      "source": [
        "Plotting the histograms of the input data after normalization if z-score normalization was performed."
      ]
    },
    {
      "cell_type": "code",
      "execution_count": 22,
      "metadata": {},
      "outputs": [],
      "source": [
        "%config InteractiveShell.ast_node_interactivity = \"last_expr_or_assign\""
      ]
    },
    {
      "cell_type": "code",
      "execution_count": 23,
      "metadata": {},
      "outputs": [],
      "source": [
        "if not LOAD_DATA_FROM_CSV:\n",
        "    if ZSCORE_NORMALIZATION: \n",
        "        # List of variable names\n",
        "        variable_names = [\"rho\", \"epsilon\", \"vx\", \"vy\", \"vz\", \"Bx\", \"By\", \"Bz\"]\n",
        "\n",
        "        # Note how we are only plotting train and not test here. \n",
        "        # Plotting histograms of the input variables after z-score normalization\n",
        "        plt.figure(figsize=(12, 12))\n",
        "        plt.suptitle('Histograms of input variables after z-score normalization', y=1.03)\n",
        "        for i in range(8):\n",
        "            plt.subplot(4, 2, i+1)\n",
        "            plt.hist(x_train[:, i].cpu(), bins=50) # Must be converted to cpu() for plotting.\n",
        "            plt.xlabel(variable_names[i])\n",
        "        plt.subplots_adjust(hspace=0.4, wspace=0.4)\n",
        "        plt.show()"
      ]
    },
    {
      "cell_type": "code",
      "execution_count": 24,
      "metadata": {},
      "outputs": [],
      "source": [
        "if ZSCORE_NORMALIZATION:\n",
        "    # Computing summary statistics of the input variables after z-score normalization\n",
        "    print('Summary statistics of input variables after z-score normalization')\n",
        "    print(torch.stack([torch.min(x_train, dim=0).values, torch.max(x_train, dim=0).values, torch.mean(x_train, dim=0), torch.median(x_train, dim=0).values, torch.std(x_train, dim=0)], dim=1))\n"
      ]
    },
    {
      "attachments": {},
      "cell_type": "markdown",
      "metadata": {},
      "source": [
        "### Visualizing input data and labels"
      ]
    },
    {
      "cell_type": "code",
      "execution_count": 25,
      "metadata": {},
      "outputs": [
        {
          "data": {
            "text/plain": [
              "tensor([10.4623,  1.5586,  2.2009,  ...,  0.2875,  1.6269,  0.0371])"
            ]
          },
          "execution_count": 25,
          "metadata": {},
          "output_type": "execute_result"
        }
      ],
      "source": [
        "x_train\n",
        "y_train\n",
        "x_test\n",
        "y_test"
      ]
    },
    {
      "attachments": {},
      "cell_type": "markdown",
      "metadata": {
        "colab": {
          "base_uri": "https://localhost:8080/",
          "height": 407
        },
        "id": "E96p_MsOUZh9",
        "outputId": "4b95bad0-8f3a-4364-eed1-008e0ce2a5e3"
      },
      "source": [
        "Checking if our output is always positive by plotting a histogram of y_train and y_test tensors "
      ]
    },
    {
      "cell_type": "code",
      "execution_count": 26,
      "metadata": {},
      "outputs": [
        {
          "data": {
            "image/png": "[encoded data removed]",
            "text/plain": [
              "<Figure size 800x400 with 2 Axes>"
            ]
          },
          "metadata": {},
          "output_type": "display_data"
        }
      ],
      "source": [
        "# Note how we are only plotting train.\n",
        "plt.figure(figsize=(8, 4))\n",
        "plt.subplot(1, 2, 1)\n",
        "plt.hist(y_train.cpu().numpy(), bins=20) # must be cpu here.\n",
        "plt.xlabel(\"y_train\")\n",
        "plt.ylabel(\"Frequency\")\n",
        "plt.yscale(\"log\")\n",
        "plt.subplot(1, 2, 2)\n",
        "plt.hist(y_test.cpu().numpy(), bins=20) # must be cpu here\n",
        "plt.xlabel(\"y_test\")\n",
        "plt.ylabel(\"Frequency\")\n",
        "plt.yscale(\"log\")\n",
        "plt.tight_layout()\n",
        "plt.show()\n"
      ]
    },
    {
      "cell_type": "code",
      "execution_count": 27,
      "metadata": {
        "id": "FEgjk--AUZh9"
      },
      "outputs": [],
      "source": [
        "%config InteractiveShell.ast_node_interactivity = \"all\""
      ]
    },
    {
      "attachments": {},
      "cell_type": "markdown",
      "metadata": {
        "id": "r2b9GecHUZh9"
      },
      "source": [
        "## Defining the neural network"
      ]
    },
    {
      "cell_type": "code",
      "execution_count": 28,
      "metadata": {
        "id": "Iv8HA-ZXUZh-"
      },
      "outputs": [],
      "source": [
        "# Defining a class for the network\n",
        "class Net(nn.Module):\n",
        "    \"\"\"A class for creating a network with a\n",
        "    variable number of hidden layers and units.\n",
        "\n",
        "    Attributes:\n",
        "        n_layers (int): The number of hidden layers in the network.\n",
        "        n_units (list): A list of integers representing the number of units in each hidden layer.\n",
        "        hidden_activation (torch.nn.Module): The activation function for the hidden layers.\n",
        "        output_activation (torch.nn.Module): The activation function for the output layer.\n",
        "        layers (torch.nn.ModuleList): A list of linear layers in the network.\n",
        "    \"\"\"\n",
        "\n",
        "    def __init__(self, n_layers, n_units, hidden_activation, output_activation):\n",
        "        \"\"\"Initializes the network with the given hyperparameters.\n",
        "\n",
        "        Args:\n",
        "            n_layers (int): The number of hidden layers in the network.\n",
        "            n_units (list): A list of integers representing the number of units in each hidden layer.\n",
        "            hidden_activation (torch.nn.Module): The activation function for the hidden layers.\n",
        "            output_activation (torch.nn.Module): The activation function for the output layer.\n",
        "        \"\"\"\n",
        "        super().__init__()\n",
        "        self.n_layers = n_layers\n",
        "        self.n_units = n_units\n",
        "        self.hidden_activation = hidden_activation\n",
        "        self.output_activation = output_activation\n",
        "\n",
        "        # Creating a list of linear layers with different numbers of units for each layer\n",
        "        self.layers = nn.ModuleList([nn.Linear(8, n_units[0])])\n",
        "        for i in range(1, n_layers):\n",
        "            self.layers.append(nn.Linear(n_units[i - 1], n_units[i]))\n",
        "        self.layers.append(nn.Linear(n_units[-1], 1))\n",
        "\n",
        "        # Adding some assertions to check that the input arguments are valid\n",
        "        assert isinstance(n_layers, int) and n_layers > 0, \"n_layers must be a positive integer\"\n",
        "        assert isinstance(n_units, list) and len(n_units) == n_layers, \"n_units must be a list of length n_layers\"\n",
        "        assert all(isinstance(n, int) and n > 0 for n in n_units), \"n_units must contain positive integers\"\n",
        "        assert isinstance(hidden_activation, nn.Module), \"hidden_activation must be a torch.nn.Module\"\n",
        "        assert isinstance(output_activation, nn.Module), \"output_activation must be a torch.nn.Module\"\n",
        "\n",
        "    def forward(self, x):\n",
        "        \"\"\"Performs a forward pass on the input tensor.\n",
        "\n",
        "        Args:\n",
        "            x (torch.Tensor): The input tensor of shape (batch_size, 8).\n",
        "\n",
        "        Returns:\n",
        "            torch.Tensor: The output tensor of shape (batch_size, 1).\n",
        "        \"\"\"\n",
        "        # Adding an assertion to check that the input tensor has the expected shape and type\n",
        "        assert isinstance(x, torch.Tensor), \"x must be a torch.Tensor\"\n",
        "        assert x.shape[1] == 8, \"x must have shape (batch_size, 8)\"\n",
        "\n",
        "        # Looping over the hidden layers and applying the linear transformation and the activation function\n",
        "        for layer in self.layers[:-1]:\n",
        "            x = self.hidden_activation(layer(x))\n",
        "        # Applying the linear transformation and the activation function on the output layer\n",
        "        x = self.output_activation(self.layers[-1](x))\n",
        "\n",
        "        # Returning the output tensor\n",
        "        return x\n"
      ]
    },
    {
      "attachments": {},
      "cell_type": "markdown",
      "metadata": {
        "id": "6GNvp55PUZh_"
      },
      "source": [
        "## Defining the model and search space"
      ]
    },
    {
      "cell_type": "code",
      "execution_count": 29,
      "metadata": {
        "id": "9a1opluOUZh_"
      },
      "outputs": [],
      "source": [
        "# Defining a function to create a trial network and optimizer\n",
        "def create_model(trial, optimize):\n",
        "    \"\"\"Creates a trial network and optimizer based on the sampled hyperparameters.\n",
        "\n",
        "    Args:\n",
        "        trial (optuna.trial.Trial): The trial object that contains the hyperparameters.\n",
        "        optimize (boolean): Whether to optimize the hyperparameters or to use predefined values.\n",
        "\n",
        "    Returns:\n",
        "        tuple: A tuple of (net, loss_fn, optimizer, batch_size, n_epochs,\n",
        "            scheduler, loss_name, optimizer_name, scheduler_name,\n",
        "            n_units, n_layers, hidden_activation, output_activation),\n",
        "            where net is the trial network,\n",
        "            loss_fn is the loss function,\n",
        "            optimizer is the optimizer,\n",
        "            batch_size is the batch size,\n",
        "            n_epochs is the number of epochs,\n",
        "            scheduler is the learning rate scheduler,\n",
        "            loss_name is the name of the loss function,\n",
        "            optimizer_name is the name of the optimizer,\n",
        "            scheduler_name is the name of the scheduler,\n",
        "            n_units is a list of integers representing\n",
        "            the number of units in each hidden layer,\n",
        "            n_layers is an integer representing the number of hidden layers in the network,\n",
        "            hidden_activation is a torch.nn.Module representing the activation function for the hidden layers,\n",
        "            output_activation is a torch.nn.Module representing the activation function for the output layer,\n",
        "            lr is the (initial) learning rate.\n",
        "    \"\"\"\n",
        "    # If optimize is True, sample the hyperparameters from the search space\n",
        "    if OPTIMIZE:\n",
        "        # Sampling the hyperparameters from the search space\n",
        "        n_layers = trial.suggest_int(\"n_layers\", 2, 6)\n",
        "        n_units = [trial.suggest_int(f\"n_units_{i}\", 16, 2048) for i in range(n_layers)] \n",
        "        hidden_activation_name = trial.suggest_categorical(\n",
        "            #\"hidden_activation\", [\"ReLU\", \"LeakyReLU\", \"ELU\", \"Tanh\", \"Sigmoid\"]\n",
        "            #\"hidden_activation\", [\"ReLU\", \"LeakyReLU\"]\n",
        "            \"hidden_activation\", [\"ReLU\", \"LeakyReLU\", \"ELU\"]\n",
        "        )\n",
        "        output_activation_name = trial.suggest_categorical(\n",
        "            #\"output_activation\", [\"Linear\", \"ReLU\", \"Softplus\"]\n",
        "            # Assuming pressure cannot be negative, linear output activation is not an option.\n",
        "            #\"output_activation\", [\"ReLU\", \"Softplus\", \"Linear\"]\n",
        "            \"output_activation\", [\"ReLU\", \"Linear\"]\n",
        "        ) \n",
        "        loss_name = trial.suggest_categorical(\n",
        "            #\"loss\", [\"MSE\", \"MAE\", \"Huber\", \"LogCosh\"] \n",
        "            \"loss\", [\"MSE\", \"MAE\", \"Huber\"] \n",
        "        )\n",
        "        optimizer_name = trial.suggest_categorical(\n",
        "            \"optimizer\", [\"Adam\", \"SGD\", \"RMSprop\", \"Adagrad\"] \n",
        "        )\n",
        "        lr = trial.suggest_loguniform(\"lr\", 1e-4, 1e-2) \n",
        "\n",
        "        batch_size_list = [32, 48, 64, 96, 128, 256, 512, 1048]\n",
        "        batch_size = trial.suggest_categorical(\"batch_size\", batch_size_list)\n",
        "        #batch_size = trial.suggest_int(\"batch_size\", 64, 1048)\n",
        "        n_epochs = trial.suggest_int(\"n_epochs\", 100, 300) \n",
        "        scheduler_name = trial.suggest_categorical(\n",
        "            \"scheduler\",\n",
        "            # [\"None\", \"CosineAnnealingLR\", \"ReduceLROnPlateau\", \"StepLR\", \"ExponentialLR\"],\n",
        "            [\"CosineAnnealingLR\", \"ReduceLROnPlateau\", \"StepLR\"],\n",
        "        )\n",
        "\n",
        "    # If optimize is False, use the predefined values\n",
        "    else:\n",
        "        # Setting the hyperparameters to the predefined values\n",
        "        n_layers = N_LAYERS_NO_OPT\n",
        "        n_units = N_UNITS_NO_OPT\n",
        "        hidden_activation_name = HIDDEN_ACTIVATION_NAME_NO_OPT\n",
        "        output_activation_name = OUTPUT_ACTIVATION_NAME_NO_OPT\n",
        "        loss_name = LOSS_NAME_NO_OPT\n",
        "        optimizer_name = OPTIMIZER_NAME_NO_OPT\n",
        "        lr = LR_NO_OPT\n",
        "        batch_size = BATCH_SIZE_NO_OPT\n",
        "        n_epochs = N_EPOCHS_NO_OPT\n",
        "        scheduler_name = SCHEDULER_NAME_NO_OPT\n",
        "\n",
        "\n",
        "    # Creating the activation functions from their names\n",
        "    if hidden_activation_name == \"ReLU\":\n",
        "        hidden_activation = nn.ReLU()\n",
        "    elif hidden_activation_name == \"LeakyReLU\":\n",
        "        hidden_activation = nn.LeakyReLU() \n",
        "    elif hidden_activation_name == \"ELU\":\n",
        "        hidden_activation = nn.ELU() \n",
        "    elif hidden_activation_name == \"Tanh\":\n",
        "        hidden_activation = nn.Tanh()\n",
        "    else:\n",
        "        hidden_activation = nn.Sigmoid()\n",
        "\n",
        "    if output_activation_name == \"ReLU\":\n",
        "        output_activation = nn.ReLU()\n",
        "    elif output_activation_name == \"Softplus\":\n",
        "        output_activation = nn.Softplus()\n",
        "    else:\n",
        "        output_activation = nn.Identity()\n",
        "\n",
        "    # Creating the loss function from its name\n",
        "    if loss_name == \"MSE\":\n",
        "        loss_fn = nn.MSELoss()\n",
        "    elif loss_name == \"MAE\":\n",
        "        loss_fn = nn.L1Loss()\n",
        "    elif loss_name == \"Huber\":\n",
        "        loss_fn = nn.SmoothL1Loss() \n",
        "    else:\n",
        "        # Creating the log-cosh loss function\n",
        "        def log_cosh_loss(y_pred, y_true):\n",
        "            return torch.mean(torch.log(torch.cosh(y_pred - y_true)))\n",
        "            \n",
        "        loss_fn = log_cosh_loss\n",
        "\n",
        "    # Creating the network with the sampled hyperparameters\n",
        "    net = Net(\n",
        "        n_layers, n_units, hidden_activation, output_activation\n",
        "    ).to(device)\n",
        "\n",
        "    if OPTIMIZE:\n",
        "        # Creating the optimizer from its name\n",
        "        if optimizer_name == \"SGD\":\n",
        "            # Added sampling the weight decay and momentum for SGD\n",
        "            weight_decay = trial.suggest_loguniform(\"weight_decay\", 1e-5, 1e-2)\n",
        "            momentum = trial.suggest_uniform(\"momentum\", 0.0, 0.99)\n",
        "            optimizer = optim.SGD(net.parameters(), lr=lr, weight_decay=weight_decay, momentum=momentum)\n",
        "        elif optimizer_name == \"Adam\":\n",
        "            # Added sampling the weight decay and beta parameters for Adam\n",
        "            weight_decay = trial.suggest_loguniform(\"weight_decay\", 1e-5, 1e-2)\n",
        "            beta1 = trial.suggest_uniform(\"beta1\", 0.9, 0.999)\n",
        "            beta2 = trial.suggest_uniform(\"beta2\", 0.999, 0.9999)\n",
        "            optimizer = optim.Adam(net.parameters(), lr=lr, weight_decay=weight_decay, betas=(beta1, beta2))\n",
        "        elif optimizer_name == \"RMSprop\":\n",
        "            optimizer = optim.RMSprop(net.parameters(), lr=lr)\n",
        "        else:\n",
        "            # Added creating the Adagrad optimizer\n",
        "            optimizer = optim.Adagrad(net.parameters(), lr=lr)\n",
        "\n",
        "        # Creating the learning rate scheduler from its name\n",
        "        if scheduler_name == \"StepLR\":\n",
        "            step_size = trial.suggest_int(\"step_size\", 5, 15)\n",
        "            gamma = trial.suggest_uniform(\"gamma\", 0.1, 0.5)\n",
        "            scheduler = optim.lr_scheduler.StepLR(optimizer, step_size=step_size, gamma=gamma)\n",
        "        elif scheduler_name == \"ExponentialLR\":\n",
        "            gamma = trial.suggest_uniform(\"gamma\", 0.8, 0.99)\n",
        "            scheduler = optim.lr_scheduler.ExponentialLR(optimizer, gamma=gamma)\n",
        "        elif scheduler_name == \"CosineAnnealingLR\":\n",
        "            if n_epochs < 150:\n",
        "                t_max_fraction = trial.suggest_uniform('t_max_fraction', 0.1, 0.3)\n",
        "            elif n_epochs > 250:\n",
        "                t_max_fraction = trial.suggest_uniform('t_max_fraction', 0.05, 0.1)\n",
        "            else:\n",
        "                t_max_fraction = trial.suggest_uniform('t_max_fraction', 0.1, 0.2)\n",
        "\n",
        "            T_max = int(n_epochs * t_max_fraction)\n",
        "            eta_min = trial.suggest_loguniform(\"eta_min\", 1e-7, 1e-2)\n",
        "            scheduler = optim.lr_scheduler.CosineAnnealingLR(optimizer, T_max=T_max, eta_min=eta_min)\n",
        "        elif scheduler_name == \"ReduceLROnPlateau\":\n",
        "            # Added sampling the factor, patience and threshold for ReduceLROnPlateau\n",
        "            factor = trial.suggest_uniform(\"factor\", 0.1, 0.5)\n",
        "            patience = trial.suggest_int(\"patience\", 5, 10)\n",
        "            threshold = trial.suggest_loguniform(\"threshold\", 1e-4, 1e-2)\n",
        "            scheduler = optim.lr_scheduler.ReduceLROnPlateau(\n",
        "                optimizer, mode=\"min\", factor=factor, patience=patience, threshold=threshold\n",
        "            )\n",
        "        # # Added using OneCycleLR scheduler as an option\n",
        "        # elif scheduler_name == \"OneCycleLR\":\n",
        "        #         # Added sampling the max_lr and pct_start for OneCycleLR\n",
        "        #         max_lr = trial.suggest_loguniform(\"max_lr\", lr, 10 * lr) \n",
        "        #         pct_start = trial.suggest_uniform(\"pct_start\", 0.1, 0.9)\n",
        "        #         scheduler = optim.lr_scheduler.OneCycleLR(\n",
        "        #             optimizer,\n",
        "        #             max_lr=max_lr,\n",
        "        #             epochs=n_epochs,\n",
        "        #             steps_per_epoch=len(train_loader),\n",
        "        #             pct_start=pct_start,\n",
        "        #         )\n",
        "        else:\n",
        "            scheduler = None\n",
        "    else:\n",
        "        # Creating the optimizer from its name\n",
        "        if optimizer_name == \"SGD\":\n",
        "            optimizer = optim.SGD(net.parameters(), lr=lr)\n",
        "        elif optimizer_name == \"Adam\":\n",
        "            optimizer = optim.Adam(net.parameters(), lr=lr)\n",
        "        elif optimizer_name == \"RMSprop\":\n",
        "            optimizer = optim.RMSprop(net.parameters(), lr=lr)\n",
        "        else:\n",
        "            optimizer = optim.Adagrad(net.parameters(), lr=lr)\n",
        "\n",
        "        # Creating the learning rate scheduler from its name\n",
        "        if scheduler_name == \"StepLR\":\n",
        "            scheduler = optim.lr_scheduler.StepLR(optimizer, step_size=10, gamma=0.1)\n",
        "        elif scheduler_name == \"ExponentialLR\":\n",
        "            scheduler = optim.lr_scheduler.ExponentialLR(optimizer, gamma=0.9)\n",
        "        elif scheduler_name == \"CosineAnnealingLR\":\n",
        "            scheduler = optim.lr_scheduler.CosineAnnealingLR(optimizer)\n",
        "        elif scheduler_name == \"ReduceLROnPlateau\":\n",
        "            # Creating the ReduceLROnPlateau scheduler with a threshold value of 0.01\n",
        "            #scheduler = optim.lr_scheduler.ReduceLROnPlateau(\n",
        "            #    optimizer, mode=\"min\", factor=0.1, patience=10, threshold=0.01\n",
        "            #)\n",
        "            # Use Dieseldorst et al. settings and add to that a minimum lr.\n",
        "            scheduler = optim.lr_scheduler.ReduceLROnPlateau(\n",
        "                        optimizer, mode=\"min\", factor=0.18979341786654758, patience=11, threshold=0.0017197466122611932 #, min_lr=1e-6\n",
        "                    )\n",
        "        else:\n",
        "            scheduler = None\n",
        "\n",
        "    # Returning all variables needed for saving and loading\n",
        "    return net, loss_fn, optimizer, batch_size, n_epochs, scheduler, loss_name, optimizer_name, scheduler_name, n_units, n_layers, hidden_activation, output_activation, lr\n",
        "\n"
      ]
    },
    {
      "attachments": {},
      "cell_type": "markdown",
      "metadata": {
        "id": "l-czA7VvUZiD"
      },
      "source": [
        " ## The training and evaluation loop\n",
        "\n",
        " We first define a couple of functions used in the training and evaluation."
      ]
    },
    {
      "cell_type": "code",
      "execution_count": 30,
      "metadata": {
        "id": "aD6FQNmxUZiD"
      },
      "outputs": [],
      "source": [
        "# Defining a function that computes loss and metrics for a given batch\n",
        "def compute_loss_and_metrics(y_pred, y_true, loss_fn):\n",
        "    \"\"\"Computes loss and metrics for a given batch.\n",
        "\n",
        "    Args:\n",
        "        y_pred (torch.Tensor): The predicted pressure tensor of shape (batch_size, 1).\n",
        "        y_true (torch.Tensor): The true pressure tensor of shape (batch_size,).\n",
        "        loss_fn (torch.nn.Module or function): The loss function to use.\n",
        "\n",
        "    Returns:\n",
        "        tuple: A tuple of (loss, l1_norm), where loss is a scalar tensor,\n",
        "            l1_norm is L1 norm for relative error of pressure,\n",
        "            each being a scalar tensor.\n",
        "            linf_norm is Linf norm for relative error of pressure.\n",
        "    \"\"\"\n",
        "    # Reshaping the target tensor to match the input tensor\n",
        "    y_true = y_true.view(-1, 1)\n",
        "\n",
        "    # Computing the loss using the loss function\n",
        "    loss = loss_fn(y_pred, y_true)\n",
        "\n",
        "    # Computing the relative error of pressure\n",
        "    rel_error = torch.abs((y_pred - y_true) / y_true)\n",
        "\n",
        "    # Computing the L1 norm for the relative error of pressure\n",
        "    l1_norm = torch.mean(rel_error) \n",
        "    # Computing the Linf norm for the relative error of pressure\n",
        "    linf_norm = torch.max(rel_error) \n",
        "\n",
        "    # Returning the loss and metrics\n",
        "    return loss, l1_norm, linf_norm\n",
        "\n",
        "\n",
        "# Defining a function that updates the learning rate scheduler with validation loss if applicable\n",
        "def update_scheduler(scheduler, test_loss):\n",
        "    \"\"\"Updates the learning rate scheduler with validation loss if applicable.\n",
        "\n",
        "    Args:\n",
        "        scheduler (torch.optim.lr_scheduler._LRScheduler or None): The learning rate scheduler to use.\n",
        "        test_loss (float): The validation loss to use.\n",
        "\n",
        "    Returns:\n",
        "        None\n",
        "    \"\"\"\n",
        "    # Checking if scheduler is not None\n",
        "    if scheduler is not None:\n",
        "        # Checking if scheduler is ReduceLROnPlateau\n",
        "        if isinstance(scheduler, optim.lr_scheduler.ReduceLROnPlateau):\n",
        "            # Updating the scheduler with test_loss\n",
        "            scheduler.step(test_loss)\n",
        "        else:\n",
        "            # Updating the scheduler without test_loss\n",
        "            scheduler.step()\n"
      ]
    },
    {
      "attachments": {},
      "cell_type": "markdown",
      "metadata": {
        "id": "w1nE662UUZiE"
      },
      "source": [
        "Now for the actual training and evaluation loop,"
      ]
    },
    {
      "cell_type": "code",
      "execution_count": 31,
      "metadata": {
        "id": "YAOjgKW3UZiF"
      },
      "outputs": [],
      "source": [
        "# Defining a function to train and evaluate a network\n",
        "def train_and_eval(net, loss_fn, optimizer, batch_size, n_epochs, scheduler, trial=None):\n",
        "    \"\"\"Trains and evaluates a network.\n",
        "\n",
        "    Args:\n",
        "        net (torch.nn.Module): The network to train and evaluate.\n",
        "        loss_fn (torch.nn.Module or function): The loss function.\n",
        "        optimizer (torch.optim.Optimizer): The optimizer.\n",
        "        batch_size (int): The batch size.\n",
        "        n_epochs (int): The number of epochs.\n",
        "        scheduler (torch.optim.lr_scheduler._LRScheduler or None): The learning rate scheduler.\n",
        "    Returns:\n",
        "        tuple: A tuple of (train_losses, test_losses, train_metrics, test_metrics), where\n",
        "            train_losses is a list of training losses for each epoch,\n",
        "            test_losses is a list of validation losses for each epoch,\n",
        "            train_metrics is a list of dictionaries containing training metrics for each epoch,\n",
        "            test_metrics is a list of dictionaries containing validation metrics for each epoch.\n",
        "    \"\"\"\n",
        "    # Creating data loaders for train and test sets\n",
        "    train_loader = torch.utils.data.DataLoader(\n",
        "        torch.utils.data.TensorDataset(x_train, y_train), batch_size=batch_size, shuffle=True\n",
        "    )\n",
        "    test_loader = torch.utils.data.DataLoader(\n",
        "        torch.utils.data.TensorDataset(x_test, y_test), batch_size=batch_size\n",
        "    )\n",
        "\n",
        "    # Initializing lists to store the losses and metrics for each epoch\n",
        "    train_losses = []\n",
        "    test_losses = []\n",
        "    train_metrics = []\n",
        "    test_metrics = []\n",
        "\n",
        "    # Creating a SummaryWriter object to log data for tensorboard\n",
        "    writer = tbx.SummaryWriter()\n",
        "\n",
        "    # Looping over the epochs\n",
        "    for epoch in range(n_epochs):\n",
        "\n",
        "        # Setting the network to training mode\n",
        "        net.train()\n",
        "\n",
        "        # Initializing variables to store the total loss and metrics for the train set\n",
        "        train_loss = 0.0\n",
        "        train_l1_norm = 0.0\n",
        "        train_linf_norm = 0.0\n",
        "\n",
        "        # Looping over the batches in the train set\n",
        "        for x_batch, y_batch in train_loader:\n",
        "\n",
        "            # Moving the batch tensors to the device\n",
        "            x_batch = x_batch.to(device)\n",
        "            y_batch = y_batch.to(device)\n",
        "\n",
        "            # Zeroing the gradients\n",
        "            optimizer.zero_grad()\n",
        "\n",
        "            # Performing a forward pass and computing the loss and metrics\n",
        "            y_pred = net(x_batch)\n",
        "            loss, l1_norm, linf_norm = compute_loss_and_metrics(\n",
        "                y_pred, y_batch, loss_fn\n",
        "            )\n",
        "\n",
        "\n",
        "            # Performing a backward pass and updating the weights\n",
        "            loss.backward()\n",
        "            optimizer.step()\n",
        "\n",
        "            # Updating the total loss and metrics for the train set\n",
        "            train_loss += loss.item() * x_batch.size(0)\n",
        "            train_l1_norm += l1_norm.item() * x_batch.size(0)\n",
        "            train_linf_norm += linf_norm.item() * x_batch.size(0)\n",
        "\n",
        "        # Computing the average loss and metrics for the train set\n",
        "        train_loss /= len(train_loader.dataset)\n",
        "        train_l1_norm /= len(train_loader.dataset)\n",
        "        train_linf_norm /= len(train_loader.dataset)\n",
        "\n",
        "        # Appending the average loss and metrics for the train set to the lists\n",
        "        train_losses.append(train_loss)\n",
        "        train_metrics.append(\n",
        "            {\n",
        "                \"l1_norm\": train_l1_norm,\n",
        "                \"linf_norm\": train_linf_norm,\n",
        "            }\n",
        "        )\n",
        "\n",
        "        # Logging the average loss and metrics for the train set to tensorboard\n",
        "        writer.add_scalar(\"Loss/train\", train_loss, epoch)\n",
        "        writer.add_scalar(\"L1 norm/train\", train_l1_norm, epoch)\n",
        "        writer.add_scalar(\"Linf norm/train\", train_linf_norm, epoch)\n",
        "\n",
        "        # Setting the network to evaluation mode\n",
        "        net.eval()\n",
        "\n",
        "        # Initializing variables to store the total loss and metrics for the test set\n",
        "        test_loss = 0.0\n",
        "        test_l1_norm = 0.0\n",
        "        test_linf_norm = 0.0\n",
        "\n",
        "        # Looping over the batches in the test set\n",
        "        with torch.no_grad():\n",
        "            for x_batch, y_batch in test_loader:\n",
        "\n",
        "                # Moving the batch tensors to the device\n",
        "                x_batch = x_batch.to(device)\n",
        "                y_batch = y_batch.to(device)\n",
        "\n",
        "                # Performing a forward pass and computing the loss and metrics\n",
        "                y_pred = net(x_batch)\n",
        "                loss, l1_norm, linf_norm = compute_loss_and_metrics(\n",
        "                    y_pred, y_batch, loss_fn\n",
        "                )\n",
        "\n",
        "\n",
        "                # Updating the total loss and metrics for the test set\n",
        "                test_loss += loss.item() * x_batch.size(0)\n",
        "                test_l1_norm += l1_norm.item() * x_batch.size(0)\n",
        "                test_linf_norm += linf_norm.item() * x_batch.size(0)\n",
        "\n",
        "        # Computing the average loss and metrics for the test set\n",
        "        test_loss /= len(test_loader.dataset)\n",
        "        test_l1_norm /= len(test_loader.dataset)\n",
        "        test_linf_norm /= len(test_loader.dataset)\n",
        "\n",
        "        # Appending the average loss and metrics for the test set to the lists\n",
        "        test_losses.append(test_loss)\n",
        "        test_metrics.append(\n",
        "            {\n",
        "                \"l1_norm\": test_l1_norm,\n",
        "                \"linf_norm\": test_linf_norm,\n",
        "            }\n",
        "        )\n",
        "\n",
        "        # Logging the average loss and metrics for the test set to tensorboard\n",
        "        writer.add_scalar(\"Loss/test\", test_loss, epoch)\n",
        "        writer.add_scalar(\"L1 norm/test\", test_l1_norm, epoch)\n",
        "        writer.add_scalar(\"Linf norm/test\", test_linf_norm, epoch)\n",
        "\n",
        "        # Printing the average loss and metrics for both sets for this epoch\n",
        "        print(\n",
        "            f\"Epoch {epoch + 1}: Train Loss: {train_loss:.4f}, Test Loss: {test_loss:.4f}, \"\n",
        "            f\"Train L1 Norm: {train_l1_norm:.4f}, Test L1 Norm: {test_l1_norm:.4f}, \"\n",
        "            f\"Train Linf Norm: {train_linf_norm:.4f}, Test Linf Norm: {test_linf_norm:.4f}\"\n",
        "        )\n",
        "\n",
        "        # Updating the learning rate scheduler with validation loss if applicable\n",
        "        update_scheduler(scheduler, test_loss)\n",
        "\n",
        "        # Reporting the intermediate metric value to Optuna if trial is not None\n",
        "        if trial is not None:\n",
        "            trial.report(test_metrics[-1][\"l1_norm\"], epoch)\n",
        "\n",
        "            # Checking if the trial should be pruned based on the intermediate value if trial is not None\n",
        "            if trial.should_prune():\n",
        "                raise optuna.TrialPruned()\n",
        "\n",
        "    # Closing the SummaryWriter object\n",
        "    writer.close()\n",
        "\n",
        "    # Returning the losses and metrics lists\n",
        "    return train_losses, test_losses, train_metrics, test_metrics"
      ]
    },
    {
      "attachments": {},
      "cell_type": "markdown",
      "metadata": {
        "id": "xg9jz0SvUZiQ"
      },
      "source": [
        "## The objective function and hyperparameter tuning"
      ]
    },
    {
      "cell_type": "code",
      "execution_count": 32,
      "metadata": {
        "id": "fmRncQPuUZiR"
      },
      "outputs": [],
      "source": [
        "# Defining an objective function for Optuna to minimize\n",
        "def objective(trial):\n",
        "    \"\"\"Defines an objective function for Optuna to minimize.\n",
        "\n",
        "    Args:\n",
        "        trial (optuna.trial.Trial): The trial object that contains the hyperparameters.\n",
        "\n",
        "    Returns:\n",
        "        float: The validation L1 norm to minimize.\n",
        "    \"\"\"\n",
        "    # Creating a trial network and optimizer using the create_model function\n",
        "    net, \\\n",
        "    loss_fn, \\\n",
        "    optimizer, \\\n",
        "    batch_size, \\\n",
        "    n_epochs, \\\n",
        "    scheduler, \\\n",
        "    loss_name, \\\n",
        "    optimizer_name, \\\n",
        "    scheduler_name, \\\n",
        "    n_units, \\\n",
        "    n_layers, \\\n",
        "    hidden_activation, \\\n",
        "    output_activation, \\\n",
        "    lr = create_model(trial, optimize=True)\n",
        "\n",
        "    # Training and evaluating the network using the train_and_eval function\n",
        "    _, _, _, test_metrics = train_and_eval(\n",
        "        net, loss_fn, optimizer, batch_size, n_epochs, scheduler, trial\n",
        "    )\n",
        "\n",
        "    # Returning the last validation L1 norm as the objective value to minimize\n",
        "    return test_metrics[-1][\"l1_norm\"]"
      ]
    },
    {
      "cell_type": "code",
      "execution_count": 33,
      "metadata": {
        "id": "GyES4NAyUZiS"
      },
      "outputs": [],
      "source": [
        "if OPTIMIZE:\n",
        "    # Creating a study object with Optuna with TPE sampler and median pruner \n",
        "    study = optuna.create_study(direction=\"minimize\", sampler=optuna.samplers.TPESampler(), pruner=optuna.pruners.MedianPruner())\n",
        "\n",
        "    # Running Optuna with 100 trials when we are optimizing.\n",
        "    study.optimize(objective, n_trials=N_TRIALS)\n",
        "\n",
        "    # Printing the best trial information\n",
        "    print(\"Best trial:\")\n",
        "    trial = study.best_trial\n",
        "    print(\"  Value: \", trial.value)\n",
        "    print(\"  Params: \")\n",
        "    for key, value in trial.params.items():\n",
        "        print(f\"    {key}: {value}\")\n"
      ]
    },
    {
      "attachments": {},
      "cell_type": "markdown",
      "metadata": {
        "id": "jmMfE9_dUZiS"
      },
      "source": [
        "## Training the model"
      ]
    },
    {
      "cell_type": "code",
      "execution_count": 34,
      "metadata": {
        "id": "phyiHlWEUZiT"
      },
      "outputs": [],
      "source": [
        "# Creating the best network and optimizer using the best hyperparameters\n",
        "if OPTIMIZE:\n",
        "    net, \\\n",
        "    loss_fn, \\\n",
        "    optimizer, \\\n",
        "    batch_size, \\\n",
        "    n_epochs, \\\n",
        "    scheduler, \\\n",
        "    loss_name, \\\n",
        "    optimizer_name, \\\n",
        "    scheduler_name, \\\n",
        "    n_units, \\\n",
        "    n_layers, \\\n",
        "    hidden_activation, \\\n",
        "    output_activation, \\\n",
        "    lr = create_model(trial, optimize=True)\n",
        "# Creating the network with predefined hyperparameters\n",
        "else:\n",
        "    net, \\\n",
        "    loss_fn, \\\n",
        "    optimizer, \\\n",
        "    batch_size, \\\n",
        "    n_epochs, \\\n",
        "    scheduler, \\\n",
        "    loss_name, \\\n",
        "    optimizer_name, \\\n",
        "    scheduler_name, \\\n",
        "    n_units, \\\n",
        "    n_layers, \\\n",
        "    hidden_activation, \\\n",
        "    output_activation, \\\n",
        "    lr = create_model(trial=None, optimize=False)"
      ]
    },
    {
      "cell_type": "code",
      "execution_count": 35,
      "metadata": {
        "colab": {
          "base_uri": "https://localhost:8080/"
        },
        "id": "_yq-oY81UZiU",
        "outputId": "dbf2f465-bd50-4a20-8926-616c3d2157d0"
      },
      "outputs": [
        {
          "name": "stdout",
          "output_type": "stream",
          "text": [
            "loss_fn: SmoothL1Loss()\n",
            "batch_size: 49\n",
            "n_epochs: 3\n",
            "scheduler: <torch.optim.lr_scheduler.ReduceLROnPlateau object at 0x00000241540A4610>\n",
            "loss_name: Huber\n",
            "optimizer_name: RMSprop\n",
            "scheduler_name: ReduceLROnPlateau\n",
            "n_units: [555, 458, 115]\n",
            "n_layers: 3\n",
            "hidden_activation: ReLU()\n",
            "output_activation: ReLU()\n"
          ]
        }
      ],
      "source": [
        "print(\"loss_fn:\", loss_fn)\n",
        "print(\"batch_size:\", batch_size)\n",
        "print(\"n_epochs:\", n_epochs)\n",
        "print(\"scheduler:\", scheduler)\n",
        "print(\"loss_name:\", loss_name)\n",
        "print(\"optimizer_name:\", optimizer_name)\n",
        "print(\"scheduler_name:\", scheduler_name)\n",
        "print(\"n_units:\", n_units)\n",
        "print(\"n_layers:\", n_layers)\n",
        "print(\"hidden_activation:\", hidden_activation)\n",
        "print(\"output_activation:\", output_activation)"
      ]
    },
    {
      "cell_type": "code",
      "execution_count": 36,
      "metadata": {
        "colab": {
          "base_uri": "https://localhost:8080/"
        },
        "id": "E7aLWdZyUZiW",
        "outputId": "8fb1e8c6-5aa3-43a1-a255-712cf9396d0c"
      },
      "outputs": [],
      "source": [
        "# Training and evaluating the network using the train_and_eval function\n",
        "train_losses, test_losses, train_metrics, test_metrics = train_and_eval(\n",
        "    net, loss_fn, optimizer, batch_size, n_epochs, scheduler\n",
        ")"
      ]
    },
    {
      "attachments": {},
      "cell_type": "markdown",
      "metadata": {
        "id": "akNucrgMUZiW"
      },
      "source": [
        "## Saving"
      ]
    },
    {
      "cell_type": "code",
      "execution_count": null,
      "metadata": {
        "id": "LHsrs2Y-UZic"
      },
      "outputs": [],
      "source": [
        "import json\n",
        "\n",
        "# save the network to a .pth file\n",
        "torch.save(net.state_dict(), \"net.pth\")\n",
        "save_file(\"net.pth\")\n",
        "\n",
        "# save the optimizer to a .pth file\n",
        "torch.save(optimizer.state_dict(), \"optimizer.pth\")\n",
        "save_file(\"optimizer.pth\")\n",
        "\n",
        "# save the scheduler to a .pth file if it is not None\n",
        "if scheduler is not None:\n",
        "  torch.save(scheduler.state_dict(), \"scheduler.pth\")\n",
        "  save_file(\"scheduler.pth\")\n",
        "\n",
        "# create a dictionary to store the rest of the variables\n",
        "var_dict = {\n",
        "  \"batch_size\": batch_size,\n",
        "  \"n_epochs\": n_epochs,\n",
        "  \"loss_name\": loss_name,\n",
        "  \"optimizer_name\": optimizer_name,\n",
        "  \"scheduler_name\": scheduler_name,\n",
        "  \"n_units\": n_units,\n",
        "  \"n_layers\": n_layers,\n",
        "  \"hidden_activation_name\": hidden_activation.__class__.__name__,\n",
        "  \"output_activation_name\": output_activation.__class__.__name__,\n",
        "  \"lr\": lr,\n",
        "}\n",
        "\n",
        "# save the dictionary to a .json file\n",
        "with open(\"var_dict.json\", \"w\") as f:\n",
        "  json.dump(var_dict, f)\n",
        "save_file(\"var_dict.json\")\n",
        "\n",
        "# Saving the output of the training using pandas\n",
        "train_df = pd.DataFrame(\n",
        "    {\n",
        "        \"train_loss\": train_losses,\n",
        "        \"test_loss\": test_losses,\n",
        "        \"train_l1_norm\": [m[\"l1_norm\"] for m in train_metrics],\n",
        "        \"test_l1_norm\": [m[\"l1_norm\"] for m in test_metrics],\n",
        "        \"train_linf_norm\": [m[\"linf_norm\"] for m in train_metrics],\n",
        "        \"test_linf_norm\": [m[\"linf_norm\"] for m in test_metrics],\n",
        "    }\n",
        ")\n",
        "train_df.to_csv(\"train_output.csv\", index=False)\n",
        "save_file(\"train_output.csv\")\n"
      ]
    },
    {
      "attachments": {},
      "cell_type": "markdown",
      "metadata": {
        "id": "qU23l7dIUZie"
      },
      "source": [
        "## Visualizing the results"
      ]
    },
    {
      "cell_type": "code",
      "execution_count": null,
      "metadata": {
        "colab": {
          "base_uri": "https://localhost:8080/",
          "height": 1000
        },
        "id": "cippWZS6UZie",
        "outputId": "f0d6e5c3-945f-481b-a153-e54fed7fe9fa"
      },
      "outputs": [
        {
          "data": {
            "text/plain": [
              "<Figure size 1200x800 with 0 Axes>"
            ]
          },
          "execution_count": 180,
          "metadata": {},
          "output_type": "execute_result"
        },
        {
          "data": {
            "text/plain": [
              "<Axes: >"
            ]
          },
          "execution_count": 180,
          "metadata": {},
          "output_type": "execute_result"
        },
        {
          "data": {
            "text/plain": [
              "[<matplotlib.lines.Line2D at 0x23deefa0bd0>]"
            ]
          },
          "execution_count": 180,
          "metadata": {},
          "output_type": "execute_result"
        },
        {
          "data": {
            "text/plain": [
              "[<matplotlib.lines.Line2D at 0x23dee57d750>]"
            ]
          },
          "execution_count": 180,
          "metadata": {},
          "output_type": "execute_result"
        },
        {
          "data": {
            "text/plain": [
              "Text(0.5, 0, 'Epoch')"
            ]
          },
          "execution_count": 180,
          "metadata": {},
          "output_type": "execute_result"
        },
        {
          "data": {
            "text/plain": [
              "Text(0, 0.5, 'L1 Norm')"
            ]
          },
          "execution_count": 180,
          "metadata": {},
          "output_type": "execute_result"
        },
        {
          "data": {
            "text/plain": [
              "(0.001, 100.0)"
            ]
          },
          "execution_count": 180,
          "metadata": {},
          "output_type": "execute_result"
        },
        {
          "data": {
            "text/plain": [
              "<matplotlib.legend.Legend at 0x23dea150c90>"
            ]
          },
          "execution_count": 180,
          "metadata": {},
          "output_type": "execute_result"
        },
        {
          "data": {
            "text/plain": [
              "<Axes: >"
            ]
          },
          "execution_count": 180,
          "metadata": {},
          "output_type": "execute_result"
        },
        {
          "data": {
            "text/plain": [
              "[<matplotlib.lines.Line2D at 0x23df09b03d0>]"
            ]
          },
          "execution_count": 180,
          "metadata": {},
          "output_type": "execute_result"
        },
        {
          "data": {
            "text/plain": [
              "[<matplotlib.lines.Line2D at 0x23df09d9990>]"
            ]
          },
          "execution_count": 180,
          "metadata": {},
          "output_type": "execute_result"
        },
        {
          "data": {
            "text/plain": [
              "Text(0.5, 0, 'Epoch')"
            ]
          },
          "execution_count": 180,
          "metadata": {},
          "output_type": "execute_result"
        },
        {
          "data": {
            "text/plain": [
              "Text(0, 0.5, 'Linf Norm')"
            ]
          },
          "execution_count": 180,
          "metadata": {},
          "output_type": "execute_result"
        },
        {
          "data": {
            "text/plain": [
              "(0.001, 100.0)"
            ]
          },
          "execution_count": 180,
          "metadata": {},
          "output_type": "execute_result"
        },
        {
          "data": {
            "text/plain": [
              "<matplotlib.legend.Legend at 0x23df0951f50>"
            ]
          },
          "execution_count": 180,
          "metadata": {},
          "output_type": "execute_result"
        },
        {
          "data": {
            "image/png": "[encoded data removed]",
            "text/plain": [
              "<Figure size 1200x800 with 2 Axes>"
            ]
          },
          "metadata": {},
          "output_type": "display_data"
        },
        {
          "data": {
            "text/plain": [
              "<Figure size 800x600 with 0 Axes>"
            ]
          },
          "execution_count": 180,
          "metadata": {},
          "output_type": "execute_result"
        },
        {
          "data": {
            "text/plain": [
              "[<matplotlib.lines.Line2D at 0x23dee558bd0>]"
            ]
          },
          "execution_count": 180,
          "metadata": {},
          "output_type": "execute_result"
        },
        {
          "data": {
            "text/plain": [
              "[<matplotlib.lines.Line2D at 0x23dee55de90>]"
            ]
          },
          "execution_count": 180,
          "metadata": {},
          "output_type": "execute_result"
        },
        {
          "data": {
            "text/plain": [
              "Text(0.5, 0, 'Epoch')"
            ]
          },
          "execution_count": 180,
          "metadata": {},
          "output_type": "execute_result"
        },
        {
          "data": {
            "text/plain": [
              "Text(0, 0.5, 'Huber Loss')"
            ]
          },
          "execution_count": 180,
          "metadata": {},
          "output_type": "execute_result"
        },
        {
          "data": {
            "text/plain": [
              "(1e-07, 1.0)"
            ]
          },
          "execution_count": 180,
          "metadata": {},
          "output_type": "execute_result"
        },
        {
          "data": {
            "text/plain": [
              "<matplotlib.legend.Legend at 0x23df0801750>"
            ]
          },
          "execution_count": 180,
          "metadata": {},
          "output_type": "execute_result"
        },
        {
          "data": {
            "image/png": "[encoded data removed]",
            "text/plain": [
              "<Figure size 800x600 with 1 Axes>"
            ]
          },
          "metadata": {},
          "output_type": "display_data"
        }
      ],
      "source": [
        "# Plotting the losses and metrics for the best network \n",
        "plt.figure(figsize=(12, 8))\n",
        "#plt.subplot(2, 2, 1)\n",
        "#plt.plot(train_losses, label=\"Train Loss\")\n",
        "#plt.plot(test_losses, label=\"Test Loss\")\n",
        "#plt.xlabel(\"Epoch\")\n",
        "#plt.ylabel(\"Loss\")\n",
        "#plt.legend()\n",
        "plt.subplot(2, 2, 2)\n",
        "plt.plot([m[\"l1_norm\"] for m in train_metrics], label=\"Train L1 Norm\")\n",
        "plt.plot([m[\"l1_norm\"] for m in test_metrics], label=\"Test L1 Norm\")\n",
        "plt.xlabel(\"Epoch\")\n",
        "plt.ylabel(\"L1 Norm\")\n",
        "# Added setting the vertical axis to be in powers of 10\n",
        "plt.yscale(\"log\")\n",
        "# Added setting the vertical axis limits to be from 10^-7 to 10^0\n",
        "plt.ylim(1e-3, 1e2)\n",
        "plt.legend()\n",
        "plt.subplot(2, 2, 3)\n",
        "plt.plot([m[\"linf_norm\"] for m in train_metrics], label=\"Train Linf Norm\")\n",
        "plt.plot([m[\"linf_norm\"] for m in test_metrics], label=\"Test Linf Norm\")\n",
        "plt.xlabel(\"Epoch\")\n",
        "plt.ylabel(\"Linf Norm\")\n",
        "# Added setting the vertical axis to be in powers of 10\n",
        "plt.yscale(\"log\")\n",
        "# Added setting the vertical axis limits to be from 10^-7 to 10^0\n",
        "plt.ylim(1e-3, 1e2)\n",
        "plt.legend()\n",
        "plt.tight_layout()\n",
        "plt.show()\n",
        "\n",
        "# Added plotting MSE of training data and MSE of test data in one plot \n",
        "plt.figure(figsize=(8, 6))\n",
        "plt.plot(train_losses,label=\"training data\")\n",
        "plt.plot(test_losses,label=\"test data\")\n",
        "#if scheduler is not None:\n",
        "#    plt.plot([scheduler.get_last_lr()[0] for _ in range(n_epochs)], label=\"Learning rate\") \n",
        "plt.xlabel(\"Epoch\")\n",
        "plt.ylabel(f\"{loss_name} Loss\")\n",
        "# Added setting the vertical axis to be in powers of 10\n",
        "plt.yscale(\"log\")\n",
        "# Added setting the vertical axis limits to be from 10^-7 to 10^0\n",
        "plt.ylim(1e-7, 1e0)\n",
        "plt.legend()\n",
        "plt.show()"
      ]
    },
    {
      "attachments": {},
      "cell_type": "markdown",
      "metadata": {
        "id": "tiEDutxIUZig"
      },
      "source": [
        "## Loading"
      ]
    },
    {
      "cell_type": "code",
      "execution_count": null,
      "metadata": {
        "colab": {
          "base_uri": "https://localhost:8080/"
        },
        "id": "p7Mj990wUZih",
        "outputId": "a1132948-c3b1-4d75-becf-4efa93c9a7d0"
      },
      "outputs": [
        {
          "data": {
            "text/plain": [
              "<All keys matched successfully>"
            ]
          },
          "execution_count": 181,
          "metadata": {},
          "output_type": "execute_result"
        }
      ],
      "source": [
        "import json\n",
        "import pandas as pd\n",
        "\n",
        "# load the dictionary from the .json file\n",
        "with open(\"var_dict.json\", \"r\") as f:\n",
        "  var_dict_loaded = json.load(f)\n",
        "\n",
        "# extract the variables from the dictionary\n",
        "batch_size_loaded = var_dict_loaded[\"batch_size\"]\n",
        "n_epochs_loaded = var_dict_loaded[\"n_epochs\"]\n",
        "loss_name_loaded = var_dict_loaded[\"loss_name\"]\n",
        "optimizer_name_loaded = var_dict_loaded[\"optimizer_name\"]\n",
        "scheduler_name_loaded = var_dict_loaded[\"scheduler_name\"]\n",
        "n_units_loaded = var_dict_loaded[\"n_units\"]\n",
        "n_layers_loaded = var_dict_loaded[\"n_layers\"]\n",
        "hidden_activation_name_loaded = var_dict_loaded[\"hidden_activation_name\"]\n",
        "output_activation_name_loaded = var_dict_loaded[\"output_activation_name\"]\n",
        "lr_loaded = var_dict_loaded[\"lr\"]\n",
        "\n",
        "# create the activation functions from their names\n",
        "if hidden_activation_name_loaded == \"ReLU\":\n",
        "  hidden_activation_loaded = nn.ReLU()\n",
        "elif hidden_activation_name_loaded == \"LeakyReLU\":\n",
        "  hidden_activation_loaded = nn.LeakyReLU() \n",
        "elif hidden_activation_name_loaded == \"ELU\":\n",
        "  hidden_activation_loaded = nn.ELU() \n",
        "elif hidden_activation_name_loaded == \"Tanh\":\n",
        "  hidden_activation_loaded = nn.Tanh()\n",
        "else:\n",
        "  hidden_activation_loaded = nn.Sigmoid()\n",
        "\n",
        "if output_activation_name_loaded == \"ReLU\":\n",
        "    output_activation_loaded = nn.ReLU()\n",
        "elif output_activation_name_loaded == \"Softplus\":\n",
        "    output_activation_loaded = nn.Softplus()\n",
        "else:\n",
        "    output_activation_loaded = nn.Identity()\n",
        "\n",
        "\n",
        "\n",
        "# load the network from the .pth file\n",
        "net_loaded = Net(n_layers_loaded, n_units_loaded, hidden_activation_loaded, output_activation_loaded).to(device)\n",
        "if torch.cuda.is_available():\n",
        " net_loaded.load_state_dict(torch.load(\"net.pth\"))\n",
        "else: \n",
        "  net_loaded.load_state_dict(torch.load(\"net.pth\", map_location=torch.device('cpu')))\n",
        "\n",
        "# create the loss function from its name\n",
        "if loss_name_loaded == \"MSE\":\n",
        "  loss_fn_loaded = nn.MSELoss()\n",
        "elif loss_name_loaded == \"MAE\":\n",
        "  loss_fn_loaded = nn.L1Loss()\n",
        "elif loss_name_loaded == \"Huber\":\n",
        "  loss_fn_loaded = nn.SmoothL1Loss() \n",
        "else:\n",
        "  # create the log-cosh loss function\n",
        "  def log_cosh_loss_loaded(y_pred, y_true):\n",
        "    return torch.mean(torch.log(torch.cosh(y_pred - y_true)))\n",
        "  loss_fn_loaded = log_cosh_loss_loaded\n",
        "\n",
        "# load the optimizer from the .pth file\n",
        "if torch.cuda.is_available():\n",
        "  optimizer_loaded_state_dict = torch.load(\"optimizer.pth\")\n",
        "else:\n",
        "  optimizer_loaded_state_dict = torch.load(\"optimizer.pth\", map_location=torch.device('cpu'))\n",
        "\n",
        "if optimizer_name_loaded == \"SGD\":\n",
        "  # Added getting the weight decay and momentum parameters from the state dict\n",
        "  weight_decay_loaded = optimizer_loaded_state_dict[\"param_groups\"][0][\"weight_decay\"]\n",
        "  momentum_loaded = optimizer_loaded_state_dict[\"param_groups\"][0][\"momentum\"]\n",
        "  optimizer_loaded = optim.SGD(net_loaded.parameters(), lr=lr_loaded, weight_decay=weight_decay_loaded, momentum=momentum_loaded)\n",
        "elif optimizer_name_loaded == \"Adam\":\n",
        "  # Added getting the weight decay and beta parameters from the state dict\n",
        "  weight_decay_loaded = optimizer_loaded_state_dict[\"param_groups\"][0][\"weight_decay\"]\n",
        "  beta1_loaded = optimizer_loaded_state_dict[\"param_groups\"][0][\"betas\"][0]\n",
        "  beta2_loaded = optimizer_loaded_state_dict[\"param_groups\"][0][\"betas\"][1]\n",
        "  optimizer_loaded = optim.Adam(net_loaded.parameters(), lr=lr_loaded, weight_decay=weight_decay_loaded, betas=(beta1_loaded, beta2_loaded))\n",
        "elif optimizer_name_loaded == \"RMSprop\":\n",
        "  optimizer_loaded = optim.RMSprop(net_loaded.parameters(), lr=lr_loaded)\n",
        "else:\n",
        "  # Added loading the Adagrad optimizer\n",
        "  optimizer_loaded = optim.Adagrad(net_loaded.parameters(), lr=lr_loaded)\n",
        "optimizer_loaded.load_state_dict(optimizer_loaded_state_dict)\n",
        "\n",
        "# load the scheduler from the .pth file\n",
        "if torch.cuda.is_available():\n",
        "  scheduler_loaded_state_dict = torch.load(\"scheduler.pth\")\n",
        "else: \n",
        "  scheduler_loaded_state_dict = torch.load(\"scheduler.pth\", map_location=torch.device('cpu'))\n",
        "\n",
        "if scheduler_name_loaded == \"StepLR\":\n",
        "  # Added getting the step_size and gamma parameters from the state dict\n",
        "  step_size_loaded = scheduler_loaded_state_dict[\"step_size\"]\n",
        "  gamma_loaded = scheduler_loaded_state_dict[\"gamma\"]\n",
        "  scheduler_loaded = optim.lr_scheduler.StepLR(optimizer_loaded, step_size=step_size_loaded, gamma=gamma_loaded)\n",
        "elif scheduler_name_loaded == \"ExponentialLR\":\n",
        "  # Added getting the gamma parameter from the state dict\n",
        "  gamma_loaded = scheduler_loaded_state_dict[\"gamma\"]\n",
        "  scheduler_loaded = optim.lr_scheduler.ExponentialLR(optimizer_loaded, gamma=gamma_loaded)\n",
        "elif scheduler_name_loaded == \"CosineAnnealingLR\":\n",
        "  # Added getting the T_max parameter from the state dict\n",
        "  T_max_loaded = scheduler_loaded_state_dict[\"T_max\"]\n",
        "  scheduler_loaded = optim.lr_scheduler.CosineAnnealingLR(optimizer_loaded, T_max=T_max_loaded)\n",
        "elif scheduler_name_loaded == \"ReduceLROnPlateau\":\n",
        "  # Added getting the mode, factor, patience, threshold and min_lr parameters from the state dict\n",
        "  mode_loaded = scheduler_loaded_state_dict[\"mode\"]\n",
        "  factor_loaded = scheduler_loaded_state_dict[\"factor\"]\n",
        "  patience_loaded = scheduler_loaded_state_dict[\"patience\"]\n",
        "  threshold_loaded = scheduler_loaded_state_dict[\"threshold\"]\n",
        "  min_lr_loaded = scheduler_loaded_state_dict[\"min_lrs\"][0]\n",
        "  scheduler_loaded = optim.lr_scheduler.ReduceLROnPlateau(\n",
        "                    optimizer_loaded, mode=mode_loaded, factor=factor_loaded, patience=patience_loaded, threshold=threshold_loaded, min_lr=min_lr_loaded\n",
        "                )\n",
        "# elif scheduler_name_loaded == \"OneCycleLR\":\n",
        "#   max_lr_loaded = scheduler_loaded_state_dict[\"max_lr\"]\n",
        "#   epochs_loaded = scheduler_loaded_state_dict[\"epochs\"]\n",
        "#   steps_per_epoch_loaded = scheduler_loaded_state_dict[\"steps_per_epoch\"]\n",
        "#   pct_start_loaded = scheduler_loaded_state_dict[\"pct_start\"]\n",
        "#   max_lr_loaded = scheduler_loaded_state_dict[\"max_lr\"]\n",
        "#   scheduler_loaded = optim.lr_scheduler.OneCycleLR(\n",
        "#                     optimizer_loaded, max_lr=max_lr_loaded, epochs=epochs_loaded, steps_per_epoch=steps_per_epoch_loaded, pct_start=pct_start_loaded\n",
        "#                 )\n",
        "else:\n",
        "  scheduler_loaded = None\n",
        "\n",
        "if scheduler_loaded is not None:\n",
        "  # Added loading the state dict to the scheduler_loaded\n",
        "  scheduler_loaded.load_state_dict(scheduler_loaded_state_dict)\n",
        "\n",
        "# Loading the output of the training using pandas\n",
        "train_df_loaded = pd.read_csv(\"train_output.csv\")\n",
        "train_losses_loaded = train_df_loaded[\"train_loss\"].tolist()\n",
        "test_losses_loaded = train_df_loaded[\"test_loss\"].tolist()\n",
        "train_metrics_loaded = [\n",
        "    {\n",
        "        \"l1_norm\": train_df_loaded[\"train_l1_norm\"][i],\n",
        "        \"linf_norm\": train_df_loaded[\"train_linf_norm\"][i],\n",
        "    }\n",
        "    for i in range(len(train_df_loaded))\n",
        "]\n",
        "test_metrics_loaded = [\n",
        "    {\n",
        "        \"l1_norm\": train_df_loaded[\"test_l1_norm\"][i],\n",
        "        \"linf_norm\": train_df_loaded[\"test_linf_norm\"][i],\n",
        "    }\n",
        "    for i in range(len(train_df_loaded))\n",
        "]"
      ]
    },
    {
      "cell_type": "code",
      "execution_count": null,
      "metadata": {
        "colab": {
          "base_uri": "https://localhost:8080/",
          "height": 1000
        },
        "id": "GQ_fcj7zUZii",
        "outputId": "c4979ef0-a99c-4754-e222-3af23a83c1cb"
      },
      "outputs": [
        {
          "name": "stdout",
          "output_type": "stream",
          "text": [
            "Couldn't find program: 'echo'\n"
          ]
        }
      ],
      "source": [
        "%%script echo skipping\n",
        "\n",
        "batch_size_loaded\n",
        "n_epochs_loaded\n",
        "loss_name_loaded\n",
        "optimizer_name_loaded\n",
        "scheduler_name_loaded\n",
        "n_units_loaded\n",
        "n_layers_loaded\n",
        "hidden_activation_name_loaded\n",
        "output_activation_name_loaded\n",
        "lr_loaded\n",
        "hidden_activation_loaded\n",
        "output_activation_loaded\n",
        "net_loaded\n",
        "net_loaded.__dict__ # print the subparameters of the network\n",
        "loss_fn_loaded\n",
        "optimizer_loaded\n",
        "optimizer_loaded.__dict__ # print the subparameters of the optimizer\n",
        "scheduler_loaded\n",
        "scheduler_loaded.__dict__ # print the subparameters of the scheduler\n",
        "train_losses_loaded\n",
        "test_losses_loaded\n",
        "train_metrics_loaded\n",
        "test_metrics_loaded"
      ]
    },
    {
      "cell_type": "code",
      "execution_count": null,
      "metadata": {},
      "outputs": [
        {
          "data": {
            "text/plain": [
              "0.0480480695148697"
            ]
          },
          "execution_count": 183,
          "metadata": {},
          "output_type": "execute_result"
        },
        {
          "data": {
            "text/plain": [
              "0.0389610999749042"
            ]
          },
          "execution_count": 183,
          "metadata": {},
          "output_type": "execute_result"
        },
        {
          "data": {
            "text/plain": [
              "0.3928738338552415"
            ]
          },
          "execution_count": 183,
          "metadata": {},
          "output_type": "execute_result"
        },
        {
          "data": {
            "text/plain": [
              "11.485437557038663"
            ]
          },
          "execution_count": 183,
          "metadata": {},
          "output_type": "execute_result"
        },
        {
          "name": "stdout",
          "output_type": "stream",
          "text": [
            "Error is 1023.108942331358 times bigger than in Dieselhorst et al.\n",
            "Error is 1410.9874148696147 times bigger than in Dieselhorst et al.\n"
          ]
        }
      ],
      "source": [
        "train_losses_loaded[-1]\n",
        "test_losses_loaded[-1]\n",
        "test_metrics_loaded[-1]['l1_norm']\n",
        "test_metrics_loaded[-1]['linf_norm']\n",
        "print(f'Error is {test_metrics_loaded[-1][\"l1_norm\"] / (3.84e-4)} times bigger than in Dieselhorst et al.')\n",
        "print(f'Error is {test_metrics_loaded[-1][\"linf_norm\"] / (8.14e-3)} times bigger than in Dieselhorst et al.')"
      ]
    },
    {
      "attachments": {},
      "cell_type": "markdown",
      "metadata": {},
      "source": [
        "### Visualize loaded results"
      ]
    },
    {
      "attachments": {},
      "cell_type": "markdown",
      "metadata": {
        "id": "vwLGR1aSUZik"
      },
      "source": [
        "Let us verify correct loading of the train and test metrics by visualizing them again but now through the loaded values. Likewise for the train and test losses."
      ]
    },
    {
      "cell_type": "code",
      "execution_count": null,
      "metadata": {
        "id": "sXiNgLsmUZil"
      },
      "outputs": [],
      "source": [
        "%config InteractiveShell.ast_node_interactivity = \"last_expr_or_assign\""
      ]
    },
    {
      "cell_type": "code",
      "execution_count": null,
      "metadata": {
        "colab": {
          "base_uri": "https://localhost:8080/",
          "height": 1000
        },
        "id": "sgq4WfSiUZil",
        "outputId": "9934bd08-6c78-4a92-c8c6-d8e835c351b3"
      },
      "outputs": [
        {
          "data": {
            "image/png": "[encoded data removed]",
            "text/plain": [
              "<Figure size 640x480 with 2 Axes>"
            ]
          },
          "metadata": {},
          "output_type": "display_data"
        },
        {
          "data": {
            "image/png": "[encoded data removed]",
            "text/plain": [
              "<Figure size 800x600 with 1 Axes>"
            ]
          },
          "metadata": {},
          "output_type": "display_data"
        }
      ],
      "source": [
        "# Plotting the losses and metrics for the best network plt.figure(figsize=(12, \n",
        "#plt.subplot(2, 2, 1)\n",
        "#plt.plot(train_losses_loaded, label=\"Train Loss\")\n",
        "#plt.plot(test_losses_loaded, label=\"Test Loss\")\n",
        "#plt.xlabel(\"Epoch\")\n",
        "#plt.ylabel(\"Loss\")\n",
        "#plt.legend()\n",
        "plt.subplot(2, 2, 2)\n",
        "plt.plot([m[\"l1_norm\"] for m in train_metrics_loaded], label=\"Train L1 Norm\")\n",
        "plt.plot([m[\"l1_norm\"] for m in test_metrics_loaded], label=\"Test L1 Norm\")\n",
        "plt.xlabel(\"Epoch\")\n",
        "plt.ylabel(\"L1 Norm\")\n",
        "# Added setting the vertical axis to be in powers of 10\n",
        "plt.yscale(\"log\")\n",
        "# Added setting the vertical axis limits to be from 10^-7 to 10^0\n",
        "plt.ylim(1e-3, 1e2)\n",
        "plt.legend()\n",
        "plt.subplot(2, 2, 3)\n",
        "plt.plot([m[\"linf_norm\"] for m in train_metrics_loaded], label=\"Train Linf Norm\")\n",
        "plt.plot([m[\"linf_norm\"] for m in test_metrics_loaded], label=\"Test Linf Norm\")\n",
        "plt.xlabel(\"Epoch\")\n",
        "plt.ylabel(\"Linf Norm\")\n",
        "# Added setting the vertical axis to be in powers of 10\n",
        "plt.yscale(\"log\")\n",
        "# Added setting the vertical axis limits to be from 10^-7 to 10^0\n",
        "plt.ylim(1e-3, 1e2)\n",
        "plt.legend()\n",
        "plt.tight_layout()\n",
        "plt.show()\n",
        "\n",
        "# Added plotting MSE of training data and MSE of test data in one plot \n",
        "plt.figure(figsize=(8, 6))\n",
        "plt.plot(train_losses_loaded,label=\"training data\")\n",
        "plt.plot(test_losses_loaded,label=\"test data\")\n",
        "#if scheduler is not None:\n",
        "#    plt.plot([scheduler.get_last_lr()[0] for _ in range(n_epochs)], label=\"Learning rate\") \n",
        "plt.xlabel(\"Epoch\")\n",
        "plt.ylabel(f\"{loss_name_loaded} Loss\")\n",
        "# Added setting the vertical axis to be in powers of 10\n",
        "plt.yscale(\"log\")\n",
        "# Added setting the vertical axis limits to be from 10^-7 to 10^0\n",
        "plt.ylim(1e-7, 1e0)\n",
        "plt.legend()\n",
        "plt.show()\n"
      ]
    },
    {
      "cell_type": "code",
      "execution_count": null,
      "metadata": {
        "id": "lkgLqJ_UUZim"
      },
      "outputs": [],
      "source": [
        "%config InteractiveShell.ast_node_interactivity = \"all\""
      ]
    },
    {
      "attachments": {},
      "cell_type": "markdown",
      "metadata": {},
      "source": [
        "## Counting the number of parameters in the network."
      ]
    },
    {
      "cell_type": "code",
      "execution_count": null,
      "metadata": {},
      "outputs": [
        {
          "data": {
            "text/plain": [
              "Net(\n",
              "  (hidden_activation): ReLU()\n",
              "  (output_activation): ReLU()\n",
              "  (layers): ModuleList(\n",
              "    (0): Linear(in_features=8, out_features=555, bias=True)\n",
              "    (1): Linear(in_features=555, out_features=458, bias=True)\n",
              "    (2): Linear(in_features=458, out_features=115, bias=True)\n",
              "    (3): Linear(in_features=115, out_features=1, bias=True)\n",
              "  )\n",
              ")"
            ]
          },
          "execution_count": 187,
          "metadata": {},
          "output_type": "execute_result"
        },
        {
          "name": "stdout",
          "output_type": "stream",
          "text": [
            "The model has 312544 parameters.\n"
          ]
        }
      ],
      "source": [
        "net_loaded.eval()\n",
        "def count_parameters(model):\n",
        "    return sum(p.numel() for p in model.parameters() if p.requires_grad)\n",
        "print(f'The model has {count_parameters(net_loaded)} parameters.')"
      ]
    },
    {
      "attachments": {},
      "cell_type": "markdown",
      "metadata": {
        "id": "SxuzVSnlUZin"
      },
      "source": [
        "## Evaluating the network on arbirary input\n",
        "### Comparing `net` and `net_loaded`\n",
        "\n",
        "We compare `net` and `net_loaded` to confirm correct loading of the network. Note that `net` is only available if we have trained the model in this session."
      ]
    },
    {
      "cell_type": "code",
      "execution_count": null,
      "metadata": {},
      "outputs": [
        {
          "data": {
            "text/plain": [
              "Net(\n",
              "  (hidden_activation): ReLU()\n",
              "  (output_activation): ReLU()\n",
              "  (layers): ModuleList(\n",
              "    (0): Linear(in_features=8, out_features=555, bias=True)\n",
              "    (1): Linear(in_features=555, out_features=458, bias=True)\n",
              "    (2): Linear(in_features=458, out_features=115, bias=True)\n",
              "    (3): Linear(in_features=115, out_features=1, bias=True)\n",
              "  )\n",
              ")"
            ]
          },
          "execution_count": 188,
          "metadata": {},
          "output_type": "execute_result"
        }
      ],
      "source": [
        "#%%script echo skipping\n",
        "\n",
        "# Set the network to evaluation mode\n",
        "net.eval()"
      ]
    },
    {
      "cell_type": "code",
      "execution_count": null,
      "metadata": {},
      "outputs": [
        {
          "data": {
            "text/plain": [
              "Net(\n",
              "  (hidden_activation): ReLU()\n",
              "  (output_activation): ReLU()\n",
              "  (layers): ModuleList(\n",
              "    (0): Linear(in_features=8, out_features=555, bias=True)\n",
              "    (1): Linear(in_features=555, out_features=458, bias=True)\n",
              "    (2): Linear(in_features=458, out_features=115, bias=True)\n",
              "    (3): Linear(in_features=115, out_features=1, bias=True)\n",
              "  )\n",
              ")"
            ]
          },
          "execution_count": 189,
          "metadata": {},
          "output_type": "execute_result"
        }
      ],
      "source": [
        "# Set the network to evaluation mode\n",
        "net_loaded.eval()\n"
      ]
    },
    {
      "cell_type": "code",
      "execution_count": null,
      "metadata": {},
      "outputs": [
        {
          "name": "stdout",
          "output_type": "stream",
          "text": [
            "Parameters are the same.\n",
            "Net device: cpu\n",
            "Net_loaded device: cpu\n"
          ]
        }
      ],
      "source": [
        "for p1, p2 in zip(net.parameters(), net_loaded.parameters()):\n",
        "    if p1.data.ne(p2.data).sum() > 0:\n",
        "        print(\"Parameters are NOT the same.\")\n",
        "        break\n",
        "else:\n",
        "    print(\"Parameters are the same.\")\n",
        "\n",
        "print(\"Net device:\", next(net.parameters()).device)\n",
        "print(\"Net_loaded device:\", next(net_loaded.parameters()).device)"
      ]
    },
    {
      "cell_type": "code",
      "execution_count": null,
      "metadata": {
        "colab": {
          "base_uri": "https://localhost:8080/"
        },
        "id": "C0PLAA0DUZin",
        "outputId": "c51e07dd-8b35-4ea4-cdf9-3118d7796e30"
      },
      "outputs": [
        {
          "name": "stdout",
          "output_type": "stream",
          "text": [
            "[Parameter containing:\n",
            "tensor([[-0.2189,  0.3226,  0.2954,  ...,  0.0604, -0.1311, -0.1715],\n",
            "        [-0.1780,  0.2148, -0.1239,  ...,  0.1818, -0.1905,  0.3662],\n",
            "        [ 0.2236, -0.0550,  0.0430,  ..., -0.3001, -0.1890, -0.1947],\n",
            "        ...,\n",
            "        [ 0.3222, -0.2613,  0.2238,  ..., -0.2149,  0.1844, -0.2901],\n",
            "        [-0.3308,  0.1011, -0.0677,  ..., -0.0735,  0.0899,  0.3478],\n",
            "        [ 0.0386,  0.3533, -0.1659,  ..., -0.1037, -0.0397, -0.0818]],\n",
            "       requires_grad=True), Parameter containing:\n",
            "tensor([-7.9848e-02,  5.4898e-02, -3.3636e-01,  2.6621e-01, -3.0691e-02,\n",
            "        -3.3826e-01, -1.3482e-01,  2.5523e-01,  2.9366e-01, -4.4528e-02,\n",
            "         4.2508e-02,  1.3203e-01,  1.7603e-01, -1.2302e-01,  3.8077e-02,\n",
            "         2.8719e-01, -3.1997e-01,  2.8453e-02,  1.2784e-02,  3.3041e-01,\n",
            "        -2.6440e-01,  2.1165e-01,  1.0683e-01,  3.2418e-01,  2.3643e-02,\n",
            "        -2.7217e-02, -1.2069e-01,  2.2358e-01,  1.4005e-01,  1.2394e-01,\n",
            "        -6.5764e-02,  3.4663e-01, -7.5818e-02,  1.4850e-01, -7.0833e-02,\n",
            "        -1.0388e-01,  1.7560e-01,  1.2342e-01, -2.1827e-01,  1.6010e-02,\n",
            "         2.7668e-01,  4.6600e-02, -1.6927e-01, -8.7896e-02, -3.0277e-02,\n",
            "        -2.8682e-02, -1.5234e-01, -1.8036e-01,  3.4748e-01,  3.8609e-01,\n",
            "         4.8020e-03, -4.4073e-02, -3.3834e-04,  5.6405e-03,  5.6427e-02,\n",
            "        -3.5233e-01,  2.9042e-01,  6.5672e-02, -8.1606e-02,  1.9810e-01,\n",
            "         2.3023e-01, -1.8446e-01,  1.7907e-01, -2.3097e-01,  8.7981e-02,\n",
            "        -6.0409e-02, -2.5858e-01, -5.8927e-02, -6.8433e-03,  6.4526e-02,\n",
            "         3.1936e-01, -1.6398e-01,  2.2992e-02, -1.4171e-01, -2.2518e-01,\n",
            "         2.1759e-01, -1.5314e-01,  6.7583e-02, -2.0332e-02, -6.0372e-02,\n",
            "        -1.7724e-01, -1.2288e-01,  7.0575e-02,  1.0524e-01, -1.2837e-02,\n",
            "        -2.6561e-02,  1.5204e-01,  2.2266e-01,  2.0809e-01,  3.2843e-01,\n",
            "        -1.4627e-02,  2.6932e-01,  4.5017e-02, -3.5945e-01, -3.1457e-01,\n",
            "        -1.4279e-01, -3.0069e-01, -2.9371e-01,  1.8500e-01,  2.0556e-01,\n",
            "        -3.9319e-02,  3.3727e-01, -2.6554e-02, -2.8702e-01,  3.2880e-01,\n",
            "        -5.1539e-03,  2.7420e-01,  9.9926e-02, -2.1192e-01,  1.7487e-01,\n",
            "         2.6473e-02, -3.2446e-01, -1.2047e-01,  8.9345e-02, -9.8587e-03,\n",
            "        -2.5476e-01,  1.1399e-01,  2.8789e-01,  2.0046e-01,  3.2307e-01,\n",
            "         1.7926e-01,  2.9752e-01,  1.4269e-02, -3.6312e-01, -3.7571e-02,\n",
            "        -4.0154e-01, -2.8388e-01,  6.1348e-02, -3.2580e-01, -2.7011e-01,\n",
            "        -3.0828e-01, -1.3135e-01,  2.3205e-02,  1.7850e-01, -6.2972e-02,\n",
            "         1.1388e-01,  3.1012e-01, -2.0362e-01, -7.5009e-02, -3.0000e-01,\n",
            "         1.8115e-01,  4.1711e-03, -1.6453e-01, -2.0164e-01,  1.6227e-01,\n",
            "         4.7142e-02,  2.3924e-01, -3.4818e-01,  3.7488e-01,  6.5510e-02,\n",
            "         3.3805e-01,  9.6495e-02,  2.4981e-01, -2.3181e-02,  2.2506e-01,\n",
            "        -1.6174e-01, -2.2399e-02, -3.7391e-01,  3.2449e-01,  2.9238e-02,\n",
            "        -1.9430e-01, -1.3544e-01, -2.5948e-01, -1.0328e-01,  7.1130e-02,\n",
            "        -2.5632e-02,  5.9957e-02, -2.6037e-01, -3.6483e-01, -5.9302e-02,\n",
            "         2.4132e-01, -2.9599e-01,  3.5183e-01,  1.4385e-01,  2.6403e-01,\n",
            "         1.1147e-02, -1.0050e-02, -2.9725e-01,  9.2281e-02, -1.9606e-01,\n",
            "        -1.8895e-01,  1.4588e-01,  1.6147e-01,  2.3852e-01, -1.1093e-01,\n",
            "        -2.1564e-01, -2.5286e-01, -7.5691e-02, -3.4337e-01,  2.1687e-01,\n",
            "        -1.6074e-01,  3.1374e-01,  2.8780e-01,  1.6351e-01,  2.6141e-01,\n",
            "         7.2725e-02,  1.6522e-01,  2.2558e-01,  2.1788e-01,  2.6279e-01,\n",
            "        -2.0019e-01, -4.8921e-02, -1.6715e-02,  5.9520e-02, -7.4755e-03,\n",
            "        -1.2494e-01,  2.2577e-01,  3.3930e-01,  2.3217e-01, -1.1971e-01,\n",
            "         4.1257e-02, -1.9427e-01,  1.2449e-01, -5.2459e-02, -3.2717e-01,\n",
            "         3.7765e-01,  1.5999e-01, -2.7634e-01,  1.7391e-01,  1.0130e-01,\n",
            "        -9.4600e-02,  2.5865e-01, -2.2250e-01,  3.3252e-01,  5.0894e-02,\n",
            "         2.0320e-01,  1.5756e-01, -1.1802e-01, -2.9610e-01,  6.2755e-02,\n",
            "         2.1732e-01, -7.4493e-02, -1.6004e-01,  2.8165e-01,  6.5095e-02,\n",
            "         4.6563e-02,  1.5925e-01, -8.4992e-02, -2.2164e-01,  2.3387e-01,\n",
            "         6.2177e-02,  1.9220e-01,  1.2380e-01,  1.5166e-01,  2.1365e-01,\n",
            "         9.0454e-02, -1.9239e-01, -2.6829e-01, -4.9639e-02,  4.2984e-02,\n",
            "         2.4666e-01, -2.0210e-01,  7.9589e-02, -5.4097e-02,  1.9203e-01,\n",
            "        -3.2353e-02,  3.2826e-01,  1.9322e-01,  9.6597e-02, -1.8800e-01,\n",
            "         5.3981e-02,  1.7429e-01, -1.4993e-02,  5.6315e-02, -3.2511e-01,\n",
            "        -6.3632e-02,  1.5786e-01,  3.3049e-03,  1.5862e-01,  2.9493e-01,\n",
            "         3.0029e-02, -3.9039e-01,  2.5295e-01,  3.2771e-01, -1.7454e-01,\n",
            "        -2.1870e-01, -5.4913e-02, -2.1054e-01, -9.4905e-02, -2.2794e-01,\n",
            "         1.8098e-01, -6.1828e-03, -4.3466e-01,  3.6161e-01, -3.6317e-02,\n",
            "        -1.3330e-01, -6.0366e-03,  1.8804e-01,  7.4585e-02, -1.1263e-01,\n",
            "        -3.5046e-01,  2.2665e-02, -2.9766e-01, -2.0823e-01,  6.2393e-02,\n",
            "        -2.6814e-01,  2.1947e-01, -2.0106e-01,  8.9910e-02, -1.0179e-01,\n",
            "        -2.6182e-02, -2.6695e-01, -1.3128e-01, -2.5009e-01,  7.4570e-02,\n",
            "        -3.4798e-02,  7.5342e-02, -6.4119e-02, -2.6246e-01, -3.1602e-01,\n",
            "        -1.1753e-01, -2.8177e-01,  1.3969e-01,  7.5109e-02, -2.9305e-01,\n",
            "        -6.1042e-02,  3.2197e-01, -5.8385e-02, -2.5401e-01, -1.6696e-01,\n",
            "         7.4770e-02, -2.1457e-01,  2.6438e-03,  3.2533e-01,  1.1226e-01,\n",
            "         2.1764e-01,  3.3885e-01,  3.2906e-01,  1.6671e-01, -3.8385e-01,\n",
            "         2.7448e-01, -3.0966e-01,  1.2294e-02, -3.1563e-01, -2.4983e-01,\n",
            "        -3.3039e-02, -8.7232e-03,  3.0335e-01, -1.2741e-03,  2.2508e-01,\n",
            "         7.8947e-02, -1.4136e-01,  2.1326e-01, -9.6061e-02,  3.3985e-01,\n",
            "        -2.9375e-01, -2.5957e-01,  1.2644e-03,  1.7458e-01,  2.4642e-01,\n",
            "         1.6587e-01, -1.0276e-01,  1.1911e-01,  2.8733e-01, -4.1340e-02,\n",
            "        -1.7657e-01,  4.6574e-02, -8.2981e-02, -2.8934e-01, -8.4431e-02,\n",
            "        -3.1353e-01,  3.2287e-01,  3.3473e-01,  2.3379e-01,  2.7631e-01,\n",
            "        -1.8403e-01,  2.8670e-01,  1.9115e-01,  7.5296e-02,  2.9404e-01,\n",
            "        -3.4749e-02, -1.9921e-01,  2.0084e-01,  3.2861e-01,  1.3671e-01,\n",
            "         2.3369e-01, -3.3821e-01, -1.7673e-01,  3.2271e-01, -1.7151e-01,\n",
            "         3.5765e-01, -2.5524e-01,  2.5901e-01,  1.3871e-01,  2.0998e-01,\n",
            "         3.0321e-01, -2.1157e-02,  3.5782e-01, -1.8664e-02, -3.6230e-01,\n",
            "        -2.7312e-01,  2.1464e-01, -1.7575e-01, -7.7308e-02,  1.5086e-01,\n",
            "         3.2456e-01, -1.2786e-01,  3.0061e-01, -8.1878e-02, -2.6925e-01,\n",
            "         1.5223e-02,  1.7189e-01, -2.1290e-01,  2.1366e-01, -2.4399e-01,\n",
            "        -2.8837e-01,  2.1652e-01,  1.7656e-01,  2.4504e-01,  1.5372e-01,\n",
            "         1.5498e-01,  2.1246e-01,  5.4391e-02,  6.2229e-02,  3.6060e-01,\n",
            "        -2.0997e-01, -2.0218e-01, -1.0594e-01, -3.6962e-01,  1.8705e-01,\n",
            "        -1.5006e-01,  3.2791e-01,  2.1387e-01,  2.8941e-01, -3.8308e-01,\n",
            "        -2.2932e-01, -4.4715e-03,  3.3592e-01, -1.7244e-01,  2.6926e-01,\n",
            "        -2.0197e-01, -1.6194e-01, -9.6169e-02,  7.1545e-02,  3.8911e-01,\n",
            "         1.5288e-01,  2.8664e-01, -8.5292e-02,  1.2562e-01, -1.8363e-01,\n",
            "        -5.7340e-02, -2.6758e-01,  1.2278e-01,  1.0413e-01, -3.5917e-01,\n",
            "        -2.7883e-01, -3.2880e-01, -3.1826e-01,  4.5682e-02, -2.3202e-01,\n",
            "        -1.9064e-01,  2.2433e-02, -1.7153e-01, -2.8545e-01,  4.8620e-02,\n",
            "        -2.9392e-01,  2.5288e-02,  8.9182e-03, -2.3354e-01,  5.0689e-02,\n",
            "         2.4022e-01,  6.3428e-02, -2.2555e-01, -2.3769e-01,  3.5719e-01,\n",
            "        -1.9838e-01,  3.9076e-02, -6.7235e-02, -3.6696e-01, -7.4588e-02,\n",
            "         2.5030e-01,  2.6106e-01,  1.3948e-01, -2.2095e-01,  3.4252e-01,\n",
            "        -1.1312e-01,  3.8570e-03,  2.1606e-01, -2.9297e-01, -3.3033e-01,\n",
            "         2.2144e-01, -3.3004e-01,  7.9094e-02, -2.7272e-01, -5.9414e-02,\n",
            "         2.4075e-01,  1.7526e-01,  3.1757e-01,  5.1937e-02,  1.9017e-01,\n",
            "        -1.0456e-02, -3.1763e-01, -2.3174e-01,  3.2926e-02, -3.4439e-01,\n",
            "         2.8905e-01,  8.1430e-02, -2.8360e-01, -8.5624e-02,  8.9915e-02,\n",
            "         1.1960e-01, -3.0660e-01, -2.9760e-01,  2.5200e-01, -3.3321e-01,\n",
            "         1.1998e-01, -2.3721e-01, -3.4031e-01,  2.0885e-01,  1.1946e-01,\n",
            "        -2.8150e-01,  2.4825e-03,  3.4750e-01,  2.7798e-01, -3.1588e-01,\n",
            "         3.2881e-01,  1.8373e-01,  2.4125e-01,  3.0402e-01, -1.0318e-01,\n",
            "         2.4903e-01,  1.1981e-02, -3.5025e-01, -1.5516e-01, -2.8290e-01,\n",
            "        -1.7894e-01, -2.8604e-01, -1.4242e-02,  2.3524e-01, -1.6883e-01,\n",
            "         2.9889e-01,  2.7845e-02, -3.2037e-01,  3.1822e-01,  1.3526e-01,\n",
            "         8.9713e-02,  3.7481e-01,  2.3568e-01,  7.6863e-02,  1.9452e-01,\n",
            "        -6.6620e-03, -2.1009e-01,  2.6831e-01, -3.2499e-01, -2.0428e-01,\n",
            "        -2.1240e-01,  2.0778e-02, -2.7441e-01, -1.8037e-01, -2.2907e-01,\n",
            "         1.0266e-01,  1.1377e-01, -1.3240e-01,  1.3747e-01, -3.2999e-01],\n",
            "       requires_grad=True), Parameter containing:\n",
            "tensor([[-2.2225e-02, -2.8048e-02, -3.3429e-02,  ...,  3.0452e-03,\n",
            "         -2.6326e-02, -2.0535e-02],\n",
            "        [ 2.0169e-02, -1.4251e-02,  9.5685e-03,  ..., -4.2585e-02,\n",
            "          1.6385e-02, -1.5158e-02],\n",
            "        [-8.6741e-03,  3.9509e-02, -4.2035e-02,  ..., -2.7782e-02,\n",
            "          5.3883e-02, -5.0258e-02],\n",
            "        ...,\n",
            "        [-1.3443e-02, -1.7385e-02, -6.0187e-05,  ..., -3.9898e-02,\n",
            "         -4.1579e-02, -1.1867e-02],\n",
            "        [-3.4418e-02, -4.2222e-03,  1.4417e-02,  ...,  2.0964e-02,\n",
            "         -2.7814e-02,  2.0790e-02],\n",
            "        [-4.0726e-02,  3.9616e-02, -5.5763e-02,  ..., -2.7084e-02,\n",
            "         -9.1204e-04, -1.0165e-03]], requires_grad=True), Parameter containing:\n",
            "tensor([ 0.0348,  0.0165, -0.0212, -0.0266, -0.0272,  0.0208,  0.0153, -0.0017,\n",
            "        -0.0379,  0.0198,  0.0171, -0.0019, -0.0136,  0.0225, -0.0308,  0.0530,\n",
            "         0.0221, -0.0175,  0.0350,  0.0113,  0.0099,  0.0065, -0.0125,  0.0215,\n",
            "         0.0444,  0.0198,  0.0080,  0.0226, -0.0085, -0.0319,  0.0377,  0.0078,\n",
            "        -0.0159, -0.0241, -0.0385, -0.0135,  0.0047, -0.0162, -0.0311, -0.0222,\n",
            "         0.0444, -0.0191, -0.0037,  0.0388, -0.0059,  0.0129, -0.0191, -0.0467,\n",
            "        -0.0243, -0.0361, -0.0067,  0.0343,  0.0422, -0.0202, -0.0313,  0.0372,\n",
            "         0.0339,  0.0083, -0.0196, -0.0389, -0.0184, -0.0220, -0.0220,  0.0140,\n",
            "         0.0156, -0.0119,  0.0520, -0.0277, -0.0229, -0.0171, -0.0428,  0.0308,\n",
            "        -0.0247,  0.0359,  0.0080,  0.0326, -0.0075, -0.0083, -0.0361,  0.0088,\n",
            "        -0.0071,  0.0415, -0.0044, -0.0257, -0.0449, -0.0270,  0.0237,  0.0171,\n",
            "        -0.0570,  0.0300, -0.0204, -0.0022, -0.0008, -0.0055,  0.0266,  0.0082,\n",
            "         0.0282, -0.0208, -0.0132,  0.0363, -0.0148, -0.0533, -0.0219,  0.0184,\n",
            "         0.0443, -0.0230,  0.0443,  0.0776,  0.0252,  0.0024, -0.0157, -0.0065,\n",
            "         0.0518, -0.0042, -0.0118, -0.0179, -0.0335,  0.0170, -0.0379,  0.0181,\n",
            "         0.0130, -0.0237, -0.0225,  0.0085, -0.0307,  0.0277, -0.0331, -0.0223,\n",
            "        -0.0017,  0.0142, -0.0413,  0.0098,  0.0204, -0.0446,  0.0136, -0.0168,\n",
            "        -0.0042, -0.0326,  0.0181, -0.0159,  0.0025,  0.0057, -0.0011, -0.0270,\n",
            "         0.0101,  0.0585, -0.0135,  0.0036, -0.0270, -0.0083,  0.0128,  0.0384,\n",
            "         0.0008,  0.0174,  0.0695, -0.0285, -0.0038, -0.0095, -0.0444, -0.0045,\n",
            "         0.0033, -0.0200,  0.0065, -0.0419, -0.0298,  0.0488,  0.0300,  0.0378,\n",
            "        -0.0267, -0.0051,  0.0074,  0.0285,  0.0144,  0.0002,  0.0141,  0.0108,\n",
            "         0.0535,  0.0044, -0.0257,  0.0482,  0.0141,  0.0134, -0.0052,  0.0107,\n",
            "        -0.0267, -0.0463, -0.0023, -0.0255,  0.0025, -0.0377, -0.0134, -0.0441,\n",
            "        -0.0434,  0.0217,  0.0078, -0.0178,  0.0077,  0.0049,  0.0673, -0.0314,\n",
            "        -0.0047,  0.0303, -0.0200,  0.0424,  0.0176,  0.0174,  0.0446,  0.0176,\n",
            "        -0.0012, -0.0011,  0.0171,  0.0063,  0.0510, -0.0292, -0.0580, -0.0131,\n",
            "        -0.0466, -0.0508, -0.0301, -0.0072,  0.0291,  0.0078, -0.0371,  0.0348,\n",
            "         0.0193, -0.0088, -0.0322,  0.0093, -0.0270,  0.0012, -0.0273,  0.0300,\n",
            "         0.0304,  0.0176,  0.0347,  0.0028,  0.0054,  0.0385, -0.0376, -0.0050,\n",
            "        -0.0574, -0.0319,  0.0071, -0.0186,  0.0372,  0.0279, -0.0406, -0.0224,\n",
            "        -0.0349,  0.0106,  0.0212,  0.0197, -0.0003, -0.0398, -0.0106, -0.0202,\n",
            "         0.0230, -0.0207, -0.0073,  0.0178, -0.0215, -0.0246, -0.0079, -0.0030,\n",
            "         0.0176,  0.0377,  0.0169, -0.0016,  0.0118,  0.0394, -0.0489,  0.0012,\n",
            "        -0.0187,  0.0301, -0.0478, -0.0157,  0.0656, -0.0217, -0.0234, -0.0107,\n",
            "        -0.0479, -0.0369, -0.0034,  0.0479, -0.0211, -0.0521,  0.0481,  0.0452,\n",
            "        -0.0188, -0.0150, -0.0017,  0.0200,  0.0336, -0.0373,  0.0044,  0.0489,\n",
            "        -0.0032, -0.0434,  0.0336,  0.0217,  0.0210,  0.0068, -0.0540, -0.0225,\n",
            "         0.0282,  0.0200,  0.0034,  0.0423, -0.0077,  0.0129, -0.0313,  0.0306,\n",
            "        -0.0222, -0.0051, -0.0264,  0.0249, -0.0220, -0.0615,  0.0315, -0.0144,\n",
            "         0.0239, -0.0337, -0.0009,  0.0047,  0.0331, -0.0122,  0.0021, -0.0272,\n",
            "         0.0349,  0.0213,  0.0252, -0.0052,  0.0506, -0.0282,  0.0426, -0.0245,\n",
            "        -0.0267,  0.0178,  0.0334,  0.0308,  0.0005, -0.0068, -0.0190,  0.0560,\n",
            "         0.0180,  0.0088, -0.0298,  0.0083, -0.0093, -0.0099, -0.0275, -0.0472,\n",
            "        -0.0075, -0.0127,  0.0118, -0.0265,  0.0009,  0.0071, -0.0205, -0.0074,\n",
            "         0.0064, -0.0250,  0.0112, -0.0483, -0.0007,  0.0201, -0.0089,  0.0106,\n",
            "         0.0056,  0.0806, -0.0548, -0.0422, -0.0470,  0.0466,  0.0104,  0.0117,\n",
            "         0.0693, -0.0010,  0.0423, -0.0082,  0.0268,  0.0426,  0.0506,  0.0347,\n",
            "         0.0176,  0.0225,  0.0072, -0.0414, -0.0317,  0.0262,  0.0050,  0.0068,\n",
            "        -0.0142, -0.0332,  0.0372,  0.0430, -0.0317, -0.0084, -0.0261, -0.0386,\n",
            "         0.0449,  0.0217,  0.0029,  0.0302, -0.0442,  0.0580,  0.0117, -0.0224,\n",
            "        -0.0151, -0.0287, -0.0034,  0.0312, -0.0186,  0.0155,  0.0408,  0.0494,\n",
            "         0.0527, -0.0155,  0.0330,  0.0293,  0.0224,  0.0103,  0.0354,  0.0042,\n",
            "         0.0535, -0.0245, -0.0405,  0.0474,  0.0371,  0.0083,  0.0062,  0.0244,\n",
            "         0.0270, -0.0081, -0.0108,  0.0501,  0.0170,  0.0332, -0.0342,  0.0522,\n",
            "         0.0195,  0.0352,  0.0408, -0.0297, -0.0041, -0.0347,  0.0144, -0.0179,\n",
            "        -0.0408, -0.0319,  0.0052,  0.0133,  0.0435, -0.0081, -0.0063, -0.0332,\n",
            "         0.0450,  0.0045], requires_grad=True), Parameter containing:\n",
            "tensor([[ 0.0339, -0.0086,  0.0292,  ..., -0.0315, -0.0024, -0.0386],\n",
            "        [ 0.0307,  0.0083,  0.0073,  ..., -0.0034,  0.0368, -0.0251],\n",
            "        [ 0.0056,  0.0169, -0.0175,  ...,  0.0012,  0.0192, -0.0027],\n",
            "        ...,\n",
            "        [-0.0295,  0.0402, -0.0311,  ..., -0.0368,  0.0334,  0.0052],\n",
            "        [-0.0442, -0.0565, -0.0870,  ...,  0.0596, -0.0038, -0.0095],\n",
            "        [-0.0510,  0.0298, -0.0414,  ..., -0.0348,  0.0257, -0.0471]],\n",
            "       requires_grad=True), Parameter containing:\n",
            "tensor([-0.0040,  0.0207, -0.0141, -0.0262,  0.0156, -0.0176,  0.0134,  0.0176,\n",
            "         0.0233,  0.0018,  0.0816, -0.0339, -0.0440, -0.0007,  0.0069,  0.0584,\n",
            "        -0.0065,  0.0319,  0.0094, -0.0006, -0.0536,  0.0330,  0.0293, -0.0009,\n",
            "         0.0300, -0.0535,  0.0030, -0.0472,  0.0332,  0.0306,  0.0459, -0.0068,\n",
            "         0.0245,  0.0152,  0.0523,  0.0267, -0.0069,  0.0350,  0.0430, -0.0411,\n",
            "        -0.0129, -0.0167,  0.0659,  0.0051, -0.0370, -0.0267,  0.0284, -0.0009,\n",
            "         0.0183, -0.0438,  0.0072,  0.0360, -0.0502, -0.0284,  0.0374,  0.0313,\n",
            "        -0.0230, -0.0002, -0.0361,  0.0599,  0.0346,  0.0197, -0.0133, -0.0242,\n",
            "         0.0162,  0.0531, -0.0110,  0.0207,  0.0249, -0.0460,  0.0122,  0.0094,\n",
            "        -0.0336, -0.0017, -0.0464, -0.0342, -0.0057,  0.0137,  0.0591, -0.0153,\n",
            "         0.0177, -0.0117, -0.0355, -0.0449,  0.0019, -0.0449, -0.0305,  0.0373,\n",
            "         0.0213,  0.0130, -0.0352, -0.0150,  0.0290,  0.0276,  0.0110, -0.0172,\n",
            "         0.0781, -0.0235,  0.0141,  0.0123,  0.0307,  0.0362,  0.0248,  0.0172,\n",
            "         0.0235, -0.0320, -0.0258,  0.0266,  0.0280,  0.0046,  0.0474,  0.0117,\n",
            "        -0.0039,  0.0557, -0.0095], requires_grad=True), Parameter containing:\n",
            "tensor([[-7.3709e-02, -2.1438e-02, -6.4431e-05, -2.7444e-02, -1.2594e-02,\n",
            "          8.0888e-02,  6.0898e-02,  3.8130e-02,  4.3041e-02,  6.5940e-02,\n",
            "          9.6114e-02, -3.7334e-02, -4.7074e-02, -1.3846e-02,  2.4633e-02,\n",
            "          6.0296e-02,  6.0143e-02,  1.6136e-02,  3.1762e-02, -2.6583e-02,\n",
            "         -1.1834e-02, -3.2670e-02, -8.4039e-03,  4.3846e-03,  4.0171e-02,\n",
            "         -1.3562e-03, -5.7794e-03,  2.0973e-04, -6.8720e-02,  5.3589e-02,\n",
            "          3.8295e-02,  8.3566e-02, -3.5092e-02, -2.2160e-02,  8.3619e-02,\n",
            "          8.5894e-02,  5.0959e-02,  8.2967e-02, -2.5391e-02, -8.5443e-02,\n",
            "          6.5745e-02, -3.1645e-02,  1.4596e-02,  6.9848e-02, -5.5880e-02,\n",
            "         -7.5681e-02,  8.6976e-02,  5.9229e-03,  4.5596e-02, -1.1625e-01,\n",
            "          7.3249e-02,  6.8370e-02,  7.6348e-02, -9.1260e-02,  1.0859e-02,\n",
            "          6.5647e-02,  9.4852e-02, -3.6371e-03, -2.4497e-02,  8.5031e-02,\n",
            "         -7.2196e-02,  5.4511e-02,  2.6709e-02, -1.9336e-02,  3.3748e-04,\n",
            "          8.7648e-03,  4.4611e-02,  6.4730e-02, -2.8120e-02, -9.5698e-02,\n",
            "          1.3486e-02, -6.0996e-03,  3.0728e-02,  5.6794e-02,  2.0324e-02,\n",
            "          4.0747e-02, -5.6477e-02, -4.4970e-02,  4.6328e-02, -4.7795e-02,\n",
            "          7.6150e-02,  2.6350e-03, -5.0623e-02, -9.4828e-02,  3.8840e-02,\n",
            "         -1.9090e-02, -3.8179e-02,  8.5044e-02,  4.6586e-02,  2.9396e-02,\n",
            "         -2.2283e-02, -7.5266e-02,  5.2026e-02,  4.6046e-02, -3.7646e-02,\n",
            "         -4.6457e-02,  6.3984e-02, -2.8759e-02, -2.8312e-02, -9.4869e-02,\n",
            "         -3.9869e-02,  3.6703e-02, -2.5429e-02,  1.8372e-02,  5.4834e-02,\n",
            "          5.3060e-02, -2.6455e-02, -2.5336e-02, -1.4123e-02, -7.5873e-02,\n",
            "          6.6845e-02,  1.4291e-02,  7.0548e-02,  4.3344e-02,  1.5468e-02]],\n",
            "       requires_grad=True), Parameter containing:\n",
            "tensor([0.0997], requires_grad=True)]\n"
          ]
        }
      ],
      "source": [
        "#%%script echo skipping\n",
        "\n",
        "print(list(net.parameters()))"
      ]
    },
    {
      "cell_type": "code",
      "execution_count": null,
      "metadata": {
        "colab": {
          "base_uri": "https://localhost:8080/"
        },
        "id": "1NZ8iVA7UZio",
        "outputId": "6341def7-b7e7-44eb-c91f-edbe1d22ca1d"
      },
      "outputs": [
        {
          "name": "stdout",
          "output_type": "stream",
          "text": [
            "[Parameter containing:\n",
            "tensor([[-0.2189,  0.3226,  0.2954,  ...,  0.0604, -0.1311, -0.1715],\n",
            "        [-0.1780,  0.2148, -0.1239,  ...,  0.1818, -0.1905,  0.3662],\n",
            "        [ 0.2236, -0.0550,  0.0430,  ..., -0.3001, -0.1890, -0.1947],\n",
            "        ...,\n",
            "        [ 0.3222, -0.2613,  0.2238,  ..., -0.2149,  0.1844, -0.2901],\n",
            "        [-0.3308,  0.1011, -0.0677,  ..., -0.0735,  0.0899,  0.3478],\n",
            "        [ 0.0386,  0.3533, -0.1659,  ..., -0.1037, -0.0397, -0.0818]],\n",
            "       requires_grad=True), Parameter containing:\n",
            "tensor([-7.9848e-02,  5.4898e-02, -3.3636e-01,  2.6621e-01, -3.0691e-02,\n",
            "        -3.3826e-01, -1.3482e-01,  2.5523e-01,  2.9366e-01, -4.4528e-02,\n",
            "         4.2508e-02,  1.3203e-01,  1.7603e-01, -1.2302e-01,  3.8077e-02,\n",
            "         2.8719e-01, -3.1997e-01,  2.8453e-02,  1.2784e-02,  3.3041e-01,\n",
            "        -2.6440e-01,  2.1165e-01,  1.0683e-01,  3.2418e-01,  2.3643e-02,\n",
            "        -2.7217e-02, -1.2069e-01,  2.2358e-01,  1.4005e-01,  1.2394e-01,\n",
            "        -6.5764e-02,  3.4663e-01, -7.5818e-02,  1.4850e-01, -7.0833e-02,\n",
            "        -1.0388e-01,  1.7560e-01,  1.2342e-01, -2.1827e-01,  1.6010e-02,\n",
            "         2.7668e-01,  4.6600e-02, -1.6927e-01, -8.7896e-02, -3.0277e-02,\n",
            "        -2.8682e-02, -1.5234e-01, -1.8036e-01,  3.4748e-01,  3.8609e-01,\n",
            "         4.8020e-03, -4.4073e-02, -3.3834e-04,  5.6405e-03,  5.6427e-02,\n",
            "        -3.5233e-01,  2.9042e-01,  6.5672e-02, -8.1606e-02,  1.9810e-01,\n",
            "         2.3023e-01, -1.8446e-01,  1.7907e-01, -2.3097e-01,  8.7981e-02,\n",
            "        -6.0409e-02, -2.5858e-01, -5.8927e-02, -6.8433e-03,  6.4526e-02,\n",
            "         3.1936e-01, -1.6398e-01,  2.2992e-02, -1.4171e-01, -2.2518e-01,\n",
            "         2.1759e-01, -1.5314e-01,  6.7583e-02, -2.0332e-02, -6.0372e-02,\n",
            "        -1.7724e-01, -1.2288e-01,  7.0575e-02,  1.0524e-01, -1.2837e-02,\n",
            "        -2.6561e-02,  1.5204e-01,  2.2266e-01,  2.0809e-01,  3.2843e-01,\n",
            "        -1.4627e-02,  2.6932e-01,  4.5017e-02, -3.5945e-01, -3.1457e-01,\n",
            "        -1.4279e-01, -3.0069e-01, -2.9371e-01,  1.8500e-01,  2.0556e-01,\n",
            "        -3.9319e-02,  3.3727e-01, -2.6554e-02, -2.8702e-01,  3.2880e-01,\n",
            "        -5.1539e-03,  2.7420e-01,  9.9926e-02, -2.1192e-01,  1.7487e-01,\n",
            "         2.6473e-02, -3.2446e-01, -1.2047e-01,  8.9345e-02, -9.8587e-03,\n",
            "        -2.5476e-01,  1.1399e-01,  2.8789e-01,  2.0046e-01,  3.2307e-01,\n",
            "         1.7926e-01,  2.9752e-01,  1.4269e-02, -3.6312e-01, -3.7571e-02,\n",
            "        -4.0154e-01, -2.8388e-01,  6.1348e-02, -3.2580e-01, -2.7011e-01,\n",
            "        -3.0828e-01, -1.3135e-01,  2.3205e-02,  1.7850e-01, -6.2972e-02,\n",
            "         1.1388e-01,  3.1012e-01, -2.0362e-01, -7.5009e-02, -3.0000e-01,\n",
            "         1.8115e-01,  4.1711e-03, -1.6453e-01, -2.0164e-01,  1.6227e-01,\n",
            "         4.7142e-02,  2.3924e-01, -3.4818e-01,  3.7488e-01,  6.5510e-02,\n",
            "         3.3805e-01,  9.6495e-02,  2.4981e-01, -2.3181e-02,  2.2506e-01,\n",
            "        -1.6174e-01, -2.2399e-02, -3.7391e-01,  3.2449e-01,  2.9238e-02,\n",
            "        -1.9430e-01, -1.3544e-01, -2.5948e-01, -1.0328e-01,  7.1130e-02,\n",
            "        -2.5632e-02,  5.9957e-02, -2.6037e-01, -3.6483e-01, -5.9302e-02,\n",
            "         2.4132e-01, -2.9599e-01,  3.5183e-01,  1.4385e-01,  2.6403e-01,\n",
            "         1.1147e-02, -1.0050e-02, -2.9725e-01,  9.2281e-02, -1.9606e-01,\n",
            "        -1.8895e-01,  1.4588e-01,  1.6147e-01,  2.3852e-01, -1.1093e-01,\n",
            "        -2.1564e-01, -2.5286e-01, -7.5691e-02, -3.4337e-01,  2.1687e-01,\n",
            "        -1.6074e-01,  3.1374e-01,  2.8780e-01,  1.6351e-01,  2.6141e-01,\n",
            "         7.2725e-02,  1.6522e-01,  2.2558e-01,  2.1788e-01,  2.6279e-01,\n",
            "        -2.0019e-01, -4.8921e-02, -1.6715e-02,  5.9520e-02, -7.4755e-03,\n",
            "        -1.2494e-01,  2.2577e-01,  3.3930e-01,  2.3217e-01, -1.1971e-01,\n",
            "         4.1257e-02, -1.9427e-01,  1.2449e-01, -5.2459e-02, -3.2717e-01,\n",
            "         3.7765e-01,  1.5999e-01, -2.7634e-01,  1.7391e-01,  1.0130e-01,\n",
            "        -9.4600e-02,  2.5865e-01, -2.2250e-01,  3.3252e-01,  5.0894e-02,\n",
            "         2.0320e-01,  1.5756e-01, -1.1802e-01, -2.9610e-01,  6.2755e-02,\n",
            "         2.1732e-01, -7.4493e-02, -1.6004e-01,  2.8165e-01,  6.5095e-02,\n",
            "         4.6563e-02,  1.5925e-01, -8.4992e-02, -2.2164e-01,  2.3387e-01,\n",
            "         6.2177e-02,  1.9220e-01,  1.2380e-01,  1.5166e-01,  2.1365e-01,\n",
            "         9.0454e-02, -1.9239e-01, -2.6829e-01, -4.9639e-02,  4.2984e-02,\n",
            "         2.4666e-01, -2.0210e-01,  7.9589e-02, -5.4097e-02,  1.9203e-01,\n",
            "        -3.2353e-02,  3.2826e-01,  1.9322e-01,  9.6597e-02, -1.8800e-01,\n",
            "         5.3981e-02,  1.7429e-01, -1.4993e-02,  5.6315e-02, -3.2511e-01,\n",
            "        -6.3632e-02,  1.5786e-01,  3.3049e-03,  1.5862e-01,  2.9493e-01,\n",
            "         3.0029e-02, -3.9039e-01,  2.5295e-01,  3.2771e-01, -1.7454e-01,\n",
            "        -2.1870e-01, -5.4913e-02, -2.1054e-01, -9.4905e-02, -2.2794e-01,\n",
            "         1.8098e-01, -6.1828e-03, -4.3466e-01,  3.6161e-01, -3.6317e-02,\n",
            "        -1.3330e-01, -6.0366e-03,  1.8804e-01,  7.4585e-02, -1.1263e-01,\n",
            "        -3.5046e-01,  2.2665e-02, -2.9766e-01, -2.0823e-01,  6.2393e-02,\n",
            "        -2.6814e-01,  2.1947e-01, -2.0106e-01,  8.9910e-02, -1.0179e-01,\n",
            "        -2.6182e-02, -2.6695e-01, -1.3128e-01, -2.5009e-01,  7.4570e-02,\n",
            "        -3.4798e-02,  7.5342e-02, -6.4119e-02, -2.6246e-01, -3.1602e-01,\n",
            "        -1.1753e-01, -2.8177e-01,  1.3969e-01,  7.5109e-02, -2.9305e-01,\n",
            "        -6.1042e-02,  3.2197e-01, -5.8385e-02, -2.5401e-01, -1.6696e-01,\n",
            "         7.4770e-02, -2.1457e-01,  2.6438e-03,  3.2533e-01,  1.1226e-01,\n",
            "         2.1764e-01,  3.3885e-01,  3.2906e-01,  1.6671e-01, -3.8385e-01,\n",
            "         2.7448e-01, -3.0966e-01,  1.2294e-02, -3.1563e-01, -2.4983e-01,\n",
            "        -3.3039e-02, -8.7232e-03,  3.0335e-01, -1.2741e-03,  2.2508e-01,\n",
            "         7.8947e-02, -1.4136e-01,  2.1326e-01, -9.6061e-02,  3.3985e-01,\n",
            "        -2.9375e-01, -2.5957e-01,  1.2644e-03,  1.7458e-01,  2.4642e-01,\n",
            "         1.6587e-01, -1.0276e-01,  1.1911e-01,  2.8733e-01, -4.1340e-02,\n",
            "        -1.7657e-01,  4.6574e-02, -8.2981e-02, -2.8934e-01, -8.4431e-02,\n",
            "        -3.1353e-01,  3.2287e-01,  3.3473e-01,  2.3379e-01,  2.7631e-01,\n",
            "        -1.8403e-01,  2.8670e-01,  1.9115e-01,  7.5296e-02,  2.9404e-01,\n",
            "        -3.4749e-02, -1.9921e-01,  2.0084e-01,  3.2861e-01,  1.3671e-01,\n",
            "         2.3369e-01, -3.3821e-01, -1.7673e-01,  3.2271e-01, -1.7151e-01,\n",
            "         3.5765e-01, -2.5524e-01,  2.5901e-01,  1.3871e-01,  2.0998e-01,\n",
            "         3.0321e-01, -2.1157e-02,  3.5782e-01, -1.8664e-02, -3.6230e-01,\n",
            "        -2.7312e-01,  2.1464e-01, -1.7575e-01, -7.7308e-02,  1.5086e-01,\n",
            "         3.2456e-01, -1.2786e-01,  3.0061e-01, -8.1878e-02, -2.6925e-01,\n",
            "         1.5223e-02,  1.7189e-01, -2.1290e-01,  2.1366e-01, -2.4399e-01,\n",
            "        -2.8837e-01,  2.1652e-01,  1.7656e-01,  2.4504e-01,  1.5372e-01,\n",
            "         1.5498e-01,  2.1246e-01,  5.4391e-02,  6.2229e-02,  3.6060e-01,\n",
            "        -2.0997e-01, -2.0218e-01, -1.0594e-01, -3.6962e-01,  1.8705e-01,\n",
            "        -1.5006e-01,  3.2791e-01,  2.1387e-01,  2.8941e-01, -3.8308e-01,\n",
            "        -2.2932e-01, -4.4715e-03,  3.3592e-01, -1.7244e-01,  2.6926e-01,\n",
            "        -2.0197e-01, -1.6194e-01, -9.6169e-02,  7.1545e-02,  3.8911e-01,\n",
            "         1.5288e-01,  2.8664e-01, -8.5292e-02,  1.2562e-01, -1.8363e-01,\n",
            "        -5.7340e-02, -2.6758e-01,  1.2278e-01,  1.0413e-01, -3.5917e-01,\n",
            "        -2.7883e-01, -3.2880e-01, -3.1826e-01,  4.5682e-02, -2.3202e-01,\n",
            "        -1.9064e-01,  2.2433e-02, -1.7153e-01, -2.8545e-01,  4.8620e-02,\n",
            "        -2.9392e-01,  2.5288e-02,  8.9182e-03, -2.3354e-01,  5.0689e-02,\n",
            "         2.4022e-01,  6.3428e-02, -2.2555e-01, -2.3769e-01,  3.5719e-01,\n",
            "        -1.9838e-01,  3.9076e-02, -6.7235e-02, -3.6696e-01, -7.4588e-02,\n",
            "         2.5030e-01,  2.6106e-01,  1.3948e-01, -2.2095e-01,  3.4252e-01,\n",
            "        -1.1312e-01,  3.8570e-03,  2.1606e-01, -2.9297e-01, -3.3033e-01,\n",
            "         2.2144e-01, -3.3004e-01,  7.9094e-02, -2.7272e-01, -5.9414e-02,\n",
            "         2.4075e-01,  1.7526e-01,  3.1757e-01,  5.1937e-02,  1.9017e-01,\n",
            "        -1.0456e-02, -3.1763e-01, -2.3174e-01,  3.2926e-02, -3.4439e-01,\n",
            "         2.8905e-01,  8.1430e-02, -2.8360e-01, -8.5624e-02,  8.9915e-02,\n",
            "         1.1960e-01, -3.0660e-01, -2.9760e-01,  2.5200e-01, -3.3321e-01,\n",
            "         1.1998e-01, -2.3721e-01, -3.4031e-01,  2.0885e-01,  1.1946e-01,\n",
            "        -2.8150e-01,  2.4825e-03,  3.4750e-01,  2.7798e-01, -3.1588e-01,\n",
            "         3.2881e-01,  1.8373e-01,  2.4125e-01,  3.0402e-01, -1.0318e-01,\n",
            "         2.4903e-01,  1.1981e-02, -3.5025e-01, -1.5516e-01, -2.8290e-01,\n",
            "        -1.7894e-01, -2.8604e-01, -1.4242e-02,  2.3524e-01, -1.6883e-01,\n",
            "         2.9889e-01,  2.7845e-02, -3.2037e-01,  3.1822e-01,  1.3526e-01,\n",
            "         8.9713e-02,  3.7481e-01,  2.3568e-01,  7.6863e-02,  1.9452e-01,\n",
            "        -6.6620e-03, -2.1009e-01,  2.6831e-01, -3.2499e-01, -2.0428e-01,\n",
            "        -2.1240e-01,  2.0778e-02, -2.7441e-01, -1.8037e-01, -2.2907e-01,\n",
            "         1.0266e-01,  1.1377e-01, -1.3240e-01,  1.3747e-01, -3.2999e-01],\n",
            "       requires_grad=True), Parameter containing:\n",
            "tensor([[-2.2225e-02, -2.8048e-02, -3.3429e-02,  ...,  3.0452e-03,\n",
            "         -2.6326e-02, -2.0535e-02],\n",
            "        [ 2.0169e-02, -1.4251e-02,  9.5685e-03,  ..., -4.2585e-02,\n",
            "          1.6385e-02, -1.5158e-02],\n",
            "        [-8.6741e-03,  3.9509e-02, -4.2035e-02,  ..., -2.7782e-02,\n",
            "          5.3883e-02, -5.0258e-02],\n",
            "        ...,\n",
            "        [-1.3443e-02, -1.7385e-02, -6.0187e-05,  ..., -3.9898e-02,\n",
            "         -4.1579e-02, -1.1867e-02],\n",
            "        [-3.4418e-02, -4.2222e-03,  1.4417e-02,  ...,  2.0964e-02,\n",
            "         -2.7814e-02,  2.0790e-02],\n",
            "        [-4.0726e-02,  3.9616e-02, -5.5763e-02,  ..., -2.7084e-02,\n",
            "         -9.1204e-04, -1.0165e-03]], requires_grad=True), Parameter containing:\n",
            "tensor([ 0.0348,  0.0165, -0.0212, -0.0266, -0.0272,  0.0208,  0.0153, -0.0017,\n",
            "        -0.0379,  0.0198,  0.0171, -0.0019, -0.0136,  0.0225, -0.0308,  0.0530,\n",
            "         0.0221, -0.0175,  0.0350,  0.0113,  0.0099,  0.0065, -0.0125,  0.0215,\n",
            "         0.0444,  0.0198,  0.0080,  0.0226, -0.0085, -0.0319,  0.0377,  0.0078,\n",
            "        -0.0159, -0.0241, -0.0385, -0.0135,  0.0047, -0.0162, -0.0311, -0.0222,\n",
            "         0.0444, -0.0191, -0.0037,  0.0388, -0.0059,  0.0129, -0.0191, -0.0467,\n",
            "        -0.0243, -0.0361, -0.0067,  0.0343,  0.0422, -0.0202, -0.0313,  0.0372,\n",
            "         0.0339,  0.0083, -0.0196, -0.0389, -0.0184, -0.0220, -0.0220,  0.0140,\n",
            "         0.0156, -0.0119,  0.0520, -0.0277, -0.0229, -0.0171, -0.0428,  0.0308,\n",
            "        -0.0247,  0.0359,  0.0080,  0.0326, -0.0075, -0.0083, -0.0361,  0.0088,\n",
            "        -0.0071,  0.0415, -0.0044, -0.0257, -0.0449, -0.0270,  0.0237,  0.0171,\n",
            "        -0.0570,  0.0300, -0.0204, -0.0022, -0.0008, -0.0055,  0.0266,  0.0082,\n",
            "         0.0282, -0.0208, -0.0132,  0.0363, -0.0148, -0.0533, -0.0219,  0.0184,\n",
            "         0.0443, -0.0230,  0.0443,  0.0776,  0.0252,  0.0024, -0.0157, -0.0065,\n",
            "         0.0518, -0.0042, -0.0118, -0.0179, -0.0335,  0.0170, -0.0379,  0.0181,\n",
            "         0.0130, -0.0237, -0.0225,  0.0085, -0.0307,  0.0277, -0.0331, -0.0223,\n",
            "        -0.0017,  0.0142, -0.0413,  0.0098,  0.0204, -0.0446,  0.0136, -0.0168,\n",
            "        -0.0042, -0.0326,  0.0181, -0.0159,  0.0025,  0.0057, -0.0011, -0.0270,\n",
            "         0.0101,  0.0585, -0.0135,  0.0036, -0.0270, -0.0083,  0.0128,  0.0384,\n",
            "         0.0008,  0.0174,  0.0695, -0.0285, -0.0038, -0.0095, -0.0444, -0.0045,\n",
            "         0.0033, -0.0200,  0.0065, -0.0419, -0.0298,  0.0488,  0.0300,  0.0378,\n",
            "        -0.0267, -0.0051,  0.0074,  0.0285,  0.0144,  0.0002,  0.0141,  0.0108,\n",
            "         0.0535,  0.0044, -0.0257,  0.0482,  0.0141,  0.0134, -0.0052,  0.0107,\n",
            "        -0.0267, -0.0463, -0.0023, -0.0255,  0.0025, -0.0377, -0.0134, -0.0441,\n",
            "        -0.0434,  0.0217,  0.0078, -0.0178,  0.0077,  0.0049,  0.0673, -0.0314,\n",
            "        -0.0047,  0.0303, -0.0200,  0.0424,  0.0176,  0.0174,  0.0446,  0.0176,\n",
            "        -0.0012, -0.0011,  0.0171,  0.0063,  0.0510, -0.0292, -0.0580, -0.0131,\n",
            "        -0.0466, -0.0508, -0.0301, -0.0072,  0.0291,  0.0078, -0.0371,  0.0348,\n",
            "         0.0193, -0.0088, -0.0322,  0.0093, -0.0270,  0.0012, -0.0273,  0.0300,\n",
            "         0.0304,  0.0176,  0.0347,  0.0028,  0.0054,  0.0385, -0.0376, -0.0050,\n",
            "        -0.0574, -0.0319,  0.0071, -0.0186,  0.0372,  0.0279, -0.0406, -0.0224,\n",
            "        -0.0349,  0.0106,  0.0212,  0.0197, -0.0003, -0.0398, -0.0106, -0.0202,\n",
            "         0.0230, -0.0207, -0.0073,  0.0178, -0.0215, -0.0246, -0.0079, -0.0030,\n",
            "         0.0176,  0.0377,  0.0169, -0.0016,  0.0118,  0.0394, -0.0489,  0.0012,\n",
            "        -0.0187,  0.0301, -0.0478, -0.0157,  0.0656, -0.0217, -0.0234, -0.0107,\n",
            "        -0.0479, -0.0369, -0.0034,  0.0479, -0.0211, -0.0521,  0.0481,  0.0452,\n",
            "        -0.0188, -0.0150, -0.0017,  0.0200,  0.0336, -0.0373,  0.0044,  0.0489,\n",
            "        -0.0032, -0.0434,  0.0336,  0.0217,  0.0210,  0.0068, -0.0540, -0.0225,\n",
            "         0.0282,  0.0200,  0.0034,  0.0423, -0.0077,  0.0129, -0.0313,  0.0306,\n",
            "        -0.0222, -0.0051, -0.0264,  0.0249, -0.0220, -0.0615,  0.0315, -0.0144,\n",
            "         0.0239, -0.0337, -0.0009,  0.0047,  0.0331, -0.0122,  0.0021, -0.0272,\n",
            "         0.0349,  0.0213,  0.0252, -0.0052,  0.0506, -0.0282,  0.0426, -0.0245,\n",
            "        -0.0267,  0.0178,  0.0334,  0.0308,  0.0005, -0.0068, -0.0190,  0.0560,\n",
            "         0.0180,  0.0088, -0.0298,  0.0083, -0.0093, -0.0099, -0.0275, -0.0472,\n",
            "        -0.0075, -0.0127,  0.0118, -0.0265,  0.0009,  0.0071, -0.0205, -0.0074,\n",
            "         0.0064, -0.0250,  0.0112, -0.0483, -0.0007,  0.0201, -0.0089,  0.0106,\n",
            "         0.0056,  0.0806, -0.0548, -0.0422, -0.0470,  0.0466,  0.0104,  0.0117,\n",
            "         0.0693, -0.0010,  0.0423, -0.0082,  0.0268,  0.0426,  0.0506,  0.0347,\n",
            "         0.0176,  0.0225,  0.0072, -0.0414, -0.0317,  0.0262,  0.0050,  0.0068,\n",
            "        -0.0142, -0.0332,  0.0372,  0.0430, -0.0317, -0.0084, -0.0261, -0.0386,\n",
            "         0.0449,  0.0217,  0.0029,  0.0302, -0.0442,  0.0580,  0.0117, -0.0224,\n",
            "        -0.0151, -0.0287, -0.0034,  0.0312, -0.0186,  0.0155,  0.0408,  0.0494,\n",
            "         0.0527, -0.0155,  0.0330,  0.0293,  0.0224,  0.0103,  0.0354,  0.0042,\n",
            "         0.0535, -0.0245, -0.0405,  0.0474,  0.0371,  0.0083,  0.0062,  0.0244,\n",
            "         0.0270, -0.0081, -0.0108,  0.0501,  0.0170,  0.0332, -0.0342,  0.0522,\n",
            "         0.0195,  0.0352,  0.0408, -0.0297, -0.0041, -0.0347,  0.0144, -0.0179,\n",
            "        -0.0408, -0.0319,  0.0052,  0.0133,  0.0435, -0.0081, -0.0063, -0.0332,\n",
            "         0.0450,  0.0045], requires_grad=True), Parameter containing:\n",
            "tensor([[ 0.0339, -0.0086,  0.0292,  ..., -0.0315, -0.0024, -0.0386],\n",
            "        [ 0.0307,  0.0083,  0.0073,  ..., -0.0034,  0.0368, -0.0251],\n",
            "        [ 0.0056,  0.0169, -0.0175,  ...,  0.0012,  0.0192, -0.0027],\n",
            "        ...,\n",
            "        [-0.0295,  0.0402, -0.0311,  ..., -0.0368,  0.0334,  0.0052],\n",
            "        [-0.0442, -0.0565, -0.0870,  ...,  0.0596, -0.0038, -0.0095],\n",
            "        [-0.0510,  0.0298, -0.0414,  ..., -0.0348,  0.0257, -0.0471]],\n",
            "       requires_grad=True), Parameter containing:\n",
            "tensor([-0.0040,  0.0207, -0.0141, -0.0262,  0.0156, -0.0176,  0.0134,  0.0176,\n",
            "         0.0233,  0.0018,  0.0816, -0.0339, -0.0440, -0.0007,  0.0069,  0.0584,\n",
            "        -0.0065,  0.0319,  0.0094, -0.0006, -0.0536,  0.0330,  0.0293, -0.0009,\n",
            "         0.0300, -0.0535,  0.0030, -0.0472,  0.0332,  0.0306,  0.0459, -0.0068,\n",
            "         0.0245,  0.0152,  0.0523,  0.0267, -0.0069,  0.0350,  0.0430, -0.0411,\n",
            "        -0.0129, -0.0167,  0.0659,  0.0051, -0.0370, -0.0267,  0.0284, -0.0009,\n",
            "         0.0183, -0.0438,  0.0072,  0.0360, -0.0502, -0.0284,  0.0374,  0.0313,\n",
            "        -0.0230, -0.0002, -0.0361,  0.0599,  0.0346,  0.0197, -0.0133, -0.0242,\n",
            "         0.0162,  0.0531, -0.0110,  0.0207,  0.0249, -0.0460,  0.0122,  0.0094,\n",
            "        -0.0336, -0.0017, -0.0464, -0.0342, -0.0057,  0.0137,  0.0591, -0.0153,\n",
            "         0.0177, -0.0117, -0.0355, -0.0449,  0.0019, -0.0449, -0.0305,  0.0373,\n",
            "         0.0213,  0.0130, -0.0352, -0.0150,  0.0290,  0.0276,  0.0110, -0.0172,\n",
            "         0.0781, -0.0235,  0.0141,  0.0123,  0.0307,  0.0362,  0.0248,  0.0172,\n",
            "         0.0235, -0.0320, -0.0258,  0.0266,  0.0280,  0.0046,  0.0474,  0.0117,\n",
            "        -0.0039,  0.0557, -0.0095], requires_grad=True), Parameter containing:\n",
            "tensor([[-7.3709e-02, -2.1438e-02, -6.4431e-05, -2.7444e-02, -1.2594e-02,\n",
            "          8.0888e-02,  6.0898e-02,  3.8130e-02,  4.3041e-02,  6.5940e-02,\n",
            "          9.6114e-02, -3.7334e-02, -4.7074e-02, -1.3846e-02,  2.4633e-02,\n",
            "          6.0296e-02,  6.0143e-02,  1.6136e-02,  3.1762e-02, -2.6583e-02,\n",
            "         -1.1834e-02, -3.2670e-02, -8.4039e-03,  4.3846e-03,  4.0171e-02,\n",
            "         -1.3562e-03, -5.7794e-03,  2.0973e-04, -6.8720e-02,  5.3589e-02,\n",
            "          3.8295e-02,  8.3566e-02, -3.5092e-02, -2.2160e-02,  8.3619e-02,\n",
            "          8.5894e-02,  5.0959e-02,  8.2967e-02, -2.5391e-02, -8.5443e-02,\n",
            "          6.5745e-02, -3.1645e-02,  1.4596e-02,  6.9848e-02, -5.5880e-02,\n",
            "         -7.5681e-02,  8.6976e-02,  5.9229e-03,  4.5596e-02, -1.1625e-01,\n",
            "          7.3249e-02,  6.8370e-02,  7.6348e-02, -9.1260e-02,  1.0859e-02,\n",
            "          6.5647e-02,  9.4852e-02, -3.6371e-03, -2.4497e-02,  8.5031e-02,\n",
            "         -7.2196e-02,  5.4511e-02,  2.6709e-02, -1.9336e-02,  3.3748e-04,\n",
            "          8.7648e-03,  4.4611e-02,  6.4730e-02, -2.8120e-02, -9.5698e-02,\n",
            "          1.3486e-02, -6.0996e-03,  3.0728e-02,  5.6794e-02,  2.0324e-02,\n",
            "          4.0747e-02, -5.6477e-02, -4.4970e-02,  4.6328e-02, -4.7795e-02,\n",
            "          7.6150e-02,  2.6350e-03, -5.0623e-02, -9.4828e-02,  3.8840e-02,\n",
            "         -1.9090e-02, -3.8179e-02,  8.5044e-02,  4.6586e-02,  2.9396e-02,\n",
            "         -2.2283e-02, -7.5266e-02,  5.2026e-02,  4.6046e-02, -3.7646e-02,\n",
            "         -4.6457e-02,  6.3984e-02, -2.8759e-02, -2.8312e-02, -9.4869e-02,\n",
            "         -3.9869e-02,  3.6703e-02, -2.5429e-02,  1.8372e-02,  5.4834e-02,\n",
            "          5.3060e-02, -2.6455e-02, -2.5336e-02, -1.4123e-02, -7.5873e-02,\n",
            "          6.6845e-02,  1.4291e-02,  7.0548e-02,  4.3344e-02,  1.5468e-02]],\n",
            "       requires_grad=True), Parameter containing:\n",
            "tensor([0.0997], requires_grad=True)]\n"
          ]
        }
      ],
      "source": [
        "print(list(net_loaded.parameters()))"
      ]
    },
    {
      "cell_type": "code",
      "execution_count": null,
      "metadata": {
        "colab": {
          "base_uri": "https://localhost:8080/"
        },
        "id": "InGW0Xq6UZip",
        "outputId": "6c4a0e2c-b485-4362-b99d-7364dcf9443a"
      },
      "outputs": [
        {
          "data": {
            "text/plain": [
              "tensor([[ 1.1435e+01,  1.4148e+01,  8.5732e+00,  9.9025e-01,  1.7148e+01,\n",
              "          5.2375e-01,  7.0370e-02,  3.8866e-01],\n",
              "        [ 5.8814e+00,  1.4977e+00,  9.0954e-01,  2.1371e+00,  2.6302e+00,\n",
              "          2.9788e-01,  3.4553e-01,  7.5065e-01],\n",
              "        [ 3.9591e+00,  5.4768e+00,  1.9761e+00,  5.4242e+00,  6.9450e+00,\n",
              "          5.7099e-01,  1.4765e-01,  8.7026e-01],\n",
              "        [ 9.3592e-01,  1.2397e+00,  1.4618e+00,  1.2603e+00,  3.2958e+00,\n",
              "          5.7399e-01,  3.8071e-01,  9.3212e-01],\n",
              "        [ 6.2878e+00,  8.6825e-01,  7.2563e+00,  9.9838e+00,  1.0024e+01,\n",
              "          4.4422e-02,  7.3755e-01,  6.0249e-01],\n",
              "        [ 6.8658e+00,  1.1803e+01,  6.1274e+00,  1.0001e+01,  1.4916e+01,\n",
              "          4.5327e-01,  8.7428e-01,  4.7838e-01],\n",
              "        [ 6.7819e-01,  3.0525e+00,  6.5169e-01,  3.9439e+00,  6.1353e+00,\n",
              "          9.9001e-01,  9.2942e-01,  4.1098e-01],\n",
              "        [ 1.8500e+00, -5.1245e-01,  4.8479e-02,  8.2167e-01,  7.0754e-03,\n",
              "          2.2672e-01,  1.1351e-01,  4.2200e-01],\n",
              "        [ 1.3661e+00,  3.4237e+00,  3.3849e-01,  8.8188e-01,  4.2506e+00,\n",
              "          4.7325e-01,  5.3461e-01,  1.5171e-01],\n",
              "        [ 7.4263e+00,  3.2738e-01,  6.0230e-01,  8.2047e+00,  6.6392e+00,\n",
              "          7.8854e-02,  4.1357e-01,  6.2862e-01],\n",
              "        [ 9.9317e+00,  4.2925e+00,  1.1117e+01,  1.5566e+01,  2.2768e+01,\n",
              "          9.6739e-01,  9.6480e-01,  4.1917e-01],\n",
              "        [ 8.0347e+00,  1.3758e+00,  7.7754e+00,  3.1030e-01,  4.7379e+00,\n",
              "          4.0758e-01,  6.0461e-01,  1.1490e-01],\n",
              "        [ 1.6829e+01,  4.5967e+01,  4.3739e+01,  2.9696e+01,  6.2323e+01,\n",
              "          3.0473e-02,  8.0980e-01,  2.0258e-01],\n",
              "        [ 5.8007e+00,  6.8358e+00,  1.6322e+00,  7.7654e+00,  1.0126e+01,\n",
              "          7.4757e-02,  7.5347e-01,  8.7890e-01],\n",
              "        [ 6.4742e+00,  2.9389e+00,  4.1957e+00,  2.6382e+00,  1.1692e+01,\n",
              "          7.4453e-02,  6.5530e-01,  2.3367e-01],\n",
              "        [ 3.8748e+00,  1.5105e+00,  3.6920e+00,  6.1300e+00,  5.9509e+00,\n",
              "          3.7330e-01,  3.7783e-01,  6.0810e-01],\n",
              "        [ 2.4019e+01,  8.4313e+01,  8.0537e+01,  7.1995e+01,  1.2030e+02,\n",
              "          1.8452e-01,  3.1739e-01,  3.9023e-01],\n",
              "        [ 8.6704e+00,  1.1741e+01,  1.2893e+01,  7.5493e+00,  1.7987e+01,\n",
              "          1.2889e-01,  1.0950e-01,  5.8296e-01],\n",
              "        [ 5.0471e+00,  2.2940e+00, -5.5943e-01,  3.9510e+00,  4.1333e+00,\n",
              "          2.3631e-01,  3.0903e-01,  7.2881e-01],\n",
              "        [ 3.1827e+00, -3.0900e-01,  1.1638e-01,  1.9470e+00,  1.7056e+00,\n",
              "          4.0721e-01,  5.8865e-01,  5.1712e-01]])"
            ]
          },
          "execution_count": 193,
          "metadata": {},
          "output_type": "execute_result"
        }
      ],
      "source": [
        "rho_example, epsilon_example, vx_example, vy_example, vz_example, Bx_example, By_example, Bz_example, b0_example, b1_example, b2_example, b3_example = sample_primitive_variables(20)\n",
        "\n",
        "# Create arbitrary input\n",
        "inputs =  generate_input_data(rho_example, epsilon_example, vx_example, vy_example, vz_example, Bx_example, By_example, Bz_example, b0_example, b1_example, b2_example, b3_example)\n",
        "inputs"
      ]
    },
    {
      "cell_type": "code",
      "execution_count": null,
      "metadata": {
        "colab": {
          "base_uri": "https://localhost:8080/"
        },
        "id": "QVa1upmFUZip",
        "outputId": "95a297df-88d8-4614-ffd7-ecc0cda58cf9"
      },
      "outputs": [
        {
          "data": {
            "text/plain": [
              "[tensor([[6.6265]], grad_fn=<ReluBackward0>),\n",
              " tensor([[0.7788]], grad_fn=<ReluBackward0>),\n",
              " tensor([[0.9524]], grad_fn=<ReluBackward0>),\n",
              " tensor([[0.4490]], grad_fn=<ReluBackward0>),\n",
              " tensor([[1.4526]], grad_fn=<ReluBackward0>),\n",
              " tensor([[2.6437]], grad_fn=<ReluBackward0>),\n",
              " tensor([[0.5227]], grad_fn=<ReluBackward0>),\n",
              " tensor([[0.1391]], grad_fn=<ReluBackward0>),\n",
              " tensor([[1.3137]], grad_fn=<ReluBackward0>),\n",
              " tensor([[1.9095]], grad_fn=<ReluBackward0>),\n",
              " tensor([[8.4305]], grad_fn=<ReluBackward0>),\n",
              " tensor([[0.7568]], grad_fn=<ReluBackward0>),\n",
              " tensor([[7.7895]], grad_fn=<ReluBackward0>),\n",
              " tensor([[2.6517]], grad_fn=<ReluBackward0>),\n",
              " tensor([[6.6948]], grad_fn=<ReluBackward0>),\n",
              " tensor([[0.6842]], grad_fn=<ReluBackward0>),\n",
              " tensor([[5.7162]], grad_fn=<ReluBackward0>),\n",
              " tensor([[5.0536]], grad_fn=<ReluBackward0>),\n",
              " tensor([[1.2666]], grad_fn=<ReluBackward0>),\n",
              " tensor([[0.3427]], grad_fn=<ReluBackward0>)]"
            ]
          },
          "execution_count": 194,
          "metadata": {},
          "output_type": "execute_result"
        }
      ],
      "source": [
        "#%%script echo skipping\n",
        "\n",
        "# Pass the inputs to the network and get the outputs\n",
        "outputs = [net(input.unsqueeze(0)) for input in inputs]\n",
        "# Print the outputs\n",
        "outputs"
      ]
    },
    {
      "cell_type": "code",
      "execution_count": null,
      "metadata": {
        "colab": {
          "base_uri": "https://localhost:8080/"
        },
        "id": "E-Xjfo7VUZir",
        "outputId": "fb0478cb-bee3-429f-fdec-d99f11baf40f"
      },
      "outputs": [
        {
          "data": {
            "text/plain": [
              "[tensor([[6.6265]], grad_fn=<ReluBackward0>),\n",
              " tensor([[0.7788]], grad_fn=<ReluBackward0>),\n",
              " tensor([[0.9524]], grad_fn=<ReluBackward0>),\n",
              " tensor([[0.4490]], grad_fn=<ReluBackward0>),\n",
              " tensor([[1.4526]], grad_fn=<ReluBackward0>),\n",
              " tensor([[2.6437]], grad_fn=<ReluBackward0>),\n",
              " tensor([[0.5227]], grad_fn=<ReluBackward0>),\n",
              " tensor([[0.1391]], grad_fn=<ReluBackward0>),\n",
              " tensor([[1.3137]], grad_fn=<ReluBackward0>),\n",
              " tensor([[1.9095]], grad_fn=<ReluBackward0>),\n",
              " tensor([[8.4305]], grad_fn=<ReluBackward0>),\n",
              " tensor([[0.7568]], grad_fn=<ReluBackward0>),\n",
              " tensor([[7.7895]], grad_fn=<ReluBackward0>),\n",
              " tensor([[2.6517]], grad_fn=<ReluBackward0>),\n",
              " tensor([[6.6948]], grad_fn=<ReluBackward0>),\n",
              " tensor([[0.6842]], grad_fn=<ReluBackward0>),\n",
              " tensor([[5.7162]], grad_fn=<ReluBackward0>),\n",
              " tensor([[5.0536]], grad_fn=<ReluBackward0>),\n",
              " tensor([[1.2666]], grad_fn=<ReluBackward0>),\n",
              " tensor([[0.3427]], grad_fn=<ReluBackward0>)]"
            ]
          },
          "execution_count": 195,
          "metadata": {},
          "output_type": "execute_result"
        }
      ],
      "source": [
        "\n",
        "# Pass the inputs to the network and get the outputs\n",
        "outputs = [net_loaded(input.unsqueeze(0)) for input in inputs]\n",
        "# Print the outputs\n",
        "outputs"
      ]
    },
    {
      "attachments": {},
      "cell_type": "markdown",
      "metadata": {
        "id": "xjpIvdybUZis"
      },
      "source": [
        "## Porting the model to C++"
      ]
    },
    {
      "cell_type": "code",
      "execution_count": null,
      "metadata": {
        "colab": {
          "base_uri": "https://localhost:8080/"
        },
        "id": "VMlEd4RoUZis",
        "outputId": "d5bfc697-8c96-47bb-a08c-6fb26f463797"
      },
      "outputs": [
        {
          "data": {
            "text/plain": [
              "Net(\n",
              "  (hidden_activation): ReLU()\n",
              "  (output_activation): ReLU()\n",
              "  (layers): ModuleList(\n",
              "    (0): Linear(in_features=8, out_features=555, bias=True)\n",
              "    (1): Linear(in_features=555, out_features=458, bias=True)\n",
              "    (2): Linear(in_features=458, out_features=115, bias=True)\n",
              "    (3): Linear(in_features=115, out_features=1, bias=True)\n",
              "  )\n",
              ")"
            ]
          },
          "execution_count": 196,
          "metadata": {},
          "output_type": "execute_result"
        },
        {
          "name": "stdout",
          "output_type": "stream",
          "text": [
            "input shape:  torch.Size([1, 8])\n",
            "input:  tensor([[13.2018, 25.5709, 17.6590, 22.5103, 30.6095,  0.5260,  0.3855,  0.5027]])\n",
            "Output: tensor([[2.1596]], grad_fn=<ReluBackward0>)\n"
          ]
        },
        {
          "name": "stderr",
          "output_type": "stream",
          "text": [
            "C:\\Users\\bvptr\\AppData\\Local\\Temp\\ipykernel_16796\\2739891698.py:53: TracerWarning: Converting a tensor to a Python boolean might cause the trace to be incorrect. We can't record the data flow of Python values, so this value will be treated as a constant in the future. This means that the trace might not generalize to other inputs!\n",
            "  assert x.shape[1] == 8, \"x must have shape (batch_size, 8)\"\n"
          ]
        }
      ],
      "source": [
        "import torch.jit\n",
        "\n",
        "# Creating a dummy input tensor of shape (1, 5) to trace the model\n",
        "dummy_input = torch.randn(1, 8).to(device)\n",
        "\n",
        "# Ensure that net_loaded is in evaluation mode.\n",
        "net_loaded.eval()\n",
        "\n",
        "# Tracing the model using the torch.jit.trace function\n",
        "traced_model = torch.jit.trace(net_loaded, dummy_input)\n",
        "\n",
        "# Saving the traced model to a file named \"net.pt\"\n",
        "traced_model.save(\"net.pt\")\n",
        "save_file(\"net.pt\")\n",
        "\n",
        "example_input_to_validate_correct_export_and_import = generate_input_data(*sample_primitive_variables(1))\n",
        "print(\"input shape: \", example_input_to_validate_correct_export_and_import.shape)\n",
        "print(\"input: \", example_input_to_validate_correct_export_and_import)\n",
        "print(\"Output:\", net_loaded(example_input_to_validate_correct_export_and_import))"
      ]
    }
  ],
  "metadata": {
    "accelerator": "GPU",
    "colab": {
      "gpuType": "T4",
      "provenance": [],
      "toc_visible": true
    },
    "gpuClass": "standard",
    "kernelspec": {
      "display_name": "bsc",
      "language": "python",
      "name": "python3"
    },
    "language_info": {
      "codemirror_mode": {
        "name": "ipython",
        "version": 3
      },
      "file_extension": ".py",
      "mimetype": "text/x-python",
      "name": "python",
      "nbconvert_exporter": "python",
      "pygments_lexer": "ipython3",
      "version": "3.11.3"
    },
    "orig_nbformat": 4
  },
  "nbformat": 4,
  "nbformat_minor": 0
}
