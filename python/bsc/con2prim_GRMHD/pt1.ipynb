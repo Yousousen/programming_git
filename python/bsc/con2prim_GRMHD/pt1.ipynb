{
  "cells": [
    {
      "attachments": {},
      "cell_type": "markdown",
      "metadata": {
        "id": "TPvB1xoSUZhR"
      },
      "source": [
        "# Neural network to learn conservative-to-primitive conversion in relativistic hydrodynamics"
      ]
    },
    {
      "attachments": {},
      "cell_type": "markdown",
      "metadata": {},
      "source": [
        "## How to use this notebook\n",
        "\n",
        "### Local installation\n",
        "\n",
        "1. Install required packages with `pip install -r requirements.txt` to your desired environment.\n",
        "2. If a script version of this notebook is desired, comment (not uncomment) the first line of `nbconvert` cell.\n",
        "\n",
        "### Colab installation\n",
        "\n",
        "1.  Comment (not uncomment) the first line of the drive mounting cell.\n",
        "2.  Comment (not uncomment) the first line of the `pip install` cell.\n",
        "\n",
        "<!-- - For colab we also want to set the runtime to GPU by clicking _Change runtime_ in the _Runtime_ menu, and -->\n",
        "<!-- - We want to wait for the google drive connection popup to appear and follow the instructions. -->\n",
        "\n",
        "### Training without optimization\n",
        "\n",
        "3. Set `OPTIMIZE = False` in section _Constants and flags to set_.\n",
        "4. Run the entire notebook.\n",
        "\n",
        "### Training with optimization\n",
        "\n",
        "3. Set `OPTIMIZE = True` in section _Constants and flags to set_.\n",
        "4. Run the entire notebook.\n",
        "\n",
        "### Loading an already trained model\n",
        "\n",
        "3. Run cells in section _Initialization_.\n",
        "4. Run cells with definitions in section _Generating the data_.\n",
        "5. Run cell with the definition of _Net_ in section _Defining the neural network_.\n",
        "6. Make sure the `net.pth`, `optimizer.pth`, `scheduler.pth`, `var_dict.json` and `train_output.csv` files are in the directory containing this notebook.\n",
        "7. Run the cells in section _Loading_ and continue from there.\n",
        "\n",
        "### Generating the C++ model\n",
        "\n",
        "8. Run section _Porting the model to C++_, this requires a model to be loaded.\n",
        "9. Set the path to the `net.pt` file in the C++ source file.\n",
        "10. `mkdir build && cd build`,\n",
        "11. Configure a `CMakeLists.txt` file as is done [here](https://pytorch.org/cppdocs/installing.html).\n",
        "12. `cmake -DCMAKE_PREFIX_PATH=/path/to/libtorch/ ..`,\n",
        "13. Compile and run, e.g. `cmake --build . --config release && ./<executable name>`"
      ]
    },
    {
      "attachments": {},
      "cell_type": "markdown",
      "metadata": {},
      "source": [
        "## Initialization"
      ]
    },
    {
      "attachments": {},
      "cell_type": "markdown",
      "metadata": {},
      "source": [
        "\n",
        "Use this first cell to **convert this notebook** to a python script."
      ]
    },
    {
      "cell_type": "code",
      "execution_count": 1,
      "metadata": {
        "colab": {
          "base_uri": "https://localhost:8080/"
        },
        "id": "eqdgdNLHUZhV",
        "outputId": "30907b9d-56c3-44d7-cd43-6387a991a46a",
        "tags": [
          "remove_cell"
        ]
      },
      "outputs": [
        {
          "name": "stdout",
          "output_type": "stream",
          "text": [
            "skipping\n"
          ]
        }
      ],
      "source": [
        "%%script echo skipping\n",
        "\n",
        "!jupyter nbconvert pt1.ipynb --TagRemovePreprocessor.enabled=True --TagRemovePreprocessor.remove_cell_tags='{\"remove_cell\"}' --to script"
      ]
    },
    {
      "attachments": {},
      "cell_type": "markdown",
      "metadata": {
        "id": "nzcUr0LnUZhw"
      },
      "source": [
        "Next some cells for working on **google colab**,"
      ]
    },
    {
      "cell_type": "code",
      "execution_count": 2,
      "metadata": {},
      "outputs": [],
      "source": [
        "import os\n",
        "import shutil\n",
        "\n",
        "# check if the drive is mounted\n",
        "drive_mounted = os.path.exists(\"/content/drive\")\n",
        "# change this to your desired folder\n",
        "drive_folder = \"/content/drive/My Drive/bsc/con2prim_towards_GRMHD/\"\n",
        "\n",
        "# define a function to save a file to the drive or the current directory\n",
        "def save_file(file_name):\n",
        "  if drive_mounted:\n",
        "    # save the file to the drive folder\n",
        "    file_path = os.path.join(drive_folder, file_name)\n",
        "    # copy the file from the current directory to the drive folder\n",
        "    shutil.copyfile(file_name, file_path)\n",
        "  else:\n",
        "    # do nothing as the file is already in the current directory\n",
        "    pass\n"
      ]
    },
    {
      "cell_type": "code",
      "execution_count": 3,
      "metadata": {
        "colab": {
          "base_uri": "https://localhost:8080/"
        },
        "id": "ecHw2_xlUZhx",
        "outputId": "462a57cd-ee19-4961-d3aa-ff2407b2bde0"
      },
      "outputs": [
        {
          "name": "stdout",
          "output_type": "stream",
          "text": [
            "skipping\n"
          ]
        }
      ],
      "source": [
        "%%script echo skipping\n",
        "\n",
        "from google.colab import drive\n",
        "drive.mount('/content/drive')"
      ]
    },
    {
      "cell_type": "code",
      "execution_count": 4,
      "metadata": {
        "colab": {
          "base_uri": "https://localhost:8080/"
        },
        "id": "T1rcStMLUZhy",
        "outputId": "7ea7311f-f054-4a29-d0ff-12849095ab6e"
      },
      "outputs": [
        {
          "name": "stdout",
          "output_type": "stream",
          "text": [
            "skipping\n"
          ]
        }
      ],
      "source": [
        "%%script echo skipping\n",
        "\n",
        "!pip install optuna tensorboard tensorboardX"
      ]
    },
    {
      "attachments": {},
      "cell_type": "markdown",
      "metadata": {},
      "source": [
        "Importing the **libraries** and setting the **device**,"
      ]
    },
    {
      "cell_type": "code",
      "execution_count": 5,
      "metadata": {
        "id": "tREdWQUVUZhz"
      },
      "outputs": [],
      "source": [
        "import numpy as np\n",
        "import matplotlib.pyplot as plt\n",
        "import torch\n",
        "import torch.nn as nn\n",
        "import torch.optim as optim\n",
        "import torch.nn.functional as F\n",
        "import optuna\n",
        "import tensorboardX as tbx\n",
        "\n",
        "# Checking if GPU is available and setting the device accordingly\n",
        "device = torch.device(\"cuda\" if torch.cuda.is_available() else \"cpu\")\n"
      ]
    },
    {
      "attachments": {},
      "cell_type": "markdown",
      "metadata": {
        "id": "38GvmerjUZhz"
      },
      "source": [
        "### Constants and flags to set\n",
        "Defining some constants and parameters for convenience.\n",
        "\n",
        "**NOTE**: Some **subparameters** still need to be adjusted in the `create_model` function itself as of (Tue May 16 07:42:45 AM CEST 2023) in the case the model is being trained without optimization."
      ]
    },
    {
      "cell_type": "code",
      "execution_count": 6,
      "metadata": {
        "id": "ei6VZDYKUZh0"
      },
      "outputs": [],
      "source": [
        "\n",
        "N_TRIALS = 150 # Number of trials for hyperparameter optimization\n",
        "OPTIMIZE = False # Whether to optimize the hyperparameters or to use predetermined values from Dieseldorst et al..\n",
        "ZSCORE_NORMALIZATION = False # Whether to z-score normalize the input data.\n",
        "\n",
        "# I try out here the values as obtained in Optuna run 5, but I will increase the number of epochs.\n",
        "# N_LAYERS_NO_OPT = 3\n",
        "# N_UNITS_NO_OPT = [78, 193, 99]\n",
        "# HIDDEN_ACTIVATION_NAME_NO_OPT = \"ReLU\"\n",
        "# OUTPUT_ACTIVATION_NAME_NO_OPT = \"Linear\"\n",
        "# LOSS_NAME_NO_OPT = \"MSE\"\n",
        "# OPTIMIZER_NAME_NO_OPT = \"Adam\"\n",
        "# LR_NO_OPT = 0.00036516467819506355\n",
        "# BATCH_SIZE_NO_OPT = 170\n",
        "# N_EPOCHS_NO_OPT = 400\n",
        "# SCHEDULER_NAME_NO_OPT = \"ReduceLROnPlateau\"\n",
        "\n",
        "N_LAYERS_NO_OPT = 3\n",
        "N_UNITS_NO_OPT = [555, 458, 115]\n",
        "HIDDEN_ACTIVATION_NAME_NO_OPT = \"ReLU\"\n",
        "OUTPUT_ACTIVATION_NAME_NO_OPT = \"ReLU\"\n",
        "LOSS_NAME_NO_OPT = \"Huber\"\n",
        "OPTIMIZER_NAME_NO_OPT = \"RMSprop\"\n",
        "LR_NO_OPT = 0.000122770896701404\n",
        "BATCH_SIZE_NO_OPT = 49\n",
        "N_EPOCHS_NO_OPT = 10\n",
        "SCHEDULER_NAME_NO_OPT = \"ReduceLROnPlateau\"\n",
        "\n",
        "c = 1  # Speed of light (used in compute_conserved_variables and sample_primitive_variables functions)\n",
        "Gamma = 5 / 3  # Adiabatic index (used in eos_analytic function)\n",
        "gamma_det = 1 # Determinant of gamma_ij.\n",
        "alpha = 1 # Lapse function.\n",
        "n_train_samples = 80000 # Number of training samples (used in generate_input_data and generate_labels functions)\n",
        "n_test_samples = 10000 # Number of test samples (used in generate_input_data and generate_labels functions)\n",
        "# TODO: Make the intervals correspond to something that works in GR in general, for right now (Sun May 21 06:02:10 PM CEST 2023) the intervals are a mix of Dieselhorst et al., the minimum to maximum speed and dummy intervals.\n",
        "rho_interval = (0, 10.1) # Sampling interval for rest-mass density (used in sample_primitive_variables function)\n",
        "epsilon_interval = (0, 2.02) # Sampling interval for specific internal energy (used in sample_primitive_variables function)\n",
        "vx_interval = (0, .57 * c) # Sampling interval for velocity in x-direction (used in sample_primitive_variables function)\n",
        "vy_interval = (0, .57 * c) # Sampling interval for velocity in y-direction (used in sample_primitive_variables function)\n",
        "vz_interval = (0, .57 * c) # Sampling interval for velocity in z-direction (used in sample_primitive_variables function)\n",
        "# TODO: Choose proper sampling intervals for the magnetic fields in all directions.\n",
        "Bx_interval = (0, 1) # Sampling interval for magnetic field in x-direction (used in sample_primitive_variables function)\n",
        "By_interval = (0, 1) # Sampling interval for magnetic field in y-direction (used in sample_primitive_variables function)\n",
        "Bz_interval = (0, 1) # Sampling interval for magnetic field in z-direction (used in sample_primitive_variables function)\n",
        "b0_interval = (0, 1)\n",
        "b1_interval = (0, 1)\n",
        "b2_interval = (0, 1)\n",
        "b3_interval = (0, 1)\n",
        "\n",
        "np.random.seed(42) # Uncomment for pseudorandom data.\n"
      ]
    },
    {
      "cell_type": "markdown",
      "metadata": {
        "id": "dlaP5UL2UZh1"
      },
      "source": [
        "## Generating the data"
      ]
    },
    {
      "cell_type": "code",
      "execution_count": 7,
      "metadata": {
        "id": "s_EvGFZcUZh1"
      },
      "outputs": [],
      "source": [
        "# Defining an analytic equation of state (EOS) for an ideal gas\n",
        "def eos_analytic(rho, epsilon):\n",
        "    \"\"\"Computes the pressure from rest-mass density and specific internal energy using an analytic EOS.\n",
        "\n",
        "    Args:\n",
        "        rho (torch.Tensor): The rest-mass density tensor of shape (n_samples,).\n",
        "        epsilon (torch.Tensor): The specific internal energy tensor of shape (n_samples,).\n",
        "\n",
        "    Returns:\n",
        "        torch.Tensor: The pressure tensor of shape (n_samples,).\n",
        "    \"\"\"\n",
        "    # Adding some assertions to check that the input tensors are valid and have \n",
        "    # the expected shape and type \n",
        "    assert isinstance(rho, torch.Tensor), \"rho must be a torch.Tensor\"\n",
        "    assert isinstance(epsilon, torch.Tensor), \"epsilon must be a torch.Tensor\"\n",
        "    assert rho.shape == epsilon.shape, \"rho and epsilon must have the same shape\"\n",
        "    assert rho.ndim == 1, \"rho and epsilon must be one-dimensional tensors\"\n",
        "    assert rho.dtype == torch.float32, \"rho and epsilon must have dtype torch.float32\"\n",
        "\n",
        "    return (Gamma - 1) * rho * epsilon\n",
        "\n",
        "\n",
        "\n",
        "# Defining a function that samples primitive variables from uniform distributions\n",
        "def sample_primitive_variables(n_samples):\n",
        "    \"\"\"Samples primitive variables from uniform distributions.\n",
        "\n",
        "    Args:\n",
        "        n_samples (int): The number of samples to generate.\n",
        "\n",
        "    Returns:\n",
        "        tuple: A tuple of (rho, epsilon, vx, vy, vz, Bx, By, Bz, b0, b1, b2, b3), where rho is rest-mass density,\n",
        "            rho is the rest mass density,\n",
        "            epsilon is specific internal energy,\n",
        "            vx is velocity in x-direction,\n",
        "            vy is velocity in y-direction,\n",
        "            vz is velocity in z-direction,\n",
        "            Bx is magnetic field in x-direction,\n",
        "            By is magnetic field in y-direction,\n",
        "            Bz is magnetic field in z-direction,\n",
        "            TODO:\n",
        "            b0\n",
        "            b1\n",
        "            b2\n",
        "            b3\n",
        "            each being a numpy array of shape (n_samples,).\n",
        "    \"\"\"\n",
        "    rho = np.random.uniform(*rho_interval, size=n_samples)  # Rest-mass density\n",
        "    epsilon = np.random.uniform(*epsilon_interval, size=n_samples)  # Specific internal energy\n",
        "    vx = np.random.uniform(*vx_interval, size=n_samples)  # Velocity in x-direction\n",
        "    vy = np.random.uniform(*vy_interval, size=n_samples)  # Velocity in y-direction\n",
        "    vz = np.random.uniform(*vz_interval, size=n_samples)  # Velocity in z-direction \n",
        "    Bx = np.random.uniform(*Bx_interval, size=n_samples)  # Magnetic field in x-direction\n",
        "    By = np.random.uniform(*By_interval, size=n_samples)  # Magnetic field in y-direction\n",
        "    Bz = np.random.uniform(*Bz_interval, size=n_samples)  # Magnetic field in z-direction \n",
        "    b0 = np.random.uniform(*b0_interval, size=n_samples)\n",
        "    b1 = np.random.uniform(*b1_interval, size=n_samples)\n",
        "    b2 = np.random.uniform(*b2_interval, size=n_samples)\n",
        "    b3 = np.random.uniform(*b3_interval, size=n_samples)\n",
        "\n",
        "    return rho, epsilon, vx, vy, vz, Bx, By, Bz, b0, b1, b2, b3\n",
        "\n",
        "\n",
        "\n",
        "\n",
        "# Defining a function that computes conserved variables from primitive variables\n",
        "def compute_conserved_variables(rho, epsilon, vx, vy, vz, Bx, By, Bz, b0, b1, b2, b3):\n",
        "    \"\"\"Computes conserved variables from primitive variables.\n",
        "\n",
        "    Args:\n",
        "        rho (torch.Tensor): The rest-mass density tensor of shape (n_samples,).\n",
        "        epsilon (torch.Tensor): The specific internal energy tensor of shape (n_samples,).\n",
        "        vx (torch.Tensor): The velocity in x-direction tensor of shape (n_samples,)\n",
        "        vy (torch.Tensor): The velocity in y-direction tensor of shape (n_samples,)\n",
        "        vz (torch.Tensor): The velocity in z-direction tensor of shape (n_samples,)\n",
        "        Bx (torch.Tensor): The magnetic field in x-direction tensor of shape (n_samples,)\n",
        "        By (torch.Tensor): The magnetic field in y-direction tensor of shape (n_samples,)\n",
        "        Bz (torch.Tensor): The magnetic field in z-direction tensor of shape (n_samples,)\n",
        "        TODO:\n",
        "        b0\n",
        "        b1\n",
        "        b2\n",
        "        b3\n",
        "\n",
        "    Returns:\n",
        "        tuple: A tuple of (D, Sx, Sy, Sz, tau, Bscriptx, Bscripty, Bscriptz), where\n",
        "            D is conserved density,\n",
        "            Sx is conserved momentum in x-direction,\n",
        "            Sy is conserved momentum in y-direction,\n",
        "            Sz is conserved momentum in z-direction,\n",
        "            tau is conserved energy density,\n",
        "            Bscriptx is conserved magnetic field in x-direction,\n",
        "            Bscripty is conserved magnetic field in y-direction,\n",
        "            Bscriptz is conserved magnetic field in z-direction,\n",
        "            each being a torch tensor of shape (n_samples,).\n",
        "    \"\"\"\n",
        "\n",
        "    p = eos_analytic(rho, epsilon)\n",
        "    v2 = vx ** 2 + vy ** 2 + vz ** 2\n",
        "    W = 1 / torch.sqrt(1 - v2 / c ** 2)\n",
        "    h_star = 1 + epsilon + (p + Bx ** 2 + By ** 2 + Bz ** 2) / rho\n",
        "\n",
        "    D = gamma_det ** 0.5 * rho * W\n",
        "    Sx = gamma_det ** 0.5 * (rho * h_star * W ** 2 * vx - alpha * b0 * b1)\n",
        "    Sy = gamma_det ** 0.5 * (rho * h_star * W ** 2 * vy - alpha * b0 * b2)\n",
        "    Sz = gamma_det ** 0.5 * (rho * h_star * W ** 2 * vz - alpha * b0 * b3)\n",
        "    tau = gamma_det ** 0.5 * (rho * h_star * W ** 2 - p - (alpha * b0) ** 2) - D\n",
        "    Bscriptx = gamma_det ** 0.5 * Bx\n",
        "    Bscripty = gamma_det ** 0.5 * By\n",
        "    Bscriptz = gamma_det ** 0.5 * Bz\n",
        "\n",
        "    return D, Sx, Sy, Sz, tau, Bscriptx, Bscripty, Bscriptz\n",
        "\n",
        "\n",
        "# Defining a function that generates input data (conserved variables) from given samples of primitive variables\n",
        "def generate_input_data(rho, epsilon, vx, vy, vz, Bx, By, Bz, b0, b1, b2, b3):\n",
        "    # Converting the numpy arrays to torch tensors and moving them to the device\n",
        "    rho = torch.tensor(rho, dtype=torch.float32).to(device)\n",
        "    epsilon = torch.tensor(epsilon, dtype=torch.float32).to(device)\n",
        "    vx = torch.tensor(vx, dtype=torch.float32).to(device)\n",
        "    vy = torch.tensor(vy, dtype=torch.float32).to(device)\n",
        "    vz = torch.tensor(vz, dtype=torch.float32).to(device)\n",
        "    Bx = torch.tensor(Bx, dtype=torch.float32).to(device)\n",
        "    By = torch.tensor(By, dtype=torch.float32).to(device)\n",
        "    Bz = torch.tensor(Bz, dtype=torch.float32).to(device)\n",
        "    b0 = torch.tensor(b0, dtype=torch.float32).to(device)\n",
        "    b1 = torch.tensor(b1, dtype=torch.float32).to(device)\n",
        "    b2 = torch.tensor(b2, dtype=torch.float32).to(device)\n",
        "    b3 = torch.tensor(b3, dtype=torch.float32).to(device)\n",
        "\n",
        "    # Computing the conserved variables using the compute_conserved_variables function\n",
        "    D, Sx, Sy, Sz, tau, Bscriptx, Bscripty, Bscriptz = compute_conserved_variables(\n",
        "        rho, epsilon, vx, vy, vz, Bx, By, Bz, b0, b1, b2, b3\n",
        "    ) \n",
        "\n",
        "    # Stacking the conserved variables into a torch tensor\n",
        "    x = torch.stack([D, Sx, Sy, Sz, tau, Bscriptx, Bscripty, Bscriptz], axis=1)\n",
        "\n",
        "    # Returning the input data tensor\n",
        "    return x\n",
        "\n",
        "# Defining a function that generates output data (labels) from given samples of primitive variables\n",
        "def generate_labels(rho, epsilon):\n",
        "    # Converting the numpy arrays to torch tensors and moving them to the device\n",
        "    rho = torch.tensor(rho, dtype=torch.float32).to(device)\n",
        "    epsilon = torch.tensor(epsilon, dtype=torch.float32).to(device)\n",
        "   \n",
        "    # Computing the pressure from the primitive variables using the EOS\n",
        "    p = eos_analytic(rho, epsilon)\n",
        "\n",
        "    # Returning the output data tensor\n",
        "    return p\n"
      ]
    },
    {
      "cell_type": "markdown",
      "metadata": {
        "id": "_dczop2rUZh3"
      },
      "source": [
        "Sampling the primitive variables using the sample_primitive_variables function"
      ]
    },
    {
      "cell_type": "code",
      "execution_count": 8,
      "metadata": {
        "id": "cKubR6C8UZh4"
      },
      "outputs": [],
      "source": [
        "rho_train, epsilon_train, vx_train, vy_train, vz_train, Bx_train, By_train, Bz_train, b0_train, b1_train, b2_train, b3_train = sample_primitive_variables(n_train_samples)\n",
        "rho_test, epsilon_test, vx_test ,vy_test, vz_test, Bx_test, By_test, Bz_test, b0_test, b1_test, b2_test, b3_test = sample_primitive_variables(n_test_samples)\n"
      ]
    },
    {
      "cell_type": "code",
      "execution_count": 9,
      "metadata": {},
      "outputs": [
        {
          "data": {
            "text/plain": [
              "array([3.7828552 , 9.60221449, 7.39313881, ..., 3.85518754, 1.30928573,\n",
              "       9.5675983 ])"
            ]
          },
          "execution_count": 9,
          "metadata": {},
          "output_type": "execute_result"
        },
        {
          "data": {
            "text/plain": [
              "array([1.65269219, 0.29344492, 1.91185687, ..., 0.59728412, 1.60088186,\n",
              "       0.92542952])"
            ]
          },
          "execution_count": 9,
          "metadata": {},
          "output_type": "execute_result"
        },
        {
          "data": {
            "text/plain": [
              "array([0.53015873, 0.34538885, 0.19004683, ..., 0.0427437 , 0.34608123,\n",
              "       0.18076349])"
            ]
          },
          "execution_count": 9,
          "metadata": {},
          "output_type": "execute_result"
        },
        {
          "data": {
            "text/plain": [
              "array([0.04282752, 0.19716017, 0.37988219, ..., 0.47604939, 0.2403435 ,\n",
              "       0.02051602])"
            ]
          },
          "execution_count": 9,
          "metadata": {},
          "output_type": "execute_result"
        },
        {
          "data": {
            "text/plain": [
              "array([0.09635726, 0.20907248, 0.38307736, ..., 0.32808556, 0.50920368,\n",
              "       0.28638091])"
            ]
          },
          "execution_count": 9,
          "metadata": {},
          "output_type": "execute_result"
        },
        {
          "data": {
            "text/plain": [
              "array([0.88895306, 0.31571342, 0.0519097 , ..., 0.86900388, 0.00625169,\n",
              "       0.58451891])"
            ]
          },
          "execution_count": 9,
          "metadata": {},
          "output_type": "execute_result"
        },
        {
          "data": {
            "text/plain": [
              "array([0.00364109, 0.62124109, 0.76289791, ..., 0.33640291, 0.69158437,\n",
              "       0.87035141])"
            ]
          },
          "execution_count": 9,
          "metadata": {},
          "output_type": "execute_result"
        },
        {
          "data": {
            "text/plain": [
              "array([0.01966783, 0.17905959, 0.65205497, ..., 0.07297064, 0.43011168,\n",
              "       0.49227056])"
            ]
          },
          "execution_count": 9,
          "metadata": {},
          "output_type": "execute_result"
        },
        {
          "data": {
            "text/plain": [
              "array([6.8641353 , 8.1500591 , 3.01965297, ..., 7.05536872, 8.2357163 ,\n",
              "       6.58988716])"
            ]
          },
          "execution_count": 9,
          "metadata": {},
          "output_type": "execute_result"
        },
        {
          "data": {
            "text/plain": [
              "array([2.0163067 , 0.98136166, 1.19544396, ..., 1.12875002, 0.17879488,\n",
              "       1.68628795])"
            ]
          },
          "execution_count": 9,
          "metadata": {},
          "output_type": "execute_result"
        },
        {
          "data": {
            "text/plain": [
              "array([0.51817301, 0.29352575, 0.41841867, ..., 0.10411545, 0.19823693,\n",
              "       0.07580387])"
            ]
          },
          "execution_count": 9,
          "metadata": {},
          "output_type": "execute_result"
        },
        {
          "data": {
            "text/plain": [
              "array([0.15125386, 0.33771718, 0.22162832, ..., 0.23830103, 0.24434262,\n",
              "       0.52978567])"
            ]
          },
          "execution_count": 9,
          "metadata": {},
          "output_type": "execute_result"
        },
        {
          "data": {
            "text/plain": [
              "array([0.33923871, 0.20788877, 0.0030641 , ..., 0.34064551, 0.20408361,\n",
              "       0.4471135 ])"
            ]
          },
          "execution_count": 9,
          "metadata": {},
          "output_type": "execute_result"
        },
        {
          "data": {
            "text/plain": [
              "array([0.32866188, 0.612203  , 0.50219394, ..., 0.31558568, 0.5061556 ,\n",
              "       0.90504422])"
            ]
          },
          "execution_count": 9,
          "metadata": {},
          "output_type": "execute_result"
        },
        {
          "data": {
            "text/plain": [
              "array([0.5858725 , 0.36857142, 0.44595359, ..., 0.88308655, 0.17961341,\n",
              "       0.21316162])"
            ]
          },
          "execution_count": 9,
          "metadata": {},
          "output_type": "execute_result"
        },
        {
          "data": {
            "text/plain": [
              "array([0.49956068, 0.92546975, 0.07103022, ..., 0.48876233, 0.21418954,\n",
              "       0.40312097])"
            ]
          },
          "execution_count": 9,
          "metadata": {},
          "output_type": "execute_result"
        }
      ],
      "source": [
        "rho_train\n",
        "epsilon_train\n",
        "vx_train\n",
        "vy_train\n",
        "vz_train \n",
        "Bx_train\n",
        "By_train\n",
        "Bz_train\n",
        "rho_test\n",
        "epsilon_test\n",
        "vx_test \n",
        "vy_test \n",
        "vz_test \n",
        "Bx_test\n",
        "By_test\n",
        "Bz_test"
      ]
    },
    {
      "cell_type": "code",
      "execution_count": 10,
      "metadata": {
        "id": "VMp6XJ6RUZh4"
      },
      "outputs": [],
      "source": [
        "%config InteractiveShell.ast_node_interactivity = \"last_expr_or_assign\""
      ]
    },
    {
      "cell_type": "code",
      "execution_count": 11,
      "metadata": {
        "colab": {
          "base_uri": "https://localhost:8080/",
          "height": 409
        },
        "id": "E5YFdqKjUZh5",
        "outputId": "fe67d113-f369-495f-9aba-201c71058eb7"
      },
      "outputs": [
        {
          "data": {
            "image/png": "[encoded data removed]",
            "text/plain": [
              "<Figure size 1600x1200 with 12 Axes>"
            ]
          },
          "metadata": {},
          "output_type": "display_data"
        }
      ],
      "source": [
        "def plot_histogram(data, xlabel, ylabel, position, bins=20, log_scale=False):\n",
        "    plt.subplot(3, 4, position)\n",
        "    plt.hist(data, bins=bins)\n",
        "    plt.xlabel(xlabel)\n",
        "    plt.ylabel(ylabel)\n",
        "    if log_scale:\n",
        "        plt.yscale(\"log\")\n",
        "\n",
        "# Plotting the histograms of rho, vx, epsilon, b0, b1, b2, and b3\n",
        "plt.figure(figsize=(16, 12))\n",
        "\n",
        "plot_histogram(rho_train, \"rho\", \"Frequency\", 1)\n",
        "plot_histogram(epsilon_train, \"epsilon\", \"Frequency\", 2)\n",
        "plot_histogram(vx_train, \"vx\", \"Frequency\", 3)\n",
        "plot_histogram(vy_train, \"vy\", \"Frequency\", 4)\n",
        "plot_histogram(vz_train, \"vz\", \"Frequency\", 5)\n",
        "plot_histogram(Bx_train, \"Bx\", \"Frequency\", 6)\n",
        "plot_histogram(By_train, \"By\", \"Frequency\", 7)\n",
        "plot_histogram(Bz_train, \"Bz\", \"Frequency\", 8)\n",
        "plot_histogram(b0_train, \"b0\", \"Frequency\", 9)\n",
        "plot_histogram(b1_train, \"b1\", \"Frequency\", 10)\n",
        "plot_histogram(b2_train, \"b2\", \"Frequency\", 11)\n",
        "plot_histogram(b3_train, \"b3\", \"Frequency\", 12)\n",
        "\n",
        "plt.suptitle(\"Primitive variables\")\n",
        "plt.tight_layout()\n",
        "plt.show()"
      ]
    },
    {
      "cell_type": "code",
      "execution_count": 12,
      "metadata": {},
      "outputs": [],
      "source": [
        "%config InteractiveShell.ast_node_interactivity = \"all\""
      ]
    },
    {
      "cell_type": "code",
      "execution_count": 13,
      "metadata": {
        "colab": {
          "base_uri": "https://localhost:8080/"
        },
        "id": "7ubtOXVgUZh6",
        "outputId": "02dfd20b-5550-4df4-a1c9-e45c8fa0d570"
      },
      "outputs": [],
      "source": [
        "# Generating the input and output data for train and test sets.\n",
        "x_train = generate_input_data(rho_train, epsilon_train, vx_train ,vy_train, vz_train, Bx_train, By_train, Bz_train, b0_train, b1_train, b2_train, b3_train)\n",
        "y_train = generate_labels(rho_train, epsilon_train) \n",
        "x_test = generate_input_data(rho_test, epsilon_test, vx_test, vy_test, vz_test, Bx_test, By_test, Bz_test, b0_test, b1_test, b2_test, b3_test)\n",
        "y_test = generate_labels(rho_test, epsilon_test)\n"
      ]
    },
    {
      "cell_type": "code",
      "execution_count": 14,
      "metadata": {},
      "outputs": [
        {
          "data": {
            "text/plain": [
              "tensor([[ 4.4964e+00,  1.0586e+01,  4.6619e-01,  ...,  8.8895e-01,\n",
              "          3.6411e-03,  1.9668e-02],\n",
              "        [ 1.0748e+01,  6.3717e+00,  3.5929e+00,  ...,  3.1571e-01,\n",
              "          6.2124e-01,  1.7906e-01],\n",
              "        [ 9.0132e+00,  8.8825e+00,  1.7472e+01,  ...,  5.1910e-02,\n",
              "          7.6290e-01,  6.5205e-01],\n",
              "        ...,\n",
              "        [ 4.7314e+00, -1.5352e-02,  5.8593e+00,  ...,  8.6900e-01,\n",
              "          3.3640e-01,  7.2971e-02],\n",
              "        [ 1.7447e+00,  3.0696e+00,  2.1921e+00,  ...,  6.2517e-03,\n",
              "          6.9158e-01,  4.3011e-01],\n",
              "        [ 1.0171e+01,  5.1504e+00,  1.8793e-02,  ...,  5.8452e-01,\n",
              "          8.7035e-01,  4.9227e-01]])"
            ]
          },
          "execution_count": 14,
          "metadata": {},
          "output_type": "execute_result"
        },
        {
          "data": {
            "text/plain": [
              "tensor([4.1679, 1.8785, 9.4231,  ..., 1.5351, 1.3973, 5.9028])"
            ]
          },
          "execution_count": 14,
          "metadata": {},
          "output_type": "execute_result"
        },
        {
          "data": {
            "text/plain": [
              "tensor([[ 8.9097, 26.5293,  7.6217,  ...,  0.3287,  0.5859,  0.4996],\n",
              "        [ 9.3699,  8.5616,  9.9232,  ...,  0.6122,  0.3686,  0.9255],\n",
              "        [ 3.4283,  4.6305,  2.5239,  ...,  0.5022,  0.4460,  0.0710],\n",
              "        ...,\n",
              "        [ 7.8088,  2.5968,  6.2023,  ...,  0.3156,  0.8831,  0.4888],\n",
              "        [ 8.8842,  2.3666,  2.6954,  ...,  0.5062,  0.1796,  0.2142],\n",
              "        [ 9.1947,  3.8297, 26.9196,  ...,  0.9050,  0.2132,  0.4031]])"
            ]
          },
          "execution_count": 14,
          "metadata": {},
          "output_type": "execute_result"
        },
        {
          "data": {
            "text/plain": [
              "tensor([9.2268, 5.3321, 2.4066,  ..., 5.3092, 0.9817, 7.4083])"
            ]
          },
          "execution_count": 14,
          "metadata": {},
          "output_type": "execute_result"
        }
      ],
      "source": [
        "x_train\n",
        "y_train\n",
        "x_test\n",
        "y_test"
      ]
    },
    {
      "cell_type": "code",
      "execution_count": 15,
      "metadata": {},
      "outputs": [],
      "source": [
        "%config InteractiveShell.ast_node_interactivity = \"last_expr_or_assign\""
      ]
    },
    {
      "cell_type": "code",
      "execution_count": 16,
      "metadata": {},
      "outputs": [
        {
          "data": {
            "image/png": "[encoded data removed]",
            "text/plain": [
              "<Figure size 1200x1200 with 8 Axes>"
            ]
          },
          "metadata": {},
          "output_type": "display_data"
        }
      ],
      "source": [
        "# List of variable names\n",
        "variable_names = [\"rho\", \"epsilon\", \"vx\", \"vy\", \"vz\", \"Bx\", \"By\", \"Bz\"]\n",
        "\n",
        "# Note how we are only plotting train and not test here. \n",
        "# Plotting histograms of the input variables before z-score normalization\n",
        "plt.figure(figsize=(12, 12))\n",
        "plt.suptitle('Histograms of input variables before (or without at all) z-score normalization', y=1.03)\n",
        "for i in range(8):\n",
        "    plt.subplot(4, 2, i+1)\n",
        "    plt.hist(x_train[:, i].cpu(), bins=50) # Must be converted to cpu() for plotting.\n",
        "    plt.xlabel(variable_names[i])\n",
        "plt.subplots_adjust(hspace=0.4, wspace=0.4)\n",
        "plt.show()"
      ]
    },
    {
      "cell_type": "code",
      "execution_count": 17,
      "metadata": {},
      "outputs": [
        {
          "name": "stdout",
          "output_type": "stream",
          "text": [
            "Summary statistics of input variables before z-score normalization\n",
            "tensor([[ 6.4807e-05,  3.1584e+01,  6.3259e+00,  6.1947e+00,  3.8259e+00],\n",
            "        [-9.7744e-01,  2.4786e+02,  7.1219e+00,  4.0606e+00,  9.1729e+00],\n",
            "        [-9.5141e-01,  2.4376e+02,  7.1006e+00,  4.0529e+00,  9.1403e+00],\n",
            "        [-9.7074e-01,  2.4693e+02,  7.1025e+00,  4.0787e+00,  9.1179e+00],\n",
            "        [-8.8496e-01,  4.0290e+02,  1.3392e+01,  9.4784e+00,  1.3684e+01],\n",
            "        [ 2.1510e-05,  9.9999e-01,  5.0109e-01,  5.0323e-01,  2.8845e-01],\n",
            "        [ 5.1884e-07,  1.0000e+00,  5.0038e-01,  4.9942e-01,  2.8793e-01],\n",
            "        [ 5.2474e-06,  9.9999e-01,  4.9844e-01,  4.9708e-01,  2.8885e-01]])\n"
          ]
        }
      ],
      "source": [
        "# Computing summary statistics of the input variables before and after z-score normalization\n",
        "print('Summary statistics of input variables before z-score normalization')\n",
        "print(torch.stack([torch.min(x_train, dim=0).values, torch.max(x_train, dim=0).values, torch.nanmean(x_train, dim=0), torch.median(x_train, dim=0).values, torch.std(x_train, dim=0)], dim=1))"
      ]
    },
    {
      "cell_type": "markdown",
      "metadata": {
        "id": "xTEmkR1SUZh7"
      },
      "source": [
        "Perform z-score normalization"
      ]
    },
    {
      "cell_type": "code",
      "execution_count": 18,
      "metadata": {},
      "outputs": [],
      "source": [
        "%config InteractiveShell.ast_node_interactivity = \"all\""
      ]
    },
    {
      "cell_type": "code",
      "execution_count": 19,
      "metadata": {
        "id": "yPOv6DxhUZh7"
      },
      "outputs": [],
      "source": [
        "if ZSCORE_NORMALIZATION:\n",
        "    \n",
        "    # TODO: Add magnetic field variables to the normalization if I decide to use the old code that is commented out here.\n",
        "    # # Computing the median of each input variable from the training set using torch.nanmedian function\n",
        "    # D_median = torch.nanmedian(x_train[:, 0])\n",
        "    # Sx_median = torch.nanmedian(x_train[:, 1])\n",
        "    # Sy_median = torch.nanmedian(x_train[:, 2])\n",
        "    # Sz_median = torch.nanmedian(x_train[:, 3])\n",
        "    # tau_median = torch.nanmedian(x_train[:, 4])\n",
        "\n",
        "    # # Computing the standard deviation of each input variable from the training set using torch.std function with a boolean mask to ignore nan values\n",
        "    # D_std = torch.std(x_train[~torch.isnan(x_train[:, 0]), 0])\n",
        "    # Sx_std = torch.std(x_train[~torch.isnan(x_train[:, 1]), 1])\n",
        "    # Sy_std = torch.std(x_train[~torch.isnan(x_train[:, 2]), 2])\n",
        "    # Sz_std = torch.std(x_train[~torch.isnan(x_train[:, 3]), 3])\n",
        "    # tau_std = torch.std(x_train[~torch.isnan(x_train[:, 4]), 4])\n",
        "\n",
        "\n",
        "    # # Applying z-score normalization to both train and test sets using the statistics from the training set\n",
        "    # x_train[:, 0] = torch.sub(x_train[:, 0], D_median).div(D_std)\n",
        "    # x_train[:, 1] = torch.sub(x_train[:, 1], Sx_median).div(Sx_std)\n",
        "    # x_train[:, 2] = torch.sub(x_train[:, 2], Sy_median).div(Sy_std)\n",
        "    # x_train[:, 3] = torch.sub(x_train[:, 3], Sz_median).div(Sz_std)\n",
        "    # x_train[:, 4] = torch.sub(x_train[:, 4], tau_median).div(tau_std)\n",
        "\n",
        "    # x_test[:, 0] = torch.sub(x_test[:, 0], D_median).div(D_std)\n",
        "    # x_test[:, 1] = torch.sub(x_test[:, 1], Sx_median).div(Sx_std)\n",
        "    # x_test[:, 2] = torch.sub(x_test[:, 2], Sy_median).div(Sy_std)\n",
        "    # x_test[:, 3] = torch.sub(x_test[:, 3], Sz_median).div(Sz_std)\n",
        "    # x_test[:, 4] = torch.sub(x_test[:, 4], tau_median).div(tau_std)\n",
        "\n",
        "    # Computing the mean and standard deviation of each column\n",
        "    mean = x_train.mean(dim=0)\n",
        "    std = x_train.std(dim=0)\n",
        "\n",
        "    # Applying z-score normalization\n",
        "    x_train = (x_train - mean) / std\n",
        "    # Use the same mean and std from the training data as we don't want test data leakage.\n",
        "    x_test = (x_test - mean) / std\n",
        "\n"
      ]
    },
    {
      "attachments": {},
      "cell_type": "markdown",
      "metadata": {},
      "source": [
        "Plotting the histograms of the input data after normalization if z-score normalization was performed."
      ]
    },
    {
      "cell_type": "code",
      "execution_count": 20,
      "metadata": {},
      "outputs": [],
      "source": [
        "%config InteractiveShell.ast_node_interactivity = \"last_expr_or_assign\""
      ]
    },
    {
      "cell_type": "code",
      "execution_count": 21,
      "metadata": {},
      "outputs": [],
      "source": [
        "if ZSCORE_NORMALIZATION: \n",
        "    # List of variable names\n",
        "    variable_names = [\"rho\", \"epsilon\", \"vx\", \"vy\", \"vz\", \"Bx\", \"By\", \"Bz\"]\n",
        "\n",
        "    # Note how we are only plotting train and not test here. \n",
        "    # Plotting histograms of the input variables after z-score normalization\n",
        "    plt.figure(figsize=(12, 12))\n",
        "    plt.suptitle('Histograms of input variables after z-score normalization', y=1.03)\n",
        "    for i in range(8):\n",
        "        plt.subplot(4, 2, i+1)\n",
        "        plt.hist(x_train[:, i].cpu(), bins=50) # Must be converted to cpu() for plotting.\n",
        "        plt.xlabel(variable_names[i])\n",
        "    plt.subplots_adjust(hspace=0.4, wspace=0.4)\n",
        "    plt.show()"
      ]
    },
    {
      "cell_type": "code",
      "execution_count": 22,
      "metadata": {},
      "outputs": [],
      "source": [
        "if ZSCORE_NORMALIZATION:\n",
        "    # Computing summary statistics of the input variables after z-score normalization\n",
        "    print('Summary statistics of input variables after z-score normalization')\n",
        "    print(torch.stack([torch.min(x_train, dim=0).values, torch.max(x_train, dim=0).values, torch.mean(x_train, dim=0), torch.median(x_train, dim=0).values, torch.std(x_train, dim=0)], dim=1))\n"
      ]
    },
    {
      "cell_type": "markdown",
      "metadata": {
        "colab": {
          "base_uri": "https://localhost:8080/",
          "height": 407
        },
        "id": "E96p_MsOUZh9",
        "outputId": "4b95bad0-8f3a-4364-eed1-008e0ce2a5e3"
      },
      "source": [
        "Checking if our output is always positive by plotting a histogram of y_train and y_test tensors "
      ]
    },
    {
      "cell_type": "code",
      "execution_count": 23,
      "metadata": {},
      "outputs": [
        {
          "data": {
            "image/png": "[encoded data removed]",
            "text/plain": [
              "<Figure size 800x400 with 2 Axes>"
            ]
          },
          "metadata": {},
          "output_type": "display_data"
        }
      ],
      "source": [
        "# Note how we are only plotting train.\n",
        "plt.figure(figsize=(8, 4))\n",
        "plt.subplot(1, 2, 1)\n",
        "plt.hist(y_train.cpu().numpy(), bins=20) # must be cpu here.\n",
        "plt.xlabel(\"y_train\")\n",
        "plt.ylabel(\"Frequency\")\n",
        "plt.yscale(\"log\")\n",
        "plt.subplot(1, 2, 2)\n",
        "plt.hist(y_test.cpu().numpy(), bins=20) # must be cpu here\n",
        "plt.xlabel(\"y_test\")\n",
        "plt.ylabel(\"Frequency\")\n",
        "plt.yscale(\"log\")\n",
        "plt.tight_layout()\n",
        "plt.show()\n"
      ]
    },
    {
      "cell_type": "code",
      "execution_count": 24,
      "metadata": {
        "id": "FEgjk--AUZh9"
      },
      "outputs": [],
      "source": [
        "%config InteractiveShell.ast_node_interactivity = \"all\""
      ]
    },
    {
      "cell_type": "markdown",
      "metadata": {
        "id": "r2b9GecHUZh9"
      },
      "source": [
        "## Defining the neural network"
      ]
    },
    {
      "cell_type": "code",
      "execution_count": 52,
      "metadata": {
        "id": "Iv8HA-ZXUZh-"
      },
      "outputs": [
        {
          "ename": "SyntaxError",
          "evalue": "invalid syntax (3488752615.py, line 53)",
          "output_type": "error",
          "traceback": [
            "\u001b[0;36m  Cell \u001b[0;32mIn[52], line 53\u001b[0;36m\u001b[0m\n\u001b[0;31m    torch.jit.assert(x.shape[1] == 8, \"x must have shape (batch_size, 8)\")\u001b[0m\n\u001b[0m              ^\u001b[0m\n\u001b[0;31mSyntaxError\u001b[0m\u001b[0;31m:\u001b[0m invalid syntax\n"
          ]
        }
      ],
      "source": [
        "# Defining a class for the network\n",
        "class Net(nn.Module):\n",
        "    \"\"\"A class for creating a network with a\n",
        "    variable number of hidden layers and units.\n",
        "\n",
        "    Attributes:\n",
        "        n_layers (int): The number of hidden layers in the network.\n",
        "        n_units (list): A list of integers representing the number of units in each hidden layer.\n",
        "        hidden_activation (torch.nn.Module): The activation function for the hidden layers.\n",
        "        output_activation (torch.nn.Module): The activation function for the output layer.\n",
        "        layers (torch.nn.ModuleList): A list of linear layers in the network.\n",
        "    \"\"\"\n",
        "\n",
        "    def __init__(self, n_layers, n_units, hidden_activation, output_activation):\n",
        "        \"\"\"Initializes the network with the given hyperparameters.\n",
        "\n",
        "        Args:\n",
        "            n_layers (int): The number of hidden layers in the network.\n",
        "            n_units (list): A list of integers representing the number of units in each hidden layer.\n",
        "            hidden_activation (torch.nn.Module): The activation function for the hidden layers.\n",
        "            output_activation (torch.nn.Module): The activation function for the output layer.\n",
        "        \"\"\"\n",
        "        super().__init__()\n",
        "        self.n_layers = n_layers\n",
        "        self.n_units = n_units\n",
        "        self.hidden_activation = hidden_activation\n",
        "        self.output_activation = output_activation\n",
        "\n",
        "        # Creating a list of linear layers with different numbers of units for each layer\n",
        "        self.layers = nn.ModuleList([nn.Linear(8, n_units[0])])\n",
        "        for i in range(1, n_layers):\n",
        "            self.layers.append(nn.Linear(n_units[i - 1], n_units[i]))\n",
        "        self.layers.append(nn.Linear(n_units[-1], 1))\n",
        "\n",
        "        # Adding some assertions to check that the input arguments are valid\n",
        "        assert isinstance(n_layers, int) and n_layers > 0, \"n_layers must be a positive integer\"\n",
        "        assert isinstance(n_units, list) and len(n_units) == n_layers, \"n_units must be a list of length n_layers\"\n",
        "        assert all(isinstance(n, int) and n > 0 for n in n_units), \"n_units must contain positive integers\"\n",
        "        assert isinstance(hidden_activation, nn.Module), \"hidden_activation must be a torch.nn.Module\"\n",
        "        assert isinstance(output_activation, nn.Module), \"output_activation must be a torch.nn.Module\"\n",
        "\n",
        "    def forward(self, x):\n",
        "        \"\"\"Performs a forward pass on the input tensor.\n",
        "\n",
        "        Args:\n",
        "            x (torch.Tensor): The input tensor of shape (batch_size, 8).\n",
        "\n",
        "        Returns:\n",
        "            torch.Tensor: The output tensor of shape (batch_size, 1).\n",
        "        \"\"\"\n",
        "        # Adding an assertion to check that the input tensor has the expected shape and type\n",
        "        assert isinstance(x, torch.Tensor), \"x must be a torch.Tensor\"\n",
        "        assert x.shape[1] == 8, \"x must have shape (batch_size, 8)\"\n",
        "\n",
        "        # Looping over the hidden layers and applying the linear transformation and the activation function\n",
        "        for layer in self.layers[:-1]:\n",
        "            x = self.hidden_activation(layer(x))\n",
        "        # Applying the linear transformation and the activation function on the output layer\n",
        "        x = self.output_activation(self.layers[-1](x))\n",
        "\n",
        "        # Returning the output tensor\n",
        "        return x\n"
      ]
    },
    {
      "cell_type": "markdown",
      "metadata": {
        "id": "6GNvp55PUZh_"
      },
      "source": [
        "## Defining the model and search space"
      ]
    },
    {
      "cell_type": "code",
      "execution_count": 26,
      "metadata": {
        "id": "9a1opluOUZh_"
      },
      "outputs": [],
      "source": [
        "# Defining a function to create a trial network and optimizer\n",
        "def create_model(trial, optimize):\n",
        "    \"\"\"Creates a trial network and optimizer based on the sampled hyperparameters.\n",
        "\n",
        "    Args:\n",
        "        trial (optuna.trial.Trial): The trial object that contains the hyperparameters.\n",
        "        optimize (boolean): Whether to optimize the hyperparameters or to use predefined values.\n",
        "\n",
        "    Returns:\n",
        "        tuple: A tuple of (net, loss_fn, optimizer, batch_size, n_epochs,\n",
        "            scheduler, loss_name, optimizer_name, scheduler_name,\n",
        "            n_units, n_layers, hidden_activation, output_activation),\n",
        "            where net is the trial network,\n",
        "            loss_fn is the loss function,\n",
        "            optimizer is the optimizer,\n",
        "            batch_size is the batch size,\n",
        "            n_epochs is the number of epochs,\n",
        "            scheduler is the learning rate scheduler,\n",
        "            loss_name is the name of the loss function,\n",
        "            optimizer_name is the name of the optimizer,\n",
        "            scheduler_name is the name of the scheduler,\n",
        "            n_units is a list of integers representing\n",
        "            the number of units in each hidden layer,\n",
        "            n_layers is an integer representing the number of hidden layers in the network,\n",
        "            hidden_activation is a torch.nn.Module representing the activation function for the hidden layers,\n",
        "            output_activation is a torch.nn.Module representing the activation function for the output layer,\n",
        "            lr is the (initial) learning rate.\n",
        "    \"\"\"\n",
        "    # If optimize is True, sample the hyperparameters from the search space\n",
        "    if optimize:\n",
        "        # Sampling the hyperparameters from the search space\n",
        "        n_layers = trial.suggest_int(\"n_layers\", 2, 6)\n",
        "        n_units = [trial.suggest_int(f\"n_units_{i}\", 16, 2048) for i in range(n_layers)] \n",
        "        hidden_activation_name = trial.suggest_categorical(\n",
        "            #\"hidden_activation\", [\"ReLU\", \"LeakyReLU\", \"ELU\", \"Tanh\", \"Sigmoid\"]\n",
        "            #\"hidden_activation\", [\"ReLU\", \"LeakyReLU\"]\n",
        "            \"hidden_activation\", [\"ReLU\", \"LeakyReLU\", \"ELU\"]\n",
        "        )\n",
        "        output_activation_name = trial.suggest_categorical(\n",
        "            #\"output_activation\", [\"Linear\", \"ReLU\", \"Softplus\"]\n",
        "            # Assuming pressure cannot be negative, linear output activation is not an option.\n",
        "            #\"output_activation\", [\"ReLU\", \"Softplus\", \"Linear\"]\n",
        "            \"output_activation\", [\"ReLU\", \"Linear\"]\n",
        "        ) \n",
        "        loss_name = trial.suggest_categorical(\n",
        "            #\"loss\", [\"MSE\", \"MAE\", \"Huber\", \"LogCosh\"] \n",
        "            \"loss\", [\"MSE\", \"MAE\", \"Huber\"] \n",
        "        )\n",
        "        optimizer_name = trial.suggest_categorical(\n",
        "            \"optimizer\", [\"Adam\", \"SGD\", \"RMSprop\", \"Adagrad\"] \n",
        "        )\n",
        "        lr = trial.suggest_loguniform(\"lr\", 1e-4, 1e-2) \n",
        "\n",
        "        batch_size_list = [32, 48, 64, 96, 128, 256, 512, 1048]\n",
        "        batch_size = trial.suggest_categorical(\"batch_size\", batch_size_list)\n",
        "        #batch_size = trial.suggest_int(\"batch_size\", 64, 1048)\n",
        "        n_epochs = trial.suggest_int(\"n_epochs\", 100, 300) \n",
        "        scheduler_name = trial.suggest_categorical(\n",
        "            \"scheduler\",\n",
        "            # [\"None\", \"CosineAnnealingLR\", \"ReduceLROnPlateau\", \"StepLR\", \"ExponentialLR\"],\n",
        "            [\"CosineAnnealingLR\", \"ReduceLROnPlateau\", \"StepLR\"],\n",
        "        )\n",
        "\n",
        "    # If optimize is False, use the predefined values\n",
        "    else:\n",
        "        # Setting the hyperparameters to the predefined values\n",
        "        n_layers = N_LAYERS_NO_OPT\n",
        "        n_units = N_UNITS_NO_OPT\n",
        "        hidden_activation_name = HIDDEN_ACTIVATION_NAME_NO_OPT\n",
        "        output_activation_name = OUTPUT_ACTIVATION_NAME_NO_OPT\n",
        "        loss_name = LOSS_NAME_NO_OPT\n",
        "        optimizer_name = OPTIMIZER_NAME_NO_OPT\n",
        "        lr = LR_NO_OPT\n",
        "        batch_size = BATCH_SIZE_NO_OPT\n",
        "        n_epochs = N_EPOCHS_NO_OPT\n",
        "        scheduler_name = SCHEDULER_NAME_NO_OPT\n",
        "\n",
        "\n",
        "    # Creating the activation functions from their names\n",
        "    if hidden_activation_name == \"ReLU\":\n",
        "        hidden_activation = nn.ReLU()\n",
        "    elif hidden_activation_name == \"LeakyReLU\":\n",
        "        hidden_activation = nn.LeakyReLU() \n",
        "    elif hidden_activation_name == \"ELU\":\n",
        "        hidden_activation = nn.ELU() \n",
        "    elif hidden_activation_name == \"Tanh\":\n",
        "        hidden_activation = nn.Tanh()\n",
        "    else:\n",
        "        hidden_activation = nn.Sigmoid()\n",
        "\n",
        "    if output_activation_name == \"ReLU\":\n",
        "        output_activation = nn.ReLU()\n",
        "    elif output_activation_name == \"Softplus\":\n",
        "        output_activation = nn.Softplus()\n",
        "    else:\n",
        "        output_activation = nn.Identity()\n",
        "\n",
        "    # Creating the loss function from its name\n",
        "    if loss_name == \"MSE\":\n",
        "        loss_fn = nn.MSELoss()\n",
        "    elif loss_name == \"MAE\":\n",
        "        loss_fn = nn.L1Loss()\n",
        "    elif loss_name == \"Huber\":\n",
        "        loss_fn = nn.SmoothL1Loss() \n",
        "    else:\n",
        "        # Creating the log-cosh loss function\n",
        "        def log_cosh_loss(y_pred, y_true):\n",
        "            return torch.mean(torch.log(torch.cosh(y_pred - y_true)))\n",
        "            \n",
        "        loss_fn = log_cosh_loss\n",
        "\n",
        "    # Creating the network with the sampled hyperparameters\n",
        "    net = Net(\n",
        "        n_layers, n_units, hidden_activation, output_activation\n",
        "    ).to(device)\n",
        "\n",
        "    if optimize:\n",
        "        # Creating the optimizer from its name\n",
        "        if optimizer_name == \"SGD\":\n",
        "            # Added sampling the weight decay and momentum for SGD\n",
        "            weight_decay = trial.suggest_loguniform(\"weight_decay\", 1e-5, 1e-2)\n",
        "            momentum = trial.suggest_uniform(\"momentum\", 0.0, 0.99)\n",
        "            optimizer = optim.SGD(net.parameters(), lr=lr, weight_decay=weight_decay, momentum=momentum)\n",
        "        elif optimizer_name == \"Adam\":\n",
        "            # Added sampling the weight decay and beta parameters for Adam\n",
        "            weight_decay = trial.suggest_loguniform(\"weight_decay\", 1e-5, 1e-2)\n",
        "            beta1 = trial.suggest_uniform(\"beta1\", 0.9, 0.999)\n",
        "            beta2 = trial.suggest_uniform(\"beta2\", 0.999, 0.9999)\n",
        "            optimizer = optim.Adam(net.parameters(), lr=lr, weight_decay=weight_decay, betas=(beta1, beta2))\n",
        "        elif optimizer_name == \"RMSprop\":\n",
        "            optimizer = optim.RMSprop(net.parameters(), lr=lr)\n",
        "        else:\n",
        "            # Added creating the Adagrad optimizer\n",
        "            optimizer = optim.Adagrad(net.parameters(), lr=lr)\n",
        "\n",
        "        # Creating the learning rate scheduler from its name\n",
        "        if scheduler_name == \"StepLR\":\n",
        "            step_size = trial.suggest_int(\"step_size\", 5, 15)\n",
        "            gamma = trial.suggest_uniform(\"gamma\", 0.1, 0.5)\n",
        "            scheduler = optim.lr_scheduler.StepLR(optimizer, step_size=step_size, gamma=gamma)\n",
        "        elif scheduler_name == \"ExponentialLR\":\n",
        "            gamma = trial.suggest_uniform(\"gamma\", 0.8, 0.99)\n",
        "            scheduler = optim.lr_scheduler.ExponentialLR(optimizer, gamma=gamma)\n",
        "        elif scheduler_name == \"CosineAnnealingLR\":\n",
        "            if n_epochs < 150:\n",
        "                t_max_fraction = trial.suggest_uniform('t_max_fraction', 0.1, 0.3)\n",
        "            elif n_epochs > 250:\n",
        "                t_max_fraction = trial.suggest_uniform('t_max_fraction', 0.05, 0.1)\n",
        "            else:\n",
        "                t_max_fraction = trial.suggest_uniform('t_max_fraction', 0.1, 0.2)\n",
        "\n",
        "            T_max = int(n_epochs * t_max_fraction)\n",
        "            eta_min = trial.suggest_loguniform(\"eta_min\", 1e-7, 1e-2)\n",
        "            scheduler = optim.lr_scheduler.CosineAnnealingLR(optimizer, T_max=T_max, eta_min=eta_min)\n",
        "        elif scheduler_name == \"ReduceLROnPlateau\":\n",
        "            # Added sampling the factor, patience and threshold for ReduceLROnPlateau\n",
        "            factor = trial.suggest_uniform(\"factor\", 0.1, 0.5)\n",
        "            patience = trial.suggest_int(\"patience\", 5, 10)\n",
        "            threshold = trial.suggest_loguniform(\"threshold\", 1e-4, 1e-2)\n",
        "            scheduler = optim.lr_scheduler.ReduceLROnPlateau(\n",
        "                optimizer, mode=\"min\", factor=factor, patience=patience, threshold=threshold\n",
        "            )\n",
        "        # # Added using OneCycleLR scheduler as an option\n",
        "        # elif scheduler_name == \"OneCycleLR\":\n",
        "        #         # Added sampling the max_lr and pct_start for OneCycleLR\n",
        "        #         max_lr = trial.suggest_loguniform(\"max_lr\", lr, 10 * lr) \n",
        "        #         pct_start = trial.suggest_uniform(\"pct_start\", 0.1, 0.9)\n",
        "        #         scheduler = optim.lr_scheduler.OneCycleLR(\n",
        "        #             optimizer,\n",
        "        #             max_lr=max_lr,\n",
        "        #             epochs=n_epochs,\n",
        "        #             steps_per_epoch=len(train_loader),\n",
        "        #             pct_start=pct_start,\n",
        "        #         )\n",
        "        else:\n",
        "            scheduler = None\n",
        "    else:\n",
        "        # Creating the optimizer from its name\n",
        "        if optimizer_name == \"SGD\":\n",
        "            optimizer = optim.SGD(net.parameters(), lr=lr)\n",
        "        elif optimizer_name == \"Adam\":\n",
        "            optimizer = optim.Adam(net.parameters(), lr=lr)\n",
        "        elif optimizer_name == \"RMSprop\":\n",
        "            optimizer = optim.RMSprop(net.parameters(), lr=lr)\n",
        "        else:\n",
        "            optimizer = optim.Adagrad(net.parameters(), lr=lr)\n",
        "\n",
        "        # Creating the learning rate scheduler from its name\n",
        "        if scheduler_name == \"StepLR\":\n",
        "            scheduler = optim.lr_scheduler.StepLR(optimizer, step_size=10, gamma=0.1)\n",
        "        elif scheduler_name == \"ExponentialLR\":\n",
        "            scheduler = optim.lr_scheduler.ExponentialLR(optimizer, gamma=0.9)\n",
        "        elif scheduler_name == \"CosineAnnealingLR\":\n",
        "            scheduler = optim.lr_scheduler.CosineAnnealingLR(optimizer)\n",
        "        elif scheduler_name == \"ReduceLROnPlateau\":\n",
        "            # Creating the ReduceLROnPlateau scheduler with a threshold value of 0.01\n",
        "            #scheduler = optim.lr_scheduler.ReduceLROnPlateau(\n",
        "            #    optimizer, mode=\"min\", factor=0.1, patience=10, threshold=0.01\n",
        "            #)\n",
        "            # Use Dieseldorst et al. settings and add to that a minimum lr.\n",
        "            scheduler = optim.lr_scheduler.ReduceLROnPlateau(\n",
        "                        optimizer, mode=\"min\", factor=0.18979341786654758, patience=11, threshold=0.0017197466122611932 #, min_lr=1e-6\n",
        "                    )\n",
        "        else:\n",
        "            scheduler = None\n",
        "\n",
        "    # Returning all variables needed for saving and loading\n",
        "    return net, loss_fn, optimizer, batch_size, n_epochs, scheduler, loss_name, optimizer_name, scheduler_name, n_units, n_layers, hidden_activation, output_activation, lr\n",
        "\n"
      ]
    },
    {
      "cell_type": "markdown",
      "metadata": {
        "id": "l-czA7VvUZiD"
      },
      "source": [
        " ## The training and evaluation loop\n",
        "\n",
        " We first define a couple of functions used in the training and evaluation."
      ]
    },
    {
      "cell_type": "code",
      "execution_count": 27,
      "metadata": {
        "id": "aD6FQNmxUZiD"
      },
      "outputs": [],
      "source": [
        "# Defining a function that computes loss and metrics for a given batch\n",
        "def compute_loss_and_metrics(y_pred, y_true, loss_fn):\n",
        "    \"\"\"Computes loss and metrics for a given batch.\n",
        "\n",
        "    Args:\n",
        "        y_pred (torch.Tensor): The predicted pressure tensor of shape (batch_size, 1).\n",
        "        y_true (torch.Tensor): The true pressure tensor of shape (batch_size,).\n",
        "        loss_fn (torch.nn.Module or function): The loss function to use.\n",
        "\n",
        "    Returns:\n",
        "        tuple: A tuple of (loss, l1_norm), where loss is a scalar tensor,\n",
        "            l1_norm is L1 norm for relative error of pressure,\n",
        "            each being a scalar tensor.\n",
        "            linf_norm is Linf norm for relative error of pressure.\n",
        "    \"\"\"\n",
        "    # Reshaping the target tensor to match the input tensor\n",
        "    y_true = y_true.view(-1, 1)\n",
        "\n",
        "    # Computing the loss using the loss function\n",
        "    loss = loss_fn(y_pred, y_true)\n",
        "\n",
        "    # Computing the relative error of pressure\n",
        "    rel_error = torch.abs((y_pred - y_true) / y_true)\n",
        "\n",
        "    # Computing the L1 norm for the relative error of pressure\n",
        "    l1_norm = torch.mean(rel_error) \n",
        "    # Computing the Linf norm for the relative error of pressure\n",
        "    linf_norm = torch.max(rel_error) \n",
        "\n",
        "    # Returning the loss and metrics\n",
        "    return loss, l1_norm, linf_norm\n",
        "\n",
        "\n",
        "# Defining a function that updates the learning rate scheduler with validation loss if applicable\n",
        "def update_scheduler(scheduler, test_loss):\n",
        "    \"\"\"Updates the learning rate scheduler with validation loss if applicable.\n",
        "\n",
        "    Args:\n",
        "        scheduler (torch.optim.lr_scheduler._LRScheduler or None): The learning rate scheduler to use.\n",
        "        test_loss (float): The validation loss to use.\n",
        "\n",
        "    Returns:\n",
        "        None\n",
        "    \"\"\"\n",
        "    # Checking if scheduler is not None\n",
        "    if scheduler is not None:\n",
        "        # Checking if scheduler is ReduceLROnPlateau\n",
        "        if isinstance(scheduler, optim.lr_scheduler.ReduceLROnPlateau):\n",
        "            # Updating the scheduler with test_loss\n",
        "            scheduler.step(test_loss)\n",
        "        else:\n",
        "            # Updating the scheduler without test_loss\n",
        "            scheduler.step()\n"
      ]
    },
    {
      "cell_type": "markdown",
      "metadata": {
        "id": "w1nE662UUZiE"
      },
      "source": [
        "Now for the actual training and evaluation loop,"
      ]
    },
    {
      "cell_type": "code",
      "execution_count": 28,
      "metadata": {
        "id": "YAOjgKW3UZiF"
      },
      "outputs": [],
      "source": [
        "# Defining a function to train and evaluate a network\n",
        "def train_and_eval(net, loss_fn, optimizer, batch_size, n_epochs, scheduler, trial=None):\n",
        "    \"\"\"Trains and evaluates a network.\n",
        "\n",
        "    Args:\n",
        "        net (torch.nn.Module): The network to train and evaluate.\n",
        "        loss_fn (torch.nn.Module or function): The loss function.\n",
        "        optimizer (torch.optim.Optimizer): The optimizer.\n",
        "        batch_size (int): The batch size.\n",
        "        n_epochs (int): The number of epochs.\n",
        "        scheduler (torch.optim.lr_scheduler._LRScheduler or None): The learning rate scheduler.\n",
        "    Returns:\n",
        "        tuple: A tuple of (train_losses, test_losses, train_metrics, test_metrics), where\n",
        "            train_losses is a list of training losses for each epoch,\n",
        "            test_losses is a list of validation losses for each epoch,\n",
        "            train_metrics is a list of dictionaries containing training metrics for each epoch,\n",
        "            test_metrics is a list of dictionaries containing validation metrics for each epoch.\n",
        "    \"\"\"\n",
        "    # Creating data loaders for train and test sets\n",
        "    train_loader = torch.utils.data.DataLoader(\n",
        "        torch.utils.data.TensorDataset(x_train, y_train), batch_size=batch_size, shuffle=True\n",
        "    )\n",
        "    test_loader = torch.utils.data.DataLoader(\n",
        "        torch.utils.data.TensorDataset(x_test, y_test), batch_size=batch_size\n",
        "    )\n",
        "\n",
        "    # Initializing lists to store the losses and metrics for each epoch\n",
        "    train_losses = []\n",
        "    test_losses = []\n",
        "    train_metrics = []\n",
        "    test_metrics = []\n",
        "\n",
        "    # Creating a SummaryWriter object to log data for tensorboard\n",
        "    writer = tbx.SummaryWriter()\n",
        "\n",
        "    # Looping over the epochs\n",
        "    for epoch in range(n_epochs):\n",
        "\n",
        "        # Setting the network to training mode\n",
        "        net.train()\n",
        "\n",
        "        # Initializing variables to store the total loss and metrics for the train set\n",
        "        train_loss = 0.0\n",
        "        train_l1_norm = 0.0\n",
        "        train_linf_norm = 0.0\n",
        "\n",
        "        # Looping over the batches in the train set\n",
        "        for x_batch, y_batch in train_loader:\n",
        "\n",
        "            # Moving the batch tensors to the device\n",
        "            x_batch = x_batch.to(device)\n",
        "            y_batch = y_batch.to(device)\n",
        "\n",
        "            # Zeroing the gradients\n",
        "            optimizer.zero_grad()\n",
        "\n",
        "            # Performing a forward pass and computing the loss and metrics\n",
        "            y_pred = net(x_batch)\n",
        "            loss, l1_norm, linf_norm = compute_loss_and_metrics(\n",
        "                y_pred, y_batch, loss_fn\n",
        "            )\n",
        "\n",
        "\n",
        "            # Performing a backward pass and updating the weights\n",
        "            loss.backward()\n",
        "            optimizer.step()\n",
        "\n",
        "            # Updating the total loss and metrics for the train set\n",
        "            train_loss += loss.item() * x_batch.size(0)\n",
        "            train_l1_norm += l1_norm.item() * x_batch.size(0)\n",
        "            train_linf_norm += linf_norm.item() * x_batch.size(0)\n",
        "\n",
        "        # Computing the average loss and metrics for the train set\n",
        "        train_loss /= len(train_loader.dataset)\n",
        "        train_l1_norm /= len(train_loader.dataset)\n",
        "        train_linf_norm /= len(train_loader.dataset)\n",
        "\n",
        "        # Appending the average loss and metrics for the train set to the lists\n",
        "        train_losses.append(train_loss)\n",
        "        train_metrics.append(\n",
        "            {\n",
        "                \"l1_norm\": train_l1_norm,\n",
        "                \"linf_norm\": train_linf_norm,\n",
        "            }\n",
        "        )\n",
        "\n",
        "        # Logging the average loss and metrics for the train set to tensorboard\n",
        "        writer.add_scalar(\"Loss/train\", train_loss, epoch)\n",
        "        writer.add_scalar(\"L1 norm/train\", train_l1_norm, epoch)\n",
        "        writer.add_scalar(\"Linf norm/train\", train_linf_norm, epoch)\n",
        "\n",
        "        # Setting the network to evaluation mode\n",
        "        net.eval()\n",
        "\n",
        "        # Initializing variables to store the total loss and metrics for the test set\n",
        "        test_loss = 0.0\n",
        "        test_l1_norm = 0.0\n",
        "        test_linf_norm = 0.0\n",
        "\n",
        "        # Looping over the batches in the test set\n",
        "        with torch.no_grad():\n",
        "            for x_batch, y_batch in test_loader:\n",
        "\n",
        "                # Moving the batch tensors to the device\n",
        "                x_batch = x_batch.to(device)\n",
        "                y_batch = y_batch.to(device)\n",
        "\n",
        "                # Performing a forward pass and computing the loss and metrics\n",
        "                y_pred = net(x_batch)\n",
        "                loss, l1_norm, linf_norm = compute_loss_and_metrics(\n",
        "                    y_pred, y_batch, loss_fn\n",
        "                )\n",
        "\n",
        "\n",
        "                # Updating the total loss and metrics for the test set\n",
        "                test_loss += loss.item() * x_batch.size(0)\n",
        "                test_l1_norm += l1_norm.item() * x_batch.size(0)\n",
        "                test_linf_norm += linf_norm.item() * x_batch.size(0)\n",
        "\n",
        "        # Computing the average loss and metrics for the test set\n",
        "        test_loss /= len(test_loader.dataset)\n",
        "        test_l1_norm /= len(test_loader.dataset)\n",
        "        test_linf_norm /= len(test_loader.dataset)\n",
        "\n",
        "        # Appending the average loss and metrics for the test set to the lists\n",
        "        test_losses.append(test_loss)\n",
        "        test_metrics.append(\n",
        "            {\n",
        "                \"l1_norm\": test_l1_norm,\n",
        "                \"linf_norm\": test_linf_norm,\n",
        "            }\n",
        "        )\n",
        "\n",
        "        # Logging the average loss and metrics for the test set to tensorboard\n",
        "        writer.add_scalar(\"Loss/test\", test_loss, epoch)\n",
        "        writer.add_scalar(\"L1 norm/test\", test_l1_norm, epoch)\n",
        "        writer.add_scalar(\"Linf norm/test\", test_linf_norm, epoch)\n",
        "\n",
        "        # Printing the average loss and metrics for both sets for this epoch\n",
        "        print(\n",
        "            f\"Epoch {epoch + 1}: Train Loss: {train_loss:.4f}, Test Loss: {test_loss:.4f}, \"\n",
        "            f\"Train L1 Norm: {train_l1_norm:.4f}, Test L1 Norm: {test_l1_norm:.4f}, \"\n",
        "            f\"Train Linf Norm: {train_linf_norm:.4f}, Test Linf Norm: {test_linf_norm:.4f}\"\n",
        "        )\n",
        "\n",
        "        # Updating the learning rate scheduler with validation loss if applicable\n",
        "        update_scheduler(scheduler, test_loss)\n",
        "\n",
        "        # Reporting the intermediate metric value to Optuna if trial is not None\n",
        "        if trial is not None:\n",
        "            trial.report(test_metrics[-1][\"l1_norm\"], epoch)\n",
        "\n",
        "            # Checking if the trial should be pruned based on the intermediate value if trial is not None\n",
        "            if trial.should_prune():\n",
        "                raise optuna.TrialPruned()\n",
        "\n",
        "    # Closing the SummaryWriter object\n",
        "    writer.close()\n",
        "\n",
        "    # Returning the losses and metrics lists\n",
        "    return train_losses, test_losses, train_metrics, test_metrics"
      ]
    },
    {
      "cell_type": "markdown",
      "metadata": {
        "id": "xg9jz0SvUZiQ"
      },
      "source": [
        "## The objective function and hyperparameter tuning"
      ]
    },
    {
      "cell_type": "code",
      "execution_count": 29,
      "metadata": {
        "id": "fmRncQPuUZiR"
      },
      "outputs": [],
      "source": [
        "# Defining an objective function for Optuna to minimize\n",
        "def objective(trial):\n",
        "    \"\"\"Defines an objective function for Optuna to minimize.\n",
        "\n",
        "    Args:\n",
        "        trial (optuna.trial.Trial): The trial object that contains the hyperparameters.\n",
        "\n",
        "    Returns:\n",
        "        float: The validation L1 norm to minimize.\n",
        "    \"\"\"\n",
        "    # Creating a trial network and optimizer using the create_model function\n",
        "    net, \\\n",
        "    loss_fn, \\\n",
        "    optimizer, \\\n",
        "    batch_size, \\\n",
        "    n_epochs, \\\n",
        "    scheduler, \\\n",
        "    loss_name, \\\n",
        "    optimizer_name, \\\n",
        "    scheduler_name, \\\n",
        "    n_units, \\\n",
        "    n_layers, \\\n",
        "    hidden_activation, \\\n",
        "    output_activation, \\\n",
        "    lr = create_model(trial, optimize=True)\n",
        "\n",
        "    # Training and evaluating the network using the train_and_eval function\n",
        "    _, _, _, test_metrics = train_and_eval(\n",
        "        net, loss_fn, optimizer, batch_size, n_epochs, scheduler, trial\n",
        "    )\n",
        "\n",
        "    # Returning the last validation L1 norm as the objective value to minimize\n",
        "    return test_metrics[-1][\"l1_norm\"]"
      ]
    },
    {
      "cell_type": "code",
      "execution_count": 30,
      "metadata": {
        "id": "GyES4NAyUZiS"
      },
      "outputs": [],
      "source": [
        "if OPTIMIZE:\n",
        "    # Creating a study object with Optuna with TPE sampler and median pruner \n",
        "    study = optuna.create_study(direction=\"minimize\", sampler=optuna.samplers.TPESampler(), pruner=optuna.pruners.MedianPruner())\n",
        "\n",
        "    # Running Optuna with 100 trials when we are optimizing.\n",
        "    study.optimize(objective, n_trials=N_TRIALS)\n",
        "\n",
        "    # Printing the best trial information\n",
        "    print(\"Best trial:\")\n",
        "    trial = study.best_trial\n",
        "    print(\"  Value: \", trial.value)\n",
        "    print(\"  Params: \")\n",
        "    for key, value in trial.params.items():\n",
        "        print(f\"    {key}: {value}\")\n"
      ]
    },
    {
      "cell_type": "markdown",
      "metadata": {
        "id": "jmMfE9_dUZiS"
      },
      "source": [
        "## Training the model"
      ]
    },
    {
      "cell_type": "code",
      "execution_count": 31,
      "metadata": {
        "id": "phyiHlWEUZiT"
      },
      "outputs": [],
      "source": [
        "# Creating the best network and optimizer using the best hyperparameters\n",
        "if OPTIMIZE:\n",
        "    net, \\\n",
        "    loss_fn, \\\n",
        "    optimizer, \\\n",
        "    batch_size, \\\n",
        "    n_epochs, \\\n",
        "    scheduler, \\\n",
        "    loss_name, \\\n",
        "    optimizer_name, \\\n",
        "    scheduler_name, \\\n",
        "    n_units, \\\n",
        "    n_layers, \\\n",
        "    hidden_activation, \\\n",
        "    output_activation, \\\n",
        "    lr = create_model(trial, optimize=True)\n",
        "# Creating the network with predefined hyperparameters\n",
        "else:\n",
        "    net, \\\n",
        "    loss_fn, \\\n",
        "    optimizer, \\\n",
        "    batch_size, \\\n",
        "    n_epochs, \\\n",
        "    scheduler, \\\n",
        "    loss_name, \\\n",
        "    optimizer_name, \\\n",
        "    scheduler_name, \\\n",
        "    n_units, \\\n",
        "    n_layers, \\\n",
        "    hidden_activation, \\\n",
        "    output_activation, \\\n",
        "    lr = create_model(trial=None, optimize=False)"
      ]
    },
    {
      "cell_type": "code",
      "execution_count": 32,
      "metadata": {
        "colab": {
          "base_uri": "https://localhost:8080/"
        },
        "id": "_yq-oY81UZiU",
        "outputId": "dbf2f465-bd50-4a20-8926-616c3d2157d0"
      },
      "outputs": [
        {
          "name": "stdout",
          "output_type": "stream",
          "text": [
            "loss_fn: SmoothL1Loss()\n",
            "batch_size: 49\n",
            "n_epochs: 10\n",
            "scheduler: <torch.optim.lr_scheduler.ReduceLROnPlateau object at 0x7f35e301a990>\n",
            "loss_name: Huber\n",
            "optimizer_name: RMSprop\n",
            "scheduler_name: ReduceLROnPlateau\n",
            "n_units: [555, 458, 115]\n",
            "n_layers: 3\n",
            "hidden_activation: ReLU()\n",
            "output_activation: ReLU()\n"
          ]
        }
      ],
      "source": [
        "print(\"loss_fn:\", loss_fn)\n",
        "print(\"batch_size:\", batch_size)\n",
        "print(\"n_epochs:\", n_epochs)\n",
        "print(\"scheduler:\", scheduler)\n",
        "print(\"loss_name:\", loss_name)\n",
        "print(\"optimizer_name:\", optimizer_name)\n",
        "print(\"scheduler_name:\", scheduler_name)\n",
        "print(\"n_units:\", n_units)\n",
        "print(\"n_layers:\", n_layers)\n",
        "print(\"hidden_activation:\", hidden_activation)\n",
        "print(\"output_activation:\", output_activation)"
      ]
    },
    {
      "cell_type": "code",
      "execution_count": 33,
      "metadata": {
        "colab": {
          "base_uri": "https://localhost:8080/"
        },
        "id": "E7aLWdZyUZiW",
        "outputId": "8fb1e8c6-5aa3-43a1-a255-712cf9396d0c"
      },
      "outputs": [
        {
          "name": "stdout",
          "output_type": "stream",
          "text": [
            "Epoch 1: Train Loss: 0.1496, Test Loss: 0.0571, Train L1 Norm: 0.9097, Test L1 Norm: 0.7229, Train Linf Norm: 31.6141, Test Linf Norm: 24.7619\n",
            "Epoch 2: Train Loss: 0.0546, Test Loss: 0.0351, Train L1 Norm: 0.9942, Test L1 Norm: 0.7325, Train Linf Norm: 39.5745, Test Linf Norm: 26.1753\n",
            "Epoch 3: Train Loss: 0.0435, Test Loss: 0.0624, Train L1 Norm: 0.7252, Test L1 Norm: 0.7016, Train Linf Norm: 26.8792, Test Linf Norm: 24.0482\n",
            "Epoch 4: Train Loss: 0.0379, Test Loss: 0.0259, Train L1 Norm: 0.8033, Test L1 Norm: 0.6106, Train Linf Norm: 31.0647, Test Linf Norm: 21.2913\n",
            "Epoch 5: Train Loss: 0.0346, Test Loss: 0.0229, Train L1 Norm: 0.7166, Test L1 Norm: 0.4919, Train Linf Norm: 27.0614, Test Linf Norm: 16.8017\n",
            "Epoch 6: Train Loss: 0.0323, Test Loss: 0.0351, Train L1 Norm: 0.6586, Test L1 Norm: 0.4332, Train Linf Norm: 24.4887, Test Linf Norm: 13.8571\n",
            "Epoch 7: Train Loss: 0.0302, Test Loss: 0.0201, Train L1 Norm: 0.9142, Test L1 Norm: 0.4597, Train Linf Norm: 37.1077, Test Linf Norm: 15.0427\n",
            "Epoch 8: Train Loss: 0.0291, Test Loss: 0.0206, Train L1 Norm: 0.6798, Test L1 Norm: 0.5046, Train Linf Norm: 25.7959, Test Linf Norm: 17.0589\n",
            "Epoch 9: Train Loss: 0.0275, Test Loss: 0.0192, Train L1 Norm: 0.6911, Test L1 Norm: 0.4296, Train Linf Norm: 26.4467, Test Linf Norm: 14.0150\n",
            "Epoch 10: Train Loss: 0.0271, Test Loss: 0.0227, Train L1 Norm: 0.5843, Test L1 Norm: 0.4690, Train Linf Norm: 21.2099, Test Linf Norm: 15.3445\n"
          ]
        }
      ],
      "source": [
        "# Training and evaluating the network using the train_and_eval function\n",
        "train_losses, test_losses, train_metrics, test_metrics = train_and_eval(\n",
        "    net, loss_fn, optimizer, batch_size, n_epochs, scheduler\n",
        ")"
      ]
    },
    {
      "cell_type": "markdown",
      "metadata": {
        "id": "akNucrgMUZiW"
      },
      "source": [
        "## Saving"
      ]
    },
    {
      "cell_type": "code",
      "execution_count": 34,
      "metadata": {
        "id": "LHsrs2Y-UZic"
      },
      "outputs": [],
      "source": [
        "import json\n",
        "import pandas as pd\n",
        "\n",
        "# save the network to a .pth file\n",
        "torch.save(net.state_dict(), \"net.pth\")\n",
        "save_file(\"net.pth\")\n",
        "\n",
        "# save the optimizer to a .pth file\n",
        "torch.save(optimizer.state_dict(), \"optimizer.pth\")\n",
        "save_file(\"optimizer.pth\")\n",
        "\n",
        "# save the scheduler to a .pth file if it is not None\n",
        "if scheduler is not None:\n",
        "  torch.save(scheduler.state_dict(), \"scheduler.pth\")\n",
        "  save_file(\"scheduler.pth\")\n",
        "\n",
        "# create a dictionary to store the rest of the variables\n",
        "var_dict = {\n",
        "  \"batch_size\": batch_size,\n",
        "  \"n_epochs\": n_epochs,\n",
        "  \"loss_name\": loss_name,\n",
        "  \"optimizer_name\": optimizer_name,\n",
        "  \"scheduler_name\": scheduler_name,\n",
        "  \"n_units\": n_units,\n",
        "  \"n_layers\": n_layers,\n",
        "  \"hidden_activation_name\": hidden_activation.__class__.__name__,\n",
        "  \"output_activation_name\": output_activation.__class__.__name__,\n",
        "  \"lr\": lr,\n",
        "}\n",
        "\n",
        "# save the dictionary to a .json file\n",
        "with open(\"var_dict.json\", \"w\") as f:\n",
        "  json.dump(var_dict, f)\n",
        "save_file(\"var_dict.json\")\n",
        "\n",
        "# Saving the output of the training using pandas\n",
        "train_df = pd.DataFrame(\n",
        "    {\n",
        "        \"train_loss\": train_losses,\n",
        "        \"test_loss\": test_losses,\n",
        "        \"train_l1_norm\": [m[\"l1_norm\"] for m in train_metrics],\n",
        "        \"test_l1_norm\": [m[\"l1_norm\"] for m in test_metrics],\n",
        "        \"train_linf_norm\": [m[\"linf_norm\"] for m in train_metrics],\n",
        "        \"test_linf_norm\": [m[\"linf_norm\"] for m in test_metrics],\n",
        "    }\n",
        ")\n",
        "train_df.to_csv(\"train_output.csv\", index=False)\n",
        "save_file(\"train_output.csv\")\n"
      ]
    },
    {
      "cell_type": "markdown",
      "metadata": {
        "id": "qU23l7dIUZie"
      },
      "source": [
        "## Visualizing the results"
      ]
    },
    {
      "cell_type": "code",
      "execution_count": 35,
      "metadata": {
        "colab": {
          "base_uri": "https://localhost:8080/",
          "height": 1000
        },
        "id": "cippWZS6UZie",
        "outputId": "f0d6e5c3-945f-481b-a153-e54fed7fe9fa"
      },
      "outputs": [
        {
          "data": {
            "text/plain": [
              "<Figure size 1200x800 with 0 Axes>"
            ]
          },
          "execution_count": 35,
          "metadata": {},
          "output_type": "execute_result"
        },
        {
          "data": {
            "text/plain": [
              "<Axes: >"
            ]
          },
          "execution_count": 35,
          "metadata": {},
          "output_type": "execute_result"
        },
        {
          "data": {
            "text/plain": [
              "[<matplotlib.lines.Line2D at 0x7f35e34afe10>]"
            ]
          },
          "execution_count": 35,
          "metadata": {},
          "output_type": "execute_result"
        },
        {
          "data": {
            "text/plain": [
              "[<matplotlib.lines.Line2D at 0x7f35e31b8910>]"
            ]
          },
          "execution_count": 35,
          "metadata": {},
          "output_type": "execute_result"
        },
        {
          "data": {
            "text/plain": [
              "Text(0.5, 0, 'Epoch')"
            ]
          },
          "execution_count": 35,
          "metadata": {},
          "output_type": "execute_result"
        },
        {
          "data": {
            "text/plain": [
              "Text(0, 0.5, 'L1 Norm')"
            ]
          },
          "execution_count": 35,
          "metadata": {},
          "output_type": "execute_result"
        },
        {
          "data": {
            "text/plain": [
              "(0.001, 100.0)"
            ]
          },
          "execution_count": 35,
          "metadata": {},
          "output_type": "execute_result"
        },
        {
          "data": {
            "text/plain": [
              "<matplotlib.legend.Legend at 0x7f35e2986a50>"
            ]
          },
          "execution_count": 35,
          "metadata": {},
          "output_type": "execute_result"
        },
        {
          "data": {
            "text/plain": [
              "<Axes: >"
            ]
          },
          "execution_count": 35,
          "metadata": {},
          "output_type": "execute_result"
        },
        {
          "data": {
            "text/plain": [
              "[<matplotlib.lines.Line2D at 0x7f35e30d3490>]"
            ]
          },
          "execution_count": 35,
          "metadata": {},
          "output_type": "execute_result"
        },
        {
          "data": {
            "text/plain": [
              "[<matplotlib.lines.Line2D at 0x7f35e30c2690>]"
            ]
          },
          "execution_count": 35,
          "metadata": {},
          "output_type": "execute_result"
        },
        {
          "data": {
            "text/plain": [
              "Text(0.5, 0, 'Epoch')"
            ]
          },
          "execution_count": 35,
          "metadata": {},
          "output_type": "execute_result"
        },
        {
          "data": {
            "text/plain": [
              "Text(0, 0.5, 'Linf Norm')"
            ]
          },
          "execution_count": 35,
          "metadata": {},
          "output_type": "execute_result"
        },
        {
          "data": {
            "text/plain": [
              "(0.001, 100.0)"
            ]
          },
          "execution_count": 35,
          "metadata": {},
          "output_type": "execute_result"
        },
        {
          "data": {
            "text/plain": [
              "<matplotlib.legend.Legend at 0x7f35e31272d0>"
            ]
          },
          "execution_count": 35,
          "metadata": {},
          "output_type": "execute_result"
        },
        {
          "data": {
            "image/png": "[encoded data removed]",
            "text/plain": [
              "<Figure size 1200x800 with 2 Axes>"
            ]
          },
          "metadata": {},
          "output_type": "display_data"
        },
        {
          "data": {
            "text/plain": [
              "<Figure size 800x600 with 0 Axes>"
            ]
          },
          "execution_count": 35,
          "metadata": {},
          "output_type": "execute_result"
        },
        {
          "data": {
            "text/plain": [
              "[<matplotlib.lines.Line2D at 0x7f35dde2fcd0>]"
            ]
          },
          "execution_count": 35,
          "metadata": {},
          "output_type": "execute_result"
        },
        {
          "data": {
            "text/plain": [
              "[<matplotlib.lines.Line2D at 0x7f35ddd66dd0>]"
            ]
          },
          "execution_count": 35,
          "metadata": {},
          "output_type": "execute_result"
        },
        {
          "data": {
            "text/plain": [
              "Text(0.5, 0, 'Epoch')"
            ]
          },
          "execution_count": 35,
          "metadata": {},
          "output_type": "execute_result"
        },
        {
          "data": {
            "text/plain": [
              "Text(0, 0.5, 'Huber Loss')"
            ]
          },
          "execution_count": 35,
          "metadata": {},
          "output_type": "execute_result"
        },
        {
          "data": {
            "text/plain": [
              "(1e-07, 1.0)"
            ]
          },
          "execution_count": 35,
          "metadata": {},
          "output_type": "execute_result"
        },
        {
          "data": {
            "text/plain": [
              "<matplotlib.legend.Legend at 0x7f35e296f190>"
            ]
          },
          "execution_count": 35,
          "metadata": {},
          "output_type": "execute_result"
        },
        {
          "data": {
            "image/png": "[encoded data removed]",
            "text/plain": [
              "<Figure size 800x600 with 1 Axes>"
            ]
          },
          "metadata": {},
          "output_type": "display_data"
        }
      ],
      "source": [
        "# Plotting the losses and metrics for the best network \n",
        "plt.figure(figsize=(12, 8))\n",
        "#plt.subplot(2, 2, 1)\n",
        "#plt.plot(train_losses, label=\"Train Loss\")\n",
        "#plt.plot(test_losses, label=\"Test Loss\")\n",
        "#plt.xlabel(\"Epoch\")\n",
        "#plt.ylabel(\"Loss\")\n",
        "#plt.legend()\n",
        "plt.subplot(2, 2, 2)\n",
        "plt.plot([m[\"l1_norm\"] for m in train_metrics], label=\"Train L1 Norm\")\n",
        "plt.plot([m[\"l1_norm\"] for m in test_metrics], label=\"Test L1 Norm\")\n",
        "plt.xlabel(\"Epoch\")\n",
        "plt.ylabel(\"L1 Norm\")\n",
        "# Added setting the vertical axis to be in powers of 10\n",
        "plt.yscale(\"log\")\n",
        "# Added setting the vertical axis limits to be from 10^-7 to 10^0\n",
        "plt.ylim(1e-3, 1e2)\n",
        "plt.legend()\n",
        "plt.subplot(2, 2, 3)\n",
        "plt.plot([m[\"linf_norm\"] for m in train_metrics], label=\"Train Linf Norm\")\n",
        "plt.plot([m[\"linf_norm\"] for m in test_metrics], label=\"Test Linf Norm\")\n",
        "plt.xlabel(\"Epoch\")\n",
        "plt.ylabel(\"Linf Norm\")\n",
        "# Added setting the vertical axis to be in powers of 10\n",
        "plt.yscale(\"log\")\n",
        "# Added setting the vertical axis limits to be from 10^-7 to 10^0\n",
        "plt.ylim(1e-3, 1e2)\n",
        "plt.legend()\n",
        "plt.tight_layout()\n",
        "plt.show()\n",
        "\n",
        "# Added plotting MSE of training data and MSE of test data in one plot \n",
        "plt.figure(figsize=(8, 6))\n",
        "plt.plot(train_losses,label=\"training data\")\n",
        "plt.plot(test_losses,label=\"test data\")\n",
        "#if scheduler is not None:\n",
        "#    plt.plot([scheduler.get_last_lr()[0] for _ in range(n_epochs)], label=\"Learning rate\") \n",
        "plt.xlabel(\"Epoch\")\n",
        "plt.ylabel(f\"{loss_name} Loss\")\n",
        "# Added setting the vertical axis to be in powers of 10\n",
        "plt.yscale(\"log\")\n",
        "# Added setting the vertical axis limits to be from 10^-7 to 10^0\n",
        "plt.ylim(1e-7, 1e0)\n",
        "plt.legend()\n",
        "plt.show()"
      ]
    },
    {
      "cell_type": "markdown",
      "metadata": {
        "id": "tiEDutxIUZig"
      },
      "source": [
        "## Loading"
      ]
    },
    {
      "cell_type": "code",
      "execution_count": 36,
      "metadata": {
        "colab": {
          "base_uri": "https://localhost:8080/"
        },
        "id": "p7Mj990wUZih",
        "outputId": "a1132948-c3b1-4d75-becf-4efa93c9a7d0"
      },
      "outputs": [
        {
          "data": {
            "text/plain": [
              "<All keys matched successfully>"
            ]
          },
          "execution_count": 36,
          "metadata": {},
          "output_type": "execute_result"
        }
      ],
      "source": [
        "import json\n",
        "import pandas as pd\n",
        "\n",
        "# load the dictionary from the .json file\n",
        "with open(\"var_dict.json\", \"r\") as f:\n",
        "  var_dict_loaded = json.load(f)\n",
        "\n",
        "# extract the variables from the dictionary\n",
        "batch_size_loaded = var_dict_loaded[\"batch_size\"]\n",
        "n_epochs_loaded = var_dict_loaded[\"n_epochs\"]\n",
        "loss_name_loaded = var_dict_loaded[\"loss_name\"]\n",
        "optimizer_name_loaded = var_dict_loaded[\"optimizer_name\"]\n",
        "scheduler_name_loaded = var_dict_loaded[\"scheduler_name\"]\n",
        "n_units_loaded = var_dict_loaded[\"n_units\"]\n",
        "n_layers_loaded = var_dict_loaded[\"n_layers\"]\n",
        "hidden_activation_name_loaded = var_dict_loaded[\"hidden_activation_name\"]\n",
        "output_activation_name_loaded = var_dict_loaded[\"output_activation_name\"]\n",
        "lr_loaded = var_dict_loaded[\"lr\"]\n",
        "\n",
        "# create the activation functions from their names\n",
        "if hidden_activation_name_loaded == \"ReLU\":\n",
        "  hidden_activation_loaded = nn.ReLU()\n",
        "elif hidden_activation_name_loaded == \"LeakyReLU\":\n",
        "  hidden_activation_loaded = nn.LeakyReLU() \n",
        "elif hidden_activation_name_loaded == \"ELU\":\n",
        "  hidden_activation_loaded = nn.ELU() \n",
        "elif hidden_activation_name_loaded == \"Tanh\":\n",
        "  hidden_activation_loaded = nn.Tanh()\n",
        "else:\n",
        "  hidden_activation_loaded = nn.Sigmoid()\n",
        "\n",
        "if output_activation_name_loaded == \"ReLU\":\n",
        "    output_activation_loaded = nn.ReLU()\n",
        "elif output_activation_name_loaded == \"Softplus\":\n",
        "    output_activation_loaded = nn.Softplus()\n",
        "else:\n",
        "    output_activation_loaded = nn.Identity()\n",
        "\n",
        "\n",
        "\n",
        "# load the network from the .pth file\n",
        "net_loaded = Net(n_layers_loaded, n_units_loaded, hidden_activation_loaded, output_activation_loaded).to(device)\n",
        "if torch.cuda.is_available():\n",
        " net_loaded.load_state_dict(torch.load(\"net.pth\"))\n",
        "else: \n",
        "  net_loaded.load_state_dict(torch.load(\"net.pth\", map_location=torch.device('cpu')))\n",
        "\n",
        "# create the loss function from its name\n",
        "if loss_name_loaded == \"MSE\":\n",
        "  loss_fn_loaded = nn.MSELoss()\n",
        "elif loss_name_loaded == \"MAE\":\n",
        "  loss_fn_loaded = nn.L1Loss()\n",
        "elif loss_name_loaded == \"Huber\":\n",
        "  loss_fn_loaded = nn.SmoothL1Loss() \n",
        "else:\n",
        "  # create the log-cosh loss function\n",
        "  def log_cosh_loss_loaded(y_pred, y_true):\n",
        "    return torch.mean(torch.log(torch.cosh(y_pred - y_true)))\n",
        "  loss_fn_loaded = log_cosh_loss_loaded\n",
        "\n",
        "# load the optimizer from the .pth file\n",
        "if torch.cuda.is_available():\n",
        "  optimizer_loaded_state_dict = torch.load(\"optimizer.pth\")\n",
        "else:\n",
        "  optimizer_loaded_state_dict = torch.load(\"optimizer.pth\", map_location=torch.device('cpu'))\n",
        "\n",
        "if optimizer_name_loaded == \"SGD\":\n",
        "  # Added getting the weight decay and momentum parameters from the state dict\n",
        "  weight_decay_loaded = optimizer_loaded_state_dict[\"param_groups\"][0][\"weight_decay\"]\n",
        "  momentum_loaded = optimizer_loaded_state_dict[\"param_groups\"][0][\"momentum\"]\n",
        "  optimizer_loaded = optim.SGD(net_loaded.parameters(), lr=lr_loaded, weight_decay=weight_decay_loaded, momentum=momentum_loaded)\n",
        "elif optimizer_name_loaded == \"Adam\":\n",
        "  # Added getting the weight decay and beta parameters from the state dict\n",
        "  weight_decay_loaded = optimizer_loaded_state_dict[\"param_groups\"][0][\"weight_decay\"]\n",
        "  beta1_loaded = optimizer_loaded_state_dict[\"param_groups\"][0][\"betas\"][0]\n",
        "  beta2_loaded = optimizer_loaded_state_dict[\"param_groups\"][0][\"betas\"][1]\n",
        "  optimizer_loaded = optim.Adam(net_loaded.parameters(), lr=lr_loaded, weight_decay=weight_decay_loaded, betas=(beta1_loaded, beta2_loaded))\n",
        "elif optimizer_name_loaded == \"RMSprop\":\n",
        "  optimizer_loaded = optim.RMSprop(net_loaded.parameters(), lr=lr_loaded)\n",
        "else:\n",
        "  # Added loading the Adagrad optimizer\n",
        "  optimizer_loaded = optim.Adagrad(net_loaded.parameters(), lr=lr_loaded)\n",
        "optimizer_loaded.load_state_dict(optimizer_loaded_state_dict)\n",
        "\n",
        "# load the scheduler from the .pth file\n",
        "if torch.cuda.is_available():\n",
        "  scheduler_loaded_state_dict = torch.load(\"scheduler.pth\")\n",
        "else: \n",
        "  scheduler_loaded_state_dict = torch.load(\"scheduler.pth\", map_location=torch.device('cpu'))\n",
        "\n",
        "if scheduler_name_loaded == \"StepLR\":\n",
        "  # Added getting the step_size and gamma parameters from the state dict\n",
        "  step_size_loaded = scheduler_loaded_state_dict[\"step_size\"]\n",
        "  gamma_loaded = scheduler_loaded_state_dict[\"gamma\"]\n",
        "  scheduler_loaded = optim.lr_scheduler.StepLR(optimizer_loaded, step_size=step_size_loaded, gamma=gamma_loaded)\n",
        "elif scheduler_name_loaded == \"ExponentialLR\":\n",
        "  # Added getting the gamma parameter from the state dict\n",
        "  gamma_loaded = scheduler_loaded_state_dict[\"gamma\"]\n",
        "  scheduler_loaded = optim.lr_scheduler.ExponentialLR(optimizer_loaded, gamma=gamma_loaded)\n",
        "elif scheduler_name_loaded == \"CosineAnnealingLR\":\n",
        "  # Added getting the T_max parameter from the state dict\n",
        "  T_max_loaded = scheduler_loaded_state_dict[\"T_max\"]\n",
        "  scheduler_loaded = optim.lr_scheduler.CosineAnnealingLR(optimizer_loaded, T_max=T_max_loaded)\n",
        "elif scheduler_name_loaded == \"ReduceLROnPlateau\":\n",
        "  # Added getting the mode, factor, patience, threshold and min_lr parameters from the state dict\n",
        "  mode_loaded = scheduler_loaded_state_dict[\"mode\"]\n",
        "  factor_loaded = scheduler_loaded_state_dict[\"factor\"]\n",
        "  patience_loaded = scheduler_loaded_state_dict[\"patience\"]\n",
        "  threshold_loaded = scheduler_loaded_state_dict[\"threshold\"]\n",
        "  min_lr_loaded = scheduler_loaded_state_dict[\"min_lrs\"][0]\n",
        "  scheduler_loaded = optim.lr_scheduler.ReduceLROnPlateau(\n",
        "                    optimizer_loaded, mode=mode_loaded, factor=factor_loaded, patience=patience_loaded, threshold=threshold_loaded, min_lr=min_lr_loaded\n",
        "                )\n",
        "# elif scheduler_name_loaded == \"OneCycleLR\":\n",
        "#   max_lr_loaded = scheduler_loaded_state_dict[\"max_lr\"]\n",
        "#   epochs_loaded = scheduler_loaded_state_dict[\"epochs\"]\n",
        "#   steps_per_epoch_loaded = scheduler_loaded_state_dict[\"steps_per_epoch\"]\n",
        "#   pct_start_loaded = scheduler_loaded_state_dict[\"pct_start\"]\n",
        "#   max_lr_loaded = scheduler_loaded_state_dict[\"max_lr\"]\n",
        "#   scheduler_loaded = optim.lr_scheduler.OneCycleLR(\n",
        "#                     optimizer_loaded, max_lr=max_lr_loaded, epochs=epochs_loaded, steps_per_epoch=steps_per_epoch_loaded, pct_start=pct_start_loaded\n",
        "#                 )\n",
        "else:\n",
        "  scheduler_loaded = None\n",
        "\n",
        "if scheduler_loaded is not None:\n",
        "  # Added loading the state dict to the scheduler_loaded\n",
        "  scheduler_loaded.load_state_dict(scheduler_loaded_state_dict)\n",
        "\n",
        "# Loading the output of the training using pandas\n",
        "train_df_loaded = pd.read_csv(\"train_output.csv\")\n",
        "train_losses_loaded = train_df_loaded[\"train_loss\"].tolist()\n",
        "test_losses_loaded = train_df_loaded[\"test_loss\"].tolist()\n",
        "train_metrics_loaded = [\n",
        "    {\n",
        "        \"l1_norm\": train_df_loaded[\"train_l1_norm\"][i],\n",
        "        \"linf_norm\": train_df_loaded[\"train_linf_norm\"][i],\n",
        "    }\n",
        "    for i in range(len(train_df_loaded))\n",
        "]\n",
        "test_metrics_loaded = [\n",
        "    {\n",
        "        \"l1_norm\": train_df_loaded[\"test_l1_norm\"][i],\n",
        "        \"linf_norm\": train_df_loaded[\"test_linf_norm\"][i],\n",
        "    }\n",
        "    for i in range(len(train_df_loaded))\n",
        "]"
      ]
    },
    {
      "cell_type": "code",
      "execution_count": 37,
      "metadata": {
        "colab": {
          "base_uri": "https://localhost:8080/",
          "height": 1000
        },
        "id": "GQ_fcj7zUZii",
        "outputId": "c4979ef0-a99c-4754-e222-3af23a83c1cb"
      },
      "outputs": [
        {
          "name": "stdout",
          "output_type": "stream",
          "text": [
            "skipping\n"
          ]
        }
      ],
      "source": [
        "%%script echo skipping\n",
        "\n",
        "batch_size_loaded\n",
        "n_epochs_loaded\n",
        "loss_name_loaded\n",
        "optimizer_name_loaded\n",
        "scheduler_name_loaded\n",
        "n_units_loaded\n",
        "n_layers_loaded\n",
        "hidden_activation_name_loaded\n",
        "output_activation_name_loaded\n",
        "lr_loaded\n",
        "hidden_activation_loaded\n",
        "output_activation_loaded\n",
        "net_loaded\n",
        "net_loaded.__dict__ # print the subparameters of the network\n",
        "loss_fn_loaded\n",
        "optimizer_loaded\n",
        "optimizer_loaded.__dict__ # print the subparameters of the optimizer\n",
        "scheduler_loaded\n",
        "scheduler_loaded.__dict__ # print the subparameters of the scheduler\n",
        "train_losses_loaded\n",
        "test_losses_loaded\n",
        "train_metrics_loaded\n",
        "test_metrics_loaded"
      ]
    },
    {
      "cell_type": "code",
      "execution_count": 38,
      "metadata": {},
      "outputs": [
        {
          "data": {
            "text/plain": [
              "0.0271358169812127"
            ]
          },
          "execution_count": 38,
          "metadata": {},
          "output_type": "execute_result"
        },
        {
          "data": {
            "text/plain": [
              "0.0226733939564786"
            ]
          },
          "execution_count": 38,
          "metadata": {},
          "output_type": "execute_result"
        },
        {
          "data": {
            "text/plain": [
              "0.4689961026787758"
            ]
          },
          "execution_count": 38,
          "metadata": {},
          "output_type": "execute_result"
        },
        {
          "data": {
            "text/plain": [
              "15.344547049109638"
            ]
          },
          "execution_count": 38,
          "metadata": {},
          "output_type": "execute_result"
        },
        {
          "name": "stdout",
          "output_type": "stream",
          "text": [
            "Error is 1221.3440173926451 times bigger than in Dieselhorst et al.\n",
            "Error is 1885.079490062609 times bigger than in Dieselhorst et al.\n"
          ]
        }
      ],
      "source": [
        "train_losses_loaded[-1]\n",
        "test_losses_loaded[-1]\n",
        "test_metrics_loaded[-1]['l1_norm']\n",
        "test_metrics_loaded[-1]['linf_norm']\n",
        "print(f'Error is {test_metrics_loaded[-1][\"l1_norm\"] / (3.84e-4)} times bigger than in Dieselhorst et al.')\n",
        "print(f'Error is {test_metrics_loaded[-1][\"linf_norm\"] / (8.14e-3)} times bigger than in Dieselhorst et al.')"
      ]
    },
    {
      "attachments": {},
      "cell_type": "markdown",
      "metadata": {},
      "source": [
        "### Visualize loaded results"
      ]
    },
    {
      "cell_type": "markdown",
      "metadata": {
        "id": "vwLGR1aSUZik"
      },
      "source": [
        "Let us verify correct loading of the train and test metrics by visualizing them again but now through the loaded values. Likewise for the train and test losses."
      ]
    },
    {
      "cell_type": "code",
      "execution_count": 39,
      "metadata": {
        "id": "sXiNgLsmUZil"
      },
      "outputs": [],
      "source": [
        "%config InteractiveShell.ast_node_interactivity = \"last_expr_or_assign\""
      ]
    },
    {
      "cell_type": "code",
      "execution_count": 40,
      "metadata": {
        "colab": {
          "base_uri": "https://localhost:8080/",
          "height": 1000
        },
        "id": "sgq4WfSiUZil",
        "outputId": "9934bd08-6c78-4a92-c8c6-d8e835c351b3"
      },
      "outputs": [
        {
          "data": {
            "image/png": "[encoded data removed]",
            "text/plain": [
              "<Figure size 640x480 with 2 Axes>"
            ]
          },
          "metadata": {},
          "output_type": "display_data"
        },
        {
          "data": {
            "image/png": "[encoded data removed]",
            "text/plain": [
              "<Figure size 800x600 with 1 Axes>"
            ]
          },
          "metadata": {},
          "output_type": "display_data"
        }
      ],
      "source": [
        "# Plotting the losses and metrics for the best network plt.figure(figsize=(12, \n",
        "#plt.subplot(2, 2, 1)\n",
        "#plt.plot(train_losses_loaded, label=\"Train Loss\")\n",
        "#plt.plot(test_losses_loaded, label=\"Test Loss\")\n",
        "#plt.xlabel(\"Epoch\")\n",
        "#plt.ylabel(\"Loss\")\n",
        "#plt.legend()\n",
        "plt.subplot(2, 2, 2)\n",
        "plt.plot([m[\"l1_norm\"] for m in train_metrics_loaded], label=\"Train L1 Norm\")\n",
        "plt.plot([m[\"l1_norm\"] for m in test_metrics_loaded], label=\"Test L1 Norm\")\n",
        "plt.xlabel(\"Epoch\")\n",
        "plt.ylabel(\"L1 Norm\")\n",
        "# Added setting the vertical axis to be in powers of 10\n",
        "plt.yscale(\"log\")\n",
        "# Added setting the vertical axis limits to be from 10^-7 to 10^0\n",
        "plt.ylim(1e-3, 1e2)\n",
        "plt.legend()\n",
        "plt.subplot(2, 2, 3)\n",
        "plt.plot([m[\"linf_norm\"] for m in train_metrics_loaded], label=\"Train Linf Norm\")\n",
        "plt.plot([m[\"linf_norm\"] for m in test_metrics_loaded], label=\"Test Linf Norm\")\n",
        "plt.xlabel(\"Epoch\")\n",
        "plt.ylabel(\"Linf Norm\")\n",
        "# Added setting the vertical axis to be in powers of 10\n",
        "plt.yscale(\"log\")\n",
        "# Added setting the vertical axis limits to be from 10^-7 to 10^0\n",
        "plt.ylim(1e-3, 1e2)\n",
        "plt.legend()\n",
        "plt.tight_layout()\n",
        "plt.show()\n",
        "\n",
        "# Added plotting MSE of training data and MSE of test data in one plot \n",
        "plt.figure(figsize=(8, 6))\n",
        "plt.plot(train_losses_loaded,label=\"training data\")\n",
        "plt.plot(test_losses_loaded,label=\"test data\")\n",
        "#if scheduler is not None:\n",
        "#    plt.plot([scheduler.get_last_lr()[0] for _ in range(n_epochs)], label=\"Learning rate\") \n",
        "plt.xlabel(\"Epoch\")\n",
        "plt.ylabel(f\"{loss_name_loaded} Loss\")\n",
        "# Added setting the vertical axis to be in powers of 10\n",
        "plt.yscale(\"log\")\n",
        "# Added setting the vertical axis limits to be from 10^-7 to 10^0\n",
        "plt.ylim(1e-7, 1e0)\n",
        "plt.legend()\n",
        "plt.show()\n"
      ]
    },
    {
      "cell_type": "code",
      "execution_count": 41,
      "metadata": {
        "id": "lkgLqJ_UUZim"
      },
      "outputs": [],
      "source": [
        "%config InteractiveShell.ast_node_interactivity = \"all\""
      ]
    },
    {
      "attachments": {},
      "cell_type": "markdown",
      "metadata": {},
      "source": [
        "## Counting the number of parameters in the network."
      ]
    },
    {
      "cell_type": "code",
      "execution_count": 42,
      "metadata": {},
      "outputs": [
        {
          "data": {
            "text/plain": [
              "Net(\n",
              "  (hidden_activation): ReLU()\n",
              "  (output_activation): ReLU()\n",
              "  (layers): ModuleList(\n",
              "    (0): Linear(in_features=8, out_features=555, bias=True)\n",
              "    (1): Linear(in_features=555, out_features=458, bias=True)\n",
              "    (2): Linear(in_features=458, out_features=115, bias=True)\n",
              "    (3): Linear(in_features=115, out_features=1, bias=True)\n",
              "  )\n",
              ")"
            ]
          },
          "execution_count": 42,
          "metadata": {},
          "output_type": "execute_result"
        },
        {
          "name": "stdout",
          "output_type": "stream",
          "text": [
            "The model has 312544 parameters.\n"
          ]
        }
      ],
      "source": [
        "net_loaded.eval()\n",
        "def count_parameters(model):\n",
        "    return sum(p.numel() for p in model.parameters() if p.requires_grad)\n",
        "print(f'The model has {count_parameters(net_loaded)} parameters.')"
      ]
    },
    {
      "attachments": {},
      "cell_type": "markdown",
      "metadata": {
        "id": "SxuzVSnlUZin"
      },
      "source": [
        "## Evaluating the network on arbirary input\n",
        "### Comparing `net` and `net_loaded`\n",
        "\n",
        "We compare `net` and `net_loaded` to confirm correct loading of the network. Note that `net` is only available if we have trained the model in this session."
      ]
    },
    {
      "cell_type": "code",
      "execution_count": 43,
      "metadata": {},
      "outputs": [
        {
          "data": {
            "text/plain": [
              "Net(\n",
              "  (hidden_activation): ReLU()\n",
              "  (output_activation): ReLU()\n",
              "  (layers): ModuleList(\n",
              "    (0): Linear(in_features=8, out_features=555, bias=True)\n",
              "    (1): Linear(in_features=555, out_features=458, bias=True)\n",
              "    (2): Linear(in_features=458, out_features=115, bias=True)\n",
              "    (3): Linear(in_features=115, out_features=1, bias=True)\n",
              "  )\n",
              ")"
            ]
          },
          "execution_count": 43,
          "metadata": {},
          "output_type": "execute_result"
        }
      ],
      "source": [
        "#%%script echo skipping\n",
        "\n",
        "# Set the network to evaluation mode\n",
        "net.eval()"
      ]
    },
    {
      "cell_type": "code",
      "execution_count": 44,
      "metadata": {},
      "outputs": [
        {
          "data": {
            "text/plain": [
              "Net(\n",
              "  (hidden_activation): ReLU()\n",
              "  (output_activation): ReLU()\n",
              "  (layers): ModuleList(\n",
              "    (0): Linear(in_features=8, out_features=555, bias=True)\n",
              "    (1): Linear(in_features=555, out_features=458, bias=True)\n",
              "    (2): Linear(in_features=458, out_features=115, bias=True)\n",
              "    (3): Linear(in_features=115, out_features=1, bias=True)\n",
              "  )\n",
              ")"
            ]
          },
          "execution_count": 44,
          "metadata": {},
          "output_type": "execute_result"
        }
      ],
      "source": [
        "# Set the network to evaluation mode\n",
        "net_loaded.eval()\n"
      ]
    },
    {
      "cell_type": "code",
      "execution_count": 45,
      "metadata": {},
      "outputs": [
        {
          "name": "stdout",
          "output_type": "stream",
          "text": [
            "Parameters are the same.\n",
            "Net device: cpu\n",
            "Net_loaded device: cpu\n"
          ]
        }
      ],
      "source": [
        "for p1, p2 in zip(net.parameters(), net_loaded.parameters()):\n",
        "    if p1.data.ne(p2.data).sum() > 0:\n",
        "        print(\"Parameters are NOT the same.\")\n",
        "        break\n",
        "else:\n",
        "    print(\"Parameters are the same.\")\n",
        "\n",
        "print(\"Net device:\", next(net.parameters()).device)\n",
        "print(\"Net_loaded device:\", next(net_loaded.parameters()).device)"
      ]
    },
    {
      "cell_type": "code",
      "execution_count": 46,
      "metadata": {
        "colab": {
          "base_uri": "https://localhost:8080/"
        },
        "id": "C0PLAA0DUZin",
        "outputId": "c51e07dd-8b35-4ea4-cdf9-3118d7796e30"
      },
      "outputs": [
        {
          "name": "stdout",
          "output_type": "stream",
          "text": [
            "[Parameter containing:\n",
            "tensor([[-0.3054, -0.3602,  0.1746,  ...,  0.0948,  0.0808, -0.3294],\n",
            "        [ 0.2627, -0.1686,  0.2807,  ...,  0.2384,  0.4053,  0.3811],\n",
            "        [-0.1800,  0.0218,  0.1394,  ...,  0.0101,  0.0684,  0.2556],\n",
            "        ...,\n",
            "        [-0.2818, -0.1025,  0.0239,  ...,  0.1106, -0.0458, -0.3830],\n",
            "        [-0.2067,  0.3095, -0.1094,  ..., -0.0117,  0.2458,  0.1398],\n",
            "        [ 0.0113,  0.0622, -0.2162,  ...,  0.3203,  0.3690,  0.3647]],\n",
            "       requires_grad=True), Parameter containing:\n",
            "tensor([-1.1010e-01, -2.9248e-01, -2.9884e-02,  4.1458e-01, -1.4125e-01,\n",
            "         2.4144e-01,  2.9255e-01,  2.5395e-01,  3.2617e-01, -3.5351e-01,\n",
            "        -4.0344e-01,  3.0031e-01, -2.6900e-01,  2.1940e-01,  2.8361e-01,\n",
            "         1.6965e-01, -2.3798e-01,  1.0020e-01, -4.0607e-02, -4.3163e-02,\n",
            "         3.5559e-01,  3.4683e-01,  6.0022e-02,  2.9227e-01,  7.9422e-03,\n",
            "         4.4066e-03, -2.3867e-01,  2.5445e-02, -2.4107e-02, -6.4685e-02,\n",
            "        -1.6763e-01, -1.5188e-01, -1.0040e-01, -1.4127e-01, -2.6299e-01,\n",
            "         2.6716e-01, -4.5878e-01, -3.3238e-01, -3.0885e-01, -6.4596e-02,\n",
            "        -2.0831e-01, -3.3116e-01,  2.8522e-01,  3.0202e-01, -3.3402e-01,\n",
            "         3.5160e-01, -1.8431e-01,  2.8091e-01,  2.6405e-01,  2.3099e-02,\n",
            "        -3.7199e-01, -2.7032e-01,  2.9546e-01,  1.2882e-01,  2.7662e-01,\n",
            "        -3.3185e-01, -1.8388e-01, -1.9386e-01, -1.7721e-01,  1.9560e-01,\n",
            "        -2.4800e-01, -1.5185e-01,  1.4820e-01, -4.4399e-01,  6.6973e-02,\n",
            "         2.2214e-01,  1.8409e-01, -1.3206e-01,  3.4857e-01, -3.8555e-01,\n",
            "         2.3277e-01, -3.9110e-02, -9.6376e-02, -2.3445e-01, -8.7158e-02,\n",
            "         3.4281e-01, -1.3285e-01, -2.4503e-01, -3.4199e-01, -5.1571e-02,\n",
            "         1.7944e-01, -1.1078e-02, -1.3089e-01,  1.3795e-01, -2.6434e-01,\n",
            "        -9.8678e-02,  1.1846e-02,  2.1597e-01,  1.2672e-01, -2.0760e-01,\n",
            "        -5.7310e-02,  2.2306e-01,  3.9194e-01,  5.9680e-02, -1.4022e-01,\n",
            "        -4.5287e-02, -1.6291e-01, -3.0261e-01,  6.8784e-02,  3.0933e-01,\n",
            "        -3.6951e-01, -1.4814e-01, -9.9956e-02,  1.7431e-01, -1.2284e-01,\n",
            "        -1.5841e-01, -8.4497e-02, -4.1759e-01, -2.4728e-01,  7.6803e-02,\n",
            "        -1.0014e-01,  2.3493e-01,  2.7316e-01, -1.2992e-01, -3.1342e-01,\n",
            "         2.5499e-01,  2.3890e-01,  2.4855e-01,  3.0300e-01,  1.5346e-01,\n",
            "        -3.5864e-04,  2.9397e-01, -3.7267e-02, -2.3444e-01, -1.6911e-01,\n",
            "        -3.3202e-02,  4.7486e-03,  3.7117e-02,  2.4776e-02,  2.6322e-01,\n",
            "        -3.0287e-01,  3.3006e-01, -1.2385e-01, -2.2436e-01,  1.1752e-01,\n",
            "        -3.0987e-01, -9.2553e-02, -7.2692e-02,  2.7693e-01,  2.4801e-01,\n",
            "         2.8965e-01, -2.5087e-01, -1.6256e-01,  9.2253e-02, -9.1967e-02,\n",
            "         3.0370e-01,  3.9369e-01,  6.2028e-02, -6.0140e-02,  5.9295e-02,\n",
            "        -2.8557e-01,  2.3138e-01,  3.1982e-01, -1.5909e-01, -3.2926e-01,\n",
            "        -3.8181e-01,  3.3399e-01, -3.0399e-01,  2.0039e-02,  7.6165e-02,\n",
            "        -1.1361e-02,  2.3035e-01,  6.2577e-03,  1.5302e-01,  1.4632e-01,\n",
            "         2.5883e-02,  1.8878e-01, -1.5600e-01, -1.6176e-01,  1.7311e-01,\n",
            "         4.0388e-03, -7.9095e-02,  2.6047e-02, -5.5624e-02,  3.8975e-01,\n",
            "         2.3192e-01,  2.2313e-01,  3.2645e-01, -3.8003e-01,  2.8054e-01,\n",
            "        -2.0166e-01, -1.7425e-02,  9.1282e-02, -2.1767e-01,  2.5660e-01,\n",
            "        -3.2332e-01,  1.7563e-01, -8.9808e-02,  7.2415e-02, -2.9701e-01,\n",
            "        -3.2908e-01, -3.0902e-01,  8.8674e-03,  2.3560e-01,  3.4833e-02,\n",
            "        -1.9071e-01, -3.5659e-01,  2.4300e-02, -9.8352e-03,  7.5438e-02,\n",
            "         7.7012e-02,  3.8932e-02,  9.8773e-03,  8.1753e-04, -2.4179e-01,\n",
            "        -4.5372e-01,  1.9591e-01,  1.7315e-01, -1.5866e-01,  1.4984e-01,\n",
            "        -1.1597e-02,  1.4838e-01, -4.1026e-02,  2.2470e-01, -1.0143e-01,\n",
            "         1.8781e-01,  2.1307e-01, -1.5933e-01,  4.4261e-02, -7.4983e-02,\n",
            "        -3.5049e-01,  1.5303e-01, -2.4425e-01, -2.2282e-03,  1.8707e-01,\n",
            "        -2.6391e-01, -3.3854e-01,  3.9878e-01,  3.4119e-02, -5.1629e-02,\n",
            "         3.9882e-02, -1.4514e-01,  1.9526e-01,  2.3103e-01, -2.4349e-01,\n",
            "         1.9960e-01,  1.9132e-02, -1.5988e-01,  2.0881e-02,  3.6560e-02,\n",
            "         1.8134e-01, -1.5979e-01,  2.0962e-01, -3.8122e-01,  1.0913e-03,\n",
            "        -1.5399e-01, -1.6191e-01, -5.8262e-02, -1.7643e-02,  3.8259e-01,\n",
            "         4.1282e-02, -3.4666e-01,  2.8056e-01,  3.4531e-02,  2.2721e-01,\n",
            "         3.5098e-01,  6.0552e-02, -2.5785e-01, -4.2010e-01, -6.9470e-02,\n",
            "         3.7278e-01,  2.3874e-01, -1.1257e-01, -2.1262e-01, -1.3868e-01,\n",
            "         1.7201e-01, -2.2343e-01, -3.2766e-01, -9.4943e-02,  1.3465e-01,\n",
            "         1.7682e-01, -3.3471e-02, -2.7783e-01, -2.6930e-01, -9.6075e-02,\n",
            "        -1.2932e-01, -2.2883e-01, -2.3002e-01,  7.8893e-02, -2.1542e-01,\n",
            "         3.2997e-01,  5.1427e-02, -6.9696e-02, -1.6703e-01,  1.2362e-01,\n",
            "         2.2820e-01, -1.5186e-01,  6.6595e-02, -3.1978e-01,  2.1278e-02,\n",
            "         3.3267e-01,  9.7526e-02,  5.8846e-02,  2.9780e-01,  2.8012e-01,\n",
            "        -3.5496e-02,  2.6456e-01,  1.5209e-01,  2.5126e-01, -2.9358e-01,\n",
            "         1.5835e-01,  5.3699e-02, -2.2390e-01, -4.2592e-02, -1.1931e-01,\n",
            "        -3.0523e-01,  2.2112e-01,  4.5093e-03,  2.7900e-01,  3.8201e-02,\n",
            "         3.4626e-01,  3.3834e-01,  1.9593e-01,  2.3055e-01,  3.6851e-01,\n",
            "        -1.4403e-01, -2.4746e-01,  3.0746e-01, -2.9282e-01,  1.2085e-01,\n",
            "         2.8841e-01,  1.0953e-01,  2.5805e-01,  8.2639e-02, -2.6915e-01,\n",
            "         9.2512e-02, -2.2024e-01,  3.4242e-02, -3.0970e-01,  1.5654e-01,\n",
            "        -1.2355e-01,  2.3424e-01, -3.6516e-01, -1.0475e-01, -9.6927e-02,\n",
            "        -2.0326e-01,  2.9363e-01, -6.1170e-02, -1.9568e-01,  2.5199e-01,\n",
            "         1.2779e-01, -2.6312e-01, -2.0917e-01,  3.0861e-01,  1.1973e-01,\n",
            "        -7.6490e-02, -1.8680e-01, -4.7355e-01, -1.9625e-01,  2.4916e-02,\n",
            "        -1.0341e-01,  2.8198e-02,  3.2992e-01, -1.2186e-01,  3.2726e-01,\n",
            "         1.3303e-01, -2.2957e-01, -8.8215e-02,  1.5623e-01, -1.2972e-01,\n",
            "        -2.5934e-01,  2.7548e-02, -2.8954e-01, -3.2235e-01,  1.3887e-01,\n",
            "        -2.4807e-01,  1.4265e-02,  2.0474e-01, -1.5199e-01, -1.8889e-01,\n",
            "        -1.4347e-01,  2.8545e-01, -3.7727e-03, -7.1787e-02, -1.0452e-01,\n",
            "         1.0164e-01,  2.0196e-01, -4.7185e-02,  3.4042e-01,  9.5925e-02,\n",
            "         4.1382e-01,  2.6145e-01, -3.8174e-01,  3.7175e-01,  9.1347e-02,\n",
            "         9.7771e-02,  2.5649e-01,  9.7104e-02, -1.7915e-01, -2.4488e-01,\n",
            "         3.5597e-01, -1.0103e-01,  3.0767e-01,  8.0361e-02,  1.3560e-01,\n",
            "         6.9398e-02, -2.6173e-01, -4.7325e-02,  1.0596e-01, -2.6714e-01,\n",
            "        -2.5547e-01, -2.4606e-01, -3.3440e-01, -2.0369e-01, -2.8312e-01,\n",
            "        -2.5471e-01,  3.9748e-01, -6.1208e-02, -9.8115e-02, -9.8220e-02,\n",
            "         1.6748e-01,  1.9299e-01,  5.2777e-02, -7.4032e-02,  7.4215e-02,\n",
            "         2.9991e-01,  1.3624e-01, -2.3143e-01, -3.3803e-01, -3.0348e-02,\n",
            "         2.5749e-01, -3.6661e-01,  2.7872e-02,  6.7416e-04,  2.5422e-01,\n",
            "        -3.0721e-01, -2.9976e-01, -2.9686e-01, -7.0235e-03, -2.3039e-01,\n",
            "        -2.9774e-01,  1.6017e-01,  1.1677e-02, -2.5177e-01, -5.6548e-02,\n",
            "         2.2440e-01,  2.6142e-01, -3.6050e-01,  6.2343e-02,  3.5790e-01,\n",
            "        -7.5964e-02, -1.2381e-01, -1.2984e-01, -1.6936e-01, -6.5844e-02,\n",
            "        -2.0462e-02, -1.4953e-01,  2.3222e-01, -2.9291e-01,  2.2634e-01,\n",
            "         1.0483e-01,  1.7015e-01, -1.7265e-01,  8.8530e-02,  3.6171e-01,\n",
            "        -3.7282e-01, -1.4358e-01, -1.5525e-01, -3.2586e-01, -2.7205e-01,\n",
            "         2.5036e-01,  2.5044e-01, -1.8389e-01,  7.9009e-02, -9.5037e-03,\n",
            "         7.1970e-02,  3.0497e-01, -4.2586e-01, -1.2365e-01, -1.1529e-01,\n",
            "        -2.7683e-01,  3.1982e-01,  2.9173e-01,  1.3508e-01,  2.3253e-01,\n",
            "        -2.6678e-01,  2.7813e-01, -1.4490e-01,  2.3505e-01,  2.8836e-02,\n",
            "         2.0575e-01,  6.6627e-03,  2.0864e-01,  3.3182e-01,  9.4981e-02,\n",
            "        -2.0656e-01,  1.0861e-01, -3.0846e-01,  6.1401e-02, -2.4202e-02,\n",
            "         2.5009e-01, -1.2500e-01, -2.0301e-01, -2.2646e-02, -2.6598e-01,\n",
            "         2.7203e-01,  2.1624e-01,  1.2519e-01,  2.2177e-01,  3.0561e-01,\n",
            "         1.4111e-01, -2.6455e-02, -1.5231e-01,  6.7548e-02,  5.8930e-02,\n",
            "         3.0706e-01, -5.9689e-03,  1.2547e-01,  1.0858e-01, -2.6176e-01,\n",
            "        -3.5755e-01, -7.9590e-02, -4.7205e-01,  2.8819e-01, -2.3062e-01,\n",
            "         2.9629e-01, -4.1874e-02, -2.4130e-01,  2.1478e-01,  9.4827e-02,\n",
            "        -2.2786e-01,  3.1459e-01, -3.2220e-01, -1.5382e-01,  1.8458e-01,\n",
            "        -2.6167e-01, -6.0866e-02,  1.5255e-01,  3.6429e-01,  1.6161e-01,\n",
            "        -6.1714e-02,  1.6645e-02, -3.6366e-01,  1.0126e-01, -2.8644e-01,\n",
            "        -2.8059e-01, -3.0531e-01,  9.4451e-03, -1.5744e-01,  2.2319e-01,\n",
            "        -2.8458e-01,  1.6300e-01, -1.2976e-01, -3.0813e-01, -3.6549e-01,\n",
            "         1.7815e-01, -1.3914e-01,  1.0204e-01, -1.8335e-01, -1.0735e-01,\n",
            "         2.4121e-01,  6.0850e-02,  1.2271e-01, -1.5400e-01, -1.1334e-01],\n",
            "       requires_grad=True), Parameter containing:\n",
            "tensor([[-0.0412, -0.0086, -0.0237,  ...,  0.0358,  0.0158,  0.0303],\n",
            "        [ 0.0238, -0.0719, -0.0209,  ..., -0.0284, -0.0666, -0.0542],\n",
            "        [ 0.0432, -0.0142,  0.0079,  ...,  0.0363,  0.0274,  0.0292],\n",
            "        ...,\n",
            "        [-0.0130, -0.0411, -0.0210,  ..., -0.0030, -0.0690,  0.0251],\n",
            "        [-0.0082,  0.0041,  0.0033,  ..., -0.0181,  0.0307,  0.0655],\n",
            "        [ 0.0217, -0.0035,  0.0234,  ...,  0.0058,  0.0277, -0.0069]],\n",
            "       requires_grad=True), Parameter containing:\n",
            "tensor([ 3.5539e-02, -3.8505e-02, -3.2582e-02, -4.2047e-02, -7.9846e-02,\n",
            "         6.5166e-03, -2.1281e-02, -4.2087e-02,  1.7759e-02,  5.1661e-02,\n",
            "        -1.5572e-02, -2.5736e-02,  2.0889e-02,  2.4394e-02,  6.5709e-03,\n",
            "        -2.5356e-02, -4.5333e-02, -5.3634e-02, -6.6173e-02, -6.9444e-02,\n",
            "         5.9366e-02, -1.6163e-02, -4.9813e-02, -4.3304e-02, -3.4274e-02,\n",
            "         1.4438e-02, -6.8976e-02,  3.1440e-02,  2.7812e-02,  7.8045e-03,\n",
            "         9.5780e-04,  2.0102e-02, -7.4613e-02, -2.0334e-02,  3.8295e-02,\n",
            "        -5.4834e-02,  6.1854e-03, -3.0652e-02,  8.4161e-02, -4.4545e-02,\n",
            "        -9.5890e-03,  1.2165e-03, -2.6724e-02, -2.3957e-02,  2.0685e-02,\n",
            "        -1.0903e-03, -2.2334e-02, -3.4159e-02,  4.5856e-03, -8.4498e-02,\n",
            "        -4.0509e-02, -2.6400e-02, -1.1575e-02,  5.2268e-03, -1.0111e-01,\n",
            "         1.3156e-03, -2.4555e-02, -1.1658e-02,  4.6344e-05,  3.0688e-02,\n",
            "        -4.3497e-02, -3.4216e-02, -6.7546e-03, -3.4988e-02, -1.5988e-02,\n",
            "        -3.3496e-03,  2.0024e-02,  2.6921e-02,  1.5082e-02, -2.7187e-02,\n",
            "         3.1980e-02, -4.6372e-03,  1.2387e-02, -3.4084e-03,  6.6100e-03,\n",
            "        -4.2856e-02, -5.0427e-02, -4.1129e-02, -1.3032e-02, -3.6363e-02,\n",
            "        -1.6883e-03,  2.2557e-02, -1.2215e-02,  7.2046e-03, -2.0952e-03,\n",
            "        -3.5801e-02, -5.9376e-03,  2.8867e-02, -6.0974e-03, -2.7506e-02,\n",
            "        -2.5522e-02, -1.5673e-02, -7.1736e-02, -1.0498e-02, -9.1473e-02,\n",
            "         6.1015e-02,  5.5882e-02,  5.7930e-03,  9.2355e-03,  3.8504e-02,\n",
            "        -1.4805e-02, -2.2297e-02,  3.1279e-02,  2.1670e-02, -2.6525e-02,\n",
            "         2.4474e-02,  3.9817e-02, -2.6761e-02, -3.0271e-02, -1.1713e-02,\n",
            "        -1.1468e-02, -1.3703e-02,  9.3581e-03,  4.0560e-02,  4.8175e-02,\n",
            "        -1.5645e-02, -2.5906e-02,  3.1857e-02, -1.8837e-02, -4.9792e-05,\n",
            "         3.1429e-02, -2.2791e-02,  8.5686e-02, -4.6573e-02, -1.4301e-02,\n",
            "         5.9933e-02,  2.6716e-02, -4.7047e-02,  5.9688e-02,  3.5438e-03,\n",
            "         4.8731e-02, -5.0781e-02, -3.4443e-02, -6.2651e-02, -1.9197e-03,\n",
            "        -5.2337e-02, -8.8733e-03, -3.8348e-02, -4.6330e-02,  6.3171e-02,\n",
            "         2.7106e-02,  1.7216e-02,  5.7798e-03, -6.2161e-03, -4.5323e-03,\n",
            "        -4.4075e-02,  8.9160e-03,  1.6103e-02, -3.5980e-02, -2.5296e-02,\n",
            "        -5.4564e-03, -3.4023e-02,  2.6923e-02,  1.6910e-02,  4.4761e-03,\n",
            "        -6.4759e-03,  8.2081e-04, -2.9605e-02,  3.2147e-02, -3.1939e-02,\n",
            "         4.9160e-02,  1.8088e-02,  1.1938e-02, -4.7360e-02, -1.9879e-03,\n",
            "         4.1510e-02, -2.6731e-02,  5.5630e-02, -2.9996e-03,  7.7823e-02,\n",
            "         3.9704e-02, -7.6913e-02,  1.1365e-02,  3.5362e-02,  2.7453e-02,\n",
            "        -1.5907e-02,  1.1039e-02, -6.9938e-02,  9.4218e-02, -1.0718e-01,\n",
            "         2.1598e-02, -3.1124e-02, -2.1056e-02,  2.2658e-02, -3.1112e-02,\n",
            "        -2.2322e-02,  3.7936e-02,  1.5534e-02, -4.4003e-02,  6.9211e-02,\n",
            "         3.7859e-02, -1.8782e-02,  1.4977e-01, -2.1648e-02, -2.3700e-02,\n",
            "        -6.1690e-03,  5.4578e-02,  7.0469e-03,  3.3841e-02, -1.9798e-02,\n",
            "         6.1819e-02, -2.9847e-02,  3.2144e-02, -2.4396e-02,  7.0001e-02,\n",
            "        -1.4159e-02,  3.7483e-03, -5.4094e-02,  4.3907e-02,  5.7991e-02,\n",
            "         1.8307e-02, -3.8585e-02,  9.0746e-03, -2.8339e-02,  3.0959e-02,\n",
            "        -7.9095e-03, -5.4560e-02,  6.8470e-02, -2.2764e-02, -2.9356e-02,\n",
            "        -1.8509e-03,  7.3920e-03,  1.2615e-02,  2.0339e-02,  9.6665e-03,\n",
            "         8.6758e-03,  5.1416e-03,  9.1799e-03, -9.4301e-02, -2.5506e-02,\n",
            "         1.9532e-03,  3.6723e-03, -2.9547e-04, -3.8925e-02, -7.1290e-02,\n",
            "         1.8220e-02,  9.2076e-03, -7.9969e-03, -8.5556e-02, -8.5455e-03,\n",
            "         1.0121e-03, -1.9988e-02,  3.7208e-02, -1.6922e-02,  9.7020e-03,\n",
            "        -6.6020e-03, -2.7079e-02, -7.7188e-02, -5.1670e-02,  3.0827e-02,\n",
            "         6.9650e-02,  7.0160e-02, -1.8254e-02,  5.5785e-02,  4.0981e-02,\n",
            "         2.7768e-02, -1.2140e-03, -3.1699e-02,  2.9172e-02, -4.8629e-02,\n",
            "        -1.0410e-02, -4.1124e-02, -3.4542e-02, -1.3730e-02,  3.0352e-02,\n",
            "         1.3711e-02,  5.1327e-03, -5.3896e-02,  1.6852e-02, -2.7793e-02,\n",
            "         1.0480e-01,  5.0130e-03,  3.5939e-02, -2.1029e-02, -3.1382e-02,\n",
            "         4.8563e-02,  7.1777e-02,  7.6956e-02, -3.4054e-04,  3.3149e-02,\n",
            "         5.5579e-02, -9.0474e-03,  1.2728e-02, -4.0626e-02,  3.5175e-02,\n",
            "        -1.3287e-02, -5.5675e-02, -3.0542e-02, -2.1594e-02,  1.5767e-02,\n",
            "        -1.8725e-02, -4.5076e-02,  5.7681e-02, -6.1927e-02, -3.1340e-02,\n",
            "         6.4975e-03, -3.9898e-02, -2.4980e-02,  3.2235e-02, -2.7823e-04,\n",
            "        -5.9872e-03, -1.5178e-02,  2.6171e-02, -3.5073e-02, -1.9367e-02,\n",
            "        -1.1458e-02,  6.7465e-02, -3.0993e-02, -2.0324e-02, -3.1174e-02,\n",
            "         2.0382e-02,  6.7398e-03, -3.0827e-02, -3.4431e-02,  6.3426e-02,\n",
            "        -2.5153e-02, -7.4767e-02, -2.3285e-02, -8.2226e-03, -1.6673e-02,\n",
            "        -2.5971e-02,  8.9552e-02,  3.4107e-02, -1.0980e-02,  9.0848e-03,\n",
            "         1.0777e-02, -3.9537e-02,  7.2266e-03, -2.0856e-02, -4.3663e-02,\n",
            "        -1.1762e-02,  2.8679e-02, -1.3719e-02,  3.8432e-02,  5.2549e-03,\n",
            "        -2.9573e-02,  7.9487e-04, -1.9976e-02, -2.7030e-02,  5.0115e-02,\n",
            "         2.5964e-02, -3.7000e-02,  2.9892e-02,  4.4775e-02,  7.2604e-03,\n",
            "         2.6919e-02, -1.3601e-02,  3.5190e-03,  1.3561e-02,  9.5266e-04,\n",
            "         1.5800e-02, -6.3807e-02,  6.7570e-03, -5.2806e-02, -4.2197e-02,\n",
            "         2.7440e-05,  2.8183e-02, -3.2097e-02,  1.0833e-02, -3.2689e-02,\n",
            "        -7.6228e-02, -2.0605e-02,  9.7750e-02, -3.5664e-02,  2.0983e-02,\n",
            "        -1.5504e-02,  7.0403e-02,  1.7140e-02, -1.9522e-02, -1.4270e-02,\n",
            "         6.3347e-03, -7.7351e-03, -4.8752e-02, -1.9520e-03, -9.2640e-03,\n",
            "         5.6084e-02, -1.2295e-02,  3.3807e-03, -6.4527e-03, -4.3675e-02,\n",
            "        -8.0111e-03,  2.3164e-02,  1.2312e-02, -1.4725e-02,  4.7646e-02,\n",
            "         1.3487e-02, -7.1653e-03, -6.8415e-02, -3.6871e-02, -7.9164e-03,\n",
            "         3.2125e-02,  8.4806e-03, -5.3455e-02,  2.2831e-02,  2.8655e-02,\n",
            "        -2.6851e-03, -3.6061e-02, -2.2476e-02,  6.7681e-02,  4.9937e-03,\n",
            "        -1.1540e-02, -3.8853e-02, -2.1935e-02,  3.0095e-02,  2.5274e-02,\n",
            "        -3.9799e-02,  2.7822e-02, -3.2073e-02, -2.4046e-02,  2.7192e-02,\n",
            "         3.7627e-02, -3.7793e-02, -2.5168e-02, -4.1834e-02, -5.1058e-03,\n",
            "        -3.9761e-02,  3.6752e-02,  1.5363e-02,  3.8692e-02,  1.0309e-01,\n",
            "        -3.4332e-03, -5.1458e-02, -3.1973e-02, -1.9717e-02, -5.4009e-03,\n",
            "        -8.3506e-02, -1.0473e-02, -2.4960e-02, -4.4282e-02,  1.2469e-01,\n",
            "         1.8363e-02,  8.0958e-03, -3.1648e-02,  5.4036e-02, -3.5845e-02,\n",
            "         2.1542e-02, -4.2757e-02, -3.3843e-02,  3.3623e-02, -3.7090e-02,\n",
            "        -4.3116e-02,  1.8569e-02, -3.6813e-02, -5.7822e-03,  2.6962e-02,\n",
            "        -5.3994e-02,  3.3937e-02, -4.0430e-02, -7.3159e-02, -2.6729e-02,\n",
            "         6.7060e-02, -1.5449e-02,  4.0277e-03,  1.3626e-01,  8.8777e-03,\n",
            "        -3.1752e-02, -1.8352e-02, -4.4750e-02], requires_grad=True), Parameter containing:\n",
            "tensor([[ 0.0233,  0.0221,  0.0342,  ...,  0.0054,  0.0049,  0.0327],\n",
            "        [-0.0158,  0.0327,  0.0128,  ..., -0.0072,  0.0295, -0.0100],\n",
            "        [-0.0115,  0.0146, -0.0245,  ..., -0.0412,  0.0571,  0.0449],\n",
            "        ...,\n",
            "        [-0.0061,  0.0386,  0.0281,  ...,  0.0200,  0.0297, -0.0362],\n",
            "        [ 0.0237,  0.0046, -0.0133,  ..., -0.0129,  0.0114, -0.0371],\n",
            "        [-0.0536, -0.0311, -0.0383,  ..., -0.0495,  0.0066,  0.0141]],\n",
            "       requires_grad=True), Parameter containing:\n",
            "tensor([-5.2414e-02,  3.1203e-02, -1.0896e-03, -4.8436e-02, -6.2730e-02,\n",
            "        -5.4829e-02, -5.7642e-02, -4.3765e-02,  1.1552e-01,  6.5422e-02,\n",
            "         1.2653e-01,  7.9404e-03,  7.1717e-02,  1.8621e-02, -1.9992e-02,\n",
            "        -5.4818e-02,  7.3296e-02,  6.1295e-02,  2.5006e-02, -2.9795e-02,\n",
            "         3.4796e-02,  4.1080e-03, -1.6007e-02, -1.1605e-02, -2.9908e-02,\n",
            "        -5.0372e-02, -5.7680e-02,  1.1884e-02,  4.5455e-02,  1.6844e-02,\n",
            "        -1.5056e-02,  2.9841e-02,  6.2040e-02,  4.9075e-02,  5.7627e-02,\n",
            "         8.2953e-02, -2.1506e-02, -1.2127e-02,  2.5070e-02, -1.1684e-03,\n",
            "        -3.5295e-02, -3.3999e-02,  1.1608e-02, -4.8866e-02,  5.4133e-03,\n",
            "         3.7307e-02, -6.3885e-02,  3.3255e-02, -3.8010e-02, -2.3912e-02,\n",
            "         6.3903e-02,  5.1313e-02,  3.4225e-02,  6.8873e-03, -2.0938e-02,\n",
            "         5.7885e-02, -1.4173e-03,  5.1062e-02,  1.2914e-02,  1.3520e-01,\n",
            "         2.5189e-03, -9.1470e-02,  7.8003e-02,  8.2075e-02,  2.7401e-02,\n",
            "        -2.4468e-02, -5.7893e-02, -2.6010e-02,  1.5074e-02, -1.9901e-02,\n",
            "        -1.0655e-02, -5.2064e-02, -2.7849e-02, -4.9085e-05,  4.3558e-03,\n",
            "         1.8789e-02, -4.0495e-02, -4.6772e-02,  7.9730e-02, -4.1760e-02,\n",
            "        -7.1261e-03, -3.7540e-02, -3.3756e-02,  1.1691e-02, -4.3943e-02,\n",
            "         5.0031e-02,  3.5052e-02, -1.7508e-02, -1.5068e-02,  1.5408e-02,\n",
            "         1.1510e-02, -1.4530e-02,  2.1703e-02, -2.1218e-02, -3.5540e-02,\n",
            "        -2.9213e-02, -4.6080e-02, -8.8095e-02,  7.5351e-02, -3.0228e-02,\n",
            "         4.9022e-02,  7.1142e-02, -3.9476e-02,  4.6143e-02, -2.3298e-02,\n",
            "        -5.1062e-03, -3.4618e-02, -5.0201e-02, -2.0479e-02,  3.9011e-02,\n",
            "         3.8637e-03,  2.1761e-02, -4.5755e-02,  2.5161e-02, -4.6441e-02],\n",
            "       requires_grad=True), Parameter containing:\n",
            "tensor([[ 0.0757, -0.0424, -0.0738, -0.0737, -0.0501, -0.0385, -0.0400, -0.0421,\n",
            "          0.0547,  0.0206,  0.0919,  0.0020,  0.0331, -0.0518, -0.0546, -0.0571,\n",
            "          0.0363, -0.1167, -0.0279, -0.0679,  0.0312,  0.0629, -0.0249,  0.0261,\n",
            "          0.0021, -0.0537, -0.0078,  0.0576,  0.0270,  0.0548,  0.0019, -0.0227,\n",
            "          0.0516, -0.0641,  0.0720,  0.0665, -0.0088, -0.0223, -0.0610, -0.0048,\n",
            "         -0.0666,  0.0208,  0.0345,  0.0238, -0.0277,  0.0452, -0.0657, -0.0170,\n",
            "         -0.0672, -0.0532,  0.0499,  0.0693,  0.0280,  0.0202,  0.0872,  0.0097,\n",
            "         -0.0152,  0.0081,  0.0258,  0.1048, -0.0685, -0.0388,  0.0478,  0.0654,\n",
            "          0.0586,  0.0237, -0.0342, -0.0248, -0.0849, -0.0170, -0.0603, -0.0146,\n",
            "         -0.0018,  0.0458,  0.0804,  0.0587, -0.0068, -0.0124,  0.0295, -0.0974,\n",
            "         -0.0445, -0.0583, -0.0286,  0.0591, -0.0115,  0.0437,  0.0332, -0.0583,\n",
            "         -0.0133,  0.0370,  0.0930,  0.0054,  0.0559,  0.0315, -0.0159, -0.0499,\n",
            "          0.0160, -0.0156,  0.0713, -0.0213,  0.0466,  0.0419, -0.0137,  0.0604,\n",
            "         -0.0181, -0.0610, -0.0704, -0.0032, -0.0584, -0.1059,  0.0155, -0.0381,\n",
            "         -0.0849,  0.0539, -0.0299]], requires_grad=True), Parameter containing:\n",
            "tensor([0.0757], requires_grad=True)]\n"
          ]
        }
      ],
      "source": [
        "#%%script echo skipping\n",
        "\n",
        "print(list(net.parameters()))"
      ]
    },
    {
      "cell_type": "code",
      "execution_count": 47,
      "metadata": {
        "colab": {
          "base_uri": "https://localhost:8080/"
        },
        "id": "1NZ8iVA7UZio",
        "outputId": "6341def7-b7e7-44eb-c91f-edbe1d22ca1d"
      },
      "outputs": [
        {
          "name": "stdout",
          "output_type": "stream",
          "text": [
            "[Parameter containing:\n",
            "tensor([[-0.3054, -0.3602,  0.1746,  ...,  0.0948,  0.0808, -0.3294],\n",
            "        [ 0.2627, -0.1686,  0.2807,  ...,  0.2384,  0.4053,  0.3811],\n",
            "        [-0.1800,  0.0218,  0.1394,  ...,  0.0101,  0.0684,  0.2556],\n",
            "        ...,\n",
            "        [-0.2818, -0.1025,  0.0239,  ...,  0.1106, -0.0458, -0.3830],\n",
            "        [-0.2067,  0.3095, -0.1094,  ..., -0.0117,  0.2458,  0.1398],\n",
            "        [ 0.0113,  0.0622, -0.2162,  ...,  0.3203,  0.3690,  0.3647]],\n",
            "       requires_grad=True), Parameter containing:\n",
            "tensor([-1.1010e-01, -2.9248e-01, -2.9884e-02,  4.1458e-01, -1.4125e-01,\n",
            "         2.4144e-01,  2.9255e-01,  2.5395e-01,  3.2617e-01, -3.5351e-01,\n",
            "        -4.0344e-01,  3.0031e-01, -2.6900e-01,  2.1940e-01,  2.8361e-01,\n",
            "         1.6965e-01, -2.3798e-01,  1.0020e-01, -4.0607e-02, -4.3163e-02,\n",
            "         3.5559e-01,  3.4683e-01,  6.0022e-02,  2.9227e-01,  7.9422e-03,\n",
            "         4.4066e-03, -2.3867e-01,  2.5445e-02, -2.4107e-02, -6.4685e-02,\n",
            "        -1.6763e-01, -1.5188e-01, -1.0040e-01, -1.4127e-01, -2.6299e-01,\n",
            "         2.6716e-01, -4.5878e-01, -3.3238e-01, -3.0885e-01, -6.4596e-02,\n",
            "        -2.0831e-01, -3.3116e-01,  2.8522e-01,  3.0202e-01, -3.3402e-01,\n",
            "         3.5160e-01, -1.8431e-01,  2.8091e-01,  2.6405e-01,  2.3099e-02,\n",
            "        -3.7199e-01, -2.7032e-01,  2.9546e-01,  1.2882e-01,  2.7662e-01,\n",
            "        -3.3185e-01, -1.8388e-01, -1.9386e-01, -1.7721e-01,  1.9560e-01,\n",
            "        -2.4800e-01, -1.5185e-01,  1.4820e-01, -4.4399e-01,  6.6973e-02,\n",
            "         2.2214e-01,  1.8409e-01, -1.3206e-01,  3.4857e-01, -3.8555e-01,\n",
            "         2.3277e-01, -3.9110e-02, -9.6376e-02, -2.3445e-01, -8.7158e-02,\n",
            "         3.4281e-01, -1.3285e-01, -2.4503e-01, -3.4199e-01, -5.1571e-02,\n",
            "         1.7944e-01, -1.1078e-02, -1.3089e-01,  1.3795e-01, -2.6434e-01,\n",
            "        -9.8678e-02,  1.1846e-02,  2.1597e-01,  1.2672e-01, -2.0760e-01,\n",
            "        -5.7310e-02,  2.2306e-01,  3.9194e-01,  5.9680e-02, -1.4022e-01,\n",
            "        -4.5287e-02, -1.6291e-01, -3.0261e-01,  6.8784e-02,  3.0933e-01,\n",
            "        -3.6951e-01, -1.4814e-01, -9.9956e-02,  1.7431e-01, -1.2284e-01,\n",
            "        -1.5841e-01, -8.4497e-02, -4.1759e-01, -2.4728e-01,  7.6803e-02,\n",
            "        -1.0014e-01,  2.3493e-01,  2.7316e-01, -1.2992e-01, -3.1342e-01,\n",
            "         2.5499e-01,  2.3890e-01,  2.4855e-01,  3.0300e-01,  1.5346e-01,\n",
            "        -3.5864e-04,  2.9397e-01, -3.7267e-02, -2.3444e-01, -1.6911e-01,\n",
            "        -3.3202e-02,  4.7486e-03,  3.7117e-02,  2.4776e-02,  2.6322e-01,\n",
            "        -3.0287e-01,  3.3006e-01, -1.2385e-01, -2.2436e-01,  1.1752e-01,\n",
            "        -3.0987e-01, -9.2553e-02, -7.2692e-02,  2.7693e-01,  2.4801e-01,\n",
            "         2.8965e-01, -2.5087e-01, -1.6256e-01,  9.2253e-02, -9.1967e-02,\n",
            "         3.0370e-01,  3.9369e-01,  6.2028e-02, -6.0140e-02,  5.9295e-02,\n",
            "        -2.8557e-01,  2.3138e-01,  3.1982e-01, -1.5909e-01, -3.2926e-01,\n",
            "        -3.8181e-01,  3.3399e-01, -3.0399e-01,  2.0039e-02,  7.6165e-02,\n",
            "        -1.1361e-02,  2.3035e-01,  6.2577e-03,  1.5302e-01,  1.4632e-01,\n",
            "         2.5883e-02,  1.8878e-01, -1.5600e-01, -1.6176e-01,  1.7311e-01,\n",
            "         4.0388e-03, -7.9095e-02,  2.6047e-02, -5.5624e-02,  3.8975e-01,\n",
            "         2.3192e-01,  2.2313e-01,  3.2645e-01, -3.8003e-01,  2.8054e-01,\n",
            "        -2.0166e-01, -1.7425e-02,  9.1282e-02, -2.1767e-01,  2.5660e-01,\n",
            "        -3.2332e-01,  1.7563e-01, -8.9808e-02,  7.2415e-02, -2.9701e-01,\n",
            "        -3.2908e-01, -3.0902e-01,  8.8674e-03,  2.3560e-01,  3.4833e-02,\n",
            "        -1.9071e-01, -3.5659e-01,  2.4300e-02, -9.8352e-03,  7.5438e-02,\n",
            "         7.7012e-02,  3.8932e-02,  9.8773e-03,  8.1753e-04, -2.4179e-01,\n",
            "        -4.5372e-01,  1.9591e-01,  1.7315e-01, -1.5866e-01,  1.4984e-01,\n",
            "        -1.1597e-02,  1.4838e-01, -4.1026e-02,  2.2470e-01, -1.0143e-01,\n",
            "         1.8781e-01,  2.1307e-01, -1.5933e-01,  4.4261e-02, -7.4983e-02,\n",
            "        -3.5049e-01,  1.5303e-01, -2.4425e-01, -2.2282e-03,  1.8707e-01,\n",
            "        -2.6391e-01, -3.3854e-01,  3.9878e-01,  3.4119e-02, -5.1629e-02,\n",
            "         3.9882e-02, -1.4514e-01,  1.9526e-01,  2.3103e-01, -2.4349e-01,\n",
            "         1.9960e-01,  1.9132e-02, -1.5988e-01,  2.0881e-02,  3.6560e-02,\n",
            "         1.8134e-01, -1.5979e-01,  2.0962e-01, -3.8122e-01,  1.0913e-03,\n",
            "        -1.5399e-01, -1.6191e-01, -5.8262e-02, -1.7643e-02,  3.8259e-01,\n",
            "         4.1282e-02, -3.4666e-01,  2.8056e-01,  3.4531e-02,  2.2721e-01,\n",
            "         3.5098e-01,  6.0552e-02, -2.5785e-01, -4.2010e-01, -6.9470e-02,\n",
            "         3.7278e-01,  2.3874e-01, -1.1257e-01, -2.1262e-01, -1.3868e-01,\n",
            "         1.7201e-01, -2.2343e-01, -3.2766e-01, -9.4943e-02,  1.3465e-01,\n",
            "         1.7682e-01, -3.3471e-02, -2.7783e-01, -2.6930e-01, -9.6075e-02,\n",
            "        -1.2932e-01, -2.2883e-01, -2.3002e-01,  7.8893e-02, -2.1542e-01,\n",
            "         3.2997e-01,  5.1427e-02, -6.9696e-02, -1.6703e-01,  1.2362e-01,\n",
            "         2.2820e-01, -1.5186e-01,  6.6595e-02, -3.1978e-01,  2.1278e-02,\n",
            "         3.3267e-01,  9.7526e-02,  5.8846e-02,  2.9780e-01,  2.8012e-01,\n",
            "        -3.5496e-02,  2.6456e-01,  1.5209e-01,  2.5126e-01, -2.9358e-01,\n",
            "         1.5835e-01,  5.3699e-02, -2.2390e-01, -4.2592e-02, -1.1931e-01,\n",
            "        -3.0523e-01,  2.2112e-01,  4.5093e-03,  2.7900e-01,  3.8201e-02,\n",
            "         3.4626e-01,  3.3834e-01,  1.9593e-01,  2.3055e-01,  3.6851e-01,\n",
            "        -1.4403e-01, -2.4746e-01,  3.0746e-01, -2.9282e-01,  1.2085e-01,\n",
            "         2.8841e-01,  1.0953e-01,  2.5805e-01,  8.2639e-02, -2.6915e-01,\n",
            "         9.2512e-02, -2.2024e-01,  3.4242e-02, -3.0970e-01,  1.5654e-01,\n",
            "        -1.2355e-01,  2.3424e-01, -3.6516e-01, -1.0475e-01, -9.6927e-02,\n",
            "        -2.0326e-01,  2.9363e-01, -6.1170e-02, -1.9568e-01,  2.5199e-01,\n",
            "         1.2779e-01, -2.6312e-01, -2.0917e-01,  3.0861e-01,  1.1973e-01,\n",
            "        -7.6490e-02, -1.8680e-01, -4.7355e-01, -1.9625e-01,  2.4916e-02,\n",
            "        -1.0341e-01,  2.8198e-02,  3.2992e-01, -1.2186e-01,  3.2726e-01,\n",
            "         1.3303e-01, -2.2957e-01, -8.8215e-02,  1.5623e-01, -1.2972e-01,\n",
            "        -2.5934e-01,  2.7548e-02, -2.8954e-01, -3.2235e-01,  1.3887e-01,\n",
            "        -2.4807e-01,  1.4265e-02,  2.0474e-01, -1.5199e-01, -1.8889e-01,\n",
            "        -1.4347e-01,  2.8545e-01, -3.7727e-03, -7.1787e-02, -1.0452e-01,\n",
            "         1.0164e-01,  2.0196e-01, -4.7185e-02,  3.4042e-01,  9.5925e-02,\n",
            "         4.1382e-01,  2.6145e-01, -3.8174e-01,  3.7175e-01,  9.1347e-02,\n",
            "         9.7771e-02,  2.5649e-01,  9.7104e-02, -1.7915e-01, -2.4488e-01,\n",
            "         3.5597e-01, -1.0103e-01,  3.0767e-01,  8.0361e-02,  1.3560e-01,\n",
            "         6.9398e-02, -2.6173e-01, -4.7325e-02,  1.0596e-01, -2.6714e-01,\n",
            "        -2.5547e-01, -2.4606e-01, -3.3440e-01, -2.0369e-01, -2.8312e-01,\n",
            "        -2.5471e-01,  3.9748e-01, -6.1208e-02, -9.8115e-02, -9.8220e-02,\n",
            "         1.6748e-01,  1.9299e-01,  5.2777e-02, -7.4032e-02,  7.4215e-02,\n",
            "         2.9991e-01,  1.3624e-01, -2.3143e-01, -3.3803e-01, -3.0348e-02,\n",
            "         2.5749e-01, -3.6661e-01,  2.7872e-02,  6.7416e-04,  2.5422e-01,\n",
            "        -3.0721e-01, -2.9976e-01, -2.9686e-01, -7.0235e-03, -2.3039e-01,\n",
            "        -2.9774e-01,  1.6017e-01,  1.1677e-02, -2.5177e-01, -5.6548e-02,\n",
            "         2.2440e-01,  2.6142e-01, -3.6050e-01,  6.2343e-02,  3.5790e-01,\n",
            "        -7.5964e-02, -1.2381e-01, -1.2984e-01, -1.6936e-01, -6.5844e-02,\n",
            "        -2.0462e-02, -1.4953e-01,  2.3222e-01, -2.9291e-01,  2.2634e-01,\n",
            "         1.0483e-01,  1.7015e-01, -1.7265e-01,  8.8530e-02,  3.6171e-01,\n",
            "        -3.7282e-01, -1.4358e-01, -1.5525e-01, -3.2586e-01, -2.7205e-01,\n",
            "         2.5036e-01,  2.5044e-01, -1.8389e-01,  7.9009e-02, -9.5037e-03,\n",
            "         7.1970e-02,  3.0497e-01, -4.2586e-01, -1.2365e-01, -1.1529e-01,\n",
            "        -2.7683e-01,  3.1982e-01,  2.9173e-01,  1.3508e-01,  2.3253e-01,\n",
            "        -2.6678e-01,  2.7813e-01, -1.4490e-01,  2.3505e-01,  2.8836e-02,\n",
            "         2.0575e-01,  6.6627e-03,  2.0864e-01,  3.3182e-01,  9.4981e-02,\n",
            "        -2.0656e-01,  1.0861e-01, -3.0846e-01,  6.1401e-02, -2.4202e-02,\n",
            "         2.5009e-01, -1.2500e-01, -2.0301e-01, -2.2646e-02, -2.6598e-01,\n",
            "         2.7203e-01,  2.1624e-01,  1.2519e-01,  2.2177e-01,  3.0561e-01,\n",
            "         1.4111e-01, -2.6455e-02, -1.5231e-01,  6.7548e-02,  5.8930e-02,\n",
            "         3.0706e-01, -5.9689e-03,  1.2547e-01,  1.0858e-01, -2.6176e-01,\n",
            "        -3.5755e-01, -7.9590e-02, -4.7205e-01,  2.8819e-01, -2.3062e-01,\n",
            "         2.9629e-01, -4.1874e-02, -2.4130e-01,  2.1478e-01,  9.4827e-02,\n",
            "        -2.2786e-01,  3.1459e-01, -3.2220e-01, -1.5382e-01,  1.8458e-01,\n",
            "        -2.6167e-01, -6.0866e-02,  1.5255e-01,  3.6429e-01,  1.6161e-01,\n",
            "        -6.1714e-02,  1.6645e-02, -3.6366e-01,  1.0126e-01, -2.8644e-01,\n",
            "        -2.8059e-01, -3.0531e-01,  9.4451e-03, -1.5744e-01,  2.2319e-01,\n",
            "        -2.8458e-01,  1.6300e-01, -1.2976e-01, -3.0813e-01, -3.6549e-01,\n",
            "         1.7815e-01, -1.3914e-01,  1.0204e-01, -1.8335e-01, -1.0735e-01,\n",
            "         2.4121e-01,  6.0850e-02,  1.2271e-01, -1.5400e-01, -1.1334e-01],\n",
            "       requires_grad=True), Parameter containing:\n",
            "tensor([[-0.0412, -0.0086, -0.0237,  ...,  0.0358,  0.0158,  0.0303],\n",
            "        [ 0.0238, -0.0719, -0.0209,  ..., -0.0284, -0.0666, -0.0542],\n",
            "        [ 0.0432, -0.0142,  0.0079,  ...,  0.0363,  0.0274,  0.0292],\n",
            "        ...,\n",
            "        [-0.0130, -0.0411, -0.0210,  ..., -0.0030, -0.0690,  0.0251],\n",
            "        [-0.0082,  0.0041,  0.0033,  ..., -0.0181,  0.0307,  0.0655],\n",
            "        [ 0.0217, -0.0035,  0.0234,  ...,  0.0058,  0.0277, -0.0069]],\n",
            "       requires_grad=True), Parameter containing:\n",
            "tensor([ 3.5539e-02, -3.8505e-02, -3.2582e-02, -4.2047e-02, -7.9846e-02,\n",
            "         6.5166e-03, -2.1281e-02, -4.2087e-02,  1.7759e-02,  5.1661e-02,\n",
            "        -1.5572e-02, -2.5736e-02,  2.0889e-02,  2.4394e-02,  6.5709e-03,\n",
            "        -2.5356e-02, -4.5333e-02, -5.3634e-02, -6.6173e-02, -6.9444e-02,\n",
            "         5.9366e-02, -1.6163e-02, -4.9813e-02, -4.3304e-02, -3.4274e-02,\n",
            "         1.4438e-02, -6.8976e-02,  3.1440e-02,  2.7812e-02,  7.8045e-03,\n",
            "         9.5780e-04,  2.0102e-02, -7.4613e-02, -2.0334e-02,  3.8295e-02,\n",
            "        -5.4834e-02,  6.1854e-03, -3.0652e-02,  8.4161e-02, -4.4545e-02,\n",
            "        -9.5890e-03,  1.2165e-03, -2.6724e-02, -2.3957e-02,  2.0685e-02,\n",
            "        -1.0903e-03, -2.2334e-02, -3.4159e-02,  4.5856e-03, -8.4498e-02,\n",
            "        -4.0509e-02, -2.6400e-02, -1.1575e-02,  5.2268e-03, -1.0111e-01,\n",
            "         1.3156e-03, -2.4555e-02, -1.1658e-02,  4.6344e-05,  3.0688e-02,\n",
            "        -4.3497e-02, -3.4216e-02, -6.7546e-03, -3.4988e-02, -1.5988e-02,\n",
            "        -3.3496e-03,  2.0024e-02,  2.6921e-02,  1.5082e-02, -2.7187e-02,\n",
            "         3.1980e-02, -4.6372e-03,  1.2387e-02, -3.4084e-03,  6.6100e-03,\n",
            "        -4.2856e-02, -5.0427e-02, -4.1129e-02, -1.3032e-02, -3.6363e-02,\n",
            "        -1.6883e-03,  2.2557e-02, -1.2215e-02,  7.2046e-03, -2.0952e-03,\n",
            "        -3.5801e-02, -5.9376e-03,  2.8867e-02, -6.0974e-03, -2.7506e-02,\n",
            "        -2.5522e-02, -1.5673e-02, -7.1736e-02, -1.0498e-02, -9.1473e-02,\n",
            "         6.1015e-02,  5.5882e-02,  5.7930e-03,  9.2355e-03,  3.8504e-02,\n",
            "        -1.4805e-02, -2.2297e-02,  3.1279e-02,  2.1670e-02, -2.6525e-02,\n",
            "         2.4474e-02,  3.9817e-02, -2.6761e-02, -3.0271e-02, -1.1713e-02,\n",
            "        -1.1468e-02, -1.3703e-02,  9.3581e-03,  4.0560e-02,  4.8175e-02,\n",
            "        -1.5645e-02, -2.5906e-02,  3.1857e-02, -1.8837e-02, -4.9792e-05,\n",
            "         3.1429e-02, -2.2791e-02,  8.5686e-02, -4.6573e-02, -1.4301e-02,\n",
            "         5.9933e-02,  2.6716e-02, -4.7047e-02,  5.9688e-02,  3.5438e-03,\n",
            "         4.8731e-02, -5.0781e-02, -3.4443e-02, -6.2651e-02, -1.9197e-03,\n",
            "        -5.2337e-02, -8.8733e-03, -3.8348e-02, -4.6330e-02,  6.3171e-02,\n",
            "         2.7106e-02,  1.7216e-02,  5.7798e-03, -6.2161e-03, -4.5323e-03,\n",
            "        -4.4075e-02,  8.9160e-03,  1.6103e-02, -3.5980e-02, -2.5296e-02,\n",
            "        -5.4564e-03, -3.4023e-02,  2.6923e-02,  1.6910e-02,  4.4761e-03,\n",
            "        -6.4759e-03,  8.2081e-04, -2.9605e-02,  3.2147e-02, -3.1939e-02,\n",
            "         4.9160e-02,  1.8088e-02,  1.1938e-02, -4.7360e-02, -1.9879e-03,\n",
            "         4.1510e-02, -2.6731e-02,  5.5630e-02, -2.9996e-03,  7.7823e-02,\n",
            "         3.9704e-02, -7.6913e-02,  1.1365e-02,  3.5362e-02,  2.7453e-02,\n",
            "        -1.5907e-02,  1.1039e-02, -6.9938e-02,  9.4218e-02, -1.0718e-01,\n",
            "         2.1598e-02, -3.1124e-02, -2.1056e-02,  2.2658e-02, -3.1112e-02,\n",
            "        -2.2322e-02,  3.7936e-02,  1.5534e-02, -4.4003e-02,  6.9211e-02,\n",
            "         3.7859e-02, -1.8782e-02,  1.4977e-01, -2.1648e-02, -2.3700e-02,\n",
            "        -6.1690e-03,  5.4578e-02,  7.0469e-03,  3.3841e-02, -1.9798e-02,\n",
            "         6.1819e-02, -2.9847e-02,  3.2144e-02, -2.4396e-02,  7.0001e-02,\n",
            "        -1.4159e-02,  3.7483e-03, -5.4094e-02,  4.3907e-02,  5.7991e-02,\n",
            "         1.8307e-02, -3.8585e-02,  9.0746e-03, -2.8339e-02,  3.0959e-02,\n",
            "        -7.9095e-03, -5.4560e-02,  6.8470e-02, -2.2764e-02, -2.9356e-02,\n",
            "        -1.8509e-03,  7.3920e-03,  1.2615e-02,  2.0339e-02,  9.6665e-03,\n",
            "         8.6758e-03,  5.1416e-03,  9.1799e-03, -9.4301e-02, -2.5506e-02,\n",
            "         1.9532e-03,  3.6723e-03, -2.9547e-04, -3.8925e-02, -7.1290e-02,\n",
            "         1.8220e-02,  9.2076e-03, -7.9969e-03, -8.5556e-02, -8.5455e-03,\n",
            "         1.0121e-03, -1.9988e-02,  3.7208e-02, -1.6922e-02,  9.7020e-03,\n",
            "        -6.6020e-03, -2.7079e-02, -7.7188e-02, -5.1670e-02,  3.0827e-02,\n",
            "         6.9650e-02,  7.0160e-02, -1.8254e-02,  5.5785e-02,  4.0981e-02,\n",
            "         2.7768e-02, -1.2140e-03, -3.1699e-02,  2.9172e-02, -4.8629e-02,\n",
            "        -1.0410e-02, -4.1124e-02, -3.4542e-02, -1.3730e-02,  3.0352e-02,\n",
            "         1.3711e-02,  5.1327e-03, -5.3896e-02,  1.6852e-02, -2.7793e-02,\n",
            "         1.0480e-01,  5.0130e-03,  3.5939e-02, -2.1029e-02, -3.1382e-02,\n",
            "         4.8563e-02,  7.1777e-02,  7.6956e-02, -3.4054e-04,  3.3149e-02,\n",
            "         5.5579e-02, -9.0474e-03,  1.2728e-02, -4.0626e-02,  3.5175e-02,\n",
            "        -1.3287e-02, -5.5675e-02, -3.0542e-02, -2.1594e-02,  1.5767e-02,\n",
            "        -1.8725e-02, -4.5076e-02,  5.7681e-02, -6.1927e-02, -3.1340e-02,\n",
            "         6.4975e-03, -3.9898e-02, -2.4980e-02,  3.2235e-02, -2.7823e-04,\n",
            "        -5.9872e-03, -1.5178e-02,  2.6171e-02, -3.5073e-02, -1.9367e-02,\n",
            "        -1.1458e-02,  6.7465e-02, -3.0993e-02, -2.0324e-02, -3.1174e-02,\n",
            "         2.0382e-02,  6.7398e-03, -3.0827e-02, -3.4431e-02,  6.3426e-02,\n",
            "        -2.5153e-02, -7.4767e-02, -2.3285e-02, -8.2226e-03, -1.6673e-02,\n",
            "        -2.5971e-02,  8.9552e-02,  3.4107e-02, -1.0980e-02,  9.0848e-03,\n",
            "         1.0777e-02, -3.9537e-02,  7.2266e-03, -2.0856e-02, -4.3663e-02,\n",
            "        -1.1762e-02,  2.8679e-02, -1.3719e-02,  3.8432e-02,  5.2549e-03,\n",
            "        -2.9573e-02,  7.9487e-04, -1.9976e-02, -2.7030e-02,  5.0115e-02,\n",
            "         2.5964e-02, -3.7000e-02,  2.9892e-02,  4.4775e-02,  7.2604e-03,\n",
            "         2.6919e-02, -1.3601e-02,  3.5190e-03,  1.3561e-02,  9.5266e-04,\n",
            "         1.5800e-02, -6.3807e-02,  6.7570e-03, -5.2806e-02, -4.2197e-02,\n",
            "         2.7440e-05,  2.8183e-02, -3.2097e-02,  1.0833e-02, -3.2689e-02,\n",
            "        -7.6228e-02, -2.0605e-02,  9.7750e-02, -3.5664e-02,  2.0983e-02,\n",
            "        -1.5504e-02,  7.0403e-02,  1.7140e-02, -1.9522e-02, -1.4270e-02,\n",
            "         6.3347e-03, -7.7351e-03, -4.8752e-02, -1.9520e-03, -9.2640e-03,\n",
            "         5.6084e-02, -1.2295e-02,  3.3807e-03, -6.4527e-03, -4.3675e-02,\n",
            "        -8.0111e-03,  2.3164e-02,  1.2312e-02, -1.4725e-02,  4.7646e-02,\n",
            "         1.3487e-02, -7.1653e-03, -6.8415e-02, -3.6871e-02, -7.9164e-03,\n",
            "         3.2125e-02,  8.4806e-03, -5.3455e-02,  2.2831e-02,  2.8655e-02,\n",
            "        -2.6851e-03, -3.6061e-02, -2.2476e-02,  6.7681e-02,  4.9937e-03,\n",
            "        -1.1540e-02, -3.8853e-02, -2.1935e-02,  3.0095e-02,  2.5274e-02,\n",
            "        -3.9799e-02,  2.7822e-02, -3.2073e-02, -2.4046e-02,  2.7192e-02,\n",
            "         3.7627e-02, -3.7793e-02, -2.5168e-02, -4.1834e-02, -5.1058e-03,\n",
            "        -3.9761e-02,  3.6752e-02,  1.5363e-02,  3.8692e-02,  1.0309e-01,\n",
            "        -3.4332e-03, -5.1458e-02, -3.1973e-02, -1.9717e-02, -5.4009e-03,\n",
            "        -8.3506e-02, -1.0473e-02, -2.4960e-02, -4.4282e-02,  1.2469e-01,\n",
            "         1.8363e-02,  8.0958e-03, -3.1648e-02,  5.4036e-02, -3.5845e-02,\n",
            "         2.1542e-02, -4.2757e-02, -3.3843e-02,  3.3623e-02, -3.7090e-02,\n",
            "        -4.3116e-02,  1.8569e-02, -3.6813e-02, -5.7822e-03,  2.6962e-02,\n",
            "        -5.3994e-02,  3.3937e-02, -4.0430e-02, -7.3159e-02, -2.6729e-02,\n",
            "         6.7060e-02, -1.5449e-02,  4.0277e-03,  1.3626e-01,  8.8777e-03,\n",
            "        -3.1752e-02, -1.8352e-02, -4.4750e-02], requires_grad=True), Parameter containing:\n",
            "tensor([[ 0.0233,  0.0221,  0.0342,  ...,  0.0054,  0.0049,  0.0327],\n",
            "        [-0.0158,  0.0327,  0.0128,  ..., -0.0072,  0.0295, -0.0100],\n",
            "        [-0.0115,  0.0146, -0.0245,  ..., -0.0412,  0.0571,  0.0449],\n",
            "        ...,\n",
            "        [-0.0061,  0.0386,  0.0281,  ...,  0.0200,  0.0297, -0.0362],\n",
            "        [ 0.0237,  0.0046, -0.0133,  ..., -0.0129,  0.0114, -0.0371],\n",
            "        [-0.0536, -0.0311, -0.0383,  ..., -0.0495,  0.0066,  0.0141]],\n",
            "       requires_grad=True), Parameter containing:\n",
            "tensor([-5.2414e-02,  3.1203e-02, -1.0896e-03, -4.8436e-02, -6.2730e-02,\n",
            "        -5.4829e-02, -5.7642e-02, -4.3765e-02,  1.1552e-01,  6.5422e-02,\n",
            "         1.2653e-01,  7.9404e-03,  7.1717e-02,  1.8621e-02, -1.9992e-02,\n",
            "        -5.4818e-02,  7.3296e-02,  6.1295e-02,  2.5006e-02, -2.9795e-02,\n",
            "         3.4796e-02,  4.1080e-03, -1.6007e-02, -1.1605e-02, -2.9908e-02,\n",
            "        -5.0372e-02, -5.7680e-02,  1.1884e-02,  4.5455e-02,  1.6844e-02,\n",
            "        -1.5056e-02,  2.9841e-02,  6.2040e-02,  4.9075e-02,  5.7627e-02,\n",
            "         8.2953e-02, -2.1506e-02, -1.2127e-02,  2.5070e-02, -1.1684e-03,\n",
            "        -3.5295e-02, -3.3999e-02,  1.1608e-02, -4.8866e-02,  5.4133e-03,\n",
            "         3.7307e-02, -6.3885e-02,  3.3255e-02, -3.8010e-02, -2.3912e-02,\n",
            "         6.3903e-02,  5.1313e-02,  3.4225e-02,  6.8873e-03, -2.0938e-02,\n",
            "         5.7885e-02, -1.4173e-03,  5.1062e-02,  1.2914e-02,  1.3520e-01,\n",
            "         2.5189e-03, -9.1470e-02,  7.8003e-02,  8.2075e-02,  2.7401e-02,\n",
            "        -2.4468e-02, -5.7893e-02, -2.6010e-02,  1.5074e-02, -1.9901e-02,\n",
            "        -1.0655e-02, -5.2064e-02, -2.7849e-02, -4.9085e-05,  4.3558e-03,\n",
            "         1.8789e-02, -4.0495e-02, -4.6772e-02,  7.9730e-02, -4.1760e-02,\n",
            "        -7.1261e-03, -3.7540e-02, -3.3756e-02,  1.1691e-02, -4.3943e-02,\n",
            "         5.0031e-02,  3.5052e-02, -1.7508e-02, -1.5068e-02,  1.5408e-02,\n",
            "         1.1510e-02, -1.4530e-02,  2.1703e-02, -2.1218e-02, -3.5540e-02,\n",
            "        -2.9213e-02, -4.6080e-02, -8.8095e-02,  7.5351e-02, -3.0228e-02,\n",
            "         4.9022e-02,  7.1142e-02, -3.9476e-02,  4.6143e-02, -2.3298e-02,\n",
            "        -5.1062e-03, -3.4618e-02, -5.0201e-02, -2.0479e-02,  3.9011e-02,\n",
            "         3.8637e-03,  2.1761e-02, -4.5755e-02,  2.5161e-02, -4.6441e-02],\n",
            "       requires_grad=True), Parameter containing:\n",
            "tensor([[ 0.0757, -0.0424, -0.0738, -0.0737, -0.0501, -0.0385, -0.0400, -0.0421,\n",
            "          0.0547,  0.0206,  0.0919,  0.0020,  0.0331, -0.0518, -0.0546, -0.0571,\n",
            "          0.0363, -0.1167, -0.0279, -0.0679,  0.0312,  0.0629, -0.0249,  0.0261,\n",
            "          0.0021, -0.0537, -0.0078,  0.0576,  0.0270,  0.0548,  0.0019, -0.0227,\n",
            "          0.0516, -0.0641,  0.0720,  0.0665, -0.0088, -0.0223, -0.0610, -0.0048,\n",
            "         -0.0666,  0.0208,  0.0345,  0.0238, -0.0277,  0.0452, -0.0657, -0.0170,\n",
            "         -0.0672, -0.0532,  0.0499,  0.0693,  0.0280,  0.0202,  0.0872,  0.0097,\n",
            "         -0.0152,  0.0081,  0.0258,  0.1048, -0.0685, -0.0388,  0.0478,  0.0654,\n",
            "          0.0586,  0.0237, -0.0342, -0.0248, -0.0849, -0.0170, -0.0603, -0.0146,\n",
            "         -0.0018,  0.0458,  0.0804,  0.0587, -0.0068, -0.0124,  0.0295, -0.0974,\n",
            "         -0.0445, -0.0583, -0.0286,  0.0591, -0.0115,  0.0437,  0.0332, -0.0583,\n",
            "         -0.0133,  0.0370,  0.0930,  0.0054,  0.0559,  0.0315, -0.0159, -0.0499,\n",
            "          0.0160, -0.0156,  0.0713, -0.0213,  0.0466,  0.0419, -0.0137,  0.0604,\n",
            "         -0.0181, -0.0610, -0.0704, -0.0032, -0.0584, -0.1059,  0.0155, -0.0381,\n",
            "         -0.0849,  0.0539, -0.0299]], requires_grad=True), Parameter containing:\n",
            "tensor([0.0757], requires_grad=True)]\n"
          ]
        }
      ],
      "source": [
        "print(list(net_loaded.parameters()))"
      ]
    },
    {
      "cell_type": "code",
      "execution_count": 48,
      "metadata": {
        "colab": {
          "base_uri": "https://localhost:8080/"
        },
        "id": "InGW0Xq6UZip",
        "outputId": "6c4a0e2c-b485-4362-b99d-7364dcf9443a"
      },
      "outputs": [
        {
          "data": {
            "text/plain": [
              "tensor([[1.3818e+01, 3.3645e+01, 3.6823e+01, 1.4206e+01, 4.8497e+01, 2.8485e-02,\n",
              "         8.2773e-02, 3.3022e-01],\n",
              "        [2.3668e+00, 3.0558e+00, 2.1785e-01, 3.8651e-01, 3.0695e+00, 7.2966e-01,\n",
              "         3.1255e-01, 7.2963e-01],\n",
              "        [7.9080e+00, 1.1653e+01, 2.1762e+01, 5.1116e+00, 2.6922e+01, 6.8971e-01,\n",
              "         5.1148e-01, 1.6609e-01],\n",
              "        [7.4988e+00, 7.2693e-01, 6.6598e+00, 4.3394e+00, 7.2074e+00, 6.9951e-01,\n",
              "         4.0067e-01, 9.9144e-01],\n",
              "        [1.2369e+01, 1.1342e+01, 1.8747e+01, 2.4539e+01, 2.8350e+01, 3.4607e-01,\n",
              "         9.8889e-01, 9.1964e-01],\n",
              "        [5.6269e-01, 9.6627e-01, 2.2368e+00, 5.6722e-01, 3.0459e+00, 5.0570e-01,\n",
              "         8.8955e-01, 3.1511e-01],\n",
              "        [8.8806e+00, 2.8868e+00, 6.2247e+00, 8.3957e+00, 1.0901e+01, 6.9849e-01,\n",
              "         6.6585e-01, 3.9647e-02],\n",
              "        [2.4981e+00, 1.4142e+00, 3.3640e+00, 4.2315e+00, 5.2198e+00, 3.7135e-01,\n",
              "         3.0569e-01, 2.7639e-01],\n",
              "        [1.4194e+01, 4.9919e+01, 3.2870e+01, 2.5839e+01, 6.3558e+01, 4.2122e-01,\n",
              "         6.3338e-01, 8.8795e-01],\n",
              "        [1.1804e+01, 5.4270e-01, 3.3546e+00, 1.2514e+01, 9.6485e+00, 2.6164e-01,\n",
              "         3.5385e-01, 3.5229e-01],\n",
              "        [4.5163e+00, 2.2221e+00, 1.0109e+01, 4.0998e+00, 1.3811e+01, 7.9107e-01,\n",
              "         9.8121e-01, 9.4859e-02],\n",
              "        [1.0945e+01, 6.3388e+00, 2.4871e+01, 1.5066e+01, 2.7636e+01, 8.0227e-01,\n",
              "         6.2369e-01, 3.0674e-01],\n",
              "        [1.0699e+01, 3.4387e+00, 4.7826e+00, 5.3977e+00, 5.9746e+00, 8.2234e-01,\n",
              "         2.7909e-01, 6.6213e-02],\n",
              "        [1.0386e+00, 3.8305e-01, 9.2104e-02, 2.5495e-01, 1.7386e+00, 9.9722e-01,\n",
              "         1.9448e-01, 4.7337e-01],\n",
              "        [4.0633e+00, 1.1236e+01, 3.0767e+00, 1.1672e+01, 1.5665e+01, 6.5352e-02,\n",
              "         5.7166e-01, 4.9504e-01],\n",
              "        [1.8355e+00, 5.6739e+00, 7.0316e+00, 3.9951e+00, 9.8116e+00, 7.7892e-02,\n",
              "         1.2753e-01, 6.8224e-01],\n",
              "        [4.5862e+00, 6.0026e-01, 3.5830e+00, 3.7609e+00, 3.5204e+00, 5.0608e-01,\n",
              "         3.1944e-01, 4.1831e-01],\n",
              "        [2.5149e+00, 5.1195e+00, 1.2437e+00, 1.5738e-01, 6.3992e+00, 4.7150e-01,\n",
              "         2.6652e-01, 2.6410e-01],\n",
              "        [6.3505e+00, 3.4759e-01, 4.2797e+00, 4.4078e+00, 1.2390e+01, 1.8119e-01,\n",
              "         2.8906e-01, 8.1329e-01],\n",
              "        [1.0381e+01, 1.5453e+00, 1.1304e+01, 1.1380e+01, 1.0454e+01, 5.2298e-01,\n",
              "         7.1223e-01, 5.9614e-01]])"
            ]
          },
          "execution_count": 48,
          "metadata": {},
          "output_type": "execute_result"
        }
      ],
      "source": [
        "rho_example, epsilon_example, vx_example, vy_example, vz_example, Bx_example, By_example, Bz_example, b0_example, b1_example, b2_example, b3_example = sample_primitive_variables(20)\n",
        "\n",
        "# Create arbitrary input\n",
        "inputs =  generate_input_data(rho_example, epsilon_example, vx_example, vy_example, vz_example, Bx_example, By_example, Bz_example, b0_example, b1_example, b2_example, b3_example)\n",
        "inputs"
      ]
    },
    {
      "cell_type": "code",
      "execution_count": 49,
      "metadata": {
        "colab": {
          "base_uri": "https://localhost:8080/"
        },
        "id": "QVa1upmFUZip",
        "outputId": "95a297df-88d8-4614-ffd7-ecc0cda58cf9"
      },
      "outputs": [
        {
          "data": {
            "text/plain": [
              "[tensor([[10.5906]], grad_fn=<ReluBackward0>),\n",
              " tensor([[0.5607]], grad_fn=<ReluBackward0>),\n",
              " tensor([[8.6449]], grad_fn=<ReluBackward0>),\n",
              " tensor([[1.9403]], grad_fn=<ReluBackward0>),\n",
              " tensor([[4.5502]], grad_fn=<ReluBackward0>),\n",
              " tensor([[0.3068]], grad_fn=<ReluBackward0>),\n",
              " tensor([[4.0986]], grad_fn=<ReluBackward0>),\n",
              " tensor([[1.2930]], grad_fn=<ReluBackward0>),\n",
              " tensor([[13.1462]], grad_fn=<ReluBackward0>),\n",
              " tensor([[2.8950]], grad_fn=<ReluBackward0>),\n",
              " tensor([[5.2447]], grad_fn=<ReluBackward0>),\n",
              " tensor([[6.4780]], grad_fn=<ReluBackward0>),\n",
              " tensor([[1.9662]], grad_fn=<ReluBackward0>),\n",
              " tensor([[0.3887]], grad_fn=<ReluBackward0>),\n",
              " tensor([[2.8592]], grad_fn=<ReluBackward0>),\n",
              " tensor([[1.7193]], grad_fn=<ReluBackward0>),\n",
              " tensor([[0.5382]], grad_fn=<ReluBackward0>),\n",
              " tensor([[2.5945]], grad_fn=<ReluBackward0>),\n",
              " tensor([[7.1171]], grad_fn=<ReluBackward0>),\n",
              " tensor([[0.6376]], grad_fn=<ReluBackward0>)]"
            ]
          },
          "execution_count": 49,
          "metadata": {},
          "output_type": "execute_result"
        }
      ],
      "source": [
        "#%%script echo skipping\n",
        "\n",
        "# Pass the inputs to the network and get the outputs\n",
        "outputs = [net(input.unsqueeze(0)) for input in inputs]\n",
        "# Print the outputs\n",
        "outputs"
      ]
    },
    {
      "cell_type": "code",
      "execution_count": 50,
      "metadata": {
        "colab": {
          "base_uri": "https://localhost:8080/"
        },
        "id": "E-Xjfo7VUZir",
        "outputId": "fb0478cb-bee3-429f-fdec-d99f11baf40f"
      },
      "outputs": [
        {
          "data": {
            "text/plain": [
              "[tensor([[10.5906]], grad_fn=<ReluBackward0>),\n",
              " tensor([[0.5607]], grad_fn=<ReluBackward0>),\n",
              " tensor([[8.6449]], grad_fn=<ReluBackward0>),\n",
              " tensor([[1.9403]], grad_fn=<ReluBackward0>),\n",
              " tensor([[4.5502]], grad_fn=<ReluBackward0>),\n",
              " tensor([[0.3068]], grad_fn=<ReluBackward0>),\n",
              " tensor([[4.0986]], grad_fn=<ReluBackward0>),\n",
              " tensor([[1.2930]], grad_fn=<ReluBackward0>),\n",
              " tensor([[13.1462]], grad_fn=<ReluBackward0>),\n",
              " tensor([[2.8950]], grad_fn=<ReluBackward0>),\n",
              " tensor([[5.2447]], grad_fn=<ReluBackward0>),\n",
              " tensor([[6.4780]], grad_fn=<ReluBackward0>),\n",
              " tensor([[1.9662]], grad_fn=<ReluBackward0>),\n",
              " tensor([[0.3887]], grad_fn=<ReluBackward0>),\n",
              " tensor([[2.8592]], grad_fn=<ReluBackward0>),\n",
              " tensor([[1.7193]], grad_fn=<ReluBackward0>),\n",
              " tensor([[0.5382]], grad_fn=<ReluBackward0>),\n",
              " tensor([[2.5945]], grad_fn=<ReluBackward0>),\n",
              " tensor([[7.1171]], grad_fn=<ReluBackward0>),\n",
              " tensor([[0.6376]], grad_fn=<ReluBackward0>)]"
            ]
          },
          "execution_count": 50,
          "metadata": {},
          "output_type": "execute_result"
        }
      ],
      "source": [
        "\n",
        "# Pass the inputs to the network and get the outputs\n",
        "outputs = [net_loaded(input.unsqueeze(0)) for input in inputs]\n",
        "# Print the outputs\n",
        "outputs"
      ]
    },
    {
      "cell_type": "markdown",
      "metadata": {
        "id": "xjpIvdybUZis"
      },
      "source": [
        "## Porting the model to C++"
      ]
    },
    {
      "cell_type": "code",
      "execution_count": 67,
      "metadata": {
        "colab": {
          "base_uri": "https://localhost:8080/"
        },
        "id": "VMlEd4RoUZis",
        "outputId": "d5bfc697-8c96-47bb-a08c-6fb26f463797"
      },
      "outputs": [
        {
          "data": {
            "text/plain": [
              "Net(\n",
              "  (hidden_activation): ReLU()\n",
              "  (output_activation): ReLU()\n",
              "  (layers): ModuleList(\n",
              "    (0): Linear(in_features=8, out_features=555, bias=True)\n",
              "    (1): Linear(in_features=555, out_features=458, bias=True)\n",
              "    (2): Linear(in_features=458, out_features=115, bias=True)\n",
              "    (3): Linear(in_features=115, out_features=1, bias=True)\n",
              "  )\n",
              ")"
            ]
          },
          "execution_count": 67,
          "metadata": {},
          "output_type": "execute_result"
        },
        {
          "name": "stdout",
          "output_type": "stream",
          "text": [
            "input shape:  torch.Size([1, 8])\n",
            "input:  tensor([[7.7606, 3.8938, 5.0599, 4.8451, 9.1032, 0.2814, 0.7417, 0.5824]])\n",
            "Output: tensor([[3.7908]], grad_fn=<ReluBackward0>)\n"
          ]
        },
        {
          "name": "stderr",
          "output_type": "stream",
          "text": [
            "/tmp/ipykernel_770055/2739891698.py:53: TracerWarning: Converting a tensor to a Python boolean might cause the trace to be incorrect. We can't record the data flow of Python values, so this value will be treated as a constant in the future. This means that the trace might not generalize to other inputs!\n",
            "  assert x.shape[1] == 8, \"x must have shape (batch_size, 8)\"\n"
          ]
        }
      ],
      "source": [
        "import torch.jit\n",
        "\n",
        "# Creating a dummy input tensor of shape (1, 5) to trace the model\n",
        "dummy_input = torch.randn(1, 8).to(device)\n",
        "\n",
        "# Ensure that net_loaded is in evaluation mode.\n",
        "net_loaded.eval()\n",
        "\n",
        "# Tracing the model using the torch.jit.trace function\n",
        "traced_model = torch.jit.trace(net_loaded, dummy_input)\n",
        "\n",
        "# Saving the traced model to a file named \"net.pt\"\n",
        "traced_model.save(\"net.pt\")\n",
        "save_file(\"net.pt\")\n",
        "\n",
        "example_input_to_validate_correct_export_and_import = generate_input_data(*sample_primitive_variables(1))\n",
        "print(\"input shape: \", example_input_to_validate_correct_export_and_import.shape)\n",
        "print(\"input: \", example_input_to_validate_correct_export_and_import)\n",
        "print(\"Output:\", net_loaded(example_input_to_validate_correct_export_and_import))"
      ]
    }
  ],
  "metadata": {
    "accelerator": "GPU",
    "colab": {
      "gpuType": "T4",
      "provenance": [],
      "toc_visible": true
    },
    "gpuClass": "standard",
    "kernelspec": {
      "display_name": "bsc",
      "language": "python",
      "name": "python3"
    },
    "language_info": {
      "codemirror_mode": {
        "name": "ipython",
        "version": 3
      },
      "file_extension": ".py",
      "mimetype": "text/x-python",
      "name": "python",
      "nbconvert_exporter": "python",
      "pygments_lexer": "ipython3",
      "version": "3.11.3"
    },
    "orig_nbformat": 4
  },
  "nbformat": 4,
  "nbformat_minor": 0
}
